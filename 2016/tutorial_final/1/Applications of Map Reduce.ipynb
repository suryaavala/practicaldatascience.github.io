{
 "cells": [
  {
   "cell_type": "markdown",
   "metadata": {},
   "source": [
    "# Introduction to MapReduce\n",
    "\n",
    "This tutorial will introduce you to MapReduce, a common programming model for generating and processing large data sets using a distributed algorithm. The primary advantage of MapReduce lies in its ability to use large sets of computers (nodes or clusters) to parallelize data computation and processing. The paradigm has a wide range of applications including in machine learning, image processing, statistical machine translation, and distributed file systems, among others. We will first explore a proverbial application of MapReduce to learn basics, and then dive into more complicated applications like document and k-means clustering.\n",
    "\n",
    "Many companies and open source contributers have invested years in refining implementations of MapReduce including Apache Hadoop, Amazon Elastic, Python's Disco, and Google's MapReduce. These are complex frameworks aimed at running distributed jobs across many physical/virtual machines. To reduce complexity we will be using Mincemeat to run jobs on our local machines. It's a lightweight proof of concept implementation of the paradigm that runs locally. \n",
    "\n",
    "To get mincemeat setup, simply run the following command in the same folder as this notebook. \n",
    "\n",
    "```\n",
    "    $ wget https://raw.githubusercontent.com/michaelfairley/mincemeatpy/v0.1.4/mincemeat.py\n",
    "```\n",
    "\n",
    "Please visit the [github](https://github.com/michaelfairley/mincemeatpy) if you need additional assistance setting up. Once that is setup, ensure the following works for you:"
   ]
  },
  {
   "cell_type": "code",
   "execution_count": 177,
   "metadata": {
    "collapsed": false
   },
   "outputs": [
    {
     "name": "stderr",
     "output_type": "stream",
     "text": [
      "/Users/aatishn/Documents/15388/env-15388/lib/python2.7/site-packages/matplotlib/__init__.py:1357: UserWarning:  This call to matplotlib.use() has no effect\n",
      "because the backend has already been chosen;\n",
      "matplotlib.use() must be called *before* pylab, matplotlib.pyplot,\n",
      "or matplotlib.backends is imported for the first time.\n",
      "\n",
      "  warnings.warn(_use_error_msg)\n"
     ]
    }
   ],
   "source": [
    "import requests\n",
    "import mincemeat \n",
    "import re\n",
    "import scipy as sp\n",
    "import numpy as np\n",
    "import matplotlib\n",
    "\n",
    "matplotlib.use(\"svg\")\n",
    "\n",
    "import matplotlib.pyplot as plt\n",
    "%matplotlib inline\n",
    "plt.style.use('ggplot')\n",
    "matplotlib.rcParams['figure.figsize'] = (10.0, 5.0) # you should adjust this to fit your screen"
   ]
  },
  {
   "cell_type": "markdown",
   "metadata": {},
   "source": [
    "We will start with the proverbial MapReduce application of counting the frequency of alphabetic characters in a large piece of text. First we will write a couple lines of Python to retreive the text:\n"
   ]
  },
  {
   "cell_type": "code",
   "execution_count": 2,
   "metadata": {
    "collapsed": false
   },
   "outputs": [],
   "source": [
    "url = \"https://en.wikipedia.org/wiki/MapReduce\"\n",
    "resp = requests.get(url)\n",
    "data = resp.content.split(\"\\n\")\n"
   ]
  },
  {
   "cell_type": "markdown",
   "metadata": {},
   "source": [
    "As the name suggests, the pipeline starts with the Map(). This step typically filters and transforms the data. In this example, we will take each line of input and make a tuple for each character. Thus, it will look like this: (char, 1)"
   ]
  },
  {
   "cell_type": "code",
   "execution_count": 3,
   "metadata": {
    "collapsed": true
   },
   "outputs": [],
   "source": [
    "def mapfn(key, line):\n",
    "    for c in line.lower():\n",
    "        # Only consider alphabet\n",
    "        if 'a' <= c and c <= 'z':\n",
    "            yield (c, 1)"
   ]
  },
  {
   "cell_type": "markdown",
   "metadata": {},
   "source": [
    "Next, we will do Reduce(). This step typically performs a summary or aggregation operation. In this example, it will sum up all the occurences of the same character, yielding one count for each character. "
   ]
  },
  {
   "cell_type": "code",
   "execution_count": null,
   "metadata": {
    "collapsed": true
   },
   "outputs": [],
   "source": [
    "def reducefn(key, counts):\n",
    "    return sum(counts)"
   ]
  },
  {
   "cell_type": "markdown",
   "metadata": {},
   "source": [
    "Now that we have both function, we can run our MapReduce job and plot the results."
   ]
  },
  {
   "cell_type": "code",
   "execution_count": null,
   "metadata": {
    "collapsed": false
   },
   "outputs": [],
   "source": [
    "# The data source can be any dictionary-like object\n",
    "datasource = dict(enumerate(data))\n",
    "\n",
    "s = mincemeat.Server()\n",
    "s.datasource = data\n",
    "s.mapfn = mapfn\n",
    "s.reducefn = reducefn\n",
    "\n",
    "results = s.run_server(password=\"changeme\")\n",
    "print results"
   ]
  },
  {
   "cell_type": "markdown",
   "metadata": {
    "collapsed": true
   },
   "source": [
    "You should get the following output:\n",
    "\n",
    "```\n",
    "{'a': 9283, 'c': 4384, 'b': 1435, 'e': 11102, 'd': 3649, 'g': 2856, 'f': 2789, 'i': 8886, 'h': 2647, 'k': 1514, 'j': 222, 'm': 2814, 'l': 6222, 'o': 6234, 'n': 5520, 'q': 90, 'p': 4008, 's': 6009, 'r': 6214, 'u': 2412, 't': 8258, 'w': 1832, 'v': 915, 'y': 913, 'x': 635, 'z': 188}\n",
    "```\n",
    "\n",
    "This by itself does not make that much sense to a data scientist. Let's plot the frequencies and see if we can see something interesting. "
   ]
  },
  {
   "cell_type": "code",
   "execution_count": 4,
   "metadata": {
    "collapsed": false
   },
   "outputs": [
    {
     "name": "stderr",
     "output_type": "stream",
     "text": [
      "/Users/aatishn/Documents/15388/env-15388/lib/python2.7/site-packages/matplotlib/figure.py:397: UserWarning: matplotlib is currently using a non-GUI backend, so cannot show the figure\n",
      "  \"matplotlib is currently using a non-GUI backend, \"\n"
     ]
    },
    {
     "data": {
      "image/png": "[encoded data removed]",
      "text/plain": [
       "<matplotlib.figure.Figure at 0x1059c9490>"
      ]
     },
     "metadata": {},
     "output_type": "display_data"
    }
   ],
   "source": [
    "xs, ys = results.keys(), results.values()\n",
    "x = sp.arange(len(xs))\n",
    "y = sp.array(ys)\n",
    "f = plt.figure()\n",
    "ax = f.add_axes([0,0,1.5,1])\n",
    "ax.bar(x, y, align=\"center\")\n",
    "ax.set_xticks(x)\n",
    "ax.set_xticklabels(xs)\n",
    "f.show()"
   ]
  },
  {
   "cell_type": "markdown",
   "metadata": {},
   "source": [
    "As you can see, the graph shows the most popular letters are a, e, and t. In general, these are some of the most common letters in the English language. This is a very trivial application of MapReduce, however it illustrates the pipeline. The following figure shows the transfer of data and what the whole process looks like. We'll cover more complicated examples in the next section. \n",
    "\n",
    "\n",
    "![MapReduce Image](mapreduceimage.gif)\n"
   ]
  },
  {
   "cell_type": "markdown",
   "metadata": {},
   "source": [
    "# Document Clustering with MapReduce"
   ]
  },
  {
   "cell_type": "markdown",
   "metadata": {},
   "source": [
    "Document clustering is the application of cluster analysis to group documents together. It has various applications in search engines, fast information retreival, and automatic document organization, among others. The process typically involves the following steps: tokenization, stemming, removing stop words and punctuation, clustering, and evaluation. The premise of clustering involves the use and determination of a unique descriptor. A descriptor is a set of parsed works that describe the contents of each cluster. Text with relative distances (discussed below) within a certain range are put into the same bucket or cluster.\n",
    "\n",
    "In this example, we will be analyzing grouping a text of athletic product titles:\n",
    "\n",
    "```\n",
    "Converse All Star PC2 - Boys' Toddler\n",
    "Converse All Star PC2 - Girls' Toddler\n",
    "HI Nike Sport Girls Golf Dress\n",
    "Brooks Nightlife Infiniti 1/2 Zip - Women's\n",
    "HI Nike Solid Girls Golf Shorts\n",
    "Nike Therma-FIT K.O. (MLB Rays)\n",
    "adidas adiPURE IV TRX FG - Men's\n",
    "Nike College All-Purpose Seasonal Graphic (Oklahoma) Womens T-Shirt\n",
    "adidas Adipure 11PRO TRX FG - Women's\n",
    "HI Nike Team (NFL Giants) BCA Womens T-Shirt\n",
    "adidas Sprintstar 4 - Men's\n",
    "HI Nike Attitude (NFL Titans) BCA Womens T-Shirt\n",
    "HI Nike Polo Girls Golf Dress\n",
    "Nike Therma-FIT K.O. (MLB Twins)\n",
    "adidas Sprintstar 3 - Women's\n",
    "Under Armour Performance Team Polo - Mens - For All Sports - Clothing - Purple/White\n",
    "Converse All Star Ox - Girls' Toddler\n",
    "HI Nike College All-Purpose Seasonal Graphic (Washington) Womens T-Shirt\n",
    "Under Armour Performance Team Polo - Mens - For All Sports - Clothing - Red/White\n",
    "Nike Therma-FIT K.O. (MLB Phillies)\n",
    "Brooks Nightlife Infiniti 1/2 Zip Jacket - Mens\n",
    "HI Nike Attitude (NFL Titans) BCA Mens Pants\n",
    "HI Nike College All-Purpose Seasonal Graphic (Virginia) Mens T-Shirt\n",
    "HI Nike Team (NFL Steelers) BCA Mens T-Shirt\n",
    "Nike College All-Purpose Seasonal Graphic (Virginia) Mens T-Shirt\n",
    "\n",
    "```\n",
    "\n",
    "First, we must contruct a unique descriptor or fingerprint for each title that will involve removing special chars, numbers, stop words (from NLTK), stemming each word, and sorting in alphbetical order. Stop words are usually universal words that do not provide additional information about the text (the, a, for, all, it, etc.). There is no universal list, however NLTK, a natural language processing library, has a fairly comprehensive list."
   ]
  },
  {
   "cell_type": "code",
   "execution_count": 330,
   "metadata": {
    "collapsed": false
   },
   "outputs": [],
   "source": [
    "import string\n",
    "import nltk\n",
    "from stemming.porter2 import stem\n",
    " \n",
    "class FingerPrint(object):\n",
    "    def __init__(self):\n",
    "        # Remove special characters \n",
    "        self.spec_char_regex = re.compile('[%s]' % re.escape(string.punctuation))\n",
    "        # Regex for determining numbers\n",
    "        self.nums_regex = re.compile('[\\d]+')\n",
    "        # All stop \n",
    "        self.stopwords = nltk.corpus.stopwords.words('english')\n",
    " \n",
    "    def helper(self, text):\n",
    "        text_lower = text.strip().lower()\n",
    "        \n",
    "        # Remove special characters and numbers\n",
    "        spec_char_removed = self.spec_char_regex.sub(\" \", text_lower)\n",
    "        number_removed = self.nums_regex.sub(\"\", spec_char_removed)\n",
    "        words = number_removed.split()\n",
    "        \n",
    "        # Remove stop words\n",
    "        filter_stop_words = [w for w in words if w not in self.stopwords]\n",
    "        \n",
    "        # Stem and sort \n",
    "        return sorted(map(stem, filter_stop_words))\n",
    "     \n",
    "    def fingerprint(self,text):\n",
    "        fp = \" \".join(self.helper(text))\n",
    "        return fp\n",
    "\n",
    "f = FingerPrint()"
   ]
  },
  {
   "cell_type": "markdown",
   "metadata": {},
   "source": [
    "#### Important Change\n",
    "The mapreduce framework we previously used, mincemeat, allows for only stateless computations. In other words, each key/value pair is considered independantly from others; this makes mapreduce perform really well in parallel. There's no way to track what we have computed previously. This proposes a challenge for document clustering which inherently has to consider relative distances between text. Thus, we will design our own stateful map and reduce functions, and pipe the output into each one. \n",
    "\n",
    "The map function will take each line and create a tuple of the line's fingerprint and the line itself with leading and trailing whitespace removed. The reduce function will use these two to determine the relative \"distance\" or similarity between two words."
   ]
  },
  {
   "cell_type": "code",
   "execution_count": 54,
   "metadata": {
    "collapsed": true
   },
   "outputs": [],
   "source": [
    "def mapfn(key, line):\n",
    "    return (f.fingerprint(line), line.strip())"
   ]
  },
  {
   "cell_type": "markdown",
   "metadata": {},
   "source": [
    "The reduce function will take the mapped output and distribute each line into clusters. Relative distance between a two lines' descriptors will be determined using the Levenshtein distance i.e. the minimum number of single characters that need to change or be added/deleted to turn one string into the other. This is sometimes referred to as the minimum edit distance. \n",
    "\n",
    "For example, the Levenshtein distance between computer and consumer is 3: \n",
    "\n",
    "computer -> co**n**puter -> con**s**uter -> consu**m**er\n",
    "\n",
    "We define a max default value of 20 for now. You can edit this value and see how it affects our clustering. "
   ]
  },
  {
   "cell_type": "code",
   "execution_count": 331,
   "metadata": {
    "collapsed": false
   },
   "outputs": [],
   "source": [
    "from Levenshtein import distance as ldist\n",
    "clusters = {}\n",
    "\n",
    "# Change this and see what happens\n",
    "MAX_DIST = 20\n",
    "\n",
    "def reducefn(lines):\n",
    "    clusters[0] = [lines[0]]\n",
    "    i = 0\n",
    "    for f, text in lines[1:]:\n",
    "        prevf, _ = clusters[i][-1]\n",
    "        \n",
    "        if ldist(prevf, f) <= MAX_DIST:\n",
    "            clusters[i].append((f, text))\n",
    "        else:\n",
    "            i += 1\n",
    "            clusters[i] = [(f, text)]\n",
    "    \n",
    "    return clusters"
   ]
  },
  {
   "cell_type": "code",
   "execution_count": 100,
   "metadata": {
    "collapsed": false
   },
   "outputs": [],
   "source": [
    "# The data source can be any dictionary-like object\n",
    "with open('doc-data.txt', 'rb') as fd:\n",
    "    data = fd.readlines()\n",
    "    data.sort()\n",
    "    del fd\n",
    "\n",
    "data = dict(enumerate(data))\n",
    "\n",
    "# Map input\n",
    "mapoutput = [mapfn(k, data[k].strip()) for k in data.keys()]\n",
    "\n",
    "# Reduce map output\n",
    "clusters = reducefn(mapoutput)\n",
    "\n",
    "# Print output\n",
    "for k in clusters.keys():\n",
    "    print \" \"\n",
    "    print \"Cluster #\"+str(k)\n",
    "    for l in clusters[k]:\n",
    "        print l[1]"
   ]
  },
  {
   "cell_type": "markdown",
   "metadata": {},
   "source": [
    "You should see the following clustering results.\n",
    "\n",
    "\n",
    "```\n",
    "Cluster #0\n",
    "Brooks Nightlife Infiniti 1/2 Zip - Women's\n",
    "Brooks Nightlife Infiniti 1/2 Zip Jacket - Mens\n",
    " \n",
    "Cluster #1\n",
    "Converse All Star Ox - Girls' Toddler\n",
    "Converse All Star PC2 - Boys' Toddler\n",
    "Converse All Star PC2 - Girls' Toddler\n",
    " \n",
    "Cluster #2\n",
    "HI Nike Attitude (NFL Titans) BCA Mens Pants\n",
    "HI Nike Attitude (NFL Titans) BCA Womens T-Shirt\n",
    " \n",
    "Cluster #3\n",
    "HI Nike College All-Purpose Seasonal Graphic (Virginia) Mens T-Shirt\n",
    "HI Nike College All-Purpose Seasonal Graphic (Washington) Womens T-Shirt\n",
    " \n",
    "Cluster #4\n",
    "HI Nike Polo Girls Golf Dress\n",
    "HI Nike Solid Girls Golf Shorts\n",
    "HI Nike Sport Girls Golf Dress\n",
    " \n",
    "Cluster #5\n",
    "HI Nike Team (NFL Giants) BCA Womens T-Shirt\n",
    "HI Nike Team (NFL Steelers) BCA Mens T-Shirt\n",
    " \n",
    "Cluster #6\n",
    "Nike College All-Purpose Seasonal Graphic (Oklahoma) Womens T-Shirt\n",
    "Nike College All-Purpose Seasonal Graphic (Virginia) Mens T-Shirt\n",
    " \n",
    "Cluster #7\n",
    "Nike Therma-FIT K.O. (MLB Phillies)\n",
    "Nike Therma-FIT K.O. (MLB Rays)\n",
    "Nike Therma-FIT K.O. (MLB Twins)\n",
    " \n",
    "Cluster #8\n",
    "Under Armour Performance Team Polo - Mens - For All Sports - Clothing - Purple/White\n",
    "Under Armour Performance Team Polo - Mens - For All Sports - Clothing - Red/White\n",
    " \n",
    "Cluster #9\n",
    "adidas Adipure 11PRO TRX FG - Women's\n",
    "adidas Sprintstar 3 - Women's\n",
    "adidas Sprintstar 4 - Men's\n",
    "adidas adiPURE IV TRX FG - Men's\n",
    "```"
   ]
  },
  {
   "cell_type": "markdown",
   "metadata": {
    "collapsed": true
   },
   "source": [
    "# Page Rank with MapReduce\n",
    "\n",
    "PageRank is a very popular algorithm to rank nodes in a graph depending on how many edges it has. Since it's the basis for Google's search algorithm, it's most commonly used in search engines to rank website pages based on how many pages link to it. The basic premise is that each node's PageRank is determined by the contribution of its neighbor's PageRank. The neighbors also have to distribute their PageRank evenly amongst its neighbors. The following figure shows a sample graph. Notice that each node has a percentage that represents the fraction of the total PageRank that node gets. Typically, each node is first assigned a PageRank of 1 at the start of the algorithm. \n",
    "\n",
    "![image](https://upload.wikimedia.org/wikipedia/commons/thumb/f/fb/PageRanks-Example.svg/400px-PageRanks-Example.svg.png)\n",
    "\n",
    "The PageRank of a node is represented by the following equation. ![image](https://wikimedia.org/api/rest_v1/media/math/render/svg/9f853c33de82a94b16ff0ea7e7a7346620c0ea04)\n",
    "\n",
    "**p<sub>i</sub>** is the ith page. **M(p<sub>i</sub>)** is the set of pages that link to **p<sub>i</sub>** (in-neighbors). **L(p<sub>j</sub>)** is the number of pages that link to **p<sub>j</sub>**. **N** is the total number of pages. We assume someone clicking through pages will click until they explore the whole graph. However, obviously this isn't a realistic assumption because no matter how much you procrastinate you can't explore the whole internet. Thus, **d** is the probability that someone will stop clicking, or damping factor. \n",
    "\n",
    "PageRank also is a great candidate for MapReduce because the summations and page ranks can be calculated in parallel. However, since we need access to precomputed info, we will not be using mincemeat. \n",
    "\n",
    "We will be ranking pages obtained from the Stanford Web Graph dataset from 2003. Even back then the internet was still massive, thus we will only be using 1000 nodes. It also includes a lot of information that we will not use in this example. However, we will also be using undirected graphs, thus outgoing and ingoing edges are equal for a node.\n",
    "\n",
    "Ensure the following housekeeping lines compile. We will be using a damping factor of 0.85. Try to change it and see what happens to the results. "
   ]
  },
  {
   "cell_type": "code",
   "execution_count": 329,
   "metadata": {
    "collapsed": true
   },
   "outputs": [],
   "source": [
    "from collections import namedtuple\n",
    "Line = namedtuple('Line', 'node_num pr neighbors')\n",
    "DELTA = 0.85 # damping factor"
   ]
  },
  {
   "cell_type": "markdown",
   "metadata": {},
   "source": [
    "The map function takes in a key (the node number) and a Line tuple as defined above. It loops through all the neighbors, if they exist, and computes the current pagerank divided by the number of neighbors of the current node. This is what I referred to above as distributing a node's PageRank. It returns a list of all mapped neighbors. "
   ]
  },
  {
   "cell_type": "code",
   "execution_count": 314,
   "metadata": {
    "collapsed": true
   },
   "outputs": [],
   "source": [
    "def map_pr(key, l):\n",
    "    if len(l.neighbors) == 0:\n",
    "        return [Line(l.node_num, l.pr, [])]\n",
    "    out = []\n",
    "    # Loop through all neighbors of current node\n",
    "    for node in l.neighbors:\n",
    "        # Divide current page rank by number of neighbors (L(pj) in equation)\n",
    "        out.append(Line(node, l.pr / len(l.neighbors), []))\n",
    "    return out"
   ]
  },
  {
   "cell_type": "markdown",
   "metadata": {},
   "source": [
    "The reduce function gets the new PageRank by applying the above formula with the damping factor. It has access to a pre-computed ranks dictionary that we will discuss below. It returns the node number, the new PageRank, and the number of neighbors. We will use this data later to graph the results."
   ]
  },
  {
   "cell_type": "code",
   "execution_count": 300,
   "metadata": {
    "collapsed": true
   },
   "outputs": [],
   "source": [
    "def reduce_pr(l):\n",
    "    # Get new pagerank by multiplying current rank with alpha\n",
    "    new_pr = (1 - DELTA) + DELTA * ranks[l.node_num]\n",
    "    \n",
    "    # Update page ranks\n",
    "    return (l.node_num, new_pr, len(l.neighbors))\n"
   ]
  },
  {
   "cell_type": "markdown",
   "metadata": {},
   "source": [
    "The `parse_line()` function parses the data from the text file. Most of it is self explanatory. The `run_map()` function loops through all parse lines, calls the map function on each one, and collects the results. "
   ]
  },
  {
   "cell_type": "code",
   "execution_count": 312,
   "metadata": {
    "collapsed": true
   },
   "outputs": [],
   "source": [
    "def parse_line_map(line):\n",
    "    l = line.strip().split(\"\\t\")\n",
    "    \n",
    "    key = l[0]\n",
    "    value = l[1]\n",
    "    \n",
    "    # Get Node number\n",
    "    node_num = int(''.join(x for x in key if x.isdigit()))\n",
    "    \n",
    "    # We can do multiple iterations so on the first one, add prefix with iteration num and rank\n",
    "    if not value.startswith(\"i\"):  \n",
    "        value = \"i0,r-1,\" + value   # On the first iteration we add an iteration marker and an initial rank\n",
    "    value = value.split(\",\")\n",
    "    \n",
    "    # Extract iteration number\n",
    "    iter_num = int(value[0][1:])\n",
    "    \n",
    "    # Extract current rank\n",
    "    rank = int(value[1][1:])\n",
    "    \n",
    "    # Extract previous and current pagerank \n",
    "    pr = float(value[2])\n",
    "    prev_pr = float(value[3])\n",
    "    \n",
    "    # Extract all neighbor node numbers if they exist\n",
    "    neighbors = map(int, value[4:]) if len(value) > 3 else []\n",
    "    \n",
    "    return Line(node_num, pr, neighbors)\n",
    "\n",
    "\n",
    "def run_map(lines):\n",
    "    output = []\n",
    "    for line in lines:\n",
    "        # Parse and create Line tuple\n",
    "        l = parse_line_map(line)\n",
    "        # Add node pagerank / degree to each page it links to\n",
    "        output.extend(map_pr(l.node_num, l)) \n",
    "        # Add current node back\n",
    "        output.append(l)\n",
    "    \n",
    "    return output"
   ]
  },
  {
   "cell_type": "markdown",
   "metadata": {},
   "source": [
    "The `run_reduce()` function loops through the lines obtained from the `map()` function, and saves the PageRank for each node in the ranks dictionary. It then calls the `reduce()` function on each line and collects the results."
   ]
  },
  {
   "cell_type": "code",
   "execution_count": 326,
   "metadata": {
    "collapsed": true
   },
   "outputs": [],
   "source": [
    "\n",
    "ranks = {}\n",
    "\n",
    "def run_reduce(lines):\n",
    "    nodes = []\n",
    "    for l in lines:\n",
    "        # Check if this line is a neighbor node i.e. computed as part of another node's map\n",
    "        if len(l.neighbors) == 0:\n",
    "            if not l.node_num in ranks:\n",
    "                ranks[l.node_num] = 0\n",
    "            # Add to pagerank\n",
    "            ranks[l.node_num] += float(l.pr)\n",
    "        else:\n",
    "            nodes.append(l)\n",
    "    \n",
    "    out = []\n",
    "    for l in nodes:\n",
    "        l = reduce_pr(l)\n",
    "        out.append(l)\n",
    "    return out"
   ]
  },
  {
   "cell_type": "markdown",
   "metadata": {},
   "source": [
    "This reads the data in from the file, calls the map and reduce runners, and plots the results. Each point represents a Node. "
   ]
  },
  {
   "cell_type": "code",
   "execution_count": 327,
   "metadata": {
    "collapsed": false
   },
   "outputs": [
    {
     "data": {
      "image/png": "[encoded data removed]",
      "text/plain": [
       "<matplotlib.figure.Figure at 0x116cd0f10>"
      ]
     },
     "metadata": {},
     "output_type": "display_data"
    }
   ],
   "source": [
    "# Extract data from file\n",
    "with open('pagerank_data.txt', 'rb') as fd:\n",
    "    lines = fd.readlines()\n",
    "    del fd\n",
    "\n",
    "map_output = run_map(lines)\n",
    "reduce_out = run_reduce(map_output)\n",
    "\n",
    "x = map(lambda t: t[2], reduce_out)\n",
    "y = map(lambda t: t[1], reduce_out)\n",
    "\n",
    "plt.yticks(np.arange(0, max(y)+1, 1))\n",
    "plt.xticks(np.arange(0, max(x)+30, 50))\n",
    "plt.xlabel(\"Number of Neighbors\")\n",
    "plt.ylabel(\"PageRank\")\n",
    "plt.scatter(x,y)\n",
    "plt.show()\n"
   ]
  },
  {
   "cell_type": "markdown",
   "metadata": {},
   "source": [
    "All the above code only does one iteration or summation. The PageRanks get more precise with more iterations. Additionally, you can see that there is a positive linear relationship between the number of neighbors and the PageRank of the Node. You can also notice that this graph had many nodes with less than 50 neighbors. The outliers and variability in the nodes is a result of the damping factor. Try changing the value and see if the outliers still exist.\n",
    "\n",
    "# Conclusion\n",
    "\n",
    "MapReduce has a plethora of applications in distributed computing, NLP, and data science. If you enjoyed this tutorial, you may want to look into more into each application or more MapReduce libraries like [Hadoop](http://hadoop.apache.org/)."
   ]
  }
 ],
 "metadata": {
  "kernelspec": {
   "display_name": "Python 2",
   "language": "python",
   "name": "python2"
  },
  "language_info": {
   "codemirror_mode": {
    "name": "ipython",
    "version": 2
   },
   "file_extension": ".py",
   "mimetype": "text/x-python",
   "name": "python",
   "nbconvert_exporter": "python",
   "pygments_lexer": "ipython2",
   "version": "2.7.10"
  }
 },
 "nbformat": 4,
 "nbformat_minor": 1
}
