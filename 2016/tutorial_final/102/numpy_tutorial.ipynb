{
 "cells": [
  {
   "cell_type": "markdown",
   "metadata": {},
   "source": [
    "# Matrix Calculation using Numpy\n",
    "\n",
    "This tutorial will lead you through the matrix calculation techniques we need while manipulate your dataset. We will start with some basic concepts and examples to give you a tast of numpy and follows with the tricks that might help and things we should know while choosing our tool. We will also include banchmark of several commonly used operations to illustrate the power of numpy.\n",
    "\n",
    "1. [Numpy](#Numpy)\n",
    "1. [Data Types and Objects](#Data-Types-and-Objects)\n",
    "1. [Vector](#Vector)\n",
    "1. [Matrix](#Matrix)\n",
    "1. [Broadcasting](#Broadcasting)\n",
    "1. [Universal Function (ufunc)](#ufunc)\n",
    "1. [Indexing](#Indexing)\n",
    "1. [Matrix Again](#Matrix-Again)\n",
    "1. [Some Tricks](#Some-Tricks)\n",
    "\n",
    "## Numpy\n",
    "NumPy is the fundamental package for scientific computing with Python. It contains among other things:\n",
    "\n",
    "+ a powerful N-dimensional array object\n",
    "+ sophisticated (broadcasting) functions\n",
    "+ tools for integrating C/C++ and Fortran code\n",
    "+ useful linear algebra, Fourier transform, and random number capabilities\n",
    "\n",
    "Besides its obvious scientific uses, NumPy can also be used as an efficient multi-dimensional container of generic data. Arbitrary data-types can be defined. This allows NumPy to seamlessly and speedily integrate with a wide variety of databases.\n",
    "\n",
    "To follow this tutorial, you will need to install numpy and then import it into this notebook by running the following block.\n"
   ]
  },
  {
   "cell_type": "code",
   "execution_count": 1,
   "metadata": {
    "collapsed": true
   },
   "outputs": [],
   "source": [
    "import numpy as np"
   ]
  },
  {
   "cell_type": "markdown",
   "metadata": {},
   "source": [
    "## Data Types and Objects\n",
    "`ndarray` is the super start of numpy and we will use it a lot in scientific computing. A ndarray object is a fixed size N-dimensional array containing data of the same type. There is another type of object we will intrduce you called `matrix` which is a specialized 2-D array that retains its 2-D nature through operations. `ndarray` and `matrix` are slitly different from each other while `ndarray` is the main object we use in this tutorial about matrix calculation but `matrix` has some good features you would like to know. We will cover there difference in all follow sections.\n",
    "\n",
    "The element-wize data type of a `ndarray` is defined by an attribute object of ndarray called dtype. Usually we can use `dtype` as a parameter when constructing an array or change the data type within an array.\n",
    "\n",
    "For example,\n",
    "We can create an array and change its element type as follows\n",
    "```python\n",
    ">>> arr = np.ones(5, dtype=bool)\n",
    ">>> arr\n",
    "array([ True,  True,  True,  True,  True], dtype=bool)\n",
    ">>> arr.astype(float)\n",
    "array([ 1.,  1.,  1.,  1.,  1.])\n",
    "\n",
    "```\n",
    "\n",
    "Numpy supports a great variety of numerical data types including bool, int, intc, int8, ..., int64, uint8, ..., uint64, float, ..., float64, etc. And we can also put other data types in an ndarray like datetime64, timedelta64. Strings are special in numpy. All the strings will be convert to a fixed size char-array in numpy to maintain memory consistancy.\n",
    "```python\n",
    ">>> np.array(['a', 'bc', 'd'])\n",
    "array(['a', 'bc', 'd'],\n",
    "      dtype='|S2')\n",
    "```"
   ]
  },
  {
   "cell_type": "markdown",
   "metadata": {},
   "source": [
    "## Vector\n",
    "There is not a specific vector type in numpy and all we need is an array with `rank = 1`. Usually, we can create a vector in two ways, conversion from other python structure and creating using numpy array object."
   ]
  },
  {
   "cell_type": "code",
   "execution_count": 2,
   "metadata": {
    "collapsed": false
   },
   "outputs": [
    {
     "name": "stdout",
     "output_type": "stream",
     "text": [
      "[ 1.  1.  1.  1.  1.  1.]\n",
      "[ 0.  0.  0.  0.  0.  0.]\n",
      "[ 0.  0.  0.  0.  0.  0.]\n"
     ]
    }
   ],
   "source": [
    "# conversion from other sturcture\n",
    "python_list = [6, 5, 4, 3, 2, 1]\n",
    "nparr = np.array(python_list)\n",
    "\n",
    "# numpy object\n",
    "print np.ones(6)\n",
    "print np.zeros(6)\n",
    "print np.empty(6) # this won't initialize the array, values are randomly assigned"
   ]
  },
  {
   "cell_type": "markdown",
   "metadata": {},
   "source": [
    "And if you check the shape of a vector, you will get a one-element tuple. And the shape stay the same even if you transpose the vector"
   ]
  },
  {
   "cell_type": "code",
   "execution_count": 3,
   "metadata": {
    "collapsed": false
   },
   "outputs": [
    {
     "name": "stdout",
     "output_type": "stream",
     "text": [
      "(6,)\n",
      "(6,)\n"
     ]
    }
   ],
   "source": [
    "print nparr.shape\n",
    "print nparr.T.shape"
   ]
  },
  {
   "cell_type": "markdown",
   "metadata": {},
   "source": [
    "Numpy array supports many useful basic vector operations. Arithmetic operators on arrays apply elementwise so a new array will be created and filled with the results."
   ]
  },
  {
   "cell_type": "code",
   "execution_count": 4,
   "metadata": {
    "collapsed": false
   },
   "outputs": [
    {
     "name": "stdout",
     "output_type": "stream",
     "text": [
      "[20 30 40 50] [0 1 2 3] [20 29 38 47]\n",
      "[0 1 4 9]\n",
      "[ True  True False False]\n",
      "[  0  30  80 150]\n"
     ]
    }
   ],
   "source": [
    "a = np.array([20,30,40,50])\n",
    "b = np.arange(4)\n",
    "print a, b, a-b\n",
    "print b**2\n",
    "print a<35\n",
    "print a*b"
   ]
  },
  {
   "cell_type": "markdown",
   "metadata": {},
   "source": [
    "Notice that vector multiplication is also element-wise so if you want to perform dot-multiplication between two vectors you will need to use `np.dot` function"
   ]
  },
  {
   "cell_type": "code",
   "execution_count": 5,
   "metadata": {
    "collapsed": false
   },
   "outputs": [
    {
     "name": "stdout",
     "output_type": "stream",
     "text": [
      "260\n"
     ]
    }
   ],
   "source": [
    "print np.dot(a,b)"
   ]
  },
  {
   "cell_type": "markdown",
   "metadata": {},
   "source": [
    "## Matrix\n",
    "A matrix in numpy is a ndarray with more than one dimissions. We can create a matrix in the same way as we do with vector."
   ]
  },
  {
   "cell_type": "code",
   "execution_count": 6,
   "metadata": {
    "collapsed": false
   },
   "outputs": [
    {
     "name": "stdout",
     "output_type": "stream",
     "text": [
      "[[  30.   30.]\n",
      " [  78.   78.]\n",
      " [ 126.  126.]]\n"
     ]
    }
   ],
   "source": [
    "mat1 = np.array([[1.,2.,3.,4.],[5.,6.,7.,8.],[9,10,11,12]])\n",
    "mat2 = np.ones((4, 2))\n",
    "mat2 = mat2 + 2\n",
    "print np.dot(mat1, mat2)"
   ]
  },
  {
   "cell_type": "markdown",
   "metadata": {},
   "source": [
    "Again, if you use `*` instead of np.dot, the calculation will be elementwise if the dimension match."
   ]
  },
  {
   "cell_type": "code",
   "execution_count": 7,
   "metadata": {
    "collapsed": false,
    "scrolled": true
   },
   "outputs": [
    {
     "name": "stdout",
     "output_type": "stream",
     "text": [
      "shape dont match\n"
     ]
    }
   ],
   "source": [
    "try:\n",
    "    mat1 * mat2 # ValueError will be raised.\n",
    "except ValueError:\n",
    "    print 'shape dont match'"
   ]
  },
  {
   "cell_type": "markdown",
   "metadata": {},
   "source": [
    "## Broadcasting\n",
    "Numpy applies broadcasting while operating arithmetic operation between two ndarray with different dimension. When doing broadcasting, numpy will firstly line up the dimension of the two arrays and apply broadcasting to each dimission if they satisfy,\n",
    "\n",
    "1. they are equal, *so the result will be the same*. Or\n",
    "2. one of them is 1 and *the result will be equal to the bigger dimension*\n",
    "\n",
    "For example, broadcasting will apply on two matrices with dimissions:\n",
    "```python\n",
    "# M1: 3 * 4 * 1\n",
    "# M2: 1 * 4 * 7\n",
    ">>> (M1+M2).shape\n",
    "(3, 4, 7)\n",
    "```\n",
    "And of course, broadcasting is much faster than operations between two arrays with same shape."
   ]
  },
  {
   "cell_type": "code",
   "execution_count": 8,
   "metadata": {
    "collapsed": false
   },
   "outputs": [
    {
     "name": "stdout",
     "output_type": "stream",
     "text": [
      "10000 loops, best of 3: 46.2 µs per loop\n",
      "10000 loops, best of 3: 61.4 µs per loop\n"
     ]
    }
   ],
   "source": [
    "m1 = np.random.random((30, 40, 70))\n",
    "m2 = np.ones((30, 40, 70)) * 3\n",
    "\n",
    "# These result of these two expression are equivalent but the first one is faster \n",
    "%timeit m1 + 3\n",
    "%timeit m1 + m2"
   ]
  },
  {
   "cell_type": "markdown",
   "metadata": {},
   "source": [
    "However, broadcasting is not always faster than operations between two matched array. Here we compare the execution time of broadcasting with different number of matched dimensions."
   ]
  },
  {
   "cell_type": "code",
   "execution_count": 9,
   "metadata": {
    "collapsed": false
   },
   "outputs": [
    {
     "data": {
      "text/plain": [
       "<matplotlib.text.Text at 0x11222b210>"
      ]
     },
     "execution_count": 9,
     "metadata": {},
     "output_type": "execute_result"
    },
    {
     "data": {
      "image/png": "[encoded data removed]",
      "text/plain": [
       "<matplotlib.figure.Figure at 0x1113e65d0>"
      ]
     },
     "metadata": {},
     "output_type": "display_data"
    }
   ],
   "source": [
    "import timeit\n",
    "%matplotlib inline\n",
    "import matplotlib.pyplot as plt\n",
    "\n",
    "mpl_fig = plt.figure()\n",
    "ax = mpl_fig.add_subplot(111)\n",
    "\n",
    "global m3\n",
    "global m4\n",
    "m3 = np.random.random((4,4,4,4,4,4,4,4))\n",
    "t = []\n",
    "\n",
    "# test operation between an array and a number\n",
    "t.append(timeit.timeit('m3 * 3', \"from __main__ import m3\", number=10000))\n",
    "\n",
    "# test broadcasting between two array with different dimission\n",
    "for d in xrange(8):\n",
    "    m4 = np.ones([4] * (d+1)) * 3\n",
    "    # all will result in same sized array\n",
    "    t.append(timeit.timeit('m3 * m4', \"from __main__ import m3, m4\", number=10000))\n",
    "\n",
    "line, = ax.plot(t)\n",
    "\n",
    "ax.set_title(\"Broadcasting Timing\")\n",
    "ax.set_xlabel(\"# matched dimension\")\n",
    "ax.set_ylabel(\"execution time\")"
   ]
  },
  {
   "cell_type": "markdown",
   "metadata": {},
   "source": [
    "## <a name=\"ufunc\"></a>Universal Function (ufunc)\n",
    "`ufunc` is a set of functions defined by numpy which operate on ndarray elementwisely. Here are some commonly used functions that might be helpful.\n",
    "\n",
    "+ logaddexp\n",
    "+ logaddexp2\n",
    "+ absolute\n",
    "+ exp\n",
    "+ power\n",
    "+ log\n",
    "+ log2\n",
    "+ log10\n",
    "\n",
    "What's more interesting, all `ufunc`s support broadcasting and all of them can take an extra `out` parameter so that the calculation result will be filled into the out array. And if the out array has a different shape with the operand, broadcasting will apply. "
   ]
  },
  {
   "cell_type": "code",
   "execution_count": 10,
   "metadata": {
    "collapsed": false,
    "scrolled": false
   },
   "outputs": [
    {
     "name": "stdout",
     "output_type": "stream",
     "text": [
      "b.shape (5,)\n",
      "[  1.           2.71828183   7.3890561   20.08553692  54.59815003]\n",
      "c.shape (3, 5)\n",
      "[[  1.           2.71828183   7.3890561   20.08553692  54.59815003]\n",
      " [  1.           2.71828183   7.3890561   20.08553692  54.59815003]\n",
      " [  1.           2.71828183   7.3890561   20.08553692  54.59815003]]\n",
      "[[  1.           2.71828183   7.3890561   20.08553692  54.59815003]\n",
      " [  1.           2.71828183   7.3890561   20.08553692  54.59815003]\n",
      " [  1.           2.71828183   7.3890561   20.08553692  54.59815003]]\n"
     ]
    }
   ],
   "source": [
    "a = np.arange(5)\n",
    "b = np.exp(a)\n",
    "c = np.zeros((3,5))\n",
    "d = np.exp(a,c)\n",
    "print 'b.shape', b.shape\n",
    "print b\n",
    "print 'c.shape', c.shape\n",
    "print c\n",
    "print d"
   ]
  },
  {
   "cell_type": "markdown",
   "metadata": {},
   "source": [
    "Besides the `out` parameter, `ufunc` also return the `out` array but it's the same object with out. So if you modify the returned array, `out` array will also be modified."
   ]
  },
  {
   "cell_type": "code",
   "execution_count": 11,
   "metadata": {
    "collapsed": false
   },
   "outputs": [
    {
     "name": "stdout",
     "output_type": "stream",
     "text": [
      "[[ 10.           2.71828183   7.3890561   20.08553692  54.59815003]\n",
      " [ 10.           2.71828183   7.3890561   20.08553692  54.59815003]\n",
      " [ 10.           2.71828183   7.3890561   20.08553692  54.59815003]]\n"
     ]
    }
   ],
   "source": [
    "c[:,0] = 10. # modify c\n",
    "print d      # d is also modified because they are the same object"
   ]
  },
  {
   "cell_type": "markdown",
   "metadata": {},
   "source": [
    "## Indexing\n"
   ]
  },
  {
   "cell_type": "markdown",
   "metadata": {},
   "source": [
    "Numpy supports some powerful and useful slicing and indexing operation. We can access array elements in the python way but in a matrix style, which means we can use python accessing and slicing on each demission of a ndarray."
   ]
  },
  {
   "cell_type": "code",
   "execution_count": 12,
   "metadata": {
    "collapsed": false
   },
   "outputs": [],
   "source": [
    "'''\n",
    "z = \n",
    "[[ 0, 10, 20, 30],\n",
    " [ 1, 11, 21, 31],\n",
    " [ 2, 12, 22, 32],\n",
    " [ 3, 13, 23, 33],\n",
    " [ 4, 14, 24, 34]]\n",
    "'''\n",
    "z = (np.arange(5) + np.arange(4).reshape((4,1)) * 10).T  # recall broadcasting"
   ]
  },
  {
   "cell_type": "code",
   "execution_count": 13,
   "metadata": {
    "collapsed": false
   },
   "outputs": [
    {
     "name": "stdout",
     "output_type": "stream",
     "text": [
      "Indexing by row [ 3 13 23 33]\n",
      "Indexing by column [30 31 32 33 34]\n",
      "Indexing by row & column 23\n",
      "Slicing by rows\n",
      "[[ 2 12 22 32]\n",
      " [ 3 13 23 33]]\n",
      "[[ 0 10 20 30]\n",
      " [ 2 12 22 32]\n",
      " [ 4 14 24 34]]\n",
      "[[ 4 14 24 34]\n",
      " [ 3 13 23 33]\n",
      " [ 2 12 22 32]\n",
      " [ 1 11 21 31]\n",
      " [ 0 10 20 30]]\n",
      "Slicing by columns\n",
      "[[ 2 12 22 32]\n",
      " [ 3 13 23 33]]\n",
      "Slicing by rows & columns\n",
      "[[22 32]\n",
      " [23 33]]\n"
     ]
    }
   ],
   "source": [
    "print 'Indexing by row', z[3]\n",
    "print 'Indexing by column', z[:,3]\n",
    "print 'Indexing by row & column', z[3,2]\n",
    "print 'Slicing by rows'\n",
    "print z[2:4]\n",
    "print z[::2]\n",
    "print z[::-1]\n",
    "print 'Slicing by columns'\n",
    "print z[2:4,:]\n",
    "print 'Slicing by rows & columns'\n",
    "print z[2:4, 2:4]"
   ]
  },
  {
   "cell_type": "markdown",
   "metadata": {},
   "source": [
    "### Integer Array Indexing\n",
    "What if we want to select only some spcific rows (or columns) from a matrix? In numpy, we can use an array of integer as indeces to retrive rows from a matrix.\n"
   ]
  },
  {
   "cell_type": "code",
   "execution_count": 14,
   "metadata": {
    "collapsed": false
   },
   "outputs": [
    {
     "data": {
      "text/plain": [
       "array([[ 0, 10, 20, 30],\n",
       "       [ 3, 13, 23, 33],\n",
       "       [ 4, 14, 24, 34],\n",
       "       [ 3, 13, 23, 33],\n",
       "       [ 4, 14, 24, 34]])"
      ]
     },
     "execution_count": 14,
     "metadata": {},
     "output_type": "execute_result"
    }
   ],
   "source": [
    "ids_row = np.array([0,3,4,3,4])\n",
    "z[ids_row]"
   ]
  },
  {
   "cell_type": "code",
   "execution_count": 15,
   "metadata": {
    "collapsed": false
   },
   "outputs": [
    {
     "data": {
      "text/plain": [
       "array([[ 0, 20, 10, 10],\n",
       "       [ 1, 21, 11, 11],\n",
       "       [ 2, 22, 12, 12],\n",
       "       [ 3, 23, 13, 13],\n",
       "       [ 4, 24, 14, 14]])"
      ]
     },
     "execution_count": 15,
     "metadata": {},
     "output_type": "execute_result"
    }
   ],
   "source": [
    "ids_col = np.array([0,2,1,1])\n",
    "z[:,ids_col]"
   ]
  },
  {
   "cell_type": "markdown",
   "metadata": {},
   "source": [
    "But if we want to specify both rows and columns, we need the help of np.ix_() function. np.ix_() returns a tuple of two arrays.\n",
    "```python\n",
    ">>> np.ix(ids_row,ids_col)\n",
    "(array([[0],\n",
    "        [3],\n",
    "        [4],\n",
    "        [3],\n",
    "        [4]]), array([[0, 2, 1, 1]]))\n",
    "```"
   ]
  },
  {
   "cell_type": "code",
   "execution_count": 16,
   "metadata": {
    "collapsed": false
   },
   "outputs": [
    {
     "data": {
      "text/plain": [
       "array([[ 0, 20, 10, 10],\n",
       "       [ 3, 23, 13, 13],\n",
       "       [ 4, 24, 14, 14],\n",
       "       [ 3, 23, 13, 13],\n",
       "       [ 4, 24, 14, 14]])"
      ]
     },
     "execution_count": 16,
     "metadata": {},
     "output_type": "execute_result"
    }
   ],
   "source": [
    "z[np.ix_(ids_row,ids_col)]"
   ]
  },
  {
   "cell_type": "markdown",
   "metadata": {},
   "source": [
    "### Boolean Array Indexing\n",
    "\n",
    "It's also possible to use an array or a matrix of boolean values to access data in a ndarray."
   ]
  },
  {
   "cell_type": "code",
   "execution_count": 17,
   "metadata": {
    "collapsed": false
   },
   "outputs": [
    {
     "data": {
      "text/plain": [
       "array([[ 0, 10, 20, 30],\n",
       "       [ 2, 12, 22, 32],\n",
       "       [ 4, 14, 24, 34]])"
      ]
     },
     "execution_count": 17,
     "metadata": {},
     "output_type": "execute_result"
    }
   ],
   "source": [
    "z[np.array([True, False, True, False, True])]"
   ]
  },
  {
   "cell_type": "markdown",
   "metadata": {},
   "source": [
    "Actually, numpy exams each bool value in the index array, and convert it to a integer index if the value is True. So we can use a boolean array which has more values than row number of the matrix only if all the values out of bound are False.\n",
    "\n",
    "Using a boolean expression to access data is also a useful way. And it actually crreats an boolean array."
   ]
  },
  {
   "cell_type": "code",
   "execution_count": 18,
   "metadata": {
    "collapsed": false
   },
   "outputs": [
    {
     "data": {
      "text/plain": [
       "array([30, 21, 31, 22, 32, 23, 33, 24, 34])"
      ]
     },
     "execution_count": 18,
     "metadata": {},
     "output_type": "execute_result"
    }
   ],
   "source": [
    "z[z>20]"
   ]
  },
  {
   "cell_type": "code",
   "execution_count": 19,
   "metadata": {
    "collapsed": false
   },
   "outputs": [
    {
     "data": {
      "text/plain": [
       "array([[False, False, False,  True],\n",
       "       [False, False,  True,  True],\n",
       "       [False, False,  True,  True],\n",
       "       [False, False,  True,  True],\n",
       "       [False, False,  True,  True]], dtype=bool)"
      ]
     },
     "execution_count": 19,
     "metadata": {},
     "output_type": "execute_result"
    }
   ],
   "source": [
    "z > 20"
   ]
  },
  {
   "cell_type": "markdown",
   "metadata": {},
   "source": [
    "## Matrix Again\n",
    "\n",
    "As we mentioned above, `matrix` is a special type of numpy data structure. A matrix is always 2-Dimensional and * will be matrix multiplication instead of elementwise operator."
   ]
  },
  {
   "cell_type": "code",
   "execution_count": 20,
   "metadata": {
    "collapsed": false
   },
   "outputs": [
    {
     "data": {
      "text/plain": [
       "matrix([[ 1,  2,  3,  4],\n",
       "        [ 5,  6,  7,  8],\n",
       "        [ 9, 10, 11, 12]])"
      ]
     },
     "execution_count": 20,
     "metadata": {},
     "output_type": "execute_result"
    }
   ],
   "source": [
    "m = np.matrix([[1,2,3,4],[5,6,7,8],[9,10,11,12]])\n",
    "n = np.ones((4,2))\n",
    "m"
   ]
  },
  {
   "cell_type": "code",
   "execution_count": 21,
   "metadata": {
    "collapsed": false
   },
   "outputs": [
    {
     "data": {
      "text/plain": [
       "matrix([[ 10.,  10.],\n",
       "        [ 26.,  26.],\n",
       "        [ 42.,  42.]])"
      ]
     },
     "execution_count": 21,
     "metadata": {},
     "output_type": "execute_result"
    }
   ],
   "source": [
    "m * n"
   ]
  },
  {
   "cell_type": "markdown",
   "metadata": {},
   "source": [
    "However, matrix still supports boradcasting when doing addition, subtraction, etc."
   ]
  },
  {
   "cell_type": "code",
   "execution_count": 22,
   "metadata": {
    "collapsed": false
   },
   "outputs": [
    {
     "data": {
      "text/plain": [
       "matrix([[  2.,   3.,   4.,   5.],\n",
       "        [  6.,   7.,   8.,   9.],\n",
       "        [ 10.,  11.,  12.,  13.]])"
      ]
     },
     "execution_count": 22,
     "metadata": {},
     "output_type": "execute_result"
    }
   ],
   "source": [
    "m + 1."
   ]
  },
  {
   "cell_type": "code",
   "execution_count": 23,
   "metadata": {
    "collapsed": false
   },
   "outputs": [
    {
     "data": {
      "text/plain": [
       "matrix([[  2.,   3.,   4.,   5.],\n",
       "        [  6.,   7.,   8.,   9.],\n",
       "        [ 10.,  11.,  12.,  13.]])"
      ]
     },
     "execution_count": 23,
     "metadata": {},
     "output_type": "execute_result"
    }
   ],
   "source": [
    "m + np.ones((1,4))"
   ]
  },
  {
   "cell_type": "markdown",
   "metadata": {},
   "source": [
    "Since it keeps itself in 2 dimensions, it's simpler to do slicing while we want to keep the result as a matrix."
   ]
  },
  {
   "cell_type": "code",
   "execution_count": 24,
   "metadata": {
    "collapsed": false
   },
   "outputs": [
    {
     "name": "stdout",
     "output_type": "stream",
     "text": [
      "(3, 1)\n",
      "(4,)\n"
     ]
    }
   ],
   "source": [
    "print m[:,2].shape\n",
    "# while ndarray won't keep its shape\n",
    "print n[:,1].shape"
   ]
  },
  {
   "cell_type": "markdown",
   "metadata": {},
   "source": [
    "And it's also conveniente to convert a matrix into a ndarray."
   ]
  },
  {
   "cell_type": "code",
   "execution_count": 25,
   "metadata": {
    "collapsed": false
   },
   "outputs": [
    {
     "data": {
      "text/plain": [
       "array([[ 1,  2,  3,  4],\n",
       "       [ 5,  6,  7,  8],\n",
       "       [ 9, 10, 11, 12]])"
      ]
     },
     "execution_count": 25,
     "metadata": {},
     "output_type": "execute_result"
    }
   ],
   "source": [
    "m.A"
   ]
  },
  {
   "cell_type": "markdown",
   "metadata": {},
   "source": [
    "## Some Tricks\n",
    "\n",
    "### Locate elements\n",
    "Often times we want to construct a matrix with some spcific elements set to be certain values. For example, we can laverage broadcasting to create a sparse matrix with some given elements set to be ones."
   ]
  },
  {
   "cell_type": "code",
   "execution_count": 26,
   "metadata": {
    "collapsed": false
   },
   "outputs": [
    {
     "data": {
      "text/plain": [
       "array([[0, 0, 1, 0],\n",
       "       [0, 1, 0, 0],\n",
       "       [0, 0, 0, 1],\n",
       "       [1, 0, 0, 0],\n",
       "       [0, 1, 0, 0]])"
      ]
     },
     "execution_count": 26,
     "metadata": {},
     "output_type": "execute_result"
    }
   ],
   "source": [
    "# indeces where values are set to be one in each row\n",
    "index = np.array([2,1,3,0,1])\n",
    "np.asarray(np.arange(4) == index.reshape(5,1), dtype=int)"
   ]
  },
  {
   "cell_type": "markdown",
   "metadata": {},
   "source": [
    "We can also use a flatier to help us locate the elements."
   ]
  },
  {
   "cell_type": "code",
   "execution_count": 27,
   "metadata": {
    "collapsed": false
   },
   "outputs": [
    {
     "data": {
      "text/plain": [
       "array([[ 0.,  0.,  1.,  0.],\n",
       "       [ 0.,  1.,  0.,  0.],\n",
       "       [ 0.,  0.,  0.,  1.],\n",
       "       [ 1.,  0.,  0.,  0.],\n",
       "       [ 0.,  1.,  0.,  0.]])"
      ]
     },
     "execution_count": 27,
     "metadata": {},
     "output_type": "execute_result"
    }
   ],
   "source": [
    "flat_index = index + np.arange(5) * 4\n",
    "# array([ 2,  5, 11, 12, 17])\n",
    "\n",
    "m = np.zeros([5,4])\n",
    "m.flat[flat_index] = np.ones(5)\n",
    "m"
   ]
  },
  {
   "cell_type": "markdown",
   "metadata": {},
   "source": [
    "Or, there is a simpler way to do this using a helper function called `put`"
   ]
  },
  {
   "cell_type": "code",
   "execution_count": 28,
   "metadata": {
    "collapsed": false
   },
   "outputs": [
    {
     "data": {
      "text/plain": [
       "array([[ 0.,  0.,  1.,  0.],\n",
       "       [ 0.,  1.,  0.,  0.],\n",
       "       [ 0.,  0.,  0.,  1.],\n",
       "       [ 1.,  0.,  0.,  0.],\n",
       "       [ 0.,  1.,  0.,  0.]])"
      ]
     },
     "execution_count": 28,
     "metadata": {},
     "output_type": "execute_result"
    }
   ],
   "source": [
    "n = np.zeros([5,4])\n",
    "n.put(flat_index, np.ones(5))\n",
    "n"
   ]
  },
  {
   "cell_type": "markdown",
   "metadata": {},
   "source": [
    "### Removing Rows/Columns From a Matrix\n",
    "\n",
    "Numpy has a strange design that slicing on an array doesn't allocate new memory while indexing create new arrays. So the following two operation are totally different from each other."
   ]
  },
  {
   "cell_type": "code",
   "execution_count": 29,
   "metadata": {
    "collapsed": false
   },
   "outputs": [
    {
     "name": "stdout",
     "output_type": "stream",
     "text": [
      "b has same values with c: True\n",
      "b has same values with c: False\n"
     ]
    }
   ],
   "source": [
    "a = np.arange(25).reshape([5,5])\n",
    "b = a[:]\n",
    "c = a[[0,1,2,3,4]]\n",
    "print 'b has same values with c:', (b == c).all() # check if every element is same\n",
    "# Then, if we modify a value in a,\n",
    "a[0,0] = 1000\n",
    "print 'b has same values with c:', (b == c).all() # check if every element is same"
   ]
  },
  {
   "cell_type": "markdown",
   "metadata": {},
   "source": [
    "Therefore, avoid allocating new memory is important when it's not necessory. For example, if we want to delete a row from a matrix, we can simple move the data to a 'right' place, instead of copying to a new space. Suppose we want to remove the second row of matrix a,"
   ]
  },
  {
   "cell_type": "code",
   "execution_count": 30,
   "metadata": {
    "collapsed": false
   },
   "outputs": [
    {
     "data": {
      "text/plain": [
       "array([[1000,    1,    2,    3,    4],\n",
       "       [  10,   11,   12,   13,   14],\n",
       "       [  15,   16,   17,   18,   19],\n",
       "       [  20,   21,   22,   23,   24]])"
      ]
     },
     "execution_count": 30,
     "metadata": {},
     "output_type": "execute_result"
    }
   ],
   "source": [
    "a[1:-1] = a[2:]\n",
    "a = a[:-1]\n",
    "a"
   ]
  },
  {
   "cell_type": "markdown",
   "metadata": {},
   "source": [
    "### Searching\n",
    "\n",
    "It's always a good habit to search what you need with numpy. Numpy provides a huge set of functions to support day-to-day science computation. There are functions like `clip` to limit the value of an array within a range, `logaddexp2` to calculate the logarithm of the sum of exponentiations of inputs in base 2, etc. So at most of the time, searching for a function will always suprise you with the beauty of numpy. "
   ]
  }
 ],
 "metadata": {
  "kernelspec": {
   "display_name": "Python 2",
   "language": "python",
   "name": "python2"
  },
  "language_info": {
   "codemirror_mode": {
    "name": "ipython",
    "version": 2
   },
   "file_extension": ".py",
   "mimetype": "text/x-python",
   "name": "python",
   "nbconvert_exporter": "python",
   "pygments_lexer": "ipython2",
   "version": "2.7.11"
  }
 },
 "nbformat": 4,
 "nbformat_minor": 1
}
