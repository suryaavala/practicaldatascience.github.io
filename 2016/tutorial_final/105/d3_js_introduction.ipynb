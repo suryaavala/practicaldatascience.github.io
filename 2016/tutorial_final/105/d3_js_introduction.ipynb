{
 "cells": [
  {
   "cell_type": "markdown",
   "metadata": {
    "collapsed": true
   },
   "source": [
    "# d3.js Introduction\n",
    "\n",
    "* Author: [Ming-Yuan Jian](mailto:mjian@andrew.cmu.edu)\n",
    "* Date: 2016-11-04\n",
    "\n",
    "![D3 Logo](https://camo.githubusercontent.com/722a5cc12c7d40231ebeb8ca6facdc8547e2abf7/68747470733a2f2f64336a732e6f72672f6c6f676f2e737667)\n",
    "\n",
    "## Introduction\n",
    "In the data science area, we often deal with complex and large data sets. And while professionals may understand what we are doing, in many times we want to derive some statistics of what we've done or what the data look like. So the visualization becomes very important. In Python we have matplotlib, and in JavaScript we have D3.\n",
    "\n",
    "[D3](https://d3js.org/), which stands for Data-Driven Documents, is a JavaScript library for visualizing data using web standards. It has the advantage that\n",
    "* It can be run by any modern browsers.\n",
    "* It can render (and even update) the graph at client side.\n",
    "* The texts in graph are selectable.\n",
    "\n",
    "In this tutorial, we will demonstrate several examples of visualizing the properties of documents: the calendar view, the bubble chart and the partition graph. We'll use the latest version (4.2.7) of d3.js."
   ]
  },
  {
   "cell_type": "markdown",
   "metadata": {},
   "source": [
    "## The dataset\n",
    "\n",
    "The documents I choose are the text from the [Federalist Papers](https://en.wikipedia.org/wiki/The_Federalist_Papers), a series of essay written in 1787 and 1788 by Alexander Hamilton, James Madison, and John Jay, that promoted the ratification of the U.S. Constitution. The following Python code processes the raw text downloaded from [Project Guttenberg](http://www.gutenberg.org/ebooks/18) into separate papers and parses the number, the authors, the published dates, and the length of each paper."
   ]
  },
  {
   "cell_type": "code",
   "execution_count": 1,
   "metadata": {
    "collapsed": false
   },
   "outputs": [],
   "source": [
    "import calendar, re\n",
    "month_names = calendar.month_name[:]  # [0] is empty string, [1]: \"January\"\n",
    "YEARS = \"(178[78])\"\n",
    "MONTH_PATTERN = \"(\" + \"|\".join(month_names[1:]) + \")\"\n",
    "DATE_PATTERN = MONTH_PATTERN + \"\\\\s+(\\\\d+),\\\\s+\" + YEARS\n",
    "\n",
    "def load_federalist_corpus(filename):\n",
    "    \"\"\" Load the federalist papers as a tokenized list of strings, one for each eassay\n",
    "    \"\"\"\n",
    "    with open(filename, \"rt\") as f:\n",
    "        data = f.read()\n",
    "    papers = data.split(\"FEDERALIST\")\n",
    "    \n",
    "    # all start with \"To the people of the State of New York:\" (sometimes . instead of :)\n",
    "    # all end with PUBLIUS (or no end at all)\n",
    "    locations = [(p.rfind(\"of the State of New York\"), p.rfind(\"PUBLIUS\")) for p in papers]\n",
    "    locations = [(-1 if loc[0] == -1 else loc[0] + 25, loc[1]) for loc in locations]\n",
    "    papers_content = [papers[i][loc[0]:loc[1]] for i, loc in enumerate(locations)]\n",
    "    \n",
    "    # discard entries that are not actually a paper\n",
    "    is_paper = map(lambda p: len(p) > 0, papers_content)\n",
    "    papers = [p for i, p in enumerate(papers) if is_paper[i]]\n",
    "    papers_content = [p for i, p in enumerate(papers_content) if is_paper[i]]\n",
    "    # replace all whitespace with a single space\n",
    "    papers_content = [re.sub(r\"\\s+\", \" \", p).lower() for p in papers_content]\n",
    "\n",
    "    # add spaces before all punctuation, so they are separate tokens\n",
    "    punctuation = set(re.findall(r\"[^\\w\\s]+\", \" \".join(papers_content))) - {\"-\",\"'\"}\n",
    "    for c in punctuation:\n",
    "        papers_content = [p.replace(c, \" \"+c+\" \") for p in papers_content]\n",
    "    papers_content = [re.sub(r\"\\s+\", \" \", p).lower().strip() for p in papers_content]\n",
    "    \n",
    "    authors = [tuple(re.findall(\"MADISON|JAY|HAMILTON\", a)) for a in papers]\n",
    "    \n",
    "    numbers = [re.search(r\"No\\. \\d+\", p).group(0) for p in papers if re.search(r\"No\\. \\d+\", p)]\n",
    "    dates = [re.search(YEARS, p) for p in papers]\n",
    "    for i, date in enumerate(dates):\n",
    "        if date:\n",
    "            match = re.search(DATE_PATTERN, papers[i][:date.end()])\n",
    "            month = month_names.index(match.group(1))\n",
    "            dates[i] = \"{}-{:02d}-{}\".format(match.group(3), month, match.group(2).zfill(2))\n",
    "        else:\n",
    "            dates[i] = ''\n",
    "            \n",
    "    return papers_content, authors, numbers, dates\n",
    "    "
   ]
  },
  {
   "cell_type": "markdown",
   "metadata": {},
   "source": [
    "After we get the infomation from the raw text, we organize them into a JSON file so we can load them easily in JavaScript. For example, each paper in our json file will look like:\n",
    "\n",
    "    {'date': '1788-02-19', 'length': 13146, 'number': 'No. 57', 'authors': ['HAMILTON', 'MADISON']}\n",
    "    \n",
    "* `date`: publish date of the paper\n",
    "* `number`: the chapter\n",
    "* `length`: number of characters in the paper\n",
    "* `authors`: list of the authors of the paper"
   ]
  },
  {
   "cell_type": "code",
   "execution_count": 2,
   "metadata": {
    "collapsed": false
   },
   "outputs": [],
   "source": [
    "import json\n",
    "\n",
    "papers, authors, numbers, dates = load_federalist_corpus(\"pg18.txt\")\n",
    "papers_info = zip(numbers, [list(a) for a in authors], dates, [len(p) for p in papers])\n",
    "papers_info = map(lambda x: {\"number\": x[0], \"authors\": x[1], \"date\": x[2], \"length\": x[3]}, papers_info)\n",
    "#print papers_info[56] # uncomment to see the object\n",
    "with open(\"papers_info.json\", \"w\") as f:\n",
    "    json.dump(papers_info, f)"
   ]
  },
  {
   "cell_type": "markdown",
   "metadata": {},
   "source": [
    "## Load the data in JavaScript\n",
    "In the following block, we load *d3.js* library. If you are writing a web page, you can put the following code in HTML to retrieve d3.js.\n",
    "\n",
    "    <script type=\"text/javascript\" charset=\"utf-8\" src=\"https://d3js.org/d3.v4.min.js\"></script>"
   ]
  },
  {
   "cell_type": "code",
   "execution_count": 13,
   "metadata": {
    "collapsed": false
   },
   "outputs": [
    {
     "data": {
      "application/javascript": [
       "require.config({\n",
       "    paths: {\n",
       "        d3: 'https://d3js.org/d3.v4.min'\n",
       "    }\n",
       "});\n",
       "\n",
       "var css_rule = \"body { shape-rendering: auto; }\"; // Make visualization prettier\n",
       "var styleElement = document.createElement(\"style\");\n",
       "styleElement.type = \"text/css\";\n",
       "styleElement.appendChild(document.createTextNode(css_rule));\n",
       "document.head.appendChild(styleElement);"
      ],
      "text/plain": [
       "<IPython.core.display.Javascript object>"
      ]
     },
     "metadata": {},
     "output_type": "display_data"
    }
   ],
   "source": [
    "%%javascript\n",
    "require.config({\n",
    "    paths: {\n",
    "        d3: 'https://d3js.org/d3.v4.min'\n",
    "    }\n",
    "});\n",
    "\n",
    "var css_rule = \"body { shape-rendering: auto; }\"; // Make visualization prettier\n",
    "var styleElement = document.createElement(\"style\");\n",
    "styleElement.type = \"text/css\";\n",
    "styleElement.appendChild(document.createTextNode(css_rule));\n",
    "document.head.appendChild(styleElement);"
   ]
  },
  {
   "cell_type": "markdown",
   "metadata": {},
   "source": [
    "After we load d3.js, we can use `d3.json` to load our data."
   ]
  },
  {
   "cell_type": "code",
   "execution_count": 14,
   "metadata": {
    "collapsed": false
   },
   "outputs": [
    {
     "data": {
      "application/javascript": [
       "require(['d3'], function(d3){\n",
       "    d3.json(\"papers_info.json\", function(error, json) {\n",
       "        window.papers_info = json;\n",
       "    });\n",
       "});"
      ],
      "text/plain": [
       "<IPython.core.display.Javascript object>"
      ]
     },
     "metadata": {},
     "output_type": "display_data"
    }
   ],
   "source": [
    "%%javascript\n",
    "require(['d3'], function(d3){\n",
    "    d3.json(\"papers_info.json\", function(error, json) {\n",
    "        window.papers_info = json;\n",
    "    });\n",
    "});"
   ]
  },
  {
   "cell_type": "markdown",
   "metadata": {},
   "source": [
    "## Calendar View\n",
    "\n",
    "Calendar view is very useful for analyzing the peak user count or stock prices over days. In this case, we will count the papers published on each day and show them on the calendar. The code we use are adapted from [Calendar View](http://bl.ocks.org/mbostock/4063318) by [Mike Bostock](http://bl.ocks.org/mbostock). At first, we need to add some CSS rule to define what each month/day should look like.\n",
    "\n",
    "\n",
    "We can also add some CSS rules to prettify the graph shape rendered on browsers. Just put the following `<style>` tag before `</head>` if you are writing an HTML file.\n",
    "\n",
    "    <style type=\"text/css\">\n",
    "    .month {\n",
    "        fill: none;\n",
    "        stroke: #000;\n",
    "        stroke-width: 2px;\n",
    "    }\n",
    "    /* ... (other styles) */\n",
    "    </style>"
   ]
  },
  {
   "cell_type": "code",
   "execution_count": 15,
   "metadata": {
    "collapsed": false
   },
   "outputs": [
    {
     "data": {
      "application/javascript": [
       "var css_rule_calendar_view = \".month { fill: none; stroke: #000; stroke-width: 2px; }\" +\n",
       "        \".day { fill: #fff; stroke: #ccc; }\" +\n",
       "        \".year .q0 {fill: rgb(238, 238, 238)}\" + // From gray to green (using GitHub colors)\n",
       "        \".year .q1 {fill: rgb(214, 230, 133)}\" + // Least green\n",
       "        \".year .q2 {fill: rgb(140, 198, 101)}\" +\n",
       "        \".year .q3 {fill: rgb( 68, 163,  64)}\" +\n",
       "        \".year .q4 {fill: rgb( 30, 104,  35)}\"; // Greenest\n",
       "var styleElement = document.createElement(\"style\");\n",
       "styleElement.type = \"text/css\";\n",
       "styleElement.appendChild(document.createTextNode(css_rule_calendar_view));\n",
       "document.head.appendChild(styleElement);"
      ],
      "text/plain": [
       "<IPython.core.display.Javascript object>"
      ]
     },
     "metadata": {},
     "output_type": "display_data"
    }
   ],
   "source": [
    "%%javascript\n",
    "var css_rule_calendar_view = \".month { fill: none; stroke: #000; stroke-width: 2px; }\" +\n",
    "        \".day { fill: #fff; stroke: #ccc; }\" +\n",
    "        \".year .q0 {fill: rgb(238, 238, 238)}\" + // From gray to green (using GitHub colors)\n",
    "        \".year .q1 {fill: rgb(214, 230, 133)}\" + // Least green\n",
    "        \".year .q2 {fill: rgb(140, 198, 101)}\" +\n",
    "        \".year .q3 {fill: rgb( 68, 163,  64)}\" +\n",
    "        \".year .q4 {fill: rgb( 30, 104,  35)}\"; // Greenest\n",
    "var styleElement = document.createElement(\"style\");\n",
    "styleElement.type = \"text/css\";\n",
    "styleElement.appendChild(document.createTextNode(css_rule_calendar_view));\n",
    "document.head.appendChild(styleElement);"
   ]
  },
  {
   "cell_type": "markdown",
   "metadata": {
    "collapsed": false
   },
   "source": [
    "Below is the main visualization code, which can be described in 6 parts:\n",
    "* Create 2 `<svg>` elements of size 136 x 960, each shows a year from 1787 (inclusize) to 1789 (exclusive)\n",
    "* Add a `<text>` element to each svg showing the year\n",
    "* Create 365 or 366 (if the year is leap year) `<rect>` elements of size 17 x 17, each shows a day\n",
    "* Add a `<title>` to each `<rect>` showing the date\n",
    "* Create 12 `<path>` elements, each outlines the month in the year\n",
    "* Convert the paper list to d3 nest object, pick the color from CSS class `q0` (no paper published on that day) to `q5` (5 or more papers published on that day), and set the title in that day to `\"[Date]: [# of articles]\"`"
   ]
  },
  {
   "cell_type": "code",
   "execution_count": 16,
   "metadata": {
    "collapsed": false
   },
   "outputs": [
    {
     "data": {
      "application/javascript": [
       "require(['d3'], function(d3) {\n",
       "    $(\"#calendar_view\").remove();\n",
       "    element.append(\"<div id='calendar_view'></div>\"); // append to jupyter output block\n",
       "    $(\"#calendar_view\").width(\"960px\");\n",
       "    $(\"#calendar_view\").height(\"300px\");   \n",
       "    \n",
       "    var width = 960, height = 136; // each year in 136 * 960\n",
       "    var cellSize = 17, weeksPerYear = 53; // cell size\n",
       "    var dateFormat = d3.timeFormat(\"%Y-%m-%d\");\n",
       "    \n",
       "    var calendar_view = d3.select(\"#calendar_view\");\n",
       "    \n",
       "    var year = calendar_view.selectAll(\"svg\")\n",
       "            .data(d3.range(1787, 1789))\n",
       "            .enter().append(\"svg\")\n",
       "            .attr(\"width\", width)\n",
       "            .attr(\"height\", height)\n",
       "            .attr(\"class\", \"year\")\n",
       "            .append(\"g\")\n",
       "            .attr(\"transform\",\n",
       "                  \"translate(\" + ((width - cellSize * weeksPerYear) / 2) + \",\" + (height - cellSize * 7 - 1) + \")\");\n",
       "\n",
       "    year.append(\"text\")\n",
       "            .attr(\"transform\", \"translate(-6,\" + cellSize * 3.5 + \") rotate(-90)\")\n",
       "            .style(\"text-anchor\", \"middle\")\n",
       "            .text(function(d) { return d; });\n",
       "\n",
       "    var rect = year.selectAll(\".day\")\n",
       "            .data(function(d) { return d3.timeDays(new Date(d, 0, 1), new Date(d + 1, 0, 1)); })\n",
       "            .enter().append(\"rect\")\n",
       "            .attr(\"class\", \"day\")\n",
       "            .attr(\"width\", cellSize)\n",
       "            .attr(\"height\", cellSize)\n",
       "            .attr(\"x\", function(d) { return d3.timeWeek.count(d3.timeYear(d), d) * cellSize; })\n",
       "            .attr(\"y\", function(d) { return d.getDay() * cellSize; })\n",
       "            .datum(dateFormat);\n",
       "\n",
       "    rect.append(\"title\").text(function(d) { return d; });\n",
       "\n",
       "    year.selectAll(\".month\")\n",
       "            .data(function(d) { return d3.timeMonths(new Date(d, 0, 1), new Date(d + 1, 0, 1)); })\n",
       "            .enter().append(\"path\")\n",
       "            .attr(\"class\", \"month\")\n",
       "            .attr(\"d\", monthPath);\n",
       "\n",
       "    function monthPath(t0) {\n",
       "        var t1 = new Date(t0.getFullYear(), t0.getMonth() + 1, 0),\n",
       "                d0 = t0.getDay(), w0 = d3.timeWeek.count(d3.timeYear(t0), t0),\n",
       "                d1 = t1.getDay(), w1 = d3.timeWeek.count(d3.timeYear(t1), t1);\n",
       "        return \"M\" + (w0 + 1) * cellSize + \",\" + d0 * cellSize +\n",
       "                \"H\" + w0 * cellSize + \"V\" + 7 * cellSize +\n",
       "                \"H\" + w1 * cellSize + \"V\" + (d1 + 1) * cellSize +\n",
       "                \"H\" + (w1 + 1) * cellSize + \"V\" + 0 +\n",
       "                \"H\" + (w0 + 1) * cellSize + \"Z\";\n",
       "    }\n",
       "\n",
       "    var data = d3.nest()\n",
       "            .key(function(d) { return d.date; })\n",
       "            .rollup(function(ds) { return ds.length })\n",
       "            .map(window.papers_info);\n",
       "\n",
       "    calendar_view.data([data[\"$\"]]);\n",
       "    calendar_view.append('div')\n",
       "            .style(\"width\", width + \"px\")\n",
       "            .style(\"text-align\", \"center\")\n",
       "            .text(function(d) { return \"Papers without date: \" + d; });\n",
       "\n",
       "    var colorPicker = d3.scaleQuantize().domain([0, 5])\n",
       "            .range(d3.range(5).map(function(number) { return \"q\" + number; }));\n",
       "\n",
       "    rect.filter(function(d) { return \"$\"+d in data; })\n",
       "            .attr(\"class\", function(d) { return \"day \" + colorPicker(data[\"$\"+d]); })\n",
       "            .select(\"title\")\n",
       "            .text(function(d) { return d + \": \" + data[\"$\"+d]; });\n",
       "});"
      ],
      "text/plain": [
       "<IPython.core.display.Javascript object>"
      ]
     },
     "metadata": {},
     "output_type": "display_data"
    }
   ],
   "source": [
    "%%javascript\n",
    "require(['d3'], function(d3) {\n",
    "    $(\"#calendar_view\").remove();\n",
    "    element.append(\"<div id='calendar_view'></div>\"); // append to jupyter output block\n",
    "    $(\"#calendar_view\").width(\"960px\");\n",
    "    $(\"#calendar_view\").height(\"300px\");   \n",
    "    \n",
    "    var width = 960, height = 136; // each year in 136 * 960\n",
    "    var cellSize = 17, weeksPerYear = 53; // cell size\n",
    "    var dateFormat = d3.timeFormat(\"%Y-%m-%d\");\n",
    "    \n",
    "    var calendar_view = d3.select(\"#calendar_view\");\n",
    "    \n",
    "    var year = calendar_view.selectAll(\"svg\")\n",
    "            .data(d3.range(1787, 1789))\n",
    "            .enter().append(\"svg\")\n",
    "            .attr(\"width\", width)\n",
    "            .attr(\"height\", height)\n",
    "            .attr(\"class\", \"year\")\n",
    "            .append(\"g\")\n",
    "            .attr(\"transform\",\n",
    "                  \"translate(\" + ((width - cellSize * weeksPerYear) / 2) + \",\" + (height - cellSize * 7 - 1) + \")\");\n",
    "\n",
    "    year.append(\"text\")\n",
    "            .attr(\"transform\", \"translate(-6,\" + cellSize * 3.5 + \") rotate(-90)\")\n",
    "            .style(\"text-anchor\", \"middle\")\n",
    "            .text(function(d) { return d; });\n",
    "\n",
    "    var rect = year.selectAll(\".day\")\n",
    "            .data(function(d) { return d3.timeDays(new Date(d, 0, 1), new Date(d + 1, 0, 1)); })\n",
    "            .enter().append(\"rect\")\n",
    "            .attr(\"class\", \"day\")\n",
    "            .attr(\"width\", cellSize)\n",
    "            .attr(\"height\", cellSize)\n",
    "            .attr(\"x\", function(d) { return d3.timeWeek.count(d3.timeYear(d), d) * cellSize; })\n",
    "            .attr(\"y\", function(d) { return d.getDay() * cellSize; })\n",
    "            .datum(dateFormat);\n",
    "\n",
    "    rect.append(\"title\").text(function(d) { return d; });\n",
    "\n",
    "    year.selectAll(\".month\")\n",
    "            .data(function(d) { return d3.timeMonths(new Date(d, 0, 1), new Date(d + 1, 0, 1)); })\n",
    "            .enter().append(\"path\")\n",
    "            .attr(\"class\", \"month\")\n",
    "            .attr(\"d\", monthPath);\n",
    "\n",
    "    function monthPath(t0) {\n",
    "        var t1 = new Date(t0.getFullYear(), t0.getMonth() + 1, 0),\n",
    "                d0 = t0.getDay(), w0 = d3.timeWeek.count(d3.timeYear(t0), t0),\n",
    "                d1 = t1.getDay(), w1 = d3.timeWeek.count(d3.timeYear(t1), t1);\n",
    "        return \"M\" + (w0 + 1) * cellSize + \",\" + d0 * cellSize +\n",
    "                \"H\" + w0 * cellSize + \"V\" + 7 * cellSize +\n",
    "                \"H\" + w1 * cellSize + \"V\" + (d1 + 1) * cellSize +\n",
    "                \"H\" + (w1 + 1) * cellSize + \"V\" + 0 +\n",
    "                \"H\" + (w0 + 1) * cellSize + \"Z\";\n",
    "    }\n",
    "\n",
    "    var data = d3.nest()\n",
    "            .key(function(d) { return d.date; })\n",
    "            .rollup(function(ds) { return ds.length })\n",
    "            .map(window.papers_info);\n",
    "\n",
    "    calendar_view.data([data[\"$\"]]);\n",
    "    calendar_view.append('div')\n",
    "            .style(\"width\", width + \"px\")\n",
    "            .style(\"text-align\", \"center\")\n",
    "            .text(function(d) { return \"Papers without date: \" + d; });\n",
    "\n",
    "    var colorPicker = d3.scaleQuantize().domain([0, 5])\n",
    "            .range(d3.range(5).map(function(number) { return \"q\" + number; }));\n",
    "\n",
    "    rect.filter(function(d) { return \"$\"+d in data; })\n",
    "            .attr(\"class\", function(d) { return \"day \" + colorPicker(data[\"$\"+d]); })\n",
    "            .select(\"title\")\n",
    "            .text(function(d) { return d + \": \" + data[\"$\"+d]; });\n",
    "});"
   ]
  },
  {
   "cell_type": "markdown",
   "metadata": {},
   "source": [
    "You will get the graph like this:\n",
    "![](calendar_view.png)\n",
    "As the chart shows, we can found that most papers published on Tuesday or Thursday. You can hover your mouse on each cell to see how many papers published on that day."
   ]
  },
  {
   "cell_type": "markdown",
   "metadata": {},
   "source": [
    "## Bubble Chart\n",
    "\n",
    "In this section, we are going to create a bubble chart, which shows the papers in different sizes of circles based on the length of the paper. Bubble chart can be handy for visualizing quantitative information like budget, popularity of hashtags, or score distribution. The code we use are adapted from [Bubble Chart](http://bl.ocks.org/mbostock/4063269) by [Mike Bostock](http://bl.ocks.org/mbostock). Before we start writing visualization code, we can add a CSS rule to make the text shown in each circle prettier."
   ]
  },
  {
   "cell_type": "code",
   "execution_count": 17,
   "metadata": {
    "collapsed": false
   },
   "outputs": [
    {
     "data": {
      "application/javascript": [
       "var css_rule_bubble_chart = \".bubble-label { font: 12px sans-serif; text-anchor: middle; }\";\n",
       "var styleElement = document.createElement(\"style\");\n",
       "styleElement.type = \"text/css\";\n",
       "styleElement.appendChild(document.createTextNode(css_rule_bubble_chart));\n",
       "document.head.appendChild(styleElement);"
      ],
      "text/plain": [
       "<IPython.core.display.Javascript object>"
      ]
     },
     "metadata": {},
     "output_type": "display_data"
    }
   ],
   "source": [
    "%%javascript\n",
    "var css_rule_bubble_chart = \".bubble-label { font: 12px sans-serif; text-anchor: middle; }\";\n",
    "var styleElement = document.createElement(\"style\");\n",
    "styleElement.type = \"text/css\";\n",
    "styleElement.appendChild(document.createTextNode(css_rule_bubble_chart));\n",
    "document.head.appendChild(styleElement);"
   ]
  },
  {
   "cell_type": "markdown",
   "metadata": {},
   "source": [
    "Below is the code showing the bubble chart, which includes:\n",
    "* Insert a `<svg>` element of size 660 x 960, which will contains all bubbles\n",
    "* Convert the paper list to d3 hierarchy object. In the meantime, we store the concatenated author string, which will be used in color selection and title text\n",
    "* Calculate x, y, and r (radius) of the hierarchy object using `pack(root)` and exclude the root node (which sums all lengths) by `leaves()`\n",
    "* Create one `<g class=\"node\">` element per paper\n",
    "* Create one `<circle>` element in each `<g class=\"node\">`\n",
    "* Create one `<text>` element in each `<g class=\"node\">`, showing the paper number\n",
    "* Create one `<title>` element in each `<g class=\"node\">`, showing the authors and the length\n"
   ]
  },
  {
   "cell_type": "code",
   "execution_count": 18,
   "metadata": {
    "collapsed": false
   },
   "outputs": [
    {
     "data": {
      "application/javascript": [
       "require(['d3'], function(d3) {\n",
       "    $(\"#bubble_chart\").remove();\n",
       "    element.append('<svg id=\"bubble_chart\" width=\"960\" height=\"660\"></div>');\n",
       "    var bubble_chart = d3.select(\"#bubble_chart\");\n",
       "    var width = bubble_chart.attr(\"width\");\n",
       "    var height = bubble_chart.attr(\"height\");\n",
       "    var numberFormat = d3.format(\",d\");\n",
       "    var pickColor = d3.scaleOrdinal(d3.schemeCategory10);\n",
       "    var pack = d3.pack().size([width, height]).padding(1.5);\n",
       "\n",
       "    var root = d3.hierarchy({children: window.papers_info})\n",
       "            .sum(function(d) { return d.length; })\n",
       "            .each(function(d) {\n",
       "                if (d.data.authors) {\n",
       "                    d.authors = d.data.authors.join(\", \")\n",
       "                }\n",
       "            });\n",
       "\n",
       "    var node = bubble_chart.selectAll(\".paper\")\n",
       "            .data(pack(root).leaves())\n",
       "            .enter().append(\"g\")\n",
       "            .attr(\"class\", \"node\")\n",
       "            .attr(\"transform\", function(d) { return \"translate(\" + d.x + \",\" + d.y + \")\"; });\n",
       "\n",
       "    node.append(\"circle\")\n",
       "            .attr(\"id\", function(d) { return d.data.number; })\n",
       "            .attr(\"r\", function(d) { return d.r; })\n",
       "            .style(\"fill\", function(d) { return pickColor(d.authors); });\n",
       "\n",
       "    node.append(\"text\")\n",
       "            .selectAll(\"tspan\")\n",
       "            .data(function(d) { return [d.data.number]; })\n",
       "            .enter().append(\"tspan\")\n",
       "            .attr(\"class\", \"bubble-label\")\n",
       "            .attr(\"x\", 0)\n",
       "            .attr(\"y\", function(d, i, nodes) { return 13 + (i - nodes.length / 2 - 0.5) * 10; })\n",
       "            .text(function(d) { return d; });\n",
       "\n",
       "    node.append(\"title\")\n",
       "            .text(function(d) { return d.authors + \"\\n\" + numberFormat(d.data.length); });\n",
       "});"
      ],
      "text/plain": [
       "<IPython.core.display.Javascript object>"
      ]
     },
     "metadata": {},
     "output_type": "display_data"
    }
   ],
   "source": [
    "%%javascript\n",
    "require(['d3'], function(d3) {\n",
    "    $(\"#bubble_chart\").remove();\n",
    "    element.append('<svg id=\"bubble_chart\" width=\"960\" height=\"660\"></div>');\n",
    "    var bubble_chart = d3.select(\"#bubble_chart\");\n",
    "    var width = bubble_chart.attr(\"width\");\n",
    "    var height = bubble_chart.attr(\"height\");\n",
    "    var numberFormat = d3.format(\",d\");\n",
    "    var pickColor = d3.scaleOrdinal(d3.schemeCategory10);\n",
    "    var pack = d3.pack().size([width, height]).padding(1.5);\n",
    "\n",
    "    var root = d3.hierarchy({children: window.papers_info})\n",
    "            .sum(function(d) { return d.length; })\n",
    "            .each(function(d) {\n",
    "                if (d.data.authors) {\n",
    "                    d.authors = d.data.authors.join(\", \")\n",
    "                }\n",
    "            });\n",
    "\n",
    "    var node = bubble_chart.selectAll(\".paper\")\n",
    "            .data(pack(root).leaves())\n",
    "            .enter().append(\"g\")\n",
    "            .attr(\"class\", \"node\")\n",
    "            .attr(\"transform\", function(d) { return \"translate(\" + d.x + \",\" + d.y + \")\"; });\n",
    "\n",
    "    node.append(\"circle\")\n",
    "            .attr(\"id\", function(d) { return d.data.number; })\n",
    "            .attr(\"r\", function(d) { return d.r; })\n",
    "            .style(\"fill\", function(d) { return pickColor(d.authors); });\n",
    "\n",
    "    node.append(\"text\")\n",
    "            .selectAll(\"tspan\")\n",
    "            .data(function(d) { return [d.data.number]; })\n",
    "            .enter().append(\"tspan\")\n",
    "            .attr(\"class\", \"bubble-label\")\n",
    "            .attr(\"x\", 0)\n",
    "            .attr(\"y\", function(d, i, nodes) { return 13 + (i - nodes.length / 2 - 0.5) * 10; })\n",
    "            .text(function(d) { return d; });\n",
    "\n",
    "    node.append(\"title\")\n",
    "            .text(function(d) { return d.authors + \"\\n\" + numberFormat(d.data.length); });\n",
    "});\n"
   ]
  },
  {
   "cell_type": "markdown",
   "metadata": {},
   "source": [
    "You will get a graph like this:\n",
    "![](bubble_chart.png)\n",
    "In this chart, we can see Hamilton (blue) wrote most of the papers, and Jay's papers (orange) are fewer and shorter than the rest of the papers. Madison's are in green and Hamilton or Madison's are in red. You can hover your mouse on each circle to see the authors and the length of a specific paper."
   ]
  },
  {
   "cell_type": "markdown",
   "metadata": {},
   "source": [
    "## Partition\n",
    "Partition is a graph that shows the distribution of data in a hierarchical manner. For example, if you have a directory that contains sub-directories and files at different depths, you may want to show how much space each file and directory take. In that case, you may want to draw a partition graph where the file size is proportional to the area of rectangle or the arc length in a circle.\n"
   ]
  },
  {
   "cell_type": "markdown",
   "metadata": {},
   "source": [
    "### Data preprocessing\n",
    "Before we can draw a partition graph, we need to format the data so `d3.hierarchy` can read them easily.\n",
    "Here we group papers by the authors, then by the year and month, and we put papers without publish date as direct children of the author.\n",
    "After the processing, a part of the JSON look like this:\n",
    "\n",
    "    {\n",
    "        \"name\": \"MADISON\",\n",
    "        \"children\": [{\n",
    "            \"name\": \"1787-11\",\n",
    "            \"children\": [\n",
    "                {\"date\": \"1787-11-23\", \"length\": 18203, \"name\": \"No. 10\"},\n",
    "                {\"date\": \"1787-11-30\", \"length\": 12872, \"name\": \"No. 14\"}\n",
    "            ]}, {\n",
    "            \"name\": \"1788-01\",\n",
    "            \"children\": [\n",
    "                {\"date\": \"1788-01-11\", \"length\": 16894, \"name\": \"No. 37\"},\n",
    "                {\"date\": \"1788-01-15\", \"length\": 19854, \"name\": \"No. 38\"},\n",
    "                {\"date\": \"1788-01-18\", \"length\": 18577, \"name\": \"No. 40\"},\n",
    "                {\"date\": \"1788-01-22\", \"length\": 17165, \"name\": \"No. 42\"},\n",
    "                {\"date\": \"1788-01-25\", \"length\": 17731, \"name\": \"No. 44\"},\n",
    "                {\"date\": \"1788-01-29\", \"length\": 16001, \"name\": \"No. 46\"}\n",
    "            ]}, {\n",
    "            \"name\": \"1788-02\",\n",
    "            \"children\": [\n",
    "                {\"date\": \"1788-02-01\", \"length\": 17217, \"name\": \"No. 47\"},\n",
    "                {\"date\": \"1788-02-01\", \"length\": 11696, \"name\": \"No. 48\"}\n",
    "            ]},\n",
    "            {\"date\": \"\", \"length\": 15860, \"name\": \"No. 39\"},\n",
    "            {\"date\": \"\", \"length\": 21397, \"name\": \"No. 41\"},\n",
    "            {\"date\": \"\", \"length\": 21075, \"name\": \"No. 43\"},\n",
    "            {\"date\": \"\", \"length\": 13092, \"name\": \"No. 45\"},\n",
    "            {\"date\": \"\", \"length\": 12823, \"name\": \"No. 58\"}\n",
    "        ]\n",
    "    }\n"
   ]
  },
  {
   "cell_type": "markdown",
   "metadata": {},
   "source": [
    "The formatting code is not included here because the main focus is on the visualization."
   ]
  },
  {
   "cell_type": "markdown",
   "metadata": {},
   "source": [
    "### Rectangle Partition (aka Icicle)\n",
    "Before the main visualization code, we add some CSS rules to define the rectangle color and fonts."
   ]
  },
  {
   "cell_type": "code",
   "execution_count": 19,
   "metadata": {
    "collapsed": false
   },
   "outputs": [
    {
     "data": {
      "application/javascript": [
       "var css_rule_partition_rect = \"#partition_rect .node rect { fill: #ddd; }\" + \n",
       "\"#partition_rect .node text { font: 11px sans-serif; }\" +\n",
       "\"#partition_rect .node tspan:last-child { font-size: 10px; fill-opacity: 0.5; }\" +\n",
       "\"#partition_rect .node.internal text { font-weight: bold; }\" +\n",
       "\"#partition_rect .node.leaf rect { fill-opacity: 0.6; }\";\n",
       "var styleElement = document.createElement(\"style\");\n",
       "styleElement.type = \"text/css\";\n",
       "styleElement.appendChild(document.createTextNode(css_rule_partition_rect));\n",
       "document.head.appendChild(styleElement);"
      ],
      "text/plain": [
       "<IPython.core.display.Javascript object>"
      ]
     },
     "metadata": {},
     "output_type": "display_data"
    }
   ],
   "source": [
    "%%javascript\n",
    "var css_rule_partition_rect = \"#partition_rect .node rect { fill: #ddd; }\" + \n",
    "\"#partition_rect .node text { font: 11px sans-serif; }\" +\n",
    "\"#partition_rect .node tspan:last-child { font-size: 10px; fill-opacity: 0.5; }\" +\n",
    "\"#partition_rect .node.internal text { font-weight: bold; }\" +\n",
    "\"#partition_rect .node.leaf rect { fill-opacity: 0.6; }\";\n",
    "var styleElement = document.createElement(\"style\");\n",
    "styleElement.type = \"text/css\";\n",
    "styleElement.appendChild(document.createTextNode(css_rule_partition_rect));\n",
    "document.head.appendChild(styleElement);"
   ]
  },
  {
   "cell_type": "markdown",
   "metadata": {},
   "source": [
    "Below is the code showing the partition in rectangles, which includes:\n",
    "* Insert a `<svg>` element of size 1800 x 960, which the graph will be put.\n",
    "* Define the number formatter that will be used in all nodes\n",
    "* Define the color selector that will be used in leaf nodes.\n",
    "* Define the parition function, which takes [width, height] as parameter and add 1px padding around each rectangle. (**NOTE**: here we give parameter in `[height, width]` so the partition will be vertical. If you want the graph to be horizontal, please use `[height, width]` and swap all `x0` and `y0`, and `x1` and `y1`.)\n",
    "* Read the paper list tree asynchronously (using `d3.json`) to d3 hierarchy object. In the meantime, we sum the total paper length for every nodes and initialize `d.name` field.\n",
    "* Calculate `x0`, `x1`, `y0`, and `y1` by `partition(root)`\n",
    "* Create one `<g class=\"node\">` element for every node (node.descendants() returns all nodes, including leaf nodes and internal nodes)\n",
    "    * Add class `\"leaf\"` if the node is a child node, or `\"internal\"` otherwise.\n",
    "    * Set the x and y offset (i.e. the top left corner of the rectangle) in the `transform` attribute.\n",
    "* Create one `<rect>` element in each `<g class=\"node\">`, whose width and height are determined by `d.y1 - d.y0` and `d.x1 - d.x0`.\n",
    "    * Pick the fill color for leaf nodes. And we use the color by the author (which is at depth 1).\n",
    "* Create one `<text>` element in each `<g class=\"node\">` with 2 `<tspan>` elements showing the name and the value respectively.\n",
    "* Create one `<title>` element in each `<g class=\"node\">`, showing the name, date and length."
   ]
  },
  {
   "cell_type": "code",
   "execution_count": 21,
   "metadata": {
    "collapsed": false
   },
   "outputs": [
    {
     "data": {
      "application/javascript": [
       "require(['d3'], function(d3) {\n",
       "    $(\"#partition_rect\").remove();\n",
       "    element.append('<svg id=\"partition_rect\" width=\"960\" height=\"1800\"></div>');\n",
       "    var svg = d3.select(\"#partition_rect\"),\n",
       "        width = +svg.attr(\"width\"),\n",
       "        height = +svg.attr(\"height\");\n",
       "\n",
       "    var format = d3.format(\",d\");\n",
       "\n",
       "    var color = d3.scaleOrdinal(d3.schemeCategory10);\n",
       "\n",
       "    var partition = d3.partition()\n",
       "        .size([height, width])\n",
       "        .padding(1)\n",
       "        .round(true);\n",
       "\n",
       "    d3.json(\"papers_info_tree.json\", function(error, data) {\n",
       "      if (error) throw error;\n",
       "\n",
       "      var root = d3.hierarchy({children: data})\n",
       "          .sum(function(d) { return (d.length === undefined)? 0 : d.length; })\n",
       "          .each(function(d) { d.name = d.data.name ? d.data.name : \"\"; });\n",
       "\n",
       "      partition(root);\n",
       "\n",
       "      var cell = svg\n",
       "        .selectAll(\".node\")\n",
       "        .data(root.descendants())\n",
       "        .enter().append(\"g\")\n",
       "          .attr(\"class\", function(d) { return \"node\" + (d.children ? \" internal\" : \" leaf\"); })\n",
       "          .attr(\"transform\", function(d) { return \"translate(\" + d.y0 + \",\" + d.x0 + \")\"; });\n",
       "\n",
       "      cell.append(\"rect\")\n",
       "          .attr(\"width\", function(d) { return d.y1 - d.y0; })\n",
       "          .attr(\"height\", function(d) { return d.x1 - d.x0; })\n",
       "        .filter(function(d) { return !d.children; })\n",
       "          .style(\"fill\", function(d) {\n",
       "              while (d.depth > 1) d = d.parent;\n",
       "              return color(d.name);\n",
       "          });\n",
       "\n",
       "      cell.append(\"text\")\n",
       "          .attr(\"x\", 4)\n",
       "        .selectAll(\"tspan\")\n",
       "          .data(function(d) { return [d.name, \" \" + format(d.value)]; })\n",
       "        .enter().append(\"tspan\")\n",
       "          .attr(\"y\", 13)\n",
       "          .text(function(d) { return d; });\n",
       "\n",
       "      cell.append(\"title\")\n",
       "          .text(function(d) {\n",
       "              if (!d.children) {  // leaf nodes\n",
       "                  if (d.data.date === undefined || d.data.date === \"\")\n",
       "                      return d.name + \"\\ndate unknown\\n\" + format(d.value);\n",
       "                  return d.name + \"\\n\" + d.data.date + \"\\n\" + format(d.value);\n",
       "              } else if (d.name !== \"\") {  // intermediate nodes\n",
       "                  return d.name + \"\\n\" + format(d.value);\n",
       "              } else {  // root node\n",
       "                  return \"Total\\n\" + format(d.value);\n",
       "              }\n",
       "          });\n",
       "    });\n",
       "\n",
       "});"
      ],
      "text/plain": [
       "<IPython.core.display.Javascript object>"
      ]
     },
     "metadata": {},
     "output_type": "display_data"
    }
   ],
   "source": [
    "%%javascript\n",
    "require(['d3'], function(d3) {\n",
    "    $(\"#partition_rect\").remove();\n",
    "    element.append('<svg id=\"partition_rect\" width=\"960\" height=\"1800\"></div>');\n",
    "    var svg = d3.select(\"#partition_rect\"),\n",
    "        width = +svg.attr(\"width\"),\n",
    "        height = +svg.attr(\"height\");\n",
    "\n",
    "    var format = d3.format(\",d\");\n",
    "\n",
    "    var color = d3.scaleOrdinal(d3.schemeCategory10);\n",
    "\n",
    "    var partition = d3.partition()\n",
    "        .size([height, width])\n",
    "        .padding(1)\n",
    "        .round(true);\n",
    "\n",
    "    d3.json(\"papers_info_tree.json\", function(error, data) {\n",
    "      if (error) throw error;\n",
    "\n",
    "      var root = d3.hierarchy({children: data})\n",
    "          .sum(function(d) { return (d.length === undefined)? 0 : d.length; })\n",
    "          .each(function(d) { d.name = d.data.name ? d.data.name : \"\"; });\n",
    "\n",
    "      partition(root);\n",
    "\n",
    "      var cell = svg\n",
    "        .selectAll(\".node\")\n",
    "        .data(root.descendants())\n",
    "        .enter().append(\"g\")\n",
    "          .attr(\"class\", function(d) { return \"node\" + (d.children ? \" internal\" : \" leaf\"); })\n",
    "          .attr(\"transform\", function(d) { return \"translate(\" + d.y0 + \",\" + d.x0 + \")\"; });\n",
    "\n",
    "      cell.append(\"rect\")\n",
    "          .attr(\"width\", function(d) { return d.y1 - d.y0; })\n",
    "          .attr(\"height\", function(d) { return d.x1 - d.x0; })\n",
    "        .filter(function(d) { return !d.children; })\n",
    "          .style(\"fill\", function(d) {\n",
    "              while (d.depth > 1) d = d.parent;\n",
    "              return color(d.name);\n",
    "          });\n",
    "\n",
    "      cell.append(\"text\")\n",
    "          .attr(\"x\", 4)\n",
    "        .selectAll(\"tspan\")\n",
    "          .data(function(d) { return [d.name, \" \" + format(d.value)]; })\n",
    "        .enter().append(\"tspan\")\n",
    "          .attr(\"y\", 13)\n",
    "          .text(function(d) { return d; });\n",
    "\n",
    "      cell.append(\"title\")\n",
    "          .text(function(d) {\n",
    "              if (!d.children) {  // leaf nodes\n",
    "                  if (d.data.date === undefined || d.data.date === \"\")\n",
    "                      return d.name + \"\\ndate unknown\\n\" + format(d.value);\n",
    "                  return d.name + \"\\n\" + d.data.date + \"\\n\" + format(d.value);\n",
    "              } else if (d.name !== \"\") {  // intermediate nodes\n",
    "                  return d.name + \"\\n\" + format(d.value);\n",
    "              } else {  // root node\n",
    "                  return \"Total\\n\" + format(d.value);\n",
    "              }\n",
    "          });\n",
    "    });\n",
    "\n",
    "});"
   ]
  },
  {
   "cell_type": "markdown",
   "metadata": {},
   "source": [
    "Running the code above should generate a graph like this:\n",
    "![](partition_rect.png)\n",
    "The partition layout is flexible that the data do not need to end at the same level. For example, the papers without date are shown in third column in the graph. If you hover over one block in the graph, you can see the exact date when the paper was published or \"date unknown\" if the publish date is unavailable."
   ]
  },
  {
   "cell_type": "markdown",
   "metadata": {},
   "source": [
    "### Circle Partition\n",
    "The partition can be also rendered in circles. You can see [Vinicius Gravina's example](http://bl.ocks.org/vgrocha/1580af34e56ee6224d33) on bilevel partition where you can zoom in or zoom out on specific sections. The following is a screenshot of what it looks like.\n",
    "![](bilevel-partition.png)"
   ]
  },
  {
   "cell_type": "markdown",
   "metadata": {},
   "source": [
    "## Conclusion\n",
    "To make things simple, I didn't introduce how to change the graph dynamically. But you can check out the above example about Circle Partition which demonstrate the smoothness and beauty of D3.\n",
    "\n",
    "There are no specific usage of D3. Instead, we can find hundreds of examples at [D3 repository's Gallery](https://github.com/d3/d3/wiki/Gallery). So I think the best way to learn D3 is:\n",
    "* Pick a graph that fits the data the way you want\n",
    "* Walk through the code and edit that to hold your data\n",
    "* Change the colors and fonts to make it look great\n",
    "\n"
   ]
  },
  {
   "cell_type": "markdown",
   "metadata": {},
   "source": [
    "## References\n",
    "\n",
    "* [D3.js - Data-Driven Documents](https://d3js.org/)\n",
    "* Michael Li. [Embedding D3 in an IPython Notebook](http://blog.thedataincubator.com/2015/08/embedding-d3-in-an-ipython-notebook/).\n",
    "* Ben Blank. [How do you add CSS with Javascript?](http://stackoverflow.com/questions/707565/how-do-you-add-css-with-javascript)\n",
    "* Mike Bostock. [Calendar View](http://bl.ocks.org/mbostock/4063318).\n",
    "* Mike Bostock. [Bubble Chart](http://bl.ocks.org/mbostock/4063269).\n",
    "* Mike Bostock. [Partition](http://bl.ocks.org/mbostock/2e73ec84221cb9773f4c).\n",
    "* Vinicius Gravina. [Bilevel Partition](http://bl.ocks.org/vgrocha/1580af34e56ee6224d33)."
   ]
  },
  {
   "cell_type": "code",
   "execution_count": null,
   "metadata": {
    "collapsed": true
   },
   "outputs": [],
   "source": []
  }
 ],
 "metadata": {
  "anaconda-cloud": {},
  "kernelspec": {
   "display_name": "Python [conda root]",
   "language": "python",
   "name": "conda-root-py"
  },
  "language_info": {
   "codemirror_mode": {
    "name": "ipython",
    "version": 2
   },
   "file_extension": ".py",
   "mimetype": "text/x-python",
   "name": "python",
   "nbconvert_exporter": "python",
   "pygments_lexer": "ipython2",
   "version": "2.7.12"
  }
 },
 "nbformat": 4,
 "nbformat_minor": 1
}
