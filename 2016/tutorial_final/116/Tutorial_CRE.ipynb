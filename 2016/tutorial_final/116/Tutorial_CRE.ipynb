{
 "cells": [
  {
   "cell_type": "markdown",
   "metadata": {},
   "source": [
    "# Data Analysis  in Reactor Design\n",
    "\n",
    "\n"
   ]
  },
  {
   "cell_type": "markdown",
   "metadata": {},
   "source": [
    "\n",
    "\n",
    "## Introduction\n",
    "\n",
    "Chemical Engineering has various components to it such as Process Engineering, Optimization, and Reaction Engineering.\n",
    "\n",
    "Reaction Engineering focuses on the study of Chemical Reactions, the kinetics and thermodynamics involved, catalysis and reactor design. \n",
    "\n",
    "Data science is widely used in Reaction Engineering, primarily for data analysis in catalysis or reactor design.\n",
    "\n",
    "This tutorial will focus on data analysis in reactor design. It will give an overview of and how data analysis techniques are applied in reactor desing and why they are important.\n",
    "\n",
    "We will specifically look at parameter estimation using Regression techniques.\n",
    "\n"
   ]
  },
  {
   "cell_type": "markdown",
   "metadata": {},
   "source": [
    "\n",
    "\n",
    "## Reactor Design\n",
    "\n",
    "\n",
    "Design of Reactors is a very important aspect in Chemical Engineering. \n",
    "\n",
    "Reactors are equipment which convert reactants to products under certain conditions of temperature and pressure in presence of a catalyst. \n",
    "\n",
    "The aim of the reactor is to get a desired amount of product as output. For this, a proportional amount of reactant has to react and be converted to product. \n",
    "\n",
    "The ratio of product to reactant is called conversion. Conversion is an important criteria for reactor design. \n",
    "\n",
    "To achieve the desired conversion, the reactor should have a certain value which depends on the type of reactor, the conversion desired and the reaction under consideration. \n",
    "\n",
    "Volume dictates the amount of time the reactants spend in the reactor. The reactants need to have sufficienct time in the reactor such that the desired conversion is achieved. \n",
    "\n",
    "Reactor can be in the form of tanks or tubes. We will not look at different reactor types in this tutorial but focus on generalized design techniques.\n"
   ]
  },
  {
   "cell_type": "markdown",
   "metadata": {},
   "source": [
    "### Key terms\n",
    "\n",
    "We will now look at key terms and understand what role they play.\n"
   ]
  },
  {
   "cell_type": "markdown",
   "metadata": {},
   "source": [
    "**Chemical Reaction:**\n",
    "\n",
    "$ a A + b B + \\cdots \\rightarrow q Q + s S +\\cdots $\n",
    "\n",
    "This is an example of a chemical reaction. Reactants A and B react and are converted to C and D.\n",
    "\n",
    "a, b, c, d are called stoichometric coefficients. These represent the quantity of each of the components. We will not work with the stoichiometric coefficients in this tutorial.\n"
   ]
  },
  {
   "cell_type": "markdown",
   "metadata": {},
   "source": [
    "**Rate of reaction:**\n",
    "\n",
    "Consider the reaction $A + B \\rightarrow C$\n",
    "        \n",
    "For this reaction, the rate of reaction is $r = k C_A C_B$   \n",
    " \n",
    "The rate of reaction dictates how fast the reactant reacts and converts to products. The rate of reaction depends on the concentration ( $C_A$ and $C_B$ ) and the rate constant ( $k$ ). "
   ]
  },
  {
   "cell_type": "markdown",
   "metadata": {},
   "source": [
    "**Rate constant:** \n",
    "    \n",
    "Rate constant is dictates how fast or slow the reaction proceeds. Higher values of $k$ result in a higher rate of reaction. Higher concentrations also result in higher rate of reaction.\n",
    "\n",
    "There is no formula or methodology to calculate the rate constant. The rate constant is experimentally determined and depends on the mechanism of the reaction. Hence there are some uncertainities in the value as well. "
   ]
  },
  {
   "cell_type": "markdown",
   "metadata": {},
   "source": [
    "**Concentration:**\n",
    "    \n",
    "Concentration is the count of quantity of the component per litre of solution. This is the most common metric used to express concentration. \n",
    "\n",
    "'mol' (gram-mole) is the unit of component. 1 gram-mole of component is equal to its molecular weight.\n",
    "\n",
    "eg: 1 mol (gram-mole) of water = 18 grams"
   ]
  },
  {
   "cell_type": "markdown",
   "metadata": {},
   "source": [
    "**Order of Reaction**\n",
    "\n",
    "Order of reaction is determined by the dependency on concentration. For the given example reaction, the order of reaction is 2 because the rate of reaction depends on square of concentration.\n",
    "\n",
    "The order of reaction need not be integers. The order of reaction depends on the mechanism, just as the rate constant. Mechanisms for some reactions are not known and hence the order of reactions are not known.  \n"
   ]
  },
  {
   "cell_type": "markdown",
   "metadata": {},
   "source": [
    "## Motivation"
   ]
  },
  {
   "cell_type": "markdown",
   "metadata": {},
   "source": [
    "We know that the rate constant and order of reaction are experimentally determined. Imagine the scenario. We have the concentrations, and the time at which these concentrations are observed. From this data, we need to determine the rate constant and the order of reaction. \n",
    "\n",
    "This is where data analysis is useful. Regression can be used to determine the unknown parameters given the data."
   ]
  },
  {
   "cell_type": "markdown",
   "metadata": {},
   "source": [
    "## Examples\n",
    "\n",
    "We can start off with a simple example on how regression is applied."
   ]
  },
  {
   "cell_type": "markdown",
   "metadata": {},
   "source": [
    " ###  **Linear Regression**\n",
    " \n",
    " We will use simple linear regression to fit the curve for this example. \n",
    " \n",
    " We will use *linear algebra* and the *regress* method from the [*pycse*](http://kitchingroup.cheme.cmu.edu/pycse/pycse.html) package  to fit the data and compare the two fits."
   ]
  },
  {
   "cell_type": "markdown",
   "metadata": {
    "collapsed": false
   },
   "source": [
    "**Using Linear Algebra**"
   ]
  },
  {
   "cell_type": "code",
   "execution_count": 64,
   "metadata": {
    "collapsed": false
   },
   "outputs": [
    {
     "name": "stdout",
     "output_type": "stream",
     "text": [
      "R-squared = 1.000000 \n",
      "The slope is 0.187 and the intercept is -0.001\n"
     ]
    },
    {
     "data": {
      "image/png": "[encoded data removed]",
      "text/plain": [
       "<matplotlib.figure.Figure at 0xf0ae8d0>"
      ]
     },
     "metadata": {},
     "output_type": "display_data"
    }
   ],
   "source": [
    "import numpy as np\n",
    "\n",
    "# Given data\n",
    "\n",
    "x = np.array([0.0, 1.0, 2.0, 4.0, 6.0, 10.0, 15.0, 20.0, 30.0])\n",
    "y = np.array([0, 0.187, 0.373, 0.744, 1.118, 1.867, 2.801, 3.735, 5.603])\n",
    "\n",
    "# Making the linear fit\n",
    "\n",
    "X = np.column_stack([x, x**0])\n",
    "\n",
    "XTX = np.dot(X.T, X)\n",
    "XTy = np.dot(X.T, y)\n",
    "\n",
    "p = np.dot(np.linalg.inv(XTX), XTy)\n",
    "slope, intercept = p \n",
    "\n",
    "# Calculating the R^2 value using error\n",
    "\n",
    "e = y - np.dot(X,p)\n",
    "SSE = np.dot(e, e)\n",
    "\n",
    "yb = y - np.mean(y)\n",
    "SST = np.dot(yb, yb)\n",
    "\n",
    "Rsq = 1 - SSE/SST\n",
    "\n",
    "# Plotting the data and fit\n",
    "import matplotlib.pyplot as plt\n",
    "%matplotlib inline\n",
    "plt.plot(x, y, 'bo')\n",
    "plt.plot(x, np.dot(X, p), 'r--')\n",
    "plt.xlabel('x')\n",
    "plt.ylabel('y')\n",
    "plt.legend(['data','fit'])\n",
    "\n",
    "print('R-squared = {0:1.6f} '.format(Rsq))\n",
    "print('The slope is {0:1.3f} and the intercept is {1:1.3f}'.format(slope, intercept))"
   ]
  },
  {
   "cell_type": "markdown",
   "metadata": {},
   "source": [
    "We used a linear fit for the data. A $R^2$ value of 1 indicates a perfect fit. In our case, by visual inspection and the $R^2$ value; we see that the fit is very good."
   ]
  },
  {
   "cell_type": "markdown",
   "metadata": {},
   "source": [
    "**Using 'Regress' method from Pycse package**"
   ]
  },
  {
   "cell_type": "markdown",
   "metadata": {},
   "source": [
    "The Regress method works as a linear least square regression with confidence intervals. The confidence interval helps account for uncertainty in parameters that we estimate after making the fit. \n",
    "\n",
    "The values for the slope and intercept are returned as a range.The range gives the value withn which the parameters will lie. \n",
    "\n",
    "Higher the confidence interval, larger the range for the parameters. The confidence interval stands for the certainty of the parameters lying the range returned. The confidence interval and range have an inverse relation."
   ]
  },
  {
   "cell_type": "code",
   "execution_count": 65,
   "metadata": {
    "collapsed": false
   },
   "outputs": [
    {
     "name": "stdout",
     "output_type": "stream",
     "text": [
      "The slope is between [ 0.18669097  0.18689951] at the 95% confidence level\n",
      "The intercept is between [-0.00253451  0.00031649] at the 95% confidence level\n"
     ]
    },
    {
     "data": {
      "image/png": "[encoded data removed]",
      "text/plain": [
       "<matplotlib.figure.Figure at 0xf8edd30>"
      ]
     },
     "metadata": {},
     "output_type": "display_data"
    }
   ],
   "source": [
    "import numpy as np\n",
    "from pycse import regress\n",
    "\n",
    "x = np.array([0.0, 1.0, 2.0, 4.0, 6.0, 10.0, 15.0, 20.0, 30.0])\n",
    "y = np.array([0, 0.187, 0.373, 0.744, 1.118, 1.867, 2.801, 3.735, 5.603])\n",
    "\n",
    "X = np.column_stack([x, x**0])\n",
    "\n",
    "# The Regress method with a 95% confidence interval\n",
    "alpha = 1 - 0.95\n",
    "p, pint, se = regress(X, y, alpha)\n",
    "slope_interval, intercept_interval = pint\n",
    "\n",
    "# plotting the data and fit\n",
    "import matplotlib.pyplot as plt\n",
    "%matplotlib inline\n",
    "plt.plot(x, y, 'bo')\n",
    "plt.plot(x, np.dot(X, p), 'r--')\n",
    "plt.xlabel('x')\n",
    "plt.ylabel('y')\n",
    "plt.legend(['data','fit'])\n",
    "\n",
    "print('The slope is between {0} at the 95% confidence level'.format(slope_interval))\n",
    "\n",
    "print('The intercept is between {0} at the 95% confidence level'.format(intercept_interval))"
   ]
  },
  {
   "cell_type": "markdown",
   "metadata": {
    "collapsed": true
   },
   "source": [
    "We can obseve that our curve  fits the data very well like the linear algebra method. As expected, the slope and intercept are returned as a range."
   ]
  },
  {
   "cell_type": "markdown",
   "metadata": {},
   "source": [
    "## Regression in Parameter Estimation"
   ]
  },
  {
   "cell_type": "markdown",
   "metadata": {},
   "source": [
    "In reactor design, the rate constant and order of reaction are important parameters. These parameters are used to determine the volume of the reactor.\n",
    "\n",
    "Poor estimation of these parameters result in poor reactor design. \n",
    "\n",
    "Poor reactor design leads circumstances such as less than desired conversion or even more deleterious consequences like reactor overflow or blowup.\n",
    "\n",
    "To avoid these potentially hazardous situations, it is necessary to have good estimates.\n",
    "\n",
    "Even after making a very good fit, there are uncetinities in the parameters. It is necessary to account for these uncertainities while estimating the rate of reaction ($k$) and order of reaction ($alpha$)."
   ]
  },
  {
   "cell_type": "markdown",
   "metadata": {},
   "source": [
    "### Using polynomial fits"
   ]
  },
  {
   "cell_type": "markdown",
   "metadata": {},
   "source": [
    "Data of concentration at certain time intervals is given. We will fit this data to estimate the rate constant ( $k$ ) and the order or reaction ( $alpha$ ). \n",
    "\n",
    "We plot the data to evaluate what fit would best. \n",
    "\n",
    "The rate of reaction is given by the expression\n",
    "\n",
    "$r_A = k C_A^\\alpha$\n",
    "\n",
    "where,\n",
    "$k$ : Rate constant\n",
    "$alpha$ : Order of reaction"
   ]
  },
  {
   "cell_type": "code",
   "execution_count": 66,
   "metadata": {
    "collapsed": false
   },
   "outputs": [
    {
     "data": {
      "text/plain": [
       "<matplotlib.text.Text at 0x11061860>"
      ]
     },
     "execution_count": 66,
     "metadata": {},
     "output_type": "execute_result"
    },
    {
     "data": {
      "image/png": "[encoded data removed]",
      "text/plain": [
       "<matplotlib.figure.Figure at 0xfb259e8>"
      ]
     },
     "metadata": {},
     "output_type": "display_data"
    }
   ],
   "source": [
    "# Given data\n",
    "t = np.array([0, 60 ,120, 180, 240, 300, 360])\n",
    "Ca = np.array([0.0365, 0.0274, 0.0206, 0.0157, 0.0117, 0.00860, 0.00640])\n",
    "\n",
    "import matplotlib.pyplot\n",
    "%matplotlib inline\n",
    "plt.plot(t, Ca, 'bo ')\n",
    "plt.xlabel('$t$ (min)')\n",
    "plt.ylabel('$C_A$ (mol/L)')\n",
    "plt.title('Given data')"
   ]
  },
  {
   "cell_type": "markdown",
   "metadata": {},
   "source": [
    "From the plot we see that a linear fit is bad approximation for the data. So, we use polynomial fit to better fit the curve."
   ]
  },
  {
   "cell_type": "markdown",
   "metadata": {},
   "source": [
    "\n",
    "The methods we use for the polynomial fit are explained below:\n",
    "\n",
    "[**Polyfit**](https://docs.scipy.org/doc/numpy/reference/generated/numpy.polyfit.html)\n",
    "\n",
    "This method from Numpy package is used to make a polynomial fit. We can specify the order of the fit. \n",
    "\n",
    "This method works as a least squares regression of the chosen order. The data to be fit is passed as the parameters.\n",
    "\n",
    "The coefficients of the polynomial are returned. \n",
    "\n",
    "\n",
    "[**Polyval**](https://docs.scipy.org/doc/numpy/reference/generated/numpy.polyval.html)\n",
    "\n",
    "This method from the Numpy package is used to estimate y values from the fit at given x values. (where y and x are axes in convetional terms)\n",
    "\n",
    "The fit parameter as obtained by polyfit is passed as one parameter along with the x value at which y value needs to be estimated.\n",
    "\n",
    "\n",
    "[**Polyder**](https://docs.scipy.org/doc/numpy/reference/generated/numpy.polyder.html)\n",
    "\n",
    "This method from the Numpy package is used for differentiation. \n",
    "\n",
    "A sequence of coefficeicnts of polynomials is one parameter and order of differentiation is the other parameter."
   ]
  },
  {
   "cell_type": "markdown",
   "metadata": {},
   "source": [
    "**Polynomial Fit**"
   ]
  },
  {
   "cell_type": "code",
   "execution_count": 67,
   "metadata": {
    "collapsed": false
   },
   "outputs": [
    {
     "name": "stdout",
     "output_type": "stream",
     "text": [
      "Summed squared error = 1.41202262212e-32\n",
      "R-squared = 1.000000 \n",
      "alpha = [ 0.77194515  1.00688954] at 95% confidence level\n",
      "k = [ 0.00189601  0.00509979] at 95% confidence level\n"
     ]
    },
    {
     "data": {
      "text/plain": [
       "<matplotlib.legend.Legend at 0xef44978>"
      ]
     },
     "execution_count": 67,
     "metadata": {},
     "output_type": "execute_result"
    },
    {
     "data": {
      "image/png": "[encoded data removed]",
      "text/plain": [
       "<matplotlib.figure.Figure at 0x10fe3240>"
      ]
     },
     "metadata": {},
     "output_type": "display_data"
    },
    {
     "data": {
      "image/png": "[encoded data removed]",
      "text/plain": [
       "<matplotlib.figure.Figure at 0x105c21d0>"
      ]
     },
     "metadata": {},
     "output_type": "display_data"
    }
   ],
   "source": [
    "import numpy as np\n",
    "from numpy import polyfit, polyval, polyder\n",
    "from pycse import regress\n",
    "import matplotlib.pyplot as plt\n",
    "\n",
    "#Given data\n",
    "t = np.array([0, 60 ,120, 180, 240, 300, 360])\n",
    "Ca = np.array([0.0365, 0.0274, 0.0206, 0.0157, 0.0117, 0.00860, 0.00640])\n",
    "\n",
    "# Using polyfit to fit the data - polynomial of order 3 is chosen \n",
    "fit_Ca = np.polyfit(t, Ca, 3)\n",
    "\n",
    "# Using polyval to estimate values are given time (x values)\n",
    "# The fit values are passed as an argument to polyval\n",
    "val_Ca = np.polyval(fit_Ca, t)\n",
    "\n",
    "#Computing the R-squared value\n",
    "\n",
    "SSE = np.sum(val_Ca - Ca)**2\n",
    "\n",
    "y_Rsq = val_Ca - np.mean(Ca)\n",
    "SST = np.dot(y_Rsq, y_Rsq)\n",
    "\n",
    "Rsq = 1 - SSE/SST\n",
    "\n",
    "print('Summed squared error = {}'.format(SSE))\n",
    "print('R-squared = {0:1.6f} '.format(Rsq))\n",
    "\n",
    "# Plotting the polynomial fit to the data\n",
    "%matplotlib inline\n",
    "plt.plot(t, Ca, 'bo ')\n",
    "plt.plot(t, val_Ca,'r--')\n",
    "plt.xlabel('$t$ (min)')\n",
    "plt.ylabel('$C_A$ (mol/L)')\n",
    "plt.title('Polynomial fit to the data')\n",
    "plt.legend(['data','fit'])\n",
    "\n",
    "# Computing the derivative\n",
    "# The fit parameter is passed as arguments to polyder.\n",
    "# Polyder results and time are passed as arguments to polyval to compute the deriatives\n",
    "dCadt = np.polyval(np.polyder(fit_Ca), t)\n",
    "\n",
    "# Construct the data to be fit\n",
    "# ln(-dCa/dt) = alpha ln(Ca) + ln(k) \n",
    "x = np.log(Ca)\n",
    "y = np.log(-dCadt)\n",
    "\n",
    "#Fitting the data with a confidence interval of 95%\n",
    "X = np.column_stack([x**0, x])\n",
    "alpha = 1 - 0.95\n",
    "p, pint, se = regress(X, y, alpha)\n",
    "\n",
    "intercept = pint[0]\n",
    "alpha = pint[1]\n",
    "\n",
    "# The intercept is ln(k). Calculating k here\n",
    "k = np.exp(intercept)\n",
    "\n",
    "print('alpha = {} at 95% confidence level'.format(alpha))\n",
    "print('k = {0} at 95% confidence level'.format(k))\n",
    "\n",
    "# Plotting the derivative form of the data and fit\n",
    "plt.figure()\n",
    "plt.plot(x, y, 'bo ')\n",
    "plt.plot(x, np.dot(X, p),'r--')\n",
    "plt.xlabel('$\\ln(C_A)$')\n",
    "plt.ylabel('$\\ln(-dC_A/dt)$')\n",
    "plt.title('Linear fit for parameter estimation')\n",
    "plt.legend(['data','fit'])"
   ]
  },
  {
   "cell_type": "markdown",
   "metadata": {},
   "source": [
    "We fit the data using a fourth order polynomial. We can observe from SSE and $R^2$ that it is a very good fit.\n",
    "\n",
    "Choosing an appropriate order of polynomial is important. A lower order gives a poor fit and a higher order results in overfitting.\n",
    "\n",
    "As expected, the values of $k$ and $alpha$ are returned as a range. But the range is pretty broad, which means that there is considerable uncertainty in their values.\n",
    "\n",
    "This makes designing a reactor more difficult as higher uncertainty has to be accounted for. Lower uncertainty tends to make the reactor design better.\n",
    "\n",
    "Good designs are important to reach the desired conversion and concentration of the product. We will evaluate another way of fitting to reduce the uncertainties."
   ]
  },
  {
   "cell_type": "markdown",
   "metadata": {},
   "source": [
    "### Using Differential Equation based models"
   ]
  },
  {
   "cell_type": "markdown",
   "metadata": {},
   "source": [
    "We numerically integrate the Ordinary Differential Equation: Concentration with respect to time. The parameters we need to estimate are passed as arguments. We will use the method [*odeint*](https://docs.scipy.org/doc/scipy/reference/generated/scipy.integrate.odeint.html) for the integration.\n",
    "\n",
    "We use a method called *nlinft* to vary the parameters and fit the data. The ODE is passed as an argument. The data that we wish to fit and the confidence interval are also passed as arguments. \n",
    "\n",
    "**nlinfit**:\n",
    "\n",
    "This method from the [*pycse*](http://kitchingroup.cheme.cmu.edu/pycse/pycse.html) package is nonlinear regression. In addition to the arguments mentioned above, this also requires a guess for the parameters that we wish to estimate. \n",
    "\n",
    "The array of fitted parameters, array of confidence intervals and the Standard error are returned.\n"
   ]
  },
  {
   "cell_type": "code",
   "execution_count": 68,
   "metadata": {
    "collapsed": false
   },
   "outputs": [
    {
     "name": "stdout",
     "output_type": "stream",
     "text": [
      "alpha = [ 0.92353839  1.01880091] at the 95% confidence level\n",
      "k = [ 0.00348317  0.00504751] at the 95% confidence level\n"
     ]
    }
   ],
   "source": [
    "import numpy as np\n",
    "import matplotlib.pyplot as plt\n",
    "from scipy.integrate import odeint\n",
    "from pycse import  nlinfit\n",
    "\n",
    "#Given data\n",
    "t = np.array([0, 60 ,120, 180, 240, 300, 360])\n",
    "Ca = np.array([0.0365, 0.0274, 0.0206, 0.0157, 0.0117, 0.00860, 0.00640])\n",
    "\n",
    "#Starting point for integration - first value of Ca\n",
    "Ca0 = 0.0365\n",
    "\n",
    "#Forming the ODE\n",
    "def dCadt(Ca, t, k, alpha):\n",
    "    return -k * Ca**alpha\n",
    "\n",
    "#Integrating the ODE\n",
    "def model(t, k, alpha):\n",
    "    Ca = odeint(dCadt, Ca0, t, args = (k, alpha))\n",
    "    return Ca[:,0]  # must return a 1D array here\n",
    "\n",
    "# Initial guesses - from the polynomial fit\n",
    "guess = [0.1, 2.0] \n",
    "\n",
    "#Fitting the data with a confidence interval of 95%\n",
    "alpha = 1 - 0.95\n",
    "p, pint, se = nlinfit(model, t, Ca, guess, alpha)\n",
    "\n",
    "k, alpha = np.array(pint)\n",
    "\n",
    "print('alpha = {} at the 95% confidence level'.format(alpha))\n",
    "print('k = {0} at the 95% confidence level'.format(k))"
   ]
  },
  {
   "cell_type": "markdown",
   "metadata": {},
   "source": [
    "We can observe that the range for the values of $k$ and $alpha$ are much smaller than the polynomial fit at the same confidence interval.\n",
    "\n",
    "In this case, we are directly fitting the data with the parameters. The drawback of this approach is that good initial guesses are necessary. Poor guesses can gice erronous results. \n",
    "\n",
    "Hence, although this approach yields good estimates, it is inconvenient to use without some knowledge of the system.\n",
    "\n",
    "\n"
   ]
  },
  {
   "cell_type": "markdown",
   "metadata": {},
   "source": [
    "### End Note on Parameter Estimation"
   ]
  },
  {
   "cell_type": "markdown",
   "metadata": {},
   "source": [
    "We have seen how the parameters like the Order of Reaction and Rate Cosntant can be estimated with fairly high accuracies. We used linear and nonlinear regression techniques for curve fitting. We used visual inspection and the R-squared values to determine the quality of the fit.\n",
    "\n",
    "The examples given in the tutorial are not involved. Simple reaction mechanisms are chosen. The regression models are also easy to build and solve.\n",
    "\n",
    "This is not the case in practical design. But, now we have seen basic techniques on how to tackle problems like these."
   ]
  },
  {
   "cell_type": "markdown",
   "metadata": {},
   "source": [
    "\n",
    "\n",
    "\n",
    "## Conclusion ##"
   ]
  },
  {
   "cell_type": "markdown",
   "metadata": {},
   "source": [
    "Through this tutorial we have seen how data analysis tools such as regression are useful in Reactor Design. Using the parameters estimated, conversions and exit concentration of products are evaluated. The required volume to reach the desired conversion is determined. \n",
    "\n",
    "This evaluation is out of scope of this tutorial. But we have seen how the basics of regression used in Reaction Engineering. We know how regression is useful to determine parameters and why uncertainities in estimations are problematic. We have seen how to reduce the uncertainities and what challenges we face in doing so.\n",
    "\n",
    "We are now equipped with the know-how and tools to tackle simple regression problems, and we know the limitations of those tools. \n",
    "\n"
   ]
  },
  {
   "cell_type": "markdown",
   "metadata": {},
   "source": [
    "## Acknowledgements\n",
    "\n",
    "The author would like to acknowledge Prof. John Kitchin from Chemical Engineering Department, Carnegie Mellon University as the author of the Pycse module. \n",
    "\n",
    "The author has also used concepts and code  from the class 06-665 Chemical and Reactive Systems by Prof. John Kitchin as basis for this tutorial.\n",
    "\n",
    " Website : http://kitchingroup.cheme.cmu.edu\n",
    " \n",
    " Github : https://github.com/jkitchin/pycse  \n",
    " \n",
    " Download Pycse : https://pypi.python.org/pypi/pycse\n",
    " \n",
    "\n",
    "\n",
    "Data for Linear Regression examples is complied by the author.\n",
    "\n",
    "Data for Parameter Estimation is from * Chemistry, LibreTexts, Example 1.1* http://chem.libretexts.org/Core/Physical_and_Theoretical_Chemistry/Kinetics/Reaction_Rates/Using_Graphs_to_Determine_Rate_Laws"
   ]
  },
  {
   "cell_type": "markdown",
   "metadata": {},
   "source": [
    "### References for Reaction Engineering \n",
    "\n",
    "1) Chemical Reaction Engineering: Octave Levenspiel; *John Wiley and Sons*\n",
    "\n",
    "2) Elements of Chemical Reaction Engineering: Brian Vicente, Max Nori, H. Scott Fogler; *Prentice Hall*"
   ]
  }
 ],
 "metadata": {
  "kernelspec": {
   "display_name": "Python [snakes]",
   "language": "python",
   "name": "Python [snakes]"
  },
  "language_info": {
   "codemirror_mode": {
    "name": "ipython",
    "version": 2
   },
   "file_extension": ".py",
   "mimetype": "text/x-python",
   "name": "python",
   "nbconvert_exporter": "python",
   "pygments_lexer": "ipython2",
   "version": "2.7.12"
  }
 },
 "nbformat": 4,
 "nbformat_minor": 0
}
