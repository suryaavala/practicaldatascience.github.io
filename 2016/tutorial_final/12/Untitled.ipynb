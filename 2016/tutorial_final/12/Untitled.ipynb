{
 "cells": [
  {
   "cell_type": "markdown",
   "metadata": {},
   "source": [
    "# Bayes Networks: Less Naïve Bayes\n",
    "\n",
    "## Introduction\n",
    "When estimating probabilities in the data, there are two extremes. The first one makes no assumptions of conditional independence, but is often intractable as the number of paramaters grows exponentially. The second one makes full assumptions of conditional independence given the target variable. Despite its simplicity and efficiency, this is obviously not always optimal.   \n",
    "Graphical models, and Bayes Nets more specifically, offer a middle ground to both of these extremes as they make just enough conditional independence assumptions to be both accurate and efficient. \n",
    "\n",
    "## Definition\n",
    "As the name suggests, graphical models use a graph structure to model assumptions about conditional independences. In this tutorial we will study the most common type of model: Bayes Networks. Here is the formal definition:   \n",
    "\n",
    "A **Bayes Networks** is a Directed Acyclic Graph $G$ together with a set of conditional probability distributions $P$.\n",
    "* Nodes of the graph are random variables (inputs, outputs).\n",
    "* Edges encode the fact that two random variables are probabilistically related.\n",
    "* For a given node $X$, we must have $Pr(X \\mid parents(X)) \\in P$, where $parents(X)$ is the set of parents of $X$ in the graph $G$.\n",
    "* The joint probability is given by:\n",
    "$$ Pr(X_1, ..., X_n) = \\prod_{i = 1}^{n} Pr(X_i \\mid parents(X_i))$$\n",
    "Where $X_1, ..., X_n$ are the random variablies representing inputs and outputs. \n",
    "\n",
    "These probabilities are generally obtained after training. In this tutorial we will assume that the graph structure is known and that observed data is enough to estimate probabilities. Also, we only consider discrete finite random variables. There is a lot of ongoing research on learning from partially observed data or with an unknown graph structure but that's beyond the scope of this tutorial.\n",
    "\n",
    "## Example\n",
    "Let us first see an easy example before moving on.\n",
    "![Alt text](http://g.gravizo.com/g?\n",
    "  digraph G {\n",
    "    Pollution -> Cancer;\n",
    "    Smoker -> Cancer;\n",
    "    Cancer -> XRay;\n",
    "    Cancer -> Dyspnoea;\n",
    "  }\n",
    ")\n",
    "\n",
    "Here, there is an edge from Pollution and Smoking to Cancer because these are related factors. Also having cancer makes it obviously easier to be diagnosed with it, and to have trouble breathing (Dyspnoea).  \n",
    "The probabilities can look like this:\n",
    "\n",
    "| Pollution | Smoker | P(Cancer given Pollution, Smoking) |\n",
    "| --------- | ------ | ---------------------------------- |\n",
    "| High      | True   | 0.05                               |\n",
    "| High      | False  | 0.02                               |\n",
    "| Low       | True   | 0.03                               |\n",
    "| Low       | False  | 0.001                              |\n",
    "\n",
    "\n",
    "We can use the python library **pgmpy** to build this graphical model. This library can be found [here](https://github.com/pgmpy/pgmpy)."
   ]
  },
  {
   "cell_type": "code",
   "execution_count": 1,
   "metadata": {
    "collapsed": true
   },
   "outputs": [],
   "source": [
    "# Imports\n",
    "import pandas as pd\n",
    "import numpy as np\n",
    "\n",
    "from pgmpy.models import BayesianModel\n",
    "from pgmpy.factors.discrete import TabularCPD\n",
    "from pgmpy.estimators import BayesianEstimator"
   ]
  },
  {
   "cell_type": "code",
   "execution_count": 2,
   "metadata": {
    "collapsed": false
   },
   "outputs": [
    {
     "name": "stdout",
     "output_type": "stream",
     "text": [
      "+----------+-----+\n",
      "| Smoker_0 | 0.3 |\n",
      "+----------+-----+\n",
      "| Smoker_1 | 0.7 |\n",
      "+----------+-----+\n",
      "+-----------+-------------+-------------+-------------+-------------+\n",
      "| Smoker    | Smoker_0    | Smoker_0    | Smoker_1    | Smoker_1    |\n",
      "+-----------+-------------+-------------+-------------+-------------+\n",
      "| Pollution | Pollution_0 | Pollution_1 | Pollution_0 | Pollution_1 |\n",
      "+-----------+-------------+-------------+-------------+-------------+\n",
      "| Cancer_0  | 0.999       | 0.98        | 0.97        | 0.95        |\n",
      "+-----------+-------------+-------------+-------------+-------------+\n",
      "| Cancer_1  | 0.001       | 0.02        | 0.03        | 0.05        |\n",
      "+-----------+-------------+-------------+-------------+-------------+\n"
     ]
    }
   ],
   "source": [
    "# First Define the graph structure above.\n",
    "cancer_gm = BayesianModel([ ('Pollution', 'Cancer'), \n",
    "                            ('Smoker', 'Cancer'),\n",
    "                            ('Cancer', 'Xray'),\n",
    "                            ('Cancer', 'Dyspnoea')])\n",
    "\n",
    "# Then define the conditional probabilities\n",
    "# We only show the cpd (conditional probability distribution) of the Cancer node and Smoke.\n",
    "cpd_cancer = TabularCPD(variable='Cancer', variable_card=2,\n",
    "                        values=[[0.999, 0.98, 0.97, 0.95],\n",
    "                                [0.001, 0.02, 0.03, 0.05]],\n",
    "                        evidence=['Smoker', 'Pollution'],\n",
    "                        evidence_card=[2, 2])\n",
    "\n",
    "cpd_smoke = TabularCPD(variable='Smoker', variable_card=2,\n",
    "                       values=[[0.3], [0.7]])\n",
    "\n",
    "# Add the conditional probabilities to the graphical model\n",
    "cancer_gm.add_cpds(cpd_cancer)\n",
    "cancer_gm.add_cpds(cpd_smoke)\n",
    "print cancer_gm.get_cpds(\"Smoker\")\n",
    "print cancer_gm.get_cpds(\"Cancer\")"
   ]
  },
  {
   "cell_type": "markdown",
   "metadata": {},
   "source": [
    "As you can see, we first define the graph structure (using edges) with the **BayesianModel** Class. Then we define each\n",
    "conditional probability distribution given parents with the **TabularCPD** class. Here is the meaning of each argument:\n",
    "* **variable**: Name of the node\n",
    "* **variable_card**: Number of values the discrete finite random variables(2 for binary variables).\n",
    "* **evidence**: List of Parents.\n",
    "* **evidence_card**: List containing the number of arguments taken by each parent\n",
    "* **values**: Values taken by the CPD. **The order here should match the order defined in the parents**.\n",
    "\n",
    "And finally with them the **BayesianModel** using the **add_cpd** function.\n",
    "\n",
    "For more information see [here](http://pgmpy.org/)."
   ]
  },
  {
   "cell_type": "markdown",
   "metadata": {},
   "source": [
    "## Training A Bayes Network\n",
    "After defining an appropriate graph structure, we must obtain the Conditional\n",
    "Probability Distributions through training to complete our Bayes Nets.\n",
    "\n",
    "Given $m$ training examples, a node $X_i$ with parents $X_{j1}, X_{j2},...,\n",
    "X_{jm}$, we can get:\n",
    "    $$Pr(X_i = x_i \\mid X_{j1}=x_{j1}, ..., X_{jm}=x_{jm})\n",
    "        = \\frac{1(X_i=x_i, X_{j1} = x_{j1}, ..., X_{jm}=x_{jm}) + \\alpha}{1(X_{j1} = x_{j1}, ..., X_{jm}=x_{jm}) + \\alpha*D}$$\n",
    "where D is the number of probabilities we need to estimate (it is required for smoothing).\n",
    "\n",
    "Intuitively the numerator stands for the number of training examples in which both $X_i$ and its parents have the given values. The denominator stands for the number of training examples in which the parents have the given values. This formula is thus nearly identical to the Naïve Bayes formula.\n",
    "\n",
    "We now have all the tools to build a real life Bayes Net. So let's do it!"
   ]
  },
  {
   "cell_type": "markdown",
   "metadata": {},
   "source": [
    "## Example: Breast Cancer Prediction\n",
    "In this example, we will use Breast Cancer data to show you the end-to-end process that allows us to make predictions using Bayes Networks and **pgmpy**. We will predict two variables at the same time: whether the patient has breast cancer and whether the tumor is benign, malignant, or will have no effect or influence at all.\n",
    "\n",
    "This again is not a realistic example (the real model is way more (too) complex). It is a simplified version of the data can be found [here](https://www.cs.ru.nl/~peterl/BN/bc.csv) and of the complete graph structure can be obtained [here](http://www.cs.ru.nl/~peterl/teaching/CI/networks/bc.net).\n",
    "\n",
    "Let us first construct the graph.\n",
    "\n",
    "### Graph Structure\n",
    "Here is the graph.\n",
    "\n",
    "![Alt text](http://g.gravizo.com/g?\n",
    "  digraph G {\n",
    "    FibrTissueDev -> Spiculation;\n",
    "    Age -> BC;\n",
    "    Location -> BC;\n",
    "    AD -> FibrTissueDev;\n",
    "    Spiculation -> Mass;\n",
    "    BC -> AD;\n",
    "    BC -> Mass;\n",
    "    BreastDensity -> Mass;\n",
    "  }\n",
    ")\n",
    "\n",
    "The following code describes the graph structure. Note that the CPDs are absent since we can only get them after training"
   ]
  },
  {
   "cell_type": "code",
   "execution_count": 3,
   "metadata": {
    "collapsed": false
   },
   "outputs": [],
   "source": [
    "def create_gm():\n",
    "    \"\"\"\n",
    "    Creates the Graphical Model with the structure given above.\n",
    "    \"\"\"\n",
    "    # Initialize Graphical Model.\n",
    "    patients_gm = BayesianModel()\n",
    "\n",
    "    # Add Nodes. We do not need to understand the meaning of all of these.\n",
    "    # Mass (level of danger of the disease) takes 3 values: 'No', 'Malign', 'Benign\"\n",
    "    patients_gm.add_node('Mass')\n",
    "\n",
    "    # BC (breast Cancer) \"No\" \"Invasive\" \"Insitu\"\n",
    "    patients_gm.add_node('BC')\n",
    "\n",
    "    # Age takes 4 values: '<35', '35-49', '50-74', '>75'\n",
    "    patients_gm.add_node('Age')\n",
    "\n",
    "    # Location takes 4 values: \"UpOutQuad\" \"UpInQuad\" \"LolwOutQuad\" \"LowInQuad\"\n",
    "    patients_gm.add_node('Location')\n",
    "\n",
    "    # Spiculation takes 2 values: \"Yes\" \"No\"\n",
    "    patients_gm.add_node('Spiculation')\n",
    "\n",
    "    # \"Yes\" \"No\"\n",
    "    patients_gm.add_node('FibrTissueDev')\n",
    "\n",
    "    # \"low\" \"medium\" \"high\"\n",
    "    patients_gm.add_node('BreastDensity')\n",
    "\n",
    "    # \"Yes\" \"No\"\n",
    "    patients_gm.add_node('AD')\n",
    "\n",
    "    # Now let's add edges\n",
    "    patients_gm.add_edge('FibrTissueDev', 'Spiculation')\n",
    "    patients_gm.add_edge('Age', 'BC')\n",
    "    patients_gm.add_edge('Location', 'BC')\n",
    "    patients_gm.add_edge('AD', 'FibrTissueDev')\n",
    "    patients_gm.add_edge('Spiculation', 'Mass')\n",
    "    patients_gm.add_edge('BC', 'AD')\n",
    "    patients_gm.add_edge('BC', 'Mass')\n",
    "    patients_gm.add_edge('BreastDensity', 'Mass')\n",
    "    return patients_gm\n",
    "\n",
    "patients_gm = create_gm()"
   ]
  },
  {
   "cell_type": "markdown",
   "metadata": {},
   "source": [
    "### Loading the data\n",
    "Now that we know the graph structure, we need to load and clean the data. We are going to remove columns we don't need.\n",
    "And because pgmpy only makes predictions on numerical values, we will need to convert categories to numbers (e.g. {'yes', 'no', 'maybe'} becomes {0, 1, 2} ).\n",
    "\n",
    "The following class allows us to load and clean the data. It also allows us to convert categorical data to numerical data and vice versa."
   ]
  },
  {
   "cell_type": "code",
   "execution_count": 4,
   "metadata": {
    "collapsed": false
   },
   "outputs": [
    {
     "name": "stdout",
     "output_type": "stream",
     "text": [
      "  BreastDensity     Location    Age        BC    Mass  AD FibrTissueDev  \\\n",
      "0          high  LolwOutQuad  35-49        No      No  No            No   \n",
      "1        medium    UpOutQuad  50-74  Invasive  Benign  No            No   \n",
      "2           low     UpInQuad  50-74  Invasive  Benign  No           Yes   \n",
      "3        medium    LowInQuad    >75  Invasive  Malign  No            No   \n",
      "4          high    LowInQuad    <35        No  Benign  No            No   \n",
      "\n",
      "  Spiculation  \n",
      "0          No  \n",
      "1          No  \n",
      "2         Yes  \n",
      "3          No  \n",
      "4         Yes  \n",
      "   AD  Age  BC  BreastDensity  FibrTissueDev  Location  Mass  Spiculation\n",
      "0   0    0   0              0              0         0     0            0\n",
      "1   0    1   1              1              0         1     1            0\n",
      "2   0    1   1              2              1         2     1            1\n",
      "3   0    2   1              1              0         3     2            0\n",
      "4   0    3   0              0              0         3     1            1\n"
     ]
    }
   ],
   "source": [
    "class DataLoader():\n",
    "    \"\"\"\n",
    "    Allows loading and cleaning of training and testing data\n",
    "    data : cleaned categorical values\n",
    "    clean_data : cleaned numerical values\n",
    "    mapper : dict containing mappings from categorical values to numerical values for each column.\n",
    "    reverse_mapper : dict containing mappings from numerical to categorical values for each column.\n",
    "    \"\"\"\n",
    "    def __init__(self, filename, gm_nodes):\n",
    "        \"\"\"\n",
    "        filename : name of the data file\n",
    "        gm_nodes : list containing relevant columns\n",
    "        \"\"\"\n",
    "        self.data = pd.read_csv(filename)[gm_nodes]\n",
    "        self.mapper = dict()\n",
    "        self.reverse_mapper = dict()\n",
    "        clean_data = dict()\n",
    "        for col in self.data:\n",
    "            clean_data[col] = self._to_numerical(self.data[col], col)\n",
    "        self.clean_data = pd.DataFrame(clean_data)\n",
    "        \n",
    "    \n",
    "    def _to_numerical(self, data_col, col_name):\n",
    "        \"\"\"\n",
    "        Converts one column to numerical.\n",
    "        \"\"\"\n",
    "        uniqs = data_col.unique()\n",
    "        mapper = {uniq : i for uniq, i in zip(uniqs, range(len(uniqs)))}\n",
    "        reverse_mapper = {i:uniq for uniq, i in mapper.iteritems()}\n",
    "        self.mapper[col_name] = mapper\n",
    "        self.reverse_mapper[col_name] = reverse_mapper\n",
    "        return data_col.map(mapper)\n",
    "    \n",
    "    def to_numerical(self, data):\n",
    "        \"\"\"\n",
    "        Converts an entire dataframe to numerical.\n",
    "        \"\"\"\n",
    "        new_data = {}\n",
    "        for col in data:\n",
    "            new_data[col] = data[col].map(self.mapper[col])\n",
    "        return pd.DataFrame(new_data)\n",
    "    \n",
    "    def to_categorical(self, data):\n",
    "        \"\"\"\n",
    "        Reverts an entire dataframe back to categorical.\n",
    "        \"\"\"\n",
    "        new_data = {}\n",
    "        for col in data:\n",
    "            new_data[col] = data[col].map(self.reverse_mapper[col])\n",
    "        return pd.DataFrame(new_data)\n",
    "\n",
    "\n",
    "\n",
    "gm_nodes = ['BreastDensity', 'Location', 'Age', 'BC', 'Mass', 'AD', \n",
    "           'FibrTissueDev', 'Spiculation']\n",
    "\n",
    "cancer_dataloader = DataLoader('bc.csv', gm_nodes)\n",
    "print cancer_dataloader.data.head()\n",
    "print cancer_dataloader.clean_data.head()\n"
   ]
  },
  {
   "cell_type": "markdown",
   "metadata": {},
   "source": [
    "### Training the graphical model\n",
    "The *pgmpy* provides an easy way to train our model using the formula given above in one line. We are only going to train on 70 percent of the data, and then use the remaining to show you how to make predictions using the tools we have."
   ]
  },
  {
   "cell_type": "code",
   "execution_count": 5,
   "metadata": {
    "collapsed": false
   },
   "outputs": [
    {
     "name": "stdout",
     "output_type": "stream",
     "text": [
      "+--------+----------+\n",
      "| Age(0) | 0.245072 |\n",
      "+--------+----------+\n",
      "| Age(1) | 0.502196 |\n",
      "+--------+----------+\n",
      "| Age(2) | 0.149936 |\n",
      "+--------+----------+\n",
      "| Age(3) | 0.102796 |\n",
      "+--------+----------+\n",
      "+-------+-----------------+----------------+----------------+\n",
      "| BC    | BC(0)           | BC(1)          | BC(2)          |\n",
      "+-------+-----------------+----------------+----------------+\n",
      "| AD(0) | 0.948012291147  | 0.544898371928 | 0.708257937161 |\n",
      "+-------+-----------------+----------------+----------------+\n",
      "| AD(1) | 0.0519877088535 | 0.455101628072 | 0.291742062839 |\n",
      "+-------+-----------------+----------------+----------------+\n",
      "+----------------+------------------+------------------+\n",
      "| FibrTissueDev  | FibrTissueDev(0) | FibrTissueDev(1) |\n",
      "+----------------+------------------+------------------+\n",
      "| Spiculation(0) | 0.849342552009   | 0.256926205202   |\n",
      "+----------------+------------------+------------------+\n",
      "| Spiculation(1) | 0.150657447991   | 0.743073794798   |\n",
      "+----------------+------------------+------------------+\n"
     ]
    }
   ],
   "source": [
    "def fit_data(gm, df, alpha=1):\n",
    "    \"\"\"\n",
    "    Trains the graphical model gm using data in df and a prior of alpha.\n",
    "    \"\"\"\n",
    "    gm.fit(df, estimator_type=BayesianEstimator, prior_type='BDeu', equivalent_sample_size=alpha)\n",
    "    \n",
    "fit_data(patients_gm, cancer_dataloader.clean_data[:int(0.7*cancer_dataloader.clean_data.shape[0])], 1)\n",
    "\n",
    "# We can now visualize the different CPDS\n",
    "print patients_gm.get_cpds('Age')\n",
    "print patients_gm.get_cpds('AD')\n",
    "print patients_gm.get_cpds('Spiculation')"
   ]
  },
  {
   "cell_type": "markdown",
   "metadata": {},
   "source": [
    "###  Making Predictions\n",
    "We now have all elements required to make new inferences. As pointed above, we will use part of the remaining 30 percent of the data to show you the full prediction process.\n",
    "Note how *pgmpy* allows us to easily make inferences if the data is in numerical form."
   ]
  },
  {
   "cell_type": "code",
   "execution_count": 6,
   "metadata": {
    "collapsed": false,
    "scrolled": true
   },
   "outputs": [
    {
     "name": "stdout",
     "output_type": "stream",
     "text": [
      "             BC    Mass\n",
      "14000        No      No\n",
      "14001  Invasive  Malign\n",
      "14002        No      No\n",
      "14003  Invasive  Malign\n",
      "14004        No      No\n"
     ]
    }
   ],
   "source": [
    "def make_predictions(trained_gm, dataloader,  new_data, labels):\n",
    "    \"\"\"\n",
    "        Given an trained Bayed Net, the dataloader class that was used during its training,\n",
    "        new data to make predictions on and the target class labels, make_predictions returns\n",
    "        a new dataframe containing the predictions made.\n",
    "    \"\"\"\n",
    "    # Convert data to numerical\n",
    "    clean_new_data = dataloader.to_numerical(new_data)\n",
    "    # Make prediction\n",
    "    prediction = trained_gm.predict(clean_new_data)\n",
    "    # Revert data back to original form\n",
    "    return dataloader.to_categorical(prediction)\n",
    "\n",
    "\n",
    "# Select the remaining 30 percent\n",
    "# Because there is too much data, we only use 500 data points for efficiency reasons\n",
    "new_data = cancer_dataloader.data[int(0.7*cancer_dataloader.data.shape[0]):][:500]\n",
    "\n",
    "# Drop target columns. This is how new data is going to be presented\n",
    "new_data = new_data.drop(['BC', 'Mass'], 1)\n",
    "\n",
    "# Make predictions\n",
    "prediction = make_predictions(patients_gm, cancer_dataloader,\n",
    "                              new_data, ['BC', 'Mass'])\n",
    "print prediction.head()"
   ]
  },
  {
   "cell_type": "markdown",
   "metadata": {},
   "source": [
    "### Testing the Graphical Model\n",
    "On a realistic example, you will need to test the accuracy of your graphical model for each target class label. The following code shows you how to do it using the training data."
   ]
  },
  {
   "cell_type": "code",
   "execution_count": null,
   "metadata": {
    "collapsed": false
   },
   "outputs": [
    {
     "name": "stdout",
     "output_type": "stream",
     "text": [
      "{'Mass': 0.32, 'BC': 0.33}\n"
     ]
    }
   ],
   "source": [
    "def gm_mse(trained_gm, dataloader, labels, num_tests):\n",
    "    \"\"\"\n",
    "    Returns the mse our GM is making on each target class label\n",
    "    \"\"\"\n",
    "    non_labels = dataloader.clean_data.drop(labels, 1)\n",
    "    labels = dataloader.clean_data[labels]\n",
    "    pred = trained_gm.predict(non_labels[:num_tests])\n",
    "    get_mse = lambda c : float(sum(pred[c][:num_tests] != labels[c][:num_tests])) / float(num_tests)\n",
    "    return {c:get_mse(c) for c in labels}\n",
    "\n",
    "print gm_mse(patients_gm, cancer_dataloader, ['BC', 'Mass'], 100)"
   ]
  },
  {
   "cell_type": "markdown",
   "metadata": {},
   "source": [
    "## Summary\n",
    "As you now see, the whole process can be summarized as follows:\n",
    "* Specify the graph structure\n",
    "* Use the **DataLoader** class to load, clean and convert the data.\n",
    "* Train the Bayes net using the **fit** method\n",
    "* Test the Bayes Net to make sure we have the correct model\n",
    "* Make Predictions using the **predict** method (only works on numerical data).\n",
    "\n"
   ]
  },
  {
   "cell_type": "code",
   "execution_count": null,
   "metadata": {
    "collapsed": false
   },
   "outputs": [],
   "source": [
    "# Specify Graph Structure\n",
    "gm = create_gm()\n",
    "gm_labels = [\"BC\", \"Mass\"]\n",
    "# Load and convert the data\n",
    "gm_nodes = ['BreastDensity', 'Location', 'Age', 'BC', 'Mass', 'AD', \n",
    "           'FibrTissueDev', 'Spiculation']\n",
    "filename = \"bc.csv\"\n",
    "dataloader = DataLoader(filename, gm_nodes)\n",
    "# Train the Bayes Net\n",
    "fit_data(gm, dataloader.clean_data, 2)\n",
    "# Test the Bayes Net\n",
    "gm_mse(gm, dataloader, gm_labels, 100)\n",
    "# Make Predictions\n",
    "make_predictions(gm, dataloader, new_data, gm_labels)\n"
   ]
  },
  {
   "cell_type": "markdown",
   "metadata": {
    "collapsed": true
   },
   "source": [
    "## Conclusion\n",
    "This tutorial thus gives you both a theoretical understading of Bayes Network and a practical way to use them with the help of the **pgmpy** library. From this point, you can either use the knowledge you acquired to build something awesome, or to go even deeper into the topic of Graphical Models"
   ]
  },
  {
   "cell_type": "code",
   "execution_count": null,
   "metadata": {
    "collapsed": true
   },
   "outputs": [],
   "source": []
  }
 ],
 "metadata": {
  "anaconda-cloud": {},
  "kernelspec": {
   "display_name": "Python [Root]",
   "language": "python",
   "name": "Python [Root]"
  },
  "language_info": {
   "codemirror_mode": {
    "name": "ipython",
    "version": 2
   },
   "file_extension": ".py",
   "mimetype": "text/x-python",
   "name": "python",
   "nbconvert_exporter": "python",
   "pygments_lexer": "ipython2",
   "version": "2.7.12"
  }
 },
 "nbformat": 4,
 "nbformat_minor": 0
}
