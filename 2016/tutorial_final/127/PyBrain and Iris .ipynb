{
 "cells": [
  {
   "cell_type": "markdown",
   "metadata": {},
   "source": [
    "## Introduction To PyBrain\n",
    "\n",
    "This is a tutorial to introduce basic knowledge of Pybrain and follow that by implementing rudimentary neural networks to solve simple classification problems. While neural networks generally takes a while to understand, this tutorial provides an simple and fast way to experience some of the capabilities neural networks have. PyBrain is short for **Py**thon-**B**ased **R**einforcement Learning, **A**rtificial **I**ntelligence and **N**eural Network Library. Though no longer actively developed, PyBrain is simpler than PyLearn and other packages out there since the library features perceptron as well as neural networks. "
   ]
  },
  {
   "cell_type": "markdown",
   "metadata": {},
   "source": [
    "### Table of Contents\n",
    "- [Required Packages](#Required-Packages)\n",
    "- [Understanding Our Dataset](#Understanding-Our-Dataset)\n",
    "- [Getting Data In](#Getting-Data-In)\n",
    "- [Creating the Neural Network](#Creating-the-Neural-Network)\n",
    "- [Summary and Further Resources](#Summary-and-Further-Resources)\n",
    "\n"
   ]
  },
  {
   "cell_type": "markdown",
   "metadata": {},
   "source": [
    "## Required Packages\n",
    "\n",
    "- PyBrain\n",
    "- Numpy\n",
    "- Matplotlib\n",
    "- Scikit-Learn\n",
    "\n",
    "Before getting started, you'll need to install the various libraries that we will be using. You can install all of the required pacakges through `pip`:\n",
    "\n",
    "     > pip install --upgrade pybrain\n",
    "     > pip install --upgrade numpy\n",
    "     > pip install --upgrade pandas\n",
    "     > pip install --upgrade matplotlib\n",
    "     > pip install --upgrade scikit-learn\n",
    "    \n",
    "\n"
   ]
  },
  {
   "cell_type": "code",
   "execution_count": 1,
   "metadata": {
    "collapsed": false
   },
   "outputs": [],
   "source": [
    "import pybrain\n",
    "import numpy as np\n",
    "import pandas as pd\n",
    "import matplotlib.pyplot as plt\n",
    "import sklearn"
   ]
  },
  {
   "cell_type": "markdown",
   "metadata": {},
   "source": [
    "## Understanding Our Dataset\n",
    "\n",
    "The Iris flower data set also known as Fisher's Iris data set is a data set created by Ronald Fisher in 1936. The data set contains 50 samples from three species of Iris flower. For each sample, four features were used to measure the flower: length and width of the sepals and petals (cm). To understand our data better, let's take a look into the Iris flower data set included in Scikit-Learn."
   ]
  },
  {
   "cell_type": "code",
   "execution_count": 2,
   "metadata": {
    "collapsed": true
   },
   "outputs": [],
   "source": [
    "from sklearn import datasets\n",
    "iris = datasets.load_iris()\n",
    "X = iris.data\n",
    "y = iris.target"
   ]
  },
  {
   "cell_type": "code",
   "execution_count": 3,
   "metadata": {
    "collapsed": false
   },
   "outputs": [
    {
     "name": "stdout",
     "output_type": "stream",
     "text": [
      "['Sepal Length', 'Sepal Width', 'Petal Length', 'Petal Width']\n",
      "[[ 5.1  3.5  1.4  0.2]\n",
      " [ 4.9  3.   1.4  0.2]\n",
      " [ 4.7  3.2  1.3  0.2]\n",
      " [ 4.6  3.1  1.5  0.2]\n",
      " [ 5.   3.6  1.4  0.2]]\n",
      "['Rows', 'Cols']\n",
      "(150, 4)\n"
     ]
    }
   ],
   "source": [
    "# Print first 5 samples of the data set\n",
    "print [\"Sepal Length\", \"Sepal Width\", \"Petal Length\", \"Petal Width\"]\n",
    "print X[:5] \n",
    "\n",
    "# Print dimensions of the data set\n",
    "print [\"Rows\", \"Cols\"]\n",
    "print X.shape"
   ]
  },
  {
   "cell_type": "markdown",
   "metadata": {},
   "source": [
    "Stored in our variable ```X```, we have our data, where each row was a sample and the columns' indices being Sepal Length, Sepal Width, Petal Length and Petal Width. Here we see the first 5 samples in the data set. The entire data set has 150 samples, with 4 features per sample. "
   ]
  },
  {
   "cell_type": "code",
   "execution_count": 4,
   "metadata": {
    "collapsed": false
   },
   "outputs": [
    {
     "name": "stdout",
     "output_type": "stream",
     "text": [
      "[0, 0, 0, 0, 0, 0, 0, 0, 0, 0, 0, 0, 0, 0, 0, 0, 0, 0, 0, 0, 0, 0, 0, 0, 0, 0, 0, 0, 0, 0, 0, 0, 0, 0, 0, 0, 0, 0, 0, 0, 0, 0, 0, 0, 0, 0, 0, 0, 0, 0, 1, 1, 1, 1, 1, 1, 1, 1, 1, 1, 1, 1, 1, 1, 1, 1, 1, 1, 1, 1, 1, 1, 1, 1, 1, 1, 1, 1, 1, 1, 1, 1, 1, 1, 1, 1, 1, 1, 1, 1, 1, 1, 1, 1, 1, 1, 1, 1, 1, 1, 2, 2, 2, 2, 2, 2, 2, 2, 2, 2, 2, 2, 2, 2, 2, 2, 2, 2, 2, 2, 2, 2, 2, 2, 2, 2, 2, 2, 2, 2, 2, 2, 2, 2, 2, 2, 2, 2, 2, 2, 2, 2, 2, 2, 2, 2, 2, 2, 2, 2]\n",
      "[0 1 2]\n",
      "Count of Iris setosa: 50\n",
      "Count of Iris versicolor: 50\n",
      "Count of Iris virginica: 50\n"
     ]
    }
   ],
   "source": [
    "# Print target results\n",
    "print y.tolist()\n",
    "yList = y.tolist()\n",
    "\n",
    "# List of unique elements\n",
    "print np.unique(y)\n",
    "\n",
    "# Counts of each type of Iris\n",
    "print \"Count of Iris setosa: \" + str(yList.count(0))\n",
    "print \"Count of Iris versicolor: \" + str(yList.count(1))\n",
    "print \"Count of Iris virginica: \" + str(yList.count(2))"
   ]
  },
  {
   "cell_type": "markdown",
   "metadata": {},
   "source": [
    "Our particular data set includes only three types of irises shown in ```y``` as values from 0 to 2 representing a particular type. The type of irises include: Iris setosa, Iris versicolor, and Iris virginica. In our data set we have 50 samples of each type of Iris.\n",
    "\n",
    "To understand what each flower type's characteristics are like, we can do some exploratory data analysis on our data. Let's first split our data set into separate lists based on its type."
   ]
  },
  {
   "cell_type": "code",
   "execution_count": 5,
   "metadata": {
    "collapsed": false
   },
   "outputs": [
    {
     "name": "stdout",
     "output_type": "stream",
     "text": [
      "Iris setosa Statistics (Blue)\n",
      "       Sepal Length  Sepal Width  Petal Length  Petal Width\n",
      "count      50.00000    50.000000     50.000000     50.00000\n",
      "mean        5.00600     3.418000      1.464000      0.24400\n",
      "std         0.35249     0.381024      0.173511      0.10721\n",
      "min         4.30000     2.300000      1.000000      0.10000\n",
      "25%         4.80000     3.125000      1.400000      0.20000\n",
      "50%         5.00000     3.400000      1.500000      0.20000\n",
      "75%         5.20000     3.675000      1.575000      0.30000\n",
      "max         5.80000     4.400000      1.900000      0.60000\n",
      "\n",
      "Iris versicolor Statistics (Green)\n",
      "       Sepal Length  Sepal Width  Petal Length  Petal Width\n",
      "count     50.000000    50.000000     50.000000    50.000000\n",
      "mean       5.936000     2.770000      4.260000     1.326000\n",
      "std        0.516171     0.313798      0.469911     0.197753\n",
      "min        4.900000     2.000000      3.000000     1.000000\n",
      "25%        5.600000     2.525000      4.000000     1.200000\n",
      "50%        5.900000     2.800000      4.350000     1.300000\n",
      "75%        6.300000     3.000000      4.600000     1.500000\n",
      "max        7.000000     3.400000      5.100000     1.800000\n",
      "\n",
      "Iris virginica Statistics (Red)\n",
      "       Sepal Length  Sepal Width  Petal Length  Petal Width\n",
      "count      50.00000    50.000000     50.000000     50.00000\n",
      "mean        6.58800     2.974000      5.552000      2.02600\n",
      "std         0.63588     0.322497      0.551895      0.27465\n",
      "min         4.90000     2.200000      4.500000      1.40000\n",
      "25%         6.22500     2.800000      5.100000      1.80000\n",
      "50%         6.50000     3.000000      5.550000      2.00000\n",
      "75%         6.90000     3.175000      5.875000      2.30000\n",
      "max         7.90000     3.800000      6.900000      2.50000\n",
      "\n"
     ]
    },
    {
     "data": {
      "image/png": "[encoded data removed]",
      "text/plain": [
       "<matplotlib.figure.Figure at 0x108dd5c90>"
      ]
     },
     "metadata": {},
     "output_type": "display_data"
    }
   ],
   "source": [
    "# Split iris.data to 3 lists of length 50\n",
    "listOfIrises = np.split(X, 3)\n",
    "\n",
    "# Load the data into Panda DataFrames\n",
    "IrisOne = pd.DataFrame(listOfIrises[0], \n",
    "                       columns=[\"Sepal Length\", \"Sepal Width\", \"Petal Length\", \"Petal Width\"], \n",
    "                       index=range(50))\n",
    "\n",
    "IrisTwo = pd.DataFrame(listOfIrises[1], \n",
    "                       columns=[\"Sepal Length\", \"Sepal Width\", \"Petal Length\", \"Petal Width\"], \n",
    "                       index=range(50))\n",
    "\n",
    "IrisThree = pd.DataFrame(listOfIrises[2], \n",
    "                       columns=[\"Sepal Length\", \"Sepal Width\", \"Petal Length\", \"Petal Width\"], \n",
    "                       index=range(50))\n",
    "\n",
    "# Retrieve sepal length and petal length\n",
    "sepalLengthOne = IrisOne['Sepal Length'].values\n",
    "sepalLengthTwo = IrisTwo['Sepal Length'].values\n",
    "sepalLengthThree = IrisThree['Sepal Length'].values\n",
    "\n",
    "petalLengthOne = IrisOne['Petal Length'].values\n",
    "petalLengthTwo = IrisTwo['Petal Length'].values\n",
    "petalLengthThree = IrisThree['Petal Length'].values\n",
    "\n",
    "sepalWidthOne = IrisOne['Sepal Width'].values\n",
    "sepalWidthTwo = IrisTwo['Sepal Width'].values\n",
    "sepalWidthThree = IrisThree['Sepal Width'].values\n",
    "\n",
    "petalWidthOne = IrisOne['Petal Width'].values\n",
    "petalWidthTwo = IrisTwo['Petal Width'].values\n",
    "petalWidthThree = IrisThree['Petal Width'].values\n",
    "\n",
    "\n",
    "print(\"Iris setosa Statistics (Blue)\")\n",
    "print(IrisOne.describe())\n",
    "print\n",
    "print(\"Iris versicolor Statistics (Green)\")\n",
    "print(IrisTwo.describe())\n",
    "print\n",
    "print(\"Iris virginica Statistics (Red)\")\n",
    "print(IrisThree.describe())\n",
    "print\n",
    "\n",
    "#############\n",
    "## PLOT #1 ##\n",
    "#############\n",
    "\n",
    "_, ax = plt.subplots()\n",
    "\n",
    "# Plot points in scatter plot\n",
    "ax.scatter(sepalLengthOne.tolist(), petalLengthOne.tolist(), color='blue')\n",
    "ax.scatter(sepalLengthTwo.tolist(), petalLengthTwo.tolist(), color='green')\n",
    "ax.scatter(sepalLengthThree.tolist(), petalLengthThree.tolist(), color='red')\n",
    "\n",
    "# Set x and y labels\n",
    "ax.set_xlabel('Sepal Length (cm)')\n",
    "ax.set_ylabel('Petal Length (cm)')\n",
    "ax.set_title('Sepal Length v Petal Length')\n",
    "\n",
    "plt.show()\n"
   ]
  },
  {
   "cell_type": "markdown",
   "metadata": {},
   "source": [
    "By plotting sepal length on the x-axis and petal length on the y-axis, we can see noticeable differences in the types of Iris flower. \n",
    "\n",
    "The blue-labeled Irises have a mean petal length of 1.46 while the mean petal lengths of green and red labeled Irises each have values of 4.26 and 5.55 respectively. We can also see a difference in the range of sepal lengths of the blue compared to red and green, where blue has a range of (4.3, 5.8) while red and green have (4.9, 7.0) and (4.9, 7.9) respectively. \n",
    "\n",
    "Now let's plot sepal width with petal width and analyze the scatter plot.\n"
   ]
  },
  {
   "cell_type": "code",
   "execution_count": 6,
   "metadata": {
    "collapsed": false
   },
   "outputs": [
    {
     "data": {
      "image/png": "[encoded data removed]",
      "text/plain": [
       "<matplotlib.figure.Figure at 0x108dd59d0>"
      ]
     },
     "metadata": {},
     "output_type": "display_data"
    }
   ],
   "source": [
    "#############\n",
    "## PLOT #2 ##\n",
    "#############\n",
    "\n",
    "import matplotlib.pyplot as plt\n",
    " \n",
    "_ , ax2 = plt.subplots()\n",
    "\n",
    "# Plot points in scatter plot\n",
    "ax2.scatter(sepalWidthOne.tolist(), petalWidthOne.tolist(), color='blue')\n",
    "ax2.scatter(sepalWidthTwo.tolist(), petalWidthTwo.tolist(), color='green')\n",
    "ax2.scatter(sepalWidthThree.tolist(), petalWidthThree.tolist(), color='red')\n",
    "\n",
    "# Set x and y labels\n",
    "ax2.set_xlabel('Sepal Width (cm)')\n",
    "ax2.set_ylabel('Petal Width (cm)')\n",
    "ax2.set_title('Sepal Width v Petal Width')\n",
    "\n",
    "plt.show()"
   ]
  },
  {
   "cell_type": "markdown",
   "metadata": {},
   "source": [
    "By plotting sepal width on the x-axis and petal width on the y-axis, we can see noticeable differences in the types of Iris flower. \n",
    "\n",
    "Similar to the previous plot, we see a discrepancy of blue with red and green. Red in this plot seems to have a little bit more of a distance from green's scatter. The blue-labeled Irises have a mean petal width of 0.24 while the mean petal width of green and red labeled Irises each have values of 1.32 and 2.02 respectively.\n",
    "\n",
    "Similar to how we would discriminate the differences that we see in these plots, a neural network would use similar logic to determine what to classify an input."
   ]
  },
  {
   "cell_type": "markdown",
   "metadata": {},
   "source": [
    "## Getting Data In\n",
    "\n",
    "Let's first import the Python modules from Pybrain that we'll need for creating our neural network. \n"
   ]
  },
  {
   "cell_type": "code",
   "execution_count": 7,
   "metadata": {
    "collapsed": true
   },
   "outputs": [],
   "source": [
    "from pybrain.datasets.classification import ClassificationDataSet\n",
    "from pybrain.tools.shortcuts import buildNetwork\n",
    "from pybrain.utilities import percentError\n",
    "from pybrain.supervised.trainers import BackpropTrainer\n",
    "from pybrain.structure.modules import SoftmaxLayer"
   ]
  },
  {
   "cell_type": "markdown",
   "metadata": {},
   "source": [
    "Now that we have taken a look at the data, and we have imported the necessary components of our neural network, let's now load the data and specify the parameters for the target data."
   ]
  },
  {
   "cell_type": "code",
   "execution_count": 26,
   "metadata": {
    "collapsed": false
   },
   "outputs": [],
   "source": [
    "# initialize empty data set\n",
    "data = ClassificationDataSet(inp=4, nb_classes=3, \n",
    "                             class_labels=[\"Iris setosa\", \"Iris versicolor\", \"Iris virginica\"])\n",
    "\n",
    "# append data samples to the data set\n",
    "for i in range(len(X)):\n",
    "    data.addSample(X[i], y[i])"
   ]
  },
  {
   "cell_type": "markdown",
   "metadata": {},
   "source": [
    "Here we instantiate our data set to take in our input. The parameter `inp` specifies the dimensionality of our input, which is 4 in our case the four features of the flower. The parameter `nb_classes` is used to explicitly state the number of target classes for our outputs. Lastly, the parameter `class_labels` is used to name the three classes we have targeted previously.\n",
    "\n",
    "After initializing our empty data set, we input the data and target by row into the dataset. \n",
    "\n",
    "Common in training neural networks, we'll split our datasets in three: `training`, `validation`, and `testing` data.\n",
    "- The `training` data is used to train our neural network, letting our algorithm adjust parameters based on the data.\n",
    "- The `validation` data is used to eliminate which models paired with their parameters overfits the data. Here we are verifying that an increase in accuracy over the training data, will correspond to an increase in accuracy over data not shown to the neural network before (ie the validation data). Any decrease in accuracy means that we are overfitting to the data in our training dataset.\n",
    "- The `testing` data is used for testing the final model to see the predictive power of the model (usually a float between 0, 1).\n",
    "\n",
    "We can split the data using Pybrain's own function `splitWithProportion`. We will use the proportion of 70%, 15%, 15% respectively as recommended by sources like Mathworks:"
   ]
  },
  {
   "cell_type": "code",
   "execution_count": 27,
   "metadata": {
    "collapsed": false
   },
   "outputs": [
    {
     "name": "stdout",
     "output_type": "stream",
     "text": [
      "Data ratio:\n",
      "105 : 22 : 23\n",
      "\n",
      "Percentage training data:\n",
      "0.7\n",
      "Percentage validation data:\n",
      "0.146666666667\n",
      "Percentage testing data:\n",
      "0.153333333333\n"
     ]
    }
   ],
   "source": [
    "# Split by 70% followed by 50%\n",
    "training, rest = data.splitWithProportion(0.7)\n",
    "validation, testing = rest.splitWithProportion(0.5)\n",
    "\n",
    "# Check the ratios of our data sets\n",
    "print \"Data ratio:\"\n",
    "print len(training), \":\", len(validation), \":\", len(testing)\n",
    "\n",
    "print \n",
    "print \"Percentage training data:\"\n",
    "print 1.0*len(training)/len(data)\n",
    "\n",
    "print \"Percentage validation data:\"\n",
    "print 1.0*len(validation)/len(data)\n",
    "\n",
    "print \"Percentage testing data:\"\n",
    "print 1.0*len(testing)/len(data)"
   ]
  },
  {
   "cell_type": "markdown",
   "metadata": {},
   "source": [
    "Since we are doing a classification problem with neural networks, its best that we encode the classes using one output neuron per class. This is because we will eventually use a Softmaxlayer activation function to determine the class, which returns a binary output."
   ]
  },
  {
   "cell_type": "code",
   "execution_count": 28,
   "metadata": {
    "collapsed": false
   },
   "outputs": [],
   "source": [
    "# Convert target data into a binary representation that is suitable for our classification problem\n",
    "training._convertToOneOfMany()\n",
    "validation._convertToOneOfMany()\n",
    "testing._convertToOneOfMany()"
   ]
  },
  {
   "cell_type": "markdown",
   "metadata": {},
   "source": [
    "Doing this converts the target classes into a list of three binary outputs, an encoding that is suitable for three neurons. "
   ]
  },
  {
   "cell_type": "code",
   "execution_count": 29,
   "metadata": {
    "collapsed": false
   },
   "outputs": [
    {
     "name": "stdout",
     "output_type": "stream",
     "text": [
      "[1 0 0]\n",
      "[1 0 0]\n",
      "[1 0 0]\n",
      "[1 0 0]\n",
      "[1 0 0]\n",
      "[1 0 0]\n",
      "[1 0 0]\n",
      "[1 0 0]\n",
      "[1 0 0]\n",
      "[1 0 0]\n"
     ]
    }
   ],
   "source": [
    "# Take a look at the first 10 target outputs after the encoding\n",
    "targets = training['target']\n",
    "\n",
    "for i in range(10):\n",
    "    print targets[i]"
   ]
  },
  {
   "cell_type": "markdown",
   "metadata": {},
   "source": [
    "Lastly let's just check all of our data sets for the right dimensionalities. They should all have inputs of 4 dimensions, and outputs of 3 (the three classes we defined). Then let's check if we properly imported all the data from the iris data set into our blank data set."
   ]
  },
  {
   "cell_type": "code",
   "execution_count": 30,
   "metadata": {
    "collapsed": false
   },
   "outputs": [
    {
     "name": "stdout",
     "output_type": "stream",
     "text": [
      "4 3\n",
      "4 3\n",
      "4 3\n",
      "150 150\n"
     ]
    }
   ],
   "source": [
    "print training.indim, training.outdim\n",
    "print validation.indim, validation.outdim\n",
    "print testing.indim, testing.outdim\n",
    "\n",
    "print len(data['input']), len(data['target'])"
   ]
  },
  {
   "cell_type": "markdown",
   "metadata": {},
   "source": [
    "Everything looks good, so lets move on!"
   ]
  },
  {
   "cell_type": "markdown",
   "metadata": {},
   "source": [
    "## Creating the Neural Network"
   ]
  },
  {
   "cell_type": "markdown",
   "metadata": {},
   "source": [
    "Finally reaching the part where we create the neural network, let's first define our neural network. In the code below, we instantiate our network to have 4 inputs, 3 hidden neurons, and 3 output neurons. \n",
    "\n",
    "Neurons are key structures in neural networks, that simulate how our brains work. They take in multiple binary inputs, $n_1, n_2, n_3, ...$ and produces a singular binary output. Our brains work in the same way because we choose to take in certain information when making decisions. To mimic even further how our brains work, there are weights associated to each input $w_1, w_2, w_3, ...$, similar to how we value certain information more than others. To create the binary output, the neuron would get a sum of the weighted inputs: $\\sum{n_i w_i}$ and case on if it reached a certain total called the $threshold$ $value$. These neurons are the basic building blocks of the construction of neural networks.\n",
    "\n",
    "Lastly, we use the outclass called a `SoftmaxLayer` because we are trying to solve a classification problem. The Softmax activation function used in the final layer of the network converts a vector and an index to a real value, in our case 0/1.\n",
    "\n",
    "Next, we instantiate our backpropagation trainer. This trainer will run training data and calculates the gradient of a loss function for all the weights used in the network. Then the trainer will attempt to optimize the weights using the loss function gradient to minimize the loss function. To think about this, imagine the errors that occur in the later stages of the neural network and how they are closely related to the errors in the previous neurons. This trainer works backwards through the layers to optimize and minimize losses."
   ]
  },
  {
   "cell_type": "code",
   "execution_count": 40,
   "metadata": {
    "collapsed": false
   },
   "outputs": [
    {
     "data": {
      "image/png": "[encoded data removed]",
      "text/plain": [
       "<matplotlib.figure.Figure at 0x10a53efd0>"
      ]
     },
     "metadata": {},
     "output_type": "display_data"
    }
   ],
   "source": [
    "# Creating our neural network\n",
    "neuralNet = buildNetwork(4, 3, 3, outclass=SoftmaxLayer)\n",
    "\n",
    "# Creating our backpropagation Trainer\n",
    "trainer = BackpropTrainer(neuralNet, dataset=training, momentum=0.1, verbose=False, weightdecay=0.01)\n",
    "\n",
    "# Here we train our backpropagation trainer on our training data set for 100 cycles\n",
    "trainingError, validationError = trainer.trainUntilConvergence(dataset=training, maxEpochs=100)\n",
    "\n",
    "# Let's plot the error with the number of cycles the trainer has gone through\n",
    "_ , ax3 = plt.subplots()\n",
    "ax3.plot(trainingError, 'g', validationError, 'r')\n",
    "ax3.set_xlabel('Epochs')\n",
    "ax3.set_ylabel('Error (Percentage)')\n",
    "ax3.set_title('Training Error (Green) v Validation Error (red)')\n",
    "\n",
    "plt.show()"
   ]
  },
  {
   "cell_type": "markdown",
   "metadata": {},
   "source": [
    "In the graph above, we can see the error percentage trend towards 0, which is a good sign because it mean we are getting better accuracy. In the graph above, we are only training the network for 100 epochs, which is equivalent to 100 cycles. Generally, the more cycles that one iterates through, the better accuracy one gets. Let's try that below by running the trainer on the training set for 500 cycles. You can also turned on verbosity, to see the percentage errors at each cycle. The final total error I had after 500 cycles hovered around 0.02. "
   ]
  },
  {
   "cell_type": "code",
   "execution_count": 19,
   "metadata": {
    "collapsed": false
   },
   "outputs": [],
   "source": [
    "trainer.trainOnDataset(training, 500)"
   ]
  },
  {
   "cell_type": "markdown",
   "metadata": {},
   "source": [
    "The reason why our percentage error at the end hovered around 0.02 and never went significantly below that level was because of our training data set. Imagine learning from only one textbook. At a certain point, you'll be saturated with information from the one textbook. However, since you only understand ideas from your textbook, when you find information from the web that you've never seen before, you can only get so much right. \n",
    "\n",
    "Lastly, let's take a look at the percent error our model has on the remaining part of the data set we never touched: the `testing` data. "
   ]
  },
  {
   "cell_type": "code",
   "execution_count": 41,
   "metadata": {
    "collapsed": false
   },
   "outputs": [
    {
     "data": {
      "text/plain": [
       "4.3478260869565215"
      ]
     },
     "execution_count": 41,
     "metadata": {},
     "output_type": "execute_result"
    }
   ],
   "source": [
    "output = neuralNet.activateOnDataset(testing).argmax(axis=1)\n",
    "percentError(output, testing['class'])"
   ]
  },
  {
   "cell_type": "markdown",
   "metadata": {},
   "source": [
    "From this part, I received 4.34% error, meaning that I have a 95.66% score for the test data! That's a really good start. However, we can do better. Think about the various parameters you inputted for creating the neural network, as well as the number of cycles for the Backpropagation trainer. Try it out with 6 hidden neurons and instead of running it for 500 cycles, do 1000. What differences do you see? \n",
    "\n",
    "A lot of machine learning and creating neural networks requires users to tweak and play around with the parameters. There's a balance of weighting certain parameters heavier than others that could cause the model to better predict the training set, but estimate poorly for unseen data. Thus, it is up to the user to decide what parameters to put in and to evaluate the outcomes."
   ]
  },
  {
   "cell_type": "markdown",
   "metadata": {},
   "source": [
    "## Summary and Further Resources\n",
    "\n",
    "This tutorial highlighted just a few elements of what is possible to do with neural networks in Python.  Much more detail about the libraries and some other interesting projects you could try out are listed below:\n",
    "\n",
    "1. PyBrain: http://pybrain.org/docs/\n",
    "2. Sklearn: http://scikit-learn.org/stable/documentation.html\n",
    "3. Iris Data Set: https://en.wikipedia.org/wiki/Iris_flower_data_set\n",
    "4. Classifying faces (olivetti dataset): https://goo.gl/Z7Bnbb\n",
    "5. Recognizing handwritten digits: https://goo.gl/N4fLal\n",
    "6. Financial trading with neural nets: https://goo.gl/jiEfSq"
   ]
  }
 ],
 "metadata": {
  "kernelspec": {
   "display_name": "Python 2",
   "language": "python",
   "name": "python2"
  },
  "language_info": {
   "codemirror_mode": {
    "name": "ipython",
    "version": 2
   },
   "file_extension": ".py",
   "mimetype": "text/x-python",
   "name": "python",
   "nbconvert_exporter": "python",
   "pygments_lexer": "ipython2",
   "version": "2.7.11"
  }
 },
 "nbformat": 4,
 "nbformat_minor": 1
}
