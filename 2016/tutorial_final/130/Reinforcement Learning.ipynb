{
 "cells": [
  {
   "cell_type": "markdown",
   "metadata": {},
   "source": [
    "# Introduction:\n",
    "Welcome! In this tutorial, you will learn about the reinforcement learning algorithm and how to leverage it using the PyBrain Library. \n",
    "\n",
    "Reinforcement learning is characterized by the following traits:\n",
    "\n",
    "    We don't know how to classify some set of data.\n",
    "    We do know how to punish or reward a classification of the data\n",
    "\n",
    "You may wonder, when do we encounter a problem where we have these conditions? The short answer is everywhere, but if you look towards the fields of artificial intelligence and robotics, you'll find many such examples.\n"
   ]
  },
  {
   "cell_type": "markdown",
   "metadata": {},
   "source": [
    "Take for instance, catching a ball. What exactly makes an attempt at a catch good? We can't pinpoint the exact movements that the hand needs to do to successfully catch a ball, but we can definitively say whether or not the ball was caught. It's problems like these that are best tackled using reinforcment learning"
   ]
  },
  {
   "cell_type": "markdown",
   "metadata": {},
   "source": [
    "![](robotball.png)"
   ]
  },
  {
   "cell_type": "markdown",
   "metadata": {},
   "source": [
    "In PyBrain, reinforcement learning problems always have 3 main components, an Environment, an Agent, and a Task. On a high level, Environments define the exact space that the problem exists in, the Agent is the thing that is learning how to solve the problem, and the Task facilatates the interaction between the 2. These 3 components are bundled together and minupulated with an Experiment\n",
    "\n",
    "In this tutorial we will show how to use PyBrain to solve the maze navigation problem and then leverage PyBrain's reinforcement learning to learn the how to beat a simple fighting game AI.\n",
    "\n",
    "With that in mind, let's begin the tutorial"
   ]
  },
  {
   "cell_type": "markdown",
   "metadata": {
    "collapsed": true
   },
   "source": [
    "# Installation:\n",
    "\n",
    "First, download the repository to the folder that this Jupyter notebook is in. This can be done by running the following command in your terminal\n",
    "\n",
    "\tgit clone git://github.com/pybrain/pybrain.git\n",
    "\n",
    "Now, go into the pybrain folder you just acquired and then run this command to install pybrain.\n",
    "\n",
    "\tpython setup.py install\n",
    "    \n",
    "After everything is installed, verify that the installation was successful by ensuring that the following imports work."
   ]
  },
  {
   "cell_type": "code",
   "execution_count": 19,
   "metadata": {
    "collapsed": true
   },
   "outputs": [],
   "source": [
    "from scipy import *\n",
    "import sys, time\n",
    "\n",
    "from pybrain.rl.environments.mazes import Maze, MDPMazeTask\n",
    "from pybrain.rl.learners.valuebased import ActionValueTable\n",
    "from pybrain.rl.agents import LearningAgent\n",
    "from pybrain.rl.learners import Q, SARSA\n",
    "from pybrain.rl.experiments import Experiment\n",
    "from pybrain.rl.environments import Task"
   ]
  },
  {
   "cell_type": "markdown",
   "metadata": {},
   "source": [
    "# Environment\n",
    "\n",
    "For the maze navigation problem, we need to create the environment by making an actual maze. To do so, we need to create and then pass a 2D array into the the Maze environment that comes with the PyBrain Library.\n",
    "\n",
    "The 1's represent walls of the maze, whereas the 0's represent open spaces. The 2nd argument to the environment specifies the goal"
   ]
  },
  {
   "cell_type": "code",
   "execution_count": 20,
   "metadata": {
    "collapsed": false
   },
   "outputs": [],
   "source": [
    "structure = array([[1, 1, 1, 1, 1, 1, 1, 1, 1],\n",
    "                   [1, 0, 0, 1, 0, 0, 0, 0, 1],\n",
    "                   [1, 0, 0, 1, 0, 0, 1, 0, 1],\n",
    "                   [1, 0, 0, 1, 0, 0, 1, 0, 1],\n",
    "                   [1, 0, 0, 1, 0, 1, 1, 0, 1],\n",
    "                   [1, 0, 0, 0, 0, 0, 1, 0, 1],\n",
    "                   [1, 1, 1, 1, 1, 1, 1, 0, 1],\n",
    "                   [1, 0, 0, 0, 0, 0, 0, 0, 1],\n",
    "                   [1, 1, 1, 1, 1, 1, 1, 1, 1]])\n",
    "\n",
    "environment = Maze(structure, (7, 7))"
   ]
  },
  {
   "cell_type": "markdown",
   "metadata": {},
   "source": [
    "Verify that the environment is properly constructed by visualizing it with mathplotlib."
   ]
  },
  {
   "cell_type": "code",
   "execution_count": 21,
   "metadata": {
    "collapsed": false
   },
   "outputs": [
    {
     "name": "stdout",
     "output_type": "stream",
     "text": [
      "Populating the interactive namespace from numpy and matplotlib\n"
     ]
    },
    {
     "name": "stderr",
     "output_type": "stream",
     "text": [
      "WARNING: pylab import has clobbered these variables: ['power', 'arccos', 'log2', 'arctanh', 'pylab', 'fft', 'arcsin', 'sqrt', 'show_config', '__version__', 'test', 'log', 'log10']\n",
      "`%matplotlib` prevents importing * from pylab and numpy\n"
     ]
    },
    {
     "data": {
      "image/png": "[encoded data removed]",
      "text/plain": [
       "<matplotlib.figure.Figure at 0x8f4b978>"
      ]
     },
     "metadata": {},
     "output_type": "display_data"
    }
   ],
   "source": [
    "#replace this visualization code in the future\n",
    "%pylab inline\n",
    "import pylab\n",
    "import numpy as np\n",
    "\n",
    "def drawMaze(mazeArray):\n",
    "    pylab.gray()\n",
    "    pylab.ion()\n",
    "\n",
    "    pylab.pcolor(mazeArray)\n",
    "    pylab.draw()\n",
    "    \n",
    "drawMaze(map(lambda x: 1-x, environment.mazeTable))"
   ]
  },
  {
   "cell_type": "markdown",
   "metadata": {},
   "source": [
    "# Agent\n",
    "\n",
    "Now that we've set up the environment, we need an agent that will interact with it. The agent consists of a learner, a controller and an explorer. The learner tells the agent how to learn from the rewards it gets, the controller is essentially the \"memory\" of the agent, and the explorer informs the agent of how to explore the state space. The default agent that comes with PyBrain already has an explorer, so we'll ignore that component"
   ]
  },
  {
   "cell_type": "markdown",
   "metadata": {},
   "source": [
    "# Learner\n",
    "The learner that we'll be using in this tutorial is the Q-learner. In Q-learning, the agent keeps track of a set of states and the reward associated with each action it can take at that state. The reward of each action is updated as the agent goes through many iterations."
   ]
  },
  {
   "cell_type": "code",
   "execution_count": 22,
   "metadata": {
    "collapsed": true
   },
   "outputs": [],
   "source": [
    "learner = Q()"
   ]
  },
  {
   "cell_type": "markdown",
   "metadata": {},
   "source": [
    "# Controller:\n",
    "Because our agent uses the Q-learner, the controller we use will need to implement the ActionValueInterface. This will keep track of the reward associated with taking an action <b>A</b> in state <b>S</b>."
   ]
  },
  {
   "cell_type": "code",
   "execution_count": 23,
   "metadata": {
    "collapsed": true
   },
   "outputs": [],
   "source": [
    "controller = ActionValueTable(81, 4) #argument 1 is the number of states that the agent can be in\n",
    "                                     #argument 2 is the number of actions that can be taken\n",
    "                                     #for a 9x9 maze, there are 81 positions the agent can be in, and the agent can \n",
    "                                     #choose to move north, south, east or west\n",
    "controller.initialize(1.)            #Initializing the table with 1 everywhere ensures that all states are \"visited\" \n",
    "                                     #at the start"
   ]
  },
  {
   "cell_type": "markdown",
   "metadata": {},
   "source": [
    "We can now combine these 2 components to create the agent"
   ]
  },
  {
   "cell_type": "code",
   "execution_count": 24,
   "metadata": {
    "collapsed": false
   },
   "outputs": [],
   "source": [
    "agent = LearningAgent(controller, learner)"
   ]
  },
  {
   "cell_type": "markdown",
   "metadata": {},
   "source": [
    "# Task\n",
    "\n",
    "The last thing we need to do is provide a way for the agent to interact with the environment. This will be done through the task, a construct which specifies when a single learning session is over, the goal in the environment, and the reward that the agent gets for its actions.\n",
    "\n",
    "For the maze navigation problem, PyBrain already comes with a task, the MDPMazeTask"
   ]
  },
  {
   "cell_type": "code",
   "execution_count": 25,
   "metadata": {
    "collapsed": false
   },
   "outputs": [],
   "source": [
    "task = MDPMazeTask(environment)"
   ]
  },
  {
   "cell_type": "markdown",
   "metadata": {},
   "source": [
    "This task knows where the agent is in the maze and will be able to inform the agent of what actions they can take"
   ]
  },
  {
   "cell_type": "markdown",
   "metadata": {},
   "source": [
    "We now can create the experiment, the whole construct which has the agent preform the task, and have it interact with the environment"
   ]
  },
  {
   "cell_type": "code",
   "execution_count": 26,
   "metadata": {
    "collapsed": false
   },
   "outputs": [],
   "source": [
    "experiment = Experiment(task, agent)"
   ]
  },
  {
   "cell_type": "markdown",
   "metadata": {},
   "source": [
    "You can see the results of the interaction by visualizing it below"
   ]
  },
  {
   "cell_type": "code",
   "execution_count": 27,
   "metadata": {
    "collapsed": false
   },
   "outputs": [
    {
     "data": {
      "image/png": "[encoded data removed]",
      "text/plain": [
       "<matplotlib.figure.Figure at 0x8e67e10>"
      ]
     },
     "metadata": {},
     "output_type": "display_data"
    }
   ],
   "source": [
    "experiment.doInteractions(500)   #the agent takes 500 \"steps\" in the environment\n",
    "agent.learn()                    #Saves the results of the last set of interactions\n",
    "agent.reset()                    #resets the position of the agent\n",
    "drawMaze(controller.params.reshape(81,4).max(1).reshape(9,9))"
   ]
  },
  {
   "cell_type": "markdown",
   "metadata": {},
   "source": [
    "You can see the maze become more defined if you choose to run more interactions. Because controller stores the \"memory\" of the agent, you'll have to reinitialize the controller and the agent to retrain it from the beginning"
   ]
  },
  {
   "cell_type": "code",
   "execution_count": 50,
   "metadata": {
    "collapsed": false
   },
   "outputs": [
    {
     "data": {
      "image/png": "[encoded data removed]",
      "text/plain": [
       "<matplotlib.figure.Figure at 0x8bcd048>"
      ]
     },
     "metadata": {},
     "output_type": "display_data"
    }
   ],
   "source": [
    "controller = ActionValueTable(81, 4) #argument 1 is the number of states that the agent can be in\n",
    "                                     #argument 2 is the number of actions that can be taken\n",
    "                                     #for a 9x9 maze, there are 81 positions the agent can be in, and the agent can \n",
    "                                     #choose to move north, south, east or wet\n",
    "controller.initialize(1.)  \n",
    "agent = LearningAgent(controller, learner)\n",
    "\n",
    "experiment = Experiment(task, agent)\n",
    "experiment.doInteractions(10000)\n",
    "agent.learn()\n",
    "agent.reset()\n",
    "\n",
    "pylab.pcolor(controller.params.reshape(81,4).max(1).reshape(9,9))\n",
    "pylab.draw()"
   ]
  },
  {
   "cell_type": "markdown",
   "metadata": {},
   "source": [
    "As you can see, more interactions gives the agent a better understanding of the maze environment"
   ]
  },
  {
   "cell_type": "markdown",
   "metadata": {},
   "source": [
    "# Creating your own RL modules\n",
    "\n",
    "We will now leverage PyBrain to solve our own RL modules. In this problem, we are simulating the experience of playing a fighting game and want to train an AI to defeat a simple, unchanging opponent."
   ]
  },
  {
   "cell_type": "markdown",
   "metadata": {},
   "source": [
    "# Defining the Game\n",
    "\n",
    "In this simplified fighting game, the goal is to reduce the opponents health to 0 before the time runs out. The opponent for this problem is a simple static AI that will block differently depending on the attacks it has seen previously. The agent is the attacker and can choose to use a high, low, or special attack, or it can choose to delay its next attack. "
   ]
  },
  {
   "cell_type": "markdown",
   "metadata": {},
   "source": [
    "# Setting up the environment\n",
    "\n",
    "In order to proceed, we first have to set up our own environment for this scenario. To do so, we will first need to define important parameters that our problem requires us to keep track of, followed by satisfying PyBrain's Environment Interface"
   ]
  },
  {
   "cell_type": "markdown",
   "metadata": {},
   "source": [
    "# Environment Parameters\n",
    "\n",
    "When defining the environment, we need to describe the actions that can be done as well as the things in the world that are affected by those actions. As described previously our actions are to attack high or low, use a resource called \"meter\" to perform a strong special attack, or to delay our next attack. As for thing affected by these actions, in the case of the fighting game, we care about the health of the enemy, the meter that you have built up, and the time remaining. Since the agent is also able to delay their attack, we also need to keep track of the time since the last attack. "
   ]
  },
  {
   "cell_type": "code",
   "execution_count": 51,
   "metadata": {
    "collapsed": true
   },
   "outputs": [],
   "source": [
    "from pybrain.utilities import Named\n",
    "from pybrain.rl.environments.environment import Environment\n",
    "\n",
    "from collections import Counter\n",
    "from random import random, choice\n",
    "from enum import Enum\n",
    "\n",
    "#Defines the kind of attack that is done\n",
    "class Attack(Enum):\n",
    "    high = 0\n",
    "    low = 1\n",
    "    unblockable = 2\n",
    "    delay = 3\n",
    "\n",
    "\"\"\" A fighting game simulation, actions are the attack you choose to do (high attack, low attack\n",
    "special attack) and observations being the damage done by your sequence of attacks. \n",
    "\n",
    "The opponent can only block high or low.\n",
    "High attacks are slower than low attacks, but build more meter and do more damage\n",
    "Low attacks are faster than high attacks.\n",
    "Special attacks do a lot of damage and can't be blocked, but you need to generate 5 meter to use them.\n",
    "You get meter by hitting the opponent\n",
    "\n",
    "There is a single agent who does the attacking\n",
    "An attack is either completely blocked or damages the defending AI\n",
    "\n",
    "Every state can have an an associated reward (the health of the enemy/the meter that you currently have/time remaining).\n",
    "\"\"\"\n",
    "class FightGame(Environment, Named):\n",
    "    # attacks. Notation is (<high/low/unblockable/misc>, damage, meter gain, startup_delay)\n",
    "    high = (Attack.high, 2, 2, 2)\n",
    "    low = (Attack.low, 1, 1, 1)\n",
    "    special = (Attack.unblockable, 10, -5, 4)\n",
    "    delay = (Attack.delay, 0, 0, 1)\n",
    "\n",
    "    allActions = [high, low, special,delay]"
   ]
  },
  {
   "cell_type": "markdown",
   "metadata": {},
   "source": [
    "Because the opponent blocks based on the previous history of attacks, we also need to keep track of the its patterns for blocking attacks and a history of the attacks it has seen.\n",
    "\n",
    "We will story the opponent's blocking patterns as a dictionary, where a tuple of previous history is the key and the values are an array of the directions that the opponent will block given that history. The reason that its stored as an array is because the opponent varies its guard as time passes between attacks."
   ]
  },
  {
   "cell_type": "code",
   "execution_count": 30,
   "metadata": {
    "collapsed": true
   },
   "outputs": [],
   "source": [
    "    # a table which determines if the opponent blocks high or low\n",
    "    # the keys are a tuple of the last n moves done by the opponent. The values are a table which determines if the \n",
    "    # opponent is blocking high or low since the last attack.\n",
    "    blockTable = None\n",
    "    \n",
    "    # a tuple of the previous n moves that were done\n",
    "    history = None"
   ]
  },
  {
   "cell_type": "markdown",
   "metadata": {},
   "source": [
    "Because we need a finite number of states to use the Q-learning algorithm, we also need to cap the health of the opponent, the meter that the agent can have, the amount of time, and the history that the opponent remembers\n"
   ]
  },
  {
   "cell_type": "code",
   "execution_count": 31,
   "metadata": {
    "collapsed": true
   },
   "outputs": [],
   "source": [
    "    #Defines the maximum amounts of the various variables\n",
    "    maxHealth = 0   #the maximum health\n",
    "    maxMeter = 10   #the maximum meter\n",
    "    maxTime = 0     #the starting time\n",
    "    n = 0           #the amount of history we remember\n",
    "    maxDelay = 0    #the maximum amount of time where delay is meaningful. For simplicity this will be n"
   ]
  },
  {
   "cell_type": "markdown",
   "metadata": {},
   "source": [
    "We finish this section by initializing everything in the constructor and packaging key variables in a gameState tuple"
   ]
  },
  {
   "cell_type": "code",
   "execution_count": 32,
   "metadata": {
    "collapsed": true
   },
   "outputs": [],
   "source": [
    "    # starting health/meter you have/time remaining/time since the last action\n",
    "    startState = None\n",
    "\n",
    "    #current state\n",
    "    gameState = None\n",
    "\n",
    "    def __init__(self, blockTable, n, startingHealth, startingMeter, startingTime, **args):\n",
    "        self.setArgs(**args)\n",
    "        self.blockTable = blockTable\n",
    "\n",
    "        self.maxHealth = startingHealth\n",
    "        self.maxMeter = 10\n",
    "        self.maxTime = startingTime\n",
    "        self.n = n\n",
    "        self.maxDelay = self.n\n",
    "\n",
    "        self.history = (Attack.delay,) * n\n",
    "        if self.startState == None:\n",
    "            self.startState = (startingHealth, startingMeter, startingTime, 0)\n",
    "        self.reset()"
   ]
  },
  {
   "cell_type": "markdown",
   "metadata": {},
   "source": [
    "# Environment Interface\n",
    "\n",
    "We now need to fill in the interface methods <b>getSensors</b>, <b>reset</b>, and <b>performAction</b>.  We'll be going through each of these on their own"
   ]
  },
  {
   "cell_type": "markdown",
   "metadata": {},
   "source": [
    "# getSensors()\n",
    "\n",
    "This function is used to inform the agent about the current state of the world. Seeing that we have the world state encapsulated in the gameState tuple, we just return that. Note that the interface requires the state to be packaged in an array."
   ]
  },
  {
   "cell_type": "code",
   "execution_count": 33,
   "metadata": {
    "collapsed": false
   },
   "outputs": [],
   "source": [
    "    def getSensors(self):\n",
    "        \"\"\" the currently visible state of the world (the observation may be\n",
    "            stochastic - repeated calls returning different values)\n",
    "\n",
    "            :rtype: by default, this is assumed to be a numpy array of doubles\n",
    "            :note: This function is abstract and has to be implemented.\n",
    "        \"\"\"\n",
    "        obs = zeros(1)\n",
    "        obs[0] = self.gameState\n",
    "        return obs"
   ]
  },
  {
   "cell_type": "markdown",
   "metadata": {},
   "source": [
    "# reset()\n",
    "\n",
    "This function is used to reinitialize the environment. We do this by setting our gameState to out startState"
   ]
  },
  {
   "cell_type": "code",
   "execution_count": 34,
   "metadata": {
    "collapsed": true
   },
   "outputs": [],
   "source": [
    "    def reset(self):\n",
    "        self.gameState = self.startState"
   ]
  },
  {
   "cell_type": "markdown",
   "metadata": {},
   "source": [
    "# performAction(action)\n",
    "\n",
    "This function handles the most complicated part, changing the environment in response to an action.\n",
    "\n",
    "The first thing we'll do is define a function to return a random way to block. This is neccessary because if we see a pattern that is not coded into our history, we still need the opponent to block in a random direction\n",
    "\n"
   ]
  },
  {
   "cell_type": "code",
   "execution_count": 35,
   "metadata": {
    "collapsed": true
   },
   "outputs": [],
   "source": [
    "    def randomBlock(self):\n",
    "        block = choice([Attack.high, Attack.low])\n",
    "        return block"
   ]
  },
  {
   "cell_type": "markdown",
   "metadata": {},
   "source": [
    "Now for everything else. Essentially, we need to update the history with the last move that was used, and depending on the move used and how the opponent blocked, apply the appropriate damage, meter and time calculations. "
   ]
  },
  {
   "cell_type": "code",
   "execution_count": 36,
   "metadata": {
    "collapsed": false
   },
   "outputs": [],
   "source": [
    "    def performAction(self, action):\n",
    "        currentHealth = self.gameState[0]\n",
    "        currentMeter = self.gameState[1]\n",
    "        currentTime = self.gameState[2]\n",
    "        currentDelay = self.gameState[3]\n",
    "\n",
    "        attack = self.allActions[action]\n",
    "        attackType = attack[0]\n",
    "        attackDamage = attack[1]\n",
    "        attackMeter = attack[2]\n",
    "        attackTime = attack[3]\n",
    "        \n",
    "        newHealth = max(currentHealth - attackDamage, 0)\n",
    "        newMeter = min(currentMeter + attackMeter, self.maxMeter)\n",
    "        newTime = max(currentTime - attackTime,0)\n",
    "\n",
    "        #determining how the opponent blocks. This is done by finding the current pattern of blocking\n",
    "        #using the current history and then indexing into that by using the delay\n",
    "        if(self.history not in self.blockTable):\n",
    "            blockType = self.randomBlock()\n",
    "        else:\n",
    "            timeIndex = (currentDelay + attackTime - 1) % len(self.blockTable[self.history])\n",
    "            blockType = self.blockTable[self.history][timeIndex]\n",
    "        \n",
    "        #updating the history with the latest attack used\n",
    "        self.history = self.history[1:] + (attackType, )\n",
    "            \n",
    "        #Here different logic happens depending on the attack used\n",
    "        if attackType == Attack.delay:    #Here we simply increase the delay time\n",
    "            self.gameState = (newHealth, newMeter, newTime, currentDelay + attackTime)\n",
    "        if attackType == Attack.unblockable:\n",
    "            if(newMeter >= 0):            #If we have enough meter to use the special attack, we do so\n",
    "                self.gameState = (newHealth, newMeter, newTime, 0)\n",
    "            else:                         #Otherwise we are unable to and it's essentially a longer delay\n",
    "                self.gameState = (currentHealth, currentMeter, newTime, currentDelay + attackTime)\n",
    "        #here we check our block table to see what happens\n",
    "        #If an attack hits the opponent loses health and the agent gains meter\n",
    "        #otherwise nothing happens\n",
    "        if attackType == Attack.high:\n",
    "            if(blockType == Attack.high):\n",
    "                self.gameState = (currentHealth, currentMeter, newTime, 0)\n",
    "            else:\n",
    "                self.gameState = (newHealth, newMeter, newTime, 0)\n",
    "        if attackType == Attack.low:\n",
    "            if(blockType == Attack.low):\n",
    "                self.gameState = (currentHealth, currentMeter, newTime, 0)\n",
    "            else:\n",
    "                self.gameState = (newHealth, newMeter, newTime, 0)"
   ]
  },
  {
   "cell_type": "markdown",
   "metadata": {},
   "source": [
    "# Initializing the FightGame\n",
    "\n",
    "Initializing the environment can be incredibly simple or very complex depending on how you want the opponent to behave. For the sake of simplicity, have the opponent that remember the previous 2 moves and only block low after seeing 2 low attacks, or after getting hit by an unblockable attack. Otherwise, it always blocks high.\n",
    "\n",
    "Our parameters for health and time will be relatively small, as the agent will learn more quickly with a smaller state space"
   ]
  },
  {
   "cell_type": "code",
   "execution_count": 37,
   "metadata": {
    "collapsed": false
   },
   "outputs": [],
   "source": [
    "from FightGame import *\n",
    "\n",
    "structure = dict()\n",
    "structure[(Attack.delay, Attack.delay)] = [Attack.high]\n",
    "structure[(Attack.delay, Attack.low)] = [Attack.high,Attack.high]\n",
    "structure[(Attack.delay, Attack.high)] = [Attack.high,Attack.high]\n",
    "structure[(Attack.delay, Attack.unblockable)] = [Attack.low]\n",
    "\n",
    "structure[(Attack.high, Attack.delay)] = [Attack.high,Attack.high]\n",
    "structure[(Attack.high, Attack.high)] = [Attack.high,Attack.high]\n",
    "structure[(Attack.high, Attack.low)] = [Attack.high,Attack.high]\n",
    "structure[(Attack.high, Attack.unblockable)] = [Attack.low]\n",
    "\n",
    "structure[(Attack.low, Attack.low)] = [Attack.low]\n",
    "structure[(Attack.low, Attack.unblockable)] = [Attack.low]\n",
    "structure[(Attack.low, Attack.high)] = [Attack.high,Attack.high]\n",
    "structure[(Attack.low, Attack.delay)] = [Attack.high,Attack.high]\n",
    "\n",
    "structure[(Attack.unblockable, Attack.delay)] = [Attack.high,Attack.high]\n",
    "structure[(Attack.unblockable, Attack.high)] = [Attack.high,Attack.high]\n",
    "structure[(Attack.unblockable, Attack.low)] = [Attack.high,Attack.high]\n",
    "structure[(Attack.unblockable, Attack.unblockable)] = [Attack.low]\n",
    "\n",
    "health = 5\n",
    "meter = 0\n",
    "time = 25\n",
    "historyLen = 2\n",
    "\n",
    "fightEnv = FightGame(structure, historyLen, health, meter, time)"
   ]
  },
  {
   "cell_type": "markdown",
   "metadata": {
    "collapsed": true
   },
   "source": [
    "# Creating an Agent\n",
    "\n",
    "We need to create another agent for this problem. Since we're still using the Q-learner, we don't have to change much. We do however, need to modify our controller to account for the new state space and the action that we are allowed to do in this environment"
   ]
  },
  {
   "cell_type": "code",
   "execution_count": 54,
   "metadata": {
    "collapsed": false
   },
   "outputs": [],
   "source": [
    "fightLearner = Q()    \n",
    "\n",
    "fightController = ActionValueTable((fightEnv.maxHealth+1) * (fightEnv.maxMeter+1) \\\n",
    "                                   * (fightEnv.maxTime+1) * (fightEnv.maxDelay+1), 4) \n",
    "                    \n",
    "fightController.initialize(1.)      #Initializing the table with 1 everywhere ensures that all states are \"visited\" \n",
    "                                    #at the start\n",
    "fightAgent = LearningAgent(fightController, fightLearner)"
   ]
  },
  {
   "cell_type": "markdown",
   "metadata": {},
   "source": [
    "# Creating a Task\n",
    "\n",
    "The last thing we need to do is to create the task. Since the task is used to facilitate interaction between the agent and the environment, we only need to fill in each of it's interface methods, <b>getReward</b>, <b>performAction</b> and <b>getObservation</b>"
   ]
  },
  {
   "cell_type": "markdown",
   "metadata": {},
   "source": [
    "# getReward()\n",
    "\n",
    "We need to determine the reward that the agent should get for doing an action. While we could simply give a positive reward if the agent defeats the opponent and a negative reward if the time runs out, we have a slightly better understanding of how to classify a sequence of moves than that. Namely, we know that an action is \"good\" if it does more damage to the opponent. Thus, we give the damage done to the opponent as a reward, and in the case where the opponent is defeated, give a massive reward in the form of the opponent's maximum health"
   ]
  },
  {
   "cell_type": "code",
   "execution_count": 55,
   "metadata": {
    "collapsed": true
   },
   "outputs": [],
   "source": [
    "from pybrain.rl.environments import Task\n",
    "from scipy import array\n",
    "\n",
    "class FightTask(Task):\n",
    "    #metadata used for tracking wins and losses. Used primarily for showing the results of the algorithm\n",
    "    wins = 0 \n",
    "    losses = 0 \n",
    "            \n",
    "    def getReward(self):\n",
    "        \"\"\" compute and return the current reward (i.e. corresponding to the last action performed) \"\"\"\n",
    "        if(self.env.gameState[0] < self.currentHealth):\n",
    "            if self.env.gameState[0] <= 0:   #the opponent has 0 health, the agent won\n",
    "                self.env.reset()\n",
    "                reward = self.env.maxHealth\n",
    "                self.wins += 1\n",
    "            else:\n",
    "                reward = self.currentHealth - self.env.gameState[0]\n",
    "        elif self.env.gameState[2] <= 0:#    the time ran out, the agent lost\n",
    "            self.env.reset()\n",
    "            #print \"defeat\"\n",
    "            reward = -self.env.gameState[0]\n",
    "            self.losses += 1\n",
    "        else:\n",
    "            reward = 0.\n",
    "        return reward"
   ]
  },
  {
   "cell_type": "markdown",
   "metadata": {},
   "source": [
    "# performAction(action)\n",
    "\n",
    "Here, we do the default behavior, and allow the super class to have the agent perform the action selected. By default, the action argument passed is a vector whose only element is the integer representation of the action we want to do"
   ]
  },
  {
   "cell_type": "code",
   "execution_count": 56,
   "metadata": {
    "collapsed": true
   },
   "outputs": [],
   "source": [
    "    def performAction(self, action):\n",
    "        \"\"\" The action vector is stripped and the only element is cast to integer and given\n",
    "            to the super class.\n",
    "        \"\"\"\n",
    "        Task.performAction(self, int(action[0]))\n"
   ]
  },
  {
   "cell_type": "markdown",
   "metadata": {},
   "source": [
    "# getObservation()\n",
    "\n",
    "This function is used to map the observations we get from the game into a particular state. Since we set the number of states precisely according to the range of values that the observations can take on, we can do a direct mapping."
   ]
  },
  {
   "cell_type": "code",
   "execution_count": 57,
   "metadata": {
    "collapsed": false
   },
   "outputs": [],
   "source": [
    "    def getObservation(self):\n",
    "        self.currentHealth = self.env.gameState[0]\n",
    "        self.currentMeter = self.env.gameState[1]\n",
    "        self.currentTime = self.env.gameState[2]\n",
    "        self.currentDelay = self.env.gameState[3]\n",
    "        \n",
    "        \n",
    "        #If this mapping is confusing, consider if we had a cube whose dimensions were (x,y,z).\n",
    "        #If we want to map the point (3, 5, 8), we first advance 3 units along the x axis,\n",
    "        #passing by 3 planes of area y*z. We then advance 5 units up the y axis, passing\n",
    "        #5 rows which have z elements in them. Lastly, we advance 8 units down the z axis.\n",
    "        #In total, the number of elements we passed were 3yz + 5z + 8. This methodlogy\n",
    "        #provides a 1 to 1 mapping of 3d space to 1d space. We can expand this to 4d\n",
    "        #space to correctly map our gameState in this instance.\n",
    "        index = self.currentHealth * self.env.maxMeter * self.env.maxTime * self.env.maxDelay + \\\n",
    "                self.currentMeter * self.env.maxTime * self.env.maxDelay + \\\n",
    "                self.currentTime * self.env.maxDelay + \\\n",
    "                self.currentDelay\n",
    "        obs = array([index])\n",
    "        return obs"
   ]
  },
  {
   "cell_type": "markdown",
   "metadata": {
    "collapsed": true
   },
   "source": [
    "# Putting it all together\n",
    "\n",
    "Now, we can combine all of the above components and run our experiment. \n",
    "\n",
    "Over 10 iterations where each iteration has 1000 interactions, we see the win rate of the agent increase dramtically!"
   ]
  },
  {
   "cell_type": "code",
   "execution_count": 58,
   "metadata": {
    "collapsed": false
   },
   "outputs": [
    {
     "name": "stdout",
     "output_type": "stream",
     "text": [
      "Wins:  41 Losses:  49\n",
      "Wins:  102 Losses:  13\n",
      "Wins:  91 Losses:  13\n",
      "Wins:  91 Losses:  14\n",
      "Wins:  95 Losses:  9\n",
      "Wins:  100 Losses:  6\n",
      "Wins:  93 Losses:  13\n",
      "Wins:  103 Losses:  6\n",
      "Wins:  97 Losses:  9\n",
      "Wins:  145 Losses:  3\n"
     ]
    }
   ],
   "source": [
    "from FightTask import *\n",
    "\n",
    "fightTask = FightTask(fightEnv)\n",
    "fightTask.verbose = True\n",
    "experiment = Experiment(fightTask, fightAgent)\n",
    "iterationCount = 10\n",
    "for i in range(iterationCount):\n",
    "    experiment.doInteractions(1000)\n",
    "    print \"Wins: \", fightTask.wins, \"Losses: \", fightTask.losses\n",
    "    fightTask.wins = 0\n",
    "    fightTask.losses = 0\n",
    "    fightAgent.learn()\n",
    "    fightAgent.reset()"
   ]
  },
  {
   "cell_type": "markdown",
   "metadata": {},
   "source": [
    "# Going Further\n",
    "\n",
    "In this instance, the opponent has a very simplistic behavior pattern. If we wanted to test the capabilities of the reinforcement learning algorithm further, we could give it even more complex patterns and make it remember more history. We could also make the scenario more complex, adding more tasks or more conditions for the agent to consider. All of this would dramatically increase our state space, and likely make our reinforcement learning AI perform worse, as the expanded state space would mean that it takes longer to figure out the optimal way to reach its goal.\n",
    "\n",
    "Reducing our state space would solve this! Doing things like splitting the spectrum of some of the parameters into buckets (full health, low health etc.) would greatly reduce the number of states introduced by those factors. Tweaking our reward function to include things like meter gained would also improve the performance. \n",
    "\n",
    "These optimizations vary from design space to design space, but by taking note of them, you can dramatically improve the results of your reinforcment learning experience."
   ]
  },
  {
   "cell_type": "markdown",
   "metadata": {
    "collapsed": true
   },
   "source": [
    "# Additional Resources\n",
    "\n",
    "PyBrain API: http://pybrain.org/docs/\n",
    "\n",
    "Various AI techniques for Fighting Games: http://cs229.stanford.edu/proj2008/RicciardiThill-AdaptiveAIForFightingGames.pdf"
   ]
  },
  {
   "cell_type": "code",
   "execution_count": null,
   "metadata": {
    "collapsed": true
   },
   "outputs": [],
   "source": []
  }
 ],
 "metadata": {
  "anaconda-cloud": {},
  "kernelspec": {
   "display_name": "Python [Root]",
   "language": "python",
   "name": "Python [Root]"
  },
  "language_info": {
   "codemirror_mode": {
    "name": "ipython",
    "version": 2
   },
   "file_extension": ".py",
   "mimetype": "text/x-python",
   "name": "python",
   "nbconvert_exporter": "python",
   "pygments_lexer": "ipython2",
   "version": "2.7.12"
  }
 },
 "nbformat": 4,
 "nbformat_minor": 0
}
