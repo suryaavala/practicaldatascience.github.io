{
 "cells": [
  {
   "cell_type": "code",
   "execution_count": 136,
   "metadata": {
    "collapsed": true
   },
   "outputs": [],
   "source": [
    "import time\n",
    "import requests\n",
    "import pprint\n",
    "import pandas\n",
    "import operator\n",
    "import numpy\n",
    "import math\n",
    "from sklearn import linear_model\n",
    "\n",
    "%matplotlib inline\n",
    "import matplotlib\n",
    "matplotlib.style.use('seaborn-muted')"
   ]
  },
  {
   "cell_type": "markdown",
   "metadata": {},
   "source": [
    "# Facebook Graph API\n",
    "\n",
    "As the world's most popular social networking site, Facebook's data, their **social graph**, is a treasure trove for data scientists. To enable developers to read and write Facebook's data, they offer the **Graph API**, which provides users with a view of the Facebook social graph, representing nodes in the graph (people, places, events, pages, etc.) and the connections between these nodes (friendships, follower relationships, attendee relationships, etc.).\n",
    "\n",
    "In this tutorial, we present an overview of Facebook's Graph API, focusing on three aspects:\n",
    "\n",
    "1. [Understanding the Graph API](#Understanding-the-Graph-API)\n",
    "2. [Using the Graph API](#Using-the-Graph-API)\n",
    "3. [Applying the Graph API](#Applying-the-Graph-API)\n",
    "\n",
    "Since writing data isn't highly relevant in the data science context, we intentionally deemphasize these functions of the Graph API.\n",
    "\n",
    "## Understanding the Graph API\n",
    "\n",
    "As of this tutorial, the current and latest version of the Graph API is v2.7. We assume the reader is using this version of the API."
   ]
  },
  {
   "cell_type": "code",
   "execution_count": 3,
   "metadata": {
    "collapsed": true
   },
   "outputs": [],
   "source": [
    "version = '2.7'"
   ]
  },
  {
   "cell_type": "markdown",
   "metadata": {},
   "source": [
    "### Structure\n",
    "\n",
    "Facebook's Graph API encapsulates their social graph. As expected, the social graph consists of nodes and edges that are assigned semantics as follows:\n",
    "\n",
    "- **[nodes](https://developers.facebook.com/docs/graph-api/reference)**: things (e.g. users, photos, groups, events) with *fields* with information about these things (e.g. a user's birthday, a photo's location)\n",
    "- **edges**: connections between these things (e.g. a user's friends, a comment's likes)\n",
    "\n",
    "Each node of the social graph has its own unique id, we'll find this useful later in the tutorial."
   ]
  },
  {
   "cell_type": "markdown",
   "metadata": {},
   "source": [
    "### Security\n",
    "\n",
    "Authentication to the Graph API is controlled using [access tokens](https://developers.facebook.com/docs/facebook-login/access-tokens), alphanumeric strings that identify an application and are used to make API calls. While there are multiple types of tokens and complex workflows involved with obtaining tokens, a discussion of these topics is outside of the scope for this tutorial. \n",
    "\n",
    "A detailed look at permissions, Facebook's method of ensuring data security and privacy is also out of scope. We simply note that an access token is associated with a particular set of permissions, e.g. the permission to access a user's likes or post to their wall.\n",
    "\n",
    "Going forward, we will assume that the reader uses Facebook's [Graph API Explorer](https://developers.facebook.com/tools/explorer) (as mentioned below), to acquire a user access token with all necessary permissions after [creating a test application](https://developers.facebook.com/docs/apps/register). While an access token from the API Explorer application itself is often sufficient, creating a test application provides some extra permissions that we exploit later in the tutorial."
   ]
  },
  {
   "cell_type": "code",
   "execution_count": 35,
   "metadata": {
    "collapsed": false
   },
   "outputs": [],
   "source": [
    "# Copy your access token below\n",
    "access_token = '[REDACTED]'"
   ]
  },
  {
   "cell_type": "markdown",
   "metadata": {},
   "source": [
    "### Requests\n",
    "\n",
    "Facebook's Graph API is a [RESTful API](https://en.wikipedia.org/wiki/Representational_state_transfer), accessible through HTTP requests. As a RESTful API, the Graph API is stateless and operates with the standard HTTP verbs: GET, POST, PUT, DELETE and UPDATE. Most requests to the API will use the https://graph.facebook.com/ base URL and return JSON.\n",
    "\n",
    "Since HTTP libraries are present in the majority of progrmmng languages, the Graph API is accessible with most languages. It can even be accessed directly through a browser or the command line with `curl` as highlighted below:\n",
    "\n",
    "    $ curl -X GET \"https://graph.facebook.com/v2.7/me?access_token=REDACTED\"\n",
    "    \n",
    "    {\"name\":\"Sushain Cherivirala\",\"id\":\"10202983494531833\"}\n",
    "\n",
    "Facebook offers [official](https://developers.facebook.com/tools/explorer) SDKs that support the Graph API for iOS, Android, JavaScript, React and PHP as well as a web interface, the [Graph API Explorer](https://developers.facebook.com/tools/explorer). Unfortunately, their [listing](https://developers.facebook.com/docs/apis-and-sdks#third-party-sdks) of third-party SDKs doesn't include a Python option despite the presence of a community developed [Facebook Python SDK](https://github.com/mobolic/facebook-sdk), the library we will use throughout this tutorial.\n",
    "\n",
    "## Using the Graph API\n",
    "\n",
    "While we could use the `requests` library or Python's builtin HTTP libraries to call the Graph API, we opt to use the open source community SDK mentioned above for the sake of writing cleaner, more extensible code.\n",
    "\n",
    "### Installation\n",
    "\n",
    "Use the Python Package Index (pip),\n",
    "\n",
    "     $ pip install facebook-sdk\n",
    "     \n",
    "### Getting Started\n",
    "\n",
    "Let's start off by initializing our `graph` object and performing the same query as we did with curl above."
   ]
  },
  {
   "cell_type": "code",
   "execution_count": 36,
   "metadata": {
    "collapsed": false
   },
   "outputs": [],
   "source": [
    "import facebook\n",
    "\n",
    "graph = facebook.GraphAPI(access_token=access_token, version=version)\n",
    "me = graph.get_object(id='me')"
   ]
  },
  {
   "cell_type": "code",
   "execution_count": 5,
   "metadata": {
    "collapsed": false
   },
   "outputs": [
    {
     "data": {
      "text/plain": [
       "{u'birthday': u'04/12/1997', u'id': u'10207343827217425'}"
      ]
     },
     "execution_count": 5,
     "metadata": {},
     "output_type": "execute_result"
    }
   ],
   "source": [
    "graph.get_object(id=me['id'], fields='birthday')"
   ]
  },
  {
   "cell_type": "markdown",
   "metadata": {},
   "source": [
    "Your output should look something like the following except with your own account:\n",
    "\n",
    "    {u'id': u'10202983494531833', u'name': u'Sushain Cherivirala'}\n",
    "\n",
    "Awesome! We've made our first query to Facebook's Graph API and successfully received a result. As you might have noticed, our output is a Python dictionary instead of JSON Here's one of the places that using a SDK helps us. By taking care of the JSON parsing details, the library helps us focus on the important stuff.\n",
    "\n",
    "For example, we note that the `get_object` function fetches a **node** from the social graph with the specified id, returning its **fields**. We fetched from the special `/me` endpoint which defaults to the node corresponding to the access token's user. \n",
    "\n",
    "### Accessing Fields\n",
    "\n",
    "We could have also accessed the same node by directly using its id:"
   ]
  },
  {
   "cell_type": "code",
   "execution_count": 6,
   "metadata": {
    "collapsed": false
   },
   "outputs": [
    {
     "data": {
      "text/plain": [
       "{u'gender': u'male', u'id': u'10207343827217425'}"
      ]
     },
     "execution_count": 6,
     "metadata": {},
     "output_type": "execute_result"
    }
   ],
   "source": [
    "graph.get_object(id='me', fields='gender')"
   ]
  },
  {
   "cell_type": "markdown",
   "metadata": {},
   "source": [
    "This time we've also elected to retrieve the `birthday` field. Since the `/me` endpoint corresponds to a user, we can check Facebook's [documentation](https://developers.facebook.com/docs/graph-api/reference/user/) for the `User` node to find a complete listing of a User node's fields. Accessing multiple fields is as simple as comma-separating them:"
   ]
  },
  {
   "cell_type": "code",
   "execution_count": 7,
   "metadata": {
    "collapsed": false
   },
   "outputs": [
    {
     "data": {
      "text/plain": [
       "{u'birthday': u'04/12/1997', u'gender': u'male', u'id': u'10207343827217425'}"
      ]
     },
     "execution_count": 7,
     "metadata": {},
     "output_type": "execute_result"
    }
   ],
   "source": [
    "graph.get_object(id='me', fields='gender,birthday')"
   ]
  },
  {
   "cell_type": "markdown",
   "metadata": {},
   "source": [
    "Fields aren't always flat strings, they can certainly be more interesting:"
   ]
  },
  {
   "cell_type": "code",
   "execution_count": 8,
   "metadata": {
    "collapsed": false
   },
   "outputs": [
    {
     "data": {
      "text/plain": [
       "{u'education': [{u'id': u'1814664649889',\n",
       "   u'school': {u'id': u'103736699664777', u'name': u'Dulles High School'},\n",
       "   u'type': u'High School',\n",
       "   u'year': {u'id': u'105576766163075', u'name': u'2015'}},\n",
       "  {u'concentration': [{u'id': u'104076956295773',\n",
       "     u'name': u'Computer Science'}],\n",
       "   u'id': u'10204211781558241',\n",
       "   u'school': {u'id': u'7133766387', u'name': u'Carnegie Mellon University'},\n",
       "   u'type': u'College',\n",
       "   u'year': {u'id': u'224452140917757', u'name': u'2019'}}],\n",
       " u'id': u'10207343827217425'}"
      ]
     },
     "execution_count": 8,
     "metadata": {},
     "output_type": "execute_result"
    }
   ],
   "source": [
    "graph.get_object(id='me', fields='education')"
   ]
  },
  {
   "cell_type": "markdown",
   "metadata": {},
   "source": [
    "### Working with Edges\n",
    "\n",
    "Let's try something a bit more exciting than reading static pieces of information. How about finding all the taggable<sup>1</sup> friends a user has, the canonical example of edges in the social graph?\n",
    "\n",
    "<sup>1</sup> As of v2.0, the Graph API [no longer allows](http://stackoverflow.com/a/23417628/1266600) fetching all friends due to privacy concerns."
   ]
  },
  {
   "cell_type": "code",
   "execution_count": 9,
   "metadata": {
    "collapsed": false
   },
   "outputs": [
    {
     "data": {
      "text/plain": [
       "{u'data': [{u'id': u'AaLz29Gdb7HfYh2f5cHSTJrW5qjntW21gsZLcmzPbcUllwLECQ6eveJ3zk_zsgwVv928cozZCz9u_7w2mhYaLuDyc8zZpFu7YWjr2Amf3vLtIg',\n",
       "   u'name': u'Vijaya Koppnur',\n",
       "   u'picture': {u'data': {u'is_silhouette': True,\n",
       "     u'url': u'https://scontent.xx.fbcdn.net/v/t1.0-1/c15.0.50.50/p50x50/1379841_10150004552801901_469209496895221757_n.jpg?oh=ae33d49c23915f07a8d0a90acce21208&oe=588D7733'}}},\n",
       "  {u'id': u'AaLX5kOmciUZczq5o0OZUya80s1XFdeIsKbPDg6LWHk3txpPt73OGl4OtE4m2Upn95QhWH8EMdcIdvr0v9uh5cOWDFTkWHwRtNB0E9kwKfZRwQ',\n",
       "   u'name': u'Crystal Lee',\n",
       "   u'picture': {u'data': {u'is_silhouette': False,\n",
       "     u'url': u'https://scontent.xx.fbcdn.net/v/t1.0-1/p50x50/14332962_1244263395643606_4561898397943723058_n.jpg?oh=0b432ece2a9bc109058ae8f3178f7b01&oe=58D35E4B'}}},\n",
       "  {u'id': u'AaJqRk8lzBZQMttuDEtjL8BRUl2lV8-iRfY6R_8zwOBNyg1N3YnNlXjMcBu54xzhGVjddJ8wu7GOd-IxlWOPCyJ9Xcg254MJC4ibeagcegYcWQ',\n",
       "   u'name': u'Fang You',\n",
       "   u'picture': {u'data': {u'is_silhouette': False,\n",
       "     u'url': u'https://scontent.xx.fbcdn.net/v/t1.0-1/p50x50/1453262_910568842304028_549738601918541950_n.jpg?oh=99273949e9d9dc2e6e07afd8e7351e07&oe=58D186C4'}}},\n",
       "  {u'id': u'AaJpyeMkeFM3bMc26TcoBElDpAQm0GOstTRK9zkGHntxPciujw7QBwcjxuIV07Bl6T80AOniK5tV23UM8UfAoK57niVzau6-j_m10UBZ7j3TbQ',\n",
       "   u'name': u'Corwin de Boor',\n",
       "   u'picture': {u'data': {u'is_silhouette': False,\n",
       "     u'url': u'https://scontent.xx.fbcdn.net/v/t1.0-1/p50x50/11412191_859336617447609_8267409421323654968_n.jpg?oh=8e543fca7f75a5506066bbefed6d608c&oe=5894A4D6'}}},\n",
       "  {u'id': u'AaIrB2GtA3g2uy4xEDPvq5ZoqVgXxtdsDb6J75JXgzVLSmdXsWfKwDJVWTW-H5gw9iSlPRu4bG8gZZ-7UJy67Nv_5_KTVGM_7agK2gdGgN18Ow',\n",
       "   u'name': u'Josh Korn',\n",
       "   u'picture': {u'data': {u'is_silhouette': False,\n",
       "     u'url': u'https://scontent.xx.fbcdn.net/v/t1.0-1/c12.0.50.50/p50x50/12923290_1082546071766404_5250157316912205992_n.jpg?oh=f8fa47cf36a92c7d99d20db486d081e0&oe=5894172D'}}},\n",
       "  {u'id': u'AaJ7GIutwbxDEN-ap5J__4oaJwFLbYSKostOENLQK4Xf10ta3kRrbUg7hCxnewWbHazXj4ylJUa6Ny3GHemG6wUAReqV94lIDEQSkRGBcjTRLw',\n",
       "   u'name': u'Tyler Barnett',\n",
       "   u'picture': {u'data': {u'is_silhouette': False,\n",
       "     u'url': u'https://scontent.xx.fbcdn.net/v/t1.0-1/c39.39.490.490/s50x50/1003699_4339478904781_1465742053_n.jpg?oh=69346f62ad114376166a6d20aae964d1&oe=58A28C4D'}}},\n",
       "  {u'id': u'AaLnnGCA75oWx6Vn_XhKRTWsy4WInX44IUNB3AIymIOAWpar-VFoGRrItIWwaN0zoo9ElmcdiYPiWB8yFDfKN2ylltKzizK8hBm6Y0KMuzWrSw',\n",
       "   u'name': u'Lily Marty',\n",
       "   u'picture': {u'data': {u'is_silhouette': False,\n",
       "     u'url': u'https://scontent.xx.fbcdn.net/v/t1.0-1/c0.8.50.50/p50x50/12512346_1209436462419507_5582465394621625566_n.jpg?oh=34a5bc9128dacd3d0c6abd9ace68b5ff&oe=58CEFE03'}}},\n",
       "  {u'id': u'AaIOG-RFXov_hi32mhZeWYknpWn41wKQ8Hzgg8e-9zOSxgQ7PRsfe9wKz9HGmlihc5rimfhKZWokBLczNc6dX3CMBwGdLhmzxo5uIn2LARQ6NA',\n",
       "   u'name': u'Pedro Lima',\n",
       "   u'picture': {u'data': {u'is_silhouette': False,\n",
       "     u'url': u'https://scontent.xx.fbcdn.net/v/t1.0-1/p50x50/988898_857713320952979_1842395458941793850_n.jpg?oh=6cb1c6bff2fb692764a66ae3c7cdce3d&oe=589D15FD'}}},\n",
       "  {u'id': u'AaLPmFgHRoIGGA7jHMzXuPFu1l6uBZIxxjPfnpS39fS5d5cKX8QUp7qAxKH9l5dHCXwxaAXOyYVAPYlLkzlvuBT9gzaRt-3vn9lgXyL66SmCyw',\n",
       "   u'name': u'Bettina Chou',\n",
       "   u'picture': {u'data': {u'is_silhouette': False,\n",
       "     u'url': u'https://scontent.xx.fbcdn.net/v/t1.0-1/c0.7.50.50/p50x50/13892285_1415811248434000_3195286846640142813_n.jpg?oh=a1ad4f9bd8baf7b04f23ff7fa32729f6&oe=58870ABD'}}},\n",
       "  {u'id': u'AaL_pgFkPkwn6fg7dw-M_Lf5IyLJ7UYxmVWY2LZRbQ6XZHCh3yYySpBRPuo2j4V-C_ITIbiYRDD6k9bDNvpPYuz37p_ITMciiAofAYCC5jue0Q',\n",
       "   u'name': u'Alice Rao',\n",
       "   u'picture': {u'data': {u'is_silhouette': False,\n",
       "     u'url': u'https://scontent.xx.fbcdn.net/v/t1.0-1/p50x50/14344229_10208586192704883_7562465589318713924_n.jpg?oh=45184fff149ddb0bc047afd9710744a5&oe=58922901'}}},\n",
       "  {u'id': u'AaJfSWHDCTiz9ocgsW-zaB0OSp55CBjxJyVFB9Dbe3xIyeg1ARPUrvCT9CyegWAInO0hFTDGssxuTVfqpbF1FgFSU1hqBhUlxPwYOq3_7IYKsg',\n",
       "   u'name': u'Kelly Kim',\n",
       "   u'picture': {u'data': {u'is_silhouette': False,\n",
       "     u'url': u'https://scontent.xx.fbcdn.net/v/t1.0-1/p50x50/14237727_324316147917429_5546847114890930703_n.jpg?oh=dd280bbbb82b8988230844d6682d14f4&oe=58CC0B66'}}},\n",
       "  {u'id': u'AaKj9SpsnKHkD9Mpk1rEH-yxGnAG6Zf5be10gVJOEMAR5Ilvl1fcEYLvwOpaBOlZNmMHGElcARmDotYJ2nNqq67plRRELAyXeMRzaOey5ouO_Q',\n",
       "   u'name': u'Stefan Romero',\n",
       "   u'picture': {u'data': {u'is_silhouette': False,\n",
       "     u'url': u'https://scontent.xx.fbcdn.net/v/t1.0-1/p50x50/10399192_747017828732987_7147192431979298406_n.jpg?oh=dfd001a12b79af797efc2e3994c78147&oe=589A9137'}}},\n",
       "  {u'id': u'AaIYRclzNiA21gXTeJq9yNtpWtni7V7x2EItz9l9pOQ0ivL1kbLtdTvUAfIH3Q5zqFqr6rGFeDUXj_ZL4V28CYmioRZBOjznQPof9l3QZY-QKA',\n",
       "   u'name': u'Alex Moy',\n",
       "   u'picture': {u'data': {u'is_silhouette': False,\n",
       "     u'url': u'https://scontent.xx.fbcdn.net/v/t1.0-1/c19.0.50.50/p50x50/14925271_1038910299569024_3594813041438416458_n.jpg?oh=8629c0059d6734870e78d96984911ea5&oe=58CDA776'}}},\n",
       "  {u'id': u'AaIIe83oxOS8uWu_xb3Da95CHLC9Yt1LRxoq2kJG9Br7BkF_XBXlIaPbaZxm5AcFqCne2diPSVaoJuoN9ftZD2Czp-D047lrfzcRdQZ9Hqu-5Q',\n",
       "   u'name': u'Ryan Dumas',\n",
       "   u'picture': {u'data': {u'is_silhouette': False,\n",
       "     u'url': u'https://scontent.xx.fbcdn.net/v/t1.0-1/p50x50/14724502_872840969520111_5774304146604652814_n.jpg?oh=e1555c452ff4433dbac57b973b99f942&oe=589AC0DF'}}},\n",
       "  {u'id': u'AaJ7Dg5j5nsd7gBxCH78AkAyHx4g0FX_Aim2M5vEK-2N4KdEYgRqHlW2if-sKZTIERtRZ1DBkld03QSW1i34Fc22B7FBu5EIjQjAoYNc8ktQMg',\n",
       "   u'name': u'Benjamin Johnson-Staub',\n",
       "   u'picture': {u'data': {u'is_silhouette': False,\n",
       "     u'url': u'https://scontent.xx.fbcdn.net/v/t1.0-1/p50x50/11866378_929313470494497_6885228907565532992_n.jpg?oh=d3bbf268c57762b1272d817ff6bf4aa9&oe=588A1312'}}},\n",
       "  {u'id': u'AaJS6jcJrv-ixjDwoiE--TPoc0wKOSxjM1avoyw7m8p_hv0X98k7L0khXFKQqf49X_bPE2m2zVOwI_epiUleofu1OUiGv7Uu1b6yMtzydg6N8A',\n",
       "   u'name': u'Shlok Goyal',\n",
       "   u'picture': {u'data': {u'is_silhouette': True,\n",
       "     u'url': u'https://scontent.xx.fbcdn.net/v/t1.0-1/c15.0.50.50/p50x50/10354686_10150004552801856_220367501106153455_n.jpg?oh=6c801f82cd5a32fd6e5a4258ce00a314&oe=589AAD2F'}}},\n",
       "  {u'id': u'AaJBmmrLWmZ3IeOlB-miM2n7wWBh8-ONdLJo0IW_nAtBhIzIY5JY3sKyOQNqrbodyrNSKfuUUNFp3S0ZE_bxKwxpBM9Vutb_bKbne9vhjUOopg',\n",
       "   u'name': u'Amrutha Salted Potatoes Pal',\n",
       "   u'picture': {u'data': {u'is_silhouette': False,\n",
       "     u'url': u'https://scontent.xx.fbcdn.net/v/t1.0-1/p50x50/11825891_892487140860420_6005229943946246488_n.jpg?oh=80831a1d3d26d1c263cef0c2e2246dfe&oe=58979BA7'}}},\n",
       "  {u'id': u'AaIJjhlfBy4-0p-WgWBFgSqc26wyXc77x6Lo_1iF4KLnxZez2Ow5vNVYyja91vEkqYyNPM7AHK9Z_zhFfmpY4e8BBujH8GXtV4Tz_X2LYLa0Cg',\n",
       "   u'name': u'Evan Glauberman',\n",
       "   u'picture': {u'data': {u'is_silhouette': False,\n",
       "     u'url': u'https://scontent.xx.fbcdn.net/v/t1.0-1/c0.11.50.50/p50x50/13495266_1209088862448630_4491640045852071278_n.jpg?oh=f5d5129f978a028a535e8aa07800fe3c&oe=588F5D95'}}},\n",
       "  {u'id': u'AaK1GVvav_Tvd8uHSudeQRWdS_5K3jqzG2cD_uWCBYfEotcLfrglXvELLWN5EEtgzLGrimfCUPSXi2zfbbgEBzSSfjh8Xcd0_F0imE3KgSGw1g',\n",
       "   u'name': u'Tiffany Lu',\n",
       "   u'picture': {u'data': {u'is_silhouette': False,\n",
       "     u'url': u'https://scontent.xx.fbcdn.net/v/t1.0-1/c66.21.512.512/s50x50/1918963_783988388374617_7762676060343096161_n.jpg?oh=ac1c379325a4927c2850e2b30d04c7d5&oe=58891313'}}},\n",
       "  {u'id': u'AaKqJgESFyGN_yezBEtuRXeiUmGLOWHnWK3ctSCe0oLSyveI1TP7LOpsIDr6JMz-Ndpq9XvRgK3zb_j-qu_L-_eIYg8MoX0hY2wBKo4cvXdJfw',\n",
       "   u'name': u'Roshni Mehta',\n",
       "   u'picture': {u'data': {u'is_silhouette': False,\n",
       "     u'url': u'https://scontent.xx.fbcdn.net/v/t1.0-1/p50x50/10653374_1015689238474197_6264698742813456506_n.jpg?oh=fed09d8578e6317c3be7dae055ebf915&oe=58D32CBB'}}},\n",
       "  {u'id': u'AaL7t-qtovFI9sReVAVlj37-IGG9JUxYWVaF7kK-0ML7v3-FfFpu-ixv4H2xvRPhxLIcrTdlzgADiukGju1S934iNSmX5AnPg2ux3QwyRpzdLA',\n",
       "   u'name': u'Paige Thompson',\n",
       "   u'picture': {u'data': {u'is_silhouette': False,\n",
       "     u'url': u'https://scontent.xx.fbcdn.net/v/t1.0-1/p50x50/14449018_1032013986897188_3755085669743810594_n.jpg?oh=b328a8d4b3e904264136e625069dd68e&oe=58931FA5'}}},\n",
       "  {u'id': u'AaLGoyuU6aBfBZq8txofganDmCyID0OJqEUijJY4HnyV4n_txosu21f6kGABOtjaM1Tp3ykdLn1KOGAWdNZFdgHq--kaEhthHVRVp9J5Ssii6A',\n",
       "   u'name': u'Ranjini Narayan',\n",
       "   u'picture': {u'data': {u'is_silhouette': False,\n",
       "     u'url': u'https://scontent.xx.fbcdn.net/v/t1.0-1/c10.10.50.50/p60x60/14333755_1301702066528490_1381266568862843963_n.jpg?oh=b6a97bc942d8abc537233238f7d77ca6&oe=588CDC1F'}}},\n",
       "  {u'id': u'AaJFxEU2iCDmQaG0jKs7E2rr1rDxZAMSyZn4uT_xj5A5MLM_l86maEwU5O6QjzJoFl0heoUEH_3mpKyRyDNJRK7NSzj6-299tTXhed3An_AjJA',\n",
       "   u'name': u'Ryan LaPr\\xe9',\n",
       "   u'picture': {u'data': {u'is_silhouette': False,\n",
       "     u'url': u'https://scontent.xx.fbcdn.net/v/t1.0-1/p50x50/12274661_976672889035486_74095869699084449_n.jpg?oh=ada5b385cccc52174a46de34a3728a29&oe=58CDE0CE'}}},\n",
       "  {u'id': u'AaIJt75FuDMtr93OnwZqP41PAKcGZBs5-lsMuHPu-ugvEmpPAj6ekxI2LdpFY1p1ATX1PNqjlhjJrmt45B6LnLBPNfb8vsvCz3TUaIIxT9K5rw',\n",
       "   u'name': u'Hamza Qureshi',\n",
       "   u'picture': {u'data': {u'is_silhouette': False,\n",
       "     u'url': u'https://scontent.xx.fbcdn.net/v/t1.0-1/p50x50/14494825_10207845805406735_5451091768761835191_n.jpg?oh=0349d4f6b308871ce1c597a033a2c1d2&oe=58954EB2'}}},\n",
       "  {u'id': u'AaLXhBBT4920K46sAAyvlhiwmSwdkQZH6IkBTZGoZFyJdbwpa-sQwgXzQCpoYAx03gBQGx2zDt9qdvVOarx0nz4CIsYU4ZbaiD2YleIyN1Ovig',\n",
       "   u'name': u'Maulik Doshi',\n",
       "   u'picture': {u'data': {u'is_silhouette': False,\n",
       "     u'url': u'https://scontent.xx.fbcdn.net/v/t1.0-1/p50x50/13138906_10154190240394686_6901668290385499011_n.jpg?oh=ff773032338c9cc09bdebdbb978a25ed&oe=58A30633'}}}],\n",
       " u'paging': {u'cursors': {u'after': u'QWFKQ2FRZAll2dGJaOVV5cTZAnWUpuN3I3V19DM2JpQjQ5MkpNTXlleFg2dmRjSVBTZAXM0VXpuT2VLc2htWHg4dU9Vc3lHQzJ1Ym9yNTlLUEtrcjVaZAnRvYW1XWWE4MXcyTE9YOUwyQ1ZAoTGZAhc1EZD',\n",
       "   u'before': u'QWFKNDdsLXl2N1Q1cHc0T3hYVXlDV0FTZAmlvdlA4UF85RUVRV3dXNkNMWTRRempNM1JVNHFlaVMyXzJRM1l3dlNCTm9YNmNFN3RzdEx0eGFaWUdVNkxWQ1F4QmJPa2QwT25iM3Fid1VZAN0QxQlEZD'},\n",
       "  u'next': u'https://graph.facebook.com/v2.7/10207343827217425/taggable_friends?access_token=EAAIeyr3UokcBAGaSdBmBZCoZAnuughkoNz3StGYxeeueUWfjLOtLKMcAjp9lYSwCQ1ZAByM6cTUuYU9TrJfxrRMRz5bKUeZCeC2eGU8BsogToNEdvSdlSt2gDAs2rNn691ShRgEsZCHeJkr8OAqJYy3s6v9fJd5lp7BwmBcP84umK08colDng5YpJbdlKrR8ZD&limit=25&after=QWFKQ2FRZAll2dGJaOVV5cTZAnWUpuN3I3V19DM2JpQjQ5MkpNTXlleFg2dmRjSVBTZAXM0VXpuT2VLc2htWHg4dU9Vc3lHQzJ1Ym9yNTlLUEtrcjVaZAnRvYW1XWWE4MXcyTE9YOUwyQ1ZAoTGZAhc1EZD'}}"
      ]
     },
     "execution_count": 9,
     "metadata": {},
     "output_type": "execute_result"
    }
   ],
   "source": [
    "graph.get_connections(id='me', connection_name='taggable_friends')"
   ]
  },
  {
   "cell_type": "markdown",
   "metadata": {},
   "source": [
    "You might notice that something looks wrong (unless you have a very small number of friends). The API call only returns a handful of your friends, specifically 25 of them. We'll have to take advantage of the extra paging data we receive (at the end of the output) to fetch all our friends. We define a couple helper functions to retrieve all the data for both connections (edges) and objects (nodes):"
   ]
  },
  {
   "cell_type": "code",
   "execution_count": 86,
   "metadata": {
    "collapsed": false
   },
   "outputs": [],
   "source": [
    "def recurse(response, delay, fn, *args, **kwargs):\n",
    "    '''iterate through all the pages of a response, either using the cursor or falling back to URLs'''\n",
    "    data = []\n",
    "    data.extend(response['data'])\n",
    "        \n",
    "    # the Graph API doesn't always return a cursor, sometimes only a next URL\n",
    "    next_url = response['paging'].get('next', None)\n",
    "    cursor = response['paging'].get('cursors', {'after': None})['after']\n",
    "\n",
    "    if cursor:\n",
    "        while cursor:\n",
    "            kwargs['after'] = cursor\n",
    "            response = fn(*args, **kwargs)\n",
    "            data.extend(response['data'])\n",
    "            cursor = response['paging']['cursors']['after'] if 'paging' in response else None\n",
    "            time.sleep(delay)\n",
    "    elif next_url:\n",
    "        while next_url:\n",
    "            response = requests.get(next_url).json()\n",
    "            data.extend(response['data'])\n",
    "            next_url = response['paging']['next'] if 'paging' in response else None\n",
    "            time.sleep(delay)\n",
    "    \n",
    "    return data\n",
    "\n",
    "def get_all_connections(graph, *args, **kwargs):\n",
    "    '''get all the connections from a particular node in the social graph'''\n",
    "    delay = kwargs.pop('delay', 3)\n",
    "    response = graph.get_connections(*args, **kwargs) # get first page of data    \n",
    "    return recurse(response, delay, graph.get_connections, *args, **kwargs)\n",
    "\n",
    "def get_all_objects(graph, **kwargs):\n",
    "    '''get the fields for a list of nodes in the social graph'''\n",
    "    ids = kwargs.pop('ids')\n",
    "    delay = kwargs.pop('delay', 3)\n",
    "\n",
    "    # the Graph API only allows requesting 50 IDs at a time\n",
    "    objects = {}\n",
    "    for i in range(0, len(ids), 50):\n",
    "        kwargs['ids'] = ids[i:i+50]\n",
    "        response = graph.get_objects(**kwargs)\n",
    "        for id, obj in response.items():\n",
    "            # these are connections, we have to recurse to find them all\n",
    "            if type(obj) == dict:\n",
    "                for field, value in obj.items():\n",
    "                    if type(value) == dict and 'data' in value:\n",
    "                        obj[field] = recurse(value, delay, graph.get_connections, id=id, connection_name=field)\n",
    "                response[id] = obj\n",
    "        objects.update(response)\n",
    "    return objects"
   ]
  },
  {
   "cell_type": "code",
   "execution_count": 14,
   "metadata": {
    "collapsed": false
   },
   "outputs": [
    {
     "name": "stdout",
     "output_type": "stream",
     "text": [
      "1100\n"
     ]
    }
   ],
   "source": [
    "taggable_friends = get_all_connections(graph, id='me', connection_name='taggable_friends')\n",
    "print(len(taggable_friends))"
   ]
  },
  {
   "cell_type": "markdown",
   "metadata": {
    "collapsed": true
   },
   "source": [
    "Here, we note that I have 1100 taggable friends, making up about 95% of my 1,141 total friends. Your mileage may vary with this API call. Moreover, since we aren't given access to the real node IDs of friends, the Graph API makes it impossible to build a graph of our friends by preventing us from fetching friends of friends. Reverse engineering Facebook's website would make this possible; however, a discussion of this falls out of scope for this tutorial (it likely also violates Facebook's TOS). Instead, we will focus on Facebook's other primary category of nodes, posts.\n",
    "\n",
    "## Applying the Graph API\n",
    "\n",
    "The Graph API affords us significantly greater latitude in fetching our own posts than with friend retrieval, enabling text processing and all other kinds of data science goodness. To start of, let's fetch all the posts on my [feed](https://developers.facebook.com/docs/graph-api/reference/v2.8/user/feed) by finding all the edges from me to posts. As the documentation notes, this API call fetches both posts the user is tagged in as well as the ones they published."
   ]
  },
  {
   "cell_type": "code",
   "execution_count": 140,
   "metadata": {
    "collapsed": false
   },
   "outputs": [
    {
     "name": "stdout",
     "output_type": "stream",
     "text": [
      "408\n"
     ]
    },
    {
     "data": {
      "text/html": [
       "<div>\n",
       "<table border=\"1\" class=\"dataframe\">\n",
       "  <thead>\n",
       "    <tr style=\"text-align: right;\">\n",
       "      <th></th>\n",
       "      <th>created_time</th>\n",
       "      <th>id</th>\n",
       "      <th>message</th>\n",
       "      <th>story</th>\n",
       "    </tr>\n",
       "  </thead>\n",
       "  <tbody>\n",
       "    <tr>\n",
       "      <th>0</th>\n",
       "      <td>2016-10-31 11:16:21</td>\n",
       "      <td>10202983494531833_10207636886023712</td>\n",
       "      <td>I  fondly recall and relish the happy memories...</td>\n",
       "      <td>Mallaiah Anchoori with Spoorthi Cherivirala an...</td>\n",
       "    </tr>\n",
       "    <tr>\n",
       "      <th>1</th>\n",
       "      <td>2016-10-24 23:09:44</td>\n",
       "      <td>10202983494531833_10207584723759688</td>\n",
       "      <td>Join us for Senate Week Fall 2016! \\n\\nWe will...</td>\n",
       "      <td>Sushain Cherivirala updated his cover photo.</td>\n",
       "    </tr>\n",
       "    <tr>\n",
       "      <th>2</th>\n",
       "      <td>2016-10-06 23:55:53</td>\n",
       "      <td>10202983494531833_10207437128629902</td>\n",
       "      <td>NaN</td>\n",
       "      <td>Sushain Cherivirala shared Carnegie Mellon Stu...</td>\n",
       "    </tr>\n",
       "    <tr>\n",
       "      <th>3</th>\n",
       "      <td>2016-10-06 22:07:15</td>\n",
       "      <td>10202983494531833_10207437060828207</td>\n",
       "      <td>NaN</td>\n",
       "      <td>Carnegie Mellon Student Senate added a new pho...</td>\n",
       "    </tr>\n",
       "    <tr>\n",
       "      <th>4</th>\n",
       "      <td>2016-09-24 00:08:29</td>\n",
       "      <td>10202983494531833_10207342298419206</td>\n",
       "      <td>NaN</td>\n",
       "      <td>Sushain Cherivirala shared Carnegie Mellon Stu...</td>\n",
       "    </tr>\n",
       "  </tbody>\n",
       "</table>\n",
       "</div>"
      ],
      "text/plain": [
       "         created_time                                   id  \\\n",
       "0 2016-10-31 11:16:21  10202983494531833_10207636886023712   \n",
       "1 2016-10-24 23:09:44  10202983494531833_10207584723759688   \n",
       "2 2016-10-06 23:55:53  10202983494531833_10207437128629902   \n",
       "3 2016-10-06 22:07:15  10202983494531833_10207437060828207   \n",
       "4 2016-09-24 00:08:29  10202983494531833_10207342298419206   \n",
       "\n",
       "                                             message  \\\n",
       "0  I  fondly recall and relish the happy memories...   \n",
       "1  Join us for Senate Week Fall 2016! \\n\\nWe will...   \n",
       "2                                                NaN   \n",
       "3                                                NaN   \n",
       "4                                                NaN   \n",
       "\n",
       "                                               story  \n",
       "0  Mallaiah Anchoori with Spoorthi Cherivirala an...  \n",
       "1       Sushain Cherivirala updated his cover photo.  \n",
       "2  Sushain Cherivirala shared Carnegie Mellon Stu...  \n",
       "3  Carnegie Mellon Student Senate added a new pho...  \n",
       "4  Sushain Cherivirala shared Carnegie Mellon Stu...  "
      ]
     },
     "execution_count": 140,
     "metadata": {},
     "output_type": "execute_result"
    }
   ],
   "source": [
    "feed = get_all_connections(graph, id='me', connection_name='feed')\n",
    "print(len(feed))\n",
    "feed_df = pandas.DataFrame(feed)\n",
    "feed_df['created_time'] = pandas.to_datetime(feed_df['created_time'])\n",
    "feed_df.head()"
   ]
  },
  {
   "cell_type": "markdown",
   "metadata": {},
   "source": [
    "While 408 posts appears to be reasonable number for me, let's quickly verify that we're fetching all the posts with a plot before aggregating more meta-information about the posts themselves."
   ]
  },
  {
   "cell_type": "code",
   "execution_count": 141,
   "metadata": {
    "collapsed": false
   },
   "outputs": [
    {
     "data": {
      "text/plain": [
       "(array([   2.,    0.,    1.,    0.,    0.,    0.,  124.,  178.,   35.,   68.]),\n",
       " array([ 729126.29166667,  729840.50946875,  730554.72727083,\n",
       "         731268.94507292,  731983.162875  ,  732697.38067708,\n",
       "         733411.59847917,  734125.81628125,  734840.03408333,\n",
       "         735554.25188542,  736268.4696875 ]),\n",
       " <a list of 10 Patch objects>)"
      ]
     },
     "execution_count": 141,
     "metadata": {},
     "output_type": "execute_result"
    },
    {
     "data": {
      "image/png": "[encoded data removed]",
      "text/plain": [
       "<matplotlib.figure.Figure at 0x115154ad0>"
      ]
     },
     "metadata": {},
     "output_type": "display_data"
    }
   ],
   "source": [
    "matplotlib.pyplot.xlabel('Year')\n",
    "matplotlib.pyplot.ylabel('Count')\n",
    "matplotlib.pyplot.suptitle('Frequency of Posts over Time')\n",
    "matplotlib.pyplot.hist(list(feed_df['created_time']))"
   ]
  },
  {
   "cell_type": "markdown",
   "metadata": {
    "collapsed": true
   },
   "source": [
    "While the post appearing as created in 1997 may appear strange to the reader since it occurs before the inception of Facebook, this post marks a life event (my birth). Moving forward, we gather more information about each post,"
   ]
  },
  {
   "cell_type": "code",
   "execution_count": 145,
   "metadata": {
    "collapsed": false
   },
   "outputs": [
    {
     "name": "stdout",
     "output_type": "stream",
     "text": [
      "(u'10202983494531833_2496114285704',\n",
      " {u'id': u'10202983494531833_2496114285704',\n",
      "  u'message_tags': [{u'id': u'10204004208928150',\n",
      "                     u'length': 15,\n",
      "                     u'name': u'Keerthana Kumar',\n",
      "                     u'offset': 0,\n",
      "                     u'type': u'user'},\n",
      "                    {u'id': u'10205292610620759',\n",
      "                     u'length': 14,\n",
      "                     u'name': u'Michelle Huang',\n",
      "                     u'offset': 32,\n",
      "                     u'type': u'user'},\n",
      "                    {u'id': u'786746358022897',\n",
      "                     u'length': 15,\n",
      "                     u'name': u'Anjali Chikkula',\n",
      "                     u'offset': 47,\n",
      "                     u'type': u'user'},\n",
      "                    {u'id': u'10204572063374660',\n",
      "                     u'length': 12,\n",
      "                     u'name': u'Maxine Huang',\n",
      "                     u'offset': 63,\n",
      "                     u'type': u'user'},\n",
      "                    {u'id': u'841533145894026',\n",
      "                     u'length': 14,\n",
      "                     u'name': u'Amrutha Immadi',\n",
      "                     u'offset': 76,\n",
      "                     u'type': u'user'},\n",
      "                    {u'id': u'10201696793932883',\n",
      "                     u'length': 10,\n",
      "                     u'name': u'Bowen Wang',\n",
      "                     u'offset': 91,\n",
      "                     u'type': u'user'},\n",
      "                    {u'id': u'960633373981642',\n",
      "                     u'length': 13,\n",
      "                     u'name': u'Shashank Vura',\n",
      "                     u'offset': 119,\n",
      "                     u'type': u'user'},\n",
      "                    {u'id': u'10204570126119300',\n",
      "                     u'length': 10,\n",
      "                     u'name': u'Elena Dang',\n",
      "                     u'offset': 133,\n",
      "                     u'type': u'user'}],\n",
      "  u'reactions': [{u'id': u'414656282034671',\n",
      "                  u'name': u'Srikar Ranga',\n",
      "                  u'type': u'LIKE'},\n",
      "                 {u'id': u'778988668837944',\n",
      "                  u'name': u'Alex Li',\n",
      "                  u'type': u'LIKE'},\n",
      "                 {u'id': u'883209978364934',\n",
      "                  u'name': u'Arjun Talpallikar',\n",
      "                  u'type': u'LIKE'},\n",
      "                 {u'id': u'786746358022897',\n",
      "                  u'name': u'Anjali Chikkula',\n",
      "                  u'type': u'LIKE'},\n",
      "                 {u'id': u'752420694848061',\n",
      "                  u'name': u'Debarshi Kundu',\n",
      "                  u'type': u'LIKE'},\n",
      "                 {u'id': u'10200763562848822',\n",
      "                  u'name': u'Jacob Ericson',\n",
      "                  u'type': u'LIKE'},\n",
      "                 {u'id': u'10200690955831720',\n",
      "                  u'name': u'Misha Chada',\n",
      "                  u'type': u'LIKE'},\n",
      "                 {u'id': u'966169350118563',\n",
      "                  u'name': u'Raj Kundu',\n",
      "                  u'type': u'LIKE'},\n",
      "                 {u'id': u'902074099818938',\n",
      "                  u'name': u'Rabia Kassam',\n",
      "                  u'type': u'LIKE'},\n",
      "                 {u'id': u'10204570126119300',\n",
      "                  u'name': u'Elena Dang',\n",
      "                  u'type': u'LIKE'},\n",
      "                 {u'id': u'714023848690502',\n",
      "                  u'name': u'Joel Pious',\n",
      "                  u'type': u'LIKE'},\n",
      "                 {u'id': u'10205292610620759',\n",
      "                  u'name': u'Michelle Huang',\n",
      "                  u'type': u'LIKE'},\n",
      "                 {u'id': u'10205732086559585',\n",
      "                  u'name': u'Victor Xu',\n",
      "                  u'type': u'LIKE'},\n",
      "                 {u'id': u'726620604054068',\n",
      "                  u'name': u'Shreya Mandal',\n",
      "                  u'type': u'LIKE'},\n",
      "                 {u'id': u'10204004208928150',\n",
      "                  u'name': u'Keerthana Kumar',\n",
      "                  u'type': u'LIKE'},\n",
      "                 {u'id': u'10204228337533903',\n",
      "                  u'name': u'Rahul Sirigiri',\n",
      "                  u'type': u'LIKE'},\n",
      "                 {u'id': u'963113360374819',\n",
      "                  u'name': u'Ani Chatterjee',\n",
      "                  u'type': u'LIKE'},\n",
      "                 {u'id': u'10155640211415461',\n",
      "                  u'name': u'Nihal Dhamani',\n",
      "                  u'type': u'LIKE'},\n",
      "                 {u'id': u'4871798010110',\n",
      "                  u'name': u'Saiesh Kalva',\n",
      "                  u'type': u'LIKE'},\n",
      "                 {u'id': u'960633373981642',\n",
      "                  u'name': u'Shashank Vura',\n",
      "                  u'type': u'LIKE'}],\n",
      "  u'type': u'video'})\n"
     ]
    }
   ],
   "source": [
    "post_ids = map(operator.itemgetter('id'), feed)\n",
    "post_info = get_all_objects(graph, ids=post_ids, fields='type,reactions,message_tags')\n",
    "pprint.pprint(list(post_info.items())[42])"
   ]
  },
  {
   "cell_type": "markdown",
   "metadata": {},
   "source": [
    "Given all this information, we can build a model for the number of [reactions](https://developers.facebook.com/docs/graph-api/reference/post/reactions) to a Facebook post based on the metadata of the post. Let's build up a dataframe with features to solve this problem as well as the target values."
   ]
  },
  {
   "cell_type": "code",
   "execution_count": 168,
   "metadata": {
    "collapsed": false
   },
   "outputs": [
    {
     "data": {
      "text/plain": [
       "(array([ 369.,   15.,    5.,    3.,    3.,    3.,    2.,    2.,    0.,    2.]),\n",
       " array([   0. ,   12.6,   25.2,   37.8,   50.4,   63. ,   75.6,   88.2,\n",
       "         100.8,  113.4,  126. ]),\n",
       " <a list of 10 Patch objects>)"
      ]
     },
     "execution_count": 168,
     "metadata": {},
     "output_type": "execute_result"
    },
    {
     "data": {
      "image/png": "[encoded data removed]",
      "text/plain": [
       "<matplotlib.figure.Figure at 0x11c032050>"
      ]
     },
     "metadata": {},
     "output_type": "display_data"
    }
   ],
   "source": [
    "# build up a dataframe of target values (number of reactions)\n",
    "reactions = pandas.DataFrame(map(\n",
    "    lambda x: {'id': x[0], 'num_reactions': len(x[1].get('reactions', []))}, \n",
    "    post_info.items()\n",
    "))\n",
    "\n",
    "# plot it\n",
    "matplotlib.pyplot.xlabel('Number of Reactions')\n",
    "matplotlib.pyplot.ylabel('Count')\n",
    "matplotlib.pyplot.suptitle('Frequency of Number of Reactions')\n",
    "matplotlib.pyplot.hist(reactions['num_reactions'])"
   ]
  },
  {
   "cell_type": "markdown",
   "metadata": {},
   "source": [
    "We note that the distribution is very skew and since the dataset is relatively small, we might not be able to build an excellent model. However, our model only serves as a proof of concept. More data could be gathered using the Graph API to better the model's parameters. We could also make use of the content of the posts itself by building a TFIDF vector."
   ]
  },
  {
   "cell_type": "code",
   "execution_count": 187,
   "metadata": {
    "collapsed": false
   },
   "outputs": [
    {
     "data": {
      "text/html": [
       "<div>\n",
       "<table border=\"1\" class=\"dataframe\">\n",
       "  <thead>\n",
       "    <tr style=\"text-align: right;\">\n",
       "      <th></th>\n",
       "      <th>type_event</th>\n",
       "      <th>type_link</th>\n",
       "      <th>type_photo</th>\n",
       "      <th>type_status</th>\n",
       "      <th>type_video</th>\n",
       "      <th>num_tags</th>\n",
       "      <th>year</th>\n",
       "      <th>month</th>\n",
       "      <th>hour_sin</th>\n",
       "      <th>hour_cos</th>\n",
       "      <th>message_length</th>\n",
       "    </tr>\n",
       "  </thead>\n",
       "  <tbody>\n",
       "    <tr>\n",
       "      <th>0</th>\n",
       "      <td>0.0</td>\n",
       "      <td>1.0</td>\n",
       "      <td>0.0</td>\n",
       "      <td>0.0</td>\n",
       "      <td>0.0</td>\n",
       "      <td>0</td>\n",
       "      <td>2016</td>\n",
       "      <td>10</td>\n",
       "      <td>0.258819</td>\n",
       "      <td>-0.965926</td>\n",
       "      <td>34</td>\n",
       "    </tr>\n",
       "    <tr>\n",
       "      <th>1</th>\n",
       "      <td>0.0</td>\n",
       "      <td>0.0</td>\n",
       "      <td>1.0</td>\n",
       "      <td>0.0</td>\n",
       "      <td>0.0</td>\n",
       "      <td>2</td>\n",
       "      <td>2016</td>\n",
       "      <td>10</td>\n",
       "      <td>-0.258819</td>\n",
       "      <td>0.965926</td>\n",
       "      <td>47</td>\n",
       "    </tr>\n",
       "    <tr>\n",
       "      <th>2</th>\n",
       "      <td>0.0</td>\n",
       "      <td>0.0</td>\n",
       "      <td>1.0</td>\n",
       "      <td>0.0</td>\n",
       "      <td>0.0</td>\n",
       "      <td>0</td>\n",
       "      <td>2016</td>\n",
       "      <td>10</td>\n",
       "      <td>-0.258819</td>\n",
       "      <td>0.965926</td>\n",
       "      <td>0</td>\n",
       "    </tr>\n",
       "    <tr>\n",
       "      <th>3</th>\n",
       "      <td>0.0</td>\n",
       "      <td>0.0</td>\n",
       "      <td>1.0</td>\n",
       "      <td>0.0</td>\n",
       "      <td>0.0</td>\n",
       "      <td>0</td>\n",
       "      <td>2016</td>\n",
       "      <td>10</td>\n",
       "      <td>-0.500000</td>\n",
       "      <td>0.866025</td>\n",
       "      <td>0</td>\n",
       "    </tr>\n",
       "    <tr>\n",
       "      <th>4</th>\n",
       "      <td>1.0</td>\n",
       "      <td>0.0</td>\n",
       "      <td>0.0</td>\n",
       "      <td>0.0</td>\n",
       "      <td>0.0</td>\n",
       "      <td>0</td>\n",
       "      <td>2016</td>\n",
       "      <td>9</td>\n",
       "      <td>0.000000</td>\n",
       "      <td>1.000000</td>\n",
       "      <td>0</td>\n",
       "    </tr>\n",
       "  </tbody>\n",
       "</table>\n",
       "</div>"
      ],
      "text/plain": [
       "   type_event  type_link  type_photo  type_status  type_video  num_tags  year  \\\n",
       "0         0.0        1.0         0.0          0.0         0.0         0  2016   \n",
       "1         0.0        0.0         1.0          0.0         0.0         2  2016   \n",
       "2         0.0        0.0         1.0          0.0         0.0         0  2016   \n",
       "3         0.0        0.0         1.0          0.0         0.0         0  2016   \n",
       "4         1.0        0.0         0.0          0.0         0.0         0  2016   \n",
       "\n",
       "   month  hour_sin  hour_cos  message_length  \n",
       "0     10  0.258819 -0.965926              34  \n",
       "1     10 -0.258819  0.965926              47  \n",
       "2     10 -0.258819  0.965926               0  \n",
       "3     10 -0.500000  0.866025               0  \n",
       "4      9  0.000000  1.000000               0  "
      ]
     },
     "execution_count": 187,
     "metadata": {},
     "output_type": "execute_result"
    }
   ],
   "source": [
    "# add number of reactions to our dataframe\n",
    "feed_features_df = feed_df.merge(reactions, on='id')\n",
    "\n",
    "# add the post types to our dataframe\n",
    "type_df = pandas.DataFrame(map(lambda x: {'id': x[0], 'type': x[1]['type']}, post_info.items()))\n",
    "feed_features_df = feed_features_df.merge(type_df, on='id')\n",
    "type_dummies = pandas.get_dummies(feed_features_df['type'], prefix='type')\n",
    "feed_features_df = pandas.concat([feed_features_df, type_dummies], axis=1)\n",
    "\n",
    "# add the number of tags\n",
    "num_tags = dict(map(lambda x: (x['id'], len(x.get('message_tags', []))), post_info.values()))\n",
    "feed_features_df = feed_features_df.assign(num_tags=feed_df['id'].map(lambda x: num_tags.get(x, 0)))\n",
    "\n",
    "# add some extra time features\n",
    "feed_features_df = feed_features_df.assign(year=feed_df['created_time'].map(lambda x: x.year))\n",
    "feed_features_df = feed_features_df.assign(month=feed_df['created_time'].map(lambda x: x.month))\n",
    "\n",
    "hour_sin_feature = feed_df['created_time'].map(lambda x: math.sin(2 * math.pi * x.hour / 24.0))\n",
    "feed_features_df = feed_features_df.assign(hour_sin=hour_sin_feature)\n",
    "cos_sin_feature = feed_df['created_time'].map(lambda x: math.cos(2 * math.pi * x.hour / 24.0))\n",
    "feed_features_df = feed_features_df.assign(hour_cos=cos_sin_feature)\n",
    "\n",
    "# add a rough message length feature\n",
    "message_lengths = feed_df['message'].map(lambda x: len(x.split()) if type(x) == unicode else 0)\n",
    "feed_features_df = feed_features_df.assign(message_length=message_lengths)\n",
    "\n",
    "# pull out our target (y) values\n",
    "num_reactions_df = feed_features_df['num_reactions']\n",
    "\n",
    "# drop extraneous columns that would not add value as features\n",
    "feed_features_df = feed_features_df.drop(['id', 'message', 'story', 'created_time', 'type', 'num_reactions'], axis=1)\n",
    "\n",
    "feed_features_df.head()"
   ]
  },
  {
   "cell_type": "markdown",
   "metadata": {
    "collapsed": true
   },
   "source": [
    "Now we can attempt to run a linear regression on these features as a proof of concept, choosing a random permutation of them as a holdout set to validate our model on."
   ]
  },
  {
   "cell_type": "code",
   "execution_count": 195,
   "metadata": {
    "collapsed": false
   },
   "outputs": [
    {
     "data": {
      "text/plain": [
       "0.19804856169659768"
      ]
     },
     "execution_count": 195,
     "metadata": {},
     "output_type": "execute_result"
    }
   ],
   "source": [
    "# pick a permutation\n",
    "numpy.random.seed(0)\n",
    "holdout_set_indices = numpy.random.choice(range(len(feed_features_df)), len(feed_features_df) / 4)\n",
    "\n",
    "# extract holdout and training features\n",
    "holdout_feed_features_df = feed_features_df.loc[holdout_set_indices]\n",
    "train_feed_features_df = feed_features_df.drop(holdout_set_indices)\n",
    "\n",
    "# extract holdout and training targets\n",
    "holdout_num_reactions = num_reactions_df.loc[holdout_set_indices]\n",
    "train_num_reactions_df = num_reactions.drop(holdout_set_indices)\n",
    "\n",
    "# run regression and score on the holdout validation set\n",
    "lr = sklearn.linear_model.LinearRegression(normalize=True)\n",
    "lr.fit(train_feed_features_df, train_num_reactions_df)\n",
    "lr.score(holdout_feed_features_df, holdout_num_reactions)"
   ]
  },
  {
   "cell_type": "markdown",
   "metadata": {},
   "source": [
    "While we don't achieve an excellent score (R^2 coefficient of determination) for these features, the relatively small nature of the dataset and our limited set of features makes this unsurprising. We could also build different models for different post types, adding features such as video length for video posts and picture quality for photos to potentially reduce the error.\n",
    "\n",
    "However, this does serve as a proof of concept of how to use Facebook's Graph API to retrieve data, process data and apply data science methods to it. There are many possible applications of the Graph API that we don't explore but offer to read as potential pursuits. Given a sufficiently large dataset, these are all interesting research propositions:\n",
    "\n",
    "* Determining the most prominent reaction to a particular post (`NONE`, `LIKE`, `LOVE`, `WOW`, `HAHA`, `SAD`, `ANGRY`, or `THANKFUL`) given the comments on the post as well as the content of the post (a multiclass classification problem).\n",
    "* Distinguishing clusters of friends and identifying what is the common uniting characteristic among them, e.g. all of the individuals attended a summer camp together or all the individuals worked at a particular place.\n",
    "* Identifying the best time of day/week to make posts under the assumption that the primary goal is to accumulate as many reactions as possible."
   ]
  }
 ],
 "metadata": {
  "anaconda-cloud": {},
  "kernelspec": {
   "display_name": "Python [Root]",
   "language": "python",
   "name": "Python [Root]"
  },
  "language_info": {
   "codemirror_mode": {
    "name": "ipython",
    "version": 2
   },
   "file_extension": ".py",
   "mimetype": "text/x-python",
   "name": "python",
   "nbconvert_exporter": "python",
   "pygments_lexer": "ipython2",
   "version": "2.7.12"
  }
 },
 "nbformat": 4,
 "nbformat_minor": 0
}
