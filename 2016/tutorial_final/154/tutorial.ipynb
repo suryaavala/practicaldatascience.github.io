{
 "cells": [
  {
   "cell_type": "markdown",
   "metadata": {},
   "source": [
    "# Trendy Topic Analysis\n",
    "#### Author: Tianjun MA\n",
    "#### Andrew ID: tianjunm"
   ]
  },
  {
   "cell_type": "markdown",
   "metadata": {},
   "source": [
    "---"
   ]
  },
  {
   "cell_type": "markdown",
   "metadata": {},
   "source": [
    "## Introduction"
   ]
  },
  {
   "cell_type": "markdown",
   "metadata": {},
   "source": [
    "In this tutorial, I will be introducing the methods to gather information about trendy topics online. Trendy, in this case, means the information that many people care about. This information can come from what people post on various social network websites, from the youtubers that millions of people subscribe to, and also from online journals, charts, and various other forms of accessible information. \n",
    "In this tutorial, we will use Twitter as our main platform for analyzing trendy topics. Our methodology is based on the following assumption: \n",
    "\n",
    "- The most popular twitter user has the most followers. \n",
    "    If a user is very popular, which means that many people are his/her followers, that user's post will be considered as a major component of our result because naturally, his/her posts will be viewed by a considerable amount of people and thus should be considered as what most people are interested in currently. \n",
    "\n",
    "Our first step is to be able to categorize and arrange such information to an informative, clean, and organzied format. And then we will perform various operations on the reformatted data to generate our desired results. In this tutorial, we will use twitter as the primary source of information. And: \n",
    "- get access to twitter data\n",
    "- transform the data into managable content\n",
    "- analyze the content\n",
    "- generating output"
   ]
  },
  {
   "cell_type": "markdown",
   "metadata": {},
   "source": [
    "---"
   ]
  },
  {
   "cell_type": "markdown",
   "metadata": {},
   "source": [
    "## Table of Content"
   ]
  },
  {
   "cell_type": "markdown",
   "metadata": {},
   "source": [
    "#### -Source of Information\n",
    "\n",
    "\n",
    "\n",
    "\n"
   ]
  },
  {
   "cell_type": "markdown",
   "metadata": {},
   "source": [
    "  - Twitter"
   ]
  },
  {
   "cell_type": "markdown",
   "metadata": {},
   "source": [
    "#### -Handle Information"
   ]
  },
  {
   "cell_type": "markdown",
   "metadata": {},
   "source": [
    "  - Raw Formats\n",
    "  - Turn into manageable Formats\n",
    "  - Manipulating Manageable Formats"
   ]
  },
  {
   "cell_type": "markdown",
   "metadata": {
    "collapsed": true
   },
   "source": [
    "#### -Basic Tools"
   ]
  },
  {
   "cell_type": "markdown",
   "metadata": {},
   "source": [
    "  - Tweepy\n",
    "    - To access the data of twitter website, and dump the Twitter stream to manageable content such as pandas dataframe.\n",
    "  - Json\n",
    "    - Store what we get from tweepy\n",
    "  - Pandas\n",
    "    - For putting json objects to pandas dataframe that can be manipulated.\n",
    "    - Performs different operations on what is translated from csv file.\n",
    "  - nltk\n",
    "    - Analyze the content of text.\n",
    "    - Filtering unnecessary content.\n",
    "    - Generating conclusion from text.\n",
    "  - myplotlib\n",
    "    - Visualize the result of our analysis"
   ]
  },
  {
   "cell_type": "markdown",
   "metadata": {},
   "source": [
    "#### -Generating Results(Implementation)"
   ]
  },
  {
   "cell_type": "markdown",
   "metadata": {},
   "source": [
    "---"
   ]
  },
  {
   "cell_type": "markdown",
   "metadata": {},
   "source": [
    "### Source of Information"
   ]
  },
  {
   "cell_type": "markdown",
   "metadata": {},
   "source": [
    "- Twitter"
   ]
  },
  {
   "cell_type": "markdown",
   "metadata": {},
   "source": [
    "Twitter is a widely-used online platform for people to view what they're interested in. There are different areas that people can subscribe to, and also many public accounts whose posts attract many other users. As a diverse and accessible platform, twitter is a perfect resource that reflects people's interests."
   ]
  },
  {
   "cell_type": "markdown",
   "metadata": {},
   "source": [
    "---"
   ]
  },
  {
   "cell_type": "markdown",
   "metadata": {},
   "source": [
    "### Handle Information"
   ]
  },
  {
   "cell_type": "markdown",
   "metadata": {},
   "source": [
    "####  Raw formats\n",
    "- website\n",
    "  - impossibe to work with without transformation into a more flexible format\n",
    "  - information is scattered and hard to categorize"
   ]
  },
  {
   "cell_type": "markdown",
   "metadata": {},
   "source": [
    "#### Manageable formats\n",
    "- json file\n",
    "  - put scattered information to packages and dictionaries\n",
    "  - much easier to work with because we can use can extract information with json libarary"
   ]
  },
  {
   "cell_type": "markdown",
   "metadata": {
    "collapsed": false
   },
   "source": [
    "#### Manipulating transformed format\n",
    "- pandas dataframe : We can extract information from a json object and put it into pandas dataframe, a table format that allows many manipulation of relational data on the table.\n",
    "\n",
    "#### Visual representation\n",
    "- matplotlib : 2D plotting library which produces publication quality figures in a variety of hardcopy formats and interactive environments across platforms (From matplitlib online documentation)"
   ]
  },
  {
   "cell_type": "markdown",
   "metadata": {},
   "source": [
    "---"
   ]
  },
  {
   "cell_type": "markdown",
   "metadata": {},
   "source": [
    "### Basic Tools"
   ]
  },
  {
   "cell_type": "markdown",
   "metadata": {},
   "source": [
    "#### Tweepy\n",
    "An easy-to-use Python library for accessing the Twitter API.\n",
    "First, to work with twitter api correctly, we need to include the following packages:"
   ]
  },
  {
   "cell_type": "code",
   "execution_count": 229,
   "metadata": {
    "collapsed": true
   },
   "outputs": [],
   "source": [
    "import tweepy\n",
    "from tweepy.streaming import StreamListener\n",
    "from tweepy import OAuthHandler\n",
    "from tweepy import Stream"
   ]
  },
  {
   "cell_type": "markdown",
   "metadata": {},
   "source": [
    "#### Json\n",
    "json is what we will use as an intermediate data format to store what we get from twitter website."
   ]
  },
  {
   "cell_type": "code",
   "execution_count": 231,
   "metadata": {
    "collapsed": true
   },
   "outputs": [],
   "source": [
    "import json"
   ]
  },
  {
   "cell_type": "markdown",
   "metadata": {},
   "source": [
    "#### Pandas: powerful Python data analysis toolkit"
   ]
  },
  {
   "cell_type": "markdown",
   "metadata": {},
   "source": [
    "Pandas is a data analysis tool. This library is very helpful in manipulating the data in the file translated from actual websites(csv or json file). It covers manipulations of relational data and can be used to work with sqlite tables."
   ]
  },
  {
   "cell_type": "code",
   "execution_count": 232,
   "metadata": {
    "collapsed": false
   },
   "outputs": [],
   "source": [
    "import pandas as pd"
   ]
  },
  {
   "cell_type": "markdown",
   "metadata": {},
   "source": [
    "#### nltk"
   ]
  },
  {
   "cell_type": "markdown",
   "metadata": {},
   "source": [
    "nltk is a natrual language processing tool that can provide us with great help in treating the texts we gathered from website and raw csv files. It can filter all the unnecessary information based on our preference."
   ]
  },
  {
   "cell_type": "code",
   "execution_count": 233,
   "metadata": {
    "collapsed": true
   },
   "outputs": [],
   "source": [
    "import nltk"
   ]
  },
  {
   "cell_type": "markdown",
   "metadata": {},
   "source": [
    "#### matplotlib\n",
    "matplotlib is a python 2D plotting library which produces publication quality figures in a variety of hardcopy formats and interactive environments across platforms. matplotlib can be used in python scripts, the python and ipython shell (ala MATLAB®* or Mathematica®†), web application servers, and six graphical user interface toolkits."
   ]
  },
  {
   "cell_type": "code",
   "execution_count": 234,
   "metadata": {
    "collapsed": false
   },
   "outputs": [],
   "source": [
    "%matplotlib inline\n",
    "import matplotlib\n",
    "matplotlib.use(\"svg\")\n",
    "import matplotlib.pyplot as plt"
   ]
  },
  {
   "cell_type": "markdown",
   "metadata": {},
   "source": [
    "#### miscellaneous\n",
    "We need some general libraries to perform some basic string or arithmetic operations."
   ]
  },
  {
   "cell_type": "code",
   "execution_count": 253,
   "metadata": {
    "collapsed": true
   },
   "outputs": [],
   "source": [
    "import string\n",
    "from nltk.tag import pos_tag\n",
    "from collections import Counter\n",
    "import numpy as np"
   ]
  },
  {
   "cell_type": "markdown",
   "metadata": {},
   "source": [
    "---"
   ]
  },
  {
   "cell_type": "markdown",
   "metadata": {},
   "source": [
    "### Implementation"
   ]
  },
  {
   "cell_type": "markdown",
   "metadata": {},
   "source": [
    "#### Extract information from Twitter website\n",
    "In order to work with the information on Twitter, the very first step we should do is to get all relavent information from the twitter website. The information includes: users, their followers, their friends, and their tweets."
   ]
  },
  {
   "cell_type": "markdown",
   "metadata": {},
   "source": [
    "##### 1. Creating a Twitter app\n",
    "In order to work with Twitter, we have to conform to Twitter's rules for accessing its data. We do this by creating an app using our own twitter account.\n",
    "Creating a new app - https://apps.twitter.com/app/new. Fill in your information to get the authentication key for Api.  "
   ]
  },
  {
   "cell_type": "markdown",
   "metadata": {},
   "source": [
    "##### 2. Store the authentication key into local file\n",
    "We store the authentication keys into a file(put your own file here!) and load it in the following way:"
   ]
  },
  {
   "cell_type": "code",
   "execution_count": 235,
   "metadata": {
    "collapsed": false
   },
   "outputs": [],
   "source": [
    "config_filepath = \"config_secret.json\" # change this to your own local key!\n",
    "\n",
    "with open(config_filepath) as f:\n",
    "    json_data = json.load(f)\n",
    "    consumer_key=json_data[\"consumer_key\"]\n",
    "    consumer_secret=json_data[\"consumer_secret\"]\n",
    "    token=json_data[\"token\"]\n",
    "    token_secret=json_data[\"token_secret\"]"
   ]
  },
  {
   "cell_type": "markdown",
   "metadata": {},
   "source": [
    "Using tweepy to authenticate our access to twitter:"
   ]
  },
  {
   "cell_type": "code",
   "execution_count": 240,
   "metadata": {
    "collapsed": false
   },
   "outputs": [],
   "source": [
    "# uncomment the following to enable a twitter stream to store the data from twitter website to a local file\n",
    "# class Listener(StreamListener):\n",
    "#\n",
    "#     def on_data(self, data):\n",
    "#         with open(\"tweets.txt\", 'a') as tweets:\n",
    "#             tweets.write(data)\n",
    "#         return True\n",
    "#\n",
    "#     def on_error(self, status):\n",
    "#         print status\n",
    "\n",
    "auth = OAuthHandler(consumer_key, consumer_secret)\n",
    "auth.set_access_token(token, token_secret)\n",
    "api = tweepy.API(auth)"
   ]
  },
  {
   "cell_type": "markdown",
   "metadata": {},
   "source": [
    "We gather information from twitter and then put it in a file:"
   ]
  },
  {
   "cell_type": "code",
   "execution_count": 241,
   "metadata": {
    "collapsed": false
   },
   "outputs": [],
   "source": [
    "# uncomment to begin streaming\n",
    "\n",
    "# stream = Stream(auth, Listener)\n",
    "# stream.filter(track = ['python'])"
   ]
  },
  {
   "cell_type": "markdown",
   "metadata": {},
   "source": [
    "##### 3. Get twitter stream as json file"
   ]
  },
  {
   "cell_type": "markdown",
   "metadata": {},
   "source": [
    "Now we have the text file storing all the twitter's stream we gathered using tweepy. This will allow us to:\n",
    "- see the results clearly and \n",
    "- be able to work with dataframe using pandas.\n",
    "\n",
    "In this tutorial, I will be using a txt file that contains twitter data already. This txt file is the result of running stream.filter() for 1 hour."
   ]
  },
  {
   "cell_type": "code",
   "execution_count": 242,
   "metadata": {
    "collapsed": false
   },
   "outputs": [],
   "source": [
    "# change this to your own file address\n",
    "tweets_path = 'tweets.txt'\n",
    "\n",
    "data = []\n",
    "tweet_file = open(tweets_path, \"r\")\n",
    "for line in tweet_file:\n",
    "    try:\n",
    "        info = json.loads(line)\n",
    "        data.append(info['user'])\n",
    "    except:\n",
    "        continue"
   ]
  },
  {
   "cell_type": "markdown",
   "metadata": {
    "collapsed": false
   },
   "source": [
    "##### 4. Perform table operation using pandas dataframe\n",
    "There are multiple things we can do with the pandas dataframe that we filled with twitter information.\n",
    "- Getting all the information about each entry\n",
    "  - followers of the user\n",
    "  - the total number of followers this user has\n",
    "  - the tweet this user posts\n",
    "  - the mostly endorsed tweet from this user"
   ]
  },
  {
   "cell_type": "code",
   "execution_count": 243,
   "metadata": {
    "collapsed": false
   },
   "outputs": [],
   "source": [
    "tweets_info = pd.DataFrame()"
   ]
  },
  {
   "cell_type": "markdown",
   "metadata": {},
   "source": [
    "#### - Get the top 10 user with most followers"
   ]
  },
  {
   "cell_type": "markdown",
   "metadata": {},
   "source": [
    "There are multiple steps for us to get the top n users with most number of followers.\n",
    "First, we will use transfer useful information from the json file to our dataframe."
   ]
  },
  {
   "cell_type": "code",
   "execution_count": 244,
   "metadata": {
    "collapsed": false
   },
   "outputs": [],
   "source": [
    "tweets_info['screen_name'] = map(lambda info: info['screen_name'], data)\n",
    "tweets_info['followers_count'] = map(lambda info: info['followers_count'], data)"
   ]
  },
  {
   "cell_type": "markdown",
   "metadata": {},
   "source": [
    "Then, we will get an unsorted table with username and followers count."
   ]
  },
  {
   "cell_type": "code",
   "execution_count": 245,
   "metadata": {
    "collapsed": false
   },
   "outputs": [
    {
     "data": {
      "text/html": [
       "<div>\n",
       "<table border=\"1\" class=\"dataframe\">\n",
       "  <thead>\n",
       "    <tr style=\"text-align: right;\">\n",
       "      <th></th>\n",
       "      <th>screen_name</th>\n",
       "      <th>followers_count</th>\n",
       "    </tr>\n",
       "  </thead>\n",
       "  <tbody>\n",
       "    <tr>\n",
       "      <th>0</th>\n",
       "      <td>slangenforum</td>\n",
       "      <td>128</td>\n",
       "    </tr>\n",
       "    <tr>\n",
       "      <th>1</th>\n",
       "      <td>GiveMeTheNite</td>\n",
       "      <td>162</td>\n",
       "    </tr>\n",
       "    <tr>\n",
       "      <th>2</th>\n",
       "      <td>pasanteuniojeda</td>\n",
       "      <td>724</td>\n",
       "    </tr>\n",
       "    <tr>\n",
       "      <th>3</th>\n",
       "      <td>Andry_Carol</td>\n",
       "      <td>316</td>\n",
       "    </tr>\n",
       "    <tr>\n",
       "      <th>4</th>\n",
       "      <td>vanausloos</td>\n",
       "      <td>43</td>\n",
       "    </tr>\n",
       "  </tbody>\n",
       "</table>\n",
       "</div>"
      ],
      "text/plain": [
       "       screen_name  followers_count\n",
       "0     slangenforum              128\n",
       "1    GiveMeTheNite              162\n",
       "2  pasanteuniojeda              724\n",
       "3      Andry_Carol              316\n",
       "4       vanausloos               43"
      ]
     },
     "execution_count": 245,
     "metadata": {},
     "output_type": "execute_result"
    }
   ],
   "source": [
    "# Example\n",
    "tweets_info.head()"
   ]
  },
  {
   "cell_type": "markdown",
   "metadata": {},
   "source": [
    "And once we have the dataframe table, it will be very easy to perform sorting operation:"
   ]
  },
  {
   "cell_type": "code",
   "execution_count": 246,
   "metadata": {
    "collapsed": false
   },
   "outputs": [],
   "source": [
    "tweets_info.sort_values(['followers_count'], ascending = False, inplace = True)\n",
    "tweets_info.reset_index(drop = True, inplace = True)"
   ]
  },
  {
   "cell_type": "code",
   "execution_count": 247,
   "metadata": {
    "collapsed": false,
    "scrolled": true
   },
   "outputs": [
    {
     "data": {
      "text/html": [
       "<div>\n",
       "<table border=\"1\" class=\"dataframe\">\n",
       "  <thead>\n",
       "    <tr style=\"text-align: right;\">\n",
       "      <th></th>\n",
       "      <th>screen_name</th>\n",
       "      <th>followers_count</th>\n",
       "    </tr>\n",
       "  </thead>\n",
       "  <tbody>\n",
       "    <tr>\n",
       "      <th>0</th>\n",
       "      <td>globeandmail</td>\n",
       "      <td>1453573</td>\n",
       "    </tr>\n",
       "    <tr>\n",
       "      <th>1</th>\n",
       "      <td>nationalpost</td>\n",
       "      <td>698040</td>\n",
       "    </tr>\n",
       "    <tr>\n",
       "      <th>2</th>\n",
       "      <td>CityNews</td>\n",
       "      <td>412243</td>\n",
       "    </tr>\n",
       "    <tr>\n",
       "      <th>3</th>\n",
       "      <td>habrahabr</td>\n",
       "      <td>319148</td>\n",
       "    </tr>\n",
       "    <tr>\n",
       "      <th>4</th>\n",
       "      <td>TheTorontoSun</td>\n",
       "      <td>269955</td>\n",
       "    </tr>\n",
       "  </tbody>\n",
       "</table>\n",
       "</div>"
      ],
      "text/plain": [
       "     screen_name  followers_count\n",
       "0   globeandmail          1453573\n",
       "1   nationalpost           698040\n",
       "2       CityNews           412243\n",
       "3      habrahabr           319148\n",
       "4  TheTorontoSun           269955"
      ]
     },
     "execution_count": 247,
     "metadata": {},
     "output_type": "execute_result"
    }
   ],
   "source": [
    "# Example\n",
    "tweets_info.head()"
   ]
  },
  {
   "cell_type": "markdown",
   "metadata": {},
   "source": [
    "We select the first 50 users with most followers and gather their tweets with largest retweet count."
   ]
  },
  {
   "cell_type": "code",
   "execution_count": 76,
   "metadata": {
    "collapsed": false
   },
   "outputs": [],
   "source": [
    "top_users = tweets_info.head(50)"
   ]
  },
  {
   "cell_type": "markdown",
   "metadata": {},
   "source": [
    "#### - Get the tweets from those users"
   ]
  },
  {
   "cell_type": "markdown",
   "metadata": {},
   "source": [
    "According to our methodology, our next goal is to get the most popular tweets from the users with most followers. Therefore, we will extract the tweets with over 20 retweet counts from the most popular accounts."
   ]
  },
  {
   "cell_type": "markdown",
   "metadata": {},
   "source": [
    "First, we introduce some of our helper functions when we deal with the tweets:"
   ]
  },
  {
   "cell_type": "code",
   "execution_count": 250,
   "metadata": {
    "collapsed": false
   },
   "outputs": [],
   "source": [
    "# since what we parse from the stream are unicodes, we have to transform them into strings\n",
    "def get_str(u_t):\n",
    "    u_t = u_t.encode('ascii','ignore')\n",
    "    return u_t\n",
    "\n",
    "# our get_max function helps us extract the relatively popular tweet text from a given stream,\n",
    "# based on the retweet count\n",
    "def get_many(user_tweets):\n",
    "    retweeted = []\n",
    "    for tweet in user_tweets:\n",
    "        if tweet['retweet_count'] > 10:\n",
    "            retweeted.append(get_str(tweet['text']))\n",
    "    return retweeted"
   ]
  },
  {
   "cell_type": "markdown",
   "metadata": {},
   "source": [
    "The following is our main function to extract tweets from the most popular users."
   ]
  },
  {
   "cell_type": "code",
   "execution_count": 251,
   "metadata": {
    "collapsed": true
   },
   "outputs": [],
   "source": [
    "# this variable stores the processed texts from what we consider as popular texts.\n",
    "popular_texts = []"
   ]
  },
  {
   "cell_type": "code",
   "execution_count": 249,
   "metadata": {
    "collapsed": false
   },
   "outputs": [],
   "source": [
    "for i, row in top_users.iterrows():\n",
    "    user = row['screen_name']\n",
    "    tweets = api.user_timeline(screen_name = user, count = 50)\n",
    "    \n",
    "    # credit to http://stackoverflow.com/questions/27900451/convert-tweepy-status-object-into-json\n",
    "    all_tweets = []\n",
    "    \n",
    "    for tweet in tweets:\n",
    "        json_tweet = (tweet._json)\n",
    "        all_tweets.append(json_tweet)\n",
    "    popular_texts+=get_many(all_tweets)"
   ]
  },
  {
   "cell_type": "markdown",
   "metadata": {},
   "source": [
    "##### 5. Extract useful keywords from the tweets\n",
    "We achieve this by utilizing nltk to remove useless noises"
   ]
  },
  {
   "cell_type": "code",
   "execution_count": 254,
   "metadata": {
    "collapsed": true
   },
   "outputs": [],
   "source": [
    "def remove_noise(text, lemmatizer=nltk.stem.wordnet.WordNetLemmatizer()):\n",
    "    \"\"\" Normalizes case and handles punctuation\n",
    "    Inputs:\n",
    "        text: str: raw text\n",
    "        lemmatizer: an instance of a class implementing the lemmatize() method\n",
    "                    (the default argument is of type nltk.stem.wordnet.WordNetLemmatizer)\n",
    "    Outputs:\n",
    "        list(str): tokenized text\n",
    "    \"\"\"\n",
    "    exclude = string.punctuation\n",
    "    processed = []\n",
    "    \n",
    "    \n",
    "    text = text.lower()\n",
    "    \n",
    "    # handle puctuations\n",
    "    text = text.replace(\"'s\", \"\")\n",
    "    text = text.replace(\"'\", \"\")\n",
    "    \n",
    "    for c in exclude:\n",
    "        text = text.replace(c, \" \")\n",
    "    \n",
    "    for word in nltk.word_tokenize(text):\n",
    "        try:\n",
    "            lemmatized = str(lemmatizer.lemmatize(word))\n",
    "            processed.append(lemmatized)\n",
    "        except:\n",
    "            continue\n",
    "    \n",
    "    return processed\n",
    "\n",
    "\n",
    "# apply remove_noise function and store the result to all_words, which is a list \n",
    "# that consists of meaningful words from text we extracted.\n",
    "\n",
    "all_words = []\n",
    "\n",
    "for text in (popular_texts):\n",
    "    all_words += (remove_noise(text))\n",
    "    \n",
    "# we also want to remove words that don't have any meanings\n",
    "stripped = []\n",
    "for word in all_words:\n",
    "    if not (str.isdigit(word) or len(word) <= 2 or word in ['http']):\n",
    "        stripped.append(word)"
   ]
  },
  {
   "cell_type": "markdown",
   "metadata": {},
   "source": [
    "##### 6. Count the most frequently appeared words"
   ]
  },
  {
   "cell_type": "code",
   "execution_count": 258,
   "metadata": {
    "collapsed": false
   },
   "outputs": [],
   "source": [
    "# get_nouns returns the nouns in a given list of words\n",
    "def get_nouns(tags):\n",
    "    nouns = []\n",
    "    for (word, tag) in tags:\n",
    "        if tag == 'NN':\n",
    "            nouns.append(word)\n",
    "    return nouns\n",
    "\n",
    "# the pos_tag from nltk library will help us label to category of words in the given list\n",
    "tagged = pos_tag(stripped)\n",
    "nouns = get_nouns(tagged)\n",
    "counter = Counter(nouns)"
   ]
  },
  {
   "cell_type": "markdown",
   "metadata": {},
   "source": [
    "##### 7. Re-format the data as ordered dataframe consisting of popular words and count\n",
    "After using nltk, we should utilize pandas dataframe again to present our result in a more readble form."
   ]
  },
  {
   "cell_type": "code",
   "execution_count": 257,
   "metadata": {
    "collapsed": false
   },
   "outputs": [
    {
     "data": {
      "text/html": [
       "<div>\n",
       "<table border=\"1\" class=\"dataframe\">\n",
       "  <thead>\n",
       "    <tr style=\"text-align: right;\">\n",
       "      <th></th>\n",
       "      <th>Keyword</th>\n",
       "      <th>Count</th>\n",
       "    </tr>\n",
       "  </thead>\n",
       "  <tbody>\n",
       "    <tr>\n",
       "      <th>0</th>\n",
       "      <td>christianity</td>\n",
       "      <td>88</td>\n",
       "    </tr>\n",
       "    <tr>\n",
       "      <th>1</th>\n",
       "      <td>sofiaorden</td>\n",
       "      <td>57</td>\n",
       "    </tr>\n",
       "    <tr>\n",
       "      <th>2</th>\n",
       "      <td>university</td>\n",
       "      <td>56</td>\n",
       "    </tr>\n",
       "    <tr>\n",
       "      <th>3</th>\n",
       "      <td>amp</td>\n",
       "      <td>56</td>\n",
       "    </tr>\n",
       "    <tr>\n",
       "      <th>4</th>\n",
       "      <td>study</td>\n",
       "      <td>46</td>\n",
       "    </tr>\n",
       "  </tbody>\n",
       "</table>\n",
       "</div>"
      ],
      "text/plain": [
       "        Keyword  Count\n",
       "0  christianity     88\n",
       "1    sofiaorden     57\n",
       "2    university     56\n",
       "3           amp     56\n",
       "4         study     46"
      ]
     },
     "execution_count": 257,
     "metadata": {},
     "output_type": "execute_result"
    }
   ],
   "source": [
    "stats = pd.DataFrame.from_dict(counter, orient='index').reset_index()\n",
    "stats.sort_values([0],ascending = False, inplace = True)\n",
    "stats = stats.rename(columns = {'index':'Keyword', 0:'Count'})\n",
    "stats = stats.head(30)\n",
    "stats = stats.reset_index(drop = True)\n",
    "\n",
    "# Example\n",
    "stats.head()"
   ]
  },
  {
   "cell_type": "markdown",
   "metadata": {},
   "source": [
    "##### 8. Visualize the data\n",
    "Using matplotlib, represent the result csv visually. Now you see the most popular keywords that users care about!"
   ]
  },
  {
   "cell_type": "code",
   "execution_count": 259,
   "metadata": {
    "collapsed": false
   },
   "outputs": [
    {
     "data": {
      "image/png": "[encoded data removed]",
      "text/plain": [
       "<matplotlib.figure.Figure at 0x11bd86750>"
      ]
     },
     "metadata": {},
     "output_type": "display_data"
    }
   ],
   "source": [
    "top = 10\n",
    "data = stats[\"Count\"][:top]\n",
    "keywords = stats[\"Keyword\"][:top]\n",
    "\n",
    "# plotting advice from http://stackoverflow.com/questions/15938532/matplotlib-histogram-and-bin-labels\n",
    "ax = plt.subplot()\n",
    "width=0.3\n",
    "bins = map(lambda x: x-width/2,range(1,len(data)+1))\n",
    "ax.bar(bins, data,width=width)\n",
    "ax.set_xticks(map(lambda x: x, range(1,len(data)+1)))\n",
    "ax.set_xticklabels(keywords,rotation=45,rotation_mode=\"anchor\", ha=\"right\")\n",
    "plt.show()"
   ]
  },
  {
   "cell_type": "markdown",
   "metadata": {},
   "source": [
    "After this tutorial, we now have a better idea of how to work with data from websites, representing them in a more organized way, and visualize our conclusion. We can use similar methodology to analyze other forms of data and be able to discover interesting patterns online."
   ]
  },
  {
   "cell_type": "markdown",
   "metadata": {},
   "source": [
    "---"
   ]
  }
 ],
 "metadata": {
  "kernelspec": {
   "display_name": "Python 2",
   "language": "python",
   "name": "python2"
  },
  "language_info": {
   "codemirror_mode": {
    "name": "ipython",
    "version": 2
   },
   "file_extension": ".py",
   "mimetype": "text/x-python",
   "name": "python",
   "nbconvert_exporter": "python",
   "pygments_lexer": "ipython2",
   "version": "2.7.11"
  }
 },
 "nbformat": 4,
 "nbformat_minor": 0
}
