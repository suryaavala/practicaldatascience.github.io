{
 "cells": [
  {
   "cell_type": "markdown",
   "metadata": {},
   "source": [
    "# Markov Chain Win Prediction"
   ]
  },
  {
   "cell_type": "markdown",
   "metadata": {},
   "source": [
    "## By Will Walters"
   ]
  },
  {
   "cell_type": "markdown",
   "metadata": {},
   "source": [
    "   This tutorial will provide a brief introduction to a method for predicting the outcome of events which rely on a large number of factors by constructing a simple model of them with many simplifying instructions, and then running this model many times to see if a general outcome is trended towards.\n",
    "   \n",
    "   An example of this which was given in class is the methodology which the website 538 uses to forecast the presidential election. While their model used to simulate a single iteration of the election is not what I would personally call simple - it uses polls to predict each candidate's polling baseline in that state, and then past results to correlate error in this polling between states - it is still a much simplified model of the actual election and makes use of several simplifying instructions. \n",
    "   \n",
    "   The power of their model, and other models using its same conceit, comes from the fact that they run this partially random simulation several thousands of times, which points at some underlying nonobvious truth about the data - in this case, which candidate is more likely to win the election."
   ]
  },
  {
   "cell_type": "markdown",
   "metadata": {},
   "source": [
    "![Image](https://33x5bs39d3jhnwvvr3uyk6zm-wpengine.netdna-ssl.com/wp-content/uploads/pix/2016/08/Nate-Silver-Election-Forecast-873x898.png)"
   ]
  },
  {
   "cell_type": "markdown",
   "metadata": {},
   "source": [
    "In this tutorial, we will be applying this same idea towards predicting the outcome of a basketball game. (Note that this tutorial does presuppose some knowledge of the fundamentals of basketball.) In specific, we will be giving a probability for each team to win a game given: the identities and statistics about each time, the current score, and the time left in the game. (Adding in specifics about the game will allow us to compute the changing win percentage over the course of a given game, as we'll see later.)\n",
    "\n",
    "## Getting Statistics\n",
    "\n",
    "First, we'll need to find statistics from each team. These I found from http://www.basketball-reference.com/, which puts tables of statistics up for download in the csv format. These stats are from the 2015-2016 regular season."
   ]
  },
  {
   "cell_type": "code",
   "execution_count": 1,
   "metadata": {
    "collapsed": true
   },
   "outputs": [],
   "source": [
    "import pandas as pd"
   ]
  },
  {
   "cell_type": "code",
   "execution_count": 2,
   "metadata": {
    "collapsed": false
   },
   "outputs": [
    {
     "name": "stdout",
     "output_type": "stream",
     "text": [
      "   Rk                Team   G     MP    FG   FGA    FG%   3P   3PA    3P%  \\\n",
      "0   1      Atlanta Hawks*  82  19830  3168  6923  0.458  815  2326  0.350   \n",
      "1   2     Boston Celtics*  82  19780  3216  7318  0.439  717  2142  0.335   \n",
      "2   3       Brooklyn Nets  82  19755  3136  6920  0.453  531  1508  0.352   \n",
      "3   4  Charlotte Hornets*  82  19855  3036  6922  0.439  873  2410  0.362   \n",
      "4   5       Chicago Bulls  82  19905  3165  7170  0.441  651  1753  0.371   \n",
      "\n",
      "   ...    ORB   DRB   TRB   AST  STL  BLK   TOV    PF   PTS   PS/G  \n",
      "0  ...    679  2772  3451  2100  747  486  1226  1570  8433  102.8  \n",
      "1  ...    950  2733  3683  1981  752  348  1127  1796  8669  105.7  \n",
      "2  ...    863  2614  3477  1829  627  332  1212  1476  8089   98.6  \n",
      "3  ...    734  2869  3603  1778  595  438  1030  1487  8479  103.4  \n",
      "4  ...    907  2889  3796  1870  495  470  1141  1545  8335  101.6  \n",
      "\n",
      "[5 rows x 26 columns]\n",
      "   Rk                Team   G     MP    FG   FGA    FG%   3P   3PA    3P%  \\\n",
      "0   1      Atlanta Hawks*  82  19830  3046  7058  0.432  679  2008  0.338   \n",
      "1   2     Boston Celtics*  82  19780  3075  6973  0.441  643  1912  0.336   \n",
      "2   3       Brooklyn Nets  82  19755  3345  6984  0.479  775  2100  0.369   \n",
      "3   4  Charlotte Hornets*  82  19855  3098  6971  0.444  726  2081  0.349   \n",
      "4   5       Chicago Bulls  82  19905  3234  7333  0.441  651  1885  0.345   \n",
      "\n",
      "   ...    ORB   DRB   TRB   AST  STL  BLK   TOV    PF   PTS   PA/G  \n",
      "0  ...    944  2869  3813  1808  706  411  1324  1500  8137   99.2  \n",
      "1  ...    932  2838  3770  1715  622  450  1348  1718  8406  102.5  \n",
      "2  ...    840  2719  3559  2006  720  430  1162  1510  8692  106.0  \n",
      "3  ...    726  2936  3662  1901  553  448  1103  1670  8256  100.7  \n",
      "4  ...    969  2798  3767  1848  655  465   974  1535  8456  103.1  \n",
      "\n",
      "[5 rows x 26 columns]\n"
     ]
    }
   ],
   "source": [
    "selfStats = pd.read_csv(\"team_stats.csv\")\n",
    "otherStats = pd.read_csv(\"opponent_stats.csv\")\n",
    "\n",
    "print selfStats.head()\n",
    "print otherStats.head()"
   ]
  },
  {
   "cell_type": "markdown",
   "metadata": {
    "collapsed": true
   },
   "source": [
    "Some explanation for these tables: the first, selfStats, is stats pertaining to the team's performance. The second, otherStats, is stats pertaining to the performance of other teams which the team in question was playing against. The table is ordered alphabetically by team name.\n",
    "\n",
    "We will only be using a few of the above stats to build our model. The goal of these stats is to help with assigning probabilities to our markov chain-like model of a basketball game. From selfStats, we will use 3P% (three point percentage), 2P% (two point percentage), ORB (offensive rebounds), DRB (defensive rebounds), 2PA (two point attempts), and 3PA (three point attempts). From otherStats, we will use 3P% (three point percentage [of the opponent]) and 2P% (two point percentage [of the opponent]). We will also keep track of the name.\n",
    "\n",
    "The function below will take in an int corresponding to the lexicographical rank of the team's name (0-indexed), and return a 6-member list of the relevant information as given above."
   ]
  },
  {
   "cell_type": "code",
   "execution_count": 3,
   "metadata": {
    "collapsed": false
   },
   "outputs": [
    {
     "name": "stdout",
     "output_type": "stream",
     "text": [
      "['Atlanta Hawks', 0.34999999999999998, 0.51200000000000001, 679, 2772, 2326, 4597, 0.33799999999999997, 0.46899999999999997]\n"
     ]
    }
   ],
   "source": [
    "def getStats(i):\n",
    "    \n",
    "    info = []\n",
    "    \n",
    "    name = selfStats.iloc[i]['Team']\n",
    "    if name[-1] == '*':\n",
    "        name = name[:-1]\n",
    "    info.append(name)\n",
    "    \n",
    "    info.append(selfStats.iloc[i]['3P%'])\n",
    "    info.append(selfStats.iloc[i]['2P%'])\n",
    "    info.append(selfStats.iloc[i]['ORB'])\n",
    "    info.append(selfStats.iloc[i]['DRB'])\n",
    "    info.append(selfStats.iloc[i]['3PA'])\n",
    "    info.append(selfStats.iloc[i]['2PA'])\n",
    "    info.append(otherStats.iloc[i]['3P%'])\n",
    "    info.append(otherStats.iloc[i]['2P%'])\n",
    "    \n",
    "    return info\n",
    "\n",
    "print getStats(0)"
   ]
  },
  {
   "cell_type": "markdown",
   "metadata": {},
   "source": [
    "Now, we will write a function which will combine these two team stats into a class that we'll call a 'matchup'. A matchup will consist of the probabilities for various events we will use to simulate a posession of basketball. These are:\n",
    "- Three Point Attempt\n",
    "- Two Point Attempt\n",
    "- Three Point Made\n",
    "- Two Point Made\n",
    "- Offensive Rebound\n",
    "- Defensive Rebound\n",
    "\n",
    "These stats will have different values for each team, so that a matchup consists of, in total, 12 different stats. Here's how we calculate these:\n",
    "\n",
    "### Three and Two Point Attempts\n",
    "\n",
    "We know from the stats the total number of times a team attempted a three point shot (3PA) and a two point shot (2PA). If we assume that a given game will follow this ratio, it stands to reason that we can calculate the probabilities of each type of shot being attempted as:\n",
    "\n",
    "$$\\text{Three Point Attempt }= \\frac{3PA}{3PA + 2PA}\\\\$$\n",
    "$$\\text{Two Point Attempt }= \\frac{2PA}{3PA + 2PA}$$\n",
    "\n",
    "### Three and Two Point Attempt Made\n",
    "\n",
    "We are given a value for a team's success in making a given two or three point shot from the csv, as 3P% and 2P%. However, this does not take into account the defense of the opposing team. To estimate a team's shooting percentage against a certain opponent, we will use a technique known as \"regressing towards the mean\". This means that we will take the default value of a team's shooting percentage and move it by a fixed ratio towards the defense's average allowed percentage (the 3P% or 2P% from otherStats). Using $3P\\%_{off}$ for the offensive rate and $3P\\%_{def}$ for the defensive rate, we get the updated percentages as:\n",
    "\n",
    "$$\\text{Three Point Percentage }= 3P\\%_{off} - \\alpha\\cdot(3P\\%_{off} - 3P\\%_{def})\\\\$$\n",
    "$$\\text{Two Point Percentage }= 2P\\%_{off} - \\alpha\\cdot(2P\\%_{off} - 2P\\%_{def})$$\n",
    "\n",
    "where $\\alpha$ is a constant less than one.\n",
    "\n",
    "Note that this is a very oversimplified way of calculating the change in a team's shooting percentage. This is deliberate, as a goal of this tutorial is to demonstrate the utility of a highly simple model. If this model was to be improved, we could plot for each game played versus a given team their opponent's overall average against their opponent's shooting percentage in that game. With this, we could form a regression to get a more accurate idea of the effect a defense can have on shooting percentage."
   ]
  },
  {
   "cell_type": "markdown",
   "metadata": {
    "collapsed": true
   },
   "source": [
    "### Rebounds\n",
    "\n",
    "To estimate each team's chance of getting rebounds, we will simply compare one team's gross number of offensive rebounds (ORB) to the other team's gross number of defensive rebounds (DRB), like so (with $ORB_1$ and $DRB_1$ being the first team's gross numbers, and $ORB_2$ and $DRB_2$ belonging to the second team):\n",
    "\n",
    "$$\\text{Offensive Rebound Chance for Team 1 }= \\frac{ORB_1}{ORB_1 + DRB_2}\\\\$$\n",
    "$$\\text{Defensive Rebound Chance for Team 1 }= \\frac{DRB_1}{DRB_1 + ORB_2}$$\n",
    "\n",
    "With similar formulas for Team 2."
   ]
  },
  {
   "cell_type": "markdown",
   "metadata": {},
   "source": [
    "Now that those formulas are established, we will build the class to contain all of these. Note that I'm making a class mostly for readability, as we could just as easily back all of these values into a list as I did with the raw statistics earlier.\n",
    "\n",
    "Note as well that I do not explicitly store either team's two point attempt percentage or defensive rebound percentage, as these have counterparts (three point attempt and  the other team's offensive rebound) which are their complement (e.g. three point attempt + two point attempt = 1) and so are easily recovered."
   ]
  },
  {
   "cell_type": "code",
   "execution_count": 17,
   "metadata": {
    "collapsed": true
   },
   "outputs": [],
   "source": [
    "class Matchup:\n",
    "    def __init__(self, team1, team2, a=.35):\n",
    "        self.name1 = team1[0]\n",
    "        self.name2 = team2[0]\n",
    "        \n",
    "        self.threePA1 = float(team1[5]) / (team1[5] + team1[6])\n",
    "        self.threePA2 = float(team2[5]) / (team2[5] + team2[6])\n",
    "        \n",
    "        self.threePP1 = team1[1] - (a * (team1[1] - team2[7]))\n",
    "        self.threePP2 = team2[1] - (a * (team2[1] - team1[7]))\n",
    "        \n",
    "        self.twoPP1 = team1[2] - (a * (team1[2] - team2[8]))\n",
    "        self.twoPP2 = team2[2] - (a * (team2[2] - team1[8]))\n",
    "        \n",
    "        self.orb1 = float(team1[3]) / (team1[3] + team2[4])\n",
    "        self.orb2 = float(team2[3]) / (team2[3] + team1[4])\n",
    "        \n",
    "    def name(self, i):\n",
    "        if i == 1:\n",
    "            return self.name1\n",
    "        else:\n",
    "            return self.name2\n",
    "        \n",
    "    def threePointAttempt(self, i):\n",
    "        if i == 1:\n",
    "            return self.threePA1\n",
    "        else:\n",
    "            return self.threePA2\n",
    "        \n",
    "    def threePointPercent(self, i):\n",
    "        if i == 1:\n",
    "            return self.threePP1\n",
    "        else:\n",
    "            return self.threePP2\n",
    "        \n",
    "    def twoPointPercent(self, i):\n",
    "        if i == 1:\n",
    "            return self.twoPP1\n",
    "        else:\n",
    "            return self.twoPP2\n",
    "        \n",
    "    def offRebound(self, i):\n",
    "        if i == 1:\n",
    "            return self.orb1\n",
    "        else:\n",
    "            return self.orb2"
   ]
  },
  {
   "cell_type": "code",
   "execution_count": 28,
   "metadata": {
    "collapsed": false
   },
   "outputs": [
    {
     "name": "stdout",
     "output_type": "stream",
     "text": [
      "Golden State Warriors Cleveland Cavaliers\n",
      "0.39185 0.3515\n"
     ]
    }
   ],
   "source": [
    "# make a matchup between the Golden State Warriors and the Cleveland Caveliers\n",
    "# with a = .35\n",
    "gstateAndCavs = Matchup(getStats(9), getStats(5))\n",
    "print gstateAndCavs.name(1), gstateAndCavs.name(2)\n",
    "print gstateAndCavs.threePointPercent(1), gstateAndCavs.threePointPercent(2)"
   ]
  },
  {
   "cell_type": "markdown",
   "metadata": {},
   "source": [
    "## Simulating a Game\n",
    "\n",
    "We're now ready to simulate a full game. A game is made up of a series of plays, and each play is essentially a Markov chain. A picture of the chain we will be using is given below, along with the transition percentages."
   ]
  },
  {
   "cell_type": "markdown",
   "metadata": {},
   "source": [
    "![Image](chain.png)"
   ]
  },
  {
   "cell_type": "markdown",
   "metadata": {},
   "source": [
    "Note that a 3 point or 2 point attempt being made results in a gain of 3 or 2 points respectively for the team which makes it. The second major component of this simulation is the time: we will simulate only 2880 seconds (48 minutes) of play, the same length of an NBA game. Each step of the Markov chain has a time associated with it. The times used here are arbitrary in magnitude but not in relation to each other: for example, a three point attempt will take less time than a two point attempt to set up, but it will take longer to rebound a three point attempt.\n",
    "\n",
    "Each time will also have a normal random variable added to it, to create variation in the time cost.\n",
    "\n",
    "When all 2880 seconds have been exhausted, the score will be checked. The winner is the team with the larger score. If the score is tied, 300 seconds (five minutes) of additional time will be played, in the same way that real games can go to overtime."
   ]
  },
  {
   "cell_type": "code",
   "execution_count": 38,
   "metadata": {
    "collapsed": false
   },
   "outputs": [],
   "source": [
    "import numpy.random as nran\n",
    "from collections import Counter\n",
    "\n",
    "def play(match, time=2880, score1=0, score2=0):\n",
    "\n",
    "    pos = nran.choice([1,2])\n",
    "    \n",
    "    while (time > 0):\n",
    "        \n",
    "        time -= (5 + nran.normal())\n",
    "        \n",
    "        # taking a three point shot\n",
    "        if (nran.uniform() <= match.threePointAttempt(pos)):\n",
    "            \n",
    "            time -= (3 + 3 * nran.normal())\n",
    "            \n",
    "            # we made it\n",
    "            if (nran.uniform() <= match.threePointPercent(pos)):\n",
    "                \n",
    "                # posession changes and score\n",
    "                if pos == 1:\n",
    "                    score1 += 3\n",
    "                    pos = 2\n",
    "                    \n",
    "                else:\n",
    "                    score2 += 3\n",
    "                    pos = 1\n",
    "                    \n",
    "            # we miss\n",
    "            else:\n",
    "                \n",
    "                time -= (4 + 2 * nran.normal())\n",
    "                \n",
    "                # we get the rebound\n",
    "                if (nran.uniform() <= match.offRebound(pos)):\n",
    "                    \n",
    "                    # we still have posession\n",
    "                    pass\n",
    "                \n",
    "                # other team gets rebound\n",
    "                else:\n",
    "                    \n",
    "                    # posession changes\n",
    "                    if pos == 1:\n",
    "                        pos = 2\n",
    "                    \n",
    "                    else:\n",
    "                        pos = 1\n",
    "                        \n",
    "        # taking a two point shot\n",
    "        else:\n",
    "            \n",
    "            time -= (5 + 2 * nran.normal())\n",
    "            \n",
    "            # we made it\n",
    "            if (nran.uniform() <= match.twoPointPercent(pos)):\n",
    "                \n",
    "                # posession changes and score\n",
    "                if pos == 1:\n",
    "                    score1 += 2\n",
    "                    pos = 2\n",
    "                    \n",
    "                else:\n",
    "                    score2 += 2\n",
    "                    pos = 1\n",
    "                    \n",
    "            # we miss\n",
    "            else:\n",
    "                \n",
    "                time -= (2 + 2 * nran.normal())\n",
    "                \n",
    "                # we get the rebound\n",
    "                if (nran.uniform() <= match.offRebound(pos)):\n",
    "                    \n",
    "                    # we still have posession\n",
    "                    pass\n",
    "                \n",
    "                # other team gets rebound\n",
    "                else:\n",
    "                    \n",
    "                    # posession changes\n",
    "                    if pos == 1:\n",
    "                        pos = 2\n",
    "                    \n",
    "                    else:\n",
    "                        pos = 1\n",
    "                        \n",
    "        # check if we need to play more\n",
    "        if (time <= 0) and (score1 == score2): \n",
    "            time += 300\n",
    "            \n",
    "    # the game is over\n",
    "    if (score1 > score2):\n",
    "        return 1\n",
    "    \n",
    "    else:\n",
    "        return 2\n",
    "    \n",
    "def winPerc(match, iters=1000, time=2880, score1=0, score2=0):\n",
    "    \n",
    "    results = [play(match, time, score1, score2) for i in range(0, iters)]\n",
    "    tally = Counter(results)\n",
    "    \n",
    "    return [tally[1] / float(iters), tally[2] / float(iters)]"
   ]
  },
  {
   "cell_type": "code",
   "execution_count": 39,
   "metadata": {
    "collapsed": false
   },
   "outputs": [
    {
     "data": {
      "text/plain": [
       "[0.658, 0.342]"
      ]
     },
     "execution_count": 39,
     "metadata": {},
     "output_type": "execute_result"
    }
   ],
   "source": [
    "winPerc(gstateAndCavs)"
   ]
  },
  {
   "cell_type": "markdown",
   "metadata": {},
   "source": [
    "From this, we can see that the model predicts the Warriors to have about a two-thirds chance to win over the Cavaliers."
   ]
  },
  {
   "cell_type": "markdown",
   "metadata": {},
   "source": [
    "## Percent Over Time\n",
    "\n",
    "From the way the model is set up, we can alter the initial parameters and see what effect they have on the game. For instance, we can simulate the game with 5 minutes left and one team leading 88 to 82. In effect, this means we can simulate a single game from multiple points, in effect giving a continuously updated win percentage.\n",
    "\n",
    "The data below is taken from Game 1 of the 2016 NBA finals, which was between the Golden State Warriors and the Cleveland Cavaliers. It contains the time remaining and both scores at two-minute intervals."
   ]
  },
  {
   "cell_type": "code",
   "execution_count": 45,
   "metadata": {
    "collapsed": true
   },
   "outputs": [],
   "source": [
    "gameData = [\n",
    "            [2880,0,0],[2760,5,5],[2640,11,9],[2520,16,13],[2400,21,17],[2280,24,19],[2160,28,24],\n",
    "            [2040,32,26],[1920,39,28],[1800,43,30],[1680,47,36],[1560,49,41],[1440,52,43],\n",
    "            [1320,54,45],[1200,56,52],[1080,61,57],[960,63,62],[840,67,68],[720,74,68],\n",
    "            [600,82,70],[480,88,74],[360,94,76],[240,96,82],[120,104,87],[0,104,89]\n",
    "            ]\n",
    "percents = map(lambda x: winPerc(gstateAndCavs, 10000, time=x[0], score1=x[1], score2=x[2]), gameData)"
   ]
  },
  {
   "cell_type": "code",
   "execution_count": 46,
   "metadata": {
    "collapsed": false
   },
   "outputs": [
    {
     "data": {
      "text/plain": [
       "[[0.6655, 0.3345],\n",
       " [0.6605, 0.3395],\n",
       " [0.6972, 0.3028],\n",
       " [0.7121, 0.2879],\n",
       " [0.7346, 0.2654],\n",
       " [0.7533, 0.2467],\n",
       " [0.7272, 0.2728],\n",
       " [0.7764, 0.2236],\n",
       " [0.8618, 0.1382],\n",
       " [0.8907, 0.1093],\n",
       " [0.8686, 0.1314],\n",
       " [0.8127, 0.1873],\n",
       " [0.8331, 0.1669],\n",
       " [0.8441, 0.1559],\n",
       " [0.727, 0.273],\n",
       " [0.7343, 0.2657],\n",
       " [0.6356, 0.3644],\n",
       " [0.5574, 0.4426],\n",
       " [0.8074, 0.1926],\n",
       " [0.9458, 0.0542],\n",
       " [0.9815, 0.0185],\n",
       " [0.9989, 0.0011],\n",
       " [0.9968, 0.0032],\n",
       " [1.0, 0.0],\n",
       " [1.0, 0.0]]"
      ]
     },
     "execution_count": 46,
     "metadata": {},
     "output_type": "execute_result"
    }
   ],
   "source": [
    "percents"
   ]
  },
  {
   "cell_type": "markdown",
   "metadata": {},
   "source": [
    "Let's plot these and see how the Golden State Warriors' chance of winning changed over time. (Note that the code below does not run in-screen, and will open a popup window.)"
   ]
  },
  {
   "cell_type": "code",
   "execution_count": 49,
   "metadata": {
    "collapsed": true
   },
   "outputs": [],
   "source": [
    "import matplotlib.pyplot as plt\n",
    "\n",
    "gsPercs = [i[0] for i in percents]\n",
    "cavPercs = [i[1] for i in percents]\n",
    "times = [2880 - i[0] for i in gameData]\n",
    "\n",
    "plt.plot(times, gsPercs, 'r-')\n",
    "plt.plot(times, cavPercs, 'b-')\n",
    "plt.axis([0, 2880, 0, 1])\n",
    "plt.ylabel('Win Percentage')\n",
    "plt.xlabel('Time Elapsed')\n",
    "plt.title('GState versus Cavs')\n",
    "plt.show()"
   ]
  },
  {
   "cell_type": "markdown",
   "metadata": {},
   "source": [
    "![title](plot.png)"
   ]
  },
  {
   "cell_type": "markdown",
   "metadata": {},
   "source": [
    "The chart above shows the Warriors in red and the Cavaliers in blue. Comparing the probabilities to the box score shows that they respond exactly as you'd expect to changes in the score: the lines draw close when the Cavaliers gain a 1 point lead near the end of the third quarter, and fly apart when the Warriors score 7 unanswered points to end the quarter.\n",
    "\n",
    "This demonstrates the level of predective capability that can be reached with a very simple model of a complicated event. While some decisions and numerical values here included are slightly arbitrary and could be fine-tuned by comparing real-life results to the model's predictions, there is something to say for the fact that even with such caveats included, we were easily able to obtain a model that gives results in line with what we would intuitively expect."
   ]
  }
 ],
 "metadata": {
  "kernelspec": {
   "display_name": "Python [Root]",
   "language": "python",
   "name": "Python [Root]"
  },
  "language_info": {
   "codemirror_mode": {
    "name": "ipython",
    "version": 2
   },
   "file_extension": ".py",
   "mimetype": "text/x-python",
   "name": "python",
   "nbconvert_exporter": "python",
   "pygments_lexer": "ipython2",
   "version": "2.7.12"
  }
 },
 "nbformat": 4,
 "nbformat_minor": 0
}
