{
 "cells": [
  {
   "cell_type": "markdown",
   "metadata": {},
   "source": [
    "# K-Nearest Neighbors Algorithm and Its Application\n",
    "\n",
    "## Introduction\n",
    "\n",
    "As we have learnt, NaiveBayes and decision tree are all eager learning algorithm which constructs a classification model before receiving new data to do queries. In contrast, lazy learning algorithm stores all training data until a query is made. K-nearest neighbors (a.k.a k-NN) algorithm is one of the most famous lazy learning algorithms, as well as among the simplest of all machine learning algorithms.\n",
    "\n",
    "The idea of k-NN algorithm is quite simple. Whenever we have a new point to classify, we find its K nearest neighbors from the training data. Let's say we have two class of data labeled separately as green square and red circle. The new data which is a blue triangle is waiting for classification. Right now we don't know class the triangle belongs to and our goal is to find a proper family for it."
   ]
  },
  {
   "cell_type": "markdown",
   "metadata": {},
   "source": [
    "![](http://i.imgur.com/n1OK9h2.png)"
   ]
  },
  {
   "cell_type": "markdown",
   "metadata": {},
   "source": [
    "Usually, the easiest way for us to decide whether a person is good or bad is through searching his or her friends. Here, we should study all the friends of the blue triangle. However, how we define friendship for data? We know that each data is actually a spot in space and it has a distance to all other data spots. In k-NN algorithm, k decides the friendly distance. Given the classification criteria above, if k = 3 (solid line circle), the blue triangle is assigned to the class of red circles because there are 2 red circles and only 1 green square inside the inner circle; if k = 5 (dashed line circle), the blue triangle is assigned to the class of green square because there are 3 green squares but 2 red circles inside the outer circle. This seems a statistical way to help us find the right class for new data. **We assign a class label only considering the number of friends near by and their classes.**\n",
    "\n",
    "The distance here can be calculated using one of the following measures:\n",
    "- Euclidean Distance\n",
    "- Minkowski Distance\n",
    "- Mahalanobis Distance"
   ]
  },
  {
   "cell_type": "markdown",
   "metadata": {},
   "source": [
    "## Weighted K-NN Algorithm\n",
    "\n",
    "As we discussed in last session, we begin with a naive k-NN algorithm which only take the number of appearance of data in each class into consideration. We may get a wrong classification result in a situation like below:"
   ]
  },
  {
   "cell_type": "markdown",
   "metadata": {},
   "source": [
    "![](http://i.imgur.com/exy2MUY.png)"
   ]
  },
  {
   "cell_type": "markdown",
   "metadata": {},
   "source": [
    "Within a proper distance, there are more green squares than red circles. However, the blue triangle is closely surrounded by red circles and all green squares locate farther from it. The blue triangle is most likely to be one of the class of red circles even though there are more green squares show up in the friendly circle.\n",
    "\n",
    "> One way to overcome this problem is to weight the classification, taking into account the distance from the test point to each of its k nearest neighbors.\n",
    "\n",
    "There are several approaches to apply weight to the class of each of the k nearest points. Here I introduce one approach called **attribute/feature weighted k-NN**.\n",
    "\n",
    "There are two assumptions:\n",
    "- All the attribute values are numerical or real\n",
    "- Class attribute values are discrete integer values\n",
    "\n",
    "Detailed steps:\n",
    "\n",
    "- Read the training data\n",
    "- Set K to some value\n",
    "- Calculate Euclidean distances to all training data points\n",
    "- Find the K nearest neighbors based on the distances\n",
    "- Assign weight to each feature\n",
    "- Return the class that represents the maximum of the k instances\n",
    "- Calculate the accuracy"
   ]
  },
  {
   "cell_type": "markdown",
   "metadata": {},
   "source": [
    "## Other Improvements\n",
    "\n",
    "### Density based k-NN\n",
    "\n",
    "In Density based K-NN the distance between test and training instances is increased in sparse area and reduced in dense areas because it not only considers the density of test instance but also the densities of its K neighbors.\n",
    "\n",
    "### Variable k-NN\n",
    "\n",
    "It has been observed that the values in K nearest neighbor classification results heavily depends upon the number of neighbors and each data has different K value that is suitable for it. This approach finds the optimum K value for each classification and generate an array which contains the best K value for each training set instances.\n",
    "\n",
    "### Class based k-NN\n",
    "\n",
    "Sometimes the size of each class can also cause problem. When one class have too many instances\n",
    "while others have too few instances, the class with smallest size won't be selected by our algorithm. We should take this factor into consideration as well."
   ]
  },
  {
   "cell_type": "markdown",
   "metadata": {},
   "source": [
    "## Application\n",
    "\n",
    "In this tutorial, we are going to apply k-NN algorithm on sentences from the abstract and introduction of 30 scientific articles. Firstly, we call KNeighborsClassifier from sklearn library, train it with training data set and calculate prediction accuracy on testing data. Then we implement our own K-NN algorithm. We will compare the accuracy of our algorithm with the one of sklearn library. Finally, we implement an improved k-NN algorithm based on naive k-NN.\n",
    "\n",
    "### Data Set\n",
    "\n",
    "[Sentence Classification Data Set from UCI](http://archive.ics.uci.edu/ml/datasets/Sentence+Classification#)\n",
    "\n",
    "### Training Data Format\n",
    "\n",
    "A snippet of training data may like:\n",
    "> MISC    although the internet as level topology has been extensively studied over the past few years  little is known about the details of the as taxonomy\n",
    "\n",
    "> MISC    an as  node  can represent a wide variety of organizations  e g   large isp  or small private business  university  with vastly different network characteristics  externs\n",
    "\n",
    "> AIMX    in this paper  we introduce a radically new approach based on machine learning techniques to map all the ases in the internet into a natural as taxonomy\n",
    "\n",
    "> OWNX    we successfully classify  NUMBER   NUMBER  percent  of ases with expected accuracy of  NUMBER   NUMBER  percent\n",
    "\n",
    "The first attribute is a label of:\n",
    "1. AIM: \"A specific research goal of the current paper\"\n",
    "2. OWNX: \"(Neutral) description of own work presented in current paper\"\n",
    "3. CONT: \"Statements of comparison with or contrast to other work; weaknesses of other work\"\n",
    "4. BASIS: \"Statements of agreement with other work or continuation of other work\"\n",
    "5. MISC: \"(Neutral) description of other researchers' work\"\n",
    "The second part is a sentence in the paper.\n",
    "\n",
    "Our goal here is to use K-NN to guess the category of a given sentense."
   ]
  },
  {
   "cell_type": "markdown",
   "metadata": {},
   "source": [
    "Here are libraries we need:"
   ]
  },
  {
   "cell_type": "code",
   "execution_count": 6,
   "metadata": {
    "collapsed": false
   },
   "outputs": [],
   "source": [
    "import numpy as np\n",
    "import pandas as pd\n",
    "from nltk import word_tokenize\n",
    "from sklearn.neighbors import KNeighborsClassifier\n",
    "from collections import Counter\n",
    "import matplotlib\n",
    "matplotlib.use('svg')\n",
    "%matplotlib inline\n",
    "import matplotlib.pyplot as plt\n",
    "plt.style.use('ggplot')"
   ]
  },
  {
   "cell_type": "markdown",
   "metadata": {},
   "source": [
    "### Feature Scoring\n",
    "We are provided with an extra key words list for each category. We can use those words to score the likelihood of a senctence's category. For example, sentences contain words like \"we\", \"introduce\" and \"design\" are more likely to describe the research goal of the current paper, which should belongs to category AIM. If a sentence contain `N` words in AIM word list, we give it's AIM feature score `N`."
   ]
  },
  {
   "cell_type": "code",
   "execution_count": 7,
   "metadata": {
    "collapsed": false
   },
   "outputs": [],
   "source": [
    "# Read in key words for each category\n",
    "def build_word_set(filename):\n",
    "    with open(filename) as f:\n",
    "        lines = f.readlines()\n",
    "        return {word.strip() for word in lines if word}\n",
    "\n",
    "aim_set = build_word_set(\"./word_lists/aim.txt\")\n",
    "base_set = build_word_set(\"./word_lists/base.txt\")\n",
    "own_set = build_word_set(\"./word_lists/own.txt\")\n",
    "constract_set = build_word_set(\"./word_lists/contrast.txt\")\n",
    "stopwords_set = build_word_set(\"./word_lists/stopwords.txt\")"
   ]
  },
  {
   "cell_type": "markdown",
   "metadata": {},
   "source": [
    "Train data on classifier. Return feature matrix and label vector. If `train` is `false`, the output label vector will be empty."
   ]
  },
  {
   "cell_type": "code",
   "execution_count": 8,
   "metadata": {
    "collapsed": false
   },
   "outputs": [],
   "source": [
    "def load_data(filename, train=True):\n",
    "    \"\"\"\n",
    "    Training data format like:\n",
    "    \n",
    "    'AIMX In this paper we derive the equations for Loop Corrected Belief Propagation on a continuous variable Gaussian model'\n",
    "    \n",
    "    For each single line of raw data, caculate the feature score of it and put it into feature matrix (and label matrix if it's training data) \n",
    "    \"\"\"\n",
    "    feature_m = np.empty((0,4), dtype=int)\n",
    "    label_m = np.empty((0,1))\n",
    "    def caculate_score(line):\n",
    "        aim_score, base_score, own_score, cons_score = 0, 0, 0, 0\n",
    "        word_list = [w for w in word_tokenize(line.lower()) if w not in stopwords_set]\n",
    "        for word in word_list:\n",
    "            if word in aim_set:\n",
    "                aim_score += 1\n",
    "            if word in base_set:\n",
    "                base_score += 1\n",
    "            if word in own_set:\n",
    "                own_score += 1\n",
    "            if word in constract_set:\n",
    "                cons_score += 1\n",
    "        return aim_score, base_score, own_score, cons_score\n",
    "        \n",
    "    with open(filename) as f:\n",
    "        for line in f:\n",
    "            if line.startswith(\"###\"):\n",
    "                continue\n",
    "            else:\n",
    "                if train:\n",
    "                    label, sentence = line.split(' ', 1)\n",
    "                    a, b, o, c = caculate_score(sentence)\n",
    "                    feature_m = np.append(feature_m, np.array([[a, b, o, c]]), axis=0)\n",
    "                    label_m = np.append(label_m, np.array([[label]]), axis=0)\n",
    "                else:\n",
    "                    a, b, o, c = caculate_score(line)\n",
    "                    feature_m = np.append(feature_m, np.array([[a, b, o, c]]), axis=0)\n",
    "\n",
    "    return feature_m, label_m"
   ]
  },
  {
   "cell_type": "markdown",
   "metadata": {},
   "source": [
    "Let's try out one training data and see the accuracy of our classifier!"
   ]
  },
  {
   "cell_type": "code",
   "execution_count": 9,
   "metadata": {
    "collapsed": false
   },
   "outputs": [
    {
     "name": "stdout",
     "output_type": "stream",
     "text": [
      "0.716417910448\n"
     ]
    }
   ],
   "source": [
    "f, l = load_data('./arxiv_annotate10_7_3.txt')    \n",
    "sklearn_knn = KNeighborsClassifier(n_neighbors=3)\n",
    "sklearn_knn.fit(f, l.ravel())\n",
    "\n",
    "correct = 0.0\n",
    "for i in range(len(f)):\n",
    "    if sklearn_knn.predict(f[i].reshape(1,-1)) == l[i]:\n",
    "        correct += 1\n",
    "print correct/len(f)"
   ]
  },
  {
   "cell_type": "markdown",
   "metadata": {},
   "source": [
    "## Performance Analysis\n",
    "\n",
    "In this part, we are going to evaluate the performance of our algorithm in contrast to the sklearn library.\n",
    "\n",
    "There are several perspectives for us to analysis an algorithm, time complexity, space complexity, error rate, etc.\n",
    "Basic kNN algorithm stores all samples, so the space complexity depends on the volume of samples. The total time complexity is `O(nk+nd)` with n examples each of dimension d, including time to compute distance to all samples and find k closest examples. Here, let's take a deep look at how k influence the error rate.\n",
    "\n",
    "### How to Choose k?\n",
    "\n",
    "In theory, if infinite number of samples available, the larger is k, the better is classification. The lower bound of k is 1. In this case, the k-nn model may be too sensitive to “noise”. The upper bound is n, the number of samples. If k is that big, then we will take all samples into consideration. This means that the class of the testing data only depends on the majority of the class of all the samples and it's nothing to do with distance.\n",
    "\n",
    "The program we implemented below is for generating error rates with different k. We choose k from 1 to 50. Then draw a figure to show the relationship between k and accuracy rate."
   ]
  },
  {
   "cell_type": "markdown",
   "metadata": {},
   "source": [
    "## Visualized Result"
   ]
  },
  {
   "cell_type": "markdown",
   "metadata": {},
   "source": [
    "### Load Data\n",
    "\n",
    "Firstly, we load data for use. `data.txt` is a much bigger data set which runs much slower."
   ]
  },
  {
   "cell_type": "code",
   "execution_count": 15,
   "metadata": {
    "collapsed": true
   },
   "outputs": [],
   "source": [
    "f, l = load_data('./data.txt')"
   ]
  },
  {
   "cell_type": "markdown",
   "metadata": {},
   "source": [
    "### Test Sklearn Library\n",
    "\n",
    "On one hand, we test sklearn library with different k."
   ]
  },
  {
   "cell_type": "code",
   "execution_count": 16,
   "metadata": {
    "collapsed": false
   },
   "outputs": [
    {
     "data": {
      "text/plain": [
       "[<matplotlib.lines.Line2D at 0x108123090>]"
      ]
     },
     "execution_count": 16,
     "metadata": {},
     "output_type": "execute_result"
    },
    {
     "data": {
      "image/png": "[encoded data removed]",
      "text/plain": [
       "<matplotlib.figure.Figure at 0x10799ad90>"
      ]
     },
     "metadata": {},
     "output_type": "display_data"
    }
   ],
   "source": [
    "x_points = [x for x in range(1,10)] + [x for x in range(10, 50, 3)]\n",
    "y_points = []\n",
    "\n",
    "for k in x_points:\n",
    "    correct = 0.0\n",
    "    sklearn_knn = KNeighborsClassifier(n_neighbors=k)\n",
    "    sklearn_knn.fit(f, l.ravel())\n",
    "    for i in range(len(f)):\n",
    "        if sklearn_knn.predict(f[i].reshape(1,-1)) == l[i]:\n",
    "            correct += 1\n",
    "    y_points.append(correct/len(f))\n",
    "    \n",
    "plt.plot(x_points, y_points, 'b-',lw=1.5)"
   ]
  },
  {
   "cell_type": "markdown",
   "metadata": {},
   "source": [
    "### Test Our K-NN\n",
    "\n",
    "On the other hand, we implement our own simplest K-NN algorithm first and test its accuracy rate."
   ]
  },
  {
   "cell_type": "code",
   "execution_count": 20,
   "metadata": {
    "collapsed": true
   },
   "outputs": [],
   "source": [
    "class KNN:\n",
    "    def __init__(self, k):\n",
    "        self.k = k\n",
    "\n",
    "    def _euclidean_distance(self, data1, data2):\n",
    "        diff = np.power(data1 - data2, 2)\n",
    "        diff_sum = np.sum(diff, axis=0)\n",
    "        return np.sqrt(diff_sum)\n",
    "\n",
    "    def majority_vote(self, neighbors):\n",
    "        clusters = [neighbour[1][0] for neighbour in neighbors]\n",
    "        counter = Counter(clusters)\n",
    "        return counter.most_common()[0][0]\n",
    "\n",
    "    def predict(self, training_data, test_entry):\n",
    "        def add_distance_attr(training_entry, test_entry):\n",
    "            return (training_entry, self._euclidean_distance(test_entry, training_entry[0]))\n",
    "\n",
    "        distances = [add_distance_attr(training_entry, test_entry) for training_entry in training_data]\n",
    "        distances.sort(key=lambda x: x[1])\n",
    "        sorted_training = [entry[0] for entry in distances]\n",
    "        # Replace last line with next line when call majority_vote2 method for weighted KNN\n",
    "        # sorted_training = [entry for entry in distances]\n",
    "        neighbors = sorted_training[:self.k]\n",
    "\n",
    "        return self.majority_vote(neighbors)"
   ]
  },
  {
   "cell_type": "code",
   "execution_count": 19,
   "metadata": {
    "collapsed": false
   },
   "outputs": [
    {
     "data": {
      "text/plain": [
       "[<matplotlib.lines.Line2D at 0x108267610>]"
      ]
     },
     "execution_count": 19,
     "metadata": {},
     "output_type": "execute_result"
    },
    {
     "data": {
      "image/png": "[encoded data removed]",
      "text/plain": [
       "<matplotlib.figure.Figure at 0x10799a8d0>"
      ]
     },
     "metadata": {},
     "output_type": "display_data"
    }
   ],
   "source": [
    "training = [(f[i], l[i]) for i in range(f.shape[0])]\n",
    "\n",
    "x_points = [x for x in range(1,10)] + [x for x in range(10, 40, 3)]\n",
    "y_points = []\n",
    "\n",
    "for k in x_points:\n",
    "    knn = KNN(k)\n",
    "    correct = 0\n",
    "    for i in training:\n",
    "        if knn.predict(training, i[0]) == i[1][0]:\n",
    "            correct += 1\n",
    "    y_points.append(correct*1.0/len(training))\n",
    "plt.plot(x_points, y_points, 'r-',lw=1.5)"
   ]
  },
  {
   "cell_type": "markdown",
   "metadata": {},
   "source": [
    "### Conclusion\n",
    "\n",
    "From the figures above, we find that both method have a peak accuracy rate of 77 near 6. Congratulations! Our simplest k-NN algorithm works very well on this data set compared with sklearn library. \n",
    "\n",
    "When k is small than 6, there is a wave due to the sensitivity of the noise. At the same time, we can infer that larger k gives smoother boundaries, better for generalization, but could have worse performance when boundaries become too blurry."
   ]
  },
  {
   "cell_type": "markdown",
   "metadata": {},
   "source": [
    "## Improved K-NN\n",
    "\n",
    "As we discussed before, assign a weight to each feature is a way to improve K-NN. In original K-NN, we assign a class label based on the majority of each feature in the range of k neighbors. Now we multiply the value of each feature with a weight. The weight comes from inverse distance and the distance is the mean distance test point and all points of that feature.\n",
    "\n",
    "The following method is one way we implement the idea above. We can insert into our K-NN implementation to see the difference."
   ]
  },
  {
   "cell_type": "code",
   "execution_count": 10,
   "metadata": {
    "collapsed": true
   },
   "outputs": [],
   "source": [
    "def majority_vote2(neighbors):\n",
    "\n",
    "    \"\"\"\n",
    "    neighbors[0] like: ([[1,2,3,4], ['MISC']], dist)\n",
    "    list of (label, weight), weight = # of same label * 1.0 / (avg dist / # of same )\n",
    "    of them\n",
    "    \"\"\"\n",
    "    AIM_label_cnt = 0\n",
    "    AIM_label_total_dist = 0\n",
    "    OWNX_label_cnt = 0\n",
    "    OWNX_label_total_dist = 0\n",
    "    BASIS_label_cnt = 0\n",
    "    BASIS_label_total_dist = 0\n",
    "    MISC_label_cnt = 0\n",
    "    MISC_label_total_dist = 0\n",
    "    CONT_label_cnt = 0\n",
    "    CONT_label_total_dist = 0\n",
    "\n",
    "    for row in neighbors:\n",
    "        label, dist = row[0][1][0], row[1]\n",
    "        if label == \"AIM\":\n",
    "            AIM_label_cnt += 1\n",
    "            AIM_label_total_dist += dist\n",
    "        elif label == \"OWNX\":\n",
    "            OWNX_label_cnt += 1\n",
    "            OWNX_label_total_dist += dist\n",
    "        elif label == \"BASIS\":\n",
    "            BASIS_label_cnt += 1\n",
    "            BASIS_label_total_dist += dist\n",
    "        elif label == \"MISC\":\n",
    "            MISC_label_cnt += 1\n",
    "            MISC_label_total_dist += dist\n",
    "        elif label == \"CONT\":\n",
    "            CONT_label_cnt += 1\n",
    "            CONT_label_total_dist += dist\n",
    "\n",
    "    if AIM_label_total_dist == 0:\n",
    "        AIM_label_total_dist = float('inf')\n",
    "    if OWNX_label_total_dist == 0:\n",
    "        OWNX_label_total_dist = float('inf')\n",
    "    if BASIS_label_total_dist == 0:\n",
    "        BASIS_label_total_dist = float('inf')\n",
    "    if MISC_label_total_dist == 0:\n",
    "        MISC_label_total_dist = float('inf')\n",
    "    if CONT_label_total_dist == 0:\n",
    "        CONT_label_total_dist = float('inf')\n",
    "\n",
    "    label_list = [(\"AIM\", AIM_label_cnt**2*1.0/AIM_label_total_dist),\n",
    "                  (\"OWNX\", OWNX_label_cnt**2*1.0/OWNX_label_total_dist),\n",
    "                  (\"BASIS\", BASIS_label_cnt**2*1.0/BASIS_label_total_dist),\n",
    "                  (\"MISC\", MISC_label_cnt**2*1.0/MISC_label_total_dist),\n",
    "                  (\"CONT\", CONT_label_cnt**2*1.0/CONT_label_total_dist)]\n",
    "    label_list.sort(key = lambda x: x[1], reverse=True)\n",
    "    return label_list[0][0]"
   ]
  },
  {
   "cell_type": "markdown",
   "metadata": {},
   "source": [
    "## Reference\n",
    "\n",
    "- [Wiki for K-NN](https://www.wikiwand.com/en/K-nearest_neighbors_algorithm)\n",
    "- [Weighted K-NN](http://www.csee.umbc.edu/~tinoosh/cmpe650/slides/K_Nearest_Neighbor_Algorithm.pdf)\n",
    "- [Attribute weighting in K-nearest neighbor classification](https://tampub.uta.fi/bitstream/handle/10024/96376/GRADU-1417607625.pdf?sequence=1)\n",
    "- [From Cambridge KNN](https://blog.cambridgecoding.com/2016/01/16/machine-learning-under-the-hood-writing-your-own-k-nearest-neighbour-algorithm/)\n"
   ]
  }
 ],
 "metadata": {
  "kernelspec": {
   "display_name": "Python 2",
   "language": "python",
   "name": "python2"
  },
  "language_info": {
   "codemirror_mode": {
    "name": "ipython",
    "version": 2
   },
   "file_extension": ".py",
   "mimetype": "text/x-python",
   "name": "python",
   "nbconvert_exporter": "python",
   "pygments_lexer": "ipython2",
   "version": "2.7.12"
  }
 },
 "nbformat": 4,
 "nbformat_minor": 0
}
