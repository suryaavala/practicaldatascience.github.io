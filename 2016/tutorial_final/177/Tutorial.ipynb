{
 "cells": [
  {
   "cell_type": "markdown",
   "metadata": {},
   "source": [
    "## Introduction\n",
    "\n",
    "This tutorial will introduce you to some basic methods for processing the publication data. The publication data is coming from the DBLP(https://en.wikipedia.org/wiki/DBLP), which is a computer science bibliography website. DBLP listed more than 3.4 million journal articles, conference papers, and other publications on computer science in July 2016, up from about 14,000 in 1995.\n",
    "\n",
    "We want to use this data to analyze the authors' co-author relationship and the references relationship between the publications. At first, we will try to preprocess the data and load it into a graph database, which is good for storing and analyzing the relationship. Maybe later we could even try to analyze the issues like the popularity field each year and which authors are of most importance in one field."
   ]
  },
  {
   "cell_type": "markdown",
   "metadata": {
    "collapsed": true
   },
   "source": [
    "### Tutorial content\n",
    "\n",
    "In this tutorial, we will show how to do some basic data process and analysis in Python. We will use some libaraies like [xml](https://docs.python.org/2/library/xml.html), [neo4j-driver](https://neo4j.com/developer/python/), [numpy](http://www.numpy.org/), [scipy](https://www.scipy.org/), [scikit-learn](http://scikit-learn.org/stable/) and others.\n",
    "\n",
    "As said in the introduction, we will use the data from the DBLP. These data is in XML format for the convenience of processing. "
   ]
  },
  {
   "cell_type": "markdown",
   "metadata": {},
   "source": [
    "## Installing the libraries\n",
    "\n",
    "Before getting started, you'll need to install the various libraries that we will use. We assume that you have already installed `python` and `pip`.  Then we can install the libraries using `pip`:\n",
    "\n",
    "If you already have a working installation of numpy and scipy, the easiest way to install scikit-learn is using:\n",
    "\n",
    "    $ pip install -U scikit-learn\n",
    "    \n",
    "Besides, another very important libaray we need is the neo4j-python libaray. Here we can use the same way to install it:\n",
    "\n",
    "    $ pip install neo4j-driver\n",
    "\n",
    "If you haven't installed numpy and scipy, then you could go to their website and check how to install these libraries on your own computer. After you run all the installs, make sure the following commands work for you:"
   ]
  },
  {
   "cell_type": "code",
   "execution_count": 1,
   "metadata": {
    "collapsed": true
   },
   "outputs": [],
   "source": [
    "import numpy as np\n",
    "from xml.dom import minidom\n",
    "from neo4j.v1 import GraphDatabase, basic_auth"
   ]
  },
  {
   "cell_type": "markdown",
   "metadata": {},
   "source": [
    "## Loading data and preprocessing\n",
    "\n",
    "Now that we've installed and loaded the libraries, let's load our publication data. We're going to load data provided in the XML format, which has tag and attribute for each element in the file.\n",
    "\n",
    "Because the DBLP data is too big to be used. We downloaded and extract a part of data from it. You can download the data file `prepared_dblp.xml` from this link: https://drive.google.com/open?id=0B4I8jOssDdRDOGlHNzNrMXhvNkk. \n",
    "If you are interested in the dataset, you can also downlaod the `dblp.xml.gz` and `dblp.dtd` from DBLP website: http://dblp.uni-trier.de/xml/. Then unzip the `dblp.xml.gz` to get the `dblp.xml` file. This is the file that contains the data we want to extract and analyze. And the file `dblp.dtd` contains the description of data structure. You can look into it to get how the data is stored in the XML file.\n",
    "\n",
    "\n",
    "### XML Parsing\n",
    "Then, please move the file `prepared_dblp.xml` to the same folder as this notebook, an you can then load the data using the xml libarary.\n",
    "The code is written in the following cell. with the help of `getElementsByTagName`, we can get the all elements which has the same tag name as a list. The detail of the xml libaray is in this [link](https://docs.python.org/2/library/xml.dom.html#module-xml.dom). The main function we would use in this tutorial is `getElementsByTagName` and `getValueFromLine`. \n",
    "\n",
    "For exmaple, in this tutorial, we only care about the element which have 'article' as the tag name, so we use 'article' as the tag name and use it to extract all the article elements. Then we want to implement two functions: one `get_count_of_origin_xml` and `get_article_detail`.\n",
    "`get_count_of_origin_xml`: Used to get the total article count in the origin xml. \n",
    "`get_article_detail`: Input is a article element in the xml, used to return title, year, url, pages, volume, journal and ee infomation of this element. You may need some helper function in this function."
   ]
  },
  {
   "cell_type": "code",
   "execution_count": 12,
   "metadata": {
    "collapsed": false
   },
   "outputs": [],
   "source": [
    "def get_count_of_origin_xml(xmldoc):\n",
    "    articlelist = xmldoc.getElementsByTagName('article')\n",
    "    return len(articlelist)\n",
    "\n",
    "def get_article_detail(element):\n",
    "    title = getValueFromLine(element, \"title\")\n",
    "    year = getValueFromLine(element, \"year\")\n",
    "    url = getValueFromLine(element, \"url\")\n",
    "    pages = getValueFromLine(element, \"pages\")\n",
    "    volume = getValueFromLine(element, \"volume\")\n",
    "    journal = getValueFromLine(element, \"journal\")\n",
    "    ee = getValueFromLine(element, \"ee\")\n",
    "    return title, year, url, pages, volume, journal, ee\n",
    "\n",
    "def getValueFromLine(s, key):\n",
    "    if len(s.getElementsByTagName(key)) == 0:\n",
    "        return \"\"\n",
    "    else:\n",
    "        return s.getElementsByTagName(key)[0].childNodes[0].nodeValue.replace('\"', '').replace('\\\\', '')\n"
   ]
  },
  {
   "cell_type": "code",
   "execution_count": 13,
   "metadata": {
    "collapsed": false
   },
   "outputs": [
    {
     "name": "stdout",
     "output_type": "stream",
     "text": [
      "5015\n",
      "(u'Parallel Integer Sorting and Simulation Amongst CRCW Models.', u'1996', u'db/journals/acta/acta33.html#Saxena96', u'607-619', u'33', u'Acta Inf.', u'http://dx.doi.org/10.1007/BF03036466')\n"
     ]
    }
   ],
   "source": [
    "# AUTOLAB_COMMENT_START\n",
    "xmldoc = minidom.parse('prepared_dblp.xml')\n",
    "\n",
    "count = get_count_of_origin_xml(xmldoc)\n",
    "print count\n",
    "\n",
    "articles = xmldoc.getElementsByTagName('article')\n",
    "detail = get_article_detail(articles[0])\n",
    "print detail\n",
    "# AUTOLAB_COMMENT_STOP"
   ]
  },
  {
   "cell_type": "markdown",
   "metadata": {},
   "source": [
    "### Neo4j connection\n",
    "\n",
    "Then we need to setup the Neo4j database. You could download and install Neo4j from here: https://neo4j.com/download/\n",
    "We recommand to use the community edition. It is powerful enough to handle our data.\n",
    "After you installed the Neo4j, you could run the Neo4j application. Select an empty folder as the storing location of database. Then click the \"start\" button, then after a few seconds, the Neo4j database is connected. By default, you could access the databse by accessing http://localhost:7474/browser/. If you are the first time to connect to this database, then the system will ask you to set the user name and password. After all the things is setup, you could connect to this database with the following command.\n",
    "\n",
    "If you meet error `ProtocolError: Server certificate does not match known certificate for 'localhost'; check details in file '/Users/[your name]/.neo4j/known_hosts'`, please delete the files `known_hosts` under `/Users/[your name]/.neo4j/known_hosts` and run the code again."
   ]
  },
  {
   "cell_type": "code",
   "execution_count": 14,
   "metadata": {
    "collapsed": false
   },
   "outputs": [
    {
     "name": "stdout",
     "output_type": "stream",
     "text": [
      "<neo4j.v1.session.Session object at 0x123637a50>\n"
     ]
    }
   ],
   "source": [
    "def get_neo4j_session(user_name, password):\n",
    "    driver = GraphDatabase.driver(\"bolt://localhost\", auth=basic_auth(user_name, password))\n",
    "    session = driver.session()\n",
    "    return session\n",
    "\n",
    "neo4j_user_name = \"neo4j\"  # Use your user name of Neo4j\n",
    "neo4j_password = \"123\"     # Use your password of Neo4j\n",
    "\n",
    "neo4j_session = get_neo4j_session(neo4j_user_name, neo4j_password)\n",
    "print neo4j_session"
   ]
  },
  {
   "cell_type": "markdown",
   "metadata": {},
   "source": [
    "Here, if you can see the session been printed out. That means that the connection has been built successfully. Then next step in to extract the information from the XML file and insert these data into the Neo4j database. \n",
    "\n",
    "### Neo4j Cypher\n",
    "After parse the data from the xml file and connect to the neo4j database. The next step is to store all the data into the Neo4j database. The tutorial of Neo4j cypher is here: https://neo4j.com/developer/cypher-query-language/. Cypher is very powerful to manage the Neo4j database, but in this tutorial we only use `create` and `match` of cypher language. To learn and practice the cypher, we can first try some examples which use the cypher to manage the data in Neo4j database. \n"
   ]
  },
  {
   "cell_type": "code",
   "execution_count": 45,
   "metadata": {
    "collapsed": false
   },
   "outputs": [],
   "source": [
    "def reset(session):\n",
    "    cypher = 'MATCH (n) DETACH DELETE n'\n",
    "    session.run(cypher)\n",
    "\n",
    "def insert_author(session, author_name):\n",
    "    cypher = 'CREATE (a:Author {name:\\\"' + author_name + '\\\"})'\n",
    "    session.run(cypher)\n",
    "\n",
    "def insert_paper(session, title, year, url, pages, volume, journal, ee):\n",
    "    cypher = 'CREATE (p:Paper {title:\\\"' + title +\\\n",
    "    '\\\", year:\\\"' + year +\\\n",
    "    '\\\", url:\\\"' + url +\\\n",
    "    '\\\", pages:\\\"' + pages +\\\n",
    "    '\\\", volume:\\\"' + volume +\\\n",
    "    '\\\", journal:\\\"' + journal +\\\n",
    "    '\\\", ee:\\\"' + ee +\\\n",
    "    '\\\"})'\n",
    "    session.run(cypher)\n",
    "    \n",
    "def get_author_existed(session, author_name):\n",
    "    cypher = 'MATCH (a:Author) WHERE a.name = \\\"' + author_name + '\\\" RETURN count(a) as count'\n",
    "    result = session.run(cypher)\n",
    "    count = False\n",
    "    for record in result:\n",
    "        count = record[\"count\"] != 0\n",
    "    return count\n",
    "\n",
    "def get_paper_detail(session, paper_title):\n",
    "    cypher = 'MATCH (p:Paper) WHERE p.title = \\\"' + paper_title + '\\\" RETURN p'\n",
    "    result = session.run(cypher)\n",
    "    for record in result:\n",
    "        detail = record\n",
    "    return detail\n"
   ]
  },
  {
   "cell_type": "code",
   "execution_count": 47,
   "metadata": {
    "collapsed": false
   },
   "outputs": [
    {
     "name": "stdout",
     "output_type": "stream",
     "text": [
      "False\n",
      "True\n",
      "<Record p=<Node id=45 labels=set([u'Paper']) properties={u'title': u'title', u'url': u'url', u'journal': u'journal', u'volume': u'volume', u'ee': u'ee', u'year': u'year', u'pages': u'pages'}>>\n"
     ]
    }
   ],
   "source": [
    "# AUTOLAB_COMMENT_START\n",
    "\n",
    "# First clean the data in database\n",
    "reset(neo4j_session)\n",
    "\n",
    "print get_author_existed(neo4j_session, \"Richard Lee\")\n",
    "insert_author(neo4j_session, \"Richard Lee\")\n",
    "print get_author_existed(neo4j_session, \"Richard Lee\")\n",
    "\n",
    "\n",
    "insert_paper(neo4j_session, 'title', 'year', 'url', 'pages', 'volume', 'journal', 'ee')\n",
    "detail = get_paper_detail(neo4j_session, 'title')\n",
    "print detail\n",
    "\n",
    "# AUTOLAB_COMMENT_STOP"
   ]
  },
  {
   "cell_type": "markdown",
   "metadata": {},
   "source": [
    "### Merge all things together!\n",
    "\n",
    "OK! Now we have known how to parse the data from XML file and how to insert the data into Neo4j database. Let's merge them together and load 3000 valid article element from the file `prepared_dblp.xml` and get the useful data from them, storing into the Neo4j database."
   ]
  },
  {
   "cell_type": "code",
   "execution_count": 48,
   "metadata": {
    "collapsed": false
   },
   "outputs": [],
   "source": [
    "def load_3000_into_neo4j(session, article_list, v = True):\n",
    "    session.run('MATCH (n) DETACH DELETE n')\n",
    "    i = 0\n",
    "    for s in article_list:\n",
    "        if i == 3000:\n",
    "            break\n",
    "        try:\n",
    "            title, year, url, pages, volume, journal, ee = get_article_detail(s)\n",
    "\n",
    "            session.run('CREATE (p:Paper {title:\\\"' + title +\n",
    "                        '\\\", year:\\\"' + year +\n",
    "                        '\\\", url:\\\"' + url +\n",
    "                        '\\\", pages:\\\"' + pages +\n",
    "                        '\\\", volume:\\\"' + volume +\n",
    "                        '\\\", journal:\\\"' + journal +\n",
    "                        '\\\", ee:\\\"' + ee +\n",
    "                        '\\\"})')\n",
    "\n",
    "            authors = s.getElementsByTagName('author')\n",
    "            for author in authors:\n",
    "                authorName = author.childNodes[0].nodeValue\n",
    "                result = session.run('MATCH (a:Author) WHERE a.name = \\\"' + authorName + '\\\" RETURN count(a) as count')\n",
    "                for record in result:\n",
    "                    if record[\"count\"] == 0:\n",
    "                        session.run('CREATE (a:Author {name:\\\"' + authorName + '\\\"})')\n",
    "                session.run('Match (p:Paper {title:\\\"' + title +\n",
    "                            '\\\"}), (a:Author {name:\\\"' + authorName +\n",
    "                            '\\\"}) CREATE (a)-[:AUTHORS]->(p)')\n",
    "            i += 1\n",
    "            if v and i % 100 == 0:\n",
    "                print i\n",
    "        except:\n",
    "            pass\n"
   ]
  },
  {
   "cell_type": "code",
   "execution_count": 49,
   "metadata": {
    "collapsed": false
   },
   "outputs": [
    {
     "name": "stdout",
     "output_type": "stream",
     "text": [
      "100\n",
      "200\n",
      "300\n",
      "400\n",
      "500\n",
      "600\n",
      "700\n",
      "800\n",
      "900\n",
      "1000\n",
      "1100\n",
      "1200\n",
      "1300\n",
      "1400\n",
      "1500\n",
      "1600\n",
      "1700\n",
      "1800\n",
      "1900\n",
      "2000\n",
      "2100\n",
      "2200\n",
      "2300\n",
      "2400\n",
      "2500\n",
      "2600\n",
      "2700\n",
      "2800\n",
      "2900\n",
      "3000\n",
      "Papers in neo4j: 3000\n"
     ]
    }
   ],
   "source": [
    "# AUTOLAB_COMMENT_START\n",
    "\n",
    "# First clean the data in database\n",
    "reset(neo4j_session)\n",
    "\n",
    "# Load the article data\n",
    "load_3000_into_neo4j(neo4j_session, articlelist)\n",
    "result = neo4j_session.run('MATCH (a:Paper) RETURN count(a) as count')\n",
    "for record in result:\n",
    "    print \"Papers in neo4j:\", record['count']\n",
    "    \n",
    "# AUTOLAB_COMMENT_STOP"
   ]
  },
  {
   "cell_type": "markdown",
   "metadata": {
    "collapsed": true
   },
   "source": [
    "That's all for preprocessing and loading the data into an graph database. Then we may start some analysis based on the data and data relationship. \n",
    "\n",
    "## Analysis on data\n",
    "Since we have already imported the data into the database, we can do some simple queries to get some information about the data we imported, especially the relationship between these paper and author nodes. And in this tutorial, we are also more interested in the relationship between the nodes. That is also why we pick Neo4j as our database as it is good at storing the data and relationship between them.\n",
    "As we did before, currently there are two kinds of nodes in the database: `Author` and `Paper`, and the relationship between them is named `AUTHORS` which means certain author `AUTHORS` certain Paper. Based on this, we could do some simple analysis like to get which author is the most popular one based on the paper amount they author."
   ]
  },
  {
   "cell_type": "code",
   "execution_count": 71,
   "metadata": {
    "collapsed": false
   },
   "outputs": [],
   "source": [
    "def get_most_k_popular_author(session, k):\n",
    "    cypher = 'MATCH (a:Author)-[:AUTHORS]->(p:Paper) RETURN a.name as name, COUNT(p) as count ORDER BY COUNT(p) DESC LIMIT 10'\n",
    "    result = session.run(cypher)\n",
    "    authors = []\n",
    "    for record in result:\n",
    "        authors.append((record['name'], record['count']))\n",
    "    return authors\n"
   ]
  },
  {
   "cell_type": "code",
   "execution_count": 72,
   "metadata": {
    "collapsed": false
   },
   "outputs": [
    {
     "name": "stdout",
     "output_type": "stream",
     "text": [
      "[(u'Grzegorz Rozenberg', 25), (u'Joost Engelfriet', 16), (u'Melvyn L. Smith', 15), (u'Lyndon N. Smith', 15), (u'Zhenbo Deng', 14), (u'Weiming Shen', 13), (u'Kary Frauml;mling', 13), (u'Walter Vogler', 12), (u'Wim H. Hesselink', 11), (u'Ladjel Bellatreche', 11)]\n"
     ]
    }
   ],
   "source": [
    "# AUTOLAB_COMMENT_START\n",
    "authors = get_most_k_popular_author(neo4j_session, 10)\n",
    "print authors\n",
    "# AUTOLAB_COMMENT_STOP"
   ]
  },
  {
   "cell_type": "markdown",
   "metadata": {},
   "source": [
    "\n",
    "## Summary and Improvement\n",
    "Now we have know how to parse the data from XML and how to import the data into a graph database, with which we can better use the relationship and nodes information to do the analysis. \n",
    "I think in the future, we may use this to do some better and deeper analysis. Like do some dis-ambigous analysis when there are same name, or give the main research focus in given time."
   ]
  }
 ],
 "metadata": {
  "kernelspec": {
   "display_name": "Python 2",
   "language": "python",
   "name": "python2"
  },
  "language_info": {
   "codemirror_mode": {
    "name": "ipython",
    "version": 2
   },
   "file_extension": ".py",
   "mimetype": "text/x-python",
   "name": "python",
   "nbconvert_exporter": "python",
   "pygments_lexer": "ipython2",
   "version": "2.7.10"
  }
 },
 "nbformat": 4,
 "nbformat_minor": 1
}
