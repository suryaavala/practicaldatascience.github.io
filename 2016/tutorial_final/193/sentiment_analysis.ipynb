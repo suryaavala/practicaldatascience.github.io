{
 "cells": [
  {
   "cell_type": "code",
   "execution_count": 1,
   "metadata": {
    "collapsed": false
   },
   "outputs": [],
   "source": [
    "import math\n",
    "import nltk\n",
    "import string\n",
    "import operator\n",
    "from evaluate import evaluate"
   ]
  },
  {
   "cell_type": "markdown",
   "metadata": {},
   "source": [
    "# Who will win 2016 election? \n",
    "##        Using Naive Bayes Model for Sentiment Analysis to Analyze Tweets about 2016 Election\n",
    "Generally speaking, sentiment analysis aims to determine the attitude of a speaker or a writer with respect to some topic or the overall contextual polarity of a document. \n",
    "\n",
    "In this tutorial, we are going to implement a simple Naive Bayes Sentiment Classifier to classify text as being positive or negative. Then we are going to use the classifier we built to do simple analysis on tweets of 2016 election. Hope this will help you gain some insights into the public views of the presidential candidates. (Note this tutorial is just for educational purpose, no political views involved.)\n",
    "\n",
    "The tutorial is divided into several parts. Firstly, you will process sentiment labelled data into bag-of-word representation. Secondly, you will learn to build a Naive Bayes Classifier based on the statistical property of text. We will also cover the evaluation of binary classifier. Finally, we will scrape tweets about 2016 election using Twitter search API, apply the classifier, and calculate sentiment score distribution and top words mentioned."
   ]
  },
  {
   "cell_type": "markdown",
   "metadata": {},
   "source": [
    "## Q0: Enviroment Setup\n",
    "\n",
    "Before the tutorial starts, it is important to make sure you have all the dataset and python modules that needed.\n",
    "\n",
    "Please download the dataset from [here](https://www.dropbox.com/sh/0g3wl2gdmvqmoi4/AABU1i71efGkg5LR_-lQo58sa?dl=0). \n",
    "    \n",
    "It contains of 100M+ data and python modules we need for this tutorial. The downloaded folder also contains the same Jupyter Notebook for this tutorial. You can also run it to see the result. Note this tutorial cannot be executed without this downloaded folder since it contains python modules and datasets. Please make sure you download the file before trying to run it locally.\n"
   ]
  },
  {
   "cell_type": "markdown",
   "metadata": {},
   "source": [
    "## Q1: Data Processing\n",
    "\n",
    "In the first part of this tutorial: we will do data processing on sentiment labelled data. The dataset we use for training and validation comes from multiple datasets across the web: [Sentiment Labelled Sentences Data Set for Yelp, Amazon, imdb](https://archive.ics.uci.edu/ml/datasets/Sentiment+Labelled+Sentences), [University of Michigan Sentiment Analysis competition on Kaggle](https://inclass.kaggle.com/c/si650winter11), [Twitter Sentiment Analysis Training Corpus Dataset](http://thinknook.com/wp-content/uploads/2012/09/Sentiment-Analysis-Dataset.zip) and manully labelled data. The total number of labelled text is 1,580,857. The total number of text used for validation is 5,000.\n",
    "\n",
    "The dataset format is:\n",
    "\n",
    "    text + \\t + score (0 for negative, 1 for positive)\n",
    "We define following function data_process(training_data_file) to tokenize the raw data into bag-of-word representation."
   ]
  },
  {
   "cell_type": "code",
   "execution_count": 2,
   "metadata": {
    "collapsed": true
   },
   "outputs": [],
   "source": [
    "def process_line(line):\n",
    "    ''' process each line: \n",
    "        rules: lower all character, change \"'s\" to \"s\", eliminate all other punctuation characters\n",
    "    Input: line\n",
    "    Output: transformed line\n",
    "    '''\n",
    "    line = line.rstrip().lower().replace(\"'s\", \"\").replace(\"'\", \"\")\n",
    "    for char in string.punctuation:\n",
    "        line = line.replace(char, \" \")    \n",
    "    return line\n",
    "\n",
    "def data_process(training_data_file):\n",
    "    \"\"\" process all labelled data\n",
    "    Inputs\n",
    "        training_data_file: a file contains all labelled data file name\n",
    "    Outputs\n",
    "        vocabulary: dictionary, key is token, value is the frequency it appears in the training data\n",
    "        sentiment_data: dictionay, key is the processed text, value is the label (0 for negative, 1 for positive)\n",
    "        total: total number of valid processed data\n",
    "        positive: total number of positive labelled data\n",
    "        negative: total number of negative labelled data\n",
    "    \"\"\"\n",
    "    \n",
    "    training_data = open(training_data_file)\n",
    "    stopwords = set(nltk.corpus.stopwords.words('english'))\n",
    "    \n",
    "    vocabulary = {}\n",
    "    sentiment_data = {}\n",
    "    total = 0\n",
    "    positive = 0\n",
    "    negative = 0\n",
    "    \n",
    "    # process each training data file\n",
    "    for file in training_data:\n",
    "        labelled_data_file = open(file.rstrip())\n",
    "        labelled_data = ''\n",
    "        for line in labelled_data_file:\n",
    "            line = process_line(line)\n",
    "            labelled_data += (line + \" \")\n",
    "    \n",
    "            if \"\\t\" in labelled_data:\n",
    "                try:\n",
    "                    # get text and its label\n",
    "                    text = labelled_data.split(\"\\t\")[0]\n",
    "                    label = int(labelled_data.split('\\t')[1])\n",
    "                    sentiment_data[text] = label\n",
    "                    \n",
    "                    # update labelled data count\n",
    "                    total += 1\n",
    "                    positive += label\n",
    "                    \n",
    "                    # tokenize and update term frequency\n",
    "                    for token in text.split(\" \"):\n",
    "                        if len(token) == 0 or token in stopwords:\n",
    "                            continue\n",
    "                        if token in vocabulary:\n",
    "                            vocabulary[token] += 1\n",
    "                        else:\n",
    "                            vocabulary[token] = 1\n",
    "                    labelled_data = ''\n",
    "                except ValueError:\n",
    "                    labelled_data = ''\n",
    "                    continue \n",
    "        labelled_data_file.close()\n",
    "    training_data.close()\n",
    "    negative = total - positive\n",
    "    return (vocabulary, sentiment_data, total, positive, negative)"
   ]
  },
  {
   "cell_type": "code",
   "execution_count": 3,
   "metadata": {
    "collapsed": false
   },
   "outputs": [
    {
     "name": "stdout",
     "output_type": "stream",
     "text": [
      "unique tokens: 670483\n",
      "positive data: 795693, negative data:  793061\n"
     ]
    }
   ],
   "source": [
    "vocabulary, sentiment_data, total, positive, negative = data_process(\"data/training_data.txt\")\n",
    "print \"unique tokens: \" + str(len(vocabulary))\n",
    "print \"positive data: \" + str(positive) + \", negative data:  \" + str(negative)"
   ]
  },
  {
   "cell_type": "markdown",
   "metadata": {},
   "source": [
    "After running this call, We can tell that we have 670483 unique tokans and 1580857 labelled data. Next we are going to build a Naive Bayes classifier based on these processed text. \n",
    "\n",
    "    unique tokens: 670483\n",
    "    positive data: 795693, negative data:  793061"
   ]
  },
  {
   "cell_type": "markdown",
   "metadata": {},
   "source": [
    "## Q2: Build a Naive Bayes Sentiment Classifier\n",
    "\n",
    "In the main portion of this tutorial, you will learn to build a Naive Bayes Sentiment Classifier. Naive Bayes Claasifier is known for creating simple yet well performing models, especially for text classification. It uses words in the text as features and assumes conditional independence across words. Therefore, the probabilty of the text under a certail class can be estimated by the words in the text.\n",
    "\n",
    "Here are steps to build a Naive Bayes Classifier:\n",
    "\n",
    "1. Estimate the prior probability $P(c)$ of each class c ∈ C. $P(c)$ can be obtained by dividing the number of data in class c by the total number of labelled data.\n",
    "2. Estimate the probability distribution $P(w|c)$ for all words w and classes c. This can be done by dividing the total term frequency of w in class c by the total number of words in c.  However, estimating probability only according to observed data may lead to many zero probabilities, so recall from class, we introduce Laplace Smoothing when estimating $P(w|c) = \\frac{tf + α}{C + αD}$, where C is the total number of words in class c, D is the total vocabulary count.\n",
    "3. Use Bayes rule to estimate $P(c|d)$, the probablity of class c given a text d, we have:\n",
    "\n",
    "   $P(c|d) = \\frac{P(d|c)P(c)}{P(d)}$.\n",
    "   \n",
    "   Assume the words' positions don't matter and assume words are conditional independent (Naive Bayes rule), we have:\n",
    "    \n",
    "   $P(d|c) = P(w_1,w_2,w_3..w_N|c) = P(w_1|c)P(w_2|c)...P(w_N|c)$.\n",
    "   \n",
    "   \n",
    "\n",
    "Finally, we can simply classify a text d to be its most likely class label, which is c with the highest probability $P(c|d)$,  using Naive Bayes rule, we can have following formula.\n",
    "\n",
    "$\\underset{c\\in C}{\\operatorname{argmax}}P(c|d) = \\underset{c\\in C}{\\operatorname{argmax}}\\frac{P(d|c)P(c)}{P(d)}\n",
    "                   = \\underset{c\\in C}{\\operatorname{argmax}} P(d|c)P(c)\n",
    "                   = \\underset{c\\in C}{\\operatorname{argmax}} P(w_1|c)P(w_2|c)...P(w_N|c)P(c)$.\n"
   ]
  },
  {
   "cell_type": "code",
   "execution_count": 4,
   "metadata": {
    "collapsed": true
   },
   "outputs": [],
   "source": [
    "class sentiment_classifier:\n",
    "    \"\"\" Naive Bayes Sentiment Classifier\n",
    "    Attributes:\n",
    "        vocabulary: dictionary, key is token, value is the frequency it appears in the training data\n",
    "        total: total number of valid processed data\n",
    "        positive: total number of positive labelled data\n",
    "        negative: total number of negative labelled data\n",
    "        vocabulary_pos: dictionary, key is token, value is term frequency it appears in class positive\n",
    "        vocabulary_neg: dictionary, key is token, value is term frequency it appears in class negative\n",
    "        count_pos: total vocabulary in positive class\n",
    "        count_neg: total vocabulary in negative class\n",
    "\n",
    "    Inputs for _init_\n",
    "        vocabulary: dictionary, key is token, value is the frequency it appears in the training data\n",
    "        sentiment_data: dictionay, key is the processed text, value is the label (0 for negative, 1 for positive)\n",
    "        total: total number of valid processed data\n",
    "        positive: total number of positive labelled data\n",
    "        negative: total number of negative labelled data\n",
    "    \"\"\"\n",
    "    def __init__(self, vocabulary, sentiment_data, total, positive, negative):\n",
    "        self.positive = positive\n",
    "        self.negative = negative\n",
    "        self.total = total\n",
    "        self.vocabulary = vocabulary\n",
    "        self.vocabulary_pos = {}\n",
    "        self.vocabulary_neg = {}\n",
    "        self.count_pos = 0\n",
    "        self.count_neg = 0\n",
    "\n",
    "        # get vocabulary and term frequency for each class\n",
    "        for text in sentiment_data.keys():\n",
    "            label = sentiment_data[text]\n",
    "            if label is 1:\n",
    "                for token in text.split(\" \"):\n",
    "                    if len(token) == 0:\n",
    "                        continue\n",
    "                    self.count_pos += 1\n",
    "                    if token in self.vocabulary_pos:\n",
    "                        self.vocabulary_pos[token] += 1\n",
    "                    else:\n",
    "                        self.vocabulary_pos[token] = 1\n",
    "            else:\n",
    "                for token in text.split(\" \"):\n",
    "                    if len(token) == 0:\n",
    "                        continue\n",
    "                    self.count_neg += 1\n",
    "                    if token in self.vocabulary_neg:\n",
    "                        self.vocabulary_neg[token] += 1\n",
    "                    else:\n",
    "                        self.vocabulary_neg[token] = 1\n",
    "\n",
    "        # get probability p(w|c) for each word and class, using Laplace smooth\n",
    "        q = 1\n",
    "        total_vocabulary = len(vocabulary)\n",
    "        for token in vocabulary.keys():\n",
    "            tf_pos = 0.0\n",
    "            if token in self.vocabulary_pos:\n",
    "                tf_pos = self.vocabulary_pos[token]\n",
    "            p_pos = float(tf_pos + q) / (self.count_pos + q * total_vocabulary)\n",
    "            self.vocabulary_pos[token] = p_pos\n",
    "\n",
    "            tf_neg = 0.0\n",
    "            if token in self.vocabulary_neg:\n",
    "                tf_neg = self.vocabulary_neg[token]\n",
    "            p_neg = float(tf_neg + q) / (self.count_neg + q * total_vocabulary)\n",
    "            self.vocabulary_neg[token] = p_neg\n",
    "\n",
    "    def getScore(self, line, dict_pos, dict_neg):\n",
    "        \"\"\" get sentiment score for a text line\n",
    "        Inputs\n",
    "            line: text\n",
    "            dict_pos: dictionary used to store vocabulary occurred in positive class\n",
    "            dict_neg: dictionary used to store vocabulary occurred in negative class\n",
    "        Outputs\n",
    "            score: sentiment score, defined as log(p(w|pos)) - log(p(d|neg))\n",
    "                if score is positive, means it is a positive sentiment score\n",
    "                if score is negative, means it is a negative sentiment score\n",
    "        \"\"\"\n",
    "        line = process_line(line)\n",
    "        p_pos = math.log(float(self.positive) / self.total)\n",
    "        p_neg = math.log(float(self.negative) / self.total)\n",
    "        tokens = line.split(\" \")\n",
    "        \n",
    "        # multiply all probability for words in the text (using log fuction)\n",
    "        for token in tokens:\n",
    "            if token not in self.vocabulary:\n",
    "                continue\n",
    "            p_pos += math.log(self.vocabulary_pos[token])\n",
    "            p_neg += math.log(self.vocabulary_neg[token])\n",
    "\n",
    "        # output positive score for positive text\n",
    "        if p_neg < p_pos:\n",
    "            score = p_pos - p_neg\n",
    "            for token in tokens:\n",
    "                if token in set(nltk.corpus.stopwords.words('english')) or len(token) == 0:\n",
    "                    continue\n",
    "                if token in dict_pos:\n",
    "                    dict_pos[token] += 1\n",
    "                else:\n",
    "                    dict_pos[token] = 1\n",
    "        \n",
    "        # output negative score for negative text\n",
    "        else:\n",
    "            score = p_pos - p_neg\n",
    "            for token in tokens:\n",
    "                if token in set(nltk.corpus.stopwords.words('english')) or len(token) == 0:\n",
    "                    continue\n",
    "                if token in dict_neg:\n",
    "                    dict_neg[token] += 1\n",
    "                else:\n",
    "                    dict_neg[token] = 1\n",
    "        return score\n"
   ]
  },
  {
   "cell_type": "code",
   "execution_count": 5,
   "metadata": {
    "collapsed": false
   },
   "outputs": [],
   "source": [
    "classifier = sentiment_classifier(vocabulary, sentiment_data, total, positive, negative)"
   ]
  },
  {
   "cell_type": "markdown",
   "metadata": {},
   "source": [
    "## Q3: Evaluate Setiment Classifier\n",
    "\n",
    "After building the classifier, it is important to evaluate the performance of our sentiment classifier. To evaluate a binary classfier, we can compute true_positive(TP), false_positive(FP), true_negative(TN) and false negative(FN). These can be arranged into a 2×2 contingency table to clear show the performance of the classifier.\n",
    "\n",
    "We have assigned 5,000 labelled text as our validation data and define following function evaluate to calculate true_positive, false_positive, true_negative, false_negative. Due to the code limit, I have included the evaluate function in the evaluate.py attached to this tutorial."
   ]
  },
  {
   "cell_type": "code",
   "execution_count": 6,
   "metadata": {
    "collapsed": true
   },
   "outputs": [],
   "source": [
    "'''\n",
    "Evalute functoin specs:\n",
    "    Args:\n",
    "        classifier: trained naive bayes classifier\n",
    "    Returns:\n",
    "            (true_positive, false_positive, true_negative, false_negative) metrics used for evaluation\n",
    "'''\n",
    "true_positive, false_positive, true_negative, false_negative = evaluate(classifier)"
   ]
  },
  {
   "cell_type": "code",
   "execution_count": 7,
   "metadata": {
    "collapsed": false
   },
   "outputs": [
    {
     "name": "stdout",
     "output_type": "stream",
     "text": [
      "1134.0 310.0 2827.0 729.0\n",
      "accuracy: 0.7922\n"
     ]
    }
   ],
   "source": [
    "print true_positive, false_positive, true_negative, false_negative \n",
    "print \"accuracy: \" + str((true_negative + true_positive) / float(true_negative+true_positive+false_positive+false_negative))"
   ]
  },
  {
   "cell_type": "markdown",
   "metadata": {},
   "source": [
    "Accuracy Evaluation for classifier is shown in the following table:\n",
    "\n",
    "| | **positive**             |  **negative** |\n",
    "|----------|-------------|\n",
    "| **true_label**      | 1134 |2827|\n",
    "|**false_label**|310|729|"
   ]
  },
  {
   "cell_type": "markdown",
   "metadata": {},
   "source": [
    "In addition, precision and recall are the two most widely used metrics when evaluating text classifier. Here I will introduce the concept of precision and recall.\n",
    "\n",
    "    Precision: the number of true positives divided by the total number of elements labeled as belonging to the positive class. P = TP / (TP + FP)\n",
    "\n",
    "    Recall: the number of true positives divided by the total number of elements that actually belong to the positive class. R = TP / (TP + FN)\n",
    "    \n",
    "Precision and Recall for classifier:\n",
    "\n",
    "| ** Precision **             |  **  Recall  ** |\n",
    "|----------|-------------|\n",
    "|0.7853|0.6087|"
   ]
  },
  {
   "cell_type": "markdown",
   "metadata": {
    "collapsed": true
   },
   "source": [
    "We find that the precision is higher which means most items labeled as positive do indeed belong to positive. However, recall is low which means that we will not be able to correctly label all the positive data. This might hurt the overall performance of the classifier as we will see a large proportion of false_negative. In fact, there is an inverse relationship between precision and recall, where it is possible to increase one at the cost of reducing the other. So when designing a classfier, one must take the trade-off between precision and recall into consideration."
   ]
  },
  {
   "cell_type": "markdown",
   "metadata": {},
   "source": [
    "## Q4: Scrape Tweets using Twitter Search API\n",
    "\n"
   ]
  },
  {
   "cell_type": "markdown",
   "metadata": {},
   "source": [
    "Next, we are going to scrape some tweets about both Donald Trump and Hillary Clinton on Twitter for sentiment analysis. We will use search API in Twython library to search for tweets associated with a given hashtag. Please make sure you have installed Twython in your computer when trying to run the code. If you have not installed it, simply type following command on your terminal:\n",
    "\n",
    "    pip install Twython\n",
    "\n",
    "To make sure the code can run successfully, I have included the installation in the following cell. If needed, please comment out the cell and execuate the installation."
   ]
  },
  {
   "cell_type": "code",
   "execution_count": 8,
   "metadata": {
    "collapsed": false
   },
   "outputs": [
    {
     "name": "stderr",
     "output_type": "stream",
     "text": [
      "The directory '/Users/yuqil/Library/Caches/pip/http' or its parent directory is not owned by the current user and the cache has been disabled. Please check the permissions and owner of that directory. If executing pip with sudo, you may want sudo's -H flag.\n",
      "The directory '/Users/yuqil/Library/Caches/pip' or its parent directory is not owned by the current user and caching wheels has been disabled. check the permissions and owner of that directory. If executing pip with sudo, you may want sudo's -H flag.\n"
     ]
    },
    {
     "name": "stdout",
     "output_type": "stream",
     "text": [
      "Requirement already satisfied (use --upgrade to upgrade): twython in /usr/local/lib/python2.7/site-packages\n",
      "Requirement already satisfied (use --upgrade to upgrade): requests>=2.1.0 in /usr/local/lib/python2.7/site-packages (from twython)\n",
      "Requirement already satisfied (use --upgrade to upgrade): requests_oauthlib>=0.4.0 in /usr/local/lib/python2.7/site-packages (from twython)\n",
      "Requirement already satisfied (use --upgrade to upgrade): oauthlib>=0.6.2 in /usr/local/lib/python2.7/site-packages (from requests_oauthlib>=0.4.0->twython)\n"
     ]
    }
   ],
   "source": [
    "'''\n",
    "This code is used to install Twython on your computer. You can also manually install using 'pip install Twython' \n",
    "If this went wrong, you can comment out this code.\n",
    "'''\n",
    "import pip\n",
    "def install(package):\n",
    "   pip.main(['install', package])\n",
    "\n",
    "install('twython') "
   ]
  },
  {
   "cell_type": "markdown",
   "metadata": {},
   "source": [
    "Note that Twitter has a rate limit of 180 calls per second. So I have to call this function multiple times on different date to get enough data, which takes a long time to run. After calling this function, I also manually remove the duplicate tweets from the file. The unique tweets are stored at trump_unique_tweets.txt and hillary_unique_tweets.txt seperately for evaluation.\n",
    "\n",
    "The following function getTwitter shows you how to scrape tweets about a specific hashtag. However, it is only for demonstration. The total scrape program takes 1h + to run due to rate limit."
   ]
  },
  {
   "cell_type": "code",
   "execution_count": 9,
   "metadata": {
    "collapsed": false
   },
   "outputs": [],
   "source": [
    "from twython import Twython\n",
    "import time\n",
    "def getTwitter(twitter, hashtag, another_candidate, file):\n",
    "    ''' Search for hashtag on Twitter, write tweets into file\n",
    "    Input:\n",
    "        twitter: Twitter API object\n",
    "        hashtag: tag that need to be searched\n",
    "        file: write tweets to a file\n",
    "        another_candidate: we want to download tag with only one candidate, if another candidate appears in the tweet, we discard the tweet\n",
    "    Output:\n",
    "        total: total count of tweets wrote to the file\n",
    "    '''\n",
    "    tweets = set()\n",
    "    MAX_ATTEMPTS = 10\n",
    "    f = open(file, 'w')\n",
    "    total = 0\n",
    "    for i in range(0,MAX_ATTEMPTS):\n",
    "        if(0 == i):\n",
    "            results = twitter.search(q=hashtag,count='100',lang='en')\n",
    "        else:\n",
    "            results = twitter.search(q=hashtag,include_entities='true',max_id=next_max_id)\n",
    "\n",
    "        for result in results['statuses']:\n",
    "            tweet = process_line(result['text'])\n",
    "            # we will drop tweets that contain both Hillary and Trump\n",
    "            if tweet not in tweets and another_candidate not in tweet:\n",
    "                tweets.add(tweet)\n",
    "                f.write(tweet.encode(\"utf-8\"))\n",
    "                total += 1\n",
    "        try:\n",
    "            next_results_url_params = results['search_metadata']['next_results']\n",
    "            next_max_id = next_results_url_params.split('max_id=')[1].split('&')[0]\n",
    "        except:\n",
    "            break\n",
    "        time.sleep(0.5)\n",
    "    f.close()\n",
    "    return total"
   ]
  },
  {
   "cell_type": "code",
   "execution_count": 10,
   "metadata": {
    "collapsed": false
   },
   "outputs": [
    {
     "name": "stdout",
     "output_type": "stream",
     "text": [
      "number for hillary tweets: 56\n",
      "number for trump tweets: 49\n"
     ]
    }
   ],
   "source": [
    "# this secret key is only for testing purpose, please do not distribute \n",
    "TWITTER_APP_KEY = 'Iivojv9n2hkVb2VsVShuxy2mp' \n",
    "TWITTER_APP_KEY_SECRET = 'trztK4S1e7nCRmLbGTLVdLiwo39J4vH8KaDu3NzmCliXKTC2KJ'\n",
    "TWITTER_ACCESS_TOKEN = '783094143757221888-Z1IDng8gpD0LZyzR1aCjD5xRSGz68un'\n",
    "TWITTER_ACCESS_TOKEN_SECRET = 'Wyfky6VJqUI6WcH2l5NI3dtk9KuZeOVL3u1YJL5P9LVS2'\n",
    "twitter = Twython(app_key=TWITTER_APP_KEY, app_secret=TWITTER_APP_KEY_SECRET, oauth_token=TWITTER_ACCESS_TOKEN,\n",
    "                  oauth_token_secret=TWITTER_ACCESS_TOKEN_SECRET)\n",
    "\n",
    "print \"number for hillary tweets: \" + str(getTwitter(twitter, \"#donaldtrump\", \"hilary\", \"trump_tweets.txt\"))\n",
    "print \"number for trump tweets: \" + str(getTwitter(twitter, \"#hillaryclinton\", \"trump\", \"hillary_tweets.txt\"))"
   ]
  },
  {
   "cell_type": "markdown",
   "metadata": {},
   "source": [
    "## Q5: Sentiment Analysis on Election Tweets\n"
   ]
  },
  {
   "cell_type": "markdown",
   "metadata": {
    "collapsed": true
   },
   "source": [
    "Finally, here comes the most fun part. We will apply the Naive Bayes Sentiment Classifier to the real tweets and see how public reviews towards two presidential candidates. While trying to get the sentiment score for the tweets, I also record what are the top words appear in positive and negative tweets. In total, I gathered 256 unique Tweets for Donald Trump and 379 unique Tweets for Hillary Clinton. "
   ]
  },
  {
   "cell_type": "code",
   "execution_count": 11,
   "metadata": {
    "collapsed": true
   },
   "outputs": [],
   "source": [
    "import matplotlib\n",
    "import matplotlib.pyplot as plt\n",
    "\n",
    "def evaluateElection(classifier, filename):\n",
    "    \"\"\" process all election data and output sentiment score\n",
    "    Inputs\n",
    "        classifier: sentiment classifier\n",
    "        filenamae: file containing tweets\n",
    "    Outputs\n",
    "        none. Will print distribution of score for the topic\n",
    "    \"\"\"\n",
    "    f = open(filename)\n",
    "    dic_neg = {}\n",
    "    dic_pos = {}\n",
    "    result = []\n",
    "    for line in f:\n",
    "        score = classifier.getScore(line, dic_neg, dic_pos)\n",
    "        result.append(score)\n",
    "    f.close()\n",
    "    sort_top_negative_word = sorted(dic_neg.items(), key=operator.itemgetter(1), reverse=True)[0 : 20]\n",
    "    n, bins, patches = plt.hist(result, 50, normed=1, facecolor='green', alpha=0.75)\n",
    "    plt.title(\"score distribution for \" + filename)\n",
    "    plt.show()\n",
    "    print \"Top negative words mentioned in \" + filename + \":\"\n",
    "    print sort_top_negative_word"
   ]
  },
  {
   "cell_type": "code",
   "execution_count": 12,
   "metadata": {
    "collapsed": false
   },
   "outputs": [
    {
     "data": {
      "image/png": "[encoded data removed]",
      "text/plain": [
       "<matplotlib.figure.Figure at 0x134741190>"
      ]
     },
     "metadata": {},
     "output_type": "display_data"
    },
    {
     "name": "stdout",
     "output_type": "stream",
     "text": [
      "Top negative words mentioned in data/hillary_unique_tweets.txt:\n",
      "[('hillary', 135), ('https', 125), ('co', 119), ('rt', 116), ('hillaryclinton', 73), ('clinton', 25), ('imwithher', 19), ('wikileaks', 19), ('emails', 19), ('podesta', 18), ('amp', 16), ('via', 15), ('part', 13), ('release', 13), ('vote', 12), ('podestaemails', 12), ('new', 11), ('obama', 10), ('8', 9), ('c0nvey', 8)]\n"
     ]
    },
    {
     "data": {
      "image/png": "[encoded data removed]",
      "text/plain": [
       "<matplotlib.figure.Figure at 0x11ec6d7d0>"
      ]
     },
     "metadata": {},
     "output_type": "display_data"
    },
    {
     "name": "stdout",
     "output_type": "stream",
     "text": [
      "Top negative words mentioned in data/trump_unique_tweets.txt:\n",
      "[('donaldtrump', 106), ('https', 82), ('co', 75), ('rt', 57), ('trump', 31), ('sexual', 13), ('groping', 12), ('women', 11), ('president', 9), ('amjoyshow', 9), ('genitalia', 7), ('gop', 7), ('monster', 7), ('assault', 7), ('bring', 7), ('amp', 7), ('misogynistic', 7), ('pussy', 7), ('today', 6), ('republican', 6)]\n"
     ]
    }
   ],
   "source": [
    "evaluateElection(classifier, 'data/hillary_unique_tweets.txt')\n",
    "evaluateElection(classifier, 'data/trump_unique_tweets.txt')"
   ]
  },
  {
   "cell_type": "markdown",
   "metadata": {},
   "source": [
    "Next, we plot the sentiment scores for tweets. The histogram plot shows the distribution of the score of all tweets. We can see that the distribution is similar to normal distribution where most people are neural to the candidates while there exist some strong supporters and strong opponents. \n",
    "\n",
    "The top words in the negative tweets show people's complain for each president candidate. For Donald Trump, the top words (except for some token in http..) include \"sexual\". For Hilary Clinton, the top words (except for some tokens in http..) include \"wikileaks\". This shows that sentiment analysis is also an effective way to mine the hot words about a topic.\n",
    "\n",
    "However, the result is not always reliable. By manully inspecting the result, I found the classifier wrongly labelled many negative examples as positive. The reason might be due to the training data has little to do with politics. Most of the training data comes from product reviews and tweets about daily life. Only manually labelled data is about politics. "
   ]
  },
  {
   "cell_type": "markdown",
   "metadata": {
    "collapsed": true
   },
   "source": [
    "## Final Take-Away Notes for this Tutorial"
   ]
  },
  {
   "cell_type": "markdown",
   "metadata": {},
   "source": [
    "### 1. Training dataset is very important.\n",
    "   I actually start with only one dataset of around 1,000 labelled data. The accuracy is only 0.6 on validation data. When I added more training dataset into the system, both accuracy and robustness of the classifier is greatly improved. Also the alignment with training data and validation data helps with the accuracy. For example, if you are going to build a sentiment classfier for Twitter, the Twitter dataset helps most while Yelp data might not be that helpful.\n",
    "   \n",
    "### 2. The power of Naive Bayes Model\n",
    "   Naive Bayes model assumes conditional independence across different words. This assumption seems to be too simplified and not reasonable at first glance. Well, experiments show that this simple methods work pretty well especially for text classification. \n",
    "   \n",
    "   Using only labelled data and its words' probabilty, we can actually build a Naive Bayes Model without much computational cost. Easy to use and well performed! So next time, if you are building a text classification, do not forget about Naive Bayes Model.\n",
    "   \n",
    "### 3. Other sentiment classification methods \n",
    "Besides Naive Bayes Model, there are also other popular sentiment classification methods. Many people use SVM for sentiment classification. It performs better than Naive Bayes but the computation cost is definitely higher. \n",
    "\n",
    "### Hope you enjoy the tutorial and welcome any suggestions and further discussion. Thanks!"
   ]
  }
 ],
 "metadata": {
  "kernelspec": {
   "display_name": "Python 2",
   "language": "python",
   "name": "python2"
  },
  "language_info": {
   "codemirror_mode": {
    "name": "ipython",
    "version": 2
   },
   "file_extension": ".py",
   "mimetype": "text/x-python",
   "name": "python",
   "nbconvert_exporter": "python",
   "pygments_lexer": "ipython2",
   "version": "2.7.12"
  }
 },
 "nbformat": 4,
 "nbformat_minor": 1
}
