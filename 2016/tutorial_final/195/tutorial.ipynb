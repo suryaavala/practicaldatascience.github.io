{
 "cells": [
  {
   "cell_type": "markdown",
   "metadata": {},
   "source": [
    "## Introduction\n",
    "\n",
    "This tutorial will introduce you to how to use a machine learning platform called GraphLab. We will mainly focus on the graph analytics module of GraphLab, since efficient graph computation was one of the initial purposes of this project (http://dl.acm.org/citation.cfm?id=2212354). The GraphLab project was first started by Prof. Carlos Guestrin in 2009 when he was still in Carnegie Mellon University. It showed very good performance in many data mining tasks. \n",
    "\n",
    "The graph analytics of GraphLab is a toolkit which contains different algorithms for analyzing a graph, including connected components, k-core decomposition, PageRank, single-source shortest path, etc."
   ]
  },
  {
   "cell_type": "markdown",
   "metadata": {},
   "source": [
    "### Tutorial content\n",
    "\n",
    "In this tutorial, I will show how to do some basic graph analysis in Python, specifically using [GraphLab](https://turi.com).\n",
    "\n",
    "We will cover the following topics in this tutorial:\n",
    "- [Installing the library](#Installing-the-library)\n",
    "- [Loading data and initializing graph](#Loading-data-and-initializing-graph)\n",
    "- [Graph Properties](#Graph-Properties)\n",
    "- [Graph Algorithms](#Graph-Algorithms)"
   ]
  },
  {
   "cell_type": "markdown",
   "metadata": {},
   "source": [
    "## Installing the library\n",
    "Before getting started, you'll need to make sure python 2.7.x and pip (version >= 7) have already been installed on your local machine.\n",
    "\n",
    "Then we can install the GraphLab library that we will use in this tutorial. You can install GraphLab using `pip` and import graphlab library in your pyton script:\n",
    "\n",
    "    $ pip install graphlab-create"
   ]
  },
  {
   "cell_type": "code",
   "execution_count": 4,
   "metadata": {
    "collapsed": false
   },
   "outputs": [],
   "source": [
    "import graphlab as gl\n",
    "import pandas\n",
    "import urllib2\n",
    "import StringIO\n",
    "import gzip"
   ]
  },
  {
   "cell_type": "markdown",
   "metadata": {},
   "source": [
    "## Loading data and initializing graph\n",
    "Now that we have installed and imported the graphlab library, our next step will be loading data and initializing our graph.\n",
    "\n",
    "In this tutorial, we will use a small graph as an example as shown below. The sample graph is a directed graph, with 8 vertices and 9 edges in total and its edges are all unweighted.\n",
    "\n",
    "[<img src=\"http://algs4.cs.princeton.edu/42digraph/images/digraph.png\">](http://algs4.cs.princeton.edu/42digraph/images/digraph.png)"
   ]
  },
  {
   "cell_type": "code",
   "execution_count": 5,
   "metadata": {
    "collapsed": false
   },
   "outputs": [],
   "source": [
    "def create_graph(src, dst):\n",
    "    g = gl.SGraph()\n",
    "    edges = gl.SFrame({'src': src, 'dst': dst})\n",
    "    g = g.add_edges(edges, src_field='src', dst_field='dst')\n",
    "    return g"
   ]
  },
  {
   "cell_type": "code",
   "execution_count": 7,
   "metadata": {
    "collapsed": false
   },
   "outputs": [],
   "source": [
    "src = [0, 0, 2, 2, 3, 3, 4, 4, 5, 6, 6, 6, 7, 7, 8, 8, 9, 9, 10, 11, 11, 12]\n",
    "dst = [1, 5, 0, 3, 2, 5, 2, 3, 4, 0, 4, 9, 6, 8, 7, 9, 10, 11, 12, 4, 12, 9]\n",
    "\n",
    "g = create_graph(src, dst)"
   ]
  },
  {
   "cell_type": "markdown",
   "metadata": {},
   "source": [
    "Once the graph is initialized, we can access the graph using the built-in methods. The `edges` object is of SFrane type, which is designed to be a tabular, column-mutable dataframe object that can scale to big data. The `g` object is converted from the SFrame object and is of SGraph type, which is a scalable graph data structure designed in GraphLab. It allows you dynamically add a vertex or edge. You can get some basic statistics of the graph by calling the `summary()` method of your SGraph object. In our example, it will show the number of edges and the number of vertices. You can also show all edges by print the `edges` attribute."
   ]
  },
  {
   "cell_type": "code",
   "execution_count": 14,
   "metadata": {
    "collapsed": false
   },
   "outputs": [
    {
     "name": "stdout",
     "output_type": "stream",
     "text": [
      "{'num_edges': 22, 'num_vertices': 13}\n",
      "+----------+----------+\n",
      "| __src_id | __dst_id |\n",
      "+----------+----------+\n",
      "|    12    |    9     |\n",
      "|    4     |    2     |\n",
      "|    11    |    12    |\n",
      "|    4     |    3     |\n",
      "|    11    |    4     |\n",
      "+----------+----------+\n",
      "[5 rows x 2 columns]\n",
      "\n"
     ]
    }
   ],
   "source": [
    "print g.summary()\n",
    "print g.edges.tail(5)"
   ]
  },
  {
   "cell_type": "markdown",
   "metadata": {},
   "source": [
    "GraphLab also provide apis that help you visulaize the graph you just created. Simply calling the `show()` method in your SGraph object and offer it with some basic settings, it will visulize the graph for you. You can access the figure via web brower."
   ]
  },
  {
   "cell_type": "code",
   "execution_count": 15,
   "metadata": {
    "collapsed": false
   },
   "outputs": [
    {
     "name": "stdout",
     "output_type": "stream",
     "text": [
      "Canvas is accessible via web browser at the URL: http://localhost:57282/index.html\n",
      "Opening Canvas in default web browser.\n"
     ]
    }
   ],
   "source": [
    "g.show(vlabel='id', arrows=True)"
   ]
  },
  {
   "cell_type": "markdown",
   "metadata": {},
   "source": [
    "## Graph Properties"
   ]
  },
  {
   "cell_type": "markdown",
   "metadata": {},
   "source": [
    "### Degree\n",
    "Degree of a vertex of a graph is defined as the number of edges connected to the vertex. GraphLab provides apis to compute in degree, out degree and total degree of each vertex. The following cell shows an example of how to use GraphLab api to compute degree for each vertex in the graph."
   ]
  },
  {
   "cell_type": "code",
   "execution_count": 7,
   "metadata": {
    "collapsed": false
   },
   "outputs": [
    {
     "name": "stdout",
     "output_type": "stream",
     "text": [
      "+------+-----------+------------+--------------+\n",
      "| __id | in_degree | out_degree | total_degree |\n",
      "+------+-----------+------------+--------------+\n",
      "|  3   |     2     |     2      |      4       |\n",
      "|  12  |     2     |     1      |      3       |\n",
      "|  1   |     1     |     0      |      1       |\n",
      "|  4   |     3     |     2      |      5       |\n",
      "|  11  |     1     |     2      |      3       |\n",
      "+------+-----------+------------+--------------+\n",
      "[5 rows x 4 columns]\n",
      "\n"
     ]
    }
   ],
   "source": [
    "degree_model = gl.degree_counting.create(g, verbose=False)\n",
    "graph_with_degree = degree_model['graph']\n",
    "degree = graph_with_degree.vertices[['__id', 'in_degree', 'out_degree', 'total_degree']]\n",
    "print degree.tail(5)"
   ]
  },
  {
   "cell_type": "markdown",
   "metadata": {},
   "source": [
    "### Connected Component\n",
    "A connected component of is a subgraph of a graph. Within it, any two vertices are connected to each other by paths. Graphlab provides apis to finds all connected components in the graph. The only input is a SGraph object that we memtioned above. The following cell shows an example of how to use GraphLab's api to find all connected components."
   ]
  },
  {
   "cell_type": "code",
   "execution_count": 17,
   "metadata": {
    "collapsed": false
   },
   "outputs": [
    {
     "name": "stdout",
     "output_type": "stream",
     "text": [
      "<bound method ConnectedComponentsModel.summary of Class                                    : ConnectedComponentsModel\n",
      "\n",
      "Graph\n",
      "-----\n",
      "num_edges                                : 22\n",
      "num_vertices                             : 13\n",
      "\n",
      "Results\n",
      "-------\n",
      "graph                                    : SGraph. See m['graph']\n",
      "component size                           : SFrame. See m['component_size']\n",
      "number of connected components           : 1\n",
      "vertex component id                      : SFrame. See m['component_id']\n",
      "\n",
      "Metrics\n",
      "-------\n",
      "training time (secs)                     : 1.0159\n",
      "\n",
      "Queryable Fields\n",
      "----------------\n",
      "graph                                    : A new SGraph with the color id as a vertex property\n",
      "component_id                             : An SFrame with each vertex's component id\n",
      "component_size                           : An SFrame with the size of each component\n",
      "training_time                            : Total training time of the model\n",
      ">\n"
     ]
    }
   ],
   "source": [
    "cc = gl.connected_components.create(g, verbose=False)\n",
    "print cc.summary"
   ]
  },
  {
   "cell_type": "markdown",
   "metadata": {},
   "source": [
    "As the result shows, the number of connected components of our sample graph is 1, which is different from what we expected. The following figure shows the correct partitioning of the sample graph into 5 different connected components. So why the api doesn't work here?\n",
    "[<img src=\"http://algs4.cs.princeton.edu/42digraph/images/strong-components.png\">](http://algs4.cs.princeton.edu/42digraph/images/strong-components.png)\n",
    "The reason is that the api can only find weakly connected components, which is usually used in undirected graph where any edge can connect two vertices in both direction. However, the edges in our sample graph have direction. So we need to find all strong connected components, in which there is a path in each direction between each pair of vertices.\n",
    "\n",
    "Here we will use [Kosaraju's algorithm](https://en.wikipedia.org/wiki/Kosaraju%27s_algorithm) to find all strong connected components in our sample graph. Kosaraju's algorithm is a linear time algorithm which basically does two pass depth first search. The following is my implementation of the Kosaraju's algorithm."
   ]
  },
  {
   "cell_type": "code",
   "execution_count": 8,
   "metadata": {
    "collapsed": false
   },
   "outputs": [],
   "source": [
    "def reverse_graph(g):\n",
    "    \"\"\" reverse all edges in a graph\n",
    "    Inputs:\n",
    "        g: a SGraph object representing the graph\n",
    "    Outputs:\n",
    "        reversed graph: a SGraph object with edges reversed\n",
    "    \"\"\"\n",
    "    rev_g = gl.SGraph()\n",
    "    src = list(g.get_edges()['__dst_id'].to_numpy())\n",
    "    dst = list(g.get_edges()['__src_id'].to_numpy())\n",
    "    rev_edges = gl.SFrame({'src': src, 'dst': dst})\n",
    "    rev_g = rev_g.add_edges(rev_edges, src_field='src', dst_field='dst')\n",
    "    return rev_g\n",
    "\n",
    "def traverse(g, vertex, order, visited):\n",
    "    \"\"\" traverse a graph and get the reversed order of the traversal\n",
    "    Inputs:\n",
    "        g: a SGraph object representing the graph\n",
    "    \"\"\"\n",
    "    if vertex in visited:\n",
    "        return\n",
    "    visited.add(vertex)\n",
    "    for edge in g.get_edges(vertex):\n",
    "        traverse(g, edge['__dst_id'], order, visited)\n",
    "    order.append(vertex)\n",
    "\n",
    "def assign(g, vertex, visited, component):\n",
    "    \"\"\" traverse a graph and assign component id to each vertex\n",
    "    Inputs:\n",
    "        g: a SGraph object representing the graph\n",
    "    \"\"\"\n",
    "    visited.add(vertex)\n",
    "    component.append(vertex)\n",
    "    for edge in g.get_edges(vertex):\n",
    "        if edge['__dst_id'] in visited:\n",
    "            continue\n",
    "        assign(g, edge['__dst_id'], visited, component)\n",
    "\n",
    "def Kosaraju(g):\n",
    "    \"\"\" find all strong connected components of a graph\n",
    "    Inputs:\n",
    "        g: a SGraph object representing the graph\n",
    "    Outputs:\n",
    "        connected component: a dict, whose key is the connected component id\n",
    "                             and the value is a list of vertices which are\n",
    "                             included in the component\n",
    "    \"\"\"\n",
    "    rev_g = reverse_graph(g)\n",
    "\n",
    "    order = []\n",
    "    visited = set([])\n",
    "\n",
    "    for vertex in rev_g.vertices:\n",
    "        traverse(rev_g, vertex['__id'], order, visited)\n",
    "    order.reverse()\n",
    "    \n",
    "    cc_cnt = 0\n",
    "    cc = {}\n",
    "    visited = set([])\n",
    "    for vertex in order:\n",
    "        if vertex in visited:\n",
    "            continue\n",
    "        cc[cc_cnt] = []\n",
    "        assign(g, vertex, visited, cc[cc_cnt])\n",
    "        cc_cnt += 1\n",
    "    \n",
    "    return cc\n"
   ]
  },
  {
   "cell_type": "code",
   "execution_count": 54,
   "metadata": {
    "collapsed": false
   },
   "outputs": [
    {
     "name": "stdout",
     "output_type": "stream",
     "text": [
      "\n",
      "------------- Results --------------\n",
      "connected component 0:  1 vertices [1]\n",
      "connected component 1:  5 vertices [5, 4, 2, 0, 3]\n",
      "connected component 2:  4 vertices [11, 12, 9, 10]\n",
      "connected component 3:  1 vertices [6]\n",
      "connected component 4:  2 vertices [7, 8]\n"
     ]
    }
   ],
   "source": [
    "cc = Kosaraju(g)\n",
    "print \"\\n------------- Results --------------\"\n",
    "for id, vertices in cc.iteritems():\n",
    "    print 'connected component ' + str(id) + ': ',\n",
    "    print len(vertices),\n",
    "    print 'vertices',\n",
    "    print vertices\n"
   ]
  },
  {
   "cell_type": "markdown",
   "metadata": {},
   "source": [
    "## Graph Algorithms"
   ]
  },
  {
   "cell_type": "markdown",
   "metadata": {},
   "source": [
    "### Shortest Path\n",
    "The purpose of shortest path problem is to find a path between two vertices in a graph and the sum of the weights of all edges on the path is minimized. GraphLab provides apis to compute the single-source shortest path distance from a given source vertex to all vertices. The following function is used to calculate the shortest path for all vertices starting from a given source vertex."
   ]
  },
  {
   "cell_type": "code",
   "execution_count": 9,
   "metadata": {
    "collapsed": false
   },
   "outputs": [],
   "source": [
    "def shortest_path(g, src, inf=1e30):\n",
    "    \"\"\" Single source shortest path\n",
    "    Inputs:\n",
    "        g: a SGraph object representing the graph\n",
    "        src: id of the source vertex\n",
    "    Outputs:\n",
    "        dist: a dictionary contains distance to all reachable vertices\n",
    "    \"\"\"\n",
    "    sp_model = gl.shortest_path.create(g, source_vid=src, verbose=False)\n",
    "    dist = sp_model['distance']\n",
    "    df = dist.to_dataframe()\n",
    "    df = df.set_index('__id')\n",
    "    dist = df.to_dict(orient='dict')['distance']\n",
    "    cleaned_dist = {}\n",
    "    for dst, distance in dist.iteritems():\n",
    "        if distance != inf:\n",
    "            cleaned_dist[dst] = distance\n",
    "    return cleaned_dist\n"
   ]
  },
  {
   "cell_type": "code",
   "execution_count": 22,
   "metadata": {
    "collapsed": false
   },
   "outputs": [
    {
     "name": "stdout",
     "output_type": "stream",
     "text": [
      "Number of vertices = 13\n",
      "source = 0 distance dict: {0: 0.0, 1: 1.0, 2: 3.0, 3: 3.0, 4: 2.0, 5: 1.0}\n",
      "source = 1 distance dict: {1: 0.0}\n",
      "source = 2 distance dict: {0: 1.0, 1: 2.0, 2: 0.0, 3: 1.0, 4: 3.0, 5: 2.0}\n",
      "source = 3 distance dict: {0: 2.0, 1: 3.0, 2: 1.0, 3: 0.0, 4: 2.0, 5: 1.0}\n",
      "source = 4 distance dict: {0: 2.0, 1: 3.0, 2: 1.0, 3: 1.0, 4: 0.0, 5: 2.0}\n",
      "source = 5 distance dict: {0: 3.0, 1: 4.0, 2: 2.0, 3: 2.0, 4: 1.0, 5: 0.0}\n",
      "source = 6 distance dict: {0: 1.0, 1: 2.0, 2: 2.0, 3: 2.0, 4: 1.0, 5: 2.0, 6: 0.0, 9: 1.0, 10: 2.0, 11: 2.0, 12: 3.0}\n",
      "source = 7 distance dict: {0: 2.0, 1: 3.0, 2: 3.0, 3: 3.0, 4: 2.0, 5: 3.0, 6: 1.0, 7: 0.0, 8: 1.0, 9: 2.0, 10: 3.0, 11: 3.0, 12: 4.0}\n",
      "source = 8 distance dict: {0: 3.0, 1: 4.0, 2: 4.0, 3: 4.0, 4: 3.0, 5: 4.0, 6: 2.0, 7: 1.0, 8: 0.0, 9: 1.0, 10: 2.0, 11: 2.0, 12: 3.0}\n",
      "source = 9 distance dict: {0: 4.0, 1: 5.0, 2: 3.0, 3: 3.0, 4: 2.0, 5: 4.0, 9: 0.0, 10: 1.0, 11: 1.0, 12: 2.0}\n",
      "source = 10 distance dict: {0: 6.0, 1: 7.0, 2: 5.0, 3: 5.0, 4: 4.0, 5: 6.0, 9: 2.0, 10: 0.0, 11: 3.0, 12: 1.0}\n",
      "source = 11 distance dict: {0: 3.0, 1: 4.0, 2: 2.0, 3: 2.0, 4: 1.0, 5: 3.0, 9: 2.0, 10: 3.0, 11: 0.0, 12: 1.0}\n",
      "source = 12 distance dict: {0: 5.0, 1: 6.0, 2: 4.0, 3: 4.0, 4: 3.0, 5: 5.0, 9: 1.0, 10: 2.0, 11: 2.0, 12: 0.0}\n"
     ]
    }
   ],
   "source": [
    "dist = {}\n",
    "for d in g.vertices:\n",
    "    src = d['__id']\n",
    "    single_dist = shortest_path(g, src)\n",
    "    dist[src] = single_dist\n",
    "print 'Number of vertices = ' + str(len(dist))\n",
    "for src, d in dist.iteritems():\n",
    "    print 'source = ' + str(src),\n",
    "    print 'distance dict: ' + str(d)"
   ]
  },
  {
   "cell_type": "markdown",
   "metadata": {},
   "source": [
    "### Diameter\n",
    "The diameter of a graph is the largest distance between any pair of vertices in the graph. The simplest way to find the diameter of a graph is find the shortest path between any pair of vertices. Then the largest distance of any of the paths is the diameter of the graph. We can utilize the shortest_path function we wrote before to help solve this problem. The following cell shows an example of how to use shortest path results to compute diameter of a graph."
   ]
  },
  {
   "cell_type": "code",
   "execution_count": 10,
   "metadata": {
    "collapsed": true
   },
   "outputs": [],
   "source": [
    "def diameter(g):\n",
    "    \"\"\" compute diameter of a graph\n",
    "    Inputs:\n",
    "        g: a SGraph object representing the graph\n",
    "    Outputs:\n",
    "        diameter, src, dst: the diameter of the input graph and the any\n",
    "                            corresponding source and destination vertices\n",
    "    \"\"\"\n",
    "    max_distance = 0.0\n",
    "    source = None\n",
    "    destination = None\n",
    "    for d in g.vertices:\n",
    "        src = d['__id']\n",
    "        dist = shortest_path(g, src)\n",
    "        for dst, distance in dist.iteritems():\n",
    "            if distance > max_distance:\n",
    "                max_distance = distance\n",
    "                source = src\n",
    "                destination = dst\n",
    "    return (max_distance, source, destination)"
   ]
  },
  {
   "cell_type": "code",
   "execution_count": 24,
   "metadata": {
    "collapsed": false
   },
   "outputs": [
    {
     "name": "stdout",
     "output_type": "stream",
     "text": [
      "diameter = 7.0\n",
      "source = 10\n",
      "destination = 1\n"
     ]
    }
   ],
   "source": [
    "d, src, dst = diameter(g)\n",
    "print 'diameter = ' + str(d)\n",
    "print 'source = ' + str(src)\n",
    "print 'destination = ' + str(dst)"
   ]
  },
  {
   "cell_type": "markdown",
   "metadata": {},
   "source": [
    "### PageRank\n",
    "[PageRank](https://en.wikipedia.org/wiki/PageRank) is an algorithm first introduced by Google to rank websites. The basic idea of PageRank is to use inbound and outbound nodes' information to determine the significance of individual webpages.\n",
    "\n",
    "GraphLab also provides use api that compute PageRank score for each node in the graph. Some configurable parameters are reset_probability(probability that a random surfer jumps to an arbitrary page), threshold(threshold of convergence) and max_iterations(the maximum number of iterations to run). The following cell shows an example of how to use GraphLab's PageRank api to compute the pagerank score of all vertices in a graph."
   ]
  },
  {
   "cell_type": "code",
   "execution_count": 54,
   "metadata": {
    "collapsed": false
   },
   "outputs": [],
   "source": [
    "def pagerank(g):\n",
    "    pr = gl.pagerank.create(g, reset_probability=0.15, threshold=0.01, max_iterations=100, verbose=False)\n",
    "    df = pr['pagerank'].to_dataframe()[['__id', 'pagerank']]\n",
    "    d = {int(row['__id']): row['pagerank'] for _, row in df.iterrows()}\n",
    "    return d\n"
   ]
  },
  {
   "cell_type": "code",
   "execution_count": 16,
   "metadata": {
    "collapsed": false
   },
   "outputs": [
    {
     "name": "stdout",
     "output_type": "stream",
     "text": [
      "0 0.762451201699\n",
      "1 0.474161005331\n",
      "2 1.26603301276\n",
      "3 1.26603301276\n",
      "4 1.35859736242\n",
      "5 1.01269916296\n",
      "6 0.260869566109\n",
      "7 0.260869566109\n",
      "8 0.260869566109\n",
      "9 1.15857248236\n",
      "10 0.643541120083\n",
      "11 0.643541120083\n",
      "12 0.970514927593\n"
     ]
    }
   ],
   "source": [
    "pr = pagerank(g)\n",
    "for id, score in pr.iteritems():\n",
    "    print str(id),\n",
    "    print score"
   ]
  },
  {
   "cell_type": "markdown",
   "metadata": {},
   "source": [
    "## Real-world Graph\n",
    "Next, we apply our implementations of graph algorithms to one read-world graph from Stanford large network dataset collection (http://konect.uni-koblenz.de/networks/moreno_innovation). We first load the data into memory and create our SGraph object."
   ]
  },
  {
   "cell_type": "code",
   "execution_count": 29,
   "metadata": {
    "collapsed": false
   },
   "outputs": [],
   "source": [
    "# read edges from data: http://konect.uni-koblenz.de/networks/moreno_innovation\n",
    "delimiter = ' '\n",
    "with open(\"real_world_graph.tsv\") as f:\n",
    "    edges = [(int(edge.split(delimiter)[0]), int(edge.split(delimiter)[1])) for edge in f.read().splitlines()]\n",
    "\n",
    "# remove duplicate edges\n",
    "edges_set = set(edges)\n",
    "edges = list(edges_set)\n"
   ]
  },
  {
   "cell_type": "markdown",
   "metadata": {},
   "source": [
    "The graph has 241 vertices connected by 1098 edges as shown below."
   ]
  },
  {
   "cell_type": "code",
   "execution_count": 30,
   "metadata": {
    "collapsed": false
   },
   "outputs": [
    {
     "name": "stdout",
     "output_type": "stream",
     "text": [
      "<bound method SGraph.summary of SGraph({'num_edges': 1098, 'num_vertices': 241})\n",
      "Vertex Fields:['__id']\n",
      "Edge Fields:['__src_id', '__dst_id']>\n"
     ]
    }
   ],
   "source": [
    "src = [u for u, v in edges]\n",
    "dst = [v for u, v in edges]\n",
    "\n",
    "g = create_graph(src, dst)\n",
    "print g.summary\n"
   ]
  },
  {
   "cell_type": "markdown",
   "metadata": {},
   "source": [
    "Then we can compute both weak connected component and strong connected component using functions that we implemented earlier in this tutorial."
   ]
  },
  {
   "cell_type": "code",
   "execution_count": 64,
   "metadata": {
    "collapsed": false
   },
   "outputs": [],
   "source": [
    "# weak connected component\n",
    "wcc = gl.connected_components.create(g, verbose=False)\n",
    "# strong connected component\n",
    "scc = Kosaraju(g)"
   ]
  },
  {
   "cell_type": "code",
   "execution_count": 65,
   "metadata": {
    "collapsed": false
   },
   "outputs": [
    {
     "name": "stdout",
     "output_type": "stream",
     "text": [
      "largest   weak connected component -> vertices size: 117\n",
      "largest strong connected component -> vertices size: 95\n"
     ]
    }
   ],
   "source": [
    "# largest weak connected component\n",
    "print 'largest   weak connected component -> vertices size: ' + str(wcc['component_size']['Count'].max())\n",
    "# largest strong connected component\n",
    "LSCC = []\n",
    "for id, vertices in scc.iteritems():\n",
    "    if len(vertices) > len(LSCC):\n",
    "        LSCC = vertices\n",
    "print 'largest strong connected component -> vertices size: ' + str(len(LSCC))"
   ]
  },
  {
   "cell_type": "markdown",
   "metadata": {},
   "source": [
    "We can also apply algorithms in the previous section to this graph."
   ]
  },
  {
   "cell_type": "code",
   "execution_count": 52,
   "metadata": {
    "collapsed": false
   },
   "outputs": [
    {
     "name": "stdout",
     "output_type": "stream",
     "text": [
      "diameter -> length: 9.0\n"
     ]
    }
   ],
   "source": [
    "d, src, dst = diameter(g)\n",
    "print 'diameter -> length: ' + str(d)"
   ]
  },
  {
   "cell_type": "code",
   "execution_count": 63,
   "metadata": {
    "collapsed": false
   },
   "outputs": [
    {
     "name": "stdout",
     "output_type": "stream",
     "text": [
      "max pagerank -> id: 15, score: 3.78467950157\n"
     ]
    }
   ],
   "source": [
    "pr = pagerank(g)\n",
    "id = max(pr, key=pr.get)\n",
    "print 'max pagerank -> id: ' + str(id) + ', score: ' + str(pr[id])"
   ]
  },
  {
   "cell_type": "markdown",
   "metadata": {},
   "source": [
    "## Summary and references\n",
    "This tutorial highlighted just a few elements (basic graph properties and algorithms) of what we can do with the graph analytics module of GraphLab in Python. What you can do with GraphLab is much more than simply graph analytics. More details about the other libraries in GraphLab are available from the following links.\n",
    "\n",
    "1. GraphLab docs: https://turi.com/products/create/docs/\n",
    "2. graph analytics toolkit: https://turi.com/products/create/docs/graphlab.toolkits.graph_analytics.html?highlight=graph%20analytics"
   ]
  }
 ],
 "metadata": {
  "anaconda-cloud": {},
  "kernelspec": {
   "display_name": "Python [conda root]",
   "language": "python",
   "name": "conda-root-py"
  },
  "language_info": {
   "codemirror_mode": {
    "name": "ipython",
    "version": 2
   },
   "file_extension": ".py",
   "mimetype": "text/x-python",
   "name": "python",
   "nbconvert_exporter": "python",
   "pygments_lexer": "ipython2",
   "version": "2.7.12"
  }
 },
 "nbformat": 4,
 "nbformat_minor": 0
}
