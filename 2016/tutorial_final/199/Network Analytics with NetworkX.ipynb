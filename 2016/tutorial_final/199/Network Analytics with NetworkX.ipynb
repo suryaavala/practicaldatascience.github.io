{
 "cells": [
  {
   "cell_type": "markdown",
   "metadata": {},
   "source": [
    "## Introduction\n",
    "\n",
    "There are many interesting networks in our life. For example, a social network, where nodes are people and edges are connections; citation network, where nodes represents papers and edges are citations; websites, where nodes are webpages and edges are hyperlinks. Have you ever wondered how does Facebook recommend a friend to you, or how Amazon suggests the products that you should buy and Netflix recommands the movies you might like? Or, given a network, what are the important properties we can extract from the network, and what are the these properties imply? In this tutorial, we will show how to do network analytics using [NetworkX](https://networkx.github.io/), a Python library for studying structure and dynamics of complex networks.\n",
    "\n"
   ]
  },
  {
   "cell_type": "markdown",
   "metadata": {},
   "source": [
    "## NetworkX Tutorial\n",
    "\n",
    "This tutorial will cover these topics:\n",
    "+ [Installation](#installation)  \n",
    "+ [Loading and visualizing networks](#Loading-and-visualizing-networks)  \n",
    "+ [Network structural properties](#network-structural-properties)\n",
    "+ [Friend recommendation on Facebook](#friend-recommendation-on-facebook)\n",
    "\n",
    "### Installation\n",
    "If you are using anaconda, NetworkX package is already installed. Otherwise, you can use pip to install networkx\n",
    "```bash\n",
    "pip install networkx\n",
    "```\n",
    "After the installation, you should be able to import the networkx module:"
   ]
  },
  {
   "cell_type": "code",
   "execution_count": 121,
   "metadata": {
    "collapsed": false
   },
   "outputs": [],
   "source": [
    "import networkx as nx"
   ]
  },
  {
   "cell_type": "markdown",
   "metadata": {},
   "source": [
    "### Loading and visualizing networks\n",
    "\n",
    "#### Loading networks\n",
    "We'll use [Facebook Links](http://socialnetworks.mpi-sws.mpg.de/data/facebook-links.txt.gz) file as the data source for the network loading API. The file contains a list of all the user to user links in Facebook. Each line of the file contains two user identifiers, and the third column is the timestamp when the link is established.\n",
    "\n",
    "After we download the data, we can use the following command to unzip the file.\n",
    "```bash\n",
    "gzip -d facebook-links.txt.gz\n",
    "```\n",
    "\n",
    "We'll use **read_edgelist** to load this netowrk,and since the graph is undirected, we'll create the graph using **Graph** class, which is the class for undirected graph. The class type for directed graph is **DiGraph**.\n"
   ]
  },
  {
   "cell_type": "code",
   "execution_count": 122,
   "metadata": {
    "collapsed": false,
    "scrolled": false
   },
   "outputs": [
    {
     "name": "stdout",
     "output_type": "stream",
     "text": [
      "Name: \n",
      "Type: Graph\n",
      "Number of nodes: 63731\n",
      "Number of edges: 817090\n",
      "Average degree:  25.6418\n"
     ]
    }
   ],
   "source": [
    "f = open(\"facebook-links.txt\")\n",
    "G_fb = nx.parse_edgelist(f.readlines(), create_using = nx.Graph(), nodetype = int, data=(('timestamp', str),))\n",
    "# Get a brief summary of the graph\n",
    "print nx.info(G_fb)"
   ]
  },
  {
   "cell_type": "markdown",
   "metadata": {},
   "source": [
    "#### Plotting networks\n",
    "It is even better if we could visualize the actual graph, but it takes a lot of time to render the graph of this size, we'll only draw a small subgraph from the original graph using [pyplot](http://matplotlib.org/api/pyplot_api.html).\n",
    "\n",
    "There are different ways to get a subgraph, for a social network, [ego graph](http://www.analytictech.com/networks/egonet.htm) is a common method to generate a subgraph. A ego subgraph with a single ego node is a graph that contains a person, his/her friends and all connections between them."
   ]
  },
  {
   "cell_type": "code",
   "execution_count": 123,
   "metadata": {
    "collapsed": false,
    "scrolled": true
   },
   "outputs": [],
   "source": [
    "# Get an ego graph\n",
    "import random\n",
    "ego = nx.ego_graph(G_fb, random.choice(G_fb.nodes()), radius=1, center=True)\n"
   ]
  },
  {
   "cell_type": "markdown",
   "metadata": {},
   "source": [
    "Now we can plot the ego graph use pyplot."
   ]
  },
  {
   "cell_type": "code",
   "execution_count": 124,
   "metadata": {
    "collapsed": false
   },
   "outputs": [
    {
     "data": {
      "image/png": "[encoded data removed]",
      "text/plain": [
       "<matplotlib.figure.Figure at 0x123418ed0>"
      ]
     },
     "metadata": {},
     "output_type": "display_data"
    }
   ],
   "source": [
    "import matplotlib.pyplot as plt\n",
    "%matplotlib inline\n",
    "\n",
    "spring_pos = nx.spring_layout(ego)\n",
    "plt.axis(\"off\")\n",
    "nx.draw_networkx(ego, pos = spring_pos, with_labels = False, node_size = 35)\n"
   ]
  },
  {
   "cell_type": "markdown",
   "metadata": {},
   "source": [
    "#### Network/Graph generators\n",
    "Sometimes, rather than getting network data from the real world, we might want to generate a network using some predefined models. We can use the graph generation functions to generate graphs of certain properties.\n",
    "\n",
    "$G_{n,p}$ Graph, also known as Erdős-Rényi graph or binomial graph, is a model where each possible edges in the graph has a fixed probability of $p$ to be present. This is a very straightforward way to generate a random graph.\n"
   ]
  },
  {
   "cell_type": "code",
   "execution_count": 125,
   "metadata": {
    "collapsed": false,
    "scrolled": false
   },
   "outputs": [
    {
     "data": {
      "image/png": "[encoded data removed]",
      "text/plain": [
       "<matplotlib.figure.Figure at 0x10e8e3750>"
      ]
     },
     "metadata": {},
     "output_type": "display_data"
    }
   ],
   "source": [
    "# Generating a Erdős-Rényi graph of 10 nodes with p = 0.3\n",
    "import matplotlib.pyplot as plt\n",
    "%matplotlib inline\n",
    "plt.axis(\"off\")\n",
    "\n",
    "G = nx.gnp_random_graph(10, 0.3)\n",
    "spring_pos = nx.spring_layout(G)\n",
    "nx.draw_networkx(G, pos=spring_pos)\n",
    "# TODO (Maybe) Preferential Attachment graph"
   ]
  },
  {
   "cell_type": "markdown",
   "metadata": {},
   "source": [
    "### Network structural properties\n",
    "\n",
    "Even we have a plot of a network, it's still hard to identify what are the interesting parts of a network, and how is one network different from the other. In this section, we'll be looking at a few structural properties of a network and their implications."
   ]
  },
  {
   "cell_type": "markdown",
   "metadata": {},
   "source": [
    "##### [Node Centrality](https://networkx.readthedocs.io/en/stable/reference/algorithms.centrality.html) \n",
    "Node centrality is a measure of importance for a given node in the graph.\n",
    "##### Degree Centrality\n",
    "For example, degree centrality of a node is defined as its degree/(N-1), where N is the number of nodes in the network. A node with larger degree will have higher degree centrality.  \n",
    "\n",
    "To better understand how the node degrees are distributed, we can draw a degree centrality distribution. Before that, let's first get a subgraph using a random sample of 1000 nodes."
   ]
  },
  {
   "cell_type": "code",
   "execution_count": 126,
   "metadata": {
    "collapsed": false
   },
   "outputs": [],
   "source": [
    "import random\n",
    "sub_nodes = random.sample(G_fb.nodes(), 1000)\n",
    "sub = nx.subgraph(G_fb, sub_nodes)"
   ]
  },
  {
   "cell_type": "code",
   "execution_count": 127,
   "metadata": {
    "collapsed": false
   },
   "outputs": [
    {
     "data": {
      "image/png": "[encoded data removed]",
      "text/plain": [
       "<matplotlib.figure.Figure at 0x112a50650>"
      ]
     },
     "metadata": {},
     "output_type": "display_data"
    }
   ],
   "source": [
    "import matplotlib.pyplot as plt\n",
    "dc = nx.degree_centrality(sub)\n",
    "\n",
    "degrees = dc.values()\n",
    "degrees.sort(reverse=True)\n",
    "plt.bar(range(len(degrees)), degrees, align='center')\n",
    "plt.show()\n"
   ]
  },
  {
   "cell_type": "markdown",
   "metadata": {},
   "source": [
    "As expected, the distribution histogram of degree centrality has a [long tail](https://en.wikipedia.org/wiki/Long_tail), which means their are few people have a lot of friends while most of people have a releatively small number of friends."
   ]
  },
  {
   "cell_type": "markdown",
   "metadata": {},
   "source": [
    "##### Closeness Centrality\n",
    "Another interesting centrality measure is closeness and farness centrality. Farness centrality is the average shortest path length to all other nodes reside in the same connected component. Closeness centrality is the reciprocal of farness centrality. Therefore, a graph with high closeness centrality is more closely \"connected\" than a graph with a low closeness centrality. We can use the random graph generator function to get a sense of what closeness centrality implies. Using the $G_{n,p}$ model, we can control the average shortest path length by varying the probability parameter, a high probability will give a lower shortest path length and a low probability will give a higher shortest path length.\n"
   ]
  },
  {
   "cell_type": "code",
   "execution_count": 128,
   "metadata": {
    "collapsed": false,
    "scrolled": true
   },
   "outputs": [
    {
     "name": "stdout",
     "output_type": "stream",
     "text": [
      "Average Closeness Centrality for G1(1000,0.1): 0.526229890155\n",
      "Average Closeness Centrality for G2(1000,0.5): 0.666865248396\n"
     ]
    }
   ],
   "source": [
    "from numpy import mean\n",
    "# Generate a random graph of 1000 nodes with probability 0.1\n",
    "G1 = nx.gnp_random_graph(1000, 0.1)\n",
    "\n",
    "# Generate a random graph of 1000 nodes with probability 0.5\n",
    "G2 = nx.gnp_random_graph(1000, 0.5)\n",
    "\n",
    "print 'Average Closeness Centrality for G1(1000,0.1):', mean(nx.closeness_centrality(G1).values())\n",
    "print 'Average Closeness Centrality for G2(1000,0.5):', mean(nx.closeness_centrality(G2).values())\n",
    "\n"
   ]
  },
  {
   "cell_type": "markdown",
   "metadata": {},
   "source": [
    "As expected, G2 has a higher average closeness centrality than G1."
   ]
  },
  {
   "cell_type": "markdown",
   "metadata": {},
   "source": [
    "#### [Clustering Coefficient](https://networkx.readthedocs.io/en/stable/reference/algorithms.approximation.html#module-networkx.algorithms.approximation.clustering_coefficient) \n",
    "Clustering Coefficient is a measure of the degree to which the nodes are clustered together. There are global and local clustering coeficient according to [wikipedia](https://en.wikipedia.org/wiki/Clustering_coefficient). NetworkX supports local clustering coefficient. Local clustering coefficient for a node is defined as the fraction of edges that actually exists among its neighbors over the number of all possible edges. Suppose a vertex v has $k_v$ neighbors, then at most it will have $k_v(k_v - 1)$ edges, local clustering coefficient for node $n$ is formally defined as:  \n",
    "### $C_n$ = $\\frac{2 |\\{e_{ij}: v_i, v_j \\in N_n, e_{ij} \\in E\\}|}{k_v(k_v - 1)}$  \n",
    "Where $N_n$ is the set of nodes that are neighbor of node $n$ and $E$ is the set of edges.  In NetworkX, local clustering coefficient is actually defined as the proportion of all possible triangles in the neighbors of a node, and the function calculates an approximation of the average clustering coefficient. Again, we can use the random graph generator to get a sense of what the clustering coefficient means."
   ]
  },
  {
   "cell_type": "code",
   "execution_count": 129,
   "metadata": {
    "collapsed": false
   },
   "outputs": [
    {
     "name": "stdout",
     "output_type": "stream",
     "text": [
      "Average Clustering Coefficient for G1(1000,0.1): 0.0998216575197\n",
      "Average Clustering Coefficient for G2(1000,0.5): 0.500207804488\n"
     ]
    }
   ],
   "source": [
    "print 'Average Clustering Coefficient for G1(1000,0.1):', nx.average_clustering(G1)\n",
    "print 'Average Clustering Coefficient for G2(1000,0.5):', nx.average_clustering(G2)"
   ]
  },
  {
   "cell_type": "markdown",
   "metadata": {},
   "source": [
    "As expected, a more connected graph will have a higher average clustering coefficient."
   ]
  },
  {
   "cell_type": "markdown",
   "metadata": {},
   "source": [
    "#### [Community](https://en.wikipedia.org/wiki/Community_structure)\n",
    "\n",
    "A network is said to have community structure if the nodes of the network can be easily grouped into sets of nodes such that each sets of nodes are densely connected internally and sparsely connected to the nodes in other sets. So, what exactly does densely connected means? An extreme example would be the set of nodes forms a [clique](https://en.wikipedia.org/wiki/Clique_(graph_theory)), which means, the subgraph consists of these nodes forms a complete graph, NetworkX only supports clique-based methods. In the context of social network, a community could be the set of your high school classmates."
   ]
  },
  {
   "cell_type": "markdown",
   "metadata": {},
   "source": [
    "There is a library built on top of NetworkX that performs community detection with more algorithms. We can download and install this library [here](https://bitbucket.org/taynaud/python-louvain/overview).\n",
    "```bash\n",
    "git clone https://bitbucket.org/taynaud/python-louvain/overview\n",
    "```\n",
    "and run the following command in the code directory:\n",
    "```bash\n",
    "python setup.py install\n",
    "```\n",
    "##### Community Detection Algorithms\n",
    "\n",
    "+ [Hierarchical clustering](https://en.wikipedia.org/wiki/Hierarchical_clustering) builds a hierachy of clusters, starting from each node having its on cluster and pairs of clusters are merged as one moves up the hierach(in Agglomerative approach). Function *generate_dendrogram* will generate a dictionary mapping from level of hierarchy to the partition. *partition_at_level* takes the result of *generate_dendrogram* and returns a dictionary of the partition, where keys are nodes and values are the index of partition the node belongs to.\n",
    "+ [Modularity maximization](https://en.wikipedia.org/wiki/Modularity_(networks)) is another algorithm supported in the library. Modularity is a benefit function which measures the quality of a particular division of communities. *best_partition* uses [Louvain](https://en.wikipedia.org/wiki/Louvain_Modularity) heuristices to iteratively improve the local communities partition until the global modularity can no longer be improved given perturbations to the current state.\n",
    "\n",
    "Since our original network graph is very large and it takes a long time to draw the communities, we'll use the [ego-Facebook](https://snap.stanford.edu/data/egonets-Facebook.html) dataset from SNAP library.\n"
   ]
  },
  {
   "cell_type": "code",
   "execution_count": 130,
   "metadata": {
    "collapsed": false
   },
   "outputs": [
    {
     "name": "stdout",
     "output_type": "stream",
     "text": [
      "Community Node Distribution(Hierarchical Clustering): Counter({8: 548, 10: 535, 2: 435, 1: 431, 3: 423, 0: 350, 4: 323, 12: 237, 14: 226, 7: 206, 9: 129, 11: 73, 6: 60, 5: 25, 13: 19, 15: 19})\n",
      "Modularity score for the partition: 0.83497475803\n"
     ]
    },
    {
     "data": {
      "image/png": "[encoded data removed]",
      "text/plain": [
       "<matplotlib.figure.Figure at 0x1133470d0>"
      ]
     },
     "metadata": {},
     "output_type": "display_data"
    }
   ],
   "source": [
    "import community\n",
    "import matplotlib.pyplot as plt\n",
    "%matplotlib inline\n",
    "plt.axis(\"off\")\n",
    "\n",
    "G_fb_small = nx.read_edgelist(\"facebook_combined.txt\", create_using = nx.Graph(), nodetype = int)\n",
    "# Community Detection with Hierarchical Clustering\n",
    "dendrogram = community.generate_dendrogram(G_fb_small)\n",
    "parts = community.partition_at_level(dendrogram, len(dendrogram) - 1) # get the largest possible communities\n",
    "values = [parts.get(node) for node in G_fb_small.nodes()]\n",
    "spring_pos = nx.spring_layout(G_fb_small)\n",
    "import collections\n",
    "print 'Community Node Distribution(Hierarchical Clustering):', collections.Counter(values)\n",
    "print 'Modularity score for the partition:', community.modularity(parts, G_fb_small)\n",
    "nx.draw_networkx(G_fb_small, pos = spring_pos, cmap = plt.get_cmap(\"jet\"), node_color = values, node_size = 35, with_labels = False)\n"
   ]
  },
  {
   "cell_type": "code",
   "execution_count": 131,
   "metadata": {
    "collapsed": false,
    "scrolled": true
   },
   "outputs": [
    {
     "name": "stdout",
     "output_type": "stream",
     "text": [
      "Community Node Distribution(Modularity Maximization): Counter({8: 548, 10: 535, 2: 435, 1: 431, 3: 423, 0: 350, 4: 323, 12: 237, 14: 226, 7: 206, 9: 129, 11: 73, 6: 60, 5: 25, 13: 19, 15: 19})\n",
      "Modularity score for the partition: 0.83497475803\n"
     ]
    },
    {
     "data": {
      "image/png": "[encoded data removed]",
      "text/plain": [
       "<matplotlib.figure.Figure at 0x13a7b3690>"
      ]
     },
     "metadata": {},
     "output_type": "display_data"
    }
   ],
   "source": [
    "import community\n",
    "import matplotlib.pyplot as plt\n",
    "%matplotlib inline\n",
    "plt.axis(\"off\")\n",
    "\n",
    "\n",
    "G_fb_small = nx.read_edgelist(\"facebook_combined.txt\", create_using = nx.Graph(), nodetype = int)\n",
    "# Community Detection with Modularity Maximization\n",
    "parts = community.best_partition(G_fb_small)\n",
    "values = [parts.get(node) for node in G_fb_small.nodes()]\n",
    "spring_pos = nx.spring_layout(G_fb_small)\n",
    "import collections\n",
    "print 'Community Node Distribution(Modularity Maximization):', collections.Counter(values)\n",
    "print 'Modularity score for the partition:', community.modularity(parts, G_fb_small)\n",
    "nx.draw_networkx(G_fb_small, pos = spring_pos, cmap = plt.get_cmap(\"jet\"), node_color = values, node_size = 35, with_labels = False)\n"
   ]
  },
  {
   "cell_type": "markdown",
   "metadata": {},
   "source": [
    "Modularity score lies between [-0.5, 1), so the final modularity score for the partition is pretty high, which is reasonable because the input graph is a ego network. Also the result of the two algorithms are the same, which means the two algorithms might have followed the same path of merging different groups of nodes."
   ]
  },
  {
   "cell_type": "markdown",
   "metadata": {},
   "source": [
    "### Friend recommendation on Facebook"
   ]
  },
  {
   "cell_type": "markdown",
   "metadata": {},
   "source": [
    "#### Background"
   ]
  },
  {
   "cell_type": "markdown",
   "metadata": {},
   "source": [
    "A friend recommendation algorithm takes a graph, which contains the information of connections for each user and a user as arguments, returns the list of persons that are not friends with the given user, sorted by the a recommendation score."
   ]
  },
  {
   "cell_type": "markdown",
   "metadata": {},
   "source": [
    "There are two general approaches to do recommendation:\n",
    "+ **Collaborative filtering** says that if you share interests with some users on some issues, then it's more likely you share interests with them on other issues as well. In the context of friend recommendation, for user A, we want to recommend the friends of friends to A, also, we could order them using some metrics, for example, number of common friends with A.\n",
    "+ **Content based filtering** considers the content of the things a user has interest in. In the context of friend recommendation, it would be characteristics of existing friends of a user, which is not as appropriate. This would be more suitable for recommending movies or products to buy.\n",
    "\n",
    "We'll use collaborative filtering in this section."
   ]
  },
  {
   "cell_type": "markdown",
   "metadata": {},
   "source": [
    "First, let's create a small example graph to illustrate the algorithms we'll be discussing in this section."
   ]
  },
  {
   "cell_type": "code",
   "execution_count": 132,
   "metadata": {
    "collapsed": false,
    "scrolled": true
   },
   "outputs": [
    {
     "data": {
      "image/png": "[encoded data removed]",
      "text/plain": [
       "<matplotlib.figure.Figure at 0x1241a30d0>"
      ]
     },
     "metadata": {},
     "output_type": "display_data"
    }
   ],
   "source": [
    "# Create The Romeo and Juliet graph\n",
    "rj = nx.Graph()\n",
    "\n",
    "# Add nodes\n",
    "characters = ['Nurse', 'Tybalt', 'Juliet', 'Capulet', 'Friar Laurence', 'Romeo', 'Benvolio', 'Montague', 'Escalus', 'Mercutio', 'Paris']\n",
    "for c in characters:\n",
    "    rj.add_node(c)\n",
    "    \n",
    "connections = [('Nurse', 'Juliet'), ('Juliet', 'Tybalt'), ('Juliet', 'Capulet'), ('Juliet', 'Friar Laurence'), ('Juliet', 'Romeo'), ('Tybalt', 'Capulet'), ('Romeo', 'Friar Laurence'), ('Romeo', 'Benvolio'), ('Romeo', 'Montague'), ('Romeo', 'Mercutio'), ('Benvolio', 'Montague'), ('Montague', 'Escalus'), ('Capulet', 'Escalus'), ('Capulet', 'Paris'), ('Escalus', 'Paris'), ('Escalus', 'Mercutio'), ('Mercutio', 'Paris')]\n",
    "for conn in connections:\n",
    "    rj.add_edge(conn[0], conn[1])\n",
    "\n",
    "plt.axis('off')\n",
    "nx.draw_networkx(rj, pos = nx.spring_layout(rj), node_size=1000, node_color='y')"
   ]
  },
  {
   "cell_type": "markdown",
   "metadata": {},
   "source": [
    "#### Recommend by number of common friends"
   ]
  },
  {
   "cell_type": "markdown",
   "metadata": {},
   "source": [
    "If a person Y has a common friend with you, then probably Y should be your friend too. And if Y has more than one common friends, then the probability of Y being your friend is even higher. Therefore, a straightforward way to do friend recommendation is recommend the people who have common friends with you, ordered by the number of common friends.\n",
    "\n",
    "Frist we'll define a function which returns all the friend of a given user"
   ]
  },
  {
   "cell_type": "code",
   "execution_count": 133,
   "metadata": {
    "collapsed": false
   },
   "outputs": [],
   "source": [
    "def friends(graph, user):\n",
    "    \"\"\"Returns a set of the friends of the given user, in the given graph.\n",
    "    The parameter 'user' is the string name of a person in the graph.\n",
    "    \"\"\"\n",
    "    return set(graph.neighbors(user))"
   ]
  },
  {
   "cell_type": "markdown",
   "metadata": {},
   "source": [
    "Then, we want to get the friends of friends, which is the list of users of potential recommendations."
   ]
  },
  {
   "cell_type": "code",
   "execution_count": 134,
   "metadata": {
    "collapsed": true
   },
   "outputs": [],
   "source": [
    "def friends_of_friends(graph, user):\n",
    "    \"\"\"Returns a set of friends of friends of the given user, in the given graph.\n",
    "    The result does not include the given user nor any of that user's friends.\n",
    "    \"\"\"\n",
    "    s = set([])\n",
    "    f = friends(graph, user)\n",
    "    for friend in f:\n",
    "        s = s.union(friends(graph, friend))\n",
    "    # remove user\n",
    "    s = s.difference(set([user]))\n",
    "    # remove the friends of the user\n",
    "    s = s.difference(f)\n",
    "    return s\n"
   ]
  },
  {
   "cell_type": "markdown",
   "metadata": {},
   "source": [
    "We'll also need a function that returns the common friends of two users, that way, we can cacluate the number of common friends that a user has with each person in the potential recommendation friend set."
   ]
  },
  {
   "cell_type": "code",
   "execution_count": 135,
   "metadata": {
    "collapsed": false
   },
   "outputs": [],
   "source": [
    "def common_friends(graph, user1, user2):\n",
    "    \"\"\"Returns the set of friends that user1 and user2 have in common.\"\"\"\n",
    "    return friends(graph, user1).intersection(friends(graph, user2))"
   ]
  },
  {
   "cell_type": "markdown",
   "metadata": {},
   "source": [
    "Given the above functions, we can define the function that returns a list sorted by number of common friends of a given user, and appear in alphabetical order if the number of common friends is the same."
   ]
  },
  {
   "cell_type": "code",
   "execution_count": 136,
   "metadata": {
    "collapsed": false
   },
   "outputs": [],
   "source": [
    "def number_of_common_friends_map(graph, user):\n",
    "    \"\"\"Returns a map from each user U to the number of friends U has in common with the given user.\n",
    "    The map keys are the users who have at least one friend in common with the\n",
    "    given user, and are neither the given user nor one of the given user's friends.\n",
    "    \"\"\"\n",
    "    m = {}\n",
    "    for f in friends_of_friends(graph, user):\n",
    "        m[f] = len(common_friends(graph, user, f))\n",
    "    return m\n",
    "\n",
    "def recommend_by_number_of_common_friends(graph, user):\n",
    "    \"\"\"Return a list of friend recommendations for the given user.\n",
    "    The friend recommendation list consists of names of people in the graph\n",
    "    who are not yet a friend of the given user.\n",
    "    The order of the list is determined by the number of common friends.\n",
    "    \"\"\"\n",
    "    m = number_of_common_friends_map(graph, user)\n",
    "    alphabetical_order = sorted(m.items(), key=lambda (k,v): k)\n",
    "    num_common = sorted(alphabetical_order, key=lambda (k,v): -v)\n",
    "    return map(lambda x:x[0], num_common)\n"
   ]
  },
  {
   "cell_type": "markdown",
   "metadata": {},
   "source": [
    "Now, we can find the recommendation friend list for Romeo:"
   ]
  },
  {
   "cell_type": "code",
   "execution_count": 137,
   "metadata": {
    "collapsed": false,
    "scrolled": false
   },
   "outputs": [
    {
     "name": "stdout",
     "output_type": "stream",
     "text": [
      "['Escalus', 'Capulet', 'Nurse', 'Paris', 'Tybalt']\n"
     ]
    }
   ],
   "source": [
    "print recommend_by_number_of_common_friends(rj, 'Romeo')"
   ]
  },
  {
   "cell_type": "markdown",
   "metadata": {},
   "source": [
    "#### Recommend by influence\n",
    "\n",
    "The recommendation process is assigning a score for each potential friend and order them by the score. Currently, the \n",
    "scoring function for a user as a friend for A is \n",
    "\n",
    "$score$(user) = num_common_friends(A, user)\n",
    "\n",
    "That is, each of the common friends will contribute 1 to the score.\n",
    "However, this scoring function has some drawbacks. If we want to recommend friends to A, B and C are two of the friends of A, B has 100000 friends while C has 10 friends. Then all the friends of B and C will have the same score of 1, which is not ideal. A better way to assign the score for a user would be 1/num_friends(friend) for each common friend with A. That is:\n",
    "\n",
    "$score$(user) = $\\sum_i^n{1/num\\_friends(x_i)}$, where $x_i$ is a common friend of user and A.\n"
   ]
  },
  {
   "cell_type": "code",
   "execution_count": 138,
   "metadata": {
    "collapsed": false
   },
   "outputs": [
    {
     "name": "stdout",
     "output_type": "stream",
     "text": [
      "Influence map for Mercutio:  {'Montague': 0.45, 'Capulet': 0.5833333333333333, 'Friar Laurence': 0.2, 'Benvolio': 0.2, 'Juliet': 0.2}\n",
      "Recomended friend for Mercutio:  ['Capulet', 'Montague', 'Benvolio', 'Friar Laurence', 'Juliet']\n"
     ]
    }
   ],
   "source": [
    "def influence_score(graph, user1, user2):\n",
    "    \"\"\"Returns the influnce score using the formula given above.\n",
    "    \"\"\"\n",
    "    common = common_friends(graph, user1, user2)\n",
    "    score = 0\n",
    "    for friend in common:\n",
    "        score += 1.0 / len(friends(graph, friend))\n",
    "    return score\n",
    "\n",
    "def influence_map(graph, user):\n",
    "    \"\"\"Returns a map from each user U to the friend influence, with respect to the given user.\n",
    "    The map only contains users who have at least one friend in common with U,\n",
    "    and are neither U nor one of U's friends.\n",
    "    See the assignment for the definition of friend influence.\n",
    "    \"\"\"\n",
    "    m = {}\n",
    "    for f in friends_of_friends(graph, user):\n",
    "        m[f] = influence_score(graph, user, f)\n",
    "    return m\n",
    "\n",
    "def recommend_by_influence(graph, user):\n",
    "    \"\"\"Return a list of friend recommendations for the given user.\n",
    "    The friend recommendation list consists of names of people in the graph\n",
    "    who are not yet a friend of the given user.\n",
    "    The order of the list is determined by the influence measurement.\n",
    "    \"\"\"\n",
    "    m = influence_map(graph, user)\n",
    "    alphabetical_order = sorted(m.items(), key=lambda (k,v): k)\n",
    "    num_common = sorted(alphabetical_order, key=lambda (k,v): -v)\n",
    "    return map(lambda x:x[0], num_common)\n",
    "\n",
    "print 'Influence map for Mercutio: ', influence_map(rj, \"Mercutio\")\n",
    "print 'Recomended friend for Mercutio: ', recommend_by_influence(rj, \"Mercutio\")"
   ]
  },
  {
   "cell_type": "markdown",
   "metadata": {},
   "source": [
    "#### How good are the recommendatinos\n",
    "\n",
    "The above two approaches are likely to give different results for the recommendation, then how can we measure which one is better? First, we can choose randomly an actual connection, F1 and F2. Then, remove them from the graph, and run recommendation algorithm for F1 and F2 respectively. We can use the rank of F2 in the recommendation list of F1 and F1 in the recommendation list of F2 as an indicator of quality of the recommendation and ideally they should appear on the top of the list. We should discard the result if one of them doesn't exist in the recommendation list of the other."
   ]
  },
  {
   "cell_type": "code",
   "execution_count": 139,
   "metadata": {
    "collapsed": false
   },
   "outputs": [
    {
     "name": "stdout",
     "output_type": "stream",
     "text": [
      "Average Rank for recommend by common friends:  2.7615\n",
      "Average Rank for recommend by influence:  2.387\n"
     ]
    }
   ],
   "source": [
    "import random\n",
    "def evaluate(graph, recommend):\n",
    "    \"\"\"Evaluate the recommendation algorithm using the method described above.\n",
    "    \"\"\"\n",
    "    edges = graph.edges()\n",
    "    score = 0\n",
    "    i = 0\n",
    "    NUM_ITER = 1000\n",
    "    while i < NUM_ITER:\n",
    "        # randomly choose an edge\n",
    "        edge = random.choice(edges)\n",
    "        # remove the edge from the graph\n",
    "        f1, f2 = edge[0], edge[1]\n",
    "        graph.remove_edge(f1, f2)\n",
    "        # common friends\n",
    "        l1 = recommend(graph, f1)\n",
    "        l2 = recommend(graph, f2)\n",
    "        i1 = l1.index(f2) + 1 if f2 in l1 else None\n",
    "        i2 = l2.index(f1) + 1 if f1 in l2 else None\n",
    "        graph.add_edge(f1, f2)\n",
    "        if i1 is None or i2 is None:\n",
    "            continue\n",
    "        i += 1\n",
    "        score += (i1 + i2) / 2.0\n",
    "    return score / NUM_ITER\n",
    "print 'Average Rank for recommend by common friends: ', evaluate(rj, recommend_by_number_of_common_friends)\n",
    "print 'Average Rank for recommend by influence: ', evaluate(rj, recommend_by_influence)\n"
   ]
  },
  {
   "cell_type": "markdown",
   "metadata": {},
   "source": [
    "A lower average rank means that the recommendation algorithm is better, therefore, recommend_by_influence performs better than recommend_by_number_of_common_friends. The result is reasonable because the weighted score considers the selectivity of a user of his/her friends, it's more likely the user actually knows the friend, and the connection is more important than the connections of a user that has many friends."
   ]
  },
  {
   "cell_type": "markdown",
   "metadata": {},
   "source": [
    "## References\n"
   ]
  },
  {
   "cell_type": "markdown",
   "metadata": {
    "collapsed": true
   },
   "source": [
    "+ [NetworkX Documentation](https://networkx.readthedocs.io/en/stable/index.html)\n",
    "+ [Community Detection in NetworkX](http://perso.crans.org/aynaud/communities/api.html)\n",
    "+ [Social networking with recommender systems](https://courses.cs.washington.edu/courses/cse140/13wi/homework/hw4/homework4.html#background)"
   ]
  }
 ],
 "metadata": {
  "kernelspec": {
   "display_name": "Python 2",
   "language": "python",
   "name": "python2"
  },
  "language_info": {
   "codemirror_mode": {
    "name": "ipython",
    "version": 2
   },
   "file_extension": ".py",
   "mimetype": "text/x-python",
   "name": "python",
   "nbconvert_exporter": "python",
   "pygments_lexer": "ipython2",
   "version": "2.7.12"
  }
 },
 "nbformat": 4,
 "nbformat_minor": 0
}
