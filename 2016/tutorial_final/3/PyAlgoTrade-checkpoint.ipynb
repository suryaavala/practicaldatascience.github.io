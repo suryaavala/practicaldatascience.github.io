{
 "cells": [
  {
   "cell_type": "markdown",
   "metadata": {
    "nbpresent": {
     "id": "c7b1080b-fa53-4dec-9139-5b1eea764119"
    }
   },
   "source": [
    "# PyAlgoTrade\n",
    "\n",
    "Introduction\n",
    "    PyAlgoTrade is a Python Algorithmic Trading Library mainly used to backtest any user devised strategy. It also provides support for paper trading and live trading. Quantitative estimation of the accuracy of new trading algorithms on historical market data is the prime use of PyAlgoTrade. In this tutorial we will learn how to use pyalgotrade, create a simple user strategy, understand the features using a simple strategy and explore features to backtest and analyse the same strategy.\n",
    "\n",
    "Getting PyalgoTrade\n",
    "    You can install PyAlgoTrade using pip like this: \n"
   ]
  },
  {
   "cell_type": "code",
   "execution_count": null,
   "metadata": {
    "collapsed": false
   },
   "outputs": [],
   "source": [
    "pip install pyalgotrade"
   ]
  },
  {
   "cell_type": "markdown",
   "metadata": {},
   "source": [
    "Main features\n",
    "1. Event driven.\n",
    "2. Supports Market, Limit, Stop and StopLimit orders. These are essentially when we would sell and buy.\n",
    "3. Supports Yahoo! Finance, Google Finance and NinjaTrader CSV files. These are the market feed data.\n",
    "4. Bitcoin trading support through Bitstamp.\n",
    "5. Technical indicators and filters like SMA, WMA, EMA, RSI, Bollinger Bands, Hurst exponent and others.\n",
    "6. Performance metrics like Sharpe ratio, trade and drawdown analysis.\n",
    "7. Handling Twitter events in realtime.\n",
    "8. Event profiler.\n",
    "\n",
    "PyAlgoTrade has 6 main components:\n",
    "\n",
    "Strategies\n",
    "These are classes which contain the business logic of the trading algorithm: buying time, selling time etc...\n",
    "\n",
    "Feeds\n",
    "These are data providing abstractions. It can be a CSV feed that loads bars to a strategy or a Twitter feed that allows incorporating Twitter events into trading decisions. This data is the one on which the business logic is written.\n",
    "\n",
    "Brokers\n",
    "This is the executing section which carries out the orders.\n",
    "\n",
    "DataSeries\n",
    "A data series is an abstraction used to manage time series data.\n",
    "\n",
    "Technicals\n",
    "These are a set of filters that you use to make calculations on top of DataSeries. For example SMA (Simple Moving Average), RSI (Relative Strength Index), etc. These filters are modeled as DataSeries decorators.\n",
    "\n",
    "Optimizer\n",
    "These are a set of classes that allow you to distribute backtesting among different computers, or different processes running in the same computer, or a combination of both. They make horizontal scaling easy."
   ]
  },
  {
   "cell_type": "markdown",
   "metadata": {},
   "source": [
    "# Getting Data\n",
    "\n",
    "The first thing that we’ll need to test our strategies is some data. Let’s use Mirosoft’s stock prices for year 2000, which we’ll download with the following command:"
   ]
  },
  {
   "cell_type": "code",
   "execution_count": null,
   "metadata": {
    "collapsed": false,
    "nbpresent": {
     "id": "42de6824-d48f-46b7-872d-6385c0dc7b12"
    }
   },
   "outputs": [],
   "source": [
    "from pyalgotrade.tools import yahoofinance\n",
    "yahoofinance.download_daily_bars('msft', 2000, 'msft-2000.csv')"
   ]
  },
  {
   "cell_type": "code",
   "execution_count": null,
   "metadata": {
    "collapsed": true,
    "nbpresent": {
     "id": "caa8eec9-95d3-4ae8-8f77-7db0dbbb915b"
    }
   },
   "outputs": [],
   "source": [
    "The pyalgotrade.tools.yahoofinance package downloads CSV formatted data from Yahoo! Finance. The msft-2000.csv file should look like this:"
   ]
  },
  {
   "cell_type": "code",
   "execution_count": null,
   "metadata": {
    "collapsed": true,
    "nbpresent": {
     "id": "0b7e6252-47d1-4681-bd6d-1b432e7c7ca0"
    }
   },
   "outputs": [],
   "source": [
    "Date,Open,High,Low,Close,Volume,Adj Close\n",
    "2000-12-29,30.87,31.31,28.69,29.06,31655500,28.35\n",
    "2000-12-28,30.56,31.12,30.37,31.06,25055600,30.30\n",
    "2000-12-27,30.37,31.06,29.37,30.69,26441700,29.94\n",
    ".\n",
    ".\n",
    "2000-01-04,115.50,118.62,105.00,107.69,116850000,26.26\n",
    "2000-01-03,124.62,125.19,111.62,118.12,98122000,28.81"
   ]
  },
  {
   "cell_type": "markdown",
   "metadata": {},
   "source": [
    "# Creating first strategy\n",
    "\n",
    "Presented below is an illustration of the simple moving average algorithm. This solves the purpose of understanding the architecture and flow of the PyAlgoTrade module. PyAlgoTrade provides us with a skeleton of a base strategy in the form of BaseStrategy class. The class has the following format:\n",
    "\n",
    "class pyalgotrade.strategy.BaseStrategy(barFeed, broker)\n",
    "\n",
    "Parameters:\t\n",
    "barFeed (pyalgotrade.barfeed.BaseBarFeed.) – The bar feed that will supply the bars.\n",
    "broker (pyalgotrade.broker.Broker.) – The broker that will handle orders.\n",
    "\n",
    "Methods:\n",
    "onBars(bars)\n",
    "Override (mandatory) to get notified when new bars are available. The default implementation raises an Exception.\n",
    "This is the method to override to enter your trading logic and enter/exit positions.\n",
    "Parameters:\tbars (pyalgotrade.bar.Bars.) – The current bars.\n",
    "\n",
    "run()\n",
    "Call once (and only once) to run the strategy.\n",
    "\n",
    "stop()\n",
    "Stops a running strategy.\n",
    "\n",
    "onStart()\n",
    "Override (optional) to get notified when the strategy starts executing. The default implementation is empty.\n",
    "\n",
    "onFinish(bars)\n",
    "Override (optional) to get notified when the strategy finished executing. The default implementation is empty.\n",
    "Parameters:\tbars (pyalgotrade.bar.Bars.) – The last bars processed.\n",
    "\n",
    "These are the basic functions in the BaseStrategy class which contains a bunch of functions, which we will capture as we go ahead. There is also a class called BacktestStrategy explicitly inherited from BaseStrategy and useful in backtesting a trading logic."
   ]
  },
  {
   "cell_type": "code",
   "execution_count": null,
   "metadata": {
    "collapsed": true
   },
   "outputs": [],
   "source": [
    "from pyalgotrade import strategy\n",
    "from pyalgotrade.barfeed import yahoofeed\n",
    "from pyalgotrade.technical import ma\n",
    "\n",
    "class FirstStrategy(strategy.BacktestingStrategy):\n",
    "    def __init__(self, feed, instrument):\n",
    "        super(FirstStrategy, self).__init__(feed)\n",
    "        self.__sma = ma.SMA(feed[instrument].getCloseDataSeries(), 10)\n",
    "        self.__instrument = instrument\n",
    "\n",
    "    def onBars(self, bars):\n",
    "        bar = bars[self.__instrument]\n",
    "        self.info(\"%s %s\" % (bar.getClose(), self.__sma[-1]))"
   ]
  },
  {
   "cell_type": "markdown",
   "metadata": {},
   "source": [
    "To test our strategy let us load the data for Microsoft and check the output. "
   ]
  },
  {
   "cell_type": "code",
   "execution_count": null,
   "metadata": {
    "collapsed": false
   },
   "outputs": [],
   "source": [
    "feed = yahoofeed.Feed()\n",
    "feed.addBarsFromCSV(\"msft\", \"msft-2000.csv\")\n",
    "\n",
    "myStrategy = FirstStrategy(feed, \"msft\")\n",
    "myStrategy.run()"
   ]
  },
  {
   "cell_type": "markdown",
   "metadata": {},
   "source": [
    "In the above code we declare a new strategy. We need to override the onBars callback which gets fired whenever a feed is available. We load the feeds from a csv file and then run it with our strategy which for now just prints the slosing prices and simple moving averages.\n",
    "\n",
    "To get a brief insight into the short and long positions of trading, the different types of orders which can be placed, here is a good start. This will help us understand the APIs better.\n",
    "\n",
    "http://www.investopedia.com/ask/answers/100314/whats-difference-between-long-and-short-position-market.asp\n",
    "http://www.investopedia.com/university/intro-to-order-types/limit-orders.asp\n",
    "\n",
    "Let’s move on with a simple strategy, this time simulating actual trading. The idea is very simple:\n",
    "\n",
    "If the adjusted close price is above the SMA() for the given period we enter a long position (we place a buy market order). If a long position is in place, and the adjusted close price drops below the SMA() we exit the long position (we place a sell market order). We are defining the rules of trading, our buying and selling strategies based on SMA values in this part of the tutorial. This is just an illustration, ofcourse there are trading algorithms which make use of much more fancy parameters and do a bunch of computations before deciding."
   ]
  },
  {
   "cell_type": "code",
   "execution_count": 1,
   "metadata": {
    "collapsed": false
   },
   "outputs": [
    {
     "name": "stderr",
     "output_type": "stream",
     "text": [
      "2000-01-18 00:00:00 strategy [INFO] BUY at $38.22\n",
      "2000-01-20 00:00:00 strategy [INFO] SELL at $36.59\n",
      "2000-02-02 00:00:00 strategy [INFO] BUY at $35.01\n",
      "2000-02-03 00:00:00 strategy [INFO] SELL at $34.88\n",
      "2000-02-04 00:00:00 strategy [INFO] BUY at $35.67\n",
      "2000-02-14 00:00:00 strategy [INFO] SELL at $34.60\n",
      "2000-03-06 00:00:00 strategy [INFO] BUY at $32.81\n",
      "2000-03-07 00:00:00 strategy [INFO] SELL at $32.86\n",
      "2000-03-08 00:00:00 strategy [INFO] BUY at $32.06\n",
      "2000-03-15 00:00:00 strategy [INFO] SELL at $32.32\n",
      "2000-03-20 00:00:00 strategy [INFO] BUY at $33.75\n",
      "2000-03-31 00:00:00 strategy [INFO] SELL at $36.23\n",
      "2000-04-03 00:00:00 strategy [INFO] BUY at $32.28\n",
      "2000-04-04 00:00:00 strategy [INFO] SELL at $31.30\n",
      "2000-05-02 00:00:00 strategy [INFO] BUY at $24.89\n",
      "2000-05-03 00:00:00 strategy [INFO] SELL at $24.05\n",
      "2000-05-08 00:00:00 strategy [INFO] BUY at $24.25\n",
      "2000-05-09 00:00:00 strategy [INFO] SELL at $23.99\n",
      "2000-05-16 00:00:00 strategy [INFO] BUY at $23.78\n",
      "2000-05-18 00:00:00 strategy [INFO] SELL at $23.26\n",
      "2000-06-02 00:00:00 strategy [INFO] BUY at $22.56\n",
      "2000-06-30 00:00:00 strategy [INFO] SELL at $26.34\n",
      "2000-07-03 00:00:00 strategy [INFO] BUY at $27.24\n",
      "2000-07-06 00:00:00 strategy [INFO] SELL at $26.96\n",
      "2000-07-07 00:00:00 strategy [INFO] BUY at $27.78\n",
      "2000-07-11 00:00:00 strategy [INFO] SELL at $26.94\n",
      "2000-07-13 00:00:00 strategy [INFO] BUY at $26.94\n",
      "2000-07-17 00:00:00 strategy [INFO] SELL at $26.75\n",
      "2000-08-04 00:00:00 strategy [INFO] BUY at $23.73\n",
      "2000-08-07 00:00:00 strategy [INFO] SELL at $23.99\n",
      "2000-08-08 00:00:00 strategy [INFO] BUY at $23.95\n",
      "2000-08-17 00:00:00 strategy [INFO] SELL at $24.31\n",
      "2000-08-29 00:00:00 strategy [INFO] BUY at $24.33\n",
      "2000-08-30 00:00:00 strategy [INFO] SELL at $24.16\n",
      "2000-10-20 00:00:00 strategy [INFO] BUY at $20.96\n",
      "2000-11-13 00:00:00 strategy [INFO] SELL at $22.79\n",
      "2000-11-16 00:00:00 strategy [INFO] BUY at $23.73\n",
      "2000-11-17 00:00:00 strategy [INFO] SELL at $23.73\n",
      "2000-11-27 00:00:00 strategy [INFO] BUY at $24.42\n",
      "2000-11-29 00:00:00 strategy [INFO] SELL at $22.84\n",
      "2000-12-13 00:00:00 strategy [INFO] BUY at $20.68\n",
      "2000-12-15 00:00:00 strategy [INFO] SELL at $17.45\n"
     ]
    },
    {
     "name": "stdout",
     "output_type": "stream",
     "text": [
      "Final value: $973.14\n"
     ]
    }
   ],
   "source": [
    "from pyalgotrade import strategy\n",
    "from pyalgotrade.barfeed import yahoofeed\n",
    "from pyalgotrade.technical import ma\n",
    "\n",
    "class FirstStrategy(strategy.BacktestingStrategy):\n",
    "    def __init__(self, feed, instrument, smaPeriod):\n",
    "        super(FirstStrategy, self).__init__(feed, 1000)\n",
    "        self.__position = None\n",
    "        self.__instrument = instrument\n",
    "        self.setUseAdjustedValues(True)\n",
    "        self.__sma = ma.SMA(feed[instrument].getPriceDataSeries(), smaPeriod)\n",
    "\n",
    "    def getSMA(self):\n",
    "        return self.__sma\n",
    "    \n",
    "    def onEnterOk(self, position):\n",
    "        execInfo = position.getEntryOrder().getExecutionInfo()\n",
    "        self.info(\"BUY at $%.2f\" % (execInfo.getPrice()))\n",
    "\n",
    "    def onEnterCanceled(self, position):\n",
    "        self.__position = None\n",
    "\n",
    "    def onExitOk(self, position):\n",
    "        execInfo = position.getExitOrder().getExecutionInfo()\n",
    "        self.info(\"SELL at $%.2f\" % (execInfo.getPrice()))\n",
    "        self.__position = None\n",
    "\n",
    "    def onExitCanceled(self, position):\n",
    "        self.__position.exitMarket()\n",
    "\n",
    "    def onBars(self, bars):\n",
    "        if self.__sma[-1] is None:\n",
    "            return\n",
    "\n",
    "        bar = bars[self.__instrument]\n",
    "        if self.__position is None:\n",
    "            if bar.getPrice() > self.__sma[-1]:\n",
    "                self.__position = self.enterLong(self.__instrument, 10, True)\n",
    "        elif bar.getPrice() < self.__sma[-1] and not self.__position.exitActive():\n",
    "            self.__position.exitMarket()\n",
    "\n",
    "\n",
    "def run_strategy(feed, instrument, smaPeriod):\n",
    "    first_strategy = FirstStrategy(feed, instrument, smaPeriod)\n",
    "    first_strategy.run()\n",
    "    print \"Final value: $%.2f\" % first_strategy.getBroker().getEquity()\n",
    "    return first_strategy\n",
    "\n",
    "feed = yahoofeed.Feed()\n",
    "feed.addBarsFromCSV(\"msft\", \"msft-2000.csv\")\n",
    "\n",
    "first_strategy = run_strategy(feed, \"msft\", 10)"
   ]
  },
  {
   "cell_type": "markdown",
   "metadata": {},
   "source": [
    "Technicals:\n",
    "    \n",
    "Technicals will return None when the value can’t be calculated at a given time.\n",
    "\n",
    "Technicals can be cascaded. That is because they’re modeled as DataSeries as well. An example below combines RSI and SMA filters. These are parameters which will be used in dedcision making."
   ]
  },
  {
   "cell_type": "code",
   "execution_count": null,
   "metadata": {
    "collapsed": true
   },
   "outputs": [],
   "source": [
    "def __init__(self, feed, instrument):\n",
    "    super(MyStrategy, self).__init__(feed)\n",
    "    self.__rsi = rsi.RSI(feed[instrument].getCloseDataSeries(), 14)\n",
    "    self.__sma = ma.SMA(self.__rsi, 15)\n",
    "    self.__instrument = instrument"
   ]
  },
  {
   "cell_type": "markdown",
   "metadata": {},
   "source": [
    "# Optimization\n",
    "\n",
    "Trading algorithm are computationally intensive considering the volume of data they work on. More importantly they need to be very fast in procecssing the data and giving out results. Also depending on the strategy we choose, and the parameters we use for the strategy there would be enormous possibilities. We would want to do processing of the entire data on all these possibilties. This is when we think of parallel execution. \n",
    "\n",
    "Fortunately, Pyalgotrade has an option to parallelize our algorithm by setting up a server, which manages the intense computation by distributing it across multiple workers. The server is configured to test a strategy for different set of parameter combinations (of the order of 10^6). It waits for worker processes to subscribe for some load. Many or one workers (other machines) can subscribe to the server, which assigns a part of the computation (say some subset of parameter range). \n",
    "\n",
    "Once the workers have completed computation, they share their results with the server which aggregates them and filters out the best combination for the chosen strategy."
   ]
  },
  {
   "cell_type": "code",
   "execution_count": null,
   "metadata": {
    "collapsed": false
   },
   "outputs": [],
   "source": [
    "from pyalgotrade.tools import yahoofinance\n",
    "yahoofinance.download_daily_bars('msft', 2009, 'msft-2009.csv')\n",
    "yahoofinance.download_daily_bars('msft', 2010, 'msft-2010.csv')\n",
    "yahoofinance.download_daily_bars('msft', 2011, 'msft-2011.csv')"
   ]
  },
  {
   "cell_type": "code",
   "execution_count": null,
   "metadata": {
    "collapsed": false
   },
   "outputs": [],
   "source": [
    "import itertools\n",
    "from pyalgotrade.technical import ma\n",
    "from pyalgotrade.optimizer import server\n",
    "from pyalgotrade.technical import rsi\n",
    "\n",
    "def parameters_generator():\n",
    "    instrument = \"msft\"\n",
    "    rsiPeriod = range(2, 11)\n",
    "    entrySMA = range(150, 251)\n",
    "    exitSMA = range(5, 16)\n",
    "    return itertools.product(instrument, entrySMA, exitSMA, rsiPeriod)\n",
    "\n",
    "feed = yahoofeed.Feed()\n",
    "feed.addBarsFromCSV(\"msft\", \"msft-2009.csv\")\n",
    "feed.addBarsFromCSV(\"msft\", \"msft-2010.csv\")\n",
    "feed.addBarsFromCSV(\"msft\", \"msft-2011.csv\")\n",
    "\n",
    "server.serve(feed, parameters_generator(), 'localhost', 5000)"
   ]
  },
  {
   "cell_type": "markdown",
   "metadata": {},
   "source": [
    "The above sections of code downloads necessary files for 3 years worth of data and configures a server to generate 100x10x10 = 10000 possible configurations to be tested on that data. It waits on the port 5000 for active workers which request a subset of these parameters for a strategy they would be testing."
   ]
  },
  {
   "cell_type": "code",
   "execution_count": null,
   "metadata": {
    "collapsed": true
   },
   "outputs": [],
   "source": [
    "from pyalgotrade.optimizer import worker\n",
    "\n",
    "worker.run(FooStrategy, 'localhost', 5000) #FooStrategy is just a place holder"
   ]
  },
  {
   "cell_type": "markdown",
   "metadata": {},
   "source": [
    "The above code registers the worker with the above created server for some strategy called 'FooStrategy'."
   ]
  },
  {
   "cell_type": "markdown",
   "metadata": {},
   "source": [
    "# Analyzing a strategy\n",
    "\n",
    "Strategy analyzers provide an extensible way to attach different calculations to strategy executions. It surfaces routines to extract profit/loss statements, commissions, evaluate returns using which we could converge to optimal levels.\n",
    "\n",
    "Different investors use moving averages for different reasons. Some use them as their primary analytical tool, while others simply use them as a confidence builder to back up their investment decisions. A crossover is the most basic type of signal and is favored among many traders because it removes all emotion. The most basic type of crossover is when the price of an asset moves from one side of a moving average and closes on the other. Price crossovers are used by traders to identify shifts in momentum and can be used as a basic entry or exit strategy.\n",
    "\n"
   ]
  },
  {
   "cell_type": "code",
   "execution_count": null,
   "metadata": {
    "collapsed": true
   },
   "outputs": [],
   "source": [
    "from pyalgotrade import strategy\n",
    "from pyalgotrade.technical import ma\n",
    "from pyalgotrade.technical import cross\n",
    "\n",
    "class SMACrossOver(strategy.BacktestingStrategy):\n",
    "    def __init__(self, feed, instrument, smaPeriod):\n",
    "        super(SMACrossOver, self).__init__(feed)\n",
    "        self.__instrument = instrument\n",
    "        self.__position = None\n",
    "        self.setUseAdjustedValues(True)\n",
    "        self.__prices = feed[instrument].getPriceDataSeries()\n",
    "        self.__sma = ma.SMA(self.__prices, smaPeriod)\n",
    "\n",
    "    def getSMA(self):\n",
    "        return self.__sma\n",
    "\n",
    "    def onEnterCanceled(self, position):\n",
    "        self.__position = None\n",
    "\n",
    "    def onExitOk(self, position):\n",
    "        self.__position = None\n",
    "\n",
    "    def onExitCanceled(self, position):\n",
    "        self.__position.exitMarket()\n",
    "\n",
    "    def onBars(self, bars):\n",
    "        if self.__position is None:\n",
    "            if cross.cross_above(self.__prices, self.__sma) > 0:\n",
    "                shares = int(self.getBroker().getCash() * 0.75 / bars[self.__instrument].getPrice()) #compute the number of shares with which you would want to enter a long position\n",
    "                self.__position = self.enterLong(self.__instrument, shares, True)\n",
    "        elif not self.__position.exitActive() and cross.cross_below(self.__prices, self.__sma) > 0:\n",
    "            self.__position.exitMarket()"
   ]
  },
  {
   "cell_type": "code",
   "execution_count": null,
   "metadata": {
    "collapsed": false
   },
   "outputs": [],
   "source": [
    "from pyalgotrade.barfeed import yahoofeed\n",
    "from pyalgotrade.stratanalyzer import returns\n",
    "from pyalgotrade.stratanalyzer import sharpe\n",
    "from pyalgotrade.stratanalyzer import drawdown\n",
    "from pyalgotrade.stratanalyzer import trades\n",
    "\n",
    "feed = yahoofeed.Feed()\n",
    "feed.addBarsFromCSV(\"msft\", \"msft-2000.csv\")\n",
    "\n",
    "myStrategy = SMACrossOver(feed, \"msft\", 20)\n",
    "\n",
    "retAnalyzer = returns.Returns()\n",
    "myStrategy.attachAnalyzer(retAnalyzer)\n",
    "drawDownAnalyzer = drawdown.DrawDown()\n",
    "myStrategy.attachAnalyzer(drawDownAnalyzer)\n",
    "tradesAnalyzer = trades.Trades()\n",
    "myStrategy.attachAnalyzer(tradesAnalyzer)\n",
    "\n",
    "myStrategy.run()\n",
    "\n",
    "print \"Final portfolio value: \" + str(myStrategy.getResult())\n",
    "print \"Cumulative returns: \" + str(retAnalyzer.getCumulativeReturns()[-1] * 100)\n",
    "print \"Longest drawdown duration: \" + str((drawDownAnalyzer.getLongestDrawDownDuration()))"
   ]
  },
  {
   "cell_type": "markdown",
   "metadata": {},
   "source": [
    "# Visualization\n",
    "\n",
    "The pyalgotrader also provides a plotter to capture the changes in any kind of matrices. When the below code is run, a plotter window pops up with the requested graphs generated. It also has options to zoom-in, copy etc.. for a thorough analysis.\n"
   ]
  },
  {
   "cell_type": "code",
   "execution_count": null,
   "metadata": {
    "collapsed": false
   },
   "outputs": [],
   "source": [
    "from pyalgotrade import plotter\n",
    "from pyalgotrade.stratanalyzer import returns\n",
    "\n",
    "returnsAnalyzer = returns.Returns()\n",
    "\n",
    "first_strategy.run()\n",
    "first_strategy.info(\"Final portfolio value: $%.2f\" % first_strategy.getResult())\n",
    "\n",
    "first_strategy.attachAnalyzer(returnsAnalyzer)\n",
    "\n",
    "plt = plotter.StrategyPlotter(first_strategy)\n",
    "plt.getInstrumentSubplot(\"msft\").addDataSeries(\"SMA\", first_strategy.getSMA())\n",
    "plt.getOrCreateSubplot(\"returns\").addDataSeries(\"Simple returns\", returnsAnalyzer.getReturns())\n",
    "\n",
    "plt.plot()"
   ]
  },
  {
   "cell_type": "markdown",
   "metadata": {},
   "source": [
    "Please note that the visualizer is still in the raw form. Since this library is new and undergoing changes there might be chances when the visualizer does not pick up data. The work around code for that is very straighforward. We can just use the SMA values from first_strategy.getSMA() and use matpoltlib to generate our own visualizations. The graph might come as a pop up window please check for that."
   ]
  },
  {
   "cell_type": "code",
   "execution_count": 4,
   "metadata": {
    "collapsed": false
   },
   "outputs": [],
   "source": [
    "import matplotlib.pyplot as plt\n",
    "\n",
    "smas = []\n",
    "for sma in first_strategy.getSMA():\n",
    "    if sma!=None:\n",
    "        smas.append(sma)\n",
    "        \n",
    "plt.hist(smas, 50, normed=1, facecolor='green', alpha=0.75)\n",
    "plt.xlabel('sma values')\n",
    "plt.show()\n"
   ]
  },
  {
   "cell_type": "markdown",
   "metadata": {
    "collapsed": true
   },
   "source": [
    "# Summary and references\n",
    "\n",
    "So we have learnt to write strategies, analyse them and view their performance on a graph using Pyalgotrade! Use the following links to get a better understanding of the library, the various trading algorithms and strategies avaialbe\n",
    "\n",
    "1. http://gbeced.github.io/pyalgotrade/docs/v0.18/html/code.html\n",
    "2. http://www.investopedia.com/ask/answers/100314/whats-difference-between-long-and-short-position-market.asp\n",
    "3. http://www.investopedia.com/university/movingaverage/movingaverages4.asp\n",
    "4. https://finance.yahoo.com/\n",
    "5. http://www.investopedia.com/university/beginner-trading-fundamentals/"
   ]
  }
 ],
 "metadata": {
  "anaconda-cloud": {},
  "kernelspec": {
   "display_name": "Python [Root]",
   "language": "python",
   "name": "Python [Root]"
  },
  "language_info": {
   "codemirror_mode": {
    "name": "ipython",
    "version": 2
   },
   "file_extension": ".py",
   "mimetype": "text/x-python",
   "name": "python",
   "nbconvert_exporter": "python",
   "pygments_lexer": "ipython2",
   "version": "2.7.12"
  }
 },
 "nbformat": 4,
 "nbformat_minor": 0
}
