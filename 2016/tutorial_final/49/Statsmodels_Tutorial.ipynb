{
 "cells": [
  {
   "cell_type": "markdown",
   "metadata": {},
   "source": [
    "# Introduction on Statsmodels\n",
    "\n",
    "This tutorial will introduce the basics of using statmodels, a Python module geared towards the entire pipeline of statistical analysis after data collection. Similar to R (in functionality and, occasionally, syntax), Statsmodels allows for users to quickly conduct exploratory data analysis, statistical models, perform hypothesis test, and build clean visualizations with minimal code.\n"
   ]
  },
  {
   "cell_type": "markdown",
   "metadata": {},
   "source": [
    "## Tutorial Contents\n",
    "\n",
    "In order to facilitate learning some basic functionalities, we will use a couple datasets from the Rdataset Repository as well as artificial datasets. The first one we will be looking at is called \"Cars93\", which takes a look at a sample of the cars on sale in the US in 1993.\n",
    "\n",
    "We will cover these following topics:\n",
    "\n",
    "1. [How to install Statsmodels](#How to install)\n",
    "2. [Different methods of loading data](#Different methods of loading data)\n",
    "3. [Exploratory Data Analysis and Diagnostic Checks](#EDA)\n",
    "4. [Hypothesis Testing](#Hypothesis Testing)\n",
    "5. [Dealing with multicolinearity](#Multicolinearity)\n",
    "6. [Ordinary Least Squares versus Robust Linear Models (OLM vs RLM)](#RLM) \n",
    "7. [Multiple Linear Regression](#Multiple Linear Regression and ANOVA)\n",
    "8. [Additional References](#Additional Resources)\n",
    "\n",
    "We will assume that you have sufficient knowledge about statistical analysis. The main purpose of the tutorial is <b>not</b> to teach about probability theory, inference or regression, but <b>how to effectively use this module to conduct statistical analysis</b>. If you want to go into some of the theory, please visit Zico Kolter's 15-388 [website](http://www.datasciencecourse.org).\n"
   ]
  },
  {
   "cell_type": "markdown",
   "metadata": {},
   "source": [
    "<a id='How to install'></a>\n",
    "## How to install\n",
    "\n",
    "Before we start doing analysis on the cars, we must download the Statsmodels module and its dependencies. We can install Statsmodel using setuptools:\n",
    "\n",
    "```\n",
    "easy_install -U statsmodels\n",
    "```\n",
    "\n",
    "That should be it! (Make sure you have installed Python 2.6 + ,numpy, scipy, pandas, and patsy if you are not using Jupyter).\n",
    "\n",
    "Make sure the installation worked by running the following commands:"
   ]
  },
  {
   "cell_type": "code",
   "execution_count": 1,
   "metadata": {
    "collapsed": true
   },
   "outputs": [],
   "source": [
    "%matplotlib inline\n",
    "import statsmodels.formula.api as smf\n",
    "import statsmodels.api as sm\n",
    "import numpy as np\n",
    "import pandas as pd\n",
    "import scipy as sp\n",
    "import statsmodels.stats.api as sms\n",
    "from statsmodels.compat import lzip"
   ]
  },
  {
   "cell_type": "markdown",
   "metadata": {},
   "source": [
    "As a side note, we imported both `statsmodels.formula.api` and `statsmodels.api` because the former allow users the option to fit statistical models using R-style formulas. The latter is still necessary as not all functions at this time can be represented in such a way. In this tutorial, I will present the R-style formulas when possible to let readers know there are two options. However I will stick with the standard non-R way as the default."
   ]
  },
  {
   "cell_type": "markdown",
   "metadata": {},
   "source": [
    "<a id='Different methods of loading data'></a>\n",
    "## Different Methods of Loading Data\n",
    "\n",
    "It is possible to load in any local .csv file by using `read_csv` (make sure the file is in the same working directory!). There is however a Statsmodels function that allows us to directly download the specific dataset in the Rdatasets repository (returns a Dataset instance):"
   ]
  },
  {
   "cell_type": "code",
   "execution_count": 2,
   "metadata": {
    "collapsed": false
   },
   "outputs": [
    {
     "data": {
      "text/html": [
       "<div>\n",
       "<table border=\"1\" class=\"dataframe\">\n",
       "  <thead>\n",
       "    <tr style=\"text-align: right;\">\n",
       "      <th></th>\n",
       "      <th>Manufacturer</th>\n",
       "      <th>Model</th>\n",
       "      <th>Type</th>\n",
       "      <th>Min.Price</th>\n",
       "      <th>Price</th>\n",
       "      <th>Max.Price</th>\n",
       "      <th>MPG.city</th>\n",
       "      <th>MPG.highway</th>\n",
       "      <th>AirBags</th>\n",
       "      <th>DriveTrain</th>\n",
       "      <th>...</th>\n",
       "      <th>Passengers</th>\n",
       "      <th>Length</th>\n",
       "      <th>Wheelbase</th>\n",
       "      <th>Width</th>\n",
       "      <th>Turn.circle</th>\n",
       "      <th>Rear.seat.room</th>\n",
       "      <th>Luggage.room</th>\n",
       "      <th>Weight</th>\n",
       "      <th>Origin</th>\n",
       "      <th>Make</th>\n",
       "    </tr>\n",
       "  </thead>\n",
       "  <tbody>\n",
       "    <tr>\n",
       "      <th>0</th>\n",
       "      <td>Acura</td>\n",
       "      <td>Integra</td>\n",
       "      <td>Small</td>\n",
       "      <td>12.9</td>\n",
       "      <td>15.9</td>\n",
       "      <td>18.8</td>\n",
       "      <td>25</td>\n",
       "      <td>31</td>\n",
       "      <td>None</td>\n",
       "      <td>Front</td>\n",
       "      <td>...</td>\n",
       "      <td>5</td>\n",
       "      <td>177</td>\n",
       "      <td>102</td>\n",
       "      <td>68</td>\n",
       "      <td>37</td>\n",
       "      <td>26.5</td>\n",
       "      <td>11.0</td>\n",
       "      <td>2705</td>\n",
       "      <td>non-USA</td>\n",
       "      <td>Acura Integra</td>\n",
       "    </tr>\n",
       "    <tr>\n",
       "      <th>1</th>\n",
       "      <td>Acura</td>\n",
       "      <td>Legend</td>\n",
       "      <td>Midsize</td>\n",
       "      <td>29.2</td>\n",
       "      <td>33.9</td>\n",
       "      <td>38.7</td>\n",
       "      <td>18</td>\n",
       "      <td>25</td>\n",
       "      <td>Driver &amp; Passenger</td>\n",
       "      <td>Front</td>\n",
       "      <td>...</td>\n",
       "      <td>5</td>\n",
       "      <td>195</td>\n",
       "      <td>115</td>\n",
       "      <td>71</td>\n",
       "      <td>38</td>\n",
       "      <td>30.0</td>\n",
       "      <td>15.0</td>\n",
       "      <td>3560</td>\n",
       "      <td>non-USA</td>\n",
       "      <td>Acura Legend</td>\n",
       "    </tr>\n",
       "    <tr>\n",
       "      <th>2</th>\n",
       "      <td>Audi</td>\n",
       "      <td>90</td>\n",
       "      <td>Compact</td>\n",
       "      <td>25.9</td>\n",
       "      <td>29.1</td>\n",
       "      <td>32.3</td>\n",
       "      <td>20</td>\n",
       "      <td>26</td>\n",
       "      <td>Driver only</td>\n",
       "      <td>Front</td>\n",
       "      <td>...</td>\n",
       "      <td>5</td>\n",
       "      <td>180</td>\n",
       "      <td>102</td>\n",
       "      <td>67</td>\n",
       "      <td>37</td>\n",
       "      <td>28.0</td>\n",
       "      <td>14.0</td>\n",
       "      <td>3375</td>\n",
       "      <td>non-USA</td>\n",
       "      <td>Audi 90</td>\n",
       "    </tr>\n",
       "    <tr>\n",
       "      <th>3</th>\n",
       "      <td>Audi</td>\n",
       "      <td>100</td>\n",
       "      <td>Midsize</td>\n",
       "      <td>30.8</td>\n",
       "      <td>37.7</td>\n",
       "      <td>44.6</td>\n",
       "      <td>19</td>\n",
       "      <td>26</td>\n",
       "      <td>Driver &amp; Passenger</td>\n",
       "      <td>Front</td>\n",
       "      <td>...</td>\n",
       "      <td>6</td>\n",
       "      <td>193</td>\n",
       "      <td>106</td>\n",
       "      <td>70</td>\n",
       "      <td>37</td>\n",
       "      <td>31.0</td>\n",
       "      <td>17.0</td>\n",
       "      <td>3405</td>\n",
       "      <td>non-USA</td>\n",
       "      <td>Audi 100</td>\n",
       "    </tr>\n",
       "    <tr>\n",
       "      <th>4</th>\n",
       "      <td>BMW</td>\n",
       "      <td>535i</td>\n",
       "      <td>Midsize</td>\n",
       "      <td>23.7</td>\n",
       "      <td>30.0</td>\n",
       "      <td>36.2</td>\n",
       "      <td>22</td>\n",
       "      <td>30</td>\n",
       "      <td>Driver only</td>\n",
       "      <td>Rear</td>\n",
       "      <td>...</td>\n",
       "      <td>4</td>\n",
       "      <td>186</td>\n",
       "      <td>109</td>\n",
       "      <td>69</td>\n",
       "      <td>39</td>\n",
       "      <td>27.0</td>\n",
       "      <td>13.0</td>\n",
       "      <td>3640</td>\n",
       "      <td>non-USA</td>\n",
       "      <td>BMW 535i</td>\n",
       "    </tr>\n",
       "  </tbody>\n",
       "</table>\n",
       "<p>5 rows × 27 columns</p>\n",
       "</div>"
      ],
      "text/plain": [
       "  Manufacturer    Model     Type  Min.Price  Price  Max.Price  MPG.city  \\\n",
       "0        Acura  Integra    Small       12.9   15.9       18.8        25   \n",
       "1        Acura   Legend  Midsize       29.2   33.9       38.7        18   \n",
       "2         Audi       90  Compact       25.9   29.1       32.3        20   \n",
       "3         Audi      100  Midsize       30.8   37.7       44.6        19   \n",
       "4          BMW     535i  Midsize       23.7   30.0       36.2        22   \n",
       "\n",
       "   MPG.highway             AirBags DriveTrain      ...       Passengers  \\\n",
       "0           31                None      Front      ...                5   \n",
       "1           25  Driver & Passenger      Front      ...                5   \n",
       "2           26         Driver only      Front      ...                5   \n",
       "3           26  Driver & Passenger      Front      ...                6   \n",
       "4           30         Driver only       Rear      ...                4   \n",
       "\n",
       "   Length  Wheelbase  Width  Turn.circle Rear.seat.room  Luggage.room  Weight  \\\n",
       "0     177        102     68           37           26.5          11.0    2705   \n",
       "1     195        115     71           38           30.0          15.0    3560   \n",
       "2     180        102     67           37           28.0          14.0    3375   \n",
       "3     193        106     70           37           31.0          17.0    3405   \n",
       "4     186        109     69           39           27.0          13.0    3640   \n",
       "\n",
       "    Origin           Make  \n",
       "0  non-USA  Acura Integra  \n",
       "1  non-USA   Acura Legend  \n",
       "2  non-USA        Audi 90  \n",
       "3  non-USA       Audi 100  \n",
       "4  non-USA       BMW 535i  \n",
       "\n",
       "[5 rows x 27 columns]"
      ]
     },
     "execution_count": 2,
     "metadata": {},
     "output_type": "execute_result"
    }
   ],
   "source": [
    "df_alt = pd.read_csv(\"co2.csv\") #<-- if you want to load data locally\n",
    "df = sm.datasets.get_rdataset(\"Cars93\", \"MASS\").data\n",
    "df.head()"
   ]
  },
  {
   "cell_type": "markdown",
   "metadata": {},
   "source": [
    "It is also possible to load in other common file types, such as .dta. More information about importing other types of data can be found [here](http://statsmodels.sourceforge.net/devel/iolib.html)."
   ]
  },
  {
   "cell_type": "markdown",
   "metadata": {},
   "source": [
    "Before continuing on with the analysis, we should make sure there are no NA values in any cell:"
   ]
  },
  {
   "cell_type": "code",
   "execution_count": 3,
   "metadata": {
    "collapsed": false
   },
   "outputs": [
    {
     "name": "stdout",
     "output_type": "stream",
     "text": [
      "93\n",
      "82\n"
     ]
    }
   ],
   "source": [
    "print len(df) #before dropping rows with NA's\n",
    "df = df.dropna()\n",
    "print len(df)"
   ]
  },
  {
   "cell_type": "markdown",
   "metadata": {},
   "source": [
    "<a id='EDA'></a>\n",
    "## Exploratory Data Analysis and Diagonostic Checks\n",
    "\n",
    "Let's say you want to see if there is a possible relationship between miles per gallon of a vehicle and the price of the vehicle. While an average price is already given, there is no column that gives us the average MPG. We can quickly create a new column:"
   ]
  },
  {
   "cell_type": "code",
   "execution_count": 4,
   "metadata": {
    "collapsed": false
   },
   "outputs": [],
   "source": [
    "df[\"MPGavg\"]=(df[\"MPG.city\"] + df[\"MPG.highway\"])/2"
   ]
  },
  {
   "cell_type": "markdown",
   "metadata": {},
   "source": [
    "Below is our first example of R-style code vs Non-R-style code. Notice that when we are fitting our regression model, the R-style code implicitly adds a column of 1's in the design matrix. If we are using the standard style, we have to explictly add that column in. By using `add_constant`, the column of ones is prepended. Regardless of which style you choose, it yields the same model."
   ]
  },
  {
   "cell_type": "code",
   "execution_count": 5,
   "metadata": {
    "collapsed": false
   },
   "outputs": [
    {
     "name": "stdout",
     "output_type": "stream",
     "text": [
      "                            OLS Regression Results                            \n",
      "==============================================================================\n",
      "Dep. Variable:                  Price   R-squared:                       0.400\n",
      "Model:                            OLS   Adj. R-squared:                  0.392\n",
      "Method:                 Least Squares   F-statistic:                     53.29\n",
      "Date:                Wed, 02 Nov 2016   Prob (F-statistic):           1.87e-10\n",
      "Time:                        22:15:59   Log-Likelihood:                -283.40\n",
      "No. Observations:                  82   AIC:                             570.8\n",
      "Df Residuals:                      80   BIC:                             575.6\n",
      "Df Model:                           1                                         \n",
      "Covariance Type:            nonrobust                                         \n",
      "==============================================================================\n",
      "                 coef    std err          t      P>|t|      [0.025      0.975]\n",
      "------------------------------------------------------------------------------\n",
      "const         51.1189      4.460     11.463      0.000      42.244      59.994\n",
      "MPGavg        -1.2042      0.165     -7.300      0.000      -1.532      -0.876\n",
      "==============================================================================\n",
      "Omnibus:                       46.400   Durbin-Watson:                   1.440\n",
      "Prob(Omnibus):                  0.000   Jarque-Bera (JB):              149.986\n",
      "Skew:                           1.855   Prob(JB):                     2.70e-33\n",
      "Kurtosis:                       8.489   Cond. No.                         141.\n",
      "==============================================================================\n",
      "\n",
      "Warnings:\n",
      "[1] Standard Errors assume that the covariance matrix of the errors is correctly specified.\n"
     ]
    }
   ],
   "source": [
    "#R-Style\n",
    "results = smf.ols('Price ~ MPGavg', data=df).fit()\n",
    "#print results.summary() \n",
    "\n",
    "#Non-R-Style\n",
    "secDF = df.copy()\n",
    "y=secDF[\"Price\"]\n",
    "x = secDF[[\"MPGavg\"]]\n",
    "x = sm.add_constant(x) #<-- adding column of one's into Design Matrix\n",
    "mod = sm.OLS(y,x)\n",
    "results2 = mod.fit()\n",
    "print results2.summary()"
   ]
  },
  {
   "cell_type": "markdown",
   "metadata": {},
   "source": [
    "We can extract specific information about our linear model.  `dir()` will list out all the possible quantities you can extract. Below are a few examples:"
   ]
  },
  {
   "cell_type": "code",
   "execution_count": 6,
   "metadata": {
    "collapsed": false
   },
   "outputs": [
    {
     "name": "stdout",
     "output_type": "stream",
     "text": [
      "const     51.118920\n",
      "MPGavg    -1.204207\n",
      "dtype: float64\n",
      "0.399820946369\n",
      "const     1.474607e-18\n",
      "MPGavg    1.869453e-10\n",
      "dtype: float64\n"
     ]
    }
   ],
   "source": [
    "dir(results2)\n",
    "print results2.params\n",
    "print results2.rsquared\n",
    "print results2.pvalues"
   ]
  },
  {
   "cell_type": "markdown",
   "metadata": {},
   "source": [
    "Side note: *Hypothesis testing for ols in statsmodels will default to a Null Hypothesis of the parameters equaling 0.*"
   ]
  },
  {
   "cell_type": "code",
   "execution_count": 7,
   "metadata": {
    "collapsed": false
   },
   "outputs": [
    {
     "data": {
      "image/png": "[encoded data removed]",
      "text/plain": [
       "<matplotlib.figure.Figure at 0x114ce9890>"
      ]
     },
     "metadata": {},
     "output_type": "display_data"
    }
   ],
   "source": [
    "import matplotlib.pyplot as plt\n",
    "fig, ax = plt.subplots()\n",
    "fig = sm.graphics.plot_fit(results2, -1, ax=ax)\n",
    "ax.set_ylabel(\"Price\")\n",
    "ax.set_xlabel(\"MPG Average\")\n",
    "ax.set_title(\"Linear Regression\")\n",
    "plt.show()"
   ]
  },
  {
   "cell_type": "markdown",
   "metadata": {},
   "source": [
    "Now that we have our model as well as a visual, we can run some diagonstic checks to see if a linear model makes sense in this case. Statsmodels has a multitude of diagonstic checks for linear regression (a link to other checks); I will introduce two fairly common ones below and two more advanced tests.\n",
    "\n",
    "1) In statsmodels, we can plot a `qqplot` (Q-Q Plot) to check if errors are normally distributed. In our case, everything looks ok!\n",
    "\n",
    "2) A neat and convienient function is `plot_regress_exog` which gives us 4 graphs: ‘response vs predictor’, ‘residuals vs predictor’, ‘fitted versus predictor’ and ‘fitted plus residual vs predictor’. In our case, we see patterns in the residuals; this indicates that our linear model may not be the best option.\n",
    "\n",
    "3) Harvey Collier Test which also checks for linearity. In our case, the p-value is 0.48, reconfirming that a linear model is not appropriate.\n",
    "\n",
    "4) Goldfeldquandt test checks for hetroskedasticity. In our case, the p-value is 0.13. Hetroskedasticity is apparent. "
   ]
  },
  {
   "cell_type": "code",
   "execution_count": 8,
   "metadata": {
    "collapsed": false
   },
   "outputs": [
    {
     "data": {
      "image/png": "[encoded data removed]",
      "text/plain": [
       "<matplotlib.figure.Figure at 0x114d35710>"
      ]
     },
     "metadata": {},
     "output_type": "display_data"
    }
   ],
   "source": [
    "res = results2.resid # residuals\n",
    "fig = sm.qqplot(res,line='s')"
   ]
  },
  {
   "cell_type": "code",
   "execution_count": 9,
   "metadata": {
    "collapsed": false
   },
   "outputs": [
    {
     "data": {
      "image/png": "[encoded data removed]",
      "text/plain": [
       "<matplotlib.figure.Figure at 0x1177c5950>"
      ]
     },
     "metadata": {},
     "output_type": "display_data"
    }
   ],
   "source": [
    "figs = sm.graphics.plot_regress_exog(results2, -1, fig=None)"
   ]
  },
  {
   "cell_type": "code",
   "execution_count": 10,
   "metadata": {
    "collapsed": false
   },
   "outputs": [
    {
     "name": "stdout",
     "output_type": "stream",
     "text": [
      "[('t value', -0.70047765712859711), ('p value', 0.48571330203351837)]\n",
      "[('F statistic', 1.4373795066504558), ('p-value', 0.13079787581171431)]\n"
     ]
    }
   ],
   "source": [
    "name = ['t value', 'p value']\n",
    "test = sms.linear_harvey_collier(results2)\n",
    "print lzip(name, test)\n",
    "\n",
    "name = ['F statistic', 'p-value']\n",
    "test = sms.het_goldfeldquandt(results.resid, results.model.exog)\n",
    "print lzip(name, test)"
   ]
  },
  {
   "cell_type": "markdown",
   "metadata": {},
   "source": [
    "Since initial diagonistic tests all point to a linear model not being viable, conducting hypothesis tests and inference will be useless in this case. In the next section, we will dive deeper into hypothesis testing in StatsModels with a dataset that meets all asumptions."
   ]
  },
  {
   "cell_type": "markdown",
   "metadata": {},
   "source": [
    "<a id='Hypothesis Testing'></a>\n",
    "## Hypothesis Testing - SLR\n",
    "\n",
    "The next dataset we will be looking at is the relationship of height and weight of 15 women."
   ]
  },
  {
   "cell_type": "code",
   "execution_count": 11,
   "metadata": {
    "collapsed": false
   },
   "outputs": [
    {
     "name": "stderr",
     "output_type": "stream",
     "text": [
      "//anaconda/lib/python2.7/site-packages/scipy/stats/stats.py:1535: UserWarning: kurtosistest only valid for n>=20 ... continuing anyway, n=15\n",
      "  \"anyway, n=%i\" % int(n))\n"
     ]
    },
    {
     "data": {
      "text/html": [
       "<table class=\"simpletable\">\n",
       "<caption>OLS Regression Results</caption>\n",
       "<tr>\n",
       "  <th>Dep. Variable:</th>         <td>weight</td>      <th>  R-squared:         </th> <td>   0.991</td>\n",
       "</tr>\n",
       "<tr>\n",
       "  <th>Model:</th>                   <td>OLS</td>       <th>  Adj. R-squared:    </th> <td>   0.990</td>\n",
       "</tr>\n",
       "<tr>\n",
       "  <th>Method:</th>             <td>Least Squares</td>  <th>  F-statistic:       </th> <td>   1433.</td>\n",
       "</tr>\n",
       "<tr>\n",
       "  <th>Date:</th>             <td>Wed, 02 Nov 2016</td> <th>  Prob (F-statistic):</th> <td>1.09e-14</td>\n",
       "</tr>\n",
       "<tr>\n",
       "  <th>Time:</th>                 <td>22:16:01</td>     <th>  Log-Likelihood:    </th> <td> -26.541</td>\n",
       "</tr>\n",
       "<tr>\n",
       "  <th>No. Observations:</th>      <td>    15</td>      <th>  AIC:               </th> <td>   57.08</td>\n",
       "</tr>\n",
       "<tr>\n",
       "  <th>Df Residuals:</th>          <td>    13</td>      <th>  BIC:               </th> <td>   58.50</td>\n",
       "</tr>\n",
       "<tr>\n",
       "  <th>Df Model:</th>              <td>     1</td>      <th>                     </th>     <td> </td>   \n",
       "</tr>\n",
       "<tr>\n",
       "  <th>Covariance Type:</th>      <td>nonrobust</td>    <th>                     </th>     <td> </td>   \n",
       "</tr>\n",
       "</table>\n",
       "<table class=\"simpletable\">\n",
       "<tr>\n",
       "      <td></td>         <th>coef</th>     <th>std err</th>      <th>t</th>      <th>P>|t|</th>  <th>[0.025</th>    <th>0.975]</th>  \n",
       "</tr>\n",
       "<tr>\n",
       "  <th>Intercept</th> <td>  -87.5167</td> <td>    5.937</td> <td>  -14.741</td> <td> 0.000</td> <td> -100.343</td> <td>  -74.691</td>\n",
       "</tr>\n",
       "<tr>\n",
       "  <th>height</th>    <td>    3.4500</td> <td>    0.091</td> <td>   37.855</td> <td> 0.000</td> <td>    3.253</td> <td>    3.647</td>\n",
       "</tr>\n",
       "</table>\n",
       "<table class=\"simpletable\">\n",
       "<tr>\n",
       "  <th>Omnibus:</th>       <td> 2.396</td> <th>  Durbin-Watson:     </th> <td>   0.315</td>\n",
       "</tr>\n",
       "<tr>\n",
       "  <th>Prob(Omnibus):</th> <td> 0.302</td> <th>  Jarque-Bera (JB):  </th> <td>   1.660</td>\n",
       "</tr>\n",
       "<tr>\n",
       "  <th>Skew:</th>          <td> 0.789</td> <th>  Prob(JB):          </th> <td>   0.436</td>\n",
       "</tr>\n",
       "<tr>\n",
       "  <th>Kurtosis:</th>      <td> 2.596</td> <th>  Cond. No.          </th> <td>    982.</td>\n",
       "</tr>\n",
       "</table>"
      ],
      "text/plain": [
       "<class 'statsmodels.iolib.summary.Summary'>\n",
       "\"\"\"\n",
       "                            OLS Regression Results                            \n",
       "==============================================================================\n",
       "Dep. Variable:                 weight   R-squared:                       0.991\n",
       "Model:                            OLS   Adj. R-squared:                  0.990\n",
       "Method:                 Least Squares   F-statistic:                     1433.\n",
       "Date:                Wed, 02 Nov 2016   Prob (F-statistic):           1.09e-14\n",
       "Time:                        22:16:01   Log-Likelihood:                -26.541\n",
       "No. Observations:                  15   AIC:                             57.08\n",
       "Df Residuals:                      13   BIC:                             58.50\n",
       "Df Model:                           1                                         \n",
       "Covariance Type:            nonrobust                                         \n",
       "==============================================================================\n",
       "                 coef    std err          t      P>|t|      [0.025      0.975]\n",
       "------------------------------------------------------------------------------\n",
       "Intercept    -87.5167      5.937    -14.741      0.000    -100.343     -74.691\n",
       "height         3.4500      0.091     37.855      0.000       3.253       3.647\n",
       "==============================================================================\n",
       "Omnibus:                        2.396   Durbin-Watson:                   0.315\n",
       "Prob(Omnibus):                  0.302   Jarque-Bera (JB):                1.660\n",
       "Skew:                           0.789   Prob(JB):                        0.436\n",
       "Kurtosis:                       2.596   Cond. No.                         982.\n",
       "==============================================================================\n",
       "\n",
       "Warnings:\n",
       "[1] Standard Errors assume that the covariance matrix of the errors is correctly specified.\n",
       "\"\"\""
      ]
     },
     "execution_count": 11,
     "metadata": {},
     "output_type": "execute_result"
    }
   ],
   "source": [
    "data = sm.datasets.get_rdataset(\"women\", \"datasets\").data\n",
    "results = smf.ols('weight ~ height', data=data).fit()\n",
    "results.summary()"
   ]
  },
  {
   "cell_type": "markdown",
   "metadata": {},
   "source": [
    "The summary output above already gives us a slope of 3.45 (for every unit increase in height, there is a predicted 3.45 unit increase in weight). It also give us the p-value (0.000), as well as the confidence interval for the slope (3.253, 3.647). In this case, we reject the null hypothesis that there is no linear relationship as the p-value is less than any reasonable alpha level, and accept that there is a relationship.\n",
    "\n",
    "But what if we want to test some other hypothesis? Let's say we want to test if the slope estimator is in fact 5 (we believe that, for some reason, one unit increase of height leads to 5 unit increase in weight). How can we do that in Statsmodels?"
   ]
  },
  {
   "cell_type": "code",
   "execution_count": 12,
   "metadata": {
    "collapsed": false
   },
   "outputs": [
    {
     "name": "stdout",
     "output_type": "stream",
     "text": [
      "                             Test for Constraints                             \n",
      "==============================================================================\n",
      "                 coef    std err          t      P>|t|      [0.025      0.975]\n",
      "------------------------------------------------------------------------------\n",
      "c0             3.4500      0.091    -17.007      0.000       3.253       3.647\n",
      "==============================================================================\n",
      "                             Test for Constraints                             \n",
      "==============================================================================\n",
      "                 coef    std err          t      P>|t|      [0.025      0.975]\n",
      "------------------------------------------------------------------------------\n",
      "c0             3.4500      0.091      1.646      0.124       3.253       3.647\n",
      "==============================================================================\n"
     ]
    }
   ],
   "source": [
    "# Testing 1: \n",
    "#Null Hyp: Height = 5\n",
    "#Alt Hyp: Height != 5\n",
    "\n",
    "hypotheses = 'height = 5'\n",
    "t_test = results.t_test(hypotheses)\n",
    "print t_test\n",
    "\n",
    "#Testing 2:\n",
    "#Null Hyp: Height = 3.3\n",
    "#Alt Hyp: Height != 3.3\n",
    "hypotheses_2 = 'height = 3.3'\n",
    "t_test = results.t_test(hypotheses_2)\n",
    "print t_test"
   ]
  },
  {
   "cell_type": "markdown",
   "metadata": {},
   "source": [
    "While there are many ways to go about this, a simple and intuitive way to conduct hypothesis testing is to feed the `t_test` function a string, where Statsmodel will parse the string and interpret which estimator you are conducting and at what value. Above, we test if the slope is 5 or not and if the slope is 3.3 or not, respectively. Not surprisingly, they are are consistent with the default test the summary output gives: any test outside of (3.253, 3.647) will result in rejection and any test inside of (3.253, 3.647) will result in fail to reject.\n",
    "\n",
    "This is a very basic example of hypothesis testing for one predictor variable. This method can be extended to multivariate regression, where instead of a t-test, an F-test would be utilized to check if at least one estimator is statistically significant from 0. An example of such a case can be found [here](http://statsmodels.sourceforge.net/devel/generated/statsmodels.regression.linear_model.OLSResults.f_test.html#statsmodels.regression.linear_model.OLSResults.f_test). Below, we will perform F-test manually on birthweight data."
   ]
  },
  {
   "cell_type": "markdown",
   "metadata": {
    "collapsed": true
   },
   "source": [
    "<a id='Multicolinearity'></a>\n",
    "## Dealing with Multicolinearity in StatsModel\n",
    "\n",
    "As a refresher, multicolinearity is when 2 (or more) exogenous variables are highly corrlelated to each other. While we do not want high Multicolinearity, we definitely do not want Perfect Multicolinearity. We return back to the cars data but we add a column where we convert miles/gallon to km/gallon. This should result in perfect multicolinearity as one column is just a multiple of another."
   ]
  },
  {
   "cell_type": "code",
   "execution_count": 13,
   "metadata": {
    "collapsed": false
   },
   "outputs": [
    {
     "name": "stdout",
     "output_type": "stream",
     "text": [
      "                            OLS Regression Results                            \n",
      "==============================================================================\n",
      "Dep. Variable:                  Price   R-squared:                       0.400\n",
      "Model:                            OLS   Adj. R-squared:                  0.392\n",
      "Method:                 Least Squares   F-statistic:                     53.29\n",
      "Date:                Wed, 02 Nov 2016   Prob (F-statistic):           1.87e-10\n",
      "Time:                        22:16:01   Log-Likelihood:                -283.40\n",
      "No. Observations:                  82   AIC:                             570.8\n",
      "Df Residuals:                      80   BIC:                             575.6\n",
      "Df Model:                           1                                         \n",
      "Covariance Type:            nonrobust                                         \n",
      "==============================================================================\n",
      "                 coef    std err          t      P>|t|      [0.025      0.975]\n",
      "------------------------------------------------------------------------------\n",
      "const         51.1189      4.460     11.463      0.000      42.244      59.994\n",
      "MPGavg        -0.3383      0.046     -7.300      0.000      -0.430      -0.246\n",
      "kmPGavg       -0.5412      0.074     -7.300      0.000      -0.689      -0.394\n",
      "==============================================================================\n",
      "Omnibus:                       46.400   Durbin-Watson:                   1.440\n",
      "Prob(Omnibus):                  0.000   Jarque-Bera (JB):              149.986\n",
      "Skew:                           1.855   Prob(JB):                     2.70e-33\n",
      "Kurtosis:                       8.489   Cond. No.                     1.23e+16\n",
      "==============================================================================\n",
      "\n",
      "Warnings:\n",
      "[1] Standard Errors assume that the covariance matrix of the errors is correctly specified.\n",
      "[2] The smallest eigenvalue is 1.41e-27. This might indicate that there are\n",
      "strong multicollinearity problems or that the design matrix is singular.\n"
     ]
    }
   ],
   "source": [
    "df[\"kmPGavg\"] = df[\"MPGavg\"] * 1.6\n",
    "#print df\n",
    "\n",
    "thirdDF = df.copy()\n",
    "y = thirdDF[\"Price\"]\n",
    "x = thirdDF[[\"MPGavg\",\"kmPGavg\"]]\n",
    "x = sm.add_constant(x) #<-- adding column of one's into Design Matrix\n",
    "mod = sm.OLS(y,x)\n",
    "results2 = mod.fit()\n",
    "print results2.summary()\n"
   ]
  },
  {
   "cell_type": "markdown",
   "metadata": {
    "collapsed": true
   },
   "source": [
    "The summary out does give out a warning that there is possible multicolinearity. However, in the case of perfect multicolinearity, statsmodels will output unstable coefficient outputs. We can check the condition number to make sure we don't (in this case, do) have multicolinearity."
   ]
  },
  {
   "cell_type": "code",
   "execution_count": 14,
   "metadata": {
    "collapsed": false
   },
   "outputs": [
    {
     "data": {
      "text/plain": [
       "12309917456716324.0"
      ]
     },
     "execution_count": 14,
     "metadata": {},
     "output_type": "execute_result"
    }
   ],
   "source": [
    "np.linalg.cond(results2.model.exog)"
   ]
  },
  {
   "cell_type": "markdown",
   "metadata": {},
   "source": [
    "With a condition number so high, we definitely do have multicolinearity."
   ]
  },
  {
   "cell_type": "markdown",
   "metadata": {
    "collapsed": true
   },
   "source": [
    "<a id='RLM'></a>\n",
    "## Robust Linear Models (RLM) vs OLS\n",
    "\n",
    "While ordinary least squares is the most common method to find estimators, certain assumptions must be met in order to effectively use it. In cases such as hetroskedasticity (inconsistent variance in errors) or significant outliers, a robust linear model may be a better choice for modeling. StatsModels makes it a convienent with just one function call. We will use artifical data. This example is a variant of the example in the statsmodels documentation."
   ]
  },
  {
   "cell_type": "code",
   "execution_count": 15,
   "metadata": {
    "collapsed": false
   },
   "outputs": [],
   "source": [
    "x1 = np.linspace(0, 20, 100)\n",
    "x = np.column_stack((x1, (x1-5)**2))\n",
    "x = sm.add_constant(x)\n",
    "sig = 0.3 \n",
    "beta = [5, 0.5, -0.0]\n",
    "y_true2 = np.dot(x, beta)\n",
    "y = y_true2 + sig*1. * np.random.normal(size=100)\n",
    "y[[39,41,43,45,48]] += 10   #"
   ]
  },
  {
   "cell_type": "code",
   "execution_count": 16,
   "metadata": {
    "collapsed": false
   },
   "outputs": [
    {
     "name": "stdout",
     "output_type": "stream",
     "text": [
      "[ 5.02426074  0.6352272  -0.01531546]\n",
      "[  5.04048296e+00   4.89649382e-01   1.00512448e-03]\n"
     ]
    }
   ],
   "source": [
    "results_ols = sm.OLS(y, x).fit()\n",
    "results_rlm = sm.RLM(y, x).fit()\n",
    "print(results_ols.params)\n",
    "print(results_rlm.params)"
   ]
  },
  {
   "cell_type": "code",
   "execution_count": 17,
   "metadata": {
    "collapsed": false
   },
   "outputs": [
    {
     "data": {
      "text/plain": [
       "<matplotlib.legend.Legend at 0x11a387bd0>"
      ]
     },
     "execution_count": 17,
     "metadata": {},
     "output_type": "execute_result"
    },
    {
     "data": {
      "image/png": "[encoded data removed]",
      "text/plain": [
       "<matplotlib.figure.Figure at 0x119f7a350>"
      ]
     },
     "metadata": {},
     "output_type": "display_data"
    }
   ],
   "source": [
    "import matplotlib.pyplot as plt\n",
    "from statsmodels.sandbox.regression.predstd import wls_prediction_std\n",
    "\n",
    "fig = plt.figure(figsize=(12,8))\n",
    "ax = fig.add_subplot(111)\n",
    "ax.plot(x1, y, 'o',label=\"data\")\n",
    "ax.plot(x1, y_true2, 'b-', label=\"True\")\n",
    "prstd, iv_l, iv_u = wls_prediction_std(results_ols)\n",
    "ax.plot(x1, results_ols.fittedvalues, 'r-', label=\"OLS\")\n",
    "ax.plot(x1, iv_u, 'r--')\n",
    "ax.plot(x1, iv_l, 'r--')\n",
    "ax.plot(x1, results_rlm.fittedvalues, 'g.-', label=\"RLM\")\n",
    "ax.legend(loc=\"best\")"
   ]
  },
  {
   "cell_type": "markdown",
   "metadata": {
    "collapsed": true
   },
   "source": [
    "RLM was able to ignore the outliers and the model more accurately than the OLS model."
   ]
  },
  {
   "cell_type": "markdown",
   "metadata": {},
   "source": [
    "<a id='Multiple Linear Regression and ANOVA'></a>\n",
    "## Example: Multiple Linear Regression and ANOVA\n",
    "\n",
    "The dataset we are looking at is 'birthwt' (located also in the Rdatasets repository) , where we use:\n",
    "\n",
    " - mother's age (age)\n",
    " - mother's weight (lwt)\n",
    " - number of premature labors (ptl)\n",
    " - and number of physician visits during the first trimester (ftv)\n",
    "\n",
    "We try to use these four predictor variables to predict the birth weight of a baby. The CMU course, 36-401: Modern Regression, also utilizes this dataset and does analysis in R. Here, we use StatsModels."
   ]
  },
  {
   "cell_type": "code",
   "execution_count": 18,
   "metadata": {
    "collapsed": false
   },
   "outputs": [
    {
     "name": "stdout",
     "output_type": "stream",
     "text": [
      "    low  age  lwt  race  smoke  ptl  ht  ui  ftv   bwt\n",
      "85    0   19  182     2      0    0   0   1    0  2523\n",
      "86    0   33  155     3      0    0   0   0    3  2551\n",
      "87    0   20  105     1      1    0   0   0    1  2557\n",
      "88    0   21  108     1      1    0   0   1    2  2594\n",
      "89    0   18  107     1      1    0   0   1    0  2600\n",
      "                            OLS Regression Results                            \n",
      "==============================================================================\n",
      "Dep. Variable:                    bwt   R-squared:                       0.081\n",
      "Model:                            OLS   Adj. R-squared:                  0.061\n",
      "Method:                 Least Squares   F-statistic:                     4.068\n",
      "Date:                Wed, 02 Nov 2016   Prob (F-statistic):            0.00348\n",
      "Time:                        22:16:03   Log-Likelihood:                -1505.6\n",
      "No. Observations:                 189   AIC:                             3021.\n",
      "Df Residuals:                     184   BIC:                             3037.\n",
      "Df Model:                           4                                         \n",
      "Covariance Type:            nonrobust                                         \n",
      "==============================================================================\n",
      "                 coef    std err          t      P>|t|      [0.025      0.975]\n",
      "------------------------------------------------------------------------------\n",
      "Intercept   2395.5231    300.565      7.970      0.000    1802.526    2988.521\n",
      "age            8.7414      9.951      0.878      0.381     -10.892      28.375\n",
      "lwt            3.6272      1.734      2.091      0.038       0.206       7.049\n",
      "ptl         -159.2842    107.938     -1.476      0.142    -372.239      53.671\n",
      "smoke       -239.4505    107.382     -2.230      0.027    -451.309     -27.592\n",
      "==============================================================================\n",
      "Omnibus:                        3.922   Durbin-Watson:                   0.310\n",
      "Prob(Omnibus):                  0.141   Jarque-Bera (JB):                3.554\n",
      "Skew:                          -0.325   Prob(JB):                        0.169\n",
      "Kurtosis:                       3.171   Cond. No.                         794.\n",
      "==============================================================================\n",
      "\n",
      "Warnings:\n",
      "[1] Standard Errors assume that the covariance matrix of the errors is correctly specified.\n"
     ]
    }
   ],
   "source": [
    "df = sm.datasets.get_rdataset(\"birthwt\", \"MASS\").data\n",
    "print df.head()\n",
    "results = smf.ols('bwt~age+lwt+ptl+smoke', data=df).fit()\n",
    "print results.summary()"
   ]
  },
  {
   "cell_type": "code",
   "execution_count": 19,
   "metadata": {
    "collapsed": false
   },
   "outputs": [
    {
     "data": {
      "image/png": "[encoded data removed]",
      "text/plain": [
       "<matplotlib.figure.Figure at 0x119fbe810>"
      ]
     },
     "metadata": {},
     "output_type": "display_data"
    }
   ],
   "source": [
    "fig = plt.figure(figsize=(12,8))\n",
    "fig = sm.graphics.plot_partregress_grid(results, fig=fig)"
   ]
  },
  {
   "cell_type": "markdown",
   "metadata": {},
   "source": [
    "It looks like our first model is as follows:\n",
    "predicted birthwt = 2395.52 + 8.74(age) + 3.62(lwt) - 159.28(ptl) - 239.45(smoke)"
   ]
  },
  {
   "cell_type": "code",
   "execution_count": 20,
   "metadata": {
    "collapsed": false
   },
   "outputs": [
    {
     "data": {
      "text/html": [
       "<div>\n",
       "<table border=\"1\" class=\"dataframe\">\n",
       "  <thead>\n",
       "    <tr style=\"text-align: right;\">\n",
       "      <th></th>\n",
       "      <th>0</th>\n",
       "      <th>1</th>\n",
       "    </tr>\n",
       "  </thead>\n",
       "  <tbody>\n",
       "    <tr>\n",
       "      <th>Intercept</th>\n",
       "      <td>1802.525628</td>\n",
       "      <td>2988.520659</td>\n",
       "    </tr>\n",
       "    <tr>\n",
       "      <th>age</th>\n",
       "      <td>-10.892098</td>\n",
       "      <td>28.374931</td>\n",
       "    </tr>\n",
       "    <tr>\n",
       "      <th>lwt</th>\n",
       "      <td>0.205544</td>\n",
       "      <td>7.048882</td>\n",
       "    </tr>\n",
       "    <tr>\n",
       "      <th>ptl</th>\n",
       "      <td>-372.239075</td>\n",
       "      <td>53.670608</td>\n",
       "    </tr>\n",
       "    <tr>\n",
       "      <th>smoke</th>\n",
       "      <td>-451.309073</td>\n",
       "      <td>-27.591924</td>\n",
       "    </tr>\n",
       "  </tbody>\n",
       "</table>\n",
       "</div>"
      ],
      "text/plain": [
       "                     0            1\n",
       "Intercept  1802.525628  2988.520659\n",
       "age         -10.892098    28.374931\n",
       "lwt           0.205544     7.048882\n",
       "ptl        -372.239075    53.670608\n",
       "smoke      -451.309073   -27.591924"
      ]
     },
     "execution_count": 20,
     "metadata": {},
     "output_type": "execute_result"
    }
   ],
   "source": [
    "results.conf_int(alpha = .05)"
   ]
  },
  {
   "cell_type": "code",
   "execution_count": 21,
   "metadata": {
    "collapsed": false
   },
   "outputs": [
    {
     "data": {
      "text/html": [
       "<div>\n",
       "<table border=\"1\" class=\"dataframe\">\n",
       "  <thead>\n",
       "    <tr style=\"text-align: right;\">\n",
       "      <th></th>\n",
       "      <th>df</th>\n",
       "      <th>sum_sq</th>\n",
       "      <th>mean_sq</th>\n",
       "      <th>F</th>\n",
       "      <th>PR(&gt;F)</th>\n",
       "    </tr>\n",
       "  </thead>\n",
       "  <tbody>\n",
       "    <tr>\n",
       "      <th>age</th>\n",
       "      <td>1.0</td>\n",
       "      <td>8.154832e+05</td>\n",
       "      <td>8.154832e+05</td>\n",
       "      <td>1.633697</td>\n",
       "      <td>0.202803</td>\n",
       "    </tr>\n",
       "    <tr>\n",
       "      <th>lwt</th>\n",
       "      <td>1.0</td>\n",
       "      <td>2.967339e+06</td>\n",
       "      <td>2.967339e+06</td>\n",
       "      <td>5.944612</td>\n",
       "      <td>0.015712</td>\n",
       "    </tr>\n",
       "    <tr>\n",
       "      <th>ptl</th>\n",
       "      <td>1.0</td>\n",
       "      <td>1.858527e+06</td>\n",
       "      <td>1.858527e+06</td>\n",
       "      <td>3.723276</td>\n",
       "      <td>0.055197</td>\n",
       "    </tr>\n",
       "    <tr>\n",
       "      <th>smoke</th>\n",
       "      <td>1.0</td>\n",
       "      <td>2.482053e+06</td>\n",
       "      <td>2.482053e+06</td>\n",
       "      <td>4.972415</td>\n",
       "      <td>0.026964</td>\n",
       "    </tr>\n",
       "    <tr>\n",
       "      <th>Residual</th>\n",
       "      <td>184.0</td>\n",
       "      <td>9.184625e+07</td>\n",
       "      <td>4.991644e+05</td>\n",
       "      <td>NaN</td>\n",
       "      <td>NaN</td>\n",
       "    </tr>\n",
       "  </tbody>\n",
       "</table>\n",
       "</div>"
      ],
      "text/plain": [
       "             df        sum_sq       mean_sq         F    PR(>F)\n",
       "age         1.0  8.154832e+05  8.154832e+05  1.633697  0.202803\n",
       "lwt         1.0  2.967339e+06  2.967339e+06  5.944612  0.015712\n",
       "ptl         1.0  1.858527e+06  1.858527e+06  3.723276  0.055197\n",
       "smoke       1.0  2.482053e+06  2.482053e+06  4.972415  0.026964\n",
       "Residual  184.0  9.184625e+07  4.991644e+05       NaN       NaN"
      ]
     },
     "execution_count": 21,
     "metadata": {},
     "output_type": "execute_result"
    }
   ],
   "source": [
    "sm.stats.anova_lm(results)"
   ]
  },
  {
   "cell_type": "markdown",
   "metadata": {},
   "source": [
    "Similar to R, Statsmodels reports Sum of Squares based off the ordering of your predictor variables during modeling. Below are anova tables with different orderings. Notice that while the individual sum of squares are different, SSR (Residual Sum of squares) will always be the same."
   ]
  },
  {
   "cell_type": "code",
   "execution_count": 22,
   "metadata": {
    "collapsed": false
   },
   "outputs": [
    {
     "name": "stdout",
     "output_type": "stream",
     "text": [
      "             df        sum_sq       mean_sq         F    PR(>F)\n",
      "lwt         1.0  3.448639e+06  3.448639e+06  6.908823  0.009302\n",
      "smoke       1.0  3.326720e+06  3.326720e+06  6.664577  0.010613\n",
      "ptl         1.0  9.628853e+05  9.628853e+05  1.928994  0.166547\n",
      "age         1.0  3.851582e+05  3.851582e+05  0.771606  0.380866\n",
      "Residual  184.0  9.184625e+07  4.991644e+05       NaN       NaN\n",
      "             df        sum_sq       mean_sq         F    PR(>F)\n",
      "smoke       1.0  3.625946e+06  3.625946e+06  7.264031  0.007687\n",
      "age         1.0  6.714222e+05  6.714222e+05  1.345092  0.247641\n",
      "ptl         1.0  1.642590e+06  1.642590e+06  3.290680  0.071303\n",
      "lwt         1.0  2.183443e+06  2.183443e+06  4.374196  0.037860\n",
      "Residual  184.0  9.184625e+07  4.991644e+05       NaN       NaN\n"
     ]
    }
   ],
   "source": [
    "results2 = smf.ols('bwt~lwt+smoke+ptl+age', data=df).fit()\n",
    "results3 = smf.ols('bwt~smoke+age+ptl+lwt', data=df).fit()\n",
    "print sm.stats.anova_lm(results2)\n",
    "print sm.stats.anova_lm(results3)"
   ]
  },
  {
   "cell_type": "markdown",
   "metadata": {
    "collapsed": true
   },
   "source": [
    "So, should we include these variables?\n",
    "\n",
    "Hypothesis testing for multivariate Regression is similar to single variable regression testing. We just have to be more careful about our calculations and the way we model the variables. Let's start off by testing individual coefficients.\n",
    "\n",
    "If we want to test for:\n",
    "\n",
    "Null: Estimator of ptl = 0\n",
    "\n",
    "Alt: Estimator of ptl does not = 0\n",
    "\n",
    "we must make sure we have `ptl` to be the last variable in our regression (since we are asking whether this variable should be included given the presence of all other variables). If you want to test a different individual coefficient, put that as the last variable.\n",
    "\n",
    "While we can just call `f_stat`, below is manual way of calculating the f-statistic by indexing into the anova table."
   ]
  },
  {
   "cell_type": "code",
   "execution_count": 23,
   "metadata": {
    "collapsed": false
   },
   "outputs": [
    {
     "name": "stdout",
     "output_type": "stream",
     "text": [
      "2.17770244261\n"
     ]
    }
   ],
   "source": [
    "results4 = smf.ols('bwt~age+lwt+smoke+ptl', data=df).fit()\n",
    "SSR = sm.stats.anova_lm(results4).sum_sq['ptl']\n",
    "df_onevar = sm.stats.anova_lm(results4).df['ptl']\n",
    "SSE = sm.stats.anova_lm(results4).sum_sq['Residual']\n",
    "df_all = sm.stats.anova_lm(results4).df['Residual']\n",
    "f_stat = (SSR/df_onevar)/(SSE/df_all)\n",
    "print f_stat"
   ]
  },
  {
   "cell_type": "code",
   "execution_count": 24,
   "metadata": {
    "collapsed": false
   },
   "outputs": [
    {
     "data": {
      "text/plain": [
       "3.7232759468674623"
      ]
     },
     "execution_count": 24,
     "metadata": {},
     "output_type": "execute_result"
    }
   ],
   "source": [
    "#Same as from summary table\n",
    "sm.stats.anova_lm(results).F['ptl']"
   ]
  },
  {
   "cell_type": "code",
   "execution_count": 25,
   "metadata": {
    "collapsed": false
   },
   "outputs": [
    {
     "data": {
      "text/plain": [
       "0.090920162066110352"
      ]
     },
     "execution_count": 25,
     "metadata": {},
     "output_type": "execute_result"
    }
   ],
   "source": [
    "sp.stats.f.pdf(f_stat,df_onevar,df_all) #p-value"
   ]
  },
  {
   "cell_type": "markdown",
   "metadata": {},
   "source": [
    "Depending on our alpha level, we would reject at the 0.05 level but fail to reject at the 0.1 level. We may not want to include `ptl` in our model. "
   ]
  },
  {
   "cell_type": "markdown",
   "metadata": {},
   "source": [
    "This next test must be manually calculated as Statsmodels does not have a specific function to calculate it.\n",
    "\n",
    "Null: Estimator of Smoke = Estimator of ptl = 0\n",
    "\n",
    "Alt: At least one of these estimators does not = 0\n",
    "\n",
    "In general, if you want to test a subset of estimators in the model, you must manually calculate it."
   ]
  },
  {
   "cell_type": "code",
   "execution_count": 26,
   "metadata": {
    "collapsed": false
   },
   "outputs": [
    {
     "name": "stdout",
     "output_type": "stream",
     "text": [
      "4.34784563172\n"
     ]
    }
   ],
   "source": [
    "vars = [\"smoke\",\"ptl\"]\n",
    "SSR = 0\n",
    "SSR_df = 0\n",
    "for var in vars:\n",
    "    SSR += sm.stats.anova_lm(results4).sum_sq[var]\n",
    "    SSR_df += sm.stats.anova_lm(results4).df[var]\n",
    "f_stat = (SSR/SSR_df)/(SSE/df_all)\n",
    "print f_stat"
   ]
  },
  {
   "cell_type": "code",
   "execution_count": 27,
   "metadata": {
    "collapsed": false
   },
   "outputs": [
    {
     "data": {
      "text/plain": [
       "0.013644611866822033"
      ]
     },
     "execution_count": 27,
     "metadata": {},
     "output_type": "execute_result"
    }
   ],
   "source": [
    "sp.stats.f.pdf(f_stat,SSR_df,df_all) #p-value"
   ]
  },
  {
   "cell_type": "markdown",
   "metadata": {},
   "source": [
    "We reject the null hypothesis at any reasonable alpha level and conclude that at least one of these estimators is not equal to 0."
   ]
  },
  {
   "cell_type": "markdown",
   "metadata": {},
   "source": [
    "<a id='Additional Resources'></a>\n",
    "## Additional Resources\n",
    "\n",
    "This tutorial only captures a tiny portion of StatsModels. Below is the link to the official documentation of StatsModels, the repository for all the R datasets, and additional information on statistical theory.\n",
    "\n",
    " - [StatsModels](http://statsmodels.sourceforge.net/devel/index.html)\n",
    " - [R Datasets](http://stat.ethz.ch/R-manual/R-devel/library/datasets/html/00Index.html)\n",
    " - [Linearity Assumptions](http://people.duke.edu/~rnau/testing.htm)\n",
    " - [Hypothesis Testing](http://www.cs.cmu.edu/~bhiksha/courses/10-601/hypothesistesting/hyptesting_practical.html)"
   ]
  }
 ],
 "metadata": {
  "anaconda-cloud": {},
  "kernelspec": {
   "display_name": "Python [Root]",
   "language": "python",
   "name": "Python [Root]"
  },
  "language_info": {
   "codemirror_mode": {
    "name": "ipython",
    "version": 2
   },
   "file_extension": ".py",
   "mimetype": "text/x-python",
   "name": "python",
   "nbconvert_exporter": "python",
   "pygments_lexer": "ipython2",
   "version": "2.7.12"
  }
 },
 "nbformat": 4,
 "nbformat_minor": 0
}
