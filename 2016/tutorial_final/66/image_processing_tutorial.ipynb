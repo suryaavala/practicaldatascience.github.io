{
 "cells": [
  {
   "cell_type": "markdown",
   "metadata": {
    "collapsed": true
   },
   "source": [
    "## Introduction\n",
    "[Image processing](https://en.wikipedia.org/wiki/Image_processing) and [computer vision](https://en.wikipedia.org/wiki/Computer_vision) have long been popular topics in both academic and industrial fields. While image processing is mainly focusing on processing raw images without giving any knowledge feedback on them, computer vision tries to do what a human brain does with the retinal data, that means understanding the scene based on image data.\n",
    "\n",
    "This tutorial will introduce you to some basic methods for image manipulation and processing. Image data forms a key aspect of data science. Image data can be the initial input (as raw materials) for the whole data analysis pipeline and is also very important from the perspective of data visualization. \n",
    "\n",
    "In many cases, we want to preprocess our images, i.e. converting a color image into an image composed solely of gray scale tones, making the edges in an image more clear so that people can be better at distinguishing the foreground (the target) from the background, cropping multiple images into the same size for further analysis, rotating or flipping the images for better displaying purpose, drawing contour lines to show certain properties of the content in the image in some special cases, or making certain part of an image be blur to display a better contrast between the foreground and the background.\n",
    "\n",
    "All these scenarios described above are involved with the basic methods for image manipulation and processing we are going to explore in this tutorial. In the end, we list out extra resources for readers to go further into methods involved with high-level image processing and computer vision. "
   ]
  },
  {
   "cell_type": "markdown",
   "metadata": {
    "collapsed": true
   },
   "source": [
    "## Tutorial content\n",
    "In this tutorial, we will show how to do some elementary image processing in python, specifically using numpy, scipy and matplotlib.\n",
    "\n",
    "The data we are going to use here are images. For the sake of convenience, we are using the \"standard\" image, a 1024 * 768, color image of a raccoon face (face.png) and a \"popular\" image(flower.png) in image processing and computer vision. A list of high quality copyright friendly images can be find in [PIXNIO](http://www.pixnio.com/).\n",
    "\n",
    "We are going to cover the topics listed below in this tutorial:\n",
    "- [Installing the libraries](#Installing-the-libraries)\n",
    "- [Reading and writing to image files](#Reading-and-writing-to-image-files)\n",
    "- [Displaying images](#Displaying-images)\n",
    "- [Rotation flipping and cropping](#Rotation-flipping-and-cropping)\n",
    "- [Image smoothing](#Image-smoothing)\n",
    "- [Sharpening](#Sharpening)\n",
    "- [Image denoising](#Image-denoising)\n",
    "- [Summary and references](#Summary-and-references)"
   ]
  },
  {
   "cell_type": "markdown",
   "metadata": {
    "collapsed": true
   },
   "source": [
    "## Installing the libraries\n",
    "\n",
    "The main tools we are going to use in this tutorial are numpy, scipy, matplotlib, PIL and scikit-image. \n",
    "\n",
    "[NumPy](http://www.numpy.org/) is an extension to Python, adding support for large, multi-dimensional arrays and matrices, along with a large library of high-level mathematical functions to operate on these arrays.\n",
    "\n",
    "[SciPy](https://www.scipy.org/) is another open source Python library used for scientific computing and technical computing. \n",
    "\n",
    "[Matplotlib](http://matplotlib.org/) is a python 2D plotting library which produces publication quality figures in a variety of hardcopy formats and interactive environments across platforms. It can be used in python scripts, the python and ipython shell, web application servers, and six graphical user interface toolkits.\n",
    "\n",
    "[PIL](http://www.pythonware.com/products/pil/), known as the Python Imaging Library adds image processing capabilities to the Python interpreter. The library supports many file formats,, and provides powerful image processing and graphics capacities.\n",
    "\n",
    "[scikit-image](http://scikit-image.org/)(formerly scikits.image) is an open source image processing and computer vision library for the Python programming language. It includes algorithms for segmentation, geometric transformations, color space manipulation, analysis, filtering, morphology, feature detection, and more. It is designed to interoperate with the Python numerical and scientific libraries NumPy and SciPy."
   ]
  },
  {
   "cell_type": "code",
   "execution_count": 1,
   "metadata": {
    "collapsed": false
   },
   "outputs": [
    {
     "name": "stderr",
     "output_type": "stream",
     "text": [
      "//anaconda/lib/python2.7/site-packages/matplotlib/font_manager.py:273: UserWarning: Matplotlib is building the font cache using fc-list. This may take a moment.\n",
      "  warnings.warn('Matplotlib is building the font cache using fc-list. This may take a moment.')\n"
     ]
    }
   ],
   "source": [
    "import numpy as np\n",
    "from scipy import ndimage, misc\n",
    "import matplotlib.pyplot as plt\n",
    "from PIL import Image\n",
    "from skimage import io\n",
    "import urllib2 as urllib"
   ]
  },
  {
   "cell_type": "markdown",
   "metadata": {
    "collapsed": true
   },
   "source": [
    "## Reading and writing to image files"
   ]
  },
  {
   "cell_type": "markdown",
   "metadata": {},
   "source": [
    "Before manipulating an image, I want to discuss how an image is stored. For a normal image, we store it in a 2-D numerical array. For CT, MRI or images that include time information, we have to put them into 3-D arrays. In this tutorial, we will focus on normal images and we will use a 2-D arrays to represent a single image.\n",
    "\n",
    "First, we are going to generate an image file from an array and show the image."
   ]
  },
  {
   "cell_type": "code",
   "execution_count": 2,
   "metadata": {
    "collapsed": true
   },
   "outputs": [],
   "source": [
    "face = misc.face()            # Get a 1024*768, color image of a raccoon face, stored\n",
    "                              # in a 2-D numerical array.\n",
    "misc.imsave('face.png', face) # Save an array as an image.\n",
    "\n",
    "plt.imshow(face)              # Draw an image(i.e. face.png) on the current figure.\n",
    "plt.show()                    # Display the figure along with the image on it."
   ]
  },
  {
   "cell_type": "markdown",
   "metadata": {},
   "source": [
    "<img src=\"https://s3-us-west-2.amazonaws.com/iptutorial/face.png\" alt=\"face.png\" style=\"max-width:50%;\">"
   ]
  },
  {
   "cell_type": "markdown",
   "metadata": {},
   "source": [
    "We can also convert an image into a numpy array, which will be easy for storage and further processing. The following code shows the way to convert the \"flower\" image that we read from an url into a numpy array. Here, we use the [io](https://docs.python.org/2/library/io.html) module, which is the core tools for working with streams in Python."
   ]
  },
  {
   "cell_type": "code",
   "execution_count": 3,
   "metadata": {
    "collapsed": false
   },
   "outputs": [
    {
     "name": "stdout",
     "output_type": "stream",
     "text": [
      "<type 'numpy.ndarray'>\n",
      "uint8\n",
      "(361, 480, 3)\n"
     ]
    }
   ],
   "source": [
    "# Read an image from a url.\n",
    "flower = io.imread('https://s3-us-west-2.amazonaws.com/iptutorial/flower.jpg')\n",
    "\n",
    "print type(flower) # Check the type of the object\n",
    "print flower.dtype   # Check the data type in NumPy\n",
    "print flower.shape   # Check the dimension\n",
    "\n",
    "plt.imshow(flower)\n",
    "plt.show()"
   ]
  },
  {
   "cell_type": "markdown",
   "metadata": {},
   "source": [
    "<img src=\"https://s3-us-west-2.amazonaws.com/iptutorial/flower.jpg\" alt=\"lena.png\" style=\"max-width:50%;\">"
   ]
  },
  {
   "cell_type": "markdown",
   "metadata": {},
   "source": [
    "To convert a color image into grayscale, we can use PIL. Note that, here we are using another way to read an image from a url instead of using io.imread() directly."
   ]
  },
  {
   "cell_type": "code",
   "execution_count": 4,
   "metadata": {
    "collapsed": false
   },
   "outputs": [],
   "source": [
    "import io\n",
    "img_dir = urllib.urlopen('https://s3-us-west-2.amazonaws.com/iptutorial/flower.jpg')\n",
    "img_file = io.BytesIO(img_dir.read())\n",
    "img = Image.open(img_file).convert('LA') # 'LA' is a grayscale mode in PIL.\n",
    "img.save('flower_gray.png')              # Save the image in the local folder."
   ]
  },
  {
   "cell_type": "markdown",
   "metadata": {},
   "source": [
    "We can get the following image in grayscle.\n",
    "\n",
    "<img src=\"https://s3-us-west-2.amazonaws.com/iptutorial/flower_gray.png\" alt=\"lena_gray.png\" style=\"max-width:50%;\">"
   ]
  },
  {
   "cell_type": "markdown",
   "metadata": {},
   "source": [
    "## Displaying images"
   ]
  },
  {
   "cell_type": "markdown",
   "metadata": {},
   "source": [
    "We can use matplotlib and imshow to display an image inside a matplotlib figure."
   ]
  },
  {
   "cell_type": "code",
   "execution_count": 5,
   "metadata": {
    "collapsed": false
   },
   "outputs": [],
   "source": [
    "face_gray = misc.face(gray=True)        # Get the face image and turn it into grayscale.\n",
    "# cmap is the colormap used to map normalized data values to RGBA colors.\n",
    "plt.imshow(face_gray, cmap=plt.cm.gray)\n",
    "plt.show()\n",
    "misc.imsave('face_gray.png', face_gray)"
   ]
  },
  {
   "cell_type": "markdown",
   "metadata": {
    "collapsed": true
   },
   "source": [
    "<img src=\"https://s3-us-west-2.amazonaws.com/iptutorial/face_gray.png\" alt=\"face_gray.png\" style=\"max-width:50%;\">"
   ]
  },
  {
   "cell_type": "markdown",
   "metadata": {},
   "source": [
    "We can configue the contrast of grayscale in an image by setting the min and max values. Note that gct() is called to get a reference to the current figure. It's like creating a canvas for you to draw an image on so that you can later save the image to the local folder."
   ]
  },
  {
   "cell_type": "code",
   "execution_count": 6,
   "metadata": {
    "collapsed": false
   },
   "outputs": [],
   "source": [
    "fig = plt.gcf() # Get a reference to the current figure.\n",
    "plt.imshow(face_gray, cmap=plt.cm.gray, vmin=20, vmax=300)\n",
    "plt.show()\n",
    "fig.savefig('face_gray_contrast.png')"
   ]
  },
  {
   "cell_type": "markdown",
   "metadata": {
    "collapsed": true
   },
   "source": [
    "<img src=\"https://s3-us-west-2.amazonaws.com/iptutorial/face_gray_contrast.png\" alt=\"face_gray_contour.png\" style=\"max-width:65%;\">"
   ]
  },
  {
   "cell_type": "markdown",
   "metadata": {},
   "source": [
    "Note that the image above includes axes and ticks with it. We can remove them as is shown below."
   ]
  },
  {
   "cell_type": "code",
   "execution_count": 7,
   "metadata": {
    "collapsed": true
   },
   "outputs": [],
   "source": [
    "fig = plt.gcf()\n",
    "plt.imshow(face_gray, cmap=plt.cm.gray, vmin=20, vmax=300)\n",
    "plt.axis('off')        # Remove the axes and ticks.\n",
    "plt.show()\n",
    "fig.savefig('face_gray_contrast_none.png')"
   ]
  },
  {
   "cell_type": "markdown",
   "metadata": {
    "collapsed": true
   },
   "source": [
    "<img src=\"https://s3-us-west-2.amazonaws.com/iptutorial/face_gray_contrast_none.png\" alt=\"face_gray_contrast_none.png\" style=\"max-width:65%;\">"
   ]
  },
  {
   "cell_type": "markdown",
   "metadata": {},
   "source": [
    "In some cases, we may want to draw contour lines to show certain properties of the content in an image, i.e. a contour map is a map illustrated with contour lines, for example a topographic map, which thus shows valleys and hills, and the steepness of slopes. Here, we draw out the contour lines on the raccoon face as an example."
   ]
  },
  {
   "cell_type": "code",
   "execution_count": 8,
   "metadata": {
    "collapsed": false
   },
   "outputs": [],
   "source": [
    "plt.imshow(face_gray, cmap=plt.cm.gray)\n",
    "plt.contour(face_gray, [50, 200]) # Set color scaling for the output contour image.\n",
    "plt.axis('off')\n",
    "plt.show()"
   ]
  },
  {
   "cell_type": "markdown",
   "metadata": {},
   "source": [
    "<img src=\"https://s3-us-west-2.amazonaws.com/iptutorial/face_gray_contour.png\" alt=\"face_gray_contour.png\" style=\"max-width:65%;\">"
   ]
  },
  {
   "cell_type": "markdown",
   "metadata": {},
   "source": [
    "## Rotation flipping and cropping\n",
    "We can easily rotate, flip and crop images in Python. Note that the image will shrink to fit the figure by default. Here, we also demonstrate the way to put a series of subplots in one figure."
   ]
  },
  {
   "cell_type": "code",
   "execution_count": 9,
   "metadata": {
    "collapsed": false
   },
   "outputs": [],
   "source": [
    "face = misc.face(gray = True)\n",
    "\n",
    "# rotation, 60 degrees counter-clockwise and reshape\n",
    "rotate_face = ndimage.rotate(face, 60)\n",
    "\n",
    "# rotation with no reshape\n",
    "rotate_face_nonereshape = ndimage.rotate(face, 60, reshape=False)\n",
    "\n",
    "# flipping\n",
    "flip_face = np.flipud(face)\n",
    "\n",
    "# cropping\n",
    "x, y = face.shape\n",
    "# crop each side by 1/5 of the image length(width)\n",
    "crop_face = face[x / 5: - x / 5, y / 5: - y / 5] \n",
    "\n",
    "\n",
    "plt.figure(figsize=(12.5, 2.5)) # Set the width and height for the figure(the \"canvas\").\n",
    "\n",
    "# In plt.subplot(), the first digit is the number of rows; \n",
    "# the second digit is the number of columns; the third digit is the place number.\n",
    "# For example, plt.subplot(142) means the subplot is at the second place from\n",
    "# left to right in a figure with 1 row and 4 columns(4 placeholders for the subplots).\n",
    "plt.subplot(141)\n",
    "plt.imshow(rotate_face, cmap=plt.cm.gray)\n",
    "plt.axis('off')\n",
    "plt.subplot(142)\n",
    "plt.imshow(rotate_face_nonereshape, cmap=plt.cm.gray)\n",
    "plt.axis('off')\n",
    "plt.subplot(143)\n",
    "plt.imshow(flip_face, cmap=plt.cm.gray)\n",
    "plt.axis('off')\n",
    "plt.subplot(144)\n",
    "plt.imshow(crop_face, cmap=plt.cm.gray)\n",
    "plt.axis('off')\n",
    "\n",
    "# Adjust the margins and paddings.\n",
    "plt.subplots_adjust(wspace=0, hspace=0, top=1, bottom=0.1, left=0, right=1)\n",
    "plt.show()\n",
    "\n",
    "misc.imsave('rotate_face.png', rotate_face)\n",
    "misc.imsave('rotate_face_nonereshape.png', rotate_face_nonereshape)\n",
    "misc.imsave('flip_face.png', flip_face)\n",
    "misc.imsave('crop_face.png', crop_face)"
   ]
  },
  {
   "cell_type": "markdown",
   "metadata": {},
   "source": [
    "<img src=\"https://s3-us-west-2.amazonaws.com/iptutorial/rfc_demo.png\" alt=\"rotate_face.png\">"
   ]
  },
  {
   "cell_type": "markdown",
   "metadata": {},
   "source": [
    "## Image smoothing"
   ]
  },
  {
   "cell_type": "markdown",
   "metadata": {},
   "source": [
    "Smoothing, also called blurring, is a simple and frequently used image processing operation. There are many reasons for smoothing. One main reason is to reduce noise. We can use filters to smooth images. Two common filters we will use in the real world are uniform filter and Gaussian filter.\n",
    "\n",
    "The most common linear smoothing algorithm is the uniform filter(mean filter), and it is probably the most popular filter amongst interpreters. Typically, the weights in the kernels are uniform. You can grasp the idea of mean filter [here](https://www.markschulze.net/java/meanmed.html).\n",
    "\n",
    "Gaussian smoothing(aka. Gaussian blur) is the result of blurring an image by a Gaussian function. It is a widely used effect in graphics software, typically to reduce image noise and reduce detail. Mathematically, applying a Gaussian blur to an image is the same as convolving the image with a Gaussian function. To understand gaussian filter in details, see [here](http://homepages.inf.ed.ac.uk/rbf/HIPR2/gsmooth.htm).\n",
    "\n",
    "We can apply these two filters using scipy.ndimage."
   ]
  },
  {
   "cell_type": "code",
   "execution_count": 10,
   "metadata": {
    "collapsed": false
   },
   "outputs": [],
   "source": [
    "f = misc.face(gray=True)\n",
    "uniform_smooth_5 = ndimage.uniform_filter(f, size = 5) # blurred with uniform filters\n",
    "\n",
    "uniform_smooth_10 = ndimage.uniform_filter(f, size = 10) # very blurred with uniform filters\n",
    "\n",
    "gaussian_smooth_3 = ndimage.gaussian_filter(f, sigma = 3) # blurred with gaussian filters\n",
    "\n",
    "gaussian_smooth_6 = ndimage.gaussian_filter(f, sigma = 6) # very blurred with gaussian filters\n",
    "\n",
    "plt.figure(figsize=(12.5, 2.5))\n",
    "\n",
    "plt.subplot(141)\n",
    "plt.imshow(uniform_smooth_5, cmap=plt.cm.gray)\n",
    "plt.axis('off')\n",
    "plt.subplot(142)\n",
    "plt.imshow(uniform_smooth_10, cmap=plt.cm.gray)\n",
    "plt.axis('off')\n",
    "plt.subplot(143)\n",
    "plt.imshow(gaussian_smooth_3, cmap=plt.cm.gray)\n",
    "plt.axis('off')\n",
    "plt.subplot(144)\n",
    "plt.imshow(gaussian_smooth_6, cmap=plt.cm.gray)\n",
    "plt.axis('off')\n",
    "\n",
    "plt.subplots_adjust(wspace=0, hspace=0, top=1, bottom=0.1, left=0, right=1)\n",
    "plt.show()\n",
    "\n",
    "misc.imsave('uniform_smooth_5.png', uniform_smooth_5)\n",
    "misc.imsave('uniform_smooth_10.png', uniform_smooth_10) \n",
    "misc.imsave('gaussian_smooth_3.png', gaussian_smooth_3)\n",
    "misc.imsave('gaussian_smooth_6.png', gaussian_smooth_6) "
   ]
  },
  {
   "cell_type": "markdown",
   "metadata": {},
   "source": [
    "<img src=\"https://s3-us-west-2.amazonaws.com/iptutorial/smoothing_demo.png\" alt=\"smoothing_demo.png\">"
   ]
  },
  {
   "cell_type": "markdown",
   "metadata": {},
   "source": [
    "## Sharpening"
   ]
  },
  {
   "cell_type": "markdown",
   "metadata": {},
   "source": [
    "Image enhancement is the process of adjusting digital images so that the results are more suitable for display or further image analysis. For example, you can remove noise, sharpen, or brighten an image, making it easier to identify key features. For more enhancement methods in image processing, you can find a list of them [here](https://www.mathworks.com/discovery/image-enhancement.html). Sharpening the images is one of the ways.\n",
    "\n",
    "The following code shows a simple way of sharpening an image. To sharpen the image, we are trying to increase the weight of edges so that the image can be more \"clear\". We can achieve this by adding an approximation of the [Laplacian](http://www.cedar.buffalo.edu/~srihari/CSE574/Chap4/Chap4-Part4.pdf). According to the following code, we first apply a gaussian filter to the image and use a linear contrast to sharpen the image."
   ]
  },
  {
   "cell_type": "code",
   "execution_count": 11,
   "metadata": {
    "collapsed": false
   },
   "outputs": [
    {
     "name": "stderr",
     "output_type": "stream",
     "text": [
      "//anaconda/lib/python2.7/site-packages/matplotlib/tight_layout.py:222: UserWarning: tight_layout : falling back to Agg renderer\n",
      "  warnings.warn(\"tight_layout : falling back to Agg renderer\")\n"
     ]
    }
   ],
   "source": [
    "f = misc.face(gray = True).astype(float)\n",
    "# We first create a blurred image.\n",
    "blurred_f = ndimage.gaussian_filter(f, sigma = 3)\n",
    "filter_blurred_f = ndimage.gaussian_filter(blurred_f, 1) # Gaussian filter\n",
    "alpha = 30\n",
    "sharpened = blurred_f + alpha * (blurred_f - filter_blurred_f) # A linear contrast\n",
    "\n",
    "plt.figure(figsize=(12, 4))\n",
    "plt.subplot(131)\n",
    "plt.imshow(gaussian_smooth_3, cmap=plt.cm.gray)\n",
    "plt.axis('off')\n",
    "plt.subplot(132)\n",
    "plt.imshow(blurred_f, cmap=plt.cm.gray)\n",
    "plt.axis('off')\n",
    "plt.subplot(133)\n",
    "plt.imshow(sharpened, cmap=plt.cm.gray)\n",
    "plt.axis('off')\n",
    "\n",
    "plt.tight_layout()\n",
    "plt.show()\n",
    "misc.imsave('original.png', f)\n",
    "misc.imsave('blurred.png', blurred_f)\n",
    "misc.imsave('sharpened.png', sharpened)"
   ]
  },
  {
   "cell_type": "markdown",
   "metadata": {},
   "source": [
    "<img src=\"https://s3-us-west-2.amazonaws.com/iptutorial/sharpened_demo.png\" alt=\"sharpened_demo.png\">"
   ]
  },
  {
   "cell_type": "markdown",
   "metadata": {},
   "source": [
    "## Image denoising\n",
    "\n",
    "Intuitively, image denoising is the process of removing noise from images and preserving the edges. Oftentimes, we use filters to achieve this. A filter is a device or process that removes some unwanted components or features from a signal. As an image can be viewed as a type of high dimensional signal, we can use filters to alleviate the noise in an image.\n",
    "\n",
    "Here, we apply [Gaussian filter](https://en.wikipedia.org/wiki/Gaussian_filter) and [median filter](https://en.wikipedia.org/wiki/Median_filter) to the image. You can learn about more types of filters [here](https://en.wikipedia.org/wiki/Filter_(signal_processing))"
   ]
  },
  {
   "cell_type": "code",
   "execution_count": 12,
   "metadata": {
    "collapsed": true
   },
   "outputs": [],
   "source": [
    "f = misc.face(gray=True)\n",
    "f = f[230:290, 220:320]\n",
    "\n",
    "noisy = f + 0.4*f.std()*np.random.random(f.shape)  # Generate a random noise signal\n",
    "\n",
    "gauss_denoised = ndimage.gaussian_filter(noisy, 2) # Gaussian filter\n",
    "med_denoised = ndimage.median_filter(noisy, 3)     # Median filter\n",
    "\n",
    "\n",
    "plt.figure(figsize=(12,2.8))\n",
    "\n",
    "plt.subplot(131)\n",
    "plt.imshow(noisy, cmap=plt.cm.gray, vmin=40, vmax=220)\n",
    "plt.axis('off')\n",
    "plt.title('noisy', fontsize=20)\n",
    "plt.subplot(132)\n",
    "plt.imshow(gauss_denoised, cmap=plt.cm.gray, vmin=40, vmax=220)\n",
    "plt.axis('off')\n",
    "plt.title('Gaussian filter', fontsize=20)\n",
    "plt.subplot(133)\n",
    "plt.imshow(med_denoised, cmap=plt.cm.gray, vmin=40, vmax=220)\n",
    "plt.axis('off')\n",
    "plt.title('Median filter', fontsize=20)\n",
    "\n",
    "plt.subplots_adjust(wspace=0.02, hspace=0.02, top=0.9, bottom=0, left=0, right=1)\n",
    "plt.show()\n",
    "misc.imsave('noisy.png', noisy)\n",
    "misc.imsave('gauss_denoised.png', gauss_denoised)\n",
    "misc.imsave('med_denoised.png', med_denoised)"
   ]
  },
  {
   "cell_type": "markdown",
   "metadata": {},
   "source": [
    "<img src=\"https://s3-us-west-2.amazonaws.com/iptutorial/denoised_demo.png\" alt=\"denoised_demo.png\">"
   ]
  },
  {
   "cell_type": "markdown",
   "metadata": {},
   "source": [
    "From the figure above, we can see that a Gaussian filter smoothes the noise out and the edges as well, while a median filter preserves better the edges."
   ]
  },
  {
   "cell_type": "markdown",
   "metadata": {},
   "source": [
    "## Summary and references"
   ]
  },
  {
   "cell_type": "markdown",
   "metadata": {},
   "source": [
    "This tutorial highlighted just a few basic for image manipulation and processing using the core scientific modules NumPy and SciPy. \n",
    "\n",
    "Since these two modules mainly rely on multidimensional array to do image processing (in particular, the submodule [scipy.ndimage](https://docs.scipy.org/doc/scipy/reference/ndimage.html#module-scipy.ndimage) provides functions operating on n-dimensional NumPy arrays.), some of the operations covered by this tutorial may be useful for other kinds of multidimensional array processing than image processing. For more advanced image processing and computer vision methods, we may use [scikit-image](http://scikit-image.org/), [Mayavi](http://docs.enthought.com/mayavi/mayavi/)(an interactive 3D plotting package) and refer to the following resources.\n",
    "\n",
    "1. NumPy: http://www.numpy.org/\n",
    "2. SciPy: https://www.scipy.org/\n",
    "3. Matplotlib http://matplotlib.org/\n",
    "4. PIL http://www.pythonware.com/products/pil/\n",
    "5. Scikit-image http://scikit-image.org/\n",
    "6. Mayavi http://docs.enthought.com/mayavi/mayavi/\n",
    "7. Scipy Lecture Notes http://www.scipy-lectures.org/\n",
    "8. OpenCV http://opencv.org/\n",
    "9. wikipedia https://www.wikipedia.org/"
   ]
  }
 ],
 "metadata": {
  "anaconda-cloud": {},
  "kernelspec": {
   "display_name": "Python [Root]",
   "language": "python",
   "name": "Python [Root]"
  },
  "language_info": {
   "codemirror_mode": {
    "name": "ipython",
    "version": 2
   },
   "file_extension": ".py",
   "mimetype": "text/x-python",
   "name": "python",
   "nbconvert_exporter": "python",
   "pygments_lexer": "ipython2",
   "version": "2.7.12"
  }
 },
 "nbformat": 4,
 "nbformat_minor": 0
}
