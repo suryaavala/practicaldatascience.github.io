{
 "cells": [
  {
   "cell_type": "markdown",
   "metadata": {},
   "source": [
    "# Dynamic Maps with Folium\n",
    "\n",
    "## Introduction\n",
    "\n",
    "In this tutorial, we will be looking at creating dynamic maps and visualizing geospatial data with Folium. Folium is a popular dynamic map library built upon a popular Javascript mapping library, Leaflet.js. The benefit of using Folium is that it allows you to use the data manipulation abilities of Python, primarily through pandas and geopandas, while still being able to use the power of the Javascript mapping library, Leaflet.js.\n",
    "\n",
    "We will start off with the basics, looking at some basic examples of Folium. After covering the basics, we will look at a more in-depth example, visualizing voter turnout by county in the 2012 US Presidential Election."
   ]
  },
  {
   "cell_type": "markdown",
   "metadata": {},
   "source": [
    "## Installing Folium, GeoPandas, Geopy\n",
    "\n",
    "In this tutorial, we will be using Folium primarily, but also we will need GeoPandas and Geopy. \n",
    "\n",
    "    $ pip install folium\n",
    "    \n",
    "    $ pip install geopy\n",
    "    \n",
    "    $ pip install geopandas\n",
    "    \n",
    "If for some reason you get an error with pip and you have condas installed, try installing geopandas with the following command.\n",
    "\n",
    "    $ conda install -c conda-forge geopandas"
   ]
  },
  {
   "cell_type": "code",
   "execution_count": 3,
   "metadata": {
    "collapsed": false
   },
   "outputs": [],
   "source": [
    "import folium\n",
    "import geopandas as gpd\n",
    "import pandas as pd\n",
    "import numpy as np\n",
    "from geopy.geocoders import Nominatim"
   ]
  },
  {
   "cell_type": "markdown",
   "metadata": {},
   "source": [
    "## Folium Basics\n",
    "\n",
    "Folium allows you to create a Leaflet map with the use of the Map function. Map takes in a variety of parameters to customize the settings for the map. The important parameters are location and zoom start. Location allows you to set the default location of the map and zoom start allows to set the default zoom. There are also a variety of built-in tiles that can be chosen, specified with the tiles parameter. The default tile is OpenStreetMap. For now, we will stick with the default."
   ]
  },
  {
   "cell_type": "code",
   "execution_count": 4,
   "metadata": {
    "collapsed": false
   },
   "outputs": [],
   "source": [
    "location = (40.4435, -79.9435) # coordinates of CMU\n",
    "zoom_start = 16\n",
    "CMU_map = folium.Map(location = location, zoom_start = zoom_start)"
   ]
  },
  {
   "cell_type": "markdown",
   "metadata": {},
   "source": [
    "To display the map, you can call the map object was created from folium.Map. You can also save the map to an HTML file and display the HTML file within a Jupyter notebook using or elsewhere. For the rest of the tutorial, we will be displaying from an HTML file just to make space management easier as these are maps take up a lot of space."
   ]
  },
  {
   "cell_type": "code",
   "execution_count": 5,
   "metadata": {
    "collapsed": false
   },
   "outputs": [
    {
     "data": {
      "text/html": [
       "<div style=\"width:100%;\"><div style=\"position:relative;width:100%;height:0;padding-bottom:60%;\"><iframe src=\"data:text/html;base64,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\" style=\"position:absolute;width:100%;height:100%;left:0;top:0;\"></iframe></div></div>"
      ],
      "text/plain": [
       "<folium.folium.Map at 0x8a092b0>"
      ]
     },
     "execution_count": 5,
     "metadata": {},
     "output_type": "execute_result"
    }
   ],
   "source": [
    "# Display by calling the map object\n",
    "CMU_map"
   ]
  },
  {
   "cell_type": "markdown",
   "metadata": {},
   "source": [
    "To save the map to an HTML file, simply call save on the map object and provide a directory path and file name to indicate where you want the file to be saved."
   ]
  },
  {
   "cell_type": "code",
   "execution_count": 6,
   "metadata": {
    "collapsed": true
   },
   "outputs": [],
   "source": [
    "CMU_map.save(\"extras/maps/CMU_map.html\")"
   ]
  },
  {
   "cell_type": "markdown",
   "metadata": {},
   "source": [
    "To display an HTML within a Juypter Notebook, we can take advantage of magics. Putting %%HTML at the top of a code block will make the code block run HTML. "
   ]
  },
  {
   "cell_type": "code",
   "execution_count": 7,
   "metadata": {
    "collapsed": false,
    "scrolled": false
   },
   "outputs": [
    {
     "data": {
      "text/html": [
       "<iframe width=\"100%\" height =\"500\" src=\"extras/maps/CMU_map.html\"/>"
      ],
      "text/plain": [
       "<IPython.core.display.HTML object>"
      ]
     },
     "metadata": {},
     "output_type": "display_data"
    }
   ],
   "source": [
    "%%HTML\n",
    "<iframe width=\"100%\" height =\"500\" src=\"extras/maps/CMU_map.html\"/>"
   ]
  },
  {
   "cell_type": "markdown",
   "metadata": {
    "collapsed": false
   },
   "source": [
    "## Creating Choropleth Maps\n",
    "\n",
    "We have covered the basics of creating maps. Now, we will look into creating choropleth maps which is a type of map visualization where areas are shaded in proportion to the measurement of the statistical variable being displayed on the map. This is a very useful data visualization technique for geospatial data such as unemployment rates by state.\n",
    "\n",
    "We will be working with GeoJSON data in this tutorial. If you only have access to shape files (.shp), there are many tools and tutorials online that cover converting shape files to GeoJSON files. Since this tutorial is focused more so on using Folium, it will not be explicitly covered here. Here are some resources on the topic:\n",
    "\n",
    "https://ogre.adc4gis.com/ (Converter for SHP to GeoJSON)\n",
    "\n",
    "http://www.mapshaper.org (Online Converter for SHP to GeoJSON)\n",
    "\n",
    "https://gist.github.com/frankrowe/6071443 (Python code to convert SHP to GeoJSON using PyShp)\n",
    "    \n",
    "Within this section, we will be working with the Folium map object method choropleth, which as the name implies, creates a choropleth map. We will start with a very simple example, displaying an overlay of the US states. \n",
    "\n",
    "First, we will set up a map as we did in the basics section."
   ]
  },
  {
   "cell_type": "code",
   "execution_count": 8,
   "metadata": {
    "collapsed": false
   },
   "outputs": [],
   "source": [
    "US_center = (39.8282, -98.5795) \n",
    "zoom_start = 4\n",
    "US_state_map = folium.Map(location = US_center, zoom_start= zoom_start)"
   ]
  },
  {
   "cell_type": "markdown",
   "metadata": {},
   "source": [
    "We will import a GeoJSON file of the states of the US. We will then use the choropleth method on the Folium map object."
   ]
  },
  {
   "cell_type": "code",
   "execution_count": 9,
   "metadata": {
    "collapsed": false
   },
   "outputs": [],
   "source": [
    "us_states = 'extras/data/usa_states.json'\n",
    "US_state_map.choropleth(geo_path=us_states)\n",
    "US_state_map.save(\"extras/maps/US_state_map.html\")"
   ]
  },
  {
   "cell_type": "code",
   "execution_count": 10,
   "metadata": {
    "collapsed": false
   },
   "outputs": [
    {
     "data": {
      "text/html": [
       "<iframe width=\"100%\" height =\"500\" src=\"extras/maps/US_state_map.html\"/>"
      ],
      "text/plain": [
       "<IPython.core.display.HTML object>"
      ]
     },
     "metadata": {},
     "output_type": "display_data"
    }
   ],
   "source": [
    "%%HTML\n",
    "<iframe width=\"100%\" height =\"500\" src=\"extras/maps/US_state_map.html\"/>"
   ]
  },
  {
   "cell_type": "markdown",
   "metadata": {},
   "source": [
    "Now to demonstrate visualizing actual data, we will look at a very simple data set of GDP per capita by US state for 2015. We will import the data, clean it up a bit, and then visualize it on the map.\n",
    "\n",
    "First, lets import the data and see what we are working with."
   ]
  },
  {
   "cell_type": "code",
   "execution_count": 11,
   "metadata": {
    "collapsed": false
   },
   "outputs": [
    {
     "data": {
      "text/html": [
       "<div>\n",
       "<table border=\"1\" class=\"dataframe\">\n",
       "  <thead>\n",
       "    <tr style=\"text-align: right;\">\n",
       "      <th></th>\n",
       "      <th>State</th>\n",
       "      <th>GDP</th>\n",
       "    </tr>\n",
       "  </thead>\n",
       "  <tbody>\n",
       "    <tr>\n",
       "      <th>0</th>\n",
       "      <td>AL</td>\n",
       "      <td>42,663</td>\n",
       "    </tr>\n",
       "    <tr>\n",
       "      <th>1</th>\n",
       "      <td>AK</td>\n",
       "      <td>81,801</td>\n",
       "    </tr>\n",
       "    <tr>\n",
       "      <th>2</th>\n",
       "      <td>AZ</td>\n",
       "      <td>43,269</td>\n",
       "    </tr>\n",
       "    <tr>\n",
       "      <th>3</th>\n",
       "      <td>AR</td>\n",
       "      <td>41,129</td>\n",
       "    </tr>\n",
       "    <tr>\n",
       "      <th>4</th>\n",
       "      <td>CA</td>\n",
       "      <td>61,924</td>\n",
       "    </tr>\n",
       "  </tbody>\n",
       "</table>\n",
       "</div>"
      ],
      "text/plain": [
       "  State     GDP\n",
       "0    AL  42,663\n",
       "1    AK  81,801\n",
       "2    AZ  43,269\n",
       "3    AR  41,129\n",
       "4    CA  61,924"
      ]
     },
     "execution_count": 11,
     "metadata": {},
     "output_type": "execute_result"
    }
   ],
   "source": [
    "gdp = pd.read_csv(\"extras/data/GDP2015.csv\")\n",
    "gdp.head()"
   ]
  },
  {
   "cell_type": "code",
   "execution_count": 12,
   "metadata": {
    "collapsed": false
   },
   "outputs": [
    {
     "data": {
      "text/plain": [
       "State    object\n",
       "GDP      object\n",
       "dtype: object"
      ]
     },
     "execution_count": 12,
     "metadata": {},
     "output_type": "execute_result"
    }
   ],
   "source": [
    "gdp.dtypes"
   ]
  },
  {
   "cell_type": "markdown",
   "metadata": {},
   "source": [
    "We have two columns, State and GDP (in dollars). Note that GDP is not an integer value. We need to get rid of the commas in the dollar amounts and than convert the column to an integer column so we can visualize it with Folium."
   ]
  },
  {
   "cell_type": "code",
   "execution_count": 13,
   "metadata": {
    "collapsed": false
   },
   "outputs": [],
   "source": [
    "# Remove commas from the dollar amounts\n",
    "GDP = list(gdp[\"GDP\"])\n",
    "for i in xrange(len(GDP)):\n",
    "    GDP[i] = GDP[i].replace(\",\", \"\")\n",
    "gdp[\"GDP\"] = GDP\n",
    "# Convert to correct types\n",
    "gdp[\"GDP\"] = gdp[\"GDP\"].astype(int)"
   ]
  },
  {
   "cell_type": "code",
   "execution_count": 14,
   "metadata": {
    "collapsed": false
   },
   "outputs": [
    {
     "data": {
      "text/html": [
       "<div>\n",
       "<table border=\"1\" class=\"dataframe\">\n",
       "  <thead>\n",
       "    <tr style=\"text-align: right;\">\n",
       "      <th></th>\n",
       "      <th>State</th>\n",
       "      <th>GDP</th>\n",
       "    </tr>\n",
       "  </thead>\n",
       "  <tbody>\n",
       "    <tr>\n",
       "      <th>0</th>\n",
       "      <td>AL</td>\n",
       "      <td>42663</td>\n",
       "    </tr>\n",
       "    <tr>\n",
       "      <th>1</th>\n",
       "      <td>AK</td>\n",
       "      <td>81801</td>\n",
       "    </tr>\n",
       "    <tr>\n",
       "      <th>2</th>\n",
       "      <td>AZ</td>\n",
       "      <td>43269</td>\n",
       "    </tr>\n",
       "    <tr>\n",
       "      <th>3</th>\n",
       "      <td>AR</td>\n",
       "      <td>41129</td>\n",
       "    </tr>\n",
       "    <tr>\n",
       "      <th>4</th>\n",
       "      <td>CA</td>\n",
       "      <td>61924</td>\n",
       "    </tr>\n",
       "  </tbody>\n",
       "</table>\n",
       "</div>"
      ],
      "text/plain": [
       "  State    GDP\n",
       "0    AL  42663\n",
       "1    AK  81801\n",
       "2    AZ  43269\n",
       "3    AR  41129\n",
       "4    CA  61924"
      ]
     },
     "execution_count": 14,
     "metadata": {},
     "output_type": "execute_result"
    }
   ],
   "source": [
    "gdp.head()"
   ]
  },
  {
   "cell_type": "code",
   "execution_count": 15,
   "metadata": {
    "collapsed": false
   },
   "outputs": [
    {
     "data": {
      "text/plain": [
       "State    object\n",
       "GDP       int32\n",
       "dtype: object"
      ]
     },
     "execution_count": 15,
     "metadata": {},
     "output_type": "execute_result"
    }
   ],
   "source": [
    "gdp.dtypes"
   ]
  },
  {
   "cell_type": "markdown",
   "metadata": {},
   "source": [
    "Before visualizing the data, we should take a look at our GeoJSON file, usa_states.json, to get a sense of how its organized, which will be important for visualizing our GDP per capita data. "
   ]
  },
  {
   "cell_type": "code",
   "execution_count": 16,
   "metadata": {
    "collapsed": false
   },
   "outputs": [
    {
     "data": {
      "text/html": [
       "<div>\n",
       "<table border=\"1\" class=\"dataframe\">\n",
       "  <thead>\n",
       "    <tr style=\"text-align: right;\">\n",
       "      <th></th>\n",
       "      <th>AFFGEOID</th>\n",
       "      <th>ALAND</th>\n",
       "      <th>AWATER</th>\n",
       "      <th>GEOID</th>\n",
       "      <th>LSAD</th>\n",
       "      <th>NAME</th>\n",
       "      <th>STATEFP</th>\n",
       "      <th>STATENS</th>\n",
       "      <th>STUSPS</th>\n",
       "      <th>geometry</th>\n",
       "    </tr>\n",
       "  </thead>\n",
       "  <tbody>\n",
       "    <tr>\n",
       "      <th>0</th>\n",
       "      <td>0400000US31</td>\n",
       "      <td>198972429772</td>\n",
       "      <td>1356294775</td>\n",
       "      <td>31</td>\n",
       "      <td>00</td>\n",
       "      <td>Nebraska</td>\n",
       "      <td>31</td>\n",
       "      <td>01779792</td>\n",
       "      <td>NE</td>\n",
       "      <td>POLYGON ((-104.053028 43.000587, -103.132955 4...</td>\n",
       "    </tr>\n",
       "    <tr>\n",
       "      <th>1</th>\n",
       "      <td>0400000US53</td>\n",
       "      <td>172121026344</td>\n",
       "      <td>12540093192</td>\n",
       "      <td>53</td>\n",
       "      <td>00</td>\n",
       "      <td>Washington</td>\n",
       "      <td>53</td>\n",
       "      <td>01779804</td>\n",
       "      <td>WA</td>\n",
       "      <td>POLYGON ((-117.032351 48.999188, -117.04247 47...</td>\n",
       "    </tr>\n",
       "    <tr>\n",
       "      <th>2</th>\n",
       "      <td>0400000US35</td>\n",
       "      <td>314161426332</td>\n",
       "      <td>755674004</td>\n",
       "      <td>35</td>\n",
       "      <td>00</td>\n",
       "      <td>New Mexico</td>\n",
       "      <td>35</td>\n",
       "      <td>00897535</td>\n",
       "      <td>NM</td>\n",
       "      <td>POLYGON ((-109.045223 36.999084, -108.249358 3...</td>\n",
       "    </tr>\n",
       "    <tr>\n",
       "      <th>3</th>\n",
       "      <td>0400000US46</td>\n",
       "      <td>196349394266</td>\n",
       "      <td>3379810671</td>\n",
       "      <td>46</td>\n",
       "      <td>00</td>\n",
       "      <td>South Dakota</td>\n",
       "      <td>46</td>\n",
       "      <td>01785534</td>\n",
       "      <td>SD</td>\n",
       "      <td>POLYGON ((-104.057698 44.997431, -104.039725 4...</td>\n",
       "    </tr>\n",
       "    <tr>\n",
       "      <th>4</th>\n",
       "      <td>0400000US21</td>\n",
       "      <td>102266253024</td>\n",
       "      <td>2389483091</td>\n",
       "      <td>21</td>\n",
       "      <td>00</td>\n",
       "      <td>Kentucky</td>\n",
       "      <td>21</td>\n",
       "      <td>01779786</td>\n",
       "      <td>KY</td>\n",
       "      <td>POLYGON ((-89.132685 36.9822, -89.182509 37.03...</td>\n",
       "    </tr>\n",
       "  </tbody>\n",
       "</table>\n",
       "</div>"
      ],
      "text/plain": [
       "      AFFGEOID         ALAND       AWATER GEOID LSAD          NAME STATEFP  \\\n",
       "0  0400000US31  198972429772   1356294775    31   00      Nebraska      31   \n",
       "1  0400000US53  172121026344  12540093192    53   00    Washington      53   \n",
       "2  0400000US35  314161426332    755674004    35   00    New Mexico      35   \n",
       "3  0400000US46  196349394266   3379810671    46   00  South Dakota      46   \n",
       "4  0400000US21  102266253024   2389483091    21   00      Kentucky      21   \n",
       "\n",
       "    STATENS STUSPS                                           geometry  \n",
       "0  01779792     NE  POLYGON ((-104.053028 43.000587, -103.132955 4...  \n",
       "1  01779804     WA  POLYGON ((-117.032351 48.999188, -117.04247 47...  \n",
       "2  00897535     NM  POLYGON ((-109.045223 36.999084, -108.249358 3...  \n",
       "3  01785534     SD  POLYGON ((-104.057698 44.997431, -104.039725 4...  \n",
       "4  01779786     KY  POLYGON ((-89.132685 36.9822, -89.182509 37.03...  "
      ]
     },
     "execution_count": 16,
     "metadata": {},
     "output_type": "execute_result"
    }
   ],
   "source": [
    "us_states_df = gpd.read_file(\"extras/data/usa_states.json\")\n",
    "us_states_df.head()"
   ]
  },
  {
   "cell_type": "markdown",
   "metadata": {},
   "source": [
    "Taking a look at the head of our USA States GeoJSON file, we can see that the STUSPS is the state abbreviations, which is what our GDP data is organized by. This will be important for visualizing the GDP data. It is also important to note that the way GeoJSON data is formated, the data displayed above is stored in usa_states.json within the object feature.properties. Therefore, to access STUSPS, we would access it with properties.STUSPS.\n",
    "\n",
    "We will now visualize the data using the choropleth function.\n",
    "\n",
    "There are many parameters for choropleth, but the parmaters of interest are:\n",
    "    - geo_path - File path to our GeoJSON file that has data for the geography\n",
    "    - data - Data Frame of data to visualize\n",
    "    - columns - Column mapping to key_on and column with data values to visualize from data frame of data\n",
    "    - key_on - Object attribute from geo_path to match on data to visualize\n",
    "    - fill_color - Color Brewer Code for visualization\n",
    "    - fill_opacity - Opacity for the fill\n",
    "    - line_opacity - Opacity for lines"
   ]
  },
  {
   "cell_type": "code",
   "execution_count": 17,
   "metadata": {
    "collapsed": false
   },
   "outputs": [
    {
     "name": "stderr",
     "output_type": "stream",
     "text": [
      "C:\\Users\\kreichek\\Anaconda2\\lib\\site-packages\\ipykernel\\__main__.py:8: FutureWarning: 'threshold_scale' default behavior has changed. Now you get a linear scale between the 'min' and the 'max' of your data. To get former behavior, use folium.utilities.split_six.\n"
     ]
    }
   ],
   "source": [
    "GDP_map = folium.Map(location=US_center, zoom_start=3)\n",
    "GDP_map.choropleth(geo_path=us_states, \n",
    "                   data=gdp,\n",
    "                   columns=['State', 'GDP'],\n",
    "                   key_on='properties.STUSPS',\n",
    "                   fill_color='YlGn', \n",
    "                   fill_opacity=0.7, \n",
    "                   line_opacity=0.2)\n",
    "GDP_map.save(\"extras/maps/GDP_map.html\")"
   ]
  },
  {
   "cell_type": "code",
   "execution_count": 18,
   "metadata": {
    "collapsed": false,
    "scrolled": false
   },
   "outputs": [
    {
     "data": {
      "text/html": [
       "<iframe width=\"100%\" height =\"500\" src=\"extras/maps/GDP_map.html\"/>"
      ],
      "text/plain": [
       "<IPython.core.display.HTML object>"
      ]
     },
     "metadata": {},
     "output_type": "display_data"
    }
   ],
   "source": [
    "%%HTML\n",
    "<iframe width=\"100%\" height =\"500\" src=\"extras/maps/GDP_map.html\"/>"
   ]
  },
  {
   "cell_type": "markdown",
   "metadata": {},
   "source": [
    "From this visualization of GDP per capita by state, we can get a better sense of the data. For example, we can see that the South has a lower GDP as compared to the Northeast. "
   ]
  },
  {
   "cell_type": "markdown",
   "metadata": {},
   "source": [
    "## Adding Markers to Maps\n",
    "\n",
    "We will look into adding markers to maps with Folium. We will go back to our map of CMU and add some relevant markers of campus buildings onto the map. We will use GeoPy to get the latitude and longitude of different addresses on campus in order to create the markers. \n",
    "\n",
    "Lets first get the latitude and longitude of a few addresses using the geocode method of geolocator from GeoPy."
   ]
  },
  {
   "cell_type": "code",
   "execution_count": 19,
   "metadata": {
    "collapsed": true
   },
   "outputs": [],
   "source": [
    "geolocator = Nominatim()\n",
    "\n",
    "huntLibrary = geolocator.geocode(\"4909 Frew St, Pittsburgh, PA\")\n",
    "huntLibraryLoc = (huntLibrary.latitude, huntLibrary.longitude)\n",
    "\n",
    "morewoodGardens = geolocator.geocode(\"1060 Morewood Ave, Pittsburgh, PA\")\n",
    "morewoodGardensLoc = (morewoodGardens.latitude, morewoodGardens.longitude)\n",
    "\n",
    "flagstaff = geolocator.geocode(\"Flagstaff Hill, Pittsburgh, PA\")\n",
    "flagstaffLoc = (flagstaff.latitude, flagstaff.longitude)"
   ]
  },
  {
   "cell_type": "markdown",
   "metadata": {},
   "source": [
    "Now that we have the latlong for Hunt Library, Morewood Gardens, and Flagstaff Hill, we will look into adding markers for these locations on our CMU map.\n",
    "\n",
    "Marker takes in a location and popup text and adds a simple Google Maps like marker on the map. "
   ]
  },
  {
   "cell_type": "code",
   "execution_count": 20,
   "metadata": {
    "collapsed": false
   },
   "outputs": [],
   "source": [
    "folium.Marker(location=huntLibraryLoc, \n",
    "              popup='Hunt Library').add_to(CMU_map)"
   ]
  },
  {
   "cell_type": "markdown",
   "metadata": {},
   "source": [
    "RegularPolygonMarker can be more customized than Marker, taking in a location, popup text, fill_color, the number of sides for the marker to have, and the radius of the marker."
   ]
  },
  {
   "cell_type": "code",
   "execution_count": null,
   "metadata": {
    "collapsed": true
   },
   "outputs": [],
   "source": [
    "folium.RegularPolygonMarker(location=morewoodGardensLoc, \n",
    "                            popup='Morewood Gardens',\n",
    "                            fill_color='red', \n",
    "                            number_of_sides=5, \n",
    "                            radius=10).add_to(CMU_map)"
   ]
  },
  {
   "cell_type": "markdown",
   "metadata": {},
   "source": [
    "CircleMarker takes a location, popup text, color, fill-color, and a radius. It creates a translucent circular marker, which is good for indicating larger locations such as parks."
   ]
  },
  {
   "cell_type": "code",
   "execution_count": null,
   "metadata": {
    "collapsed": true
   },
   "outputs": [],
   "source": [
    "folium.CircleMarker(location=flagstaffLoc, \n",
    "                    radius=75,\n",
    "                    popup='Flagstaff Hill', \n",
    "                    color='#ADD8E6',\n",
    "                    fill_color='#ADD8E6').add_to(CMU_map)"
   ]
  },
  {
   "cell_type": "code",
   "execution_count": null,
   "metadata": {
    "collapsed": true
   },
   "outputs": [],
   "source": [
    "CMU_map.save(\"extras/maps/CMU_map_markers.html\")"
   ]
  },
  {
   "cell_type": "code",
   "execution_count": 21,
   "metadata": {
    "collapsed": false
   },
   "outputs": [
    {
     "data": {
      "text/html": [
       "<iframe width=\"100%\" height =\"500\" src=\"extras/maps/CMU_map_markers.html\"/>"
      ],
      "text/plain": [
       "<IPython.core.display.HTML object>"
      ]
     },
     "metadata": {},
     "output_type": "display_data"
    }
   ],
   "source": [
    "%%HTML\n",
    "<iframe width=\"100%\" height =\"500\" src=\"extras/maps/CMU_map_markers.html\"/>"
   ]
  },
  {
   "cell_type": "markdown",
   "metadata": {},
   "source": [
    "## Example: Creating a Political Map With Folium\n",
    "\n",
    "Now that we have covered the fundamentals of Folium, you should have a good sense of the basic functionalities. To tie everything we have learned together, we will look into using real data sets to visualize a map of voter turnout data by county for the 2012 US Presidential Election. To create this statistic, we will look at US Census data for 2012 to get data on eligible voters by county and then looking at US 2012 Election data to get data on how many people voted in each county.\n",
    "\n",
    "Therefore, we will be using a few datasets. Some of the data sets had some basic cleaning prior to not detract too much from the primary purpose of this tutorial, but they remain in their original state for the most part to highlight the data cleaning needed to properly use Folium.\n",
    "\n",
    "The sources for the data can be found in the conclusion.\n",
    "\n",
    "Lets begin by importing the datasets."
   ]
  },
  {
   "cell_type": "code",
   "execution_count": 22,
   "metadata": {
    "collapsed": false
   },
   "outputs": [],
   "source": [
    "county_shape = gpd.read_file(\"extras/data/2012CountyShapes.json\")\n",
    "presidential_results = pd.read_csv(\"extras/data/2012PresidentialResults.csv\")\n",
    "voting_pop = pd.read_csv(\"extras/data/2012VotingAgePopulation.csv\")"
   ]
  },
  {
   "cell_type": "markdown",
   "metadata": {},
   "source": [
    "Lets take a look at the head of each of our datasets.\n",
    "\n",
    "Let's start with our GeoJSON file of the counties. The primary columns to take note of here are NAME, GEOID, and geometry. NAME is simply the name of the county, GEOID is a standardized code to uniquely identify the state and county, and geometry is the polygon shape of the county. GEOID is the same as a FIPS code, which will be important when we look at the other datasets."
   ]
  },
  {
   "cell_type": "code",
   "execution_count": 23,
   "metadata": {
    "collapsed": false,
    "scrolled": false
   },
   "outputs": [
    {
     "data": {
      "text/html": [
       "<div>\n",
       "<table border=\"1\" class=\"dataframe\">\n",
       "  <thead>\n",
       "    <tr style=\"text-align: right;\">\n",
       "      <th></th>\n",
       "      <th>ALAND</th>\n",
       "      <th>AWATER</th>\n",
       "      <th>CBSAFP</th>\n",
       "      <th>CLASSFP</th>\n",
       "      <th>COUNTYFP</th>\n",
       "      <th>COUNTYNS</th>\n",
       "      <th>CSAFP</th>\n",
       "      <th>FUNCSTAT</th>\n",
       "      <th>GEOID</th>\n",
       "      <th>INTPTLAT</th>\n",
       "      <th>INTPTLON</th>\n",
       "      <th>LSAD</th>\n",
       "      <th>METDIVFP</th>\n",
       "      <th>MTFCC</th>\n",
       "      <th>NAME</th>\n",
       "      <th>NAMELSAD</th>\n",
       "      <th>STATEFP</th>\n",
       "      <th>geometry</th>\n",
       "    </tr>\n",
       "  </thead>\n",
       "  <tbody>\n",
       "    <tr>\n",
       "      <th>0</th>\n",
       "      <td>10433603617</td>\n",
       "      <td>2739477738</td>\n",
       "      <td>25900</td>\n",
       "      <td>H1</td>\n",
       "      <td>001</td>\n",
       "      <td>00365280</td>\n",
       "      <td></td>\n",
       "      <td>A</td>\n",
       "      <td>15001</td>\n",
       "      <td>+19.5977643</td>\n",
       "      <td>-155.5024434</td>\n",
       "      <td>06</td>\n",
       "      <td></td>\n",
       "      <td>G4020</td>\n",
       "      <td>Hawaii</td>\n",
       "      <td>Hawaii County</td>\n",
       "      <td>15</td>\n",
       "      <td>POLYGON ((-155.963465 19.082072, -155.968892 1...</td>\n",
       "    </tr>\n",
       "    <tr>\n",
       "      <th>1</th>\n",
       "      <td>1984070931</td>\n",
       "      <td>1809509</td>\n",
       "      <td>31620</td>\n",
       "      <td>H1</td>\n",
       "      <td>027</td>\n",
       "      <td>00063761</td>\n",
       "      <td></td>\n",
       "      <td>A</td>\n",
       "      <td>05027</td>\n",
       "      <td>+33.2230377</td>\n",
       "      <td>-093.2328433</td>\n",
       "      <td>06</td>\n",
       "      <td></td>\n",
       "      <td>G4020</td>\n",
       "      <td>Columbia</td>\n",
       "      <td>Columbia County</td>\n",
       "      <td>05</td>\n",
       "      <td>POLYGON ((-93.365585 33.444459, -93.326751 33....</td>\n",
       "    </tr>\n",
       "    <tr>\n",
       "      <th>2</th>\n",
       "      <td>3009063806</td>\n",
       "      <td>13587978</td>\n",
       "      <td></td>\n",
       "      <td>H1</td>\n",
       "      <td>011</td>\n",
       "      <td>01035619</td>\n",
       "      <td></td>\n",
       "      <td>A</td>\n",
       "      <td>38011</td>\n",
       "      <td>+46.1101438</td>\n",
       "      <td>-103.5059433</td>\n",
       "      <td>06</td>\n",
       "      <td></td>\n",
       "      <td>G4020</td>\n",
       "      <td>Bowman</td>\n",
       "      <td>Bowman County</td>\n",
       "      <td>38</td>\n",
       "      <td>POLYGON ((-104.045569 46.280188, -104.000486 4...</td>\n",
       "    </tr>\n",
       "    <tr>\n",
       "      <th>3</th>\n",
       "      <td>4647119053</td>\n",
       "      <td>315962259</td>\n",
       "      <td></td>\n",
       "      <td>H1</td>\n",
       "      <td>031</td>\n",
       "      <td>00974114</td>\n",
       "      <td></td>\n",
       "      <td>A</td>\n",
       "      <td>36031</td>\n",
       "      <td>+44.1089711</td>\n",
       "      <td>-073.7775726</td>\n",
       "      <td>06</td>\n",
       "      <td></td>\n",
       "      <td>G4020</td>\n",
       "      <td>Essex</td>\n",
       "      <td>Essex County</td>\n",
       "      <td>36</td>\n",
       "      <td>POLYGON ((-73.90968699999999 44.429699, -73.80...</td>\n",
       "    </tr>\n",
       "    <tr>\n",
       "      <th>4</th>\n",
       "      <td>9733550626</td>\n",
       "      <td>26310378</td>\n",
       "      <td></td>\n",
       "      <td>H1</td>\n",
       "      <td>007</td>\n",
       "      <td>00929117</td>\n",
       "      <td></td>\n",
       "      <td>A</td>\n",
       "      <td>35007</td>\n",
       "      <td>+36.6129625</td>\n",
       "      <td>-104.6401256</td>\n",
       "      <td>06</td>\n",
       "      <td></td>\n",
       "      <td>G4020</td>\n",
       "      <td>Colfax</td>\n",
       "      <td>Colfax County</td>\n",
       "      <td>35</td>\n",
       "      <td>POLYGON ((-105.340907 36.262245, -105.327521 3...</td>\n",
       "    </tr>\n",
       "  </tbody>\n",
       "</table>\n",
       "</div>"
      ],
      "text/plain": [
       "         ALAND      AWATER CBSAFP CLASSFP COUNTYFP  COUNTYNS CSAFP FUNCSTAT  \\\n",
       "0  10433603617  2739477738  25900      H1      001  00365280              A   \n",
       "1   1984070931     1809509  31620      H1      027  00063761              A   \n",
       "2   3009063806    13587978             H1      011  01035619              A   \n",
       "3   4647119053   315962259             H1      031  00974114              A   \n",
       "4   9733550626    26310378             H1      007  00929117              A   \n",
       "\n",
       "   GEOID     INTPTLAT      INTPTLON LSAD METDIVFP  MTFCC      NAME  \\\n",
       "0  15001  +19.5977643  -155.5024434   06           G4020    Hawaii   \n",
       "1  05027  +33.2230377  -093.2328433   06           G4020  Columbia   \n",
       "2  38011  +46.1101438  -103.5059433   06           G4020    Bowman   \n",
       "3  36031  +44.1089711  -073.7775726   06           G4020     Essex   \n",
       "4  35007  +36.6129625  -104.6401256   06           G4020    Colfax   \n",
       "\n",
       "          NAMELSAD STATEFP                                           geometry  \n",
       "0    Hawaii County      15  POLYGON ((-155.963465 19.082072, -155.968892 1...  \n",
       "1  Columbia County      05  POLYGON ((-93.365585 33.444459, -93.326751 33....  \n",
       "2    Bowman County      38  POLYGON ((-104.045569 46.280188, -104.000486 4...  \n",
       "3     Essex County      36  POLYGON ((-73.90968699999999 44.429699, -73.80...  \n",
       "4    Colfax County      35  POLYGON ((-105.340907 36.262245, -105.327521 3...  "
      ]
     },
     "execution_count": 23,
     "metadata": {},
     "output_type": "execute_result"
    }
   ],
   "source": [
    "county_shape.head()"
   ]
  },
  {
   "cell_type": "markdown",
   "metadata": {},
   "source": [
    "Now lets take a look at the presidential data. The primary columns to take note here of are FIPS Code and TOTAL VOTES CAST. We can use the FIPS code to map to our geometries in the county_shape file with the GEOID column. TOTAL VOTES CAST is the total number of votes for that county for the 2012 US Presidential Election. "
   ]
  },
  {
   "cell_type": "code",
   "execution_count": 24,
   "metadata": {
    "collapsed": false
   },
   "outputs": [
    {
     "data": {
      "text/html": [
       "<div>\n",
       "<table border=\"1\" class=\"dataframe\">\n",
       "  <thead>\n",
       "    <tr style=\"text-align: right;\">\n",
       "      <th></th>\n",
       "      <th>State Postal</th>\n",
       "      <th>County Number</th>\n",
       "      <th>FIPS Code</th>\n",
       "      <th>County Name</th>\n",
       "      <th>Precincts Reporting</th>\n",
       "      <th>Total Precincts</th>\n",
       "      <th>TOTAL VOTES CAST</th>\n",
       "    </tr>\n",
       "  </thead>\n",
       "  <tbody>\n",
       "    <tr>\n",
       "      <th>0</th>\n",
       "      <td>AK</td>\n",
       "      <td>1</td>\n",
       "      <td>0</td>\n",
       "      <td>Alaska</td>\n",
       "      <td>437</td>\n",
       "      <td>438</td>\n",
       "      <td>220596</td>\n",
       "    </tr>\n",
       "    <tr>\n",
       "      <th>1</th>\n",
       "      <td>AK</td>\n",
       "      <td>2001</td>\n",
       "      <td>2000</td>\n",
       "      <td>Alaska</td>\n",
       "      <td>437</td>\n",
       "      <td>438</td>\n",
       "      <td>220596</td>\n",
       "    </tr>\n",
       "    <tr>\n",
       "      <th>2</th>\n",
       "      <td>AL</td>\n",
       "      <td>1</td>\n",
       "      <td>0</td>\n",
       "      <td>Alabama</td>\n",
       "      <td>2711</td>\n",
       "      <td>2711</td>\n",
       "      <td>2064699</td>\n",
       "    </tr>\n",
       "    <tr>\n",
       "      <th>3</th>\n",
       "      <td>AL</td>\n",
       "      <td>1001</td>\n",
       "      <td>1001</td>\n",
       "      <td>Autauga</td>\n",
       "      <td>28</td>\n",
       "      <td>28</td>\n",
       "      <td>23909</td>\n",
       "    </tr>\n",
       "    <tr>\n",
       "      <th>4</th>\n",
       "      <td>AL</td>\n",
       "      <td>1002</td>\n",
       "      <td>1003</td>\n",
       "      <td>Baldwin</td>\n",
       "      <td>55</td>\n",
       "      <td>55</td>\n",
       "      <td>84988</td>\n",
       "    </tr>\n",
       "  </tbody>\n",
       "</table>\n",
       "</div>"
      ],
      "text/plain": [
       "  State Postal  County Number  FIPS Code County Name  Precincts Reporting  \\\n",
       "0           AK              1          0      Alaska                  437   \n",
       "1           AK           2001       2000      Alaska                  437   \n",
       "2           AL              1          0     Alabama                 2711   \n",
       "3           AL           1001       1001     Autauga                   28   \n",
       "4           AL           1002       1003     Baldwin                   55   \n",
       "\n",
       "   Total Precincts  TOTAL VOTES CAST  \n",
       "0              438            220596  \n",
       "1              438            220596  \n",
       "2             2711           2064699  \n",
       "3               28             23909  \n",
       "4               55             84988  "
      ]
     },
     "execution_count": 24,
     "metadata": {},
     "output_type": "execute_result"
    }
   ],
   "source": [
    "presidential_results.head()"
   ]
  },
  {
   "cell_type": "markdown",
   "metadata": {},
   "source": [
    "Finally, lets take a look at the voting population data. Notice that the data is broken down by ethnicity. We are primarily concerned about the total elgible voting population for each county, so we will need to filter just those rows out. Also notice we don't have a FIPS column, but we have a GEOID column. This GEOID column is formatted differently from our GEOID column in the county shape file. For this GEOID column, the last 5 digits of the GEOID is the FIPS, so with some data transformations we can create the FIPS column for this data frame and join it with the other two data sets."
   ]
  },
  {
   "cell_type": "code",
   "execution_count": 28,
   "metadata": {
    "collapsed": false
   },
   "outputs": [
    {
     "data": {
      "text/html": [
       "<div>\n",
       "<table border=\"1\" class=\"dataframe\">\n",
       "  <thead>\n",
       "    <tr style=\"text-align: right;\">\n",
       "      <th></th>\n",
       "      <th>GEONAME</th>\n",
       "      <th>LNTITLE</th>\n",
       "      <th>GEOID</th>\n",
       "      <th>LNNUMBER</th>\n",
       "      <th>TOT_EST</th>\n",
       "      <th>TOT_MOE</th>\n",
       "      <th>ADU_EST</th>\n",
       "      <th>ADU_MOE</th>\n",
       "      <th>CIT_EST</th>\n",
       "      <th>CIT_MOE</th>\n",
       "      <th>CVAP_EST</th>\n",
       "      <th>CVAP_MOE</th>\n",
       "    </tr>\n",
       "  </thead>\n",
       "  <tbody>\n",
       "    <tr>\n",
       "      <th>0</th>\n",
       "      <td>Autauga County, Alabama</td>\n",
       "      <td>Total</td>\n",
       "      <td>05000US01001</td>\n",
       "      <td>1</td>\n",
       "      <td>55135</td>\n",
       "      <td>NaN</td>\n",
       "      <td>40920</td>\n",
       "      <td>NaN</td>\n",
       "      <td>54675</td>\n",
       "      <td>198</td>\n",
       "      <td>40545</td>\n",
       "      <td>160</td>\n",
       "    </tr>\n",
       "    <tr>\n",
       "      <th>1</th>\n",
       "      <td>Autauga County, Alabama</td>\n",
       "      <td>Not Hispanic or Latino</td>\n",
       "      <td>05000US01001</td>\n",
       "      <td>2</td>\n",
       "      <td>53745</td>\n",
       "      <td>NaN</td>\n",
       "      <td>40055</td>\n",
       "      <td>NaN</td>\n",
       "      <td>53510</td>\n",
       "      <td>152</td>\n",
       "      <td>39885</td>\n",
       "      <td>115</td>\n",
       "    </tr>\n",
       "    <tr>\n",
       "      <th>2</th>\n",
       "      <td>Autauga County, Alabama</td>\n",
       "      <td>American Indian or Alaska Native Alone</td>\n",
       "      <td>05000US01001</td>\n",
       "      <td>3</td>\n",
       "      <td>235</td>\n",
       "      <td>64.0</td>\n",
       "      <td>190</td>\n",
       "      <td>55.0</td>\n",
       "      <td>235</td>\n",
       "      <td>64</td>\n",
       "      <td>190</td>\n",
       "      <td>55</td>\n",
       "    </tr>\n",
       "    <tr>\n",
       "      <th>3</th>\n",
       "      <td>Autauga County, Alabama</td>\n",
       "      <td>Asian Alone</td>\n",
       "      <td>05000US01001</td>\n",
       "      <td>4</td>\n",
       "      <td>545</td>\n",
       "      <td>93.0</td>\n",
       "      <td>420</td>\n",
       "      <td>59.0</td>\n",
       "      <td>475</td>\n",
       "      <td>127</td>\n",
       "      <td>355</td>\n",
       "      <td>94</td>\n",
       "    </tr>\n",
       "    <tr>\n",
       "      <th>4</th>\n",
       "      <td>Autauga County, Alabama</td>\n",
       "      <td>Black or African American Alone</td>\n",
       "      <td>05000US01001</td>\n",
       "      <td>5</td>\n",
       "      <td>10155</td>\n",
       "      <td>144.0</td>\n",
       "      <td>7285</td>\n",
       "      <td>41.0</td>\n",
       "      <td>10115</td>\n",
       "      <td>152</td>\n",
       "      <td>7285</td>\n",
       "      <td>41</td>\n",
       "    </tr>\n",
       "  </tbody>\n",
       "</table>\n",
       "</div>"
      ],
      "text/plain": [
       "                   GEONAME                                 LNTITLE  \\\n",
       "0  Autauga County, Alabama                                   Total   \n",
       "1  Autauga County, Alabama                  Not Hispanic or Latino   \n",
       "2  Autauga County, Alabama  American Indian or Alaska Native Alone   \n",
       "3  Autauga County, Alabama                             Asian Alone   \n",
       "4  Autauga County, Alabama         Black or African American Alone   \n",
       "\n",
       "          GEOID  LNNUMBER  TOT_EST  TOT_MOE  ADU_EST  ADU_MOE  CIT_EST  \\\n",
       "0  05000US01001         1    55135      NaN    40920      NaN    54675   \n",
       "1  05000US01001         2    53745      NaN    40055      NaN    53510   \n",
       "2  05000US01001         3      235     64.0      190     55.0      235   \n",
       "3  05000US01001         4      545     93.0      420     59.0      475   \n",
       "4  05000US01001         5    10155    144.0     7285     41.0    10115   \n",
       "\n",
       "   CIT_MOE  CVAP_EST  CVAP_MOE  \n",
       "0      198     40545       160  \n",
       "1      152     39885       115  \n",
       "2       64       190        55  \n",
       "3      127       355        94  \n",
       "4      152      7285        41  "
      ]
     },
     "execution_count": 28,
     "metadata": {},
     "output_type": "execute_result"
    }
   ],
   "source": [
    "voting_pop.head()"
   ]
  },
  {
   "cell_type": "markdown",
   "metadata": {},
   "source": [
    "Lets first visualize the counties on a map to get a sense that our county GeoJSON looks good."
   ]
  },
  {
   "cell_type": "code",
   "execution_count": 29,
   "metadata": {
    "collapsed": false
   },
   "outputs": [],
   "source": [
    "US_center = (39.8282, -98.5795) \n",
    "zoom_start = 4\n",
    "US_counties_map = folium.Map(location = US_center, zoom_start= zoom_start)\n",
    "us_counties = 'extras/data/2012CountyShapes.json'\n",
    "US_counties_map.choropleth(geo_path=us_counties)\n",
    "US_counties_map.save(\"extras/maps/US_counties_map.html\")"
   ]
  },
  {
   "cell_type": "code",
   "execution_count": 30,
   "metadata": {
    "collapsed": false
   },
   "outputs": [
    {
     "data": {
      "text/html": [
       "<iframe width=\"100%\" height =\"500\" src=\"extras/maps/US_counties_map.html\"/>"
      ],
      "text/plain": [
       "<IPython.core.display.HTML object>"
      ]
     },
     "metadata": {},
     "output_type": "display_data"
    }
   ],
   "source": [
    "%%HTML\n",
    "<iframe width=\"100%\" height =\"500\" src=\"extras/maps/US_counties_map.html\"/>"
   ]
  },
  {
   "cell_type": "markdown",
   "metadata": {
    "collapsed": true
   },
   "source": [
    "Our GeoJSON looks great! Now lets start transforming our data to work toward visualizing election turnout in the 2012 US Presidential Election.\n",
    "\n",
    "First, we will clean the county shape data. We will simply rename the GEOID column to FIPS so we can join the datasets together later on with the FIPS columns. We will also ensure the FIPS column is a string."
   ]
  },
  {
   "cell_type": "code",
   "execution_count": 38,
   "metadata": {
    "collapsed": true
   },
   "outputs": [],
   "source": [
    "def cleanCountyShapeData(data):\n",
    "    data = data.rename(columns = {'GEOID' : 'FIPS'}) # rename column\n",
    "    data[\"FIPS\"] = data[\"FIPS\"].astype(str) # cast column as string type\n",
    "    return data"
   ]
  },
  {
   "cell_type": "markdown",
   "metadata": {},
   "source": [
    "Next, we will clean our presidential data. We will rename column and filter to just county data. The presidential data has an issue in that it goes more specific than FIPS code, meaning some rows have the same FIPS code. We need to aggregate the totals of all the votes with the same FIPS code as to match the other two data sets."
   ]
  },
  {
   "cell_type": "code",
   "execution_count": 39,
   "metadata": {
    "collapsed": true
   },
   "outputs": [],
   "source": [
    "def cleanPresidentialElectionData(data):\n",
    "    data = data.rename(columns = {'FIPS Code' : 'FIPS'}) #rename column\n",
    "    data[\"FIPS\"] = data[\"FIPS\"].astype(str) # cast column as string type\n",
    "    data = data[data[\"FIPS\"] != \"0\"] # remove state level data as we only care about county\n",
    "    \n",
    "    # add leading zero if the length of the FIPS is 4\n",
    "    FIPS = list(data[\"FIPS\"])\n",
    "    for i in xrange(len(FIPS)):\n",
    "        if len(FIPS[i]) == 4:\n",
    "            FIPS[i] = \"0\" + FIPS[i]\n",
    "    \n",
    "    # merge votes of any rows with the same FIPS code\n",
    "    data[\"FIPS\"] = FIPS\n",
    "    fips = list(data[\"FIPS\"])\n",
    "    totals = list(data[\"TOTAL VOTES CAST\"])\n",
    "    totalByFIP = dict()\n",
    "    for i in xrange(len(fips)):\n",
    "        if fips[i] not in totalByFIP:\n",
    "            totalByFIP[fips[i]] = 0\n",
    "        totalByFIP[fips[i]] += totals[i]\n",
    "    fips = []\n",
    "    totals = []\n",
    "    for fip in totalByFIP:\n",
    "        fips.append(fip)\n",
    "        totals.append(totalByFIP[fip])\n",
    "        \n",
    "    #create new data frame with merged FIPS code votes\n",
    "    transformed = pd.DataFrame()\n",
    "    transformed[\"FIPS\"] = fips\n",
    "    transformed[\"Totals\"] = totals\n",
    "    \n",
    "    return transformed"
   ]
  },
  {
   "cell_type": "markdown",
   "metadata": {},
   "source": [
    "Next, we will clean our voting population data. We need to filter out the ethnicity level data and just look at the county level data. We also need to reformat the GEOID column so we just have the FIPS code which the last 5 digits of the GEOID. "
   ]
  },
  {
   "cell_type": "code",
   "execution_count": 40,
   "metadata": {
    "collapsed": true
   },
   "outputs": [],
   "source": [
    "def cleanVotingPopulationData(data):\n",
    "    data = pd.DataFrame(data[data[\"LNTITLE\"] == \"Total\"]) # We only want total, not ethnicity level data\n",
    "    \n",
    "    # Grab the FIPS code from the GEOID column\n",
    "    GEOID = list(data[\"GEOID\"])\n",
    "    for i in xrange(len(GEOID)):\n",
    "        GEOID[i] = GEOID[i][-5:]\n",
    "        \n",
    "    # Add a column for FIPS and cast it to string type\n",
    "    data[\"FIPS\"] = GEOID\n",
    "    data[\"FIPS\"] = data[\"FIPS\"].astype(str)\n",
    "    return data "
   ]
  },
  {
   "cell_type": "markdown",
   "metadata": {},
   "source": [
    "Now that our data has been cleaned, we will merge the datasets together on the FIPS column of each data set. We will left join the data sets together beginning with countyData. We use a leftjoin because Folium requires there to be data for every entry in the GeoJSON file, so left joining gurantees we will have a value (or NaN) for every row in the county data."
   ]
  },
  {
   "cell_type": "code",
   "execution_count": 41,
   "metadata": {
    "collapsed": true
   },
   "outputs": [],
   "source": [
    "def cleanAndCombine(countyData, presidentData, votingPopData):\n",
    "    countyData = cleanCountyShapeData(countyData)\n",
    "    presidentData = cleanPresidentialElectionData(presidentData)\n",
    "    votingPopData = cleanVotingPopulationData(votingPopData)\n",
    "    \n",
    "    # Left merge the data together starting with county data to ensure we have a row for every FIPS code in the county data\n",
    "    data = countyData.merge(presidentData, on = \"FIPS\", how = \"left\")\n",
    "    data = data.merge(votingPopData, on = \"FIPS\", how = \"left\")\n",
    "    return data"
   ]
  },
  {
   "cell_type": "markdown",
   "metadata": {},
   "source": [
    "Finally, we will compute voter turnout with our merged dataset. With our joined dataset, this is as simple as dividing the total number of votes per county by the total number of estimated voting elgible people in the county."
   ]
  },
  {
   "cell_type": "code",
   "execution_count": 42,
   "metadata": {
    "collapsed": true
   },
   "outputs": [],
   "source": [
    "def computeVoterTurnout(data):\n",
    "    data[\"VoterTurnout\"] = (data[\"Totals\"] / data[\"TOT_EST\"]) * 100\n",
    "    data[\"VoterTurnout\"] = data[\"VoterTurnout\"].replace(np.nan, 0) # Need to replace NaNs from left-join\n",
    "    return data"
   ]
  },
  {
   "cell_type": "code",
   "execution_count": 43,
   "metadata": {
    "collapsed": false
   },
   "outputs": [
    {
     "name": "stderr",
     "output_type": "stream",
     "text": [
      "C:\\Users\\kreichek\\Anaconda2\\lib\\site-packages\\ipykernel\\__main__.py:11: FutureWarning: 'threshold_scale' default behavior has changed. Now you get a linear scale between the 'min' and the 'max' of your data. To get former behavior, use folium.utilities.split_six.\n"
     ]
    }
   ],
   "source": [
    "data = cleanAndCombine(county_shape, presidential_results, voting_pop)\n",
    "data = computeVoterTurnout(data)"
   ]
  },
  {
   "cell_type": "markdown",
   "metadata": {},
   "source": [
    "Now, we can finally visualize voter turnout. We will key on the GEOID property in the county GEOjson file and visualize the voter turnout column, matching on the FIPS column."
   ]
  },
  {
   "cell_type": "code",
   "execution_count": null,
   "metadata": {
    "collapsed": true
   },
   "outputs": [],
   "source": [
    "political_map = folium.Map(location = US_center, zoom_start= zoom_start)\n",
    "political_map.choropleth(geo_path=us_counties, \n",
    "                   data=data,\n",
    "                   columns=['FIPS', 'VoterTurnout'],\n",
    "                   key_on='feature.properties.GEOID',\n",
    "                   fill_color='BuPu', \n",
    "                   fill_opacity=0.7, \n",
    "                   line_opacity=0.2)\n",
    "political_map.save(\"extras/maps/political_map.html\")"
   ]
  },
  {
   "cell_type": "code",
   "execution_count": 34,
   "metadata": {
    "collapsed": false
   },
   "outputs": [
    {
     "data": {
      "text/html": [
       "<iframe width=\"100%\" height =\"500\" src=\"extras/maps/political_map.html\"/>"
      ],
      "text/plain": [
       "<IPython.core.display.HTML object>"
      ]
     },
     "metadata": {},
     "output_type": "display_data"
    }
   ],
   "source": [
    "%%HTML\n",
    "<iframe width=\"100%\" height =\"500\" src=\"extras/maps/political_map.html\"/>"
   ]
  },
  {
   "cell_type": "markdown",
   "metadata": {},
   "source": [
    "This map provides a great data visualization of voter turnout. It would especially be useful for Presidential and Congressional campaigns, helping them see trends across the country in voter turnout as well as determining what counties to target for campaigning. This data would be much harder to understand if it was not visualized in this way."
   ]
  },
  {
   "cell_type": "markdown",
   "metadata": {
    "collapsed": true
   },
   "source": [
    "## Conclusion and Further Resources \n",
    "\n",
    "Thanks for reading through my tutorial! I hope you feel you now have a better grasp of Folium and learned a bit about geospatial data. Here are some further resources if you are interested in learning more:\n",
    "\n",
    "Folium: https://folium.readthedocs.io/en/latest/\n",
    "\n",
    "GeoPandas: http://geopandas.org\n",
    "\n",
    "GeoPy: https://geopy.readthedocs.io\n",
    "\n",
    "Voting Age Populating By County: https://www.census.gov/rdo/data/voting_age_population_by_citizenship_and_race_cvap.html\n",
    "\n",
    "US Presential Election Results by County: https://www.theguardian.com/news/datablog/2012/nov/07/us-2012-election-county-results-download\n",
    "\n",
    "Shapefile of US Counties: https://catalog.data.gov/dataset/tiger-line-shapefile-2012-nation-u-s-current-county-and-equivlaent-national-shapefile\n"
   ]
  },
  {
   "cell_type": "code",
   "execution_count": null,
   "metadata": {
    "collapsed": true
   },
   "outputs": [],
   "source": []
  }
 ],
 "metadata": {
  "anaconda-cloud": {},
  "kernelspec": {
   "display_name": "Python [Root]",
   "language": "python",
   "name": "Python [Root]"
  },
  "language_info": {
   "codemirror_mode": {
    "name": "ipython",
    "version": 2
   },
   "file_extension": ".py",
   "mimetype": "text/x-python",
   "name": "python",
   "nbconvert_exporter": "python",
   "pygments_lexer": "ipython2",
   "version": "2.7.12"
  }
 },
 "nbformat": 4,
 "nbformat_minor": 0
}
