{
 "cells": [
  {
   "cell_type": "markdown",
   "metadata": {},
   "source": [
    "## Introduction\n",
    "This tutorial will introduce you to the basics of graphs and some basic methods for exploring the nodes in a graph and searching for a specific node. Graphs are a very useful data strcture that do a good job a representing relationships between different objects and are used daily to solve challenging problems such as crawling web pages, finding shortest distance from point A to B on a map, representing friendships on Facebook, and finding the cheapest flight. \n"
   ]
  },
  {
   "cell_type": "markdown",
   "metadata": {},
   "source": [
    "### Tutorial content\n",
    "\n",
    "In this tutorial, we will show how create graphs and some different ways of traversing a graph. \n",
    "\n",
    "\n",
    "We will cover the following topics in this tutorial:\n",
    "- [Basics of Graphs](#Basics-of-Graphs)\n",
    "- [DFS](#DFS)\n",
    "- [BFS](#BFS)\n",
    "- [DFS and BFS Application: Paths](#DFS-and-BFS-Application:-Paths)\n",
    "- [Summary and references](#Summary-and-references)\n"
   ]
  },
  {
   "cell_type": "markdown",
   "metadata": {},
   "source": [
    "## Basics of Graphs"
   ]
  },
  {
   "cell_type": "markdown",
   "metadata": {},
   "source": [
    "First, we need to define the components of a graph. A node of a graph repsenets some sort of object that holds data. The node is often referred to as a vertex. An edge is a path between two vertices so it represents the relationship between the two vertices. There is a path between two vertices if through a series of connected edges, you can get from one vertices to the other. Finally, two vertcies are referred to as adjacent if have an edge between them. There are generally two categories of graphs: directed and undirected. In a directed graph, all edges have a direction. For example, if there is an edge from A to B, then you could travel from A to B, but could not travel from B to A. Undirected graphs on the other hand have edges that have no restriction in direction so an edge between A and B allows you to travel from A to B and from B to A. These different types of graphs become useful in different scenarios. For example: undirected edges may make sense for representing friendship on Facebook because if person A and person B are friends, the friendship holds both ways, but directed graphs may make sense for representing streets between intersections because some streets are one-way while others are two-way."
   ]
  },
  {
   "cell_type": "code",
   "execution_count": 97,
   "metadata": {
    "collapsed": false
   },
   "outputs": [],
   "source": [
    "class Node:\n",
    "    def __init__(self, data):\n",
    "        self.data = data\n",
    "        self.edges = []\n",
    "        \n",
    "    def __repr__(self):\n",
    "        return str(self.data)\n",
    "    \n",
    "    def add_directed_edge(self, node):\n",
    "        self.edges.append(node)\n",
    "        \n",
    "    def add_undirected_edge(self, node):\n",
    "        self.edges.append(node)\n",
    "        node.edges.append(self)\n",
    "    \n",
    "    def get_edges(self):\n",
    "        return self.edges"
   ]
  },
  {
   "cell_type": "markdown",
   "metadata": {},
   "source": [
    "Above we have the implementation of a node class. Each node has some data associated with it along with a list of outgoing edges to other nodes. The class also includes functions that allow you to add edges to the node and get all the nodes that this node has an edge to. "
   ]
  },
  {
   "cell_type": "code",
   "execution_count": 98,
   "metadata": {
    "collapsed": false
   },
   "outputs": [
    {
     "name": "stdout",
     "output_type": "stream",
     "text": [
      "A has direct edge(s) leading to: [D, B]\n",
      "B has direct edge(s) leading to: [C]\n",
      "C has direct edge(s) leading to: [D, E]\n",
      "D has direct edge(s) leading to: [E]\n",
      "E has direct edge(s) leading to: []\n"
     ]
    }
   ],
   "source": [
    "# create Node(A)\n",
    "A = Node(\"A\")\n",
    "# create Node(B)\n",
    "B = Node(\"B\")\n",
    "# create Node(C)\n",
    "C = Node(\"C\")\n",
    "# create Node(D)\n",
    "D = Node(\"D\")\n",
    "# create Node(E)\n",
    "E = Node(\"E\")\n",
    "\n",
    "# create edge from A to D\n",
    "A.add_directed_edge(D)\n",
    "# create edge from A to B\n",
    "A.add_directed_edge(B)\n",
    "# create edge from B to C\n",
    "B.add_directed_edge(C)\n",
    "# create edge from C to D\n",
    "C.add_directed_edge(D)\n",
    "# create edge from C to E\n",
    "C.add_directed_edge(E)\n",
    "# create edge from D to E\n",
    "D.add_directed_edge(E)\n",
    "\n",
    "print \"A has direct edge(s) leading to: \" + str(A.get_edges())\n",
    "print \"B has direct edge(s) leading to: \" + str(B.get_edges())\n",
    "print \"C has direct edge(s) leading to: \" + str(C.get_edges())\n",
    "print \"D has direct edge(s) leading to: \" + str(D.get_edges())\n",
    "print \"E has direct edge(s) leading to: \" + str(E.get_edges())"
   ]
  },
  {
   "cell_type": "markdown",
   "metadata": {},
   "source": [
    "The code above shows the creations of nodes A, B, C, D and E with their own unique data along with creating some edges between them. The graph created above is shown below. We can see that the edges we printed for each node corresponds to the nodes that can be reached directly from that node in the graph. For example we can see that node A has a direct edge to node D and B and that node E has no edges to any other nodes.\n",
    "\n",
    "<img src=\"graphA.png\">\n"
   ]
  },
  {
   "cell_type": "markdown",
   "metadata": {},
   "source": [
    "## DFS"
   ]
  },
  {
   "cell_type": "markdown",
   "metadata": {},
   "source": [
    "Often we want to exlpore all nodes that are reachable from a starting node. The first algorithm we will discuss that allows us to do this is Depth-First Search (DFS). The concept of DFS is that we start at a node and explore nodes in each branch in a depthward motion before backtracking. \n",
    "\n",
    "The steps invovled in DFS are outlined below:\n",
    "\n",
    "1.) Select a node from the top of the stack which is intialized with the starting node  \n",
    "2.) Perform some operation on the selected node based upon application of DFS algorithm  \n",
    "3.) Look at all adjacent nodes and add these nodes to the stack if they have not been visited  \n",
    "4.) If stack is not empty, repeat steps 1-3  \n",
    "\n",
    "Let's take a look at the implementation:"
   ]
  },
  {
   "cell_type": "code",
   "execution_count": 99,
   "metadata": {
    "collapsed": true
   },
   "outputs": [],
   "source": [
    "def dfs(starting_node):\n",
    "    visited = set()\n",
    "    visited.add(starting_node)\n",
    "    stack = [starting_node]\n",
    "    while len(stack) > 0:\n",
    "        cur_vertex = stack.pop()\n",
    "        \n",
    "        # perform some operation on cur_vertex\n",
    "        print cur_vertex\n",
    "        \n",
    "        children = cur_vertex.get_edges()\n",
    "        for child in children:\n",
    "            if child not in visited:\n",
    "                visited.add(child)\n",
    "                stack.append(child)\n",
    "                \n",
    "    return visited"
   ]
  },
  {
   "cell_type": "markdown",
   "metadata": {},
   "source": [
    "As you can see, we have implemeneted DFS using a stack, because we want to add nodes to this stack and be able to pop a node off it when we need to backtrack. Also notice how we have a set called visited. We have this to keep track of all the nodes we have visited to ensure that we only visit each node once. This is very important because it prevents the algorithm from getting stuck in an infinite loop which could occur if there was a cycle (or loop) in the graph. \n",
    "\n"
   ]
  },
  {
   "cell_type": "code",
   "execution_count": 107,
   "metadata": {
    "collapsed": false
   },
   "outputs": [
    {
     "name": "stdout",
     "output_type": "stream",
     "text": [
      "1\n",
      "2\n",
      "3\n",
      "4\n",
      "5\n",
      "6\n",
      "7\n",
      "8\n",
      "9\n",
      "10\n",
      "11\n",
      "12\n",
      "\n",
      "All visited nodes in graph: set([7, 1, 5, 10, 4, 11, 8, 12, 3, 2, 9, 6])\n"
     ]
    }
   ],
   "source": [
    "# create nodes numbered from 1-12\n",
    "Node_1 = Node(1)\n",
    "Node_2 = Node(2)\n",
    "Node_3 = Node(3)\n",
    "Node_4 = Node(4)\n",
    "Node_5 = Node(5)\n",
    "Node_6 = Node(6)\n",
    "Node_7 = Node(7)\n",
    "Node_8 = Node(8)\n",
    "Node_9 = Node(9)\n",
    "Node_10 = Node(10)\n",
    "Node_11 = Node(11)\n",
    "Node_12 = Node(12)\n",
    "\n",
    "# create edges between nodes\n",
    "Node_9.add_undirected_edge(Node_11)\n",
    "Node_9.add_undirected_edge(Node_10)\n",
    "Node_8.add_undirected_edge(Node_12)\n",
    "Node_8.add_undirected_edge(Node_9)\n",
    "Node_3.add_undirected_edge(Node_5)\n",
    "Node_3.add_undirected_edge(Node_4)\n",
    "Node_2.add_undirected_edge(Node_6)\n",
    "Node_2.add_undirected_edge(Node_3)\n",
    "Node_1.add_undirected_edge(Node_8)\n",
    "Node_1.add_undirected_edge(Node_7)\n",
    "Node_1.add_undirected_edge(Node_2)\n",
    "\n",
    "nodes_visited = dfs(Node_1)\n",
    "print \"\\n\" + \"All visited nodes in graph: \" + str(nodes_visited)"
   ]
  },
  {
   "cell_type": "markdown",
   "metadata": {},
   "source": [
    "Above we created a graph with nodes numbered from 1-12 and by running dfs and looking at the printed output, we can see the order in which the nodes were visited also depcited in the graph below. \n",
    "\n",
    "<img src=\"graph_numbered.png\">\n",
    "\n",
    "Here we can see that the DFS algorithm explored all the way to the bottom of the leftmost branch, and then backtracked to visit the rest of the nodes in the graph. The dfs function also returns a set of all the nodes visited which we can see includes all the nodes in the graph."
   ]
  },
  {
   "cell_type": "markdown",
   "metadata": {},
   "source": [
    "## BFS"
   ]
  },
  {
   "cell_type": "markdown",
   "metadata": {},
   "source": [
    "As with the Depth-First Search, we can also use Breadth-First Search (BFS) as an algorithm to explore all nodes that are reachable from a starting node. The BFS algorithm will explore all the nodes in the graph just as the DFS algorithm does, but with the guarantee that it will visit all nodes closest to the starting node first. The concept of BFS is that we start at a node and explore all the nodes in the graph layer by layer. \n",
    "\n",
    "The steps invovled in BFS are outlined below:\n",
    "\n",
    "1.) Select a node from the queue which is intialized with the starting node  \n",
    "2.) Perform some operation on the selected node based upon application of BFS algorithm  \n",
    "3.) Look at all adjacent nodes and add these nodes to the queue if they have not been visited  \n",
    "4.) If queue is not empty, repeat steps 1-3  \n",
    "\n",
    "Let's take a look at the implementation:"
   ]
  },
  {
   "cell_type": "code",
   "execution_count": 101,
   "metadata": {
    "collapsed": false
   },
   "outputs": [],
   "source": [
    "import Queue\n",
    "\n",
    "def bfs(starting_node):\n",
    "    # keep track of visited nodes\n",
    "    visited = set()\n",
    "    visited.add(starting_node)\n",
    "    queue = Queue.Queue()\n",
    "    queue.put(starting_node)\n",
    "    while not queue.empty():\n",
    "        cur_vertex = queue.get()\n",
    "        # do whatever you want with cur_vertex here\n",
    "        print cur_vertex\n",
    "        \n",
    "        # add children to queue if they have not been visited\n",
    "        children = cur_vertex.get_edges()\n",
    "        for child in children:\n",
    "            if child not in visited:\n",
    "                visited.add(child)\n",
    "                queue.put(child)\n",
    "    return visited"
   ]
  },
  {
   "cell_type": "markdown",
   "metadata": {},
   "source": [
    "As you can see, the BFS implementation is very simlar to the DFS implementation except we are now using a queue instead of a stack. This change in data structure changes the order in which we visit the nodes in the graph and allows us to visit nodes closer to the starting node first. "
   ]
  },
  {
   "cell_type": "markdown",
   "metadata": {},
   "source": [
    "<img src=\"graph_numbered.png\">\n",
    "\n",
    "Using the same graph in the DFS section with nodes numbered 1-12 (pictured above), we can run our BFS algorithm starting from Node_1 to see the order in which the nodes were visited. "
   ]
  },
  {
   "cell_type": "code",
   "execution_count": 106,
   "metadata": {
    "collapsed": false
   },
   "outputs": [
    {
     "name": "stdout",
     "output_type": "stream",
     "text": [
      "1\n",
      "8\n",
      "7\n",
      "2\n",
      "12\n",
      "9\n",
      "6\n",
      "3\n",
      "11\n",
      "10\n",
      "5\n",
      "4\n",
      "\n",
      "All visited nodes in graph: set([8, 2, 12, 5, 9, 1, 6, 10, 3, 7, 11, 4])\n"
     ]
    }
   ],
   "source": [
    "nodes_visited = bfs(Node_1)\n",
    "\n",
    "print \"\\n\" + \"All visited nodes in graph: \" + str(nodes_visited)"
   ]
  },
  {
   "cell_type": "markdown",
   "metadata": {},
   "source": [
    "Here we can see that the BFS algorithm explored the nodes in the graph layer by layer starting with nodes closet to Node_1. First 1 was visited, then the second layer including nodes 8, 7, and 2, then the third layer including nodes 12, 9, 6, and 3 and finaly the last layer including nodes 11, 10, 5, and 4. The BFS function also returns a set of all the nodes visited which we can see includes all the nodes in the graph just as with the DFS algorithm."
   ]
  },
  {
   "cell_type": "markdown",
   "metadata": {
    "collapsed": false
   },
   "source": [
    "## DFS and BFS Application: Paths\n",
    "\n",
    "One application DFS and BFS are often used for is to search for a node in a graph and if present, find a path from the starting node to that node. Below we tweaked the dfs and bfs algorithms defined above to search for a node and find a path to it. "
   ]
  },
  {
   "cell_type": "code",
   "execution_count": 103,
   "metadata": {
    "collapsed": false
   },
   "outputs": [
    {
     "name": "stdout",
     "output_type": "stream",
     "text": [
      "Path from Node A to Node E using DFS: [A, B, C, E]\n",
      "Path from Node A to Node E using BFS: [A, D, E]\n"
     ]
    }
   ],
   "source": [
    "def dfs_path_to_goal(starting_node, target_node):\n",
    "    visited = set()\n",
    "    visited.add(starting_node)\n",
    "    initial_path = [starting_node]\n",
    "    stack = [(starting_node, initial_path)]\n",
    "    while len(stack) > 0:\n",
    "        (cur_vertex, cur_path) = stack.pop()\n",
    "        \n",
    "        children = cur_vertex.get_edges()\n",
    "        for child in children:\n",
    "            if child not in visited:\n",
    "                visited.add(child)\n",
    "                \n",
    "                new_path = cur_path + [child]\n",
    "                if child == target_node:\n",
    "                    return new_path\n",
    "                else:\n",
    "                    stack.append((child, new_path))\n",
    "                \n",
    "    return False\n",
    "\n",
    "\n",
    "\n",
    "import Queue\n",
    "def bfs_path_to_goal(starting_node, target_node):\n",
    "    # keep track of visited nodes\n",
    "    visited = set()\n",
    "    visited.add(starting_node)\n",
    "    queue = Queue.Queue()\n",
    "    initial_path = [starting_node]\n",
    "    queue.put((starting_node, initial_path))\n",
    "    while not queue.empty():\n",
    "        (cur_vertex, cur_path) = queue.get()\n",
    "        \n",
    "        # add children to queue if they have not been visited\n",
    "        children = cur_vertex.get_edges()\n",
    "        for child in children:\n",
    "            if child not in visited:\n",
    "                visited.add(child)\n",
    "                \n",
    "                new_path = cur_path + [child]\n",
    "                if child == target_node:\n",
    "                    return new_path\n",
    "                else:\n",
    "                    queue.put((child, new_path))\n",
    "                    \n",
    "    return False\n",
    "\n",
    "\n",
    "print \"Path from Node A to Node E using DFS: \" + str(dfs_path_to_goal(A, E))\n",
    "print \"Path from Node A to Node E using BFS: \" + str(bfs_path_to_goal(A, E))"
   ]
  },
  {
   "cell_type": "markdown",
   "metadata": {
    "collapsed": true
   },
   "source": [
    "As we can see above, the DFS algorithm returns a valid path from A to E going though the nodes B and C. But observe how the BFS returns a shorter valid path from A to E only going through node E. Because the BFS algorithm visits nodes layer by layer, it is gauranteed to find the shortest path. "
   ]
  },
  {
   "cell_type": "markdown",
   "metadata": {},
   "source": [
    "## Example application: LinkedIn Connections\n",
    "\n",
    "As a final example, let's consider a simplified version of LinkedIn's connections feature. LinkedIn allows you to create a professional profile and connect to people you know in order for you to maintain and expand your network. An important feature in LinkedIn is finding how many connections away you are from another person. If you are connected to another person on LinkedIn then he/she is considered a first degree connection. If you are two connections away from someone, then this person is considered to be a second degree connection. This same pattern repeats for third, fourth, etc. connections. \n",
    "\n",
    "Let's take a simple example where we have a bunch of professional profiles connected to each other and we want to write an algorithm to find what degree connection someone has from someone else. \n",
    "\n",
    "Let's consider the profiles of 5 people named Peter, Sachin, Rahul, Tom, and Tim where Peter is connected to both Sachin and Rahul, Sachin is connected to Tom and Rahul, and Tim is connected to Tom and Rahul. The graph is implemented below and also shown in the image below. "
   ]
  },
  {
   "cell_type": "code",
   "execution_count": 104,
   "metadata": {
    "collapsed": true
   },
   "outputs": [],
   "source": [
    "# create nodes for each profile\n",
    "Peter = Node(\"Peter\")\n",
    "Sachin = Node(\"Sachin\")\n",
    "Rahul = Node(\"Rahul\")\n",
    "Tom = Node(\"Tom\")\n",
    "Tim = Node(\"Tim\")\n",
    "\n",
    "# create edges between nodes\n",
    "Peter.add_undirected_edge(Sachin)\n",
    "Peter.add_undirected_edge(Rahul)\n",
    "Sachin.add_undirected_edge(Tom)\n",
    "Sachin.add_undirected_edge(Rahul)\n",
    "Tim.add_undirected_edge(Tom)\n",
    "Tim.add_undirected_edge(Rahul)"
   ]
  },
  {
   "cell_type": "markdown",
   "metadata": {},
   "source": [
    "\n",
    "<img src=\"linkedin_graph.png\" alt=\"Drawing\" style=\"width: 400px;\"/>\n"
   ]
  },
  {
   "cell_type": "markdown",
   "metadata": {},
   "source": [
    "We are interested in finding how many connections away one person is from another. In this case, we want to make sure we find the shortest number of connections away one person is from another so it makes sense to use BFS because it is gauranteed to return the shortest path. \n",
    "\n",
    "Using the bfs_path_to_goal algorithm we defined above, lets find how many connections away Peter is from Tim. "
   ]
  },
  {
   "cell_type": "code",
   "execution_count": 108,
   "metadata": {
    "collapsed": false
   },
   "outputs": [
    {
     "name": "stdout",
     "output_type": "stream",
     "text": [
      "Peter is 2 connections from Tim\n",
      "[Peter, Rahul, Tim]\n"
     ]
    }
   ],
   "source": [
    "path = bfs_path_to_goal(Peter, Tim)\n",
    "connections_away = len(path) - 1\n",
    "\n",
    "print \"Peter is \" + str(connections_away) + \" connections from Tim\"\n",
    "print path"
   ]
  },
  {
   "cell_type": "markdown",
   "metadata": {},
   "source": [
    "As we can see, Peter is only two connections away from Tim so Tim is a second degree connection to Peter. Notice how this is the shorterst number of connections Tim is away from Peter. If the path we took went from Peter to Sachin to Rahul to Tim then we would have gotten 3 connections away or even worse if our path went from Peter to Rahul to Sachin to Tom to Tim we would have gotten 4 connections away. Seeing all these different possibilities, it is clear that using BFS was best in this case to ensure that we receive the shorted path so we can find the least number of connections away Peter is from Tim. "
   ]
  },
  {
   "cell_type": "markdown",
   "metadata": {},
   "source": [
    "## Summary and references\n",
    "\n",
    "This tutorial highlighted just a few elements of what is possible with graph algorithms. Much more information about graphs and different graph algorithms are available from the following links.\n",
    "\n",
    "1. Applications of DFS: http://www.geeksforgeeks.org/applications-of-depth-first-search/\n",
    "2. Applications of BFS: http://www.geeksforgeeks.org/applications-of-breadth-first-traversal/\n",
    "3. Popular Graph Algorithms: http://www.geeksforgeeks.org/top-algorithms-and-data-structures-for-competitive-programming/\n",
    "4. Ways to Represent a Graph: https://www.khanacademy.org/computing/computer-science/algorithms/graph-representation/a/representing-graphs\n",
    "5. Recognizing a Graph Problem: https://www.topcoder.com/community/data-science/data-science-tutorials/introduction-to-graphs-and-their-data-structures-section-1/\n",
    "6. Graph and Networks Overview: http://www.datasciencecourse.org/graphs.pdf\n",
    "7. Graph Theory Relevance to Big Data: https://www.wired.com/insights/2014/03/graph-theory-key-understanding-big-data/"
   ]
  }
 ],
 "metadata": {
  "anaconda-cloud": {},
  "kernelspec": {
   "display_name": "Python [Root]",
   "language": "python",
   "name": "Python [Root]"
  },
  "language_info": {
   "codemirror_mode": {
    "name": "ipython",
    "version": 2
   },
   "file_extension": ".py",
   "mimetype": "text/x-python",
   "name": "python",
   "nbconvert_exporter": "python",
   "pygments_lexer": "ipython2",
   "version": "2.7.12"
  }
 },
 "nbformat": 4,
 "nbformat_minor": 1
}
