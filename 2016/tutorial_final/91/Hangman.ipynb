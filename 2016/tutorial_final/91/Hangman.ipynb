{
 "cells": [
  {
   "cell_type": "markdown",
   "metadata": {},
   "source": [
    "## Introduction\n",
    "\n",
    "Hangman is a paper and pencil guessing game for two or more players. One player thinks of a word, phrase or sentence and the other tries to guess it by suggesting letters or numbers, within a certain number of guesses. If the guessing player suggests a letter which occurs in the word, the other player writes it in all its correct positions. If the suggested letter or number does not occur in the word, the other player draws one element of a hanged man stick figure as a tally mark. If the other player makes enough (maybe 5) incorrect guesses to allow his opponent to complete the diagram, the game is also over, this time with the guesser losing. However, the guesser can also win by guessing all the letters or numbers that appears in the word.\n",
    "\n",
    "An example game of Hangman in progress. The underlined letters appear in the word in their correct places, while the crossed-out letters do not appear, and each crossed-out letter corresponds to one part of the drawing. In this case, the secret word is \"hangman\".\n",
    "\n",
    "<img src=\"https://upload.wikimedia.org/wikipedia/commons/thumb/f/f4/Hangman_game.jpg/440px-Hangman_game.jpg\">\n",
    "\n",
    "This tutorial will introduce you to implement both Hangman Game Model and AI Model to play the game. The Game Model is used to interact with players such as giving puzzle and returning guess feedback. And the AI Model is designed based on a good strategy to play this game. Different AI strategy could be designed to increase the successful guess probability. \n",
    "\n",
    "Wanna to try? Let's do it!"
   ]
  },
  {
   "cell_type": "markdown",
   "metadata": {},
   "source": [
    "### Tutorial content\n",
    "\n",
    "We will cover the following topics in this tutorial:\n",
    "- [Build Hangman game model](#Build-Hangman-game-model)\n",
    "- [Design Hangman AI model](#Design-Hangman-AI-model)\n",
    "- [Letter Frequency AI model](#Build-Letter-Frequency-AI-model)\n",
    "- [Probability Hangman AI model](#Build-Probability-Hangman-AI-model)\n",
    "- [Summary](#Summary)"
   ]
  },
  {
   "cell_type": "markdown",
   "metadata": {},
   "source": [
    "## Build Hangman game model"
   ]
  },
  {
   "cell_type": "markdown",
   "metadata": {},
   "source": [
    "Before getting started to design hangman strategy, you'll need to implement hangman game model class first to interact with players.\n",
    "\n",
    "This class should support 3 functions.\n",
    "\n",
    "1. Load a word dictionary from local file.\n",
    "This would read words to generate a dictionary from local text file, so each time when player starts a new game, it would randomly pick up a word as puzzle from dictionary. \n",
    "\n",
    "2. Start a new game\n",
    "When play requests model to start a new game, it will reset player's life and return a new puzzle back.\n",
    "\n",
    "3. Return feedback of every guess.\n",
    "Model should take different operations based on player's guessed letter.\n",
    "If this letter is not in the puzzle, decrease player's life and return the original puzzle.\n",
    "If this letter is in the puzzle, update this char in the puzzle to replace '_', and return it"
   ]
  },
  {
   "cell_type": "code",
   "execution_count": 60,
   "metadata": {
    "collapsed": false
   },
   "outputs": [],
   "source": [
    "import random\n",
    "class HangmanModel:\n",
    "    def __init__(self, filename):\n",
    "        \"\"\"\n",
    "        Initialize an hangman model.\n",
    "        \n",
    "        Args:\n",
    "            filename: filename of a document to load a puzzle dictionary.\n",
    "        \"\"\"\n",
    "        file = open(filename)\n",
    "        self.dictionary = []\n",
    "        dictionarys = []\n",
    "        while 1:\n",
    "            line = file.readline()\n",
    "            if not line:\n",
    "                break\n",
    "            words = line.strip().split(' ')\n",
    "            dictionarys.extend(words)\n",
    "        self.dictionary = list(set(dictionarys))\n",
    "        pass\n",
    "    \n",
    "    def newGame(self):\n",
    "        \n",
    "        \"\"\"\n",
    "        Each time play requests this function to start a new game.\n",
    "            \n",
    "        Returns: A new puzzle word made up with '_' (not the right answer) should be return.\n",
    "        \"\"\"\n",
    "        self.answer = random.choice(self.dictionary)\n",
    "        self.life = 5\n",
    "        self.puzzle = '_'*len(self.answer)\n",
    "        return self.puzzle\n",
    "        \n",
    "    def guess(self, c):\n",
    "        \"\"\"\n",
    "        Return feedback for each guess\n",
    "        \n",
    "        Args:\n",
    "            c: char, indicating the letter for guess in the puzzle word\n",
    "            \n",
    "        Returns: tuple (puzzle,status)\n",
    "            puzzle: Updated puzzle word. If the guess character is in the puzzle word, update it and return. \n",
    "                    Otherwise nothing changes.\n",
    "            status: Player's current status, ALIVE / DEAD\n",
    "        \"\"\"\n",
    "        status = 'ALIVE'\n",
    "        if self.life <= 0:\n",
    "            return self.puzzle,'DEAD'\n",
    "        if c in self.answer:\n",
    "            for i in range(len(self.answer)):\n",
    "                if self.answer[i] == c:\n",
    "                    self.puzzle = self.puzzle[:i] + c + self.puzzle[i+1:]\n",
    "            return self.puzzle,status\n",
    "        self.life -= 1\n",
    "        if self.life <= 0:\n",
    "            status = 'DEAD'\n",
    "        return self.puzzle,status\n",
    "        pass"
   ]
  },
  {
   "cell_type": "code",
   "execution_count": 61,
   "metadata": {
    "collapsed": false
   },
   "outputs": [
    {
     "name": "stdout",
     "output_type": "stream",
     "text": [
      "13 RHYNCHOPHORAN\n",
      "('___________A_', 'ALIVE')\n",
      "('___________A_', 'ALIVE')\n",
      "('___________A_', 'ALIVE')\n",
      "('______O__O_A_', 'ALIVE')\n",
      "('______O__O_A_', 'ALIVE')\n"
     ]
    }
   ],
   "source": [
    "# Test Hangman model\n",
    "H = HangmanModel('dictionary.txt')\n",
    "print len(H.newGame()),H.answer\n",
    "print H.guess('A')\n",
    "print H.guess('E')\n",
    "print H.guess('I')\n",
    "print H.guess('O')\n",
    "print H.guess('U')"
   ]
  },
  {
   "cell_type": "markdown",
   "metadata": {},
   "source": [
    "## Design Hangman AI model\n",
    "\n",
    "What is the optimal strategy for guessing letters to maximize the chances of getting your first letter?\n",
    "\n",
    "In its purest form, hangman is a word game played between two people. One person selects a secret word, and the other tries to determine the word by guessing it letter-by-letter.\n",
    "\n",
    "As a young person, when you first started to play the game, you probably called out random letters. Once you got a hit of a couple of letters, it helped you narrow down the solution.\n",
    "\n",
    "After playing a number of games, you probably graduated to learning that not all letters are used equally. It's rare that the letter ‘Q' appears in a word, whereas ‘T' is used a lot more often. And also, once you get just a couple of letters of in a hangman puzzle, the game becomes easier. \n",
    "\n",
    "These hints give us insights to design an AI model for hangman. The order to guess letters has certain strategies to get better performance.\n",
    "\n",
    "PS: we expect the target word to be in our dictionary, and we use this dictionary to design strategy.\n",
    "\n",
    "<img src=\"http://i.kinja-img.com/gawker-media/image/upload/s--6dNKRV6f--/17igdqkbuubcmpng.png\">\n"
   ]
  },
  {
   "cell_type": "markdown",
   "metadata": {},
   "source": [
    "### Build Letter Frequency AI model\n",
    "\n",
    "In the English language, the twelve most commonly occurring letters are, in descending order: e-t-a-o-i-n-s-h-r-d-l-u. This and other letter-frequency lists are used by the guessing player to increase the odds when it is their turn to guess. \n",
    "\n",
    "The sequence below represents the usage order of letters in the English language, with the letter ‘E’ being the most common letter. It would be a better idea to guess high frequent letter, instead of random guess.\n",
    "\n",
    "Therefore, we can build our frequency AI model by simple guess the word by the order of frequency of letter.\n",
    "\n",
    "Basically, we load the words from dictionary, and then count their frequency by each of char. And finally we sort it in decreasing order to generate our final guessed order.\n",
    "\n",
    "<img src=\"https://upload.wikimedia.org/wikipedia/commons/thumb/b/b0/English_letter_frequency_%28frequency%29.svg/760px-English_letter_frequency_%28frequency%29.svg.png\">\n"
   ]
  },
  {
   "cell_type": "code",
   "execution_count": 62,
   "metadata": {
    "collapsed": false
   },
   "outputs": [],
   "source": [
    "import operator\n",
    "def getFreqencyGuessOrder(filename):\n",
    "    \"\"\"\n",
    "        Return guessed order list\n",
    "        \n",
    "        Args:\n",
    "            filename: filename to load words\n",
    "            \n",
    "        Returns: \n",
    "            orderList: guessed order list such as ['A','B','C'...]\n",
    "        \"\"\"\n",
    "    file = open(filename)\n",
    "    wordcnt = {}\n",
    "    while 1:\n",
    "        line = file.readline().strip()\n",
    "        if not line:\n",
    "            break\n",
    "        for i in line:\n",
    "            c = i.upper()\n",
    "            if c < 'A' or c > 'Z':\n",
    "                continue\n",
    "            if c not in wordcnt:\n",
    "                wordcnt[c] = 0\n",
    "            wordcnt[c] += 1\n",
    "    order = [key for key,value in sorted(wordcnt.iteritems(), key=lambda (k,v): (v,k))]\n",
    "    order.reverse()\n",
    "    return order\n",
    "    pass"
   ]
  },
  {
   "cell_type": "code",
   "execution_count": 63,
   "metadata": {
    "collapsed": false
   },
   "outputs": [
    {
     "name": "stdout",
     "output_type": "stream",
     "text": [
      "['E', 'I', 'A', 'O', 'R', 'N', 'T', 'S', 'L', 'C', 'U', 'P', 'M', 'D', 'H', 'Y', 'G', 'B', 'F', 'V', 'K', 'W', 'Z', 'X', 'Q', 'J']\n"
     ]
    }
   ],
   "source": [
    "# get frequncy english char list (sort by decreasing order)\n",
    "guessOrder = getFreqencyGuessOrder('dictionary.txt')\n",
    "print guessOrder"
   ]
  },
  {
   "cell_type": "markdown",
   "metadata": {},
   "source": [
    "Design frequency AI model to play a hangman game\n",
    "\n",
    "Note: this AI model would simply play the hangman game by guessing the word by the frequncy of letter."
   ]
  },
  {
   "cell_type": "code",
   "execution_count": 88,
   "metadata": {
    "collapsed": false
   },
   "outputs": [],
   "source": [
    "# build frequency AI model to solve hangman game puzzle\n",
    "class FrequencyAIModel:\n",
    "    \n",
    "    def __init__(self, hangmanModel,guessOrder):\n",
    "        \"\"\"\n",
    "        Args:\n",
    "            hangmanModel: use this hangman model to get puzzle and guess feedback\n",
    "            freqencyCharList: frequncy english letter list (sort by decreasing order)\n",
    "        \"\"\"\n",
    "        self.guessList = guessOrder\n",
    "        self.curguessId = 0\n",
    "        self.hangman = hangmanModel\n",
    "        pass\n",
    "    \n",
    "    def guess(self, puzzle):\n",
    "        c = self.guessList[self.curguessId]\n",
    "        self.curguessId += 1\n",
    "        return c\n",
    "        pass\n",
    "    \n",
    "    def play(self):\n",
    "        self.curguessId = 0\n",
    "        puzzle = self.hangman.newGame()\n",
    "        c = self.guess(puzzle)\n",
    "        puzzle,s = self.hangman.guess(c)\n",
    "        while s!='DEAD':\n",
    "            if '_' not in puzzle:\n",
    "                return True\n",
    "            c = self.guess(puzzle)\n",
    "            puzzle,s = self.hangman.guess(c)\n",
    "        pass\n",
    "    \n",
    "    def test(self,itern=100):\n",
    "        n = 0\n",
    "        for i in range(itern):\n",
    "            if self.play() == True:\n",
    "                n += 1\n",
    "        return n * 1.0 / itern\n",
    "        pass\n",
    "        "
   ]
  },
  {
   "cell_type": "markdown",
   "metadata": {},
   "source": [
    "Test this AI model by playing 100 times hangman game, and records the successful gussing percentage."
   ]
  },
  {
   "cell_type": "code",
   "execution_count": 75,
   "metadata": {
    "collapsed": false
   },
   "outputs": [
    {
     "name": "stdout",
     "output_type": "stream",
     "text": [
      "0.08\n"
     ]
    }
   ],
   "source": [
    "hangmanModel = HangmanModel('dictionary.txt')\n",
    "AI = FrequencyAIModel(hangmanModel,guessOrder)\n",
    "print AI.test(100)"
   ]
  },
  {
   "cell_type": "markdown",
   "metadata": {},
   "source": [
    "### Build Probability Hangman AI model\n",
    "\n",
    "As we can see from this game, once we've guessed some letters correctly, we know more about the word we're trying to guess, instead of simply continuing to follow the general frequency of letters.\n",
    "\n",
    "Therefore, we need several steps to paly this game.\n",
    "\n",
    "1) We know the length of the target word, n. Remove all words in the dictionary that aren't of length n\n",
    "\n",
    "2) Calculate the word frequency of all letters in the dictionary\n",
    "\n",
    "3) Guess the most frequent letter that we haven't already guessed.\n",
    "\n",
    "4) If we guessed correctly, remove all words from the dictionary that don't match the revealed letters.\n",
    "\n",
    "5) If we guessed incorrectly, remove all words that contain the incorrectly guessed letter\n",
    "\n",
    "6) Go to step 2\n",
    "\n",
    "For maximum effect, instead of calculating word frequencies of all letters in step 2, calculate the word frequencies of all letters in positions that are still blank in the target word.\n",
    "\n",
    "Be careful, it's useless to try the same letter to guess more than once!"
   ]
  },
  {
   "cell_type": "code",
   "execution_count": 89,
   "metadata": {
    "collapsed": false
   },
   "outputs": [],
   "source": [
    "# build naive AI model to solve hangman game puzzle\n",
    "class ProbabilityAIModel:\n",
    "    \n",
    "    def __init__(self, hangmanModel,trainFile):\n",
    "        \"\"\"\n",
    "        Args:\n",
    "            hangmanModel: use this hangman model to get puzzle and guess feedback\n",
    "            freqencyCharList: frequncy english char list (sort by decreasing order)\n",
    "        \"\"\"\n",
    "        self.trainFile = trainFile\n",
    "        self.hangman = hangmanModel\n",
    "        self.guessHistroy = []\n",
    "        self.candidate = []\n",
    "        pass\n",
    "    \n",
    "    def initCandidate(self, puzzle):\n",
    "        file = open(self.trainFile)\n",
    "        self.candidate = []\n",
    "        while 1:\n",
    "            word = file.readline().strip()\n",
    "            if not word:\n",
    "                break\n",
    "            if len(word)!=len(puzzle):\n",
    "                continue\n",
    "            self.candidate.append(word)\n",
    "        pass\n",
    "    \n",
    "    def guess(self, puzzle):\n",
    "        file = open(self.trainFile)\n",
    "        wordcnt = {}\n",
    "        newCandidate = []\n",
    "        for word in self.candidate:\n",
    "            match = True\n",
    "            for i in range(len(word)):\n",
    "                if puzzle[i]!='_' and puzzle[i]!=word[i]:\n",
    "                    match = False\n",
    "                    break\n",
    "            if match is False:\n",
    "                continue\n",
    "            newCandidate.append(word)\n",
    "            for i in range(len(word)):\n",
    "                if puzzle[i]=='_':\n",
    "                    c = word[i]\n",
    "                    if c in self.guessHistroy:\n",
    "                        continue\n",
    "                    if c not in wordcnt:\n",
    "                        wordcnt[c] = 0\n",
    "                    wordcnt[c] += 1\n",
    "        self.candidate = newCandidate\n",
    "        return max(wordcnt.iterkeys(), key=lambda k: wordcnt[k])\n",
    "        pass\n",
    "    \n",
    "    def update(self, c):\n",
    "        newCandidate = []\n",
    "        for word in self.candidate:\n",
    "            if c not in word:\n",
    "                newCandidate.append(word)\n",
    "        self.candidate = newCandidate = newCandidate\n",
    "        \n",
    "    def play(self):\n",
    "        self.guessHistroy = []\n",
    "        puzzle = self.hangman.newGame()\n",
    "        self.initCandidate(puzzle)\n",
    "        s = 'FIRST'\n",
    "        while s!='DEAD':\n",
    "            if '_' not in puzzle:\n",
    "                return True\n",
    "            c = self.guess(puzzle)\n",
    "            self.guessHistroy.append(c)\n",
    "            pre_puzzle = puzzle\n",
    "            puzzle,s = self.hangman.guess(c)\n",
    "            if pre_puzzle == puzzle:\n",
    "                self.update(c)\n",
    "        return False\n",
    "        pass\n",
    "    \n",
    "    def test(self,itern=10):\n",
    "        n = 0\n",
    "        for i in range(itern):\n",
    "            if self.play() == True:\n",
    "#                 print 'succ'\n",
    "                n += 1\n",
    "#             else:\n",
    "#                 print 'fail'\n",
    "        return n * 1.0 / itern\n",
    "        pass\n",
    "        "
   ]
  },
  {
   "cell_type": "markdown",
   "metadata": {},
   "source": [
    "Similarly, test this AI model by playing 100 times hangman game, and records the successful gussing percentage."
   ]
  },
  {
   "cell_type": "code",
   "execution_count": 90,
   "metadata": {
    "collapsed": false
   },
   "outputs": [
    {
     "name": "stdout",
     "output_type": "stream",
     "text": [
      "0.86\n"
     ]
    }
   ],
   "source": [
    "# test\n",
    "hangmanModel = HangmanModel('dictionary.txt')\n",
    "AI = ProbabilityAIModel(hangmanModel,'dictionary.txt')\n",
    "print AI.test(100)"
   ]
  },
  {
   "cell_type": "markdown",
   "metadata": {},
   "source": [
    "### Summary\n",
    "\n",
    "This is an interesting application of probability theory, and where you do some coding for cool things!\n",
    "\n",
    "Hope you have a good time here :)\n",
    "\n",
    "More information could be find here:\n",
    "(reference)\n",
    "1. https://en.wikipedia.org/wiki/Hangman_(game)\n",
    "2. http://stackoverflow.com/questions/9205877/solve-hangman-in-ai-way"
   ]
  }
 ],
 "metadata": {
  "kernelspec": {
   "display_name": "Python 2",
   "language": "python",
   "name": "python2"
  },
  "language_info": {
   "codemirror_mode": {
    "name": "ipython",
    "version": 2
   },
   "file_extension": ".py",
   "mimetype": "text/x-python",
   "name": "python",
   "nbconvert_exporter": "python",
   "pygments_lexer": "ipython2",
   "version": "2.7.11"
  }
 },
 "nbformat": 4,
 "nbformat_minor": 1
}
