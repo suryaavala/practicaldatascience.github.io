{
 "cells": [
  {
   "cell_type": "markdown",
   "metadata": {
    "collapsed": false
   },
   "source": [
    "# Introduction to XGBoost\n",
    "In this tutorial we are going to explore an open-source software library on python called XGBoost. XGBoost is short for \"Extreme Gradient Boosting\", it is an optimized distributed gradient boosting library based on the original model in Friedman's paper *Greedy Function Approximation: A Gradient Boosting Machine* you can learn more about the model from [here](http://homes.cs.washington.edu/~tqchen/pdf/BoostedTree.pdf). XGBoost provides a parallel tree boosting(also known as GBDT, GBM) that solve many data science problems in a fast and accurate way. XGBoost aims to provide a \"Scalable, Portable and Distributed Gradient Boosting (GBM, GBRT, GBDT) Library\" and supports many distributed processing frameworks such as Apache Hadoop and Spark.  \n",
    "\n",
    "XGBoost is used for supervised learning problems, where we use the training data (with multiple features) to predict a target variable. It is built based on the Gradient Boosting Tree. To explain the theory in a simple way, you can consider it an efficient way to do tree ensembles, where the final prediction for a given example is the sum of predictions from each tree. Usually it takes a lot of time to do tree ensembles by iterating all the trees each time, but GBT will select trees according to the best trees of last step using gradient algorithm. Here is a brief [introduction](http://xgboost.readthedocs.io/en/latest/model.html) to the theory based of XGBoost, and the [paper](https://arxiv.org/pdf/1603.02754v3.pdf) by Tianqi Chen.\n",
    "\n",
    "Here is the [official site](http://xgboost.readthedocs.io/en/latest/model.html) and [github](https://github.com/dmlc/xgboost) link if you want to know more about XGBoost.\n",
    "\n",
    "\n"
   ]
  },
  {
   "cell_type": "markdown",
   "metadata": {},
   "source": [
    "# Theory\n",
    "Before we start playing with XGBoost, we need to first look at the theories behind. The most important machine learning concept to understand XGBoost better is tree ensemble and gradient boosting. (Note: this part is mostly reference to the paper and [lecture](http://homes.cs.washington.edu/~tqchen/data/pdf/BoostedTree.pdf) by Tianqi Chen).\n",
    "\n",
    "## Regression Tree and Ensemble \n",
    "Regression tree and decision tree are basically the same, except that in each leaf node, regression tree produces hypothesis h as a real value instead of probabilities. Usually a single tree cannot generate very good result, so we need to combine multiple trees and ensemble them to generate a better classifier. The figure shows how two trees are ensembled. The model and the objective function can be written as follows, where K is the number of trees, f is a function in the functional space $\\mathcal{F}$, and $\\mathcal{F}$ is the set of all possible CARTs, here we are learning f instead of $\\Theta$, and you can think f as tree that we can represent using parameters, i.e., the parameter here including the information of the structure of each tree, $\\Theta = \\{f_1,f_2,...,f_K\\}$:   \n",
    "<center>$\\hat{y_i} = \\sum_{k=1}^K f_k(x_i),  f_k \\in \\mathcal{F}$</center>  \n",
    "<center>$obj(\\theta) = \\sum_{i=1}^n l(y_i,\\hat{y_i}) + \\sum_{k=1}^K\\Omega(f_k)$</center>  \n",
    "Notice that $\\sum_{i=1}^n l(y_i,\\hat{y_i})$ is the training loss and $\\sum_{k=1}^K\\Omega(f_k)$ is the regularization term.\n",
    "![Tree ensemble example from http://xgboost.readthedocs.io/ ](https://raw.githubusercontent.com/dmlc/web-data/master/xgboost/model/twocart.png)\n",
    "\n",
    "## Gradient Boosting\n",
    "\n",
    "So now we have the objective function, but how we going to learn? Notice here we cannot use Gradient Descent to find the optimal f, because f are trees. One approach is to use boosting. Boosting is the idea of taking several weak learners and turning them into a a strong learner. It is also one of the most sophisticated ensemble techniques and you can learn more from [here](http://homes.cs.washington.edu/~tqchen/data/pdf/BoostedTree.pdf).  With boosting, we can derive the prediction function at t round as follows, where we add a new tree at a time: <center>$\\hat{y_i}^{(t)} = \\hat{y_i}^{(t-1)} + f_t (x_i)$</center>  \n",
    "and the objective function at t round becomes follows and we want to find $f_t$ to minimize the $obj^{(t)}$.\n",
    "<center>$obj^{(t)} = \\sum_{i=1}^n l(y_i,\\hat{y_i}^{(t)}) + \\sum_{i=1}^{t}\\Omega(f_i) = \\sum_{i=1}^n l(y_i,\\hat{y_i}^{(t-1)} + f_t(x_i)) + \\Omega(f_t) + c $</center>  \n",
    "XGBoost used gradient boost approach where take the gradient of loss function $g_i = \\partial_{\\hat{y}^{(t-1)}}$ $l(y_i,\\hat{y}^{(t-1)})$ and $h_i = \\partial_{\\hat{y}^{(t-1)}}^2$ $l(y_i,\\hat{y}^{(t-1)})$ at each iteration, for how $g_i$ and $h_i$ is calculated, and greedily grow a tree that can reduce the loss at max, here I will not include the mathmatical details for gradient boosting, if you are interested in how g and h calculated, you can refer to the detailed mathematical calculation [here](http://homes.cs.washington.edu/~tqchen/data/pdf/BoostedTree.pdf)."
   ]
  },
  {
   "cell_type": "markdown",
   "metadata": {},
   "source": [
    "Here we can try using scikit learn to implement single decision tree classifier and a gradient boost classifer to see how they perform on the Iris dataset."
   ]
  },
  {
   "cell_type": "code",
   "execution_count": 3,
   "metadata": {
    "collapsed": false
   },
   "outputs": [],
   "source": [
    "from sklearn.tree import DecisionTreeClassifier\n",
    "from sklearn.ensemble import GradientBoostingClassifier\n",
    "from sklearn import cross_validation\n",
    "from sklearn import datasets\n",
    "import numpy as np\n",
    "import xgboost as xgb\n",
    "import pandas as pd\n",
    "from sklearn.grid_search import GridSearchCV"
   ]
  },
  {
   "cell_type": "code",
   "execution_count": 4,
   "metadata": {
    "collapsed": false
   },
   "outputs": [
    {
     "name": "stdout",
     "output_type": "stream",
     "text": [
      "[[ 3.5  1.4]\n",
      " [ 3.   1.4]\n",
      " [ 3.2  1.3]\n",
      " [ 3.1  1.5]\n",
      " [ 3.6  1.4]\n",
      " [ 3.9  1.7]\n",
      " [ 3.4  1.4]\n",
      " [ 3.4  1.5]\n",
      " [ 2.9  1.4]\n",
      " [ 3.1  1.5]] [0 0 0 0 0 0 0 0 0 0]\n"
     ]
    }
   ],
   "source": [
    "#Here we use sklearn iris dataset \n",
    "iris = datasets.load_iris()\n",
    "X, y = iris.data[:, 1:3], iris.target\n",
    "train_x, train_y = X[:120], y[:120]\n",
    "test_x, test_y = X[120:], y[120:]\n",
    "print X[:10],y[:10]"
   ]
  },
  {
   "cell_type": "markdown",
   "metadata": {},
   "source": [
    "### Single Decision Tree Implementation Using Scikit-learn"
   ]
  },
  {
   "cell_type": "code",
   "execution_count": 5,
   "metadata": {
    "collapsed": false
   },
   "outputs": [
    {
     "name": "stdout",
     "output_type": "stream",
     "text": [
      "Cross validation result: 0.9140\n",
      "Single Decision Tree Accuracy: 0.8000\n",
      "Single Decision Tree Node    : 21\n"
     ]
    }
   ],
   "source": [
    "single_tree_clf = DecisionTreeClassifier()\n",
    "results = cross_validation.cross_val_score(single_tree_clf, X, y, cv=4)\n",
    "print(\"Cross validation result: %.4f\" % results.mean())\n",
    "\n",
    "#train model\n",
    "single_tree_clf.fit(train_x, train_y)\n",
    "#predict\n",
    "single_tree_pred = single_tree_clf.predict(test_x)\n",
    "\n",
    "#result\n",
    "accuracy = sum(single_tree_pred == test_y)*1.0/len(single_tree_pred)\n",
    "print(\"Single Decision Tree Accuracy: %.4f\" % accuracy)\n",
    "print(\"Single Decision Tree Node    : %d\" % single_tree_clf.tree_.node_count)"
   ]
  },
  {
   "cell_type": "markdown",
   "metadata": {},
   "source": [
    "### Gradient boost Implementation Using Scikit-learn"
   ]
  },
  {
   "cell_type": "code",
   "execution_count": 6,
   "metadata": {
    "collapsed": false
   },
   "outputs": [
    {
     "name": "stdout",
     "output_type": "stream",
     "text": [
      "Cross validation result: 0.9580\n",
      "Gradient Boost Tree Accuracy: 0.8333\n"
     ]
    }
   ],
   "source": [
    "#Gradient boost use 100 trees\n",
    "num_trees = 100\n",
    "#Initiate GBC object\n",
    "gbc = GradientBoostingClassifier(n_estimators=num_trees, random_state=5)\n",
    "#Use cross validation to see the result\n",
    "results = cross_validation.cross_val_score(gbc, train_x, train_y, cv=4)\n",
    "print(\"Cross validation result: %.4f\" % results.mean())\n",
    "gbc.fit(train_x, train_y)\n",
    "Gradient_Boost_prd = gbc.predict(test_x)\n",
    "accuracy = sum(Gradient_Boost_prd == test_y)*1.0/len(Gradient_Boost_prd)\n",
    "print(\"Gradient Boost Tree Accuracy: %.4f\" % accuracy)"
   ]
  },
  {
   "cell_type": "markdown",
   "metadata": {},
   "source": [
    "# Practice\n",
    "At above we used scikit-learn GradientBoostingClassifier, but XGBoost typically faster than scikit-learn especially in large dataset, the reason you can reference to this [post](http://stats.stackexchange.com/questions/202858/loss-function-approximation-with-taylor-expansion/204377), it explains how XGBoost is different from traditional gradient boost algorithm thus achieving a faster approach for GBT. Now let's learn how to use XGBoost by walkthrough a simple use case."
   ]
  },
  {
   "cell_type": "markdown",
   "metadata": {
    "collapsed": true
   },
   "source": [
    "## Install and run your XGBoost\n",
    "For mac and linux, you can simply use anaconda to install XGBoost by simply run the following command (Note: This tutorial used an old version for the convenience to install):  \n",
    " > <pre><code>conda install -c aterrel xgboost=0.4.0</code></pre>  \n",
    " \n",
    "If you want to install on your own, here is a quick [guide](https://xgboost.readthedocs.io/en/latest///build.html) for your."
   ]
  },
  {
   "cell_type": "code",
   "execution_count": 45,
   "metadata": {
    "collapsed": false
   },
   "outputs": [],
   "source": [
    "import numpy as np\n",
    "import xgboost as xgb\n",
    "import pandas as pd\n",
    "from sklearn.grid_search import GridSearchCV\n",
    "from mpl_toolkits.basemap import Basemap"
   ]
  },
  {
   "cell_type": "markdown",
   "metadata": {
    "collapsed": true
   },
   "source": [
    "## Prepare your data\n",
    "XGBoot used DMatrix object as its data type, you have several ways to convert your data to DMatrix:\n",
    "\n",
    "### 1. Load from libsvm text file\n",
    "<pre><code>traind = xgb.DMatrix('yourfilename.txt')</code></pre>  \n",
    "\n",
    "### 2. Load from binary buffer generated by xgboost\n",
    "<pre><code>testd = xgb.DMatrix('test.svm.buffer')</code></pre>  \n",
    "\n",
    "### 3. Convert from numpy arrays\n",
    "We can create a dataset with 3 entries and each contains 10 features, and also a label numpy array, and convert them to a DMatrix.\n",
    "<pre><code>data = np.random.rand(3,10) # 3 entities, each contains 10 features\n",
    "label = np.random.randint(2, size=3) # binary label\n",
    "traind = xgb.DMatrix( data, label=label) # create DMatrix</code></pre> \n",
    "\n",
    "### 4. Convert from scipy.sparse matrix\n",
    "<pre><code>csr = scipy.sparse.csr_matrix((dat, (row,col)))\n",
    "traind = xgb.DMatrix(csr, label = labels)</code></pre> \n",
    "\n",
    "In the first step, we will do some basic cleanning to the raw data, filter out those data with NA field and convert them into DMatrix. Note that you can also give weight to your samples and process the missing value in DMatrix by this way:  \n",
    "<pre><code>wht = np.random.rand(3,1)  \n",
    "dtrain = xgb.DMatrix( data, label=label, missing = -999.0, weight=wht)</code></pre>\n",
    "\n",
    "### 5. Save your DMatrix\n",
    "You can also save save dmatrix into binary buffer: \n",
    "<pre><code>testd.save_binary('dtest.buffer')</code></pre>"
   ]
  },
  {
   "cell_type": "markdown",
   "metadata": {},
   "source": [
    "### Dataset info\n",
    "In this tutorial we will first use Breast Cancer Wisconsin (Diagnostic) Data Set, and our task is to make diagnosis for malignant and benign (M = malignant, B = benign). You can find more information about the dataset from [here](https://archive.ics.uci.edu/ml/datasets/Breast+Cancer+Wisconsin+%28Diagnostic%29), the provided data is in csv format, you will need to process the data first, using the first 400 rows as the training dataset and remaining 169 as the test dataset. The column attributes are listed here:\n",
    "Attribute Information:\n",
    "\n",
    "1) ID number 2) Diagnosis (M = malignant, B = benign) 3-32)\n",
    "\n",
    "Ten real-valued features are computed for each cell nucleus:\n",
    "\n",
    "a) radius (mean of distances from center to points on the perimeter) \n",
    "b) texture (standard deviation of gray-scale values)  \n",
    "c) perimeter  \n",
    "d) area  \n",
    "e) smoothness (local variation in radius lengths)  \n",
    "f) compactness (perimeter^2 / area - 1.0)  \n",
    "g) concavity (severity of concave portions of the contour)  \n",
    "h) concave points (number of concave portions of the contour)  \n",
    "i) symmetry  \n",
    "j) fractal dimension (\"coastline approximation\" - 1)  \n"
   ]
  },
  {
   "cell_type": "code",
   "execution_count": 46,
   "metadata": {
    "collapsed": false
   },
   "outputs": [
    {
     "name": "stdout",
     "output_type": "stream",
     "text": [
      "Index([u'id', u'diagnosis', u'radius_mean', u'texture_mean', u'perimeter_mean',\n",
      "       u'area_mean', u'smoothness_mean', u'compactness_mean',\n",
      "       u'concavity_mean', u'concave points_mean', u'symmetry_mean',\n",
      "       u'fractal_dimension_mean', u'radius_se', u'texture_se', u'perimeter_se',\n",
      "       u'area_se', u'smoothness_se', u'compactness_se', u'concavity_se',\n",
      "       u'concave points_se', u'symmetry_se', u'fractal_dimension_se',\n",
      "       u'radius_worst', u'texture_worst', u'perimeter_worst', u'area_worst',\n",
      "       u'smoothness_worst', u'compactness_worst', u'concavity_worst',\n",
      "       u'concave points_worst', u'symmetry_worst', u'fractal_dimension_worst',\n",
      "       u'Unnamed: 32'],\n",
      "      dtype='object')\n"
     ]
    }
   ],
   "source": [
    "#Load csv \n",
    "data = pd.read_csv('data.csv')\n",
    "print data.columns"
   ]
  },
  {
   "cell_type": "markdown",
   "metadata": {},
   "source": [
    "You will implement the following method to get your training and test dataset:\n",
    "1. Make all your columns numeric since xgboost only works for numerics\n",
    "2. Split original dataset to training dataset and test dataset\n",
    "3. Separate your label column out off your training/test dataset\n",
    "4. Convert your dataset to DMatrix"
   ]
  },
  {
   "cell_type": "code",
   "execution_count": 47,
   "metadata": {
    "collapsed": true
   },
   "outputs": [],
   "source": [
    "def splitData(data):\n",
    "    data['diagnosis'] = data['diagnosis'].apply(lambda x:x=='B')*1\n",
    "    data = data.iloc[:,:32]\n",
    "    train = data.iloc[:400,:]\n",
    "    test = data.iloc[400:,:]\n",
    "    y_train = train.pop('diagnosis')\n",
    "    y_test = test.pop('diagnosis')\n",
    "    xgdmat = xgb.DMatrix(train, y_train)\n",
    "    xgdtest = xgb.DMatrix(test, y_test)\n",
    "    return (xgdmat,xgdtest,train,y_train,test,y_test)\n",
    "    \"\"\"\n",
    "    Input: data<pandas.core.frame.DataFrame>: data loaded \n",
    "    In this method you will need to implement the data processing as stated above\n",
    "       return the following\n",
    "       1.xgdtrain<xgboost.DMatrix>: DMatrix object for your training dataset\n",
    "       2.xgdtest<xgboost.DMatrix>: DMatrix object for your testing dataset\n",
    "       3.training set X <class 'pandas.core.frame.DataFrame'>\n",
    "       4.label of training set<Series>\n",
    "       5.test set X <class 'pandas.core.frame.DataFrame'>\n",
    "       6.label of testing set<Series>\n",
    "    \"\"\""
   ]
  },
  {
   "cell_type": "code",
   "execution_count": 48,
   "metadata": {
    "collapsed": false
   },
   "outputs": [
    {
     "name": "stdout",
     "output_type": "stream",
     "text": [
      "<xgboost.DMatrix object at 0x122298b90>\n",
      "<xgboost.DMatrix object at 0x11b565f10>\n",
      "(400, 31)\n",
      "(400,)\n",
      "(169, 31)\n",
      "(169,)\n"
     ]
    }
   ],
   "source": [
    "(xgdtrain, xgdtest, x_train, y_train, x_test, y_test) = splitData(data)\n",
    "print xgdtrain\n",
    "print xgdtest\n",
    "print x_train.shape\n",
    "print y_train.shape\n",
    "print x_test.shape\n",
    "print y_test.shape"
   ]
  },
  {
   "cell_type": "markdown",
   "metadata": {
    "collapsed": true
   },
   "source": [
    "# Parameters\n",
    "Before we train our model, XGBoot provides us the options to set different parameters, you can see for detailed [documentation](https://github.com/dmlc/xgboost/blob/master/doc/parameter.md). Here are examples of how to set parameters using XGBoot:  \n",
    "<pre><code>param = {'max_depth':2, 'eta':1, 'silent':1, 'objective':'binary:logistic' }\n",
    "param['nthread'] = 4\n",
    "plst = param.items()\n",
    "plst += [('eval_metric', 'auc')] # Multiple evals can be handled in this way\n",
    "plst += [('eval_metric', 'ams@0')]</code></pre>\n",
    "In more advanced xgboost version, you can also specify validations set to watch performance:\n",
    "<pre><code>watchlist  = [(dtest,'eval'), (dtrain,'train')]</code></pre>\n"
   ]
  },
  {
   "cell_type": "code",
   "execution_count": 49,
   "metadata": {
    "collapsed": false
   },
   "outputs": [
    {
     "name": "stdout",
     "output_type": "stream",
     "text": [
      "{'objective': 'binary:logistic', 'eta': 1, 'max_depth': 3, 'silent': 1}\n"
     ]
    }
   ],
   "source": [
    "params = {'max_depth':3, 'eta':1, 'silent':1, 'objective':'binary:logistic' }\n",
    "print params"
   ]
  },
  {
   "cell_type": "markdown",
   "metadata": {},
   "source": [
    "# Tuning your parameters\n",
    "Here we are using grid search to see which combination of parameters can give us a better result. Here are the [guide](http://xgboost.readthedocs.io/en/latest/how_to/param_tuning.html) for how to tuning your parameters."
   ]
  },
  {
   "cell_type": "code",
   "execution_count": 50,
   "metadata": {
    "collapsed": false
   },
   "outputs": [
    {
     "data": {
      "text/plain": [
       "GridSearchCV(cv=5, error_score='raise',\n",
       "       estimator=XGBClassifier(base_score=0.5, colsample_bytree=1, gamma=0, learning_rate=0.1,\n",
       "       max_delta_step=0, max_depth=3, min_child_weight=1,\n",
       "       n_estimators=1000, nthread=-1, objective='binary:logistic', seed=0,\n",
       "       silent=True, subsample=1),\n",
       "       fit_params={}, iid=True, n_jobs=-1,\n",
       "       param_grid={'learning_rate': [1, 0.1], 'min_child_weight': [1, 2, 3]},\n",
       "       pre_dispatch='2*n_jobs', refit=True, scoring='accuracy', verbose=0)"
      ]
     },
     "execution_count": 50,
     "metadata": {},
     "output_type": "execute_result"
    }
   ],
   "source": [
    "#cv_prms are the parameters you are going to make grid search\n",
    "#init_prms are the parameters you set fixed\n",
    "cv_prms = {'learning_rate': [1, 0.1], 'min_child_weight': [1,2,3]}\n",
    "init_prms = {'n_estimators': 1000, 'seed':0,'objective': 'binary:logistic' }\n",
    "\n",
    "optimized_GBM = GridSearchCV(xgb.XGBClassifier(**init_prms), \n",
    "                            cv_prms, \n",
    "                             scoring = 'accuracy', cv = 5, n_jobs = -1)\n",
    "optimized_GBM.fit(x_train, y_train)"
   ]
  },
  {
   "cell_type": "code",
   "execution_count": 51,
   "metadata": {
    "collapsed": false
   },
   "outputs": [
    {
     "data": {
      "text/plain": [
       "[mean: 0.95500, std: 0.02134, params: {'learning_rate': 1, 'min_child_weight': 1},\n",
       " mean: 0.94750, std: 0.02362, params: {'learning_rate': 1, 'min_child_weight': 2},\n",
       " mean: 0.95500, std: 0.02751, params: {'learning_rate': 1, 'min_child_weight': 3},\n",
       " mean: 0.96250, std: 0.01728, params: {'learning_rate': 0.1, 'min_child_weight': 1},\n",
       " mean: 0.96250, std: 0.02051, params: {'learning_rate': 0.1, 'min_child_weight': 2},\n",
       " mean: 0.95750, std: 0.01990, params: {'learning_rate': 0.1, 'min_child_weight': 3}]"
      ]
     },
     "execution_count": 51,
     "metadata": {},
     "output_type": "execute_result"
    }
   ],
   "source": [
    "optimized_GBM.grid_scores_"
   ]
  },
  {
   "cell_type": "code",
   "execution_count": 52,
   "metadata": {
    "collapsed": false
   },
   "outputs": [
    {
     "name": "stdout",
     "output_type": "stream",
     "text": [
      "{'objective': 'binary:logistic', 'eta': 0.1, 'max_depth': 3, 'min_child_weight': 2, 'silent': 1}\n"
     ]
    }
   ],
   "source": [
    "#After seen the best result, we decided to use parameters with best result\n",
    "params = {'max_depth':3, 'eta':0.1, 'min_child_weight': 2, 'silent':1, 'objective':'binary:logistic' }\n",
    "print params"
   ]
  },
  {
   "cell_type": "markdown",
   "metadata": {},
   "source": [
    "# Train your model\n",
    "\n",
    "Once we have our data and the parameters we can train our model, you can simply use xgb.train\n",
    "<pre><code>bst = xgb.train(param, dtrain, num_round=2, watchlist)</code></pre>  \n",
    "Save model  \n",
    "<pre><code>bst.save_model('xgbm.model')</code></pre>\n",
    "Dump model\n",
    "<pre><code>bst.dump_model('dump.raw.txt')</code></pre>\n",
    "Dump model with feature map\n",
    "<pre><code>bst.dump_model('dump.raw.txt','featmap.txt')</code></pre>\n",
    "You can use the booster to If retrieve the model you saved:\n",
    "<pre><code>bst2 = xgb.Booster(model_file='xgbm.model')</code></pre>"
   ]
  },
  {
   "cell_type": "code",
   "execution_count": 53,
   "metadata": {
    "collapsed": true
   },
   "outputs": [],
   "source": [
    "def trainModel(params, xgdmat, num_boost_round = 300):\n",
    "    gb = xgb.train(params, xgdmat, num_boost_round)\n",
    "    #gb.save_model('xgbm.model')\n",
    "    #gb.dump_model('dump.raw.txt','featmap.txt')\n",
    "    return gb\n",
    "    \"\"\"Input: \n",
    "    params: parameters for training model\n",
    "    xgdmat: training set data generated previously\n",
    "    num_boost_round: number of iterations\n",
    "    Return:\n",
    "    model<class 'xgboost.Booster'>\n",
    "    \"\"\""
   ]
  },
  {
   "cell_type": "markdown",
   "metadata": {},
   "source": [
    "You can also see which features were most important in the series of trees:"
   ]
  },
  {
   "cell_type": "code",
   "execution_count": 54,
   "metadata": {
    "collapsed": false
   },
   "outputs": [
    {
     "name": "stdout",
     "output_type": "stream",
     "text": [
      "{'f0': 14, 'f2': 33, 'f4': 2, 'f5': 17, 'f6': 2, 'f7': 2, 'f8': 37, 'f9': 22, 'f23': 31, 'f22': 54, 'f21': 11, 'f20': 7, 'f27': 27, 'f26': 1, 'f25': 37, 'f24': 43, 'f29': 26, 'f28': 24, 'f30': 4, 'f18': 21, 'f19': 25, 'f12': 5, 'f13': 15, 'f11': 6, 'f16': 22, 'f17': 12, 'f14': 34, 'f15': 4}\n"
     ]
    }
   ],
   "source": [
    "gb = trainModel(params, xgdtrain)\n",
    "importances = gb.get_fscore()\n",
    "print importances"
   ]
  },
  {
   "cell_type": "markdown",
   "metadata": {},
   "source": [
    "# Predict \n",
    "Using the following code to predict, examples are like:\n",
    "<pre><code>pred = bst.predict(yourtestDmatrix)</code></pre>"
   ]
  },
  {
   "cell_type": "code",
   "execution_count": 55,
   "metadata": {
    "collapsed": true
   },
   "outputs": [],
   "source": [
    "def predict_xgb(gb,xgdtest):\n",
    "    y_pred = gb.predict(xgdtest)\n",
    "    return y_pred\n",
    "    \"\"\"\n",
    "    Input: \n",
    "    gb: your model built previously\n",
    "    xdgtest: your test set\n",
    "    Implement this method to predict on your test data, return the labeled result\n",
    "    return: y_pred <Series>\n",
    "    \"\"\""
   ]
  },
  {
   "cell_type": "code",
   "execution_count": 56,
   "metadata": {
    "collapsed": false
   },
   "outputs": [
    {
     "name": "stdout",
     "output_type": "stream",
     "text": [
      "[ 0.  1.  1.  1.  1.  1.  1.  1.  0.  1.  1.  1.  1.  0.  0.  1.  1.  0.\n",
      "  1.  1.  1.  0.  1.  1.  1.  1.  1.  1.  1.  1.  0.  1.  0.  0.  1.  0.\n",
      "  1.  1.  1.  1.  1.  0.  1.  1.  0.  1.  0.  1.  1.  0.  1.  0.  1.  1.\n",
      "  1.  1.  1.  1.  1.  1.  0.  0.  1.  1.  1.  1.  1.  1.  0.  1.  1.  1.\n",
      "  1.  1.  1.  1.  1.  1.  1.  0.  1.  1.  1.  1.  1.  1.  1.  0.  1.  0.\n",
      "  1.  0.  0.  1.  1.  1.  1.  1.  0.  0.  1.  0.  1.  0.  1.  1.  1.  1.\n",
      "  1.  0.  1.  1.  0.  1.  0.  1.  0.  0.  1.  1.  1.  0.  1.  1.  1.  1.\n",
      "  1.  1.  1.  1.  1.  1.  1.  0.  1.  0.  0.  1.  1.  1.  1.  0.  1.  1.\n",
      "  1.  1.  1.  1.  1.  1.  1.  1.  1.  1.  1.  1.  1.  1.  1.  1.  1.  1.\n",
      "  0.  0.  0.  0.  0.  0.  1.]\n"
     ]
    }
   ],
   "source": [
    "y_pred = predict_xgb(gb,xgdtest)\n",
    "y_pred[y_pred <= 0.5] = 0\n",
    "y_pred[y_pred > 0.5] = 1\n",
    "print y_pred"
   ]
  },
  {
   "cell_type": "markdown",
   "metadata": {},
   "source": [
    "# Evaluate your result"
   ]
  },
  {
   "cell_type": "markdown",
   "metadata": {},
   "source": [
    "Now we have predicted, you can also evaluate your model by printing out the error rate. Remember to convert y_pred to the actual label. For this test, I got MSE of 0.023668639053254437 and accuracy of 0.97633136094674555."
   ]
  },
  {
   "cell_type": "code",
   "execution_count": 57,
   "metadata": {
    "collapsed": true
   },
   "outputs": [],
   "source": [
    "def cal_error(y_pred, y_test):\n",
    "    mse = sum((y_pred - y_test)**2)*1.0/y_pred.shape[0]\n",
    "    accuracy = sum(y_pred == y_test)*1.0/y_pred.shape[0]\n",
    "    return (mse,accuracy)\n",
    "    \"\"\"Calculate your MSE using in this method and return\n",
    "        mse <float>\n",
    "        accuracy <float>\n",
    "    \"\"\""
   ]
  },
  {
   "cell_type": "code",
   "execution_count": 58,
   "metadata": {
    "collapsed": false
   },
   "outputs": [
    {
     "name": "stdout",
     "output_type": "stream",
     "text": [
      "(0.023668639053254437, 0.97633136094674555)\n"
     ]
    }
   ],
   "source": [
    "print cal_error(y_pred,y_test)"
   ]
  },
  {
   "cell_type": "markdown",
   "metadata": {},
   "source": [
    "# Putting all together\n",
    "\n",
    "We have walked through the process of XGBoost use case of malignant diagnosis. Now we are going to use XGBoost on some interesting data and see how it performs. In this part we will combine what we have learnt in the walkthrough session, and apply XGBoost to a multiclass classification problem. We are going to use the dataset of [Pokemon historical appearance](https://www.kaggle.com/semioniy/predictemall) to predict when a [rare](http://www.pokego.org/rare-pokemon-list/) pokemon will appear (at time of the day night, evening, afternoon, morning). The complete dataset includes 209 features and 296021 records, in this example we will divide the data into training set and test set for convenient."
   ]
  },
  {
   "cell_type": "code",
   "execution_count": 101,
   "metadata": {
    "collapsed": false
   },
   "outputs": [
    {
     "name": "stdout",
     "output_type": "stream",
     "text": [
      "Index([u'pokemonId', u'latitude', u'longitude', u'appearedLocalTime', u'_id',\n",
      "       u'cellId_90m', u'cellId_180m', u'cellId_370m', u'cellId_730m',\n",
      "       u'cellId_1460m',\n",
      "       ...\n",
      "       u'cooc_143', u'cooc_144', u'cooc_145', u'cooc_146', u'cooc_147',\n",
      "       u'cooc_148', u'cooc_149', u'cooc_150', u'cooc_151', u'class'],\n",
      "      dtype='object', length=208)\n"
     ]
    }
   ],
   "source": [
    "data = pd.read_csv('300k.csv')\n",
    "print data.columns"
   ]
  },
  {
   "cell_type": "code",
   "execution_count": 36,
   "metadata": {
    "collapsed": true
   },
   "outputs": [],
   "source": [
    "#here is the set of rare pokemonId used to extract the dataset we need\n",
    "rareid = set([88,89,106,107,108,113,129,130,137,142,83,132,144,145,146,150,151,115,122,131])"
   ]
  },
  {
   "cell_type": "code",
   "execution_count": 103,
   "metadata": {
    "collapsed": false
   },
   "outputs": [],
   "source": [
    "def processData(data, rareid):\n",
    "    #drop na rows\n",
    "    data = data.dropna()\n",
    "    #Select features\n",
    "    col = ['pokemonId','latitude','longitude','gymDistanceKm','pokestopDistanceKm','population_density','urban','suburban','midurban','rural',\n",
    "'appearedTimeOfDay','appearedDayOfWeek','terrainType','closeToWater','city','continent','weather']\n",
    "    data['israre'] = data['pokemonId'].isin(rareid)*1\n",
    "    rare = data[data['israre'] == 1]\n",
    "    rare = rare[col]\n",
    "    #Convert categorical data to numerical\n",
    "    for feature in rare.columns:\n",
    "        if rare[feature].dtype == 'object':\n",
    "            rare[feature] = pd.Categorical(rare[feature]).codes\n",
    "        if rare[feature].dtype == 'bool':\n",
    "            rare[feature] = rare[feature]*1\n",
    "    #split 2/3 to training set 1/3 to test set\n",
    "    n = 2*rare.shape[0]/3\n",
    "    train_x = rare[:n]\n",
    "    test_x = rare[n:]\n",
    "    train_y = train_x.pop('appearedTimeOfDay')\n",
    "    test_y = test_x.pop('appearedTimeOfDay')\n",
    "    train_dmx = xgb.DMatrix(train_x, train_y)\n",
    "    test_dmx = xgb.DMatrix(test_x, test_y)\n",
    "    return (rare, train_x, train_y, train_dmx, test_x, test_y, test_dmx)"
   ]
  },
  {
   "cell_type": "code",
   "execution_count": 104,
   "metadata": {
    "collapsed": false
   },
   "outputs": [
    {
     "name": "stdout",
     "output_type": "stream",
     "text": [
      "(<xgboost.DMatrix object at 0x127b6ad90>, <xgboost.DMatrix object at 0x127b6a050>)\n"
     ]
    }
   ],
   "source": [
    "(rare, train_x, train_y, train_dmx, test_x, test_y, test_dmx) = processData(data, rareid)\n",
    "print (train_dmx, test_dmx)"
   ]
  },
  {
   "cell_type": "markdown",
   "metadata": {},
   "source": [
    "It's always fun to explore the dataset, let's plot pokemon position and the rare pokemon position on the map to see how it looks like. Seems Europe is more likely to have rare pokemon appear."
   ]
  },
  {
   "cell_type": "code",
   "execution_count": 117,
   "metadata": {
    "collapsed": false
   },
   "outputs": [
    {
     "data": {
      "image/png": "[encoded data removed]",
      "text/plain": [
       "<matplotlib.figure.Figure at 0x1224328d0>"
      ]
     },
     "metadata": {},
     "output_type": "display_data"
    }
   ],
   "source": [
    "plt.figure(1, figsize=(18,9))\n",
    "m = Basemap(projection='merc',\n",
    "             llcrnrlat=-60,\n",
    "             urcrnrlat=65,\n",
    "             llcrnrlon=-180,\n",
    "             urcrnrlon=180,\n",
    "             lat_ts=0,\n",
    "             resolution='c')\n",
    "m.fillcontinents(color='#191919',lake_color='#000000')\n",
    "m.drawmapboundary(fill_color='#000007') \n",
    "m.drawcountries(linewidth=0.2, color=\"w\")\n",
    "\n",
    "# Plot map\n",
    "x1, y1 = m(data.longitude.tolist(),data.latitude.tolist())\n",
    "x2, y2 = m(rare.longitude.tolist(),rare.latitude.tolist())\n",
    "m.scatter(x1,y1, s=4, c=\"#1292db\", lw=0, alpha=1, zorder=5)\n",
    "m.scatter(x2,y2, s=2, c=\"#fde711\", lw=0, alpha=1, zorder=5)\n",
    "plt.show()"
   ]
  },
  {
   "cell_type": "code",
   "execution_count": 87,
   "metadata": {
    "collapsed": false
   },
   "outputs": [
    {
     "name": "stdout",
     "output_type": "stream",
     "text": [
      "{'objective': 'multi:softmax', 'eta': 0.1, 'num_class': 4}\n"
     ]
    }
   ],
   "source": [
    "#Set up parameters to multi:softprob for multiclass\n",
    "cus_param = {'eta': 0.1, 'num_class': 4, 'objective': 'multi:softmax'}\n",
    "print cus_param"
   ]
  },
  {
   "cell_type": "code",
   "execution_count": 88,
   "metadata": {
    "collapsed": false
   },
   "outputs": [
    {
     "name": "stdout",
     "output_type": "stream",
     "text": [
      "{'f0': 361, 'f1': 4940, 'f2': 5424, 'f3': 4178, 'f4': 5126, 'f5': 3465, 'f12': 223, 'f13': 1382, 'f10': 2271, 'f11': 1012, 'f14': 137, 'f15': 2117}\n"
     ]
    }
   ],
   "source": [
    "#Print out importances\n",
    "cus_gb = trainModel(cus_param, train_dmx)\n",
    "cus_impor = cus_gb.get_fscore()\n",
    "dt = dict(enumerate(train_x.columns))\n",
    "print cus_impor"
   ]
  },
  {
   "cell_type": "code",
   "execution_count": 118,
   "metadata": {
    "collapsed": false
   },
   "outputs": [
    {
     "data": {
      "text/plain": [
       "<matplotlib.axes._subplots.AxesSubplot at 0x121b34350>"
      ]
     },
     "execution_count": 118,
     "metadata": {},
     "output_type": "execute_result"
    },
    {
     "data": {
      "image/png": "[encoded data removed]",
      "text/plain": [
       "<matplotlib.figure.Figure at 0x11da27c10>"
      ]
     },
     "metadata": {},
     "output_type": "display_data"
    }
   ],
   "source": [
    "#Plot out importances\n",
    "%matplotlib inline\n",
    "frame = pd.DataFrame({'Importance': list(cus_impor.values()), 'Features': [dt[int(key[1:])] for key in cus_impor.keys()]})\n",
    "frame.sort_values(by = 'Importance', inplace = True)\n",
    "frame.plot(kind = 'barh', x = 'Features', figsize = (14,5), color = 'lightgreen')"
   ]
  },
  {
   "cell_type": "code",
   "execution_count": 94,
   "metadata": {
    "collapsed": false
   },
   "outputs": [
    {
     "name": "stdout",
     "output_type": "stream",
     "text": [
      "[ 3.  3.  3. ...,  3.  1.  1.]\n",
      "Predict 0: 990 Predict 1: 784 Predict 2: 1042 Predict 3: 2986\n",
      "Testset 0: 980 Testset 1: 862 Testset 2: 1072 Testset 3: 2888\n",
      "Accuracy for training: 0.9557\n",
      "[ 3.  1.  1. ...,  3.  1.  3.]\n",
      "Predict 0: 0 Predict 1: 211 Predict 2: 0 Predict 3: 2690\n",
      "Testset 0: 504 Testset 1: 587 Testset 2: 752 Testset 3: 1058\n",
      "Accuracy for testing: 0.3995\n"
     ]
    }
   ],
   "source": [
    "#predict and get result\n",
    "yla = predict_xgb(cus_gb, train_dmx)\n",
    "print yla\n",
    "print ('Predict 0: %d Predict 1: %d Predict 2: %d Predict 3: %d'%(sum(yla == 0),sum(yla == 1), sum(yla == 2),sum(yla == 3)))\n",
    "print ('Testset 0: %d Testset 1: %d Testset 2: %d Testset 3: %d'%(sum(train_y == 0),sum(train_y == 1), sum(train_y == 2),sum(train_y == 3)))\n",
    "print ('Accuracy for training: %0.4f'% (sum(yla == train_y)*1.0/len(yla)))\n",
    "ylabel = predict_xgb(cus_gb,test_dmx)\n",
    "print ylabel\n",
    "print ('Predict 0: %d Predict 1: %d Predict 2: %d Predict 3: %d'%(sum(ylabel == 0),sum(ylabel == 1), sum(ylabel == 2),sum(ylabel == 3)))\n",
    "print ('Testset 0: %d Testset 1: %d Testset 2: %d Testset 3: %d'%(sum(test_y == 0),sum(test_y == 1), sum(test_y == 2),sum(test_y == 3)))\n",
    "print ('Accuracy for testing: %0.4f'% (sum(ylabel == test_y)*1.0/len(ylabel)))"
   ]
  },
  {
   "cell_type": "markdown",
   "metadata": {},
   "source": [
    "As we can see, using XGBoost we only predict 39.95% right when using test data in this particular multiclass problem, and we also see there is an serious overfiting problem here. The main reason for low accuracy might be the fact that the time when rare pokemon comming out during the day is randomly generated, so it's hard to obtain a reasonable outcome for this question, and we can see XGBoost is not always performing well on this kind of dataset. But this example is just a interesting practice on the usage of XGBoost on multiclass problem, hopefully we learnt how to use it and can apply to some other real problems and get a better result."
   ]
  },
  {
   "cell_type": "markdown",
   "metadata": {},
   "source": [
    "At last, what I want to mention is that the tutorial is just simple usage of XGBoost library, and is not focus on the machine learning algorithms behind it. Gradient boost tree itself is a very interesting topic and if you want to dig more about Gradient Boosting Tree and theory behind XGBoost, you can check link from [here](http://www.d.umn.edu/~rmaclin/publications/opitz-jair99.pdf). "
   ]
  }
 ],
 "metadata": {
  "anaconda-cloud": {},
  "kernelspec": {
   "display_name": "Python [Root]",
   "language": "python",
   "name": "Python [Root]"
  },
  "language_info": {
   "codemirror_mode": {
    "name": "ipython",
    "version": 2
   },
   "file_extension": ".py",
   "mimetype": "text/x-python",
   "name": "python",
   "nbconvert_exporter": "python",
   "pygments_lexer": "ipython2",
   "version": "2.7.12"
  }
 },
 "nbformat": 4,
 "nbformat_minor": 0
}
