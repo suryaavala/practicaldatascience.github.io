{
 "cells": [
  {
   "cell_type": "code",
   "execution_count": null,
   "metadata": {
    "collapsed": true
   },
   "outputs": [],
   "source": [
    "import networkx as nx"
   ]
  },
  {
   "cell_type": "code",
   "execution_count": null,
   "metadata": {
    "collapsed": true
   },
   "outputs": [],
   "source": [
    "G = nx.Graph()   # undirected graph\n",
    "G = nx.DiGraph() # directed graph\n",
    "\n",
    "# add and remove edges\n",
    "G.add_edges_from([(\"A\",\"B\"), (\"B\",\"C\"), (\"C\",\"A\"), (\"C\",\"D\")])\n",
    "G.remove_edge(\"A\",\"B\") \n",
    "G.add_edge(\"A\",\"B\")\n",
    "G.remove_edges_from([(\"A\",\"B\"), (\"B\",\"C\")])\n",
    "G.add_edges_from([(\"A\",\"B\"), (\"B\",\"C\")])"
   ]
  },
  {
   "cell_type": "code",
   "execution_count": null,
   "metadata": {
    "collapsed": false
   },
   "outputs": [],
   "source": [
    "import matplotlib.pyplot as plt\n",
    "%matplotlib inline\n",
    "nx.draw(G,with_labels=True)\n",
    "plt.savefig(\"mpl_graph.pdf\")"
   ]
  },
  {
   "cell_type": "code",
   "execution_count": null,
   "metadata": {
    "collapsed": false
   },
   "outputs": [],
   "source": [
    "# dictionary of keys form\n",
    "print G[\"C\"]\n",
    "# {'A': {}, 'D': {}}"
   ]
  },
  {
   "cell_type": "code",
   "execution_count": null,
   "metadata": {
    "collapsed": false
   },
   "outputs": [],
   "source": [
    "for i in G.nodes(): # loop over nodes\n",
    "    print i\n",
    "    \n",
    "for i,j in G.edges(): # loop over edges\n",
    "    print i,j"
   ]
  },
  {
   "cell_type": "code",
   "execution_count": null,
   "metadata": {
    "collapsed": false
   },
   "outputs": [],
   "source": [
    "G.node[\"A\"][\"node_property\"] = \"node_value\"\n",
    "G.edge[\"A\"][\"B\"][\"edge_property\"] = \"edge_value\"\n",
    "G.nodes(data=True) # iterator over nodes returning properties\n",
    "G.edges(data=True) # iterator over edges returning properties"
   ]
  },
  {
   "cell_type": "code",
   "execution_count": null,
   "metadata": {
    "collapsed": false
   },
   "outputs": [],
   "source": [
    "nx.shortest_path_length(G,source=\"A\") # iterater over path lengths\n",
    "\n",
    "nx.pagerank(G,alpha=0.9) # dictionary of node ranks\n",
    "\n",
    "# NOTE: this requires Networkx 2.0dev\n",
    "# pip install --upgrade git+git://github.com/networkx/networkx.git\n",
    "nx.girvan_newman(G) # iterator that gives partitions and different hierarchy levesl"
   ]
  }
 ],
 "metadata": {
  "kernelspec": {
   "display_name": "Python 2",
   "language": "python",
   "name": "python2"
  },
  "language_info": {
   "codemirror_mode": {
    "name": "ipython",
    "version": 2
   },
   "file_extension": ".py",
   "mimetype": "text/x-python",
   "name": "python",
   "nbconvert_exporter": "python",
   "pygments_lexer": "ipython2",
   "version": "2.7.12"
  }
 },
 "nbformat": 4,
 "nbformat_minor": 1
}
