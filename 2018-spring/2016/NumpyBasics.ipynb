{
 "cells": [
  {
   "cell_type": "code",
   "execution_count": null,
   "metadata": {
    "collapsed": false
   },
   "outputs": [],
   "source": [
    "import numpy as np\n",
    "print np.__config__.show() # print information on underlying libraries"
   ]
  },
  {
   "cell_type": "markdown",
   "metadata": {},
   "source": [
    "## Create \"vectors\" and \"matrices\" (really ND arrays)"
   ]
  },
  {
   "cell_type": "code",
   "execution_count": null,
   "metadata": {
    "collapsed": true
   },
   "outputs": [],
   "source": [
    "b = np.array([-13,9])            # 1D array construction\n",
    "A = np.array([[4,-5], [-2,3]])   # 2D array contruction\n",
    "\n",
    "b = np.ones(4)           # 1D array of ones\n",
    "b = np.zeros(4)          # 1D array of zeros\n",
    "b = np.random.randn(4)   # 1D array of random normal entries\n",
    "\n",
    "A = np.ones((5,4))       # 2D array of all ones\n",
    "A = np.zeros((5,4))      # 2D array of zeros\n",
    "A = np.random.randn(5,4) # 2D array with random normal entries\n",
    "\n",
    "I = np.eye(5)               # 2D identity matrix (2D array)\n",
    "D = np.diag(np.random(5))   # 2D diagonal matrix (2D array)"
   ]
  },
  {
   "cell_type": "markdown",
   "metadata": {},
   "source": [
    "## Select entries of A"
   ]
  },
  {
   "cell_type": "code",
   "execution_count": null,
   "metadata": {
    "collapsed": false
   },
   "outputs": [],
   "source": [
    "A[0,0]   # select single entry\n",
    "A[0,:]   # select entire column\n",
    "A[0:3,1] # slice indexing\n",
    "\n",
    "# integer indexing\n",
    "idx_int = np.array([0,1,2])\n",
    "A[idx,3]\n",
    "\n",
    "# boolean indexing\n",
    "idx_bool = np.array([True, True, True, False, False])\n",
    "A[idx,3]\n",
    "\n",
    "# fancy indexing on two dimensions\n",
    "idx_bool2 = np.array([True, False, True, True])\n",
    "A[idx_bool, idx_bool2]     # not what you want\n",
    "A[idx_bool,:][:,idx_bool2] # what you want"
   ]
  },
  {
   "cell_type": "markdown",
   "metadata": {},
   "source": [
    "## Forming block arrays"
   ]
  },
  {
   "cell_type": "code",
   "execution_count": null,
   "metadata": {
    "collapsed": false
   },
   "outputs": [],
   "source": [
    "A = np.random.randn(5,4)\n",
    "B = np.random.randn(2,4)\n",
    "C = np.random.randn(5,2)\n",
    "x = np.random.randn(x)\n",
    "y = np.random.rand\n",
    "\n",
    "np.vstack([A,B])       # A and B stacked vertically\n",
    "np.hstack([A,C])       # A and C stacked horizontally\n",
    "np.concatenate([x,y])  # concatenate 1D arrays"
   ]
  },
  {
   "cell_type": "markdown",
   "metadata": {},
   "source": [
    "## Basic operations on arrays"
   ]
  },
  {
   "cell_type": "code",
   "execution_count": null,
   "metadata": {
    "collapsed": false
   },
   "outputs": [],
   "source": [
    "A = np.random.randn(5,4)\n",
    "B = np.random.randn(5,4)\n",
    "x = np.random.randn(4)\n",
    "y = np.random.randn(5)\n",
    "\n",
    "A+B          # matrix addition\n",
    "A-B          # matrix subtraction\n",
    "\n",
    "A*B          # ELEMENTWISE multiplication\n",
    "A/B          # ELEMENTWISE division\n",
    "A*x          # multiply columns by x\n",
    "A*y[:,None]  # multiply rows by y (look this one up)\n",
    "\n",
    "A.T          # transpose (just changes row/column ordering)\n",
    "x.T          # does nothing (can't transpose 1D array)"
   ]
  },
  {
   "cell_type": "markdown",
   "metadata": {},
   "source": [
    "## Matrix operators"
   ]
  },
  {
   "cell_type": "code",
   "execution_count": null,
   "metadata": {
    "collapsed": false
   },
   "outputs": [],
   "source": [
    "A = np.random.randn(5,4)\n",
    "C = np.random.randn(4,3)\n",
    "x = np.random.randn(4)\n",
    "y = np.random.randn(5)\n",
    "z = np.random.randn(4)\n",
    "\n",
    "A.dot(C)       # matrix-matrix multiply (returns 2D array)\n",
    "A.dot(x)       # matrix-vector multiply (returns 1D array)\n",
    "x.dot(z)       # inner product (scalar)\n",
    "\n",
    "A.T.dot(y)   # matrix-vector multiply\n",
    "y.T.dot(A)   # same as above\n",
    "y.dot(A)     # same as above\n",
    "#A.dot(y)    # would throw error"
   ]
  },
  {
   "cell_type": "markdown",
   "metadata": {},
   "source": [
    "## Solving linear systems"
   ]
  },
  {
   "cell_type": "code",
   "execution_count": null,
   "metadata": {
    "collapsed": false
   },
   "outputs": [],
   "source": [
    "b = np.array([-13,9])\n",
    "A = np.array([[4,-5], [-2,3]])\n",
    "\n",
    "np.linalg.inv(A)     # explicitly form inverse\n",
    "np.linalg.solve(A, b) # return A^(-1)*b, more efficient and numerically stable"
   ]
  }
 ],
 "metadata": {
  "kernelspec": {
   "display_name": "Python 2",
   "language": "python",
   "name": "python2"
  },
  "language_info": {
   "codemirror_mode": {
    "name": "ipython",
    "version": 2
   },
   "file_extension": ".py",
   "mimetype": "text/x-python",
   "name": "python",
   "nbconvert_exporter": "python",
   "pygments_lexer": "ipython2",
   "version": "2.7.12"
  }
 },
 "nbformat": 4,
 "nbformat_minor": 1
}
