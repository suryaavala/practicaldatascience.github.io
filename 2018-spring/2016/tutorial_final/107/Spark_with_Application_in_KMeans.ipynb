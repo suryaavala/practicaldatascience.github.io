{
 "cells": [
  {
   "cell_type": "markdown",
   "metadata": {},
   "source": [
    "# Spark with an Application in KMeans"
   ]
  },
  {
   "cell_type": "markdown",
   "metadata": {},
   "source": [
    "## Introduction\n",
    "\n",
    "Companies need to find alternative methods of storing and processing the large amount of data their information systems are producing. This necessitates data scientists to build processing pipelines that distribute the work across a cluster of computers to keep up with the pace of business.     \n",
    "\n",
    "This tutorial is designed to expose you to the basics of Apache Spark - a distributed computing platform used to analyze and process data. After completing it, you will know some of the most common Spark operations and know how to execute the K-Means clustering algorithm on large, distributed datasets. In particular, upon the completion, you should be able to:\n",
    "+ [Recognize when to use clustering](#A-Brief-Introduction-to-Clustering-and-the-K-Means-Algorithm)\n",
    "+ [Explain the K-Means clustering algorithm](#A-Brief-Introduction-to-Clustering-and-the-K-Means-Algorithm)\n",
    "+ [Set up Apache Spark on your local machine](#Apache-Spark)\n",
    "+ [Use Spark to process data at scale](#Data-Processing-in-Spark)\n",
    "+ [Use Spark's machine learing library, MLLib, to execute the K-Means clustering algorithm](#Spark-K-Means-Implementation)"
   ]
  },
  {
   "cell_type": "markdown",
   "metadata": {},
   "source": [
    "## A Brief Introduction to Clustering and the K-Means Algorithm\n",
    "\n",
    "Clustering is an \"unsupervised\" learning task that aims to identify *K* number of subsets in *unlabled* data based on the simlarity of their input features. Samples residing in the same subset after the algorithm has run should be more similar to each other than to the data in other subsets (as measured by a distance metric such as euclidian distance). Here are scenarios where clustering can be used to solve a business problem: \n",
    "- How many market segments do we actually have in our current customer base?\n",
    "- Where can a restaurant chain place two new franchises in a city as to minimize the distance to the majority of their target market?\n",
    "\n",
    "Popular applications of clustering results include:\n",
    "- Gain a better understanding of your dataset by looking at groups of similar data points.\n",
    "- Build a classifier in order to predict to which cluster a new data point is most similar.\n",
    "\n",
    "Different categories of clustering algorithms apply different methods to discover similar subsets of data. Three examples include:\n",
    "- [Hierarchial Clustering](http://www.sthda.com/english/wiki/hierarchical-clustering-essentials-unsupervised-machine-learning#algorithm)\n",
    " - Agglomerative (bottom-up)\n",
    " - Divisive (top-down)\n",
    "- Instance-Based (Centroid-Model) Clustering\n",
    " - K-Means\n",
    "\n",
    "It can be difficult to define how many clusters you should use for grouping your unlabled dataset. While one may be able to use intuition, many empirical methods for choosing the correct number of clusters exist. While this analysis is outside the scope of this tutorial, you may [read about them here](https://en.wikipedia.org/wiki/Determining_the_number_of_clusters_in_a_data_set). \n",
    "\n",
    "To begin the K-Means algorithm, we must initialize the location of the *K* centers in the data space. Many initialization methods exist; but for simplicity, we will assume that the centers are randomly initialized (placed) in the data space (see [K-Means initialization article](http://ilpubs.stanford.edu:8090/778/1/2006-13.pdf) for more information). The K-Means algorithm is as follows:\n",
    "1. Randomly place *K* cluster centers on the data space.\n",
    "2. Calculate the distance from every point to all cluster centers.\n",
    "3. Assign each point to the closest cluster center.\n",
    "4. Place the *K* cluster centers in the middle of all points assigned to the cluster. \n",
    "5. Repeat steps 2-4 until there are no changes in the cluster center to which the point is assigned.\n",
    "\n",
    "This [helpful visualization by Stanford](http://stanford.edu/class/ee103/visualizations/kmeans/kmeans.html) can give us a more concrete picture of what's going on. After setting up the visualization, repeatedly click the \"Find Closest Centroid\" and \"Update Centroid\" until the cluster centers stabliize. "
   ]
  },
  {
   "cell_type": "markdown",
   "metadata": {},
   "source": [
    "## IOT Location Dataset \n",
    "Throughout this tutorial we'll analyze a small sample of summarized fine-grain movement data gathered from WIFI routers. The original dataset consists of over 35GB of movement location information for ~5,000 users for each second. Our dataset is includes activity from 100 random users summarized to the minute level of detail. Here is a quick look and explanation:"
   ]
  },
  {
   "cell_type": "code",
   "execution_count": 1,
   "metadata": {
    "collapsed": false
   },
   "outputs": [],
   "source": [
    "import pandas as pd\n",
    "import numpy as np\n",
    "import os\n",
    "import sys\n",
    "import matplotlib\n",
    "%matplotlib inline\n",
    "import matplotlib.pyplot as plt\n",
    "import seaborn # or alternatively plt.style.use('ggplot') for a similar look\n",
    "\n",
    "matplotlib.rc(\"figure\", figsize=(8,6))\n",
    "matplotlib.rc(\"axes\", labelsize=16, titlesize=16)\n",
    "matplotlib.rc(\"xtick\", labelsize=14)\n",
    "matplotlib.rc(\"ytick\", labelsize=14)\n",
    "matplotlib.rc(\"legend\", fontsize=14)\n",
    "matplotlib.rc(\"font\", size=14)"
   ]
  },
  {
   "cell_type": "code",
   "execution_count": 2,
   "metadata": {
    "collapsed": false,
    "scrolled": true
   },
   "outputs": [
    {
     "data": {
      "text/html": [
       "<div>\n",
       "<table border=\"1\" class=\"dataframe\">\n",
       "  <thead>\n",
       "    <tr style=\"text-align: right;\">\n",
       "      <th></th>\n",
       "      <th>user</th>\n",
       "      <th>location_code</th>\n",
       "      <th>month</th>\n",
       "      <th>day</th>\n",
       "      <th>year</th>\n",
       "      <th>hour</th>\n",
       "      <th>minute</th>\n",
       "      <th>visited_seconds</th>\n",
       "      <th>adjacent_seconds</th>\n",
       "    </tr>\n",
       "  </thead>\n",
       "  <tbody>\n",
       "    <tr>\n",
       "      <th>0</th>\n",
       "      <td>3205</td>\n",
       "      <td>1050300107</td>\n",
       "      <td>9</td>\n",
       "      <td>28</td>\n",
       "      <td>2015</td>\n",
       "      <td>8</td>\n",
       "      <td>22</td>\n",
       "      <td>1236</td>\n",
       "      <td>242905</td>\n",
       "    </tr>\n",
       "    <tr>\n",
       "      <th>1</th>\n",
       "      <td>3205</td>\n",
       "      <td>1050300098</td>\n",
       "      <td>9</td>\n",
       "      <td>28</td>\n",
       "      <td>2015</td>\n",
       "      <td>8</td>\n",
       "      <td>43</td>\n",
       "      <td>414</td>\n",
       "      <td>1650</td>\n",
       "    </tr>\n",
       "    <tr>\n",
       "      <th>2</th>\n",
       "      <td>3205</td>\n",
       "      <td>1050300050</td>\n",
       "      <td>9</td>\n",
       "      <td>28</td>\n",
       "      <td>2015</td>\n",
       "      <td>8</td>\n",
       "      <td>49</td>\n",
       "      <td>104</td>\n",
       "      <td>518</td>\n",
       "    </tr>\n",
       "    <tr>\n",
       "      <th>3</th>\n",
       "      <td>3205</td>\n",
       "      <td>1050300097</td>\n",
       "      <td>9</td>\n",
       "      <td>28</td>\n",
       "      <td>2015</td>\n",
       "      <td>8</td>\n",
       "      <td>51</td>\n",
       "      <td>597</td>\n",
       "      <td>701</td>\n",
       "    </tr>\n",
       "    <tr>\n",
       "      <th>4</th>\n",
       "      <td>3205</td>\n",
       "      <td>1050300050</td>\n",
       "      <td>9</td>\n",
       "      <td>28</td>\n",
       "      <td>2015</td>\n",
       "      <td>9</td>\n",
       "      <td>1</td>\n",
       "      <td>183</td>\n",
       "      <td>780</td>\n",
       "    </tr>\n",
       "    <tr>\n",
       "      <th>5</th>\n",
       "      <td>3205</td>\n",
       "      <td>1050300098</td>\n",
       "      <td>9</td>\n",
       "      <td>28</td>\n",
       "      <td>2015</td>\n",
       "      <td>9</td>\n",
       "      <td>4</td>\n",
       "      <td>3126</td>\n",
       "      <td>3309</td>\n",
       "    </tr>\n",
       "    <tr>\n",
       "      <th>6</th>\n",
       "      <td>3205</td>\n",
       "      <td>1050300049</td>\n",
       "      <td>9</td>\n",
       "      <td>28</td>\n",
       "      <td>2015</td>\n",
       "      <td>9</td>\n",
       "      <td>56</td>\n",
       "      <td>334</td>\n",
       "      <td>3460</td>\n",
       "    </tr>\n",
       "    <tr>\n",
       "      <th>7</th>\n",
       "      <td>3205</td>\n",
       "      <td>1050300048</td>\n",
       "      <td>9</td>\n",
       "      <td>28</td>\n",
       "      <td>2015</td>\n",
       "      <td>10</td>\n",
       "      <td>2</td>\n",
       "      <td>370</td>\n",
       "      <td>704</td>\n",
       "    </tr>\n",
       "    <tr>\n",
       "      <th>8</th>\n",
       "      <td>3205</td>\n",
       "      <td>1050100027</td>\n",
       "      <td>9</td>\n",
       "      <td>28</td>\n",
       "      <td>2015</td>\n",
       "      <td>10</td>\n",
       "      <td>8</td>\n",
       "      <td>928</td>\n",
       "      <td>1298</td>\n",
       "    </tr>\n",
       "    <tr>\n",
       "      <th>9</th>\n",
       "      <td>3205</td>\n",
       "      <td>1030110070</td>\n",
       "      <td>9</td>\n",
       "      <td>28</td>\n",
       "      <td>2015</td>\n",
       "      <td>10</td>\n",
       "      <td>24</td>\n",
       "      <td>3379</td>\n",
       "      <td>4307</td>\n",
       "    </tr>\n",
       "  </tbody>\n",
       "</table>\n",
       "</div>"
      ],
      "text/plain": [
       "   user  location_code  month  day  year  hour  minute  visited_seconds  \\\n",
       "0  3205     1050300107      9   28  2015     8      22             1236   \n",
       "1  3205     1050300098      9   28  2015     8      43              414   \n",
       "2  3205     1050300050      9   28  2015     8      49              104   \n",
       "3  3205     1050300097      9   28  2015     8      51              597   \n",
       "4  3205     1050300050      9   28  2015     9       1              183   \n",
       "5  3205     1050300098      9   28  2015     9       4             3126   \n",
       "6  3205     1050300049      9   28  2015     9      56              334   \n",
       "7  3205     1050300048      9   28  2015    10       2              370   \n",
       "8  3205     1050100027      9   28  2015    10       8              928   \n",
       "9  3205     1030110070      9   28  2015    10      24             3379   \n",
       "\n",
       "   adjacent_seconds  \n",
       "0            242905  \n",
       "1              1650  \n",
       "2               518  \n",
       "3               701  \n",
       "4               780  \n",
       "5              3309  \n",
       "6              3460  \n",
       "7               704  \n",
       "8              1298  \n",
       "9              4307  "
      ]
     },
     "execution_count": 2,
     "metadata": {},
     "output_type": "execute_result"
    }
   ],
   "source": [
    "mvmt_col_heading = ['user','location_code','month','day','year','hour','minute','visited_seconds','adjacent_seconds']\n",
    "mvmt_df = pd.read_table(\"OneMinMovementSample.txt\", sep=\"\\t\", names=mvmt_col_heading)\n",
    "\n",
    "mvmt_df['visited_seconds'] = mvmt_df['visited_seconds'].astype(int)\n",
    "\n",
    "mvmt_df.iloc[0:10,]"
   ]
  },
  {
   "cell_type": "markdown",
   "metadata": {},
   "source": [
    "The columns can be interpreted as follows: \n",
    "- user: A unique ID for each user. \n",
    "- location_code: The 10-digit codified location code where the user was seen. \n",
    "- month/day/year/hour/minute: The month/day/year/hour/minute the person arrived to location `location_code`,\n",
    "- visited_seconds: The duration in seconds between the time the user was observed at his or her current location and when he or she was observed at another location.  \n",
    "- adjacent_seconds: The duration in seconds the user spent at her or her current and previous location. \n"
   ]
  },
  {
   "cell_type": "markdown",
   "metadata": {},
   "source": [
    "## Apache Spark\n",
    "\n",
    "Apache Spark is a distributed computing platform that can be used for a variety of data analysis and computing tasks. Unlike other distributed computing platforms such as Hadoop, Spark runs all computations in memory across nodes in the cluster - allowing organizations to more quickly derive insights from massive data sets. Engineers and scientists can build analysis pipelines with real-time or historical data. Spark allows many users to simultaneously execute computations on a common dataset. For example, data scientists many train machine learning algorithms while developers issue exploratory, ad-hoc queries. It is through this diverse \"stack\" of functionality, organizations can provide value to a variety of data consumers. "
   ]
  },
  {
   "cell_type": "markdown",
   "metadata": {},
   "source": [
    "### Prerequisites\n",
    "Spark is written in Scala and needs to run in a JVM; therefore, you will need a Java 6 (or newer) installation. \n",
    "You will also need Python version 2.6 (or higher) (**Spark does not work with Python 3**)"
   ]
  },
  {
   "cell_type": "markdown",
   "metadata": {},
   "source": [
    "### Setting up Spark Locally\n",
    "You do not need Hadoop to work with Spark locally; if have Hadoop installed, download a version of Spark that has been precompiled for your Hadoop version. I did not have Hadoop installed locally and have downloaded Spark version 1.6.0 built for Hadoop 2.3. Throughout this tutorial, I will assume you have installed Spark version 1.6.0 - Python code in the tutorial may not be compatible with other versions.\n",
    "\n",
    "Download the pre-compiled Spark version 1.6.0 from: http://spark.apache.org/downloads.html and choose:\n",
    "+ Spark Release: \"1.6.0 (Jan 04 2016)\" \n",
    "+ Package type: \"Pre-built for Hadoop X.Y\" (where X.Y is the Hadoop version of your choice [I've chosen 2.3])\n",
    "+ Download Type: \"Direct Download\"\n",
    "\n",
    "\n",
    "Click .tgz link next to bullet number 4: \"Download Spark\" to download your chosen Spark distribution.\n",
    "\n",
    "\n",
    "**If you're a Windows user, be sure to install (unpack) Spark to a directory without spaces - you could run into problems otherwise.** (I am running Windows 10 and Spark is installed to the directory: C:\\spark-1.6.0-hadoop2.3)\n",
    "\n",
    "After the download has completed, [untar the download package](https://kb.iu.edu/d/acfi) into the local directory of your choosing. I used 7-zip to untar the package into the directory C:\\spark-1.6.0-hadoop2.3. \n",
    "\n",
    "Now that you have installed Spark, you're ready to configure the environment variables required by the pyspark interactive shell."
   ]
  },
  {
   "cell_type": "markdown",
   "metadata": {},
   "source": [
    "#### Configure Environment Variables\n",
    "\n",
    "Next set up two environment variables to tell pyspark which Python executable to use. I downloaded Python with Anaconda and set the two variables to:"
   ]
  },
  {
   "cell_type": "raw",
   "metadata": {},
   "source": [
    "    #Scripts\\ipython directory in your anaconda home directory\n",
    "    PYSPARK_DRIVER_PYTHON=C:\\Users\\Mark\\Anaconda2\\Scripts\\ipython\n",
    "\n",
    "    #python directory in anaconda home directory\n",
    "    PYSPARK_PYTHON=C:\\Users\\Mark\\Anaconda2\\python"
   ]
  },
  {
   "cell_type": "markdown",
   "metadata": {},
   "source": [
    "### Start the Interactive Shell"
   ]
  },
  {
   "cell_type": "markdown",
   "metadata": {},
   "source": [
    "`cd` into the directory to the directory you extracted the spark distribution to and execute the _pyspark_ command (I've extracted Spark to directory:C:\\spark-1.6.0-hadoop2.3: `cd C:\\spark-1.6.0-hadoop2.3`):"
   ]
  },
  {
   "cell_type": "raw",
   "metadata": {},
   "source": [
    "    my_home_dir$ cd my\\spark\\directory\n",
    "\n",
    "    my_spark_directory$ bin\\pyspark"
   ]
  },
  {
   "cell_type": "raw",
   "metadata": {},
   "source": [
    "    C:\\spark-1.6.0-hadoop2.3\\bin>pyspark"
   ]
  },
  {
   "cell_type": "markdown",
   "metadata": {},
   "source": [
    "The command should result in:"
   ]
  },
  {
   "cell_type": "raw",
   "metadata": {},
   "source": [
    "Python 2.7.12 |Anaconda 4.1.1 (64-bit)| (default, Jun 29 2016, 11:07:13) [MSC v.1500 64 bit (AMD64)]\n",
    "Type \"copyright\", \"credits\" or \"license\" for more information.\n",
    "\n",
    "IPython 4.2.0 -- An enhanced Interactive Python.\n",
    "?         -> Introduction and overview of IPython's features.\n",
    "%quickref -> Quick reference.\n",
    "help      -> Python's own help system.\n",
    "object?   -> Details about 'object', use 'object??' for extra details.\n",
    "Welcome to\n",
    "      ____              __\n",
    "     / __/__  ___ _____/ /__\n",
    "    _\\ \\/ _ \\/ _ `/ __/  '_/\n",
    "   /__ / .__/\\_,_/_/ /_/\\_\\   version 1.6.0\n",
    "      /_/\n",
    "\n",
    "Using Python version 2.7.12 (default, Jun 29 2016 11:07:13)\n",
    "SparkContext available as sc, HiveContext available as sqlContext.\n",
    "\n",
    "In [1]:"
   ]
  },
  {
   "cell_type": "markdown",
   "metadata": {},
   "source": [
    "#### Relevance of the Shell\n",
    "\n",
    "The Spark shell gives you the power to perform ad-hoc analysis with distributed datasets in memory across multiple machines (nodes) in a cluster. While this tutorial focuses on operating on datasets in local memory, all concepts introduced are applicable in a distributed envioronment.  \n",
    "\n",
    "#### Shutting Down the Shell\n",
    "Once you have confirmed Spark is launching properly, you can stop the interactive shell with the command (we will do all work from this Jupyter Notebook): \n",
    "\n",
    "    $ quit()\n",
    "\n",
    "After you've launched the Spark shell, assign the `spark_path` variable below to the full path of the location where you've extracted Spark:"
   ]
  },
  {
   "cell_type": "code",
   "execution_count": 3,
   "metadata": {
    "collapsed": true
   },
   "outputs": [],
   "source": [
    "# assign the spark_path variable to a string with a value of your installation path\n",
    "# my installation directory is:C:\\spark-1.6.0-hadoop2.3\n",
    "spark_path = \"C:\\spark-1.6.0-hadoop2.3\""
   ]
  },
  {
   "cell_type": "code",
   "execution_count": 4,
   "metadata": {
    "collapsed": false
   },
   "outputs": [],
   "source": [
    "######################################################################################\n",
    "##################### DO NOT MODIFY THE CONTENTS OF THIS CELL ########################\n",
    "######################################################################################\n",
    "\n",
    "#the easiest way to use pyspark with Jupyter notebooks is to use the following code to add \n",
    "#the locations of the spark libraries to the list of paths the python interpreter uses to search for python modules \n",
    "os.environ['SPARK_HOME'] = spark_path\n",
    "os.environ['HADOOP_HOME'] = spark_path\n",
    "\n",
    "#make the python interpreter aware of the location of numerous spark library directories.\n",
    "sys.path.append(spark_path + \"/bin\")\n",
    "sys.path.append(spark_path + \"/python\")\n",
    "sys.path.append(spark_path + \"/python/pyspark/\")\n",
    "sys.path.append(spark_path + \"/python/lib\")\n",
    "sys.path.append(spark_path + \"/python/lib/pyspark.zip\")\n",
    "sys.path.append(spark_path + \"/python/lib/py4j-0.9-src.zip\")\n",
    "\n",
    "from pyspark import SparkContext\n",
    "from pyspark import SparkConf\n",
    "from pyspark.mllib.clustering import KMeans, KMeansModel"
   ]
  },
  {
   "cell_type": "markdown",
   "metadata": {},
   "source": [
    "### SparkContext\n",
    "The `SparkContext` object resides in your main (driver) program and connects to a cluster resource manager (Yarn, Mesos etc.), a program responsible for allocating processes to cluster nodes to complete the Spark job. `SparkContext` is configured with a `SparkConf` object, whose arguments dictate how our Spark job gets executed and the resources (memory, cpu, and worker nodes) allocated our job. The driver program houses the main application and SparkContext and instructs executing nodes which tasks to run. [More information about the architecture of a Spark job can be found in the Spark documentation](http://spark.apache.org/docs/1.6.0/cluster-overview.html)."
   ]
  },
  {
   "cell_type": "code",
   "execution_count": 5,
   "metadata": {
    "collapsed": true
   },
   "outputs": [],
   "source": [
    "#parameters you can adjust\n",
    "\n",
    "#number of cores we will use to compute operations (\"*\" == all logical cores on machine) on and the amount of \n",
    "#memory Spark will allocate to the executors (local pc in our case)\n",
    "num_cores_used = \"*\"\n",
    "spark_executor_memory = \"2g\""
   ]
  },
  {
   "cell_type": "code",
   "execution_count": 6,
   "metadata": {
    "collapsed": false
   },
   "outputs": [
    {
     "name": "stdout",
     "output_type": "stream",
     "text": [
      "<pyspark.context.SparkContext object at 0x000000000A0F68D0>\n"
     ]
    }
   ],
   "source": [
    "#set up a spark configuration object. \n",
    "conf = SparkConf()\n",
    "conf.setMaster(\"local[{0}]\".format(num_cores_used))\n",
    "conf.setAppName(\"pdsTutorial\")\n",
    "\n",
    "#helps allieviate the 'Python worker could not connect back in time error' \n",
    "#that intermittantly occurs when executing spark on your local pc\n",
    "#http://stackoverflow.com/questions/31225412/sparkexception-python-worker-did-not-connect-back-in-time\n",
    "conf.set(\"spark.executor.heartbeatInterval\", \"3600s\")\n",
    "\n",
    "conf.set(\"spark.executor.memory\", spark_executor_memory)\n",
    "\n",
    "#set up a new spark context for our application with our desired settings\n",
    "sc = SparkContext(conf = conf)     \n",
    "\n",
    "print sc"
   ]
  },
  {
   "cell_type": "markdown",
   "metadata": {},
   "source": [
    "### Data Processing in Spark"
   ]
  },
  {
   "cell_type": "markdown",
   "metadata": {},
   "source": [
    "Let's start learning how to code with the Spark API. The Resilient Distributed Dataset (RDD) is Spark's main programming abstraction. They are immutable collections of elements of any Python datatype that Spark partitions across the computing cluster. Operations performed on them are executed simultaneously in memory of all nodes on the cluster. A large number of Spark operations either create an RDD, transform an existing RDD into a new one or return a summary statistic as a result of an operation over an RDD. RDD's can be created by loading data from a variety of sources (such as a local or HDFS file or hive table) so let's put them to work!"
   ]
  },
  {
   "cell_type": "markdown",
   "metadata": {},
   "source": [
    "### Creating RDDs\n",
    "RDDs can be created in order to distribute the contents of a text file around the cluster for computation:"
   ]
  },
  {
   "cell_type": "code",
   "execution_count": 7,
   "metadata": {
    "collapsed": true
   },
   "outputs": [],
   "source": [
    "#utility function we will use later to print out a sample of the RDD to visualize in tab delimited format\n",
    "#usage: print_rdd_sample(my_rdd.take(5))\n",
    "#.take(n) returns an array with the first n elements of the distributed dataset\n",
    "def print_rdd_sample(rdd_sample_as_list):\n",
    "    for i in rdd_sample_as_list:\n",
    "        print i"
   ]
  },
  {
   "cell_type": "code",
   "execution_count": 8,
   "metadata": {
    "collapsed": false
   },
   "outputs": [],
   "source": [
    "#create an RDD from a text file \n",
    "#RDDs can be created from numerous data sources: in memory list (see example below, a file stored on HDFS , a Hive table)\n",
    "f = \"OneMinMovementSample.txt\"\n",
    "mvmt_rdd = sc.textFile(f)\n",
    "\n",
    "#Data read from text files create an RDD of strings, we must convert one input string per line read\n",
    "#into a list of integers to compute summary statistics\n",
    "parsed_mvmt_data = mvmt_rdd.map(lambda line: [int(float(x)) for x in line.split('\\t')] )"
   ]
  },
  {
   "cell_type": "markdown",
   "metadata": {},
   "source": [
    "The `.parallelize()` method can be used to create an RDD from a python collection within your driver program. This can be used for basic testing in a python interactive shell (Note: contents of RDD created with `sc.parallelize()` must fit into memory on your driver program and should not be used for large data sets). "
   ]
  },
  {
   "cell_type": "code",
   "execution_count": 10,
   "metadata": {
    "collapsed": false,
    "scrolled": false
   },
   "outputs": [
    {
     "name": "stdout",
     "output_type": "stream",
     "text": [
      "Papers were loaded as:\n",
      "<type 'list'>\n",
      "\n",
      "86 Papers are now loaded into the driver's memory as:\n",
      "<class 'pyspark.rdd.RDD'>\n",
      "\n",
      "Each element of the papersRDD is of type:\n",
      "<type 'str'>\n"
     ]
    }
   ],
   "source": [
    "#create a list from the federalist papers as an example\n",
    "#sc.parallelize() can be used for creating RDDs from python lists. \n",
    "#load the entire corpus with the code given at the start of assignment 3\n",
    "import tutorial_support_module\n",
    "papers, _1, _2 = tutorial_support_module.load_federalist_corpus(\"FederalistPapers.txt\")\n",
    "\n",
    "print \"Papers were loaded as:\"\n",
    "print type(papers)\n",
    "\n",
    "#create an RDD from a python list\n",
    "papersRDD = sc.parallelize(papers)\n",
    "\n",
    "\n",
    "print \"\\n{0} Papers are now loaded into the driver's memory as:\".format(papersRDD.count())\n",
    "print type(papersRDD)\n",
    "\n",
    "print \"\\nEach element of the papersRDD is of type:\"\n",
    "print type(papersRDD.first())"
   ]
  },
  {
   "cell_type": "code",
   "execution_count": 12,
   "metadata": {
    "collapsed": true
   },
   "outputs": [],
   "source": [
    "#If you're interested, you can view the contents of the first paper with the command below.\n",
    "#It's omitted here to save space.  \n",
    "\n",
    "#print papersRDD.first()"
   ]
  },
  {
   "cell_type": "markdown",
   "metadata": {
    "collapsed": false
   },
   "source": [
    "### Spark Operations - Actions & Transformations"
   ]
  },
  {
   "cell_type": "markdown",
   "metadata": {},
   "source": [
    "Before performing many operations on a single RDD, it is often good practice to cache a small subset in memory (we'll cache our entire RDD in memory since its so small):"
   ]
  },
  {
   "cell_type": "code",
   "execution_count": 13,
   "metadata": {
    "collapsed": false
   },
   "outputs": [
    {
     "data": {
      "text/plain": [
       "PythonRDD[7] at RDD at PythonRDD.scala:43"
      ]
     },
     "execution_count": 13,
     "metadata": {},
     "output_type": "execute_result"
    }
   ],
   "source": [
    "#cache RDD in memory for faster operations later\n",
    "parsed_mvmt_data.persist()"
   ]
  },
  {
   "cell_type": "markdown",
   "metadata": {
    "collapsed": false
   },
   "source": [
    "Now that we have an RDD in memory, let's explore the operations that can be applied and chained together to conduct our analysis. In order to understand the data and its format, we can quickly get the number of elements in our RDD:"
   ]
  },
  {
   "cell_type": "code",
   "execution_count": 14,
   "metadata": {
    "collapsed": false
   },
   "outputs": [
    {
     "name": "stdout",
     "output_type": "stream",
     "text": [
      "10241\n"
     ]
    }
   ],
   "source": [
    "print parsed_mvmt_data.count()"
   ]
  },
  {
   "cell_type": "markdown",
   "metadata": {},
   "source": [
    "as well as its content and datatype:"
   ]
  },
  {
   "cell_type": "code",
   "execution_count": 15,
   "metadata": {
    "collapsed": false
   },
   "outputs": [
    {
     "name": "stdout",
     "output_type": "stream",
     "text": [
      "<type 'list'>\n",
      "[3205, 1050300107, 9, 28, 2015, 8, 22, 1236, 242905]\n"
     ]
    }
   ],
   "source": [
    "print type(parsed_mvmt_data.first())\n",
    "print parsed_mvmt_data.first()"
   ]
  },
  {
   "cell_type": "markdown",
   "metadata": {},
   "source": [
    "The previous two functions, `count()` and `first()` are known as actions. These functions (along with `take()` in the code block below) return a result to the driver program based on the contents of an RDD (our driver program resides on our local pc). We can also create new RDDs by applying transformations (such as `filter()` and `union()`) to existing RDDs. The below example show how to apply a function to each element of an RDD to filter our dataset."
   ]
  },
  {
   "cell_type": "code",
   "execution_count": 16,
   "metadata": {
    "collapsed": false,
    "scrolled": true
   },
   "outputs": [
    {
     "name": "stdout",
     "output_type": "stream",
     "text": [
      "Sample of August arrivals:\n",
      "[1838, 1020100037, 8, 13, 2015, 8, 48, 10371, -1]\n",
      "[1838, 1020200023, 8, 13, 2015, 11, 41, 587, 10958]\n",
      "[1838, 1020200032, 8, 13, 2015, 11, 50, 118141, 118728]\n",
      "[1656, 1020200021, 8, 13, 2015, 9, 48, 104, -1]\n",
      "[1656, 1020200023, 8, 13, 2015, 9, 49, 636, 740]\n",
      "\n",
      "\n",
      "Sample of September arrivals:\n",
      "[3205, 1050300107, 9, 28, 2015, 8, 22, 1236, 242905]\n",
      "[3205, 1050300098, 9, 28, 2015, 8, 43, 414, 1650]\n",
      "[3205, 1050300050, 9, 28, 2015, 8, 49, 104, 518]\n",
      "[3205, 1050300097, 9, 28, 2015, 8, 51, 597, 701]\n",
      "[3205, 1050300050, 9, 28, 2015, 9, 1, 183, 780]\n",
      "\n",
      "\n",
      "1087 users seen in August\n",
      "\n",
      "3352 users seen in September\n",
      "\n",
      "4439 users seen in August and September\n"
     ]
    }
   ],
   "source": [
    "#local utility function to be applied to each element of RDD\n",
    "def isMonth(data_month, month_num):\n",
    "    return data_month == month_num\n",
    "\n",
    "\n",
    "#get all the users that arrived to a location in aug after the school year started (assuming the school year starts on August 1)\n",
    "#filter works as you may expect. It returns a new RDD with all matching rows from the first RDD. \n",
    "#Below, we're placing all rows from parsed_mvmt_data where month == 8 into aug_arrivals\n",
    "aug_arrivals = parsed_mvmt_data.filter(lambda row: row[2] == 8)\n",
    "sept_arrivals = parsed_mvmt_data.filter(lambda row: isMonth(row[2], 9))\n",
    "\n",
    "#send a small sample of data back to the driver program (output can also be written to a common file system such as HDFS)\n",
    "print \"Sample of August arrivals:\"\n",
    "print_rdd_sample(aug_arrivals.take(5))\n",
    "\n",
    "print \"\\n\\nSample of September arrivals:\"\n",
    "print_rdd_sample(sept_arrivals.take(5))\n",
    "    \n",
    "#union appends the two datasets together.\n",
    "#other set operations such as: intersection() exist as well\n",
    "first_two_months = aug_arrivals.union(sept_arrivals)    \n",
    "\n",
    "aug_count = aug_arrivals.count()\n",
    "sept_count = sept_arrivals.count()\n",
    "union_count = first_two_months.count()\n",
    "\n",
    "print \"\\n\\n{0} users seen in August\".format(aug_count)\n",
    "print \"\\n{0} users seen in September\".format(sept_count)\n",
    "print \"\\n{0} users seen in August and September\".format(union_count)\n"
   ]
  },
  {
   "cell_type": "markdown",
   "metadata": {},
   "source": [
    "Two common operations used to process data in Spark are `map()` and `reduce()`. `map()` applies a function to each element of an RDD and receives an the entire element as an input argument. `reduce()` returns the result of an aggregation function of all elements in the RDD to the driver program and is passed the cumulative sum and the current element to be added as arguments (thus the difference between the two annoymous function signatures). These are best illustrated with a couple examples:"
   ]
  },
  {
   "cell_type": "code",
   "execution_count": 17,
   "metadata": {
    "collapsed": false
   },
   "outputs": [
    {
     "name": "stdout",
     "output_type": "stream",
     "text": [
      "41901743\n"
     ]
    }
   ],
   "source": [
    "#a = cumulative sum\n",
    "#b = current element to be added\n",
    "#NOTE: addition is a communitive and associative mathematical operation\n",
    "#r[7] is the number of seconds visited a user visited a location\n",
    "all_durations = parsed_mvmt_data.map(lambda r: r[7])\n",
    "total_duration = all_durations.reduce(lambda a,b: a+b)\n",
    "print total_duration"
   ]
  },
  {
   "cell_type": "markdown",
   "metadata": {},
   "source": [
    "Often, we will need to perform aggregations on the data by a specific key. The below aggregates the total duration each user was recorded in all their locations."
   ]
  },
  {
   "cell_type": "code",
   "execution_count": 18,
   "metadata": {
    "collapsed": false,
    "scrolled": true
   },
   "outputs": [
    {
     "name": "stdout",
     "output_type": "stream",
     "text": [
      "(518, 773494)\n",
      "(8, 327488)\n",
      "(2860, 712914)\n",
      "(2570, 111220)\n",
      "(2318, 159621)\n"
     ]
    }
   ],
   "source": [
    "#get the total duraction all users were seen\n",
    "\n",
    "#apply function to each row to get a (key,value) RDD. We can perform aggregations by key \n",
    "#input to function (list): [3205, 1050300050, 9, 28, 2015, 9, 1, 183, 780]\n",
    "#output from function (tuple): (3205, [3205, 1050300050, 9, 28, 2015, 9, 1, 183, 780])\n",
    "arrivals_by_user = parsed_mvmt_data.map(lambda row: (row[0], row))\n",
    "\n",
    "#mapValues() extracts the visited seconds from the list\n",
    "#input: [3205, 1050300050, 9, 28, 2015, 9, 1, 183, 780]\n",
    "#output: 183\n",
    "\n",
    "#reduce() adds the values up by user\n",
    "duration_by_user = arrivals_by_user.mapValues(lambda value: value[7]).reduceByKey(lambda a,b: a+b)\n",
    "\n",
    "#show a small data sample\n",
    "print_rdd_sample(duration_by_user.take(5))"
   ]
  },
  {
   "cell_type": "code",
   "execution_count": 19,
   "metadata": {
    "collapsed": false,
    "scrolled": true
   },
   "outputs": [
    {
     "data": {
      "text/plain": [
       "[('1490_08_13_2015_17_44', 285),\n",
       " ('1490_08_13_2015_17_48', 35),\n",
       " ('1490_08_13_2015_17_49', 72),\n",
       " ('1490_08_13_2015_17_50', 34),\n",
       " ('1490_08_13_2015_17_51', 72)]"
      ]
     },
     "execution_count": 19,
     "metadata": {},
     "output_type": "execute_result"
    }
   ],
   "source": [
    "#give a sample user to pair down the data\n",
    "u = 1490\n",
    "\n",
    "#map-reduce programs are extremely terse in spark, which is another reason it is extremely efficient to \n",
    "#build distributed data processing pipelines \n",
    "#str(row[2]).zfill(2) ensures the integers are left padded with 0 so they sort correctly. \n",
    "#If we do not left pad with zeroes, 8 will come after 11. \n",
    "arrivals_by_user_minute = parsed_mvmt_data.filter(lambda row: row[0] == u).map(\n",
    "    lambda row: (\"{0}_{1}_{2}_{3}_{4}_{5}\".\n",
    "                 format(row[0], \n",
    "                        str(row[2]).zfill(2), \n",
    "                        str(row[3]).zfill(2), \n",
    "                        row[4], \n",
    "                        str(row[5]).zfill(2), \n",
    "                        str(row[6]).zfill(2) ), \n",
    "                 row[7]))\n",
    "\n",
    "\n",
    "#sort keys in ascending order with sortByKey(True), sort descending: sortByKey()\n",
    "#now that we're working with Key-value pair RDDs, we need to use reduceByKey() transformation to perform\n",
    "#aggregations by key value instead of over the whole dataset. \n",
    "#other operations that work with (K,V) pair RDDs are: groupByKey(), aggregateByKey(), cogroup() and join()\n",
    "duration_by_user_minute = arrivals_by_user_minute.reduceByKey(lambda a,b: a+b).sortByKey(True)\n",
    "\n",
    "#collect all keys in python list so we can display it to console\n",
    "user_times = duration_by_user_minute.keys().collect()\n",
    "\n",
    "#collect all values in python list so we can display it to console\n",
    "user_durations = duration_by_user_minute.values().collect()\n",
    "\n",
    "\n",
    "[ (t,d) for t,d in zip(user_times, user_durations)][0:5]"
   ]
  },
  {
   "cell_type": "markdown",
   "metadata": {},
   "source": [
    "The `collect()` returns partitions of the RDD from the executor nodes to the driver program. If the dataset is large, we could store the results in HDFS for further analysis/processing."
   ]
  },
  {
   "cell_type": "markdown",
   "metadata": {},
   "source": [
    "### Spark K-Means Implementation\n",
    "\n",
    "Once we understand some of the core Spark operations, K-Means can be implemented pretty easily after some initial data processing."
   ]
  },
  {
   "cell_type": "code",
   "execution_count": 20,
   "metadata": {
    "collapsed": true
   },
   "outputs": [],
   "source": [
    "#set up variables \n",
    "in_file = \"OneMinMovementSample.txt\"\n",
    "out_dir = \"KMeansResults\"\n",
    "\n",
    "#k-means parameters - assume this is OK for demo perposes. \n",
    "#In reality we would choose the optimal number of clusters via the \n",
    "#elbow method, L-method, bayesian information criterion etc.\n",
    "opt_num_clusters = 33"
   ]
  },
  {
   "cell_type": "code",
   "execution_count": 22,
   "metadata": {
    "collapsed": false,
    "scrolled": false
   },
   "outputs": [
    {
     "name": "stdout",
     "output_type": "stream",
     "text": [
      "making predictions...\n",
      "\n",
      "Sample for k = 33. WSSE = 194576541.01\n",
      "1050300107\t9\t28\t2015\t8\t22\t1236\t242905\t27\n",
      "1030300080\t11\t17\t2015\t17\t18\t477\t953\t13\n",
      "1050300049\t9\t28\t2015\t9\t56\t334\t3460\t1\n",
      "1030300065\t11\t17\t2015\t17\t51\t141\t501\t13\n",
      "1060200028\t9\t28\t2015\t11\t40\t229\t1360\t29\n"
     ]
    }
   ],
   "source": [
    "#read the input data from a text file\n",
    "#in a big data scenario we can use a similar command to read data from HDFS\n",
    "#read file from HDFS: sc.textFile(\"hdfs://clusterURL:port/path/to/in/file/OneMinMovementSample.txt\")   \n",
    "data = sc.textFile(in_file)    \n",
    "parsed_rdd = data.map(lambda line: np.array( [int(float(x)) for x in line.split('\\t')]))\n",
    "\n",
    "parsed_rdd = parsed_rdd.map(lambda line: np.array([line[1],line[2],line[3],line[4],line[5],line[6],line[7],line[8]]))\n",
    "\n",
    "#cache the RDD in memory for more efficient computations\n",
    "parsed_rdd.cache()\n",
    "\n",
    "# Evaluate clustering by computing Within Set Sum of Squared Errors\n",
    "def error(point):\n",
    "    center = clusters.centers[clusters.predict(point)]\n",
    "    return np.sqrt(sum([x**2 for x in (point - center)]))\n",
    "\n",
    "#this call on MLLib does most of the work - it actually finds the cluster centers.\n",
    "#do not use the random initialization mode KMeans.train uses by default. k-means||\n",
    "#more information on k-means|| can be found here: http://theory.stanford.edu/~sergei/papers/vldb12-kmpar.pdf\n",
    "clusters = KMeans.train(parsed_rdd, k=opt_num_clusters, initializationMode=\"k-means||\")\n",
    "\n",
    "#for every point, calculate the distance from the point to its cluster center\n",
    "WSSE = parsed_rdd.map(lambda point: error(point)).reduce(lambda x, y: x + y)\n",
    "\n",
    "\n",
    "print \"making predictions...\\n\"\n",
    "labels = clusters.predict(parsed_rdd).collect()\n",
    "\n",
    "#zipWithIndex() outputs a tuple(uniqueIndex, value) to each element of the RDD\n",
    "#below we're assigning each element to a unique index so we can join the data to its label\n",
    "labels_zipped_RDD = sc.parallelize(labels).zipWithIndex().map(lambda tup: (tup[1], tup[0]))\n",
    "parsed_zipped_RDD = parsed_rdd.zipWithIndex().map(lambda tup: (tup[1], tup[0]))\n",
    "\n",
    "#join the data to its label via the synthetic index created by zipWithIndex() above. \n",
    "final_RDD = parsed_zipped_RDD.join(labels_zipped_RDD).map(lambda joined: np.append(joined[1][0], joined[1][1]))\n",
    "final_str_RDD = final_RDD.map(lambda arr: \"\\t\".join(map(str, arr)))\n",
    "\n",
    "#save the clustering results to a text file for further analysis. \n",
    "#if you run this code, you will notice there are many output files \n",
    "#with names in the format: part-XXXXX, each file is the output \n",
    "#from a different RDD partition. You can change this behavior by referring to the below:\n",
    "#http://stackoverflow.com/questions/35445486/spark-saveastextfile-writes-to-multiple-files-instead-of-one\n",
    "final_str_RDD.saveAsTextFile(out_dir)\n",
    "\n",
    "#schema of final_RDD: \n",
    "#location_code, month, day, year, minute, hour, visited_seconds, adjacent_seconds, assigned_cluster (0-32 for k=33)\n",
    "print \"Sample for k = {0}. WSSE = {1}\".format(opt_num_clusters, WSSE)\n",
    "print_rdd_sample(final_str_RDD.take(5))"
   ]
  },
  {
   "cell_type": "code",
   "execution_count": 29,
   "metadata": {
    "collapsed": false
   },
   "outputs": [
    {
     "name": "stdout",
     "output_type": "stream",
     "text": [
      "[1050300107          9         28       2015          8         22\n",
      "       1236     242905         27]\n",
      "\n",
      "<type 'numpy.ndarray'>\n"
     ]
    }
   ],
   "source": [
    "#we can see that each element of the RDD is a list\n",
    "#with this understanding, we can begin to process the results to visualize them in a relevant, interpretable manner\n",
    "print final_RDD.first()\n",
    "print\n",
    "print type(final_RDD.first())"
   ]
  },
  {
   "cell_type": "markdown",
   "metadata": {},
   "source": [
    "Finally, we can collect our results in memory to examine the results more closely. This *post* analysis will help us better understand the makeup of our clusters and answer any business questions about our data that we may have. Below, a pair plot is created to visualize how well a couple features separate the cluster groups. "
   ]
  },
  {
   "cell_type": "code",
   "execution_count": 24,
   "metadata": {
    "collapsed": false
   },
   "outputs": [],
   "source": [
    "#gather all items in the final RDD on the driver program (driver program is located on our pc)\n",
    "#pratically, we would not be able to perform this operation on datasets that cannot fit into pc memory\n",
    "#we would need to save the results to a distributed file system like HDFS \n",
    "#to analyze the results or download a small random sample\n",
    "final_list = final_RDD.collect()\n",
    "\n",
    "numpy_list = np.array([item for item in final_list])"
   ]
  },
  {
   "cell_type": "code",
   "execution_count": 25,
   "metadata": {
    "collapsed": false
   },
   "outputs": [],
   "source": [
    "#take a quick look at the cluster groups by different features\n",
    "df = pd.DataFrame(numpy_list)\n",
    "df.columns = ['location_code', 'month', 'day', 'year', 'hour', 'minute', 'visited_seconds', 'adjacent_seconds', 'cluster_assign']"
   ]
  },
  {
   "cell_type": "code",
   "execution_count": 26,
   "metadata": {
    "collapsed": true
   },
   "outputs": [],
   "source": [
    "#These are the feature values to include in the pair-plot below\n",
    "#Candidate x-features include: 'location_code', 'month', 'day', 'year', 'hour', 'minute', 'visited_seconds', 'adjacent_seconds'\n",
    "columns_to_plot = ['location_code', 'visited_seconds']\n",
    "\n",
    "\n",
    "#always include the cluster assignment\n",
    "columns_to_plot.append('cluster_assign')"
   ]
  },
  {
   "cell_type": "code",
   "execution_count": 27,
   "metadata": {
    "collapsed": true
   },
   "outputs": [],
   "source": [
    "#a range of clusters to analyze in the plot, plotting all 33 clusters at once is hard to read\n",
    "#this can be adjusted from lowerbound = 0, to upperbound = 32 ie. range(0,32)\n",
    "clusters_to_plot = range(0,10)"
   ]
  },
  {
   "cell_type": "code",
   "execution_count": 28,
   "metadata": {
    "collapsed": false
   },
   "outputs": [
    {
     "data": {
      "image/png": "[encoded data removed]",
      "text/plain": [
       "<matplotlib.figure.Figure at 0xbf59438>"
      ]
     },
     "metadata": {},
     "output_type": "display_data"
    }
   ],
   "source": [
    "plot_data = df[columns_to_plot].apply(pd.to_numeric)   \n",
    "\n",
    "#visualize the results for the first 10 clusters. This makes the plot easier to read. \n",
    "plot_data = plot_data[plot_data['cluster_assign'].isin(clusters_to_plot)]\n",
    "\n",
    "#use a pair plot on all columns in the plot_data DataFrame\n",
    "pp = seaborn.pairplot(plot_data, hue=\"cluster_assign\", palette=\"muted\", size=4)\n",
    "seaborn.despine()\n",
    "\n",
    "#rotate the x-axes to make them easier to read.\n",
    "for ax in pp.axes.flat:  \n",
    "    plt.setp(ax.get_xticklabels(), rotation=45)"
   ]
  },
  {
   "cell_type": "markdown",
   "metadata": {
    "collapsed": true
   },
   "source": [
    "## Resources \n",
    "\n",
    "Clustering:\n",
    "+ [Agglomerative vs. divisive clustering algorithms](http://www.sthda.com/english/wiki/hierarchical-clustering-essentials-unsupervised-machine-learning#algorithm)\n",
    "+ [Example of Agglomerative Clustering](https://en.wikipedia.org/wiki/Hierarchical_clustering#Agglomerative_clustering_example)\n",
    "+ [K-Means Visualization](http://stanford.edu/class/ee103/visualizations/kmeans/kmeans.html)\n",
    "+ [K-Means : The Advantages of Careful Seeding](http://ilpubs.stanford.edu:8090/778/1/2006-13.pdf)\n",
    "+ [Methods of determining the number of clusters](https://en.wikipedia.org/wiki/Determining_the_number_of_clusters_in_a_data_set)\n",
    "+ [K-Means parallel initialization method: K-Means||](http://theory.stanford.edu/~sergei/papers/vldb12-kmpar.pdf)\n",
    "\n",
    "\n",
    "Spark: \n",
    "+ [Spark download link](http://spark.apache.org/downloads.html)\n",
    "+ [Spark job execution architecture overview and explanation](http://spark.apache.org/docs/1.6.0/cluster-overview.html)\n",
    "+ [Spark documentation](http://spark.apache.org/docs/1.6.0)\n",
    "+ General resouce: Karau, H., Konwinski, A., Wendell, P., & Zaharia, M. (2015). Learning Spark: Lightening fast data analysis. Beijing: O'Reilly.\n",
    "+ [Machine learning with Spark's MLLIB library](https://spark.apache.org/docs/1.6.0/mllib-guide.html)\n",
    "\n",
    "Supplemental:\n",
    "+ [File compression (tar/untar) tutorial by Indiana University](https://kb.iu.edu/d/acfi)"
   ]
  }
 ],
 "metadata": {
  "anaconda-cloud": {},
  "kernelspec": {
   "display_name": "Python [Root]",
   "language": "python",
   "name": "Python [Root]"
  },
  "language_info": {
   "codemirror_mode": {
    "name": "ipython",
    "version": 2
   },
   "file_extension": ".py",
   "mimetype": "text/x-python",
   "name": "python",
   "nbconvert_exporter": "python",
   "pygments_lexer": "ipython2",
   "version": "2.7.12"
  }
 },
 "nbformat": 4,
 "nbformat_minor": 0
}
