{
 "cells": [
  {
   "cell_type": "code",
   "execution_count": 1,
   "metadata": {
    "collapsed": true
   },
   "outputs": [],
   "source": [
    "from IPython.core.interactiveshell import InteractiveShell\n",
    "InteractiveShell.ast_node_interactivity = \"all\""
   ]
  },
  {
   "cell_type": "markdown",
   "metadata": {},
   "source": [
    "## Introduction\n",
    "\n",
    "The Internet Movie Database, IMDb.com, is the world's largest source of source of movie data.  It provides data on nearly 4,000,000 films, with dates ranging from 1874 to the present.  This provides a rich opporunity to explore any number of film-related hypotheses or inquiries.  However, it is difficult to extract and use this data for analytical purposes, because IMDB explicitly prohibits scraping its pages, and it does not provide a free API. Third-party alternatives like the Open Movie Database (OMDb API) exist that allow users to query IMDb data, but these are highly constrained in the breadth and depth of queries that can be run. For its part, IMDb only provides \"a way access IMDb locally by holding copies of the data directly on your system\" by accessing \"a subset of the IMDb plain text data files... from our FTP sites.\"\n",
    "\n",
    "<img src=\"IMDB_FTP_description.png\" style=\"width: 600px;\"/>\n",
    "\n",
    "In this tutorial, we will access IMDb data, freely and legally, using the \"ftp.fu-berlin.de (Germany)\" link on IMDb's Alternative Interfaces page.  Clicking on this link takes us here:\n",
    "\n",
    "<img src=\"PDS_tutorial_file_list.png\" style=\"height: 400px;\"/>\n",
    "\n",
    "This page provides a list of all freely available data files from IMDB.  It has files for lists of movies, actors, actresses, directors, cinematographers, and etc.  For our purposes will work with two of these files: directors and cinematographers.  By the end of this tutorial, we will have shown how to:\n",
    "\n",
    "1. Locate and download specific IMDb.com text files containing the data of interest\n",
    "2. Process these text files into a format suitable (.csv) for loading into a simple SQL database and/or Pandas DataFrames\n",
    "3. Load the data from each text file into its own table in our database\n",
    "4. Develop a script for querying the database that can handle misspellings and disambiguation of names and titles\n",
    "5. Answer collaborational questions like, \"which cinematographer did director Woody Allen work with the most?\"\n",
    "\n",
    "Readers of this tutorial should subsequently be able to select any of the IMDb data files, preprocess and load them in to a database, and generate their own cinematic queries to learn about collaboration networks in film.\n"
   ]
  },
  {
   "cell_type": "markdown",
   "metadata": {},
   "source": [
    "## Installing and importing the necessary libraries\n",
    "\n",
    "In order to complete the tasks in this tutorial, we'll require Pandas, sqlite3, and csv.  If you don't already have any of these libraries installed, you can get them with the following commands in your machine's command terminal:\n",
    "\n",
    "\\$ conda install pandas\n",
    "\n",
    "\\$ conda install sqlite\n",
    "\n",
    "\\$ conda install csv\n",
    "\n",
    "Then, to begin our code, we will need to import each of these libraries as follows:"
   ]
  },
  {
   "cell_type": "code",
   "execution_count": 2,
   "metadata": {
    "collapsed": false
   },
   "outputs": [],
   "source": [
    "import pandas as pd\n",
    "import sqlite3\n",
    "import csv"
   ]
  },
  {
   "cell_type": "markdown",
   "metadata": {},
   "source": [
    "## Downloading the text files from IMDB\n",
    "\n",
    "Now, it's time to download the text files as discussed in the introduction.  We'll want to navigate to the IMDB Alternative Interfaces page (http://www.imdb.com/interfaces), and click on \"ftp.fu-berlin.de.\"  This takes us to the repository of freely available IMDB files.  We'll want to download \"directors.list.gz\" and \"cinematographers.list.gz\".  After unzipping them, we'll want to save their .list files in the same filepath as our notebook.  These .list files can be opened and edited using a standard text editor.  Let's open each of them to see what data they contain and in what format.\n",
    "\n",
    "In directors.list, we first encounter some summary information at the top of the file, including a usage policy.  We'll want to simply delete this.  Below that, we encounter a key that contains important information about the data in the file:\n",
    "\n",
    "<img src=\"PDS_tutorial_directors_key.png\" style=\"width: 600px;\"/>\n",
    "\n",
    "We'll want to save this to another location, as it will be a useful reference tool later.  Then, we'll remove it from the document, along with everything else that precedes the start of the actual data:\n",
    "\n",
    "#### <center>Top of file before:</center>\n",
    "<img src=\"PDS_tutorial_directors_before.png\" style=\"height: 400px;\"/>\n",
    "\n",
    "#### <center>Top of file after:</center>\n",
    "<img src=\"PDS_tutorial_directors_after.png\" style=\"height: 400px;\"/>\n",
    "\n",
    "Finally, we must go to the bottom of the file and remove the concluding description text (non-data) that also occurs there:\n",
    "\n",
    "#### <center>Bottom of file before:</center>\n",
    "<img src=\"bottom_before.png\" style=\"height: 400px;\"/>\n",
    "\n",
    "#### <center>Bottom of file after:</center>\n",
    "<img src=\"bottom_after.png\" style=\"height: 400px;\"/>\n",
    "\n",
    "Now, upon looking at the data, we see that the three core pieces of information provided are the director's name, the names of the films he/she directed, and their years of release.  This is the information we'll concern ourself with for the purposes of this tutorial.  We can also immediately see some potential problems: some films have unknown release years, shown by \"(????)\", and some directors' names include punctuation and non-english symbols that could make them difficult to process.  We can also see that, since most directors have made multiple films, there are multiple rows of films associated with a director, whose name is represented by a single row:\n",
    "\n",
    "<img src=\"director_sample.png\" style=\"height: 300px;\"/>\n",
    "\n",
    "Fortunately for us, the cinematographers.list file is formatted exactly the same as the directors.list file, except of course that the cinematographer's name is included instead of the director's.  In fact, this is the case for all people files in the IMDB Alternative Interface repository (actors, producers, screenwriters, etc.).  This means that, after (quickly) manually removing the tops and bottoms of any of these files, we can feed them to a single processing script."
   ]
  },
  {
   "cell_type": "markdown",
   "metadata": {},
   "source": [
    "## Processing the .list files for formatting into .csv file\n",
    "\n",
    "In this section, we're going to implement all the processing necessary to convert the raw data in an IMDB .list file to a proper, usable .csv file.\n",
    "\n",
    "First, let's get some sense of what our raw data looks like if we simply read it as is, using Python's csv library to print the first 20 rows:\n"
   ]
  },
  {
   "cell_type": "code",
   "execution_count": 75,
   "metadata": {
    "collapsed": false
   },
   "outputs": [
    {
     "name": "stdout",
     "output_type": "stream",
     "text": [
      "[\"'Abd Al-Hamid, Ja'far\", 'A Two Hour Delay (2001)']\n",
      "2\n",
      "['', '', '', 'Badgeless sur la Croisette (2012) {{SUSPENDED}}']\n",
      "4\n",
      "['', '', '', 'Just Outside the Frame: The Profilmic Event and Beyond (2008)']\n",
      "4\n",
      "['', '', '', 'Mesocafe (2009) {{SUSPENDED}}']\n",
      "4\n",
      "['', '', '', 'Mesocaf\\xe9 (2011)']\n",
      "4\n",
      "[]\n",
      "0\n",
      "[\"'D.J'Arlia, Domenic\", \"She'll Never Know (2012)\"]\n",
      "2\n",
      "[]\n",
      "0\n",
      "[\"'Dada' Pecori, Diego\", 'Adam (????)  (attached)']\n",
      "2\n",
      "['', '', '', 'Cantarella (2011)']\n",
      "4\n",
      "['', '', '', 'Makhno Beer (2010)']\n",
      "4\n",
      "[]\n",
      "0\n",
      "[\"'Kid Niagara' Kallet, Harry\", 'Drug Demon Romance (2012)  (co-director)']\n",
      "2\n",
      "[]\n",
      "0\n",
      "[\"'Kusare, Mak (I)\", 'Baby Beautiful (2013/II)']\n",
      "2\n",
      "['', '', '', 'Comrade (2008)']\n",
      "4\n",
      "[]\n",
      "0\n",
      "[\"'Kusare, Mak (II)\", 'A Play Called a Temple Made of Clay (2014)']\n",
      "2\n",
      "[]\n",
      "0\n"
     ]
    }
   ],
   "source": [
    "index = 1\n",
    "\n",
    "with open('directors.list', 'rb') as test_file:\n",
    "    csv_reader = csv.reader(test_file, delimiter='\\t', quotechar='|')\n",
    "    for row in csv_reader:\n",
    "        print row\n",
    "        print len(row)\n",
    "        index += 1\n",
    "        if index == 20:\n",
    "            break"
   ]
  },
  {
   "cell_type": "markdown",
   "metadata": {},
   "source": [
    "Several issues jump out immediately:\n",
    "\n",
    "1. The director's first and last names are included together in the format \"first, last\".  We will need to split up this name string if we want to separate first and last name.\n",
    "2. The year is included in the same string as the film title\n",
    "3. For some films, other special comments are also included at the end of the string containing the film title and year.\n",
    "4. Some lines have empty elements for the director's name; this occurs due to the formatting of the input file.  Importantly, such rows contain three empty strings, followed by the string containing the title, year, etc. of the film.\n",
    "5. Some lines are blank, owing to the fact that the input document has empty lines to separate directors\n",
    "6. When lines that include directors' names are returned as lists (using tab-delimited csv reading), these lists vary in length from 2-4, with some of them including empty elements.\n",
    "\n",
    "In the code we write to process this data contained in the input file, we'll want to have separate elements for first and last names of directors, for better querying.  We'll also want to separate the film titles from their release dates.\n",
    "\n",
    "We'll create a function that writes our raw input data to a properly formatted .csv; that function will address these known issues and meet the requirements specified above."
   ]
  },
  {
   "cell_type": "code",
   "execution_count": 5,
   "metadata": {
    "collapsed": false,
    "scrolled": false
   },
   "outputs": [],
   "source": [
    "#Maintain a list of valid positions (i.e. positions for which we currently have data files available)\n",
    "positions_list = [\"directors\", \"cinematographers\"]\n",
    "\n",
    "#Write a function to process the raw .list files after the manual preprocessing described above has been completed.\n",
    "def text_to_csv(input_filepath, output_filepath, position):\n",
    "    \"\"\"\n",
    "    Inputs:\n",
    "        input_filepath (str) : the filepath to the .list file that contains the relevant IMDb data\n",
    "        output_filepath (str) : the filepath to the empty .csv file to which output will be written\n",
    "        position (str) : category of the position for the current list (e.g. \"directors\" or \"cinematographers\")\n",
    "    Outputs:\n",
    "        nothing is directly returned from this function; the result is that the output csv file is populated with the data\n",
    "    \"\"\"\n",
    "    \n",
    "    #First, we check to make sure that the filepaths and position are both valid.\n",
    "    #If the filepath is not valid, print an error message and exit the function\n",
    "    try:\n",
    "        input_file = open(input_filepath, 'rb')\n",
    "        #Recall that our input data file is (very messily) tab delimited\n",
    "        csv_reader = csv.reader(input_file, delimiter='\\t')\n",
    "    except IOError:\n",
    "        print \"Input file not found; please provide a valid input filepath\"\n",
    "        return\n",
    "    \n",
    "    try:\n",
    "        output_file = open(output_filepath, 'wb')\n",
    "        csv_writer = csv.writer(output_file, delimiter='|')\n",
    "    except IOError:\n",
    "        print \"Output file not found; please provide a valid output filepath\"\n",
    "        return    \n",
    "    \n",
    "    #If the position is not valid, print an error message and exit the function\n",
    "    if position not in positions_list:\n",
    "        print \"Position not valid; please enter one of these valid positions:\"\n",
    "        for pos in positions_list:\n",
    "            print pos\n",
    "        return\n",
    "    \n",
    "    #Now we begin our main goal for this function: converting the raw data file into a valid .csv file.\n",
    "    #That .csv file will later be read into a Pandas dataframe.  This raw text processing represents the\n",
    "    #bulk of the difficult work in this tutorial.  We will need to account for many potential edge cases\n",
    "    #of text formatting, while capturing all of the valid data in the file.\n",
    "    #Rather than editing in place on the raw input file, we will write to a new, empty .csv file.\n",
    "    \n",
    "    i = 0\n",
    "    with input_file:\n",
    "        \n",
    "        #write headers to first row of output file\n",
    "        csv_writer.writerow(['last_name','first_name','title','year'])\n",
    "        \n",
    "        last_name = None\n",
    "        first_name = None\n",
    "        \n",
    "        for row in csv_reader:\n",
    "            \n",
    "            #1. skip over empty lines, and note that this means we're about to see a new director\n",
    "            if len(row) == 0:\n",
    "                continue\n",
    "            \n",
    "            #2. for rows containing a person's name...\n",
    "            elif(row[0] != ''):\n",
    "                #...remove empty elements if there are any. This always results in a list of length 2,\n",
    "                #of the form:    [\"first_name, last_name\", \"film_title (YYYY) ...\"]\n",
    "                row = [x for x in row if x != '']\n",
    "                #if the length of the row is still not 2, we've hit an anomoly in the data; just skip the row\n",
    "                #to avoid corrupting our output file\n",
    "                if len(row) != 2:\n",
    "                    continue\n",
    "                #Otherwise, we parse the row into last_name, first_name, title, and release_year\n",
    "                else:\n",
    "                    name = row[0].split(', ')\n",
    "                    #If we encounter an anomoly where there's not a first and last name, skip the row.\n",
    "                    #Note that this means we must skip all of the films associated with this person.\n",
    "                    #For now, we'll create '!' flags as name placeholders.\n",
    "                    if len(name) != 2:\n",
    "                        name = ['!','!']\n",
    "                    #Now, parse the last name, first name, film title, and year\n",
    "                    last_name = name[0]\n",
    "                    first_name = name[1]\n",
    "                    title_and_year = row[1].split(' (')\n",
    "                    title = title_and_year[0]\n",
    "                    year = title_and_year[1][0:4]\n",
    "                    parsed_row = [last_name, first_name, title, year]\n",
    "                    #We're done parsing the row! Write it to the output file\n",
    "                    csv_writer.writerow(parsed_row)\n",
    "                               \n",
    "            #3. If the line is not empty and doesn't begin with a name, then we know we're on a line within a given\n",
    "            #person's block of films, so we want to make sure we associate that line with that person\n",
    "            else:\n",
    "                #All such lines should be lists of length 4. If we see an anomoly, simply skip the line.\n",
    "                if len(row) != 4:\n",
    "                    continue\n",
    "                #We know that the first three elements of the line will be empty strings, so ignore them.\n",
    "                #We just want the title and date\n",
    "                title_and_year = row[3].split(' (')\n",
    "                title = title_and_year[0]\n",
    "                year = title_and_year[1][0:4]\n",
    "                #Year should be numeric; if it's not, we've hit an anomoly. Skip the row and continue\n",
    "                if year.isdigit() == False:\n",
    "                    continue\n",
    "                parsed_row = [last_name, first_name, title, year]\n",
    "                #We're done parsing the row! Write it to the output file\n",
    "                csv_writer.writerow(parsed_row)\n",
    "            i += 1\n",
    "    \n",
    "    print \"total rows: \" + str(i)\n",
    "    return"
   ]
  },
  {
   "cell_type": "code",
   "execution_count": 6,
   "metadata": {
    "collapsed": false
   },
   "outputs": [
    {
     "name": "stdout",
     "output_type": "stream",
     "text": [
      "Directors\n",
      "total rows: 2600086\n",
      "Cinematographers\n",
      "total rows: 1358342\n"
     ]
    }
   ],
   "source": [
    "#Let's test out the code we've written so far. \n",
    "print \"Directors\"\n",
    "text_to_csv('directors.list','directors_data.csv','directors')\n",
    "print \"Cinematographers\"\n",
    "text_to_csv('cinematographers.list', 'cinematographers_data.csv','cinematographers')"
   ]
  },
  {
   "cell_type": "markdown",
   "metadata": {
    "collapsed": true
   },
   "source": [
    "## Reading our csv files into Pandas DataFrames\n",
    "\n",
    "Now let's load the data from the csv files we generated into separate Pandas DataFrames:"
   ]
  },
  {
   "cell_type": "code",
   "execution_count": 7,
   "metadata": {
    "collapsed": false
   },
   "outputs": [],
   "source": [
    "#We'll write a simple function to convert our csv files to Pandas DataFrames,\n",
    "#and to pickle them so we don't have to reload them again later\n",
    "\n",
    "def csv_to_df(input_filename, pickle_filename):\n",
    "    df = pd.read_csv(input_filename, sep='|')\n",
    "    df.to_pickle(pickle_filename)\n",
    "    return df\n",
    "\n",
    "#Load the dataframes\n",
    "directors_df = csv_to_df(\"directors_data.csv\", \"directors_pickle.pkl\")\n",
    "cinematographers_df = csv_to_df(\"cinematographers_data.csv\", \"cinematographers_pickle.pkl\")\n",
    "    "
   ]
  },
  {
   "cell_type": "code",
   "execution_count": 8,
   "metadata": {
    "collapsed": false
   },
   "outputs": [
    {
     "name": "stdout",
     "output_type": "stream",
     "text": [
      "Directors: shape and head\n",
      "(2600086, 4)\n",
      "       last_name first_name  \\\n",
      "0  'Abd Al-Hamid     Ja'far   \n",
      "1  'Abd Al-Hamid     Ja'far   \n",
      "2  'Abd Al-Hamid     Ja'far   \n",
      "3  'Abd Al-Hamid     Ja'far   \n",
      "4  'Abd Al-Hamid     Ja'far   \n",
      "\n",
      "                                               title  year  \n",
      "0                                   A Two Hour Delay  2001  \n",
      "1                         Badgeless sur la Croisette  2012  \n",
      "2  Just Outside the Frame: The Profilmic Event an...  2008  \n",
      "3                                           Mesocafe  2009  \n",
      "4                                           Mesocaf�  2011  \n",
      "\n",
      "Cinematographers: shape and head\n",
      "(1358342, 4)\n",
      "       last_name first_name                             title  year\n",
      "0  'Cali' Quiroz      Oscar  Manchild: The Schea Cotton Story  2016\n",
      "1   'Chito' R�os     Daniel                    About the Dead  2016\n",
      "2  'Dada' Pecori      Diego                       Makhno Beer  2010\n",
      "3        'Kusare    Mak (I)                    Baby Beautiful  2013\n",
      "4          'Lang      Fritz                       Metropolice  2014\n"
     ]
    }
   ],
   "source": [
    "#Let's do a quick check of the DataFrames to make sure they match our expectations:\n",
    "print \"Directors: shape and head\"\n",
    "print directors_df.shape\n",
    "print directors_df.head()\n",
    "print \"\"\n",
    "print \"Cinematographers: shape and head\"\n",
    "print cinematographers_df.shape\n",
    "print cinematographers_df.head()"
   ]
  },
  {
   "cell_type": "markdown",
   "metadata": {},
   "source": [
    "## Loading IMDb data into sqlite3\n",
    "\n",
    "Using Pandas DataFrames to hold our data is probably ok if we only want to use a couple of the shorter files from IMDb.  However, if we wanted to pull data on a dozen different positions (e.g. actors, actresses, producers, etc.), we'd probably be better off storing it in a simple database, for more efficient joins and queries.  Now, we'll write a function to load data from any IMDb personel file into its own table in sqlite3:"
   ]
  },
  {
   "cell_type": "code",
   "execution_count": 9,
   "metadata": {
    "collapsed": false
   },
   "outputs": [],
   "source": [
    "def load_film_data(connection, filepath, table_name):\n",
    "    \"\"\" Load IMDb data in the files as tables into an in-memory SQLite database\n",
    "    Input:\n",
    "        connection (sqlite3.Connection) : database connection\n",
    "        filepath (str) : path to input csv file\n",
    "        table_name (str) : name of the table in our database\n",
    "    Output:\n",
    "        None (result is that the given file is uploaded to a table in the database)\n",
    "    \"\"\"\n",
    "    #Initialize the cursor using the connection given in the function parameters \n",
    "    cursor = connection.cursor()\n",
    "    \n",
    "    #Write the initial sql command to create the table, given the table_name in the function parameters\n",
    "    execution_str = \"CREATE TABLE \" + table_name + \" (last_name TEXT, first_name TEXT, title TEXT, year TEXT)\"\n",
    "    cursor.execute(execution_str)\n",
    "    \n",
    "    #Now that we've created the table, we're prepared to load the data from our csv file into it\n",
    "    #We must specify that our delimiter is \"|\" (the default delimter is a comma)\n",
    "    with open(filepath,'rb') as film_file:\n",
    "        dict_reader = csv.DictReader(film_file, delimiter='|')\n",
    "        to_db = [(i['last_name'], i['first_name'],i['title'],i['year']) for i in dict_reader]\n",
    "\n",
    "    #Finally, we load our data by executing a sql statment to populate the given table\n",
    "    cursor.executemany(\"INSERT INTO \" + table_name + \" (last_name, first_name, title, year) VALUES (?, ?, ?, ?);\", to_db)\n",
    "    connection.commit()\n",
    "    \n",
    "    return"
   ]
  },
  {
   "cell_type": "markdown",
   "metadata": {},
   "source": [
    "Now, lets load our directors and cinematographers data into sqlite tables, using the function we wrote above:"
   ]
  },
  {
   "cell_type": "code",
   "execution_count": 10,
   "metadata": {
    "collapsed": false
   },
   "outputs": [
    {
     "name": "stdout",
     "output_type": "stream",
     "text": [
      "('directors',)\n",
      "('cinematographers',)\n"
     ]
    }
   ],
   "source": [
    "#First, remember to open a connection to the database\n",
    "con = sqlite3.connect(\":memory:\")\n",
    "con.text_factory = str\n",
    "#load the directors and cinematographers csv files into the database\n",
    "load_film_data(con, \"directors_data.csv\", \"directors\")\n",
    "load_film_data(con, \"cinematographers_data.csv\", \"cinematographers\")\n",
    "cursor = con.cursor()\n",
    "#Finally, let's check to make sure our function calls executed properly by printing the table names in our database:\n",
    "for row in cursor.execute(\"SELECT name FROM sqlite_master WHERE type = 'table';\"):\n",
    "    print row"
   ]
  },
  {
   "cell_type": "markdown",
   "metadata": {},
   "source": [
    "## The fun part: querying our film database for cinematic insights\n",
    "\n",
    "We're finally ready to start querying!  Now, it's important to remember why we went to all this trouble; if we wanted to ask questions like \"Who was director X's cinematographer on film Y,\" or, \"Which films did director X do between years Y and Z?\", we could have done that quickly and easily enough on IMDb.com.\n",
    "\n",
    "But we're interested in *collaboration over time*.  We want to ask questions like, \"Which cinematographer did director X collaborate with most often (during years Y through Z)?\", or, \"Which directors worked with the same cinematographers on more than X% of the films they made?\"\n",
    "\n",
    "So, let's ask them- and answer them.  We'll now write and execute functions that let us answer collaborational questions such as we asked above.\n",
    "\n",
    "We'll start by creating a function that returns all the films associated with a given person, for use in later functions:"
   ]
  },
  {
   "cell_type": "code",
   "execution_count": 11,
   "metadata": {
    "collapsed": false
   },
   "outputs": [],
   "source": [
    "def get_films_and_years(first_name, last_name, position, cursor):\n",
    "    \"\"\" Retrieves all films and dates associated with the person given in the input\n",
    "    Input:\n",
    "        first_name (str): first name of person\n",
    "        last_name (str): last name of person\n",
    "        position (str): position category of main person (so we can look up in the proper database table)\n",
    "        cursor (sqlite3.Cursor): cursor object to query the database\n",
    "    Output:\n",
    "        titles_and_dates (dict): dictionary of film titles (keys) and dates (values) for the person in the input\n",
    "    \"\"\"\n",
    "    #right now: just get the films and years for a given person (position, first_name, last_name)\n",
    "    query_string = \"SELECT title, year FROM %s where %s=? AND %s=?\"\n",
    "    query_string = \"SELECT title, year FROM %s where %s LIKE ? AND %s LIKE ?\"\n",
    "    #To avoid ambiguities with middle names, numerals, etc., we'll use a wildcard with names\n",
    "    results = cursor.execute(query_string % (position, 'last_name', 'first_name'), (last_name+\"%\", first_name+\"%\"))\n",
    "    \n",
    "    titles_and_dates = {}\n",
    "    \n",
    "    for row in results:\n",
    "        titles_and_dates[row[0]] = row[1]\n",
    "    \n",
    "    return titles_and_dates"
   ]
  },
  {
   "cell_type": "markdown",
   "metadata": {},
   "source": [
    "Let's test our function for of history's most lauded film directors, Satyajit Ray"
   ]
  },
  {
   "cell_type": "code",
   "execution_count": 12,
   "metadata": {
    "collapsed": false
   },
   "outputs": [
    {
     "name": "stdout",
     "output_type": "stream",
     "text": [
      "('Agantuk', '1991')\n",
      "('Shakha Proshakha', '1990')\n",
      "('Ganashatru', '1989')\n",
      "('Sukumar Ray', '1987')\n",
      "('Ghare-Baire', '1984')\n",
      "('Pikoor Diary', '1981')\n",
      "('Sadgati', '1981')\n",
      "('Heerak Rajar Deshe', '1980')\n",
      "('Joi Baba Felunath', '1979')\n",
      "('Shatranj Ke Khilari', '1977')\n",
      "('Bala', '1976')\n",
      "('Jana Aranya', '1976')\n",
      "('Sonar Kella', '1974')\n",
      "('Ashani Sanket', '1973')\n",
      "('The Inner Eye', '1972')\n",
      "('Seemabaddha', '1971')\n",
      "('Sikkim', '1971')\n",
      "('Aranyer Din Ratri', '1970')\n",
      "('Pratidwandi', '1970')\n",
      "('Goopy Gyne Bagha Byne', '1969')\n",
      "('Chiriyakhana', '1967')\n",
      "('Nayak', '1966')\n",
      "('Two', '1965')\n",
      "('Mahapurush', '1965')\n",
      "('Kapurush', '1965')\n",
      "('Charulata', '1964')\n",
      "('Mahanagar', '1963')\n",
      "('Kanchenjungha', '1962')\n",
      "('Abhijaan', '1962')\n",
      "('Teen Kanya', '1961')\n",
      "('Rabindranath Tagore', '1961')\n",
      "('Devi', '1960')\n",
      "('Apur Sansar', '1959')\n",
      "('Parash Pathar', '1958')\n",
      "('Jalsaghar', '1958')\n",
      "('Aparajito', '1956')\n",
      "('Pather Panchali', '1955')\n",
      "Total films: 37\n"
     ]
    }
   ],
   "source": [
    "sr_films = get_films_and_years('Satyajit', 'Ray', 'directors', cursor)\n",
    "\n",
    "#Let's sort the results from most recent to earliest\n",
    "import operator\n",
    "sorted_sr_films = sorted(sr_films.items(), key=operator.itemgetter(1), reverse=True)\n",
    "for film in sorted_sr_films:\n",
    "    print film\n",
    "print \"Total films: \" + str(len(sorted_sr_films))"
   ]
  },
  {
   "cell_type": "markdown",
   "metadata": {
    "collapsed": true
   },
   "source": [
    "## Looking at collaborations\n",
    "\n",
    "Now that we can pull films and dates associated with a person, we can also look to see what other people (in what other positions) that person collaborated with.  Let's write a function that does this:"
   ]
  },
  {
   "cell_type": "code",
   "execution_count": 13,
   "metadata": {
    "collapsed": false
   },
   "outputs": [],
   "source": [
    "def get_collaborators(first_name, last_name, main, collab, cursor):\n",
    "    \"\"\"\n",
    "    Input:\n",
    "        first_name (str): first name of person\n",
    "        last_name (str): last name of person\n",
    "        main (str): position category of main person\n",
    "        collab (str): position category of collaborator\n",
    "        cursor (sqlite3.Cursor): cursor object to query the database\n",
    "    Output:\n",
    "        collab_list (list): list of 4-tuples of form (collaborator first name, collaborator last name, film title, year)\n",
    "    \"\"\"\n",
    "    \n",
    "    inner_join_query = \"\"\"\n",
    "    SELECT %s.last_name AS collab_last, %s.first_name AS collab_first, %s.title, %s.year \n",
    "    FROM %s INNER JOIN %s \n",
    "    ON %s.title = %s.title AND %s.year = %s.year\n",
    "    WHERE %s.first_name=? AND %s.last_name=?\n",
    "    \"\"\"\n",
    "    \n",
    "    var_tuple = (collab, collab, collab, collab, main, collab, main, collab, main, collab, main, main)\n",
    "    val_tuple = (first_name, last_name)\n",
    "    \n",
    "    collab_result = cursor.execute(inner_join_query % var_tuple, val_tuple)\n",
    "\n",
    "    collab_list = []\n",
    "    \n",
    "    for row in collab_result:\n",
    "        collab_list.append(row)\n",
    "    \n",
    "    return collab_list"
   ]
  },
  {
   "cell_type": "markdown",
   "metadata": {},
   "source": [
    "Let's test out or newest function on Satyajit Ray again, to find all the cinematographers he collaborated with, and on what films:"
   ]
  },
  {
   "cell_type": "code",
   "execution_count": 14,
   "metadata": {
    "collapsed": false
   },
   "outputs": [
    {
     "name": "stdout",
     "output_type": "stream",
     "text": [
      "('Raha', 'Barun (I)', 'Agantuk', '1991')\n",
      "('Raha', 'Barun (I)', 'Shakha Proshakha', '1990')\n",
      "('Raha', 'Barun (I)', 'Ganashatru', '1989')\n",
      "('Roy', 'Soumendu', 'Ghare-Baire', '1984')\n",
      "('Roy', 'Soumendu', 'Sadgati', '1981')\n",
      "('Roy', 'Soumendu', 'Heerak Rajar Deshe', '1980')\n",
      "('Roy', 'Soumendu', 'Joi Baba Felunath', '1979')\n",
      "('Roy', 'Soumendu', 'Shatranj Ke Khilari', '1977')\n",
      "('Roy', 'Soumendu', 'Jana Aranya', '1976')\n",
      "('Roy', 'Soumendu', 'Sonar Kella', '1974')\n",
      "('Roy', 'Soumendu', 'Ashani Sanket', '1973')\n",
      "('Roy', 'Soumendu', 'The Inner Eye', '1972')\n",
      "('Roy', 'Soumendu', 'Seemabaddha', '1971')\n",
      "('Roy', 'Soumendu', 'Sikkim', '1971')\n",
      "('Roy', 'Soumendu', 'Aranyer Din Ratri', '1970')\n",
      "('Bose', 'Purnendu', 'Pratidwandi', '1970')\n",
      "('Roy', 'Soumendu', 'Pratidwandi', '1970')\n",
      "('Roy', 'Soumendu', 'Goopy Gyne Bagha Byne', '1969')\n",
      "('Roy', 'Soumendu', 'Chiriyakhana', '1967')\n",
      "('Mitra', 'Subrata', 'Nayak', '1966')\n",
      "('Roy', 'Soumendu', 'Kapurush', '1965')\n",
      "('Roy', 'Soumendu', 'Mahapurush', '1965')\n",
      "('Mitra', 'Subrata', 'Charulata', '1964')\n",
      "('Mitra', 'Subrata', 'Mahanagar', '1963')\n",
      "('Roy', 'Soumendu', 'Abhijaan', '1962')\n",
      "('Mitra', 'Subrata', 'Kanchenjungha', '1962')\n",
      "('Roy', 'Soumendu', 'Rabindranath Tagore', '1961')\n",
      "('Roy', 'Soumendu', 'Teen Kanya', '1961')\n",
      "('Mitra', 'Subrata', 'Devi', '1960')\n",
      "('Mitra', 'Subrata', 'Apur Sansar', '1959')\n",
      "('Mitra', 'Subrata', 'Jalsaghar', '1958')\n",
      "('Mitra', 'Subrata', 'Parash Pathar', '1958')\n",
      "('Mitra', 'Subrata', 'Aparajito', '1956')\n",
      "('Mitra', 'Subrata', 'Pather Panchali', '1955')\n"
     ]
    }
   ],
   "source": [
    "test = get_collaborators('Satyajit', 'Ray', 'directors', 'cinematographers', cursor)\n",
    "#Let's sort our results from most recent to oldest\n",
    "test_sorted = sorted(test, key=lambda x: x[3], reverse=True)\n",
    "for collab in test_sorted:\n",
    "    print collab"
   ]
  },
  {
   "cell_type": "markdown",
   "metadata": {
    "collapsed": true
   },
   "source": [
    "## Finding top collaborators and frequency of collaboration\n",
    "\n",
    "So, just from a glance at the results above, it looks like Satyajit Ray had a few favorite cinematographers that he worked with consistently throughout his career.  It'd be great if we could have a simple function that would show us a list of unique collaborators, along with frequency of collaboration, that a given person worked with.  Let's write a function that can tell us this:"
   ]
  },
  {
   "cell_type": "code",
   "execution_count": 15,
   "metadata": {
    "collapsed": false
   },
   "outputs": [],
   "source": [
    "def rank_collaborators(first_name, last_name, main, collab, cursor):\n",
    "    \"\"\" Get collaborators ranked by frequency of collaboration, with ability to see films & dates of collaboration\n",
    "    Input:\n",
    "        first_name (str): first name of person\n",
    "        last_name (str): last name of person\n",
    "        main (str): position category of main person\n",
    "        collab (str): position category of collaborator\n",
    "        cursor (sqlite3.Cursor): cursor object to query the database\n",
    "    Output:\n",
    "        (collab_dict, collabs_and_counts) (tuple) : dict and list containing collaboration data\n",
    "    \"\"\"\n",
    "    \n",
    "    #First, we get the complete list of collaborators, using the function we just wrote\n",
    "    collabs = get_collaborators(first_name, last_name, main, collab, cursor)\n",
    "    \n",
    "    #In order to maintain the first and last names of collaborators without using concatenation\n",
    "    #or creating a new class, we can use Python's namedtuple library:\n",
    "    from collections import namedtuple\n",
    "    Collaborator = namedtuple(\"Collaborator\", [\"last_name\", \"first_name\"])\n",
    "    \n",
    "    #Now, we'll populate a dictionary with keys as Collaborators, and values as lists of 2-tuples of the form (title, year)\n",
    "    collab_dict = {}\n",
    "    \n",
    "    #We iterate over the collaborations and update the our dictionary accordingly\n",
    "    for item in collabs:\n",
    "        c = Collaborator(last_name=item[0], first_name=item[1])\n",
    "        if c in collab_dict.keys():\n",
    "            collab_dict[c].append((item[2], item[3]))\n",
    "        else:\n",
    "            collab_dict[c] = [(item[2], item[3])]\n",
    "    \n",
    "    #Finally, we return a sorted list of collaborators (sorted on frequency of collaboration)\n",
    "    collabs_and_counts = []\n",
    "    for k in sorted(collab_dict, key=lambda k: len(collab_dict[k]), reverse=True):\n",
    "        collabs_and_counts.append((k, len(collab_dict[k])))\n",
    "\n",
    "    return (collab_dict, collabs_and_counts)"
   ]
  },
  {
   "cell_type": "markdown",
   "metadata": {},
   "source": [
    "Let's test out our newest function!  First, let's look at rankings, by collaboration frequency, of Satyajit Ray's cinematographers:"
   ]
  },
  {
   "cell_type": "code",
   "execution_count": 17,
   "metadata": {
    "collapsed": false
   },
   "outputs": [
    {
     "name": "stdout",
     "output_type": "stream",
     "text": [
      "(Collaborator(last_name='Roy', first_name='Soumendu'), 20)\n",
      "(Collaborator(last_name='Mitra', first_name='Subrata'), 10)\n",
      "(Collaborator(last_name='Raha', first_name='Barun (I)'), 3)\n",
      "(Collaborator(last_name='Bose', first_name='Purnendu'), 1)\n"
     ]
    }
   ],
   "source": [
    "test_dict, test_ranked = rank_collaborators('Satyajit', 'Ray', 'directors', 'cinematographers', cursor)\n",
    "for item in test_ranked:\n",
    "    print item"
   ]
  },
  {
   "cell_type": "markdown",
   "metadata": {},
   "source": [
    "Interesting- it seems Satyajit Ray preferred to work with the cinematographer Soumendu Roy more than any other.  Which films did they work on together?  We can easily use our function to see that as well:"
   ]
  },
  {
   "cell_type": "code",
   "execution_count": 18,
   "metadata": {
    "collapsed": false
   },
   "outputs": [
    {
     "name": "stdout",
     "output_type": "stream",
     "text": [
      "('Ghare-Baire', '1984')\n",
      "('Sadgati', '1981')\n",
      "('Heerak Rajar Deshe', '1980')\n",
      "('Joi Baba Felunath', '1979')\n",
      "('Shatranj Ke Khilari', '1977')\n",
      "('Jana Aranya', '1976')\n",
      "('Sonar Kella', '1974')\n",
      "('Ashani Sanket', '1973')\n",
      "('The Inner Eye', '1972')\n",
      "('Seemabaddha', '1971')\n",
      "('Sikkim', '1971')\n",
      "('Aranyer Din Ratri', '1970')\n",
      "('Pratidwandi', '1970')\n",
      "('Goopy Gyne Bagha Byne', '1969')\n",
      "('Chiriyakhana', '1967')\n",
      "('Kapurush', '1965')\n",
      "('Mahapurush', '1965')\n",
      "('Abhijaan', '1962')\n",
      "('Rabindranath Tagore', '1961')\n",
      "('Teen Kanya', '1961')\n"
     ]
    }
   ],
   "source": [
    "ray_roy_films = test_dict[('Roy','Soumendu')]\n",
    "for film in sorted(ray_roy_films, key=lambda x: x[1], reverse=True):\n",
    "    print film"
   ]
  },
  {
   "cell_type": "markdown",
   "metadata": {},
   "source": [
    "## Where to go from here\n",
    "\n",
    "Having reached the end of this tutorial, we now know how to extract, format, cleanse and use the freely available data from IMDb.com, in the absence of a nice API.  Better yet, we've seen how to leverage it to gain insights far beyond what we could get on IMDb.com; particularly, we've seen how to explore basic collaboration between people in the film industry.  Yet, this opens up many new questions, like:\n",
    "\n",
    "  -Which positions tend to collaborate together most frequently?\n",
    "\n",
    "  -Could we represent collaboration in the film industry using graphs?\n",
    "\n",
    "  -Can we learn which collaboration patterns tend to yield the best outcomes, in terms of profits and/or awards?\n",
    "\n",
    "Anyone who has completed this tutorial should be able to move on to tackle those more complex questions.\n",
    "\n",
    "Let's conclude, for fun, by generating the favorite cinematographers of some of the world's greatest directors:\n"
   ]
  },
  {
   "cell_type": "code",
   "execution_count": 19,
   "metadata": {
    "collapsed": false
   },
   "outputs": [
    {
     "name": "stdout",
     "output_type": "stream",
     "text": [
      "Woody Allen's top cinematographers:\n",
      "Eigil Bryld 36\n",
      "Carlo Di Palma 12\n",
      "Gordon (I) Willis 8\n",
      "Darius Khondji 5\n",
      "Sven Nykvist 4\n",
      "\n",
      "Ingmar Bergman's top cinematographers:\n",
      "Sven Nykvist 58\n",
      "Gunnar Fischer 12\n",
      "G�ran Strindberg 4\n",
      "Raymond Wemmenl�v 3\n",
      "Hilding Bladh 3\n",
      "\n",
      "Andrei Tarkovsky's top cinematographers:\n",
      "Vadim Yusov 4\n",
      "Georgi (I) Rerberg 2\n",
      "Leonid Kalashnikov 1\n",
      "Lev Bunin 1\n",
      "Ernst Yakovlev 1\n",
      "\n",
      "Akira Kurosawa's top cinematographers:\n",
      "Asakazu Nakai 11\n",
      "Takao (I) Sait� 9\n",
      "Takeo (I) It� 5\n",
      "Sh�ji Ueda 5\n",
      "Kazuo (I) Miyagawa 2\n",
      "\n",
      "Werner Herzog's top cinematographers:\n",
      "Peter Zeitlinger 51\n",
      "Dave (II) Roberson 32\n",
      "J�rg Schmidt-Reitwein 17\n",
      "Karl Kofler 16\n",
      "Thomas Mauch 10\n"
     ]
    }
   ],
   "source": [
    "print \"Woody Allen's top cinematographers:\"\n",
    "a_dict, a_ranked = rank_collaborators('Woody', 'Allen', 'directors', 'cinematographers', cursor)\n",
    "for item in a_ranked[:5]:\n",
    "    print item[0][1], item[0][0], item[1]\n",
    "\n",
    "print    \n",
    "    \n",
    "print \"Ingmar Bergman's top cinematographers:\"\n",
    "b_dict, b_ranked = rank_collaborators('Ingmar', 'Bergman', 'directors', 'cinematographers', cursor)\n",
    "for item in b_ranked[:5]:\n",
    "    print item[0][1], item[0][0], item[1]\n",
    "\n",
    "print    \n",
    "    \n",
    "print \"Andrei Tarkovsky's top cinematographers:\"\n",
    "c_dict, c_ranked = rank_collaborators('Andrei', 'Tarkovsky', 'directors', 'cinematographers', cursor)\n",
    "for item in c_ranked[:5]:\n",
    "    print item[0][1], item[0][0], item[1]\n",
    "\n",
    "print    \n",
    "    \n",
    "print \"Akira Kurosawa's top cinematographers:\"\n",
    "d_dict, d_ranked = rank_collaborators('Akira', 'Kurosawa', 'directors', 'cinematographers', cursor)\n",
    "for item in d_ranked[:5]:\n",
    "    print item[0][1], item[0][0], item[1]\n",
    "    \n",
    "print\n",
    "    \n",
    "print \"Werner Herzog's top cinematographers:\"\n",
    "e_dict, e_ranked = rank_collaborators('Werner', 'Herzog', 'directors', 'cinematographers', cursor)\n",
    "for item in e_ranked[:5]:\n",
    "    print item[0][1], item[0][0], item[1]"
   ]
  },
  {
   "cell_type": "code",
   "execution_count": null,
   "metadata": {
    "collapsed": true
   },
   "outputs": [],
   "source": []
  }
 ],
 "metadata": {
  "anaconda-cloud": {},
  "kernelspec": {
   "display_name": "Python [Root]",
   "language": "python",
   "name": "Python [Root]"
  },
  "language_info": {
   "codemirror_mode": {
    "name": "ipython",
    "version": 2
   },
   "file_extension": ".py",
   "mimetype": "text/x-python",
   "name": "python",
   "nbconvert_exporter": "python",
   "pygments_lexer": "ipython2",
   "version": "2.7.12"
  }
 },
 "nbformat": 4,
 "nbformat_minor": 0
}
