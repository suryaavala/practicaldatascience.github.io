{
 "cells": [
  {
   "cell_type": "markdown",
   "metadata": {},
   "source": [
    "\n",
    "# Image Recognition Using Convolutional Neural Network\n",
    "\n",
    "\n",
    "## Introduction\n",
    "\n",
    "This tutorial will introduce you to some basic kownledge about deep learning, we will focus on how to implement convolutional neural network in Keras and use this technique to do some simple image recognition. \n",
    "\n",
    "Keras is a high-level neural networks library, written in Python and capable of running on top of either TensorFlow or Theano. It was developed with a focus on enabling fast experimentation. \n"
   ]
  },
  {
   "cell_type": "markdown",
   "metadata": {
    "collapsed": true
   },
   "source": [
    "## Tutorial content\n",
    "In this tutorial, we will show you how to build basic deep learning networks using Keras in python, and give an example about simple image processing.\n",
    "\n",
    "We'll be using data from THE MNIST DATABASE (http://yann.lecun.com/exdb/mnist/). This database is like the \"Hello World\" part for image recognition. It is a database of handwritten digits, with a training set of 60,000 examples, and a test set of 10,000 examples. It is a good database for people who want to try learning techniques and pattern recognition methods on real-world data while spending minimal efforts on preprocessing and formatting.\n",
    "\n",
    "We will cover the following topics in this tutorial:\n",
    "\n",
    "1. Basic knowledge about deep learning and CNN\n",
    "2. Build a CNN in Keras\n"
   ]
  },
  {
   "cell_type": "markdown",
   "metadata": {},
   "source": [
    "## Basic knowledge about deep learning and CNN\n",
    "\n",
    "###  Deep Learning\n",
    "\n",
    "In order to do some deep learning, we first need to have a training model. The model is a network structure which consists of many functions. The picture below shows what a **fully connected feedforward network** is like. The network is consists of many layers, and each layer contains many neurons. Each neuron of the previous layer is connected to the neurons of the next layer.\n",
    "<img src=\"layer.png\",width=600,height=600>\n",
    "\n",
    "The picture below shows how one neuron can be calculated by the neurons of the previous layer and the weight between two connecting neurons:\n",
    "<img src=\"neuron.png\",width=600,height=600>\n",
    "\n",
    "By choosing the right network structure, we can get an output with very low loss."
   ]
  },
  {
   "cell_type": "markdown",
   "metadata": {},
   "source": [
    "### About CNN (Convolutional Neural Network)\n",
    "\n",
    "In deep learning, a convolutional neural network (CNN, or ConvNet) is a type of feed-forward artificial neural network in which the connectivity pattern between its neurons is inspired by the organization of the animal visual cortex. It has wide applications in image and video recognition, recommender systems and natural language processing.\n",
    "\n",
    "**There are three important steps in CNN: convolution, max pooling and flatten.**\n",
    "Let me show you what are these steps. \n",
    "\n",
    "For example, in order to classify the image below, we need to know whether it's a picture of bird. \n",
    "<img src=\"bird.jpg\",width=400,height=400>\n",
    "We need to extract features from birds. One of the features is the beak. So while doing deep learning, we will need neurons (sometimes one is enough) to detect whether there is a beak. \n",
    "<img src=\"beak.png\",width=100,height=100>\n",
    "The point of CNN is that some patterns are much smaller than the whole image. And a neuron does not have to see the whole image to discover the pattern. A CNN is able to focus on small regions with less parameters. That's why we will have convolution in CNN.\n",
    "\n",
    "Also, subsampling the pixels will not change the object. So we can subsample the pixels to make the image smaller and hence less parameters for the network to process the image. That's why we will have max pooling in CNN.\n",
    "<img src=\"whole.png\",width=800,height=800>\n",
    "\n"
   ]
  },
  {
   "cell_type": "markdown",
   "metadata": {},
   "source": [
    "The picture above shows the three steps of CNN. \n",
    "\n",
    "In **convolution** part, we use several filters to calculate each parts of the image, and convert the results into a new matrix. The new matrix is a feature map corresponding to the filter. We do the same process for each filter. Notice that there are overlaps in the input while calculating the feature map, this will help to obtain a better representation of the original image.\n",
    "\n",
    "In **max pooling** part, we devide the feature maps into small pieces and pool out the maximmum of each piece. Then we will get several new but smaller images. For example, in the picture above, we divide the feature map into four 2×2 pieces and we take the maximum of each pieced and get a smaller matrix. This step will efficiently reduce the number of parameters.\n",
    "We can repeat the convolution and max pooling parts for many times.\n",
    "\n",
    "After the first two steps, we **flatten** the small images we get and put into the fully connected feedforward network. Then we walk through all the fully connected layers to get the output."
   ]
  },
  {
   "cell_type": "markdown",
   "metadata": {},
   "source": [
    "## Let's build a CNN in Keras"
   ]
  },
  {
   "cell_type": "markdown",
   "metadata": {},
   "source": [
    "### Installing the libraries:\n",
    "\n",
    "https://keras.io/#installation\n",
    "Follow the instruction on the website above. We will use Tensorflow as its backend.\n"
   ]
  },
  {
   "cell_type": "code",
   "execution_count": 7,
   "metadata": {
    "collapsed": false
   },
   "outputs": [],
   "source": [
    "import tensorflow as tf\n",
    "tf.python.control_flow_ops = tf #To avoid some incompatible between keras and tensorflow"
   ]
  },
  {
   "cell_type": "code",
   "execution_count": 8,
   "metadata": {
    "collapsed": false
   },
   "outputs": [],
   "source": [
    "from keras.models import Sequential\n",
    "from keras.layers import Dense\n",
    "from keras.layers import Dropout\n",
    "from keras.layers import Activation\n",
    "from keras.layers import Flatten\n",
    "from keras.layers import Convolution2D\n",
    "from keras.layers import MaxPooling2D\n",
    "from keras.utils import np_utils\n",
    "from keras.optimizers import SGD\n",
    "from keras import backend as K\n",
    "# load mnist data directly from keras datasets\n",
    "from keras.datasets import mnist \n",
    "import numpy as np\n",
    "# fix random seed for reproducibility\n",
    "seed = 111\n",
    "np.random.seed(seed)"
   ]
  },
  {
   "cell_type": "markdown",
   "metadata": {},
   "source": [
    "### Load Data\n",
    "\n",
    "Now, let's take a closer look at the dataset we are going to use.\n",
    "It is a database of handwrite digits. Each image is 28 pixels by 28 pixels. So we can interpret this as a 2D array of numbers. And each image has a corresponding label to show the digit.\n",
    "The mnist data set can easily be loaded in Keras. Let's load the data and separate it into two tuples: (X is the image, Y is the corresponding label)\n"
   ]
  },
  {
   "cell_type": "code",
   "execution_count": 10,
   "metadata": {
    "collapsed": true
   },
   "outputs": [],
   "source": [
    "(X_train, y_train), (X_test, y_test) = mnist.load_data()"
   ]
  },
  {
   "cell_type": "markdown",
   "metadata": {},
   "source": [
    "Then we can plot images directly using matplotlib:"
   ]
  },
  {
   "cell_type": "code",
   "execution_count": 11,
   "metadata": {
    "collapsed": false
   },
   "outputs": [
    {
     "data": {
      "image/png": "[encoded data removed]",
      "text/plain": [
       "<matplotlib.figure.Figure at 0x110277190>"
      ]
     },
     "metadata": {},
     "output_type": "display_data"
    }
   ],
   "source": [
    "import matplotlib\n",
    "import matplotlib.pyplot as plt\n",
    "\n",
    "plt.subplot(221)\n",
    "plt.imshow(X_train[0], cmap=plt.get_cmap('gray'))\n",
    "plt.subplot(222)\n",
    "plt.imshow(X_train[1], cmap=plt.get_cmap('gray'))\n",
    "plt.subplot(223)\n",
    "plt.imshow(X_train[2], cmap=plt.get_cmap('gray'))\n",
    "plt.subplot(224)\n",
    "plt.imshow(X_train[3], cmap=plt.get_cmap('gray'))\n",
    "# show the plot\n",
    "plt.show()"
   ]
  },
  {
   "cell_type": "markdown",
   "metadata": {},
   "source": [
    "Then we need to do some data processing. Keras have two shape models for images: one is \"tf\", which means the images have shape (samples, width, height, channels), the other is \"th\", which means the images have shape (samples, channels, width, height).\n",
    "So we are going to use image_dim_ordering() to checkout what shape the model is and extract that shape."
   ]
  },
  {
   "cell_type": "code",
   "execution_count": 12,
   "metadata": {
    "collapsed": false
   },
   "outputs": [
    {
     "name": "stdout",
     "output_type": "stream",
     "text": [
      "('X_train shape:', (60000, 28, 28, 1))\n",
      "('X_test shape:', (10000, 28, 28, 1))\n",
      "(60000, 'train samples')\n",
      "(10000, 'test samples')\n"
     ]
    }
   ],
   "source": [
    "# input image dimensions\n",
    "img_rows, img_cols = 28, 28\n",
    "\n",
    "if K.image_dim_ordering() == 'th':\n",
    "    X_train = X_train.reshape(X_train.shape[0], 1, img_rows, img_cols)\n",
    "    X_test = X_test.reshape(X_test.shape[0], 1, img_rows, img_cols)\n",
    "    input_shape = (1, img_rows, img_cols)\n",
    "else:\n",
    "    X_train = X_train.reshape(X_train.shape[0], img_rows, img_cols, 1)\n",
    "    X_test = X_test.reshape(X_test.shape[0], img_rows, img_cols, 1)\n",
    "    input_shape = (img_rows, img_cols, 1)\n",
    "    \n",
    "print('X_train shape:', X_train.shape)\n",
    "print('X_test shape:', X_test.shape)\n",
    "print(X_train.shape[0], 'train samples')\n",
    "print(X_test.shape[0], 'test samples')"
   ]
  },
  {
   "cell_type": "markdown",
   "metadata": {},
   "source": [
    "In order to understand the input values better, let's normalize the data. The maximum observation is 255.\n",
    "Since the data is loaded as integers, we must cast it to floating point values for division."
   ]
  },
  {
   "cell_type": "code",
   "execution_count": 14,
   "metadata": {
    "collapsed": false
   },
   "outputs": [
    {
     "name": "stdout",
     "output_type": "stream",
     "text": [
      "('Y_test shape:', (10000, 10))\n",
      "('X_test shape:', (10000, 28, 28, 1))\n"
     ]
    }
   ],
   "source": [
    "X_train = X_train.astype('float32')\n",
    "X_test = X_test.astype('float32')\n",
    "X_train /= 255\n",
    "X_test /= 255\n",
    "classes = 10\n",
    "X_test_r = X_test.reshape(X_test.shape[0], img_rows, img_cols, 1)\n",
    "\n",
    "# convert the labels to binary class matrices\n",
    "Y_train = np_utils.to_categorical(y_train, classes)\n",
    "Y_test = np_utils.to_categorical(y_test, classes)\n",
    "print('Y_test shape:', Y_test.shape)\n",
    "print('X_test shape:', X_test.shape)"
   ]
  },
  {
   "cell_type": "markdown",
   "metadata": {},
   "source": [
    "### Define Model\n",
    "\n",
    "**Models** in Keras are defined as a sequence of layers.\n",
    "Let’s start off by defining a simple CNN structure as a baseline and evaluate how well it performs on the problem.\n",
    "We need to set up some parameters first:\n",
    "\n",
    "We will use a structure with two convolutional layers followed by max pooling and a flattening out of the network to fully connected layers to make predictions.\n",
    "\n",
    "Our convolutional neural network structure can be summarized as follows:\n",
    "\n",
    "1. The first convolutional input layer, 30 feature maps in size of 5×5, a rectifier activation function \"ReLU\".\n",
    "2. One max Pool layer in size of 2×2.\n",
    "3. The second convolutional layer, 15 feature maps with in size of 3×3, a rectifier activation function \"ReLU\".\n",
    "4. One max Pool layer in size of 2×2.\n",
    "5. Dropout 20% data for training.\n",
    "6. One flatten layer.\n",
    "7. The first fully connected layer with 128 units and a rectifier activation function \"ReLU\".\n",
    "8. The second fully connected layer with 50 units and a rectifier activation function \"ReLU\".\n",
    "9. Fully connected output layer with 10 units and a softmax activation function.\n"
   ]
  },
  {
   "cell_type": "code",
   "execution_count": 15,
   "metadata": {
    "collapsed": true
   },
   "outputs": [],
   "source": [
    "#parameters\n",
    "# two different convolutional filters to use\n",
    "filters1 = 30\n",
    "filters2 = 15\n",
    "# size of pooling area for max pooling\n",
    "pool_size = (2, 2)\n",
    "# convolution filter sizes\n",
    "filter_size1 = (5, 5)\n",
    "filter_size2 = (3, 3)"
   ]
  },
  {
   "cell_type": "code",
   "execution_count": 16,
   "metadata": {
    "collapsed": false
   },
   "outputs": [],
   "source": [
    "# create model\n",
    "model = Sequential()\n",
    "\n",
    "#first convolutional input layer\n",
    "model.add(Convolution2D(filters1, \n",
    "                        filter_size1[0], \n",
    "                        filter_size1[1],\n",
    "                        border_mode = 'valid',\n",
    "                        input_shape = input_shape))\n",
    "model.add(Activation('relu'))\n",
    "\n",
    "# max Pool layer\n",
    "model.add(MaxPooling2D(pool_size = pool_size))\n",
    "\n",
    "#second convolutional layer\n",
    "model.add(Convolution2D(filters2, \n",
    "                        filter_size2[0], \n",
    "                        filter_size2[1]))\n",
    "model.add(Activation('relu'))\n",
    "\n",
    "# max Pool layer\n",
    "model.add(MaxPooling2D(pool_size = pool_size))\n",
    "\n",
    "#dropout set to 20%\n",
    "model.add(Dropout(0.2))\n",
    "\n",
    "#flatten layer\n",
    "model.add(Flatten())\n",
    "\n",
    "#first fully connected layer\n",
    "model.add(Dense(128))\n",
    "model.add(Activation('relu'))\n",
    "\n",
    "#second fully connected layer\n",
    "model.add(Dense(50))\n",
    "model.add(Activation('relu'))\n",
    "\n",
    "#third fully connected layer\n",
    "model.add(Dense(classes))\n",
    "model.add(Activation('softmax'))"
   ]
  },
  {
   "cell_type": "markdown",
   "metadata": {},
   "source": [
    "### Rectifier and Dropout\n",
    "\n",
    "While going through the model, you may find there are some parameters unfamilier to you.\n",
    "\n",
    "**Rectifier**\n",
    "\n",
    "In the context of artificial neural networks, the rectifier is an activation function defined as\n",
    "f(x)=max(0,x) where x is the input to a neuron.\n",
    "\n",
    "ReLU is short for \"rectified linear unit. The fuction is shown in the figure below. Using ReLU can help us filter out the neurals with unexpected value and improve the compute efficiency.\n",
    "<img src=\"relu.png\",width=100,height=100>\n",
    "\n",
    "**Dropout**\n",
    "\n",
    "Doupout some portion of the neurons while training is a good way to prevent from overfitting.\n",
    "The intuitive understanding is that imagine you are working on a project. When teaming up, if everyone expect the partner will do the work, nothing will be done finally, However, if you know your partner will dropout, you will do better. Notice that **when testing, no one dropout actually**, so we will obtain good results eventually.\n",
    "\n",
    "And assuming the dropout rate is 50%, then for that layer, only 50% of the neurals will have contribution to the next layer. So we the training weight will be twice as much as the real testing weight. So the weigths should multiply (1-p)% will testing.\n"
   ]
  },
  {
   "cell_type": "markdown",
   "metadata": {},
   "source": [
    "### Compile Model\n",
    "\n",
    "Now that the model is defined, we can compile it."
   ]
  },
  {
   "cell_type": "code",
   "execution_count": 17,
   "metadata": {
    "collapsed": false
   },
   "outputs": [],
   "source": [
    "# Compile model\n",
    "\n",
    "model.compile(loss='categorical_crossentropy', \n",
    "              optimizer='adam', \n",
    "              metrics=['accuracy'])"
   ]
  },
  {
   "cell_type": "markdown",
   "metadata": {},
   "source": [
    "While compiling the network. We use Adaptive Moment Estimation(adam) algorithm to get our model.\n",
    "\n",
    "The website below introduces different gradient descent optimization algorithms:\n",
    "http://sebastianruder.com/optimizing-gradient-descent/index.html#stochasticgradientdescent"
   ]
  },
  {
   "cell_type": "markdown",
   "metadata": {},
   "source": [
    "### Fit Model\n",
    "\n",
    "We have defined our model and compiled it ready for efficient computation.\n",
    "Now it is time to execute the model on the test data.\n",
    "\n",
    "Epochs is the number of iterations for gradient descent. And while training our network, we divide the data into equally-sized batches. We take each batch as training samples and get the mean. This will help us minimize our gradient matrix and save memory in the learning process."
   ]
  },
  {
   "cell_type": "code",
   "execution_count": 18,
   "metadata": {
    "collapsed": false,
    "scrolled": true
   },
   "outputs": [
    {
     "name": "stdout",
     "output_type": "stream",
     "text": [
      "Train on 60000 samples, validate on 10000 samples\n",
      "Epoch 1/10\n",
      "60000/60000 [==============================] - 53s - loss: 1.2710 - acc: 0.5719 - val_loss: 0.5411 - val_acc: 0.8338\n",
      "Epoch 2/10\n",
      "60000/60000 [==============================] - 50s - loss: 0.5425 - acc: 0.8272 - val_loss: 0.3470 - val_acc: 0.8966\n",
      "Epoch 3/10\n",
      "60000/60000 [==============================] - 51s - loss: 0.4073 - acc: 0.8711 - val_loss: 0.2596 - val_acc: 0.9215\n",
      "Epoch 4/10\n",
      "60000/60000 [==============================] - 50s - loss: 0.3196 - acc: 0.9002 - val_loss: 0.1933 - val_acc: 0.9436\n",
      "Epoch 5/10\n",
      "60000/60000 [==============================] - 50s - loss: 0.2449 - acc: 0.9237 - val_loss: 0.1422 - val_acc: 0.9568\n",
      "Epoch 6/10\n",
      "60000/60000 [==============================] - 60s - loss: 0.1971 - acc: 0.9389 - val_loss: 0.1185 - val_acc: 0.9643\n",
      "Epoch 7/10\n",
      "60000/60000 [==============================] - 54s - loss: 0.1700 - acc: 0.9472 - val_loss: 0.0994 - val_acc: 0.9678\n",
      "Epoch 8/10\n",
      "60000/60000 [==============================] - 51s - loss: 0.1492 - acc: 0.9540 - val_loss: 0.0877 - val_acc: 0.9712\n",
      "Epoch 9/10\n",
      "60000/60000 [==============================] - 54s - loss: 0.1357 - acc: 0.9575 - val_loss: 0.0814 - val_acc: 0.9731\n",
      "Epoch 10/10\n",
      "60000/60000 [==============================] - 57s - loss: 0.1239 - acc: 0.9606 - val_loss: 0.0711 - val_acc: 0.9770\n"
     ]
    }
   ],
   "source": [
    "# fit the model\n",
    "batch_size = 200\n",
    "epochs = 10\n",
    "\n",
    "hist = model.fit(X_train, Y_train, \n",
    "              batch_size = batch_size, \n",
    "              nb_epoch = epochs, \n",
    "              verbose = 1, \n",
    "              validation_data=(X_test, Y_test))\n"
   ]
  },
  {
   "cell_type": "markdown",
   "metadata": {},
   "source": [
    "The output of the fitting part should be like:\n",
    "<img src=\"output.png\",width=1000,height=1000>\n"
   ]
  },
  {
   "cell_type": "code",
   "execution_count": 19,
   "metadata": {
    "collapsed": false
   },
   "outputs": [
    {
     "name": "stdout",
     "output_type": "stream",
     "text": [
      "Minimun error:0.071118, at iteration: 10\n",
      "drawing the training process...\n"
     ]
    },
    {
     "data": {
      "image/png": "[encoded data removed]",
      "text/plain": [
       "<matplotlib.figure.Figure at 0x110ba2bd0>"
      ]
     },
     "metadata": {},
     "output_type": "display_data"
    }
   ],
   "source": [
    "# draw the figure of errors in each epoch\n",
    "TrainERR=hist.history['loss']\n",
    "ValidERR=hist.history['val_loss']\n",
    "print ('Minimun error:%f, at iteration: %i' % (np.min(np.asarray(ValidERR)),\n",
    "                                               np.argmin(np.asarray(ValidERR))+1))\n",
    "print 'drawing the training process...'\n",
    "\n",
    "plt.figure(1)\n",
    "plt.plot(TrainERR,'b',label='TrainERR')\n",
    "plt.plot(ValidERR,'r',label='ValidERR')\n",
    "plt.ylim([0.0,2.5])\n",
    "plt.legend()\n",
    "plt.xlabel('epoch')\n",
    "plt.ylabel('error')\n",
    "plt.grid(True)\n",
    "plt.show()"
   ]
  },
  {
   "cell_type": "markdown",
   "metadata": {},
   "source": [
    "The error-epoch figure will be like:\n",
    "<img src=\"error.png\",width=600,height=600>\n",
    "This shows how training error and validation error decrease as the number of gradient descent iteration increases."
   ]
  },
  {
   "cell_type": "markdown",
   "metadata": {},
   "source": [
    "### Evaluate Model\n",
    "\n",
    "We have trained our neural network on the entire dataset and we can evaluate the performance of the network on the same test data."
   ]
  },
  {
   "cell_type": "code",
   "execution_count": 21,
   "metadata": {
    "collapsed": false,
    "scrolled": true
   },
   "outputs": [
    {
     "name": "stdout",
     "output_type": "stream",
     "text": [
      "('Test score:', 0.071118034629337495)\n",
      "('Test accuracy:', 0.97699999999999998)\n",
      "Baseline Error: 2.30%\n"
     ]
    }
   ],
   "source": [
    "# evaluate the model\n",
    "score = model.evaluate(X_test, Y_test, verbose=0)\n",
    "print('Test score:', score[0])\n",
    "print('Test accuracy:', score[1])\n",
    "\n",
    "print(\"Baseline Error: %.2f%%\" % (100-score[1]*100))"
   ]
  },
  {
   "cell_type": "markdown",
   "metadata": {},
   "source": [
    "The output should be:\n",
    "('Test score:', 0.071118034629337495)\n",
    "('Test accuracy:', 0.97699999999999998)\n",
    "Baseline Error: 2.30%\n",
    "\n",
    "We can see that the error rate is relatively small, but there are still some ways to improve the performance of the network. Try to figure it out by yourself!"
   ]
  },
  {
   "cell_type": "markdown",
   "metadata": {
    "collapsed": true
   },
   "source": [
    "## Reference:\n",
    "1. Keras official documentation \n",
    "2. Picture of models from various tech blogs\n",
    "2. Stanford CS231n 2016 Jan Lectures \n",
    "3. Handwritten Digit Recognition using Convolutional Neural Networks in Python with Keras"
   ]
  }
 ],
 "metadata": {
  "anaconda-cloud": {},
  "kernelspec": {
   "display_name": "Python 2",
   "language": "python",
   "name": "python2"
  },
  "language_info": {
   "codemirror_mode": {
    "name": "ipython",
    "version": 2
   },
   "file_extension": ".py",
   "mimetype": "text/x-python",
   "name": "python",
   "nbconvert_exporter": "python",
   "pygments_lexer": "ipython2",
   "version": "2.7.12"
  }
 },
 "nbformat": 4,
 "nbformat_minor": 1
}
