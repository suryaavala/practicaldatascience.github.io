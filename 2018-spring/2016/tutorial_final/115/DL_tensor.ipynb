{
 "cells": [
  {
   "cell_type": "markdown",
   "metadata": {},
   "source": [
    "# Classifying MNIST Images by Deep Network in Google TensorFlow\n",
    "\n",
    "## Introduction\n",
    "This tutorial will step by step guides you classify <a href='http://yann.lecun.com/exdb/mnist/'>MNIST</a> handwriten images using google TensorFlow APIs. In the first part, this tutorial will guide you install the tensorflow package, visualize MNIST image and build a basic classifier using a <a href='https://en.wikipedia.org/wiki/Softmax_function'>softmax</a> regression model. In the second part, you will build a Convolutional Neural Network with TensorFlow APIs to achieve a much higher accuracy classifying images. For people not familiar with Convolutional Neural Network, Stanford 231n course has very <a href = 'http://cs231n.github.io/convolutional-networks/'>illustractive introduction </a>.\n",
    "\n",
    "## S1: Download the Google TensorFlow Package\n",
    "\n",
    "Python 2.7 is used in this tutorial. The following steps assume you are using MAC OS X. For window or linux users, please check <a href='https://www.tensorflow.org/versions/r0.11/get_started/os_setup.html'>this page</a> for installation."
   ]
  },
  {
   "cell_type": "raw",
   "metadata": {
    "collapsed": false
   },
   "source": [
    "# For Mac OS X, CPU only, Python 2.7:\n",
    "$ export TF_BINARY_URL=https://storage.googleapis.com/tensorflow/mac/cpu/tensorflow-0.11.0rc0-py2-none-any.whl\n",
    "\n",
    "# Python 2\n",
    "$ sudo pip install --upgrade $TF_BINARY_URL"
   ]
  },
  {
   "cell_type": "markdown",
   "metadata": {
    "collapsed": false
   },
   "source": [
    "You might want to test if you have successfully installed TensorFlow by doing:"
   ]
  },
  {
   "cell_type": "code",
   "execution_count": 1,
   "metadata": {
    "collapsed": false
   },
   "outputs": [
    {
     "name": "stdout",
     "output_type": "stream",
     "text": [
      "TensorFlow is nothing but awesome!\n"
     ]
    }
   ],
   "source": [
    "import tensorflow as tf\n",
    "hello = tf.constant('TensorFlow is nothing but awesome!')\n",
    "sess = tf.Session()\n",
    "print(sess.run(hello))"
   ]
  },
  {
   "cell_type": "markdown",
   "metadata": {},
   "source": [
    "If you see \"TensorFlow is nothing but awesome!\" in the output, then congratulations, you have installed the most awesome machine learning package in the world!"
   ]
  },
  {
   "cell_type": "markdown",
   "metadata": {},
   "source": [
    "## S2: Import and Visualize MNIST Handwriten Images\n",
    "\n",
    "You can download the MNIST data from Google TensorFlow APIs and the data will be stored in /tmp/data in your system. \n",
    "The MNIST dataset includes 55,000 handwriten images for training, 5,000 images for validation and 10,000 images for testing. Each handwriten image has  $28 \\times 28$ pixels and stored in a rolling array $1 \\times 764 $ pixels. The below codes will show you downloading of the dataset and display the first handwriten image using pyplot tool. "
   ]
  },
  {
   "cell_type": "code",
   "execution_count": 2,
   "metadata": {
    "collapsed": false
   },
   "outputs": [
    {
     "name": "stdout",
     "output_type": "stream",
     "text": [
      "Extracting /tmp/data/train-images-idx3-ubyte.gz\n",
      "Extracting /tmp/data/train-labels-idx1-ubyte.gz\n",
      "Extracting /tmp/data/t10k-images-idx3-ubyte.gz\n",
      "Extracting /tmp/data/t10k-labels-idx1-ubyte.gz\n"
     ]
    },
    {
     "data": {
      "image/png": "[encoded data removed]",
      "text/plain": [
       "<matplotlib.figure.Figure at 0x10e8280d0>"
      ]
     },
     "metadata": {},
     "output_type": "display_data"
    }
   ],
   "source": [
    "import matplotlib\n",
    "%matplotlib inline\n",
    "\n",
    "import matplotlib.pyplot as plt\n",
    "from tensorflow.examples.tutorials.mnist import input_data\n",
    "\n",
    "# by default tensorflow download the data and store /tmp/data in your system\n",
    "data_path = '/tmp/data'\n",
    "\n",
    "# display any image whose index from 0 - 54,999\n",
    "image_to_be_display = 0\n",
    "\n",
    "mnist = input_data.read_data_sets(data_path, one_hot=True)\n",
    "image_display = mnist.train.images[image_to_be_display]\n",
    "plt.imshow(image_display.reshape(28, 28),aspect=\"auto\",cmap='Greys_r')\n",
    "plt.show()"
   ]
  },
  {
   "cell_type": "markdown",
   "metadata": {},
   "source": [
    "You should be able to see digit 3 by running the above scripts. \n",
    "\n",
    "# S3  Building Basic Classifier -  Softmax Regression Model\n",
    "\n",
    "## S3.1 Specifying the model parameters and variables\n",
    "\n",
    "#### What is softmax regression model?\n",
    "\n",
    "We all know linear regression model since we have finished bus schedule prediction project in homework3. In Classifying images, there is always one additional layer called softmax layer after the linear combination. The purpose of  <a href='https://en.wikipedia.org/wiki/Softmax_function'>softmax function</a> is transform and normalize the linear combination output, therefore, after softmax layer, each neuron will represent the possiblity of each possible digit. The one with greatest possibility will be final prediction.\n",
    "\n",
    "The formula for softmax layer is:     $ softmax(y)_i =  \\frac{exp(y_i)}{\\sum_j exp(y_j)} $\n",
    "\n",
    "where $y_i$ is output from linear combination.\n",
    "                             \n",
    "So far, we figured the pipeline of classifying model. Next, the input and output data format would be:\n",
    "\n",
    "#### Input:\n",
    "Features: For each handwritten image, there are $28 \\times 28 = 764$ features (neurons in input layer). \n",
    "#### Bias: \n",
    "besides 764 neurons, we has one additional neuron for bias item\n",
    "#### Output:\n",
    "The output will be a vector indicating the possibility of each digit number from 0-9. The digit with most possibility in output layer would be the predicted digit.\n",
    "\n",
    "\n",
    "### Now, Let's implement this model in tensorflow!\n",
    "\n",
    "#### The placeholders\n",
    "\n",
    "In Tensorflow, the placeholder is not a specific value. it is a value that we'll input when we ask TensorFlow to run a computation. For this problem, we need two placeholders as following:"
   ]
  },
  {
   "cell_type": "code",
   "execution_count": 3,
   "metadata": {
    "collapsed": false
   },
   "outputs": [],
   "source": [
    "# feature space x, model input. \n",
    "# here, None means we are unsure about the size value for first dimension.\n",
    "x = tf.placeholder(tf.float32, [None, 784])\n",
    "\n",
    "# true lable of image, for train the model\n",
    "# here, None means we are unsure about the size value for first dimension.\n",
    "y_ = tf.placeholder(tf.float32, [None, 10])"
   ]
  },
  {
   "cell_type": "markdown",
   "metadata": {},
   "source": [
    "#### The Variables\n",
    "The process of a regression model is training the parameters connecting input and output layers (i.e. weight $ w $) and the parameters connecting bias and output layers (i.e bias wight $ b $). For machine learning applications in tensorflow, we generally has the model parameters be Variables. Therefore, we will create Variable $W, b$ for training paramters. \n",
    "\n",
    "In the below, the $ y $  is the output of linear combination layer."
   ]
  },
  {
   "cell_type": "code",
   "execution_count": 4,
   "metadata": {
    "collapsed": true
   },
   "outputs": [],
   "source": [
    "# Define model parameters\n",
    "W = tf.Variable(tf.zeros([784, 10]))\n",
    "b = tf.Variable(tf.zeros([10]))\n",
    "\n",
    "# Output of linear combination layer\n",
    "y = tf.matmul(x, W) + b"
   ]
  },
  {
   "cell_type": "markdown",
   "metadata": {},
   "source": [
    "The following code will give you output after the softmax layer. We are not using it for now because we will use a more stable way to train the model"
   ]
  },
  {
   "cell_type": "code",
   "execution_count": 5,
   "metadata": {
    "collapsed": true
   },
   "outputs": [],
   "source": [
    "# Output of softmax layer\n",
    "#y = tf.nn.softmax(tf.matmul(x, W) + b)"
   ]
  },
  {
   "cell_type": "markdown",
   "metadata": {
    "collapsed": false
   },
   "source": [
    "## S3.2 Train the Model using Stochastic Gradient Descent\n",
    "\n",
    "The training process for softmax regression model is iteratively update the parameters to minimize the cost. The calculating of cost in this example is by evaluating the cross entropy between classified results and true labels:  \n",
    "\n",
    "Cost_of_model = $ -\\sum_i y_i^{true} log(y_i) $\n",
    "\n",
    "here $y$ is our predicted probability distribution, and $y^{true}$ is the true distribution. For understanding how cross entropy works, check out this <a href ='http://colah.github.io/posts/2015-09-Visual-Information/'>tutorial</a>\n",
    "\n",
    "Tensorflow provides this stable way to calculate and minimize the cross entropy."
   ]
  },
  {
   "cell_type": "code",
   "execution_count": 6,
   "metadata": {
    "collapsed": true
   },
   "outputs": [],
   "source": [
    "cross_entropy = tf.reduce_mean(tf.nn.softmax_cross_entropy_with_logits(y, y_))"
   ]
  },
  {
   "cell_type": "markdown",
   "metadata": {
    "collapsed": false,
    "scrolled": true
   },
   "source": [
    "After getting the cost function, we will iteratively update the parameters to minimize the cost function. The normal optimization methods is called gradient descent. In this tutorial, however, we will apply stochastic gradient descent to minimize the cost function due to there are too many(55,000) training samples. \n",
    "\n",
    "The goal for training is to obtain training variables that minimize the loss. For linear regression, it does not matter too much for values in initial variables. We just initialize all training parameters as zeros.\n"
   ]
  },
  {
   "cell_type": "code",
   "execution_count": 7,
   "metadata": {
    "collapsed": true
   },
   "outputs": [],
   "source": [
    "# The learning rate in Gradient Descent\n",
    "learning_rate = 0.3\n",
    "# Train the model to minimize the cross entropy\n",
    "train_step = tf.train.GradientDescentOptimizer(learning_rate).minimize(cross_entropy)\n",
    "# Initial the training variables\n",
    "init = tf.initialize_all_variables()"
   ]
  },
  {
   "cell_type": "markdown",
   "metadata": {},
   "source": [
    "#### We can now launch the model in a Session!\n",
    "\n",
    "Still remeber the placeholders we just defined? Here placeholders are used. Everytime we randomly choose 64 samples and feed them to placeholders $x$ and $y$_. The training takes me ~3 seconds to finish."
   ]
  },
  {
   "cell_type": "code",
   "execution_count": 8,
   "metadata": {
    "collapsed": true
   },
   "outputs": [],
   "source": [
    "sess.run(init)\n",
    "for i in range(1500):\n",
    "  batch_xs, batch_ys = mnist.train.next_batch(64)\n",
    "  sess.run(train_step, feed_dict={x: batch_xs, y_: batch_ys})"
   ]
  },
  {
   "cell_type": "markdown",
   "metadata": {},
   "source": [
    "## S3.3 Visualize the training result and calculate the accuracy\n",
    "\n",
    "First we need to get the classifed label and true label. We know $y$ in the below code is a $ 1 \\times 10 $ vector that indicates the possibility of each digit. By tf.argmax we will get the digit with most possibility."
   ]
  },
  {
   "cell_type": "code",
   "execution_count": 9,
   "metadata": {
    "collapsed": true
   },
   "outputs": [],
   "source": [
    "# get the digit with most possibility from classifying output\n",
    "tf_classified_label = tf.argmax(y, 1)\n",
    "# get the digit with most possibility from ground truth\n",
    "tf_true_label = tf.argmax(y_, 1)"
   ]
  },
  {
   "cell_type": "markdown",
   "metadata": {},
   "source": [
    "You could examine your trainning goodness in testing images now! "
   ]
  },
  {
   "cell_type": "code",
   "execution_count": 10,
   "metadata": {
    "collapsed": false
   },
   "outputs": [
    {
     "name": "stdout",
     "output_type": "stream",
     "text": [
      "Classifying result: \n",
      "[2 1 0 4 1 4 9 6 9 0 6 9 0 1 5 9 7 3 4 9 6 6 5 4 0 7 4 0 1 3 1 3 6 7 2 7 1\n",
      " 2 1 1 7 4 2 3 5 1 2 4 4]\n",
      "True label: \n",
      "[2 1 0 4 1 4 9 5 9 0 6 9 0 1 5 9 7 3 4 9 6 6 5 4 0 7 4 0 1 3 1 3 4 7 2 7 1\n",
      " 2 1 1 7 4 2 3 5 1 2 4 4]\n"
     ]
    }
   ],
   "source": [
    "# examine result from from_data to end_data\n",
    "from_data = 1\n",
    "end_data = 50\n",
    "classified_label, true_label = (sess.run([tf_classified_label, tf_true_label], feed_dict={x: mnist.test.images[from_data:end_data],\n",
    "                                      y_: mnist.test.labels[from_data:end_data]}))\n",
    "\n",
    "print \"Classifying result: \" \n",
    "print classified_label\n",
    "print \"True label: \"\n",
    "print true_label"
   ]
  },
  {
   "cell_type": "markdown",
   "metadata": {},
   "source": [
    "You should be able to find some mis-classified images, because linear + softmax regression model is not able to well respresent the relationship of features between diffrent images. Visually examine the wrong-classified image: the 8th image should be 5 but was classifed as 6, the 33th image is 4, but was classified as 6"
   ]
  },
  {
   "cell_type": "code",
   "execution_count": 11,
   "metadata": {
    "collapsed": false
   },
   "outputs": [
    {
     "data": {
      "image/png": "[encoded data removed]",
      "text/plain": [
       "<matplotlib.figure.Figure at 0x11d7477d0>"
      ]
     },
     "metadata": {},
     "output_type": "display_data"
    },
    {
     "data": {
      "image/png": "[encoded data removed]",
      "text/plain": [
       "<matplotlib.figure.Figure at 0x11d520c90>"
      ]
     },
     "metadata": {},
     "output_type": "display_data"
    }
   ],
   "source": [
    "image_index_to_be_display = 8\n",
    "image_display = mnist.test.images[image_index_to_be_display]\n",
    "plt.imshow(image_display.reshape(28, 28),aspect=\"auto\",cmap='Greys_r')\n",
    "plt.show()\n",
    "image_index_to_be_display = 33\n",
    "image_display = mnist.test.images[image_index_to_be_display]\n",
    "plt.imshow(image_display.reshape(28, 28),aspect=\"auto\",cmap='Greys_r')\n",
    "plt.show()"
   ]
  },
  {
   "cell_type": "markdown",
   "metadata": {},
   "source": [
    "Count the number of images correctly classified, and then divide by total number of images, we will get the classifying accuracy of this model!"
   ]
  },
  {
   "cell_type": "code",
   "execution_count": 12,
   "metadata": {
    "collapsed": false
   },
   "outputs": [
    {
     "name": "stdout",
     "output_type": "stream",
     "text": [
      "0.9206\n"
     ]
    }
   ],
   "source": [
    "accuracy = tf.reduce_mean(tf.cast(tf.equal(tf_classified_label, tf_true_label), tf.float32))\n",
    "acc_result = sess.run(accuracy, feed_dict={x: mnist.test.images, y_: mnist.test.labels})\n",
    "print acc_result"
   ]
  },
  {
   "cell_type": "markdown",
   "metadata": {},
   "source": [
    "Arround 92% accuracy is very bad! Next part I will guide you to build convolutional neural network to achieve a much more accurate classifier, a real one!"
   ]
  },
  {
   "cell_type": "markdown",
   "metadata": {},
   "source": [
    "## S4 Building Awesome Classifer - Convolutional Neural Network (CNN) Model\n",
    "\n",
    "From now, we will build a 7 layers Convolutional neural network to classify the MNIST images. This tutorial will walk you through all the layers in the CNN in high level and discuss the implementaion using tensorFlow. If you are interested in details and theories, please check this <a href = 'http://cs231n.github.io/convolutional-networks/' > incredible tutorial </a> developed by stanford 231 class. \n",
    "\n",
    "Different than traditional neural network, CNN apply local kernel filters (e.g. edge detector, corner detector) to extract local features, and then combine them together to do the classification. This saves a lots of computation and achieves very accurate classification result. \n",
    "\n",
    "In following Tutorial, we will build the 7 layers convolutional neural network using Google tensorFlow to do the MNIST image classifying tasks. The specification of each layer is:\n",
    "\n",
    "- L1,   ** Input Layer **   \n",
    "- L2,   ** First Convolutional Layer ** \n",
    "- L3,   ** First Pooling Layer ** \n",
    "- L4, ** Second Convolutional Layer ** \n",
    "- L5, ** Second Pooling Layer ** \n",
    "- L6, ** Fully Connected Layer ** \n",
    "- L7, ** Output Layer ** \n",
    "\n",
    "The below picture will give you an overview network we are going to build.\n",
    "\n",
    "<img src=\"./pics/pic_overall.png\">"
   ]
  },
  {
   "cell_type": "markdown",
   "metadata": {},
   "source": [
    "This picture is drawed from  <a href = 'http://scs.ryerson.ca/~aharley/vis/conv/'> a Convolutional Network visualization tool </a>. Feel free to draw more examples and visually feel how CNN works."
   ]
  },
  {
   "cell_type": "markdown",
   "metadata": {},
   "source": [
    "Before we start, we are better clear variables using in the softmax regression model to avoid variable confusion problems."
   ]
  },
  {
   "cell_type": "code",
   "execution_count": 13,
   "metadata": {
    "collapsed": false
   },
   "outputs": [
    {
     "name": "stdout",
     "output_type": "stream",
     "text": [
      "Once deleted, variables cannot be recovered. Proceed (y/[n])? y\n"
     ]
    }
   ],
   "source": [
    "# clear all variables used in softmax regression model\n",
    "%reset"
   ]
  },
  {
   "cell_type": "markdown",
   "metadata": {
    "collapsed": true
   },
   "source": [
    "We will import necessary packages and data:"
   ]
  },
  {
   "cell_type": "code",
   "execution_count": 14,
   "metadata": {
    "collapsed": false
   },
   "outputs": [
    {
     "name": "stdout",
     "output_type": "stream",
     "text": [
      "Extracting /tmp/data/train-images-idx3-ubyte.gz\n",
      "Extracting /tmp/data/train-labels-idx1-ubyte.gz\n",
      "Extracting /tmp/data/t10k-images-idx3-ubyte.gz\n",
      "Extracting /tmp/data/t10k-labels-idx1-ubyte.gz\n"
     ]
    }
   ],
   "source": [
    "import tensorflow as tf\n",
    "sess = tf.InteractiveSession()\n",
    "from tensorflow.examples.tutorials.mnist import input_data\n",
    "data_path = '/tmp/data'\n",
    "mnist = input_data.read_data_sets(data_path, one_hot=True)"
   ]
  },
  {
   "cell_type": "markdown",
   "metadata": {},
   "source": [
    "## Layer1: Input layer\n",
    "\n",
    "This layer we obtain the data from MNIST and reshape them into the data format that can be used in Convolutional neural network. In MNIST, each handwriten image are stored in a rolling array 1 x 764 pixels. We will reshape these images into 28 x 28 matrix so that the convolution between kernel and window in input image can be done easily. Therefore, in input layer, we will have one channel of 28 x 28 matrix.\n"
   ]
  },
  {
   "cell_type": "code",
   "execution_count": 15,
   "metadata": {
    "collapsed": true
   },
   "outputs": [],
   "source": [
    "# we set it as placeholder because the data will be feeded multiple times.\n",
    "# None here denotes the number is this position is varied.\n",
    "x = tf.placeholder(tf.float32, [None, 784])\n",
    "y_ = tf.placeholder(tf.float32, [None, 10])\n",
    "\n",
    "# we reshape the input data into 28 x 28 matrix\n",
    "# -1 here denotes the number is this position is varied.\n",
    "# the 1 in last position in variable shape_to_use denotes there is only 1 channel in input layer\n",
    "shape_to_use = [-1,28,28,1]\n",
    "x_image = tf.reshape(x, shape_to_use)"
   ]
  },
  {
   "cell_type": "markdown",
   "metadata": {},
   "source": [
    "## Layer2:  Convolutional layer\n",
    "\n",
    "Convolutional layer applies different kernel filters on the input image to get different local features. If you are unfamiliar with kernel filters, there is a very good explanation <a href = 'https://en.wikipedia.org/wiki/Kernel_(image_processing)' > here </a>. Please read this page and have a basic idea what kernel filter is and why it can be used in image processing.\n",
    "\n",
    "In implementation, we apply 32 kernels(each has 5 x 5 size) to convolute with the input image, so we will get 32 output channels. Each channel is the result of convolution of a kernel and the input image. The kernel values are initilized with a small amount of noise for symmetry breaking. Furthermore, we have a bias along with each kernel. The bias has a slightly positive initial value to be better used in <a href = 'https://en.wikipedia.org/wiki/Rectifier_(neural_networks)'> ReLU </a> activation. \n",
    "\n",
    "The stride is the step size at each movement of the kernel. In convolutional layer, the stride size is typically set as 1 in horizontal direction and 1 in vertical direction.\n",
    "\n",
    "<img src=\"./pics/pic1.png\", height = 500, width = 500>"
   ]
  },
  {
   "cell_type": "code",
   "execution_count": 16,
   "metadata": {
    "collapsed": false
   },
   "outputs": [],
   "source": [
    "# define the weight intialization, weight intialization are associated with small noise for sysmetric breaking\n",
    "def weight_init(shape):\n",
    "  initial = tf.truncated_normal(shape, stddev=0.1)\n",
    "  weight_variable = tf.Variable(initial)\n",
    "  return weight_variable\n",
    "\n",
    "# define the bias intialization, bias intialization has small positive offset\n",
    "def bias_init(shape):\n",
    "  initial = tf.constant(0.1, shape=shape)\n",
    "  bias_variable = tf.Variable(initial)\n",
    "  return bias_variable\n",
    "\n",
    "# define the convolution rule used in network. \n",
    "# not applied the paddation\n",
    "# stride is  1 in horizontal direction and 1 in vertical direction \n",
    "# (only middle two numbers in strides variable matters)\n",
    "def conv2d(x, W):\n",
    "  stride_spec = [1, 1, 1, 1]\n",
    "  return tf.nn.conv2d(x, W, strides=stride_spec, padding='SAME')\n",
    "\n",
    "# initial kernel and bias\n",
    "# the input is the original imgage in one channel\n",
    "# the output is the convoluted imgage in 32 channels\n",
    "W_conv1 = weight_init([5, 5, 1, 32])  # kernel\n",
    "b_conv1 = bias_init([32])   # bias\n",
    "\n",
    "# do the convolution\n",
    "conv1_res = conv2d(x_image, W_conv1) + b_conv1\n",
    "h_conv1 = tf.nn.relu(conv1_res)"
   ]
  },
  {
   "cell_type": "markdown",
   "metadata": {},
   "source": [
    "## Layer3:  Pooling Layer\n",
    "\n",
    "The pooling is a form of non-linear down-sampling. After extracting local features, the exact location is not as important as the rough location relative to other features. Therefore, we can reduce the amount of parameters by sampling from previous layer.\n",
    "The pooling is presented in the below picture. we iterate every 2 x 2 window in convolutional layer with stride 2 and use the maximum value in each window to construct the pooling layer. \n",
    "\n",
    "<img src=\"./pics/pic2.png\", height = 300, width = 300>"
   ]
  },
  {
   "cell_type": "code",
   "execution_count": 17,
   "metadata": {
    "collapsed": true
   },
   "outputs": [],
   "source": [
    "# define pooling function\n",
    "# ksize is the size of down-sampling window in  convolutional layer. \n",
    "# in ksize=[1, 2, 2, 1] first and last number is always 1 in tensorFlow\n",
    "# stride is the step size in the down sampling process \n",
    "# in strides=[1, 2, 2, 1] first and last number is always 1 in tensorFlow\n",
    "def max_pool_2x2(x):\n",
    "  return tf.nn.max_pool(x, ksize=[1, 2, 2, 1],\n",
    "                        strides=[1, 2, 2, 1], padding='SAME')\n",
    "\n",
    "# do the pooling using 2 x 2 window and max fuction\n",
    "h_pool1 = max_pool_2x2(h_conv1)"
   ]
  },
  {
   "cell_type": "markdown",
   "metadata": {},
   "source": [
    "## Layer4 and Layer 5.  Second Convolutional and Pooling Layer\n",
    "\n",
    "In order to further extract local features and reduce the size of parameters, we apply one more Convolutional and Pooling Layer. The number of channel will be 64 after applying the convolutional layer.\n",
    "\n",
    "<img src=\"./pics/pic3.png\">\n",
    "<img src=\"./pics/pic4.png\">"
   ]
  },
  {
   "cell_type": "code",
   "execution_count": 18,
   "metadata": {
    "collapsed": true
   },
   "outputs": [],
   "source": [
    "# Second Convolutional and Pooling Layer\n",
    "\n",
    "W_conv2 = weight_init([5, 5, 32, 64])\n",
    "b_conv2 = bias_init([64])\n",
    "\n",
    "conv2_res = conv2d(h_pool1, W_conv2) + b_conv2\n",
    "h_conv2 = tf.nn.relu(conv2_res)\n",
    "h_pool2 = max_pool_2x2(h_conv2)"
   ]
  },
  {
   "cell_type": "markdown",
   "metadata": {},
   "source": [
    "## Layer6:  Fully Connected Layer\n",
    "\n",
    "In this layer, all local features are combined, and connected together to form global features. This layer is no different than the traditional neural layer. All neurons in previous layer and current layer are fully connected.\n",
    "Specifically, there are 7 x 7 x 64 neurons from 2nd pooling layer, and there are 1024 neurons in fully connected layer. Therefore, there would be 7 x 7 x 64 x 1024 connection between two layers and 1024 additional connections for bias. This step connects all local features together and form the global features.\n",
    "<img src=\"./pics/pic5.png\">"
   ]
  },
  {
   "cell_type": "code",
   "execution_count": 19,
   "metadata": {
    "collapsed": true
   },
   "outputs": [],
   "source": [
    "# fully connect 7 * 7 * 64 neurons from 2nd pooling layer to 1024 neurons in fully connected layer\n",
    "W_fc1 = weight_init([7 * 7 * 64, 1024])\n",
    "b_fc1 = bias_init([1024])\n",
    "\n",
    "# roll the neurons from 2nd pooling layer for better implementaion\n",
    "h_pool2_flat = tf.reshape(h_pool2, [-1, 7*7*64])\n",
    "h_fc1 = tf.nn.relu(tf.matmul(h_pool2_flat, W_fc1) + b_fc1)"
   ]
  },
  {
   "cell_type": "markdown",
   "metadata": {},
   "source": [
    "## Layer7: Output Layer\n",
    "\n",
    "Last layer will have 10 neurons that each corresponds to a classifying digit. Layer 6 and Layer 7 are also fully connected so all neurons between two layers are connected together. There will be also a softmax function applied in last layer that output the normalized possbilities. Each possbility corresponds to the confidence of guessing this digit correctly. The digit with greatest possibility will be the classifying result. In the below picture, we can see digit 6 is the classifying result.\n",
    "<img src=\"./pics/pic6.png\">"
   ]
  },
  {
   "cell_type": "code",
   "execution_count": 20,
   "metadata": {
    "collapsed": true
   },
   "outputs": [],
   "source": [
    "# Output layer (fully connected)\n",
    "W_fc2 = weight_init([1024, 10])\n",
    "b_fc2 = bias_init([10])\n",
    "\n",
    "y_conv = tf.matmul(h_fc1, W_fc2) + b_fc2"
   ]
  },
  {
   "cell_type": "markdown",
   "metadata": {},
   "source": [
    "## Train the Model using Stochatic Gradient Descent"
   ]
  },
  {
   "cell_type": "markdown",
   "metadata": {},
   "source": [
    "In the first part of the tutorial we have already discussed about how to train a softmax regression model. The idea to train a convolution network is very similar. First we defined the loss function as the cross-entropy between model output y_conv and true value y_. Then we apply stochastic gradient descent to iterateively minimize the loss function, at the same time train the model and improve the paramters. The program will output train accuracy in every 100 iterations.\n",
    "\n",
    "The below are the program that train the convolutional neural network on 55,000 MNIST images and test on 10,000 images. It takes my computer around 20 minutes for training in first 6,000 iterations and achieved 99.1% test accuracy. "
   ]
  },
  {
   "cell_type": "code",
   "execution_count": null,
   "metadata": {
    "collapsed": false
   },
   "outputs": [],
   "source": [
    "#iter_time = 201\n",
    "iter_time = 6000\n",
    "\n",
    "cross_entropy = tf.reduce_mean(tf.nn.softmax_cross_entropy_with_logits(y_conv, y_))\n",
    "train_step = tf.train.AdamOptimizer(1e-4).minimize(cross_entropy)\n",
    "accuracy = tf.reduce_mean(tf.cast( tf.equal(tf.argmax(y_conv,1), tf.argmax(y_,1)), tf.float32))\n",
    "sess.run(tf.initialize_all_variables())\n",
    "\n",
    "for i in range(iter_time):\n",
    "  batch_xs, batch_ys = mnist.train.next_batch(64)\n",
    "  train_step.run(feed_dict={x: batch_xs, y_: batch_ys})\n",
    "  if i%100 == 0:\n",
    "    train_accuracy = accuracy.eval(feed_dict={x:batch_xs, y_: batch_ys})\n",
    "    print(\"iter %d, train accuracy %f\"%(i, train_accuracy))\n",
    "\n",
    "print(\"test accuracy %g\"% accuracy.eval(feed_dict={ x: mnist.test.images, y_: mnist.test.labels}))"
   ]
  },
  {
   "cell_type": "markdown",
   "metadata": {
    "collapsed": true
   },
   "source": [
    "### Reference\n",
    "- [1] Deep MNIST for Experts, TensorFlow Documents: https://www.tensorflow.org/versions/r0.11/tutorials/mnist/pros/index.html#deep-mnist-for-experts\n",
    "- [2] MNIST For ML Beginners, TensorFlow Documents: https://www.tensorflow.org/versions/r0.11/tutorials/mnist/beginners/index.html#mnist-for-ml-beginners\n",
    "- [3] MNIST Visualization tool: http://scs.ryerson.ca/~aharley/vis/conv/\n",
    "- [4] Convolutional Neural Network, Stanford 231 class http://cs231n.github.io/convolutional-networks/"
   ]
  }
 ],
 "metadata": {
  "anaconda-cloud": {},
  "kernelspec": {
   "display_name": "Python [Root]",
   "language": "python",
   "name": "Python [Root]"
  },
  "language_info": {
   "codemirror_mode": {
    "name": "ipython",
    "version": 2
   },
   "file_extension": ".py",
   "mimetype": "text/x-python",
   "name": "python",
   "nbconvert_exporter": "python",
   "pygments_lexer": "ipython2",
   "version": "2.7.12"
  }
 },
 "nbformat": 4,
 "nbformat_minor": 0
}
