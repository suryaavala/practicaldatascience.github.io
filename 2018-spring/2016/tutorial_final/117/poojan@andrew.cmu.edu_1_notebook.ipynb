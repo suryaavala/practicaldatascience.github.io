{
 "cells": [
  {
   "cell_type": "markdown",
   "metadata": {
    "collapsed": true
   },
   "source": [
    "# Introduction\n",
    "Graphlab is a powerful data analytics framework, which was initially tailored to handle graph data. The library has now grown into a general purpose data analytics platform which provides various features including Data Modelling, Text Analysis, Machine Learning, Data Visualization and a lot more. This tutorial, will walk through some key Graph Analytics algorithms implemeneted by GraphLab. \n"
   ]
  },
  {
   "cell_type": "markdown",
   "metadata": {},
   "source": [
    "# Table of Contents\n",
    "1. [Installation](#Installation)\n",
    "2. [Graph Data](#Graph-Data)\n",
    "3. [Inspecting Graph Data](#Inspecting-Graph-Data)\n",
    "4. [Modifying the Graph](#Modifying-the-Graph-Data)\n",
    "5. [Real World Data](#Real-World-Data)\n",
    "    * [Degree Counting](#Degree-Counting)\n",
    "    * [PageRank Algorithm](#Page-Rank)\n",
    "    * [Triangle Counting](#Triangle-Counting)\n",
    "    * [Single Source Shortest Path](#Single-Source-Shortest-Path)\n",
    "    * [Connected Components](#Connected-Components)\n",
    "    * [K Core](#K-Core)\n",
    "12. [Conclusion](#Conclusion)\n",
    "13. [References](#References)"
   ]
  },
  {
   "cell_type": "markdown",
   "metadata": {},
   "source": [
    "## Installation \n",
    "\n",
    "To get started, register for an [adacemic license](https://turi.com/download/academic.html). Once you have registered, make sure you have Anaconda installed on your machine with a python version 2.7.x. You can install Graphlab-create using:\n",
    "\n",
    "\n",
    "\n",
    "`pip install --upgrade --no-cache-dir https://get.graphlab.com/GraphLab-Create/2.1/your registered email address here/your product key here/GraphLab-Create-License.tar.gz`\n",
    "\n",
    "\n",
    "Now that you've installed Graphlab, you import the library and start using it."
   ]
  },
  {
   "cell_type": "code",
   "execution_count": 6,
   "metadata": {
    "collapsed": false
   },
   "outputs": [],
   "source": [
    "import graphlab as gl"
   ]
  },
  {
   "cell_type": "markdown",
   "metadata": {},
   "source": [
    "## Graph Data\n",
    "\n",
    "Graphs provide a natural schema to model data, making it easy to visualize relationships between two entinites in the dataset. Entities in a dataset are modelled as vertices while the relationships between them are modelled as edges in the graph. \n",
    "\n",
    "To facilitate scallable graph analytics, GraphLab provides the SGraph object which extends the features of the SFrame object. SGraph objects can be used to flexibly label the vertices and edges with a dictonary of attributes.\n",
    "\n",
    "In this section, we will start with an empty graph. We will then add vertices with attributes and connect the vertices with edges. "
   ]
  },
  {
   "cell_type": "code",
   "execution_count": 51,
   "metadata": {
    "collapsed": false
   },
   "outputs": [
    {
     "name": "stdout",
     "output_type": "stream",
     "text": [
      "<bound method SGraph.summary of SGraph({'num_edges': 2, 'num_vertices': 3})\n",
      "Vertex Fields:['__id', 'club']\n",
      "Edge Fields:['__src_id', '__dst_id']>\n",
      "+------+--------------+\n",
      "| __id |     club     |\n",
      "+------+--------------+\n",
      "|  0   | FC Barcelona |\n",
      "|  2   | FC Barcelona |\n",
      "|  1   |   Chelsea    |\n",
      "+------+--------------+\n",
      "[3 rows x 2 columns]\n",
      "\n",
      "+----------+----------+\n",
      "| __src_id | __dst_id |\n",
      "+----------+----------+\n",
      "|    0     |    1     |\n",
      "|    1     |    2     |\n",
      "+----------+----------+\n",
      "[2 rows x 2 columns]\n",
      "\n"
     ]
    }
   ],
   "source": [
    "g = gl.SGraph()\n",
    "\n",
    "vertices = [gl.Vertex(0, attr={'club': 'FC Barcelona'}),\n",
    "            gl.Vertex(1, attr={'club': 'Chelsea'}),\n",
    "            gl.Vertex(2, attr={'club': 'FC Barcelona'})]\n",
    "g = g.add_vertices(vertices)\n",
    "\n",
    "edges = [gl.Edge(1,2),\n",
    "         gl.Edge(0,1)]\n",
    "g = g.add_edges(edges)\n",
    "\n",
    "print g.summary\n",
    "print g.vertices\n",
    "print g.edges"
   ]
  },
  {
   "cell_type": "markdown",
   "metadata": {
    "collapsed": true
   },
   "source": [
    "We can combine the three steps into a single step and generate a graph with randomly generated of edges. To view these edges in our python notebook, we will set the GraphLab canvas to ipynb."
   ]
  },
  {
   "cell_type": "code",
   "execution_count": 8,
   "metadata": {
    "collapsed": false
   },
   "outputs": [
    {
     "data": {
      "application/javascript": [
       "$(\"head\").append($(\"<link/>\").attr({\n",
       "  rel:  \"stylesheet\",\n",
       "  type: \"text/css\",\n",
       "  href: \"//cdnjs.cloudflare.com/ajax/libs/font-awesome/4.1.0/css/font-awesome.min.css\"\n",
       "}));\n",
       "$(\"head\").append($(\"<link/>\").attr({\n",
       "  rel:  \"stylesheet\",\n",
       "  type: \"text/css\",\n",
       "  href: \"https://static.turi.com/products/graphlab-create/2.1/canvas/css/canvas.css\"\n",
       "}));\n",
       "\n",
       "            (function(){\n",
       "\n",
       "                var e = null;\n",
       "                if (typeof element == 'undefined') {\n",
       "                    var scripts = document.getElementsByTagName('script');\n",
       "                    var thisScriptTag = scripts[scripts.length-1];\n",
       "                    var parentDiv = thisScriptTag.parentNode;\n",
       "                    e = document.createElement('div');\n",
       "                    parentDiv.appendChild(e);\n",
       "                } else {\n",
       "                    e = element[0];\n",
       "                }\n",
       "\n",
       "                if (typeof requirejs !== 'undefined') {\n",
       "                    // disable load timeout; ipython_app.js is large and can take a while to load.\n",
       "                    requirejs.config({waitSeconds: 0});\n",
       "                }\n",
       "\n",
       "                require(['https://static.turi.com/products/graphlab-create/2.1/canvas/js/ipython_app.js'], function(IPythonApp){\n",
       "                    var app = new IPythonApp();\n",
       "                    app.attachView('sgraph','View', {\"edges_labels\": null, \"selected_variable\": {\"name\": [\"g\"], \"view_file\": \"sgraph\", \"view_component\": \"View\", \"view_params\": {\"elabel_hover\": false, \"vertex_positions\": null, \"h_offset\": 0.0, \"node_size\": 300, \"ecolor\": [0.37, 0.33, 0.33], \"elabel\": null, \"arrows\": true, \"ewidth\": 1, \"vlabel\": \"id\", \"highlight_color\": [0.69, 0.0, 0.498], \"vcolor\": [0.522, 0.741, 0.0], \"vlabel_hover\": false, \"highlight\": {}, \"v_offset\": 0.03}, \"view_components\": [\"View\"], \"type\": \"SGraph\", \"descriptives_links\": {\"edges\": \"edges\", \"vertices\": \"vertices\"}, \"descriptives\": {\"edges\": 20, \"vertices\": 10}}, \"positions\": null, \"error_type\": 0, \"vertices\": [7, 8, 5, 0, 2, 9, 6, 3, 1, 4], \"vertices_labels\": [7, 8, 5, 0, 2, 9, 6, 3, 1, 4], \"edges\": [[7, 5], [7, 0], [8, 0], [7, 0], [5, 2], [5, 9], [5, 6], [8, 9], [0, 5], [0, 6], [2, 0], [9, 5], [6, 5], [9, 0], [9, 2], [6, 1], [3, 8], [3, 6], [1, 1], [4, 1]], \"ipython\": true, \"error_msg\": \"\"}, e);\n",
       "                });\n",
       "            })();\n",
       "        "
      ]
     },
     "metadata": {},
     "output_type": "display_data"
    }
   ],
   "source": [
    "import random\n",
    "\n",
    "g = gl.SGraph().add_vertices([gl.Vertex(i) for i in range(10)]).add_edges(\n",
    "    [gl.Edge(random.randrange(10), random.randrange(10)) for i in range(20)])\n",
    "\n",
    "gl.canvas.set_target('ipynb')\n",
    "g.show(vlabel='id', arrows=True)"
   ]
  },
  {
   "cell_type": "markdown",
   "metadata": {},
   "source": [
    "We will now try to import data from a csv file and load it into an SFrame, GraphLab's data structure to store tabular data. This data from the SFrame can then be converted into a SGraph. We would load this data to later run a bunch of graph analytics algorithms on it.\n",
    "\n",
    "\n",
    "For the purpose of this tutorail, we will use the James Bond dataset available on the Turi website. We will also print the data in the native tabular format. We will then save the graph generated into a local file. We will save two  copies, one to copy to load it into an SGraph at a later point and another copy in the `json` format to make it readbale. This is because GraphLab lets the users load graphs from native or remote files. "
   ]
  },
  {
   "cell_type": "code",
   "execution_count": 9,
   "metadata": {
    "collapsed": false
   },
   "outputs": [
    {
     "data": {
      "text/html": [
       "<pre>Downloading https://static.turi.com/datasets/bond/bond_edges.csv to /var/tmp/graphlab-poojanilangekar/594/52db80cc-ac1f-466a-ae89-e2a33e32b50b.csv</pre>"
      ],
      "text/plain": [
       "Downloading https://static.turi.com/datasets/bond/bond_edges.csv to /var/tmp/graphlab-poojanilangekar/594/52db80cc-ac1f-466a-ae89-e2a33e32b50b.csv"
      ]
     },
     "metadata": {},
     "output_type": "display_data"
    },
    {
     "data": {
      "text/html": [
       "<pre>Finished parsing file https://static.turi.com/datasets/bond/bond_edges.csv</pre>"
      ],
      "text/plain": [
       "Finished parsing file https://static.turi.com/datasets/bond/bond_edges.csv"
      ]
     },
     "metadata": {},
     "output_type": "display_data"
    },
    {
     "data": {
      "text/html": [
       "<pre>Parsing completed. Parsed 20 lines in 0.02679 secs.</pre>"
      ],
      "text/plain": [
       "Parsing completed. Parsed 20 lines in 0.02679 secs."
      ]
     },
     "metadata": {},
     "output_type": "display_data"
    },
    {
     "name": "stdout",
     "output_type": "stream",
     "text": [
      "------------------------------------------------------\n",
      "Inferred types from first 100 line(s) of file as \n",
      "column_type_hints=[str,str,str]\n",
      "If parsing fails due to incorrect types, you can correct\n",
      "the inferred type list above and pass it to read_csv in\n",
      "the column_type_hints argument\n",
      "------------------------------------------------------\n"
     ]
    },
    {
     "data": {
      "text/html": [
       "<pre>Finished parsing file https://static.turi.com/datasets/bond/bond_edges.csv</pre>"
      ],
      "text/plain": [
       "Finished parsing file https://static.turi.com/datasets/bond/bond_edges.csv"
      ]
     },
     "metadata": {},
     "output_type": "display_data"
    },
    {
     "data": {
      "text/html": [
       "<pre>Parsing completed. Parsed 20 lines in 0.009555 secs.</pre>"
      ],
      "text/plain": [
       "Parsing completed. Parsed 20 lines in 0.009555 secs."
      ]
     },
     "metadata": {},
     "output_type": "display_data"
    },
    {
     "name": "stdout",
     "output_type": "stream",
     "text": [
      "+----------------+------------+------------+\n",
      "|      src       |    dst     |  relation  |\n",
      "+----------------+------------+------------+\n",
      "|    Wai Lin     | James Bond |   friend   |\n",
      "|       M        | James Bond |  worksfor  |\n",
      "| Inga Bergstorm | James Bond |   friend   |\n",
      "| Elliot Carver  | James Bond | killed_by  |\n",
      "|   Gotz Otto    | James Bond | killed_by  |\n",
      "|   James Bond   |     M      | managed_by |\n",
      "|       Q        |     M      | managed_by |\n",
      "|   Moneypenny   |     M      | managed_by |\n",
      "|       Q        | Moneypenny | colleague  |\n",
      "|       M        | Moneypenny |  worksfor  |\n",
      "+----------------+------------+------------+\n",
      "[20 rows x 3 columns]\n",
      "Note: Only the head of the SFrame is printed.\n",
      "You can use print_rows(num_rows=m, num_columns=n) to print more rows and columns.\n"
     ]
    },
    {
     "data": {
      "text/html": [
       "<pre>Downloading https://static.turi.com/datasets/bond/bond_vertices.csv to /var/tmp/graphlab-poojanilangekar/594/7fb75a43-f745-440c-b73b-940622022bba.csv</pre>"
      ],
      "text/plain": [
       "Downloading https://static.turi.com/datasets/bond/bond_vertices.csv to /var/tmp/graphlab-poojanilangekar/594/7fb75a43-f745-440c-b73b-940622022bba.csv"
      ]
     },
     "metadata": {},
     "output_type": "display_data"
    },
    {
     "data": {
      "text/html": [
       "<pre>Finished parsing file https://static.turi.com/datasets/bond/bond_vertices.csv</pre>"
      ],
      "text/plain": [
       "Finished parsing file https://static.turi.com/datasets/bond/bond_vertices.csv"
      ]
     },
     "metadata": {},
     "output_type": "display_data"
    },
    {
     "data": {
      "text/html": [
       "<pre>Parsing completed. Parsed 10 lines in 0.012489 secs.</pre>"
      ],
      "text/plain": [
       "Parsing completed. Parsed 10 lines in 0.012489 secs."
      ]
     },
     "metadata": {},
     "output_type": "display_data"
    },
    {
     "name": "stdout",
     "output_type": "stream",
     "text": [
      "------------------------------------------------------\n",
      "Inferred types from first 100 line(s) of file as \n",
      "column_type_hints=[str,str,int,int]\n",
      "If parsing fails due to incorrect types, you can correct\n",
      "the inferred type list above and pass it to read_csv in\n",
      "the column_type_hints argument\n",
      "------------------------------------------------------\n"
     ]
    },
    {
     "data": {
      "text/html": [
       "<pre>Finished parsing file https://static.turi.com/datasets/bond/bond_vertices.csv</pre>"
      ],
      "text/plain": [
       "Finished parsing file https://static.turi.com/datasets/bond/bond_vertices.csv"
      ]
     },
     "metadata": {},
     "output_type": "display_data"
    },
    {
     "data": {
      "text/html": [
       "<pre>Parsing completed. Parsed 10 lines in 0.010184 secs.</pre>"
      ],
      "text/plain": [
       "Parsing completed. Parsed 10 lines in 0.010184 secs."
      ]
     },
     "metadata": {},
     "output_type": "display_data"
    },
    {
     "name": "stdout",
     "output_type": "stream",
     "text": [
      "+----------------+--------+-----------------+---------+\n",
      "|      name      | gender | license_to_kill | villian |\n",
      "+----------------+--------+-----------------+---------+\n",
      "|   James Bond   |   M    |        1        |    0    |\n",
      "|       M        |   M    |        1        |    0    |\n",
      "|   Moneypenny   |   F    |        1        |    0    |\n",
      "|       Q        |   M    |        1        |    0    |\n",
      "|    Wai Lin     |   F    |        1        |    0    |\n",
      "| Inga Bergstorm |   F    |        0        |    0    |\n",
      "| Elliot Carver  |   M    |        0        |    1    |\n",
      "|  Paris Carver  |   F    |        0        |    1    |\n",
      "|   Gotz Otto    |   M    |        0        |    1    |\n",
      "|  Henry Gupta   |   M    |        0        |    1    |\n",
      "+----------------+--------+-----------------+---------+\n",
      "[10 rows x 4 columns]\n",
      "\n"
     ]
    }
   ],
   "source": [
    "edge_data = gl.SFrame.read_csv(\n",
    "    'https://static.turi.com/datasets/bond/bond_edges.csv')\n",
    "print edge_data\n",
    "\n",
    "\n",
    "vertex_data = gl.SFrame.read_csv(\n",
    "    'https://static.turi.com/datasets/bond/bond_vertices.csv')\n",
    "print vertex_data\n",
    "\n",
    "g = gl.SGraph(vertices=vertex_data, edges=edge_data, vid_field='name',\n",
    "           src_field='src', dst_field='dst')\n",
    "\n",
    "g.save('james_bond')\n",
    "g.save('james_bond.json', format='json')\n"
   ]
  },
  {
   "cell_type": "markdown",
   "metadata": {},
   "source": [
    "## Inspecting Graph Data\n",
    "\n",
    "GraphLab lets us inspect the structure of the graphs at individual vertex and edge level. To begin with, we start with printing the entire graph, highlighting the James Bond vertex alone.\n",
    "\n",
    "We would then inspect the attributes of the James Bond vertex and all the edges of the `'worksfor'` relation.\n",
    "\n",
    "Finally, we will inspect the subgraph which contains just the vertices who are within the one hop radius of 'James Bond' or 'Moneypenney'."
   ]
  },
  {
   "cell_type": "code",
   "execution_count": 10,
   "metadata": {
    "collapsed": false
   },
   "outputs": [
    {
     "data": {
      "application/javascript": [
       "$(\"head\").append($(\"<link/>\").attr({\n",
       "  rel:  \"stylesheet\",\n",
       "  type: \"text/css\",\n",
       "  href: \"//cdnjs.cloudflare.com/ajax/libs/font-awesome/4.1.0/css/font-awesome.min.css\"\n",
       "}));\n",
       "$(\"head\").append($(\"<link/>\").attr({\n",
       "  rel:  \"stylesheet\",\n",
       "  type: \"text/css\",\n",
       "  href: \"https://static.turi.com/products/graphlab-create/2.1/canvas/css/canvas.css\"\n",
       "}));\n",
       "\n",
       "            (function(){\n",
       "\n",
       "                var e = null;\n",
       "                if (typeof element == 'undefined') {\n",
       "                    var scripts = document.getElementsByTagName('script');\n",
       "                    var thisScriptTag = scripts[scripts.length-1];\n",
       "                    var parentDiv = thisScriptTag.parentNode;\n",
       "                    e = document.createElement('div');\n",
       "                    parentDiv.appendChild(e);\n",
       "                } else {\n",
       "                    e = element[0];\n",
       "                }\n",
       "\n",
       "                if (typeof requirejs !== 'undefined') {\n",
       "                    // disable load timeout; ipython_app.js is large and can take a while to load.\n",
       "                    requirejs.config({waitSeconds: 0});\n",
       "                }\n",
       "\n",
       "                require(['https://static.turi.com/products/graphlab-create/2.1/canvas/js/ipython_app.js'], function(IPythonApp){\n",
       "                    var app = new IPythonApp();\n",
       "                    app.attachView('sgraph','View', {\"edges_labels\": [\"managed_by\", \"friend\", \"colleague\", \"killed_by\", \"friend\", \"colleague\", \"worksfor\", \"managed_by\", \"friend\", \"worksfor\", \"managed_by\", \"friend\", \"worksfor\", \"killed_by\", \"engagedto\", \"worksfor\", \"killed_by\", \"engagedto\", \"worksfor\", \"killed_by\"], \"selected_variable\": {\"name\": [\"bond_graph\"], \"view_file\": \"sgraph\", \"view_component\": \"View\", \"view_params\": {\"elabel_hover\": false, \"vertex_positions\": null, \"h_offset\": 0.0, \"node_size\": 300, \"ecolor\": [0.37, 0.33, 0.33], \"elabel\": \"relation\", \"arrows\": true, \"ewidth\": 1, \"vlabel\": \"id\", \"highlight_color\": [[0.69, 0.0, 0.498]], \"vcolor\": [0.522, 0.741, 0.0], \"vlabel_hover\": false, \"highlight\": {\"James Bond\": [0.69, 0.0, 0.498]}, \"v_offset\": 0.03}, \"view_components\": [\"View\"], \"type\": \"SGraph\", \"descriptives_links\": {\"edges\": \"edges\", \"vertices\": \"vertices\"}, \"descriptives\": {\"edges\": 20, \"vertices\": 10}}, \"positions\": null, \"error_type\": 0, \"vertices\": [\"Inga Bergstorm\", \"Moneypenny\", \"Henry Gupta\", \"Paris Carver\", \"M\", \"Q\", \"James Bond\", \"Wai Lin\", \"Elliot Carver\", \"Gotz Otto\"], \"vertices_labels\": [\"Inga Bergstorm\", \"Moneypenny\", \"Henry Gupta\", \"Paris Carver\", \"M\", \"Q\", \"James Bond\", \"Wai Lin\", \"Elliot Carver\", \"Gotz Otto\"], \"edges\": [[\"Moneypenny\", \"M\"], [\"Inga Bergstorm\", \"James Bond\"], [\"Moneypenny\", \"Q\"], [\"Henry Gupta\", \"Elliot Carver\"], [\"James Bond\", \"Inga Bergstorm\"], [\"Q\", \"Moneypenny\"], [\"M\", \"Moneypenny\"], [\"Q\", \"M\"], [\"Wai Lin\", \"James Bond\"], [\"M\", \"James Bond\"], [\"James Bond\", \"M\"], [\"James Bond\", \"Wai Lin\"], [\"M\", \"Q\"], [\"Paris Carver\", \"Elliot Carver\"], [\"Paris Carver\", \"Elliot Carver\"], [\"Elliot Carver\", \"Henry Gupta\"], [\"Elliot Carver\", \"James Bond\"], [\"Elliot Carver\", \"Paris Carver\"], [\"Elliot Carver\", \"Gotz Otto\"], [\"Gotz Otto\", \"James Bond\"]], \"ipython\": true, \"error_msg\": \"\"}, e);\n",
       "                });\n",
       "            })();\n",
       "        "
      ]
     },
     "metadata": {},
     "output_type": "display_data"
    }
   ],
   "source": [
    "bond_graph = gl.load_sgraph('james_bond')\n",
    "\n",
    "bond_graph.show(vlabel = 'id',\n",
    "               elabel = 'relation',\n",
    "               highlight = ['James Bond'], \n",
    "               arrows = True)"
   ]
  },
  {
   "cell_type": "code",
   "execution_count": 11,
   "metadata": {
    "collapsed": false
   },
   "outputs": [
    {
     "data": {
      "application/javascript": [
       "$(\"head\").append($(\"<link/>\").attr({\n",
       "  rel:  \"stylesheet\",\n",
       "  type: \"text/css\",\n",
       "  href: \"//cdnjs.cloudflare.com/ajax/libs/font-awesome/4.1.0/css/font-awesome.min.css\"\n",
       "}));\n",
       "$(\"head\").append($(\"<link/>\").attr({\n",
       "  rel:  \"stylesheet\",\n",
       "  type: \"text/css\",\n",
       "  href: \"https://static.turi.com/products/graphlab-create/2.1/canvas/css/canvas.css\"\n",
       "}));\n",
       "\n",
       "            (function(){\n",
       "\n",
       "                var e = null;\n",
       "                if (typeof element == 'undefined') {\n",
       "                    var scripts = document.getElementsByTagName('script');\n",
       "                    var thisScriptTag = scripts[scripts.length-1];\n",
       "                    var parentDiv = thisScriptTag.parentNode;\n",
       "                    e = document.createElement('div');\n",
       "                    parentDiv.appendChild(e);\n",
       "                } else {\n",
       "                    e = element[0];\n",
       "                }\n",
       "\n",
       "                if (typeof requirejs !== 'undefined') {\n",
       "                    // disable load timeout; ipython_app.js is large and can take a while to load.\n",
       "                    requirejs.config({waitSeconds: 0});\n",
       "                }\n",
       "\n",
       "                require(['https://static.turi.com/products/graphlab-create/2.1/canvas/js/ipython_app.js'], function(IPythonApp){\n",
       "                    var app = new IPythonApp();\n",
       "                    app.attachView('sframe','Summary', {\"ipython\": true, \"sketch\": {\"gender\": {\"complete\": true, \"numeric\": false, \"num_unique\": 1, \"num_undefined\": 0, \"progress\": 1.0, \"frequent_items\": {\"M\": {\"frequency\": 1, \"value\": \"M\"}}, \"size\": 1}, \"villian\": {\"std\": 0.0, \"complete\": true, \"min\": 0.0, \"max\": 0.0, \"quantile\": [0.0, 0.0, 0.0, 0.0, 0.0, 0.0, 0.0, 0.0, 0.0, 0.0, 0.0, 0.0, 0.0, 0.0, 0.0, 0.0, 0.0, 0.0, 0.0, 0.0, 0.0, 0.0, 0.0, 0.0, 0.0, 0.0, 0.0, 0.0, 0.0, 0.0, 0.0, 0.0, 0.0, 0.0, 0.0, 0.0, 0.0, 0.0, 0.0, 0.0, 0.0, 0.0, 0.0, 0.0, 0.0, 0.0, 0.0, 0.0, 0.0, 0.0, 0.0, 0.0, 0.0, 0.0, 0.0, 0.0, 0.0, 0.0, 0.0, 0.0, 0.0, 0.0, 0.0, 0.0, 0.0, 0.0, 0.0, 0.0, 0.0, 0.0, 0.0, 0.0, 0.0, 0.0, 0.0, 0.0, 0.0, 0.0, 0.0, 0.0, 0.0, 0.0, 0.0, 0.0, 0.0, 0.0, 0.0, 0.0, 0.0, 0.0, 0.0, 0.0, 0.0, 0.0, 0.0, 0.0, 0.0, 0.0, 0.0, 0.0, 0.0], \"median\": 0.0, \"numeric\": true, \"num_unique\": 1, \"num_undefined\": 0, \"var\": 0.0, \"progress\": 1.0, \"size\": 1, \"frequent_items\": {\"0\": {\"frequency\": 1, \"value\": 0}}, \"mean\": 0.0}, \"__id\": {\"complete\": true, \"numeric\": false, \"num_unique\": 1, \"num_undefined\": 0, \"progress\": 1.0, \"frequent_items\": {\"James Bond\": {\"frequency\": 1, \"value\": \"James Bond\"}}, \"size\": 1}, \"license_to_kill\": {\"std\": 0.0, \"complete\": true, \"min\": 1.0, \"max\": 1.0, \"quantile\": [1.0, 1.0, 1.0, 1.0, 1.0, 1.0, 1.0, 1.0, 1.0, 1.0, 1.0, 1.0, 1.0, 1.0, 1.0, 1.0, 1.0, 1.0, 1.0, 1.0, 1.0, 1.0, 1.0, 1.0, 1.0, 1.0, 1.0, 1.0, 1.0, 1.0, 1.0, 1.0, 1.0, 1.0, 1.0, 1.0, 1.0, 1.0, 1.0, 1.0, 1.0, 1.0, 1.0, 1.0, 1.0, 1.0, 1.0, 1.0, 1.0, 1.0, 1.0, 1.0, 1.0, 1.0, 1.0, 1.0, 1.0, 1.0, 1.0, 1.0, 1.0, 1.0, 1.0, 1.0, 1.0, 1.0, 1.0, 1.0, 1.0, 1.0, 1.0, 1.0, 1.0, 1.0, 1.0, 1.0, 1.0, 1.0, 1.0, 1.0, 1.0, 1.0, 1.0, 1.0, 1.0, 1.0, 1.0, 1.0, 1.0, 1.0, 1.0, 1.0, 1.0, 1.0, 1.0, 1.0, 1.0, 1.0, 1.0, 1.0, 1.0], \"median\": 1.0, \"numeric\": true, \"num_unique\": 1, \"num_undefined\": 0, \"var\": 0.0, \"progress\": 1.0, \"size\": 1, \"frequent_items\": {\"1\": {\"frequency\": 1, \"value\": 1}}, \"mean\": 1.0}}, \"selected_variable\": {\"name\": [\"sub_verts\"], \"descriptives\": {\"rows\": 1, \"columns\": 4}, \"view_component\": \"Summary\", \"view_file\": \"sframe\", \"view_params\": {\"y\": null, \"x\": null, \"columns\": [\"__id\", \"gender\", \"license_to_kill\", \"villian\"], \"view\": null}, \"view_components\": [\"Summary\", \"Table\", \"Bar Chart\", \"BoxWhisker Plot\", \"Line Chart\", \"Scatter Plot\", \"Heat Map\", \"Plots\"], \"type\": \"SFrame\", \"columns\": [{\"dtype\": \"str\", \"name\": \"__id\"}, {\"dtype\": \"str\", \"name\": \"gender\"}, {\"dtype\": \"int\", \"name\": \"license_to_kill\"}, {\"dtype\": \"int\", \"name\": \"villian\"}], \"column_identifiers\": [\"gender\", \"villian\", \"__id\", \"license_to_kill\"]}, \"columns\": [{\"dtype\": \"str\", \"name\": \"__id\"}, {\"dtype\": \"str\", \"name\": \"gender\"}, {\"dtype\": \"int\", \"name\": \"license_to_kill\"}, {\"dtype\": \"int\", \"name\": \"villian\"}]}, e);\n",
       "                });\n",
       "            })();\n",
       "        "
      ]
     },
     "metadata": {},
     "output_type": "display_data"
    }
   ],
   "source": [
    "sub_verts = bond_graph.get_vertices(ids=['James Bond'])\n",
    "sub_verts.show()"
   ]
  },
  {
   "cell_type": "code",
   "execution_count": 12,
   "metadata": {
    "collapsed": false
   },
   "outputs": [
    {
     "data": {
      "application/javascript": [
       "$(\"head\").append($(\"<link/>\").attr({\n",
       "  rel:  \"stylesheet\",\n",
       "  type: \"text/css\",\n",
       "  href: \"//cdnjs.cloudflare.com/ajax/libs/font-awesome/4.1.0/css/font-awesome.min.css\"\n",
       "}));\n",
       "$(\"head\").append($(\"<link/>\").attr({\n",
       "  rel:  \"stylesheet\",\n",
       "  type: \"text/css\",\n",
       "  href: \"https://static.turi.com/products/graphlab-create/2.1/canvas/css/canvas.css\"\n",
       "}));\n",
       "\n",
       "            (function(){\n",
       "\n",
       "                var e = null;\n",
       "                if (typeof element == 'undefined') {\n",
       "                    var scripts = document.getElementsByTagName('script');\n",
       "                    var thisScriptTag = scripts[scripts.length-1];\n",
       "                    var parentDiv = thisScriptTag.parentNode;\n",
       "                    e = document.createElement('div');\n",
       "                    parentDiv.appendChild(e);\n",
       "                } else {\n",
       "                    e = element[0];\n",
       "                }\n",
       "\n",
       "                if (typeof requirejs !== 'undefined') {\n",
       "                    // disable load timeout; ipython_app.js is large and can take a while to load.\n",
       "                    requirejs.config({waitSeconds: 0});\n",
       "                }\n",
       "\n",
       "                require(['https://static.turi.com/products/graphlab-create/2.1/canvas/js/ipython_app.js'], function(IPythonApp){\n",
       "                    var app = new IPythonApp();\n",
       "                    app.attachView('sframe','Summary', {\"ipython\": true, \"sketch\": {\"__src_id\": {\"complete\": true, \"numeric\": false, \"num_unique\": 2, \"num_undefined\": 0, \"progress\": 1.0, \"frequent_items\": {\"Elliot Carver\": {\"frequency\": 2, \"value\": \"Elliot Carver\"}, \"M\": {\"frequency\": 3, \"value\": \"M\"}}, \"size\": 5}, \"relation\": {\"complete\": true, \"numeric\": false, \"num_unique\": 1, \"num_undefined\": 0, \"progress\": 1.0, \"frequent_items\": {\"worksfor\": {\"frequency\": 5, \"value\": \"worksfor\"}}, \"size\": 5}, \"__dst_id\": {\"complete\": true, \"numeric\": false, \"num_unique\": 5, \"num_undefined\": 0, \"progress\": 1.0, \"frequent_items\": {\"Moneypenny\": {\"frequency\": 1, \"value\": \"Moneypenny\"}, \"Q\": {\"frequency\": 1, \"value\": \"Q\"}, \"Gotz Otto\": {\"frequency\": 1, \"value\": \"Gotz Otto\"}, \"Henry Gupta\": {\"frequency\": 1, \"value\": \"Henry Gupta\"}, \"James Bond\": {\"frequency\": 1, \"value\": \"James Bond\"}}, \"size\": 5}}, \"selected_variable\": {\"name\": [\"sub_edges\"], \"descriptives\": {\"rows\": 5, \"columns\": 3}, \"view_component\": \"Summary\", \"view_file\": \"sframe\", \"view_params\": {\"y\": null, \"x\": null, \"columns\": [\"__src_id\", \"__dst_id\", \"relation\"], \"view\": null}, \"view_components\": [\"Summary\", \"Table\", \"Bar Chart\", \"BoxWhisker Plot\", \"Line Chart\", \"Scatter Plot\", \"Heat Map\", \"Plots\"], \"type\": \"SFrame\", \"columns\": [{\"dtype\": \"str\", \"name\": \"__src_id\"}, {\"dtype\": \"str\", \"name\": \"__dst_id\"}, {\"dtype\": \"str\", \"name\": \"relation\"}], \"column_identifiers\": [\"__src_id\", \"relation\", \"__dst_id\"]}, \"columns\": [{\"dtype\": \"str\", \"name\": \"__src_id\"}, {\"dtype\": \"str\", \"name\": \"__dst_id\"}, {\"dtype\": \"str\", \"name\": \"relation\"}]}, e);\n",
       "                });\n",
       "            })();\n",
       "        "
      ]
     },
     "metadata": {},
     "output_type": "display_data"
    }
   ],
   "source": [
    "sub_edges = bond_graph.get_edges(fields={'relation': 'worksfor'})\n",
    "sub_edges.show()"
   ]
  },
  {
   "cell_type": "code",
   "execution_count": 13,
   "metadata": {
    "collapsed": false
   },
   "outputs": [
    {
     "data": {
      "application/javascript": [
       "$(\"head\").append($(\"<link/>\").attr({\n",
       "  rel:  \"stylesheet\",\n",
       "  type: \"text/css\",\n",
       "  href: \"//cdnjs.cloudflare.com/ajax/libs/font-awesome/4.1.0/css/font-awesome.min.css\"\n",
       "}));\n",
       "$(\"head\").append($(\"<link/>\").attr({\n",
       "  rel:  \"stylesheet\",\n",
       "  type: \"text/css\",\n",
       "  href: \"https://static.turi.com/products/graphlab-create/2.1/canvas/css/canvas.css\"\n",
       "}));\n",
       "\n",
       "            (function(){\n",
       "\n",
       "                var e = null;\n",
       "                if (typeof element == 'undefined') {\n",
       "                    var scripts = document.getElementsByTagName('script');\n",
       "                    var thisScriptTag = scripts[scripts.length-1];\n",
       "                    var parentDiv = thisScriptTag.parentNode;\n",
       "                    e = document.createElement('div');\n",
       "                    parentDiv.appendChild(e);\n",
       "                } else {\n",
       "                    e = element[0];\n",
       "                }\n",
       "\n",
       "                if (typeof requirejs !== 'undefined') {\n",
       "                    // disable load timeout; ipython_app.js is large and can take a while to load.\n",
       "                    requirejs.config({waitSeconds: 0});\n",
       "                }\n",
       "\n",
       "                require(['https://static.turi.com/products/graphlab-create/2.1/canvas/js/ipython_app.js'], function(IPythonApp){\n",
       "                    var app = new IPythonApp();\n",
       "                    app.attachView('sgraph','View', {\"edges_labels\": null, \"selected_variable\": {\"name\": [\"subgraph\"], \"view_file\": \"sgraph\", \"view_component\": \"View\", \"view_params\": {\"elabel_hover\": false, \"vertex_positions\": null, \"h_offset\": 0.0, \"node_size\": 300, \"ecolor\": [0.37, 0.33, 0.33], \"elabel\": null, \"arrows\": true, \"ewidth\": 1, \"vlabel\": \"id\", \"highlight_color\": [[0.69, 0.0, 0.498], [0.69, 0.0, 0.498]], \"vcolor\": [0.522, 0.741, 0.0], \"vlabel_hover\": false, \"highlight\": {\"Moneypenny\": [0.69, 0.0, 0.498], \"James Bond\": [0.69, 0.0, 0.498]}, \"v_offset\": 0.03}, \"view_components\": [\"View\"], \"type\": \"SGraph\", \"descriptives_links\": {\"edges\": \"edges\", \"vertices\": \"vertices\"}, \"descriptives\": {\"edges\": 15, \"vertices\": 8}}, \"positions\": null, \"error_type\": 0, \"vertices\": [\"Moneypenny\", \"Inga Bergstorm\", \"Q\", \"James Bond\", \"Wai Lin\", \"M\", \"Elliot Carver\", \"Gotz Otto\"], \"vertices_labels\": [\"Moneypenny\", \"Inga Bergstorm\", \"Q\", \"James Bond\", \"Wai Lin\", \"M\", \"Elliot Carver\", \"Gotz Otto\"], \"edges\": [[\"Moneypenny\", \"Q\"], [\"Moneypenny\", \"M\"], [\"Inga Bergstorm\", \"James Bond\"], [\"Q\", \"Moneypenny\"], [\"James Bond\", \"Inga Bergstorm\"], [\"M\", \"Moneypenny\"], [\"Wai Lin\", \"James Bond\"], [\"James Bond\", \"M\"], [\"M\", \"James Bond\"], [\"Q\", \"M\"], [\"James Bond\", \"Wai Lin\"], [\"M\", \"Q\"], [\"Elliot Carver\", \"James Bond\"], [\"Elliot Carver\", \"Gotz Otto\"], [\"Gotz Otto\", \"James Bond\"]], \"ipython\": true, \"error_msg\": \"\"}, e);\n",
       "                });\n",
       "            })();\n",
       "        "
      ]
     },
     "metadata": {},
     "output_type": "display_data"
    }
   ],
   "source": [
    "targets = ['James Bond', 'Moneypenny']\n",
    "subgraph = bond_graph.get_neighborhood(ids=targets, \n",
    "                                       radius=1, \n",
    "                                       full_subgraph=True)\n",
    "subgraph.show(vlabel='id', \n",
    "              highlight=['James Bond', 'Moneypenny'], \n",
    "              arrows=True)"
   ]
  },
  {
   "cell_type": "markdown",
   "metadata": {},
   "source": [
    "## Modifying the Graph Data\n",
    "\n",
    "The underlying strucutre of the data is structurally immutable. However, we can modify the SFrame objects associated to the SGraph.edges and SGraph.vertices objects. "
   ]
  },
  {
   "cell_type": "code",
   "execution_count": 14,
   "metadata": {
    "collapsed": false
   },
   "outputs": [
    {
     "data": {
      "application/javascript": [
       "$(\"head\").append($(\"<link/>\").attr({\n",
       "  rel:  \"stylesheet\",\n",
       "  type: \"text/css\",\n",
       "  href: \"//cdnjs.cloudflare.com/ajax/libs/font-awesome/4.1.0/css/font-awesome.min.css\"\n",
       "}));\n",
       "$(\"head\").append($(\"<link/>\").attr({\n",
       "  rel:  \"stylesheet\",\n",
       "  type: \"text/css\",\n",
       "  href: \"https://static.turi.com/products/graphlab-create/2.1/canvas/css/canvas.css\"\n",
       "}));\n",
       "\n",
       "            (function(){\n",
       "\n",
       "                var e = null;\n",
       "                if (typeof element == 'undefined') {\n",
       "                    var scripts = document.getElementsByTagName('script');\n",
       "                    var thisScriptTag = scripts[scripts.length-1];\n",
       "                    var parentDiv = thisScriptTag.parentNode;\n",
       "                    e = document.createElement('div');\n",
       "                    parentDiv.appendChild(e);\n",
       "                } else {\n",
       "                    e = element[0];\n",
       "                }\n",
       "\n",
       "                if (typeof requirejs !== 'undefined') {\n",
       "                    // disable load timeout; ipython_app.js is large and can take a while to load.\n",
       "                    requirejs.config({waitSeconds: 0});\n",
       "                }\n",
       "\n",
       "                require(['https://static.turi.com/products/graphlab-create/2.1/canvas/js/ipython_app.js'], function(IPythonApp){\n",
       "                    var app = new IPythonApp();\n",
       "                    app.attachView('sframe','Summary', {\"ipython\": true, \"sketch\": {\"__src_id\": {\"complete\": true, \"numeric\": false, \"num_unique\": 10, \"num_undefined\": 0, \"progress\": 1.0, \"frequent_items\": {\"Henry Gupta\": {\"frequency\": 1, \"value\": \"Henry Gupta\"}, \"Q\": {\"frequency\": 2, \"value\": \"Q\"}, \"Gotz Otto\": {\"frequency\": 1, \"value\": \"Gotz Otto\"}, \"M\": {\"frequency\": 3, \"value\": \"M\"}, \"James Bond\": {\"frequency\": 3, \"value\": \"James Bond\"}, \"Inga Bergstorm\": {\"frequency\": 1, \"value\": \"Inga Bergstorm\"}, \"Moneypenny\": {\"frequency\": 2, \"value\": \"Moneypenny\"}, \"Paris Carver\": {\"frequency\": 2, \"value\": \"Paris Carver\"}, \"Wai Lin\": {\"frequency\": 1, \"value\": \"Wai Lin\"}, \"Elliot Carver\": {\"frequency\": 4, \"value\": \"Elliot Carver\"}}, \"size\": 20}, \"relation\": {\"complete\": true, \"numeric\": false, \"num_unique\": 6, \"num_undefined\": 0, \"progress\": 1.0, \"frequent_items\": {\"C\": {\"frequency\": 2, \"value\": \"C\"}, \"E\": {\"frequency\": 2, \"value\": \"E\"}, \"F\": {\"frequency\": 4, \"value\": \"F\"}, \"K\": {\"frequency\": 4, \"value\": \"K\"}, \"M\": {\"frequency\": 3, \"value\": \"M\"}, \"W\": {\"frequency\": 5, \"value\": \"W\"}}, \"size\": 20}, \"__dst_id\": {\"complete\": true, \"numeric\": false, \"num_unique\": 10, \"num_undefined\": 0, \"progress\": 1.0, \"frequent_items\": {\"Henry Gupta\": {\"frequency\": 1, \"value\": \"Henry Gupta\"}, \"Moneypenny\": {\"frequency\": 2, \"value\": \"Moneypenny\"}, \"Gotz Otto\": {\"frequency\": 1, \"value\": \"Gotz Otto\"}, \"M\": {\"frequency\": 3, \"value\": \"M\"}, \"James Bond\": {\"frequency\": 5, \"value\": \"James Bond\"}, \"Inga Bergstorm\": {\"frequency\": 1, \"value\": \"Inga Bergstorm\"}, \"Q\": {\"frequency\": 2, \"value\": \"Q\"}, \"Paris Carver\": {\"frequency\": 1, \"value\": \"Paris Carver\"}, \"Wai Lin\": {\"frequency\": 1, \"value\": \"Wai Lin\"}, \"Elliot Carver\": {\"frequency\": 3, \"value\": \"Elliot Carver\"}}, \"size\": 20}}, \"selected_variable\": {\"name\": [\"<SFrame>\"], \"descriptives\": {\"rows\": 20, \"columns\": 3}, \"view_component\": \"Summary\", \"view_file\": \"sframe\", \"view_params\": {\"y\": null, \"x\": null, \"columns\": [\"__src_id\", \"__dst_id\", \"relation\"], \"view\": null}, \"view_components\": [\"Summary\", \"Table\", \"Bar Chart\", \"BoxWhisker Plot\", \"Line Chart\", \"Scatter Plot\", \"Heat Map\", \"Plots\"], \"type\": \"SFrame\", \"columns\": [{\"dtype\": \"str\", \"name\": \"__src_id\"}, {\"dtype\": \"str\", \"name\": \"__dst_id\"}, {\"dtype\": \"str\", \"name\": \"relation\"}], \"column_identifiers\": [\"__src_id\", \"relation\", \"__dst_id\"]}, \"columns\": [{\"dtype\": \"str\", \"name\": \"__src_id\"}, {\"dtype\": \"str\", \"name\": \"__dst_id\"}, {\"dtype\": \"str\", \"name\": \"relation\"}]}, e);\n",
       "                });\n",
       "            })();\n",
       "        "
      ]
     },
     "metadata": {},
     "output_type": "display_data"
    }
   ],
   "source": [
    "edges = bond_graph.get_edges()\n",
    "relation = edges['relation'].apply(lambda x: x[0].upper())\n",
    "bond_graph.edges['relation'] = relation\n",
    "bond_graph.get_edges().show()"
   ]
  },
  {
   "cell_type": "markdown",
   "metadata": {
    "collapsed": true
   },
   "source": [
    "Accessing the SGraph.vertices and SGraph.edges attributes returns special SFrame. Only the `__id`, `__src_id` and the `__dst_id` can not be modified since alterning these attributes would change the structure of the underlying graph. Howeverm you can always add and delete other attributes Here is an example of altering the SFrame by first adding an edge wieght and later deleting it. "
   ]
  },
  {
   "cell_type": "code",
   "execution_count": 54,
   "metadata": {
    "collapsed": false
   },
   "outputs": [
    {
     "data": {
      "application/javascript": [
       "$(\"head\").append($(\"<link/>\").attr({\n",
       "  rel:  \"stylesheet\",\n",
       "  type: \"text/css\",\n",
       "  href: \"//cdnjs.cloudflare.com/ajax/libs/font-awesome/4.1.0/css/font-awesome.min.css\"\n",
       "}));\n",
       "$(\"head\").append($(\"<link/>\").attr({\n",
       "  rel:  \"stylesheet\",\n",
       "  type: \"text/css\",\n",
       "  href: \"https://static.turi.com/products/graphlab-create/2.1/canvas/css/canvas.css\"\n",
       "}));\n",
       "\n",
       "            (function(){\n",
       "\n",
       "                var e = null;\n",
       "                if (typeof element == 'undefined') {\n",
       "                    var scripts = document.getElementsByTagName('script');\n",
       "                    var thisScriptTag = scripts[scripts.length-1];\n",
       "                    var parentDiv = thisScriptTag.parentNode;\n",
       "                    e = document.createElement('div');\n",
       "                    parentDiv.appendChild(e);\n",
       "                } else {\n",
       "                    e = element[0];\n",
       "                }\n",
       "\n",
       "                if (typeof requirejs !== 'undefined') {\n",
       "                    // disable load timeout; ipython_app.js is large and can take a while to load.\n",
       "                    requirejs.config({waitSeconds: 0});\n",
       "                }\n",
       "\n",
       "                require(['https://static.turi.com/products/graphlab-create/2.1/canvas/js/ipython_app.js'], function(IPythonApp){\n",
       "                    var app = new IPythonApp();\n",
       "                    app.attachView('sarray','Numeric', {\"ipython\": true, \"sketch\": {\"std\": 0.3227427792604403, \"complete\": true, \"min\": 0.02060022715572829, \"max\": 0.9996488913867916, \"quantile\": [0.02060022715572829, 0.02060022715572829, 0.02060022715572829, 0.02060022715572829, 0.02060022715572829, 0.04406718816391175, 0.04406718816391175, 0.04406718816391175, 0.04406718816391175, 0.04406718816391175, 0.04406718816391175, 0.12302013267611256, 0.12302013267611256, 0.12302013267611256, 0.12302013267611256, 0.129136701360394, 0.129136701360394, 0.129136701360394, 0.129136701360394, 0.129136701360394, 0.13261463375585558, 0.13261463375585558, 0.13261463375585558, 0.13261463375585558, 0.13261463375585558, 0.1940126676847358, 0.1940126676847358, 0.1940126676847358, 0.1940126676847358, 0.1940126676847358, 0.2658710868012679, 0.2658710868012679, 0.2658710868012679, 0.2658710868012679, 0.2658710868012679, 0.2692725908803142, 0.2692725908803142, 0.2692725908803142, 0.2692725908803142, 0.2692725908803142, 0.3605749914183922, 0.3605749914183922, 0.3605749914183922, 0.3605749914183922, 0.3605749914183922, 0.3849051732833976, 0.3849051732833976, 0.3849051732833976, 0.3849051732833976, 0.3849051732833976, 0.5032318979347263, 0.5032318979347263, 0.5032318979347263, 0.5032318979347263, 0.5032318979347263, 0.568978723147049, 0.568978723147049, 0.568978723147049, 0.568978723147049, 0.568978723147049, 0.5963764587685044, 0.5963764587685044, 0.5963764587685044, 0.5963764587685044, 0.5963764587685044, 0.6857656836245967, 0.6857656836245967, 0.6857656836245967, 0.6857656836245967, 0.6857656836245967, 0.7592563766757225, 0.7592563766757225, 0.7592563766757225, 0.7592563766757225, 0.7592563766757225, 0.8077431845597212, 0.8077431845597212, 0.8077431845597212, 0.8077431845597212, 0.8077431845597212, 0.8861827016401884, 0.8861827016401884, 0.8861827016401884, 0.8861827016401884, 0.8861827016401884, 0.925920756480233, 0.925920756480233, 0.925920756480233, 0.925920756480233, 0.925920756480233, 0.9616827871527367, 0.9616827871527367, 0.9616827871527367, 0.9616827871527367, 0.9616827871527367, 0.9996488913867916, 0.9996488913867916, 0.9996488913867916, 0.9996488913867916, 0.9996488913867916, 0.9996488913867916], \"median\": 0.5032318979347263, \"numeric\": true, \"num_unique\": 20, \"num_undefined\": 0, \"var\": 0.1041629015647533, \"progress\": 1.0, \"size\": 20, \"frequent_items\": {\"0.5032318979347263\": {\"frequency\": 1, \"value\": 0.5032318979347263}, \"0.13261463375585558\": {\"frequency\": 1, \"value\": 0.13261463375585558}, \"0.925920756480233\": {\"frequency\": 1, \"value\": 0.925920756480233}, \"0.2658710868012679\": {\"frequency\": 1, \"value\": 0.2658710868012679}, \"0.129136701360394\": {\"frequency\": 1, \"value\": 0.129136701360394}, \"0.2692725908803142\": {\"frequency\": 1, \"value\": 0.2692725908803142}, \"0.8861827016401884\": {\"frequency\": 1, \"value\": 0.8861827016401884}, \"0.9996488913867916\": {\"frequency\": 1, \"value\": 0.9996488913867916}, \"0.8077431845597212\": {\"frequency\": 1, \"value\": 0.8077431845597212}, \"0.1940126676847358\": {\"frequency\": 1, \"value\": 0.1940126676847358}, \"0.3605749914183922\": {\"frequency\": 1, \"value\": 0.3605749914183922}, \"0.9616827871527367\": {\"frequency\": 1, \"value\": 0.9616827871527367}, \"0.5963764587685044\": {\"frequency\": 1, \"value\": 0.5963764587685044}, \"0.568978723147049\": {\"frequency\": 1, \"value\": 0.568978723147049}, \"0.3849051732833976\": {\"frequency\": 1, \"value\": 0.3849051732833976}, \"0.12302013267611256\": {\"frequency\": 1, \"value\": 0.12302013267611256}, \"0.04406718816391175\": {\"frequency\": 1, \"value\": 0.04406718816391175}, \"0.7592563766757225\": {\"frequency\": 1, \"value\": 0.7592563766757225}, \"0.02060022715572829\": {\"frequency\": 1, \"value\": 0.02060022715572829}, \"0.6857656836245967\": {\"frequency\": 1, \"value\": 0.6857656836245967}}, \"mean\": 0.4809431427275189}, \"selected_variable\": {\"name\": [\"<SArray>\"], \"dtype\": \"float\", \"view_component\": \"Numeric\", \"view_file\": \"sarray\", \"descriptives\": {\"rows\": 20}, \"type\": \"SArray\", \"view_components\": [\"Numeric\", \"Categorical\"]}, \"histogram\": {\"progress\": 1.0, \"histogram\": {\"max\": 1.0015017412608294, \"bins\": [2, 3, 1, 2, 2, 1, 1, 1, 1, 2, 1, 3], \"min\": 0.018756323264366825}, \"min\": 0.02060022715572829, \"complete\": 1, \"max\": 0.9996488913867916}}, e);\n",
       "                });\n",
       "            })();\n",
       "        "
      ]
     },
     "metadata": {},
     "output_type": "display_data"
    }
   ],
   "source": [
    "bond_graph.edges['weight'] = [random.uniform(0.0,1.0) for i in range(len(bond_graph.edges))]\n",
    "bond_graph.edges['weight'].show()\n",
    "del bond_graph.edges['weight']"
   ]
  },
  {
   "cell_type": "markdown",
   "metadata": {},
   "source": [
    "We will now explore the tripple apply function which allows the user to asynchronously modify each vertex and its edges asynchronously."
   ]
  },
  {
   "cell_type": "code",
   "execution_count": 55,
   "metadata": {
    "collapsed": false
   },
   "outputs": [
    {
     "name": "stdout",
     "output_type": "stream",
     "text": [
      "+----------------+--------+-----------------+---------+--------+\n",
      "|      __id      | gender | license_to_kill | villian | degree |\n",
      "+----------------+--------+-----------------+---------+--------+\n",
      "|   James Bond   |   M    |        1        |    0    |   8    |\n",
      "| Elliot Carver  |   M    |        0        |    1    |   7    |\n",
      "|       M        |   M    |        1        |    0    |   6    |\n",
      "|       Q        |   M    |        1        |    0    |   4    |\n",
      "|   Moneypenny   |   F    |        1        |    0    |   4    |\n",
      "|  Paris Carver  |   F    |        0        |    1    |   3    |\n",
      "| Inga Bergstorm |   F    |        0        |    0    |   2    |\n",
      "|    Wai Lin     |   F    |        1        |    0    |   2    |\n",
      "|  Henry Gupta   |   M    |        0        |    1    |   2    |\n",
      "|   Gotz Otto    |   M    |        0        |    1    |   2    |\n",
      "+----------------+--------+-----------------+---------+--------+\n",
      "[10 rows x 5 columns]\n",
      "\n"
     ]
    }
   ],
   "source": [
    "def count_degree(source, edge, destination):\n",
    "    source['degree'] += 1\n",
    "    destination['degree'] += 1\n",
    "    return (source, edge, destination)\n",
    "\n",
    "bond_graph.vertices['degree'] = 0\n",
    "\n",
    "bond_graph = bond_graph.triple_apply(count_degree, \n",
    "                                     mutated_fields=['degree'])\n",
    "print bond_graph.vertices.sort('degree', ascending=False)"
   ]
  },
  {
   "cell_type": "markdown",
   "metadata": {},
   "source": [
    "## Real World Data\n",
    "\n",
    "We will first import a real world dataset into an SGraph and then run a bunch of graph analytics algorithms on it. The idea is to run some standardized algorithms to learn about the structre of the graph and the importance of various nodes in the graph. \n",
    "\n",
    "As an aside, it is important to note that GraphLab, unlike other traditional machine learning/data sciece libraries does not use mathematical functions to implement the algorithms. Instead, the library uses an underlying C++ engine which applies the selected algorithm at the granularity of a vertex. In esence, it uses three steps to apply the algorithm on a particular vertex:\n",
    "1. __Gather__ updates from neighboring vertices.\n",
    "2. __Apply__ the update function to the vertex. \n",
    "3. __Scatter__ the updates to all the neighbors of the selected vertex.\n",
    "\n",
    "Splitting any algorithm into these set of steps lets GraphLab distrbute this computation across multiple machines and hence converge on a value faster. \n",
    "\n",
    "As for this tutorial, for each of the basic algorithms, we would first run the model on it, print its summary and then print some key features of the resultant graphs to help us understand the underlying structure of the graph.\n",
    "\n",
    "Here is the code to load the real world data into our graph. For the sake of this tutorial we will use the Wikipedia dataset where vertices represent Wikipedia articles about US businesses and edges represent hyperlinks between articles."
   ]
  },
  {
   "cell_type": "code",
   "execution_count": 56,
   "metadata": {
    "collapsed": false,
    "scrolled": true
   },
   "outputs": [
    {
     "name": "stdout",
     "output_type": "stream",
     "text": [
      "{'num_edges': 517127, 'num_vertices': 233121}\n"
     ]
    }
   ],
   "source": [
    "import os\n",
    "\n",
    "data_file = 'US_business_links'\n",
    "if os.path.exists(data_file):\n",
    "    sg = gl.load_sgraph(data_file)\n",
    "else:\n",
    "    url = 'https://static.turi.com/datasets/' + data_file\n",
    "    sg = gl.load_sgraph(url)\n",
    "    sg.save(data_file)\n",
    "\n",
    "print sg.summary()"
   ]
  },
  {
   "cell_type": "markdown",
   "metadata": {},
   "source": [
    "## Degree Counting\n",
    "Intutively, the easiest parameter to help understand the underlying structure of a graph is to look at its degree distributtion and then look at the most *connected* nodes, implying that these are the 'popular' vertices in the network.\n",
    "\n",
    "The algorithm is fairly straight forward, the idea is to simply sum up the number of out edges and in edges for each vertex in the network."
   ]
  },
  {
   "cell_type": "code",
   "execution_count": 57,
   "metadata": {
    "collapsed": false
   },
   "outputs": [
    {
     "data": {
      "application/javascript": [
       "$(\"head\").append($(\"<link/>\").attr({\n",
       "  rel:  \"stylesheet\",\n",
       "  type: \"text/css\",\n",
       "  href: \"//cdnjs.cloudflare.com/ajax/libs/font-awesome/4.1.0/css/font-awesome.min.css\"\n",
       "}));\n",
       "$(\"head\").append($(\"<link/>\").attr({\n",
       "  rel:  \"stylesheet\",\n",
       "  type: \"text/css\",\n",
       "  href: \"https://static.turi.com/products/graphlab-create/2.1/canvas/css/canvas.css\"\n",
       "}));\n",
       "\n",
       "            (function(){\n",
       "\n",
       "                var e = null;\n",
       "                if (typeof element == 'undefined') {\n",
       "                    var scripts = document.getElementsByTagName('script');\n",
       "                    var thisScriptTag = scripts[scripts.length-1];\n",
       "                    var parentDiv = thisScriptTag.parentNode;\n",
       "                    e = document.createElement('div');\n",
       "                    parentDiv.appendChild(e);\n",
       "                } else {\n",
       "                    e = element[0];\n",
       "                }\n",
       "\n",
       "                if (typeof requirejs !== 'undefined') {\n",
       "                    // disable load timeout; ipython_app.js is large and can take a while to load.\n",
       "                    requirejs.config({waitSeconds: 0});\n",
       "                }\n",
       "\n",
       "                require(['https://static.turi.com/products/graphlab-create/2.1/canvas/js/ipython_app.js'], function(IPythonApp){\n",
       "                    var app = new IPythonApp();\n",
       "                    app.attachView('model','Summary', {\"comparison\": null, \"selected_variable\": {\"comparison\": null, \"name\": [\"dg\"], \"view_file\": \"model\", \"view_component\": \"Summary\", \"view_params\": {\"model_type\": \"base\", \"view\": \"Summary\"}, \"view_components\": [\"Summary\", \"Evaluation\", \"Comparison\"], \"model_type\": \"base\", \"attributes\": {\"section_titles\": [\"Graph\", \"Results\", \"Metrics\"], \"sections\": [[[\"num_edges\", 517127], [\"num_vertices\", 233121]], [[\"graph\", \"SGraph. See m['graph']\"]], [[\"training time (secs)\", 0.1418]]]}, \"evaluations\": [], \"type\": \"Model\"}, \"ipython\": true, \"view_params\": {\"model_type\": \"base\", \"view\": \"Summary\"}, \"model_type\": \"base\", \"attributes\": {\"section_titles\": [\"Graph\", \"Results\", \"Metrics\"], \"sections\": [[[\"num_edges\", 517127], [\"num_vertices\", 233121]], [[\"graph\", \"SGraph. See m['graph']\"]], [[\"training time (secs)\", 0.1418]]]}, \"evaluations\": []}, e);\n",
       "                });\n",
       "            })();\n",
       "        "
      ]
     },
     "metadata": {},
     "output_type": "display_data"
    },
    {
     "data": {
      "application/javascript": [
       "$(\"head\").append($(\"<link/>\").attr({\n",
       "  rel:  \"stylesheet\",\n",
       "  type: \"text/css\",\n",
       "  href: \"//cdnjs.cloudflare.com/ajax/libs/font-awesome/4.1.0/css/font-awesome.min.css\"\n",
       "}));\n",
       "$(\"head\").append($(\"<link/>\").attr({\n",
       "  rel:  \"stylesheet\",\n",
       "  type: \"text/css\",\n",
       "  href: \"https://static.turi.com/products/graphlab-create/2.1/canvas/css/canvas.css\"\n",
       "}));\n",
       "\n",
       "            (function(){\n",
       "\n",
       "                var e = null;\n",
       "                if (typeof element == 'undefined') {\n",
       "                    var scripts = document.getElementsByTagName('script');\n",
       "                    var thisScriptTag = scripts[scripts.length-1];\n",
       "                    var parentDiv = thisScriptTag.parentNode;\n",
       "                    e = document.createElement('div');\n",
       "                    parentDiv.appendChild(e);\n",
       "                } else {\n",
       "                    e = element[0];\n",
       "                }\n",
       "\n",
       "                if (typeof requirejs !== 'undefined') {\n",
       "                    // disable load timeout; ipython_app.js is large and can take a while to load.\n",
       "                    requirejs.config({waitSeconds: 0});\n",
       "                }\n",
       "\n",
       "                require(['https://static.turi.com/products/graphlab-create/2.1/canvas/js/ipython_app.js'], function(IPythonApp){\n",
       "                    var app = new IPythonApp();\n",
       "                    app.attachView('sframe','Summary', {\"ipython\": true, \"sketch\": {\"out_degree\": {\"std\": 9.460165207994311, \"complete\": true, \"min\": 0.0, \"max\": 1204.0, \"quantile\": [0.0, 0.0, 0.0, 0.0, 0.0, 0.0, 0.0, 0.0, 0.0, 0.0, 0.0, 1.0, 1.0, 1.0, 1.0, 1.0, 1.0, 1.0, 1.0, 1.0, 1.0, 1.0, 1.0, 1.0, 1.0, 1.0, 1.0, 1.0, 1.0, 1.0, 1.0, 1.0, 1.0, 1.0, 1.0, 1.0, 1.0, 1.0, 1.0, 1.0, 1.0, 1.0, 1.0, 1.0, 1.0, 1.0, 1.0, 1.0, 1.0, 1.0, 1.0, 1.0, 1.0, 1.0, 1.0, 1.0, 1.0, 1.0, 1.0, 1.0, 1.0, 1.0, 1.0, 1.0, 1.0, 1.0, 1.0, 2.0, 2.0, 2.0, 2.0, 2.0, 2.0, 2.0, 2.0, 2.0, 2.0, 2.0, 2.0, 2.0, 2.0, 2.0, 2.0, 2.0, 2.0, 3.0, 3.0, 3.0, 3.0, 3.0, 3.0, 4.0, 4.0, 4.0, 5.0, 5.0, 6.0, 8.0, 10.0, 20.0, 1204.0], \"median\": 1.0, \"numeric\": true, \"num_unique\": 259, \"num_undefined\": 0, \"var\": 89.49472576254607, \"progress\": 1.0, \"size\": 233121, \"frequent_items\": {\"0\": {\"frequency\": 24912, \"value\": 0}, \"1\": {\"frequency\": 131272, \"value\": 1}, \"2\": {\"frequency\": 40192, \"value\": 2}, \"3\": {\"frequency\": 14426, \"value\": 3}, \"4\": {\"frequency\": 7213, \"value\": 4}, \"5\": {\"frequency\": 3934, \"value\": 5}, \"6\": {\"frequency\": 2471, \"value\": 6}, \"7\": {\"frequency\": 1656, \"value\": 7}, \"8\": {\"frequency\": 1155, \"value\": 8}, \"9\": {\"frequency\": 776, \"value\": 9}, \"10\": {\"frequency\": 591, \"value\": 10}, \"11\": {\"frequency\": 474, \"value\": 11}, \"12\": {\"frequency\": 398, \"value\": 12}, \"13\": {\"frequency\": 297, \"value\": 13}, \"14\": {\"frequency\": 265, \"value\": 14}, \"15\": {\"frequency\": 153, \"value\": 15}, \"16\": {\"frequency\": 183, \"value\": 16}, \"17\": {\"frequency\": 162, \"value\": 17}, \"18\": {\"frequency\": 150, \"value\": 18}, \"19\": {\"frequency\": 125, \"value\": 19}, \"20\": {\"frequency\": 141, \"value\": 20}, \"21\": {\"frequency\": 112, \"value\": 21}, \"22\": {\"frequency\": 124, \"value\": 22}, \"23\": {\"frequency\": 119, \"value\": 23}, \"24\": {\"frequency\": 85, \"value\": 24}, \"25\": {\"frequency\": 78, \"value\": 25}, \"26\": {\"frequency\": 79, \"value\": 26}, \"27\": {\"frequency\": 74, \"value\": 27}, \"28\": {\"frequency\": 68, \"value\": 28}, \"29\": {\"frequency\": 68, \"value\": 29}, \"30\": {\"frequency\": 65, \"value\": 30}, \"31\": {\"frequency\": 50, \"value\": 31}, \"32\": {\"frequency\": 52, \"value\": 32}, \"33\": {\"frequency\": 46, \"value\": 33}, \"34\": {\"frequency\": 57, \"value\": 34}, \"35\": {\"frequency\": 30, \"value\": 35}, \"36\": {\"frequency\": 33, \"value\": 36}, \"37\": {\"frequency\": 34, \"value\": 37}, \"38\": {\"frequency\": 25, \"value\": 38}, \"39\": {\"frequency\": 34, \"value\": 39}, \"40\": {\"frequency\": 35, \"value\": 40}, \"41\": {\"frequency\": 19, \"value\": 41}, \"42\": {\"frequency\": 28, \"value\": 42}, \"43\": {\"frequency\": 21, \"value\": 43}, \"44\": {\"frequency\": 22, \"value\": 44}, \"45\": {\"frequency\": 22, \"value\": 45}, \"46\": {\"frequency\": 19, \"value\": 46}, \"47\": {\"frequency\": 29, \"value\": 47}, \"48\": {\"frequency\": 18, \"value\": 48}, \"49\": {\"frequency\": 19, \"value\": 49}, \"50\": {\"frequency\": 20, \"value\": 50}, \"51\": {\"frequency\": 10, \"value\": 51}, \"52\": {\"frequency\": 17, \"value\": 52}, \"53\": {\"frequency\": 12, \"value\": 53}, \"54\": {\"frequency\": 13, \"value\": 54}, \"55\": {\"frequency\": 17, \"value\": 55}, \"56\": {\"frequency\": 13, \"value\": 56}, \"57\": {\"frequency\": 10, \"value\": 57}, \"58\": {\"frequency\": 15, \"value\": 58}, \"59\": {\"frequency\": 18, \"value\": 59}, \"60\": {\"frequency\": 15, \"value\": 60}, \"61\": {\"frequency\": 9, \"value\": 61}, \"62\": {\"frequency\": 10, \"value\": 62}, \"63\": {\"frequency\": 10, \"value\": 63}, \"64\": {\"frequency\": 7, \"value\": 64}, \"65\": {\"frequency\": 7, \"value\": 65}, \"66\": {\"frequency\": 10, \"value\": 66}, \"67\": {\"frequency\": 7, \"value\": 67}, \"68\": {\"frequency\": 11, \"value\": 68}, \"69\": {\"frequency\": 7, \"value\": 69}, \"70\": {\"frequency\": 9, \"value\": 70}, \"71\": {\"frequency\": 9, \"value\": 71}, \"72\": {\"frequency\": 4, \"value\": 72}, \"73\": {\"frequency\": 6, \"value\": 73}, \"74\": {\"frequency\": 6, \"value\": 74}, \"75\": {\"frequency\": 8, \"value\": 75}, \"76\": {\"frequency\": 9, \"value\": 76}, \"77\": {\"frequency\": 6, \"value\": 77}, \"78\": {\"frequency\": 5, \"value\": 78}, \"79\": {\"frequency\": 8, \"value\": 79}, \"80\": {\"frequency\": 8, \"value\": 80}, \"1105\": {\"frequency\": 1, \"value\": 1105}, \"82\": {\"frequency\": 6, \"value\": 82}, \"83\": {\"frequency\": 5, \"value\": 83}, \"84\": {\"frequency\": 10, \"value\": 84}, \"85\": {\"frequency\": 8, \"value\": 85}, \"86\": {\"frequency\": 5, \"value\": 86}, \"87\": {\"frequency\": 8, \"value\": 87}, \"88\": {\"frequency\": 7, \"value\": 88}, \"89\": {\"frequency\": 2, \"value\": 89}, \"90\": {\"frequency\": 2, \"value\": 90}, \"91\": {\"frequency\": 6, \"value\": 91}, \"92\": {\"frequency\": 7, \"value\": 92}, \"93\": {\"frequency\": 1, \"value\": 93}, \"94\": {\"frequency\": 7, \"value\": 94}, \"95\": {\"frequency\": 6, \"value\": 95}, \"96\": {\"frequency\": 7, \"value\": 96}, \"97\": {\"frequency\": 5, \"value\": 97}, \"98\": {\"frequency\": 2, \"value\": 98}, \"99\": {\"frequency\": 3, \"value\": 99}, \"100\": {\"frequency\": 7, \"value\": 100}, \"101\": {\"frequency\": 2, \"value\": 101}, \"102\": {\"frequency\": 4, \"value\": 102}, \"103\": {\"frequency\": 5, \"value\": 103}, \"104\": {\"frequency\": 3, \"value\": 104}, \"105\": {\"frequency\": 6, \"value\": 105}, \"106\": {\"frequency\": 1, \"value\": 106}, \"107\": {\"frequency\": 3, \"value\": 107}, \"108\": {\"frequency\": 1, \"value\": 108}, \"109\": {\"frequency\": 3, \"value\": 109}, \"110\": {\"frequency\": 3, \"value\": 110}, \"111\": {\"frequency\": 2, \"value\": 111}, \"112\": {\"frequency\": 2, \"value\": 112}, \"113\": {\"frequency\": 2, \"value\": 113}, \"114\": {\"frequency\": 3, \"value\": 114}, \"115\": {\"frequency\": 3, \"value\": 115}, \"116\": {\"frequency\": 2, \"value\": 116}, \"117\": {\"frequency\": 3, \"value\": 117}, \"118\": {\"frequency\": 5, \"value\": 118}, \"119\": {\"frequency\": 2, \"value\": 119}, \"120\": {\"frequency\": 2, \"value\": 120}, \"121\": {\"frequency\": 5, \"value\": 121}, \"122\": {\"frequency\": 3, \"value\": 122}, \"123\": {\"frequency\": 2, \"value\": 123}, \"125\": {\"frequency\": 1, \"value\": 125}, \"126\": {\"frequency\": 3, \"value\": 126}, \"127\": {\"frequency\": 1, \"value\": 127}, \"128\": {\"frequency\": 3, \"value\": 128}, \"129\": {\"frequency\": 2, \"value\": 129}, \"130\": {\"frequency\": 2, \"value\": 130}, \"131\": {\"frequency\": 2, \"value\": 131}, \"132\": {\"frequency\": 5, \"value\": 132}, \"133\": {\"frequency\": 2, \"value\": 133}, \"134\": {\"frequency\": 2, \"value\": 134}, \"135\": {\"frequency\": 3, \"value\": 135}, \"136\": {\"frequency\": 1, \"value\": 136}, \"137\": {\"frequency\": 2, \"value\": 137}, \"138\": {\"frequency\": 3, \"value\": 138}, \"139\": {\"frequency\": 3, \"value\": 139}, \"140\": {\"frequency\": 1, \"value\": 140}, \"141\": {\"frequency\": 1, \"value\": 141}, \"142\": {\"frequency\": 1, \"value\": 142}, \"143\": {\"frequency\": 1, \"value\": 143}, \"144\": {\"frequency\": 2, \"value\": 144}, \"145\": {\"frequency\": 4, \"value\": 145}, \"146\": {\"frequency\": 2, \"value\": 146}, \"147\": {\"frequency\": 1, \"value\": 147}, \"148\": {\"frequency\": 3, \"value\": 148}, \"149\": {\"frequency\": 2, \"value\": 149}, \"150\": {\"frequency\": 2, \"value\": 150}, \"154\": {\"frequency\": 4, \"value\": 154}, \"155\": {\"frequency\": 4, \"value\": 155}, \"156\": {\"frequency\": 3, \"value\": 156}, \"157\": {\"frequency\": 2, \"value\": 157}, \"158\": {\"frequency\": 3, \"value\": 158}, \"159\": {\"frequency\": 2, \"value\": 159}, \"160\": {\"frequency\": 1, \"value\": 160}, \"163\": {\"frequency\": 1, \"value\": 163}, \"164\": {\"frequency\": 2, \"value\": 164}, \"166\": {\"frequency\": 3, \"value\": 166}, \"169\": {\"frequency\": 2, \"value\": 169}, \"171\": {\"frequency\": 2, \"value\": 171}, \"172\": {\"frequency\": 1, \"value\": 172}, \"174\": {\"frequency\": 2, \"value\": 174}, \"176\": {\"frequency\": 4, \"value\": 176}, \"177\": {\"frequency\": 2, \"value\": 177}, \"178\": {\"frequency\": 1, \"value\": 178}, \"1204\": {\"frequency\": 1, \"value\": 1204}, \"181\": {\"frequency\": 2, \"value\": 181}, \"183\": {\"frequency\": 2, \"value\": 183}, \"184\": {\"frequency\": 3, \"value\": 184}, \"187\": {\"frequency\": 1, \"value\": 187}, \"188\": {\"frequency\": 1, \"value\": 188}, \"189\": {\"frequency\": 1, \"value\": 189}, \"190\": {\"frequency\": 1, \"value\": 190}, \"191\": {\"frequency\": 2, \"value\": 191}, \"192\": {\"frequency\": 2, \"value\": 192}, \"193\": {\"frequency\": 1, \"value\": 193}, \"194\": {\"frequency\": 3, \"value\": 194}, \"195\": {\"frequency\": 1, \"value\": 195}, \"196\": {\"frequency\": 1, \"value\": 196}, \"197\": {\"frequency\": 1, \"value\": 197}, \"199\": {\"frequency\": 1, \"value\": 199}, \"200\": {\"frequency\": 2, \"value\": 200}, \"205\": {\"frequency\": 1, \"value\": 205}, \"208\": {\"frequency\": 2, \"value\": 208}, \"209\": {\"frequency\": 1, \"value\": 209}, \"210\": {\"frequency\": 1, \"value\": 210}, \"211\": {\"frequency\": 1, \"value\": 211}, \"212\": {\"frequency\": 2, \"value\": 212}, \"213\": {\"frequency\": 1, \"value\": 213}, \"217\": {\"frequency\": 3, \"value\": 217}, \"219\": {\"frequency\": 2, \"value\": 219}, \"222\": {\"frequency\": 1, \"value\": 222}, \"223\": {\"frequency\": 1, \"value\": 223}, \"536\": {\"frequency\": 1, \"value\": 536}, \"239\": {\"frequency\": 1, \"value\": 239}, \"240\": {\"frequency\": 2, \"value\": 240}, \"241\": {\"frequency\": 1, \"value\": 241}, \"242\": {\"frequency\": 1, \"value\": 242}, \"244\": {\"frequency\": 1, \"value\": 244}, \"245\": {\"frequency\": 1, \"value\": 245}, \"247\": {\"frequency\": 1, \"value\": 247}, \"250\": {\"frequency\": 1, \"value\": 250}, \"251\": {\"frequency\": 2, \"value\": 251}, \"256\": {\"frequency\": 1, \"value\": 256}, \"258\": {\"frequency\": 1, \"value\": 258}, \"262\": {\"frequency\": 2, \"value\": 262}, \"263\": {\"frequency\": 1, \"value\": 263}, \"265\": {\"frequency\": 1, \"value\": 265}, \"270\": {\"frequency\": 2, \"value\": 270}, \"271\": {\"frequency\": 1, \"value\": 271}, \"272\": {\"frequency\": 1, \"value\": 272}, \"274\": {\"frequency\": 1, \"value\": 274}, \"275\": {\"frequency\": 3, \"value\": 275}, \"277\": {\"frequency\": 1, \"value\": 277}, \"280\": {\"frequency\": 2, \"value\": 280}, \"283\": {\"frequency\": 1, \"value\": 283}, \"284\": {\"frequency\": 1, \"value\": 284}, \"287\": {\"frequency\": 2, \"value\": 287}, \"290\": {\"frequency\": 2, \"value\": 290}, \"180\": {\"frequency\": 1, \"value\": 180}, \"292\": {\"frequency\": 1, \"value\": 292}, \"294\": {\"frequency\": 1, \"value\": 294}, \"299\": {\"frequency\": 1, \"value\": 299}, \"300\": {\"frequency\": 1, \"value\": 300}, \"305\": {\"frequency\": 1, \"value\": 305}, \"307\": {\"frequency\": 1, \"value\": 307}, \"308\": {\"frequency\": 1, \"value\": 308}, \"310\": {\"frequency\": 2, \"value\": 310}, \"311\": {\"frequency\": 1, \"value\": 311}, \"315\": {\"frequency\": 1, \"value\": 315}, \"321\": {\"frequency\": 1, \"value\": 321}, \"327\": {\"frequency\": 1, \"value\": 327}, \"332\": {\"frequency\": 1, \"value\": 332}, \"333\": {\"frequency\": 1, \"value\": 333}, \"339\": {\"frequency\": 2, \"value\": 339}, \"340\": {\"frequency\": 1, \"value\": 340}, \"348\": {\"frequency\": 1, \"value\": 348}, \"350\": {\"frequency\": 1, \"value\": 350}, \"352\": {\"frequency\": 1, \"value\": 352}, \"353\": {\"frequency\": 1, \"value\": 353}, \"866\": {\"frequency\": 1, \"value\": 866}, \"356\": {\"frequency\": 2, \"value\": 356}, \"369\": {\"frequency\": 1, \"value\": 369}, \"370\": {\"frequency\": 2, \"value\": 370}, \"383\": {\"frequency\": 1, \"value\": 383}, \"391\": {\"frequency\": 1, \"value\": 391}, \"394\": {\"frequency\": 1, \"value\": 394}, \"398\": {\"frequency\": 1, \"value\": 398}, \"407\": {\"frequency\": 1, \"value\": 407}, \"931\": {\"frequency\": 1, \"value\": 931}, \"584\": {\"frequency\": 1, \"value\": 584}, \"587\": {\"frequency\": 1, \"value\": 587}, \"463\": {\"frequency\": 1, \"value\": 463}, \"480\": {\"frequency\": 1, \"value\": 480}, \"81\": {\"frequency\": 10, \"value\": 81}, \"488\": {\"frequency\": 1, \"value\": 488}, \"494\": {\"frequency\": 1, \"value\": 494}}, \"mean\": 2.218277203683925}, \"in_degree\": {\"std\": 116.04952338315036, \"complete\": true, \"min\": 0.0, \"max\": 30450.0, \"quantile\": [0.0, 0.0, 0.0, 0.0, 0.0, 0.0, 0.0, 0.0, 0.0, 0.0, 0.0, 0.0, 0.0, 0.0, 0.0, 0.0, 0.0, 0.0, 0.0, 0.0, 0.0, 0.0, 0.0, 0.0, 0.0, 0.0, 0.0, 0.0, 0.0, 0.0, 0.0, 0.0, 0.0, 0.0, 0.0, 0.0, 0.0, 0.0, 0.0, 0.0, 0.0, 0.0, 0.0, 0.0, 0.0, 0.0, 0.0, 0.0, 0.0, 0.0, 0.0, 0.0, 0.0, 0.0, 0.0, 0.0, 0.0, 0.0, 0.0, 0.0, 0.0, 0.0, 0.0, 0.0, 0.0, 0.0, 0.0, 0.0, 0.0, 0.0, 0.0, 0.0, 0.0, 0.0, 0.0, 0.0, 0.0, 0.0, 0.0, 0.0, 0.0, 0.0, 0.0, 0.0, 1.0, 1.0, 1.0, 1.0, 1.0, 1.0, 1.0, 1.0, 1.0, 1.0, 1.0, 2.0, 2.0, 2.0, 3.0, 7.0, 30450.0], \"median\": 0.0, \"numeric\": true, \"num_unique\": 416, \"num_undefined\": 0, \"var\": 13467.491877456361, \"progress\": 1.0, \"size\": 233121, \"frequent_items\": {\"0\": {\"frequency\": 193786, \"value\": 0}, \"1\": {\"frequency\": 27322, \"value\": 1}, \"2\": {\"frequency\": 5732, \"value\": 2}, \"3\": {\"frequency\": 2056, \"value\": 3}, \"4\": {\"frequency\": 961, \"value\": 4}, \"5\": {\"frequency\": 550, \"value\": 5}, \"6\": {\"frequency\": 333, \"value\": 6}, \"7\": {\"frequency\": 253, \"value\": 7}, \"8\": {\"frequency\": 211, \"value\": 8}, \"9\": {\"frequency\": 121, \"value\": 9}, \"10\": {\"frequency\": 94, \"value\": 10}, \"11\": {\"frequency\": 100, \"value\": 11}, \"12\": {\"frequency\": 73, \"value\": 12}, \"13\": {\"frequency\": 76, \"value\": 13}, \"14\": {\"frequency\": 65, \"value\": 14}, \"15\": {\"frequency\": 45, \"value\": 15}, \"16\": {\"frequency\": 34, \"value\": 16}, \"17\": {\"frequency\": 39, \"value\": 17}, \"18\": {\"frequency\": 53, \"value\": 18}, \"19\": {\"frequency\": 35, \"value\": 19}, \"20\": {\"frequency\": 27, \"value\": 20}, \"21\": {\"frequency\": 35, \"value\": 21}, \"22\": {\"frequency\": 31, \"value\": 22}, \"23\": {\"frequency\": 21, \"value\": 23}, \"24\": {\"frequency\": 22, \"value\": 24}, \"25\": {\"frequency\": 17, \"value\": 25}, \"26\": {\"frequency\": 19, \"value\": 26}, \"27\": {\"frequency\": 22, \"value\": 27}, \"4124\": {\"frequency\": 1, \"value\": 4124}, \"29\": {\"frequency\": 14, \"value\": 29}, \"30\": {\"frequency\": 14, \"value\": 30}, \"31\": {\"frequency\": 15, \"value\": 31}, \"32\": {\"frequency\": 18, \"value\": 32}, \"33\": {\"frequency\": 18, \"value\": 33}, \"34\": {\"frequency\": 15, \"value\": 34}, \"35\": {\"frequency\": 8, \"value\": 35}, \"36\": {\"frequency\": 18, \"value\": 36}, \"37\": {\"frequency\": 9, \"value\": 37}, \"38\": {\"frequency\": 16, \"value\": 38}, \"39\": {\"frequency\": 15, \"value\": 39}, \"40\": {\"frequency\": 8, \"value\": 40}, \"2089\": {\"frequency\": 1, \"value\": 2089}, \"42\": {\"frequency\": 8, \"value\": 42}, \"43\": {\"frequency\": 10, \"value\": 43}, \"44\": {\"frequency\": 12, \"value\": 44}, \"45\": {\"frequency\": 8, \"value\": 45}, \"46\": {\"frequency\": 8, \"value\": 46}, \"47\": {\"frequency\": 13, \"value\": 47}, \"48\": {\"frequency\": 10, \"value\": 48}, \"49\": {\"frequency\": 12, \"value\": 49}, \"50\": {\"frequency\": 9, \"value\": 50}, \"51\": {\"frequency\": 6, \"value\": 51}, \"52\": {\"frequency\": 10, \"value\": 52}, \"53\": {\"frequency\": 10, \"value\": 53}, \"54\": {\"frequency\": 12, \"value\": 54}, \"55\": {\"frequency\": 8, \"value\": 55}, \"56\": {\"frequency\": 12, \"value\": 56}, \"57\": {\"frequency\": 5, \"value\": 57}, \"58\": {\"frequency\": 6, \"value\": 58}, \"59\": {\"frequency\": 5, \"value\": 59}, \"60\": {\"frequency\": 7, \"value\": 60}, \"61\": {\"frequency\": 4, \"value\": 61}, \"62\": {\"frequency\": 5, \"value\": 62}, \"63\": {\"frequency\": 4, \"value\": 63}, \"64\": {\"frequency\": 5, \"value\": 64}, \"65\": {\"frequency\": 4, \"value\": 65}, \"66\": {\"frequency\": 5, \"value\": 66}, \"67\": {\"frequency\": 4, \"value\": 67}, \"68\": {\"frequency\": 8, \"value\": 68}, \"69\": {\"frequency\": 5, \"value\": 69}, \"70\": {\"frequency\": 3, \"value\": 70}, \"71\": {\"frequency\": 3, \"value\": 71}, \"72\": {\"frequency\": 6, \"value\": 72}, \"73\": {\"frequency\": 6, \"value\": 73}, \"74\": {\"frequency\": 5, \"value\": 74}, \"75\": {\"frequency\": 5, \"value\": 75}, \"76\": {\"frequency\": 5, \"value\": 76}, \"77\": {\"frequency\": 4, \"value\": 77}, \"78\": {\"frequency\": 6, \"value\": 78}, \"79\": {\"frequency\": 7, \"value\": 79}, \"80\": {\"frequency\": 4, \"value\": 80}, \"81\": {\"frequency\": 8, \"value\": 81}, \"82\": {\"frequency\": 4, \"value\": 82}, \"83\": {\"frequency\": 3, \"value\": 83}, \"84\": {\"frequency\": 4, \"value\": 84}, \"85\": {\"frequency\": 5, \"value\": 85}, \"86\": {\"frequency\": 5, \"value\": 86}, \"88\": {\"frequency\": 3, \"value\": 88}, \"89\": {\"frequency\": 2, \"value\": 89}, \"90\": {\"frequency\": 6, \"value\": 90}, \"91\": {\"frequency\": 6, \"value\": 91}, \"92\": {\"frequency\": 4, \"value\": 92}, \"93\": {\"frequency\": 4, \"value\": 93}, \"94\": {\"frequency\": 1, \"value\": 94}, \"95\": {\"frequency\": 2, \"value\": 95}, \"96\": {\"frequency\": 1, \"value\": 96}, \"97\": {\"frequency\": 2, \"value\": 97}, \"98\": {\"frequency\": 9, \"value\": 98}, \"99\": {\"frequency\": 7, \"value\": 99}, \"100\": {\"frequency\": 5, \"value\": 100}, \"101\": {\"frequency\": 2, \"value\": 101}, \"102\": {\"frequency\": 4, \"value\": 102}, \"103\": {\"frequency\": 2, \"value\": 103}, \"104\": {\"frequency\": 5, \"value\": 104}, \"105\": {\"frequency\": 2, \"value\": 105}, \"106\": {\"frequency\": 1, \"value\": 106}, \"107\": {\"frequency\": 4, \"value\": 107}, \"108\": {\"frequency\": 1, \"value\": 108}, \"109\": {\"frequency\": 5, \"value\": 109}, \"110\": {\"frequency\": 3, \"value\": 110}, \"111\": {\"frequency\": 1, \"value\": 111}, \"112\": {\"frequency\": 2, \"value\": 112}, \"113\": {\"frequency\": 3, \"value\": 113}, \"114\": {\"frequency\": 2, \"value\": 114}, \"115\": {\"frequency\": 3, \"value\": 115}, \"116\": {\"frequency\": 4, \"value\": 116}, \"118\": {\"frequency\": 1, \"value\": 118}, \"119\": {\"frequency\": 3, \"value\": 119}, \"120\": {\"frequency\": 4, \"value\": 120}, \"121\": {\"frequency\": 1, \"value\": 121}, \"122\": {\"frequency\": 1, \"value\": 122}, \"123\": {\"frequency\": 1, \"value\": 123}, \"126\": {\"frequency\": 2, \"value\": 126}, \"127\": {\"frequency\": 2, \"value\": 127}, \"128\": {\"frequency\": 3, \"value\": 128}, \"129\": {\"frequency\": 3, \"value\": 129}, \"130\": {\"frequency\": 5, \"value\": 130}, \"131\": {\"frequency\": 2, \"value\": 131}, \"132\": {\"frequency\": 3, \"value\": 132}, \"133\": {\"frequency\": 1, \"value\": 133}, \"135\": {\"frequency\": 2, \"value\": 135}, \"138\": {\"frequency\": 5, \"value\": 138}, \"139\": {\"frequency\": 2, \"value\": 139}, \"140\": {\"frequency\": 1, \"value\": 140}, \"141\": {\"frequency\": 1, \"value\": 141}, \"143\": {\"frequency\": 2, \"value\": 143}, \"146\": {\"frequency\": 1, \"value\": 146}, \"147\": {\"frequency\": 4, \"value\": 147}, \"148\": {\"frequency\": 3, \"value\": 148}, \"149\": {\"frequency\": 3, \"value\": 149}, \"150\": {\"frequency\": 1, \"value\": 150}, \"151\": {\"frequency\": 1, \"value\": 151}, \"152\": {\"frequency\": 3, \"value\": 152}, \"153\": {\"frequency\": 2, \"value\": 153}, \"154\": {\"frequency\": 1, \"value\": 154}, \"155\": {\"frequency\": 1, \"value\": 155}, \"156\": {\"frequency\": 2, \"value\": 156}, \"158\": {\"frequency\": 2, \"value\": 158}, \"159\": {\"frequency\": 2, \"value\": 159}, \"161\": {\"frequency\": 2, \"value\": 161}, \"163\": {\"frequency\": 2, \"value\": 163}, \"164\": {\"frequency\": 2, \"value\": 164}, \"166\": {\"frequency\": 1, \"value\": 166}, \"167\": {\"frequency\": 2, \"value\": 167}, \"28\": {\"frequency\": 17, \"value\": 28}, \"170\": {\"frequency\": 2, \"value\": 170}, \"171\": {\"frequency\": 2, \"value\": 171}, \"173\": {\"frequency\": 1, \"value\": 173}, \"2222\": {\"frequency\": 1, \"value\": 2222}, \"177\": {\"frequency\": 4, \"value\": 177}, \"179\": {\"frequency\": 4, \"value\": 179}, \"181\": {\"frequency\": 2, \"value\": 181}, \"182\": {\"frequency\": 1, \"value\": 182}, \"183\": {\"frequency\": 3, \"value\": 183}, \"184\": {\"frequency\": 3, \"value\": 184}, \"185\": {\"frequency\": 1, \"value\": 185}, \"186\": {\"frequency\": 1, \"value\": 186}, \"187\": {\"frequency\": 1, \"value\": 187}, \"188\": {\"frequency\": 2, \"value\": 188}, \"190\": {\"frequency\": 3, \"value\": 190}, \"191\": {\"frequency\": 1, \"value\": 191}, \"192\": {\"frequency\": 3, \"value\": 192}, \"194\": {\"frequency\": 1, \"value\": 194}, \"195\": {\"frequency\": 2, \"value\": 195}, \"196\": {\"frequency\": 1, \"value\": 196}, \"198\": {\"frequency\": 2, \"value\": 198}, \"200\": {\"frequency\": 1, \"value\": 200}, \"201\": {\"frequency\": 2, \"value\": 201}, \"203\": {\"frequency\": 2, \"value\": 203}, \"2252\": {\"frequency\": 1, \"value\": 2252}, \"205\": {\"frequency\": 3, \"value\": 205}, \"206\": {\"frequency\": 1, \"value\": 206}, \"207\": {\"frequency\": 2, \"value\": 207}, \"210\": {\"frequency\": 3, \"value\": 210}, \"212\": {\"frequency\": 2, \"value\": 212}, \"218\": {\"frequency\": 2, \"value\": 218}, \"219\": {\"frequency\": 1, \"value\": 219}, \"220\": {\"frequency\": 1, \"value\": 220}, \"221\": {\"frequency\": 1, \"value\": 221}, \"222\": {\"frequency\": 1, \"value\": 222}, \"223\": {\"frequency\": 1, \"value\": 223}, \"224\": {\"frequency\": 1, \"value\": 224}, \"225\": {\"frequency\": 1, \"value\": 225}, \"229\": {\"frequency\": 2, \"value\": 229}, \"230\": {\"frequency\": 1, \"value\": 230}, \"231\": {\"frequency\": 2, \"value\": 231}, \"234\": {\"frequency\": 1, \"value\": 234}, \"8429\": {\"frequency\": 1, \"value\": 8429}, \"238\": {\"frequency\": 2, \"value\": 238}, \"240\": {\"frequency\": 1, \"value\": 240}, \"2291\": {\"frequency\": 1, \"value\": 2291}, \"244\": {\"frequency\": 1, \"value\": 244}, \"245\": {\"frequency\": 3, \"value\": 245}, \"41\": {\"frequency\": 14, \"value\": 41}, \"249\": {\"frequency\": 1, \"value\": 249}, \"253\": {\"frequency\": 1, \"value\": 253}, \"254\": {\"frequency\": 2, \"value\": 254}, \"259\": {\"frequency\": 2, \"value\": 259}, \"260\": {\"frequency\": 1, \"value\": 260}, \"262\": {\"frequency\": 3, \"value\": 262}, \"4364\": {\"frequency\": 1, \"value\": 4364}, \"269\": {\"frequency\": 1, \"value\": 269}, \"270\": {\"frequency\": 1, \"value\": 270}, \"272\": {\"frequency\": 2, \"value\": 272}, \"274\": {\"frequency\": 2, \"value\": 274}, \"275\": {\"frequency\": 1, \"value\": 275}, \"4373\": {\"frequency\": 1, \"value\": 4373}, \"278\": {\"frequency\": 4, \"value\": 278}, \"279\": {\"frequency\": 1, \"value\": 279}, \"283\": {\"frequency\": 2, \"value\": 283}, \"284\": {\"frequency\": 2, \"value\": 284}, \"285\": {\"frequency\": 1, \"value\": 285}, \"286\": {\"frequency\": 1, \"value\": 286}, \"288\": {\"frequency\": 1, \"value\": 288}, \"290\": {\"frequency\": 1, \"value\": 290}, \"291\": {\"frequency\": 1, \"value\": 291}, \"293\": {\"frequency\": 1, \"value\": 293}, \"295\": {\"frequency\": 1, \"value\": 295}, \"297\": {\"frequency\": 1, \"value\": 297}, \"2098\": {\"frequency\": 1, \"value\": 2098}, \"303\": {\"frequency\": 1, \"value\": 303}, \"304\": {\"frequency\": 1, \"value\": 304}, \"311\": {\"frequency\": 1, \"value\": 311}, \"312\": {\"frequency\": 1, \"value\": 312}, \"6463\": {\"frequency\": 1, \"value\": 6463}, \"321\": {\"frequency\": 1, \"value\": 321}, \"328\": {\"frequency\": 2, \"value\": 328}, \"331\": {\"frequency\": 3, \"value\": 331}, \"332\": {\"frequency\": 1, \"value\": 332}, \"334\": {\"frequency\": 1, \"value\": 334}, \"335\": {\"frequency\": 1, \"value\": 335}, \"2104\": {\"frequency\": 2, \"value\": 2104}, \"342\": {\"frequency\": 1, \"value\": 342}, \"2105\": {\"frequency\": 1, \"value\": 2105}, \"344\": {\"frequency\": 1, \"value\": 344}, \"345\": {\"frequency\": 1, \"value\": 345}, \"352\": {\"frequency\": 1, \"value\": 352}, \"357\": {\"frequency\": 1, \"value\": 357}, \"360\": {\"frequency\": 1, \"value\": 360}, \"361\": {\"frequency\": 1, \"value\": 361}, \"364\": {\"frequency\": 1, \"value\": 364}, \"367\": {\"frequency\": 1, \"value\": 367}, \"372\": {\"frequency\": 2, \"value\": 372}, \"373\": {\"frequency\": 1, \"value\": 373}, \"375\": {\"frequency\": 1, \"value\": 375}, \"378\": {\"frequency\": 1, \"value\": 378}, \"379\": {\"frequency\": 1, \"value\": 379}, \"384\": {\"frequency\": 1, \"value\": 384}, \"387\": {\"frequency\": 1, \"value\": 387}, \"390\": {\"frequency\": 1, \"value\": 390}, \"392\": {\"frequency\": 1, \"value\": 392}, \"393\": {\"frequency\": 1, \"value\": 393}, \"396\": {\"frequency\": 1, \"value\": 396}, \"399\": {\"frequency\": 1, \"value\": 399}, \"402\": {\"frequency\": 1, \"value\": 402}, \"405\": {\"frequency\": 1, \"value\": 405}, \"407\": {\"frequency\": 1, \"value\": 407}, \"2458\": {\"frequency\": 1, \"value\": 2458}, \"411\": {\"frequency\": 1, \"value\": 411}, \"413\": {\"frequency\": 1, \"value\": 413}, \"416\": {\"frequency\": 1, \"value\": 416}, \"428\": {\"frequency\": 1, \"value\": 428}, \"430\": {\"frequency\": 1, \"value\": 430}, \"433\": {\"frequency\": 1, \"value\": 433}, \"434\": {\"frequency\": 1, \"value\": 434}, \"435\": {\"frequency\": 1, \"value\": 435}, \"436\": {\"frequency\": 1, \"value\": 436}, \"440\": {\"frequency\": 1, \"value\": 440}, \"442\": {\"frequency\": 1, \"value\": 442}, \"447\": {\"frequency\": 1, \"value\": 447}, \"2501\": {\"frequency\": 1, \"value\": 2501}, \"4552\": {\"frequency\": 1, \"value\": 4552}, \"2127\": {\"frequency\": 1, \"value\": 2127}, \"492\": {\"frequency\": 1, \"value\": 492}, \"506\": {\"frequency\": 1, \"value\": 506}, \"509\": {\"frequency\": 1, \"value\": 509}, \"2816\": {\"frequency\": 1, \"value\": 2816}, \"523\": {\"frequency\": 1, \"value\": 523}, \"530\": {\"frequency\": 1, \"value\": 530}, \"539\": {\"frequency\": 1, \"value\": 539}, \"547\": {\"frequency\": 2, \"value\": 547}, \"550\": {\"frequency\": 1, \"value\": 550}, \"559\": {\"frequency\": 1, \"value\": 559}, \"2609\": {\"frequency\": 1, \"value\": 2609}, \"562\": {\"frequency\": 1, \"value\": 562}, \"566\": {\"frequency\": 1, \"value\": 566}, \"568\": {\"frequency\": 1, \"value\": 568}, \"572\": {\"frequency\": 2, \"value\": 572}, \"586\": {\"frequency\": 1, \"value\": 586}, \"590\": {\"frequency\": 1, \"value\": 590}, \"595\": {\"frequency\": 1, \"value\": 595}, \"609\": {\"frequency\": 1, \"value\": 609}, \"612\": {\"frequency\": 1, \"value\": 612}, \"625\": {\"frequency\": 1, \"value\": 625}, \"628\": {\"frequency\": 1, \"value\": 628}, \"629\": {\"frequency\": 1, \"value\": 629}, \"635\": {\"frequency\": 1, \"value\": 635}, \"654\": {\"frequency\": 1, \"value\": 654}, \"657\": {\"frequency\": 1, \"value\": 657}, \"681\": {\"frequency\": 1, \"value\": 681}, \"684\": {\"frequency\": 1, \"value\": 684}, \"2738\": {\"frequency\": 1, \"value\": 2738}, \"701\": {\"frequency\": 1, \"value\": 701}, \"702\": {\"frequency\": 1, \"value\": 702}, \"703\": {\"frequency\": 1, \"value\": 703}, \"705\": {\"frequency\": 1, \"value\": 705}, \"722\": {\"frequency\": 1, \"value\": 722}, \"730\": {\"frequency\": 1, \"value\": 730}, \"732\": {\"frequency\": 1, \"value\": 732}, \"743\": {\"frequency\": 1, \"value\": 743}, \"758\": {\"frequency\": 1, \"value\": 758}, \"2807\": {\"frequency\": 1, \"value\": 2807}, \"764\": {\"frequency\": 1, \"value\": 764}, \"768\": {\"frequency\": 1, \"value\": 768}, \"784\": {\"frequency\": 1, \"value\": 784}, \"805\": {\"frequency\": 1, \"value\": 805}, \"806\": {\"frequency\": 1, \"value\": 806}, \"2863\": {\"frequency\": 1, \"value\": 2863}, \"823\": {\"frequency\": 1, \"value\": 823}, \"824\": {\"frequency\": 1, \"value\": 824}, \"841\": {\"frequency\": 1, \"value\": 841}, \"851\": {\"frequency\": 1, \"value\": 851}, \"859\": {\"frequency\": 1, \"value\": 859}, \"865\": {\"frequency\": 1, \"value\": 865}, \"872\": {\"frequency\": 1, \"value\": 872}, \"875\": {\"frequency\": 1, \"value\": 875}, \"887\": {\"frequency\": 1, \"value\": 887}, \"889\": {\"frequency\": 2, \"value\": 889}, \"2954\": {\"frequency\": 1, \"value\": 2954}, \"911\": {\"frequency\": 1, \"value\": 911}, \"916\": {\"frequency\": 1, \"value\": 916}, \"922\": {\"frequency\": 1, \"value\": 922}, \"927\": {\"frequency\": 1, \"value\": 927}, \"938\": {\"frequency\": 1, \"value\": 938}, \"951\": {\"frequency\": 1, \"value\": 951}, \"7098\": {\"frequency\": 1, \"value\": 7098}, \"961\": {\"frequency\": 1, \"value\": 961}, \"969\": {\"frequency\": 1, \"value\": 969}, \"983\": {\"frequency\": 1, \"value\": 983}, \"987\": {\"frequency\": 1, \"value\": 987}, \"991\": {\"frequency\": 1, \"value\": 991}, \"992\": {\"frequency\": 1, \"value\": 992}, \"997\": {\"frequency\": 1, \"value\": 997}, \"1014\": {\"frequency\": 1, \"value\": 1014}, \"169\": {\"frequency\": 1, \"value\": 169}, \"1020\": {\"frequency\": 1, \"value\": 1020}, \"1030\": {\"frequency\": 1, \"value\": 1030}, \"513\": {\"frequency\": 1, \"value\": 513}, \"3085\": {\"frequency\": 1, \"value\": 3085}, \"174\": {\"frequency\": 1, \"value\": 174}, \"1074\": {\"frequency\": 1, \"value\": 1074}, \"3128\": {\"frequency\": 1, \"value\": 3128}, \"1086\": {\"frequency\": 1, \"value\": 1086}, \"1087\": {\"frequency\": 1, \"value\": 1087}, \"1135\": {\"frequency\": 1, \"value\": 1135}, \"1146\": {\"frequency\": 1, \"value\": 1146}, \"5251\": {\"frequency\": 1, \"value\": 5251}, \"1169\": {\"frequency\": 1, \"value\": 1169}, \"1170\": {\"frequency\": 1, \"value\": 1170}, \"1174\": {\"frequency\": 1, \"value\": 1174}, \"1199\": {\"frequency\": 1, \"value\": 1199}, \"1207\": {\"frequency\": 1, \"value\": 1207}, \"204\": {\"frequency\": 1, \"value\": 204}, \"1276\": {\"frequency\": 1, \"value\": 1276}, \"1318\": {\"frequency\": 1, \"value\": 1318}, \"3404\": {\"frequency\": 1, \"value\": 3404}, \"1358\": {\"frequency\": 1, \"value\": 1358}, \"3432\": {\"frequency\": 1, \"value\": 3432}, \"13677\": {\"frequency\": 1, \"value\": 13677}, \"1400\": {\"frequency\": 1, \"value\": 1400}, \"1410\": {\"frequency\": 1, \"value\": 1410}, \"1413\": {\"frequency\": 1, \"value\": 1413}, \"1417\": {\"frequency\": 1, \"value\": 1417}, \"237\": {\"frequency\": 1, \"value\": 237}, \"243\": {\"frequency\": 1, \"value\": 243}, \"1483\": {\"frequency\": 1, \"value\": 1483}, \"1499\": {\"frequency\": 1, \"value\": 1499}, \"1508\": {\"frequency\": 1, \"value\": 1508}, \"11790\": {\"frequency\": 1, \"value\": 11790}, \"5648\": {\"frequency\": 1, \"value\": 5648}, \"24100\": {\"frequency\": 1, \"value\": 24100}, \"7760\": {\"frequency\": 1, \"value\": 7760}, \"1623\": {\"frequency\": 1, \"value\": 1623}, \"1625\": {\"frequency\": 1, \"value\": 1625}, \"954\": {\"frequency\": 1, \"value\": 954}, \"11888\": {\"frequency\": 1, \"value\": 11888}, \"1651\": {\"frequency\": 1, \"value\": 1651}, \"1655\": {\"frequency\": 1, \"value\": 1655}, \"13980\": {\"frequency\": 1, \"value\": 13980}, \"1693\": {\"frequency\": 1, \"value\": 1693}, \"1694\": {\"frequency\": 1, \"value\": 1694}, \"1717\": {\"frequency\": 1, \"value\": 1717}, \"14037\": {\"frequency\": 1, \"value\": 14037}, \"1757\": {\"frequency\": 1, \"value\": 1757}, \"30450\": {\"frequency\": 1, \"value\": 30450}, \"9976\": {\"frequency\": 1, \"value\": 9976}, \"1785\": {\"frequency\": 1, \"value\": 1785}, \"3841\": {\"frequency\": 1, \"value\": 3841}, \"1844\": {\"frequency\": 1, \"value\": 1844}, \"1875\": {\"frequency\": 1, \"value\": 1875}, \"1877\": {\"frequency\": 1, \"value\": 1877}, \"1883\": {\"frequency\": 1, \"value\": 1883}, \"1898\": {\"frequency\": 1, \"value\": 1898}, \"1979\": {\"frequency\": 1, \"value\": 1979}, \"4050\": {\"frequency\": 1, \"value\": 4050}, \"337\": {\"frequency\": 1, \"value\": 337}}, \"mean\": 2.218277203683913}, \"total_degree\": {\"std\": 120.16877578853997, \"complete\": true, \"min\": 1.0, \"max\": 30913.0, \"quantile\": [1.0, 1.0, 1.0, 1.0, 1.0, 1.0, 1.0, 1.0, 1.0, 1.0, 1.0, 1.0, 1.0, 1.0, 1.0, 1.0, 1.0, 1.0, 1.0, 1.0, 1.0, 1.0, 1.0, 1.0, 1.0, 1.0, 1.0, 1.0, 1.0, 1.0, 1.0, 1.0, 1.0, 1.0, 1.0, 1.0, 1.0, 1.0, 1.0, 1.0, 1.0, 1.0, 1.0, 1.0, 1.0, 1.0, 1.0, 1.0, 1.0, 1.0, 1.0, 1.0, 1.0, 1.0, 1.0, 1.0, 1.0, 1.0, 1.0, 1.0, 1.0, 1.0, 1.0, 2.0, 2.0, 2.0, 2.0, 2.0, 2.0, 2.0, 2.0, 2.0, 2.0, 2.0, 2.0, 2.0, 2.0, 2.0, 2.0, 2.0, 2.0, 2.0, 3.0, 3.0, 3.0, 3.0, 3.0, 3.0, 3.0, 4.0, 4.0, 4.0, 5.0, 5.0, 6.0, 6.0, 7.0, 9.0, 13.0, 24.0, 30913.0], \"median\": 1.0, \"numeric\": true, \"num_unique\": 497, \"num_undefined\": 0, \"var\": 14440.534674516392, \"progress\": 1.0, \"size\": 233121, \"frequent_items\": {\"1\": {\"frequency\": 145577, \"value\": 1}, \"2\": {\"frequency\": 43702, \"value\": 2}, \"3\": {\"frequency\": 16611, \"value\": 3}, \"4\": {\"frequency\": 8470, \"value\": 4}, \"5\": {\"frequency\": 4698, \"value\": 5}, \"6\": {\"frequency\": 3049, \"value\": 6}, \"7\": {\"frequency\": 2099, \"value\": 7}, \"8\": {\"frequency\": 1419, \"value\": 8}, \"9\": {\"frequency\": 1046, \"value\": 9}, \"10\": {\"frequency\": 734, \"value\": 10}, \"11\": {\"frequency\": 576, \"value\": 11}, \"12\": {\"frequency\": 505, \"value\": 12}, \"13\": {\"frequency\": 371, \"value\": 13}, \"14\": {\"frequency\": 320, \"value\": 14}, \"15\": {\"frequency\": 206, \"value\": 15}, \"16\": {\"frequency\": 214, \"value\": 16}, \"17\": {\"frequency\": 200, \"value\": 17}, \"18\": {\"frequency\": 179, \"value\": 18}, \"19\": {\"frequency\": 151, \"value\": 19}, \"20\": {\"frequency\": 138, \"value\": 20}, \"21\": {\"frequency\": 145, \"value\": 21}, \"22\": {\"frequency\": 142, \"value\": 22}, \"23\": {\"frequency\": 132, \"value\": 23}, \"24\": {\"frequency\": 101, \"value\": 24}, \"25\": {\"frequency\": 76, \"value\": 25}, \"26\": {\"frequency\": 103, \"value\": 26}, \"27\": {\"frequency\": 83, \"value\": 27}, \"28\": {\"frequency\": 68, \"value\": 28}, \"29\": {\"frequency\": 74, \"value\": 29}, \"30\": {\"frequency\": 80, \"value\": 30}, \"31\": {\"frequency\": 46, \"value\": 31}, \"32\": {\"frequency\": 62, \"value\": 32}, \"33\": {\"frequency\": 56, \"value\": 33}, \"34\": {\"frequency\": 55, \"value\": 34}, \"35\": {\"frequency\": 36, \"value\": 35}, \"36\": {\"frequency\": 36, \"value\": 36}, \"37\": {\"frequency\": 30, \"value\": 37}, \"38\": {\"frequency\": 29, \"value\": 38}, \"39\": {\"frequency\": 35, \"value\": 39}, \"40\": {\"frequency\": 37, \"value\": 40}, \"41\": {\"frequency\": 23, \"value\": 41}, \"42\": {\"frequency\": 27, \"value\": 42}, \"43\": {\"frequency\": 26, \"value\": 43}, \"44\": {\"frequency\": 26, \"value\": 44}, \"45\": {\"frequency\": 22, \"value\": 45}, \"46\": {\"frequency\": 21, \"value\": 46}, \"47\": {\"frequency\": 26, \"value\": 47}, \"48\": {\"frequency\": 19, \"value\": 48}, \"49\": {\"frequency\": 26, \"value\": 49}, \"50\": {\"frequency\": 11, \"value\": 50}, \"51\": {\"frequency\": 20, \"value\": 51}, \"52\": {\"frequency\": 24, \"value\": 52}, \"53\": {\"frequency\": 16, \"value\": 53}, \"54\": {\"frequency\": 17, \"value\": 54}, \"55\": {\"frequency\": 19, \"value\": 55}, \"56\": {\"frequency\": 20, \"value\": 56}, \"2105\": {\"frequency\": 1, \"value\": 2105}, \"58\": {\"frequency\": 14, \"value\": 58}, \"59\": {\"frequency\": 22, \"value\": 59}, \"60\": {\"frequency\": 20, \"value\": 60}, \"61\": {\"frequency\": 14, \"value\": 61}, \"62\": {\"frequency\": 14, \"value\": 62}, \"63\": {\"frequency\": 12, \"value\": 63}, \"64\": {\"frequency\": 14, \"value\": 64}, \"65\": {\"frequency\": 8, \"value\": 65}, \"66\": {\"frequency\": 17, \"value\": 66}, \"67\": {\"frequency\": 8, \"value\": 67}, \"68\": {\"frequency\": 10, \"value\": 68}, \"69\": {\"frequency\": 5, \"value\": 69}, \"70\": {\"frequency\": 9, \"value\": 70}, \"71\": {\"frequency\": 11, \"value\": 71}, \"72\": {\"frequency\": 6, \"value\": 72}, \"73\": {\"frequency\": 8, \"value\": 73}, \"74\": {\"frequency\": 8, \"value\": 74}, \"75\": {\"frequency\": 7, \"value\": 75}, \"76\": {\"frequency\": 13, \"value\": 76}, \"77\": {\"frequency\": 8, \"value\": 77}, \"78\": {\"frequency\": 6, \"value\": 78}, \"79\": {\"frequency\": 10, \"value\": 79}, \"80\": {\"frequency\": 10, \"value\": 80}, \"81\": {\"frequency\": 9, \"value\": 81}, \"82\": {\"frequency\": 15, \"value\": 82}, \"83\": {\"frequency\": 11, \"value\": 83}, \"84\": {\"frequency\": 4, \"value\": 84}, \"85\": {\"frequency\": 12, \"value\": 85}, \"86\": {\"frequency\": 6, \"value\": 86}, \"87\": {\"frequency\": 10, \"value\": 87}, \"88\": {\"frequency\": 12, \"value\": 88}, \"89\": {\"frequency\": 2, \"value\": 89}, \"90\": {\"frequency\": 2, \"value\": 90}, \"91\": {\"frequency\": 7, \"value\": 91}, \"92\": {\"frequency\": 5, \"value\": 92}, \"93\": {\"frequency\": 3, \"value\": 93}, \"94\": {\"frequency\": 9, \"value\": 94}, \"95\": {\"frequency\": 6, \"value\": 95}, \"96\": {\"frequency\": 8, \"value\": 96}, \"97\": {\"frequency\": 5, \"value\": 97}, \"98\": {\"frequency\": 6, \"value\": 98}, \"99\": {\"frequency\": 3, \"value\": 99}, \"100\": {\"frequency\": 6, \"value\": 100}, \"101\": {\"frequency\": 5, \"value\": 101}, \"102\": {\"frequency\": 9, \"value\": 102}, \"103\": {\"frequency\": 3, \"value\": 103}, \"104\": {\"frequency\": 3, \"value\": 104}, \"105\": {\"frequency\": 8, \"value\": 105}, \"106\": {\"frequency\": 7, \"value\": 106}, \"107\": {\"frequency\": 4, \"value\": 107}, \"108\": {\"frequency\": 7, \"value\": 108}, \"109\": {\"frequency\": 4, \"value\": 109}, \"110\": {\"frequency\": 6, \"value\": 110}, \"111\": {\"frequency\": 6, \"value\": 111}, \"112\": {\"frequency\": 6, \"value\": 112}, \"113\": {\"frequency\": 5, \"value\": 113}, \"114\": {\"frequency\": 3, \"value\": 114}, \"115\": {\"frequency\": 3, \"value\": 115}, \"116\": {\"frequency\": 5, \"value\": 116}, \"117\": {\"frequency\": 6, \"value\": 117}, \"118\": {\"frequency\": 4, \"value\": 118}, \"361\": {\"frequency\": 1, \"value\": 361}, \"120\": {\"frequency\": 2, \"value\": 120}, \"121\": {\"frequency\": 3, \"value\": 121}, \"122\": {\"frequency\": 4, \"value\": 122}, \"123\": {\"frequency\": 4, \"value\": 123}, \"124\": {\"frequency\": 2, \"value\": 124}, \"125\": {\"frequency\": 2, \"value\": 125}, \"126\": {\"frequency\": 3, \"value\": 126}, \"127\": {\"frequency\": 4, \"value\": 127}, \"128\": {\"frequency\": 5, \"value\": 128}, \"129\": {\"frequency\": 4, \"value\": 129}, \"130\": {\"frequency\": 6, \"value\": 130}, \"131\": {\"frequency\": 5, \"value\": 131}, \"132\": {\"frequency\": 7, \"value\": 132}, \"133\": {\"frequency\": 2, \"value\": 133}, \"134\": {\"frequency\": 8, \"value\": 134}, \"135\": {\"frequency\": 7, \"value\": 135}, \"136\": {\"frequency\": 3, \"value\": 136}, \"137\": {\"frequency\": 2, \"value\": 137}, \"138\": {\"frequency\": 3, \"value\": 138}, \"139\": {\"frequency\": 2, \"value\": 139}, \"140\": {\"frequency\": 3, \"value\": 140}, \"141\": {\"frequency\": 3, \"value\": 141}, \"142\": {\"frequency\": 2, \"value\": 142}, \"143\": {\"frequency\": 4, \"value\": 143}, \"144\": {\"frequency\": 1, \"value\": 144}, \"145\": {\"frequency\": 5, \"value\": 145}, \"146\": {\"frequency\": 1, \"value\": 146}, \"147\": {\"frequency\": 4, \"value\": 147}, \"148\": {\"frequency\": 4, \"value\": 148}, \"149\": {\"frequency\": 2, \"value\": 149}, \"150\": {\"frequency\": 6, \"value\": 150}, \"151\": {\"frequency\": 1, \"value\": 151}, \"153\": {\"frequency\": 3, \"value\": 153}, \"154\": {\"frequency\": 2, \"value\": 154}, \"155\": {\"frequency\": 2, \"value\": 155}, \"156\": {\"frequency\": 1, \"value\": 156}, \"157\": {\"frequency\": 1, \"value\": 157}, \"159\": {\"frequency\": 1, \"value\": 159}, \"160\": {\"frequency\": 2, \"value\": 160}, \"161\": {\"frequency\": 2, \"value\": 161}, \"163\": {\"frequency\": 1, \"value\": 163}, \"164\": {\"frequency\": 3, \"value\": 164}, \"165\": {\"frequency\": 3, \"value\": 165}, \"166\": {\"frequency\": 3, \"value\": 166}, \"167\": {\"frequency\": 3, \"value\": 167}, \"168\": {\"frequency\": 1, \"value\": 168}, \"169\": {\"frequency\": 3, \"value\": 169}, \"170\": {\"frequency\": 4, \"value\": 170}, \"171\": {\"frequency\": 1, \"value\": 171}, \"172\": {\"frequency\": 1, \"value\": 172}, \"173\": {\"frequency\": 2, \"value\": 173}, \"174\": {\"frequency\": 2, \"value\": 174}, \"175\": {\"frequency\": 2, \"value\": 175}, \"176\": {\"frequency\": 2, \"value\": 176}, \"177\": {\"frequency\": 2, \"value\": 177}, \"178\": {\"frequency\": 2, \"value\": 178}, \"179\": {\"frequency\": 1, \"value\": 179}, \"181\": {\"frequency\": 3, \"value\": 181}, \"182\": {\"frequency\": 1, \"value\": 182}, \"183\": {\"frequency\": 3, \"value\": 183}, \"184\": {\"frequency\": 1, \"value\": 184}, \"185\": {\"frequency\": 2, \"value\": 185}, \"186\": {\"frequency\": 1, \"value\": 186}, \"187\": {\"frequency\": 2, \"value\": 187}, \"188\": {\"frequency\": 3, \"value\": 188}, \"189\": {\"frequency\": 4, \"value\": 189}, \"190\": {\"frequency\": 4, \"value\": 190}, \"191\": {\"frequency\": 2, \"value\": 191}, \"192\": {\"frequency\": 5, \"value\": 192}, \"193\": {\"frequency\": 1, \"value\": 193}, \"194\": {\"frequency\": 1, \"value\": 194}, \"195\": {\"frequency\": 2, \"value\": 195}, \"196\": {\"frequency\": 1, \"value\": 196}, \"197\": {\"frequency\": 1, \"value\": 197}, \"199\": {\"frequency\": 1, \"value\": 199}, \"200\": {\"frequency\": 1, \"value\": 200}, \"201\": {\"frequency\": 1, \"value\": 201}, \"202\": {\"frequency\": 2, \"value\": 202}, \"203\": {\"frequency\": 3, \"value\": 203}, \"205\": {\"frequency\": 1, \"value\": 205}, \"2255\": {\"frequency\": 1, \"value\": 2255}, \"208\": {\"frequency\": 3, \"value\": 208}, \"210\": {\"frequency\": 3, \"value\": 210}, \"4307\": {\"frequency\": 1, \"value\": 4307}, \"213\": {\"frequency\": 5, \"value\": 213}, \"215\": {\"frequency\": 2, \"value\": 215}, \"216\": {\"frequency\": 1, \"value\": 216}, \"2084\": {\"frequency\": 1, \"value\": 2084}, \"218\": {\"frequency\": 2, \"value\": 218}, \"219\": {\"frequency\": 3, \"value\": 219}, \"221\": {\"frequency\": 2, \"value\": 221}, \"222\": {\"frequency\": 1, \"value\": 222}, \"223\": {\"frequency\": 1, \"value\": 223}, \"2272\": {\"frequency\": 1, \"value\": 2272}, \"2768\": {\"frequency\": 1, \"value\": 2768}, \"226\": {\"frequency\": 3, \"value\": 226}, \"227\": {\"frequency\": 2, \"value\": 227}, \"228\": {\"frequency\": 1, \"value\": 228}, \"231\": {\"frequency\": 1, \"value\": 231}, \"234\": {\"frequency\": 3, \"value\": 234}, \"236\": {\"frequency\": 1, \"value\": 236}, \"237\": {\"frequency\": 1, \"value\": 237}, \"238\": {\"frequency\": 1, \"value\": 238}, \"239\": {\"frequency\": 2, \"value\": 239}, \"240\": {\"frequency\": 2, \"value\": 240}, \"242\": {\"frequency\": 1, \"value\": 242}, \"244\": {\"frequency\": 3, \"value\": 244}, \"245\": {\"frequency\": 4, \"value\": 245}, \"246\": {\"frequency\": 1, \"value\": 246}, \"249\": {\"frequency\": 2, \"value\": 249}, \"250\": {\"frequency\": 4, \"value\": 250}, \"252\": {\"frequency\": 1, \"value\": 252}, \"254\": {\"frequency\": 1, \"value\": 254}, \"257\": {\"frequency\": 1, \"value\": 257}, \"258\": {\"frequency\": 3, \"value\": 258}, \"259\": {\"frequency\": 2, \"value\": 259}, \"260\": {\"frequency\": 1, \"value\": 260}, \"261\": {\"frequency\": 1, \"value\": 261}, \"263\": {\"frequency\": 2, \"value\": 263}, \"265\": {\"frequency\": 1, \"value\": 265}, \"266\": {\"frequency\": 1, \"value\": 266}, \"267\": {\"frequency\": 1, \"value\": 267}, \"268\": {\"frequency\": 2, \"value\": 268}, \"269\": {\"frequency\": 1, \"value\": 269}, \"271\": {\"frequency\": 1, \"value\": 271}, \"272\": {\"frequency\": 2, \"value\": 272}, \"274\": {\"frequency\": 2, \"value\": 274}, \"275\": {\"frequency\": 1, \"value\": 275}, \"277\": {\"frequency\": 1, \"value\": 277}, \"278\": {\"frequency\": 2, \"value\": 278}, \"279\": {\"frequency\": 2, \"value\": 279}, \"280\": {\"frequency\": 2, \"value\": 280}, \"282\": {\"frequency\": 1, \"value\": 282}, \"283\": {\"frequency\": 1, \"value\": 283}, \"285\": {\"frequency\": 2, \"value\": 285}, \"286\": {\"frequency\": 1, \"value\": 286}, \"287\": {\"frequency\": 1, \"value\": 287}, \"289\": {\"frequency\": 1, \"value\": 289}, \"290\": {\"frequency\": 1, \"value\": 290}, \"292\": {\"frequency\": 1, \"value\": 292}, \"294\": {\"frequency\": 2, \"value\": 294}, \"297\": {\"frequency\": 2, \"value\": 297}, \"298\": {\"frequency\": 1, \"value\": 298}, \"300\": {\"frequency\": 1, \"value\": 300}, \"301\": {\"frequency\": 1, \"value\": 301}, \"305\": {\"frequency\": 4, \"value\": 305}, \"306\": {\"frequency\": 2, \"value\": 306}, \"307\": {\"frequency\": 2, \"value\": 307}, \"308\": {\"frequency\": 1, \"value\": 308}, \"309\": {\"frequency\": 1, \"value\": 309}, \"310\": {\"frequency\": 2, \"value\": 310}, \"311\": {\"frequency\": 1, \"value\": 311}, \"312\": {\"frequency\": 1, \"value\": 312}, \"313\": {\"frequency\": 2, \"value\": 313}, \"316\": {\"frequency\": 1, \"value\": 316}, \"317\": {\"frequency\": 1, \"value\": 317}, \"318\": {\"frequency\": 1, \"value\": 318}, \"319\": {\"frequency\": 1, \"value\": 319}, \"321\": {\"frequency\": 1, \"value\": 321}, \"325\": {\"frequency\": 1, \"value\": 325}, \"326\": {\"frequency\": 1, \"value\": 326}, \"327\": {\"frequency\": 2, \"value\": 327}, \"329\": {\"frequency\": 2, \"value\": 329}, \"330\": {\"frequency\": 1, \"value\": 330}, \"331\": {\"frequency\": 1, \"value\": 331}, \"332\": {\"frequency\": 2, \"value\": 332}, \"339\": {\"frequency\": 2, \"value\": 339}, \"341\": {\"frequency\": 1, \"value\": 341}, \"342\": {\"frequency\": 1, \"value\": 342}, \"57\": {\"frequency\": 12, \"value\": 57}, \"2392\": {\"frequency\": 1, \"value\": 2392}, \"345\": {\"frequency\": 1, \"value\": 345}, \"349\": {\"frequency\": 1, \"value\": 349}, \"350\": {\"frequency\": 1, \"value\": 350}, \"351\": {\"frequency\": 1, \"value\": 351}, \"352\": {\"frequency\": 1, \"value\": 352}, \"353\": {\"frequency\": 2, \"value\": 353}, \"2402\": {\"frequency\": 1, \"value\": 2402}, \"357\": {\"frequency\": 1, \"value\": 357}, \"359\": {\"frequency\": 1, \"value\": 359}, \"360\": {\"frequency\": 1, \"value\": 360}, \"4457\": {\"frequency\": 1, \"value\": 4457}, \"366\": {\"frequency\": 1, \"value\": 366}, \"367\": {\"frequency\": 2, \"value\": 367}, \"370\": {\"frequency\": 1, \"value\": 370}, \"372\": {\"frequency\": 1, \"value\": 372}, \"376\": {\"frequency\": 2, \"value\": 376}, \"383\": {\"frequency\": 1, \"value\": 383}, \"388\": {\"frequency\": 1, \"value\": 388}, \"392\": {\"frequency\": 1, \"value\": 392}, \"394\": {\"frequency\": 1, \"value\": 394}, \"397\": {\"frequency\": 1, \"value\": 397}, \"398\": {\"frequency\": 1, \"value\": 398}, \"401\": {\"frequency\": 2, \"value\": 401}, \"409\": {\"frequency\": 1, \"value\": 409}, \"414\": {\"frequency\": 1, \"value\": 414}, \"420\": {\"frequency\": 2, \"value\": 420}, \"422\": {\"frequency\": 1, \"value\": 422}, \"426\": {\"frequency\": 1, \"value\": 426}, \"429\": {\"frequency\": 1, \"value\": 429}, \"430\": {\"frequency\": 1, \"value\": 430}, \"432\": {\"frequency\": 1, \"value\": 432}, \"435\": {\"frequency\": 1, \"value\": 435}, \"2485\": {\"frequency\": 1, \"value\": 2485}, \"438\": {\"frequency\": 1, \"value\": 438}, \"440\": {\"frequency\": 1, \"value\": 440}, \"442\": {\"frequency\": 1, \"value\": 442}, \"443\": {\"frequency\": 2, \"value\": 443}, \"446\": {\"frequency\": 2, \"value\": 446}, \"449\": {\"frequency\": 2, \"value\": 449}, \"453\": {\"frequency\": 1, \"value\": 453}, \"454\": {\"frequency\": 2, \"value\": 454}, \"462\": {\"frequency\": 2, \"value\": 462}, \"469\": {\"frequency\": 1, \"value\": 469}, \"472\": {\"frequency\": 1, \"value\": 472}, \"479\": {\"frequency\": 1, \"value\": 479}, \"482\": {\"frequency\": 1, \"value\": 482}, \"487\": {\"frequency\": 2, \"value\": 487}, \"493\": {\"frequency\": 1, \"value\": 493}, \"494\": {\"frequency\": 1, \"value\": 494}, \"495\": {\"frequency\": 1, \"value\": 495}, \"500\": {\"frequency\": 2, \"value\": 500}, \"502\": {\"frequency\": 2, \"value\": 502}, \"504\": {\"frequency\": 1, \"value\": 504}, \"507\": {\"frequency\": 2, \"value\": 507}, \"4613\": {\"frequency\": 1, \"value\": 4613}, \"4619\": {\"frequency\": 1, \"value\": 4619}, \"524\": {\"frequency\": 1, \"value\": 524}, \"530\": {\"frequency\": 1, \"value\": 530}, \"534\": {\"frequency\": 1, \"value\": 534}, \"535\": {\"frequency\": 1, \"value\": 535}, \"544\": {\"frequency\": 1, \"value\": 544}, \"547\": {\"frequency\": 1, \"value\": 547}, \"550\": {\"frequency\": 1, \"value\": 550}, \"551\": {\"frequency\": 1, \"value\": 551}, \"558\": {\"frequency\": 1, \"value\": 558}, \"569\": {\"frequency\": 1, \"value\": 569}, \"571\": {\"frequency\": 1, \"value\": 571}, \"2622\": {\"frequency\": 1, \"value\": 2622}, \"584\": {\"frequency\": 1, \"value\": 584}, \"585\": {\"frequency\": 1, \"value\": 585}, \"586\": {\"frequency\": 1, \"value\": 586}, \"587\": {\"frequency\": 1, \"value\": 587}, \"2646\": {\"frequency\": 1, \"value\": 2646}, \"604\": {\"frequency\": 2, \"value\": 604}, \"4703\": {\"frequency\": 1, \"value\": 4703}, \"2491\": {\"frequency\": 1, \"value\": 2491}, \"618\": {\"frequency\": 1, \"value\": 618}, \"620\": {\"frequency\": 1, \"value\": 620}, \"635\": {\"frequency\": 1, \"value\": 635}, \"648\": {\"frequency\": 1, \"value\": 648}, \"651\": {\"frequency\": 1, \"value\": 651}, \"664\": {\"frequency\": 1, \"value\": 664}, \"667\": {\"frequency\": 1, \"value\": 667}, \"2501\": {\"frequency\": 1, \"value\": 2501}, \"672\": {\"frequency\": 3, \"value\": 672}, \"6833\": {\"frequency\": 1, \"value\": 6833}, \"692\": {\"frequency\": 1, \"value\": 692}, \"697\": {\"frequency\": 2, \"value\": 697}, \"708\": {\"frequency\": 1, \"value\": 708}, \"119\": {\"frequency\": 2, \"value\": 119}, \"720\": {\"frequency\": 1, \"value\": 720}, \"728\": {\"frequency\": 1, \"value\": 728}, \"737\": {\"frequency\": 1, \"value\": 737}, \"757\": {\"frequency\": 1, \"value\": 757}, \"762\": {\"frequency\": 1, \"value\": 762}, \"768\": {\"frequency\": 1, \"value\": 768}, \"770\": {\"frequency\": 1, \"value\": 770}, \"774\": {\"frequency\": 1, \"value\": 774}, \"777\": {\"frequency\": 1, \"value\": 777}, \"788\": {\"frequency\": 1, \"value\": 788}, \"798\": {\"frequency\": 1, \"value\": 798}, \"808\": {\"frequency\": 2, \"value\": 808}, \"816\": {\"frequency\": 1, \"value\": 816}, \"819\": {\"frequency\": 1, \"value\": 819}, \"826\": {\"frequency\": 1, \"value\": 826}, \"827\": {\"frequency\": 1, \"value\": 827}, \"833\": {\"frequency\": 1, \"value\": 833}, \"836\": {\"frequency\": 1, \"value\": 836}, \"2893\": {\"frequency\": 1, \"value\": 2893}, \"849\": {\"frequency\": 1, \"value\": 849}, \"866\": {\"frequency\": 1, \"value\": 866}, \"14350\": {\"frequency\": 1, \"value\": 14350}, \"882\": {\"frequency\": 1, \"value\": 882}, \"2931\": {\"frequency\": 1, \"value\": 2931}, \"902\": {\"frequency\": 1, \"value\": 902}, \"2972\": {\"frequency\": 1, \"value\": 2972}, \"929\": {\"frequency\": 1, \"value\": 929}, \"2205\": {\"frequency\": 1, \"value\": 2205}, \"944\": {\"frequency\": 1, \"value\": 944}, \"946\": {\"frequency\": 2, \"value\": 946}, \"3000\": {\"frequency\": 1, \"value\": 3000}, \"955\": {\"frequency\": 1, \"value\": 955}, \"960\": {\"frequency\": 2, \"value\": 960}, \"978\": {\"frequency\": 1, \"value\": 978}, \"980\": {\"frequency\": 1, \"value\": 980}, \"988\": {\"frequency\": 1, \"value\": 988}, \"992\": {\"frequency\": 1, \"value\": 992}, \"1010\": {\"frequency\": 1, \"value\": 1010}, \"1019\": {\"frequency\": 1, \"value\": 1019}, \"1021\": {\"frequency\": 1, \"value\": 1021}, \"1028\": {\"frequency\": 1, \"value\": 1028}, \"1030\": {\"frequency\": 1, \"value\": 1030}, \"1049\": {\"frequency\": 1, \"value\": 1049}, \"1062\": {\"frequency\": 1, \"value\": 1062}, \"2225\": {\"frequency\": 1, \"value\": 2225}, \"1073\": {\"frequency\": 1, \"value\": 1073}, \"2229\": {\"frequency\": 1, \"value\": 2229}, \"1092\": {\"frequency\": 1, \"value\": 1092}, \"1098\": {\"frequency\": 1, \"value\": 1098}, \"1100\": {\"frequency\": 1, \"value\": 1100}, \"1105\": {\"frequency\": 1, \"value\": 1105}, \"3171\": {\"frequency\": 1, \"value\": 3171}, \"1126\": {\"frequency\": 1, \"value\": 1126}, \"1130\": {\"frequency\": 1, \"value\": 1130}, \"24588\": {\"frequency\": 1, \"value\": 24588}, \"1150\": {\"frequency\": 1, \"value\": 1150}, \"1156\": {\"frequency\": 1, \"value\": 1156}, \"30913\": {\"frequency\": 1, \"value\": 30913}, \"1172\": {\"frequency\": 1, \"value\": 1172}, \"1180\": {\"frequency\": 1, \"value\": 1180}, \"1183\": {\"frequency\": 1, \"value\": 1183}, \"1191\": {\"frequency\": 1, \"value\": 1191}, \"7339\": {\"frequency\": 1, \"value\": 7339}, \"1203\": {\"frequency\": 1, \"value\": 1203}, \"1208\": {\"frequency\": 1, \"value\": 1208}, \"1225\": {\"frequency\": 1, \"value\": 1225}, \"1232\": {\"frequency\": 1, \"value\": 1232}, \"207\": {\"frequency\": 1, \"value\": 207}, \"1248\": {\"frequency\": 1, \"value\": 1248}, \"1249\": {\"frequency\": 1, \"value\": 1249}, \"1261\": {\"frequency\": 1, \"value\": 1261}, \"211\": {\"frequency\": 1, \"value\": 211}, \"1288\": {\"frequency\": 1, \"value\": 1288}, \"217\": {\"frequency\": 1, \"value\": 217}, \"1321\": {\"frequency\": 1, \"value\": 1321}, \"1323\": {\"frequency\": 1, \"value\": 1323}, \"1335\": {\"frequency\": 1, \"value\": 1335}, \"1362\": {\"frequency\": 1, \"value\": 1362}, \"8761\": {\"frequency\": 1, \"value\": 8761}, \"5513\": {\"frequency\": 1, \"value\": 5513}, \"1419\": {\"frequency\": 1, \"value\": 1419}, \"3476\": {\"frequency\": 1, \"value\": 3476}, \"3481\": {\"frequency\": 1, \"value\": 3481}, \"13724\": {\"frequency\": 1, \"value\": 13724}, \"1267\": {\"frequency\": 1, \"value\": 1267}, \"1500\": {\"frequency\": 1, \"value\": 1500}, \"1515\": {\"frequency\": 1, \"value\": 1515}, \"1532\": {\"frequency\": 1, \"value\": 1532}, \"1539\": {\"frequency\": 1, \"value\": 1539}, \"1581\": {\"frequency\": 1, \"value\": 1581}, \"1589\": {\"frequency\": 1, \"value\": 1589}, \"1594\": {\"frequency\": 1, \"value\": 1594}, \"3654\": {\"frequency\": 1, \"value\": 3654}, \"1617\": {\"frequency\": 1, \"value\": 1617}, \"1633\": {\"frequency\": 1, \"value\": 1633}, \"1639\": {\"frequency\": 1, \"value\": 1639}, \"3694\": {\"frequency\": 1, \"value\": 3694}, \"343\": {\"frequency\": 1, \"value\": 343}, \"1303\": {\"frequency\": 1, \"value\": 1303}, \"1797\": {\"frequency\": 1, \"value\": 1797}, \"1826\": {\"frequency\": 1, \"value\": 1826}, \"1838\": {\"frequency\": 1, \"value\": 1838}, \"1844\": {\"frequency\": 1, \"value\": 1844}, \"8050\": {\"frequency\": 1, \"value\": 8050}, \"6004\": {\"frequency\": 1, \"value\": 6004}, \"1945\": {\"frequency\": 1, \"value\": 1945}, \"2374\": {\"frequency\": 1, \"value\": 2374}, \"1963\": {\"frequency\": 1, \"value\": 1963}, \"1979\": {\"frequency\": 1, \"value\": 1979}, \"1980\": {\"frequency\": 1, \"value\": 1980}, \"12221\": {\"frequency\": 1, \"value\": 12221}, \"4031\": {\"frequency\": 1, \"value\": 4031}, \"1992\": {\"frequency\": 1, \"value\": 1992}, \"2004\": {\"frequency\": 1, \"value\": 2004}, \"2021\": {\"frequency\": 1, \"value\": 2021}, \"14317\": {\"frequency\": 1, \"value\": 14317}, \"10297\": {\"frequency\": 1, \"value\": 10297}, \"12284\": {\"frequency\": 1, \"value\": 12284}, \"2047\": {\"frequency\": 1, \"value\": 2047}}, \"mean\": 4.436554407367858}, \"__id\": {\"complete\": true, \"numeric\": false, \"num_unique\": 232984, \"num_undefined\": 0, \"progress\": 1.0, \"frequent_items\": {}, \"size\": 233121}}, \"selected_variable\": {\"name\": [\"<SFrame>\"], \"descriptives\": {\"rows\": 233121, \"columns\": 4}, \"view_component\": \"Summary\", \"view_file\": \"sframe\", \"view_params\": {\"y\": null, \"x\": null, \"columns\": [\"__id\", \"in_degree\", \"out_degree\", \"total_degree\"], \"view\": null}, \"view_components\": [\"Summary\", \"Table\", \"Bar Chart\", \"BoxWhisker Plot\", \"Line Chart\", \"Scatter Plot\", \"Heat Map\", \"Plots\"], \"type\": \"SFrame\", \"columns\": [{\"dtype\": \"str\", \"name\": \"__id\"}, {\"dtype\": \"int\", \"name\": \"in_degree\"}, {\"dtype\": \"int\", \"name\": \"out_degree\"}, {\"dtype\": \"int\", \"name\": \"total_degree\"}], \"column_identifiers\": [\"out_degree\", \"in_degree\", \"total_degree\", \"__id\"]}, \"columns\": [{\"dtype\": \"str\", \"name\": \"__id\"}, {\"dtype\": \"int\", \"name\": \"in_degree\"}, {\"dtype\": \"int\", \"name\": \"out_degree\"}, {\"dtype\": \"int\", \"name\": \"total_degree\"}]}, e);\n",
       "                });\n",
       "            })();\n",
       "        "
      ]
     },
     "metadata": {},
     "output_type": "display_data"
    },
    {
     "name": "stdout",
     "output_type": "stream",
     "text": [
      "+-------------------------------+-----------+------------+--------------+\n",
      "|              __id             | in_degree | out_degree | total_degree |\n",
      "+-------------------------------+-----------+------------+--------------+\n",
      "|    The Walt Disney Company    |    4364   |    339     |     4703     |\n",
      "|             Google            |    8429   |    332     |     8761     |\n",
      "| American Broadcasting Company |   30450   |    463     |    30913     |\n",
      "|            Twitter            |   11790   |    494     |    12284     |\n",
      "|       Ford Motor Company      |   24100   |    488     |    24588     |\n",
      "|       Paramount Pictures      |    9976   |    321     |    10297     |\n",
      "|       Columbia Pictures       |    7098   |    241     |     7339     |\n",
      "|           Microsoft           |   13980   |    370     |    14350     |\n",
      "|            Facebook           |   11888   |    333     |    12221     |\n",
      "|           DC Comics           |   14037   |    280     |    14317     |\n",
      "+-------------------------------+-----------+------------+--------------+\n",
      "[10 rows x 4 columns]\n",
      "\n"
     ]
    }
   ],
   "source": [
    "#degree counting \n",
    "from graphlab import degree_counting\n",
    "\n",
    "dg = degree_counting.create(sg, verbose=False)\n",
    "dg.show()\n",
    "\n",
    "degree_graph = dg['graph']\n",
    "degree_graph.vertices.show()\n",
    "\n",
    "\n",
    "high_total_degree = dg['graph'].vertices.sort('total_degree', ascending = False).head(10)\n",
    "\n",
    "subgraph = dg['graph'].get_neighborhood(ids=top_pages['__id'], \n",
    "                                       radius = 0, \n",
    "                                       full_subgraph = True)\n",
    "\n",
    "print subgraph.vertices\n",
    "\n"
   ]
  },
  {
   "cell_type": "markdown",
   "metadata": {},
   "source": [
    "## Page Rank \n",
    "One of the most fundamental graph analytics algorithm, PageRank assigns a score of the \"importance\" of each webpage. The 'Pagerank' of a particular page is  dependent on the pageranks of pages linked to it.\n",
    "\n",
    "Each page assigns a score of 1/N to each page it is linked to, where N is the number of links from the page. The idea is to think of it as the probability of jumping to any of the linked pages. An additional damping factor (fixed weight) is added to all the pages in the graph. This is to model the jumps to pages without any links.\n",
    "\n",
    "The page rank algorithm is implemented using the following equation:\n",
    "\n",
    "    R(v) = α + ((1 − α)*R(u)/OutDegree(u))\n",
    "    \n"
   ]
  },
  {
   "cell_type": "code",
   "execution_count": 50,
   "metadata": {
    "collapsed": false
   },
   "outputs": [
    {
     "data": {
      "application/javascript": [
       "$(\"head\").append($(\"<link/>\").attr({\n",
       "  rel:  \"stylesheet\",\n",
       "  type: \"text/css\",\n",
       "  href: \"//cdnjs.cloudflare.com/ajax/libs/font-awesome/4.1.0/css/font-awesome.min.css\"\n",
       "}));\n",
       "$(\"head\").append($(\"<link/>\").attr({\n",
       "  rel:  \"stylesheet\",\n",
       "  type: \"text/css\",\n",
       "  href: \"https://static.turi.com/products/graphlab-create/2.1/canvas/css/canvas.css\"\n",
       "}));\n",
       "\n",
       "            (function(){\n",
       "\n",
       "                var e = null;\n",
       "                if (typeof element == 'undefined') {\n",
       "                    var scripts = document.getElementsByTagName('script');\n",
       "                    var thisScriptTag = scripts[scripts.length-1];\n",
       "                    var parentDiv = thisScriptTag.parentNode;\n",
       "                    e = document.createElement('div');\n",
       "                    parentDiv.appendChild(e);\n",
       "                } else {\n",
       "                    e = element[0];\n",
       "                }\n",
       "\n",
       "                if (typeof requirejs !== 'undefined') {\n",
       "                    // disable load timeout; ipython_app.js is large and can take a while to load.\n",
       "                    requirejs.config({waitSeconds: 0});\n",
       "                }\n",
       "\n",
       "                require(['https://static.turi.com/products/graphlab-create/2.1/canvas/js/ipython_app.js'], function(IPythonApp){\n",
       "                    var app = new IPythonApp();\n",
       "                    app.attachView('model','Summary', {\"comparison\": null, \"selected_variable\": {\"comparison\": null, \"name\": [\"pr\"], \"view_file\": \"model\", \"view_component\": \"Summary\", \"view_params\": {\"model_type\": \"base\", \"view\": \"Summary\"}, \"view_components\": [\"Summary\", \"Evaluation\", \"Comparison\"], \"model_type\": \"base\", \"attributes\": {\"section_titles\": [\"Graph\", \"Results\", \"Settings\", \"Metrics\"], \"sections\": [[[\"num_edges\", 517127], [\"num_vertices\", 233121]], [[\"graph\", \"SGraph. See m['graph']\"], [\"change in last iteration (L1 norm)\", 3824.0835], [\"vertex pagerank\", \"SFrame. See m['pagerank']\"]], [[\"maximun number of iterations\", 10], [\"convergence threshold (L1 norm)\", 0.01], [\"probablity of random jumps to any node in the graph\", 0.15]], [[\"training time (secs)\", 0.6165], [\"number of iterations\", 10]]]}, \"evaluations\": [], \"type\": \"Model\"}, \"ipython\": true, \"view_params\": {\"model_type\": \"base\", \"view\": \"Summary\"}, \"model_type\": \"base\", \"attributes\": {\"section_titles\": [\"Graph\", \"Results\", \"Settings\", \"Metrics\"], \"sections\": [[[\"num_edges\", 517127], [\"num_vertices\", 233121]], [[\"graph\", \"SGraph. See m['graph']\"], [\"change in last iteration (L1 norm)\", 3824.0835], [\"vertex pagerank\", \"SFrame. See m['pagerank']\"]], [[\"maximun number of iterations\", 10], [\"convergence threshold (L1 norm)\", 0.01], [\"probablity of random jumps to any node in the graph\", 0.15]], [[\"training time (secs)\", 0.6165], [\"number of iterations\", 10]]]}, \"evaluations\": []}, e);\n",
       "                });\n",
       "            })();\n",
       "        "
      ]
     },
     "metadata": {},
     "output_type": "display_data"
    },
    {
     "name": "stdout",
     "output_type": "stream",
     "text": [
      "None\n",
      "+-------------------------------+---------------+---------------+\n",
      "|              __id             |    pagerank   |     delta     |\n",
      "+-------------------------------+---------------+---------------+\n",
      "|    The Walt Disney Company    | 878.301063411 | 74.9881435439 |\n",
      "|             Google            | 1180.48509934 |  41.271924661 |\n",
      "|            Twitter            | 1074.30512161 | 16.3932159159 |\n",
      "| American Broadcasting Company | 3050.12285481 | 171.095519607 |\n",
      "|       Paramount Pictures      | 1341.29716993 | 74.7486642804 |\n",
      "|           Microsoft           | 1640.93294801 | 79.4193105615 |\n",
      "|       Columbia Pictures       | 921.042912728 | 55.2951992749 |\n",
      "|       Ford Motor Company      | 1156.31695182 | 84.5552251247 |\n",
      "|            Facebook           | 1218.69295972 | 23.8510621222 |\n",
      "|           DC Comics           | 1623.76580168 |  231.05676926 |\n",
      "+-------------------------------+---------------+---------------+\n",
      "[10 rows x 3 columns]\n",
      "\n"
     ]
    }
   ],
   "source": [
    "#Page rank\n",
    "\n",
    "from graphlab import pagerank\n",
    "pr = pagerank.create(sg, max_iterations = 10, verbose = False)\n",
    "\n",
    "top_pages = pr['graph'].vertices.sort('pagerank', ascending = False).head(10)\n",
    "\n",
    "print pr.show()\n",
    "\n",
    "subgraph = pr['graph'].get_neighborhood(ids=top_pages['__id'], \n",
    "                                       radius = 0, \n",
    "                                       full_subgraph = True)\n",
    "\n",
    "print subgraph.vertices\n"
   ]
  },
  {
   "cell_type": "markdown",
   "metadata": {},
   "source": [
    "## Triangle Counting \n",
    "The number of triangles is a computationally expensive graph statistic which is frequently used in complex network analysis, in various random graph models and in important real world applications such as spam detection, and providing recommendations to users. GraphLab can perform this computationally expensive statistic with just a few lines. The table below outputs the total number of triangles and outputs the triangle count for each of the companies"
   ]
  },
  {
   "cell_type": "code",
   "execution_count": 58,
   "metadata": {
    "collapsed": false
   },
   "outputs": [
    {
     "data": {
      "application/javascript": [
       "$(\"head\").append($(\"<link/>\").attr({\n",
       "  rel:  \"stylesheet\",\n",
       "  type: \"text/css\",\n",
       "  href: \"//cdnjs.cloudflare.com/ajax/libs/font-awesome/4.1.0/css/font-awesome.min.css\"\n",
       "}));\n",
       "$(\"head\").append($(\"<link/>\").attr({\n",
       "  rel:  \"stylesheet\",\n",
       "  type: \"text/css\",\n",
       "  href: \"https://static.turi.com/products/graphlab-create/2.1/canvas/css/canvas.css\"\n",
       "}));\n",
       "\n",
       "            (function(){\n",
       "\n",
       "                var e = null;\n",
       "                if (typeof element == 'undefined') {\n",
       "                    var scripts = document.getElementsByTagName('script');\n",
       "                    var thisScriptTag = scripts[scripts.length-1];\n",
       "                    var parentDiv = thisScriptTag.parentNode;\n",
       "                    e = document.createElement('div');\n",
       "                    parentDiv.appendChild(e);\n",
       "                } else {\n",
       "                    e = element[0];\n",
       "                }\n",
       "\n",
       "                if (typeof requirejs !== 'undefined') {\n",
       "                    // disable load timeout; ipython_app.js is large and can take a while to load.\n",
       "                    requirejs.config({waitSeconds: 0});\n",
       "                }\n",
       "\n",
       "                require(['https://static.turi.com/products/graphlab-create/2.1/canvas/js/ipython_app.js'], function(IPythonApp){\n",
       "                    var app = new IPythonApp();\n",
       "                    app.attachView('model','Summary', {\"comparison\": null, \"selected_variable\": {\"comparison\": null, \"name\": [\"tri_count\"], \"view_file\": \"model\", \"view_component\": \"Summary\", \"view_params\": {\"model_type\": \"base\", \"view\": \"Summary\"}, \"view_components\": [\"Summary\", \"Evaluation\", \"Comparison\"], \"model_type\": \"base\", \"attributes\": {\"section_titles\": [\"Graph\", \"Results\", \"Metrics\"], \"sections\": [[[\"num_edges\", 517127], [\"num_vertices\", 233121]], [[\"graph\", \"SGraph. See m['graph']\"], [\"total number of triangles\", 169890], [\"vertex triangle count\", \"SFrame. See m['triangle_count']\"]], [[\"training time (secs)\", 4.3778]]]}, \"evaluations\": [], \"type\": \"Model\"}, \"ipython\": true, \"view_params\": {\"model_type\": \"base\", \"view\": \"Summary\"}, \"model_type\": \"base\", \"attributes\": {\"section_titles\": [\"Graph\", \"Results\", \"Metrics\"], \"sections\": [[[\"num_edges\", 517127], [\"num_vertices\", 233121]], [[\"graph\", \"SGraph. See m['graph']\"], [\"total number of triangles\", 169890], [\"vertex triangle count\", \"SFrame. See m['triangle_count']\"]], [[\"training time (secs)\", 4.3778]]]}, \"evaluations\": []}, e);\n",
       "                });\n",
       "            })();\n",
       "        "
      ]
     },
     "metadata": {},
     "output_type": "display_data"
    },
    {
     "name": "stdout",
     "output_type": "stream",
     "text": [
      "+-------------------------------+----------------+\n",
      "|              __id             | triangle_count |\n",
      "+-------------------------------+----------------+\n",
      "|           Microsoft           |     21446      |\n",
      "|             Google            |     15491      |\n",
      "|            Facebook           |     14200      |\n",
      "|              IBM              |     11715      |\n",
      "|       Paramount Pictures      |     10547      |\n",
      "| American Broadcasting Company |     10513      |\n",
      "|            Twitter            |      9219      |\n",
      "|        Delta Air Lines        |      8194      |\n",
      "|             Intel             |      7952      |\n",
      "|       American Airlines       |      7411      |\n",
      "+-------------------------------+----------------+\n",
      "[10 rows x 2 columns]\n",
      "\n"
     ]
    }
   ],
   "source": [
    "#Triangle Counting\n",
    "from graphlab import triangle_counting\n",
    "\n",
    "tri_count = triangle_counting.create(sg, verbose = False)\n",
    "tri_count.show()\n",
    "\n",
    "tri_out = tri_count['triangle_count']\n",
    "print tri_out.topk('triangle_count', k=10)"
   ]
  },
  {
   "cell_type": "markdown",
   "metadata": {},
   "source": [
    "## Single Source Shortest Path\n",
    "\n",
    "This function uses Djikstra's algorithm to compute the distance from source to all other nodes in the network and finally returns the shortest path. As you can see from the output, the shortest path from Twitter to Weyerha is shown."
   ]
  },
  {
   "cell_type": "code",
   "execution_count": 23,
   "metadata": {
    "collapsed": false
   },
   "outputs": [
    {
     "data": {
      "application/javascript": [
       "$(\"head\").append($(\"<link/>\").attr({\n",
       "  rel:  \"stylesheet\",\n",
       "  type: \"text/css\",\n",
       "  href: \"//cdnjs.cloudflare.com/ajax/libs/font-awesome/4.1.0/css/font-awesome.min.css\"\n",
       "}));\n",
       "$(\"head\").append($(\"<link/>\").attr({\n",
       "  rel:  \"stylesheet\",\n",
       "  type: \"text/css\",\n",
       "  href: \"https://static.turi.com/products/graphlab-create/2.1/canvas/css/canvas.css\"\n",
       "}));\n",
       "\n",
       "            (function(){\n",
       "\n",
       "                var e = null;\n",
       "                if (typeof element == 'undefined') {\n",
       "                    var scripts = document.getElementsByTagName('script');\n",
       "                    var thisScriptTag = scripts[scripts.length-1];\n",
       "                    var parentDiv = thisScriptTag.parentNode;\n",
       "                    e = document.createElement('div');\n",
       "                    parentDiv.appendChild(e);\n",
       "                } else {\n",
       "                    e = element[0];\n",
       "                }\n",
       "\n",
       "                if (typeof requirejs !== 'undefined') {\n",
       "                    // disable load timeout; ipython_app.js is large and can take a while to load.\n",
       "                    requirejs.config({waitSeconds: 0});\n",
       "                }\n",
       "\n",
       "                require(['https://static.turi.com/products/graphlab-create/2.1/canvas/js/ipython_app.js'], function(IPythonApp){\n",
       "                    var app = new IPythonApp();\n",
       "                    app.attachView('model','Summary', {\"comparison\": null, \"selected_variable\": {\"comparison\": null, \"name\": [\"sssp\"], \"view_file\": \"model\", \"view_component\": \"Summary\", \"view_params\": {\"model_type\": \"base\", \"view\": \"Summary\"}, \"view_components\": [\"Summary\", \"Evaluation\", \"Comparison\"], \"model_type\": \"base\", \"attributes\": {\"section_titles\": [\"Graph\", \"Results\", \"Settings\", \"Metrics\", \"Methods\"], \"sections\": [[[\"num_edges\", 517127], [\"num_vertices\", 233121]], [[\"graph\", \"SGraph. See m['graph']\"], [\"vertex distance to the source vertex\", \"SFrame. m['distance']\"]], [[\"edge weight field id\", \"\"], [\"maximum distance between vertices\", 1e+30], [\"source vertex id\", \"Twitter\"]], [[\"training time (secs)\", 0.8762]], [[\"get shortest path\", \"get_path()  e.g. m.get_path(vid=target_vid)\"]]]}, \"evaluations\": [], \"type\": \"Model\"}, \"ipython\": true, \"view_params\": {\"model_type\": \"base\", \"view\": \"Summary\"}, \"model_type\": \"base\", \"attributes\": {\"section_titles\": [\"Graph\", \"Results\", \"Settings\", \"Metrics\", \"Methods\"], \"sections\": [[[\"num_edges\", 517127], [\"num_vertices\", 233121]], [[\"graph\", \"SGraph. See m['graph']\"], [\"vertex distance to the source vertex\", \"SFrame. m['distance']\"]], [[\"edge weight field id\", \"\"], [\"maximum distance between vertices\", 1e+30], [\"source vertex id\", \"Twitter\"]], [[\"training time (secs)\", 0.8762]], [[\"get shortest path\", \"get_path()  e.g. m.get_path(vid=target_vid)\"]]]}, \"evaluations\": []}, e);\n",
       "                });\n",
       "            })();\n",
       "        "
      ]
     },
     "metadata": {},
     "output_type": "display_data"
    },
    {
     "data": {
      "application/javascript": [
       "$(\"head\").append($(\"<link/>\").attr({\n",
       "  rel:  \"stylesheet\",\n",
       "  type: \"text/css\",\n",
       "  href: \"//cdnjs.cloudflare.com/ajax/libs/font-awesome/4.1.0/css/font-awesome.min.css\"\n",
       "}));\n",
       "$(\"head\").append($(\"<link/>\").attr({\n",
       "  rel:  \"stylesheet\",\n",
       "  type: \"text/css\",\n",
       "  href: \"https://static.turi.com/products/graphlab-create/2.1/canvas/css/canvas.css\"\n",
       "}));\n",
       "\n",
       "            (function(){\n",
       "\n",
       "                var e = null;\n",
       "                if (typeof element == 'undefined') {\n",
       "                    var scripts = document.getElementsByTagName('script');\n",
       "                    var thisScriptTag = scripts[scripts.length-1];\n",
       "                    var parentDiv = thisScriptTag.parentNode;\n",
       "                    e = document.createElement('div');\n",
       "                    parentDiv.appendChild(e);\n",
       "                } else {\n",
       "                    e = element[0];\n",
       "                }\n",
       "\n",
       "                if (typeof requirejs !== 'undefined') {\n",
       "                    // disable load timeout; ipython_app.js is large and can take a while to load.\n",
       "                    requirejs.config({waitSeconds: 0});\n",
       "                }\n",
       "\n",
       "                require(['https://static.turi.com/products/graphlab-create/2.1/canvas/js/ipython_app.js'], function(IPythonApp){\n",
       "                    var app = new IPythonApp();\n",
       "                    app.attachView('sgraph','View', {\"edges_labels\": null, \"selected_variable\": {\"name\": [\"<SGraph>\"], \"view_file\": \"sgraph\", \"view_component\": \"View\", \"view_params\": {\"elabel_hover\": false, \"vertex_positions\": null, \"h_offset\": 0.0, \"node_size\": 300, \"ecolor\": [0.37, 0.33, 0.33], \"elabel\": null, \"arrows\": true, \"ewidth\": 1.2, \"vlabel\": \"id\", \"highlight_color\": [[0.69, 0.0, 0.498], [0.69, 0.0, 0.498]], \"vcolor\": [0.522, 0.741, 0.0], \"vlabel_hover\": false, \"highlight\": {\"Twitter\": [0.69, 0.0, 0.498], \"Weyerhaeuser\": [0.69, 0.0, 0.498]}, \"v_offset\": 0.03}, \"view_components\": [\"View\"], \"type\": \"SGraph\", \"descriptives_links\": {\"edges\": \"edges\", \"vertices\": \"vertices\"}, \"descriptives\": {\"edges\": 8, \"vertices\": 4}}, \"positions\": null, \"error_type\": 0, \"vertices\": [\"Twitter\", \"Weyerhaeuser\", \"Starbucks\", \"Seattle\"], \"vertices_labels\": [\"Twitter\", \"Weyerhaeuser\", \"Starbucks\", \"Seattle\"], \"edges\": [[\"Twitter\", \"Starbucks\"], [\"Twitter\", \"Starbucks\"], [\"Starbucks\", \"Seattle\"], [\"Starbucks\", \"Seattle\"], [\"Starbucks\", \"Seattle\"], [\"Starbucks\", \"Seattle\"], [\"Starbucks\", \"Seattle\"], [\"Seattle\", \"Weyerhaeuser\"]], \"ipython\": true, \"error_msg\": \"\"}, e);\n",
       "                });\n",
       "            })();\n",
       "        "
      ]
     },
     "metadata": {},
     "output_type": "display_data"
    },
    {
     "data": {
      "text/plain": [
       "None"
      ]
     },
     "metadata": {},
     "output_type": "display_data"
    },
    {
     "data": {
      "text/plain": [
       "[('Twitter', 0.0), ('Starbucks', 1.0), ('Seattle', 2.0), ('Weyerhaeuser', 3.0)]"
      ]
     },
     "execution_count": 23,
     "metadata": {},
     "output_type": "execute_result"
    }
   ],
   "source": [
    "from graphlab import shortest_path\n",
    "\n",
    "sssp = shortest_path.create(\n",
    "    sg, source_vid='Twitter', verbose = False)\n",
    "sssp.show()\n",
    "\n",
    "sssp.get_path(vid='Weyerhaeuser', \n",
    "              show=True,\n",
    "              highlight=['Weyerhaeuser', 'Twitter'], \n",
    "              arrows=True, ewidth=1.2)\n"
   ]
  },
  {
   "cell_type": "markdown",
   "metadata": {},
   "source": [
    "## Connected Components\n",
    "The intention behind creating connected components is that there is a path between any two vertices in a sub graph.\n",
    "\n",
    "The way this is implemented is that we start Breadth First Search from some node s. This gives one component of the graph. Next we pick any unexplored node u and start another Breadth First Search. This will give us the next component. We continue this process until all nodes have been explored. \n"
   ]
  },
  {
   "cell_type": "code",
   "execution_count": 24,
   "metadata": {
    "collapsed": false
   },
   "outputs": [
    {
     "data": {
      "application/javascript": [
       "$(\"head\").append($(\"<link/>\").attr({\n",
       "  rel:  \"stylesheet\",\n",
       "  type: \"text/css\",\n",
       "  href: \"//cdnjs.cloudflare.com/ajax/libs/font-awesome/4.1.0/css/font-awesome.min.css\"\n",
       "}));\n",
       "$(\"head\").append($(\"<link/>\").attr({\n",
       "  rel:  \"stylesheet\",\n",
       "  type: \"text/css\",\n",
       "  href: \"https://static.turi.com/products/graphlab-create/2.1/canvas/css/canvas.css\"\n",
       "}));\n",
       "\n",
       "            (function(){\n",
       "\n",
       "                var e = null;\n",
       "                if (typeof element == 'undefined') {\n",
       "                    var scripts = document.getElementsByTagName('script');\n",
       "                    var thisScriptTag = scripts[scripts.length-1];\n",
       "                    var parentDiv = thisScriptTag.parentNode;\n",
       "                    e = document.createElement('div');\n",
       "                    parentDiv.appendChild(e);\n",
       "                } else {\n",
       "                    e = element[0];\n",
       "                }\n",
       "\n",
       "                if (typeof requirejs !== 'undefined') {\n",
       "                    // disable load timeout; ipython_app.js is large and can take a while to load.\n",
       "                    requirejs.config({waitSeconds: 0});\n",
       "                }\n",
       "\n",
       "                require(['https://static.turi.com/products/graphlab-create/2.1/canvas/js/ipython_app.js'], function(IPythonApp){\n",
       "                    var app = new IPythonApp();\n",
       "                    app.attachView('model','Summary', {\"comparison\": null, \"selected_variable\": {\"comparison\": null, \"name\": [\"cc\"], \"view_file\": \"model\", \"view_component\": \"Summary\", \"view_params\": {\"model_type\": \"base\", \"view\": \"Summary\"}, \"view_components\": [\"Summary\", \"Evaluation\", \"Comparison\"], \"model_type\": \"base\", \"attributes\": {\"section_titles\": [\"Graph\", \"Results\", \"Metrics\"], \"sections\": [[[\"num_edges\", 517127], [\"num_vertices\", 233121]], [[\"graph\", \"SGraph. See m['graph']\"], [\"component size\", \"SFrame. See m['component_size']\"], [\"number of connected components\", 18], [\"vertex component id\", \"SFrame. See m['component_id']\"]], [[\"training time (secs)\", 0.1746]]]}, \"evaluations\": [], \"type\": \"Model\"}, \"ipython\": true, \"view_params\": {\"model_type\": \"base\", \"view\": \"Summary\"}, \"model_type\": \"base\", \"attributes\": {\"section_titles\": [\"Graph\", \"Results\", \"Metrics\"], \"sections\": [[[\"num_edges\", 517127], [\"num_vertices\", 233121]], [[\"graph\", \"SGraph. See m['graph']\"], [\"component size\", \"SFrame. See m['component_size']\"], [\"number of connected components\", 18], [\"vertex component id\", \"SFrame. See m['component_id']\"]], [[\"training time (secs)\", 0.1746]]]}, \"evaluations\": []}, e);\n",
       "                });\n",
       "            })();\n",
       "        "
      ]
     },
     "metadata": {},
     "output_type": "display_data"
    },
    {
     "name": "stdout",
     "output_type": "stream",
     "text": [
      "+--------------+--------+\n",
      "| component_id | Count  |\n",
      "+--------------+--------+\n",
      "|     623      | 233057 |\n",
      "|     890      |   23   |\n",
      "|     1477     |   2    |\n",
      "|     1643     |   2    |\n",
      "|     3306     |   2    |\n",
      "|     3444     |   2    |\n",
      "|     3855     |   2    |\n",
      "|    60185     |   2    |\n",
      "|    90628     |   2    |\n",
      "|    117553    |   3    |\n",
      "+--------------+--------+\n",
      "[18 rows x 2 columns]\n",
      "Note: Only the head of the SFrame is printed.\n",
      "You can use print_rows(num_rows=m, num_columns=n) to print more rows and columns.\n"
     ]
    },
    {
     "data": {
      "application/javascript": [
       "$(\"head\").append($(\"<link/>\").attr({\n",
       "  rel:  \"stylesheet\",\n",
       "  type: \"text/css\",\n",
       "  href: \"//cdnjs.cloudflare.com/ajax/libs/font-awesome/4.1.0/css/font-awesome.min.css\"\n",
       "}));\n",
       "$(\"head\").append($(\"<link/>\").attr({\n",
       "  rel:  \"stylesheet\",\n",
       "  type: \"text/css\",\n",
       "  href: \"https://static.turi.com/products/graphlab-create/2.1/canvas/css/canvas.css\"\n",
       "}));\n",
       "\n",
       "            (function(){\n",
       "\n",
       "                var e = null;\n",
       "                if (typeof element == 'undefined') {\n",
       "                    var scripts = document.getElementsByTagName('script');\n",
       "                    var thisScriptTag = scripts[scripts.length-1];\n",
       "                    var parentDiv = thisScriptTag.parentNode;\n",
       "                    e = document.createElement('div');\n",
       "                    parentDiv.appendChild(e);\n",
       "                } else {\n",
       "                    e = element[0];\n",
       "                }\n",
       "\n",
       "                if (typeof requirejs !== 'undefined') {\n",
       "                    // disable load timeout; ipython_app.js is large and can take a while to load.\n",
       "                    requirejs.config({waitSeconds: 0});\n",
       "                }\n",
       "\n",
       "                require(['https://static.turi.com/products/graphlab-create/2.1/canvas/js/ipython_app.js'], function(IPythonApp){\n",
       "                    var app = new IPythonApp();\n",
       "                    app.attachView('sgraph','View', {\"edges_labels\": null, \"selected_variable\": {\"name\": [\"subgraph\"], \"view_file\": \"sgraph\", \"view_component\": \"View\", \"view_params\": {\"elabel_hover\": false, \"vertex_positions\": null, \"h_offset\": 0.0, \"node_size\": 300, \"ecolor\": [0.37, 0.33, 0.33], \"elabel\": null, \"arrows\": true, \"ewidth\": 1, \"vlabel\": \"__id\", \"highlight_color\": [0.69, 0.0, 0.498], \"vcolor\": [0.522, 0.741, 0.0], \"vlabel_hover\": false, \"highlight\": {}, \"v_offset\": 0.03}, \"view_components\": [\"View\"], \"type\": \"SGraph\", \"descriptives_links\": {\"edges\": \"edges\", \"vertices\": \"vertices\"}, \"descriptives\": {\"edges\": 22, \"vertices\": 23}}, \"positions\": null, \"error_type\": 0, \"vertices\": [\"Wikipedia:Coverage of Mathworld topics/C\", \"Lisa Marx\", \"Wikipedia:WikiProject National Basketball Association/Newsletter/Archives/3\", \"Future Group\", \"Folli Follie\", \"Converses\", \"Converse relation\", \"Converse Basin\", \"Converse\", \"Wikipedia:Disambiguation pages with links/May 2010\", \"Conversation\", \"Wikipedia:Reference desk/Archives/Miscellaneous/2007 May 1\", \"Converse implication\", \"Converse (disambiguation)\", \"Wikipedia:WikiProject Spam/LinkReports/nikesoso.com\", \"Converse College\", \"Wikipedia:WikiProject Spam/LinkReports/nike.com\", \"Wikipedia:Links to disambiguating pages (C)\", \"Converse accident\", \"Wikipedia:Missing science topics/ExistingMathC\", \"Wikipedia:Featured article candidates/Magic Johnson/archive2\", \"Wikipedia:Disambiguation pages with links/May 2012\", \"Converse nonimplication\"], \"vertices_labels\": [\"Wikipedia:Coverage of Mathworld topics/C\", \"Lisa Marx\", \"Wikipedia:WikiProject National Basketball Association/Newsletter/Archives/3\", \"Future Group\", \"Folli Follie\", \"Converses\", \"Converse relation\", \"Converse Basin\", \"Converse\", \"Wikipedia:Disambiguation pages with links/May 2010\", \"Conversation\", \"Wikipedia:Reference desk/Archives/Miscellaneous/2007 May 1\", \"Converse implication\", \"Converse (disambiguation)\", \"Wikipedia:WikiProject Spam/LinkReports/nikesoso.com\", \"Converse College\", \"Wikipedia:WikiProject Spam/LinkReports/nike.com\", \"Wikipedia:Links to disambiguating pages (C)\", \"Converse accident\", \"Wikipedia:Missing science topics/ExistingMathC\", \"Wikipedia:Featured article candidates/Magic Johnson/archive2\", \"Wikipedia:Disambiguation pages with links/May 2012\", \"Converse nonimplication\"], \"edges\": [[\"Lisa Marx\", \"Converse\"], [\"Converse\", \"Converse Basin\"], [\"Converse\", \"Converses\"], [\"Wikipedia:WikiProject National Basketball Association/Newsletter/Archives/3\", \"Converse\"], [\"Wikipedia:Coverage of Mathworld topics/C\", \"Converse\"], [\"Converse\", \"Converse relation\"], [\"Folli Follie\", \"Converse\"], [\"Future Group\", \"Converse\"], [\"Converse\", \"Conversation\"], [\"Converse\", \"Converse implication\"], [\"Converse\", \"Converse College\"], [\"Converse\", \"Converse accident\"], [\"Converse\", \"Converse nonimplication\"], [\"Wikipedia:Disambiguation pages with links/May 2010\", \"Converse\"], [\"Wikipedia:Reference desk/Archives/Miscellaneous/2007 May 1\", \"Converse\"], [\"Wikipedia:WikiProject Spam/LinkReports/nikesoso.com\", \"Converse\"], [\"Converse (disambiguation)\", \"Converse\"], [\"Wikipedia:Links to disambiguating pages (C)\", \"Converse\"], [\"Wikipedia:WikiProject Spam/LinkReports/nike.com\", \"Converse\"], [\"Wikipedia:Disambiguation pages with links/May 2012\", \"Converse\"], [\"Wikipedia:Missing science topics/ExistingMathC\", \"Converse\"], [\"Wikipedia:Featured article candidates/Magic Johnson/archive2\", \"Converse\"]], \"ipython\": true, \"error_msg\": \"\"}, e);\n",
       "                });\n",
       "            })();\n",
       "        "
      ]
     },
     "metadata": {},
     "output_type": "display_data"
    }
   ],
   "source": [
    "#connected components\n",
    "from graphlab import connected_components\n",
    "\n",
    "cc = connected_components.create(sg, verbose = False)\n",
    "cc.show()\n",
    "\n",
    "print cc['component_size']\n",
    "\n",
    "#Print component 890\n",
    "vertex_id = []\n",
    "\n",
    "for vertex in cc['component_id']:\n",
    "    if vertex['component_id'] == 890:\n",
    "        vertex_id.append(vertex['__id'])\n",
    "        \n",
    "subgraph = cc['graph'].get_neighborhood(ids=vertex_id, \n",
    "                                        radius = 1, \n",
    "                                        full_subgraph = True)\n",
    "\n",
    "subgraph.show(vlabel = \"__id\", arrows = True)\n"
   ]
  },
  {
   "cell_type": "markdown",
   "metadata": {},
   "source": [
    "## K Core\n",
    "The k-core of a graph G is the maximal induced subgraph H ⊆ G such that δ(G) ≥ k. Thus all vertices of H are adjacent to at least k other vertices in H. The k-core is found by recursively pruning nodes with degrees less than k. The basic concept is simple. Every vertex will keep a count of the adjacent edges. The vertex will update its counter by removing adjacent edges which have been deleted. If counter goes below K, it deletes itself and signals each of its neighbours\n"
   ]
  },
  {
   "cell_type": "code",
   "execution_count": 41,
   "metadata": {
    "collapsed": false
   },
   "outputs": [
    {
     "data": {
      "application/javascript": [
       "$(\"head\").append($(\"<link/>\").attr({\n",
       "  rel:  \"stylesheet\",\n",
       "  type: \"text/css\",\n",
       "  href: \"//cdnjs.cloudflare.com/ajax/libs/font-awesome/4.1.0/css/font-awesome.min.css\"\n",
       "}));\n",
       "$(\"head\").append($(\"<link/>\").attr({\n",
       "  rel:  \"stylesheet\",\n",
       "  type: \"text/css\",\n",
       "  href: \"https://static.turi.com/products/graphlab-create/2.1/canvas/css/canvas.css\"\n",
       "}));\n",
       "\n",
       "            (function(){\n",
       "\n",
       "                var e = null;\n",
       "                if (typeof element == 'undefined') {\n",
       "                    var scripts = document.getElementsByTagName('script');\n",
       "                    var thisScriptTag = scripts[scripts.length-1];\n",
       "                    var parentDiv = thisScriptTag.parentNode;\n",
       "                    e = document.createElement('div');\n",
       "                    parentDiv.appendChild(e);\n",
       "                } else {\n",
       "                    e = element[0];\n",
       "                }\n",
       "\n",
       "                if (typeof requirejs !== 'undefined') {\n",
       "                    // disable load timeout; ipython_app.js is large and can take a while to load.\n",
       "                    requirejs.config({waitSeconds: 0});\n",
       "                }\n",
       "\n",
       "                require(['https://static.turi.com/products/graphlab-create/2.1/canvas/js/ipython_app.js'], function(IPythonApp){\n",
       "                    var app = new IPythonApp();\n",
       "                    app.attachView('model','Summary', {\"comparison\": null, \"selected_variable\": {\"comparison\": null, \"name\": [\"kc\"], \"view_file\": \"model\", \"view_component\": \"Summary\", \"view_params\": {\"model_type\": \"base\", \"view\": \"Summary\"}, \"view_components\": [\"Summary\", \"Evaluation\", \"Comparison\"], \"model_type\": \"base\", \"attributes\": {\"section_titles\": [\"Graph\", \"Results\", \"Settings\", \"Metrics\"], \"sections\": [[[\"num_edges\", 517127], [\"num_vertices\", 233121]], [[\"vertex core id\", \"SFrame. See m['core_id']\"], [\"graph\", \"SGraph. See m['graph']\"]], [[\"minimum core id assigned to any vertex\", 0], [\"maximum core id assigned to any vertex \", 10]], [[\"training time (secs)\", 10.6571]]]}, \"evaluations\": [], \"type\": \"Model\"}, \"ipython\": true, \"view_params\": {\"model_type\": \"base\", \"view\": \"Summary\"}, \"model_type\": \"base\", \"attributes\": {\"section_titles\": [\"Graph\", \"Results\", \"Settings\", \"Metrics\"], \"sections\": [[[\"num_edges\", 517127], [\"num_vertices\", 233121]], [[\"vertex core id\", \"SFrame. See m['core_id']\"], [\"graph\", \"SGraph. See m['graph']\"]], [[\"minimum core id assigned to any vertex\", 0], [\"maximum core id assigned to any vertex \", 10]], [[\"training time (secs)\", 10.6571]]]}, \"evaluations\": []}, e);\n",
       "                });\n",
       "            })();\n",
       "        "
      ]
     },
     "metadata": {},
     "output_type": "display_data"
    },
    {
     "name": "stdout",
     "output_type": "stream",
     "text": [
      "10\n",
      "0\n",
      "[0, 145603, 43726, 16640, 8512, 4727, 3095, 2155, 1438, 1113, 6112]\n"
     ]
    },
    {
     "data": {
      "application/javascript": [
       "$(\"head\").append($(\"<link/>\").attr({\n",
       "  rel:  \"stylesheet\",\n",
       "  type: \"text/css\",\n",
       "  href: \"//cdnjs.cloudflare.com/ajax/libs/font-awesome/4.1.0/css/font-awesome.min.css\"\n",
       "}));\n",
       "$(\"head\").append($(\"<link/>\").attr({\n",
       "  rel:  \"stylesheet\",\n",
       "  type: \"text/css\",\n",
       "  href: \"https://static.turi.com/products/graphlab-create/2.1/canvas/css/canvas.css\"\n",
       "}));\n",
       "\n",
       "            (function(){\n",
       "\n",
       "                var e = null;\n",
       "                if (typeof element == 'undefined') {\n",
       "                    var scripts = document.getElementsByTagName('script');\n",
       "                    var thisScriptTag = scripts[scripts.length-1];\n",
       "                    var parentDiv = thisScriptTag.parentNode;\n",
       "                    e = document.createElement('div');\n",
       "                    parentDiv.appendChild(e);\n",
       "                } else {\n",
       "                    e = element[0];\n",
       "                }\n",
       "\n",
       "                if (typeof requirejs !== 'undefined') {\n",
       "                    // disable load timeout; ipython_app.js is large and can take a while to load.\n",
       "                    requirejs.config({waitSeconds: 0});\n",
       "                }\n",
       "\n",
       "                require(['https://static.turi.com/products/graphlab-create/2.1/canvas/js/ipython_app.js'], function(IPythonApp){\n",
       "                    var app = new IPythonApp();\n",
       "                    app.attachView('sarray','Numeric', {\"ipython\": true, \"sketch\": {\"std\": 41118.76390700077, \"complete\": true, \"min\": 0.0, \"max\": 145603.0, \"quantile\": [0.0, 0.0, 0.0, 0.0, 0.0, 0.0, 0.0, 0.0, 0.0, 0.0, 1113.0, 1113.0, 1113.0, 1113.0, 1113.0, 1113.0, 1113.0, 1113.0, 1113.0, 1438.0, 1438.0, 1438.0, 1438.0, 1438.0, 1438.0, 1438.0, 1438.0, 1438.0, 2155.0, 2155.0, 2155.0, 2155.0, 2155.0, 2155.0, 2155.0, 2155.0, 2155.0, 3095.0, 3095.0, 3095.0, 3095.0, 3095.0, 3095.0, 3095.0, 3095.0, 3095.0, 4727.0, 4727.0, 4727.0, 4727.0, 4727.0, 4727.0, 4727.0, 4727.0, 4727.0, 6112.0, 6112.0, 6112.0, 6112.0, 6112.0, 6112.0, 6112.0, 6112.0, 6112.0, 8512.0, 8512.0, 8512.0, 8512.0, 8512.0, 8512.0, 8512.0, 8512.0, 8512.0, 16640.0, 16640.0, 16640.0, 16640.0, 16640.0, 16640.0, 16640.0, 16640.0, 16640.0, 43726.0, 43726.0, 43726.0, 43726.0, 43726.0, 43726.0, 43726.0, 43726.0, 43726.0, 145603.0, 145603.0, 145603.0, 145603.0, 145603.0, 145603.0, 145603.0, 145603.0, 145603.0, 145603.0], \"median\": 4727.0, \"numeric\": true, \"num_unique\": 11, \"num_undefined\": 0, \"var\": 1690752745.2396696, \"progress\": 1.0, \"size\": 11, \"frequent_items\": {\"0\": {\"frequency\": 1, \"value\": 0}, \"16640\": {\"frequency\": 1, \"value\": 16640}, \"145603\": {\"frequency\": 1, \"value\": 145603}, \"6112\": {\"frequency\": 1, \"value\": 6112}, \"2155\": {\"frequency\": 1, \"value\": 2155}, \"43726\": {\"frequency\": 1, \"value\": 43726}, \"8512\": {\"frequency\": 1, \"value\": 8512}, \"3095\": {\"frequency\": 1, \"value\": 3095}, \"1113\": {\"frequency\": 1, \"value\": 1113}, \"4727\": {\"frequency\": 1, \"value\": 4727}, \"1438\": {\"frequency\": 1, \"value\": 1438}}, \"mean\": 21192.818181818184}, \"selected_variable\": {\"name\": [\"distribution\"], \"dtype\": \"int\", \"view_component\": \"Numeric\", \"view_file\": \"sarray\", \"descriptives\": {\"rows\": 11}, \"type\": \"SArray\", \"view_components\": [\"Numeric\", \"Categorical\"]}, \"histogram\": {\"progress\": 1.0, \"histogram\": {\"max\": 145603.0, \"bins\": [8, 1, 0, 1, 0, 0, 0, 0, 0, 0, 0, 1], \"min\": 0.0}, \"min\": 0, \"complete\": 1, \"max\": 145603}}, e);\n",
       "                });\n",
       "            })();\n",
       "        "
      ]
     },
     "metadata": {},
     "output_type": "display_data"
    }
   ],
   "source": [
    "#kcore\n",
    "from graphlab import kcore\n",
    "\n",
    "kc = kcore.create(sg, verbose = False)\n",
    "kc.show()\n",
    "\n",
    "print kc['kmax']\n",
    "print kc['kmin']\n",
    "\n",
    "core_id = [0]*(kc['kmax']+1)\n",
    "\n",
    "\n",
    "for vertex in kc['core_id']:\n",
    "    core_id[vertex['core_id']] += 1\n",
    "\n",
    "distribution = gl.SArray(core_id)\n",
    "\n",
    "print distribution\n",
    "distribution.show()\n"
   ]
  },
  {
   "cell_type": "markdown",
   "metadata": {},
   "source": [
    "## Conclusion\n",
    "GraphLab applies the __GAS__(*G*ather *A*pply *S*catter) model to a wide variety of machine learning algorithms not only in the domain of graph analytics but also to other domains of data scicence. Many data formats in various data science domains can be modelled as graph data. This alternate approach provides fast implementation of several techniques including text analysis, deep learning, pattern mining, etc. You can read up more about these techniques on their [website](https://turi.com/learn/userguide/index.html). \n",
    "\n",
    "## References\n",
    "\n",
    "1. https://turi.com/\n",
    "\n",
    "2. https://turi.com/products/create/docs/index.html\n",
    "\n",
    "3. http://select.cs.cmu.edu/code/graphlab/doxygen/html/index.html\n",
    "\n",
    "4. https://en.wikipedia.org/wiki/Connected_component_(graph_theory)"
   ]
  },
  {
   "cell_type": "code",
   "execution_count": null,
   "metadata": {
    "collapsed": true
   },
   "outputs": [],
   "source": []
  }
 ],
 "metadata": {
  "anaconda-cloud": {},
  "kernelspec": {
   "display_name": "Python [conda root]",
   "language": "python",
   "name": "conda-root-py"
  },
  "language_info": {
   "codemirror_mode": {
    "name": "ipython",
    "version": 2
   },
   "file_extension": ".py",
   "mimetype": "text/x-python",
   "name": "python",
   "nbconvert_exporter": "python",
   "pygments_lexer": "ipython2",
   "version": "2.7.12"
  }
 },
 "nbformat": 4,
 "nbformat_minor": 1
}
