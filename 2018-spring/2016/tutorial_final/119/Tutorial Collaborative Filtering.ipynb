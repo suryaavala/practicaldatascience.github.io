{
 "cells": [
  {
   "cell_type": "markdown",
   "metadata": {},
   "source": [
    "# COLLABORATIVE FILTERING  TUTORIAL\n",
    "\n"
   ]
  },
  {
   "cell_type": "markdown",
   "metadata": {},
   "source": [
    "Hi,this is my Jupyter Notebook tutorial on *Collaborative Filtering* .Recommender Systems are a class of web applications that involve prediciting  users response to many options provided before them.These are exciting and used ubiquitously by organizations such as Amazon,Netflix etc.These organizations place a lot of emphasis on developing accurate recommender systems since predicting users preferences is of paramount importance to them .Netflix(2006-2009) announced the USD * 1 Million Prize * for the group which could improve its Baseline Prediction for its Users preferences on Movies by the largest margin.It was awarded to a Team which developed a Collaborative Filtering model **which bettered the pre-exisiting performance by over 10%.**<br/>\n",
    "Hence,we see for Organizations even a small increase in prediction accuracy translates to  large financial implications and overall growth of the Service.In todays world,recommendation engines are a crucial part of the Data Science setting.<br/>\n",
    "Our tutorial aims to elucidate upon the fundamentals of Recommender Systems using 2 Datasets-One is a relatively small Dataset created by me to *explain certain concepts more clearly*. After this,the same analysis is carried out using a Data Set ** downloaded from the MovieLens website ** along with Data Visualization.\n"
   ]
  },
  {
   "cell_type": "markdown",
   "metadata": {},
   "source": [
    "<img src='NetflixPrize.jpg'>\n",
    "Reference:Mashable.com"
   ]
  },
  {
   "cell_type": "markdown",
   "metadata": {},
   "source": [
    "## SECTIONS\n",
    "\n",
    "* <a href='#Types'>Types of Recommender Systems</a>\n",
    "* <a href='#Sample DataSet'>Sample Dataset</a>\n",
    "  * <a href='#EC'>Extracting CSV Data and Cleaning</a>\n",
    "  * <a href='#ED'>Euclidean Distance</a>\n",
    "  * <a href='#PC'>Pearson Correlation</a>\n",
    "  * <a href='#APC'>Advantages of Pearson Correlation</a>\n",
    "  * <a href='#FCN'>Finding the 'Closest Neigbour' to a User</a>\n",
    "  * <a href='#RBI'>Recommending Best Item to a User</a>\n",
    "\n",
    "  \n",
    "* <a href='#MLDS'>Movie Lens Data Set</a>\n",
    "  * <a href='#FAWD'>Merging User Data and Visualization</a>\n",
    "  * <a href='#GTRM'>Get Top Rated Movies for Users</a>\n",
    "   \n",
    "  \n",
    "\n",
    "* <a href='#EVRS'>Evaluate Recommendation System and Challenges</a>\n",
    "* <a href='#RHL'>References and Helpful Links</a>\n",
    "\n"
   ]
  },
  {
   "cell_type": "markdown",
   "metadata": {},
   "source": [
    "<a id='Types'></a>\n",
    "# TYPES OF RECOMMENDER SYSTEMS\n",
    "\n",
    "There are 2 types of Filtering Algorithms:-\n",
    "\n",
    "**Content Based  Filtering**:New products/services are recommended to  Individuals based on Genre/type previously ordered/reviewed.For example,if you are a Fan of 'Star Wars''Star Trek' etc,the content based Filtering algorithm will recommend movies along the genre of 'Sci-Fi'.(Maybe the New Star Wars/Avatar Sequel will be recommended to you in the Future!)\n",
    "\n",
    "**Collaborative Filtering System**:Here recommendations are provided based on similiarity between Users/Items previously rated.For example imagine that you and your friends A(same likes) and B(dislikes for similiar products) buy certain products.Based on the previous products ordered by them and you, a new Shampoo brand (picked by both A and/or B) can be recommended to you.Chances are good that you'll like the brand rated highly by  A and detest(or never buy again!!) the one of preference by your friend B.\n",
    "\n"
   ]
  },
  {
   "cell_type": "markdown",
   "metadata": {},
   "source": [
    "<a id='Sample DataSet'></a>\n",
    "# SAMPLE DATASET\n",
    "\n",
    "As we have seen Collaborative Filtering takes a different approach from Content Based Filtering .Here we have a list of Users,lots of ratings and recommendations provided by  *some Users* on *some movies*.\n",
    "To simplify matters rather than providing a Large Sparse Matrix(will deal with Sparsity Later) we  take a relatively smaller list of Users and movie ratings stored in a CSV Sheet with ratings from 0 to 5.\n",
    "We have  Users UA(User A) to UG(User G) who have rated various movies.Not all Users have rated all of the Movies so our goal is to find similarity among certain users who have and to derive recommendations based on previous ratings made by them.\n",
    "\n",
    "Here we load the Dataframe CF1.csv.To simplify the Understanding the csv file,it takes the Users as Columns and the Rows as the Movies.The Users are represented by \"U..\" and the Items are given by \"I..\".The 2 approaches to Filtering are:-"
   ]
  },
  {
   "cell_type": "markdown",
   "metadata": {
    "collapsed": true
   },
   "source": [
    "**Item based Filtering**:This takes the Similiarity between the Consumption of Items.Not all of the given users rate a particular Item."
   ]
  },
  {
   "cell_type": "markdown",
   "metadata": {},
   "source": [
    "**User User Filtering**:Which provides Product recommendation based on what users who rated similar products gave.<br/>The Figure Given Below depicts the Difference."
   ]
  },
  {
   "cell_type": "markdown",
   "metadata": {},
   "source": [
    "<img src='U.jpg'>\n",
    "Reference:Salem Marafi Blog Post"
   ]
  },
  {
   "cell_type": "code",
   "execution_count": 1,
   "metadata": {
    "collapsed": true
   },
   "outputs": [],
   "source": [
    "%matplotlib inline\n",
    "#IMORTING ALL THE REQUIRED LIBRARIES\n",
    "import pandas as pd\n",
    "from scipy.spatial.distance import cosine\n",
    "import numpy as np\n",
    "from numpy import linalg as la\n",
    "from scipy.stats.stats import pearsonr\n",
    "from IPython.display import Image\n",
    "from math import isnan\n",
    "from pandas import compat \n",
    "import matplotlib.pyplot as plt\n"
   ]
  },
  {
   "cell_type": "markdown",
   "metadata": {},
   "source": [
    "<a id='EC'></a>\n",
    "## EXTRACTING CSV DATA AND CLEANING"
   ]
  },
  {
   "cell_type": "code",
   "execution_count": 2,
   "metadata": {
    "collapsed": false
   },
   "outputs": [
    {
     "name": "stdout",
     "output_type": "stream",
     "text": [
      "  User   UA   UB   UC   UD   UE   UF   UG   UH   UI   UJ   UK   UL\n",
      "0   IA  NaN  5.0  3.0  5.0  4.0  0.0  4.0  2.0  5.0  4.0  2.0  5.0\n",
      "1   IB  4.0  4.0  4.0  2.0  3.0  0.0  0.0  0.0  4.0  NaN  1.0  NaN\n",
      "2   IC  5.0  5.0  5.0  3.0  2.0  0.0  4.0  2.0  3.0  3.0  NaN  1.0\n",
      "3   ID  4.0  5.0  2.0  4.0  NaN  0.0  4.0  NaN  2.0  NaN  2.0  NaN\n",
      "4   IE  5.0  2.0  5.0  5.0  1.0  3.0  2.0  1.0  1.0  NaN  3.0  2.0\n"
     ]
    }
   ],
   "source": [
    "#READING THE CSV FILES\n",
    "useritemlist1=pd.read_csv('CF1.csv')\n",
    "print useritemlist1.head()\n",
    "userdict=useritemlist1.set_index('User').to_dict()\n",
    "#Converts our DataFrame to a Dictionary of Dicitionaries with Each User as Key,and The Index as Another Dictionary \n",
    "#Format{User:{Item:Rating}.....}\n"
   ]
  },
  {
   "cell_type": "markdown",
   "metadata": {},
   "source": [
    "Here,we notice a lot of NAN Values stored in the Data Frame.In  traditional data frames,the values stored are very sparse.So we get the Dictionary after filtering out all these NAN Values.The Steps in Cleaning:-\n",
    "* Setting up our Initial Dictionary\n",
    "* Iterating over all the Columns and taking all Numeric Values(>0.0)\n",
    "* Storing these numeric valid entries in Dictionary\n",
    "\n",
    "This returns a List of Movies rated by Each User which are not NAN Values."
   ]
  },
  {
   "cell_type": "code",
   "execution_count": 3,
   "metadata": {
    "collapsed": false
   },
   "outputs": [
    {
     "name": "stdout",
     "output_type": "stream",
     "text": [
      "Previous Dictionary with NAN Values still there:\n",
      "\n",
      "{'UL': {'II': nan, 'IH': 3.0, 'IJ': nan, 'IA': 5.0, 'IC': 1.0, 'IB': nan, 'IE': 2.0, 'ID': nan, 'IG': 4.0, 'IF': nan}, 'UI': {'II': 4.0, 'IH': 5.0, 'IJ': nan, 'IA': 5.0, 'IC': 3.0, 'IB': 4.0, 'IE': 1.0, 'ID': 2.0, 'IG': nan, 'IF': 1.0}, 'UH': {'II': 1.0, 'IH': 2.0, 'IJ': nan, 'IA': 2.0, 'IC': 2.0, 'IB': 0.0, 'IE': 1.0, 'ID': nan, 'IG': nan, 'IF': nan}, 'UK': {'II': 1.0, 'IH': nan, 'IJ': nan, 'IA': 2.0, 'IC': nan, 'IB': 1.0, 'IE': 3.0, 'ID': 2.0, 'IG': 1.0, 'IF': 4.0}, 'UJ': {'II': 2.0, 'IH': 4.0, 'IJ': nan, 'IA': 4.0, 'IC': 3.0, 'IB': nan, 'IE': nan, 'ID': nan, 'IG': 2.0, 'IF': nan}, 'UE': {'II': 3.0, 'IH': 2.0, 'IJ': nan, 'IA': 4.0, 'IC': 2.0, 'IB': 3.0, 'IE': 1.0, 'ID': nan, 'IG': 4.0, 'IF': 1.0}, 'UD': {'II': 5.0, 'IH': 4.0, 'IJ': nan, 'IA': 5.0, 'IC': 3.0, 'IB': 2.0, 'IE': 5.0, 'ID': 4.0, 'IG': 3.0, 'IF': 2.0}, 'UG': {'II': 2.0, 'IH': 4.0, 'IJ': 4.0, 'IA': 4.0, 'IC': 4.0, 'IB': 0.0, 'IE': 2.0, 'ID': 4.0, 'IG': nan, 'IF': nan}, 'UF': {'II': 0.0, 'IH': 0.0, 'IJ': nan, 'IA': 0.0, 'IC': 0.0, 'IB': 0.0, 'IE': 3.0, 'ID': 0.0, 'IG': 2.0, 'IF': 4.0}, 'UA': {'II': 5.0, 'IH': 4.0, 'IJ': nan, 'IA': nan, 'IC': 5.0, 'IB': 4.0, 'IE': 5.0, 'ID': 4.0, 'IG': 5.0, 'IF': 4.0}, 'UC': {'II': 1.0, 'IH': nan, 'IJ': nan, 'IA': 3.0, 'IC': 5.0, 'IB': 4.0, 'IE': 5.0, 'ID': 2.0, 'IG': 5.0, 'IF': 5.0}, 'UB': {'II': 3.0, 'IH': 4.0, 'IJ': nan, 'IA': 5.0, 'IC': 5.0, 'IB': 4.0, 'IE': 2.0, 'ID': 5.0, 'IG': nan, 'IF': 4.0}}\n",
      "\n",
      "Dictionary of Users and Ratings with NAN Values filtered out:\n",
      "\n",
      "{'UL': {'IA': 5.0, 'IH': 3.0, 'IC': 1.0, 'IE': 2.0, 'IG': 4.0}, 'UI': {'II': 4.0, 'IH': 5.0, 'IA': 5.0, 'IC': 3.0, 'IB': 4.0, 'IE': 1.0, 'ID': 2.0, 'IF': 1.0}, 'UH': {'II': 1.0, 'IH': 2.0, 'IA': 2.0, 'IC': 2.0, 'IB': 0.0, 'IE': 1.0}, 'UK': {'II': 1.0, 'IA': 2.0, 'IB': 1.0, 'IE': 3.0, 'ID': 2.0, 'IG': 1.0, 'IF': 4.0}, 'UJ': {'IA': 4.0, 'IH': 4.0, 'IC': 3.0, 'II': 2.0, 'IG': 2.0}, 'UE': {'II': 3.0, 'IH': 2.0, 'IA': 4.0, 'IC': 2.0, 'IB': 3.0, 'IE': 1.0, 'IG': 4.0, 'IF': 1.0}, 'UD': {'II': 5.0, 'IH': 4.0, 'IA': 5.0, 'IC': 3.0, 'IB': 2.0, 'IE': 5.0, 'ID': 4.0, 'IG': 3.0, 'IF': 2.0}, 'UG': {'II': 2.0, 'IH': 4.0, 'IJ': 4.0, 'IA': 4.0, 'IC': 4.0, 'IB': 0.0, 'IE': 2.0, 'ID': 4.0}, 'UF': {'II': 0.0, 'IH': 0.0, 'IA': 0.0, 'IC': 0.0, 'IB': 0.0, 'IE': 3.0, 'ID': 0.0, 'IG': 2.0, 'IF': 4.0}, 'UA': {'II': 5.0, 'IH': 4.0, 'IC': 5.0, 'IB': 4.0, 'IE': 5.0, 'ID': 4.0, 'IG': 5.0, 'IF': 4.0}, 'UC': {'II': 1.0, 'IA': 3.0, 'IC': 5.0, 'IB': 4.0, 'IE': 5.0, 'ID': 2.0, 'IG': 5.0, 'IF': 5.0}, 'UB': {'II': 3.0, 'IH': 4.0, 'IA': 5.0, 'IC': 5.0, 'IB': 4.0, 'IE': 2.0, 'ID': 5.0, 'IF': 4.0}}\n"
     ]
    }
   ],
   "source": [
    "ourdict={} #Initialize the Dictionary\n",
    "\n",
    "for element in useritemlist1:\n",
    "    if(element!='User'):\n",
    "        i=0 #Sets up the Counter for Accessing Each Row Element\n",
    "        ourdict[element]={} #Initialize Dictionary as Empty\n",
    "        for e1 in useritemlist1[element]: #Iterating over Movie Ratings for Each Movie.\n",
    "            e1=float(e1)\n",
    "            if(e1>=0.0):#Checking Condition for non-NAN Values\n",
    "              x=useritemlist1['User'][i]\n",
    "              ourdict[element][x]=e1 #Appending the User-Move-Rating to the Dicitonary\n",
    "             \n",
    "            i+=1 #Incrementing the Counter at Each Iteration\n",
    "       \n",
    "print \"Previous Dictionary with NAN Values still there:\\n\\n\",userdict\n",
    "\n",
    "print \"\\nDictionary of Users and Ratings with NAN Values filtered out:\\n\\n\",ourdict\n",
    "\n"
   ]
  },
  {
   "cell_type": "markdown",
   "metadata": {},
   "source": [
    "<a id='ED'></a>\n",
    "## EUCLIDEAN DISTANCE\n",
    "We  now have every users rating stored in a Dictionary for all the movies.To calculate the similiarty  between movies(on the basis of User Ratings),we have 2 distance metrics which we can make use of.<br\\>\n",
    "The first option is the Euclidean Distance which is the sum of Square Distances between 2 points.An example\n",
    "of Euclidean Distance is given below:-"
   ]
  },
  {
   "cell_type": "code",
   "execution_count": 4,
   "metadata": {
    "collapsed": false
   },
   "outputs": [
    {
     "name": "stdout",
     "output_type": "stream",
     "text": [
      "List of Ratings by User 1: [1, 1, 3, 4, 5, 6, 7, 8, 9, 10]\n",
      "List of Ratings by User 2: [10, 20, 30, 40, 50, 60, 70, 80, 90, 100]\n"
     ]
    }
   ],
   "source": [
    "Values1=[1,1,3,4,5,6,7,8,9,10]\n",
    "Values2=[10,20,30,40,50,60,70,80,90,100]#Sample Lists of Values\n",
    "print \"List of Ratings by User 1:\",Values1\n",
    "print \"List of Ratings by User 2:\",Values2"
   ]
  },
  {
   "cell_type": "markdown",
   "metadata": {},
   "source": [
    "A long and tedious Way to Do this is:-"
   ]
  },
  {
   "cell_type": "code",
   "execution_count": 5,
   "metadata": {
    "collapsed": false
   },
   "outputs": [
    {
     "name": "stdout",
     "output_type": "stream",
     "text": [
      "The Euclidean Distance among Ratings are 176.697481589\n"
     ]
    }
   ],
   "source": [
    "EucDistance=0\n",
    "for i in range(len(Values1)):\n",
    "    ElementDifference=Values1[i]-Values2[i]#Finding Difference Between Every Element in the Lists\n",
    "    SquareElementDifference=pow(ElementDifference,2)#Squaring Each Element in the Subtracted List\n",
    "    EucDistance+=SquareElementDifference#Summing these Distances and Square Root-> Similar to L2 Norm\n",
    "EucDistance=pow(EucDistance,0.5)\n",
    "print \"The Euclidean Distance among Ratings are\",EucDistance\n",
    "    "
   ]
  },
  {
   "cell_type": "markdown",
   "metadata": {},
   "source": [
    "A more efficient method of the Same implementation will be:-"
   ]
  },
  {
   "cell_type": "code",
   "execution_count": 6,
   "metadata": {
    "collapsed": false
   },
   "outputs": [
    {
     "name": "stdout",
     "output_type": "stream",
     "text": [
      "The Same Calculation Achieved using an Inbuilt Function 176.697481589\n"
     ]
    }
   ],
   "source": [
    "Values1=np.array(Values1)\n",
    "Values2=np.array(Values2)\n",
    "EucDistance=la.norm(Values1-Values2)#Directly Computing the L2 Norm\n",
    "print \"The Same Calculation Achieved using an Inbuilt Function\",EucDistance"
   ]
  },
  {
   "cell_type": "markdown",
   "metadata": {},
   "source": [
    "<a id='PC'></a>\n",
    "## PEARSON CORRELATION\n",
    "This is the second method which can be used by us.An example of the Pearson Coorelation inbuilt function  is given:-"
   ]
  },
  {
   "cell_type": "code",
   "execution_count": 7,
   "metadata": {
    "collapsed": false
   },
   "outputs": [
    {
     "name": "stdout",
     "output_type": "stream",
     "text": [
      "The Pearson Correlation is given by: 0.995834714849\n"
     ]
    }
   ],
   "source": [
    "def ourpearsonfunction(Values1,Values2):\n",
    "    Pearson_corr=pearsonr(Values1,Values2)#Inbuilt function for Computing Pearson Corelation\n",
    "    \n",
    "    return Pearson_corr[0]\n",
    "#Example Testing-Run the Following Code to see an Example of Pearson Co-relation\n",
    "#Returns Result Between -1 to 1 ,1 Indicating Complete Co-relation(-1 Same Magnitute Opposite Sign) \n",
    "#0 Indicates No Correlation\n",
    "PC=ourpearsonfunction(Values1,Values2)\n",
    "print \"The Pearson Correlation is given by:\",PC"
   ]
  },
  {
   "cell_type": "markdown",
   "metadata": {},
   "source": [
    "Here,using Linear Algebra ,we achieved the same results in much fewer lines of Code and more efficiently.Now that the Our function for Pearson Correlation is fixed,we can use it to find the Similarity between 2 Items based on all of the Users Feedbacks.You might have noticed,that we used only the 1st coefficient of the Pearson Function rather than both of the Values.The Second Value indicates the 2 tailed p:-A Value between 0 to 1,giving the probablity of our data arising if the Null Hypothesis was true."
   ]
  },
  {
   "cell_type": "markdown",
   "metadata": {
    "collapsed": false
   },
   "source": [
    "You can play along with the Values of 1 and 2 to see different pearson correlation values."
   ]
  },
  {
   "cell_type": "markdown",
   "metadata": {},
   "source": [
    "The  Pearson Correlation Formula is given by:-\n",
    "$$r = \\frac{(n(\\sum_{}{}xy))-(\\sum_{}{}x)(\\sum_{}{}y))}{{\\sqrt{(n(\\sum_{}{}x^2)-(\\sum_{}{}x)^2)(n(\\sum_{}{}y^2)-(\\sum_{}{}y)^2)}}}$$\n",
    "\n",
    "Here x is the List containing all Ratings by User 1 and y contains the corresponding ratings by User 2 for the same movies.N is the total number of entries in either list(Equally Sized)\n",
    "\n"
   ]
  },
  {
   "cell_type": "markdown",
   "metadata": {},
   "source": [
    "### PEARSON CORRELATION -MOVIE SIMILARITY"
   ]
  },
  {
   "cell_type": "code",
   "execution_count": 8,
   "metadata": {
    "collapsed": false
   },
   "outputs": [
    {
     "name": "stdout",
     "output_type": "stream",
     "text": [
      "The following Users have rated both of the Movies: set(['UI', 'UH', 'UK', 'UE', 'UD', 'UG', 'UF', 'UC', 'UB'])\n",
      "Number of Common Users who rated Items: 9\n",
      "[5.0, 2.0, 2.0, 4.0, 5.0, 4.0, 0.0, 3.0, 5.0]\n",
      "[4.0, 0.0, 1.0, 3.0, 2.0, 0.0, 0.0, 4.0, 4.0]\n",
      "0.64051261522\n"
     ]
    }
   ],
   "source": [
    "\"\"\"\n",
    "Here,our goal is to compute the Similiarty between Movies based on Ratings given to them by Users.We find the Ratings \n",
    "Given by Each User who has rated both the Movies and find the Pearson Similiarity among these 2 Lists of individual Ratings\n",
    "among common movies .\n",
    "Note:IF YOU WANT TO RUN THIS CELL AGAIN,RE-RUN  EVERYTHING FROM BEGINING TO THIS CELL-the ourdict dictionary gets changed \n",
    "later on in the Movielens section\n",
    "item1-First Movie\n",
    "item2-Second Movie\n",
    "\"\"\"\n",
    "def itemcorrelation(item1,item2):\n",
    "\n",
    "    user_item=[]\n",
    "    \n",
    "    for element in userdict:\n",
    "        if(item1 in userdict[element]):\n",
    "          if(item2 in userdict[element]):\n",
    "            user_item.append(element)#Finding Users who have rated both of the Movies\n",
    "    common_users=set(user_item)\n",
    "    print \"The following Users have rated both of the Movies:\",common_users\n",
    "    print \"Number of Common Users who rated Items:\",len(common_users)\n",
    "    len_common_users=len(common_users)\n",
    "    if(len_common_users==0):#If no User has rated both of the Movies,return 0 indicating cannot be computed\n",
    "        return 0\n",
    "    else:\n",
    "        item_1rating=[]\n",
    "        item_2rating=[]#Initialize 2 lists storing values for both ratings by each User\n",
    "        for element in common_users:\n",
    "            item_1rating.append(userdict[element][item1])\n",
    "            item_2rating.append(userdict[element][item2])\n",
    "        print item_1rating\n",
    "        print item_2rating\n",
    "        itemitemcorrelation=ourpearsonfunction(item_1rating,item_2rating)#Applying the Pearson Co-relation to Items\n",
    "    return itemitemcorrelation\n",
    "    pass\n",
    "userdict=ourdict                        \n",
    "print itemcorrelation('IA','IB')"
   ]
  },
  {
   "cell_type": "markdown",
   "metadata": {},
   "source": [
    "<a id='APC'></a>\n",
    "## ADVANTAGES OF PEARSON CORRELATION"
   ]
  },
  {
   "cell_type": "markdown",
   "metadata": {},
   "source": [
    "### EUCLIDEAN DISTANCE-USER,USER"
   ]
  },
  {
   "cell_type": "code",
   "execution_count": 9,
   "metadata": {
    "collapsed": false
   },
   "outputs": [],
   "source": [
    "\"\"\"\n",
    "Computing the Same Movie Similarity using the Euclidean Distance metric.We will be comparing the results of our Pearson\n",
    "and Euclidean Distance for Similar Data Entries and make comments on thier efficacy based on the results.\n",
    "p1=User 1\n",
    "p2=User 2\n",
    "\"\"\"\n",
    "def similiarity_users(p1,p2):\n",
    "    Movie_bothseen=0\n",
    "    for movie in ourdict[p1]:\n",
    "        if movie in ourdict[p2]:\n",
    "            Movie_bothseen+=1\n",
    "    if(Movie_bothseen==0):\n",
    "        return 0\n",
    "    sumeucid_distance=[]\n",
    "    for movie in ourdict[p1]:\n",
    "        if movie in ourdict[p2]:\n",
    "            sumeucid_distance.append(pow(ourdict[p1][movie]-ourdict[p2][movie],2))\n",
    "    sumeucid=sum(sumeucid_distance)\n",
    "    \n",
    "    sim_users=1/(1+pow(sumeucid,0.5))#Here we take the Inverse of the Sum of 1 and the Euclidean Distance to get Similarity\n",
    "    return sim_users\n",
    "            "
   ]
  },
  {
   "cell_type": "markdown",
   "metadata": {},
   "source": [
    "Here,the Similiarity Users provides a Baseline Result to get the Similarity between 2 Users.However,this does not account for Biases in User Ratings.<br\\>For Example ,You and I may have a similar taste in Items.However,the Score given by me to each item I like may be much higher than what you give.For example,I give almost a 5/5 to everything I like.Even though you were equally as fond of these movies,you'd give a 3 or 4.The Similarity Score given by the Euclidean Distances will not account for this and **not give the expected score of '1'**.Hence,we go in for a Different metric to resolve this problem-The Pearson Correlation.\n",
    "\n"
   ]
  },
  {
   "cell_type": "markdown",
   "metadata": {},
   "source": [
    "### PEARSON_CORRELATION-USER,USER"
   ]
  },
  {
   "cell_type": "markdown",
   "metadata": {},
   "source": [
    "Here,the Pearson Similiarity accounts for this Disparity by \"Normalizing\" the Data.\n",
    "The Steps Involved in the Pearson Similarity are:-\n",
    "* Finding Common Movies rated by both of the Users.\n",
    "* Normalizes user 'p1' and 'p2' rating by subtracting the 'Sum of Squares of all Rating' from the Square of the Sum of all Rating'(Movies In the Common Movie Seen List)\n",
    "* Using these Results,it computes the Pearson Correlation for Items.The sample Function Implementation is shown below\n",
    "\n"
   ]
  },
  {
   "cell_type": "code",
   "execution_count": 10,
   "metadata": {
    "collapsed": false
   },
   "outputs": [],
   "source": [
    "\"\"\"\n",
    "Here we compute the Pearson Correlation for Users.(In the Previous Section we compute it between Movies)\n",
    "We code up our Function here based on the Formula rather than using the Inbuilt Function.This will give an intutitive\n",
    "idea of what is going on 'Behind the Scenes'\n",
    "IF YOU WANT TO RUN THIS CELL AGAIN,RE-RUN  EVERYTHING FROM BEGINING TO THIS CELL-the ourdict dictionary gets changed \n",
    "later on in the Movielens section\n",
    "\"\"\"\n",
    "def pearson_correlation(p1,p2):\n",
    "    Movie_bothseen=[]\n",
    "    for movie in ourdict[p1]:\n",
    "        if movie in ourdict[p2]:\n",
    "            Movie_bothseen.append(movie)#Get the List of Movies both seen by a Given User\n",
    "    Nomovies=len(Movie_bothseen)\n",
    "    #print Nomovies\n",
    "    if(Nomovies==0):\n",
    "        return 0   #If no movies are seen by both the Users,return 0\n",
    "    else:\n",
    "   \n",
    "     #Computing the Pearson Correlation following the Formula Mentioned above.\n",
    "     p1_pref=sum((ourdict[p1][movie] for movie in Movie_bothseen))\n",
    "     p1_pref_sq=sum((pow(ourdict[p1][movie],2) for movie in Movie_bothseen))\n",
    "     p2_pref=sum((ourdict[p2][movie] for movie in Movie_bothseen))\n",
    "     p2_pref_sq=sum((pow(ourdict[p2][movie],2) for movie in Movie_bothseen))\n",
    "     SOP=sum(ourdict[p1][movie]*ourdict[p2][movie] for movie in Movie_bothseen)\n",
    "     denom = pow(((p1_pref_sq - pow(p1_pref,2)/Nomovies) * (p2_pref_sq -pow(p2_pref,2)/Nomovies)),0.5)\n",
    "     \n",
    "     if(denom==0):#If the Denominator is Zero,this is not a Valid Expression and return 0.\n",
    "        return 0\n",
    "     else:\n",
    "        num = SOP - (p1_pref*p2_pref/Nomovies)\n",
    "        pear_corr=float(float(num)/float(denom))\n",
    "    return pear_corr\n",
    "        \n",
    "    \n",
    " \n",
    "\n"
   ]
  },
  {
   "cell_type": "markdown",
   "metadata": {},
   "source": [
    "Let us Compare our results for 2 Users ,U-G and U-H.Based on their ratings,we should theoretically ,be getting a Correlation of 1.(User H's rating is just G's rating  multiplied by 2.They have rated Similar Movies)."
   ]
  },
  {
   "cell_type": "code",
   "execution_count": 11,
   "metadata": {
    "collapsed": false
   },
   "outputs": [
    {
     "name": "stdout",
     "output_type": "stream",
     "text": [
      "Movies rated by User-G:\n",
      "{'II': 2.0, 'IH': 4.0, 'IJ': 4.0, 'IA': 4.0, 'IC': 4.0, 'IB': 0.0, 'IE': 2.0, 'ID': 4.0}\n",
      "Movies rated by User-H:\n",
      "{'II': 1.0, 'IH': 2.0, 'IA': 2.0, 'IC': 2.0, 'IB': 0.0, 'IE': 1.0}\n",
      "\n",
      "Euclidean Similarity in Ratings Between them(Only Common Movies Considered):\n",
      "0.21089672206\n",
      "\n",
      "Pearson Co-relation Similarity in Ratings Between them(Only Common Movies Considered):\n",
      "1.0\n"
     ]
    },
    {
     "data": {
      "image/png": "[encoded data removed]",
      "text/plain": [
       "<matplotlib.figure.Figure at 0x114e8a490>"
      ]
     },
     "metadata": {},
     "output_type": "display_data"
    }
   ],
   "source": [
    "\"\"\"\n",
    "IF YOU WANT TO RUN THIS CELL AGAIN,RE-RUN  EVERYTHING FROM BEGINING TO THIS CELL-the ourdict dictionary gets changed \n",
    "later on in the Movielens section with Sparse Values.\n",
    "\"\"\"\n",
    "print \"Movies rated by User-G:\\n\",ourdict['UG']\n",
    "print \"Movies rated by User-H:\\n\",ourdict['UH']\n",
    "ES=similiarity_users('UG','UH')\n",
    "PCS=pearson_correlation('UG','UH')\n",
    "print \"\\nEuclidean Similarity in Ratings Between them(Only Common Movies Considered):\\n\",ES\n",
    "print \"\\nPearson Co-relation Similarity in Ratings Between them(Only Common Movies Considered):\\n\",PCS\n",
    "UG_graph=[]\n",
    "UH_graph=[]\n",
    "for movie in ourdict['UG']:\n",
    "    if movie in ourdict['UH']:\n",
    "       UG_graph.append(ourdict['UG'][movie])\n",
    "       UH_graph.append(ourdict['UH'][movie])\n",
    "plt.plot(UG_graph,UH_graph)#Plotting the Graph Between Similarity of User G and H\n",
    "plt.title('Co-relation among Common Movie Predicitions for User G and H')\n",
    "plt.show()\n",
    "\n"
   ]
  },
  {
   "cell_type": "markdown",
   "metadata": {},
   "source": [
    "Here,we see the Pearson Correlation giving us our expected value whereas the Euclidean Measurement fails.\n",
    "We hence,go in with the Former for computing our User-Item based Similarity in the next section."
   ]
  },
  {
   "cell_type": "markdown",
   "metadata": {},
   "source": [
    "<a id='FCN'></a>\n",
    "## FINDING CLOSEST NEIGHBOURS TO A PERSON\n",
    "We now go in for our implementation of User-Item Similiarity based on our previous approach .\n",
    "* Take Users from Our List who have Rated Certain Items.\n",
    "* Calculate the Distance between People  based on their Rating.\n",
    "* Find the Individuals who are similar to the given person.\n"
   ]
  },
  {
   "cell_type": "code",
   "execution_count": 12,
   "metadata": {
    "collapsed": false
   },
   "outputs": [],
   "source": [
    "\"\"\"\n",
    "The Function takes 2 inputs:-\n",
    "Person:-Individual for Whom the Closest Neighours have to be computed\n",
    "n:-Number of Closest Neigbours to Return\n",
    "\"\"\"\n",
    "def similar_users(person,n):\n",
    "    sim_scores={}\n",
    "    for individual in ourdict:\n",
    "        if(individual!=person):#Compute Pearson Correlation Value for Every Other User in the List\n",
    "            sim_scores[individual]=pearson_correlation(person,individual)       \n",
    "    sort_sim=sorted(sim_scores) #Sort the Dicitonary  Key by Pearson Value(Ascending Order)\n",
    "    sort_sim_values=sorted(sim_scores.values())# Sort the Value by Pearson Value(Ascending Order)\n",
    "    sort_sim=sort_sim[len(sort_sim)-n:]#Get the Last n elements->Closest n Matches\n",
    "    sort_sim_values=sort_sim_values[len(sim_scores)-n:]\n",
    "    sort_sim=sort_sim[::-1]#Reverse the List\n",
    "    sort_sim_values=sort_sim_values[::-1]\n",
    "    return sort_sim,sort_sim_values\n",
    "    pass"
   ]
  },
  {
   "cell_type": "code",
   "execution_count": 13,
   "metadata": {
    "collapsed": false
   },
   "outputs": [
    {
     "name": "stdout",
     "output_type": "stream",
     "text": [
      "The Closest Neighbours to User A are(gave similar ratings to movies):\n",
      "['UL', 'UK', 'UJ', 'UI', 'UH']\n",
      "The Pearson Similarity Scores are:\n",
      "[0.4472135954999579, 0.24019223070763124, 0.21821789023599134, 0.10629880069054613, 0.08137884587711594]\n"
     ]
    }
   ],
   "source": [
    "Closest_neighbours,value=similar_users('UA',5)#Returns 5 CLosest Neghbours to User A\n",
    "print \"The Closest Neighbours to User A are(gave similar ratings to movies):\\n\",Closest_neighbours\n",
    "print \"The Pearson Similarity Scores are:\\n\",value\n",
    "\n"
   ]
  },
  {
   "cell_type": "markdown",
   "metadata": {},
   "source": [
    "<a id='RBI'></a>\n",
    "## RECOMMENDING BEST ITEM TO A USER"
   ]
  },
  {
   "cell_type": "markdown",
   "metadata": {},
   "source": [
    "Now,let us proceed with our Implementation of Recommending Products to a Given User.The Steps are:-\n",
    "* Finding the Pearson Similarity with Every Other User in the Database.\n",
    "* For all these Other Users,getting the Rating for a Particular Movie(not seen by the First User) and computing the sum of product of the Pearson Similarity and the Rating.\n",
    "* Dividing the Weighted Sum of these Ratings by the Sum of the Similarity Scores to obtain the recommendation for a     Given Product on a Rating Scale of 0-5.\n",
    "* We can choose on how many Product Recommendations to return to the User.If n=1 is fed in as an Input then,the given   function only returns the HIghest rated product.\n",
    "  Note:In our Implementation,we only consider the Cases of Products with Positive Pearson Correlation Values."
   ]
  },
  {
   "cell_type": "code",
   "execution_count": 14,
   "metadata": {
    "collapsed": false
   },
   "outputs": [],
   "source": [
    "\"\"\"\n",
    "This Function takes in 2 inputs:-\n",
    "user:-Individual for Whom Movies have to be recommended to be seen\n",
    "n-Number of Movies to be recommended\n",
    "\"\"\"\n",
    "def get_best_items(user,n):\n",
    "    movie_count={}\n",
    "    rating_sum={}\n",
    "    for individual in ourdict:\n",
    "        if(individual!=user):\n",
    "            sim_scores=pearson_correlation(user,individual) #Getting Pearson Correlation for all other movies\n",
    "        for movie  in ourdict[individual]:\n",
    "            if(movie not in ourdict[user]):\n",
    "              if(ourdict[individual][movie]!=0):\n",
    "                if(sim_scores>=0):#Get Similiart Scores for When Positive Co-rrelation\n",
    "                    rating_sum.setdefault(movie,0)#Initialize the Dictionary Key to be Zero if no value present\n",
    "                    movie_count.setdefault(movie,0)\n",
    "                    #Get Product of Movie Rating  by Neighbour and Similairt Score Value\n",
    "                    rating_sum[movie]+=float(ourdict[individual][movie]*sim_scores)\n",
    "                    \n",
    "                    movie_count[movie]+=float(sim_scores)\n",
    "                    \n",
    "    \n",
    "    #Sparse Condition for Movie Lens Data Set\n",
    "    for movie in movie_count:\n",
    "        if movie_count[movie]==0:\n",
    "            movie_count[movie]+=1\n",
    "    #print rating_sum\n",
    "    #print movie_count\n",
    "    for movie in rating_sum:\n",
    "        #Divide the Sum of all Movie  Ratings by the Similiarty Score\n",
    "        rating_sum[movie]=float(float(rating_sum[movie])/float(movie_count[movie]))\n",
    "    rating_sum_movie=sorted(rating_sum,key=rating_sum.__getitem__) \n",
    "    #Sort the Dictionary according to Key Values\n",
    "   \n",
    "    rating_sum_value=sorted(rating_sum.values()) \n",
    "    #^^SPECIAL CASE:when more ratings are requested than dictionary elements present,return entire dictionary\n",
    "    #Else break into N top entries to be returned\n",
    "    if(len(rating_sum_value)>n):\n",
    "     rating_sum_movie=rating_sum_movie[len(rating_sum_movie)-n:]#Get Last n Eleements\n",
    "     rating_sum_value=rating_sum_value[len(rating_sum_value)-n:]\n",
    "     rating_sum_movie=rating_sum_movie[::-1]#Reverse the List\n",
    "     rating_sum_value=rating_sum_value[::-1]\n",
    "     return rating_sum_movie,rating_sum_value   \n",
    "    if(len(rating_sum_value)==0):\n",
    "        return 0,0\n",
    "    return rating_sum_movie[::-1],rating_sum_value[::-1]\n",
    "    \n",
    "        \n",
    "                \n",
    "                \n",
    "        \n",
    "    "
   ]
  },
  {
   "cell_type": "code",
   "execution_count": 15,
   "metadata": {
    "collapsed": false
   },
   "outputs": [
    {
     "name": "stdout",
     "output_type": "stream",
     "text": [
      "Best Recommended Movies are ['IJ', 'ID', 'IF', 'IG']\n",
      "Ratings for these Movies are [4.0, 3.6336239799555576, 3.1860852410832603, 2.6244754032150293]\n"
     ]
    }
   ],
   "source": [
    "rating_sum_movie,rating_sum_value=get_best_items('UH',4)\n",
    "#The Number of entries returned may be less than n-For example setting it to 5 will only produce 4 close Move Predictions\n",
    "#This is because it does not have enough close neighoburs with Positive Pearson Co-rrelation score.\n",
    "print \"Best Recommended Movies are\",rating_sum_movie\n",
    "print \"Ratings for these Movies are\",rating_sum_value"
   ]
  },
  {
   "cell_type": "markdown",
   "metadata": {},
   "source": [
    "<a id='MLDS'></a>\n",
    "# MOVIE LENS DATA SET"
   ]
  },
  {
   "cell_type": "markdown",
   "metadata": {},
   "source": [
    "Here,we make use of a Real world Data set provided in the Movie Lens website-100K Dataset.It consists of **100,000 ratings** from **1000 Users** on **1700 Movies**.We proceed with Loading the Data Files and Visualizing Certain Features of our Data set."
   ]
  },
  {
   "cell_type": "code",
   "execution_count": 16,
   "metadata": {
    "collapsed": false
   },
   "outputs": [
    {
     "name": "stdout",
     "output_type": "stream",
     "text": [
      "   movie_id             title release_date  \\\n",
      "0         1  Toy Story (1995)  01-Jan-1995   \n",
      "1         1  Toy Story (1995)  01-Jan-1995   \n",
      "2         1  Toy Story (1995)  01-Jan-1995   \n",
      "3         1  Toy Story (1995)  01-Jan-1995   \n",
      "4         1  Toy Story (1995)  01-Jan-1995   \n",
      "\n",
      "                                            imdb_url  user_id  rating  \\\n",
      "0  http://us.imdb.com/M/title-exact?Toy%20Story%2...      308       4   \n",
      "1  http://us.imdb.com/M/title-exact?Toy%20Story%2...      287       5   \n",
      "2  http://us.imdb.com/M/title-exact?Toy%20Story%2...      148       4   \n",
      "3  http://us.imdb.com/M/title-exact?Toy%20Story%2...      280       4   \n",
      "4  http://us.imdb.com/M/title-exact?Toy%20Story%2...       66       3   \n",
      "\n",
      "   timestamp  \n",
      "0  887736532  \n",
      "1  875334088  \n",
      "2  877019411  \n",
      "3  891700426  \n",
      "4  883601324  \n"
     ]
    }
   ],
   "source": [
    "#REFERENCE:MOVIELENS.COM 100K MOVIES/GREGRADA.COM BLOG\n",
    "r_cols = ['user_id', 'movie_id', 'rating', 'timestamp']#Given the Column Names for User  and Movie Rating Data\n",
    "ratings = pd.read_csv('u.data', sep='\\t', names=r_cols,encoding='latin-1')#Extract User Data File\n",
    "m_cols = ['movie_id', 'title', 'release_date', 'video_release_date', 'imdb_url']#Give Column Names for Movies\n",
    "movies = pd.read_csv('u.item', sep='|', names=m_cols, usecols=range(5),  encoding='latin-1')\n",
    "title_merged=pd.merge(movies,ratings)#Merge the 2 Data Frames\n",
    "del title_merged['video_release_date'] #Drop the Column not required.\n",
    "print title_merged.head()#Show the top 5 elements of the Merged Dataframe."
   ]
  },
  {
   "cell_type": "markdown",
   "metadata": {},
   "source": [
    "<a id='FAWD'></a>\n",
    "## MERGING USER DATA AND VISUALIZATION "
   ]
  },
  {
   "cell_type": "code",
   "execution_count": 17,
   "metadata": {
    "collapsed": false
   },
   "outputs": [
    {
     "name": "stdout",
     "output_type": "stream",
     "text": [
      "   movie_id                  title release_date  \\\n",
      "0         1       Toy Story (1995)  01-Jan-1995   \n",
      "1         4      Get Shorty (1995)  01-Jan-1995   \n",
      "2         5         Copycat (1995)  01-Jan-1995   \n",
      "3         7  Twelve Monkeys (1995)  01-Jan-1995   \n",
      "4         8            Babe (1995)  01-Jan-1995   \n",
      "\n",
      "                                            imdb_url  user_id  rating  \\\n",
      "0  http://us.imdb.com/M/title-exact?Toy%20Story%2...      308       4   \n",
      "1  http://us.imdb.com/M/title-exact?Get%20Shorty%...      308       5   \n",
      "2  http://us.imdb.com/M/title-exact?Copycat%20(1995)      308       4   \n",
      "3  http://us.imdb.com/M/title-exact?Twelve%20Monk...      308       4   \n",
      "4     http://us.imdb.com/M/title-exact?Babe%20(1995)      308       5   \n",
      "\n",
      "   timestamp  age sex occupation zip_code  \n",
      "0  887736532   60   M    retired    95076  \n",
      "1  887737890   60   M    retired    95076  \n",
      "2  887739608   60   M    retired    95076  \n",
      "3  887738847   60   M    retired    95076  \n",
      "4  887736696   60   M    retired    95076  \n"
     ]
    }
   ],
   "source": [
    "u_cols = ['user_id', 'age', 'sex', 'occupation', 'zip_code']#Column Name for User Personal Data\n",
    "users = pd.read_csv('u.user', sep='|', names=u_cols,  encoding='latin-1')\n",
    "all_merged=pd.merge(title_merged,users)#Merge this to our existing Dataframe\n",
    "print all_merged.head()"
   ]
  },
  {
   "cell_type": "code",
   "execution_count": 18,
   "metadata": {
    "collapsed": false
   },
   "outputs": [
    {
     "data": {
      "image/png": "[encoded data removed]",
      "text/plain": [
       "<matplotlib.figure.Figure at 0x104adde50>"
      ]
     },
     "metadata": {},
     "output_type": "display_data"
    }
   ],
   "source": [
    "#Get the Average Age of All Users and convert it to a List\n",
    "\"\"\"\n",
    "Note Certain Users may get repeated since,we are trying to Visualize  sum total ofAge->Movie Rater Histogram and\n",
    "not Unique User\n",
    "Age\"\"\"\n",
    "user_age=all_merged['age'].tolist()   \n",
    "plt.hist(user_age[:len(user_age)])#HISTOGRAM PLOT OF RATERS BY AGE\n",
    "plt.title(\"Raters By Age\")\n",
    "plt.xlabel(\"Age of Movie Rater\")\n",
    "plt.ylabel(\"Frequency\")\n",
    "plt.show()"
   ]
  },
  {
   "cell_type": "code",
   "execution_count": 19,
   "metadata": {
    "collapsed": false
   },
   "outputs": [
    {
     "data": {
      "image/png": "[encoded data removed]",
      "text/plain": [
       "<matplotlib.figure.Figure at 0x113550490>"
      ]
     },
     "metadata": {},
     "output_type": "display_data"
    }
   ],
   "source": [
    "user_rating=all_merged['rating'].tolist()   \n",
    "plt.hist(user_rating[:len(user_rating)])\n",
    "plt.title(\"Average Rating Histogram\")\n",
    "plt.xlabel(\"Rating\")\n",
    "plt.ylabel(\"Frequency\")\n",
    "plt.show()"
   ]
  },
  {
   "cell_type": "markdown",
   "metadata": {},
   "source": [
    " <a id='GTRM'></a>\n",
    "## GET TOP RATED MOVIES FOR USERS"
   ]
  },
  {
   "cell_type": "code",
   "execution_count": 20,
   "metadata": {
    "collapsed": false
   },
   "outputs": [],
   "source": [
    "\"\"\"\n",
    "Here we proceed to find the Top Rated Movies for a User,based on the Same Pearson Similiarity Formula that we were Using \n",
    "before.The Initial Step involves building up our Dictionary similar to what we did with the Sample Data in the previous\n",
    "section\n",
    "\"\"\"\n",
    "i=0\n",
    "ourdict={}\n",
    "for user in title_merged['user_id']:\n",
    "    if(user in ourdict):\n",
    "        ourdict[user][title_merged['title'][i]]=title_merged['rating'][i]\n",
    "        #Append New USer->Movie_>Rating Value to the Dicitonary\n",
    "    else:\n",
    "        ourdict[user]={}\n",
    "        ourdict[user][title_merged['title'][i]]=title_merged['rating'][i]\n",
    "    i+=1\n"
   ]
  },
  {
   "cell_type": "code",
   "execution_count": 21,
   "metadata": {
    "collapsed": false,
    "scrolled": false
   },
   "outputs": [
    {
     "name": "stdout",
     "output_type": "stream",
     "text": [
      "\n",
      "The Top Rated Movies for User 1 are:\n",
      "[u'Marlene Dietrich: Shadow and Light (1996) ', u'Star Kid (1997)', u'Saint of Fort Washington, The (1993)', u'Little City (1998)', u'They Made Me a Criminal (1939)', u'Great Day in Harlem, A (1994)', u'Aiqing wansui (1994)', u\"Someone Else's America (1995)\", u'Prefontaine (1997)', u'Santa with Muscles (1996)', u'Two or Three Things I Know About Her (1966)', u'Anna (1996)', u'Pather Panchali (1955)', u'Close Shave, A (1995)', u\"Some Mother's Son (1996)\", u'Casablanca (1942)', u'Aparajito (1956)', u'Everest (1998)', u\"Schindler's List (1993)\", u'Leading Man, The (1996)']\n",
      "The Ratings Given by them by Closest Neighbours are:\n",
      "[5.0, 5.0, 5.0, 5.0, 5.0, 5.0, 5.0, 5.0, 5.0, 4.999999999999999, 4.750026164428947, 4.67419845295723, 4.62621252127888, 4.5297638181925235, 4.5196020288745755, 4.495066759181234, 4.475594945822551, 4.472267854467307, 4.467066096824052, 4.4485287106635]\n",
      "\n",
      "\n",
      "The Top Rated Movies for User 200 are:\n",
      "[u'Prefontaine (1997)', u'Saint of Fort Washington, The (1993)', u'Great Day in Harlem, A (1994)', u'Star Kid (1997)', u'Marlene Dietrich: Shadow and Light (1996) ', u'Entertaining Angels: The Dorothy Day Story (1996)', u'Santa with Muscles (1996)', u'They Made Me a Criminal (1939)', u'World of Apu, The (Apur Sansar) (1959)', u'Anna (1996)', u'Pather Panchali (1955)', u'Maya Lin: A Strong Clear Vision (1994)', u'Shawshank Redemption, The (1994)', u'Everest (1998)', u'Wallace & Gromit: The Best of Aardman Animation (1996)', u'Letter From Death Row, A (1998)', u'Leading Man, The (1996)', u'Usual Suspects, The (1995)', u'Lamerica (1994)', u'Close Shave, A (1995)']\n",
      "The Ratings Givng by them by Closest Neighbours are:\n",
      "[5.000000000000001, 5.000000000000001, 5.0, 5.0, 5.0, 5.0, 5.0, 5.0, 4.855677004073894, 4.653914855492127, 4.6183640902872956, 4.614399624609102, 4.509885999800001, 4.508549767695129, 4.498136366209029, 4.4858332184483825, 4.477225575051661, 4.455814762008844, 4.454422284284552, 4.432124607381816]\n"
     ]
    }
   ],
   "source": [
    "\"\"\"\n",
    "We can now  proceed to find the Top recommended movies for a Given User in the Data set.Since our Data set\n",
    "is much bigger than before we set n=20.We find the Top rated Movies for 2 Users,'1' and '200'\n",
    "\n",
    "\"\"\"\n",
    "\n",
    "rating_sum_movie,rating_sum_value=get_best_items(1,20)\n",
    "print \"\\nThe Top Rated Movies for User 1 are:\\n\" ,rating_sum_movie\n",
    "print \"The Ratings Given by them by Closest Neighbours are:\\n\",rating_sum_value\n",
    "\n",
    "\n",
    "rating_sum_movie,rating_sum_value=get_best_items(200,20)\n",
    "print \"\\n\\nThe Top Rated Movies for User 200 are:\\n\" ,rating_sum_movie\n",
    "print \"The Ratings Givng by them by Closest Neighbours are:\\n\",rating_sum_value"
   ]
  },
  {
   "cell_type": "markdown",
   "metadata": {},
   "source": [
    "Lets have a Look at the Top Most Viewed Movies and try to go a bit deeper into the statistics behind it."
   ]
  },
  {
   "cell_type": "code",
   "execution_count": 22,
   "metadata": {
    "collapsed": false
   },
   "outputs": [
    {
     "name": "stdout",
     "output_type": "stream",
     "text": [
      "MOST RATED MOVIES:\n",
      "title\n",
      "Star Wars (1977)             583\n",
      "Contact (1997)               509\n",
      "Fargo (1996)                 508\n",
      "Return of the Jedi (1983)    507\n",
      "Liar Liar (1997)             485\n",
      "dtype: int64\n"
     ]
    }
   ],
   "source": [
    "#Find the Top-5 Most rated Movies.\n",
    "print \"MOST RATED MOVIES:\\n\",all_merged.groupby('title').size().sort_values(ascending=False)[:5]"
   ]
  },
  {
   "cell_type": "markdown",
   "metadata": {},
   "source": [
    "So we see Star Wars is the most rated Movie according to the Database.We proceed with Finding Trends with Star Wars(A Personal Favorite Movie as well)."
   ]
  },
  {
   "cell_type": "code",
   "execution_count": 23,
   "metadata": {
    "collapsed": false
   },
   "outputs": [],
   "source": [
    "\"\"\"\n",
    "Finding some Trends relating to Star Wars Similiar to What we did before.We extract the Age,Rating and Gender of\n",
    "Every Individual who rated this movie.\n",
    "\"\"\"\n",
    "i=0\n",
    "age=[]\n",
    "rating=[]\n",
    "sex=[]\n",
    "occupation=[]\n",
    "for movie in all_merged['title']:\n",
    "    if(movie=='Star Wars (1977)'):\n",
    "        age.append(all_merged['age'][i])\n",
    "        rating.append(all_merged['rating'][i])\n",
    "        sex.append(all_merged['sex'][i])\n",
    "        occupation.append(all_merged['occupation'][i])\n",
    "    i+=1\n",
    "\n"
   ]
  },
  {
   "cell_type": "code",
   "execution_count": 24,
   "metadata": {
    "collapsed": false,
    "scrolled": true
   },
   "outputs": [
    {
     "data": {
      "image/png": "[encoded data removed]",
      "text/plain": [
       "<matplotlib.figure.Figure at 0x11a4b9d50>"
      ]
     },
     "metadata": {},
     "output_type": "display_data"
    }
   ],
   "source": [
    "plt.hist(age)#Histogram of Age\n",
    "plt.title(\"Star Wars-Raters By Age\")\n",
    "plt.xlabel(\"Age of Viewer\")\n",
    "plt.ylabel(\"Frequency\")\n",
    "plt.show()"
   ]
  },
  {
   "cell_type": "code",
   "execution_count": 25,
   "metadata": {
    "collapsed": false
   },
   "outputs": [
    {
     "data": {
      "image/png": "[encoded data removed]",
      "text/plain": [
       "<matplotlib.figure.Figure at 0x11a4b9810>"
      ]
     },
     "metadata": {},
     "output_type": "display_data"
    }
   ],
   "source": [
    "plt.hist(rating)#Histogram of Average Rating\n",
    "plt.title(\"Star Wars-Users by Rating\")\n",
    "plt.xlabel(\"Rating of Viewer\")\n",
    "plt.ylabel(\"Frequency\")\n",
    "plt.show()"
   ]
  },
  {
   "cell_type": "markdown",
   "metadata": {
    "collapsed": true
   },
   "source": [
    "Here,from the Histograms plotted above we notice,trends noticed are:-\n",
    "* Average Rating is higher for Star Movies,than the Average Rating over all Movies .Also,the distribution is no longer Gaussian ,but follows the Power Law Curve.\n",
    "* An almost identical Gaussian Distribution centred around the 30 years Age mark is obtained for both 'Star Wars' histogram and the Histogram of all the Movies."
   ]
  },
  {
   "cell_type": "markdown",
   "metadata": {},
   "source": [
    "<a id='EVRS'></a>\n",
    "# EVALUATING RECOMMENDER SYSTEMS AND CHALLENGES"
   ]
  },
  {
   "cell_type": "markdown",
   "metadata": {},
   "source": [
    "There are many methods by which recommender systems,can be evaluated.Some of these are:-\n",
    "\n",
    "* Forms of A/B Testing to see How users respond to Clicks on Recommender Systems.By evaluating the response of users towards different versions of the recommendation engine,can select the most optimal one.\n",
    "* The traditional Training/Hold-Out Set approach where a part of Training Data is kept aside and our Algorithm is run on this unseen data to evaluate how well the recommendation system is actually doing.The Root Mean Square Error Metric can be used in this scenario.Normalized RMSE and Mean Absolute Error are also metrics to be used.Precision and Recall Scores can also be used.\n",
    "* Most of the Entries in our Data are sparse->Users have rated only a small percentage of each item.The time taken to compute the predictions and memory required(Using Sparse Matrices Instead?)are also valid metrics.It doesnt make much sense to use a System which gives relatively more accurate predictions but takes up a lot of Time and space to get working.\n",
    "\n",
    "\n",
    "Recommendation systems,though very useful today suffer from numerous drawbacks.One of the challenges is called the \"Cold Start Problem\" is what to do when the Data is very limited.It is akin to a \"Catch-22\" situation where users wont make use of the system until it is functioning ,and the system wont function properly until users make use of it.A solution to this intiial problem,is to start of with \"Content Based Filtering\"-by recommending previous movies that are commonly seen along with the one being rated.After a while the Collaborative Filtering system can be integrated."
   ]
  },
  {
   "cell_type": "markdown",
   "metadata": {},
   "source": [
    "<a id='RHL'></a>\n",
    "# REFERENCES AND HELPFUL LINKS"
   ]
  },
  {
   "cell_type": "markdown",
   "metadata": {
    "collapsed": false
   },
   "source": [
    "For further information on Collabroative Filtering the following Links might be Useful:-\n",
    "* [University ofAberdeenPresentation](http://homepages.abdn.ac.uk/advaith/pages/teaching/abdn.only/AIS/lectures/abdn.only/CollaborativeFiltering.pdf)\n",
    "* [Item Based Collaborative FIltering Algorithm-Research Paper](http://www10.org/cdrom/papers/519/)\n",
    "* [A Survey of Collaborative Filtering Techniqes](https://www.hindawi.com/journals/aai/2009/421425/)\n",
    "* [University of Minessota-Introduction to Recommender Systems](https://www-users.cs.umn.edu/~konstan/SIGMOD-2008-Tut.pdf)\n",
    "* [MovieLens Data Set](http://grouplens.org/datasets/movielens/)\n",
    "* [Winning the Netflix Prize:A Summary](http://blog.echen.me/2011/10/24/winning-the-netflix-prize-a-summary/)\n",
    "\n"
   ]
  }
 ],
 "metadata": {
  "anaconda-cloud": {},
  "kernelspec": {
   "display_name": "Python [Root]",
   "language": "python",
   "name": "Python [Root]"
  },
  "language_info": {
   "codemirror_mode": {
    "name": "ipython",
    "version": 2
   },
   "file_extension": ".py",
   "mimetype": "text/x-python",
   "name": "python",
   "nbconvert_exporter": "python",
   "pygments_lexer": "ipython2",
   "version": "2.7.12"
  }
 },
 "nbformat": 4,
 "nbformat_minor": 0
}
