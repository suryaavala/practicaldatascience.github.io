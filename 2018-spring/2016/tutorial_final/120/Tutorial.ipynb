{
 "cells": [
  {
   "cell_type": "markdown",
   "metadata": {},
   "source": [
    "#  Neural Networks and beyond\n",
    "### By Prithvishankar Srinivasan (prithvis)"
   ]
  },
  {
   "cell_type": "markdown",
   "metadata": {
    "collapsed": true
   },
   "source": [
    "In this tutorial we will be talking about a basic introduction to the concept of ** Neural Networks ** and a brief overview about two libraries in python which implement Neural Networks, namely, **Keras** and **Pybrain**. this tutorial will be covering in brief about the following topics:\n",
    "\n",
    "* [Introduction](#What-is-a-Neural-Network?)\n",
    "* [Sample Neural Network using PyBrain](#A-sample-XOR-problem-using-PyBrain)\n",
    "* [Multiclass Classification using PyBrain](#Multiclass-Classification-using-PyBrain)\n",
    "* [Convolutional Neural Networks using Keras](#Convolutional-Neural-Networks-using-Keras)\n",
    "* [A brief insight into RNN](#A-brief-insight-into-RNN)\n",
    "* [Summary](#Summary)\n",
    "* [References](#References)\n",
    "* [Future work](#Future-work)\n",
    "\n"
   ]
  },
  {
   "cell_type": "markdown",
   "metadata": {},
   "source": [
    "\n",
    "\n",
    "## What is a Neural Network?"
   ]
  },
  {
   "cell_type": "markdown",
   "metadata": {},
   "source": [
    "According to Dr. Robert Hecht- Nielsen, who is one of the pioneers of neural networks, Neural network is *a computing system made up of a number of simple, highly interconnected processing elements, which process information by their dynamic state response to external inputs.*\n",
    "In \"Neural Network Primer: Part I\" by Maureen Caudill, AI Expert, Feb. 1989\n",
    "\n",
    "It comprises of a highly interconnected set of processing elements called neurons (named after neurons in the brain) or nodes.They are usually designed for a specific function such as data classification or pattern recognition in datasets. Neural neworks are typically organized in layers. \n",
    "\n",
    "Layers are made up of a number of interconnected 'nodes' which contain an 'activation function'. Each of these connections have a weight associated to them. There are 3 types of layers in Neural Network each containing a different number of nodes. First, is the input layer where all the input data is fed in. Next, is the hidden layer where computation takes place. More the number of hidden nodes, the higher will be the training accuracy but there is a trade-off between training accuracy and complexity of the neural network. Also, choosing a very high number of hidden layer nodes may result in overfitting the data which results to poor performance of test data. the final layer s the output layer which may contain more than one node. While there can be only one input layer and output layer, there may exist more than one hidden layer. \n",
    "\n",
    "\n",
    "<img src=\"http://cs231n.github.io/assets/nn1/neural_net2.jpeg\" height=\"500\" width=\"500\"> \n",
    "\n",
    "Image source: http://cs231n.github.io/neural-networks-1/\n"
   ]
  },
  {
   "cell_type": "markdown",
   "metadata": {},
   "source": [
    "## A sample XOR problem using PyBrain"
   ]
  },
  {
   "cell_type": "markdown",
   "metadata": {},
   "source": [
    "XOR is one of the simplest problems to solve using a neural network. In this solution, we will be constructing the network using 1 input layer consisting of 2 nodes, 1 hidden layer consisting of 3 nodes and 1 output layer consisting of a single node. First, let us construct the network. We will be using a Feed forward network which progresses only in one direction and does not contain loops or connections in the other direction. You can install PyBrain using the first cell and import it to your notebook using the second cell"
   ]
  },
  {
   "cell_type": "code",
   "execution_count": null,
   "metadata": {
    "collapsed": false
   },
   "outputs": [],
   "source": [
    "!git clone git://github.com/pybrain/pybrain.git\n",
    "!python setup.py install"
   ]
  },
  {
   "cell_type": "code",
   "execution_count": 2,
   "metadata": {
    "collapsed": false
   },
   "outputs": [],
   "source": [
    "from pybrain.structure import FeedForwardNetwork\n",
    "nn= FeedForwardNetwork()"
   ]
  },
  {
   "cell_type": "markdown",
   "metadata": {
    "collapsed": true
   },
   "source": [
    "Next we are going to construct the input, hidden and output layers. We are using a tanh function for the hidden layer. Other functions such as sigmoid exist and the entire list can be found at http://pybrain.org/docs/api/structure/modules.html"
   ]
  },
  {
   "cell_type": "code",
   "execution_count": 3,
   "metadata": {
    "collapsed": true
   },
   "outputs": [],
   "source": [
    "from pybrain.structure import LinearLayer, TanhLayer\n",
    "inLayer = LinearLayer(2)\n",
    "hiddenLayer = TanhLayer(3)\n",
    "outLayer = LinearLayer(1)\n",
    "nn.addInputModule(inLayer)\n",
    "nn.addModule(hiddenLayer)\n",
    "nn.addOutputModule(outLayer)"
   ]
  },
  {
   "cell_type": "markdown",
   "metadata": {},
   "source": [
    "Next we need to form the connections between the layers. We are going with the full connection scenario where each node is connected to every node in the subsequent layer"
   ]
  },
  {
   "cell_type": "code",
   "execution_count": 4,
   "metadata": {
    "collapsed": false
   },
   "outputs": [],
   "source": [
    "from pybrain.structure import FullConnection\n",
    "in_to_hidden = FullConnection(inLayer, hiddenLayer)\n",
    "hidden_to_out = FullConnection(hiddenLayer, outLayer)"
   ]
  },
  {
   "cell_type": "markdown",
   "metadata": {},
   "source": [
    "Finally we need to add the formed connections to the neural network"
   ]
  },
  {
   "cell_type": "code",
   "execution_count": 5,
   "metadata": {
    "collapsed": false
   },
   "outputs": [],
   "source": [
    "nn.addConnection(in_to_hidden)\n",
    "nn.addConnection(hidden_to_out)\n",
    "nn.sortModules()"
   ]
  },
  {
   "cell_type": "markdown",
   "metadata": {},
   "source": [
    "You can view the modules available in the network and it's connections as below."
   ]
  },
  {
   "cell_type": "code",
   "execution_count": 6,
   "metadata": {
    "collapsed": false
   },
   "outputs": [
    {
     "name": "stdout",
     "output_type": "stream",
     "text": [
      "FeedForwardNetwork-6\n",
      "   Modules:\n",
      "    [<LinearLayer 'LinearLayer-3'>, <TanhLayer 'TanhLayer-7'>, <LinearLayer 'LinearLayer-8'>]\n",
      "   Connections:\n",
      "    [<FullConnection 'FullConnection-4': 'LinearLayer-3' -> 'TanhLayer-7'>, <FullConnection 'FullConnection-5': 'TanhLayer-7' -> 'LinearLayer-8'>]\n",
      "\n"
     ]
    }
   ],
   "source": [
    "print nn"
   ]
  },
  {
   "cell_type": "markdown",
   "metadata": {},
   "source": [
    "Next we add form the data set for XOR according to the table below\n",
    "\n",
    "<img src=\"TRUTH-TABLE-1.jpg\", height=\"150\", width=\"150\">\n",
    "Image source: http://www.electronicshub.org/exclusive-or-gatexor-gate/"
   ]
  },
  {
   "cell_type": "code",
   "execution_count": 7,
   "metadata": {
    "collapsed": false
   },
   "outputs": [],
   "source": [
    "from pybrain.datasets import SupervisedDataSet\n",
    "data = SupervisedDataSet(2, 1)\n",
    "data.addSample((0, 0), (0,))\n",
    "data.addSample((0, 1), (1,))\n",
    "data.addSample((1, 0), (1,))\n",
    "data.addSample((1, 1), (0,))"
   ]
  },
  {
   "cell_type": "markdown",
   "metadata": {},
   "source": [
    "Finally, we can train the neural network and check our outputs. The activate function is used to send inputs to the  neural networks and to activate the network. A **BackpropTrainer** is a trainer which propogates the error backwards and trains the neural network based on the supervised dataset. The final output layer will consist a vector of n nodes. Then the error in the final output layer will also be a vector of n values. Now, this erros is propagated recursively in the neural netwok in the reverse direcction. Now, with the knowledge of this error, the values of weights in the network are changed to fit the data better. This is the basis of Backpropagation trainer. In this example, we train the network 5000 times"
   ]
  },
  {
   "cell_type": "code",
   "execution_count": 10,
   "metadata": {
    "collapsed": false
   },
   "outputs": [
    {
     "name": "stdout",
     "output_type": "stream",
     "text": [
      "0,0 : [ 0.]\n",
      "0,1 : [ 1.]\n",
      "1,0 : [ 1.]\n",
      "1,1 : [  1.15463195e-14]\n"
     ]
    }
   ],
   "source": [
    "from pybrain.supervised.trainers import BackpropTrainer\n",
    "trainer = BackpropTrainer(nn, data)\n",
    "for i in xrange(5000):\n",
    "    trainer.train()\n",
    "print '0,0 :',(nn.activate([0, 0]))\n",
    "print '0,1 :',(nn.activate([0, 1]))\n",
    "print '1,0 :',(nn.activate([1, 0]))\n",
    "print '1,1 :',(nn.activate([1, 1]))"
   ]
  },
  {
   "cell_type": "markdown",
   "metadata": {},
   "source": [
    "## Multiclass Classification using PyBrain"
   ]
  },
  {
   "cell_type": "markdown",
   "metadata": {},
   "source": [
    "Another important use of a neural network is for multiclass classfication. So far, we have seen binary classifiers where the output has either been 0 or 1. That is the presence or absence of a class. To understand a multiclass classifier, let us try to realise MNIST classification using Pybrain. MNIST is a famous dataset containing handwritten digits from 0-9. In the following code block, we import the data set from sklearn library. Split the data set into training and test set in 70:30 ratio. The shape of the various variables are printed and a sample image is displayed.\n",
    "\n",
    "<img src=\"https://tgmstat.files.wordpress.com/2013/05/multiclass_neural_network_example.png\" height=\"350\" width=\"350\"> \n",
    "Image source: https://tgmstat.wordpress.com/2013/06/05/coursera-machine-learning-neural-networks/\n",
    "\n"
   ]
  },
  {
   "cell_type": "code",
   "execution_count": 40,
   "metadata": {
    "collapsed": false
   },
   "outputs": [
    {
     "name": "stdout",
     "output_type": "stream",
     "text": [
      "(1797, 64)\n",
      "(1797,)\n",
      "(1797, 8, 8)\n"
     ]
    },
    {
     "data": {
      "image/png": "[encoded data removed]",
      "text/plain": [
       "<matplotlib.figure.Figure at 0x11b87d2d0>"
      ]
     },
     "metadata": {},
     "output_type": "display_data"
    }
   ],
   "source": [
    "from sklearn import datasets\n",
    "from scipy.misc import toimage\n",
    "import matplotlib.pyplot as plt\n",
    "digits=datasets.load_digits()\n",
    "train=digits.data[:1258,:]\n",
    "train_label=digits.target[:1258]\n",
    "test=digits.data[1258:,:]\n",
    "test_label=digits.target[1258:]\n",
    "#We can see the format of the various data\n",
    "print digits.data.shape\n",
    "print digits.target.shape\n",
    "print digits.images.shape\n",
    "#A random sample is plotted\n",
    "plt.imshow(toimage(digits.images[1110]),cmap='Greys_r')\n",
    "plt.show()"
   ]
  },
  {
   "cell_type": "markdown",
   "metadata": {},
   "source": [
    "Now, to implement the multiclass classifier, we build the neural network using the buildNetwork shortcut tool with two hidden layers, 1 input layer consisting of 64 nodes for each point of data in the image and 1 output layer consisting of 10 nodes for the 10 digits. Essentially, it is an array of 10 binary classifiers and the class with the highest output is predicted"
   ]
  },
  {
   "cell_type": "code",
   "execution_count": 43,
   "metadata": {
    "collapsed": false
   },
   "outputs": [
    {
     "name": "stdout",
     "output_type": "stream",
     "text": [
      "0  iterations done\n",
      "100  iterations done\n",
      "200  iterations done\n",
      "300  iterations done\n",
      "400  iterations done\n",
      "500  iterations done\n",
      "600  iterations done\n",
      "700  iterations done\n",
      "800  iterations done\n",
      "900  iterations done\n",
      "Network fully trained\n"
     ]
    }
   ],
   "source": [
    "from pybrain.tools.shortcuts import buildNetwork\n",
    "import numpy as np\n",
    "#buildNetwork is a shortcut to build Neural networks where the first parameter is the number of input nodes and \n",
    "#the last parameter is the number of output nodes\n",
    "net = buildNetwork(64, 100, 100, 10)\n",
    "data = SupervisedDataSet(64, 10)\n",
    "i=0\n",
    "while i<1258:\n",
    "    out= np.zeros(10)\n",
    "    out[train_label[i]]=1\n",
    "    data.addSample(train[i,:],out)\n",
    "    i+=1\n",
    "trainer = BackpropTrainer(net, data)\n",
    "for j in xrange(1000):\n",
    "    trainer.train()\n",
    "    if j%100==0:\n",
    "        print j,\" iterations done\"\n",
    "print \"Network fully trained\""
   ]
  },
  {
   "cell_type": "markdown",
   "metadata": {},
   "source": [
    "Now that the system is trained, we activate the neural functions on all test samples and calculate the error rate. We have got an accuracy of ~85%. A higher accuracy can be achieved easily by playing arround with the hidden layer and the number of times the network is trained or by using a validation set. We should ensure that we don't overfit the data by training repeatedly."
   ]
  },
  {
   "cell_type": "code",
   "execution_count": 42,
   "metadata": {
    "collapsed": false
   },
   "outputs": [
    {
     "name": "stdout",
     "output_type": "stream",
     "text": [
      "[ 0.01882668 -0.05887212  0.01198453 -0.0078867   0.84550883  0.15440724\n",
      "  0.03036503 -0.03395434  0.07942146 -0.03366469]\n",
      "4 4\n",
      "Error rate: 0.152133580705\n"
     ]
    }
   ],
   "source": [
    "out = net.activate(test[20,:])\n",
    "#Printing sample output for random test case\n",
    "print out\n",
    "print np.argmax(out), test_label[20]\n",
    "i=0\n",
    "count=0\n",
    "while(i<len(test_label)):\n",
    "    out=net.activate(test[i,:])\n",
    "    if (np.argmax(out)!=test_label[i]):\n",
    "        count+=1\n",
    "    i+=1\n",
    "print \"Error rate:\",count/float(len(test_label))"
   ]
  },
  {
   "cell_type": "markdown",
   "metadata": {
    "collapsed": true
   },
   "source": [
    "## Convolutional Neural Networks using Keras"
   ]
  },
  {
   "cell_type": "markdown",
   "metadata": {},
   "source": [
    "A convolutional neural network often consists of one or more convoluted layers followed by a fully connected layer. A convoluted neural network takes advantage of the spatial features of a 2D image and preserve its original structure. The input to a convolutional layer is a m x m x r image where m is the height and width of the image and r is the number of channels, e.g. an RGB image has r=3. The convolutional layer will have k filters (or kernels) of size n x n x q where n is smaller than the dimension of the image and q can either be the same as the number of channels r or smaller and may vary for each kernel. We can implement a simple CNN below, on the same MNIST data. But here, r=1 as the images are in grayscale."
   ]
  },
  {
   "cell_type": "code",
   "execution_count": null,
   "metadata": {
    "collapsed": false
   },
   "outputs": [],
   "source": [
    "#Code to install tensorflow and keras\n",
    "!pip install tensorflow\n",
    "!pip install keras\n",
    "#Kindly restart Jupyter Notebook after this installation"
   ]
  },
  {
   "cell_type": "code",
   "execution_count": 7,
   "metadata": {
    "collapsed": false
   },
   "outputs": [],
   "source": [
    "import numpy as np\n",
    "from keras.datasets import mnist\n",
    "from keras.models import Sequential\n",
    "from keras.layers import Dense\n",
    "from keras.layers import Dropout\n",
    "from keras.layers import Flatten\n",
    "from keras.layers.convolutional import Convolution2D\n",
    "from keras.layers.convolutional import MaxPooling2D\n",
    "from keras.utils import np_utils"
   ]
  },
  {
   "cell_type": "code",
   "execution_count": 8,
   "metadata": {
    "collapsed": false
   },
   "outputs": [],
   "source": [
    "# fix random seed for reproducibility\n",
    "seed = 7\n",
    "np.random.seed(seed)\n",
    "# load data\n",
    "(X_train, y_train), (X_test, y_test) = mnist.load_data()\n",
    "# reshape to be [samples][dimension][width][height]\n",
    "X_train = X_train.reshape(X_train.shape[0], 1, 28, 28).astype('float32')\n",
    "X_test = X_test.reshape(X_test.shape[0], 1, 28, 28).astype('float32')\n",
    "# normalize inputs\n",
    "X_train = X_train / 255\n",
    "X_test = X_test / 255\n",
    "# one hot encode outputs\n",
    "y_train = np_utils.to_categorical(y_train)\n",
    "y_test = np_utils.to_categorical(y_test)\n",
    "num_classes = y_test.shape[1]"
   ]
  },
  {
   "cell_type": "markdown",
   "metadata": {},
   "source": [
    "Now after the dataset is loaded, we can now initialize the CNN model as given below. There are three different kind of layers which are to be added below.\n",
    "\n",
    "* A convolutional layer consists of filters and feature maps. The filters are the neurons of the CNN. They have inputs and output a value. The input size will be the size of the square patch. Feature map is the output of the filter applied to the previous layer\n",
    "* A pooling layer is a technique to compress or generalize feature representations and generally reduce the overfitting of the training data by the model. They consolidated the features learned in the previous steps which basically down-samples the previous layer feature map\n",
    "* A fully-connected layer is a dense linear layer which is used after the convolutional and pooling layers to predict the output probabilities. <br\\>\n",
    "\n",
    "Dropout: CNN tends to overfit data even when pooling layers are used. Thus, dropout is used to randomly drop a portion of the input data before processing the output for the next layer\n",
    "\n",
    "Shown below, is a sample image of the layers of a typical CNN\n",
    "\n",
    "<img src=\"http://d3kbpzbmcynnmx.cloudfront.net/wp-content/uploads/2015/11/Screen-Shot-2015-11-07-at-7.26.20-AM.png\" height=\"500\" width=\"750\"> \n",
    "Image source: http://www.wildml.com/2015/11/understanding-convolutional-neural-networks-for-nlp/"
   ]
  },
  {
   "cell_type": "code",
   "execution_count": 16,
   "metadata": {
    "collapsed": false
   },
   "outputs": [],
   "source": [
    "# create model\n",
    "model = Sequential()\n",
    "model.add(Convolution2D(32, 5, 5, border_mode='valid', input_shape=(1, 28, 28), activation='relu'))\n",
    "model.add(MaxPooling2D(pool_size=(2, 2)))\n",
    "model.add(Dropout(0.2))\n",
    "model.add(Flatten())\n",
    "model.add(Dense(128, activation='relu'))\n",
    "model.add(Dense(num_classes, activation='softmax'))\n",
    "# Compile model\n",
    "lrate = 0.01\n",
    "epochs=10\n",
    "decay = lrate/epochs\n",
    "sgd = SGD(lr=lrate, momentum=0.9, decay=decay, nesterov=False)\n",
    "model.compile(loss='categorical_crossentropy', optimizer=sgd, metrics=['accuracy'])"
   ]
  },
  {
   "cell_type": "code",
   "execution_count": 17,
   "metadata": {
    "collapsed": false
   },
   "outputs": [
    {
     "name": "stdout",
     "output_type": "stream",
     "text": [
      "____________________________________________________________________________________________________\n",
      "Layer (type)                     Output Shape          Param #     Connected to                     \n",
      "====================================================================================================\n",
      "convolution2d_14 (Convolution2D) (None, 32, 24, 24)    832         convolution2d_input_7[0][0]      \n",
      "____________________________________________________________________________________________________\n",
      "maxpooling2d_9 (MaxPooling2D)    (None, 32, 12, 12)    0           convolution2d_14[0][0]           \n",
      "____________________________________________________________________________________________________\n",
      "dropout_11 (Dropout)             (None, 32, 12, 12)    0           maxpooling2d_9[0][0]             \n",
      "____________________________________________________________________________________________________\n",
      "flatten_6 (Flatten)              (None, 4608)          0           dropout_11[0][0]                 \n",
      "____________________________________________________________________________________________________\n",
      "dense_11 (Dense)                 (None, 128)           589952      flatten_6[0][0]                  \n",
      "____________________________________________________________________________________________________\n",
      "dense_12 (Dense)                 (None, 10)            1290        dense_11[0][0]                   \n",
      "====================================================================================================\n",
      "Total params: 592074\n",
      "____________________________________________________________________________________________________\n",
      "None\n",
      "Train on 60000 samples, validate on 10000 samples\n",
      "Epoch 1/10\n",
      "60000/60000 [==============================] - 165s - loss: 0.5000 - acc: 0.8553 - val_loss: 0.2078 - val_acc: 0.9410\n",
      "Epoch 2/10\n",
      "60000/60000 [==============================] - 165s - loss: 0.1869 - acc: 0.9449 - val_loss: 0.1374 - val_acc: 0.9606\n",
      "Epoch 3/10\n",
      "60000/60000 [==============================] - 167s - loss: 0.1347 - acc: 0.9607 - val_loss: 0.0968 - val_acc: 0.9716\n",
      "Epoch 4/10\n",
      "60000/60000 [==============================] - 168s - loss: 0.1084 - acc: 0.9685 - val_loss: 0.0852 - val_acc: 0.9741\n",
      "Epoch 5/10\n",
      "60000/60000 [==============================] - 164s - loss: 0.0924 - acc: 0.9732 - val_loss: 0.0742 - val_acc: 0.9783\n",
      "Epoch 6/10\n",
      "60000/60000 [==============================] - 156s - loss: 0.0833 - acc: 0.9756 - val_loss: 0.0659 - val_acc: 0.9796\n",
      "Epoch 7/10\n",
      "60000/60000 [==============================] - 169s - loss: 0.0759 - acc: 0.9778 - val_loss: 0.0621 - val_acc: 0.9806\n",
      "Epoch 8/10\n",
      "60000/60000 [==============================] - 167s - loss: 0.0703 - acc: 0.9794 - val_loss: 0.0559 - val_acc: 0.9827\n",
      "Epoch 9/10\n",
      "60000/60000 [==============================] - 167s - loss: 0.0661 - acc: 0.9802 - val_loss: 0.0549 - val_acc: 0.9826\n",
      "Epoch 10/10\n",
      "60000/60000 [==============================] - 183s - loss: 0.0634 - acc: 0.9813 - val_loss: 0.0536 - val_acc: 0.9837\n",
      "Baseline Error: 1.63%\n"
     ]
    }
   ],
   "source": [
    "print model.summary()\n",
    "# Fit the model\n",
    "model.fit(X_train, y_train, validation_data=(X_test, y_test), nb_epoch=10, batch_size=200, verbose=True)\n",
    "# Final evaluation of the model\n",
    "scores = model.evaluate(X_test, y_test, verbose=0)\n",
    "print(\"Baseline Error: %.2f%%\" % (100-scores[1]*100))"
   ]
  },
  {
   "cell_type": "markdown",
   "metadata": {},
   "source": [
    "You can see that a simple CNN has achieved much better results than a regular Neural Network. It is able to receive such high results as the data set is limited and the number of channels is only 1 as the data consists of grayscale images. To achieve better accuracy, a lot of parameters can be adjusted in the CNN network, including but not limited to, number of layers, size of square patch taken, optimizer used, activation function used etc."
   ]
  },
  {
   "cell_type": "markdown",
   "metadata": {
    "collapsed": true
   },
   "source": [
    "## A brief insight into RNN "
   ]
  },
  {
   "cell_type": "markdown",
   "metadata": {},
   "source": [
    "So far, both CNNs and regular neural networks consider all inputs to be independent of each other. Al though CNN takes into account the spatial relationship of the inputs, it does not take into consideration the type of relationship with past inputs. This is where RNN or **Recurrent Neural Networks** comes into place. RNN makes use of sequential information. So, the output of nodes in later stages are fed to the inputs of other nodes. Hence, it is very popularly used in Natural Language Processing applications. The most popular RNN is LSTM- **Long short-term memory**. It is easier to visualize a RNN as below where the loop is unfolded and the direction of dataflow is clear.\n",
    "\n",
    "<img src=\"http://d3kbpzbmcynnmx.cloudfront.net/wp-content/uploads/2015/09/rnn.jpg\" height=\"300\" width=\"500\">\n",
    "Image source: http://www.wildml.com/2015/09/recurrent-neural-networks-tutorial-part-1-introduction-to-rnns/"
   ]
  },
  {
   "cell_type": "markdown",
   "metadata": {},
   "source": [
    "### Summary\n",
    "\n",
    "This tutorial was focussed on the basics of how to build a neural network for a simple problem followed by a multiclass classification problem. It later delved into the concept of Convolutional Neural Network and its necessity. Finally, a brief overview about Recurrent Neural Network was given.\n",
    "\n",
    "### References\n",
    "\n",
    "1. http://nbviewer.jupyter.org/github/masinoa/machine_learning/blob/master/04_Neural_Networks.ipynb\n",
    "2. https://github.com/dennybritz/nn-from-scratch/blob/master/nn-from-scratch.ipynb\n",
    "3. https://www.doc.ic.ac.uk/~nd/surprise_96/journal/vol4/cs11/report.html#What_is_a_Neural_Network\n",
    "4. http://www.wildml.com/2015/11/understanding-convolutional-neural-networks-for-nlp/\n",
    "5. https://keras.io/\n",
    "6. http://pybrain.org/docs/\n",
    "\n",
    "### Future work\n",
    "\n",
    "For general questions about neural networks, visit https://stackoverflow.com/questions/tagged/neural-network . <br\\>\n",
    "for immediate future work, a sample program could be implemented for RNN in NLP domain. Other applications can be realised using neural networks and convolutional neural networks, for example, classifying the CIFAR-10 dataset found here. https://www.cs.toronto.edu/~kriz/cifar.html <br\\>\n",
    "You can possibly check out other libraries which implement neural network. Please find links below\n",
    "1. Theano: http://deeplearning.net/software/theano/\n",
    "2. Tensorflow: https://www.tensorflow.org/\n",
    "3. Neurolab: https://pythonhosted.org/neurolab/\n",
    "\n"
   ]
  }
 ],
 "metadata": {
  "anaconda-cloud": {},
  "kernelspec": {
   "display_name": "Python [default]",
   "language": "python",
   "name": "python2"
  },
  "language_info": {
   "codemirror_mode": {
    "name": "ipython",
    "version": 2
   },
   "file_extension": ".py",
   "mimetype": "text/x-python",
   "name": "python",
   "nbconvert_exporter": "python",
   "pygments_lexer": "ipython2",
   "version": "2.7.12"
  }
 },
 "nbformat": 4,
 "nbformat_minor": 0
}
