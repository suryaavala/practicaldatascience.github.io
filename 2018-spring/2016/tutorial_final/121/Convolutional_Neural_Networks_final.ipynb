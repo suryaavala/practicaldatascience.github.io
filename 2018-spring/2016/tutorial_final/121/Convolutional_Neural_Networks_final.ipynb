{
 "cells": [
  {
   "cell_type": "markdown",
   "metadata": {},
   "source": [
    "## Introduction\n",
    "\n",
    "Automated systems for visual recognition tasks are ubiquitous in today's society and find application in several domains such as health care, robotics and even commercial products including autonomous driving cars. Convolutional Neural Networks algorithms are the current state of the art, used for visual recognition tasks. It has more or less replaced traditional computer vision based algorithms involving the use of feature based descritptors for object detection and recognition tasks. Many companies such as google, facebook, pinterest, uber etc, employ these class algorithms in their products. However,they first became prominent in the year 2012 when they were used to win the [ImageNet challenge](http://image-net.org/challenges/LSVRC/2016/) by [Alex Krizhevsky](http://papers.nips.cc/paper/4824-imagenet-classification-with-deep-convolutional-neural-networks).\n",
    "\n",
    "This task of recognition or classification of an object comes to us humans easily, it does not take too long for us to differentiate a dog from a cat. We are not deterred by variations in scale, rotation, or even occlussion. We could recognize a dog even if we were given an image of its head or tail, and even recognize different breeds of dogs. But this is no ordinary task for a machine. \n",
    "\n",
    "For example, to succesfully classify the following set of images is a challenge for a computer vision algorithm. It is hard for an algorithm/machine to capture the visual concept of an object when all it has to go on is a matrix of numbers representing the light intensity at every point in a pixel.\n",
    "\n",
    "[<img src=\"http://cs231n.github.io/assets/challenges.jpeg\">](http://cs231n.github.io/assets/challenges.jpeg)(Credits :Cs231n course at Stanford)\n",
    "\n",
    "Convolutional Neural Networks are very similar to the traditional vanilla version of Neural Networks in that they are made up of neurons that have learnable weights and biases. They receive raw pixels as input and output class scores/probabilities for a given input image. They do however make one explicit assumption, that the inputs to network are raw images, this in turn allows us to take into account the spatial information in the image along with the intensity information. In this tutorial, you will get a glimpse of how these network architectures are built and employed as high accuracy image classifiers."
   ]
  },
  {
   "cell_type": "markdown",
   "metadata": {},
   "source": [
    "### Tutorial content\n",
    "\n",
    "This tutorial will introduce you to Convolution Neural Networks(CNN) and the illustrate how to build and run a simple convolution neural network  using the [TensorFlow](https://www.tensorflow.org) library.  \n",
    "\n",
    "We will cover the following topics:\n",
    "- [Installing the TensorFlow library](#Installing-the-libraries)\n",
    "- [Load MNIST dataset ](#Load-MNIST-Dataset)\n",
    "- [Construct a Convolution Neural Network using TensorFlow](#Convolutional-Neural-Network-using-a-Tensor-Flow-Graph)\n"
   ]
  },
  {
   "cell_type": "markdown",
   "metadata": {},
   "source": [
    "## Installing the library"
   ]
  },
  {
   "cell_type": "markdown",
   "metadata": {},
   "source": [
    "There are multiple methods to install TensorFlow. These methods are described in the [Getting Started](https://www.tensorflow.org/versions/r0.11/get_started/index.html) page. In this Tutorial, we will describe installing TensorFlow in its own virtual environment using the Anaconda package manager. Assuming Anaconda configured with Python 2.7 is already installed on your machine, the following steps will setup TensorFlow using `conda`:\n",
    "\n",
    "   ##### Create a conda virtual environment name tensorflow:\n",
    "    $ conda create -n tensorflow python=2.7\n",
    "\n",
    "   ##### Activate the tensorflow virtual environment:\n",
    "    $ source activate tensorflow\n",
    " (tensorflow)$  # Your prompt should change\n",
    "\n",
    "   ##### Install TensorFlow:\n",
    "     (tensorflow)$ conda install -c conda-forge tensorflow\n",
    "\n",
    "    \n",
    "Note that this installs the package in the `tensorflow` virtual enviroment and will not affect other system libraries."
   ]
  },
  {
   "cell_type": "markdown",
   "metadata": {
    "collapsed": true
   },
   "source": [
    "### Checking the Installation\n",
    "Open this Notebook in the `tensorflow` environment:\n",
    "\n",
    "     (tensorflow)$ jupyter notebook"
   ]
  },
  {
   "cell_type": "markdown",
   "metadata": {},
   "source": [
    "### Imports"
   ]
  },
  {
   "cell_type": "code",
   "execution_count": 36,
   "metadata": {
    "collapsed": false
   },
   "outputs": [],
   "source": [
    "from sklearn.metrics import confusion_matrix\n",
    "%matplotlib inline\n",
    "import matplotlib.pyplot as plt\n",
    "import tensorflow as tf\n",
    "import numpy as np\n",
    "import math"
   ]
  },
  {
   "cell_type": "markdown",
   "metadata": {},
   "source": [
    "##### Print Tensor Flow Version"
   ]
  },
  {
   "cell_type": "code",
   "execution_count": 37,
   "metadata": {
    "collapsed": false
   },
   "outputs": [
    {
     "data": {
      "text/plain": [
       "'0.10.0'"
      ]
     },
     "execution_count": 37,
     "metadata": {},
     "output_type": "execute_result"
    }
   ],
   "source": [
    "tf.__version__"
   ]
  },
  {
   "cell_type": "markdown",
   "metadata": {},
   "source": [
    "##### Hello Tensor Flow"
   ]
  },
  {
   "cell_type": "code",
   "execution_count": 38,
   "metadata": {
    "collapsed": false
   },
   "outputs": [
    {
     "name": "stdout",
     "output_type": "stream",
     "text": [
      "Welcome to the tutorial on Convolutional Neural Networks using TensorFlow!\n"
     ]
    }
   ],
   "source": [
    "hello = tf.constant('Welcome to the tutorial on Convolutional Neural Networks using TensorFlow!')\n",
    "pds_session = tf.Session()\n",
    "print(pds_session.run(hello))"
   ]
  },
  {
   "cell_type": "markdown",
   "metadata": {},
   "source": [
    "### Load MNIST Dataset\n",
    "\n",
    "The MNIST data set will be automatically downloaded once the following code is executed. "
   ]
  },
  {
   "cell_type": "code",
   "execution_count": 39,
   "metadata": {
    "collapsed": false
   },
   "outputs": [
    {
     "name": "stdout",
     "output_type": "stream",
     "text": [
      "Extracting MNIST_data/train-images-idx3-ubyte.gz\n",
      "Extracting MNIST_data/train-labels-idx1-ubyte.gz\n",
      "Extracting MNIST_data/t10k-images-idx3-ubyte.gz\n",
      "Extracting MNIST_data/t10k-labels-idx1-ubyte.gz\n"
     ]
    }
   ],
   "source": [
    "# Import MNIST data\n",
    "from tensorflow.examples.tutorials.mnist import input_data\n",
    "mnist = input_data.read_data_sets(\"MNIST_data/\", one_hot=True)"
   ]
  },
  {
   "cell_type": "markdown",
   "metadata": {},
   "source": [
    "#### Print Data Sizes"
   ]
  },
  {
   "cell_type": "code",
   "execution_count": 40,
   "metadata": {
    "collapsed": false
   },
   "outputs": [
    {
     "name": "stdout",
     "output_type": "stream",
     "text": [
      "Size of datasets :\n",
      "1) Training set:\t(55000, 784)\n",
      "2) Test set:\t\t(10000, 784)\n",
      "3) Validation set:\t(5000, 784)\n"
     ]
    }
   ],
   "source": [
    "print(\"Size of datasets :\")\n",
    "print(\"1) Training set:\\t{}\".format(mnist.train.images.shape))\n",
    "print(\"2) Test set:\\t\\t{}\".format(mnist.test.images.shape))\n",
    "print(\"3) Validation set:\\t{}\".format(mnist.validation.images.shape))"
   ]
  },
  {
   "cell_type": "markdown",
   "metadata": {},
   "source": [
    "The MNIST data-set has now been loaded and consists of 70,000 images along with their associated labels( 0-9 ).This dataset is split into 55,000 training images, 10,000 test images and the remaining 5,000 images constitute the validation set. The images are size normalized and centered and therefore do not require any additional pre-processing."
   ]
  },
  {
   "cell_type": "code",
   "execution_count": 41,
   "metadata": {
    "collapsed": false
   },
   "outputs": [
    {
     "name": "stdout",
     "output_type": "stream",
     "text": [
      "Size of tensor:\n",
      "1) Size of :\t(784,)\n"
     ]
    }
   ],
   "source": [
    "print(\"Size of tensor:\")\n",
    "print(\"1) Size of :\\t{}\".format(mnist.train.images[1].shape))"
   ]
  },
  {
   "cell_type": "markdown",
   "metadata": {},
   "source": [
    "The mnist.train.images is referred to as a tensor, where the first dimension(55,000) refers to the number of images and the second dimension(784) is the vector representing a 28x 28 image of a hand written digit. Therefore images here are treated as points in a [784 dimensional space](http://colah.github.io/posts/2014-10-Visualizing-MNIST/)."
   ]
  },
  {
   "cell_type": "markdown",
   "metadata": {},
   "source": [
    "#### One Hot Encoding\n",
    "The class labels in this data set are one-hot encoded vectors. The class labels are originally integers which are converted to vectors by setting the parameter *\"one_hot\"* to **True** during data import. We can think of the label/class vectors as *n* dimensional vector where *n* is equal to the number of classes(0-9). For the nth digit,most of the dimensions in this vector are set to zero except for the nth dimension which is set to 1. The mnist.train.labels is a tensor of floats of shape [55000 10].\n",
    "\n",
    "###### For example\n",
    "Let us inspect the labels of the first 10 images in the train set(mnist.train.labels). We find that the first image belongs to class '8' and therefore the 8th element in the first row of the array is set to 1."
   ]
  },
  {
   "cell_type": "code",
   "execution_count": 42,
   "metadata": {
    "collapsed": false
   },
   "outputs": [
    {
     "data": {
      "text/plain": [
       "array([[ 0.,  0.,  0.,  0.,  0.,  0.,  0.,  1.,  0.,  0.],\n",
       "       [ 0.,  0.,  0.,  1.,  0.,  0.,  0.,  0.,  0.,  0.],\n",
       "       [ 0.,  0.,  0.,  0.,  1.,  0.,  0.,  0.,  0.,  0.],\n",
       "       [ 0.,  0.,  0.,  0.,  0.,  0.,  1.,  0.,  0.,  0.],\n",
       "       [ 0.,  1.,  0.,  0.,  0.,  0.,  0.,  0.,  0.,  0.],\n",
       "       [ 0.,  0.,  0.,  0.,  0.,  0.,  0.,  0.,  1.,  0.],\n",
       "       [ 0.,  1.,  0.,  0.,  0.,  0.,  0.,  0.,  0.,  0.],\n",
       "       [ 1.,  0.,  0.,  0.,  0.,  0.,  0.,  0.,  0.,  0.],\n",
       "       [ 0.,  0.,  0.,  0.,  0.,  0.,  0.,  0.,  0.,  1.],\n",
       "       [ 0.,  0.,  0.,  0.,  0.,  0.,  0.,  0.,  1.,  0.]])"
      ]
     },
     "execution_count": 42,
     "metadata": {},
     "output_type": "execute_result"
    }
   ],
   "source": [
    "mnist.train.labels[0:10, :]"
   ]
  },
  {
   "cell_type": "markdown",
   "metadata": {},
   "source": [
    "### Display images"
   ]
  },
  {
   "cell_type": "markdown",
   "metadata": {},
   "source": [
    "#### Function to display images"
   ]
  },
  {
   "cell_type": "code",
   "execution_count": 43,
   "metadata": {
    "collapsed": true
   },
   "outputs": [],
   "source": [
    "def display_images(num,images, true_class, cls_pred=None):\n",
    "    assert len(images) == len(true_class) == num\n",
    "    \n",
    "    # Create figure with 4x4 sub-plots.\n",
    "    fig, axes = plt.subplots(num/4, num/4)\n",
    "    fig.subplots_adjust(hspace=0.4, wspace=0.4)\n",
    "   \n",
    "    \n",
    "\n",
    "    for i, ax in enumerate(axes.flat):\n",
    "        ax.imshow(images[i].reshape((28,28)), cmap='binary')\n",
    "\n",
    "        # Set xlable to true and predicted classes.\n",
    "        if cls_pred is None:\n",
    "            xlabel = \"Actual: {0}\".format(true_class[i])\n",
    "        else:\n",
    "            xlabel = \"Actual: {0}, Pred: {1}\".format(true_class[i], cls_pred[i])\n",
    "\n",
    "        # Show the classes as the label on the x-axis.\n",
    "        ax.set_xlabel(xlabel)\n",
    "\n",
    "        \n",
    "        # Remove ticks from the plot.\n",
    "        ax.set_xticks([])\n",
    "        ax.set_yticks([])\n",
    "        \n",
    "    plt.suptitle('Images and their labels')    \n",
    "    plt.show()\n"
   ]
  },
  {
   "cell_type": "code",
   "execution_count": 44,
   "metadata": {
    "collapsed": false
   },
   "outputs": [
    {
     "data": {
      "image/png": "[encoded data removed]",
      "text/plain": [
       "<matplotlib.figure.Figure at 0x1185936d0>"
      ]
     },
     "metadata": {},
     "output_type": "display_data"
    }
   ],
   "source": [
    "# Get the first images from the training  set\n",
    "images = mnist.train.images[0:16]\n",
    "\n",
    "# Get the actual class labels for those images.\n",
    "data_train = np.argmax(mnist.train.labels, axis=1)\n",
    "cls_true = data_test[0:16]\n",
    "\n",
    "#Plot the images\n",
    "display_images(num = 16,images=images, true_class=cls_true)"
   ]
  },
  {
   "cell_type": "markdown",
   "metadata": {},
   "source": [
    "## Convolutional Neural Network\n",
    "\n",
    "The vanilla version of neural network does not scale well to larger images. A single image in the MNIST data set is a 784 dimensional vector and therefore a single neuron in the first layer of a fully connected network will contain 784 weights that need to be computed. The number of weights will increase drastically for larger images and also these networks do not take into account any of the useful spatial information present in an image. We can now see why these architectures are not well suited for processing images.\n",
    "\n",
    "On the other hand, the architecture of a convolutional neural network is designed to take advantage of the fact that the input consists of images. It contains neurons that are 3 dimensional that is each neuron has a width,height and depth. The depth here is a reference to depth of the neuron and not the depth of the entire network. The neurons in this architecture can be thought of as filters that are activated or fire when they see a pattern in the image that matches their own. Also in comparison to the traditional neural network,each neurons is not connected to the entire image but is confined to a local region of the image; an analogy can be drawn to a sensory neuron which is activated by a stimulus present in its receptive field.\n",
    "\n",
    "The architecture of the Convolutional Neural Network mimics the architecture of neurons in the visual cortex of our brain and therefore has a similar hierarchical architecture as shown below:\n",
    "[<img src=\"http://parse.ele.tue.nl/cluster/2/CNNArchitecture.jpg\">](http://parse.ele.tue.nl/cluster/2/CNNArchitecture.jpg) *(Credits :Parallel Architecture Research Eindhoven)*\n",
    "\n",
    "\n",
    "The Network constitutes the following layers:\n",
    "\n",
    "1) Convolution layer : These layers are used for feature extraction while taking into account the rich spatial information present in the images.\n",
    "\n",
    "2) Pooling layer : These layers are used to reduce dimensions of the features(activation maps)extracted from the convolutional layers and to only retain information that is important.\n",
    "\n",
    "3) Fully connected layer: This layer is simply Multi Layer Perceptron that uses a soft max layer(multinomial logistic regression) to output class probabilities of the input image. This layer is usually the last layer in the network as shown above."
   ]
  },
  {
   "cell_type": "markdown",
   "metadata": {},
   "source": [
    "### Convolutional Neural Network using a Tensor Flow Graph\n",
    "\n",
    "The Convolutional Neural Network model is constructed with layers similar to the figure above via  a TensorFlow Graph. The TensorFlow libray is used for efficient numerical computation. It does all the heavy lifting outside of python using efficient C++ code, similar to other libraries such as NumPy. However instead of switching back to python after every expensive operation, TensorFlow allows us to define an entire graph consisting of place holders(inputs), variables and operations for the entire network prior to the start of computation.Once the graph is defined the model is ready to be trained. This setup easily lends to efficient distributed computing."
   ]
  },
  {
   "cell_type": "markdown",
   "metadata": {},
   "source": [
    "### Convolution \n",
    "Convolutional networks obtain their name from the word 'Convolution', which is a mathematical operation ubiquitously used in image processing. This operation helps in extracting low level features from the input images such as edges ,countours or maybe patches of images enriched for a certain color. With subsequent layers of convolution with other filters the network eventually learns high level features such as wings when looking at image of a bird or paws of a dog as an example.\n",
    "\n",
    "Every filter/kernel in a layer is treated as a sliding window of a certain size across the input image volume one pixel at a time. At every pixel/positon the dot product is computed between the entries of the filter and that of the overlapping image volume to result in a 2D feature/activation map. Let's say that we have *n* kernels, consequently we have *n* feature maps per kernel stacked up in the depth dimension. Therefore we are reducing the feature space in the width and breadth dimension but increasing it's depth. An intuitive demo of the convolution operation is available in the [CS231n course](http://cs231n.github.io/convolutional-networks/#conv) taught by Andrej Karpathy. "
   ]
  },
  {
   "cell_type": "code",
   "execution_count": 45,
   "metadata": {
    "collapsed": false
   },
   "outputs": [],
   "source": [
    "def convolve(input_x, W, b):\n",
    "    convolve_x = tf.nn.conv2d(input_x, W, strides=[1, 1, 1, 1], padding='SAME')\n",
    "    bias = tf.nn.bias_add(convolve_x, b)\n",
    "    relu = tf.nn.relu(bias)\n",
    "    return relu"
   ]
  },
  {
   "cell_type": "markdown",
   "metadata": {},
   "source": [
    "#### Pooling Layers\n",
    "The pooling layers are used to downsample the feature space in order to retain information that is most important and discard the rest. For example, we can use a 2x2 window on a activation/feature map and only retain the max, mean or sum of features within that window frame. The most common metric used is max pooling unless otherwise stated. \n",
    "\n",
    "This step reduces the size of the features space making them computationally more manageable,i.e it reduces the number of parameters that need to be computed and also prevents overfitting. The more weights we have to learn the more likely the network will overfit."
   ]
  },
  {
   "cell_type": "code",
   "execution_count": 46,
   "metadata": {
    "collapsed": true
   },
   "outputs": [],
   "source": [
    "def maxpool(input_x):\n",
    "    size = [1, 2, 2, 1]\n",
    "    return tf.nn.max_pool(input_x, ksize=size, strides=size, padding='SAME')"
   ]
  },
  {
   "cell_type": "markdown",
   "metadata": {},
   "source": [
    "#### Define the convolutional neural network model"
   ]
  },
  {
   "cell_type": "code",
   "execution_count": 47,
   "metadata": {
    "collapsed": true
   },
   "outputs": [],
   "source": [
    "def convolution_net(x, biases, weights, dropout):\n",
    "    # Flatten the input image\n",
    "    x = tf.reshape(x, shape=[-1, 28, 28, 1])\n",
    "\n",
    "    # Convolution Layer One and max pooling\n",
    "    conv1 = convolve(x, weights['wconv1'], biases['bconv1'])\n",
    "    conv1_maxpool = maxpool(conv1)\n",
    "\n",
    "    # Convolution Layer Two and max pooling\n",
    "    conv2 = convolve(conv1_maxpool, weights['wconv2'], biases['bconv2'])\n",
    "    conv2_maxpool = maxpool(conv2)\n",
    "\n",
    "    # Fully connected layer\n",
    "    fc1_reshape = tf.reshape(conv2_maxpool, [-1, weights['wmodel'].get_shape().as_list()[0]])\n",
    "    fc1_add = tf.add(tf.matmul(fc1_reshape, weights['wmodel']), biases['bmodel'])\n",
    "    fc1_relu = tf.nn.relu(fc1_add)\n",
    "    fc1_final = tf.nn.dropout(fc1_relu, dropout)\n",
    "\n",
    "    # Prediction of class probabilities\n",
    "    output = tf.add(tf.matmul(fc1_final, weights['output']), biases['output'])\n",
    "    return output"
   ]
  },
  {
   "cell_type": "markdown",
   "metadata": {},
   "source": [
    "#### Initialize Parameters"
   ]
  },
  {
   "cell_type": "code",
   "execution_count": 52,
   "metadata": {
    "collapsed": true
   },
   "outputs": [],
   "source": [
    "model_learning_rate = 0.001\n",
    "training_iters = 20000\n",
    "batch_size = 128\n",
    "display_step = 10\n",
    "\n",
    "# Network Parameters\n",
    "model_input = 784 # (img shape: 28*28) reshaped into 784 dimensional vector.\n",
    "model_classes = 10 # number of classes of digits\n",
    "dropout = 0.75 # Dropout, probability to keep units"
   ]
  },
  {
   "cell_type": "markdown",
   "metadata": {},
   "source": [
    "#### Initialize inputs to the graph"
   ]
  },
  {
   "cell_type": "code",
   "execution_count": 49,
   "metadata": {
    "collapsed": true
   },
   "outputs": [],
   "source": [
    "x = tf.placeholder(tf.float32, [None, model_input])\n",
    "y = tf.placeholder(tf.float32, [None, model_classes])\n",
    "keep_prob = tf.placeholder(tf.float32) "
   ]
  },
  {
   "cell_type": "markdown",
   "metadata": {},
   "source": [
    "#### Initialize Model"
   ]
  },
  {
   "cell_type": "code",
   "execution_count": 59,
   "metadata": {
    "collapsed": true
   },
   "outputs": [],
   "source": [
    "def weight_values(shape):\n",
    "  initial = tf.truncated_normal(shape, stddev=0.1)\n",
    "  return tf.Variable(initial)\n",
    "\n",
    "def bias_values(shape):\n",
    "  initial = tf.constant(0.1, shape=shape)\n",
    "  return tf.Variable(initial)"
   ]
  },
  {
   "cell_type": "code",
   "execution_count": 60,
   "metadata": {
    "collapsed": false
   },
   "outputs": [],
   "source": [
    "# Store layers weight & bias\n",
    "weights = {}\n",
    "weights['wconv1'] = weight_values([5, 5, 1, 32])\n",
    "weights['wconv2'] = weight_values([5, 5, 32, 64])\n",
    "weights['wmodel'] = weight_values([7*7*64, 1024])\n",
    "weights['output'] = weight_values([1024, model_classes])\n",
    "\n",
    "biases = {}\n",
    "biases['bconv1'] = bias_values([32])\n",
    "biases['bconv2'] = bias_values([64])\n",
    "biases['bmodel'] = bias_values([1024])\n",
    "biases['output'] = bias_values([model_classes])\n",
    "\n",
    "# Construct model\n",
    "pred = convolution_net(x, biases, weights, keep_prob)\n",
    "\n",
    "# Define total cost\n",
    "cost = tf.reduce_mean(tf.nn.softmax_cross_entropy_with_logits(pred, y))\n",
    "\n",
    "# Define optimizer\n",
    "optimizer = tf.train.AdamOptimizer(learning_rate = model_learning_rate).minimize(cost)\n",
    "\n",
    "# Predict output\n",
    "correct_prediction = tf.equal(tf.argmax(pred, 1), tf.argmax(y, 1))\n",
    "\n",
    "# Evaluate accuracy\n",
    "accuracy = tf.reduce_mean(tf.cast(correct_prediction, tf.float32))\n",
    "\n"
   ]
  },
  {
   "cell_type": "markdown",
   "metadata": {},
   "source": [
    "### Launch the TensorFlow graph\n",
    "\n",
    "Before launching the graph we must first create an operation that will initialize all the variables we have defined so far."
   ]
  },
  {
   "cell_type": "code",
   "execution_count": null,
   "metadata": {
    "collapsed": true
   },
   "outputs": [],
   "source": [
    "# Initializing the variables\n",
    "init = tf.initialize_all_variables()"
   ]
  },
  {
   "cell_type": "code",
   "execution_count": 63,
   "metadata": {
    "collapsed": false
   },
   "outputs": [
    {
     "name": "stdout",
     "output_type": "stream",
     "text": [
      "Iter 1280, Minibatch Loss= 1.130665, Training Accuracy= 0.64844\n",
      "Iter 2560, Minibatch Loss= 0.759966, Training Accuracy= 0.85938\n",
      "Iter 3840, Minibatch Loss= 0.323015, Training Accuracy= 0.88281\n",
      "Iter 5120, Minibatch Loss= 0.326763, Training Accuracy= 0.88281\n",
      "Iter 6400, Minibatch Loss= 0.194050, Training Accuracy= 0.94531\n",
      "Iter 7680, Minibatch Loss= 0.183821, Training Accuracy= 0.94531\n",
      "Iter 8960, Minibatch Loss= 0.213975, Training Accuracy= 0.96094\n",
      "Iter 10240, Minibatch Loss= 0.145514, Training Accuracy= 0.94531\n",
      "Iter 11520, Minibatch Loss= 0.121631, Training Accuracy= 0.97656\n",
      "Iter 12800, Minibatch Loss= 0.127156, Training Accuracy= 0.96094\n",
      "Iter 14080, Minibatch Loss= 0.128761, Training Accuracy= 0.96875\n",
      "Iter 15360, Minibatch Loss= 0.120064, Training Accuracy= 0.96875\n",
      "Iter 16640, Minibatch Loss= 0.115209, Training Accuracy= 0.96094\n",
      "Iter 17920, Minibatch Loss= 0.095444, Training Accuracy= 0.95312\n",
      "Iter 19200, Minibatch Loss= 0.102321, Training Accuracy= 0.98438\n",
      "Optimization Completed\n",
      "Test Accuracy: 0.9698\n"
     ]
    }
   ],
   "source": [
    "# Begin the tensorflow session for training\n",
    "with tf.Session() as sess:\n",
    "    sess.run(init)\n",
    "    step = 1\n",
    "    # Keep training until reach max iterations\n",
    "    num_steps = step * batch_size\n",
    "    while num_steps < training_iters:\n",
    "        batch_x, batch_y = mnist.train.next_batch(batch_size)\n",
    "        # Run optimization operation\n",
    "        feed_dict1 = {x: batch_x, y: batch_y, keep_prob: dropout}\n",
    "        sess.run(optimizer, feed_dict=feed_dict1)\n",
    "        \n",
    "        if step % display_step == 0:\n",
    "            # Calculate batch loss and accuracy\n",
    "            feed_dict2 = {x: batch_x, y: batch_y, keep_prob: 1.}\n",
    "            loss, acc = sess.run([cost, accuracy], feed_dict = feed_dict2)\n",
    "            print \"Iter \" + str(num_steps) + \", Minibatch Loss= \" + \\\n",
    "                  \"{:.6f}\".format(loss) + \", Training Accuracy= \" + \\\n",
    "                  \"{:.5f}\".format(acc)\n",
    "        step += 1\n",
    "        num_steps = step * batch_size\n",
    "    print \"Optimization Completed\"\n",
    "\n",
    "    # Calculate accuracy for test images\n",
    "    print \"Test Accuracy:\", \\\n",
    "        sess.run(accuracy, feed_dict={x: mnist.test.images,y: mnist.test.labels,\n",
    "                                      keep_prob: 1.})"
   ]
  },
  {
   "cell_type": "markdown",
   "metadata": {},
   "source": [
    "### Visualization of data\n",
    "\n",
    "[t-SNE](https://lvdmaaten.github.io/tsne/) is a dimensionality reduction technique which is often used for visualizing high dimensional data sets. This method is employed to visualize how the network learns to separate data representing the 10 different classes of digits and the details of how to implement this technique can be found in [Arthur Juilani's](https://medium.com/@awjuliani/visualizing-deep-learning-with-t-sne-tutorial-and-video-e7c59ee4080c#.d0zhpwu4g)blog post on \"Visualizing Deep Learning with t-SNE\" ."
   ]
  },
  {
   "cell_type": "markdown",
   "metadata": {},
   "source": [
    "## Summary and Resources\n",
    "This tutorial barely scratches the surface on what can be achieved using convolution neural networks. This is also by no means a comprehensive tutorial on convolutional neural networks.\n",
    "More details about the tensorflow library and the theory behind the convolutional neural networks can be sought out from the following links:\n",
    "\n",
    "1) **Theory behind convolutional neural networks :**\n",
    "\n",
    "(i) [Convolutional Neural Networks course](http://cs231n.github.io/convolutional-networks/) by Andrej Karpathy \n",
    "\n",
    "(ii) [Deep Learning Tutorial](http://deeplearning.stanford.edu/tutorial/) from Stanford.\n",
    "\n",
    "(iii) [The deep learning book](http://www.deeplearningbook.org/) by Ian Goodfellow, Yoshua Bengio and Aaron Courville. \n",
    "\n",
    "(iv) [Free Online Book](http://neuralnetworksanddeeplearning.com/) on Deep Learning by Michael Nielson.\n",
    "\n",
    "\n",
    "2) **To gain some Intuition about Convolutional Neural Networks you can refer to :**\n",
    "\n",
    "(i) [A beginner's guide to understanding convolutional neural networks](https://adeshpande3.github.io/adeshpande3.github.io/A-Beginner's-Guide-To-Understanding-Convolutional-Neural-Networks/) by Adit Deshpande.\n",
    "\n",
    "(ii) [Deep Learning and Convolutional Neural Networks](https://medium.com/@ageitgey/machine-learning-is-fun-part-3-deep-learning-and-convolutional-neural-networks-f40359318721#.tt45r2xpz) by Adam Geitgey\n",
    "\n",
    "\n",
    "3) **For More Details of Implementation using Tensor Flow:**\n",
    "\n",
    "(i) [TensorFlow Mechanics 101](https://www.tensorflow.org/versions/r0.11/tutorials/mnist/tf/index.html#tensorflow-mechanics-101)\n",
    "\n",
    "\n",
    "4) **Visualization :**\n",
    "\n",
    "(i) [ Jason Yosinski's](https://www.youtube.com/watch?v=AgkfIQ4IGaM) video provides us with methods to visualize the outputs of the convolution filters.\n",
    "\n",
    "(ii) The [Visualizing and Understanding Convolutional Networks paper](http://www.matthewzeiler.com/pubs/arxive2013/arxive2013.pdf) from Matt Zeiler and Rob Fergus discusses a visualization technique that allow us to view the evolution of the features during training.\n",
    "\n",
    "As you have seen so far , this tutorial is only an introduction a simple convolutional neural network and mainly focuses on the ease with which one can set up their own neural networks using tensorflow. You can explore the several convolutional neural network architectures that have been put forth by the research community and well summarized [here](https://adeshpande3.github.io/adeshpande3.github.io/The-9-Deep-Learning-Papers-You-Need-To-Know-About.html) or even download the latest models to train and test your own images. One such example is illustrated by  [ Magnus Erik Hvass ](https://github.com/Hvass-Labs/TensorFlow-Tutorials/blob/master/07_Inception_Model.ipynb). \n"
   ]
  },
  {
   "cell_type": "markdown",
   "metadata": {},
   "source": [
    "## References\n",
    "1. TensorFlow: https://www.tensorflow.org\n",
    "2. MNIST databasee : http://yann.lecun.com/exdb/mnist/\n",
    "3. The theory behind ConvNets : http://cs231n.github.io/convolutional-networks/ \n",
    "4. Convnets TensorFlow : https://github.com/aymericdamien/TensorFlow-Examples/blob/master/notebooks/3_NeuralNetworks/convolutional_network.ipynb\n",
    "5. Tutorials : https://github.com/Hvass-Labs/TensorFlow-Tutorials/blob/master/02_Convolutional_Neural_Network.ipynb; https://github.com/aymericdamien/TensorFlow-Examples/blob/master/notebooks/3_NeuralNetworks/convolutional_network.ipynb\n",
    "6. Visualizing Deep Learning with t-SNE : (https://medium.com/@awjuliani/visualizing-deep-learning-with-t-sne-tutorial-and-video-e7c59ee4080c#.gkgmt2v94 "
   ]
  }
 ],
 "metadata": {
  "anaconda-cloud": {},
  "kernelspec": {
   "display_name": "Python 2",
   "language": "python",
   "name": "python2"
  },
  "language_info": {
   "codemirror_mode": {
    "name": "ipython",
    "version": 2
   },
   "file_extension": ".py",
   "mimetype": "text/x-python",
   "name": "python",
   "nbconvert_exporter": "python",
   "pygments_lexer": "ipython2",
   "version": "2.7.12"
  }
 },
 "nbformat": 4,
 "nbformat_minor": 1
}
