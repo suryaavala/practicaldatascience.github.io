{
 "cells": [
  {
   "cell_type": "markdown",
   "metadata": {},
   "source": [
    "# Introduction"
   ]
  },
  {
   "cell_type": "markdown",
   "metadata": {},
   "source": [
    "This tutorial will introduce you to a real-world data challenge held by Airbnb, which is to identify the patterns among their customers. Specifically, given the data of 210,000 users’ behaviors, participants were asked to predict in which country a new user will make his or her first booking. These booking behaviors of first-time users can help Airbnb better personalize their maketing tactics and increase its booking rates.\n",
    "\n",
    "Data for this tutorial can be found at the following link. https://www.kaggle.com/c/airbnb-recruiting-new-user-bookings/data"
   ]
  },
  {
   "cell_type": "markdown",
   "metadata": {},
   "source": [
    "# Tutorial content"
   ]
  },
  {
   "cell_type": "markdown",
   "metadata": {},
   "source": [
    "In the first part of this tutorial, I will show how to do some data explorationa and basic visualizationon Airbnb's user booking dataset, specifically using Pandas, numpy, seaborn and Matplotlib. \n",
    "\n",
    "In the second part, I will show a solution for airbnb's new user booking prediction challenge. I will use Xgboost and Random Forest model and perform a weighted voting for the final result.\n",
    "\n",
    "I will cover the following topics in this tutorial:\n",
    "- [Loading and exploring Airbnb's data](#Data-Exploration)\n",
    "- [Data visualization using Seaborn and Matplotlib](#Data-visualization)\n",
    "- [Data preprocessing and feature exatraction](#Feature-Extraction-from-Sessions)\n",
    "- [Up and running with Xgboost and Random Forest](#Up-and-running-with-Random-Forest-and-Xgboost)\n",
    "- [User booking prediction](#User-first-booking-prediction)"
   ]
  },
  {
   "cell_type": "markdown",
   "metadata": {},
   "source": [
    "# Section 1. Visualizing the Data using Matplotlib and Seaborn"
   ]
  },
  {
   "cell_type": "markdown",
   "metadata": {},
   "source": [
    "There are 2 datasets that I mainly want to talk about. First, the original file from Airbnb website, train_users_2.csv, contrains 213,451 observations that contain a variety of information such as users’ age, gender, language, date of first booking, signup methods, and device types. The correct classification result is not being published by Airbnb so it's impossible for me to verify my classification accuracy on their testing data. So I split the original training data file into training file (163,451 lines) and testing file (50,001 lines). The bash cmd for splitting is as follows.\n",
    "\n",
    "- TERMINAL>> wc -l train_users_2.csv\n",
    "- TERMINAL>> head -163451 train_users_2.csv > train_users.csv\n",
    "- TERMINAL>> tail -50000 train_users_2.csv > test_users.csv # don't forget to concat the one-line header for this file. \n",
    "\n",
    "For the testing file, I removed the \"destination_country\" column and saved that column in \"answer.csv\", we will use this file to compare with our final classification result.\n",
    "\n",
    "Another dataset, sessions.csv, is a detailed record of each user’s online activities on the Airbnb website. I will extracted count frequent features in the latter content (Section2)."
   ]
  },
  {
   "cell_type": "code",
   "execution_count": 1,
   "metadata": {
    "collapsed": false
   },
   "outputs": [
    {
     "name": "stdout",
     "output_type": "stream",
     "text": [
      "           id date_account_created  timestamp_first_active date_first_booking  \\\n",
      "0  gxn3p5htnn           2010-06-28          20090319043255                NaN   \n",
      "1  820tgsjxq7           2011-05-25          20090523174809                NaN   \n",
      "2  4ft3gnwmtx           2010-09-28          20090609231247         2010-08-02   \n",
      "3  bjjt8pjhuk           2011-12-05          20091031060129         2012-09-08   \n",
      "4  87mebub9p4           2010-09-14          20091208061105         2010-02-18   \n",
      "\n",
      "      gender   age signup_method  signup_flow language affiliate_channel  \\\n",
      "0  -unknown-   NaN      facebook            0       en            direct   \n",
      "1       MALE  38.0      facebook            0       en               seo   \n",
      "2     FEMALE  56.0         basic            3       en            direct   \n",
      "3     FEMALE  42.0      facebook            0       en            direct   \n",
      "4  -unknown-  41.0         basic            0       en            direct   \n",
      "\n",
      "  affiliate_provider first_affiliate_tracked signup_app first_device_type  \\\n",
      "0             direct               untracked        Web       Mac Desktop   \n",
      "1             google               untracked        Web       Mac Desktop   \n",
      "2             direct               untracked        Web   Windows Desktop   \n",
      "3             direct               untracked        Web       Mac Desktop   \n",
      "4             direct               untracked        Web       Mac Desktop   \n",
      "\n",
      "  first_browser country_destination  \n",
      "0        Chrome                 NDF  \n",
      "1        Chrome                 NDF  \n",
      "2            IE                  US  \n",
      "3       Firefox               other  \n",
      "4        Chrome                  US  \n",
      "==================================================================================================\n",
      "0      NDF\n",
      "1      NDF\n",
      "2       US\n",
      "3    other\n",
      "4       US\n",
      "Name: country_destination, dtype: object\n",
      "==================================================================================================\n",
      "           id date_account_created  timestamp_first_active date_first_booking  \\\n",
      "0  gxn3p5htnn           2010-06-28          20090319043255                NaN   \n",
      "1  820tgsjxq7           2011-05-25          20090523174809                NaN   \n",
      "2  4ft3gnwmtx           2010-09-28          20090609231247         2010-08-02   \n",
      "3  bjjt8pjhuk           2011-12-05          20091031060129         2012-09-08   \n",
      "4  87mebub9p4           2010-09-14          20091208061105         2010-02-18   \n",
      "\n",
      "      gender   age signup_method  signup_flow language affiliate_channel  \\\n",
      "0  -unknown-   NaN      facebook            0       en            direct   \n",
      "1       MALE  38.0      facebook            0       en               seo   \n",
      "2     FEMALE  56.0         basic            3       en            direct   \n",
      "3     FEMALE  42.0      facebook            0       en            direct   \n",
      "4  -unknown-  41.0         basic            0       en            direct   \n",
      "\n",
      "  affiliate_provider first_affiliate_tracked signup_app first_device_type  \\\n",
      "0             direct               untracked        Web       Mac Desktop   \n",
      "1             google               untracked        Web       Mac Desktop   \n",
      "2             direct               untracked        Web   Windows Desktop   \n",
      "3             direct               untracked        Web       Mac Desktop   \n",
      "4             direct               untracked        Web       Mac Desktop   \n",
      "\n",
      "  first_browser  \n",
      "0        Chrome  \n",
      "1        Chrome  \n",
      "2            IE  \n",
      "3       Firefox  \n",
      "4        Chrome  \n"
     ]
    }
   ],
   "source": [
    "import numpy as np\n",
    "import pandas as pd\n",
    "\n",
    "# Read the train and the test data \n",
    "train_users = pd.read_csv('train_users.csv')\n",
    "test_users = pd.read_csv('test_users.csv')\n",
    "\n",
    "print (train_users.head())\n",
    "print (\"==================================================================================================\")\n",
    "print (test_users.head())\n",
    "print (\"==================================================================================================\")\n",
    "\n",
    "# Extracting labels from the train data\n",
    "train_users_labels = train_users.loc[:,'country_destination']\n",
    "print (train_users_labels.head(n=5))\n",
    "\n",
    "print (\"==================================================================================================\")\n",
    "\n",
    "# Extracting attributes from the train data\n",
    "train_users_attrs = train_users.iloc[:,0:15]\n",
    "print(train_users_attrs.head(n=5))"
   ]
  },
  {
   "cell_type": "markdown",
   "metadata": {},
   "source": [
    "As we can see from the above code snippet and output, the dataset airbnb is quite huge. Here’s a list of what the variables actually mean.\n",
    "\n",
    "- id: user id\n",
    "- date_account_created: the date of account creation\n",
    "- timestamp_first_active: timestamp of the first activity, note that it can be earlier than\n",
    "- date_account_created or date_first_booking because a user can search before signing up\n",
    "- date_first_booking: date of first booking\n",
    "- gender\n",
    "- age\n",
    "- signup_method\n",
    "- signup_flow: the page a user came to signup up from\n",
    "- language: international language preference\n",
    "- affiliate_channel: what kind of paid marketing\n",
    "- affiliate_provider: where the marketing is e.g. google, craigslist, other\n",
    "- first_affiliate_tracked: whats the first marketing the user interacted with before the signing up\n",
    "- signup_app\n",
    "- first_device_type\n",
    "- first_browser\n",
    "- country_destination: this is the target variable you are to predict \n",
    "\n",
    "The country destination information is in training dataset but is not provided in test dataset. However, I have a answer.csv which stores the actual booking destination. So I can compare this values latter after we perform the classification algorithm. "
   ]
  },
  {
   "cell_type": "markdown",
   "metadata": {},
   "source": [
    "## Data Exploration"
   ]
  },
  {
   "cell_type": "code",
   "execution_count": 2,
   "metadata": {
    "collapsed": false
   },
   "outputs": [
    {
     "name": "stdout",
     "output_type": "stream",
     "text": [
      "In total we have 213451 users.\n"
     ]
    },
    {
     "data": {
      "text/html": [
       "<div>\n",
       "<table border=\"1\" class=\"dataframe\">\n",
       "  <thead>\n",
       "    <tr style=\"text-align: right;\">\n",
       "      <th></th>\n",
       "      <th>affiliate_channel</th>\n",
       "      <th>affiliate_provider</th>\n",
       "      <th>age</th>\n",
       "      <th>country_destination</th>\n",
       "      <th>date_account_created</th>\n",
       "      <th>date_first_booking</th>\n",
       "      <th>first_affiliate_tracked</th>\n",
       "      <th>first_browser</th>\n",
       "      <th>first_device_type</th>\n",
       "      <th>gender</th>\n",
       "      <th>language</th>\n",
       "      <th>signup_app</th>\n",
       "      <th>signup_flow</th>\n",
       "      <th>signup_method</th>\n",
       "      <th>timestamp_first_active</th>\n",
       "    </tr>\n",
       "  </thead>\n",
       "  <tbody>\n",
       "    <tr>\n",
       "      <th>0</th>\n",
       "      <td>direct</td>\n",
       "      <td>direct</td>\n",
       "      <td>NaN</td>\n",
       "      <td>NDF</td>\n",
       "      <td>2010-06-28</td>\n",
       "      <td>NaN</td>\n",
       "      <td>untracked</td>\n",
       "      <td>Chrome</td>\n",
       "      <td>Mac Desktop</td>\n",
       "      <td>-unknown-</td>\n",
       "      <td>en</td>\n",
       "      <td>Web</td>\n",
       "      <td>0</td>\n",
       "      <td>facebook</td>\n",
       "      <td>20090319043255</td>\n",
       "    </tr>\n",
       "    <tr>\n",
       "      <th>1</th>\n",
       "      <td>seo</td>\n",
       "      <td>google</td>\n",
       "      <td>38.0</td>\n",
       "      <td>NDF</td>\n",
       "      <td>2011-05-25</td>\n",
       "      <td>NaN</td>\n",
       "      <td>untracked</td>\n",
       "      <td>Chrome</td>\n",
       "      <td>Mac Desktop</td>\n",
       "      <td>MALE</td>\n",
       "      <td>en</td>\n",
       "      <td>Web</td>\n",
       "      <td>0</td>\n",
       "      <td>facebook</td>\n",
       "      <td>20090523174809</td>\n",
       "    </tr>\n",
       "    <tr>\n",
       "      <th>2</th>\n",
       "      <td>direct</td>\n",
       "      <td>direct</td>\n",
       "      <td>56.0</td>\n",
       "      <td>US</td>\n",
       "      <td>2010-09-28</td>\n",
       "      <td>2010-08-02</td>\n",
       "      <td>untracked</td>\n",
       "      <td>IE</td>\n",
       "      <td>Windows Desktop</td>\n",
       "      <td>FEMALE</td>\n",
       "      <td>en</td>\n",
       "      <td>Web</td>\n",
       "      <td>3</td>\n",
       "      <td>basic</td>\n",
       "      <td>20090609231247</td>\n",
       "    </tr>\n",
       "    <tr>\n",
       "      <th>3</th>\n",
       "      <td>direct</td>\n",
       "      <td>direct</td>\n",
       "      <td>42.0</td>\n",
       "      <td>other</td>\n",
       "      <td>2011-12-05</td>\n",
       "      <td>2012-09-08</td>\n",
       "      <td>untracked</td>\n",
       "      <td>Firefox</td>\n",
       "      <td>Mac Desktop</td>\n",
       "      <td>FEMALE</td>\n",
       "      <td>en</td>\n",
       "      <td>Web</td>\n",
       "      <td>0</td>\n",
       "      <td>facebook</td>\n",
       "      <td>20091031060129</td>\n",
       "    </tr>\n",
       "    <tr>\n",
       "      <th>4</th>\n",
       "      <td>direct</td>\n",
       "      <td>direct</td>\n",
       "      <td>41.0</td>\n",
       "      <td>US</td>\n",
       "      <td>2010-09-14</td>\n",
       "      <td>2010-02-18</td>\n",
       "      <td>untracked</td>\n",
       "      <td>Chrome</td>\n",
       "      <td>Mac Desktop</td>\n",
       "      <td>-unknown-</td>\n",
       "      <td>en</td>\n",
       "      <td>Web</td>\n",
       "      <td>0</td>\n",
       "      <td>basic</td>\n",
       "      <td>20091208061105</td>\n",
       "    </tr>\n",
       "  </tbody>\n",
       "</table>\n",
       "</div>"
      ],
      "text/plain": [
       "  affiliate_channel affiliate_provider   age country_destination  \\\n",
       "0            direct             direct   NaN                 NDF   \n",
       "1               seo             google  38.0                 NDF   \n",
       "2            direct             direct  56.0                  US   \n",
       "3            direct             direct  42.0               other   \n",
       "4            direct             direct  41.0                  US   \n",
       "\n",
       "  date_account_created date_first_booking first_affiliate_tracked  \\\n",
       "0           2010-06-28                NaN               untracked   \n",
       "1           2011-05-25                NaN               untracked   \n",
       "2           2010-09-28         2010-08-02               untracked   \n",
       "3           2011-12-05         2012-09-08               untracked   \n",
       "4           2010-09-14         2010-02-18               untracked   \n",
       "\n",
       "  first_browser first_device_type     gender language signup_app  signup_flow  \\\n",
       "0        Chrome       Mac Desktop  -unknown-       en        Web            0   \n",
       "1        Chrome       Mac Desktop       MALE       en        Web            0   \n",
       "2            IE   Windows Desktop     FEMALE       en        Web            3   \n",
       "3       Firefox       Mac Desktop     FEMALE       en        Web            0   \n",
       "4        Chrome       Mac Desktop  -unknown-       en        Web            0   \n",
       "\n",
       "  signup_method  timestamp_first_active  \n",
       "0      facebook          20090319043255  \n",
       "1      facebook          20090523174809  \n",
       "2         basic          20090609231247  \n",
       "3      facebook          20091031060129  \n",
       "4         basic          20091208061105  "
      ]
     },
     "execution_count": 2,
     "metadata": {},
     "output_type": "execute_result"
    }
   ],
   "source": [
    "import matplotlib.pyplot as plt\n",
    "import seaborn as sns\n",
    "from __future__ import print_function\n",
    "\n",
    "# Draw inline\n",
    "%matplotlib inline\n",
    "\n",
    "# Set figure aesthetics\n",
    "sns.set_style(\"white\", {'ytick.major.size': 10.0})\n",
    "sns.set_context(\"poster\", font_scale=1.1)\n",
    "\n",
    "train_users = pd.read_csv(\"train_users.csv\")\n",
    "test_users = pd.read_csv('test_users.csv')\n",
    "print(\"In total we have\", train_users.shape[0] + test_users.shape[0], \"users.\")\n",
    "\n",
    "# Merge train and test users\n",
    "users = pd.concat((train_users, test_users), axis=0, ignore_index=True)\n",
    "\n",
    "# Remove ID's since now we are not interested in making predictions\n",
    "users.drop('id',axis=1, inplace=True)\n",
    "\n",
    "users.head()"
   ]
  },
  {
   "cell_type": "markdown",
   "metadata": {},
   "source": [
    "Since we have quite a lot of NaN in the age and gender wich will yield in lesser performance of the classifiers we will build. The feature date_first_booking has a 58% of NaN values because this feature is not present at the tests users, and therefore, we won't need it at the modeling part. For these kinds of unknown value, we will replace NaN in the dataframe."
   ]
  },
  {
   "cell_type": "code",
   "execution_count": 3,
   "metadata": {
    "collapsed": false
   },
   "outputs": [],
   "source": [
    "users.gender.replace('-unknown-', np.nan, inplace=True)"
   ]
  },
  {
   "cell_type": "code",
   "execution_count": 4,
   "metadata": {
    "collapsed": false
   },
   "outputs": [
    {
     "name": "stdout",
     "output_type": "stream",
     "text": [
      "Just for the sake of curiosity; we have 0 % of missing values at date_first_booking in the training data\n"
     ]
    }
   ],
   "source": [
    "users_nan = (users.isnull().sum() / users.shape[0]) * 100\n",
    "users_nan[users_nan > 0].drop('country_destination')\n",
    "users.loc[users.age > 95, 'age'] = np.nan\n",
    "users.loc[users.age < 13, 'age'] = np.nan\n",
    "\n",
    "print(\"Just for the sake of curiosity; we have\", \n",
    "      int((train_users.date_first_booking.isnull().sum() / train_users.shape[0]) * 100), \n",
    "      \"% of missing values at date_first_booking in the training data\")"
   ]
  },
  {
   "cell_type": "code",
   "execution_count": 5,
   "metadata": {
    "collapsed": false
   },
   "outputs": [],
   "source": [
    "categorical_features = [\n",
    "    'affiliate_channel',\n",
    "    'affiliate_provider',\n",
    "    'country_destination',\n",
    "    'first_affiliate_tracked',\n",
    "    'first_browser',\n",
    "    'first_device_type',\n",
    "    'gender',\n",
    "    'language',\n",
    "    'signup_app',\n",
    "    'signup_method'\n",
    "]\n",
    "\n",
    "for categorical_feature in categorical_features:\n",
    "    users[categorical_feature] = users[categorical_feature].astype('category')"
   ]
  },
  {
   "cell_type": "code",
   "execution_count": 6,
   "metadata": {
    "collapsed": false
   },
   "outputs": [
    {
     "data": {
      "text/html": [
       "<div>\n",
       "<table border=\"1\" class=\"dataframe\">\n",
       "  <thead>\n",
       "    <tr style=\"text-align: right;\">\n",
       "      <th></th>\n",
       "      <th>affiliate_channel</th>\n",
       "      <th>affiliate_provider</th>\n",
       "      <th>age</th>\n",
       "      <th>country_destination</th>\n",
       "      <th>date_account_created</th>\n",
       "      <th>date_first_booking</th>\n",
       "      <th>first_affiliate_tracked</th>\n",
       "      <th>first_browser</th>\n",
       "      <th>first_device_type</th>\n",
       "      <th>gender</th>\n",
       "      <th>language</th>\n",
       "      <th>signup_app</th>\n",
       "      <th>signup_flow</th>\n",
       "      <th>signup_method</th>\n",
       "      <th>timestamp_first_active</th>\n",
       "    </tr>\n",
       "  </thead>\n",
       "  <tbody>\n",
       "    <tr>\n",
       "      <th>0</th>\n",
       "      <td>direct</td>\n",
       "      <td>direct</td>\n",
       "      <td>NaN</td>\n",
       "      <td>NDF</td>\n",
       "      <td>2010-06-28</td>\n",
       "      <td>NaN</td>\n",
       "      <td>untracked</td>\n",
       "      <td>Chrome</td>\n",
       "      <td>Mac Desktop</td>\n",
       "      <td>NaN</td>\n",
       "      <td>en</td>\n",
       "      <td>Web</td>\n",
       "      <td>0</td>\n",
       "      <td>facebook</td>\n",
       "      <td>20090319043255</td>\n",
       "    </tr>\n",
       "    <tr>\n",
       "      <th>1</th>\n",
       "      <td>seo</td>\n",
       "      <td>google</td>\n",
       "      <td>38.0</td>\n",
       "      <td>NDF</td>\n",
       "      <td>2011-05-25</td>\n",
       "      <td>NaN</td>\n",
       "      <td>untracked</td>\n",
       "      <td>Chrome</td>\n",
       "      <td>Mac Desktop</td>\n",
       "      <td>MALE</td>\n",
       "      <td>en</td>\n",
       "      <td>Web</td>\n",
       "      <td>0</td>\n",
       "      <td>facebook</td>\n",
       "      <td>20090523174809</td>\n",
       "    </tr>\n",
       "    <tr>\n",
       "      <th>2</th>\n",
       "      <td>direct</td>\n",
       "      <td>direct</td>\n",
       "      <td>56.0</td>\n",
       "      <td>US</td>\n",
       "      <td>2010-09-28</td>\n",
       "      <td>2010-08-02</td>\n",
       "      <td>untracked</td>\n",
       "      <td>IE</td>\n",
       "      <td>Windows Desktop</td>\n",
       "      <td>FEMALE</td>\n",
       "      <td>en</td>\n",
       "      <td>Web</td>\n",
       "      <td>3</td>\n",
       "      <td>basic</td>\n",
       "      <td>20090609231247</td>\n",
       "    </tr>\n",
       "    <tr>\n",
       "      <th>3</th>\n",
       "      <td>direct</td>\n",
       "      <td>direct</td>\n",
       "      <td>42.0</td>\n",
       "      <td>other</td>\n",
       "      <td>2011-12-05</td>\n",
       "      <td>2012-09-08</td>\n",
       "      <td>untracked</td>\n",
       "      <td>Firefox</td>\n",
       "      <td>Mac Desktop</td>\n",
       "      <td>FEMALE</td>\n",
       "      <td>en</td>\n",
       "      <td>Web</td>\n",
       "      <td>0</td>\n",
       "      <td>facebook</td>\n",
       "      <td>20091031060129</td>\n",
       "    </tr>\n",
       "    <tr>\n",
       "      <th>4</th>\n",
       "      <td>direct</td>\n",
       "      <td>direct</td>\n",
       "      <td>41.0</td>\n",
       "      <td>US</td>\n",
       "      <td>2010-09-14</td>\n",
       "      <td>2010-02-18</td>\n",
       "      <td>untracked</td>\n",
       "      <td>Chrome</td>\n",
       "      <td>Mac Desktop</td>\n",
       "      <td>NaN</td>\n",
       "      <td>en</td>\n",
       "      <td>Web</td>\n",
       "      <td>0</td>\n",
       "      <td>basic</td>\n",
       "      <td>20091208061105</td>\n",
       "    </tr>\n",
       "  </tbody>\n",
       "</table>\n",
       "</div>"
      ],
      "text/plain": [
       "  affiliate_channel affiliate_provider   age country_destination  \\\n",
       "0            direct             direct   NaN                 NDF   \n",
       "1               seo             google  38.0                 NDF   \n",
       "2            direct             direct  56.0                  US   \n",
       "3            direct             direct  42.0               other   \n",
       "4            direct             direct  41.0                  US   \n",
       "\n",
       "  date_account_created date_first_booking first_affiliate_tracked  \\\n",
       "0           2010-06-28                NaN               untracked   \n",
       "1           2011-05-25                NaN               untracked   \n",
       "2           2010-09-28         2010-08-02               untracked   \n",
       "3           2011-12-05         2012-09-08               untracked   \n",
       "4           2010-09-14         2010-02-18               untracked   \n",
       "\n",
       "  first_browser first_device_type  gender language signup_app  signup_flow  \\\n",
       "0        Chrome       Mac Desktop     NaN       en        Web            0   \n",
       "1        Chrome       Mac Desktop    MALE       en        Web            0   \n",
       "2            IE   Windows Desktop  FEMALE       en        Web            3   \n",
       "3       Firefox       Mac Desktop  FEMALE       en        Web            0   \n",
       "4        Chrome       Mac Desktop     NaN       en        Web            0   \n",
       "\n",
       "  signup_method  timestamp_first_active  \n",
       "0      facebook          20090319043255  \n",
       "1      facebook          20090523174809  \n",
       "2         basic          20090609231247  \n",
       "3      facebook          20091031060129  \n",
       "4         basic          20091208061105  "
      ]
     },
     "execution_count": 6,
     "metadata": {},
     "output_type": "execute_result"
    }
   ],
   "source": [
    "users.head()"
   ]
  },
  {
   "cell_type": "code",
   "execution_count": 7,
   "metadata": {
    "collapsed": true
   },
   "outputs": [],
   "source": [
    "users['date_account_created'] = pd.to_datetime(users['date_account_created'])\n",
    "users['date_first_booking'] = pd.to_datetime(users['date_first_booking'])\n",
    "users['date_first_active'] = pd.to_datetime((users.timestamp_first_active // 1000000), format='%Y%m%d')"
   ]
  },
  {
   "cell_type": "markdown",
   "metadata": {},
   "source": [
    "## Data visualization"
   ]
  },
  {
   "cell_type": "markdown",
   "metadata": {},
   "source": [
    "In the previous paragraphs, I did some basic exploration on Airbnb's dataset. In this chapter, I will perform some  visualization the data based on some metric (gender, age, dates) to examine if there is any apparent correlation between country_destination (outcome variables) and those metrics."
   ]
  },
  {
   "cell_type": "markdown",
   "metadata": {},
   "source": [
    "### Gender"
   ]
  },
  {
   "cell_type": "markdown",
   "metadata": {},
   "source": [
    "As we can see in the following code, we can see the ammount of missing data in perspective. \n",
    "Also, notice that there is a slight difference between user gender."
   ]
  },
  {
   "cell_type": "code",
   "execution_count": 8,
   "metadata": {
    "collapsed": false
   },
   "outputs": [
    {
     "data": {
      "image/png": "[encoded data removed]",
      "text/plain": [
       "<matplotlib.figure.Figure at 0x10698a610>"
      ]
     },
     "metadata": {},
     "output_type": "display_data"
    }
   ],
   "source": [
    "users.gender.value_counts()\n",
    "users.gender.value_counts(dropna=False).plot(kind='bar', rot=0)\n",
    "plt.xlabel('Gender')\n",
    "sns.despine()"
   ]
  },
  {
   "cell_type": "markdown",
   "metadata": {},
   "source": [
    "Next thing it might be interesting to see if there is any gender preferences when travelling:\n"
   ]
  },
  {
   "cell_type": "code",
   "execution_count": 9,
   "metadata": {
    "collapsed": false,
    "scrolled": true
   },
   "outputs": [
    {
     "data": {
      "image/png": "[encoded data removed]",
      "text/plain": [
       "<matplotlib.figure.Figure at 0x10d852d90>"
      ]
     },
     "metadata": {},
     "output_type": "display_data"
    }
   ],
   "source": [
    "women = sum(users['gender'] == 'FEMALE')\n",
    "men = sum(users['gender'] == 'MALE')\n",
    "\n",
    "female_destinations = users.loc[users['gender'] == 'FEMALE', 'country_destination'].value_counts() / women * 100\n",
    "male_destinations = users.loc[users['gender'] == 'MALE', 'country_destination'].value_counts() / men * 100\n",
    "\n",
    "# Bar width\n",
    "width = 0.4\n",
    "male_destinations.plot(kind='bar', width=width, color='#4DD3C9', position=0, label='Male', rot=0)\n",
    "female_destinations.plot(kind='bar', width=width, color='#FFA35D', position=1, label='Female', rot=0)\n",
    "\n",
    "plt.legend()\n",
    "plt.xlabel('Destination Country')\n",
    "plt.ylabel('Percentage')\n",
    "\n",
    "sns.despine()\n",
    "plt.show()"
   ]
  },
  {
   "cell_type": "markdown",
   "metadata": {},
   "source": [
    "### Age"
   ]
  },
  {
   "cell_type": "markdown",
   "metadata": {},
   "source": [
    "Next thing it might be interesting to see if there is any age preferences when travelling:"
   ]
  },
  {
   "cell_type": "code",
   "execution_count": 10,
   "metadata": {
    "collapsed": false
   },
   "outputs": [
    {
     "data": {
      "image/png": "[encoded data removed]",
      "text/plain": [
       "<matplotlib.figure.Figure at 0x110a3be10>"
      ]
     },
     "metadata": {},
     "output_type": "display_data"
    }
   ],
   "source": [
    "sns.distplot(users.age.dropna(), color='#FD5C64')\n",
    "plt.xlabel('Age')\n",
    "sns.despine()"
   ]
  },
  {
   "cell_type": "code",
   "execution_count": 11,
   "metadata": {
    "collapsed": false
   },
   "outputs": [
    {
     "data": {
      "image/png": "[encoded data removed]",
      "text/plain": [
       "<matplotlib.figure.Figure at 0x111f71210>"
      ]
     },
     "metadata": {},
     "output_type": "display_data"
    }
   ],
   "source": [
    "age = 45\n",
    "\n",
    "younger = sum(users.loc[users['age'] < age, 'country_destination'].value_counts())\n",
    "older = sum(users.loc[users['age'] > age, 'country_destination'].value_counts())\n",
    "\n",
    "younger_destinations = users.loc[users['age'] < age, 'country_destination'].value_counts() / younger * 100\n",
    "older_destinations = users.loc[users['age'] > age, 'country_destination'].value_counts() / older * 100\n",
    "\n",
    "younger_destinations.plot(kind='bar', width=width, color='#63EA55', position=0, label='Youngers', rot=0)\n",
    "older_destinations.plot(kind='bar', width=width, color='#4DD3C9', position=1, label='Olders', rot=0)\n",
    "\n",
    "plt.legend()\n",
    "plt.xlabel('Destination Country')\n",
    "plt.ylabel('Percentage')\n",
    "\n",
    "sns.despine()\n",
    "plt.show()"
   ]
  },
  {
   "cell_type": "markdown",
   "metadata": {},
   "source": [
    "### Dates"
   ]
  },
  {
   "cell_type": "markdown",
   "metadata": {},
   "source": [
    "Likewisely, the dates information is also shown below. We can see the register user counts and booking counts increasing considerably every year. "
   ]
  },
  {
   "cell_type": "code",
   "execution_count": 12,
   "metadata": {
    "collapsed": false
   },
   "outputs": [
    {
     "data": {
      "text/plain": [
       "<matplotlib.axes._subplots.AxesSubplot at 0x111a8b850>"
      ]
     },
     "execution_count": 12,
     "metadata": {},
     "output_type": "execute_result"
    },
    {
     "data": {
      "image/png": "[encoded data removed]",
      "text/plain": [
       "<matplotlib.figure.Figure at 0x111a8a210>"
      ]
     },
     "metadata": {},
     "output_type": "display_data"
    }
   ],
   "source": [
    "sns.set_style(\"whitegrid\", {'axes.edgecolor': '0'})\n",
    "sns.set_context(\"poster\", font_scale=1.1)\n",
    "users.date_account_created.value_counts().plot(kind='line', linewidth=1.2, color='#FD5C64')"
   ]
  },
  {
   "cell_type": "code",
   "execution_count": 13,
   "metadata": {
    "collapsed": false,
    "scrolled": true
   },
   "outputs": [
    {
     "data": {
      "text/plain": [
       "<matplotlib.axes._subplots.AxesSubplot at 0x1119b5f50>"
      ]
     },
     "execution_count": 13,
     "metadata": {},
     "output_type": "execute_result"
    },
    {
     "data": {
      "image/png": "[encoded data removed]",
      "text/plain": [
       "<matplotlib.figure.Figure at 0x1119f7590>"
      ]
     },
     "metadata": {},
     "output_type": "display_data"
    }
   ],
   "source": [
    "users.date_first_active.value_counts().plot(kind='line', linewidth=1.2, color='#FD5C64')"
   ]
  },
  {
   "cell_type": "markdown",
   "metadata": {},
   "source": [
    "Now the visualization part is finished, and we can see some the relationship between independent variable and output variable. The latter part of this tutorial will discussses machine learning algorithm and user booking prediction the dataset."
   ]
  },
  {
   "cell_type": "markdown",
   "metadata": {},
   "source": [
    "# Section2. Airbnb user booking prediction using Xgboost and Random Forest"
   ]
  },
  {
   "cell_type": "markdown",
   "metadata": {},
   "source": [
    "In this section, we are challenged by Airbnb to predict in which country a new user will make his or her first booking. By accurately predicting where a new user will book their first travel experience, Airbnb can share more personalized content with their community, decrease the average time to first booking, and better forecast demand."
   ]
  },
  {
   "cell_type": "code",
   "execution_count": 14,
   "metadata": {
    "collapsed": false
   },
   "outputs": [],
   "source": [
    "import scipy.stats as stats\n",
    "from utilities import remove_rare_values_inplace\n",
    "import datetime as dt"
   ]
  },
  {
   "cell_type": "markdown",
   "metadata": {},
   "source": [
    "## Feature Extraction from Sessions"
   ]
  },
  {
   "cell_type": "markdown",
   "metadata": {},
   "source": [
    "In this part, we will extract frequency counts as features from the “sessions.csv” data. Since each step in the tutorial is strongly depends on previous step, I saved all the intermediate file as .CSV in the code directory.\n",
    "\n",
    "To extract frequency counts from pd_frame, we simply perform the following steps: For each index (that correspond to a user) this method will count the number of times that C equals to Ci, where C is a column in column_list, and Ci is a unique value of that column. The arg olumn_list is assumed to contain categorical columns. Simple distribution statistics, includes mean, median standard deviation, are extracted from numerical columns."
   ]
  },
  {
   "cell_type": "code",
   "execution_count": 15,
   "metadata": {
    "collapsed": true
   },
   "outputs": [],
   "source": [
    "INDEX_COLUMN = 'user_id'\n",
    "SECS_ELAPSED_NUMERICAL = 'secs_elapsed'\n",
    "CATEGORICAL_FEATURES = ['action', 'action_type', 'action_detail', 'device_type']\n",
    "SESSSIONS_CSV_FILE = 'sessions.csv'\n",
    "OUTPUT_TO_CSV_FILE = 'session_features.csv'  # Results will be saved here.\n",
    "\n",
    "VALUE_THRESHOLD = 0.005"
   ]
  },
  {
   "cell_type": "code",
   "execution_count": 16,
   "metadata": {
    "collapsed": false
   },
   "outputs": [],
   "source": [
    "def extract_frequency_counts(pd_frame, column_list):\n",
    "    '''\n",
    "    Args:\n",
    "        df_frame -- A pandas data frame.\n",
    "        column_list -- A list of columns.\n",
    "    Returns:\n",
    "        A pandas DataFrame, containing frequency counts.\n",
    "    '''\n",
    "    df_extracted_sessions = []\n",
    "    for col in column_list:\n",
    "        for val in set(pd_frame[col]):\n",
    "            print ('Extracting frequency counts for (%s == %s)' % (col, val))\n",
    "            tmp_df = pd_frame.groupby(pd_frame.index).apply(\n",
    "                lambda group, x=col, y=val: np.sum(group[x] == y))\n",
    "            tmp_df.name = '%s=%s' % (col, val)\n",
    "            df_extracted_sessions.append(tmp_df)\n",
    "    frequency_counts = pd.concat(df_extracted_sessions, axis=1)\n",
    "    return frequency_counts\n",
    "\n",
    "def extract_distribution_stats(pd_frame, numerical_col):\n",
    "    tmp_df = pd_frame[numerical_col].groupby(pd_frame.index).aggregate(\n",
    "        [np.mean, np.std, np.median, stats.skew])\n",
    "    tmp_df.columns = ['%s_%s'% (numerical_col, i) for i in tmp_df.columns]\n",
    "    return tmp_df"
   ]
  },
  {
   "cell_type": "code",
   "execution_count": 17,
   "metadata": {
    "collapsed": false
   },
   "outputs": [
    {
     "name": "stdout",
     "output_type": "stream",
     "text": [
      "Extracting frequency counts for (action == show)\n",
      "Extracting frequency counts for (action == similar_listings)\n",
      "Extracting frequency counts for (action == index)\n",
      "Extracting frequency counts for (action == search_results)\n",
      "Extracting frequency counts for (action == confirm_email)\n",
      "Extracting frequency counts for (action == create)\n",
      "Extracting frequency counts for (action == header_userpic)\n",
      "Extracting frequency counts for (action == lookup)\n",
      "Extracting frequency counts for (action == collections)\n",
      "Extracting frequency counts for (action == requested)\n",
      "Extracting frequency counts for (action == qt2)\n",
      "Extracting frequency counts for (action == personalize)\n",
      "Extracting frequency counts for (action == update)\n",
      "Extracting frequency counts for (action == track_page_view)\n",
      "Extracting frequency counts for (action == notifications)\n",
      "Extracting frequency counts for (action == active)\n",
      "Extracting frequency counts for (action == similar_listings_v2)\n",
      "Extracting frequency counts for (action == identity)\n",
      "Extracting frequency counts for (action == social_connections)\n",
      "Extracting frequency counts for (action == unavailabilities)\n",
      "Extracting frequency counts for (action == campaigns)\n",
      "Extracting frequency counts for (action == search)\n",
      "Extracting frequency counts for (action == ajax_refresh_subtotal)\n",
      "Extracting frequency counts for (action == edit)\n",
      "Extracting frequency counts for (action == reviews)\n",
      "Extracting frequency counts for (action == dashboard)\n",
      "Extracting frequency counts for (action == other)\n",
      "Extracting frequency counts for (action == -1)\n",
      "Extracting frequency counts for (action_type == -unknown-)\n",
      "Extracting frequency counts for (action_type == submit)\n",
      "Extracting frequency counts for (action_type == other)\n",
      "Extracting frequency counts for (action_type == message_post)\n",
      "Extracting frequency counts for (action_type == data)\n",
      "Extracting frequency counts for (action_type == click)\n",
      "Extracting frequency counts for (action_type == -1)\n",
      "Extracting frequency counts for (action_type == view)\n",
      "Extracting frequency counts for (action_detail == user_wishlists)\n",
      "Extracting frequency counts for (action_detail == create_user)\n",
      "Extracting frequency counts for (action_detail == confirm_email_link)\n",
      "Extracting frequency counts for (action_detail == change_trip_characteristics)\n",
      "Extracting frequency counts for (action_detail == similar_listings)\n",
      "Extracting frequency counts for (action_detail == message_post)\n",
      "Extracting frequency counts for (action_detail == view_search_results)\n",
      "Extracting frequency counts for (action_detail == wishlist_content_update)\n",
      "Extracting frequency counts for (action_detail == -unknown-)\n",
      "Extracting frequency counts for (action_detail == header_userpic)\n",
      "Extracting frequency counts for (action_detail == listing_reviews)\n",
      "Extracting frequency counts for (action_detail == message_thread)\n",
      "Extracting frequency counts for (action_detail == user_social_connections)\n",
      "Extracting frequency counts for (action_detail == user_profile)\n",
      "Extracting frequency counts for (action_detail == edit_profile)\n",
      "Extracting frequency counts for (action_detail == update_listing)\n",
      "Extracting frequency counts for (action_detail == p3)\n",
      "Extracting frequency counts for (action_detail == contact_host)\n",
      "Extracting frequency counts for (action_detail == dashboard)\n",
      "Extracting frequency counts for (action_detail == unavailable_dates)\n",
      "Extracting frequency counts for (action_detail == other)\n",
      "Extracting frequency counts for (action_detail == -1)\n",
      "Extracting frequency counts for (device_type == Windows Desktop)\n",
      "Extracting frequency counts for (device_type == Tablet)\n",
      "Extracting frequency counts for (device_type == -unknown-)\n",
      "Extracting frequency counts for (device_type == Android App Unknown Phone/Tablet)\n",
      "Extracting frequency counts for (device_type == Mac Desktop)\n",
      "Extracting frequency counts for (device_type == other)\n",
      "Extracting frequency counts for (device_type == iPhone)\n",
      "Extracting frequency counts for (device_type == iPad Tablet)\n",
      "Extracting frequency counts for (device_type == Android Phone)\n"
     ]
    }
   ],
   "source": [
    "# Load basic training and testing data, from CSV file.\n",
    "sessions = pd.read_csv(SESSSIONS_CSV_FILE)\n",
    "sessions.set_index(INDEX_COLUMN, inplace=True)\n",
    "sessions.fillna(-1, inplace=True)\n",
    "# Extract features from sessions.\n",
    "remove_rare_values_inplace(sessions, CATEGORICAL_FEATURES, VALUE_THRESHOLD)\n",
    "frequency_counts = extract_frequency_counts(sessions, CATEGORICAL_FEATURES)\n",
    "simple_stats = extract_distribution_stats(sessions, SECS_ELAPSED_NUMERICAL)\n",
    "# Save new data.\n",
    "session_data = pd.concat((frequency_counts, simple_stats), axis=1)\n",
    "session_data.fillna(-1, inplace=True)\n",
    "session_data.to_csv(OUTPUT_TO_CSV_FILE)"
   ]
  },
  {
   "cell_type": "code",
   "execution_count": 18,
   "metadata": {
    "collapsed": false
   },
   "outputs": [
    {
     "data": {
      "text/html": [
       "<div>\n",
       "<table border=\"1\" class=\"dataframe\">\n",
       "  <thead>\n",
       "    <tr style=\"text-align: right;\">\n",
       "      <th></th>\n",
       "      <th>action=show</th>\n",
       "      <th>action=similar_listings</th>\n",
       "      <th>action=index</th>\n",
       "      <th>action=search_results</th>\n",
       "      <th>action=confirm_email</th>\n",
       "      <th>action=create</th>\n",
       "      <th>action=header_userpic</th>\n",
       "      <th>action=lookup</th>\n",
       "      <th>action=collections</th>\n",
       "      <th>action=requested</th>\n",
       "      <th>...</th>\n",
       "      <th>device_type=Android App Unknown Phone/Tablet</th>\n",
       "      <th>device_type=Mac Desktop</th>\n",
       "      <th>device_type=other</th>\n",
       "      <th>device_type=iPhone</th>\n",
       "      <th>device_type=iPad Tablet</th>\n",
       "      <th>device_type=Android Phone</th>\n",
       "      <th>secs_elapsed_mean</th>\n",
       "      <th>secs_elapsed_std</th>\n",
       "      <th>secs_elapsed_median</th>\n",
       "      <th>secs_elapsed_skew</th>\n",
       "    </tr>\n",
       "    <tr>\n",
       "      <th>user_id</th>\n",
       "      <th></th>\n",
       "      <th></th>\n",
       "      <th></th>\n",
       "      <th></th>\n",
       "      <th></th>\n",
       "      <th></th>\n",
       "      <th></th>\n",
       "      <th></th>\n",
       "      <th></th>\n",
       "      <th></th>\n",
       "      <th></th>\n",
       "      <th></th>\n",
       "      <th></th>\n",
       "      <th></th>\n",
       "      <th></th>\n",
       "      <th></th>\n",
       "      <th></th>\n",
       "      <th></th>\n",
       "      <th></th>\n",
       "      <th></th>\n",
       "      <th></th>\n",
       "    </tr>\n",
       "  </thead>\n",
       "  <tbody>\n",
       "    <tr>\n",
       "      <th>00023iyk9l</th>\n",
       "      <td>9</td>\n",
       "      <td>3</td>\n",
       "      <td>4</td>\n",
       "      <td>1</td>\n",
       "      <td>1</td>\n",
       "      <td>0</td>\n",
       "      <td>2</td>\n",
       "      <td>0</td>\n",
       "      <td>0</td>\n",
       "      <td>5</td>\n",
       "      <td>...</td>\n",
       "      <td>0</td>\n",
       "      <td>36</td>\n",
       "      <td>0</td>\n",
       "      <td>4</td>\n",
       "      <td>0</td>\n",
       "      <td>0</td>\n",
       "      <td>21697.375000</td>\n",
       "      <td>91120.253083</td>\n",
       "      <td>843.0</td>\n",
       "      <td>5.604319</td>\n",
       "    </tr>\n",
       "    <tr>\n",
       "      <th>0010k6l0om</th>\n",
       "      <td>20</td>\n",
       "      <td>0</td>\n",
       "      <td>5</td>\n",
       "      <td>8</td>\n",
       "      <td>0</td>\n",
       "      <td>0</td>\n",
       "      <td>1</td>\n",
       "      <td>0</td>\n",
       "      <td>0</td>\n",
       "      <td>0</td>\n",
       "      <td>...</td>\n",
       "      <td>0</td>\n",
       "      <td>63</td>\n",
       "      <td>0</td>\n",
       "      <td>0</td>\n",
       "      <td>0</td>\n",
       "      <td>0</td>\n",
       "      <td>9310.190476</td>\n",
       "      <td>22598.464587</td>\n",
       "      <td>847.0</td>\n",
       "      <td>3.550714</td>\n",
       "    </tr>\n",
       "    <tr>\n",
       "      <th>001wyh0pz8</th>\n",
       "      <td>6</td>\n",
       "      <td>0</td>\n",
       "      <td>2</td>\n",
       "      <td>0</td>\n",
       "      <td>0</td>\n",
       "      <td>1</td>\n",
       "      <td>0</td>\n",
       "      <td>0</td>\n",
       "      <td>4</td>\n",
       "      <td>0</td>\n",
       "      <td>...</td>\n",
       "      <td>90</td>\n",
       "      <td>0</td>\n",
       "      <td>0</td>\n",
       "      <td>0</td>\n",
       "      <td>0</td>\n",
       "      <td>0</td>\n",
       "      <td>3144.044444</td>\n",
       "      <td>6541.232094</td>\n",
       "      <td>1104.0</td>\n",
       "      <td>4.913634</td>\n",
       "    </tr>\n",
       "    <tr>\n",
       "      <th>0028jgx1x1</th>\n",
       "      <td>15</td>\n",
       "      <td>0</td>\n",
       "      <td>0</td>\n",
       "      <td>0</td>\n",
       "      <td>0</td>\n",
       "      <td>1</td>\n",
       "      <td>0</td>\n",
       "      <td>0</td>\n",
       "      <td>0</td>\n",
       "      <td>0</td>\n",
       "      <td>...</td>\n",
       "      <td>0</td>\n",
       "      <td>0</td>\n",
       "      <td>0</td>\n",
       "      <td>0</td>\n",
       "      <td>0</td>\n",
       "      <td>1</td>\n",
       "      <td>9580.935484</td>\n",
       "      <td>17791.437472</td>\n",
       "      <td>489.0</td>\n",
       "      <td>2.864292</td>\n",
       "    </tr>\n",
       "    <tr>\n",
       "      <th>002qnbzfs5</th>\n",
       "      <td>232</td>\n",
       "      <td>0</td>\n",
       "      <td>115</td>\n",
       "      <td>0</td>\n",
       "      <td>1</td>\n",
       "      <td>21</td>\n",
       "      <td>2</td>\n",
       "      <td>0</td>\n",
       "      <td>0</td>\n",
       "      <td>0</td>\n",
       "      <td>...</td>\n",
       "      <td>0</td>\n",
       "      <td>0</td>\n",
       "      <td>0</td>\n",
       "      <td>775</td>\n",
       "      <td>0</td>\n",
       "      <td>0</td>\n",
       "      <td>8221.899873</td>\n",
       "      <td>58074.501937</td>\n",
       "      <td>498.0</td>\n",
       "      <td>19.436206</td>\n",
       "    </tr>\n",
       "  </tbody>\n",
       "</table>\n",
       "<p>5 rows × 71 columns</p>\n",
       "</div>"
      ],
      "text/plain": [
       "            action=show  action=similar_listings  action=index  \\\n",
       "user_id                                                          \n",
       "00023iyk9l            9                        3             4   \n",
       "0010k6l0om           20                        0             5   \n",
       "001wyh0pz8            6                        0             2   \n",
       "0028jgx1x1           15                        0             0   \n",
       "002qnbzfs5          232                        0           115   \n",
       "\n",
       "            action=search_results  action=confirm_email  action=create  \\\n",
       "user_id                                                                  \n",
       "00023iyk9l                      1                     1              0   \n",
       "0010k6l0om                      8                     0              0   \n",
       "001wyh0pz8                      0                     0              1   \n",
       "0028jgx1x1                      0                     0              1   \n",
       "002qnbzfs5                      0                     1             21   \n",
       "\n",
       "            action=header_userpic  action=lookup  action=collections  \\\n",
       "user_id                                                                \n",
       "00023iyk9l                      2              0                   0   \n",
       "0010k6l0om                      1              0                   0   \n",
       "001wyh0pz8                      0              0                   4   \n",
       "0028jgx1x1                      0              0                   0   \n",
       "002qnbzfs5                      2              0                   0   \n",
       "\n",
       "            action=requested        ...          \\\n",
       "user_id                             ...           \n",
       "00023iyk9l                 5        ...           \n",
       "0010k6l0om                 0        ...           \n",
       "001wyh0pz8                 0        ...           \n",
       "0028jgx1x1                 0        ...           \n",
       "002qnbzfs5                 0        ...           \n",
       "\n",
       "            device_type=Android App Unknown Phone/Tablet  \\\n",
       "user_id                                                    \n",
       "00023iyk9l                                             0   \n",
       "0010k6l0om                                             0   \n",
       "001wyh0pz8                                            90   \n",
       "0028jgx1x1                                             0   \n",
       "002qnbzfs5                                             0   \n",
       "\n",
       "            device_type=Mac Desktop  device_type=other  device_type=iPhone  \\\n",
       "user_id                                                                      \n",
       "00023iyk9l                       36                  0                   4   \n",
       "0010k6l0om                       63                  0                   0   \n",
       "001wyh0pz8                        0                  0                   0   \n",
       "0028jgx1x1                        0                  0                   0   \n",
       "002qnbzfs5                        0                  0                 775   \n",
       "\n",
       "            device_type=iPad Tablet  device_type=Android Phone  \\\n",
       "user_id                                                          \n",
       "00023iyk9l                        0                          0   \n",
       "0010k6l0om                        0                          0   \n",
       "001wyh0pz8                        0                          0   \n",
       "0028jgx1x1                        0                          1   \n",
       "002qnbzfs5                        0                          0   \n",
       "\n",
       "            secs_elapsed_mean  secs_elapsed_std  secs_elapsed_median  \\\n",
       "user_id                                                                \n",
       "00023iyk9l       21697.375000      91120.253083                843.0   \n",
       "0010k6l0om        9310.190476      22598.464587                847.0   \n",
       "001wyh0pz8        3144.044444       6541.232094               1104.0   \n",
       "0028jgx1x1        9580.935484      17791.437472                489.0   \n",
       "002qnbzfs5        8221.899873      58074.501937                498.0   \n",
       "\n",
       "            secs_elapsed_skew  \n",
       "user_id                        \n",
       "00023iyk9l           5.604319  \n",
       "0010k6l0om           3.550714  \n",
       "001wyh0pz8           4.913634  \n",
       "0028jgx1x1           2.864292  \n",
       "002qnbzfs5          19.436206  \n",
       "\n",
       "[5 rows x 71 columns]"
      ]
     },
     "execution_count": 18,
     "metadata": {},
     "output_type": "execute_result"
    }
   ],
   "source": [
    "session_data.head()"
   ]
  },
  {
   "cell_type": "markdown",
   "metadata": {},
   "source": [
    "## Training and Testing Data preparation"
   ]
  },
  {
   "cell_type": "markdown",
   "metadata": {},
   "source": [
    "After feature extraction, We will make the training and testing data ready for the classifiers. In order to perform machine learning algorithm for prediction, we need to have numerical data. However, not everything in the data frame is a number, and not all of the numbers even make sense as numerical features.\n",
    "Consequently, here I'll perform some operation to transform the data into numeric format for further operation. The data processing includes:\n",
    "- Dealing with missing data.\n",
    "- Applying one-hot-encoding to categorical features.\n",
    "- Parsing dates (and extraction of simple numerical features).\n",
    "- Adding to the training and testing data the features that were extracted from sessions.csv file in the previous step."
   ]
  },
  {
   "cell_type": "code",
   "execution_count": 19,
   "metadata": {
    "collapsed": true
   },
   "outputs": [],
   "source": [
    "LABEL = 'country_destination'\n",
    "CATEGORICAL_FEATURES = ['affiliate_channel', 'affiliate_provider',\n",
    "                        'first_affiliate_tracked', 'first_browser',\n",
    "                        'first_device_type', 'gender', 'language', 'signup_app',\n",
    "                        'signup_method', 'signup_flow']\n",
    "\n",
    "DATE_FORMAT = '%Y-%m-%d'                # Expected format for date.\n",
    "ACCOUNT_DATE = 'date_account_created'   # Date column that will be exploited.\n",
    "ACCOUNT_DATE_YEAR = '%s_%s' % (ACCOUNT_DATE, 'year')\n",
    "ACCOUNT_DATE_MONTH = '%s_%s' % (ACCOUNT_DATE, 'month')\n",
    "UNUSED_DATE_COLUMNS = ['timestamp_first_active', 'date_first_booking']\n",
    "\n",
    "TRAIN_DATA_BASIC = 'train_users.csv'\n",
    "TEST_DATA_BASIC = 'test_users.csv'\n",
    "SESSION_DATA = 'session_features.csv'\n",
    "TRAINING_FINAL_CSV_FILE = 'training_features.csv'\n",
    "TESTING_FINAL_CSV_FILE = 'testing_features.csv'\n",
    "LABELS_FINAL_CSV_FILE = 'labels.csv'\n",
    "\n",
    "# A parameter to speed-up computation. Categorical values that appear\n",
    "# less than the threshold will be removed.\n",
    "VALUE_THRESHOLD_2 = 0.001"
   ]
  },
  {
   "cell_type": "code",
   "execution_count": 20,
   "metadata": {
    "collapsed": true
   },
   "outputs": [],
   "source": [
    "def _parse_date(date_str, format_str):\n",
    "    \"\"\" Extract features from the data_account_creted column.\n",
    "    Args:\n",
    "        date_str -- A string containing a date value.\n",
    "        str_format -- The format of the string date.\n",
    "\n",
    "    Returns:\n",
    "        A list of 4 values containing the extracted [year, month, day, weekend].\n",
    "    \"\"\"\n",
    "    time_dt = dt.datetime.strptime(date_str, format_str)\n",
    "    return [time_dt.year, time_dt.month, time_dt.day, time_dt.weekday()]\n",
    "\n",
    "\n",
    "def extract_dates_inplace(features, date_column):\n",
    "    \"\"\" Extract from the date-columns, year, month, and other numericals.\n",
    "    \"\"\"\n",
    "    extracted_vals = np.vstack(features[date_column].apply(\n",
    "        (lambda x: _parse_date(x, DATE_FORMAT))))\n",
    "    for i, period in enumerate(['year', 'month', 'day', 'weekday']):\n",
    "        features['%s_%s' % (date_column, period)] = extracted_vals[:, i]\n",
    "    features.drop(date_column, inplace=True, axis=1)\n",
    "\n",
    "\n",
    "def apply_one_hot_encoding(pd_frame, column_list):\n",
    "    \"\"\" Apply One-Hot-Encoding to pd_frame's categorical columns.\n",
    "    Args:\n",
    "        df_frame -- A pandas data frame.\n",
    "        column_list -- A list of categorical columns, in df_frame.\n",
    "    Returns:\n",
    "        A pandas dataframe where the colums in column_list have been replaced\n",
    "            by one-hot-encoded-columns.\n",
    "    \"\"\"\n",
    "    new_column_list = []\n",
    "    for col in column_list:\n",
    "        tmp = pd.get_dummies(pd_frame[col], prefix=col)\n",
    "        new_column_list.append(tmp)\n",
    "    new_pd_frame = pd.concat(new_column_list+[pd_frame], axis=1)\n",
    "    new_pd_frame.drop(column_list, inplace=True, axis=1)\n",
    "    return new_pd_frame\n",
    "\n",
    "\n",
    "def get_basic_train_test_data():\n",
    "    \"\"\" Load the basic data in a pandas dataframe, and pre-process them. \"\"\"\n",
    "    training = pd.read_csv(TRAIN_DATA_BASIC, index_col=0)\n",
    "    testing = pd.read_csv(TEST_DATA_BASIC, index_col=0)\n",
    "    labels = training[LABEL].copy()\n",
    "    training.drop(LABEL, inplace=True, axis=1)\n",
    "    features = pd.concat((training, testing), axis=0)\n",
    "    features.fillna(-1, inplace=True)\n",
    "\n",
    "    # Process all features by removing rare values, appling one-hot-encoding to\n",
    "    # those that are categorical and extracting numericals from ACCOUNT_DATE.\n",
    "\n",
    "    remove_rare_values_inplace(features, CATEGORICAL_FEATURES, VALUE_THRESHOLD_2)\n",
    "    features = apply_one_hot_encoding(features, CATEGORICAL_FEATURES)\n",
    "    extract_dates_inplace(features, ACCOUNT_DATE)\n",
    "    features.drop(UNUSED_DATE_COLUMNS, inplace=True, axis=1)\n",
    "    return features, labels, training.index, testing.index"
   ]
  },
  {
   "cell_type": "code",
   "execution_count": 21,
   "metadata": {
    "collapsed": true
   },
   "outputs": [],
   "source": [
    "features, labels, training_ids, testing_ids = get_basic_train_test_data()\n",
    "sessions = pd.read_csv(SESSION_DATA, index_col=0)\n",
    "features = pd.concat((features, sessions), axis=1)\n",
    "features.fillna(-1, inplace=True)\n",
    "# Save data training and testing data.\n",
    "training = features.ix[training_ids]\n",
    "testing = features.ix[testing_ids]\n",
    "\n",
    "# Warning: When saving the data, it's important that the header is True,\n",
    "# because labels is of type pandas.core.series.Series, while training is of\n",
    "# type pandas.core.frame.DataFrame, and they have different default values\n",
    "# for the header argument.\n",
    "\n",
    "assert set(training.index) == set(labels.index)\n",
    "training.to_csv(TRAINING_FINAL_CSV_FILE, header=True)\n",
    "testing.to_csv(TESTING_FINAL_CSV_FILE, header=True)\n",
    "labels.to_csv(LABELS_FINAL_CSV_FILE, header=True)"
   ]
  },
  {
   "cell_type": "markdown",
   "metadata": {},
   "source": [
    "## Up and running with Random Forest and Xgboost"
   ]
  },
  {
   "cell_type": "markdown",
   "metadata": {},
   "source": [
    "Random forests is an ensemble learning method for classification, regression and other tasks, that operate by constructing a multitude of decision trees at training time and outputting the class that is the mode of the classes (classification) or mean prediction (regression) of the individual trees. Random decision forests correct for decision trees' habit of overfitting to their training set.\n",
    "\n",
    "A random forest is a meta estimator that fits a number of decision tree classifiers on various sub-samples of the dataset and use averaging to improve the predictive accuracy and control over-fitting. The sub-sample size is always the same as the original input sample size but the samples are drawn with replacement if bootstrap=True (default).\n",
    "\n",
    "For more details please view this link. http://scikit-learn.org/stable/modules/generated/sklearn.ensemble.RandomForestClassifier.html\n",
    "\n",
    "Boosting is an ensemble technique where new models are added to correct the errors made by existing models. Models are added sequentially until no further improvements can be made. A popular example is the AdaBoost algorithm that weights data points that are hard to predict. \n",
    "\n",
    "Gradient boosting is an approach where new models are created that predict the residuals or errors of prior models and then added together to make the final prediction. It is called gradient boosting because it uses a gradient descent algorithm to minimize the loss when adding new models. \n",
    "\n",
    "XGBoost, stands for Extreme Gradient Boosting algorithm, is the fastest implementation of gradient boosting algorithm.\n",
    "For more details please see the link as follows. http://xgboost.readthedocs.io/en/latest/model.html"
   ]
  },
  {
   "cell_type": "markdown",
   "metadata": {},
   "source": [
    "In this section I will show the usage of Sklearn.ensemble.RandomForestClassifier and XGBClassifier. First of all, let's import some necessary denpendency for further computation."
   ]
  },
  {
   "cell_type": "code",
   "execution_count": 22,
   "metadata": {
    "collapsed": false
   },
   "outputs": [
    {
     "name": "stderr",
     "output_type": "stream",
     "text": [
      "/Library/Python/2.7/site-packages/sklearn/cross_validation.py:44: DeprecationWarning: This module was deprecated in version 0.18 in favor of the model_selection module into which all the refactored classes and functions are moved. Also note that the interface of the new CV iterators are different from that of this module. This module will be removed in 0.20.\n",
      "  \"This module will be removed in 0.20.\", DeprecationWarning)\n"
     ]
    }
   ],
   "source": [
    "from sklearn.ensemble import RandomForestClassifier\n",
    "from sklearn.preprocessing import LabelEncoder\n",
    "from xgboost.sklearn import XGBClassifier\n",
    "from data_preparation import TRAINING_FINAL_CSV_FILE  # File with train data.\n",
    "from data_preparation import LABELS_FINAL_CSV_FILE    # File with labels.\n",
    "from data_preparation import TESTING_FINAL_CSV_FILE   # File with test data.\n",
    "from data_preparation import ACCOUNT_DATE_YEAR        # Where to find year.\n",
    "from data_preparation import LABEL                    # How the label is called."
   ]
  },
  {
   "cell_type": "markdown",
   "metadata": {},
   "source": [
    "## User first booking prediction"
   ]
  },
  {
   "cell_type": "markdown",
   "metadata": {},
   "source": [
    "This part will use the output of the previous step, to do the predictions.\n",
    "This code used 4 classifiers:\n",
    "- XGB trained on all (training) data\n",
    "- RandomForests trained on all data\n",
    "- XGB classifier trained on recent (aka fresh) data only\n",
    "- RandomForests trained on all data only\n",
    "\n",
    "The results from each clasifier formed the final prediction via weighted voting (5,2,10,4)."
   ]
  },
  {
   "cell_type": "code",
   "execution_count": 23,
   "metadata": {
    "collapsed": true
   },
   "outputs": [],
   "source": [
    "DEPTH_XGB, ESTIMATORS_XGB, LEARNING_XGB, SUBSAMPLE_XGB, COLSAMPLE_XGB = (\n",
    "    7, 60, 0.2, 0.7, 0.6)                # XGBoost parameters.\n",
    "\n",
    "ESTIMATORS_RF, CRITERION_RF, DEPTH_RF, MIN_LEAF_RF, JOBS_RF = (\n",
    "    500, 'gini', 20, 8, 30)              # RandomForestClassifier parameters.\n",
    "FRESH_DATA_YEAR = 2014                   # Year when data is considered fresh.\n",
    "OUTPUT_CSV = 'final_prediction.csv'  # Where to store the predictions.\n",
    "\n",
    "# Tunning ensemble members. The votes show the importance of each classfier\n",
    "# in the final prediction.\n",
    "\n",
    "XGB_ALL_VOTE, RF_ALL_VOTE, XGB_FRESH_VOTE, RF_FRESH_VOTE = (5, 2, 10, 4)"
   ]
  },
  {
   "cell_type": "markdown",
   "metadata": {},
   "source": [
    "XGBoost provides a wrapper class to allow models to be treated like classifiers or regressors in the scikit-learn framework. We can use the full scikit-learn library with XGBoost models. The XGBoost model for classification is called XGBClassifier. We can create and and fit it to our training dataset. Models are fit using the scikit-learn API and the model.fit() function."
   ]
  },
  {
   "cell_type": "code",
   "execution_count": 25,
   "metadata": {
    "collapsed": false
   },
   "outputs": [],
   "source": [
    "def perform_prediction(training, labels, testing, xgb_votes, rf_votes):\n",
    "    \"\"\" Perform prediction using a combination of XGB and RandomForests. \"\"\"\n",
    "    predictions = np.zeros((len(testing), len(set(labels))))\n",
    "    # Predictions using xgboost.\n",
    "    for i in range(xgb_votes):\n",
    "        print ('XGB vote %d' % i)\n",
    "        xgb = XGBClassifier(\n",
    "            max_depth=DEPTH_XGB, learning_rate=LEARNING_XGB,\n",
    "            n_estimators=ESTIMATORS_XGB, objective='multi:softprob',\n",
    "            subsample=SUBSAMPLE_XGB, colsample_bytree=COLSAMPLE_XGB)\n",
    "        xgb.fit(training, labels)\n",
    "        predictions += xgb.predict_proba(testing)\n",
    "    # Predictions using RandomForestClassifier.\n",
    "    for i in range(rf_votes):\n",
    "        print ('RandomForest vote %d' % i)\n",
    "        rand_forest = RandomForestClassifier(\n",
    "            n_estimators=ESTIMATORS_RF, criterion=CRITERION_RF, n_jobs=JOBS_RF,\n",
    "            max_depth=DEPTH_RF, min_samples_leaf=MIN_LEAF_RF, bootstrap=True)\n",
    "        rand_forest.fit(training, labels)\n",
    "        predictions += rand_forest.predict_proba(testing)\n",
    "    return predictions"
   ]
  },
  {
   "cell_type": "code",
   "execution_count": 26,
   "metadata": {
    "collapsed": false
   },
   "outputs": [
    {
     "name": "stdout",
     "output_type": "stream",
     "text": [
      "XGB vote 0\n",
      "XGB vote 1\n",
      "XGB vote 2\n",
      "XGB vote 3\n",
      "XGB vote 4\n",
      "RandomForest vote 0\n",
      "RandomForest vote 1\n",
      "XGB vote 0\n",
      "XGB vote 1\n",
      "XGB vote 2\n",
      "XGB vote 3\n",
      "XGB vote 4\n",
      "XGB vote 5\n",
      "XGB vote 6\n",
      "XGB vote 7\n",
      "XGB vote 8\n",
      "XGB vote 9\n",
      "RandomForest vote 0\n",
      "RandomForest vote 1\n",
      "RandomForest vote 2\n",
      "RandomForest vote 3\n"
     ]
    }
   ],
   "source": [
    "\"\"\" Perform prediction. \"\"\"\n",
    "train_df = pd.read_csv(TRAINING_FINAL_CSV_FILE, index_col=0)\n",
    "labels_df = pd.read_csv(LABELS_FINAL_CSV_FILE, index_col=0)\n",
    "test_df = pd.read_csv(TESTING_FINAL_CSV_FILE, index_col=0)\n",
    "assert set(train_df.index) == set(labels_df.index)\n",
    "\n",
    "encoder = LabelEncoder()\n",
    "encoder.fit(labels_df[LABEL])\n",
    "predictions = np.zeros((len(test_df), len(encoder.classes_)))\n",
    "\n",
    "# Use the full data set for the prediction.\n",
    "labels = encoder.transform(labels_df[LABEL])\n",
    "predictions += perform_prediction(\n",
    "    train_df, labels, test_df, XGB_ALL_VOTE, RF_ALL_VOTE)\n",
    "\n",
    "# Use only \"fresh\" data for prediction. Fresh data, are considered those\n",
    "# that are an ACCOUNT_DATE_YEAR equal or higher than FRESH_DATA_YEAR.\n",
    "\n",
    "train_fresh = train_df[train_df[ACCOUNT_DATE_YEAR] >= FRESH_DATA_YEAR]\n",
    "labels_fresh = encoder.transform(labels_df.ix[train_fresh.index][LABEL])\n",
    "predictions += perform_prediction(\n",
    "    train_fresh, labels_fresh, test_df, XGB_FRESH_VOTE, RF_FRESH_VOTE)\n",
    "\n",
    "# Use the 5 classes with highest scores.\n",
    "ids, countries = ([], [])\n",
    "for i in range(len(test_df)):\n",
    "    idx = test_df.index[i]\n",
    "    ids += [idx]\n",
    "    countries += encoder.inverse_transform(\n",
    "        np.argsort(predictions[i])[::-1])[:1].tolist()\n",
    "\n",
    "# Save prediction in CSV file.\n",
    "sub = pd.DataFrame(\n",
    "    np.column_stack((ids, countries)), columns=['id', 'country'])\n",
    "sub.to_csv(OUTPUT_CSV, index=False)"
   ]
  },
  {
   "cell_type": "markdown",
   "metadata": {},
   "source": [
    "So far, we have completed the training and testing process of Xgboost and random forest model. Both of models contribute to the final classfication result based on their weight. Now it's time to verify the accuracy of classification result!  "
   ]
  },
  {
   "cell_type": "markdown",
   "metadata": {},
   "source": [
    "## Prediction Accuracy"
   ]
  },
  {
   "cell_type": "markdown",
   "metadata": {},
   "source": [
    "Remember that we prepared \"answer.csv\" in the begining of this tutorial? Below the code to perform the comparation between our result and actual booking destination."
   ]
  },
  {
   "cell_type": "code",
   "execution_count": 47,
   "metadata": {
    "collapsed": false
   },
   "outputs": [],
   "source": [
    "def calculate_final_accuracy(output_result, actual_result):\n",
    "    \"\"\"\n",
    "    Args:\n",
    "        output_result -- a numpy array.\n",
    "        actual_result -- a numpy array.\n",
    "    \"\"\"\n",
    "    return 1 - (float(np.sum(output_result != actual_result)))/len(output_result)"
   ]
  },
  {
   "cell_type": "code",
   "execution_count": 52,
   "metadata": {
    "collapsed": false
   },
   "outputs": [
    {
     "name": "stdout",
     "output_type": "stream",
     "text": [
      "           id country\n",
      "0  f45xh1i0gr     NDF\n",
      "1  uaj3wgin9n     NDF\n",
      "2  f46r9nz3yp     NDF\n",
      "3  wr7l2tzjj6      US\n",
      "4  v4gyafqwkb     NDF\n",
      "----------------------------\n",
      "           id country\n",
      "0  f45xh1i0gr      US\n",
      "1  uaj3wgin9n     NDF\n",
      "2  f46r9nz3yp     NDF\n",
      "3  wr7l2tzjj6     NDF\n",
      "4  v4gyafqwkb     NDF\n",
      "----------------------------\n",
      "The final accuracy is 0.69776\n"
     ]
    }
   ],
   "source": [
    "output = pd.read_csv(OUTPUT_CSV)\n",
    "answer = pd.read_csv(\"answer.csv\")\n",
    "\n",
    "print (output.head())\n",
    "print (\"----------------------------\")\n",
    "print (answer.head())\n",
    "print (\"----------------------------\")\n",
    "\n",
    "a1 = answer[\"country\"].values\n",
    "a2 = output[\"country\"].values\n",
    "print (\"The final accuracy is\", calculate_final_accuracy(a1, a2))"
   ]
  },
  {
   "cell_type": "markdown",
   "metadata": {},
   "source": [
    "Woo-hooo! As we can see from above, the final classification accuracy is 69.78%. Not bad."
   ]
  },
  {
   "cell_type": "markdown",
   "metadata": {},
   "source": [
    "# Summary"
   ]
  },
  {
   "cell_type": "markdown",
   "metadata": {
    "collapsed": true
   },
   "source": [
    "This tutorial discusses a few interesting ideas performed on Aribnb's user booking dataset. Some key Content of this tutorial are summarized as follows.\n",
    "\n",
    "- Splitted original Airbnb Training dataset into \"train_users.csv\", \"test_users.csv\" and \"answer.csv\".  \n",
    "- Performed some basic visualization to show the relationship between independent variable and output variable. \n",
    "- Extracted frequency counts as features from sessions data, concated with statistics from numerical columns.\n",
    "- Translated data into numeric for classifiers by dealing with missing value and applying one-hot encoding.\n",
    "- Introduced sample usage of XGBClassifier and RandomForestClassifier by performing user booking classification.\n",
    "- Achieved 69.78% classification accuracy.\n",
    "\n",
    "Some comments about this challenge, which can be further explore, is as follows.\n",
    "\n",
    "- First, the dataset of airbnb has some noise inside, so it's not easy to work with. \n",
    "- Second, the profermance of the preprocessing code is not good. It seems take me half an day for running.\n",
    "- Finally, the dataset is an unbalanced dataset which has more accomodation in NDF or US, so for the locations of non-US countries, it's hard to predict.\n"
   ]
  },
  {
   "cell_type": "markdown",
   "metadata": {},
   "source": [
    "# Reference"
   ]
  },
  {
   "cell_type": "markdown",
   "metadata": {
    "collapsed": true
   },
   "source": [
    "- Airbnb's Data Challenge https://www.kaggle.com/c/airbnb-recruiting-new-user-bookings\n",
    "- Seaborn documentation http://seaborn.pydata.org/\n",
    "- XGBoost documentation https://xgboost.readthedocs.io/en/latest/\n",
    "- Random Forest Wikipage https://en.wikipedia.org/wiki/Random_forest\n",
    "- Top Solutions for Airbnb's data challenge\n",
    "    https://github.com/Keiku/kaggle-airbnb-recruiting-new-user-bookings\n",
    "    https://github.com/svegapons/kaggle_airbnb\n",
    "    https://github.com/TimeMachine/Airbnb-New-User-Bookings\n",
    "- Some useful links\n",
    "    https://machinelearningmastery.com/xgboost-with-python/\n",
    "    http://machinelearningmastery.com/gentle-introduction-xgboost-applied-machine-learning/\n",
    "    http://xgboost.readthedocs.io/en/latest/model.html\n",
    "    https://www.stat.berkeley.edu/~breiman/RandomForests/cc_home.htm"
   ]
  },
  {
   "cell_type": "code",
   "execution_count": null,
   "metadata": {
    "collapsed": true
   },
   "outputs": [],
   "source": []
  }
 ],
 "metadata": {
  "kernelspec": {
   "display_name": "Python 2",
   "language": "python",
   "name": "python2"
  },
  "language_info": {
   "codemirror_mode": {
    "name": "ipython",
    "version": 2
   },
   "file_extension": ".py",
   "mimetype": "text/x-python",
   "name": "python",
   "nbconvert_exporter": "python",
   "pygments_lexer": "ipython2",
   "version": "2.7.6"
  }
 },
 "nbformat": 4,
 "nbformat_minor": 0
}
