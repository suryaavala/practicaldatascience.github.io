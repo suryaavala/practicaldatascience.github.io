{
 "cells": [
  {
   "cell_type": "markdown",
   "metadata": {},
   "source": [
    "INRODUCTION\n",
    "\n",
    "This tutorial will describe a broad overview of the Plotly visualization tool for Python. It is a wrapper based around the matplotlib library.  The advantages of using the plotly library is that it has a faster learning curve and lower complexity compared to the matplotlib library. It is suitable for data science 'newbies' and non data science individuals to acclerate the process of making sense of their data through visualization as it produces professional looking charts in a relatively short timespan. Plotly is one of many other python libraries built for visualization around matplotlib such as Seaborn, ggplot, bokeh, geoplotlib, gleam etc.\n",
    "\n",
    "Plotly offers a number of interactive raphing/mapping options:\n",
    "-Basic charts: Line charts, bubble charts, scatter plots, bar charts, gantt charts,pie charts, filled area plots, time series  etc\n",
    "-Statistical Charts: Error bars, histograms, 2D histograms, density plots, tree plots, tree maps etc\n",
    "-Scientific charts: Log plots, contour plots, heatmaps, polar charts, ternary plots, streamline plots, chord diagram etc\n",
    "-Financial charts\n",
    "-Maps: Scatter plot on maps, bubble maps, lines on maps, choropleth maps etc\n",
    "-3D charts: scatter plots, bubble plots, line plots, ribbon plots, surface plots, mesh plots, parametric plots, 3D network graphs, 3D clustering, surface triangulation etc\n",
    "\n",
    "NOTE: Plotly is an online web-hosting service for graphs. Graphs are stored online under a private account. However plotly can also be used offline in IPython notebooks. Plotly API is also available for other programming environments such as R, Matlab and JavaScript.\n",
    "\n",
    "This tutorial will demonstrate the use of Plotly in constructing 2 or 3 different types of plots utilizing real world data sets."
   ]
  },
  {
   "cell_type": "markdown",
   "metadata": {},
   "source": [
    "INSTALLATION\n",
    "\n",
    "Use the package manager pip inside the terminal.\n",
    "\n",
    "$pip install plotly\n",
    "\n",
    "The plotly username and api can be generated using the following link:\n",
    "https://plot.ly/api\n",
    "\n",
    "The generated credentials need to be assigned to the username and api_key arguments as shown below."
   ]
  },
  {
   "cell_type": "code",
   "execution_count": 159,
   "metadata": {
    "collapsed": false
   },
   "outputs": [],
   "source": [
    "import plotly\n",
    "plotly.tools.set_credentials_file(username='rohit269mail', api_key='ooqdid05dr')\n"
   ]
  },
  {
   "cell_type": "markdown",
   "metadata": {},
   "source": [
    "GETTING STARTED\n",
    "\n",
    "Every plotly graph comprises of JSON objects, which are dictionary like datastructures. Simply by changing the value of the keywords of the objects, we can generate different kinds of graphs.\n",
    "\n",
    "The different objects that define a graph in plotly are:\n",
    "-Data\n",
    "-Layout \n",
    "-Figure\n",
    "\n",
    "Data consists of the trace to be plotted with the specifications and data to be plotted.\n",
    "Layout defines the look of the graph and controls features unrelated to the Data.\n",
    "Figure creates the final object which contains both the Data and Layout objects.\n",
    "\n",
    "Two modules need to be necessarily imported to generate Plotly graphs:\n",
    "1. plotly.plotly: contains functions that will help communicate with the Plotly server\n",
    "2. plotly.graph_objs: contains functions that will generate the graph object\n"
   ]
  },
  {
   "cell_type": "code",
   "execution_count": 160,
   "metadata": {
    "collapsed": true
   },
   "outputs": [],
   "source": [
    "import plotly.plotly as py\n",
    "from plotly.graph_objs import *\n",
    "#import plotly.graph_objs as go\n",
    "import pandas as pd\n",
    "import numpy as np\n",
    "import math"
   ]
  },
  {
   "cell_type": "markdown",
   "metadata": {},
   "source": [
    "The help function can be used to see the description of any plotly object"
   ]
  },
  {
   "cell_type": "code",
   "execution_count": 161,
   "metadata": {
    "collapsed": false
   },
   "outputs": [
    {
     "name": "stdout",
     "output_type": "stream",
     "text": [
      "Help on function iplot in module plotly.plotly.plotly:\n",
      "\n",
      "iplot(figure_or_data, **plot_options)\n",
      "    Create a unique url for this plot in Plotly and open in IPython.\n",
      "    \n",
      "    plot_options keyword agruments:\n",
      "    filename (string) -- the name that will be associated with this figure\n",
      "    fileopt ('new' | 'overwrite' | 'extend' | 'append')\n",
      "        - 'new': create a new, unique url for this plot\n",
      "        - 'overwrite': overwrite the file associated with `filename` with this\n",
      "        - 'extend': add additional numbers (data) to existing traces\n",
      "        - 'append': add additional traces to existing data lists\n",
      "    sharing ('public' | 'private' | 'secret') -- Toggle who can view this graph\n",
      "        - 'public': Anyone can view this graph. It will appear in your profile\n",
      "                    and can appear in search engines. You do not need to be\n",
      "                    logged in to Plotly to view this chart.\n",
      "        - 'private': Only you can view this plot. It will not appear in the\n",
      "                     Plotly feed, your profile, or search engines. You must be\n",
      "                     logged in to Plotly to view this graph. You can privately\n",
      "                     share this graph with other Plotly users in your online\n",
      "                     Plotly account and they will need to be logged in to\n",
      "                     view this plot.\n",
      "        - 'secret': Anyone with this secret link can view this chart. It will\n",
      "                    not appear in the Plotly feed, your profile, or search\n",
      "                    engines. If it is embedded inside a webpage or an IPython\n",
      "                    notebook, anybody who is viewing that page will be able to\n",
      "                    view the graph. You do not need to be logged in to view\n",
      "                    this plot.\n",
      "    world_readable (default=True) -- Deprecated: use \"sharing\".\n",
      "                                     Make this figure private/public\n",
      "\n"
     ]
    }
   ],
   "source": [
    "help(py.iplot)"
   ]
  },
  {
   "cell_type": "markdown",
   "metadata": {},
   "source": [
    "EXAMPLE 1:\n",
    "\n",
    "The following code is an example of constructing a 'Lines on Maps' plot. \n",
    "In this example, we take data from http://openflights.org/data.html to construct a map to visualize the commercial air connectivity of the city of Pittsburgh.\n",
    "The data was curated from its original form for the purpose of this application. The structure of the two data files are shown below. "
   ]
  },
  {
   "cell_type": "code",
   "execution_count": 162,
   "metadata": {
    "collapsed": false
   },
   "outputs": [
    {
     "name": "stdout",
     "output_type": "stream",
     "text": [
      "  iata                            airport               city state country  \\\n",
      "0  ORD       Chicago O'Hare International            Chicago    IL     USA   \n",
      "1  ATL  William B Hartsfield-Atlanta Intl            Atlanta    GA     USA   \n",
      "2  DFW    Dallas-Fort Worth International  Dallas-Fort Worth    TX     USA   \n",
      "3  PHX   Phoenix Sky Harbor International            Phoenix    AZ     USA   \n",
      "4  DEN                        Denver Intl             Denver    CO     USA   \n",
      "\n",
      "         lat        long    cnt  Unnamed: 8  \n",
      "0  41.979595  -87.904464  25129         NaN  \n",
      "1  33.640444  -84.426944  21925         NaN  \n",
      "2  32.895951  -97.037200  20662         NaN  \n",
      "3  33.434167 -112.008056  17290         NaN  \n",
      "4  39.858408 -104.667002  13781         NaN  \n",
      "  airline  airline_code  start_lat  start_lon airport1     id1    end_lat  \\\n",
      "0      AA          24.0  40.491467 -80.232872      PIT  3570.0  41.938889   \n",
      "1      AA          24.0  40.491467 -80.232872      PIT  3570.0  42.364347   \n",
      "2      AA          24.0  40.491467 -80.232872      PIT  3570.0  35.214000   \n",
      "3      AA          24.0  40.491467 -80.232872      PIT  3570.0  38.852083   \n",
      "4      AA          24.0  40.491467 -80.232872      PIT  3570.0  32.896828   \n",
      "\n",
      "     end_lon airport2     id2 codeshare  Unnamed: 11  Unnamed: 12  \n",
      "0 -72.683222      BDL  3825.0         Y          NaN          NaN  \n",
      "1 -71.005200      BOS  3448.0         Y          NaN          NaN  \n",
      "2 -80.943100      CLT  3876.0       NaN          NaN          NaN  \n",
      "3 -77.037722      DCA  3520.0         Y          NaN          NaN  \n",
      "4 -97.037997      DFW  3670.0       NaN          NaN          NaN  \n"
     ]
    }
   ],
   "source": [
    "df_airports = pd.read_csv('airports.csv')\n",
    "print df_airports.head()     #read USA airport data file\n",
    "\n",
    "df_flight_paths = pd.read_csv('PITroute.csv')   #read Pittsburgh connections data file\n",
    "print df_flight_paths.head()  "
   ]
  },
  {
   "cell_type": "code",
   "execution_count": 163,
   "metadata": {
    "collapsed": false
   },
   "outputs": [
    {
     "data": {
      "text/html": [
       "<iframe id=\"igraph\" scrolling=\"no\" style=\"border:none;\" seamless=\"seamless\" src=\"https://plot.ly/~rohit269mail/2.embed\" height=\"525px\" width=\"100%\"></iframe>"
      ],
      "text/plain": [
       "<plotly.tools.PlotlyDisplay object>"
      ]
     },
     "execution_count": 163,
     "metadata": {},
     "output_type": "execute_result"
    }
   ],
   "source": [
    "#code to generate 'Lines on Maps' plot to visualize the air connectivity of Pittsburgh\n",
    "airports = [ dict(                                #data object containg airports information\n",
    "        type = 'scattergeo',                      #type of graph object\n",
    "        locationmode = 'USA-states',\n",
    "        lon = df_airports['long'],\n",
    "        lat = df_airports['lat'],\n",
    "        hoverinfo = 'text',\n",
    "        text = df_airports['airport'],\n",
    "        mode = 'markers',\n",
    "        marker = dict( \n",
    "            size=2, \n",
    "            color='rgb(255, 0, 0)',\n",
    "            line = dict(\n",
    "                width=3,\n",
    "                color='rgba(68, 68, 68, 0)'\n",
    "            )\n",
    "        ))]\n",
    "        \n",
    "flight_paths = []                                    #data object containing flight path information\n",
    "for i in range( len( df_flight_paths ) ):\n",
    "    flight_paths.append(\n",
    "        dict(\n",
    "            type = 'scattergeo',\n",
    "            locationmode = 'USA-states',\n",
    "            lon = [ df_flight_paths['start_lon'][i], df_flight_paths['end_lon'][i] ],\n",
    "            lat = [ df_flight_paths['start_lat'][i], df_flight_paths['end_lat'][i] ],\n",
    "            mode = 'lines',\n",
    "            line = dict(\n",
    "                width = 1,\n",
    "                color = 'red',\n",
    "            )\n",
    "        )\n",
    "    )\n",
    "    \n",
    "layout = dict(                               #layout object \n",
    "        title = 'Piitsburgh flight connection, Jan 2012<br>(Hover for airport names)',\n",
    "        showlegend = False, \n",
    "        geo = dict(\n",
    "            scope='north america',\n",
    "            projection=dict( type='azimuthal equal area' ),\n",
    "            showland = True,\n",
    "            landcolor = 'rgb(243, 243, 243)',\n",
    "            countrycolor = 'rgb(204, 204, 204)',\n",
    "        ),\n",
    "    )\n",
    "    \n",
    "fig = dict( data=flight_paths + airports, layout=layout )\n",
    "py.iplot( fig, filename='Pitt-flight-paths' )"
   ]
  },
  {
   "cell_type": "markdown",
   "metadata": {
    "collapsed": true
   },
   "source": []
  },
  {
   "cell_type": "markdown",
   "metadata": {},
   "source": [
    "EXAMPLE 2:\n",
    "\n",
    "A resourcefull reservoir of real world datasets is the World Bank website. A rich repository of various world devopment indicators can be found on http://wdi.worldbank.org/tables. For the next example, we will plot a simple horizontal bar graph. The data chosen was the number of scientific and technical journals published by a country for the year 2013. Journals include articles published in the following fields: physics, biology, chemistry, mathematics, clinical medicine, biomedical research, engineering and technology, and earth and space sciences.\n",
    "The raw data set extracted from the website is shown below."
   ]
  },
  {
   "cell_type": "code",
   "execution_count": 166,
   "metadata": {
    "collapsed": false
   },
   "outputs": [
    {
     "name": "stdout",
     "output_type": "stream",
     "text": [
      "               country papers\n",
      "0          Afghanistan     27\n",
      "1              Albania    184\n",
      "2              Algeria  3,653\n",
      "3       American Samoa     ..\n",
      "4              Andorra      6\n",
      "5               Angola     23\n",
      "6  Antigua and Barbuda      2\n",
      "7            Argentina  8,053\n",
      "8              Armenia    559\n",
      "9                Aruba     ..\n"
     ]
    }
   ],
   "source": [
    "df=pd.read_csv('rnd.csv')\n",
    "print df.head(10)"
   ]
  },
  {
   "cell_type": "markdown",
   "metadata": {},
   "source": [
    "First, we will remove countries with missing values. Then we will sort the series in descending order and plot a horizontal bar graph of the 20 countries with the most number of scientific publications. "
   ]
  },
  {
   "cell_type": "code",
   "execution_count": 183,
   "metadata": {
    "collapsed": false,
    "scrolled": false
   },
   "outputs": [
    {
     "data": {
      "text/html": [
       "<iframe id=\"igraph\" scrolling=\"no\" style=\"border:none;\" seamless=\"seamless\" src=\"https://plot.ly/~rohit269mail/6.embed\" height=\"525px\" width=\"100%\"></iframe>"
      ],
      "text/plain": [
       "<plotly.tools.PlotlyDisplay object>"
      ]
     },
     "execution_count": 183,
     "metadata": {},
     "output_type": "execute_result"
    }
   ],
   "source": [
    "df=pd.read_csv('rnd.csv')\n",
    "df = df.applymap(lambda x: np.nan if x == '..' else x)\n",
    "df = df.dropna().reset_index(drop=True)   #remove missing rows with missing data\n",
    "df['papers'] = df['papers'].str.replace(',','').astype(int)   #convert attribute type string to integer\n",
    "df = df.sort_values('papers',ascending=False)\n",
    "df=df.head(20)\n",
    "data = [Bar(\n",
    "            x=df['papers'],\n",
    "            y=df['country'],\n",
    "            orientation = 'h'\n",
    ")]\n",
    "\n",
    "layout = Layout(\n",
    "    title='top 20 countries with scientific publications',\n",
    "    xaxis=dict(title='number of scientific publications'),\n",
    "    yaxis=dict(title='country'))\n",
    "\n",
    "fig=dict( data=data, layout=layout )\n",
    "py.iplot(fig, filename='horizontal-bar')"
   ]
  },
  {
   "cell_type": "markdown",
   "metadata": {},
   "source": [
    "EXAMPLE 3:\n",
    "\n",
    "For the next example, we will plot a Scatter Bubble Chart. Scatter Bubble charts are extremely useful to visualize and compare three variables. They are defined in terms of three distinct numeric parameters. They allow comparison of entities in terms of their relative x-y postions and the area of the bubbles. The scatter chart data points are replaced by bubbles  an additional dimension of the data is represented in the size of the bubbles. \n",
    "\n",
    "Sizing the bubbles correctly is critical for this visualization. According to wikipedia, \"The human visual system naturally experiences a disk's size in terms of its area. And the area of a disk—unlike its diameter or circumference—is not proportional to its radius, but to the square of the radius. \" So if one chooses to scale the disks' radii to the third data values directly, then the apparent size differences among the disks will be non-linear and misleading. To get a properly weighted scale, one must scale each disk's radius to the square root of the corresponding data value. This scaling issue can lead to extreme misinterpretations, especially where the range of the data has a large spread. \n"
   ]
  },
  {
   "cell_type": "markdown",
   "metadata": {},
   "source": [
    "For the bubble chart, we have taken the example from the Plotly website, and will explain how its constructed. The data used consists of demographic details such as population, life expectancy and GDP per capita for countries over collected over 55 years at an interval of 5 years."
   ]
  },
  {
   "cell_type": "code",
   "execution_count": 182,
   "metadata": {
    "collapsed": false,
    "scrolled": true
   },
   "outputs": [
    {
     "name": "stdout",
     "output_type": "stream",
     "text": [
      "        country  year         pop continent  lifeExp    gdpPercap\n",
      "0   Afghanistan  1952   8425333.0      Asia   28.801   779.445314\n",
      "1   Afghanistan  1957   9240934.0      Asia   30.332   820.853030\n",
      "2   Afghanistan  1962  10267083.0      Asia   31.997   853.100710\n",
      "3   Afghanistan  1967  11537966.0      Asia   34.020   836.197138\n",
      "4   Afghanistan  1972  13079460.0      Asia   36.088   739.981106\n",
      "5   Afghanistan  1977  14880372.0      Asia   38.438   786.113360\n",
      "6   Afghanistan  1982  12881816.0      Asia   39.854   978.011439\n",
      "7   Afghanistan  1987  13867957.0      Asia   40.822   852.395945\n",
      "8   Afghanistan  1992  16317921.0      Asia   41.674   649.341395\n",
      "9   Afghanistan  1997  22227415.0      Asia   41.763   635.341351\n",
      "10  Afghanistan  2002  25268405.0      Asia   42.129   726.734055\n",
      "11  Afghanistan  2007  31889923.0      Asia   43.828   974.580338\n",
      "12      Albania  1952   1282697.0    Europe   55.230  1601.056136\n"
     ]
    }
   ],
   "source": [
    "data = pd.read_csv(\"https://raw.githubusercontent.com/plotly/datasets/master/gapminderDataFiveYear.csv\")\n",
    "print data.head(13)"
   ]
  },
  {
   "cell_type": "markdown",
   "metadata": {},
   "source": [
    "We will be plotting a scatter plot of GDP per capita v/s life expectancy for the year 2007, with the bubbles denoting size of the population. This graph also visualizes a 4th dimension of categorical distribution by filling different colours depending on the continent of the country. \n",
    "\n",
    "The data for 2007 is first extracted and sorted by each country and continent alphabetically. A scaling factor is chosen to scale down the large value of the population attribute, to represent the bubble area conveniently.\n",
    "\n",
    "Since the data is sorted by continent, five traces are created for each continent which contain data specific to the continent. The five traces are clubbed into a list which represents the final data to be plotted. \n",
    "\n",
    "The layout needs to specify the correct ranges for the x and y axis so that the data is scaled properly for visualization. Since GDP per capita varies by a large value for different countries, a log scale is used."
   ]
  },
  {
   "cell_type": "code",
   "execution_count": 165,
   "metadata": {
    "collapsed": false
   },
   "outputs": [
    {
     "data": {
      "text/html": [
       "<iframe id=\"igraph\" scrolling=\"no\" style=\"border:none;\" seamless=\"seamless\" src=\"https://plot.ly/~rohit269mail/4.embed\" height=\"525px\" width=\"100%\"></iframe>"
      ],
      "text/plain": [
       "<plotly.tools.PlotlyDisplay object>"
      ]
     },
     "execution_count": 165,
     "metadata": {},
     "output_type": "execute_result"
    }
   ],
   "source": [
    "\n",
    "data = pd.read_csv(\"https://raw.githubusercontent.com/plotly/datasets/master/gapminderDataFiveYear.csv\")  #import file from online link\n",
    "df_2007 = data[data['year']==2007]     #extract data for year 2007\n",
    "df_2007 = df_2007.sort_values(['continent', 'country'])\n",
    "slope = 2.666051223553066e-05   #scaling factor for bubble size\n",
    "hover_text = []\n",
    "bubble_size = []\n",
    "\n",
    "for index, row in df_2007.iterrows():\n",
    "    hover_text.append(('Country: {country}<br>'+\n",
    "                      'Life Expectancy: {lifeExp}<br>'+\n",
    "                      'GDP per capita: {gdp}<br>'+\n",
    "                      'Population: {pop}<br>'+\n",
    "                      'Year: {year}').format(country=row['country'],\n",
    "                                            lifeExp=row['lifeExp'],\n",
    "                                            gdp=row['gdpPercap'],\n",
    "                                            pop=row['pop'],\n",
    "                                            year=row['year']))\n",
    "    bubble_size.append(math.sqrt(row['pop']*slope))    #bubble size list\n",
    "\n",
    "df_2007['text'] = hover_text\n",
    "df_2007['size'] = bubble_size\n",
    "\n",
    "trace0 = Scatter( \n",
    "    x=df_2007['gdpPercap'][df_2007['continent'] == 'Africa'],\n",
    "    y=df_2007['lifeExp'][df_2007['continent'] == 'Africa'],\n",
    "    mode='markers',\n",
    "    name='Africa',\n",
    "    text=df_2007['text'][df_2007['continent'] == 'Africa'],\n",
    "    marker=dict(\n",
    "        symbol='circle',\n",
    "        sizemode='diameter',\n",
    "        sizeref=0.85,\n",
    "        size=df_2007['size'][df_2007['continent'] == 'Africa'],\n",
    "        line=dict(\n",
    "            width=2\n",
    "        ),\n",
    "    )\n",
    ")\n",
    "trace1 = Scatter(\n",
    "    x=df_2007['gdpPercap'][df_2007['continent'] == 'Americas'],\n",
    "    y=df_2007['lifeExp'][df_2007['continent'] == 'Americas'],\n",
    "    mode='markers',\n",
    "    name='Americas',\n",
    "    text=df_2007['text'][df_2007['continent'] == 'Americas'],\n",
    "    marker=dict(\n",
    "        sizemode='diameter',\n",
    "        sizeref=0.85,\n",
    "        size=df_2007['size'][df_2007['continent'] == 'Americas'],\n",
    "        line=dict(\n",
    "            width=2\n",
    "        ),\n",
    "    )\n",
    ")\n",
    "trace2 = Scatter(\n",
    "    x=df_2007['gdpPercap'][df_2007['continent'] == 'Asia'],\n",
    "    y=df_2007['lifeExp'][df_2007['continent'] == 'Asia'],\n",
    "    mode='markers',\n",
    "    name='Asia',\n",
    "    text=df_2007['text'][df_2007['continent'] == 'Asia'],\n",
    "    marker=dict(\n",
    "        sizemode='diameter',\n",
    "        sizeref=0.85,\n",
    "        size=df_2007['size'][df_2007['continent'] == 'Asia'],\n",
    "        line=dict(\n",
    "            width=2\n",
    "        ),\n",
    "    )\n",
    ")\n",
    "trace3 = Scatter(\n",
    "    x=df_2007['gdpPercap'][df_2007['continent'] == 'Europe'],\n",
    "    y=df_2007['lifeExp'][df_2007['continent'] == 'Europe'],\n",
    "    mode='markers',\n",
    "    name='Europe',\n",
    "    text=df_2007['text'][df_2007['continent'] == 'Europe'],\n",
    "    marker=dict(\n",
    "        sizemode='diameter',\n",
    "        sizeref=0.85,\n",
    "        size=df_2007['size'][df_2007['continent'] == 'Europe'],\n",
    "        line=dict(\n",
    "            width=2\n",
    "        ),\n",
    "    )\n",
    ")\n",
    "trace4 = Scatter(\n",
    "    x=df_2007['gdpPercap'][df_2007['continent'] == 'Oceania'],\n",
    "    y=df_2007['lifeExp'][df_2007['continent'] == 'Oceania'],\n",
    "    mode='markers',\n",
    "    name='Oceania',\n",
    "    text=df_2007['text'][df_2007['continent'] == 'Oceania'],\n",
    "    marker=dict(\n",
    "        sizemode='diameter',\n",
    "        sizeref=0.85,\n",
    "        size=df_2007['size'][df_2007['continent'] == 'Oceania'],\n",
    "        line=dict(\n",
    "            width=2\n",
    "        ),\n",
    "    )\n",
    ")\n",
    "\n",
    "data = [trace0, trace1, trace2, trace3, trace4]\n",
    "layout = Layout(\n",
    "    title='Life Expectancy v. Per Capita GDP, 2007',\n",
    "    xaxis=dict(\n",
    "        title='GDP per capita (2000 dollars)',\n",
    "        gridcolor='rgb(255, 255, 255)',\n",
    "        range=[2.003297660701705, 5.191505530708712],\n",
    "        type='log',       # log scaling GDP per capita due to large range\n",
    "        zerolinewidth=1,\n",
    "        ticklen=5,\n",
    "        gridwidth=2,\n",
    "    ),\n",
    "    yaxis=dict(\n",
    "        title='Life Expectancy (years)',\n",
    "        gridcolor='rgb(255, 255, 255)',\n",
    "        range=[36.12621671352166, 91.72921793264332],\n",
    "        zerolinewidth=1,\n",
    "        ticklen=5,\n",
    "        gridwidth=2,\n",
    "    ),\n",
    "    paper_bgcolor='rgb(243, 243, 243)',\n",
    "    plot_bgcolor='rgb(243, 243, 243)',\n",
    ")\n",
    "\n",
    "fig = Figure(data=data, layout=layout)\n",
    "py.iplot(fig, filename='life-expectancy-per-GDP-2007')\n"
   ]
  }
 ],
 "metadata": {
  "anaconda-cloud": {},
  "kernelspec": {
   "display_name": "Python [Root]",
   "language": "python",
   "name": "Python [Root]"
  },
  "language_info": {
   "codemirror_mode": {
    "name": "ipython",
    "version": 2
   },
   "file_extension": ".py",
   "mimetype": "text/x-python",
   "name": "python",
   "nbconvert_exporter": "python",
   "pygments_lexer": "ipython2",
   "version": "2.7.12"
  }
 },
 "nbformat": 4,
 "nbformat_minor": 0
}
