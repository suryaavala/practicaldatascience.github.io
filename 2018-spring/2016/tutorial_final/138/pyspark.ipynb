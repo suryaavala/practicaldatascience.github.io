{
 "cells": [
  {
   "cell_type": "markdown",
   "metadata": {},
   "source": [
    "# Tutorial for Apache Spark with Python (PySpark)\n",
    "## Introduction\n",
    "\n",
    "Big data represents a large collection of data that is not possible to be processed with the traditional data processing applications. Big data has three different characteristics: variety, volume, and velocity. In modern analytics, the trend is now moving towards bringing in as many kinds of data and as much data as possible. The ability of analyzing such data becomes one of the basis for the competition in all areas including business and academy. Data practitioners are now analyzing tweets, follower-followee graph on top of the tranditional relational data everyday to extract insights hidden behind these data set. Although precise analysis of big data can bring valuable insights and improve our lives, processing large amounts of information has been a difficult challenge as data today accumulates at an unprecedented rate. In today, Big Data analytic systems such as Apache Hadoop and Apache Spark are widely used for processing large data to extract insights.\n",
    "\n",
    "### Apache Hadoop\n",
    "After the introduction of Google File System and MapReduce programming model by Google, the open source project called 'Apache Hadoop' has quickly emerged as a de-facto standard for big data processing framework. Hadoop consists of distributed file system (HDFS) and processing engine (MapReduce). The main benefit of Hadoop is that users can perform distributed computing over hundreds of nodes by simply implementing map and reduce function while the framework takes care of job scheduling, fault tolerance, or loss prevention. \n",
    "\n",
    "### Apache Spark\n",
    "Apache Spark is the open source big data processing framework that is scalable, fast, and easy-to-use. One of the most important improvement of Spark over Hadoop is that it allows to cache data in-memory for reuse in the future. It introduces an abstraction called Resilient Distributed Data Sets (RDDs). RDDs are imutable objects which are partitioned across the cluster and can be cached in memory for reuse in the distributed setting. RDDs gain fault tolerance by maintaining lineage information that can be used to reconstruct lost partitions. A user can tranform RDDs by combining pre-defined set of operators such as map, group by key, filter, join, and etc. Apache Spark provides its programming API for several languages including Java, Scala, and Python. In this tutorial, we are going to look into Python version (pySpark).\n",
    "\n",
    "## Installation\n",
    "- download spark at http://spark.apache.org/downloads.html\n",
    "- extract the file anywhere you would like to. From now on, I refer this installed path as $SPARK_HOME\n",
    "    \n",
    "  **export SPARK_HOME=\"your path to spark\"**\n",
    "  \n",
    "    \n",
    "- restart jupyter using pyspark shell using the following command and open this notebook again from the jupyter.\n",
    "  \n",
    "  **PYSPARK_DRIVER_PYTHON=\"jupyter\" PYSPARK_DRIVER_PYTHON_OPTS=\"notebook\" $SPARK_HOME/bin/pyspark**\n",
    "  \n",
    "\n",
    "- once the code given below works, we are ready to start to use pyspark. \n",
    "\n",
    "Note that we are testing under the local mode of the pyspark. One of the benefit of Spark is that the framework takes in charge of distributing the work over hundreds nodes of the cluster. In other words, the code that we are writing here can automatically run over multiple nodes of cluster."
   ]
  },
  {
   "cell_type": "code",
   "execution_count": 39,
   "metadata": {
    "collapsed": false
   },
   "outputs": [
    {
     "name": "stdout",
     "output_type": "stream",
     "text": [
      "/Users/shlee0605/688/tutorial\n"
     ]
    }
   ],
   "source": [
    "# import all necessary library for this tutorial\n",
    "import pyspark\n",
    "import csv\n",
    "import numpy as np\n",
    "import matplotlib\n",
    "import matplotlib.pyplot as plt\n",
    "import os\n",
    "import string\n",
    "import nltk\n",
    "\n",
    "\n",
    "%matplotlib inline\n",
    "plt.style.use('ggplot')\n",
    "matplotlib.rcParams['figure.figsize'] = (10.0, 5.0) # you should adjust this to fit your screen\n",
    "\n",
    "# check the current directory path that you extract the tar file.\n",
    "current_directory = os.getcwd()\n",
    "print current_directory\n"
   ]
  },
  {
   "cell_type": "markdown",
   "metadata": {},
   "source": [
    "## Resilient Distributed Datasets (RDDs)\n",
    "As mentioned above, Spark is developed around the data model called Resilient Distributed Datasets (RDDs). RDDs are immutable key-value pairs of 'fault-tolerent' data set that can be processed in parallel. We can either parallelize the existing collections or we can read the data from external sources such as local file system, HDFS (distributed file system), and HBase (NoSQL key-value store). Moreover, there are two different types of operations that we can perform over RDDs: transformation and actions. Transformations are creating new RDD object from the existing ones while actions return the result to the driver program. The full list of transformations and actions that we can trigger is listed at http://spark.apache.org/docs/latest/programming-guide.html#transformations. Since we now have the understanding of basic concepts of Spark and we also have installed it on our system, it is time to start to learn how to perform data analysis using Spark."
   ]
  },
  {
   "cell_type": "markdown",
   "metadata": {
    "collapsed": true
   },
   "source": [
    "## Data Processing with Spark\n",
    "For this section, we will go over the basic spark programs that computes word counts from text data and degree distribution from graph data. From the examples, we will go over how to create RDD from the external data source and how to use \"transformations\" and \"actions\" over RDDs. Spark programming is heavily dependent on using transformations and passing lambda functions for representing logics. This is very similar to the computation over Panda's dataframe. You can refer to the following website for more information on the function passing and closure (about variable scopes): http://spark.apache.org/docs/latest/programming-guide.html#passing-functions-to-spark. Let's first start with the data loading on Spark."
   ]
  },
  {
   "cell_type": "code",
   "execution_count": 2,
   "metadata": {
    "collapsed": false
   },
   "outputs": [
    {
     "name": "stdout",
     "output_type": "stream",
     "text": [
      "25975\n",
      "[u'The Project Gutenberg EBook of The Federalist Papers, by ', u'Alexander Hamilton and John Jay and James Madison', u'', u'This eBook is for the use of anyone anywhere at no cost and with', u'almost no restrictions whatsoever.  You may copy it, give it away or', u're-use it under the terms of the Project Gutenberg License included', u'with this eBook or online at www.gutenberg.net', u'', u'', u'Title: The Federalist Papers']\n"
     ]
    }
   ],
   "source": [
    "\"\"\"\n",
    "Data Loading\n",
    "\"\"\"\n",
    "\n",
    "# change path to your file\n",
    "filePath = \"file:///\" + current_directory + \"/data/pg18.txt\"\n",
    "\n",
    "# read the text file from the external storage and create the RDD \n",
    "textFile = sc.textFile(filePath)\n",
    "\n",
    "# count the number of lines by calling count() which is an \"action\"\n",
    "lineCount = textFile.count()\n",
    "\n",
    "# print out the first 10 lines of text file and the total line count\n",
    "print lineCount\n",
    "print textFile.take(10)"
   ]
  },
  {
   "cell_type": "markdown",
   "metadata": {},
   "source": [
    "### Word Count Example\n",
    "The algorithm of word count in map-reduce fashion is present below.\n",
    "1. split line with the space\n",
    "2. for each word in the line, emit `(word, 1)`\n",
    "3. group the data based on the key and add the count values in the reduce function"
   ]
  },
  {
   "cell_type": "code",
   "execution_count": 3,
   "metadata": {
    "collapsed": false
   },
   "outputs": [
    {
     "name": "stdout",
     "output_type": "stream",
     "text": [
      "[(u'', 7254), (u'delusions.', 1), (u'four', 44), (u'ocean,', 1), (u'proposes,', 1), (u'impera1', 1), (u'towns', 4), (u'vassals', 2), (u'looking', 4), (u'LAST', 1), (u'pardon', 5), (u'granting', 7), (u'pre-eminence', 6), (u'ENDEAVORS', 1), (u'quadruple', 1), (u'\"NO', 1), (u'innocence,', 1), (u'dissolution', 14), (u'navigating', 1), (u'co-operation', 11)]\n"
     ]
    }
   ],
   "source": [
    "\"\"\"\n",
    "Word Count Example\n",
    "\"\"\"\n",
    "# compute word count using \"transformations\"\n",
    "counts = textFile.flatMap(lambda x: x.split(\" \")) \\\n",
    "              .map(lambda x: (x, 1)) \\\n",
    "              .reduceByKey(lambda x, y: x + y)\n",
    "\n",
    "# print out 20 samples by calling take which is an \"action\"\n",
    "print counts.take(20)"
   ]
  },
  {
   "cell_type": "markdown",
   "metadata": {},
   "source": [
    "## Spark Internal\n",
    "Since we now have seen an example of spark program, let's look into Spark internals more in detail to understand how Spark execute this user code on the cluster. Before we dive into the internal of Spark, I list the terms that we should know.\n",
    "\n",
    "- Driver: A JVM process that is responsible for orchestrating the execution of the job.\n",
    "- Executor: A JVM process that is responsible for executing tasks.\n",
    "- Job: A job is the entire user code portion that reads input from the source, run computation over the data, and write output data to the sink.\n",
    "- Stages: A job is divided into multiple stages. Each stage represents the each computation boundaries (e.g. map, shuffle...etc)\n",
    "- Tasks: Each stage is further divided into tasks. Each task is usually matched with a partition of data and the task is executed one executor.\n",
    "- DAG: A user program (transformation / actions over RDDs) is represented as the directed acyclic graph.\n",
    "\n",
    "The overall life cycle of the spark program is represented below. \n",
    "\n",
    "1. A user submit the job using either Spark interactive shell or `spark-job` script.\n",
    "2. A driver program translates the transforms in the user program into a DAG graph.\n",
    "3. The graph is submitted to DAG Scheduler, which splits the graph into stages.\n",
    "4. DAG scheduler submits each stage to task scheduler once it is ready to execute.\n",
    "5. Task Scheduler then assigns tasks to executor via cluster manager and it also keeps track of the status of the tasks. If the executor fails to execute the task, the schduler would assign the task to another executor in order to acheive fault tolerance.\n",
    "6. Executors execute tasks and write output to the distributed file system or send the result to driver based on user's action.\n",
    "\n",
    "\n",
    "\n",
    "![spark2](img/3.png)\n",
    "\n",
    "The image is taken from the slide by Databricks, which is the company that develops Apache Spark. (http://files.meetup.com/3138542/dev-meetup-dec-2012.pptx)\n"
   ]
  },
  {
   "cell_type": "markdown",
   "metadata": {},
   "source": [
    "## More Examples\n",
    "### Tweet Sentiment Analysis\n",
    "In this section, we will implement the tweets sentiment analysis that categorize the tweets into positive and negative tweets. For the score of each positive/negative word, I got the list from http://www2.imm.dtu.dk/pubdb/views/publication_details.php?id=6010. This spark program processes the raw tweets data, and compute the sentiment score for each tweet based on the score from the above source.\n",
    "\n"
   ]
  },
  {
   "cell_type": "code",
   "execution_count": 44,
   "metadata": {
    "collapsed": false
   },
   "outputs": [
    {
     "name": "stdout",
     "output_type": "stream",
     "text": [
      "Positive Tweets\n",
      "17 - We're thrilled to unveil the stunning restoration of this iconic landmark. Thank you to our brilliant team @TrumpDC! https://t.co/loToqDulGj\n",
      "16 - \"Ireland! You were outstanding. Blessed to play along side such amazing acts for such a warm crowd. I hope you had as much fun as we did. \n",
      "15 - Thank you to Perform Better for the opportunity to present and share with all of these fantastic fit pros! Great... https://t.co/cjLelhpugI\n",
      "15 - RT @realDonaldTrump: It is wonderful to be in beautiful Doonbeg touring @Trump_Ireland. I'm truly honored by the wonderful welcome to my fa…\n",
      "15 - Another awesome week in Canada. Thanks to @RBCCanadianOpen for a wonderful event &amp; the fans who always make me feel like one of their own!\n",
      "\n",
      "Negative Tweets\n",
      "-10 :  killed Sunday (9-11) in Fresno and my wife's heartbroken plea to end gun violence. http…\"\n",
      "-9 : WATCH NOW: @realDonaldTrump spoke to victims of illegal immigrant crime at the Remembrance Project in Houston. https://t.co/IgsE0kZvFn\n",
      "-8 : RT @MJM2335: @mcuban @MichaelCohen212 @HillaryClinton @realDonaldTrump that was the worst burn ever Marco. Bow down to president trump bitch\n",
      "-8 : Watching all of @Beyonce videos WTF MIND IS BLOWN. Queen fucking B.\n",
      "-7 : NFL HELL: EAGLES Plan Demonstration For 'Social Injustice'... https://t.co/QzxkIDEZ7h\n"
     ]
    }
   ],
   "source": [
    "\"\"\"\n",
    "Tweet Sentiment Analysis\n",
    "\"\"\"\n",
    "\n",
    "def text_process(text, lemmatizer=nltk.stem.wordnet.WordNetLemmatizer()):\n",
    "    \"\"\" Normalizes case and handles punctuation\n",
    "    Inputs:\n",
    "        text: str: raw text\n",
    "        lemmatizer: an instance of a class implementing the lemmatize() method\n",
    "                    (the default argument is of type nltk.stem.wordnet.WordNetLemmatizer)\n",
    "    Outputs:\n",
    "        list(str): tokenized text\n",
    "    \"\"\"\n",
    "    text = text.encode('ascii','ignore')\n",
    "    text = text.lower()\n",
    "    text = text.replace(\"'s\", \"\")\n",
    "    text = text.replace(\"'\", \"\")\n",
    "    test_trans = \" \" * len(string.punctuation)\n",
    "    text = text.translate(string.maketrans(string.punctuation,test_trans))  \n",
    "    \n",
    "    tokens = nltk.word_tokenize(text)\n",
    "    result = []\n",
    "    for i in range(0, len(tokens)):\n",
    "        try:\n",
    "            result.append(lemmatizer.lemmatize(tokens[i]))\n",
    "        except:\n",
    "            continue\n",
    "    return result\n",
    "\n",
    "def parse_senti_score(path):\n",
    "    # read sentiment score\n",
    "    senti_file = open(sentiScorePath, \"rb\")\n",
    "    senti_lookup = {}\n",
    "    for line in senti_file:\n",
    "        cols = line.split(\"\\t\")\n",
    "        senti_lookup[cols[0]] = int(cols[1])\n",
    "    return senti_lookup\n",
    "\n",
    "def split(s):\n",
    "    cols = s.split(\",\")\n",
    "    return cols[-1]\n",
    "\n",
    "def compute_senti(s, senti_lookup):\n",
    "    lookup_table = senti_lookup.value\n",
    "    \n",
    "    words = text_process(s)\n",
    "    score = 0\n",
    "    for word in words:\n",
    "        if word in lookup_table:\n",
    "            score += lookup_table[word]\n",
    "    return (score, s)\n",
    "\n",
    "# read raw edges file to form RDD\n",
    "senti_score_path = current_directory + \"/data/AFINN-111.txt\"\n",
    "tweet_file_path = \"file:///\" + current_directory + \"/data/tweets.csv\"\n",
    "\n",
    "# using a broadcast variable for distributed lookup table\n",
    "senti_score = parse_senti_score(senti_score_path)\n",
    "senti_lookup = sc.broadcast(senti_score)\n",
    "\n",
    "# read the data\n",
    "data = sc.textFile(tweet_file_path)\n",
    "header = data.first()\n",
    "tweets = data.filter(lambda x: x != header) \\\n",
    "             .map(split)\n",
    "\n",
    "# compute sentiment\n",
    "senti_tweets = tweets.map(lambda x: compute_senti(x, senti_lookup))\n",
    "\n",
    "# filter tweets with positive score, negative score and sort them in order\n",
    "positive_tweets = senti_tweets.filter(lambda x: x[0] > 0).sortByKey(False)\n",
    "negative_tweets = senti_tweets.filter(lambda x: x[0] < 0).sortByKey(True)\n",
    "\n",
    "# print out top 5 positive/negative tweets\n",
    "print \"Positive Tweets\"\n",
    "for tweet in positive_tweets.take(5):\n",
    "    print tweet[0], \"-\", tweet[1]\n",
    "\n",
    "print\n",
    "print \"Negative Tweets\"\n",
    "for tweet in negative_tweets.take(5):\n",
    "    print tweet[0], \":\", tweet[1]\n"
   ]
  },
  {
   "cell_type": "markdown",
   "metadata": {},
   "source": [
    "### Degree Distribution\n",
    "For the next example, we use graph data processing using Spark. We are loading the data from HW2 (edges.csv), compute degree distribution and present the graph in order to validate the correctness."
   ]
  },
  {
   "cell_type": "code",
   "execution_count": 13,
   "metadata": {
    "collapsed": false
   },
   "outputs": [
    {
     "name": "stdout",
     "output_type": "stream",
     "text": [
      "screen_name,friend\n"
     ]
    },
    {
     "data": {
      "text/plain": [
       "(array([   2.,    6.,    2.,    5.,    4.,    4.,    3.,    1.,    4.,  148.]),\n",
       " array([   2. ,   11.8,   21.6,   31.4,   41.2,   51. ,   60.8,   70.6,\n",
       "          80.4,   90.2,  100. ]),\n",
       " <a list of 10 Patch objects>)"
      ]
     },
     "execution_count": 13,
     "metadata": {},
     "output_type": "execute_result"
    },
    {
     "data": {
      "image/png": "[encoded data removed]",
      "text/plain": [
       "<matplotlib.figure.Figure at 0x10e092110>"
      ]
     },
     "metadata": {},
     "output_type": "display_data"
    }
   ],
   "source": [
    "\"\"\"\n",
    "Degree Distribution Computation\n",
    "\"\"\"\n",
    "\n",
    "# read raw edges file to form RDD\n",
    "edgeFilePath = \"file:///\" + current_directory + \"/data/edges.csv\"\n",
    "data = sc.textFile(edgeFilePath)\n",
    "header = data.first()\n",
    "edges = data.filter(lambda x: x != header) \\\n",
    "            .mapPartitions(lambda x: csv.reader(x))\n",
    "\n",
    "# compute degree distribution using transformations\n",
    "degree = edges.groupByKey() \\\n",
    "              .map(lambda x: len(x[1]))\n",
    "\n",
    "# retrieve the distribution data.\n",
    "final_data = degree.collect()\n",
    "\n",
    "# compute group by\n",
    "plt.title(\"Degree Distribution for Tweets Edge Data\")\n",
    "plt.xlabel(\"Degree\", size=12)\n",
    "plt.ylabel(\"Frequency\", size=12)\n",
    "plt.hist(final_data)"
   ]
  },
  {
   "cell_type": "markdown",
   "metadata": {
    "collapsed": false
   },
   "source": [
    "### Complex Iterative Graph Processing (Connected Components)\n",
    "Since we now know how to use basic Spark's programming APIs including transformations and actions, it is time to move to the complex example. For this section, I implment the connected components algorithm that is iterative in nature. I implement 'Hash-to-Min' algorithm introduced in https://arxiv.org/pdf/1203.5387.pdf. This algorithm uses the propagating mechanism to compute the connected components. The detailed explanation of the algorithm can be found in page 3 of the paper. "
   ]
  },
  {
   "cell_type": "code",
   "execution_count": 5,
   "metadata": {
    "collapsed": false
   },
   "outputs": [],
   "source": [
    "\"\"\"\n",
    "Connected Components\n",
    "\"\"\"\n",
    "\n",
    "# split function that is used to pre-process the input data\n",
    "def split(s):\n",
    "    nodes = s.split(\"\\t\")\n",
    "    return ((int(nodes[0]), int(nodes[1])), (int(nodes[1]), int(nodes[0])))\n",
    "\n",
    "# initialize the C_v\n",
    "def initialize_Cv(n):\n",
    "    return (n[0], set(n[1]) | set([n[0]]))\n",
    "\n",
    "# computing hash function based on the hash algorithm in the paper\n",
    "def compute_hash(s):\n",
    "    vertex = s[0]\n",
    "    neighbors = s[1]\n",
    "    neighbor_min = min(neighbors)\n",
    "    result = []\n",
    "    for n in neighbors:\n",
    "        if n != neighbor_min:\n",
    "            result.append((n, set([neighbor_min])))\n",
    "    result.append((neighbor_min, neighbors))\n",
    "    for n in neighbors:\n",
    "        if neighbor_min != n:\n",
    "            result.append((n, set([neighbor_min])))\n",
    "    return result\n",
    "\n",
    "# filtering case\n",
    "def export(v):\n",
    "    vertex = v[0]\n",
    "    neighbor_min = min(v[1])\n",
    "    if neighbor_min == vertex:\n",
    "        return True\n",
    "    return False\n",
    "\n",
    "def compute_connected_components(file_path, num_iter, print_list):\n",
    "    # read raw edges file to form RDD\n",
    "    data = sc.textFile(file_path)\n",
    "    \n",
    "    # create adjacency list (node -> list of neighbors)\n",
    "    graph = data.flatMap(split) \\\n",
    "                .distinct() \\\n",
    "                .groupByKey()\n",
    "\n",
    "    # initialize connected component result (C_v in the paper)\n",
    "    connected_result = graph.map(initialize_Cv)\n",
    "    \n",
    "    # start the iteration\n",
    "    for i in range(num_iter):\n",
    "        # map phase of the algorithm\n",
    "        intermediate = connected_result.flatMap(lambda s: compute_hash(s))\n",
    "\n",
    "        # reduce phase\n",
    "        connected_result = intermediate.reduceByKey(lambda a,b: a | b)\n",
    "\n",
    "    # filtering out unnecessary output\n",
    "    filtered_output = connected_result.filter(lambda v: export(v))\n",
    "\n",
    "    final_collected_result = filtered_output.collect()\n",
    "    if print_list:\n",
    "        for x in final_collected_result:\n",
    "            print list(x[1])\n",
    "    else:\n",
    "        print len(final_collected_result)\n"
   ]
  },
  {
   "cell_type": "code",
   "execution_count": 6,
   "metadata": {
    "collapsed": false
   },
   "outputs": [
    {
     "name": "stdout",
     "output_type": "stream",
     "text": [
      "simple example verification\n",
      "[0, 1, 2, 3]\n",
      "[4, 5, 6]\n",
      "[8, 7]\n"
     ]
    }
   ],
   "source": [
    "# verify with the small data set :\n",
    "# (0,1), (1,2), (2,3), (4,5), (5,6), (7,8)\n",
    "# this example should yield three groups: [0,1,2,3], [4,5,6], [7,8]\n",
    "simple = \"file:///\" + current_directory + \"/data/simple-graph.txt\"\n",
    "tweet_edge = \"file:///\" + current_directory + \"/data/tweet-edges.txt\"\n",
    "\n",
    "print \"simple example verification\"\n",
    "compute_connected_components(simple, 10, True)"
   ]
  },
  {
   "cell_type": "markdown",
   "metadata": {},
   "source": [
    "Since we now have the spark implementation to compute connected components, let's run this algorithm over the existing data. For this task, I will use the edges.csv data from HW2 which is the follower-followee graph data. In order to use the data into our implementation, we first need to convert the data format."
   ]
  },
  {
   "cell_type": "code",
   "execution_count": 7,
   "metadata": {
    "collapsed": false
   },
   "outputs": [
    {
     "name": "stdout",
     "output_type": "stream",
     "text": [
      "screen_name,friend\n",
      "\n",
      "realDonaldTrump,Trump\n",
      "\n"
     ]
    }
   ],
   "source": [
    "raw_edges_file = open(current_directory + \"/data/edges.csv\", \"rb\")\n",
    "\n",
    "# print first two lines\n",
    "print raw_edges_file.readline()\n",
    "print raw_edges_file.readline()\n",
    "\n",
    "# close file\n",
    "raw_edges_file.close()"
   ]
  },
  {
   "cell_type": "markdown",
   "metadata": {},
   "source": [
    "Our implementation assumes that the edges are represented as (follower(int), followee(int)). So, from the above example, we need convert (realDonaldTrump,Trump) -> (0,1). Let's convert this data into the correct format."
   ]
  },
  {
   "cell_type": "code",
   "execution_count": 9,
   "metadata": {
    "collapsed": false
   },
   "outputs": [
    {
     "name": "stdout",
     "output_type": "stream",
     "text": [
      "connected components of tweet edges data: \n",
      "6\n"
     ]
    }
   ],
   "source": [
    "# open the files\n",
    "raw_edges_file = open(current_directory + \"/data/edges.csv\", \"rb\")\n",
    "processed_edges_file = open(current_directory + \"/data/processed_edges.txt\", \"wb\")\n",
    "\n",
    "# ignore the first line\n",
    "raw_edges_file.readline()\n",
    "\n",
    "mapping_table = {}\n",
    "count = 0\n",
    "for line in raw_edges_file:\n",
    "    splits = line.split(',')\n",
    "    if splits[0] not in mapping_table.keys():\n",
    "        mapping_table[splits[0]] = count\n",
    "        count += 1\n",
    "    if splits[1] not in mapping_table.keys():\n",
    "        mapping_table[splits[1]] = count\n",
    "        count +=1\n",
    "    converted_line = str(mapping_table[splits[0]]) + \"\\t\" + str(mapping_table[splits[1]]) + \"\\n\"\n",
    "    processed_edges_file.write(converted_line)\n",
    "    \n",
    "raw_edges_file.close()\n",
    "processed_edges_file.close()\n",
    "\n",
    "# this example uses the tweet edge data given from hw2 - string names(nodes) are converted to number.\n",
    "# expected output: 6\n",
    "processed_edge_data_path = \"file:///\" + current_directory + \"/data/processed_edges.txt\"\n",
    "print \"connected components of tweet edges data: \"\n",
    "compute_connected_components(processed_edge_data_path, 10, False)"
   ]
  },
  {
   "cell_type": "markdown",
   "metadata": {},
   "source": [
    "## Summary and Useful References\n",
    "This tutorial covers how to use Spark programming API to write the data processing logic. Although I used the small data sets for examples, the beauty of Apache Spark is that all the code we wrote in this tutorial can be run on over tens or hundreds of machines to process extremely large data set. \n",
    "\n",
    "For deploying Spark cluster, one can choose to use his/her own servers by manually installing spark on their machines. Easier way is to use AWS EMR service, which allows a user to deploy Spark cluster with several clicks. The detailed information can be found at https://aws.amazon.com/emr/details/spark/.\n",
    "\n",
    "- Spark Programming Guide: http://spark.apache.org/docs/latest/programming-guide.html\n",
    "- Spark Paper (\"Resilient Distributed Datasets\"): http://www-bcf.usc.edu/~minlanyu/teach/csci599-fall12/papers/nsdi_spark.pdf\n",
    "- Finding Connected Components in Map-Reduce in Logarithmic Rounds: https://arxiv.org/pdf/1203.5387.pdf"
   ]
  }
 ],
 "metadata": {
  "kernelspec": {
   "display_name": "Python 2",
   "language": "python",
   "name": "python2"
  },
  "language_info": {
   "codemirror_mode": {
    "name": "ipython",
    "version": 2
   },
   "file_extension": ".py",
   "mimetype": "text/x-python",
   "name": "python",
   "nbconvert_exporter": "python",
   "pygments_lexer": "ipython2",
   "version": "2.7.11"
  }
 },
 "nbformat": 4,
 "nbformat_minor": 1
}
