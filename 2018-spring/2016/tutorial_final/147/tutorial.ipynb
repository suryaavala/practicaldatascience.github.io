{
 "cells": [
  {
   "cell_type": "markdown",
   "metadata": {},
   "source": [
    "# Shortest Path Algorithms and Comparisons"
   ]
  },
  {
   "cell_type": "markdown",
   "metadata": {},
   "source": [
    "## Introduction\n",
    "\n",
    "In this tutorial, we will be covering the pros and cons of several shortest path algorithms that have been developed over the years. The shortest path problem can be defined as finding the minimum path between two points in a network, where the distance between two points is equal to the sum of all individual paths that connect these points together. To solve this problem, a common approach is to model the network in your problem with a graph data structure."
   ]
  },
  {
   "cell_type": "markdown",
   "metadata": {},
   "source": [
    "## Tutorial Content\n",
    "\n",
    "In this tutorial, we will define a graph as a collection of ****nodes****, at which these nodes can be connected by ****edges****. Depending on what an edge means in the data model, an edge can either be ****unweighted**** or ****weighted****, from one node to another. Weighted edges simply means that there is a certain cost (that is **not** necessarily 1) to get from one vertex to another. For example, in a network of destination routes, an edge describing a route from Pittsburgh, PA to Philadelphia, PA, is obviously going to have considerably less weight than an edge describing a route from Pittsburgh, PA to Los Angeles, CA.\n",
    "\n",
    "Graphs can be represented in various ways: ****adjacency matrixes****, ****adjacency lists****, and ****nodes/pointers****. Depending on what problem you are trying to solve, some representations may be more fit than others. Graphs can also be ****directed**** or ****undirected****, where a directed graph is one in which an edge from node A to node B does not necessarily imply an edge from node 2 to node 1, whereas an undirected graph has those implications. Note that a directed graph can be an undirected graph, but not the other way around. For this tutorial, we will be using the default representation that NetworkX provides.\n",
    "\n",
    "#### Wait, I already know what graphs are, why did you have to explain so much above?\n",
    "There are quite a few shortest path algorithms out there, but why so many? Situational factors and optimization - or at least that's why I think so much effort has gone into the development of these algorithms. Depending on how you are presented with the data in the problem, sometimes it's better to model a graph with an adjacency matrix than other representations. And whether or not edges have weights turns out to have an affect on which shortest path algorithm will work. Likewise with a graph's directedness.\n",
    "\n",
    "Solving the shortest path problem will almost always be relevant in real world situations, so it helps to become familiar with these algorithms to focus your solutions at a higher level.\n",
    "\n",
    "In this tutorial, we will cover the following flavors of shortest path algorithms:\n",
    "  * Breadth-First Search\n",
    "  * Dijstrka's Algorithm\n",
    "  * Bellman-Ford Algorithm\n",
    "  * Floyd-Warshall Algorithm\n",
    "    \n",
    "For each of these algorithms, I will provide the sources that I used to help me write this tutorial."
   ]
  },
  {
   "cell_type": "markdown",
   "metadata": {},
   "source": [
    "## What You'll Need\n",
    "\n",
    "For this tutorial, we will be using a Python package called NetworkX (https://github.com/networkx/networkx/). Although there are algorithms already provided in this library that let you do cool things with graphs (like the algorithms we're going to implement), we will primarily be using this package just to create our graphs.\n",
    "\n",
    "If your machine has Anaconda installed, you most likely already have this package. However, to ensure consistency with the upstream codebase, run the command:\n",
    "\n",
    "    $ pip install networkx --upgrade\n",
    "    \n",
    "Make sure the following import runs without any errors!"
   ]
  },
  {
   "cell_type": "code",
   "execution_count": 1,
   "metadata": {
    "collapsed": false
   },
   "outputs": [],
   "source": [
    "import networkx as nx\n",
    "import random\n",
    "import matplotlib.pyplot as plt\n",
    "import heapdict\n",
    "from collections import deque\n",
    "import sys"
   ]
  },
  {
   "cell_type": "markdown",
   "metadata": {
    "collapsed": true
   },
   "source": [
    "Before we write code about algorithms that will help us solve the shortest path problem, we first need an actual graph to apply it on. Notice below that we will be creating two graphs: one that is undirected, and one that is directed. For simplicity, all the edges will have the same weight; this way, we'll be able to compare the outcomes of all the algorithms and see that they are the same. Also, we are creating our own Node class so that they can be marked if required by the algorithm."
   ]
  },
  {
   "cell_type": "code",
   "execution_count": 2,
   "metadata": {
    "collapsed": false
   },
   "outputs": [],
   "source": [
    "G = nx.Graph()\n",
    "DG = nx.DiGraph()\n",
    "\n",
    "class Node(object):\n",
    "    def __init__(self,x):\n",
    "        self.val = x\n",
    "        self.visited = False\n",
    "\n",
    "    def __repr__(self):\n",
    "        return \"<Node(%r)>\" % self.val\n",
    "\n",
    "# create some vertexes\n",
    "for i in xrange(10):\n",
    "    G.add_node(Node(i))\n",
    "    DG.add_node(Node(i))\n",
    "    \n",
    "nodes = G.nodes()\n",
    "dnodes = DG.nodes()\n",
    "\n",
    "# Add edges both ways for the directed graph, so that it is similar to the \n",
    "# unweighted, undirected graph.\n",
    "for i in xrange(1,9):\n",
    "    G.add_edge(nodes[i-1],nodes[i])\n",
    "    G.add_edge(nodes[i],nodes[i+1])\n",
    "    G.add_edge(nodes[i],nodes[i/2])\n",
    "    \n",
    "    DG.add_edge(dnodes[i],dnodes[i/2],weight=1)\n",
    "    DG.add_edge(dnodes[i/2],dnodes[i],weight=1)\n",
    "    DG.add_edge(dnodes[i-1],dnodes[i], weight=1)\n",
    "    DG.add_edge(dnodes[i],dnodes[i-1],weight=1)\n",
    "    DG.add_edge(dnodes[i],dnodes[i+1], weight=1)\n",
    "    DG.add_edge(dnodes[i+1],dnodes[i],weight=1)\n",
    "    \n",
    "# Uncomment the below lines if you want to see the graph\n",
    "# nx.draw(DG)\n",
    "# plt.show()"
   ]
  },
  {
   "cell_type": "markdown",
   "metadata": {},
   "source": [
    "**Utility functions**\n",
    "\n",
    "We'll be using the follow functions, as they will come in handy for re-use of code and displaying output."
   ]
  },
  {
   "cell_type": "code",
   "execution_count": 3,
   "metadata": {
    "collapsed": false
   },
   "outputs": [],
   "source": [
    "def trace_back(source,node,prevs):\n",
    "    \"\"\"\n",
    "    Given a list of vertexes associated with their previous vertex, trace the node back to the\n",
    "    source and print this path.\n",
    "    Args:\n",
    "        source : a node in the graph\n",
    "        node : arbitrary node in the graph you want to have traced back to\n",
    "        prevs : a key-val mapping of a node and it's previous path\n",
    "    Output:\n",
    "        path (list(Node)) : an in-order path from source to node\n",
    "    \"\"\"\n",
    "    result = [node]\n",
    "    while node in prevs and node != source:\n",
    "        result.append(prevs[node])\n",
    "        node = prevs[node]\n",
    "    result.reverse()\n",
    "    return result\n",
    "\n",
    "def display_trace(source,dest,distance,path):\n",
    "    print \"Path from %r to %r with distance %d: %r\" % (source,dest,distance,path)\n",
    "    \n",
    "def unmark(graph):\n",
    "    \"\"\"\n",
    "    If using the same graph multiple times, and marking nodes, we want to ensure consistent\n",
    "    output by unmarking the graph each time it is used.\n",
    "    \n",
    "    Args:\n",
    "        graph : networkx.Graph that contains nodes of type(Node) that we defined above\n",
    "    \"\"\"\n",
    "    for node in graph.nodes():\n",
    "        node.visited = False\n",
    "\n",
    "def weight(graph,from_node,to_node):\n",
    "    \"\"\"\n",
    "    Return the weight of the edge (from_node,to_node). Defaults to +1 if no weight was specified\n",
    "    during creation.\n",
    "    Args:\n",
    "        graph : networkx.Graph\n",
    "        from_node : Node\n",
    "        to_node : Node\n",
    "    Output:\n",
    "        int : cost of an edge\n",
    "    \"\"\"\n",
    "    if 'weight' not in graph[from_node][to_node]:\n",
    "        return 1\n",
    "    return graph[from_node][to_node]['weight']"
   ]
  },
  {
   "cell_type": "markdown",
   "metadata": {},
   "source": [
    "## Breadth-First Search Shortest Path\n",
    "\n",
    "A lot of search algorithms have some sort of origin from the Breadth-First Search algorithm. This is an algorithm that can get you started on a lot of graph problems. The gist of this algorithm is to keep track of neighbors of nodes with a queue, while traversing to unvisited nodes. Since the graph is unweighted, and we are traversing neighbors first, we are guaranteed to get the shortest path from any node to the source node.\n",
    "\n",
    "Restrictions:\n",
    "* **Unweighted graph**\n",
    "* No cycles in the graph"
   ]
  },
  {
   "cell_type": "code",
   "execution_count": 4,
   "metadata": {
    "collapsed": false
   },
   "outputs": [],
   "source": [
    "def bfs_shortest_path(source,graph):\n",
    "    \"\"\"\n",
    "    Input: source node in graph\n",
    "    Output: list of distances, list of previous nodes\n",
    "    \"\"\"\n",
    "    # Set all distances to a value recognized as infinity (in this case -1)\n",
    "    distances = {node : -1 for node in graph.nodes()}\n",
    "    previous = {node : None for node in graph.nodes()}\n",
    "    \n",
    "    # Set initial values for source distance and previous\n",
    "    previous[source] = source\n",
    "    distances[source] = 0\n",
    "    \n",
    "    # Mark the source as visited already\n",
    "    source.visited = True\n",
    "    \n",
    "    # Initialize our queue with the source being the first node to examine\n",
    "    q = deque()\n",
    "    q.append(source)\n",
    "\n",
    "    # Visit all nodes\n",
    "    while len(q) > 0:\n",
    "        \n",
    "        # remove an unexamined node from the queue\n",
    "        root = q.popleft()\n",
    "        \n",
    "        # search through all its neighbors\n",
    "        for neighbor in graph.neighbors(root):\n",
    "            if not neighbor.visited:\n",
    "                # Unweighted graph, so we know the distance is just 1 away from where it came from\n",
    "                distances[neighbor] = distances[root] + 1\n",
    "                \n",
    "                # Track the node where neighbor came from\n",
    "                previous[neighbor] = root\n",
    "                \n",
    "                # Make sure we don't visit this node again\n",
    "                neighbor.visited = True\n",
    "                \n",
    "                # Enqueue neighbor so that we can examine neighbor's neighbors\n",
    "                q.append(neighbor)\n",
    "    \n",
    "    return distances,previous"
   ]
  },
  {
   "cell_type": "markdown",
   "metadata": {},
   "source": [
    "Here, we randomize a source node and a test (destination) node. Using the utility function `display_trace`, we can easily display our results that we get from these algorithms."
   ]
  },
  {
   "cell_type": "code",
   "execution_count": 5,
   "metadata": {
    "collapsed": false
   },
   "outputs": [
    {
     "name": "stdout",
     "output_type": "stream",
     "text": [
      "Path from <Node(5)> to <Node(2)> with distance 3: [<Node(5)>, <Node(1)>, <Node(8)>, <Node(2)>]\n"
     ]
    }
   ],
   "source": [
    "# Pick a random source node\n",
    "sourcei = int(random.random()*(len(G.nodes())-1))\n",
    "\n",
    "source_node,d_source_node = nodes[i],dnodes[i]\n",
    "\n",
    "# Pick a random destination node\n",
    "testi = int(random.random()*(len(G.nodes())-1))\n",
    "\n",
    "test_node, d_test_node = nodes[testi],dnodes[testi]\n",
    "\n",
    "# Since we are using the same graph throughout this tutorial, we must unmark vertices\n",
    "# if we've marked them in one of these algorithms\n",
    "unmark(G)\n",
    "\n",
    "distances,previous = bfs_shortest_path(source_node,G)\n",
    "path = trace_back(source_node,test_node,previous)\n",
    "display_trace(source_node,test_node,distances[test_node],path)"
   ]
  },
  {
   "cell_type": "markdown",
   "metadata": {},
   "source": [
    "## Dijstrka's Algorithm\n",
    "\n",
    "Dijstrka's Algorithm is perhaps one of the most important graph search algorithms you can learn, simply because it is efficient, and relatively easy to implement (at least at a high level). The following algorithm will find the shortest path to a source node for *all* remaining nodes in directed and weighted graph, and in an efficient manner.\n",
    "\n",
    "The foundation of Dijstrka's Algorithm is Breadth-First search. We want to start from a source node, and then examine neighbors of unvisited nodes so that we can find the shortest possible path. However, in BFS, we simply used a queue: dequeuing off this data structure provides the program no implication of how \"good\" (read, \"close\") that node will be. Instead, in Dijstrka's Algorithm, we'll use a priority queue so that when we dequeue an unexamined node, we guarantee that we are looking at the closest possible node to the source at that moment. Using such a data structure drastically improves the efficiency as compared to plain BFS that was discussed above. In particular, we will be using the `heapdict` data structure, which internally decreases priorities when elements are removed. It is worth noting that if you are using the `heapq` package provided by Python, you'll have to implement a method that decreases priorities after an element gets taken out.\n",
    "\n",
    "Also take notice of the use of the weight() function: Dijstrka's Algorithm allows for weighted (although non-negative) edges.\n",
    "\n",
    "Restrictions:\n",
    "* Non-negative weights"
   ]
  },
  {
   "cell_type": "code",
   "execution_count": 6,
   "metadata": {
    "collapsed": false
   },
   "outputs": [],
   "source": [
    "def dijstkras(source,graph):\n",
    "    distances = {node : sys.maxsize for node in graph.nodes()}\n",
    "    prevs = {node : None for node in graph.nodes()}\n",
    "    pq = heapdict.heapdict()\n",
    "    distances[source] = 0\n",
    "    \n",
    "    # put in all the nodes that aren't the source into the pq set\n",
    "    for node in graph.nodes():\n",
    "        pq[node] = distances[node]\n",
    "    \n",
    "    # Look through all nodes\n",
    "    while len(pq) > 0:\n",
    "        root_node, priority = pq.popitem()\n",
    "        for neighbor in nx.all_neighbors(graph,root_node):\n",
    "            if distances[root_node] == sys.maxsize:\n",
    "                # If we haven't yet seen root_node, the difference is just the length from\n",
    "                # the root to the neighbor\n",
    "                diff = weight(root_node,neighbor,graph)\n",
    "            else:\n",
    "                # otherwise, we can add the distance to the root node\n",
    "                diff = distances[root_node] + weight(graph,root_node,neighbor)\n",
    "    \n",
    "            if diff < distances[neighbor]:\n",
    "                distances[neighbor] = diff\n",
    "                prevs[neighbor] = root_node\n",
    "                pq[neighbor] = diff # heapdict handles decreasing priority, so just set neighbor with new distance!\n",
    "                \n",
    "    return distances, prevs"
   ]
  },
  {
   "cell_type": "markdown",
   "metadata": {},
   "source": [
    "Our results are shown below."
   ]
  },
  {
   "cell_type": "code",
   "execution_count": 7,
   "metadata": {
    "collapsed": false
   },
   "outputs": [
    {
     "name": "stdout",
     "output_type": "stream",
     "text": [
      "Path from <Node(5)> to <Node(2)> with distance 3: [<Node(5)>, <Node(9)>, <Node(3)>, <Node(2)>]\n"
     ]
    }
   ],
   "source": [
    "distances,previous = dijstkras(source_node,G)\n",
    "path = trace_back(source_node,test_node,previous)\n",
    "display_trace(source_node,test_node,distances[test_node],path)"
   ]
  },
  {
   "cell_type": "markdown",
   "metadata": {},
   "source": [
    "## Bellman-Ford Algorithm\n",
    "\n",
    "The Bellman-Ford Algorithm is an algorithm similar to Dijstrka's in the sense that it accomplishes the same job with a directed and weighted graph: getting the shortest distance between a source and all other nodes. Although this algorithm is slower than Dijstrka's, the Bellman-Ford Algorithm allows for negative weight edges, hence a reasonable trade-off in time complexity when used in the right situation. For example, you could be determining your net money spending when starting off with a certain amount, and see if you are capable of spending a certain amount of money (negative edge).\n",
    "\n",
    "The idea behind the Bellman-Ford Algorithm is to iterively improve the distances between nodes. Like Dijstrka's, we start off with destination and previous node initialization. From here, we must look at all edges, |V|-1 times, and see if each edge can be optimized. This works since you initialize each distance in the beginning to infinity, and then with each iteration in the outer loop, you continue to populate the distance array with better (if possible) and better distances between each edge.\n",
    "\n",
    "Pros:\n",
    "* **Allows negative weighted edges**\n",
    "\n",
    "Cons:\n",
    "* Slower than Dijstrka's Algorithm"
   ]
  },
  {
   "cell_type": "code",
   "execution_count": 8,
   "metadata": {
    "collapsed": false
   },
   "outputs": [],
   "source": [
    "def bellman_ford_shortest_path(source,graph):\n",
    "    # Initialize distances to the source node as infinity, or whatever you want to\n",
    "    # have infinity be. Just be sure that you treat it as a \"not yet visited\" distance\n",
    "    distances = {node: sys.maxsize for node in graph.nodes()}\n",
    "    \n",
    "    # Initialize the previous node that got to the current node. Used for path trace back\n",
    "    prevs = {node: None for node in graph.nodes()}\n",
    "    \n",
    "    # Distance from source to the source is 0.\n",
    "    distances[source] = 0\n",
    "\n",
    "    num_vertexes = len(graph.nodes())\n",
    "    \n",
    "    # For |V|-1 nodes, see if the distances between the edges between the nodes\n",
    "    # can decrease as you examine ALL the edges on each iteration. \n",
    "    for i in xrange(1,num_vertexes):\n",
    "        for edge in graph.edges():\n",
    "            from_node,to_node = edge\n",
    "            w = weight(graph,from_node,to_node)\n",
    "            if distances[from_node] != sys.maxsize and distances[from_node] + w < distances[to_node]:\n",
    "                distances[to_node] = distances[from_node] + w\n",
    "                prevs[to_node] = from_node\n",
    "\n",
    "    for edge in graph.edges():\n",
    "        from_node, to_node = edge\n",
    "        if distances[from_node] + weight(graph,from_node,to_node) < distances[to_node]:\n",
    "            raise Exception('Negative weight cycle detected!!')\n",
    "    \n",
    "    # What about negative weights?\n",
    "    return distances,prevs"
   ]
  },
  {
   "cell_type": "code",
   "execution_count": 9,
   "metadata": {
    "collapsed": false
   },
   "outputs": [
    {
     "name": "stdout",
     "output_type": "stream",
     "text": [
      "Path from <Node(0)> to <Node(9)> with distance 3: [<Node(0)>, <Node(8)>, <Node(7)>, <Node(9)>]\n"
     ]
    }
   ],
   "source": [
    "distances, previous = bellman_ford_shortest_path(d_source_node,DG)\n",
    "path = trace_back(d_source_node,d_test_node,previous)\n",
    "display_trace(d_source_node,d_test_node,distances[d_test_node],path)"
   ]
  },
  {
   "cell_type": "markdown",
   "metadata": {},
   "source": [
    "### Floyd-Warshall Algorithm\n",
    "\n",
    "For the purpose of exposure to more shortest path algorithms, I will show the Floyd-Warshall Algorithm that computes the shortest paths between *all* pairs of vertexes. This obviously requires a great deal of computation, so use it only when you need to.\n",
    "\n",
    "This algorithm takes advantage of dynamic programming, so that distances don't have to be recalculated over and over again. The algorithm lies on the idea that for every pair of node (i,j), there can be an intermediary node between them that reduces the distance between nodes i and k, and k and j, hence reducing the distance from i,j.\n",
    "\n",
    "This algorithm can be used for:\n",
    "* Weighted graphs (positive AND negative weights allowed)\n",
    "* No negative cycles\n",
    "\n",
    "Cons:\n",
    "* Computationally expensive (O( |# of vertexes|^3 )"
   ]
  },
  {
   "cell_type": "code",
   "execution_count": 10,
   "metadata": {
    "collapsed": false
   },
   "outputs": [],
   "source": [
    "def floyd_warshall_shortest_path(graph):\n",
    "    num_vertexes = len(graph.nodes())\n",
    "    distances = {node: {node : sys.maxsize for node in graph.nodes()} for node in graph.nodes()}\n",
    "    \n",
    "    # Distance from nodes to themselves should be 0. Treat this like the source distance\n",
    "    # in the above algorithms.\n",
    "    for node in graph.nodes():\n",
    "        distances[node][node] = 0\n",
    "    \n",
    "    # Iniitilize the distances between edges with the weights for each edge\n",
    "    for edge in graph.edges():\n",
    "        distances[edge[0]][edge[1]] = weight(graph,edge[0],edge[1])\n",
    "    \n",
    "    nodes = graph.nodes()\n",
    "    \n",
    "    # For each intermediary node\n",
    "    for node_k in nodes:\n",
    "        \n",
    "        # Get a source node\n",
    "        for node_i in nodes:\n",
    "            \n",
    "            # Get a destination node\n",
    "            for node_j in nodes:\n",
    "                \n",
    "                # Calculate the distance from i to k, and k to j\n",
    "                intermediate_distance = distances[node_i][node_k] + distances[node_k][node_j]\n",
    "                \n",
    "                # decrease distance if we find an intermediary node that produces a smaller distance to i and j\n",
    "                if distances[node_i][node_j] > intermediate_distance: \n",
    "                    distances[node_i][node_j] = intermediate_distance\n",
    "                    \n",
    "    return distances"
   ]
  },
  {
   "cell_type": "code",
   "execution_count": 11,
   "metadata": {
    "collapsed": false
   },
   "outputs": [
    {
     "name": "stdout",
     "output_type": "stream",
     "text": [
      "3\n"
     ]
    }
   ],
   "source": [
    "pairs = floyd_warshall_shortest_path(DG)\n",
    "print pairs[d_source_node][d_test_node]"
   ]
  },
  {
   "cell_type": "markdown",
   "metadata": {},
   "source": [
    "## Conclusion\n",
    "\n",
    "Overall, this tutorial was meant to provide you with some idea of what a shortest path algorithm is, the variants of a shortest path algorithm, and implemented code so that you can see the internals of the algorithm. This is by no means a comprehensive list of the shortest-path algorithms out there - there's many out there that are interesting and worth looking at.\n",
    "\n",
    "There is pseudocode out there for these algorithms (as I referenced when implementing the algorithms), however, I think a good way to really learn these algorithms are to actually write them and see how the data structures used in these algorithms work as a part of the whole program. There are so many different variations of the shortest path algorithm, and the performances vary with the type of graph representation you use. Analyze the problem you are doing and see which algorithm works best with what you have."
   ]
  },
  {
   "cell_type": "markdown",
   "metadata": {},
   "source": [
    "## Sources\n",
    "\n",
    "Here are the sources that I used to make this tutorial. If you want to learn more details, check them out:\n",
    "\n",
    "* http://www.geeksforgeeks.org/dynamic-programming-set-23-bellman-ford-algorithm/\n",
    "* https://en.wikipedia.org/wiki/Bellman%E2%80%93Ford_algorithm\n",
    "* http://cs.stackexchange.com/questions/14248/what-is-the-significance-of-negative-weight-edges-in-a-graph\n",
    "* https://courses.engr.illinois.edu/cs473/sp2011/lectures/03_class.pdf\n",
    "* https://courses.cs.washington.edu/courses/cse373/06sp/handouts/lecture22.pdf\n",
    "* https://en.wikipedia.org/wiki/Dijkstra%27s_algorithm\n",
    "* https://en.wikipedia.org/wiki/Floyd%E2%80%93Warshall_algorithm"
   ]
  },
  {
   "cell_type": "markdown",
   "metadata": {},
   "source": [
    "Thank you for reading this tutorial, I hope you learned something :)"
   ]
  }
 ],
 "metadata": {
  "anaconda-cloud": {},
  "kernelspec": {
   "display_name": "Python [Root]",
   "language": "python",
   "name": "Python [Root]"
  },
  "language_info": {
   "codemirror_mode": {
    "name": "ipython",
    "version": 2
   },
   "file_extension": ".py",
   "mimetype": "text/x-python",
   "name": "python",
   "nbconvert_exporter": "python",
   "pygments_lexer": "ipython2",
   "version": "2.7.12"
  }
 },
 "nbformat": 4,
 "nbformat_minor": 0
}
