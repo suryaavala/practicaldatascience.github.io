{
 "cells": [
  {
   "cell_type": "markdown",
   "metadata": {},
   "source": [
    "# Artificial Neural Networks"
   ]
  },
  {
   "cell_type": "markdown",
   "metadata": {},
   "source": [
    "In machine learning, a *neural network* is a learning algorithm which aims to simulate a human brain by using layers of *neurons* to process input into output. They boast incredible power, and are often used to tackle extremely difficult problems with high dimensionality inputs.\n",
    "\n",
    "In this tutorial, we will show how to use the premade neural network package `scikit-neuralnetwork` and then walk through how to program one from the mathematical theory."
   ]
  },
  {
   "cell_type": "markdown",
   "metadata": {},
   "source": [
    "## Introduction\n",
    "\n",
    "At a high level, a neural net performs multistep processing by passing data through its layers of neurons. Each layer is composed of weights which weigh evidence in the inputs to make some abstract conclusions. Each additional layer then takes these conclusions as input to produce even more abstract conclusions. This composition of multiple abstractions is very good at identifying patterns in large, chaotic inputs, like images.\n",
    "\n",
    "![An image visualizing the different layers of a Convolution Neural Network.](img/convnet.jpeg \"Convolutional Neural Network\")\n",
    "<center> A visualization of the different layers of outputs in an image recognition *convolutional* neural network. \n",
    "<br /> Source: http://cs231n.github.io/convolutional-networks/ </center>\n",
    "\n",
    "The above example shows how an image of a car is processed along the layers of a neural network. The conclusions made at each layer are not entirely obvious, but you should be able to see that the network is slowly figuring out the location of the car in the image. It determined the road and the background are not important, and has highlighted the shape and outline of the car in the later stages.\n",
    "\n",
    "While powerful, neural nets are not often used in practice because they require much time and data to train. However, they can still usually be found as the basis for image-related applications. One notable application of neural nets among the Japanese animation fandom is [waifu2x](http://waifu2x.udp.jp/), which is used for image upscaling. The network takes in a small image as input, and is trained to predict how the image looks like at 2x resolution.\n",
    "\n",
    "![](img/waifu2x_demo.jpg \"Waif2x Demo\")\n",
    "<center> Demo of waifu2x\n",
    "<br /> Source: http://waifu2x.udp.jp/ </center>"
   ]
  },
  {
   "cell_type": "markdown",
   "metadata": {},
   "source": [
    "## Playing with a Pre-Built Library\n",
    "\n",
    "We can examine the capabilities of a neural net using the [`scikit-neuralnetwork` package](http://scikit-neuralnetwork.readthedocs.io/en/latest/guide_model.html)."
   ]
  },
  {
   "cell_type": "markdown",
   "metadata": {},
   "source": [
    "### Setup\n",
    "\n",
    "This tutorial was written with the [Anaconda Python package](https://www.continuum.io/downloads) installed on a Windows 10 machine."
   ]
  },
  {
   "cell_type": "markdown",
   "metadata": {},
   "source": [
    "Make sure you can run the following commands."
   ]
  },
  {
   "cell_type": "code",
   "execution_count": 1,
   "metadata": {
    "collapsed": false,
    "scrolled": true
   },
   "outputs": [],
   "source": [
    "# Should all be available from the Anaconda package.\n",
    "import numpy as np\n",
    "import pickle\n",
    "import cPickle\n",
    "import gzip\n",
    "import matplotlib\n",
    "matplotlib.use(\"svg\")\n",
    "%matplotlib inline\n",
    "import matplotlib.pyplot as plt"
   ]
  },
  {
   "cell_type": "markdown",
   "metadata": {},
   "source": [
    "Next, install the `scikit-neuralnetwork` package. Run the following pip command in console.\n",
    "\n",
    "```\n",
    "pip install scikit-neuralnetwork\n",
    "```\n",
    "\n",
    "`scikit-neuralnetwork` depends on a package called [Theano](http://deeplearning.net/software/theano/). Theano is a popular optimization package for performing mathematical computation. Optimizations are often necessary in neural networks due to the computational intesity of training one.\n",
    "\n",
    "If you acquired Theano through the above pip command, then you may need additional steps to get Theano to work."
   ]
  },
  {
   "cell_type": "markdown",
   "metadata": {},
   "source": [
    "First try importing `scikit-neuralnetwork`."
   ]
  },
  {
   "cell_type": "code",
   "execution_count": 2,
   "metadata": {
    "collapsed": false,
    "scrolled": false
   },
   "outputs": [
    {
     "name": "stderr",
     "output_type": "stream",
     "text": [
      "C:\\Anaconda2\\lib\\site-packages\\sklearn\\cross_validation.py:44: DeprecationWarning: This module was deprecated in version 0.18 in favor of the model_selection module into which all the refactored classes and functions are moved. Also note that the interface of the new CV iterators are different from that of this module. This module will be removed in 0.20.\n",
      "  \"This module will be removed in 0.20.\", DeprecationWarning)\n"
     ]
    }
   ],
   "source": [
    "# Acquired from the pip-install command.\n",
    "from sknn.mlp import Classifier, Layer"
   ]
  },
  {
   "cell_type": "markdown",
   "metadata": {},
   "source": [
    "If you get a warning about \"missing g++,\" try the following steps (worked for my Windows 10 machine):\n",
    "\n",
    "1. Download TDM-GCC (gcc compiler suite for Windows): http://tdm-gcc.tdragon.net/download\n",
    "2. Check that the command `g++` works in Command Prompt. If not, check that `TDM-GCC-64\\bin` is in your system PATH.\n",
    "3. Run `conda install mingw libpython` in console.\n",
    "\n",
    "Then try running the import line again.\n",
    "\n",
    "(Taken from [StackOverflow: How to Install Theano on Anaconda Python 2.7](http://stackoverflow.com/questions/33687103/how-to-install-theano-on-anaconda-python-2-7-x64-on-windows))"
   ]
  },
  {
   "cell_type": "markdown",
   "metadata": {},
   "source": [
    "### MNIST Intro"
   ]
  },
  {
   "cell_type": "markdown",
   "metadata": {},
   "source": [
    "We will be working with the classic [MNIST dataset](http://yann.lecun.com/exdb/mnist/). It's a high curated dataset of images of handwritten digits. Each digit is labeled and also scaled and centered as a 28 px x 28 px image. Here are some examples:\n",
    "\n",
    "![](img/mnist_100_digits.png \"100 digits of MNIST\")\n",
    "<center>100 images of digits from the MNIST dataset\n",
    "<br />Source:  Michael Nielsen's online book [*Neural Network and Deep Learning*](http://neuralnetworksanddeeplearning.com/chap1.html) </center>"
   ]
  },
  {
   "cell_type": "markdown",
   "metadata": {},
   "source": [
    "We will be using Michael Nielsen's `mnist_loader` from his [online book](http://neuralnetworksanddeeplearning.com/) to load the dataset. `mnist_loader` loads all of the images as 1D-Numpy Arrays of black intensity values as well as labels of each image. It also divides the data into training, validation, and test.\n",
    "\n",
    "The .py file for `mnist_loader` has been included with this notebook."
   ]
  },
  {
   "cell_type": "markdown",
   "metadata": {},
   "source": [
    "### Loading MNIST"
   ]
  },
  {
   "cell_type": "markdown",
   "metadata": {},
   "source": [
    "Download the following archive (16.3 MB) of MNIST data. No need to uzip it. Just place it in the same folder as this notebook.\n",
    "\n",
    "https://github.com/mnielsen/neural-networks-and-deep-learning/blob/master/data/mnist.pkl.gz"
   ]
  },
  {
   "cell_type": "markdown",
   "metadata": {},
   "source": [
    "Now load the data."
   ]
  },
  {
   "cell_type": "code",
   "execution_count": 3,
   "metadata": {
    "collapsed": true
   },
   "outputs": [],
   "source": [
    "import mnist_loader\n",
    "training_data, validation_data, test_data = mnist_loader.load_data_wrapper()"
   ]
  },
  {
   "cell_type": "markdown",
   "metadata": {},
   "source": [
    "### Understanding the Data"
   ]
  },
  {
   "cell_type": "markdown",
   "metadata": {},
   "source": [
    "The inputs (or features) of our data are the 1D Arrays of pixel pntensities:"
   ]
  },
  {
   "cell_type": "code",
   "execution_count": 26,
   "metadata": {
    "collapsed": true
   },
   "outputs": [
    {
     "name": "stdout",
     "output_type": "stream",
     "text": [
      "Image data:\n"
     ]
    },
    {
     "data": {
      "text/plain": [
       "array([[ 0.        ],\n",
       "       [ 0.        ],\n",
       "       [ 0.        ],\n",
       "       [ 0.        ],\n",
       "       [ 0.        ],\n",
       "       [ 0.        ],\n",
       "       [ 0.        ],\n",
       "       [ 0.        ],\n",
       "       [ 0.        ],\n",
       "       [ 0.        ],\n",
       "       [ 0.        ],\n",
       "       [ 0.        ],\n",
       "       [ 0.        ],\n",
       "       [ 0.        ],\n",
       "       [ 0.        ],\n",
       "       [ 0.        ],\n",
       "       [ 0.        ],\n",
       "       [ 0.        ],\n",
       "       [ 0.        ],\n",
       "       [ 0.        ],\n",
       "       [ 0.        ],\n",
       "       [ 0.        ],\n",
       "       [ 0.        ],\n",
       "       [ 0.        ],\n",
       "       [ 0.        ],\n",
       "       [ 0.        ],\n",
       "       [ 0.        ],\n",
       "       [ 0.        ],\n",
       "       [ 0.        ],\n",
       "       [ 0.        ],\n",
       "       [ 0.        ],\n",
       "       [ 0.        ],\n",
       "       [ 0.        ],\n",
       "       [ 0.        ],\n",
       "       [ 0.        ],\n",
       "       [ 0.        ],\n",
       "       [ 0.        ],\n",
       "       [ 0.        ],\n",
       "       [ 0.        ],\n",
       "       [ 0.        ],\n",
       "       [ 0.        ],\n",
       "       [ 0.        ],\n",
       "       [ 0.        ],\n",
       "       [ 0.        ],\n",
       "       [ 0.        ],\n",
       "       [ 0.        ],\n",
       "       [ 0.        ],\n",
       "       [ 0.        ],\n",
       "       [ 0.        ],\n",
       "       [ 0.        ],\n",
       "       [ 0.        ],\n",
       "       [ 0.        ],\n",
       "       [ 0.        ],\n",
       "       [ 0.        ],\n",
       "       [ 0.        ],\n",
       "       [ 0.        ],\n",
       "       [ 0.        ],\n",
       "       [ 0.        ],\n",
       "       [ 0.        ],\n",
       "       [ 0.        ],\n",
       "       [ 0.        ],\n",
       "       [ 0.        ],\n",
       "       [ 0.        ],\n",
       "       [ 0.        ],\n",
       "       [ 0.        ],\n",
       "       [ 0.        ],\n",
       "       [ 0.        ],\n",
       "       [ 0.        ],\n",
       "       [ 0.        ],\n",
       "       [ 0.        ],\n",
       "       [ 0.        ],\n",
       "       [ 0.        ],\n",
       "       [ 0.        ],\n",
       "       [ 0.        ],\n",
       "       [ 0.        ],\n",
       "       [ 0.        ],\n",
       "       [ 0.        ],\n",
       "       [ 0.        ],\n",
       "       [ 0.        ],\n",
       "       [ 0.        ],\n",
       "       [ 0.        ],\n",
       "       [ 0.        ],\n",
       "       [ 0.        ],\n",
       "       [ 0.        ],\n",
       "       [ 0.        ],\n",
       "       [ 0.        ],\n",
       "       [ 0.        ],\n",
       "       [ 0.        ],\n",
       "       [ 0.        ],\n",
       "       [ 0.        ],\n",
       "       [ 0.        ],\n",
       "       [ 0.        ],\n",
       "       [ 0.        ],\n",
       "       [ 0.        ],\n",
       "       [ 0.        ],\n",
       "       [ 0.        ],\n",
       "       [ 0.        ],\n",
       "       [ 0.        ],\n",
       "       [ 0.        ],\n",
       "       [ 0.        ],\n",
       "       [ 0.        ],\n",
       "       [ 0.        ],\n",
       "       [ 0.        ],\n",
       "       [ 0.        ],\n",
       "       [ 0.        ],\n",
       "       [ 0.        ],\n",
       "       [ 0.        ],\n",
       "       [ 0.        ],\n",
       "       [ 0.        ],\n",
       "       [ 0.        ],\n",
       "       [ 0.        ],\n",
       "       [ 0.        ],\n",
       "       [ 0.        ],\n",
       "       [ 0.        ],\n",
       "       [ 0.        ],\n",
       "       [ 0.        ],\n",
       "       [ 0.        ],\n",
       "       [ 0.        ],\n",
       "       [ 0.        ],\n",
       "       [ 0.        ],\n",
       "       [ 0.        ],\n",
       "       [ 0.        ],\n",
       "       [ 0.        ],\n",
       "       [ 0.        ],\n",
       "       [ 0.        ],\n",
       "       [ 0.        ],\n",
       "       [ 0.        ],\n",
       "       [ 0.        ],\n",
       "       [ 0.        ],\n",
       "       [ 0.        ],\n",
       "       [ 0.        ],\n",
       "       [ 0.        ],\n",
       "       [ 0.        ],\n",
       "       [ 0.        ],\n",
       "       [ 0.        ],\n",
       "       [ 0.        ],\n",
       "       [ 0.        ],\n",
       "       [ 0.        ],\n",
       "       [ 0.        ],\n",
       "       [ 0.        ],\n",
       "       [ 0.        ],\n",
       "       [ 0.        ],\n",
       "       [ 0.        ],\n",
       "       [ 0.        ],\n",
       "       [ 0.        ],\n",
       "       [ 0.        ],\n",
       "       [ 0.        ],\n",
       "       [ 0.        ],\n",
       "       [ 0.        ],\n",
       "       [ 0.        ],\n",
       "       [ 0.        ],\n",
       "       [ 0.        ],\n",
       "       [ 0.01171875],\n",
       "       [ 0.0703125 ],\n",
       "       [ 0.0703125 ],\n",
       "       [ 0.0703125 ],\n",
       "       [ 0.4921875 ],\n",
       "       [ 0.53125   ],\n",
       "       [ 0.68359375],\n",
       "       [ 0.1015625 ],\n",
       "       [ 0.6484375 ],\n",
       "       [ 0.99609375],\n",
       "       [ 0.96484375],\n",
       "       [ 0.49609375],\n",
       "       [ 0.        ],\n",
       "       [ 0.        ],\n",
       "       [ 0.        ],\n",
       "       [ 0.        ],\n",
       "       [ 0.        ],\n",
       "       [ 0.        ],\n",
       "       [ 0.        ],\n",
       "       [ 0.        ],\n",
       "       [ 0.        ],\n",
       "       [ 0.        ],\n",
       "       [ 0.        ],\n",
       "       [ 0.        ],\n",
       "       [ 0.1171875 ],\n",
       "       [ 0.140625  ],\n",
       "       [ 0.3671875 ],\n",
       "       [ 0.6015625 ],\n",
       "       [ 0.6640625 ],\n",
       "       [ 0.98828125],\n",
       "       [ 0.98828125],\n",
       "       [ 0.98828125],\n",
       "       [ 0.98828125],\n",
       "       [ 0.98828125],\n",
       "       [ 0.87890625],\n",
       "       [ 0.671875  ],\n",
       "       [ 0.98828125],\n",
       "       [ 0.9453125 ],\n",
       "       [ 0.76171875],\n",
       "       [ 0.25      ],\n",
       "       [ 0.        ],\n",
       "       [ 0.        ],\n",
       "       [ 0.        ],\n",
       "       [ 0.        ],\n",
       "       [ 0.        ],\n",
       "       [ 0.        ],\n",
       "       [ 0.        ],\n",
       "       [ 0.        ],\n",
       "       [ 0.        ],\n",
       "       [ 0.        ],\n",
       "       [ 0.        ],\n",
       "       [ 0.19140625],\n",
       "       [ 0.9296875 ],\n",
       "       [ 0.98828125],\n",
       "       [ 0.98828125],\n",
       "       [ 0.98828125],\n",
       "       [ 0.98828125],\n",
       "       [ 0.98828125],\n",
       "       [ 0.98828125],\n",
       "       [ 0.98828125],\n",
       "       [ 0.98828125],\n",
       "       [ 0.98046875],\n",
       "       [ 0.36328125],\n",
       "       [ 0.3203125 ],\n",
       "       [ 0.3203125 ],\n",
       "       [ 0.21875   ],\n",
       "       [ 0.15234375],\n",
       "       [ 0.        ],\n",
       "       [ 0.        ],\n",
       "       [ 0.        ],\n",
       "       [ 0.        ],\n",
       "       [ 0.        ],\n",
       "       [ 0.        ],\n",
       "       [ 0.        ],\n",
       "       [ 0.        ],\n",
       "       [ 0.        ],\n",
       "       [ 0.        ],\n",
       "       [ 0.        ],\n",
       "       [ 0.        ],\n",
       "       [ 0.0703125 ],\n",
       "       [ 0.85546875],\n",
       "       [ 0.98828125],\n",
       "       [ 0.98828125],\n",
       "       [ 0.98828125],\n",
       "       [ 0.98828125],\n",
       "       [ 0.98828125],\n",
       "       [ 0.7734375 ],\n",
       "       [ 0.7109375 ],\n",
       "       [ 0.96484375],\n",
       "       [ 0.94140625],\n",
       "       [ 0.        ],\n",
       "       [ 0.        ],\n",
       "       [ 0.        ],\n",
       "       [ 0.        ],\n",
       "       [ 0.        ],\n",
       "       [ 0.        ],\n",
       "       [ 0.        ],\n",
       "       [ 0.        ],\n",
       "       [ 0.        ],\n",
       "       [ 0.        ],\n",
       "       [ 0.        ],\n",
       "       [ 0.        ],\n",
       "       [ 0.        ],\n",
       "       [ 0.        ],\n",
       "       [ 0.        ],\n",
       "       [ 0.        ],\n",
       "       [ 0.        ],\n",
       "       [ 0.        ],\n",
       "       [ 0.3125    ],\n",
       "       [ 0.609375  ],\n",
       "       [ 0.41796875],\n",
       "       [ 0.98828125],\n",
       "       [ 0.98828125],\n",
       "       [ 0.80078125],\n",
       "       [ 0.04296875],\n",
       "       [ 0.        ],\n",
       "       [ 0.16796875],\n",
       "       [ 0.6015625 ],\n",
       "       [ 0.        ],\n",
       "       [ 0.        ],\n",
       "       [ 0.        ],\n",
       "       [ 0.        ],\n",
       "       [ 0.        ],\n",
       "       [ 0.        ],\n",
       "       [ 0.        ],\n",
       "       [ 0.        ],\n",
       "       [ 0.        ],\n",
       "       [ 0.        ],\n",
       "       [ 0.        ],\n",
       "       [ 0.        ],\n",
       "       [ 0.        ],\n",
       "       [ 0.        ],\n",
       "       [ 0.        ],\n",
       "       [ 0.        ],\n",
       "       [ 0.        ],\n",
       "       [ 0.        ],\n",
       "       [ 0.        ],\n",
       "       [ 0.0546875 ],\n",
       "       [ 0.00390625],\n",
       "       [ 0.6015625 ],\n",
       "       [ 0.98828125],\n",
       "       [ 0.3515625 ],\n",
       "       [ 0.        ],\n",
       "       [ 0.        ],\n",
       "       [ 0.        ],\n",
       "       [ 0.        ],\n",
       "       [ 0.        ],\n",
       "       [ 0.        ],\n",
       "       [ 0.        ],\n",
       "       [ 0.        ],\n",
       "       [ 0.        ],\n",
       "       [ 0.        ],\n",
       "       [ 0.        ],\n",
       "       [ 0.        ],\n",
       "       [ 0.        ],\n",
       "       [ 0.        ],\n",
       "       [ 0.        ],\n",
       "       [ 0.        ],\n",
       "       [ 0.        ],\n",
       "       [ 0.        ],\n",
       "       [ 0.        ],\n",
       "       [ 0.        ],\n",
       "       [ 0.        ],\n",
       "       [ 0.        ],\n",
       "       [ 0.        ],\n",
       "       [ 0.        ],\n",
       "       [ 0.        ],\n",
       "       [ 0.54296875],\n",
       "       [ 0.98828125],\n",
       "       [ 0.7421875 ],\n",
       "       [ 0.0078125 ],\n",
       "       [ 0.        ],\n",
       "       [ 0.        ],\n",
       "       [ 0.        ],\n",
       "       [ 0.        ],\n",
       "       [ 0.        ],\n",
       "       [ 0.        ],\n",
       "       [ 0.        ],\n",
       "       [ 0.        ],\n",
       "       [ 0.        ],\n",
       "       [ 0.        ],\n",
       "       [ 0.        ],\n",
       "       [ 0.        ],\n",
       "       [ 0.        ],\n",
       "       [ 0.        ],\n",
       "       [ 0.        ],\n",
       "       [ 0.        ],\n",
       "       [ 0.        ],\n",
       "       [ 0.        ],\n",
       "       [ 0.        ],\n",
       "       [ 0.        ],\n",
       "       [ 0.        ],\n",
       "       [ 0.        ],\n",
       "       [ 0.        ],\n",
       "       [ 0.        ],\n",
       "       [ 0.04296875],\n",
       "       [ 0.7421875 ],\n",
       "       [ 0.98828125],\n",
       "       [ 0.2734375 ],\n",
       "       [ 0.        ],\n",
       "       [ 0.        ],\n",
       "       [ 0.        ],\n",
       "       [ 0.        ],\n",
       "       [ 0.        ],\n",
       "       [ 0.        ],\n",
       "       [ 0.        ],\n",
       "       [ 0.        ],\n",
       "       [ 0.        ],\n",
       "       [ 0.        ],\n",
       "       [ 0.        ],\n",
       "       [ 0.        ],\n",
       "       [ 0.        ],\n",
       "       [ 0.        ],\n",
       "       [ 0.        ],\n",
       "       [ 0.        ],\n",
       "       [ 0.        ],\n",
       "       [ 0.        ],\n",
       "       [ 0.        ],\n",
       "       [ 0.        ],\n",
       "       [ 0.        ],\n",
       "       [ 0.        ],\n",
       "       [ 0.        ],\n",
       "       [ 0.        ],\n",
       "       [ 0.        ],\n",
       "       [ 0.13671875],\n",
       "       [ 0.94140625],\n",
       "       [ 0.87890625],\n",
       "       [ 0.625     ],\n",
       "       [ 0.421875  ],\n",
       "       [ 0.00390625],\n",
       "       [ 0.        ],\n",
       "       [ 0.        ],\n",
       "       [ 0.        ],\n",
       "       [ 0.        ],\n",
       "       [ 0.        ],\n",
       "       [ 0.        ],\n",
       "       [ 0.        ],\n",
       "       [ 0.        ],\n",
       "       [ 0.        ],\n",
       "       [ 0.        ],\n",
       "       [ 0.        ],\n",
       "       [ 0.        ],\n",
       "       [ 0.        ],\n",
       "       [ 0.        ],\n",
       "       [ 0.        ],\n",
       "       [ 0.        ],\n",
       "       [ 0.        ],\n",
       "       [ 0.        ],\n",
       "       [ 0.        ],\n",
       "       [ 0.        ],\n",
       "       [ 0.        ],\n",
       "       [ 0.        ],\n",
       "       [ 0.        ],\n",
       "       [ 0.31640625],\n",
       "       [ 0.9375    ],\n",
       "       [ 0.98828125],\n",
       "       [ 0.98828125],\n",
       "       [ 0.46484375],\n",
       "       [ 0.09765625],\n",
       "       [ 0.        ],\n",
       "       [ 0.        ],\n",
       "       [ 0.        ],\n",
       "       [ 0.        ],\n",
       "       [ 0.        ],\n",
       "       [ 0.        ],\n",
       "       [ 0.        ],\n",
       "       [ 0.        ],\n",
       "       [ 0.        ],\n",
       "       [ 0.        ],\n",
       "       [ 0.        ],\n",
       "       [ 0.        ],\n",
       "       [ 0.        ],\n",
       "       [ 0.        ],\n",
       "       [ 0.        ],\n",
       "       [ 0.        ],\n",
       "       [ 0.        ],\n",
       "       [ 0.        ],\n",
       "       [ 0.        ],\n",
       "       [ 0.        ],\n",
       "       [ 0.        ],\n",
       "       [ 0.        ],\n",
       "       [ 0.        ],\n",
       "       [ 0.17578125],\n",
       "       [ 0.7265625 ],\n",
       "       [ 0.98828125],\n",
       "       [ 0.98828125],\n",
       "       [ 0.5859375 ],\n",
       "       [ 0.10546875],\n",
       "       [ 0.        ],\n",
       "       [ 0.        ],\n",
       "       [ 0.        ],\n",
       "       [ 0.        ],\n",
       "       [ 0.        ],\n",
       "       [ 0.        ],\n",
       "       [ 0.        ],\n",
       "       [ 0.        ],\n",
       "       [ 0.        ],\n",
       "       [ 0.        ],\n",
       "       [ 0.        ],\n",
       "       [ 0.        ],\n",
       "       [ 0.        ],\n",
       "       [ 0.        ],\n",
       "       [ 0.        ],\n",
       "       [ 0.        ],\n",
       "       [ 0.        ],\n",
       "       [ 0.        ],\n",
       "       [ 0.        ],\n",
       "       [ 0.        ],\n",
       "       [ 0.        ],\n",
       "       [ 0.        ],\n",
       "       [ 0.        ],\n",
       "       [ 0.0625    ],\n",
       "       [ 0.36328125],\n",
       "       [ 0.984375  ],\n",
       "       [ 0.98828125],\n",
       "       [ 0.73046875],\n",
       "       [ 0.        ],\n",
       "       [ 0.        ],\n",
       "       [ 0.        ],\n",
       "       [ 0.        ],\n",
       "       [ 0.        ],\n",
       "       [ 0.        ],\n",
       "       [ 0.        ],\n",
       "       [ 0.        ],\n",
       "       [ 0.        ],\n",
       "       [ 0.        ],\n",
       "       [ 0.        ],\n",
       "       [ 0.        ],\n",
       "       [ 0.        ],\n",
       "       [ 0.        ],\n",
       "       [ 0.        ],\n",
       "       [ 0.        ],\n",
       "       [ 0.        ],\n",
       "       [ 0.        ],\n",
       "       [ 0.        ],\n",
       "       [ 0.        ],\n",
       "       [ 0.        ],\n",
       "       [ 0.        ],\n",
       "       [ 0.        ],\n",
       "       [ 0.        ],\n",
       "       [ 0.        ],\n",
       "       [ 0.97265625],\n",
       "       [ 0.98828125],\n",
       "       [ 0.97265625],\n",
       "       [ 0.25      ],\n",
       "       [ 0.        ],\n",
       "       [ 0.        ],\n",
       "       [ 0.        ],\n",
       "       [ 0.        ],\n",
       "       [ 0.        ],\n",
       "       [ 0.        ],\n",
       "       [ 0.        ],\n",
       "       [ 0.        ],\n",
       "       [ 0.        ],\n",
       "       [ 0.        ],\n",
       "       [ 0.        ],\n",
       "       [ 0.        ],\n",
       "       [ 0.        ],\n",
       "       [ 0.        ],\n",
       "       [ 0.        ],\n",
       "       [ 0.        ],\n",
       "       [ 0.        ],\n",
       "       [ 0.        ],\n",
       "       [ 0.        ],\n",
       "       [ 0.        ],\n",
       "       [ 0.        ],\n",
       "       [ 0.1796875 ],\n",
       "       [ 0.5078125 ],\n",
       "       [ 0.71484375],\n",
       "       [ 0.98828125],\n",
       "       [ 0.98828125],\n",
       "       [ 0.80859375],\n",
       "       [ 0.0078125 ],\n",
       "       [ 0.        ],\n",
       "       [ 0.        ],\n",
       "       [ 0.        ],\n",
       "       [ 0.        ],\n",
       "       [ 0.        ],\n",
       "       [ 0.        ],\n",
       "       [ 0.        ],\n",
       "       [ 0.        ],\n",
       "       [ 0.        ],\n",
       "       [ 0.        ],\n",
       "       [ 0.        ],\n",
       "       [ 0.        ],\n",
       "       [ 0.        ],\n",
       "       [ 0.        ],\n",
       "       [ 0.        ],\n",
       "       [ 0.        ],\n",
       "       [ 0.        ],\n",
       "       [ 0.        ],\n",
       "       [ 0.        ],\n",
       "       [ 0.15234375],\n",
       "       [ 0.578125  ],\n",
       "       [ 0.89453125],\n",
       "       [ 0.98828125],\n",
       "       [ 0.98828125],\n",
       "       [ 0.98828125],\n",
       "       [ 0.9765625 ],\n",
       "       [ 0.7109375 ],\n",
       "       [ 0.        ],\n",
       "       [ 0.        ],\n",
       "       [ 0.        ],\n",
       "       [ 0.        ],\n",
       "       [ 0.        ],\n",
       "       [ 0.        ],\n",
       "       [ 0.        ],\n",
       "       [ 0.        ],\n",
       "       [ 0.        ],\n",
       "       [ 0.        ],\n",
       "       [ 0.        ],\n",
       "       [ 0.        ],\n",
       "       [ 0.        ],\n",
       "       [ 0.        ],\n",
       "       [ 0.        ],\n",
       "       [ 0.        ],\n",
       "       [ 0.        ],\n",
       "       [ 0.        ],\n",
       "       [ 0.09375   ],\n",
       "       [ 0.4453125 ],\n",
       "       [ 0.86328125],\n",
       "       [ 0.98828125],\n",
       "       [ 0.98828125],\n",
       "       [ 0.98828125],\n",
       "       [ 0.98828125],\n",
       "       [ 0.78515625],\n",
       "       [ 0.3046875 ],\n",
       "       [ 0.        ],\n",
       "       [ 0.        ],\n",
       "       [ 0.        ],\n",
       "       [ 0.        ],\n",
       "       [ 0.        ],\n",
       "       [ 0.        ],\n",
       "       [ 0.        ],\n",
       "       [ 0.        ],\n",
       "       [ 0.        ],\n",
       "       [ 0.        ],\n",
       "       [ 0.        ],\n",
       "       [ 0.        ],\n",
       "       [ 0.        ],\n",
       "       [ 0.        ],\n",
       "       [ 0.        ],\n",
       "       [ 0.        ],\n",
       "       [ 0.        ],\n",
       "       [ 0.08984375],\n",
       "       [ 0.2578125 ],\n",
       "       [ 0.83203125],\n",
       "       [ 0.98828125],\n",
       "       [ 0.98828125],\n",
       "       [ 0.98828125],\n",
       "       [ 0.98828125],\n",
       "       [ 0.7734375 ],\n",
       "       [ 0.31640625],\n",
       "       [ 0.0078125 ],\n",
       "       [ 0.        ],\n",
       "       [ 0.        ],\n",
       "       [ 0.        ],\n",
       "       [ 0.        ],\n",
       "       [ 0.        ],\n",
       "       [ 0.        ],\n",
       "       [ 0.        ],\n",
       "       [ 0.        ],\n",
       "       [ 0.        ],\n",
       "       [ 0.        ],\n",
       "       [ 0.        ],\n",
       "       [ 0.        ],\n",
       "       [ 0.        ],\n",
       "       [ 0.        ],\n",
       "       [ 0.        ],\n",
       "       [ 0.        ],\n",
       "       [ 0.0703125 ],\n",
       "       [ 0.66796875],\n",
       "       [ 0.85546875],\n",
       "       [ 0.98828125],\n",
       "       [ 0.98828125],\n",
       "       [ 0.98828125],\n",
       "       [ 0.98828125],\n",
       "       [ 0.76171875],\n",
       "       [ 0.3125    ],\n",
       "       [ 0.03515625],\n",
       "       [ 0.        ],\n",
       "       [ 0.        ],\n",
       "       [ 0.        ],\n",
       "       [ 0.        ],\n",
       "       [ 0.        ],\n",
       "       [ 0.        ],\n",
       "       [ 0.        ],\n",
       "       [ 0.        ],\n",
       "       [ 0.        ],\n",
       "       [ 0.        ],\n",
       "       [ 0.        ],\n",
       "       [ 0.        ],\n",
       "       [ 0.        ],\n",
       "       [ 0.        ],\n",
       "       [ 0.        ],\n",
       "       [ 0.        ],\n",
       "       [ 0.21484375],\n",
       "       [ 0.671875  ],\n",
       "       [ 0.8828125 ],\n",
       "       [ 0.98828125],\n",
       "       [ 0.98828125],\n",
       "       [ 0.98828125],\n",
       "       [ 0.98828125],\n",
       "       [ 0.953125  ],\n",
       "       [ 0.51953125],\n",
       "       [ 0.04296875],\n",
       "       [ 0.        ],\n",
       "       [ 0.        ],\n",
       "       [ 0.        ],\n",
       "       [ 0.        ],\n",
       "       [ 0.        ],\n",
       "       [ 0.        ],\n",
       "       [ 0.        ],\n",
       "       [ 0.        ],\n",
       "       [ 0.        ],\n",
       "       [ 0.        ],\n",
       "       [ 0.        ],\n",
       "       [ 0.        ],\n",
       "       [ 0.        ],\n",
       "       [ 0.        ],\n",
       "       [ 0.        ],\n",
       "       [ 0.        ],\n",
       "       [ 0.        ],\n",
       "       [ 0.        ],\n",
       "       [ 0.53125   ],\n",
       "       [ 0.98828125],\n",
       "       [ 0.98828125],\n",
       "       [ 0.98828125],\n",
       "       [ 0.828125  ],\n",
       "       [ 0.52734375],\n",
       "       [ 0.515625  ],\n",
       "       [ 0.0625    ],\n",
       "       [ 0.        ],\n",
       "       [ 0.        ],\n",
       "       [ 0.        ],\n",
       "       [ 0.        ],\n",
       "       [ 0.        ],\n",
       "       [ 0.        ],\n",
       "       [ 0.        ],\n",
       "       [ 0.        ],\n",
       "       [ 0.        ],\n",
       "       [ 0.        ],\n",
       "       [ 0.        ],\n",
       "       [ 0.        ],\n",
       "       [ 0.        ],\n",
       "       [ 0.        ],\n",
       "       [ 0.        ],\n",
       "       [ 0.        ],\n",
       "       [ 0.        ],\n",
       "       [ 0.        ],\n",
       "       [ 0.        ],\n",
       "       [ 0.        ],\n",
       "       [ 0.        ],\n",
       "       [ 0.        ],\n",
       "       [ 0.        ],\n",
       "       [ 0.        ],\n",
       "       [ 0.        ],\n",
       "       [ 0.        ],\n",
       "       [ 0.        ],\n",
       "       [ 0.        ],\n",
       "       [ 0.        ],\n",
       "       [ 0.        ],\n",
       "       [ 0.        ],\n",
       "       [ 0.        ],\n",
       "       [ 0.        ],\n",
       "       [ 0.        ],\n",
       "       [ 0.        ],\n",
       "       [ 0.        ],\n",
       "       [ 0.        ],\n",
       "       [ 0.        ],\n",
       "       [ 0.        ],\n",
       "       [ 0.        ],\n",
       "       [ 0.        ],\n",
       "       [ 0.        ],\n",
       "       [ 0.        ],\n",
       "       [ 0.        ],\n",
       "       [ 0.        ],\n",
       "       [ 0.        ],\n",
       "       [ 0.        ],\n",
       "       [ 0.        ],\n",
       "       [ 0.        ],\n",
       "       [ 0.        ],\n",
       "       [ 0.        ],\n",
       "       [ 0.        ],\n",
       "       [ 0.        ],\n",
       "       [ 0.        ],\n",
       "       [ 0.        ],\n",
       "       [ 0.        ],\n",
       "       [ 0.        ],\n",
       "       [ 0.        ],\n",
       "       [ 0.        ],\n",
       "       [ 0.        ],\n",
       "       [ 0.        ],\n",
       "       [ 0.        ],\n",
       "       [ 0.        ],\n",
       "       [ 0.        ],\n",
       "       [ 0.        ],\n",
       "       [ 0.        ],\n",
       "       [ 0.        ],\n",
       "       [ 0.        ],\n",
       "       [ 0.        ],\n",
       "       [ 0.        ],\n",
       "       [ 0.        ],\n",
       "       [ 0.        ],\n",
       "       [ 0.        ],\n",
       "       [ 0.        ],\n",
       "       [ 0.        ],\n",
       "       [ 0.        ],\n",
       "       [ 0.        ],\n",
       "       [ 0.        ],\n",
       "       [ 0.        ],\n",
       "       [ 0.        ],\n",
       "       [ 0.        ],\n",
       "       [ 0.        ],\n",
       "       [ 0.        ],\n",
       "       [ 0.        ],\n",
       "       [ 0.        ],\n",
       "       [ 0.        ],\n",
       "       [ 0.        ],\n",
       "       [ 0.        ],\n",
       "       [ 0.        ],\n",
       "       [ 0.        ],\n",
       "       [ 0.        ],\n",
       "       [ 0.        ],\n",
       "       [ 0.        ],\n",
       "       [ 0.        ],\n",
       "       [ 0.        ],\n",
       "       [ 0.        ],\n",
       "       [ 0.        ],\n",
       "       [ 0.        ],\n",
       "       [ 0.        ],\n",
       "       [ 0.        ]], dtype=float32)"
      ]
     },
     "execution_count": 26,
     "metadata": {},
     "output_type": "execute_result"
    }
   ],
   "source": [
    "# Prints the 1D Numpy array representing an image.\n",
    "print \"Image data:\"\n",
    "training_data[0][0]"
   ]
  },
  {
   "cell_type": "markdown",
   "metadata": {},
   "source": [
    "The training data labels (or outputs) are \"0\", \"1\", \"2\", ..., \"9\", but given as a 1D Numpy Array in a [One-Hot Encoding](https://en.wikipedia.org/wiki/One-hot). In this case, it means that if the image labelled as a \"5\", then the 5th element of the one-hot encoded array is 1 and the rest of the elements are 0. If an image was labelled \"8\", then only the 8th element would be 1."
   ]
  },
  {
   "cell_type": "code",
   "execution_count": 5,
   "metadata": {
    "collapsed": false,
    "scrolled": true
   },
   "outputs": [
    {
     "name": "stdout",
     "output_type": "stream",
     "text": [
      "Training Data Label:\n",
      "[[ 0.]\n",
      " [ 0.]\n",
      " [ 0.]\n",
      " [ 0.]\n",
      " [ 0.]\n",
      " [ 1.]\n",
      " [ 0.]\n",
      " [ 0.]\n",
      " [ 0.]\n",
      " [ 0.]]\n",
      "This represents the label: 5\n"
     ]
    }
   ],
   "source": [
    "# Prints the training_data labels\n",
    "# It's 1D Numpy Array which represents a \"One-Hot Encoding\" of what digit it is\n",
    "# So if index 5 is 1, then the digit is a \"5\"\n",
    "print \"Training Data Label:\"\n",
    "print training_data[0][1]\n",
    "\n",
    "# You can use numpy.argmax to determine the label.\n",
    "print \"This represents the label:\", (training_data[0][1]).argmax()"
   ]
  },
  {
   "cell_type": "markdown",
   "metadata": {},
   "source": [
    "Only the training data is in one-hot. The validation and test dataset labels are integers."
   ]
  },
  {
   "cell_type": "code",
   "execution_count": 6,
   "metadata": {
    "collapsed": false
   },
   "outputs": [
    {
     "name": "stdout",
     "output_type": "stream",
     "text": [
      "Validation Data Label:\n",
      "3 <type 'numpy.int64'>\n",
      "Testing Data Label:\n",
      "7 <type 'numpy.int64'>\n"
     ]
    }
   ],
   "source": [
    "print \"Validation Data Label:\"\n",
    "print validation_data[0][1], type(validation_data[0][1])\n",
    "\n",
    "print \"Testing Data Label:\"\n",
    "print test_data[0][1], type(test_data[0][1])"
   ]
  },
  {
   "cell_type": "markdown",
   "metadata": {},
   "source": [
    "The image data as an array doesn't really make much sense to us humans. We can get a visual of the array using `matlibplot`. The results should resemble the original image."
   ]
  },
  {
   "cell_type": "code",
   "execution_count": 7,
   "metadata": {
    "collapsed": false
   },
   "outputs": [
    {
     "name": "stdout",
     "output_type": "stream",
     "text": [
      "The below image shows a 5\n"
     ]
    },
    {
     "data": {
      "image/png": "[encoded data removed]",
      "text/plain": [
       "<matplotlib.figure.Figure at 0x9c56dd8>"
      ]
     },
     "metadata": {},
     "output_type": "display_data"
    },
    {
     "name": "stdout",
     "output_type": "stream",
     "text": [
      "The below image shows a 0\n"
     ]
    },
    {
     "data": {
      "image/png": "[encoded data removed]",
      "text/plain": [
       "<matplotlib.figure.Figure at 0xa446240>"
      ]
     },
     "metadata": {},
     "output_type": "display_data"
    },
    {
     "name": "stdout",
     "output_type": "stream",
     "text": [
      "The below image shows a 4\n"
     ]
    },
    {
     "data": {
      "image/png": "[encoded data removed]",
      "text/plain": [
       "<matplotlib.figure.Figure at 0xbb22cc0>"
      ]
     },
     "metadata": {},
     "output_type": "display_data"
    }
   ],
   "source": [
    "def print_data_point(image, label):\n",
    "    print \"The below image shows a\", label\n",
    "    # Taken from http://stackoverflow.com/questions/2659312/how-do-i-convert-a-numpy-array-to-and-display-an-image\n",
    "    plt.imshow(image.reshape(28,28), interpolation='nearest')\n",
    "    plt.show()\n",
    "\n",
    "for image, out in training_data[:3]:\n",
    "    print_data_point(image, np.argmax(out))"
   ]
  },
  {
   "cell_type": "markdown",
   "metadata": {},
   "source": [
    "### Training a `Classifier` from `scikit-neuralnetwork`"
   ]
  },
  {
   "cell_type": "markdown",
   "metadata": {},
   "source": [
    "Now we're ready to use `scikit-neuralnetwork`. The following code prepares the MNIST data as input matracies and vectors."
   ]
  },
  {
   "cell_type": "code",
   "execution_count": 8,
   "metadata": {
    "collapsed": false
   },
   "outputs": [
    {
     "name": "stdout",
     "output_type": "stream",
     "text": [
      "[[ 0.  0.  0. ...,  0.  0.  0.]\n",
      " [ 0.  0.  0. ...,  0.  0.  0.]\n",
      " [ 0.  0.  0. ...,  0.  0.  0.]\n",
      " ..., \n",
      " [ 0.  0.  0. ...,  0.  0.  0.]\n",
      " [ 0.  0.  0. ...,  0.  0.  0.]\n",
      " [ 0.  0.  0. ...,  0.  0.  0.]]\n",
      "[[5]\n",
      " [0]\n",
      " [4]\n",
      " ..., \n",
      " [8]\n",
      " [4]\n",
      " [8]]\n",
      "[[ 0.  0.  0. ...,  0.  0.  0.]\n",
      " [ 0.  0.  0. ...,  0.  0.  0.]\n",
      " [ 0.  0.  0. ...,  0.  0.  0.]\n",
      " ..., \n",
      " [ 0.  0.  0. ...,  0.  0.  0.]\n",
      " [ 0.  0.  0. ...,  0.  0.  0.]\n",
      " [ 0.  0.  0. ...,  0.  0.  0.]]\n",
      "[[7]\n",
      " [2]\n",
      " [1]\n",
      " ..., \n",
      " [4]\n",
      " [5]\n",
      " [6]]\n"
     ]
    }
   ],
   "source": [
    "# Number of samples to use for training.\n",
    "# You can adjust this if you like. But you really need all the data you can get when training a Neural network\n",
    "samples_to_use = len(training_data)\n",
    "\n",
    "# Matrix of inputs. Each row is an example image.\n",
    "X_train = np.array([image.ravel() for image, out in training_data[:samples_to_use]])\n",
    "X_test = np.array([image.ravel() for image, out in test_data])\n",
    "\n",
    "# Matrix of labels. Each row is a label for the corresponding input row\n",
    "y_train = np.array([[np.argmax(out)] for image,out in training_data[:samples_to_use]])\n",
    "y_test = np.array([[out] for image, out in test_data])\n",
    "\n",
    "print X_train\n",
    "print y_train\n",
    "\n",
    "print X_test\n",
    "print y_test"
   ]
  },
  {
   "cell_type": "markdown",
   "metadata": {},
   "source": [
    "Next, instatiate a `Classifier` neural network from `scikit-neuralnetwork`."
   ]
  },
  {
   "cell_type": "code",
   "execution_count": 9,
   "metadata": {
    "collapsed": false
   },
   "outputs": [],
   "source": [
    "# Add GPU support (beyond the scope of this tutorial)\n",
    "# If not properly configured, does nothing\n",
    "from sknn.platform import gpu32\n",
    "\n",
    "# Instantiate the Classifier\n",
    "nn = Classifier(\n",
    "    layers=[\n",
    "        Layer(\"Sigmoid\", units=100),      # \"Hidden Layer\" of 100 \"neurons\" which use the \"Sigmoid\" as the \"activation function\"\n",
    "        Layer(\"Softmax\")                  # \"Output Layer\" using the Softmax function for classification\n",
    "    ],                \n",
    "    learning_rate=.1,                     # Learning Rate alpha for Stochastic Gradient Descent (SGD)\n",
    "    n_iter=30,                            # Number of iterations of SGD\n",
    "    batch_size=10,                        # \"Mini-batch\" size of SGD\n",
    "    verbose=True)                         # Toggles a progress bar during training"
   ]
  },
  {
   "cell_type": "markdown",
   "metadata": {},
   "source": [
    "The components in the neural network are explained [later in this tutorial](#The-Theory)."
   ]
  },
  {
   "cell_type": "markdown",
   "metadata": {},
   "source": [
    "A single function call will train the net. This took approximately 30 seconds on my Intel i5-6600K computer. If you want to skip training and use an example network instead, load the example network in the next section."
   ]
  },
  {
   "cell_type": "code",
   "execution_count": 10,
   "metadata": {
    "collapsed": false,
    "scrolled": false
   },
   "outputs": [
    {
     "name": "stderr",
     "output_type": "stream",
     "text": [
      "C:\\Anaconda2\\lib\\site-packages\\theano\\tensor\\signal\\downsample.py:6: UserWarning: downsample module has been moved to the theano.tensor.signal.pool module.\n",
      "  \"downsample module has been moved to the theano.tensor.signal.pool module.\")\n"
     ]
    },
    {
     "name": "stdout",
     "output_type": "stream",
     "text": []
    },
    {
     "data": {
      "text/plain": [
       "Classifier(batch_size=10, callback=None, debug=False, dropout_rate=None,\n",
       "      f_stable=0.001,\n",
       "      hidden0=<sknn.nn.Layer `Sigmoid`: units=100, name=u'hidden0', frozen=False>,\n",
       "      layers=[<sknn.nn.Layer `Sigmoid`: units=100, name=u'hidden0', frozen=False>, <sknn.nn.Layer `Softmax`: units=10L, name=u'output', frozen=False>],\n",
       "      learning_momentum=0.9, learning_rate=0.1, learning_rule=u'sgd',\n",
       "      loss_type=None, n_iter=30, n_stable=10, normalize=None,\n",
       "      output=<sknn.nn.Layer `Softmax`: units=10L, name=u'output', frozen=False>,\n",
       "      parameters=None, random_state=None, regularize=None, valid_set=None,\n",
       "      valid_size=0.0, verbose=True, warning=None, weight_decay=None)"
      ]
     },
     "execution_count": 10,
     "metadata": {},
     "output_type": "execute_result"
    }
   ],
   "source": [
    "nn.fit(X_train, y_train)"
   ]
  },
  {
   "cell_type": "markdown",
   "metadata": {},
   "source": [
    "### Saving and Loading"
   ]
  },
  {
   "cell_type": "markdown",
   "metadata": {},
   "source": [
    "Once you have finished training, you can save the network and its weights (always a good practice)."
   ]
  },
  {
   "cell_type": "code",
   "execution_count": 11,
   "metadata": {
    "collapsed": false
   },
   "outputs": [],
   "source": [
    "# These functions let you save and load a network.\n",
    "\n",
    "def save_net(net, filename):\n",
    "    with open(filename, 'wb') as f:\n",
    "        pickle.dump(net, f)\n",
    "            \n",
    "def load_net(filename):\n",
    "    with open(filename, 'rb') as f:\n",
    "        net = pickle.load(f)\n",
    "        return net\n"
   ]
  },
  {
   "cell_type": "code",
   "execution_count": 12,
   "metadata": {
    "collapsed": false
   },
   "outputs": [],
   "source": [
    "# Use them like such:\n",
    "# save_net(nn, \"my_network.pkl\")\n",
    "# nn = load_net(\"my_network.pkl\")"
   ]
  },
  {
   "cell_type": "markdown",
   "metadata": {},
   "source": [
    "##### If you skipped training, use this code"
   ]
  },
  {
   "cell_type": "code",
   "execution_count": 13,
   "metadata": {
    "collapsed": false,
    "scrolled": true
   },
   "outputs": [],
   "source": [
    "# Loads an example of a trained scikit-neuralnetwork Classifier\n",
    "# nn = load_net(\"example_network.pkl\")"
   ]
  },
  {
   "cell_type": "markdown",
   "metadata": {},
   "source": [
    "### Prediction and Evaluation"
   ]
  },
  {
   "cell_type": "markdown",
   "metadata": {},
   "source": [
    "Let's get a taste of our trained neural net."
   ]
  },
  {
   "cell_type": "code",
   "execution_count": 14,
   "metadata": {
    "collapsed": false
   },
   "outputs": [
    {
     "name": "stdout",
     "output_type": "stream",
     "text": [
      "[(10000L, 10L)]\n"
     ]
    }
   ],
   "source": [
    "####################################################\n",
    "# Runs the Trained Neural Network on the test data\n",
    "####################################################\n",
    "nn_pred_test = nn.predict(X_test)"
   ]
  },
  {
   "cell_type": "code",
   "execution_count": 15,
   "metadata": {
    "collapsed": false,
    "scrolled": false
   },
   "outputs": [
    {
     "name": "stdout",
     "output_type": "stream",
     "text": [
      "The below image shows a 7\n"
     ]
    },
    {
     "data": {
      "image/png": "[encoded data removed]",
      "text/plain": [
       "<matplotlib.figure.Figure at 0xf116b70>"
      ]
     },
     "metadata": {},
     "output_type": "display_data"
    },
    {
     "name": "stdout",
     "output_type": "stream",
     "text": [
      "neural net prediction: [7]\n",
      "\n",
      "========================\n",
      "\n",
      "The below image shows a 2\n"
     ]
    },
    {
     "data": {
      "image/png": "[encoded data removed]",
      "text/plain": [
       "<matplotlib.figure.Figure at 0xf670e48>"
      ]
     },
     "metadata": {},
     "output_type": "display_data"
    },
    {
     "name": "stdout",
     "output_type": "stream",
     "text": [
      "neural net prediction: [2]\n",
      "\n",
      "========================\n",
      "\n",
      "The below image shows a 1\n"
     ]
    },
    {
     "data": {
      "image/png": "[encoded data removed]",
      "text/plain": [
       "<matplotlib.figure.Figure at 0xf733358>"
      ]
     },
     "metadata": {},
     "output_type": "display_data"
    },
    {
     "name": "stdout",
     "output_type": "stream",
     "text": [
      "neural net prediction: [1]\n",
      "\n",
      "========================\n",
      "\n"
     ]
    }
   ],
   "source": [
    "#########################################\n",
    "#  Visually examine some of the results\n",
    "#########################################\n",
    "index = 0             # You can skim through the test data with this\n",
    "num_tests = 3\n",
    "for i, (image, out) in enumerate(test_data[index:index+num_tests]):\n",
    "    print_data_point(image, out)\n",
    "    pred = nn_pred_test[index + i]\n",
    "    print \"neural net prediction:\", pred\n",
    "    print \"\\n========================\\n\""
   ]
  },
  {
   "cell_type": "code",
   "execution_count": 16,
   "metadata": {
    "collapsed": false
   },
   "outputs": [
    {
     "name": "stdout",
     "output_type": "stream",
     "text": [
      "Num incorrect: 212\n",
      "The below image shows a 5\n"
     ]
    },
    {
     "data": {
      "image/png": "[encoded data removed]",
      "text/plain": [
       "<matplotlib.figure.Figure at 0x204617f0>"
      ]
     },
     "metadata": {},
     "output_type": "display_data"
    },
    {
     "name": "stdout",
     "output_type": "stream",
     "text": [
      "neural net prediction: 6\n",
      "\n",
      "========================\n",
      "\n",
      "The below image shows a 2\n"
     ]
    },
    {
     "data": {
      "image/png": "[encoded data removed]",
      "text/plain": [
       "<matplotlib.figure.Figure at 0x204a0b00>"
      ]
     },
     "metadata": {},
     "output_type": "display_data"
    },
    {
     "name": "stdout",
     "output_type": "stream",
     "text": [
      "neural net prediction: 4\n",
      "\n",
      "========================\n",
      "\n",
      "The below image shows a 4\n"
     ]
    },
    {
     "data": {
      "image/png": "[encoded data removed]",
      "text/plain": [
       "<matplotlib.figure.Figure at 0x207f2400>"
      ]
     },
     "metadata": {},
     "output_type": "display_data"
    },
    {
     "name": "stdout",
     "output_type": "stream",
     "text": [
      "neural net prediction: 6\n",
      "\n",
      "========================\n",
      "\n"
     ]
    }
   ],
   "source": [
    "#######################################################\n",
    "#  Visually examine some of the incorrect predictions\n",
    "#     (Do they seem difficult to you?)\n",
    "#######################################################\n",
    "nn_incorrect = [(image, pred, actual) for image, pred, actual in zip(X_test, nn_pred_test.ravel(), y_test.ravel()) if pred != actual]\n",
    "print \"Num incorrect:\", len(nn_incorrect)\n",
    "\n",
    "index = 0\n",
    "num_to_show = 3\n",
    "for image, pred, actual in nn_incorrect[index:min(len(nn_incorrect), index+num_to_show)]:\n",
    "    print_data_point(image, actual)\n",
    "    print \"neural net prediction:\", pred\n",
    "    print \"\\n========================\\n\""
   ]
  },
  {
   "cell_type": "code",
   "execution_count": 17,
   "metadata": {
    "collapsed": false
   },
   "outputs": [
    {
     "name": "stdout",
     "output_type": "stream",
     "text": [
      "Accuracy on test set: 0.9788\n"
     ]
    }
   ],
   "source": [
    "####################################################\n",
    "#  The \"accuraccy\" of this trained neural network\n",
    "####################################################\n",
    "nn_accuracy = 1 - (len(nn_incorrect) / float(X_test.shape[0]))\n",
    "print \"Accuracy on test set:\", nn_accuracy"
   ]
  },
  {
   "cell_type": "markdown",
   "metadata": {},
   "source": [
    "The next section explains all of the components and math in a neural network."
   ]
  },
  {
   "cell_type": "markdown",
   "metadata": {},
   "source": [
    "## The Theory\n",
    "\n",
    "![](img/network.png \"Diagram of a Neural Network\")\n",
    "\n",
    "A neural network is comprised of multiple layers of nodes. Values are fed from one layer of nodes to the next. The first layer is the **input layer** which produces the input $x$, and the last layer is the **ouput layer** which produces the final computation. In between, we have **hidden layers** whose outputs remain within the network.\n",
    "\n",
    "A neural network is primarily identified by the number of hidden layers. Typically, a $L$-layer Neural Network has $L-1$ hidden layers. The $L$-th layer is the output layer. The $0$-th layer is the input layer. This tutorial denotes layer number by the variable $k$."
   ]
  },
  {
   "cell_type": "markdown",
   "metadata": {},
   "source": [
    "### Neurons\n",
    "\n",
    "Nodes are called **neurons**, or **units**. A neuron receives the all of output values of the previous layer and produces a single output.\n",
    "\n",
    "![](img/neuron.png \"Concept of a neuron.\")\n",
    "\n",
    "The $output$ of a neuron is created in two steps:\n",
    "\n",
    "First, a **weighted input** or **hidden layer pre-activation** is computed. We do a weighted sum the inputs according to some **weights** $w_i$ and add a **bias** $b_i$. For the $i$th neuron in a layer, we call this $z_i$. So for example:\n",
    "\n",
    "$$z_i=w_{i,1}x_i+w_{i,2}x_2+w_{i,3}x_3+b_i$$\n",
    "\n",
    "Using vectors notation, we can simplify it as:\n",
    "\n",
    "$$z_i=w_ix+b_i$$\n",
    "\n",
    "where $w_i$ is a row vector, and $x$ is a column vector.\n",
    "\n",
    "Second, a **activation function** $g$ is applied to the weighted input $z_i$. The strength of a neural network comes from this step, because the activation function is usually a *non-linear function*, such as the [sigmoid function](https://en.wikipedia.org/wiki/Sigmoid_function) $\\sigma$. We call the output of this step the **output activation** or **hidden layer activation** $a_i$. Following the previous example:\n",
    "\n",
    "$$output_i=a_i=g(z_i)=\\sigma(w_{i,1}x_i+w_{i,2}x_2+w_{i,3}x_3+b_i)$$"
   ]
  },
  {
   "cell_type": "markdown",
   "metadata": {},
   "source": [
    "### Building a Layer\n",
    "\n",
    "So far, we have only considered a single neuron. We can easily expand our notation to a layer of neurons using matracies. Before, for each neuron, we had a row vector of weights $w_i$ and a bias $b_i$ which produced weighted input $z_i$. Now, for the $k$th layer of neurons, we use a matrix $W^k$ whose rows are the $w_i$ row vectors, a column vector $b^k$ whose elements are the $b_i$'s, and a column vector $z^k$ for the $z_i$'s. We represent the whole layer's weighted inputs as:\n",
    "\n",
    "$$z^k=W^kx+b^k$$\n",
    "\n",
    "Similarly, for output activations:\n",
    "\n",
    "$$a^k=g_k(z^k)$$"
   ]
  },
  {
   "cell_type": "markdown",
   "metadata": {},
   "source": [
    "This translates very nicely to python using `numpy` arrays:"
   ]
  },
  {
   "cell_type": "code",
   "execution_count": 18,
   "metadata": {
    "collapsed": false
   },
   "outputs": [
    {
     "name": "stdout",
     "output_type": "stream",
     "text": [
      "Input vector: [ 0.21758967  0.52502138  0.45868448  0.20453271  0.33132335  0.64778998\n",
      "  0.30865316  0.14240111  0.04716551  0.86088911]\n",
      "Output Activations: [ 0.58228037  0.77312927  0.45611445  0.08043548  0.52312299]\n"
     ]
    }
   ],
   "source": [
    "# Here's the non-linear sigmoid function.\n",
    "# x here can be a numpy array\n",
    "def sigmoid(x):\n",
    "    return 1.0 / (1.0 + np.exp(-x))\n",
    "\n",
    "# The input x to our layer of neurons\n",
    "num_inputs = 10\n",
    "x = np.random.rand(num_inputs)\n",
    "\n",
    "# Number of neurons in layer k\n",
    "num_neurons = 5\n",
    "\n",
    "# Weights of layer k\n",
    "W_k = np.random.randn(num_neurons, num_inputs)\n",
    "\n",
    "# Biases of layer k\n",
    "b_k = np.random.randn(num_neurons)\n",
    "\n",
    "# Weighted input of layer k\n",
    "z_k = W_k.dot(x) + b_k\n",
    "\n",
    "# The activation function\n",
    "g_k = sigmoid\n",
    "\n",
    "# The output activation of layer k\n",
    "a_k = g_k(z_k)\n",
    "\n",
    "print \"Input vector:\", x\n",
    "print \"Output Activations:\", a_k"
   ]
  },
  {
   "cell_type": "markdown",
   "metadata": {},
   "source": [
    "### Computing a Network\n",
    "\n",
    "In the last section, we denoted the input to a layer as $x$. In a network, the input to layer $k$ is the output of layer $k-1$. To compute a network, we just successively apply layers one after another, feeding the output of one into the next. So, the algorithm for computing a network looks like:"
   ]
  },
  {
   "cell_type": "code",
   "execution_count": 19,
   "metadata": {
    "collapsed": false
   },
   "outputs": [
    {
     "name": "stdout",
     "output_type": "stream",
     "text": [
      "x: [ 0.88074506  0.55887648  0.59841642  0.8844166   0.93387852  0.4510958\n",
      "  0.51661283  0.83135754  0.09290896  0.4360341 ]\n",
      "y: [ 0.49483959  0.15120296]\n"
     ]
    }
   ],
   "source": [
    "def identity(x):\n",
    "    return x\n",
    "\n",
    "# Number of inputs to the network\n",
    "num_inputs = 10\n",
    "# Number of outputs of the network (it's not just a scalar!)\n",
    "num_outputs = 2 \n",
    "\n",
    "# Number of neurons/nodes at each layer.\n",
    "# We have 2 hidden layers here: layers 1 and 2\n",
    "# Layer 0 is the input layer\n",
    "# Layer 1 is a hidden layer with 7 neurons\n",
    "# Layer 2 is a hidden layer with 5 neurons\n",
    "# Layer 3 is the output layer\n",
    "N = [num_inputs, 7, 5, num_outputs]\n",
    "\n",
    "# Weights for each layer. None for index 0 to preserve our indexing notation\n",
    "W = [None] + [np.random.randn(n_out, n_in) for n_in, n_out in zip(N[:-1], N[1:])]\n",
    "\n",
    "# Biases for each layer\n",
    "b = [None] + [np.random.randn(n) for n in N[1:]]\n",
    "\n",
    "# The Activation function at each layer.\n",
    "# This can vary for each layer, but we'll do Sigmoid for all of them.\n",
    "g = [identity] + [sigmoid for n in N[1:]]\n",
    "\n",
    "# k is a number from 1 ... len(N) - 1\n",
    "# x is a vector of length N[k-1]\n",
    "def apply_layer((N, W, b, g), k, x):\n",
    "    z_k = W[k].dot(x) + b[k]    # Weighted input\n",
    "    a_k = g[k](z_k)             # Output activation\n",
    "    return (z_k, a_k)\n",
    "\n",
    "def compute((N, W, b, g), x):\n",
    "    z = None\n",
    "    a = x\n",
    "    for k in range(1, len(N)):\n",
    "        z, a = apply_layer((N, W, b, g), k, a)\n",
    "    return a\n",
    "        \n",
    "x = np.random.rand(num_inputs)\n",
    "y = compute((N, W, b, g), x)\n",
    "print \"x:\", x\n",
    "print \"y:\", y"
   ]
  },
  {
   "cell_type": "markdown",
   "metadata": {},
   "source": [
    "### Learning: Minimizing Loss\n",
    "\n",
    "Like other ML algorithms, a neural network learn by selecting parameters that minimize a total loss over the training data. The parameters are the weights $W^k$ and biases $b^k$. The total loss measures the difference between the network's prediction and the training data output.\n",
    "\n",
    "For notation, our training data consists of $m$ data points of the form $(x^{(i)},y^{(i)})$. $x^{(i)}$ is an input vector and $y^{(i)}$ is the labelled output. \n",
    "\n",
    "For some loss function $l$, we call the total loss $C$ (for \"cost\") and it looks like:\n",
    "\n",
    "$$C=\\frac{1}{m}\\sum_{i=1}^{m}l(compute(x^{(i)}),y^{(i)})$$\n",
    "\n",
    "We will be using **stochastic gradient descent** to adjust the network's parameters in a direction that lowers the loss. (Disclaimer: this optimization problem is not *convex*, so we may not get the optimal weights.)\n"
   ]
  },
  {
   "cell_type": "markdown",
   "metadata": {},
   "source": [
    "### Backpropogation\n",
    "\n",
    "To perform gradient descent, we need gradients with respect to each training parameter.\n",
    "\n",
    "We start with the cost gradient with respect to $z^L$, i.e. $\\nabla{}C_{z^L}$. This is how much the cost would change if we could somehow vary the weighted inputs $z^L$ in final layer of the neural net.\n",
    "\n",
    "We label this vector $\\delta^L=\\nabla{}C_{z^L}$, which is sometimes referred to as the **error**. Using the **chain rule** from calculus, we get that element $i$ is:\n",
    "\n",
    "$$\\delta^L_i=\\frac{\\partial{}C}{\\partial{}z^L_i}=\\frac{\\partial{}C}{\\partial{}g_L(z^L_i)}\\frac{\\partial{}g_L(z^L_i)}{\\partial{}z^L_i}$$\n",
    "\n",
    "The reason for this factorization is because it is often easy to compute $\\frac{\\partial{}C}{\\partial{}g_L(z^L_i)}$ and $\\frac{\\partial{}g_L(z^L_i)}{\\partial{}z^L_i}$ individually.\n",
    "\n",
    "$\\delta^L$ gives us the gradient with respect to the final layer, but not with respect to the hidden layers. It turns out, with more calculus, we can inductively compute the errors of hidden layers from $\\delta^L$. Suppose we know the error for layer $k+1$. We can get the error for layer $k$ with the following equation:\n",
    "\n",
    "$$\\delta^k=(W^{k+1})^T\\delta^{k+1}*\\frac{\\partial{}g_k(z^k)}{\\partial{}z^k}$$\n",
    "<center><sub>The $*$ here is the [Hadamard Product](https://en.wikipedia.org/wiki/Hadamard_product_%28matrices%29), or element-wise multiplication</sub></center>\n",
    "\n",
    "This formula is the core of **backpropogation**, which is the most crucial part of training a neural network. This lets us compute the errors of hidden layers *backwards* from the final layer. Knowing the error is important, because if we know the error for a layer, we can compute the gradient with respect to each weight and bias. And if we have the gradient, we can fix the weights and biases in gradient descent.\n",
    "\n",
    "Knowing the errors, the gradient with respect to a bias parameter is:\n",
    "\n",
    "$$\\frac{\\partial{}C}{\\partial{}b_i^k}=\\delta_i^k$$\n",
    "\n",
    "For weights:\n",
    "\n",
    "$$\\frac{\\partial{}C}{\\partial{}w^k_{ij}}=a^{k-1}_j\\delta_i^k$$\n",
    "\n",
    "See [Michael Nielsen's page](http://neuralnetworksanddeeplearning.com/chap2.html#proof_of_the_four_fundamental_equations_%28optional%29) for how to derive these equations.\n"
   ]
  },
  {
   "cell_type": "markdown",
   "metadata": {},
   "source": [
    "### Example: Sigmoid and Mean Squared Error\n",
    "\n",
    "The sigmoid function and mean squared error are fairly good as demonstrations of this math. Assume that every layer uses the sigmoid function as its activation function.\n",
    "\n",
    "For the mean squared error, $C$ looks like:\n",
    "\n",
    "$$C=\\frac{1}{m}\\sum_{i=1}^m\\frac{1}{2}||compute(x^{(i)})-y^{(i)}||_2^2$$\n",
    "\n",
    "First, we compute the error of the final layer $\\delta^L_i=\\frac{\\partial{}C}{\\partial{}g_L(z^L_i)}\\frac{\\partial{}g_L(z^L_i)}{\\partial{}z^L_i}$\n",
    "\n",
    "Mean Squared Error is nice because the partial $\\frac{\\partial{}C}{\\partial{}g_L(z^L_i)}$ is:\n",
    "\n",
    "$$\\frac{\\partial{}C}{\\partial{}g_L(z^L_i)}=g_L(z^L_i)-y^{(i)}_i$$"
   ]
  },
  {
   "cell_type": "markdown",
   "metadata": {},
   "source": [
    "Similarly, the sigmoid function $\\sigma$ is nice because the derivative is just:\n",
    "\n",
    "$$\\frac{\\partial{}g_L(z^L_i)}{\\partial{}z^L_i}=\\sigma(z^L_i)(1-\\sigma(z^L_i))$$"
   ]
  },
  {
   "cell_type": "markdown",
   "metadata": {},
   "source": [
    "Together, these two give us:\n",
    "\n",
    "$$\\delta^L=(g_L(z^L)-y^{(i)})*\\sigma(z^L)(1-\\sigma(z^L))$$"
   ]
  },
  {
   "cell_type": "markdown",
   "metadata": {},
   "source": [
    "Then, as an example, here is one step of backpropagation:\n",
    "\n",
    "$$\\delta^{L-1}=(W^{L})^T\\delta^{L}*\\frac{\\partial{}g_{L-1}(z^{L-1})}{\\partial{}z^{L-1}}=(W^{L})^T\\delta^{L}*\\sigma(z^{L-1})(1-\\sigma(z^{L-1}))$$\n",
    "\n",
    "This sets up very nicely for an algorithmic approach:"
   ]
  },
  {
   "cell_type": "code",
   "execution_count": 20,
   "metadata": {
    "collapsed": false
   },
   "outputs": [],
   "source": [
    "def mse_derivative(g_of_z, y):\n",
    "    return g_of_z - y\n",
    "\n",
    "def sigmoid_prime(x):\n",
    "    return sigmoid(x) * (1.0 - sigmoid(x))\n",
    "\n",
    "def backpropagation((N, W, b, g), x_train, y_train):\n",
    "    # L as we defined it\n",
    "    L = len(N) - 1\n",
    "    \n",
    "    # Keep track of all weighted inputs z_k as we perform the \"forward\" computation\n",
    "    z = [None for n in N]\n",
    "    \n",
    "    # Also keep track of all activation outputs a_k as we perform the forward computation\n",
    "    a = [None for n in N]\n",
    "    \n",
    "    # Perform the forward computation\n",
    "    a[0] = x_train\n",
    "    for k in range(1, len(N)):\n",
    "        z[k], a[k] = apply_layer((N, W, b, g), k, a[k-1]) \n",
    "    # a[L] == compute(x_train) == g[L](z[L])\n",
    "    \n",
    "    # Compute all the errors\n",
    "    error = [None for n in N]\n",
    "    error[L] = mse_derivative(a[L], y_train) * sigmoid_prime(z[L])\n",
    "    for k in range(L-1, 0, -1):\n",
    "        error[k] = W[k+1].T.dot(error[k+1]) * sigmoid_prime(z[k])\n",
    "    \n",
    "    # Compute the gradient of the cost function with respect to every weight\n",
    "    dC_dW = [None] + [error[k].reshape((-1, 1)).dot(a[k-1].reshape((1, -1))) for k in range(1, len(N))]\n",
    "    \n",
    "    # Compute the gradient of the cost function with respect to every bias\n",
    "    dC_db = [None] + [delta for delta in error[1:]]\n",
    "    \n",
    "    return dC_dW, dC_db\n",
    "\n",
    "# Arbitrary test of back propagation\n",
    "x_t = np.random.rand(num_inputs)\n",
    "y_t = np.array([1,2])\n",
    "dC_dW, dC_db = backpropagation((N, W, b, g), x_t, y_t)\n"
   ]
  },
  {
   "cell_type": "markdown",
   "metadata": {
    "collapsed": true
   },
   "source": [
    "### Putting it together\n",
    "\n",
    "Now that we have a method of computing gradients, we can run stochastic gradient descent to tune the parameters."
   ]
  },
  {
   "cell_type": "code",
   "execution_count": 21,
   "metadata": {
    "collapsed": false
   },
   "outputs": [],
   "source": [
    "# Run stochastic gradient descent on the training data with learning rate alpha.\n",
    "def sgd((N, W, b, g), X_train, y_train, alpha, mb_size):\n",
    "    indicies = np.random.permutation(X_train.shape[0])\n",
    "    batches = [indicies[mb_size*k:mb_size*(k+1)] for k in xrange((X_train.shape[0] - 1) / mb_size + 1)]\n",
    "    for batch in batches:\n",
    "        X_train_random = X_train[batch]\n",
    "        y_train_random = y_train[batch]\n",
    "        dC_dW = [np.zeros(weights.shape) for weights in W[1:]]\n",
    "        dC_db = [np.zeros(biases.shape) for biases in b[1:]]\n",
    "        for x, y in zip(X_train_random, y_train_random):\n",
    "            new_dC_dW, new_dC_db = backpropagation((N, W, b, g), x,y)\n",
    "            dC_dW = [old+new for old, new in zip(dC_dW, new_dC_dW[1:])]\n",
    "            dC_dW = [old+new for old, new in zip(dC_dW, new_dC_dW[1:])]\n",
    "        W = [None] + [weights - (alpha/len(batch)) * grad for weights, grad in zip(W[1:], dC_dW)]\n",
    "        b = [None] + [biases - (alpha/len(batch)) * grad for biases, grad in zip(b[1:], dC_db)]\n",
    "    return W, b\n",
    "\n",
    "# Mean Squared Error loss function\n",
    "def loss((N, W, b, g), X, y):\n",
    "    losses = np.array([(np.linalg.norm(compute((N, W, b, g), image) - label)**2.0) / 2.0 for image,label in zip(X, y)])\n",
    "    return losses.mean()"
   ]
  },
  {
   "cell_type": "code",
   "execution_count": 22,
   "metadata": {
    "collapsed": false
   },
   "outputs": [
    {
     "name": "stdout",
     "output_type": "stream",
     "text": [
      "Done epoch 0 Loss: 0.071482152149\n",
      "Done epoch 1 Loss: 0.0597220659951\n",
      "Done epoch 2 Loss: 0.0551451912823\n",
      "Done epoch 3 Loss: 0.0496413456085\n",
      "Done epoch 4 Loss: 0.0502638287601\n",
      "Done epoch 5 Loss: 0.0451315821297\n",
      "Done epoch 6 Loss: 0.0440403059401\n",
      "Done epoch 7 Loss: 0.0428243786228\n",
      "Done epoch 8 Loss: 0.0410503783072\n",
      "Done epoch 9 Loss: 0.039160789021\n",
      "Done epoch 10 Loss: 0.0416287915944\n",
      "Done epoch 11 Loss: 0.0381820592988\n",
      "Done epoch 12 Loss: 0.0402847903024\n",
      "Done epoch 13 Loss: 0.0359816119123\n",
      "Done epoch 14 Loss: 0.0364463006606\n",
      "Done epoch 15 Loss: 0.0349671776116\n",
      "Done epoch 16 Loss: 0.0348937847801\n",
      "Done epoch 17 Loss: 0.0322658508608\n",
      "Done epoch 18 Loss: 0.0352194403989\n",
      "Done epoch 19 Loss: 0.0326031901867\n",
      "Done epoch 20 Loss: 0.0319920227311\n",
      "Done epoch 21 Loss: 0.0320847679992\n",
      "Done epoch 22 Loss: 0.0316743708141\n",
      "Done epoch 23 Loss: 0.029329952143\n",
      "Done epoch 24 Loss: 0.0307336826967\n",
      "Done epoch 25 Loss: 0.0293898390603\n",
      "Done epoch 26 Loss: 0.0288235638422\n",
      "Done epoch 27 Loss: 0.031554283789\n",
      "Done epoch 28 Loss: 0.0287318430086\n",
      "Done epoch 29 Loss: 0.0279859812089\n"
     ]
    }
   ],
   "source": [
    "# Our network needs one-hot encoding of the y-labels.\n",
    "# Luckily the training data already comes in that form.\n",
    "y_train_onehot = np.array([out.ravel() for image,out in training_data[:samples_to_use]])\n",
    "\n",
    "# The input is the 28x28 image as a 1d array.\n",
    "num_inputs = 28*28\n",
    "# one-hot encoding output. 10 possible digits.\n",
    "num_outputs = 10\n",
    "\n",
    "# Layers of the neural network. We have a hidden layer of 30 neurons here.\n",
    "N = [num_inputs, 30, num_outputs]\n",
    "\n",
    "# Randomized initial weights for each layer.\n",
    "# None for index 0 to follow our indexing notation.\n",
    "W = [None] + [np.random.randn(n_out, n_in) for n_in, n_out in zip(N[:-1], N[1:])]\n",
    "\n",
    "# Randomized initial biases for each layer\n",
    "b = [None] + [np.random.randn(n) for n in N[1:]]\n",
    "\n",
    "# The Activation function at each layer.\n",
    "# This can vary for each layer, but we'll do Sigmoid for all of them.\n",
    "# g[0] is not used, but it should make sense why it would be identity.\n",
    "# (Recall layer 0 is the input layer)\n",
    "g = [identity] + [sigmoid for n in N[1:]]\n",
    "\n",
    "def train_net((N, W, b, g), X, y):\n",
    "    alpha = 3.0      # Learning rate of Stochastic Gradient Descent (SGD)\n",
    "    mb_size = 10     # Mini-batch size of SGD\n",
    "    epochs = 30      # Number of iterations of SGD\n",
    "    for i in xrange(epochs):\n",
    "        W, b = sgd((N, W, b, g), X, y, alpha, mb_size)\n",
    "        print \"Done epoch\", i, \"Loss:\", loss((N, W, b, g), X, y)\n",
    "    return (N, W, b, g)\n",
    "\n",
    "N, W, b, g = train_net((N, W, b, g), X_train, y_train_onehot)"
   ]
  },
  {
   "cell_type": "code",
   "execution_count": 23,
   "metadata": {
    "collapsed": false
   },
   "outputs": [
    {
     "name": "stdout",
     "output_type": "stream",
     "text": [
      "The below image shows a 7\n"
     ]
    },
    {
     "data": {
      "image/png": "[encoded data removed]",
      "text/plain": [
       "<matplotlib.figure.Figure at 0x20c74400>"
      ]
     },
     "metadata": {},
     "output_type": "display_data"
    },
    {
     "name": "stdout",
     "output_type": "stream",
     "text": [
      "My net: 7\n",
      "\n",
      "===========================\n",
      "\n",
      "The below image shows a 2\n"
     ]
    },
    {
     "data": {
      "image/png": "[encoded data removed]",
      "text/plain": [
       "<matplotlib.figure.Figure at 0x2066f2b0>"
      ]
     },
     "metadata": {},
     "output_type": "display_data"
    },
    {
     "name": "stdout",
     "output_type": "stream",
     "text": [
      "My net: 2\n",
      "\n",
      "===========================\n",
      "\n",
      "The below image shows a 1\n"
     ]
    },
    {
     "data": {
      "image/png": "[encoded data removed]",
      "text/plain": [
       "<matplotlib.figure.Figure at 0xf546c18>"
      ]
     },
     "metadata": {},
     "output_type": "display_data"
    },
    {
     "name": "stdout",
     "output_type": "stream",
     "text": [
      "My net: 1\n",
      "\n",
      "===========================\n",
      "\n"
     ]
    }
   ],
   "source": [
    "# Visually inspect the results of the trained neural network\n",
    "for image, out in test_data[0:3]:\n",
    "    print_data_point(image, out)\n",
    "    print \"My net:\", compute((N, W, b, g), image.ravel()).argmax()\n",
    "    print \"\\n===========================\\n\""
   ]
  },
  {
   "cell_type": "code",
   "execution_count": 24,
   "metadata": {
    "collapsed": false,
    "scrolled": true
   },
   "outputs": [
    {
     "name": "stdout",
     "output_type": "stream",
     "text": [
      "Num correct: 9503 of 10000 images\n",
      "Accuraccy: 0.9503\n"
     ]
    }
   ],
   "source": [
    "# Compute how well the network does on the test set.\n",
    "my_correct = [(image, pred, actual) for image, actual in zip(X_test, y_test.ravel()) if compute((N, W, b, g), image).argmax() == actual]\n",
    "print \"Num correct:\", len(my_correct), \"of\", X_test.shape[0], \"images\"\n",
    "print \"Accuraccy:\", float(len(my_correct)) / float(X_test.shape[0])"
   ]
  },
  {
   "cell_type": "markdown",
   "metadata": {},
   "source": [
    "The neural net that we have programmed here is defined by `N`, `W`, `b`, and `g`. We can save and load it with the earlier functions like such:"
   ]
  },
  {
   "cell_type": "code",
   "execution_count": 25,
   "metadata": {
    "collapsed": true
   },
   "outputs": [],
   "source": [
    "# save_net((N, W, b, g), \"theory_net.pkl\")\n",
    "# N, W, b, g = load_net(\"theory_net.pkl\")"
   ]
  },
  {
   "cell_type": "markdown",
   "metadata": {},
   "source": [
    "## Further Reading\n",
    "\n",
    "This tutorial covers chapters 1 and 2 of [Michael Nielsen's free online book](http://neuralnetworksanddeeplearning.com/index.html). Following this tutorial, you can start reading from [chatper 3](http://neuralnetworksanddeeplearning.com/chap3.html).\n",
    "\n",
    "### References\n",
    "\n",
    "* \"10-807 Neural Network I\" PowerPoint, by Russ Salakhutdinov, CMU Machine Learning Department\n",
    "* [A Neural Network in 11 lines of Python (Part 1)](http://iamtrask.github.io/2015/07/12/basic-python-network/), by iamtrask\n",
    "* \"15-381 Deep Learning\" PowerPoint, by Emma Brunskill, CMU CS Department"
   ]
  }
 ],
 "metadata": {
  "anaconda-cloud": {},
  "kernelspec": {
   "display_name": "Python [Root]",
   "language": "python",
   "name": "Python [Root]"
  },
  "language_info": {
   "codemirror_mode": {
    "name": "ipython",
    "version": 2
   },
   "file_extension": ".py",
   "mimetype": "text/x-python",
   "name": "python",
   "nbconvert_exporter": "python",
   "pygments_lexer": "ipython2",
   "version": "2.7.12"
  }
 },
 "nbformat": 4,
 "nbformat_minor": 0
}
