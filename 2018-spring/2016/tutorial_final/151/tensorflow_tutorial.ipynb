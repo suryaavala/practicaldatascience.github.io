{
 "cells": [
  {
   "cell_type": "markdown",
   "metadata": {},
   "source": [
    "# Neural Network with TensorFlow\n",
    "\n",
    "The goal of this tutorial is to show how to use python TensorFlow API to train and evaluate a simple neural network. TensorFlow is an open source software library developed by Google for the purposes of conducting machine learning and deep neural networks research."
   ]
  },
  {
   "cell_type": "markdown",
   "metadata": {},
   "source": [
    "## Tutorial content\n",
    "We will cover the following topics in this tutorial:\n",
    "* Installing TensorFlow\n",
    "* Loading MNIST dataset\n",
    "* TensorFlow Mechanism\n",
    "* Building a Neural Network Model\n",
    "* Building a Convolutional Net Model"
   ]
  },
  {
   "cell_type": "markdown",
   "metadata": {},
   "source": [
    "## Installing TensorFlow\n",
    "\n",
    "Please find the instruction to install TensorFlow in your environment. GPU enabled installation requires several steps for setup. I recommend you to install a CPU only version for this tutorial.\n",
    "https://www.tensorflow.org/versions/r0.11/get_started/os_setup.html"
   ]
  },
  {
   "cell_type": "code",
   "execution_count": 1,
   "metadata": {
    "collapsed": false
   },
   "outputs": [
    {
     "name": "stderr",
     "output_type": "stream",
     "text": [
      "/Users/odatakuma/anaconda/envs/tensorflow/lib/python2.7/site-packages/matplotlib/__init__.py:1357: UserWarning:  This call to matplotlib.use() has no effect\n",
      "because the backend has already been chosen;\n",
      "matplotlib.use() must be called *before* pylab, matplotlib.pyplot,\n",
      "or matplotlib.backends is imported for the first time.\n",
      "\n",
      "  warnings.warn(_use_error_msg)\n"
     ]
    }
   ],
   "source": [
    "import matplotlib\n",
    "matplotlib.use(\"svg\")\n",
    "import matplotlib.pyplot as plt\n",
    "%matplotlib inline\n",
    "plt.style.use('ggplot')\n",
    "matplotlib.rcParams['figure.figsize'] = (10.0, 5.0)\n",
    "\n",
    "from tensorflow.examples.tutorials.mnist import input_data\n",
    "import tensorflow as tf"
   ]
  },
  {
   "cell_type": "markdown",
   "metadata": {},
   "source": [
    "## Loading MNIST Data\n",
    "We will train our neural networks to classify handwritten digits form the popular MNIST dataset that has been constructed by Yann LeCun et al. MNIST dataset is available via tensorflow. \n"
   ]
  },
  {
   "cell_type": "code",
   "execution_count": 2,
   "metadata": {
    "collapsed": false
   },
   "outputs": [
    {
     "name": "stdout",
     "output_type": "stream",
     "text": [
      "Successfully downloaded train-images-idx3-ubyte.gz 9912422 bytes.\n",
      "Extracting MNIST_data/train-images-idx3-ubyte.gz\n",
      "Successfully downloaded train-labels-idx1-ubyte.gz 28881 bytes.\n",
      "Extracting MNIST_data/train-labels-idx1-ubyte.gz\n",
      "Successfully downloaded t10k-images-idx3-ubyte.gz 1648877 bytes.\n",
      "Extracting MNIST_data/t10k-images-idx3-ubyte.gz\n",
      "Successfully downloaded t10k-labels-idx1-ubyte.gz 4542 bytes.\n",
      "Extracting MNIST_data/t10k-labels-idx1-ubyte.gz\n"
     ]
    }
   ],
   "source": [
    "mnist = input_data.read_data_sets(\"MNIST_data\", one_hot=True)"
   ]
  },
  {
   "cell_type": "markdown",
   "metadata": {},
   "source": [
    "The MNIST data consisits of three parts: 55,000 images for training data (mnist.train), 10,000 images for test data (mnist.test), and 5,000 images for validation data (mnist.validation). Each dataset contains 28x28 images flattened to 784 feature vectors and labels which representing correct digits as 10-d one-hot vectors. To get an idea what the images in MNIST dataset look like, let's visualize examples of the digits 0-9 after reshaping the 784 feature vectors into the original 28 x 28 pixel image via matplotlib's imshow function:"
   ]
  },
  {
   "cell_type": "code",
   "execution_count": 3,
   "metadata": {
    "collapsed": false
   },
   "outputs": [
    {
     "data": {
      "image/png": "[encoded data removed]",
      "text/plain": [
       "<matplotlib.figure.Figure at 0x10f697d10>"
      ]
     },
     "metadata": {},
     "output_type": "display_data"
    }
   ],
   "source": [
    "fig, ax = plt.subplots(nrows=2, ncols=5, sharex=True, sharey=True)\n",
    "ax = ax.flatten()\n",
    "for  i in range(10):\n",
    "    img = mnist.train.images[mnist.train.labels.dot(np.arange(10)) == i][0].reshape(28, 28)\n",
    "    ax[i].imshow(img, cmap='Greys', interpolation='nearest')\n",
    "ax[0].set_xticks([])\n",
    "ax[0].set_yticks([])\n",
    "plt.tight_layout()\n",
    "plt.show()"
   ]
  },
  {
   "cell_type": "markdown",
   "metadata": {},
   "source": [
    "## TensorFlow Mechanism\n",
    "TensorFlow represents computations as graphs in which each node represents operation of tensors. A tensor is a multi-demensional array similar to numpy array.\n",
    "The common usage for TensorFlow programs is to first create a computation graph and then launch it in a Session. A Session places the graph onto Devices, such as CMUs or GPUs. In general TensorFlow uses GPU, if you have one, for as many as operations as possible.\n",
    "We will describe the basic flow of TensorFlow programs by building a single neuron classifier (softmax regression) for digits recognition.\n",
    "* Define a network architecture\n",
    "* Define a loss function\n",
    "* Define an optimization method\n",
    "* Train the model\n",
    "* Evaluate the model\n",
    "\n",
    "Softmax regression with the cross entropy loss is formulated as:\n",
    "\\begin{align}\n",
    "z & = wx + b \\\\\n",
    "\\phi_j & = \\frac{e^{z_j}}{\\sum_{k} e^{-z_k}} \\\\\n",
    "L & = \\log \\phi_y\n",
    "\\end{align}\n",
    "where $x$: inputs, $y$:labels, $w$: weights, $b$:bias, $z$: logits, $\\phi$:probability, $L$:loss"
   ]
  },
  {
   "cell_type": "markdown",
   "metadata": {},
   "source": [
    "### Define a network architecture\n",
    "We start building the computation graph by creating nodes for the input and target output classes."
   ]
  },
  {
   "cell_type": "code",
   "execution_count": 4,
   "metadata": {
    "collapsed": false
   },
   "outputs": [],
   "source": [
    "input_size = 784\n",
    "output_size = 10\n",
    "x = tf.placeholder(tf.float32, [None, input_size])\n",
    "y = tf.placeholder(tf.float32, [None, output_size])"
   ]
  },
  {
   "cell_type": "markdown",
   "metadata": {},
   "source": [
    "tf.placeholder is a value that we will input when we run TensorFlow. We represent x as a 2-D tensor shaping [None, 784], which we will feed MNIST images flattened into a 784-dimensional vector. We don't specify the data size since we will use the batch gradient descent method to speed up the training process. The lablels y will consist of a 2-D tensor shaping [None, 10], where each row is a one-hot 10-dimensional vector.\n",
    "\n",
    "Machine learning model parameters are represented as tf.Variable, which can be used and modified by the computation. We define the weights W and biases b for our softmax regression model by tf.Variable. We can now implement logits $z$, or hypothesis function, as matrix multiplication of x and W plus the bias term. "
   ]
  },
  {
   "cell_type": "code",
   "execution_count": 5,
   "metadata": {
    "collapsed": false
   },
   "outputs": [],
   "source": [
    "W = tf.Variable(tf.zeros([input_size, output_size]))\n",
    "b = tf.Variable(tf.zeros([output_size]))\n",
    "z = tf.matmul(x, W) + b"
   ]
  },
  {
   "cell_type": "markdown",
   "metadata": {},
   "source": [
    "### Define a loss function\n",
    "We select the cross-entropy as our loss function. Here tf.nn.softmax_cross_entropy_with_logits applies the softmax function on logits $z$ and sums cross-entropy across all classes. tf.reduce_mean takes the average over the instances.\n",
    "$$\n",
    "L = \\frac{1}{m} \\sum_{i=1}^m \\log \\phi^{(i)}_{y^{(i)}}\n",
    "$$"
   ]
  },
  {
   "cell_type": "code",
   "execution_count": 6,
   "metadata": {
    "collapsed": false
   },
   "outputs": [],
   "source": [
    "loss = tf.reduce_mean(tf.nn.softmax_cross_entropy_with_logits(z, y))"
   ]
  },
  {
   "cell_type": "markdown",
   "metadata": {},
   "source": [
    "### Define an optimazation method\n",
    "We will use gradient descent method to optimize our loss function. tf.train.GradientDescentOptimizer(learning_rate).minimize(loss) computes a gradient based on the loss function and updates the weights (tf.Variable) we defined in the loss fucntion."
   ]
  },
  {
   "cell_type": "code",
   "execution_count": 7,
   "metadata": {
    "collapsed": false
   },
   "outputs": [],
   "source": [
    "learning_rate = 0.5\n",
    "train_step = tf.train.GradientDescentOptimizer(learning_rate).minimize(loss)"
   ]
  },
  {
   "cell_type": "markdown",
   "metadata": {},
   "source": [
    "### Train the model\n",
    "Now we have our model set up for trianing. Before launching it, we have to initialize the variables we defined."
   ]
  },
  {
   "cell_type": "code",
   "execution_count": 8,
   "metadata": {
    "collapsed": false
   },
   "outputs": [],
   "source": [
    "init = tf.initialize_all_variables()\n",
    "sess = tf.Session()\n",
    "sess.run(init)"
   ]
  },
  {
   "cell_type": "markdown",
   "metadata": {},
   "source": [
    "We can now launch our model in a Session. Session holds states such as variables until being closed. We use batch gradient descent by feeding 100 batch training examples in each iteration. You can replace any tensor in your computation graph passing it to feed_dict."
   ]
  },
  {
   "cell_type": "code",
   "execution_count": 9,
   "metadata": {
    "collapsed": false
   },
   "outputs": [],
   "source": [
    "batch_size = 100\n",
    "for _ in range(1000):\n",
    "    batch = mnist.train.next_batch(batch_size)\n",
    "    sess.run(train_step, feed_dict={x: batch[0], y: batch[1]})"
   ]
  },
  {
   "cell_type": "markdown",
   "metadata": {
    "collapsed": true
   },
   "source": [
    "### Evaluate the model\n",
    "Finally, we can evaluate the accuracy on the test data. The model's prediction can be obtained by using tf.argmax, which gives you the index of highest entry in a tensor. tf.equal enables to check if our prediction matches the truth."
   ]
  },
  {
   "cell_type": "code",
   "execution_count": 10,
   "metadata": {
    "collapsed": false
   },
   "outputs": [
    {
     "name": "stdout",
     "output_type": "stream",
     "text": [
      "0.9179\n"
     ]
    }
   ],
   "source": [
    "correct_prediction = tf.equal(tf.argmax(z, 1), tf.argmax(y, 1))\n",
    "accuracy = tf.reduce_mean(tf.cast(correct_prediction, tf.float32))\n",
    "print sess.run(accuracy, feed_dict={x: mnist.test.images, y:mnist.test.labels})\n",
    "\n",
    "# Close the Session when we're done\n",
    "sess.close()"
   ]
  },
  {
   "cell_type": "markdown",
   "metadata": {},
   "source": [
    "## Build a Neural Network Model\n",
    " Neural network are modeled as collections of neurons connected in as acyclic graph. There are several hyper parameters for the design of neural network architecture such as the number of neurons and the number of layers. In addition, we need to choose an activation function which takes a single number (mostly logits) and performs a certain mathematical operation on it.\n",
    " In this section, we will build a simple neural network with one fully-connected hidden layer for MNIST digit recognition. We are going to use the ReLU (Rectified Linear Unit)  $f(z) = max(0,z)$ as an activation function, which is getting popular recently, and the cross-entropy fucntion as a loss funciton.\n",
    "\\begin{align}\n",
    "z^1 & = w^1x + b^1 \\\\\n",
    "a^1 & = max(0, z^1) \\\\\n",
    "z^2 & = w^2a^1 + b^2 \\\\\n",
    "\\phi_j & = \\frac{e^{z_j^2}}{\\sum_{k} e^{-z_k^2}} \\\\\n",
    "L & = \\log \\phi_y\n",
    "\\end{align}\n",
    "where $z^l$: $l$ layer logits, $a^l$: $l$ layer activation\n",
    "\n",
    "Let's begin with creating two function for model parameter creation."
   ]
  },
  {
   "cell_type": "code",
   "execution_count": 11,
   "metadata": {
    "collapsed": true
   },
   "outputs": [],
   "source": [
    "def weight_variable(shape):\n",
    "    initial = tf.truncated_normal(shape, stddev=0.1)\n",
    "    return tf.Variable(initial)\n",
    "\n",
    "def bias_variable(shape):\n",
    "    initial = tf.constant(0.1, shape=shape)\n",
    "    return tf.Variable(initial)"
   ]
  },
  {
   "cell_type": "markdown",
   "metadata": {},
   "source": [
    "Here we initialize weights with small randomized values for symmetry breaking. Also, in order to avoid dead neurons, it is good practice to initialize biases with a positive value.\n",
    "\n",
    "Let's build 2-layer neural networks and compare the accuracy of models with different size of hidden layer."
   ]
  },
  {
   "cell_type": "code",
   "execution_count": 13,
   "metadata": {
    "collapsed": false
   },
   "outputs": [
    {
     "name": "stdout",
     "output_type": "stream",
     "text": [
      "size 10, step 0, loss 2.30693, training accuracy 0.13\n",
      "size 10, step 2000, loss 0.124664, training accuracy 0.97\n",
      "size 10, step 4000, loss 0.149537, training accuracy 0.95\n",
      "size 10, step 6000, loss 0.196914, training accuracy 0.95\n",
      "size 10, step 8000, loss 0.141455, training accuracy 0.94\n",
      "size 10, step 10000, loss 0.112663, training accuracy 0.96\n",
      "size 10, test accuracy 0.9336\n",
      "size 20, step 0, loss 2.32134, training accuracy 0.04\n",
      "size 20, step 2000, loss 0.259123, training accuracy 0.93\n",
      "size 20, step 4000, loss 0.188348, training accuracy 0.97\n",
      "size 20, step 6000, loss 0.0880904, training accuracy 0.95\n",
      "size 20, step 8000, loss 0.0330778, training accuracy 0.98\n",
      "size 20, step 10000, loss 0.163547, training accuracy 0.97\n",
      "size 20, test accuracy 0.9562\n",
      "size 30, step 0, loss 2.31416, training accuracy 0.11\n",
      "size 30, step 2000, loss 0.0774963, training accuracy 0.98\n",
      "size 30, step 4000, loss 0.115844, training accuracy 0.93\n",
      "size 30, step 6000, loss 0.0791531, training accuracy 0.96\n",
      "size 30, step 8000, loss 0.0216784, training accuracy 0.99\n",
      "size 30, step 10000, loss 0.0079687, training accuracy 1\n",
      "size 30, test accuracy 0.967\n",
      "size 40, step 0, loss 2.45583, training accuracy 0.1\n",
      "size 40, step 2000, loss 0.130733, training accuracy 0.97\n",
      "size 40, step 4000, loss 0.0475326, training accuracy 0.99\n",
      "size 40, step 6000, loss 0.0167952, training accuracy 1\n",
      "size 40, step 8000, loss 0.0646013, training accuracy 0.99\n",
      "size 40, step 10000, loss 0.00557586, training accuracy 1\n",
      "size 40, test accuracy 0.9717\n",
      "size 50, step 0, loss 2.32493, training accuracy 0.09\n",
      "size 50, step 2000, loss 0.079928, training accuracy 0.98\n",
      "size 50, step 4000, loss 0.0684385, training accuracy 0.99\n",
      "size 50, step 6000, loss 0.042688, training accuracy 0.98\n",
      "size 50, step 8000, loss 0.0386569, training accuracy 0.98\n",
      "size 50, step 10000, loss 0.0320923, training accuracy 0.98\n",
      "size 50, test accuracy 0.9721\n"
     ]
    }
   ],
   "source": [
    "hidden_sizes = [10, 20, 30, 40, 50] # The size of hidden layer\n",
    "max_steps = 10001 # The number of training steps\n",
    "batch_size = 100\n",
    "learning_rate = 0.5\n",
    "\n",
    "result = []\n",
    "\n",
    "for hsize in hidden_sizes:\n",
    "    \n",
    "    # Input-hidden layer\n",
    "    W1 = weight_variable([input_size, hsize])\n",
    "    b1 = bias_variable([hsize])\n",
    "    z1 = tf.matmul(x, W1) + b1\n",
    "    a1 = tf.nn.relu(z1)   \n",
    "\n",
    "    # Hidden-output layer\n",
    "    W2 = weight_variable([hsize, output_size])\n",
    "    b2 = bias_variable([output_size])\n",
    "    z2 = tf.matmul(a1, W2) + b2\n",
    "\n",
    "    # Loss function\n",
    "    loss = tf.reduce_mean(tf.nn.softmax_cross_entropy_with_logits(z2, y))\n",
    "\n",
    "    # Optimization method\n",
    "    train_step = tf.train.GradientDescentOptimizer(learning_rate).minimize(loss)\n",
    "\n",
    "    # Evaluation\n",
    "    correct_prediction = tf.equal(tf.argmax(z2, 1), tf.argmax(y, 1))\n",
    "    accuracy = tf.reduce_mean(tf.cast(correct_prediction, tf.float32))\n",
    "    \n",
    "    with tf.Session() as sess:\n",
    "        init = tf.initialize_all_variables()\n",
    "        sess.run(init)\n",
    "        for i in range(max_steps):\n",
    "            batch = mnist.train.next_batch(batch_size)\n",
    "            if i%2000 == 0:\n",
    "                loss_value, train_accuracy = sess.run([loss, accuracy], feed_dict={x:batch[0], y: batch[1]})\n",
    "                print(\"size %d, step %d, loss %g, training accuracy %g\"%(hsize, i, loss_value, train_accuracy))\n",
    "            sess.run(train_step, feed_dict={x: batch[0], y: batch[1]})\n",
    "        test_accuracy = sess.run(accuracy, feed_dict={x: mnist.test.images, y:mnist.test.labels})\n",
    "        result.append(test_accuracy)\n",
    "        print(\"size %d, test accuracy %g\"%(hsize, test_accuracy))"
   ]
  },
  {
   "cell_type": "markdown",
   "metadata": {},
   "source": [
    "Let's plot the accuracy of the models we trained and evaluated."
   ]
  },
  {
   "cell_type": "code",
   "execution_count": 14,
   "metadata": {
    "collapsed": false
   },
   "outputs": [
    {
     "data": {
      "image/png": "[encoded data removed]",
      "text/plain": [
       "<matplotlib.figure.Figure at 0x114531350>"
      ]
     },
     "metadata": {},
     "output_type": "display_data"
    }
   ],
   "source": [
    "plt.plot(hidden_sizes, result)\n",
    "plt.xlabel('size of hidden layer')\n",
    "plt.ylabel('accuracy')\n",
    "plt.show()"
   ]
  },
  {
   "cell_type": "markdown",
   "metadata": {},
   "source": [
    "As you can imagine, the more the hidden layer units are, the better the model performs. This results lead us to the idea that we can also increase the number of layers in neural networks to make it more powerful. Unfortunately, deep neural networks are often much harder to train than shallow neural networks. In order to train deep networks, we need to use several tricks."
   ]
  },
  {
   "cell_type": "markdown",
   "metadata": {},
   "source": [
    "# Build a Convolutional Network Model\n",
    "In this section, we will try to improve the accuray on MNIST with a multilayer convolutional neural network model. Convolutional nets use a special architecture which take into accout the spatial structure of the images. There are three basic ideas in convolutional nets: local receptive fields, shared weights and pooling.\n",
    "\n",
    "### Local receptive fields\n",
    "In convolutional nets, it will help to think of the inputs as 28x28 square neurons instead of 784 vertical line of neurons. We only make connections between the input layer and a hidden layer in small, localized regions. If we have a 28x28 input image, and 5x5 local receptive fields which being moved by one pixel at a time (1 stride length), then there will be 24x24 neurons in the hidden layer.\n",
    "\n",
    "### Shared weights and biases\n",
    "In addition to the local receptive fields, in convolutional layer, we use the same weights and bias for each of the 24x24 hidden neurons. In other words, the hypothesis function of $j, k$th hidden neuron is:\n",
    "$$\n",
    "z_{jk} = \\sum_{l=0}^4 \\sum_{m=0}^4 w_{l,m} a_{j+l, k+m} + b\n",
    "$$\n",
    "This means that all the neurons in the first hidden layer detect the same feature, creating a feature map. The shared weights and bias are called a filter in TensorFlow. For image recognition, we will need more than one feature map, which is represented as a set of 5x5 shared weights and a shared bias.\n",
    "\n",
    "### Pooling\n",
    "In addition to the convoluational layer described above, convolutional nets also contain pooling layer. We use a common procedure for pooling known as max-pooling, in which each unit takes the maximum activation of 2x2 input region.\n",
    "\n",
    "We will build the 4-layer convolutional nets consisting two convolutional and pooling layers and two fully-connected layer."
   ]
  },
  {
   "cell_type": "markdown",
   "metadata": {},
   "source": [
    "### First Convolutional Layer\n",
    "Let's begin with defining input features and a filter in the first convolutional layer. The input feature tensor must be reshaped to [batch, in_height, in_width, in_channels] where in_height=28, in_width=28, in_channels=1. We can think of in_channels as the depth of the layer. If we have color images, in_channels must be 3.\n",
    "\n",
    "Nest, we define the weights tensor of shape [filter_height, filter_width, in_channels, out_channels] where filter_height=5, filter=width=5, in_channels=1, out_channels=32, meaning 32 sets of 5x5x1 local receptive fields."
   ]
  },
  {
   "cell_type": "code",
   "execution_count": 15,
   "metadata": {
    "collapsed": false
   },
   "outputs": [],
   "source": [
    "x_image = tf.reshape(x, [-1,28,28,1])\n",
    "W_conv1 = weight_variable([5, 5, 1, 32])\n",
    "b_conv1 = bias_variable([32])"
   ]
  },
  {
   "cell_type": "markdown",
   "metadata": {},
   "source": [
    "We now can compute a convolution and a pooling. conv2d funciton computes convolution given 4-D input and filter tensors with stride-length 1, returning a 4-D tensor of shape [batch, 28, 28, 32] in the first convolutional layer. max_pool_2x2 fucntion computes max-pooling fo 2x2 input region, resulting in a [batch, 14, 14, 32] shaped tensor."
   ]
  },
  {
   "cell_type": "code",
   "execution_count": 14,
   "metadata": {
    "collapsed": true
   },
   "outputs": [],
   "source": [
    "def conv2d(x, W):\n",
    "    return tf.nn.conv2d(x, W, strides=[1, 1, 1, 1], padding='SAME')\n",
    "\n",
    "def max_pool_2x2(x):\n",
    "    return tf.nn.max_pool(x, ksize=[1, 2, 2, 1],\n",
    "                        strides=[1, 2, 2, 1], padding='SAME')\n",
    "\n",
    "a_conv1 = tf.nn.relu(conv2d(x_image, W_conv1) + b_conv1)\n",
    "a_pool1 = max_pool_2x2(a_conv1)"
   ]
  },
  {
   "cell_type": "markdown",
   "metadata": {},
   "source": [
    "### Second Convolutional Layer\n",
    "\n",
    "We can design a filter, convolution and pooling in the second convoluational layer in the same way. Here, we create 64 feature maps from 32 feature maps from the first layer. The output of the pooling will be a tensor of shape [batch, 7, 7, 64]."
   ]
  },
  {
   "cell_type": "code",
   "execution_count": 16,
   "metadata": {
    "collapsed": true
   },
   "outputs": [],
   "source": [
    "W_conv2 = weight_variable([5, 5, 32, 64])\n",
    "b_conv2 = bias_variable([64])\n",
    "a_conv2 = tf.nn.relu(conv2d(a_pool1, W_conv2) + b_conv2)\n",
    "a_pool2 = max_pool_2x2(a_conv2)"
   ]
  },
  {
   "cell_type": "markdown",
   "metadata": {},
   "source": [
    "### Densely Connected Layer\n",
    "We will add a fully-connected layer with 1024 neurons. We reshape the tensor from the pooling layer and apply a ReLU activation to the logits."
   ]
  },
  {
   "cell_type": "code",
   "execution_count": 17,
   "metadata": {
    "collapsed": true
   },
   "outputs": [],
   "source": [
    "a_pool2_flat = tf.reshape(a_pool2, [-1, 7*7*64])\n",
    "W_fc1 = weight_variable([7 * 7 * 64, 1024])\n",
    "b_fc1 = bias_variable([1024])\n",
    "a_fc1 = tf.nn.relu(tf.matmul(a_pool2_flat, W_fc1) + b_fc1)"
   ]
  },
  {
   "cell_type": "markdown",
   "metadata": {},
   "source": [
    "We will introduce a regularization technique called dropout, which modifies the network during training. Wiht dropout, we start by randomly deleting certain amount of the hidden neurons in the network in each batch gradient decent process. We will define the probability of dropout as placeholder. Note that the dropout should be performed only when we are training the network."
   ]
  },
  {
   "cell_type": "code",
   "execution_count": null,
   "metadata": {
    "collapsed": true
   },
   "outputs": [],
   "source": [
    "keep_prob = tf.placeholder(tf.float32)\n",
    "a_fc1_drop = tf.nn.dropout(a_fc1, keep_prob)"
   ]
  },
  {
   "cell_type": "markdown",
   "metadata": {},
   "source": [
    "Finally, we add a readout layer just like the one layer of softmax regression."
   ]
  },
  {
   "cell_type": "code",
   "execution_count": 18,
   "metadata": {
    "collapsed": true
   },
   "outputs": [],
   "source": [
    "W_fc2 = weight_variable([1024, 10])\n",
    "b_fc2 = bias_variable([10])\n",
    "z_conv = tf.matmul(a_fc1_drop, W_fc2) + b_fc2"
   ]
  },
  {
   "cell_type": "markdown",
   "metadata": {},
   "source": [
    "### Train and Evaluate the CNN model\n",
    "The code for traning and evaluation of convoluational nets are almost the same as 2-layer neural networks except that we use ADAM optimizer and feed the additional parameter, keep_prob, to control dropout rate."
   ]
  },
  {
   "cell_type": "code",
   "execution_count": 19,
   "metadata": {
    "collapsed": false
   },
   "outputs": [
    {
     "name": "stdout",
     "output_type": "stream",
     "text": [
      "step 0, training accuracy 0.06\n",
      "step 2000, training accuracy 1\n",
      "step 4000, training accuracy 1\n",
      "step 6000, training accuracy 1\n",
      "step 8000, training accuracy 1\n",
      "step 10000, training accuracy 1\n",
      "step 12000, training accuracy 1\n",
      "step 14000, training accuracy 1\n",
      "step 16000, training accuracy 1\n",
      "step 18000, training accuracy 1\n",
      "step 20000, training accuracy 1\n",
      "test accuracy 0.9916\n"
     ]
    }
   ],
   "source": [
    "max_steps = 20001\n",
    "batch_size = 50\n",
    "learning_rate = 1e-4\n",
    "\n",
    "loss = tf.reduce_mean(tf.nn.softmax_cross_entropy_with_logits(z_conv, y))\n",
    "train_step = tf.train.AdamOptimizer(learning_rate).minimize(loss)\n",
    "correct_prediction = tf.equal(tf.argmax(z_conv,1), tf.argmax(y,1))\n",
    "accuracy = tf.reduce_mean(tf.cast(correct_prediction, tf.float32))\n",
    "\n",
    "with tf.Session() as sess:\n",
    "    sess.run(tf.initialize_all_variables())\n",
    "\n",
    "    for i in range(max_steps):\n",
    "        batch = mnist.train.next_batch(batch_size)\n",
    "        if i%2000 == 0:\n",
    "            # set keep_probability 1.0 when we evaluate the model\n",
    "            train_accuracy = accuracy.eval(feed_dict={\n",
    "                x:batch[0], y: batch[1], keep_prob: 1.0})\n",
    "            print(\"step %d, training accuracy %g\"%(i, train_accuracy))\n",
    "        train_step.run(feed_dict={x: batch[0], y: batch[1], keep_prob: 0.5})\n",
    "\n",
    "    # set keep_probability 1.0 when we evaluate the model\n",
    "    print(\"test accuracy %g\"%accuracy.eval(feed_dict={\n",
    "        x: mnist.test.images, y: mnist.test.labels, keep_prob: 1.0}))"
   ]
  },
  {
   "cell_type": "markdown",
   "metadata": {},
   "source": [
    "We obtained a test accuracy of 99.2 percent!"
   ]
  },
  {
   "cell_type": "markdown",
   "metadata": {
    "collapsed": true
   },
   "source": [
    "### Summary and references\n",
    "We have learned how to quickly build, train and evaluate a fairly sophisticated neural network using TensorFlow. This tutorial covers only a few elements of neural network models. Further information is available from the following links.\n",
    "1. TensorFlow: https://www.tensorflow.org/\n",
    "2. Neural networks and deep learning: http://neuralnetworksanddeeplearning.com/"
   ]
  },
  {
   "cell_type": "code",
   "execution_count": null,
   "metadata": {
    "collapsed": true
   },
   "outputs": [],
   "source": []
  }
 ],
 "metadata": {
  "anaconda-cloud": {},
  "kernelspec": {
   "display_name": "Python 2",
   "language": "python",
   "name": "python2"
  },
  "language_info": {
   "codemirror_mode": {
    "name": "ipython",
    "version": 2
   },
   "file_extension": ".py",
   "mimetype": "text/x-python",
   "name": "python",
   "nbconvert_exporter": "python",
   "pygments_lexer": "ipython2",
   "version": "2.7.11"
  }
 },
 "nbformat": 4,
 "nbformat_minor": 0
}
