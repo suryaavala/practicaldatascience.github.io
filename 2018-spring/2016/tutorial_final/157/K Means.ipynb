{
 "cells": [
  {
   "cell_type": "markdown",
   "metadata": {},
   "source": [
    "# K-Means Clustering \n",
    "## Introduction\n",
    "K-Means Clustering is an algorithm that is used to partition a set of data. The algorithm splits the data into k different groups, where k is specified by the user. The final result from the clustering results in k different groups that have split up all n points to belong to one of the groups.\n",
    "\n",
    "## Highlight of the Algorithm\n",
    "The main algorithm involves inputting a data set and the number of groups ($k$) that the data will be split up into. We start off with intializing $k$ different means randomly. This can be done by either picking points on the graph randomly or randomly picking k points from the data set. After initializing our means, we will go through each point in the data set and assign it to the mean that is closest to. After assigning each point to a mean, we will then iterate through each mean and collect all of the data points that we said belonged to that mean value group. Using this collection, we can calculate the new mean by finding the average of all the points associated to that group. We repeat the process of calculating the new mean for all of the k means. After computing the new means, we can check to see if they are the same as before, if not then we run the whole algorithm starting from the data point assignment to each mean and continue until the means do not change.\n",
    "\n",
    "Generally, it may take too long to ensure that all means are unchanged; thus, you can limit the run time of the algorithm by changing certain parameters to stop running. We can do this by defining a certain number of iterations, after which, the algorithm will stop running. We can also play with recomputation of means (explained more later).\n",
    "The following picture shows a good representation of how the K Means Clustering Algorithm works for 2 iterations. The points A1-A8 are all the data points from the data set, while the red \"X\" represents the mean for that algorithm. Since there are only 3 red \"X\"s there are only 3 groups that the data can be split into, so $k = 3$ in this situation. \n",
    "![title](k-means-4.gif)\n",
    "From the picture above, we can see that the assignment of groups on the data points to each mean changed after one main iteration. Initially, A4 was a part of the cluster to the top, but after recomputing the mean, it became clustered with the mean to the right. It is not uncommon for points to change categories each iteration since the means move around until they have found a stable spot. In addition, notice how the means (the red X's) have changed from the previous iteration to the next. Recall that this occurs from the recomputing means step in the algorithm. Thus, the means keep changing every iteration until we have found a stable spot for them.\n"
   ]
  },
  {
   "cell_type": "code",
   "execution_count": 203,
   "metadata": {
    "collapsed": true
   },
   "outputs": [],
   "source": [
    "import pandas as pd\n",
    "import numpy as np\n",
    "import random\n",
    "import math"
   ]
  },
  {
   "cell_type": "markdown",
   "metadata": {
    "collapsed": true
   },
   "source": [
    "To recap, our code should have this general format:\n",
    "\n",
    "    Pick k random means (can be from the original data set)\n",
    "    For each point in the data set\n",
    "        Get the min distance between the point and each mean\n",
    "        Mark the point with the mean it is closest to\n",
    "    For each mean\n",
    "        Compute the new mean using the points that belong to the cluster\n",
    "    If new means have changed/number of max iterations not met run the first for loop again\n",
    "    "
   ]
  },
  {
   "cell_type": "markdown",
   "metadata": {},
   "source": [
    "# K-Means on 2D Plane"
   ]
  },
  {
   "cell_type": "markdown",
   "metadata": {},
   "source": [
    "We will now break the algorithm into different parts to make it easier to understand. In addition, for this lesson, we will be looking at performing K-Means on a 2D plane (only x and y coordinate points). Since we will be using a 2D plane, we can compute the shortest distance between a point and its mean using the euclidean distance of measurement (explained below)."
   ]
  },
  {
   "cell_type": "markdown",
   "metadata": {},
   "source": [
    "## Finding Best Mean\n",
    "We will first look at the helper function that can be used to compute the best mean given a point from the data we would like to cluster. This function iterates through all the means we have found and computes the euclidean distance from the given point to the current mean. We perform this operation in order to find the mean the data point is closest to. The function then returns the mean that has the shortest distance to the point.\n",
    "The code below reflects this description.\n",
    "\n",
    "Recall that the Euclidean distance between two points ($x_1$,$y_1$), ($x_2$,$y_2$) is: \n",
    "$$\\sum_{} (x_1-x_2)^2+(y_1-y_2)^2$$"
   ]
  },
  {
   "cell_type": "code",
   "execution_count": 204,
   "metadata": {
    "collapsed": true
   },
   "outputs": [],
   "source": [
    "def computeBestMean(x, y, means):\n",
    "    \"\"\"\n",
    "    Computes the closest point to the coordinate passed in from the list of means.\n",
    "    x : (int) x-coordinate\n",
    "    y: (int) y-coordinate\n",
    "    means: (pandas.Series) Series of all the current computed means\n",
    "    Output: \n",
    "        (int,int) The closest mean to the point\n",
    "    \"\"\"\n",
    "    (initx, inity) = means[0]\n",
    "    xchange = (x-float(initx))**2\n",
    "    ychange = (y-float(inity))**2\n",
    "    bestDist = math.sqrt(xchange + ychange)\n",
    "    bestM = (initx,inity)\n",
    "    for it in means:\n",
    "        (z1,z2) = it\n",
    "        xch = (x-float(z1))**2\n",
    "        ych = (y-float(z2))**2\n",
    "        cur = math.sqrt(xch + ych)\n",
    "        if cur < bestDist:\n",
    "            bestM = it\n",
    "            bestDist = cur\n",
    "    return bestM"
   ]
  },
  {
   "cell_type": "code",
   "execution_count": 205,
   "metadata": {
    "collapsed": false
   },
   "outputs": [
    {
     "name": "stdout",
     "output_type": "stream",
     "text": [
      "(2, 3)\n",
      "(5, 5)\n"
     ]
    }
   ],
   "source": [
    "#Test computeBestMean\n",
    "initM = [(0,0), (2,3), (5,5), (60,20)]\n",
    "cluster = pd.DataFrame({'mean': initM})\n",
    "cluster['points'] = initM\n",
    "print computeBestMean (3,4, cluster['mean'])\n",
    "print computeBestMean (7,8, cluster['mean'])"
   ]
  },
  {
   "cell_type": "markdown",
   "metadata": {},
   "source": [
    "![title](figure_1.png) \n",
    "\n",
    "From this image we see that blue points are the means and red points are the points we are computing and trying to find the closest mean. You can clearly see which means the red points are closest to."
   ]
  },
  {
   "cell_type": "markdown",
   "metadata": {},
   "source": [
    "## Add Point to Cluster\n",
    "We will now create a function called $update$ that will add the point to the mean it was closest to (computed from $computeBestMean$) in our cluster representation. The function takes in 3 paramters: the data frame representing the cluster structure, the mean the given point is closest to, and the point itself. The cluster dataframe has 2 columns: $mean$, which represents the middle of the cluster, and $points$, which contains all the points that are categorized to that particular cluster."
   ]
  },
  {
   "cell_type": "code",
   "execution_count": 206,
   "metadata": {
    "collapsed": true
   },
   "outputs": [],
   "source": [
    "def update(clust, me, pt):\n",
    "    \"\"\"\n",
    "    Adds the given point to the cluster at the specified mean\n",
    "    clust: (pandas.DataFrame) cluster structure that has two columns: means and points\n",
    "    me: (int, int) The mean that the point is associated with\n",
    "    pt: (int, int) The point we need to add the cluster structure\n",
    "    Output:\n",
    "        (pandas.DataFrame) cluster with point added to its particular spot\n",
    "    \"\"\"\n",
    "    for i, row in clust.iterrows():\n",
    "        if (row['mean'] == me):\n",
    "            temp = row['points']\n",
    "            added = temp + [pt]\n",
    "            clust['points'][i] = added\n",
    "    return clust"
   ]
  },
  {
   "cell_type": "code",
   "execution_count": 208,
   "metadata": {
    "collapsed": false
   },
   "outputs": [
    {
     "name": "stdout",
     "output_type": "stream",
     "text": [
      "original cluster:\n",
      "       mean points\n",
      "0    (0, 0)     []\n",
      "1    (2, 3)     []\n",
      "2    (5, 5)     []\n",
      "3  (60, 20)     []\n",
      "final updated cluster\n",
      "       mean                     points\n",
      "0    (0, 0)                         []\n",
      "1    (2, 3)                   [(3, 4)]\n",
      "2    (5, 5)  [(8, 2), (6, 4), (20, 2)]\n",
      "3  (60, 20)                  [(50, 5)]\n"
     ]
    }
   ],
   "source": [
    "#Test update\n",
    "cluster = pd.DataFrame({'mean': initM})\n",
    "cluster['points'] = initM\n",
    "temp = cluster['points'].apply(lambda x: [])\n",
    "cluster['points'] = temp\n",
    "output = computeBestMean(3,4, cluster['mean'])\n",
    "print \"original cluster:\"\n",
    "print cluster\n",
    "clust = update(cluster, output, (3,4))\n",
    "clust = update(cluster, computeBestMean(8,2, cluster['mean']), (8,2))\n",
    "clust = update(cluster, computeBestMean(6,4, cluster['mean']), (6,4))\n",
    "clust = update(cluster, computeBestMean(20,2, cluster['mean']), (20,2))\n",
    "clust = update(cluster, computeBestMean(50,5, cluster['mean']), (50,5))\n",
    "print \"final updated cluster\"\n",
    "print clust"
   ]
  },
  {
   "cell_type": "markdown",
   "metadata": {
    "collapsed": true
   },
   "source": [
    "## Recompute Means\n",
    "Recall in the K Means algorithm that at the end of each iteration, we recompute the means after assigning all points to a mean. \n",
    "\n",
    "The following function, $recomputeMeans$, takes a cluster which is represented as data frame that has a $mean$ column and a $points$ column. The $points$ column consists of a list of tuples where each tuple represents a point that is classified into that mean. The function will compute the average point of all the points in the list. It will then set the respective mean to the computed value in the cluster data frame. This way, the next time we use the cluster representation, it will have the updated means in the $means$ column.\n"
   ]
  },
  {
   "cell_type": "code",
   "execution_count": 209,
   "metadata": {
    "collapsed": false
   },
   "outputs": [],
   "source": [
    "def recomputeMeans(clust):\n",
    "    \"\"\"\n",
    "    Recalculates the means for the cluster structure depending on the \n",
    "    points that were grouped to that mean\n",
    "    clust: (pd.DataFrame) Cluster data frame with 2 columns: mean, points\n",
    "    Output:\n",
    "        (pd.DataFrame) cluster data frame with recalculated means\n",
    "    \"\"\"\n",
    "    for i,row in clust.iterrows():\n",
    "        cur = row['points']\n",
    "        if (len(cur) > 0):\n",
    "            x = map((lambda (i,j): float(i)), cur)\n",
    "            y = map((lambda (i,j): float(j)), cur)\n",
    "            newX = sum(x)/len(x)\n",
    "            newY = sum(y)/len(y)\n",
    "            newM = (newX,newY)\n",
    "            clust['mean'][i] = newM\n",
    "    return clust"
   ]
  },
  {
   "cell_type": "code",
   "execution_count": 210,
   "metadata": {
    "collapsed": false
   },
   "outputs": [
    {
     "name": "stdout",
     "output_type": "stream",
     "text": [
      "                             mean                     points\n",
      "0                          (0, 0)                         []\n",
      "1                      (3.0, 4.0)                   [(3, 4)]\n",
      "2  (11.3333333333, 2.66666666667)  [(8, 2), (6, 4), (20, 2)]\n",
      "3                     (50.0, 5.0)                  [(50, 5)]\n"
     ]
    }
   ],
   "source": [
    "#Test recomputeMeans\n",
    "recom = recomputeMeans(clust)\n",
    "print recom"
   ]
  },
  {
   "cell_type": "markdown",
   "metadata": {},
   "source": [
    "## Clear Points\n",
    "This function resets all values from the points column of the data frame by setting them to be empty arrays. Thus the only significant values left will be in the mean column of the cluster data frame. \n",
    "\n",
    "This function will be used later in the main algorithm when we have updated the means and want to recategorize the points with the new means that we calculated."
   ]
  },
  {
   "cell_type": "code",
   "execution_count": 211,
   "metadata": {
    "collapsed": true
   },
   "outputs": [],
   "source": [
    "def clearVals(clust):\n",
    "    \"\"\"\n",
    "    Clears all the points in the points column of the cluster data frame\n",
    "    clust: (pandas.DataFrame) Cluster data frame with mean and points columns\n",
    "    Output:\n",
    "        (pandas.DataFrame) Cluster data frame with mean and points column\n",
    "    \"\"\"\n",
    "    temp = clust['points'].apply(lambda x: [])\n",
    "    clust['points'] = temp\n",
    "    return clust"
   ]
  },
  {
   "cell_type": "code",
   "execution_count": 212,
   "metadata": {
    "collapsed": false
   },
   "outputs": [
    {
     "name": "stdout",
     "output_type": "stream",
     "text": [
      "                             mean                     points\n",
      "0                          (0, 0)                         []\n",
      "1                      (3.0, 4.0)                   [(3, 4)]\n",
      "2  (11.3333333333, 2.66666666667)  [(8, 2), (6, 4), (20, 2)]\n",
      "3                     (50.0, 5.0)                  [(50, 5)]\n",
      "                             mean points\n",
      "0                          (0, 0)     []\n",
      "1                      (3.0, 4.0)     []\n",
      "2  (11.3333333333, 2.66666666667)     []\n",
      "3                     (50.0, 5.0)     []\n"
     ]
    }
   ],
   "source": [
    "#Test clearVals\n",
    "print clust\n",
    "newclust = clearVals(clust)\n",
    "print newclust"
   ]
  },
  {
   "cell_type": "markdown",
   "metadata": {},
   "source": [
    "## Changing Means\n",
    "The function $changingMeans$ will be used see if there is a difference between the old means and the recomputed means. The function returns 0 if there is no difference, else it returns 1."
   ]
  },
  {
   "cell_type": "code",
   "execution_count": 213,
   "metadata": {
    "collapsed": false
   },
   "outputs": [],
   "source": [
    "def changingMeans(old, cur):\n",
    "    \"\"\"\n",
    "    Checks to see if the points in old are different from the points in cur\n",
    "    old: (pandas.Series) tuples of ints\n",
    "    cur: (pandas.Series) tuples of ints\n",
    "    Output:\n",
    "        0 if all respective points are the same between old and cur, else 0\n",
    "    \"\"\"\n",
    "    for i in range (old.size):\n",
    "        if ((old[i][0] != cur[i][0]) or (old[i][1] != cur[i][1])):\n",
    "            return 1\n",
    "    return 0"
   ]
  },
  {
   "cell_type": "markdown",
   "metadata": {},
   "source": [
    "## Combine All Parts\n",
    "We can now combine all of the helper functions we created to be used in the K Means algorithm. Recall that the algorithm follows this format: \n",
    "\n",
    "    Pick k random means (can be from the original data set)\n",
    "    For each point in the data set\n",
    "        Get the min distance between the point and each mean\n",
    "        Mark the point with the mean it is closest to\n",
    "    For each mean\n",
    "        Compute the new mean using the points that belong to the cluster\n",
    "    If new means have changed/number of max iterations not met run the first for loop again"
   ]
  },
  {
   "cell_type": "code",
   "execution_count": 214,
   "metadata": {
    "collapsed": false
   },
   "outputs": [],
   "source": [
    "def kMeansOn2D(data, k, numiters):\n",
    "    \"\"\"\n",
    "    Function that takes the data from a csv and the number of clusters wanted.\n",
    "    data: Dataframe that has the x and y coordinates of the data\n",
    "    k: Number of clusters needed\n",
    "    \"\"\"\n",
    "    initMeans = []\n",
    "    it = 0\n",
    "    df = data.copy()\n",
    "    \n",
    "    #Initialize the k means by randomly picking k values from the data points\n",
    "    while (it < k):\n",
    "        s = random.randint(0, len(data)-1)\n",
    "        x = data[\"X-coord\"][s]\n",
    "        y = data[\"Y-coord\"][s]\n",
    "        if (not (x,y) in initMeans):\n",
    "            initMeans.append((x,y))\n",
    "            it = it+1\n",
    "            \n",
    "    #Create the initial cluster data frame\n",
    "    curIter = 0\n",
    "    cluster = pd.DataFrame({'mean': initMeans})\n",
    "    cluster['points'] = initMeans\n",
    "    temp = cluster['points'].apply(lambda x: [])\n",
    "    cluster['points'] = temp\n",
    "    prevM = cluster['mean']\n",
    "    stable = 0\n",
    "    stableprev = 0\n",
    "\n",
    "    #True K-Means Algorithm\n",
    "    while ((curIter < numiters) ):\n",
    "        cluster = clearVals(cluster)\n",
    "        \n",
    "        #Compute closest mean for all points in the data file and add it to the cluster data frame\n",
    "        for i in range(0,len(data)):\n",
    "            x1 = data[\"X-coord\"][i]\n",
    "            y1 = data[\"Y-coord\"][i]\n",
    "            me = computeBestMean(float(x1),float(y1), cluster['mean'])\n",
    "            cluster = update(cluster, me, (x1,y1))\n",
    "        cluster1 = cluster.copy()\n",
    "        prevM = cluster1['mean']\n",
    "        \n",
    "        #Recompute the means\n",
    "        cluster = recomputeMeans(cluster)\n",
    "        \n",
    "        #Check if means have changed\n",
    "        if (changingMeans(prevM, cluster['mean']) == 0):\n",
    "            if (stableprev == 0):\n",
    "                stableprev = 1\n",
    "            else:\n",
    "                curIter = numiters + 1\n",
    "        else:\n",
    "            stableprev = 0\n",
    "            curIter = curIter + 1\n",
    "    return cluster"
   ]
  },
  {
   "cell_type": "code",
   "execution_count": 215,
   "metadata": {
    "collapsed": false
   },
   "outputs": [
    {
     "data": {
      "text/html": [
       "<div>\n",
       "<table border=\"1\" class=\"dataframe\">\n",
       "  <thead>\n",
       "    <tr style=\"text-align: right;\">\n",
       "      <th></th>\n",
       "      <th>mean</th>\n",
       "      <th>points</th>\n",
       "    </tr>\n",
       "  </thead>\n",
       "  <tbody>\n",
       "    <tr>\n",
       "      <th>0</th>\n",
       "      <td>(-21.8142414861, -207.941176471)</td>\n",
       "      <td>[(-59, -148), (-159, -307), (-55, -58), (20, -...</td>\n",
       "    </tr>\n",
       "    <tr>\n",
       "      <th>1</th>\n",
       "      <td>(312.292857143, 20.825)</td>\n",
       "      <td>[(372, -137), (89, 135), (109, -38), (351, -11...</td>\n",
       "    </tr>\n",
       "    <tr>\n",
       "      <th>2</th>\n",
       "      <td>(312.729508197, -342.053278689)</td>\n",
       "      <td>[(377, -185), (284, -204), (386, -368), (390, ...</td>\n",
       "    </tr>\n",
       "    <tr>\n",
       "      <th>3</th>\n",
       "      <td>(-248.203557312, 278.90513834)</td>\n",
       "      <td>[(-144, 478), (-128, 279), (-441, 47), (-116, ...</td>\n",
       "    </tr>\n",
       "    <tr>\n",
       "      <th>4</th>\n",
       "      <td>(245.459283388, 346.179153094)</td>\n",
       "      <td>[(381, 364), (426, 236), (278, 426), (46, 438)...</td>\n",
       "    </tr>\n",
       "    <tr>\n",
       "      <th>5</th>\n",
       "      <td>(-338.463126844, -245.247787611)</td>\n",
       "      <td>[(-257, -328), (-326, -172), (-464, -139), (-4...</td>\n",
       "    </tr>\n",
       "  </tbody>\n",
       "</table>\n",
       "</div>"
      ],
      "text/plain": [
       "                               mean  \\\n",
       "0  (-21.8142414861, -207.941176471)   \n",
       "1           (312.292857143, 20.825)   \n",
       "2   (312.729508197, -342.053278689)   \n",
       "3    (-248.203557312, 278.90513834)   \n",
       "4    (245.459283388, 346.179153094)   \n",
       "5  (-338.463126844, -245.247787611)   \n",
       "\n",
       "                                              points  \n",
       "0  [(-59, -148), (-159, -307), (-55, -58), (20, -...  \n",
       "1  [(372, -137), (89, 135), (109, -38), (351, -11...  \n",
       "2  [(377, -185), (284, -204), (386, -368), (390, ...  \n",
       "3  [(-144, 478), (-128, 279), (-441, 47), (-116, ...  \n",
       "4  [(381, 364), (426, 236), (278, 426), (46, 438)...  \n",
       "5  [(-257, -328), (-326, -172), (-464, -139), (-4...  "
      ]
     },
     "execution_count": 215,
     "metadata": {},
     "output_type": "execute_result"
    }
   ],
   "source": [
    "#Test K-Means\n",
    "d = pd.read_csv(\"coordinates.csv\", na_filter = False)\n",
    "kMeansOn2D(d, 6, 50)"
   ]
  },
  {
   "cell_type": "markdown",
   "metadata": {},
   "source": [
    "Notice in the code above that I introduced a $stableprev$ variable. I used this to ensure that the means do not change for at least 2 iterations of the K-Means algorithm. This way we know that the means we have calculated are truly stable."
   ]
  },
  {
   "cell_type": "markdown",
   "metadata": {},
   "source": [
    "# Conclusion\n",
    "Python in fact has its own built-in functions from the scikit library for K-Means. It would be easier to use these functions if you would like a quick implementation of K-Means. You can read more about it here: http://scikit-learn.org/stable/modules/generated/sklearn.cluster.KMeans.html\n",
    "\n",
    "Recall that the above implementation focuses on using K-Means on a 2D plane. However, the algorithm can be used on all kinds of data sets depending on how you represent the data and the distance technique you would like to use. For example, if you would like to use K-Means clustering on categorical data, you can use the K-modes algorithm. You can find further information on K-Modes here: https://arxiv.org/ftp/cs/papers/0603/0603120.pdf\n"
   ]
  },
  {
   "cell_type": "code",
   "execution_count": null,
   "metadata": {
    "collapsed": true
   },
   "outputs": [],
   "source": []
  }
 ],
 "metadata": {
  "kernelspec": {
   "display_name": "Python 2",
   "language": "python",
   "name": "python2"
  },
  "language_info": {
   "codemirror_mode": {
    "name": "ipython",
    "version": 2
   },
   "file_extension": ".py",
   "mimetype": "text/x-python",
   "name": "python",
   "nbconvert_exporter": "python",
   "pygments_lexer": "ipython2",
   "version": "2.7.10"
  }
 },
 "nbformat": 4,
 "nbformat_minor": 1
}
