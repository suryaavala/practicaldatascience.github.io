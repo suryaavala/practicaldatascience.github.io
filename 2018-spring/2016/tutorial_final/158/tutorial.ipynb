{
 "cells": [
  {
   "cell_type": "markdown",
   "metadata": {},
   "source": [
    "## Introduction\n",
    "\n",
    "One extremeley important topic in data science is data graphics and visualization. These incredibly useful tools make it significantly easier to quickly spot trends in data without having to comb through tables of numbers that often do not make sense at first glance. Furthermore, graphs make it much easier to explain and communicate data in addition to understanding it. While there are plenty of ways to implement graphs, 2 of the most effective ones are the google charts api, and python's plotly library. Google charts uses HTML. Thus, in order to run the code for the examples, you need to type %%HTML at the beginning of each cell. Plotly is an extensive graphical library which contains several advanced data visualization techniques including error bars, network graphs, and 3d scatter plots. You must create a free account in order to use it, and the instructions for doing so are provided. \n"
   ]
  },
  {
   "cell_type": "markdown",
   "metadata": {},
   "source": [
    "### Tutorial content\n",
    "\n",
    "This tutorial will cover the following:\n",
    "- [Creating and Populating Data Tables](#Creating and Populating Data Tables)\n",
    "- [Modifying Settings](#Modifying Settings)\n",
    "- [Drawing the Chart](#Bar Graphs in Google Charts)\n",
    "- [Pie Chart](#Histograms in Google Charts)\n",
    "- [Scatterchart](#Scatter Plots in Google Charts)\n",
    "- [Plotly](#Scatter Plots in Plotly)\n"
   ]
  },
  {
   "cell_type": "markdown",
   "metadata": {},
   "source": [
    "# Google Charts "
   ]
  },
  {
   "cell_type": "markdown",
   "metadata": {},
   "source": [
    "## Creating and Populating Data Tables"
   ]
  },
  {
   "cell_type": "markdown",
   "metadata": {},
   "source": [
    "There are multiple ways to initialize a table and add rows. Here we will go over 3 of these ways, creating 3 identical tables, each specified using a different method"
   ]
  },
  {
   "cell_type": "markdown",
   "metadata": {},
   "source": [
    "Tables are of type var. To initialize an empty table, use the function google.visualization.DataTable(). Use addColumn() to add columns, and addRow() to add rows. addColumn takes in the variable type and variable name, and addRow simply takes in the values of the variables for that particular row. You can either specify the data while adding the rows, or add blank rows and then add the data. "
   ]
  },
  {
   "cell_type": "markdown",
   "metadata": {},
   "source": [
    "Adding the data along with rows"
   ]
  },
  {
   "cell_type": "code",
   "execution_count": 7,
   "metadata": {
    "collapsed": false
   },
   "outputs": [
    {
     "data": {
      "text/html": [
       "var data1 = new google.visualization.DataTable();\n",
       "data1.addColumn('string','var1')\n",
       "data1.addColumn('number','var2')\n",
       "data1.addRow('x',1)\n",
       "data1.addRow('y',2)"
      ],
      "text/plain": [
       "<IPython.core.display.HTML object>"
      ]
     },
     "metadata": {},
     "output_type": "display_data"
    }
   ],
   "source": [
    "%%HTML\n",
    "var data1 = new google.visualization.DataTable();\n",
    "data1.addColumn('string','var1')\n",
    "data1.addColumn('number','var2')\n",
    "data1.addRow('x',1)\n",
    "data1.addRow('y',2)"
   ]
  },
  {
   "cell_type": "markdown",
   "metadata": {},
   "source": [
    "Adding empty rows, and then assigning the cells values"
   ]
  },
  {
   "cell_type": "code",
   "execution_count": 8,
   "metadata": {
    "collapsed": false
   },
   "outputs": [
    {
     "data": {
      "text/html": [
       "var data2=new google.visualization.DataTable();\n",
       "data2.addColumn('string','var1')\n",
       "data2.addColumn('number','var2')\n",
       "data2.addRows(2)\n",
       "data2.setCell(0,0,'x')\n",
       "data2.setCell(0,1,1)\n",
       "data2.setCell(1,0,'y')\n",
       "data2.setCell(1,1,2)"
      ],
      "text/plain": [
       "<IPython.core.display.HTML object>"
      ]
     },
     "metadata": {},
     "output_type": "display_data"
    }
   ],
   "source": [
    "%%HTML\n",
    "var data2=new google.visualization.DataTable();\n",
    "data2.addColumn('string','var1')\n",
    "data2.addColumn('number','var2')\n",
    "data2.addRows(2)\n",
    "data2.setCell(0,0,'x')\n",
    "data2.setCell(0,1,1)\n",
    "data2.setCell(1,0,'y')\n",
    "data2.setCell(1,1,2)"
   ]
  },
  {
   "cell_type": "markdown",
   "metadata": {},
   "source": [
    "Finally, it is also possible to create a data table directly from an array"
   ]
  },
  {
   "cell_type": "code",
   "execution_count": 9,
   "metadata": {
    "collapsed": false
   },
   "outputs": [
    {
     "data": {
      "text/html": [
       "var data3 = google.visualization.arrayToDataTable([\n",
       "       ['var1', 'var2'],\n",
       "       ['x', 1],\n",
       "       ['y', 2]\n",
       "      ]); "
      ],
      "text/plain": [
       "<IPython.core.display.HTML object>"
      ]
     },
     "metadata": {},
     "output_type": "display_data"
    }
   ],
   "source": [
    "%%HTML\n",
    "var data3 = google.visualization.arrayToDataTable([\n",
    "       ['var1', 'var2'],\n",
    "       ['x', 1],\n",
    "       ['y', 2]\n",
    "      ]); "
   ]
  },
  {
   "cell_type": "markdown",
   "metadata": {},
   "source": [
    "## Modifying Settings"
   ]
  },
  {
   "cell_type": "markdown",
   "metadata": {},
   "source": [
    "You must create a dictionary containing each option as a key, and map it to your desired value for that option. There are several options for each type of chart, including background color, font, area, and style. Here we will cover some of the basic ones."
   ]
  },
  {
   "cell_type": "code",
   "execution_count": 10,
   "metadata": {
    "collapsed": false
   },
   "outputs": [
    {
     "data": {
      "text/html": [
       "var options = {\n",
       "  'title':'title',\n",
       "  'width':500,\n",
       "  'height':500\n",
       "}"
      ],
      "text/plain": [
       "<IPython.core.display.HTML object>"
      ]
     },
     "metadata": {},
     "output_type": "display_data"
    }
   ],
   "source": [
    "%%HTML\n",
    "var options = {\n",
    "  'title':'title',\n",
    "  'width':500,\n",
    "  'height':500\n",
    "}"
   ]
  },
  {
   "cell_type": "markdown",
   "metadata": {},
   "source": [
    "## Drawing the Chart"
   ]
  },
  {
   "cell_type": "markdown",
   "metadata": {},
   "source": [
    "First initialize the chart, using the appropriate method for the graph you are trying to create. The value passed in to getElementById() must match the value of id you specify later in the html code"
   ]
  },
  {
   "cell_type": "code",
   "execution_count": null,
   "metadata": {
    "collapsed": false
   },
   "outputs": [],
   "source": [
    "%%HTML\n",
    "var chart = new google.visualization.BarChart(document.getElementById('chart_div'));"
   ]
  },
  {
   "cell_type": "markdown",
   "metadata": {},
   "source": [
    "A chart is specified by its data and its options. Once you have defined both, call the draw() method, passing in data and options as parameters. "
   ]
  },
  {
   "cell_type": "code",
   "execution_count": null,
   "metadata": {
    "collapsed": false
   },
   "outputs": [],
   "source": [
    "%%HTML\n",
    "chart.draw(data,options)"
   ]
  },
  {
   "cell_type": "markdown",
   "metadata": {},
   "source": [
    "Once you have completed all the previous steps, you need to gather them all into a single function. You declare a function using function functionName(){}, and then simply copy the previous steps into the function body. Note that all that you have done is define the function; it has not been called yet. To display the graph use google.charts.setOnLoadCallback(), passing in the name of your graph function."
   ]
  },
  {
   "cell_type": "markdown",
   "metadata": {},
   "source": [
    "Now that we have gone over the ways of creating tables and defining graph functions, we will go over various types of graphs and show examples of each related to weather data"
   ]
  },
  {
   "cell_type": "markdown",
   "metadata": {},
   "source": [
    "## Pie Chart"
   ]
  },
  {
   "cell_type": "markdown",
   "metadata": {},
   "source": [
    "Creating a pie chart is fairly straightforward. The main thing to remember is that the first column must be of type string, and the second column must be of type number. "
   ]
  },
  {
   "cell_type": "code",
   "execution_count": 33,
   "metadata": {
    "collapsed": false
   },
   "outputs": [
    {
     "data": {
      "text/html": [
       "<html>\n",
       "  <head>\n",
       "    <script type=\"text/javascript\" src=\"https://www.gstatic.com/charts/loader.js\"></script>\n",
       "    <script type=\"text/javascript\">\n",
       "      google.charts.load('current', {'packages':['corechart']});\n",
       "      function piechart() {\n",
       "        var data = google.visualization.arrayToDataTable([\n",
       "       ['Weather', '# Days'],\n",
       "       ['Sunny', 9],\n",
       "       ['Cloudy', 11],\n",
       "       ['Snowy',7],\n",
       "       ['Rainy', 4],\n",
       "       ]); \n",
       "        var options = {\n",
       "            'title':'Weather for January',\n",
       "            'width':500,\n",
       "            'height':500\n",
       "        }\n",
       "\n",
       "        var chart = new google.visualization.PieChart(document.getElementById('pie'));\n",
       "        chart.draw(data, options);\n",
       "      }\n",
       "    </script>\n",
       "  </head>\n",
       "  <body>\n",
       "    <div id=\"pie\" style=\"width: 900px; height: 500px;\"></div>\n",
       "  </body>\n",
       "</html>"
      ],
      "text/plain": [
       "<IPython.core.display.HTML object>"
      ]
     },
     "metadata": {},
     "output_type": "display_data"
    }
   ],
   "source": [
    "%%HTML\n",
    "<html>\n",
    "  <head>\n",
    "    <script type=\"text/javascript\" src=\"https://www.gstatic.com/charts/loader.js\"></script>\n",
    "    <script type=\"text/javascript\">\n",
    "      google.charts.load('current', {'packages':['corechart']});\n",
    "      function piechart() {\n",
    "        var data = google.visualization.arrayToDataTable([\n",
    "       ['Weather', '# Days'],\n",
    "       ['Sunny', 9],\n",
    "       ['Cloudy', 11],\n",
    "       ['Snowy',7],\n",
    "       ['Rainy', 4],\n",
    "       ]); \n",
    "        var options = {\n",
    "            'title':'Weather for January',\n",
    "            'width':500,\n",
    "            'height':500\n",
    "        }\n",
    "\n",
    "        var chart = new google.visualization.PieChart(document.getElementById('pie'));\n",
    "        chart.draw(data, options);\n",
    "      }\n",
    "    </script>\n",
    "  </head>\n",
    "  <body>\n",
    "    <div id=\"pie\" style=\"width: 900px; height: 500px;\"></div>\n",
    "  </body>\n",
    "</html>"
   ]
  },
  {
   "cell_type": "markdown",
   "metadata": {},
   "source": []
  },
  {
   "cell_type": "markdown",
   "metadata": {},
   "source": [
    "For a scatterchart, both columns must be of type number. 2 useful values to specify in options when creating a scatter chart are hAxis and vAxis. These values themselves must be dictionaries, and possible values for the axes include label and range. Empty space is added after the code block to create room for the chart once it is called"
   ]
  },
  {
   "cell_type": "markdown",
   "metadata": {},
   "source": [
    "## Scatterchart"
   ]
  },
  {
   "cell_type": "code",
   "execution_count": 82,
   "metadata": {
    "collapsed": false
   },
   "outputs": [
    {
     "data": {
      "text/html": [
       "<html>\n",
       "  <head>\n",
       "    <script type=\"text/javascript\" src=\"https://www.gstatic.com/charts/loader.js\"></script>\n",
       "    <script type=\"text/javascript\">\n",
       "      google.charts.load('current', {'packages':['corechart']});\n",
       "      \n",
       "      function scatterchart() {\n",
       "        var data = google.visualization.arrayToDataTable([\n",
       "       ['Month', 'Avg. Temperature'],\n",
       "       [1, 90],\n",
       "       [2, 87],\n",
       "       [3, 54],\n",
       "       [4, 65],\n",
       "       [5, 89],\n",
       "       [6, 100],\n",
       "       [7, 76],\n",
       "       [8, 35],\n",
       "       [9, 67],\n",
       "       [10, 92],\n",
       "       [11, 95],\n",
       "       [12, 77],\n",
       "        ]); \n",
       "        var options = {title:'Temperature by Month',\n",
       "                       width:500,\n",
       "                       height:500,\n",
       "                       hAxis: {title: 'Month #', minValue: 1, maxValue: 12},\n",
       "                       vAxis: {title: 'Avg. Temp', minValue: 0, maxValue: 15}\n",
       "                        };\n",
       "\n",
       "        var chart = new google.visualization.ScatterChart(document.getElementById('scatter'));\n",
       "        chart.draw(data, options);\n",
       "      }\n",
       "    </script>\n",
       "  </head>\n",
       "  <body>\n",
       "    <table class=\"columns\">\n",
       "      <tr>\n",
       "        <td><div id=\"scatter\" style=\"border: 1px solid #ccc\"></div></td>\n",
       "      </tr>\n",
       "    </table>\n",
       "  </body>\n",
       "</html>"
      ],
      "text/plain": [
       "<IPython.core.display.HTML object>"
      ]
     },
     "metadata": {},
     "output_type": "display_data"
    }
   ],
   "source": [
    "%%HTML\n",
    "<html>\n",
    "  <head>\n",
    "    <script type=\"text/javascript\" src=\"https://www.gstatic.com/charts/loader.js\"></script>\n",
    "    <script type=\"text/javascript\">\n",
    "      google.charts.load('current', {'packages':['corechart']});\n",
    "      \n",
    "      function scatterchart() {\n",
    "        var data = google.visualization.arrayToDataTable([\n",
    "       ['Month', 'Avg. Temperature'],\n",
    "       [1, 90],\n",
    "       [2, 87],\n",
    "       [3, 54],\n",
    "       [4, 65],\n",
    "       [5, 89],\n",
    "       [6, 100],\n",
    "       [7, 76],\n",
    "       [8, 35],\n",
    "       [9, 67],\n",
    "       [10, 92],\n",
    "       [11, 95],\n",
    "       [12, 77],\n",
    "        ]); \n",
    "        var options = {title:'Temperature by Month',\n",
    "                       width:500,\n",
    "                       height:500,\n",
    "                       hAxis: {title: 'Month #', minValue: 1, maxValue: 12},\n",
    "                       vAxis: {title: 'Avg. Temp', minValue: 0, maxValue: 15}\n",
    "                        };\n",
    "\n",
    "        var chart = new google.visualization.ScatterChart(document.getElementById('scatter'));\n",
    "        chart.draw(data, options);\n",
    "      }\n",
    "    </script>\n",
    "  </head>\n",
    "  <body>\n",
    "    <table class=\"columns\">\n",
    "      <tr>\n",
    "        <td><div id=\"scatter\" style=\"border: 1px solid #ccc\"></div></td>\n",
    "      </tr>\n",
    "    </table>\n",
    "  </body>\n",
    "</html>\n"
   ]
  },
  {
   "cell_type": "markdown",
   "metadata": {},
   "source": [
    "The 3rd type of chart we will cover here is diff charts. As the name suggests, this type of chart is useful for visualizing the differences between 2 charts. To illustrate we will use a diff chart to depict the change in average monthly temperatures for 2 consecutive years. As expected, the 2 data sets you want to calculate the difference between must be entered first, and then you need to compute the difference using computeDiff(). The 2 arguments are the before chart and the after chart. "
   ]
  },
  {
   "cell_type": "code",
   "execution_count": 92,
   "metadata": {
    "collapsed": false
   },
   "outputs": [
    {
     "data": {
      "text/html": [
       "<script type=\"text/javascript\" src=\"https://www.gstatic.com/charts/loader.js\"></script>\n",
       "  <script type=\"text/javascript\">\n",
       "    google.charts.load('current', {packages:['corechart']});\n",
       "  function diffchart() {\n",
       "   var before = google.visualization.arrayToDataTable([\n",
       "          ['Month', 'Avg. Temperature'],\n",
       "       [1, 90],\n",
       "       [2, 87],\n",
       "       [3, 54],\n",
       "       [4, 65],\n",
       "       [5, 89],\n",
       "       [6, 100],\n",
       "       [7, 76],\n",
       "       [8, 35],\n",
       "       [9, 67],\n",
       "       [10, 92],\n",
       "       [11, 95],\n",
       "       [12, 77],\n",
       "        ]);\n",
       "    var after = google.visualization.arrayToDataTable([\n",
       "          ['Month', 'Avg. Temperature'],\n",
       "       [1, 99],\n",
       "       [2, 77],\n",
       "       [3, 44],\n",
       "       [4, 35],\n",
       "       [5, 69],\n",
       "       [6, 10],\n",
       "       [7, 72],\n",
       "       [8, 55],\n",
       "       [9, 78],\n",
       "       [10, 81],\n",
       "       [11, 44],\n",
       "       [12, 96],\n",
       "        ]);\n",
       "    \n",
       "    var options = {title:'Temperature Changes',\n",
       "                       width:500,\n",
       "                       height:500,\n",
       "                       hAxis: {title: 'Month #', minValue: 1, maxValue: 12},\n",
       "                       vAxis: {title: 'Avg. Temp', minValue: 0, maxValue: 100}\n",
       "                        };\n",
       "    var chartDiff = new google.visualization.ScatterChart(document.getElementById('chart_diff_div'));\n",
       "\n",
       "    var diffData = chartDiff.computeDiff(before, after);\n",
       "    chartDiff.draw(diffData,options);\n",
       "  }\n",
       "</script>\n",
       "<br>\n",
       "<span id='chart_diff_div' style='width: 450px; position: absolute; left: 250px'></span>"
      ],
      "text/plain": [
       "<IPython.core.display.HTML object>"
      ]
     },
     "metadata": {},
     "output_type": "display_data"
    }
   ],
   "source": [
    "%%HTML\n",
    "<script type=\"text/javascript\" src=\"https://www.gstatic.com/charts/loader.js\"></script>\n",
    "  <script type=\"text/javascript\">\n",
    "    google.charts.load('current', {packages:['corechart']});\n",
    "  function diffchart() {\n",
    "   var before = google.visualization.arrayToDataTable([\n",
    "          ['Month', 'Avg. Temperature'],\n",
    "       [1, 90],\n",
    "       [2, 87],\n",
    "       [3, 54],\n",
    "       [4, 65],\n",
    "       [5, 89],\n",
    "       [6, 100],\n",
    "       [7, 76],\n",
    "       [8, 35],\n",
    "       [9, 67],\n",
    "       [10, 92],\n",
    "       [11, 95],\n",
    "       [12, 77],\n",
    "        ]);\n",
    "    var after = google.visualization.arrayToDataTable([\n",
    "          ['Month', 'Avg. Temperature'],\n",
    "       [1, 99],\n",
    "       [2, 77],\n",
    "       [3, 44],\n",
    "       [4, 35],\n",
    "       [5, 69],\n",
    "       [6, 10],\n",
    "       [7, 72],\n",
    "       [8, 55],\n",
    "       [9, 78],\n",
    "       [10, 81],\n",
    "       [11, 44],\n",
    "       [12, 96],\n",
    "        ]);\n",
    "    \n",
    "    var options = {title:'Temperature Changes',\n",
    "                       width:500,\n",
    "                       height:500,\n",
    "                       hAxis: {title: 'Month #', minValue: 1, maxValue: 12},\n",
    "                       vAxis: {title: 'Avg. Temp', minValue: 0, maxValue: 100}\n",
    "                        };\n",
    "    var chartDiff = new google.visualization.ScatterChart(document.getElementById('chart_diff_div'));\n",
    "\n",
    "    var diffData = chartDiff.computeDiff(before, after);\n",
    "    chartDiff.draw(diffData,options);\n",
    "  }\n",
    "</script>\n",
    "<br>\n",
    "<span id='chart_diff_div' style='width: 450px; position: absolute; left: 250px'></span>"
   ]
  },
  {
   "cell_type": "code",
   "execution_count": null,
   "metadata": {
    "collapsed": true
   },
   "outputs": [],
   "source": [
    "\n",
    "\n",
    "\n",
    "\n",
    "\n",
    "\n",
    "\n",
    "\n",
    "\n",
    "\n",
    "\n",
    "\n",
    "\n",
    "\n",
    "\n",
    "\n",
    "\n",
    "\n",
    "\n",
    "\n",
    "\n",
    "\n",
    "\n",
    "\n",
    "\n",
    "\n"
   ]
  },
  {
   "cell_type": "markdown",
   "metadata": {},
   "source": [
    "\n",
    "\n",
    "\n",
    "\n",
    "\n",
    "\n",
    "\n",
    "\n",
    "\n",
    "\n",
    "\n",
    "\n",
    "You need to add the following code to any html program before running it. While most graphs such as bar chart are included in 'corechart', certain graphs need to be installed seperately. Run the following code block to view all 3 charts you just defined, passing in the names of the function to setOnLoadCallback()\n",
    "\n",
    "\n"
   ]
  },
  {
   "cell_type": "code",
   "execution_count": 93,
   "metadata": {
    "collapsed": false
   },
   "outputs": [
    {
     "data": {
      "text/html": [
       "<html>\n",
       "  <head>\n",
       "    <script type=\"text/javascript\" src=\"https://www.gstatic.com/charts/loader.js\"></script>\n",
       "    <script type=\"text/javascript\">\n",
       "      google.charts.load('current', {'packages':['corechart']});\n",
       "      google.charts.setOnLoadCallback(piechart)\n",
       "      google.charts.setOnLoadCallback(scatterchart)\n",
       "      google.charts.setOnLoadCallback(diffchart)\n",
       "      </script>\n",
       "  </head>\n",
       "  <body>\n",
       "    <div id=\"chart_div\"></div>\n",
       "  </body>\n",
       "</html>"
      ],
      "text/plain": [
       "<IPython.core.display.HTML object>"
      ]
     },
     "metadata": {},
     "output_type": "display_data"
    }
   ],
   "source": [
    "%%HTML\n",
    "<html>\n",
    "  <head>\n",
    "    <script type=\"text/javascript\" src=\"https://www.gstatic.com/charts/loader.js\"></script>\n",
    "    <script type=\"text/javascript\">\n",
    "      google.charts.load('current', {'packages':['corechart']});\n",
    "      google.charts.setOnLoadCallback(piechart)\n",
    "      google.charts.setOnLoadCallback(scatterchart)\n",
    "      google.charts.setOnLoadCallback(diffchart)\n",
    "      </script>\n",
    "  </head>\n",
    "  <body>\n",
    "    <div id=\"chart_div\"></div>\n",
    "  </body>\n",
    "</html>"
   ]
  },
  {
   "cell_type": "markdown",
   "metadata": {
    "collapsed": false
   },
   "source": [
    "Google charts also allows the user to handle events, such as a particular cell being clicked on. "
   ]
  },
  {
   "cell_type": "code",
   "execution_count": 94,
   "metadata": {
    "collapsed": false
   },
   "outputs": [
    {
     "data": {
      "text/html": [
       "google.visualization.events.addListener(piechart, 'select', selectHandler);\n",
       "\n",
       "function selectHandler(e) {\n",
       "  alert('Table Selected');\n",
       "}"
      ],
      "text/plain": [
       "<IPython.core.display.HTML object>"
      ]
     },
     "metadata": {},
     "output_type": "display_data"
    }
   ],
   "source": [
    "%%HTML\n",
    "google.visualization.events.addListener(piechart, 'select', selectHandler);\n",
    "\n",
    "function selectHandler(e) {\n",
    "  alert('Table Selected');\n",
    "}"
   ]
  },
  {
   "cell_type": "markdown",
   "metadata": {},
   "source": [
    "Finally, a few useful functions for handling data lists are google.visualization.data.avg, google.visualization.data.count, google.visualization.data.max, google.visualization.data.min, and google.visualization.data.sum."
   ]
  },
  {
   "cell_type": "markdown",
   "metadata": {},
   "source": [
    "The google charts api is extremeley broad, including ways to implement almost every graph you might need to understand or explain data. Furthermore, it includes several event types and ways to handle events that make it very useful. For more information regarding how to use these tools, you can read the google charts api documentation at https://developers.google.com/chart/interactive/docs/"
   ]
  },
  {
   "cell_type": "markdown",
   "metadata": {},
   "source": [
    "## Installation and Creating a Plotly Account"
   ]
  },
  {
   "cell_type": "markdown",
   "metadata": {},
   "source": [
    "Terminal: $ pip install plotly\n",
    "\n",
    "Before getting started, you'll need to create a free account at https://plot.ly/feed/\n",
    "\n",
    "Once you have created an account, obtain your api key at https://plot.ly/settings/api\n",
    "\n",
    "Set username equal to your username and api_key equal to the key you just obtained."
   ]
  },
  {
   "cell_type": "code",
   "execution_count": 96,
   "metadata": {
    "collapsed": true
   },
   "outputs": [],
   "source": [
    "import plotly \n",
    "plotly.tools.set_credentials_file(username='applaud', api_key='cc0052zdsh')\n",
    "import plotly.plotly as py\n",
    "from plotly.graph_objs import *"
   ]
  },
  {
   "cell_type": "markdown",
   "metadata": {},
   "source": [
    "## Layout"
   ]
  },
  {
   "cell_type": "markdown",
   "metadata": {},
   "source": [
    "## Scatter Plot"
   ]
  },
  {
   "cell_type": "markdown",
   "metadata": {},
   "source": [
    "-Use py.iplot() to display the graph on the console itself, and use py.plot() to open the graph on a new page\n",
    "-Line is an object of type 'plotly.graph_objs.graph_objs.Scatter'\n",
    "-It is initialized by passing in 2 lists of numbers, with one corresponding to the x values and one corresponding to the y values\n",
    "-Create a list containing the variable line, and pass in this last to iplot/plot to create the graph"
   ]
  },
  {
   "cell_type": "code",
   "execution_count": 97,
   "metadata": {
    "collapsed": false,
    "scrolled": true
   },
   "outputs": [
    {
     "data": {
      "text/html": [
       "<iframe id=\"igraph\" scrolling=\"no\" style=\"border:none;\" seamless=\"seamless\" src=\"https://plot.ly/~applaud/46.embed\" height=\"525px\" width=\"100%\"></iframe>"
      ],
      "text/plain": [
       "<plotly.tools.PlotlyDisplay object>"
      ]
     },
     "execution_count": 97,
     "metadata": {},
     "output_type": "execute_result"
    }
   ],
   "source": [
    "line1=Scatter(\n",
    "    name='Var1',\n",
    "    x=[1,2],y=[30,50])\n",
    "line2=Scatter(\n",
    "    name='Var2',\n",
    "    x=[1,2],y=[48,24])\n",
    "layout=Layout(\n",
    "showlegend=True,legend=dict(x=0.2,y=0.5))\n",
    "data=[line1,line2]\n",
    "fig=Figure(data=data,layout=layout)\n",
    "py.iplot(fig)"
   ]
  },
  {
   "cell_type": "markdown",
   "metadata": {},
   "source": [
    "This concludes the tutorial. There are many more tools available for data visualization than can be covered in one tutorial. However, in general, the steps for creating a graph is similar regardless of the graph's type: input the data into a table or list, specify the options regarding how you want the graph to look, and enter these as parameters into the graph function. For more specifics, please check the references. "
   ]
  },
  {
   "cell_type": "markdown",
   "metadata": {},
   "source": [
    "References: \n",
    "1. https://developers.google.com/chart/interactive/docs/\n",
    "2. https://plot.ly/"
   ]
  },
  {
   "cell_type": "code",
   "execution_count": null,
   "metadata": {
    "collapsed": true
   },
   "outputs": [],
   "source": []
  }
 ],
 "metadata": {
  "anaconda-cloud": {},
  "kernelspec": {
   "display_name": "Python [default]",
   "language": "python",
   "name": "python2"
  },
  "language_info": {
   "codemirror_mode": {
    "name": "ipython",
    "version": 2
   },
   "file_extension": ".py",
   "mimetype": "text/x-python",
   "name": "python",
   "nbconvert_exporter": "python",
   "pygments_lexer": "ipython2",
   "version": "2.7.12"
  }
 },
 "nbformat": 4,
 "nbformat_minor": 1
}
