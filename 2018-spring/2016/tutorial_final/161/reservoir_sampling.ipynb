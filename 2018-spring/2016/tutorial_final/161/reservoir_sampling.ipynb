{
 "cells": [
  {
   "cell_type": "markdown",
   "metadata": {},
   "source": [
    "# Reservoir Sampling\n",
    "\n",
    "#### Umang Bhatt ECE '19\n",
    "\n",
    "## Introduction\n",
    "This tutorial will give you a taste of a randomized algorithm family called reservoir sampling. This is an algorithm that is commonly used to pick a set number of items from a dataset of unknown size. Before we jump into the algorithm itself, let's look at a sample simple scenario.\n",
    "\n",
    "### Simple Scenario\n",
    "Imagine you have a pool of 100 people (N = 100). You want to randomly select 20 of them to come with you on a weekend trip to Frank Llyod Wright's Falling Water (k = 20). The simple and intuitive way to do this to generate k random numbers between 0 and N-1, get the name at every corresponding index, and then invite those people and enjoy your trip. Note: each index must be unique - you can't clone a person and take them on the trip. Let's quickly take a look at how this would work, assuming N is small (10000 will do for this quick example)."
   ]
  },
  {
   "cell_type": "code",
   "execution_count": 91,
   "metadata": {
    "collapsed": true
   },
   "outputs": [],
   "source": [
    "import string\n",
    "import pandas as pd\n",
    "import time\n",
    "import random\n",
    "import csv\n",
    "import math"
   ]
  },
  {
   "cell_type": "code",
   "execution_count": 92,
   "metadata": {
    "collapsed": false
   },
   "outputs": [],
   "source": [
    "#Let's generate N random, faux names.\n",
    "def simpleNameGenerator(N):\n",
    "    result = []\n",
    "    letters = string.ascii_uppercase\n",
    "    length = len(letters)\n",
    "    for i in range(N):\n",
    "        index = i % length\n",
    "        multiplier  = i // length + 1\n",
    "        toAdd = str(letters[index])*multiplier\n",
    "        result += [toAdd]\n",
    "    assert (len(result) == N)\n",
    "    return result\n",
    "\n",
    "ourNames = simpleNameGenerator(10000)\n",
    "# print(ourNames)"
   ]
  },
  {
   "cell_type": "code",
   "execution_count": 93,
   "metadata": {
    "collapsed": false
   },
   "outputs": [
    {
     "name": "stdout",
     "output_type": "stream",
     "text": [
      "--- 0.000159978866577 seconds ---\n",
      "['XXXXXXXXXXXXXXXXXXXXXXXXXXXXXXXXXXXXXXXXXXXXXXXXXXXXXXXXXXXXXXXXXXXXXXXXXXXXXXXXXXXXXXXXXXXXXXXXXXXXXXXXXXXXXXXXXXXXXXXXXXXXXXXXXXXXXXXXXXXXXXXXXXXXXXXXXXXXXXXXXXXXXXXXX', 'DDDDDDDDDDDDDDDDDDDDDDDDDDDDDDDDDDDDDDDDDDDDDDDDDDDDDDDDDDDDDDDDDDDDDDDDDDDDDDDDDDDDDD', 'LLLLLLLLLLLLLLLLLLLLLLLLLLLLLLLLLLLLLLLLLLLLLLLLLLLLLLLLLLLLLLLLLLLLLLLLLLLLLLLLLLLLLLLLLLLLLLLLLLLLLLLLLLLLLLLLLLLLLLLLLLLLLLLLLLLLLLLLLLLLLLLLLLLLLLLLLLLLLLLLLLLLLLLLLLLLLLLLLLLLLLLLLLLLLLLLLLLLLLLLLLLLLLLLLLLLLLLLLLLLLLLLLLLLLLLLLLLLLLLLLLLLLLLLLLLLLLLLLLLLLLLLLLLLLLLLLLLLLLLLLLLLLLLLLLLLLLLLLLLLLLLLLLLLLLLLLLLLLLLLLLLLLLLLLLLLLL', 'FFFFFFFFFFFFFFFFFFFFFFFFFFFFFFFFFFFFFFFFFFFFFFFFFFFFFFFFFFFFFFFFFFFFFFFFFFFFFFFFFFFFFFFFFFFFFFFFFFFFFFFFFFFFFFFFFFFFFFFFFFFFFFFFFFFFFFFFFFFFFFFFFFFFFFFFFFFFFFFFFFFFFFFFFFFFFFFFFFFFFFFFFFFFFFFFFFFFFFFFFFFFFFFFFFFFFFFFFFFFFFFFFFFFFFFFFFFFFFFFFFFFFFFFFFFFFFFFFFFFFFFFFFFFFFFFFFFFFFFFFFFFFFFFFFFFFFFFFFFFFFFFFFFFF', 'UUUUUUUUUUUUUUUUUUUUUUUUUUUUUUUUUUUUUUUUUUUUUUUUUUUUUUUUUUUUUUUUUUUUUUUUUUUUUUUUUUUUUUUUUUUUUUUUUUUUUUUUUUUUUUUUUUUUUUUUUUUUUUUUUUUUUUUUUUUUUUUUUUUUUUUUUUUUUUUUUUUUUUUUUUUUUUUUUUUUUUUUUUUUUUUUUUUUUUUUUUUUUUUUUUUUUUUUUUUUUUUUUUUUUUUUUUUUUUUUUUUUUUUUUUUUUUUU', 'JJJJJJJJJJJJJJJJJJJJJJJJJJJJJJJJJJJJJJJJJJJJJJJJJJJJJJJJJJJJJJJJJJJJJJJJJJJJJJJJJJJJJJJJJJJJJJJJJJJJJJJJJJJJJJJJJJJJJJJJJJJJJJJJJJJJJJJJJJJJJJJJJJJJJJJJJJJJJJJJJJJJJJJJJJJJJJJJJJJJJJJJJJJJJJJJJJJJJJJJJJJJJJJJJJJJJJJJJJJJJJJJJJJJJJJJJJJJJJJJJJJJJJJJJJJJJJJJJJJJJJJJJJJJJJJJJJJJJJJJJJJJJJJJJJJJJJJJJJJJJJJJJJJJJJJ', 'IIIIIIIIIIIIIIIIIIIIIIIIIIIIIIIIIIIIIIIIIIIIIIIIIIIIIIIIIIIIIIIIIIIIIIIIIIIIIII', 'LLLLLLLLLLLLLLLLLLLLLLLLLLLLLLLLLLLLLLLLLLLLLLLLLLLLLLLLLLLLLLLLLLLLLLLLLLLLLLLLLLLLLLLLLLLLLLLLLLLLLLLLLLLLLLLLLLLLLLLLLLLLLLLLLLLLLLLLLLLLLLLLLLLLLLLLLLLLLLLLLLLLLLLLLLLLLLLLLLLLLLLLLLLLLLLLLLLLLLLLLLLLLLLLLLLLLLLLLLLLLLLLLLLLLLLLLLLLLLLLLLLLLLLLLLLLLLLLLLLLLLLLLLLLLLLLLL', 'SSSSSSSSSSSSSSSSSSSSSSSSSSSSSSSSSSSSSSSSSSSSSSSSSSSSSSSSSSSSSSSSSSSSSSSSSSSSSSSSSSSSSSSSSSSSSSSSSSSSSSSSSSSSSSSSSSSSSSSSSSSSSSSSSSSSSSSSSSSSSSSSSSSSSSSSSSSSSSSSSSSSSSSSSSSSSSSSSSSSSSSSSSSSSSSSSSSSSSSSSSSSSSSSSSSSSSSSSSSSSSSSSSSSSSSSSSSSSSSSSSSSSSSSSSSSSSSSSSSSSSSSSSSSSSSSSSSSSSSSSSSSSSSSSSSSSSSSSSSSSSSSSSSSSSSSSSSSSSSSSSSSSSSSSSSSSSSSSSSSSSSSSSSSSSSSSSSSSSSSSSSSSSSSSSSSSSSSSSS', 'KKKKKKKKKKKKKKKKKKKKKKKKKKKKKKKKKKKKKKKKKKKKKKKKKKKKKKKKKKKKKKKKKKKKKKKKKKKKKKKKKKKKKKKKKKKKKKKKKKKKKKKKKKKKKKKKKKKKKKKKKKKKKKKKKKKKKKKKKKKKKKKKKKKKKKKKKKKKKKKKKKKKKKKKKKKKKKKKKKKKKKKKKKKKKKKKKKKKKKKKKKKKKKKKKKKKKKKKKKKKKKKKKKKKKKKKKKKKKKKKKKKKKKKKKKKKKKKKKKKKKKKKKKKKKKKKKKKKKKKKKKKKKKKKKKKKKKKKKKKKKKKKKKKKKKKKKKKKK', 'VVVVVVVVVVVVVVVVVVVVVVVVVVVVVVVVVVVVVVVVVVVVVVVVVVVVVVVVVVVVVVVVVVVVVVVVVVVVVVVVVVVVVVVVVVVVVVVVVVVVVVVVVVVVVVVVVVVVVVVVVVVVVVVVVVVVVVVVVVVVVVVVVVVVVVVVVVVVVVVVVVVVVVVVVVVVVVVVVVVVVVVVVVVVVVVVVVVVVVVVVVVVVVVVVVVVVVVVVVVVV', 'GGGGGGGGGGGGGGGGGGGGGGGGGGGGGG', 'RRRRRRRRRRRRRRRRRRRRRRRRRRRRRRRRRRRRRRRRRRRRRRRRRRRRRRRRRRRRRRRRRRRRRRRRRRRRRRRRRRRRRRRRRRRRRRRRRRRRRRRRRRRRRRRRRRRRRRRR', 'YYYYYYYYYYYYYYYYYYYYYYYYYYYYYYYYYYYYYYYYYYYYYYYYYYYYYYYYYYYYYYYYYYYYYYYYYYYYYYYYYYYYYYYYYYYYYYYYYYYYYYYYYYYYYYYYYYYYYYYYYYYYYYYYYYYYYYYYYYYYYYYYYYYYYYYYYYYYYYYYYYYYYYYYYYYY', 'WWWWWWWWWWWWWWWWWWWWWWWWWWWWWWWWWWWWWWWWWWWWWWWWWWWWWWWWWWWWWWWWWWWWWWWWWWWWWWWWWWWWWWWWWWWWWWWWWWWWWWWWWWWWWWWWWWWWWWWWWWWWWWWWWWWWWWWWWWWWWWWWWWWWWWWWWWWWWWWWWWWWWWWWWWWWWWWWWWWWWWWWWWWWWWWWWWWWWWWWWWWWWWWWWWWWWWWWWWWWWWWWWWWWWWWWWWWWWWWWWWWWWWWWWWWWWWWWWWWWWWWWWWWWWWWWWWWWWWWWWWWWWWWWWWWWWWWWWWWWWWWWWWWWWWWWWWWWWWWWWWWWWWWWWWWWWWWWWWWWWWWWWWWWWWWWWWWWWW', 'UUUUUUUUUUUUUUUUUUUUUUUUUUUUUUUUUUUUUUUUUUUUUUUUUUUUUUUUUUUUUUUUUUUUUUUUUUUUUUUUUUUUUUUUUUUUUUUUUUUUUUUUUUUUUUUUUUUUUUUUUUUUUUUUUUUUUUUUUUUUUUUUUUUUUUUUUUUUUUUUUUUUUU', 'IIIIIIIIIIIIIIIIIIIIIIIIIIIIIIIIIIIIIIIIIIIIIIIIIIIIIIIIIIIIIIIIIIIIIIIIIIIIIIIIIIIIIIIIIIIIIIIIIIIIIIIIIIIIIIIIIIIIIIIIIIIIIIIIIIIIIIIIIIIIIIIIIIIIIIIIIIIIIIIIIIIIIIIIIIIIIIIIIIIIIIIIIIIIIIIIIIIIIIIIIIIIIIIIIIIIIIIIIIIIIIIII', 'GGGGGGGGGGGGGGGGGGGGGGGGGGGGGGGGGGGGGGGGGGGGGGGGGGGGGGGGGGGGGGGGGGGGGGGGGGGGGGGGGGGGGGGGGGGGGGGGGGGGGGGGGGGGGGGGGGGGGGGGGGGGGGGGGGGGGGGGGGGGGGGGGGGGGGGGGGGGGGGGGGGGGGGGGGGGGGGGGGGGGGGGGGGGGGGGGGGGGGGGGGGGGGGGGGGGGGGGGGGGGGGGGGGGGGGGGGGGGGGGGGGGGGGGGGGGGGGGGGGGGGGGGGGGGGGGGGGGGGGGGGGGGGGGGGGGGGGGGGGGGGGGGGGGGGGGGGGGG', 'KKKKKKKKKKKKKKKKKKKKKKKKKKKKKKKKKKKKKKKKKKKKKKKKKKKKKKKKKKKKKKKKKKKKKKKKKKKKKKKKKKKKKKKKKKKKKKKKKKKKKKKKKKKKKKKKKKKKKKKKKKKKKKKKKKKKKKKKKKKKKKKKKKKKKKKKKKKKKKKKKKKKKKKKKKKKKKKKKKKKKKKKKKKKKKKKKKKKKKKKKKKKKKKKKKKKKKKKKKKKKKKKKKKKKKKK', 'LLLLLLLLLLLLLLLLLLLLLLLLLLLLLLLLLLLLLLLLLLLLLLLLLLLLLLLLLLLLLLLLLLLLLLLLLL']\n"
     ]
    }
   ],
   "source": [
    "#From my N friends, pick k of them\n",
    "def pickMyFriends(myList, N, k):\n",
    "    result = []\n",
    "    seen = set([])\n",
    "    count = 0\n",
    "    while(count < k):\n",
    "        index = random.randint(0, N-1)\n",
    "        if index not in seen:\n",
    "            seen.add(index)\n",
    "            result += [myList[index]]\n",
    "            count += 1\n",
    "    return result\n",
    "\n",
    "start_time = time.time()\n",
    "ourFriends = pickMyFriends(ourNames, 10000, 20)\n",
    "print(\"--- %s seconds ---\" % (time.time() - start_time))\n",
    "print(ourFriends)"
   ]
  },
  {
   "cell_type": "markdown",
   "metadata": {},
   "source": [
    "## Tweaked Scenario\n",
    "Again, imagine you have a pool of people. You want to randomly select k of them to come with you on a weekend trip to Frank Llyod Wright's Falling Water (k = 20). However, now you have absolutely no idea how large your pool of friends is (N). N could equal 4 or it could equal 999,000,000,000. The naive soultion would be to iterate through the given list (of the pool of people) to calculate N and then do as we did above (i.e. generate k random numbers between 0 and N-1, get the name at every corresponding, unique index, and so on. Let's see how this would pan out on the list we used above. Let's assume for the sake of this problem that python's len() function cannot be employed. "
   ]
  },
  {
   "cell_type": "code",
   "execution_count": 94,
   "metadata": {
    "collapsed": false
   },
   "outputs": [
    {
     "name": "stdout",
     "output_type": "stream",
     "text": [
      "--- 0.362530946732 seconds ---\n",
      "['VVVVVVVVVVVVVVVVVVVVVVVVVVVVVVVVVVVVVVVVVVVVVVVVVVVVVVVVVVVVVVVVVVVVVVVVVVVVVVVVVVVVVVVVVVVVVVVVVVVV', 'UUUUUUUUUUUUUUUUUUUUUUUUUUUUUUUUUUUUUUUUUUUUUUUUUUUUUUUUUUUUUUUUUUUUUUUUUUUUUUUUUUUUUUU', 'EEEEEEEEEEEEEEEEEEEEEEEEEEEEEEEEEEEEEEEEEEEEEEEEEEEEEEEEEEEEEEEEEEEEEEEEEEEEEEEEEEEEEEEEEEEEEEEEEEEEEEEEEEEEEEEEEEEEEEEEEEEEEEEEEEEEEEEEEEEEE', 'VVVVVVVVVVVVVVVVVVVVVVVVVVVVVVVVVVVVVVVVVVVVVVVVVVVVVVVVVVVVVVVVVVVVVVV', 'SSSSSSSSSSSSSSSSSSSSSSSSSSSSSSSSSSSSSSSSSSSSSSSSSSSSSSSSSSSSSSSSSSSSSSSSSSSSSSSSSSSSSSSSSSSSSSSSSSSSSSSSSSSSSSSSSSSSSSSSSSSSSSSSSSSSSSSSSSSSSSSSSSSSSSSSSSSSSSSSSSSSSSSSSSSSSSSSSSSSSSSS', 'QQQQQQQQQQQQQQQQQQQQQQQQQQQQQQQQQQQQQQQQQQQQQQQQQQQQQQQQQQQQQQQQQQQQQQQQQQQQQQQQQQQQQQQQ', 'XXXXXXXXXXXXXXXXXXXXXXXXXXXX', 'UUUUUUUUUUUUUUU', 'RRRRRRRRRRRRRRRRRRRRRRRRRRRRRRRRRRRRRRRRRRRRRRRRRRRRRRRRRRRRRRRRRRRRRRRRRRRRRRRRRRRRRRRRRRRRRRRRRRRRRRRRRRRRRRRRRRRRRRRRR', 'BBBBBBBBBBBBBBBBBBBBBBBBBBBBBBBBBB', 'BBBBBBBBBBBBBBBBBBBBBBBBBBBBBBBBBBBBBBBBBBBBBBBBBBBBBBBBBBBBBBBBBBBBBBBBBBBBBBBBBBBBBBBBBBBBBBBBBBBBBBBBBBBBBBBBBBBBBBBBBBBBBBBBBBBBBBBBBBBBBBBBBBBBBBBBBBBBBBBBBBBBBBBBBBBBBBBBBBBBBBBBBBBBBBBBBBBBBBBBBBBBBBBBBBBBBBBBBBBBBBBBBBBBBBBBBBBBBBBBBBBBBBBBBBB', 'VVVVVVVVVVVVVVVVVVVVVVVVVVVVVVVVVVVVVVVVVVVVVVVVVVVVVVVVVVVVVVVVVVVVVVVVVVVVVVVVVVVVVVVVVVVVVVVVVVVVVVVVVVVVVVVVVVVVVVVVVVVVVVVVVVVVVVVVVVVVVVVVVVVVVVVVVVVVVVVVVVVVVVVVVVVVVVVVVVVVVVVVVVVVVVVVVVVVVVVVVVVVVVVVVVVVVVVVVV', 'JJJJJJJJJJJJJJJJJ', 'BBBBBBBBBBBBBBBBBBBBBBBBBBBBBBBBBBBBBBBBBBBBBBBBBBBBBBBBBBBBBBBBBBBBBBBBBBBBBBBBBBBBBBBBBBBBBBBBBBBBBBBBBBBBBBBBBBBBBBBBBBBBBBBBBBBBBBBBBBBBBBBBBBBBBBBBBBBBBBBBBBBBBBBBBBBBBBBBBBBBBBBBBBBBBBBBBBBBBBBBBBBBBBBBBBBBBBBBBBBBBBBBBBBBBBB', 'HHHHHHHHHHHHHHHHHHHHHHHHHHHHHHHHHHHHHHHHHHHHHHHHHH', 'SSSSSSSSSSSSSSSSSSSSSSSSSSSSSSSSSSSSSSSSSSSSSSSSSSSSSSSSSSSSSSSSSSSSSSSSSSSSSSSSSSSSSSSSSSSSSSSSSSSSSSSSSSSSSSSSSSSSS', 'AAAAAAAAAAAAAAAAAAAAAAAAAAAAAAAAAAAAAAAAAAAAAAAAAAAAAAAAAAAAAAAAAAAAAAAAAAAAAAAAAAAAAAAAAAAAAAAAAAAAAAAAAAAAAAAAAAAAAAAAAAAAAAAAAAAAAAAAAAAAAAAAAAAAAAAAAAAAAAAAAAAAAAAAAAAAAAAAAAAAAAAAAAAAAAAAAAAAAAAAAAAAAAAAAAAAAAAAAAAAAAAAAAAAAAAAAAAAAAAAAAAAAAAAAAAAAAAAAAAAAAAAAAAAAAAAAAAAAAAAAAAAAAAAAAAAAAAAAAAAAAAAAAAAAAAAAAAAAAAAAAAAAAAAAAAAA', 'BBBBBBBBBBBBBBBBBBBBBB', 'TTTTTTTTTTTTTTTTTTTTTTTTTTTTTTTTTTTTTTTTTTTTTTTTTTTTTTTTTTTTTTTTTTTTTTTTTTTTTTTTTTTTTTTTTTTTTTTTTTTTTTTTTTTTTTTTTTTTTTTTTTTTTTTTTTTTTTTTTTTTTTTTTTTTTTTTTTTTTTTTTTTTTTTTTTTTTTTTTTTTTTTTTTTTTTTTTTTTTTTTTTTTTTTTTTTTTTTTTTTTTTTTTTTTTTTTTTTTTTTTTTTTTTTTTTTTTTTTTTTTTTTTTTTTTTTTTTTTTTTTTTTTTTTTTTTTTT', 'EEEEEEEEEEEEEEEEEEEEEEEEEEEEEEEEEEEEEEEEEEEEEEEEEEEEEEEEEEEEEEEEEEEEEEEEEEEEEEEEEEEEEEEEEEEEEEEEEEEEEEEEEEEEEEEEEEEEEEEEEEEEEEEEEEEEEEEEEEEEEEEEEEEEEEEEEEEEEEEEEEEEEEEEEEEEEEEEEEEEEEEEEEEEEEEEEEEEEEEEEEEEEEEEEEEEEEEEEEEEEEEEEEEEEEEEEEEEEEEEEEE']\n"
     ]
    }
   ],
   "source": [
    "#Find N and then pick k from N\n",
    "def pickMyFriendsNoN(myList, k):\n",
    "    result = []\n",
    "    seen = set([])\n",
    "    count = 0\n",
    "    array = myList\n",
    "    N = 0\n",
    "    while(array != []):\n",
    "        N += 1\n",
    "        array = array[1:]\n",
    "    while(count < k):\n",
    "        index = random.randint(0, N-1)\n",
    "        if index not in seen:\n",
    "            seen.add(index)\n",
    "            result += [myList[index]]\n",
    "            count += 1\n",
    "    return result\n",
    "\n",
    "start_time = time.time()\n",
    "ourFriends = pickMyFriendsNoN(ourNames, 20)\n",
    "print(\"--- %s seconds ---\" % (time.time() - start_time))\n",
    "print(ourFriends)"
   ]
  },
  {
   "cell_type": "markdown",
   "metadata": {},
   "source": [
    "## The Algorithm\n",
    "Observe that the latter code we ran where we calculated the length (N) of our list is orders of magnitude slower than our former code where N was provided to us. We need not run through the array twice in the tweaked problem. There has to be a faster way of generating k random samples from an unknown sized pool or reservoir. Cue the algorithm!\n",
    "\n",
    "### The Concept\n",
    "\n",
    "Reservoir sampling allows us to solve this tweaked problem in a quick and efficient manner, O(n) time as opposed to O(n^2) from the double pass seen above. It seems intuitive to want to iterate through the pool (also known as stream) to create our reservoir of size k. More often than not, this alogrithm is used when the stream we are sampling from is too large to store in memory and it would be grossly inefficient to iterate through the unknown sized list that could have millions and millions of data points - we will discuss practical uses in a bit. But first, how do we implement this algorithm in O(n) time.\n",
    "\n",
    "### The Specifications\n",
    "\n",
    "1. To start, we will fill a reservoir of the first k samples from our pool (also known as stream).\n",
    "2. Next, we want to iterate through the list once, from k+1 to the len(N).\n",
    "3. During this iteration, we will generate a random integer - if that integer is less than k, then we will replace the element at the integer index found with the current element of our iteration. \n"
   ]
  },
  {
   "cell_type": "code",
   "execution_count": 95,
   "metadata": {
    "collapsed": false
   },
   "outputs": [
    {
     "name": "stdout",
     "output_type": "stream",
     "text": [
      "--- 0.0368258953094 seconds ---\n",
      "['DDDDDDDDDDDDDDDDDDDDDDDDDDDDDDDDDDDDDDDDDDDDDDDDDDDDDDDD', 'ZZZZZZZZZZZZZZZZZZZZZZZZZZZZZZZZZZZZZZZZZZZZZZZZZZZZZZZZZZZZZZZZZZZZZZZZZZZZZZZZZZZZZZZZZZZZZZZZZZZZZZZZZZZZZZZZZZZZZZZZZZZZZZZZZZZZZZZZZZZZZZZZZZZZZZZZZZZZZZZZZZZZZZZZZZZZZZZZZZZZZZZZZZZZZZZZZZZZZZZZZZZZZZZZZZZZZZZZZZZZZZZZZZZZZZZZZZZZZZZZZZZZZZZZZZZZZZZZZZZZZZZZZZZZZZZZZZZZZZZZZ', 'RRRRRRRRRRRRRRRRRRRRRRRRRRRRRRRRRRRRRRRRRRRRRRRRRRRRRRRRRRRRRRRRRRRRRRRRRRRRRRRRRRRRRRRRRRRRRRRRRRRRRRRRRRRRRRRRRRRRRRRRRRRRRRRRRRRRRRRRRRRRRRRRRRRRRRRRRRRRRRRRRRRRRRRRRRRRRRRRRRRRRRRRRRRRRRRRRRRRRRRRRRRRRRRRRRRRRRRRRRRRRRRRRRRRRRRRRRRRRRRRRRRRRRRRRRRRRRRRRRRRRRRRRRRRRRRRRRRRRRRRRRRRRRRRRRRRRRRRRRRRRRRRRRRRRRRRRRRRRRRR', 'LLLLLLL', 'JJJJJJJJJJJJJJJJJJJJJJJJJJJJJJJJJJJJJJJJJJJJJJJJJJJJJJJJJJJJJJJJJJJJJJJJJJJJJJJJJJJJJJJJJJJJJJJJJJJJJJJJJJJJJJJJJJJJJJJJJJJJJJJJJJJJJJJJJJJJJJJJJJJJJJJJJJJJJJJJJJJJJJJJJJJJJJJJJJJJJJJJJJJJJJJJJJJJJJJJJJJJJJJJJJJJJJJJJJJJJJJJJJJJJJJJJJJJJJJJJJJJJJJJJJJJJJJJJJJJJJJJJJJJJJJJJJJJJJJJJJJJJJJJJJ', 'YYYYYYYYYYYYYYYYYYYYYYYYYYYYYYYYYYYYYYYYYYYYYYYYYYYYYYYYYYYYYYYYYYYYYYYYYYYYYYYYYYYYYYYYYYYYYYYYYYYYYYYYYYYYYYYYYYYYYYYYYYYYYYYYYYYYYYYYYYYYYYYYYYYYYYYYYYYYYYYYYYYYYYYYYYYYYYYYYYYYYYYYYYYYYYYYYYYYYYYYYYYYYYYYYYYYYYYYYYYYYYYYYYYYYYYYYYYYYYYYYYYYYYYYYYYYYYYYYYYYYYYYYYYYYYYYYYYYYYYYYYYYY', 'NNNNNNNNNNNNNNNNNNNNNNNNNNNNNNNNNNNNNNNNNNNNNNNNNNNNNNNNNNNNNNNNNNNNNNNNNNNNNNNNNNNNNNNNNNNNNNNNNNNNNNNNNNNNNNNNNNNNNNNNNNNNNNNNNNNNNNNNNNNNNNNNNNNNNNNNNNNNNNNNNNNNNNNNNNNNNNNNNNNNNNNNNNNNNNNNNNNNNNNNNNNNNNNNNNNNNNNNNNNNNNNNNNNNNNNNNNNNNNNNNNNNNNNNNNNNNNNNNNNNNNNNNNNNNNNNNNNNNNNNNNNNNNNNNNNNNNNNNNNNNNNNNNNNNNNNNNNNNNNNNNNNNNNNNNNNNNNNNNNNNNNNNNNNNNNNNNNN', 'QQQQQQQQQQQQQQQQQQQQQQQQQQQQQQQQQQQQQQQQQQQQQQQQQQQQQQQQQQQQQQQQQQQQQQQQQQQQQQQQQQQQQQQQQQQQQQQQQQQQQ', 'IIIIIIIIIIIIIIIIIIIIIIIIIIIIIIIIIIIIIIIIIIIIIIIIIIIIIIIIIIIIIIIIIIIIIIIIIIIIIIIIIIIIIII', 'ZZZZZZZZZZZZZZZZZZZZZZZZZZZZZZZZZZZZZZZZZZZZZZZZZZZZZZZZZZZZZZZZZZZZZZZZZZZZZZZZZZZZZZZZZZZZZZZZZZZZZZZZZZZZZZZZZZZZZZZZZZZZZZZZZZZZZZ', 'UUUUUUUUUUUUUUUUUUUUUUUUUUUUUUUUUUUUUUUUUUUUUUUUUUUUUUUUUUUUUUUUUUUUUUUUUUUUUUUUUUUUUUUUUUUUUUUUUUUUUUUUUUUUUUUUUUUUUUUUUUUUUUUUUUUUUUUUUUUUUUUUUUUUUUUUUUUUUUUUUUUUUUUUUUUUUUUUUUUUUUUU', 'QQQQQQQQQQQQQQQQQQQQQQQQQQQQQQQQQQQQQQQQQQQQQQQQQQQQQQQQQQQQQQQQQQQQQQQQQQQQQQQQQQQQQQQQQQQQQQQQQQQQQQQQQQQQQQQQQQQQQQQQQQQQQQQQQQQQQQQQQQQQQQQQQQQQQQQQQQQQQQQQQQQQQQQQQQQQQQQQQQQQQQQQQQQ', 'MMMMMMMMMMMMMMMMMMMMMMMMMMMMMMMMMMMMMMMMMMMMMMMMMMMMMMMMMMMMMMMMMMMMMMMMMMMMMMMMMMMMMMMMMMMMMMMMMMMMMMMMMMMMMMMMMMMMMMMMMMMMMMMMMMMMMMMMMMMMMMMMMMMMMMMM', 'DDDDDDDDDDDDDDDDDDDDDDDDDDDDDDDDDDDDDDDDDDDDDDDDDDDDDDDDDDDDDDDDDDDDDDDDDDDDDDDDDDDDDDDDDDDDDDDDDDDDDDDDDDDDDDDDDDDDDDDDDDDDDDDDDDDDDDDDDDDDDDDDDDDDDDDDDDDDDDDDDDDDDDDDDDDDDDDDDDDDDDDDDDDDDDDDDDDDDDDDDDDDDDDDDDD', 'RRRRRRRRRRRRRRRRRRRRRRRRRRRRRRRRRRRRRRRRRRRRRRRRRRRRRRRRRRRRRRRRRRRRRRRRRRRRRRRRRRRRRRRRRRRRRRRRRRRRRRRRRRRRRRRRRRRRRRRRRRRRRRRRRRRRRRRRRRRRRRRRRRRRRRRRRRRRRRRRRRRRRRRRRRRRRRRRRRRRRRRRRRRRRRRRRRRRRRRRRRRRRRRRRRRRRRRRRRRRRRRRRRRRRRRRRRRRRRRRRRRRRRRRRRRRRRRRRRRRRRRRRRRRRRRRRRRRRRRR', 'RRRRRRRRRRRRRRRRRRRRRRRRRRRRRRRRRRRRRRRRRRRRRRRRRRRRRRRRRRRRRRRRRRRR', 'XXXXXXXXXXXXXXXXXXXXXXXXXXXXXXXXXXXXXXXXXXXXXXXXXXXXXXXXXXXXXXXXXXXXXXXXXXXXXXXXXXXXXXXXXXXXXXXXXXXXXXXXXXXXXXXXXXXXXXXXXXXXXXXXXXXXXXXXXXXXXXXXXXXXXXXXXXXXXXXXXXXXXXXXXXXXXXXXXXXXXXXXXXXXXXXXXXXXXXXXXXXXXXXXXXXXXXXXXXXXXXXXXXXXXXXXXXXXXXXXXXXXXXXXXXXXXXXX', 'MMMMMMMMMMMMMMMMMMMMMMMMMMMMMMMMMMMMMMMMMMMMMMMMMMMM', 'LLLLLLLLLLLLLLLLLLLLLLLLLLLLLLLLLLLLLLLLLLLLLLLLLLLLLLLLLLLLLLLLLLLLLLLLLLLLLLLLLLLLLLLLLLLLLLLLLLLLLLLLLLLLLLLLLLLLLLLLLLLLLLLLLLLLLLLLLLLLLLLLLLLLLLLLLLLLLLLLLLLLLLLLLLLLLLLLLLLLLLLLLLLLLLLLLLLLLLLLLLLLLLLLLLLLLLLLLLLLLLLLLLLLLLLLLLLLLLLLLLLLLLLLLLLLLLLLLLLLLLLLLLLLLLLLLLLLLLLLLLLLLLLLLLLLLLLLLL', 'IIIIIIIIIIIIIIIIIIIIIIIIIIIIIIIIIIIIIIIIIIIIIIIIIIIIIIIIIIIIIIIIIIIIIIIIIIIIIIIIIIIIIIIIIIIIIIIIIIIIIIIIIIIIIIIIIIIIIIIIIIIIIIIIIIIIIIIIIIIIIIIIIIIIIIIIIIIIIIIIIIIIIIIIIIIIIIII']\n"
     ]
    }
   ],
   "source": [
    "#Fill the reservoir with k elements and then randomly pick elements to replace\n",
    "def reservoirSampling(myList, k):\n",
    "    reservoir = []\n",
    "    for index in range(k):\n",
    "        reservoir += myList[index]\n",
    "    for j in range(k+1, len(myList)):\n",
    "        i = random.randint(0, j)\n",
    "        if i < k:\n",
    "            reservoir[i] = myList[j]\n",
    "    return reservoir\n",
    "        \n",
    "start_time = time.time()\n",
    "ourFriends = reservoirSampling(ourNames, 20)\n",
    "print(\"--- %s seconds ---\" % (time.time() - start_time))\n",
    "print(ourFriends)    "
   ]
  },
  {
   "cell_type": "markdown",
   "metadata": {
    "collapsed": false
   },
   "source": [
    "### The Why\n",
    "When we originally pick our k elements from the stream to put into the reservoir, each element is picked with a probability of k/n. We pick our n+1 element with a probability of k/(n+1) and the elements currently in our list have a 1/k probability of eviction. The probability we replace an element is (k/(n+1))*(1/k) = 1/(n+1), which means that the probabilty we don't replace an element is n/(n+1). In order for an element to be in the n+1 set, it has to be chosen and evict an existing element (probability of k/(n+1)) or it has to have been in the original n set and not chosen to be replace ((k/n)*(n/(n+1)) = k/(n+1))!\n",
    "\n",
    "\n",
    "\n",
    "## Weighted Reservoir Sampling\n",
    "Let's imagine a similar scenario except we have a corresponding list of weights associated with each item in the list. We prefer certain items to be in our reservoir over others. We adjust the algorithm to be as follows. \n",
    "\n",
    "### The Specifications\n",
    "\n",
    "1. To start, we will fill a reservoir of the first k samples from our pool (also known as stream), again. This time though. We will sum their weights as we go. When we add a new weight in, we divide by k to ensure proportionality.\n",
    "2. Next, we want to iterate through the list once, from k+1 to the len(N).\n",
    "3. We will add the weight of the current element to the sum. The probability of replacement will be this current item's weight over the sum.\n",
    "3. Then we will replace the element at a randomly picked index between 0 and k index with the current element of our iteration if and only if a randomly generated number between 0 and 1 is less than or equal to the probability we calculated earlier!"
   ]
  },
  {
   "cell_type": "code",
   "execution_count": 96,
   "metadata": {
    "collapsed": false
   },
   "outputs": [],
   "source": [
    "#Let's generate N random weights\n",
    "def weightGenerator(N):\n",
    "    return [random.random() for i in range(N)]\n",
    "\n",
    "weightedNames = zip(ourNames,weightGenerator(10000))\n",
    "# print(weightedNames)"
   ]
  },
  {
   "cell_type": "code",
   "execution_count": 97,
   "metadata": {
    "collapsed": false,
    "scrolled": true
   },
   "outputs": [
    {
     "name": "stdout",
     "output_type": "stream",
     "text": [
      "--- 0.0135481357574 seconds ---\n",
      "['AAAAAAAAAAAAAAAAAAAAAAAAAAAAAAAAAAAAAAAAAAAAAAAAAAAAAAAAAAAAAAAAAAAAAAAAAAAAAAAAAAAAAAAAAAAAAAAAAAAAAAAAAAAAAAAAAAAAAAAAAAAAAAAAAAAAAAAAAAAAAAAAAAAAAAAAAAAAAAAAAAAAAAAAAAAAAAAAAAAAAAAAAAAAAAAAAAAAAAAAAAAAAAAAAAAAAAAAAAAAAAAAAAAAAAAAAAAAAAAAAAAAAAAAAAAAAA', 'RRRRRRRRRRRRRRRRRRRRRRRRRRRRRRRRRRRRRRRRRRRRRRRRRRRRRRRRRRRRRRRRRRRRRRRRRRRRRRRRRRRRRRRRRRRRRRRRRRRRRRRRRRRRRRRRRRRRRRRRRRRRRRRRRRRRRRRRRRR', 'SSSSSSSSSSSSSSSSSSSSSSSSSSSSSSSSSSSSSSSSSSSSSSSSSSSSSSSSSSSSSSSSSSSSSSSSSSSSSSSSSSSSSSSSSSSSSSSSSSSSSSSSSSSSSSSSSSSSSSSSSSSSSSSSSSSSSSSSSSSSSSSSSSSS', 'KKKKKKKKKKKKKKKKKKKKKKKKKKKKKKKKKKKKKKKKKKKKKKKKKKKKKKKKKKKKKKKKKKKKKKKKKKKKKKKKKKKKKKKKKKKKKKKKKKKKKKKKKKKKKKKKKKKKKKKKKKKKKKKKKKKKKKKKKKKKKKKKKKKKKKKKKKKKKKKKKKKKKKKKKKKKKKKKKKKKKKKKKKKKKKKKKKKKKKKKKKKKKKKKKKKKKKKKKKKKKKKKKKK', 'YYYYYYYYYYYYYYYYYYYYYYYYYYYYYYYYYYYYYYYYYYYYYYYYYYYYYYYYYYYYYYYYYYYYYYYYYYYYYYYYYYYYYYYYYYYYYYYYYYYYYYYYYYYYYYYYYYYYYYYYYYYYYYYYYYYYYYYYYYYYYYYYYYYYYYYYYYYYYYYYYYYYYYYYYYYYYYYYYYYYYYYYYYYYYYYYYYYYYYYYYYYYYYYYYYYYYYYYYYYYYYYYYYYYYYYYYYYYYYYYYYYYYYYYYYYYYYYYYYYYYYYYYYYYYYYYYYY', 'RRRRRRRRRRRRRRRRRRRRRRRRRRRRRRRRRRRRRRRRRRRRRRRRRRRRRRRRRRRRRRRRRRRRRRRRRRRRRRRRRRRRRRRRRRRRRRRRRRRRRRRRRRRRRRRRRRRRRRRRRRRRRRRRRRRRRRRRRRRRRRRRRRRRRRRRRRRRRRRRRRRRRRRRRRRRRRRRRRRRRRRRRRRRRRRRRRRRRRRRRRRRRRRRRRRRRRRRRRRRRRRRRRRRRRRRRRRRRRRRRRRRRRRRRRRRRRRRRRRRRRRRRRRR', 'XXXXXXXXXXXXXXXXXXXXXXXXXXXXXXXXXXXXXXXXXXXXXXXXXXXXXXXXXXXXXXXXXXXXXXXXXXXXXXXXXXXXXXXXXXXXXXXXXXXXXXXXXXXXXXXXXXXXXXXXXXXXXXXXXXXX', 'SSSSSSSSSSSSSSSSSSSSSSSSSSSSSSSSSSSSSSSSSS', 'UUUUUUUUUUUUUUUUUUUUUUUUUUUUUUUUUUUUUUUUUUUUUUUUUUUUUUUUUUUUUUUUUUUUUUUUUUUUUUUUUUUUUUUUUUUUUUUUUUUUUUUUUUUUUUUUUUUUUUUUUUUUUUUUUUUUUUUUUUUUUUUUUUUUUUUUUUUUUUUUUUUUUUUUUUUUUUUUUUUUUUUUUUUUUUUUUUUUUUUUUUUUUUUUUUUUUUUUUUUUUUUUUUUUUUUUUUUUUUUUUUUUUUUUUUUUUUUUUUUUUUUUUUUUUUUUUUUUUUUUUUUUUUUUUUUUUUUUUUUUUUUUUUUUUUUUUUUUUUUUUUUUUUUUUUUUUUUUUUUUUUUUUUUUUUUUUUUUUUUUUUUUUU', 'VVVVVVVVVVVVVVVVVVVVVVVVVVVVVVVVVVVVVVVVVVVVVVVVVVVVVVVVVVVVVVVVVVVVVVVVVVVVVVVVVVVVVVVVVVVVVVVVVVVVVVVVVVVVVVVVVVVVVVVVVVVVVVVVVVVVVVVVVVVVVVVVVVVVVVVVVVVVVVVVVVVVVVVVVVVVVVVVVVVVVVVVVVVVVVVVVVVVVVVVVVVVVVVVVVVVVVVVVVVVVVVVVVVVVVVVVVVVVVVVVVVVVVVVVVVVVVVVVVVVVVVVVVVVVVVVVVVVVV', 'LLLLLLLLLLLLLLLLLLLLLLLLLLLLLLLLLLLLLLLLLLLLLLLLLLLLLLLLLLLLLLLLLLLLLLLLLLLLLLLLLLLLLLLLLLLLLLLLLLLLLLLLLLLLLLLLLLLLLLLL', 'FFFFFFFFFFFFFFFFFFFFFFFFFFFFFFFFFFFFFFFFFFFFFFFFFFFFFFFFFFFFFFFFFFFFFFFFFFFFFFFFFFFFFFFFFFFFFFFFFFFFFFFFFFFFFFFFFFFFFFFFFFFFFFFFFFFFFFFFFFFFFFFFFFFFFFFFFFFFFFFFFFFFFFFFFFFFFFFFFFFFFFFFFFFFFFFFFFFFFFFFFFFFFFFFFFFFFFFFFFFFFFFFFFFFFFFFFFFFFFFFFFFFFFFFFFFFFFFFFFFFFFFFFFFFFFFFFFFFFFFFFFFFFFFFFFFFFFFFFFFFFFFFFFFFFFFFFFFFFFFFFFFFFFFFFFFFFFFFFFFFFFFFFFFF', 'XXXXXXXXXXXXXXXXXXXXXXXXXXXXXXXXXXXXXXXXXXXXXXXXXXXXXXXXXXXXXXXXXXXXXXXXXXXXXXXXXXXXXXXXXXXXXXXXXXXXXXXXXXXXXXXXXXXXXXXXXXXXXXXXXXXXXXXXXXXXXXXXXXXXXXXXXXXXXXX', 'NNNNNNNNNNNNNNNNNNNNNNNNNNNNNNNNNNNNNNNNNNNNNNNNNNNNNNNNNNNNNNNNNNNNNNNNNNNNNNNNNNNNNNNNNNNNNNNNNNNNNNNNNNNNNNNNNNNNNNNNNNNNNNNNNNNNNNNNNNNNNNNNNNNNNNNNNNNNNNNNNNNNNNNNNNNNNNNNNN', 'IIIIIIIIIIIIIIIIIIIIIIIIIIIIIIIIIIIIIIIIIIIIIIIIIIIIIIIIIIIIIIIIIIIIIIIIIIIIIIIIIIIIIIIIIIIIIIIIIIIIIIIIIIIIIIIIIIIIIIIIIIIIIIIIIIIIIIIIIIIIIIIIII', 'XXXXXXXXXXXXXXXXXXXXXXXXXXXXXXXXXXXXXXXXXXXXXXXXXXXXXXXXXXXXXXXXXXXXXXXXXXXXXXXXXXXXXXXXXXXXXXXXXXXXXXXXXXXXXXXXXXXXXXXXXX', 'NNNNNNNNNNNNNNNNNNNNNNNNNNNNNNNNNNNNNNNNNNNNNNNNNNNNNNNNNNNNNNNNNNNNNNNNNNNNNNNNNNNNNNNNN', 'YYYYYYYYYYYYYYYYYYYYYYYYYYYYYYYYYYYYYYYYYYYYYYYY', 'VVVVVVVVVVVVVVVVVVVVVVVVVVVVVVVVVVVVVVVVVVVVVVVVVVVVVVVVVVVVVVVVVVVVVVVVVVVVVVVVVVVVVVVVVVVVVVVVVVVVVVVVVVVVVVVVVVVVVVVVVVVVVVVVVVVVVVVVVVVVVVVVVVVVVVVVVVVVVVVVVVVVVVVVVVVVVVVVVVVVVVVVVVVVVVVVVVVVVVVVVVVVVVVVVVVVVVVVVVVV', 'QQQQQQQQQQQQ']\n"
     ]
    }
   ],
   "source": [
    "#As you fill the reservoir to start, add the weights proportionally. Then, based on the current weight, add the current\n",
    "#element to the reservoir\n",
    "def reservoirSampling(myList, k):\n",
    "    reservoir = []\n",
    "    totalWeight = 0\n",
    "    for index in range(k):\n",
    "        reservoir += myList[index][0]\n",
    "        totalWeight += (myList[index][1]/k)\n",
    "    for j in range(k+1, len(myList)):\n",
    "        totalWeight += (myList[j][1]/k)\n",
    "        prob = myList[j][1] / totalWeight\n",
    "        check = random.random()\n",
    "        if check < prob:\n",
    "            index = random.randint(0,k-1)\n",
    "            reservoir[index] = myList[j][0]\n",
    "    return reservoir\n",
    "        \n",
    "start_time = time.time()\n",
    "ourFriends = reservoirSampling(weightedNames, 20)\n",
    "print(\"--- %s seconds ---\" % (time.time() - start_time))\n",
    "print(ourFriends)    "
   ]
  },
  {
   "cell_type": "markdown",
   "metadata": {},
   "source": [
    "### An Aside\n",
    "<b>Distributed Random Sampling</b> is a popular technique used to perform reservoir sampling across several machines. Sometimes our stream of data is too large to be stored in memory and would take too long to process on one machine. At that point, we can decide to distribute the data amongst m machines, each of which does its own weighted sampling of k elements as described above. We amalgamate the k samples from each, and then regenerate keys on one machine to pick the final k elements.\n",
    "\n",
    "\n",
    "## Practical Uses\n",
    "\n",
    "As stated earlier, reservoir sampling comes most in handy when an entire data stream does not fit in memory. Imagine if our stream was every Google search performed in the month of June every year since Google's inception or every transaction made on Amazon in the past three holiday seasons - these streams are extremely large. In order to randomly select a k number of them we would need to probably employ distributed random sampling, as these streams would a) be too large to efficiently iterate over to get its size and b) may not fit into memory - or would significantly slow down our machine if we tried.\n",
    "\n",
    "\n",
    "# Twitter Example\n",
    "In our past homeworks, we have manipulated Twitter data. Let's do a real life example where we load and select k tweets from an unknown stream of tweets to presumably do data analysis on. "
   ]
  },
  {
   "cell_type": "code",
   "execution_count": 98,
   "metadata": {
    "collapsed": true
   },
   "outputs": [],
   "source": [
    "# From HW2, load our tweets.csv\n",
    "def load_twitter_data_pandas(tweets_filepath):\n",
    "    tweets_df = (pd.read_csv(tweets_filepath)).fillna(\"\")\n",
    "    return tweets_df"
   ]
  },
  {
   "cell_type": "code",
   "execution_count": 99,
   "metadata": {
    "collapsed": false
   },
   "outputs": [
    {
     "name": "stdout",
     "output_type": "stream",
     "text": [
      "       screen_name                      created_at  retweet_count  \\\n",
      "0  realDonaldTrump  Fri Sep 09 02:00:32 +0000 2016           2859   \n",
      "1  realDonaldTrump  Fri Sep 09 00:39:36 +0000 2016           6463   \n",
      "2  realDonaldTrump  Thu Sep 08 23:56:22 +0000 2016           5405   \n",
      "3  realDonaldTrump  Thu Sep 08 19:52:32 +0000 2016          11633   \n",
      "4  realDonaldTrump  Thu Sep 08 18:17:01 +0000 2016           3824   \n",
      "\n",
      "   favorite_count                                               text  \n",
      "0            7030  Final poll results from NBC on last nights Com...  \n",
      "1           17951  It wasn't Matt Lauer that hurt Hillary last ni...  \n",
      "2           13223  More poll results from last nights Commander-i...  \n",
      "3           27028  Last nights results - in poll taken by NBC. #A...  \n",
      "4           12567  With Luis, Mexico and the United States would ...  \n"
     ]
    }
   ],
   "source": [
    "(tweets_df) = load_twitter_data_pandas('tweets.csv')\n",
    "# make sure to change the path to csv files appropriately\n",
    "print (tweets_df.head())"
   ]
  },
  {
   "cell_type": "code",
   "execution_count": 100,
   "metadata": {
    "collapsed": false
   },
   "outputs": [
    {
     "name": "stdout",
     "output_type": "stream",
     "text": [
      "--- 0.0279831886292 seconds ---\n",
      "[['RapidCityPD', 'Sat Sep 17 02:05:47 +0000 2016', 0, 1, '@tweeks210 Pretty clam and quiet for the most part, but we see our fair share of action.'], ['AnnCoulter', 'Sat Sep 17 07:40:37 +0000 2016', 954, 0, 'RT @I_AmAmerica: If Hillary Clinton have the chance to appoint 2 to 4 Supreme Court Justices, it could change our Republic forever.Please C\\xe2\\x80\\xa6'], ['LGlick1', 'Wed Sep 14 00:03:06 +0000 2016', 4, 9, \"Let's let the people decide! @realDonaldTrump #VoteTrump #MAGA  https://t.co/ePfDb2Jd7Q\"], ['andersoncooper', 'Fri Jul 29 04:02:43 +0000 2016', 0, 34, '@megfarrisWWL cant wait for wrinkle free friday!'], ['evangelistmatt', 'Sat Sep 17 02:04:34 +0000 2016', 37, 0, 'RT @EvanHeadrick: #HillsongMovie was unbelievable. Incredible film. I have such a deeper respect and love for who they are, and their music.'], ['joshspragins', 'Sat Aug 20 16:42:25 +0000 2016', 326, 0, 'RT @CoachKWisdom: All dreams come true if we have the courage to pursue them.'], ['DiamondandSilk', 'Fri Sep 16 22:00:31 +0000 2016', 442, 882, '\"Basket Of Deplorables\" T-shirt going fast. Limited offer while supplies last so act fast. \\nhttps://t.co/EJDihLVv0I https://t.co/raewZfZG2e'], ['GreatBrianLast', 'Sat Sep 17 16:36:03 +0000 2016', 3, 0, 'RT @allan_cheapshot: BEAUTIFUL Elbow Drop from Bobby Eaton. https://t.co/YXsPeM4c6A'], ['RealRomaDowney', 'Thu Sep 15 16:30:29 +0000 2016', 16, 93, 'Mark and I with our friend @AndraDayMusic we love her voice , she has a God given gift that inspires and shines \\xe2\\x9d\\xa4\\xef\\xb8\\x8f\\xe2\\x98\\x80\\xef\\xb8\\x8f https://t.co/DHxf1oNfFk'], ['DavePrazak', 'Sun Aug 28 18:12:48 +0000 2016', 1, 16, \"In '95, I ran into George Foreman at the airport. All I had on me for a signature was Dr. Mike Lano's newsletter! https://t.co/bvpXkIMYwi\"], ['PGA_JohnDaly', 'Tue Sep 13 20:17:09 +0000 2016', 3, 19, \"@JesperParnevik wait a minute I'm not on ur flight \\xf0\\x9f\\x9a\\xac\\xf0\\x9f\\x98\\x9c\"], ['mike_pence', 'Sun Sep 11 01:14:00 +0000 2016', 3875, 6815, '#BasketofDeplorables #WereWithYou https://t.co/dhlfTQSfDh'], ['BulletValentina', 'Thu Sep 15 15:44:56 +0000 2016', 46, 241, '#UFCFighter @UFCNetwork https://t.co/lKpvsyZdue'], ['LGlick1', 'Sat Sep 10 16:09:03 +0000 2016', 73, 96, 'Attacking supporters is campaign suicide! #CrookedHillary @EricTrump #BasketOfDeplorables #MAGA #VoteTrump2016  https://t.co/dxlv4PhgII'], ['Espngreeny', 'Wed Sep 14 19:59:29 +0000 2016', 1, 57, \"I'm in! https://t.co/XpUtRZyDyw\"], ['hayamaraka', 'Thu Jul 09 15:40:23 +0000 2015', 1, 0, 'RT @KungKatherine: Had an #LOL moment with @HayaMaraka this afternoon - thanks babe for stopping by to #model for us\\xe2\\x80\\xa6 https://t.co/wxJbnn5D\\xe2\\x80\\xa6'], ['iherb__promo', 'Fri Sep 16 08:47:26 +0000 2016', 0, 0, 'iherb review|best iherb voucher code for Russell O... https://t.co/I6nw1ZesyX https://t.co/qESUoZSm0B'], ['itsmorgansteele', 'Wed Jul 20 23:24:17 +0000 2016', 0, 1, 'Well I made it! \\nSorted the kids, sorted the house, sorted the husband (questionable).. And am off for 6 days to... https://t.co/JyqYkvzTD8'], ['RapidCityPD', 'Sat Sep 17 04:12:30 +0000 2016', 0, 4, \"After a quick stop in Patrol, we're headed back out to the streets. https://t.co/5E0dHjeuqN\"], ['annarenderer', 'Fri Aug 05 17:34:41 +0000 2016', 0, 0, 'I added a video to a @YouTube playlist https://t.co/FXJlMryVNQ SLAY with K&amp;K! BONUS Workout featured from Beach Babe 4!'], 'realDonaldTrump', 'Thu Sep 08 18:17:01 +0000 2016', 3824, 12567, 'With Luis, Mexico and the United States would have made wonderful deals together - where both Mexico and the US would have benefitted.', 'realDonaldTrump', 'Thu Sep 08 18:16:25 +0000 2016', 3710, 12860, 'Mexico has lost a brilliant finance minister and wonderful man who I know is highly respected by President Pe\\xc3\\xb1a Nieto.', 'realDonaldTrump', 'Thu Sep 08 16:25:36 +0000 2016', 8599, 24244, 'Hillary Clinton answered email questions differently last night than she has in the past. She is totally confused. Unfit to serve as #POTUS.', 'realDonaldTrump', 'Thu Sep 08 15:17:47 +0000 2016', 9436, 28467, \"Hillary just gave a disastrous news conference on the tarmac to make up for poor performance last night. She's being decimated by the media!\", 'realDonaldTrump', 'Thu Sep 08 15:09:13 +0000 2016', 5956, 0, 'RT @DanScavino: Last nights winner was clear &amp; it will be proven time &amp; time again - lets #MAGA!! Lets WIN!! #TrumpTrain https://t.co/sGqp9\\xe2\\x80\\xa6', 'realDonaldTrump', 'Thu Sep 08 12:10:13 +0000 2016', 8120, 26298, '\"A rough night for Hillary Clinton\"  ABC News.', 'realDonaldTrump', 'Thu Sep 08 10:52:27 +0000 2016', 4724, 19687, 'Wow, reviews are in - THANK YOU!', 'realDonaldTrump', 'Thu Sep 08 10:43:12 +0000 2016', 2061, 9264, 'COMING UP @GenFlynn @newtgingrich on @foxandfriends', 'realDonaldTrump', 'Thu Sep 08 10:39:04 +0000 2016', 3510, 14648, 'Thank you to @foxandfriends for the nice reviews of last night.', 'realDonaldTrump', 'Thu Sep 08 09:59:36 +0000 2016', 8819, 20772, 'Thank you America - great #CommanderInChiefForum polls! https://t.co/Rcu6KaRGCB', 'realDonaldTrump', 'Thu Sep 08 04:02:15 +0000 2016', 8658, 31879, 'Thank you to our fantastic veterans. The reviews and polls from almost everyone of my Commander-in-Chief presentation were great. Nice!', 'realDonaldTrump', 'Wed Sep 07 22:07:20 +0000 2016', 7691, 19897, 'Thank you Peter - if elected, I will think big for our country &amp; never let the American people down! #AmericaFirst https://t.co/6Nwu7EMJ9d', 'realDonaldTrump', 'Wed Sep 07 20:23:56 +0000 2016', 6550, 20743, 'Wow - thank you Pensacola, FL. See you Friday at 7pm -- join me!\\nhttps://t.co/JCO7Za78tV https://t.co/LYmpRyY0Hq', 'realDonaldTrump', 'Wed Sep 07 18:12:26 +0000 2016', 8524, 25511, '#AmericaFirst! https://t.co/fQGxwAjXD7', 'realDonaldTrump', 'Wed Sep 07 15:11:59 +0000 2016', 8123, 21415, \"'Donald Trump leads Hillary Clinton by 19 points among military, veteran voters: poll' #AmericaFirst #MAGA\\nhttps://t.co/5FmxGtLkwt\", 'realDonaldTrump', 'Wed Sep 07 04:22:37 +0000 2016', 5121, 16448, '\"@adhd_fa:Kudos to @PARISDENNARD for standing up to CNN\\'s attempt to bully you and shout you down for defending @realDonaldTrump #media bias']\n"
     ]
    }
   ],
   "source": [
    "#Fill the reservoir with k elements and then randomly pick elements to replace\n",
    "def tweetReservoirSampling(df, k):\n",
    "    reservoir = []\n",
    "    listDF = df.values.tolist()\n",
    "    for index in range(k):\n",
    "        reservoir += listDF[index]\n",
    "    for j in range(k+1, len(listDF)):\n",
    "        i = random.randint(0, j)\n",
    "        if i < k:\n",
    "            reservoir[i] = listDF[j]\n",
    "    return reservoir\n",
    "        \n",
    "start_time = time.time()\n",
    "ourTweets = tweetReservoirSampling(tweets_df, 20)\n",
    "print(\"--- %s seconds ---\" % (time.time() - start_time))\n",
    "print(ourTweets) "
   ]
  },
  {
   "cell_type": "markdown",
   "metadata": {},
   "source": [
    "## Tweaked Scenario\n",
    "Let's now imagine that we wanted to associate a specific weight with a given scenario. Frist let;s randomly generate weights for the given screen names. After that, let's randomly pick 20 tweets to analyze."
   ]
  },
  {
   "cell_type": "code",
   "execution_count": 101,
   "metadata": {
    "collapsed": false
   },
   "outputs": [
    {
     "name": "stdout",
     "output_type": "stream",
     "text": [
      "{'LaraLeaTrump': 0.6248763216837869, 'parscale': 0.062435954772907754, 'AnnCLauer': 0.84804203423153, 'BucksFargo': 0.17829362339700194, 'DonaldJTrumpJr': 0.04944992132156867, 'TrumpGolfHV': 0.49261696325332294, 'TrumpCharlotte': 0.7350803190490024, 'ketosisquickly': 0.9783133134684304, 'NBCNews': 0.27834049591074217, 'MaxAdlerGD': 0.40148367926662265, 'Aly_Raisman': 0.7733722111307808, 'TrumpHotels': 0.84735480130601, 'blueandcream': 0.9862129520156625, 'TedDiBiase': 0.2787697242029894, 'mjfoxy12': 0.1552932513384898, 'bhvacations': 0.4106551206045287, 'MinnesotaDFL': 0.6135559210540275, 'DANGEROUSDG1': 0.1913625598122457, 'TrumpLasVegas': 0.4629583035680024, 'CusterChronicle': 0.5747203160756378, 'iherb__promo': 0.376433410740763, 'karchkiraly': 0.9402854488021014, 'MyTownBlackHill': 0.9299476245994821, 'NCAA': 0.2057443000667939, 'Goldust': 0.8568065339166543, 'CureCancerNow': 0.6044865900992201, 'WojVerticalNBA': 0.6889654234208427, 'Ginamzz': 0.7880569466365592, 'iHerb': 0.034819968087437814, 'MGA1897': 0.15840089017040193, 'AAHSAWARD': 0.19541725725685544, 'SamiCoCoPuff': 0.5153144701789668, 'RapidCityPubLib': 0.6252165142477398, 'gohermie': 0.6453110168094843, 'SHIMMERwomen': 0.2631777029615774, 'AP': 0.0011149145410607186, 'TiffanyATrump': 0.07724619314695103, 'TrumpModels': 0.5641240408830743, 'KatrinaPierson': 0.7726563523394803, 'Custer_SD': 0.44667781541476825, 'ExecutivePour': 0.8703182171527934, 'SInow': 0.24890932432711288, 'BodybuildingXL': 0.9369098319104916, 'DRUDGE_REPORT': 0.570000462089897, 'morningmika': 0.982351661005533, 'TrumpFerryPoint': 0.38902932715928995, 'ThePaleoBread': 0.8873743254378963, 'RealRomaDowney': 0.10692398331741393, 'HighersideChats': 0.7740651643919882, 'bhhspremier': 0.1464634713645071, 'pompei79': 0.5518103364270067, 'GreatBrianLast': 0.6970333647738067, 'Trump': 0.20967484876929077, 'wallyball': 0.025559985294027254, 'TrumpPanama': 0.7348783417427112, 'mgleslie6': 0.8181159763108792, 'TrumpToronto': 0.08438820047455742, 'JDayGolf': 0.7306143476129165, 'GOLFonCBS': 0.24625368625647426, 'GOPconvention': 0.3069421092810588, 'KnowSturgisSD': 0.7773402543677989, 'livelasvegas': 0.5391855858945491, 'ScottBaio': 0.2621980863627087, 'AntonioBrown84': 0.20002175253249876, 'CityofSpearfish': 0.8985589988334114, 'HanksYanksGolf': 0.698629520313078, 'FargoBites': 0.751258789026007, 'espn': 0.31412928067003043, 'people': 0.1923656407357125, 'toribowie': 0.9199107229985277, 'ESPNSteinLine': 0.22347729711062025, 'realDonaldTrump': 0.43373617899818384, 'evangelistmatt': 0.01600171404923678, 'JoefromDoonbeg': 0.627404923098235, 'seanhannity': 0.9079840292145221, 'rcgov': 0.8548732167954678, 'garyplayer': 0.10079531190956204, 'HealthFitPath': 0.3617646130126658, 'GarverSima': 0.3230017979796673, 'RCJournal': 0.7326804969705416, 'Lexi': 0.8516862730883814, 'Black_Hills': 0.6822272088319534, 'DaveRamseyLIVE': 0.31666855003195116, 'Vitacost': 0.3344479867061977, 'worthy1961': 0.4990476784731235, 'IvankaTrump': 0.3027741874937643, 'horsebalmedie': 0.14437523343449765, 'StacyLewis_KPMG': 0.3874156956508804, 'JeffreyMoser': 0.854092762573279, 'DiamondandSilk': 0.1029641670882252, 'CUSTER_KOA': 0.7421411324599282, 'TheBig_Easy': 0.9939178334241, 'GolfWorld1': 0.598072315012982, 'MichaelBreedGA': 0.6934160868515824, 'itsmorgansteele': 0.7462596386921337, 'Stacy_Lewis': 0.02385205157176218, 'skinnyclubxoxo': 0.48250794011855813, 'bettanyhughes': 0.21551873003103816, 'TheSergioGarcia': 0.6922700394369347, 'Cmiddaughgolf': 0.038932392344705136, 'EricTrumpFdn': 0.8962112376782466, 'FareedZakaria': 0.43712340254432425, 'TonyDovolani': 0.09336797890093562, 'RapidCityPD': 0.9352831073927534, 'ColleenLopezHSN': 0.7690723033888655, 'AnnCoulter': 0.4176293027805912, 'DunningGolf': 0.08663455168567291, 'palmergulch': 0.04811405061710339, 'RockSolidCross': 0.38296674932378827, 'KateRuthBrewer': 0.22398596962992823, 'FortuneMagazine': 0.09290414236125766, 'Scottmarr8': 0.08353713026123677, 'pfrumors': 0.7711975352992545, 'PGATOURmedia': 0.08030105917048314, 'theycallmeMOSH': 0.5846356443734506, 'Joel_Warren': 0.8049132309456752, 'JRAD79': 0.8820502062033669, 'BlackHillsWine': 0.1517462253843106, 'SMURFpga': 0.8731362929659654, 'DarknessRadio': 0.35492679366577906, 'BrendanAMurphy': 0.8852623600239308, 'ericbolling': 0.529263832108149, 'usavolleyball': 0.010260017759430196, 'Kampkoa': 0.5542441029725296, 'RC_ParksandRec': 0.735183490607062, 'Thinke': 0.7855842465232322, 'johnrich': 0.6102122452911023, 'CNNPolitics': 0.050625658163208964, 'Krobin32': 0.3661951891895546, 'TrumpBedminster': 0.09662764722991435, 'Cjsmith_6': 0.4979068509373952, 'RYMRadio': 0.5034243802386682, 'ErikCompton3': 0.6469479819689993, 'NWSRapidCity': 0.5648970873141929, 'THE_REAL_LD_89': 0.47490837589992796, 'ToddLewisGC': 0.0014791190792327047, 'CKGolferChic': 0.460642490392709, 'MissVanZutphen': 0.6439417964332296, 'TrumpGolfDC': 0.48673222036751307, 'Michael_cMiller': 0.9331006483314325, 'SIGolfPlus': 0.7750463822143975, 'CrowPeakBrewing': 0.026516981116067817, 'AbductMovie': 0.9408614871992602, 'TrumpTurnberry': 0.5510022537685038, 'oakley': 0.565089074744678, 'teddymargules': 0.7459546713500785, 'WGC_Bridgestone': 0.7271331700249816, 'rachelcosgrove': 0.6295307126416332, 'TrumpDoral': 0.018337390527041086, 'lecomptey19': 0.19042633852977608, 'TrumpSoHo': 0.16056414897666804, 'NancyPelosi': 0.3880053631373128, 'evangelists': 0.7071006962362353, 'LINKSMagazine': 0.5246030951023556, 'usopengolf': 0.5805682440507888, 'piersmorgan': 0.19379989863425406, 'TrumpGolfPhilly': 0.2957494744503961, 'TrumpScotland': 0.3542115553472248, 'TrumpChicago': 0.5253481634665794, 'BulletValentina': 0.859113450242471, 'TrumpGolfLA': 0.05263922310261482, 'TheMasters': 0.41341915126696394, 'andersoncooper': 0.8926791328346382, 'HartRanchResort': 0.3529315021692575, 'mike_pence': 0.6379751336555366, 'BlackHillsBuzz': 0.9838259284223981, 'MattLaDolcetta': 0.4677107314652793, 'RushmorePlazaCC': 0.7654430290220027, 'FoxBusiness': 0.41618403660940806, 'cadillacjacksgr': 0.48014695935276686, 'oreillyfactor': 0.5848033898662597, 'tedbishop38pga': 0.7021258139277626, 'TeamTrump': 0.49980179177881645, 'RetrieversFacts': 0.22285633459336296, 'BHSU_RapidCity': 0.6015365958709247, 'MDMOLINARI': 0.38633651073052466, 'greta': 0.963560700109185, '1880train': 0.008663390430091122, 'AMurrayGolf': 0.6143820309822043, 'KatrinaCampins': 0.7818468796183993, 'hayamaraka': 0.6120604110378408, 'TrumpNationalNY': 0.1817809066603837, 'JoeNBC': 0.23671290033666825, 'VinceMcMahon': 0.5772115592516704, 'TrumpRealty': 0.3155368143964149, 'foxnation': 0.4025360592814209, 'trishayearwood': 0.41660511453211324, 'NBCSports': 0.9634381825628593, 'HagenProperties': 0.172677659081517, 'jangault1': 0.13051425561694618, 'D29Gillian': 0.4159046386495501, 'TrumpDC': 0.4100341469709794, 'annarenderer': 0.2821812198673813, 'Morgan_Stewart': 0.10427522722213933, 'TrumpColtsNeck': 0.9877601455902444, 'FoxNews': 0.40025535585677763, 'TrumpTower': 0.1839897930369493, 'AC360': 0.16897355877287634, 'CLewandowski_': 0.3434254261144314, 'Da20one': 0.15505503380804375, 'LGlick1': 0.38949950654967236, 'Newsweek': 0.3520454744384549, 'alienufovideos': 0.16135161529094266, 'BleacherReport': 0.425202949979539, 'Espngreeny': 0.6684529589326301, 'MichaelBreed': 0.7135701248387682, 'MikeAdkinsPGA': 0.6422989505940114, 'Cali_Ally_': 0.2218903888786089, 'TrumpNewYork': 0.4948586776756847, 'MrsVanessaTrump': 0.4425925731184649, 'iansomerhalder': 0.13998481853540645, 'CRTurnberry': 0.3447057225784781, 'chelseahandler': 0.25568544400268356, 'triatthetrump': 0.20783191203677953, 'BrendanFitzp': 0.006510888685335003, 'EricTrump': 0.9631449822393497, 'Olympics': 0.5732114840859605, 'DanScavino': 0.28993724881822236, 'NickFaldo006': 0.31798194576920524, 'SSWWrestling1': 0.3820400242677654, 'trumpwinery': 0.7787666524327902, 'RamseyShow': 0.01799534315117579, 'LanaDelRey': 0.059167966599555366, 'Swary81': 0.7525186869658195, 'TNGCJ': 0.9400794783603199, 'TrumpGolf': 0.8248311656412283, 'holland_tom': 0.05892631255957004, 'IvankaJewelry': 0.4882074976507723, 'CallawayGolf': 0.9186503655990996, 'JimMcLeanDoral': 0.5944834353537904, 'DowntownRC': 0.28451416887126457, 'DavePrazak': 0.990417767703239, 'TheEllenShow': 0.776488062460184, 'TrumpPalmBeach': 0.13785785527690453, 'alfranken': 0.35992956633175277, 'FITNESSjenna': 0.6966724238234412, 'NotahBegay3': 0.15883534275430888, 'MichaelCohen212': 0.5254607421843689, 'GeraldoRivera': 0.8155915599718606, 'J_Prandini': 0.012697591956840504, 'mdamelincourt': 0.7996283813576625, 'FrankNobiloGC': 0.678045065023464, 'HarneyPeakSD': 0.3831006354727813, 'HeyItsLindaC': 0.7597327266594629, 'TrueLife_Tweets': 0.7240115231232377, 'Shivansarna': 0.5887358457773141, 'TrumpCLTsupt': 0.1009036673379472, 'TrumpDoonbeg': 0.2808288631986402, 'nutiva': 0.8745243182917433, 'daniellenmaples': 0.8690447482712117, 'joshspragins': 0.6832185729215633, 'PaulManafort': 0.6577887145953744, 'blackhillsfun': 0.16751948801406424, 'CBSSports': 0.7922751504382322, 'MandieErickson': 0.5384901208102509, 'pam226': 0.9648290627449473, 'garthbrooks': 0.8574272698328514, 'SDSnowBHills': 0.8492943293249521, 'BlackHillstoGo': 0.7372194497037924, 'ZuzannaWanda': 0.3883324690576657, 'MarkBurnettTV': 0.8421287521446109, 'ErinAndrews': 0.3675977848435551, 'RubyGilmore_': 0.07406775251466868, 'PGA_JohnDaly': 0.9986979884010786, 'MeghanAHardin': 0.5100146596919053, 'TeenVogue': 0.8505662863823967, 'PaleoProtein': 0.8374877193969477, 'chambleebrandel': 0.9469512285219028, 'SharkGregNorman': 0.4623566679484582, 'g_matisse': 0.8393890302121466, 'KellyTilghmanGC': 0.8800558032954795, 'foxandfriends': 0.9021636721642537, 'IngrahamAngle': 0.9290249551301388, 'TrumpWaikiki': 0.6992866629091795, 'ianokearney': 0.8893990602318049, 'MELANIATRUMP': 0.934438117248162, 'JPederson2728': 0.3928056184046319, 'PGAChampionship': 0.7687730525405155}\n"
     ]
    }
   ],
   "source": [
    "#First lets isolate the screen names and make a dictionary where the key value pairs are the unique screen name and a\n",
    "#random weight\n",
    "def makeSetOfScreenNames(df):\n",
    "    return set(df[\"screen_name\"].tolist())\n",
    "\n",
    "myScreenNames = makeSetOfScreenNames(tweets_df)\n",
    "#print(makeSetOfScreenNames(tweets_df))\n",
    "\n",
    "def screenNameWeights(screenNames):\n",
    "    screenNameWeights = {}\n",
    "    for name in screenNames:\n",
    "        screenNameWeights[name] = random.random()\n",
    "    return screenNameWeights\n",
    " \n",
    "myWeights = screenNameWeights(myScreenNames)\n",
    "print(screenNameWeights(myScreenNames))"
   ]
  },
  {
   "cell_type": "code",
   "execution_count": 102,
   "metadata": {
    "collapsed": false
   },
   "outputs": [
    {
     "name": "stdout",
     "output_type": "stream",
     "text": [
      "--- 0.0220670700073 seconds ---\n",
      "[['SIGolfPlus', 'Wed Nov 05 21:33:28 +0000 2014', 6, 11, 'The Bump &amp; Run, a shot you need in your bag: http://t.co/GEV2HN2ypl'], ['EricTrumpFdn', 'Fri Jun 24 21:31:06 +0000 2016', 28, 67, \"Here's a sneak peek at what to expect at our 10th Annual #ETF Golf Invitational &amp; Auction Dinner!  Details soon! \\xe2\\x9b\\xb3\\xef\\xb8\\x8f https://t.co/vMJQb2bw6T\"], ['TrumpChicago', 'Tue Sep 13 15:51:55 +0000 2016', 0, 2, 'Meet the Sixteen Team:\\nExecutive Pastry Chef Evan Sheridan \\n*From: Iowa\\n*Favorite day off food: Vietnamese... https://t.co/KfGjosIpi7'], ['CusterChronicle', 'Thu Sep 15 19:30:39 +0000 2016', 0, 0, 'Volleyball takes three wins in busy week https://t.co/D9dxq3JtQq'], ['Kampkoa', 'Fri May 20 17:45:15 +0000 2016', 0, 0, 'Think people - Do not approach...  they are wild animals...\\nhttps://t.co/58cAyepKsB'], ['ErinAndrews', 'Fri Sep 16 00:45:20 +0000 2016', 0, 0, '@Reveretoo ugh what?'], ['BlackHillsWine', 'Wed Sep 07 21:16:17 +0000 2016', 1, 0, 'RT @MONTECRISTO_Mag: Bold Meritage reds from @nkmipcellars and @BlackHillsWine: https://t.co/QwQjZsxFLj https://t.co/IsWUpGAswT'], ['pam226', 'Tue Sep 06 16:49:47 +0000 2016', 1, 1, 'Great article! https://t.co/0JIhoBbu7W'], ['GarverSima', 'Sat Aug 27 19:37:15 +0000 2016', 0, 0, 'https://t.co/RWHTpTD3Hh'], ['TrumpTurnberry', 'Sat Sep 17 09:45:43 +0000 2016', 0, 0, '@KevSportsLaw glad you made it to us eventually despite the car trouble - looks like it was worth it! Hope to see you again!'], ['blackhillsfun', 'Sat Aug 28 04:12:55 +0000 2010', 0, 0, \"Grab some sunscreen, because it's time to venture outdoors http://www.blackhillsfun.com/calendar/events/?eID=\"], ['DarknessRadio', 'Wed Sep 14 19:15:24 +0000 2016', 0, 2, \"@EtherealGypsy @Zak_Bagans LOL...of course it would have to be alright with them. Did you think I'd just run through production on my own?\"], ['LanaDelRey', 'Wed Aug 17 02:38:23 +0000 2016', 3247, 8072, '@bornsmusic \\xf0\\x9f\\x8e\\x88'], ['Goldust', 'Sat Sep 17 18:18:55 +0000 2016', 34, 169, 'Cancer kills 1 person every minute. Lets find a cure!!! @Whipping_Cancer @jmenatica #KK'], ['karchkiraly', 'Sun Aug 21 02:36:57 +0000 2016', 6, 58, 'You are soooooo right, all #StrongSauce! #ALLIN #ExpectNothing #EarnEverything https://t.co/13YFJpYKQO'], ['TrumpSoHo', 'Wed Aug 10 13:35:01 +0000 2016', 3, 2, 'There is just over 1 week left to enjoy @NYCRW  offering pre-fixe menus throughout the city https://t.co/zbVR1NUHW7'], ['RealRomaDowney', 'Thu Sep 15 23:47:57 +0000 2016', 9, 32, 'Golden light at Paradise cove . #malibu #malibubeach #beach #beachlife #beachwalks #beachwalk\\xe2\\x80\\xa6 https://t.co/fEMGvGmGlu'], ['RubyGilmore_', 'Sat Sep 17 15:39:23 +0000 2016', 0, 0, 'A million things can bring you down, find one reason to keep you up. https://t.co/LK6wYSgswS'], ['Goldust', 'Sat Sep 17 16:07:56 +0000 2016', 3, 0, 'RT @joeportersbro: Best match: Zayn/Rollins/Owens \\nBest wrestling match: Golddust-RTruth vs Bo Dallas-Curtis Axel  #WWELouisville'], ['TrumpPanama', 'Thu Sep 15 13:20:37 +0000 2016', 0, 0, 'Voc\\xc3\\xaa j\\xc3\\xa1 experimentou os padr\\xc3\\xb5es dos #TrumpHotels\\xe2\\x84\\xa2? Depois de passar f\\xc3\\xa9rias no Trump Hotel, hospitalidade ter\\xc3\\xa1 um novo significado.'], 'realDonaldTrump', 'Thu Sep 08 18:17:01 +0000 2016', 3824, 12567, 'With Luis, Mexico and the United States would have made wonderful deals together - where both Mexico and the US would have benefitted.', 'realDonaldTrump', 'Thu Sep 08 18:16:25 +0000 2016', 3710, 12860, 'Mexico has lost a brilliant finance minister and wonderful man who I know is highly respected by President Pe\\xc3\\xb1a Nieto.', 'realDonaldTrump', 'Thu Sep 08 16:25:36 +0000 2016', 8599, 24244, 'Hillary Clinton answered email questions differently last night than she has in the past. She is totally confused. Unfit to serve as #POTUS.', 'realDonaldTrump', 'Thu Sep 08 15:17:47 +0000 2016', 9436, 28467, \"Hillary just gave a disastrous news conference on the tarmac to make up for poor performance last night. She's being decimated by the media!\", 'realDonaldTrump', 'Thu Sep 08 15:09:13 +0000 2016', 5956, 0, 'RT @DanScavino: Last nights winner was clear &amp; it will be proven time &amp; time again - lets #MAGA!! Lets WIN!! #TrumpTrain https://t.co/sGqp9\\xe2\\x80\\xa6', 'realDonaldTrump', 'Thu Sep 08 12:10:13 +0000 2016', 8120, 26298, '\"A rough night for Hillary Clinton\"  ABC News.', 'realDonaldTrump', 'Thu Sep 08 10:52:27 +0000 2016', 4724, 19687, 'Wow, reviews are in - THANK YOU!', 'realDonaldTrump', 'Thu Sep 08 10:43:12 +0000 2016', 2061, 9264, 'COMING UP @GenFlynn @newtgingrich on @foxandfriends', 'realDonaldTrump', 'Thu Sep 08 10:39:04 +0000 2016', 3510, 14648, 'Thank you to @foxandfriends for the nice reviews of last night.', 'realDonaldTrump', 'Thu Sep 08 09:59:36 +0000 2016', 8819, 20772, 'Thank you America - great #CommanderInChiefForum polls! https://t.co/Rcu6KaRGCB', 'realDonaldTrump', 'Thu Sep 08 04:02:15 +0000 2016', 8658, 31879, 'Thank you to our fantastic veterans. The reviews and polls from almost everyone of my Commander-in-Chief presentation were great. Nice!', 'realDonaldTrump', 'Wed Sep 07 22:07:20 +0000 2016', 7691, 19897, 'Thank you Peter - if elected, I will think big for our country &amp; never let the American people down! #AmericaFirst https://t.co/6Nwu7EMJ9d', 'realDonaldTrump', 'Wed Sep 07 20:23:56 +0000 2016', 6550, 20743, 'Wow - thank you Pensacola, FL. See you Friday at 7pm -- join me!\\nhttps://t.co/JCO7Za78tV https://t.co/LYmpRyY0Hq', 'realDonaldTrump', 'Wed Sep 07 18:12:26 +0000 2016', 8524, 25511, '#AmericaFirst! https://t.co/fQGxwAjXD7', 'realDonaldTrump', 'Wed Sep 07 15:11:59 +0000 2016', 8123, 21415, \"'Donald Trump leads Hillary Clinton by 19 points among military, veteran voters: poll' #AmericaFirst #MAGA\\nhttps://t.co/5FmxGtLkwt\", 'realDonaldTrump', 'Wed Sep 07 04:22:37 +0000 2016', 5121, 16448, '\"@adhd_fa:Kudos to @PARISDENNARD for standing up to CNN\\'s attempt to bully you and shout you down for defending @realDonaldTrump #media bias']\n"
     ]
    }
   ],
   "source": [
    "#Fill the reservoir with k elements and then randomly pick elements to replace\n",
    "def tweetWeightedReservoirSampling(df, weight, k):\n",
    "    reservoir = []\n",
    "    listDF = df.values.tolist()\n",
    "    totalWeight = 0\n",
    "    for index in range(k):\n",
    "        reservoir += listDF[index]\n",
    "        totalWeight += (weight[listDF[index][0]]/k)\n",
    "    for j in range(k+1, len(listDF)):\n",
    "        totalWeight += (weight[listDF[index][0]]/k)\n",
    "        prob = weight[listDF[index][0]]/ totalWeight\n",
    "        check = random.random()\n",
    "        if check < prob:\n",
    "            index = random.randint(0,k-1)\n",
    "            reservoir[index] = listDF[j]\n",
    "    return reservoir\n",
    "        \n",
    "start_time = time.time()\n",
    "ourWTweets = tweetWeightedReservoirSampling(tweets_df, myWeights,20)\n",
    "print(\"--- %s seconds ---\" % (time.time() - start_time))\n",
    "print(ourWTweets) "
   ]
  },
  {
   "cell_type": "markdown",
   "metadata": {},
   "source": [
    "## Further Resources\n",
    "This tutorial highlighted a tad of the potential of reservoir sampling. It started with the naive approach to a simple problem. Then, it introduced the algorithm, whcih was finally applied to a real life example of randomly selectingtweets to survey.\n",
    "\n",
    "For increased complexity and further information, visit one of the following:\n",
    "1. https://gregable.com/2007/10/reservoir-sampling.html\n",
    "2. https://www.cs.umd.edu/~samir/498/vitter.pdf\n",
    "3. http://dimacs.rutgers.edu/~graham/pubs/papers/fwddecay.pdf\n",
    "4. http://erikerlandson.github.io/blog/2015/11/20/very-fast-reservoir-sampling/\n",
    "\n",
    "Reading about the Fisher-Yates shuffle will be beneficial in understanding a variation of reservoir sampling in a practical example of shuffling and picking cards from a deck of cards. See here: https://bost.ocks.org/mike/shuffle/"
   ]
  }
 ],
 "metadata": {
  "kernelspec": {
   "display_name": "Python 2",
   "language": "python",
   "name": "python2"
  },
  "language_info": {
   "codemirror_mode": {
    "name": "ipython",
    "version": 2
   },
   "file_extension": ".py",
   "mimetype": "text/x-python",
   "name": "python",
   "nbconvert_exporter": "python",
   "pygments_lexer": "ipython2",
   "version": "2.7.12"
  }
 },
 "nbformat": 4,
 "nbformat_minor": 0
}
