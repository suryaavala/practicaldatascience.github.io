{
 "cells": [
  {
   "cell_type": "markdown",
   "metadata": {},
   "source": [
    "# Introduction"
   ]
  },
  {
   "cell_type": "markdown",
   "metadata": {},
   "source": [
    "In this tutorial we will take a brief look at clustering and it's importance and then delve into one specific type: Density based clustering. We will look at its core concepts, apply it to some examples and see it's performance when compared to K-means clustering - a standard clustering algorithm. We will also attempt to qualitatively gauge when density based clustering algorithms can perform better than others."
   ]
  },
  {
   "cell_type": "markdown",
   "metadata": {},
   "source": [
    "## Content"
   ]
  },
  {
   "cell_type": "markdown",
   "metadata": {},
   "source": [
    "[1. Motivation for Clustering algorithms](#clustering)  \n",
    "[2. Understanding DBSCAN](#dbscan)  \n",
    "[3. Comparison of DBSCAN & K-Means using blobs](#blobs)   \n",
    "[4. Comparison of DBSCAN & K-Means using moons](#moons)  \n",
    "[5. Conclusion](#conclusion)  \n",
    "[6. References](#reference)\n"
   ]
  },
  {
   "cell_type": "markdown",
   "metadata": {},
   "source": [
    "<a id='clustering'></a>"
   ]
  },
  {
   "cell_type": "markdown",
   "metadata": {},
   "source": [
    "## 1. Motivation for Clustering algorithms:"
   ]
  },
  {
   "cell_type": "markdown",
   "metadata": {},
   "source": [
    "In data science, especially machine learning, we come across two primary types of problems: Classification and Regression. A third type of problem commonly encuontered in this domain is known as **Clustering**. In this type of problem, the goal is to group data points that share similar attributes into one cluster. For this purpose we use *'clustering algorithms'* that assess the similarity of data points and ascribe or label them to different groups or *'clusters'* \n",
    "\n",
    "One may be tempted to think that Clustering is infact just a multi-label classification problem but there are subtle differences. Generally in a classification problem the number of classes or labels are known beforehand. This may not always be the case in clustering. One may begin with a set of data points with a hope to understand the groups involved and this is where clustering algorithms are useful."
   ]
  },
  {
   "cell_type": "markdown",
   "metadata": {},
   "source": [
    "Let us understand the differences between density based clustering and the more conventional clustering algorithms like K-means by applying these algorithms on some generated data."
   ]
  },
  {
   "cell_type": "code",
   "execution_count": 62,
   "metadata": {
    "collapsed": false
   },
   "outputs": [
    {
     "name": "stdout",
     "output_type": "stream",
     "text": [
      "Populating the interactive namespace from numpy and matplotlib\n"
     ]
    },
    {
     "name": "stderr",
     "output_type": "stream",
     "text": [
      "WARNING: pylab import has clobbered these variables: ['colors']\n",
      "`%matplotlib` prevents importing * from pylab and numpy\n"
     ]
    }
   ],
   "source": [
    "import numpy as np\n",
    "import pandas as pd\n",
    "from scipy.spatial.distance import cdist\n",
    "from sklearn.cluster import DBSCAN\n",
    "from sklearn.cluster import KMeans\n",
    "from sklearn.datasets import make_moons\n",
    "from sklearn.datasets.samples_generator import make_blobs\n",
    "from sklearn.preprocessing import StandardScaler\n",
    "import matplotlib.pyplot as plt\n",
    "import seaborn as sns\n",
    "%pylab inline\n",
    "#sns.set()\n",
    "#plt.xkcd() To see funkier version of the plots below uncomment the command in this line, delete this comment and run the notebook again!!!\n"
   ]
  },
  {
   "cell_type": "markdown",
   "metadata": {},
   "source": [
    "Apart from the regular numpy, pandas and matplotlib modules, we also need to load two functions from the datasets library of sklearn module. These are make_blobs and make_moons. As the names suggest, these functions help make datasets that resemble blobs and moons respectively while giving the user control over the number of sample points, whether to make the data noisy or noise free and other relevant configurations."
   ]
  },
  {
   "cell_type": "markdown",
   "metadata": {},
   "source": [
    "For the clustering algorithms we specifically use the KMeans and DBSCAN algorithms from the \"cluster\" library of the Sklearn module. Some of the other modules are for convenience of data manipuation and seaborn is specifically for rendering of better plot images."
   ]
  },
  {
   "cell_type": "markdown",
   "metadata": {},
   "source": [
    "<a id='dbscan'></a>"
   ]
  },
  {
   "cell_type": "markdown",
   "metadata": {},
   "source": [
    "## 2. Understanding DBSCAN:"
   ]
  },
  {
   "cell_type": "markdown",
   "metadata": {},
   "source": [
    "To begin, we will first walk try to understand how the DBSCAN algorithm works. But before we dive in, we will first learn the concept of epsilon neighborhood or e-neighborhood."
   ]
  },
  {
   "cell_type": "markdown",
   "metadata": {},
   "source": [
    "For a given point p in a set of datapoints, the e-neighborhood of p is defined as the number of datapoints that lie within epsilon distance of that point (epsilon > 0). Let us see what this looks like."
   ]
  },
  {
   "cell_type": "markdown",
   "metadata": {},
   "source": [
    "I'm generating a bounded random dataset of 100 points along with a central point. I've then written a function to generate a boundary of epsilon distance around the test point. In a 2D space this is a circle, in 3D it would be a sphere. For an N dimensional data set this would be an N-sphere. "
   ]
  },
  {
   "cell_type": "code",
   "execution_count": 63,
   "metadata": {
    "collapsed": true
   },
   "outputs": [],
   "source": [
    "test_point = np.array([3,2])\n",
    "datapoints = 1.5*(np.random.rand(100,2)-0.5) + test_point"
   ]
  },
  {
   "cell_type": "code",
   "execution_count": 64,
   "metadata": {
    "collapsed": true
   },
   "outputs": [],
   "source": [
    "def create_boundary(t_point, epsilon = 0.5):\n",
    "    surround = np.linspace(0, 2*np.pi, 100)\n",
    "    neighborhood = []\n",
    "    data_x, data_y = t_point\n",
    "    #Create a circle of radius epsilon\n",
    "    for direction in surround:\n",
    "        pos_x = data_x + epsilon*np.cos(direction)\n",
    "        pos_y = data_y + epsilon*np.sin(direction)\n",
    "        neighborhood.append((pos_x,pos_y))\n",
    "    return neighborhood"
   ]
  },
  {
   "cell_type": "markdown",
   "metadata": {},
   "source": [
    "<a id='funexercise'></a>"
   ]
  },
  {
   "cell_type": "code",
   "execution_count": 65,
   "metadata": {
    "collapsed": true
   },
   "outputs": [],
   "source": [
    "neighborhood = create_boundary(test_point, epsilon = 0.30)\n",
    "X,Y = zip(*neighborhood)\n",
    "X,Y = np.array(X),np.array(Y)\n",
    "count = len(filter(lambda x: x < 0.15, cdist(datapoints, test_point.reshape(1,2))))"
   ]
  },
  {
   "cell_type": "markdown",
   "metadata": {},
   "source": [
    "Let's plot and see how the e-neighborhood space around our test point look like."
   ]
  },
  {
   "cell_type": "code",
   "execution_count": 66,
   "metadata": {
    "collapsed": false
   },
   "outputs": [
    {
     "data": {
      "text/plain": [
       "<matplotlib.text.Text at 0x105c9320>"
      ]
     },
     "execution_count": 66,
     "metadata": {},
     "output_type": "execute_result"
    },
    {
     "data": {
      "image/png": "[encoded data removed]",
      "text/plain": [
       "<matplotlib.figure.Figure at 0xf5aae80>"
      ]
     },
     "metadata": {},
     "output_type": "display_data"
    }
   ],
   "source": [
    "plt.fill_between(X, Y, alpha = 0.15, color = 'b', label = \"Neighborhood\")\n",
    "plt.scatter(datapoints[:,0], datapoints[:,1], s = 30, color = 'g',label = \"Datapoints\")\n",
    "plt.scatter(test_point[0],test_point[1], s = 35, label = \"Point p\")\n",
    "plt.xlim(2,4)\n",
    "plt.ylim(1,3)\n",
    "plt.legend(loc = 2)\n",
    "plt.title(\"Density-Reachable with radius 0.15\")"
   ]
  },
  {
   "cell_type": "markdown",
   "metadata": {},
   "source": [
    "#### Fun exercise"
   ]
  },
  {
   "cell_type": "markdown",
   "metadata": {},
   "source": [
    "Try different sizes of epsilon and see the change in the e-neighborhood of point p. Change the value of epsilon [here](#funexercise) and re-run the jupyter cells upto the diagram above. Count the number of points in the blue shaded area to find out the e-neighborhood. Do you realize something?"
   ]
  },
  {
   "cell_type": "markdown",
   "metadata": {},
   "source": [
    "Lesson: It is possible that by changing epsilon by a small value, you get a large or small change in e-neighborhood value. This totally depends on the density and distribution of the dataset.\n",
    "\n",
    "The DBSCAN algorithm takes advantage of this very density distribution to cluster together the points that have similar densities."
   ]
  },
  {
   "cell_type": "markdown",
   "metadata": {},
   "source": [
    "The DBCAN algorithm takes two input, epsilon(e) and minimum points(m). Based on these two inputs, the algorithm creates three types of points - Core points, Border points and outliers.\n",
    "\n",
    "Core points: Points which have atleast m points in its e-neighborhood  \n",
    "Boundary points: Points which have less then m points in its e-neighborhood  \n",
    "Outliers: All other points"
   ]
  },
  {
   "cell_type": "markdown",
   "metadata": {},
   "source": [
    "#### Algorithm:  \n",
    "1. Start by selecting a random point that has not been assigned to a label. Calculate its e-neighborhood to find out if it’s a core point. If yes, then start clustering around this point. If no, then label this point as an outlier.\n",
    "\n",
    "2. The moment we find a core point and therefore a cluster, add all directly-reachable points to the cluster. Use the same process on each of the other points in the cluster to find all density-reachable points and add them to the cluster as well. If you come across an outlier during this step, it means this is a border point. Change it's status to reflect the same.\n",
    "\n",
    "3. Repeat steps 1 & 2 until all points are either assigned a label or designated as an outlier."
   ]
  },
  {
   "cell_type": "markdown",
   "metadata": {
    "collapsed": true
   },
   "source": [
    "<a id='blobs'></a>"
   ]
  },
  {
   "cell_type": "markdown",
   "metadata": {},
   "source": [
    "## 3. Comparison of DBSCAN & K-Means using blobs"
   ]
  },
  {
   "cell_type": "markdown",
   "metadata": {},
   "source": [
    "The **make_blobs** function is part of the datasets library in the Sklearn module to generate globular clusters of data. The website defines this function as \"generating isotropic gaussian blobs for clustering\". To generate these, we need to pass values into the function parameters which include number of datapoints generated, number of input features for each datapoint, number of cluster centres and their standard deviations as well as possible upper and lower bound on the occurence of these cluster centers.\n",
    "\n",
    "The output of the make_blobs function is the data points (n_samples,n_features) and their respective labels conveying cluster membership."
   ]
  },
  {
   "cell_type": "markdown",
   "metadata": {},
   "source": [
    "In the cell below, we've defined 3 centres (1.5, 1.5), (-1.5, -1.5), (1.5, -1.5) and then called the make_blobs function with 1200 sample points and a standard deviation of 0.5\n",
    "\n",
    "Before we apply DBSCAN and KMeans on this data we are going to be doing one additional step on the data. For this we use the StandardScaler function from the preprocessing library from the Sklearn module. This function simply transforms the data by subtracting the mean from each feature and scaling to unit variance."
   ]
  },
  {
   "cell_type": "code",
   "execution_count": 67,
   "metadata": {
    "collapsed": true
   },
   "outputs": [],
   "source": [
    "centers = [[1.5, 1.5], [-1.5, -1.5], [1.5, -1.5]]\n",
    "blob_datapoints, blob_labels = make_blobs(n_samples=1200, centers=centers, cluster_std=0.5,random_state=0)\n",
    "blob_datapoints = StandardScaler().fit_transform(blob_datapoints)"
   ]
  },
  {
   "cell_type": "markdown",
   "metadata": {},
   "source": [
    "In the cell below we are creating an object of class DBSCAN with a epsilon value of 0.3 and min_samples of 10. We then extract the labels and define the number of clusters based on the same."
   ]
  },
  {
   "cell_type": "code",
   "execution_count": 68,
   "metadata": {
    "collapsed": true
   },
   "outputs": [],
   "source": [
    "db_object = DBSCAN(eps=0.3, min_samples=10).fit(blob_datapoints)\n",
    "core_mask = np.zeros_like(db_object.labels_, dtype=bool)\n",
    "core_mask[db_object.core_sample_indices_] = True\n",
    "blob_labels = db_object.labels_\n",
    "\n",
    "# Number of clusters in labels, ignoring noise if present.\n",
    "n_clusters_ = len(set(blob_labels)) - (1 if -1 in blob_labels else 0)"
   ]
  },
  {
   "cell_type": "code",
   "execution_count": 69,
   "metadata": {
    "collapsed": false
   },
   "outputs": [
    {
     "data": {
      "image/png": "[encoded data removed]",
      "text/plain": [
       "<matplotlib.figure.Figure at 0x10516240>"
      ]
     },
     "metadata": {},
     "output_type": "display_data"
    }
   ],
   "source": [
    "labels_unique = set(blob_labels)\n",
    "colors = plt.cm.Spectral(np.linspace(0, 1, len(labels_unique)))\n",
    "for m, col in zip(labels_unique, colors):\n",
    "    if m == -1:\n",
    "     \n",
    "        col = 'k'\n",
    "\n",
    "    c_mask = (blob_labels == m)\n",
    "\n",
    "    xy =blob_datapoints[c_mask & core_mask]\n",
    "    plt.plot(xy[:, 0], xy[:, 1], 'o', markerfacecolor=col,\n",
    "             markeredgecolor='k', markersize=12)\n",
    "\n",
    "    xy = blob_datapoints[c_mask & ~core_mask]\n",
    "    plt.plot(xy[:, 0], xy[:, 1], 'o', markerfacecolor=col,\n",
    "             markeredgecolor='k', markersize=6)\n",
    "\n",
    "plt.title('DBSCAN clustering on blobs - Estimated number of clusters: %d' % n_clusters_)\n",
    "plt.show()"
   ]
  },
  {
   "cell_type": "code",
   "execution_count": 70,
   "metadata": {
    "collapsed": true
   },
   "outputs": [],
   "source": [
    "km_object = KMeans(n_clusters = 3).fit(blob_datapoints)\n",
    "labels = km_object.labels_\n",
    "labels_unique = np.unique(labels)\n",
    "colors = plt.cm.Spectral(np.linspace(0, 1, len(labels_unique)))"
   ]
  },
  {
   "cell_type": "code",
   "execution_count": 71,
   "metadata": {
    "collapsed": false
   },
   "outputs": [
    {
     "data": {
      "text/plain": [
       "<matplotlib.text.Text at 0x10a78c88>"
      ]
     },
     "execution_count": 71,
     "metadata": {},
     "output_type": "execute_result"
    },
    {
     "data": {
      "image/png": "[encoded data removed]",
      "text/plain": [
       "<matplotlib.figure.Figure at 0x105221d0>"
      ]
     },
     "metadata": {},
     "output_type": "display_data"
    }
   ],
   "source": [
    "for (label, color) in zip(labels_unique, colors):\n",
    "    class_member_mask = (labels == label)\n",
    "    xy = blob_datapoints[class_member_mask & core_mask]\n",
    "    plt.plot(xy[:,0],xy[:,1], 'o', markerfacecolor = color, markersize = 10)\n",
    "    \n",
    "    xy2 = blob_datapoints[class_member_mask & ~core_mask]\n",
    "    plt.plot(xy2[:,0],xy2[:,1], 'o', markerfacecolor = color, markersize = 5)\n",
    "plt.title(\"K-Means clustering on blobs - Number of clusters: %d\" % n_clusters_)"
   ]
  },
  {
   "cell_type": "markdown",
   "metadata": {},
   "source": [
    "<a id='moons'></a>"
   ]
  },
  {
   "cell_type": "markdown",
   "metadata": {},
   "source": [
    "## 4. Comparison of DBSCAN & K-Means using moons"
   ]
  },
  {
   "cell_type": "markdown",
   "metadata": {},
   "source": [
    "The make_moons function takes in number of samples as input and generates data points that make a moon like shape in a 2-D coordinate space.Specifically it generates as the website defines it \"two interleaving half circles\". The function also outputs labels for each data point such that all points from a particular half moon will have the same label. We are using such data points to gauge the effectiveness of our chosen clustering algorithms in correctly labelling the data. "
   ]
  },
  {
   "cell_type": "code",
   "execution_count": 72,
   "metadata": {
    "collapsed": true
   },
   "outputs": [],
   "source": [
    "moons_datapoints, moons_labels = make_moons(n_samples = 2000)"
   ]
  },
  {
   "cell_type": "markdown",
   "metadata": {},
   "source": [
    "The data generated by the make_moons algorithm is rather neatly structured (perfect half moons) and does not represent data in the real world. To make this exercise slightly more realistic, we will add some noise to the data points that we generated in the cell above. This will also help reveal some aspects about DBSCAN which will be discussed later."
   ]
  },
  {
   "cell_type": "code",
   "execution_count": 73,
   "metadata": {
    "collapsed": true
   },
   "outputs": [],
   "source": [
    "def add_noise(X,y, noise_level = 0.01):\n",
    "    #The number of points we wish to make noisy\n",
    "    amt_noise = int(noise_level*len(y))\n",
    "    #Pick amt_noise points at random\n",
    "    idx = np.random.choice(len(X), size = amt_noise)\n",
    "    #Add random noise to these selected points\n",
    "    noise = np.random.random((amt_noise, 2) ) -0.5\n",
    "    X[idx,:] += noise\n",
    "    return X"
   ]
  },
  {
   "cell_type": "markdown",
   "metadata": {},
   "source": [
    "Now that we have defined our noise function we can apply it to the generated datapoints and finally visualize how this data looks like with its respective labels."
   ]
  },
  {
   "cell_type": "code",
   "execution_count": 74,
   "metadata": {
    "collapsed": false
   },
   "outputs": [
    {
     "data": {
      "text/plain": [
       "<matplotlib.text.Text at 0x10c82be0>"
      ]
     },
     "execution_count": 74,
     "metadata": {},
     "output_type": "execute_result"
    },
    {
     "data": {
      "image/png": "[encoded data removed]",
      "text/plain": [
       "<matplotlib.figure.Figure at 0xd003438>"
      ]
     },
     "metadata": {},
     "output_type": "display_data"
    }
   ],
   "source": [
    "moons_noisydata = add_noise(moons_datapoints, moons_labels)\n",
    "plt.scatter(moons_noisydata[:,0], moons_noisydata[:,1], c = moons_labels)\n",
    "plt.title(\"Generated data from half moons\")"
   ]
  },
  {
   "cell_type": "markdown",
   "metadata": {},
   "source": [
    "Now that we have our datapoints and associated labels (white and black), we can try DBSCAN & KMeans and see how each of these algorithms classify the given datapoints. In the cell below, I've created a object of class DBSCAN and given it's configuration parameters (epsilon and min_samples) some predefined values. Further, we fit the data we have to this DBSCAN object and extract the resultant labels and core samples."
   ]
  },
  {
   "cell_type": "code",
   "execution_count": 75,
   "metadata": {
    "collapsed": true
   },
   "outputs": [],
   "source": [
    "db_object = DBSCAN(eps = 0.05, min_samples = 10).fit(moons_noisydata)\n",
    "#Get the cluster labels\n",
    "labels = db_object.labels_\n",
    "#Identify the core and border points\n",
    "core_samples = np.zeros_like(labels, dtype = bool)\n",
    "core_samples[db_object.core_sample_indices_] = True"
   ]
  },
  {
   "cell_type": "markdown",
   "metadata": {},
   "source": [
    "Next we find the unique set of labels and give them colors which will help us identify and visualize how the algorithm has clustered the given set of datapoints. When plotting, we plot the two cluster labels as well as the outlier's which do not belong to any particular labelled category. Note that in this case the red points are the outliers."
   ]
  },
  {
   "cell_type": "code",
   "execution_count": 76,
   "metadata": {
    "collapsed": true
   },
   "outputs": [],
   "source": [
    "labels_unique = np.unique(labels)\n",
    "colors = [\"red\", \"gold\", \"silver\"]"
   ]
  },
  {
   "cell_type": "code",
   "execution_count": 77,
   "metadata": {
    "collapsed": false
   },
   "outputs": [
    {
     "data": {
      "text/plain": [
       "<matplotlib.text.Text at 0x1099f588>"
      ]
     },
     "execution_count": 77,
     "metadata": {},
     "output_type": "execute_result"
    },
    {
     "data": {
      "image/png": "[encoded data removed]",
      "text/plain": [
       "<matplotlib.figure.Figure at 0xee0c630>"
      ]
     },
     "metadata": {},
     "output_type": "display_data"
    }
   ],
   "source": [
    "for (label, color) in zip(labels_unique, colors):\n",
    "    class_member_mask = (labels == label)\n",
    "    xy = moons_noisydata[class_member_mask & core_samples]\n",
    "    plt.plot(xy[:,0],xy[:,1], 'o', markerfacecolor = color, markersize = 10)\n",
    "    \n",
    "    xy2 = moons_noisydata[class_member_mask & ~core_samples]\n",
    "    plt.plot(xy2[:,0],xy2[:,1], 'o', markerfacecolor = color, markersize = 5)\n",
    "plt.title(\"DBSCAN with two clusters on Half Moons\")"
   ]
  },
  {
   "cell_type": "markdown",
   "metadata": {},
   "source": [
    "Just like we did for DBCAN, we repeat the procedure with K-Means to see the clustering result. Again, we create a object, this time of KMeans class. An important distinction in the way the two algorithms are setup : In DBSCAN we did not need to specify the number of clusters to be formed. The principle of the algorithm is such that based on density and epsilon neighborhood concept, it figures out the optimal number of clusters in the data, whereas in KMeans one is explicitly required to configure the desired number of clusters they want. In such a case, one should either know before hand how many clusters are supposed to exist in the dataset or attempt to run the algorithm multiple times with different number of cluster configuration values and based on context determine which one is the most feasible answer.  \n",
    "In the example below, since we are aware there are two labels, we configure the n_clusters parameter to be equal to 2. After that, just like the previous case we extract the label after the algorithm has been fitted to the given data. We find the set of unique label, assign them colors and plot the datapoints in the color of their respective label as assigned by the algorithm."
   ]
  },
  {
   "cell_type": "code",
   "execution_count": 78,
   "metadata": {
    "collapsed": true
   },
   "outputs": [],
   "source": [
    "km_object = KMeans(n_clusters = 2).fit(moons_noisydata)\n",
    "labels = km_object.labels_\n",
    "labels_unique = np.unique(labels)\n",
    "colors = [\"gold\", \"silver\"]"
   ]
  },
  {
   "cell_type": "code",
   "execution_count": 79,
   "metadata": {
    "collapsed": false
   },
   "outputs": [
    {
     "data": {
      "text/plain": [
       "<matplotlib.text.Text at 0x10eae978>"
      ]
     },
     "execution_count": 79,
     "metadata": {},
     "output_type": "execute_result"
    },
    {
     "data": {
      "image/png": "[encoded data removed]",
      "text/plain": [
       "<matplotlib.figure.Figure at 0x10814ba8>"
      ]
     },
     "metadata": {},
     "output_type": "display_data"
    }
   ],
   "source": [
    "for (label, color) in zip(labels_unique, colors):\n",
    "    class_member_mask = (labels == label)\n",
    "    xy = moons_noisydata[class_member_mask & core_samples]\n",
    "    plt.plot(xy[:,0],xy[:,1], 'o', markerfacecolor = color, markersize = 10)\n",
    "    \n",
    "    xy2 = moons_noisydata[class_member_mask & ~core_samples]\n",
    "    plt.plot(xy2[:,0],xy2[:,1], 'o', markerfacecolor = color, markersize = 5)\n",
    "plt.title(\"K-Means with two clusters on Half Moons\")"
   ]
  },
  {
   "cell_type": "markdown",
   "metadata": {},
   "source": [
    "<a id='conclusion'></a>"
   ]
  },
  {
   "cell_type": "markdown",
   "metadata": {},
   "source": [
    "## 5. Conclusion:"
   ]
  },
  {
   "cell_type": "markdown",
   "metadata": {},
   "source": [
    "We can clearly see the difference in the outputs of the two algorithms on the two datasets. KMean's is a clustering algorithm that can only give globular or spherical clusters (circular in a 2-D sense). Therefore the hlaf moons dataset has been segragated based on distance from the final centroids selected and clearly no consideration has been given to the shape that the datapoints are creating. Conversely in DBSCAN, owing to the density and e-neighborhood relationship, the data points in each half moon get clustered or categorized with the same label.\n",
    "\n",
    "Another difference we see in the way the algorithms outputs have played out is that DBSCAN does not necessarily put all data points in a cluster. If a point does not qualify the e-neighborhood- core or boundary point criteria it can be considered an outlier whereas KMeans necessarily will put all data points in one of the given number of clusters. This can clearly be seen in the blobs dataset where DBSCAN tags some of the points far away from all clusters as outliers. Also in the half moons dataset we see that even the noisy datapoints have been categorized by K-Means into one label or another whereas DBSCAN simply labelled them as outliers (in red).\n",
    "\n",
    "In conclusion, we realize that DBSCAN utilizes the underlying density distribution for clustering and will work better in the datasets which have strong patterns. Additionally one need not define the number of clusters present as the algorithm will figure it out on its own. Lastly, DBSCAN does not necessarily classify all points into one or the other category and may create outliers and therefore can also be used for \"anomaly detection\"."
   ]
  },
  {
   "cell_type": "markdown",
   "metadata": {},
   "source": [
    "<a id='reference'></a>"
   ]
  },
  {
   "cell_type": "markdown",
   "metadata": {},
   "source": [
    "## 6. References:"
   ]
  },
  {
   "cell_type": "markdown",
   "metadata": {},
   "source": [
    "* Harris, Naftali. \"Visualizing DBSCAN Clustering.\" https://www.naftaliharris.com . N.p., n.d. Web. 31 Oct. 2016.\n",
    "\n",
    "* Gao, Jing. \"Clustering: Density Based Methods.\" (n.d.): n. pag. Web. <http://www.cse.buffalo.edu/~jing/cse601/fa12/materials/clustering_density.pdf>.\n",
    "\n",
    "* \"Demo of DBSCAN Clustering Algorithm.\" Scikit Learn. N.p., n.d. Web. 31 Oct. 2016. <http://scikit-learn.org/stable/auto_examples/cluster/plot_dbscan.html>."
   ]
  }
 ],
 "metadata": {
  "anaconda-cloud": {},
  "kernelspec": {
   "display_name": "Python [snakes]",
   "language": "python",
   "name": "Python [snakes]"
  },
  "language_info": {
   "codemirror_mode": {
    "name": "ipython",
    "version": 2
   },
   "file_extension": ".py",
   "mimetype": "text/x-python",
   "name": "python",
   "nbconvert_exporter": "python",
   "pygments_lexer": "ipython2",
   "version": "2.7.12"
  }
 },
 "nbformat": 4,
 "nbformat_minor": 0
}
