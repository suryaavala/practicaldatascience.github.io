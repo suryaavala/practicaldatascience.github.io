{
 "cells": [
  {
   "cell_type": "markdown",
   "metadata": {},
   "source": [
    "# ElementTree XML Tutorial\n",
    "\n",
    "\n",
    "\n",
    "Extensible Markup Language (XML) Files are inherently hierarchial data files. The most natural way to represent this data is with a tree. This tutorial will introduce the basics on reading/writing to XML files using their respective tree representation. \n",
    "\n",
    "Before we begin the tutorial, some background information on XML files should be noted. XML is a markup language that establishes guidelines for encoding documents in a format that is both human-readable and machine-readable. XML is similar to HTML in that they both represent web data but there is a key difference. HTML was designed to display data while XML was designed to describe the content.\n",
    "\n",
    "Chugging along... The ElementTree library is a standard python library so only one line of code is needed to import the library. We will also import the minidom library to help visualize our XML trees. \n",
    "\n",
    "We will first go over how to create an XML file from scratch and then we will parse a pre-existing XML file using what learned about the library. There will also be instructions later on how to load the data needed for the tutorial."
   ]
  },
  {
   "cell_type": "code",
   "execution_count": 2,
   "metadata": {
    "collapsed": true
   },
   "outputs": [],
   "source": [
    "import xml.etree.ElementTree as ET\n",
    "from xml.dom import minidom"
   ]
  },
  {
   "cell_type": "markdown",
   "metadata": {},
   "source": [
    "# Generating an XML File\n",
    "\n",
    "Suppose now we want to generate an XML file about popular fighter characters. The root of the tree will be Fighters and you can then visualize this in the form of a tree. The Fighters tree has subelements or nodes representing individual characters while these characters then have leaf nodes representing their stats. There is no limitation to how large a tree can be but we'll keep it to six characters with two stats each just for our example.We'll also have some fun and see who the strongest fighter is! So visually there are three layers to the tree: a root node, fighters layer, stats layer. Sort of like below..\n",
    "\n",
    "                    Fighters\n",
    "    Saitama  Popeye  Cyborg  Chun-Li  Snake\n",
    "    HP ATT   HP ATT  HP ATT  HP ATT   HP ATT"
   ]
  },
  {
   "cell_type": "code",
   "execution_count": 132,
   "metadata": {
    "collapsed": false
   },
   "outputs": [
    {
     "name": "stdout",
     "output_type": "stream",
     "text": [
      "<?xml version=\"1.0\" ?>\n",
      "<Fighters>\n",
      "  <Saitama>\n",
      "    <Health>1000</Health>\n",
      "    <Attack>9999</Attack>\n",
      "  </Saitama>\n",
      "  <Popeye>\n",
      "    <Health>100</Health>\n",
      "    <Attack>2</Attack>\n",
      "  </Popeye>\n",
      "  <Cyborg>\n",
      "    <Health>10</Health>\n",
      "    <Attack>10</Attack>\n",
      "  </Cyborg>\n",
      "  <Chun-Li>\n",
      "    <Health>100</Health>\n",
      "    <Attack>100</Attack>\n",
      "  </Chun-Li>\n",
      "  <Snake>\n",
      "    <Health>2</Health>\n",
      "    <Attack>100</Attack>\n",
      "  </Snake>\n",
      "  <Newb>\n",
      "    <Health>1</Health>\n",
      "    <Attack>1</Attack>\n",
      "  </Newb>\n",
      "</Fighters>\n",
      "\n"
     ]
    }
   ],
   "source": [
    "#Establish the root of the tree\n",
    "root = ET.Element('Fighters')\n",
    "\n",
    "#Create a subelement for each fighter and set the stats\n",
    "OPM = ET.SubElement(root, 'Saitama')\n",
    "opmHealth = ET.SubElement(OPM, \"Health\")\n",
    "opmHealth.text = \"1000\"\n",
    "opmAttack = ET.SubElement(OPM, \"Attack\")\n",
    "opmAttack.text = \"9999\"\n",
    "\n",
    "pe = ET.SubElement(root, \"Popeye\")\n",
    "peHealth = ET.SubElement(pe, \"Health\")\n",
    "peHealth.text = \"100\"\n",
    "peAttack = ET.SubElement(pe, \"Attack\")\n",
    "peAttack.text = \"2\"\n",
    "\n",
    "cb = ET.SubElement(root, \"Cyborg\")\n",
    "cbHealth = ET.SubElement(cb, \"Health\")\n",
    "cbHealth.text = \"10\"\n",
    "cbAttack = ET.SubElement(cb, \"Attack\")\n",
    "cbAttack.text = \"10\"\n",
    "\n",
    "chun = ET.SubElement(root, \"Chun-Li\")\n",
    "chunHealth = ET.SubElement(chun, \"Health\")\n",
    "chunHealth.text = \"100\"\n",
    "chunAttack = ET.SubElement(chun, \"Attack\")\n",
    "chunAttack.text = \"100\"\n",
    "\n",
    "sk = ET.SubElement(root, \"Snake\")\n",
    "skHealth = ET.SubElement(sk, \"Health\")\n",
    "skHealth.text = \"2\"\n",
    "skAttack = ET.SubElement(sk, \"Attack\")\n",
    "skAttack.text = \"100\"\n",
    "\n",
    "noob = ET.SubElement(root, \"Newb\")\n",
    "noobHealth = ET.SubElement(noob, \"Health\")\n",
    "noobHealth.text = \"1\"\n",
    "noobAttack = ET.SubElement(noob, \"Attack\")\n",
    "noobAttack.text = \"1\"\n",
    "\n",
    "#This will be used to help visualize the tree\n",
    "viz = ET.tostring(root, 'utf-8')\n",
    "parsed = minidom.parseString(viz)\n",
    "print parsed.toprettyxml(indent=\"  \")\n",
    "\n"
   ]
  },
  {
   "cell_type": "markdown",
   "metadata": {},
   "source": [
    "As you can see from the code above and the output, the Element XML Tree is just represented as a connected graph of elements and subelements. In the code we created subelements of respective characters under the root element \"Fighter\" and then further created more subelements of stat values for each fighter. For those familar with some markup language already, you'll notice that the elements in our tree are just tags that we have defined. \n",
    "\n",
    "Below we'll now use this new tree we made and parse it iteratively in some simple for loops. The root of the tree has sub elements as seen above so we'll just print the children and their stats."
   ]
  },
  {
   "cell_type": "code",
   "execution_count": 133,
   "metadata": {
    "collapsed": false
   },
   "outputs": [
    {
     "name": "stdout",
     "output_type": "stream",
     "text": [
      "Root of the tree is: Fighters\n",
      "Saitama\n",
      "1000 9999\n",
      "Popeye\n",
      "100 2\n",
      "Cyborg\n",
      "10 10\n",
      "Chun-Li\n",
      "100 100\n",
      "Snake\n",
      "2 100\n",
      "Newb\n",
      "1 1\n",
      "Strongest Fighter is... Saitama\n",
      "His HP is a whopping... 1000\n",
      "His Attack is an astounding... 9999\n"
     ]
    }
   ],
   "source": [
    "print \"Root of the tree is: \" + root.tag\n",
    "\n",
    "#Accessing the various nodes of the Fighters tree\n",
    "maxAggScore = 0\n",
    "for child in root:\n",
    "    print child.tag\n",
    "    HP =  child.findtext('Health')\n",
    "    Att = child.findtext('Attack')\n",
    "    print HP, Att\n",
    "    score = int(HP) + int(Att)\n",
    "    \n",
    "    #Let's use our new parsing information to determine who the the strongest fighter is!\n",
    "    if score > maxAggScore:\n",
    "        maxAggScore = score\n",
    "        name = child.tag\n",
    "        strongestHP = HP\n",
    "        strongestAtt = Att\n",
    "        \n",
    "\n",
    "print \"Strongest Fighter is... \" + name \n",
    "print \"His HP is a whopping... \" + strongestHP\n",
    "print \"His Attack is an astounding... \" + strongestAtt"
   ]
  },
  {
   "cell_type": "markdown",
   "metadata": {},
   "source": [
    "# Introducing Namespaces\n",
    "\n",
    "\n",
    "Now that we are a little more familar with the basic structure of an XML Tree, we will introduce a feature called namespaces. Namespaces are very useful in representing data in both human-readable and machine-readable formats as we can have a certain namespace with various fields within. Namespaces are essentially categories that contain multiple subobjects. In the example below we will construct an XML Tree of Animals. The Animals tree will then use namespace to construct different kinds of animals and certain qualities about them. "
   ]
  },
  {
   "cell_type": "code",
   "execution_count": 134,
   "metadata": {
    "collapsed": false
   },
   "outputs": [
    {
     "name": "stdout",
     "output_type": "stream",
     "text": [
      "<?xml version=\"1.0\" ?>\n",
      "<Animals>\n",
      "  <animal id=\"Penguin\">\n",
      "    <location>Antarctica</location>\n",
      "    <food id=\"fish\"/>\n",
      "  </animal>\n",
      "  <animal id=\"Koala\">\n",
      "    <location>Australia</location>\n",
      "    <food id=\"eucalyptus\"/>\n",
      "  </animal>\n",
      "  <animal id=\"Frog\">\n",
      "    <location>Swamp</location>\n",
      "    <food id=\"flies\"/>\n",
      "  </animal>\n",
      "  <animal id=\"Mouse\">\n",
      "    <location>Hole In Wall</location>\n",
      "    <food id=\"cheese\"/>\n",
      "  </animal>\n",
      "</Animals>\n",
      "\n"
     ]
    }
   ],
   "source": [
    "animals = ET.Element('Animals')\n",
    "\n",
    "#Setting the namespace ID for the animals\n",
    "a1 = ET.SubElement(animals, 'animal', id='Penguin')\n",
    "a2 = ET.SubElement(animals, 'animal', id='Koala')\n",
    "a3 = ET.SubElement(animals, 'animal', id='Frog')\n",
    "a4 = ET.SubElement(animals, 'animal', id='Mouse')\n",
    "\n",
    "#Initialize the location sub elements for each animal\n",
    "loc1 = ET.SubElement(a1, 'location')\n",
    "loc1.text = \"Antarctica\"\n",
    "loc2 = ET.SubElement(a2, 'location')\n",
    "loc2.text = \"Australia\"\n",
    "loc3 = ET.SubElement(a3, 'location')\n",
    "loc3.text = \"Swamp\"\n",
    "loc4 = ET.SubElement(a4, 'location')\n",
    "loc4.text = \"Hole In Wall\"\n",
    "\n",
    "#Set namespace ID for the respective food each animal eats\n",
    "food1 = ET.SubElement(a1, 'food', id='fish')\n",
    "food2 = ET.SubElement(a2, 'food', id='eucalyptus')\n",
    "food3 = ET.SubElement(a3, 'food', id='flies')\n",
    "food4 = ET.SubElement(a4, 'food', id='cheese')\n",
    "\n",
    "rough_string = ET.tostring(animals, 'utf-8')\n",
    "reparsed = minidom.parseString(rough_string)\n",
    "print reparsed.toprettyxml(indent=\"  \")"
   ]
  },
  {
   "cell_type": "markdown",
   "metadata": {},
   "source": [
    "# Parsing Namespace parameters\n",
    "\n",
    "Phenomenal! We have now generated an XML file using namespace parameters. We can now represent most webpages as a tree of values with id fields. However an important concept is now parsing these XML files. It's important to know how to use the ElementTree XML library to parse through the XML files and retrieve the data we want. The code below shows how given our previous example of the Animals Tree. We loop through every ID in that namespace. We can then get the actual name with the get command on 'id'. Location is not represented as a namespace so we just find the tag and return the text. Food is a namespace so we find the tag and call get on the 'id'.\n",
    "\n",
    "Penguin:\n",
    " --> Antarctica\n",
    " --> Fish\n",
    " \n",
    "Koala:\n",
    " --> Australia\n",
    " --> Eucalyptus\n",
    " \n",
    "Frog:\n",
    " --> Swamp\n",
    " --> Flies\n",
    "\n",
    "Mouse:\n",
    " --> Hole In Wall\n",
    " --> Cheese"
   ]
  },
  {
   "cell_type": "code",
   "execution_count": 135,
   "metadata": {
    "collapsed": false
   },
   "outputs": [
    {
     "name": "stdout",
     "output_type": "stream",
     "text": [
      "Penguin Antarctica fish\n",
      "Koala Australia eucalyptus\n",
      "Frog Swamp flies\n",
      "Mouse Hole In Wall cheese\n"
     ]
    }
   ],
   "source": [
    "for animal in animals.findall('animal'):\n",
    "    name = animal.get('id')\n",
    "    loc = animal.find('location').text\n",
    "    food = animal.find('food').get('id')\n",
    "    print name, loc, food"
   ]
  },
  {
   "cell_type": "markdown",
   "metadata": {},
   "source": [
    "# Altering the Element Tree\n",
    "\n",
    "It's also possible to find certain elements within a file and completely remove them. This can be useful if the file is large but we know a specific id to eliminate. In the example below I want to remove Saitama from the fighters tree and all aspects about him. I find the element in the root and just remove that in place. In the output it can be seen that Saitama is now gone. This find method is very useful. There may be moments where we don't know how large a file is or don't want to search the whole tree to delete a value. If we know the id of the value then we can just call find to retrieve it."
   ]
  },
  {
   "cell_type": "code",
   "execution_count": 98,
   "metadata": {
    "collapsed": false
   },
   "outputs": [
    {
     "name": "stdout",
     "output_type": "stream",
     "text": [
      "<?xml version=\"1.0\" ?>\n",
      "<Fighters>\n",
      "  <Popeye>\n",
      "    <Health>100</Health>\n",
      "    <Attack>2</Attack>\n",
      "  </Popeye>\n",
      "  <Cyborg>\n",
      "    <Health>10</Health>\n",
      "    <Attack>10</Attack>\n",
      "  </Cyborg>\n",
      "  <Chun-Li>\n",
      "    <Health>100</Health>\n",
      "    <Attack>100</Attack>\n",
      "  </Chun-Li>\n",
      "</Fighters>\n",
      "\n"
     ]
    }
   ],
   "source": [
    "elem = root.find('Saitama')\n",
    "root.remove(elem)\n",
    "\n",
    "viz = ET.tostring(root, 'utf-8')\n",
    "parsed = minidom.parseString(viz)\n",
    "print parsed.toprettyxml(indent=\"  \")"
   ]
  },
  {
   "cell_type": "markdown",
   "metadata": {},
   "source": [
    "# Generating XML Files\n",
    "\n",
    "We have now covered the Element Object (class xml.etree.ElementTree.Element) in the ElementTree XML API. I will now go on to discuss another important object within the API called the ElementTree Object (class xml.etree.ElementTree.ElementTree). The two may sound similar and you could be wondering why we need this new object but there is actually a very fine distinction between the two. The Element Object defined the element interface and implemented all the methods and attributes for a specific sub element within a tree. Sure we could still represent the root as an Element object which would then have subelements but this was technically not a tree yet. Accessing the root would just give us the top element and not the entire tree. \n",
    "\n",
    "The new ElementTree Object takes a root element and represents the entire element hierarchy. It also has added support for serialization to and from standard XML which I will demonstrate.\n"
   ]
  },
  {
   "cell_type": "code",
   "execution_count": 119,
   "metadata": {
    "collapsed": false
   },
   "outputs": [
    {
     "name": "stdout",
     "output_type": "stream",
     "text": [
      "<Element 'Animals' at 0x7fd93118b350>\n"
     ]
    }
   ],
   "source": [
    "tree = ET.ElementTree()\n",
    "tree._setroot(animals)\n",
    "print tree.getroot()\n",
    "\n",
    "tree.write(\"output.xml\")"
   ]
  },
  {
   "cell_type": "markdown",
   "metadata": {},
   "source": [
    "In the block of code above we generated a new instance of the ElementTree object called tree. After the first line we have only just initialized this instance so there are no elements yet. However we take our previous example of the animals tree we made and set that as the root. We can verify this by using the method 'getroot()' on tree which lists the root element. The best part about using the ElementTree object now is that we can write to a new xml file. Using that new tree element we created, we can save the hierarchy as the file 'output.xml' which you can check in your home directory."
   ]
  },
  {
   "cell_type": "markdown",
   "metadata": {},
   "source": [
    "# Parsing Real Data Set\n",
    "\n",
    "Great! We have covered a lot of basics such as how the tree hierarchy works, intializing our own trees, and creating new XML files. Now let's discuss a real world scenario of parsing a simple pre-existing XML file. We shall use a small example which incorporates most of what we discussed so far without being too convoluted. Now let's grab an XML file.\n",
    "\n",
    "We will be using data on L.A. zoo attendance for the past five years. Go to the link https://data.lacity.org/api/views/3gwn-arjr/rows.xml?accessType=DOWNLOAD then right click and save as an XML file, I called it 'LA.xml'.\n"
   ]
  },
  {
   "cell_type": "code",
   "execution_count": 100,
   "metadata": {
    "collapsed": false
   },
   "outputs": [
    {
     "name": "stdout",
     "output_type": "stream",
     "text": [
      "<class 'xml.etree.ElementTree.ElementTree'>\n",
      "<Element 'response' at 0x7fd9311ed490>\n"
     ]
    }
   ],
   "source": [
    "LA = ET.parse('LA.xml')\n",
    "print type(LA)\n",
    "laRoot = LA.getroot()\n",
    "print laRoot"
   ]
  },
  {
   "cell_type": "markdown",
   "metadata": {},
   "source": [
    "The ElementTree XML API has a built in method called parse which was used above. Using ET.parse(file_path), it generated an xml.etree.ElementTree.ElementTree object as seen above. Then there is a method called getroot() which returns to you the root element of the tree. Phenomenal! We've covered a lot of basics on ElementTree objects so far and now we have generated one based on an XML file from the web. Now let's take some time on accessing individual elements in this tree."
   ]
  },
  {
   "cell_type": "code",
   "execution_count": 107,
   "metadata": {
    "collapsed": false
   },
   "outputs": [
    {
     "name": "stdout",
     "output_type": "stream",
     "text": [
      "{}\n",
      "Attendance in year None was None\n",
      "{'_address': 'http://data.lacity.org/resource/_3gwn-arjr/1', '_id': '1', '_uuid': '4936580F-0829-4C96-B389-598BB53D3862', '_position': '1'}\n",
      "Attendance in year 2012-13 was 1506274\n",
      "{'_address': 'http://data.lacity.org/resource/_3gwn-arjr/2', '_id': '2', '_uuid': 'D74A48AD-64DA-4C9B-8A9F-0695D19919F6', '_position': '2'}\n",
      "Attendance in year 2011-12 was 1660450\n",
      "{'_address': 'http://data.lacity.org/resource/_3gwn-arjr/3', '_id': '3', '_uuid': 'B6643375-0C48-45C1-9949-2585A62AFB57', '_position': '3'}\n",
      "Attendance in year 2010-11 was 1543232\n",
      "{'_address': 'http://data.lacity.org/resource/_3gwn-arjr/4', '_id': '4', '_uuid': 'C6B3EE93-8332-4ADE-A0D1-92F053DE15E9', '_position': '4'}\n",
      "Attendance in year 2009-10 was 1459080\n",
      "{'_address': 'http://data.lacity.org/resource/_3gwn-arjr/5', '_id': '5', '_uuid': 'EA611366-347D-46F5-9BC0-10834CE063FD', '_position': '5'}\n",
      "Attendance in year 2008-09 was 1556162\n"
     ]
    }
   ],
   "source": [
    "for child in laRoot.iter('row'):\n",
    "    print child.attrib\n",
    "    att = child.findtext('attendance')\n",
    "    fisc = child.findtext('fiscal_year')\n",
    "    print \"Attendance in year \" + str(fisc) + \" was \" + str(att) "
   ]
  },
  {
   "cell_type": "markdown",
   "metadata": {},
   "source": [
    "Going through the XML tree of L.A. zoo attendance data, we easily parsed through all the children nodes of the root element. In a for loop we can access both the fiscal year and attendance with the child.findtext(tag) method. Using this, both the year and attendance for that year were represented in a user readable format. Although this was a very small example of data extracted from a real source, the skills learned can now be applied to any XML file. No matter how large or convoluted the file is, we can easily parse the data by treating it as a tree. \n",
    "\n",
    "Just for a little extra help though, another example will now be covered with a much larger XML file. In a similar fashion as earlier, download the XML file from this link https://data.austintexas.gov/api/views/ykw4-j3aj/rows.xml?accessType=DOWNLOAD\n",
    "\n",
    "This is a file about dangerous dog incidents and their locations. We will parse the XML file for the name of the owner with the dangerous dog, the address, and the description of the dog."
   ]
  },
  {
   "cell_type": "code",
   "execution_count": 123,
   "metadata": {
    "collapsed": false
   },
   "outputs": [
    {
     "name": "stdout",
     "output_type": "stream",
     "text": [
      "None None\n",
      "None\n",
      "None\n",
      "None\n",
      "Lorena Zuniga\n",
      "3415 Sweetgum Trc\n",
      "78713\n",
      "“Mulligan,” neutered male, Brindle Bullmastiff\n",
      "Maria Davila\n",
      "4420 Dovemeadow Dr\n",
      "78744\n",
      "“Tiny,” male, tan and white Boxer mix\n",
      "Matthew  Rafacz\n",
      "7400 Espira Drive \n",
      "78739\n",
      "\"Charlie\" neutered male, black and white Labrador Retriever mix \n",
      "Jeff Crawford\n",
      "9321 Bavaria Ln.\n",
      "78749\n",
      "\"Nala\" spayed female, white and brown brindle Pit Bull mix\n",
      "Katherine  Maloney\n",
      "11504 Murcia Dr\n",
      "78759\n",
      "“Lexie,” female, white and black Pit Bull  \n",
      "Jack Barnett\n",
      "13101 Winding Creek Rd\n",
      "78736\n",
      "\"Holly\" Spayed female, white Labrador/Pitbull mix\n",
      "Carla Ward\n",
      "7128 Mumruffin Ln\n",
      "78754\n",
      "“Lincoln,” male, fawn and white Pit Bull Terrier\n",
      "Melissa Spellmann\n",
      "2815 Oak Ridge Dr\n",
      "78669\n",
      "“Sparkles,” spayed female, Brindle Plott Hound mix\n",
      "Ruth Delong-Pyron\n",
      "903 Vincent Place \n",
      "78660\n",
      "\"Missy,\" Spayed Female, red/white Pitbull mix\n",
      "Ronald Vasey\n",
      "4704 Sunridge Ct\n",
      "78741\n",
      "“Rita,” female, brown Australian Shepherd  \n",
      "Timothy  LeBlanc\n",
      "5931 Cape Coral Dr\n",
      "78746\n",
      "\"Miles Davis,\" female, gold/white Golden Retriever \n",
      "Melissa Spellmann\n",
      "2815 Oak Ridge Dr\n",
      "78669\n",
      "“Lacy,” spayed female, Labrador Retriever Mix\n",
      "Gabriel Alverez\n",
      "8701 Bluffstone Cv. #2202\n",
      "78759\n",
      "\"Clementine\" spayed female, black and white Austrailian Cattle dog\n",
      "Maria Gonzalez\n",
      "20608 Ed Acklin Rd\n",
      "78653\n",
      "“Coronel,” Male, Tan/Black German Shepherd mix\n",
      "Deirdre Mitchell\n",
      "11824 Morning View Dr\n",
      "78617\n",
      "“Lady Bug” spayed female, white/black Pit bull/Jack Russell mix\n",
      "Mikal/Gerti Gonzales\n",
      "7600 Bloomfield Ave\n",
      "78745\n",
      "\"Buddy,\" male, blue brindle and white Pitbull mix\n",
      "Jazzias Flores\n",
      "14329 Teacup Ln\n",
      "78660\n",
      "“Boomer”, neutered brown Pit Bull Mix\n",
      "Adam Banda\n",
      "4809 Clear View Dr\n",
      "78725\n",
      "“Weezer,” female, Tan/Brown German Shepherd\n",
      "Richard  Ashcraft\n",
      "11511 Catalonia Dr\n",
      "78759\n",
      "“Little Girl,” spayed female, brown brindle and white Bull Terrier\n",
      "Adrian Rivera-Clemente \n",
      "18300 Belfry Pass\n",
      "78653\n",
      "“Diva,” intact female, tri-color Pit Bull\n",
      "Randall Burt\n",
      "705 Texas St\n",
      "78705\n",
      "“Jack,” neutered male, red/white Labrador Retriever mix     \n",
      "Penny Arnold\n",
      "12904 Schleicher Trl\n",
      "78732\n",
      "“Salty,” male, brown and white Boxer\n",
      "Ernesto Lozano \n",
      "11929 Rosethorn Dr\n",
      "78758\n",
      "“G,” male, brown Pit Bull/Boxer mix  \n",
      "Andres Castro\n",
      "2520 East 3rd St\n",
      "78702\n",
      "“Keely,” spayed female, Red Labrador Retriever mix\n",
      "Johnny Adamo\n",
      "11305 Cezanne St \n",
      "78726\n",
      "“Tyson,” neutered male, German Shepherd\n",
      "Jill  Kolansinski \n",
      "5336 Magdelena Dr\n",
      "78704\n",
      "“Tug,” male, brown merle and white Queensland Heeler mix\n",
      "Rebecca Byrnes\n",
      "2401 Cecil Dr\n",
      "78744\n",
      "“Shebba,” female, white Pit Bull mix \n",
      "John Hernandez\n",
      "5205 Bantom Woods Bnd.\n",
      "78721\n",
      "\"Blue\" male, blue Pit Bull mix\n",
      "Rebecca Byrnes\n",
      "2401 Cecil Dr\n",
      "78744\n",
      "“Pinky,” female, white Boxer mix\n",
      "Tim Carrington\n",
      "2718 Jorwoods Dr\n",
      "78745\n",
      "“Ladybird,” Spayed female, yellow brindle and white Pit Bull mix\n",
      "Julia Knox\n",
      "7200 Reaburn St.\n",
      "78749\n",
      "\"Dozer\" neutered male, white and red Rhodesian Ridgeback\n",
      "Drew Scruggs\n",
      "6204 Skahan Ln.\n",
      "78739\n",
      "\"Lahlo\" spayed female, tan Boxer mix\n",
      "Jesse Carlin\n",
      "905 Tudor House Road \n",
      "78660\n",
      "\"Maya,\" spayed female, brown/white Pitbull mix\n",
      "Robert  McKinley\n",
      "1205 Quail Park Dr\n",
      "78758\n",
      "\"Cinnamon\" female, red and white Border Collie \n",
      "Drew Scruggs\n",
      "6204 Skahan Ln.\n",
      "78739\n",
      "\"Taz\" neutered male, brown brindle Boxer mix\n",
      "Orlando Martinez\n",
      "7002 Montana St\n",
      "78741\n",
      "“Lily,” female, black and white Chihuahua\n",
      "Leslie  Matthews\n",
      "3703 Grayson Ln\n",
      "78722\n",
      "\"Abbo\" neutered male, white/brown Great Pyrenees mix \n",
      "Mike Kool\n",
      "1302 Canyon Edge Dr\n",
      "78733\n",
      "“Milo,” neutered male, white/brown, German Short-haired Pointer\n",
      "Deirdre Mitchell\n",
      "11824 Morning View Dr\n",
      "78617\n",
      "“Lia,” spayed female, white/black Pit Bull/Jack Russell mix\n",
      "Valerie Raven\n",
      "4707 Carsonhill Dr\n",
      "78723\n",
      "“Sissy,” female, tan and black German Shepherd\n",
      "Jill Scott Carse\n",
      "1411 Justin Ln\n",
      "78757\n",
      "“Nippy,” female, black and tan Shepherd mix\n",
      "Dave Smith\n",
      "6319 Parliament Dr. #A\n",
      "78724\n",
      "\"Ginger\" spayed female, red and white American Fox Terrier mix\n",
      "John Hernandez\n",
      "5205 Bantom Woods Bnd.\n",
      "78721\n",
      "\"Jonah\" female, brown and white Pit Bull mix\n",
      "Luis Padilla\n",
      "1304 Neans Dr.\n",
      "78758\n",
      "\"Diego\" neutered male, cream and white Great Pyrenees\n",
      "Carrie Westfall\n",
      "7701 Callbram Ln\n",
      "78736\n",
      "“June,” female, Brindle Pit Bull Terrier  \n",
      "Jazzias Flores\n",
      "14329 Teacup Ln\n",
      "78660\n",
      "“Maia,” female, white/tan Pit Bull mix\n",
      "Jim Rehage\n",
      "14028 Lakeview Dr\n",
      "78732\n",
      "“Iko,” neutered male, Brown Brindle Catahoula  mix\n",
      "Jonathon Rich\n",
      "5107 Saddle Cir.\n",
      "78727\n",
      "\"Zues\" neutered male, blue and white Great Dane\n",
      "Adele Johnson\n",
      "1302 Lipan Trl\n",
      "78733\n",
      "\"Tank,\" neutered, black/grey German Wire-haired Pointer \n",
      "Richard  Ashcraft\n",
      "11511 Catalonia Dr\n",
      "78759\n",
      "“Bumpy,” neutered male, white and black Bull Terrier\n",
      "Enrique Aguilar\n",
      "14707 Reynero Ln. #E\n",
      "78617\n",
      "\"Negro\" neutered male, black, tan and white Chihuahua mix\n",
      "Ali Marcus\n",
      "3705 Robinson Ave.\n",
      "78722\n",
      "\"Lucy\" spayed female, brown brindle and white Boxer mix\n",
      "Scott Cummings\n",
      "412 Summer Alcove Way\n",
      "78732\n",
      "\"Austin\" male, red merle Australian Shepherd\n",
      "Julia Knox\n",
      "7200 Reaburn St.\n",
      "78749\n",
      "\"Aries\" spayed female, blue Cane Corso\n",
      "Austin Animal Center\n",
      "7201 Levander Loop\n",
      "78702\n",
      "\"Bella\" spayed female, Tan and White Pit Bull mix\n",
      "Chester  Kudlek\n",
      "2401 Emmett Pkwy\n",
      "78728\n",
      "\"Gucio\" male, black Giant Schnauzer\n",
      "Dave Smith\n",
      "6319 Parliament Dr. #A\n",
      "78724\n",
      "\"Kilo\" neutered male, red and white Pit Bull mix\n",
      "Natasha Rosofsky\n",
      "1910 Haskell St.\n",
      "78722\n",
      "\"Chuy\" spayed female, brown brindle and white Boxer mix\n",
      "Marcia Miller\n",
      "2813 Tradewind Dr.\n",
      "78669\n",
      "\"Flint\" neutered male, blue Blue Lacy mix\n",
      "Kim Sadler\n",
      "7916 Adelaide Dr \n",
      "78739\n",
      "\"Sydney\" spayed female, Tricolor/Black Beagle \n",
      "Ruth Delong-Pyron\n",
      "903 Vincent Place \n",
      "78660\n",
      "\"Sunny,\" Neutered Male, Brown/Tan Shepherd mix\n",
      "Miguel Garcia\n",
      "4812 Candletree Ln\n",
      "78744\n",
      "“Lucky,” male, black and tri-colored Chihuahua\n",
      "Andrew  Willingham\n",
      "6604 Jamaica Ct\n",
      "78757\n",
      "\"Cleo\" female, black Labrador Retriever mix \n"
     ]
    }
   ],
   "source": [
    "#Open the file and grab the root\n",
    "dogs = ET.parse('dog.xml')\n",
    "dogRoot = dogs.getroot()\n",
    "\n",
    "#Iterate through the subelements of the root node\n",
    "for child in dogRoot.iter('row'):\n",
    "    \n",
    "    #Retrieve all fields we want in each subelement.\n",
    "    firstName = child.findtext('first_name')\n",
    "    lastName = child.findtext('last_name')\n",
    "    address = child.findtext('address')\n",
    "    zipcode = child.findtext('zip_code')\n",
    "    report = child.findtext('description_of_dog')\n",
    "    print firstName, lastName\n",
    "    print address\n",
    "    print zipcode\n",
    "    print report\n",
    "\n"
   ]
  },
  {
   "cell_type": "markdown",
   "metadata": {},
   "source": [
    "# Summary and references\n",
    "\n",
    "This tutorial highlighted all the major points of utilizing the ElementTree XML API. Referenced data and more details are included below. XML files are everywhere, use the this tutorial along with the resources below to go explore the world of Extensible Markup Language files!\n",
    "\n",
    "1. https://docs.python.org/2/library/xml.etree.elementtree.html#xml.etree.ElementTree.Element.find\n",
    "2. https://data.lacity.org/api/views/3gwn-arjr/rows.xml?accessType=DOWNLOAD\n",
    "3. https://docs.python.org/2/library/xml.dom.minidom.html"
   ]
  }
 ],
 "metadata": {
  "kernelspec": {
   "display_name": "Python 2",
   "language": "python",
   "name": "python2"
  },
  "language_info": {
   "codemirror_mode": {
    "name": "ipython",
    "version": 2
   },
   "file_extension": ".py",
   "mimetype": "text/x-python",
   "name": "python",
   "nbconvert_exporter": "python",
   "pygments_lexer": "ipython2",
   "version": "2.7.12"
  }
 },
 "nbformat": 4,
 "nbformat_minor": 1
}
