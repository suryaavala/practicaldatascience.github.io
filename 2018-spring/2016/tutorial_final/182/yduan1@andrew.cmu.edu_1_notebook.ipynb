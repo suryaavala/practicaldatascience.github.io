{
 "cells": [
  {
   "cell_type": "markdown",
   "metadata": {},
   "source": [
    "## Introduction\n",
    "This tutorial will introduce you to recommender systems. Recommender systems has become very common in our daily lives now and has been widely used in different areas. Netflix, Amazon, Facebook and many other websites or applications have applied recommender systems to better predict users' preference based on the users' past behaviors. There are different approches to build recommender systems: Collaborative Filtering, Content-based, Personalized Learning to Rank, Demographic, Social recommendations and Hybrid. Collaborative Filtering is the most popular one. This tutorial will focus on this method."
   ]
  },
  {
   "cell_type": "markdown",
   "metadata": {},
   "source": [
    "### Tutorial content\n",
    "In this tutorial, I will show you how to build a simple recommender system in Python. We will be using the dataset MovieLens (http://grouplens.org/datasets/movielens/100k/). It contains 100,000 ratings (1-5) from 1000 users on 1700 movies.\n",
    "\n",
    "We will cover the following topics in this tutorial:\n",
    "- [Loading Data](#Loading-data)\n",
    "- [Collaborative Filtering](#Collaborative-Filtering)\n",
    "- [Predicting](#Predicting)\n",
    "- [Test and Evaluation](#Test-and-Evaluation)\n",
    "- [Summary and references](#Summary-and-references)"
   ]
  },
  {
   "cell_type": "markdown",
   "metadata": {
    "collapsed": true
   },
   "source": [
    "## Loading data"
   ]
  },
  {
   "cell_type": "code",
   "execution_count": 29,
   "metadata": {
    "collapsed": false
   },
   "outputs": [],
   "source": [
    "# import libraries\n",
    "import numpy as np\n",
    "import pandas as pd\n",
    "from sklearn.metrics import mean_squared_error\n",
    "import matplotlib\n",
    "%matplotlib inline\n",
    "import matplotlib.pyplot as plt\n",
    "\n",
    "matplotlib.rc(\"figure\", figsize=(8,6))\n",
    "matplotlib.rc(\"axes\", labelsize=16, titlesize=16)\n",
    "matplotlib.rc(\"xtick\", labelsize=14)\n",
    "matplotlib.rc(\"ytick\", labelsize=14)\n",
    "matplotlib.rc(\"legend\", fontsize=14)\n",
    "matplotlib.rc(\"font\", size=14)"
   ]
  },
  {
   "cell_type": "markdown",
   "metadata": {},
   "source": [
    "Let's load the MovieLens dataset. Download the data from http://grouplens.org/datasets/movielens/100k/. Then unzip the `ml-100k.zip` file to create a folder. The `README` file has a detailed description of the data. Basically the `u.data` is the full rating dataset. It is a tab-separated list of user id, item id, rating and timestamp. The user id and item id are both consecutive numbers starting from 1. The `u.item` file contains a bunch of information including the movie's id, name, the movie's genre etc. We only extract the movies' name from this file."
   ]
  },
  {
   "cell_type": "code",
   "execution_count": 2,
   "metadata": {
    "collapsed": false
   },
   "outputs": [],
   "source": [
    "# import rating data\n",
    "cols = ['user_id', 'item_id', 'rating', 'timestamp']\n",
    "df_rating = pd.read_csv('ml-100k/u.data', sep='\\t', header=None, names=cols)\n",
    "# import movie name\n",
    "# we can obtain the mapping between movie name and id through the index of df_movie\n",
    "df_movie = pd.read_csv('ml-100k/u.item', sep='|', header=None, usecols=[1])\n",
    "df_movie.columns = ['movie_name']"
   ]
  },
  {
   "cell_type": "code",
   "execution_count": 3,
   "metadata": {
    "collapsed": false,
    "scrolled": true
   },
   "outputs": [
    {
     "data": {
      "text/html": [
       "<div>\n",
       "<table border=\"1\" class=\"dataframe\">\n",
       "  <thead>\n",
       "    <tr style=\"text-align: right;\">\n",
       "      <th></th>\n",
       "      <th>user_id</th>\n",
       "      <th>item_id</th>\n",
       "      <th>rating</th>\n",
       "      <th>timestamp</th>\n",
       "    </tr>\n",
       "  </thead>\n",
       "  <tbody>\n",
       "    <tr>\n",
       "      <th>0</th>\n",
       "      <td>196</td>\n",
       "      <td>242</td>\n",
       "      <td>3</td>\n",
       "      <td>881250949</td>\n",
       "    </tr>\n",
       "    <tr>\n",
       "      <th>1</th>\n",
       "      <td>186</td>\n",
       "      <td>302</td>\n",
       "      <td>3</td>\n",
       "      <td>891717742</td>\n",
       "    </tr>\n",
       "    <tr>\n",
       "      <th>2</th>\n",
       "      <td>22</td>\n",
       "      <td>377</td>\n",
       "      <td>1</td>\n",
       "      <td>878887116</td>\n",
       "    </tr>\n",
       "    <tr>\n",
       "      <th>3</th>\n",
       "      <td>244</td>\n",
       "      <td>51</td>\n",
       "      <td>2</td>\n",
       "      <td>880606923</td>\n",
       "    </tr>\n",
       "    <tr>\n",
       "      <th>4</th>\n",
       "      <td>166</td>\n",
       "      <td>346</td>\n",
       "      <td>1</td>\n",
       "      <td>886397596</td>\n",
       "    </tr>\n",
       "  </tbody>\n",
       "</table>\n",
       "</div>"
      ],
      "text/plain": [
       "   user_id  item_id  rating  timestamp\n",
       "0      196      242       3  881250949\n",
       "1      186      302       3  891717742\n",
       "2       22      377       1  878887116\n",
       "3      244       51       2  880606923\n",
       "4      166      346       1  886397596"
      ]
     },
     "execution_count": 3,
     "metadata": {},
     "output_type": "execute_result"
    }
   ],
   "source": [
    "df_rating.head()"
   ]
  },
  {
   "cell_type": "code",
   "execution_count": 4,
   "metadata": {
    "collapsed": false
   },
   "outputs": [
    {
     "data": {
      "text/html": [
       "<div>\n",
       "<table border=\"1\" class=\"dataframe\">\n",
       "  <thead>\n",
       "    <tr style=\"text-align: right;\">\n",
       "      <th></th>\n",
       "      <th>movie_name</th>\n",
       "    </tr>\n",
       "  </thead>\n",
       "  <tbody>\n",
       "    <tr>\n",
       "      <th>0</th>\n",
       "      <td>Toy Story (1995)</td>\n",
       "    </tr>\n",
       "    <tr>\n",
       "      <th>1</th>\n",
       "      <td>GoldenEye (1995)</td>\n",
       "    </tr>\n",
       "    <tr>\n",
       "      <th>2</th>\n",
       "      <td>Four Rooms (1995)</td>\n",
       "    </tr>\n",
       "    <tr>\n",
       "      <th>3</th>\n",
       "      <td>Get Shorty (1995)</td>\n",
       "    </tr>\n",
       "    <tr>\n",
       "      <th>4</th>\n",
       "      <td>Copycat (1995)</td>\n",
       "    </tr>\n",
       "  </tbody>\n",
       "</table>\n",
       "</div>"
      ],
      "text/plain": [
       "          movie_name\n",
       "0   Toy Story (1995)\n",
       "1   GoldenEye (1995)\n",
       "2  Four Rooms (1995)\n",
       "3  Get Shorty (1995)\n",
       "4     Copycat (1995)"
      ]
     },
     "execution_count": 4,
     "metadata": {},
     "output_type": "execute_result"
    }
   ],
   "source": [
    "df_movie.head()"
   ]
  },
  {
   "cell_type": "markdown",
   "metadata": {},
   "source": [
    "The index for the `df_movie` dataframe is the same as the `item id` in `df_rating`. "
   ]
  },
  {
   "cell_type": "code",
   "execution_count": 5,
   "metadata": {
    "collapsed": false
   },
   "outputs": [
    {
     "data": {
      "text/plain": [
       "(100000, 4)"
      ]
     },
     "execution_count": 5,
     "metadata": {},
     "output_type": "execute_result"
    }
   ],
   "source": [
    "df_rating.shape"
   ]
  },
  {
   "cell_type": "markdown",
   "metadata": {},
   "source": [
    "There are 100,000 ratings in this dataframe. Next we will explore the dataset a little bit. Firstly, let us check the top 10 most rated movies by users."
   ]
  },
  {
   "cell_type": "code",
   "execution_count": 6,
   "metadata": {
    "collapsed": false,
    "scrolled": true
   },
   "outputs": [
    {
     "name": "stdout",
     "output_type": "stream",
     "text": [
      "      user_id  item_id  rating  timestamp            movie_name\n",
      "0         196      242       3  881250949  Jungle2Jungle (1997)\n",
      "253        63      242       3  875747190  Jungle2Jungle (1997)\n",
      "629       226      242       5  883888671  Jungle2Jungle (1997)\n",
      "1232      154      242       3  879138235  Jungle2Jungle (1997)\n",
      "2159      306      242       5  876503793  Jungle2Jungle (1997)\n"
     ]
    },
    {
     "data": {
      "text/plain": [
       "Legends of the Fall (1994)     583\n",
       "George of the Jungle (1997)    509\n",
       "Heavy Metal (1981)             508\n",
       "GoodFellas (1990)              507\n",
       "Breakdown (1997)               485\n",
       "Marvin's Room (1996)           481\n",
       "Evita (1996)                   478\n",
       "GoldenEye (1995)               452\n",
       "Desperate Measures (1998)      432\n",
       "In & Out (1997)                431\n",
       "Name: movie_name, dtype: int64"
      ]
     },
     "execution_count": 6,
     "metadata": {},
     "output_type": "execute_result"
    }
   ],
   "source": [
    "# top 10 most rated movies by users\n",
    "df_merge = df_rating.merge(df_movie, how=\"inner\", left_on=\"item_id\", right_index=True)\n",
    "print df_merge.head()\n",
    "# get the rated counts for each movie\n",
    "top_movies = pd.value_counts(df_merge.movie_name)\n",
    "# print the top 10\n",
    "top_movies.head(10)"
   ]
  },
  {
   "cell_type": "markdown",
   "metadata": {},
   "source": [
    "Next, let us check the distribution of ratings."
   ]
  },
  {
   "cell_type": "code",
   "execution_count": 7,
   "metadata": {
    "collapsed": false
   },
   "outputs": [
    {
     "data": {
      "text/plain": [
       "<matplotlib.text.Text at 0x11297e450>"
      ]
     },
     "execution_count": 7,
     "metadata": {},
     "output_type": "execute_result"
    },
    {
     "data": {
      "image/png": "[encoded data removed]",
      "text/plain": [
       "<matplotlib.figure.Figure at 0x1125f7210>"
      ]
     },
     "metadata": {},
     "output_type": "display_data"
    }
   ],
   "source": [
    "# Distribution of ratings\n",
    "plt.hist(df_rating['rating'])\n",
    "plt.xlabel(\"Rating\")\n",
    "plt.ylabel(\"Count\")\n",
    "plt.title('Distribution of ratings')"
   ]
  },
  {
   "cell_type": "markdown",
   "metadata": {},
   "source": [
    "Next, let us check the mean and median of ratings."
   ]
  },
  {
   "cell_type": "code",
   "execution_count": 8,
   "metadata": {
    "collapsed": false
   },
   "outputs": [
    {
     "name": "stdout",
     "output_type": "stream",
     "text": [
      "3.52986\n",
      "1.12566797076\n"
     ]
    }
   ],
   "source": [
    "# mean and standard deviation of ratings\n",
    "print np.mean(df_rating['rating'])\n",
    "print np.std(df_rating['rating'])"
   ]
  },
  {
   "cell_type": "markdown",
   "metadata": {},
   "source": [
    "On a scale range from 1.0 to 5.0, the average rating is 3.52. The standard deviation is 1.12."
   ]
  },
  {
   "cell_type": "markdown",
   "metadata": {},
   "source": [
    "Now we can build the user/movie rating matrix. Since the user id and movie id both start from 1, we need to do an offset by 1 process to make the id start from 0. Thus we can easily map id to indice. Every row in this matrix represents a user's rating vector for movies. A zero rating in the rating cell indicates an empty rating."
   ]
  },
  {
   "cell_type": "code",
   "execution_count": 30,
   "metadata": {
    "collapsed": false
   },
   "outputs": [],
   "source": [
    "def user_movie_matrix(df_rating):\n",
    "    \"\"\" \n",
    "    Input:\n",
    "        df_rating (pandas dataframe) : users' ratings\n",
    "    Output:\n",
    "        M (matrix) : user/movie rating matrix\n",
    "    \"\"\"\n",
    "    #get number of users\n",
    "    max_user_id = np.max(df_rating['user_id'])\n",
    "    print 'Total user number %s' % max_user_id\n",
    "    #get number of movies\n",
    "    max_movie_id = np.max(df_rating['item_id'])\n",
    "    print 'Total movie number %s' % max_movie_id\n",
    "    # construct user/movie matrix\n",
    "    M = np.zeros((max_user_id, max_movie_id))\n",
    "    # user id and movie id subtract by 1\n",
    "    for row in df_rating.iterrows():\n",
    "        M[row[1][0] - 1, row[1][1] - 1] = row[1][2]\n",
    "    return M"
   ]
  },
  {
   "cell_type": "code",
   "execution_count": 35,
   "metadata": {
    "collapsed": false
   },
   "outputs": [
    {
     "name": "stdout",
     "output_type": "stream",
     "text": [
      "Total user number 943\n",
      "Total movie number 1682\n",
      "[[ 5.  3.  4.  3.  3.  5.  4.  1.  5.  3.]\n",
      " [ 4.  0.  0.  0.  0.  0.  0.  0.  0.  2.]\n",
      " [ 0.  0.  0.  0.  0.  0.  0.  0.  0.  0.]\n",
      " [ 0.  0.  0.  0.  0.  0.  0.  0.  0.  0.]\n",
      " [ 4.  3.  0.  0.  0.  0.  0.  0.  0.  0.]\n",
      " [ 4.  0.  0.  0.  0.  0.  2.  4.  4.  0.]\n",
      " [ 0.  0.  0.  5.  0.  0.  5.  5.  5.  4.]\n",
      " [ 0.  0.  0.  0.  0.  0.  3.  0.  0.  0.]\n",
      " [ 0.  0.  0.  0.  0.  5.  4.  0.  0.  0.]\n",
      " [ 4.  0.  0.  4.  0.  0.  4.  0.  4.  0.]]\n"
     ]
    }
   ],
   "source": [
    "M = user_movie_matrix(df_rating)\n",
    "# print the top 10 rows and cols of matrix\n",
    "print M[:10,:10]"
   ]
  },
  {
   "cell_type": "markdown",
   "metadata": {},
   "source": [
    "Now we can plot the distribution of number of ratings per user."
   ]
  },
  {
   "cell_type": "code",
   "execution_count": 45,
   "metadata": {
    "collapsed": false,
    "scrolled": false
   },
   "outputs": [
    {
     "data": {
      "text/plain": [
       "<matplotlib.text.Text at 0x11c6926d0>"
      ]
     },
     "execution_count": 45,
     "metadata": {},
     "output_type": "execute_result"
    },
    {
     "data": {
      "image/png": "[encoded data removed]",
      "text/plain": [
       "<matplotlib.figure.Figure at 0x11c0c2a90>"
      ]
     },
     "metadata": {},
     "output_type": "display_data"
    }
   ],
   "source": [
    "num_of_rating = pd.DataFrame(M).replace('0', np.nan).count(axis=1)\n",
    "plt.hist(num_of_rating, bins=50);\n",
    "plt.xlabel(\"Number of Ratings per User\")\n",
    "plt.ylabel(\"User Count\")\n",
    "plt.title('Distribution of Number of Ratings per User')"
   ]
  },
  {
   "cell_type": "markdown",
   "metadata": {},
   "source": [
    "We can also plot the distribution of mean ratings for movies."
   ]
  },
  {
   "cell_type": "code",
   "execution_count": 47,
   "metadata": {
    "collapsed": false
   },
   "outputs": [
    {
     "data": {
      "text/plain": [
       "<matplotlib.text.Text at 0x11c03f6d0>"
      ]
     },
     "execution_count": 47,
     "metadata": {},
     "output_type": "execute_result"
    },
    {
     "data": {
      "image/png": "[encoded data removed]",
      "text/plain": [
       "<matplotlib.figure.Figure at 0x11c6f3950>"
      ]
     },
     "metadata": {},
     "output_type": "display_data"
    }
   ],
   "source": [
    "mean_rating = pd.DataFrame(M).replace('0', np.nan).mean(axis=0)\n",
    "plt.hist(mean_rating, bins=50);\n",
    "plt.xlabel(\"Mean Rating for Movie\")\n",
    "plt.ylabel(\"Movie Count\")\n",
    "plt.title('Distribution of Mean Ratings for Movie')"
   ]
  },
  {
   "cell_type": "markdown",
   "metadata": {},
   "source": [
    "## Collaborative Filtering"
   ]
  },
  {
   "cell_type": "markdown",
   "metadata": {},
   "source": [
    "The idea behind this is quite simple. People like you may possibly like what you like. For example, the task is to recommend a movie to you. The recommender systems will search other users to find a person that is similar to you in the movies he likes. Once the person is found, the recommender system can recommend the person's favorite movies to you. Now the question becomes how do recommender systems know who are similar to each other. There are different ways to do so. Usually the recommender system will look at the distance or correlation between two vectors that represent users' preferences. Manhattan distance, Euclidean distance, Pearson correalation and Cosine similarity are all good methods. For this tutorial, we only implement cosine similarity. If you are interested, you can try different methods to test whether it affects the recommender model's quality.\n",
    "`Cosine similarity` is a measure of similarity between two vectors that measures the cosine of the angle between them.\n",
    "Now, we use the following function to compute the Cosine Similarity between users' preferences."
   ]
  },
  {
   "cell_type": "code",
   "execution_count": 11,
   "metadata": {
    "collapsed": true
   },
   "outputs": [],
   "source": [
    "def cosine_similarity(v1, v2):\n",
    "    \"\"\" \n",
    "    Input:\n",
    "        v1 (np.array) : array representing user1's ratings\n",
    "        v2 (np.array) : array representing user2's ratings\n",
    "    Output:\n",
    "        (double) : cosine similarity between user1 and user2\n",
    "    \"\"\"\n",
    "    n1 = np.sqrt(v1.dot(v1))\n",
    "    n2 = np.sqrt(v2.dot(v2))\n",
    "    return v1.dot(v2) / (n1 * n2)"
   ]
  },
  {
   "cell_type": "markdown",
   "metadata": {
    "collapsed": true
   },
   "source": [
    "For example, we can compute the consine similarity between user1 and user2."
   ]
  },
  {
   "cell_type": "code",
   "execution_count": 12,
   "metadata": {
    "collapsed": false
   },
   "outputs": [
    {
     "data": {
      "text/plain": [
       "0.16693098386870195"
      ]
     },
     "execution_count": 12,
     "metadata": {},
     "output_type": "execute_result"
    }
   ],
   "source": [
    "v1 = M[0,:]\n",
    "v2 = M[1,:]\n",
    "cosine_similarity(v1, v2)"
   ]
  },
  {
   "cell_type": "markdown",
   "metadata": {
    "collapsed": true
   },
   "source": [
    "Now we can build the similarity matrix. A cell [i,j] in this matrix represents the similarity between user i and user j."
   ]
  },
  {
   "cell_type": "code",
   "execution_count": 13,
   "metadata": {
    "collapsed": false
   },
   "outputs": [],
   "source": [
    "# compute similarities using for loops\n",
    "def build_similarity_matrix(rating):\n",
    "    \"\"\" \n",
    "    Input:\n",
    "        rating (matrix) : each row represents users' preferences\n",
    "    Output:\n",
    "        similarity (matrix) : cosine similarity matrix\n",
    "    \"\"\"\n",
    "    similarity = np.zeros((rating.shape[0], rating.shape[0]))\n",
    "\n",
    "    for i in range(0, rating.shape[0]):\n",
    "        for j in range(0, rating.shape[0]):\n",
    "            similarity[i, j] = cosine_similarity(rating[i,:], rating[j, :])\n",
    "    return similarity"
   ]
  },
  {
   "cell_type": "code",
   "execution_count": 14,
   "metadata": {
    "collapsed": false
   },
   "outputs": [
    {
     "name": "stdout",
     "output_type": "stream",
     "text": [
      "1 loop, best of 3: 10.3 s per loop\n"
     ]
    }
   ],
   "source": [
    "%timeit build_similarity_matrix(M)"
   ]
  },
  {
   "cell_type": "markdown",
   "metadata": {},
   "source": [
    "From the above example, we can see that the function to build the similarity matrix using for loops is very slow. A better way to construct similarity matrix is to use matrix operations instead of for loops. We can firstly normalize each row and them multiply the mormalized rating matrix by its transpose matrix."
   ]
  },
  {
   "cell_type": "code",
   "execution_count": 15,
   "metadata": {
    "collapsed": true
   },
   "outputs": [],
   "source": [
    "# build similarity matrix using matrix operations\n",
    "def similarity_matrix(rating):\n",
    "    \"\"\" \n",
    "    Input:\n",
    "        rating (matrix) : each row represents users' preferences\n",
    "    Output:\n",
    "        similarity (matrix) : cosine similarity matrix\n",
    "    \"\"\"\n",
    "    # compute norm for each row\n",
    "    norm = np.linalg.norm(rating, axis=1)\n",
    "    # normalize each row\n",
    "    rating = rating / norm[:,None]\n",
    "    similarity = rating.dot(rating.T)\n",
    "    return similarity"
   ]
  },
  {
   "cell_type": "code",
   "execution_count": 21,
   "metadata": {
    "collapsed": false
   },
   "outputs": [
    {
     "name": "stdout",
     "output_type": "stream",
     "text": [
      "10 loops, best of 3: 54.9 ms per loop\n"
     ]
    }
   ],
   "source": [
    "%timeit similarity_matrix(M)"
   ]
  },
  {
   "cell_type": "code",
   "execution_count": 20,
   "metadata": {
    "collapsed": false
   },
   "outputs": [
    {
     "data": {
      "text/plain": [
       "array([[ 1.        ,  0.16693098,  0.04745954, ...,  0.14861694,\n",
       "         0.17950788,  0.39817474],\n",
       "       [ 0.16693098,  1.        ,  0.11059132, ...,  0.16148478,\n",
       "         0.17226781,  0.10579788],\n",
       "       [ 0.04745954,  0.11059132,  1.        , ...,  0.10124256,\n",
       "         0.13341615,  0.02655587],\n",
       "       ..., \n",
       "       [ 0.14861694,  0.16148478,  0.10124256, ...,  1.        ,\n",
       "         0.1016418 ,  0.09511958],\n",
       "       [ 0.17950788,  0.17226781,  0.13341615, ...,  0.1016418 ,\n",
       "         1.        ,  0.18246466],\n",
       "       [ 0.39817474,  0.10579788,  0.02655587, ...,  0.09511958,\n",
       "         0.18246466,  1.        ]])"
      ]
     },
     "execution_count": 20,
     "metadata": {},
     "output_type": "execute_result"
    }
   ],
   "source": [
    "sim=similarity_matrix(M)\n",
    "sim"
   ]
  },
  {
   "cell_type": "markdown",
   "metadata": {},
   "source": [
    "We can see that using matrix operations is much faster compared to computing cells in matrix one by one."
   ]
  },
  {
   "cell_type": "markdown",
   "metadata": {
    "collapsed": true
   },
   "source": [
    "## Predicting"
   ]
  },
  {
   "cell_type": "markdown",
   "metadata": {},
   "source": [
    "Now with our similarity matrix, we can predict ratings. To predict a user `u`'s rating for a movie `m`, we need to sum the weighted ratings of all the other users for the movie `m`. The weight is the cosine similarity between user `u` and all the other users. Then we also need to normalize the sum by the sum of weights to get the prediction."
   ]
  },
  {
   "cell_type": "code",
   "execution_count": 22,
   "metadata": {
    "collapsed": true
   },
   "outputs": [],
   "source": [
    "# predict rating for users\n",
    "def predict(rating, similarity):\n",
    "    \"\"\" \n",
    "    Input:\n",
    "        rating (matrix) : each row represents users' preferences\n",
    "        similarity (matrix) : cosine similarity matrix\n",
    "    Output:\n",
    "        prediction (matrix) : prediction of users' ratings\n",
    "    \"\"\"\n",
    "    prediction = np.zeros(rating.shape)\n",
    "    # compute prediction for each movie\n",
    "    for i in range(0, rating.shape[0]):\n",
    "        for j in range(0, rating.shape[1]):\n",
    "            # compute weighted sum\n",
    "            weighted_sum = similarity[i, :].dot(rating[:, j])\n",
    "            # normalize by sum of weights\n",
    "            prediction[i, j] = weighted_sum / np.sum(np.abs(similarity[i, :]))\n",
    "    return prediction"
   ]
  },
  {
   "cell_type": "code",
   "execution_count": 23,
   "metadata": {
    "collapsed": false
   },
   "outputs": [
    {
     "name": "stdout",
     "output_type": "stream",
     "text": [
      "1 loop, best of 3: 39.9 s per loop\n"
     ]
    }
   ],
   "source": [
    "%timeit predict(M, sim)"
   ]
  },
  {
   "cell_type": "markdown",
   "metadata": {},
   "source": [
    "As a previous example shows, funcions using for loops take more time than using matrix operations. Thus we can use matrix operations to implement the above predict function."
   ]
  },
  {
   "cell_type": "code",
   "execution_count": 26,
   "metadata": {
    "collapsed": true
   },
   "outputs": [],
   "source": [
    "# using matrix operations\n",
    "def predict_fast(rating, similarity):\n",
    "    \"\"\" \n",
    "    Input:\n",
    "        rating (matrix) : each row represents users' preferences\n",
    "        similarity (matrix) : cosine similarity matrix\n",
    "    Output:\n",
    "        prediction (matrix) : prediction of users' ratings\n",
    "    \"\"\"\n",
    "    # compute weighted sum\n",
    "    weighted_sum = similarity.dot(rating)\n",
    "    # normalize by sum of weights\n",
    "    return weighted_sum / np.array([np.abs(similarity).sum(axis=1)]).T"
   ]
  },
  {
   "cell_type": "code",
   "execution_count": 27,
   "metadata": {
    "collapsed": false
   },
   "outputs": [
    {
     "name": "stdout",
     "output_type": "stream",
     "text": [
      "10 loops, best of 3: 83 ms per loop\n"
     ]
    }
   ],
   "source": [
    "%timeit predict_fast(M, sim)"
   ]
  },
  {
   "cell_type": "code",
   "execution_count": 28,
   "metadata": {
    "collapsed": false
   },
   "outputs": [
    {
     "data": {
      "text/plain": [
       "array([[  2.42492083e+00,   7.58241451e-01,   4.44433098e-01, ...,\n",
       "          5.37552717e-04,   6.51021154e-03,   7.36117851e-03],\n",
       "       [  1.88253580e+00,   3.25506086e-01,   3.02482424e-01, ...,\n",
       "          3.36814306e-03,   2.77008816e-03,   1.91219324e-03],\n",
       "       [  1.32849217e+00,   2.90918284e-01,   2.36176026e-01, ...,\n",
       "          8.35623444e-03,   2.61921448e-03,   1.18219930e-03],\n",
       "       ..., \n",
       "       [  2.45321901e+00,   4.48412395e-01,   3.96938958e-01, ...,\n",
       "          1.22401650e-03,   4.00566986e-03,   3.02918177e-03],\n",
       "       [  2.03994198e+00,   5.87603968e-01,   3.03290502e-01, ...,\n",
       "          2.08310984e-03,   5.33460874e-03,   3.31510554e-03],\n",
       "       [  2.51325405e+00,   8.82071088e-01,   4.83121150e-01, ...,\n",
       "          0.00000000e+00,   7.53072560e-03,   7.06815298e-03]])"
      ]
     },
     "execution_count": 28,
     "metadata": {},
     "output_type": "execute_result"
    }
   ],
   "source": [
    "prediction= predict_fast(M, sim)\n",
    "prediction"
   ]
  },
  {
   "cell_type": "markdown",
   "metadata": {},
   "source": [
    "In this section, we use all the other users' ratings in our prediction process. However, we can use a subset of the other users' ratings. For example, the top k most similar users. There are also other methods, such as considering the relative difference in ratings rather than using absolute ratings since there may exists some users who always tend to give high ratings or low ratings. If you are interested, you can try different methods to test the quality of the model. "
   ]
  },
  {
   "cell_type": "markdown",
   "metadata": {},
   "source": [
    "## Test and Evaluation"
   ]
  },
  {
   "cell_type": "markdown",
   "metadata": {
    "collapsed": true
   },
   "source": [
    "The movieLens dataset contains `ua.base`, `ua.test`, `ub.base`, and `ub.test` which split user data into training set and test set with exactly 10 ratings per user in the test set. `ua.test` and `ub.test` are disjoint. We can predict based on the training set and then compare the predictions with test set to validate the quality of our recommender model. We use the scikit-learn's mean squared error function as our validation method."
   ]
  },
  {
   "cell_type": "markdown",
   "metadata": {},
   "source": [
    "Firstly, we need to read dataset from file to pandas dataframe."
   ]
  },
  {
   "cell_type": "code",
   "execution_count": 33,
   "metadata": {
    "collapsed": true
   },
   "outputs": [],
   "source": [
    "#read dataset\n",
    "df_train_a = pd.read_csv('ml-100k/ua.base', sep='\\t', header=None, names=cols)\n",
    "df_test_a = pd.read_csv('ml-100k/ua.test', sep='\\t', header=None, names=cols)\n",
    "df_train_b = pd.read_csv('ml-100k/ub.base', sep='\\t', header=None, names=cols)\n",
    "df_test_b = pd.read_csv('ml-100k/ub.test', sep='\\t', header=None, names=cols)"
   ]
  },
  {
   "cell_type": "markdown",
   "metadata": {},
   "source": [
    "Next, we will construct user/movie matrix."
   ]
  },
  {
   "cell_type": "code",
   "execution_count": 34,
   "metadata": {
    "collapsed": false
   },
   "outputs": [
    {
     "name": "stdout",
     "output_type": "stream",
     "text": [
      "Total user number 943\n",
      "Total movie number 1682\n",
      "Total user number 943\n",
      "Total movie number 1664\n",
      "Total user number 943\n",
      "Total movie number 1682\n",
      "Total user number 943\n",
      "Total movie number 1661\n"
     ]
    }
   ],
   "source": [
    "#construct user/movie matrix\n",
    "train_a_M = user_movie_matrix(df_train_a)\n",
    "test_a_M = user_movie_matrix(df_test_a)\n",
    "train_b_M = user_movie_matrix(df_train_b)\n",
    "test_b_M = user_movie_matrix(df_test_b)"
   ]
  },
  {
   "cell_type": "markdown",
   "metadata": {},
   "source": [
    "Next, we will construct similarity matrix based on training data."
   ]
  },
  {
   "cell_type": "code",
   "execution_count": 36,
   "metadata": {
    "collapsed": true
   },
   "outputs": [],
   "source": [
    "# construct similarity matrix\n",
    "sim_a = similarity_matrix(train_a_M)\n",
    "sim_b = similarity_matrix(train_b_M)"
   ]
  },
  {
   "cell_type": "markdown",
   "metadata": {},
   "source": [
    "Next, we will make predictions."
   ]
  },
  {
   "cell_type": "code",
   "execution_count": 38,
   "metadata": {
    "collapsed": true
   },
   "outputs": [],
   "source": [
    "# precition\n",
    "prediction_a = predict_fast(train_a_M, sim_a)\n",
    "prediction_b = predict_fast(train_b_M, sim_b)"
   ]
  },
  {
   "cell_type": "markdown",
   "metadata": {},
   "source": [
    "Now let us implement our metric function to validate the quality of this recommender model."
   ]
  },
  {
   "cell_type": "code",
   "execution_count": 39,
   "metadata": {
    "collapsed": true
   },
   "outputs": [],
   "source": [
    "# compute validation metric\n",
    "def compute_mse(prediction, real):\n",
    "    \"\"\" \n",
    "    Input:\n",
    "        prediction (matrix) : prediction of users' ratings\n",
    "        real (matrix) : real user ratings\n",
    "    Output:\n",
    "        mse (double) : mean squared error\n",
    "    \"\"\"\n",
    "    # rule out the empty rating\n",
    "    prediction = prediction[real.nonzero()].flatten()\n",
    "    real = real[real.nonzero()].flatten()\n",
    "    return mean_squared_error(prediction, real)"
   ]
  },
  {
   "cell_type": "code",
   "execution_count": 41,
   "metadata": {
    "collapsed": false,
    "scrolled": true
   },
   "outputs": [
    {
     "name": "stdout",
     "output_type": "stream",
     "text": [
      "MSE for dataset a: 8.41892604543\n",
      "MSE for dataset b: 8.46174692632\n"
     ]
    }
   ],
   "source": [
    "print 'MSE for dataset a: ' + str(compute_mse(prediction_a, test_a_M))\n",
    "print 'MSE for dataset b: ' + str(compute_mse(prediction_b, test_b_M))"
   ]
  },
  {
   "cell_type": "markdown",
   "metadata": {},
   "source": [
    "## Summary and references\n",
    "\n",
    "This tutorial highlighted just a few elements about how to build a simple recommender system in Python.  Much more detail about the recommender systems and questions on the MovieLens dataset are available from the following links.\n",
    "\n",
    "1. Recommender Systems Handbook: http://www.cs.ubbcluj.ro/~gabis/DocDiplome/SistemeDeRecomandare/Recommender_systems_handbook.pdf \n",
    "2. MovieLens: http://grouplens.org/datasets/movielens/\n",
    "3. Coursera course: https://www.coursera.org/specializations/recommender-systems"
   ]
  },
  {
   "cell_type": "code",
   "execution_count": null,
   "metadata": {
    "collapsed": true
   },
   "outputs": [],
   "source": []
  }
 ],
 "metadata": {
  "anaconda-cloud": {},
  "kernelspec": {
   "display_name": "Python [Root]",
   "language": "python",
   "name": "Python [Root]"
  },
  "language_info": {
   "codemirror_mode": {
    "name": "ipython",
    "version": 2
   },
   "file_extension": ".py",
   "mimetype": "text/x-python",
   "name": "python",
   "nbconvert_exporter": "python",
   "pygments_lexer": "ipython2",
   "version": "2.7.12"
  }
 },
 "nbformat": 4,
 "nbformat_minor": 0
}
