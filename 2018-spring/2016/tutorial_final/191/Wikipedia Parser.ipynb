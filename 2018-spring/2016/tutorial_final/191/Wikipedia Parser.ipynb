{
 "cells": [
  {
   "cell_type": "markdown",
   "metadata": {},
   "source": [
    "## Introduction\n",
    "\n",
    "This tutorial will introduce you the basic idea of parsing a wikipedia page and then store the results into Elasticsearch. \n",
    "\n",
    "> Wikipedia is a free online encyclopedia, created and edited by volunteers around the world.\n",
    "\n",
    "People used to gain new knowledge by reading encyclopedia. But now the amount of information generated everyday is tremendous, the old-school encyclopedia cannot be updated at this speed and that's why wikipedia emerged. All wiki pages are edited by volunteers all around the world at any time. For data scientists nowadays, these information could be very useful if we can parse them and do analysis using some machine learning techniques like NLP, etc.\n",
    "\n",
    "So, the first step would be understanding the format of a wikipedia page."
   ]
  },
  {
   "cell_type": "markdown",
   "metadata": {
    "collapsed": true
   },
   "source": [
    "## Wikipage markup \n",
    "\n",
    "You can view the source of each page by clicking the *Edit* or *View source* tab on the top right corner. There are three basic markups:\n",
    "\n",
    "### Template\n",
    "\n",
    "Enclosed by ``{{ }}``. There can be various number of attributes inside and they are separated by ``|``. The first argument is the type of this template. Name and format of each template is defined by Wikipedia, you can lookup their documents for detail information.  Example: \n",
    "\n",
    "```\n",
    "{{Infobox settlement\n",
    "|name = {{raise|0.2em|Taipei}}\n",
    "|official_name = Taipei City\n",
    "}}\n",
    "```\n",
    "This is a infobox template which contains 2 attributes ``name`` and ``offical_name``. Note that markups can be in nested structure.\n",
    "\n",
    "### Wiki Link\n",
    "\n",
    "Enclosed by ``[[ ]]``. This represents a link to another wikipedia page. Example:\n",
    "\n",
    "```\n",
    " [[Macintosh|Mac]] \n",
    "```\n",
    "\n",
    "2 arguments are separated by ``|``, the first one is the actual name of the referenced wikipedia page, the second one is the text that you want to show as the link text. For this example, this represents a link displayed as ``Mac`` and the target page is ``Macintosh``. The second argument is optional.\n",
    "\n",
    "### External Link\n",
    "\n",
    "Enclosed by ``[ ]``. This is a link to an external website. Example:\n",
    "\n",
    "```\n",
    "[http://www.nogizaka46.com Official website of Nogizaka46]\n",
    "```\n",
    "\n",
    "The url is required and the displayed link text (optional) is followed by a space after the url."
   ]
  },
  {
   "cell_type": "markdown",
   "metadata": {},
   "source": [
    "## Parsing \n",
    "\n",
    "You can definitely write your own parser like what we did in homework one. But here I'm gonna introduce a third party python library called [mwparserfromhell](https://github.com/earwig/mwparserfromhell/tree/develop). Installation is pretty easy:\n",
    "\n",
    "```\n",
    "$ pip install mwparserfromhell\n",
    "```\n",
    "\n",
    "### Basic usages"
   ]
  },
  {
   "cell_type": "code",
   "execution_count": 50,
   "metadata": {
    "collapsed": false
   },
   "outputs": [
    {
     "name": "stdout",
     "output_type": "stream",
     "text": [
      "<class 'mwparserfromhell.wikicode.Wikicode'>\n",
      "Some text\n"
     ]
    }
   ],
   "source": [
    "import mwparserfromhell\n",
    "wikicode = mwparserfromhell.parse(\"Some text\")\n",
    "print type(wikicode)\n",
    "print wikicode"
   ]
  },
  {
   "cell_type": "markdown",
   "metadata": {},
   "source": [
    "This library is pretty easy to use. Just pass in a string with wikipedia markups to the parser. This parser will parse the entire string into a tree-like structure. Each node is a `mwparserfromhell.Wikicode` object."
   ]
  },
  {
   "cell_type": "markdown",
   "metadata": {},
   "source": [
    "### Filter\n",
    "\n",
    "The most powerful function of this library is the `filter` function. We can use it to get a specific type of wikicode objects. Let's use some examples to explain how it works."
   ]
  },
  {
   "cell_type": "code",
   "execution_count": 51,
   "metadata": {
    "collapsed": false
   },
   "outputs": [
    {
     "name": "stdout",
     "output_type": "stream",
     "text": [
      "Templates:  [u'{{Infobox settlement\\n|name = {{raise|0.2em|Taipei}}\\n|official_name = Taipei City\\n}}', u'{{raise|0.2em|Taipei}}']\n",
      "Length:  2\n",
      "Type <class 'mwparserfromhell.nodes.template.Template'>\n"
     ]
    }
   ],
   "source": [
    "text = \"\"\"\n",
    "This is a wikipedia page\n",
    "Hello World!\n",
    "{{Infobox settlement\n",
    "|name = {{raise|0.2em|Taipei}}\n",
    "|official_name = Taipei City\n",
    "}}\n",
    "This is a Wikipedia page.\n",
    "I'm using [[Macintosh|Mac]] running [[OS X El Capitan]].\n",
    "Reference links\n",
    "[http://www.nogizaka46.com Official website of Nogizaka46]\n",
    "End of page\n",
    "\"\"\"\n",
    "# Parse the text above\n",
    "wikicode = mwparserfromhell.parse(text)\n",
    "# Get all templates\n",
    "templates = wikicode.filter_templates()\n",
    "print \"Templates: \", templates\n",
    "print \"Length: \", len(templates)\n",
    "print \"Type\", type(templates[0])"
   ]
  },
  {
   "cell_type": "markdown",
   "metadata": {},
   "source": [
    "As you can see, the return value of this `filter_templates` function is a list of all `templates` in the text and the type of each element in the list is a `mwparserfromhell.nodes.template.Template` object.\n",
    "In the example text, there is a template inside another template and the parser can still give us all of them. Actually, there is a more general function called `filter`. Let me introduce it."
   ]
  },
  {
   "cell_type": "code",
   "execution_count": 52,
   "metadata": {
    "collapsed": false
   },
   "outputs": [
    {
     "name": "stdout",
     "output_type": "stream",
     "text": [
      "Templates:  [u'{{Infobox settlement\\n|name = {{raise|0.2em|Taipei}}\\n|official_name = Taipei City\\n}}']\n",
      "Length:  1\n",
      "Type <class 'mwparserfromhell.nodes.template.Template'>\n"
     ]
    }
   ],
   "source": [
    "# Get the top level templates only\n",
    "template_type = mwparserfromhell.nodes.template.Template\n",
    "templates = wikicode.filter(forcetype=template_type, recursive=False)\n",
    "print \"Templates: \", templates\n",
    "print \"Length: \", len(templates)\n",
    "print \"Type\", type(templates[0])"
   ]
  },
  {
   "cell_type": "markdown",
   "metadata": {},
   "source": [
    "In this case, we're using `filter` function not the `filter_templates` for advance usage. We set the flag `recursive` to `False` so we'll only get the top level templates. In this example, the return value will only be one element. The `forcetype` argument is for filtering only the types specified in this argument. Actually, `filter_templates()` equals `filter(forcetype=mwparserfromhell.nodes.template.Template)`. Furthermore, we can put more than one types in this argument."
   ]
  },
  {
   "cell_type": "code",
   "execution_count": 53,
   "metadata": {
    "collapsed": false
   },
   "outputs": [
    {
     "name": "stdout",
     "output_type": "stream",
     "text": [
      "0 [[Macintosh|Mac]] <class 'mwparserfromhell.nodes.wikilink.Wikilink'>\n",
      "1 [[OS X El Capitan]] <class 'mwparserfromhell.nodes.wikilink.Wikilink'>\n",
      "2 [http://www.nogizaka46.com Official website of Nogizaka46] <class 'mwparserfromhell.nodes.external_link.ExternalLink'>\n"
     ]
    }
   ],
   "source": [
    "# Get both wikilinks and external links together in the same list\n",
    "wikilink_type = mwparserfromhell.nodes.wikilink.Wikilink\n",
    "external_link_type = mwparserfromhell.nodes.external_link.ExternalLink\n",
    "links = wikicode.filter(forcetype=(wikilink_type, external_link_type), recursive=False)\n",
    "for i, link in enumerate(links):\n",
    "    print i, link, type(link)"
   ]
  },
  {
   "cell_type": "markdown",
   "metadata": {},
   "source": [
    "Here we passed in a tuple of types (wikilink and external link) so we got a list of both wikilinks and external links together."
   ]
  },
  {
   "cell_type": "markdown",
   "metadata": {},
   "source": [
    "### Object Attributes\n",
    "\n",
    "Now we got all the parsed nodes, the next step is to get the value of each node."
   ]
  },
  {
   "cell_type": "code",
   "execution_count": 54,
   "metadata": {
    "collapsed": false
   },
   "outputs": [
    {
     "name": "stdout",
     "output_type": "stream",
     "text": [
      "0 Mac Macintosh\n",
      "1 None OS X El Capitan\n"
     ]
    }
   ],
   "source": [
    "# Get all wikilinks\n",
    "wikilinks = wikicode.filter(forcetype=(wikilink_type))\n",
    "for i, link in enumerate(wikilinks):\n",
    "    # title is the canonical name of the target page, text is the displayed text\n",
    "    print i, link.text, link.title"
   ]
  },
  {
   "cell_type": "code",
   "execution_count": 55,
   "metadata": {
    "collapsed": false
   },
   "outputs": [
    {
     "name": "stdout",
     "output_type": "stream",
     "text": [
      "0 Official website of Nogizaka46 http://www.nogizaka46.com\n"
     ]
    }
   ],
   "source": [
    "# Get all external links\n",
    "externallinks = wikicode.filter(forcetype=(external_link_type))\n",
    "for i, link in enumerate(externallinks):\n",
    "    # title is the displayed link text, url is ... the url\n",
    "    print i, link.title, link.url"
   ]
  },
  {
   "cell_type": "code",
   "execution_count": 56,
   "metadata": {
    "collapsed": false
   },
   "outputs": [
    {
     "name": "stdout",
     "output_type": "stream",
     "text": [
      "Infobox settlement\n",
      "\n",
      "name  :  {{raise|0.2em|Taipei}}\n",
      "\n",
      "official_name  :  Taipei City\n",
      "\n",
      "Taipei\n"
     ]
    }
   ],
   "source": [
    "# Get the first template\n",
    "template = templates[0]\n",
    "# Print template name\n",
    "print template.name\n",
    "# Print all the name and value of each parameter in this template\n",
    "for param in template.params:\n",
    "    print param.name, \":\", param.value\n",
    "    \n",
    "print template.params[0].value.filter_templates()[0].params[1].value\n",
    "# We can keep concatenating functions since all objects are wikicode objects"
   ]
  },
  {
   "cell_type": "markdown",
   "metadata": {
    "collapsed": true
   },
   "source": [
    "## Get a real Wikipedia page"
   ]
  },
  {
   "cell_type": "code",
   "execution_count": 57,
   "metadata": {
    "collapsed": false
   },
   "outputs": [
    {
     "name": "stdout",
     "output_type": "stream",
     "text": [
      "# of templates: 493\n",
      "# of wiki links: 911\n",
      "# of external links: 495\n"
     ]
    }
   ],
   "source": [
    "import requests\n",
    "import json\n",
    "\n",
    "r = requests.get(\"https://en.wikipedia.org/w/api.php?action=query&titles=Apple%20Inc.&prop=revisions&rvprop=content&format=json\")\n",
    "res = r.text\n",
    "obj = json.loads(res)\n",
    "page = obj['query']['pages'].keys()[0]\n",
    "content = obj['query']['pages'][page]['revisions'][0]['*']\n",
    "\n",
    "wiki = mwparserfromhell.parse(content, skip_style_tags=True)\n",
    "templates = wiki.filter(forcetype=template_type)\n",
    "wiki_links = wiki.filter(forcetype=wikilink_type)\n",
    "external_links = wiki.filter(forcetype=external_link_type)\n",
    "print \"# of templates:\", len(templates)\n",
    "print \"# of wiki links:\", len(wiki_links)\n",
    "print \"# of external links:\", len(external_links)"
   ]
  },
  {
   "cell_type": "markdown",
   "metadata": {
    "collapsed": true
   },
   "source": [
    "Because the source of a Wikipedia page consists of lots of mark-ups, if you want to get the content text only, you'll need to strip them out. Use ```strip_code()``` function to do this."
   ]
  },
  {
   "cell_type": "code",
   "execution_count": 58,
   "metadata": {
    "collapsed": false
   },
   "outputs": [
    {
     "name": "stdout",
     "output_type": "stream",
     "text": [
      "'''Apple Inc.''' is an American multinational technology company headquartered in Cupertino, California, that designs, develops, and sells consumer electronics, computer software, and online services. Its hardware products include the iPhone smartphone, the iPad tablet computer, the Mac personal computer, the iPod portable media player, the Apple Watch smartwatch, and the Apple TV digital media player. Apple's consumer software includes the macOS and iOS operating systems, the iTunes media player, the Safari web browser, and the iLife and iWork creativity and productivity suites. Its online services include the iTunes Store, the iOS App Store and Mac App Store, Apple Music, and iCloud.\n",
      "\n",
      "Apple was founded by Steve Jobs, Steve Wozniak, and Ronald Wayne in April 1976 to develop and sell personal computers. It was incorporated as '''Apple Computer, Inc.''' in January 1977, and was renamed as Apple Inc. in January 2007 to reflect its shifted focus toward consumer electronics. Apple () joined the Dow Jones Industrial Average in March 2015.\n",
      "\n",
      "Apple is the world's largest information technology company by revenue, the world's largest technology company by total assets, and the world's second-largest mobile phone manufacturer. In November 2014, in addition to being the largest publicly traded corporation in the world by market capitalization, Apple became the first U.S. company to be valued at over US$700 billion. The company employs 115,000 permanent full-time employees  and maintains 478 retail stores in seventeen countries . It operates the online Apple Store and iTunes Store, the latter of which is the world's largest music retailer. There are over one billion actively used Apple products worldwide .\n",
      "\n",
      "Apple's worldwide annual revenue totaled $233 billion for the fiscal year ending in September 2015. This revenue generation accounts for approximately 1.25% of the total United States GDP.  The company enjoys a high level of brand loyalty and, according to Interbrand's annual Best Global Brands report, has been the world's most valuable brand for 4 years in a row, with a valuation in 2016 of $178.1 billion. The corporation receives significant criticism regarding the labor practices of its contractors and its environmental and business practices, including the origins of source materials.\n",
      "\n",
      "In August 2016, after a three-year investigation by the EU's competition commissioner that concluded that Apple received \"illegal state aid\" from Ireland, the EU ordered Apple to pay 13 billion euros ($14.5 billion), plus interest, in unpaid taxes.\n",
      "\n",
      "History\n",
      "\n",
      "1976–84: Founding and incorporation\n",
      "thumb|right|Home of Paul and Clara Jobs, on Crist Drive in Los Altos, California. Steve Jobs formed Apple Computer in its garage with Steve Wozniak and Ronald Wayne in 1976.|alt=Home of Paul and Clara Jobs, on Crist Drive in Los Altos, California.\n",
      "thumb|left|The Apple I, Apple's first product, was sold as an assembled circuit board and lacked basic features such as a keyboard, monitor, and case. The owner of this unit added a keyboard and a wooden case.\n",
      "thumb|left|The Apple II, introduced in 1977, was a major technological advancement over its predecessor.\n",
      "\n",
      "Apple was established on April 1, 1976, by Steve Jobs, Steve Wozniak and Ronald Wayne to sell the Apple I personal computer kit. The Apple I kits were computers single-handedly designed and hand-built by Wozniak\"A Chat with Computing Pioneer Steve Wozniak\", National Public Radio, September 29, 2006. and first shown to the public at the Homebrew Computer Club.Wozniak, Stephen. \"Homebrew and How the Apple Came to Be\", ''Digital Deli''. Retrieved March 2, 2007. The Apple I was sold as a motherboard (with CPU, RAM, and basic textual-video chips), which was less than what is now considered a complete personal computer.Kahney, Leander. Rebuilding an Apple From the Past, ''Wired'', November 19, 2002.   The Apple I went on sale in July 1976 and was market-priced at $666.66 ($ in  dollars, adjusted for inflation).Game Makers (TV Show): Apple II. Originally aired January 6, 2005.Wozniak, Steven. \"iWoz\", p. 180. W. W. Norton, 2006. ISBN 978-0-393-06143-7\n",
      "\n",
      "Apple was incorporated January 3, 1977,Apple Investor Relations FAQ, Apple inc. Retrieved March 2, 2007. without Wayne, who sold his share of the company back to Jobs and Wozniak for $800. Multimillionaire Mike Markkula provided essential business expertise and funding of $250,000 during the incorporation of Apple. During the first five years of operations revenues grew exponentially, doubling about every four months. Between September 1977 and September 1980 yearly sales grew from $775,000 to $118m, an average annual growth rate of 533%.''Infinite Loop'', Malone, p157\n",
      "\n",
      "The Apple II, also invented by Wozniak, was introduced on April 16, 1977, at the first West Coast Computer Faire. It differed from its major rivals, the TRS-80 and Commodore PET, because of its character cell-based color graphics and open architecture. While early Apple II models used ordinary cassette tapes as storage devices, they were superseded by the introduction of a 5 1/4 inch floppy disk drive and interface called the Disk II. The Apple II was chosen to be the desktop platform for the first \"killer app\" of the business world: VisiCalc, a spreadsheet program.Hormby, Thomas. VisiCalc and the rise of the Apple II, ''Low End Mac'', September 22, 2006. Retrieved March 2, 2007. VisiCalc created a business market for the Apple II and gave home users an additional reason to buy an Apple II: compatibility with the office. Before VisiCalc, Apple had been a distant third place competitor to Commodore and Tandy.Personal Computer Market Share: 1975–2004  The figures show Mac higher, but that is not a single model.\n",
      "\n",
      "By the end of the 1970s, Apple had a staff of computer designers and a production line. The company introduced the Apple III in May 1980 in an attempt to compete with IBM and Microsoft in the business and corporate computing market.LEM Staff. \"Apple III Chaos: What Happened When Apple Tried to Enter the Business Market\". ''Low End Mac''. September 1, 2006. Retrieved March 2, 2007. Jobs and several Apple employees, including Jef Raskin, visited Xerox PARC in December 1979 to see the Xerox Alto. Xerox granted Apple engineers three days of access to the PARC facilities in return for the option to buy 100,000 shares (800,000 split-adjusted shares) of Apple at the pre-IPO price of $10 a share.\n",
      "\n",
      "Jobs was immediately convinced that all future computers would use a graphical user interface (GUI), and development of a GUI began for the Apple Lisa. In 1982, however, he was pushed from the Lisa team due to infighting. Jobs took over Jef Raskin's low-cost-computer project, the Macintosh. A race broke out between the Lisa team and the Macintosh team over which product would ship first. Lisa won the race in 1983 and became the first personal computer sold to the public with a GUI, but was a commercial failure due to its high price tag and limited software titles.Hormby, Thomas. A history of Apple's Lisa, 1979–1986, ''Low End Mac'', October 6, 2005. Retrieved March 2, 2007.\n",
      "\n",
      "On December 12, 1980, Apple went public at $22 per share, generating more capital than any IPO since Ford Motor Company in 1956 and instantly creating more millionaires (about 300) than any company in history.Malone, Michael S. ''Infinite Loop''. ISBN 978-1-85410-638-4\n",
      "\n",
      "1984–91: Success with Macintosh\n",
      "\n",
      "thumb|right|The first Macintosh, released in 1984, was the first mass-market personal computer featuring an integral graphical user interface and mouse.\n",
      "In 1984, Apple launched the Macintosh, the first personal computer to be sold without a programming language at all.Brian Harvey (1994): Is Programing Obsolete?, Electrical Engineering and Computer Sciences, University of California, Berkeley, accessed, and archived June 14, 2013 by WebCite at http://www.webcitation.org/6HMvs40Qe Its debut was signified by \"1984\", a $1.5 million television commercial directed by Ridley Scott that aired during the third quarter of Super Bowl XVIII on January 22, 1984. The commercial is now hailed as a watershed event for Apple's success and a \"masterpiece\".\n",
      "\n",
      "The Macintosh initially sold well, but follow-up sales were not strongHormby, Thomas. Good-bye Woz and Jobs: How the first Apple era ended in 1985, ''Low End Mac'', October 2, 2006. Retrieved March 2, 2007. due to its high price and limited range of software titles. The machine's fortunes changed with the introduction of the LaserWriter, the first PostScript laser printer to be sold at a reasonable price, and PageMaker, an early desktop publishing package. It has been suggested that the combination of these three products were responsible for the creation of the desktop publishing market. The Macintosh was particularly powerful in the desktop publishing market due to its advanced graphics capabilities, which had necessarily been built in to create the intuitive Macintosh GUI.\n",
      "\n",
      "In 1985, a power struggle developed between Jobs and CEO John Sculley, who had been hired two years earlier.Hormby, Thomas. Growing Apple with the Macintosh: The Sculley years, ''Low End Mac'', February 22, 2006. Retrieved March 2, 2007. The Apple board of directors instructed Sculley to \"contain\" Jobs and limit his ability to launch expensive forays into untested products. Rather than submit to Sculley's direction, Jobs attempted to oust him from his leadership role at Apple. Sculley found out that Jobs had been attempting to organize a coup and called a board meeting at which Apple's board of directors sided with Sculley and removed Jobs from his managerial duties. Jobs resigned from Apple and founded NeXT Inc. the same year.\n",
      "\n",
      "thumb|left|The Macintosh Portable, released in 1989, was Apple's first battery-powered portable Macintosh personal computer.\n",
      "After Jobs' departure, the Macintosh product line underwent a steady change of focus to higher price points, the so-called \"high-right policy\" named for the position on a chart of price vs. profits. Jobs had argued the company should produce products aimed at the consumer market and aimed for a $1000 price for the Macintosh, which they were unable to meet. Newer models selling at higher price points offered higher profit margin, and appeared to have no effect on total sales as power users snapped up every increase in power. Although some worried about pricing themselves out of the market, the high-right policy was in full force by the mid-1980s, notably due to Jean-Louis Gassée's mantra of \"fifty-five or die\", referring to the 55% profit margins of the Macintosh II.\n",
      "\n",
      "This policy began to backfire in the last years of the decade as new desktop publishing programs appeared on PC clones that offered some or much of the same functionality of the Macintosh but at far lower price points. The company lost its monopoly in this market, and had already estranged many of its original consumer customer base who could no longer afford their high priced products. The Christmas season of 1989 was the first in the company's history that saw declining sales, and led to a 20% drop in Apple's stock price. Gassée's objections were overruled, and he was forced from the company in 1990. Later that year, Apple introduced three lower cost models, the Macintosh Classic, Macintosh LC and Macintosh IIsi, all of which saw significant sales due to pent up demand.\n",
      "\n",
      "In 1991, Apple introduced the PowerBook, replacing the \"luggable\" Macintosh Portable with a design that set the current shape for almost all modern laptops. The same year, Apple introduced System 7, a major upgrade to the operating system which added color to the interface and introduced new networking capabilities. It remained the architectural basis for the Classic Mac OS. The success of the PowerBook and other products brought increasing revenue. For some time, Apple was doing incredibly well, introducing fresh new products and generating increasing profits in the process. The magazine ''MacAddict'' named the period between 1989 and 1991 as the \"first golden age\" of the Macintosh.\n",
      "\n",
      "Apple believed the Apple II series was too expensive to produce and took away sales from the low-end Macintosh. In 1990, Apple released the Macintosh LC, which featured a single expansion slot for the Apple IIe Card to help migrate Apple II users to the Macintosh platform; the Apple IIe was discontinued in 1993.\n",
      "\n",
      "1991–97: Decline, restructuring, acquisitions\n",
      "\n",
      "thumb|right|The Penlite was Apple's first attempt at a tablet computer. Created in 1992, the project was designed to bring the Mac OS to a touchscreen display - but was shelved in favor of the Newton.\n",
      "The success of Apple's lower-cost consumer models, especially the LC, also led to cannibalization of their higher priced machines. To address this, management introduced several new brands, selling largely identical machines at different price points aimed at different markets. These were the high-end Quadra, the mid-range Centris line, and the ill-fated Performa series. This led to significant market confusion, as customers did not understand the difference between models.\n",
      "\n",
      "Apple also experimented with a number of other unsuccessful consumer targeted products during the 1990s, including digital cameras, portable CD audio players, speakers, video consoles, the eWorld online service, and TV appliances. Enormous resources were also invested in the problem-plagued Newton division based on John Sculley's unrealistic market forecasts. Ultimately, none of these products helped and Apple's market share and stock prices continued to slide.\n",
      "\n",
      "Throughout this period, Microsoft continued to gain market share with Windows by focusing on delivering software to cheap commodity personal computers, while Apple was delivering a richly engineered but expensive experience. Apple relied on high profit margins and never developed a clear response; instead, they sued Microsoft for using a GUI similar to the Apple Lisa in ''Apple Computer, Inc. v. Microsoft Corp.''.Hormby, Thomas. The Apple vs. Microsoft GUI lawsuit, ''Low End Mac'', August 25, 2006. Retrieved March 2, 2007. The lawsuit dragged on for years before it was finally dismissed. At this time, a series of major product flops and missed deadlines sullied Apple's reputation, and Sculley was replaced as CEO by Michael Spindler.\n",
      "\n",
      "thumb|left|The Newton was Apple's first foray into the PDA markets, as well as one of the first in the industry. Despite being a financial flop at the time of its release, it helped pave the way for the PalmPilot and Apple's own iPhone and iPad in the future.\n",
      "\n",
      "By the early 1990s, Apple was developing alternative platforms to the Macintosh, such as A/UX. The Macintosh platform itself was becoming outdated because it was not built for multitasking and because several important software routines were programmed directly into the hardware. In addition, Apple was facing competition from OS/2 and UNIX vendors such as Sun Microsystems. The Macintosh would need to be replaced by a new platform or reworked to run on more powerful hardware.\n",
      "\n",
      "In 1994, Apple allied with IBM and Motorola in the AIM alliance with the goal of creating a new computing platform (the PowerPC Reference Platform), which would use IBM and Motorola hardware coupled with Apple software. The AIM alliance hoped that PReP's performance and Apple's software would leave the PC far behind and thus counter Microsoft. The same year, Apple introduced the Power Macintosh, the first of many Apple computers to use Motorola's PowerPC processor.\n",
      "\n",
      "In 1996, Spindler was replaced by Gil Amelio as CEO. Amelio made numerous changes at Apple, including extensive layoffs and cut costs.Chaffin, Bryan. \"Former Apple CEO Gil Amelio Lands A New CEO Job | The Mac Observer\", The Mac Observer, February 6, 2001. Retrieved August 15, 2008. After numerous failed attempts to improve Mac OS, first with the Taligent project and later with Copland and Gershwin, Amelio chose to purchase NeXT and its NeXTSTEP operating system and bring Steve Jobs back to Apple.\n",
      "\n",
      "1997–2007: Return to profitability\n",
      " \n",
      "The NeXT deal was finalized on February 9, 1997,, ''Apple Inc.'', February 7, 1997. Retrieved June 25, 2006. bringing Jobs back to Apple as an advisor. On July 9, 1997, Amelio was ousted by the board of directors after overseeing a three-year record-low stock price and crippling financial losses. Jobs acted as the interim CEO and began restructuring the company's product line; it was during this period that he identified the design talent of Jonathan Ive, and the pair worked collaboratively to rebuild Apple's status.\n",
      "\n",
      "At the 1997 Macworld Expo, Jobs announced that Apple would join Microsoft to release new versions of Microsoft Office for the Macintosh, and that Microsoft had made a $150 million investment in non-voting Apple stock.Microsoft and Apple Affirm Commitment to Build Next Generation Software for Macintosh ''Microsoft Corp.'', August 6, 1997. On November 10, 1997, Apple introduced the Apple Online Store, which was tied to a new build-to-order manufacturing strategy.\n",
      "\n",
      "On August 15, 1998, Apple introduced a new all-in-one computer reminiscent of the Macintosh 128K: the iMac. The iMac design team was led by Ive, who would later design the iPod and the iPhone.Grossman, Lev. The Apple Of Your Ear, ''Time'', January 12, 2007. Retrieved February 1, 2007.Wilson, Greg. Private iCreator is genius behind Apple's polish, ''New York Daily News'', January 14, 2007. Retrieved February 1, 2007. The iMac featured modern technology and a unique design, and sold almost 800,000 units in its first five months.\n",
      "\n",
      "During this period, Apple completed numerous acquisitions to create a portfolio of digital production software for both professionals and consumers. In 1998, Apple purchased Macromedia's Key Grip software project, signaling an expansion into the digital video editing market. The sale was an outcome of Macromedia's decision to solely focus upon web development software. The product, still unfinished at the time of the sale, was renamed \"Final Cut Pro\" when it was launched on the retail market in April 1999. The development of Key Grip also led to Apple's release of the consumer video-editing product iMovie in October 1999. Next, Apple successfully acquired the German company Astarte, which had developed DVD authoring technology, as well as Astarte's corresponding products and engineering team in April 2000. Astarte's digital tool DVDirector was subsequently transformed into the professional-oriented DVD Studio Pro software product. Apple then employed the same technology to create iDVD for the consumer market. In 2002, Apple purchased Nothing Real for their advanced digital compositing application Shake,Chaffin, Bryan. \"Apple Shake: Apple Buys Nothing Real, A High End Compositing Software Maker\", ''The Mac Observer'', February 7, 2002. Retrieved August 15, 2008. as well as Emagic for the music productivity application Logic. The purchase of Emagic made Apple the first computer manufacturer to own a music software company. The acquisition was followed by the development of Apple's consumer-level GarageBand application.Deitrich, Andy. Garage Band: Part 1, ars technica, February 2, 2004. Retrieved August 15, 2008. The release of iPhoto in the same year completed the iLife suite.Apple Introduces iPhoto, Apple Inc., January 7, 2002. Retrieved August 15, 2008.\n",
      "\n",
      "Mac OS X, based on NeXT's OPENSTEP and BSD Unix, was released on March 24, 2001 after several years of development. Aimed at consumers and professionals alike, Mac OS X aimed to combine the stability, reliability and security of Unix with the ease of use afforded by an overhauled user interface. To aid users in migrating from Mac OS 9, the new operating system allowed the use of OS 9 applications within Mac OS X via the Classic Environment.\n",
      "\n",
      "On May 19, 2001, Apple opened the first official Apple Retail Stores in Virginia and California. On October 23 of the same year, Apple debuted the iPod portable digital audio player. The product, which was first sold on November 10, 2001, was phenomenally successful with over 100 million units sold within six years.Apple enjoys ongoing iPod demand, ''BBC News'', January 18, 2006. Retrieved April 27, 2007.Cantrell, Amanda. Apple's remarkable comeback story, ''CNN'', March 29, 2006. Retrieved March 2, 2007. In 2003, Apple's iTunes Store was introduced. The service offered online music downloads for $0.99 a song and integration with the iPod. The iTunes store quickly became the market leader in online music services, with over 5 billion downloads by June 19, 2008.iTunes Store Tops Five Billion Songs, ''Apple Inc.'', June 19, 2008. Retrieved September 3, 2008.\n",
      "\n",
      "thumb|left|The MacBook Pro, Apple's first laptop with an Intel microprocessor, introduced in January 2006.\n",
      "At the Worldwide Developers Conference keynote address on June 6, 2005, Jobs announced that Apple would begin producing Intel-based Mac computers in 2006.Apple to Use Intel Microprocessors Beginning in 2006, ''Apple Inc.'', June 6, 2005. Retrieved March 2, 2007. On January 10, 2006, the new MacBook Pro and iMac became the first Apple computers to use Intel's Core Duo CPU. By August 7, 2006, Apple made the transition to Intel chips for the entire Mac product line—over one year sooner than announced. The Power Mac, iBook and PowerBook brands were retired during the transition; the Mac Pro, MacBook, and MacBook Pro became their respective successors. On April 29, 2009, ''The Wall Street Journal'' reported that Apple was building its own team of engineers to design microchips. Apple also introduced Boot Camp in 2006 to help users install Windows XP or Windows Vista on their Intel Macs alongside Mac OS X.\n",
      "\n",
      "Apple's success during this period was evident in its stock price. Between early 2003 and 2006, the price of Apple's stock increased more than tenfold, from around $6 per share (split-adjusted) to over $80. In January 2006, Apple's market cap surpassed that of Dell.Gamet, Jeff. Apple Passes Dell's Market Cap, ''MacObserver'', January 16, 2006. Retrieved March 2, 2007. Nine years prior, Dell's CEO Michael Dell had said that if he ran Apple he would \"shut it down and give the money back to the shareholders.\"Singh, Jal. Dell: Apple should close shop, ''CNET News'', October 6, 1997. Retrieved March 2, 2007. Although Apple's market share in computers had grown, it remained far behind competitors using Microsoft Windows, accounting for about 8% of desktops and laptops in the US.\n",
      "\n",
      "Since 2001, Apple's design team has progressively abandoned the use of translucent colored plastics first used in the iMac G3. This design change began with the titanium-made PowerBook and was followed by the iBook's white polycarbonate structure and the flat-panel iMac.\"Apple revamps iBook. Network World (May, 2001)\", Network World, May 2, 2001. Retrieved August 19, 2008. Magee, Mike. \"iMac \"All-in-One\" is a trinity\", ''The Inquirer'', January 26, 2002. Retrieved August 19, 2008.\n",
      "\n",
      "2007–11: Success with mobile devices\n",
      "thumb|200px|A fifth generation iPod, one of Jonathan Ive's most recognized industrial designs. iPod has been phenomenally successful with over 390 million units sold worldwide.\n",
      "\n",
      "During his keynote speech at the Macworld Expo on January 9, 2007, Jobs announced that Apple Computer, Inc. would thereafter be known as \"Apple Inc.\", because the company had shifted its emphasis from computers to consumer electronics. This event also saw the announcement of the iPhone and the Apple TV. The following day, Apple shares hit $97.80, an all-time high at that point. In May, Apple's share price passed the $100 mark.AAPL surges past $100, target at $140, ''MacNN'', April 26, 2007. Retrieved July 10, 2007. Apple would achieve widespread success with its iPhone, iPod Touch and iPad products, which introduced innovations in mobile phones, portable music players and personal computers respectively. Furthermore, by early 2007, 800,000 Final Cut Pro users were registered.\n",
      "\n",
      "In an article posted on Apple's website on February 6, 2007, Jobs wrote that Apple would be willing to sell music on the iTunes Store without digital rights management (DRM), thereby allowing tracks to be played on third-party players, if record labels would agree to drop the technology. On April 2, 2007, Apple and EMI jointly announced the removal of DRM technology from EMI's catalog in the iTunes Store, effective in May 2007. Other record labels eventually followed suit and Apple published a press release in January 2009 to announce the corresponding changes to the iTunes Store.\n",
      "\n",
      "In July 2008, Apple launched the App Store to sell third-party applications for the iPhone and iPod Touch.Flandez, Raymund. \"Programmers Jockey for iPhone Users at Apple Site\", ''The Wall Street Journal''. Retrieved August 16, 2008. Within a month, the store sold 60 million applications and registered an average daily revenue of $1 million, with Jobs speculating in August 2008 that the App Store could become a billion-dollar business for Apple. By October 2008, Apple was the third-largest mobile handset supplier in the world due to the popularity of the iPhone.\n",
      "\n",
      "On December 16, 2008, Apple announced that 2009 would be the last year the corporation would attend the Macworld Expo, after more than 20 years of attendance, and that senior vice president of Worldwide Product Marketing Philip Schiller would deliver the 2009 keynote address in lieu of the expected Jobs. The official press release explained that Apple was \"scaling back\" on trade shows in general, including Macworld Tokyo and the Apple Expo in Paris, France, primarily because the enormous successes of the Apple Retail Stores and website had rendered trade shows a minor promotional channel.\n",
      "\n",
      "On January 14, 2009, an internal memo from Jobs announced that he would be taking a six-month medical leave of absence from Apple until the end of June 2009 and would spend the time focusing on his health. In the email, Jobs stated that \"the curiosity over my personal health continues to be a distraction not only for me and my family, but everyone else at Apple as well\", and explained that the break would allow the company \"to focus on delivering extraordinary products\". Despite Jobs's absence, Apple recorded its best non-holiday quarter (Q1 FY 2009) during the recession with revenue of $8.16 billion and profit of $1.21 billion.\n",
      "\n",
      "After years of speculation and multiple rumored \"leaks\", Apple announced a large screen, tablet-like media device known as the iPad on January 27, 2010. The iPad ran the same touch-based operating system as the iPhone, and many iPhone apps were compatible with the iPad. This gave the iPad a large app catalog on launch, despite very little development time before the release. Later that year on April 3, 2010, the iPad was launched in the US. It sold more than 300,000 units on its first day, and 500,000 by the end of the first week. In May of the same year, Apple's market cap exceeded that of competitor Microsoft for the first time since 1989.\n",
      "\n",
      "In June 2010, Apple released the iPhone 4, which introduced video calling, multitasking, and a new uninsulated stainless steel design that acted as the phone's antenna. Later that year, Apple again refreshed its iPod line of MP3 players by introducing a multi-touch iPod Nano, an iPod Touch with FaceTime, and an iPod Shuffle that brought back the buttons of earlier generations. Additionally, on October 20, Apple updated the MacBook Air laptop, iLife suite of applications, and unveiled Mac OS X Lion, the last version with the name ''Mac OS X''.\n",
      "\n",
      "In October 2010, Apple shares hit an all-time high, eclipsing $300.\n",
      "\n",
      "thumb|Apple Store in Yonkers, New York\n",
      "On January 6, 2011, the company opened its Mac App Store, a digital software distribution platform similar to the iOS App Store.\n",
      "\n",
      "Alongside peer entities such as Atari and Cisco Systems, Apple was featured in the documentary ''Something Ventured'' which premiered in 2011 and explored the three-decade era that led to the establishment and dominance of Silicon Valley.\n",
      "\n",
      "On January 17, 2011, Jobs announced in an internal Apple memo that he would take another medical leave of absence, for an indefinite period, to allow him to focus on his health. Chief operating officer Tim Cook assumed Jobs's day-to-day operations at Apple, although Jobs would still remain \"involved in major strategic decisions\". Apple became the most valuable consumer-facing brand in the world. In June 2011, Jobs surprisingly took the stage and unveiled iCloud, an online storage and syncing service for music, photos, files and software which replaced MobileMe, Apple's previous attempt at content syncing.Helft, Miguel. \"Apple Unveils ‘Cloud’ Music and Storage Service\". ''The New York Times''. June 6, 2011. Retrieved June 7, 2011.\n",
      "\n",
      "This would be the last product launch Jobs would attend before his death. It has been argued that Apple has achieved such efficiency in its supply chain that the company operates as a monopsony (one buyer, many sellers) and can dictate terms to its suppliers. In July 2011, due to the American debt-ceiling crisis, Apple's financial reserves were briefly larger than those of the U.S. Government.\n",
      "\n",
      "On August 24, 2011, Jobs resigned his position as CEO of Apple. He was replaced by Cook and Jobs became Apple's chairman. Prior to this, Apple did not have a chairman and instead had two co-lead directors, Andrea Jung and Arthur D. Levinson, who continued with those titles until Levinson became Chairman of the Board in November.\n",
      "\n",
      "2011–present: Post-Steve Jobs era; Tim Cook leadership\n",
      "On October 5, 2011, Apple announced that Steve Jobs had died, marking the end of an era for Apple. The first major product announcement by Apple following Jobs's passing occurred on January 19, 2012, when Apple's Phil Schiller introduced iBooks Textbooks for iOS and iBook Author for Mac OS X in New York City. Jobs had stated in his biography that he wanted to reinvent the textbook industry and education.\n",
      "\n",
      "From 2011 to 2012, Apple released the iPhone 4S and iPhone 5, which featured improved cameras, an \"intelligent software assistant\" named Siri, and cloud-sourced data with iCloud; the third and fourth generation iPads, which featured Retina displays; and the iPad Mini, which featured a 7.9-inch screen in contrast to the iPad's 9.7-inch screen. These launches were successful, with the iPhone 5 (released September 21, 2012) becoming Apple's biggest iPhone launch with over 2 million pre-orders and sales of 3 million iPads in three days following the launch of the iPad Mini and fourth generation iPad (released November 3, 2012).\"Apple Sells Three Million iPads in Three Days\". Apple.com. November 5, 2012. Retrieved February 22, 2013. Apple also released a third-generation 13-inch MacBook Pro with a Retina display and new iMac and Mac Mini computers.\n",
      "\n",
      "On October 29, 2011, Apple purchased C3 Technologies, a mapping company, for $240 million, making it the third mapping company that Apple has purchased. On January 10, 2012, Apple paid $500 million to acquire Anobit, an Israeli hardware company that developed and supplied a proprietary memory signal processing technology that improved the performance of the flash-memory used in iPhones and iPads.\"Apple buys Israeli technology firm Anobit\". Reuters. January 11, 2012. Retrieved February 7, 2013. On July 24, 2012, during a conference call with investors, Tim Cook said that he loved India, but that Apple was going to expect larger opportunities outside of India. Cook cited the 30% sourcing requirement from India as the reason.Apple CEO Tim Cook: \"I love India, but...\", NDTV Gadgets, July 25, 2012.\"We love India, just not enough: Apple CEO Tim Cook\", Firstpost.com\n",
      "\n",
      "On August 20, 2012, Apple's rising stock rose the company's value to a world-record $624 billion. This beat the non-inflation-adjusted record for market capitalization set by Microsoft in 1999. On August 24, 2012, a US jury ruled that Samsung should pay Apple $1.05 billion (£665m) in damages in an intellectual property lawsuit. Samsung appealed the damages award, which the Court reduced by $450 million. The Court further granted Samsung's request for a new trial. On November 10, 2012, Apple confirmed a global settlement that would dismiss all lawsuits between Apple and HTC up to that date, in favor of a ten-year license agreement for current and future patents between the two companies.\"HTC and Apple Settle Patent Dispute\". Apple.com. November 10, 2012. Retrieved February 22, 2013. It is predicted that Apple will make $280 million a year from this deal with HTC.\"Apple predicted to generate up to $280 million a year in HTC deal\". CNET. November 12, 2012. Retrieved February 7, 2013.\n",
      "\n",
      "A previously confidential email written by Jobs a year before his death, was presented during the proceedings of the ''Apple Inc. v. Samsung Electronics Co.'' lawsuits and became publicly available in early April 2014. With a subject line that reads \"Top 100 – A,\" the email was sent only to the company's 100 most senior employees and outlines Jobs's vision of Apple Inc.'s future under 10 subheadings. Notably, Jobs declares a \"Holy War with Google\" for 2011 and schedules a \"new campus\" for 2015.\n",
      "\n",
      "In March 2013, Apple filed a patent for an augmented reality (AR) system that can identify objects in a live video stream and present information corresponding to these objects through a computer-generated information layer overlaid on top of the real-world image. Later in 2013, Apple acquired Embark Inc., a small Silicon Valley-based mapping company that builds free transit apps to help smartphone users navigate public transportation in U.S. cities, and PrimeSense, an Israeli 3D sensing company based in Tel Aviv. In December 2013, Apple Inc. purchased social analytics firm Topsy. Topsy is one of a small number of firms with real-time access to the messages that appear on Twitter and can \"do real-time analysis of the trends and discussions happening on Twitter\". The company also made several high-profile hiring decisions in 2013. On July 2, 2013, Apple recruited Paul Deneve, Belgian President and CEO of Yves Saint Laurent as a vice president reporting directly to Tim Cook. A mid-October 2013 announcement revealed that Burberry executive Angela Ahrendts will commence as a senior vice president at Apple in mid-2014. Ahrendts oversaw Burberry's digital strategy for almost eight years and, during her tenure, sales increased to about US$3.2 billion and shares gained more than threefold.\n",
      "\n",
      "At the Worldwide Developer's Conference on June 10, 2013, Apple announced the seventh iOS operating system alongside OS X Mavericks, the tenth version of OS X, and a new Internet radio service called iTunes Radio. iTunes Radio, iOS 7 and OS X Mavericks were released fall 2013. On December 6, 2013, Apple Inc. launched iBeacon across its 254 U.S. retail stores. Using Bluetooth wireless technology, iBeacon senses the user's exact location within the Apple store and sends the user messages about products, events and other information, tailored to the user's location.By Barbara Ortutay, The Associated Press.\"/ APPLE GUIDES SHOPPERS INSIDE STORES WITH IBEACON .\"December 6, 2013. Retrieved December 6, 2013.\n",
      "\n",
      "Alongside Google vice-president Vint Cerf and AT&T CEO Randall Stephenson, Cook attended a closed-door summit held by President Obama on August 8, 2013, in regard to government surveillance and the Internet in the wake of the Edward Snowden NSA incident. On February 4, 2014, Cook met with Abdullah Gül, the President of Turkey, in Ankara to discuss the company's involvement in the Fatih project. Cook also confirmed that Turkey's first Apple Retail Store would be opened in Istanbul in April 2014.\n",
      "\n",
      "An anonymous Apple employee revealed to the ''Bloomberg'' media publication that the opening of a Tokyo, Japan, store was planned for 2014. A Japanese analyst has stated, \"For Apple, the Japanese market is appealing in terms of quantity and price. There is room to expand tablet sales and a possibility the Japanese market expands if Apple’s mobile carrier partners increase.\" , Apple operated three stores in Tokyo. On October 1, 2013, Apple India executives unveiled a plan to expand further into the Indian market, following Cook's acknowledgment of the country in July 2013 when sales results showed that iPhone sales in India grew 400% during the second quarter of 2013.\n",
      "\n",
      "Apple Inc. reported that the company sold 51 million iPhones in the Q1 of 2014 (an all-time quarterly record), compared to 47.8 million in the year-ago quarter. Apple also sold 26 million iPads during the quarter, also an all-time quarterly record, compared to 22.9 million in the year-ago quarter. The Company sold 4.8 million Macs, compared to 4.1 million in the year-ago quarter. On May 28, 2014, Apple confirmed its intent to acquire Dr. Dre and Jimmy Iovine's audio company Beats Electronics—producer of the ''Beats by Dr. Dre'' line of headphones and speaker products, and operator of the music streaming service Beats Music—for $3 billion, and to sell their products through Apple's retail outlets and resellers. Iovine felt that Beats had always \"belonged\" with Apple, as the company modeled itself after Apple's \"unmatched ability to marry culture and technology.\" In August 2014, an Apple representative confirmed to the media that Anand Lal Shimpi, editor and publisher of the ''AnandTech'' website, had been recruited by Apple without elaborating on Lal Shimpi's role.\n",
      "\n",
      "Apple has been at the top of Interbrand's annual Best Global Brands report for 4 years in a row; 2013, 2014, 2015, and 2016, with a valuation of $178.1 billion.\n",
      "\n",
      "In December 2015, Apple bought a 70,000 square foot wafer fab building in San Jose, CA from Maxim Integrated for $18.2 million.By Peter Clarke, EE Times. “Apple Buys Wafer Fab in San Jose.” December 16, 2015. Retrieved August 25, 2016.\n",
      "\n",
      "In 2016, it was revealed that Apple would be making its first original scripted series, a six-episode drama about the life of Dr. Dre. Music Video director Paul Hunter will direct the series.\n",
      "\n",
      "On May 12, 2016, Apple Inc., invested $1 billion USD in Didi Chuxing, a Chinese competitor to Uber. ''The Information'' reported in October 2016 that Apple had taken a board seat in Didi Chuxing, a move that James Vincent of ''The Verge'' speculated could be a strategic company decision by Apple to get closer to the automobile industry, particularly Didi Chuxing's reported interest in self-driving cars.\n",
      "\n",
      "On June 6, 2016, Forbes released their list of companies ranked on revenue generation.  In the trailing fiscal year, Apple appeared on the list as the top tech company. It ranked third, overall, with $233 billion in revenue. This represents a movement upward of two spots from the previous year's list.\n",
      "\n",
      "On September 22, 2016, Apple Inc. acquired Tuplejump, an India/US-based machine learning company.\n",
      "\n",
      "Products\n",
      "\n",
      "Mac\n",
      "\n",
      "Macs that are currently being sold are:\n",
      " MacBook: Consumer ultra-thin, ultra-portable notebook, introduced in 2006 and relaunched in 2015.\n",
      " MacBook Air: Consumer ultra-thin, ultra-portable notebook, introduced in 2008.\n",
      " MacBook Pro: Professional notebook, introduced in 2006.\n",
      " Mac Mini: Consumer sub-desktop computer, introduced in 2005.\n",
      " iMac: Consumer all-in one desktop computer, introduced in 1998.\n",
      " Mac Pro: Workstation desktop computer, introduced in 2006.\n",
      "\n",
      "Apple sells a variety of computer accessories for Macs, including Thunderbolt Display, Magic Mouse, Magic Trackpad, Magic Keyboard, the AirPort wireless networking products, and Time Capsule.\n",
      "\n",
      "iPod\n",
      "\n",
      "thumb|iPod line . From left to right: iPod Shuffle, iPod Nano, iPod Touch.\n",
      "\n",
      "On October 23, 2001, Apple introduced the iPod digital music player. Several updated models have since been introduced, and the iPod brand is now the market leader in portable music players by a significant margin. More than 350 million units have shipped . Apple has partnered with Nike to offer the Nike+iPod Sports Kit, enabling runners to synchronize and monitor their runs with iTunes and the Nike+ website.\n",
      "\n",
      "Apple currently sells three variants of the iPod:\n",
      " iPod Shuffle: Ultra-portable digital audio player, currently available in a 2 GB model, introduced in 2005.\n",
      " iPod Nano: Portable media player, currently available in a 16 GB model, introduced in 2005. Earlier models featured the traditional iPod click wheel, but the current generation features a multi-touch interface and includes an FM radio and a pedometer.\n",
      " iPod Touch: Portable media player that runs iOS and is currently available in 16, 32, 64, and 128 GB models, introduced in 2007. The current generation features the Apple A8 processor, a Retina display, Siri and dual cameras on the front (1.2 megapixel sensor) and back (8 megapixel iSight). The latter camera supports HD video recording at 1080p and slow motion video at 120fps in 720p.\n",
      "\n",
      "iPhone\n",
      "\n",
      "thumb|150px|The first-generation iPhone, 3G, 4, 5, 5C and 5S to scale.\n",
      "\n",
      "At the Macworld Conference & Expo in January 2007, Steve Jobs introduced the long-anticipatedApple's Chief in the Risky Land of the Handhelds ''The New York Times'' iPhone, a convergence of an Internet-enabled smartphone and iPod. The first-generation iPhone was released on June 29, 2007 for $499 (4 GB) and $599 (8 GB) with an AT&T contract. On February 5, 2008, it was updated to have 16 GB of memory, in addition to the 8 GB and 4 GB models. It combined a 2.5G quad band GSM and EDGE cellular phone with features found in handheld devices, running scaled-down versions of Apple's Mac OS X (dubbed iPhone OS, later renamed iOS), with various Mac OS X applications such as Safari and Mail. It also includes web-based and Dashboard apps such as Google Maps and Weather. The iPhone features a  touchscreen display, Bluetooth, and Wi-Fi (both \"b\" and \"g\").\n",
      "\n",
      "A second version, the iPhone 3G, was released on July 11, 2008 with a reduced price of $199 for the 8 GB version and $299 for the 16 GB version. This version added support for 3G networking and assisted-GPS navigation. The flat silver back and large antenna square of the original model were eliminated in favor of a glossy, curved black or white back. Software capabilities were improved with the release of the App Store, which provided iPhone-compatible applications to download. On April 24, 2009, the App StoreApple’s Game Changer, Downloading Now. The New York Times, December 5, 2009. Retrieved April 5, 2013. surpassed one billion downloads. On June 8, 2009, Apple announced the iPhone 3GS. It provided an incremental update to the device, including faster internal components, support for faster 3G speeds, video recording capability, and voice control.\n",
      "\n",
      "At the Worldwide Developers Conference (WWDC) on June 7, 2010, Apple announced the redesigned iPhone 4. It featured a 960x640 display, the Apple A4 processor, a gyroscope for enhanced gaming, a 5MP camera with LED flash, front-facing VGA camera and FaceTime video calling. Shortly after its release, reception issues were discovered by consumers, due to the stainless steel band around the edge of the device, which also serves as the phone's cellular signal and Wi-Fi antenna. The issue was corrected by a \"Bumper Case\" distributed by Apple for free to all owners for a few months. In June 2011, Apple overtook Nokia to become the world's biggest smartphone maker by volume. On October 4, 2011, Apple unveiled the iPhone 4S, which was first released on October 14, 2011. It features the Apple A5 processor and Siri voice assistant technology, the latter of which Apple had acquired in 2010. It also features an updated 8MP camera with new optics. Apple began a new accessibility feature, Made for iPhone Hearing Aids with the iPhone 4S.  Made for iPhone Hearing Aids feature Live Listen, it can help you hear a conversation in a noisy room or hear someone speaking across the room. Apple sold 4 million iPhone 4S phones in the first three days of availability.\n",
      "\n",
      "On September 12, 2012, Apple introduced the iPhone 5.Statistics and Facts about the iPhone. Statista, April 2013. It has a 4-inch display, 4G LTE connectivity, and the upgraded Apple A6 chip, among several other improvements. Two million iPhones were sold in the first twenty-four hours of pre-ordering and over five million handsets were sold in the first three days of its launch. Upon the launch of the iPhone 5S and iPhone 5C, Apple set a new record for first-weekend smartphone sales by selling over nine million devices in the first three days of its launch. The release of the iPhone 5S and 5C was the first time that Apple simultaneously launched two models.\n",
      "\n",
      "A patent filed in July 2013 revealed the development of a new iPhone battery system that uses location data in combination with data on the user's habits to moderate the handsets power settings accordingly. Apple is working towards a power management system that will provide features such as the ability of the iPhone to estimate the length of time a user will be away from a power source to modify energy usage and a detection function that adjusts the charging rate to best suit the type of power source that is being used.\n",
      "\n",
      "In a March 2014 interview, Apple designer Jonathan Ive used the iPhone as an example of Apple's ethos of creating high-quality, life-changing products. He explained that the phones are comparatively expensive due to the intensive effort that is used to make them:\n",
      "\n",
      "On September 9, 2014, Apple introduced the iPhone 6, alongside the iPhone 6 Plus that both have screen sizes over 4-inches. One year later, Apple introduced the iPhone 6S, and iPhone 6S Plus, which introduced a new technology called 3D Touch, including an increase of the rear camera to 12 MP, and the FaceTime camera to 5 MP. On March 21, 2016, Apple introduced the iPhone SE that has a 4-inch size last used with the 5S and has the same internal hardware as the 6S.\n",
      "\n",
      "On September 7, 2016, Apple introduced the iPhone 7 and the iPhone 7 Plus.\n",
      "\n",
      "iPad\n",
      "\n",
      "thumb|318x318px|iPad Air 2 in Gold\n",
      "On January 27, 2010, Apple introduced their much-anticipated media tablet, the iPad, which runs a modified version of iOS. It offers multi-touch interaction with multimedia formats including newspapers, e-books, photos, videos, music, word processing documents, video games, and most existing iPhone apps using a 9.7-inch screen. It also includes a mobile version of Safari for web browsing, as well as access to the App Store, iTunes Library, iBookstore, Contacts, and Notes. Content is downloadable via Wi-Fi and optional 3G service or synced through the user's computer. AT&T was initially the sole U.S. provider of 3G wireless access for the iPad.\n",
      "\n",
      "On March 2, 2011, Apple introduced the iPad 2, which had a faster processor and a camera on the front and back. It also added support for optional 3G service provided by Verizon in addition to AT&T. The availability of the iPad 2 was initially limited as a result of a devastating earthquake and tsunami in Japan in March 2011.\n",
      "\n",
      "The third-generation iPad was released on March 7, 2012 and marketed as \"the new iPad\". It added LTE service from AT&T or Verizon, an upgraded A5X processor, and Retina display. The dimensions and form factor remained relatively unchanged, with the new iPad being a fraction thicker and heavier than the previous version and featuring minor positioning changes.The new iPad – View all the technical specifications. Apple Inc. Retrieved February 7, 2013.\n",
      "\n",
      "On October 23, 2012, Apple's fourth-generation iPad came out, marketed as the \"iPad with Retina display\". It added the upgraded A6X processor and replaced the traditional 30-pin dock connector with the all-digital Lightning connector.iPad – Features. Apple Inc. Retrieved February 7, 2013. The iPad Mini was also introduced. It featured a reduced 7.9-inch display and much of the same internal specifications as the iPad 2.iPad Mini – Features. Apple Inc. Retrieved February 7, 2013.\n",
      "\n",
      "On October 22, 2013, Apple introduced the iPad Air and the iPad Mini with Retina Display, both featuring a new 64-bit Apple A7 processor.\n",
      "\n",
      "The iPad Air 2 was unveiled on October 16, 2014. It added better graphics and central processing and a camera burst mode as well as minor updates. The iPad Mini 3 was unveiled at the same time.\n",
      "\n",
      "Since its launch, iPad users have downloaded over three billion apps. The total number of App Store downloads, , is over 100 billion.\n",
      "\n",
      "On September 9, 2015, Apple announced the iPad Pro, an iPad with a 12.9-inch display that supports two new accessories, the Smart Keyboard and Apple Pencil. A 9.7-inch iPad Pro was announced on March 21, 2016.\n",
      "\n",
      "Apple Watch\n",
      "\n",
      "thumb|right|The Apple Watch quickly became the best-selling wearable device, with the shipment of 11.4 million smart watches in the first half of 2015, according to analyst firm Canalys.\n",
      "\n",
      "The Apple Watch smartwatch was launched by Cook on September 9, 2014, and released on April 24, 2015. The wearable device consists of fitness-tracking capabilities that are similar to Fitbit, and must be used in combination with an iPhone to work (only the iPhone 5, or later models, are compatible with the Apple Watch).\n",
      "\n",
      "The second generation of Apple Watch, Apple Watch Series 2 and Apple Watch Series 1 were released in September 2016.\n",
      "\n",
      "Apple TV\n",
      "\n",
      "At the 2007 Macworld conference, Jobs demonstrated the Apple TV (previously known as the iTV), a set-top video device intended to bridge the sale of content from iTunes with high-definition televisions. The device links up to a user's TV and syncs, either via Wi-Fi or a wired network, with one computer's iTunes library and streams content from an additional four. The Apple TV originally incorporated a 40 GB hard drive for storage, included outputs for HDMI and component video, and played video at a maximum resolution of 720p. On May 31, 2007, a 160 GB hard disk drive was released alongside the existing 40 GB model. A software update released on January 15, 2008 allowed media to be purchased directly from the Apple TV.\n",
      "\n",
      "In September 2009, Apple discontinued the original 40 GB Apple TV and now continues to produce and sell the 160 GB Apple TV. On September 1, 2010, Apple released a completely redesigned Apple TV. The new device is 1/4 the size, runs quieter, and replaces the need for a hard drive with media streaming from any iTunes library on the network along with 8 GB of flash memory to cache media downloaded. Like the iPad and the iPhone, Apple TV runs on an A4 processor. The memory included in the device is half of that in the iPhone 4 at 256 MB; the same as the iPad, iPhone 3GS, third and fourth-generation iPod Touch.\n",
      "\n",
      "It has HDMI out as the only video out source. Features include access to the iTunes Store to rent movies and TV shows (purchasing has been discontinued), streaming from internet video sources, including YouTube and Netflix, and media streaming from an iTunes library. Apple also reduced the price of the device to $99. A third generation of the device was introduced at an Apple event on March 7, 2012, with new features such as higher resolution (1080p) and a new user interface.\n",
      "\n",
      "At the September 9, 2015 event, Apple unveiled an overhauled Apple TV, which now runs a variant of OS X, tvOS, and contains 32GB or 64 GB of NAND Flash to store games, programs, and to cache the current media playing.  The release also coincided with the opening of a separate Apple TV App Store and a new Siri Remote with a glass touchpad, gyroscope and microphone.\n",
      "\n",
      "Software\n",
      "\n",
      "thumb|Apple Worldwide Developers Conference is held annually by Apple to showcase its new software and technologies for software developers.\n",
      "\n",
      "Apple develops its own operating system to run on Macs, macOS, the latest version being macOS Sierra (version 10.12). Apple also independently develops computer software titles for its macOS operating system. Much of the software Apple develops is bundled with its computers. An example of this is the consumer-oriented iLife software package that bundles iMovie, iPhoto and GarageBand. For presentation, page layout and word processing, iWork is available, which includes Keynote, Pages, and Numbers. iTunes, QuickTime media player, and Software Update are available as free downloads for both macOS and Windows.\n",
      "\n",
      "Apple also offers a range of professional software titles. Their range of server software includes the operating system macOS Server; Apple Remote Desktop, a remote systems management application; and Xsan, a Storage Area Network file system. For the professional creative market, there is Final Cut Pro, a video production suite; Logic Pro, a comprehensive music toolkit; and Motion, an advanced effects composition program.\n",
      "\n",
      "Apple also offers online services with iCloud, which provides cloud storage and syncing for a wide range of data, including email, contacts, calendars, photos and documents. It also offers iOS device backup, and is able to integrate directly with third-party apps for even greater functionality. iCloud is the fourth generation of online services provided by Apple, and was preceded by MobileMe, .Mac and iTools, all which met varying degrees of success.\n",
      "\n",
      "Electric vehicles\n",
      "\n",
      "According to the ''Sydney Morning Herald'', Apple wants to start producing an electric car with autonomous driving as soon as 2020. Apple has made efforts to recruit battery development engineers and other electric automobile engineers from A123 Systems, LG Chem, Samsung Electronics, Panasonic, Toshiba, Johnson Controls and Tesla Motors.Apple wants to start making cars as soon as 2020, Tim Higgins, ''Sydney Morning Herald''\n",
      "\n",
      " Apple Energy \n",
      "Apple Energy, LLC is a wholly owned subsidiary of Apple Inc. that sells solar energy. As of June 6, 2016, Apple's solar farms in California and Nevada have been declared to provide 217.9 megawatts of solar generation capacity. In addition to the company's solar energy production, Apple has received regulatory approval to construct a landfill gas energy plant in North Carolina. Apple will use the methane emissions to generate electricity. Apple's North Carolina data center is already powered entirely with energy from renewable sources.\n",
      "\n",
      "Corporate identity\n",
      "\n",
      "Logo\n",
      "\n",
      "According to Steve Jobs, the company's name was inspired by his visit to an apple farm while on a fruitarian diet. Jobs thought the name \"Apple\" was \"fun, spirited and not intimidating\".\n",
      "\n",
      "Apple's first logo, designed by Ron Wayne, depicts Sir Isaac Newton sitting under an apple tree. It was almost immediately replaced by Rob Janoff's \"rainbow Apple\", the now-familiar rainbow-colored silhouette of an apple with a bite taken out of it. Janoff presented Jobs with several different monochromatic themes for the \"bitten\" logo, and Jobs immediately took a liking to it. However, Jobs insisted that the logo be colorized to humanize the company. The logo was designed with a bite so that it would not be confused with a cherry. The colored stripes were conceived to make the logo more accessible, and to represent the fact the Apple II could generate graphics in color. This logo is often erroneously referred to as a tribute to Alan Turing, with the bite mark a reference to his method of suicide. Both Janoff and Apple deny any homage to Turing in the design of the logo.\n",
      "\n",
      "On August 27, 1999 (the year following the introduction of the iMac G3), Apple officially dropped the rainbow scheme and began to use monochromatic logos nearly identical in shape to the previous rainbow incarnation. An Aqua-themed version of the monochrome logo was used from 1999 to 2003, and a glass-themed version was used from 2007 to 2013.\n",
      "\n",
      "Steve Jobs and Steve Wozniak were Beatles fans, but Apple Inc. had name and logo trademark issues with Apple Corps Ltd., a multimedia company started by the Beatles in 1967. This resulted in a series of lawsuits and tension between the two companies. These issues ended with settling of their most recent lawsuit in 2007.\n",
      "\n",
      "Advertising\n",
      "\n",
      "Apple's first slogan, \"Byte into an Apple\", was coined in the late 1970s. From 1997 to 2002, the slogan \"Think Different\" was used in advertising campaigns, and is still closely associated with Apple. Apple also has slogans for specific product lines — for example, \"iThink, therefore iMac\" was used in 1998 to promote the iMac, and \"Say hello to iPhone\" has been used in iPhone advertisements. \"Hello\" was also used to introduce the original Macintosh, Newton, iMac (\"hello (again)\"), and iPod.IMac: What's in a Design, Anyway? . ''Wired Magazine''. Retrieved February 15, 2010.\n",
      "\n",
      "From the introduction of the Macintosh in 1984 with the 1984 Super Bowl commercial to the more modern 'Get a Mac' adverts, Apple has been recognized in for its efforts towards effective advertising and marketing for its products. However, claims made by later campaigns were criticized, particularly the 2005 Power Mac ads. Apple's product commercials gained a lot of attention as a result of their eye-popping graphics and catchy tunes.Farber, Jim. Apple ad creates recognition for Yael Naim, ''New York Daily News'', March 11, 2008. Musicians who benefited from an improved profile as a result of their songs being included on Apple commercials include Canadian singer Feist with the song \"1234\" and Yael Naïm with the song \"New Soul\".\n",
      "\n",
      "Brand loyalty\n",
      "thumb|Apple aficionados wait in line around the Apple Store in anticipation of a new product.\n",
      "\n",
      "Apple's high level of brand loyalty is considered unusual for any product. Apple evangelists were actively engaged by the company at one time, but this was after the phenomenon had already been firmly established. Apple evangelist Guy Kawasaki has called the brand fanaticism \"something that was stumbled upon,\" while Ive explained in 2014 that \"People have an incredibly personal relationship\" with Apple's products. Apple Store openings can draw crowds of thousands, with some waiting in line as much as a day before the opening or flying in from other countries for the event. The opening of New York City's Fifth Avenue \"Cube\" store had a line half a mile long; a few Mac fans used the setting to propose marriage. The line for the Ginza opening in Tokyo was estimated to include thousands of people and exceeded eight city blocks. The high level of brand loyalty has been criticized and ridiculed, applying the epithet \"Apple fanboy\" and mocking the lengthy lines before a product launch. An internal memo leaked in 2015 suggested the company planned to discourage long lines and direct customers to purchase its products on its website.\n",
      "\n",
      "''Fortune'' magazine named Apple the most admired company in the United States in 2008, and in the world from 2008 to 2012. On September 30, 2013, Apple surpassed Coca-Cola to become the world's most valuable brand in the Omnicom Group's \"Best Global Brands\" report. Boston Consulting Group has ranked Apple as the world's most innovative brand every year since 2005.Is Apple The World's Most Innovative Company (Still)?, ''Forbes'', September 27, 2013\n",
      "\n",
      "John Sculley told ''The Guardian'' newspaper in 1997: \"People talk about technology, but Apple was a marketing company. It was the marketing company of the decade.\" Research in 2002 by NetRatings indicate that the average Apple consumer was usually more affluent and better educated than other PC company consumers. The research indicated that this correlation could stem from the fact that on average Apple Inc. products were more expensive than other PC products.Fried, Ian. Are Mac users smarter?, ''news.com'', July 12, 2002. Retrieved April 24, 2006.\n",
      "\n",
      "In response to a query about the devotion of loyal Apple consumers, Jonathan Ive responded:\n",
      "\n",
      "What people are responding to is much bigger than the object. They are responding to something rare—a group of people who do more than simply make something work, they make the very best products they possibly can. It’s a demonstration against thoughtlessness and carelessness.\n",
      "\n",
      "Home page\n",
      "The Apple website home page has been used to commemorate, or pay tribute to, milestones and events outside of Apple's product offerings:\n",
      "2016: Muhammad Ali\n",
      "2016: Bill Campbell (board member and friend)\n",
      "2016: Martin Luther King, Jr.\n",
      " 2014: Robin Williams\n",
      " 2013: Nelson Mandela\n",
      " 2011: Steve Jobs\n",
      " 2010: Jerome B. York (board member)\n",
      " 2007: Al Gore (board member in honor of his Nobel Peace Prize)\n",
      " 2005: Rosa Parks\n",
      " 2003: Gregory Hines\n",
      " 2001: George Harrison\n",
      "\n",
      "Headquarters\n",
      "\n",
      "Apple Inc.'s world corporate headquarters are located in the middle of Silicon Valley, at 1–6 Infinite Loop, Cupertino, California. This Apple campus has six buildings that total  and was built in 1993 by Sobrato Development Cos.\n",
      "\n",
      "Apple has a satellite campus in neighboring Sunnyvale, California, where it houses a testing and research laboratory. AppleInsider published article in March 2014 claiming that Apple has a tucked away a top-secret facility where is developing the SG5 electric vehicle project codenamed \"Titan\" under the shell company name SixtyEight Research.\n",
      "\n",
      "In 2006, Apple announced its intention to build a second campus in Cupertino about  east of the current campus and next to Interstate 280. The new campus building will be designed by Norman Foster. The Cupertino City Council approved the proposed \"spaceship\" design campus on October 15, 2013, after a 2011 presentation by Jobs detailing the architectural design of the new building and its environs. The new campus is planned to house up to 13,000 employees in one central, four-storied, circular building surrounded by extensive landscape. It will feature a café with room for 3,000 sitting people and parking underground as well as in a parking structure. The 2.8 million square foot facility will also include Jobs's original designs for a fitness center and a corporate auditorium.\n",
      "\n",
      "Apple's headquarters for Europe, the Middle East and Africa (EMEA) are located in Cork in the south of Ireland. The facility, which opened in 1980, was Apple's first location outside of the United States. Apple Sales International, which deals with all of Apple's international sales outside of the USA, is located at Apple's campus in Cork along with Apple Distribution International, which similarly deals with Apple's international distribution network. On April 20, 2012, Apple added 500 new jobs at its European headquarters, increasing the total workforce from around 2,800 to 3,300 employees. The company will build a new office block on its Hollyhill Campus to accommodate the additional staff. Its United Kingdom headquarters is at Stockley Park on the outskirts of London.\n",
      "\n",
      "In February 2015, Apple opened their new 180,000-square-foot headquarters in Herzliya, Israel, which will accommodate approximately 800 employees. This opening was Apple's third office located within Israel; the first, also in Herzliya, was obtained as part of the Anobit acquisition, and the other is a research center in Haifa.\n",
      "\n",
      "Stores\n",
      "Apple has 478 retail stores () in seventeen countries and an online store available in 39 countries. Each store is designed to suit the needs of the location and regulatory authorities. Apple has received numerous architectural awards for its store designs, particularly its midtown Manhattan location on Fifth Avenue.\n",
      "\n",
      "The Apple Store in Regent Street, London, was the first to open in Europe in November 2004, and is the most profitable shop in London with the highest sales per square foot, taking £60,000,000 pa, or £2,000 per square foot. The Regent Street store was surpassed in size by the nearby Apple Store in Covent Garden, which was surpassed in size by the Grand Central Terminal Apple Store, New York City, in December 2011.\n",
      "\n",
      "Of the 43,000 Apple employees in the United States 30,000 work at Apple Stores. Apple Store employees make above average pay for retail employees and are offered money toward college as well as gym memberships, 401k plans, healthcare plans, product discounts, and reduced price on purchase of stock.\n",
      "\n",
      "A May 2016 ''Business Insider'' article featuring a lengthy interview with a U.K. Apple Store retail worker highlighted significant dissatisfactions and issues for retail workers, including harassment and death threats from customers, an intense internal criticism policy that feels \"like a cult\", a lack of any significant bonus if a worker manages to secure a business contract worth \"hundreds of thousands\", a lack of promotion opportunities, and, despite a \"generous\" discount on any Apple product or Apple stock, are paid so little that many workers are unable to buy products themselves.\n",
      "\n",
      "Corporate affairs\n",
      "\n",
      "Corporate culture\n",
      "Apple was one of several highly successful companies founded in the 1970s that bucked the traditional notions of corporate culture. Jobs often walked around the office barefoot even after Apple became a Fortune 500 company. By the time of the \"1984\" television commercial, Apple's informal culture had become a key trait that differentiated it from its competitors. According to a 2011 report in ''Fortune,'' this has resulted in a corporate culture more akin to a startup rather than a multinational corporation.\n",
      "\n",
      "As the company has grown and been led by a series of differently opinionated chief executives, it has arguably lost some of its original character. Nonetheless, it has maintained a reputation for fostering individuality and excellence that reliably attracts talented workers, particularly after Jobs returned to the company. Numerous Apple employees have stated that projects without Jobs's involvement often take longer than projects with it. To recognize the best of its employees, Apple created the Apple Fellows program which awards individuals who make extraordinary technical or leadership contributions to personal computing while at the company. The Apple Fellowship has so far been awarded to individuals including Bill Atkinson,Hertzfeld, Andy. Credit Where Due,''Folklore.org'', January 1983. Retrieved May 26, 2006. Steve Capps, Rod Holt, Alan Kay,Eisenhart, Mary. Fighting Back For Mac, ''MicroTimes'', 1997. Retrieved May 26, 2006.Hertzfeld, Andy. Leave of Absence,''Folklore.org'', March 1984. Retrieved May 26, 2006. Guy Kawasaki,Kawakami, John. Apple Taps Guy Kawasaki For Apple Fellows Program, ''MacTech'', September 1995. Retrieved May 26, 2006. Al Alcorn, Don Norman, Rich Page, and Steve Wozniak.\n",
      "\n",
      "At Apple, employees are specialists who are not exposed to functions outside their area of expertise. Jobs saw this as a means of having \"best-in-class\" employees in every role. For instance, Ron Johnson—Senior Vice President of Retail Operations until November 1, 2011—was responsible for site selection, in-store service, and store layout, yet had no control of the inventory in his stores (this was done by Cook, who had a background in supply-chain management). Apple is also known for strictly enforcing accountability. Each project has a \"directly responsible individual,\" or \"DRI\" in Apple jargon. As an example, when iOS senior vice president Scott Forstall refused to sign Apple's official apology for numerous errors in the redesigned Maps app, he was forced to resign. Unlike other major U.S. companies Apple provides a relatively simple compensation policy for executives that does not include perks enjoyed by other CEOs like country club fees or private use of company aircraft. The company typically grants stock options to executives every other year.\n",
      "\n",
      "An editorial article in ''The Verge'' in September 2016 by technology journalist Thomas Ricker explored some of the public's perceived lack of innovation at Apple in recent years, specifically stating that Samsung has \"matched and even surpassed Apple in terms of smartphone industrial design\" and citing the belief that Apple is incapable of producing another breakthrough moment in technology with its products. He goes on to write that the criticism focuses on individual pieces of hardware rather than the ecosystem as a whole, stating \"Yes, iteration is boring. But it’s also how Apple does business. [...] It enters a new market and then refines and refines and continues refining until it yields a success\". He acknowledges that people are wishing for the \"excitement of revolution\", but argues that people want \"the comfort that comes with harmony\". Furthermore, he writes that \"a device is only the starting point of an experience that will ultimately be ruled by the ecosystem in which it was spawned\", referring to how decent hardware products can still fail without a proper ecosystem (specifically mentioning that Walkman didn't have an ecosystem to keep users from leaving once something better came along), but how Apple devices in different hardware segments are able to communicate and cooperate through the iCloud cloud service with features including Universal Clipboard (in which text copied on one device can be pasted on a different device) as well as inter-connected device functionality including Auto Unlock (in which an Apple Watch can unlock a Mac in close proximity). He argues that Apple's ecosystem is its greatest innovation.\n",
      "\n",
      "Customer service\n",
      "In 1999 Apple retained Eight Inc. as a strategic retail design partner and began creating the Apple retail stores. Tim Kobe of Eight Inc. prepared an \"Apple Retail\" white paper for Jobs, outlining the ability of separate Apple retail stores to directly drive the Apple brand experience—Kobe used their recently completed work with The North Face and Nike as a basis for the white paper. The first two Apple Stores opened on May 19, 2001 in Tysons Corner, Virginia, and Glendale, California. More than 7,700 people visited Apple’s first two stores in the opening weekend, spending a total of US$599,000. , Apple maintains 425 retail stores in fourteen countries. In addition to Apple products, the stores sell third-party products like software titles, digital cameras, camcorders and handheld organizers.\n",
      "\n",
      "A media article published in July 2013 provided details about Apple's \"At-Home Apple Advisors\" customer support program that serves as the corporation's call center. The advisors are employed within the U.S. and work remotely after undergoing a four-week training program and testing period. The advisors earn between US$9 and $12 per hour and receive intensive management to ensure a high quality of customer support.\n",
      "\n",
      "Manufacturing\n",
      "The company's manufacturing, procurement and logistics enable it to execute massive product launches without having to maintain large, profit-sapping inventories. In 2011, Apple's profit margins were 40 percent, compared with between 10 and 20 percent for most other hardware companies. Cook's catchphrase to describe his focus on the company's operational arm is: “Nobody wants to buy sour milk”.\n",
      "\n",
      "During the Mac's early history Apple generally refused to adopt prevailing industry standards for hardware, instead creating their own. This trend was largely reversed in the late 1990s, beginning with Apple's adoption of the PCI bus in the 7500/8500/9500 Power Macs. Apple has since joined the industry standards groups to influence the future direction of technology standards such as USB, AGP, HyperTransport, Wi-Fi, NVMe, PCIe and others in its products. FireWire is an Apple-originated standard that was widely adopted across the industry after it was standardized as IEEE 1394 and is a legally mandated port in all Cable TV boxes in the United States.\n",
      "\n",
      "Labor practices\n",
      "\n",
      "The company advertised its products as being made in America until the late 1990s; however, as a result of outsourcing initiatives in the 2000s, almost all of its manufacturing is now handled abroad. According to a report by the ''New York Times'', Apple insiders \"believe the vast scale of overseas factories as well as the flexibility, diligence and industrial skills of foreign workers have so outpaced their American counterparts that “Made in the U.S.A.” is no longer a viable option for most Apple products\".\n",
      "\n",
      "In 2006, the ''Mail on Sunday'' reported on the working conditions of the Chinese factories where contract manufacturers Foxconn and Inventec produced the iPod. The article stated that one complex of factories that assembled the iPod and other items had over 200,000 workers living and working within it. Employees regularly worked more than 60 hours per week and made around $100 per month. A little over half of the workers' earnings was required to pay for rent and food from the company.\n",
      "\n",
      "Apple immediately launched an investigation after the 2006 media report, and worked with their manufacturers to ensure acceptable working conditions. In 2007, Apple started yearly audits of all its suppliers regarding worker's rights, slowly raising standards and pruning suppliers that did not comply. Yearly progress reports have been published since 2008. In 2011, Apple admitted that its suppliers' child labor practices in China had worsened.\n",
      "\n",
      "The Foxconn suicides occurred between January and November 2010, when 18 Foxconn (Chinese: 富士康) employees attempted suicide, resulting in 14 deaths—the company was the world’s largest contract electronics manufacturer, for clients including Apple, at the time. The suicides drew media attention, and employment practices at Foxconn were investigated by Apple. Apple issued a public statement about the suicides, and company spokesperson Steven Dowling said:\n",
      "\n",
      "[Apple is] saddened and upset by the recent suicides at Foxconn ... A team from Apple is independently evaluating the steps they are taking to address these tragic events and we will continue our ongoing inspections of the facilities where our products are made.\n",
      "\n",
      "The statement was released after the results from the company's probe into its suppliers' labor practices were published in early 2010. Foxconn was not specifically named in the report, but Apple identified a series of serious labor violations of labor laws, including Apple's own rules, and some child labor existed in a number of factories. Apple committed to the implementation of changes following the suicides.\n",
      "\n",
      "Also in 2010, workers in China planned to sue iPhone contractors over poisoning by a cleaner used to clean LCD screens. One worker claimed that he and his coworkers had not been informed of possible occupational illnesses. After a high suicide rate in a Foxconn facility in China making iPads and iPhones, albeit a lower rate than that of China as a whole, workers were forced to sign a legally binding document guaranteeing that they would not kill themselves. Workers in factories producing Apple products have also been exposed to n-hexane, a neurotoxin that is a cheaper alternative than alcohol for cleaning the products.Workers poisoned while making iPhones ABC News, October 25, 2010Dirty Secrets ABC Foreign Correspondent, 2010-Oct-26Occupational Safety and Health Guideline for n-Hexane , OSHA.gov\n",
      "\n",
      "A 2014 BBC investigation found excessive hours and other problems persisted, despite Apple's promise to reform factory practice after the 2010 Foxconn suicides. The Pegatron factory was once again the subject of review, as reporters gained access to the working conditions inside through recruitment as employees. While the BBC maintained that the experiences of its reporters showed that labor violations were continuing since 2010, Apple publicly disagreed with the BBC and stated: “We are aware of no other company doing as much as Apple to ensure fair and safe working conditions\".\n",
      "\n",
      "In December 2014, the Institute for Global Labour and Human Rights published a report which documented inhumane conditions for the 15,000 workers at a Zhen Ding Technology factory in Shenzhen, China, which serves as a major supplier of circuit boards for Apple's iPhone and iPad. According to the report, workers are pressured into 65-hour work weeks which leaves them so exhausted that they often sleep during lunch breaks. They are also made to reside in \"primitive, dark and filthy dorms\" where they sleep \"on plywood, with six to ten workers in each crowded room.\" Omnipresent security personnel also routinely harass and beat the workers.Dave Jamieson (December 23, 2014). The Factory Workers Behind Your iPhone Are Too Tired To Eat, Report Says. ''The Huffington Post.'' Retrieved December 24, 2014.Exhaustion Has No Limit at Apple Supplier in China. Institute for Global Labour and Human Rights. December 22, 2014.\n",
      "\n",
      "Environmental practices and initiatives\n",
      "\n",
      "Energy\n",
      "\n",
      "Following a Greenpeace protest, Apple released a statement on April 17, 2012, committing to ending its use of coal and shifting to 100% renewable clean energy. By 2013 Apple was using 100% renewable energy to power their data centers. Overall, 75% of the company's power came from clean renewable sources.\n",
      "\n",
      "In 2010, Climate Counts, a nonprofit organization dedicated to directing consumers toward the greenest companies, gave Apple a score of 52 points out of a possible 100, which puts Apple in their top category \"Striding\". This was an increase from May 2008, when Climate Counts only gave Apple 11 points out of 100, which placed the company last among electronics companies, at which time Climate Counts also labeled Apple with a \"stuck icon\", adding that Apple at the time was \"a choice to avoid for the climate conscious consumer\".\n",
      "\n",
      ", 100% of Apple's U.S. operations run on renewable energy, 100% of Apple's data centers run on renewable energy and 93% of Apple's global operations run on renewable energy.  The Electronic Product Environmental Assessment Tool (EPEAT) allows consumers to see the effect a product has on the environment. Each product receives a Gold, Silver, or Bronze rank depending on its efficiency and sustainability. Every Apple tablet, notebook, desktop computer, and display that EPEAT ranks achieves a Gold rating, the highest possible.\n",
      "\n",
      "In May 2015, Greenpeace evaluated the state of the Green Internet and commended Apple on their environmental practices saying, \"Apple’s commitment to renewable energy has helped set a new bar for the industry, illustrating in very concrete terms that a 100% renewable Internet is within its reach, and providing several models of intervention for other companies that want to build a sustainable Internet.\"\n",
      "\n",
      "During an event on March 21, 2016, Apple provided a status update on its environmental initiative to be 100% renewable in all of its worldwide operations. Lisa P. Jackson, Apple's vice president of Environment, Policy and Social Initiatives who reports directly to CEO, Tim Cook, announced that as of March 2016, 93% of Apple's worldwide operations are powered with renewable energy. Also featured was the company's efforts to use sustainable paper in their product packaging; 99% of all paper used by Apple in the product packaging comes from post-consumer recycled paper or sustainably-managed forests, as the company continues its move to all paper packaging for all of its products. Apple working in partnership with Conservation Fund, have preserved 36,000 acres of working forests in Maine and North Carolina. Another partnership announced is with the World Wildlife Fund to preserve up to 1,000,000 acres of forests in China. Featured was the company's installation of a 40 MW solar power plant in the Sichuan province of China that was tailor made to coexist with the indigenous yaks that eat hay produced on the land, by raising the panels to be several feet off of the ground so the yaks and their feed would be unharmed grazing beneath the array.  This installation alone compensates for more than all of the energy used in Apple's Stores and Offices in the whole of China, negating the company's energy carbon footprint in the country. In Singapore, Apple has worked with the Singaporean government to cover the rooftops of 800 buildings in the city-state with solar panels allowing Apple's Singapore operations to be run on 100% renewable energy. Liam was introduced to the world, an advanced robotic disassembler and sorter designed by Apple Engineers in California specifically for recycling outdated or broken iPhones. Reuses and recycles parts from traded in products.\n",
      "\n",
      "Apple announced on August 16, 2016, that Lens Technology, one of its major suppliers in China, has committed to power all its glass production for Apple with 100 percent renewable energy by 2018. The commitment is a large step in Apple's efforts to help manufacturers lower their carbon footprint in China. Apple also announced that all 14 of its final assembly sites in China are now compliant with UL's Zero Waste to Landfill validation. The standard, which started in January 2015, certifies that all manufacturing waste is reused, recycled, composted, or converted into energy (when necessary). Since the program began, nearly, 140,000 metric tons of waste have been diverted from landfills.\n",
      "\n",
      "Toxins\n",
      "\n",
      "Following further campaigns by Greenpeace, in 2008, Apple became the first electronics manufacturer to fully eliminate all polyvinyl chloride (PVC) and brominated flame retardants (BFRs) in its complete product line. In June 2007, Apple began replacing the cold cathode fluorescent lamp (CCFL) backlit LCD displays in its computers with mercury-free LED-backlit LCD displays and arsenic-free glass, starting with the upgraded MacBook Pro. Apple offers comprehensive and transparent information about the CO2e, emissions, materials, and electrical usage concerning every product they currently produce or have sold in the past (and which they have enough data needed to produce the report), in their portfolio on their homepage. Allowing consumers to make informed purchasing decisions on the products they offer for sale. In June 2009, Apple's iPhone 3GS was free of PVC, arsenic, and BFRs. All Apple products now have mercury-free LED-backlit LCD displays, arsenic-free glass, and non-PVC cables. All Apple products have EPEAT Gold status and beat the latest Energy Star guidelines in each product's respective regulatory category.\n",
      "\n",
      "In November 2011, Apple was featured in Greenpeace's Guide to Greener Electronics, which ranks electronics manufacturers on sustainability, climate and energy policy, and how \"green\" their products are. The company ranked fourth of fifteen electronics companies (moving up five places from the previous year) with a score of 4.6/10 down from 4.9. Greenpeace praises Apple's sustainability, noting that the company exceeded its 70% global recycling goal in 2010. It continues to score well on the products rating with all Apple products now being free of PVC plastic and BFRs. However, the guide criticizes Apple on the Energy criteria for not seeking external verification of its greenhouse gas emissions data and for not setting out any targets to reduce emissions. In January 2012, Apple requested that its cable maker, Volex, begin producing halogen-free USB and power cables.\n",
      "\n",
      " Green bonds \n",
      "In February 2016, Apple issued a US$1.5 billion green bond (climate bond), the first ever of its kind by a U.S. tech company. The green bond proceeds are dedicated to the financing of environmental projects.\n",
      "\n",
      "Finance\n",
      "\n",
      "Apple is the world's largest information technology company by revenue and the world's second-largest mobile phone manufacturer. It is also the largest publicly traded corporation in the world by market capitalization, with an estimated market capitalization of $446 billion by January 2014. On February 17, 2015, Apple became the first US corporation to be valued at over $750B. , Apple maintains 475 retail stores in seventeen countries, of which 207 are outside the U.S., as well as the online Apple Store and iTunes Store, the latter of which is the world's largest music retailer. It employs 115,000 permanent full-time employees  and 3,300 temporary full-time employees  worldwide.\n",
      "\n",
      "In its fiscal year ending in September 2011, Apple Inc. reported a total of $108 billion in annual revenues—a significant increase from its 2010 revenues of $65 billion—and nearly $82 billion in cash reserves. On March 19, 2012, Apple announced plans for a $2.65-per-share dividend beginning in fourth quarter of 2012, per approval by their board of directors. On September 2012, Apple reached a record share price of more than $705 and closed at above 700. With 936,596,000 outstanding shares (),Apple Q3 Financial Report (PDF). Shareholder.com. July 25, 2012. Retrieved February 7, 2013.\n",
      "\n",
      "The company's worldwide annual revenue in 2013 totaled $170 billion. In May 2013, Apple entered the top ten of the Fortune 500 list of companies for the first time, rising 11 places above its 2012 ranking to take the sixth position. , Apple has around US$234 billion of cash and marketable securities, of which 90% is located outside the United States for tax purposes.\n",
      "\n",
      "Apple amassed 65% of all profits made by the eight largest worldwide smartphone manufacturers in quarter one of 2014, according to a report by Canaccord Genuity. In the first quarter of 2015, the company garnered 92% of all earnings made by the eight largest global smartphone makers.\n",
      "\n",
      "Tax practices\n",
      "\n",
      "Apple has created subsidiaries in low-tax places such as Ireland, the Netherlands, Luxembourg and the British Virgin Islands to cut the taxes it pays around the world. According to ''The New York Times,'' in the 1980s Apple was among the first tech companies to designate overseas salespeople in high-tax countries in a manner that allowed the company to sell on behalf of low-tax subsidiaries on other continents, sidestepping income taxes. In the late 1980s Apple was a pioneer of an accounting technique known as the \"Double Irish with a Dutch sandwich,\" which reduces taxes by routing profits through Irish subsidiaries and the Netherlands and then to the Caribbean.\n",
      "\n",
      "British Conservative Party Member of Parliament Charlie Elphicke published research on October 30, 2012, which showed that some multinational companies, including Apple Inc., were making billions of pounds of profit in the UK, but were paying an effective tax rate to the UK Treasury of only 3 percent, well below standard corporation tax. He followed this research by calling on the Chancellor of the Exchequer George Osborne to force these multinationals, which also included Google and The Coca-Cola Company, to state the effective rate of tax they pay on their UK revenues. Elphicke also said that government contracts should be withheld from multinationals who do not pay their fair share of UK tax.\n",
      "\n",
      "It is a matter of public record that Apple Inc. is the single largest taxpayer to the Department of the Treasury of the United States of America with an effective tax rate of approximately of 26% as of the Second Quarter of the Apple Fiscal Year 2016.\n",
      "\n",
      "In 2015, Reuters reported that Apple had earnings abroad of $54.4 billion which were untaxed by the IRS of the United States. Under U.S. tax law governed by the IRC, corporations don't pay income tax on overseas profits unless the profits are repatriated into the United States and as such Apple argues that to benefit its shareholders it will leave it overseas until a repatriation holiday or comprehensive tax reform takes place in the United States.\n",
      "\n",
      "On August 30, 2016, after a three-year investigation by the EU's competition commissioner that concluded that Apple received \"illegal state aid\" from Ireland, the EU ordered Apple to pay 13 billion euros ($14.5 billion), plus interest, in unpaid taxes.Kanter, James and Scott, Mark (August 30, 2016) Apple Must Pay Billions for Tax Breaks in Ireland, E.U. Orders The New York Times  Specifically, the commissioner found that Apple had benefitted from Irish Department of Revenue tax rulings that allowed it to split the profits recorded by Apple Sales International internally between its Irish branch and a stateless \"head office\" entity lacking employees or premises (permitted under Irish law until 2013). The Chancellor of Austria, Christian Kern, put this decision into perspective by stating that \"every Viennese cafe, every sausage stand pays more tax in Austria than a multinational corporation\".Amazon and Starbucks pay less tax than sausage stall, says Austria BBC News, September 2, 2016. Retrieved September 3, 2016.\n",
      "\n",
      "Litigation\n",
      "\n",
      "Apple has been a participant in various legal proceedings and claims since it began operation. In particular, Apple is known for and promotes itself as actively and aggressively enforcing its intellectual property interests. Some litigation examples include ''Apple v. Samsung'', ''Apple v. Microsoft'', ''Motorola Mobility v. Apple Inc.'', and ''Apple Corps v. Apple Computer''. Apple has also had to defend itself against charges on numerous occasions of violating intellectual property rights.  Most have been dismissed in the courts as shell companies known as patent trolls, with no evidence of actual use of patents in question.\n",
      "\n",
      " Privacy stance \n",
      "Apple has made clear its stance on privacy and as such has made available Transparency Reports on the Governmental Requests it receives. Apple states plainly, \"On devices running iOS 8 and later versions, your personal data is placed under the protection of your passcode.[305] For all devices running iOS 8 and later versions, Apple will not perform iOS data extractions in response to government search warrants because the files to be extracted are protected by an encryption key that is tied to the user’s passcode, which Apple does not possess.\"\n",
      "\n",
      "In its latest “Who Has Your Back?” report, once again the Electronic Frontier Foundation (EFF) awarded Apple 5 out of 5 stars “commend[ing] Apple for its strong stance regarding user rights, transparency, and privacy.”\n",
      "\n",
      "Charitable causes\n",
      ", Apple is a partner of Product Red, a campaign whose mission is to prevent the transmission of HIV from mother to child by 2015. , Apple's contributions to the campaign reached $75 million, making the company Product Red's largest partner.\n",
      "\n",
      "In November 2012, Apple donated $2.5 million to the American Red Cross to aid relief efforts after Hurricane Sandy.\n",
      "\n",
      "On April 14, 2016, Apple and the World Wide Fund for Nature (WWF) announced that they have engaged in a partnership to, \"help protect life on our planet.\" Apple released a special page in the iTunes App Store, Apps for Earth. In the arrangement, Apple has committed that through April 24, WWF will receive 100% of the proceeds from the applications participating in the App Store via both the purchases of any paid apps and the In-App Purchases. Apple and WWF’s Apps for Earth campaign raised more than $8 million in total proceeds to support WWF’s conservation work. WWF announced the results at WWDC 2016 in San Francisco.\n",
      "\n",
      "See also\n",
      "\n",
      " Apple media events\n",
      " Pixar\n",
      "\n",
      "References\n",
      "\n",
      "'''Sources'''\n",
      "\n",
      " \n",
      " \n",
      " \n",
      " \n",
      " \n",
      "\n",
      "Further reading\n",
      "\n",
      " Gil Amelio, William L. Simon (1999), ''On the Firing Line: My 500 Days at Apple'' ISBN 978-0-88730-919-9\n",
      " Jim Carlton, ''Apple: The Inside Story of Intrigue, Egomania and Business Blunders'' ISBN 978-0-88730-965-6\n",
      " Alan Deutschman (2000), ''The Second Coming of Steve Jobs'', Broadway, ISBN 978-0-7679-0432-2\n",
      " Andy Hertzfeld (2004), ''Revolution in the Valley'', O'Reilly Books ISBN 978-0-596-00719-5\n",
      " Paul Kunkel, ''AppleDesign: The Work of the Apple Industrial Design Group'' ISBN 978-1-888001-25-9\n",
      " \n",
      " Steven Levy (1994), ''Insanely Great: The Life and Times of Macintosh, the Computer That Changed Everything'' ISBN 978-0-14-029177-3\n",
      " Owen Linzmayer (2004), ''Apple Confidential 2.0'', No Starch Press ISBN 978-1-59327-010-0\n",
      " Michael S. Malone (1999), ''Infinite Loop'' ISBN 978-0-385-48684-2\n",
      " Frank Rose (1990), ''West of Eden: The End of Innocence at Apple Computer'', Penguin Books ISBN 978-0-14-009372-8\n",
      " John Sculley, John A. Byrne (1987) ''Odyssey: Pepsi to Apple'', HarperCollins, ISBN 978-0-06-015780-7\n",
      " Steve Wozniak, Gina Smith (2006), ''iWoz: From Computer Geek to Cult Icon: How I Invented the Personal Computer, Co-Founded Apple, and Had Fun Doing It'', W. W. Norton & Company, ISBN 978-0-393-06143-7\n",
      " Jeffrey S. Young (1988). ''Steve Jobs, The Journey is the Reward'', Lynx Books, ISBN 978-1-55802-378-9\n",
      " Jeffrey S. Young, William L. Simon (2005), ''iCon Steve Jobs: The Greatest Second Act in the History of Business'', John Wiley & Sons, ISBN 978-0-471-72083-6\n",
      "\n",
      "External links\n",
      "\n",
      " \n",
      "\n",
      " \n",
      " \n",
      "\n",
      " \n",
      "Category:Computer companies of the United States\n",
      "Category:Companies based in Cupertino, California\n",
      "Category:Companies in the Dow Jones Industrial Average\n",
      "Category:Computer companies established in 1976\n",
      "Category:1976 establishments in California\n",
      "Category:Computer hardware companies\n",
      "Category:Display technology companies\n",
      "Category:Electronics companies of the United States\n",
      "Category:Home computer hardware companies\n",
      "Category:Mobile phone manufacturers\n",
      "Category:Multinational companies headquartered in the United States\n",
      "Category:Networking hardware companies\n",
      "Category:Portable audio player manufacturers\n",
      "Category:Publicly traded companies of the United States\n",
      "Category:Electronics companies\n",
      "Category:Retail companies of the United States\n",
      "Category:Software companies based in the San Francisco Bay Area\n",
      "Category:Software companies established in 1976\n",
      "Category:Steve Jobs\n",
      "Category:Technology companies based in the San Francisco Bay Area\n",
      "Category:Technology companies established in 1976\n",
      "Category:Technology companies of the United States\n",
      "Category:Companies in the PRISM network\n"
     ]
    }
   ],
   "source": [
    "print wiki.strip_code()"
   ]
  },
  {
   "cell_type": "markdown",
   "metadata": {},
   "source": [
    "Also, there are different sections within each page. MWParser has a function called ```get_sections()```. We can leverage it if you want to split the entire page into different sections. The return value is a list of wikicode objects."
   ]
  },
  {
   "cell_type": "markdown",
   "metadata": {},
   "source": [
    "Given this parser and all the function calls, you can leverage them to parse the pages to get all the information you want. For the second half of the tutorial, I want to introduce another tool call **Elasticsearch**. It's like a database system so we can store all our parsed result in it. I'll explain it more in the next section."
   ]
  },
  {
   "cell_type": "markdown",
   "metadata": {},
   "source": [
    "## Elasticsearch"
   ]
  },
  {
   "cell_type": "markdown",
   "metadata": {},
   "source": [
    "> Elasticsearch is a distributed RESTful search engine built for the cloud.\n",
    "\n",
    "Elasticsearch is a search engine designed for high availability and distributed system. It's built on top of *Lucune* so it has a very high capability of full text searching. It provides both native Java apis and HTTP RESTful apis. The HTTP RESTful apis are designed for modern web architecture. All requests and responses are in JSON format so it's really easy to use."
   ]
  },
  {
   "cell_type": "markdown",
   "metadata": {},
   "source": [
    "### Get Started\n",
    "\n",
    "First you need to install it. [Download](https://www.elastic.co/downloads/elasticsearch) the official distribution and unzip it. Run ```bin/elasticsearch``` on Unix, MacOS or ```bin\\elasticsearch.bat``` on Windows. Then open your browser go to ```localhost:9200```. You should see something like this if the server is running correctly.\n",
    "```\n",
    "{\n",
    "  \"name\" : \"E8Y98x4\",\n",
    "  \"cluster_name\" : \"elasticsearch\",\n",
    "  \"cluster_uuid\" : \"XiF921xjSSGfbkKb2ZU56w\",\n",
    "  \"version\" : {\n",
    "    \"number\" : \"5.0.0\",\n",
    "    \"build_hash\" : \"253032b\",\n",
    "    \"build_date\" : \"2016-10-26T04:37:51.531Z\",\n",
    "    \"build_snapshot\" : false,\n",
    "    \"lucene_version\" : \"6.2.0\"\n",
    "  },\n",
    "  \"tagline\" : \"You Know, for Search\"\n",
    "}\n",
    "```"
   ]
  },
  {
   "cell_type": "markdown",
   "metadata": {},
   "source": [
    "## Basics\n",
    "\n",
    "There are some different levels of structure inside Elasticsearch: ```index``` and ```type```. ```Index``` is like ```database``` in SQL and ```type``` is like ```table```. Each row of data is a ```document```. We can pre-define our document schema using a ```mapping``` file. You can design the mapping based on your needs, because it's in JSON format, it's very flexible. It's basically a dictionary, values could be any kinds of data types even arrays. And it could also be a nested structure which means dictionary in dictionary but this will make queries more complicated. There is no *join* function in Elasticsearch, so you cannot use the same design as you do in SQL."
   ]
  },
  {
   "cell_type": "markdown",
   "metadata": {},
   "source": [
    "Here I want to introduce another package in Python called ```Elasticsearch-py```. It's a high level wrapper for Python so you don't need to deal with the low level HTTP RESTful apis. To install the package, just type\n",
    "```\n",
    "$ pip install elasticsearch\n",
    "```\n",
    "in your terminal and you are all set!"
   ]
  },
  {
   "cell_type": "markdown",
   "metadata": {},
   "source": [
    "## Usage"
   ]
  },
  {
   "cell_type": "code",
   "execution_count": 59,
   "metadata": {
    "collapsed": false
   },
   "outputs": [
    {
     "data": {
      "text/plain": [
       "{u'acknowledged': True, u'shards_acknowledged': True}"
      ]
     },
     "execution_count": 59,
     "metadata": {},
     "output_type": "execute_result"
    }
   ],
   "source": [
    "from elasticsearch import Elasticsearch\n",
    "# Connect to the server\n",
    "es = Elasticsearch()\n",
    "\n",
    "# Create an index for testing\n",
    "es.indices.create(index='test', ignore=400)"
   ]
  },
  {
   "cell_type": "markdown",
   "metadata": {},
   "source": [
    "There is an app that can help us manage all the data in our server using graphical UI. It's called ```elasticsearch-head```. Type in the following commands in your terminal to install it.\n",
    "```\n",
    "$ git clone git://github.com/mobz/elasticsearch-head.git\n",
    "$ cd elasticsearch-head\n",
    "$ npm install\n",
    "$ grunt server\n",
    "```\n",
    "Go back to the elasticsearch folder and then find ```elasticsearch.yml``` file under ```config``` folder, add these two lines in the file and then restart the server.\n",
    "```\n",
    "http.cors.enabled: true\n",
    "http.cors.allow-origin: \"*\"\n",
    "```\n",
    "Open your browser then go to ```localhost:9100``` and you should see the index ```test``` we just created.\n",
    "\n",
    "Let's try to put something into Elasticsearch."
   ]
  },
  {
   "cell_type": "code",
   "execution_count": 60,
   "metadata": {
    "collapsed": false
   },
   "outputs": [
    {
     "data": {
      "text/plain": [
       "{u'_id': u'1',\n",
       " u'_index': u'test',\n",
       " u'_shards': {u'failed': 0, u'successful': 1, u'total': 2},\n",
       " u'_type': u'test-type',\n",
       " u'_version': 1,\n",
       " u'created': True,\n",
       " u'result': u'created'}"
      ]
     },
     "execution_count": 60,
     "metadata": {},
     "output_type": "execute_result"
    }
   ],
   "source": [
    "es.index(index=\"test\", doc_type=\"test-type\", id=1, body={\n",
    "        \"field-1\": \"Hello World\",\n",
    "        \"field-2\": 2,\n",
    "        \"field-3\": True,\n",
    "        \"field-4\": [1,2,3],\n",
    "        \"field-5\":{\n",
    "            \"inner-1\": \"YES\",\n",
    "            \"inner-2\": 100\n",
    "        }\n",
    "    })"
   ]
  },
  {
   "cell_type": "markdown",
   "metadata": {},
   "source": [
    "The ```index``` function will index this data into index *test* and put it under the type *test-type*. You can use the plug-in we just installed to see the data. Go to *Browser* tab then you can see all the data in the server. As you can see, the structure of each data is really flexible. Let's put some other data in it so that we can learn how to do queries."
   ]
  },
  {
   "cell_type": "code",
   "execution_count": 61,
   "metadata": {
    "collapsed": false
   },
   "outputs": [
    {
     "data": {
      "text/plain": [
       "{u'_id': u'2',\n",
       " u'_index': u'test',\n",
       " u'_shards': {u'failed': 0, u'successful': 1, u'total': 2},\n",
       " u'_type': u'test-type',\n",
       " u'_version': 1,\n",
       " u'created': True,\n",
       " u'result': u'created'}"
      ]
     },
     "execution_count": 61,
     "metadata": {},
     "output_type": "execute_result"
    }
   ],
   "source": [
    "es.index(index=\"test\", doc_type=\"test-type\", id=2, body={\n",
    "        \"field-1\": \"This is another test data\",\n",
    "        \"field-2\": 5,\n",
    "        \"field-3\": False,\n",
    "        \"field-4\": [2,4,6],\n",
    "        \"field-5\":{\n",
    "            \"inner-1\": \"FALSE\",\n",
    "            \"inner-2\": 50\n",
    "        }\n",
    "    })"
   ]
  },
  {
   "cell_type": "code",
   "execution_count": 62,
   "metadata": {
    "collapsed": false
   },
   "outputs": [
    {
     "name": "stdout",
     "output_type": "stream",
     "text": [
      "{u'field-4': [2, 4, 6], u'field-5': {u'inner-1': u'FALSE', u'inner-2': 50}, u'field-1': u'This is another test data', u'field-2': 5, u'field-3': False}\n",
      "This is another test data\n"
     ]
    }
   ],
   "source": [
    "# Query by id\n",
    "res = es.get(index=\"test\", doc_type=\"test-type\", id=2)\n",
    "# Result is a dict\n",
    "# Content is inside \"_source\"\n",
    "content = res['_source']\n",
    "print content\n",
    "print content['field-1']"
   ]
  },
  {
   "cell_type": "markdown",
   "metadata": {},
   "source": [
    "The command that is used to do query in Elasticsearch is called *Query DSL*. Here are some basic examples, for further usage, please check the [official website](https://www.elastic.co/guide/en/elasticsearch/reference/current/query-dsl.html)."
   ]
  },
  {
   "cell_type": "code",
   "execution_count": 63,
   "metadata": {
    "collapsed": false
   },
   "outputs": [
    {
     "name": "stdout",
     "output_type": "stream",
     "text": [
      "[{u'_score': 1.0, u'_type': u'test-type', u'_id': u'2', u'_source': {u'field-4': [2, 4, 6], u'field-5': {u'inner-1': u'FALSE', u'inner-2': 50}, u'field-1': u'This is another test data', u'field-2': 5, u'field-3': False}, u'_index': u'test'}, {u'_score': 1.0, u'_type': u'test-type', u'_id': u'1', u'_source': {u'field-4': [1, 2, 3], u'field-5': {u'inner-1': u'YES', u'inner-2': 100}, u'field-1': u'Hello World', u'field-2': 2, u'field-3': True}, u'_index': u'test'}]\n",
      "{u'field-4': [2, 4, 6], u'field-5': {u'inner-1': u'FALSE', u'inner-2': 50}, u'field-1': u'This is another test data', u'field-2': 5, u'field-3': False}\n",
      "{u'field-4': [1, 2, 3], u'field-5': {u'inner-1': u'YES', u'inner-2': 100}, u'field-1': u'Hello World', u'field-2': 2, u'field-3': True}\n"
     ]
    }
   ],
   "source": [
    "# Get all data\n",
    "res = es.search(index='test', doc_type='test-type', body={\n",
    "        \"query\": {\n",
    "            \"match_all\": {}\n",
    "        }\n",
    "    })\n",
    "# print res\n",
    "# Result is a dict, content is inside \"hits\" under \"hits\"\n",
    "hits = res['hits']['hits']\n",
    "print hits\n",
    "# It's a list, each entry cotains the relevance score and some other fileds, the data itself is under \"_source\"\n",
    "for hit in hits:\n",
    "    print hit['_source']"
   ]
  },
  {
   "cell_type": "code",
   "execution_count": 31,
   "metadata": {
    "collapsed": false
   },
   "outputs": [
    {
     "name": "stdout",
     "output_type": "stream",
     "text": [
      "1\n"
     ]
    }
   ],
   "source": [
    "# Find all the entries that have term \"hello\" in \"field-1\"\n",
    "res = es.search(index='test', doc_type='test-type', body={\n",
    "        \"query\": {\n",
    "            \"term\": {\n",
    "                \"field-1\": \"hello\"\n",
    "            }\n",
    "        }\n",
    "    })\n",
    "print res['hits']['total']\n",
    "# The total hits should be 1"
   ]
  },
  {
   "cell_type": "markdown",
   "metadata": {},
   "source": [
    "## Putting all together\n",
    "\n",
    "We can now parse all the pages, extract all the data we want and then put them into Elasticsearch so that we can do simple queries to get what we want in the future."
   ]
  },
  {
   "cell_type": "code",
   "execution_count": 67,
   "metadata": {
    "collapsed": false
   },
   "outputs": [
    {
     "data": {
      "text/plain": [
       "{u'acknowledged': True, u'shards_acknowledged': True}"
      ]
     },
     "execution_count": 67,
     "metadata": {},
     "output_type": "execute_result"
    }
   ],
   "source": [
    "es.indices.create(index='wiki', ignore=400)"
   ]
  },
  {
   "cell_type": "code",
   "execution_count": 68,
   "metadata": {
    "collapsed": false
   },
   "outputs": [
    {
     "data": {
      "text/plain": [
       "{u'_id': u'2',\n",
       " u'_index': u'wiki',\n",
       " u'_shards': {u'failed': 0, u'successful': 1, u'total': 2},\n",
       " u'_type': u'page',\n",
       " u'_version': 1,\n",
       " u'created': True,\n",
       " u'result': u'created'}"
      ]
     },
     "execution_count": 68,
     "metadata": {},
     "output_type": "execute_result"
    }
   ],
   "source": [
    "def parse_page(url, title):\n",
    "    r = requests.get(url)\n",
    "    res = r.text\n",
    "    obj = json.loads(res)\n",
    "    page = obj['query']['pages'].keys()[0]\n",
    "    content = obj['query']['pages'][page]['revisions'][0]['*']\n",
    "\n",
    "    wiki = mwparserfromhell.parse(content, skip_style_tags=True)\n",
    "    \n",
    "    wiki_links = wiki.filter(forcetype=wikilink_type)\n",
    "    wiki_links = map(lambda a: {\"title\": unicode(a.title), \"text\": unicode(a.text) if a.text is not None else \"\"}, wiki_links)\n",
    "    \n",
    "    external_links = wiki.filter(forcetype=external_link_type)\n",
    "    external_links = map(lambda a: {\"url\": unicode(a.url), \"title\": unicode(a.title) if a.title is not None else \"\"}, external_links)\n",
    "    text = wiki.strip_code()\n",
    "    return {\"title\": title, \"text\": text, \"wiki_links\": wiki_links, \"external_links\": external_links}\n",
    "\n",
    "apple = parse_page(\"https://en.wikipedia.org/w/api.php?action=query&titles=Apple%20Inc.&prop=revisions&rvprop=content&format=json\", \"Apple Inc.\")\n",
    "es.index(index=\"wiki\", doc_type=\"page\", id=1, body=apple)\n",
    "google = parse_page(\"https://en.wikipedia.org/w/api.php?action=query&titles=Google&prop=revisions&rvprop=content&format=json\", \"Google\")\n",
    "es.index(index=\"wiki\", doc_type=\"page\", id=2, body=google)"
   ]
  },
  {
   "cell_type": "code",
   "execution_count": 69,
   "metadata": {
    "collapsed": false
   },
   "outputs": [
    {
     "name": "stdout",
     "output_type": "stream",
     "text": [
      "1\n"
     ]
    }
   ],
   "source": [
    "# Find all the entries that have term \"ipod\" in \"text\"\n",
    "res = es.search(index='wiki', doc_type='page', body={\n",
    "        \"query\": {\n",
    "            \"term\": {\n",
    "                \"text\": \"ipod\"\n",
    "            }\n",
    "        }\n",
    "    })\n",
    "print res['hits']['total']\n",
    "# The total hits should be 1"
   ]
  },
  {
   "cell_type": "markdown",
   "metadata": {},
   "source": [
    "## Reference\n",
    "\n",
    "+ http://mwparserfromhell.readthedocs.io/en/latest/api/mwparserfromhell.html\n",
    "+ https://elasticsearch-py.readthedocs.io/en/master/\n",
    "+ https://github.com/earwig/mwparserfromhell/tree/develop\n",
    "+ https://github.com/elastic/elasticsearch\n",
    "+ https://www.elastic.co/guide/en/elasticsearch/reference/current/query-dsl-term-query.html\n",
    "+ https://mobz.github.io/elasticsearch-head/"
   ]
  },
  {
   "cell_type": "code",
   "execution_count": null,
   "metadata": {
    "collapsed": true
   },
   "outputs": [],
   "source": []
  }
 ],
 "metadata": {
  "kernelspec": {
   "display_name": "Python 2",
   "language": "python",
   "name": "python2"
  },
  "language_info": {
   "codemirror_mode": {
    "name": "ipython",
    "version": 2
   },
   "file_extension": ".py",
   "mimetype": "text/x-python",
   "name": "python",
   "nbconvert_exporter": "python",
   "pygments_lexer": "ipython2",
   "version": "2.7.10"
  }
 },
 "nbformat": 4,
 "nbformat_minor": 1
}
