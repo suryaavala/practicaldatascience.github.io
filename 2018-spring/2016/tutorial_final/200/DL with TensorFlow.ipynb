{
 "cells": [
  {
   "cell_type": "markdown",
   "metadata": {
    "collapsed": true
   },
   "source": [
    "## Introduction\n",
    "\n",
    "This tutorial will introduce you to some basic methods for applying deep learning techniques in data science using python framework TensorFlow. In the past few years, Deep Learning has generated much excitement in Machine Learning and industry thanks to many breakthrough results in speech recognition, computer vision and text processing. For many researchers and engineers, Deep Learning is another name for a set of algorithms that use a neural network as\n",
    "an architecture. Even though neural networks have a long history, they became more successful in recent\n",
    "years due to the availability of inexpensive, parallel hardware (GPUs, computer clusters) and massive\n",
    "amounts of data.\n",
    "\n",
    "Below is a deep learning application in image processing:\n",
    "[<img src=\"https://upload.wikimedia.org/wikipedia/commons/thumb/f/f0/Aurelia-aurita-3_%28cropped%29.jpg/320px-Aurelia-aurita-3_%28cropped%29.jpg\">](https://upload.wikimedia.org/wikipedia/commons/thumb/f/f0/Aurelia-aurita-3_%28cropped%29.jpg/320px-Aurelia-aurita-3_%28cropped%29.jpg)\n",
    "\n",
    "[<img src=\"https://upload.wikimedia.org/wikipedia/commons/thumb/8/89/Aurelia-aurita-3-0009.jpg/320px-Aurelia-aurita-3-0009.jpg\">](https://upload.wikimedia.org/wikipedia/commons/thumb/8/89/Aurelia-aurita-3-0009.jpg/320px-Aurelia-aurita-3-0009.jpg)\n",
    "DeepDream is a computer vision program created by Google which uses a convolutional neural network to find and enhance patterns in images via algorithmic pareidolia, thus creating a dreamlike hallucinogenic appearance in the deliberately over-processed images. Google's program popularized the term (deep) \"dreaming\" to refer to the generation of images that desired activations in a trained deep network, and the term now refers to a collection of related approaches."
   ]
  },
  {
   "cell_type": "markdown",
   "metadata": {},
   "source": [
    "### Tutorial content\n",
    "\n",
    "\n",
    "In this tutorial, we'll take a step by step approach to learn the basics of deep learning and how to use the [TensorFlow](https://www.tensorflow.org/) toolkit for solving practical data science problems. You'll learn about about how to train a simple classification model from end-to-end, train your fisrt simple neuro network, improve neuro network performance by making it deeper and apply regularization techniques, and inspect more advanced type of neuro network with deep learning such as convolutional networks.\n",
    "\n",
    "We'll be using [notMNIST](http://yaroslavvb.blogspot.com/2011/09/notmnist-dataset.html) dataset. This dataset is preprocessed to look like the ubiquitous MNIST dataset, while looking a little more like real data. (e.g. the data is a lot less 'clean' than MNIST). There are 10 classes, with letters A-J taken from different fonts and with suble differences in the appearance.\n",
    "\n",
    "We will cover the following topics in this tutorial:\n",
    "- [Installing the libraries](#Installing-the-libraries)\n",
    "- [Downloading and extracting data](#Downloading-and-extracting-data)\n",
    "- [Train your classification model](#Train-your-classification-model)\n",
    "- [Deeper training with TensorFlow](#Deeper-training-with-TensorFlow)\n",
    "- [Apply regularization techniques](#Apply-regularization-techniques)\n",
    "- [Example application: convolutional neuro network](#Example-application:-convolutional-neuro-network)\n",
    "- [Summary and Reference](#Summary-and-Reference)"
   ]
  },
  {
   "cell_type": "markdown",
   "metadata": {},
   "source": [
    "## Installing the libraries"
   ]
  },
  {
   "cell_type": "markdown",
   "metadata": {},
   "source": [
    "Before we start, we need to import the following libraries that we are going to use later."
   ]
  },
  {
   "cell_type": "code",
   "execution_count": 4,
   "metadata": {
    "collapsed": false
   },
   "outputs": [],
   "source": [
    "# These are all the modules we'll be using later. Make sure you can import them\n",
    "# before proceeding further.\n",
    "from __future__ import print_function\n",
    "import matplotlib.pyplot as plt\n",
    "%matplotlib inline\n",
    "import numpy as np\n",
    "import os\n",
    "import sys\n",
    "import tarfile\n",
    "from IPython.display import display, Image\n",
    "from scipy import ndimage\n",
    "from sklearn.linear_model import LogisticRegression\n",
    "from six.moves.urllib.request import urlretrieve\n",
    "from six.moves import cPickle as pickle"
   ]
  },
  {
   "cell_type": "markdown",
   "metadata": {},
   "source": [
    "## Downloading and extracting data"
   ]
  },
  {
   "cell_type": "markdown",
   "metadata": {},
   "source": [
    "First of all, we need to download the [notMNIST](http://yaroslavvb.blogspot.com/2011/09/notmnist-dataset.html) dataset. The dataset consists of character images in a variety of fonts on a 28x28 image. The labels are limited to 'A' through 'J' (10 classes). The training set has about 500k and the testset 19000 labelled examples. The download and extraction process will take about 3-10 minutes to finish depending your local environment. Please patiently wait and proceed after it's done."
   ]
  },
  {
   "cell_type": "code",
   "execution_count": 8,
   "metadata": {
    "collapsed": false
   },
   "outputs": [
    {
     "name": "stdout",
     "output_type": "stream",
     "text": [
      "('Found and verified', 'notMNIST_large.tar.gz')\n",
      "('Found and verified', 'notMNIST_small.tar.gz')\n"
     ]
    }
   ],
   "source": [
    "url = 'http://yaroslavvb.com/upload/notMNIST/'\n",
    "\n",
    "def maybe_download(filename, expected_bytes, force=False):\n",
    "    \"\"\"Download a file if not present, and make sure it's the right size.\"\"\"\n",
    "    if force or not os.path.exists(filename):\n",
    "        filename, _ = urlretrieve(url + filename, filename)\n",
    "        statinfo = os.stat(filename)\n",
    "    if statinfo.st_size == expected_bytes:\n",
    "        print('Found and verified', filename)\n",
    "    else:\n",
    "        raise Exception('Failed to verify' + filename + '. Can you get to it with a browser?')\n",
    "    return filename\n",
    "\n",
    "train_filename = maybe_download('notMNIST_large.tar.gz', 247336696)\n",
    "test_filename = maybe_download('notMNIST_small.tar.gz', 8458043)"
   ]
  },
  {
   "cell_type": "code",
   "execution_count": 13,
   "metadata": {
    "collapsed": false
   },
   "outputs": [
    {
     "name": "stdout",
     "output_type": "stream",
     "text": [
      "Extracting data for notMNIST_large. This may take a while. Please wait.\n",
      "['notMNIST_large/A', 'notMNIST_large/B', 'notMNIST_large/C', 'notMNIST_large/D', 'notMNIST_large/E', 'notMNIST_large/F', 'notMNIST_large/G', 'notMNIST_large/H', 'notMNIST_large/I', 'notMNIST_large/J']\n",
      "Extracting data for notMNIST_small. This may take a while. Please wait.\n",
      "['notMNIST_small/A', 'notMNIST_small/B', 'notMNIST_small/C', 'notMNIST_small/D', 'notMNIST_small/E', 'notMNIST_small/F', 'notMNIST_small/G', 'notMNIST_small/H', 'notMNIST_small/I', 'notMNIST_small/J']\n"
     ]
    }
   ],
   "source": [
    "num_classes = 10\n",
    "np.random.seed(133)\n",
    "\n",
    "def maybe_extract(filename, force=False):\n",
    "    root = os.path.splitext(os.path.splitext(filename)[0])[0]  # remove .tar.gz\n",
    "    if os.path.isdir(root) and not force:\n",
    "        # You may override by setting force=True.\n",
    "        print('%s already present - Skipping extraction of %s.' % (root, filename))\n",
    "    else:\n",
    "        print('Extracting data for %s. This may take a while. Please wait.' % root)\n",
    "        tar = tarfile.open(filename)\n",
    "        sys.stdout.flush()\n",
    "        tar.extractall()\n",
    "        tar.close()\n",
    "    data_folders = [os.path.join(root, d) for d in sorted(os.listdir(root)) if os.path.isdir(os.path.join(root, d))]\n",
    "    if len(data_folders) != num_classes:\n",
    "        raise Exception('Expected %d folders, one per class. Found %d instead.' % (num_classes, len(data_folders)))\n",
    "    print(data_folders)\n",
    "    return data_folders\n",
    "  \n",
    "train_folders = maybe_extract(train_filename, force=True)\n",
    "test_folders = maybe_extract(test_filename, force=True)"
   ]
  },
  {
   "cell_type": "markdown",
   "metadata": {},
   "source": [
    "## Train your classification model"
   ]
  },
  {
   "cell_type": "markdown",
   "metadata": {},
   "source": [
    "Before we can train any machine learning models, we need to make sure our input datasets are in an amenable format (e.g. tensor, a multi-dimensional array). Depedning on your loacl machine configuration, the dataset might not fit in the memory. We'll load each class into a separate dataset, store them on disk and curate them independently.\n",
    "\n",
    "We'll convert the entire dataset into a 3D array (image index, x, y) of floating point values, normalized along the way to have approximately zero mean and standard deviation ~0.5. This is just feature normalization taught in class to make numerical operations more stable and easier. We'll simply sikp the images that are not readable. The print output is kind of long (feel free to skip them unless you are curious), it will report any malformed images as well as each tensor dataset's mean and standard deviation."
   ]
  },
  {
   "cell_type": "code",
   "execution_count": 14,
   "metadata": {
    "collapsed": false
   },
   "outputs": [
    {
     "name": "stdout",
     "output_type": "stream",
     "text": [
      "Pickling notMNIST_large/A.pickle.\n",
      "notMNIST_large/A\n",
      "('Could not read:', 'notMNIST_large/A/RnJlaWdodERpc3BCb29rSXRhbGljLnR0Zg==.png', ':', IOError(\"cannot identify image file 'notMNIST_large/A/RnJlaWdodERpc3BCb29rSXRhbGljLnR0Zg==.png'\",), \"- it's ok, skipping.\")\n",
      "('Could not read:', 'notMNIST_large/A/SG90IE11c3RhcmQgQlROIFBvc3Rlci50dGY=.png', ':', IOError(\"cannot identify image file 'notMNIST_large/A/SG90IE11c3RhcmQgQlROIFBvc3Rlci50dGY=.png'\",), \"- it's ok, skipping.\")\n",
      "('Could not read:', 'notMNIST_large/A/Um9tYW5hIEJvbGQucGZi.png', ':', IOError(\"cannot identify image file 'notMNIST_large/A/Um9tYW5hIEJvbGQucGZi.png'\",), \"- it's ok, skipping.\")\n",
      "('Full dataset tensor:', (52909, 28, 28))\n",
      "('Mean:', -0.12825024)\n",
      "('Standard deviation:', 0.44312063)\n",
      "Pickling notMNIST_large/B.pickle.\n",
      "notMNIST_large/B\n",
      "('Could not read:', 'notMNIST_large/B/TmlraXNFRi1TZW1pQm9sZEl0YWxpYy5vdGY=.png', ':', IOError(\"cannot identify image file 'notMNIST_large/B/TmlraXNFRi1TZW1pQm9sZEl0YWxpYy5vdGY=.png'\",), \"- it's ok, skipping.\")\n",
      "('Full dataset tensor:', (52911, 28, 28))\n",
      "('Mean:', -0.0075630303)\n",
      "('Standard deviation:', 0.45449105)\n",
      "Pickling notMNIST_large/C.pickle.\n",
      "notMNIST_large/C\n",
      "('Full dataset tensor:', (52912, 28, 28))\n",
      "('Mean:', -0.14225811)\n",
      "('Standard deviation:', 0.43980625)\n",
      "Pickling notMNIST_large/D.pickle.\n",
      "notMNIST_large/D\n",
      "('Could not read:', 'notMNIST_large/D/VHJhbnNpdCBCb2xkLnR0Zg==.png', ':', IOError(\"cannot identify image file 'notMNIST_large/D/VHJhbnNpdCBCb2xkLnR0Zg==.png'\",), \"- it's ok, skipping.\")\n",
      "('Full dataset tensor:', (52911, 28, 28))\n",
      "('Mean:', -0.057367794)\n",
      "('Standard deviation:', 0.45564765)\n",
      "Pickling notMNIST_large/E.pickle.\n",
      "notMNIST_large/E\n",
      "('Full dataset tensor:', (52912, 28, 28))\n",
      "('Mean:', -0.069898993)\n",
      "('Standard deviation:', 0.45294195)\n",
      "Pickling notMNIST_large/F.pickle.\n",
      "notMNIST_large/F\n",
      "('Full dataset tensor:', (52912, 28, 28))\n",
      "('Mean:', -0.12558331)\n",
      "('Standard deviation:', 0.44708964)\n",
      "Pickling notMNIST_large/G.pickle.\n",
      "notMNIST_large/G\n",
      "('Full dataset tensor:', (52912, 28, 28))\n",
      "('Mean:', -0.094581351)\n",
      "('Standard deviation:', 0.44623983)\n",
      "Pickling notMNIST_large/H.pickle.\n",
      "notMNIST_large/H\n",
      "('Full dataset tensor:', (52912, 28, 28))\n",
      "('Mean:', -0.068522058)\n",
      "('Standard deviation:', 0.45423177)\n",
      "Pickling notMNIST_large/I.pickle.\n",
      "notMNIST_large/I\n",
      "('Full dataset tensor:', (52912, 28, 28))\n",
      "('Mean:', 0.03078625)\n",
      "('Standard deviation:', 0.46889907)\n",
      "Pickling notMNIST_large/J.pickle.\n",
      "notMNIST_large/J\n",
      "('Full dataset tensor:', (52911, 28, 28))\n",
      "('Mean:', -0.15335836)\n",
      "('Standard deviation:', 0.44365644)\n",
      "Pickling notMNIST_small/A.pickle.\n",
      "notMNIST_small/A\n",
      "('Could not read:', 'notMNIST_small/A/RGVtb2NyYXRpY2FCb2xkT2xkc3R5bGUgQm9sZC50dGY=.png', ':', IOError(\"cannot identify image file 'notMNIST_small/A/RGVtb2NyYXRpY2FCb2xkT2xkc3R5bGUgQm9sZC50dGY=.png'\",), \"- it's ok, skipping.\")\n",
      "('Full dataset tensor:', (1872, 28, 28))\n",
      "('Mean:', -0.13262637)\n",
      "('Standard deviation:', 0.44512793)\n",
      "Pickling notMNIST_small/B.pickle.\n",
      "notMNIST_small/B\n",
      "('Full dataset tensor:', (1873, 28, 28))\n",
      "('Mean:', 0.005356085)\n",
      "('Standard deviation:', 0.45711532)\n",
      "Pickling notMNIST_small/C.pickle.\n",
      "notMNIST_small/C\n",
      "('Full dataset tensor:', (1873, 28, 28))\n",
      "('Mean:', -0.1415206)\n",
      "('Standard deviation:', 0.44269031)\n",
      "Pickling notMNIST_small/D.pickle.\n",
      "notMNIST_small/D\n",
      "('Full dataset tensor:', (1873, 28, 28))\n",
      "('Mean:', -0.049216662)\n",
      "('Standard deviation:', 0.45975891)\n",
      "Pickling notMNIST_small/E.pickle.\n",
      "notMNIST_small/E\n",
      "('Full dataset tensor:', (1873, 28, 28))\n",
      "('Mean:', -0.05991479)\n",
      "('Standard deviation:', 0.45734963)\n",
      "Pickling notMNIST_small/F.pickle.\n",
      "notMNIST_small/F\n",
      "('Could not read:', 'notMNIST_small/F/Q3Jvc3NvdmVyIEJvbGRPYmxpcXVlLnR0Zg==.png', ':', IOError(\"cannot identify image file 'notMNIST_small/F/Q3Jvc3NvdmVyIEJvbGRPYmxpcXVlLnR0Zg==.png'\",), \"- it's ok, skipping.\")\n",
      "('Full dataset tensor:', (1872, 28, 28))\n",
      "('Mean:', -0.1181853)\n",
      "('Standard deviation:', 0.45227867)\n",
      "Pickling notMNIST_small/G.pickle.\n",
      "notMNIST_small/G\n",
      "('Full dataset tensor:', (1872, 28, 28))\n",
      "('Mean:', -0.092550278)\n",
      "('Standard deviation:', 0.44900584)\n",
      "Pickling notMNIST_small/H.pickle.\n",
      "notMNIST_small/H\n",
      "('Full dataset tensor:', (1872, 28, 28))\n",
      "('Mean:', -0.058689252)\n",
      "('Standard deviation:', 0.45875895)\n",
      "Pickling notMNIST_small/I.pickle.\n",
      "notMNIST_small/I\n",
      "('Full dataset tensor:', (1872, 28, 28))\n",
      "('Mean:', 0.052645069)\n",
      "('Standard deviation:', 0.47189355)\n",
      "Pickling notMNIST_small/J.pickle.\n",
      "notMNIST_small/J\n",
      "('Full dataset tensor:', (1872, 28, 28))\n",
      "('Mean:', -0.15168911)\n",
      "('Standard deviation:', 0.44801357)\n"
     ]
    }
   ],
   "source": [
    "from load_data import maybe_pickle\n",
    "train_datasets = maybe_pickle(train_folders, 45000)\n",
    "test_datasets = maybe_pickle(test_folders, 1800)"
   ]
  },
  {
   "cell_type": "markdown",
   "metadata": {},
   "source": [
    "We can examine the pickle file to make sure our data still looks good after being processed to tensors."
   ]
  },
  {
   "cell_type": "code",
   "execution_count": 15,
   "metadata": {
    "collapsed": false
   },
   "outputs": [
    {
     "data": {
      "image/png": "[encoded data removed]",
      "text/plain": [
       "<matplotlib.figure.Figure at 0x12d671d90>"
      ]
     },
     "metadata": {},
     "output_type": "display_data"
    }
   ],
   "source": [
    "# verify the data is still good after loaded into tensors\n",
    "pickle_file = train_datasets[0] # index 0 should give all As. 1 = all Bs etc.\n",
    "with open(pickle_file, 'rb') as f:\n",
    "    letter_set = pickle.load(f) # unpickle\n",
    "    sample_idx = np.random.randint(len(letter_set)) # pick a random sample in the set\n",
    "    sample_image = letter_set[sample_idx, :, :] # extract the a 2D slice\n",
    "    plt.figure()\n",
    "    plt.imshow(sample_image)"
   ]
  },
  {
   "cell_type": "markdown",
   "metadata": {},
   "source": [
    "We then merge and prune the traing data as needed. Note we also split two blocks in addition to training set of the data for validation set and test set. The validation set is useful for tuning the hyperparameters in our model while the test set is used for testing the generalization of our model."
   ]
  },
  {
   "cell_type": "code",
   "execution_count": 16,
   "metadata": {
    "collapsed": false
   },
   "outputs": [
    {
     "name": "stdout",
     "output_type": "stream",
     "text": [
      "('Training:', (200000, 28, 28), (200000,))\n",
      "('Validation:', (10000, 28, 28), (10000,))\n",
      "('Testing:', (10000, 28, 28), (10000,))\n"
     ]
    }
   ],
   "source": [
    "def make_arrays(nb_rows, img_size):\n",
    "    if nb_rows:\n",
    "        dataset = np.ndarray((nb_rows, img_size, img_size), dtype=np.float32)\n",
    "        labels = np.ndarray(nb_rows, dtype=np.int32)\n",
    "    else:\n",
    "        dataset, labels = None, None\n",
    "    return dataset, labels\n",
    "\n",
    "def merge_datasets(pickle_files, train_size, valid_size=0):\n",
    "    num_classes = len(pickle_files)\n",
    "    valid_dataset, valid_labels = make_arrays(valid_size, image_size)\n",
    "    train_dataset, train_labels = make_arrays(train_size, image_size)\n",
    "    vsize_per_class = valid_size // num_classes\n",
    "    tsize_per_class = train_size // num_classes\n",
    "    \n",
    "    start_v, start_t = 0, 0\n",
    "    end_v, end_t = vsize_per_class, tsize_per_class\n",
    "    end_l = vsize_per_class+tsize_per_class\n",
    "    for label, pickle_file in enumerate(pickle_files):       \n",
    "        try:\n",
    "            with open(pickle_file, 'rb') as f:\n",
    "                letter_set = pickle.load(f)\n",
    "                # let's shuffle the letters to have random validation and training set\n",
    "                np.random.shuffle(letter_set)\n",
    "                if valid_dataset is not None:\n",
    "                    valid_letter = letter_set[:vsize_per_class, :, :]\n",
    "                    valid_dataset[start_v:end_v, :, :] = valid_letter\n",
    "                    valid_labels[start_v:end_v] = label\n",
    "                    start_v += vsize_per_class\n",
    "                    end_v += vsize_per_class                \n",
    "                train_letter = letter_set[vsize_per_class:end_l, :, :]\n",
    "                train_dataset[start_t:end_t, :, :] = train_letter\n",
    "                train_labels[start_t:end_t] = label\n",
    "                start_t += tsize_per_class\n",
    "                end_t += tsize_per_class\n",
    "        except Exception as e:\n",
    "            print('Unable to process data from', pickle_file, ':', e)\n",
    "            raise\n",
    "    return valid_dataset, valid_labels, train_dataset, train_labels\n",
    "            \n",
    "            \n",
    "train_size = 200000\n",
    "valid_size = 10000\n",
    "test_size = 10000\n",
    "\n",
    "valid_dataset, valid_labels, train_dataset, train_labels = merge_datasets(\n",
    "  train_datasets, train_size, valid_size)\n",
    "_, _, test_dataset, test_labels = merge_datasets(test_datasets, test_size)\n",
    "\n",
    "print('Training:', train_dataset.shape, train_labels.shape)\n",
    "print('Validation:', valid_dataset.shape, valid_labels.shape)\n",
    "print('Testing:', test_dataset.shape, test_labels.shape)"
   ]
  },
  {
   "cell_type": "markdown",
   "metadata": {},
   "source": [
    "We also want to apply some randomness to our data input by shuffling the feature set and associted labels."
   ]
  },
  {
   "cell_type": "code",
   "execution_count": 18,
   "metadata": {
    "collapsed": true
   },
   "outputs": [],
   "source": [
    "def randomize(dataset, labels):\n",
    "    permutation = np.random.permutation(labels.shape[0])\n",
    "    shuffled_dataset = dataset[permutation,:,:]\n",
    "    shuffled_labels = labels[permutation]\n",
    "    return shuffled_dataset, shuffled_labels\n",
    "train_dataset, train_labels = randomize(train_dataset, train_labels)\n",
    "test_dataset, test_labels = randomize(test_dataset, test_labels)\n",
    "valid_dataset, valid_labels = randomize(valid_dataset, valid_labels)"
   ]
  },
  {
   "cell_type": "markdown",
   "metadata": {},
   "source": [
    "Finally, we can save our data for later use. (e.g. train our deep model)"
   ]
  },
  {
   "cell_type": "code",
   "execution_count": 19,
   "metadata": {
    "collapsed": true
   },
   "outputs": [],
   "source": [
    "pickle_file = 'notMNIST.pickle'\n",
    "\n",
    "try:\n",
    "    f = open(pickle_file, 'wb')\n",
    "    save = {\n",
    "        'train_dataset': train_dataset,\n",
    "        'train_labels': train_labels,\n",
    "        'valid_dataset': valid_dataset,\n",
    "        'valid_labels': valid_labels,\n",
    "        'test_dataset': test_dataset,\n",
    "        'test_labels': test_labels,\n",
    "    }\n",
    "    pickle.dump(save, f, pickle.HIGHEST_PROTOCOL)\n",
    "    f.close()\n",
    "except Exception as e:\n",
    "    print('Unable to save data to', pickle_file, ':', e)\n",
    "    raise"
   ]
  },
  {
   "cell_type": "code",
   "execution_count": 20,
   "metadata": {
    "collapsed": false
   },
   "outputs": [
    {
     "name": "stdout",
     "output_type": "stream",
     "text": [
      "('Compressed pickle size:', 690800441)\n"
     ]
    }
   ],
   "source": [
    "statinfo = os.stat(pickle_file)\n",
    "print('Compressed pickle size:', statinfo.st_size)"
   ]
  },
  {
   "cell_type": "markdown",
   "metadata": {},
   "source": [
    "Here we use the logistic regression model provided in sklearn to train our multinomial classifier. Note that we use only a fraction of the original training set (5000 examples) and pay attention to the speed of training. Linear model is very useful in many circumstances, but it sometimes scales not very well with large amount of data. This is where deep learning comes in to rescue and we can see it clearer in the later portion of the tutorial."
   ]
  },
  {
   "cell_type": "code",
   "execution_count": 21,
   "metadata": {
    "collapsed": false
   },
   "outputs": [
    {
     "data": {
      "text/plain": [
       "0.85260000000000002"
      ]
     },
     "execution_count": 21,
     "metadata": {},
     "output_type": "execute_result"
    }
   ],
   "source": [
    "lg = LogisticRegression()\n",
    "X_train = train_dataset.reshape(train_dataset.shape[0], image_size*image_size)\n",
    "X_test = test_dataset.reshape(test_dataset.shape[0], image_size*image_size)\n",
    "lg.fit(X_train[:5000], train_labels[:5000])\n",
    "lg.score(X_test, test_labels)"
   ]
  },
  {
   "cell_type": "markdown",
   "metadata": {},
   "source": [
    "## Deeper training with TensorFlow"
   ]
  },
  {
   "cell_type": "markdown",
   "metadata": {},
   "source": [
    "Now that we trained our simple classifier we will start working on our first deep learning model. To be able to do that we need to use the deep learning tool called [TensorFlow](https://www.tensorflow.org/). There are [several ways](https://www.tensorflow.org/versions/r0.11/get_started/os_setup.html) to install tensorflow on your machine, one way is use pip install tensorflow on your local machine by executing the following commands (I am using Mac as an example, but you can look for commnds for other OSs [here](https://www.tensorflow.org/versions/r0.11/get_started/os_setup.html#pip-installation):\n",
    "\n",
    "Install python pip utility if not already:\n",
    "    \n",
    "    Mac OS X\n",
    "    $ sudo easy_install pip\n",
    "    $ sudo easy_install --upgrade six\n",
    "\n",
    "Export url for tensorflow-CPU image:\n",
    "\n",
    "    Mac OS X, CPU only, Python 2.7:\n",
    "    $ export TF_BINARY_URL=https://storage.googleapis.com/tensorflow/mac/cpu/tensorflow-0.11.0rc2-py2-none-any.whl\n",
    "\n",
    "Install using pip:\n",
    "\n",
    "    # Python 2\n",
    "    $ sudo pip install --upgrade $TF_BINARY_URL\n",
    "\n",
    "Now that we installed tensorflow, we can import the modules we needed for training our deep model. (Be sure to restar the notebook if you just installed tensorflow after openning the current notebook)\n",
    "        \n",
    "\n",
    "        "
   ]
  },
  {
   "cell_type": "code",
   "execution_count": 2,
   "metadata": {
    "collapsed": false
   },
   "outputs": [],
   "source": [
    "import tensorflow as tf\n",
    "from six.moves import range"
   ]
  },
  {
   "cell_type": "markdown",
   "metadata": {},
   "source": [
    "We'll reload the picke files we genereate before as our input data."
   ]
  },
  {
   "cell_type": "code",
   "execution_count": 7,
   "metadata": {
    "collapsed": false
   },
   "outputs": [
    {
     "name": "stdout",
     "output_type": "stream",
     "text": [
      "Training set (200000, 28, 28) (200000,)\n",
      "Validation set (10000, 28, 28) (10000,)\n",
      "Test set (10000, 28, 28) (10000,)\n"
     ]
    }
   ],
   "source": [
    "pickle_file = 'notMNIST.pickle'\n",
    "\n",
    "with open(pickle_file, 'rb') as f:\n",
    "    save = pickle.load(f)\n",
    "    train_dataset = save['train_dataset']\n",
    "    train_labels = save['train_labels']\n",
    "    valid_dataset = save['valid_dataset']\n",
    "    valid_labels = save['valid_labels']\n",
    "    test_dataset = save['test_dataset']\n",
    "    test_labels = save['test_labels']\n",
    "    del save  # hint to help gc free up memory\n",
    "    print('Training set', train_dataset.shape, train_labels.shape)\n",
    "    print('Validation set', valid_dataset.shape, valid_labels.shape)\n",
    "    print('Test set', test_dataset.shape, test_labels.shape)"
   ]
  },
  {
   "cell_type": "markdown",
   "metadata": {},
   "source": [
    "We'll flatten the input features as 1d numpy array and encode the labels using one-hot encoding. (e.g. if we have 3 classes, 0 will map to (1, 0, 0), 1 will map tp (0,1,0), etc.)"
   ]
  },
  {
   "cell_type": "code",
   "execution_count": 8,
   "metadata": {
    "collapsed": false
   },
   "outputs": [
    {
     "name": "stdout",
     "output_type": "stream",
     "text": [
      "Training set (200000, 784) (200000, 10)\n",
      "Validation set (10000, 784) (10000, 10)\n",
      "Test set (10000, 784) (10000, 10)\n"
     ]
    }
   ],
   "source": [
    "image_size = 28\n",
    "num_labels = 10\n",
    "\n",
    "def reformat(dataset, labels):\n",
    "    dataset = dataset.reshape((-1, image_size * image_size)).astype(np.float32)\n",
    "    # Map 0 to [1.0, 0.0, 0.0 ...], 1 to [0.0, 1.0, 0.0 ...]\n",
    "    labels = (np.arange(num_labels) == labels[:,None]).astype(np.float32)\n",
    "    return dataset, labels\n",
    "train_dataset, train_labels = reformat(train_dataset, train_labels)\n",
    "valid_dataset, valid_labels = reformat(valid_dataset, valid_labels)\n",
    "test_dataset, test_labels = reformat(test_dataset, test_labels)\n",
    "print('Training set', train_dataset.shape, train_labels.shape)\n",
    "print('Validation set', valid_dataset.shape, valid_labels.shape)\n",
    "print('Test set', test_dataset.shape, test_labels.shape)"
   ]
  },
  {
   "cell_type": "markdown",
   "metadata": {},
   "source": [
    "TensorFlow works like this:\n",
    "* First you describe the computation that you want to see performed: what the inputs(e.g. training set, validation set, test set), the variables(parameters in weight matrix and biases), and the operations look like(our model, loss function, and optimizer). These get created as nodes over a computation graph. This description is all contained within the block below:\n",
    "\n",
    "      with graph.as_default():\n",
    "          ...\n",
    "\n",
    "* Then you can run the operations on this graph as many times as you want by calling `session.run()`, providing it outputs to fetch from the graph that get returned. This runtime operation is all contained in the block below:\n",
    "\n",
    "      with tf.Session(graph=graph) as session:\n",
    "          ...\n",
    "\n",
    "Let's load all the data into TensorFlow and build the computation graph corresponding to our training:"
   ]
  },
  {
   "cell_type": "code",
   "execution_count": 133,
   "metadata": {
    "collapsed": false
   },
   "outputs": [],
   "source": [
    "# get the predictions for given data and parameters (this is a helper function to generate layer output given output from last layer)\n",
    "def get_predictions(dataset, weights, biases, dropout=False, keep_rate=0.5):\n",
    "    if len(weights) == 1:\n",
    "        logits = tf.matmul(dataset, weights[0]) + biases[0]\n",
    "    else:\n",
    "        activation = dataset\n",
    "        for i in range(len(weights) - 1):\n",
    "            output = tf.nn.relu(tf.matmul(activation, weights[i]) + biases[i])\n",
    "            if dropout:\n",
    "                output = tf.nn.dropout(output, keep_rate)\n",
    "            activation = output\n",
    "        logits = tf.matmul(activation, weights[-1]) + biases[-1]\n",
    "    return logits\n",
    " \n",
    "# below are some parameters needed to configure our model    \n",
    "batch_size=128  # small chunck of training set fed into model\n",
    "feature_size=784 # 28x28 image\n",
    "label_size=10 # A~J labels\n",
    "layer_config=[784, 10] # the 1st/last is feature_size/label_size, in the middle are the number of nodes in each hidden layer"
   ]
  },
  {
   "cell_type": "code",
   "execution_count": 134,
   "metadata": {
    "collapsed": false
   },
   "outputs": [],
   "source": [
    "# This is where you configure the tensorflow computation graph\n",
    "graph = tf.Graph()\n",
    "with graph.as_default():\n",
    "    # Input data. For the training data, we use a placeholder that will be fed\n",
    "    # at run time with a training minibatch.\n",
    "    tf_train_dataset = tf.placeholder(tf.float32,shape=(batch_size, feature_size))\n",
    "    tf_train_labels = tf.placeholder(tf.float32, shape=(batch_size, label_size))\n",
    "    tf_valid_dataset = tf.constant(valid_dataset)\n",
    "    tf_test_dataset = tf.constant(test_dataset)\n",
    "    beta_regul = tf.placeholder(tf.float32)\n",
    "    drop_out = tf.placeholder(tf.int32)\n",
    "    global_step = tf.Variable(0)\n",
    "\n",
    "    # Variables.\n",
    "    # These are the parameters that we are going to be training. The weight\n",
    "    # matrix will be initialized using random values following a (truncated)\n",
    "    # normal distribution. The biases get initialized to zero.\n",
    "    weights = []\n",
    "    biases = []\n",
    "    for i in range(len(layer_config) - 1):\n",
    "        weights.append(tf.Variable(tf.truncated_normal([layer_config[i], layer_config[i+1]])))\n",
    "        biases.append(tf.Variable(tf.zeros([layer_config[i+1]])))\n",
    "\n",
    "    # Training computation.\n",
    "    # We multiply the inputs with the weight matrix, and add biases. We compute\n",
    "    # the softmax and cross-entropy (it's one operation in TensorFlow, because\n",
    "    # it's very common, and it can be optimized). We take the average of this\n",
    "    # cross-entropy across all training examples: that's our loss.\n",
    "    logits = get_predictions(tf_train_dataset, weights, biases, dropout, 0.5)\n",
    "    loss = tf.reduce_mean(tf.nn.softmax_cross_entropy_with_logits(logits, tf_train_labels))\n",
    "    # add regularization if beta_regul provided\n",
    "    total = 0.0\n",
    "    for weight in weights:\n",
    "        total += tf.nn.l2_loss(weight)\n",
    "    loss += beta_regul * total\n",
    "\n",
    "    # Optimizer.\n",
    "    # We are going to find the minimum of this loss using gradient descent.\n",
    "    optimizer = tf.train.GradientDescentOptimizer(0.5).minimize(loss)\n",
    "\n",
    "    # Predictions for the training, validation, and test data.\n",
    "    # These are not part of training, but merely here so that we can report\n",
    "    # accuracy figures as we train.\n",
    "    train_prediction = tf.nn.softmax(logits)\n",
    "    valid_logits = get_predictions(tf_valid_dataset, weights, biases, 0)\n",
    "    valid_prediction = tf.nn.softmax(valid_logits)\n",
    "    test_logits = get_predictions(tf_test_dataset, weights, biases, 0)\n",
    "    test_prediction = tf.nn.softmax(test_logits)"
   ]
  },
  {
   "cell_type": "markdown",
   "metadata": {},
   "source": [
    "As you may have noticed, instead of applying constant inputs (as how we train our simple classifier before) to the computation graph, now we are using Placerholder nodes for the training set and associated labels (so that we can feed a small amount of data to our graph model each time). \n",
    "\n",
    "The reason for this is that the original gradient descent method is very hard to scale. Roughly speaking, if a loss function takes N floating point operations, computing its gradient will ~3N operations.   Instead we'll use stochastic gradient descent(SGD) which uses a small random sample of the whole training data to estimate our loss function and gradient. Here we trade many more iterations for unit loss and gradient computation cost. In a general sense, although this estimate is very rough (we are going to see some techniques to improve it later), it's much more efficient than gradient descent. SGD is the core idea behind deep learning to make it scalable with massive dataset."
   ]
  },
  {
   "cell_type": "code",
   "execution_count": 159,
   "metadata": {
    "collapsed": false
   },
   "outputs": [],
   "source": [
    "def accuracy(predictions, labels):\n",
    "    return (100.0 * np.sum(np.argmax(predictions, 1) == np.argmax(labels, 1))\n",
    "          / predictions.shape[0])\n",
    "\n",
    "def run_session_sgd(graph, display_step=500, num_steps=3001, batch_size=128, deed_dict={}, beta=0.0, d=0):\n",
    "    with tf.Session(graph=graph) as session:\n",
    "        tf.initialize_all_variables().run()\n",
    "        print(\"Initialized\")\n",
    "        for step in range(num_steps):\n",
    "            # Pick an offset within the training data, which has been randomized.\n",
    "            # Note: we could use better randomization across epochs.\n",
    "            offset = (step * batch_size) % (train_labels.shape[0] - batch_size)\n",
    "            # Generate a minibatch.\n",
    "            batch_data = train_dataset[offset:(offset + batch_size), :]\n",
    "            batch_labels = train_labels[offset:(offset + batch_size), :]\n",
    "            # Prepare a dictionary telling the session where to feed the minibatch.\n",
    "            # The key of the dictionary is the placeholder node of the graph to be fed,\n",
    "            # and the value is the numpy array to feed to it.b\n",
    "            feed_dict = {tf_train_dataset : batch_data, tf_train_labels : batch_labels, beta_regul : beta, drop_out : d}\n",
    "            _, l, predictions = session.run(\n",
    "              [optimizer, loss, train_prediction], feed_dict=feed_dict)\n",
    "            if (step % display_step == 0):\n",
    "                print(\"Minibatch loss at step %d: %f\" % (step, l))\n",
    "                print(\"Minibatch accuracy: %.1f%%\" % accuracy(predictions, batch_labels))\n",
    "                print(\"Validation accuracy: %.1f%%\" % accuracy(valid_prediction.eval(), valid_labels))\n",
    "                print(\"Test accuracy: %.1f%%\" % accuracy(test_prediction.eval(), test_labels))"
   ]
  },
  {
   "cell_type": "code",
   "execution_count": 136,
   "metadata": {
    "collapsed": false
   },
   "outputs": [
    {
     "name": "stdout",
     "output_type": "stream",
     "text": [
      "Initialized\n",
      "Minibatch loss at step 0: 14.095301\n",
      "Minibatch accuracy: 20.3%\n",
      "Validation accuracy: 18.6%\n",
      "Test accuracy: 19.2%\n",
      "Minibatch loss at step 500: 1.124421\n",
      "Minibatch accuracy: 77.3%\n",
      "Validation accuracy: 75.2%\n",
      "Test accuracy: 83.0%\n",
      "Minibatch loss at step 1000: 1.329740\n",
      "Minibatch accuracy: 77.3%\n",
      "Validation accuracy: 75.9%\n",
      "Test accuracy: 84.0%\n",
      "Minibatch loss at step 1500: 0.905100\n",
      "Minibatch accuracy: 81.2%\n",
      "Validation accuracy: 76.8%\n",
      "Test accuracy: 84.8%\n",
      "Minibatch loss at step 2000: 0.962788\n",
      "Minibatch accuracy: 81.2%\n",
      "Validation accuracy: 77.4%\n",
      "Test accuracy: 85.4%\n",
      "Minibatch loss at step 2500: 0.912956\n",
      "Minibatch accuracy: 77.3%\n",
      "Validation accuracy: 78.0%\n",
      "Test accuracy: 86.1%\n",
      "Minibatch loss at step 3000: 1.017252\n",
      "Minibatch accuracy: 79.7%\n",
      "Validation accuracy: 78.2%\n",
      "Test accuracy: 86.4%\n"
     ]
    }
   ],
   "source": [
    "run_session_sgd(graph=graph)"
   ]
  },
  {
   "cell_type": "markdown",
   "metadata": {},
   "source": [
    "Now that we applied SGD, we can made modifications to the code to include a 1-hidden layer neural network with rectified linear units nn.relu() and 1024 hidden nodes. The reatified linear unit(relu) funtion serves as the hidden layer of our neural network. It bascially add some non-linearity to our model resulting in a prediction model like this: input data -> W1(1st linear function) -> relu(non-linear function) -> W2(2nd linear function) -> output.You can read more abou relu [here](https://en.wikipedia.org/wiki/Rectifier_(neural_networks)."
   ]
  },
  {
   "cell_type": "code",
   "execution_count": 141,
   "metadata": {
    "collapsed": false
   },
   "outputs": [],
   "source": [
    "layer_config=[784, 1024, 10]\n",
    "# due to code line count limit, I move the graph configuration code into a separate file\n",
    "# the relu function is tensorflow is just tf.nn.relu()\n",
    "execfile('tf_graph_config_1_hidden.py')"
   ]
  },
  {
   "cell_type": "markdown",
   "metadata": {},
   "source": [
    "We can reuse our SGD run process as before and note that we have improve our accuracy on both validation set and test set using 1-hidden layer neuro network. Congratulations! Now you have a basic neuro network that you can use to train. "
   ]
  },
  {
   "cell_type": "code",
   "execution_count": 142,
   "metadata": {
    "collapsed": false,
    "scrolled": false
   },
   "outputs": [
    {
     "name": "stdout",
     "output_type": "stream",
     "text": [
      "Initialized\n",
      "Minibatch loss at step 0: 258.307526\n",
      "Minibatch accuracy: 12.5%\n",
      "Validation accuracy: 24.6%\n",
      "Test accuracy: 26.4%\n",
      "Minibatch loss at step 500: 24.330862\n",
      "Minibatch accuracy: 78.9%\n",
      "Validation accuracy: 77.7%\n",
      "Test accuracy: 85.3%\n",
      "Minibatch loss at step 1000: 8.958380\n",
      "Minibatch accuracy: 78.1%\n",
      "Validation accuracy: 81.7%\n",
      "Test accuracy: 88.5%\n",
      "Minibatch loss at step 1500: 6.764034\n",
      "Minibatch accuracy: 88.3%\n",
      "Validation accuracy: 80.9%\n",
      "Test accuracy: 87.5%\n",
      "Minibatch loss at step 2000: 2.423084\n",
      "Minibatch accuracy: 88.3%\n",
      "Validation accuracy: 82.0%\n",
      "Test accuracy: 88.9%\n",
      "Minibatch loss at step 2500: 3.995928\n",
      "Minibatch accuracy: 80.5%\n",
      "Validation accuracy: 81.9%\n",
      "Test accuracy: 89.0%\n",
      "Minibatch loss at step 3000: 2.688911\n",
      "Minibatch accuracy: 80.5%\n",
      "Validation accuracy: 82.9%\n",
      "Test accuracy: 89.8%\n"
     ]
    }
   ],
   "source": [
    "run_session_sgd(graph=graph)"
   ]
  },
  {
   "cell_type": "markdown",
   "metadata": {},
   "source": [
    "## Apply-regularization-techniques"
   ]
  },
  {
   "cell_type": "markdown",
   "metadata": {},
   "source": [
    "Previously we train a simple neuro-network with just one hidden layer and 1024 nodes. In order to improve the model performance, we can either increase the number of nodes in a single hidden layer(width) or increase the number of layers(depth). This is where the central idea of deep learning comes into play.\n",
    "\n",
    "Generally, we want to try deep networks that are very big as a starting point for our data and try our best to prevent them from overfitting over the training process. There are several techniques to prevent your data from overfitting: 1. early termination 2. regularization 3. dropout. Early termination means we stop exacly when performance plateaus. Regularization usually means adding a L2 norm term multiplied with a constant to penalize big weights. Dropout is a  used to force the model to learn redundant representations of your data to make your model more robust and away from overfitting. It works like this: each time when one layer's output (called activations) goes as an input to the next layer, randomly set half of the activations to zero. \n",
    "\n",
    "In the following section we are going apply a combination of these techniques to improve the performance of neuro networks. Firstly lets look into regularization. Note below we use tf.nn.l2_loss to compute the L2 norm of the weights and supply the multiplied constant as an node variable beta_regul (using tf.placeholder). The tensorflow model code is almost the same as before except we add a small term in the loss function to regularize our parameters. "
   ]
  },
  {
   "cell_type": "code",
   "execution_count": 98,
   "metadata": {
    "collapsed": true
   },
   "outputs": [],
   "source": [
    "# Note the code below, initiallly we assigne beta_regul to 0.0 so we don't have regularization\n",
    "# add regularization if beta_regul provided\n",
    "total = 0.0\n",
    "for weight in weights:\n",
    "    total += tf.nn.l2_loss(weight)\n",
    "loss += beta_regul * total"
   ]
  },
  {
   "cell_type": "markdown",
   "metadata": {},
   "source": [
    "As beta_regul is yet another hyperparamer in our model. Here we just simply use 1e-3 as the beta_regul value, since this what we find out to give best performance by experimenting."
   ]
  },
  {
   "cell_type": "code",
   "execution_count": 100,
   "metadata": {
    "collapsed": false
   },
   "outputs": [
    {
     "name": "stdout",
     "output_type": "stream",
     "text": [
      "Initialized\n",
      "Minibatch loss at step 0: 1137.573242\n",
      "Minibatch accuracy: 8.6%\n",
      "Validation accuracy: 17.6%\n",
      "Test accuracy: 18.4%\n",
      "Minibatch loss at step 500: 410.241577\n",
      "Minibatch accuracy: 71.1%\n",
      "Validation accuracy: 79.0%\n",
      "Test accuracy: 86.4%\n",
      "Minibatch loss at step 1000: 230.384918\n",
      "Minibatch accuracy: 78.9%\n",
      "Validation accuracy: 80.3%\n",
      "Test accuracy: 87.5%\n",
      "Minibatch loss at step 1500: 137.189484\n",
      "Minibatch accuracy: 82.8%\n",
      "Validation accuracy: 81.8%\n",
      "Test accuracy: 89.1%\n",
      "Minibatch loss at step 2000: 82.147705\n",
      "Minibatch accuracy: 82.0%\n",
      "Validation accuracy: 83.3%\n",
      "Test accuracy: 90.2%\n",
      "Minibatch loss at step 2500: 50.012856\n",
      "Minibatch accuracy: 78.9%\n",
      "Validation accuracy: 84.0%\n",
      "Test accuracy: 91.1%\n",
      "Minibatch loss at step 3000: 30.452335\n",
      "Minibatch accuracy: 84.4%\n",
      "Validation accuracy: 85.2%\n",
      "Test accuracy: 91.9%\n"
     ]
    }
   ],
   "source": [
    "run_session_sgd(graph=graph, beta=1e-3)"
   ]
  },
  {
   "cell_type": "markdown",
   "metadata": {},
   "source": [
    "As you can see, the performance across all datasets improves after we introduce a regularization term. Now, lets move to dropout. Firstly, let's see what happens if we have a very samll batch of data fed into model each time."
   ]
  },
  {
   "cell_type": "code",
   "execution_count": 155,
   "metadata": {
    "collapsed": false,
    "scrolled": true
   },
   "outputs": [
    {
     "name": "stdout",
     "output_type": "stream",
     "text": [
      "Initialized\n",
      "Minibatch loss at step 0: 420.971527\n",
      "Minibatch accuracy: 9.4%\n",
      "Validation accuracy: 33.7%\n",
      "Test accuracy: 36.2%\n",
      "Minibatch loss at step 20: 0.000000\n",
      "Minibatch accuracy: 100.0%\n",
      "Validation accuracy: 63.5%\n",
      "Test accuracy: 70.3%\n",
      "Minibatch loss at step 40: 0.000000\n",
      "Minibatch accuracy: 100.0%\n",
      "Validation accuracy: 63.5%\n",
      "Test accuracy: 70.3%\n",
      "Minibatch loss at step 60: 0.000000\n",
      "Minibatch accuracy: 100.0%\n",
      "Validation accuracy: 63.5%\n",
      "Test accuracy: 70.3%\n",
      "Minibatch loss at step 80: 0.000000\n",
      "Minibatch accuracy: 100.0%\n",
      "Validation accuracy: 63.5%\n",
      "Test accuracy: 70.3%\n",
      "Minibatch loss at step 100: 0.000000\n",
      "Minibatch accuracy: 100.0%\n",
      "Validation accuracy: 63.5%\n",
      "Test accuracy: 70.3%\n"
     ]
    }
   ],
   "source": [
    "num_steps = 101\n",
    "num_bacthes = 3\n",
    "execfile('tf_graph_config_1_hidden.py')\n",
    "execfile('small_batch_run.py')"
   ]
  },
  {
   "cell_type": "markdown",
   "metadata": {},
   "source": [
    "As what we've expected, although the model appears to fit the training set very well(nearly 100%), it performs poorly upon validation and test. Even if we have regularization, the data applied is too small thus bias our traing. Let's add dropout mechanism using tensorflow's nn.dropout()."
   ]
  },
  {
   "cell_type": "code",
   "execution_count": 156,
   "metadata": {
    "collapsed": false
   },
   "outputs": [
    {
     "name": "stdout",
     "output_type": "stream",
     "text": [
      "Initialized\n",
      "Minibatch loss at step 0: 991.516296\n",
      "Minibatch accuracy: 11.7%\n",
      "Validation accuracy: 23.1%\n",
      "Test accuracy: 24.9%\n",
      "Minibatch loss at step 20: 358.600311\n",
      "Minibatch accuracy: 89.8%\n",
      "Validation accuracy: 64.3%\n",
      "Test accuracy: 71.6%\n",
      "Minibatch loss at step 40: 338.779022\n",
      "Minibatch accuracy: 91.4%\n",
      "Validation accuracy: 69.0%\n",
      "Test accuracy: 76.2%\n",
      "Minibatch loss at step 60: 306.065552\n",
      "Minibatch accuracy: 98.4%\n",
      "Validation accuracy: 69.6%\n",
      "Test accuracy: 77.3%\n",
      "Minibatch loss at step 80: 327.719574\n",
      "Minibatch accuracy: 95.3%\n",
      "Validation accuracy: 68.3%\n",
      "Test accuracy: 75.5%\n",
      "Minibatch loss at step 100: 294.624634\n",
      "Minibatch accuracy: 98.4%\n",
      "Validation accuracy: 71.2%\n",
      "Test accuracy: 78.1%\n"
     ]
    }
   ],
   "source": [
    "# the basic usage of dropout is highted below, you can refer to the code if curious\n",
    "# \"\"\"hid_lay_out = tf.nn.relu(tf.nn.dropout(lay1_out, 0.5))\"\"\"\n",
    "execfile('tf_graph_config_dropout.py')\n",
    "execfile('small_batch_run.py')"
   ]
  },
  {
   "cell_type": "markdown",
   "metadata": {},
   "source": [
    "We've improved our performance on validation/test set by ~8% by adding dropout mechanism during training process. Now let's put all the pieces together to construct our best performance training model by apply regularization, dropout, and multi-layer model. Below we have a 3-hidden layer model each with decreasing number of nodes [1024, 256, 128], and a keep rate of 0.5. Note here we also apply an exponentially decaying learning rate among training iterations to provide best performance."
   ]
  },
  {
   "cell_type": "code",
   "execution_count": 160,
   "metadata": {
    "collapsed": true
   },
   "outputs": [],
   "source": [
    "# due to length constraint essential code is highlighted below, refer to code if more curious\n",
    "# # Parameters\n",
    "# batch_size = 128\n",
    "# num_hidden_nodes1 = 1024\n",
    "# num_hidden_nodes2 = 512\n",
    "# num_hidden_nodes3 = 256\n",
    "\n",
    "# # Training computation.\n",
    "# lay1_train = tf.nn.relu(tf.matmul(tf_train_dataset, weights1) + biases1)\n",
    "# drop1 = tf.nn.dropout(lay1_train, 0.5)\n",
    "# lay2_train = tf.nn.relu(tf.matmul(drop1, weights2) + biases2)\n",
    "# ...\n",
    "\n",
    "# # Regularize \n",
    "# loss +=  beta_regul * (tf.nn.l2_loss(weights1) + tf.nn.l2_loss(weights2) + tf.nn.l2_loss(weights3) + tf.nn.l2_loss(weights4)\n",
    "\n",
    "# # Optimizer.\n",
    "# learning_rate = tf.train.exponential_decay(0.5, global_step, 5000, 0.80, staircase=True)\n",
    "# optimizer = tf.train.GradientDescentOptimizer(learning_rate).minimize(loss, global_step=global_step)\n",
    "execfile('tf_graph_config_all.py')"
   ]
  },
  {
   "cell_type": "code",
   "execution_count": 158,
   "metadata": {
    "collapsed": false
   },
   "outputs": [
    {
     "name": "stdout",
     "output_type": "stream",
     "text": [
      "Initialized\n",
      "Minibatch loss at step 0: 2.758533\n",
      "Minibatch accuracy: 14.1%\n",
      "Validation accuracy: 22.8%\n",
      "Test accuracy: 24.5%\n",
      "Minibatch loss at step 4000: 0.388222\n",
      "Minibatch accuracy: 89.1%\n",
      "Validation accuracy: 87.3%\n",
      "Test accuracy: 93.7%\n",
      "Minibatch loss at step 8000: 0.631142\n",
      "Minibatch accuracy: 78.9%\n",
      "Validation accuracy: 88.5%\n",
      "Test accuracy: 94.6%\n",
      "Minibatch loss at step 12000: 0.418894\n",
      "Minibatch accuracy: 88.3%\n",
      "Validation accuracy: 89.0%\n",
      "Test accuracy: 95.0%\n",
      "Minibatch loss at step 16000: 0.217906\n",
      "Minibatch accuracy: 93.0%\n",
      "Validation accuracy: 89.7%\n",
      "Test accuracy: 95.3%\n",
      "Minibatch loss at step 20000: 0.403385\n",
      "Minibatch accuracy: 85.9%\n",
      "Validation accuracy: 90.0%\n",
      "Test accuracy: 95.4%\n"
     ]
    }
   ],
   "source": [
    "run_session_sgd(graph, display_step=4000, num_steps=20001, batch_size=128, beta=1e-3, d=1)"
   ]
  },
  {
   "cell_type": "markdown",
   "metadata": {},
   "source": [
    "## Example application: convolutional neuro network"
   ]
  },
  {
   "cell_type": "markdown",
   "metadata": {},
   "source": [
    "In addition to basic neuro networks, we can make our deep network convolutional to reduce feature map size and increase depth when processing images. You can read more about [CNN](https://en.wikipedia.org/wiki/Convolutional_neural_network) (convolutional neuro networks). Below is an example of runnning convolutional deep neuro networks on the classic MNIST data with tensorflow. It may take quite a while depending on your local machine since we are using fairly complex model with many itrerations."
   ]
  },
  {
   "cell_type": "code",
   "execution_count": null,
   "metadata": {
    "collapsed": false
   },
   "outputs": [
    {
     "name": "stdout",
     "output_type": "stream",
     "text": [
      "Extracting /tmp/data/train-images-idx3-ubyte.gz\n",
      "Extracting /tmp/data/train-labels-idx1-ubyte.gz\n",
      "Extracting /tmp/data/t10k-images-idx3-ubyte.gz\n",
      "Extracting /tmp/data/t10k-labels-idx1-ubyte.gz\n",
      "Iter 1280, Minibatch Loss= 25523.613281, Training Accuracy= 0.23438\n",
      "Iter 2560, Minibatch Loss= 10357.601562, Training Accuracy= 0.46875\n",
      "Iter 3840, Minibatch Loss= 9162.200195, Training Accuracy= 0.61719\n",
      "Iter 5120, Minibatch Loss= 3597.420410, Training Accuracy= 0.81250\n",
      "Iter 6400, Minibatch Loss= 1682.246338, Training Accuracy= 0.86719\n",
      "Iter 7680, Minibatch Loss= 6595.059570, Training Accuracy= 0.71094\n",
      "Iter 8960, Minibatch Loss= 2800.517090, Training Accuracy= 0.78906\n",
      "Iter 10240, Minibatch Loss= 1820.602051, Training Accuracy= 0.86719\n",
      "Iter 11520, Minibatch Loss= 1927.715698, Training Accuracy= 0.89844\n",
      "Iter 12800, Minibatch Loss= 2979.541504, Training Accuracy= 0.81250\n",
      "Iter 14080, Minibatch Loss= 1133.863281, Training Accuracy= 0.89062\n",
      "Iter 15360, Minibatch Loss= 1623.843506, Training Accuracy= 0.89062\n",
      "Iter 16640, Minibatch Loss= 2799.018066, Training Accuracy= 0.86719\n",
      "Iter 17920, Minibatch Loss= 894.657471, Training Accuracy= 0.90625\n",
      "Iter 19200, Minibatch Loss= 1106.409912, Training Accuracy= 0.91406\n",
      "Iter 20480, Minibatch Loss= 331.731750, Training Accuracy= 0.97656\n",
      "Iter 21760, Minibatch Loss= 2261.374023, Training Accuracy= 0.82812\n",
      "Iter 23040, Minibatch Loss= 549.052673, Training Accuracy= 0.95312\n",
      "Iter 24320, Minibatch Loss= 1043.638916, Training Accuracy= 0.90625\n",
      "Iter 25600, Minibatch Loss= 1289.961670, Training Accuracy= 0.90625\n",
      "Iter 26880, Minibatch Loss= 697.968689, Training Accuracy= 0.92969\n",
      "Iter 28160, Minibatch Loss= 967.841736, Training Accuracy= 0.92188\n",
      "Iter 29440, Minibatch Loss= 1345.558594, Training Accuracy= 0.92188\n",
      "Iter 30720, Minibatch Loss= 423.388550, Training Accuracy= 0.93750\n",
      "Iter 32000, Minibatch Loss= 566.612427, Training Accuracy= 0.94531\n",
      "Iter 33280, Minibatch Loss= 1301.643311, Training Accuracy= 0.92188\n",
      "Iter 34560, Minibatch Loss= 257.194855, Training Accuracy= 0.95312\n",
      "Iter 35840, Minibatch Loss= 634.294739, Training Accuracy= 0.96094\n",
      "Iter 37120, Minibatch Loss= 475.209045, Training Accuracy= 0.93750\n",
      "Iter 38400, Minibatch Loss= 100.274933, Training Accuracy= 0.97656\n",
      "Iter 39680, Minibatch Loss= 85.855240, Training Accuracy= 0.97656\n",
      "Iter 40960, Minibatch Loss= 1546.791016, Training Accuracy= 0.92188\n",
      "Iter 42240, Minibatch Loss= 904.080688, Training Accuracy= 0.92969\n",
      "Iter 43520, Minibatch Loss= 200.423553, Training Accuracy= 0.96094\n",
      "Iter 44800, Minibatch Loss= 363.133057, Training Accuracy= 0.96875\n",
      "Iter 46080, Minibatch Loss= 157.484650, Training Accuracy= 0.98438\n",
      "Iter 47360, Minibatch Loss= 825.780029, Training Accuracy= 0.93750\n",
      "Iter 48640, Minibatch Loss= 629.090942, Training Accuracy= 0.95312\n",
      "Iter 49920, Minibatch Loss= 404.377319, Training Accuracy= 0.92969\n",
      "Iter 51200, Minibatch Loss= 252.235352, Training Accuracy= 0.96094\n",
      "Iter 52480, Minibatch Loss= 315.411072, Training Accuracy= 0.94531\n",
      "Iter 53760, Minibatch Loss= 144.537262, Training Accuracy= 0.97656\n",
      "Iter 55040, Minibatch Loss= 285.434418, Training Accuracy= 0.96094\n",
      "Iter 56320, Minibatch Loss= 723.064087, Training Accuracy= 0.95312\n",
      "Iter 57600, Minibatch Loss= 1435.743652, Training Accuracy= 0.91406\n",
      "Iter 58880, Minibatch Loss= 1244.184082, Training Accuracy= 0.92969\n",
      "Iter 60160, Minibatch Loss= 37.844727, Training Accuracy= 0.96875\n",
      "Iter 61440, Minibatch Loss= 362.105713, Training Accuracy= 0.97656\n",
      "Iter 62720, Minibatch Loss= 450.206299, Training Accuracy= 0.96094\n",
      "Iter 64000, Minibatch Loss= 579.229919, Training Accuracy= 0.95312\n",
      "Iter 65280, Minibatch Loss= 700.726807, Training Accuracy= 0.93750\n",
      "Iter 66560, Minibatch Loss= 1157.979492, Training Accuracy= 0.94531\n",
      "Iter 67840, Minibatch Loss= 298.725769, Training Accuracy= 0.97656\n",
      "Iter 69120, Minibatch Loss= 178.859100, Training Accuracy= 0.98438\n",
      "Iter 70400, Minibatch Loss= 798.075439, Training Accuracy= 0.92188\n",
      "Iter 71680, Minibatch Loss= 798.565918, Training Accuracy= 0.95312\n",
      "Iter 72960, Minibatch Loss= 623.042664, Training Accuracy= 0.95312\n",
      "Iter 74240, Minibatch Loss= 229.225449, Training Accuracy= 0.95312\n",
      "Iter 75520, Minibatch Loss= 320.890442, Training Accuracy= 0.96875\n",
      "Iter 76800, Minibatch Loss= 264.143402, Training Accuracy= 0.96875\n"
     ]
    }
   ],
   "source": [
    "execfile('MINST_CNN_example.py')"
   ]
  },
  {
   "cell_type": "markdown",
   "metadata": {},
   "source": [
    "## Summary and Reference"
   ]
  },
  {
   "cell_type": "markdown",
   "metadata": {},
   "source": [
    "There is a lot of things we can do with deep learning and tensorflow. To learn more please check out the following links:\n",
    "1. [tensorflow tutorial](https://www.tensorflow.org/versions/r0.11/tutorials/index.html)\n",
    "2. [deep learning tutorial](https://www.toptal.com/machine-learning/an-introduction-to-deep-learning-from-perceptrons-to-deep-networks)\n",
    "3. [introduction to CNN](https://miguelgfierro.com/blog/2016/a-gentle-introduction-to-convolutional-neural-networks/)\n",
    "4. [many tensorflow examples](https://github.com/aymericdamien/TensorFlow-Examples)"
   ]
  }
 ],
 "metadata": {
  "anaconda-cloud": {},
  "kernelspec": {
   "display_name": "Python [Root]",
   "language": "python",
   "name": "Python [Root]"
  },
  "language_info": {
   "codemirror_mode": {
    "name": "ipython",
    "version": 2
   },
   "file_extension": ".py",
   "mimetype": "text/x-python",
   "name": "python",
   "nbconvert_exporter": "python",
   "pygments_lexer": "ipython2",
   "version": "2.7.12"
  }
 },
 "nbformat": 4,
 "nbformat_minor": 0
}
