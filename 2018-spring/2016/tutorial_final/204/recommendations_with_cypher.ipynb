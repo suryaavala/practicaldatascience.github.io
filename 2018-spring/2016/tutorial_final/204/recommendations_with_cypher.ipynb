{
 "cells": [
  {
   "cell_type": "markdown",
   "metadata": {},
   "source": [
    "# Why Graph Databases?\n",
    "\n",
    "In a world where connectivity between people dominates the technology landscape, having a database that accurately represents relationship data from user to user is essential. Without it, the speed at which Facebook an LinkedIn allow you to add and go through mutual friends, browse through user profiles, and view a curated list of posts would not be possible. Almost all Relational Databases (SQLite, MongoDB, Oracle) require the computation of relationships between data, graphDB's store them between nodes, thus \n",
    "\n",
    "NOTE: Please install this edition of Neo4j from this link: https://neo4j.com/download/community-edition/\n",
    "\n",
    "When you download it, open the application and star the server. It will prompt you to go to a localhost link where you can set your server password. Default password is 'neo4j'.\n",
    "\n",
    "In this tutorial, we cover one of the most common graph databses, Neo4j, and examine its query language, Cypher, which will lead us to a fundamental understanding of a technology that more and more massive companies are beginning to utilize..\n",
    "\n",
    "What we will learn in this tutorial and when:\n",
    "1. What is Cypher and how do we use it?\n",
    "2. Basic Cypher queries and Not-So-Basic Cypher queries with Py2Neo\n",
    "3. Theories and Concepts in OGM and py2Neo\n",
    "4. Using jgraph to 3D model networks/graphs\n",
    "\n",
    "We'll be going through many examples, which I've found through personal experience to be the easiest way to learn Cypher and understand GDB's."
   ]
  },
  {
   "cell_type": "markdown",
   "metadata": {
    "collapsed": true
   },
   "source": [
    "We can install py2neo with pip with the command below."
   ]
  },
  {
   "cell_type": "code",
   "execution_count": 67,
   "metadata": {
    "collapsed": false
   },
   "outputs": [
    {
     "name": "stdout",
     "output_type": "stream",
     "text": [
      "Requirement already satisfied: py2neo in /Users/Karan/anaconda2/lib/python2.7/site-packages\r\n"
     ]
    }
   ],
   "source": [
    "!pip install py2neo"
   ]
  },
  {
   "cell_type": "markdown",
   "metadata": {},
   "source": [
    "# Understanding Cypher and the Property Graph Model\n",
    "\n",
    "Cypher is the query language for Neo4j, the graphDB we wll be using in this tutorial. It uses ASCII-art to make queries easily readable yet fully functional.\n",
    "\n",
    "There are 2 main blocks of the property graph model used by Neo4j, Node and Relationship. A Node is somewhat self-explanatory: it is the primary unit of data storage within a graph and contains key-value pairs. The key is used to identify the node (e.g. In the IMDB dataset, the show title \"Game of Throne\" or the reviewer's User ID may be the key). The values represent multiple attributes of the object the key is describing (e.g. In the same dataset, the movie's directors/lead actors and its star rating or the reviewer's name, location, and email address could be values). A relationship is a typed, direct connection/edge between a pair of nodes. Like nodes, relationships may also contain a set of properties.\n",
    "\n",
    "The code below shows how to create a couple of nodes and a relationship joining them. Each node has a single property, name, and is labelled as a Person. The relationship ab describes a KNOWS connection from the first node a to the second node b."
   ]
  },
  {
   "cell_type": "code",
   "execution_count": 68,
   "metadata": {
    "collapsed": false
   },
   "outputs": [
    {
     "name": "stdout",
     "output_type": "stream",
     "text": [
      "(lord_varys)-[:KNOWS]->(margaery_tyrell)\n"
     ]
    }
   ],
   "source": [
    "from py2neo import Node,Relationship,Graph,authenticate\n",
    "\n",
    "authenticate(\"localhost:7474\", \"neo4j\", \"ingopoobla3\")\n",
    "#When you download neo4j, your username will always be neo4j\n",
    "#and your password you can set by accessing the Neo4j site on\n",
    "#your localhost\n",
    "sgraph = Graph(\"http://localhost:7474/db/data/\")\n",
    "import pandas\n",
    "a = Node(\"Person\", name=\"Lord_Varys\")\n",
    "b = Node(\"Person\", name=\"Margaery_Tyrell\")\n",
    "ab = Relationship(a, \"KNOWS\", b)\n",
    "print(ab)"
   ]
  },
  {
   "cell_type": "markdown",
   "metadata": {
    "collapsed": true
   },
   "source": [
    "Cypher uses ASCII-Art to represent patterns. We surround nodes with parentheses which look like circles, e.g. (node). If we later want to refer to the node, we’ll give it an variable like (p) for person or (t) for thing. In real-world queries, we’ll probably use longer, more expressive variable names like (person) or (thing). If the node is not relevant to your question, you can also use empty parentheses ()"
   ]
  },
  {
   "cell_type": "code",
   "execution_count": 69,
   "metadata": {
    "collapsed": false
   },
   "outputs": [
    {
     "name": "stdout",
     "output_type": "stream",
     "text": [
      "(lord_varys)-[:WORKS_FOR]->(cersei_lannister)\n"
     ]
    }
   ],
   "source": [
    "c = Node(\"Person\", name=\"Cersei_Lannister\")\n",
    "class WorksFor(Relationship): pass\n",
    "ac = WorksFor(a, c)\n",
    "print(ac)"
   ]
  },
  {
   "cell_type": "markdown",
   "metadata": {
    "collapsed": true
   },
   "source": [
    "A Subgraph is a collection of nodes and relationships. The simplest way to construct a subgraph is by combining nodes and relationships using standard set operations. For example, the output of the cell below shows the characters from Game of Thrones and their attributes, as well as all the relationships present in this graph:"
   ]
  },
  {
   "cell_type": "code",
   "execution_count": 70,
   "metadata": {
    "collapsed": false
   },
   "outputs": [
    {
     "name": "stdout",
     "output_type": "stream",
     "text": [
      "({(margaery_tyrell:Person {name:\"Margaery_Tyrell\"}), (cersei_lannister:Person {name:\"Cersei_Lannister\"}), (lord_varys:Person {name:\"Lord_Varys\"})}, {(lord_varys)-[:WORKS_FOR]->(cersei_lannister), (lord_varys)-[:KNOWS]->(margaery_tyrell)})\n"
     ]
    }
   ],
   "source": [
    "s = ab | ac\n",
    "print(s)"
   ]
  },
  {
   "cell_type": "markdown",
   "metadata": {},
   "source": [
    "We can access the subgraph's nodes and relationships through these commands:"
   ]
  },
  {
   "cell_type": "code",
   "execution_count": 71,
   "metadata": {
    "collapsed": false
   },
   "outputs": [
    {
     "name": "stdout",
     "output_type": "stream",
     "text": [
      "('NODES', frozenset([(margaery_tyrell:Person {name:\"Margaery_Tyrell\"}), (cersei_lannister:Person {name:\"Cersei_Lannister\"}), (lord_varys:Person {name:\"Lord_Varys\"})]))\n",
      "('RELATIONSHIPS', frozenset([(lord_varys)-[:WORKS_FOR]->(cersei_lannister), (lord_varys)-[:KNOWS]->(margaery_tyrell)]))\n"
     ]
    }
   ],
   "source": [
    "print(\"NODES\",s.nodes())\n",
    "print(\"RELATIONSHIPS\",s.relationships())"
   ]
  },
  {
   "cell_type": "markdown",
   "metadata": {},
   "source": [
    "Let's now use a sample dataset provided by Neo4j to run queries and extract information. "
   ]
  },
  {
   "cell_type": "code",
   "execution_count": 72,
   "metadata": {
    "collapsed": false
   },
   "outputs": [
    {
     "data": {
      "text/plain": [
       "<py2neo.database.Cursor at 0x115edfe10>"
      ]
     },
     "execution_count": 72,
     "metadata": {},
     "output_type": "execute_result"
    }
   ],
   "source": [
    "from py2neo import Graph\n",
    "authenticate(\"localhost:7474\", \"neo4j\", \"ingopoobla3\")\n",
    "graph = Graph(\"http://localhost:7474/db/data/\")\n",
    "graph = Graph(password=\"excalibur\")\n",
    "graph.run(\"MATCH (a:Person) RETURN a.name, a.born LIMIT 4\")"
   ]
  },
  {
   "cell_type": "markdown",
   "metadata": {},
   "source": [
    "As we've seen in the 15-388/15-688 assignments, we can use Pandas dataframes to make data analysis faster. Pandas has a multitude of features that make it extremely useful for data analysis and it keeps data organized in efficient structures like dataframes. Our py2neo library and pandas can work together to allow us to convert our Neo4j graph into a pandas dataframe. The code for doing this is shown below:"
   ]
  },
  {
   "cell_type": "code",
   "execution_count": 73,
   "metadata": {
    "collapsed": false
   },
   "outputs": [
    {
     "data": {
      "text/html": [
       "<div>\n",
       "<table border=\"1\" class=\"dataframe\">\n",
       "  <thead>\n",
       "    <tr style=\"text-align: right;\">\n",
       "      <th></th>\n",
       "      <th>a.born</th>\n",
       "      <th>a.name</th>\n",
       "    </tr>\n",
       "  </thead>\n",
       "  <tbody>\n",
       "    <tr>\n",
       "      <th>0</th>\n",
       "      <td>1964</td>\n",
       "      <td>Keanu Reeves</td>\n",
       "    </tr>\n",
       "    <tr>\n",
       "      <th>1</th>\n",
       "      <td>1967</td>\n",
       "      <td>Carrie-Anne Moss</td>\n",
       "    </tr>\n",
       "    <tr>\n",
       "      <th>2</th>\n",
       "      <td>1961</td>\n",
       "      <td>Laurence Fishburne</td>\n",
       "    </tr>\n",
       "    <tr>\n",
       "      <th>3</th>\n",
       "      <td>1960</td>\n",
       "      <td>Hugo Weaving</td>\n",
       "    </tr>\n",
       "  </tbody>\n",
       "</table>\n",
       "</div>"
      ],
      "text/plain": [
       "   a.born              a.name\n",
       "0    1964        Keanu Reeves\n",
       "1    1967    Carrie-Anne Moss\n",
       "2    1961  Laurence Fishburne\n",
       "3    1960        Hugo Weaving"
      ]
     },
     "execution_count": 73,
     "metadata": {},
     "output_type": "execute_result"
    }
   ],
   "source": [
    "from pandas import DataFrame\n",
    "DataFrame(graph.data(\"MATCH (a:Person) RETURN a.name, a.born LIMIT 4\"))"
   ]
  },
  {
   "cell_type": "markdown",
   "metadata": {},
   "source": [
    "A NodeSelector can be used to locate nodes that fulfil a specific set of criteria. A single node can be identified passing a specific label and property key-value pair. But we can use any number of labels and almost any conditions are supported with the WHERE clause."
   ]
  },
  {
   "cell_type": "code",
   "execution_count": 74,
   "metadata": {
    "collapsed": false
   },
   "outputs": [
    {
     "data": {
      "text/plain": [
       "[(e041381:Person {born:1967,name:\"James Marshall\"}),\n",
       " (f773abd:Person {born:1966,name:\"John Cusack\"}),\n",
       " (c1580f6:Person {born:1960,name:\"John Goodman\"}),\n",
       " (ac9bb3b:Person {born:1965,name:\"John C. Reilly\"}),\n",
       " (bab3262:Person {born:1967,name:\"Julia Roberts\"})]"
      ]
     },
     "execution_count": 74,
     "metadata": {},
     "output_type": "execute_result"
    }
   ],
   "source": [
    "from py2neo import NodeSelector\n",
    "graph = Graph()\n",
    "selector = NodeSelector(graph)\n",
    "selected = selector.select(\"Person\").where(\"_.name =~ 'J.*'\", \"1960 <= _.born < 1970\")\n",
    "list(selected)[0:5]"
   ]
  },
  {
   "cell_type": "markdown",
   "metadata": {},
   "source": [
    "The ogm module provides Object to Graph Mapping features. Conceptually, a mapped object owns a single node within the graph along with all of that node’s outgoing relationships. These features are managed via a pair of attributes called node and rel which store details of the mapped node and the outgoing relationships respectively. The only specific thing we need is a null constructor to make new instances. Here we import GraphObject and different relationships, and create classes just like we would in Python. each class takes in a GraphObject as a parameter, which makes logical sense."
   ]
  },
  {
   "cell_type": "code",
   "execution_count": 75,
   "metadata": {
    "collapsed": false
   },
   "outputs": [],
   "source": [
    "from py2neo.ogm import GraphObject, Property, RelatedFrom\n",
    "from py2neo import Graph\n",
    "\n",
    "class Movie(GraphObject):\n",
    "    __primarykey__ = \"title\"\n",
    "\n",
    "    title = Property()\n",
    "    tag_line = Property(\"tagline\")\n",
    "    released = Property()\n",
    "\n",
    "    actors = RelatedFrom(\"Person\", \"ACTED_IN\")\n",
    "    directors = RelatedFrom(\"Person\", \"DIRECTED\")\n",
    "    producers = RelatedFrom(\"Person\", \"PRODUCED\")\n",
    "\n",
    "\n",
    "class Person(GraphObject):\n",
    "    __primarykey__ = \"name\"\n",
    "\n",
    "    name = Property()\n",
    "    born = Property()\n",
    "\n",
    "    acted_in = RelatedTo(Movie)\n",
    "    directed = RelatedTo(Movie)\n",
    "    produced = RelatedTo(Movie)"
   ]
  },
  {
   "cell_type": "markdown",
   "metadata": {},
   "source": [
    "Here's another example graph from Marco Bonzanini. It follows the same pattern we've been discussing so far. We create 2 nodes Marco and Daniela which are \"User\"'s. we also create 2 types of beers under the \"Beer\" label. We can then create relationships that are both uni-directional and bi-directional, which you can tell by the labeled comments. We then make a sample query to tell what berr's Mark enjoys. This example shows the complete process of creating a graph so that you can follow along without having to jump through text and other cells."
   ]
  },
  {
   "cell_type": "code",
   "execution_count": 76,
   "metadata": {
    "collapsed": false
   },
   "outputs": [
    {
     "name": "stdout",
     "output_type": "stream",
     "text": [
      "(Marco)-[likes]->(Punk IPA)\n",
      "(Marco)-[likes]->(Hoegaarden Rosee)\n",
      "(Marco)-[likes]->(Punk IPA)\n",
      "(Marco)-[likes]->(Hoegaarden Rosee)\n",
      "(Marco)-[likes]->(Punk IPA)\n",
      "(Marco)-[likes]->(Hoegaarden Rosee)\n",
      "(Marco)-[likes]->(Punk IPA)\n",
      "(Marco)-[likes]->(Hoegaarden Rosee)\n",
      "(Marco)-[likes]->(Punk IPA)\n",
      "(Marco)-[likes]->(Hoegaarden Rosee)\n",
      "(Marco)-[likes]->(Punk IPA)\n",
      "(Marco)-[likes]->(Hoegaarden Rosee)\n",
      "(Marco)-[likes]->(Punk IPA)\n",
      "(Marco)-[likes]->(Hoegaarden Rosee)\n"
     ]
    }
   ],
   "source": [
    "db = GraphDatabase(\"http://localhost:7474\", username=\"neo4j\", password=\"ingopoobla3\")\n",
    "\n",
    "# Create some nodes with labels\n",
    "user = db.labels.create(\"User\")\n",
    "u1 = db.nodes.create(name=\"Marco\")\n",
    "user.add(u1)\n",
    "u2 = db.nodes.create(name=\"Daniela\")\n",
    "user.add(u2)\n",
    "\n",
    "beer = db.labels.create(\"Beer\")\n",
    "b1 = db.nodes.create(name=\"Punk IPA\")\n",
    "b2 = db.nodes.create(name=\"Hoegaarden Rosee\")\n",
    "#You can associate a label with many nodes in one go\n",
    "beer.add(b1, b2)\n",
    "#User-likes->Beer relationships\n",
    "u1.relationships.create(\"likes\", b1)\n",
    "u1.relationships.create(\"likes\", b2)\n",
    "u2.relationships.create(\"likes\", b1)\n",
    "#Bi-directional relationship\n",
    "u1.relationships.create(\"friends\", u2)\n",
    "\n",
    " \n",
    "q = 'MATCH (u:User)-[r:likes]->(m:Beer) WHERE u.name=\"Marco\" RETURN u, type(r), m'\n",
    "# \"db\" as defined above\n",
    "results = db.query(q, returns=(client.Node, str, client.Node))\n",
    "for r in results:\n",
    "    print(\"(%s)-[%s]->(%s)\" % (r[0][\"name\"], r[1], r[2][\"name\"]))"
   ]
  },
  {
   "cell_type": "markdown",
   "metadata": {},
   "source": [
    "Here we have an example from Neo4j in which we first declare 2 people of type \"Person\" and give them names and ages. We then create two similar types of nodes, \"Drink\" and \"Manufacturer\". These a respectively named mtdew and cokezero as well as coke and pepsi. We can create our graph by using the create function in conjunction with the \"|\" operator to differetiate nodes."
   ]
  },
  {
   "cell_type": "code",
   "execution_count": 77,
   "metadata": {
    "collapsed": true
   },
   "outputs": [],
   "source": [
    "from py2neo import Node\n",
    "\n",
    "nicole = Node(\"Person\", name=\"Nicole\", age=24)\n",
    "drew = Node(\"Person\", name=\"Drew\", age=20)\n",
    "\n",
    "mtdew = Node(\"Drink\", name=\"Mountain Dew\", calories=9000)\n",
    "cokezero = Node(\"Drink\", name=\"Coke Zero\", calories=0)\n",
    "\n",
    "coke = Node(\"Manufacturer\", name=\"Coca Cola\")\n",
    "pepsi = Node(\"Manufacturer\", name=\"Pepsi\")\n",
    "\n",
    "graph.create(nicole | drew | mtdew | cokezero | coke | pepsi)"
   ]
  },
  {
   "cell_type": "markdown",
   "metadata": {},
   "source": [
    "Now we create the relationships. Just like in the real world, we can make relationships like \"Nicole LIKES Coke Zero\" and represent it graphically, which is extremely powerful and intuitive. We create 5 relationships here, each connecting different entities in the graph. "
   ]
  },
  {
   "cell_type": "code",
   "execution_count": 78,
   "metadata": {
    "collapsed": false
   },
   "outputs": [],
   "source": [
    "from py2neo import Relationship\n",
    "\n",
    "graph.create(Relationship(nicole, \"LIKES\", cokezero))\n",
    "graph.create(Relationship(nicole, \"LIKES\", mtdew))\n",
    "graph.create(Relationship(drew, \"LIKES\", mtdew))\n",
    "graph.create(Relationship(coke, \"MAKES\", cokezero))\n",
    "graph.create(Relationship(pepsi, \"MAKES\", mtdew))\n"
   ]
  },
  {
   "cell_type": "markdown",
   "metadata": {},
   "source": [
    "This query matches what drink people enjoy and displays it as a relationship. "
   ]
  },
  {
   "cell_type": "code",
   "execution_count": 79,
   "metadata": {
    "collapsed": false
   },
   "outputs": [
    {
     "name": "stdout",
     "output_type": "stream",
     "text": [
      "(u'name': u'Nicole', u'drink': u'Coke Zero')\n",
      "(u'name': u'Drew', u'drink': u'Mountain Dew')\n",
      "(u'name': u'Nicole', u'drink': u'Mountain Dew')\n",
      "(u'name': u'Drew', u'drink': u'Mountain Dew')\n",
      "(u'name': u'Nicole', u'drink': u'Mountain Dew')\n",
      "(u'name': u'Nicole', u'drink': u'Coke Zero')\n",
      "(u'name': u'Drew', u'drink': u'Mountain Dew')\n",
      "(u'name': u'Nicole', u'drink': u'Mountain Dew')\n",
      "(u'name': u'Nicole', u'drink': u'Coke Zero')\n",
      "(u'name': u'Drew', u'drink': u'Mountain Dew')\n",
      "(u'name': u'Nicole', u'drink': u'Mountain Dew')\n",
      "(u'name': u'Nicole', u'drink': u'Coke Zero')\n"
     ]
    }
   ],
   "source": [
    "query = \"\"\"\n",
    "MATCH (person:Person)-[:LIKES]->(drink:Drink)\n",
    "RETURN person.name AS name, drink.name AS drink\n",
    "\"\"\"\n",
    "\n",
    "data = graph.run(query)\n",
    "\n",
    "for d in data:\n",
    "    print(d)"
   ]
  },
  {
   "cell_type": "markdown",
   "metadata": {},
   "source": [
    "Pass parameters to Cypher queries by passing additional key-value arguments to Graph.cypher.execute. Parameters in Cypher are named and are wrapped in curly braces. We use {name} as the parameter and when calling the query, we replace it with the name we want to use. This allows for more control over queries and significantly more reusability."
   ]
  },
  {
   "cell_type": "code",
   "execution_count": 80,
   "metadata": {
    "collapsed": false
   },
   "outputs": [
    {
     "name": "stdout",
     "output_type": "stream",
     "text": [
      "(u'name': u'Nicole', u'avg_calories': 4500.0)\n"
     ]
    }
   ],
   "source": [
    "query = \"\"\"\n",
    "MATCH (p:Person)-[:LIKES]->(drink:Drink)\n",
    "WHERE p.name = {name}\n",
    "RETURN p.name AS name, AVG(drink.calories) AS avg_calories\n",
    "\"\"\"\n",
    "\n",
    "data = graph.run(query, name=\"Nicole\")\n",
    "\n",
    "for d in data:\n",
    "    print(d)"
   ]
  },
  {
   "cell_type": "markdown",
   "metadata": {},
   "source": [
    "Here is another sample query that finds out the average number of calories of the drinks Nicole likes. Again, the example is fairly simple, but the best way of understanding Cypher is by looking at multiple examples of code. "
   ]
  },
  {
   "cell_type": "code",
   "execution_count": 81,
   "metadata": {
    "collapsed": false
   },
   "outputs": [
    {
     "name": "stdout",
     "output_type": "stream",
     "text": [
      "(u'name': u'Nicole', u'avg_calories': 4500.0)\n"
     ]
    }
   ],
   "source": [
    "query = \"\"\"\n",
    "MATCH (p:Person)-[:LIKES]->(drink:Drink)\n",
    "WHERE p.name = {name}\n",
    "RETURN p.name AS name, AVG(drink.calories) AS avg_calories\n",
    "\"\"\"\n",
    "\n",
    "data = graph.run(query, name=\"Nicole\")\n",
    "\n",
    "for d in data:\n",
    "    print(d)"
   ]
  },
  {
   "cell_type": "markdown",
   "metadata": {},
   "source": [
    "We install ipython-cypher and jgraph as we'll be using them in the next segment. Run the cell below and make sure to wait for the library to download fully before proceeding."
   ]
  },
  {
   "cell_type": "code",
   "execution_count": 82,
   "metadata": {
    "collapsed": false
   },
   "outputs": [
    {
     "name": "stdout",
     "output_type": "stream",
     "text": [
      "Requirement already satisfied: ipython-cypher in /Users/Karan/anaconda2/lib/python2.7/site-packages\n",
      "Requirement already satisfied: neo4jrestclient>=2.1.0 in /Users/Karan/anaconda2/lib/python2.7/site-packages (from ipython-cypher)\n",
      "Requirement already satisfied: prettytable in /Users/Karan/anaconda2/lib/python2.7/site-packages (from ipython-cypher)\n",
      "Requirement already satisfied: ipython>=1.0 in /Users/Karan/anaconda2/lib/python2.7/site-packages (from ipython-cypher)\n",
      "Requirement already satisfied: requests>=2.1.0 in /Users/Karan/anaconda2/lib/python2.7/site-packages (from neo4jrestclient>=2.1.0->ipython-cypher)\n",
      "Requirement already satisfied: jgraph in /Users/Karan/anaconda2/lib/python2.7/site-packages\n",
      "Requirement already satisfied: ipython in /Users/Karan/anaconda2/lib/python2.7/site-packages (from jgraph)\n"
     ]
    }
   ],
   "source": [
    "!pip install ipython-cypher\n",
    "!pip install jgraph"
   ]
  },
  {
   "cell_type": "markdown",
   "metadata": {},
   "source": [
    "Here's another query to show which person likes which drink! (Just written slightly differently)"
   ]
  },
  {
   "cell_type": "code",
   "execution_count": 83,
   "metadata": {
    "collapsed": false
   },
   "outputs": [
    {
     "name": "stdout",
     "output_type": "stream",
     "text": [
      "[(u'Nicole', u'Coke Zero'), (u'Drew', u'Mountain Dew'), (u'Nicole', u'Mountain Dew'), (u'Drew', u'Mountain Dew'), (u'Nicole', u'Mountain Dew'), (u'Nicole', u'Coke Zero'), (u'Drew', u'Mountain Dew'), (u'Nicole', u'Mountain Dew'), (u'Nicole', u'Coke Zero'), (u'Drew', u'Mountain Dew'), (u'Nicole', u'Mountain Dew'), (u'Nicole', u'Coke Zero')]\n"
     ]
    }
   ],
   "source": [
    "from py2neo import Graph as PGraph\n",
    "import jgraph \n",
    "\n",
    "neo4j = PGraph()\n",
    "\n",
    "query = \"\"\"\n",
    "MATCH (person:Person)-[:LIKES]->(drink:Drink)\n",
    "RETURN person.name AS source, drink.name AS target\n",
    "\"\"\"\n",
    "data = neo4j.run(query)\n",
    "tups = []\n",
    "\n",
    "for d in data:\n",
    "    tups.append((d[\"source\"], d[\"target\"]))\n",
    "print(tups)"
   ]
  },
  {
   "cell_type": "markdown",
   "metadata": {},
   "source": [
    "We can use jgraph to see 3D visual representations of our graph. Because the example we're using currently is rather complex, the notebook takes and unusually long amount of time to run, therefore I've shown an example graph that shows how the jgraph draw function works. When you experiment with Cypher later, you can draw your networks and view them from any angle. Visualization is a powerful Data Science tool that may be really useful in this context to see important trends like graph density, etc."
   ]
  },
  {
   "cell_type": "code",
   "execution_count": 84,
   "metadata": {
    "collapsed": false
   },
   "outputs": [
    {
     "data": {
      "text/html": [
       "<div id=\"graph-c9346ba6-070f-482e-8b58-959675e9a7b1\"></div>\n",
       "           <script type=\"text/javascript\">\n",
       "           require.config({baseUrl: '/',\n",
       "                             paths: {jgraph: ['nbextensions/jgraph.min', 'https://rawgit.com/patrickfuller/jgraph/master/js/build/jgraph.min']}});\n",
       "           require(['jgraph'], function () {\n",
       "               var $d = $('#graph-c9346ba6-070f-482e-8b58-959675e9a7b1');\n",
       "               $d.width(600); $d.height(400);\n",
       "               $d.jgraph = jQuery.extend({}, jgraph);\n",
       "               $d.jgraph.create($d, {nodeSize: 2.000000,\n",
       "                                     edgeSize: 0.250000,\n",
       "                                     defaultNodeColor: '0x5bc0de',\n",
       "                                     defaultEdgeColor: '0xaaaaaa',\n",
       "                                     shader: 'basic',\n",
       "                                     z: 100,\n",
       "                                     runOptimization: true,\n",
       "                                     directed: true,\n",
       "                                     showSave: false});\n",
       "               $d.jgraph.draw({\n",
       "    \"edges\": [\n",
       "        { \"source\": 1, \"target\": 2 },\n",
       "        { \"source\": 2, \"target\": 3 },\n",
       "        { \"source\": 3, \"target\": 4 },\n",
       "        { \"source\": 4, \"target\": 1 },\n",
       "        { \"source\": 4, \"target\": 5 },\n",
       "        { \"source\": 5, \"target\": 2 }\n",
       "    ],\n",
       "    \"nodes\": {\n",
       "        \"1\": { \"location\": [ -2.000, -2.000, -1.963 ] },\n",
       "        \"2\": { \"location\": [ -1.151, -1.100, -0.740 ] },\n",
       "        \"3\": { \"location\": [ -0.049, -0.043, -0.123 ] },\n",
       "        \"4\": { \"location\": [ 0.963, 0.981, 1.068 ] },\n",
       "        \"5\": { \"location\": [ 2.000, 2.000, 1.759 ] }\n",
       "    }\n",
       "});\n",
       "\n",
       "               $d.resizable({\n",
       "                   aspectRatio: 600 / 400,\n",
       "                   resize: function (evt, ui) {\n",
       "                       $d.jgraph.renderer.setSize(ui.size.width,\n",
       "                                                  ui.size.height);\n",
       "                   }\n",
       "               });\n",
       "           });\n",
       "           </script>"
      ],
      "text/plain": [
       "<IPython.core.display.HTML object>"
      ]
     },
     "metadata": {},
     "output_type": "display_data"
    }
   ],
   "source": [
    "import jgraph\n",
    "\n",
    "jgraph.draw([(1, 2), (2, 3), (3, 4), (4, 1), (4, 5), (5, 2)])"
   ]
  }
 ],
 "metadata": {
  "anaconda-cloud": {},
  "kernelspec": {
   "display_name": "Python [conda root]",
   "language": "python",
   "name": "conda-root-py"
  },
  "language_info": {
   "codemirror_mode": {
    "name": "ipython",
    "version": 2
   },
   "file_extension": ".py",
   "mimetype": "text/x-python",
   "name": "python",
   "nbconvert_exporter": "python",
   "pygments_lexer": "ipython2",
   "version": "2.7.12"
  }
 },
 "nbformat": 4,
 "nbformat_minor": 0
}
