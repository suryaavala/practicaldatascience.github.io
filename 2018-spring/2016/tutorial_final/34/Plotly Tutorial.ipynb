{
 "cells": [
  {
   "cell_type": "markdown",
   "metadata": {},
   "source": [
    "# Data Visualization with Plotly!\n",
    "\n",
    "Data visualization can often be as important as effective data analysis itself. In many organizations, accurate and insightful graphs are the most effective way to present your findings. Data visualization in python can be done with the help of a variety of packages; but for this tutorial, we will focus on Plotly. Plotly boasts a myriad of offline and online features that make it an extremely powerful and effective data visualization tool for any level data scientist. "
   ]
  },
  {
   "cell_type": "code",
   "execution_count": 21,
   "metadata": {
    "collapsed": true
   },
   "outputs": [],
   "source": [
    "import plotly.plotly as py\n",
    "import plotly.graph_objs as go\n",
    "import pandas as pd"
   ]
  },
  {
   "cell_type": "markdown",
   "metadata": {},
   "source": [
    "The data used for this visualization tutorial is derived from the Pittsburgh Port Authority TrueTime API bus data we all explored earlier in the semester. However, I have added to the analysis as we will see.\n",
    "\n",
    "Getting Started:\n",
    "\n",
    "This notebook has been pre-run to show all plots. However, if you would like to run it yourself, you must navigate your browser to Plot.ly and sign up for a free account. Make sure you are signed in to your Plotly account on your computer (nothing specific in notebook). The three csv files required can be attained from the three links below.  When downloaded to the same folder as this notebook, the code will execute as written.\n",
    "\n",
    "Google Drive links:\n",
    "https://drive.google.com/file/d/0BzWjARgQDlRPRzR3bHpoVU1adVE/view?usp=sharing\n",
    "https://drive.google.com/file/d/0BzWjARgQDlRPNDlPUllVWUw4d1k/view?usp=sharing\n",
    "https://drive.google.com/file/d/0BzWjARgQDlRPMENfc3A2M3BnRkk/view?usp=sharing)"
   ]
  },
  {
   "cell_type": "code",
   "execution_count": 22,
   "metadata": {
    "collapsed": false
   },
   "outputs": [],
   "source": [
    "vdfpdf = pd.read_csv(\"supervpNewHood.csv\")"
   ]
  },
  {
   "cell_type": "markdown",
   "metadata": {},
   "source": [
    "First lets look at delays separated by route. Delays are actual arrival time compared to the predicted arrival at t=0. In order to visualize this, we will use a Plotly box plot. When building a plot in Plotly, each data subset being plotted will be initialized as a go.Box object (called trace below). In each constructor we set the y variable to a subset of the data. Each trace below will be plotted as a box in the plot field for each route we want to display."
   ]
  },
  {
   "cell_type": "code",
   "execution_count": 23,
   "metadata": {
    "collapsed": false
   },
   "outputs": [
    {
     "data": {
      "text/html": [
       "<iframe id=\"igraph\" scrolling=\"no\" style=\"border:none;\" seamless=\"seamless\" src=\"https://plot.ly/~cmingle2/245.embed\" height=\"525px\" width=\"100%\"></iframe>"
      ],
      "text/plain": [
       "<plotly.tools.PlotlyDisplay object>"
      ]
     },
     "execution_count": 23,
     "metadata": {},
     "output_type": "execute_result"
    }
   ],
   "source": [
    "rt61A = vdfpdf.loc[vdfpdf['rt_vdf'] == \"61A\"][\"delay\"]\n",
    "rt61B = vdfpdf.loc[vdfpdf['rt_vdf'] == \"61B\"][\"delay\"]\n",
    "rt61C = vdfpdf.loc[vdfpdf['rt_vdf'] == \"61C\"][\"delay\"]\n",
    "rt61D = vdfpdf.loc[vdfpdf['rt_vdf'] == \"61D\"][\"delay\"]\n",
    "\n",
    "trace0 = go.Box(\n",
    "    y=rt61A,\n",
    ")\n",
    "trace1 = go.Box(\n",
    "    y=rt61B,\n",
    ")\n",
    "trace2 = go.Box(\n",
    "    y=rt61C,\n",
    ")\n",
    "trace3 = go.Box(\n",
    "    y=rt61D,\n",
    ")\n",
    "data = [trace0, trace1, trace2, trace3]\n",
    "py.iplot(data)\n"
   ]
  },
  {
   "cell_type": "markdown",
   "metadata": {},
   "source": [
    "We have a plot, but the axis scale automatically includes all outliers, which makes the overall message of delay average by route hard to see. We might normally remove such outliers in analysis, but let's pretend that in this case we want to keep them in the dataset. We can manually adjust the axis scale. Creating a go.Layout object will give us the ability to set features of how the graph looks. A dictionary for each box axis is initialized. Since this is a box plot, we are only concerned with the y axis. We set autorange to True for the x axis and limit the y axis to values between -10 and 10. "
   ]
  },
  {
   "cell_type": "code",
   "execution_count": 24,
   "metadata": {
    "collapsed": false
   },
   "outputs": [
    {
     "data": {
      "text/html": [
       "<iframe id=\"igraph\" scrolling=\"no\" style=\"border:none;\" seamless=\"seamless\" src=\"https://plot.ly/~cmingle2/247.embed\" height=\"525px\" width=\"100%\"></iframe>"
      ],
      "text/plain": [
       "<plotly.tools.PlotlyDisplay object>"
      ]
     },
     "execution_count": 24,
     "metadata": {},
     "output_type": "execute_result"
    }
   ],
   "source": [
    "layout = go.Layout(\n",
    "    xaxis=dict(\n",
    "        autorange=True\n",
    "    ), \n",
    "    yaxis=dict(\n",
    "        range=[-10,10]\n",
    "    ), \n",
    ")\n",
    "fig = go.Figure(data=data, layout=layout)\n",
    "py.iplot(fig)"
   ]
  },
  {
   "cell_type": "markdown",
   "metadata": {},
   "source": [
    "Better, but we should highlight the mean in each box. In this next iteration, we not only add a dotted line for the mean (boxmean=TRUE), but we also add axis labels for each trace and our overall X and Y axes. With x-axis labels, we no longer need our legend, which we hide by setting the layout parameter to False."
   ]
  },
  {
   "cell_type": "code",
   "execution_count": 25,
   "metadata": {
    "collapsed": false
   },
   "outputs": [
    {
     "data": {
      "text/html": [
       "<iframe id=\"igraph\" scrolling=\"no\" style=\"border:none;\" seamless=\"seamless\" src=\"https://plot.ly/~cmingle2/249.embed\" height=\"525px\" width=\"100%\"></iframe>"
      ],
      "text/plain": [
       "<plotly.tools.PlotlyDisplay object>"
      ]
     },
     "execution_count": 25,
     "metadata": {},
     "output_type": "execute_result"
    }
   ],
   "source": [
    "trace0 = go.Box(\n",
    "    name='61A',\n",
    "    y=rt61A,\n",
    "    boxmean=True\n",
    ")\n",
    "trace1 = go.Box(\n",
    "    name='61B',\n",
    "    y=rt61B,\n",
    "    boxmean=True\n",
    ")\n",
    "trace2 = go.Box(\n",
    "    name='61C',\n",
    "    y=rt61C,\n",
    "    boxmean=True\n",
    ")\n",
    "trace3 = go.Box(\n",
    "    name='61D',\n",
    "    y=rt61D,\n",
    "    boxmean=True\n",
    ")\n",
    "layout = go.Layout(\n",
    "    title=\"Delay by Bus Route\",\n",
    "    xaxis=dict(\n",
    "        title=\"Bus Route\",\n",
    "        autorange=True\n",
    "    ), \n",
    "    yaxis=dict(\n",
    "        title=\"Accumulated Delay (mins)\",\n",
    "        range=[-10,10]\n",
    "    ), \n",
    "    showlegend=False\n",
    ")\n",
    "data = [trace0, trace1, trace2, trace3]\n",
    "fig = go.Figure(data=data, layout=layout)\n",
    "py.iplot(fig)\n"
   ]
  },
  {
   "cell_type": "markdown",
   "metadata": {},
   "source": [
    "Note that plotly has a default feature of displaying plot details when hovering with your mouse. Give it a try!\n",
    "\n",
    "\n",
    "Next, in order to modify the label for each route, we set the “name” parameter under each trace. To set the axis titles, set the “title” parameter within the xaxis and yaxis dictionaries in the Layout object. In order to set the overall graph title, you also set the “title” parameter in layout (outside of the axis dictionaries)."
   ]
  },
  {
   "cell_type": "markdown",
   "metadata": {},
   "source": [
    "Now, let's adjust the visibility of the labels and gridlines. In the example below, we manually increase the font size for both labels and titles in our plot. To change the font size for the titles of our axis, we add a \"titlefont\" dictionary within our xaxis and yaxis dictionaries in our go.Layout object. To change the font size of the tick mark labels on our axes, we add a \"tickmark\" dictionary within our xaxis and yaxis dictionaries as well. In both instances, you can also change the font and the color by using the respective parameters \"family\" and \"color\". To make the ticklines more visible, we set \"showgrid\" to True and then the gridwidth and grid color parameters to be more prominent. When making the grid more visible, separate settings need to be set for the zeroline as it has its own parameters for customization. First ensure that it is visible by setting the \"zeroline\" parameter to True. Then set the \"zerolinecolor\" and \"zerolinewidth\" parameters as shown below.\n"
   ]
  },
  {
   "cell_type": "code",
   "execution_count": 26,
   "metadata": {
    "collapsed": false,
    "scrolled": true
   },
   "outputs": [
    {
     "data": {
      "text/html": [
       "<iframe id=\"igraph\" scrolling=\"no\" style=\"border:none;\" seamless=\"seamless\" src=\"https://plot.ly/~cmingle2/251.embed\" height=\"525px\" width=\"100%\"></iframe>"
      ],
      "text/plain": [
       "<plotly.tools.PlotlyDisplay object>"
      ]
     },
     "execution_count": 26,
     "metadata": {},
     "output_type": "execute_result"
    }
   ],
   "source": [
    "layout = go.Layout(\n",
    "    title=\"Delay by Bus Route\",\n",
    "    titlefont=dict(\n",
    "            family='Arial, sans-serif',\n",
    "            size=26,\n",
    "            color='black'),\n",
    "    xaxis=dict(\n",
    "        title=\"Bus Route\",\n",
    "        titlefont=dict(\n",
    "            family='Arial, sans-serif',\n",
    "            size=22,\n",
    "            color='navyblue'),\n",
    "        tickfont=dict(\n",
    "            family='Old Standard TT, serif',\n",
    "            size=14,\n",
    "            color='black'),\n",
    "        autorange=True,\n",
    "    ), \n",
    "    yaxis=dict(\n",
    "        title=\"Accumulated Delay (mins)\",\n",
    "        titlefont=dict(\n",
    "            family='Arial, sans-serif',\n",
    "            size=22,\n",
    "            color='navyblue'),\n",
    "        tickfont=dict(\n",
    "            family='Old Standard TT, serif',\n",
    "            size=14,\n",
    "            color='black'),\n",
    "        range=[-10,10],\n",
    "        showgrid=True,\n",
    "        gridwidth=1,\n",
    "        gridcolor=\"black\",\n",
    "        zeroline=True,\n",
    "        zerolinewidth=1,\n",
    "        zerolinecolor=\"red\"\n",
    "    ), \n",
    "    showlegend=False\n",
    ")\n",
    "data = [trace0, trace1, trace2, trace3]\n",
    "fig = go.Figure(data=data, layout=layout)\n",
    "py.iplot(fig)\n"
   ]
  },
  {
   "cell_type": "markdown",
   "metadata": {
    "collapsed": true
   },
   "source": [
    "Lets change gears and look at visualizing histograms with Plotly. A \"delay\" is still defined as the difference between the original predicted arrival at Forbes and Morewood and the actual arrival time. Below, we build a histogram with the proportion of trips at various delay values. A negative delay denotes a trip that arrived ahead of its predicted time. \n",
    "\n",
    "To make a histogram, create a go.Histogram object as a data group you want to represent on the plot. To normalize your histogram around add a parameter to the go.Histogram object called \"histnorm\" and set it to the type of normalization you would like to use (in my case I used 'probability' to show the proportion of records at each x-axis value). Next, just as with our box plot above, create a list (in this case called \"data\") with every trace you would like to display. And finally plot it with iplot. "
   ]
  },
  {
   "cell_type": "code",
   "execution_count": 27,
   "metadata": {
    "collapsed": false
   },
   "outputs": [
    {
     "name": "stderr",
     "output_type": "stream",
     "text": [
      "C:\\Anaconda2\\lib\\site-packages\\plotly\\plotly\\plotly.py:236: UserWarning:\n",
      "\n",
      "Woah there! Look at all those points! Due to browser limitations, the Plotly SVG drawing functions have a hard time graphing more than 500k data points for line charts, or 40k points for other types of charts. Here are some suggestions:\n",
      "(1) Use the `plotly.graph_objs.Scattergl` trace object to generate a WebGl graph.\n",
      "(2) Trying using the image API to return an image instead of a graph URL\n",
      "(3) Use matplotlib\n",
      "(4) See if you can create your visualization with fewer data points\n",
      "\n",
      "If the visualization you're using aggregates points (e.g., box plot, histogram, etc.) you can disregard this warning.\n",
      "\n"
     ]
    },
    {
     "data": {
      "text/html": [
       "<iframe id=\"igraph\" scrolling=\"no\" style=\"border:none;\" seamless=\"seamless\" src=\"https://plot.ly/~cmingle2/253.embed\" height=\"525px\" width=\"100%\"></iframe>"
      ],
      "text/plain": [
       "<plotly.tools.PlotlyDisplay object>"
      ]
     },
     "execution_count": 27,
     "metadata": {},
     "output_type": "execute_result"
    }
   ],
   "source": [
    "trips_condensed = pd.read_csv(\"supervpNewHood.csv\")\n",
    "\n",
    "trace = go.Histogram(\n",
    "    x=trips_condensed['delay'],\n",
    "    histnorm='probability'\n",
    ")\n",
    "data = [trace]\n",
    "py.iplot(data)"
   ]
  },
  {
   "cell_type": "markdown",
   "metadata": {},
   "source": [
    "The plot defaults to a scale large enough to include all values. In this next iteration, we use the go.Layout object to customize the appearance of the plot. We reduce the range on the x-axis so we can focus on the majority of data points with our histogram. Titles are also added for each axis and the overall plot."
   ]
  },
  {
   "cell_type": "code",
   "execution_count": 28,
   "metadata": {
    "collapsed": false
   },
   "outputs": [
    {
     "data": {
      "text/html": [
       "<iframe id=\"igraph\" scrolling=\"no\" style=\"border:none;\" seamless=\"seamless\" src=\"https://plot.ly/~cmingle2/255.embed\" height=\"525px\" width=\"100%\"></iframe>"
      ],
      "text/plain": [
       "<plotly.tools.PlotlyDisplay object>"
      ]
     },
     "execution_count": 28,
     "metadata": {},
     "output_type": "execute_result"
    }
   ],
   "source": [
    "layout = go.Layout(\n",
    "    title = \"Probability Histogram of Trip Delays\",\n",
    "    xaxis = dict(\n",
    "        title = 'Accumulated Delay',\n",
    "        range=[-20,40]\n",
    "    ),\n",
    "    yaxis = dict(\n",
    "        title = \"Proportion of Trips\")\n",
    ")\n",
    "figure = go.Figure(data=data, layout=layout)\n",
    "py.iplot(figure)"
   ]
  },
  {
   "cell_type": "markdown",
   "metadata": {},
   "source": [
    "Lets examine localized delays around neighborhoods. I calculated which neighborhood in Pittsburgh the bus was located in at each stop. This was done using the latitude and longitude of the timestamps as well as neighborhood parameters attained from Google Maps. "
   ]
  },
  {
   "cell_type": "markdown",
   "metadata": {},
   "source": [
    "Lets use a Heatmap to show which neighborhood on which routes bring about the largest delay. Localized delays were calculated by looking at the changes in predicted arrival from one timestamp to the next. I then extracted the timestamp record with the highest delay from each trip. This gives insight into where the biggest impact on a delay was occuring. The key values for this heatmap are the localized delays at the intersection of the routes (y) and the neighborhoods (x). The localized delays are defined in the graph parameters as 'z' which is represented as a list of lists. In this z list, each list represents a row in the plot, which in this case is a bus route. On the y axis, we have all of the neighborhoods visited by all four routes. If a route did not experience any localized delays in a particular neighborhood (or does not pass through there), it will have a zero as the localized delay for that neighborhood. \n",
    "\n",
    "After some code to build our list of lists with the mean localized delay for each neighborhood in each route, we intialize our plot. The go.Heatmap object is what is used to create the data for this plot. Within the go.Heatmap object, we set our x, y, and z. X is each neighborhood represented in the data set, and y is each of the four bus routes. If you do not include an X and Y parameter when instantiating your go.Heatmap object, you can still create the same plot as below, but there will be no labels on the axes."
   ]
  },
  {
   "cell_type": "code",
   "execution_count": 29,
   "metadata": {
    "collapsed": false
   },
   "outputs": [
    {
     "data": {
      "text/html": [
       "<iframe id=\"igraph\" scrolling=\"no\" style=\"border:none;\" seamless=\"seamless\" src=\"https://plot.ly/~cmingle2/257.embed\" height=\"525px\" width=\"100%\"></iframe>"
      ],
      "text/plain": [
       "<plotly.tools.PlotlyDisplay object>"
      ]
     },
     "execution_count": 29,
     "metadata": {},
     "output_type": "execute_result"
    }
   ],
   "source": [
    "neighborhood_delays = pd.read_csv(\"tripsComplete.csv\")\n",
    "z = []\n",
    "neighs = neighborhood_delays['neighborhood'].unique()\n",
    "x = neighs\n",
    "y = neighborhood_delays['rt_vdf'].unique()\n",
    "for i in neighborhood_delays['rt_vdf'].unique():\n",
    "    this_z = []\n",
    "    subset = neighborhood_delays[neighborhood_delays['rt_vdf']==i]\n",
    "    for j in neighs:\n",
    "        if j not in subset['neighborhood'].unique():\n",
    "            this_z.append(0)\n",
    "        else:\n",
    "            value = round(subset[subset['neighborhood']==j]['offset'].mean(), 2)\n",
    "            if value <=1:\n",
    "                this_z.append(value)\n",
    "            else:\n",
    "                this_z.append(.75)\n",
    "    z.append(this_z)\n",
    "data = [\n",
    "    go.Heatmap(\n",
    "        z=z,\n",
    "        x=x,\n",
    "        y=y \n",
    "    )\n",
    "]\n",
    "py.iplot(data)"
   ]
  },
  {
   "cell_type": "markdown",
   "metadata": {},
   "source": [
    "Great, now lets use another go.Layout object to set some axis labels. "
   ]
  },
  {
   "cell_type": "code",
   "execution_count": 30,
   "metadata": {
    "collapsed": false
   },
   "outputs": [
    {
     "data": {
      "text/html": [
       "<iframe id=\"igraph\" scrolling=\"no\" style=\"border:none;\" seamless=\"seamless\" src=\"https://plot.ly/~cmingle2/259.embed\" height=\"525px\" width=\"100%\"></iframe>"
      ],
      "text/plain": [
       "<plotly.tools.PlotlyDisplay object>"
      ]
     },
     "execution_count": 30,
     "metadata": {},
     "output_type": "execute_result"
    }
   ],
   "source": [
    "layout = go.Layout(\n",
    "    title = 'Mean Localized Delay by Neigborhood',\n",
    "    xaxis = dict(\n",
    "        title = 'Neighborhood'\n",
    "    ),\n",
    "    yaxis = dict(\n",
    "        title = 'Bus Route'\n",
    "    ))\n",
    "figure = go.Figure(data=data, layout=layout)\n",
    "py.iplot(figure)"
   ]
  },
  {
   "cell_type": "markdown",
   "metadata": {},
   "source": [
    "To avoid having to dart your eyes back and forth from the legend to the plot to discern approximate values, set the plot's \"annotations\" parameter in the go.Layout object. Here I take the opportunity to display a way to update the go.Layout object instead of recreating it. When we want to update the go.Layout object below, we actually access it through the go.Figure object where it was held, and call an update to add additional parameters. Take note that when we update, we are appending the parameters additionally initialized when the object was instantiated, not overwriting the initialized object\n",
    "\n",
    "In order to annotate your graph you must loop through your z values and add them to a list which you will pass into the go.Layout object as annotations. What is interesting here is the list of annotations is actually a dictionary with parameters set for the location and the representation of the data in the plot. For instance, in the font parameter, you can set the color to white outright, or you can put an if statement and set it to black or white depending on the value (which means background color). If you look below you will see a commented line which shows how that would be done. "
   ]
  },
  {
   "cell_type": "code",
   "execution_count": 31,
   "metadata": {
    "collapsed": false
   },
   "outputs": [
    {
     "data": {
      "text/html": [
       "<iframe id=\"igraph\" scrolling=\"no\" style=\"border:none;\" seamless=\"seamless\" src=\"https://plot.ly/~cmingle2/261.embed\" height=\"525px\" width=\"100%\"></iframe>"
      ],
      "text/plain": [
       "<plotly.tools.PlotlyDisplay object>"
      ]
     },
     "execution_count": 31,
     "metadata": {},
     "output_type": "execute_result"
    }
   ],
   "source": [
    "mean_delays = []\n",
    "for index, row in enumerate(z):\n",
    "    for column, val in enumerate(row):\n",
    "        box_mean = z[index][column]\n",
    "        mean_delays.append(\n",
    "            dict(\n",
    "                text=str(box_mean),\n",
    "                x=x[column], y=y[index],\n",
    "                font=dict(color='white'),\n",
    "                        #color='white' if val > 0.5 else 'black'), \n",
    "                showarrow=False)\n",
    "            )\n",
    "figure['layout'].update(\n",
    "    title='Localized Delay Heatmap with Values',\n",
    "    annotations = mean_delays\n",
    ")\n",
    "py.iplot(figure)"
   ]
  },
  {
   "cell_type": "markdown",
   "metadata": {},
   "source": [
    "There are a number of other ways to customize heatmaps, one example is customizing the color spectrum with the \"colorscale\" parameter in the go.Layout object. \n",
    "\n",
    "Pittsburgh weather (from weather underground) at trip time was joined with the data. Let's build a scatter plot of rainfall on the x-axis and delay on the y axis. I create a go.Scatter object which will be added to the 'data' list for this plot and then call iplot. \n"
   ]
  },
  {
   "cell_type": "code",
   "execution_count": 32,
   "metadata": {
    "collapsed": false
   },
   "outputs": [
    {
     "data": {
      "text/html": [
       "<iframe id=\"igraph\" scrolling=\"no\" style=\"border:none;\" seamless=\"seamless\" src=\"https://plot.ly/~cmingle2/263.embed\" height=\"525px\" width=\"100%\"></iframe>"
      ],
      "text/plain": [
       "<plotly.tools.PlotlyDisplay object>"
      ]
     },
     "execution_count": 32,
     "metadata": {},
     "output_type": "execute_result"
    }
   ],
   "source": [
    "delays = pd.read_csv(\"tripDelaysWithRain.csv\")\n",
    "rt61A = delays.loc[delays['rt'] == \"61A\"][\"delay\"]\n",
    "rt61B = delays.loc[delays['rt'] == \"61B\"][\"delay\"]\n",
    "rt61C = delays.loc[delays['rt'] == \"61C\"][\"delay\"]\n",
    "rt61D = delays.loc[delays['rt'] == \"61D\"][\"delay\"]\n",
    "\n",
    "\n",
    "x = delays['rain']\n",
    "y = delays['delay']\n",
    "\n",
    "trace = go.Scatter(\n",
    "    x=x,\n",
    "    y=y,\n",
    "    mode='markers'\n",
    ")\n",
    "data = [trace]\n",
    "py.iplot(data)"
   ]
  },
  {
   "cell_type": "markdown",
   "metadata": {},
   "source": [
    "Now I display a scatter plot with multiple traces (each route). When creating go.Scatter objects, set the 'mode' parameter to 'markers' to get a traditional scatter plot. Unlike layout objects where you set titles for axes, you must set the 'name' parameter in each go.Scatter object before adding them to the data list. This automatically creates a legend. Plotly will automatically select a color array for your data, but it is also customizable."
   ]
  },
  {
   "cell_type": "code",
   "execution_count": 33,
   "metadata": {
    "collapsed": false
   },
   "outputs": [
    {
     "data": {
      "text/html": [
       "<iframe id=\"igraph\" scrolling=\"no\" style=\"border:none;\" seamless=\"seamless\" src=\"https://plot.ly/~cmingle2/265.embed\" height=\"525px\" width=\"100%\"></iframe>"
      ],
      "text/plain": [
       "<plotly.tools.PlotlyDisplay object>"
      ]
     },
     "execution_count": 33,
     "metadata": {},
     "output_type": "execute_result"
    }
   ],
   "source": [
    "delays = delays.loc[delays['rain'] > 0]\n",
    "rt61A = delays.loc[delays['rt'] == \"61A\"]\n",
    "rt61B = delays.loc[delays['rt'] == \"61B\"]\n",
    "rt61C = delays.loc[delays['rt'] == \"61C\"]\n",
    "rt61D = delays.loc[delays['rt'] == \"61D\"]\n",
    "\n",
    "trace1 = go.Scatter(\n",
    "        name='61A',\n",
    "        x=rt61A['rain'],\n",
    "        y=rt61A['delay'],\n",
    "        mode='markers'\n",
    ")\n",
    "trace2 = go.Scatter(\n",
    "        name='61B',\n",
    "        x=rt61B['rain'],\n",
    "        y=rt61B['delay'],\n",
    "        mode='markers'\n",
    ")\n",
    "trace3 = go.Scatter(\n",
    "        name='61C',\n",
    "        x=rt61C['rain'],\n",
    "        y=rt61C['delay'],\n",
    "        mode='markers'\n",
    ")\n",
    "trace4 = go.Scatter(\n",
    "        name = '61D',\n",
    "        x=rt61D['rain'],\n",
    "        y=rt61D['delay'],\n",
    "        mode='markers'\n",
    ")\n",
    "data = [trace1, trace2, trace3, trace4]\n",
    "layout = go.Layout(\n",
    "    title = 'Delay by Rainfall Per Trip',\n",
    "    xaxis = dict(\n",
    "        title = 'Rainfall During Trip (inches)' \n",
    "    ),\n",
    "    yaxis = dict(\n",
    "        title = 'Delay (minutes)')\n",
    ")\n",
    "figure = go.Figure(data=data, layout=layout)\n",
    "py.iplot(figure)"
   ]
  },
  {
   "cell_type": "markdown",
   "metadata": {},
   "source": [
    "Take a look at the bottom right of each of the graphs we have created above. There is an \"Edit Chart\" button. When clicking on this button, it takes you to the Plot.ly website where there is an interactive dashboard where you can edit and tweak your graphs. This is a great place to learn some of the additional capabilities of the plotting library. Plotly also has a service in which you can open an account and publish your plots to the web. Visit the site an apply for a key today! "
   ]
  },
  {
   "cell_type": "code",
   "execution_count": null,
   "metadata": {
    "collapsed": true
   },
   "outputs": [],
   "source": []
  }
 ],
 "metadata": {
  "anaconda-cloud": {},
  "kernelspec": {
   "display_name": "Python [Root]",
   "language": "python",
   "name": "Python [Root]"
  },
  "language_info": {
   "codemirror_mode": {
    "name": "ipython",
    "version": 2
   },
   "file_extension": ".py",
   "mimetype": "text/x-python",
   "name": "python",
   "nbconvert_exporter": "python",
   "pygments_lexer": "ipython2",
   "version": "2.7.12"
  }
 },
 "nbformat": 4,
 "nbformat_minor": 0
}
