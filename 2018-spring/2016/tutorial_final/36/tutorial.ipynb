{
 "cells": [
  {
   "cell_type": "markdown",
   "metadata": {},
   "source": [
    "# Python Regular Expression Tutorial\n",
    "> Chung-Yu Shao, cshao@andrew.cmu.edu"
   ]
  },
  {
   "cell_type": "markdown",
   "metadata": {
    "collapsed": true
   },
   "source": [
    "## Introduction\n",
    "\n",
    "This tutorial was the summary for my experience to understand the famous **regular expression.** Although we've already had homework 1 which includes tasks related to regular expression, it's a very useful but forgettable tools that we, as a software engineer or researcher in the computer related fileds, should sharpen up on. It often looks scary as the first glance, hope we can learn regular expression better together through this tutorial. In this tutorial, I will mainly cover:\n",
    "\n",
    "* (1) What is regular expression, what functionality do python `re` suport.\n",
    "* (2) The `Match` object: what we get from calling the `re` find-like operations.\n",
    "* (3) The `Pattern` object: mainly, how do we write the pattern\n",
    "* (4) Advanced discussion\n",
    "    * 4.1 `\\b` and `\\B`\n",
    "    * 4.2 Raw string notation\n",
    "    * 4.3 The \"greedy\" match concept\n",
    "    * 4.4 The extension notation `(?...)`\n",
    "\n",
    "## [What is regular expression?](https://en.wikipedia.org/wiki/Regular_expression)\n",
    "> a regular expression (sometimes called a rational expression) is a sequence of characters that define a search pattern, mainly for use in pattern matching with strings, or string matching, i.e. **\"find and replace\"-like operations**.\n",
    "\n",
    "So, what kind of find and replace\"-like operations python `re` module support?\n",
    "* `re.search(pattern, string, flags=0)`\n",
    "    * Checks for a match **anywhere in the string**\n",
    "* `re.match(pattern, string, flags=0)`\n",
    "    * Checks for a match only **at the beginning of the string**\n",
    "* `re.split(pattern, string, maxsplit=0, flags=0)`\n",
    "    * Split string by the occurrences of pattern.   \n",
    "* `re.sub(pattern, repl, string, count=0, flags=0)`\n",
    "    * Return the string obtained by replacing the leftmost non-overlapping occurrences of pattern in string by the replacement repl.\n",
    "* `re.findall(pattern, string, flags=0)`, `re.finditer(pattern, string, flags=0)`    \n",
    "    \n",
    "Let's see a quick example!"
   ]
  },
  {
   "cell_type": "code",
   "execution_count": 2,
   "metadata": {
    "collapsed": false,
    "scrolled": true
   },
   "outputs": [
    {
     "name": "stdout",
     "output_type": "stream",
     "text": [
      "ab match:<_sre.SRE_Match object at 0x1101b2718>\n",
      "no match: None\n",
      "cd match:<_sre.SRE_Match object at 0x1101b2578>\n",
      "----\n",
      "pattern:<_sre.SRE_Pattern object at 0x1101514f0>\n",
      "ab compile match:<_sre.SRE_Match object at 0x1101b25e0>\n",
      "----\n",
      "type of r'ab':<type 'str'>\n",
      "type of `pattern`: <type '_sre.SRE_Pattern'>\n"
     ]
    }
   ],
   "source": [
    "import re\n",
    "string = \"abcdba\"\n",
    "abMatch = re.match(r\"ab\", string)\n",
    "noMatch = re.match(r\"cd\", string)\n",
    "cdMatch = re.search(r\"cd\", string)\n",
    "print \"ab match:{}\\nno match: {}\\ncd match:{}\".format(abMatch, noMatch, cdMatch)\n",
    "print \"----\"\n",
    "pattern = re.compile(\"ab\")\n",
    "abCompileMatch = pattern.match(string)\n",
    "print \"pattern:{}\\nab compile match:{}\".format(pattern, abCompileMatch)\n",
    "print \"----\"\n",
    "print \"type of r\\'ab\\':{}\\ntype of `pattern`: {}\".format(type(r\"ab\"), type(pattern))"
   ]
  },
  {
   "cell_type": "markdown",
   "metadata": {},
   "source": [
    "So, what we can observe from the above snippet? (1) The difference between `re.match()` and `re.search()` is that `re.match()` only search from the beginning, whereas `re.search()` find the pattern in the target string!. (2) There are Mainly two types of objects we will use: `_sre.SRE_Match` and `_sre.SRE_Pattern`, which we will discuss in the later sections. (3) Mainly two styles to use `pattern` as below, which we will discuss later in the advanced discussion: Raw string notation.\n",
    "```python\n",
    "abMatch = re.match(r\"ab\", string)\n",
    "# or\n",
    "pattern = re.compile(\"ab\")\n",
    "abCompileMatch = pattern.match(string)    \n",
    "``` \n",
    "    \n",
    "---\n",
    "\n",
    "There are a lot of to discuss for the `pattern` object, especially the rules to build a pattern. So let's start from the `_sre.SRE_Match` object\n",
    "\n",
    "## `Match` object\n",
    "Match object is **what we got from the provided find-like operations**. So, what would the user like to have as a result of a \"find and replace\"-like operations? It might be something like **The string(s) that matche the pattern(s)** and **The index(es) of each matched substring**! That's what `match` provide! That's take a deeper look of these two parts. Noted that there is an imporant concept call **group(s)** in the regular expression. Group means that by using `()` to \"group\" the pattern you want, you can get the group(s) of string you want to match, as well as the corresponding indexes! Formally speaking, we can concate different subpattern using parenthesis to a large pattern to match a string. Each sub-pattern matching is return in different *group*, with the access function call as below snippet.\n",
    "\n",
    "* `group([group1, ...])` \n",
    "    * Returns one or more subgroups of the match. \n",
    "* `groups([default])`\n",
    "    * Return a tuple containing all the subgroups of the match, from 1 up to however many groups are in the pattern. \n",
    "    "
   ]
  },
  {
   "cell_type": "code",
   "execution_count": 3,
   "metadata": {
    "collapsed": false,
    "scrolled": false
   },
   "outputs": [
    {
     "name": "stdout",
     "output_type": "stream",
     "text": [
      "abcde\n",
      "---\n",
      "abcde\n",
      "ab\n",
      "de\n",
      "('abcde', 'ab', 'de')\n",
      "---\n",
      "('ab', 'de')\n"
     ]
    }
   ],
   "source": [
    "matchObj = re.match(r\"(ab).*(de)\", \"abcde\") \n",
    "#`.*` to represet any amount of arbitrary characters\n",
    "#We use \n",
    "print matchObj.group()\n",
    "print \"---\"\n",
    "print matchObj.group(0) # The entire match\n",
    "print matchObj.group(1) # The first parenthesized subgroup.\n",
    "print matchObj.group(2) # The second parenthesized subgroup.\n",
    "print matchObj.group(0, 1, 2) # Multiple arguments give us a tuple.\n",
    "print \"---\"\n",
    "print matchObj.groups()"
   ]
  },
  {
   "cell_type": "markdown",
   "metadata": {},
   "source": [
    "Since we already have group(s) of matched object, the indexes we want from `Match` object is therefore retrieved from the `group` object.\n",
    "\n",
    "* `start([group])` and `end([group])`\n",
    "    * Return the indices of the start and end of the substring matched by group; \n",
    "* `span([group])`\n",
    "    * For MatchObject m, return the 2-tuple (m.start(group), m.end(group)). \n",
    "    * If group did not contribute to the match, this is (-1, -1)."
   ]
  },
  {
   "cell_type": "code",
   "execution_count": 4,
   "metadata": {
    "collapsed": false
   },
   "outputs": [
    {
     "name": "stdout",
     "output_type": "stream",
     "text": [
      "abcde ('ab', 'de')\n",
      "---\n",
      "abcde (0, 5)\n",
      "ab (0, 2)\n",
      "de (3, 5)\n",
      "---\n"
     ]
    }
   ],
   "source": [
    "matchObj = re.match(r\"(ab).*(de)\", \"abcde\")\n",
    "print matchObj.group(), matchObj.groups()\n",
    "print \"---\"\n",
    "print matchObj.group(0), matchObj.span(0) # The entire match\n",
    "print matchObj.group(1), matchObj.span(1) # The first parenthesized subgroup.\n",
    "print matchObj.group(2), matchObj.span(2) # The second parenthesized subgroup.\n",
    "print \"---\""
   ]
  },
  {
   "cell_type": "markdown",
   "metadata": {},
   "source": [
    "## How to write pattern?\n",
    "> regular expression (sometimes called a rational expression) is **a sequence of characters** that define a search pattern\n",
    "\n",
    "Remembered what we lernt from the wikipedia page? Regular expression is composed by a sequence of characters. To understand how to write the pattern, we need to know the **characters** first. Generally speaking, regular expressions, regardless of the language, all separates characters to ordinary characters and special characters.\n",
    "\n",
    "Most of characters are **\"ordinary characters\"**, which **simply match themselves**. However, there are **special characters** which either \n",
    "* (1) stand for classes of ordinary characters, or \n",
    "* (2) affect how the regular expressions around them are interpreted.\n",
    "\n",
    "Among them, I mainly catagorized the functionalities to be \n",
    "* (1) setting anchor\n",
    "* (2) repetitions\n",
    "* (3) building logic\n",
    "\n",
    "#### stand for classes of ordinary characters:\n",
    "* `'.'`: In the default mode, dot `.` matches any character except a newline.\n",
    "* `'[]'`: Used to indicate a set of characters\n",
    "    * Special characters lose their special meaning inside sets. For example, `'[(+*)]'` will match any of the literal characters `'(', '+', '*'`, or `')'`.\n",
    "* `'[^]'`: Complementing the set. If the first character of the set `'[]'` is `'^'`, all the characters that are not in the set will be matched.\n",
    "* Character sets\n",
    "\n",
    "|       | represents      | \n",
    "|    ---|              ---|\n",
    "| `\\w`  | `[a-zA-Z0-9_]`  |\n",
    "| `\\W`  | `[^a-zA-Z0-9_]` |\n",
    "| `\\s`  | `[ \\n\\r\\t\\f\\v]` |\n",
    "| `\\S`  | `[^ \\n\\r\\t\\f\\v]`|\n",
    "| `\\d`  | `[0-9] `        |\n",
    "| `\\D`  | `[^0-9]`        | \n",
    "\n",
    "\n",
    "#### Setting anchor\n",
    "* `'^'`: Matches the start of the string.\n",
    "* `'$'`: Matches the end of the string or just before the newline at the end of the string.\n",
    "* `'(...)'`: Matches whatever regular expression is inside the parentheses, and indicates the start and end of a group\n",
    "* `'\\A'`: Matches only at the start of the string.\n",
    "* `'\\Z'`: Matches only at the end of the string.\n",
    "* `'\\b'`: Matches the empty string, but only at the beginning or end of a word. => Read [Advanced discussion: \\b and \\B]\n",
    "* `'\\B'`: Matches the empty string, but only when it is not at the beginning or end of a word. => Read [Advanced discussion: \\b and \\B]()\n",
    "\n",
    "#### Repetitions\n",
    "* `'*'`: Match 0 or more repetitions of the preceding RE, as many repetitions as are possible.\n",
    "* `'+'`: Match 1 or more repetitions of the preceding RE\n",
    "* `'?'`: Match 0 or 1 repetitions of the preceding RE\n",
    "* `'{m}'`: Specifies that exactly m copies of the previous RE should be matched\n",
    "* `'{m,n}'`: Causes the resulting RE to match from m to n (inclusive) repetitions of the preceding RE\n",
    "\n",
    "#### Building Logic\n",
    "* `'|'`: `A|B`, where A and B can be arbitrary REs, creates a regular expression that will match either A or B.\n",
    "\n",
    "---\n",
    "With the above definition in mind, let's practice an easy but well known example.\n",
    "\n",
    "### U.S. Phone number matching\n",
    "#### (1) Supposed the phone number will only have numbers, ex: \"6503352800\""
   ]
  },
  {
   "cell_type": "code",
   "execution_count": 5,
   "metadata": {
    "collapsed": false
   },
   "outputs": [
    {
     "name": "stdout",
     "output_type": "stream",
     "text": [
      "650335280\n"
     ]
    }
   ],
   "source": [
    "print re.match(r\"\\d{9}\", \"6503352800\").group() # use `\\d` and {m} to specify m copies of the number"
   ]
  },
  {
   "cell_type": "markdown",
   "metadata": {},
   "source": [
    "#### (2) How about there might be `'-'` between the third, fourth number or sixth, seventh number? Ex: \"650-335-2800\", \"650-3352800\", \"6503352800\", \"650335-2800\""
   ]
  },
  {
   "cell_type": "code",
   "execution_count": 6,
   "metadata": {
    "collapsed": false
   },
   "outputs": [
    {
     "name": "stdout",
     "output_type": "stream",
     "text": [
      "6503352800\n",
      "650-335-2800\n",
      "650-3352800\n",
      "650335-2800\n"
     ]
    }
   ],
   "source": [
    "print re.match(r\"\\d{3}-?\\d{3}-?\\d{4}\", \"6503352800\").group()\n",
    "print re.match(r\"\\d{3}-?\\d{3}-?\\d{4}\", \"650-335-2800\").group()\n",
    "print re.match(r\"\\d{3}-?\\d{3}-?\\d{4}\", \"650-3352800\").group()\n",
    "print re.match(r\"\\d{3}-?\\d{3}-?\\d{4}\", \"650335-2800\").group()"
   ]
  },
  {
   "cell_type": "markdown",
   "metadata": {},
   "source": [
    "#### (3) Wait, we do have \"650-335-2800\", \"650-3352800\", \"6503352800\", but I have never seen \"650335-2800\"?"
   ]
  },
  {
   "cell_type": "code",
   "execution_count": 7,
   "metadata": {
    "collapsed": false
   },
   "outputs": [
    {
     "name": "stdout",
     "output_type": "stream",
     "text": [
      "None\n",
      "650335280\n",
      "650-3352800\n",
      "650-335-2800\n"
     ]
    }
   ],
   "source": [
    "print re.match(r\"\\d{3}-\\d{3}-?\\d{4}|\\d{9}\", \"650335-2800\")\n",
    "print re.match(r\"\\d{3}-\\d{3}-?\\d{4}|\\d{9}\", \"6503352800\").group()\n",
    "print re.match(r\"\\d{3}-\\d{3}-?\\d{4}|\\d{9}\", \"650-3352800\").group()\n",
    "print re.match(r\"\\d{3}-\\d{3}-?\\d{4}|\\d{9}\", \"650-335-2800\").group()"
   ]
  },
  {
   "cell_type": "markdown",
   "metadata": {},
   "source": [
    "#### (4) How about the first hyphen might be parenthesis around the first to three character instead? Ex: \"(650)3352800\", \"(650)335-2800\", \"650-335-2800\", \"650-3352800\", \"6503352800\" will all work, but not the other case!"
   ]
  },
  {
   "cell_type": "code",
   "execution_count": 8,
   "metadata": {
    "collapsed": false
   },
   "outputs": [
    {
     "name": "stdout",
     "output_type": "stream",
     "text": [
      "None\n",
      "(650)3352800\n",
      "(650)335-2800\n",
      "650-335-2800\n",
      "650-3352800\n",
      "650335280\n"
     ]
    }
   ],
   "source": [
    "print re.match(r\"\\(\\d{3}\\)\\d{3}-?\\d{4}|\\d{3}-\\d{3}-?\\d{4}|\\d{9}\", \"650335-2800\")\n",
    "print re.match(r\"\\(\\d{3}\\)\\d{3}-?\\d{4}|\\d{3}-\\d{3}-?\\d{4}|\\d{9}\", \"(650)3352800\").group()\n",
    "print re.match(r\"\\(\\d{3}\\)\\d{3}-?\\d{4}|\\d{3}-\\d{3}-?\\d{4}|\\d{9}\", \"(650)335-2800\").group()\n",
    "print re.match(r\"\\(\\d{3}\\)\\d{3}-?\\d{4}|\\d{3}-\\d{3}-?\\d{4}|\\d{9}\", \"650-335-2800\").group()\n",
    "print re.match(r\"\\(\\d{3}\\)\\d{3}-?\\d{4}|\\d{3}-\\d{3}-?\\d{4}|\\d{9}\", \"650-3352800\").group()\n",
    "print re.match(r\"\\(\\d{3}\\)\\d{3}-?\\d{4}|\\d{3}-\\d{3}-?\\d{4}|\\d{9}\", \"6503352800\").group()"
   ]
  },
  {
   "cell_type": "markdown",
   "metadata": {},
   "source": [
    "\n",
    "Cool! We've use the simple concepts like `\\d`, the character set that represents digits `[0-9]`, the repetition expression `{m}`, `?`, the escape backslash to make special characters normal `\\(\\)`, and the OR to build the matching logic `|`. However, there are still lots of topics to explored. Followings are the parts that I find useful but confused at the first glance.\n",
    "\n",
    "---\n",
    "\n",
    "### Advanced discussion 1: `\\b` and `\\B`\n",
    "#### `\\b`\n",
    "\n",
    "The usage of `\\b` and `\\B` is important! But it's not that intuitive in the first glance of reading the documentation. \n",
    "You need to understand that these two match will **match with zero-length.**\n",
    "> `\\b` matches the empty string, but only at the beginning or end of a word, formally, `\\b` is defined as the boundary between a `\\w` (`[a-zA-Z0-9_]`) and a `\\W` character (or vice versa), or between \\w and the beginning/end of the string. \n",
    "\n",
    "---\n",
    "\n",
    "> `\\B`\n",
    "*Matches the empty string, but only when it is not at the beginning or end of a word, which means `\\B` matches at every position where `\\b` does not. \n",
    "\n",
    "Effectively, `\\B` matches at **any position between two word characters** as well as at any position between two non-word characters. Reading the example and comments below will help you out!"
   ]
  },
  {
   "cell_type": "code",
   "execution_count": 9,
   "metadata": {
    "collapsed": false
   },
   "outputs": [
    {
     "name": "stdout",
     "output_type": "stream",
     "text": [
      "foo\n",
      "foo\n",
      "foo\n",
      "foo\n",
      "None\n",
      "None\n",
      "---\n",
      "py\n",
      "py\n",
      "None\n",
      "None\n",
      "None\n"
     ]
    }
   ],
   "source": [
    "# \\b example\n",
    "print re.search(r\"\\bfoo\\b\", \"foo\").group() #\\w and the beginning/end of the string\n",
    "print re.search(r\"\\bfoo\\b\", \"foo.\").group() #`.` is in the \\W set!\n",
    "print re.search(r\"\\bfoo\\b\", \"(foo)\").group() # `(` and `)` is in the \\W set!\n",
    "print re.search(r\"\\bfoo\\b\", \"bar foo baz\").group() # ` ` is in the \\W set!\n",
    "print re.search(r\"\\bfoo\\b\", \"foobar\") # the right \\b can't be matched, since b is in \\W set\n",
    "print re.search(r\"\\bfoo\\b\", \"foo3\") #  3 can't be matched\n",
    "\n",
    "print \"---\"\n",
    "\n",
    "# \\B example\n",
    "\n",
    "print re.search(r\"py\\B\", \"python\").group() #the empty string was mathced between p\"yt\"hon\n",
    "print re.search(r\"py\\B\", \"py3\").group() #the empty string was mathced between p\"y3\"\n",
    "print re.search(r\"py\\B\", \"py\") # y's next is the end, so we can't match\n",
    "print re.search(r\"py\\B\", \"py.\") # y's next is in \\W, so we can't match\n",
    "print re.search(r\"py\\B\", \"py!\") # y's next is in \\W, so we can't match"
   ]
  },
  {
   "cell_type": "markdown",
   "metadata": {},
   "source": [
    "### Advanced discussion 2: Raw string notation (r\"text\") \n",
    "Remembered we mentioned there are two styles of function calls:\n",
    "\n",
    "```python\n",
    "abMatch = re.match(r\"ab\", string)\n",
    "# or\n",
    "pattern = re.compile(\"ab\")\n",
    "abCompileMatch = pattern.match(string)    \n",
    "``` \n",
    "\n",
    "So, what's the difference and why do we need the raw string notation (r\"text\")? It's actually caused by the **Backslash character (`'\\'`)**. `'\\'` indicate special forms or to allow special characters to be normal in regular expression. However, this conflicts with the string literal, which makes it simply to be a escape sign. In short, matching **a** literal backslash `'\\'` in a string, one has to write **\"\\\\\\\\\"** as the RE string, because the regular expression must be \\\\, and each backslash must be expressed as \\\\ inside a Python string literal. The `r` at the start of the pattern string designates a python \"raw\" string which **passes through backslashes without change.**\n",
    "\n",
    "Take a look for the following examples, noted that in the first parameters in the `re.match`, it should be a pattern string, whereas in the second parameters, it's a string. `\"\\\\\"` in a string means the single `\"\\\"`"
   ]
  },
  {
   "cell_type": "code",
   "execution_count": 10,
   "metadata": {
    "collapsed": false
   },
   "outputs": [
    {
     "name": "stdout",
     "output_type": "stream",
     "text": [
      "\\\n",
      "\\\n",
      "\\\n",
      "\\\n",
      "\\w\n",
      "\\w\n",
      "\\section\n",
      "\\section\n"
     ]
    }
   ],
   "source": [
    "print re.match(\"\\\\\\\\\", \"\\\\\").group()\n",
    "print re.match(r\"\\\\\", \"\\\\\").group()\n",
    "print re.match(r\"\\\\\", r\"\\\\\").group()\n",
    "print re.match(\"\\\\\\\\\", r\"\\\\\").group()\n",
    "print re.match(\"\\\\\\\\w\", \"\\\\w\").group()\n",
    "print re.match(r\"\\\\w\", \"\\\\w\").group()\n",
    "print re.match(\"\\\\\\\\section\", \"\\\\section\").group()\n",
    "print re.match(r\"\\\\section\", \"\\\\section\").group()"
   ]
  },
  {
   "cell_type": "markdown",
   "metadata": {},
   "source": [
    "### Advanced discussion 3: The \"greedy\" match concept\n",
    "\n",
    "What is the \"greedy\" means in regular expression? "
   ]
  },
  {
   "cell_type": "code",
   "execution_count": 11,
   "metadata": {
    "collapsed": false
   },
   "outputs": [
    {
     "name": "stdout",
     "output_type": "stream",
     "text": [
      "a\n",
      "ab\n",
      "abb\n",
      "abbbbbbbbbbb\n"
     ]
    }
   ],
   "source": [
    "print re.match(\"ab*\", \"a\").group()\n",
    "print re.match(\"ab*\", \"ab\").group()\n",
    "print re.match(\"ab*\", \"abb\").group()\n",
    "print re.match(\"ab*\", \"abbbbbbbbbbb\").group()"
   ]
  },
  {
   "cell_type": "markdown",
   "metadata": {},
   "source": [
    "From the example, we can see that `'*'` causes the resulting RE to match 0 or more repetitions of the preceding RE, **as many repetitions as are possible**. This is the so-called greedy in regular expression. However, sometimes greedy is not what we want."
   ]
  },
  {
   "cell_type": "code",
   "execution_count": 12,
   "metadata": {
    "collapsed": false
   },
   "outputs": [
    {
     "name": "stdout",
     "output_type": "stream",
     "text": [
      "greedy: pbq c pdq\n"
     ]
    }
   ],
   "source": [
    "print \"greedy: \" + re.match(r\"p.*q\", \"pbq c pdq\").group() # what if we only want the <a> to be matched?"
   ]
  },
  {
   "cell_type": "markdown",
   "metadata": {},
   "source": [
    "In the above example, we just want the \"pbq\", however, the greedy `.*` will give us the whole \"pbq c pdq\". Followings list the methods/usages to escape from the greedy operations.\n",
    "\n",
    "#### (1) `*?`, `+?`, `??`"
   ]
  },
  {
   "cell_type": "code",
   "execution_count": 13,
   "metadata": {
    "collapsed": false
   },
   "outputs": [
    {
     "name": "stdout",
     "output_type": "stream",
     "text": [
      "non greedy: pbq\n",
      "---\n",
      "greedy: pbq c pdq\n",
      "non greedy: pbq\n",
      "---\n",
      "greedy: pq\n",
      "non greedy: pq\n",
      "greedy: q\n",
      "non greedy: q\n"
     ]
    }
   ],
   "source": [
    "print \"non greedy: \" + re.match(r\"p.*?q\", \"pbq c pdq\").group()\n",
    "print \"---\"\n",
    "print \"greedy: \" + re.match(r\"p.+q\", \"pbq c pdq\").group()\n",
    "print \"non greedy: \" + re.match(r\"p.+?q\", \"pbq c pdq\").group()\n",
    "print \"---\"\n",
    "print \"greedy: \" + re.match(r\"p?q\", \"pq\").group()\n",
    "print \"non greedy: \" + re.match(r\"p??q\", \"pq\").group()\n",
    "print \"greedy: \" + re.match(r\"p?q\", \"q\").group()\n",
    "print \"non greedy: \" + re.match(r\"p??q\", \"q\").group()"
   ]
  },
  {
   "cell_type": "markdown",
   "metadata": {},
   "source": [
    "The last case `??` and `?`, though has same result, it is actually different in how the regular engine runs.\n",
    "For the greedy match of `re.match(\"p?q\", \"pq\")`, it will actually check \"pq\" first, then check \"q\". However, if you use `re.match(\"p??q\", \"pq\")`, it will check \"q\" first, then check \"pq\". This concepts also apply on the `'|'`, OR operator.\n",
    "\n",
    "As the target string is scanned, REs separated by `'|'` are tried from left to right. When one pattern completely matches, that branch is accepted. This means that once A matches, B will not be tested further, even if it would produce a longer overall match. Therefore, the document said the **`'|'` operator is never greedy**. \n",
    "\n",
    "#### (2) `{m,n}?`"
   ]
  },
  {
   "cell_type": "code",
   "execution_count": 14,
   "metadata": {
    "collapsed": false
   },
   "outputs": [
    {
     "name": "stdout",
     "output_type": "stream",
     "text": [
      "greedy: aaa\n",
      "non greedy: aaa\n",
      "greedy: aaaaa\n",
      "non greedy: aaa\n"
     ]
    }
   ],
   "source": [
    "print \"greedy: \" + re.match(r\"a{3,5}\", \"aaa\").group()\n",
    "print \"non greedy: \" + re.match(r\"a{3,5}?\", \"aaa\").group()\n",
    "print \"greedy: \" + re.match(r\"a{3,5}\", \"aaaaa\").group()\n",
    "print \"non greedy: \" + re.match(r\"a{3,5}?\", \"aaaaa\").group()"
   ]
  },
  {
   "cell_type": "markdown",
   "metadata": {},
   "source": [
    "### Advanced discussion 4:  `(?...)`, the extension notation\n",
    "`(?...)` is an extension notation. The **first character after the `'?'` determines** what the meaning and further syntax of the construct is.\n",
    "\n",
    "#### (1) `(?:...)`\n",
    "* A non-capturing version of regular parentheses."
   ]
  },
  {
   "cell_type": "code",
   "execution_count": 15,
   "metadata": {
    "collapsed": false
   },
   "outputs": [
    {
     "name": "stdout",
     "output_type": "stream",
     "text": [
      "abcde\n",
      "('ab', 'cd', 'e')\n",
      "abcde\n",
      "('ab', 'e')\n"
     ]
    }
   ],
   "source": [
    "print re.match(r\"(ab)(cd)(e)\", \"abcde\").group()\n",
    "print re.match(r\"(ab)(cd)(e)\", \"abcde\").groups()\n",
    "print re.match(r\"(ab)(cd)(e)\", \"abcde\").group()\n",
    "print re.match(r\"(ab)(?:cd)(e)\", \"abcde\").groups()"
   ]
  },
  {
   "cell_type": "markdown",
   "metadata": {},
   "source": [
    "#### (2) `(?P<name>...)` and `(?P=name)`\n",
    " `(?P<name>...)`\n",
    "* the substring matched by the group is accessible via the symbolic group name `name`.\n",
    "`(?P=name)`\n",
    "* A backreference to a named group; it matches whatever text was matched by the earlier group named name.\n",
    "* There is another way to do the backreference: `\\number`, which will be shown below"
   ]
  },
  {
   "cell_type": "code",
   "execution_count": 16,
   "metadata": {
    "collapsed": false
   },
   "outputs": [
    {
     "name": "stdout",
     "output_type": "stream",
     "text": [
      "abcde\n",
      "{'foo': 'ab', 'bar': 'de'}\n",
      "ab\n",
      "de\n",
      "ab\n",
      "c\n",
      "de\n"
     ]
    }
   ],
   "source": [
    "# example 1: set and access the symbolic group name `foo` and `bar`\n",
    "match = re.match(r\"(?P<foo>ab)(c)(?P<bar>de)\", \"abcde\")\n",
    "print match.group()\n",
    "print match.groupdict()\n",
    "print match.groupdict()['foo']\n",
    "print match.groupdict()['bar']\n",
    "print match.group(1)\n",
    "print match.group(2)\n",
    "print match.group(3)"
   ]
  },
  {
   "cell_type": "code",
   "execution_count": 17,
   "metadata": {
    "collapsed": false
   },
   "outputs": [
    {
     "name": "stdout",
     "output_type": "stream",
     "text": [
      "None\n",
      "---\n",
      "{'foo': 'ab'}\n",
      "('ab', 'c')\n",
      "(0, 2)\n"
     ]
    }
   ],
   "source": [
    "# example 2: use the back reference by symbolic group name\n",
    "print re.match(r\"(?P<foo>ab)(c)(?P=foo)\", \"abcde\")\n",
    "print \"---\"\n",
    "match = re.match(r\"(?P<foo>ab)(c)(?P=foo)\", \"abcab\")\n",
    "print match.groupdict() \n",
    "print match.groups() # the later group that been referenced by the symbolic name \"foo\" will not be shown\n",
    "print match.span(1) "
   ]
  },
  {
   "cell_type": "code",
   "execution_count": 18,
   "metadata": {
    "collapsed": false
   },
   "outputs": [
    {
     "name": "stdout",
     "output_type": "stream",
     "text": [
      "('ab', 'c', 'ab')\n",
      "('ab', 'c', 'ab', 'c')\n"
     ]
    }
   ],
   "source": [
    "# example 3: use the back reference by \\number\n",
    "match = re.match(r\"(ab)(c)(\\1)\", \"abcab\")\n",
    "print match.groups()\n",
    "match = re.match(r\"(ab)(c)(\\1)(\\2)\", \"abcabc\")\n",
    "print match.groups()"
   ]
  },
  {
   "cell_type": "markdown",
   "metadata": {},
   "source": [
    "\n",
    "## Summary and references\n",
    "\n",
    "I've struggled a lot for the regular expression before, through rearranging, covering and testing the Python `re` documentation with this tutorial, I do gain a lot of confidence on using it. Hope the reader will also find it helpful!\n",
    "\n",
    "* [Python Document: 7.2. re — Regular expression operations](https://docs.python.org/2/library/re.html)\n",
    "* [Regular Expression HOWTO](https://docs.python.org/2/howto/regex.html#regex-howto)\n",
    "* [Regular Expression Info](http://www.regular-expressions.info/)"
   ]
  }
 ],
 "metadata": {
  "anaconda-cloud": {},
  "kernelspec": {
   "display_name": "Python 2",
   "language": "python",
   "name": "python2"
  },
  "language_info": {
   "codemirror_mode": {
    "name": "ipython",
    "version": 2
   },
   "file_extension": ".py",
   "mimetype": "text/x-python",
   "name": "python",
   "nbconvert_exporter": "python",
   "pygments_lexer": "ipython2",
   "version": "2.7.12"
  }
 },
 "nbformat": 4,
 "nbformat_minor": 0
}
