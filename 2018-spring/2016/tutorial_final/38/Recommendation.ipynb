{
 "cells": [
  {
   "cell_type": "markdown",
   "metadata": {},
   "source": [
    "# Recommendation System\n",
    "Student Name: Dacheng Wen (dachengw)"
   ]
  },
  {
   "cell_type": "markdown",
   "metadata": {},
   "source": [
    "## Introduction\n",
    "\n",
    "This tutorial will introduce a approach to build a simple recommendation system.\n",
    "Accroding to the definition from Wikipedia, recommendation system is a subclass of information filtering system that seek to predict the \"rating\" or \"preference\" that a user would give to an item.\n",
    "\n",
    "A daily example is the Amazon's recommendation engine:\n",
    "[<img src=\"http://netdna.webdesignerdepot.com/uploads/amazon//recommended.jpg\">](http://netdna.webdesignerdepot.com/uploads/amazon//recommended.jpg)\n",
    "\n",
    "Theoretically, Amazon analyzes users' information (purchase history, browse history and more) to recommend what the users may want to buy."
   ]
  },
  {
   "cell_type": "markdown",
   "metadata": {
    "collapsed": true
   },
   "source": [
    "## Tutorial content\n",
    "\n",
    "In this tutorial, we will build a simple offline recommendation system to recommend movies. This recommendaiton system is not a practical or sophisticated one for commerical use, but working through this tutorial can give a sense about how a recommendation system works.\n",
    "\n",
    "We will cover the following topics in this tutorial:\n",
    "- [Expectation](#Expectation)\n",
    "- [Downloading and loading data](#Downloading-and-loading-data)\n",
    "- [Item-based collaborative filtering](#Item-based-collaborative-filtering)\n",
    "- [Recommendation for new users](#Recommendation-for-new-users)\n",
    "- [Summary](#Summary)"
   ]
  },
  {
   "cell_type": "markdown",
   "metadata": {},
   "source": [
    "## Expectation"
   ]
  },
  {
   "cell_type": "markdown",
   "metadata": {},
   "source": [
    "The recommendation system we will build can:\n",
    "1. Take the existing rating data as input.\n",
    "2. Recommend at most k (k = 5 for this tutorial) movies which haven't rated by the user for each user."
   ]
  },
  {
   "cell_type": "code",
   "execution_count": 87,
   "metadata": {
    "collapsed": true
   },
   "outputs": [],
   "source": [
    "k = 5"
   ]
  },
  {
   "cell_type": "markdown",
   "metadata": {},
   "source": [
    "## Downloading and loading data"
   ]
  },
  {
   "cell_type": "markdown",
   "metadata": {},
   "source": [
    "We are going to use the open dataset provided by MovieLens (https://movielens.org/).\n",
    "The dataset can be downloaded from http://grouplens.org/datasets/movielens/. \n",
    "For this tutorial, we will use the u.data file from smallest dataset (100K records)\n",
    "According to the ReadMe (http://files.grouplens.org/datasets/movielens/ml-100k/README). This files contains ratings by 943 users on 1682 items. Each user has rated at least 20 movies. Users and items are numbered consecutively from 1.  The data is randomly ordered. \n",
    "This is a tab separated list of:\n",
    "\n",
    "\t         user id | item id | rating | timestamp. \n",
    "Note: \n",
    "1. An item means an movie, so the item id is the movie id. We consider item and movie interchangable for this tutorial.\n",
    "2. For the simple recommendaiton system we are going to build, we only use the first three fields, user id, item id and rating. That is to say, we ignore the timestamp. Timestamp is indeed a valuable information, but we ignore it in this tutorial for simplicity.\n",
    "3. The range of rating is 1-5, and 5 means the best.\n",
    "\n",
    "Althought not necessry, it would be nice to be able to get the movie title by its id. Therefore we need to download the u.item file. The first two fields of every record in this file are\n",
    "\n",
    "\t         movie id | movie title | ...\n",
    "\n",
    "Let's download these files:"
   ]
  },
  {
   "cell_type": "code",
   "execution_count": 88,
   "metadata": {
    "collapsed": false
   },
   "outputs": [
    {
     "name": "stdout",
     "output_type": "stream",
     "text": [
      "Successfully downloaded u.data\n",
      "Successfully downloaded u.item\n"
     ]
    },
    {
     "data": {
      "text/plain": [
       "True"
      ]
     },
     "execution_count": 88,
     "metadata": {},
     "output_type": "execute_result"
    }
   ],
   "source": [
    "import requests\n",
    "\n",
    "def download_file(link_address, filename):\n",
    "    response = requests.get(link_address, stream=True)   \n",
    "    if (response.status_code == requests.codes.ok) :\n",
    "        with open(filename, 'wb') as handle:\n",
    "            for block in response.iter_content(1024):\n",
    "                handle.write(block)\n",
    "        print \"Successfully downloaded \" + filename\n",
    "        return True\n",
    "    else:\n",
    "        print \"Sorry, \" + filename + \" download failed\"\n",
    "        return False\n",
    "\n",
    "# download user - movie ratings\n",
    "download_file('http://files.grouplens.org/datasets/movielens/ml-100k/u.data', 'u.data')\n",
    "\n",
    "# download movie id - movie map\n",
    "download_file('http://files.grouplens.org/datasets/movielens/ml-100k/u.item', 'u.item')\n"
   ]
  },
  {
   "cell_type": "markdown",
   "metadata": {},
   "source": [
    "Then read the files to memory:"
   ]
  },
  {
   "cell_type": "code",
   "execution_count": 105,
   "metadata": {
    "collapsed": false,
    "scrolled": true
   },
   "outputs": [
    {
     "name": "stdout",
     "output_type": "stream",
     "text": [
      "Read u.data, got 100000 rating records.\n",
      "\n",
      "The first 5 records are:\n",
      "[196, 242, 3.0, 881250949]\n",
      "\n",
      "[186, 302, 3.0, 891717742]\n",
      "\n",
      "[22, 377, 1.0, 878887116]\n",
      "\n",
      "[244, 51, 2.0, 880606923]\n",
      "\n",
      "[166, 346, 1.0, 886397596]\n",
      "\n"
     ]
    }
   ],
   "source": [
    "# read u.data\n",
    "user_rating_raw = []\n",
    "with open('u.data') as f:\n",
    "    for line in f:\n",
    "        fields = line.split('\\t')\n",
    "        user_rating_raw.append([int(fields[0]), \n",
    "                                int(fields[1]), \n",
    "                                float(fields[2]), \n",
    "                                int(fields[3])])\n",
    "        \n",
    "print \"Read u.data, got \" + str(len(user_rating_raw)) + \" rating records.\"\n",
    "print\n",
    "print \"The first 5 records are:\"\n",
    "\n",
    "for row_index in range(5):\n",
    "    print user_rating_raw[row_index]\n",
    "    print"
   ]
  },
  {
   "cell_type": "code",
   "execution_count": 106,
   "metadata": {
    "collapsed": false
   },
   "outputs": [
    {
     "name": "stdout",
     "output_type": "stream",
     "text": [
      "Read id-title map for 1682 movies.\n",
      "\n",
      "The first 5 movies in the map are:\n",
      "(1, 'Toy Story (1995)')\n",
      "\n",
      "(2, 'GoldenEye (1995)')\n",
      "\n",
      "(3, 'Four Rooms (1995)')\n",
      "\n",
      "(4, 'Get Shorty (1995)')\n",
      "\n",
      "(5, 'Copycat (1995)')\n",
      "\n"
     ]
    }
   ],
   "source": [
    "# read u.item\n",
    "movie_title_map = {};\n",
    "with open('u.item') as f:\n",
    "    for line in f:\n",
    "        fields = line.split('|')\n",
    "        movie_title_map[int(fields[0])] = fields[1]\n",
    "\n",
    "print \"Read id-title map for \" + str(len(movie_title_map)) + \" movies.\"\n",
    "print\n",
    "print \"The first 5 movies in the map are:\"\n",
    "\n",
    "for movie_id in range(1, 6):\n",
    "    print (movie_id, movie_title_map[movie_id])\n",
    "    print "
   ]
  },
  {
   "cell_type": "markdown",
   "metadata": {
    "collapsed": true
   },
   "source": [
    "## Item based collaborative filtering"
   ]
  },
  {
   "cell_type": "markdown",
   "metadata": {},
   "source": [
    "Among the multiple recommendation alogrithms, item-based collabrative filtering is one of most popular alogorithm. The recommendation alogrithm used by Amazon and other websites are based on item-based collabrative filtering (https://en.wikipedia.org/wiki/Item-item_collaborative_filtering). *  \n",
    "\n",
    "We are going to implement a simple item-based collabrative filtering on thie tutorial.\n",
    "The idea of item-based collabrative filtering is to find similar items, and then recommend items based on the users' history related item. \n",
    "\n",
    "Let's say we found that _Star Wars (1977)_ is similar to _Return of the Jedi (1983)_, we assumes that the users who like _Star Wars (1977)_ are going to enjoy _Return of the Jedi (1983)_ too. Therefore, if we find that there is a user who watched (rated) _Star Wars (1997)_ but haven't watched (rated) _Return of the Jedi (1983)_, we will recommend _Return of the Jedi (1983)_ to the user.\n",
    "\n",
    "For our MovieLens scenario, we need to:\n",
    "1. Compute the similarity between movies based on the ratings\n",
    "2. For each user, recommend movies which are similar to the movies rated by that user, and the recommended movies should not contains those movies which have already rated by that user.\n",
    "\n",
    "Reference: \n",
    "* Linden, G., Smith, B., & York, J. (2003). Amazon. com recommendations: Item-to-item collaborative filtering. IEEE Internet computing, 7(1), 76-80."
   ]
  },
  {
   "cell_type": "markdown",
   "metadata": {},
   "source": [
    "Before computing the similarity between movies, let's convert the raw data, user_rating_record, into a matrix (numpy 2d array), movie_user_mat.\n",
    "Each element in the movie_user_mat stores a rating. movie_user_mat is of size num_movie by num_user. num_movie\\[i\\]\\[j\\] means the j-th user's rating for i-th movie. Therefore, each row stores the ratings for a movie from all users, and each column stores a user's rating.\n",
    "Noted that the the range of the rating is 1-5, so we can use 0 to indicate that a user haven't rated a movie."
   ]
  },
  {
   "cell_type": "code",
   "execution_count": 92,
   "metadata": {
    "collapsed": false
   },
   "outputs": [],
   "source": [
    "import numpy as np\n",
    "\n",
    "# number of movies and number of users, \n",
    "# these two numbers are from ReadMe (http://files.grouplens.org/datasets/movielens/ml-100k/README)\n",
    "num_user = 943\n",
    "num_movie = 1682\n",
    "movie_user_mat = np.zeros((num_movie, num_user));\n",
    "\n",
    "for user_rating_record in user_rating_raw:\n",
    "    # minus 1 to convert the index (id) to 0 based\n",
    "    user_index = user_rating_record[0] - 1\n",
    "    movie_index = user_rating_record[1] - 1\n",
    "    rating = user_rating_record[2]\n",
    "    movie_user_mat[movie_index][user_index] = rating"
   ]
  },
  {
   "cell_type": "markdown",
   "metadata": {},
   "source": [
    "Now that we have the movie-user matrix, we can perform the first step, computing the similarity between movies. We will use cosine similarity that we learned (https://en.wikipedia.org/wiki/Cosine_similarity). Because each row represents the ratings for a movie from all users, we consider treat rows as the input vectors. Noted that the similarity matrix, movie_similarity_mat, is a sysemtric matrix (movie_similarity_mat\\[i\\]\\[j\\] = movie_similarity_mat\\[j\\]\\[i\\])."
   ]
  },
  {
   "cell_type": "code",
   "execution_count": 93,
   "metadata": {
    "collapsed": false
   },
   "outputs": [],
   "source": [
    "import scipy.spatial as scp\n",
    "\n",
    "movie_similarity_mat = np.zeros((num_movie, num_movie))\n",
    "for i in range(num_movie):\n",
    "    movie_i_rating = movie_user_mat[i]\n",
    "    for j in range(i, num_movie):\n",
    "        movie_j_rating = movie_user_mat[j]\n",
    "        cos_similarity = 1.0 - scp.distance.cosine(movie_i_rating, movie_j_rating)\n",
    "        movie_similarity_mat[i][j] = cos_similarity\n",
    "        movie_similarity_mat[j][i] = cos_similarity"
   ]
  },
  {
   "cell_type": "markdown",
   "metadata": {},
   "source": [
    "Finally, we can compute the what movies should be recommended to the users.\n",
    "In order to achieve this goal, for each user, we need to compute his / her interest in each movie. We represent the interests using a coefficient.\n",
    "\n",
    "The coefficient that indicates j-th user's interest in i-th movie (a large the coefficient means the user is highly interested in that movie)\n",
    "$$ coefficient[i][j]= \\sum_{k=1}^n similarity[k-1][i] * rating[k-1][j]$$\n",
    "Where n is the number of movies, similarity\\[k-1\\]\\[i\\] is movie_similarity_mat\\[k-1\\]\\[i\\] (similarity between k-1 th movie and i-th movie) and rating\\[k-1\\]\\[j\\] is movie_user_mat\\[k-1\\]\\[j\\] (j-th user's rating on k-1 th movie)\n",
    "\n",
    "Noted that this equation is equivalent to\n",
    "$$ coefficient[i][j]= \\sum_{k=1}^n similarity[i][k-1] * rating[k-1][j]$$\n",
    "because movie_similarity_mat is symmetric."
   ]
  },
  {
   "cell_type": "markdown",
   "metadata": {},
   "source": [
    "It may looks cofusing, so let's take a small dataset (stored in test_rat) as an example."
   ]
  },
  {
   "cell_type": "code",
   "execution_count": 95,
   "metadata": {
    "collapsed": false
   },
   "outputs": [
    {
     "name": "stdout",
     "output_type": "stream",
     "text": [
      "movie-rating:\n",
      "[[0 1 5]\n",
      " [1 0 5]\n",
      " [5 0 0]\n",
      " [0 5 3]]\n",
      "\n",
      "similarities:\n",
      "[[ 1.          0.96153846  0.          0.67267279]\n",
      " [ 0.96153846  1.          0.19611614  0.5045046 ]\n",
      " [ 0.          0.19611614  1.          0.        ]\n",
      " [ 0.67267279  0.5045046   0.          1.        ]]\n"
     ]
    }
   ],
   "source": [
    "test_rat = np.asarray([[0,1,5],\n",
    "                       [1,0,5],\n",
    "                       [5,0,0],\n",
    "                       [0,5,3]]);\n",
    "test_simi = np.zeros((4, 4))\n",
    "for i in range(4):\n",
    "    movie_i_rating = test_rat[i]\n",
    "    for j in range(i, 4):\n",
    "        movie_j_rating = test_rat[j]\n",
    "        cos_similarity = 1.0 - scp.distance.cosine(movie_i_rating, movie_j_rating)\n",
    "        test_simi[i][j] = cos_similarity\n",
    "        test_simi[j][i] = cos_similarity\n",
    "print \"movie-rating:\"\n",
    "print test_rat\n",
    "print\n",
    "print \"similarities:\"\n",
    "print test_simi"
   ]
  },
  {
   "cell_type": "markdown",
   "metadata": {},
   "source": [
    "For the first user (0-th user), his / her interst in the first movie (0-th movie) should be:\n",
    "$$ coefficent[0][0] = rating[0][0] * similarity[0][0] + rating[1][0] * similarity[1][0] + rating[2][0] * similarity[2][0] + rating[3][0] * similarity[3][0] $$\n",
    "$$ coefficent[0][0] = 0 * 1 + 1 * 0.96153846 + 5 * 0 + 0 * 0.67267279 = 0.96153846 $$\n",
    "\n",
    "his / her interst in the last movie (3-th movie) should be:\n",
    "\n",
    "$$ coefficent[3][0] = 0 * 0.67267279 + 1 * 0.5045046 + 5 * 0 + 0 * 1 = 0.5045046 $$\n",
    "\n",
    "because 0.96153846 > 0.5045046, we should recommend the first movie instead of the last movie if we can only recommend one movie.\n",
    "\n",
    "Noted that the equation\n",
    "$$ coefficient[i][j]= \\sum_{k=1}^n similarity[i][k-1] * rating[k-1][j]$$\n",
    "is simply a matrix dot operation:\n",
    "$$coefficient = similarity.dot(rating)$$"
   ]
  },
  {
   "cell_type": "markdown",
   "metadata": {},
   "source": [
    "The last detail we need to take care of is that we shouldn't recommend a movie that have been rated. If a user already rated the movie _Star Wars (1977)_, we should not recomment _Star Wars (1977)_ to this user."
   ]
  },
  {
   "cell_type": "markdown",
   "metadata": {},
   "source": [
    "We store the coeffiecients in recommendation_coefficient_mat, and store the id of the recommended movies for each user in a dictionary, recommendation_per_user."
   ]
  },
  {
   "cell_type": "code",
   "execution_count": 110,
   "metadata": {
    "collapsed": false
   },
   "outputs": [],
   "source": [
    "import heapq\n",
    "# find n elements with largest values from a dictonary \n",
    "# http://www.pataprogramming.com/2010/03/python-dict-n-largest/\n",
    "def dict_nlargest(d,n):\n",
    "    return heapq.nlargest(n, \n",
    "                          d, \n",
    "                          key = lambda t: d[t])\n",
    "\n",
    "# num_movie by num_user = (num_movie by num_movie) * (num_movie by num_user)\n",
    "recommendation_coefficient_mat = movie_similarity_mat.dot(movie_user_mat)\n",
    "recommendation_per_user = {}\n",
    "\n",
    "for user_index in range(num_user):\n",
    "    recommendation_coefficient_vector = recommendation_coefficient_mat.T[user_index]\n",
    "    # remove the movies that already been rated\n",
    "    unrated_movie = (movie_user_mat.T[user_index] == 0)\n",
    "    recommendation_coefficient_vector *= unrated_movie\n",
    "    recommendation_coefficient_dict = {movie_id:coefficient \n",
    "                                      for movie_id, coefficient \n",
    "                                      in enumerate(recommendation_coefficient_vector)}\n",
    "    recommendation_per_user[user_index] = dict_nlargest(recommendation_coefficient_dict, k)"
   ]
  },
  {
   "cell_type": "markdown",
   "metadata": {
    "collapsed": true
   },
   "source": [
    "So the recommended movie for the first user is:"
   ]
  },
  {
   "cell_type": "code",
   "execution_count": 107,
   "metadata": {
    "collapsed": false
   },
   "outputs": [
    {
     "name": "stdout",
     "output_type": "stream",
     "text": [
      "(movie id, title)\n",
      "(422, 'E.T. the Extra-Terrestrial (1982)')\n",
      "\n",
      "(654, 'Stand by Me (1986)')\n",
      "\n",
      "(567, 'Speed (1994)')\n",
      "\n",
      "(402, 'Batman (1989)')\n",
      "\n",
      "(384, 'True Lies (1994)')\n",
      "\n"
     ]
    }
   ],
   "source": [
    "print \"(movie id, title)\"\n",
    "for movie_id in recommendation_per_user[0]:\n",
    "    # movie_id + 1 to convert it backed to 1-based instead of 0-based\n",
    "    print (movie_id, movie_title_map[movie_id + 1])\n",
    "    print "
   ]
  },
  {
   "cell_type": "markdown",
   "metadata": {},
   "source": [
    "## Recommendation for new users"
   ]
  },
  {
   "cell_type": "markdown",
   "metadata": {
    "collapsed": true
   },
   "source": [
    "We mentioned that we can use users's information to recommend movies, but what if we have a new user that we have no information about? The coefficients for that user will be all zeros, it is not reasonable to find the top-5 elements in an array of zeros.\n",
    "\n",
    "What movies should we recommend? An option is to recommend the movies which got rated by the most number of the users. This is similiar to recommending \"best seller\" on Amazon.com to new users."
   ]
  },
  {
   "cell_type": "code",
   "execution_count": 109,
   "metadata": {
    "collapsed": false
   },
   "outputs": [
    {
     "name": "stdout",
     "output_type": "stream",
     "text": [
      "The most rated 5 movies are:\n",
      "\n",
      "(50, 'Star Wars (1977)', 583)\n",
      "\n",
      "(258, 'Contact (1997)', 509)\n",
      "\n",
      "(100, 'Fargo (1996)', 508)\n",
      "\n",
      "(181, 'Return of the Jedi (1983)', 507)\n",
      "\n",
      "(294, 'Liar Liar (1997)', 485)\n",
      "\n"
     ]
    }
   ],
   "source": [
    "import collections\n",
    "\n",
    "movie_rated_counter = collections.Counter([rating_record[1] \n",
    "                                           for rating_record in user_rating_raw])\n",
    "most_rated_movies = movie_rated_counter.most_common(k)\n",
    "\n",
    "print \"The most rated 5 movies are:\\n\"\n",
    "for movie_id, rated_count in most_rated_movies:\n",
    "    print (movie_id, movie_title_map[movie_id], rated_count)\n",
    "    print "
   ]
  },
  {
   "cell_type": "markdown",
   "metadata": {},
   "source": [
    "So we can recommend these five movie to new users: Star Wars (1977) Contact (1997) Fargo (1996) Return of the Jedi (1983) Liar Liar (1997)"
   ]
  },
  {
   "cell_type": "markdown",
   "metadata": {},
   "source": [
    "## Summary"
   ]
  },
  {
   "cell_type": "markdown",
   "metadata": {},
   "source": [
    "In short, we implemented a simple recommendation system using item-based collaborative filtering :)\n",
    "\n",
    "But the truth is that this recommendation system is too simple, there are a lot of details we haven't taken care of. For example, if a movie haven't been rated by any user, it's likely that this movie will never be recommended, that means the coverage (recall rate) of this system is not satisfying.\n",
    "\n",
    "For the curious minds, you are welcome to explore more sophisticated systems :)"
   ]
  },
  {
   "cell_type": "code",
   "execution_count": null,
   "metadata": {
    "collapsed": true
   },
   "outputs": [],
   "source": []
  }
 ],
 "metadata": {
  "anaconda-cloud": {},
  "kernelspec": {
   "display_name": "Python [Root]",
   "language": "python",
   "name": "Python [Root]"
  },
  "language_info": {
   "codemirror_mode": {
    "name": "ipython",
    "version": 2
   },
   "file_extension": ".py",
   "mimetype": "text/x-python",
   "name": "python",
   "nbconvert_exporter": "python",
   "pygments_lexer": "ipython2",
   "version": "2.7.12"
  }
 },
 "nbformat": 4,
 "nbformat_minor": 0
}
