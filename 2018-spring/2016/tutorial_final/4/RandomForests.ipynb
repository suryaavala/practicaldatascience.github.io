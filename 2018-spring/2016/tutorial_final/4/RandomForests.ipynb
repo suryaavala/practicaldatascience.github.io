{
 "cells": [
  {
   "cell_type": "markdown",
   "metadata": {},
   "source": [
    "# RandomForests for the Prediction of Wine Quality"
   ]
  },
  {
   "cell_type": "markdown",
   "metadata": {},
   "source": [
    "## Decision Trees and RandomForests\n",
    "Decision trees are a method of supervised learning which have been widely used in the process of prediction. Regression trees are used in place of classification trees when the variable to be predicted is continuous, not categorical. Terminal nodes obtain a value that is the mean response of observations falling in that region, thereby handling unseen data observations in that region by making its prediction with a mean value.\n",
    "\n",
    "### Why use them?\n",
    "Decision trees allow for a quick and easy interpretation of how the process of prediction works - often valuable when explanation of how your algorithm works is a necessity. A RandomForest is an ensemble of decision trees that makes using of bagging - reduce the variance of a large number of \"complex\" decision trees with low bias. RandomForests require no normalization of inputs as it is based on recursive partitioning which allows them to be implemented quickly and easily to great effect. RandomForests also allow the user to find which features are \"more important\" in the dataset, which can then be selected if we need to save processing time or power."
   ]
  },
  {
   "cell_type": "markdown",
   "metadata": {},
   "source": [
    "## Importing Libraries\n",
    "This tutorial is making use of the scikit learn library's implementation of RandomForests. Plotting is done via matplotlib and a rough implementation of RandomForests is implemented from scratch to show how splits are done and how outputs are calculated."
   ]
  },
  {
   "cell_type": "code",
   "execution_count": 1,
   "metadata": {
    "collapsed": false
   },
   "outputs": [],
   "source": [
    "from sklearn.ensemble import RandomForestClassifier\n",
    "from sklearn import tree\n",
    "import pandas as pd\n",
    "import numpy as np\n",
    "import csv\n",
    "import urllib2\n",
    "import matplotlib.pyplot as plt\n",
    "from scipy.stats.stats import pearsonr\n",
    "from sklearn.tree import export_graphviz\n",
    "\n",
    "import pylab\n",
    "%matplotlib inline\n",
    "from collections import Counter"
   ]
  },
  {
   "cell_type": "markdown",
   "metadata": {},
   "source": [
    "## RandomForest Overview\n",
    "For a classification problem, a decision tree is grown that can classify an object given an input vector. A RandomForest basically grows multiple trees, and to classify a new object, it passes that input vector through the entire \"forest\" (each individual tree). Each tree in the forest classifies the object as belonging to a particular class, and we say that the tree \"votes\" for that class. For each input vector (row of data), the forest will then choose the most popular vote of all of the trees in the forest. The entire training data is sampled with replacement and used to build each individual tree.\n",
    "\n",
    "### Same dataset for all trees, same classification trees? \n",
    "Since we are sampling the entire dataset, we need to create trees that will classify each input vector differently. This is done by RandomForests in the following way - \n",
    "1. If there are M input variables, a constant number m << M is specified such that at each node, random m variables (out of M) are selected and the best split on these m is used to split the node. The value of m is held constant for the entire forest, and is generally taken such that m is the square root of M.\n",
    "2. Each tree is grown to the largest extent possible. There is no pruning.\n",
    "\n",
    "In Brieman's original paper on RandomForests, it was shown that the forest error rate depends on two things:\n",
    "\n",
    "a) The correlation between any two trees in the forest. Increasing the correlation increases the forest error rate.\n",
    "b) The strength of each individual tree in the forest. A tree with a low error rate is a strong classifier. Increasing the strength of the individual trees decreases the forest error rate.\n",
    "\n",
    "Reducing m reduces both the correlation and the strength. Increasing it increases both. Somewhere in between is an \"optimal\" range of m - usually quite wide. \n",
    "\n",
    "![title](RandomForest.jpg)\n",
    "\n",
    "\n",
    "### Out of Bag Error Estimate\n",
    "Each tree is constructed using a different bootstrap sample from the original data. About one-third of the cases are left out of the bootstrap sample and not used in the construction of the kth tree.\n",
    "\n",
    "\"Put each case left out in the construction of the kth tree down the kth tree to get a classification. In this way, a test set classification is obtained for each case in about one-third of the trees. At the end of the run, take j to be the class that got most of the votes every time case n was oob. The proportion of times that j is not equal to the true class of n averaged over all cases is the oob error estimate.\" (Brieman 2001)"
   ]
  },
  {
   "cell_type": "markdown",
   "metadata": {},
   "source": [
    "### Loading Data and Inspecting\n",
    "This tutorial will go about using RandomForests by using a dataset about the quality of wine [Cortez et al., 2009] and emphasize on important features.  RandomForests are extremely useful when there are a multitude of features and we can visually see which ones are most important when it comes to our model. There are two datasets - one which had quality for red wine and the other for white wine.\n",
    "\n",
    "The data is available at https://archive.ics.uci.edu/ml/machine-learning-databases/wine-quality/winequality-white.csv and https://archive.ics.uci.edu/ml/machine-learning-databases/wine-quality/winequality-red.csv. You can download the data into the same folder as this python notebook and run the following cells - or use the appropriate path. Let us see the head of the data and get a brief idea of the wine quality distribution.\n",
    "\n"
   ]
  },
  {
   "cell_type": "code",
   "execution_count": 3,
   "metadata": {
    "collapsed": false,
    "scrolled": true
   },
   "outputs": [
    {
     "data": {
      "text/html": [
       "<div>\n",
       "<table border=\"1\" class=\"dataframe\">\n",
       "  <thead>\n",
       "    <tr style=\"text-align: right;\">\n",
       "      <th></th>\n",
       "      <th>fixed acidity</th>\n",
       "      <th>volatile acidity</th>\n",
       "      <th>citric acid</th>\n",
       "      <th>residual sugar</th>\n",
       "      <th>chlorides</th>\n",
       "      <th>free sulfur dioxide</th>\n",
       "      <th>total sulfur dioxide</th>\n",
       "      <th>density</th>\n",
       "      <th>pH</th>\n",
       "      <th>sulphates</th>\n",
       "      <th>alcohol</th>\n",
       "      <th>quality</th>\n",
       "    </tr>\n",
       "  </thead>\n",
       "  <tbody>\n",
       "    <tr>\n",
       "      <th>0</th>\n",
       "      <td>7.0</td>\n",
       "      <td>0.27</td>\n",
       "      <td>0.36</td>\n",
       "      <td>20.7</td>\n",
       "      <td>0.045</td>\n",
       "      <td>45.0</td>\n",
       "      <td>170.0</td>\n",
       "      <td>1.0010</td>\n",
       "      <td>3.00</td>\n",
       "      <td>0.45</td>\n",
       "      <td>8.8</td>\n",
       "      <td>6</td>\n",
       "    </tr>\n",
       "    <tr>\n",
       "      <th>1</th>\n",
       "      <td>6.3</td>\n",
       "      <td>0.30</td>\n",
       "      <td>0.34</td>\n",
       "      <td>1.6</td>\n",
       "      <td>0.049</td>\n",
       "      <td>14.0</td>\n",
       "      <td>132.0</td>\n",
       "      <td>0.9940</td>\n",
       "      <td>3.30</td>\n",
       "      <td>0.49</td>\n",
       "      <td>9.5</td>\n",
       "      <td>6</td>\n",
       "    </tr>\n",
       "    <tr>\n",
       "      <th>2</th>\n",
       "      <td>8.1</td>\n",
       "      <td>0.28</td>\n",
       "      <td>0.40</td>\n",
       "      <td>6.9</td>\n",
       "      <td>0.050</td>\n",
       "      <td>30.0</td>\n",
       "      <td>97.0</td>\n",
       "      <td>0.9951</td>\n",
       "      <td>3.26</td>\n",
       "      <td>0.44</td>\n",
       "      <td>10.1</td>\n",
       "      <td>6</td>\n",
       "    </tr>\n",
       "    <tr>\n",
       "      <th>3</th>\n",
       "      <td>7.2</td>\n",
       "      <td>0.23</td>\n",
       "      <td>0.32</td>\n",
       "      <td>8.5</td>\n",
       "      <td>0.058</td>\n",
       "      <td>47.0</td>\n",
       "      <td>186.0</td>\n",
       "      <td>0.9956</td>\n",
       "      <td>3.19</td>\n",
       "      <td>0.40</td>\n",
       "      <td>9.9</td>\n",
       "      <td>6</td>\n",
       "    </tr>\n",
       "    <tr>\n",
       "      <th>4</th>\n",
       "      <td>7.2</td>\n",
       "      <td>0.23</td>\n",
       "      <td>0.32</td>\n",
       "      <td>8.5</td>\n",
       "      <td>0.058</td>\n",
       "      <td>47.0</td>\n",
       "      <td>186.0</td>\n",
       "      <td>0.9956</td>\n",
       "      <td>3.19</td>\n",
       "      <td>0.40</td>\n",
       "      <td>9.9</td>\n",
       "      <td>6</td>\n",
       "    </tr>\n",
       "  </tbody>\n",
       "</table>\n",
       "</div>"
      ],
      "text/plain": [
       "   fixed acidity  volatile acidity  citric acid  residual sugar  chlorides  \\\n",
       "0            7.0              0.27         0.36            20.7      0.045   \n",
       "1            6.3              0.30         0.34             1.6      0.049   \n",
       "2            8.1              0.28         0.40             6.9      0.050   \n",
       "3            7.2              0.23         0.32             8.5      0.058   \n",
       "4            7.2              0.23         0.32             8.5      0.058   \n",
       "\n",
       "   free sulfur dioxide  total sulfur dioxide  density    pH  sulphates  \\\n",
       "0                 45.0                 170.0   1.0010  3.00       0.45   \n",
       "1                 14.0                 132.0   0.9940  3.30       0.49   \n",
       "2                 30.0                  97.0   0.9951  3.26       0.44   \n",
       "3                 47.0                 186.0   0.9956  3.19       0.40   \n",
       "4                 47.0                 186.0   0.9956  3.19       0.40   \n",
       "\n",
       "   alcohol  quality  \n",
       "0      8.8        6  \n",
       "1      9.5        6  \n",
       "2     10.1        6  \n",
       "3      9.9        6  \n",
       "4      9.9        6  "
      ]
     },
     "execution_count": 3,
     "metadata": {},
     "output_type": "execute_result"
    }
   ],
   "source": [
    "whiteDf = pd.read_csv('winequality-white.csv')\n",
    "redDf = pd.read_csv('winequality-red.csv')\n",
    "whiteDf.head()\n"
   ]
  },
  {
   "cell_type": "code",
   "execution_count": 4,
   "metadata": {
    "collapsed": false
   },
   "outputs": [
    {
     "name": "stdout",
     "output_type": "stream",
     "text": [
      "Quality        3      4       5       6      7      8    9\n",
      "White Wine  20.0  163.0  1457.0  2198.0  880.0  175.0  5.0\n",
      "Red Wine    10.0   53.0   681.0   638.0  199.0   18.0  NaN\n"
     ]
    },
    {
     "data": {
      "image/png": "[encoded data removed]",
      "text/plain": [
       "<matplotlib.figure.Figure at 0xc1189b0>"
      ]
     },
     "metadata": {},
     "output_type": "display_data"
    }
   ],
   "source": [
    "whiteWineGroup = whiteDf.groupby('quality')\n",
    "whiteFreq = whiteWineGroup.size()\n",
    "\n",
    "redWineGroup = redDf.groupby('quality')\n",
    "redFreq = redWineGroup.size()\n",
    "\n",
    "totalFreq = [whiteFreq,redFreq]\n",
    "totalFreqdf = pd.DataFrame(totalFreq)\n",
    "\n",
    "totalFreqdf.columns.names = ['Quality']\n",
    "totalFreqdf = totalFreqdf.rename(index={1: 'Red Wine', 0 :'White Wine'})\n",
    "print totalFreqdf\n",
    "\n",
    "fig = plt.figure()\n",
    "\n",
    "ax1 = fig.add_subplot(121)\n",
    "whiteFreq.plot(kind='bar')\n",
    "ttl = ax1.title\n",
    "ttl.set_position([.5, 1.05])\n",
    "pylab.xlabel('Quality')\n",
    "pylab.ylabel('Count')\n",
    "pylab.title('Quality Distribution of White Wines')\n",
    "\n",
    "ax2 = fig.add_subplot(122)\n",
    "redFreq.plot(kind='bar')\n",
    "tt2 = ax2.title\n",
    "tt2.set_position([.5, 1.05])\n",
    "pylab.xlabel('Quality')\n",
    "pylab.ylabel('Count')\n",
    "pylab.title('Quality Distribution of Red Wines')\n",
    "fig.tight_layout()\n",
    "plt.show()"
   ]
  },
  {
   "cell_type": "markdown",
   "metadata": {},
   "source": [
    "We can see a majority of wines have quality = 6. There are 20 very bad wines (quality = 3) and 5 excellent ones. \n",
    "We now map the qualities into three factors - Good, Bad and normal for both white and red wines."
   ]
  },
  {
   "cell_type": "code",
   "execution_count": 5,
   "metadata": {
    "collapsed": false
   },
   "outputs": [],
   "source": [
    "def qualityLevels(q):\n",
    "    if q<6:\n",
    "        return \"Bad\"\n",
    "    elif q >6:\n",
    "        return \"Good\"\n",
    "    else:\n",
    "        return \"Normal\"\n",
    "    \n",
    "whiteDf[\"quality\"] = whiteDf['quality'].map(qualityLevels)\n",
    "redDf['quality'] = redDf['quality'].map(qualityLevels)"
   ]
  },
  {
   "cell_type": "markdown",
   "metadata": {},
   "source": [
    "### Simulating a RandomForest\n",
    "The following code creates a decision tree classifier which creates predictions based on subsets of columns of the entire data. All of the predictions of each tree are then combined to check which value occurs the most for each row, and thus creating a randomforest!\n"
   ]
  },
  {
   "cell_type": "code",
   "execution_count": 6,
   "metadata": {
    "collapsed": false
   },
   "outputs": [
    {
     "name": "stdout",
     "output_type": "stream",
     "text": [
      "('The error for 5 trees is ', 0.34810126582278483)\n",
      "('The error for 50 trees is ', 0.29465541490857944)\n"
     ]
    }
   ],
   "source": [
    "X = whiteDf.drop(\"quality\", axis=1)\n",
    "Y = whiteDf[\"quality\"]\n",
    "\n",
    "def treeOutput(X,y):\n",
    "    \"\"\" Creates a tree with a fixed split for train and test and predicts based on the input\n",
    "            Args: \n",
    "                X (df) : Randomly sampled df with only 70% of columns of actual df\n",
    "                y (vector) : output labels\n",
    "            Output: \n",
    "                (yhat) : predicted output labwls\n",
    "        \"\"\"\n",
    "    np.random.seed(10)\n",
    "    randomTree = tree.DecisionTreeClassifier()\n",
    "    msk = np.random.rand(len(X)) < 0.7\n",
    "    errors = 0\n",
    "    errorRate = 0\n",
    "    X0 = X[msk]\n",
    "    y0 = y[msk]\n",
    "    X1 = X[~msk]\n",
    "    randomTree.fit(X0,y0)\n",
    "    yhat = randomTree.predict(X1)\n",
    "    return yhat\n",
    "\n",
    "def treecount(n):\n",
    "    \"\"\" Creates n trees using the treeOutput function and selects the best occuring value for each row of the test DF\n",
    "            Args:\n",
    "                n (int) : Number of input trees\n",
    "            Output:\n",
    "                Error rate for our randomforest\n",
    "    \"\"\"\n",
    "    outputList = []\n",
    "    for i in range(1,n):\n",
    "        outputList.append(treeOutput(X.sample(frac = 0.7,replace = True, axis = 1), Y)) #Get a list of all predictions\n",
    "\n",
    "    df = pd.DataFrame(outputList) #Convert it into a df\n",
    "    finalOutput = []\n",
    "    for column in df:             # This finds the most commonly occuring value for each column of the DF (best prediction!)\n",
    "        z = df[column]\n",
    "        highest = 0\n",
    "        counts = z.value_counts()\n",
    "        maxcount = z.value_counts().index.tolist()\n",
    "        finalOutput.append(maxcount[0]) #Appends the best prediction\n",
    "\n",
    "    np.random.seed(10)\n",
    "    msk = np.random.rand(len(X)) < 0.7\n",
    "    y1 = Y[~msk]\n",
    "\n",
    "    return np.mean(y1 != finalOutput) # Returns the error rate\n",
    "  \n",
    "print (\"The error for 5 trees is \", treecount(5))\n",
    "print (\"The error for 50 trees is \", treecount(50))\n",
    "\n"
   ]
  },
  {
   "cell_type": "markdown",
   "metadata": {},
   "source": [
    "### Feature Selection in RandomForests\n",
    "For now, let us see which features have the most impact on wine quality for white and red wine. We will fit a randomForest classifier to our data and use the feature_importances_ attribute to find out the ranking of predictors. "
   ]
  },
  {
   "cell_type": "code",
   "execution_count": 7,
   "metadata": {
    "collapsed": false
   },
   "outputs": [
    {
     "name": "stdout",
     "output_type": "stream",
     "text": [
      "Important features for White Wine\n",
      "[(0.1193, 'alcohol'), (0.1165, 'density'), (0.0981, 'volatile acidity'), (0.0935, 'free sulfur dioxide'), (0.0846, 'total sulfur dioxide'), (0.0846, 'residual sugar'), (0.0829, 'chlorides'), (0.0828, 'pH'), (0.0827, 'citric acid'), (0.0791, 'sulphates'), (0.0759, 'fixed acidity')]\n",
      "Important features for Red Wine\n",
      "[(0.1507, 'alcohol'), (0.1233, 'sulphates'), (0.1089, 'total sulfur dioxide'), (0.1029, 'volatile acidity'), (0.0901, 'density'), (0.0788, 'chlorides'), (0.0754, 'citric acid'), (0.0702, 'pH'), (0.0674, 'residual sugar'), (0.0672, 'free sulfur dioxide'), (0.0651, 'fixed acidity')]\n"
     ]
    }
   ],
   "source": [
    "def featureSel(wineDf):\n",
    "    \"\"\" Tells us the most important features of the DF\n",
    "            Args:\n",
    "                wineDf (df) : Dataframe for which we want the important features\n",
    "            Output:\n",
    "                List of features in decreasing order of importance\n",
    "                \"\"\"\n",
    "    X = wineDf.drop(\"quality\", axis=1)\n",
    "    Y = wineDf[\"quality\"]\n",
    "    rf = RandomForestClassifier(n_jobs = 10)#,max_features=5)\n",
    "    rf.fit(X, Y)\n",
    "    names = list(X.columns.values)\n",
    "    return sorted(zip(map(lambda x: round(x, 4), rf.feature_importances_), names), \n",
    "             reverse=True)\n",
    "\n",
    "print (\"Important features for White Wine\")\n",
    "print(featureSel(whiteDf))\n",
    "print (\"Important features for Red Wine\")\n",
    "print(featureSel(redDf))"
   ]
  },
  {
   "cell_type": "markdown",
   "metadata": {},
   "source": [
    "This uses Gini impurity to split on each node. Some problems that arise in this is that when the dataset has two or more highly correlated variables, the Gini split will give a lot of importance to the first one, while giving very low importance to the second one. This is due to the fact that any one of the two variables can be used for accurate predictions on the model - hence giving the first one high and the second one not being useful. While this may not be problematic for our current predictions, it may result in some incorrect conclusions as to which factors are important. \n"
   ]
  },
  {
   "cell_type": "code",
   "execution_count": 8,
   "metadata": {
    "collapsed": false
   },
   "outputs": [
    {
     "data": {
      "text/html": [
       "<div>\n",
       "<table border=\"1\" class=\"dataframe\">\n",
       "  <thead>\n",
       "    <tr style=\"text-align: right;\">\n",
       "      <th></th>\n",
       "      <th>fixed acidity</th>\n",
       "      <th>volatile acidity</th>\n",
       "      <th>citric acid</th>\n",
       "      <th>residual sugar</th>\n",
       "      <th>chlorides</th>\n",
       "      <th>free sulfur dioxide</th>\n",
       "      <th>total sulfur dioxide</th>\n",
       "      <th>density</th>\n",
       "      <th>pH</th>\n",
       "      <th>sulphates</th>\n",
       "      <th>alcohol</th>\n",
       "    </tr>\n",
       "  </thead>\n",
       "  <tbody>\n",
       "    <tr>\n",
       "      <th>fixed acidity</th>\n",
       "      <td>1.000000</td>\n",
       "      <td>-0.022697</td>\n",
       "      <td>0.289181</td>\n",
       "      <td>0.089021</td>\n",
       "      <td>0.023086</td>\n",
       "      <td>-0.049396</td>\n",
       "      <td>0.091070</td>\n",
       "      <td>0.265331</td>\n",
       "      <td>-0.425858</td>\n",
       "      <td>-0.017143</td>\n",
       "      <td>-0.120881</td>\n",
       "    </tr>\n",
       "    <tr>\n",
       "      <th>volatile acidity</th>\n",
       "      <td>-0.022697</td>\n",
       "      <td>1.000000</td>\n",
       "      <td>-0.149472</td>\n",
       "      <td>0.064286</td>\n",
       "      <td>0.070512</td>\n",
       "      <td>-0.097012</td>\n",
       "      <td>0.089261</td>\n",
       "      <td>0.027114</td>\n",
       "      <td>-0.031915</td>\n",
       "      <td>-0.035728</td>\n",
       "      <td>0.067718</td>\n",
       "    </tr>\n",
       "    <tr>\n",
       "      <th>citric acid</th>\n",
       "      <td>0.289181</td>\n",
       "      <td>-0.149472</td>\n",
       "      <td>1.000000</td>\n",
       "      <td>0.094212</td>\n",
       "      <td>0.114364</td>\n",
       "      <td>0.094077</td>\n",
       "      <td>0.121131</td>\n",
       "      <td>0.149503</td>\n",
       "      <td>-0.163748</td>\n",
       "      <td>0.062331</td>\n",
       "      <td>-0.075729</td>\n",
       "    </tr>\n",
       "    <tr>\n",
       "      <th>residual sugar</th>\n",
       "      <td>0.089021</td>\n",
       "      <td>0.064286</td>\n",
       "      <td>0.094212</td>\n",
       "      <td>1.000000</td>\n",
       "      <td>0.088685</td>\n",
       "      <td>0.299098</td>\n",
       "      <td>0.401439</td>\n",
       "      <td>0.838966</td>\n",
       "      <td>-0.194133</td>\n",
       "      <td>-0.026664</td>\n",
       "      <td>-0.450631</td>\n",
       "    </tr>\n",
       "    <tr>\n",
       "      <th>chlorides</th>\n",
       "      <td>0.023086</td>\n",
       "      <td>0.070512</td>\n",
       "      <td>0.114364</td>\n",
       "      <td>0.088685</td>\n",
       "      <td>1.000000</td>\n",
       "      <td>0.101392</td>\n",
       "      <td>0.198910</td>\n",
       "      <td>0.257211</td>\n",
       "      <td>-0.090439</td>\n",
       "      <td>0.016763</td>\n",
       "      <td>-0.360189</td>\n",
       "    </tr>\n",
       "    <tr>\n",
       "      <th>free sulfur dioxide</th>\n",
       "      <td>-0.049396</td>\n",
       "      <td>-0.097012</td>\n",
       "      <td>0.094077</td>\n",
       "      <td>0.299098</td>\n",
       "      <td>0.101392</td>\n",
       "      <td>1.000000</td>\n",
       "      <td>0.615501</td>\n",
       "      <td>0.294210</td>\n",
       "      <td>-0.000618</td>\n",
       "      <td>0.059217</td>\n",
       "      <td>-0.250104</td>\n",
       "    </tr>\n",
       "    <tr>\n",
       "      <th>total sulfur dioxide</th>\n",
       "      <td>0.091070</td>\n",
       "      <td>0.089261</td>\n",
       "      <td>0.121131</td>\n",
       "      <td>0.401439</td>\n",
       "      <td>0.198910</td>\n",
       "      <td>0.615501</td>\n",
       "      <td>1.000000</td>\n",
       "      <td>0.529881</td>\n",
       "      <td>0.002321</td>\n",
       "      <td>0.134562</td>\n",
       "      <td>-0.448892</td>\n",
       "    </tr>\n",
       "    <tr>\n",
       "      <th>density</th>\n",
       "      <td>0.265331</td>\n",
       "      <td>0.027114</td>\n",
       "      <td>0.149503</td>\n",
       "      <td>0.838966</td>\n",
       "      <td>0.257211</td>\n",
       "      <td>0.294210</td>\n",
       "      <td>0.529881</td>\n",
       "      <td>1.000000</td>\n",
       "      <td>-0.093591</td>\n",
       "      <td>0.074493</td>\n",
       "      <td>-0.780138</td>\n",
       "    </tr>\n",
       "    <tr>\n",
       "      <th>pH</th>\n",
       "      <td>-0.425858</td>\n",
       "      <td>-0.031915</td>\n",
       "      <td>-0.163748</td>\n",
       "      <td>-0.194133</td>\n",
       "      <td>-0.090439</td>\n",
       "      <td>-0.000618</td>\n",
       "      <td>0.002321</td>\n",
       "      <td>-0.093591</td>\n",
       "      <td>1.000000</td>\n",
       "      <td>0.155951</td>\n",
       "      <td>0.121432</td>\n",
       "    </tr>\n",
       "    <tr>\n",
       "      <th>sulphates</th>\n",
       "      <td>-0.017143</td>\n",
       "      <td>-0.035728</td>\n",
       "      <td>0.062331</td>\n",
       "      <td>-0.026664</td>\n",
       "      <td>0.016763</td>\n",
       "      <td>0.059217</td>\n",
       "      <td>0.134562</td>\n",
       "      <td>0.074493</td>\n",
       "      <td>0.155951</td>\n",
       "      <td>1.000000</td>\n",
       "      <td>-0.017433</td>\n",
       "    </tr>\n",
       "    <tr>\n",
       "      <th>alcohol</th>\n",
       "      <td>-0.120881</td>\n",
       "      <td>0.067718</td>\n",
       "      <td>-0.075729</td>\n",
       "      <td>-0.450631</td>\n",
       "      <td>-0.360189</td>\n",
       "      <td>-0.250104</td>\n",
       "      <td>-0.448892</td>\n",
       "      <td>-0.780138</td>\n",
       "      <td>0.121432</td>\n",
       "      <td>-0.017433</td>\n",
       "      <td>1.000000</td>\n",
       "    </tr>\n",
       "  </tbody>\n",
       "</table>\n",
       "</div>"
      ],
      "text/plain": [
       "                      fixed acidity  volatile acidity  citric acid  \\\n",
       "fixed acidity              1.000000         -0.022697     0.289181   \n",
       "volatile acidity          -0.022697          1.000000    -0.149472   \n",
       "citric acid                0.289181         -0.149472     1.000000   \n",
       "residual sugar             0.089021          0.064286     0.094212   \n",
       "chlorides                  0.023086          0.070512     0.114364   \n",
       "free sulfur dioxide       -0.049396         -0.097012     0.094077   \n",
       "total sulfur dioxide       0.091070          0.089261     0.121131   \n",
       "density                    0.265331          0.027114     0.149503   \n",
       "pH                        -0.425858         -0.031915    -0.163748   \n",
       "sulphates                 -0.017143         -0.035728     0.062331   \n",
       "alcohol                   -0.120881          0.067718    -0.075729   \n",
       "\n",
       "                      residual sugar  chlorides  free sulfur dioxide  \\\n",
       "fixed acidity               0.089021   0.023086            -0.049396   \n",
       "volatile acidity            0.064286   0.070512            -0.097012   \n",
       "citric acid                 0.094212   0.114364             0.094077   \n",
       "residual sugar              1.000000   0.088685             0.299098   \n",
       "chlorides                   0.088685   1.000000             0.101392   \n",
       "free sulfur dioxide         0.299098   0.101392             1.000000   \n",
       "total sulfur dioxide        0.401439   0.198910             0.615501   \n",
       "density                     0.838966   0.257211             0.294210   \n",
       "pH                         -0.194133  -0.090439            -0.000618   \n",
       "sulphates                  -0.026664   0.016763             0.059217   \n",
       "alcohol                    -0.450631  -0.360189            -0.250104   \n",
       "\n",
       "                      total sulfur dioxide   density        pH  sulphates  \\\n",
       "fixed acidity                     0.091070  0.265331 -0.425858  -0.017143   \n",
       "volatile acidity                  0.089261  0.027114 -0.031915  -0.035728   \n",
       "citric acid                       0.121131  0.149503 -0.163748   0.062331   \n",
       "residual sugar                    0.401439  0.838966 -0.194133  -0.026664   \n",
       "chlorides                         0.198910  0.257211 -0.090439   0.016763   \n",
       "free sulfur dioxide               0.615501  0.294210 -0.000618   0.059217   \n",
       "total sulfur dioxide              1.000000  0.529881  0.002321   0.134562   \n",
       "density                           0.529881  1.000000 -0.093591   0.074493   \n",
       "pH                                0.002321 -0.093591  1.000000   0.155951   \n",
       "sulphates                         0.134562  0.074493  0.155951   1.000000   \n",
       "alcohol                          -0.448892 -0.780138  0.121432  -0.017433   \n",
       "\n",
       "                       alcohol  \n",
       "fixed acidity        -0.120881  \n",
       "volatile acidity      0.067718  \n",
       "citric acid          -0.075729  \n",
       "residual sugar       -0.450631  \n",
       "chlorides            -0.360189  \n",
       "free sulfur dioxide  -0.250104  \n",
       "total sulfur dioxide -0.448892  \n",
       "density              -0.780138  \n",
       "pH                    0.121432  \n",
       "sulphates            -0.017433  \n",
       "alcohol               1.000000  "
      ]
     },
     "execution_count": 8,
     "metadata": {},
     "output_type": "execute_result"
    }
   ],
   "source": [
    "whiteCorr = whiteDf.drop(\"quality\", axis=1)\n",
    "redCorr = redDf.drop(\"quality\",axis = 1)\n",
    "whiteCorr.corr()"
   ]
  },
  {
   "cell_type": "markdown",
   "metadata": {},
   "source": [
    "To visualize the above matrix, we can plot it using matplotlib's library."
   ]
  },
  {
   "cell_type": "code",
   "execution_count": 9,
   "metadata": {
    "collapsed": false
   },
   "outputs": [
    {
     "data": {
      "image/png": "[encoded data removed]",
      "text/plain": [
       "<matplotlib.figure.Figure at 0xc0de780>"
      ]
     },
     "metadata": {},
     "output_type": "display_data"
    }
   ],
   "source": [
    "# Code from http://stackoverflow.com/questions/29432629/correlation-matrix-using-pandas\n",
    "# answered Jul 13 '15 at 13:10 by Apogentus. \n",
    "\n",
    "def plot_corr(df,size=10):\n",
    "    \"\"\"Function plots a graphical correlation matrix for each pair of columns in the dataframe.\n",
    "\n",
    "    Input:\n",
    "        df: pandas DataFrame\n",
    "        size: vertical and horizontal size of the plot\n",
    "        \"\"\"\n",
    "\n",
    "    corr = df.corr()\n",
    "    fig, ax = plt.subplots(figsize=(17, 17))\n",
    "    ax.matshow(corr)\n",
    "    colorLegend = ax.pcolor(corr);\n",
    "    plt.xticks(range(len(corr.columns)), corr.columns);\n",
    "    plt.yticks(range(len(corr.columns)), corr.columns);\n",
    "    fig.colorbar(colorLegend)\n",
    "    \n",
    "plot_corr(whiteCorr)"
   ]
  },
  {
   "cell_type": "markdown",
   "metadata": {},
   "source": [
    "Autocorrelation is a problem for other ML algorithms as well.Another way of ranking features is by using Mean Decrease Accuracy - i.e. find out how much each individual feature impacts the accuracy of our model. "
   ]
  },
  {
   "cell_type": "markdown",
   "metadata": {},
   "source": [
    "## Implementing a RF using Scikit Learn\n",
    "The below code is the implemntation of a randomforest using sklearn. We are tuning 2 parameters, number of trees and the m (number of features to split on at each node) using grid search and the CV code from the third assignment."
   ]
  },
  {
   "cell_type": "code",
   "execution_count": 10,
   "metadata": {
    "collapsed": false
   },
   "outputs": [],
   "source": [
    "import math\n",
    "\n",
    "class ModelSelector:\n",
    "    \"\"\" A class that performs model selection. \n",
    "        Attributes:\n",
    "            blocks (list) : list of lists of indices of each block used for k-fold cross validation, e.g. blocks[i] \n",
    "            gives the indices of the examples in the ith block \n",
    "            test_block (list) : list of indices of the test block that used only for reporting results\n",
    "            \n",
    "    \"\"\"\n",
    "    def __init__(self, X, y, P, k):\n",
    "        \"\"\" Initialize the model selection with data and split into train/valid/test sets. Split the permutation into blocks \n",
    "            and save the block indices as an attribute to the model. \n",
    "            Args:\n",
    "                X (array_like) : array of features for the datapoints\n",
    "                y (vector) : 1D numpy array containing the output labels for the datapoints\n",
    "                P (vector) : 1D numpy array containing a random permutation of the datapoints\n",
    "                k (int) : number of folds\n",
    "                niters (int) : number of iterations to train for\n",
    "        \"\"\"\n",
    "        self.X = X\n",
    "        self.y = y\n",
    "        self.P = P\n",
    "        self.k = k\n",
    "        pSplit = np.array_split(self.P, k+1)\n",
    "        self.blocks = list(pSplit[:-1])\n",
    "        self.yhat = 0\n",
    "        self.y1 = 0\n",
    "        self.test_block = list(pSplit[-1])\n",
    "\n",
    "    def cross_validation(self, ntree, m  ):\n",
    "        \"\"\" Given the permutation P in the class, evaluate the SVM using k-fold cross validation for the given parameters \n",
    "            over the permutation\n",
    "            Args: \n",
    "                m (int) : number of features split at each node\n",
    "                ntree (int) : number of trees\n",
    "            Output: \n",
    "                (float) : the cross validated error rate\n",
    "        \"\"\"\n",
    "        avgerr = 0\n",
    "        errorRate = 0\n",
    "        for i in range(self.k):\n",
    "            ilist = []\n",
    "            for index,j in enumerate(self.blocks):\n",
    "                 if index!= i:\n",
    "                    ilist.extend(j)\n",
    "\n",
    "            X0 = self.X[ilist]\n",
    "            y0 = self.y[ilist]\n",
    "            \n",
    "            X1 = self.X[self.blocks[i]]\n",
    "            y1 = self.y[self.blocks[i]] \n",
    "            rf = RandomForestClassifier(n_estimators = ntree,max_features = m,class_weight = \"auto\",oob_score = True)\n",
    "            rf = rf.fit(X0,y0)\n",
    "            yhat = rf.predict(X1)\n",
    "            \n",
    "            \n",
    "            errors = np.sum(yhat!=y1)\n",
    "            errorRate += errors/(float(len(yhat)))\n",
    "                   \n",
    "        return rf.oob_score_\n",
    "    \n",
    "    def grid_search(self, ntree, m ):\n",
    "        \"\"\" Given a list of parameters for ntree, perform a grid search using\n",
    "            k-wise cross validation to select the best parameters. \n",
    "            Args:  \n",
    "                ntree (list) : list of number of trees\n",
    "            Output: \n",
    "                (ntree) : best found parameter\n",
    "        \"\"\"\n",
    "        merr = 100\n",
    "        moob = 0\n",
    "        best = 0\n",
    "        for i in ntree:\n",
    "            for j in m:\n",
    "                e = self.cross_validation(i,j)\n",
    "                if e > moob:\n",
    "                    moob = e\n",
    "                    best = (i,j)\n",
    "        return (best)       \n",
    "        pass\n",
    "    \n",
    "    def varianceCalc(self):\n",
    "        \"\"\" Uses predicted values and actual test labels to\n",
    "            calculate the variance by using one hot encoding and the probabilities of each class\n",
    "            Output: \n",
    "                (var) : variance of the randomForest\n",
    "        \"\"\"\n",
    "        y1 = self.y1\n",
    "        yhat = self.yhat\n",
    "        missingPreds = set(y1) - set(yhat) #Get values that are in the output set, but not in our predictions\n",
    "        oneHotPred = pd.get_dummies(yhat)\n",
    "        oneHotY = pd.get_dummies(y1)\n",
    "\n",
    "        for item in missingPreds:\n",
    "            oneHotPred[item] = 0.0\n",
    "\n",
    "        oneHotPred = oneHotPred.reindex_axis(sorted(oneHotPred.columns), axis=1) #Sort df \n",
    "        oneHotY = oneHotY.reset_index(drop = True)\n",
    "\n",
    "        probabilities = oneHotPred.apply(np.mean,axis = 0)\n",
    "\n",
    "        sqVal = (probabilities - oneHotY)\n",
    "        rowSums = np.sum(abs(sqVal),axis = 1)\n",
    "        totalVar =np.sum(rowSums**2)/len(yhat)\n",
    "        \n",
    "        return (totalVar)\n",
    "        \n",
    "    def test(self, ntree, m):\n",
    "        \"\"\" Given parameters, calculate the error rate of the test data given the rest of the data. \n",
    "            Args: \n",
    "                ntree (int) : number of trees\n",
    "                m (int) : Subset of features to calc on split\n",
    "            Output: \n",
    "                (err, svm) : tuple of the error rate of the rf on the test data and the learned model\n",
    "        \"\"\"\n",
    "        ilist = []\n",
    "        err = 0\n",
    "        for j in (self.blocks):\n",
    "            ilist.extend(j)\n",
    "             \n",
    "        X0 = self.X[ilist]\n",
    "        y0 = self.y[ilist]\n",
    "        \n",
    "        X1 = self.X[self.test_block]\n",
    "        y1 = self.y[self.test_block]\n",
    "        \n",
    "        \n",
    "        rf = RandomForestClassifier(n_estimators = ntree,max_features = m, class_weight = \"auto\",oob_score=True)\n",
    "        rf.fit(X0, y0)\n",
    "        yhat = rf.predict(X1)\n",
    "        self.yhat = yhat\n",
    "        self.y1 = y1\n",
    "        errors = np.sum(yhat!=y1)\n",
    "        errorRate = errors/(float(len(yhat)))\n",
    "        return (errorRate,rf)"
   ]
  },
  {
   "cell_type": "code",
   "execution_count": 11,
   "metadata": {
    "collapsed": false
   },
   "outputs": [
    {
     "name": "stderr",
     "output_type": "stream",
     "text": [
      "C:\\Anaconda2\\lib\\site-packages\\sklearn\\ensemble\\forest.py:403: UserWarning: Some inputs do not have OOB scores. This probably means too few trees were used to compute any reliable oob estimates.\n",
      "  warn(\"Some inputs do not have OOB scores. \"\n"
     ]
    },
    {
     "name": "stdout",
     "output_type": "stream",
     "text": [
      "200 1\n",
      "(0.4264705882352941, RandomForestClassifier(bootstrap=True, class_weight='auto', criterion='gini',\n",
      "            max_depth=None, max_features=1, max_leaf_nodes=None,\n",
      "            min_samples_leaf=1, min_samples_split=2,\n",
      "            min_weight_fraction_leaf=0.0, n_estimators=200, n_jobs=1,\n",
      "            oob_score=True, random_state=None, verbose=0, warm_start=False))\n"
     ]
    },
    {
     "data": {
      "text/plain": [
       "1.6130275111703714"
      ]
     },
     "execution_count": 11,
     "metadata": {},
     "output_type": "execute_result"
    }
   ],
   "source": [
    "X0 = np.array(whiteDf.drop(\"quality\", axis=1))\n",
    "y0 = np.array(whiteDf[\"quality\"])\n",
    "MS = ModelSelector(X0, y0, np.arange(X0.shape[0]), 3)\n",
    "ntree,maxFeature = MS.grid_search((10,20,50,100,200),np.arange(1,X0.shape[1]))\n",
    "print ntree,maxFeature\n",
    "print MS.test(ntree,maxFeature)\n",
    "MS.varianceCalc()"
   ]
  },
  {
   "cell_type": "markdown",
   "metadata": {},
   "source": [
    "The reason that this model performs badly is because of the probability distribution of classes in our input dataset. When we split the initial dataset into training/test/validation for CV, the small size of the data results in the model not performing well on unseen data that exists in the test set but not in the others (OOB error warning). This combined with the correlation of features results in a much lower accuracy(60%~) as compared to the quick construction of the RandomForest that we have implemented in the beginning (75%~) accuracy. \n",
    "Domain specific knowledge about wine will also allow us to integrate newer data sources into the model and allow for better features which can lead to more accurate predictions!"
   ]
  },
  {
   "cell_type": "markdown",
   "metadata": {},
   "source": [
    "## Summary\n",
    "This tutorial highlights key factors of RandomForests - their ease of implementation as well as how we can find important features from our dataset with little domain knowledge. The reader is encouraged to attempt the same predictions with the dataset for red wines and observe the differences in prediction accuracy by varying the parameters in the grid search.\n"
   ]
  },
  {
   "cell_type": "markdown",
   "metadata": {},
   "source": [
    "###### References\n",
    "1. Richard Maclin and David Opitz. An Empirical Evaluation of Bagging and Boosting, The Fourteenth National Conference on Artificial Intelligence, Providence Rhode Island 1997 AAAI Press - http://www.cs.uu.nl/docs/vakken/sl/additional_course_material/Maclin_Opitz_-_An_Empirical_Evaluation_of_Bagging_and_Boosting.pdf\n",
    "2. L. Breiman. Bagging predictors. Machine Learning, 24 (2):123–140, 1996. - http://statistics.berkeley.edu/sites/default/files/tech-reports/421.pdf\n",
    "3. L. Breiman. Random forests. Machine Learning, 45(1): 5–32, 2001. - https://www.stat.berkeley.edu/~breiman/randomforest2001.pdf\n",
    "4. DataDive. 2014. Diving Into Data. [ONLINE] Available at: http://blog.datadive.net/selecting-good-features-part-iii-random-forests/. [Accessed 19 October 2016].\n",
    "5. https://www.stat.berkeley.edu/~breiman/RandomForests/cc_home.htm"
   ]
  },
  {
   "cell_type": "code",
   "execution_count": null,
   "metadata": {
    "collapsed": true
   },
   "outputs": [],
   "source": []
  }
 ],
 "metadata": {
  "anaconda-cloud": {},
  "kernelspec": {
   "display_name": "Python [Root]",
   "language": "python",
   "name": "Python [Root]"
  },
  "language_info": {
   "codemirror_mode": {
    "name": "ipython",
    "version": 2
   },
   "file_extension": ".py",
   "mimetype": "text/x-python",
   "name": "python",
   "nbconvert_exporter": "python",
   "pygments_lexer": "ipython2",
   "version": "2.7.12"
  }
 },
 "nbformat": 4,
 "nbformat_minor": 0
}
