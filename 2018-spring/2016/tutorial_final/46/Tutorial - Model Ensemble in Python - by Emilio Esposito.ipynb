{
 "cells": [
  {
   "cell_type": "markdown",
   "metadata": {},
   "source": [
    "# A Tutorial on Model Ensembles: Maximum Margin Output Coding (MMOC)\n",
    "\n",
    "Author: **Emilio Esposito ([LinkedIn](https://www.linkedin.com/in/emilioespositousa) | [Portfolio](https://eesposito.com/) | [GitHub](https://github.com/EmilioEsposito))**\n",
    "\n",
    "## Table of Contents\n",
    "* [Introduction](#introduction)<br/>\n",
    "* [Data Prep](#Data Prep)<br/>\n",
    "* [Binarize the target](#Binarize the target)<br/>\n",
    "* [Create N Binary Classifiers](#Create N Binary Classifiers)<br/>\n",
    "* [Plotting Individual ROC curves](#Plotting Individual ROC curves)<br/>\n",
    "* [Picking the winning class: Applying MMOC](#Picking the winning class: Applying MMOC)<br/>\n",
    "* [Measuring Multiclassification Error: Confusion Matrix](#Measuring Multiclassification Error: Confusion Matrix)<br/>\n",
    "* [Measuring Multiclassification Error: Accuracy, TPR, and FPR](#Measuring Multiclassification Error: Accuracy, TPR, and FPR)<br/>\n",
    "* [Conclusion](#Conclusion)<br/>\n",
    "\n"
   ]
  },
  {
   "cell_type": "markdown",
   "metadata": {},
   "source": [
    "<a id='introduction'></a>\n",
    "## Introduction\n",
    "\n",
    "The objective of this tutorial is to introduce the concept of model ensembles, and show one specific type of model ensemble in detail. The type of model ensemble we will cover is called Maximum Margin Output Coding (MMOC). \n",
    "\n",
    "So what exactly is a model ensemble? **A model ensemble is the process of using more than one model instead of a single model for prediction; the outputs of several models are combined together using a specified voting scheme to achieve a single prediction for each record.** \n",
    "\n",
    "MMOC is an approach that is used for multi-classification (i.e. binary classification is just between two classes A and B, but multi-classification can handle N number of classes A,B,C,D, etc). It does this by using N number of binary classifiers, and then combining their results into a single prediction for each record.\n",
    "\n",
    "MMOC is similar to Error Correcting Output Coding (ECOC), but is simpler because it takes advantage of the probabilistic real-valued output values from margin-based classifiers (in other words, it uses the probability output number between 0.0 and 1.0 ). ECOC requires individual cutoff values to be chosen before the outputs can be combined, but MMOC simply uses the probabilistic output as a proxy for \"confidence\". The simplest version of MMOC simply chooses the final class by selecting the model with the highest confidence score (highest probability of being in the class). An extremely simple example is shown below, but we'll also implement this in practice later:"
   ]
  },
  {
   "cell_type": "markdown",
   "metadata": {},
   "source": [
    "<img src=\"http://esporealestate.com/MMOC.png\"></img>"
   ]
  },
  {
   "cell_type": "markdown",
   "metadata": {},
   "source": [
    "For a detailed research paper on MMOC, refer to this publication: \n",
    "* [Yi Zhang & Jeff Schneider. Carnegie Mellon University. Maximum Margin Output Coding, ICML 2012.](http://www.cs.cmu.edu/~yizhang1/docs/MaxMarginCoding.pdf)\n",
    "\n",
    "And for a easier to understand slide-deck on margin based encoding:\n",
    "* [Erin Allwein, Rob Schapire, & Yoram Singer. Princeton University. Reducing Multiclass to Binary: A Unifying Approach for Margin Classifiers](http://www.cs.princeton.edu/~schapire/talks/ecoc-icml10.pdf)\n",
    "\n",
    "There are other equally valid approaches to tackle multi-classification besides MMOC that do not even use an ensemble (such as a Bayes Net or Softmax Regression), but there are some scenarios where it makes more sense to use an ensemble of several models rather than a single model. For example, if the different classes are driven by different and muttually exclusive features, then an ensemble would be more appropriate. Here is classic example where MMOC would be preferred over a single multinomial classfier:\n",
    "* class A is best predicted by features x1 and x2, but is completely independent of other features\n",
    "* class B is best predicted by features x3 and x4, but is completely independent of other features\n",
    "* class C is best predicted by features x5 and x6, but is completely independent of other features\n",
    "\n",
    "Also, MMOC ensembling allows the individual N binary classifers to use different features and even different models. Class \"A\" might use logistic regression, but class \"B\" might use Support Vector Machines (just to illustrate, this scenario would actually be unusual).\n",
    "\n",
    "\n",
    "Now let's get to our example!"
   ]
  },
  {
   "cell_type": "markdown",
   "metadata": {},
   "source": [
    "<a id='Data Prep'></a>\n",
    "## Data Prep"
   ]
  },
  {
   "cell_type": "code",
   "execution_count": 1,
   "metadata": {
    "collapsed": false
   },
   "outputs": [],
   "source": [
    "# import necessary libaries \n",
    "from sklearn import datasets\n",
    "from sklearn import metrics\n",
    "import sklearn as sk\n",
    "import numpy as np\n",
    "import pandas as pd\n",
    "import matplotlib.pyplot as plt\n",
    "from sklearn.cross_validation import KFold\n",
    "from sklearn import svm\n",
    "from matplotlib import colors\n",
    "%matplotlib inline  \n"
   ]
  },
  {
   "cell_type": "markdown",
   "metadata": {},
   "source": [
    "For this exercise, we are going to use the standard Iris dataset found in the scikit-learn library."
   ]
  },
  {
   "cell_type": "code",
   "execution_count": 2,
   "metadata": {
    "collapsed": false
   },
   "outputs": [
    {
     "name": "stdout",
     "output_type": "stream",
     "text": [
      "['target_names', 'data', 'target', 'DESCR', 'feature_names']\n"
     ]
    }
   ],
   "source": [
    "iris_dict = datasets.load_iris()\n",
    "print iris_dict.keys()"
   ]
  },
  {
   "cell_type": "markdown",
   "metadata": {},
   "source": [
    "The Iris data has has 3 possible target classes:"
   ]
  },
  {
   "cell_type": "code",
   "execution_count": 3,
   "metadata": {
    "collapsed": false
   },
   "outputs": [
    {
     "name": "stdout",
     "output_type": "stream",
     "text": [
      "['setosa', 'versicolor', 'virginica']\n",
      "['sepal length (cm)', 'sepal width (cm)', 'petal length (cm)', 'petal width (cm)']\n"
     ]
    }
   ],
   "source": [
    "target_names = list(iris_dict['target_names'])\n",
    "feature_names = iris_dict['feature_names']\n",
    "print target_names\n",
    "print feature_names"
   ]
  },
  {
   "cell_type": "code",
   "execution_count": 4,
   "metadata": {
    "collapsed": false
   },
   "outputs": [
    {
     "data": {
      "text/html": [
       "<div>\n",
       "<table border=\"1\" class=\"dataframe\">\n",
       "  <thead>\n",
       "    <tr style=\"text-align: right;\">\n",
       "      <th></th>\n",
       "      <th>sepal length (cm)</th>\n",
       "      <th>sepal width (cm)</th>\n",
       "      <th>petal length (cm)</th>\n",
       "      <th>petal width (cm)</th>\n",
       "      <th>target</th>\n",
       "      <th>target_name</th>\n",
       "    </tr>\n",
       "  </thead>\n",
       "  <tbody>\n",
       "    <tr>\n",
       "      <th>128</th>\n",
       "      <td>6.4</td>\n",
       "      <td>2.8</td>\n",
       "      <td>5.6</td>\n",
       "      <td>2.1</td>\n",
       "      <td>2</td>\n",
       "      <td>virginica</td>\n",
       "    </tr>\n",
       "    <tr>\n",
       "      <th>18</th>\n",
       "      <td>5.7</td>\n",
       "      <td>3.8</td>\n",
       "      <td>1.7</td>\n",
       "      <td>0.3</td>\n",
       "      <td>0</td>\n",
       "      <td>setosa</td>\n",
       "    </tr>\n",
       "    <tr>\n",
       "      <th>130</th>\n",
       "      <td>7.4</td>\n",
       "      <td>2.8</td>\n",
       "      <td>6.1</td>\n",
       "      <td>1.9</td>\n",
       "      <td>2</td>\n",
       "      <td>virginica</td>\n",
       "    </tr>\n",
       "    <tr>\n",
       "      <th>105</th>\n",
       "      <td>7.6</td>\n",
       "      <td>3.0</td>\n",
       "      <td>6.6</td>\n",
       "      <td>2.1</td>\n",
       "      <td>2</td>\n",
       "      <td>virginica</td>\n",
       "    </tr>\n",
       "    <tr>\n",
       "      <th>107</th>\n",
       "      <td>7.3</td>\n",
       "      <td>2.9</td>\n",
       "      <td>6.3</td>\n",
       "      <td>1.8</td>\n",
       "      <td>2</td>\n",
       "      <td>virginica</td>\n",
       "    </tr>\n",
       "  </tbody>\n",
       "</table>\n",
       "</div>"
      ],
      "text/plain": [
       "     sepal length (cm)  sepal width (cm)  petal length (cm)  petal width (cm)  \\\n",
       "128                6.4               2.8                5.6               2.1   \n",
       "18                 5.7               3.8                1.7               0.3   \n",
       "130                7.4               2.8                6.1               1.9   \n",
       "105                7.6               3.0                6.6               2.1   \n",
       "107                7.3               2.9                6.3               1.8   \n",
       "\n",
       "     target target_name  \n",
       "128       2   virginica  \n",
       "18        0      setosa  \n",
       "130       2   virginica  \n",
       "105       2   virginica  \n",
       "107       2   virginica  "
      ]
     },
     "execution_count": 4,
     "metadata": {},
     "output_type": "execute_result"
    }
   ],
   "source": [
    "# put the X variables into a dataframe\n",
    "irisX = pd.DataFrame(iris_dict['data'], columns=iris_dict['feature_names'])\n",
    "\n",
    "# let's make a copy so we can add the target variable\n",
    "iris = irisX.copy()\n",
    "\n",
    "# add the numeric target\n",
    "iris['target'] = iris_dict['target']\n",
    "\n",
    "# let's shuffle the rows so we get a more representative sample of targets when we preview the data using head()\n",
    "np.random.seed(seed=4)\n",
    "iris = iris.iloc[np.random.choice(len(iris), len(iris), replace=False, ),:]\n",
    "\n",
    "# create mapping of numeric target to target actual name\n",
    "tn_dict = {i:target_names[i] for i in range(len(target_names))}\n",
    "\n",
    "# add target name as well\n",
    "iris['target_name'] = iris['target'].map(tn_dict)\n",
    "\n",
    "# preview final data\n",
    "iris.head()"
   ]
  },
  {
   "cell_type": "markdown",
   "metadata": {},
   "source": [
    "Now let's show some descriptive statistics for each column. Note the uniform distribution of the target. This uniform distribution will allow us to simplify our approach to MMOC later on:"
   ]
  },
  {
   "cell_type": "code",
   "execution_count": 5,
   "metadata": {
    "collapsed": false
   },
   "outputs": [
    {
     "name": "stdout",
     "output_type": "stream",
     "text": [
      "sepal length (cm) [datatype=float64]\n",
      "\tMean: 5.84333333333\n",
      "\tMin: 4.3\n",
      "\tMax: 7.9\n",
      "\tStd Dev: 0.825301291785\n",
      "sepal width (cm) [datatype=float64]\n",
      "\tMean: 3.054\n",
      "\tMin: 2.0\n",
      "\tMax: 4.4\n",
      "\tStd Dev: 0.432146580071\n",
      "petal length (cm) [datatype=float64]\n",
      "\tMean: 3.75866666667\n",
      "\tMin: 1.0\n",
      "\tMax: 6.9\n",
      "\tStd Dev: 1.75852918341\n",
      "petal width (cm) [datatype=float64]\n",
      "\tMean: 1.19866666667\n",
      "\tMin: 0.1\n",
      "\tMax: 2.5\n",
      "\tStd Dev: 0.760612618588\n",
      "target [datatype=int32]\n",
      "\tMean: 1.0\n",
      "\tMin: 0\n",
      "\tMax: 2\n",
      "\tStd Dev: 0.816496610641\n",
      "target_name [datatype=object]\n",
      "\tCounts:\n",
      "\tvirginica     50\n",
      "\tsetosa        50\n",
      "\tversicolor    50\n",
      "\tName: target_name, dtype: int64\n"
     ]
    }
   ],
   "source": [
    "# Prints descriptive stats on the data.\n",
    "# For numerics, it prints mean, min, max, and standard deviation\n",
    "# For categorical, it prints the count distribution\n",
    "def desc_statistics(df):\n",
    "    for col in df:\n",
    "        x = df[col]\n",
    "\n",
    "        # print name & datatype\n",
    "        print col, \"[datatype=\"+str(x.dtype)+\"]\"\n",
    "\n",
    "        # handle categorical \n",
    "        if x.dtype=='object':\n",
    "            print \"\\tCounts:\"\n",
    "            print \"\\t\",str(x.value_counts()).replace(\"\\n\",\"\\n\\t\")\n",
    "        # handle numeric\n",
    "        else:\n",
    "            print \"\\tMean:\",str(np.mean(x))\n",
    "            print \"\\tMin:\",str(np.min(x))\n",
    "            print \"\\tMax:\",str(np.max(x))\n",
    "            print \"\\tStd Dev:\",str(np.std(x))       \n",
    "\n",
    "desc_statistics(iris)"
   ]
  },
  {
   "cell_type": "markdown",
   "metadata": {},
   "source": [
    "<a id='Binarize the target'></a>\n",
    "## Binarize the target\n",
    "You may have thought we were ready to begin modeling, but remember since we have multiple classes (3 in this case), we need to create 3 binary variables to represent our targets. "
   ]
  },
  {
   "cell_type": "code",
   "execution_count": 6,
   "metadata": {
    "collapsed": false
   },
   "outputs": [
    {
     "data": {
      "text/html": [
       "<div>\n",
       "<table border=\"1\" class=\"dataframe\">\n",
       "  <thead>\n",
       "    <tr style=\"text-align: right;\">\n",
       "      <th></th>\n",
       "      <th>sepal length (cm)</th>\n",
       "      <th>sepal width (cm)</th>\n",
       "      <th>petal length (cm)</th>\n",
       "      <th>petal width (cm)</th>\n",
       "      <th>target</th>\n",
       "      <th>target_name</th>\n",
       "      <th>setosa</th>\n",
       "      <th>versicolor</th>\n",
       "      <th>virginica</th>\n",
       "    </tr>\n",
       "  </thead>\n",
       "  <tbody>\n",
       "    <tr>\n",
       "      <th>128</th>\n",
       "      <td>6.4</td>\n",
       "      <td>2.8</td>\n",
       "      <td>5.6</td>\n",
       "      <td>2.1</td>\n",
       "      <td>2</td>\n",
       "      <td>virginica</td>\n",
       "      <td>0.0</td>\n",
       "      <td>0.0</td>\n",
       "      <td>1.0</td>\n",
       "    </tr>\n",
       "    <tr>\n",
       "      <th>18</th>\n",
       "      <td>5.7</td>\n",
       "      <td>3.8</td>\n",
       "      <td>1.7</td>\n",
       "      <td>0.3</td>\n",
       "      <td>0</td>\n",
       "      <td>setosa</td>\n",
       "      <td>1.0</td>\n",
       "      <td>0.0</td>\n",
       "      <td>0.0</td>\n",
       "    </tr>\n",
       "    <tr>\n",
       "      <th>130</th>\n",
       "      <td>7.4</td>\n",
       "      <td>2.8</td>\n",
       "      <td>6.1</td>\n",
       "      <td>1.9</td>\n",
       "      <td>2</td>\n",
       "      <td>virginica</td>\n",
       "      <td>0.0</td>\n",
       "      <td>0.0</td>\n",
       "      <td>1.0</td>\n",
       "    </tr>\n",
       "    <tr>\n",
       "      <th>105</th>\n",
       "      <td>7.6</td>\n",
       "      <td>3.0</td>\n",
       "      <td>6.6</td>\n",
       "      <td>2.1</td>\n",
       "      <td>2</td>\n",
       "      <td>virginica</td>\n",
       "      <td>0.0</td>\n",
       "      <td>0.0</td>\n",
       "      <td>1.0</td>\n",
       "    </tr>\n",
       "    <tr>\n",
       "      <th>107</th>\n",
       "      <td>7.3</td>\n",
       "      <td>2.9</td>\n",
       "      <td>6.3</td>\n",
       "      <td>1.8</td>\n",
       "      <td>2</td>\n",
       "      <td>virginica</td>\n",
       "      <td>0.0</td>\n",
       "      <td>0.0</td>\n",
       "      <td>1.0</td>\n",
       "    </tr>\n",
       "  </tbody>\n",
       "</table>\n",
       "</div>"
      ],
      "text/plain": [
       "     sepal length (cm)  sepal width (cm)  petal length (cm)  petal width (cm)  \\\n",
       "128                6.4               2.8                5.6               2.1   \n",
       "18                 5.7               3.8                1.7               0.3   \n",
       "130                7.4               2.8                6.1               1.9   \n",
       "105                7.6               3.0                6.6               2.1   \n",
       "107                7.3               2.9                6.3               1.8   \n",
       "\n",
       "     target target_name  setosa  versicolor  virginica  \n",
       "128       2   virginica     0.0         0.0        1.0  \n",
       "18        0      setosa     1.0         0.0        0.0  \n",
       "130       2   virginica     0.0         0.0        1.0  \n",
       "105       2   virginica     0.0         0.0        1.0  \n",
       "107       2   virginica     0.0         0.0        1.0  "
      ]
     },
     "execution_count": 6,
     "metadata": {},
     "output_type": "execute_result"
    }
   ],
   "source": [
    "# binarize the target\n",
    "dummies = pd.get_dummies(iris['target_name'])\n",
    "\n",
    "# add/update binarized cols to df\n",
    "for predcol in dummies.columns:\n",
    "    iris[predcol] = dummies[predcol]\n",
    "    \n",
    "iris.head()"
   ]
  },
  {
   "cell_type": "markdown",
   "metadata": {},
   "source": [
    "<a id='Create N Binary Classifiers'></a>\n",
    "## Create N Binary Classifiers\n",
    "Now it's time to build our binary models. Each model should be trained and cross-validated separately. We could use different sets of features for each class and even use different types of models. However, the purpose of this tutorial is not to teach feature selection, model selection, and cross-validation, so I won't explain the details here. I just want to show how to combine output from several models. For more background information on classification and cross-validation, please refer to [these lecture notes](http://www.datasciencecourse.org/nonlinear_modeling.pdf) from Carnegie Mellon University's [Practical Data Science](http://www.datasciencecourse.org/) course.\n",
    "\n",
    "\n",
    "Now let's create our 3 binary classifiers using SVM models:\n"
   ]
  },
  {
   "cell_type": "code",
   "execution_count": 7,
   "metadata": {
    "collapsed": true
   },
   "outputs": [],
   "source": [
    "# loop through each target class\n",
    "for target_name in target_names:\n",
    "    \n",
    "    # split data into X and y\n",
    "    X = iris[feature_names]\n",
    "    y = iris[target_name]\n",
    "    \n",
    "    k = len(X)\n",
    "    kf = KFold(len(X), n_folds=k, shuffle=True, random_state=5)\n",
    "    #loop through each fold\n",
    "    for train_index, hold_index in kf:\n",
    "        \n",
    "        # split into train and hold\n",
    "        trainx = X.iloc[train_index,:]\n",
    "        trainy = y[train_index]\n",
    "        holdx = X.iloc[hold_index,:]\n",
    "        \n",
    "        # build SVM \n",
    "        model = svm.SVC(probability=True, C=1,gamma=.05,random_state=5)    \n",
    "    \n",
    "        # fit the model using train and return probabilistic predictions of holdout\n",
    "        fit = model.fit(trainx, trainy)\n",
    "        prob = fit.predict_proba(holdx)\n",
    "    \n",
    "        # add the probabilist output to the original dataframe\n",
    "        iris.loc[hold_index,'probclass_'+target_name] = prob[:,0]"
   ]
  },
  {
   "cell_type": "markdown",
   "metadata": {},
   "source": [
    "As you see below, we added a probabilistic output for each classifer (the columns with the \"probclass_\" prefix"
   ]
  },
  {
   "cell_type": "code",
   "execution_count": 8,
   "metadata": {
    "collapsed": false
   },
   "outputs": [
    {
     "data": {
      "text/html": [
       "<div>\n",
       "<table border=\"1\" class=\"dataframe\">\n",
       "  <thead>\n",
       "    <tr style=\"text-align: right;\">\n",
       "      <th></th>\n",
       "      <th>sepal length (cm)</th>\n",
       "      <th>sepal width (cm)</th>\n",
       "      <th>petal length (cm)</th>\n",
       "      <th>petal width (cm)</th>\n",
       "      <th>target</th>\n",
       "      <th>target_name</th>\n",
       "      <th>setosa</th>\n",
       "      <th>versicolor</th>\n",
       "      <th>virginica</th>\n",
       "      <th>probclass_setosa</th>\n",
       "      <th>probclass_versicolor</th>\n",
       "      <th>probclass_virginica</th>\n",
       "    </tr>\n",
       "  </thead>\n",
       "  <tbody>\n",
       "    <tr>\n",
       "      <th>128</th>\n",
       "      <td>6.4</td>\n",
       "      <td>2.8</td>\n",
       "      <td>5.6</td>\n",
       "      <td>2.1</td>\n",
       "      <td>2</td>\n",
       "      <td>virginica</td>\n",
       "      <td>0.0</td>\n",
       "      <td>0.0</td>\n",
       "      <td>1.0</td>\n",
       "      <td>0.635576</td>\n",
       "      <td>0.699851</td>\n",
       "      <td>0.826809</td>\n",
       "    </tr>\n",
       "    <tr>\n",
       "      <th>18</th>\n",
       "      <td>5.7</td>\n",
       "      <td>3.8</td>\n",
       "      <td>1.7</td>\n",
       "      <td>0.3</td>\n",
       "      <td>0</td>\n",
       "      <td>setosa</td>\n",
       "      <td>1.0</td>\n",
       "      <td>0.0</td>\n",
       "      <td>0.0</td>\n",
       "      <td>0.655379</td>\n",
       "      <td>0.642097</td>\n",
       "      <td>0.664245</td>\n",
       "    </tr>\n",
       "    <tr>\n",
       "      <th>130</th>\n",
       "      <td>7.4</td>\n",
       "      <td>2.8</td>\n",
       "      <td>6.1</td>\n",
       "      <td>1.9</td>\n",
       "      <td>2</td>\n",
       "      <td>virginica</td>\n",
       "      <td>0.0</td>\n",
       "      <td>0.0</td>\n",
       "      <td>1.0</td>\n",
       "      <td>0.658594</td>\n",
       "      <td>0.661425</td>\n",
       "      <td>0.655054</td>\n",
       "    </tr>\n",
       "    <tr>\n",
       "      <th>105</th>\n",
       "      <td>7.6</td>\n",
       "      <td>3.0</td>\n",
       "      <td>6.6</td>\n",
       "      <td>2.1</td>\n",
       "      <td>2</td>\n",
       "      <td>virginica</td>\n",
       "      <td>0.0</td>\n",
       "      <td>0.0</td>\n",
       "      <td>1.0</td>\n",
       "      <td>0.653835</td>\n",
       "      <td>0.650305</td>\n",
       "      <td>0.657817</td>\n",
       "    </tr>\n",
       "    <tr>\n",
       "      <th>107</th>\n",
       "      <td>7.3</td>\n",
       "      <td>2.9</td>\n",
       "      <td>6.3</td>\n",
       "      <td>1.8</td>\n",
       "      <td>2</td>\n",
       "      <td>virginica</td>\n",
       "      <td>0.0</td>\n",
       "      <td>0.0</td>\n",
       "      <td>1.0</td>\n",
       "      <td>0.653676</td>\n",
       "      <td>0.662541</td>\n",
       "      <td>0.642726</td>\n",
       "    </tr>\n",
       "  </tbody>\n",
       "</table>\n",
       "</div>"
      ],
      "text/plain": [
       "     sepal length (cm)  sepal width (cm)  petal length (cm)  petal width (cm)  \\\n",
       "128                6.4               2.8                5.6               2.1   \n",
       "18                 5.7               3.8                1.7               0.3   \n",
       "130                7.4               2.8                6.1               1.9   \n",
       "105                7.6               3.0                6.6               2.1   \n",
       "107                7.3               2.9                6.3               1.8   \n",
       "\n",
       "     target target_name  setosa  versicolor  virginica  probclass_setosa  \\\n",
       "128       2   virginica     0.0         0.0        1.0          0.635576   \n",
       "18        0      setosa     1.0         0.0        0.0          0.655379   \n",
       "130       2   virginica     0.0         0.0        1.0          0.658594   \n",
       "105       2   virginica     0.0         0.0        1.0          0.653835   \n",
       "107       2   virginica     0.0         0.0        1.0          0.653676   \n",
       "\n",
       "     probclass_versicolor  probclass_virginica  \n",
       "128              0.699851             0.826809  \n",
       "18               0.642097             0.664245  \n",
       "130              0.661425             0.655054  \n",
       "105              0.650305             0.657817  \n",
       "107              0.662541             0.642726  "
      ]
     },
     "execution_count": 8,
     "metadata": {},
     "output_type": "execute_result"
    }
   ],
   "source": [
    "iris.head()"
   ]
  },
  {
   "cell_type": "markdown",
   "metadata": {},
   "source": [
    "<a id='Plotting Individual ROC curves'></a>\n",
    "## Plotting Individual ROC curves\n",
    "Even though this is a multinomial classification problem, we still want to check the validity of the individual binary classifiers before we combine results. However, even if all of our binary classifiers have good AUCs, this tells us NOTHING about the error of our final output. In the next section we'll combine the binary classifiers and then measure the overall error using a confusion matrix. But for now, let's take a look at how our binary classifiers did:"
   ]
  },
  {
   "cell_type": "code",
   "execution_count": 9,
   "metadata": {
    "collapsed": false
   },
   "outputs": [
    {
     "data": {
      "image/png": "[encoded data removed]",
      "text/plain": [
       "<matplotlib.figure.Figure at 0xba04d30>"
      ]
     },
     "metadata": {},
     "output_type": "display_data"
    }
   ],
   "source": [
    "# take a dataframe and plot all of the binary classifier curves on a single figure\n",
    "def plotROC(df,pred_col_prefix):\n",
    "\n",
    "    df = df.copy()\n",
    "    \n",
    "    # get a list of the prediction columns\n",
    "    predcols = [col for col in df.columns if col[:10]==pred_col_prefix]\n",
    "    \n",
    "    fig, ax = plt.subplots()\n",
    "    \n",
    "    mycolors = ['blue','red','green'] +list(colors.cnames)\n",
    "    \n",
    "    for i, (target_name, predcol) in enumerate(zip(target_names,predcols)):\n",
    "        \n",
    "        truth = df[target_name]\n",
    "        pred = df[predcol]\n",
    "\n",
    "        # calclulate fpr/tpr metrics\n",
    "        fpr, tpr, _ = metrics.roc_curve(truth, pred)\n",
    "\n",
    "        # calc the AUC\n",
    "        auc = metrics.roc_auc_score(truth, pred)\n",
    "\n",
    "        # set labels\n",
    "        plt.ylabel(\"TPR\")\n",
    "        plt.xlabel(\"FPR\")\n",
    "        plt.title(\"ROC Curve (using k-fold Cross Validation)\")\n",
    "\n",
    "        # plot the default model line\n",
    "        plt.plot([0,1])\n",
    "        \n",
    "        # plot tpr/fpr on ROC\n",
    "        leg_label = target_name + \", AUC=\" + str(round(auc, 2))\n",
    "        ax.plot(fpr, tpr, color=mycolors[i], label=leg_label)\n",
    "\n",
    "        # Begin citation for legend: http://matplotlib.org/1.3.0/examples/pylab_examples/legend_demo.html\n",
    "        # Now add the legend with some customizations.\n",
    "        legend = ax.legend(loc='lower right')\n",
    "    plt.show()\n",
    "\n",
    "plotROC(iris,\"probclass_\")"
   ]
  },
  {
   "cell_type": "markdown",
   "metadata": {},
   "source": [
    "We'll discuss detailed interpretation of TPR and FPR later. For now, just recognize that a random choice model would produce the diagonal line. A perfect model (0 error) would be a line that goes straight up from (0,0) to (0,1), then takes a 90 degree turn right to (1,1). Any curve above the diagonal is doing better than random chance, and the closer it bulges towards (0,1) the better. AUC measures the area under the curve. AUC=1 indicates a perfect model, and AUC=0.50 indicates a random choice model (the diagonal line)."
   ]
  },
  {
   "cell_type": "markdown",
   "metadata": {},
   "source": [
    "<a id='Picking the winning class: Applying MMOC'></a>\n",
    "## Picking the winning class: Applying MMOC\n",
    "Now that we validated our individual binary classifiers, it's time to combine their results into a single final prediction for each record. \n",
    "\n",
    "As we eluded to earlier, we will do this by using the simplest approach of MMOC: pick the classifier that has the highest confidence (in this case, we are simply using the real-valued probability as the confidence). This approach is only valid if the distribution of our classes is relatively uniform. If the distribution was not uniform, we would either need another measure of confidence taking the distribution into account, or we would need to apply cutoff values and employ ECOC instead."
   ]
  },
  {
   "cell_type": "code",
   "execution_count": 10,
   "metadata": {
    "collapsed": false
   },
   "outputs": [
    {
     "data": {
      "text/html": [
       "<div>\n",
       "<table border=\"1\" class=\"dataframe\">\n",
       "  <thead>\n",
       "    <tr style=\"text-align: right;\">\n",
       "      <th></th>\n",
       "      <th>sepal length (cm)</th>\n",
       "      <th>sepal width (cm)</th>\n",
       "      <th>petal length (cm)</th>\n",
       "      <th>petal width (cm)</th>\n",
       "      <th>target</th>\n",
       "      <th>target_name</th>\n",
       "      <th>setosa</th>\n",
       "      <th>versicolor</th>\n",
       "      <th>virginica</th>\n",
       "      <th>probclass_setosa</th>\n",
       "      <th>probclass_versicolor</th>\n",
       "      <th>probclass_virginica</th>\n",
       "      <th>pred_target_name</th>\n",
       "      <th>predclass_setosa</th>\n",
       "      <th>predclass_versicolor</th>\n",
       "      <th>predclass_virginica</th>\n",
       "    </tr>\n",
       "  </thead>\n",
       "  <tbody>\n",
       "    <tr>\n",
       "      <th>128</th>\n",
       "      <td>6.4</td>\n",
       "      <td>2.8</td>\n",
       "      <td>5.6</td>\n",
       "      <td>2.1</td>\n",
       "      <td>2</td>\n",
       "      <td>virginica</td>\n",
       "      <td>0.0</td>\n",
       "      <td>0.0</td>\n",
       "      <td>1.0</td>\n",
       "      <td>0.635576</td>\n",
       "      <td>0.699851</td>\n",
       "      <td>0.826809</td>\n",
       "      <td>virginica</td>\n",
       "      <td>0.0</td>\n",
       "      <td>0.0</td>\n",
       "      <td>1.0</td>\n",
       "    </tr>\n",
       "    <tr>\n",
       "      <th>18</th>\n",
       "      <td>5.7</td>\n",
       "      <td>3.8</td>\n",
       "      <td>1.7</td>\n",
       "      <td>0.3</td>\n",
       "      <td>0</td>\n",
       "      <td>setosa</td>\n",
       "      <td>1.0</td>\n",
       "      <td>0.0</td>\n",
       "      <td>0.0</td>\n",
       "      <td>0.655379</td>\n",
       "      <td>0.642097</td>\n",
       "      <td>0.664245</td>\n",
       "      <td>virginica</td>\n",
       "      <td>0.0</td>\n",
       "      <td>0.0</td>\n",
       "      <td>1.0</td>\n",
       "    </tr>\n",
       "    <tr>\n",
       "      <th>130</th>\n",
       "      <td>7.4</td>\n",
       "      <td>2.8</td>\n",
       "      <td>6.1</td>\n",
       "      <td>1.9</td>\n",
       "      <td>2</td>\n",
       "      <td>virginica</td>\n",
       "      <td>0.0</td>\n",
       "      <td>0.0</td>\n",
       "      <td>1.0</td>\n",
       "      <td>0.658594</td>\n",
       "      <td>0.661425</td>\n",
       "      <td>0.655054</td>\n",
       "      <td>versicolor</td>\n",
       "      <td>0.0</td>\n",
       "      <td>1.0</td>\n",
       "      <td>0.0</td>\n",
       "    </tr>\n",
       "    <tr>\n",
       "      <th>105</th>\n",
       "      <td>7.6</td>\n",
       "      <td>3.0</td>\n",
       "      <td>6.6</td>\n",
       "      <td>2.1</td>\n",
       "      <td>2</td>\n",
       "      <td>virginica</td>\n",
       "      <td>0.0</td>\n",
       "      <td>0.0</td>\n",
       "      <td>1.0</td>\n",
       "      <td>0.653835</td>\n",
       "      <td>0.650305</td>\n",
       "      <td>0.657817</td>\n",
       "      <td>virginica</td>\n",
       "      <td>0.0</td>\n",
       "      <td>0.0</td>\n",
       "      <td>1.0</td>\n",
       "    </tr>\n",
       "    <tr>\n",
       "      <th>107</th>\n",
       "      <td>7.3</td>\n",
       "      <td>2.9</td>\n",
       "      <td>6.3</td>\n",
       "      <td>1.8</td>\n",
       "      <td>2</td>\n",
       "      <td>virginica</td>\n",
       "      <td>0.0</td>\n",
       "      <td>0.0</td>\n",
       "      <td>1.0</td>\n",
       "      <td>0.653676</td>\n",
       "      <td>0.662541</td>\n",
       "      <td>0.642726</td>\n",
       "      <td>versicolor</td>\n",
       "      <td>0.0</td>\n",
       "      <td>1.0</td>\n",
       "      <td>0.0</td>\n",
       "    </tr>\n",
       "  </tbody>\n",
       "</table>\n",
       "</div>"
      ],
      "text/plain": [
       "     sepal length (cm)  sepal width (cm)  petal length (cm)  petal width (cm)  \\\n",
       "128                6.4               2.8                5.6               2.1   \n",
       "18                 5.7               3.8                1.7               0.3   \n",
       "130                7.4               2.8                6.1               1.9   \n",
       "105                7.6               3.0                6.6               2.1   \n",
       "107                7.3               2.9                6.3               1.8   \n",
       "\n",
       "     target target_name  setosa  versicolor  virginica  probclass_setosa  \\\n",
       "128       2   virginica     0.0         0.0        1.0          0.635576   \n",
       "18        0      setosa     1.0         0.0        0.0          0.655379   \n",
       "130       2   virginica     0.0         0.0        1.0          0.658594   \n",
       "105       2   virginica     0.0         0.0        1.0          0.653835   \n",
       "107       2   virginica     0.0         0.0        1.0          0.653676   \n",
       "\n",
       "     probclass_versicolor  probclass_virginica pred_target_name  \\\n",
       "128              0.699851             0.826809        virginica   \n",
       "18               0.642097             0.664245        virginica   \n",
       "130              0.661425             0.655054       versicolor   \n",
       "105              0.650305             0.657817        virginica   \n",
       "107              0.662541             0.642726       versicolor   \n",
       "\n",
       "     predclass_setosa  predclass_versicolor  predclass_virginica  \n",
       "128               0.0                   0.0                  1.0  \n",
       "18                0.0                   0.0                  1.0  \n",
       "130               0.0                   1.0                  0.0  \n",
       "105               0.0                   0.0                  1.0  \n",
       "107               0.0                   1.0                  0.0  "
      ]
     },
     "execution_count": 10,
     "metadata": {},
     "output_type": "execute_result"
    }
   ],
   "source": [
    "# this function takes a dataframe, looks for columns that have probabilistic output (denoted by prefix probclass_)\n",
    "# it then picks the winning classifier based on which one had the highest confidence\n",
    "# it records the winner in both a pred_target_name column, and also in binarized predclass_ columns\n",
    "def applyMMOC(df):\n",
    "    df = df.copy()\n",
    "    \n",
    "    # get a list of the prediction columns\n",
    "    predcols = [col for col in df.columns if col[:10]=='probclass_']\n",
    "    \n",
    "    # choose the winning classifier by picking the one with the highest probability/confidence\n",
    "    df['pred_target_name'] = df[predcols].idxmax(axis=1)\n",
    "    \n",
    "    # trim the predicted target name\n",
    "    df['pred_target_name'] = df['pred_target_name'].apply(lambda x: x.replace('probclass_',\"\"))\n",
    "    \n",
    "    # get dummies of pred as well, we can use them later to easily calc error metrics\n",
    "    pred_dummies = pd.get_dummies(df['pred_target_name'])\n",
    "    pred_dummies.columns = [\"predclass_\"+str(col) for col in pred_dummies.columns]\n",
    "    \n",
    "    # add the dummies to the df\n",
    "    for predcol in pred_dummies.columns:\n",
    "        df[predcol]=pred_dummies[predcol]\n",
    "\n",
    "    return df\n",
    "\n",
    "# preview final data with predictions\n",
    "iris = applyMMOC(iris)\n",
    "iris.head()\n"
   ]
  },
  {
   "cell_type": "markdown",
   "metadata": {},
   "source": [
    "<a id='Measuring Multiclassification Error: Confusion Matrix'></a>\n",
    "## Measuring Multiclassification Error: Confusion Matrix\n",
    "Now that we have combined the output of our 3 binary models, we can now measure our error using a confusion matrix. "
   ]
  },
  {
   "cell_type": "code",
   "execution_count": 11,
   "metadata": {
    "collapsed": false
   },
   "outputs": [
    {
     "data": {
      "text/html": [
       "<div>\n",
       "<table border=\"1\" class=\"dataframe\">\n",
       "  <thead>\n",
       "    <tr style=\"text-align: right;\">\n",
       "      <th>pred_target_name</th>\n",
       "      <th>setosa</th>\n",
       "      <th>versicolor</th>\n",
       "      <th>virginica</th>\n",
       "      <th>All</th>\n",
       "    </tr>\n",
       "    <tr>\n",
       "      <th>target_name</th>\n",
       "      <th></th>\n",
       "      <th></th>\n",
       "      <th></th>\n",
       "      <th></th>\n",
       "    </tr>\n",
       "  </thead>\n",
       "  <tbody>\n",
       "    <tr>\n",
       "      <th>setosa</th>\n",
       "      <td>36.0</td>\n",
       "      <td>2.0</td>\n",
       "      <td>12.0</td>\n",
       "      <td>50.0</td>\n",
       "    </tr>\n",
       "    <tr>\n",
       "      <th>versicolor</th>\n",
       "      <td>4.0</td>\n",
       "      <td>44.0</td>\n",
       "      <td>2.0</td>\n",
       "      <td>50.0</td>\n",
       "    </tr>\n",
       "    <tr>\n",
       "      <th>virginica</th>\n",
       "      <td>2.0</td>\n",
       "      <td>21.0</td>\n",
       "      <td>27.0</td>\n",
       "      <td>50.0</td>\n",
       "    </tr>\n",
       "    <tr>\n",
       "      <th>All</th>\n",
       "      <td>42.0</td>\n",
       "      <td>67.0</td>\n",
       "      <td>41.0</td>\n",
       "      <td>150.0</td>\n",
       "    </tr>\n",
       "  </tbody>\n",
       "</table>\n",
       "</div>"
      ],
      "text/plain": [
       "pred_target_name  setosa  versicolor  virginica    All\n",
       "target_name                                           \n",
       "setosa              36.0         2.0       12.0   50.0\n",
       "versicolor           4.0        44.0        2.0   50.0\n",
       "virginica            2.0        21.0       27.0   50.0\n",
       "All                 42.0        67.0       41.0  150.0"
      ]
     },
     "execution_count": 11,
     "metadata": {},
     "output_type": "execute_result"
    }
   ],
   "source": [
    "# This funtion returns a nice df confusion matrix. Sklearn.metrics has it's own function but this is nicer.\n",
    "def getConfusionMatrix(df, y_truth, y_pred):\n",
    "    df = df.copy()\n",
    "    \n",
    "    labels = set(df[y_truth]).union(set(df[y_pred]))\n",
    "    \n",
    "    # create column of ones\n",
    "    df['ones'] = np.ones(len(df))\n",
    "    \n",
    "    # create pivoted df that shows truth vs predicted value counts\n",
    "    confmat = pd.pivot_table(df, values = 'ones', index=[y_truth], columns=[y_pred], aggfunc=np.sum, margins=True)\n",
    "    \n",
    "    return confmat\n",
    "\n",
    "confmat = getConfusionMatrix(iris,'target_name','pred_target_name')\n",
    "confmat"
   ]
  },
  {
   "cell_type": "markdown",
   "metadata": {},
   "source": [
    "The matrix rows contain the true label counts, and the columns show the predicted label counts. A perfect model would result in a diagonal matrix (non-zero counts along the diagonal, with zero everywhere else). "
   ]
  },
  {
   "cell_type": "markdown",
   "metadata": {
    "collapsed": true
   },
   "source": [
    "<a id='Measuring Multiclassification Error: Accuracy, TPR, and FPR'></a>\n",
    "## Measuring Multiclassification Error: Accuracy, TPR, and FPR\n"
   ]
  },
  {
   "cell_type": "markdown",
   "metadata": {},
   "source": [
    "### Overall Accuracy \n",
    "You can think of overall accuracy as the sum of the values along the diagonal in the confusion matrix, divided by the total record count:\n",
    "\n",
    "$$ Accuracy = \\frac{\\#\\ correct\\ predictions}{N} $$\n"
   ]
  },
  {
   "cell_type": "code",
   "execution_count": 12,
   "metadata": {
    "collapsed": false
   },
   "outputs": [
    {
     "data": {
      "text/plain": [
       "0.71333333333333337"
      ]
     },
     "execution_count": 12,
     "metadata": {},
     "output_type": "execute_result"
    }
   ],
   "source": [
    "accuracy = sk.metrics.accuracy_score(iris['target_name'],iris['pred_target_name'])\n",
    "accuracy"
   ]
  },
  {
   "cell_type": "markdown",
   "metadata": {},
   "source": [
    "### True Positive Rate & False Positive Rate\n",
    "Now we will calculate the True Positive Rate (TPR) and the False Postive Rate (FPR) for each class. If you look at the ROC curves earlier, you'll notice these are the 2 metrics on each axis. A TPR measures how many times a model correctly classifies a record as being part of a given class. A FPR measures how many times a model classifies a record as being a member of the given class, when in reality it is NOT a member of that class. A perfect model would have a TPR of 1.00 (100%) and a FPR of 0.00 (0%). In practice, there is usually a tradeoff between these 2 metrics. They can also be expressed as the equations below:\n",
    "\n",
    "$$ TPR_{ClassA} = \\frac{\\#\\ Records\\ Model\\ Classified\\ Correctly\\ as\\ Class\\ A}{\\#\\ of\\ Class\\ A\\ Records} = \\frac{\\#\\ True\\ Positives}{\\#\\ Positives} $$\n",
    "\n",
    "$$ FPR_{ClassA} = \\frac{\\#\\ Records\\ Model\\ Classified\\ INCORRECTLY\\ as\\ Class\\ A}{\\#\\ of\\ NOT\\ Class\\ A\\ Records} = \\frac{\\#\\ False\\ Positives}{\\#\\ Negatives} $$"
   ]
  },
  {
   "cell_type": "code",
   "execution_count": 13,
   "metadata": {
    "collapsed": false
   },
   "outputs": [
    {
     "data": {
      "text/html": [
       "<div>\n",
       "<table border=\"1\" class=\"dataframe\">\n",
       "  <thead>\n",
       "    <tr style=\"text-align: right;\">\n",
       "      <th></th>\n",
       "      <th>FPR</th>\n",
       "      <th>TPR</th>\n",
       "    </tr>\n",
       "  </thead>\n",
       "  <tbody>\n",
       "    <tr>\n",
       "      <th>setosa</th>\n",
       "      <td>0.06</td>\n",
       "      <td>0.72</td>\n",
       "    </tr>\n",
       "    <tr>\n",
       "      <th>versicolor</th>\n",
       "      <td>0.23</td>\n",
       "      <td>0.88</td>\n",
       "    </tr>\n",
       "    <tr>\n",
       "      <th>virginica</th>\n",
       "      <td>0.14</td>\n",
       "      <td>0.54</td>\n",
       "    </tr>\n",
       "  </tbody>\n",
       "</table>\n",
       "</div>"
      ],
      "text/plain": [
       "             FPR   TPR\n",
       "setosa      0.06  0.72\n",
       "versicolor  0.23  0.88\n",
       "virginica   0.14  0.54"
      ]
     },
     "execution_count": 13,
     "metadata": {},
     "output_type": "execute_result"
    }
   ],
   "source": [
    "# given a confusion matrix df, return a df of the TPR and FPR of each class\n",
    "def getTPRFPR(confusion_matrix_df):\n",
    "    \n",
    "    df = confusion_matrix_df.copy()\n",
    "    \n",
    "    # get target_names and remove \"All\"\n",
    "    target_names = list(df.index)\n",
    "    target_names.remove(\"All\")\n",
    "    \n",
    "    # take a subset of the confusion matrix, removing \"All\" rows/cols\n",
    "    df = df.loc[target_names,target_names]\n",
    "    \n",
    "    # create a dict to fill with other dictionaries of metrics for each label\n",
    "    label_metrics = {}\n",
    "\n",
    "    for label in target_names:\n",
    "        # add sub dictionary for metric\n",
    "        label_metrics[label] = {}\n",
    "\n",
    "        label_metrics[label][\"FPR\"] = sum(df.loc[((df.index!=label) ),label])/(sum(sum(df.values)) - sum(df.loc[label,target_names]))\n",
    "        label_metrics[label][\"TPR\"] = df.loc[label,label]/sum(df.loc[label,target_names])\n",
    "        \n",
    "    # make it into a nice dataframe for display\n",
    "    tprfpr_df = pd.DataFrame(label_metrics).transpose()\n",
    "    return tprfpr_df\n",
    "\n",
    "getTPRFPR(confmat)"
   ]
  },
  {
   "cell_type": "markdown",
   "metadata": {
    "collapsed": true
   },
   "source": [
    "Not bad! Looks like our TPRs are relatively high yet our FPRs are relatively low.\n",
    "\n",
    "<a id='Conclusion'></a>\n",
    "## Conclusion\n",
    "Although this Iris dataset is not necessarily the ideal usage of a model ensemble using MMOC, my objective was to convey the methodology as simply as possible. This model ensemble framework can be greatly extended with other several other important data science techniques that were purposely glossed over in this tutorial (visualization, feature selection, cross validation, etc). \n",
    "\n",
    "For additional background on other aspects of data science, a terrific resource is the website for [Carnegie Mellon University's 15-688 Practical Data Science Course](http://www.datasciencecourse.org/). Hope you enjoyed my tutorial!\n",
    "\n",
    "Written by:\n",
    "\n",
    "**Emilio Esposito ([LinkedIn](https://www.linkedin.com/in/emilioespositousa) | [Portfolio](https://eesposito.com/) | [GitHub](https://github.com/EmilioEsposito))**"
   ]
  }
 ],
 "metadata": {
  "anaconda-cloud": {},
  "kernelspec": {
   "display_name": "Python [default]",
   "language": "python",
   "name": "python2"
  },
  "language_info": {
   "codemirror_mode": {
    "name": "ipython",
    "version": 2
   },
   "file_extension": ".py",
   "mimetype": "text/x-python",
   "name": "python",
   "nbconvert_exporter": "python",
   "pygments_lexer": "ipython2",
   "version": "2.7.12"
  }
 },
 "nbformat": 4,
 "nbformat_minor": 0
}
