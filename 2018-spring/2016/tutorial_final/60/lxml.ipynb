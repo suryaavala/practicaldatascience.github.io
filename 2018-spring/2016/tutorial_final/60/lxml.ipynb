{
 "cells": [
  {
   "cell_type": "markdown",
   "metadata": {
    "collapsed": true
   },
   "source": [
    "# Introduction\n",
    "In homework 1, we were required to implement a simple parser for XML file. However, in the real world, there are more mature libraries to achieve this goal. This tutorial introduces lxml — a powerful library for processing XML and HTML files in Python. It provides a native python API. Also, it‘s really easy to use because you don't need to manually manage the memory.\n",
    "\n",
    "First, let's take a quick look at XML and HTML files.\n",
    "\n",
    "\n",
    "## XML File\n",
    "Extensible Markup Language (XML) is a markup language that defines a set of rules for encoding documents in a format that is both human-readable and machine-readable.\n",
    "\n",
    "The application of XML is quite comprehensive. Although the design goals of XML focuses on textual data format in unicode. This language is still widely used for the representation of arbitrary data structures such as those used in web services.\n",
    "\n",
    "## HTML File\n",
    "HyperText Markup Language (HTML) is the standard markup language for creating web pages and web applications. With Cascading Style Sheets (CSS), and JavaScript, it forms a triad of cornerstone technologies for the World Wide Web.\n",
    "\n",
    "## Tutorial Content\n",
    "\n",
    "* [Install lxml](#Install-lxml)\n",
    "* [Parse XML document](#Parse-XML-document)\n",
    " * [Output the XML document](#Output-the-XML-document)\n",
    " * [Access to tag and attributes](#Access-to-tag-and-attributes)\n",
    " * [Traversing child nodes](#Traversing-child-nodes)\n",
    " * [Access to parent node and sibling nodes](#Access-to-parent-node-and-sibling-nodes)\n",
    " * [Access to text](#Access-to-text)\n",
    " * [Search tag](#Search-tag)\n",
    " * [Tree iteration](#Tree-iteration)\n",
    "* [Parse HTML document](#Parse-HTML-document)\n",
    "* [Simple Example : Extract CD Information](#Simple-Example-:-Extract-CD-Information)\n",
    "* [Complex Example: W3C.xml](#Complex-Example:-W3C.xml)\n",
    "* [Further resources](#Further-resources)"
   ]
  },
  {
   "cell_type": "markdown",
   "metadata": {},
   "source": [
    "## Install lxml\n",
    "There are several ways to install lxml. The simplest one is through `pip`.\n",
    "\n",
    "\t$ pip install lxml\n",
    "\n",
    "Also, you can specify the version to install.\n",
    "\n",
    "\t$ pip install lxml==3.4.2\n",
    "\t\n",
    "Since lxml is open source, you can manually download the code and build it. Click [Here](http://lxml.de/build.html) for more information.\n",
    "\n",
    "After installing, execute the following import statement."
   ]
  },
  {
   "cell_type": "code",
   "execution_count": 1,
   "metadata": {
    "collapsed": true
   },
   "outputs": [],
   "source": [
    "from lxml import etree"
   ]
  },
  {
   "cell_type": "markdown",
   "metadata": {},
   "source": [
    "## Parse XML document\n",
    "\n",
    "Here is an example of an XML document.\n",
    "\n",
    "\t<?xml version=\"1.0\" encoding=\"UTF-8\"?>\n",
    "\t<!-- This is a comment -->\n",
    "\t<note date=\"8/31/12\">\n",
    "    <to>Tove</to>\n",
    "    <from>Jani</from>\n",
    "    <heading type=\"Reminder\"/>\n",
    "    <body>Don't forget me this weekend!</body>\n",
    "    <!-- This is a multiline comment, which take a bit of care to parse -->\n",
    "\t</note>\n",
    "\n",
    "If you did homework1, you may find it looks familiar :-)\n",
    "\n"
   ]
  },
  {
   "cell_type": "markdown",
   "metadata": {},
   "source": [
    "The `parse()` function takes a file-like object as the input and returns a `lxml.etree._ElementTree` object. This object contains all the information of the XML document in a tree-based structure.\n",
    "\n",
    "`xml_version`, `encoding` and other document information can be accessed by the attributes of this object."
   ]
  },
  {
   "cell_type": "code",
   "execution_count": 2,
   "metadata": {
    "collapsed": false
   },
   "outputs": [
    {
     "name": "stdout",
     "output_type": "stream",
     "text": [
      "<type 'lxml.etree._ElementTree'>\n",
      "1.0\n",
      "UTF-8\n"
     ]
    }
   ],
   "source": [
    "import io\n",
    "document = '''<?xml version=\"1.0\" encoding=\"UTF-8\"?><!-- This is a comment --><note date=\"8/31/12\"><to>Tove</to><from>Jani</from><heading type=\"Reminder\"/><body>Don't forget me this weekend!</body><!-- This is a multiline comment, which take a bit of care to parse --></note>'''\n",
    "tree = etree.parse(io.BytesIO(document))\n",
    "print type(tree)\n",
    "print tree.docinfo.xml_version\n",
    "print tree.docinfo.encoding"
   ]
  },
  {
   "cell_type": "markdown",
   "metadata": {},
   "source": [
    "As shown below, you can use the `getroot()` function to get the root node of this tree stucture. Every node in this tree is a `lxml.etree._Element` object."
   ]
  },
  {
   "cell_type": "code",
   "execution_count": 3,
   "metadata": {
    "collapsed": false
   },
   "outputs": [
    {
     "name": "stdout",
     "output_type": "stream",
     "text": [
      "<type 'lxml.etree._Element'>\n"
     ]
    }
   ],
   "source": [
    "root = tree.getroot()\n",
    "print type(root)"
   ]
  },
  {
   "cell_type": "markdown",
   "metadata": {},
   "source": [
    "### Output the XML document\n",
    "The `etree.tostring()` function converts a `lxml.etree._Element` object to a string. Note that with the `pretty_print` argument set, the function generates output in a more readable way.\n",
    "\n",
    "Also, you can speicify the `method` argument to set the output format, either `html` or `xml`."
   ]
  },
  {
   "cell_type": "code",
   "execution_count": 4,
   "metadata": {
    "collapsed": false
   },
   "outputs": [
    {
     "name": "stdout",
     "output_type": "stream",
     "text": [
      "<note date=\"8/31/12\"><to>Tove</to><from>Jani</from><heading type=\"Reminder\"/><body>Don't forget me this weekend!</body><!-- This is a multiline comment, which take a bit of care to parse --></note>\n",
      "<note date=\"8/31/12\">\n",
      "  <to>Tove</to>\n",
      "  <from>Jani</from>\n",
      "  <heading type=\"Reminder\"/>\n",
      "  <body>Don't forget me this weekend!</body>\n",
      "  <!-- This is a multiline comment, which take a bit of care to parse -->\n",
      "</note>\n",
      "\n",
      "<note date=\"8/31/12\"><to>Tove</to><from>Jani</from><heading type=\"Reminder\"/><body>Don't forget me this weekend!</body><!-- This is a multiline comment, which take a bit of care to parse --></note>\n",
      "<note date=\"8/31/12\"><to>Tove</to><from>Jani</from><heading type=\"Reminder\"></heading><body>Don't forget me this weekend!</body><!-- This is a multiline comment, which take a bit of care to parse --></note>\n"
     ]
    }
   ],
   "source": [
    "print etree.tostring(root)\n",
    "\n",
    "# set the pretty_print argument\n",
    "print etree.tostring(root, pretty_print=True)\n",
    "\n",
    "# output in xml format\n",
    "print etree.tostring(root, method='xml')\n",
    "\n",
    "# output in html format\n",
    "print etree.tostring(root, method='html')"
   ]
  },
  {
   "cell_type": "markdown",
   "metadata": {},
   "source": [
    "### Access to tag and attributes\n",
    "There are several useful functions to access tag and attributes of a node, including getting the content and creating new attributes."
   ]
  },
  {
   "cell_type": "code",
   "execution_count": 5,
   "metadata": {
    "collapsed": false
   },
   "outputs": [
    {
     "name": "stdout",
     "output_type": "stream",
     "text": [
      "note\n",
      "8/31/12 \n",
      "\n",
      "value \n",
      "\n",
      "date 8/31/12\n",
      "new_attribute value\n",
      "\n",
      "\n",
      "date 8/31/12\n",
      "new_attribute value\n"
     ]
    }
   ],
   "source": [
    "print root.tag\n",
    "\n",
    "# to get one attribute\n",
    "print root.get(\"date\"), '\\n'\n",
    "\n",
    "# to set another attribute\n",
    "root.set(\"new_attribute\", \"value\")\n",
    "print root.get(\"new_attribute\"), '\\n'\n",
    "\n",
    "# iterate attributes\n",
    "for key, value in root.items():\n",
    "    print key, value\n",
    "print '\\n'\n",
    "    \n",
    "# another way to iterate attributes\n",
    "for key in root.attrib:\n",
    "    print key, root.attrib[key]"
   ]
  },
  {
   "cell_type": "markdown",
   "metadata": {},
   "source": [
    "### Traversing child nodes\n",
    "Traversing through child nodes is extremely easy using lxml. Every node is a list-like object - the elements in this list are the child nodes which are also `lxml.etree._Element` objects. It supports every operatons of a python list, like iterating or slicing."
   ]
  },
  {
   "cell_type": "code",
   "execution_count": 6,
   "metadata": {
    "collapsed": false
   },
   "outputs": [
    {
     "name": "stdout",
     "output_type": "stream",
     "text": [
      "5\n",
      "<type 'lxml.etree._Element'>\n",
      "<type 'lxml.etree._Element'>\n",
      "<type 'lxml.etree._Element'>\n",
      "<type 'lxml.etree._Element'>\n",
      "<type 'lxml.etree._Comment'>\n",
      "to\n",
      "from\n",
      "heading\n",
      "body\n"
     ]
    }
   ],
   "source": [
    "print len(root)\n",
    "\n",
    "# print the type of each child\n",
    "for child in root:\n",
    "    print type(child)\n",
    "    \n",
    "# note the last one is comment, which is according to our XML document\n",
    "# then print the tag of each child node\n",
    "for child in root[:-1]:\n",
    "    print child.tag"
   ]
  },
  {
   "cell_type": "markdown",
   "metadata": {},
   "source": [
    "### Access to parent node and sibling nodes\n",
    "\n",
    "Navigating through the tree requires accessing the parent node. lxml supports the `getparent()` function to find the parent node of current node. Also, lxml supports `getprivous()`, `getnext()` to get the sibling nodes.\n",
    "\n",
    "Now, with access to the parent node and child nodes, navigation is much easier."
   ]
  },
  {
   "cell_type": "code",
   "execution_count": 7,
   "metadata": {
    "collapsed": false
   },
   "outputs": [
    {
     "name": "stdout",
     "output_type": "stream",
     "text": [
      "True\n",
      "<Element note at 0x1044bef80>\n",
      "True\n"
     ]
    }
   ],
   "source": [
    "# find the first and second child of root\n",
    "child1 = root[0]\n",
    "child2 = child1.getnext()\n",
    "print child2.getprevious() is child1\n",
    "\n",
    "# get the parent node of the first child\n",
    "print root[0].getparent()\n",
    "\n",
    "# check if they are the same object\n",
    "print root is root[0].getparent()"
   ]
  },
  {
   "cell_type": "markdown",
   "metadata": {},
   "source": [
    "### Access to text\n",
    "Sometimes, nodes contain text. You can easily extract the text by `text` attribute."
   ]
  },
  {
   "cell_type": "code",
   "execution_count": 8,
   "metadata": {
    "collapsed": false
   },
   "outputs": [
    {
     "name": "stdout",
     "output_type": "stream",
     "text": [
      "Tove\n",
      "Jani\n",
      "None\n",
      "Don't forget me this weekend!\n"
     ]
    }
   ],
   "source": [
    "for child in root[:-1]:\n",
    "    print child.text"
   ]
  },
  {
   "cell_type": "markdown",
   "metadata": {},
   "source": [
    "`xpath()` function is useful when you want to extract all the text (including the text in the child nodes). By specifying the argument, you can get a list or a concatenated string."
   ]
  },
  {
   "cell_type": "code",
   "execution_count": 9,
   "metadata": {
    "collapsed": false
   },
   "outputs": [
    {
     "name": "stdout",
     "output_type": "stream",
     "text": [
      "['Tove', 'Jani', \"Don't forget me this weekend!\"]\n",
      "ToveJaniDon't forget me this weekend!\n"
     ]
    }
   ],
   "source": [
    "# to get a list\n",
    "print root.xpath(\"//text()\")\n",
    "\n",
    "# to get a string\n",
    "print root.xpath(\"string()\")"
   ]
  },
  {
   "cell_type": "markdown",
   "metadata": {},
   "source": [
    "### Search tag\n",
    "Sometimes you are interested in some particular tags. `find()` and `findall()` are extremely useful here. Below examples shows how to use them respectively."
   ]
  },
  {
   "cell_type": "code",
   "execution_count": 10,
   "metadata": {
    "collapsed": false
   },
   "outputs": [
    {
     "name": "stdout",
     "output_type": "stream",
     "text": [
      "Reminder\n",
      "Don't forget me this weekend!\n",
      "\n",
      "<root>\n",
      "  <a>Text1</a>\n",
      "  <a>Text2</a>\n",
      "  <a>Text3</a>\n",
      "</root>\n",
      "\n",
      "Text1\n",
      "Text2\n",
      "Text3\n",
      "<root>\n",
      "  <a1>\n",
      "    <b>in a1</b>\n",
      "  </a1>\n",
      "  <a2>\n",
      "    <b>in a2</b>\n",
      "  </a2>\n",
      "  <a3>\n",
      "    <b>in a3</b>\n",
      "  </a3>\n",
      "</root>\n",
      "\n",
      "0\n",
      "3\n"
     ]
    }
   ],
   "source": [
    "# print the type of heading\n",
    "print root.find('heading').get('type')\n",
    "\n",
    "# print the text of body\n",
    "print root.find('body').text\n",
    "\n",
    "print ''\n",
    "\n",
    "# If there are multiple tags, findAll can search them all\n",
    "temp = etree.XML(\"<root><a>Text1</a><a>Text2</a><a>Text3</a></root>\")\n",
    "print etree.tostring(temp, pretty_print=True)\n",
    "for node in temp.findall('a'):\n",
    "    print node.text\n",
    "\n",
    "# use xpath can find tag recursively\n",
    "temp = etree.XML(\"<root><a1><b>in a1</b></a1><a2><b>in a2</b></a2><a3><b>in a3</b></a3></root>\")\n",
    "print etree.tostring(temp, pretty_print=True)\n",
    "\n",
    "# note below function call return 0, you need to use xpath here!\n",
    "print len(temp.findall('b'))\n",
    "\n",
    "print len(temp.findall('.//b'))"
   ]
  },
  {
   "cell_type": "markdown",
   "metadata": {},
   "source": [
    "### Tree iteration\n",
    "If you want to recursively traverse the whole tree, you can use the `iter()` function. The function returns a iterator for the tree. The order is the same as the results of DFS.\n",
    "\n",
    "If you are only interested in some of the elements, you can pass the names to the function. It automatically filters the result."
   ]
  },
  {
   "cell_type": "code",
   "execution_count": 11,
   "metadata": {
    "collapsed": false
   },
   "outputs": [
    {
     "name": "stdout",
     "output_type": "stream",
     "text": [
      "note None\n",
      "to Tove\n",
      "from Jani\n",
      "heading None\n",
      "body Don't forget me this weekend!\n",
      "<cyfunction Comment at 0x1044c1110>  This is a multiline comment, which take a bit of care to parse \n",
      "\n",
      "body Don't forget me this weekend!\n"
     ]
    }
   ],
   "source": [
    "# iterate the whole tree, note the comment doesn't have a tag, it only has text.\n",
    "for node in root.iter():\n",
    "    print node.tag, node.text\n",
    "    \n",
    "print ''\n",
    "\n",
    "# only intested in the body part\n",
    "for node in root.iter(\"body\"):\n",
    "    print node.tag, node.text"
   ]
  },
  {
   "cell_type": "markdown",
   "metadata": {},
   "source": [
    "There are other useful functions to traverse the tree if we are given a node in the tree. See the examples below.\n",
    "\n",
    "Suppose the XML document look like this:  `<root><a/><b/><c><d/><e/></c></root>`"
   ]
  },
  {
   "cell_type": "code",
   "execution_count": 12,
   "metadata": {
    "collapsed": false
   },
   "outputs": [
    {
     "name": "stdout",
     "output_type": "stream",
     "text": [
      "<root>\n",
      "  <a/>\n",
      "  <b/>\n",
      "  <c>\n",
      "    <d/>\n",
      "    <e/>\n",
      "  </c>\n",
      "</root>\n",
      "\n",
      "b\n",
      "c\n",
      "\n",
      "c\n",
      "root\n",
      "\n"
     ]
    }
   ],
   "source": [
    "r = etree.fromstring(\"<root><a/><b/><c><d/><e/></c></root>\")\n",
    "print etree.tostring(r, pretty_print=True)\n",
    "a = r[0]\n",
    "e = r[2][1]\n",
    "\n",
    "# given a, traverse the siblings of a\n",
    "for sibling in a.itersiblings():\n",
    "    print sibling.tag\n",
    "print ''\n",
    "\n",
    "# given e, traverse the ancesters\n",
    "for ancestor in e.iterancestors():\n",
    "    print ancestor.tag\n",
    "print ''"
   ]
  },
  {
   "cell_type": "markdown",
   "metadata": {},
   "source": [
    "## Modify existing XML document\n",
    "\n",
    "Nowadays, configuration files are often in XML format. Therefore, being able to modify existing XML documents is of high demand.\n",
    "\n",
    "In this section, we will modify our previous example. We need to learn how to create new nodes, add new nodes to existing XML documents and modify attributes, text or tag of current XML document nodes.\n",
    "\n",
    "To create a new node, we only need to create a `lxml.etree._Element` object. \n",
    "\n",
    "Suppose its tag is \"newEle\", its attributes is \"attr=1\", its text is \"text!\". So it should look like  `<newEle attr=\"1\">text!</newEle>`"
   ]
  },
  {
   "cell_type": "code",
   "execution_count": 13,
   "metadata": {
    "collapsed": false
   },
   "outputs": [
    {
     "name": "stdout",
     "output_type": "stream",
     "text": [
      "<newEle attr=\"1\">text!</newEle>\n"
     ]
    }
   ],
   "source": [
    "ele = etree.Element(\"newEle\")\n",
    "ele.set(\"attr\", \"1\")\n",
    "ele.text = \"text!\"\n",
    "print etree.tostring(ele)"
   ]
  },
  {
   "cell_type": "markdown",
   "metadata": {},
   "source": [
    "There are two ways to add a node to existing XML document.\n",
    "\n",
    "First, as mentioned before, the node is a list-like object, so you can use `append()` to insert in the end or `insert()` to specify a insert location.\n",
    "\n",
    "Second, lxml provides a `etree.SubElement()` function to add a new node to a current node."
   ]
  },
  {
   "cell_type": "code",
   "execution_count": 14,
   "metadata": {
    "collapsed": false
   },
   "outputs": [
    {
     "name": "stdout",
     "output_type": "stream",
     "text": [
      "Before add, 5\n",
      "After add, 6\n",
      "Before add, 6\n",
      "After add, 7\n",
      "to\n",
      "from\n",
      "heading\n",
      "body\n",
      "<cyfunction Comment at 0x1044c1110>\n",
      "newEle\n",
      "newEle2\n"
     ]
    }
   ],
   "source": [
    "# method 1\n",
    "print \"Before add,\", len(root)\n",
    "root.append(ele)\n",
    "print \"After add,\", len(root)\n",
    "\n",
    "# method 2\n",
    "print \"Before add,\", len(root)\n",
    "etree.SubElement(root, \"newEle2\")\n",
    "print \"After add,\", len(root)\n",
    "\n",
    "# print current child of root\n",
    "# note the comment doesn't have a tag\n",
    "for node in root:\n",
    "    print node.tag"
   ]
  },
  {
   "cell_type": "markdown",
   "metadata": {},
   "source": [
    "## Parse HTML document\n",
    "\n",
    "Parsing HTML document and XML document are similar. You just need to provide an additional `HTML parser` to the same `parse()` function.\n",
    "\n",
    "The HTML parser can be created by the following code.\n",
    "\n",
    "    parser = etree.HTMLParser()\n",
    "\n",
    "The return of `parse()` is also a `lxml.etree._ElementTree` object, which means the operations are same to XML document.\n",
    "\n",
    "Note that if the HTML is poorly formatted, the `parse()` function won't throw an exception. Instead, it will fill the vacancy of missing tags."
   ]
  },
  {
   "cell_type": "code",
   "execution_count": 15,
   "metadata": {
    "collapsed": false
   },
   "outputs": [
    {
     "name": "stdout",
     "output_type": "stream",
     "text": [
      "<type 'lxml.etree._ElementTree'>\n",
      "<!DOCTYPE html PUBLIC \"-//W3C//DTD HTML 4.0 Transitional//EN\" \"http://www.w3.org/TR/REC-html40/loose.dtd\">\n",
      "<html>\n",
      "<head>\n",
      "<title>This is title.</title>\n",
      "</head>\n",
      "<body bgcolor=\"FFFFFF\">\n",
      "<a href=\"http://somegreatsite.com\">Link Name</a>is a link to another nifty site\n",
      "<h1>This is a Header</h1>\n",
      "<h2>This is a Medium Header</h2>\n",
      "</body>\n",
      "</html>\n",
      "\n"
     ]
    }
   ],
   "source": [
    "parser = etree.HTMLParser()\n",
    "HTML='''<HTML>\n",
    "<HEAD>\n",
    "<TITLE>This is title.</TITLE>\n",
    "</HEAD>\n",
    "<BODY BGCOLOR=\"FFFFFF\">\n",
    "<a href=\"http://somegreatsite.com\">Link Name</a>is a link to another nifty site\n",
    "<H1>This is a Header</H1>\n",
    "<H2>This is a Medium Header</H2>\n",
    "</BODY>\n",
    "</HTML>'''\n",
    "tree = etree.parse(io.BytesIO(HTML), parser)\n",
    "print type(tree)\n",
    "\n",
    "# Here you can do everything like before, such as navigating, modifying nodes\n",
    "\n",
    "print etree.tostring(tree, method='HTML', pretty_print=True)"
   ]
  },
  {
   "cell_type": "markdown",
   "metadata": {},
   "source": [
    "Here is an example of a poorly formatted HTML file. The corresponding tag of `<H2>` is `</H3>`. And the parser change it to the correct `</H2>`."
   ]
  },
  {
   "cell_type": "code",
   "execution_count": 16,
   "metadata": {
    "collapsed": false
   },
   "outputs": [
    {
     "name": "stdout",
     "output_type": "stream",
     "text": [
      "<!DOCTYPE html PUBLIC \"-//W3C//DTD HTML 4.0 Transitional//EN\" \"http://www.w3.org/TR/REC-html40/loose.dtd\">\n",
      "<html>\n",
      "<body>\n",
      "<h2>\n",
      "</h2>\n",
      "</body>\n",
      "</html>\n",
      "\n"
     ]
    }
   ],
   "source": [
    "parser = etree.HTMLParser()\n",
    "HTML='''<HTML>\n",
    "<BODY>\n",
    "<H2></H3>\n",
    "</BODY>\n",
    "</HTML>'''\n",
    "tree = etree.parse(io.BytesIO(HTML), parser)\n",
    "print etree.tostring(tree, method='HTML', pretty_print=True)"
   ]
  },
  {
   "cell_type": "markdown",
   "metadata": {},
   "source": [
    "## Simple Example : Extract CD Information\n",
    "\n",
    "`http://www.xmlfiles.com/examples/cd_catalog.xml`\n",
    "\n",
    "The above URL is an XML file. It contains information of several CDs. Please write a function to extract the title, artist, country, company, price and year for each CD.\n",
    "\n",
    "Specification:\n",
    "* Your function should take the above URL and return a list of tuple, the order is specified in the comment below\n"
   ]
  },
  {
   "cell_type": "code",
   "execution_count": 17,
   "metadata": {
    "collapsed": false
   },
   "outputs": [
    {
     "data": {
      "text/plain": [
       "[('Empire Burlesque', 'Bob Dylan', 'USA', 'Columbia', '10.90', '1985'),\n",
       " ('Hide your heart', 'Bonnie Tylor', 'UK', 'CBS Records', '9.90', '1988'),\n",
       " ('Greatest Hits', 'Dolly Parton', 'USA', 'RCA', '9.90', '1982'),\n",
       " ('Still got the blues', 'Gary More', 'UK', 'Virgin redords', '10.20', '1990'),\n",
       " ('Eros', 'Eros Ramazzotti', 'EU', 'BMG', '9.90', '1997'),\n",
       " ('One night only', 'Bee Gees', 'UK', 'Polydor', '10.90', '1998'),\n",
       " ('Sylvias Mother', 'Dr.Hook', 'UK', 'CBS', '8.10', '1973'),\n",
       " ('Maggie May', 'Rod Stewart', 'UK', 'Pickwick', '8.50', '1990'),\n",
       " ('Romanza', 'Andrea Bocelli', 'EU', 'Polydor', '10.80', '1996'),\n",
       " ('When a man loves a woman',\n",
       "  'Percy Sledge',\n",
       "  'USA',\n",
       "  'Atlantic',\n",
       "  '8.70',\n",
       "  '1987'),\n",
       " ('Black angel', 'Savage Rose', 'EU', 'Mega', '10.90', '1995'),\n",
       " ('1999 Grammy Nominees', 'Many', 'USA', 'Grammy', '10.20', '1999'),\n",
       " ('For the good times', 'Kenny Rogers', 'UK', 'Mucik Master', '8.70', '1995'),\n",
       " ('Big Willie style', 'Will Smith', 'USA', 'Columbia', '9.90', '1997'),\n",
       " ('Tupelo Honey', 'Van Morrison', 'UK', 'Polydor', '8.20', '1971'),\n",
       " ('Soulsville', 'Jorn Hoel', 'Norway', 'WEA', '7.90', '1996'),\n",
       " ('The very best of', 'Cat Stevens', 'UK', 'Island', '8.90', '1990'),\n",
       " ('Stop', 'Sam Brown', 'UK', 'A and M', '8.90', '1988'),\n",
       " ('Bridge of Spies', 'T`Pau', 'UK', 'Siren', '7.90', '1987'),\n",
       " ('Private Dancer', 'Tina Turner', 'UK', 'Capitol', '8.90', '1983'),\n",
       " ('Midt om natten', 'Kim Larsen', 'EU', 'Medley', '7.80', '1983'),\n",
       " ('Pavarotti Gala Concert',\n",
       "  'Luciano Pavarotti',\n",
       "  'UK',\n",
       "  'DECCA',\n",
       "  '9.90',\n",
       "  '1991'),\n",
       " ('The dock of the bay', 'Otis Redding', 'USA', 'Atlantic', '7.90', '1987'),\n",
       " ('Picture book', 'Simply Red', 'EU', 'Elektra', '7.20', '1985'),\n",
       " ('Red', 'The Communards', 'UK', 'London', '7.80', '1987'),\n",
       " ('Unchain my heart', 'Joe Cocker', 'USA', 'EMI', '8.20', '1987')]"
      ]
     },
     "execution_count": 17,
     "metadata": {},
     "output_type": "execute_result"
    }
   ],
   "source": [
    "import urllib\n",
    "def extract_CD_Information(url):\n",
    "    '''\n",
    "    Argument:\n",
    "        url (strint): the XML file location\n",
    "    Returns:\n",
    "        CDs (list) : it's a list of tuple, each tuple should contain the information of a CD, it should be like\n",
    "                     (title, artist, country, company, price, year)\n",
    "    '''\n",
    "    xml = urllib.urlopen(url)\n",
    "    root = etree.parse(xml).getroot()\n",
    "    CDs = []\n",
    "    for CD in root:\n",
    "        cd = [info.text for info in CD]\n",
    "        CDs.append(tuple(cd))\n",
    "    return CDs\n",
    "\n",
    "extract_CD_Information('http://www.xmlfiles.com/examples/cd_catalog.xml')\n"
   ]
  },
  {
   "cell_type": "markdown",
   "metadata": {},
   "source": [
    "## Complex Example: W3C.xml\n",
    "The file named `W3C.xml` is a XML specification presented by W3C. This file includs numerous information of this document and also XML specifications. Please use `lxml` to finish below tasks.\n",
    "\n",
    "Specification:\n",
    "* In findAuthors, you need to find all authors of this document and return a list of tuple(author_name, affiliation, email). If some information is not listed, leave it with None.\n",
    "* I am curious about the design goal of XML. Can you help me find all the degisn goals? (Please return a list of str)\n",
    "* There are so many new terms in this document. Can you give me the definition of all the terms? (Please return a dict)\n",
    "* I forget the form of comment in xml file. But this document includes the format. Can you help me find the format? (Please return a str)\n",
    "\n",
    "Hint:\n",
    "* Please open this `W3C.xml`. It's a complex file. You need to carefully observe the structure, tag and text. The code is short, but you need to take some time to find the right tag."
   ]
  },
  {
   "cell_type": "code",
   "execution_count": 18,
   "metadata": {
    "collapsed": false
   },
   "outputs": [],
   "source": [
    "w3c = open('W3C.xml', 'r')\n",
    "root = etree.parse(w3c).getroot()"
   ]
  },
  {
   "cell_type": "code",
   "execution_count": 19,
   "metadata": {
    "collapsed": false
   },
   "outputs": [
    {
     "data": {
      "text/plain": [
       "[('Tim Bray', 'Textuality and Netscape', 'tbray@textuality.com'),\n",
       " ('Jean Paoli', 'Microsoft', 'jeanpa@microsoft.com'),\n",
       " ('C. M. Sperberg-McQueen', 'W3C', 'cmsmcq@w3.org'),\n",
       " ('Eve Maler', 'Sun Microsystems, Inc.', 'eve.maler@east.sun.com'),\n",
       " (u'Fran\\xe7ois Yergeau', None, None)]"
      ]
     },
     "execution_count": 19,
     "metadata": {},
     "output_type": "execute_result"
    }
   ],
   "source": [
    "def findAuthors(root):\n",
    "    res = []\n",
    "    for author in root.find('.//authlist'):\n",
    "        name = author.find('name')\n",
    "        if name is not None:\n",
    "            name = name.text\n",
    "        aff = author.find('affiliation')\n",
    "        if aff is not None:\n",
    "            aff = aff.text\n",
    "        email = author.find('email')\n",
    "        if email is not None:\n",
    "            email = email.text\n",
    "        res.append((name, aff, email))\n",
    "    return res\n",
    "\n",
    "findAuthors(root)"
   ]
  },
  {
   "cell_type": "code",
   "execution_count": 20,
   "metadata": {
    "collapsed": false
   },
   "outputs": [
    {
     "data": {
      "text/plain": [
       "['XML shall be straightforwardly usable over the Internet.',\n",
       " 'XML shall support a wide variety of applications.',\n",
       " 'XML shall be compatible with SGML.',\n",
       " 'It shall be easy to write programs which process XML documents.',\n",
       " 'The number of optional features in XML is to be kept to the absolute\\nminimum, ideally zero.',\n",
       " 'XML documents should be human-legible and reasonably clear.',\n",
       " 'The XML design should be prepared quickly.',\n",
       " 'The design of XML shall be formal and concise.',\n",
       " 'XML documents shall be easy to create.',\n",
       " 'Terseness in XML markup is of minimal importance.']"
      ]
     },
     "execution_count": 20,
     "metadata": {},
     "output_type": "execute_result"
    }
   ],
   "source": [
    "def findDesignGoals(root):\n",
    "    res = []\n",
    "    olist = root.xpath(\"//div2[@id='sec-origin-goals']/olist\")\n",
    "    for item in olist[0]:\n",
    "        res.append(item[0].text)\n",
    "    return res\n",
    "\n",
    "findDesignGoals(root)"
   ]
  },
  {
   "cell_type": "code",
   "execution_count": 21,
   "metadata": {
    "collapsed": false
   },
   "outputs": [
    {
     "data": {
      "text/plain": [
       "{'At user option': 'Conforming software',\n",
       " 'Error': 'A violation of the rules of this specification;\\nresults are undefined. Unless otherwise specified, failure to observe a prescription of this specification indicated by one of the keywords',\n",
       " 'Fatal Error': 'An error which a conforming',\n",
       " 'For Compatibility': 'Marks\\na sentence describing a feature of XML included solely to ensure\\nthat XML remains compatible with SGML.',\n",
       " 'For interoperability': 'Marks\\na sentence describing a non-binding recommendation included to increase\\nthe chances that XML documents can be processed by the existing installed\\nbase of SGML processors which predate the WebSGML Adaptations Annex to ISO 8879.',\n",
       " 'Validity constraint': 'A rule which applies to\\nall',\n",
       " 'Well-formedness constraint': 'A rule which applies\\nto all',\n",
       " 'match': '(Of strings or names:) Two strings\\nor names being compared are identical. Characters with multiple possible\\nrepresentations in ISO/IEC 10646 (e.g. characters with both precomposed and\\nbase+diacritic forms) match only if they have the same representation in both\\nstrings. No\\ncase folding is performed. (Of strings and rules in the grammar:) A string\\nmatches a grammatical production if it belongs to the language generated by\\nthat production. (Of content and content models:) An element matches its declaration\\nwhen it conforms in the fashion described in the constraint'}"
      ]
     },
     "execution_count": 21,
     "metadata": {},
     "output_type": "execute_result"
    }
   ],
   "source": [
    "def definition_of_terms(root):\n",
    "    res = {}\n",
    "    div2 = root.xpath(\"//div2[@id='sec-terminology']\")\n",
    "    for item in div2[0][1][-1]:\n",
    "        term = item.find('def')[0][0]\n",
    "        key = term.get('term')\n",
    "        value = term.text.strip()\n",
    "        res[key] = value\n",
    "    return res\n",
    "\n",
    "definition_of_terms(root)"
   ]
  },
  {
   "cell_type": "code",
   "execution_count": 22,
   "metadata": {
    "collapsed": false
   },
   "outputs": [
    {
     "data": {
      "text/plain": [
       "\"'<!--' ((Char - '-') | ('-'(Char - '-')))* '-->'\""
      ]
     },
     "execution_count": 22,
     "metadata": {},
     "output_type": "execute_result"
    }
   ],
   "source": [
    "def find_comment_form(root):\n",
    "    div2 = root.xpath(\"//div2[@id='sec-comments']\")\n",
    "    return div2[0].find('scrap').find('prod').find('rhs').xpath(\"string()\").replace('\\n', \"\")\n",
    "    \n",
    "find_comment_form(root)"
   ]
  },
  {
   "cell_type": "markdown",
   "metadata": {},
   "source": [
    "## Further resources\n",
    "\n",
    "There are a lot of details in XML standard. If you are interested in it, you can see the `W3C.xml` file in the above example.\n",
    "\n",
    "Also, the [XML offcial site](http://lxml.de/index.html) provides more tutorials and API documents for your reference.\n",
    "\n",
    "Finally, [W3school](http://www.w3schools.com/xml/) has also a series of greate tutorials for XML including basic knowledge like tags, text as well as advanced topics like validation."
   ]
  },
  {
   "cell_type": "markdown",
   "metadata": {},
   "source": [
    "## References\n",
    "* https://en.wikipedia.org/wiki/XML\n",
    "* https://en.wikipedia.org/wiki/HTML\n",
    "* http://lxml.de/index.html"
   ]
  }
 ],
 "metadata": {
  "kernelspec": {
   "display_name": "Python [Root]",
   "language": "python",
   "name": "Python [Root]"
  },
  "language_info": {
   "codemirror_mode": {
    "name": "ipython",
    "version": 2
   },
   "file_extension": ".py",
   "mimetype": "text/x-python",
   "name": "python",
   "nbconvert_exporter": "python",
   "pygments_lexer": "ipython2",
   "version": "2.7.12"
  }
 },
 "nbformat": 4,
 "nbformat_minor": 0
}
