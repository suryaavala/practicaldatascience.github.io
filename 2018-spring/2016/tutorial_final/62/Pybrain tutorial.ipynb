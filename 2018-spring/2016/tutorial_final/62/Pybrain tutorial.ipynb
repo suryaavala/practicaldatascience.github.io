{
 "cells": [
  {
   "cell_type": "markdown",
   "metadata": {},
   "source": [
    "# Pybrain Tutorial (Haohan Shi)\n",
    "## Introduction\n",
    "\n",
    "[PyBrain](http://pybrain.org/docs/index.html) is a modular Machine Learning Library for Python. Its goal is to offer flexible, easy-to-use yet still powerful algorithms for Machine Learning Tasks and a variety of predefined environments to test and compare your algorithms.\n",
    "\n",
    "PyBrain is short for Python-Based Reinforcement Learning, Artificial Intelligence and Neural Network Library. Emphasizing both sequential and non-sequential data and tasks, PyBrain implements many recent learning algorithms and architectures ranging from areas such as supervised learning and reinforcement learning to direct search / optimization and evolutionary methods.\n"
   ]
  },
  {
   "cell_type": "markdown",
   "metadata": {},
   "source": [
    "## Tutorial content\n",
    "\n",
    "In this tutorial, we will show how to do some basic operation using Pybrain\n",
    "\n",
    "We will cover the following topics in this tutorial:\n",
    "+ [Installation](#Installation)\n",
    "+ [Overview](#Overview)\n",
    "+ [Quickstart](#Quickstart)\n",
    " - [Build a network](#1.-Build-a-network)\n",
    " - [Build a dataset](#2.-Build-a-dataset)\n",
    " - [A very simple training example](#3.-A-very-simple-training-example)\n",
    "+ [Classification with Feed-Forward Neural Networks Example](#Classification-with-Feed-Forward-Neural-Networks-Example)\n",
    "+ [Summary and References](#Summary-and-references)"
   ]
  },
  {
   "cell_type": "markdown",
   "metadata": {},
   "source": [
    "---"
   ]
  },
  {
   "cell_type": "markdown",
   "metadata": {
    "collapsed": true
   },
   "source": [
    "## Installation\n",
    "\n"
   ]
  },
  {
   "cell_type": "markdown",
   "metadata": {},
   "source": [
    "If you want to clone the PyBrain repository to get the latest version of PyBrain, you can do so by using this command (you need to have git installed on your system) on terminal:"
   ]
  },
  {
   "cell_type": "markdown",
   "metadata": {
    "collapsed": true
   },
   "source": [
    "> $ git clone git://github.com/pybrain/pybrain.git"
   ]
  },
  {
   "cell_type": "markdown",
   "metadata": {},
   "source": [
    "Then change the directory to the source code of Pybrain and run in terminal:"
   ]
  },
  {
   "cell_type": "markdown",
   "metadata": {},
   "source": [
    "#### Python 2\n",
    "\n",
    "> python setup.py install\n",
    "\n",
    "#### Python 3\n",
    "\n",
    "> python3 setup.py install"
   ]
  },
  {
   "cell_type": "markdown",
   "metadata": {},
   "source": [
    "## Overview"
   ]
  },
  {
   "cell_type": "markdown",
   "metadata": {},
   "source": [
    "PyBrain’s concept is to encapsulate different data processing algorithms in what we call a Module. A minimal Module contains a forward implementation depending on a collection of free parameters that can be adjusted, usually through some machine learning algorithm.\n",
    "\n",
    "They are assembled into objects of the class Network and are connected via Connection objects. These may contain a number of adjustable parameters themselves, such as weights.\n",
    "\n",
    "<img src=\"http://pybrain.org/docs/_images/dataprocessing_flowchart.jpg\">"
   ]
  },
  {
   "cell_type": "markdown",
   "metadata": {},
   "source": [
    "## Quickstart\n"
   ]
  },
  {
   "cell_type": "markdown",
   "metadata": {},
   "source": [
    "### 1. Build a network"
   ]
  },
  {
   "cell_type": "markdown",
   "metadata": {},
   "source": [
    "In PyBrain, networks are composed of `Modules` which are connected with `Connections`. You can think of a network as a directed acyclic graph, where the nodes are `Modules` and the edges are `Connections`. This makes PyBrain very flexible but it is also not necessary in all cases.\n",
    "\n",
    "For simplicity of this tutorial, we will not cover information about how to custom a `Network` usinng `Modules` and `Connections`, you can find more detailed example [here](http://pybrain.org/docs/tutorial/netmodcon.html). There is a simple way to create networks, which is the `buildNetwork` shortcut provided by `pybrain.tools`:"
   ]
  },
  {
   "cell_type": "code",
   "execution_count": 1,
   "metadata": {
    "collapsed": false
   },
   "outputs": [],
   "source": [
    "from pybrain.tools.shortcuts import buildNetwork\n",
    "net = buildNetwork(2, 3, 1)"
   ]
  },
  {
   "cell_type": "markdown",
   "metadata": {},
   "source": [
    "This call returns a network that has 2 inputs, 3 hidden and 1 single output neuron. In PyBrain, these layers are `Module` objects and they are already connected with `FullConnection` objects.\n",
    "\n",
    "The net is already initialized with random values - we can already calculate its output by given two inputs through a tuple or an array:"
   ]
  },
  {
   "cell_type": "code",
   "execution_count": 2,
   "metadata": {
    "collapsed": false
   },
   "outputs": [
    {
     "name": "stdout",
     "output_type": "stream",
     "text": [
      "[ 0.42331795]\n",
      "[ 0.67517527]\n"
     ]
    }
   ],
   "source": [
    "print net.activate([1, 1])\n",
    "# (random) array([-1.82107117])\n",
    "print net.activate((3,2))\n",
    "# (random) array([-1.5885086])"
   ]
  },
  {
   "cell_type": "markdown",
   "metadata": {},
   "source": [
    "We can also check the input, output and hidden layers class type:"
   ]
  },
  {
   "cell_type": "code",
   "execution_count": 3,
   "metadata": {
    "collapsed": false
   },
   "outputs": [
    {
     "name": "stdout",
     "output_type": "stream",
     "text": [
      "<LinearLayer 'in'>\n",
      "<LinearLayer 'out'>\n",
      "<SigmoidLayer 'hidden0'>\n"
     ]
    }
   ],
   "source": [
    "print net[\"in\"]\n",
    "print net[\"out\"]\n",
    "print net[\"hidden0\"]"
   ]
  },
  {
   "cell_type": "markdown",
   "metadata": {},
   "source": [
    "Of course, we want more flexibility when building up networks. For instance, the hidden layer is constructed with the sigmoid squashing function by default: but in a lot of cases, this is not what we want. We can also supply different types of layers:"
   ]
  },
  {
   "cell_type": "code",
   "execution_count": 4,
   "metadata": {
    "collapsed": false
   },
   "outputs": [
    {
     "name": "stdout",
     "output_type": "stream",
     "text": [
      "<LinearLayer 'in'>\n",
      "<LinearLayer 'out'>\n",
      "<TanhLayer 'hidden0'>\n",
      "<LinearLayer 'in'>\n",
      "<SoftmaxLayer 'out'>\n",
      "<TanhLayer 'hidden0'>\n"
     ]
    }
   ],
   "source": [
    "from pybrain.structure import TanhLayer\n",
    "net = buildNetwork(2, 3, 1, hiddenclass=TanhLayer)\n",
    "print net[\"in\"]\n",
    "print net[\"out\"]\n",
    "print net['hidden0']\n",
    "\n",
    "from pybrain.structure import SoftmaxLayer\n",
    "net = buildNetwork(2, 3, 2, hiddenclass=TanhLayer, outclass=SoftmaxLayer)\n",
    "print net[\"in\"]\n",
    "print net[\"out\"]\n",
    "print net['hidden0']"
   ]
  },
  {
   "cell_type": "markdown",
   "metadata": {},
   "source": [
    "### 2. Build a dataset"
   ]
  },
  {
   "cell_type": "markdown",
   "metadata": {},
   "source": [
    "In order for our networks to learn anything, we need a dataset that contains inputs and targets.\n",
    "\n",
    "The `SupervisedDataSet` class is used for standard supervised learning. It supports input and target values, whose size we have to specify on object creation, below we construct a dataset that supports two dimensional inputs and one dimensional targets:"
   ]
  },
  {
   "cell_type": "code",
   "execution_count": 8,
   "metadata": {
    "collapsed": false
   },
   "outputs": [],
   "source": [
    "from pybrain.datasets import SupervisedDataSet\n",
    "ds = SupervisedDataSet(2, 1)\n",
    "\n",
    "#Add samples\n",
    "ds.addSample((0, 0), (0,))\n",
    "ds.addSample((0, 1), (1,))\n",
    "ds.addSample((1, 0), (1,))\n",
    "ds.addSample((1, 1), (0,))"
   ]
  },
  {
   "cell_type": "markdown",
   "metadata": {},
   "source": [
    "We now have a dataset that has 4 samples in it. We can check that with python’s idiomatic way of checking the size, and other features:"
   ]
  },
  {
   "cell_type": "code",
   "execution_count": 9,
   "metadata": {
    "collapsed": false
   },
   "outputs": [
    {
     "name": "stdout",
     "output_type": "stream",
     "text": [
      "4\n",
      "[[ 0.  0.]\n",
      " [ 0.  1.]\n",
      " [ 1.  0.]\n",
      " [ 1.  1.]]\n",
      "[[ 0.]\n",
      " [ 1.]\n",
      " [ 1.]\n",
      " [ 0.]]\n",
      "[ 0.  0.] [ 0.]\n",
      "[ 0.  1.] [ 1.]\n",
      "[ 1.  0.] [ 1.]\n",
      "[ 1.  1.] [ 0.]\n",
      "[]\n",
      "[]\n"
     ]
    }
   ],
   "source": [
    "#length of the dataset\n",
    "print len(ds)\n",
    "\n",
    "#input of the dataset\n",
    "print ds['input']\n",
    "\n",
    "#target of the inputs\n",
    "print ds['target']\n",
    "\n",
    "#iterate over the dataset\n",
    "for inpt, target in ds:\n",
    "    print inpt, target\n",
    "\n",
    "#clear all the data\n",
    "ds.clear()\n",
    "print ds['input']\n",
    "# array([], shape=(0, 2), dtype=float64)\n",
    "print ds['target']\n",
    "# array([], shape=(0, 1), dtype=float64)"
   ]
  },
  {
   "cell_type": "markdown",
   "metadata": {},
   "source": [
    "### 3. A very simple training example"
   ]
  },
  {
   "cell_type": "markdown",
   "metadata": {},
   "source": [
    "For adjusting parameters of modules in supervised learning, PyBrain has the concept of trainers. Trainers take a module and a dataset in order to train the module to fit the data in the dataset.\n",
    "\n",
    "Below is an example of ADD operation using `backpropagation`:"
   ]
  },
  {
   "cell_type": "code",
   "execution_count": 10,
   "metadata": {
    "collapsed": false
   },
   "outputs": [],
   "source": [
    "from pybrain.tools.shortcuts import buildNetwork\n",
    "from pybrain.datasets import SupervisedDataSet\n",
    "from pybrain.supervised.trainers import BackpropTrainer"
   ]
  },
  {
   "cell_type": "markdown",
   "metadata": {},
   "source": [
    "First we need to build a `RecurrentNetwork` with 4 hidden nodes (default is `SigmoidLayer`, for more information about `Layer`, pybrain structral `Modules`, click [here](http://pybrain.org/docs/api/structure/modules.html?pybrain.structure.modules.SoftmaxLayer)), a class that implements networks which can work with sequential data:"
   ]
  },
  {
   "cell_type": "code",
   "execution_count": 11,
   "metadata": {
    "collapsed": true
   },
   "outputs": [],
   "source": [
    "net = buildNetwork(2, 4, 1, recurrent = True)"
   ]
  },
  {
   "cell_type": "markdown",
   "metadata": {},
   "source": [
    "Then we need to create a `SupervisedDataSet` for training:"
   ]
  },
  {
   "cell_type": "code",
   "execution_count": 12,
   "metadata": {
    "collapsed": true
   },
   "outputs": [],
   "source": [
    "addTrain = SupervisedDataSet(2, 1)"
   ]
  },
  {
   "cell_type": "markdown",
   "metadata": {},
   "source": [
    "Add some data into `SupervisedDataSet`:"
   ]
  },
  {
   "cell_type": "code",
   "execution_count": 13,
   "metadata": {
    "collapsed": false
   },
   "outputs": [
    {
     "name": "stdout",
     "output_type": "stream",
     "text": [
      "input: dim(14, 2)\n",
      "[[ 0.  0.]\n",
      " [ 0.  1.]\n",
      " [ 1.  0.]\n",
      " [ 1.  1.]\n",
      " [ 0.  2.]\n",
      " [ 2.  0.]\n",
      " [ 3.  1.]\n",
      " [ 2.  2.]]\n",
      "\n",
      "target: dim(14, 1)\n",
      "[[ 0.]\n",
      " [ 1.]\n",
      " [ 1.]\n",
      " [ 2.]\n",
      " [ 2.]\n",
      " [ 2.]\n",
      " [ 4.]\n",
      " [ 4.]]\n",
      "\n",
      "\n"
     ]
    }
   ],
   "source": [
    "addTrain.addSample((0, 0), (0,))\n",
    "addTrain.addSample((0, 1), (1,))\n",
    "addTrain.addSample((1, 0), (1,))\n",
    "addTrain.addSample((1, 1), (2,))\n",
    "addTrain.addSample((0, 2), (2,))\n",
    "addTrain.addSample((2, 0), (2,))\n",
    "addTrain.addSample((3, 1), (4,))\n",
    "addTrain.addSample((2, 2), (4,))\n",
    "print addTrain"
   ]
  },
  {
   "cell_type": "markdown",
   "metadata": {},
   "source": [
    "Create a `BackpropTrainer` based on the network and train dataset, `BackpropTrainer` trains the parameters of a module according to a supervised dataset (potentially sequential) by backpropagating the errors (through time), for more information about `BackpropTrainer`, click [here](http://pybrain.org/docs/api/supervised/trainers.html?pybrain.supervised.trainers.BackpropTrainer):"
   ]
  },
  {
   "cell_type": "code",
   "execution_count": 14,
   "metadata": {
    "collapsed": false,
    "scrolled": true
   },
   "outputs": [
    {
     "name": "stdout",
     "output_type": "stream",
     "text": [
      "Total error:  1.2626139951\n",
      "Total error:  1.1081568225\n",
      "Total error:  1.01919844773\n",
      "Total error:  0.927279738397\n",
      "Total error:  0.77042182492\n",
      "Total error:  0.582096634737\n",
      "Total error:  0.472204547901\n",
      "Total error:  0.389853199722\n",
      "Total error:  0.272551744014\n",
      "Total error:  0.271905872684\n",
      "\n",
      "Testing on data:\n",
      "('out:    ', '[-0.257]')\n",
      "('correct:', '[0     ]')\n",
      "error:  0.03290075\n",
      "('out:    ', '[1.323 ]')\n",
      "('correct:', '[1     ]')\n",
      "error:  0.05222646\n",
      "('out:    ', '[2.169 ]')\n",
      "('correct:', '[1     ]')\n",
      "error:  0.68273979\n",
      "('out:    ', '[2.953 ]')\n",
      "('correct:', '[2     ]')\n",
      "error:  0.45414036\n",
      "('out:    ', '[1.706 ]')\n",
      "('correct:', '[2     ]')\n",
      "error:  0.04326761\n",
      "('out:    ', '[2.819 ]')\n",
      "('correct:', '[2     ]')\n",
      "error:  0.33560538\n",
      "('out:    ', '[3.535 ]')\n",
      "('correct:', '[4     ]')\n",
      "error:  0.10789015\n",
      "('out:    ', '[3.511 ]')\n",
      "('correct:', '[4     ]')\n",
      "error:  0.11940905\n",
      "('All errors:', [0.03290075096045976, 0.052226455440907496, 0.68273979043705313, 0.45414036254128554, 0.043267610232746674, 0.33560537879464575, 0.10789014644117331, 0.11940905018137847])\n",
      "('Average error:', 0.22852244312870629)\n",
      "('Max error:', 0.68273979043705313, 'Median error:', 0.11940905018137847)\n"
     ]
    },
    {
     "data": {
      "text/plain": [
       "0.22852244312870629"
      ]
     },
     "execution_count": 14,
     "metadata": {},
     "output_type": "execute_result"
    }
   ],
   "source": [
    "# Train the network using arguments for learningrate and momentum\n",
    "trainer = BackpropTrainer(net, addTrain, learningrate = 0.01, momentum = 0.99, verbose = True)\n",
    "\n",
    "# Train the trainer multiple times\n",
    "# If you are running in the terminal, the error will be printed each time the training completes\n",
    "for epoch in range(10):\n",
    "    trainer.train()\n",
    "    \n",
    "# test the training result\n",
    "trainer.testOnData(addTrain, verbose = True)\n"
   ]
  },
  {
   "cell_type": "markdown",
   "metadata": {},
   "source": [
    "To show the differences, we can try training the trainer using different training epochs:"
   ]
  },
  {
   "cell_type": "code",
   "execution_count": 15,
   "metadata": {
    "collapsed": false
   },
   "outputs": [
    {
     "name": "stdout",
     "output_type": "stream",
     "text": [
      "Total error:  0.209524214896\n",
      "Total error:  0.191082448455\n",
      "Total error:  0.403321655798\n",
      "Total error:  0.383181366362\n",
      "Total error:  0.578976502226\n",
      "Total error:  0.407498899745\n",
      "Total error:  0.320616109615\n",
      "Total error:  0.291019541818\n",
      "Total error:  0.230546127594\n",
      "Total error:  0.255126826012\n",
      "Total error:  0.240999713925\n",
      "Total error:  0.363137045211\n",
      "Total error:  0.132242960668\n",
      "Total error:  0.22616835124\n",
      "Total error:  0.143533703185\n",
      "Total error:  0.115457854917\n",
      "Total error:  0.0764674377642\n",
      "Total error:  0.0881965542773\n",
      "Total error:  0.0765560336383\n",
      "Total error:  0.116824272285\n",
      "Total error:  0.108617402869\n",
      "Total error:  0.0779383447211\n",
      "Total error:  0.0443744404692\n",
      "Total error:  0.0375923219081\n",
      "Total error:  0.0708759627812\n",
      "Total error:  0.0593201442777\n",
      "Total error:  0.0910486429287\n",
      "Total error:  0.037510622903\n",
      "Total error:  0.0644442363994\n",
      "Total error:  0.0600275440015\n",
      "Total error:  0.0502608699288\n",
      "Total error:  0.0371370070301\n",
      "Total error:  0.0424723696888\n",
      "Total error:  0.02927742205\n",
      "Total error:  0.0241763365487\n",
      "Total error:  0.0346040765306\n",
      "Total error:  0.035502243003\n",
      "Total error:  0.0343689800344\n",
      "Total error:  0.0303523725456\n",
      "Total error:  0.0267243939047\n",
      "Total error:  0.0106400870066\n",
      "Total error:  0.0108255376253\n",
      "Total error:  0.0165987263302\n",
      "Total error:  0.0126282705736\n",
      "Total error:  0.0165018102922\n",
      "Total error:  0.0122185226555\n",
      "Total error:  0.0129205497007\n",
      "Total error:  0.0124413176445\n",
      "Total error:  0.00705411394509\n",
      "Total error:  0.00924422390751\n",
      "Total error:  0.00752343577477\n",
      "Total error:  0.00721212891459\n",
      "Total error:  0.0116395450122\n",
      "Total error:  0.00924351269243\n",
      "Total error:  0.0134513235203\n",
      "Total error:  0.00830309115828\n",
      "Total error:  0.0105046667531\n",
      "Total error:  0.00798369912893\n",
      "Total error:  0.00888216444488\n",
      "Total error:  0.00844714836545\n",
      "Total error:  0.00873346253587\n",
      "Total error:  0.00961473518818\n",
      "Total error:  0.00147099776455\n",
      "Total error:  0.00766592157164\n",
      "Total error:  0.00427373964483\n",
      "Total error:  0.00474088019318\n",
      "Total error:  0.00796108953109\n",
      "Total error:  0.00209503282931\n",
      "Total error:  0.00737137754172\n",
      "Total error:  0.00394257614958\n",
      "Total error:  0.00603757000102\n",
      "Total error:  0.00350129789616\n",
      "Total error:  0.0032213303159\n",
      "Total error:  0.0048691027202\n",
      "Total error:  0.00157865415225\n",
      "Total error:  0.00469088960684\n",
      "Total error:  0.00194168776116\n",
      "Total error:  0.0031744944049\n",
      "Total error:  0.00127427795741\n",
      "Total error:  0.00136174750377\n",
      "Total error:  0.00228549539023\n",
      "Total error:  0.00037133135916\n",
      "Total error:  0.00241813875683\n",
      "Total error:  0.000664391681818\n",
      "Total error:  0.00107032973762\n",
      "Total error:  0.00135667774315\n",
      "Total error:  0.00021617822184\n",
      "Total error:  0.000849337404903\n",
      "Total error:  0.000564428052982\n",
      "Total error:  0.000633423439608\n",
      "Total error:  0.00036068620833\n",
      "Total error:  0.000365672818802\n",
      "Total error:  0.000461169136458\n",
      "Total error:  0.000215757675143\n",
      "Total error:  0.000258030685249\n",
      "Total error:  6.12074160822e-05\n",
      "Total error:  0.000189639657707\n",
      "Total error:  0.000264885251548\n",
      "Total error:  0.00020002630628\n",
      "Total error:  0.000410989159026\n",
      "\n",
      "Testing on data:\n",
      "('out:    ', '[-0.03 ]')\n",
      "('correct:', '[0     ]')\n",
      "error:  0.00045509\n",
      "('out:    ', '[0.993 ]')\n",
      "('correct:', '[1     ]')\n",
      "error:  0.00002260\n",
      "('out:    ', '[0.994 ]')\n",
      "('correct:', '[1     ]')\n",
      "error:  0.00001949\n",
      "('out:    ', '[1.959 ]')\n",
      "('correct:', '[2     ]')\n",
      "error:  0.00084998\n",
      "('out:    ', '[1.961 ]')\n",
      "('correct:', '[2     ]')\n",
      "error:  0.00074671\n",
      "('out:    ', '[2.014 ]')\n",
      "('correct:', '[2     ]')\n",
      "error:  0.00009680\n",
      "('out:    ', '[4.001 ]')\n",
      "('correct:', '[4     ]')\n",
      "error:  0.00000035\n",
      "('out:    ', '[3.997 ]')\n",
      "('correct:', '[4     ]')\n",
      "error:  0.00000464\n",
      "('All errors:', [0.00045508701318351988, 2.2597234011243052e-05, 1.9494768732230819e-05, 0.00084998088436509002, 0.00074670823489480966, 9.6804398822521574e-05, 3.5464259102581908e-07, 4.6401638517990522e-06])\n",
      "('Average error:', 0.00027445841755652998)\n",
      "('Max error:', 0.00084998088436509002, 'Median error:', 9.6804398822521574e-05)\n"
     ]
    },
    {
     "data": {
      "text/plain": [
       "0.00027445841755652998"
      ]
     },
     "execution_count": 15,
     "metadata": {},
     "output_type": "execute_result"
    }
   ],
   "source": [
    "for epoch in range(100):\n",
    "    trainer.train()\n",
    "\n",
    "trainer.testOnData(addTrain, verbose = True)\n"
   ]
  },
  {
   "cell_type": "markdown",
   "metadata": {
    "collapsed": true
   },
   "source": [
    "## Classification with Feed-Forward Neural Networks Example"
   ]
  },
  {
   "cell_type": "markdown",
   "metadata": {},
   "source": [
    "In the following example, we will use the knowledge above to walks through the process of setting up a dataset for classification, and train a network on it while visualizing the results.\n",
    "Here are some tools we need from pybrain:"
   ]
  },
  {
   "cell_type": "code",
   "execution_count": 16,
   "metadata": {
    "collapsed": false
   },
   "outputs": [],
   "source": [
    "from pybrain.datasets            import ClassificationDataSet  # dataset specific for classification\n",
    "from pybrain.utilities           import percentError  # percentage error\n",
    "from pybrain.tools.shortcuts     import buildNetwork\n",
    "from pybrain.supervised.trainers import BackpropTrainer\n",
    "from pybrain.structure.modules   import SoftmaxLayer"
   ]
  },
  {
   "cell_type": "markdown",
   "metadata": {},
   "source": [
    "For the purpose of result visualization, we need some extra tools from `Scipy`, `Pylab` and `Numpy`:"
   ]
  },
  {
   "cell_type": "code",
   "execution_count": 17,
   "metadata": {
    "collapsed": true
   },
   "outputs": [],
   "source": [
    "from pylab import ion, ioff, figure, draw, contourf, clf, show, hold, plot\n",
    "from scipy import diag, arange, meshgrid, where\n",
    "from numpy.random import multivariate_normal"
   ]
  },
  {
   "cell_type": "markdown",
   "metadata": {},
   "source": [
    "In order to have a nice data visualization, the method we use here is to produce three groups of 2D points using `Numpy` `multivariate_normal` [function](https://docs.scipy.org/doc/numpy/reference/generated/numpy.random.multivariate_normal.html), which gives random samples from a multivariate normal distribution. Such a distribution is specified by its mean and covariance matrix. Then we store these sample points into pybrain `ClassificationDataSet`, as we can see below:"
   ]
  },
  {
   "cell_type": "code",
   "execution_count": 18,
   "metadata": {
    "collapsed": false
   },
   "outputs": [],
   "source": [
    "# mean matrix\n",
    "means = [(-1,0),(2,4),(3,1)]\n",
    "# covariance matrix\n",
    "cov = [diag([1,1]), diag([0.5,1.2]), diag([1.5,0.7])]\n",
    "# ClassificationDataSet with 2 inputs, 1 target and total of 3 classes\n",
    "alldata = ClassificationDataSet(2, 1, nb_classes=3)\n",
    "# generate 1200 points, 400 for each group\n",
    "for n in xrange(400):\n",
    "    for klass in range(3):\n",
    "        input = multivariate_normal(means[klass],cov[klass])\n",
    "        alldata.addSample(input, [klass])"
   ]
  },
  {
   "cell_type": "markdown",
   "metadata": {},
   "source": [
    "We know from class that we need to split the set into two parts, one for training and one for validation. Here we split the dataset into 75% training and 25% test data sets. Due to an unknown bug in current pybrain version, the `splitWithProportion` function will give two results that have incorrect type, i.e. the result will not be `ClassificationDataSet`, thus we need one extra step:"
   ]
  },
  {
   "cell_type": "code",
   "execution_count": 19,
   "metadata": {
    "collapsed": false
   },
   "outputs": [],
   "source": [
    "tstdata_temp, trndata_temp = alldata.splitWithProportion(0.25)\n",
    "# test dataset\n",
    "tstdata = ClassificationDataSet(2, 1, nb_classes=3)\n",
    "for n in xrange(0, tstdata_temp.getLength()):\n",
    "    tstdata.addSample( tstdata_temp.getSample(n)[0], tstdata_temp.getSample(n)[1] )\n",
    "# training dataset\n",
    "trndata = ClassificationDataSet(2, 1, nb_classes=3)\n",
    "for n in xrange(0, trndata_temp.getLength()):\n",
    "    trndata.addSample( trndata_temp.getSample(n)[0], trndata_temp.getSample(n)[1] )"
   ]
  },
  {
   "cell_type": "markdown",
   "metadata": {},
   "source": [
    "For neural network classification, it is highly advisable to encode classes with one output neuron per class. In this example, they will be labeled as 0, 1 or 2. Just like the \"label\" coloum in our homework pandas dataframe, we can achieve this by `_convertToOneOfMany` function, which is builtin in `ClassificationDataSet`:"
   ]
  },
  {
   "cell_type": "code",
   "execution_count": 20,
   "metadata": {
    "collapsed": false
   },
   "outputs": [
    {
     "name": "stdout",
     "output_type": "stream",
     "text": [
      "[]\n",
      "[]\n",
      "[[2]\n",
      " [0]\n",
      " [1]\n",
      " [2]\n",
      " [0]]\n",
      "[[1]\n",
      " [0]\n",
      " [1]\n",
      " [1]\n",
      " [2]]\n"
     ]
    }
   ],
   "source": [
    "print tstdata[\"class\"]\n",
    "print trndata[\"class\"]\n",
    "trndata._convertToOneOfMany( )\n",
    "tstdata._convertToOneOfMany( )\n",
    "print tstdata[\"class\"][:5]\n",
    "print trndata[\"class\"][:5]"
   ]
  },
  {
   "cell_type": "markdown",
   "metadata": {},
   "source": [
    "Now we can get some important values that we are interested in:"
   ]
  },
  {
   "cell_type": "code",
   "execution_count": 21,
   "metadata": {
    "collapsed": false
   },
   "outputs": [
    {
     "name": "stdout",
     "output_type": "stream",
     "text": [
      "Number of training patterns:  900\n",
      "Input and output dimensions:  2 3\n",
      "First three samples (input, target, class):\n",
      "[ 1.69106282  5.29461028] [0 1 0] [1]\n",
      "[-1.57062149 -0.19815384] [1 0 0] [0]\n",
      "[ 1.64407189  3.83831783] [0 1 0] [1]\n"
     ]
    }
   ],
   "source": [
    "print \"Number of training patterns: \", len(trndata)\n",
    "print \"Input and output dimensions: \", trndata.indim, trndata.outdim\n",
    "print \"First three samples (input, target, class):\"\n",
    "print trndata['input'][0], trndata['target'][0], trndata['class'][0]\n",
    "print trndata['input'][1], trndata['target'][1], trndata['class'][1]\n",
    "print trndata['input'][2], trndata['target'][2], trndata['class'][2]"
   ]
  },
  {
   "cell_type": "markdown",
   "metadata": {},
   "source": [
    "Here comes the actual classification part. First we need to build a network which has 5 hidden units, the input and output layer size must match the dataset’s input and target dimension, we can add additional hidden layers by inserting more numbers giving the desired layer sizes. Since we are doing classification here, we need the output layer to use a softmax function:"
   ]
  },
  {
   "cell_type": "code",
   "execution_count": 22,
   "metadata": {
    "collapsed": true
   },
   "outputs": [],
   "source": [
    "fnn = buildNetwork( trndata.indim, 5, trndata.outdim, outclass=SoftmaxLayer )"
   ]
  },
  {
   "cell_type": "markdown",
   "metadata": {},
   "source": [
    "Also we need to set up a trainer that basically takes the network and training dataset as input."
   ]
  },
  {
   "cell_type": "code",
   "execution_count": 23,
   "metadata": {
    "collapsed": true
   },
   "outputs": [],
   "source": [
    "trainer = BackpropTrainer( fnn, dataset=trndata, momentum=0.1, verbose=True, weightdecay=0.01)"
   ]
  },
  {
   "cell_type": "markdown",
   "metadata": {},
   "source": [
    "For visualization purpose, we need an extra square grid of data points, which we can then classify to obtain a nice contour field for visualization."
   ]
  },
  {
   "cell_type": "code",
   "execution_count": 24,
   "metadata": {
    "collapsed": true
   },
   "outputs": [],
   "source": [
    "ticks = arange(-3.,6.,0.2)\n",
    "X, Y = meshgrid(ticks, ticks)\n",
    "griddata = ClassificationDataSet(2,1, nb_classes=3)\n",
    "for i in xrange(X.size):\n",
    "    # need column vectors in dataset, not arrays\n",
    "    griddata.addSample([X.ravel()[i],Y.ravel()[i]], [0])\n",
    "griddata._convertToOneOfMany()"
   ]
  },
  {
   "cell_type": "markdown",
   "metadata": {},
   "source": [
    "Start the training iteration, for visualization purpose, we choose 1 as training epoch:"
   ]
  },
  {
   "cell_type": "code",
   "execution_count": 25,
   "metadata": {
    "collapsed": false
   },
   "outputs": [
    {
     "name": "stdout",
     "output_type": "stream",
     "text": [
      "Total error:  0.0566423138366\n",
      "epoch:    1   train error:  7.00%   test error:  6.33%\n",
      "Total error:  0.029892830436\n",
      "epoch:    2   train error:  7.33%   test error:  6.00%\n",
      "Total error:  0.0244923064019\n",
      "epoch:    3   train error:  7.89%   test error:  6.67%\n",
      "Total error:  0.022262605071\n",
      "epoch:    4   train error:  6.67%   test error:  6.00%\n",
      "Total error:  0.0211609565708\n",
      "epoch:    5   train error:  7.44%   test error:  6.33%\n",
      "Total error:  0.0205878866756\n",
      "epoch:    6   train error:  7.33%   test error:  5.67%\n",
      "Total error:  0.0200065157373\n",
      "epoch:    7   train error:  7.00%   test error:  5.67%\n",
      "Total error:  0.0198419978312\n",
      "epoch:    8   train error:  6.67%   test error:  6.00%\n",
      "Total error:  0.0196340823454\n",
      "epoch:    9   train error:  6.67%   test error:  5.67%\n",
      "Total error:  0.0193209094549\n",
      "epoch:   10   train error:  6.89%   test error:  5.33%\n",
      "Total error:  0.0193164606843\n",
      "epoch:   11   train error:  7.00%   test error:  5.00%\n",
      "Total error:  0.0191635866545\n",
      "epoch:   12   train error:  6.67%   test error:  5.33%\n",
      "Total error:  0.0192151111573\n",
      "epoch:   13   train error:  6.33%   test error:  5.33%\n",
      "Total error:  0.0190570085312\n",
      "epoch:   14   train error:  6.44%   test error:  6.00%\n",
      "Total error:  0.0190856820408\n",
      "epoch:   15   train error:  6.44%   test error:  5.67%\n",
      "Total error:  0.0188118275535\n",
      "epoch:   16   train error:  6.44%   test error:  5.00%\n",
      "Total error:  0.0188090168591\n",
      "epoch:   17   train error:  6.56%   test error:  5.33%\n",
      "Total error:  0.0188811825449\n",
      "epoch:   18   train error:  6.78%   test error:  5.67%\n",
      "Total error:  0.0188739901877\n",
      "epoch:   19   train error:  6.56%   test error:  5.33%\n",
      "Total error:  0.0188274191681\n",
      "epoch:   20   train error:  6.78%   test error:  5.00%\n"
     ]
    }
   ],
   "source": [
    "for i in range(20):\n",
    "    trainer.trainEpochs(1)\n",
    "    # percet error on training set\n",
    "    trnresult = percentError( trainer.testOnClassData(),trndata['class'] )\n",
    "    # percet error on test set\n",
    "    tstresult = percentError( trainer.testOnClassData( dataset=tstdata ), tstdata['class'] )\n",
    "\n",
    "    print \"epoch: %4d\" % trainer.totalepochs, \\\n",
    "          \"  train error: %5.2f%%\" % trnresult, \\\n",
    "          \"  test error: %5.2f%%\" % tstresult\n",
    "            \n",
    "    # The following is for plot and visualization purpose\n",
    "    # get the classification of grid data\n",
    "    out = fnn.activateOnDataset(griddata)\n",
    "    out = out.argmax(axis=1)\n",
    "    out = out.reshape(X.shape)\n",
    "    figure(1)\n",
    "    ioff()  # interactive graphics off\n",
    "    clf()   # clear the plot\n",
    "    hold(True) # overplot on\n",
    "    for c in [0,1,2]:\n",
    "        here, _ = where(tstdata['class']==c)\n",
    "        plot(tstdata['input'][here,0],tstdata['input'][here,1],'o')\n",
    "    if out.max()!=out.min():  # safety check against flat field\n",
    "        contourf(X, Y, out)   # plot the contour\n",
    "    ion()   # interactive graphics on\n",
    "    draw()  # update the plot"
   ]
  },
  {
   "cell_type": "markdown",
   "metadata": {},
   "source": [
    "At last, show the plot:"
   ]
  },
  {
   "cell_type": "code",
   "execution_count": 26,
   "metadata": {
    "collapsed": false
   },
   "outputs": [
    {
     "data": {
      "image/png": "[encoded data removed]",
      "text/plain": [
       "<matplotlib.figure.Figure at 0x10967b210>"
      ]
     },
     "metadata": {},
     "output_type": "display_data"
    }
   ],
   "source": [
    "ioff()\n",
    "show()"
   ]
  },
  {
   "cell_type": "markdown",
   "metadata": {},
   "source": [
    "From the plot above we can see clearly that there are roughly three groups of data points, around (-1,0),(2,4),(3,1), and the Feed-Forward Neural Networks successfully classify them into three parts around these three points as desired."
   ]
  },
  {
   "cell_type": "markdown",
   "metadata": {},
   "source": [
    "## Summary and references"
   ]
  },
  {
   "cell_type": "markdown",
   "metadata": {},
   "source": [
    "This tutorial gives a glimpse of how to use this powerful PyBrain library. PyBrain has lots of pre-solved functions and models for effectively building your network and training. During the process of making this tutorial, I've leart a lot about neural network, statistical distribution and machine learning algorithm. As a sophomore student, due to the lack of machine learning background, I only studied and learnt a very small part of the whole PyBrain library. Much more details are available from the links in the main text and as follows:\n",
    "\n",
    "1. PyBrain documentation: http://pybrain.org/docs/index.html\n",
    "2. Random Sampling: https://docs.scipy.org/doc/numpy-1.10.1/reference/routines.random.html\n",
    "3. Multivariate normal distribution: https://en.wikipedia.org/wiki/Multivariate_normal_distribution"
   ]
  },
  {
   "cell_type": "code",
   "execution_count": null,
   "metadata": {
    "collapsed": true
   },
   "outputs": [],
   "source": []
  }
 ],
 "metadata": {
  "anaconda-cloud": {},
  "kernelspec": {
   "display_name": "Python 2",
   "language": "python",
   "name": "python2"
  },
  "language_info": {
   "codemirror_mode": {
    "name": "ipython",
    "version": 2
   },
   "file_extension": ".py",
   "mimetype": "text/x-python",
   "name": "python",
   "nbconvert_exporter": "python",
   "pygments_lexer": "ipython2",
   "version": "2.7.11"
  }
 },
 "nbformat": 4,
 "nbformat_minor": 0
}
