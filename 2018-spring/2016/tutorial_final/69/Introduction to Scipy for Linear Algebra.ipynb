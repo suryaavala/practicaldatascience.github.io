{
 "cells": [
  {
   "cell_type": "markdown",
   "metadata": {},
   "source": [
    "## Introduction \n",
    "\n",
    "Linear algebra is essential in multiple areas of science. Since linear equations are easy to solve, modern science, including mathematics, physics and engineering contains models of linear equations. For example, In physics, linear algebra can be applied to solve Maxwell’s equations. In data science, we use linear regression to predict the result on a large set of training data. This tutorial will introduce a powerful library SciPy, which provides key functions to utilize linear algebra. \n",
    "\n",
    "As an extension of NumPy, SciPy provides mathematical algorithms and high-level data processing routines, including optimization, regression, etc. With SciPy, users can easily manipulate data with high-level commands.\n",
    "\n",
    "For more details, please refer to the link: http://www.scipy.org/scipylib/index.html"
   ]
  },
  {
   "cell_type": "markdown",
   "metadata": {},
   "source": [
    "## Tutorial Content\n",
    "\n",
    "The tutorial will cover:\n",
    "\n",
    "* [Installing SciPy library](#Installing-SciPy-library)\n",
    "* [Matrix and Array in NumPy](#Matrix-and-Array-in-NumPy) \n",
    "* [Basic Operations on Matrix](#Basic-Operations-on-Matrix):\n",
    "    * [Finding Inverse](#Finding-Inverse)\n",
    "    * [Finding Transpose](#Finding-Transpose)\n",
    "    * [Finding Determinant](#Finding-Determinant)\n",
    "    * [Finding Trace](#Finding-Trace)\n",
    "    * [Finding Eigenvalues and Eigenvectors](#Finding-Eigenvalues-and-Eigenvectors)\n",
    "* [Solving Linear Equations](#Solving-Linear-Equations)\n",
    "* [LU Decomposition](#LU-Decomposition)\n",
    "* [Applications in Economics](#Applications-in-Economics) \n",
    "    * [Unemployment Rate](#Unemployment-Rate)\n",
    "    * [Input-output Model](#Input-output-Model)\n",
    "* [Sparse Linear Algebra](#Sparse-Linear-Algebra)\n",
    "* [Summary and Reference](#Summary-and-Reference)\n",
    "    \n",
    "        "
   ]
  },
  {
   "cell_type": "markdown",
   "metadata": {},
   "source": [
    "## Installing SciPy library\n",
    "\n",
    "It is easier to install SciPy by downloading one of the following Python distributions, which includes all the essential packages:\n",
    "\n",
    "For Linux, Windows and Mac users:\n",
    "* [Anaconda](https://www.continuum.io/downloads): A free distribution for the SciPy stack. \n",
    "* [Enthought Canopy](https://www.enthought.com/products/canopy/): The free and commercial versions include the core SciPy stack packages. \n",
    "* [Pyzo](http://www.pyzo.org/): A free distribution based on Anaconda and the IEP interactive development environment. \n",
    "\n",
    "For Windows users:\n",
    "* [Python(x,y)](http://python-xy.github.io/): A free distribution including the SciPy stack, based around the Spyder IDE. \n",
    "* [WinPython](http://winpython.github.io/): A free distribution including the SciPy stack. \n",
    "\n",
    "After installing SciPy, make sure the following commands work for you:"
   ]
  },
  {
   "cell_type": "code",
   "execution_count": 2,
   "metadata": {
    "collapsed": true
   },
   "outputs": [],
   "source": [
    "import scipy as sp\n",
    "import numpy as np"
   ]
  },
  {
   "cell_type": "markdown",
   "metadata": {},
   "source": [
    "## Matrix and Array in NumPy\n",
    "\n",
    "Before digging into linear algebra applications, we need to know the data type for operations: numpy.matrix and numpy.ndarray.\n",
    "\n",
    "Although numpy.matrix has some advantages: it supports MATLAB-like creation syntax and has shortcuts for matrix multiplication, inverse and transpose, it is not recommended to use due to unexpected issues. In this tutorial, we will keep both numpy.matrix and numpy.array, but we recommend using numpy.array to save you from headaches.\n",
    "\n",
    "Create a matrix and an array by NumPy:"
   ]
  },
  {
   "cell_type": "code",
   "execution_count": 3,
   "metadata": {
    "collapsed": false
   },
   "outputs": [
    {
     "name": "stdout",
     "output_type": "stream",
     "text": [
      "[[1 2]\n",
      " [3 4]]\n",
      "[[1 2]\n",
      " [3 4]]\n",
      "[[1 2]\n",
      " [3 4]]\n"
     ]
    }
   ],
   "source": [
    "# create numpy matrix\n",
    "A = np.mat([[1, 2], [3, 4]])\n",
    "print A\n",
    "\n",
    "# Matlab-like creation syntax\n",
    "B = np.mat('[1 2; 3 4]')\n",
    "print B\n",
    "\n",
    "# create numpy array\n",
    "C = np.array([[1,2],[3,4]])\n",
    "print C"
   ]
  },
  {
   "cell_type": "markdown",
   "metadata": {},
   "source": [
    "## Basic Operations on Matrix\n",
    "### Finding Inverse\n",
    "\n",
    "The inverse of a square matrix $A$ is a matrix $A^{-1}$ such that \n",
    "\n",
    "$$AA^{-1} = I$$ \n",
    "\n",
    "where $I$ is the identity matrix. \n",
    "\n",
    "The inverse of a matrix can be obtained by $A.I$ for a NumPy matrix $A$ and scipy.linalg.inv($B$) for a Numpy array $B$."
   ]
  },
  {
   "cell_type": "code",
   "execution_count": null,
   "metadata": {
    "collapsed": true
   },
   "outputs": [],
   "source": [
    "# find inverse (values should be the same)\n",
    "from scipy import linalg\n",
    "# matrix\n",
    "A = np.mat([[1, 2], [3, 4]])\n",
    "\n",
    "# array\n",
    "B = np.array([[1, 2], [3, 4]])\n",
    "\n",
    "# inverse of a matrix\n",
    "A_inverse = A.I\n",
    "\n",
    "# inverse of an array\n",
    "B_inverse = linalg.inv(B)\n",
    "\n",
    "print A_inverse # should be the same as\n",
    "print B_inverse\n",
    "\n",
    "print A.dot(A_inverse) # check the matrix should be I\n",
    "print B.dot(B_inverse) # check the matrix should be I"
   ]
  },
  {
   "cell_type": "markdown",
   "metadata": {},
   "source": [
    "### Finding Transpose\n",
    "The transpose of a matrix $A$ is a matrix $A^{T}$.\n",
    "\n",
    "The $i^{th}$ row, $j^{th}$ column element of $A^{T}$ is the $j^{th}$ row, $i^{th}$ column element of $A$: \n",
    "\n",
    "$$A_{ij}^{T} = A_{ji}$$\n",
    "\n",
    "The transpose of a matrix is computed by $A.T$ for a NumPy matrix $A$ and $B.T$ or numpy.transpose($B$) for a NumPy array $B$."
   ]
  },
  {
   "cell_type": "code",
   "execution_count": 5,
   "metadata": {
    "collapsed": false
   },
   "outputs": [
    {
     "name": "stdout",
     "output_type": "stream",
     "text": [
      "[[1 3]\n",
      " [2 4]]\n",
      "[[1 3]\n",
      " [2 4]]\n",
      "[[1 3]\n",
      " [2 4]]\n"
     ]
    }
   ],
   "source": [
    "# matrix\n",
    "A = np.mat([[1, 2], [3, 4]])\n",
    "\n",
    "# array\n",
    "B = np.array([[1, 2], [3, 4]])\n",
    "\n",
    "# transpose of a matrix\n",
    "A_trans = A.T\n",
    "print A_trans\n",
    "\n",
    "# transpose of an array\n",
    "B_trans = np.transpose(B)\n",
    "print B_trans\n",
    "# or\n",
    "B_trans = B.T\n",
    "print B_trans"
   ]
  },
  {
   "cell_type": "markdown",
   "metadata": {
    "collapsed": false
   },
   "source": [
    "### Finding Determinant\n",
    "\n",
    "The determinant of a square matrix $A$ is $|A|$, which can be viewed as the scaling factor of the transformation.\n",
    "\n",
    "The determinant of a NumPy array or matrix is obtained by scipy.linalg.det()."
   ]
  },
  {
   "cell_type": "code",
   "execution_count": null,
   "metadata": {
    "collapsed": true
   },
   "outputs": [],
   "source": [
    "# matrix\n",
    "A = np.mat([[1, 2], [3, 4]])\n",
    "\n",
    "# array\n",
    "B = np.array([[1, 2], [3, 4]])\n",
    "\n",
    "# get the determinant of a matrix\n",
    "A_det = linalg.det(A)\n",
    "\n",
    "# get the determinant of an array\n",
    "B_det = linalg.det(B)\n",
    "\n",
    "print A_det\n",
    "print B_det"
   ]
  },
  {
   "cell_type": "markdown",
   "metadata": {
    "collapsed": false
   },
   "source": [
    "### Finding Trace\n",
    "The trace of a $n \\times n$ square matrix $A$ is the sum of the elements on the main diagonal of A. \n",
    "\n",
    "$$tr(A) = a_{11} + a_{22} + .... + a_{nn} = \\sum_{i=1}^n a_{ii}$$\n",
    "\n",
    "The trace of a NumPy array or matrix is obtained by using the numpy.trace()."
   ]
  },
  {
   "cell_type": "code",
   "execution_count": null,
   "metadata": {
    "collapsed": true
   },
   "outputs": [],
   "source": [
    "# matrix\n",
    "A = np.mat([[1, 2], [3, 4]])\n",
    "\n",
    "# array\n",
    "B = np.array([[1, 2], [3, 4]])\n",
    "\n",
    "#get the trace of a matrix\n",
    "A_trace = np.trace(A)\n",
    "\n",
    "#get the trace of an array\n",
    "B_trace = np.trace(B)\n",
    "\n",
    "print A_trace\n",
    "print B_trace"
   ]
  },
  {
   "cell_type": "markdown",
   "metadata": {},
   "source": [
    "### Finding Eigenvalues and Eigenvectors\n",
    "\n",
    "The eigenvalue-eigenvector problem is defined by\n",
    "\n",
    "$$Av = λv$$\n",
    "where $A$ is a square matrix, $λ$ is a scalar and $v$ is a vector.\n",
    "\n",
    "An $n \\times n$ square matrix has $n$ eigenvalues, which can be found by\n",
    "\n",
    "$$|A−λI| = 0$$\n",
    "\n",
    "Each eigenvalue corresponds to an eigenvector. \n",
    "\n",
    "The eigenvalues and eigenvectors of a square matrix can be obtained by scipy.linalg.eig()"
   ]
  },
  {
   "cell_type": "code",
   "execution_count": null,
   "metadata": {
    "collapsed": true
   },
   "outputs": [],
   "source": [
    "# matrix\n",
    "A = np.mat([[1, 2, 3], [4, 5, 6], [7, 8, 9]])\n",
    "\n",
    "# array\n",
    "B = np.array([[1, 2, 3], [4, 5, 6], [7, 8, 9]])\n",
    "\n",
    "lamda, v = linalg.eig(A)\n",
    "print lamda   # eigenvalues\n",
    "print v # eigenvectors\n",
    "lamda_, v_ = linalg.eig(B)\n",
    "print lamda_ # eigenvalues\n",
    "print v_ # eigenvectors\n",
    "\n",
    "# We can find each eigenvector by\n",
    "print v[:, 0]   # first eigenvector\n",
    "print v[:, 1]   # second eigenvector\n",
    "print v[:, 2]   # third eigenvector\n",
    "print np.sum(abs(v**2), axis=0)  # check eigenvectors are unitary"
   ]
  },
  {
   "cell_type": "markdown",
   "metadata": {},
   "source": [
    "## Solving Linear Equations\n",
    "In a linear system, we have linear algebraic equations:\n",
    "\n",
    "\\begin{equation*}\n",
    "a_1 x + b_1 y + c_1 z = d_1\n",
    "\\end{equation*}\n",
    "\\begin{equation*}\n",
    "a_2 x + b_2 y + c_2 z = d_2\n",
    "\\end{equation*}\n",
    "\\begin{equation*}\n",
    "a_3 x + b_3 y + c_3 z = d_3\n",
    "\\end{equation*}\n",
    "\n",
    "which can be written in matrix form:\n",
    "\n",
    "\\begin{equation*}\n",
    "\\begin{bmatrix}\n",
    "a_1 & b_1 & c_1 \\\\\n",
    "a_2 & b_2 & c_2 \\\\\n",
    "a_3 & b_3 & c_3\n",
    "\\end{bmatrix}\n",
    "\\begin{bmatrix}\n",
    "x \\\\\n",
    "y \\\\\n",
    "z\n",
    "\\end{bmatrix}\n",
    "=\n",
    "\\begin{bmatrix}\n",
    "d_1 \\\\\n",
    "d_2 \\\\\n",
    "d_3\n",
    "\\end{bmatrix}\n",
    "\\end{equation*}\n",
    "\n",
    "or $$Cv = d$$\n",
    "\n",
    "where $C$ is the coefficient matrix, $v$ and $d$ are vectors.\n",
    "\n",
    "Note that the coefficient matrix must be nonsingular; otherwise, it has a determinant of zero.\n",
    "\n",
    "The linear equations can be solved by scipy.linalg.solve(), which is faster and more stable than computing the inverse then dot the right-hand side vector:\n",
    "$$v = C^{-1}d$$"
   ]
  },
  {
   "cell_type": "code",
   "execution_count": null,
   "metadata": {
    "collapsed": false
   },
   "outputs": [],
   "source": [
    "# coefficient matrix\n",
    "C = np.array([[6, -2, 3], [2, -7, 5], [-3, 4, 0]])\n",
    "\n",
    "# right-hand side vector\n",
    "d = np.array([4, 0, -5])\n",
    "\n",
    "sol = linalg.inv(C).dot(d)  # slow\n",
    "print sol\n",
    "print C.dot(sol) - d  # check the vector should be all 0s\n",
    "\n",
    "sol = linalg.solve(C, d) # fast and stable\n",
    "print sol\n",
    "print C.dot(sol) - d  # check the vector should be all 0s"
   ]
  },
  {
   "cell_type": "markdown",
   "metadata": {},
   "source": [
    "## LU Decomposition\n",
    "\n",
    "We can decompose the coefficient matrix $C$ by LU decomposition if the right-hand side vector $d$ changes but the coefficient matrix $C$ remains unchanged. \n",
    "\n",
    "The LU decomposition represents the coefficient matrix $C$ as $$C = PLU$$ where $P$ is a permutation matrix, $L$ is a lower triangular matrix with unit-diagonal and $U$ is an upper triangular matrix.\n",
    "\n",
    "An initial time spent decomposing $C$ allows for rapid solution of similar systems of equations. \n",
    "\n",
    "To use LU decompositions:\n",
    "1. Use the scipy.linalg.lu_factor() method on the coefficient matrix, and assign the result to a new variable.\n",
    "2. Use the slin.lu_solve() function with the decomposition and the right-hand side vector as arguments."
   ]
  },
  {
   "cell_type": "code",
   "execution_count": null,
   "metadata": {
    "collapsed": false
   },
   "outputs": [],
   "source": [
    "# coefficient matrix\n",
    "C = np.array([[6, -2, 3], [2, -7, 5], [-3, 4, 0]])\n",
    "\n",
    "# right-hand side vector\n",
    "d = np.array([4, 0, -5])\n",
    "\n",
    "# LU decomposition\n",
    "lu = linalg.lu_factor(C)\n",
    "sol = linalg.lu_solve(lu, d)\n",
    "print sol # should be the same as the above sol from linalg.solve(C, d)\n",
    "\n",
    "# change the right-hand side vector\n",
    "sol = linalg.lu_solve(lu,[4, -3, 9])\n",
    "print sol"
   ]
  },
  {
   "cell_type": "markdown",
   "metadata": {},
   "source": [
    "## Applications in Economics\n",
    "\n",
    "As soon as we know basic operations on a matrix and solving linear equations, we will be able to apply these knowledge to solve real-world problems in economics."
   ]
  },
  {
   "cell_type": "markdown",
   "metadata": {},
   "source": [
    "### Unemployment Rate\n",
    "\n",
    "Unemployment rate changes over time as individuals gain or lose their employment. To describe the dynamics of unemployment rate, we consider the Markov model, which utilizes transitional probabilities.\n",
    "\n",
    "In this model, we assume:\n",
    "\n",
    "1. If an individual is unemployed in a given week, the probability for this individual to be employed on the following week is $p$, and $1 − p$ to stay unemployed.\n",
    "2. If an individual is employed in a given week, the probability for this individual to stay employed on the following week is $q$, and $1 − q$ to be unemployed.\n",
    "\n",
    "Let $x_t$ and $y_t$ be the ratio of individuals employed and unemployed in week $t$. Then the week-on-week changes are:\n",
    "\n",
    "\\begin{align}\n",
    "x_{t+1} & = qx_t + py_t \\\\\n",
    "y_{t+1} & = (1 − q)x_t + (1 − p)y_t\n",
    "\\end{align}\n",
    "\n",
    "represented in matrix form:\n",
    "\n",
    "$$v_{t+1} = Av_t$$\n",
    "\n",
    "where transition matrix $A$ is\n",
    "\n",
    "\\begin{equation*}\n",
    "A = \n",
    "\\begin{bmatrix}\n",
    "q & p \\\\\n",
    "1-q & 1-p \n",
    "\\end{bmatrix}\n",
    "\\end{equation*}\n",
    "\n",
    "and state vector $v_t$ is\n",
    "\n",
    "\\begin{equation*}\n",
    "v_t = \n",
    "\\begin{bmatrix}\n",
    "x_t \\\\\n",
    "y_t\n",
    "\\end{bmatrix}\n",
    "\\end{equation*}\n",
    "\n",
    "Now, the questions are:\n",
    "\n",
    "* __Are there any steady states in this system?__\n",
    "* __Can we reach the steady states?__\n",
    "\n",
    "The state of the system after t weeks is given by:\n",
    "\n",
    "\\begin{align}\n",
    "v_1 & = Av_0 \\\\\n",
    "v_2 & = Av_1 = A(Av_0) = A^2v_0 \\\\\n",
    "v_3 & = Av_2 = A(A^2v_0) = A^3v_0 \\\\\n",
    "... \\\\\n",
    "v_t & = A^tv_0\n",
    "\\end{align}\n",
    "\n",
    "Suppose $p = 0.136$ and $q = 0.998$. If the unemployment rate is 5% at $t = 0$, then $x_0 = 0.95$ and $y_0 = 0.05$.\n",
    "\n",
    "After $100$ weeks the state of the system would be\n",
    "\n",
    "\\begin{equation*}\n",
    "\\begin{bmatrix}\n",
    "x_{100} \\\\\n",
    "y_{100}\n",
    "\\end{bmatrix}\n",
    "= \n",
    "\\begin{bmatrix}\n",
    "0.998 & 0.136 \\\\\n",
    "0.002 & 0.864\n",
    "\\end{bmatrix}^{100}\n",
    "\\times\n",
    "\\begin{bmatrix}\n",
    "0.95 \\\\\n",
    "0.05\n",
    "\\end{bmatrix}\n",
    "\\end{equation*}\n",
    "\n",
    "We can diagonize $A$ to compute $A^{100}$ efficiently by finding eigenvalues and eigenvectors:\n",
    "\n",
    "$$A = PDP^{−1}$$\n",
    "\n",
    "where $D$ is a diagonal matrix and $P$ is an invertible matrix. \n",
    "\n",
    "Thus, \n",
    "\n",
    "$$A^{100} = (PDP^{−1})^{100} = (PDP^{−1})(PDP^{−1})· · ·(PDP^{−1}) = PD^{100}P^{−1}$$"
   ]
  },
  {
   "cell_type": "code",
   "execution_count": null,
   "metadata": {
    "collapsed": true
   },
   "outputs": [],
   "source": [
    "# coefficient matrix\n",
    "A = np.array([[0.998, 0.136], [0.002, 0.864]])\n",
    "\n",
    "# original state\n",
    "v0 = np.array([0.95, 0.05])\n",
    "\n",
    "# find the eigenvalues and eigenvectors of the coefficient matrix\n",
    "lamda, v = linalg.eig(A)\n",
    "\n",
    "# diagonize the coefficient matrix\n",
    "D = np.diag(lamda)\n",
    "P = v\n",
    "P_inverse = linalg.inv(P)\n",
    "\n",
    "D_100 = D**100\n",
    "A_100 = P.dot(D_100).dot(P_inverse)\n",
    "\n",
    "v100 = A_100.dot(v0)\n",
    "employed = v100[0]\n",
    "unemployed = v100[1]\n",
    "print employed\n",
    "print unemployed"
   ]
  },
  {
   "cell_type": "markdown",
   "metadata": {},
   "source": [
    "After 100 iterations, the system is in a state with employment rate = 98.6% and unemployment rate = 1.4%. "
   ]
  },
  {
   "cell_type": "markdown",
   "metadata": {},
   "source": [
    "Next, we will find the steady state, which means the unemployment and employment rate will not change. The system reaches steady state when \n",
    "\n",
    "\\begin{equation*}\n",
    "A\n",
    "= \n",
    "\\begin{bmatrix}\n",
    "0.998 & 0.136 \\\\\n",
    "0.002 & 0.864\n",
    "\\end{bmatrix}\n",
    "\\end{equation*}\n",
    "\n",
    "and a state vector \n",
    "\\begin{equation*}\n",
    "v\n",
    "= \n",
    "\\begin{bmatrix}\n",
    "x \\\\\n",
    "y\n",
    "\\end{bmatrix}\n",
    "\\end{equation*} \n",
    "\n",
    "with $x, y ≥ 0$ and $x + y = 1$ such that $Av = v$."
   ]
  },
  {
   "cell_type": "code",
   "execution_count": null,
   "metadata": {
    "collapsed": true
   },
   "outputs": [],
   "source": [
    "# coefficient matrix\n",
    "A = np.array([[0.998, 0.136], [0.002, 0.864]])\n",
    "\n",
    "# original state\n",
    "v0 = np.array([0.95, 0.05])\n",
    "\n",
    "# get eigenvalues and eigenvectors\n",
    "lamda, v = linalg.eig(A)\n",
    "\n",
    "# get diagonized matrix A = PDP^-1\n",
    "D = np.diag(lamda)\n",
    "P = v\n",
    "P_inverse = sp.linalg.inv(P)\n",
    "\n",
    "# the state of system in t iterations\n",
    "vt = None\n",
    "v_pre = v0\n",
    "\n",
    "# count the iteration\n",
    "i = 1\n",
    "\n",
    "while True:\n",
    "    # get the state of system in iteration i\n",
    "    vt = P.dot(D**i).dot(P_inverse).dot(v0)\n",
    "    \n",
    "    # if the state of system no longer change, it reaches the steady state\n",
    "    if (v_pre==vt).all():\n",
    "        break\n",
    "    v_pre = vt\n",
    "    i += 1\n",
    "    \n",
    "employed = vt[0]\n",
    "unemployed = vt[1]\n",
    "print \"After \" + str(i) + \" iterations, the system reaches steady state: \" \n",
    "print employed\n",
    "print unemployed"
   ]
  },
  {
   "cell_type": "markdown",
   "metadata": {},
   "source": [
    "From the above calculation, we know that after 241 iterations, both employment and unemployment rate will no longer change and the system reaches a steady state.\n",
    "\n",
    "We can visualize the process of change in unemployed and employed rate by plotting them with matplotlib."
   ]
  },
  {
   "cell_type": "code",
   "execution_count": null,
   "metadata": {
    "collapsed": true
   },
   "outputs": [],
   "source": [
    "# ploting\n",
    "import matplotlib.pyplot as plt\n",
    "\n",
    "# coefficient matrix\n",
    "A = np.array([[0.998, 0.136], [0.002, 0.864]])\n",
    "\n",
    "# original state\n",
    "v0 = np.array([0.95, 0.05])\n",
    "\n",
    "#get eigenvalues and eigenvectors\n",
    "lamda, v = linalg.eig(A)\n",
    "\n",
    "#get diagonized matrix A = PDP^-1\n",
    "D = np.diag(lamda)\n",
    "P = v\n",
    "P_inverse = sp.linalg.inv(P)\n",
    "\n",
    "#the state of system in t iterations\n",
    "vt = None\n",
    "v_pre = v0\n",
    "\n",
    "#count the iteration\n",
    "i = 1\n",
    "\n",
    "#lists for plotting\n",
    "employed_list = []\n",
    "unemployed_list = []\n",
    "iteration_list = []\n",
    "\n",
    "employed_list.append(v0[0])\n",
    "unemployed_list.append(v0[1])\n",
    "iteration_list.append(0)\n",
    "\n",
    "while True:\n",
    "    #get the state of system in iteration i\n",
    "    vt = P.dot(D**i).dot(P_inverse).dot(v0)\n",
    "    employed_list.append(vt[0])\n",
    "    unemployed_list.append(vt[1])\n",
    "    iteration_list.append(i)\n",
    "    \n",
    "    #if the state of system no longer change, it reaches the steady state\n",
    "    if (v_pre==vt).all():\n",
    "        break\n",
    "    v_pre = vt\n",
    "    i += 1\n",
    "\n",
    "plt.scatter(iteration_list, employed_list, color = 'r')\n",
    "plt.scatter(iteration_list, unemployed_list, color = 'b')\n",
    "plt.show()"
   ]
  },
  {
   "cell_type": "markdown",
   "metadata": {},
   "source": [
    "### Input-output Model\n",
    "\n",
    "Leontief “input-output” Model is a classical model in economics.\n",
    "\n",
    "The goal is to predict the proper level of production for each type of goods and services. The proper level of production should meet two requirements:\n",
    "\n",
    "1. There should be enough goods to meet the demand.\n",
    "2. There should be no \"leftovers\", i.e, unused goods.\n",
    "\n",
    "Consider a simple economy that runs on 3 different types of output: \n",
    "\n",
    "1. Raw materials: Output from algriculture or mining\n",
    "2. Services: Retailing, transportation, etc. \n",
    "3. Manufacturing: Artificial products like clothing and cars.\n",
    "\n",
    "Now, the raw materials industry needs some of the output from the other two industries. For example, it requires manufactured machines to produce the materials and trucking to transport its goods. Also, it needs some of its own output to produce its own output, such as iron ore to make the steel for the rails that carry ore from the mines.\n",
    "\n",
    "Similarly, each of the other two industries requires output from each other and itself. All of these requirements to produce $1 product can be summarized in a table:\n",
    "\n",
    "|  Industry\t    |   Raw Materials\t|    Services\t| Manufacturing |\n",
    "|---------------|:-----------------:|:-------------:|:-------------:|\n",
    "| Raw Materials |\t    0.02\t    |      0.04\t    |     0.04      |\n",
    "| Services\t    |       0.05\t    |      0.03\t    |     0.01      |\n",
    "| Manufacturing\t|       0.2\t        |      0.01\t    |     0.1       |\n",
    "\n",
    "For example, to provide \\$1 service, the service sector requires \\$0.05 raw materials, \\$0.03 services, and \\$0.01 manufactured goods.\n",
    "\n",
    "The information can be shown by a \"input-output\" matrix:\n",
    "\n",
    "\\begin{equation*}\n",
    "A = \n",
    "\\begin{bmatrix}\n",
    "0.02 & 0.04 & 0.04 \\\\\n",
    "0.05 & 0.03 & 0.01 \\\\\n",
    "0.2 & 0.01 & 0.1\n",
    "\\end{bmatrix}\n",
    "\\end{equation*}\n",
    "\n",
    "The demand matrix shows how much (in billions) of each type of output is demanded:\n",
    "\n",
    "\\begin{equation*}\n",
    "D = \n",
    "\\begin{bmatrix}\n",
    "400 \\\\\n",
    "200 \\\\\n",
    "600\n",
    "\\end{bmatrix}\n",
    "\\end{equation*}\n",
    "\n",
    "For example, $200 billion services are demanded by consumers.\n",
    "\n",
    "Finally, let $X$ denote the production matrix, a vector that represents the amount (in billions) produced by each of the industries. \n",
    "\n",
    "How to find the proper $X$?\n",
    "\n",
    "The matrix product $AX$ represents the part of the production used internally by the industries themselves. \n",
    "\n",
    "Thus, the difference \n",
    "\n",
    "$$X - AX = (I-A)X$$ \n",
    "\n",
    "represents the output remains to satisfy the external demand. This demand will be exactly met with no leftover: \n",
    "\n",
    "$$(I-A)X = D$$ \n",
    "\n",
    "We can easily solve this equation for $X$ by SciPy."
   ]
  },
  {
   "cell_type": "code",
   "execution_count": null,
   "metadata": {
    "collapsed": true
   },
   "outputs": [],
   "source": [
    "# input-output matrix\n",
    "A = np.array([[0.02, 0.04, 0.04], [0.05, 0.03, 0.01], [0.2, 0.01, 0.1]])\n",
    "\n",
    "# demand matrix\n",
    "D = np.array([400, 200, 600])\n",
    "I = np.eye(A.shape[0], M=A.shape[1])\n",
    "\n",
    "# coefficient matrix\n",
    "C = I - A\n",
    "\n",
    "# production matrix\n",
    "X = linalg.solve(C, D)\n",
    "print X"
   ]
  },
  {
   "cell_type": "markdown",
   "metadata": {
    "collapsed": false
   },
   "source": [
    "Thereby we obtain the desired levels of production:\n",
    "\n",
    "\\begin{equation*}\n",
    "X = \n",
    "\\begin{bmatrix}\n",
    "449.24 \\\\\n",
    "237.27 \\\\\n",
    "769.13\n",
    "\\end{bmatrix}\n",
    "\\end{equation*}\n",
    "\n",
    "The raw materials should produce \\$449.24 billion; the service should produce \\$237.27 billion and the manufacturing should produce \\$769.13 billion to reach \"balance\" economy.\n",
    "\n",
    "We can also use LU expression to save time when we change the demand:"
   ]
  },
  {
   "cell_type": "code",
   "execution_count": null,
   "metadata": {
    "collapsed": true
   },
   "outputs": [],
   "source": [
    "# LU decomposition\n",
    "lu = linalg.lu_factor(C)\n",
    "X = linalg.lu_solve(lu, D) \n",
    "print X # should be the same as linalg.solve\n",
    "\n",
    "# change demand matrix\n",
    "D_ = np.array([300, 500, 100])\n",
    "X = linalg.lu_solve(lu, D_)\n",
    "print X"
   ]
  },
  {
   "cell_type": "markdown",
   "metadata": {},
   "source": [
    "## Sparse Linear Algebra\n",
    "\n",
    "When we have a large amount of data with lots of elements that are 0, we can use sparse matrix in Scipy to save space. \n",
    "\n",
    "To solve the sparse linear system, we can use scipy.sparse.linalg.spsolve()"
   ]
  },
  {
   "cell_type": "code",
   "execution_count": null,
   "metadata": {
    "collapsed": true
   },
   "outputs": [],
   "source": [
    "from scipy.sparse import *\n",
    "from scipy.sparse import linalg as splinalg\n",
    "from scipy import rand\n",
    "\n",
    "# coefficient matrix\n",
    "C = lil_matrix((2000, 2000))\n",
    "C[0,:100] = rand(100)\n",
    "C[1,100:200] = rand(100)\n",
    "C.setdiag(rand(2000))\n",
    "\n",
    "C = C.tocsr()\n",
    "\n",
    "# vector\n",
    "v = rand(2000)\n",
    "X = splinalg.spsolve(C, v)\n",
    "print X"
   ]
  },
  {
   "cell_type": "markdown",
   "metadata": {},
   "source": [
    "We can also find the eigenvalues and eigenvectors of a sparse matrix by scipy.sparse.linalg.\n",
    "\n",
    "For example, to find two smallest and two largest eigenvalues of coefficient matrix C:"
   ]
  },
  {
   "cell_type": "code",
   "execution_count": null,
   "metadata": {
    "collapsed": true
   },
   "outputs": [],
   "source": [
    "# find two smallest eigenvalues of cm\n",
    "lamda_s, v_s = splinalg.eigs(C, 2, which=\"SM\")\n",
    "print lamda_s\n",
    "\n",
    "# find two largest eigenvalues of cm\n",
    "lamda_l, v_l = splinalg.eigs(C, 2, which=\"LM\")\n",
    "print lamda_l"
   ]
  },
  {
   "cell_type": "markdown",
   "metadata": {
    "collapsed": false
   },
   "source": [
    "## Summary and Reference\n",
    "\n",
    "Linear algebra is widely used from social science to engineering. However, for \"big data\", we can hardly solve it without powerful computing methodologies. Thanks to SciPy, we can easily deal with linear algebra by Python.\n",
    "\n",
    "1. Installing the SciPy Stack: https://www.scipy.org/install.html#individual-packages\n",
    "2. Installing the SciPy with pip: http://stackoverflow.com/questions/2213551/installing-scipy-with-pip    \n",
    "3. Scientific Programming, Analysis and Visualization with Python: \n",
    "   http://snowball.millersville.edu/~adecaria/ESCI386P/esci386-lesson18-Linear-Algebra.pdf\n",
    "4. Numpy Matrix and Linear Algebra: http://www.bogotobogo.com/python/python_numpy_matrix_tutorial.php\n",
    "5. scipy.linalg: http://docs.scipy.org/doc/scipy/reference/tutorial/linalg.html\n",
    "6. Invertible Matrix: https://en.wikipedia.org/wiki/Invertible_matrix\n",
    "7. Transpose: https://en.wikipedia.org/wiki/Transpose\n",
    "8. Determinant: https://en.wikipedia.org/wiki/Determinant\n",
    "9. Trace: https://en.wikipedia.org/wiki/Trace_(linear_algebra)\n",
    "10. Eigenvalues and Eigenvectors: https://en.wikipedia.org/wiki/Eigenvalues_and_eigenvectors\n",
    "11. Eigenvalues and Eigenvectors: http://www.dr-eriksen.no/teaching/GRA6035/2010/lecture3-hand.pdf\n",
    "12. The Leontief Input-Output Model: http://barnyard.syr.edu/mat183/l32/\n",
    "13. Sam's Scientific Python Tools: http://www.sam.math.ethz.ch/~raoulb/teaching/PythonTutorial/intro_scipy.html"
   ]
  }
 ],
 "metadata": {
  "anaconda-cloud": {},
  "kernelspec": {
   "display_name": "Python [conda root]",
   "language": "python",
   "name": "conda-root-py"
  },
  "language_info": {
   "codemirror_mode": {
    "name": "ipython",
    "version": 2
   },
   "file_extension": ".py",
   "mimetype": "text/x-python",
   "name": "python",
   "nbconvert_exporter": "python",
   "pygments_lexer": "ipython2",
   "version": "2.7.12"
  }
 },
 "nbformat": 4,
 "nbformat_minor": 1
}
