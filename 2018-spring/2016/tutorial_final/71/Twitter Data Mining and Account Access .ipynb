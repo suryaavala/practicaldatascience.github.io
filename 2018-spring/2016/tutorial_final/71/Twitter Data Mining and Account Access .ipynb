{
 "cells": [
  {
   "cell_type": "markdown",
   "metadata": {},
   "source": [
    "# Introduction\n",
    "\n",
    "In this course, for many of our homeworks, we have used Twitter data (remember @realDonaldTrump, @HillaryClinton?). Ever wondered how all that Twitter data was mined? Through this tutorial, we will try to demystify Twitter data mining.  \n",
    "\n",
    "Twitter provides limited access to its data to registered developers through the [Twitter API](https://dev.twitter.com/overview/api), which is maintained by the company in Java. Due to the popularity of Twitter data, developers have built multiple libraries for accessing the Twitter API in multiple languages. Some of the popular ones are:\n",
    "\n",
    "- [twitcurl](https://code.google.com/archive/p/twitcurl/) for C++\n",
    "- [Tweetinvi](https://tweetinvi.codeplex.com/), which is a .NET based C# library\n",
    "- [go-twitter](https://github.com/dghubble/go-twitter) for GO\n",
    "- [Twitter4J](http://twitter4j.org/en/index.html) for Java\n",
    "- [STTwitter](https://github.com/nst/STTwitter) for Objective C\n",
    "- [codebird-php](https://github.com/jublonet/codebird-php) for PHP\n",
    "- [twython](https://github.com/ryanmcgrath/twython) for Python\n",
    "\n"
   ]
  },
  {
   "cell_type": "markdown",
   "metadata": {},
   "source": [
    "## Content\n",
    "\n",
    "As part of this tutorial, we will be primarily focusing on [twython](https://github.com/ryanmcgrath/twython), which is a python wrapper for the Twitter API. In this tutorial, we will use various twython calls to GET as well as POST data to Twitter. The tutorial is structured in the following way: \n",
    "\n",
    "- [Twitter API basics](#1.-Twitter-API-basics)\n",
    "- [Twython](#2.-Twython)\n",
    "- [Installation](#3.-Installation)\n",
    "- [Developer Registration and Authentication](#4.-Developer-Registration-and-Authentication)\n",
    "- [Users](#5.-Users)\n",
    "- [Tweets](#6.-Tweets)\n",
    "- [Entities](#7.-Entities)\n",
    "- [Places](#8.-Places)\n",
    "- [Streaming API](#9.-Streaming-API)\n",
    "- [Application: Realtime Sentiment Analysis from Twitter Data](#10.-Application:-Realtime-Sentiment-Analysis-from-Twitter-Data)\n",
    "- [Summary and Resources](#11.-Summary-and-Resources)\n"
   ]
  },
  {
   "cell_type": "markdown",
   "metadata": {},
   "source": [
    "## 1. Twitter API basics\n",
    "\n",
    "Twitter provides data access in two forms:\n",
    "\n",
    "- REST API: For simple read and write to Twitter using the stateless [REST](https://en.wikipedia.org/wiki/Representational_state_transfer) standard. Allows performing various operations such as searching tweets, updating status, getting list of followers etc.\n",
    "- Streaming API: For streaming and monitoring data in real time. \n",
    "\n",
    "The latest version of the Twitter API is v1.1 . All requests to the API are authenticated using [OAuth](https://en.wikipedia.org/wiki/OAuth). Authentication is essential to prevent abusive behaviour by unauthorized sources and also helps keep a track of how various applications are using the Twitter data. \n",
    "\n",
    "Successful requests return data in [JSON](https://en.wikipedia.org/wiki/JSON) format.\n",
    "\n",
    "### 1.1 Rate Limiting of Data\n",
    "\n",
    "In order to prevent abuse, the APIs impose rate limiting (usually max 15 API calls of each type) on a 15 minute window. For more information on this, please check out Twitter's [rate limiting chart](https://dev.twitter.com/rest/public/rate-limits). When an application exceeds the rate limit for a particular API endpoint, the Twitter API will respond with an HTTP 429 'Too many requests' code.\n",
    "\n",
    "Also, rate limits on 'reads' from the system are defined on a per user and per application basis, while rate limits on 'writes' into the system are defined solely on a per user basis. This means that if a user 'writes' from App X, the write count for that user in that window is reduced for App Y as well which the user might be using. For 'reads', the counts for both apps will be independent.  \n",
    "\n",
    "The Streaming API has different rate limiting and access levels that are appropriate for long-lived connections. \n",
    "\n",
    "Note that these aforementioned properties are enforced by the Twitter API and hence applicable to all the libraries including twython.\n",
    "\n",
    "### 1.2 Basic Objects\n",
    "\n",
    "Twitter APIs have four basic types of objects:\n",
    "- [users](#5.-Users)\n",
    "- [tweets](#6.-Tweets)\n",
    "- [entities](#7.-Entities)\n",
    "- [places](#8.-Places)\n",
    "\n",
    "We will study these in detail with examples using twython below.\n",
    "\n",
    "\n"
   ]
  },
  {
   "cell_type": "markdown",
   "metadata": {},
   "source": [
    "## 2. Twython\n",
    "\n",
    "Twython is an actively maintained, pure Python wrapper for the Twitter API. It supports:\n",
    "\n",
    "- Querying for specific tweets\n",
    "- Follow some other user\n",
    "- Update status\n",
    "- And all other features mentioned in [Twitter docs](https://dev.twitter.com/overview/documentation)\n",
    "\n",
    "Other features include:\n",
    "\n",
    "- Support for Twitter's Streaming API as well as normal REST API\n",
    "- Support for Python 3\n",
    "- Conversion of the returned JSON data to python object\n",
    "\n"
   ]
  },
  {
   "cell_type": "markdown",
   "metadata": {},
   "source": [
    "## 3. Installation\n",
    "\n"
   ]
  },
  {
   "cell_type": "markdown",
   "metadata": {},
   "source": [
    "Let's begin by installing Twython. It can be done using [pip](https://pypi.python.org/pypi/pip) with the following command:\n",
    "\n",
    "    $ pip install twython\n",
    "\n",
    "or by using [easy_install](http://setuptools.readthedocs.io/en/latest/easy_install.html):\n",
    "\n",
    "    $ easy_install twython\n",
    "    \n",
    "Once installed, you should be able to import the library."
   ]
  },
  {
   "cell_type": "code",
   "execution_count": 1,
   "metadata": {
    "collapsed": true
   },
   "outputs": [],
   "source": [
    "import twython\n",
    "from twython import Twython"
   ]
  },
  {
   "cell_type": "markdown",
   "metadata": {},
   "source": [
    "## 4. Developer Registration and Authentication"
   ]
  },
  {
   "cell_type": "markdown",
   "metadata": {},
   "source": [
    "In our final setup step, before we start playing with Twitter data, we need to register our app with Twitter to get our Consumer/App key and Consumer/App secret. \n",
    "- You can create and register an app [here](https://apps.twitter.com/) after logging in. \n",
    "- While creating, you can leave the 'Callback url' blank and in the 'Website', you can give any website with https prefixed (eg: https://www.cmu.edu/). \n",
    "- After creation, you can manage keys in the 'Keys and Access Tokens' tab. \n",
    "- Click on 'Create my Access token' at the bottom of that tab to generate your [OAuth](https://en.wikipedia.org/wiki/OAuth) Access Token and Secret."
   ]
  },
  {
   "cell_type": "markdown",
   "metadata": {},
   "source": [
    "Alternatively, you can also generate OAuth Access Token and Secret programmatically using the following code:"
   ]
  },
  {
   "cell_type": "code",
   "execution_count": 30,
   "metadata": {
    "collapsed": false
   },
   "outputs": [],
   "source": [
    "APP_KEY = 'Enter App key here'\n",
    "APP_SECRET = 'Enter App Secret here'\n",
    "\n"
   ]
  },
  {
   "cell_type": "code",
   "execution_count": 49,
   "metadata": {
    "collapsed": false
   },
   "outputs": [],
   "source": [
    "twitter = Twython(APP_KEY, APP_SECRET)\n",
    "\n",
    "auth = twitter.get_authentication_tokens()\n",
    "\n",
    "OAUTH_TOKEN = auth['oauth_token']\n",
    "OAUTH_TOKEN_SECRET = auth['oauth_token_secret']\n",
    "\n",
    "print OAUTH_TOKEN\n",
    "print OAUTH_TOKEN_SECRET\n",
    "print APP_KEY\n",
    "print APP_SECRET"
   ]
  },
  {
   "cell_type": "markdown",
   "metadata": {},
   "source": [
    "Now, we have all four keys (Consumer Key, Consumer Secret, Access Token, Access Token Secret) required to query and update Twitter. "
   ]
  },
  {
   "cell_type": "markdown",
   "metadata": {},
   "source": [
    "Note that it is important that you keep these keys secret! It is a good practice to store them in a file on your local machine and access them through the file. Here we will store them in a txt file with JSON format:\n",
    "\n",
    "```\n",
    "{\n",
    "\"APP_KEY\":\"enter value\",\n",
    "\"APP_SECRET\":\"enter value\",\n",
    "\"OAUTH_TOKEN\":\"enter value\",\n",
    "\"OAUTH_TOKEN_SECRET\":\"enter value\"\n",
    "}\n",
    "```"
   ]
  },
  {
   "cell_type": "code",
   "execution_count": 2,
   "metadata": {
    "collapsed": false
   },
   "outputs": [],
   "source": [
    "import io\n",
    "import json\n",
    "\n",
    "config_filepath = 'twitter_credentials.txt'\n",
    "with io.open(config_filepath) as cred:\n",
    "        credentials = json.load(cred)\n",
    "        CONSUMER_KEY = credentials['APP_KEY']\n",
    "        CONSUMER_SECRET = credentials['APP_SECRET']\n",
    "        OAUTH_TOKEN = credentials['OAUTH_TOKEN']\n",
    "        OAUTH_TOKEN_SECRET = credentials['OAUTH_TOKEN_SECRET'] \n",
    "        twitter = Twython(CONSUMER_KEY, CONSUMER_SECRET, OAUTH_TOKEN, OAUTH_TOKEN_SECRET)\n"
   ]
  },
  {
   "cell_type": "markdown",
   "metadata": {
    "collapsed": true
   },
   "source": [
    "## Note\n",
    "\n",
    "For this tutorial, I have created a dummy account on Twitter with the handle: @pds_tutorial (follow me!). All proceeding fetches and updates have been performed through that account. \n",
    "\n",
    "<img src=\"homescreen.jpg\",width=800, height=800>"
   ]
  },
  {
   "cell_type": "markdown",
   "metadata": {},
   "source": [
    "## 5. Users"
   ]
  },
  {
   "cell_type": "markdown",
   "metadata": {},
   "source": [
    "Users can be persons or organizations. It is the basic object with which every user of Twitter has their identities linked. A user tweets, follows other users, has a timeline among many things. A user is identified with 2 properties: A unique 64 bit integer id called `id` and a string `screen_name` which is nothing but the Twitter handle name. A user also has some other properties like `friends_list`, `followers_count`,`location`, `time_zone` and `profile_image_url`.    "
   ]
  },
  {
   "cell_type": "markdown",
   "metadata": {},
   "source": [
    "### 5.1 Checking list of followers\n",
    "\n",
    "Let us begin by first checking out the list of users we are following. Here is the graphical representation of the list for your reference:\n",
    "\n",
    "<img src=\"friends_list.jpg\",width=800, height=800>"
   ]
  },
  {
   "cell_type": "code",
   "execution_count": 23,
   "metadata": {
    "collapsed": false
   },
   "outputs": [
    {
     "name": "stdout",
     "output_type": "stream",
     "text": [
      "(u'iheartpgh', 7384442)\n",
      "(u'billpeduto', 23541684)\n",
      "(u'Dejan_Kovacevic', 51674513)\n",
      "(u'MarkMaddenX', 382815761)\n",
      "(u'AntonioBrown', 224221596)\n",
      "(u'CityPGH', 168774634)\n",
      "(u'PittsburghPG', 21780652)\n",
      "(u'DowntownPitt', 32445738)\n",
      "(u'CBSPittsburgh', 14085099)\n",
      "(u'fsmikey', 15906474)\n",
      "(u'penguins', 15020865)\n",
      "(u'Pirates', 37947138)\n",
      "(u'PittsburghMag', 17543584)\n",
      "(u'tpolamalu', 50532092)\n",
      "(u'Pittsburgh_Dad', 394826630)\n",
      "(u'steelers', 19426729)\n",
      "(u'malkin71_', 369506120)\n",
      "(u'NeilWalker18', 295422142)\n",
      "(u'ROOTSPORTSPIT', 20613068)\n",
      "(u'TheCUTCH22', 66209470)\n"
     ]
    }
   ],
   "source": [
    "friends = twitter.get_friends_list()\n",
    "for friend in friends['users']:\n",
    "    print (friend['screen_name'], friend['id'])"
   ]
  },
  {
   "cell_type": "markdown",
   "metadata": {},
   "source": [
    "### 5.2 Follow someone programmatically\n",
    "\n",
    "Twython allows you to follow new people by writing code! This can be achieved by using the `create_friendship` method and passing either the `id` or `screen_name` of the user you wish to follow. Let us try it out by following Hillary Clinton (@HillaryClinton). The `follow` parameter enables notifications from that user. On success, the method returns a 'users' object of the person you are following. "
   ]
  },
  {
   "cell_type": "code",
   "execution_count": 25,
   "metadata": {
    "collapsed": false
   },
   "outputs": [
    {
     "name": "stdout",
     "output_type": "stream",
     "text": [
      "{u'follow_request_sent': False, u'has_extended_profile': True, u'profile_use_background_image': False, u'default_profile_image': False, u'id': 1339835893, u'profile_background_image_url_https': u'https://abs.twimg.com/images/themes/theme1/bg.png', u'verified': True, u'translator_type': u'none', u'profile_text_color': u'000000', u'muting': False, u'profile_image_url_https': u'https://pbs.twimg.com/profile_images/750300510264107008/G8-PA5KA_normal.jpg', u'profile_sidebar_fill_color': u'000000', u'entities': {u'url': {u'urls': [{u'url': u'https://t.co/xhPHAcvdoc', u'indices': [0, 23], u'expanded_url': u'http://HillaryClinton.com', u'display_url': u'HillaryClinton.com'}]}, u'description': {u'urls': []}}, u'followers_count': 10084829, u'profile_sidebar_border_color': u'000000', u'id_str': u'1339835893', u'profile_background_color': u'0057B8', u'listed_count': 33081, u'status': {u'contributors': None, u'truncated': False, u'text': u'\"The thought of Donald Trump with nuclear weapons scares me to death. It should scare everyone.\" https://t.co/E77BgjQGj7', u'is_quote_status': False, u'in_reply_to_status_id': None, u'id': 793282113114034176L, u'favorite_count': 3329, u'source': u'<a href=\"https://studio.twitter.com\" rel=\"nofollow\">Media Studio</a>', u'retweeted': False, u'coordinates': None, u'entities': {u'symbols': [], u'user_mentions': [], u'hashtags': [], u'urls': [], u'media': [{u'expanded_url': u'https://twitter.com/HillaryClinton/status/793282113114034176/video/1', u'display_url': u'pic.twitter.com/E77BgjQGj7', u'url': u'https://t.co/E77BgjQGj7', u'media_url_https': u'https://pbs.twimg.com/media/CuGDBaBWYAEmaL_.jpg', u'id_str': u'784051653167026177', u'sizes': {u'small': {u'h': 383, u'resize': u'fit', u'w': 680}, u'large': {u'h': 720, u'resize': u'fit', u'w': 1280}, u'medium': {u'h': 675, u'resize': u'fit', u'w': 1200}, u'thumb': {u'h': 150, u'resize': u'crop', u'w': 150}}, u'indices': [97, 120], u'type': u'photo', u'id': 784051653167026177L, u'media_url': u'http://pbs.twimg.com/media/CuGDBaBWYAEmaL_.jpg'}]}, u'in_reply_to_screen_name': None, u'in_reply_to_user_id': None, u'retweet_count': 1624, u'id_str': u'793282113114034176', u'favorited': False, u'geo': None, u'in_reply_to_user_id_str': None, u'possibly_sensitive': False, u'lang': u'en', u'created_at': u'Tue Nov 01 02:42:48 +0000 2016', u'in_reply_to_status_id_str': None, u'place': None, u'extended_entities': {u'media': [{u'additional_media_info': {u'monetizable': False, u'embeddable': True, u'description': u'', u'title': u''}, u'expanded_url': u'https://twitter.com/HillaryClinton/status/793282113114034176/video/1', u'display_url': u'pic.twitter.com/E77BgjQGj7', u'url': u'https://t.co/E77BgjQGj7', u'media_url_https': u'https://pbs.twimg.com/media/CuGDBaBWYAEmaL_.jpg', u'video_info': {u'aspect_ratio': [16, 9], u'duration_millis': 30197, u'variants': [{u'url': u'https://video.twimg.com/amplify_video/784051653167026177/vid/640x360/19HQCn25SsnESr8E.mp4', u'bitrate': 832000, u'content_type': u'video/mp4'}, {u'url': u'https://video.twimg.com/amplify_video/784051653167026177/vid/320x180/gO_fzQ3xDcMR76l8.mp4', u'bitrate': 320000, u'content_type': u'video/mp4'}, {u'url': u'https://video.twimg.com/amplify_video/784051653167026177/pl/lo-lMdyEFasDaDXh.mpd', u'content_type': u'application/dash+xml'}, {u'url': u'https://video.twimg.com/amplify_video/784051653167026177/pl/lo-lMdyEFasDaDXh.m3u8', u'content_type': u'application/x-mpegURL'}, {u'url': u'https://video.twimg.com/amplify_video/784051653167026177/vid/1280x720/QGTi-1UF9pCPD42I.mp4', u'bitrate': 2176000, u'content_type': u'video/mp4'}]}, u'id_str': u'784051653167026177', u'sizes': {u'small': {u'h': 383, u'resize': u'fit', u'w': 680}, u'large': {u'h': 720, u'resize': u'fit', u'w': 1280}, u'medium': {u'h': 675, u'resize': u'fit', u'w': 1200}, u'thumb': {u'h': 150, u'resize': u'crop', u'w': 150}}, u'indices': [97, 120], u'type': u'video', u'id': 784051653167026177L, u'media_url': u'http://pbs.twimg.com/media/CuGDBaBWYAEmaL_.jpg'}]}}, u'is_translation_enabled': False, u'utc_offset': -14400, u'statuses_count': 9493, u'description': u'Wife, mom, grandma, women+kids advocate, FLOTUS, Senator, SecState, hair icon, pantsuit aficionado, 2016 presidential candidate. Tweets from Hillary signed \\u2013H', u'friends_count': 758, u'location': u'New York, NY', u'profile_link_color': u'0057B8', u'profile_image_url': u'http://pbs.twimg.com/profile_images/750300510264107008/G8-PA5KA_normal.jpg', u'following': True, u'geo_enabled': True, u'profile_banner_url': u'https://pbs.twimg.com/profile_banners/1339835893/1476893928', u'profile_background_image_url': u'http://abs.twimg.com/images/themes/theme1/bg.png', u'screen_name': u'HillaryClinton', u'lang': u'en', u'profile_background_tile': False, u'favourites_count': 1190, u'name': u'Hillary Clinton', u'notifications': False, u'url': u'https://t.co/xhPHAcvdoc', u'created_at': u'Tue Apr 09 18:04:35 +0000 2013', u'contributors_enabled': False, u'time_zone': u'Eastern Time (US & Canada)', u'protected': False, u'default_profile': False, u'is_translator': False}\n"
     ]
    }
   ],
   "source": [
    "new_friend = twitter.create_friendship(screen_name = 'HillaryClinton', follow = True)\n",
    "print new_friend\n"
   ]
  },
  {
   "cell_type": "markdown",
   "metadata": {},
   "source": [
    "It is a success:\n",
    "\n",
    "<img src=\"following_clinton.jpg\",width=800, height=800>\n",
    "\n",
    "However, the returned users object appears pretty large and messy. This is because there are multiple layers in the returned object - dictionaries within dictionaries within dictionaires! Other objects like `media` entity can also be present. Wading through this complexity is a challenge with the Twitter API. We access using attributes. Eg: "
   ]
  },
  {
   "cell_type": "code",
   "execution_count": 26,
   "metadata": {
    "collapsed": false
   },
   "outputs": [
    {
     "name": "stdout",
     "output_type": "stream",
     "text": [
      "10084829\n"
     ]
    }
   ],
   "source": [
    "print new_friend['followers_count']"
   ]
  },
  {
   "cell_type": "code",
   "execution_count": 28,
   "metadata": {
    "collapsed": false
   },
   "outputs": [
    {
     "name": "stdout",
     "output_type": "stream",
     "text": [
      "Wife, mom, grandma, women+kids advocate, FLOTUS, Senator, SecState, hair icon, pantsuit aficionado, 2016 presidential candidate. Tweets from Hillary signed –H\n"
     ]
    }
   ],
   "source": [
    "print new_friend['description']"
   ]
  },
  {
   "cell_type": "markdown",
   "metadata": {},
   "source": [
    "## 6. Tweets"
   ]
  },
  {
   "cell_type": "markdown",
   "metadata": {},
   "source": [
    "Tweets are the basic units of messaging. They can be favourited, retweeted, deleted. Tweets objects have properties like `id` for identification and others like `created_at` ,`lang`, `hashtags` etc. One interesting property is `withheld_in_countries` which includes a list of countries where the Tweet should not be seen.\n"
   ]
  },
  {
   "cell_type": "markdown",
   "metadata": {},
   "source": [
    "### 6.1 Get Timeline\n",
    "\n",
    "Let us understand Tweets by looking at our timeline. To understand better, here is how the timeline actually looks graphically: \n",
    "\n",
    "<img src=\"timeline.jpg\",width=800, height=800>"
   ]
  },
  {
   "cell_type": "code",
   "execution_count": 15,
   "metadata": {
    "collapsed": false
   },
   "outputs": [
    {
     "name": "stdout",
     "output_type": "stream",
     "text": [
      "[{u'contributors': None, u'truncated': False, u'text': u'RT @WPXIVarnum: A local county changing policies because of heroin overdoses @WPXI at 11. https://t.co/X6WoCObX4l', u'is_quote_status': False, u'in_reply_to_status_id': None, u'id': 793277401342046209L, u'favorite_count': 0, u'source': u'<a href=\"http://twitter.com\" rel=\"nofollow\">Twitter Web Client</a>', u'retweeted': False, u'coordinates': None, u'entities': {u'symbols': [], u'user_mentions': [{u'id': 2398393345L, u'indices': [3, 14], u'id_str': u'2398393345', u'screen_name': u'WPXIVarnum', u'name': u'Catherine Varnum'}, {u'id': 14085146, u'indices': [77, 82], u'id_str': u'14085146', u'screen_name': u'WPXI', u'name': u'WPXI'}], u'hashtags': [], u'urls': [], u'media': [{u'source_user_id': 2398393345L, u'source_status_id_str': u'793277143685922816', u'expanded_url': u'https://twitter.com/WPXIVarnum/status/793277143685922816/video/1', u'display_url': u'pic.twitter.com/X6WoCObX4l', u'url': u'https://t.co/X6WoCObX4l', u'media_url_https': u'https://pbs.twimg.com/ext_tw_video_thumb/793277110207078400/pu/img/AApQqIbiCD9_Eurm.jpg', u'source_user_id_str': u'2398393345', u'source_status_id': 793277143685922816L, u'id_str': u'793277110207078400', u'sizes': {u'small': {u'h': 340, u'resize': u'fit', u'w': 340}, u'large': {u'h': 640, u'resize': u'fit', u'w': 640}, u'medium': {u'h': 600, u'resize': u'fit', u'w': 600}, u'thumb': {u'h': 150, u'resize': u'crop', u'w': 150}}, u'indices': [90, 113], u'type': u'photo', u'id': 793277110207078400L, u'media_url': u'http://pbs.twimg.com/ext_tw_video_thumb/793277110207078400/pu/img/AApQqIbiCD9_Eurm.jpg'}]}, u'in_reply_to_screen_name': None, u'in_reply_to_user_id': None, u'retweet_count': 1, u'id_str': u'793277401342046209', u'favorited': False, u'retweeted_status': {u'contributors': None, u'truncated': False, u'text': u'A local county changing policies because of heroin overdoses @WPXI at 11. https://t.co/X6WoCObX4l', u'is_quote_status': False, u'in_reply_to_status_id': None, u'id': 793277143685922816L, u'favorite_count': 0, u'source': u'<a href=\"http://twitter.com/download/iphone\" rel=\"nofollow\">Twitter for iPhone</a>', u'retweeted': False, u'coordinates': None, u'entities': {u'symbols': [], u'user_mentions': [{u'id': 14085146, u'indices': [61, 66], u'id_str': u'14085146', u'screen_name': u'WPXI', u'name': u'WPXI'}], u'hashtags': [], u'urls': [], u'media': [{u'expanded_url': u'https://twitter.com/WPXIVarnum/status/793277143685922816/video/1', u'display_url': u'pic.twitter.com/X6WoCObX4l', u'url': u'https://t.co/X6WoCObX4l', u'media_url_https': u'https://pbs.twimg.com/ext_tw_video_thumb/793277110207078400/pu/img/AApQqIbiCD9_Eurm.jpg', u'id_str': u'793277110207078400', u'sizes': {u'small': {u'h': 340, u'resize': u'fit', u'w': 340}, u'large': {u'h': 640, u'resize': u'fit', u'w': 640}, u'medium': {u'h': 600, u'resize': u'fit', u'w': 600}, u'thumb': {u'h': 150, u'resize': u'crop', u'w': 150}}, u'indices': [74, 97], u'type': u'photo', u'id': 793277110207078400L, u'media_url': u'http://pbs.twimg.com/ext_tw_video_thumb/793277110207078400/pu/img/AApQqIbiCD9_Eurm.jpg'}]}, u'in_reply_to_screen_name': None, u'in_reply_to_user_id': None, u'retweet_count': 1, u'id_str': u'793277143685922816', u'favorited': False, u'user': {u'follow_request_sent': False, u'has_extended_profile': False, u'profile_use_background_image': True, u'default_profile_image': False, u'id': 2398393345L, u'profile_background_image_url_https': u'https://abs.twimg.com/images/themes/theme1/bg.png', u'verified': True, u'translator_type': u'none', u'profile_text_color': u'333333', u'profile_image_url_https': u'https://pbs.twimg.com/profile_images/446448508514476032/_kyvMvF3_normal.jpeg', u'profile_sidebar_fill_color': u'DDEEF6', u'entities': {u'url': {u'urls': [{u'url': u'https://t.co/wqsJkRCCcO', u'indices': [0, 23], u'expanded_url': u'http://www.wpxi.com', u'display_url': u'wpxi.com'}]}, u'description': {u'urls': []}}, u'followers_count': 1848, u'profile_sidebar_border_color': u'C0DEED', u'id_str': u'2398393345', u'profile_background_color': u'C0DEED', u'listed_count': 52, u'is_translation_enabled': False, u'utc_offset': -14400, u'statuses_count': 5069, u'description': u\"Investigative reporter/anchor for WPXI Pittsburgh and figure skating coach. My opinions are my own. RT's are not endorsements.\", u'friends_count': 1032, u'location': u'', u'profile_link_color': u'0084B4', u'profile_image_url': u'http://pbs.twimg.com/profile_images/446448508514476032/_kyvMvF3_normal.jpeg', u'following': False, u'geo_enabled': True, u'profile_banner_url': u'https://pbs.twimg.com/profile_banners/2398393345/1471919461', u'profile_background_image_url': u'http://abs.twimg.com/images/themes/theme1/bg.png', u'screen_name': u'WPXIVarnum', u'lang': u'en', u'profile_background_tile': False, u'favourites_count': 442, u'name': u'Catherine Varnum', u'notifications': False, u'url': u'https://t.co/wqsJkRCCcO', u'created_at': u'Wed Mar 19 20:01:55 +0000 2014', u'contributors_enabled': False, u'time_zone': u'Eastern Time (US & Canada)', u'protected': False, u'default_profile': True, u'is_translator': False}, u'geo': None, u'in_reply_to_user_id_str': None, u'possibly_sensitive': False, u'possibly_sensitive_appealable': False, u'lang': u'en', u'created_at': u'Tue Nov 01 02:23:04 +0000 2016', u'in_reply_to_status_id_str': None, u'place': None, u'extended_entities': {u'media': [{u'additional_media_info': {u'monetizable': False}, u'expanded_url': u'https://twitter.com/WPXIVarnum/status/793277143685922816/video/1', u'display_url': u'pic.twitter.com/X6WoCObX4l', u'url': u'https://t.co/X6WoCObX4l', u'media_url_https': u'https://pbs.twimg.com/ext_tw_video_thumb/793277110207078400/pu/img/AApQqIbiCD9_Eurm.jpg', u'video_info': {u'aspect_ratio': [1, 1], u'duration_millis': 9200, u'variants': [{u'url': u'https://video.twimg.com/ext_tw_video/793277110207078400/pu/vid/480x480/jX4zwhKcO-HI0aDG.mp4', u'bitrate': 832000, u'content_type': u'video/mp4'}, {u'url': u'https://video.twimg.com/ext_tw_video/793277110207078400/pu/pl/-422HoY4mF030MLS.m3u8', u'content_type': u'application/x-mpegURL'}, {u'url': u'https://video.twimg.com/ext_tw_video/793277110207078400/pu/vid/240x240/5vO0m5gCAO1TH2HZ.mp4', u'bitrate': 320000, u'content_type': u'video/mp4'}, {u'url': u'https://video.twimg.com/ext_tw_video/793277110207078400/pu/pl/-422HoY4mF030MLS.mpd', u'content_type': u'application/dash+xml'}]}, u'id_str': u'793277110207078400', u'sizes': {u'small': {u'h': 340, u'resize': u'fit', u'w': 340}, u'large': {u'h': 640, u'resize': u'fit', u'w': 640}, u'medium': {u'h': 600, u'resize': u'fit', u'w': 600}, u'thumb': {u'h': 150, u'resize': u'crop', u'w': 150}}, u'indices': [74, 97], u'type': u'video', u'id': 793277110207078400L, u'media_url': u'http://pbs.twimg.com/ext_tw_video_thumb/793277110207078400/pu/img/AApQqIbiCD9_Eurm.jpg'}]}}, u'user': {u'follow_request_sent': False, u'has_extended_profile': False, u'profile_use_background_image': True, u'default_profile_image': False, u'id': 14085146, u'profile_background_image_url_https': u'https://pbs.twimg.com/profile_background_images/251197918/twitter_news_rev.jpg', u'verified': True, u'translator_type': u'none', u'profile_text_color': u'333333', u'profile_image_url_https': u'https://pbs.twimg.com/profile_images/767731248714448896/AUzBwtc3_normal.jpg', u'profile_sidebar_fill_color': u'DDEEF6', u'entities': {u'url': {u'urls': [{u'url': u'http://t.co/wqsJkRDa2m', u'indices': [0, 22], u'expanded_url': u'http://www.wpxi.com', u'display_url': u'wpxi.com'}]}, u'description': {u'urls': []}}, u'followers_count': 133479, u'profile_sidebar_border_color': u'0A0F31', u'id_str': u'14085146', u'profile_background_color': u'0A0F31', u'listed_count': 1178, u'is_translation_enabled': False, u'utc_offset': -14400, u'statuses_count': 156082, u'description': u'LEGALESE: If you send us a tweet, you consent to letting WPXI use and showcase it in any media, including TV.', u'friends_count': 3249, u'location': u'Pittsburgh', u'profile_link_color': u'0084B4', u'profile_image_url': u'http://pbs.twimg.com/profile_images/767731248714448896/AUzBwtc3_normal.jpg', u'following': True, u'geo_enabled': True, u'profile_banner_url': u'https://pbs.twimg.com/profile_banners/14085146/1475075203', u'profile_background_image_url': u'http://pbs.twimg.com/profile_background_images/251197918/twitter_news_rev.jpg', u'screen_name': u'WPXI', u'lang': u'en', u'profile_background_tile': False, u'favourites_count': 1109, u'name': u'WPXI', u'notifications': False, u'url': u'http://t.co/wqsJkRDa2m', u'created_at': u'Wed Mar 05 21:24:23 +0000 2008', u'contributors_enabled': False, u'time_zone': u'Eastern Time (US & Canada)', u'protected': False, u'default_profile': False, u'is_translator': False}, u'geo': None, u'in_reply_to_user_id_str': None, u'possibly_sensitive': False, u'possibly_sensitive_appealable': False, u'lang': u'en', u'created_at': u'Tue Nov 01 02:24:05 +0000 2016', u'in_reply_to_status_id_str': None, u'place': None, u'extended_entities': {u'media': [{u'additional_media_info': {u'source_user': {u'follow_request_sent': False, u'has_extended_profile': False, u'profile_use_background_image': True, u'default_profile_image': False, u'id': 2398393345L, u'profile_background_image_url_https': u'https://abs.twimg.com/images/themes/theme1/bg.png', u'verified': True, u'translator_type': u'none', u'profile_text_color': u'333333', u'profile_image_url_https': u'https://pbs.twimg.com/profile_images/446448508514476032/_kyvMvF3_normal.jpeg', u'profile_sidebar_fill_color': u'DDEEF6', u'entities': {u'url': {u'urls': [{u'url': u'https://t.co/wqsJkRCCcO', u'indices': [0, 23], u'expanded_url': u'http://www.wpxi.com', u'display_url': u'wpxi.com'}]}, u'description': {u'urls': []}}, u'followers_count': 1848, u'profile_sidebar_border_color': u'C0DEED', u'id_str': u'2398393345', u'profile_background_color': u'C0DEED', u'listed_count': 52, u'is_translation_enabled': False, u'utc_offset': -14400, u'statuses_count': 5069, u'description': u\"Investigative reporter/anchor for WPXI Pittsburgh and figure skating coach. My opinions are my own. RT's are not endorsements.\", u'friends_count': 1032, u'location': u'', u'profile_link_color': u'0084B4', u'profile_image_url': u'http://pbs.twimg.com/profile_images/446448508514476032/_kyvMvF3_normal.jpeg', u'following': False, u'geo_enabled': True, u'profile_banner_url': u'https://pbs.twimg.com/profile_banners/2398393345/1471919461', u'profile_background_image_url': u'http://abs.twimg.com/images/themes/theme1/bg.png', u'screen_name': u'WPXIVarnum', u'lang': u'en', u'profile_background_tile': False, u'favourites_count': 442, u'name': u'Catherine Varnum', u'notifications': False, u'url': u'https://t.co/wqsJkRCCcO', u'created_at': u'Wed Mar 19 20:01:55 +0000 2014', u'contributors_enabled': False, u'time_zone': u'Eastern Time (US & Canada)', u'protected': False, u'default_profile': True, u'is_translator': False}, u'monetizable': False}, u'source_user_id': 2398393345L, u'source_status_id_str': u'793277143685922816', u'expanded_url': u'https://twitter.com/WPXIVarnum/status/793277143685922816/video/1', u'display_url': u'pic.twitter.com/X6WoCObX4l', u'url': u'https://t.co/X6WoCObX4l', u'media_url_https': u'https://pbs.twimg.com/ext_tw_video_thumb/793277110207078400/pu/img/AApQqIbiCD9_Eurm.jpg', u'source_user_id_str': u'2398393345', u'source_status_id': 793277143685922816L, u'video_info': {u'aspect_ratio': [1, 1], u'duration_millis': 9200, u'variants': [{u'url': u'https://video.twimg.com/ext_tw_video/793277110207078400/pu/vid/480x480/jX4zwhKcO-HI0aDG.mp4', u'bitrate': 832000, u'content_type': u'video/mp4'}, {u'url': u'https://video.twimg.com/ext_tw_video/793277110207078400/pu/pl/-422HoY4mF030MLS.m3u8', u'content_type': u'application/x-mpegURL'}, {u'url': u'https://video.twimg.com/ext_tw_video/793277110207078400/pu/vid/240x240/5vO0m5gCAO1TH2HZ.mp4', u'bitrate': 320000, u'content_type': u'video/mp4'}, {u'url': u'https://video.twimg.com/ext_tw_video/793277110207078400/pu/pl/-422HoY4mF030MLS.mpd', u'content_type': u'application/dash+xml'}]}, u'id_str': u'793277110207078400', u'sizes': {u'small': {u'h': 340, u'resize': u'fit', u'w': 340}, u'large': {u'h': 640, u'resize': u'fit', u'w': 640}, u'medium': {u'h': 600, u'resize': u'fit', u'w': 600}, u'thumb': {u'h': 150, u'resize': u'crop', u'w': 150}}, u'indices': [90, 113], u'type': u'video', u'id': 793277110207078400L, u'media_url': u'http://pbs.twimg.com/ext_tw_video_thumb/793277110207078400/pu/img/AApQqIbiCD9_Eurm.jpg'}]}}, {u'contributors': None, u'truncated': False, u'text': u'Be very afraid. \\U0001f633 #trickortreat https://t.co/ZjDlPMpzjE', u'is_quote_status': False, u'in_reply_to_status_id': None, u'id': 793276601798631424L, u'favorite_count': 192, u'source': u'<a href=\"http://twitter.com/download/iphone\" rel=\"nofollow\">Twitter for iPhone</a>', u'retweeted': False, u'coordinates': None, u'entities': {u'symbols': [], u'user_mentions': [], u'hashtags': [{u'indices': [18, 31], u'text': u'trickortreat'}], u'urls': [], u'media': [{u'expanded_url': u'https://twitter.com/steelers/status/793276601798631424/photo/1', u'display_url': u'pic.twitter.com/ZjDlPMpzjE', u'url': u'https://t.co/ZjDlPMpzjE', u'media_url_https': u'https://pbs.twimg.com/media/CwJI2-CWgAAlceX.jpg', u'id_str': u'793276593573625856', u'sizes': {u'large': {u'h': 994, u'resize': u'fit', u'w': 1600}, u'small': {u'h': 422, u'resize': u'fit', u'w': 680}, u'medium': {u'h': 746, u'resize': u'fit', u'w': 1200}, u'thumb': {u'h': 150, u'resize': u'crop', u'w': 150}}, u'indices': [32, 55], u'type': u'photo', u'id': 793276593573625856L, u'media_url': u'http://pbs.twimg.com/media/CwJI2-CWgAAlceX.jpg'}]}, u'in_reply_to_screen_name': None, u'in_reply_to_user_id': None, u'retweet_count': 102, u'id_str': u'793276601798631424', u'favorited': False, u'user': {u'follow_request_sent': False, u'has_extended_profile': True, u'profile_use_background_image': True, u'default_profile_image': False, u'id': 19426729, u'profile_background_image_url_https': u'https://pbs.twimg.com/profile_background_images/672807277783605248/qJEV2FEW.jpg', u'verified': True, u'translator_type': u'none', u'profile_text_color': u'666666', u'profile_image_url_https': u'https://pbs.twimg.com/profile_images/793081643854618624/vE6IT7Cw_normal.jpg', u'profile_sidebar_fill_color': u'252429', u'entities': {u'url': {u'urls': [{u'url': u'https://t.co/lsp0tFmTDU', u'indices': [0, 23], u'expanded_url': u'http://steelers.com', u'display_url': u'steelers.com'}]}, u'description': {u'urls': []}}, u'followers_count': 1503185, u'profile_sidebar_border_color': u'000000', u'id_str': u'19426729', u'profile_background_color': u'1A1B1F', u'listed_count': 8329, u'is_translation_enabled': False, u'utc_offset': -14400, u'statuses_count': 25935, u'description': u'The official Twitter account of the Pittsburgh Steelers. Also follow: @SteelersUnite, @heinzfield, @SteelersEquip, @SteelersShop, @SteelersYouthFB', u'friends_count': 261, u'location': u'#BurghProud', u'profile_link_color': u'FFCC4D', u'profile_image_url': u'http://pbs.twimg.com/profile_images/793081643854618624/vE6IT7Cw_normal.jpg', u'following': True, u'geo_enabled': True, u'profile_banner_url': u'https://pbs.twimg.com/profile_banners/19426729/1477920663', u'profile_background_image_url': u'http://pbs.twimg.com/profile_background_images/672807277783605248/qJEV2FEW.jpg', u'screen_name': u'steelers', u'lang': u'en', u'profile_background_tile': False, u'favourites_count': 3879, u'name': u'Pittsburgh Steelers', u'notifications': False, u'url': u'https://t.co/lsp0tFmTDU', u'created_at': u'Sat Jan 24 01:32:52 +0000 2009', u'contributors_enabled': False, u'time_zone': u'Eastern Time (US & Canada)', u'protected': False, u'default_profile': False, u'is_translator': False}, u'geo': None, u'in_reply_to_user_id_str': None, u'possibly_sensitive': False, u'possibly_sensitive_appealable': False, u'lang': u'en', u'created_at': u'Tue Nov 01 02:20:54 +0000 2016', u'in_reply_to_status_id_str': None, u'place': None, u'extended_entities': {u'media': [{u'expanded_url': u'https://twitter.com/steelers/status/793276601798631424/photo/1', u'display_url': u'pic.twitter.com/ZjDlPMpzjE', u'url': u'https://t.co/ZjDlPMpzjE', u'media_url_https': u'https://pbs.twimg.com/media/CwJI2-CWgAAlceX.jpg', u'id_str': u'793276593573625856', u'sizes': {u'large': {u'h': 994, u'resize': u'fit', u'w': 1600}, u'small': {u'h': 422, u'resize': u'fit', u'w': 680}, u'medium': {u'h': 746, u'resize': u'fit', u'w': 1200}, u'thumb': {u'h': 150, u'resize': u'crop', u'w': 150}}, u'indices': [32, 55], u'type': u'photo', u'id': 793276593573625856L, u'media_url': u'http://pbs.twimg.com/media/CwJI2-CWgAAlceX.jpg'}]}}, {u'contributors': None, u'truncated': False, u'text': u\"RT @Mike_Mackin11: Hey @AntonioBrown trick or treat business was boomin' for the little guy! https://t.co/LvIoCcqv5f\", u'is_quote_status': False, u'in_reply_to_status_id': None, u'id': 793274808767242241L, u'favorite_count': 0, u'source': u'<a href=\"http://twitter.com/download/iphone\" rel=\"nofollow\">Twitter for iPhone</a>', u'retweeted': False, u'coordinates': None, u'entities': {u'symbols': [], u'user_mentions': [{u'id': 2291189882L, u'indices': [3, 17], u'id_str': u'2291189882', u'screen_name': u'Mike_Mackin11', u'name': u'Mike Mackin'}, {u'id': 224221596, u'indices': [23, 36], u'id_str': u'224221596', u'screen_name': u'AntonioBrown', u'name': u'Antonio Brown'}], u'hashtags': [], u'urls': [], u'media': [{u'source_user_id': 2291189882L, u'source_status_id_str': u'793252435368304640', u'expanded_url': u'https://twitter.com/Mike_Mackin11/status/793252435368304640/photo/1', u'display_url': u'pic.twitter.com/LvIoCcqv5f', u'url': u'https://t.co/LvIoCcqv5f', u'media_url_https': u'https://pbs.twimg.com/media/CwIy4A0VMAABJT6.jpg', u'source_user_id_str': u'2291189882', u'source_status_id': 793252435368304640L, u'id_str': u'793252422244184064', u'sizes': {u'large': {u'h': 2048, u'resize': u'fit', u'w': 1428}, u'small': {u'h': 680, u'resize': u'fit', u'w': 474}, u'medium': {u'h': 1200, u'resize': u'fit', u'w': 837}, u'thumb': {u'h': 150, u'resize': u'crop', u'w': 150}}, u'indices': [93, 116], u'type': u'photo', u'id': 793252422244184064L, u'media_url': u'http://pbs.twimg.com/media/CwIy4A0VMAABJT6.jpg'}]}, u'in_reply_to_screen_name': None, u'in_reply_to_user_id': None, u'retweet_count': 7, u'id_str': u'793274808767242241', u'favorited': False, u'retweeted_status': {u'contributors': None, u'truncated': False, u'text': u\"Hey @AntonioBrown trick or treat business was boomin' for the little guy! https://t.co/LvIoCcqv5f\", u'is_quote_status': False, u'in_reply_to_status_id': None, u'id': 793252435368304640L, u'favorite_count': 90, u'source': u'<a href=\"http://twitter.com/download/iphone\" rel=\"nofollow\">Twitter for iPhone</a>', u'retweeted': False, u'coordinates': None, u'entities': {u'symbols': [], u'user_mentions': [{u'id': 224221596, u'indices': [4, 17], u'id_str': u'224221596', u'screen_name': u'AntonioBrown', u'name': u'Antonio Brown'}], u'hashtags': [], u'urls': [], u'media': [{u'expanded_url': u'https://twitter.com/Mike_Mackin11/status/793252435368304640/photo/1', u'display_url': u'pic.twitter.com/LvIoCcqv5f', u'url': u'https://t.co/LvIoCcqv5f', u'media_url_https': u'https://pbs.twimg.com/media/CwIy4A0VMAABJT6.jpg', u'id_str': u'793252422244184064', u'sizes': {u'large': {u'h': 2048, u'resize': u'fit', u'w': 1428}, u'small': {u'h': 680, u'resize': u'fit', u'w': 474}, u'medium': {u'h': 1200, u'resize': u'fit', u'w': 837}, u'thumb': {u'h': 150, u'resize': u'crop', u'w': 150}}, u'indices': [74, 97], u'type': u'photo', u'id': 793252422244184064L, u'media_url': u'http://pbs.twimg.com/media/CwIy4A0VMAABJT6.jpg'}]}, u'in_reply_to_screen_name': None, u'in_reply_to_user_id': None, u'retweet_count': 7, u'id_str': u'793252435368304640', u'favorited': False, u'user': {u'follow_request_sent': False, u'has_extended_profile': True, u'profile_use_background_image': True, u'default_profile_image': False, u'id': 2291189882L, u'profile_background_image_url_https': u'https://abs.twimg.com/images/themes/theme1/bg.png', u'verified': False, u'translator_type': u'none', u'profile_text_color': u'333333', u'profile_image_url_https': u'https://pbs.twimg.com/profile_images/560990631930368002/_gJIxEtQ_normal.jpeg', u'profile_sidebar_fill_color': u'DDEEF6', u'entities': {u'description': {u'urls': []}}, u'followers_count': 360, u'profile_sidebar_border_color': u'000000', u'id_str': u'2291189882', u'profile_background_color': u'0E0F0F', u'listed_count': 7, u'is_translation_enabled': False, u'utc_offset': -10800, u'statuses_count': 856, u'description': u'Lucky husband. Proud dad of two. Yinzer.', u'friends_count': 833, u'location': u'Pittsburgh, PA', u'profile_link_color': u'3B94D9', u'profile_image_url': u'http://pbs.twimg.com/profile_images/560990631930368002/_gJIxEtQ_normal.jpeg', u'following': False, u'geo_enabled': True, u'profile_banner_url': u'https://pbs.twimg.com/profile_banners/2291189882/1458399795', u'profile_background_image_url': u'http://abs.twimg.com/images/themes/theme1/bg.png', u'screen_name': u'Mike_Mackin11', u'lang': u'en', u'profile_background_tile': False, u'favourites_count': 1220, u'name': u'Mike Mackin', u'notifications': False, u'url': None, u'created_at': u'Tue Jan 14 13:58:19 +0000 2014', u'contributors_enabled': False, u'time_zone': u'Atlantic Time (Canada)', u'protected': False, u'default_profile': False, u'is_translator': False}, u'geo': None, u'in_reply_to_user_id_str': None, u'possibly_sensitive': False, u'possibly_sensitive_appealable': False, u'lang': u'en', u'created_at': u'Tue Nov 01 00:44:53 +0000 2016', u'in_reply_to_status_id_str': None, u'place': None, u'extended_entities': {u'media': [{u'expanded_url': u'https://twitter.com/Mike_Mackin11/status/793252435368304640/photo/1', u'display_url': u'pic.twitter.com/LvIoCcqv5f', u'url': u'https://t.co/LvIoCcqv5f', u'media_url_https': u'https://pbs.twimg.com/media/CwIy4A0VMAABJT6.jpg', u'id_str': u'793252422244184064', u'sizes': {u'large': {u'h': 2048, u'resize': u'fit', u'w': 1428}, u'small': {u'h': 680, u'resize': u'fit', u'w': 474}, u'medium': {u'h': 1200, u'resize': u'fit', u'w': 837}, u'thumb': {u'h': 150, u'resize': u'crop', u'w': 150}}, u'indices': [74, 97], u'type': u'photo', u'id': 793252422244184064L, u'media_url': u'http://pbs.twimg.com/media/CwIy4A0VMAABJT6.jpg'}]}}, u'user': {u'follow_request_sent': False, u'has_extended_profile': True, u'profile_use_background_image': True, u'default_profile_image': False, u'id': 224221596, u'profile_background_image_url_https': u'https://pbs.twimg.com/profile_background_images/244665602/brown84-catch.jpg', u'verified': True, u'translator_type': u'none', u'profile_text_color': u'333333', u'profile_image_url_https': u'https://pbs.twimg.com/profile_images/662466850429788160/7WdzKtvt_normal.jpg', u'profile_sidebar_fill_color': u'A6A6A6', u'entities': {u'url': {u'urls': [{u'url': u'https://t.co/jDF34lLJwe', u'indices': [0, 23], u'expanded_url': u'http://bit.ly/AB84Store', u'display_url': u'bit.ly/AB84Store'}]}, u'description': {u'urls': [{u'url': u'https://t.co/SkNkZx0WKb', u'indices': [91, 114], u'expanded_url': u'http://FB.com/AntonioBrown84', u'display_url': u'FB.com/AntonioBrown84'}]}}, u'followers_count': 670950, u'profile_sidebar_border_color': u'000000', u'id_str': u'224221596', u'profile_background_color': u'131516', u'listed_count': 2644, u'is_translation_enabled': False, u'utc_offset': -14400, u'statuses_count': 18137, u'description': u'Pittsburgh @Steelers All-Pro WR #AB84. Chest Up Eyes Up Prayed Up #CuEuPu #Boomin #CallGod https://t.co/SkNkZx0WKb | Instagram: ab | Snapchat: AB84Official', u'friends_count': 3764, u'location': u'cmelike', u'profile_link_color': u'E6E617', u'profile_image_url': u'http://pbs.twimg.com/profile_images/662466850429788160/7WdzKtvt_normal.jpg', u'following': True, u'geo_enabled': True, u'profile_banner_url': u'https://pbs.twimg.com/profile_banners/224221596/1464297456', u'profile_background_image_url': u'http://pbs.twimg.com/profile_background_images/244665602/brown84-catch.jpg', u'screen_name': u'AntonioBrown', u'lang': u'en', u'profile_background_tile': True, u'favourites_count': 10838, u'name': u'Antonio Brown', u'notifications': False, u'url': u'https://t.co/jDF34lLJwe', u'created_at': u'Wed Dec 08 13:14:10 +0000 2010', u'contributors_enabled': False, u'time_zone': u'Eastern Time (US & Canada)', u'protected': False, u'default_profile': False, u'is_translator': False}, u'geo': None, u'in_reply_to_user_id_str': None, u'possibly_sensitive': False, u'possibly_sensitive_appealable': False, u'lang': u'en', u'created_at': u'Tue Nov 01 02:13:47 +0000 2016', u'in_reply_to_status_id_str': None, u'place': None, u'extended_entities': {u'media': [{u'source_user_id': 2291189882L, u'source_status_id_str': u'793252435368304640', u'expanded_url': u'https://twitter.com/Mike_Mackin11/status/793252435368304640/photo/1', u'display_url': u'pic.twitter.com/LvIoCcqv5f', u'url': u'https://t.co/LvIoCcqv5f', u'media_url_https': u'https://pbs.twimg.com/media/CwIy4A0VMAABJT6.jpg', u'source_user_id_str': u'2291189882', u'source_status_id': 793252435368304640L, u'id_str': u'793252422244184064', u'sizes': {u'large': {u'h': 2048, u'resize': u'fit', u'w': 1428}, u'small': {u'h': 680, u'resize': u'fit', u'w': 474}, u'medium': {u'h': 1200, u'resize': u'fit', u'w': 837}, u'thumb': {u'h': 150, u'resize': u'crop', u'w': 150}}, u'indices': [93, 116], u'type': u'photo', u'id': 793252422244184064L, u'media_url': u'http://pbs.twimg.com/media/CwIy4A0VMAABJT6.jpg'}]}}, {u'contributors': None, u'truncated': False, u'text': u\"RT @WPXICropper: Rain for your morning commute Thursday-I'll show you how much of the day will be wet next on 11 @ 11-Channel 11 News https\\u2026\", u'is_quote_status': False, u'in_reply_to_status_id': None, u'id': 793273266253299712L, u'favorite_count': 0, u'source': u'<a href=\"http://twitter.com\" rel=\"nofollow\">Twitter Web Client</a>', u'retweeted': False, u'coordinates': None, u'entities': {u'symbols': [], u'user_mentions': [{u'id': 339879013, u'indices': [3, 15], u'id_str': u'339879013', u'screen_name': u'WPXICropper', u'name': u'Stephen Cropper'}], u'hashtags': [], u'urls': []}, u'in_reply_to_screen_name': None, u'in_reply_to_user_id': None, u'retweet_count': 2, u'id_str': u'793273266253299712', u'favorited': False, u'retweeted_status': {u'contributors': None, u'truncated': False, u'text': u\"Rain for your morning commute Thursday-I'll show you how much of the day will be wet next on 11 @ 11-Channel 11 News https://t.co/xxnHtm5CPs\", u'is_quote_status': False, u'in_reply_to_status_id': None, u'id': 793272571533856768L, u'favorite_count': 0, u'source': u'<a href=\"http://www.socialnewsdesk.com\" rel=\"nofollow\">SocialNewsDesk</a>', u'retweeted': False, u'coordinates': None, u'entities': {u'symbols': [], u'user_mentions': [], u'hashtags': [], u'urls': [], u'media': [{u'expanded_url': u'https://twitter.com/WPXICropper/status/793272571533856768/photo/1', u'display_url': u'pic.twitter.com/xxnHtm5CPs', u'url': u'https://t.co/xxnHtm5CPs', u'media_url_https': u'https://pbs.twimg.com/media/CwJFMp-XEAACR96.jpg', u'id_str': u'793272568098787328', u'sizes': {u'large': {u'h': 720, u'resize': u'fit', u'w': 1280}, u'small': {u'h': 383, u'resize': u'fit', u'w': 680}, u'medium': {u'h': 675, u'resize': u'fit', u'w': 1200}, u'thumb': {u'h': 150, u'resize': u'crop', u'w': 150}}, u'indices': [117, 140], u'type': u'photo', u'id': 793272568098787328L, u'media_url': u'http://pbs.twimg.com/media/CwJFMp-XEAACR96.jpg'}]}, u'in_reply_to_screen_name': None, u'in_reply_to_user_id': None, u'retweet_count': 2, u'id_str': u'793272571533856768', u'favorited': False, u'user': {u'follow_request_sent': False, u'has_extended_profile': False, u'profile_use_background_image': True, u'default_profile_image': False, u'id': 339879013, u'profile_background_image_url_https': u'https://abs.twimg.com/images/themes/theme1/bg.png', u'verified': True, u'translator_type': u'none', u'profile_text_color': u'333333', u'profile_image_url_https': u'https://pbs.twimg.com/profile_images/1491946216/stephen_normal.jpg', u'profile_sidebar_fill_color': u'DDEEF6', u'entities': {u'url': {u'urls': [{u'url': u'http://t.co/vNJVHL8Ynm', u'indices': [0, 22], u'expanded_url': u'http://www.wpxi.com/s/weather/', u'display_url': u'wpxi.com/s/weather/'}]}, u'description': {u'urls': [{u'url': u'http://t.co/DpLUXlYQ5w', u'indices': [96, 118], u'expanded_url': u'http://wpxiweatherapp.com/', u'display_url': u'wpxiweatherapp.com'}]}}, u'followers_count': 8897, u'profile_sidebar_border_color': u'C0DEED', u'id_str': u'339879013', u'profile_background_color': u'C0DEED', u'listed_count': 150, u'is_translation_enabled': False, u'utc_offset': None, u'statuses_count': 3366, u'description': u'Chief Meteorologist WPXI TV. Following you is not an endorsement. Your tweets may end up on TV. http://t.co/DpLUXlYQ5w', u'friends_count': 376, u'location': u'', u'profile_link_color': u'0084B4', u'profile_image_url': u'http://pbs.twimg.com/profile_images/1491946216/stephen_normal.jpg', u'following': False, u'geo_enabled': True, u'profile_banner_url': u'https://pbs.twimg.com/profile_banners/339879013/1444273863', u'profile_background_image_url': u'http://abs.twimg.com/images/themes/theme1/bg.png', u'screen_name': u'WPXICropper', u'lang': u'en', u'profile_background_tile': False, u'favourites_count': 145, u'name': u'Stephen Cropper', u'notifications': False, u'url': u'http://t.co/vNJVHL8Ynm', u'created_at': u'Thu Jul 21 20:15:06 +0000 2011', u'contributors_enabled': False, u'time_zone': None, u'protected': False, u'default_profile': True, u'is_translator': False}, u'geo': None, u'in_reply_to_user_id_str': None, u'possibly_sensitive': False, u'possibly_sensitive_appealable': False, u'lang': u'en', u'created_at': u'Tue Nov 01 02:04:54 +0000 2016', u'in_reply_to_status_id_str': None, u'place': None, u'extended_entities': {u'media': [{u'expanded_url': u'https://twitter.com/WPXICropper/status/793272571533856768/photo/1', u'display_url': u'pic.twitter.com/xxnHtm5CPs', u'url': u'https://t.co/xxnHtm5CPs', u'media_url_https': u'https://pbs.twimg.com/media/CwJFMp-XEAACR96.jpg', u'id_str': u'793272568098787328', u'sizes': {u'large': {u'h': 720, u'resize': u'fit', u'w': 1280}, u'small': {u'h': 383, u'resize': u'fit', u'w': 680}, u'medium': {u'h': 675, u'resize': u'fit', u'w': 1200}, u'thumb': {u'h': 150, u'resize': u'crop', u'w': 150}}, u'indices': [117, 140], u'type': u'photo', u'id': 793272568098787328L, u'media_url': u'http://pbs.twimg.com/media/CwJFMp-XEAACR96.jpg'}]}}, u'user': {u'follow_request_sent': False, u'has_extended_profile': False, u'profile_use_background_image': True, u'default_profile_image': False, u'id': 14085146, u'profile_background_image_url_https': u'https://pbs.twimg.com/profile_background_images/251197918/twitter_news_rev.jpg', u'verified': True, u'translator_type': u'none', u'profile_text_color': u'333333', u'profile_image_url_https': u'https://pbs.twimg.com/profile_images/767731248714448896/AUzBwtc3_normal.jpg', u'profile_sidebar_fill_color': u'DDEEF6', u'entities': {u'url': {u'urls': [{u'url': u'http://t.co/wqsJkRDa2m', u'indices': [0, 22], u'expanded_url': u'http://www.wpxi.com', u'display_url': u'wpxi.com'}]}, u'description': {u'urls': []}}, u'followers_count': 133479, u'profile_sidebar_border_color': u'0A0F31', u'id_str': u'14085146', u'profile_background_color': u'0A0F31', u'listed_count': 1178, u'is_translation_enabled': False, u'utc_offset': -14400, u'statuses_count': 156082, u'description': u'LEGALESE: If you send us a tweet, you consent to letting WPXI use and showcase it in any media, including TV.', u'friends_count': 3249, u'location': u'Pittsburgh', u'profile_link_color': u'0084B4', u'profile_image_url': u'http://pbs.twimg.com/profile_images/767731248714448896/AUzBwtc3_normal.jpg', u'following': True, u'geo_enabled': True, u'profile_banner_url': u'https://pbs.twimg.com/profile_banners/14085146/1475075203', u'profile_background_image_url': u'http://pbs.twimg.com/profile_background_images/251197918/twitter_news_rev.jpg', u'screen_name': u'WPXI', u'lang': u'en', u'profile_background_tile': False, u'favourites_count': 1109, u'name': u'WPXI', u'notifications': False, u'url': u'http://t.co/wqsJkRDa2m', u'created_at': u'Wed Mar 05 21:24:23 +0000 2008', u'contributors_enabled': False, u'time_zone': u'Eastern Time (US & Canada)', u'protected': False, u'default_profile': False, u'is_translator': False}, u'geo': None, u'in_reply_to_user_id_str': None, u'lang': u'en', u'created_at': u'Tue Nov 01 02:07:39 +0000 2016', u'in_reply_to_status_id_str': None, u'place': None}, {u'contributors': None, u'truncated': False, u'text': u\"How much will Pitt's pace of play increase under Kevin Stallings? https://t.co/zhDtp6zgWM\", u'is_quote_status': False, u'in_reply_to_status_id': None, u'id': 793273199186378752L, u'favorite_count': 0, u'source': u'<a href=\"https://secure.echoboxapp.com\" rel=\"nofollow\">Echobox Social</a>', u'retweeted': False, u'coordinates': None, u'entities': {u'symbols': [], u'user_mentions': [], u'hashtags': [], u'urls': [{u'url': u'https://t.co/zhDtp6zgWM', u'indices': [66, 89], u'expanded_url': u'http://bit.ly/2f70aCT', u'display_url': u'bit.ly/2f70aCT'}]}, u'in_reply_to_screen_name': None, u'in_reply_to_user_id': None, u'retweet_count': 1, u'id_str': u'793273199186378752', u'favorited': False, u'user': {u'follow_request_sent': False, u'has_extended_profile': False, u'profile_use_background_image': True, u'default_profile_image': False, u'id': 21780652, u'profile_background_image_url_https': u'https://pbs.twimg.com/profile_background_images/108321893/2010Twitter_PGgreenrighttowerB_800x2000.jpg', u'verified': True, u'translator_type': u'none', u'profile_text_color': u'333333', u'profile_image_url_https': u'https://pbs.twimg.com/profile_images/756180163042377728/uOxX4DUc_normal.jpg', u'profile_sidebar_fill_color': u'FFFFFF', u'entities': {u'url': {u'urls': [{u'url': u'https://t.co/zazukdYTFJ', u'indices': [0, 23], u'expanded_url': u'http://www.post-gazette.com', u'display_url': u'post-gazette.com'}]}, u'description': {u'urls': [{u'url': u'https://t.co/ZT7mpWVAcG', u'indices': [63, 86], u'expanded_url': u'http://www.facebook.com/pittsburghpostgazette', u'display_url': u'facebook.com/pittsburghpost\\u2026'}, {u'url': u'https://t.co/gZIyqoW7K0', u'indices': [98, 121], u'expanded_url': u'https://www.instagram.com/pittsburghpg/', u'display_url': u'instagram.com/pittsburghpg/'}]}}, u'followers_count': 114551, u'profile_sidebar_border_color': u'BDDCAD', u'id_str': u'21780652', u'profile_background_color': u'0CA682', u'listed_count': 1902, u'is_translation_enabled': False, u'utc_offset': -14400, u'statuses_count': 120697, u'description': u'Serving Pittsburgh & Western Pa. for over 200 years. Facebook: https://t.co/ZT7mpWVAcG Instagram: https://t.co/gZIyqoW7K0', u'friends_count': 559, u'location': u'Pittsburgh, Pa.', u'profile_link_color': u'0084B4', u'profile_image_url': u'http://pbs.twimg.com/profile_images/756180163042377728/uOxX4DUc_normal.jpg', u'following': True, u'geo_enabled': True, u'profile_banner_url': u'https://pbs.twimg.com/profile_banners/21780652/1446574553', u'profile_background_image_url': u'http://pbs.twimg.com/profile_background_images/108321893/2010Twitter_PGgreenrighttowerB_800x2000.jpg', u'screen_name': u'PittsburghPG', u'lang': u'en', u'profile_background_tile': False, u'favourites_count': 1288, u'name': u'Pittsburgh PG', u'notifications': False, u'url': u'https://t.co/zazukdYTFJ', u'created_at': u'Tue Feb 24 18:37:56 +0000 2009', u'contributors_enabled': False, u'time_zone': u'Eastern Time (US & Canada)', u'protected': False, u'default_profile': False, u'is_translator': False}, u'geo': None, u'in_reply_to_user_id_str': None, u'possibly_sensitive': False, u'possibly_sensitive_appealable': False, u'lang': u'en', u'created_at': u'Tue Nov 01 02:07:23 +0000 2016', u'in_reply_to_status_id_str': None, u'place': None}, {u'contributors': None, u'truncated': False, u'text': u\"Dog discarded with family's trash doing well in foster care https://t.co/U7cZEfn7mt https://t.co/O6CecNKvEo\", u'is_quote_status': False, u'in_reply_to_status_id': None, u'id': 793273105888182272L, u'favorite_count': 4, u'source': u'<a href=\"http://www.socialflow.com\" rel=\"nofollow\">SocialFlow</a>', u'retweeted': False, u'coordinates': None, u'entities': {u'symbols': [], u'user_mentions': [], u'hashtags': [], u'urls': [{u'url': u'https://t.co/U7cZEfn7mt', u'indices': [60, 83], u'expanded_url': u'http://on.wpxi.com/2egNYRa', u'display_url': u'on.wpxi.com/2egNYRa'}], u'media': [{u'expanded_url': u'https://twitter.com/WPXI/status/793273105888182272/photo/1', u'display_url': u'pic.twitter.com/O6CecNKvEo', u'url': u'https://t.co/O6CecNKvEo', u'media_url_https': u'https://pbs.twimg.com/media/CwJFr1mWEAEiNXX.jpg', u'id_str': u'793273103795228673', u'sizes': {u'large': {u'h': 360, u'resize': u'fit', u'w': 640}, u'small': {u'h': 360, u'resize': u'fit', u'w': 640}, u'medium': {u'h': 360, u'resize': u'fit', u'w': 640}, u'thumb': {u'h': 150, u'resize': u'crop', u'w': 150}}, u'indices': [84, 107], u'type': u'photo', u'id': 793273103795228673L, u'media_url': u'http://pbs.twimg.com/media/CwJFr1mWEAEiNXX.jpg'}]}, u'in_reply_to_screen_name': None, u'in_reply_to_user_id': None, u'retweet_count': 1, u'id_str': u'793273105888182272', u'favorited': False, u'user': {u'follow_request_sent': False, u'has_extended_profile': False, u'profile_use_background_image': True, u'default_profile_image': False, u'id': 14085146, u'profile_background_image_url_https': u'https://pbs.twimg.com/profile_background_images/251197918/twitter_news_rev.jpg', u'verified': True, u'translator_type': u'none', u'profile_text_color': u'333333', u'profile_image_url_https': u'https://pbs.twimg.com/profile_images/767731248714448896/AUzBwtc3_normal.jpg', u'profile_sidebar_fill_color': u'DDEEF6', u'entities': {u'url': {u'urls': [{u'url': u'http://t.co/wqsJkRDa2m', u'indices': [0, 22], u'expanded_url': u'http://www.wpxi.com', u'display_url': u'wpxi.com'}]}, u'description': {u'urls': []}}, u'followers_count': 133479, u'profile_sidebar_border_color': u'0A0F31', u'id_str': u'14085146', u'profile_background_color': u'0A0F31', u'listed_count': 1178, u'is_translation_enabled': False, u'utc_offset': -14400, u'statuses_count': 156082, u'description': u'LEGALESE: If you send us a tweet, you consent to letting WPXI use and showcase it in any media, including TV.', u'friends_count': 3249, u'location': u'Pittsburgh', u'profile_link_color': u'0084B4', u'profile_image_url': u'http://pbs.twimg.com/profile_images/767731248714448896/AUzBwtc3_normal.jpg', u'following': True, u'geo_enabled': True, u'profile_banner_url': u'https://pbs.twimg.com/profile_banners/14085146/1475075203', u'profile_background_image_url': u'http://pbs.twimg.com/profile_background_images/251197918/twitter_news_rev.jpg', u'screen_name': u'WPXI', u'lang': u'en', u'profile_background_tile': False, u'favourites_count': 1109, u'name': u'WPXI', u'notifications': False, u'url': u'http://t.co/wqsJkRDa2m', u'created_at': u'Wed Mar 05 21:24:23 +0000 2008', u'contributors_enabled': False, u'time_zone': u'Eastern Time (US & Canada)', u'protected': False, u'default_profile': False, u'is_translator': False}, u'geo': None, u'in_reply_to_user_id_str': None, u'possibly_sensitive': False, u'possibly_sensitive_appealable': False, u'lang': u'en', u'created_at': u'Tue Nov 01 02:07:01 +0000 2016', u'in_reply_to_status_id_str': None, u'place': None, u'extended_entities': {u'media': [{u'expanded_url': u'https://twitter.com/WPXI/status/793273105888182272/photo/1', u'display_url': u'pic.twitter.com/O6CecNKvEo', u'url': u'https://t.co/O6CecNKvEo', u'media_url_https': u'https://pbs.twimg.com/media/CwJFr1mWEAEiNXX.jpg', u'id_str': u'793273103795228673', u'sizes': {u'large': {u'h': 360, u'resize': u'fit', u'w': 640}, u'small': {u'h': 360, u'resize': u'fit', u'w': 640}, u'medium': {u'h': 360, u'resize': u'fit', u'w': 640}, u'thumb': {u'h': 150, u'resize': u'crop', u'w': 150}}, u'indices': [84, 107], u'type': u'photo', u'id': 793273103795228673L, u'media_url': u'http://pbs.twimg.com/media/CwJFr1mWEAEiNXX.jpg'}]}}, {u'contributors': None, u'truncated': False, u'text': u'Sheldon Jeter, Mike Young ACC media day interview transcripts https://t.co/Oyoup8tebf', u'is_quote_status': False, u'in_reply_to_status_id': None, u'id': 793268168743608320L, u'favorite_count': 0, u'source': u'<a href=\"https://secure.echoboxapp.com\" rel=\"nofollow\">Echobox Social</a>', u'retweeted': False, u'coordinates': None, u'entities': {u'symbols': [], u'user_mentions': [], u'hashtags': [], u'urls': [{u'url': u'https://t.co/Oyoup8tebf', u'indices': [62, 85], u'expanded_url': u'http://bit.ly/2f6ZwFq', u'display_url': u'bit.ly/2f6ZwFq'}]}, u'in_reply_to_screen_name': None, u'in_reply_to_user_id': None, u'retweet_count': 0, u'id_str': u'793268168743608320', u'favorited': False, u'user': {u'follow_request_sent': False, u'has_extended_profile': False, u'profile_use_background_image': True, u'default_profile_image': False, u'id': 21780652, u'profile_background_image_url_https': u'https://pbs.twimg.com/profile_background_images/108321893/2010Twitter_PGgreenrighttowerB_800x2000.jpg', u'verified': True, u'translator_type': u'none', u'profile_text_color': u'333333', u'profile_image_url_https': u'https://pbs.twimg.com/profile_images/756180163042377728/uOxX4DUc_normal.jpg', u'profile_sidebar_fill_color': u'FFFFFF', u'entities': {u'url': {u'urls': [{u'url': u'https://t.co/zazukdYTFJ', u'indices': [0, 23], u'expanded_url': u'http://www.post-gazette.com', u'display_url': u'post-gazette.com'}]}, u'description': {u'urls': [{u'url': u'https://t.co/ZT7mpWVAcG', u'indices': [63, 86], u'expanded_url': u'http://www.facebook.com/pittsburghpostgazette', u'display_url': u'facebook.com/pittsburghpost\\u2026'}, {u'url': u'https://t.co/gZIyqoW7K0', u'indices': [98, 121], u'expanded_url': u'https://www.instagram.com/pittsburghpg/', u'display_url': u'instagram.com/pittsburghpg/'}]}}, u'followers_count': 114551, u'profile_sidebar_border_color': u'BDDCAD', u'id_str': u'21780652', u'profile_background_color': u'0CA682', u'listed_count': 1902, u'is_translation_enabled': False, u'utc_offset': -14400, u'statuses_count': 120697, u'description': u'Serving Pittsburgh & Western Pa. for over 200 years. Facebook: https://t.co/ZT7mpWVAcG Instagram: https://t.co/gZIyqoW7K0', u'friends_count': 559, u'location': u'Pittsburgh, Pa.', u'profile_link_color': u'0084B4', u'profile_image_url': u'http://pbs.twimg.com/profile_images/756180163042377728/uOxX4DUc_normal.jpg', u'following': True, u'geo_enabled': True, u'profile_banner_url': u'https://pbs.twimg.com/profile_banners/21780652/1446574553', u'profile_background_image_url': u'http://pbs.twimg.com/profile_background_images/108321893/2010Twitter_PGgreenrighttowerB_800x2000.jpg', u'screen_name': u'PittsburghPG', u'lang': u'en', u'profile_background_tile': False, u'favourites_count': 1288, u'name': u'Pittsburgh PG', u'notifications': False, u'url': u'https://t.co/zazukdYTFJ', u'created_at': u'Tue Feb 24 18:37:56 +0000 2009', u'contributors_enabled': False, u'time_zone': u'Eastern Time (US & Canada)', u'protected': False, u'default_profile': False, u'is_translator': False}, u'geo': None, u'in_reply_to_user_id_str': None, u'possibly_sensitive': False, u'possibly_sensitive_appealable': False, u'lang': u'en', u'created_at': u'Tue Nov 01 01:47:24 +0000 2016', u'in_reply_to_status_id_str': None, u'place': None}, {u'contributors': None, u'truncated': False, u'text': u'PHOTOS: Celebrities who are voting for Donald Trump vs Hillary Clinton https://t.co/I70Lh5gHd2 https://t.co/1UHWmTWFdk', u'is_quote_status': False, u'in_reply_to_status_id': None, u'id': 793267334664298496L, u'favorite_count': 1, u'source': u'<a href=\"http://www.socialflow.com\" rel=\"nofollow\">SocialFlow</a>', u'retweeted': False, u'coordinates': None, u'entities': {u'symbols': [], u'user_mentions': [], u'hashtags': [], u'urls': [{u'url': u'https://t.co/I70Lh5gHd2', u'indices': [71, 94], u'expanded_url': u'http://on.wpxi.com/2egOIG5', u'display_url': u'on.wpxi.com/2egOIG5'}], u'media': [{u'expanded_url': u'https://twitter.com/WPXI/status/793267334664298496/photo/1', u'display_url': u'pic.twitter.com/1UHWmTWFdk', u'url': u'https://t.co/1UHWmTWFdk', u'media_url_https': u'https://pbs.twimg.com/media/CwJAb2CXYAAeOZh.jpg', u'id_str': u'793267331476709376', u'sizes': {u'large': {u'h': 720, u'resize': u'fit', u'w': 1280}, u'small': {u'h': 383, u'resize': u'fit', u'w': 680}, u'medium': {u'h': 675, u'resize': u'fit', u'w': 1200}, u'thumb': {u'h': 150, u'resize': u'crop', u'w': 150}}, u'indices': [95, 118], u'type': u'photo', u'id': 793267331476709376L, u'media_url': u'http://pbs.twimg.com/media/CwJAb2CXYAAeOZh.jpg'}]}, u'in_reply_to_screen_name': None, u'in_reply_to_user_id': None, u'retweet_count': 1, u'id_str': u'793267334664298496', u'favorited': False, u'user': {u'follow_request_sent': False, u'has_extended_profile': False, u'profile_use_background_image': True, u'default_profile_image': False, u'id': 14085146, u'profile_background_image_url_https': u'https://pbs.twimg.com/profile_background_images/251197918/twitter_news_rev.jpg', u'verified': True, u'translator_type': u'none', u'profile_text_color': u'333333', u'profile_image_url_https': u'https://pbs.twimg.com/profile_images/767731248714448896/AUzBwtc3_normal.jpg', u'profile_sidebar_fill_color': u'DDEEF6', u'entities': {u'url': {u'urls': [{u'url': u'http://t.co/wqsJkRDa2m', u'indices': [0, 22], u'expanded_url': u'http://www.wpxi.com', u'display_url': u'wpxi.com'}]}, u'description': {u'urls': []}}, u'followers_count': 133479, u'profile_sidebar_border_color': u'0A0F31', u'id_str': u'14085146', u'profile_background_color': u'0A0F31', u'listed_count': 1178, u'is_translation_enabled': False, u'utc_offset': -14400, u'statuses_count': 156082, u'description': u'LEGALESE: If you send us a tweet, you consent to letting WPXI use and showcase it in any media, including TV.', u'friends_count': 3249, u'location': u'Pittsburgh', u'profile_link_color': u'0084B4', u'profile_image_url': u'http://pbs.twimg.com/profile_images/767731248714448896/AUzBwtc3_normal.jpg', u'following': True, u'geo_enabled': True, u'profile_banner_url': u'https://pbs.twimg.com/profile_banners/14085146/1475075203', u'profile_background_image_url': u'http://pbs.twimg.com/profile_background_images/251197918/twitter_news_rev.jpg', u'screen_name': u'WPXI', u'lang': u'en', u'profile_background_tile': False, u'favourites_count': 1109, u'name': u'WPXI', u'notifications': False, u'url': u'http://t.co/wqsJkRDa2m', u'created_at': u'Wed Mar 05 21:24:23 +0000 2008', u'contributors_enabled': False, u'time_zone': u'Eastern Time (US & Canada)', u'protected': False, u'default_profile': False, u'is_translator': False}, u'geo': None, u'in_reply_to_user_id_str': None, u'possibly_sensitive': False, u'possibly_sensitive_appealable': False, u'lang': u'en', u'created_at': u'Tue Nov 01 01:44:05 +0000 2016', u'in_reply_to_status_id_str': None, u'place': None, u'extended_entities': {u'media': [{u'expanded_url': u'https://twitter.com/WPXI/status/793267334664298496/photo/1', u'display_url': u'pic.twitter.com/1UHWmTWFdk', u'url': u'https://t.co/1UHWmTWFdk', u'media_url_https': u'https://pbs.twimg.com/media/CwJAb2CXYAAeOZh.jpg', u'id_str': u'793267331476709376', u'sizes': {u'large': {u'h': 720, u'resize': u'fit', u'w': 1280}, u'small': {u'h': 383, u'resize': u'fit', u'w': 680}, u'medium': {u'h': 675, u'resize': u'fit', u'w': 1200}, u'thumb': {u'h': 150, u'resize': u'crop', u'w': 150}}, u'indices': [95, 118], u'type': u'photo', u'id': 793267331476709376L, u'media_url': u'http://pbs.twimg.com/media/CwJAb2CXYAAeOZh.jpg'}]}}, {u'contributors': None, u'truncated': False, u'text': u'6-year-old Washington boy dies of unknown neurological virus https://t.co/g9kZtK6K1s https://t.co/Nw7tiEsW9m', u'is_quote_status': False, u'in_reply_to_status_id': None, u'id': 793262687304245248L, u'favorite_count': 1, u'source': u'<a href=\"http://www.socialflow.com\" rel=\"nofollow\">SocialFlow</a>', u'retweeted': False, u'coordinates': None, u'entities': {u'symbols': [], u'user_mentions': [], u'hashtags': [], u'urls': [{u'url': u'https://t.co/g9kZtK6K1s', u'indices': [61, 84], u'expanded_url': u'http://on.wpxi.com/2egIsy2', u'display_url': u'on.wpxi.com/2egIsy2'}], u'media': [{u'expanded_url': u'https://twitter.com/WPXI/status/793262687304245248/photo/1', u'display_url': u'pic.twitter.com/Nw7tiEsW9m', u'url': u'https://t.co/Nw7tiEsW9m', u'media_url_https': u'https://pbs.twimg.com/media/CwI8NaQXYAQnbxz.jpg', u'id_str': u'793262685454557188', u'sizes': {u'large': {u'h': 360, u'resize': u'fit', u'w': 640}, u'small': {u'h': 360, u'resize': u'fit', u'w': 640}, u'medium': {u'h': 360, u'resize': u'fit', u'w': 640}, u'thumb': {u'h': 150, u'resize': u'crop', u'w': 150}}, u'indices': [85, 108], u'type': u'photo', u'id': 793262685454557188L, u'media_url': u'http://pbs.twimg.com/media/CwI8NaQXYAQnbxz.jpg'}]}, u'in_reply_to_screen_name': None, u'in_reply_to_user_id': None, u'retweet_count': 3, u'id_str': u'793262687304245248', u'favorited': False, u'user': {u'follow_request_sent': False, u'has_extended_profile': False, u'profile_use_background_image': True, u'default_profile_image': False, u'id': 14085146, u'profile_background_image_url_https': u'https://pbs.twimg.com/profile_background_images/251197918/twitter_news_rev.jpg', u'verified': True, u'translator_type': u'none', u'profile_text_color': u'333333', u'profile_image_url_https': u'https://pbs.twimg.com/profile_images/767731248714448896/AUzBwtc3_normal.jpg', u'profile_sidebar_fill_color': u'DDEEF6', u'entities': {u'url': {u'urls': [{u'url': u'http://t.co/wqsJkRDa2m', u'indices': [0, 22], u'expanded_url': u'http://www.wpxi.com', u'display_url': u'wpxi.com'}]}, u'description': {u'urls': []}}, u'followers_count': 133479, u'profile_sidebar_border_color': u'0A0F31', u'id_str': u'14085146', u'profile_background_color': u'0A0F31', u'listed_count': 1178, u'is_translation_enabled': False, u'utc_offset': -14400, u'statuses_count': 156082, u'description': u'LEGALESE: If you send us a tweet, you consent to letting WPXI use and showcase it in any media, including TV.', u'friends_count': 3249, u'location': u'Pittsburgh', u'profile_link_color': u'0084B4', u'profile_image_url': u'http://pbs.twimg.com/profile_images/767731248714448896/AUzBwtc3_normal.jpg', u'following': True, u'geo_enabled': True, u'profile_banner_url': u'https://pbs.twimg.com/profile_banners/14085146/1475075203', u'profile_background_image_url': u'http://pbs.twimg.com/profile_background_images/251197918/twitter_news_rev.jpg', u'screen_name': u'WPXI', u'lang': u'en', u'profile_background_tile': False, u'favourites_count': 1109, u'name': u'WPXI', u'notifications': False, u'url': u'http://t.co/wqsJkRDa2m', u'created_at': u'Wed Mar 05 21:24:23 +0000 2008', u'contributors_enabled': False, u'time_zone': u'Eastern Time (US & Canada)', u'protected': False, u'default_profile': False, u'is_translator': False}, u'geo': None, u'in_reply_to_user_id_str': None, u'possibly_sensitive': False, u'possibly_sensitive_appealable': False, u'lang': u'en', u'created_at': u'Tue Nov 01 01:25:37 +0000 2016', u'in_reply_to_status_id_str': None, u'place': None, u'extended_entities': {u'media': [{u'expanded_url': u'https://twitter.com/WPXI/status/793262687304245248/photo/1', u'display_url': u'pic.twitter.com/Nw7tiEsW9m', u'url': u'https://t.co/Nw7tiEsW9m', u'media_url_https': u'https://pbs.twimg.com/media/CwI8NaQXYAQnbxz.jpg', u'id_str': u'793262685454557188', u'sizes': {u'large': {u'h': 360, u'resize': u'fit', u'w': 640}, u'small': {u'h': 360, u'resize': u'fit', u'w': 640}, u'medium': {u'h': 360, u'resize': u'fit', u'w': 640}, u'thumb': {u'h': 150, u'resize': u'crop', u'w': 150}}, u'indices': [85, 108], u'type': u'photo', u'id': 793262685454557188L, u'media_url': u'http://pbs.twimg.com/media/CwI8NaQXYAQnbxz.jpg'}]}}, {u'contributors': None, u'truncated': False, u'text': u'Cutler threads the needle rt in back if the head lol', u'is_quote_status': False, u'in_reply_to_status_id': None, u'id': 793260402784206848L, u'favorite_count': 476, u'source': u'<a href=\"http://twitter.com/download/iphone\" rel=\"nofollow\">Twitter for iPhone</a>', u'retweeted': False, u'coordinates': None, u'entities': {u'symbols': [], u'user_mentions': [], u'hashtags': [], u'urls': []}, u'in_reply_to_screen_name': None, u'in_reply_to_user_id': None, u'retweet_count': 141, u'id_str': u'793260402784206848', u'favorited': False, u'user': {u'follow_request_sent': False, u'has_extended_profile': True, u'profile_use_background_image': True, u'default_profile_image': False, u'id': 224221596, u'profile_background_image_url_https': u'https://pbs.twimg.com/profile_background_images/244665602/brown84-catch.jpg', u'verified': True, u'translator_type': u'none', u'profile_text_color': u'333333', u'profile_image_url_https': u'https://pbs.twimg.com/profile_images/662466850429788160/7WdzKtvt_normal.jpg', u'profile_sidebar_fill_color': u'A6A6A6', u'entities': {u'url': {u'urls': [{u'url': u'https://t.co/jDF34lLJwe', u'indices': [0, 23], u'expanded_url': u'http://bit.ly/AB84Store', u'display_url': u'bit.ly/AB84Store'}]}, u'description': {u'urls': [{u'url': u'https://t.co/SkNkZx0WKb', u'indices': [91, 114], u'expanded_url': u'http://FB.com/AntonioBrown84', u'display_url': u'FB.com/AntonioBrown84'}]}}, u'followers_count': 670950, u'profile_sidebar_border_color': u'000000', u'id_str': u'224221596', u'profile_background_color': u'131516', u'listed_count': 2644, u'is_translation_enabled': False, u'utc_offset': -14400, u'statuses_count': 18137, u'description': u'Pittsburgh @Steelers All-Pro WR #AB84. Chest Up Eyes Up Prayed Up #CuEuPu #Boomin #CallGod https://t.co/SkNkZx0WKb | Instagram: ab | Snapchat: AB84Official', u'friends_count': 3764, u'location': u'cmelike', u'profile_link_color': u'E6E617', u'profile_image_url': u'http://pbs.twimg.com/profile_images/662466850429788160/7WdzKtvt_normal.jpg', u'following': True, u'geo_enabled': True, u'profile_banner_url': u'https://pbs.twimg.com/profile_banners/224221596/1464297456', u'profile_background_image_url': u'http://pbs.twimg.com/profile_background_images/244665602/brown84-catch.jpg', u'screen_name': u'AntonioBrown', u'lang': u'en', u'profile_background_tile': True, u'favourites_count': 10838, u'name': u'Antonio Brown', u'notifications': False, u'url': u'https://t.co/jDF34lLJwe', u'created_at': u'Wed Dec 08 13:14:10 +0000 2010', u'contributors_enabled': False, u'time_zone': u'Eastern Time (US & Canada)', u'protected': False, u'default_profile': False, u'is_translator': False}, u'geo': None, u'in_reply_to_user_id_str': None, u'lang': u'en', u'created_at': u'Tue Nov 01 01:16:32 +0000 2016', u'in_reply_to_status_id_str': None, u'place': None}, {u'contributors': None, u'truncated': True, u'text': u'HAPPY HALLOWEEN! Couple\\u2019s Liberty Bridge costume is big hit on Facebook! Check it out here --\\u2026 https://t.co/7NAo6QSYpQ', u'is_quote_status': False, u'in_reply_to_status_id': None, u'id': 793260326951223296L, u'favorite_count': 11, u'source': u'<a href=\"http://www.socialnewsdesk.com\" rel=\"nofollow\">SocialNewsDesk</a>', u'retweeted': False, u'coordinates': None, u'entities': {u'symbols': [], u'user_mentions': [], u'hashtags': [], u'urls': [{u'url': u'https://t.co/7NAo6QSYpQ', u'indices': [95, 118], u'expanded_url': u'https://twitter.com/i/web/status/793260326951223296', u'display_url': u'twitter.com/i/web/status/7\\u2026'}]}, u'in_reply_to_screen_name': None, u'in_reply_to_user_id': None, u'retweet_count': 6, u'id_str': u'793260326951223296', u'favorited': False, u'user': {u'follow_request_sent': False, u'has_extended_profile': False, u'profile_use_background_image': True, u'default_profile_image': False, u'id': 14085099, u'profile_background_image_url_https': u'https://pbs.twimg.com/profile_background_images/890265456/995cea039ed8aa3d2dc2e3fdbe0a6c4c.jpeg', u'verified': True, u'translator_type': u'none', u'profile_text_color': u'666666', u'profile_image_url_https': u'https://pbs.twimg.com/profile_images/696712690333577221/fhcQfuqn_normal.jpg', u'profile_sidebar_fill_color': u'252429', u'entities': {u'url': {u'urls': [{u'url': u'http://t.co/3XsHnPGPGP', u'indices': [0, 22], u'expanded_url': u'http://kdka.com', u'display_url': u'kdka.com'}]}, u'description': {u'urls': []}}, u'followers_count': 117885, u'profile_sidebar_border_color': u'FFFFFF', u'id_str': u'14085099', u'profile_background_color': u'1A1B1F', u'listed_count': 1245, u'is_translation_enabled': False, u'utc_offset': -14400, u'statuses_count': 56853, u'description': u'Official twitter account for #KDKA-TV News - #CBS #Pittsburgh. If you send us a tweet, you consent to letting KDKA use and showcase it in any media form.', u'friends_count': 192, u'location': u'Pittsburgh, PA', u'profile_link_color': u'2FC2EF', u'profile_image_url': u'http://pbs.twimg.com/profile_images/696712690333577221/fhcQfuqn_normal.jpg', u'following': True, u'geo_enabled': False, u'profile_banner_url': u'https://pbs.twimg.com/profile_banners/14085099/1474494053', u'profile_background_image_url': u'http://pbs.twimg.com/profile_background_images/890265456/995cea039ed8aa3d2dc2e3fdbe0a6c4c.jpeg', u'screen_name': u'CBSPittsburgh', u'lang': u'en', u'profile_background_tile': False, u'favourites_count': 25, u'name': u'KDKA', u'notifications': False, u'url': u'http://t.co/3XsHnPGPGP', u'created_at': u'Wed Mar 05 21:15:05 +0000 2008', u'contributors_enabled': False, u'time_zone': u'Eastern Time (US & Canada)', u'protected': False, u'default_profile': False, u'is_translator': False}, u'geo': None, u'in_reply_to_user_id_str': None, u'possibly_sensitive': False, u'possibly_sensitive_appealable': False, u'lang': u'en', u'created_at': u'Tue Nov 01 01:16:14 +0000 2016', u'in_reply_to_status_id_str': None, u'place': None}, {u'contributors': None, u'truncated': False, u'text': u'Pouncey on Ben: \"Everyone knows and sees why he is a leader and captain on this team.\" https://t.co/TbSnEaaniD', u'is_quote_status': False, u'in_reply_to_status_id': 793180124518678529L, u'id': 793259444738068481L, u'favorite_count': 230, u'source': u'<a href=\"http://twitter.com/download/iphone\" rel=\"nofollow\">Twitter for iPhone</a>', u'retweeted': False, u'coordinates': None, u'entities': {u'symbols': [], u'user_mentions': [], u'hashtags': [], u'urls': [], u'media': [{u'expanded_url': u'https://twitter.com/steelers/status/793259444738068481/photo/1', u'display_url': u'pic.twitter.com/TbSnEaaniD', u'url': u'https://t.co/TbSnEaaniD', u'media_url_https': u'https://pbs.twimg.com/media/CwI5QYOW8AEbyTl.jpg', u'id_str': u'793259437913993217', u'sizes': {u'large': {u'h': 1248, u'resize': u'fit', u'w': 2048}, u'small': {u'h': 414, u'resize': u'fit', u'w': 680}, u'medium': {u'h': 731, u'resize': u'fit', u'w': 1200}, u'thumb': {u'h': 150, u'resize': u'crop', u'w': 150}}, u'indices': [87, 110], u'type': u'photo', u'id': 793259437913993217L, u'media_url': u'http://pbs.twimg.com/media/CwI5QYOW8AEbyTl.jpg'}]}, u'in_reply_to_screen_name': u'steelers', u'in_reply_to_user_id': 19426729, u'retweet_count': 61, u'id_str': u'793259444738068481', u'favorited': False, u'user': {u'follow_request_sent': False, u'has_extended_profile': True, u'profile_use_background_image': True, u'default_profile_image': False, u'id': 19426729, u'profile_background_image_url_https': u'https://pbs.twimg.com/profile_background_images/672807277783605248/qJEV2FEW.jpg', u'verified': True, u'translator_type': u'none', u'profile_text_color': u'666666', u'profile_image_url_https': u'https://pbs.twimg.com/profile_images/793081643854618624/vE6IT7Cw_normal.jpg', u'profile_sidebar_fill_color': u'252429', u'entities': {u'url': {u'urls': [{u'url': u'https://t.co/lsp0tFmTDU', u'indices': [0, 23], u'expanded_url': u'http://steelers.com', u'display_url': u'steelers.com'}]}, u'description': {u'urls': []}}, u'followers_count': 1503185, u'profile_sidebar_border_color': u'000000', u'id_str': u'19426729', u'profile_background_color': u'1A1B1F', u'listed_count': 8329, u'is_translation_enabled': False, u'utc_offset': -14400, u'statuses_count': 25935, u'description': u'The official Twitter account of the Pittsburgh Steelers. Also follow: @SteelersUnite, @heinzfield, @SteelersEquip, @SteelersShop, @SteelersYouthFB', u'friends_count': 261, u'location': u'#BurghProud', u'profile_link_color': u'FFCC4D', u'profile_image_url': u'http://pbs.twimg.com/profile_images/793081643854618624/vE6IT7Cw_normal.jpg', u'following': True, u'geo_enabled': True, u'profile_banner_url': u'https://pbs.twimg.com/profile_banners/19426729/1477920663', u'profile_background_image_url': u'http://pbs.twimg.com/profile_background_images/672807277783605248/qJEV2FEW.jpg', u'screen_name': u'steelers', u'lang': u'en', u'profile_background_tile': False, u'favourites_count': 3879, u'name': u'Pittsburgh Steelers', u'notifications': False, u'url': u'https://t.co/lsp0tFmTDU', u'created_at': u'Sat Jan 24 01:32:52 +0000 2009', u'contributors_enabled': False, u'time_zone': u'Eastern Time (US & Canada)', u'protected': False, u'default_profile': False, u'is_translator': False}, u'geo': None, u'in_reply_to_user_id_str': u'19426729', u'possibly_sensitive': False, u'possibly_sensitive_appealable': False, u'lang': u'en', u'created_at': u'Tue Nov 01 01:12:44 +0000 2016', u'in_reply_to_status_id_str': u'793180124518678529', u'place': None, u'extended_entities': {u'media': [{u'expanded_url': u'https://twitter.com/steelers/status/793259444738068481/photo/1', u'display_url': u'pic.twitter.com/TbSnEaaniD', u'url': u'https://t.co/TbSnEaaniD', u'media_url_https': u'https://pbs.twimg.com/media/CwI5QYOW8AEbyTl.jpg', u'id_str': u'793259437913993217', u'sizes': {u'large': {u'h': 1248, u'resize': u'fit', u'w': 2048}, u'small': {u'h': 414, u'resize': u'fit', u'w': 680}, u'medium': {u'h': 731, u'resize': u'fit', u'w': 1200}, u'thumb': {u'h': 150, u'resize': u'crop', u'w': 150}}, u'indices': [87, 110], u'type': u'photo', u'id': 793259437913993217L, u'media_url': u'http://pbs.twimg.com/media/CwI5QYOW8AEbyTl.jpg'}]}}, {u'contributors': None, u'truncated': False, u'text': u'Giant Eagle cutting 350 corporate jobs https://t.co/NjlvhfMwpL https://t.co/Qad4ooBMLo', u'is_quote_status': False, u'in_reply_to_status_id': None, u'id': 793258852506566656L, u'favorite_count': 1, u'source': u'<a href=\"https://secure.echoboxapp.com\" rel=\"nofollow\">Echobox Social</a>', u'retweeted': False, u'coordinates': None, u'entities': {u'symbols': [], u'user_mentions': [], u'hashtags': [], u'urls': [{u'url': u'https://t.co/NjlvhfMwpL', u'indices': [39, 62], u'expanded_url': u'http://bit.ly/2fowmp7', u'display_url': u'bit.ly/2fowmp7'}], u'media': [{u'expanded_url': u'https://twitter.com/PittsburghPG/status/793258852506566656/photo/1', u'display_url': u'pic.twitter.com/Qad4ooBMLo', u'url': u'https://t.co/Qad4ooBMLo', u'media_url_https': u'https://pbs.twimg.com/media/CwI4uJtWcAEBhoJ.jpg', u'id_str': u'793258849901899777', u'sizes': {u'small': {u'h': 453, u'resize': u'fit', u'w': 680}, u'large': {u'h': 480, u'resize': u'fit', u'w': 720}, u'medium': {u'h': 480, u'resize': u'fit', u'w': 720}, u'thumb': {u'h': 150, u'resize': u'crop', u'w': 150}}, u'indices': [63, 86], u'type': u'photo', u'id': 793258849901899777L, u'media_url': u'http://pbs.twimg.com/media/CwI4uJtWcAEBhoJ.jpg'}]}, u'in_reply_to_screen_name': None, u'in_reply_to_user_id': None, u'retweet_count': 3, u'id_str': u'793258852506566656', u'favorited': False, u'user': {u'follow_request_sent': False, u'has_extended_profile': False, u'profile_use_background_image': True, u'default_profile_image': False, u'id': 21780652, u'profile_background_image_url_https': u'https://pbs.twimg.com/profile_background_images/108321893/2010Twitter_PGgreenrighttowerB_800x2000.jpg', u'verified': True, u'translator_type': u'none', u'profile_text_color': u'333333', u'profile_image_url_https': u'https://pbs.twimg.com/profile_images/756180163042377728/uOxX4DUc_normal.jpg', u'profile_sidebar_fill_color': u'FFFFFF', u'entities': {u'url': {u'urls': [{u'url': u'https://t.co/zazukdYTFJ', u'indices': [0, 23], u'expanded_url': u'http://www.post-gazette.com', u'display_url': u'post-gazette.com'}]}, u'description': {u'urls': [{u'url': u'https://t.co/ZT7mpWVAcG', u'indices': [63, 86], u'expanded_url': u'http://www.facebook.com/pittsburghpostgazette', u'display_url': u'facebook.com/pittsburghpost\\u2026'}, {u'url': u'https://t.co/gZIyqoW7K0', u'indices': [98, 121], u'expanded_url': u'https://www.instagram.com/pittsburghpg/', u'display_url': u'instagram.com/pittsburghpg/'}]}}, u'followers_count': 114551, u'profile_sidebar_border_color': u'BDDCAD', u'id_str': u'21780652', u'profile_background_color': u'0CA682', u'listed_count': 1902, u'is_translation_enabled': False, u'utc_offset': -14400, u'statuses_count': 120697, u'description': u'Serving Pittsburgh & Western Pa. for over 200 years. Facebook: https://t.co/ZT7mpWVAcG Instagram: https://t.co/gZIyqoW7K0', u'friends_count': 559, u'location': u'Pittsburgh, Pa.', u'profile_link_color': u'0084B4', u'profile_image_url': u'http://pbs.twimg.com/profile_images/756180163042377728/uOxX4DUc_normal.jpg', u'following': True, u'geo_enabled': True, u'profile_banner_url': u'https://pbs.twimg.com/profile_banners/21780652/1446574553', u'profile_background_image_url': u'http://pbs.twimg.com/profile_background_images/108321893/2010Twitter_PGgreenrighttowerB_800x2000.jpg', u'screen_name': u'PittsburghPG', u'lang': u'en', u'profile_background_tile': False, u'favourites_count': 1288, u'name': u'Pittsburgh PG', u'notifications': False, u'url': u'https://t.co/zazukdYTFJ', u'created_at': u'Tue Feb 24 18:37:56 +0000 2009', u'contributors_enabled': False, u'time_zone': u'Eastern Time (US & Canada)', u'protected': False, u'default_profile': False, u'is_translator': False}, u'geo': None, u'in_reply_to_user_id_str': None, u'possibly_sensitive': False, u'possibly_sensitive_appealable': False, u'lang': u'en', u'created_at': u'Tue Nov 01 01:10:23 +0000 2016', u'in_reply_to_status_id_str': None, u'place': None, u'extended_entities': {u'media': [{u'expanded_url': u'https://twitter.com/PittsburghPG/status/793258852506566656/photo/1', u'display_url': u'pic.twitter.com/Qad4ooBMLo', u'url': u'https://t.co/Qad4ooBMLo', u'media_url_https': u'https://pbs.twimg.com/media/CwI4uJtWcAEBhoJ.jpg', u'id_str': u'793258849901899777', u'sizes': {u'small': {u'h': 453, u'resize': u'fit', u'w': 680}, u'large': {u'h': 480, u'resize': u'fit', u'w': 720}, u'medium': {u'h': 480, u'resize': u'fit', u'w': 720}, u'thumb': {u'h': 150, u'resize': u'crop', u'w': 150}}, u'indices': [63, 86], u'type': u'photo', u'id': 793258849901899777L, u'media_url': u'http://pbs.twimg.com/media/CwI4uJtWcAEBhoJ.jpg'}]}}, {u'contributors': None, u'truncated': False, u'text': u'Concerns about black cats and Halloween based on myth https://t.co/cTChr7L3bE https://t.co/re4zHSKS1l', u'is_quote_status': False, u'in_reply_to_status_id': None, u'id': 793257033181044736L, u'favorite_count': 2, u'source': u'<a href=\"http://www.socialflow.com\" rel=\"nofollow\">SocialFlow</a>', u'retweeted': False, u'coordinates': None, u'entities': {u'symbols': [], u'user_mentions': [], u'hashtags': [], u'urls': [{u'url': u'https://t.co/cTChr7L3bE', u'indices': [54, 77], u'expanded_url': u'http://on.wpxi.com/2egDh1e', u'display_url': u'on.wpxi.com/2egDh1e'}], u'media': [{u'expanded_url': u'https://twitter.com/WPXI/status/793257033181044736/photo/1', u'display_url': u'pic.twitter.com/re4zHSKS1l', u'url': u'https://t.co/re4zHSKS1l', u'media_url_https': u'https://pbs.twimg.com/media/CwI3ESfXgAAK9w_.jpg', u'id_str': u'793257031193034752', u'sizes': {u'large': {u'h': 360, u'resize': u'fit', u'w': 640}, u'small': {u'h': 360, u'resize': u'fit', u'w': 640}, u'medium': {u'h': 360, u'resize': u'fit', u'w': 640}, u'thumb': {u'h': 150, u'resize': u'crop', u'w': 150}}, u'indices': [78, 101], u'type': u'photo', u'id': 793257031193034752L, u'media_url': u'http://pbs.twimg.com/media/CwI3ESfXgAAK9w_.jpg'}]}, u'in_reply_to_screen_name': None, u'in_reply_to_user_id': None, u'retweet_count': 2, u'id_str': u'793257033181044736', u'favorited': False, u'user': {u'follow_request_sent': False, u'has_extended_profile': False, u'profile_use_background_image': True, u'default_profile_image': False, u'id': 14085146, u'profile_background_image_url_https': u'https://pbs.twimg.com/profile_background_images/251197918/twitter_news_rev.jpg', u'verified': True, u'translator_type': u'none', u'profile_text_color': u'333333', u'profile_image_url_https': u'https://pbs.twimg.com/profile_images/767731248714448896/AUzBwtc3_normal.jpg', u'profile_sidebar_fill_color': u'DDEEF6', u'entities': {u'url': {u'urls': [{u'url': u'http://t.co/wqsJkRDa2m', u'indices': [0, 22], u'expanded_url': u'http://www.wpxi.com', u'display_url': u'wpxi.com'}]}, u'description': {u'urls': []}}, u'followers_count': 133479, u'profile_sidebar_border_color': u'0A0F31', u'id_str': u'14085146', u'profile_background_color': u'0A0F31', u'listed_count': 1178, u'is_translation_enabled': False, u'utc_offset': -14400, u'statuses_count': 156082, u'description': u'LEGALESE: If you send us a tweet, you consent to letting WPXI use and showcase it in any media, including TV.', u'friends_count': 3249, u'location': u'Pittsburgh', u'profile_link_color': u'0084B4', u'profile_image_url': u'http://pbs.twimg.com/profile_images/767731248714448896/AUzBwtc3_normal.jpg', u'following': True, u'geo_enabled': True, u'profile_banner_url': u'https://pbs.twimg.com/profile_banners/14085146/1475075203', u'profile_background_image_url': u'http://pbs.twimg.com/profile_background_images/251197918/twitter_news_rev.jpg', u'screen_name': u'WPXI', u'lang': u'en', u'profile_background_tile': False, u'favourites_count': 1109, u'name': u'WPXI', u'notifications': False, u'url': u'http://t.co/wqsJkRDa2m', u'created_at': u'Wed Mar 05 21:24:23 +0000 2008', u'contributors_enabled': False, u'time_zone': u'Eastern Time (US & Canada)', u'protected': False, u'default_profile': False, u'is_translator': False}, u'geo': None, u'in_reply_to_user_id_str': None, u'possibly_sensitive': False, u'possibly_sensitive_appealable': False, u'lang': u'en', u'created_at': u'Tue Nov 01 01:03:09 +0000 2016', u'in_reply_to_status_id_str': None, u'place': None, u'extended_entities': {u'media': [{u'expanded_url': u'https://twitter.com/WPXI/status/793257033181044736/photo/1', u'display_url': u'pic.twitter.com/re4zHSKS1l', u'url': u'https://t.co/re4zHSKS1l', u'media_url_https': u'https://pbs.twimg.com/media/CwI3ESfXgAAK9w_.jpg', u'id_str': u'793257031193034752', u'sizes': {u'large': {u'h': 360, u'resize': u'fit', u'w': 640}, u'small': {u'h': 360, u'resize': u'fit', u'w': 640}, u'medium': {u'h': 360, u'resize': u'fit', u'w': 640}, u'thumb': {u'h': 150, u'resize': u'crop', u'w': 150}}, u'indices': [78, 101], u'type': u'photo', u'id': 793257031193034752L, u'media_url': u'http://pbs.twimg.com/media/CwI3ESfXgAAK9w_.jpg'}]}}, {u'contributors': None, u'truncated': True, u'text': u'With just 8 days left, this can\\u2019t wait. RT if you agree Trump should immediately disclose all of his ties and conne\\u2026 https://t.co/NkrtXsKjjK', u'is_quote_status': False, u'in_reply_to_status_id': None, u'id': 793254986641764356L, u'favorite_count': 7193, u'source': u'<a href=\"https://studio.twitter.com\" rel=\"nofollow\">Media Studio</a>', u'retweeted': False, u'coordinates': None, u'entities': {u'symbols': [], u'user_mentions': [], u'hashtags': [], u'urls': [{u'url': u'https://t.co/NkrtXsKjjK', u'indices': [117, 140], u'expanded_url': u'https://twitter.com/i/web/status/793254986641764356', u'display_url': u'twitter.com/i/web/status/7\\u2026'}]}, u'in_reply_to_screen_name': None, u'in_reply_to_user_id': None, u'retweet_count': 7892, u'id_str': u'793254986641764356', u'favorited': False, u'user': {u'follow_request_sent': False, u'has_extended_profile': True, u'profile_use_background_image': False, u'default_profile_image': False, u'id': 1339835893, u'profile_background_image_url_https': u'https://abs.twimg.com/images/themes/theme1/bg.png', u'verified': True, u'translator_type': u'none', u'profile_text_color': u'000000', u'profile_image_url_https': u'https://pbs.twimg.com/profile_images/750300510264107008/G8-PA5KA_normal.jpg', u'profile_sidebar_fill_color': u'000000', u'entities': {u'url': {u'urls': [{u'url': u'https://t.co/xhPHAcvdoc', u'indices': [0, 23], u'expanded_url': u'http://HillaryClinton.com', u'display_url': u'HillaryClinton.com'}]}, u'description': {u'urls': []}}, u'followers_count': 10083961, u'profile_sidebar_border_color': u'000000', u'id_str': u'1339835893', u'profile_background_color': u'0057B8', u'listed_count': 33041, u'is_translation_enabled': False, u'utc_offset': -14400, u'statuses_count': 9492, u'description': u'Wife, mom, grandma, women+kids advocate, FLOTUS, Senator, SecState, hair icon, pantsuit aficionado, 2016 presidential candidate. Tweets from Hillary signed \\u2013H', u'friends_count': 758, u'location': u'New York, NY', u'profile_link_color': u'0057B8', u'profile_image_url': u'http://pbs.twimg.com/profile_images/750300510264107008/G8-PA5KA_normal.jpg', u'following': True, u'geo_enabled': True, u'profile_banner_url': u'https://pbs.twimg.com/profile_banners/1339835893/1476893928', u'profile_background_image_url': u'http://abs.twimg.com/images/themes/theme1/bg.png', u'screen_name': u'HillaryClinton', u'lang': u'en', u'profile_background_tile': False, u'favourites_count': 1190, u'name': u'Hillary Clinton', u'notifications': False, u'url': u'https://t.co/xhPHAcvdoc', u'created_at': u'Tue Apr 09 18:04:35 +0000 2013', u'contributors_enabled': False, u'time_zone': u'Eastern Time (US & Canada)', u'protected': False, u'default_profile': False, u'is_translator': False}, u'geo': None, u'in_reply_to_user_id_str': None, u'possibly_sensitive': False, u'possibly_sensitive_appealable': False, u'lang': u'en', u'created_at': u'Tue Nov 01 00:55:01 +0000 2016', u'in_reply_to_status_id_str': None, u'place': None}, {u'contributors': None, u'truncated': False, u'text': u'Hundreds of American kids are suddenly paralyzed, and doctors don\\u2019t know why https://t.co/rO4QvoHO1z https://t.co/ko759ZaQY5', u'is_quote_status': False, u'in_reply_to_status_id': None, u'id': 793253829479399424L, u'favorite_count': 1, u'source': u'<a href=\"https://secure.echoboxapp.com\" rel=\"nofollow\">Echobox Social</a>', u'retweeted': False, u'coordinates': None, u'entities': {u'symbols': [], u'user_mentions': [], u'hashtags': [], u'urls': [{u'url': u'https://t.co/rO4QvoHO1z', u'indices': [77, 100], u'expanded_url': u'http://bit.ly/2fnnfoz', u'display_url': u'bit.ly/2fnnfoz'}], u'media': [{u'expanded_url': u'https://twitter.com/PittsburghPG/status/793253829479399424/photo/1', u'display_url': u'pic.twitter.com/ko759ZaQY5', u'url': u'https://t.co/ko759ZaQY5', u'media_url_https': u'https://pbs.twimg.com/media/CwI0JxsWcAAtOI8.jpg', u'id_str': u'793253826933452800', u'sizes': {u'small': {u'h': 453, u'resize': u'fit', u'w': 680}, u'large': {u'h': 480, u'resize': u'fit', u'w': 720}, u'medium': {u'h': 480, u'resize': u'fit', u'w': 720}, u'thumb': {u'h': 150, u'resize': u'crop', u'w': 150}}, u'indices': [101, 124], u'type': u'photo', u'id': 793253826933452800L, u'media_url': u'http://pbs.twimg.com/media/CwI0JxsWcAAtOI8.jpg'}]}, u'in_reply_to_screen_name': None, u'in_reply_to_user_id': None, u'retweet_count': 2, u'id_str': u'793253829479399424', u'favorited': False, u'user': {u'follow_request_sent': False, u'has_extended_profile': False, u'profile_use_background_image': True, u'default_profile_image': False, u'id': 21780652, u'profile_background_image_url_https': u'https://pbs.twimg.com/profile_background_images/108321893/2010Twitter_PGgreenrighttowerB_800x2000.jpg', u'verified': True, u'translator_type': u'none', u'profile_text_color': u'333333', u'profile_image_url_https': u'https://pbs.twimg.com/profile_images/756180163042377728/uOxX4DUc_normal.jpg', u'profile_sidebar_fill_color': u'FFFFFF', u'entities': {u'url': {u'urls': [{u'url': u'https://t.co/zazukdYTFJ', u'indices': [0, 23], u'expanded_url': u'http://www.post-gazette.com', u'display_url': u'post-gazette.com'}]}, u'description': {u'urls': [{u'url': u'https://t.co/ZT7mpWVAcG', u'indices': [63, 86], u'expanded_url': u'http://www.facebook.com/pittsburghpostgazette', u'display_url': u'facebook.com/pittsburghpost\\u2026'}, {u'url': u'https://t.co/gZIyqoW7K0', u'indices': [98, 121], u'expanded_url': u'https://www.instagram.com/pittsburghpg/', u'display_url': u'instagram.com/pittsburghpg/'}]}}, u'followers_count': 114551, u'profile_sidebar_border_color': u'BDDCAD', u'id_str': u'21780652', u'profile_background_color': u'0CA682', u'listed_count': 1902, u'is_translation_enabled': False, u'utc_offset': -14400, u'statuses_count': 120697, u'description': u'Serving Pittsburgh & Western Pa. for over 200 years. Facebook: https://t.co/ZT7mpWVAcG Instagram: https://t.co/gZIyqoW7K0', u'friends_count': 559, u'location': u'Pittsburgh, Pa.', u'profile_link_color': u'0084B4', u'profile_image_url': u'http://pbs.twimg.com/profile_images/756180163042377728/uOxX4DUc_normal.jpg', u'following': True, u'geo_enabled': True, u'profile_banner_url': u'https://pbs.twimg.com/profile_banners/21780652/1446574553', u'profile_background_image_url': u'http://pbs.twimg.com/profile_background_images/108321893/2010Twitter_PGgreenrighttowerB_800x2000.jpg', u'screen_name': u'PittsburghPG', u'lang': u'en', u'profile_background_tile': False, u'favourites_count': 1288, u'name': u'Pittsburgh PG', u'notifications': False, u'url': u'https://t.co/zazukdYTFJ', u'created_at': u'Tue Feb 24 18:37:56 +0000 2009', u'contributors_enabled': False, u'time_zone': u'Eastern Time (US & Canada)', u'protected': False, u'default_profile': False, u'is_translator': False}, u'geo': None, u'in_reply_to_user_id_str': None, u'possibly_sensitive': False, u'possibly_sensitive_appealable': False, u'lang': u'en', u'created_at': u'Tue Nov 01 00:50:25 +0000 2016', u'in_reply_to_status_id_str': None, u'place': None, u'extended_entities': {u'media': [{u'expanded_url': u'https://twitter.com/PittsburghPG/status/793253829479399424/photo/1', u'display_url': u'pic.twitter.com/ko759ZaQY5', u'url': u'https://t.co/ko759ZaQY5', u'media_url_https': u'https://pbs.twimg.com/media/CwI0JxsWcAAtOI8.jpg', u'id_str': u'793253826933452800', u'sizes': {u'small': {u'h': 453, u'resize': u'fit', u'w': 680}, u'large': {u'h': 480, u'resize': u'fit', u'w': 720}, u'medium': {u'h': 480, u'resize': u'fit', u'w': 720}, u'thumb': {u'h': 150, u'resize': u'crop', u'w': 150}}, u'indices': [101, 124], u'type': u'photo', u'id': 793253826933452800L, u'media_url': u'http://pbs.twimg.com/media/CwI0JxsWcAAtOI8.jpg'}]}}, {u'contributors': None, u'truncated': False, u'text': u'4-year-old gets surprise after dressing up as his military dad for Halloween https://t.co/oys683RyoS', u'is_quote_status': False, u'in_reply_to_status_id': None, u'id': 793252990975107072L, u'favorite_count': 11, u'source': u'<a href=\"http://www.socialflow.com\" rel=\"nofollow\">SocialFlow</a>', u'retweeted': False, u'coordinates': None, u'entities': {u'symbols': [], u'user_mentions': [], u'hashtags': [], u'urls': [{u'url': u'https://t.co/oys683RyoS', u'indices': [77, 100], u'expanded_url': u'http://on.wpxi.com/2e75iVm', u'display_url': u'on.wpxi.com/2e75iVm'}]}, u'in_reply_to_screen_name': None, u'in_reply_to_user_id': None, u'retweet_count': 7, u'id_str': u'793252990975107072', u'favorited': False, u'user': {u'follow_request_sent': False, u'has_extended_profile': False, u'profile_use_background_image': True, u'default_profile_image': False, u'id': 14085146, u'profile_background_image_url_https': u'https://pbs.twimg.com/profile_background_images/251197918/twitter_news_rev.jpg', u'verified': True, u'translator_type': u'none', u'profile_text_color': u'333333', u'profile_image_url_https': u'https://pbs.twimg.com/profile_images/767731248714448896/AUzBwtc3_normal.jpg', u'profile_sidebar_fill_color': u'DDEEF6', u'entities': {u'url': {u'urls': [{u'url': u'http://t.co/wqsJkRDa2m', u'indices': [0, 22], u'expanded_url': u'http://www.wpxi.com', u'display_url': u'wpxi.com'}]}, u'description': {u'urls': []}}, u'followers_count': 133479, u'profile_sidebar_border_color': u'0A0F31', u'id_str': u'14085146', u'profile_background_color': u'0A0F31', u'listed_count': 1178, u'is_translation_enabled': False, u'utc_offset': -14400, u'statuses_count': 156082, u'description': u'LEGALESE: If you send us a tweet, you consent to letting WPXI use and showcase it in any media, including TV.', u'friends_count': 3249, u'location': u'Pittsburgh', u'profile_link_color': u'0084B4', u'profile_image_url': u'http://pbs.twimg.com/profile_images/767731248714448896/AUzBwtc3_normal.jpg', u'following': True, u'geo_enabled': True, u'profile_banner_url': u'https://pbs.twimg.com/profile_banners/14085146/1475075203', u'profile_background_image_url': u'http://pbs.twimg.com/profile_background_images/251197918/twitter_news_rev.jpg', u'screen_name': u'WPXI', u'lang': u'en', u'profile_background_tile': False, u'favourites_count': 1109, u'name': u'WPXI', u'notifications': False, u'url': u'http://t.co/wqsJkRDa2m', u'created_at': u'Wed Mar 05 21:24:23 +0000 2008', u'contributors_enabled': False, u'time_zone': u'Eastern Time (US & Canada)', u'protected': False, u'default_profile': False, u'is_translator': False}, u'geo': None, u'in_reply_to_user_id_str': None, u'possibly_sensitive': False, u'possibly_sensitive_appealable': False, u'lang': u'en', u'created_at': u'Tue Nov 01 00:47:05 +0000 2016', u'in_reply_to_status_id_str': None, u'place': None}, {u'contributors': None, u'truncated': False, u'text': u'Authorities: At least 7 injured in Colonial Pipeline blast https://t.co/iEYGSrFjar https://t.co/MXG17WEDYv', u'is_quote_status': False, u'in_reply_to_status_id': None, u'id': 793252251443798016L, u'favorite_count': 1, u'source': u'<a href=\"http://www.socialflow.com\" rel=\"nofollow\">SocialFlow</a>', u'retweeted': False, u'coordinates': None, u'entities': {u'symbols': [], u'user_mentions': [], u'hashtags': [], u'urls': [{u'url': u'https://t.co/iEYGSrFjar', u'indices': [59, 82], u'expanded_url': u'http://on.wpxi.com/2egvEYz', u'display_url': u'on.wpxi.com/2egvEYz'}], u'media': [{u'expanded_url': u'https://twitter.com/WPXI/status/793252251443798016/photo/1', u'display_url': u'pic.twitter.com/MXG17WEDYv', u'url': u'https://t.co/MXG17WEDYv', u'media_url_https': u'https://pbs.twimg.com/media/CwIyt1-WYAAbb6W.jpg', u'id_str': u'793252247534723072', u'sizes': {u'large': {u'h': 369, u'resize': u'fit', u'w': 649}, u'small': {u'h': 369, u'resize': u'fit', u'w': 649}, u'medium': {u'h': 369, u'resize': u'fit', u'w': 649}, u'thumb': {u'h': 150, u'resize': u'crop', u'w': 150}}, u'indices': [83, 106], u'type': u'photo', u'id': 793252247534723072L, u'media_url': u'http://pbs.twimg.com/media/CwIyt1-WYAAbb6W.jpg'}]}, u'in_reply_to_screen_name': None, u'in_reply_to_user_id': None, u'retweet_count': 3, u'id_str': u'793252251443798016', u'favorited': False, u'user': {u'follow_request_sent': False, u'has_extended_profile': False, u'profile_use_background_image': True, u'default_profile_image': False, u'id': 14085146, u'profile_background_image_url_https': u'https://pbs.twimg.com/profile_background_images/251197918/twitter_news_rev.jpg', u'verified': True, u'translator_type': u'none', u'profile_text_color': u'333333', u'profile_image_url_https': u'https://pbs.twimg.com/profile_images/767731248714448896/AUzBwtc3_normal.jpg', u'profile_sidebar_fill_color': u'DDEEF6', u'entities': {u'url': {u'urls': [{u'url': u'http://t.co/wqsJkRDa2m', u'indices': [0, 22], u'expanded_url': u'http://www.wpxi.com', u'display_url': u'wpxi.com'}]}, u'description': {u'urls': []}}, u'followers_count': 133479, u'profile_sidebar_border_color': u'0A0F31', u'id_str': u'14085146', u'profile_background_color': u'0A0F31', u'listed_count': 1178, u'is_translation_enabled': False, u'utc_offset': -14400, u'statuses_count': 156082, u'description': u'LEGALESE: If you send us a tweet, you consent to letting WPXI use and showcase it in any media, including TV.', u'friends_count': 3249, u'location': u'Pittsburgh', u'profile_link_color': u'0084B4', u'profile_image_url': u'http://pbs.twimg.com/profile_images/767731248714448896/AUzBwtc3_normal.jpg', u'following': True, u'geo_enabled': True, u'profile_banner_url': u'https://pbs.twimg.com/profile_banners/14085146/1475075203', u'profile_background_image_url': u'http://pbs.twimg.com/profile_background_images/251197918/twitter_news_rev.jpg', u'screen_name': u'WPXI', u'lang': u'en', u'profile_background_tile': False, u'favourites_count': 1109, u'name': u'WPXI', u'notifications': False, u'url': u'http://t.co/wqsJkRDa2m', u'created_at': u'Wed Mar 05 21:24:23 +0000 2008', u'contributors_enabled': False, u'time_zone': u'Eastern Time (US & Canada)', u'protected': False, u'default_profile': False, u'is_translator': False}, u'geo': None, u'in_reply_to_user_id_str': None, u'possibly_sensitive': False, u'possibly_sensitive_appealable': False, u'lang': u'en', u'created_at': u'Tue Nov 01 00:44:09 +0000 2016', u'in_reply_to_status_id_str': None, u'place': None, u'extended_entities': {u'media': [{u'expanded_url': u'https://twitter.com/WPXI/status/793252251443798016/photo/1', u'display_url': u'pic.twitter.com/MXG17WEDYv', u'url': u'https://t.co/MXG17WEDYv', u'media_url_https': u'https://pbs.twimg.com/media/CwIyt1-WYAAbb6W.jpg', u'id_str': u'793252247534723072', u'sizes': {u'large': {u'h': 369, u'resize': u'fit', u'w': 649}, u'small': {u'h': 369, u'resize': u'fit', u'w': 649}, u'medium': {u'h': 369, u'resize': u'fit', u'w': 649}, u'thumb': {u'h': 150, u'resize': u'crop', u'w': 150}}, u'indices': [83, 106], u'type': u'photo', u'id': 793252247534723072L, u'media_url': u'http://pbs.twimg.com/media/CwIyt1-WYAAbb6W.jpg'}]}}]\n"
     ]
    }
   ],
   "source": [
    "twitter = Twython(CONSUMER_KEY, CONSUMER_SECRET, OAUTH_TOKEN, OAUTH_TOKEN_SECRET)\n",
    "\n",
    "timeline = twitter.get_home_timeline()\n",
    "\n",
    "print timeline\n",
    "\n"
   ]
  },
  {
   "cell_type": "markdown",
   "metadata": {},
   "source": [
    "As observed before, the returned object is very large and complex consisting of multiple tweets having multiple media entities within them. Here are some extracted values in simple form:"
   ]
  },
  {
   "cell_type": "code",
   "execution_count": 30,
   "metadata": {
    "collapsed": false
   },
   "outputs": [
    {
     "name": "stdout",
     "output_type": "stream",
     "text": [
      "RT @WPXIVarnum: A local county changing policies because of heroin overdoses @WPXI at 11. https://t.co/X6WoCObX4l\n"
     ]
    }
   ],
   "source": [
    "print timeline[0]['text']"
   ]
  },
  {
   "cell_type": "code",
   "execution_count": 31,
   "metadata": {
    "collapsed": false
   },
   "outputs": [
    {
     "name": "stdout",
     "output_type": "stream",
     "text": [
      "1\n"
     ]
    }
   ],
   "source": [
    "print timeline[0]['retweet_count']"
   ]
  },
  {
   "cell_type": "code",
   "execution_count": 32,
   "metadata": {
    "collapsed": false
   },
   "outputs": [
    {
     "name": "stdout",
     "output_type": "stream",
     "text": [
      "793277401342046209\n"
     ]
    }
   ],
   "source": [
    "print timeline[0]['id']"
   ]
  },
  {
   "cell_type": "markdown",
   "metadata": {},
   "source": [
    "### 6.2 Fetching Tweets\n",
    "\n",
    "We now move on to one of the most useful features of Twitter API for data mining - search. This method scans the whole of Twitter to return tweets that match the provided `query`. `Count` restricts number of results (maximum is 100). Additional parameters which can be passed include `geocode`, `lang`, `until`. The returned tweets are included under the label 'statuses'.\n",
    "\n",
    "Lets see what people are saying about the new Macbooks."
   ]
  },
  {
   "cell_type": "code",
   "execution_count": 37,
   "metadata": {
    "collapsed": false
   },
   "outputs": [
    {
     "name": "stdout",
     "output_type": "stream",
     "text": [
      "Tweet from @edwarddesroche1 Date: Tue Nov 01 06:33:44 +0000 2016\n",
      "I liked a @YouTube video from @ncixtechtips https://t.co/1qLACQIJOQ Radeon Pro 450, 455, 460 Specs, EA blocks Origin, Macbook Pro\n",
      "Tweet from @rivernelsonmua Date: Tue Nov 01 06:33:39 +0000 2016\n",
      "I entered @grav3yardgirl HALLOWEEN MACBOOK GIVEAWAY! CHECK IT OUT HERE! https://t.co/SqNxT6rkbi #grav3yardgirlgiveaway hdxhexhehxej\n",
      "Tweet from @Geovannie Date: Tue Nov 01 06:33:36 +0000 2016\n",
      "@keaton let me have a MacBook bro\n",
      "Tweet from @blkentourageclt Date: Tue Nov 01 06:33:31 +0000 2016\n",
      "#forbes The New MacBook's Incompatibility With The iPhone 7 Is Absolutely Absurd https://t.co/JwEoHfes5w\n",
      "Tweet from @elfsweet Date: Tue Nov 01 06:33:27 +0000 2016\n",
      "I entered @grav3yardgirl HALLOWEEN MACBOOK GIVEAWAY! CHECK IT OUT HERE! https://t.co/DbjUkIHyEH #grav3yardgirlgiveaway\n",
      "Tweet from @elfsweet Date: Tue Nov 01 06:33:21 +0000 2016\n",
      "i entered @grav3yardgirl HALLOWEEN MACBOOK GIVEAWAY! CHECK IT OUT HERE! https://t.co/DbjUkIHyEH\n",
      "Tweet from @rivernelsonmua Date: Tue Nov 01 06:33:20 +0000 2016\n",
      "i entered @grav3yardgirl HALLOWEEN MACBOOK GIVEAWAY! CHECK IT OUT HERE! https://t.co/SqNxT6rkbi\n",
      "Tweet from @suhinini Date: Tue Nov 01 06:33:16 +0000 2016\n",
      "RT @appleinsider: Kuo: Demand for new MacBook Pro models tepid due to high prices, disappointing specs https://t.co/auqtbDZxZT https://t.co…\n",
      "Tweet from @operatorpk Date: Tue Nov 01 06:33:11 +0000 2016\n",
      "RT @gak_pdx: So, as the Mac Nerd Sphere digests the details, it appears, more and more, Apple is working under big constraints:\n",
      "https://t.c…\n",
      "Tweet from @OfferGeek Date: Tue Nov 01 06:33:11 +0000 2016\n",
      "NEW - Apple MacBook Pro 15.4\" Laptop MJLT2LL/A 512GB 16GB RAM i7 (FORCE TOUCH) https://t.co/yqW9y3oM5i #mac #macbook https://t.co/a61qdshuCI\n",
      "Tweet from @Southerncollard Date: Tue Nov 01 06:33:07 +0000 2016\n",
      "Such great sound! Metal In-ear Headphones Earbuds with Mic for Apple iPhone iPad iPod MacBook and Andriod\n",
      "https://t.co/leKaeBWQEi\n",
      "#yoyomax\n",
      "Tweet from @bennetcobliner Date: Tue Nov 01 06:33:06 +0000 2016\n",
      "Hey @Apple ! Wake up! #MacBookPro #MacPro https://t.co/5c2wEJYT0L\n",
      "Tweet from @coasterpaul Date: Tue Nov 01 06:32:48 +0000 2016\n",
      "RT @CNETAustralia: #Microsoft soars while #Apple bores. How Apple just handed Microsoft the keys to the kingdom https://t.co/c9nc1LFXTi htt…\n",
      "Tweet from @KurtCat Date: Tue Nov 01 06:32:38 +0000 2016\n",
      "i haven't touched my macbook in 3 days and i forgot my password... what's my name??? why am i in school??? who am i???\n",
      "Tweet from @kermic Date: Tue Nov 01 06:32:35 +0000 2016\n",
      "RT @gak_pdx: So, as the Mac Nerd Sphere digests the details, it appears, more and more, Apple is working under big constraints:\n",
      "https://t.c…\n",
      "Tweet from @Ada_UNICORN610 Date: Tue Nov 01 06:32:34 +0000 2016\n",
      "I entered @grav3yardgirl HALLOWEEN MACBOOK GIVEAWAY! CHECK IT OUT HERE! https://t.co/K0rc45nN8i #grav3yardgirlgiveaway\n",
      "Tweet from @ibrahimadhnaan Date: Tue Nov 01 06:32:33 +0000 2016\n",
      "How to restore the classic Mac startup chime to Apple's new 2016 MacBook Pros https://t.co/tgn8GT1YjK\n",
      "Tweet from @Ada_UNICORN610 Date: Tue Nov 01 06:32:29 +0000 2016\n",
      "i entered @grav3yardgirl HALLOWEEN MACBOOK GIVEAWAY! CHECK IT OUT HERE! https://t.co/K0rc456bJI\n",
      "Tweet from @MacRepairsLndn Date: Tue Nov 01 06:32:28 +0000 2016\n",
      "MacRepairLDN Kuo: Demand for new MacBook Pro models tepid due to high prices, disappointing specs https://t.co/0vy9680k5z\n",
      "Tweet from @CeezP Date: Tue Nov 01 06:32:28 +0000 2016\n",
      "RT @JASMINEllV: when you forget to delete your booty pics from your macbook and let your mom borrow it 🙃\n"
     ]
    }
   ],
   "source": [
    "search_results = twitter.search(q='macbook', count=30, lang = 'en')\n",
    "for tweet in search_results['statuses']:\n",
    "    print 'Tweet from @%s Date: %s' % (tweet['user']['screen_name'],\n",
    "                                       tweet['created_at'])\n",
    "    print tweet['text']"
   ]
  },
  {
   "cell_type": "markdown",
   "metadata": {},
   "source": [
    "## 7. Entities"
   ]
  },
  {
   "cell_type": "markdown",
   "metadata": {},
   "source": [
    "Entities are structures which hold additional information about a Tweet or a User. Common entities within a Tweet include `hashtags`, `urls` , `media`, `user_mentions`. All the urls on Twitter are stored in entities only. \n",
    "\n"
   ]
  },
  {
   "cell_type": "markdown",
   "metadata": {},
   "source": [
    "### 7.1 Entities on the timeline\n",
    "\n",
    "Here are the entities present in the first Tweet on our timeline:"
   ]
  },
  {
   "cell_type": "code",
   "execution_count": 38,
   "metadata": {
    "collapsed": false
   },
   "outputs": [
    {
     "name": "stdout",
     "output_type": "stream",
     "text": [
      "{u'symbols': [], u'user_mentions': [{u'id': 2398393345L, u'indices': [3, 14], u'id_str': u'2398393345', u'screen_name': u'WPXIVarnum', u'name': u'Catherine Varnum'}, {u'id': 14085146, u'indices': [77, 82], u'id_str': u'14085146', u'screen_name': u'WPXI', u'name': u'WPXI'}], u'hashtags': [], u'urls': [], u'media': [{u'source_user_id': 2398393345L, u'source_status_id_str': u'793277143685922816', u'expanded_url': u'https://twitter.com/WPXIVarnum/status/793277143685922816/video/1', u'display_url': u'pic.twitter.com/X6WoCObX4l', u'url': u'https://t.co/X6WoCObX4l', u'media_url_https': u'https://pbs.twimg.com/ext_tw_video_thumb/793277110207078400/pu/img/AApQqIbiCD9_Eurm.jpg', u'source_user_id_str': u'2398393345', u'source_status_id': 793277143685922816L, u'id_str': u'793277110207078400', u'sizes': {u'small': {u'h': 340, u'resize': u'fit', u'w': 340}, u'large': {u'h': 640, u'resize': u'fit', u'w': 640}, u'medium': {u'h': 600, u'resize': u'fit', u'w': 600}, u'thumb': {u'h': 150, u'resize': u'crop', u'w': 150}}, u'indices': [90, 113], u'type': u'photo', u'id': 793277110207078400L, u'media_url': u'http://pbs.twimg.com/ext_tw_video_thumb/793277110207078400/pu/img/AApQqIbiCD9_Eurm.jpg'}]}\n"
     ]
    }
   ],
   "source": [
    "print timeline[0]['entities']"
   ]
  },
  {
   "cell_type": "markdown",
   "metadata": {},
   "source": [
    "### 7.2 Updating status with media entity\n",
    "\n",
    "Now we will attempt to do something cool that is update our status using a media entity (photo of our beloved CMU in this case). For that, we need to first upload the media file and refer it in the 'update_status' method with its `media_id`. On success, it returns the updated status as a Tweet."
   ]
  },
  {
   "cell_type": "code",
   "execution_count": 41,
   "metadata": {
    "collapsed": false
   },
   "outputs": [
    {
     "name": "stdout",
     "output_type": "stream",
     "text": [
      "[{u'expanded_url': u'https://twitter.com/pds_tutorial/status/793348009425670144/photo/1', u'display_url': u'pic.twitter.com/eI82qIM2wt', u'url': u'https://t.co/eI82qIM2wt', u'media_url_https': u'https://pbs.twimg.com/media/CwKJzqUWcAAyCQ_.jpg', u'id_str': u'793348004996608000', u'sizes': {u'small': {u'h': 259, u'resize': u'fit', u'w': 680}, u'large': {u'h': 547, u'resize': u'fit', u'w': 1437}, u'medium': {u'h': 457, u'resize': u'fit', u'w': 1200}, u'thumb': {u'h': 150, u'resize': u'crop', u'w': 150}}, u'indices': [30, 53], u'type': u'photo', u'id': 793348004996608000L, u'media_url': u'http://pbs.twimg.com/media/CwKJzqUWcAAyCQ_.jpg'}]\n"
     ]
    }
   ],
   "source": [
    "photo = open('cmu.jpg', 'rb')\n",
    "media_response = twitter.upload_media(media=photo)\n",
    "mid = media_response['media_id']\n",
    "new_media_status = twitter.update_status(status='Uploading image using Twython', media_ids=[mid])\n",
    "print new_media_status['entities']['media']"
   ]
  },
  {
   "cell_type": "markdown",
   "metadata": {},
   "source": [
    "And it was a success!\n",
    "\n",
    "<img src=\"media_tweet.jpg\",width=800, height=800>"
   ]
  },
  {
   "cell_type": "markdown",
   "metadata": {},
   "source": [
    "## 8. Places"
   ]
  },
  {
   "cell_type": "markdown",
   "metadata": {},
   "source": [
    "Locations on Twitter are in the form of Places. Each place has a unique `id` alloted to it. It also has properties of `country` and `bounding_box` which is a list of GPS co-ordinates reprsenting the polygon which acts as a boundary to that region. \n",
    " "
   ]
  },
  {
   "cell_type": "markdown",
   "metadata": {},
   "source": [
    "### 8.1 Neighborhood search\n",
    "\n",
    "Here we perform a search of all neighbourhoods in Pittsburgh. The `query` parameter can include landmarks as well such as 'Eiffel Tower' or 'Twitter HQ'. `granularity` denotes the positioning level of the results. It can be 'country', 'city' or 'neighborhood'. Individual `lat`, `long` and `accuracy` can also be passed to search_geo. "
   ]
  },
  {
   "cell_type": "code",
   "execution_count": 47,
   "metadata": {
    "collapsed": false
   },
   "outputs": [
    {
     "name": "stdout",
     "output_type": "stream",
     "text": [
      "3\n"
     ]
    }
   ],
   "source": [
    "neighborhoods = twitter.search_geo(query='Pittsburgh', granularity = 'neighborhood')\n",
    "print len(neighborhoods['result']['places'])"
   ]
  },
  {
   "cell_type": "code",
   "execution_count": 48,
   "metadata": {
    "collapsed": false
   },
   "outputs": [
    {
     "name": "stdout",
     "output_type": "stream",
     "text": [
      "{u'type': u'Polygon', u'coordinates': [[[-80.095586, 40.3615796], [-80.095586, 40.501198], [-79.8657933, 40.501198], [-79.8657933, 40.3615796], [-80.095586, 40.3615796]]]}\n",
      "{u'type': u'Polygon', u'coordinates': [[[-84.4082574, 33.719334], [-84.4082574, 33.7447277], [-84.3932187, 33.7447277], [-84.3932187, 33.719334], [-84.4082574, 33.719334]]]}\n",
      "{u'type': u'Polygon', u'coordinates': [[[-79.845093, 40.390824], [-79.845093, 40.405892], [-79.829844, 40.405892], [-79.829844, 40.390824], [-79.845093, 40.390824]]]}\n"
     ]
    }
   ],
   "source": [
    "for neighborhood in neighborhoods['result']['places']:\n",
    "    print neighborhood['bounding_box']"
   ]
  },
  {
   "cell_type": "markdown",
   "metadata": {},
   "source": [
    "## 9. Streaming API"
   ]
  },
  {
   "cell_type": "markdown",
   "metadata": {},
   "source": [
    "The Twitter Streaming API is for getting a continuous stream of tweets in real time. The rate limits of the REST APIs do not apply to the Streaming API. As long as the connnection with Twitter is open, we will keep receiving tweets of interest as they are being posted in real time. This makes it a very powerful tool for data mining. \n",
    "\n",
    "In Twython, the `TwythonStreamer` is an abstraction of the Streaming API. It has to be instantiated using the 4 keys we generated before. The returned data (a Tweets object) is handled through 2 signals `on_success` and `on_error`. In most cases, we define our own Streamer class where we mention how we want data to be handled in the handlers to the 2 signals. Here is the code implmenting a custom Streamer class:  "
   ]
  },
  {
   "cell_type": "code",
   "execution_count": 65,
   "metadata": {
    "collapsed": false
   },
   "outputs": [],
   "source": [
    "from twython import TwythonStreamer\n",
    "\n",
    "class MyStreamer(TwythonStreamer):\n",
    "    #to restrict input size, we implement a counter\n",
    "    count = 0;\n",
    "    def on_success(self, inp_data):\n",
    "        self.count +=1;\n",
    "        if 'text' in inp_data:\n",
    "            print self.count, inp_data['text']\n",
    "    #disconnect after receiving 200 tweets\n",
    "        if self.count == 200:\n",
    "            self.disconnect()\n",
    "\n",
    "    def on_error(self, status_code, inp_data):\n",
    "        print status_code\n",
    "        self.disconnect()"
   ]
  },
  {
   "cell_type": "markdown",
   "metadata": {},
   "source": [
    "Some important points to keep in mind while using Streaming are that at anytime, 1 user can only have 1 Streaming Service open. In case of network disturbances during streaming, the user can reconnect immediately after network is back. However, if connection is denied due to reasons like multiple attempts with invalid credentials (all which return HTTP `status_code` > 400), there should be some cool off time before attempting to reconnect. \n",
    "\n",
    "TwythonStreamer has 3 ways to stream tweets:\n",
    "- filter: return tweets with specific keywords\n",
    "- sample: return a sample of all recent tweets\n",
    "- firehose: return all recent tweets\n",
    "\n",
    "Lets see what people around the world are saying about 'weather':"
   ]
  },
  {
   "cell_type": "code",
   "execution_count": 66,
   "metadata": {
    "collapsed": false
   },
   "outputs": [
    {
     "name": "stdout",
     "output_type": "stream",
     "text": [
      "1 current weather in Bari: clear sky, 14°C\n",
      "76% humidity, wind 3kmh, pressure 1020mb\n",
      "2 RT @AEXEQB: $AEXE WE FOUND THE REASON. INDIA NEEDS MORE COAL DUE TO BAD WEATHER AFFECTING PRODUCTION https://t.co/pidhBoUC40… \n",
      "3 The weather is on point these days👌🏼 #pleasedontchange\n",
      "4 RT @marqREXx: Everything is hard pag ganito yung weather:\n",
      "Hard to get up\n",
      "Hard to make food\n",
      "Hard to take a shower\n",
      "And hard 😂\n",
      "5 Fun#driving#food#weather#yaariyan#gettogether#traffic :-p :-) — travelling to Dehradun : The City of Love from... https://t.co/95XY1cVjs8\n",
      "6 Nakakatamad ang weather.\n",
      "How can i #TIMYGetGoing ?\n",
      "7 Of His return,Jesus spoke of weather: \"There will be...dismay among nations,in perplexity at the roaring of the sea and the waves.\" Lk.21:25\n",
      "8 Mostly Sunny tomorrow (Hi 79F | Lo 61F) -- enjoy the weather everyone!\n",
      "9 RT @amber_jensen1: it's november and i'm still waiting on that no sun and cold weather https://t.co/5HQO3dl7cS\n",
      "10 Fun#driving#food#weather#yaariyan#gettogether#traffic :-p :-) — travelling to Dehradun : The City of Love from... https://t.co/U1jxd5CMg5\n",
      "11 RT @xxanthony_13xx: Wish I had someone to cuddle with in this typa weather\n",
      "12 2 more weeks till Dove Season, and the weather is beautiful 😍\n",
      "13 RT @GirlfriendNotes: *weather drops 2 degrees* https://t.co/77lUao96at\n",
      "14 @MarJellulu @yourorangethief ginpasal-an pa ang weather 😂\n",
      "15 RT @astrology: The signs as weather https://t.co/S7zzRsIMHU\n",
      "16 RT @jlinehan9: I don't know how or why some people wear t-shirts in this weather! If I could walk around in a sleeping bag I would! It's ch…\n",
      "17 RT @beeezus: Can't wait for cold weather cuddles.\n",
      "18 RT @jxckielara: Walked outside &amp; thought it was cold so I checked the weather &amp; its 70 degrees lmao\n",
      "19 Fun#driving#food#weather#yaariyan#gettogether#traffic :-p :-) — travelling to Dehradun : The City of Love from... https://t.co/BTJ3uzKQN9\n",
      "20 I must be insane buying slushie at this kind of weather\n",
      "21 Xenon safety lamp rainy weather emitter resistance scale potty-chair: dkzwRKjUa\n",
      "22 #Weather #Weather Sunday: Mostly sunny, with a high near 67. https://t.co/15Zmrz6agZ 5 Day Forecast-\n",
      "23 RT @AyalaM03_: It's November and we still have this bipolar weather smh\n",
      "24 Weather Stickers For iMessage - Acar Bilican Kemaloglu https://t.co/DztqYmxRRy #Stickers #iTunes #Music #News\n",
      "25 RT @EarthPix: Can't get enough of the fall weather + leaves 🍂 | Photo by Claudio Bezerra (@cbezerraphotos on IG) in Boardman, Ore… \n",
      "26 RT @conferencediva: #ACMWTG urban weather data collection methods from weather stations @AECOM https://t.co/QN21oIX6Sa\n",
      "27 RT @pnutbutterkaiya: He's filming for the webdrama with his silver hair 😭😭, the weather must be really cold, glad he have hotpacks with… \n",
      "28 This weather makes me sad)): why can't it rain!!!! https://t.co/fgk4DxvvDf\n",
      "29 RT @conferencediva: #ACMWTG Evaluating the impact if weather data on SMART cities @AECOM https://t.co/lPSkBO9c5Y\n",
      "30 #weather, Temp:50.4ºF; Dew:43.2ºF; Pressure:29.58in.Hg.; Wind:0/mph@158.0º; https://t.co/PC1Ytz05aO\n",
      "31 This weather is such a mess it's about as cold as my ex's heart\n",
      "32 RT @VivecaFrias: I wanna dress fall af but this Texas weather is playing me so hard.\n",
      "33 RT @AlDubBigBoyz: Pasta anyone? By the Missus @mainedcm BUT I think clam chowder is better with Paderborn's weather...\n",
      "©papixure_ne… \n",
      "34 weather-man (2.1.0): https://t.co/JxuKMfGSq7 Multiple weather providers in one spot\n",
      "35 But I can't fix him, can't make him better .. \n",
      "And I can't do nothing about his strange weather . https://t.co/8I8yDtx7GT\n",
      "36 RT @ktrevino14: I want cold weather :(\n",
      "37 RT @Tyche_Boys: [TRANS] CHEN helped grandma who was struggling in a cold weather \n",
      "\n",
      "\"The weather is cold today, plz go back home asap\" http:…\n",
      "38 @First_sIav It's going to be low scoring. You have to weather the early storm in the first inning. We have great pitchers too.\n",
      "39 RT @mayazuberikhan: this weather makes me want to relax and watch movies all night but the way my classes are set up that's not an option s…\n",
      "40 RT @EarthPix: Can't get enough of the fall weather + leaves 🍂 | Photo by Claudio Bezerra (@cbezerraphotos on IG) in Boardman, Ore… \n",
      "41 RT @dpreview: Good thing the Olympus E-M1 II is splashproof, the weather in Iceland can get real crazy. Our shooting experience:… \n",
      "42 RT @SpaceflightNow: H-2A rocket will give Japan's new weather satellite 28-minute ride to orbit at 0620 GMT (2:20a ET). Flight timeline… \n",
      "43 #hurricane Atlantic Tropical Weather Outlook https://t.co/OIFG4blug7 #sandy\n",
      "44 #TCyclone #NHC Atlantic Tropical Weather Outlook: 000 ABNT20 KNHC 020501 TWOAT TROPICAL WEATHER OUTLOOK NWS… https://t.co/xPmnV6krqu\n",
      "45 Atlantic Tropical Weather Outlook https://t.co/3TsJfSPPAJ\n",
      "46 Atlantic Tropical Weather Outlook https://t.co/FGEUJ2TC7A\n",
      "47 New NHC Product:  Atlantic Tropical Weather Outlook https://t.co/H9wxhTsTI3\n",
      "48 When am i gonna be able to to wake up to a cold morning aghh, cold weather wya😕😕\n",
      "49 Monday Night https://t.co/mgwISpKPCs #Weather #LA\n",
      "50 Atlantic Tropical Weather Outlook https://t.co/RtxDPEm6cf\n",
      "51 This weather makes no sense 💆🏽68 to 80\n",
      "52 Columbia, MD Weather :: 51F Mostly Cloudy https://t.co/EPdLwIC4Of\n",
      "53 Web Trends Video: WEATHER ON THE WEB 11.01.16 https://t.co/2RdeD2UZNG #internet #webtrends\n",
      "54 Transparent clock weather Pro v0.91.07.04 APK https://t.co/hRE8fqkF1A\n",
      "55 RT @michaelianblack: What's the weather like in Italy for the next four years?\n",
      "56 Gon pull up on Miami in January. Get to some warm weather.\n",
      "57 RT @trangnnguyenn: cannot wait for the cold chilly weather so I can drink hot cocoa w marshmallows, cuddle up in blankets, &amp; listen to thro…\n",
      "58 ITS SWEATER WEATHER ALREADY\n",
      "59 Transparent clock weather Pro v0.91.07.04 APK https://t.co/IMA9A1R1bf\n",
      "60 current weather in Tripoli: clear sky, 22°C\n",
      "100% humidity, wind 6kmh, pressure 1033mb\n",
      "61 RT @SAfmnews: The SA Weather Service says recovery from the drought will be slow, despite predictions of above-average rainfall #sabcnews\n",
      "62 Very nice weather. Almost a good morning.\n",
      "63 This cold weather makes my knee hurt :(\n",
      "64 @KingManosh I think SL should have declared before Tea keeping in view of weather conditions..Now its SL game to lose..\n",
      "65 I'm earning #mPLUSRewards in The Weather Channel. https://t.co/e8dwEtj8M0\n",
      "66 Today the weather is mad blitz\n",
      "67 RT @AlDubBigBoyz: Pasta anyone? By the Missus @mainedcm BUT I think clam chowder is better with Paderborn's weather...\n",
      "©papixure_ne… \n",
      "68 RT @p_jessyre: look at minseok trying to endure the cold weather for so long..poor baby but he's so cute😂😭 https://t.co/8KjeEQ4dnS\n",
      "69 RT @fIowerette: what a good cuddle weather oh wait nevermind\n",
      "70 I'm earning #mPLUSRewards in The Weather Channel. https://t.co/b9yylIeJ33\n",
      "71 current weather in Catania: scattered clouds, 10°C\n",
      "87% humidity, wind 4kmh, pressure 1023mb\n",
      "72 RT @michaelianblack: What's the weather like in Italy for the next four years?\n",
      "73 Perfect weather to listen to 11:11 and Rain ❤\n",
      "74 RT @Tyche_Boys: [TRANS] CHEN helped grandma who was struggling in a cold weather \n",
      "\n",
      "\"The weather is cold today, plz go back home asap\" http:…\n",
      "75 RT @AaronGritsch: Firefly Haven Park, a place where perfect weather and beautiful days could mean deadly nights...\n",
      "https://t.co/mRpCdFNBcV\n",
      "76 The weather wants you to drink glögg☕️ Its a sweede thing #cosy https://t.co/Wno0nxTW9r\n",
      "77 Chill chill Chennai... such a pleasant climate. Pulsar ride with raja songs will b d best combo in dis weather😍\n",
      "78 RT @AlDubBigBoyz: Pasta anyone? By the Missus @mainedcm BUT I think clam chowder is better with Paderborn's weather...\n",
      "©papixure_ne… \n",
      "79 @Ayyee__cheeks_ it's sounds perfect right now for this weather 😛\n",
      "80 RT @AlDubBigBoyz: Paderborn 2AM at 6deg\n",
      "Imagine Under the sheets...\n",
      "Awwww it's a perfect cuddling weather\n",
      "The perfect excuse for warm… \n",
      "81 RT @Tyche_Boys: [TRANS] CHEN helped grandma who was struggling in a cold weather \n",
      "\n",
      "\"The weather is cold today, plz go back home asap\" http:…\n",
      "82 Fun#driving#food#weather#yaariyan#gettogether#traffic :-p :-) — travelling to Dehradun : The City of Love from... https://t.co/NeY7yz2UGw\n",
      "83 RT @Tyche_Boys: [TRANS] CHEN helped grandma who was struggling in a cold weather \n",
      "\n",
      "\"The weather is cold today, plz go back home asap\" http:…\n",
      "84 RT @khaleejtimes: #UAE #weather update: Humid, misty forecast for parts of the country - https://t.co/zT8pbi9uBG https://t.co/PHjouuEnPY\n",
      "85 RT @Dianne_Meria: Cold weather &gt;&gt;&gt;&gt;&gt;&gt; hot weather any day\n",
      "86 RT @BoiGrease: Yall sound dumb talking about the weather like its good. Bitch the climate is changing we finna die\n",
      "87 RT @GirlfriendNotes: *weather drops 2 degrees* https://t.co/77lUao96at\n",
      "88 Cape Town Weather Report https://t.co/CYiB7zEknx\n",
      "89 @razesky @fadhilah_h weather resistant.. sesuai buat jalan2.. kalau fuji 35mm=50mm in full frame format\n",
      "90 RT @massrealty: How to Make Your Home Cold Weather Resistant #realestate  https://t.co/9OFQuVmXUO via @massrealty https://t.co/cT1wvjPJ6Q\n",
      "91 Huomenta :)\n",
      "\n",
      "@soalmila \n",
      "@Lehmju \n",
      "@JuhaValve \n",
      "@MarjaanaValve \n",
      "\n",
      "https://t.co/xuWcPGh7q3\n",
      "92 RT @staerlights: Perfect weather to listen to 11:11 and Rain ❤\n",
      "93 RT @ajpapa98: I love the cold weather\n",
      "94 RT @arunvijayno1: Awesome weather!! Have a great day... 😊😊 https://t.co/uzEBq5vFsG\n",
      "95 RT @emergencyglobal: THE NATIONAL WEATHER SERVICE IN SAN JUAN HAS EXTENDED THE * FLOOD ADVISORY FOR RAPID RISES FOR... CABO ROJO MUNICIP… h…\n",
      "96 Fun#driving#food#weather#yaariyan#gettogether#traffic :-p :-) — travelling to Dehradun : The City of Love from... https://t.co/m6Sm09oNLX\n",
      "97 Virgina, Durban weather data 07:30 19.2C Max 19.2C Min 18.7C  Feels Like 19.2C Wind 0.0  kph N  Pressure 1019.9 Steady, Rain today 0,3mm\n",
      "98 RT @PaulHBeckwith: Winter is coming...\n",
      "But not so much to the #Arctic...\n",
      "\n",
      "#climate #climatechange #Weather #globalwarming… \n",
      "99 Japanese H-IIA rolls out for Launch of Advanced Weather Satellite https://t.co/4fyL9wrGuZ vía @Spaceflight101\n",
      "100 Fun#driving#food#weather#yaariyan#gettogether#traffic :-p :-) — travelling to Dehradun : The City of Love from... https://t.co/3M5mc1pITE\n",
      "101 RT @Marrysolr: Hard nipple weather\n",
      "102 @rij79 What is gem out of this smoggy weather!! We are trying to grapple with it yet at Hauz Khas even its 3 days today😞.\n",
      "103 RT @pnutbutterkaiya: He's filming for the webdrama with his silver hair 😭😭, the weather must be really cold, glad he have hotpacks with… \n",
      "104 RT @NCMS_media: The expected weather from 08:00 this morning till 08:00 tomorrow, we wish you a pleasant day 2 November  2016 https://t.co/…\n",
      "105 Fun#driving#food#weather#yaariyan#gettogether#traffic :-p :-) — travelling to Dehradun : The City of Love from... https://t.co/8EwFkDWTQI\n",
      "106 WEATHER: Good Morning #Kent! Dry and bright today but feeling colder than of late. Highs of 10c… https://t.co/Q5y95UXbdQ\n",
      "107 WEATHER: Good Morning #Kent! Dry and bright today but feeling colder than of late. Highs of 10c… https://t.co/JCe5J37itP\n",
      "108 Fun#driving#food#weather#yaariyan#gettogether#traffic :-p :-) — travelling to Dehradun : The City of Love from... https://t.co/cnqEThQkSX\n",
      "109 Watch this rare 'medicane' tropical storm take shape in the Mediterranean https://t.co/ZGtiysGrYy #news #feedly\n",
      "110 Easthampton, MA Weather @ 01:30 AM, Temp 48.8°F, Hum 100pct, Baro 30.289 in., Wind 0.0 mph, from SW https://t.co/zeC7FZECpt\n",
      "111 Gr8 weather 2dei....soothin breeze\n",
      "112 RT @__justShanna: This weather is OC..and I started feeling sick this week but it keeps going away and coming back idk what's going on 💀\n",
      "113 RT @CPeppera: Sick of this hot weather fr\n",
      "114 Every Day I Check If The Weather Is Going To Be Cold The Next Day\n",
      "115 RT @sammiree_: sweater weather is the best weather\n",
      "116 #Weather Conditions at 05:30:00 | Wind: 0.0mph --- | Pressure: 992.1mb Steady | Temp: 3.9°C | Rain today: 0.0mm | Humidity: 99%\n",
      "117 Where did the cold weather go😒\n",
      "118 Wind 2.0 mph W\n",
      "Barometer 1022.49 mb Falling\n",
      "Temperature 3.1 C\n",
      "Rain today 0.0 mm\n",
      "Humidity 93% \n",
      "#Clacton #Weather\n",
      "https://t.co/duwHpqQvEf\n",
      "119 RT @manuriosfdez: my favourite kind of weather.\n",
      "120 Wind 0.0 mph ---\n",
      "Barometer 1022.9 mb,Falling slowly \n",
      "Temperature 1.2 .C \n",
      "Rain today 0.0 mm \n",
      "Humidity 29%\n",
      "@ 05:30:03.#ukweather.#weather\n",
      "121 Local Weather @ 05:30:02 02/11/2016\n",
      "Temp 1.9 ºC Current Wind/Gust 0.0 - 6.5 mph Wind:W\n",
      "Rainfall today 0.0 Baro:1022.55 &amp; Falling\n",
      "122 +1 😋 https://t.co/wTXNcSfYKR\n",
      "123 #Clacton - A few clouds,\n",
      "0 °C, Humidity100%, WindW 11km/h  #Essex #Weather\n",
      "124 Weather 11/1/2016 11:30 PM: 37.9F 62% humidity 30.157inHg Wind SSE/2.68mph Rain today None\n",
      "125 Example twitter weather data 06:30 10.3 92 pct 1.4 S\n",
      "126 adult one piece sleepers #weather tube girles https://t.co/H05nVMCJhH\n",
      "127 2.3°C Wind:0.0mph Pressure:1026.1hpa Falling slowly Rain today:0.0mm UV:0 Forecast:Fine weather. 0.0 Lux\n",
      "128 #IMReady Weather Trivia!\n",
      "https://t.co/3YoJIARWbg https://t.co/loaNl8usQx\n",
      "129 Weather Data from Hindås Sweden Time 06:30 Temp 1.8 Hum 93 pct 4.1 N\n",
      "130 Tmp 1.2°C Wind 0mph Press 1027.1mb Cloud 594 ft Rain 0.0mm Humidity 90% Fine weather #UKWeather\n",
      "131 [6:24pm] 13.2°C (H 15.8/L 8.9) Fairly fine, showers likely Hum: 84% Wind: ESE 3-&gt;19kph Baro: 1001.50hPa Rain: 0.60mm https://t.co/QIeHS3JLgl\n",
      "132 RT @pnutbutterkaiya: He's filming for the webdrama with his silver hair 😭😭, the weather must be really cold, glad he have hotpacks with… \n",
      "133 It's sweater weather and I have no sweaters 🙁\n",
      "134 I've been under the weather worst part is my little one too oh and today my husband caught it… https://t.co/a2NbpK5J8a\n",
      "135 What is wrong with this weather? My eyes are burning. So irritating. #lahore\n",
      "136 Waban weather: temp 42.2°F / 5.7°C, humidity 95%, wind calm, pressure 30.29, rain today 0.00 in. --&gt; https://t.co/nFx464qNWo\n",
      "137 Today's weather conditions for #Luxembourg:\n",
      "\n",
      "Current: 6°C, Mostly Cloudy\n",
      "Previsions: low 3°C, high 9°C\n",
      "138 72.5F (Feels: 74.3F) - Humidity: 81% - Wind: 5.5mph ESE - Gust: 5.3mph - Pressure: 30.064in #weather https://t.co/75yzNJ23Eh\n",
      "139 In London, the weather  affect me. I react strongly to light. If it is cloudy and raining, there are clouds and rain in my soul. #feelings\n",
      "140 #Trump in 2016 Temp:Crab Orchard, Ky.\":68.0°F Wind:1.3mph Pressure: 30.24hpa Rising Rain Today 0.00in.  Forecast: Fine weather\n",
      "141 RT @weathernetwork: Excited to announce the launch of our Automated Weather Chat! Click on our Direct Message icon to get your forecast… \n",
      "142 Weather at 10:30 PM Temp 59.5 Humidity 84   Wind 0.0 Direction W Barometer 30.041 Daily Rain 0.00 Month Rain 0.000 Year Rain 0.402\n",
      "143 RT @Ahmedd_haridy: Winter officially started and the weather just makes you feel really good.\n",
      "144 Current Weather from https://t.co/W26rTPqWRn 00:30 AM 52.9 F 68 pct Humidity Wind 0.0 MPH WNW% Todays Rain 0.00 IN\n",
      "145 #weather,Temp:74.5ºF;Dew:68.9ºF;Pressure:29.23in.Hg.;Wind:1/mph@163.0º;rain0.00in;https://t.co/1kGAinF5Xn\n",
      "146 Heacham Weather:Temp=5.4C &amp; is Falling.Low=5.4C &amp; high=6.9C.Pressure=1022.9mb &amp; is Falling.Wind=3.8mph WNW &amp; gust 9.8mph.Rain today=0.0mm.\n",
      "147 What's the #motorcyling weather like where you are?\n",
      "148 Temp: 30.3°C, Wind:6.1km/h, Pressure: 997.7hpa (Falling), Rain Today: 0.0mm,  Forecast: Precipitation, very unsettled #weather\n",
      "149 It's somewhere near 50 degrees in teh shade on my back porch. #DenverWeather #Weather\n",
      "150 Sunday Night https://t.co/mgwISpKPCs #Weather #LA\n",
      "151 Saturday Night https://t.co/mgwISq2r12 #Weather #LA\n",
      "152 Fun#driving#food#weather#yaariyan#gettogether#traffic :-p :-) — travelling to Dehradun : The City of Love from... https://t.co/w3B1czkzJ7\n",
      "153 Temp: 6.0°C Wind:0.0mph Pressure: 1023.47hpa Falling Rain Today 0.0mm.  Forecast: Fine weather #nlwx #ParadiseNL\n",
      "154 Chocolate Wine: Exactly What You Need to Keep Warm in the Cold Weather https://t.co/6hkEjKqI1T via @\n",
      "155 [Auburn Weather] Your Weekend Forecast For Auburn, AL https://t.co/xeHYlRWuJ5\n",
      "156 [Clovis Weather] Your Weekend Forecast For Clovis, NM https://t.co/qhlGnOgQKw\n",
      "157 1am: Mist 7.2C - Wind: NW 11km/h - Bar: 101.7 kPa ^ - Hum: 99% #Greater Sudbury #Weather\n",
      "158 I'm watching Pokémon 3x21 \"Foul Weather Friends\" https://t.co/kJbHrNgOxi #trakt\n",
      "159 Weather @ 01:30 AM: Temp 14.2oC  Hum 92pct  Avg wind speed 5.2 km/h  Wind direction W  Daily precip   0.0 mm\n",
      "160 [Dothan Weather] Your Weekend Forecast For Dothan, AL https://t.co/4jPFrQlNhP\n",
      "161 OK weather getting cold now so if you know anyone old or poorly just keep an eye on them make sure there OK 😊some wont ask for help\n",
      "162 Pi tweet: 2016/11/02 05:30:03 and https://t.co/W6TKVwSCA2 says:light rain , 5C now in Hafnarfjordur. https://t.co/Rc8sBzwwtn\n",
      "163 [Lansing Weather] Your Weekend Forecast For Lansing, MI https://t.co/VhDg1VGyXi\n",
      "164 [Danville Weather] Your Weekend Forecast For Danville, VA https://t.co/F8sr84Gda8\n",
      "165 Enschede Weather Report: Temperature: 5.31°C Humidity: 99% Pressure: Rain: false #bloomsky #weather #weer #enschede https://t.co/U6nrBCK6AA\n",
      "166 [Medford Weather[ Your Weekend Forecast For Medford, OR https://t.co/jD4IGjKDLE\n",
      "167 [Salina Weather] Your Weekend Forecast For Salina, KS https://t.co/UFH2x7nzPv\n",
      "168 [Stillwater Weather] Your Weekend Forecast For Stillwater, OK https://t.co/U3ACwJ6dJb\n",
      "169 [Pueblo Weather] Your Weekend Forecast For Pueblo, CO https://t.co/jO1uVjeMlT\n",
      "170 Northampton Weather data @ 05:30 AM Temp  3.3 Baro 1023.0 Rain   0.2  Hum 94 pct Wind 2.6 WNW\n",
      "171 [Leeds Weather] Your Weekend Forecast For Leeds, LDS, United Kingdom https://t.co/QTeAnBvkh4\n",
      "172 [Aspen Weather] Your Weekend Forecast For Aspen, CO https://t.co/fEJCMIi0ed\n",
      "173 [Pk Rapids Weather] Your Weekend Forecast For Park Rapids, MN https://t.co/dRCkVL9C24\n",
      "174 [Kenosha Weather] Your Weekend Forecast For Kenosha, WI https://t.co/LFbu8PTmmJ\n",
      "175 [N. Platte Weather] Your Weekend Forecast For North Platte, NE https://t.co/m4J6enLbWr\n",
      "176 [Des Moines Weather] Your Weekend Forecast For Des Moines, IA https://t.co/GZGwVc4U89\n",
      "177 [Cranston Weather] Your Weekend Forecast For Cranston, RI https://t.co/IT63oTtlgN\n",
      "178 Enschede Weather Report: Temperature: 5.33°C Humidity: 99% Pressure: Rain: false #bloomsky #weather #weer #enschede https://t.co/WhSV3kKnTL\n",
      "179 11/2/2016 01:30 AM: No Precip. Temp: 54 Pressure: 30.258 Winds: 0.0  Rain: 0.000 #weather #WeatherDisplay #WNCweather\n",
      "180 RT @pnutbutterkaiya: He's filming for the webdrama with his silver hair 😭😭, the weather must be really cold, glad he have hotpacks with… \n",
      "181 The weather at latitude 55 longitude 37.4, Rozhdestvenka in Russia is currently snowing. 🇷🇺❄\n",
      "182 Outage at Kuap area (Mile 10). Repair works in progress to replace faulty equipment. If weather permits, restoration by this evening.\n",
      "183 Willand @ 05:30: Temp 6.9oC, Winds SSW @ 0.0 mph, Rain  0.0 mm today, Baro 1026.8 hpa &amp; Steady #Willand #PWS #Weather #Weatherstation\n",
      "184 Melbourne, FL Weather Report: 01:30 AM Temp:75.3  Hum:74%  WDir:E  WSpd:0.0  https://t.co/tKNYpbT5Mb https://t.co/rMgjISl0Bn\n",
      "185 Aussie's Latest Weather Data 4:00 PM Temp 19.6C Humidity 46% Wind 4.0 km/h\n",
      "186 Gaaad. Nami mag tulog all day. Nami ka weather.\n",
      "187 दिवाली के पटाखों को दोष मत दीजिए। आज फॉग लाहौर में भी है। https://t.co/Pzr0bBNmJV\n",
      "188 Latest Satellite Image of Nepali Sky (NPT=UTC+5.45) [Auto tweet] #Weather: https://t.co/X1fEYdVqoo #SatImage #Nepal https://t.co/6SHshO8H5d\n",
      "189 #MiamiBeach #Weather: Temp: 78.1ºF. Hum: 71%. Wind: 1.0 mph, Gust: 5.0 mph, Rain: 0.000 in/hr; https://t.co/aqz9dhEMgt\n",
      "190 RT @AlDubBigBoyz: Paderborn 2AM at 6deg\n",
      "Imagine Under the sheets...\n",
      "Awwww it's a perfect cuddling weather\n",
      "The perfect excuse for warm… \n",
      "191 Good Morning Tampere! Cloudy today! With a high of 1℃ and a low of -2℃. #tampere #weather\n",
      "192 Can weather come to ISIS' rescue in Mosul? #Generalnews https://t.co/9LCsdr4uB3\n",
      "193 RT @Tyche_Boys: [TRANS] CHEN helped grandma who was struggling in a cold weather \n",
      "\n",
      "\"The weather is cold today, plz go back home asap\" http:…\n",
      "194 RT @AEXEQB: $AEXE WE FOUND THE REASON. INDIA NEEDS MORE COAL DUE TO BAD WEATHER AFFECTING PRODUCTION https://t.co/pidhBoUC40… \n",
      "195 Seems it the weather today in there is very cold right https://t.co/GxVBlR2yyM\n",
      "196 RT @p_jessyre: look at minseok trying to endure the cold weather for so long..poor baby but he's so cute😂😭 https://t.co/8KjeEQ4dnS\n",
      "197 I don't  understand , where is the hot weather  i was promised 😢\n",
      "198 Sana good weather bukas 🌞🌞🌞\n",
      "199 A check of radar for our region. For the latest in weather information, tune to TWCNews &amp; follow @Wx1sTriad https://t.co/2Dmu6QKCQp\n",
      "200 RT @AlDubBigBoyz: Pasta anyone? By the Missus @mainedcm BUT I think clam chowder is better with Paderborn's weather...\n",
      "©papixure_ne… \n"
     ]
    }
   ],
   "source": [
    "streamer = MyStreamer(CONSUMER_KEY, CONSUMER_SECRET,\n",
    "                    OAUTH_TOKEN, OAUTH_TOKEN_SECRET)\n",
    "streamer.statuses.filter(track='weather')"
   ]
  },
  {
   "cell_type": "markdown",
   "metadata": {},
   "source": [
    "## 10. Application - Realtime Sentiment Analysis from Twitter Data\n",
    "\n",
    "We will now apply what we learnt in a realworld application - Sentiment Analysis. Say you are a high level executive in Samsung which has been marred recently by the issue of exploding phones (yikes!). A massive rollout has been issued and the company's reputation has taken a hit. You want to analyse what people across the world are saying about your company by analyzing sentiments of tweets. We do this by a 3 tiered process - searching for relevant tweets, processing the tweets, performing analysis. The functions are defined below with explanations in inline comments:   "
   ]
  },
  {
   "cell_type": "code",
   "execution_count": 13,
   "metadata": {
    "collapsed": false
   },
   "outputs": [],
   "source": [
    "import string\n",
    "import re\n",
    "import unicodedata\n",
    "import sys\n",
    "import vaderSentiment"
   ]
  },
  {
   "cell_type": "code",
   "execution_count": 3,
   "metadata": {
    "collapsed": true
   },
   "outputs": [],
   "source": [
    "def search_tweets(keyword):\n",
    "    \"\"\" Mines Twitter for tweets with keyword provided\n",
    "    Inputs:\n",
    "        keyword: str: keyword to search for tweets\n",
    "       \n",
    "    Outputs:\n",
    "        list(str): text of all the fetched tweets\n",
    "    \"\"\"\n",
    "    twt_texts = []\n",
    "    twitter = Twython(CONSUMER_KEY, CONSUMER_SECRET, OAUTH_TOKEN, OAUTH_TOKEN_SECRET)\n",
    "    \n",
    "    #We limit to 90 tweets for simplicity. Streaming API can be used for mining more data. \n",
    "    tweet_results = twitter.search(q=keyword, count = 90, lang = 'en')\n",
    "     \n",
    "    for twt in tweet_results['statuses']:\n",
    "        twt_texts.append(twt['text'])\n",
    "        \n",
    "    return twt_texts"
   ]
  },
  {
   "cell_type": "code",
   "execution_count": 8,
   "metadata": {
    "collapsed": true
   },
   "outputs": [],
   "source": [
    "def clean_and_process(inp_tweets):\n",
    "    \"\"\" Cleans and processes the tweets\n",
    "    Inputs:\n",
    "        inp_tweets: list(str): text of all the fetched tweets\n",
    "       \n",
    "    Outputs:\n",
    "        list(str): cleaned and processed forms of the tweets\n",
    "    \"\"\"\n",
    "    processed_twts = []\n",
    "    \n",
    "    for twt in inp_tweets:\n",
    "        #Convert to lowercase\n",
    "        twt = twt.lower()\n",
    "        \n",
    "        #remove punctuations\n",
    "        regex = re.compile('[%s]' % re.escape(string.punctuation))\n",
    "        twt1 = regex.sub('', twt)\n",
    "        \n",
    "        #remove weblinks (usually start with https). Also encode each word in utf-8 format. This is because certain\n",
    "        #tweets contain characters which both python's default encoder and the sentiment analyser can't understand.\n",
    "        #if encode is not used, it will cause error in the program\n",
    "        words = twt1.split()\n",
    "        sent = ''\n",
    "        for wrd in words:\n",
    "            if 'https' not in wrd:\n",
    "                sent += wrd.encode('utf-8') + ' ' \n",
    "        \n",
    "            \n",
    "        processed_twts.append(sent)\n",
    "    return processed_twts"
   ]
  },
  {
   "cell_type": "code",
   "execution_count": 9,
   "metadata": {
    "collapsed": true
   },
   "outputs": [],
   "source": [
    "#Please make sure vaderSentiment(https://github.com/cjhutto/vaderSentiment) is installed on your system. \n",
    "#Use pip install vaderSentiment\n",
    "\n",
    "from vaderSentiment.vaderSentiment import sentiment as vaderSentiment\n",
    "\n",
    "def perform_sentiment_analysis(processed_tweet):\n",
    "    \"\"\" performs sentiment analysis\n",
    "    Inputs:\n",
    "        processed_tweets: str: single processed tweet \n",
    "       \n",
    "    Outputs:\n",
    "        dictionary of sentiment values: {'neg': val, 'neu': val, 'pos': val, 'compound': val} \n",
    "    \"\"\"\n",
    "              \n",
    "        scores = vaderSentiment(processed_tweet)\n",
    "        \n",
    "        return scores\n",
    "        "
   ]
  },
  {
   "cell_type": "code",
   "execution_count": 10,
   "metadata": {
    "collapsed": false
   },
   "outputs": [],
   "source": [
    "#Apply the above fundtions for Samsung\n",
    "\n",
    "samsung_tweets = search_tweets('Samsung')\n",
    "\n",
    "samsung_processed_tweets = clean_and_process(samsung_tweets)\n",
    "\n",
    "number_tweets = len(samsung_processed_tweets)\n",
    "for i in xrange(number_tweets):\n",
    "    print samsung_processed_tweets[i]\n",
    "    s = perform_sentiment_analysis(samsung_processed_tweets[i])\n",
    "    print s\n",
    "    \n",
    "#Important Note:\n",
    "\n",
    "#Though the code is perfect, the output won't appear here in the notebook, but in the terminal. \n",
    "#This is an issue with Jupyter Notebook. When .encode('utf-8') is used, this output and all future outputs of cells get \n",
    "#transferred to the terminal. To get back to the priginal state, you need to restart the software. \n",
    "#Hence, here I provide screenshots of the output on my terminal:"
   ]
  },
  {
   "cell_type": "markdown",
   "metadata": {},
   "source": [
    "### Output:\n",
    "\n",
    "<img src=\"samsung1.jpg\",width=800, height=800>\n",
    "\n",
    "\n",
    "\n",
    "<img src=\"samsung2.jpg\",width=800, height=800>"
   ]
  },
  {
   "cell_type": "markdown",
   "metadata": {},
   "source": [
    "## 11. Summary and Resources\n",
    "\n",
    "The basics of Twitter Data Mining and Account Access were covered in this tutorial along with an example application. If you are interested in exploring further check out the following links:\n",
    "\n",
    "1. Twython Developer interface: https://twython.readthedocs.io/en/latest/api.html#\n",
    "2. Twitter Developer Docs: https://dev.twitter.com/docs\n",
    "3. Twitter Streaming API: https://dev.twitter.com/streaming/public\n",
    "4. OAuth on Twitter: https://dev.twitter.com/oauth\n",
    "5. Sentiment Analysis with Vader: https://github.com/cjhutto/vaderSentiment"
   ]
  }
 ],
 "metadata": {
  "anaconda-cloud": {},
  "kernelspec": {
   "display_name": "Python [Root]",
   "language": "python",
   "name": "Python [Root]"
  },
  "language_info": {
   "codemirror_mode": {
    "name": "ipython",
    "version": 2
   },
   "file_extension": ".py",
   "mimetype": "text/x-python",
   "name": "python",
   "nbconvert_exporter": "python",
   "pygments_lexer": "ipython2",
   "version": "2.7.12"
  }
 },
 "nbformat": 4,
 "nbformat_minor": 0
}
