{
 "cells": [
  {
   "cell_type": "markdown",
   "metadata": {},
   "source": [
    "## Introduction\n",
    "\n",
    "This tutorial will introduce you to Monte Carlo simulations. Broadly, a Monte Carlo simulation is a probabilistic approximation technique that uses repeated random sampling to estimate a numerical solution.\n",
    "\n",
    "### Motivation\n",
    "\n",
    "There are many different data science problems where directly computing a solution is difficult or impossible. Monte Carlo simulations are useful in this setting because they allow us to reduce the complicated problem to a simple expected value problem through the use of simulated random quantities. Monte Carlo simulations have a broad range of applications and are used in many fields, including finance, computational biology, artificial intelligence, and sensitivity analysis.\n",
    "\n",
    "### Tutorial Content\n",
    "\n",
    "We will cover the following topics in this tutorial:\n",
    "- [Mathematical Formulation](#Mathematical-Formulation)\n",
    "- [Libraries](#Libraries)\n",
    "- [Example: Estimating Pi](#Example:-Estimating-$\\pi$)\n",
    "- [Application: Finance](#Application:-Finance)\n",
    "- [Summary](#Summary)\n",
    "- [Further Resources](#Further-Resources)"
   ]
  },
  {
   "cell_type": "markdown",
   "metadata": {
    "collapsed": true
   },
   "source": [
    "## Mathematical Formulation\n",
    "\n",
    "In mathematical terms, the goal of a Monte Carlo simulation is to approximate the expected value of a function applied to a random variable. We usually apply this technique to functions where precisely determing the expectation is impossible or computationally expensive. Instead of directly calculating the expectation, we can approximate it using repeated random sampling from the distribution.\n",
    "\n",
    "Formally, let $D$ be a probability distribution, and let $X \\sim D$. Let $x_1, x_2, \\dots, x_n$ be randomly sampled points from $D$, and let $f$ be a real-valued function. Then\n",
    "\n",
    "$$ E[f(X)] = \\lim\\limits_{n\\to \\infty} \\frac{1}{n}\\sum_{i=1}^{n}f(x_i) $$\n",
    "\n",
    "Intuitively, we are estimating the solution to an intractable problem by performing many trial runs. We then use the Law of Large Numbers to say that if we perform enough trial runs, then the actual solution will be approximately equal to the average of all the solutions from the trial runs."
   ]
  },
  {
   "cell_type": "markdown",
   "metadata": {},
   "source": [
    "## Libraries\n",
    "\n",
    "We load the libraries we will use in the following examples, including a pseudorandom number generator and plotting functionality."
   ]
  },
  {
   "cell_type": "code",
   "execution_count": 1,
   "metadata": {
    "collapsed": true
   },
   "outputs": [],
   "source": [
    "%matplotlib inline\n",
    "\n",
    "import random\n",
    "import math\n",
    "import matplotlib.pyplot as plt\n",
    "import numpy as np"
   ]
  },
  {
   "cell_type": "markdown",
   "metadata": {},
   "source": [
    "We initialize the pseudorandom generator with a seed value of $0$."
   ]
  },
  {
   "cell_type": "code",
   "execution_count": 2,
   "metadata": {
    "collapsed": true
   },
   "outputs": [],
   "source": [
    "random.seed(0)"
   ]
  },
  {
   "cell_type": "markdown",
   "metadata": {},
   "source": [
    "## Example: Estimating $\\pi$\n",
    "\n",
    "A classic example of a Monte Carlo simulation involves randomly sampling points from a square in order to numerically estimate $\\pi$. \n",
    "\n",
    "### Mathematical Setup\n",
    "\n",
    "Consider a circle inscribed in a square, as pictured below.\n",
    "\n",
    "<img src=\"MonteCarloIntegrationCircle.png\" width=\"400\" height=\"400\"/>\n",
    "\n",
    "If we let $r$ be the radius of the circle, then the length of each side of the square is $2r$. We know that the area of a circle is given by \n",
    "\n",
    "$$A_{c} = \\pi r^2$$\n",
    "\n",
    "and the area of a square is \n",
    "\n",
    "$$A_{s} = (2r)^2 = 4r^2$$\n",
    "\n",
    "Then the ratio of the area of the circle to the area of the square is \n",
    "\n",
    "$$\\frac{A_c}{A_s} = \\frac{\\pi r^2}{4r^2} = \\frac{\\pi}{4}$$\n",
    "\n",
    "Observe that if we uniformly generate points within the square, then $\\frac{\\pi}{4}$ of these points should also lie within the circle in expectation. This observation gives us an idea for a method to numerically estimate the value of $\\pi$. Let $n$ be the total number of data points randomly sampled from the square, and let $m$ be the number of these data points that also lie within the circle. Then \n",
    "\n",
    "$$\\lim\\limits_{n\\to \\infty} \\frac{m}{n} = \\frac{\\pi}{4}$$\n",
    "\n",
    "Solving this equation for $\\pi$ yields \n",
    "\n",
    "$$\\pi \\approx \\frac{4m}{n}$$ \n",
    "\n",
    "for sufficiently large $n$.\n",
    "\n",
    "In the following code, we will use the square centered at the origin with side length $2$ and the unit circle. Note that we can check if each randomly sampled point $(x,y)$ lies within the circle by using the distance formula. Specifically, $(x,y)$ also lies within the circle if \n",
    "\n",
    "$$x^2 + y^2 \\leq r^2 = 1$$"
   ]
  },
  {
   "cell_type": "markdown",
   "metadata": {},
   "source": [
    "### Helper Functions"
   ]
  },
  {
   "cell_type": "code",
   "execution_count": 3,
   "metadata": {
    "collapsed": false
   },
   "outputs": [],
   "source": [
    "# Returns a uniformly random point within the square [-1,1] x [-1,1]\n",
    "def generateRandomPoint():\n",
    "    x = random.uniform(-1,1)\n",
    "    y = random.uniform(-1,1)\n",
    "    return (x,y)\n",
    "\n",
    "# Returns True if the given point lies inside the unit circle and False otherwise\n",
    "def inCircle((x,y)):\n",
    "    return x**2 + y**2 <= 1\n",
    "\n",
    "# Uses the above described procedure to estimate pi, where n is the number of iterations\n",
    "def estimatePi(n):\n",
    "    m = 0\n",
    "    for i in range(n):\n",
    "        point = generateRandomPoint()\n",
    "        if inCircle(point):\n",
    "            m += 1\n",
    "    return 4.0*m/n"
   ]
  },
  {
   "cell_type": "markdown",
   "metadata": {},
   "source": [
    "### Running the Simulation\n",
    "\n",
    "The following code uses our `estimatePi` function to estimate the value of $\\pi$ for $n = 10^1, 10^2,\\dots, 10^6$. Note that as $n$ increases, our approximation converges to the actual value of $\\pi$."
   ]
  },
  {
   "cell_type": "code",
   "execution_count": 4,
   "metadata": {
    "collapsed": false,
    "scrolled": true
   },
   "outputs": [
    {
     "name": "stdout",
     "output_type": "stream",
     "text": [
      "n = 10:\n",
      "pi approximately equals 3.2\n",
      "n = 100:\n",
      "pi approximately equals 3.28\n",
      "n = 1000:\n",
      "pi approximately equals 3.02\n",
      "n = 10000:\n",
      "pi approximately equals 3.1448\n",
      "n = 100000:\n",
      "pi approximately equals 3.1306\n",
      "n = 1000000:\n",
      "pi approximately equals 3.141768\n"
     ]
    }
   ],
   "source": [
    "max_exp = 6\n",
    "for i in range(max_exp):\n",
    "    n = 10**(i+1)\n",
    "    pi = estimatePi(n)\n",
    "    print \"n = \" + str(n) + \":\"\n",
    "    print \"pi approximately equals \" + str(pi)"
   ]
  },
  {
   "cell_type": "markdown",
   "metadata": {},
   "source": [
    "## Application: Finance\n",
    "\n",
    "An extremely important problem in finance is pricing derivative securities whose future payoff is unknown at the current time. We can use Monte Carlo simulations to estimate the price using the discounted expected value of the future payoff.\n",
    "\n",
    "### Preliminaries\n",
    "\n",
    "In this tutorial, we will focus on a specific type of derivative security, called a **call option**. A call option gives the buyer the right, but not the obligation, to buy a specified quantity of the underlying instrument from the seller at a certain time (the expiration time) at a certain price (the strike price). If we let $K$ denote the strike price and let $S_T$ be the price of the underlying at time $T$, then the payoff of the call option at expiration is given by\n",
    "\n",
    "$$ \\text{max}(S_T - K, 0) $$\n",
    "\n",
    "We will also need the concept of a **discount factor**. Formally, the discount factor $d(t)$ is the amount of money we need to invest at time $0$ in order to have $\\$1$ at time $t$. We can also think of it as the present value of receiving $\\$1$ at some time $t$ in the future.\n",
    "\n",
    "The current price of a call option should be the discounted expected value of its future payoff. Let $P$ be the current price of the option, and let $T$ be the expiration date. We will randomly sample $n$ future stock prices $s_1, s_2, \\dots, s_n$. Then we can estimate the current price of the option using\n",
    "\n",
    "$$P = d(T) \\frac{1}{n}\\sum_{i=1}^{n} \\text{max}(s_i - K, 0) $$\n",
    "\n",
    "In order to use this formula, we need a model for the distribution of the stock price (since this is the distribution we will be sampling from). Here, we will model stock prices using a **geometric Brownian motion**. This is the most common method for modeling stock prices and is also used in the famous Black-Scholes model. When using a geometric Brownian motion, the stock price evolves according to\n",
    "\n",
    "$$S_t = S_0 \\text{exp}((\\mu - \\frac{\\sigma^2}{2})t + \\sigma W_t) $$\n",
    "\n",
    "where $S_0$ is in the initial stock price, $\\mu$ is the percentage drift, $\\sigma$ is the percentage volatility, and $W_t$ is a **Wiener process** (meaning that $W_t - W_0 \\sim N(0, t)$). Intuitively, this means that the stock price is lognormally distributed, i.e. the percent returns on the stock price follow a normal distribution.\n",
    "\n",
    "More information about geometric Brownian motions and Wiener processes can be found here: \n",
    "- https://en.wikipedia.org/wiki/Geometric_Brownian_motion \n",
    "- https://en.wikipedia.org/wiki/Wiener_process\n",
    "\n",
    "\n",
    "### Implementation\n",
    "\n",
    "The following functions implement this Monte Carlo simulation."
   ]
  },
  {
   "cell_type": "code",
   "execution_count": 5,
   "metadata": {
    "collapsed": true
   },
   "outputs": [],
   "source": [
    "# Parameters: current stock price S_0, volatility v, risk-free interest rate r, time T\n",
    "# Assumes a lognormal distribution for the stock price at time T\n",
    "# Returns a stock price randomly sampled from this distribution\n",
    "def generateStockPrice(S_0, v, r, T):\n",
    "    Z = random.gauss(0, math.sqrt(T)) # takes mean and std dev\n",
    "    return S_0 * math.exp((r - 0.5*v**2)*T + v*Z)#*math.sqrt(T))\n",
    "\n",
    "# Given the stock price at time T and the strike price K, returns the payoff of a call at time T\n",
    "def callPayoff(S_T, K):\n",
    "    return max(S_T - K, 0)\n",
    "\n",
    "# Given the risk-free interest rate r, returns the discount factor for time T\n",
    "def discountFactor(r, T):\n",
    "    return math.exp(-r*T)\n",
    "\n",
    "# Run the simulation to price the call, using n stock prices randomly sampled from the stock price distribution\n",
    "def priceCall(S_0, v, r, T, K, n):\n",
    "    total = 0\n",
    "    for i in range(n):\n",
    "        S_T = generateStockPrice(S_0, v, r, T)\n",
    "        payoff = callPayoff(S_T, K)\n",
    "        total += payoff\n",
    "    EV = total/n\n",
    "    p = discountFactor(r,T) * EV # discounted expected value\n",
    "    return p"
   ]
  },
  {
   "cell_type": "markdown",
   "metadata": {},
   "source": [
    "### The Distributions of the Future Stock Price and the Call Option Payoff\n",
    "\n",
    "To get an understanding of the relevant distributions, the following code generates $n = 1000$ stock prices at time $ T = 1$. It then displays these in a histogram, and also plots the histogram of the corresponding call option payoffs."
   ]
  },
  {
   "cell_type": "code",
   "execution_count": 7,
   "metadata": {
    "collapsed": false
   },
   "outputs": [
    {
     "data": {
      "image/png": "[encoded data removed]",
      "text/plain": [
       "<matplotlib.figure.Figure at 0x10a3d9fd0>"
      ]
     },
     "metadata": {},
     "output_type": "display_data"
    },
    {
     "data": {
      "image/png": "[encoded data removed]",
      "text/plain": [
       "<matplotlib.figure.Figure at 0x10a38bad0>"
      ]
     },
     "metadata": {},
     "output_type": "display_data"
    }
   ],
   "source": [
    "n = 1000\n",
    "\n",
    "# Sample parameters\n",
    "S_0 = 100 # stock currently trading at $100\n",
    "v = 0.25  # volatility of 25%\n",
    "r = 0.01  # risk-free interest rate of 1%\n",
    "T = 1     # time to expiration is 1 year\n",
    "K = 100   # 'at the money' call (since K = S_0)\n",
    "\n",
    "S = []\n",
    "P = []\n",
    "for i in range(n):\n",
    "    S_T = generateStockPrice(S_0, v, r, T)\n",
    "    payoff = callPayoff(S_T, K)\n",
    "    S.append(S_T)\n",
    "    P.append(payoff)\n",
    "    \n",
    "plt.hist(S)\n",
    "plt.title(\"Histogram of Stock Prices at Time T\")\n",
    "plt.xlabel(\"Stock Price (dollars)\")\n",
    "plt.ylabel(\"Frequency\")\n",
    "plt.show()\n",
    "\n",
    "p = plt.hist(P)\n",
    "plt.title(\"Histogram of Call Payoffs at Time T\")\n",
    "plt.xlabel(\"Call Payoff (dollars)\")\n",
    "plt.ylabel(\"Frequency\")\n",
    "plt.show()"
   ]
  },
  {
   "cell_type": "markdown",
   "metadata": {},
   "source": [
    "These histograms match what we should expect. The distribution of stock price is approximately lognormal (the percent returns are normally distributed). We see that the distribution is skewed to the right with the mean greater than the median. This reflects our general belief that stock prices tend to increase over time.\n",
    "\n",
    "The distribution of the at the money call option payoff is quite right skewed. This reflects that call options have an asymmetric payout strucutre: the upside is large but the loss is limited (since the payoff can never fall below zero, even if the stock price plummets)."
   ]
  },
  {
   "cell_type": "markdown",
   "metadata": {},
   "source": [
    "### Example: Running the Simulation to Estimate the Price of a Call Option on Apple\n",
    "\n",
    "We now use our code to estimate the price of April 115-strike call on AAPL. Using data as of October 15, 2016, we set\n",
    "\n",
    "$$ S_0 = 117.63 $$\n",
    "$$ \\sigma = 23\\% $$\n",
    "$$ r = 0.46\\% $$\n",
    "$$ T = 0.5 $$\n",
    "$$ K = 115 $$\n",
    "\n",
    "We then use our `priceCall` function for $n = 10^1, 10^2,\\dots, 10^6$. Note that the current call price is simply the discounted expected value of the payoffs at time $T$."
   ]
  },
  {
   "cell_type": "code",
   "execution_count": 8,
   "metadata": {
    "collapsed": false
   },
   "outputs": [
    {
     "name": "stdout",
     "output_type": "stream",
     "text": [
      "n = 10:\n",
      "The price is approximately 17.9422592345\n",
      "n = 100:\n",
      "The price is approximately 9.98089769917\n",
      "n = 1000:\n",
      "The price is approximately 9.20931708888\n",
      "n = 10000:\n",
      "The price is approximately 8.97168521333\n",
      "n = 100000:\n",
      "The price is approximately 9.08347855596\n",
      "n = 1000000:\n",
      "The price is approximately 9.07861512303\n"
     ]
    }
   ],
   "source": [
    "# Parameters for the April 115 call on AAPL as of 10/15/2016\n",
    "S_0 = 117.63\n",
    "v = 0.23\n",
    "r = 0.0046\n",
    "T = 0.5\n",
    "K = 115\n",
    "\n",
    "max_exp = 6\n",
    "for i in range(max_exp):\n",
    "    n = 10**(i+1)\n",
    "    p = priceCall(S_0, v, r, T, K, n)\n",
    "    print \"n = \" + str(n) + \":\"\n",
    "    print \"The price is approximately \" + str(p)"
   ]
  },
  {
   "cell_type": "markdown",
   "metadata": {},
   "source": [
    "At the time I wrote this simulation, the April 115 call on AAPL was trading in the market at $\\$9.05$. Using a simple model, our estimate comes fairly close to the market price."
   ]
  },
  {
   "cell_type": "markdown",
   "metadata": {},
   "source": [
    "### Example: Asian Option\n",
    "\n",
    "We can also use a similar approach to price more complicated financial securities. For example, an **average-rate Asian call option** pays out based on the average stock price (as opposed to the final stock price). We replace the final stock price with the average stock price in the payoff formula, so that the payoff for this option is given by\n",
    "\n",
    "$$ \\text{max}(\\text{avg}\\{S_i : 0 \\leq i \\leq T\\} - K, 0) $$\n",
    "\n",
    "where $\\text{avg}\\{S_i : 0 \\leq i \\leq T\\}$ denotes the average stock price between time $0$ and time $T$.\n",
    "\n",
    "In order to price this option, we will need to keep track of the path that the stock price takes between time $0$ and time $T$, in addition to the final stock price at time $T$. The following function accomplishes this by modeling and recording the stock price move for every day between time $0$ and the finishing time $T$. It returns a list of stock prices over time (the length of this list is the number of days until time $T$)."
   ]
  },
  {
   "cell_type": "code",
   "execution_count": 9,
   "metadata": {
    "collapsed": false
   },
   "outputs": [],
   "source": [
    "# Returns a list of stock prices. First element is the stock price on day 1,\n",
    "# second element is the stock price on day 2, ... , last element is the stock\n",
    "# price on the day T*365 (since T is in years)\n",
    "def generateStockPath(S_0, v, r, T):\n",
    "    numDays = T*365\n",
    "    S_yesterday = S_0\n",
    "    S = []\n",
    "    for i in range(int(numDays)):\n",
    "        S_today = generateStockPrice(S_yesterday, v, r, 1.0/365)\n",
    "        S_yesterday = S_today\n",
    "        S.append(S_today)\n",
    "    return S"
   ]
  },
  {
   "cell_type": "markdown",
   "metadata": {},
   "source": [
    "We can now modify our `priceCall` function from before to reflect this modified payout structure. We will pass the mean stock price into the `callPayoff` function (instead of the final stock price)."
   ]
  },
  {
   "cell_type": "code",
   "execution_count": 10,
   "metadata": {
    "collapsed": true
   },
   "outputs": [],
   "source": [
    "def priceAsianCall(S_0, v, r, T, K, n):\n",
    "    total = 0\n",
    "    for i in range(n):\n",
    "        P = generateStockPath(S_0, v, r, T)\n",
    "        A = np.mean(P) # average stock price between time 0 and time T\n",
    "        payoff = callPayoff(A, K) # use average stock price, instead of final stock price here\n",
    "        total += payoff\n",
    "    EV = total/n\n",
    "    p = discountFactor(r,T) * EV\n",
    "    return p"
   ]
  },
  {
   "cell_type": "markdown",
   "metadata": {},
   "source": [
    "We now use our function to estimate the price of an Asian call option with the following parameters."
   ]
  },
  {
   "cell_type": "code",
   "execution_count": 11,
   "metadata": {
    "collapsed": false,
    "scrolled": true
   },
   "outputs": [
    {
     "name": "stdout",
     "output_type": "stream",
     "text": [
      "n = 10:\n",
      "The price is approximately 5.16870907085\n",
      "n = 100:\n",
      "The price is approximately 5.3121425976\n",
      "n = 1000:\n",
      "The price is approximately 5.34926506541\n",
      "n = 10000:\n",
      "The price is approximately 5.17987758042\n",
      "n = 100000:\n",
      "The price is approximately 5.2644458611\n",
      "n = 1000000:\n",
      "The price is approximately 5.25891721865\n"
     ]
    }
   ],
   "source": [
    "S_0 = 25\n",
    "v = 0.35\n",
    "r = 0.055\n",
    "T = 0.5\n",
    "K = 20\n",
    "\n",
    "max_exp = 6\n",
    "for i in range(max_exp):\n",
    "    n = 10**(i+1)\n",
    "    p = priceAsianCall(S_0, v, r, T, K, n)\n",
    "    print \"n = \" + str(n) + \":\"\n",
    "    print \"The price is approximately \" + str(p)"
   ]
  },
  {
   "cell_type": "markdown",
   "metadata": {},
   "source": [
    "We notice that it takes more iterations for this approximation to converge. This makes sense, as there is more variance in simulating the entire price path of the stock than just the final price."
   ]
  },
  {
   "cell_type": "markdown",
   "metadata": {},
   "source": [
    "## Summary\n",
    "\n",
    "A Monte Carlo simulation is a powerful computational tool that can reduce complicated problems into a far simpler expected value problem based on random sampling from a distribution. We did a classic example of a Monte Carlo simulation to numerically estimate the value of $\\pi$. We also saw how we could apply this technique to the financial problem of pricing various derivative securities.\n",
    "\n",
    "Monte Carlo simulations have many more applications than those detailed here, but the basic idea behind them is the same: use random sampling to find a good estimate to an otherwise complex problem."
   ]
  },
  {
   "cell_type": "markdown",
   "metadata": {},
   "source": [
    "## Further Resources\n",
    "\n",
    "Here are some general Monte Carlo simulation resources:\n",
    "- General information: https://en.wikipedia.org/wiki/Monte_Carlo_method\n",
    "- Rolling dice example: http://www.goldsim.com/Web/Introduction/Probabilistic/MonteCarlo/\n",
    "\n",
    "For more information on the financial mathematics and stock price modeling techniques used in the finance section, see:\n",
    "- Call option: https://en.wikipedia.org/wiki/Call_option\n",
    "- Discount factor: https://en.wikipedia.org/wiki/Discounting\n",
    "- Geometric Brownian motion: https://en.wikipedia.org/wiki/Geometric_Brownian_motion \n",
    "- Wiener process: https://en.wikipedia.org/wiki/Wiener_process\n",
    "- Asian option: https://en.wikipedia.org/wiki/Asian_option\n",
    "\n",
    "And here is a good paper on the use of Monte Carlo simulations in pricing more complicated financial securities:\n",
    "- http://www.fintools.com/wp-content/uploads/2012/10/Pizzi__Montgomery_Pricing_Options_Via_Monte_Carlo_Simulation_1998.pdf"
   ]
  }
 ],
 "metadata": {
  "anaconda-cloud": {},
  "kernelspec": {
   "display_name": "Python [Root]",
   "language": "python",
   "name": "Python [Root]"
  },
  "language_info": {
   "codemirror_mode": {
    "name": "ipython",
    "version": 2
   },
   "file_extension": ".py",
   "mimetype": "text/x-python",
   "name": "python",
   "nbconvert_exporter": "python",
   "pygments_lexer": "ipython2",
   "version": "2.7.12"
  }
 },
 "nbformat": 4,
 "nbformat_minor": 0
}
