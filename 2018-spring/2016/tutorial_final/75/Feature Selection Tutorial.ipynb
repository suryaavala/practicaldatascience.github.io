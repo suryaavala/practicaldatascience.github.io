{
 "cells": [
  {
   "cell_type": "markdown",
   "metadata": {},
   "source": [
    "# Feature Selection Tutorial"
   ]
  },
  {
   "cell_type": "code",
   "execution_count": 1,
   "metadata": {
    "collapsed": false
   },
   "outputs": [],
   "source": [
    "import matplotlib\n",
    "import matplotlib.pyplot as plt \n",
    "\n",
    "import numpy as np\n",
    "\n",
    "from sklearn.feature_selection import SelectFromModel\n",
    "from sklearn.linear_model import Lasso, LinearRegression, lasso_path, lasso_stability_path, lars_path\n",
    "\n",
    "import warnings\n",
    "\n",
    "from scipy import linalg\n",
    "\n",
    "from sklearn.linear_model import (RandomizedLasso, lasso_stability_path,\n",
    "                                  LassoLarsCV)\n",
    "from sklearn.feature_selection import f_regression\n",
    "from sklearn.preprocessing import StandardScaler, scale\n",
    "from sklearn.metrics import auc, precision_recall_curve, mean_squared_error\n",
    "from sklearn.ensemble import ExtraTreesRegressor\n",
    "from sklearn.utils.extmath import pinvh\n",
    "from sklearn.exceptions import ConvergenceWarning\n",
    "from sklearn.svm import SVR\n",
    "\n",
    "import pandas as pd\n",
    "%matplotlib inline"
   ]
  },
  {
   "cell_type": "markdown",
   "metadata": {},
   "source": [
    "## 1. Introduction to Feature Selection\n",
    "\n",
    "Feature selection is the process of selecting a subset of relevant features (variables, predictors) for use in model construction. It is used for three reasons:\n",
    "\n",
    "* simplification of models to make them easier to interpret by researchers/users,\n",
    "* shorter training times,\n",
    "* enhanced generalization by reducing overfitting\n",
    "\n",
    "The central premise when using a feature selection technique is that the data contains many features that are either redundant or irrelevant, and can thus be removed without incurring much loss of information.\n",
    "\n",
    "There are three main categories of feature selection algorithms: wrappers, filters and embedded methods. [1] This tutorial will mainly focuses on one of the well-known embedded methods Lasso and its variants.\n"
   ]
  },
  {
   "cell_type": "markdown",
   "metadata": {},
   "source": [
    "## 2. Introduction to Lasso\n",
    "\n",
    "### 2.1 What's Lasso\n",
    "Lasso is one of the embedded methods for feature selection. Embedded methods are a group of techniques which perform feature selection as part of the model construction process.\n",
    "\n",
    "Lasso penalizes the regressin coefficients in a linear model with an L1 penalty. Lasso can shrinking many of coefficients to zero and leads to sparse results. From this point of view, any features which have non-zero regression coefficients are 'selected' by the Lasso.\n",
    "\n",
    "\n",
    "The loss function of a linear model with L1 penalty will have the following form:\n",
    "\n",
    "$\\frac{1}{2} \\sum_{n=1}^{N}\\{t_n - w^T\\phi(x_n)\\}^2 + \\frac{\\alpha}{2} \\sum_{j=1}^{M} |w_j|$\n",
    "\n",
    "The first part is the square loss function. The second part is the L1 penalty $\\frac{\\alpha}{2} \\sum_{j=1}^{M} |w_j|$, in which M is the total number of features, $w$ is the coefficient vector, $\\alpha$ controls how much L1 penalty the contributes to the overall loss and how many features will be selected. L1 penalty can also be used to improve the generalization of the model because it penalty the model complexity by $\\sum_{j=1}^{M} |w_j|$ in the loss function."
   ]
  },
  {
   "cell_type": "markdown",
   "metadata": {},
   "source": [
    "### 2.2 Why Lasso Can be Used for Feature Selection\n",
    "Firstly, if all the features are in the same scale. The coefficients of a linear model can represents how important the corresponding feature is. \n",
    "\n",
    "In **Exp. 1**, I simulate a regression problem with three features (in the same scale). The regression target y is a linear combination of the features plus some guassion noise.\n",
    "\n",
    "$y = 0 * x_0 + 1 * x_1 + 2 * x_2 + noise$ \n",
    "\n",
    "So from the setup of experiment 1, we can see that the importance of different features is\n",
    "\n",
    "$x_2 > x_1 > x_0$"
   ]
  },
  {
   "cell_type": "code",
   "execution_count": 2,
   "metadata": {
    "collapsed": true
   },
   "outputs": [],
   "source": [
    "# set the random seed\n",
    "rng = np.random.RandomState(0)"
   ]
  },
  {
   "cell_type": "markdown",
   "metadata": {},
   "source": [
    "**Exp. 1**"
   ]
  },
  {
   "cell_type": "code",
   "execution_count": 3,
   "metadata": {
    "collapsed": false
   },
   "outputs": [
    {
     "name": "stdout",
     "output_type": "stream",
     "text": [
      "Exp. 1, coefficient of linear regression\n",
      "[-0.01119616  0.99446444  1.99559463]\n",
      "Exp. 1, coefficient of lasso\n",
      "[-0.          0.98258754  1.98367942]\n"
     ]
    },
    {
     "name": "stderr",
     "output_type": "stream",
     "text": [
      "/Users/jinyi/anaconda/lib/python2.7/site-packages/scipy/linalg/basic.py:884: RuntimeWarning: internal gelsd driver lwork query error, required iwork dimension not returned. This is likely the result of LAPACK bug 0038, fixed in LAPACK 3.2.2 (released July 21, 2010). Falling back to 'gelss' driver.\n",
      "  warnings.warn(mesg, RuntimeWarning)\n"
     ]
    }
   ],
   "source": [
    "# Exp 1\n",
    "n_samples = 10000\n",
    "n_features = 3\n",
    "noise_level = 0.2\n",
    "\n",
    "X = rng.rand(n_samples, n_features)\n",
    "coef = np.zeros(n_features)\n",
    "coef[0] = 0.0\n",
    "coef[1] = 1.0\n",
    "coef[2] = 2.0\n",
    "\n",
    "y = np.dot(X, coef) + noise_level * rng.normal(size=n_samples)\n",
    "\n",
    "lr = LinearRegression()\n",
    "lr.fit(X, y)\n",
    "print 'Exp. 1, coefficient of linear regression\\n%s' % str(lr.coef_)\n",
    "\n",
    "lr = Lasso(alpha=0.001)\n",
    "lr.fit(X, y)\n",
    "print 'Exp. 1, coefficient of lasso\\n%s' % str(lr.coef_)"
   ]
  },
  {
   "cell_type": "markdown",
   "metadata": {},
   "source": [
    "As we can see from **Exp. 1**, we can easily find the feature importances from the coefficient of the trained model.\n",
    "And an important characteristic of the L1 penalty is that it will leads to sparse models. Sparse models means the weight of unimportant/irrelevent features will shrink to 0. \n",
    "\n",
    "In **Exp. 1**, the first feature $x_0$ is actually have nothing to do with our target. Its coefficient in the linear regression model is a very small value (still have some small contribution to the target, not exactly irrelevant). However, Lasso will directly shrink its coefficient to 0, which indicates that it's actually an irrelevant feature.\n"
   ]
  },
  {
   "cell_type": "markdown",
   "metadata": {},
   "source": [
    "Here is another example shows how lasso performs when there are lots of irrelevant features. \n",
    "**Exp. 2** is also a regression problem with 50 features. However only 5 of them are relevant to the target ($x_0 - x_4$)."
   ]
  },
  {
   "cell_type": "markdown",
   "metadata": {},
   "source": [
    "**Exp. 2**"
   ]
  },
  {
   "cell_type": "markdown",
   "metadata": {},
   "source": [
    "Some help functions:\n",
    "* plot_sel_path: plot how will the coefficients for relevant and irrelevant features change with different $\\alpha$ setting"
   ]
  },
  {
   "cell_type": "code",
   "execution_count": 4,
   "metadata": {
    "collapsed": true
   },
   "outputs": [],
   "source": [
    "def plot_sel_path(X, y, coef, method='Lasso'):\n",
    "    \"\"\"Plot feature selection result\n",
    "    \"\"\"\n",
    "    if method == 'Lasso':\n",
    "#         alpha_grid, _, scores_path = lars_path(X, y, method='lasso', eps=0.05)\n",
    "        alpha_grid, scores_path, _ = lasso_path(X, y, eps=0.001)\n",
    "    elif method == 'Stability':\n",
    "        alpha_grid, scores_path = lasso_stability_path(X, y, scaling=0.3, eps=0.001)\n",
    "        \n",
    "    plt.figure()\n",
    "    hg = plt.plot(alpha_grid[1:] , scores_path[coef != 0].T[1:], 'r')\n",
    "    hb = plt.plot(alpha_grid[1:] , scores_path[coef == 0].T[1:], 'k')\n",
    "    ymin, ymax = plt.ylim()\n",
    "    plt.xlabel(r'$(\\alpha / \\alpha_{max})$')\n",
    "    plt.ylabel('Score for each feature')\n",
    "    plt.axis('tight')\n",
    "    plt.legend((hg[0], hb[0]), ('relevant features', 'irrelevant features'),\n",
    "               loc='best')"
   ]
  },
  {
   "cell_type": "code",
   "execution_count": 5,
   "metadata": {
    "collapsed": false
   },
   "outputs": [
    {
     "name": "stdout",
     "output_type": "stream",
     "text": [
      "Exp. 2, coefficients setting for the relevant features\n",
      " [ 0.5754498   0.93597176  0.66245048  0.32697755  0.4974818 ]\n"
     ]
    },
    {
     "data": {
      "image/png": "[encoded data removed]",
      "text/plain": [
       "<matplotlib.figure.Figure at 0x1148ad310>"
      ]
     },
     "metadata": {},
     "output_type": "display_data"
    }
   ],
   "source": [
    "# Exp. 2\n",
    "n_samples = 10000\n",
    "n_features = 50\n",
    "n_relevant_features = 5\n",
    "noise_level = 0.2\n",
    "\n",
    "X = rng.rand(n_samples, n_features)\n",
    "coef = np.zeros(n_features)\n",
    "coef[:n_relevant_features] = rng.rand(n_relevant_features)\n",
    "y = np.dot(X, coef)\n",
    "y += noise_level * rng.normal(size=n_samples)\n",
    "\n",
    "print 'Exp. 2, coefficients setting for the relevant features\\n %s' % str(coef[:n_relevant_features])\n",
    "plot_sel_path(X, y, coef, \"Lasso\")"
   ]
  },
  {
   "cell_type": "markdown",
   "metadata": {},
   "source": [
    "As we can see from the results, although lots of irrelevant features are given to the model. Lasso will shrink their coefficients to 0 very quickly."
   ]
  },
  {
   "cell_type": "markdown",
   "metadata": {},
   "source": [
    "### 2.4 Drawbacks of Lasso\n",
    "\n",
    "There are some well-known limitations of Lasso, including\n",
    "1. Lasso will tend to select an individual variable out of a group of highly correlated features,\n",
    "2. even when the correlation between features is not too high, the conditions under which L1-penalized methods consistently select “good” features can be restrictive in general.\n"
   ]
  },
  {
   "cell_type": "markdown",
   "metadata": {},
   "source": [
    "## 3. Variants of Lasso\n",
    "\n",
    "There are lots of variants of Lasso that try to overcome some of the drawbacks.\n",
    "\n",
    "One of the interesting work is Stability Selection. Sometimes, it's also called Randomized Lasso. It works by subsampling the training data and computing a Lasso estimate where the penalty of a random subset of coefficients has been scaled. Bolasso (Bootstrapped Lasso) is very similar, which using bootstraping to conduct random sampling.\n",
    "\n",
    "By performing this double randomization several times, the method assigns high scores to features that are repeatedly selected across randomizations. In short, features selected more often are considered good features.\n"
   ]
  },
  {
   "cell_type": "markdown",
   "metadata": {},
   "source": [
    "In **Exp. 3**, we generate some coherent features for a regression problem. Since there are some corelation between the features. Lasso will fail to select all relevant features."
   ]
  },
  {
   "cell_type": "markdown",
   "metadata": {},
   "source": [
    "**Exp. 3**"
   ]
  },
  {
   "cell_type": "markdown",
   "metadata": {},
   "source": [
    "Some help function\n",
    "* gen_simulation_dataset: generate some coherent random features for a regression problem"
   ]
  },
  {
   "cell_type": "code",
   "execution_count": 6,
   "metadata": {
    "collapsed": true
   },
   "outputs": [],
   "source": [
    "def gen_simulation_dataset(n_features=50, n_relevant_features=3, \n",
    "                           noise_level=0.2, coef_min=0.2, n_samples=10000,\n",
    "                          rng=np.random.RandomState(0), conditioning=1):\n",
    "\n",
    "    block_size = n_relevant_features\n",
    "\n",
    "    # The coefficients of our model\n",
    "    coef = np.zeros(n_features)\n",
    "    coef[:n_relevant_features] = coef_min + rng.rand(n_relevant_features)\n",
    "\n",
    "    # The correlation of our design: variables correlated by blocs of 3\n",
    "    corr = np.zeros((n_features, n_features))\n",
    "    for i in range(0, n_features, block_size):\n",
    "        corr[i:i + block_size, i:i + block_size] = 1 - conditioning\n",
    "    corr.flat[::n_features + 1] = 1\n",
    "    corr = linalg.cholesky(corr)\n",
    "\n",
    "    # \n",
    "    X = rng.normal(size=(n_samples, n_features))\n",
    "    X = np.dot(X, corr)\n",
    "    # Keep [Wainwright2006] (26c) constant\n",
    "    X[:n_relevant_features] /= np.abs(\n",
    "        linalg.svdvals(X[:n_relevant_features])).max()\n",
    "    X = StandardScaler().fit_transform(X.copy())\n",
    "\n",
    "    # The output variable\n",
    "    y = np.dot(X, coef)\n",
    "    y /= np.std(y)\n",
    "    # We scale the added noise as a function of the average correlation\n",
    "    # between the design and the output variable\n",
    "    y += noise_level * rng.normal(size=n_samples)    \n",
    "    \n",
    "    return X, y, coef"
   ]
  },
  {
   "cell_type": "code",
   "execution_count": 7,
   "metadata": {
    "collapsed": false
   },
   "outputs": [
    {
     "name": "stdout",
     "output_type": "stream",
     "text": [
      "Exp. 3, coefficients of the relevant features\n",
      "[ 0.42871572  0.31671741  0.69989626]\n"
     ]
    },
    {
     "data": {
      "image/png": "[encoded data removed]",
      "text/plain": [
       "<matplotlib.figure.Figure at 0x1148a0210>"
      ]
     },
     "metadata": {},
     "output_type": "display_data"
    },
    {
     "data": {
      "image/png": "[encoded data removed]",
      "text/plain": [
       "<matplotlib.figure.Figure at 0x11670a610>"
      ]
     },
     "metadata": {},
     "output_type": "display_data"
    }
   ],
   "source": [
    "# Exp 3 \n",
    "X, y, coef = gen_simulation_dataset(n_samples=500, rng=rng, conditioning=1e-4)\n",
    "print 'Exp. 3, coefficients of the relevant features\\n%s' % str(coef[coef!=0])\n",
    "\n",
    "plot_sel_path(X, y, coef, 'Lasso')\n",
    "\n",
    "plot_sel_path(X, y, coef, 'Stability')"
   ]
  },
  {
   "cell_type": "markdown",
   "metadata": {},
   "source": [
    "As we can see from the results, Lasso will fail to select all the relevant features if there are some corelation between the features. However, Randomized Lasso or Stability Selection will overcome such drawback and select all relevant features."
   ]
  },
  {
   "cell_type": "markdown",
   "metadata": {},
   "source": [
    "## 4. Real Dataset\n",
    "\n",
    "In this section, we will conduct some experiments to see how Lasso and Randomized Lasso performed on a real dataset. In **Exp. 4**, I am using the same dataset in the contest for assignment 4. So you can download the dataset from the course website [link](http://www.datasciencecourse.org/hw/4/data.tar.gz). I use the tiidf as the features and them conduct feature selection on top of it using Lasso.\n"
   ]
  },
  {
   "cell_type": "markdown",
   "metadata": {},
   "source": [
    "**Exp. 4**"
   ]
  },
  {
   "cell_type": "code",
   "execution_count": 8,
   "metadata": {
    "collapsed": false
   },
   "outputs": [],
   "source": [
    "def read(idx):\n",
    "    f_X = 'data/X'+str(idx)+'.txt'\n",
    "    f_Y = 'data/Y'+str(idx)+'.txt'\n",
    "\n",
    "    f = open(f_X, 'r')\n",
    "    x = []\n",
    "    for l in f:\n",
    "        x.append(l)\n",
    "    f.close()\n",
    "    f = open(f_Y, 'r')\n",
    "    y = []\n",
    "    for l in f:\n",
    "        y.append(int(l))\n",
    "    f.close()\n",
    "    return x, y\n",
    "\n",
    "x_all = []\n",
    "y_all = []\n",
    "for i in range(1, 9):\n",
    "    x, y = read(i)\n",
    "    x_all.extend(x)\n",
    "    y_all.extend(y)\n",
    "\n",
    "x_true = []\n",
    "x_false = []\n",
    "for i in range(len(y_all)):\n",
    "    if y_all[i] == 1:\n",
    "        x_true.append(x_all[i])\n",
    "    else:\n",
    "        x_false.append(x_all[i])"
   ]
  },
  {
   "cell_type": "code",
   "execution_count": 9,
   "metadata": {
    "collapsed": false
   },
   "outputs": [
    {
     "name": "stdout",
     "output_type": "stream",
     "text": [
      "80000 80000 36326 43674\n"
     ]
    }
   ],
   "source": [
    "print len(x_all), len(y_all), len(x_true), len(x_false)"
   ]
  },
  {
   "cell_type": "markdown",
   "metadata": {},
   "source": [
    "After loading the whole dataset, we transfer it into tfidf matrix."
   ]
  },
  {
   "cell_type": "code",
   "execution_count": 10,
   "metadata": {
    "collapsed": false
   },
   "outputs": [
    {
     "name": "stdout",
     "output_type": "stream",
     "text": [
      "(80000, 1245607)\n"
     ]
    }
   ],
   "source": [
    "from natural_language_processing import tfidf\n",
    "tfidf_all, words_all = tfidf(x_all)\n",
    "print tfidf_all.shape"
   ]
  },
  {
   "cell_type": "markdown",
   "metadata": {},
   "source": [
    "So there are about 1245607 features in total."
   ]
  },
  {
   "cell_type": "code",
   "execution_count": 11,
   "metadata": {
    "collapsed": false
   },
   "outputs": [
    {
     "name": "stdout",
     "output_type": "stream",
     "text": [
      "(80000, 1307)\n",
      "Number of feature selected\n",
      "1307\n",
      "After feature selection\n",
      "0.0002\n"
     ]
    }
   ],
   "source": [
    "from sklearn.feature_selection import SelectFromModel\n",
    "from sklearn.svm import LinearSVC\n",
    "\n",
    "X = tfidf_all\n",
    "y = y_all\n",
    "\n",
    "lsvc = LinearSVC(C=0.02, penalty=\"l1\", dual=False).fit(X, y)\n",
    "model = SelectFromModel(lsvc, prefit=True, threshold='mean')\n",
    "X_new = model.transform(X)\n",
    "print X_new.shape\n",
    "\n",
    "mask = model.get_support()\n",
    "print 'Number of feature selected'\n",
    "print np.sum(mask)\n",
    "\n",
    "print 'After feature selection'\n",
    "lsvc.fit(X_new, y)\n",
    "y_pred = lsvc.predict(X_new)\n",
    "print np.sum(y_pred != y) / float(len(y))"
   ]
  },
  {
   "cell_type": "markdown",
   "metadata": {},
   "source": [
    "As we can see from the results, although with the all 1245607 features, we may achieve 0 error rate on the training set. However, with the help of Lasso, we can select and use only 1307 features and still achieve a very low error rate. \n",
    "\n",
    "Follow up can be found at [link](https://github.com/JinyiLu/15-688-Tutorial/blob/master/Feature%20Selection%20Tutorial.ipynb)"
   ]
  },
  {
   "cell_type": "markdown",
   "metadata": {},
   "source": [
    "## 5. References\n",
    "1. Guyon, Isabelle, and André Elisseeff. \"An introduction to variable and feature selection.\" Journal of machine learning research 3.Mar (2003): 1157-1182. [link](http://www.jmlr.org/papers/volume3/guyon03a/guyon03a.pdf)\n",
    "* Feature selection - Wikipedia. [link](https://en.wikipedia.org/wiki/Feature_selection)\n",
    "\n",
    "* Sklearn [link](http://scikit-learn.org/stable/modules/feature_selection.html#randomized-l1)\n",
    "* F. Bach, Model-Consistent Sparse Estimation through the Bootstrap. [link]( https://hal.inria.fr/hal-00354771/)\n",
    "* N. Meinshausen, P. Buhlmann, Stability selection, Journal of the Royal Statistical Society, 72 (2010)[link](http://arxiv.org/pdf/0809.2932.pdf)\n",
    "* http://stats.stackexchange.com/questions/45643/why-l1-norm-for-sparse-models\n",
    "* UCI Machine Learning Repository [link](http://archive.ics.uci.edu/ml/index.html)\n",
    "* http://blog.datadive.net/selecting-good-features-part-ii-linear-models-and-regularization/\n",
    "* http://scikit-learn.org/stable/auto_examples/linear_model/plot_sparse_recovery.html#sphx-glr-auto-examples-linear-model-plot-sparse-recovery-py\n",
    "* http://statistics.berkeley.edu/sites/default/files/tech-reports/709.pdf\n",
    "* https://en.wikipedia.org/wiki/Covariance"
   ]
  }
 ],
 "metadata": {
  "kernelspec": {
   "display_name": "Python 2",
   "language": "python",
   "name": "python2"
  },
  "language_info": {
   "codemirror_mode": {
    "name": "ipython",
    "version": 2
   },
   "file_extension": ".py",
   "mimetype": "text/x-python",
   "name": "python",
   "nbconvert_exporter": "python",
   "pygments_lexer": "ipython2",
   "version": "2.7.12"
  }
 },
 "nbformat": 4,
 "nbformat_minor": 0
}
