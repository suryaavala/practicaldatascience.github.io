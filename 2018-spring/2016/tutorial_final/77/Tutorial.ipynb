{
 "cells": [
  {
   "cell_type": "markdown",
   "metadata": {
    "nbpresent": {
     "id": "3e3607a1-8304-43af-9a97-4edb5db87c66"
    }
   },
   "source": [
    "# Topic Detection with Latent Dirichlet Allocation"
   ]
  },
  {
   "cell_type": "markdown",
   "metadata": {
    "nbpresent": {
     "id": "f43a9588-31ea-41d3-9d91-cd36c3ba641e"
    }
   },
   "source": [
    "## Introduction\n",
    "This tutorial explores the topic of latent Dirichlet Allocation (LDA), and how it can be used for topic detection. Topic modeling is an area of natural language processing to discover structure about text in docuemnts. Latent Dirichlet Allocation is one algorithm to achieve this, which is a type of generative statistical model. The name itself explains how it works - it allocates topics over a Dirichlet distribution with latent or hidden probabilities on unobserved groups. To simplify greatly the basic concept of LDA a corpus is made of documents that are a random mix of K topics, and each topic is a distribution of terms from the corpus. Each term is thought to belong to each topic with some probability, and topics are then inferred from the terms that comprise it with the greatest probability.\n",
    "\n",
    "The benefit to using latent dirichlet you don't have to know the topics beforehand and can discover themes within a text. That being said, you do have to choose the value k of topics and have to infer the actual topic. LDA is still a useful tool for not only text but can also be used for images and music. For purpose of this tutorial we will focus on text. An application of LDA is to understand what a collection of documents is about. The collection of documents could be anything from new stories to emails to social media posts, where you want to discover what people are talking about. This could be useful to show a trending topics feature for instance or learning topics to apply tags to new documents. We will apply LDA to some real examples, but first understand how the topics are generated and in order to interpret correctly. Then we will look at some different tactics improve topic dectection."
   ]
  },
  {
   "cell_type": "markdown",
   "metadata": {
    "nbpresent": {
     "id": "9abd50ff-7ccb-466c-9ee4-bc6e0cc0b880"
    }
   },
   "source": [
    "## Tutorial content\n",
    "\n",
    "This tutorial will show you how to implement LDA and how to do some basic topic detection. We will first look at the math understand how the algorithm works. We will also look at existing python libraries, specifically GENSIM to leverage different options for parameters. We will also make use of nltk librabry for natural language processing and string, numpy, matplotlib for processing data. Additionally a script I wrote for another homework will be used to get data from yelp.\n",
    "\n",
    "We'll be using data from 2 sources to see how topic detection may differ including web scraping from yelp reviews:\n",
    "\n",
    "    https://www.yelp.com/biz/primanti-bros-pittsburgh-15?osq=Primanti+Bros.\n",
    "    https://www.yelp.com/search?find_desc=Bottega+Louie&find_loc=Los+Angeles,+CA\n",
    "\n",
    "The following topics are covered in this tutorial:\n",
    "    Installing the libraries    \n",
    "    Understanding the model\n",
    "    Loading data\n",
    "    Corpus pre-processing\n",
    "    Using LDA for topic detection on loaded data\n",
    "    Text representation choices to improve topic detection\n",
    "    Choosing K number of topics\n",
    "    Putting it together: Yelp review topic detection example\n"
   ]
  },
  {
   "cell_type": "markdown",
   "metadata": {
    "nbpresent": {
     "id": "405f0c8b-ab7c-445a-becd-20e73f6f6e1b"
    }
   },
   "source": [
    "## Installing the libraries\n",
    "\n",
    "The libraries in the following code are needed for the tutorial. For packages not already installed please run with the following command where package name would replace gensim. For NLTK ensure when downloading to choose maxent_treebank_pos_\n",
    "\n",
    "$ pip install gemsim --upgrade\n",
    "\n",
    "You will also need to install pattern-2.6 for gensim though not explicitly imported\n",
    "$ pip install pattern"
   ]
  },
  {
   "cell_type": "code",
   "execution_count": 271,
   "metadata": {
    "collapsed": false,
    "nbpresent": {
     "id": "87cf7208-38cd-4f35-b452-68e5f005b7bf"
    }
   },
   "outputs": [],
   "source": [
    "import string\n",
    "import nltk\n",
    "import gensim\n",
    "import numpy as np\n",
    "from collections import Counter\n",
    "#to plot\n",
    "import matplotlib\n",
    "import matplotlib.pyplot as plt\n",
    "import scraper"
   ]
  },
  {
   "cell_type": "markdown",
   "metadata": {},
   "source": [
    "## Understanding the model\n",
    "\n",
    "The math behind LDA may seem a bit convoluted at first glance, but the basic components are Bayesian statistics with a dirichlet distribution. It was mentioned that LDA treats the documents as a mix of topics, which are a mix of words. The assumptions are that words are indepedent i.e. bag of words. Each document can then be thought of as randomly sampled from a distribution of topics, and each topic is a random sample from a distribution of words. While documents are not actually constructed this way, this allows unknown priors to be estimated with bayesian statistics. Since the documents are a distribution of a distribution, dirichlet is used for the prior. Dirichlet is a multivariate distribution that makes it suitable for LDA. You can find more information on the distribution on wikipedia https://en.wikipedia.org/wiki/Dirichlet_distribution. The prior cannot be calculated directly but estimated by maximizing the log likelihood. There are several choices how to estimate this including bayesian variance, Gibb's sampling, and Newton’s method. The references include further reading regarding different choices for estimation."
   ]
  },
  {
   "cell_type": "markdown",
   "metadata": {},
   "source": [
    "## Loading Data\n",
    "\n",
    "To begin exploring LDA we will explore some restaurant reviews from Yelp in the Pittsburgh area to compare the topics output using LDA. The below function will take scrape all reviews from yelp for a given url."
   ]
  },
  {
   "cell_type": "code",
   "execution_count": 269,
   "metadata": {
    "collapsed": false,
    "nbpresent": {
     "id": "dce470df-2e83-46c9-8159-2da848a1ed42"
    }
   },
   "outputs": [],
   "source": [
    "\"\"\"\n",
    "Returns data and header for a given url for yelp\n",
    "\"\"\"\n",
    "def load_yelp(url, header = True):\n",
    "    #using scraper function from homework 2, get yelp reviews\n",
    "    data = scraper.extract_reviews(url)\n",
    "    header = data[0].keys()\n",
    "    reviews = [[str(d[h]) for h in header] for d in data] \n",
    "    if header:\n",
    "        return (reviews, header)\n",
    "    else:\n",
    "        return reviews\n",
    "    \n",
    "#load file\n",
    "r1, h1 = load_yelp('https://www.yelp.com/biz/primanti-bros-pittsburgh-15?osq=Primanti+Bros.')"
   ]
  },
  {
   "cell_type": "markdown",
   "metadata": {
    "nbpresent": {
     "id": "a695f72d-e21e-4a36-9183-b190bfb69773"
    }
   },
   "source": [
    "## Corpus pre-processing\n",
    "\n",
    "As with any natural language processing problem, we need to consider document representation. LDA does not consider the orientation of the words, and so is treated as a bag of words problem. We will use the standard nltk package and tokenize on white space to break the stream of text. Later on we will look at some other strategies that may yield better topics, but for now capitalization and punctuation will need to be handled as described in the functin's comments.\n",
    "\n",
    "Additionally the Porter Stemmer was chosen for stemming as it is one that is widely used. Personally I have learned about this in another text analtyics course and wanted to see how the results faired. \n",
    "Since the tokens will be attributed to a topic, removing stop words that don’t offer a lot of context is imperative as well."
   ]
  },
  {
   "cell_type": "code",
   "execution_count": 275,
   "metadata": {
    "collapsed": false,
    "nbpresent": {
     "id": "cca07ccb-6aa1-4169-97b0-3bacf4291448"
    }
   },
   "outputs": [],
   "source": [
    "\"\"\"\n",
    "Function to parse text into list of tokens and do some pre processing for bag of words representation\n",
    "\"\"\"\n",
    "def pre_process(text):\n",
    "    punc = string.punctuation\n",
    "    text = text.lower().decode('ascii','ignore')\n",
    "    \n",
    "    #handle apostraphe by removing\n",
    "    text = text.replace('\\'s', '')\n",
    "    text = text.replace('\\'', '')\n",
    "    \n",
    "    #handle all other punctuation with space\n",
    "    for p in punc:\n",
    "        text = text.replace(p, ' ')\n",
    "    \n",
    "    #tokenize the text\n",
    "    tokentext = nltk.word_tokenize(text)\n",
    "    \n",
    "    return [tokentext]\n",
    "\n",
    "\"\"\"\n",
    "Header and text_column should be provided to know which column has the data to process\n",
    "\"\"\"\n",
    "def process_all(text, header, text_column):\n",
    "    ti = header.index(text_column)\n",
    "    textlist = []\n",
    "    for tr in text:\n",
    "        textlist.extend(pre_process(tr[ti]))\n",
    "    return textlist    "
   ]
  },
  {
   "cell_type": "code",
   "execution_count": 276,
   "metadata": {
    "collapsed": false,
    "nbpresent": {
     "id": "5b3620f3-7c33-474b-9ff0-f390a52eb280"
    }
   },
   "outputs": [],
   "source": [
    "#extract review text, process and concatenate into 1 list\n",
    "#get column of text from header and parse that item from the list of list\n",
    "#apply text processing to all documents\n",
    "reviewtext = process_all(r1, h1, 'text')"
   ]
  },
  {
   "cell_type": "code",
   "execution_count": 277,
   "metadata": {
    "collapsed": false,
    "nbpresent": {
     "id": "42b952e4-647e-4674-8c99-2eef93487239"
    }
   },
   "outputs": [
    {
     "name": "stdout",
     "output_type": "stream",
     "text": [
      "[[u'on', u'my', u'way', u'back', u'from', u'dropping', u'my', u'daughter', u'off', u'in', u'ann', u'arbor', u'i', u'decided', u'to', u'make', u'my', u'solo', u'return', u'home', u's', u'bit', u'of', u'a', u'foodie', u'side', u'trip', u'i', u'diverted', u'from', u'my', u'planned', u'return', u'route', u'to', u'experience', u'the', u'primanti', u'bros', u'sandwiches', u'thanks', u'to', u'gps', u'i', u'was', u'able', u'to', u'find', u'this', u'fabled', u'restaurant', u'in', u'pittsburgh', u'strip', u'district', u'after', u'parking', u'my', u'car', u'for', u'6', u'i', u'headed', u'towards', u'primanti', u'bros', u'there', u'was', u'a', u'long', u'line', u'but', u'thankfully', u'two', u'large', u'parties', u'ahead', u'of', u'me', u'since', u'i', u'was', u'solo', u'i', u'got', u'in', u'quickly', u'and', u'was', u'seated', u'at', u'the', u'bar', u'tv', u'everywhere', u'showing', u'college', u'football', u'very', u'lively', u'bar', u'scene', u'i', u'perished', u'the', u'menu', u'and', u'decided', u'on', u'the', u'pastrami', u'sandwich', u'which', u'comes', u'with', u'tomato', u'coleslaw', u'and', u'french', u'fries', u'i', u'was', u'so', u'excited', u'to', u'be', u'there', u'that', u'i', u'mistakenly', u'ordered', u'more', u'fries', u'the', u'sandwich', u'served', u'on', u'white', u'bread', u'arrived', u'after', u'the', u'fries', u'which', u'were', u'outstanding', u'i', u'bit', u'into', u'the', u'sandwich', u'and', u'i', u'was', u'in', u'love', u'i', u'normally', u'hate', u'coleslaw', u'as', u'it', u'is', u'creamy', u'but', u'this', u'vinegary', u'slaw', u'was', u'the', u'perfect', u'complement', u'to', u'the', u'pastrami', u'and', u'fries', u'every', u'bite', u'was', u'wonderful', u'the', u'layers', u'of', u'flavor', u'in', u'this', u'sandwich', u'were', u'singing', u'to', u'me', u'i', u'wish', u'i', u'could', u'have', u'brought', u'them', u'home', u'i', u'devoured', u'it', u'and', u'then', u'settled', u'up', u'to', u'make', u'room', u'for', u'more', u'patrons', u'picked', u'up', u'a', u't', u'shirt', u'on', u'the', u'way', u'out', u'so', u'if', u'you', u'are', u'in', u'pittsburgh', u'this', u'is', u'a', u'must', u'visit', u'well', u'worth', u'the', u'detour'], [u'ordered', u'3', u'sandwiches', u'to', u'go', u'grilled', u'baloney', u'no', u'cheese', u'egg', u'cheese', u'egg', u'cheese', u'and', u'bacon', u'came', u'to', u'20', u'00', u'and', u'change', u'and', u'truthfully', u'the', u'potatoes', u'were', u'not', u'quite', u'done', u'probably', u'needed', u'1', u'minute', u'more', u'in', u'fryer', u'never', u'had', u'an', u'a', u'la', u'dente', u'fry', u'before', u'had', u'hard', u'time', u'finding', u'bacon', u'maybe', u'there', u'was', u'1', u'5', u'strips', u'for', u'almost', u'7', u'00', u'a', u'sandwich', u'i', u'think', u'its', u'time', u'i', u'said', u'goodbye', u'to', u'one', u'of', u'my', u'favorite', u'places', u'too', u'expensive', u'and', u'the', u'value', u'and', u'quality', u'is', u'just', u'not', u'there', u'anymore', u'i', u'know', u'there', u'are', u'new', u'owners', u'but', u'that', u'way', u'too', u'much', u'for', u'3', u'simple', u'sandwiches', u'plus', u'the', u'lack', u'of', u'bacon', u'on', u'mine', u'it', u'a', u'shame']]\n"
     ]
    }
   ],
   "source": [
    "#confirm data looks ok and is a list of lists\n",
    "print reviewtext[:2]"
   ]
  },
  {
   "cell_type": "markdown",
   "metadata": {
    "collapsed": false,
    "nbpresent": {
     "id": "656dee07-e06d-4799-9eb2-8dd557a233dd"
    }
   },
   "source": [
    "##  Using LDA for topic detection\n",
    "\n",
    "For implementing LDA there are a few packages in python with 2 of the more popular being gensim and scikit. They differ in how they estimate the parameters, with gensim using Newton-Raphson and scikit using variational Bayesian inference. Both packages allow you to pass in options, train the model and estimate on a new corpus. Gensim has some additional helper functions for preparing the data and returning topics so I have decided to utilize that as well gain familiarity with a new package.\n",
    "\n",
    "To use LDA in gensim  the minimum fields you need to supply are the corpus of all documents. A dictionary of all unique terms mapped to integers is also useful for interpreting output. The first step is to convert the corpus to a dictionary suitable to gensim of unique tokens. LDA model requires a sparse matrix of term frequencies though, and so using the doc2bow command of the gensim dictionary easily takes care of that. We will also set aside some of the documents to see how the trained LDA model infers the topic distribution on unseen text."
   ]
  },
  {
   "cell_type": "code",
   "execution_count": 278,
   "metadata": {
    "collapsed": false,
    "nbpresent": {
     "id": "d221db69-6890-4ab0-af29-042ebffa3aaa"
    }
   },
   "outputs": [
    {
     "name": "stdout",
     "output_type": "stream",
     "text": [
      "Dictionary(5560 unique tokens: [u'yellow', u'four', u'gag', u'hanging', u'fingernails']...)\n",
      "[[(0, 1), (1, 1), (2, 1), (3, 1), (4, 1), (5, 1), (6, 1), (7, 8), (8, 1), (9, 1), (10, 1), (11, 1), (12, 1), (13, 2), (14, 2), (15, 1), (16, 1), (17, 1), (18, 1), (19, 2), (20, 1), (21, 1), (22, 2), (23, 1), (24, 1), (25, 1), (26, 1), (27, 1), (28, 1), (29, 2), (30, 1), (31, 1), (32, 2), (33, 1), (34, 1), (35, 1), (36, 1), (37, 2), (38, 2), (39, 1), (40, 2), (41, 1), (42, 1), (43, 1), (44, 1), (45, 2), (46, 1), (47, 1), (48, 1), (49, 4), (50, 1), (51, 1), (52, 1), (53, 3), (54, 1), (55, 1), (56, 1), (57, 1), (58, 1), (59, 1), (60, 1), (61, 1), (62, 1), (63, 1), (64, 1), (65, 1), (66, 1), (67, 1), (68, 1), (69, 1), (70, 1), (71, 1), (72, 2), (73, 1), (74, 1), (75, 1), (76, 2), (77, 1), (78, 1), (79, 1), (80, 1), (81, 1), (82, 1), (83, 2), (84, 1), (85, 1), (86, 8), (87, 1), (88, 1), (89, 4), (90, 1), (91, 2), (92, 2), (93, 1), (94, 1), (95, 1), (96, 1), (97, 2), (98, 1), (99, 4), (100, 1), (101, 4), (102, 2), (103, 1), (104, 1), (105, 2), (106, 2), (107, 5), (108, 1), (109, 6), (110, 1), (111, 2), (112, 1), (113, 1), (114, 2), (115, 2), (116, 2), (117, 1), (118, 1), (119, 1), (120, 6), (121, 1), (122, 1), (123, 1), (124, 1), (125, 1), (126, 2), (127, 1), (128, 1), (129, 2), (130, 1), (131, 4), (132, 1), (133, 1), (134, 1), (135, 1), (136, 15), (137, 1), (138, 2), (139, 12), (140, 1)]]\n"
     ]
    }
   ],
   "source": [
    "#put in function to use later\n",
    "def build_corpus(data_text):\n",
    "    #split documents in corpus:\n",
    "    train_text = data_text[:int(len(data_text)*0.7)]\n",
    "    test_text = data_text[int(len(data_text)*0.7):]\n",
    "\n",
    "    #get dictionary of all terms\n",
    "    dictionary = gensim.corpora.Dictionary(train_text)\n",
    "\n",
    "    #create sparse matrix from corpus\n",
    "    corpus = [dictionary.doc2bow(text) for text in train_text]\n",
    "    return (dictionary, corpus, train_text, test_text)\n",
    "\n",
    "dictionary, corpus, train_text, test_text = build_corpus(reviewtext)\n",
    "#print to inspect the dictionary and number of unique terms created\n",
    "print(dictionary)\n",
    "#print first document to inspect the sparse matrix construction\n",
    "print corpus[:1]"
   ]
  },
  {
   "cell_type": "markdown",
   "metadata": {
    "nbpresent": {
     "id": "d04f8bb8-9d8f-4f5e-b0d7-d512153c8d1b"
    }
   },
   "source": [
    "We can see the dictionary has the terms and the corpus is a sparse matrix. We also have the split data to examine the output of the model in the next step.\n",
    "\n",
    "The actual LDA call itself is pretty straightforward and has a number of parameters available. If a corpus like the one created in the previous step is provided, the model will train. Alternatively you can the update function to train on new documents. The default k for topics is 100, but we will limit to 10 in this case since there is a smaller number of reviews and make easier manual inspection. The dictionary of unique terms will be passed in for id2word, otherwise it will show the index for the topic instead of the term when printing topics. \n",
    "\n",
    "Other notable parameters include the number of iterations for maximizing the log likelihood, where the default is 50. Piors for alpha and beta can be provided, but by default is learned from the data. There is a minimum probability can also be set which may be useful for improving top terms in a topic.\n",
    "\n",
    "Once the model is trained by creating LdaModel, there are a number of functions to display the topics and top terms by specifing the desired number of both. You can also provide a document or term to see what the likely topics are."
   ]
  },
  {
   "cell_type": "code",
   "execution_count": 279,
   "metadata": {
    "collapsed": false,
    "nbpresent": {
     "id": "f6e150a5-18d2-4233-83bd-a117829463ca"
    }
   },
   "outputs": [
    {
     "name": "stdout",
     "output_type": "stream",
     "text": [
      "LdaModel(num_terms=5560, num_topics=10, decay=0.5, chunksize=2000)\n",
      "\n",
      "topics:\n",
      "[(0, u'0.041*\"and\" + 0.028*\"the\" + 0.021*\"i\" + 0.016*\"to\" + 0.015*\"a\" + 0.011*\"it\" + 0.011*\"of\" + 0.011*\"for\" + 0.010*\"was\" + 0.008*\"on\"'), (1, u'0.053*\"the\" + 0.030*\"and\" + 0.026*\"to\" + 0.022*\"i\" + 0.020*\"a\" + 0.017*\"it\" + 0.013*\"of\" + 0.012*\"is\" + 0.010*\"was\" + 0.010*\"sandwich\"'), (2, u'0.037*\"the\" + 0.031*\"a\" + 0.029*\"and\" + 0.023*\"of\" + 0.021*\"it\" + 0.020*\"i\" + 0.018*\"is\" + 0.018*\"to\" + 0.016*\"was\" + 0.012*\"that\"'), (3, u'0.063*\"the\" + 0.034*\"a\" + 0.029*\"and\" + 0.029*\"i\" + 0.022*\"was\" + 0.021*\"to\" + 0.016*\"it\" + 0.016*\"in\" + 0.014*\"of\" + 0.014*\"is\"'), (4, u'0.055*\"the\" + 0.024*\"and\" + 0.020*\"to\" + 0.019*\"a\" + 0.019*\"i\" + 0.017*\"it\" + 0.016*\"is\" + 0.011*\"of\" + 0.010*\"sandwich\" + 0.010*\"in\"'), (5, u'0.048*\"the\" + 0.028*\"and\" + 0.027*\"a\" + 0.027*\"to\" + 0.027*\"i\" + 0.019*\"it\" + 0.019*\"you\" + 0.017*\"of\" + 0.012*\"is\" + 0.009*\"on\"'), (6, u'0.028*\"the\" + 0.021*\"and\" + 0.012*\"to\" + 0.011*\"i\" + 0.009*\"a\" + 0.009*\"it\" + 0.008*\"is\" + 0.007*\"that\" + 0.007*\"on\" + 0.006*\"you\"'), (7, u'0.054*\"the\" + 0.032*\"and\" + 0.028*\"i\" + 0.025*\"a\" + 0.024*\"it\" + 0.023*\"to\" + 0.016*\"of\" + 0.016*\"was\" + 0.013*\"in\" + 0.013*\"sandwich\"'), (8, u'0.055*\"the\" + 0.032*\"i\" + 0.029*\"and\" + 0.026*\"to\" + 0.023*\"was\" + 0.017*\"a\" + 0.014*\"sandwich\" + 0.014*\"of\" + 0.012*\"it\" + 0.011*\"is\"'), (9, u'0.033*\"the\" + 0.023*\"and\" + 0.023*\"i\" + 0.018*\"to\" + 0.013*\"of\" + 0.012*\"it\" + 0.010*\"a\" + 0.008*\"was\" + 0.007*\"on\" + 0.007*\"my\"')]\n",
      "\n",
      "term - most likely topics\n",
      "[(1, 0.010077153358106668), (4, 0.010320782420822638), (7, 0.013167128637638099), (8, 0.013990016801581497)]\n",
      "\n",
      "topic - most likely terms\n",
      "[(u'and', 0.04096377728485228), (u'the', 0.02803111498894845), (u'i', 0.020734770877912718), (u'to', 0.016076008504308598), (u'a', 0.015095489431389436), (u'it', 0.011103964285664689), (u'of', 0.010734948832114176), (u'for', 0.010729389958274096), (u'was', 0.0096655589384055125), (u'on', 0.0081238915434914804)]\n",
      "\n",
      "document - topic mixture\n",
      "[(7, 0.99621768016855083)]\n",
      "\n",
      "unseen document - topic mixture\n",
      "[(3, 0.074626696553282315), (7, 0.91181107628715397)]\n",
      "[(3, 0.93569889223333991)]\n"
     ]
    }
   ],
   "source": [
    "#create wrap in function to reuse\n",
    "def model_lda(c, d, t):\n",
    "    #train model\n",
    "    lda = gensim.models.ldamodel.LdaModel(c, id2word=d, num_topics=t)\n",
    "    return lda\n",
    "    \n",
    "#functions to examine output of model\n",
    "def show_lda(lda, dictionary, train, test_text):\n",
    "    print lda\n",
    "    #show topics\n",
    "    print '\\ntopics:'\n",
    "    print lda.show_topics()\n",
    "\n",
    "    #View most likely topic for given term:\n",
    "    print '\\nterm - most likely topics'\n",
    "    print lda.get_term_topics('sandwich')\n",
    "\n",
    "    #View terms for first topic\n",
    "    #Get words indexed from dictionary\n",
    "    topic_terms = lda.get_topic_terms(0)\n",
    "    print '\\ntopic - most likely terms'\n",
    "    print [(dictionary[id], prob) for id, prob in topic_terms]\n",
    "\n",
    "    #View topics for document used in training\n",
    "    #document needs converted to bow using dictionary function\n",
    "    print '\\ndocument - topic mixture'\n",
    "    print lda.get_document_topics(dictionary.doc2bow(train[0]))\n",
    "\n",
    "    #Try model on first 2 unseen documents\n",
    "    print '\\nunseen document - topic mixture'\n",
    "    for test in test_text[:2]:\n",
    "        print lda[dictionary.doc2bow(test)]\n",
    "\n",
    "#call lda function\n",
    "lda10 = model_lda(corpus, dictionary, 10)\n",
    "show_lda(lda10, dictionary, train_text, test_text)"
   ]
  },
  {
   "cell_type": "markdown",
   "metadata": {},
   "source": [
    "The output first shows the terms comprising the topics. Unsurprisingly many of them contain stop words that tend to have high frequency. There is sandwich that this particular restaurant is known for though. While we can investigate the relationship between topics, terms, and documents, the stop words are causing a lot of noise in the model. We can first look to remove them and other processing choices for improvements then examine again."
   ]
  },
  {
   "cell_type": "markdown",
   "metadata": {},
   "source": [
    "## Text representation choices to improve topics\n",
    "\n",
    "In order to get more representative terms and well defined topics, there are some common suggestions that may want to be added to the processing phase:\n",
    "\n",
    "Removing stop words - These are common words that generally don't add to the context and are helper words that will likely occur with high frequencies in all topic distributions\n",
    "\n",
    "Removing rare words - Words with low term frequency may want to omit \n",
    "\n",
    "Stemming or lemmatizing - Stemming and lemmatizing will retrieve the root of the word despite its tense. Stemming tends to just cut off plural or verb tenses, whereas lemmatizing will handle roots like are to is.\n",
    "\n",
    "Part of speech tagging - Psrt of speech taggers can identify nouns, verbs, adjectives, adverbs, even organizations. Depending on the task you may want to only consider things (nouns), actions (verbs) or descriptors (adjective, adverb)\n",
    "\n",
    "The following function is a wrapper to the process_all function. Additional processing can be done to the text by setting the choice to true. Some default values are given though they can also be customized. Although both stemming and lemmatizing are available you should use one. I chose porter stemmer for default as I learned in a text analytics course it tends to have better accuracy, but for more user friendly terms I recommend trying a different option."
   ]
  },
  {
   "cell_type": "code",
   "execution_count": 280,
   "metadata": {
    "collapsed": false
   },
   "outputs": [],
   "source": [
    "def processing(text, header, column, stop=True, stopwords=list(nltk.corpus.stopwords.words('english')), \\\n",
    "               rare=False, threshold=1, stem=False, stemmer=nltk.stem.porter.PorterStemmer(), lem=False, \\\n",
    "               lemmatizer=nltk.stem.wordnet.WordNetLemmatizer(), pos=False, posparts=['NN', 'NNS']):\n",
    "    \"\"\"\n",
    "    each option can be set to true or false, where following option allows to customize\n",
    "    stop, stopwords will remove those stop words if true\n",
    "    rare, threshold will remove rare words at or below the threshold\n",
    "    stem, stemmer will stem with the given stemmer from nltk\n",
    "    lem, lemmatizer will lemmatize with the given lemmatizer from nltk\n",
    "    pos, posparts will use part of speech tagging and return posparts in given list\n",
    "    \"\"\"\n",
    "    \n",
    "    #call pre-processing for all so can get ctf for rare words\n",
    "    data = process_all(text, header, column)\n",
    "\n",
    "    #count all words if rare\n",
    "    if rare:\n",
    "        #if threshold not provided choose 1 if by default\n",
    "        wordcount = Counter()\n",
    "        for d in data:\n",
    "            wordcount.update(d)\n",
    "        rarewords = [key for key, value in wordcount.iteritems() if value <= threshold ]\n",
    "        \n",
    "    processdata = []\n",
    "    for d in data:\n",
    "        #use part of speech tagging to only return parts of speech indicated in posparts if true\n",
    "        if pos:\n",
    "            #if posparts not provided nouns and nounparts returned by default\n",
    "            tags = nltk.pos_tag(d)\n",
    "            d = [word for word, tag in tags if tag in posparts]\n",
    "\n",
    "        #stem words with the provided stemmer if true\n",
    "        if stem or lem:\n",
    "        #if not provided use porter stemmer by default\n",
    "            tokens = []\n",
    "            for i,j in enumerate(d):\n",
    "                    try:\n",
    "                        l = stemmer.stem(j) if stem else lemmatizer.lemmatize(j)\n",
    "                        tokens.append(l.encode())\n",
    "                    except:\n",
    "                        pass\n",
    "            d = tokens\n",
    "    \n",
    "        #remove stopwords or rarewords if true\n",
    "        #if stemming or lemmatizer handle removal in that loop instead to avoid iterating multiple times\n",
    "        if stop:\n",
    "            #if stopwords not provided uses english by default\n",
    "            d = [word for word in d if word not in stopwords]            \n",
    "        if rare:\n",
    "            d = [word for word in d if word not in rarewords]\n",
    "            \n",
    "        processdata.append(d)\n",
    "    return processdata"
   ]
  },
  {
   "cell_type": "markdown",
   "metadata": {},
   "source": [
    "We can now try a few different options and compare the output. Based on the previous output stop words need removed but can also try a few combinations:"
   ]
  },
  {
   "cell_type": "code",
   "execution_count": 281,
   "metadata": {
    "collapsed": false
   },
   "outputs": [],
   "source": [
    "#process text with various options:\n",
    "rp1 = processing(r1, h1, 'text', stop=True)\n",
    "rp2 = processing(r1, h1, 'text', stop=True, rare=True, stem=True)\n",
    "rp3 = processing(r1, h1, 'text', stop=True, rare=True, stem=True, pos=True)"
   ]
  },
  {
   "cell_type": "code",
   "execution_count": 189,
   "metadata": {
    "collapsed": true
   },
   "outputs": [],
   "source": [
    "#build corpus for each\n",
    "d1, c1, train1, test1 = build_corpus(rp1)\n",
    "d2, c2, train2, test2 = build_corpus(rp2)\n",
    "d3, c3, train3, test3 = build_corpus(rp3)"
   ]
  },
  {
   "cell_type": "code",
   "execution_count": 195,
   "metadata": {
    "collapsed": false
   },
   "outputs": [
    {
     "name": "stdout",
     "output_type": "stream",
     "text": [
      "\n",
      "stop words only:\n",
      "LdaModel(num_terms=5435, num_topics=10, decay=0.5, chunksize=2000)\n",
      "\n",
      "topics:\n",
      "[(0, u'0.017*\"fries\" + 0.012*\"good\" + 0.012*\"sandwich\" + 0.010*\"primanti\" + 0.010*\"sandwiches\" + 0.009*\"cheese\" + 0.008*\"pittsburgh\" + 0.008*\"like\" + 0.007*\"one\" + 0.007*\"food\"'), (1, u'0.017*\"fries\" + 0.017*\"sandwich\" + 0.011*\"like\" + 0.011*\"place\" + 0.010*\"primanti\" + 0.009*\"good\" + 0.009*\"bread\" + 0.009*\"food\" + 0.008*\"pittsburgh\" + 0.008*\"location\"'), (2, u'0.021*\"sandwich\" + 0.014*\"fries\" + 0.011*\"pittsburgh\" + 0.008*\"sandwiches\" + 0.008*\"get\" + 0.008*\"primanti\" + 0.007*\"like\" + 0.007*\"good\" + 0.006*\"slaw\" + 0.006*\"great\"'), (3, u'0.017*\"fries\" + 0.015*\"sandwich\" + 0.012*\"place\" + 0.009*\"food\" + 0.009*\"pittsburgh\" + 0.009*\"like\" + 0.009*\"good\" + 0.008*\"cheese\" + 0.007*\"bread\" + 0.007*\"primanti\"'), (4, u'0.027*\"sandwich\" + 0.015*\"pittsburgh\" + 0.014*\"place\" + 0.012*\"primanti\" + 0.011*\"fries\" + 0.008*\"like\" + 0.008*\"dont\" + 0.008*\"sandwiches\" + 0.007*\"food\" + 0.007*\"coleslaw\"'), (5, u'0.015*\"place\" + 0.013*\"fries\" + 0.013*\"sandwich\" + 0.011*\"food\" + 0.010*\"pittsburgh\" + 0.010*\"primanti\" + 0.008*\"cheese\" + 0.007*\"get\" + 0.007*\"sandwiches\" + 0.007*\"like\"'), (6, u'0.020*\"sandwich\" + 0.013*\"pittsburgh\" + 0.011*\"primanti\" + 0.010*\"food\" + 0.009*\"fries\" + 0.008*\"one\" + 0.008*\"like\" + 0.008*\"go\" + 0.007*\"sandwiches\" + 0.006*\"good\"'), (7, u'0.024*\"sandwich\" + 0.017*\"fries\" + 0.013*\"good\" + 0.009*\"food\" + 0.009*\"place\" + 0.008*\"pittsburgh\" + 0.008*\"cheese\" + 0.008*\"meat\" + 0.008*\"get\" + 0.007*\"got\"'), (8, u'0.024*\"sandwich\" + 0.013*\"fries\" + 0.009*\"primanti\" + 0.009*\"pittsburgh\" + 0.008*\"good\" + 0.008*\"slaw\" + 0.007*\"get\" + 0.007*\"go\" + 0.006*\"would\" + 0.006*\"food\"'), (9, u'0.012*\"food\" + 0.011*\"pittsburgh\" + 0.009*\"fries\" + 0.008*\"sandwich\" + 0.008*\"go\" + 0.007*\"one\" + 0.007*\"cheese\" + 0.006*\"dont\" + 0.006*\"place\" + 0.006*\"like\"')]\n",
      "\n",
      "term - most likely topics\n",
      "[(0, 0.011752910926085509), (1, 0.016973625270471315), (2, 0.020908183146206346), (3, 0.014982011391969351), (4, 0.026981499084881892), (5, 0.012608713565907259), (6, 0.019831458904965914), (7, 0.02390345250190783), (8, 0.023881762038920878)]\n",
      "\n",
      "topic - most likely terms\n",
      "[(u'fries', 0.016521881315049218), (u'good', 0.012152620165900938), (u'sandwich', 0.011876963025739784), (u'primanti', 0.010296017275017399), (u'sandwiches', 0.010011253481480268), (u'cheese', 0.0091716303274305532), (u'pittsburgh', 0.0081499209598127689), (u'like', 0.0081225942544189324), (u'one', 0.0072110651347693892), (u'food', 0.0071763638571421236)]\n",
      "\n",
      "document - topic mixture\n",
      "[(0, 0.52911608802919929), (4, 0.46421593528098315)]\n",
      "\n",
      "unseen document - topic mixture\n",
      "[(1, 0.94704481854858291)]\n",
      "[(4, 0.78515934756287697), (7, 0.20564286742327892)]\n",
      "\n",
      "stop words, rare words, stemmed:\n",
      "LdaModel(num_terms=3168, num_topics=10, decay=0.5, chunksize=2000)\n",
      "\n",
      "topics:\n",
      "[(0, u'0.026*\"sandwich\" + 0.014*\"place\" + 0.014*\"primanti\" + 0.013*\"thi\" + 0.012*\"go\" + 0.011*\"fri\" + 0.010*\"get\" + 0.010*\"like\" + 0.009*\"food\" + 0.008*\"pittsburgh\"'), (1, u'0.026*\"sandwich\" + 0.024*\"thi\" + 0.017*\"pittsburgh\" + 0.015*\"fri\" + 0.013*\"primanti\" + 0.013*\"food\" + 0.010*\"chees\" + 0.010*\"place\" + 0.009*\"get\" + 0.008*\"good\"'), (2, u'0.022*\"sandwich\" + 0.020*\"thi\" + 0.018*\"fri\" + 0.013*\"like\" + 0.011*\"place\" + 0.009*\"pittsburgh\" + 0.008*\"primanti\" + 0.008*\"go\" + 0.008*\"dont\" + 0.008*\"time\"'), (3, u'0.038*\"sandwich\" + 0.011*\"fri\" + 0.010*\"get\" + 0.009*\"thi\" + 0.009*\"pittsburgh\" + 0.009*\"primanti\" + 0.008*\"place\" + 0.008*\"slaw\" + 0.008*\"chees\" + 0.007*\"good\"'), (4, u'0.021*\"sandwich\" + 0.014*\"fri\" + 0.013*\"place\" + 0.011*\"one\" + 0.011*\"time\" + 0.010*\"food\" + 0.010*\"thi\" + 0.010*\"go\" + 0.009*\"primanti\" + 0.009*\"pittsburgh\"'), (5, u'0.018*\"fri\" + 0.018*\"sandwich\" + 0.012*\"pittsburgh\" + 0.011*\"slaw\" + 0.010*\"good\" + 0.008*\"go\" + 0.008*\"thi\" + 0.008*\"food\" + 0.008*\"order\" + 0.008*\"meat\"'), (6, u'0.013*\"thi\" + 0.010*\"sandwich\" + 0.010*\"place\" + 0.008*\"us\" + 0.007*\"one\" + 0.006*\"pittsburgh\" + 0.006*\"food\" + 0.006*\"get\" + 0.006*\"fri\" + 0.006*\"im\"'), (7, u'0.033*\"sandwich\" + 0.016*\"fri\" + 0.015*\"pittsburgh\" + 0.014*\"thi\" + 0.011*\"bread\" + 0.011*\"coleslaw\" + 0.010*\"good\" + 0.009*\"like\" + 0.008*\"tri\" + 0.007*\"dont\"'), (8, u'0.028*\"sandwich\" + 0.019*\"fri\" + 0.013*\"pittsburgh\" + 0.012*\"primanti\" + 0.011*\"thi\" + 0.010*\"food\" + 0.008*\"tri\" + 0.008*\"place\" + 0.007*\"visit\" + 0.007*\"like\"'), (9, u'0.031*\"sandwich\" + 0.021*\"place\" + 0.020*\"thi\" + 0.020*\"fri\" + 0.011*\"good\" + 0.010*\"like\" + 0.010*\"pittsburgh\" + 0.010*\"primanti\" + 0.008*\"one\" + 0.007*\"go\"')]\n",
      "\n",
      "term - most likely topics\n",
      "[(0, 0.026174813267525108), (1, 0.026203774655973372), (2, 0.022237679311142511), (3, 0.037539742918460337), (4, 0.020968123893165616), (5, 0.017391274125769407), (7, 0.033119219373223145), (8, 0.027725700634916348), (9, 0.030520180332000602)]\n",
      "\n",
      "topic - most likely terms\n",
      "[(u'sandwich', 0.026244105120589844), (u'place', 0.013673319769629124), (u'primanti', 0.013570701948379648), (u'thi', 0.012645548696003251), (u'go', 0.011966514998163509), (u'fri', 0.010828600636467671), (u'get', 0.010383608035348619), (u'like', 0.010358274972444292), (u'food', 0.00943882410071035), (u'pittsburgh', 0.0084689081498251096)]\n",
      "\n",
      "document - topic mixture\n",
      "[(7, 0.9924965601652822)]\n",
      "\n",
      "unseen document - topic mixture\n",
      "[(1, 0.30504574315267313), (2, 0.65049942879915634)]\n",
      "[(0, 0.32039046744073779), (1, 0.32964309982408768), (3, 0.039785945000374759), (9, 0.30379591775208925)]\n",
      "\n",
      "stop words, rare words, stemmed, part of speech tagging:\n",
      "LdaModel(num_terms=1929, num_topics=10, decay=0.5, chunksize=2000)\n",
      "\n",
      "topics:\n",
      "[(0, u'0.044*\"place\" + 0.024*\"food\" + 0.023*\"fri\" + 0.018*\"sandwich\" + 0.012*\"order\" + 0.010*\"chees\" + 0.010*\"primanti\" + 0.010*\"pittsburgh\" + 0.010*\"dont\" + 0.009*\"anyth\"'), (1, u'0.062*\"sandwich\" + 0.042*\"fri\" + 0.035*\"food\" + 0.018*\"slaw\" + 0.012*\"place\" + 0.012*\"order\" + 0.011*\"bread\" + 0.011*\"pastrami\" + 0.011*\"primanti\" + 0.010*\"time\"'), (2, u'0.043*\"place\" + 0.029*\"sandwich\" + 0.025*\"fri\" + 0.019*\"bread\" + 0.014*\"servic\" + 0.013*\"friend\" + 0.012*\"meat\" + 0.012*\"food\" + 0.010*\"coleslaw\" + 0.008*\"beef\"'), (3, u'0.038*\"fri\" + 0.035*\"sandwich\" + 0.017*\"primanti\" + 0.015*\"food\" + 0.014*\"place\" + 0.014*\"slaw\" + 0.012*\"bread\" + 0.012*\"burger\" + 0.011*\"pittsburgh\" + 0.011*\"meat\"'), (4, u'0.029*\"pittsburgh\" + 0.022*\"locat\" + 0.017*\"place\" + 0.013*\"time\" + 0.011*\"sandwich\" + 0.011*\"thing\" + 0.010*\"primanti\" + 0.009*\"ton\" + 0.008*\"brother\" + 0.008*\"meat\"'), (5, u'0.045*\"place\" + 0.034*\"sandwich\" + 0.019*\"pittsburgh\" + 0.019*\"fri\" + 0.016*\"primanti\" + 0.016*\"time\" + 0.016*\"night\" + 0.013*\"servic\" + 0.013*\"slaw\" + 0.012*\"food\"'), (6, u'0.038*\"sandwich\" + 0.029*\"food\" + 0.026*\"fri\" + 0.023*\"place\" + 0.019*\"primanti\" + 0.013*\"time\" + 0.013*\"coleslaw\" + 0.012*\"bread\" + 0.011*\"pittsburgh\" + 0.010*\"meat\"'), (7, u'0.070*\"sandwich\" + 0.038*\"fri\" + 0.029*\"pittsburgh\" + 0.022*\"place\" + 0.018*\"meat\" + 0.018*\"coleslaw\" + 0.018*\"primanti\" + 0.016*\"food\" + 0.016*\"slaw\" + 0.015*\"time\"'), (8, u'0.068*\"sandwich\" + 0.028*\"place\" + 0.026*\"fri\" + 0.022*\"food\" + 0.022*\"pittsburgh\" + 0.018*\"slaw\" + 0.017*\"bread\" + 0.017*\"locat\" + 0.017*\"time\" + 0.014*\"primanti\"'), (9, u'0.062*\"sandwich\" + 0.043*\"fri\" + 0.026*\"place\" + 0.018*\"food\" + 0.016*\"pittsburgh\" + 0.016*\"bread\" + 0.015*\"slaw\" + 0.014*\"coleslaw\" + 0.014*\"primanti\" + 0.013*\"meat\"')]\n",
      "\n",
      "term - most likely topics\n",
      "[(0, 0.017395700939346729), (1, 0.062181891991374666), (2, 0.028459985614381206), (3, 0.034495844598407155), (5, 0.033435735384544106), (6, 0.037936773457849654), (7, 0.070289480790774156), (8, 0.067957793124010624), (9, 0.062298860784739694)]\n",
      "\n",
      "topic - most likely terms\n",
      "[(u'place', 0.04442816697018645), (u'food', 0.024293863955435958), (u'fri', 0.022781788019107286), (u'sandwich', 0.01810572837639873), (u'order', 0.011885881933159705), (u'chees', 0.010481357116216963), (u'primanti', 0.010003289889556056), (u'pittsburgh', 0.0098872151054619686), (u'dont', 0.0098860315833935834), (u'anyth', 0.0088525227914863884)]\n",
      "\n",
      "document - topic mixture\n",
      "[(1, 0.98301539869725274)]\n",
      "\n",
      "unseen document - topic mixture\n",
      "[(0, 0.012502939053748666), (1, 0.012503836331258325), (2, 0.012501485904299213), (3, 0.012502549779292342), (4, 0.012501554809031814), (5, 0.012503735538385298), (6, 0.012502487571249643), (7, 0.012504294350870524), (8, 0.88747293995121479), (9, 0.012504176710649384)]\n",
      "[(7, 0.46703720445567781), (8, 0.34926813579608629), (9, 0.16619019083457287)]\n"
     ]
    }
   ],
   "source": [
    "#train LDA and output topics\n",
    "print '\\nstop words only:'\n",
    "lda_rp1 = model_lda(c1, d1, 10)\n",
    "show_lda(lda_rp1, d1, train1, test1)\n",
    "\n",
    "print '\\nstop words, rare words, stemmed:'\n",
    "lda_rp2 = model_lda(c2, d2, 10)\n",
    "show_lda(lda_rp2, d2, train2, test2)\n",
    "\n",
    "print '\\nstop words, rare words, stemmed, part of speech tagging:'\n",
    "lda_rp3 = model_lda(c3, d3, 10)\n",
    "show_lda(lda_rp3, d3, train3, test3)"
   ]
  },
  {
   "cell_type": "markdown",
   "metadata": {},
   "source": [
    "The new topics seem to have a much better representation overall with words such as its location and types of food it serves. There is a lot of similarity between the different choices, but we do see a huge improvement just removing stop words. There seems to be further improvement using nouns only as there is now meat, beef, etc for more indicators of their food. Still there is a lot of overlap between topics. It's possible that the words come from fewer topic distributions, which brings us to the next consideration of selecting an appropriate value of k.\n",
    "\n",
    "Before that though we see that for a given term i.e. sandwich cover most topics. The first topic's most likely terms differ a little where the third has mostly food i.e. nouns and the first some adjectives. Interestingly there are different topics for an unseen document and an existing have having a different mixture. This different choices can be useful depending on your goal."
   ]
  },
  {
   "cell_type": "markdown",
   "metadata": {},
   "source": [
    "## Choosing K number of topics\n",
    "\n",
    "One of the drawbacks to LDA is that you have to assume the number of topics. There is no set way when it comes to choosing k, but you can use cross validation to test how different values of k perform. A metric is needed to compare where some previous work has used highest log likelihood, lowest perlexity or the highest harmonic mean. The following functions will train for different k and use gensim lda bound function to calculate perplexity."
   ]
  },
  {
   "cell_type": "code",
   "execution_count": 282,
   "metadata": {
    "collapsed": false
   },
   "outputs": [
    {
     "data": {
      "text/plain": [
       "[<matplotlib.lines.Line2D at 0x13bf8d30>]"
      ]
     },
     "execution_count": 282,
     "metadata": {},
     "output_type": "execute_result"
    },
    {
     "data": {
      "image/png": "[encoded data removed]",
      "text/plain": [
       "<matplotlib.figure.Figure at 0x139df048>"
      ]
     },
     "metadata": {},
     "output_type": "display_data"
    }
   ],
   "source": [
    "def choose_k(train_corp, dict_corp, test_text):\n",
    "    #We will use the number of non zero entries divided by number of documents as a starting point for an upper bound \n",
    "    ub = dict_corp.num_nnz/dict_corp.num_docs\n",
    "\n",
    "    perplex = []\n",
    "    num_k = []\n",
    "\n",
    "    #get corpus of the held out set to check for perplexity\n",
    "    d_test = gensim.corpora.Dictionary(test_text)\n",
    "    corpus_per = [d_test.doc2bow(text) for text in test_text]\n",
    "\n",
    "    #we will enumerate until this number training an lda model with different values of k and get perplexity\n",
    "    for k in range(1, ub):\n",
    "        lda_k = model_lda(train_corp, dict_corp, k)\n",
    "        num_k.append(k)\n",
    "        per = lda_k.bound(corpus_per)\n",
    "        per_word_perplex = np.exp2(-per / d_test.num_nnz)\n",
    "        perplex.append(per_word_perplex)\n",
    "\n",
    "    #used from homework 2 to adjust plot:\n",
    "    matplotlib.use(\"svg\")\n",
    "    %matplotlib inline\n",
    "    plt.style.use('ggplot')\n",
    "    matplotlib.rcParams['figure.figsize'] = (10.0, 5.0) # you should adjust this to fit your screen\n",
    "\n",
    "    x = num_k\n",
    "    y = perplex        \n",
    "    plt.xlabel(\"Number of Topics\")\n",
    "    plt.ylabel(\"Perplexity\")\n",
    "    plt.plot(x,y,'-')\n",
    "\n",
    "#We will use the last set of data that used all processing\n",
    "choose_k(c3, d3, test3)"
   ]
  },
  {
   "cell_type": "markdown",
   "metadata": {},
   "source": [
    "In this case perplexity is lowest for lower topics. This seems to make sense given the amount of overlap."
   ]
  },
  {
   "cell_type": "markdown",
   "metadata": {},
   "source": [
    "## Example application: Amazon review topic detection\n",
    "\n",
    "Now that you have some familiarity with LDA and the different choices, try to put it together with another example:\n",
    "1. Scrape data\n",
    "2. Complete processing to return a list of documents\n",
    "3. Perform cross validation to select k using perplexity as a metric\n",
    "4. Train the final model\n",
    "5. Inspect topics"
   ]
  },
  {
   "cell_type": "code",
   "execution_count": null,
   "metadata": {
    "collapsed": true
   },
   "outputs": [],
   "source": [
    "#scrape reviews for Bottega Louie - this restaurant currently has over 13,000 reviews\n",
    "#would like to see how more documents fair\n",
    "rev_bl, h_bl = load_yelp('https://www.yelp.com/biz/bottega-louie-los-angeles')"
   ]
  },
  {
   "cell_type": "code",
   "execution_count": null,
   "metadata": {
    "collapsed": true
   },
   "outputs": [],
   "source": [
    "#process the data using all choices set\n",
    "revproc_bl = processing(rev_bl, h_bl, 'text', stop=True, rare=True, stem=True, pos=True)\n",
    "#build corpus on traiing data and split\n",
    "dbl, cbl, trainbl, testbl = build_corpus(rp1)"
   ]
  },
  {
   "cell_type": "code",
   "execution_count": null,
   "metadata": {
    "collapsed": true
   },
   "outputs": [],
   "source": [
    "#plot for some values of k\n",
    "choose_k(cbl, dbl, testbl):"
   ]
  },
  {
   "cell_type": "code",
   "execution_count": null,
   "metadata": {
    "collapsed": true
   },
   "outputs": [],
   "source": [
    "#run the model for chosen value of k\n",
    "#replace 10 with manual inspection of data\n",
    "k_bl=10\n",
    "lda_bl = model_lda(cbl, dbl, k_bl)"
   ]
  },
  {
   "cell_type": "markdown",
   "metadata": {},
   "source": [
    "## References and Further Reading\n",
    "1. http://videolectures.net/sikdd2013_speh_dirichlet_allocation/\n",
    "2. http://www.jmlr.org/papers/volume3/blei03a/blei03a.pdf\n",
    "3. https://www.cs.princeton.edu/~blei/papers/BleiNgJordan2003.pdf\n",
    "4. https://www.ncbi.nlm.nih.gov/pmc/articles/PMC4597325/\n",
    "5. http://dl.acm.org.proxy.library.cmu.edu/citation.cfm?id=1639726\n",
    "6. https://radimrehurek.com/gensim/models/ldamodel.html\n",
    "7. http://jonathan-huang.org/research/dirichlet/dirichlet.pdf\n",
    "8. http://cseweb.ucsd.edu/~dhu/docs/research_exam09.pdf\n",
    "9. https://en.wikipedia.org/wiki/Dirichlet_distribution\n",
    "10. https://en.wikipedia.org/wiki/Dirichlet_distribution"
   ]
  }
 ],
 "metadata": {
  "anaconda-cloud": {},
  "kernelspec": {
   "display_name": "Python [conda root]",
   "language": "python",
   "name": "conda-root-py"
  },
  "language_info": {
   "codemirror_mode": {
    "name": "ipython",
    "version": 2
   },
   "file_extension": ".py",
   "mimetype": "text/x-python",
   "name": "python",
   "nbconvert_exporter": "python",
   "pygments_lexer": "ipython2",
   "version": "2.7.12"
  }
 },
 "nbformat": 4,
 "nbformat_minor": 0
}
