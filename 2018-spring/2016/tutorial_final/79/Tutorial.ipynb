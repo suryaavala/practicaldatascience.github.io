{
 "cells": [
  {
   "cell_type": "markdown",
   "metadata": {},
   "source": [
    "# Principal Component Analysis (PCA)"
   ]
  },
  {
   "cell_type": "markdown",
   "metadata": {},
   "source": [
    "### Introduction"
   ]
  },
  {
   "cell_type": "markdown",
   "metadata": {},
   "source": [
    "<p> The purpose of this tutorial is to provide the reader with an intuitive understanding for principal component analysis (PCA). PCA is a multivariate data analysis technique mainly used for dimensionality reduction of large data sets. Working with large data sets is usually very complex as they contain large amount of information, which is difficult to comprehend. In order to find the patterns and correlations hidden on this data, PCA projects the original data into a variance space that contains a smaller number of latent variables called principal components. Each of these principal components, explain the amount of variation of the original data and it allows to explore how the instances differ from, and are similar to one another. </p>"
   ]
  },
  {
   "cell_type": "markdown",
   "metadata": {},
   "source": [
    "<p> For this tutorial, you will use the libraries listed below, which are already installed in Anaconda:</p>"
   ]
  },
  {
   "cell_type": "code",
   "execution_count": 1,
   "metadata": {
    "collapsed": false
   },
   "outputs": [],
   "source": [
    "import pandas as pd\n",
    "import numpy as np\n",
    "import matplotlib.pyplot as plt\n",
    "import seaborn\n",
    "seaborn.set_style(\"white\")\n",
    "import sklearn\n",
    "from sklearn.decomposition import PCA\n",
    "\n",
    "%matplotlib inline"
   ]
  },
  {
   "cell_type": "markdown",
   "metadata": {},
   "source": [
    "<p>On this tutorial, we will go step by step on how to implement principal component analysis (PCA) and then, we will use the sklearn library to compare the results. This tutorial is composed by the following sections:</p>"
   ]
  },
  {
   "cell_type": "markdown",
   "metadata": {},
   "source": [
    "<ol type=\"i\" style=\"margin-top:-10px\">\n",
    "<li><a href=\"#Data Loading\"> Data Loading</a></li>\n",
    "<li><a href=\"#Data Processing\"> Data Processing </a></li>\n",
    "<ul padding=0px; display=inline; style=\"margin-top:0px\" >\n",
    "    <li type = \"disc\"> <a href=\"#Mean-Centering Data\"> Mean-Centering Data </a></li>\n",
    "    <li type = \"disc\"><a href=\"#Scaling Data\"> Scaling Data </a></li>\n",
    "</ul>\n",
    "<li><a href=\"#Mathematical Computation\"> Mathematical Computation </a></li>\n",
    "<li><a href=\"#PCA with sklearn\"> PCA with sklearn </a></li>\n",
    "<li><a href=\"#Summary\"> Summary </a></li>\n",
    "<li><a href= \"#References\"> References </a></li>\n",
    "</ol>"
   ]
  },
  {
   "cell_type": "markdown",
   "metadata": {},
   "source": [
    "<a id=\"Data Loading\"></a>"
   ]
  },
  {
   "cell_type": "markdown",
   "metadata": {},
   "source": [
    "### Data Loading "
   ]
  },
  {
   "cell_type": "markdown",
   "metadata": {},
   "source": [
    "<p> The dataset that we will be exploring in this tutorial comes from the U.S Energy Information Administration website: <a href=\"http://www.eia.gov/\"> www.eia.gov </a>. The data is provided in a weekly basis from February of 1991 to September of 2015 for the following variables with their respective units: </p>\n",
    "\n",
    "<ul style=\"margin-left: 50px;\">\n",
    "    <li type = \"disc\"> Exports of Crude Oil (Thousand Barrels per Day) </li>\n",
    "    <li type = \"disc\"> Commercial Crude Oil Imports Excluding SPR  (Thousand Barrels per Day) </li>\n",
    "    <li type = \"disc\"> Ending Stocks of Crude Oil and Petroleum Products  (Thousand Barrels) </li>\n",
    "    <li type = \"disc\"> Field Production of Crude Oil  (Thousand Barrels per Day) </li>\n",
    "    <li type = \"disc\"> Ending Stocks excluding SPR of Crude Oil  (Thousand Barrels)</li>\n",
    "    <li type = \"disc\"> Refiner Net Input of Crude Oil  (Thousand Barrels per Day) </li>\n",
    "    <li type = \"disc\"> Cushing OK WTI Spot Price FOB  (Dollars per Barrel) </li>\n",
    "    <li type = \"disc\"> Europe Brent Spot Price FOB  (Dollars per Barrel)</li>\n",
    "</ul>"
   ]
  },
  {
   "cell_type": "code",
   "execution_count": 2,
   "metadata": {
    "collapsed": false
   },
   "outputs": [
    {
     "data": {
      "text/html": [
       "<div>\n",
       "<table border=\"1\" class=\"dataframe\">\n",
       "  <thead>\n",
       "    <tr style=\"text-align: right;\">\n",
       "      <th></th>\n",
       "      <th>Exports of Crude Oil (Thousand Barrels per Day)</th>\n",
       "      <th>Commercial Crude Oil Imports Excluding SPR (Thousand Barrels per Day)</th>\n",
       "      <th>Ending Stocks of Crude Oil and Petroleum Products  (Thousand Barrels)</th>\n",
       "      <th>Field Production of CrudeOil (Thousand Barrels per Day)</th>\n",
       "      <th>Ending Stocks excluding SPR of CrudeOil (Thousand Barrels)</th>\n",
       "      <th>Refiner Net Input of CrudeOil (Thousand Barrels per Day)</th>\n",
       "      <th>Cushing OK WTI Spot Price FOB (Dollars per Barrel)</th>\n",
       "      <th>Europe Brent Spot Price FOB (Dollars per Barrel)</th>\n",
       "    </tr>\n",
       "  </thead>\n",
       "  <tbody>\n",
       "    <tr>\n",
       "      <th>0</th>\n",
       "      <td>138</td>\n",
       "      <td>5542</td>\n",
       "      <td>1654304</td>\n",
       "      <td>7463</td>\n",
       "      <td>331172</td>\n",
       "      <td>12973</td>\n",
       "      <td>21.30</td>\n",
       "      <td>20.63</td>\n",
       "    </tr>\n",
       "    <tr>\n",
       "      <th>1</th>\n",
       "      <td>138</td>\n",
       "      <td>5527</td>\n",
       "      <td>1653683</td>\n",
       "      <td>7427</td>\n",
       "      <td>337091</td>\n",
       "      <td>12931</td>\n",
       "      <td>22.12</td>\n",
       "      <td>20.44</td>\n",
       "    </tr>\n",
       "    <tr>\n",
       "      <th>2</th>\n",
       "      <td>242</td>\n",
       "      <td>4934</td>\n",
       "      <td>1633707</td>\n",
       "      <td>7415</td>\n",
       "      <td>335996</td>\n",
       "      <td>13107</td>\n",
       "      <td>19.38</td>\n",
       "      <td>18.13</td>\n",
       "    </tr>\n",
       "    <tr>\n",
       "      <th>3</th>\n",
       "      <td>242</td>\n",
       "      <td>4983</td>\n",
       "      <td>1638352</td>\n",
       "      <td>7404</td>\n",
       "      <td>336208</td>\n",
       "      <td>13164</td>\n",
       "      <td>18.73</td>\n",
       "      <td>18.66</td>\n",
       "    </tr>\n",
       "    <tr>\n",
       "      <th>4</th>\n",
       "      <td>167</td>\n",
       "      <td>5430</td>\n",
       "      <td>1635503</td>\n",
       "      <td>7394</td>\n",
       "      <td>334536</td>\n",
       "      <td>13082</td>\n",
       "      <td>19.86</td>\n",
       "      <td>19.77</td>\n",
       "    </tr>\n",
       "  </tbody>\n",
       "</table>\n",
       "</div>"
      ],
      "text/plain": [
       "   Exports of Crude Oil (Thousand Barrels per Day)  \\\n",
       "0                                              138   \n",
       "1                                              138   \n",
       "2                                              242   \n",
       "3                                              242   \n",
       "4                                              167   \n",
       "\n",
       "   Commercial Crude Oil Imports Excluding SPR (Thousand Barrels per Day)  \\\n",
       "0                                               5542                       \n",
       "1                                               5527                       \n",
       "2                                               4934                       \n",
       "3                                               4983                       \n",
       "4                                               5430                       \n",
       "\n",
       "   Ending Stocks of Crude Oil and Petroleum Products  (Thousand Barrels)  \\\n",
       "0                                            1654304                       \n",
       "1                                            1653683                       \n",
       "2                                            1633707                       \n",
       "3                                            1638352                       \n",
       "4                                            1635503                       \n",
       "\n",
       "   Field Production of CrudeOil (Thousand Barrels per Day)  \\\n",
       "0                                               7463         \n",
       "1                                               7427         \n",
       "2                                               7415         \n",
       "3                                               7404         \n",
       "4                                               7394         \n",
       "\n",
       "   Ending Stocks excluding SPR of CrudeOil (Thousand Barrels)  \\\n",
       "0                                             331172            \n",
       "1                                             337091            \n",
       "2                                             335996            \n",
       "3                                             336208            \n",
       "4                                             334536            \n",
       "\n",
       "   Refiner Net Input of CrudeOil (Thousand Barrels per Day)  \\\n",
       "0                                              12973          \n",
       "1                                              12931          \n",
       "2                                              13107          \n",
       "3                                              13164          \n",
       "4                                              13082          \n",
       "\n",
       "   Cushing OK WTI Spot Price FOB (Dollars per Barrel)  \\\n",
       "0                                              21.30    \n",
       "1                                              22.12    \n",
       "2                                              19.38    \n",
       "3                                              18.73    \n",
       "4                                              19.86    \n",
       "\n",
       "   Europe Brent Spot Price FOB (Dollars per Barrel)  \n",
       "0                                             20.63  \n",
       "1                                             20.44  \n",
       "2                                             18.13  \n",
       "3                                             18.66  \n",
       "4                                             19.77  "
      ]
     },
     "execution_count": 2,
     "metadata": {},
     "output_type": "execute_result"
    }
   ],
   "source": [
    "dataset  = pd.read_csv(\"tutorial_data1.csv\") \n",
    "dataset.head()"
   ]
  },
  {
   "cell_type": "markdown",
   "metadata": {},
   "source": [
    "<p> Since the variables contain different dimensions, this will require some data processing that is described in the following section. </p>"
   ]
  },
  {
   "cell_type": "markdown",
   "metadata": {},
   "source": [
    "<a id=\"Data Processing\" style=\"margin-top:0px\"></a>"
   ]
  },
  {
   "cell_type": "markdown",
   "metadata": {},
   "source": [
    "### Data Processing"
   ]
  },
  {
   "cell_type": "markdown",
   "metadata": {},
   "source": [
    "<a id=\"Mean-Centering Data\"></a>"
   ]
  },
  {
   "cell_type": "markdown",
   "metadata": {},
   "source": [
    "#### Mean-Centering Data"
   ]
  },
  {
   "cell_type": "markdown",
   "metadata": {
    "collapsed": true
   },
   "source": [
    "<p> The first step before applying PCA to a data matrix $X$ is to mean-center the data by making the mean of each variable to be zero. This is accomplished by finding the mean of each variable and substract it off to each of the instances belonging to that variable. </p>"
   ]
  },
  {
   "cell_type": "code",
   "execution_count": 3,
   "metadata": {
    "collapsed": false
   },
   "outputs": [
    {
     "data": {
      "text/html": [
       "<div>\n",
       "<table border=\"1\" class=\"dataframe\">\n",
       "  <thead>\n",
       "    <tr style=\"text-align: right;\">\n",
       "      <th></th>\n",
       "      <th>Exports of Crude Oil (Thousand Barrels per Day)</th>\n",
       "      <th>Commercial Crude Oil Imports Excluding SPR (Thousand Barrels per Day)</th>\n",
       "      <th>Ending Stocks of Crude Oil and Petroleum Products  (Thousand Barrels)</th>\n",
       "      <th>Field Production of CrudeOil (Thousand Barrels per Day)</th>\n",
       "      <th>Ending Stocks excluding SPR of CrudeOil (Thousand Barrels)</th>\n",
       "      <th>Refiner Net Input of CrudeOil (Thousand Barrels per Day)</th>\n",
       "      <th>Cushing OK WTI Spot Price FOB (Dollars per Barrel)</th>\n",
       "      <th>Europe Brent Spot Price FOB (Dollars per Barrel)</th>\n",
       "    </tr>\n",
       "  </thead>\n",
       "  <tbody>\n",
       "    <tr>\n",
       "      <th>0</th>\n",
       "      <td>52.75</td>\n",
       "      <td>-2884.28</td>\n",
       "      <td>127.78</td>\n",
       "      <td>1227.84</td>\n",
       "      <td>-427.91</td>\n",
       "      <td>-1774.43</td>\n",
       "      <td>-26.54</td>\n",
       "      <td>-28.23</td>\n",
       "    </tr>\n",
       "    <tr>\n",
       "      <th>1</th>\n",
       "      <td>52.75</td>\n",
       "      <td>-2899.28</td>\n",
       "      <td>-493.22</td>\n",
       "      <td>1191.84</td>\n",
       "      <td>5491.09</td>\n",
       "      <td>-1816.43</td>\n",
       "      <td>-25.72</td>\n",
       "      <td>-28.42</td>\n",
       "    </tr>\n",
       "    <tr>\n",
       "      <th>2</th>\n",
       "      <td>156.75</td>\n",
       "      <td>-3492.28</td>\n",
       "      <td>-20469.22</td>\n",
       "      <td>1179.84</td>\n",
       "      <td>4396.09</td>\n",
       "      <td>-1640.43</td>\n",
       "      <td>-28.46</td>\n",
       "      <td>-30.73</td>\n",
       "    </tr>\n",
       "    <tr>\n",
       "      <th>3</th>\n",
       "      <td>156.75</td>\n",
       "      <td>-3443.28</td>\n",
       "      <td>-15824.22</td>\n",
       "      <td>1168.84</td>\n",
       "      <td>4608.09</td>\n",
       "      <td>-1583.43</td>\n",
       "      <td>-29.11</td>\n",
       "      <td>-30.20</td>\n",
       "    </tr>\n",
       "    <tr>\n",
       "      <th>4</th>\n",
       "      <td>81.75</td>\n",
       "      <td>-2996.28</td>\n",
       "      <td>-18673.22</td>\n",
       "      <td>1158.84</td>\n",
       "      <td>2936.09</td>\n",
       "      <td>-1665.43</td>\n",
       "      <td>-27.98</td>\n",
       "      <td>-29.09</td>\n",
       "    </tr>\n",
       "  </tbody>\n",
       "</table>\n",
       "</div>"
      ],
      "text/plain": [
       "   Exports of Crude Oil (Thousand Barrels per Day)  \\\n",
       "0                                            52.75   \n",
       "1                                            52.75   \n",
       "2                                           156.75   \n",
       "3                                           156.75   \n",
       "4                                            81.75   \n",
       "\n",
       "   Commercial Crude Oil Imports Excluding SPR (Thousand Barrels per Day)  \\\n",
       "0                                           -2884.28                       \n",
       "1                                           -2899.28                       \n",
       "2                                           -3492.28                       \n",
       "3                                           -3443.28                       \n",
       "4                                           -2996.28                       \n",
       "\n",
       "   Ending Stocks of Crude Oil and Petroleum Products  (Thousand Barrels)  \\\n",
       "0                                             127.78                       \n",
       "1                                            -493.22                       \n",
       "2                                          -20469.22                       \n",
       "3                                          -15824.22                       \n",
       "4                                          -18673.22                       \n",
       "\n",
       "   Field Production of CrudeOil (Thousand Barrels per Day)  \\\n",
       "0                                            1227.84         \n",
       "1                                            1191.84         \n",
       "2                                            1179.84         \n",
       "3                                            1168.84         \n",
       "4                                            1158.84         \n",
       "\n",
       "   Ending Stocks excluding SPR of CrudeOil (Thousand Barrels)  \\\n",
       "0                                            -427.91            \n",
       "1                                            5491.09            \n",
       "2                                            4396.09            \n",
       "3                                            4608.09            \n",
       "4                                            2936.09            \n",
       "\n",
       "   Refiner Net Input of CrudeOil (Thousand Barrels per Day)  \\\n",
       "0                                           -1774.43          \n",
       "1                                           -1816.43          \n",
       "2                                           -1640.43          \n",
       "3                                           -1583.43          \n",
       "4                                           -1665.43          \n",
       "\n",
       "   Cushing OK WTI Spot Price FOB (Dollars per Barrel)  \\\n",
       "0                                             -26.54    \n",
       "1                                             -25.72    \n",
       "2                                             -28.46    \n",
       "3                                             -29.11    \n",
       "4                                             -27.98    \n",
       "\n",
       "   Europe Brent Spot Price FOB (Dollars per Barrel)  \n",
       "0                                            -28.23  \n",
       "1                                            -28.42  \n",
       "2                                            -30.73  \n",
       "3                                            -30.20  \n",
       "4                                            -29.09  "
      ]
     },
     "execution_count": 3,
     "metadata": {},
     "output_type": "execute_result"
    }
   ],
   "source": [
    "dataset_center = (dataset - dataset.mean())\n",
    "dataset_center.round(2).head()"
   ]
  },
  {
   "cell_type": "markdown",
   "metadata": {},
   "source": [
    "<p> Now, we need to find the covariance matrix of our dataset to see how the variables are correlated to each other. This is described by the following equation:</p>"
   ]
  },
  {
   "cell_type": "markdown",
   "metadata": {},
   "source": [
    "$$ Cov(X) = \\dfrac{\\sum_{i=1}^{N}(x_{i} - \\bar{x})(y_{i} - \\bar{y})}{N-1}$$"
   ]
  },
  {
   "cell_type": "markdown",
   "metadata": {},
   "source": [
    "<p> where $N$ is the total number of rows, $\\bar{x}$ and $\\bar{y}$ are the means for the variables $x$ and $y$, respectively.</p>"
   ]
  },
  {
   "cell_type": "code",
   "execution_count": 4,
   "metadata": {
    "collapsed": false
   },
   "outputs": [
    {
     "data": {
      "text/html": [
       "<div>\n",
       "<table border=\"1\" class=\"dataframe\">\n",
       "  <thead>\n",
       "    <tr style=\"text-align: right;\">\n",
       "      <th></th>\n",
       "      <th>Exports of Crude Oil (Thousand Barrels per Day)</th>\n",
       "      <th>Commercial Crude Oil Imports Excluding SPR (Thousand Barrels per Day)</th>\n",
       "      <th>Ending Stocks of Crude Oil and Petroleum Products  (Thousand Barrels)</th>\n",
       "      <th>Field Production of CrudeOil (Thousand Barrels per Day)</th>\n",
       "      <th>Ending Stocks excluding SPR of CrudeOil (Thousand Barrels)</th>\n",
       "      <th>Refiner Net Input of CrudeOil (Thousand Barrels per Day)</th>\n",
       "      <th>Cushing OK WTI Spot Price FOB (Dollars per Barrel)</th>\n",
       "      <th>Europe Brent Spot Price FOB (Dollars per Barrel)</th>\n",
       "    </tr>\n",
       "  </thead>\n",
       "  <tbody>\n",
       "    <tr>\n",
       "      <th>Exports of Crude Oil (Thousand Barrels per Day)</th>\n",
       "      <td>-405872.54</td>\n",
       "      <td>1948196.83</td>\n",
       "      <td>-1.483328e+09</td>\n",
       "      <td>-5661084.60</td>\n",
       "      <td>-4.285119e+08</td>\n",
       "      <td>-2883878.42</td>\n",
       "      <td>-347436.54</td>\n",
       "      <td>-406584.55</td>\n",
       "    </tr>\n",
       "    <tr>\n",
       "      <th>Commercial Crude Oil Imports Excluding SPR (Thousand Barrels per Day)</th>\n",
       "      <td>-476086.59</td>\n",
       "      <td>3927530.06</td>\n",
       "      <td>-1.488022e+09</td>\n",
       "      <td>-6719097.40</td>\n",
       "      <td>-4.447434e+08</td>\n",
       "      <td>-2233391.58</td>\n",
       "      <td>-332401.95</td>\n",
       "      <td>-391967.96</td>\n",
       "    </tr>\n",
       "    <tr>\n",
       "      <th>Ending Stocks of Crude Oil and Petroleum Products  (Thousand Barrels)</th>\n",
       "      <td>1010938.47</td>\n",
       "      <td>-1258779.62</td>\n",
       "      <td>8.177841e+09</td>\n",
       "      <td>16992778.38</td>\n",
       "      <td>1.742681e+09</td>\n",
       "      <td>13532083.13</td>\n",
       "      <td>2004988.54</td>\n",
       "      <td>2309666.39</td>\n",
       "    </tr>\n",
       "    <tr>\n",
       "      <th>Field Production of CrudeOil (Thousand Barrels per Day)</th>\n",
       "      <td>-337714.44</td>\n",
       "      <td>1028556.17</td>\n",
       "      <td>-1.462023e+09</td>\n",
       "      <td>-4672049.89</td>\n",
       "      <td>-4.073858e+08</td>\n",
       "      <td>-2861729.34</td>\n",
       "      <td>-350163.73</td>\n",
       "      <td>-407914.76</td>\n",
       "    </tr>\n",
       "    <tr>\n",
       "      <th>Ending Stocks excluding SPR of CrudeOil (Thousand Barrels)</th>\n",
       "      <td>1445176.01</td>\n",
       "      <td>-12362050.78</td>\n",
       "      <td>6.882989e+08</td>\n",
       "      <td>17247913.23</td>\n",
       "      <td>8.229114e+08</td>\n",
       "      <td>2362033.94</td>\n",
       "      <td>54314.43</td>\n",
       "      <td>102377.84</td>\n",
       "    </tr>\n",
       "  </tbody>\n",
       "</table>\n",
       "</div>"
      ],
      "text/plain": [
       "                                                    Exports of Crude Oil (Thousand Barrels per Day)  \\\n",
       "Exports of Crude Oil (Thousand Barrels per Day)                                          -405872.54   \n",
       "Commercial Crude Oil Imports Excluding SPR (Tho...                                       -476086.59   \n",
       "Ending Stocks of Crude Oil and Petroleum Produc...                                       1010938.47   \n",
       "Field Production of CrudeOil (Thousand Barrels ...                                       -337714.44   \n",
       "Ending Stocks excluding SPR of CrudeOil (Thousa...                                       1445176.01   \n",
       "\n",
       "                                                    Commercial Crude Oil Imports Excluding SPR (Thousand Barrels per Day)  \\\n",
       "Exports of Crude Oil (Thousand Barrels per Day)                                            1948196.83                       \n",
       "Commercial Crude Oil Imports Excluding SPR (Tho...                                         3927530.06                       \n",
       "Ending Stocks of Crude Oil and Petroleum Produc...                                        -1258779.62                       \n",
       "Field Production of CrudeOil (Thousand Barrels ...                                         1028556.17                       \n",
       "Ending Stocks excluding SPR of CrudeOil (Thousa...                                       -12362050.78                       \n",
       "\n",
       "                                                    Ending Stocks of Crude Oil and Petroleum Products  (Thousand Barrels)  \\\n",
       "Exports of Crude Oil (Thousand Barrels per Day)                                         -1.483328e+09                       \n",
       "Commercial Crude Oil Imports Excluding SPR (Tho...                                      -1.488022e+09                       \n",
       "Ending Stocks of Crude Oil and Petroleum Produc...                                       8.177841e+09                       \n",
       "Field Production of CrudeOil (Thousand Barrels ...                                      -1.462023e+09                       \n",
       "Ending Stocks excluding SPR of CrudeOil (Thousa...                                       6.882989e+08                       \n",
       "\n",
       "                                                    Field Production of CrudeOil (Thousand Barrels per Day)  \\\n",
       "Exports of Crude Oil (Thousand Barrels per Day)                                           -5661084.60         \n",
       "Commercial Crude Oil Imports Excluding SPR (Tho...                                        -6719097.40         \n",
       "Ending Stocks of Crude Oil and Petroleum Produc...                                        16992778.38         \n",
       "Field Production of CrudeOil (Thousand Barrels ...                                        -4672049.89         \n",
       "Ending Stocks excluding SPR of CrudeOil (Thousa...                                        17247913.23         \n",
       "\n",
       "                                                    Ending Stocks excluding SPR of CrudeOil (Thousand Barrels)  \\\n",
       "Exports of Crude Oil (Thousand Barrels per Day)                                         -4.285119e+08            \n",
       "Commercial Crude Oil Imports Excluding SPR (Tho...                                      -4.447434e+08            \n",
       "Ending Stocks of Crude Oil and Petroleum Produc...                                       1.742681e+09            \n",
       "Field Production of CrudeOil (Thousand Barrels ...                                      -4.073858e+08            \n",
       "Ending Stocks excluding SPR of CrudeOil (Thousa...                                       8.229114e+08            \n",
       "\n",
       "                                                    Refiner Net Input of CrudeOil (Thousand Barrels per Day)  \\\n",
       "Exports of Crude Oil (Thousand Barrels per Day)                                           -2883878.42          \n",
       "Commercial Crude Oil Imports Excluding SPR (Tho...                                        -2233391.58          \n",
       "Ending Stocks of Crude Oil and Petroleum Produc...                                        13532083.13          \n",
       "Field Production of CrudeOil (Thousand Barrels ...                                        -2861729.34          \n",
       "Ending Stocks excluding SPR of CrudeOil (Thousa...                                         2362033.94          \n",
       "\n",
       "                                                    Cushing OK WTI Spot Price FOB (Dollars per Barrel)  \\\n",
       "Exports of Crude Oil (Thousand Barrels per Day)                                            -347436.54    \n",
       "Commercial Crude Oil Imports Excluding SPR (Tho...                                         -332401.95    \n",
       "Ending Stocks of Crude Oil and Petroleum Produc...                                         2004988.54    \n",
       "Field Production of CrudeOil (Thousand Barrels ...                                         -350163.73    \n",
       "Ending Stocks excluding SPR of CrudeOil (Thousa...                                           54314.43    \n",
       "\n",
       "                                                    Europe Brent Spot Price FOB (Dollars per Barrel)  \n",
       "Exports of Crude Oil (Thousand Barrels per Day)                                           -406584.55  \n",
       "Commercial Crude Oil Imports Excluding SPR (Tho...                                        -391967.96  \n",
       "Ending Stocks of Crude Oil and Petroleum Produc...                                        2309666.39  \n",
       "Field Production of CrudeOil (Thousand Barrels ...                                        -407914.76  \n",
       "Ending Stocks excluding SPR of CrudeOil (Thousa...                                         102377.84  "
      ]
     },
     "execution_count": 4,
     "metadata": {},
     "output_type": "execute_result"
    }
   ],
   "source": [
    "data_cov = dataset_center.cov()\n",
    "data_cov = data_cov - data_cov.mean()\n",
    "data_cov.round(2).head()"
   ]
  },
  {
   "cell_type": "markdown",
   "metadata": {},
   "source": [
    "<p> The problem with the above matrix is that it depends on the units of the variables, so it is difficult to see the relationship between variables with different units. This requires you to scale the data and find the correlation matrix; which not only provides you with how the variables are related (positively/negatively), but also the degree to which they are related to each other.</p>"
   ]
  },
  {
   "cell_type": "markdown",
   "metadata": {},
   "source": [
    "<p> <b>Note:</b> If the variables in your data set have the same units, you don't need to scale the data. This means that you can work with the covariance matrix.</p>"
   ]
  },
  {
   "cell_type": "markdown",
   "metadata": {},
   "source": [
    "<a id=\"Scaling Data\"></a>"
   ]
  },
  {
   "cell_type": "markdown",
   "metadata": {},
   "source": [
    "#### Scaling Data"
   ]
  },
  {
   "cell_type": "markdown",
   "metadata": {},
   "source": [
    "<p>Scaling the data to unit variance removes the problem of having variables with different dimensions. In addition, this ensures that we account for the variation of the instances, not for their magnitude. Below is the equation that describes this step:</p>"
   ]
  },
  {
   "cell_type": "markdown",
   "metadata": {},
   "source": [
    "$$ x_{i,j} = \\dfrac{{x_{i,j} - \\bar{x_{j}}}}{\\sqrt{\\sum_{i=1}^{N}\\dfrac{(x_{i,j} - \\bar{x_{j}})^2}{N}}} $$"
   ]
  },
  {
   "cell_type": "markdown",
   "metadata": {},
   "source": [
    "<p> where ${N}$ is the total number of rows, $\\bar{x}$ is the mean of column $j$, and $i$ and $j$ represent the row and column number, respectively. </p>"
   ]
  },
  {
   "cell_type": "code",
   "execution_count": 5,
   "metadata": {
    "collapsed": false,
    "scrolled": true
   },
   "outputs": [
    {
     "data": {
      "text/html": [
       "<div>\n",
       "<table border=\"1\" class=\"dataframe\">\n",
       "  <thead>\n",
       "    <tr style=\"text-align: right;\">\n",
       "      <th></th>\n",
       "      <th>Exports of Crude Oil</th>\n",
       "      <th>Imports Excluding SPR</th>\n",
       "      <th>Ending Stocks of Crude Oil</th>\n",
       "      <th>Field Production</th>\n",
       "      <th>Ending Stocks excluding SPR</th>\n",
       "      <th>Refiner Net Input</th>\n",
       "      <th>WTI Spot</th>\n",
       "      <th>Brent Spot</th>\n",
       "    </tr>\n",
       "  </thead>\n",
       "  <tbody>\n",
       "    <tr>\n",
       "      <th>Exports of Crude Oil</th>\n",
       "      <td>1.00</td>\n",
       "      <td>-0.46</td>\n",
       "      <td>0.15</td>\n",
       "      <td>0.78</td>\n",
       "      <td>0.55</td>\n",
       "      <td>0.12</td>\n",
       "      <td>-0.17</td>\n",
       "      <td>-0.15</td>\n",
       "    </tr>\n",
       "    <tr>\n",
       "      <th>Imports Excluding SPR</th>\n",
       "      <td>-0.46</td>\n",
       "      <td>1.00</td>\n",
       "      <td>-0.02</td>\n",
       "      <td>-0.69</td>\n",
       "      <td>-0.29</td>\n",
       "      <td>0.55</td>\n",
       "      <td>0.33</td>\n",
       "      <td>0.29</td>\n",
       "    </tr>\n",
       "    <tr>\n",
       "      <th>Ending Stocks of Crude Oil</th>\n",
       "      <td>0.15</td>\n",
       "      <td>-0.02</td>\n",
       "      <td>1.00</td>\n",
       "      <td>0.22</td>\n",
       "      <td>0.62</td>\n",
       "      <td>0.19</td>\n",
       "      <td>0.76</td>\n",
       "      <td>0.78</td>\n",
       "    </tr>\n",
       "    <tr>\n",
       "      <th>Field Production</th>\n",
       "      <td>0.78</td>\n",
       "      <td>-0.69</td>\n",
       "      <td>0.22</td>\n",
       "      <td>1.00</td>\n",
       "      <td>0.63</td>\n",
       "      <td>0.04</td>\n",
       "      <td>-0.10</td>\n",
       "      <td>-0.05</td>\n",
       "    </tr>\n",
       "    <tr>\n",
       "      <th>Ending Stocks excluding SPR</th>\n",
       "      <td>0.55</td>\n",
       "      <td>-0.29</td>\n",
       "      <td>0.62</td>\n",
       "      <td>0.63</td>\n",
       "      <td>1.00</td>\n",
       "      <td>0.17</td>\n",
       "      <td>0.36</td>\n",
       "      <td>0.41</td>\n",
       "    </tr>\n",
       "    <tr>\n",
       "      <th>Refiner Net Input</th>\n",
       "      <td>0.12</td>\n",
       "      <td>0.55</td>\n",
       "      <td>0.19</td>\n",
       "      <td>0.04</td>\n",
       "      <td>0.17</td>\n",
       "      <td>1.00</td>\n",
       "      <td>0.34</td>\n",
       "      <td>0.34</td>\n",
       "    </tr>\n",
       "    <tr>\n",
       "      <th>WTI Spot</th>\n",
       "      <td>-0.17</td>\n",
       "      <td>0.33</td>\n",
       "      <td>0.76</td>\n",
       "      <td>-0.10</td>\n",
       "      <td>0.36</td>\n",
       "      <td>0.34</td>\n",
       "      <td>1.00</td>\n",
       "      <td>0.99</td>\n",
       "    </tr>\n",
       "    <tr>\n",
       "      <th>Brent Spot</th>\n",
       "      <td>-0.15</td>\n",
       "      <td>0.29</td>\n",
       "      <td>0.78</td>\n",
       "      <td>-0.05</td>\n",
       "      <td>0.41</td>\n",
       "      <td>0.34</td>\n",
       "      <td>0.99</td>\n",
       "      <td>1.00</td>\n",
       "    </tr>\n",
       "  </tbody>\n",
       "</table>\n",
       "</div>"
      ],
      "text/plain": [
       "                             Exports of Crude Oil  Imports Excluding SPR  \\\n",
       "Exports of Crude Oil                         1.00                  -0.46   \n",
       "Imports Excluding SPR                       -0.46                   1.00   \n",
       "Ending Stocks of Crude Oil                   0.15                  -0.02   \n",
       "Field Production                             0.78                  -0.69   \n",
       "Ending Stocks excluding SPR                  0.55                  -0.29   \n",
       "Refiner Net Input                            0.12                   0.55   \n",
       "WTI Spot                                    -0.17                   0.33   \n",
       "Brent Spot                                  -0.15                   0.29   \n",
       "\n",
       "                             Ending Stocks of Crude Oil  Field Production  \\\n",
       "Exports of Crude Oil                               0.15              0.78   \n",
       "Imports Excluding SPR                             -0.02             -0.69   \n",
       "Ending Stocks of Crude Oil                         1.00              0.22   \n",
       "Field Production                                   0.22              1.00   \n",
       "Ending Stocks excluding SPR                        0.62              0.63   \n",
       "Refiner Net Input                                  0.19              0.04   \n",
       "WTI Spot                                           0.76             -0.10   \n",
       "Brent Spot                                         0.78             -0.05   \n",
       "\n",
       "                             Ending Stocks excluding SPR  Refiner Net Input  \\\n",
       "Exports of Crude Oil                                0.55               0.12   \n",
       "Imports Excluding SPR                              -0.29               0.55   \n",
       "Ending Stocks of Crude Oil                          0.62               0.19   \n",
       "Field Production                                    0.63               0.04   \n",
       "Ending Stocks excluding SPR                         1.00               0.17   \n",
       "Refiner Net Input                                   0.17               1.00   \n",
       "WTI Spot                                            0.36               0.34   \n",
       "Brent Spot                                          0.41               0.34   \n",
       "\n",
       "                             WTI Spot  Brent Spot  \n",
       "Exports of Crude Oil            -0.17       -0.15  \n",
       "Imports Excluding SPR            0.33        0.29  \n",
       "Ending Stocks of Crude Oil       0.76        0.78  \n",
       "Field Production                -0.10       -0.05  \n",
       "Ending Stocks excluding SPR      0.36        0.41  \n",
       "Refiner Net Input                0.34        0.34  \n",
       "WTI Spot                         1.00        0.99  \n",
       "Brent Spot                       0.99        1.00  "
      ]
     },
     "execution_count": 5,
     "metadata": {},
     "output_type": "execute_result"
    }
   ],
   "source": [
    "# Scale data, ddof is set to 0 since we are using N not (N-1); which is the default for std in pandas\n",
    "dataset_scale = (dataset_center)/(dataset_center.std(ddof = 1))\n",
    "# Correlation matrix\n",
    "data_corr = dataset_scale.corr()\n",
    "\n",
    "#Changing the names for the columns and indexes\n",
    "data_corr.columns = ['Exports of Crude Oil', 'Imports Excluding SPR', 'Ending Stocks of Crude Oil',\n",
    "                    'Field Production', 'Ending Stocks excluding SPR', 'Refiner Net Input', 'WTI Spot', 'Brent Spot' ]\n",
    "data_corr.index = ['Exports of Crude Oil', 'Imports Excluding SPR', 'Ending Stocks of Crude Oil',\n",
    "                    'Field Production', 'Ending Stocks excluding SPR', 'Refiner Net Input', 'WTI Spot', 'Brent Spot' ]\n",
    "\n",
    "data_corr.round(2)"
   ]
  },
  {
   "cell_type": "markdown",
   "metadata": {},
   "source": [
    "<a id=\"Mathematical Computation\"></a>"
   ]
  },
  {
   "cell_type": "markdown",
   "metadata": {},
   "source": [
    "### Mathematical Computation"
   ]
  },
  {
   "cell_type": "markdown",
   "metadata": {},
   "source": [
    "<p> The next step is to find the eigenvalues and eigenvectors of our matrix. But before doing so, we will need to go over some linear algebra concepts that are essential for understanding PCA. As mentioned in the introduction, PCA is a projection method that maps the data into a different space whose axes are called principal components (PC). In order to do so, eigendecomposition is applied to the covariance matrix (in our case, the correlation matrix):</p> "
   ]
  },
  {
   "cell_type": "markdown",
   "metadata": {},
   "source": [
    "$$Cov(X) = V\\Lambda V^{-1} $$"
   ]
  },
  {
   "cell_type": "markdown",
   "metadata": {},
   "source": [
    "<p>where $V$ is a square matrix whose rows represent the eigenvectors of $Cov(X)$, and $\\Lambda$ is a diagonal matrix whose diagonal elements are the eigenvalues of $Cov(X)$. The eigenvectors $v_{1}, v_{2},..., v_{n}$ are produced by the linear combination of the original variables $X_{1}, X_{2},..., X_{p}$ as shown below:</p>"
   ]
  },
  {
   "cell_type": "markdown",
   "metadata": {},
   "source": [
    "$$v_{n} = w_{n1}X_{1} + w_{n2}X_{2} + ... + w_{np}X_{p}$$"
   ]
  },
  {
   "cell_type": "markdown",
   "metadata": {},
   "source": [
    "<p> where $w_{np}$ represents the weight of each variable and the eigenvectors are the actual principal components.</p>"
   ]
  },
  {
   "cell_type": "code",
   "execution_count": 6,
   "metadata": {
    "collapsed": false
   },
   "outputs": [
    {
     "name": "stdout",
     "output_type": "stream",
     "text": [
      "Eigenvalues:\n",
      "[ 3.222  2.806  1.14   0.008  0.08   0.309  0.187  0.249]\n",
      "Eigenvectors:\n",
      "[[-0.104  0.492 -0.347 -0.042  0.192 -0.114  0.18   0.736]\n",
      " [-0.081 -0.5   -0.401 -0.018 -0.594 -0.412  0.162  0.184]\n",
      " [-0.498  0.044  0.234  0.013 -0.161 -0.159 -0.772  0.218]\n",
      " [-0.142  0.539 -0.133  0.03  -0.673  0.403  0.077 -0.222]\n",
      " [-0.387  0.335 -0.034  0.032  0.154 -0.652  0.223 -0.488]\n",
      " [-0.254 -0.149 -0.763  0.01   0.315  0.293 -0.276 -0.265]\n",
      " [-0.495 -0.214  0.172  0.693  0.073  0.246  0.341  0.129]\n",
      " [-0.505 -0.187  0.183 -0.718  0.054  0.244  0.311  0.047]]\n"
     ]
    }
   ],
   "source": [
    "# Finding eigenvalues(w) and eigenvectors(v)\n",
    "w, v = np.linalg.eig(data_corr)\n",
    "print \"Eigenvalues:\" \n",
    "print w.round(3)\n",
    "print \"Eigenvectors:\"\n",
    "print v.round(3)"
   ]
  },
  {
   "cell_type": "markdown",
   "metadata": {},
   "source": [
    "<p> The eigenvalues represent the amount of variation contained by each of the principal components. The purpose of finding these values is to obtain the number of components that provide a reasonable generalization of the entire data set; which would be less than the total number of variables in the data. In order to determine the number of components that account for the largest variation in our data set, the scree plot is implemented as shown in the chart below:  </p>"
   ]
  },
  {
   "cell_type": "code",
   "execution_count": 7,
   "metadata": {
    "collapsed": false
   },
   "outputs": [
    {
     "data": {
      "text/plain": [
       "<matplotlib.text.Text at 0xce219e8>"
      ]
     },
     "execution_count": 7,
     "metadata": {},
     "output_type": "execute_result"
    },
    {
     "data": {
      "image/png": "[encoded data removed]",
      "text/plain": [
       "<matplotlib.figure.Figure at 0xcc2ee10>"
      ]
     },
     "metadata": {},
     "output_type": "display_data"
    }
   ],
   "source": [
    "plt.figure(figsize=(16,10))\n",
    "# Scree Plot\n",
    "plt.subplot(221)\n",
    "plt.plot([1,2,3,4,5,6,7,8], w, 'ro-')\n",
    "plt.title('Scree Plot', fontsize=16, fontweight='bold')\n",
    "plt.xlabel('Principal Components', fontsize=14, fontweight='bold')\n",
    "plt.ylabel('Eigenvalues', fontsize=14, fontweight='bold')\n",
    "\n",
    "# Cumulative Explained Variation \n",
    "plt.subplot(222)\n",
    "plt.plot([1,2,3,4,5,6,7,8], (w*100/sum(w)).cumsum(), 'bo-')\n",
    "plt.title('Cumulative Explained Variation', fontsize=16, fontweight='bold')\n",
    "plt.xlabel('Principal Components', fontsize=14, fontweight='bold')\n",
    "plt.ylabel('Amount of Variation (%)', fontsize=14, fontweight='bold')"
   ]
  },
  {
   "cell_type": "markdown",
   "metadata": {},
   "source": [
    "<p> As you can see in the scree plot, the value of the eigenvalues drop significantly between PC3 and PC4 and it is not very clear how many components represent the data set. As a result, the cumulative explained variation is plotted and it clearly shows that the first 3 components account for approximately 90% of the variation of the data. <br>\n",
    "Now that we have determined the number of PCs, we can map the scale data into the new coordinate system governed by the principal components. This mapped dataset is called in PCA, the scores:</p>"
   ]
  },
  {
   "cell_type": "markdown",
   "metadata": {},
   "source": [
    "$$ scores = XV^{T} $$"
   ]
  },
  {
   "cell_type": "markdown",
   "metadata": {},
   "source": [
    "<p>where $V$ is a matrix with the number of PCs that explain most of the variation of the data. For visualization purposes, we will only use the first two components which account for ~ 75% of the total variation.</p>"
   ]
  },
  {
   "cell_type": "code",
   "execution_count": 27,
   "metadata": {
    "collapsed": false
   },
   "outputs": [
    {
     "data": {
      "text/plain": [
       "array([[ 1.28881571,  2.58539236],\n",
       "       [ 1.23529003,  2.63038672],\n",
       "       [ 1.29608702,  3.35400166],\n",
       "       ..., \n",
       "       [-3.39489928,  4.92057914],\n",
       "       [-3.45961704,  4.93657062],\n",
       "       [-3.35244805,  4.98731342]])"
      ]
     },
     "execution_count": 27,
     "metadata": {},
     "output_type": "execute_result"
    }
   ],
   "source": [
    "# Scores\n",
    "scores = (dataset_scale.as_matrix()).dot(v[:,:2])\n",
    "scores"
   ]
  },
  {
   "cell_type": "markdown",
   "metadata": {},
   "source": [
    "<p>Having the scores allows us to observe the direction of the principal components in the x-y axis as shown in the following graph:</p>"
   ]
  },
  {
   "cell_type": "code",
   "execution_count": 33,
   "metadata": {
    "collapsed": false
   },
   "outputs": [
    {
     "data": {
      "text/plain": [
       "<matplotlib.legend.Legend at 0x24bf9e80>"
      ]
     },
     "execution_count": 33,
     "metadata": {},
     "output_type": "execute_result"
    },
    {
     "data": {
      "image/png": "[encoded data removed]",
      "text/plain": [
       "<matplotlib.figure.Figure at 0x226e6208>"
      ]
     },
     "metadata": {},
     "output_type": "display_data"
    }
   ],
   "source": [
    "plt.figure(figsize=(10,8))\n",
    "\n",
    "# Principal Components\n",
    "pc1 = v[:, 0]\n",
    "pc2 = v[:, 1]\n",
    "\n",
    "pc1x = []\n",
    "pc2x = []\n",
    "pc1y = []\n",
    "pc2y = []\n",
    "\n",
    "# Plotting the scaled data and getting the values of the PCs\n",
    "for ii, jj in zip(scores, dataset_scale.as_matrix()):\n",
    "    pc1x.append(pc1[0]*ii[0]), pc1y.append(pc1[1]*ii[0])\n",
    "    pc2x.append(pc2[0]*ii[1]), pc2y.append(pc2[1]*ii[1])\n",
    "    plt.scatter(jj[0], jj[1], color = 'b', marker = 'o')\n",
    "\n",
    "# Fitting PC1 as a line\n",
    "fit_pc1 = np.polyfit(pc1x, pc1y, 1)\n",
    "line_pc1 = np.poly1d(fit_pc1)\n",
    "new_points_pc1 = np.arange(-2,4)\n",
    "plt.plot(new_points_pc1, line_pc1(new_points_pc1), 'g-', label= \"PC1\")\n",
    "\n",
    "# Fitting PC2 as a line\n",
    "fit_pc2 = np.polyfit(pc2x, pc2y, 1)\n",
    "line_pc2 = np.poly1d(fit_pc2)\n",
    "new_points_pc2 = np.arange(-2,4)\n",
    "plt.plot(new_points_pc2, line_pc2(new_points_pc2), 'r-', label= \"PC2\")\n",
    "\n",
    "plt.xlim([-2, 3])\n",
    "plt.ylim([-3, 2])\n",
    "plt.title('Scaled Data with the Principal Components', fontsize=16, fontweight='bold')\n",
    "plt.xlabel('Exports of Crude Oil', fontsize=14, fontweight='bold')\n",
    "plt.ylabel('Imports Excluding SPR', fontsize=14, fontweight='bold')\n",
    "plt.legend(prop={'size':13, 'weight':'bold'}, frameon=True)"
   ]
  },
  {
   "cell_type": "markdown",
   "metadata": {},
   "source": [
    "<p>As you can see above, the principal components are orthogonal (perpendicular) to each other, which is expected as this is an attribute of eigenvectors. Visually, PC1 and PC2 seem to capture a similar amount of variation and this correlates with the eigenvalues obtained whose values are 3.222 and 2.806 for PC1 and PC2, respectively.</p>"
   ]
  },
  {
   "cell_type": "markdown",
   "metadata": {},
   "source": [
    "<p>Now we will use the most important visualization plot of PCA, called the biplot. Here we will plot the scores along with the weights of the principal components, which are also called the loadings and represent the direction of the variables of $X$. The scores are plotted as data points, while the loadings will be plotted as vectors</p>"
   ]
  },
  {
   "cell_type": "code",
   "execution_count": 28,
   "metadata": {
    "collapsed": false
   },
   "outputs": [
    {
     "data": {
      "image/png": "[encoded data removed]",
      "text/plain": [
       "<matplotlib.figure.Figure at 0x18d9d358>"
      ]
     },
     "metadata": {},
     "output_type": "display_data"
    }
   ],
   "source": [
    "plt.figure(figsize=(10,8))\n",
    "for i in scores:\n",
    "    plt.scatter(i[0], i[1], color = 'b')\n",
    "\n",
    "plt.xlim([-5, 3])\n",
    "plt.ylim([-6, 4])\n",
    "plt.title('Biplot', fontsize=16, fontweight='bold')\n",
    "plt.xlabel('PC1 (40.3%)', fontsize=14, fontweight='bold')\n",
    "plt.ylabel('PC2 (35.1%)', fontsize=14, fontweight='bold')\n",
    "\n",
    "# Labels for the loadings\n",
    "names  = list(data_corr.columns)\n",
    "#Transposing the eigenvectors\n",
    "v_t = v[:,:2]\n",
    "pc_1 = v_t[:, 0]\n",
    "pc_2 = v_t[:, 1]\n",
    "\n",
    "# Plotting the loadings as vectors\n",
    "# The vectors are multiply by 4 due to visualization purposes\n",
    "for i in range(len(pc_1)):\n",
    "    plt.arrow(0, 0, pc_1[i]*5, pc_2[i]*5, color='r', width=0.002, head_width=0.045)\n",
    "    plt.text(pc_1[i]*5, pc_2[i]*5, names[i], color='r')"
   ]
  },
  {
   "cell_type": "markdown",
   "metadata": {},
   "source": [
    "<p>As you can see above, some of the variables are close to each other and this means that they are strongly related to one another. The actual correlation can be obtained by calculating the cosine of the angle between the variables. In addition, you can look back at the correlation matrix to see if those variables have a strong correlation. For example, the WTI and Brent spot prices vectors are very close to each other and their correlation value in the correlation matrix is 99%. The data points on the right-hand side of the plot, will certainly have low values as they are in the opposite direction of the variables.</p>"
   ]
  },
  {
   "cell_type": "markdown",
   "metadata": {},
   "source": [
    "<a id=\"PCA with sklearn\"></a>"
   ]
  },
  {
   "cell_type": "markdown",
   "metadata": {},
   "source": [
    "### PCA with sklearn"
   ]
  },
  {
   "cell_type": "markdown",
   "metadata": {},
   "source": [
    "<p>On this section, we will apply PCA directly to the scaled data using the sklearn decomposition library. First, define the number of components that you want (from the previous section, we found that 3 components explained most of the variation of the data, but 2 were chosen for visualization purposes).</p>"
   ]
  },
  {
   "cell_type": "code",
   "execution_count": 17,
   "metadata": {
    "collapsed": true
   },
   "outputs": [],
   "source": [
    "pca = PCA(n_components=2)"
   ]
  },
  {
   "cell_type": "markdown",
   "metadata": {},
   "source": [
    "<p>Second, fit the scaled data to PCA to find the eigenvalues and eigenvectors</p>"
   ]
  },
  {
   "cell_type": "code",
   "execution_count": 18,
   "metadata": {
    "collapsed": false
   },
   "outputs": [
    {
     "name": "stdout",
     "output_type": "stream",
     "text": [
      "Eigenvectors:\n",
      "[[-0.10390372 -0.08094858 -0.4979827  -0.14178406 -0.38709197 -0.25433889\n",
      "  -0.4946933  -0.50528402]\n",
      " [-0.49233521  0.49995417 -0.04365996 -0.53907923 -0.33467661  0.14923826\n",
      "   0.21430968  0.18689607]]\n",
      "\n",
      "Eigenvalues:\n",
      "[ 3.21945411  2.80348497]\n",
      "\n",
      "Amount of variance explained per component (%)\n",
      "[ 40.27451837  35.07085462]\n"
     ]
    }
   ],
   "source": [
    "pca.fit(dataset_scale.as_matrix())\n",
    "# Eigenvectors\n",
    "print \"Eigenvectors:\"\n",
    "print pca.components_\n",
    "print \n",
    "# Eigenvalues\n",
    "print \"Eigenvalues:\"\n",
    "print pca.explained_variance_\n",
    "print \n",
    "# Variance explained\n",
    "print \"Amount of variance explained per component (%)\"\n",
    "print pca.explained_variance_ratio_*100"
   ]
  },
  {
   "cell_type": "markdown",
   "metadata": {},
   "source": [
    "<p> This is also a good way to check if our procedure was correct. If you look back into the <a href=\"#Mathematical Computation\"> Mathematical Computation </a>section, you will see that the values match! Next, apply dimensionality reduction to the data to obtain the scores. </p>"
   ]
  },
  {
   "cell_type": "code",
   "execution_count": 19,
   "metadata": {
    "collapsed": false
   },
   "outputs": [
    {
     "name": "stdout",
     "output_type": "stream",
     "text": [
      "[[ 1.28881571 -2.58539236]\n",
      " [ 1.23529003 -2.63038672]\n",
      " [ 1.29608702 -3.35400166]\n",
      " ..., \n",
      " [-3.39489928 -4.92057914]\n",
      " [-3.45961704 -4.93657062]\n",
      " [-3.35244805 -4.98731342]]\n"
     ]
    }
   ],
   "source": [
    "# Apply dimensionality reduction (Finding the scores)\n",
    "scores_sk = pca.transform(dataset_scale.as_matrix())\n",
    "print scores_sk"
   ]
  },
  {
   "cell_type": "markdown",
   "metadata": {},
   "source": [
    "<p>Last, get the biplot with the values obtained in this section. </p>"
   ]
  },
  {
   "cell_type": "code",
   "execution_count": 17,
   "metadata": {
    "collapsed": false
   },
   "outputs": [
    {
     "data": {
      "image/png": "[encoded data removed]",
      "text/plain": [
       "<matplotlib.figure.Figure at 0x12754f60>"
      ]
     },
     "metadata": {},
     "output_type": "display_data"
    }
   ],
   "source": [
    "plt.figure(figsize=(10,8))\n",
    "for i in scores_sk:\n",
    "    plt.scatter(i[0], i[1], color = 'b')\n",
    "\n",
    "# Assigning the PCs \n",
    "pc1_sk = pca.components_[0]\n",
    "pc2_sk = pca.components_[1]\n",
    "    \n",
    "plt.title('Biplot', fontsize=16, fontweight='bold')\n",
    "plt.xlabel('PC1 (40.3%)', fontsize=14, fontweight='bold')\n",
    "plt.ylabel('PC2 (35.1%)', fontsize=14, fontweight='bold')\n",
    "plt.xlim([-5, 3])\n",
    "plt.ylim([-6, 4])\n",
    "\n",
    "# Labels for the loadings\n",
    "names  = list(data_corr.columns)\n",
    "\n",
    "# Plotting the loadings as vectors \n",
    "for i in range(len(pc1_sk)):\n",
    "    plt.arrow(0, 0, pc1_sk[i]*5, pc2_sk[i]*5, color='r', width=0.002, head_width=0.025)\n",
    "    plt.text(pc1_sk[i]*5, pc2_sk[i]*5, names[i], color='r')"
   ]
  },
  {
   "cell_type": "markdown",
   "metadata": {},
   "source": [
    "<a id=\"Summary\"></a>"
   ]
  },
  {
   "cell_type": "markdown",
   "metadata": {},
   "source": [
    "### Summary"
   ]
  },
  {
   "cell_type": "markdown",
   "metadata": {},
   "source": [
    "<p>Principal component analysis is a powerful technique that allows you to find the hidden patterns and correlations of a data set through dimensionality reduction. Dimensionality reduction is accomplished by finding the eigenvectors that explain the largest variance of the data. In practice, the first two components usually account for most of the variation of the data. To visualize the data in the coordinate system governed by the principal components, the biplot is implemented. This visualization plot allows to see the correlations between the new data (or rotated data) as data points along with the variables of the original data set as vectors. \n",
    "On this tutorial, PCA was implemented step by step with the only purpose of given the reader a deep understanding of this technique. Then, the sklearn library for PCA was used to compare the results.</p>"
   ]
  },
  {
   "cell_type": "markdown",
   "metadata": {},
   "source": [
    "<a id=\"References\"></a>"
   ]
  },
  {
   "cell_type": "markdown",
   "metadata": {
    "collapsed": true
   },
   "source": [
    "### References"
   ]
  },
  {
   "cell_type": "markdown",
   "metadata": {},
   "source": [
    "<ol style=\"1\" margin-top=\"-10px\">\n",
    "    <li> <a href=https://datajobs.com/data-science-repo/PCA-Tutorial-[Shlens].pdf> A Tutorial on Principal Component Analysis</a></li>\n",
    "    <li><a href=https://www.researchgate.net/profile/Kim_Esbensen/publication/222347483_Principal_Component_Analysis/links/00b4952c66e796fc2d000000.pdf> Principal Component Analysis </a></li>\n",
    "    <li> <a href=http://scikit-learn.org/stable/modules/generated/sklearn.decomposition.PCA.html> sklearn library for PCA</a></li>\n",
    "    <li><a href=http://www.wiley.com/WileyCDA/WileyTitle/productCd-0471489786.html>\n",
    "    Chemometrics: Data Analysis for the Laboratory and Chemical Plant</a></li>\n",
    "    <li><a href=https://www.youtube.com/watch?v=5zk93CpKYhg> PCA tutorial in R </a></li>\n",
    "</ol>"
   ]
  }
 ],
 "metadata": {
  "anaconda-cloud": {},
  "kernelspec": {
   "display_name": "Python [Root]",
   "language": "python",
   "name": "Python [Root]"
  },
  "language_info": {
   "codemirror_mode": {
    "name": "ipython",
    "version": 2
   },
   "file_extension": ".py",
   "mimetype": "text/x-python",
   "name": "python",
   "nbconvert_exporter": "python",
   "pygments_lexer": "ipython2",
   "version": "2.7.12"
  }
 },
 "nbformat": 4,
 "nbformat_minor": 0
}
