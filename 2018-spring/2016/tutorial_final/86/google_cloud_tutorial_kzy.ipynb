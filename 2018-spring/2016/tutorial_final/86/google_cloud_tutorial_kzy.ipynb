{
 "cells": [
  {
   "cell_type": "markdown",
   "metadata": {},
   "source": [
    "# Google Cloud Platform Tutorial\n",
    "## Introduction\n",
    "\n",
    "The Google Cloud Platform follows a Software as a Service (SaaS) model to provide cloud computing resources to clients. Cloud computing is basically computing (storing, managing, processing data) from a remote server hosted on the internet, in contrast to computing on a local computer. Cloud computing provides a lot of benefits, including allowing clients to abstract away from server issues and focus on their attention on the specific problem they are working on. The Google Cloud Platform appears to be very reliable, as they are trusted by reputable companies such as Spotify, Snapchat, and NY Times, just to name a few.\n",
    "\n",
    "It turns out that the Google Cloud Platform is extremely powerful for data scientists. In one case, data scientists can use the platform to store and quickly access huge datasets, without ever having to worry about server infrastructure. The Google BigQuery application, which is designed for large-scale data analysis, is an example of this. Other incredibly useful services include Cloud Machine Learning, Natural Language API, Cloud Datalab (which is like a Jupyter notebook!), among many others (see: https://cloud.google.com/data-science/).\n",
    "\n",
    "In this tutorial, we will discuss and demonstrate the use of the Google Cloud Platform for data science applications, particularly natural language processing. We will first walk through the set-up process, then run our data on the Natural Langugae API, and finally analyze our results. Since our main focus is on the Cloud library (and not data collection), we will use the Twitter dataset from homework 2 and 3.\n",
    " \n",
    "\n"
   ]
  },
  {
   "cell_type": "markdown",
   "metadata": {},
   "source": [
    "## 1. Set-Up: Authentication and Installation\n",
    "Since we are working with a SaaS API, the set-up may be a bit of a hassle. In particular, we have to register for an account to get API keys. Google claims that we will not be charged during the 60-day free trial period (and there are no recurring charges), though a credit card is needed to verify identity (see: https://cloud.google.com/free-trial/). Creating an account should not be necessary to follow this tutorial, although the code will most likely not run otherwise. Only make an account if you feel comfortable doing so! \n",
    "\n",
    "### Authentication\n",
    "First, we go to https://cloud.google.com/free-trial/ to start our free trial. On the dashboard, click on the box with the header 'Use Google APIs.' On the left panel, click 'Credentials' and then 'Create credentials' with the 'Service Account Key' option. Choose 'App Engine Service Default Account,' and make sure that you create a .json file. After the credentials file is create, we need to set our local environment variable GOOGLE_APPLICATION_CREDENTIALS to the filepath to our json file. We will do this in python code below. Finally, be sure to enable the Natural Language Processing API. We can do this by clicking on API Manager, then the 'Enable API' button, and then a search for the 'Google Cloud Natural Language API.' On the Natural Language API page, click \"Enable!\"\n",
    "\n",
    "### Installation\n",
    "Next, we need to install the Google API Python Client. We can do this easily with pip, with the command \"pip install --upgrade google-api--python-client\" in our terminal. Other methods of installation can be found at https://developers.google.com/api-client-library/python/start/installation.\n",
    "\n",
    "Now that we have finished these two steps, we will write an authentication function below that returns a service object. Please replace the global string config_filepath with the filepath to your config JSON file.\n"
   ]
  },
  {
   "cell_type": "code",
   "execution_count": 42,
   "metadata": {
    "collapsed": false
   },
   "outputs": [],
   "source": [
    "# NOTE: Some code adapted from Google's Sentiment Analysis Tutorial\n",
    "\n",
    "from googleapiclient import discovery\n",
    "import httplib2\n",
    "from oauth2client.client import GoogleCredentials\n",
    "import sys,os,os.path\n",
    "\n",
    "# REPLACE THIS WITH YOUR CONFIG FILEPATH!\n",
    "config_filepath = \"/Users/kevinyang/Documents/15388/tutorial/app_engine_defaults_credentials.json\"\n",
    "\n",
    "# Set Environment Variable\n",
    "os.environ['GOOGLE_APPLICATION_CREDENTIALS'] = config_filepath\n",
    "\n",
    "DISCOVERY_URL = ('https://{api}.googleapis.com/'\n",
    "                 '$discovery/rest?version={apiVersion}')\n",
    "\n",
    "def authenticate():\n",
    "    '''Authenticate using GoogleCredentials and return service object'''\n",
    "    http = httplib2.Http()\n",
    "    credentials = GoogleCredentials.get_application_default().create_scoped(\n",
    "      ['https://www.googleapis.com/auth/cloud-platform'])\n",
    "    http=httplib2.Http()\n",
    "    credentials.authorize(http)\n",
    "    service = discovery.build('language', 'v1beta1',\n",
    "                            http=http, discoveryServiceUrl=DISCOVERY_URL)\n",
    "    return service\n",
    "    "
   ]
  },
  {
   "cell_type": "markdown",
   "metadata": {},
   "source": [
    "## 2. Natural Language Processing\n",
    "Now that we have finally finished setting up our system, we can move on to actually using our new API! Google's Natural Language Processing API has three main features: entity recognition, sentiment analysis, and syntax analysis. Entity recognition identifies entities, i.e. people, places, events, and the like. Sentiment analysis is focused on subjective aspects of text, and Google's API represents this in the form of polarity and magnitude. Syntax analysis analyzes the grammatical structure of text, for example by labeling nouns and verbs. In this tutorial, we will focus on sentiment analysis and entity recognition.\n",
    "\n",
    "### Our First API Call: Sentiment Analysis\n",
    "Below, we will write a function called process that takes in a string and returns the  sentiment analysis from Google's API. "
   ]
  },
  {
   "cell_type": "code",
   "execution_count": 43,
   "metadata": {
    "collapsed": false
   },
   "outputs": [],
   "source": [
    "# NOTE: Some code adapted from Google's Sentiment Analysis Tutorial\n",
    "\n",
    "def analyze_sentiment(text):\n",
    "    \"\"\" Run sentiment analysis on text\n",
    "    Inputs:\n",
    "        text (string): text to be analyzed\n",
    "    Outputs:\n",
    "        JSON Object: Object containing sentiment analysis response\n",
    "    \"\"\"\n",
    "    service = authenticate()\n",
    "    \n",
    "    service_request = service.documents().analyzeSentiment(\n",
    "    body={\n",
    "      'document': {\n",
    "         'type': 'PLAIN_TEXT',\n",
    "         'content': text,\n",
    "      }\n",
    "    })\n",
    "    \n",
    "    response = service_request.execute()\n",
    "    \n",
    "    return response"
   ]
  },
  {
   "cell_type": "code",
   "execution_count": 44,
   "metadata": {
    "collapsed": false,
    "scrolled": false
   },
   "outputs": [
    {
     "name": "stdout",
     "output_type": "stream",
     "text": [
      "RESPONSE JSON: {u'documentSentiment': {u'polarity': 1, u'magnitude': 0.9}, u'language': u'en'}\n",
      "Sentiment: polarity of 1 with magnitude of 0.9\n",
      "Language: en\n"
     ]
    }
   ],
   "source": [
    "# TEST analyze_sentiment\n",
    "response = analyze_sentiment(\"I love this API!\")\n",
    "print \"RESPONSE JSON:\", response\n",
    "polarity = response['documentSentiment']['polarity']\n",
    "magnitude = response['documentSentiment']['magnitude']\n",
    "language = response['language']\n",
    "print('Sentiment: polarity of %s with magnitude of %s' % (polarity, magnitude))\n",
    "print('Language: %s' % (language))\n"
   ]
  },
  {
   "cell_type": "markdown",
   "metadata": {
    "collapsed": true
   },
   "source": [
    "Awesome! From our output, we can see that the sentence `\"I love this API!\"` has a polarity of 1 and a magnitude of 0.5. Polarity ranges from -1 (very negative) to +1 (very positive), and magnitude ranges from 0 to infinity. Polarity describes the sentiment, whereas magnitude describes the strength of the sentiment, regardless of what the sentiment actually is. This means that this sentence is very positive (polarity of 1), and that this positive sentiment has a strength of 0.5. Furthermore, we see that the API was able to recognize that we are writing in English. According to the documentation, Google's NLP API is able to handle English, Spanish, and Japanese inputs, although sentiment analysis currently only works on English."
   ]
  },
  {
   "cell_type": "markdown",
   "metadata": {
    "collapsed": true
   },
   "source": [
    "### Entity Recognition\n",
    "Similarly, we can create a function that recognizes entities. According to the Google documentation, there are exactly 8 kinds of classifications: Unknown, Person, Location, Organization, Event, Work of Art, Consumer goods, and Other Types. Below, we will write a function called `recognize_entity` that takes in a string and returns Google's entity analysis."
   ]
  },
  {
   "cell_type": "code",
   "execution_count": 45,
   "metadata": {
    "collapsed": true
   },
   "outputs": [],
   "source": [
    "def recognize_entity(text):\n",
    "    \"\"\" Run entity recognition on text\n",
    "    Inputs:\n",
    "        text (string): text to be analyzed\n",
    "    Outputs:\n",
    "        JSON Object: Object containing entity recognition response\n",
    "    \"\"\"\n",
    "    service = authenticate()\n",
    "    \n",
    "    service_request = service.documents().analyzeEntities(\n",
    "    body={\n",
    "      'document': {\n",
    "         'type': 'PLAIN_TEXT',\n",
    "         'content': text,\n",
    "      }\n",
    "    })\n",
    "    \n",
    "    response = service_request.execute()\n",
    "    \n",
    "    return response"
   ]
  },
  {
   "cell_type": "code",
   "execution_count": 46,
   "metadata": {
    "collapsed": false,
    "scrolled": true
   },
   "outputs": [
    {
     "name": "stdout",
     "output_type": "stream",
     "text": [
      "[{u'salience': 0.38069808, u'mentions': [{u'text': {u'content': u'Google', u'beginOffset': -1}}], u'type': u'ORGANIZATION', u'name': u'Google', u'metadata': {u'wikipedia_url': u'http://en.wikipedia.org/wiki/Google'}}, {u'salience': 0.12342409, u'mentions': [{u'text': {u'content': u'Kevin', u'beginOffset': -1}}], u'type': u'PERSON', u'name': u'Kevin', u'metadata': {}}, {u'salience': 0.057269711, u'mentions': [{u'text': {u'content': u'Pittsburgh', u'beginOffset': -1}}], u'type': u'LOCATION', u'name': u'Pittsburgh', u'metadata': {u'wikipedia_url': u'http://en.wikipedia.org/wiki/Pittsburgh'}}, {u'salience': 0.043095242, u'mentions': [{u'text': {u'content': u'CMU', u'beginOffset': -1}}], u'type': u'ORGANIZATION', u'name': u'CMU', u'metadata': {u'wikipedia_url': u'http://en.wikipedia.org/wiki/Carnegie_Mellon_University'}}]\n"
     ]
    }
   ],
   "source": [
    "# Test recognize_entity\n",
    "response = recognize_entity(\"Google's API is useful for Kevin's CMU project in Pittsburgh\");\n",
    "print response[\"entities\"]"
   ]
  },
  {
   "cell_type": "markdown",
   "metadata": {},
   "source": [
    "Success! The output printed above is a list of JSON objects, each representing an entity. We see that the model was able to recognize the organizations Google and CMU (Carnegie Mellon), the person Kevin, and the location Pittsburgh. The salience describes the importance of the entity as a number in the range [0, 1.0]. In the metadata, we notice that Google provides a Wikipedia URL to the entity it found. The mentions is a JSON list containing each mention of the entity and its position.  \n",
    "\n",
    "Immediately, we can see the value of the google api client. Instead of constructing our own models, we can choose to rely on Google's models to develop analyses quickly. Further, using the API we were able to correctly identify and classify each entity in our test sentence, even acronyms like CMU. Furthermore, Google provides us with a salience value for us to better evaluate the entity structures of sentences."
   ]
  },
  {
   "cell_type": "markdown",
   "metadata": {},
   "source": [
    "## 3. Putting Everything Together: Processing and Analysis\n",
    "Now that we have functions that can properly call the API, the next step toward mastering the API usage is effectively processing and parsing the output. The API response variables are given as JSON objects, so we can need to make sure our functions parse the JSON results properly. Our goal is to be able to analyze the tweets in the file `tweets.csv`, so first we would like to convert the csv into a pandas dataframe. Afterwards, we will then write functions that, given a dataframe containing the screen_name and text, creates new columns corresponding to our language processing."
   ]
  },
  {
   "cell_type": "code",
   "execution_count": 56,
   "metadata": {
    "collapsed": false
   },
   "outputs": [
    {
     "name": "stdout",
     "output_type": "stream",
     "text": [
      "       screen_name                      created_at  retweet_count  \\\n",
      "0  realDonaldTrump  Fri Sep 09 02:00:32 +0000 2016           2859   \n",
      "1  realDonaldTrump  Fri Sep 09 00:39:36 +0000 2016           6463   \n",
      "2  realDonaldTrump  Thu Sep 08 23:56:22 +0000 2016           5405   \n",
      "3  realDonaldTrump  Thu Sep 08 19:52:32 +0000 2016          11633   \n",
      "4  realDonaldTrump  Thu Sep 08 18:17:01 +0000 2016           3824   \n",
      "\n",
      "   favorite_count                                               text  \n",
      "0            7030  Final poll results from NBC on last nights Com...  \n",
      "1           17951  It wasn't Matt Lauer that hurt Hillary last ni...  \n",
      "2           13223  More poll results from last nights Commander-i...  \n",
      "3           27028  Last nights results - in poll taken by NBC. #A...  \n",
      "4           12567  With Luis, Mexico and the United States would ...  \n",
      "    screen_name                      created_at  retweet_count  \\\n",
      "114  mike_pence  Sat Sep 17 18:24:18 +0000 2016            574   \n",
      "115  mike_pence  Sat Sep 17 17:31:11 +0000 2016            866   \n",
      "116  mike_pence  Fri Sep 16 21:30:27 +0000 2016           1026   \n",
      "117  mike_pence  Fri Sep 16 00:39:23 +0000 2016            494   \n",
      "118  mike_pence  Thu Sep 15 23:43:25 +0000 2016           1184   \n",
      "\n",
      "     favorite_count                                               text  \n",
      "114            1221  Happy #ConstitutionDay2016! This Nov let's ele...  \n",
      "115            1973  Our thoughts &amp; prayers for the @PhillyPoli...  \n",
      "116            2718  Looking forward to a great rally at The Villag...  \n",
      "117               0  RT @marc_lotter: Gov @mike_pence goes one-on-o...  \n",
      "118            2952  This #HispanicHeritage month we recognize the ...  \n"
     ]
    }
   ],
   "source": [
    "import pandas as pd\n",
    "\n",
    "tweets = pd.read_csv(\"tweets.csv\", na_filter=True)\n",
    "\n",
    "# Get tweets from donald trump and mike pence\n",
    "donald_tweets = tweets.loc[tweets['screen_name'] == \"realDonaldTrump\"]\n",
    "pence_tweets = tweets.loc[tweets['screen_name'] == \"mike_pence\"]\n",
    "\n",
    "print donald_tweets.head()\n",
    "print pence_tweets.head()"
   ]
  },
  {
   "cell_type": "code",
   "execution_count": 57,
   "metadata": {
    "collapsed": false
   },
   "outputs": [],
   "source": [
    "import numpy as np\n",
    "\n",
    "def process_sentiment(tweets_df):\n",
    "    \"\"\" Processes tweets and creates new columns polarity and magnitude\n",
    "    Inputs:\n",
    "        tweets_df: dataframe of tweets containing screen_name and text\n",
    "    Outputs:\n",
    "        Pd.dataframe: dataframe with new columns containing processed results\n",
    "    \"\"\"\n",
    "    polList = []\n",
    "    magList = []\n",
    "    \n",
    "    for (index,row) in tweets_df.iterrows():\n",
    "        curr_tweet = row[\"text\"]\n",
    "        try:\n",
    "            sentiment_resp = analyze_sentiment(curr_tweet)\n",
    "        except:\n",
    "            # on error, add None values to be removed later\n",
    "            polList.append(None)\n",
    "            magList.append(None)\n",
    "            continue\n",
    "            \n",
    "        curr_pol = sentiment_resp['documentSentiment']['polarity']\n",
    "        curr_mag = sentiment_resp['documentSentiment']['magnitude']\n",
    "        \n",
    "        polList.append(curr_pol)\n",
    "        magList.append(curr_mag)\n",
    "        \n",
    "    # add new columns\n",
    "    tweets_df = tweets_df.assign(polarity = polList)\n",
    "    tweets_df = tweets_df.assign(magnitude = magList)\n",
    "    return tweets_df.dropna() # remove rows with None"
   ]
  },
  {
   "cell_type": "code",
   "execution_count": 58,
   "metadata": {
    "collapsed": false
   },
   "outputs": [
    {
     "name": "stdout",
     "output_type": "stream",
     "text": [
      "       screen_name                      created_at  retweet_count  \\\n",
      "0  realDonaldTrump  Fri Sep 09 02:00:32 +0000 2016           2859   \n",
      "1  realDonaldTrump  Fri Sep 09 00:39:36 +0000 2016           6463   \n",
      "2  realDonaldTrump  Thu Sep 08 23:56:22 +0000 2016           5405   \n",
      "3  realDonaldTrump  Thu Sep 08 19:52:32 +0000 2016          11633   \n",
      "4  realDonaldTrump  Thu Sep 08 18:17:01 +0000 2016           3824   \n",
      "\n",
      "   favorite_count                                               text  \\\n",
      "0            7030  Final poll results from NBC on last nights Com...   \n",
      "1           17951  It wasn't Matt Lauer that hurt Hillary last ni...   \n",
      "2           13223  More poll results from last nights Commander-i...   \n",
      "3           27028  Last nights results - in poll taken by NBC. #A...   \n",
      "4           12567  With Luis, Mexico and the United States would ...   \n",
      "\n",
      "   polarity  magnitude  \n",
      "0       1.0        1.8  \n",
      "1      -0.9        0.9  \n",
      "2       1.0        0.8  \n",
      "3       1.0        0.6  \n",
      "4       1.0        0.9  \n",
      "    screen_name                      created_at  retweet_count  \\\n",
      "114  mike_pence  Sat Sep 17 18:24:18 +0000 2016            574   \n",
      "115  mike_pence  Sat Sep 17 17:31:11 +0000 2016            866   \n",
      "116  mike_pence  Fri Sep 16 21:30:27 +0000 2016           1026   \n",
      "117  mike_pence  Fri Sep 16 00:39:23 +0000 2016            494   \n",
      "118  mike_pence  Thu Sep 15 23:43:25 +0000 2016           1184   \n",
      "\n",
      "     favorite_count                                               text  \\\n",
      "114            1221  Happy #ConstitutionDay2016! This Nov let's ele...   \n",
      "115            1973  Our thoughts &amp; prayers for the @PhillyPoli...   \n",
      "116            2718  Looking forward to a great rally at The Villag...   \n",
      "117               0  RT @marc_lotter: Gov @mike_pence goes one-on-o...   \n",
      "118            2952  This #HispanicHeritage month we recognize the ...   \n",
      "\n",
      "     polarity  magnitude  \n",
      "114       0.3        1.0  \n",
      "115       1.0        1.5  \n",
      "116       1.0        1.2  \n",
      "117       1.0        0.4  \n",
      "118       0.5        1.1  \n"
     ]
    }
   ],
   "source": [
    "processed_donald = process_sentiment(donald_tweets)\n",
    "print processed_donald.head()\n",
    "processed_pence = process_sentiment(pence_tweets)\n",
    "print processed_pence.head()\n"
   ]
  },
  {
   "cell_type": "markdown",
   "metadata": {
    "collapsed": true
   },
   "source": [
    "### Processing Entities\n",
    "For processing the entities mentioned in tweets, we might be interested in the aggregate usage of entities. Namely, we might want to determine which entities are cited most frequently, and which have the highest salience. For this, we will take advantage of the `recognize_entity` function we wrote earlier. We will write a function that takes in a dataframe and returns a dictionary containing the total salience of the entities mentioned. To make counting easier, we will use the `collections.Counter` data structure."
   ]
  },
  {
   "cell_type": "code",
   "execution_count": 50,
   "metadata": {
    "collapsed": false
   },
   "outputs": [],
   "source": [
    "from collections import Counter\n",
    "\n",
    "def count_entities(tweets_df):\n",
    "    \"\"\" Processes tweets and counts number of entities\n",
    "    Inputs:\n",
    "        tweets_df: dataframe of tweets containing screen_name and text\n",
    "    Outputs:\n",
    "        colletions.Counter: Counter containing counts of each entity\n",
    "    \"\"\"\n",
    "    \n",
    "    c = Counter()\n",
    "\n",
    "    for (index,row) in tweets_df.iterrows():\n",
    "        curr_tweet = row['text']\n",
    "        entity_resp = None\n",
    "        try:\n",
    "            entity_resp = recognize_entity(curr_tweet)\n",
    "        except:\n",
    "            continue\n",
    "            \n",
    "        entity_list = entity_resp['entities']\n",
    "        \n",
    "        # sum together saliences of each entity\n",
    "        for entity in entity_list:\n",
    "            curr_salience = entity['salience']\n",
    "            curr_name = entity['name']\n",
    "            c[curr_name] += curr_salience\n",
    "    return c; "
   ]
  },
  {
   "cell_type": "code",
   "execution_count": 51,
   "metadata": {
    "collapsed": false
   },
   "outputs": [
    {
     "name": "stdout",
     "output_type": "stream",
     "text": [
      "Counter({u'Hillary Clinton': 1.509795915, u'AmericaFirst': 1.144681144, u'Hillary': 0.83077716, u'COMING UP @GenFlynn @newtgingrich': 0.80442244, u'@foxandfriends': 0.7124474000000001, u'RT': 0.6023972, u'Mexico': 0.5671262699999999, u'Pensacola': 0.53012615, u'Peter': 0.51027858, u'ABC News': 0.43969032, u'America': 0.42884898, u'Donald Trump': 0.39351058, u'FL': 0.3664639, u'NBC': 0.34692566999999996, u'@adhd_fa': 0.33184418, u'CommanderInChiefForum': 0.25466868, u'Luis': 0.24991031, u'@DanScavino': 0.18772775, u'Pe\\xf1a Nieto': 0.1495229, u'@PARISDENNARD': 0.14829391, u'https://t.co/Rcu6KaRGCB': 0.14378344, u'United States': 0.12600546, u'https://t.co/JCO7Za78tV https://t.co/LYmpRyY0Hq': 0.10340992, u'CNN': 0.084421538, u'@realDonaldTrump': 0.053598814, u'American': 0.05349119, u'Matt Lauer': 0.050581474, u'ImWithYou https://t.co/sCOnny1fl3': 0.048856329, u'ImWithYou': 0.041910764, u'TrumpTrain https://t.co/FxyBL6fO1h': 0.039477881, u'MAGA https://t.co/5FmxGtLkwt': 0.03883845, u'AmericaFirst https://t.co/6Nwu7EMJ9d': 0.036337629, u'MAGA https://t.co/C5ipaxUN7B': 0.030331511, u'POTUS': 0.014734754, u'TrumpTrain https://t.co/sGqp9': 0.014184835})\n",
      "Counter({u'RT': 1.51149011, u'WeWillNeverForget https://t.co/CmQTwt7kFR': 1, u'@foxandfriends': 0.851468, u'@realDonaldTrump': 0.8351209700000001, u'@marc_lotter': 0.7349742699999999, u'ConstitutionDay2016': 0.72109205, u'BasketofDeplorables': 0.687031132, u'WereWithYou https://t.co/dhlfTQSfDh': 0.32537404, u'HispanicHeritage': 0.29576269, u'The Villages': 0.28368664, u'@FoxNews': 0.24251717, u'@BarackObama': 0.24102758, u'Gov @mike_pence': 0.22060109, u'American': 0.19632071, u'NYC': 0.17377609, u'Pentagon': 0.17297532, u'@LibertyFarmFest': 0.16970161, u'Pennsylvania': 0.16956754, u'Scranton': 0.162854164, u'https://t.co/tf2RHwfAdn': 0.14853196, u'Latino Americans': 0.13540125, u'Americans': 0.12390548300000001, u'Paris': 0.11731078, u'VA': 0.11731078, u'https://t.co/x379lHe86p': 0.098063208, u'@SenateGOP': 0.095198177, u'@HouseGOP': 0.091826439, u'@CNN. https://t.co/gRxLW3Ebxm': 0.091096871, u'@seanhannity': 0.088476971, u'NY': 0.07870613, u'Economic Club': 0.075900778, u'Pence': 0.075109884, u'@fortworthpd': 0.066241443, u'@PhillyPolice': 0.063836239, u'@PennDPS': 0.063836239, u'https://t.co/NrolAB6awe': 0.057786703, u'Constitution https://t.co/q1u9OUTiTs': 0.048360448, u'Erin Burnett': 0.03982215, u'MAGA https://t.co/UwIafQnleb': 0.036391597, u'https://t.co/FussAgYNiE': 0.028232964, u'MAGA https://t.co/KFgQUWfbi9': 0.022609727, u'https://t.co/aChydmGyZS': 0.018924952})\n"
     ]
    }
   ],
   "source": [
    "# count donald trump entities\n",
    "count_trump = count_entities(donald_tweets)\n",
    "count_pence = count_entities(pence_tweets)\n",
    "print count_trump\n",
    "print count_pence"
   ]
  },
  {
   "cell_type": "markdown",
   "metadata": {},
   "source": [
    "### Donald Trump vs. Mike Pence: A Comparison\n",
    "Now we have reached a point where we can begin to analyze our results. While we aren't going to directly compare the presidential candidates Donald Trump and Hillary Clinton due to data availability, we will instead visualize the differences between the U.S. president and vice president candidates, Donald Trump and Mike Pence. Arguably, the candidates are different in notable ways, though I suppose only the data will tell...\n",
    "\n",
    "As of now, we have two dataframes containing sentiment analysis results, one for Trump and another for Pence. We also have two entity counter objects for both Trump and Pence. To aggregate our sentiment analysis, we will calculate a total sentiment index for each candidate. For an aggregate sentiment indicator, we will calculate the sum of `polarity*magnitude` values, meaning that a higher indicator value means more positivity. To compare entity distributions, we will display two bar charts.\n",
    "\n",
    "We will write two functions, `aggregate_sentiment` that calculates the aggregate sentiment, and `create_bar` that displays a bar chart, given a counter.\n"
   ]
  },
  {
   "cell_type": "code",
   "execution_count": 54,
   "metadata": {
    "collapsed": false
   },
   "outputs": [],
   "source": [
    "import matplotlib\n",
    "import matplotlib.pyplot as plt\n",
    "%matplotlib inline\n",
    "plt.style.use('ggplot')\n",
    "matplotlib.rcParams['figure.figsize'] = (20.0, 10.0)\n",
    "\n",
    "def aggregate_sentiment(sentiment_df):\n",
    "    \"\"\" Calculates aggregate sentiment indicator\n",
    "    Inputs:\n",
    "        sentiment_df: dataframe of tweets containing polarity and magnitude\n",
    "    Outputs:\n",
    "        Float: Aggregate sentiment indicator\n",
    "    \"\"\"\n",
    "    total = 0\n",
    "    for (index,row) in sentiment_df.iterrows():\n",
    "        pol = row['polarity']\n",
    "        mag = row['magnitude']\n",
    "        total += pol * mag\n",
    "    return total\n",
    "\n",
    "def create_bar(counter, top_count, title):\n",
    "    \"\"\" Calculates aggregate sentiment indicator\n",
    "    Inputs:\n",
    "        counter: counter object containing counts of each entity\n",
    "        top_count: number of elemnts to graph\n",
    "        title: title of graph\n",
    "    Outputs:\n",
    "        None\n",
    "    \"\"\"\n",
    "    counterList = counter.most_common(top_count)\n",
    "    entity_list = []\n",
    "    count_list = []\n",
    "    for k,v in counterList:\n",
    "        entity_list.append(k)\n",
    "        count_list.append(v)\n",
    "    fig, ax = plt.subplots()\n",
    "    x = np.arange(len(count_list))\n",
    "    plt.bar(x, count_list, align=\"center\", alpha = .5)\n",
    "    plt.xticks(x,entity_list)\n",
    "    \n",
    "    ax.set_ylabel('Salience')\n",
    "    ax.set_xlabel('Entity')\n",
    "    ax.set_title(title)\n",
    "    plt.show()  "
   ]
  },
  {
   "cell_type": "code",
   "execution_count": 59,
   "metadata": {
    "collapsed": false
   },
   "outputs": [
    {
     "name": "stdout",
     "output_type": "stream",
     "text": [
      "Donald Sentiment: 10.66\n",
      "Pence Sentiment: 11.21\n"
     ]
    },
    {
     "data": {
      "image/png": "[encoded data removed]",
      "text/plain": [
       "<matplotlib.figure.Figure at 0x121b43f50>"
      ]
     },
     "metadata": {},
     "output_type": "display_data"
    },
    {
     "data": {
      "image/png": "[encoded data removed]",
      "text/plain": [
       "<matplotlib.figure.Figure at 0x121b50150>"
      ]
     },
     "metadata": {},
     "output_type": "display_data"
    }
   ],
   "source": [
    "donald_sentiment = aggregate_sentiment(processed_donald)\n",
    "pence_sentiment = aggregate_sentiment(processed_pence)\n",
    "\n",
    "print \"Donald Sentiment:\", donald_sentiment\n",
    "print \"Pence Sentiment:\", pence_sentiment\n",
    "\n",
    "create_bar(count_trump, 5, \"Donald Trump Entity Salience\")\n",
    "create_bar(count_pence, 5, \"Mike Pnece Entity Salience\")"
   ]
  },
  {
   "cell_type": "markdown",
   "metadata": {
    "collapsed": true
   },
   "source": [
    "Awesome! We have successfully used Google Cloud's Natural Language Processing API to analyze tweets. For final results, we note that, according to our analysis on our small dataset, Pence is (slightly) more positive than Trump, so take that as you will. As for the entity analysis data, we see that Trump talks very often about \"Hillary Clinton\" and \"Hillary,\" so no surprise there. We also see high mentions of \"AmericaFirst,\" which is one of Donald's slogans. As for Pence, we see that the entities mentioned are very different from Trump's, perhaps based on the structure of Pence's tweets. In particular, Pence seems to retweet a lot, and Google recognizes \"RT\" as an entity. Furthermore, Pence seems to tag people often in his tweets, particularly \"@foxandfriends\" and \"@realDonaldTrump.\" While the entities mentioned are very different between Trump and Pence (for example, Trump seems to mention Hillary often, while Pence doesn't), we might need deeper analysis on more data to draw more conclusions, as it is likely that Pence might simply have different tweeting habits (i.e., using RT) that affect the results. \n",
    "\n",
    "Congratulations on creating and running analyses using the Google Cloud Natural Language API!\n",
    "\n",
    "### Further Resources\n",
    "Using the resources provided through Google Cloud's API, we can expand upon our work further. For example, we can use Google's Prediction API to construct our own language prediction model, without having to use Google's built-in libraries. Essentially, we upload our own labeled data to Google's cloud database, and then run the prediction API to handle new inputs. Refer to the link here for more details: https://cloud.google.com/prediction/docs/sentiment_analysis. For more details on the API and other Google cloud resources, it will be useful to consult Google Cloud's documentation and overview webpages. For example, a great way to find a big overview of the ways to use Google Cloud for data science, see https://cloud.google.com/data-science/. Additionally, for the Natural Language API, an overview and demonstration of the API's functionality can be seen at https://cloud.google.com/natural-language/. Good luck!   "
   ]
  },
  {
   "cell_type": "code",
   "execution_count": null,
   "metadata": {
    "collapsed": true
   },
   "outputs": [],
   "source": []
  }
 ],
 "metadata": {
  "anaconda-cloud": {},
  "kernelspec": {
   "display_name": "Python [Root]",
   "language": "python",
   "name": "Python [Root]"
  },
  "language_info": {
   "codemirror_mode": {
    "name": "ipython",
    "version": 2
   },
   "file_extension": ".py",
   "mimetype": "text/x-python",
   "name": "python",
   "nbconvert_exporter": "python",
   "pygments_lexer": "ipython2",
   "version": "2.7.12"
  }
 },
 "nbformat": 4,
 "nbformat_minor": 0
}
