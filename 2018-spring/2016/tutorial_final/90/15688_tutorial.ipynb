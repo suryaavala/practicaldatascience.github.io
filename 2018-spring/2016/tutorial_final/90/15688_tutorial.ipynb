{
 "cells": [
  {
   "cell_type": "markdown",
   "metadata": {
    "collapsed": true
   },
   "source": [
    "# Introduction\n",
    "\n",
    "\n"
   ]
  },
  {
   "cell_type": "markdown",
   "metadata": {
    "collapsed": false
   },
   "source": [
    "This tutorial will introduce you to basic operations of tensorflow which is an Open Source Software Library for Machine Intelligence. The basic concepts about regression, neuron network and convolutional neural network will be introduced and you will a chance to get hands-on experiments on them.\n",
    "\n",
    "In data science, when we want to solve a problem using machine learning techniques, tensorflow is a powerful tool to help us save time and achieve good effect. Also, machine learning is key part for becoming an expert in data science to analyze complex data problems. For some specific problem, deep learning is the most effective way such as image classification.\n",
    "\n",
    "\n",
    "\n",
    "\n",
    "\n"
   ]
  },
  {
   "cell_type": "markdown",
   "metadata": {
    "collapsed": true
   },
   "source": [
    "\n",
    "\n",
    "# Tutorial content\n",
    "\n",
    "In this tutorial, we will show how to intall tensorflow and use it.\n",
    "\n",
    "We will introduce modeling of linear regression, neural network and hands-on coding in solving problems. Then we wil implement convolutional neural network model to do image classfication.\n",
    "\n",
    "For MNIST dataset image classification problem, Neural network gets an accuray around 88%. Convolutional neural network gets an accuracy around 97% which is far more better.\n",
    "\n",
    "\n",
    "We will cover the following topics in this tutorial:\n",
    "* Installing tensorflow\n",
    "* Tensorflow basics\n",
    "* Linear regression\n",
    "* Neural network for regression\n",
    "* Neural network for classification\n",
    "* Convolutional neural network\n",
    "\n",
    "\n",
    "\n"
   ]
  },
  {
   "cell_type": "markdown",
   "metadata": {
    "collapsed": false
   },
   "source": [
    "\n",
    "\n",
    "# Tensorflow install\n",
    "\n",
    "Before getting started, you'll need to install tensorflow.\n",
    "\n",
    "go to this website, and find the Pip Installation section:\n",
    "https://www.tensorflow.org/versions/master/get_started/os_setup.html#download-and-setup\n",
    "\n",
    "For max os, type following command in terminal:\n",
    "\n",
    "\n",
    "\n",
    "\n"
   ]
  },
  {
   "cell_type": "raw",
   "metadata": {},
   "source": [
    "$ sudo easy_install pip\n",
    "$ sudo easy_install --upgrade six"
   ]
  },
  {
   "cell_type": "markdown",
   "metadata": {},
   "source": [
    "Select corrent binary to install, I choose to type"
   ]
  },
  {
   "cell_type": "raw",
   "metadata": {},
   "source": [
    "$ export\n",
    "TF_BINARY_URL=https://storage.googleapis.com/tensorflow/mac/gpu/tensorflow\n",
    "-0.10.0-py2-none-any.whl"
   ]
  },
  {
   "cell_type": "markdown",
   "metadata": {},
   "source": [
    "Choose the right python version to install. I choose python 2:"
   ]
  },
  {
   "cell_type": "raw",
   "metadata": {},
   "source": [
    "$ sudo pip install --upgrade $TF_BINARY_URL"
   ]
  },
  {
   "cell_type": "markdown",
   "metadata": {},
   "source": [
    "Then installation is finished. We can run the following code to determine whether tensorflow is installed successfully:\n"
   ]
  },
  {
   "cell_type": "code",
   "execution_count": 59,
   "metadata": {
    "collapsed": false
   },
   "outputs": [
    {
     "name": "stdout",
     "output_type": "stream",
     "text": [
      "Congratulations, TensorFlow intalled successfully!\n"
     ]
    }
   ],
   "source": [
    "import tensorflow as tf\n",
    "hello = tf.constant('Congratulations, TensorFlow intalled successfully!')\n",
    "sess = tf.Session()\n",
    "print(sess.run(hello))"
   ]
  },
  {
   "cell_type": "markdown",
   "metadata": {},
   "source": [
    "# Tensorflow basics"
   ]
  },
  {
   "cell_type": "markdown",
   "metadata": {
    "collapsed": true
   },
   "source": [
    "In this section, we will be familiar with session, variables, placeholder in tensorflow. If you want to know more about tensorflow, https://www.tensorflow.org/versions/r0.11/api_docs/python/io_ops.html is good reference for python api."
   ]
  },
  {
   "cell_type": "markdown",
   "metadata": {},
   "source": [
    "## Session in tensorflow\n",
    "\n",
    "In tensorflow, we always need to create a session, and then use session's run method to run operations.\n",
    "\n",
    "The belowing is matrix multipy example in tensorflow. We first generate two matrix in tensorflow, then using the matmul which is matrix multiply function to get the result. \n",
    "\n",
    "But unlike python, if we stop here, there wil be no multiply operation implemented. Instead, we have to create a session and run the multiply operation in the session.\n",
    "\n",
    "The allowing code shows two ways of using session which have the same effect. "
   ]
  },
  {
   "cell_type": "code",
   "execution_count": 71,
   "metadata": {
    "collapsed": true
   },
   "outputs": [],
   "source": [
    "import tensorflow as tf\n",
    "import numpy as np"
   ]
  },
  {
   "cell_type": "code",
   "execution_count": 73,
   "metadata": {
    "collapsed": false
   },
   "outputs": [
    {
     "name": "stdout",
     "output_type": "stream",
     "text": [
      "[[14]]\n",
      "[[14]]\n"
     ]
    }
   ],
   "source": [
    "matrix1 = tf.constant([[3, 1,2]])\n",
    "matrix2 = tf.constant([[2],\n",
    "                       [4],\n",
    "                       [2]])\n",
    "\n",
    "# matrix multiply, which is similar to numpy np.dot(m1, m2)\n",
    "product = tf.matmul(matrix1, matrix2)  \n",
    "\n",
    "# method 1 to use session, create sesson object, and using run method.\n",
    "sess = tf.Session()\n",
    "# using run method to implement operations\n",
    "result = sess.run(product)\n",
    "print(result)\n",
    "# close this session\n",
    "sess.close()\n",
    "\n",
    "# method 2 to use session. \n",
    "# It will automatically use sess.close() when the code segment is finished.\n",
    "with tf.Session() as sess:\n",
    "    result2 = sess.run(product)\n",
    "    print(result2)\n",
    "\n"
   ]
  },
  {
   "cell_type": "markdown",
   "metadata": {},
   "source": [
    "## Variables in tensorflow\n",
    "\n",
    "unlike python, Varaibles need to be defined with tf.variable(). Before using the variables, we have to use tf.initialize_all_variables() to initialize all variables, else it will not work.\n",
    "\n",
    "In the belowing coding example, we use session mentioned before to run operation. We define variable state and implement add and update operations to it."
   ]
  },
  {
   "cell_type": "code",
   "execution_count": 84,
   "metadata": {
    "collapsed": false
   },
   "outputs": [
    {
     "name": "stdout",
     "output_type": "stream",
     "text": [
      "10\n",
      "20\n",
      "30\n",
      "40\n",
      "50\n"
     ]
    }
   ],
   "source": [
    "from __future__ import print_function\n",
    "import tensorflow as tf\n",
    "\n",
    "# define a tf variable, value is 0, variable name is counter.\n",
    "state = tf.Variable(0, name='counter')\n",
    "\n",
    "# define a constant 1\n",
    "ten = tf.constant(10)\n",
    "\n",
    "#  tf method to add state and one\n",
    "new_value = tf.add(state, ten)\n",
    "\n",
    "# assign new_value to state\n",
    "update = tf.assign(state, new_value)\n",
    "\n",
    "# must have, else variable will not work\n",
    "init = tf.initialize_all_variables()  \n",
    "\n",
    "with tf.Session() as sess:\n",
    "    sess.run(init)\n",
    "    for i in range(5):\n",
    "        sess.run(update)\n",
    "        print(sess.run(state))"
   ]
  },
  {
   "cell_type": "markdown",
   "metadata": {},
   "source": [
    "## Placeholder in tensorflow\n",
    "\n",
    "In the previous examples, sessions run without assigning values. If we want to assgning values in session and run it, we need to use placeholder.\n",
    "\n",
    "So what is the difference between placeholder and variables? For tensorflow variables, we have to provide initial value when we declare it. But for placeholder, we don't have to provide an initial value and we can specify it at run time with the feed_dict argument inside Session.run. \n",
    "\n",
    "The below examples shows how to use placeholder with a feed_dict dictionary to input values as 7.0 and 2.0."
   ]
  },
  {
   "cell_type": "code",
   "execution_count": 78,
   "metadata": {
    "collapsed": false
   },
   "outputs": [
    {
     "name": "stdout",
     "output_type": "stream",
     "text": [
      "[ 9.]\n"
     ]
    }
   ],
   "source": [
    "from __future__ import print_function\n",
    "import tensorflow as tf\n",
    "import matplotlib.pyplot as plt\n",
    "\n",
    "# create placeholder\n",
    "input1 = tf.placeholder(tf.float32)\n",
    "input2 = tf.placeholder(tf.float32)\n",
    "\n",
    "# add operation\n",
    "ouput = tf.add(input1, input2)\n",
    "\n",
    "# run session to implement add method\n",
    "with tf.Session() as sess:\n",
    "    print(sess.run(ouput, feed_dict={input1: [7.], input2: [2.]}))"
   ]
  },
  {
   "cell_type": "markdown",
   "metadata": {},
   "source": [
    "\n",
    "\n",
    "# Tensorflow operation"
   ]
  },
  {
   "cell_type": "markdown",
   "metadata": {},
   "source": [
    "Next, let us consider the simplest example of linear regression and see how it works in tensorflow.\n",
    "\n",
    "Suppose you have a traning dataset X as 1-D array, the true Y value as 1-D array. You would like to find the linear regression for X and Y.\n"
   ]
  },
  {
   "cell_type": "markdown",
   "metadata": {},
   "source": [
    "Y = W * X + B"
   ]
  },
  {
   "cell_type": "markdown",
   "metadata": {},
   "source": [
    "As we have learned in 15688, we can first initilate W0, B0 and then get the predicted value of Y0. Then compare the square difference between Y0 and Y. Then using gradient to update W0 to reduce the loss function. Through iteration, We can get a W and B which predicts most accuary.\n",
    "\n",
    "The implementation in tensorflow is as follows:"
   ]
  },
  {
   "cell_type": "code",
   "execution_count": 111,
   "metadata": {
    "collapsed": false
   },
   "outputs": [
    {
     "name": "stdout",
     "output_type": "stream",
     "text": [
      "0 [ 0.84348667] [ 1.99078536]\n",
      "0.333761\n",
      "50 [ 1.95740771] [ 1.02033484]\n",
      "0.000148066\n",
      "100 [ 1.99863291] [ 1.00065267]\n",
      "1.52534e-07\n",
      "150 [ 1.99995601] [ 1.00002098]\n",
      "1.5812e-10\n",
      "200 [ 1.99999857] [ 1.00000072]\n",
      "1.82183e-13\n",
      "250 [ 1.99999917] [ 1.00000036]\n",
      "5.76961e-14\n",
      "300 [ 1.99999917] [ 1.00000036]\n",
      "5.76961e-14\n",
      "350 [ 1.99999917] [ 1.00000036]\n",
      "5.76961e-14\n",
      "400 [ 1.99999917] [ 1.00000036]\n",
      "5.76961e-14\n",
      "450 [ 1.99999917] [ 1.00000036]\n",
      "5.76961e-14\n",
      "500 [ 1.99999917] [ 1.00000036]\n",
      "5.76961e-14\n"
     ]
    }
   ],
   "source": [
    "from __future__ import print_function\n",
    "import tensorflow as tf\n",
    "import numpy as np\n",
    "import matplotlib.pyplot as plt\n",
    "\n",
    "# create data X and Y\n",
    "x_data = np.random.rand(100).astype(np.float32)\n",
    "y_data = x_data*2 + 1\n",
    "\n",
    "# set the weights W0 as a random number between -1.0 and 1.0\n",
    "Weights = tf.Variable(tf.random_uniform([1], -1.0, 1.0))\n",
    "\n",
    "# set biases B0 as a number as 0\n",
    "biases = tf.Variable(tf.zeros([1]))\n",
    "\n",
    "# this y is the predicted Y value\n",
    "y = Weights*x_data + biases\n",
    "\n",
    "# compute the mean of squred error beteen y_predicted and y_true\n",
    "loss = tf.reduce_mean(tf.square(y-y_data))\n",
    "\n",
    "# establish an optimizer to use gradient descent to optimize with learning rate as 0.5\n",
    "optimizer = tf.train.GradientDescentOptimizer(0.5)\n",
    "\n",
    "# assign the loss function loss to the optimizer\n",
    "train = optimizer.minimize(loss)\n",
    "\n",
    "# to initilize all the variables defined above\n",
    "init = tf.initialize_all_variables()\n",
    "### create tensorflow structure end ###\n",
    "\n",
    "# create session in tensorflow\n",
    "sess = tf.Session()\n",
    "sess.run(init)          # Very important\n",
    "\n",
    "# iterate steps as 201\n",
    "for step in range(501):\n",
    "    sess.run(train)\n",
    "    if step % 50 == 0:\n",
    "        print(step, sess.run(Weights), sess.run(biases))\n",
    "        print(sess.run(loss))"
   ]
  },
  {
   "cell_type": "markdown",
   "metadata": {},
   "source": [
    "The true W is 2, bias is 1. The predicted W is 1.99999917, Bias is 1.00000036.\n",
    "loss value is 5.76961e-14.\n",
    "\n",
    "So the implementation in tensorflow has good effect.\n",
    "\n",
    "The figure for the modle also shows it.\n"
   ]
  },
  {
   "cell_type": "code",
   "execution_count": 113,
   "metadata": {
    "collapsed": false
   },
   "outputs": [
    {
     "data": {
      "image/png": "[encoded data removed]",
      "text/plain": [
       "<matplotlib.figure.Figure at 0x11943cb10>"
      ]
     },
     "metadata": {},
     "output_type": "display_data"
    }
   ],
   "source": [
    "plt.plot(x_data, y_data, label = 'True value ')\n",
    "plt.plot(x_data, sess.run(y), label = 'Predicted value')\n",
    "plt.xlabel('X Value')\n",
    "plt.ylabel('Y Value')\n",
    "plt.title('Linear regression model')\n",
    "plt.legend()\n",
    "plt.show()"
   ]
  },
  {
   "cell_type": "markdown",
   "metadata": {},
   "source": [
    "# Neuron network"
   ]
  },
  {
   "cell_type": "markdown",
   "metadata": {},
   "source": [
    "In this part, we wil first look at basic background of neuron network, then apply neuron network for regression model, finally we will try neuron network in image classfication."
   ]
  },
  {
   "cell_type": "markdown",
   "metadata": {},
   "source": [
    "## Neuron network basics\n",
    "\n",
    "If you want to know neuron network systematically, the course https://www.coursera.org/learn/machine-learning/home/week/4\n",
    "is an excellent resource to get started.\n",
    "\n",
    "\n",
    "Here, i wil explain the basic structures of neuron network. Neuron network has relationship with linear regression we mentioned before. The following picture demonstrates it.\n",
    "\n",
    "\n",
    "\n",
    "\n",
    "\n"
   ]
  },
  {
   "cell_type": "markdown",
   "metadata": {},
   "source": [
    "\n",
    "\n",
    "<img src=\"nn1.png\">\n",
    "source:  https://classroom.udacity.com/courses/ud730/lessons/6379031992/concepts/64244193630923# "
   ]
  },
  {
   "cell_type": "markdown",
   "metadata": {},
   "source": [
    "In the above picture, it contains the structure of linear regression and neuron network for classification problem.\n",
    "\n",
    "The top part is a linear regression model for classification. In this model, X is the input, Y is predicted output as W * X + b. Then we use softmax function as S(y) to generate the predicted probability and get the predicted label.\n",
    "\n",
    "The bottom part is the structure of a two-layer neuron networl. In neuron network, we also first calcualtes W * X + B. The difference is after W * X + b, we use an activation function RELU to deal with the output. \n",
    "\n",
    "Then forward the output from RELU to another W2 * X + b. For the last layer, we did not need to use RELU to activate value. Finally, using softmax funcion to get the probability distribution.\n",
    "\n",
    "Because we use W * x + b two times, so this neuron network is two layers. The stucture for this neuron network is as follows:"
   ]
  },
  {
   "cell_type": "markdown",
   "metadata": {},
   "source": [
    "<img src=\"nn2.png\">\n",
    "\n",
    "source: http://cs231n.github.io/neural-networks-1/"
   ]
  },
  {
   "cell_type": "markdown",
   "metadata": {},
   "source": [
    "\n",
    "\n",
    "## Activation function\n",
    "\n",
    "There are many kinds of activation functions in neural network. \n"
   ]
  },
  {
   "cell_type": "markdown",
   "metadata": {},
   "source": [
    "<img src = \"nn3.png\">\n",
    "source: https://www.google.com/search?q=relu+and+sigmoid+activation+function&source=lnms&tbm=isch&sa=X&ved=0ahUKEwj0za6l043QAhUN-2MKHWr5BvYQ_AUICCgB&biw=1280&bih=726#imgrc=2bhyZckfNzhU-M%3A"
   ]
  },
  {
   "cell_type": "markdown",
   "metadata": {},
   "source": [
    "\n",
    "\n",
    "## Add a layer in neuron network\n",
    "\n",
    "In this part, we practice on how to add a layer in neuron network using tensorflow. Using tf.matmul() to get W * X + b. If activation_function exists, use it to deal with data."
   ]
  },
  {
   "cell_type": "code",
   "execution_count": null,
   "metadata": {
    "collapsed": true
   },
   "outputs": [],
   "source": [
    "from __future__ import print_function\n",
    "import tensorflow as tf\n",
    "import matplotlib.pyplot as plt\n",
    "\n",
    "\n",
    "def add_layer(inputs, in_size, out_size, activation_function=None):\n",
    "    Weights = tf.Variable(tf.random_normal([in_size, out_size]))\n",
    "    biases = tf.Variable(tf.zeros([1, out_size]) + 0.1)\n",
    "    Wx_plus_b = tf.matmul(inputs, Weights) + biases\n",
    "    \n",
    "    if activation_function is None:\n",
    "        outputs = Wx_plus_b\n",
    "    else:\n",
    "        outputs = activation_function(Wx_plus_b)\n",
    "    return outputs"
   ]
  },
  {
   "cell_type": "markdown",
   "metadata": {},
   "source": [
    "## Neuron network for regression\n",
    "\n",
    "In this part, we will use neuron network for regression. \n",
    "\n",
    "First, we generate the X, Y data as follows.\n"
   ]
  },
  {
   "cell_type": "code",
   "execution_count": 162,
   "metadata": {
    "collapsed": false
   },
   "outputs": [
    {
     "data": {
      "image/png": "[encoded data removed]",
      "text/plain": [
       "<matplotlib.figure.Figure at 0x1121d6a50>"
      ]
     },
     "metadata": {},
     "output_type": "display_data"
    }
   ],
   "source": [
    "x_data = np.linspace(-1,1,300)[:, np.newaxis]\n",
    "noise = np.random.normal(0, 0.05, x_data.shape)\n",
    "y_data = np.square(x_data) + x_data + noise\n",
    "\n",
    "plt.plot(x_data, y_data, label = 'True value')\n",
    "plt.xlabel('X Value')\n",
    "plt.ylabel('Y Value')\n",
    "plt.title('Regression model of True data')\n",
    "plt.legend()\n",
    "plt.show()"
   ]
  },
  {
   "cell_type": "markdown",
   "metadata": {},
   "source": [
    "Next, Let us build a 2-layer neural network for it.\n",
    "\n",
    "For the hidden layer, we set the units as 10. Activation function is Relu. \n",
    "\n",
    "Loss function is calculated by square error mean. Given a learning rate 0.1, using graident descent to minimize the loss.\n",
    "\n",
    "The code is as following"
   ]
  },
  {
   "cell_type": "code",
   "execution_count": 173,
   "metadata": {
    "collapsed": false
   },
   "outputs": [
    {
     "name": "stdout",
     "output_type": "stream",
     "text": [
      "0.240343\n",
      "0.00872532\n",
      "0.00743904\n",
      "0.00624387\n",
      "0.00549299\n",
      "0.00504228\n",
      "0.00469543\n",
      "0.0043788\n",
      "0.0040937\n",
      "0.00387793\n",
      "0.0037053\n",
      "0.00355864\n",
      "0.00342742\n",
      "0.00331353\n",
      "0.00321823\n",
      "0.003138\n",
      "0.00306798\n",
      "0.00301174\n",
      "0.00296577\n",
      "0.00291969\n"
     ]
    }
   ],
   "source": [
    "# define placeholder for inputs to network\n",
    "xs = tf.placeholder(tf.float32, [None, 1])\n",
    "ys = tf.placeholder(tf.float32, [None, 1])\n",
    "\n",
    "# add hidden layer\n",
    "l1 = add_layer(xs, 1, 10, activation_function=tf.nn.relu)\n",
    "\n",
    "# add output layer\n",
    "prediction = add_layer(l1, 10, 1, activation_function=None)\n",
    "\n",
    "# the error between prediciton and real data\n",
    "loss = tf.reduce_mean(tf.reduce_sum(tf.square(ys - prediction),\n",
    "                     reduction_indices=[1]))\n",
    "train_step = tf.train.GradientDescentOptimizer(0.1).minimize(loss)\n",
    "\n",
    "# important step\n",
    "init = tf.initialize_all_variables()\n",
    "sess = tf.Session()\n",
    "sess.run(init)\n",
    "\n",
    "\n",
    "for i in range(1000):\n",
    "    # training\n",
    "    sess.run(train_step, feed_dict={xs: x_data, ys: y_data})\n",
    "    if i % 50 == 0:\n",
    "        # to see the step improvement\n",
    "        print(sess.run(loss, feed_dict={xs: x_data, ys: y_data}))\n",
    "    if i == 999:\n",
    "        y_predicted = sess.run(prediction, feed_dict={xs: x_data, ys: y_data})\n",
    "        "
   ]
  },
  {
   "cell_type": "markdown",
   "metadata": {},
   "source": [
    "After 1000 iterations, the loss become 0.00291969.\n",
    "\n",
    "The fitting model is as follows.\n"
   ]
  },
  {
   "cell_type": "code",
   "execution_count": 174,
   "metadata": {
    "collapsed": false
   },
   "outputs": [
    {
     "data": {
      "image/png": "[encoded data removed]",
      "text/plain": [
       "<matplotlib.figure.Figure at 0x11a15c6d0>"
      ]
     },
     "metadata": {},
     "output_type": "display_data"
    }
   ],
   "source": [
    "x_data = np.linspace(-1,1,300)[:, np.newaxis]\n",
    "noise = np.random.normal(0, 0.05, x_data.shape)\n",
    "y_data = np.square(x_data) + x_data + noise\n",
    "\n",
    "plt.plot(x_data, y_data, label = 'True value')\n",
    "plt.plot(x_data, y_predicted , label = 'Predicted value')\n",
    "plt.xlabel('X Value')\n",
    "plt.ylabel('Y Value')\n",
    "plt.title('Regression model of True data')\n",
    "plt.legend()\n",
    "plt.show()"
   ]
  },
  {
   "cell_type": "markdown",
   "metadata": {},
   "source": [
    "# Classification"
   ]
  },
  {
   "cell_type": "markdown",
   "metadata": {
    "collapsed": true
   },
   "source": [
    "For classification problem, we have solved a similar problem in HW4 mnist.ipynb in 15688. If you want to refresh classificatiion, https://www.tensorflow.org/versions/r0.11/tutorials/mnist/beginners/index.html is a good resource.\n",
    "\n",
    "The difference between classfication and regression for neural network is we use cross entropy as the loss function for final output y_prediction. Other parts is similar with regression part \n",
    "\n"
   ]
  },
  {
   "cell_type": "code",
   "execution_count": 175,
   "metadata": {
    "collapsed": false
   },
   "outputs": [
    {
     "name": "stdout",
     "output_type": "stream",
     "text": [
      "Extracting MNIST_data/train-images-idx3-ubyte.gz\n",
      "Extracting MNIST_data/train-labels-idx1-ubyte.gz\n",
      "Extracting MNIST_data/t10k-images-idx3-ubyte.gz\n",
      "Extracting MNIST_data/t10k-labels-idx1-ubyte.gz\n"
     ]
    }
   ],
   "source": [
    "# This IS to import the image dataset mnist, this is where to do image classification. If it does not exist, \n",
    "# it will download automatically.\n",
    "\n",
    "from tensorflow.examples.tutorials.mnist import input_data\n",
    "# number 1 to 10 data\n",
    "mnist = input_data.read_data_sets('MNIST_data', one_hot=True)\n"
   ]
  },
  {
   "cell_type": "markdown",
   "metadata": {},
   "source": [
    "MNIST is a simple computer vision dataset. It consists of images of handwritten digits. We would like to use neural network to find the true digits for the image.\n",
    "\n",
    "If you want to show how to display images through np, http://g.sweyla.com/blog/2012/mnist-numpy/ is a good article. \n"
   ]
  },
  {
   "cell_type": "markdown",
   "metadata": {},
   "source": [
    "<img src = \"mnist1.png\">"
   ]
  },
  {
   "cell_type": "markdown",
   "metadata": {},
   "source": [
    "The code for neural network to implement image classification."
   ]
  },
  {
   "cell_type": "code",
   "execution_count": 180,
   "metadata": {
    "collapsed": false
   },
   "outputs": [
    {
     "name": "stdout",
     "output_type": "stream",
     "text": [
      "0.125\n",
      "0.6491\n",
      "0.7438\n",
      "0.7845\n",
      "0.8103\n",
      "0.8228\n",
      "0.8355\n",
      "0.8413\n",
      "0.8472\n",
      "0.8524\n",
      "0.8552\n",
      "0.8568\n",
      "0.8637\n",
      "0.8673\n",
      "0.8697\n",
      "0.8702\n",
      "0.8734\n",
      "0.8744\n",
      "0.8777\n",
      "0.8815\n"
     ]
    }
   ],
   "source": [
    "accuracy_all = []\n",
    "#   this is to compute accuracy for classfication\n",
    "def compute_accuracy(v_xs, v_ys):\n",
    "    global prediction\n",
    "    y_pre = sess.run(prediction, feed_dict={xs: v_xs})\n",
    "    correct_prediction = tf.equal(tf.argmax(y_pre,1), tf.argmax(v_ys,1))\n",
    "    accuracy = tf.reduce_mean(tf.cast(correct_prediction, tf.float32))\n",
    "    result = sess.run(accuracy, feed_dict={xs: v_xs, ys: v_ys})\n",
    "    return result\n",
    "\n",
    "# define placeholder for inputs xs, ys to network \n",
    "# none means for any number \n",
    "#  784 is for image pixels 28 * 28\n",
    "xs = tf.placeholder(tf.float32, [None, 784]) # 28x28\n",
    "ys = tf.placeholder(tf.float32, [None, 10])\n",
    "\n",
    "# add output layer, input as 28 * 28 = 784, use softmax as activation function\n",
    "prediction = add_layer(xs, 784, 10,  activation_function=tf.nn.softmax)\n",
    "\n",
    "# the error between prediction and real data\n",
    "cross_entropy = tf.reduce_mean(-tf.reduce_sum(ys * tf.log(prediction),\n",
    "                                              reduction_indices=[1]))   \n",
    "\n",
    "# reduce loss function.\n",
    "train_step = tf.train.GradientDescentOptimizer(0.5).minimize(cross_entropy)\n",
    "\n",
    "sess = tf.Session()\n",
    "sess.run(tf.initialize_all_variables())\n",
    "\n",
    "#  do 1000 iteration to do the \n",
    "for i in range(1000):\n",
    "    # Learning using batch as 100 to save the time instead of the full xs, ys  \n",
    "    batch_xs, batch_ys = mnist.train.next_batch(100)\n",
    "    sess.run(train_step, feed_dict={xs: batch_xs, ys: batch_ys})\n",
    "    if i % 50 == 0:\n",
    "        print(compute_accuracy(\n",
    "            mnist.test.images, mnist.test.labels))"
   ]
  },
  {
   "cell_type": "markdown",
   "metadata": {},
   "source": [
    "The final accuracy is 88.15% after 1000 iterations.\n"
   ]
  },
  {
   "cell_type": "markdown",
   "metadata": {},
   "source": [
    "# Convolutional neuron network"
   ]
  },
  {
   "cell_type": "markdown",
   "metadata": {},
   "source": [
    "After using 2- layer neural network for Mnist image dataset classification, we get an accuray as 88%. But there is a more effecitve way. That is to use convolutional neuron network. For a two-layer convolutional neuron network, it can get an accuracy as 96%.\n"
   ]
  },
  {
   "cell_type": "markdown",
   "metadata": {},
   "source": [
    "## Convolutional neuron network structure"
   ]
  },
  {
   "cell_type": "markdown",
   "metadata": {},
   "source": [
    "In image classfication, the position of digit in the image does not influence the value of digit. So we would like to the neural network to share their parameters across space to decrease influence of position. This is one of reasons  using convolutional neuron network.\n",
    "\n",
    "Next, let us find how the convolution is done. You can also check https://classroom.udacity.com/courses/ud730/ which gives an excellent explanation of deep leanring."
   ]
  },
  {
   "cell_type": "markdown",
   "metadata": {},
   "source": [
    "<img src = \"cnn1.png\">\n",
    "Patching Process\n",
    "\n",
    "source = https://classroom.udacity.com/courses/ud730/lessons/6377263405/concepts/64063017560923#"
   ]
  },
  {
   "cell_type": "markdown",
   "metadata": {},
   "source": [
    "In above, The rectange with depth, height and width are a image we want to classify.\n",
    "\n",
    "We want to use the patch in graph to tranform the blue x part with depth 3 to red y part with depth k. Weights are set for the patch part, so the number of weights are much less. \n",
    "\n"
   ]
  },
  {
   "cell_type": "markdown",
   "metadata": {},
   "source": [
    "If the patch size is same with the whole rectangle, this model becomes neural network. \n",
    "\n",
    "The above image shows one convolution process. If we want to deeper the depth of convolutional neural network,\n",
    "it will be as follows."
   ]
  },
  {
   "cell_type": "markdown",
   "metadata": {},
   "source": [
    "<img source=\"Desktop/cnn1.png\">"
   ]
  },
  {
   "cell_type": "markdown",
   "metadata": {},
   "source": [
    "<img src = \"cnn2.png\">\n",
    "source = https://classroom.udacity.com/courses/ud730/lessons/6377263405/concepts/64063017560923#"
   ]
  },
  {
   "cell_type": "markdown",
   "metadata": {},
   "source": [
    "Between each layer, they are tranformed by convolution process mentioned before. Layer size changed from 256 * 256 * 3 to 128 * 128 * 16 to... 32 * 32 * 256...\n",
    "\n",
    "For final output, implement a classfier on it to do classify."
   ]
  },
  {
   "cell_type": "markdown",
   "metadata": {},
   "source": [
    "## Convolutional neuron network terms"
   ]
  },
  {
   "cell_type": "markdown",
   "metadata": {},
   "source": [
    "Feature map: An image has three feature maps as R, G and B colors. After convolution process, it becomes Y with k feature maps like the picutre above shows.\n",
    "\n",
    "Stride: the number of pixels each time the filter shift in the patch process.\n",
    "\n",
    "Valid padding: after patch process, output map size is less than the input map\n",
    "\n",
    "Same padding: after patch proces, output map size is same as the input map\n"
   ]
  },
  {
   "cell_type": "markdown",
   "metadata": {},
   "source": [
    "Here is one example to help understand these terms."
   ]
  },
  {
   "cell_type": "markdown",
   "metadata": {},
   "source": [
    "<img src = \"cnnterm2.png\">\n",
    "source: https://arxiv.org/pdf/1603.07285v1.pdf\n",
    "\n",
    "This is a 2D convolution. The input size is 5 * 5. The patch size is 3 * 3. The stride is s1 = s2 = 2. The zero paddign is p1 = p2 = 1. Because same size for output and input, so it is same padding (index 1,2 means axis direction).\n",
    "\n",
    "We can do the convolution without the zero padding as 0 around the outside, then it is valid padding.\n",
    "\n",
    "\n"
   ]
  },
  {
   "cell_type": "markdown",
   "metadata": {},
   "source": [
    "\n",
    "Pooling:\n",
    "\n",
    "Another important technique is to use pooling to improve the convolutional neural network. If we use stride 3 to do patch, we can loss many information during the pathcing process since some information are ignored.\n",
    "\n",
    "So first we can do the 1 stride conv,then using a pooling has a pooling size and pooling stride to a similar job with the patch done before.\n",
    "\n",
    "In the pooling, max pooling returns the max of all xi in the pooling size.\n"
   ]
  },
  {
   "cell_type": "markdown",
   "metadata": {},
   "source": [
    "Here is one example about max_pooling."
   ]
  },
  {
   "cell_type": "markdown",
   "metadata": {},
   "source": [
    "<img src = \"cnnpooling.png\">\n",
    "This is a 2D convolution. The input size is 5 * 5. The stride is s1 = s2 = 1. Pooling is using max pooling, its size is 3 * 3. (index 1,2 means axis direction).\n",
    "\n",
    "source: https://arxiv.org/pdf/1603.07285v1.pdf"
   ]
  },
  {
   "cell_type": "markdown",
   "metadata": {},
   "source": [
    "## Building the convolutional neural network model"
   ]
  },
  {
   "cell_type": "markdown",
   "metadata": {},
   "source": [
    "Now, we have all the theory background for build cnn model.\n",
    " \n",
    "For one layer, we first define the patch size and their input size and output size. Then initialize the corresponding weights and bias for this patch. Then using strides as 1 * 1 to implement the convolution process. Using a relu function to deal with the ouput and using pooling to scan the ouput to generate a new feature maps.\n",
    " \n",
    "Forward this feature maps as input to next layer.\n",
    "\n",
    "Until the last layer, using softmax to generat probability and croos entropy function to generate the loss function. Then Using AdamOptimizer to optimize it.\n",
    " \n",
    "Code is as following. "
   ]
  },
  {
   "cell_type": "code",
   "execution_count": 188,
   "metadata": {
    "collapsed": false
   },
   "outputs": [
    {
     "name": "stdout",
     "output_type": "stream",
     "text": [
      "Extracting MNIST_data/train-images-idx3-ubyte.gz\n",
      "Extracting MNIST_data/train-labels-idx1-ubyte.gz\n",
      "Extracting MNIST_data/t10k-images-idx3-ubyte.gz\n",
      "Extracting MNIST_data/t10k-labels-idx1-ubyte.gz\n",
      "0.0699\n",
      "0.7809\n",
      "0.8715\n",
      "0.9053\n",
      "0.9226\n",
      "0.9296\n",
      "0.9394\n",
      "0.944\n",
      "0.9493\n",
      "0.9508\n",
      "0.9554\n",
      "0.9548\n",
      "0.9609\n",
      "0.9602\n",
      "0.9632\n",
      "0.9652\n",
      "0.9659\n",
      "0.9672\n",
      "0.9693\n",
      "0.969\n"
     ]
    }
   ],
   "source": [
    "import tensorflow as tf\n",
    "from tensorflow.examples.tutorials.mnist import input_data\n",
    "# number 1 to 10 digit image classification\n",
    "mnist = input_data.read_data_sets('MNIST_data', one_hot=True)\n",
    "\n",
    "# compute the accuracy\n",
    "def compute_accuracy(v_xs, v_ys):\n",
    "    global prediction\n",
    "    y_pre = sess.run(prediction, feed_dict={xs: v_xs, keep_prob: 1})\n",
    "    correct_prediction = tf.equal(tf.argmax(y_pre,1), tf.argmax(v_ys,1))\n",
    "    accuracy = tf.reduce_mean(tf.cast(correct_prediction, tf.float32))\n",
    "    result = sess.run(accuracy, feed_dict={xs: v_xs, ys: v_ys, keep_prob: 1})\n",
    "    return result\n",
    "\n",
    "def weight_variable(shape):\n",
    "    initial = tf.truncated_normal(shape, stddev=0.1)\n",
    "    return tf.Variable(initial)\n",
    "\n",
    "def bias_variable(shape):\n",
    "    initial = tf.constant(0.1, shape=shape)\n",
    "    return tf.Variable(initial)\n",
    "\n",
    "#  using stride as 1 * 1\n",
    "def conv2d(x, W):\n",
    "    return tf.nn.conv2d(x, W, strides=[1, 1, 1, 1], padding='SAME')\n",
    "\n",
    "# using pooling as strides 2 * 2, size 2 * 2\n",
    "def max_pool_2x2(x):\n",
    "    return tf.nn.max_pool(x, ksize=[1,2,2,1], strides=[1,2,2,1], padding='SAME')\n",
    "\n",
    "# define placeholder for inputs\n",
    "xs = tf.placeholder(tf.float32, [None, 784]) # 28x28\n",
    "ys = tf.placeholder(tf.float32, [None, 10])\n",
    "keep_prob = tf.placeholder(tf.float32)\n",
    "x_image = tf.reshape(xs, [-1, 28, 28, 1])\n",
    "\n",
    "\n",
    "## conv1 layer ##\n",
    "# patch 5x5, size is 1, out size 32\n",
    "W_conv1 = weight_variable([5,5, 1,32]) \n",
    "b_conv1 = bias_variable([32])\n",
    "# output size is 28x28x32\n",
    "h_conv1 = tf.nn.relu(conv2d(x_image, W_conv1) + b_conv1) \n",
    "# output size is 14x14x32\n",
    "h_pool1 = max_pool_2x2(h_conv1)                                         \n",
    "\n",
    "## conv2 layer ##\n",
    "# patch 5x5, in size 32, out size 64\n",
    "W_conv2 = weight_variable([5,5, 32, 64]) \n",
    "b_conv2 = bias_variable([64])\n",
    "# output size is 14x14x64\n",
    "h_conv2 = tf.nn.relu(conv2d(h_pool1, W_conv2) + b_conv2) \n",
    "# output size is 7x7x64\n",
    "h_pool2 = max_pool_2x2(h_conv2)                                        \n",
    "\n",
    "## func1 layer ##\n",
    "W_fc1 = weight_variable([7*7*64, 1024])\n",
    "b_fc1 = bias_variable([1024])\n",
    "# [n_samples, 7, 7, 64] to [n_samples, 7*7*64]\n",
    "h_pool2_flat = tf.reshape(h_pool2, [-1, 7*7*64])\n",
    "h_fc1 = tf.nn.relu(tf.matmul(h_pool2_flat, W_fc1) + b_fc1)\n",
    "#  this is using dropout\n",
    "h_fc1_drop = tf.nn.dropout(h_fc1, keep_prob)\n",
    "\n",
    "## func2 layer ##\n",
    "W_fc2 = weight_variable([1024, 10])\n",
    "b_fc2 = bias_variable([10])\n",
    "prediction = tf.nn.softmax(tf.matmul(h_fc1_drop, W_fc2) + b_fc2)\n",
    "\n",
    "\n",
    "# the error between prediction and real data\n",
    "cross_entropy = tf.reduce_mean(-tf.reduce_sum(ys * tf.log(prediction),\n",
    "                                              reduction_indices=[1]))       # loss\n",
    "train_step = tf.train.AdamOptimizer(1e-4).minimize(cross_entropy)\n",
    "\n",
    "sess = tf.Session()\n",
    "sess.run(tf.initialize_all_variables())\n",
    "\n",
    "for i in range(1000):\n",
    "    batch_xs, batch_ys = mnist.train.next_batch(100)\n",
    "    sess.run(train_step, feed_dict={xs: batch_xs, ys: batch_ys, keep_prob: 0.5})\n",
    "    if i % 50 == 0:\n",
    "        print(compute_accuracy(\n",
    "            mnist.test.images, mnist.test.labels))"
   ]
  },
  {
   "cell_type": "markdown",
   "metadata": {
    "collapsed": true
   },
   "source": [
    "The final accuray is around 97% which is much better than the neural network as 88%. "
   ]
  },
  {
   "cell_type": "markdown",
   "metadata": {},
   "source": [
    "# Summary and references:"
   ]
  },
  {
   "cell_type": "markdown",
   "metadata": {},
   "source": [
    "This tutorial convered basic models like regression in data science using python. Then it convers deep learning models and their accuracy.\n",
    "\n",
    "Depth of layers can be increased to get a better accuracy though two layers already gives a good result.\n",
    "\n",
    "More references are available:\n",
    "\n",
    "1 tensorflow: https://www.tensorflow.org/\n",
    "\n",
    "2 Machine Learning: https://www.coursera.org/learn/machine-learning\n",
    "\n",
    "3 deep learning: https://classroom.udacity.com/courses/ud730\n",
    "\n",
    "4 cs231n: http://cs231n.stanford.edu/\n",
    "\n",
    "5 a guide to convolution arithmetic: https://arxiv.org/pdf/1603.07285v1.pdf"
   ]
  }
 ],
 "metadata": {
  "kernelspec": {
   "display_name": "Python 2",
   "language": "python",
   "name": "python2"
  },
  "language_info": {
   "codemirror_mode": {
    "name": "ipython",
    "version": 2
   },
   "file_extension": ".py",
   "mimetype": "text/x-python",
   "name": "python",
   "nbconvert_exporter": "python",
   "pygments_lexer": "ipython2",
   "version": "2.7.10"
  }
 },
 "nbformat": 4,
 "nbformat_minor": 0
}
