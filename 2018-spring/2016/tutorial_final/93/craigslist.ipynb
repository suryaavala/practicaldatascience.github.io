{
 "cells": [
  {
   "cell_type": "markdown",
   "metadata": {},
   "source": [
    "# Craigslist House Price Crawling with Scrapy and Trend Analysis\n",
    "\n",
    "## Introduction\n",
    "\n",
    "This tutorial will show you how to write a crawler with Scrapy to scrape Craigslist Housing prices in San Francisco and store the data in a CSV file. Then I will include steps to plot the trend of house price varied in one year and make some simple analysis. \n",
    "\n",
    "Craigslist is a classified advertisements website with sections devoted to jobs, housing, personals, for sale etc. There are 2500 apt/housing for rent on Craigslist in San Francisco and around bay area. The dataset for this project is the location and price of these 2500 houses/apt."
   ]
  },
  {
   "cell_type": "markdown",
   "metadata": {},
   "source": [
    "## Tutorial content\n",
    "The rest of this wiki gives a detailed description of the following parts:\n",
    "1. [Installing Scrapy](#Installing-Scrapy)\n",
    "2. [Declaring Items](#Declaring-Items)\n",
    "3. [Write Spider](#Write-Spider)\n",
    "4. [Result analysis and Data visualization](#Result-Analysis-and-Data-visualization)"
   ]
  },
  {
   "cell_type": "markdown",
   "metadata": {},
   "source": [
    "## Installing Scrapy\n",
    "\n",
    "Scrapy runs on Python 2.7 and Python 3.3 or above (except on Windows where Python 3 is not supported yet). You can install Scrapy and its dependencies from PyPI with:\n",
    "\n",
    "    $ pip install Scrapy\n",
    "    \n",
    "After the installation, you can see notification like:\n",
    "\n",
    "&nbsp;&nbsp;&nbsp;&nbsp;*Successfully installed PyDispatcher-2.0.5 Scrapy-1.2.0 Twisted...* \n",
    "\n",
    "in terminal, which means Scrapy is installed sucessfully."
   ]
  },
  {
   "cell_type": "markdown",
   "metadata": {},
   "source": [
    "## Declaring Items\n",
    "\n",
    "Craigslist web page we are crawling is unstructured sources, however to make it easier to analysis, we need to extract structured data from the raw data. Scrapy spiders can return the extracted data as Python dicts by default. While convenient and familiar, Python dicts lack structure: it is easy to make a typo in a field name or return inconsistent data, especially in a larger project with many spiders.\n",
    "\n",
    "To define common output data format Scrapy provides the Item class. Items are containers that will be loaded with the scraped data; they work like simple python dicts but provide additional protection against populating undeclared fields, to prevent typos. Items are declared using a simple class definition syntax and Field objects. \n",
    "\n",
    "Before coding, first thing we need to clarify is what information is needed and declare items according to these objects. Here we need datetime when the post is published, price of the house, detailed location and house type. Thus items are created like below:"
   ]
  },
  {
   "cell_type": "code",
   "execution_count": null,
   "metadata": {
    "collapsed": false
   },
   "outputs": [],
   "source": [
    "import re\n",
    "from scrapy.item import Item, Field\n",
    "\n",
    "\n",
    "def room_serialize(content):\n",
    "    res = \"\"\n",
    "    if len(content) == 0:\n",
    "        return res\n",
    "    expbr = re.compile(r'\\d+br')\n",
    "    bed = expbr.search(content[0])\n",
    "    if bed is not None:\n",
    "        res = bed.group(0)[:-2]\n",
    "    return res\n",
    "\n",
    "\n",
    "def area_serialize(content):\n",
    "    res = \"\"\n",
    "    if len(content) == 0:\n",
    "        return res\n",
    "    expft = re.compile(r'\\d+ft')\n",
    "    ft = expft.search(content[0])\n",
    "    if ft is not None:\n",
    "        res = ft.group(0)\n",
    "    return res\n",
    "\n",
    "\n",
    "class CraigslistItem(Item):\n",
    "    datetime = Field()\n",
    "    price = Field()\n",
    "    location = Field()\n",
    "    room = Field(serializer=room_serialize)\n",
    "    area = Field(serializer=area_serialize)\n"
   ]
  },
  {
   "cell_type": "markdown",
   "metadata": {},
   "source": [
    "Since room and area field metadata sometimes are empty or in wrong format, I extend these two items to add specific serializer to change some metadata to make the result suitable for analysis. "
   ]
  },
  {
   "cell_type": "markdown",
   "metadata": {
    "collapsed": true
   },
   "source": [
    "## Write Spider\n",
    "\n",
    "Spiders are user-written classes used to scrape information from a domain (or group of domains). Most logic management is defined inside of Spider. Spider can define how to crawl the website, what data to extract and return the structured items. \n",
    "\n",
    "Basic spider class inherits from BaseSpider. However, this will only crawl on one page. We need to scray Web Pages recursively to enable spider to click *next button* to crawl data on all pages. Then in this tutorial spider needs to inherit from CrawlSpider class. \n",
    "\n",
    "We need to add in some Rules objects to define how the crawler follows the links. In craigslist housing, there are only 100 posts in one page and we need to click on next button to do the recursive crawl.\n",
    "\n",
    "When spider get one valid page, this will be treated as *response* then sent to *parse_items* function. "
   ]
  },
  {
   "cell_type": "markdown",
   "metadata": {},
   "source": [
    "### XPath Selectors\n",
    "\n",
    "XPath is a language for selecting nodes in XML documents, which can also be used with HTML. It is very powerful and flexible and supported by many extraction tools nowadays. In this tutorial, two larger div: times and infos are extracted at first. This acts as a nesting selector, then a further extract using XPath is needed to get more specific data inside times and infos div."
   ]
  },
  {
   "cell_type": "code",
   "execution_count": null,
   "metadata": {
    "collapsed": false
   },
   "outputs": [],
   "source": [
    "from scrapy.contrib.spiders import CrawlSpider, Rule\n",
    "from scrapy.contrib.linkextractors.sgml import SgmlLinkExtractor\n",
    "from scrapy.selector import HtmlXPathSelector\n",
    "from craigslist.items import CraigslistItem\n",
    "\n",
    "\n",
    "class MySpider(CrawlSpider):\n",
    "    name = \"craigs\"\n",
    "    allowed_domains = [\"sfbay.craigslist.org\"]\n",
    "    start_urls = [\"https://sfbay.craigslist.org/search/apa\"]\n",
    "\n",
    "    rules = (\n",
    "        Rule(SgmlLinkExtractor(allow=(), restrict_xpaths=('//a[@class=\"button next\"]',)), callback=\"parse_items\",\n",
    "             follow=True),\n",
    "    )\n",
    "\n",
    "    def parse_items(self, response):\n",
    "        hxs = HtmlXPathSelector(response)\n",
    "        times = hxs.xpath('//span[@class=\"pl\"]')\n",
    "        infos = hxs.xpath('//span[@class=\"l2\"]')\n",
    "        items = []\n",
    "        for time, info in zip(times, infos):\n",
    "            item = CraigslistItem()\n",
    "            item[\"datetime\"] = time.xpath('time/@datetime').extract()\n",
    "            item[\"price\"] = info.xpath('span[@class=\"price\"]/text()').extract()\n",
    "            if len(item[\"datetime\"]) == 0 or len(item[\"price\"]) == 0:\n",
    "                continue\n",
    "            item[\"location\"] = info.xpath('span[@class=\"pnr\"]/small/text()').extract()\n",
    "            item[\"room\"] = info.xpath('span[@class=\"housing\"]/text()').extract()\n",
    "            item[\"area\"] = info.xpath('span[@class=\"housing\"]/text()').extract()\n",
    "            items.append(item)\n",
    "        return items\n",
    "   "
   ]
  },
  {
   "cell_type": "markdown",
   "metadata": {},
   "source": [
    "* Allowed_domains are domains that spider is allowed to crawl. This is an optional part, but including it can avoid to crawl other unrelative pages if there are some links on the start page.\n",
    "\n",
    "* SgmlLinkExtractor defines how the spider will follow the links: allow defines the link href, restrict_xpaths retricts the links to a certain Xpath.\n",
    "\n",
    "* Callback defines which function to call after each page is scraped. \n",
    "\n",
    "* Follow defines whether to continue following the links as long as they exists. "
   ]
  },
  {
   "cell_type": "markdown",
   "metadata": {},
   "source": [
    "### CSS Selector\n",
    "CSS selectors are patterns used to select the element(s) you want to style. In the background, CSS queries are translated into XPath queries using cssselect library and run .xpath() method. CSS selectors are great, and they’re constantly rolling out new and better features that make them greater, they were still specifically designed for styling."
   ]
  },
  {
   "cell_type": "code",
   "execution_count": null,
   "metadata": {
    "collapsed": true
   },
   "outputs": [],
   "source": [
    "    def parse_items_css(self, response):\n",
    "        times = response.css('span.pl')\n",
    "        infos = response.css('span.l2')\n",
    "        items = []\n",
    "        for time, info in zip(times, infos):\n",
    "            item = CraigslistItem()\n",
    "            item[\"datetime\"] = time.css('time::attr(\"datetime\")').extract()\n",
    "            item[\"price\"] = info.css('span.price::text').extract()\n",
    "            item[\"location\"] = info.css('span.pnr small::text').extract()\n",
    "            item[\"room\"] = info.css('span.housing::text').extract()\n",
    "            if len(item[\"datetime\"]) == 0 or len(item[\"price\"]) == 0 or len(item[\"room\"]) == 0:\n",
    "                continue\n",
    "            item[\"area\"] = info.css('span.housing::text').extract()\n",
    "            items.append(item)\n",
    "        return items"
   ]
  },
  {
   "cell_type": "markdown",
   "metadata": {},
   "source": [
    "Explanation for the code above.\n",
    "\n",
    "In the CSS query, *time::attr(\"datetime\")* will extract datetime attribute under time class.\n",
    "\n",
    "*span.pnr small::text* will find the span with pnr class type, then the inner class named small and extract its text."
   ]
  },
  {
   "cell_type": "markdown",
   "metadata": {},
   "source": [
    "### note\n",
    "\n",
    "To run the above spider, shoot the following command line:\n",
    "\n",
    "*scrapy crawl craigs -o items.csv -t csv*\n",
    "\n",
    "Then a file named *items.csv* is generated which contains the useful data crawled from Craigslist."
   ]
  },
  {
   "cell_type": "markdown",
   "metadata": {},
   "source": [
    "### Complex Spider \n",
    "\n",
    "I add another spider because I need to crawl another page to get the housing data of previous and future days rent. The sample code are as follows. \n",
    "\n",
    "Here I add *process_links=validation* in Rule because *next day* button will always exists, however, I only need the house data for about one month. Therefore I add validation function to check when the spider should stop."
   ]
  },
  {
   "cell_type": "code",
   "execution_count": null,
   "metadata": {
    "collapsed": true
   },
   "outputs": [],
   "source": [
    "import datetime\n",
    "import re\n",
    "\n",
    "def validation(links):\n",
    "    if len(links) <= 1:\n",
    "        return []\n",
    "    res = []\n",
    "    for link in links:\n",
    "        next_link = link.url\n",
    "        date = re.findall(r'\\d{4}-\\d{2}-\\d{2}', next_link)[0]\n",
    "        date = datetime.datetime.strptime(date, '%Y-%m-%d')\n",
    "        if datetime.datetime(2016, 11, 1) <= date <= datetime.datetime(2016, 11, 20):\n",
    "            res.append(link)\n",
    "    return res\n",
    "\n",
    "class month_spider(CrawlSpider):\n",
    "    name = \"craigs\"\n",
    "    allowed_domains = [\"sfbay.craigslist.org\"]\n",
    "    start_urls = [\"https://sfbay.craigslist.org/search/sby/apa?sale_date=2016-11-02&sort=upcoming\"]\n",
    "    start_date = datetime.date(2016, 11, 02)\n",
    "    follows = True\n",
    "\n",
    "    rules = (\n",
    "        Rule(SgmlLinkExtractor(allow=(), restrict_xpaths=('//span[@class=\"daybubbles\"]',)), callback=\"parse_items\",\n",
    "             follow=follows, process_links=validation),\n",
    "        Rule(SgmlLinkExtractor(allow=(), restrict_xpaths=('//a[@class=\"button next\"]',)), callback=\"parse_items\",\n",
    "             follow=follows, process_links=validation)\n",
    "    )\n",
    "\n",
    "    def parse_items(self, response):\n",
    "        date = re.findall(r'\\d{4}-\\d{2}-\\d{2}', response.url)[0]\n",
    "        date = datetime.datetime.strptime(date, '%Y-%m-%d')\n",
    "        hxs = HtmlXPathSelector(response)\n",
    "        infos = hxs.xpath('//span[@class=\"l2\"]')\n",
    "        items = []\n",
    "        for info in infos:\n",
    "            item = CraigslistItem()\n",
    "            item[\"datetime\"] = str(date)\n",
    "            item[\"price\"] = info.xpath('span[@class=\"price\"]/text()').extract()\n",
    "            item[\"location\"] = info.xpath('span[@class=\"pnr\"]/small/text()').extract()\n",
    "            item[\"room\"] = info.xpath('span[@class=\"housing\"]/text()').extract()\n",
    "            item[\"area\"] = info.xpath('span[@class=\"housing\"]/text()').extract()\n",
    "            if len(item[\"price\"]) == 0 or len(item[\"area\"]) == 0 or len(item[\"room\"]) == 0:\n",
    "                continue\n",
    "            items.append(item)\n",
    "        return items"
   ]
  },
  {
   "cell_type": "markdown",
   "metadata": {},
   "source": [
    "## Result Analysis and Data visualization\n",
    "\n",
    "Output data contains four feilds: house,price,location,datetime. Price and datetime is required. There are 2393 items crawled in total and saved to a csv file. \n",
    "\n",
    "Here I use pandas to perform a statistics on the output data and use matplotlib to plot histograms. X-axis is number of bedrooms, y-axis is counts of apts that have these rooms."
   ]
  },
  {
   "cell_type": "markdown",
   "metadata": {},
   "source": [
    "### Houses amount versus the corresponding house type diagram"
   ]
  },
  {
   "cell_type": "code",
   "execution_count": 1,
   "metadata": {
    "collapsed": false
   },
   "outputs": [
    {
     "name": "stderr",
     "output_type": "stream",
     "text": [
      "/usr/local/lib/python2.7/site-packages/matplotlib/font_manager.py:273: UserWarning: Matplotlib is building the font cache using fc-list. This may take a moment.\n",
      "  warnings.warn('Matplotlib is building the font cache using fc-list. This may take a moment.')\n"
     ]
    }
   ],
   "source": [
    "import pandas as pd\n",
    "%matplotlib inline\n",
    "import matplotlib.pyplot as plt\n",
    "df = pd.read_csv('total.csv')\n",
    "df = df.dropna()\n",
    "df = df[df['room'] != 'room']"
   ]
  },
  {
   "cell_type": "code",
   "execution_count": 2,
   "metadata": {
    "collapsed": false
   },
   "outputs": [
    {
     "name": "stdout",
     "output_type": "stream",
     "text": [
      "Index([u'1', u'2', u'3', u'4', u'5', u'6', u'7'], dtype='object', name=u'room')\n"
     ]
    },
    {
     "data": {
      "text/plain": [
       "<Container object of 7 artists>"
      ]
     },
     "execution_count": 2,
     "metadata": {},
     "output_type": "execute_result"
    },
    {
     "data": {
      "image/png": "[encoded data removed]",
      "text/plain": [
       "<matplotlib.figure.Figure at 0x1071de1d0>"
      ]
     },
     "metadata": {},
     "output_type": "display_data"
    }
   ],
   "source": [
    "stat = df.groupby('room').size()\n",
    "print stat.index\n",
    "plt.bar(stat.index,stat.values)"
   ]
  },
  {
   "cell_type": "markdown",
   "metadata": {
    "collapsed": true
   },
   "source": [
    "From the figure above, we can see that most houses for rent are two beds and one bed room, while only a little has 6-8 beds houses for rent. "
   ]
  },
  {
   "cell_type": "markdown",
   "metadata": {},
   "source": [
    "### Average house prices for each house type\n",
    "\n",
    "Here I will first group by house type and then calculate the avarage price for each type."
   ]
  },
  {
   "cell_type": "code",
   "execution_count": 3,
   "metadata": {
    "collapsed": false
   },
   "outputs": [],
   "source": [
    "fun = lambda x: float(x[1:]) if x[0] == '$' else float(x)\n",
    "df['price'] = df['price'].map(fun)\n",
    "fun = lambda x: float(x[:-2]) if x[-2:] == 'ft' else float(x)\n",
    "df['area'] = df['area'].map(fun)\n",
    "df['datetime'] = df['datetime'].map(lambda x: x[:10])\n",
    "df['datetime'] = pd.to_datetime(df['datetime'])"
   ]
  },
  {
   "cell_type": "code",
   "execution_count": 4,
   "metadata": {
    "collapsed": false
   },
   "outputs": [
    {
     "data": {
      "text/plain": [
       "[<matplotlib.lines.Line2D at 0x1098d6790>]"
      ]
     },
     "execution_count": 4,
     "metadata": {},
     "output_type": "execute_result"
    },
    {
     "data": {
      "image/png": "[encoded data removed]",
      "text/plain": [
       "<matplotlib.figure.Figure at 0x106d60190>"
      ]
     },
     "metadata": {},
     "output_type": "display_data"
    }
   ],
   "source": [
    "avg = df[['price','room']].groupby('room')['price'].mean()\n",
    "plt.plot(avg.index,avg.values)"
   ]
  },
  {
   "cell_type": "markdown",
   "metadata": {},
   "source": [
    "From this diagram, we can see at first the relationship between distance and time is linear when bedroom numbers are smaller than 4. However, when there are 4-5 bedrooms, the average house rent prices are similar. When it comes to 6-bed and 7-bed, there is a huge rise. Since there are only a few 6-bed and 7-bed apt samples, the statistical results for 6-7 bedrooms are not typical."
   ]
  },
  {
   "cell_type": "markdown",
   "metadata": {},
   "source": [
    "### Houses price per feet versus the corresponding post date diagram\n",
    "\n",
    "Here, I will draw a diagram and investigate for each bedroom type, houses price price per feet versus the house rent start date trend. "
   ]
  },
  {
   "cell_type": "code",
   "execution_count": 5,
   "metadata": {
    "collapsed": false
   },
   "outputs": [
    {
     "name": "stderr",
     "output_type": "stream",
     "text": [
      "/usr/local/lib/python2.7/site-packages/ipykernel/__main__.py:4: SettingWithCopyWarning: \n",
      "A value is trying to be set on a copy of a slice from a DataFrame.\n",
      "Try using .loc[row_indexer,col_indexer] = value instead\n",
      "\n",
      "See the caveats in the documentation: http://pandas.pydata.org/pandas-docs/stable/indexing.html#indexing-view-versus-copy\n"
     ]
    },
    {
     "data": {
      "image/png": "[encoded data removed]",
      "text/plain": [
       "<matplotlib.figure.Figure at 0x109543390>"
      ]
     },
     "metadata": {},
     "output_type": "display_data"
    }
   ],
   "source": [
    "def plot_bedrooms(df, bd, style):\n",
    "    df1b = df[df['room'] == str(bd)]\n",
    "    price_ft = df1b['price'] / df1b['area']\n",
    "    df1b['unitprice'] = price_ft\n",
    "    df1b = df1b[df1b['unitprice'] < 20]\n",
    "    mean_df = df1b.groupby('datetime').mean()\n",
    "    plt.plot(mean_df.index, mean_df['unitprice'], style)\n",
    "\n",
    "plot_bedrooms(df, 1, 'b')\n",
    "plot_bedrooms(df, 2, 'r')\n",
    "plot_bedrooms(df, 3, 'y')"
   ]
  },
  {
   "cell_type": "markdown",
   "metadata": {},
   "source": [
    "From the above diagram, we can see, one bedroom house price is higher than 2-bedroom and 3-bedroom house. House price fluctuates when houses are going to rent in month."
   ]
  },
  {
   "cell_type": "code",
   "execution_count": null,
   "metadata": {
    "collapsed": true
   },
   "outputs": [],
   "source": []
  }
 ],
 "metadata": {
  "kernelspec": {
   "display_name": "Python 2",
   "language": "python",
   "name": "python2"
  },
  "language_info": {
   "codemirror_mode": {
    "name": "ipython",
    "version": 2
   },
   "file_extension": ".py",
   "mimetype": "text/x-python",
   "name": "python",
   "nbconvert_exporter": "python",
   "pygments_lexer": "ipython2",
   "version": "2.7.12"
  }
 },
 "nbformat": 4,
 "nbformat_minor": 1
}
