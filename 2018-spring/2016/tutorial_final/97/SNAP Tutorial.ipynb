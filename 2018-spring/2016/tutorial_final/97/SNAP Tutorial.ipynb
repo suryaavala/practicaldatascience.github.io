{
 "cells": [
  {
   "cell_type": "markdown",
   "metadata": {},
   "source": [
    "## Introduction\n",
    "\n",
    "This tutorial will introduce you to some basic methods for processing and analyzing network data, particularly focusing on large scale network analytics using Stanford Network Analysis Platform (SNAP). Networks are a general language for describing complex systems. They can be used to present information like connections between friends and families, societies, road networks, neuron interactions in the brain, and global economic networks. Network data forms a key aspect of data science. In many settings we want to visualize or analyze data with a network component: where information can be represented using nodes (mostly entities) and edges (mostly relationship between entities). Networks are means to represent such kind of data. Visualizing the network data and understanding key network statistics tells us a great deal about some question we are interested in.\n",
    "\n",
    "An example of this is the degrees of separation statistics, which Facebook reported recently:\n",
    "[<img src=\"https://scontent-iad3-1.xx.fbcdn.net/t39.2365-6/12683879_1559394484383614_1037808524_n.png\">](https://research.facebook.com/blog/three-and-a-half-degrees-of-separation/)\"Each person in the world (at least among the 1.59 billion people active on Facebook) is connected to every other person by an average of three and a half other people. The average distance we observe is 4.57, corresponding to 3.57 intermediaries or 'degrees of separation.'\" The network here has Facebook users as nodes and friendships as edges. Degrees of separation is the average number of nodes on the path from any one node to another in the graph/network (we will use these two terms interchangeably)."
   ]
  },
  {
   "cell_type": "markdown",
   "metadata": {},
   "source": [
    "## Tutorial content\n",
    "\n",
    "In this tutorial, we will cover some basic network analysis in Python, specifically using [SNAP.py](http://snap.stanford.edu/). SNAP is a general purpose, high-performance system for analysis and manipulation of large networks. It claims to scale to networks with hundreds of millions of nodes and billions of edges.\n",
    "\n",
    "We will cover the following topics in this tutorial:\n",
    "- [Installation](#Installation)\n",
    "- [Loading data and plotting](#Loading-data-and-plotting)\n",
    "- [Network Analysis](#Network-analysis)\n",
    "- [Graph Generators](#Graph-Generators)\n",
    "- [Example application: findingJavaExperts](#Example-application:-findingJavaExperts)\n",
    "- [Graph Sparsification](#Graph-sparsification)"
   ]
  },
  {
   "cell_type": "markdown",
   "metadata": {},
   "source": [
    "## Installation"
   ]
  },
  {
   "cell_type": "markdown",
   "metadata": {},
   "source": [
    "Before getting started, you'll need to download the Snap.py for your platform that we will use. You can download it from http://snap.stanford.edu/snappy/index.html#download. Run the setup.py file using:\n",
    "\n",
    "    $ python setup.py install\n",
    "    \n",
    "After you run the install, make sure the following command work for you:"
   ]
  },
  {
   "cell_type": "code",
   "execution_count": 54,
   "metadata": {
    "collapsed": false
   },
   "outputs": [],
   "source": [
    "import snap\n",
    "\n",
    "import itertools\n",
    "import random"
   ]
  },
  {
   "cell_type": "markdown",
   "metadata": {},
   "source": [
    "<a id='Loading-data-and-plotting'></a>"
   ]
  },
  {
   "cell_type": "markdown",
   "metadata": {},
   "source": [
    "## Loading Data and Plotting"
   ]
  },
  {
   "cell_type": "markdown",
   "metadata": {},
   "source": [
    "In this tutorial we will use data from Stack Overflow. The dataset comprises of 19,881,020 posts from Jul 2008 to May\n",
    "2014 and has been made publicly available by Stack Overflow\n",
    " (https://archive.org/download/stackexchange/stackoverflow.com-Posts.7z)\n",
    " \n",
    "We will be using a processed version of this data that pertains to posts about 'Java'. This data is uploaded here: https://drive.google.com/drive/folders/0BzBkBWocWLCDTVg2ZHpDZDFTTG8. <b>Please download the files and put them in the working directory before running the cells.</b> The file 'qa.txt' contains 6 columns. We will only use the second (id of the user who posted the question) and the sixth column (id of the user who posted the answer which was accepted) for this analysis.\n",
    "\n",
    "We are loading the data as a PNGraph (directed graph), where each user is a node and edges are directed such that a question owner points to the owner of the accepted answer."
   ]
  },
  {
   "cell_type": "code",
   "execution_count": 2,
   "metadata": {
    "collapsed": false
   },
   "outputs": [
    {
     "name": "stdout",
     "output_type": "stream",
     "text": [
      "Number of nodes with non-zero degree:  146874\n",
      "Number of unique directed edges:  313006\n",
      "Node id: 78, Out-degree: 1, In-degree: 0\n",
      "Node id: 86, Out-degree: 4, In-degree: 5\n",
      "Node id: 58, Out-degree: 7, In-degree: 1\n",
      "Node id: 35, Out-degree: 0, In-degree: 3\n",
      "Node id: 122, Out-degree: 7, In-degree: 8\n"
     ]
    }
   ],
   "source": [
    "G = snap.LoadEdgeList(snap.PNGraph, \"qa.txt\", 1, 5)\n",
    "\n",
    "print \"Number of nodes with non-zero degree: \", snap.CntNonZNodes(G)\n",
    "print \"Number of unique directed edges: \", snap.CntUniqDirEdges(G) \n",
    "\n",
    "for node in itertools.islice(G.Nodes(),5):\n",
    "    print \"Node id: %d, Out-degree: %d, In-degree: %d\" % (node.GetId(), node.GetOutDeg(), node.GetInDeg())"
   ]
  },
  {
   "cell_type": "markdown",
   "metadata": {},
   "source": [
    "We will use Gnuplot to support drawing and visualization in Snap.py. After setting up Gnuplot, set the system PATH variable, so that Gnuplot is available, or put the executables in the working directory."
   ]
  },
  {
   "cell_type": "code",
   "execution_count": 3,
   "metadata": {
    "collapsed": true
   },
   "outputs": [],
   "source": [
    "snap.PlotInDegDistr(G, \"Java-Posts\", \"Java-Posts In Degree\")"
   ]
  },
  {
   "cell_type": "markdown",
   "metadata": {},
   "source": [
    "This command saves 3 files namely inDeg.Java-Posts.png, inDeg.Java-Posts.plt, inDeg.Java-Posts.tab in the same directory. Here is what the output looks like:\n",
    "<img src=\"inDeg.Java-Posts.png\" alt=\"Drawing\" style=\"width: 700px;\">"
   ]
  },
  {
   "cell_type": "markdown",
   "metadata": {},
   "source": [
    "<a id=\"Network-analysis\" ></a>"
   ]
  },
  {
   "cell_type": "markdown",
   "metadata": {},
   "source": [
    "## Network Analysis"
   ]
  },
  {
   "cell_type": "markdown",
   "metadata": {},
   "source": [
    "We will now get some off-the-shelf statistics for the network we loaded. The output of the command (might take some time to run) is stored in info.txt."
   ]
  },
  {
   "cell_type": "code",
   "execution_count": 4,
   "metadata": {
    "collapsed": true
   },
   "outputs": [],
   "source": [
    "snap.PrintInfo(G, \"Java QA Stats\", \"info.txt\", False)"
   ]
  },
  {
   "cell_type": "raw",
   "metadata": {},
   "source": [
    "# Java QA Stats: Directed\n",
    "  Nodes:                    146874\n",
    "  Edges:                    333606\n",
    "  Zero Deg Nodes:           0\n",
    "  Zero InDeg Nodes:         83443\n",
    "  Zero OutDeg Nodes:        30963\n",
    "  NonZero In-Out Deg Nodes: 32468\n",
    "  Unique directed edges:    333606\n",
    "  Unique undirected edges:  333481\n",
    "  Self Edges:               20600\n",
    "  BiDir Edges:              20850\n",
    "  Closed triangles:         41389\n",
    "  Open triangles:           51597174\n",
    "  Frac. of closed triads:   0.000802\n",
    "  Connected component size: 0.893201\n",
    "  Strong conn. comp. size:  0.029433\n",
    "  Approx. full diameter:    12\n",
    "  90% effective diameter:  5.572889\n"
   ]
  },
  {
   "cell_type": "markdown",
   "metadata": {},
   "source": [
    "In the following section we will be using some basic and composite types supported by SNAP. Here, we will quickly see how a few of them can be initialized and accessed as we will need them for most part of the analysis. You can read more about all the types here: http://snap.stanford.edu/snappy/doc/reference/basic.html, http://snap.stanford.edu/snappy/doc/reference/basic.html"
   ]
  },
  {
   "cell_type": "code",
   "execution_count": 58,
   "metadata": {
    "collapsed": false
   },
   "outputs": [
    {
     "name": "stdout",
     "output_type": "stream",
     "text": [
      "Length of vector:  7\n",
      "h[4] =  four\n",
      "Values in the pair:  2.1 2\n"
     ]
    }
   ],
   "source": [
    "vec = snap.TIntV(5)             #Initializes Vector of size 5 to store integers\n",
    "vec.Add(1)                      #Appends to vec\n",
    "vec.Add(2)\n",
    "print \"Length of vector: \", vec.Len()\n",
    "\n",
    "h = snap.TIntStrH()             #Creates a hash with Int key and String value\n",
    "h[4] = \"four\"\n",
    "print \"h[4] = \", h[4]\n",
    "\n",
    "p = snap.TFltIntPr(2.1,2)       #Creates a pair with a float and an int value\n",
    "print \"Values in the pair: \", p.GetVal1(), p.GetVal2()\n",
    "\n",
    "h2 = snap.TStrIntPrH()          #Creates a hash with String key and Integer pair as value\n",
    "h2['k'] = snap.TIntPr(1,3)\n",
    "\n",
    "G1 = snap.TNGraph.New()         #Initializes a directed graph\n",
    "G2 = snap.TUNGraph.New()        #Initializes an undirected Graph\n",
    "N1 = snap.TNEANet.New()         #Initializes a directed Network"
   ]
  },
  {
   "cell_type": "markdown",
   "metadata": {},
   "source": [
    "We will now analyze connectedness in our Java Posts network from Stack Overflow. "
   ]
  },
  {
   "cell_type": "code",
   "execution_count": 15,
   "metadata": {
    "collapsed": false
   },
   "outputs": [
    {
     "name": "stdout",
     "output_type": "stream",
     "text": [
      "Largest Weekly Connected Component - #Nodes 131188, #Edges 322486\n",
      "Largest Strongly Connected Component - #Nodes 4323, #Edges 22531\n",
      "5191 components with size 1\n",
      "4462 components with size 2\n",
      "406 components with size 3\n",
      "68 components with size 4\n",
      "11 components with size 5\n",
      "2 components with size 6\n",
      "2 components with size 7\n",
      "1 components with size 131188\n",
      "Number of Articulation Points: 31015\n"
     ]
    }
   ],
   "source": [
    "MxWcc = snap.GetMxWcc(G)        #Returns graph representing largest weakly connected component\n",
    "print \"Largest Weekly Connected Component - #Nodes %d, #Edges %d\" % (MxWcc.GetNodes(), MxWcc.GetEdges())\n",
    "\n",
    "MxScc = snap.GetMxScc(G)        #Returns graph representing largest strongly connected component\n",
    "print \"Largest Strongly Connected Component - #Nodes %d, #Edges %d\" % (MxScc.GetNodes(), MxScc.GetEdges())\n",
    "\n",
    "WccSizes = snap.TIntPrV()\n",
    "snap.GetWccSzCnt(G, WccSizes)   #Returns size distribution of weakly connected components\n",
    "\n",
    "for pair in WccSizes:\n",
    "    print \"%d components with size %d\" % (pair.GetVal2(), pair.GetVal1())\n",
    "    \n",
    "ArtNIdV = snap.TIntV()          #Returns articulation points\n",
    "snap.GetArtPoints(snap.ConvertGraph(snap.PUNGraph, G), ArtNIdV)\n",
    "print \"Number of Articulation Points: %d\" % len(ArtNIdV)"
   ]
  },
  {
   "cell_type": "markdown",
   "metadata": {},
   "source": [
    "A node in an undirected connected graph is an <b>articulation point</b> (or cut vertex) iff removing it (and edges through it) disconnects the graph. Articulation points represent vulnerabilities in a connected network – single points whose failure would split the network into 2 or more disconnected components. They are useful for designing reliable networks. Note that as G is already disconnected, removing an articulation point in our network will increase the number of connected components."
   ]
  },
  {
   "cell_type": "markdown",
   "metadata": {},
   "source": [
    "We will now analyze node connectivity and degree distribution. "
   ]
  },
  {
   "cell_type": "code",
   "execution_count": 59,
   "metadata": {
    "collapsed": false
   },
   "outputs": [
    {
     "name": "stdout",
     "output_type": "stream",
     "text": [
      "Node with maximum in-degree:  22656\n",
      "Node with maximum out-degree:  892029\n",
      "# of distinct degrees:  322\n",
      "73102 Nodes with Degree 1\n",
      "26517 Nodes with Degree 2\n",
      "12790 Nodes with Degree 3\n",
      "7638 Nodes with Degree 4\n",
      "5138 Nodes with Degree 5\n"
     ]
    }
   ],
   "source": [
    "MaxInDegNode = snap.GetMxInDegNId(G)    #User with maximum accepted answers   \n",
    "print \"Node with maximum in-degree: \", MaxInDegNode\n",
    "\n",
    "MaxOutDegNode = snap.GetMxOutDegNId(G)  #User who accepted maximum answers\n",
    "print \"Node with maximum out-degree: \", MaxOutDegNode\n",
    "\n",
    "DegDist = snap.TIntPrV()     \n",
    "snap.GetDegCnt(G, DegDist)              #Returns node degree distribution\n",
    "print \"# of distinct degrees: \",DegDist.Len()\n",
    "for item in itertools.islice(DegDist, 5):\n",
    "    print \"%d Nodes with Degree %d\" % (item.GetVal2(), item.GetVal1())"
   ]
  },
  {
   "cell_type": "markdown",
   "metadata": {},
   "source": [
    "SNAP supports Breadth First Search ([BFS](https://en.wikipedia.org/wiki/Breadth-first_search)) and Depth First Search ([DFS](https://en.wikipedia.org/wiki/Depth-first_search)). We can also calculate shortest distance to nodes, neighbors at a particular distance, diameter of the graph and various other useful details."
   ]
  },
  {
   "cell_type": "code",
   "execution_count": 62,
   "metadata": {
    "collapsed": false,
    "scrolled": true
   },
   "outputs": [
    {
     "name": "stdout",
     "output_type": "stream",
     "text": [
      "Diameter:  11\n",
      "Effective Diameter:  5.74034326776\n",
      "Shortest Path from node with max out-degree to node with max in-degree is 1 edge\n"
     ]
    }
   ],
   "source": [
    "#Returns (approximation of) Effective Diameter and Diameter of Graph by performing BFS\n",
    "Diameter = snap.GetBfsFullDiam(G, 100)\n",
    "print \"Diameter: \", Diameter\n",
    "EffDiameter = snap.GetBfsEffDiam(G, 100)\n",
    "print \"Effective Diameter: \", EffDiameter\n",
    "\n",
    "ShortPathLength = snap.GetShortPath(G, MaxOutDegNode, MaxInDegNode)\n",
    "print \"Shortest Path from node with max out-degree to node with max in-degree is %d edge\" % ShortPathLength"
   ]
  },
  {
   "cell_type": "markdown",
   "metadata": {},
   "source": [
    "We will now obtain spectral properties for a graph. SNAP can compute eigenvalues and eigenvectors using the adjacency matrix representation of the network."
   ]
  },
  {
   "cell_type": "code",
   "execution_count": 63,
   "metadata": {
    "collapsed": false
   },
   "outputs": [
    {
     "name": "stdout",
     "output_type": "stream",
     "text": [
      "Leading Eigen Value:  20.8376798671\n",
      "Corresponding Eigen Vector:  0.106963147083\n",
      "-6.800735, 0.033524\n",
      "-2.987092, 0.033854\n",
      "1.545339, 0.026695\n",
      "5.841276, 0.025121\n",
      "20.837679, 0.011645\n"
     ]
    }
   ],
   "source": [
    "ERGraph = snap.GenRndGnm(snap.PUNGraph, 100, 1000)    #Generates an Erdos-Renyi random graph\n",
    "EigVals = snap.TFltV()                              \n",
    "snap.GetEigVals(ERGraph, 2, EigVals)                  #Returns the top 2 Eigenvalues\n",
    "print \"Leading Eigen Value: \", EigVals[0]\n",
    "    \n",
    "EigVecs =  snap.TFltV()\n",
    "snap.GetEigVec(ERGraph, EigVecs)                      #Returns leading eigenvector\n",
    "print \"Corresponding Eigen Vector: \", EigVecs[0]\n",
    "\n",
    "EigValIprV = snap.TFltPrV()                         \n",
    "snap.GetInvParticipRat(ERGraph, 5, 1000, EigValIprV)  #Computes inverse participation ratio  \n",
    "for item in EigValIprV:\n",
    "    print '%f, %f' % (item.GetVal1(), item.GetVal2())"
   ]
  },
  {
   "cell_type": "markdown",
   "metadata": {},
   "source": [
    "<a id =\"Graph-Generators\"></a>"
   ]
  },
  {
   "cell_type": "markdown",
   "metadata": {},
   "source": [
    "## Graph Generators"
   ]
  },
  {
   "cell_type": "markdown",
   "metadata": {},
   "source": [
    "In the above example, we generated a [Erdos-Renyi](https://en.wikipedia.org/wiki/Erd%C5%91s%E2%80%93R%C3%A9nyi_model) random graph. SNAP comes with many basic and advanced graph generators. These graph models can be extremely useful. They can be used in probabilistic methods to prove the existence of graphs satisfying various properties, or to provide a rigorous definition of what it means for a property to hold for almost all graphs. We will now try some of them."
   ]
  },
  {
   "cell_type": "code",
   "execution_count": 46,
   "metadata": {
    "collapsed": false,
    "scrolled": true
   },
   "outputs": [
    {
     "name": "stdout",
     "output_type": "stream",
     "text": [
      "<snap.PUNGraph; proxy of <Swig Object of type 'PUNGraph *' at 0x104ec5240> >\n"
     ]
    }
   ],
   "source": [
    "Rnd = snap.TRnd(1,0)\n",
    "SWG = snap.GenSmallWorld(100, 3, 0.7, Rnd) #Returns random small-world graph generated using Watts-Strogatz model\n",
    "FFG = snap.GenForestFire(1000, 0.5, 0.5)   #Returns a random Forest Fire, directed graph with given probabilities\n",
    "PLG = snap.GenRndPowerLaw (100, 10)        #Returns a random scale-free graph with power-law degree distribution\n",
    "print PLG\n",
    "\n",
    "snap.PlotHops(FFG, \"ForestFire\", \"Forest Fire Hops\", False, 1024)"
   ]
  },
  {
   "cell_type": "markdown",
   "metadata": {},
   "source": [
    "[Here](http://snap.stanford.edu/snappy/doc/reference/generators.html?highlight=generators) is the list of all the graph generators that SNAP provides. PlotHops() plots the cumulative distribution of the shortest path lengths of graph. The implementation is based on ANF (Approximate Neighborhood Function). Here is what the output looks like for the random Forest Fire we generated above:\n",
    "<img src=\"hop.ForestFire.png\" alt=\"Drawing\" style=\"width: 700px;\"/>"
   ]
  },
  {
   "cell_type": "markdown",
   "metadata": {},
   "source": [
    "<a id=\"Example-application:-findingJavaExperts\"></a>"
   ]
  },
  {
   "cell_type": "markdown",
   "metadata": {},
   "source": [
    "## Example Application - FindingJavaExperts"
   ]
  },
  {
   "cell_type": "markdown",
   "metadata": {},
   "source": [
    "Now we want to find the top Java experts on Stack overflow using the posts (questions and answers) we loaded at the beginning in graph G. We cannot use the reputation score provided by Stack Overflow as that is not specific to a topic. One way we can do this is to count the number of answers posted by the user on questions related to Java, but this doesn't guarantee that the answer provided was useful! \n",
    "\n",
    "Recall that the in-degree of a node is same as the number of answers posted by the user that were accepted by question owners and out-degree corresponds to the number of questions the question owner asked for which (s)he also accepted an answer. Thus, looking at nodes with maximum out-degree (top learners) and in-degree (top experts) can give us some insight!"
   ]
  },
  {
   "cell_type": "code",
   "execution_count": 56,
   "metadata": {
    "collapsed": false
   },
   "outputs": [
    {
     "name": "stdout",
     "output_type": "stream",
     "text": [
      "\n",
      "Top 5 Java experts by In-degree\n",
      "   Id   | In-degree\n",
      "  22656 | 3999\n",
      " 157882 | 2828\n",
      " 571407 | 2714\n",
      "  57695 | 2448\n",
      " 139985 | 2340\n",
      "\n",
      "Top 5 Java learners by Out-degree\n",
      "   Id   | Out-degree\n",
      " 892029 | 434\n",
      "1194415 | 374\n",
      " 454049 | 204\n",
      " 359862 | 193\n",
      "  44330 | 182\n"
     ]
    }
   ],
   "source": [
    "InDegrees = snap.TIntPrV()                    #Creates a vector of Int pairs\n",
    "snap.GetNodeInDegV(G, InDegrees)              #Computes the in-degree for every node in G\n",
    "TopInDegrees = sorted(InDegrees, key = lambda key: key.GetVal2(), reverse = True)\n",
    "print \"\\nTop 5 Java experts by In-degree\\n   Id   | In-degree\"\n",
    "for item in TopInDegrees[:5]:\n",
    "    print \"%7s | %d\" % (item.GetVal1(), item.GetVal2())\n",
    "\n",
    "OutDegrees = snap.TIntPrV()\n",
    "snap.GetNodeOutDegV(G, OutDegrees)            #Computes the out-degree for every node in G\n",
    "print \"\\nTop 5 Java learners by Out-degree\\n   Id   | Out-degree\"\n",
    "TopOutDegrees = sorted(OutDegrees, key = lambda key: key.GetVal2(), reverse = True)\n",
    "for item in TopOutDegrees[:5]:\n",
    "    print \"%7s | %d\" % (item.GetVal1(), item.GetVal2())"
   ]
  },
  {
   "cell_type": "markdown",
   "metadata": {},
   "source": [
    "Can we do better?\n",
    "\n",
    "We can use a measure of node centrality to find Java experts and learners!\n",
    "First, we will use <b>PageRank</b> as we have already learnt about it in the course."
   ]
  },
  {
   "cell_type": "code",
   "execution_count": 48,
   "metadata": {
    "collapsed": false
   },
   "outputs": [
    {
     "name": "stdout",
     "output_type": "stream",
     "text": [
      "\n",
      "Top 5 Java experts by PageRank\n",
      "   Id   | PageRank\n",
      " 992484 | 0.01398\n",
      " 135152 | 0.01001\n",
      "  22656 | 0.00710\n",
      " 139985 | 0.00552\n",
      " 157882 | 0.00460\n"
     ]
    }
   ],
   "source": [
    "PageRank = snap.TIntFltH()                 #Creates a hash with Int key and Flt as value\n",
    "snap.GetPageRank(G, PageRank)              #Populates the hash with PageRanks for all nodes\n",
    "\n",
    "TopPR = sorted(PageRank, key = lambda key: PageRank[key], reverse = True)\n",
    "print \"\\nTop 5 Java experts by PageRank\\n   Id   | PageRank\"\n",
    "for node in TopPR[:5]:\n",
    "    print \"%7s | %.5f\" % (node, PageRank[node])"
   ]
  },
  {
   "cell_type": "markdown",
   "metadata": {},
   "source": [
    "We can also look at other measures like the [HITS score](https://en.wikipedia.org/wiki/HITS_algorithm) (a.k.a 'hubs and authorities') to capture top experts and top learners (question-owners/hubs who are linked to nodes that are considered to be Java experts/authorities)."
   ]
  },
  {
   "cell_type": "code",
   "execution_count": 49,
   "metadata": {
    "collapsed": false
   },
   "outputs": [
    {
     "name": "stdout",
     "output_type": "stream",
     "text": [
      "\n",
      "Top 5 Java experts by Hits\n",
      "   Id   | Authority Rank\n",
      "  22656 | 0.60472\n",
      " 157882 | 0.29870\n",
      " 571407 | 0.28391\n",
      "  57695 | 0.26931\n",
      " 139985 | 0.24940\n",
      "\n",
      "Top 5 Java learners by Hits\n",
      "   Id   | Hub Rank\n",
      " 892029 | 0.07336\n",
      "1194415 | 0.05955\n",
      " 359862 | 0.05688\n",
      " 648138 | 0.05559\n",
      " 470184 | 0.05318\n"
     ]
    }
   ],
   "source": [
    "HubScore = snap.TIntFltH()                 #Creates a hash with Int key and Flt as value\n",
    "AuthScore = snap.TIntFltH()\n",
    "snap.GetHits(G, HubScore, AuthScore)       #Populates the hashes with hub and authority scores for all nodes\n",
    "\n",
    "TopAuth = sorted(AuthScore, key = lambda key: AuthScore[key], reverse = True)\n",
    "print \"\\nTop 5 Java experts by Hits\\n   Id   | Authority Rank\"\n",
    "for node in TopAuth[:5]:\n",
    "    print \"%7s | %.5f\" % (node, AuthScore[node])\n",
    "\n",
    "TopHub = sorted(HubScore, key = lambda key: HubScore[key], reverse = True)\n",
    "print \"\\nTop 5 Java learners by Hits\\n   Id   | Hub Rank\"\n",
    "for node in TopHub[:5]:\n",
    "    print \"%7s | %.5f\" % (node, HubScore[node])"
   ]
  },
  {
   "cell_type": "markdown",
   "metadata": {},
   "source": [
    "Note that there are common user ids we get in the Top 5 list obtained by using the 3 different methods!"
   ]
  },
  {
   "cell_type": "markdown",
   "metadata": {},
   "source": [
    "<a id=\"Graph-sparsification\"></a>"
   ]
  },
  {
   "cell_type": "markdown",
   "metadata": {},
   "source": [
    "## Graph Sparsification"
   ]
  },
  {
   "cell_type": "markdown",
   "metadata": {},
   "source": [
    "As the second example application in this tutorial, I wanted to show how we can detect communities in the entire Stack Overflow Data (we were only using the posts related to Java above) and then look at the communities to get a sense of how they vary in terms of questions tags/topics in each. Turns out that the larger dataset (>3.5 million edges and ~0.8 million nodes) is too big and community detection methods in SNAP could not give an answer even in several hours. This is a common problem is network analysis. When the network gets too big, computation becomes very time-consuming. One of the common techniques used in network analysis to deal with such scenarios is graph sparsification, where we take a representative sample from the network to estimate its properties. Sparsification  is approximating a given graph by a graph with fewer edges or vertices.\n",
    "\n",
    "First, we will load the graph using all the answers and questions in the Stack Overflow data. I have pre-processed the data separately and the structure of the graph is same as before i.e. each user is a node and edges are directed such that a question owner points to the owner of the accepted answer."
   ]
  },
  {
   "cell_type": "code",
   "execution_count": 50,
   "metadata": {
    "collapsed": false
   },
   "outputs": [
    {
     "name": "stdout",
     "output_type": "stream",
     "text": [
      "Number of nodes with non-zero degree in the complete graph:  793542\n",
      "Number of unique directed edges in the complete graph:  3507757\n",
      "Clustering coefficient of the complete graph: 0.009795\n"
     ]
    }
   ],
   "source": [
    "G2 = snap.LoadEdgeList(snap.PNGraph, \"qa_complete.txt\", 1, 4)\n",
    "\n",
    "print \"Number of nodes with non-zero degree in the complete graph: \", snap.CntNonZNodes(G2)\n",
    "print \"Number of unique directed edges in the complete graph: \", snap.CntUniqDirEdges(G2)\n",
    "\n",
    "GraphClustCoeff = snap.GetClustCf (G2, -1)\n",
    "print \"Clustering coefficient of the complete graph: %f\" % GraphClustCoeff"
   ]
  },
  {
   "cell_type": "markdown",
   "metadata": {},
   "source": [
    "State-of-the-art sparsification techniques use advanced data structures and algorithms. Here, we will just try to get an idea about how sparsification works using random sampling. We will sample 1/5th of the edges from the original graph."
   ]
  },
  {
   "cell_type": "code",
   "execution_count": 50,
   "metadata": {
    "collapsed": false
   },
   "outputs": [
    {
     "name": "stdout",
     "output_type": "stream",
     "text": [
      "Number of nodes with non-zero degree:  345368\n",
      "Number of unique directed edges:  613415\n"
     ]
    }
   ],
   "source": [
    "sample_size = snap.CntUniqDirEdges(G2)/5\n",
    "with open(\"qa_complete.txt\") as f1:\n",
    "    with open(\"qa_sample.txt\", 'w+') as f2:\n",
    "        lines = random.sample(f1.readlines(), sample_size)\n",
    "        f2.writelines(lines)\n",
    "\n",
    "GS = snap.LoadEdgeList(snap.PNGraph, \"qa_sample.txt\", 1, 4)\n",
    "print \"Number of nodes with non-zero degree in the sparsified graph: \", snap.CntNonZNodes(GS)\n",
    "print \"Number of unique directed edges in the sparsified graph: \",snap.CntUniqDirEdges(GS)"
   ]
  },
  {
   "cell_type": "code",
   "execution_count": 51,
   "metadata": {
    "collapsed": false
   },
   "outputs": [
    {
     "name": "stdout",
     "output_type": "stream",
     "text": [
      "Clustering coefficient: 0.001770\n"
     ]
    }
   ],
   "source": [
    "GraphClustCoeff = snap.GetClustCf (GS, -1)\n",
    "print \"Clustering coefficient of the sparsified graph: %f\" % GraphClustCoeff"
   ]
  },
  {
   "cell_type": "markdown",
   "metadata": {},
   "source": [
    "We notice that the clustering coefficient of our sparsified network is ~1/5th of the original network, which was also the proportion by which we sampled down. We can make these estimates more accurate by taking multiple such samples and then using the average value. This indicates that we can still estimate some properties of our original graph even though we only have 1/5th of it! It is a useful exercise to think about properties which cannot be estimated if we do sparsification using random sampling (for instance, diameter of the graph).\n",
    "\n",
    "More sophisticated sampling techniques give more accurate estimates. For instance, sparsification techniques based on random-walks and 'forest fire' can accurately match both static as well as evolutionary graph patterns, with sample sizes down to about 15% of the original graph.\n",
    "\n"
   ]
  },
  {
   "cell_type": "markdown",
   "metadata": {},
   "source": [
    "## Summary and references\n",
    "\n",
    "This tutorial highlighted a few elements of what is possible with network data analyzed using SNAP in Python. More detail about the libraries and questions on networks analysis in general are available from the following links.\n",
    "\n",
    "1. SNAP.py reference manual: http://snap.stanford.edu/snappy/doc/reference/index-ref.html\n",
    "2. SNAP Website: http://snap.stanford.edu/snap/index.html\n",
    "3. Introduction to Social Network Analysis using NetworkX (another Python library for network analysis): https://ep2013.europython.eu/media/conference/slides/social-network-analysis-in-python.pdf\n",
    "4. Hyperlink-Induced Topic Search (HITS): https://en.wikipedia.org/wiki/HITS_algorithm\n",
    "5. Sampling A Large Network (Graph Sparsification): http://snap.stanford.edu/class/cs224w-2012/projects/cs224w-036-final.pdf\n"
   ]
  }
 ],
 "metadata": {
  "anaconda-cloud": {},
  "kernelspec": {
   "display_name": "Python [default]",
   "language": "python",
   "name": "python2"
  },
  "language_info": {
   "codemirror_mode": {
    "name": "ipython",
    "version": 2
   },
   "file_extension": ".py",
   "mimetype": "text/x-python",
   "name": "python",
   "nbconvert_exporter": "python",
   "pygments_lexer": "ipython2",
   "version": "2.7.12"
  }
 },
 "nbformat": 4,
 "nbformat_minor": 1
}
