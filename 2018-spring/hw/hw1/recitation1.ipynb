{
 "cells": [
  {
   "cell_type": "markdown",
   "metadata": {},
   "source": [
    "# Recitation 1 "
   ]
  },
  {
   "cell_type": "markdown",
   "metadata": {},
   "source": [
    "# Common Piazza questions, writeup updates"
   ]
  },
  {
   "cell_type": "markdown",
   "metadata": {},
   "source": [
    "See piazza link for post https://piazza.com/class/jcizpany5u6522?cid=92\n",
    "\n",
    "\n",
    "** Writeup typos: ** \n",
    "* In scraper Q1, number of Pittsburgh Yelp Businesses should be 2900, not 13400\n",
    "* In scraper Q2, number of restaurants in Polish Hill should be 42 not 41.\n",
    "* In scraper Q2, all_restaurants should return a list of dictionaries, not a list of strings. The print(data) statement in the reference output should have been print(list(map(lambda x: x['name'], data)))\n",
    "* In XML parser Q1, html_prolog should be html_declaration\n",
    " "
   ]
  },
  {
   "cell_type": "markdown",
   "metadata": {},
   "source": [
    "## Helpful Homework information \n",
    "\n",
    "* start early!\n",
    "* the first question is misleadingly easy [20 min max]\n",
    "* learn how to work your way through documentation\n",
    "* write your own tests!"
   ]
  },
  {
   "cell_type": "markdown",
   "metadata": {},
   "source": [
    "## Demo: how to Submit to Autolab:\n",
    "* run make \n",
    "* upload tarball to autolab"
   ]
  },
  {
   "cell_type": "markdown",
   "metadata": {},
   "source": [
    "## More Helpful Jupyter notebook commands"
   ]
  },
  {
   "cell_type": "code",
   "execution_count": null,
   "metadata": {},
   "outputs": [],
   "source": [
    "!ls # use bash commands in a code block"
   ]
  },
  {
   "cell_type": "markdown",
   "metadata": {},
   "source": [
    "* Y to convert a block to code \n",
    "* M to convert a block into markdown\n",
    "* L to toggle line number"
   ]
  },
  {
   "cell_type": "markdown",
   "metadata": {},
   "source": [
    "# Web scraping"
   ]
  },
  {
   "cell_type": "markdown",
   "metadata": {},
   "source": [
    "## Requests library\n",
    "\n",
    "http://docs.python-requests.org/en/master/\n",
    "\n"
   ]
  },
  {
   "cell_type": "code",
   "execution_count": null,
   "metadata": {},
   "outputs": [],
   "source": [
    "import requests"
   ]
  },
  {
   "cell_type": "markdown",
   "metadata": {},
   "source": [
    "### Parameters:"
   ]
  },
  {
   "cell_type": "code",
   "execution_count": 360,
   "metadata": {
    "scrolled": true
   },
   "outputs": [],
   "source": [
    "url  = \"http://www.google.com/search\"\n",
    "params = {\n",
    "    \"query\": \"python metaclass\", \n",
    "    \"source\":\"chrome\"\n",
    "} #parameter is a python dict\n",
    "response = requests.get(url, params=params)"
   ]
  },
  {
   "cell_type": "markdown",
   "metadata": {},
   "source": [
    "### Useful methods"
   ]
  },
  {
   "cell_type": "code",
   "execution_count": 361,
   "metadata": {},
   "outputs": [
    {
     "data": {
      "text/plain": [
       "'http://www.google.com/search?query=python+metaclass&source=chrome'"
      ]
     },
     "execution_count": 361,
     "metadata": {},
     "output_type": "execute_result"
    }
   ],
   "source": [
    "response.url #returns complete url of response query"
   ]
  },
  {
   "cell_type": "code",
   "execution_count": 362,
   "metadata": {},
   "outputs": [
    {
     "data": {
      "text/plain": [
       "200"
      ]
     },
     "execution_count": 362,
     "metadata": {},
     "output_type": "execute_result"
    }
   ],
   "source": [
    "response.status_code # status code of 200 indicates success. Any other status code is not good"
   ]
  },
  {
   "cell_type": "code",
   "execution_count": 351,
   "metadata": {
    "scrolled": true
   },
   "outputs": [
    {
     "data": {
      "text/plain": [
       "'<!doctype html><html itemscope=\"\" itemtype=\"http://schema.org/SearchResultsPage\" lang=\"en\"><head><meta content=\"text/html; charset=UTF-8\" http-equiv=\"Content-Type\"><meta content=\"/images/branding/googleg/1x/googleg_standard_color_128dp.png\" itemprop=\"image\"><link href=\"/images/branding/product/ico/googleg_lodp.ico\" rel=\"shortcut icon\"><title>python metaclass - Google Search</title><style>#gbar,#guser{font-size:13px;padding-top:1px !important;}#gbar{height:22px}#guser{padding-bottom:7px !importan'"
      ]
     },
     "execution_count": 351,
     "metadata": {},
     "output_type": "execute_result"
    }
   ],
   "source": [
    "response.text[:500] #raw html text in a python string"
   ]
  },
  {
   "cell_type": "code",
   "execution_count": 352,
   "metadata": {
    "scrolled": true
   },
   "outputs": [
    {
     "data": {
      "text/plain": [
       "{'Date': 'Fri, 26 Jan 2018 21:43:08 GMT', 'Expires': '-1', 'Cache-Control': 'private, max-age=0', 'Content-Type': 'text/html; charset=ISO-8859-1', 'P3P': 'CP=\"This is not a P3P policy! See g.co/p3phelp for more info.\"', 'Content-Encoding': 'gzip', 'Server': 'gws', 'X-XSS-Protection': '1; mode=block', 'X-Frame-Options': 'SAMEORIGIN', 'Transfer-Encoding': 'chunked', 'Set-Cookie': '1P_JAR=2018-01-26-21; expires=Sun, 25-Feb-2018 21:43:08 GMT; path=/; domain=.google.com, NID=122=hMAvalcmQ6jh0Apd_CbDtW7OcgS5_7D2pmkDqFV08-6wUh2lb2IQ6hMKMzyDKzR_Zl9_uQRVDeu237HFSaQSSp_AeixmwZ1NHGpyRDqNvNXhHdGGD1shIAPNs0hU53X3; expires=Sat, 28-Jul-2018 21:43:08 GMT; path=/; domain=.google.com; HttpOnly'}"
      ]
     },
     "execution_count": 352,
     "metadata": {},
     "output_type": "execute_result"
    }
   ],
   "source": [
    "response.headers #returns a python dictionary of the headers"
   ]
  },
  {
   "cell_type": "markdown",
   "metadata": {},
   "source": [
    "### Yelp API \n",
    "\n",
    "https://www.yelp.com/developers/documentation/v3/business_search"
   ]
  },
  {
   "cell_type": "code",
   "execution_count": 355,
   "metadata": {},
   "outputs": [],
   "source": [
    "#load api key\n",
    "# key this api key private!\n",
    "with open('api_key.txt', 'r') as f: #equivalent to opening, reading and closing app \n",
    "    api_key= f.read().replace('\\n','')\n"
   ]
  },
  {
   "cell_type": "code",
   "execution_count": 356,
   "metadata": {},
   "outputs": [
    {
     "name": "stdout",
     "output_type": "stream",
     "text": [
      "667  total businesses\n",
      "['Breakroom', 'Los Tacos No.1', 'Los Mariscos', 'Los Tacos No.1', 'Taqueria De Los Muertos', 'El Kucho Mexican Restaurant', 'Tacos Matamoros', 'Miscelanea NY', 'Taqueria Tepango', 'Tortilleria Mexicana Los Hermanos', 'Taqueria Diana', 'Taco Morelos', 'Nacho Macho Taco', 'Tacos El Bronco', 'Blue Maiz', 'Taqueria Coatzingo', 'El Mexicano Restaurant & Coffee', 'Taqueria El Gallo Azteca', 'Gueros', 'Panchos']\n"
     ]
    }
   ],
   "source": [
    "#example using Yelp API\n",
    "headers = {\n",
    "    \"authorization\": 'Bearer %s' % api_key, # for the yelp API \n",
    "}\n",
    "params = { #parameters are case sensitive!\n",
    "    \"location\": \"New York\",\n",
    "    \"categories\": \"mexican\",\n",
    "    \"price\":\"1\",\n",
    "    \"open_now\": False,  \n",
    "    \n",
    "}\n",
    "\n",
    "response = requests.get('https://api.yelp.com/v3/businesses/search',\n",
    "                        headers=headers, params=params)\n",
    "result = response.json() #converts json into a python dictionary\n",
    "print(result['total'],\" total businesses\")\n",
    "print([i['name'] for i in result['businesses']]) \n",
    "#oh wait, this only returns at max 20 businesses. Any idea why?"
   ]
  },
  {
   "cell_type": "markdown",
   "metadata": {},
   "source": [
    "# Beautifulsoup\n",
    "https://www.crummy.com/software/BeautifulSoup/bs4/doc/"
   ]
  },
  {
   "cell_type": "code",
   "execution_count": null,
   "metadata": {},
   "outputs": [],
   "source": [
    "from bs4 import BeautifulSoup\n",
    "html_doc = \"\"\"\n",
    "<html><head><title>The Dormouse's story</title></head>\n",
    "<body>\n",
    "<p class=\"title\"><b>The Dormouse's story</b></p>\n",
    "\n",
    "<p class=\"story\">Once upon a time there were three little sisters; and their names were\n",
    "<a href=\"http://example.com/elsie\" class=\"sister\" id=\"link1\">Elsie</a>,\n",
    "<a href=\"http://example.com/lacie\" class=\"sister\" id=\"link2\">Lacie</a> and\n",
    "<a href=\"http://example.com/tillie\" class=\"sister\" id=\"link3\">Tillie</a>;\n",
    "and they lived at the bottom of a well.</p>\n",
    "\n",
    "<p class=\"story\">...</p>\n",
    "\"\"\""
   ]
  },
  {
   "cell_type": "code",
   "execution_count": null,
   "metadata": {
    "scrolled": true
   },
   "outputs": [],
   "source": [
    "soup = BeautifulSoup(html_doc, 'html.parser') \n",
    "print(soup.prettify())"
   ]
  },
  {
   "cell_type": "code",
   "execution_count": null,
   "metadata": {
    "scrolled": false
   },
   "outputs": [],
   "source": [
    "soup.title"
   ]
  },
  {
   "cell_type": "markdown",
   "metadata": {},
   "source": [
    "### soup.find"
   ]
  },
  {
   "cell_type": "code",
   "execution_count": null,
   "metadata": {
    "scrolled": true
   },
   "outputs": [],
   "source": [
    "soup.find('a')"
   ]
  },
  {
   "cell_type": "markdown",
   "metadata": {},
   "source": [
    "### soup.findall"
   ]
  },
  {
   "cell_type": "code",
   "execution_count": null,
   "metadata": {},
   "outputs": [],
   "source": [
    "soup.find_all('a') #returns bs4.element.tag"
   ]
  },
  {
   "cell_type": "markdown",
   "metadata": {},
   "source": [
    "### Chaining find  bs4 commands together"
   ]
  },
  {
   "cell_type": "code",
   "execution_count": null,
   "metadata": {
    "scrolled": false
   },
   "outputs": [],
   "source": [
    "soup.find('p').find('b')"
   ]
  },
  {
   "cell_type": "markdown",
   "metadata": {},
   "source": [
    "### Combining Requests and BeautifulSoup"
   ]
  },
  {
   "cell_type": "code",
   "execution_count": null,
   "metadata": {},
   "outputs": [],
   "source": [
    "response = requests.get(\"http://www.cmu.edu\")\n",
    "root = BeautifulSoup(response.content, 'html.parser')\n",
    "for div in root.find_all(\"div\", class_=\"events\"): # extracts a list of tag items that match given\n",
    "    for li in div.find_all(\"li\"): #finds all list items \n",
    "        print(li.text.strip()) #strip text \n"
   ]
  },
  {
   "cell_type": "markdown",
   "metadata": {},
   "source": [
    "## Regular Expressions\n",
    "\n",
    "* basics\n",
    "* re.match\n",
    "* re.compile\n",
    "* re.find\n",
    "* re.findall"
   ]
  },
  {
   "cell_type": "markdown",
   "metadata": {},
   "source": [
    "## Basics\n",
    "\n",
    "* find or extract text (or portions of text) from strings\n",
    "* uses a simple syntax\n",
    "\n",
    "### simplest example\n",
    "\n",
    "`b[aeiou]t`\tMatches \"bat\", \"bet\", \"bit\", \"bot\" and \"but\""
   ]
  },
  {
   "cell_type": "markdown",
   "metadata": {},
   "source": [
    "### Matching multiple occurences \n",
    "* To match `a` exactly once, use `a`\n",
    "* To match `a` zero or one times, use `a?`. `ba?t` Matches \"bat\" or \"bt\"\n",
    "* To match `a` zero or more times, use `a*`. `ba*t` Matches \"bt\" or \"bat\" or \"baat\" or ...\n",
    "* To match `a` one or more times, use `a+`. `ba+t` Matches \"bat\" or \"baat\" but not \"bt\"\n",
    "* And finally, to match `a` exactly n times, use `a{n}`."
   ]
  },
  {
   "cell_type": "code",
   "execution_count": 59,
   "metadata": {},
   "outputs": [
    {
     "name": "stdout",
     "output_type": "stream",
     "text": [
      "<_sre.SRE_Match object; span=(0, 3), match='bat'>\n",
      "<_sre.SRE_Match object; span=(0, 2), match='bt'>\n",
      "<_sre.SRE_Match object; span=(0, 2), match='bt'>\n",
      "<_sre.SRE_Match object; span=(0, 5), match='baaat'>\n"
     ]
    }
   ],
   "source": [
    "print(re.match(\"ba?t\", \"bat\"))\n",
    "print(re.match(\"ba?t\", \"bt\"))\n",
    "\n",
    "print(re.match(\"ba*t\", \"bt\"))\n",
    "print(re.match(\"ba*t\", \"baaat\"))"
   ]
  },
  {
   "cell_type": "markdown",
   "metadata": {},
   "source": [
    "### Special syntax\n",
    "\n",
    "* Any character (except special characters, `\".$*+?{}\\[]|() `), just matches itself\n",
    "* Putting a group of characters within brackets `[abc]` will match any of the characters a, b, or c\n",
    "* Putting a caret within the bracket matches anything but these characters, i.e., `[^abc]` matches any character except a, b, or c.\n",
    "* The special character `\\d` will match any digit, i.e. `[0-9]`\n",
    "* The special character `\\w` will match any alphanumeric character plus the underscore; i.e., it is equivalent to `[a-zA-Z0-9_]`.\n",
    "* The special character `\\s` will match whitespace, any of `[ \\t\\n\\r\\f\\v]` (a space, tab, and various newline characters)\n",
    "* The special character `.` (the period) matches any character. In their original versions, regular expressions were often applies line-by-line to a file, so by default `.` will not match the newline character. If you want it to match newlines, you pass `re.DOTALL` to the “flags” argument of the various regular expression calls.\n",
    "\n"
   ]
  },
  {
   "cell_type": "code",
   "execution_count": 2,
   "metadata": {},
   "outputs": [],
   "source": [
    "import re"
   ]
  },
  {
   "cell_type": "markdown",
   "metadata": {},
   "source": [
    "### re.match\n",
    "* ex: matching a tag at the beginning of a string"
   ]
  },
  {
   "cell_type": "code",
   "execution_count": 3,
   "metadata": {},
   "outputs": [
    {
     "name": "stdout",
     "output_type": "stream",
     "text": [
      "<_sre.SRE_Match object; span=(0, 4), match='cats'>\n",
      "None\n"
     ]
    }
   ],
   "source": [
    "text0 = \"cats are cool\"\n",
    "text1 = \"I think cats are cool\"\n",
    "\n",
    "print(re.match(\"cats\", text0))\n",
    "print(re.match(\"cats\", text1)) # Match only starts at beginning of the string!"
   ]
  },
  {
   "cell_type": "markdown",
   "metadata": {},
   "source": [
    "### re.compile\n",
    "* ex: reusing your regexes"
   ]
  },
  {
   "cell_type": "code",
   "execution_count": 5,
   "metadata": {},
   "outputs": [
    {
     "name": "stdout",
     "output_type": "stream",
     "text": [
      "<_sre.SRE_Match object; span=(0, 4), match='cats'>\n",
      "8\n",
      "<_sre.SRE_Match object; span=(8, 12), match='cats'>\n",
      "-1\n"
     ]
    }
   ],
   "source": [
    "text0 = \"cats are cool\"\n",
    "\n",
    "cats = re.compile(\"cats\")\n",
    "print(cats.match(text0)) # same thing as before"
   ]
  },
  {
   "cell_type": "markdown",
   "metadata": {},
   "source": [
    "### re.find\n",
    "* ex: finding the next tag starting from some position"
   ]
  },
  {
   "cell_type": "code",
   "execution_count": 9,
   "metadata": {},
   "outputs": [
    {
     "name": "stdout",
     "output_type": "stream",
     "text": [
      "8\n",
      "<_sre.SRE_Match object; span=(8, 12), match='cats'>\n",
      "8 12\n",
      "-1\n"
     ]
    }
   ],
   "source": [
    "text0 = \"cats are cool\"\n",
    "text1 = \"I think cats are cool\"\n",
    "\n",
    "# finding string\n",
    "pos = text1.find(\"cats\", 0)\n",
    "print(pos)\n",
    "\n",
    "# matching from specific position\n",
    "m = cats.match(text1, pos)\n",
    "print(m)\n",
    "print(m.start(), m.end())\n",
    "\n",
    "# returns -1 if not found\n",
    "pos = text1.find(\"aliens\")\n",
    "print(pos)"
   ]
  },
  {
   "cell_type": "markdown",
   "metadata": {},
   "source": [
    "### re.findall\n",
    "* ex: finding all attributes within a tag"
   ]
  },
  {
   "cell_type": "code",
   "execution_count": null,
   "metadata": {},
   "outputs": [],
   "source": [
    "text1 = \"My name is _Edgar_ and I _really REALLY_ think cats are cool\"\n",
    "\n",
    "emphasis = re.compile(\"_[^_]*_\")\n",
    "print(emphasis.findall(text1))"
   ]
  },
  {
   "cell_type": "markdown",
   "metadata": {},
   "source": [
    "### Grouping \n",
    "* ex: getting the key/value pairs for tag attributes"
   ]
  },
  {
   "cell_type": "code",
   "execution_count": 15,
   "metadata": {},
   "outputs": [
    {
     "name": "stdout",
     "output_type": "stream",
     "text": [
      "[('cats', 'dogs')]\n",
      "('cats', 'dogs')\n"
     ]
    }
   ],
   "source": [
    "text = \"are cats=dogs?\"\n",
    "\n",
    "comparison = re.compile(\"([a-zA-Z]+)=([^?]+)\")\n",
    "print(comparison.findall(text))\n",
    "\n",
    "comparison = re.compile(\"are ([a-zA-Z]+)=([^?]+)\")\n",
    "m = comparison.match(text)\n",
    "print(m.groups())"
   ]
  },
  {
   "cell_type": "markdown",
   "metadata": {},
   "source": [
    "### Quirk\n",
    "\n",
    "* regexes by default always match _the longest possible string_\n",
    "\n",
    "### greedy matching"
   ]
  },
  {
   "cell_type": "code",
   "execution_count": 55,
   "metadata": {},
   "outputs": [
    {
     "name": "stdout",
     "output_type": "stream",
     "text": [
      "<_sre.SRE_Match object; span=(0, 16), match='<tag>hello</tag>'>\n"
     ]
    }
   ],
   "source": [
    "print(re.match(\"<.*>\", \"<tag>hello</tag>\"))"
   ]
  },
  {
   "cell_type": "markdown",
   "metadata": {},
   "source": [
    "### lazy matching"
   ]
  },
  {
   "cell_type": "code",
   "execution_count": 364,
   "metadata": {
    "scrolled": true
   },
   "outputs": [
    {
     "name": "stdout",
     "output_type": "stream",
     "text": [
      "<_sre.SRE_Match object; span=(0, 5), match='<tag>'>\n"
     ]
    }
   ],
   "source": [
    "print(re.match(r\"<.*?>\", \"<tag>hello</tag>\")) \n",
    "#lazy matching smallest possible string"
   ]
  },
  {
   "cell_type": "markdown",
   "metadata": {},
   "source": [
    "### Docs\n",
    "\n",
    "https://docs.python.org/2/library/re.html"
   ]
  }
 ],
 "metadata": {
  "anaconda-cloud": {},
  "kernelspec": {
   "display_name": "Python 3",
   "language": "python",
   "name": "python3"
  },
  "language_info": {
   "codemirror_mode": {
    "name": "ipython",
    "version": 3
   },
   "file_extension": ".py",
   "mimetype": "text/x-python",
   "name": "python",
   "nbconvert_exporter": "python",
   "pygments_lexer": "ipython3",
   "version": "3.5.2"
  }
 },
 "nbformat": 4,
 "nbformat_minor": 2
}
