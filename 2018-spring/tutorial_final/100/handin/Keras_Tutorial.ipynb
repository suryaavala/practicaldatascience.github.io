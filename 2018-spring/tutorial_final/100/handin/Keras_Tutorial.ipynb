{
 "cells": [
  {
   "cell_type": "markdown",
   "metadata": {},
   "source": [
    "# <center>Training Neural Nets Using Keras</center>"
   ]
  },
  {
   "cell_type": "markdown",
   "metadata": {},
   "source": [
    "As multiple computing devices are introduced, and with internet more accessible in our daily lives, large data are captured as we use our computing devices to access social media or any other activities such as online shopping. These large amount of data could all be taken and analyzed for different kinds of tasks, for example: Amazon taking user logs in order to improve their personalized recommendation. With the large amount of data, feature engineering is much more hard and inefficient to learn.\n",
    "\n",
    "Deep learning provides a new way that could help the learning of features from large data and also supports transfer learning. Deep learning are now used to solve different kinds of tasks such as image classification, image captioning, learning word embeddings, etc. Thus, in this tutorial, a Neural Network package that is used to set up Neural Network models would be introduced and we would learn how to use this package through solving a multi-label class classification problem.\n",
    "\n",
    "## Overview\n",
    "In this tutorial, it introduces a High-Level Neural Network (NN) Library - `Keras`, that allows us to train different kinds of NN models through an intuitional and easy way. Throughout the tutorial, it will cover the basic flow of how a neural network is trained and how different layers and functions in the `Keras` library could help the training process. \n",
    "\n",
    "The following would be the topics that are covered in the tutorial:<br>\n",
    "- [Introduction to Keras](#Introduction-to-Keras)\n",
    "- [Package Installation](#Package-Installation)\n",
    "- [Neural Networks and Keras Model](#Neural-Networks-and-Keras-Model)\n",
    "- [Example: Multi class classification](#Multi-class-classification)\n",
    "- [Other applications](#Other-applications)\n"
   ]
  },
  {
   "cell_type": "markdown",
   "metadata": {},
   "source": [
    "## Introduction to Keras\n",
    "Why `Keras`?\n",
    "`Keras` is a high-level neural network library that is written in Python. Since it is high-level, it means that it is simple to use and allows fast prototyping when you are trying to test a new neural network model. \n",
    "\n",
    "`Keras` could run on multiple backends such as `TensorFlow` and `Theano`. These two backends are low-level neural-network libraries that were designed for numerical computation and they both include GPU parallelism.\n",
    "\n",
    "If you are interested in more details of `Keras` as its API, they could be found <a href=\"https://keras.io\">here</a>"
   ]
  },
  {
   "cell_type": "markdown",
   "metadata": {},
   "source": [
    "## Package Installation\n",
    "The `Keras` library could be install by using `pip`:\n",
    "```python\n",
    "> pip install --upgrade keras\n",
    "```\n",
    "Since for this class we were recommended to use Anaconda, you could also install `Keras` by using the following command:\n",
    "```python\n",
    "> conda install keras\n",
    "```\n",
    "For this tutorial we would use `theano` as our backend, and since that the default backend for `Keras` is `Tensorflow`, we would need to change the configuration by the follow steps:\n",
    "\n",
    "First go to the configuration file at `~/.keras/keras.json` and open it up: \n",
    "```python\n",
    "> vim ~/.keras/keras.json\n",
    "```\n",
    "You could also create it if it wasn't already created, and fill in the default configuration :\n",
    "```python\n",
    "{\n",
    "    \"image_dim_ordering\": \"tf\",\n",
    "    \"epsilon\": 1e-07,\n",
    "    \"floatx\": \"float32\",\n",
    "    \"backend\": \"tensorflow\"\n",
    "}\n",
    "```\n",
    "We would then change the field \"backend\" to \"theano\"."
   ]
  },
  {
   "cell_type": "markdown",
   "metadata": {},
   "source": [
    "## Neural Networks and Keras Model\n",
    "Before we start using the Keras package, we will first briefly introduce the structure of a basic neural network.\n",
    "The following figure represents how a simple binary classifier could be structured in neural network:\n",
    "<img src=\"structure.png\" width=\"500\">\n",
    "For each nodes, they stand for a **neuron**. With one or more neurons together, they could define a **layer**.\n",
    "We could see that there is a input layer, hidden layer and a output layer in the above figure. Note that for the output layer, there is only one node. This is because for this example, it represents a binary classifier, which would only involve with a binary output. Here we define this model as a **sequential model**. We would define this later on.\n",
    "For each neurons of the hidden layers, they hold the weights for that node and these weights are trained and updated throught the training process of the neural network.\n",
    "\n",
    "The next figure is a close look at how each **neuron** is designed:\n",
    "<img src=\"neuron.png\" width=\"500\">\n",
    "For each neuron, it takes the products of the inputs and the weights from the neurons that it came from and sum them up. After that, it then goes through an activation function. The **activation function** is usually non-linear, and so we say that the **neurons** act as multiple non-linear functions. \n",
    "\n",
    "After a simple introduction of the neural network, we would see how `Keras` let us build up a neural network easily."
   ]
  },
  {
   "cell_type": "markdown",
   "metadata": {},
   "source": [
    "## Multi class classification \n",
    "To show how `Keras` could be used, we will go through a multi-class classification task and learn the set up of the model in the meantime.\n",
    "\n",
    "### Dataset \n",
    "For this problem, we would use the 20newsgroups dataset. This dataset contains 18000 posts on 20 different topics. To simplify the task, here we put the ones that are closely related into one group, for example: `rec.autos`,`rec.motorcycles`,`rec.sport.baseball`,`rec.sport.hockey` would be in the same group since they are all under the category `rec`. We could get the dataset from `scikit learn` package.\n"
   ]
  },
  {
   "cell_type": "code",
   "execution_count": 1,
   "metadata": {
    "collapsed": false
   },
   "outputs": [],
   "source": [
    "from sklearn.datasets import fetch_20newsgroups\n",
    "import numpy as np\n",
    "\n",
    "# group 0-3 rec group 4-7 sci group 8-11 talk\n",
    "groups = [\n",
    "    'rec.autos','rec.motorcycles','rec.sport.baseball','rec.sport.hockey',\n",
    "    'sci.crypt','sci.electronics','sci.med','sci.space',\n",
    "    'talk.politics.guns','talk.politics.mideast','talk.politics.misc','talk.religion.misc'\n",
    "]\n",
    "# remove other information from the post, and only retrieve the content\n",
    "remove = ('headers', 'footers', 'quotes')\n",
    "ng = fetch_20newsgroups(subset='all',categories = groups,remove=remove)"
   ]
  },
  {
   "cell_type": "markdown",
   "metadata": {},
   "source": [
    "To have a better knowledge of the data that we have downloaded, we randomly select one and print it out. So for the total data, we have a size approximately of 10 thousand posts."
   ]
  },
  {
   "cell_type": "code",
   "execution_count": 2,
   "metadata": {
    "collapsed": false
   },
   "outputs": [
    {
     "name": "stdout",
     "output_type": "stream",
     "text": [
      "Total number of posts :  11184\n",
      "Example of how the data looks like:\n",
      " \n",
      "Yes, Colin... I have to agree with you here...  I've put the puck in\n",
      "my own net the same way Smith did... (only once, mind you :-) and it\n",
      "was definitely my fault.  It is NOT a common play to play the puck the\n",
      "way that Smith did.  \n",
      "\n",
      "Luckily, for me...  when I did it... it was only a scrimmage :-)\n",
      "\n",
      "Example of label:\n",
      " 3\n"
     ]
    }
   ],
   "source": [
    "print ('Total number of posts : ',len(ng.data))\n",
    "print ('Example of how the data looks like:\\n',ng.data[10])\n",
    "print ('\\nExample of label:\\n',ng.target[10])"
   ]
  },
  {
   "cell_type": "markdown",
   "metadata": {},
   "source": [
    "### Preprocessing of the data\n",
    "The task we want to solve is a multi-class classification problem, and we could see from the raw label above, what we get is the number of which group it belongs to. Here we would want to do some preprocessing on the data, dividing them into training and testing data, and also turn the lable into a one-hot format. "
   ]
  },
  {
   "cell_type": "code",
   "execution_count": 3,
   "metadata": {
    "collapsed": false
   },
   "outputs": [],
   "source": [
    "from sklearn.preprocessing import OneHotEncoder\n",
    "\n",
    "# turn the input data into a one-hot format\n",
    "def get_onehot_encode(data):\n",
    "    data = np.reshape(data, (data.shape[0],1))\n",
    "    encoder = OneHotEncoder()\n",
    "    encoder.fit(data)\n",
    "    return encoder.transform(data).toarray()\n",
    "\n",
    "# Map the original group to the one that we have defined\n",
    "def preprocess_category(target):\n",
    "    new_group_list = []\n",
    "    g=0\n",
    "    for group in target:     \n",
    "        if group <=3:# group 0-3 -> rec\n",
    "            g = 0\n",
    "        elif group >3 and group <=7:# group 4-7 -> sci\n",
    "            g = 1\n",
    "        else:# group 8-11 -> talk\n",
    "            g = 2\n",
    "        new_group_list.append(g)\n",
    "    return new_group_list"
   ]
  },
  {
   "cell_type": "code",
   "execution_count": 4,
   "metadata": {
    "collapsed": false
   },
   "outputs": [
    {
     "name": "stdout",
     "output_type": "stream",
     "text": [
      "Training data size :  (7828, 512)\n",
      "Training label size :  (7828, 3)\n",
      "Testing data size : (3356, 512)\n",
      "Testing lable size :  (3356, 3)\n"
     ]
    }
   ],
   "source": [
    "from sklearn.feature_extraction.text import TfidfVectorizer\n",
    "from sklearn.model_selection import train_test_split\n",
    "\n",
    "vectorizer = TfidfVectorizer(stop_words='english',max_df=0.5,max_features=512)\n",
    "\n",
    "X = vectorizer.fit_transform(ng.data).toarray()\n",
    "temp_y= preprocess_category(ng.target)\n",
    "y = get_onehot_encode(np.array(temp_y)) \n",
    "\n",
    "# Divide it into testing and training sets\n",
    "X_train, X_test, y_train, y_test = train_test_split(X, y, test_size=0.3)\n",
    "\n",
    "print ('Training data size : ',X_train.shape)\n",
    "print ('Training label size : ',y_train.shape)\n",
    "print ('Testing data size :',X_test.shape)\n",
    "print ('Testing lable size : ',y_test.shape)"
   ]
  },
  {
   "cell_type": "markdown",
   "metadata": {},
   "source": [
    "### Setting up the model \n",
    "Now it's time to set up the Neural Network classifier. \n",
    "#### Sequential model\n",
    "In `Keras` we call a linear stack of layers a sequential model. For your NN, you could simply add different kinds of **Layers** in your model. `Keras` support different kind of layers such as RNN, CNN, Dense etc. Different kinds of layers could be found <a href=\"https://keras.io/layers/core/\">here</a>.\n",
    "#### Activation Functions\n",
    "`Keras` also have the activation functions defined for you. You could find predefined activation functions such as sigmoid, softmax, relu etc. in the <a href=\"https://keras.io/activations/\">Keras documents</a>.\n",
    "\n",
    "For our multi-class classification model, it would contain 1 input layer, 3 hidden layers and one output layer. For the activation function, we would all use the `relu` function for the hidden and input layer, and a `softmax` function for the output layer. "
   ]
  },
  {
   "cell_type": "code",
   "execution_count": 5,
   "metadata": {
    "collapsed": false
   },
   "outputs": [
    {
     "name": "stderr",
     "output_type": "stream",
     "text": [
      "Using Theano backend.\n"
     ]
    }
   ],
   "source": [
    "from keras.layers import Dense, Activation\n",
    "from keras.models import Sequential\n",
    "\n",
    "# define a Sequential model\n",
    "model = Sequential()\n",
    "# add layers simply using 'add'\n",
    "# only the input layer has to define the input_dim\n",
    "# units is the number of neuron of the hidden layer\n",
    "model.add(Dense(units=32, input_dim=512,activation='relu'))\n",
    "model.add(Dense(units=32,activation='relu'))\n",
    "model.add(Dense(units=32,activation='relu'))\n",
    "model.add(Dense(units=3)) # output layer is 3, because we only have 3 classes\n",
    "# softmax allows the output to be interpreted as the predicted probability of each group\n",
    "model.add(Activation('softmax')) # Could also add activation layers like this"
   ]
  },
  {
   "cell_type": "markdown",
   "metadata": {},
   "source": [
    "#### Cost function \n",
    "Now we have the model, we need to define our loss function. Since for this example, we would like to solve a multi-class classification problem, we could minimize the cross entropy from the predicted output. `Keras` provides multiple loss function that you could use, but you could aslo define one yourself when necessary.\n",
    "\n",
    "After the definition of the cost function, we would need to find a optimizer to solve our objective. Optimization algorithms such as SGD and RMSprop are useful and is also provided by the `Keras` packages."
   ]
  },
  {
   "cell_type": "code",
   "execution_count": 6,
   "metadata": {
    "collapsed": false
   },
   "outputs": [],
   "source": [
    "from keras.optimizers import SGD\n",
    "sgd = SGD(lr=0.01, decay=1e-6, momentum=0.9) # default parameters\n",
    "model.compile(loss='categorical_crossentropy', optimizer=sgd , metrics= ['accuracy'])# define objective and optimizer"
   ]
  },
  {
   "cell_type": "markdown",
   "metadata": {},
   "source": [
    "#### Training and Testing \n",
    "Since both the Data and the model is now all set, we could start the training and testing of the model."
   ]
  },
  {
   "cell_type": "code",
   "execution_count": 7,
   "metadata": {
    "collapsed": false
   },
   "outputs": [
    {
     "name": "stdout",
     "output_type": "stream",
     "text": [
      "Test loss:  0.730204830082\n",
      "Test accuracy:  0.727651966556\n"
     ]
    }
   ],
   "source": [
    "history = model.fit(X_train, y_train, epochs=20, batch_size=32,verbose=0,\n",
    "                      validation_split=0.3, shuffle=True)\n",
    "# see test results\n",
    "total_loss, accuracy = model.evaluate(X_test, y_test, verbose=0)\n",
    "print('Test loss: ',total_loss)\n",
    "print('Test accuracy: ',accuracy)"
   ]
  },
  {
   "cell_type": "markdown",
   "metadata": {},
   "source": [
    "### Plotting the results "
   ]
  },
  {
   "cell_type": "code",
   "execution_count": 8,
   "metadata": {
    "collapsed": false
   },
   "outputs": [
    {
     "data": {
      "image/png": "[encoded data removed]",
      "text/plain": [
       "<matplotlib.figure.Figure at 0x1c1f02e9e8>"
      ]
     },
     "metadata": {},
     "output_type": "display_data"
    },
    {
     "data": {
      "image/png": "[encoded data removed]",
      "text/plain": [
       "<matplotlib.figure.Figure at 0x1c270c5c50>"
      ]
     },
     "metadata": {},
     "output_type": "display_data"
    }
   ],
   "source": [
    "import matplotlib.pyplot as plt\n",
    "%matplotlib inline\n",
    "\n",
    "plt.plot(history.history['acc'])\n",
    "plt.plot(history.history['val_acc'])\n",
    "plt.title('Model Accuracy')\n",
    "plt.ylabel('accuracy')\n",
    "plt.xlabel('epoch')\n",
    "plt.legend(['train', 'validation'], loc='lower right')\n",
    "plt.show()\n",
    "\n",
    "plt.plot(history.history['loss'])\n",
    "plt.plot(history.history['val_loss'])\n",
    "plt.title('Model Loss')\n",
    "plt.ylabel('loss')\n",
    "plt.xlabel('epoch')\n",
    "plt.legend(['train', 'validation'], loc='upper right')\n",
    "plt.show()\n"
   ]
  },
  {
   "cell_type": "markdown",
   "metadata": {},
   "source": [
    "From the above figures, we could see that the loss of the validation set started to increase after between 5 epochs. This means that the model is starting to get overfitted after the 5th epoch. However, as we go on training, the final weights that we have recorded would not be the best weight for the model. So we need a mechanism to let us stop training at the 5th epoch. This could be done with the **EarlyStopping** callback function from the `Keras` package."
   ]
  },
  {
   "cell_type": "code",
   "execution_count": 9,
   "metadata": {
    "collapsed": false
   },
   "outputs": [
    {
     "name": "stdout",
     "output_type": "stream",
     "text": [
      "Test loss:  0.811859935842\n",
      "Test accuracy:  0.732717520787\n"
     ]
    },
    {
     "data": {
      "image/png": "[encoded data removed]",
      "text/plain": [
       "<matplotlib.figure.Figure at 0x1c27086278>"
      ]
     },
     "metadata": {},
     "output_type": "display_data"
    },
    {
     "data": {
      "image/png": "[encoded data removed]",
      "text/plain": [
       "<matplotlib.figure.Figure at 0x1c27181fd0>"
      ]
     },
     "metadata": {},
     "output_type": "display_data"
    }
   ],
   "source": [
    "from keras.callbacks import EarlyStopping\n",
    "\n",
    "# monitor- choose the value to moniter\n",
    "# patience -  after number of epochs with no improvement, the training of the model will be stopped\n",
    "early_stop = EarlyStopping(monitor='val_loss', min_delta=0, patience=5, verbose=0, mode='auto')\n",
    "\n",
    "# train the model again with early stop\n",
    "history_early_stop= model.fit(X_train, y_train, epochs=20, batch_size=32,verbose=0,\n",
    "                      validation_split=0.3, shuffle=True,callbacks=[early_stop])\n",
    "\n",
    "# see test results\n",
    "total_loss, accuracy = model.evaluate(X_test, y_test, verbose=0)\n",
    "print('Test loss: ',total_loss)\n",
    "print('Test accuracy: ',accuracy)\n",
    "\n",
    "plt.plot(history_early_stop.history['acc'])\n",
    "plt.plot(history_early_stop.history['val_acc'])\n",
    "plt.title('Model Accuracy')\n",
    "plt.ylabel('accuracy')\n",
    "plt.xlabel('epoch')\n",
    "plt.legend(['train', 'validation'], loc='lower right')\n",
    "plt.show()\n",
    "\n",
    "plt.plot(history_early_stop.history['loss'])\n",
    "plt.plot(history_early_stop.history['val_loss'])\n",
    "plt.title('Model Loss')\n",
    "plt.ylabel('loss')\n",
    "plt.xlabel('epoch')\n",
    "plt.legend(['train', 'validation'], loc='upper right')\n",
    "plt.show()"
   ]
  },
  {
   "cell_type": "markdown",
   "metadata": {},
   "source": [
    "### Saving trained model and weights\n",
    "Sometimes the Neural Network takes a long time to train for complex architectures. We could like to save the model and the trained weights for future usage, or else each time we would need to retrain the whole network again. The following are some ways to save your model and weights."
   ]
  },
  {
   "cell_type": "code",
   "execution_count": 10,
   "metadata": {
    "collapsed": false
   },
   "outputs": [
    {
     "name": "stdout",
     "output_type": "stream",
     "text": [
      "Test loss:  0.811859935842\n",
      "Test accuracy:  0.732717520787\n"
     ]
    }
   ],
   "source": [
    "from keras.models import load_model\n",
    "# This saves the whole model, including the architecture of the model, weights and the optimizer settings\n",
    "model.save('model_multi_class.h5')  \n",
    "del model\n",
    "\n",
    "# reload the saved model and see whether the results are the same\n",
    "new_model = load_model('model_multi_class.h5')\n",
    "total_loss, accuracy = new_model.evaluate(X_test, y_test, verbose=0)\n",
    "print('Test loss: ',total_loss)\n",
    "print('Test accuracy: ',accuracy)"
   ]
  },
  {
   "cell_type": "code",
   "execution_count": 11,
   "metadata": {
    "collapsed": false
   },
   "outputs": [],
   "source": [
    "from keras.models import model_from_json\n",
    "from keras.utils import plot_model\n",
    "\n",
    "# Only save the architecture\n",
    "json_string = new_model.to_json()\n",
    "\n",
    "# Only save the weights\n",
    "new_model.save_weights('model_multi_class_weights.h5')\n",
    "del new_model\n",
    "\n",
    "# reload the model train the json file\n",
    "model = model_from_json(json_string)\n",
    "# reload the saved weights to the model\n",
    "model.load_weights('model_multi_class_weights.h5')\n",
    "# Note that you would need to the define the optimizers and compile settings again,\n",
    "# since these information were not saved "
   ]
  },
  {
   "cell_type": "code",
   "execution_count": 12,
   "metadata": {
    "collapsed": false
   },
   "outputs": [],
   "source": [
    "# you could plot the architecture of the model to see if it looks like what you have in mind\n",
    "plot_model(model, to_file='model.png')"
   ]
  },
  {
   "cell_type": "markdown",
   "metadata": {},
   "source": [
    "<img src=\"model.png\" width=\"200\">"
   ]
  },
  {
   "cell_type": "markdown",
   "metadata": {},
   "source": [
    "## Other-applications \n",
    "For the example displayed we could see that Neural Network models could be used to solve classification problems. However, Neural Network could also be used to extract features from images and words. `Keras` provides `Convolutional Layers`, `Recurrent Layers` and also `Embedding Layers` for people to use according to different applications."
   ]
  },
  {
   "cell_type": "markdown",
   "metadata": {
    "collapsed": true
   },
   "source": [
    "## References\n",
    "All of the details for the usage of `Keras` could be found in the official documentation website: \n",
    "<a href=\"https://keras.io\">Keras Document</a><br>\n",
    "Further references for different kinds of Neural Network could be found n the following links:<br>\n",
    "- Word Embeddings - Word2Vec : <a href=\"https://radimrehurek.com/gensim/models/word2vec.html\">https://radimrehurek.com/gensim/models/word2vec.html</a><br>\n",
    "- Recurrent Neural Network (LSTM): <a href=\"https://dl.acm.org/citation.cfm?id=1246450\">https://dl.acm.org/citation.cfm?id=1246450</a><br>\n",
    "- Convolutional Neural Network (ImageNet) : <a href=\"http://ieeexplore.ieee.org/document/5206848/\">http://ieeexplore.ieee.org/document/5206848/</a><br>"
   ]
  },
  {
   "cell_type": "code",
   "execution_count": null,
   "metadata": {
    "collapsed": true
   },
   "outputs": [],
   "source": []
  }
 ],
 "metadata": {
  "anaconda-cloud": {},
  "kernelspec": {
   "display_name": "Python [anaconda]",
   "language": "python",
   "name": "Python [anaconda]"
  },
  "language_info": {
   "codemirror_mode": {
    "name": "ipython",
    "version": 3
   },
   "file_extension": ".py",
   "mimetype": "text/x-python",
   "name": "python",
   "nbconvert_exporter": "python",
   "pygments_lexer": "ipython3",
   "version": "3.5.2"
  }
 },
 "nbformat": 4,
 "nbformat_minor": 0
}
