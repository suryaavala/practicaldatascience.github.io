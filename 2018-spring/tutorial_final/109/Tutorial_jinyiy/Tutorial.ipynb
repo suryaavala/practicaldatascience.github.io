{
 "cells": [
  {
   "cell_type": "markdown",
   "metadata": {},
   "source": [
    "# Pandas"
   ]
  },
  {
   "cell_type": "markdown",
   "metadata": {},
   "source": [
    "## Overview\n",
    "Pandas is one of the most popular Python data analysis toolkits. It contains adequate data structure and functions to handle and visualize various kinds of data sets. This tutorial is attended for the beginners at Pandas. It will introduce some useful tools in Pandas package to process the fetched data. We will focus on the basic usage of handy methods with simple and interesting examples."
   ]
  },
  {
   "cell_type": "markdown",
   "metadata": {},
   "source": [
    "## Content\n",
    "1. Installing the libraries\n",
    "2. Series\n",
    "3. DataFrame\n",
    "4. GroupBy\n",
    "5. Visualization"
   ]
  },
  {
   "cell_type": "markdown",
   "metadata": {},
   "source": [
    "## Installing the libraries\n",
    "Installing with Anaconda installer: Anaconda includes Python and popular packages like Pandas and SciPy. It is convenient for the beginners to install all the useful packages in bundle.\n",
    "\n",
    "    Windows: https://www.anaconda.com/download/#windows\n",
    "\n",
    "    macOS: https://www.anaconda.com/download/#macos\n",
    "\n",
    "\n",
    "Installing with Miniconda: If you only want to install a specific package, you can use the package manager `conda`. Miniconda contains Python and conda. Download the Miniconda installer: https://conda.io/miniconda.html\n",
    "\n",
    "    $ conda install pandas\n",
    "\n",
    "Installing with `pip`\n",
    "\n",
    "    $ pip install pandas"
   ]
  },
  {
   "cell_type": "code",
   "execution_count": 576,
   "metadata": {},
   "outputs": [
    {
     "name": "stderr",
     "output_type": "stream",
     "text": [
      "/Users/yangfanshu/anaconda3/lib/python3.6/site-packages/ipykernel_launcher.py:4: UserWarning: \n",
      "This call to matplotlib.use() has no effect because the backend has already\n",
      "been chosen; matplotlib.use() must be called *before* pylab, matplotlib.pyplot,\n",
      "or matplotlib.backends is imported for the first time.\n",
      "\n",
      "The backend was *originally* set to 'module://ipykernel.pylab.backend_inline' by the following code:\n",
      "  File \"/Users/yangfanshu/anaconda3/lib/python3.6/runpy.py\", line 193, in _run_module_as_main\n",
      "    \"__main__\", mod_spec)\n",
      "  File \"/Users/yangfanshu/anaconda3/lib/python3.6/runpy.py\", line 85, in _run_code\n",
      "    exec(code, run_globals)\n",
      "  File \"/Users/yangfanshu/anaconda3/lib/python3.6/site-packages/ipykernel_launcher.py\", line 16, in <module>\n",
      "    app.launch_new_instance()\n",
      "  File \"/Users/yangfanshu/anaconda3/lib/python3.6/site-packages/traitlets/config/application.py\", line 658, in launch_instance\n",
      "    app.start()\n",
      "  File \"/Users/yangfanshu/anaconda3/lib/python3.6/site-packages/ipykernel/kernelapp.py\", line 477, in start\n",
      "    ioloop.IOLoop.instance().start()\n",
      "  File \"/Users/yangfanshu/anaconda3/lib/python3.6/site-packages/zmq/eventloop/ioloop.py\", line 177, in start\n",
      "    super(ZMQIOLoop, self).start()\n",
      "  File \"/Users/yangfanshu/anaconda3/lib/python3.6/site-packages/tornado/ioloop.py\", line 888, in start\n",
      "    handler_func(fd_obj, events)\n",
      "  File \"/Users/yangfanshu/anaconda3/lib/python3.6/site-packages/tornado/stack_context.py\", line 277, in null_wrapper\n",
      "    return fn(*args, **kwargs)\n",
      "  File \"/Users/yangfanshu/anaconda3/lib/python3.6/site-packages/zmq/eventloop/zmqstream.py\", line 440, in _handle_events\n",
      "    self._handle_recv()\n",
      "  File \"/Users/yangfanshu/anaconda3/lib/python3.6/site-packages/zmq/eventloop/zmqstream.py\", line 472, in _handle_recv\n",
      "    self._run_callback(callback, msg)\n",
      "  File \"/Users/yangfanshu/anaconda3/lib/python3.6/site-packages/zmq/eventloop/zmqstream.py\", line 414, in _run_callback\n",
      "    callback(*args, **kwargs)\n",
      "  File \"/Users/yangfanshu/anaconda3/lib/python3.6/site-packages/tornado/stack_context.py\", line 277, in null_wrapper\n",
      "    return fn(*args, **kwargs)\n",
      "  File \"/Users/yangfanshu/anaconda3/lib/python3.6/site-packages/ipykernel/kernelbase.py\", line 283, in dispatcher\n",
      "    return self.dispatch_shell(stream, msg)\n",
      "  File \"/Users/yangfanshu/anaconda3/lib/python3.6/site-packages/ipykernel/kernelbase.py\", line 235, in dispatch_shell\n",
      "    handler(stream, idents, msg)\n",
      "  File \"/Users/yangfanshu/anaconda3/lib/python3.6/site-packages/ipykernel/kernelbase.py\", line 434, in complete_request\n",
      "    matches = self.do_complete(code, cursor_pos)\n",
      "  File \"/Users/yangfanshu/anaconda3/lib/python3.6/site-packages/ipykernel/ipkernel.py\", line 257, in do_complete\n",
      "    txt, matches = self.shell.complete('', line, line_cursor)\n",
      "  File \"/Users/yangfanshu/anaconda3/lib/python3.6/site-packages/IPython/core/interactiveshell.py\", line 1974, in complete\n",
      "    return self.Completer.complete(text, line, cursor_pos)\n",
      "  File \"/Users/yangfanshu/anaconda3/lib/python3.6/site-packages/IPython/core/completer.py\", line 1840, in complete\n",
      "    return self._complete(line_buffer=line_buffer, cursor_pos=cursor_pos, text=text, cursor_line=0)[:2]\n",
      "  File \"/Users/yangfanshu/anaconda3/lib/python3.6/site-packages/IPython/core/completer.py\", line 1913, in _complete\n",
      "    cursor_pos, cursor_line, full_text)\n",
      "  File \"/Users/yangfanshu/anaconda3/lib/python3.6/site-packages/IPython/core/completer.py\", line 1297, in _jedi_matches\n",
      "    return filter(completion_filter, interpreter.completions())\n",
      "  File \"/Users/yangfanshu/anaconda3/lib/python3.6/site-packages/jedi/api/__init__.py\", line 179, in completions\n",
      "    completions = completion.completions()\n",
      "  File \"/Users/yangfanshu/anaconda3/lib/python3.6/site-packages/jedi/api/completion.py\", line 96, in completions\n",
      "    completion_names = self._get_context_completions()\n",
      "  File \"/Users/yangfanshu/anaconda3/lib/python3.6/site-packages/jedi/api/completion.py\", line 169, in _get_context_completions\n",
      "    completion_names += self._trailer_completions(dot.get_previous_leaf())\n",
      "  File \"/Users/yangfanshu/anaconda3/lib/python3.6/site-packages/jedi/api/completion.py\", line 210, in _trailer_completions\n",
      "    completion_names += filter.values()\n",
      "  File \"/Users/yangfanshu/anaconda3/lib/python3.6/site-packages/jedi/evaluate/compiled/__init__.py\", line 345, in values\n",
      "    names += self.get(name)\n",
      "  File \"/Users/yangfanshu/anaconda3/lib/python3.6/site-packages/jedi/cache.py\", line 121, in wrapper\n",
      "    result = method(self, *args, **kwargs)\n",
      "  File \"/Users/yangfanshu/anaconda3/lib/python3.6/site-packages/jedi/evaluate/compiled/__init__.py\", line 328, in get\n",
      "    getattr(obj, name)\n",
      "  File \"/Users/yangfanshu/anaconda3/lib/python3.6/site-packages/pandas/core/frame.py\", line 633, in style\n",
      "    from pandas.io.formats.style import Styler\n",
      "  File \"/Users/yangfanshu/anaconda3/lib/python3.6/site-packages/pandas/io/formats/style.py\", line 34, in <module>\n",
      "    import matplotlib.pyplot as plt\n",
      "  File \"/Users/yangfanshu/anaconda3/lib/python3.6/site-packages/matplotlib/pyplot.py\", line 69, in <module>\n",
      "    from matplotlib.backends import pylab_setup\n",
      "  File \"/Users/yangfanshu/anaconda3/lib/python3.6/site-packages/matplotlib/backends/__init__.py\", line 14, in <module>\n",
      "    line for line in traceback.format_stack()\n",
      "\n",
      "\n",
      "  after removing the cwd from sys.path.\n"
     ]
    }
   ],
   "source": [
    "import pandas as pd\n",
    "import numpy as np\n",
    "import matplotlib\n",
    "matplotlib.use(\"svg\")\n",
    "import matplotlib.pyplot as plt\n",
    "%matplotlib inline\n",
    "plt.style.use('ggplot')"
   ]
  },
  {
   "cell_type": "markdown",
   "metadata": {},
   "source": [
    "Here we will use some tweets data (tweet.csv, user.csv) extracted from Twitter api: https://developer.twitter.com/en/docs"
   ]
  },
  {
   "cell_type": "code",
   "execution_count": 304,
   "metadata": {},
   "outputs": [
    {
     "data": {
      "text/html": [
       "<div>\n",
       "<style>\n",
       "    .dataframe thead tr:only-child th {\n",
       "        text-align: right;\n",
       "    }\n",
       "\n",
       "    .dataframe thead th {\n",
       "        text-align: left;\n",
       "    }\n",
       "\n",
       "    .dataframe tbody tr th {\n",
       "        vertical-align: top;\n",
       "    }\n",
       "</style>\n",
       "<table border=\"1\" class=\"dataframe\">\n",
       "  <thead>\n",
       "    <tr style=\"text-align: right;\">\n",
       "      <th></th>\n",
       "      <th>screen_name</th>\n",
       "      <th>created_at</th>\n",
       "      <th>retweet_count</th>\n",
       "      <th>favorite_count</th>\n",
       "      <th>text</th>\n",
       "    </tr>\n",
       "  </thead>\n",
       "  <tbody>\n",
       "    <tr>\n",
       "      <th>0</th>\n",
       "      <td>realDonaldTrump</td>\n",
       "      <td>Fri Sep 09 02:00:32 +0000 2016</td>\n",
       "      <td>2859</td>\n",
       "      <td>7030</td>\n",
       "      <td>Final poll results from NBC on last nights Com...</td>\n",
       "    </tr>\n",
       "    <tr>\n",
       "      <th>1</th>\n",
       "      <td>realDonaldTrump</td>\n",
       "      <td>Fri Sep 09 00:39:36 +0000 2016</td>\n",
       "      <td>6463</td>\n",
       "      <td>17951</td>\n",
       "      <td>It wasn't Matt Lauer that hurt Hillary last ni...</td>\n",
       "    </tr>\n",
       "    <tr>\n",
       "      <th>2</th>\n",
       "      <td>realDonaldTrump</td>\n",
       "      <td>Thu Sep 08 23:56:22 +0000 2016</td>\n",
       "      <td>5405</td>\n",
       "      <td>13223</td>\n",
       "      <td>More poll results from last nights Commander-i...</td>\n",
       "    </tr>\n",
       "    <tr>\n",
       "      <th>3</th>\n",
       "      <td>realDonaldTrump</td>\n",
       "      <td>Thu Sep 08 19:52:32 +0000 2016</td>\n",
       "      <td>11633</td>\n",
       "      <td>27028</td>\n",
       "      <td>Last nights results - in poll taken by NBC. #A...</td>\n",
       "    </tr>\n",
       "    <tr>\n",
       "      <th>4</th>\n",
       "      <td>realDonaldTrump</td>\n",
       "      <td>Thu Sep 08 18:17:01 +0000 2016</td>\n",
       "      <td>3824</td>\n",
       "      <td>12567</td>\n",
       "      <td>With Luis, Mexico and the United States would ...</td>\n",
       "    </tr>\n",
       "  </tbody>\n",
       "</table>\n",
       "</div>"
      ],
      "text/plain": [
       "       screen_name                      created_at  retweet_count  \\\n",
       "0  realDonaldTrump  Fri Sep 09 02:00:32 +0000 2016           2859   \n",
       "1  realDonaldTrump  Fri Sep 09 00:39:36 +0000 2016           6463   \n",
       "2  realDonaldTrump  Thu Sep 08 23:56:22 +0000 2016           5405   \n",
       "3  realDonaldTrump  Thu Sep 08 19:52:32 +0000 2016          11633   \n",
       "4  realDonaldTrump  Thu Sep 08 18:17:01 +0000 2016           3824   \n",
       "\n",
       "   favorite_count                                               text  \n",
       "0            7030  Final poll results from NBC on last nights Com...  \n",
       "1           17951  It wasn't Matt Lauer that hurt Hillary last ni...  \n",
       "2           13223  More poll results from last nights Commander-i...  \n",
       "3           27028  Last nights results - in poll taken by NBC. #A...  \n",
       "4           12567  With Luis, Mexico and the United States would ...  "
      ]
     },
     "execution_count": 304,
     "metadata": {},
     "output_type": "execute_result"
    }
   ],
   "source": [
    "tweets = pd.read_csv(\"tweets.csv\")\n",
    "tweets.head()"
   ]
  },
  {
   "cell_type": "markdown",
   "metadata": {},
   "source": [
    "## Series"
   ]
  },
  {
   "cell_type": "markdown",
   "metadata": {},
   "source": [
    "`pandas.Series` is an one-dimensional ndarray. You can try to create a simple Series from ndarray, list and dictionary. Change the index if you want."
   ]
  },
  {
   "cell_type": "code",
   "execution_count": 305,
   "metadata": {},
   "outputs": [
    {
     "data": {
      "text/plain": [
       "5    practical\n",
       "6         data\n",
       "7      science\n",
       "8     tutorial\n",
       "dtype: object"
      ]
     },
     "execution_count": 305,
     "metadata": {},
     "output_type": "execute_result"
    }
   ],
   "source": [
    "ser = pd.Series([\"practical\",\"data\",\"science\",\"tutorial\"], index = [5,6,7,8])\n",
    "ser"
   ]
  },
  {
   "cell_type": "markdown",
   "metadata": {},
   "source": [
    "#### Basic Attributes and Methods\n",
    "Press keyboard shortcut `tab` in jupyter notebook to peek all the available attributes and methods after the dot.\n",
    "\n",
    "We can use some `Series` attributes to better explore the data. \n",
    "To know more about the attributes, explore https://pandas.pydata.org/pandas-docs/stable/api.html#attributes. Here we list some of the handy attributes as below."
   ]
  },
  {
   "cell_type": "code",
   "execution_count": 306,
   "metadata": {},
   "outputs": [
    {
     "name": "stdout",
     "output_type": "stream",
     "text": [
      "Int64Index([5, 6, 7, 8], dtype='int64')\n",
      "4\n",
      "object\n",
      "['practical' 'data' 'science' 'tutorial']\n"
     ]
    }
   ],
   "source": [
    "print (ser.index)\n",
    "print (ser.size)\n",
    "print (ser.dtype)\n",
    "print (ser.values)"
   ]
  },
  {
   "cell_type": "markdown",
   "metadata": {},
   "source": [
    "Another common way to build a Series is to extract a column of data from `.csv` file with label. After extracting a column data, we can operate on it with `pandas.Series` methods (identify by parentheses). Take the `tweets.csv` as an example."
   ]
  },
  {
   "cell_type": "code",
   "execution_count": 307,
   "metadata": {},
   "outputs": [
    {
     "name": "stdout",
     "output_type": "stream",
     "text": [
      "int64\n",
      "286.0540885084684\n",
      "0     2859\n",
      "2     5405\n",
      "3    11633\n",
      "4     3824\n",
      "5     3710\n",
      "Name: retweet_count, dtype: int64\n",
      "0     realDonaldTrump\n",
      "20          mgleslie6\n",
      "34              Trump\n",
      "54          TrumpGolf\n",
      "74      TiffanyATrump\n",
      "Name: screen_name, dtype: object\n"
     ]
    }
   ],
   "source": [
    "retweets = tweets[\"retweet_count\"]\n",
    "print (retweets.dtype)\n",
    "print (retweets.mean()) # calculate mean\n",
    "print (retweets.drop(1).head()) #drop using index\n",
    "print (tweets[\"screen_name\"].drop_duplicates().head()) #drop duplicated names"
   ]
  },
  {
   "cell_type": "markdown",
   "metadata": {},
   "source": [
    "If you want to keep the result of operations, re-assign it to the column, or set `inplace = True`, otherwise the operations will not be stored."
   ]
  },
  {
   "cell_type": "code",
   "execution_count": 308,
   "metadata": {},
   "outputs": [],
   "source": [
    "ex2 = pd.Series([\"b\",\"a\",\"c\"])"
   ]
  },
  {
   "cell_type": "code",
   "execution_count": 309,
   "metadata": {},
   "outputs": [
    {
     "data": {
      "text/plain": [
       "0    b\n",
       "1    a\n",
       "2    c\n",
       "dtype: object"
      ]
     },
     "execution_count": 309,
     "metadata": {},
     "output_type": "execute_result"
    }
   ],
   "source": [
    "ex2.sort_values(ascending = False)\n",
    "ex2"
   ]
  },
  {
   "cell_type": "code",
   "execution_count": 310,
   "metadata": {},
   "outputs": [
    {
     "data": {
      "text/plain": [
       "2    c\n",
       "0    b\n",
       "1    a\n",
       "dtype: object"
      ]
     },
     "execution_count": 310,
     "metadata": {},
     "output_type": "execute_result"
    }
   ],
   "source": [
    "ex2.sort_values(ascending = False, inplace = True)\n",
    "ex2"
   ]
  },
  {
   "cell_type": "code",
   "execution_count": 311,
   "metadata": {
    "collapsed": true
   },
   "outputs": [],
   "source": [
    "#re-load data for further practices\n",
    "tweets = pd.read_csv(\"tweets.csv\")"
   ]
  },
  {
   "cell_type": "code",
   "execution_count": 602,
   "metadata": {},
   "outputs": [
    {
     "data": {
      "text/html": [
       "<div>\n",
       "<style>\n",
       "    .dataframe thead tr:only-child th {\n",
       "        text-align: right;\n",
       "    }\n",
       "\n",
       "    .dataframe thead th {\n",
       "        text-align: left;\n",
       "    }\n",
       "\n",
       "    .dataframe tbody tr th {\n",
       "        vertical-align: top;\n",
       "    }\n",
       "</style>\n",
       "<table border=\"1\" class=\"dataframe\">\n",
       "  <thead>\n",
       "    <tr style=\"text-align: right;\">\n",
       "      <th></th>\n",
       "      <th>screen_name</th>\n",
       "      <th>created_at</th>\n",
       "      <th>retweet_count</th>\n",
       "      <th>favorite_count</th>\n",
       "      <th>text</th>\n",
       "    </tr>\n",
       "  </thead>\n",
       "  <tbody>\n",
       "    <tr>\n",
       "      <th>0</th>\n",
       "      <td>realDonaldTrump</td>\n",
       "      <td>2016-09-09 02:00:32</td>\n",
       "      <td>2859</td>\n",
       "      <td>7030</td>\n",
       "      <td>Final poll results from NBC on last nights Com...</td>\n",
       "    </tr>\n",
       "    <tr>\n",
       "      <th>1</th>\n",
       "      <td>realDonaldTrump</td>\n",
       "      <td>2016-09-09 00:39:36</td>\n",
       "      <td>6463</td>\n",
       "      <td>17951</td>\n",
       "      <td>It wasn't Matt Lauer that hurt Hillary last ni...</td>\n",
       "    </tr>\n",
       "    <tr>\n",
       "      <th>2</th>\n",
       "      <td>realDonaldTrump</td>\n",
       "      <td>2016-09-08 23:56:22</td>\n",
       "      <td>5405</td>\n",
       "      <td>13223</td>\n",
       "      <td>More poll results from last nights Commander-i...</td>\n",
       "    </tr>\n",
       "    <tr>\n",
       "      <th>3</th>\n",
       "      <td>realDonaldTrump</td>\n",
       "      <td>2016-09-08 19:52:32</td>\n",
       "      <td>11633</td>\n",
       "      <td>27028</td>\n",
       "      <td>Last nights results - in poll taken by NBC. #A...</td>\n",
       "    </tr>\n",
       "    <tr>\n",
       "      <th>4</th>\n",
       "      <td>realDonaldTrump</td>\n",
       "      <td>2016-09-08 18:17:01</td>\n",
       "      <td>3824</td>\n",
       "      <td>12567</td>\n",
       "      <td>With Luis, Mexico and the United States would ...</td>\n",
       "    </tr>\n",
       "  </tbody>\n",
       "</table>\n",
       "</div>"
      ],
      "text/plain": [
       "       screen_name          created_at  retweet_count  favorite_count  \\\n",
       "0  realDonaldTrump 2016-09-09 02:00:32           2859            7030   \n",
       "1  realDonaldTrump 2016-09-09 00:39:36           6463           17951   \n",
       "2  realDonaldTrump 2016-09-08 23:56:22           5405           13223   \n",
       "3  realDonaldTrump 2016-09-08 19:52:32          11633           27028   \n",
       "4  realDonaldTrump 2016-09-08 18:17:01           3824           12567   \n",
       "\n",
       "                                                text  \n",
       "0  Final poll results from NBC on last nights Com...  \n",
       "1  It wasn't Matt Lauer that hurt Hillary last ni...  \n",
       "2  More poll results from last nights Commander-i...  \n",
       "3  Last nights results - in poll taken by NBC. #A...  \n",
       "4  With Luis, Mexico and the United States would ...  "
      ]
     },
     "execution_count": 602,
     "metadata": {},
     "output_type": "execute_result"
    }
   ],
   "source": [
    "tweets[\"created_at\"] = pd.to_datetime(tweets[\"created_at\"])\n",
    "tweets.head()"
   ]
  },
  {
   "cell_type": "markdown",
   "metadata": {},
   "source": [
    "### Boolean Filter\n",
    "First, we can establish a boolean filter with `string` functions `contains()`. We will filter out all the tweets that includes the key word \"Trump\". Remember that we can not directly operate the ndarray of data using the common `string` methods. Therefore, the Series should be converted to `string object` first using `.str` function.\n",
    "\n",
    "We store the filtered data in a mask column `textFilter`. Notice that the filter is not a real column, and it will not change the original data in Series."
   ]
  },
  {
   "cell_type": "code",
   "execution_count": 312,
   "metadata": {},
   "outputs": [
    {
     "data": {
      "text/html": [
       "<div>\n",
       "<style>\n",
       "    .dataframe thead tr:only-child th {\n",
       "        text-align: right;\n",
       "    }\n",
       "\n",
       "    .dataframe thead th {\n",
       "        text-align: left;\n",
       "    }\n",
       "\n",
       "    .dataframe tbody tr th {\n",
       "        vertical-align: top;\n",
       "    }\n",
       "</style>\n",
       "<table border=\"1\" class=\"dataframe\">\n",
       "  <thead>\n",
       "    <tr style=\"text-align: right;\">\n",
       "      <th></th>\n",
       "      <th>screen_name</th>\n",
       "      <th>created_at</th>\n",
       "      <th>retweet_count</th>\n",
       "      <th>favorite_count</th>\n",
       "      <th>text</th>\n",
       "    </tr>\n",
       "  </thead>\n",
       "  <tbody>\n",
       "    <tr>\n",
       "      <th>74</th>\n",
       "      <td>TiffanyATrump</td>\n",
       "      <td>Fri Sep 16 20:51:51 +0000 2016</td>\n",
       "      <td>152</td>\n",
       "      <td>414</td>\n",
       "      <td>🇺🇸 #YouthForTrump #MillennialsForTrump #MAGA #...</td>\n",
       "    </tr>\n",
       "    <tr>\n",
       "      <th>75</th>\n",
       "      <td>TiffanyATrump</td>\n",
       "      <td>Tue Aug 16 04:16:01 +0000 2016</td>\n",
       "      <td>47</td>\n",
       "      <td>238</td>\n",
       "      <td>I spy NYC #backhome https://t.co/0TtqaDjLRO</td>\n",
       "    </tr>\n",
       "    <tr>\n",
       "      <th>76</th>\n",
       "      <td>TiffanyATrump</td>\n",
       "      <td>Mon Aug 15 00:43:20 +0000 2016</td>\n",
       "      <td>46</td>\n",
       "      <td>209</td>\n",
       "      <td>Just posted a photo https://t.co/56rixitkxS</td>\n",
       "    </tr>\n",
       "    <tr>\n",
       "      <th>77</th>\n",
       "      <td>TiffanyATrump</td>\n",
       "      <td>Fri Aug 12 22:22:15 +0000 2016</td>\n",
       "      <td>49</td>\n",
       "      <td>233</td>\n",
       "      <td>Bye for now NYC https://t.co/RTf09HtTJs</td>\n",
       "    </tr>\n",
       "    <tr>\n",
       "      <th>78</th>\n",
       "      <td>TiffanyATrump</td>\n",
       "      <td>Fri Jul 29 03:24:44 +0000 2016</td>\n",
       "      <td>700</td>\n",
       "      <td>0</td>\n",
       "      <td>RT @LaraLeaTrump: #Throwback ⬅️ Last week watc...</td>\n",
       "    </tr>\n",
       "  </tbody>\n",
       "</table>\n",
       "</div>"
      ],
      "text/plain": [
       "      screen_name                      created_at  retweet_count  \\\n",
       "74  TiffanyATrump  Fri Sep 16 20:51:51 +0000 2016            152   \n",
       "75  TiffanyATrump  Tue Aug 16 04:16:01 +0000 2016             47   \n",
       "76  TiffanyATrump  Mon Aug 15 00:43:20 +0000 2016             46   \n",
       "77  TiffanyATrump  Fri Aug 12 22:22:15 +0000 2016             49   \n",
       "78  TiffanyATrump  Fri Jul 29 03:24:44 +0000 2016            700   \n",
       "\n",
       "    favorite_count                                               text  \n",
       "74             414  🇺🇸 #YouthForTrump #MillennialsForTrump #MAGA #...  \n",
       "75             238        I spy NYC #backhome https://t.co/0TtqaDjLRO  \n",
       "76             209        Just posted a photo https://t.co/56rixitkxS  \n",
       "77             233            Bye for now NYC https://t.co/RTf09HtTJs  \n",
       "78               0  RT @LaraLeaTrump: #Throwback ⬅️ Last week watc...  "
      ]
     },
     "execution_count": 312,
     "metadata": {},
     "output_type": "execute_result"
    }
   ],
   "source": [
    "textFilter = tweets[\"screen_name\"].str.contains(\"Tiffany\")\n",
    "tweets[textFilter].head()"
   ]
  },
  {
   "cell_type": "markdown",
   "metadata": {},
   "source": [
    "Or we can choose the hottest tweets by the number of retweet which larger than 10000."
   ]
  },
  {
   "cell_type": "code",
   "execution_count": 313,
   "metadata": {},
   "outputs": [
    {
     "data": {
      "text/html": [
       "<div>\n",
       "<style>\n",
       "    .dataframe thead tr:only-child th {\n",
       "        text-align: right;\n",
       "    }\n",
       "\n",
       "    .dataframe thead th {\n",
       "        text-align: left;\n",
       "    }\n",
       "\n",
       "    .dataframe tbody tr th {\n",
       "        vertical-align: top;\n",
       "    }\n",
       "</style>\n",
       "<table border=\"1\" class=\"dataframe\">\n",
       "  <thead>\n",
       "    <tr style=\"text-align: right;\">\n",
       "      <th></th>\n",
       "      <th>screen_name</th>\n",
       "      <th>created_at</th>\n",
       "      <th>retweet_count</th>\n",
       "      <th>favorite_count</th>\n",
       "      <th>text</th>\n",
       "    </tr>\n",
       "  </thead>\n",
       "  <tbody>\n",
       "    <tr>\n",
       "      <th>3</th>\n",
       "      <td>realDonaldTrump</td>\n",
       "      <td>Thu Sep 08 19:52:32 +0000 2016</td>\n",
       "      <td>11633</td>\n",
       "      <td>27028</td>\n",
       "      <td>Last nights results - in poll taken by NBC. #A...</td>\n",
       "    </tr>\n",
       "    <tr>\n",
       "      <th>84</th>\n",
       "      <td>TiffanyATrump</td>\n",
       "      <td>Fri Jul 22 06:11:15 +0000 2016</td>\n",
       "      <td>10083</td>\n",
       "      <td>0</td>\n",
       "      <td>RT @realDonaldTrump: MAKE AMERICA SAFE AND GRE...</td>\n",
       "    </tr>\n",
       "    <tr>\n",
       "      <th>131</th>\n",
       "      <td>mike_pence</td>\n",
       "      <td>Sat Sep 10 20:53:21 +0000 2016</td>\n",
       "      <td>27608</td>\n",
       "      <td>0</td>\n",
       "      <td>RT @BarackObama: RT if you agree: We need a Pr...</td>\n",
       "    </tr>\n",
       "    <tr>\n",
       "      <th>529</th>\n",
       "      <td>VinceMcMahon</td>\n",
       "      <td>Wed Jul 13 01:17:09 +0000 2016</td>\n",
       "      <td>25266</td>\n",
       "      <td>47771</td>\n",
       "      <td>I don’t care who you are … Get OUT of my weigh...</td>\n",
       "    </tr>\n",
       "    <tr>\n",
       "      <th>1911</th>\n",
       "      <td>Cali_Ally_</td>\n",
       "      <td>Tue Sep 13 19:12:46 +0000 2016</td>\n",
       "      <td>39202</td>\n",
       "      <td>0</td>\n",
       "      <td>RT @kanyewest: It’s our life's mission to crea...</td>\n",
       "    </tr>\n",
       "  </tbody>\n",
       "</table>\n",
       "</div>"
      ],
      "text/plain": [
       "          screen_name                      created_at  retweet_count  \\\n",
       "3     realDonaldTrump  Thu Sep 08 19:52:32 +0000 2016          11633   \n",
       "84      TiffanyATrump  Fri Jul 22 06:11:15 +0000 2016          10083   \n",
       "131        mike_pence  Sat Sep 10 20:53:21 +0000 2016          27608   \n",
       "529      VinceMcMahon  Wed Jul 13 01:17:09 +0000 2016          25266   \n",
       "1911       Cali_Ally_  Tue Sep 13 19:12:46 +0000 2016          39202   \n",
       "\n",
       "      favorite_count                                               text  \n",
       "3              27028  Last nights results - in poll taken by NBC. #A...  \n",
       "84                 0  RT @realDonaldTrump: MAKE AMERICA SAFE AND GRE...  \n",
       "131                0  RT @BarackObama: RT if you agree: We need a Pr...  \n",
       "529            47771  I don’t care who you are … Get OUT of my weigh...  \n",
       "1911               0  RT @kanyewest: It’s our life's mission to crea...  "
      ]
     },
     "execution_count": 313,
     "metadata": {},
     "output_type": "execute_result"
    }
   ],
   "source": [
    "numberFilter = tweets[\"retweet_count\"] > 10000\n",
    "tweets[numberFilter].head()"
   ]
  },
  {
   "cell_type": "markdown",
   "metadata": {},
   "source": [
    "### Catergorize data"
   ]
  },
  {
   "cell_type": "markdown",
   "metadata": {},
   "source": [
    "Image that we are now calculting how much should we pay for our shopping cart in a supermarket. \n",
    "\n",
    "`map()` method is a convenient way to catergorize data to different types. It iterates over the items in Series, search item in the key of the category dictionary, and then return the value from dictionary."
   ]
  },
  {
   "cell_type": "code",
   "execution_count": 314,
   "metadata": {},
   "outputs": [],
   "source": [
    "shoppingCart = pd.Series([\"apple\", \"cherry\", \"banana\", \"cucumber\", \"apple\"])\n",
    "priceCategory = {\"apple\": \"$3\", \"cherry\": \"$20\", \"banana\": \"$1.5\", \"cucumber\": \"$3\"}"
   ]
  },
  {
   "cell_type": "code",
   "execution_count": 315,
   "metadata": {},
   "outputs": [
    {
     "data": {
      "text/plain": [
       "0      $3\n",
       "1     $20\n",
       "2    $1.5\n",
       "3      $3\n",
       "4      $3\n",
       "dtype: object"
      ]
     },
     "execution_count": 315,
     "metadata": {},
     "output_type": "execute_result"
    }
   ],
   "source": [
    "invoice = shoppingCart.map(priceCategory)\n",
    "invoice"
   ]
  },
  {
   "cell_type": "markdown",
   "metadata": {},
   "source": [
    "Then we can operate data according to its price. We should change the string type price to float data type for futher calculation."
   ]
  },
  {
   "cell_type": "code",
   "execution_count": 316,
   "metadata": {},
   "outputs": [
    {
     "data": {
      "text/plain": [
       "30.5"
      ]
     },
     "execution_count": 316,
     "metadata": {},
     "output_type": "execute_result"
    }
   ],
   "source": [
    "invoice = invoice.str.replace(\"$\",\"\").astype(float)\n",
    "invoice.sum()"
   ]
  },
  {
   "cell_type": "markdown",
   "metadata": {},
   "source": [
    "By `sum`, the total invoice price is 30.5."
   ]
  },
  {
   "cell_type": "markdown",
   "metadata": {},
   "source": [
    "Also, we can categorize items with condition. First we list all the products we want to buy. If the price is under $10, we will buy three of them; otherwise we will buy only one piece.\n",
    "\n",
    "This time, we use `iteritems()` method in Series to iterate over items and store the number of products to buy."
   ]
  },
  {
   "cell_type": "code",
   "execution_count": 317,
   "metadata": {
    "collapsed": true
   },
   "outputs": [],
   "source": [
    "shoppingList = pd.Series([\"apple\", \"cherry\", \"banana\", \"cucumber\"])\n",
    "priceCategory = {\"apple\": \"$3\", \"cherry\": \"$20\", \"banana\": \"$1.5\", \"cucumber\": \"$3\"}"
   ]
  },
  {
   "cell_type": "code",
   "execution_count": 318,
   "metadata": {},
   "outputs": [
    {
     "name": "stdout",
     "output_type": "stream",
     "text": [
      "0     3.0\n",
      "1    20.0\n",
      "2     1.5\n",
      "3     3.0\n",
      "4     3.0\n",
      "dtype: float64\n"
     ]
    },
    {
     "data": {
      "text/plain": [
       "30.5"
      ]
     },
     "execution_count": 318,
     "metadata": {},
     "output_type": "execute_result"
    }
   ],
   "source": [
    "for (index, value) in invoice.iteritems():\n",
    "    if value < 10:\n",
    "        value += value * 3\n",
    "    else:\n",
    "        value += value\n",
    "print (invoice)\n",
    "invoice.sum()"
   ]
  },
  {
   "cell_type": "markdown",
   "metadata": {},
   "source": [
    "At last, you can also use `Series.value_counts()` method to count the number of products according to the shopping list and figure out which ones are not yet added to cart. Here we combine the `Categoricals` pandas data type with `Series`. The `value_counts()` includes all the categories, including those are not on the source list. To explore more about Categorical Data, use the pandas document:https://pandas.pydata.org/pandas-docs/stable/categorical.html."
   ]
  },
  {
   "cell_type": "code",
   "execution_count": 319,
   "metadata": {},
   "outputs": [
    {
     "data": {
      "text/plain": [
       "apple       3\n",
       "banana      1\n",
       "cherry      1\n",
       "bluberry    0\n",
       "cucumber    0\n",
       "dtype: int64"
      ]
     },
     "execution_count": 319,
     "metadata": {},
     "output_type": "execute_result"
    }
   ],
   "source": [
    "shopList = [\"apple\", \"cherry\", \"banana\", \"cucumber\",\"bluberry\"]\n",
    "ser = pd.Series(pd.Categorical([\"apple\", \"cherry\", \"banana\", \"apple\",\"apple\"], \n",
    "                               categories = shopList))\n",
    "ser.value_counts()"
   ]
  },
  {
   "cell_type": "markdown",
   "metadata": {},
   "source": [
    "Here we only use two simple example to illustrate how can we categorize data using `map()` and `iteritems()` and `value_counts()` methods. You can choose one depending on whether it needs future conditional operations or not."
   ]
  },
  {
   "cell_type": "markdown",
   "metadata": {},
   "source": [
    "## DataFrame"
   ]
  },
  {
   "cell_type": "markdown",
   "metadata": {},
   "source": [
    "DataFrame is a two-dimensional data structure. A row or a column of a DataFrame is a Series in pandas.\n",
    "\n",
    "There are many ways to construct a dataFrame. We are going to introduce two common ones: `pd.DataFrame()` and `read_csv()`."
   ]
  },
  {
   "cell_type": "code",
   "execution_count": 320,
   "metadata": {},
   "outputs": [
    {
     "data": {
      "text/html": [
       "<div>\n",
       "<style>\n",
       "    .dataframe thead tr:only-child th {\n",
       "        text-align: right;\n",
       "    }\n",
       "\n",
       "    .dataframe thead th {\n",
       "        text-align: left;\n",
       "    }\n",
       "\n",
       "    .dataframe tbody tr th {\n",
       "        vertical-align: top;\n",
       "    }\n",
       "</style>\n",
       "<table border=\"1\" class=\"dataframe\">\n",
       "  <thead>\n",
       "    <tr style=\"text-align: right;\">\n",
       "      <th></th>\n",
       "      <th>col1</th>\n",
       "      <th>col2</th>\n",
       "      <th>col3</th>\n",
       "    </tr>\n",
       "  </thead>\n",
       "  <tbody>\n",
       "    <tr>\n",
       "      <th>0</th>\n",
       "      <td>1</td>\n",
       "      <td>practical</td>\n",
       "      <td>a</td>\n",
       "    </tr>\n",
       "    <tr>\n",
       "      <th>1</th>\n",
       "      <td>2</td>\n",
       "      <td>data</td>\n",
       "      <td>b</td>\n",
       "    </tr>\n",
       "    <tr>\n",
       "      <th>2</th>\n",
       "      <td>3</td>\n",
       "      <td>science</td>\n",
       "      <td>c</td>\n",
       "    </tr>\n",
       "  </tbody>\n",
       "</table>\n",
       "</div>"
      ],
      "text/plain": [
       "   col1       col2 col3\n",
       "0     1  practical    a\n",
       "1     2       data    b\n",
       "2     3    science    c"
      ]
     },
     "execution_count": 320,
     "metadata": {},
     "output_type": "execute_result"
    }
   ],
   "source": [
    "# contruct from dictionary\n",
    "dic1 = {\"col1\":[1,2,3], \"col2\":[\"practical\",\"data\",\"science\"],\"col3\":[\"a\",\"b\",\"c\"]}\n",
    "ex3 = pd.DataFrame(dic1)\n",
    "ex3"
   ]
  },
  {
   "cell_type": "code",
   "execution_count": 393,
   "metadata": {},
   "outputs": [
    {
     "data": {
      "text/html": [
       "<div>\n",
       "<style>\n",
       "    .dataframe thead tr:only-child th {\n",
       "        text-align: right;\n",
       "    }\n",
       "\n",
       "    .dataframe thead th {\n",
       "        text-align: left;\n",
       "    }\n",
       "\n",
       "    .dataframe tbody tr th {\n",
       "        vertical-align: top;\n",
       "    }\n",
       "</style>\n",
       "<table border=\"1\" class=\"dataframe\">\n",
       "  <thead>\n",
       "    <tr style=\"text-align: right;\">\n",
       "      <th></th>\n",
       "      <th>name</th>\n",
       "      <th>screen_name</th>\n",
       "      <th>location</th>\n",
       "      <th>created_at</th>\n",
       "      <th>friends_count</th>\n",
       "      <th>followers_count</th>\n",
       "      <th>statuses_count</th>\n",
       "      <th>favourites_count</th>\n",
       "    </tr>\n",
       "  </thead>\n",
       "  <tbody>\n",
       "    <tr>\n",
       "      <th>0</th>\n",
       "      <td>Donald J. Trump</td>\n",
       "      <td>realDonaldTrump</td>\n",
       "      <td>New York, NY</td>\n",
       "      <td>Wed Mar 18 13:46:38 +0000 2009</td>\n",
       "      <td>42</td>\n",
       "      <td>11397769</td>\n",
       "      <td>33136</td>\n",
       "      <td>38</td>\n",
       "    </tr>\n",
       "    <tr>\n",
       "      <th>1</th>\n",
       "      <td>Trump Organization</td>\n",
       "      <td>Trump</td>\n",
       "      <td>New York, NY</td>\n",
       "      <td>Wed Apr 13 16:51:54 +0000 2016</td>\n",
       "      <td>35</td>\n",
       "      <td>9954</td>\n",
       "      <td>43</td>\n",
       "      <td>125</td>\n",
       "    </tr>\n",
       "    <tr>\n",
       "      <th>2</th>\n",
       "      <td>Trump Golf</td>\n",
       "      <td>TrumpGolf</td>\n",
       "      <td>NaN</td>\n",
       "      <td>Mon Feb 03 13:46:03 +0000 2014</td>\n",
       "      <td>200</td>\n",
       "      <td>8797</td>\n",
       "      <td>758</td>\n",
       "      <td>251</td>\n",
       "    </tr>\n",
       "  </tbody>\n",
       "</table>\n",
       "</div>"
      ],
      "text/plain": [
       "                 name      screen_name      location  \\\n",
       "0     Donald J. Trump  realDonaldTrump  New York, NY   \n",
       "1  Trump Organization            Trump  New York, NY   \n",
       "2          Trump Golf        TrumpGolf           NaN   \n",
       "\n",
       "                       created_at  friends_count  followers_count  \\\n",
       "0  Wed Mar 18 13:46:38 +0000 2009             42         11397769   \n",
       "1  Wed Apr 13 16:51:54 +0000 2016             35             9954   \n",
       "2  Mon Feb 03 13:46:03 +0000 2014            200             8797   \n",
       "\n",
       "   statuses_count  favourites_count  \n",
       "0           33136                38  \n",
       "1              43               125  \n",
       "2             758               251  "
      ]
     },
     "execution_count": 393,
     "metadata": {},
     "output_type": "execute_result"
    }
   ],
   "source": [
    "user = pd.read_csv(\"users.csv\")\n",
    "user.head(3)"
   ]
  },
  {
   "cell_type": "markdown",
   "metadata": {},
   "source": [
    "### Index"
   ]
  },
  {
   "cell_type": "markdown",
   "metadata": {},
   "source": [
    "Index is a very important attribute in DataFrame. We can access, sort, aggregate, align, slice and etc. based on the index."
   ]
  },
  {
   "cell_type": "code",
   "execution_count": 322,
   "metadata": {},
   "outputs": [
    {
     "name": "stdout",
     "output_type": "stream",
     "text": [
      "[0, 1, 2, 3, 4]\n"
     ]
    }
   ],
   "source": [
    "print (user.index.values.tolist()[:5])"
   ]
  },
  {
   "cell_type": "markdown",
   "metadata": {},
   "source": [
    "The default index will start from 0 for a new DataFrame. After we set a new index, we can choose whether to drop the original numpy index or not. Also, we can set index when we import the .csv file."
   ]
  },
  {
   "cell_type": "code",
   "execution_count": 323,
   "metadata": {},
   "outputs": [
    {
     "data": {
      "text/html": [
       "<div>\n",
       "<style>\n",
       "    .dataframe thead tr:only-child th {\n",
       "        text-align: right;\n",
       "    }\n",
       "\n",
       "    .dataframe thead th {\n",
       "        text-align: left;\n",
       "    }\n",
       "\n",
       "    .dataframe tbody tr th {\n",
       "        vertical-align: top;\n",
       "    }\n",
       "</style>\n",
       "<table border=\"1\" class=\"dataframe\">\n",
       "  <thead>\n",
       "    <tr style=\"text-align: right;\">\n",
       "      <th></th>\n",
       "      <th>screen_name</th>\n",
       "      <th>location</th>\n",
       "      <th>created_at</th>\n",
       "      <th>friends_count</th>\n",
       "      <th>followers_count</th>\n",
       "      <th>statuses_count</th>\n",
       "      <th>favourites_count</th>\n",
       "    </tr>\n",
       "    <tr>\n",
       "      <th>name</th>\n",
       "      <th></th>\n",
       "      <th></th>\n",
       "      <th></th>\n",
       "      <th></th>\n",
       "      <th></th>\n",
       "      <th></th>\n",
       "      <th></th>\n",
       "    </tr>\n",
       "  </thead>\n",
       "  <tbody>\n",
       "    <tr>\n",
       "      <th>Donald J. Trump</th>\n",
       "      <td>realDonaldTrump</td>\n",
       "      <td>New York, NY</td>\n",
       "      <td>Wed Mar 18 13:46:38 +0000 2009</td>\n",
       "      <td>42</td>\n",
       "      <td>11397769</td>\n",
       "      <td>33136</td>\n",
       "      <td>38</td>\n",
       "    </tr>\n",
       "    <tr>\n",
       "      <th>Trump Organization</th>\n",
       "      <td>Trump</td>\n",
       "      <td>New York, NY</td>\n",
       "      <td>Wed Apr 13 16:51:54 +0000 2016</td>\n",
       "      <td>35</td>\n",
       "      <td>9954</td>\n",
       "      <td>43</td>\n",
       "      <td>125</td>\n",
       "    </tr>\n",
       "    <tr>\n",
       "      <th>Trump Golf</th>\n",
       "      <td>TrumpGolf</td>\n",
       "      <td>NaN</td>\n",
       "      <td>Mon Feb 03 13:46:03 +0000 2014</td>\n",
       "      <td>200</td>\n",
       "      <td>8797</td>\n",
       "      <td>758</td>\n",
       "      <td>251</td>\n",
       "    </tr>\n",
       "  </tbody>\n",
       "</table>\n",
       "</div>"
      ],
      "text/plain": [
       "                        screen_name      location  \\\n",
       "name                                                \n",
       "Donald J. Trump     realDonaldTrump  New York, NY   \n",
       "Trump Organization            Trump  New York, NY   \n",
       "Trump Golf                TrumpGolf           NaN   \n",
       "\n",
       "                                        created_at  friends_count  \\\n",
       "name                                                                \n",
       "Donald J. Trump     Wed Mar 18 13:46:38 +0000 2009             42   \n",
       "Trump Organization  Wed Apr 13 16:51:54 +0000 2016             35   \n",
       "Trump Golf          Mon Feb 03 13:46:03 +0000 2014            200   \n",
       "\n",
       "                    followers_count  statuses_count  favourites_count  \n",
       "name                                                                   \n",
       "Donald J. Trump            11397769           33136                38  \n",
       "Trump Organization             9954              43               125  \n",
       "Trump Golf                     8797             758               251  "
      ]
     },
     "execution_count": 323,
     "metadata": {},
     "output_type": "execute_result"
    }
   ],
   "source": [
    "user = user.set_index(\"name\")\n",
    "user.head(3)"
   ]
  },
  {
   "cell_type": "markdown",
   "metadata": {},
   "source": [
    "If we set another column as the index now, here is what will happen."
   ]
  },
  {
   "cell_type": "code",
   "execution_count": 324,
   "metadata": {},
   "outputs": [
    {
     "data": {
      "text/html": [
       "<div>\n",
       "<style>\n",
       "    .dataframe thead tr:only-child th {\n",
       "        text-align: right;\n",
       "    }\n",
       "\n",
       "    .dataframe thead th {\n",
       "        text-align: left;\n",
       "    }\n",
       "\n",
       "    .dataframe tbody tr th {\n",
       "        vertical-align: top;\n",
       "    }\n",
       "</style>\n",
       "<table border=\"1\" class=\"dataframe\">\n",
       "  <thead>\n",
       "    <tr style=\"text-align: right;\">\n",
       "      <th></th>\n",
       "      <th>location</th>\n",
       "      <th>created_at</th>\n",
       "      <th>friends_count</th>\n",
       "      <th>followers_count</th>\n",
       "      <th>statuses_count</th>\n",
       "      <th>favourites_count</th>\n",
       "    </tr>\n",
       "    <tr>\n",
       "      <th>screen_name</th>\n",
       "      <th></th>\n",
       "      <th></th>\n",
       "      <th></th>\n",
       "      <th></th>\n",
       "      <th></th>\n",
       "      <th></th>\n",
       "    </tr>\n",
       "  </thead>\n",
       "  <tbody>\n",
       "    <tr>\n",
       "      <th>realDonaldTrump</th>\n",
       "      <td>New York, NY</td>\n",
       "      <td>Wed Mar 18 13:46:38 +0000 2009</td>\n",
       "      <td>42</td>\n",
       "      <td>11397769</td>\n",
       "      <td>33136</td>\n",
       "      <td>38</td>\n",
       "    </tr>\n",
       "    <tr>\n",
       "      <th>Trump</th>\n",
       "      <td>New York, NY</td>\n",
       "      <td>Wed Apr 13 16:51:54 +0000 2016</td>\n",
       "      <td>35</td>\n",
       "      <td>9954</td>\n",
       "      <td>43</td>\n",
       "      <td>125</td>\n",
       "    </tr>\n",
       "    <tr>\n",
       "      <th>TrumpGolf</th>\n",
       "      <td>NaN</td>\n",
       "      <td>Mon Feb 03 13:46:03 +0000 2014</td>\n",
       "      <td>200</td>\n",
       "      <td>8797</td>\n",
       "      <td>758</td>\n",
       "      <td>251</td>\n",
       "    </tr>\n",
       "  </tbody>\n",
       "</table>\n",
       "</div>"
      ],
      "text/plain": [
       "                     location                      created_at  friends_count  \\\n",
       "screen_name                                                                    \n",
       "realDonaldTrump  New York, NY  Wed Mar 18 13:46:38 +0000 2009             42   \n",
       "Trump            New York, NY  Wed Apr 13 16:51:54 +0000 2016             35   \n",
       "TrumpGolf                 NaN  Mon Feb 03 13:46:03 +0000 2014            200   \n",
       "\n",
       "                 followers_count  statuses_count  favourites_count  \n",
       "screen_name                                                         \n",
       "realDonaldTrump         11397769           33136                38  \n",
       "Trump                       9954              43               125  \n",
       "TrumpGolf                   8797             758               251  "
      ]
     },
     "execution_count": 324,
     "metadata": {},
     "output_type": "execute_result"
    }
   ],
   "source": [
    "user.set_index(\"screen_name\").head(3)"
   ]
  },
  {
   "cell_type": "markdown",
   "metadata": {},
   "source": [
    "Notice that the `name` column has been replaced by the `screen_name` column. In this way we will lose some data. So before we set another index, we need to use `reset_index()` first.\n",
    "\n",
    "When we reset the index, the `name` column will be released from index column. And now we can reset another index."
   ]
  },
  {
   "cell_type": "code",
   "execution_count": 325,
   "metadata": {},
   "outputs": [
    {
     "data": {
      "text/html": [
       "<div>\n",
       "<style>\n",
       "    .dataframe thead tr:only-child th {\n",
       "        text-align: right;\n",
       "    }\n",
       "\n",
       "    .dataframe thead th {\n",
       "        text-align: left;\n",
       "    }\n",
       "\n",
       "    .dataframe tbody tr th {\n",
       "        vertical-align: top;\n",
       "    }\n",
       "</style>\n",
       "<table border=\"1\" class=\"dataframe\">\n",
       "  <thead>\n",
       "    <tr style=\"text-align: right;\">\n",
       "      <th></th>\n",
       "      <th>name</th>\n",
       "      <th>screen_name</th>\n",
       "      <th>location</th>\n",
       "      <th>created_at</th>\n",
       "      <th>friends_count</th>\n",
       "      <th>followers_count</th>\n",
       "      <th>statuses_count</th>\n",
       "      <th>favourites_count</th>\n",
       "    </tr>\n",
       "  </thead>\n",
       "  <tbody>\n",
       "    <tr>\n",
       "      <th>0</th>\n",
       "      <td>Donald J. Trump</td>\n",
       "      <td>realDonaldTrump</td>\n",
       "      <td>New York, NY</td>\n",
       "      <td>Wed Mar 18 13:46:38 +0000 2009</td>\n",
       "      <td>42</td>\n",
       "      <td>11397769</td>\n",
       "      <td>33136</td>\n",
       "      <td>38</td>\n",
       "    </tr>\n",
       "    <tr>\n",
       "      <th>1</th>\n",
       "      <td>Trump Organization</td>\n",
       "      <td>Trump</td>\n",
       "      <td>New York, NY</td>\n",
       "      <td>Wed Apr 13 16:51:54 +0000 2016</td>\n",
       "      <td>35</td>\n",
       "      <td>9954</td>\n",
       "      <td>43</td>\n",
       "      <td>125</td>\n",
       "    </tr>\n",
       "    <tr>\n",
       "      <th>2</th>\n",
       "      <td>Trump Golf</td>\n",
       "      <td>TrumpGolf</td>\n",
       "      <td>NaN</td>\n",
       "      <td>Mon Feb 03 13:46:03 +0000 2014</td>\n",
       "      <td>200</td>\n",
       "      <td>8797</td>\n",
       "      <td>758</td>\n",
       "      <td>251</td>\n",
       "    </tr>\n",
       "  </tbody>\n",
       "</table>\n",
       "</div>"
      ],
      "text/plain": [
       "                 name      screen_name      location  \\\n",
       "0     Donald J. Trump  realDonaldTrump  New York, NY   \n",
       "1  Trump Organization            Trump  New York, NY   \n",
       "2          Trump Golf        TrumpGolf           NaN   \n",
       "\n",
       "                       created_at  friends_count  followers_count  \\\n",
       "0  Wed Mar 18 13:46:38 +0000 2009             42         11397769   \n",
       "1  Wed Apr 13 16:51:54 +0000 2016             35             9954   \n",
       "2  Mon Feb 03 13:46:03 +0000 2014            200             8797   \n",
       "\n",
       "   statuses_count  favourites_count  \n",
       "0           33136                38  \n",
       "1              43               125  \n",
       "2             758               251  "
      ]
     },
     "execution_count": 325,
     "metadata": {},
     "output_type": "execute_result"
    }
   ],
   "source": [
    "user = user.reset_index()\n",
    "user.head(3)"
   ]
  },
  {
   "cell_type": "code",
   "execution_count": 394,
   "metadata": {},
   "outputs": [
    {
     "data": {
      "text/html": [
       "<div>\n",
       "<style>\n",
       "    .dataframe thead tr:only-child th {\n",
       "        text-align: right;\n",
       "    }\n",
       "\n",
       "    .dataframe thead th {\n",
       "        text-align: left;\n",
       "    }\n",
       "\n",
       "    .dataframe tbody tr th {\n",
       "        vertical-align: top;\n",
       "    }\n",
       "</style>\n",
       "<table border=\"1\" class=\"dataframe\">\n",
       "  <thead>\n",
       "    <tr style=\"text-align: right;\">\n",
       "      <th></th>\n",
       "      <th>name</th>\n",
       "      <th>location</th>\n",
       "      <th>created_at</th>\n",
       "      <th>friends_count</th>\n",
       "      <th>followers_count</th>\n",
       "      <th>statuses_count</th>\n",
       "      <th>favourites_count</th>\n",
       "    </tr>\n",
       "    <tr>\n",
       "      <th>screen_name</th>\n",
       "      <th></th>\n",
       "      <th></th>\n",
       "      <th></th>\n",
       "      <th></th>\n",
       "      <th></th>\n",
       "      <th></th>\n",
       "      <th></th>\n",
       "    </tr>\n",
       "  </thead>\n",
       "  <tbody>\n",
       "    <tr>\n",
       "      <th>realDonaldTrump</th>\n",
       "      <td>Donald J. Trump</td>\n",
       "      <td>New York, NY</td>\n",
       "      <td>Wed Mar 18 13:46:38 +0000 2009</td>\n",
       "      <td>42</td>\n",
       "      <td>11397769</td>\n",
       "      <td>33136</td>\n",
       "      <td>38</td>\n",
       "    </tr>\n",
       "    <tr>\n",
       "      <th>Trump</th>\n",
       "      <td>Trump Organization</td>\n",
       "      <td>New York, NY</td>\n",
       "      <td>Wed Apr 13 16:51:54 +0000 2016</td>\n",
       "      <td>35</td>\n",
       "      <td>9954</td>\n",
       "      <td>43</td>\n",
       "      <td>125</td>\n",
       "    </tr>\n",
       "    <tr>\n",
       "      <th>TrumpGolf</th>\n",
       "      <td>Trump Golf</td>\n",
       "      <td>NaN</td>\n",
       "      <td>Mon Feb 03 13:46:03 +0000 2014</td>\n",
       "      <td>200</td>\n",
       "      <td>8797</td>\n",
       "      <td>758</td>\n",
       "      <td>251</td>\n",
       "    </tr>\n",
       "  </tbody>\n",
       "</table>\n",
       "</div>"
      ],
      "text/plain": [
       "                               name      location  \\\n",
       "screen_name                                         \n",
       "realDonaldTrump     Donald J. Trump  New York, NY   \n",
       "Trump            Trump Organization  New York, NY   \n",
       "TrumpGolf                Trump Golf           NaN   \n",
       "\n",
       "                                     created_at  friends_count  \\\n",
       "screen_name                                                      \n",
       "realDonaldTrump  Wed Mar 18 13:46:38 +0000 2009             42   \n",
       "Trump            Wed Apr 13 16:51:54 +0000 2016             35   \n",
       "TrumpGolf        Mon Feb 03 13:46:03 +0000 2014            200   \n",
       "\n",
       "                 followers_count  statuses_count  favourites_count  \n",
       "screen_name                                                         \n",
       "realDonaldTrump         11397769           33136                38  \n",
       "Trump                       9954              43               125  \n",
       "TrumpGolf                   8797             758               251  "
      ]
     },
     "execution_count": 394,
     "metadata": {},
     "output_type": "execute_result"
    }
   ],
   "source": [
    "user = user.set_index(\"screen_name\")\n",
    "user.head(3)"
   ]
  },
  {
   "cell_type": "markdown",
   "metadata": {},
   "source": [
    "As screen name is unique for Twitter accounts, we will use `screen_name` as index."
   ]
  },
  {
   "cell_type": "markdown",
   "metadata": {},
   "source": [
    "### Access data"
   ]
  },
  {
   "cell_type": "markdown",
   "metadata": {},
   "source": [
    "We can access data using index with `loc[]`, `iloc[]` and `ix[]` method. It searches the value in index and return that row if keyword found. If not, it will create a new row with that keyword."
   ]
  },
  {
   "cell_type": "code",
   "execution_count": 327,
   "metadata": {},
   "outputs": [
    {
     "data": {
      "text/plain": [
       "name                            Trump Organization\n",
       "location                              New York, NY\n",
       "created_at          Wed Apr 13 16:51:54 +0000 2016\n",
       "friends_count                                   35\n",
       "followers_count                               9954\n",
       "statuses_count                                  43\n",
       "favourites_count                               125\n",
       "Name: Trump, dtype: object"
      ]
     },
     "execution_count": 327,
     "metadata": {},
     "output_type": "execute_result"
    }
   ],
   "source": [
    "user.loc[\"Trump\"]"
   ]
  },
  {
   "cell_type": "markdown",
   "metadata": {},
   "source": [
    "We can also access a range of rows with index. It works better after we sorted the index. For example, the student id or the employee number."
   ]
  },
  {
   "cell_type": "markdown",
   "metadata": {},
   "source": [
    "The second parameter is the column of that Series you want to peek."
   ]
  },
  {
   "cell_type": "code",
   "execution_count": 328,
   "metadata": {},
   "outputs": [
    {
     "data": {
      "text/plain": [
       "'New York, NY'"
      ]
     },
     "execution_count": 328,
     "metadata": {},
     "output_type": "execute_result"
    }
   ],
   "source": [
    "user.loc[\"Trump\", \"location\"]"
   ]
  },
  {
   "cell_type": "code",
   "execution_count": 329,
   "metadata": {},
   "outputs": [
    {
     "data": {
      "text/html": [
       "<div>\n",
       "<style>\n",
       "    .dataframe thead tr:only-child th {\n",
       "        text-align: right;\n",
       "    }\n",
       "\n",
       "    .dataframe thead th {\n",
       "        text-align: left;\n",
       "    }\n",
       "\n",
       "    .dataframe tbody tr th {\n",
       "        vertical-align: top;\n",
       "    }\n",
       "</style>\n",
       "<table border=\"1\" class=\"dataframe\">\n",
       "  <thead>\n",
       "    <tr style=\"text-align: right;\">\n",
       "      <th></th>\n",
       "      <th>name</th>\n",
       "      <th>location</th>\n",
       "      <th>created_at</th>\n",
       "      <th>friends_count</th>\n",
       "      <th>followers_count</th>\n",
       "      <th>statuses_count</th>\n",
       "      <th>favourites_count</th>\n",
       "    </tr>\n",
       "    <tr>\n",
       "      <th>screen_name</th>\n",
       "      <th></th>\n",
       "      <th></th>\n",
       "      <th></th>\n",
       "      <th></th>\n",
       "      <th></th>\n",
       "      <th></th>\n",
       "      <th></th>\n",
       "    </tr>\n",
       "  </thead>\n",
       "  <tbody>\n",
       "    <tr>\n",
       "      <th>realDonaldTrump</th>\n",
       "      <td>Donald J. Trump</td>\n",
       "      <td>New York, NY</td>\n",
       "      <td>Wed Mar 18 13:46:38 +0000 2009</td>\n",
       "      <td>42</td>\n",
       "      <td>11397769</td>\n",
       "      <td>33136</td>\n",
       "      <td>38</td>\n",
       "    </tr>\n",
       "    <tr>\n",
       "      <th>Trump</th>\n",
       "      <td>Trump Organization</td>\n",
       "      <td>New York, NY</td>\n",
       "      <td>Wed Apr 13 16:51:54 +0000 2016</td>\n",
       "      <td>35</td>\n",
       "      <td>9954</td>\n",
       "      <td>43</td>\n",
       "      <td>125</td>\n",
       "    </tr>\n",
       "    <tr>\n",
       "      <th>TrumpGolf</th>\n",
       "      <td>Trump Golf</td>\n",
       "      <td>NaN</td>\n",
       "      <td>Mon Feb 03 13:46:03 +0000 2014</td>\n",
       "      <td>200</td>\n",
       "      <td>8797</td>\n",
       "      <td>758</td>\n",
       "      <td>251</td>\n",
       "    </tr>\n",
       "    <tr>\n",
       "      <th>TiffanyATrump</th>\n",
       "      <td>Tiffany Trump</td>\n",
       "      <td>NaN</td>\n",
       "      <td>Tue Feb 01 20:59:30 +0000 2011</td>\n",
       "      <td>79</td>\n",
       "      <td>63138</td>\n",
       "      <td>573</td>\n",
       "      <td>28</td>\n",
       "    </tr>\n",
       "    <tr>\n",
       "      <th>IngrahamAngle</th>\n",
       "      <td>Laura Ingraham</td>\n",
       "      <td>DC</td>\n",
       "      <td>Thu Jun 25 21:03:25 +0000 2009</td>\n",
       "      <td>289</td>\n",
       "      <td>851876</td>\n",
       "      <td>26523</td>\n",
       "      <td>71</td>\n",
       "    </tr>\n",
       "    <tr>\n",
       "      <th>mike_pence</th>\n",
       "      <td>Mike Pence</td>\n",
       "      <td>NaN</td>\n",
       "      <td>Fri Feb 27 23:04:51 +0000 2009</td>\n",
       "      <td>1208</td>\n",
       "      <td>207552</td>\n",
       "      <td>4572</td>\n",
       "      <td>746</td>\n",
       "    </tr>\n",
       "    <tr>\n",
       "      <th>TeamTrump</th>\n",
       "      <td>Official Team Trump</td>\n",
       "      <td>USA</td>\n",
       "      <td>Mon May 09 14:15:10 +0000 2016</td>\n",
       "      <td>18</td>\n",
       "      <td>65833</td>\n",
       "      <td>2714</td>\n",
       "      <td>348</td>\n",
       "    </tr>\n",
       "    <tr>\n",
       "      <th>DRUDGE_REPORT</th>\n",
       "      <td>DRUDGE REPORT</td>\n",
       "      <td>US</td>\n",
       "      <td>Tue May 06 05:34:47 +0000 2008</td>\n",
       "      <td>2</td>\n",
       "      <td>999809</td>\n",
       "      <td>175278</td>\n",
       "      <td>0</td>\n",
       "    </tr>\n",
       "    <tr>\n",
       "      <th>MrsVanessaTrump</th>\n",
       "      <td>Vanessa Trump</td>\n",
       "      <td>NaN</td>\n",
       "      <td>Fri Jan 27 13:10:13 +0000 2012</td>\n",
       "      <td>155</td>\n",
       "      <td>50517</td>\n",
       "      <td>2028</td>\n",
       "      <td>240</td>\n",
       "    </tr>\n",
       "    <tr>\n",
       "      <th>LaraLeaTrump</th>\n",
       "      <td>Lara Trump</td>\n",
       "      <td>New York City</td>\n",
       "      <td>Sat Sep 19 12:49:26 +0000 2009</td>\n",
       "      <td>342</td>\n",
       "      <td>60552</td>\n",
       "      <td>2275</td>\n",
       "      <td>2381</td>\n",
       "    </tr>\n",
       "  </tbody>\n",
       "</table>\n",
       "</div>"
      ],
      "text/plain": [
       "                                name       location  \\\n",
       "screen_name                                           \n",
       "realDonaldTrump      Donald J. Trump   New York, NY   \n",
       "Trump             Trump Organization   New York, NY   \n",
       "TrumpGolf                 Trump Golf            NaN   \n",
       "TiffanyATrump          Tiffany Trump            NaN   \n",
       "IngrahamAngle         Laura Ingraham             DC   \n",
       "mike_pence                Mike Pence            NaN   \n",
       "TeamTrump        Official Team Trump            USA   \n",
       "DRUDGE_REPORT          DRUDGE REPORT             US   \n",
       "MrsVanessaTrump        Vanessa Trump            NaN   \n",
       "LaraLeaTrump              Lara Trump  New York City   \n",
       "\n",
       "                                     created_at  friends_count  \\\n",
       "screen_name                                                      \n",
       "realDonaldTrump  Wed Mar 18 13:46:38 +0000 2009             42   \n",
       "Trump            Wed Apr 13 16:51:54 +0000 2016             35   \n",
       "TrumpGolf        Mon Feb 03 13:46:03 +0000 2014            200   \n",
       "TiffanyATrump    Tue Feb 01 20:59:30 +0000 2011             79   \n",
       "IngrahamAngle    Thu Jun 25 21:03:25 +0000 2009            289   \n",
       "mike_pence       Fri Feb 27 23:04:51 +0000 2009           1208   \n",
       "TeamTrump        Mon May 09 14:15:10 +0000 2016             18   \n",
       "DRUDGE_REPORT    Tue May 06 05:34:47 +0000 2008              2   \n",
       "MrsVanessaTrump  Fri Jan 27 13:10:13 +0000 2012            155   \n",
       "LaraLeaTrump     Sat Sep 19 12:49:26 +0000 2009            342   \n",
       "\n",
       "                 followers_count  statuses_count  favourites_count  \n",
       "screen_name                                                         \n",
       "realDonaldTrump         11397769           33136                38  \n",
       "Trump                       9954              43               125  \n",
       "TrumpGolf                   8797             758               251  \n",
       "TiffanyATrump              63138             573                28  \n",
       "IngrahamAngle             851876           26523                71  \n",
       "mike_pence                207552            4572               746  \n",
       "TeamTrump                  65833            2714               348  \n",
       "DRUDGE_REPORT             999809          175278                 0  \n",
       "MrsVanessaTrump            50517            2028               240  \n",
       "LaraLeaTrump               60552            2275              2381  "
      ]
     },
     "execution_count": 329,
     "metadata": {},
     "output_type": "execute_result"
    }
   ],
   "source": [
    "user.loc[\"realDonaldTrump\": \"LaraLeaTrump\"]"
   ]
  },
  {
   "cell_type": "markdown",
   "metadata": {},
   "source": [
    "The `iloc[]` method use row number as index to locate the data. The second parameter can also be a range of columns of that Series."
   ]
  },
  {
   "cell_type": "code",
   "execution_count": 330,
   "metadata": {},
   "outputs": [
    {
     "data": {
      "text/plain": [
       "location                             New York, NY\n",
       "created_at         Wed Apr 13 16:51:54 +0000 2016\n",
       "friends_count                                  35\n",
       "followers_count                              9954\n",
       "Name: Trump, dtype: object"
      ]
     },
     "execution_count": 330,
     "metadata": {},
     "output_type": "execute_result"
    }
   ],
   "source": [
    "#user.iloc[1]\n",
    "user.iloc[1, 1:5]"
   ]
  },
  {
   "cell_type": "markdown",
   "metadata": {},
   "source": [
    "The `ix[]` is the most flexible one, but it is deprecated now. We can access data with either index value or row number. The second parameter can also be a combination of target columns, included in a blacket."
   ]
  },
  {
   "cell_type": "code",
   "execution_count": 331,
   "metadata": {},
   "outputs": [
    {
     "name": "stderr",
     "output_type": "stream",
     "text": [
      "/Users/yangfanshu/anaconda3/lib/python3.6/site-packages/ipykernel_launcher.py:1: DeprecationWarning: \n",
      ".ix is deprecated. Please use\n",
      ".loc for label based indexing or\n",
      ".iloc for positional indexing\n",
      "\n",
      "See the documentation here:\n",
      "http://pandas.pydata.org/pandas-docs/stable/indexing.html#ix-indexer-is-deprecated\n",
      "  \"\"\"Entry point for launching an IPython kernel.\n"
     ]
    },
    {
     "data": {
      "text/plain": [
       "location                             New York, NY\n",
       "created_at         Wed Apr 13 16:51:54 +0000 2016\n",
       "followers_count                              9954\n",
       "statuses_count                                 43\n",
       "Name: Trump, dtype: object"
      ]
     },
     "execution_count": 331,
     "metadata": {},
     "output_type": "execute_result"
    }
   ],
   "source": [
    "user.ix[\"Trump\", [1,2,4,5]]"
   ]
  },
  {
   "cell_type": "markdown",
   "metadata": {},
   "source": [
    "### Query data"
   ]
  },
  {
   "cell_type": "markdown",
   "metadata": {},
   "source": [
    "There are two common ways to query data with conditions. The first one is `query()` method in dataFrame."
   ]
  },
  {
   "cell_type": "code",
   "execution_count": 300,
   "metadata": {},
   "outputs": [
    {
     "data": {
      "text/html": [
       "<div>\n",
       "<style>\n",
       "    .dataframe thead tr:only-child th {\n",
       "        text-align: right;\n",
       "    }\n",
       "\n",
       "    .dataframe thead th {\n",
       "        text-align: left;\n",
       "    }\n",
       "\n",
       "    .dataframe tbody tr th {\n",
       "        vertical-align: top;\n",
       "    }\n",
       "</style>\n",
       "<table border=\"1\" class=\"dataframe\">\n",
       "  <thead>\n",
       "    <tr style=\"text-align: right;\">\n",
       "      <th></th>\n",
       "      <th>name</th>\n",
       "      <th>location</th>\n",
       "      <th>created_at</th>\n",
       "      <th>friends_count</th>\n",
       "      <th>followers_count</th>\n",
       "      <th>statuses_count</th>\n",
       "      <th>favourites_count</th>\n",
       "    </tr>\n",
       "    <tr>\n",
       "      <th>screen_name</th>\n",
       "      <th></th>\n",
       "      <th></th>\n",
       "      <th></th>\n",
       "      <th></th>\n",
       "      <th></th>\n",
       "      <th></th>\n",
       "      <th></th>\n",
       "    </tr>\n",
       "  </thead>\n",
       "  <tbody>\n",
       "    <tr>\n",
       "      <th>Trump</th>\n",
       "      <td>Trump Organization</td>\n",
       "      <td>New York, NY</td>\n",
       "      <td>Wed Apr 13 16:51:54 +0000 2016</td>\n",
       "      <td>35</td>\n",
       "      <td>9954</td>\n",
       "      <td>43</td>\n",
       "      <td>125</td>\n",
       "    </tr>\n",
       "  </tbody>\n",
       "</table>\n",
       "</div>"
      ],
      "text/plain": [
       "                           name      location                      created_at  \\\n",
       "screen_name                                                                     \n",
       "Trump        Trump Organization  New York, NY  Wed Apr 13 16:51:54 +0000 2016   \n",
       "\n",
       "             friends_count  followers_count  statuses_count  favourites_count  \n",
       "screen_name                                                                    \n",
       "Trump                   35             9954              43               125  "
      ]
     },
     "execution_count": 300,
     "metadata": {},
     "output_type": "execute_result"
    }
   ],
   "source": [
    "user.query(\"screen_name == 'Trump'\")"
   ]
  },
  {
   "cell_type": "code",
   "execution_count": 341,
   "metadata": {},
   "outputs": [
    {
     "data": {
      "text/html": [
       "<div>\n",
       "<style>\n",
       "    .dataframe thead tr:only-child th {\n",
       "        text-align: right;\n",
       "    }\n",
       "\n",
       "    .dataframe thead th {\n",
       "        text-align: left;\n",
       "    }\n",
       "\n",
       "    .dataframe tbody tr th {\n",
       "        vertical-align: top;\n",
       "    }\n",
       "</style>\n",
       "<table border=\"1\" class=\"dataframe\">\n",
       "  <thead>\n",
       "    <tr style=\"text-align: right;\">\n",
       "      <th></th>\n",
       "      <th>name</th>\n",
       "      <th>location</th>\n",
       "      <th>created_at</th>\n",
       "      <th>friends_count</th>\n",
       "      <th>followers_count</th>\n",
       "      <th>statuses_count</th>\n",
       "      <th>favourites_count</th>\n",
       "    </tr>\n",
       "    <tr>\n",
       "      <th>screen_name</th>\n",
       "      <th></th>\n",
       "      <th></th>\n",
       "      <th></th>\n",
       "      <th></th>\n",
       "      <th></th>\n",
       "      <th></th>\n",
       "      <th></th>\n",
       "    </tr>\n",
       "  </thead>\n",
       "  <tbody>\n",
       "    <tr>\n",
       "      <th>IngrahamAngle</th>\n",
       "      <td>Laura Ingraham</td>\n",
       "      <td>DC</td>\n",
       "      <td>Thu Jun 25 21:03:25 +0000 2009</td>\n",
       "      <td>289</td>\n",
       "      <td>851876</td>\n",
       "      <td>26523</td>\n",
       "      <td>71</td>\n",
       "    </tr>\n",
       "    <tr>\n",
       "      <th>mike_pence</th>\n",
       "      <td>Mike Pence</td>\n",
       "      <td>NaN</td>\n",
       "      <td>Fri Feb 27 23:04:51 +0000 2009</td>\n",
       "      <td>1208</td>\n",
       "      <td>207552</td>\n",
       "      <td>4572</td>\n",
       "      <td>746</td>\n",
       "    </tr>\n",
       "    <tr>\n",
       "      <th>LaraLeaTrump</th>\n",
       "      <td>Lara Trump</td>\n",
       "      <td>New York City</td>\n",
       "      <td>Sat Sep 19 12:49:26 +0000 2009</td>\n",
       "      <td>342</td>\n",
       "      <td>60552</td>\n",
       "      <td>2275</td>\n",
       "      <td>2381</td>\n",
       "    </tr>\n",
       "  </tbody>\n",
       "</table>\n",
       "</div>"
      ],
      "text/plain": [
       "                         name       location                      created_at  \\\n",
       "screen_name                                                                    \n",
       "IngrahamAngle  Laura Ingraham             DC  Thu Jun 25 21:03:25 +0000 2009   \n",
       "mike_pence         Mike Pence            NaN  Fri Feb 27 23:04:51 +0000 2009   \n",
       "LaraLeaTrump       Lara Trump  New York City  Sat Sep 19 12:49:26 +0000 2009   \n",
       "\n",
       "               friends_count  followers_count  statuses_count  \\\n",
       "screen_name                                                     \n",
       "IngrahamAngle            289           851876           26523   \n",
       "mike_pence              1208           207552            4572   \n",
       "LaraLeaTrump             342            60552            2275   \n",
       "\n",
       "               favourites_count  \n",
       "screen_name                      \n",
       "IngrahamAngle                71  \n",
       "mike_pence                  746  \n",
       "LaraLeaTrump               2381  "
      ]
     },
     "execution_count": 341,
     "metadata": {},
     "output_type": "execute_result"
    }
   ],
   "source": [
    "user.query(\"followers_count > 100 and friends_count > 200\").head(3)"
   ]
  },
  {
   "cell_type": "code",
   "execution_count": 340,
   "metadata": {},
   "outputs": [
    {
     "data": {
      "text/html": [
       "<div>\n",
       "<style>\n",
       "    .dataframe thead tr:only-child th {\n",
       "        text-align: right;\n",
       "    }\n",
       "\n",
       "    .dataframe thead th {\n",
       "        text-align: left;\n",
       "    }\n",
       "\n",
       "    .dataframe tbody tr th {\n",
       "        vertical-align: top;\n",
       "    }\n",
       "</style>\n",
       "<table border=\"1\" class=\"dataframe\">\n",
       "  <thead>\n",
       "    <tr style=\"text-align: right;\">\n",
       "      <th></th>\n",
       "      <th>name</th>\n",
       "      <th>location</th>\n",
       "      <th>created_at</th>\n",
       "      <th>friends_count</th>\n",
       "      <th>followers_count</th>\n",
       "      <th>statuses_count</th>\n",
       "      <th>favourites_count</th>\n",
       "    </tr>\n",
       "    <tr>\n",
       "      <th>screen_name</th>\n",
       "      <th></th>\n",
       "      <th></th>\n",
       "      <th></th>\n",
       "      <th></th>\n",
       "      <th></th>\n",
       "      <th></th>\n",
       "      <th></th>\n",
       "    </tr>\n",
       "  </thead>\n",
       "  <tbody>\n",
       "    <tr>\n",
       "      <th>realDonaldTrump</th>\n",
       "      <td>Donald J. Trump</td>\n",
       "      <td>New York, NY</td>\n",
       "      <td>Wed Mar 18 13:46:38 +0000 2009</td>\n",
       "      <td>42</td>\n",
       "      <td>11397769</td>\n",
       "      <td>33136</td>\n",
       "      <td>38</td>\n",
       "    </tr>\n",
       "    <tr>\n",
       "      <th>Trump</th>\n",
       "      <td>Trump Organization</td>\n",
       "      <td>New York, NY</td>\n",
       "      <td>Wed Apr 13 16:51:54 +0000 2016</td>\n",
       "      <td>35</td>\n",
       "      <td>9954</td>\n",
       "      <td>43</td>\n",
       "      <td>125</td>\n",
       "    </tr>\n",
       "    <tr>\n",
       "      <th>TrumpGolf</th>\n",
       "      <td>Trump Golf</td>\n",
       "      <td>NaN</td>\n",
       "      <td>Mon Feb 03 13:46:03 +0000 2014</td>\n",
       "      <td>200</td>\n",
       "      <td>8797</td>\n",
       "      <td>758</td>\n",
       "      <td>251</td>\n",
       "    </tr>\n",
       "  </tbody>\n",
       "</table>\n",
       "</div>"
      ],
      "text/plain": [
       "                               name      location  \\\n",
       "screen_name                                         \n",
       "realDonaldTrump     Donald J. Trump  New York, NY   \n",
       "Trump            Trump Organization  New York, NY   \n",
       "TrumpGolf                Trump Golf           NaN   \n",
       "\n",
       "                                     created_at  friends_count  \\\n",
       "screen_name                                                      \n",
       "realDonaldTrump  Wed Mar 18 13:46:38 +0000 2009             42   \n",
       "Trump            Wed Apr 13 16:51:54 +0000 2016             35   \n",
       "TrumpGolf        Mon Feb 03 13:46:03 +0000 2014            200   \n",
       "\n",
       "                 followers_count  statuses_count  favourites_count  \n",
       "screen_name                                                         \n",
       "realDonaldTrump         11397769           33136                38  \n",
       "Trump                       9954              43               125  \n",
       "TrumpGolf                   8797             758               251  "
      ]
     },
     "execution_count": 340,
     "metadata": {},
     "output_type": "execute_result"
    }
   ],
   "source": [
    "user.query(\"location not in ['DC', 'NYC']\").head(3)"
   ]
  },
  {
   "cell_type": "markdown",
   "metadata": {},
   "source": [
    "The second one is `.where()` method. It works similar as the boolean filter in Series. However, it still return the whole table with only the Series that match the condition is not `NaN`."
   ]
  },
  {
   "cell_type": "code",
   "execution_count": 350,
   "metadata": {},
   "outputs": [
    {
     "data": {
      "text/html": [
       "<div>\n",
       "<style>\n",
       "    .dataframe thead tr:only-child th {\n",
       "        text-align: right;\n",
       "    }\n",
       "\n",
       "    .dataframe thead th {\n",
       "        text-align: left;\n",
       "    }\n",
       "\n",
       "    .dataframe tbody tr th {\n",
       "        vertical-align: top;\n",
       "    }\n",
       "</style>\n",
       "<table border=\"1\" class=\"dataframe\">\n",
       "  <thead>\n",
       "    <tr style=\"text-align: right;\">\n",
       "      <th></th>\n",
       "      <th>name</th>\n",
       "      <th>location</th>\n",
       "      <th>created_at</th>\n",
       "      <th>friends_count</th>\n",
       "      <th>followers_count</th>\n",
       "      <th>statuses_count</th>\n",
       "      <th>favourites_count</th>\n",
       "    </tr>\n",
       "    <tr>\n",
       "      <th>screen_name</th>\n",
       "      <th></th>\n",
       "      <th></th>\n",
       "      <th></th>\n",
       "      <th></th>\n",
       "      <th></th>\n",
       "      <th></th>\n",
       "      <th></th>\n",
       "    </tr>\n",
       "  </thead>\n",
       "  <tbody>\n",
       "    <tr>\n",
       "      <th>realDonaldTrump</th>\n",
       "      <td>NaN</td>\n",
       "      <td>NaN</td>\n",
       "      <td>NaN</td>\n",
       "      <td>NaN</td>\n",
       "      <td>NaN</td>\n",
       "      <td>NaN</td>\n",
       "      <td>NaN</td>\n",
       "    </tr>\n",
       "    <tr>\n",
       "      <th>Trump</th>\n",
       "      <td>NaN</td>\n",
       "      <td>NaN</td>\n",
       "      <td>NaN</td>\n",
       "      <td>NaN</td>\n",
       "      <td>NaN</td>\n",
       "      <td>NaN</td>\n",
       "      <td>NaN</td>\n",
       "    </tr>\n",
       "    <tr>\n",
       "      <th>TrumpGolf</th>\n",
       "      <td>NaN</td>\n",
       "      <td>NaN</td>\n",
       "      <td>NaN</td>\n",
       "      <td>NaN</td>\n",
       "      <td>NaN</td>\n",
       "      <td>NaN</td>\n",
       "      <td>NaN</td>\n",
       "    </tr>\n",
       "    <tr>\n",
       "      <th>TiffanyATrump</th>\n",
       "      <td>NaN</td>\n",
       "      <td>NaN</td>\n",
       "      <td>NaN</td>\n",
       "      <td>NaN</td>\n",
       "      <td>NaN</td>\n",
       "      <td>NaN</td>\n",
       "      <td>NaN</td>\n",
       "    </tr>\n",
       "    <tr>\n",
       "      <th>IngrahamAngle</th>\n",
       "      <td>Laura Ingraham</td>\n",
       "      <td>DC</td>\n",
       "      <td>Thu Jun 25 21:03:25 +0000 2009</td>\n",
       "      <td>289.0</td>\n",
       "      <td>851876.0</td>\n",
       "      <td>26523.0</td>\n",
       "      <td>71.0</td>\n",
       "    </tr>\n",
       "    <tr>\n",
       "      <th>mike_pence</th>\n",
       "      <td>Mike Pence</td>\n",
       "      <td>NaN</td>\n",
       "      <td>Fri Feb 27 23:04:51 +0000 2009</td>\n",
       "      <td>1208.0</td>\n",
       "      <td>207552.0</td>\n",
       "      <td>4572.0</td>\n",
       "      <td>746.0</td>\n",
       "    </tr>\n",
       "    <tr>\n",
       "      <th>TeamTrump</th>\n",
       "      <td>NaN</td>\n",
       "      <td>NaN</td>\n",
       "      <td>NaN</td>\n",
       "      <td>NaN</td>\n",
       "      <td>NaN</td>\n",
       "      <td>NaN</td>\n",
       "      <td>NaN</td>\n",
       "    </tr>\n",
       "    <tr>\n",
       "      <th>DRUDGE_REPORT</th>\n",
       "      <td>NaN</td>\n",
       "      <td>NaN</td>\n",
       "      <td>NaN</td>\n",
       "      <td>NaN</td>\n",
       "      <td>NaN</td>\n",
       "      <td>NaN</td>\n",
       "      <td>NaN</td>\n",
       "    </tr>\n",
       "  </tbody>\n",
       "</table>\n",
       "</div>"
      ],
      "text/plain": [
       "                           name location                      created_at  \\\n",
       "screen_name                                                                \n",
       "realDonaldTrump             NaN      NaN                             NaN   \n",
       "Trump                       NaN      NaN                             NaN   \n",
       "TrumpGolf                   NaN      NaN                             NaN   \n",
       "TiffanyATrump               NaN      NaN                             NaN   \n",
       "IngrahamAngle    Laura Ingraham       DC  Thu Jun 25 21:03:25 +0000 2009   \n",
       "mike_pence           Mike Pence      NaN  Fri Feb 27 23:04:51 +0000 2009   \n",
       "TeamTrump                   NaN      NaN                             NaN   \n",
       "DRUDGE_REPORT               NaN      NaN                             NaN   \n",
       "\n",
       "                 friends_count  followers_count  statuses_count  \\\n",
       "screen_name                                                       \n",
       "realDonaldTrump            NaN              NaN             NaN   \n",
       "Trump                      NaN              NaN             NaN   \n",
       "TrumpGolf                  NaN              NaN             NaN   \n",
       "TiffanyATrump              NaN              NaN             NaN   \n",
       "IngrahamAngle            289.0         851876.0         26523.0   \n",
       "mike_pence              1208.0         207552.0          4572.0   \n",
       "TeamTrump                  NaN              NaN             NaN   \n",
       "DRUDGE_REPORT              NaN              NaN             NaN   \n",
       "\n",
       "                 favourites_count  \n",
       "screen_name                        \n",
       "realDonaldTrump               NaN  \n",
       "Trump                         NaN  \n",
       "TrumpGolf                     NaN  \n",
       "TiffanyATrump                 NaN  \n",
       "IngrahamAngle                71.0  \n",
       "mike_pence                  746.0  \n",
       "TeamTrump                     NaN  \n",
       "DRUDGE_REPORT                 NaN  "
      ]
     },
     "execution_count": 350,
     "metadata": {},
     "output_type": "execute_result"
    }
   ],
   "source": [
    "user.where(user[\"friends_count\"] > 200).head(8)"
   ]
  },
  {
   "cell_type": "markdown",
   "metadata": {},
   "source": [
    "Of course, you can find the target value by iterating all values and print the target ones."
   ]
  },
  {
   "cell_type": "code",
   "execution_count": 367,
   "metadata": {},
   "outputs": [
    {
     "data": {
      "text/plain": [
       "['Sean Hannity',\n",
       " 'NY Daily Quote',\n",
       " 'HuffPost Celebrity',\n",
       " 'Elise Jordan',\n",
       " 'Dorsey Shaw',\n",
       " 'Richard Bradley',\n",
       " 'Frank Rich',\n",
       " 'Trish Regan',\n",
       " 'Hailey Clauson',\n",
       " 'S. Winston Wolkoff']"
      ]
     },
     "execution_count": 367,
     "metadata": {},
     "output_type": "execute_result"
    }
   ],
   "source": [
    "newYorker = [user.iloc[i][\"name\"] for i in range(len(user)) \n",
    "                                  if user.iloc[i][\"location\"] == \"NYC\"]\n",
    "newYorker[:10]"
   ]
  },
  {
   "cell_type": "markdown",
   "metadata": {},
   "source": [
    "### Apply"
   ]
  },
  {
   "cell_type": "markdown",
   "metadata": {},
   "source": [
    "Once we have defined a method, we can apply to it the whole dataFrame or specific rows or columns. The `apply()` will return a Series. It will be useful in separate concerns.\n",
    "\n",
    "For example, we are running a restaurant and want to add a stable to our menu. If the dish contains 'tofu', the stable will be 'rice'. If the dish contains 'beef', the side will be 'pasta'. Otherwise, it would be 'noodles'."
   ]
  },
  {
   "cell_type": "code",
   "execution_count": 371,
   "metadata": {
    "collapsed": true
   },
   "outputs": [],
   "source": [
    "def add_side(components):\n",
    "    if \"tofu\" in components:\n",
    "        components.append(\"rice\")\n",
    "    elif \"beef\" in components:\n",
    "        components.append(\"pasta\")\n",
    "    else:\n",
    "        components.append(\"noodles\")\n",
    "    return components"
   ]
  },
  {
   "cell_type": "code",
   "execution_count": 372,
   "metadata": {},
   "outputs": [],
   "source": [
    "menu = pd.DataFrame({\"dish\": [1,2,3,4,5],\n",
    "              \"components\": [[\"tofu\", \"lettuce\", \"onion\"],\n",
    "                            [\"tofu\", \"brocolli\", \"corrot\"],\n",
    "                            [\"beef\", \"brocolli\", \"egg\"],\n",
    "                            [\"fish\", \"lettuce\", \"black beans\"],\n",
    "                            [\"beef\", \"kale\", \"onion\"]]})"
   ]
  },
  {
   "cell_type": "code",
   "execution_count": 375,
   "metadata": {},
   "outputs": [
    {
     "data": {
      "text/plain": [
       "0             [tofu, lettuce, onion, rice]\n",
       "1           [tofu, brocolli, corrot, rice]\n",
       "2             [beef, brocolli, egg, pasta]\n",
       "3    [fish, lettuce, black beans, noodles]\n",
       "4               [beef, kale, onion, pasta]\n",
       "Name: components, dtype: object"
      ]
     },
     "execution_count": 375,
     "metadata": {},
     "output_type": "execute_result"
    }
   ],
   "source": [
    "menu[\"components\"].apply(add_side)"
   ]
  },
  {
   "cell_type": "markdown",
   "metadata": {},
   "source": [
    "We can also apply some build-in methods, especially in calculation."
   ]
  },
  {
   "cell_type": "code",
   "execution_count": 378,
   "metadata": {},
   "outputs": [
    {
     "data": {
      "text/html": [
       "<div>\n",
       "<style>\n",
       "    .dataframe thead tr:only-child th {\n",
       "        text-align: right;\n",
       "    }\n",
       "\n",
       "    .dataframe thead th {\n",
       "        text-align: left;\n",
       "    }\n",
       "\n",
       "    .dataframe tbody tr th {\n",
       "        vertical-align: top;\n",
       "    }\n",
       "</style>\n",
       "<table border=\"1\" class=\"dataframe\">\n",
       "  <thead>\n",
       "    <tr style=\"text-align: right;\">\n",
       "      <th></th>\n",
       "      <th>name</th>\n",
       "      <th>location</th>\n",
       "      <th>created_at</th>\n",
       "      <th>friends_count</th>\n",
       "      <th>followers_count</th>\n",
       "      <th>statuses_count</th>\n",
       "      <th>favourites_count</th>\n",
       "    </tr>\n",
       "    <tr>\n",
       "      <th>screen_name</th>\n",
       "      <th></th>\n",
       "      <th></th>\n",
       "      <th></th>\n",
       "      <th></th>\n",
       "      <th></th>\n",
       "      <th></th>\n",
       "      <th></th>\n",
       "    </tr>\n",
       "  </thead>\n",
       "  <tbody>\n",
       "    <tr>\n",
       "      <th>realDonaldTrump</th>\n",
       "      <td>Donald J. Trump</td>\n",
       "      <td>New York, NY</td>\n",
       "      <td>Wed Mar 18 13:46:38 +0000 2009</td>\n",
       "      <td>42</td>\n",
       "      <td>11397769</td>\n",
       "      <td>33136</td>\n",
       "      <td>38</td>\n",
       "    </tr>\n",
       "    <tr>\n",
       "      <th>Trump</th>\n",
       "      <td>Trump Organization</td>\n",
       "      <td>New York, NY</td>\n",
       "      <td>Wed Apr 13 16:51:54 +0000 2016</td>\n",
       "      <td>35</td>\n",
       "      <td>9954</td>\n",
       "      <td>43</td>\n",
       "      <td>125</td>\n",
       "    </tr>\n",
       "    <tr>\n",
       "      <th>TrumpGolf</th>\n",
       "      <td>Trump Golf</td>\n",
       "      <td>NaN</td>\n",
       "      <td>Mon Feb 03 13:46:03 +0000 2014</td>\n",
       "      <td>200</td>\n",
       "      <td>8797</td>\n",
       "      <td>758</td>\n",
       "      <td>251</td>\n",
       "    </tr>\n",
       "  </tbody>\n",
       "</table>\n",
       "</div>"
      ],
      "text/plain": [
       "                               name      location  \\\n",
       "screen_name                                         \n",
       "realDonaldTrump     Donald J. Trump  New York, NY   \n",
       "Trump            Trump Organization  New York, NY   \n",
       "TrumpGolf                Trump Golf           NaN   \n",
       "\n",
       "                                     created_at  friends_count  \\\n",
       "screen_name                                                      \n",
       "realDonaldTrump  Wed Mar 18 13:46:38 +0000 2009             42   \n",
       "Trump            Wed Apr 13 16:51:54 +0000 2016             35   \n",
       "TrumpGolf        Mon Feb 03 13:46:03 +0000 2014            200   \n",
       "\n",
       "                 followers_count  statuses_count  favourites_count  \n",
       "screen_name                                                         \n",
       "realDonaldTrump         11397769           33136                38  \n",
       "Trump                       9954              43               125  \n",
       "TrumpGolf                   8797             758               251  "
      ]
     },
     "execution_count": 378,
     "metadata": {},
     "output_type": "execute_result"
    }
   ],
   "source": [
    "user.head(3)"
   ]
  },
  {
   "cell_type": "code",
   "execution_count": 396,
   "metadata": {},
   "outputs": [
    {
     "data": {
      "text/html": [
       "<div>\n",
       "<style>\n",
       "    .dataframe thead tr:only-child th {\n",
       "        text-align: right;\n",
       "    }\n",
       "\n",
       "    .dataframe thead th {\n",
       "        text-align: left;\n",
       "    }\n",
       "\n",
       "    .dataframe tbody tr th {\n",
       "        vertical-align: top;\n",
       "    }\n",
       "</style>\n",
       "<table border=\"1\" class=\"dataframe\">\n",
       "  <thead>\n",
       "    <tr style=\"text-align: right;\">\n",
       "      <th></th>\n",
       "      <th>name</th>\n",
       "      <th>location</th>\n",
       "      <th>created_at</th>\n",
       "      <th>friends_count</th>\n",
       "      <th>followers_count</th>\n",
       "      <th>statuses_count</th>\n",
       "      <th>favourites_count</th>\n",
       "    </tr>\n",
       "    <tr>\n",
       "      <th>screen_name</th>\n",
       "      <th></th>\n",
       "      <th></th>\n",
       "      <th></th>\n",
       "      <th></th>\n",
       "      <th></th>\n",
       "      <th></th>\n",
       "      <th></th>\n",
       "    </tr>\n",
       "  </thead>\n",
       "  <tbody>\n",
       "    <tr>\n",
       "      <th>realDonaldTrump</th>\n",
       "      <td>Donald J. Trump</td>\n",
       "      <td>New York, NY</td>\n",
       "      <td>Wed Mar 18 13:46:38 +0000 2009</td>\n",
       "      <td>42</td>\n",
       "      <td>11397769</td>\n",
       "      <td>33136</td>\n",
       "      <td>2.748779e+11</td>\n",
       "    </tr>\n",
       "    <tr>\n",
       "      <th>Trump</th>\n",
       "      <td>Trump Organization</td>\n",
       "      <td>New York, NY</td>\n",
       "      <td>Wed Apr 13 16:51:54 +0000 2016</td>\n",
       "      <td>35</td>\n",
       "      <td>9954</td>\n",
       "      <td>43</td>\n",
       "      <td>4.253530e+37</td>\n",
       "    </tr>\n",
       "    <tr>\n",
       "      <th>TrumpGolf</th>\n",
       "      <td>Trump Golf</td>\n",
       "      <td>NaN</td>\n",
       "      <td>Mon Feb 03 13:46:03 +0000 2014</td>\n",
       "      <td>200</td>\n",
       "      <td>8797</td>\n",
       "      <td>758</td>\n",
       "      <td>3.618503e+75</td>\n",
       "    </tr>\n",
       "  </tbody>\n",
       "</table>\n",
       "</div>"
      ],
      "text/plain": [
       "                               name      location  \\\n",
       "screen_name                                         \n",
       "realDonaldTrump     Donald J. Trump  New York, NY   \n",
       "Trump            Trump Organization  New York, NY   \n",
       "TrumpGolf                Trump Golf           NaN   \n",
       "\n",
       "                                     created_at  friends_count  \\\n",
       "screen_name                                                      \n",
       "realDonaldTrump  Wed Mar 18 13:46:38 +0000 2009             42   \n",
       "Trump            Wed Apr 13 16:51:54 +0000 2016             35   \n",
       "TrumpGolf        Mon Feb 03 13:46:03 +0000 2014            200   \n",
       "\n",
       "                 followers_count  statuses_count  favourites_count  \n",
       "screen_name                                                         \n",
       "realDonaldTrump         11397769           33136      2.748779e+11  \n",
       "Trump                       9954              43      4.253530e+37  \n",
       "TrumpGolf                   8797             758      3.618503e+75  "
      ]
     },
     "execution_count": 396,
     "metadata": {},
     "output_type": "execute_result"
    }
   ],
   "source": [
    "user[\"favourites_count\"] = user[\"favourites_count\"].apply(np.exp2)\n",
    "user.head(3)"
   ]
  },
  {
   "cell_type": "markdown",
   "metadata": {},
   "source": [
    "### Delete"
   ]
  },
  {
   "cell_type": "markdown",
   "metadata": {},
   "source": [
    "`drop()` and `dropna()` method are two basic methods in `pandas.DataFrame` to remove the target rows or columns."
   ]
  },
  {
   "cell_type": "code",
   "execution_count": 406,
   "metadata": {},
   "outputs": [
    {
     "data": {
      "text/html": [
       "<div>\n",
       "<style>\n",
       "    .dataframe thead tr:only-child th {\n",
       "        text-align: right;\n",
       "    }\n",
       "\n",
       "    .dataframe thead th {\n",
       "        text-align: left;\n",
       "    }\n",
       "\n",
       "    .dataframe tbody tr th {\n",
       "        vertical-align: top;\n",
       "    }\n",
       "</style>\n",
       "<table border=\"1\" class=\"dataframe\">\n",
       "  <thead>\n",
       "    <tr style=\"text-align: right;\">\n",
       "      <th></th>\n",
       "      <th>corn</th>\n",
       "      <th>remark</th>\n",
       "      <th>stable</th>\n",
       "      <th>vegetable</th>\n",
       "    </tr>\n",
       "  </thead>\n",
       "  <tbody>\n",
       "    <tr>\n",
       "      <th>0</th>\n",
       "      <td>beef</td>\n",
       "      <td>sold out</td>\n",
       "      <td>rice</td>\n",
       "      <td>lettuce</td>\n",
       "    </tr>\n",
       "    <tr>\n",
       "      <th>1</th>\n",
       "      <td>tofu</td>\n",
       "      <td>sold out</td>\n",
       "      <td>pasta</td>\n",
       "      <td>brocolli</td>\n",
       "    </tr>\n",
       "    <tr>\n",
       "      <th>2</th>\n",
       "      <td>fish</td>\n",
       "      <td>None</td>\n",
       "      <td>soba</td>\n",
       "      <td>carrot</td>\n",
       "    </tr>\n",
       "  </tbody>\n",
       "</table>\n",
       "</div>"
      ],
      "text/plain": [
       "   corn    remark stable vegetable\n",
       "0  beef  sold out   rice   lettuce\n",
       "1  tofu  sold out  pasta  brocolli\n",
       "2  fish      None   soba    carrot"
      ]
     },
     "execution_count": 406,
     "metadata": {},
     "output_type": "execute_result"
    }
   ],
   "source": [
    "ex4 = pd.DataFrame({\"vegetable\": [\"lettuce\", \"brocolli\", \"carrot\"],\n",
    "                   \"corn\": [\"beef\", \"tofu\", \"fish\"],\n",
    "                   \"stable\": [\"rice\", \"pasta\", \"soba\"],\n",
    "                   \"remark\": [\"sold out\",\"sold out\", None]})\n",
    "ex4"
   ]
  },
  {
   "cell_type": "markdown",
   "metadata": {},
   "source": [
    "drop the colomn that has 'nan'. `axis = 1` means column. Default `axis = 0` means row."
   ]
  },
  {
   "cell_type": "code",
   "execution_count": 408,
   "metadata": {},
   "outputs": [
    {
     "data": {
      "text/html": [
       "<div>\n",
       "<style>\n",
       "    .dataframe thead tr:only-child th {\n",
       "        text-align: right;\n",
       "    }\n",
       "\n",
       "    .dataframe thead th {\n",
       "        text-align: left;\n",
       "    }\n",
       "\n",
       "    .dataframe tbody tr th {\n",
       "        vertical-align: top;\n",
       "    }\n",
       "</style>\n",
       "<table border=\"1\" class=\"dataframe\">\n",
       "  <thead>\n",
       "    <tr style=\"text-align: right;\">\n",
       "      <th></th>\n",
       "      <th>corn</th>\n",
       "      <th>stable</th>\n",
       "      <th>vegetable</th>\n",
       "    </tr>\n",
       "  </thead>\n",
       "  <tbody>\n",
       "    <tr>\n",
       "      <th>0</th>\n",
       "      <td>beef</td>\n",
       "      <td>rice</td>\n",
       "      <td>lettuce</td>\n",
       "    </tr>\n",
       "    <tr>\n",
       "      <th>1</th>\n",
       "      <td>tofu</td>\n",
       "      <td>pasta</td>\n",
       "      <td>brocolli</td>\n",
       "    </tr>\n",
       "    <tr>\n",
       "      <th>2</th>\n",
       "      <td>fish</td>\n",
       "      <td>soba</td>\n",
       "      <td>carrot</td>\n",
       "    </tr>\n",
       "  </tbody>\n",
       "</table>\n",
       "</div>"
      ],
      "text/plain": [
       "   corn stable vegetable\n",
       "0  beef   rice   lettuce\n",
       "1  tofu  pasta  brocolli\n",
       "2  fish   soba    carrot"
      ]
     },
     "execution_count": 408,
     "metadata": {},
     "output_type": "execute_result"
    }
   ],
   "source": [
    "ex4.dropna(axis = 1)"
   ]
  },
  {
   "cell_type": "code",
   "execution_count": 410,
   "metadata": {},
   "outputs": [
    {
     "data": {
      "text/html": [
       "<div>\n",
       "<style>\n",
       "    .dataframe thead tr:only-child th {\n",
       "        text-align: right;\n",
       "    }\n",
       "\n",
       "    .dataframe thead th {\n",
       "        text-align: left;\n",
       "    }\n",
       "\n",
       "    .dataframe tbody tr th {\n",
       "        vertical-align: top;\n",
       "    }\n",
       "</style>\n",
       "<table border=\"1\" class=\"dataframe\">\n",
       "  <thead>\n",
       "    <tr style=\"text-align: right;\">\n",
       "      <th></th>\n",
       "      <th>remark</th>\n",
       "      <th>stable</th>\n",
       "      <th>vegetable</th>\n",
       "    </tr>\n",
       "  </thead>\n",
       "  <tbody>\n",
       "    <tr>\n",
       "      <th>0</th>\n",
       "      <td>sold out</td>\n",
       "      <td>rice</td>\n",
       "      <td>lettuce</td>\n",
       "    </tr>\n",
       "    <tr>\n",
       "      <th>1</th>\n",
       "      <td>sold out</td>\n",
       "      <td>pasta</td>\n",
       "      <td>brocolli</td>\n",
       "    </tr>\n",
       "    <tr>\n",
       "      <th>2</th>\n",
       "      <td>None</td>\n",
       "      <td>soba</td>\n",
       "      <td>carrot</td>\n",
       "    </tr>\n",
       "  </tbody>\n",
       "</table>\n",
       "</div>"
      ],
      "text/plain": [
       "     remark stable vegetable\n",
       "0  sold out   rice   lettuce\n",
       "1  sold out  pasta  brocolli\n",
       "2      None   soba    carrot"
      ]
     },
     "execution_count": 410,
     "metadata": {},
     "output_type": "execute_result"
    }
   ],
   "source": [
    "# drop the column\n",
    "ex4.drop(\"corn\", axis = 1)"
   ]
  },
  {
   "cell_type": "code",
   "execution_count": 411,
   "metadata": {},
   "outputs": [
    {
     "data": {
      "text/html": [
       "<div>\n",
       "<style>\n",
       "    .dataframe thead tr:only-child th {\n",
       "        text-align: right;\n",
       "    }\n",
       "\n",
       "    .dataframe thead th {\n",
       "        text-align: left;\n",
       "    }\n",
       "\n",
       "    .dataframe tbody tr th {\n",
       "        vertical-align: top;\n",
       "    }\n",
       "</style>\n",
       "<table border=\"1\" class=\"dataframe\">\n",
       "  <thead>\n",
       "    <tr style=\"text-align: right;\">\n",
       "      <th></th>\n",
       "      <th>corn</th>\n",
       "      <th>remark</th>\n",
       "      <th>stable</th>\n",
       "      <th>vegetable</th>\n",
       "    </tr>\n",
       "  </thead>\n",
       "  <tbody>\n",
       "    <tr>\n",
       "      <th>0</th>\n",
       "      <td>beef</td>\n",
       "      <td>sold out</td>\n",
       "      <td>rice</td>\n",
       "      <td>lettuce</td>\n",
       "    </tr>\n",
       "  </tbody>\n",
       "</table>\n",
       "</div>"
      ],
      "text/plain": [
       "   corn    remark stable vegetable\n",
       "0  beef  sold out   rice   lettuce"
      ]
     },
     "execution_count": 411,
     "metadata": {},
     "output_type": "execute_result"
    }
   ],
   "source": [
    "# drop rows\n",
    "ex4.drop([1,2])"
   ]
  },
  {
   "cell_type": "code",
   "execution_count": 424,
   "metadata": {},
   "outputs": [
    {
     "data": {
      "text/html": [
       "<div>\n",
       "<style>\n",
       "    .dataframe thead tr:only-child th {\n",
       "        text-align: right;\n",
       "    }\n",
       "\n",
       "    .dataframe thead th {\n",
       "        text-align: left;\n",
       "    }\n",
       "\n",
       "    .dataframe tbody tr th {\n",
       "        vertical-align: top;\n",
       "    }\n",
       "</style>\n",
       "<table border=\"1\" class=\"dataframe\">\n",
       "  <thead>\n",
       "    <tr style=\"text-align: right;\">\n",
       "      <th></th>\n",
       "      <th>corn</th>\n",
       "      <th>remark</th>\n",
       "      <th>stable</th>\n",
       "      <th>vegetable</th>\n",
       "    </tr>\n",
       "  </thead>\n",
       "  <tbody>\n",
       "    <tr>\n",
       "      <th>0</th>\n",
       "      <td>beef</td>\n",
       "      <td>sold out</td>\n",
       "      <td>rice</td>\n",
       "      <td>lettuce</td>\n",
       "    </tr>\n",
       "    <tr>\n",
       "      <th>1</th>\n",
       "      <td>tofu</td>\n",
       "      <td>sold out</td>\n",
       "      <td>pasta</td>\n",
       "      <td>brocolli</td>\n",
       "    </tr>\n",
       "  </tbody>\n",
       "</table>\n",
       "</div>"
      ],
      "text/plain": [
       "   corn    remark stable vegetable\n",
       "0  beef  sold out   rice   lettuce\n",
       "1  tofu  sold out  pasta  brocolli"
      ]
     },
     "execution_count": 424,
     "metadata": {},
     "output_type": "execute_result"
    }
   ],
   "source": [
    "# drop one row with row number index\n",
    "ex4.drop(ex4.index[-1])"
   ]
  },
  {
   "cell_type": "markdown",
   "metadata": {},
   "source": [
    "Another way to delete rows and columns is to create a new dataFrame and copy all the matching rows and columns."
   ]
  },
  {
   "cell_type": "code",
   "execution_count": 425,
   "metadata": {},
   "outputs": [
    {
     "data": {
      "text/html": [
       "<div>\n",
       "<style>\n",
       "    .dataframe thead tr:only-child th {\n",
       "        text-align: right;\n",
       "    }\n",
       "\n",
       "    .dataframe thead th {\n",
       "        text-align: left;\n",
       "    }\n",
       "\n",
       "    .dataframe tbody tr th {\n",
       "        vertical-align: top;\n",
       "    }\n",
       "</style>\n",
       "<table border=\"1\" class=\"dataframe\">\n",
       "  <thead>\n",
       "    <tr style=\"text-align: right;\">\n",
       "      <th></th>\n",
       "      <th>corn</th>\n",
       "      <th>remark</th>\n",
       "      <th>stable</th>\n",
       "      <th>vegetable</th>\n",
       "    </tr>\n",
       "  </thead>\n",
       "  <tbody>\n",
       "    <tr>\n",
       "      <th>1</th>\n",
       "      <td>tofu</td>\n",
       "      <td>sold out</td>\n",
       "      <td>pasta</td>\n",
       "      <td>brocolli</td>\n",
       "    </tr>\n",
       "    <tr>\n",
       "      <th>2</th>\n",
       "      <td>fish</td>\n",
       "      <td>None</td>\n",
       "      <td>soba</td>\n",
       "      <td>carrot</td>\n",
       "    </tr>\n",
       "  </tbody>\n",
       "</table>\n",
       "</div>"
      ],
      "text/plain": [
       "   corn    remark stable vegetable\n",
       "1  tofu  sold out  pasta  brocolli\n",
       "2  fish      None   soba    carrot"
      ]
     },
     "execution_count": 425,
     "metadata": {},
     "output_type": "execute_result"
    }
   ],
   "source": [
    "ex4[ex4[\"corn\"] != \"beef\"]"
   ]
  },
  {
   "cell_type": "code",
   "execution_count": 426,
   "metadata": {},
   "outputs": [
    {
     "data": {
      "text/html": [
       "<div>\n",
       "<style>\n",
       "    .dataframe thead tr:only-child th {\n",
       "        text-align: right;\n",
       "    }\n",
       "\n",
       "    .dataframe thead th {\n",
       "        text-align: left;\n",
       "    }\n",
       "\n",
       "    .dataframe tbody tr th {\n",
       "        vertical-align: top;\n",
       "    }\n",
       "</style>\n",
       "<table border=\"1\" class=\"dataframe\">\n",
       "  <thead>\n",
       "    <tr style=\"text-align: right;\">\n",
       "      <th></th>\n",
       "      <th>corn</th>\n",
       "      <th>remark</th>\n",
       "      <th>stable</th>\n",
       "      <th>vegetable</th>\n",
       "    </tr>\n",
       "  </thead>\n",
       "  <tbody>\n",
       "    <tr>\n",
       "      <th>0</th>\n",
       "      <td>beef</td>\n",
       "      <td>sold out</td>\n",
       "      <td>rice</td>\n",
       "      <td>lettuce</td>\n",
       "    </tr>\n",
       "  </tbody>\n",
       "</table>\n",
       "</div>"
      ],
      "text/plain": [
       "   corn    remark stable vegetable\n",
       "0  beef  sold out   rice   lettuce"
      ]
     },
     "execution_count": 426,
     "metadata": {},
     "output_type": "execute_result"
    }
   ],
   "source": [
    "ex4[:-2]"
   ]
  },
  {
   "cell_type": "markdown",
   "metadata": {},
   "source": [
    "## GroupBy"
   ]
  },
  {
   "cell_type": "markdown",
   "metadata": {},
   "source": [
    "The `DataFrameGroupBy` object in pandas is a very handy tool in data processing. Although it comes from the `pandas.DataFrame.groupby()` method, it is quite different from `DataFrame` object. They do not share many the methods."
   ]
  },
  {
   "cell_type": "code",
   "execution_count": 495,
   "metadata": {},
   "outputs": [
    {
     "data": {
      "text/html": [
       "<div>\n",
       "<style>\n",
       "    .dataframe thead tr:only-child th {\n",
       "        text-align: right;\n",
       "    }\n",
       "\n",
       "    .dataframe thead th {\n",
       "        text-align: left;\n",
       "    }\n",
       "\n",
       "    .dataframe tbody tr th {\n",
       "        vertical-align: top;\n",
       "    }\n",
       "</style>\n",
       "<table border=\"1\" class=\"dataframe\">\n",
       "  <thead>\n",
       "    <tr style=\"text-align: right;\">\n",
       "      <th></th>\n",
       "      <th>corn</th>\n",
       "      <th>price</th>\n",
       "      <th>sold</th>\n",
       "      <th>stable</th>\n",
       "      <th>vegetable</th>\n",
       "    </tr>\n",
       "  </thead>\n",
       "  <tbody>\n",
       "    <tr>\n",
       "      <th>0</th>\n",
       "      <td>beef</td>\n",
       "      <td>10</td>\n",
       "      <td>4</td>\n",
       "      <td>rice</td>\n",
       "      <td>lettuce</td>\n",
       "    </tr>\n",
       "    <tr>\n",
       "      <th>1</th>\n",
       "      <td>beef</td>\n",
       "      <td>20</td>\n",
       "      <td>5</td>\n",
       "      <td>rice</td>\n",
       "      <td>brocolli</td>\n",
       "    </tr>\n",
       "    <tr>\n",
       "      <th>2</th>\n",
       "      <td>beef</td>\n",
       "      <td>15</td>\n",
       "      <td>6</td>\n",
       "      <td>pasta</td>\n",
       "      <td>brocolli</td>\n",
       "    </tr>\n",
       "    <tr>\n",
       "      <th>3</th>\n",
       "      <td>tofu</td>\n",
       "      <td>15</td>\n",
       "      <td>9</td>\n",
       "      <td>pasta</td>\n",
       "      <td>carrot</td>\n",
       "    </tr>\n",
       "    <tr>\n",
       "      <th>4</th>\n",
       "      <td>fish</td>\n",
       "      <td>14</td>\n",
       "      <td>4</td>\n",
       "      <td>soba</td>\n",
       "      <td>brocolli</td>\n",
       "    </tr>\n",
       "    <tr>\n",
       "      <th>5</th>\n",
       "      <td>fish</td>\n",
       "      <td>17</td>\n",
       "      <td>6</td>\n",
       "      <td>soba</td>\n",
       "      <td>carrot</td>\n",
       "    </tr>\n",
       "  </tbody>\n",
       "</table>\n",
       "</div>"
      ],
      "text/plain": [
       "   corn  price  sold stable vegetable\n",
       "0  beef     10     4   rice   lettuce\n",
       "1  beef     20     5   rice  brocolli\n",
       "2  beef     15     6  pasta  brocolli\n",
       "3  tofu     15     9  pasta    carrot\n",
       "4  fish     14     4   soba  brocolli\n",
       "5  fish     17     6   soba    carrot"
      ]
     },
     "execution_count": 495,
     "metadata": {},
     "output_type": "execute_result"
    }
   ],
   "source": [
    "ex5 = pd.DataFrame({\"vegetable\": [\"lettuce\",\"brocolli\",\"brocolli\",\"carrot\",\"brocolli\",\"carrot\"],\n",
    "                   \"corn\": [\"beef\",\"beef\",\"beef\",\"tofu\",\"fish\",\"fish\"],\n",
    "                   \"stable\": [\"rice\",\"rice\",\"pasta\",\"pasta\",\"soba\",\"soba\"],\n",
    "                   \"price\":[10,20,15,15,14,17],\n",
    "                   \"sold\":[4,5,6,9,4,6]})\n",
    "ex5"
   ]
  },
  {
   "cell_type": "markdown",
   "metadata": {},
   "source": [
    "### Group by one column"
   ]
  },
  {
   "cell_type": "code",
   "execution_count": 496,
   "metadata": {},
   "outputs": [],
   "source": [
    "corn = ex5.groupby(\"corn\")"
   ]
  },
  {
   "cell_type": "markdown",
   "metadata": {},
   "source": [
    "We can call `len()` on the GroupBy object 'corn' and see how many groups have been categorized."
   ]
  },
  {
   "cell_type": "code",
   "execution_count": 497,
   "metadata": {},
   "outputs": [
    {
     "data": {
      "text/plain": [
       "3"
      ]
     },
     "execution_count": 497,
     "metadata": {},
     "output_type": "execute_result"
    }
   ],
   "source": [
    "len(corn)"
   ]
  },
  {
   "cell_type": "markdown",
   "metadata": {},
   "source": [
    "The `groups` attribute will return as a dictionary of row number index which falls in that category. For example, the row index 0 and 1 belong to the \"beef\" group. It can be stored as a way to access a specific group of data."
   ]
  },
  {
   "cell_type": "code",
   "execution_count": 498,
   "metadata": {},
   "outputs": [
    {
     "data": {
      "text/plain": [
       "{'beef': Int64Index([0, 1, 2], dtype='int64'),\n",
       " 'fish': Int64Index([4, 5], dtype='int64'),\n",
       " 'tofu': Int64Index([3], dtype='int64')}"
      ]
     },
     "execution_count": 498,
     "metadata": {},
     "output_type": "execute_result"
    }
   ],
   "source": [
    "corn.groups"
   ]
  },
  {
   "cell_type": "markdown",
   "metadata": {},
   "source": [
    "Then we can use `size()` to see how many rows are categorized to \"corn\". It performs as `count` in SQL command line. And it will return in an aggregated format."
   ]
  },
  {
   "cell_type": "code",
   "execution_count": 499,
   "metadata": {},
   "outputs": [
    {
     "data": {
      "text/plain": [
       "corn\n",
       "beef    3\n",
       "fish    2\n",
       "tofu    1\n",
       "dtype: int64"
      ]
     },
     "execution_count": 499,
     "metadata": {},
     "output_type": "execute_result"
    }
   ],
   "source": [
    "corn.size()"
   ]
  },
  {
   "cell_type": "markdown",
   "metadata": {},
   "source": [
    "The `count()` method can give the same result as `size()`."
   ]
  },
  {
   "cell_type": "code",
   "execution_count": 529,
   "metadata": {},
   "outputs": [
    {
     "data": {
      "text/html": [
       "<div>\n",
       "<style>\n",
       "    .dataframe thead tr:only-child th {\n",
       "        text-align: right;\n",
       "    }\n",
       "\n",
       "    .dataframe thead th {\n",
       "        text-align: left;\n",
       "    }\n",
       "\n",
       "    .dataframe tbody tr th {\n",
       "        vertical-align: top;\n",
       "    }\n",
       "</style>\n",
       "<table border=\"1\" class=\"dataframe\">\n",
       "  <thead>\n",
       "    <tr style=\"text-align: right;\">\n",
       "      <th></th>\n",
       "      <th>price</th>\n",
       "      <th>sold</th>\n",
       "      <th>stable</th>\n",
       "      <th>vegetable</th>\n",
       "    </tr>\n",
       "    <tr>\n",
       "      <th>corn</th>\n",
       "      <th></th>\n",
       "      <th></th>\n",
       "      <th></th>\n",
       "      <th></th>\n",
       "    </tr>\n",
       "  </thead>\n",
       "  <tbody>\n",
       "    <tr>\n",
       "      <th>beef</th>\n",
       "      <td>3</td>\n",
       "      <td>3</td>\n",
       "      <td>3</td>\n",
       "      <td>3</td>\n",
       "    </tr>\n",
       "    <tr>\n",
       "      <th>fish</th>\n",
       "      <td>2</td>\n",
       "      <td>2</td>\n",
       "      <td>2</td>\n",
       "      <td>2</td>\n",
       "    </tr>\n",
       "    <tr>\n",
       "      <th>tofu</th>\n",
       "      <td>1</td>\n",
       "      <td>1</td>\n",
       "      <td>1</td>\n",
       "      <td>1</td>\n",
       "    </tr>\n",
       "  </tbody>\n",
       "</table>\n",
       "</div>"
      ],
      "text/plain": [
       "      price  sold  stable  vegetable\n",
       "corn                                \n",
       "beef      3     3       3          3\n",
       "fish      2     2       2          2\n",
       "tofu      1     1       1          1"
      ]
     },
     "execution_count": 529,
     "metadata": {},
     "output_type": "execute_result"
    }
   ],
   "source": [
    "corn.count()"
   ]
  },
  {
   "cell_type": "markdown",
   "metadata": {},
   "source": [
    "It will return as a Series. We can also extract all the unique sector in this way."
   ]
  },
  {
   "cell_type": "code",
   "execution_count": 500,
   "metadata": {},
   "outputs": [
    {
     "data": {
      "text/plain": [
       "array(['beef', 'fish', 'tofu'], dtype=object)"
      ]
     },
     "execution_count": 500,
     "metadata": {},
     "output_type": "execute_result"
    }
   ],
   "source": [
    "corn.size().index.values"
   ]
  },
  {
   "cell_type": "markdown",
   "metadata": {},
   "source": [
    "The `DataFrameGroupBy` object is difficult to show all the values as typical tables in SQL. To peek the values as groups, we can use `first()` or `last()` method and extract the first or the last row in each group. The sector column 'corn' will be the index."
   ]
  },
  {
   "cell_type": "code",
   "execution_count": 501,
   "metadata": {},
   "outputs": [
    {
     "data": {
      "text/html": [
       "<div>\n",
       "<style>\n",
       "    .dataframe thead tr:only-child th {\n",
       "        text-align: right;\n",
       "    }\n",
       "\n",
       "    .dataframe thead th {\n",
       "        text-align: left;\n",
       "    }\n",
       "\n",
       "    .dataframe tbody tr th {\n",
       "        vertical-align: top;\n",
       "    }\n",
       "</style>\n",
       "<table border=\"1\" class=\"dataframe\">\n",
       "  <thead>\n",
       "    <tr style=\"text-align: right;\">\n",
       "      <th></th>\n",
       "      <th>price</th>\n",
       "      <th>sold</th>\n",
       "      <th>stable</th>\n",
       "      <th>vegetable</th>\n",
       "    </tr>\n",
       "    <tr>\n",
       "      <th>corn</th>\n",
       "      <th></th>\n",
       "      <th></th>\n",
       "      <th></th>\n",
       "      <th></th>\n",
       "    </tr>\n",
       "  </thead>\n",
       "  <tbody>\n",
       "    <tr>\n",
       "      <th>beef</th>\n",
       "      <td>10</td>\n",
       "      <td>4</td>\n",
       "      <td>rice</td>\n",
       "      <td>lettuce</td>\n",
       "    </tr>\n",
       "    <tr>\n",
       "      <th>fish</th>\n",
       "      <td>14</td>\n",
       "      <td>4</td>\n",
       "      <td>soba</td>\n",
       "      <td>brocolli</td>\n",
       "    </tr>\n",
       "    <tr>\n",
       "      <th>tofu</th>\n",
       "      <td>15</td>\n",
       "      <td>9</td>\n",
       "      <td>pasta</td>\n",
       "      <td>carrot</td>\n",
       "    </tr>\n",
       "  </tbody>\n",
       "</table>\n",
       "</div>"
      ],
      "text/plain": [
       "      price  sold stable vegetable\n",
       "corn                              \n",
       "beef     10     4   rice   lettuce\n",
       "fish     14     4   soba  brocolli\n",
       "tofu     15     9  pasta    carrot"
      ]
     },
     "execution_count": 501,
     "metadata": {},
     "output_type": "execute_result"
    }
   ],
   "source": [
    "corn.first()"
   ]
  },
  {
   "cell_type": "markdown",
   "metadata": {},
   "source": [
    "Or, we can peek the specific group using `get_group()` method."
   ]
  },
  {
   "cell_type": "code",
   "execution_count": 502,
   "metadata": {},
   "outputs": [
    {
     "data": {
      "text/html": [
       "<div>\n",
       "<style>\n",
       "    .dataframe thead tr:only-child th {\n",
       "        text-align: right;\n",
       "    }\n",
       "\n",
       "    .dataframe thead th {\n",
       "        text-align: left;\n",
       "    }\n",
       "\n",
       "    .dataframe tbody tr th {\n",
       "        vertical-align: top;\n",
       "    }\n",
       "</style>\n",
       "<table border=\"1\" class=\"dataframe\">\n",
       "  <thead>\n",
       "    <tr style=\"text-align: right;\">\n",
       "      <th></th>\n",
       "      <th>price</th>\n",
       "      <th>sold</th>\n",
       "      <th>stable</th>\n",
       "      <th>vegetable</th>\n",
       "    </tr>\n",
       "  </thead>\n",
       "  <tbody>\n",
       "    <tr>\n",
       "      <th>0</th>\n",
       "      <td>10</td>\n",
       "      <td>4</td>\n",
       "      <td>rice</td>\n",
       "      <td>lettuce</td>\n",
       "    </tr>\n",
       "    <tr>\n",
       "      <th>1</th>\n",
       "      <td>20</td>\n",
       "      <td>5</td>\n",
       "      <td>rice</td>\n",
       "      <td>brocolli</td>\n",
       "    </tr>\n",
       "    <tr>\n",
       "      <th>2</th>\n",
       "      <td>15</td>\n",
       "      <td>6</td>\n",
       "      <td>pasta</td>\n",
       "      <td>brocolli</td>\n",
       "    </tr>\n",
       "  </tbody>\n",
       "</table>\n",
       "</div>"
      ],
      "text/plain": [
       "   price  sold stable vegetable\n",
       "0     10     4   rice   lettuce\n",
       "1     20     5   rice  brocolli\n",
       "2     15     6  pasta  brocolli"
      ]
     },
     "execution_count": 502,
     "metadata": {},
     "output_type": "execute_result"
    }
   ],
   "source": [
    "corn.get_group(\"beef\")"
   ]
  },
  {
   "cell_type": "markdown",
   "metadata": {},
   "source": [
    "Now we can perform some operations on each group.\n",
    "\n",
    "The `max()` and `min()` method will return the Series with the max value of the target columns."
   ]
  },
  {
   "cell_type": "code",
   "execution_count": 503,
   "metadata": {},
   "outputs": [
    {
     "data": {
      "text/html": [
       "<div>\n",
       "<style>\n",
       "    .dataframe thead tr:only-child th {\n",
       "        text-align: right;\n",
       "    }\n",
       "\n",
       "    .dataframe thead th {\n",
       "        text-align: left;\n",
       "    }\n",
       "\n",
       "    .dataframe tbody tr th {\n",
       "        vertical-align: top;\n",
       "    }\n",
       "</style>\n",
       "<table border=\"1\" class=\"dataframe\">\n",
       "  <thead>\n",
       "    <tr style=\"text-align: right;\">\n",
       "      <th></th>\n",
       "      <th>price</th>\n",
       "      <th>sold</th>\n",
       "    </tr>\n",
       "    <tr>\n",
       "      <th>corn</th>\n",
       "      <th></th>\n",
       "      <th></th>\n",
       "    </tr>\n",
       "  </thead>\n",
       "  <tbody>\n",
       "    <tr>\n",
       "      <th>beef</th>\n",
       "      <td>20</td>\n",
       "      <td>6</td>\n",
       "    </tr>\n",
       "    <tr>\n",
       "      <th>fish</th>\n",
       "      <td>17</td>\n",
       "      <td>6</td>\n",
       "    </tr>\n",
       "    <tr>\n",
       "      <th>tofu</th>\n",
       "      <td>15</td>\n",
       "      <td>9</td>\n",
       "    </tr>\n",
       "  </tbody>\n",
       "</table>\n",
       "</div>"
      ],
      "text/plain": [
       "      price  sold\n",
       "corn             \n",
       "beef     20     6\n",
       "fish     17     6\n",
       "tofu     15     9"
      ]
     },
     "execution_count": 503,
     "metadata": {},
     "output_type": "execute_result"
    }
   ],
   "source": [
    "corn[\"price\"].max()\n",
    "corn[[\"price\", \"sold\"]].max()"
   ]
  },
  {
   "cell_type": "markdown",
   "metadata": {},
   "source": [
    "You can also call `mean()` or `sum()` methods on the whold object and it will operate automatically on only the numeric values."
   ]
  },
  {
   "cell_type": "code",
   "execution_count": 504,
   "metadata": {},
   "outputs": [
    {
     "data": {
      "text/html": [
       "<div>\n",
       "<style>\n",
       "    .dataframe thead tr:only-child th {\n",
       "        text-align: right;\n",
       "    }\n",
       "\n",
       "    .dataframe thead th {\n",
       "        text-align: left;\n",
       "    }\n",
       "\n",
       "    .dataframe tbody tr th {\n",
       "        vertical-align: top;\n",
       "    }\n",
       "</style>\n",
       "<table border=\"1\" class=\"dataframe\">\n",
       "  <thead>\n",
       "    <tr style=\"text-align: right;\">\n",
       "      <th></th>\n",
       "      <th>price</th>\n",
       "      <th>sold</th>\n",
       "    </tr>\n",
       "    <tr>\n",
       "      <th>corn</th>\n",
       "      <th></th>\n",
       "      <th></th>\n",
       "    </tr>\n",
       "  </thead>\n",
       "  <tbody>\n",
       "    <tr>\n",
       "      <th>beef</th>\n",
       "      <td>15.0</td>\n",
       "      <td>5.0</td>\n",
       "    </tr>\n",
       "    <tr>\n",
       "      <th>fish</th>\n",
       "      <td>15.5</td>\n",
       "      <td>5.0</td>\n",
       "    </tr>\n",
       "    <tr>\n",
       "      <th>tofu</th>\n",
       "      <td>15.0</td>\n",
       "      <td>9.0</td>\n",
       "    </tr>\n",
       "  </tbody>\n",
       "</table>\n",
       "</div>"
      ],
      "text/plain": [
       "      price  sold\n",
       "corn             \n",
       "beef   15.0   5.0\n",
       "fish   15.5   5.0\n",
       "tofu   15.0   9.0"
      ]
     },
     "execution_count": 504,
     "metadata": {},
     "output_type": "execute_result"
    }
   ],
   "source": [
    "corn.mean()"
   ]
  },
  {
   "cell_type": "markdown",
   "metadata": {},
   "source": [
    "Iterating over groups is also an important practice on data. Let's take an overview of how it looks like."
   ]
  },
  {
   "cell_type": "code",
   "execution_count": 559,
   "metadata": {},
   "outputs": [
    {
     "name": "stdout",
     "output_type": "stream",
     "text": [
      "beef\n",
      "   corn  price  sold stable vegetable\n",
      "0  beef     10     4   rice   lettuce\n",
      "1  beef     20     5   rice  brocolli\n",
      "2  beef     15     6  pasta  brocolli\n",
      "<class 'pandas.core.frame.DataFrame'>\n",
      "fish\n",
      "   corn  price  sold stable vegetable\n",
      "4  fish     14     4   soba  brocolli\n",
      "5  fish     17     6   soba    carrot\n",
      "<class 'pandas.core.frame.DataFrame'>\n",
      "tofu\n",
      "   corn  price  sold stable vegetable\n",
      "3  tofu     15     9  pasta    carrot\n",
      "<class 'pandas.core.frame.DataFrame'>\n"
     ]
    }
   ],
   "source": [
    "for c, group in corn:\n",
    "    print (c)\n",
    "    print (group)\n",
    "    print (type(group))"
   ]
  },
  {
   "cell_type": "markdown",
   "metadata": {},
   "source": [
    "Each group in the iterator will return as a dataFrame. Within each group, we can iterate over Series and conduct further operations."
   ]
  },
  {
   "cell_type": "code",
   "execution_count": 566,
   "metadata": {},
   "outputs": [
    {
     "data": {
      "text/plain": [
       "[('beef', 'brocolli', 'pasta'),\n",
       " ('fish', 'carrot', 'soba'),\n",
       " ('tofu', 'carrot', 'pasta')]"
      ]
     },
     "execution_count": 566,
     "metadata": {},
     "output_type": "execute_result"
    }
   ],
   "source": [
    "bestSeller = []\n",
    "for c, group in corn:\n",
    "    for i in range(len(group)): #iterate over data frame\n",
    "        if group[\"sold\"].iloc[i] > 5:\n",
    "            bestSeller.append((c, group[\"vegetable\"].iloc[i], group[\"stable\"].iloc[i]))\n",
    "bestSeller"
   ]
  },
  {
   "cell_type": "markdown",
   "metadata": {},
   "source": [
    "Another insteresting method is `expanding()`, which will accumulate the result within a group using an operator repeatedly."
   ]
  },
  {
   "cell_type": "code",
   "execution_count": 533,
   "metadata": {},
   "outputs": [
    {
     "data": {
      "text/html": [
       "<div>\n",
       "<style>\n",
       "    .dataframe thead tr:only-child th {\n",
       "        text-align: right;\n",
       "    }\n",
       "\n",
       "    .dataframe thead th {\n",
       "        text-align: left;\n",
       "    }\n",
       "\n",
       "    .dataframe tbody tr th {\n",
       "        vertical-align: top;\n",
       "    }\n",
       "</style>\n",
       "<table border=\"1\" class=\"dataframe\">\n",
       "  <thead>\n",
       "    <tr style=\"text-align: right;\">\n",
       "      <th></th>\n",
       "      <th></th>\n",
       "      <th>price</th>\n",
       "      <th>sold</th>\n",
       "      <th>stable</th>\n",
       "      <th>vegetable</th>\n",
       "    </tr>\n",
       "    <tr>\n",
       "      <th>corn</th>\n",
       "      <th></th>\n",
       "      <th></th>\n",
       "      <th></th>\n",
       "      <th></th>\n",
       "      <th></th>\n",
       "    </tr>\n",
       "  </thead>\n",
       "  <tbody>\n",
       "    <tr>\n",
       "      <th rowspan=\"3\" valign=\"top\">beef</th>\n",
       "      <th>0</th>\n",
       "      <td>10.0</td>\n",
       "      <td>4.0</td>\n",
       "      <td>rice</td>\n",
       "      <td>lettuce</td>\n",
       "    </tr>\n",
       "    <tr>\n",
       "      <th>1</th>\n",
       "      <td>30.0</td>\n",
       "      <td>9.0</td>\n",
       "      <td>rice</td>\n",
       "      <td>brocolli</td>\n",
       "    </tr>\n",
       "    <tr>\n",
       "      <th>2</th>\n",
       "      <td>45.0</td>\n",
       "      <td>15.0</td>\n",
       "      <td>pasta</td>\n",
       "      <td>brocolli</td>\n",
       "    </tr>\n",
       "    <tr>\n",
       "      <th rowspan=\"2\" valign=\"top\">fish</th>\n",
       "      <th>4</th>\n",
       "      <td>14.0</td>\n",
       "      <td>4.0</td>\n",
       "      <td>soba</td>\n",
       "      <td>brocolli</td>\n",
       "    </tr>\n",
       "    <tr>\n",
       "      <th>5</th>\n",
       "      <td>31.0</td>\n",
       "      <td>10.0</td>\n",
       "      <td>soba</td>\n",
       "      <td>carrot</td>\n",
       "    </tr>\n",
       "    <tr>\n",
       "      <th>tofu</th>\n",
       "      <th>3</th>\n",
       "      <td>15.0</td>\n",
       "      <td>9.0</td>\n",
       "      <td>pasta</td>\n",
       "      <td>carrot</td>\n",
       "    </tr>\n",
       "  </tbody>\n",
       "</table>\n",
       "</div>"
      ],
      "text/plain": [
       "        price  sold stable vegetable\n",
       "corn                                \n",
       "beef 0   10.0   4.0   rice   lettuce\n",
       "     1   30.0   9.0   rice  brocolli\n",
       "     2   45.0  15.0  pasta  brocolli\n",
       "fish 4   14.0   4.0   soba  brocolli\n",
       "     5   31.0  10.0   soba    carrot\n",
       "tofu 3   15.0   9.0  pasta    carrot"
      ]
     },
     "execution_count": 533,
     "metadata": {},
     "output_type": "execute_result"
    }
   ],
   "source": [
    "corn.expanding().sum()"
   ]
  },
  {
   "cell_type": "markdown",
   "metadata": {},
   "source": [
    "`filter()` method will return a subset of the original data with conditions. Default parameter `dropna = True` will drop all the unmatching observations."
   ]
  },
  {
   "cell_type": "code",
   "execution_count": 555,
   "metadata": {},
   "outputs": [
    {
     "data": {
      "text/html": [
       "<div>\n",
       "<style>\n",
       "    .dataframe thead tr:only-child th {\n",
       "        text-align: right;\n",
       "    }\n",
       "\n",
       "    .dataframe thead th {\n",
       "        text-align: left;\n",
       "    }\n",
       "\n",
       "    .dataframe tbody tr th {\n",
       "        vertical-align: top;\n",
       "    }\n",
       "</style>\n",
       "<table border=\"1\" class=\"dataframe\">\n",
       "  <thead>\n",
       "    <tr style=\"text-align: right;\">\n",
       "      <th></th>\n",
       "      <th>price</th>\n",
       "      <th>sold</th>\n",
       "      <th>stable</th>\n",
       "      <th>vegetable</th>\n",
       "    </tr>\n",
       "  </thead>\n",
       "  <tbody>\n",
       "    <tr>\n",
       "      <th>0</th>\n",
       "      <td>NaN</td>\n",
       "      <td>NaN</td>\n",
       "      <td>NaN</td>\n",
       "      <td>NaN</td>\n",
       "    </tr>\n",
       "    <tr>\n",
       "      <th>1</th>\n",
       "      <td>NaN</td>\n",
       "      <td>NaN</td>\n",
       "      <td>NaN</td>\n",
       "      <td>NaN</td>\n",
       "    </tr>\n",
       "    <tr>\n",
       "      <th>2</th>\n",
       "      <td>NaN</td>\n",
       "      <td>NaN</td>\n",
       "      <td>NaN</td>\n",
       "      <td>NaN</td>\n",
       "    </tr>\n",
       "    <tr>\n",
       "      <th>3</th>\n",
       "      <td>15.0</td>\n",
       "      <td>9.0</td>\n",
       "      <td>pasta</td>\n",
       "      <td>carrot</td>\n",
       "    </tr>\n",
       "    <tr>\n",
       "      <th>4</th>\n",
       "      <td>14.0</td>\n",
       "      <td>4.0</td>\n",
       "      <td>soba</td>\n",
       "      <td>brocolli</td>\n",
       "    </tr>\n",
       "    <tr>\n",
       "      <th>5</th>\n",
       "      <td>17.0</td>\n",
       "      <td>6.0</td>\n",
       "      <td>soba</td>\n",
       "      <td>carrot</td>\n",
       "    </tr>\n",
       "  </tbody>\n",
       "</table>\n",
       "</div>"
      ],
      "text/plain": [
       "   price  sold stable vegetable\n",
       "0    NaN   NaN    NaN       NaN\n",
       "1    NaN   NaN    NaN       NaN\n",
       "2    NaN   NaN    NaN       NaN\n",
       "3   15.0   9.0  pasta    carrot\n",
       "4   14.0   4.0   soba  brocolli\n",
       "5   17.0   6.0   soba    carrot"
      ]
     },
     "execution_count": 555,
     "metadata": {},
     "output_type": "execute_result"
    }
   ],
   "source": [
    "corn.filter(lambda x: x[\"price\"].min() > 10, dropna = False)"
   ]
  },
  {
   "cell_type": "markdown",
   "metadata": {},
   "source": [
    "### Group by several columns"
   ]
  },
  {
   "cell_type": "code",
   "execution_count": 505,
   "metadata": {},
   "outputs": [],
   "source": [
    "corn_vege = ex5.groupby([\"corn\", \"vegetable\"])"
   ]
  },
  {
   "cell_type": "code",
   "execution_count": 506,
   "metadata": {},
   "outputs": [
    {
     "data": {
      "text/plain": [
       "corn  vegetable\n",
       "beef  brocolli     2\n",
       "      lettuce      1\n",
       "fish  brocolli     1\n",
       "      carrot       1\n",
       "tofu  carrot       1\n",
       "dtype: int64"
      ]
     },
     "execution_count": 506,
     "metadata": {},
     "output_type": "execute_result"
    }
   ],
   "source": [
    "corn_vege.size()"
   ]
  },
  {
   "cell_type": "code",
   "execution_count": 507,
   "metadata": {},
   "outputs": [
    {
     "data": {
      "text/html": [
       "<div>\n",
       "<style>\n",
       "    .dataframe thead tr:only-child th {\n",
       "        text-align: right;\n",
       "    }\n",
       "\n",
       "    .dataframe thead th {\n",
       "        text-align: left;\n",
       "    }\n",
       "\n",
       "    .dataframe tbody tr th {\n",
       "        vertical-align: top;\n",
       "    }\n",
       "</style>\n",
       "<table border=\"1\" class=\"dataframe\">\n",
       "  <thead>\n",
       "    <tr style=\"text-align: right;\">\n",
       "      <th></th>\n",
       "      <th></th>\n",
       "      <th>price</th>\n",
       "      <th>sold</th>\n",
       "    </tr>\n",
       "    <tr>\n",
       "      <th>corn</th>\n",
       "      <th>vegetable</th>\n",
       "      <th></th>\n",
       "      <th></th>\n",
       "    </tr>\n",
       "  </thead>\n",
       "  <tbody>\n",
       "    <tr>\n",
       "      <th rowspan=\"2\" valign=\"top\">beef</th>\n",
       "      <th>brocolli</th>\n",
       "      <td>35</td>\n",
       "      <td>11</td>\n",
       "    </tr>\n",
       "    <tr>\n",
       "      <th>lettuce</th>\n",
       "      <td>10</td>\n",
       "      <td>4</td>\n",
       "    </tr>\n",
       "    <tr>\n",
       "      <th rowspan=\"2\" valign=\"top\">fish</th>\n",
       "      <th>brocolli</th>\n",
       "      <td>14</td>\n",
       "      <td>4</td>\n",
       "    </tr>\n",
       "    <tr>\n",
       "      <th>carrot</th>\n",
       "      <td>17</td>\n",
       "      <td>6</td>\n",
       "    </tr>\n",
       "    <tr>\n",
       "      <th>tofu</th>\n",
       "      <th>carrot</th>\n",
       "      <td>15</td>\n",
       "      <td>9</td>\n",
       "    </tr>\n",
       "  </tbody>\n",
       "</table>\n",
       "</div>"
      ],
      "text/plain": [
       "                price  sold\n",
       "corn vegetable             \n",
       "beef brocolli      35    11\n",
       "     lettuce       10     4\n",
       "fish brocolli      14     4\n",
       "     carrot        17     6\n",
       "tofu carrot        15     9"
      ]
     },
     "execution_count": 507,
     "metadata": {},
     "output_type": "execute_result"
    }
   ],
   "source": [
    "corn_vege.sum()"
   ]
  },
  {
   "cell_type": "markdown",
   "metadata": {},
   "source": [
    "If we want to apply different operations to different variables, we can use `agg()` method."
   ]
  },
  {
   "cell_type": "code",
   "execution_count": 526,
   "metadata": {},
   "outputs": [
    {
     "data": {
      "text/html": [
       "<div>\n",
       "<style>\n",
       "    .dataframe thead tr:only-child th {\n",
       "        text-align: right;\n",
       "    }\n",
       "\n",
       "    .dataframe thead th {\n",
       "        text-align: left;\n",
       "    }\n",
       "\n",
       "    .dataframe tbody tr th {\n",
       "        vertical-align: top;\n",
       "    }\n",
       "</style>\n",
       "<table border=\"1\" class=\"dataframe\">\n",
       "  <thead>\n",
       "    <tr>\n",
       "      <th></th>\n",
       "      <th></th>\n",
       "      <th colspan=\"2\" halign=\"left\">price</th>\n",
       "      <th>sold</th>\n",
       "    </tr>\n",
       "    <tr>\n",
       "      <th></th>\n",
       "      <th></th>\n",
       "      <th>most expensive</th>\n",
       "      <th>cheapest</th>\n",
       "      <th>number of sold</th>\n",
       "    </tr>\n",
       "    <tr>\n",
       "      <th>corn</th>\n",
       "      <th>vegetable</th>\n",
       "      <th></th>\n",
       "      <th></th>\n",
       "      <th></th>\n",
       "    </tr>\n",
       "  </thead>\n",
       "  <tbody>\n",
       "    <tr>\n",
       "      <th rowspan=\"2\" valign=\"top\">beef</th>\n",
       "      <th>brocolli</th>\n",
       "      <td>20</td>\n",
       "      <td>15</td>\n",
       "      <td>2</td>\n",
       "    </tr>\n",
       "    <tr>\n",
       "      <th>lettuce</th>\n",
       "      <td>10</td>\n",
       "      <td>10</td>\n",
       "      <td>1</td>\n",
       "    </tr>\n",
       "    <tr>\n",
       "      <th rowspan=\"2\" valign=\"top\">fish</th>\n",
       "      <th>brocolli</th>\n",
       "      <td>14</td>\n",
       "      <td>14</td>\n",
       "      <td>1</td>\n",
       "    </tr>\n",
       "    <tr>\n",
       "      <th>carrot</th>\n",
       "      <td>17</td>\n",
       "      <td>17</td>\n",
       "      <td>1</td>\n",
       "    </tr>\n",
       "    <tr>\n",
       "      <th>tofu</th>\n",
       "      <th>carrot</th>\n",
       "      <td>15</td>\n",
       "      <td>15</td>\n",
       "      <td>1</td>\n",
       "    </tr>\n",
       "  </tbody>\n",
       "</table>\n",
       "</div>"
      ],
      "text/plain": [
       "                        price                    sold\n",
       "               most expensive cheapest number of sold\n",
       "corn vegetable                                       \n",
       "beef brocolli              20       15              2\n",
       "     lettuce               10       10              1\n",
       "fish brocolli              14       14              1\n",
       "     carrot                17       17              1\n",
       "tofu carrot                15       15              1"
      ]
     },
     "execution_count": 526,
     "metadata": {},
     "output_type": "execute_result"
    }
   ],
   "source": [
    "corn_vege.agg({\"price\": [\"max\",\"min\"], \"sold\": \"size\"}).rename(\n",
    "            columns={\"max\": \"most expensive\", \"min\": \"cheapest\", \"size\":\"number of sold\" })"
   ]
  },
  {
   "cell_type": "markdown",
   "metadata": {},
   "source": [
    "Or you can apply several operations to each of the numeric value. The result will be arranged clearly as a pivot table."
   ]
  },
  {
   "cell_type": "code",
   "execution_count": 517,
   "metadata": {},
   "outputs": [
    {
     "data": {
      "text/html": [
       "<div>\n",
       "<style>\n",
       "    .dataframe thead tr:only-child th {\n",
       "        text-align: right;\n",
       "    }\n",
       "\n",
       "    .dataframe thead th {\n",
       "        text-align: left;\n",
       "    }\n",
       "\n",
       "    .dataframe tbody tr th {\n",
       "        vertical-align: top;\n",
       "    }\n",
       "</style>\n",
       "<table border=\"1\" class=\"dataframe\">\n",
       "  <thead>\n",
       "    <tr>\n",
       "      <th></th>\n",
       "      <th></th>\n",
       "      <th colspan=\"2\" halign=\"left\">price</th>\n",
       "      <th colspan=\"2\" halign=\"left\">sold</th>\n",
       "    </tr>\n",
       "    <tr>\n",
       "      <th></th>\n",
       "      <th></th>\n",
       "      <th>sum</th>\n",
       "      <th>mean</th>\n",
       "      <th>sum</th>\n",
       "      <th>mean</th>\n",
       "    </tr>\n",
       "    <tr>\n",
       "      <th>corn</th>\n",
       "      <th>vegetable</th>\n",
       "      <th></th>\n",
       "      <th></th>\n",
       "      <th></th>\n",
       "      <th></th>\n",
       "    </tr>\n",
       "  </thead>\n",
       "  <tbody>\n",
       "    <tr>\n",
       "      <th rowspan=\"2\" valign=\"top\">beef</th>\n",
       "      <th>brocolli</th>\n",
       "      <td>35</td>\n",
       "      <td>17.5</td>\n",
       "      <td>11</td>\n",
       "      <td>5.5</td>\n",
       "    </tr>\n",
       "    <tr>\n",
       "      <th>lettuce</th>\n",
       "      <td>10</td>\n",
       "      <td>10.0</td>\n",
       "      <td>4</td>\n",
       "      <td>4.0</td>\n",
       "    </tr>\n",
       "    <tr>\n",
       "      <th rowspan=\"2\" valign=\"top\">fish</th>\n",
       "      <th>brocolli</th>\n",
       "      <td>14</td>\n",
       "      <td>14.0</td>\n",
       "      <td>4</td>\n",
       "      <td>4.0</td>\n",
       "    </tr>\n",
       "    <tr>\n",
       "      <th>carrot</th>\n",
       "      <td>17</td>\n",
       "      <td>17.0</td>\n",
       "      <td>6</td>\n",
       "      <td>6.0</td>\n",
       "    </tr>\n",
       "    <tr>\n",
       "      <th>tofu</th>\n",
       "      <th>carrot</th>\n",
       "      <td>15</td>\n",
       "      <td>15.0</td>\n",
       "      <td>9</td>\n",
       "      <td>9.0</td>\n",
       "    </tr>\n",
       "  </tbody>\n",
       "</table>\n",
       "</div>"
      ],
      "text/plain": [
       "               price       sold     \n",
       "                 sum  mean  sum mean\n",
       "corn vegetable                      \n",
       "beef brocolli     35  17.5   11  5.5\n",
       "     lettuce      10  10.0    4  4.0\n",
       "fish brocolli     14  14.0    4  4.0\n",
       "     carrot       17  17.0    6  6.0\n",
       "tofu carrot       15  15.0    9  9.0"
      ]
     },
     "execution_count": 517,
     "metadata": {},
     "output_type": "execute_result"
    }
   ],
   "source": [
    "corn_vege.agg([\"sum\",\"mean\"])"
   ]
  },
  {
   "cell_type": "markdown",
   "metadata": {},
   "source": [
    "## Visualization "
   ]
  },
  {
   "cell_type": "markdown",
   "metadata": {},
   "source": [
    "We can use `matplotlib` library to plot data."
   ]
  },
  {
   "cell_type": "code",
   "execution_count": 604,
   "metadata": {},
   "outputs": [
    {
     "data": {
      "text/html": [
       "<div>\n",
       "<style>\n",
       "    .dataframe thead tr:only-child th {\n",
       "        text-align: right;\n",
       "    }\n",
       "\n",
       "    .dataframe thead th {\n",
       "        text-align: left;\n",
       "    }\n",
       "\n",
       "    .dataframe tbody tr th {\n",
       "        vertical-align: top;\n",
       "    }\n",
       "</style>\n",
       "<table border=\"1\" class=\"dataframe\">\n",
       "  <thead>\n",
       "    <tr style=\"text-align: right;\">\n",
       "      <th></th>\n",
       "      <th>screen_name</th>\n",
       "      <th>created_at</th>\n",
       "      <th>retweet_count</th>\n",
       "      <th>favorite_count</th>\n",
       "      <th>text</th>\n",
       "    </tr>\n",
       "  </thead>\n",
       "  <tbody>\n",
       "    <tr>\n",
       "      <th>0</th>\n",
       "      <td>realDonaldTrump</td>\n",
       "      <td>2016-09-09 02:00:32</td>\n",
       "      <td>2859</td>\n",
       "      <td>7030</td>\n",
       "      <td>Final poll results from NBC on last nights Com...</td>\n",
       "    </tr>\n",
       "    <tr>\n",
       "      <th>1</th>\n",
       "      <td>realDonaldTrump</td>\n",
       "      <td>2016-09-09 00:39:36</td>\n",
       "      <td>6463</td>\n",
       "      <td>17951</td>\n",
       "      <td>It wasn't Matt Lauer that hurt Hillary last ni...</td>\n",
       "    </tr>\n",
       "    <tr>\n",
       "      <th>2</th>\n",
       "      <td>realDonaldTrump</td>\n",
       "      <td>2016-09-08 23:56:22</td>\n",
       "      <td>5405</td>\n",
       "      <td>13223</td>\n",
       "      <td>More poll results from last nights Commander-i...</td>\n",
       "    </tr>\n",
       "  </tbody>\n",
       "</table>\n",
       "</div>"
      ],
      "text/plain": [
       "       screen_name          created_at  retweet_count  favorite_count  \\\n",
       "0  realDonaldTrump 2016-09-09 02:00:32           2859            7030   \n",
       "1  realDonaldTrump 2016-09-09 00:39:36           6463           17951   \n",
       "2  realDonaldTrump 2016-09-08 23:56:22           5405           13223   \n",
       "\n",
       "                                                text  \n",
       "0  Final poll results from NBC on last nights Com...  \n",
       "1  It wasn't Matt Lauer that hurt Hillary last ni...  \n",
       "2  More poll results from last nights Commander-i...  "
      ]
     },
     "execution_count": 604,
     "metadata": {},
     "output_type": "execute_result"
    }
   ],
   "source": [
    "tweets.head(3)"
   ]
  },
  {
   "cell_type": "code",
   "execution_count": 605,
   "metadata": {},
   "outputs": [
    {
     "data": {
      "text/plain": [
       "<matplotlib.axes._subplots.AxesSubplot at 0x12466f7f0>"
      ]
     },
     "execution_count": 605,
     "metadata": {},
     "output_type": "execute_result"
    },
    {
     "data": {
      "image/png": "[encoded data removed]",
      "text/plain": [
       "<matplotlib.figure.Figure at 0x1246739e8>"
      ]
     },
     "metadata": {},
     "output_type": "display_data"
    }
   ],
   "source": [
    "tweets.plot()"
   ]
  },
  {
   "cell_type": "markdown",
   "metadata": {},
   "source": [
    "## Reference"
   ]
  },
  {
   "cell_type": "markdown",
   "metadata": {},
   "source": [
    "Series: https://pandas.pydata.org/pandas-docs/stable/generated/pandas.Series.html\n",
    "\n",
    "Data Frame: https://pandas.pydata.org/pandas-docs/stable/generated/pandas.DataFrame.html\n",
    "\n",
    "Group By: https://pandas.pydata.org/pandas-docs/stable/groupby.html\n",
    "\n",
    "https://www.udemy.com/data-analysis-with-pandas/learn/v4/t/lecture/5943308?start=0"
   ]
  },
  {
   "cell_type": "code",
   "execution_count": null,
   "metadata": {
    "collapsed": true
   },
   "outputs": [],
   "source": []
  }
 ],
 "metadata": {
  "kernelspec": {
   "display_name": "Python 3",
   "language": "python",
   "name": "python3"
  },
  "language_info": {
   "codemirror_mode": {
    "name": "ipython",
    "version": 3
   },
   "file_extension": ".py",
   "mimetype": "text/x-python",
   "name": "python",
   "nbconvert_exporter": "python",
   "pygments_lexer": "ipython3",
   "version": "3.6.3"
  }
 },
 "nbformat": 4,
 "nbformat_minor": 2
}
