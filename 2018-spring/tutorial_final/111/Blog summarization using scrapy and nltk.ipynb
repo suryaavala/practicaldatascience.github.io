{
 "cells": [
  {
   "cell_type": "markdown",
   "metadata": {},
   "source": [
    "# BLOG SUMMARIZATION USING SCRAPY AND NLTK"
   ]
  },
  {
   "cell_type": "markdown",
   "metadata": {},
   "source": [
    "### This tutorial is a short and quick way of summarising the blogs online by scraping them. The two main tools of python used for the scraping and text processing are Scrapy and NLTK. Learning the Scrapy tool becomes very important today when there is huge amount of data present on the internet which is continuosly changing. Hence, this helps to get all the data. "
   ]
  },
  {
   "cell_type": "markdown",
   "metadata": {},
   "source": [
    "# USE CASE OF SCRAPY AND NLTK\n",
    "In the upcoming parts of the tutorial, you will be scraping the https://www.cnet.com website. From the websites you will be able to scrape the URLs of the lastest news. These URLs will then be saved in a file and then be accessed from the file one by one to scrape the content of the blog. The blog text received from the scrapy output will then be given to a summarisation code. More details on the tools used below."
   ]
  },
  {
   "cell_type": "markdown",
   "metadata": {},
   "source": [
    "# SCRAPY \n",
    "\n",
    "### This is a python library which is a framework in itself that is used for scraping all the pages on the internet. They are even used to crawl the web pages over time. The data can be accessed in the form of structured data whic can then directly be used for text analysis and other kinds of data science activities. The scrapy architecture  uses various components which are as follows :\n",
    "- Scrapy Engine\n",
    "- Scheduler\n",
    "- Downloader\n",
    "- Spiders\n",
    "- Item Pipeline\n",
    "- Downloader middlewares\n",
    "- Spider middlewares\n",
    "\n",
    "### In this tutorial we won't be using all of these components but some of the basic ones. Alongwith their explanations, there will be some examples based on the same. More about the components can be gone through here : https://doc.scrapy.org/en/latest/topics/architecture.html"
   ]
  },
  {
   "cell_type": "markdown",
   "metadata": {},
   "source": [
    "The following are some of the parts of the scrapy library that are need for completing this tutorial. Install scrapy using :\n",
    ">  conda install scrapy"
   ]
  },
  {
   "cell_type": "code",
   "execution_count": 1,
   "metadata": {
    "collapsed": true
   },
   "outputs": [],
   "source": [
    "import scrapy\n",
    "from scrapy.crawler import CrawlerProcess\n",
    "from scrapy.crawler import CrawlerRunner\n",
    "from twisted.internet import reactor\n",
    "from scrapy.utils.log import configure_logging\n",
    "from multiprocessing import Process, Queue\n",
    "import logging\n",
    "from scrapy.exceptions import CloseSpider"
   ]
  },
  {
   "cell_type": "markdown",
   "metadata": {},
   "source": [
    "### Spiders :\n",
    "scrapy.Spider is the component which is extended by the users to write custom classes. This custom class is used t define the attributes of the spider like :\n",
    "- name : some unique name of the spider that scrapy uses to initialise\n",
    "- start_urls : a list of urls that you need the spider to start crawling from\n",
    "- custom_settings : some basic setings like logging the warnings or using which pipeline to write the result\n",
    "There are some others as well which can be looked up at : https://doc.scrapy.org/en/latest/topics/spiders.html\n",
    "\n",
    "The parse function is also a overridden function, where the control goes after the request made to the internet using scrapy. So, the response variable is the reply from the server after the request. The response variable has to be used to yield the data that you need. The yielded data in the form of a dictionary is sent to the item pipeline component(more on it soon). \n",
    "\n",
    "So, in our use case, the start_url is our base website. And the item pipeline that we will be using is the LinkWriterPipeline which is defined later on. The path of the `href` attribute of the latest blog is given which is extracted and sent to the pipeline in the form of dictionary.\n",
    "\n",
    "Also, you may notice that here something called as a CloseSpider exception is used which closes the spider after the condition of 5 links is met. This is done just for the tutorial sake to make it practical."
   ]
  },
  {
   "cell_type": "code",
   "execution_count": 2,
   "metadata": {},
   "outputs": [],
   "source": [
    "class LinkSpider(scrapy.Spider):\n",
    "    name = \"links\"\n",
    "    start_urls = [\n",
    "        'https://www.cnet.com/'\n",
    "    ]\n",
    "    custom_settings = {\n",
    "        'LOG_LEVEL': logging.WARNING,\n",
    "        'ITEM_PIPELINES': {'__main__.LinkWriterPipeline': 1},\n",
    "    }\n",
    "    def parse(self, response):\n",
    "        i = 0\n",
    "        for link in response.xpath(\"//div[@class='latestScrollItems']//div[@class='item']//span[@class='col-5 rlLine']/a/@href\"):\n",
    "            yield {\n",
    "                'link': link.extract()\n",
    "            }\n",
    "            if i == 5:\n",
    "                raise CloseSpider('termination condition met')\n",
    "            i += 1\n"
   ]
  },
  {
   "cell_type": "markdown",
   "metadata": {},
   "source": [
    "### Item Pipelines :\n",
    "This is where all the items output by each response page arrive and are processed. This class can have three functions :\n",
    "- open_spider : whenever a spider is started, this function is called.\n",
    "- process_item : whatever processing to be done with the data happens in this location.\n",
    "- close_spider : whenever the spider is done with the crawling this function is called.\n",
    "In this case, the open_spider and close_spider are just used to open the file `blogs-link.txt` to write all the available links. In the process_item function, the domain name is added to the folder path received from the href of the tag and written to the file.  "
   ]
  },
  {
   "cell_type": "code",
   "execution_count": 5,
   "metadata": {
    "collapsed": true
   },
   "outputs": [],
   "source": [
    "class LinkWriterPipeline(object):\n",
    "    def open_spider(self, spider):\n",
    "        self.file = open('blogs-link.txt', 'w')\n",
    "\n",
    "    def close_spider(self, spider):\n",
    "        self.file.close()\n",
    "\n",
    "    def process_item(self, item, spider):\n",
    "        \n",
    "        domain = \"https://www.cnet.com\"\n",
    "        for link in item:\n",
    "            print(item['link'])\n",
    "            link = domain + item['link']\n",
    "            self.file.write(link+\"\\n\")\n",
    "        return item"
   ]
  },
  {
   "cell_type": "markdown",
   "metadata": {},
   "source": [
    "Now, we replicate creating another spider and a similar item pipeline for scrapping the blog content and storing them in `blog-text.txt`.\n",
    "But, it will noticed that while doing so, you will need to dynamically append the urls to the `start_urls` from the file and then run the spider. This implies that the LinkSpider should run first before getting to the BlogSpider.\n",
    "\n",
    "But, according to the way scrapy has been designed, we can only start a process once and it doesn't end in the same process. Hence, we get a `Reactor Not Restartable` error. \n",
    "\n",
    "According to https://stackoverflow.com/questions/41495052/scrapy-reactor-not-restartable, this error is solvable by making two processes run, that is creatio of a multiprocess system. Hence the following code is used to run the spiders in different processes.(This is out of the scope of the project topic so I used it as it is). Hence, the run_spider code is used to run different spiders. Apart from the mulltiprocess coding, there are some scrapy functions used to start the crawler. The basic code is as follows :\n",
    "> process = CrawlerProcess({'USER_AGENT': 'Mozilla/4.0 '})                \n",
    "> process.crawl(LinkSpider)                                                                            \n",
    "> process.start()\n",
    "\n",
    "Here, a crawler process is defined and given some parameters if needed like type of User Agent, etc. Then, the process is given a Spider which it will crawl with and then the process is started."
   ]
  },
  {
   "cell_type": "code",
   "execution_count": 6,
   "metadata": {
    "collapsed": true
   },
   "outputs": [],
   "source": [
    "def run_spider(name):\n",
    "    def f(q):\n",
    "        try:\n",
    "            runner = CrawlerRunner()\n",
    "            deferred = runner.crawl(name)\n",
    "            deferred.addBoth(lambda _: reactor.stop())\n",
    "            reactor.run()\n",
    "            q.put(None)\n",
    "        except Exception as e:\n",
    "            q.put(e)\n",
    "\n",
    "    q = Queue()\n",
    "    p = Process(target=f, args=(q,))\n",
    "    p.start()\n",
    "    result = q.get()\n",
    "    p.join()\n",
    "\n",
    "    if result is not None:\n",
    "        raise result"
   ]
  },
  {
   "cell_type": "markdown",
   "metadata": {},
   "source": [
    "The run_spider process is then called, which will call the pipeline which prints all the output of the spider and then it is stored in the blogs-link.txt file. The output of that is also below."
   ]
  },
  {
   "cell_type": "code",
   "execution_count": 8,
   "metadata": {},
   "outputs": [
    {
     "name": "stdout",
     "output_type": "stream",
     "text": [
      "/pictures/apple-iphone-x-macro/\n",
      "/news/chinese-tiangong-1-space-station-may-miss-april-1-crash-re-entry/\n",
      "/news/ron-howard-teases-solo-a-star-wars-story-space-battle/\n",
      "/news/the-viva-egoista-845-extreme-high-end-audio-meets-italian-style/\n",
      "/news/daytons-98-per-pair-bluetooth-speakers-do-full-on-stereo/\n",
      "/news/best-april-fools-day-2018-pranks-on-web/\n"
     ]
    }
   ],
   "source": [
    "run_spider(LinkSpider)"
   ]
  },
  {
   "cell_type": "code",
   "execution_count": 11,
   "metadata": {},
   "outputs": [
    {
     "name": "stdout",
     "output_type": "stream",
     "text": [
      "https://www.cnet.com/pictures/apple-iphone-x-macro/\n",
      "\n",
      "https://www.cnet.com/news/chinese-tiangong-1-space-station-may-miss-april-1-crash-re-entry/\n",
      "\n",
      "https://www.cnet.com/news/ron-howard-teases-solo-a-star-wars-story-space-battle/\n",
      "\n",
      "https://www.cnet.com/news/the-viva-egoista-845-extreme-high-end-audio-meets-italian-style/\n",
      "\n",
      "https://www.cnet.com/news/daytons-98-per-pair-bluetooth-speakers-do-full-on-stereo/\n",
      "\n",
      "https://www.cnet.com/news/best-april-fools-day-2018-pranks-on-web/\n",
      "\n"
     ]
    }
   ],
   "source": [
    "for link in open('blogs-link.txt'):\n",
    "    print(link)"
   ]
  },
  {
   "cell_type": "markdown",
   "metadata": {},
   "source": [
    "Now, when we have our URLs ready in a file, we can create the new spider and run the same in the similar format as before. Here, we are scraping all the links and storing the result in the text file. The outputs of the process is given below."
   ]
  },
  {
   "cell_type": "code",
   "execution_count": 12,
   "metadata": {},
   "outputs": [
    {
     "name": "stdout",
     "output_type": "stream",
     "text": [
      "['https://www.cnet.com/pictures/apple-iphone-x-macro/', 'https://www.cnet.com/news/chinese-tiangong-1-space-station-may-miss-april-1-crash-re-entry/', 'https://www.cnet.com/news/ron-howard-teases-solo-a-star-wars-story-space-battle/', 'https://www.cnet.com/news/the-viva-egoista-845-extreme-high-end-audio-meets-italian-style/', 'https://www.cnet.com/news/daytons-98-per-pair-bluetooth-speakers-do-full-on-stereo/', 'https://www.cnet.com/news/best-april-fools-day-2018-pranks-on-web/']\n"
     ]
    }
   ],
   "source": [
    "class BlogSpider(scrapy.Spider):\n",
    "    name = \"blogs\"\n",
    "    start_urls=[]\n",
    "    for url in open(\"blogs-link.txt\"):\n",
    "        url = url.replace('\\n',\"\")\n",
    "        start_urls.append(url)\n",
    "    print(start_urls)  \n",
    "    custom_settings = {\n",
    "        'LOG_LEVEL': logging.WARNING,\n",
    "        'ITEM_PIPELINES': {'__main__.BlogWriterPipeline': 1}, \n",
    "    }\n",
    "\n",
    "    def parse(self, response):\n",
    "        for quote in response.css('div.article-main-body'):\n",
    "            yield {\n",
    "                'text': quote.css('p').extract()\n",
    "            }"
   ]
  },
  {
   "cell_type": "code",
   "execution_count": 13,
   "metadata": {
    "collapsed": true
   },
   "outputs": [],
   "source": [
    "class BlogWriterPipeline(object):\n",
    "    def open_spider(self, spider):\n",
    "        self.file = open('blog-text.txt', 'w')\n",
    "\n",
    "    def close_spider(self, spider):\n",
    "        self.file.close()\n",
    "\n",
    "    def process_item(self, item, spider):\n",
    "        for text in item:\n",
    "            blog = ''.join(item['text'])\n",
    "            self.file.write(blog + '\\n')\n",
    "        return item"
   ]
  },
  {
   "cell_type": "code",
   "execution_count": 16,
   "metadata": {},
   "outputs": [],
   "source": [
    "run_spider(BlogSpider)"
   ]
  },
  {
   "cell_type": "code",
   "execution_count": 83,
   "metadata": {},
   "outputs": [
    {
     "name": "stdout",
     "output_type": "stream",
     "text": [
      "<p>I'll cut right to the chase: the <a href=\"https://www.parts-express.com/dayton-audio-mk402bt-powered-bluetooth-2-way-bookshelf-speaker-pair-with-35mm-aux-in--300-458\" target=\"_blank\" data-component=\"externalLink\">Dayton Audio MK402BT</a> two-speaker system fills a room better than any single speaker could: whether thats a $349 <span class=\"link\" section=\"shortcodeLink\"><a href=\"/products/apple-homepod/review/\">Apple HomePod</a></span> or a $399 <span class=\"link\" section=\"shortcodeLink\"><a href=\"/products/google-home-max/review/\">Google Home Max</a></span> smart speaker. The big advantage of bona fide stereo separation is hard to beat for the money; the MK402BT sells for just $98 a pair.</p><p>The Dayton Audio MK402BT speakers</p><p>When I had them spread five feet apart, the MK402BTs' stereo was wonderfully spacious, with a fair degree of soundstage depth. While I didn't have a HomePod or Home Max on hand for direct comparisons, I know those bad boys deliver more potent bass. Still, the MK402BT's bass is definitely adequate.</p><p>The MK402BT speakers are the active version of one of our new favorite budget designs: the <span class=\"link\" section=\"shortcodeLink\"><a href=\"/products/dayton-audio-mk402/review/\">MK402</a></span>. As well as offering a wired connection, they also include Bluetooth connectivity. </p><p>Like the original, this is a two-way speaker with a 4-inch treated paper woofer and a 0.75-inch soft dome tweeter. The internal power amplifier is rated at 20 watts per channel. The cabinet is finished in a black vinyl wrapped and a set of removable black cloth grilles. Each MK402BT measures 9.5 by 5.75 by 6.6 inches.</p><p>The top panel of the right MK402BT speaker has volume up/down buttons, a Mode button that switches between wired and <a href=\"/tags/bluetooth/\" data-annotation=\"true\" data-component=\"linkTracker\" data-link-tracker-options='{\"action\":\"inline-annotation|Bluetooth|CNET_TAG|556\"}'>Bluetooth</a> operation, and a play/pause button for Bluetooth playback. You can also control volume from your phone. The right speaker's rear panel hosts a 3.5mm stereo analog input jack, and the speaker output connectors you'll use to hook up to the left speaker with the included 6.5 foot long cable. Please note, the speakers rear panels have bass ports so don't jam them right up against the wall, a couple of inches of clearance will do. If you're cramped for space feel free to put the two MK402BT speakers right alongside each other.</p><p>I'm not claiming the MK402BT will satisfy fussy audiophiles -- the sound has an edge that grates when the speakers are played at moderate or loud volume. That said, the MK402BT's sound quality improves when you turn off Bluetooth and go for a wired connection with my <a href=\"/products/apple-iphone-6s/\" data-annotation=\"true\" data-component=\"linkTracker\" data-link-tracker-options='{\"action\":\"inline-annotation|Apple iPhone 6S|CNET_FAM_SERIES|225\"}'>iPhone 6S</a>. Yes, wired connections have a tendency to sound better than Bluetooth, and this was the case with the MK402BT. </p><p>With a wired connection, the MK402BT sound is on par with what I recall from my recent listening sessions with the passive (non-amplified) <a href=\"/products/dayton-audio-mk402/review/\" data-annotation=\"true\" data-component=\"linkTracker\" data-link-tracker-options='{\"action\":\"inline-annotation|Dayton Audio MK402|CNET_FAM_SERIES|435\"}'>Dayton Audio MK402</a> speakers that sell for $69 a pair. If you don't care about Bluetooth and have an amplifier or receiver, the MK402 is a sweet little speaker for the money. </p><p>I set up the MK402BTs in my wife's studio, with the speakers in the corners of the 10-foot-wide room, so stereo separation was impressive. Listening to the \"Isle of Dogs\" film soundtrack with its pounding drums and percussion, the little MK402BTs belted out decent impact. With Yo La Tengo's new album \"There's a Riot Going On,\" the sound mix emphasizes space and atmosphere; the MK402BTs let me hear all of that in ways that a single HomePod or Home Max cannot. </p><p>I mostly listened to the MK402BT via Bluetooth because that's how I imagine most people will use these speakers, and my main complaint was the treble isn't all that clear. Opting for the wired connection helps smooth out the treble a bit.  </p><p>One minor annoyance: when you turn on the MK402BT speakers, they play an annoying sound effect, and as far as I can tell there's no way to stop it from doing that.</p><p>Still, for $98 <a href=\"/topics/speakers/best-speakers/bluetooth/\" data-annotation=\"true\" data-component=\"linkTracker\" data-link-tracker-options='{\"action\":\"inline-annotation|bluetooth speaker|CNET_EVERGREEN|510\"}'>Bluetooth speakers</a>, the Dayton Audio MK402BT sounds like a really good deal to me.</p>\n",
      "\n",
      "<p>Are you on your toes? You need to be. With April Fools' Day almost here, plenty of companies are trying to pull fast ones.  </p><p>The timing of April Fools' Day is particularly weird this year since it falls on Easter Sunday. Companies looking to make a splash before everybody is distracted by Easter egg hunts and chocolate are rolling out their hijinks on the early side.  </p><p>We're combing the internet for the best, weirdest and wildest pranks and jokes. Stay tuned to this post as more hoaxes appear. </p><p>Logitech is implementing a useful new feature into its video-conferencing technology with the introduction of <a href=\"https://blog.logitech.com/2018/03/30/logitech-revolutionizes-business-communication-with-the-introduction-of-business-speak-detection-software/\" target=\"_blank\" data-component=\"externalLink\">Business Speak Detection software</a>, more succinctly known as BS Detection. It analyzes language and alerts you to BS phrases such as \"corralling key decisioneers into a real-time thought shower.\" </p><p><a href=\"https://www.josh.ai/\" target=\"_blank\" data-component=\"externalLink\">Josh</a>, a maker of smart home systems, has hit on a radical innovation for voice-activated assistants. <a href=\"https://www.josh.ai/ultra\" target=\"_blank\" data-component=\"externalLink\">Josh Ultra</a> can handle your every home task and whim with a level of personal service Alexa or Google Home could never achieve. Naturally, this sort of sophistication won't come cheap.</p><p>At first blush, a smart ATM powered by artificial intelligence sounds like a decent idea. And then you meet Adam, the AiTM from banker <a href=\"http://www.fmtrustonline.com/\" target=\"_blank\" data-component=\"externalLink\">F&amp;M Trust</a>. Adam learns about your preferences and talks back to you ... a little too much.</p><p>Riffing on its cell-boosting <span class=\"link\" section=\"shortcodeLink\"><a href=\"/news/sprint-to-offer-free-wireless-signal-booster-magic-box-small-cell/\">Magic Box</a></span> device, Sprint unveiled the <a href=\"http://newsroom.sprint.com/sprint-magic-ball.htm\" target=\"_blank\" data-component=\"externalLink\">Magic Ball</a> for April Fools' Day. It's a standard-sized soccer ball (football for the non-US crowd) that can do everything the Magic Box can, but you can also kick it around (and even take it to the moon).</p><p>We all know some pet owners bear an uncanny resemblance to their furry friends. With the <a href=\"http://www.beautifulbondsalon.com/\" target=\"_blank\" data-component=\"externalLink\">Beautiful Bond Salon</a>, Petco wants to help people who don't have such luck. This April Fools' salon concept offers makeovers to match you to the look of your cat, dog, fish or snake. This goes beyond getting your hair done and can include the application of makeup and theatrical prosthetics, so you can get scaly if you need to.</p><p>T-Mobile took its April Fools' inspiration from its classic Sidekick phone that flipped open horizontally for access to a tiny keyboard. The company bills its new <a href=\"https://www.-t-mobile.com/sidekicks\" target=\"_blank\" data-component=\"externalLink\">Sidekicks</a> as the world's first smartshoephone. </p><p>The laces are earphones, there's a screen on the bottom of one shoe and speakers on the other. T-Mobile CEO John Legere voices the phone's digital assistant. Naturally, the kicks come in a screaming shade of magenta. <a href=\"https://www.bemagenta.com/shop/new/t-mobile-sidekicks-pre-order/p-TM0286\" target=\"_blank\" data-component=\"externalLink\">You can even order a pair</a>, minus all the smartphone features.</p><p>Burger King had to live up to <span class=\"link\" section=\"shortcodeLink\"><a href=\"/news/burger-king-whopper-toothpaste-april-fools-day-prank-youtube/\">last year's Whopper toothpaste</a></span> prank. So it took a cue from Easter treats and introduced the Chocolate Whopper, a sweet abomination featuring a cake bun, flame-grilled chocolate patty, white chocolate rings, candied blood oranges and vanilla frosting. </p><p>Welcome to a whole new world in backpack design. <a href=\"https://blaqpaks.com/\" target=\"_blank\" data-component=\"externalLink\">BlaqPaks</a>, a purveyor of handmade backpacks, has come up with a Velcro-based attachment method for a strapless backpack. It sounds pretty convenient at first, but there are drawbacks.</p><p>Roku has an answer to the problem of not wanting to touch your streaming-video remote when your hands are a greasy mess from your binge-watching snacks. Happy Streaming Socks have motion sensors that let you swipe to browse, tap to select and click your heels to play. Hey, these actually sound pretty awesome. </p><p>Amazon, Google and Apple are getting a digital assistant challenger from an unlikely place: <a href=\"https://www.onlinelabels.com/\" target=\"_blank\" data-component=\"externalLink\">OnlineLabels.com</a>. The labels retailer introduced Labelie, a voice assistant with a one-track mind. </p><p>Voice biometrics company <a href=\"https://www.pindrop.com/\" target=\"_blank\" data-component=\"externalLink\">Pindrop</a> has a smartphone authentication concept that goes far beyond Apple's Face ID. With <a href=\"https://www.pindrop.com/tongueprinting-technology/\" target=\"_blank\" data-component=\"externalLink\">Tongueprinting</a> technology, you lick your phone screen to gain access. Convenient? Maybe. Gross? Yes.</p><p>Honda UK got a little trigger-happy with a saw and removed the roof from a CR-V to create a <span class=\"link\" section=\"shortcodeLink\"><a href=\"/news/honda-april-fools-day-cr-v-roadster/\">Concept CR-V Roadster</a></span>. \"The structural rigidity of the car has been reduced overall by approximately 100 percent, currently rendering it completely undrivable,\" the Honda team noted. It definitely won't go over well in the UK's rainy climate.</p><p>Honda chopped some bits off its CR-V.</p><p>Few criminals would dare brave the wrath of an ill-tempered baboon just to steal a package off your porch. Men's gifting company <a href=\"https://www.mancrates.com/\" target=\"_blank\" data-component=\"externalLink\">Man Crates</a> developed its deeply satisfying <a href=\"https://www.mancrates.com/store/pages/porch-piracy-protection?utm_source=outreach&amp;utm_medium=5wpr&amp;utm_campaign=afd2018\" target=\"_blank\" data-component=\"externalLink\">Porch Piracy Protection</a> program to keep package thieves from nabbing your stuff. The service includes options for a pissed-off baboon, camouflage by way of a fake CRT TV with a \"free\" sign, a chatty solicitor and a creepy clown. Your packages will be plenty safe.</p><p>Cryptocurrency is on the mind of home design, decorating and remodeling site <a href=\"https://www.houzz.com/\" target=\"_blank\" data-component=\"externalLink\">Houzz</a>, which says it's offering a bitcoin-style ICO on April 1. <a href=\"https://www.houzz.com/ideabooks/106250651/listPreview/pt=9a998d54bcb36eaf1662e0b221b697ec/introducing-houzzcoinzz-the-newest-way-to-shop-for-your-home\" target=\"_blank\" data-component=\"externalLink\">HouzzCoinzz</a> plays on the volatility of digital currency with a buzzword-filled ad that drops phrases like \"private key authentication\" and \"immutable transaction ledger.\" Just watch out for the fine-print warning that your investment could be worth $0 tomorrow.</p><p>Forget plastic, rubber or silicone for your next smartphone case. Case maker <a href=\"https://www.tech21.com/en_us\" target=\"_blank\" data-component=\"externalLink\">Tech21</a> has a tastier idea, the <a href=\"https://www.tech21.com/blog/meet-flexchoc\" target=\"_blank\" data-component=\"externalLink\">FlexChoc chocolate case</a>. The edible case combines dark and milk chocolate with 10 feet (3 meters) of drop protection. Tech21 says it \"strikes the perfect balance between flavor and durability.\"  </p><p>Chances are you don't take up your whole bed when you sleep. Mattress retailer Lucid Mattress combines that idea with an Airbnb concept to offer <a href=\"https://lucidmattress.com/sharebed\" target=\"_blank\" data-component=\"externalLink\">ShareBED</a> for April Fools' Day. ShareBED encourages you to rent out the spare space in your bed to strangers, a practice the fake ad promises is \"completely safe.\" This April Fools' entry is both creepy and funny.</p><p>Online glasses retailer <a href=\"https://www.zennioptical.com/\" target=\"_blank\" data-component=\"externalLink\">Zenni Optical</a> and iconic noodle brand <a href=\"http://nissinfoods.com/products/cup-noodles\" target=\"_blank\" data-component=\"externalLink\">Nissin Cup Noodles</a> joined forces to create eyewear designed to help you clearly see your ramen while you eat. The Ramen Opticals glasses have a built-in fan that prevents steam from gathering on the lenses and a removable fork to let you chow down with ease. Even better, Zenni and Cup Noodles actually built a prototype. </p><p>These special glasses have a built-in fork and steam-dispersing fan.</p><p>Online retailer Wayfair came up with an April Fools' concept for home decor that you'll wish were real. <a href=\"https://www.wayfair.com/v/cms/page/display?value=Scentsible\" target=\"_blank\" data-component=\"externalLink\">Scentsible Wallpaper</a> is digital wallpaper that can change with a simple app adjustment. To make it officially weird, the wallpaper is also scented, so it can smell like anything from lemons to a beach.</p><p>Online fashion rental service Rent the Runway knows pets are a perfect theme for April Fools' Day pranks. So it launched <a href=\"https://www.renttherunway.com/dog-clothes\" target=\"_blank\" data-component=\"externalLink\">Rent the Runway for Dogs</a>, which promises to let customers rent matching outfits for their pups. The fake service includes reviews from fluffy fashionistas who praise the stylish pooch clothes. Rent the Runway says it would consider making this a real service if enough customers request it.</p><p>This dapper dog poses for Rent the Runway's April Fools' joke.</p><p>Car-shopping site <a href=\"https://www.iseecars.com/\" target=\"_blank\" data-component=\"externalLink\">iSeeCars</a> is looking to appease the Google gods this April Fools' Day with <a href=\"https://www.gshrine.com/\" target=\"_blank\" data-component=\"externalLink\">Google Shrine</a>, a place to offer prayers, links, AdWords dollars and 2,000-word blog posts in exchange for better search engine rankings.</p><p>In keeping with April Fools' Day falling on Easter this year, online grocer <a href=\"https://www.freshdirect.com/browse.jsp?id=wgd_april\" target=\"_blank\" data-component=\"externalLink\">FreshDirect went all-in on bunnies</a> for its joke, which includes a mini-documentary about a rabbit trainer named Ned Hopper who collects fresh herbs harvested by his herd. The FreshDirect blog also features a <a href=\"https://blog.freshdirect.com/rabbit-foraged-herbs-meet-every-bunny/\" target=\"_blank\" data-component=\"externalLink\">series of adorable bunny biographies</a>.</p><p>Fast-food chain Carl's Jr. probably takes the prize for earliest joke this year for its March 25 Twitter announcement that it would rename its charbroiled slider sandwiches \"SpielBurgers\" in honor of director Steven Spielberg's \"<a href=\"http://www.metacritic.com/movie/ready-player-one\" target=\"_blank\" data-component=\"externalLink\">Ready Player One</a>\" opening this weekend.  </p><p lang=\"en\" dir=\"ltr\">In honor of Steven Spielberg’s <a href=\"https://twitter.com/hashtag/ReadyPlayerOne?src=hash&amp;ref_src=twsrc%5Etfw\" target=\"_blank\" data-component=\"externalLink\">#ReadyPlayerOne</a>, we’re changing the name of our Charbroiled Sliders to <a href=\"https://twitter.com/hashtag/SpielBurgers?src=hash&amp;ref_src=twsrc%5Etfw\" target=\"_blank\" data-component=\"externalLink\">#SpielBurgers</a>. Spielberg hasn’t signed off yet, but we assume he’s cool with it. <a href=\"https://t.co/bdpRH0s8fo\" target=\"_blank\" data-component=\"externalLink\">pic.twitter.com/bdpRH0s8fo</a></p><p>Spielberg didn't exactly play along, <a href=\"https://twitter.com/AmblinEnt/status/978732170788286464\" target=\"_blank\" data-component=\"externalLink\">posting his own response</a> telling Carl's Jr. the sliders were \"pretty good,\" but that the chain would need to \"cease and desist.\" Still, it seems likely this is just all part of the marketing around the movie. </p><p>Car maker <a href=\"http://www.lexus.com/geneticselect/\" target=\"_blank\" data-component=\"externalLink\">Lexus teamed up with DNA-analysis company 23andMe</a> to help customers find the perfect vehicle to match their genetics. Lexus promises to deliver a custom-built Lexus within 48 hours after your spit-test DNA analysis. The vehicle even comes with a genetically personalized new-car smell. The kicker comes at the end of the ad when the driver starts the car using a very unusual method. </p><p>Sparkling-water machine-maker SodaStream applied its carbonation technology to a fake product called <a href=\"https://getsodasoak.com/\" target=\"_blank\" data-component=\"externalLink\">SodaSoak</a> that adds bubbles to your bath water. It even recruited \"Game of Thrones\" actor Hafþór Júlíus Björnsson, who plays The Mountain, for the faux commercial. </p><p>BBC and ITV's BritBox streaming-video service knows the accents on its shows can be hard for some Americans to understand. Its April Fools' joke, called Interp-Brit, adds a button to the video player that switches all the dialogue over to American voices. Just wait until you hear a \"Doctor Who\" Dalek utter \"exterminate\" in a bored American accent. </p><p>Language app <a href=\"/tags/duolingo/\" data-annotation=\"true\" data-component=\"linkTracker\" data-link-tracker-options='{\"action\":\"inline-annotation|Duolingo|CNET_TAG|183\"}'>Duolingo</a> is getting a little sudsy for April Fools' Day with the introduction of <a href=\"http://brewolingo.duolingo.com/\" target=\"_blank\" data-component=\"externalLink\">Brewolingo</a>, a lineup of fictional beers that will help you learn a language just by imbibing them. \"True fluency comes from a mix of consistent studying, cultural immersion, and getting tipsy,\" a press release quotes Duolingo co-founder Luis von Ahn saying. The joke plays on actual <a href=\"http://journals.sagepub.com/doi/abs/10.1177/0269881117735687?journalCode=jopa&amp;\" target=\"_blank\" data-component=\"externalLink\">research showing alcohol consumption can improve foreign language skills</a>. </p><p>Sip some beer and improve your language skills at the same time.</p><p>Self-storage company Life Storage introduced a sweetly goofy-looking AI-powered <a href=\"https://www.lifestorage.com/howie/\" target=\"_blank\" data-component=\"externalLink\">storage valet robot named Howie</a>. Howie looks like a moving box, but is eager to help people pack and stash their gear. The robot's charming incompetence puts this one in the running for cutest April Fools' joke of the year. </p><p>Eyewear brand Warby Parker got together with fast-food giant Arby's to explore the synergy between glasses and meat through a <a href=\"http://trywarbys.com\" target=\"_blank\" data-component=\"externalLink\">WArby's collaboration</a>. The joke video about the partnership promotes an onion-ring monocle.  </p><p>There is a crossover into reality with this prank as some real WArby's merchandise will be available at Warby Parker stores in New York City over April Fools' weekend. The monocles will also be available at a couple of New York City \"WArby's\" locations for a limited time. </p><p>Online textbook rental company Chegg introduced the <a href=\"http://www.chegg.com/play/memory-foam-pillow/\" target=\"_blank\" data-component=\"externalLink\">Osmosis Learning Pillow</a>, a memory-foam pillow that pounds knowledge into your head while you sleep. All you have to do is put your textbooks underneath it and snooze.  </p><p>We'll update this post as April Fools' Day jokes continue to arrive, so keep an eye out for the latest and craziest prank developments. </p><p>First published, March 28, 12:04 p.m.<br><strong>Updates:<br>March 31 at 11:11 a.m. PT:</strong> Adds Josh Ultra, Adam, Sprint Magic Ball and Beautiful Bond Salon.<strong><br>March 30 at 9:26 a.m. PT:</strong> Adds T-Mobile, Chocolate Whopper, Roku, BlaqPaks and Labelie.<br><strong>March 29 at 4:06 p.m. PT:</strong> Adds HouzzCoinzz, FlexChoc, Porch Privacy Protection, Honda CR-V Roadster and Tongueprinting.<br><strong>March 29 at 8:36 a.m. PT:</strong> Adds ShareBED, Ramen Opticals, Scentsible Wallpaper, Rent the Runway for Dogs, Google Shrine and rabbit-foraged herbs.</p><p><a href=\"https://www.cnet.com/its-complicated/\">It's Complicated</a>: This is dating in the age of apps. Having fun yet? </p><p><a href=\"https://www.cnet.com/batteries-not-included/\">Batteries Not Included</a>: The CNET team reminds us why tech is cool. </p>\n",
      "\n",
      "<p>It appears that <span class=\"link\" section=\"shortcodeLink\"><a href=\"/news/china-tiangong-1-space-station-crash-is-scary/\">China's \"Heavenly Palace\" or Tiangong-1 space station</a></span> may want its last big show to be taken seriously. The out-of-control hunk of space junk has been expected to re-enter Earth's atmosphere on Sunday, April Fool's Day, but the most recent predictions show the 9-ton craft's fiery return slipping to later Sunday or perhaps early Monday. </p><p>Lower than expected solar activity is allowing Tiangong-1 to stay aloft a little longer than expected, <a href=\"http://blogs.esa.int/rocketscience/2018/03/26/tiangong-1-reentry-updates/\" target=\"_blank\" data-component=\"externalLink\">according to the European Space Agency</a>. ESA now predicts the space station will enter our atmosphere and begin to break apart at 4:25 p.m. PT Sunday, give or take several hours. The Center for Orbital and Reentry Debris Studies is making almost exactly the same prediction as of Saturday. </p><p>China, meanwhile, is hedging with a particularly wide prediction window. <a href=\"http://en.cmse.gov.cn/art/2018/3/31/art_1763_32412.html\" target=\"_blank\" data-component=\"externalLink\">China Manned Space is simply predicting</a> that its wayward space station will re-enter sometime between Sunday and Tuesday, Beijing time. </p><p>Remember, there's almost certainly no reason to worry about any damage from pieces of Tiangong-1 that make it all the way to the ground, but as I outlined earlier, <span class=\"link\" section=\"shortcodeLink\"><a href=\"/news/china-tiangong-1-space-station-crash-is-scary/\">it's understandable to be concerned</a></span>. </p><p lang=\"en\" dir=\"ltr\">Another reason not to worry about <a href=\"https://twitter.com/hashtag/Tiangong1?src=hash&amp;ref_src=twsrc%5Etfw\" target=\"_blank\" data-component=\"externalLink\">#Tiangong1</a>: it barely registers on the list of large reentries (data credit: Jonathan McDowell) <a href=\"https://t.co/AgYLlwi1sh\" target=\"_blank\" data-component=\"externalLink\">pic.twitter.com/AgYLlwi1sh</a></p><p>For more on Tiangong-1's final hours, check out <span class=\"link\" section=\"shortcodeLink\"><a href=\"/news/china-space-station-heavenly-palace-tiangong-1-may-crash-march-april/\">my basic primer</a></span>. If you see Tiangong-1 streaking across the sky, take a video and tweet it at me <a href=\"https://twitter.com/ericcmack\" target=\"_blank\" data-component=\"externalLink\">@EricCMack</a>.</p><p>Stay tuned for more updates as the Heavenly Palace's fall from the heavens draws closer. </p>\n",
      "\n",
      "<p lang=\"en\" dir=\"ltr\"><a href=\"https://twitter.com/hashtag/Solo?src=hash&amp;ref_src=twsrc%5Etfw\" target=\"_blank\" data-component=\"externalLink\">#Solo</a> vfx review with <a href=\"https://twitter.com/hashtag/ILM?src=hash&amp;ref_src=twsrc%5Etfw\" target=\"_blank\" data-component=\"externalLink\">#ILM</a> today at <a href=\"https://twitter.com/hashtag/SkywalkerRanch?src=hash&amp;ref_src=twsrc%5Etfw\" target=\"_blank\" data-component=\"externalLink\">#SkywalkerRanch</a> <a href=\"https://t.co/SeXUEu6XKL\" target=\"_blank\" data-component=\"externalLink\">pic.twitter.com/SeXUEu6XKL</a></p><p>An explosive TIE Fighter battle looks to be flying into \"<span class=\"link\" section=\"shortcodeLink\"><a href=\"/news/solo-a-star-wars-story-everything-we-know/\">Solo: A Star Wars Story</a></span>.\"</p><p>Director Ron Howard teased a video effects sequence on Twitter Saturday, showing the Empire's ship firing its lasers as an exploding ship appears behind it. Howard notes that the scene is currently undergoing a visual effects review at Industrial Light and Magic, a division of Lucasfilm.</p><p>The peek comes just hours after Howard tweeted that the <a href=\"https://twitter.com/RealRonHoward/status/979884950848589824\" target=\"_blank\" data-component=\"externalLink\">edit of the film is now locked</a> and the score has been completed, further noting that <a href=\"https://twitter.com/RealRonHoward/status/979811687464235008\" target=\"_blank\" data-component=\"externalLink\">the film's ahead of schedule</a>. Another trailer is expected sometime before the film's debut, <a href=\"https://twitter.com/RealRonHoward/status/979890652044394497\" target=\"_blank\" data-component=\"externalLink\">Howard said in response to a fan's tweet</a>.</p><p>\"Solo: A Star Wars Story\" stars Alden Ehrenreich as a younger Han Solo, and will depict how he, Chewbacca (Joonas Suotamo) and Lando Calrissian (Donald Glover) meet each other. <span class=\"link\" section=\"shortcodeLink\"><a href=\"/news/solo-a-star-wars-story-lucasfilm-synopsis-han-chewbacca-lando/\">According to the film's synopsis</a></span>, this will involve \"a series of daring escapades deep within a dark and dangerous criminal underworld.\" </p><p>Emilia Clarke (\"Game of Thrones\"), Thandie Newton (\"Westworld\"), Woody Harrelson (\"The Hunger Games\"), Paul Bettany (\"Avengers\") and Star Wars veteran actor Warwick Davis also star in the film. </p><p>\"Solo\" is scheduled to open on May 24 in Australia and May 25 in the US and UK. </p><p><a href=\"https://www.cnet.com/star-wars-at-40/\">Star Wars at 40</a>: A look at the cultural phenomenon that's been thrilling fans since the first film in 1977. </p><p><a href=\"https://www.cnet.com/crowd-control/\">Crowd Control</a>:<strong> </strong>A crowdsourced science fiction novel written by CNET readers.</p>\n",
      "\n",
      "<p>Behold the majesty of the <a href=\"http://vivaaudio.com/en/products/egoista/\" target=\"_blank\" data-component=\"externalLink\">Viva Egoista 845</a>, some might say it's too large to be a headphone amp -- it's more akin to an integrated amp -- but it's gloriously over the top. No one needs an Egoista 845, but no one needs a 789 horsepower Ferrari either, but if you have the means, why not? I think of the Egoista 845 as the 812 Superfast of headphone amps, they both exist for moneyed folks who crave the very best, practicality be damned. This much I know for sure, the Egoista 845's sound with the best headphones is va-va-voom fabulous. And at $13,800, it's a whole lot more affordable than the $335,275 <span class=\"link\" section=\"shortcodeLink\"><a href=\"/news/ferrari-812-superfast-carfection-review/\">Ferrari 812 Superfast</a></span> we covered here at CNET. </p><p>The Viva Egoista 845 headphone amplifier.</p><p>My all too brief encounter with the Egoista took place at <a href=\"http://theheadphoneannex.com/\" target=\"_blank\" data-component=\"externalLink\">the Headphone Annex</a>, at the <a href=\"http://inlivingstereo.com/\" target=\"_blank\" data-component=\"externalLink\">In Living Stereo</a> audio showroom in New York. The amp has been in production since 2014, but it's just now that I finally got to spend some quality listening time with it. Egoista certainly lived up to my expectations, the amp's sound has soul, lots of it.</p><p>Power is rated at 15 watts per channel, and while that sort of juice isn't required with most headphones, it'll come in handy with the cutting edge breed of headphones like the <span class=\"link\" section=\"shortcodeLink\"><a href=\"/news/the-audiophiliacs-top-10-full-size-headphones-for-2015/\">Audeze LCD4</a></span>, <span class=\"link\" section=\"shortcodeLink\"><a href=\"/news/listening-to-a-6k-headphone-and-loving-every-second-if-it/\">Hifiman Susvara</a></span> and the <span class=\"link\" section=\"shortcodeLink\"><a href=\"/news/abyss-ab-1266-headphones-run-5495-but-theyre-worth-it/\">Abyss AB 1266</a></span> headphones. Those power hungry beasts have humbled many a high-end headphone amp, but Egoista breathes life into those headphones. I've noted over the years that a lot of high-end headphone owners <em>collect</em> headphones, and it's those guys who buy very high-end amplifiers like the Egoista. It's good to be rich.</p><p>The amp lacks digital connectivity, analog connectivity runs to four pairs of stereo RCA inputs, and one direct input that bypasses the Egoista's preamp stages. There are separate left and right channel balanced XLR headphone jacks, two stereo XLR headphone jacks, plus two standard 6.3mm headphone jacks. For technically inclined readers the Egoista is a zero negative feedback, pure Class A circuit design with one 6N1P tube, one 6SN7GTB tube, two 845 tubes, and two EH5U4GB tubes. </p><p>The Egoista is hand crafted in Italy, and features specially designed output transformers designed for use exclusively with headphones.</p><p>The Viva Egoista 845, with Focal Utopia headphones to the left. </p><p>While you might expect the Egoista's sound might be overly rich and warm with six tubes, it never once sounded that way. The sound was neutral and stunningly clear, you never got the feeling the Egoista was coloring the sound, it certainly did not.</p><p>I listened with a few different sets of headphones, including my <span class=\"link\" section=\"shortcodeLink\"><a href=\"/news/abyss-ab-1266-headphones-run-5495-but-theyre-worth-it/\">Abyss AB-1266</a></span>, and while I know this headphone well, it sounded shockingly better with the Egoista. First the midrange was more natural with voices, it sounded more human than I've heard from this or any other headphone before. The purity of the sound, the sheer immediacy of it grabbed and held my attention. The AB-1266's out-of-head imaging is always a treat, but it's even more so with the Egoista. The Focal Utopia headphone was beyond vivid, and even the more affordable headphones like the $599<a href=\"http://personal.audioquest.com/\" target=\"_blank\" data-component=\"externalLink\"> AudioQuest NightHawk </a>was transformed by the Egoista. </p><p>If the <a href=\"http://vivaaudio.com/en/products/egoista/\" target=\"_blank\" data-component=\"externalLink\">Viva Egoista 845's</a> price is out of bounds the company also offers the somewhat smaller Egoista 2A3 tube headphone amp for $9,750 in the US. The prices are for the amps in Viva's standard painted finishes, custom ordered automotive paint finished amps are available for a $500 upcharge for either Egoista amp.</p>\n",
      "\n"
     ]
    }
   ],
   "source": [
    "for blog in open('blog-text.txt'):\n",
    "    print(blog)"
   ]
  },
  {
   "cell_type": "markdown",
   "metadata": {},
   "source": [
    "# NLTK\n",
    "NLTK is the library used for text processing. The library is familiar but one more use of the different functions will be to summarise the text. There are two basic types of text summarisation :\n",
    "- Extractive technique : this will just take the important statements from the prose and be presented as the summary\n",
    "- Abstractive technique : this will make a short summary from all the statements by making the summary from scratch. \n",
    "\n",
    "In this tutorial, the extractive technique is used. For demo purpose, just the first blog from the blogs file is used and processed upon. As it is an HTML file, the tags are removed and the apostrophes and other characters are also removed. The other changed to make sure the sentence is well formatted is done before starting to process it."
   ]
  },
  {
   "cell_type": "code",
   "execution_count": 84,
   "metadata": {},
   "outputs": [
    {
     "name": "stdout",
     "output_type": "stream",
     "text": [
      "I'll cut right to the chase: the Dayton Audio MK402BT two-speaker system fills a room better than any single speaker could: whether thats a $349 Apple HomePod or a $399 Google Home Max smart speaker. The big advantage of bona fide stereo separation is hard to beat for the money; the MK402BT sells for just $98 a pair. The Dayton Audio MK402BT speakersWhen I had them spread five feet apart the MK402BTs' stereo was wonderfully spacious with a fair degree of soundstage depth. While I didn't have a HomePod or Home Max on hand for direct comparisons I know those bad boys deliver more potent bass. Still the MK402BT's bass is definitely adequate. The MK402BT speakers are the active version of one of our new favorite budget designs: the MK402. As well as offering a wired connection they also include Bluetooth connectivity.  Like the original this is a two-way speaker with a 4-inch treated paper woofer and a 0. 75-inch soft dome tweeter. The internal power amplifier is rated at 20 watts per channel. The cabinet is finished in a black vinyl wrapped and a set of removable black cloth grilles. Each MK402BT measures 9. 5 by 5. 75 by 6. 6 inches. The top panel of the right MK402BT speaker has volume up/down buttons a Mode button that switches between wired and Bluetooth operation and a play/pause button for Bluetooth playback. You can also control volume from your phone. The right speaker's rear panel hosts a 3. 5mm stereo analog input jack and the speaker output connectors you'll use to hook up to the left speaker with the included 6. 5 foot long cable. Please note the speakers rear panels have bass ports so don't jam them right up against the wall a couple of inches of clearance will do. If you're cramped for space feel free to put the two MK402BT speakers right alongside each other. I'm not claiming the MK402BT will satisfy fussy audiophiles -- the sound has an edge that grates when the speakers are played at moderate or loud volume. That said the MK402BT's sound quality improves when you turn off Bluetooth and go for a wired connection with my iPhone 6S. Yes wired connections have a tendency to sound better than Bluetooth and this was the case with the MK402BT. With a wired connection the MK402BT sound is on par with what I recall from my recent listening sessions with the passive (non-amplified) Dayton Audio MK402 speakers that sell for $69 a pair. If you don't care about Bluetooth and have an amplifier or receiver the MK402 is a sweet little speaker for the money.  I set up the MK402BTs in my wife's studio with the speakers in the corners of the 10-foot-wide room so stereo separation was impressive. Listening to the \"Isle of Dogs\" film soundtrack with its pounding drums and percussion the little MK402BTs belted out decent impact. With Yo La Tengo's new album \"There's a Riot Going On\" the sound mix emphasizes space and atmosphere; the MK402BTs let me hear all of that in ways that a single HomePod or Home Max cannot. I mostly listened to the MK402BT via Bluetooth because that's how I imagine most people will use these speakers and my main complaint was the treble isn't all that clear. Opting for the wired connection helps smooth out the treble a bit.  One minor annoyance: when you turn on the MK402BT speakers they play an annoying sound effect and as far as I can tell there's no way to stop it from doing that. Still for $98 Bluetooth speakers the Dayton Audio MK402BT sounds like a really good deal to me. \n"
     ]
    }
   ],
   "source": [
    "import nltk\n",
    "import re\n",
    "\n",
    "f = open('blog-text.txt').readline()\n",
    "text = re.sub('<.*?>','', f)\n",
    "text = text.replace(\"\\\\\",\"'\")\n",
    "text = text.replace('\\n',\"\")\n",
    "text = text.replace(\",\", \"\")\n",
    "text = text.replace(\" .\",'.')\n",
    "text = text.replace(\". \",'.')\n",
    "text = text.replace(\".\",\". \")\n",
    "text = text.replace(\"?\", \"\")\n",
    "print(text)"
   ]
  },
  {
   "cell_type": "markdown",
   "metadata": {},
   "source": [
    "Now, following are the steps for summarization of the blog above:\n",
    "\n",
    "### STEP 1 : \n",
    "Remove the english stopwords from the words in the blog. Tokenize the blog. This means that making a list of the number of distinct words in text. After that a lemmatiser is used to convert all forms of a similar meaning words to the same format."
   ]
  },
  {
   "cell_type": "code",
   "execution_count": 85,
   "metadata": {
    "collapsed": true
   },
   "outputs": [],
   "source": [
    "from nltk.corpus import stopwords\n",
    "from nltk.tokenize import word_tokenize, sent_tokenize"
   ]
  },
  {
   "cell_type": "code",
   "execution_count": 86,
   "metadata": {},
   "outputs": [],
   "source": [
    "stopWords = set(stopwords.words(\"english\"))\n",
    "words = word_tokenize(text)\n",
    "lemmatizer=nltk.stem.wordnet.WordNetLemmatizer()\n",
    "words=[lemmatizer.lemmatize(x) for x in words]"
   ]
  },
  {
   "cell_type": "code",
   "execution_count": 87,
   "metadata": {},
   "outputs": [
    {
     "name": "stdout",
     "output_type": "stream",
     "text": [
      "['I', \"'ll\", 'cut', 'right', 'to', 'the', 'chase', ':', 'the', 'Dayton', 'Audio', 'MK402BT', 'two-speaker', 'system', 'fill', 'a', 'room', 'better', 'than', 'any', 'single', 'speaker', 'could', ':', 'whether', 'thats', 'a', '$', '349', 'Apple', 'HomePod', 'or', 'a', '$', '399', 'Google', 'Home', 'Max', 'smart', 'speaker', '.', 'The', 'big', 'advantage', 'of', 'bona', 'fide', 'stereo', 'separation', 'is', 'hard', 'to', 'beat', 'for', 'the', 'money', ';', 'the', 'MK402BT', 'sell', 'for', 'just', '$', '98', 'a', 'pair', '.', 'The', 'Dayton', 'Audio', 'MK402BT', 'speakersWhen', 'I', 'had', 'them', 'spread', 'five', 'foot', 'apart', 'the', 'MK402BTs', \"'\", 'stereo', 'wa', 'wonderfully', 'spacious', 'with', 'a', 'fair', 'degree', 'of', 'soundstage', 'depth', '.', 'While', 'I', 'did', \"n't\", 'have', 'a', 'HomePod', 'or', 'Home', 'Max', 'on', 'hand', 'for', 'direct', 'comparison', 'I', 'know', 'those', 'bad', 'boy', 'deliver', 'more', 'potent', 'bass', '.', 'Still', 'the', 'MK402BT', \"'s\", 'bass', 'is', 'definitely', 'adequate', '.', 'The', 'MK402BT', 'speaker', 'are', 'the', 'active', 'version', 'of', 'one', 'of', 'our', 'new', 'favorite', 'budget', 'design', ':', 'the', 'MK402', '.', 'As', 'well', 'a', 'offering', 'a', 'wired', 'connection', 'they', 'also', 'include', 'Bluetooth', 'connectivity', '.', 'Like', 'the', 'original', 'this', 'is', 'a', 'two-way', 'speaker', 'with', 'a', '4-inch', 'treated', 'paper', 'woofer', 'and', 'a', '0', '.', '75-inch', 'soft', 'dome', 'tweeter', '.', 'The', 'internal', 'power', 'amplifier', 'is', 'rated', 'at', '20', 'watt', 'per', 'channel', '.', 'The', 'cabinet', 'is', 'finished', 'in', 'a', 'black', 'vinyl', 'wrapped', 'and', 'a', 'set', 'of', 'removable', 'black', 'cloth', 'grille', '.', 'Each', 'MK402BT', 'measure', '9', '.', '5', 'by', '5', '.', '75', 'by', '6', '.', '6', 'inch', '.', 'The', 'top', 'panel', 'of', 'the', 'right', 'MK402BT', 'speaker', 'ha', 'volume', 'up/down', 'button', 'a', 'Mode', 'button', 'that', 'switch', 'between', 'wired', 'and', 'Bluetooth', 'operation', 'and', 'a', 'play/pause', 'button', 'for', 'Bluetooth', 'playback', '.', 'You', 'can', 'also', 'control', 'volume', 'from', 'your', 'phone', '.', 'The', 'right', 'speaker', \"'s\", 'rear', 'panel', 'host', 'a', '3', '.', '5mm', 'stereo', 'analog', 'input', 'jack', 'and', 'the', 'speaker', 'output', 'connector', 'you', \"'ll\", 'use', 'to', 'hook', 'up', 'to', 'the', 'left', 'speaker', 'with', 'the', 'included', '6', '.', '5', 'foot', 'long', 'cable', '.', 'Please', 'note', 'the', 'speaker', 'rear', 'panel', 'have', 'bass', 'port', 'so', 'do', \"n't\", 'jam', 'them', 'right', 'up', 'against', 'the', 'wall', 'a', 'couple', 'of', 'inch', 'of', 'clearance', 'will', 'do', '.', 'If', 'you', \"'re\", 'cramped', 'for', 'space', 'feel', 'free', 'to', 'put', 'the', 'two', 'MK402BT', 'speaker', 'right', 'alongside', 'each', 'other', '.', 'I', \"'m\", 'not', 'claiming', 'the', 'MK402BT', 'will', 'satisfy', 'fussy', 'audiophiles', '--', 'the', 'sound', 'ha', 'an', 'edge', 'that', 'grate', 'when', 'the', 'speaker', 'are', 'played', 'at', 'moderate', 'or', 'loud', 'volume', '.', 'That', 'said', 'the', 'MK402BT', \"'s\", 'sound', 'quality', 'improves', 'when', 'you', 'turn', 'off', 'Bluetooth', 'and', 'go', 'for', 'a', 'wired', 'connection', 'with', 'my', 'iPhone', '6S', '.', 'Yes', 'wired', 'connection', 'have', 'a', 'tendency', 'to', 'sound', 'better', 'than', 'Bluetooth', 'and', 'this', 'wa', 'the', 'case', 'with', 'the', 'MK402BT', '.', 'With', 'a', 'wired', 'connection', 'the', 'MK402BT', 'sound', 'is', 'on', 'par', 'with', 'what', 'I', 'recall', 'from', 'my', 'recent', 'listening', 'session', 'with', 'the', 'passive', '(', 'non-amplified', ')', 'Dayton', 'Audio', 'MK402', 'speaker', 'that', 'sell', 'for', '$', '69', 'a', 'pair', '.', 'If', 'you', 'do', \"n't\", 'care', 'about', 'Bluetooth', 'and', 'have', 'an', 'amplifier', 'or', 'receiver', 'the', 'MK402', 'is', 'a', 'sweet', 'little', 'speaker', 'for', 'the', 'money', '.', 'I', 'set', 'up', 'the', 'MK402BTs', 'in', 'my', 'wife', \"'s\", 'studio', 'with', 'the', 'speaker', 'in', 'the', 'corner', 'of', 'the', '10-foot-wide', 'room', 'so', 'stereo', 'separation', 'wa', 'impressive', '.', 'Listening', 'to', 'the', '``', 'Isle', 'of', 'Dogs', \"''\", 'film', 'soundtrack', 'with', 'it', 'pounding', 'drum', 'and', 'percussion', 'the', 'little', 'MK402BTs', 'belted', 'out', 'decent', 'impact', '.', 'With', 'Yo', 'La', 'Tengo', \"'s\", 'new', 'album', '``', 'There', \"'s\", 'a', 'Riot', 'Going', 'On', \"''\", 'the', 'sound', 'mix', 'emphasizes', 'space', 'and', 'atmosphere', ';', 'the', 'MK402BTs', 'let', 'me', 'hear', 'all', 'of', 'that', 'in', 'way', 'that', 'a', 'single', 'HomePod', 'or', 'Home', 'Max', 'can', 'not', '.', 'I', 'mostly', 'listened', 'to', 'the', 'MK402BT', 'via', 'Bluetooth', 'because', 'that', \"'s\", 'how', 'I', 'imagine', 'most', 'people', 'will', 'use', 'these', 'speaker', 'and', 'my', 'main', 'complaint', 'wa', 'the', 'treble', 'is', \"n't\", 'all', 'that', 'clear', '.', 'Opting', 'for', 'the', 'wired', 'connection', 'help', 'smooth', 'out', 'the', 'treble', 'a', 'bit', '.', 'One', 'minor', 'annoyance', ':', 'when', 'you', 'turn', 'on', 'the', 'MK402BT', 'speaker', 'they', 'play', 'an', 'annoying', 'sound', 'effect', 'and', 'a', 'far', 'a', 'I', 'can', 'tell', 'there', \"'s\", 'no', 'way', 'to', 'stop', 'it', 'from', 'doing', 'that', '.', 'Still', 'for', '$', '98', 'Bluetooth', 'speaker', 'the', 'Dayton', 'Audio', 'MK402BT', 'sound', 'like', 'a', 'really', 'good', 'deal', 'to', 'me', '.']\n"
     ]
    }
   ],
   "source": [
    "print(words)"
   ]
  },
  {
   "cell_type": "markdown",
   "metadata": {},
   "source": [
    "## STEP 2 :\n",
    "Make a dictionary of how many words appear how many times in the words list."
   ]
  },
  {
   "cell_type": "code",
   "execution_count": 102,
   "metadata": {
    "collapsed": true
   },
   "outputs": [],
   "source": [
    "word_dict = dict()\n",
    "for word in words:\n",
    "    word = word.lower()\n",
    "    if word in stopWords:\n",
    "        continue\n",
    "    if word in word_dict:\n",
    "        word_dict[word] += 1\n",
    "    else:\n",
    "        word_dict[word] = 1"
   ]
  },
  {
   "cell_type": "code",
   "execution_count": 103,
   "metadata": {},
   "outputs": [
    {
     "name": "stdout",
     "output_type": "stream",
     "text": [
      "{\"'ll\": 2, 'cut': 1, 'right': 5, 'chase': 1, ':': 4, 'dayton': 4, 'audio': 4, 'mk402bt': 15, 'two-speaker': 1, 'system': 1, 'fill': 1, 'room': 2, 'better': 2, 'single': 2, 'speaker': 17, 'could': 1, 'whether': 1, 'thats': 1, '$': 5, '349': 1, 'apple': 1, 'homepod': 3, '399': 1, 'google': 1, 'home': 3, 'max': 3, 'smart': 1, '.': 34, 'big': 1, 'advantage': 1, 'bona': 1, 'fide': 1, 'stereo': 4, 'separation': 2, 'hard': 1, 'beat': 1, 'money': 2, ';': 2, 'sell': 2, '98': 2, 'pair': 2, 'speakerswhen': 1, 'spread': 1, 'five': 1, 'foot': 2, 'apart': 1, 'mk402bts': 4, \"'\": 1, 'wa': 4, 'wonderfully': 1, 'spacious': 1, 'fair': 1, 'degree': 1, 'soundstage': 1, 'depth': 1, \"n't\": 4, 'hand': 1, 'direct': 1, 'comparison': 1, 'know': 1, 'bad': 1, 'boy': 1, 'deliver': 1, 'potent': 1, 'bass': 3, 'still': 2, \"'s\": 8, 'definitely': 1, 'adequate': 1, 'active': 1, 'version': 1, 'one': 2, 'new': 2, 'favorite': 1, 'budget': 1, 'design': 1, 'mk402': 3, 'well': 1, 'offering': 1, 'wired': 6, 'connection': 5, 'also': 2, 'include': 1, 'bluetooth': 8, 'connectivity': 1, 'like': 2, 'original': 1, 'two-way': 1, '4-inch': 1, 'treated': 1, 'paper': 1, 'woofer': 1, '0': 1, '75-inch': 1, 'soft': 1, 'dome': 1, 'tweeter': 1, 'internal': 1, 'power': 1, 'amplifier': 2, 'rated': 1, '20': 1, 'watt': 1, 'per': 1, 'channel': 1, 'cabinet': 1, 'finished': 1, 'black': 2, 'vinyl': 1, 'wrapped': 1, 'set': 2, 'removable': 1, 'cloth': 1, 'grille': 1, 'measure': 1, '9': 1, '5': 3, '75': 1, '6': 3, 'inch': 2, 'top': 1, 'panel': 3, 'ha': 2, 'volume': 3, 'up/down': 1, 'button': 3, 'mode': 1, 'switch': 1, 'operation': 1, 'play/pause': 1, 'playback': 1, 'control': 1, 'phone': 1, 'rear': 2, 'host': 1, '3': 1, '5mm': 1, 'analog': 1, 'input': 1, 'jack': 1, 'output': 1, 'connector': 1, 'use': 2, 'hook': 1, 'left': 1, 'included': 1, 'long': 1, 'cable': 1, 'please': 1, 'note': 1, 'port': 1, 'jam': 1, 'wall': 1, 'couple': 1, 'clearance': 1, \"'re\": 1, 'cramped': 1, 'space': 2, 'feel': 1, 'free': 1, 'put': 1, 'two': 1, 'alongside': 1, \"'m\": 1, 'claiming': 1, 'satisfy': 1, 'fussy': 1, 'audiophiles': 1, '--': 1, 'sound': 7, 'edge': 1, 'grate': 1, 'played': 1, 'moderate': 1, 'loud': 1, 'said': 1, 'quality': 1, 'improves': 1, 'turn': 2, 'go': 1, 'iphone': 1, '6s': 1, 'yes': 1, 'tendency': 1, 'case': 1, 'par': 1, 'recall': 1, 'recent': 1, 'listening': 2, 'session': 1, 'passive': 1, '(': 1, 'non-amplified': 1, ')': 1, '69': 1, 'care': 1, 'receiver': 1, 'sweet': 1, 'little': 2, 'wife': 1, 'studio': 1, 'corner': 1, '10-foot-wide': 1, 'impressive': 1, '``': 2, 'isle': 1, 'dogs': 1, \"''\": 2, 'film': 1, 'soundtrack': 1, 'pounding': 1, 'drum': 1, 'percussion': 1, 'belted': 1, 'decent': 1, 'impact': 1, 'yo': 1, 'la': 1, 'tengo': 1, 'album': 1, 'riot': 1, 'going': 1, 'mix': 1, 'emphasizes': 1, 'atmosphere': 1, 'let': 1, 'hear': 1, 'way': 2, 'mostly': 1, 'listened': 1, 'via': 1, 'imagine': 1, 'people': 1, 'main': 1, 'complaint': 1, 'treble': 2, 'clear': 1, 'opting': 1, 'help': 1, 'smooth': 1, 'bit': 1, 'minor': 1, 'annoyance': 1, 'play': 1, 'annoying': 1, 'effect': 1, 'far': 1, 'tell': 1, 'stop': 1, 'really': 1, 'good': 1, 'deal': 1}\n"
     ]
    }
   ],
   "source": [
    "print(word_dict)"
   ]
  },
  {
   "cell_type": "markdown",
   "metadata": {},
   "source": [
    "## STEP 3 :\n",
    "Now, to extract the most important sentences related to the blog, the sentence tokenization is also used. "
   ]
  },
  {
   "cell_type": "code",
   "execution_count": 108,
   "metadata": {
    "collapsed": true
   },
   "outputs": [],
   "source": [
    "sentences = sent_tokenize(text)\n",
    "sentence_score = [0]*len(sentences)"
   ]
  },
  {
   "cell_type": "code",
   "execution_count": 109,
   "metadata": {},
   "outputs": [
    {
     "name": "stdout",
     "output_type": "stream",
     "text": [
      "[\"I'll cut right to the chase: the Dayton Audio MK402BT two-speaker system fills a room better than any single speaker could: whether thats a $349 Apple HomePod or a $399 Google Home Max smart speaker.\", 'The big advantage of bona fide stereo separation is hard to beat for the money; the MK402BT sells for just $98 a pair.', \"The Dayton Audio MK402BT speakersWhen I had them spread five feet apart the MK402BTs' stereo was wonderfully spacious with a fair degree of soundstage depth.\", \"While I didn't have a HomePod or Home Max on hand for direct comparisons I know those bad boys deliver more potent bass.\", \"Still the MK402BT's bass is definitely adequate.\", 'The MK402BT speakers are the active version of one of our new favorite budget designs: the MK402.', 'As well as offering a wired connection they also include Bluetooth connectivity.', 'Like the original this is a two-way speaker with a 4-inch treated paper woofer and a 0.', '75-inch soft dome tweeter.', 'The internal power amplifier is rated at 20 watts per channel.', 'The cabinet is finished in a black vinyl wrapped and a set of removable black cloth grilles.', 'Each MK402BT measures 9.', '5 by 5.', '75 by 6.', '6 inches.', 'The top panel of the right MK402BT speaker has volume up/down buttons a Mode button that switches between wired and Bluetooth operation and a play/pause button for Bluetooth playback.', 'You can also control volume from your phone.', \"The right speaker's rear panel hosts a 3.\", \"5mm stereo analog input jack and the speaker output connectors you'll use to hook up to the left speaker with the included 6.\", '5 foot long cable.', \"Please note the speakers rear panels have bass ports so don't jam them right up against the wall a couple of inches of clearance will do.\", \"If you're cramped for space feel free to put the two MK402BT speakers right alongside each other.\", \"I'm not claiming the MK402BT will satisfy fussy audiophiles -- the sound has an edge that grates when the speakers are played at moderate or loud volume.\", \"That said the MK402BT's sound quality improves when you turn off Bluetooth and go for a wired connection with my iPhone 6S.\", 'Yes wired connections have a tendency to sound better than Bluetooth and this was the case with the MK402BT.', 'With a wired connection the MK402BT sound is on par with what I recall from my recent listening sessions with the passive (non-amplified) Dayton Audio MK402 speakers that sell for $69 a pair.', \"If you don't care about Bluetooth and have an amplifier or receiver the MK402 is a sweet little speaker for the money.\", \"I set up the MK402BTs in my wife's studio with the speakers in the corners of the 10-foot-wide room so stereo separation was impressive.\", 'Listening to the \"Isle of Dogs\" film soundtrack with its pounding drums and percussion the little MK402BTs belted out decent impact.', 'With Yo La Tengo\\'s new album \"There\\'s a Riot Going On\" the sound mix emphasizes space and atmosphere; the MK402BTs let me hear all of that in ways that a single HomePod or Home Max cannot.', \"I mostly listened to the MK402BT via Bluetooth because that's how I imagine most people will use these speakers and my main complaint was the treble isn't all that clear.\", 'Opting for the wired connection helps smooth out the treble a bit.', \"One minor annoyance: when you turn on the MK402BT speakers they play an annoying sound effect and as far as I can tell there's no way to stop it from doing that.\", 'Still for $98 Bluetooth speakers the Dayton Audio MK402BT sounds like a really good deal to me.']\n"
     ]
    }
   ],
   "source": [
    "print(sentences)"
   ]
  },
  {
   "cell_type": "markdown",
   "metadata": {},
   "source": [
    "## STEP 4 : \n",
    "Find the importance of the sentence. The importance of the sentence is basically the sum of frequencies of all the words in the sentence."
   ]
  },
  {
   "cell_type": "code",
   "execution_count": 110,
   "metadata": {
    "collapsed": true
   },
   "outputs": [],
   "source": [
    "for index,sentence in enumerate(sentences):\n",
    "    for wordValue in word_dict:        \n",
    "        if wordValue[0] in sentence.lower():\n",
    "            sentence_score[index] += word_dict[wordValue]"
   ]
  },
  {
   "cell_type": "code",
   "execution_count": 111,
   "metadata": {},
   "outputs": [
    {
     "name": "stdout",
     "output_type": "stream",
     "text": [
      "[397, 339, 387, 375, 286, 362, 312, 303, 278, 327, 366, 252, 66, 73, 157, 372, 289, 243, 363, 172, 384, 381, 388, 393, 331, 388, 381, 371, 364, 383, 374, 360, 385, 329]\n"
     ]
    }
   ],
   "source": [
    "print(sentence_score)"
   ]
  },
  {
   "cell_type": "markdown",
   "metadata": {},
   "source": [
    "## STEP 5 :\n",
    "Calculating the average of the scores of the sentences. The threshold to select the important statements, I am keeping it as 1.2 * average here. This is because the summary should be a shorter one according to me. But, if someone prefers a slightly bigger summary then the threshold can be kept as the average itself. So, according to the threshold choose the sentences necessary and build the summary. "
   ]
  },
  {
   "cell_type": "code",
   "execution_count": 113,
   "metadata": {},
   "outputs": [
    {
     "name": "stdout",
     "output_type": "stream",
     "text": [
      "321.5\n"
     ]
    }
   ],
   "source": [
    "total_sum = 0\n",
    "for value in sentence_score:\n",
    "    total_sum += value\n",
    "average = total_sum/len(sentence_score)\n",
    "print(average)"
   ]
  },
  {
   "cell_type": "code",
   "execution_count": 114,
   "metadata": {},
   "outputs": [
    {
     "name": "stdout",
     "output_type": "stream",
     "text": [
      "0\n",
      "2\n",
      "22\n",
      "23\n",
      "25\n"
     ]
    }
   ],
   "source": [
    "summary = \"\"\n",
    "for index,sentence in enumerate(sentences):\n",
    "    if sentence_score[index] > (1.2*average):\n",
    "        print(index)\n",
    "        summary += sentence"
   ]
  },
  {
   "cell_type": "code",
   "execution_count": 115,
   "metadata": {},
   "outputs": [
    {
     "name": "stdout",
     "output_type": "stream",
     "text": [
      "I'll cut right to the chase: the Dayton Audio MK402BT two-speaker system fills a room better than any single speaker could: whether thats a $349 Apple HomePod or a $399 Google Home Max smart speaker.The Dayton Audio MK402BT speakersWhen I had them spread five feet apart the MK402BTs' stereo was wonderfully spacious with a fair degree of soundstage depth.I'm not claiming the MK402BT will satisfy fussy audiophiles -- the sound has an edge that grates when the speakers are played at moderate or loud volume.That said the MK402BT's sound quality improves when you turn off Bluetooth and go for a wired connection with my iPhone 6S.With a wired connection the MK402BT sound is on par with what I recall from my recent listening sessions with the passive (non-amplified) Dayton Audio MK402 speakers that sell for $69 a pair.\n"
     ]
    }
   ],
   "source": [
    "print(summary)"
   ]
  },
  {
   "cell_type": "markdown",
   "metadata": {
    "collapsed": true
   },
   "source": [
    "This is a very basic way of summarization of any texts. There are various papers and blogs talking about the other methods and algorithms used for the same. This is a very good paper that lists the various techniques which I liked: https://arxiv.org/pdf/1707.02268.pdf \n",
    "You can implement it in the second half of the tutorial to get better results."
   ]
  }
 ],
 "metadata": {
  "celltoolbar": "Raw Cell Format",
  "kernelspec": {
   "display_name": "Python 3",
   "language": "python",
   "name": "python3"
  },
  "language_info": {
   "codemirror_mode": {
    "name": "ipython",
    "version": 3
   },
   "file_extension": ".py",
   "mimetype": "text/x-python",
   "name": "python",
   "nbconvert_exporter": "python",
   "pygments_lexer": "ipython3",
   "version": "3.6.3"
  }
 },
 "nbformat": 4,
 "nbformat_minor": 2
}
