{
 "cells": [
  {
   "cell_type": "markdown",
   "metadata": {},
   "source": [
    "## Introduction\n",
    "\n",
    "This tutorial will introduce minimum spanning trees (MST) and explore algorithms that will determine the MST from a given graph. We will be introducing and implementing Kruskal's and Prim's algorithm. This tutorial will conclude by taking our implementations to find the minimum spanning tree of stock market correlation data.  "
   ]
  },
  {
   "cell_type": "markdown",
   "metadata": {},
   "source": [
    "### Table of Contents \n",
    "\n",
    "1. [Graphs 101](#Graphs-101)\n",
    "2. [MSTs](#What-is-an-MST?)\n",
    "3. [Graph Libraries](#Graph-Libraries)\n",
    "4. [Kruskal's Algorithm](#Kruskal's-Algorithm)\n",
    "5. [Prim's Algorithm](#Prim's-Algorithm)\n",
    "6. [Testing](#Testing)\n",
    "7. [Application: MST of Stock Data](#MST-Application) \n",
    "8. [Wrap up](#Wrap-Up)\n"
   ]
  },
  {
   "cell_type": "markdown",
   "metadata": {},
   "source": [
    "## Graphs 101 \n",
    "\n",
    "Please review Profesor Kolter's slides on <a href =\"http://www.datasciencecourse.org/notes/graphs/graphs.pdf\" >Graph Theory</a> for a quick overview on graph theory. As a refresher, let's review two important terms: \n",
    "\n",
    "    1. Tree: A tree is a connected graph that contains no cycles. Therefore, it is possible to go from one vertex to any other vertex in the tree, but since there are no cycles there is only one path between two nodes. \n",
    "        i.e. Binary Search Trees \n",
    "    2. Forest: A forest is a collection of trees. \n",
    "    \n",
    "<img src = \"https://www.anyline.com/wp-content/uploads/2017/10/forest.png\" style=\"width: 600px;\"> \n",
    "<br>\n",
    "    \n",
    "    \n",
    "\n",
    "Throughout the rest of this tutorial, we will be working with **weighted**, **undirected** graphs and finding their MSTs. This graph is cyclic, and is therefore not a spanning tree. \n",
    "\n",
    "<img src = \"img/graph.png\" alt=\"Drawing\" style=\"width: 400px;\"/>"
   ]
  },
  {
   "cell_type": "markdown",
   "metadata": {},
   "source": [
    "## What is an MST? \n",
    "\n",
    "We have defined a tree to be as an acyclic, undirected graph. Furthermore, a minimum spanning tree is the lightest weighted tree that can be formed from a given graph while maintaining that all the vertices are still connected (does not become a forest like above). \n",
    "\n",
    "\n",
    "This figure shows one of the four possible spanning tree representations of the graph above. However, the weight of this graph is 42 and is not the minimum spanning tree. \n",
    "\n",
    "<img src = \"img/spanning_tree.png\" alt=\"Drawing\" style=\"width: 400px;\"/>\n",
    "\n",
    "This last figure shows the minimum spanning tree representation of the graph above. We see that the graph maintains the tree property and has the minimal weight of all the possible spanning trees. \n",
    "\n",
    "<img src = \"img/mst.png\" alt=\"Drawing\" style=\"width: 400px;\"/>\n",
    "\n",
    "From the figures above, we see some **key properties of MSTs** that will come useful when implementing our algorithms:\n",
    "    1. All the vertices in the graph are part of the MST\n",
    "    2. A subset of edges in the graph are part of the MST \n",
    "    3. The MST has exactly V-1 edges. This is because having more than V-1 edges in the tree will create a cycle, \n",
    "    and having less will create forest. \n",
    "        \n",
    "### Applications \n",
    "\n",
    "In the real world, minimum spanning trees have a wide array of $applications ^{1}$. One of the most common applications of MSTs is designing large networks to minimize cost. When designing a network such as a phone network, we need to connect all the different phone lines while minimizing the amount of wiring being used. This can be done using an MST since we can guarantee that every phone line will be connected and the network will have the lightest weight. \n",
    "\n",
    "$^{1}$For further examples on how MSTs can be applied please visit the following link to <a href = \"http://www.utdallas.edu/~besp/teaching/mst-applications.pdf\">UTDallas CS Notes</a>."
   ]
  },
  {
   "cell_type": "markdown",
   "metadata": {
    "collapsed": true
   },
   "source": [
    "## Graph Libraries\n",
    "\n",
    "To run our graphs in Python, we will be using the library called Networkx. The Networkx library has many built-in functions making it easier to query information and create small graphs. \n",
    "\n",
    "For more information on the library, please check out the library's <a href = \"https://networkx.github.io/documentation/networkx-1.10/index.html\"> manpage</a> (comments are provided in code for clarifications). For our purposes, there is no need to install any modules, instead we can use the networkx library by running the following import statement. "
   ]
  },
  {
   "cell_type": "code",
   "execution_count": 6,
   "metadata": {
    "collapsed": true
   },
   "outputs": [],
   "source": [
    "import networkx as nx "
   ]
  },
  {
   "cell_type": "code",
   "execution_count": 7,
   "metadata": {
    "collapsed": true
   },
   "outputs": [],
   "source": [
    "def createGraph(G, edges): \n",
    "    nodes = set()\n",
    "    #add the nodes to a set \n",
    "    for (i,j,_) in edges: \n",
    "        nodes.add(i)\n",
    "        nodes.add(j)\n",
    "    #add all of the edges from the edges list \n",
    "    G.add_weighted_edges_from(edges)\n",
    "    #add all of the nodes from the nodes set \n",
    "    G.add_nodes_from(list(nodes))\n",
    "    return G"
   ]
  },
  {
   "cell_type": "markdown",
   "metadata": {},
   "source": [
    "Let's create the graph from the introduction above. "
   ]
  },
  {
   "cell_type": "code",
   "execution_count": 8,
   "metadata": {
    "collapsed": true
   },
   "outputs": [],
   "source": [
    "empty = nx.Graph()\n",
    "#adding EDGE i,j will also add EDGE j,i (library takes care of it for us)\n",
    "small_graphEdges =  [( \"0\", \"1\", 10.0), (\"0\", \"3\", 17.0), \n",
    "                                (\"1\", \"2\", 8.0), (\"1\", \"4\", 1.0), \n",
    "                                (\"1\", \"3\", 12.0), (\"2\", \"3\", 6.0), \n",
    "                                (\"2\", \"4\",5.0)] \n",
    "small_graph = createGraph(empty, small_graphEdges)"
   ]
  },
  {
   "cell_type": "markdown",
   "metadata": {},
   "source": [
    "We will be using the pyplot library from matplotlib to visualize the graphs. For more information on this specific library, please visit the following <a href =\" https://matplotlib.org/api/pyplot_api.html\" > link</a>. Below is a wrapper function that will visualize the graph, but before that we must import the pyplot library from matplotlib. "
   ]
  },
  {
   "cell_type": "code",
   "execution_count": 9,
   "metadata": {
    "collapsed": true
   },
   "outputs": [],
   "source": [
    "import matplotlib.pyplot as plt "
   ]
  },
  {
   "cell_type": "code",
   "execution_count": 10,
   "metadata": {
    "collapsed": true
   },
   "outputs": [],
   "source": [
    "def visualizeGraph(G): \n",
    "    %matplotlib inline\n",
    "    nx.draw(G, with_labels = True) \n",
    "    plt.draw()\n",
    "    plt.show()"
   ]
  },
  {
   "cell_type": "markdown",
   "metadata": {
    "collapsed": true
   },
   "source": [
    "## Kruskal's Algorithm "
   ]
  },
  {
   "cell_type": "markdown",
   "metadata": {},
   "source": [
    "Kruskal's algorithm is a sequential algorithm that works to find the minimum spanning tree for a graph by finding the lightest weighted edge in the graph that has not been added minimum spanning tree yet, so long as that edge does not create a cycle with any of the edges that were already added to the minimum spanning tree.   \n",
    "\n",
    "Our implementation will look like the following: \n",
    "    1. Initialize all vertices to be their own forests\n",
    "    2. Sort all the edges by their weights \n",
    "    3. Iterate over the sorted edges \n",
    "        a. Current edge will be the lightest edge (iterating sequentially)  \n",
    "        b. Check our union-find data structure to see if this vertex forms a cycle with the current MST\n",
    "            i. If it does, ignore and continue iterating \n",
    "            ii. If it does not, add to this edge to the MST and update the union-find representation\n",
    "    3. Once all the edges have been iterated over or we have added V-1 nodes, terminate "
   ]
  },
  {
   "cell_type": "markdown",
   "metadata": {},
   "source": [
    "### Illustration\n",
    "\n",
    "<img src = \"img/krus-0.png\" alt=\"Drawing\" style=\"width: 400px;\"/>\n",
    "<center> Edge 1,4 has the lightest weight and does not form a cycle, so we add it to our MST. </center>\n",
    "\n",
    "<img src = \"img/krus-1.png\" alt=\"Drawing\" style=\"width: 400px;\"/>\n",
    "<center> We apply the same logic for edge 2,4 and then edge 2,3.  </center>\n",
    "\n",
    "<img src = \"img/krus-2.png\" alt=\"Drawing\" style=\"width: 400px;\"/>\n",
    "<center> The next lightest edge is edge 1,2. We see that adding this edge would create a cycle in the MST between nodes 1,2,4. We do not add this edge.   </center>\n",
    "\n",
    "<img src = \"img/krus-3.png\" alt=\"Drawing\" style=\"width: 400px;\"/>\n",
    "<center> The next lightest edge is edge 0,1 which will not form a cycle. Therefore, we add the edge, and terminate the process since we have V-1 edges in our MST.  </center>"
   ]
  },
  {
   "cell_type": "markdown",
   "metadata": {},
   "source": [
    "### Union-Find Data Structure \n",
    "\n",
    "We will begin by implementing the Union-Find data structure, also known as disjoint set data structure, which is necessary for us to implement Kruskal's. This data structure will help us keep track of which vertices are part of the same forest. We do this by storing node-parent pairings in a dictionary. \n",
    "\n",
    "All nodes are initilalized to be in their own forest (point to themselves), and for this reason we call them supervertices. Calling the union function will add a node and its children to forest, and the find function will take a node find the supervertex of that node's forest.  "
   ]
  },
  {
   "cell_type": "code",
   "execution_count": 11,
   "metadata": {
    "collapsed": true
   },
   "outputs": [],
   "source": [
    "class Union_Find: \n",
    "    def __init__(self, nodes):\n",
    "        self.dict = dict() \n",
    "        #initalize all nodes in their own forest\n",
    "        #all nodes are supervertices \n",
    "        for i in nodes: \n",
    "            if i not in self.dict: \n",
    "                self.dict[i] = i\n",
    "                \n",
    "    #recursively finding the super vertex of the forest given a node \n",
    "    def find( self, node ): \n",
    "        parent = self.dict[node]\n",
    "        if parent == node: \n",
    "            return node\n",
    "        else: \n",
    "            return Union_Find.find(self, parent)\n",
    "        \n",
    "    #making the node a child in the forest  \n",
    "    def union( self, v,parent ): \n",
    "        self.dict[v] = parent\n",
    "        \n",
    "    #for debugging purposes    \n",
    "    def show(self):\n",
    "        print(self.dict)\n",
    "    "
   ]
  },
  {
   "cell_type": "markdown",
   "metadata": {},
   "source": [
    "### Kruskal's Implementation"
   ]
  },
  {
   "cell_type": "code",
   "execution_count": 12,
   "metadata": {
    "collapsed": true
   },
   "outputs": [],
   "source": [
    "def sortWeights( edges1 ):\n",
    "    (_, _, w1) = edges1\n",
    "    return w1\n",
    "    \n",
    "#REQUIRES: an undirected, weighted graph \n",
    "#ENSURES: a minimum spanning tree of the given graph \n",
    "def kruskals(G): \n",
    "    #get the nodes and edges\n",
    "    nodes = G.nodes()\n",
    "    edges = G.edges()\n",
    "    \n",
    "    #list of edges in the format (i, j, weight) \n",
    "    weighted_edges = []\n",
    "    for i,j in edges: \n",
    "        weight = G[i][j]['weight']\n",
    "        weightEdge = (i, j, weight)\n",
    "        weighted_edges.append(weightEdge)\n",
    "    \n",
    "    #sort the edges in by weight (using python sorted function)\n",
    "    sorted_weights = sorted(weighted_edges, key = sortWeights)\n",
    "    \n",
    "    #initialize empty graph, which will be our MST \n",
    "    MST = nx.Graph()\n",
    "    \n",
    "    #initialize the union find data structure \n",
    "    uf = Union_Find(nodes)\n",
    "\n",
    "    #implementing step #2  \n",
    "    for (i,j,w) in sorted_weights:\n",
    "        if len(MST.edges) == ( len(nodes) -1 ): \n",
    "            #MST has been formed if we have added V-1 edges, exit loop\n",
    "            break \n",
    "            \n",
    "        #get both nodes' parents \n",
    "        i_forest = uf.find(i)\n",
    "        j_forest = uf.find(j)\n",
    "        \n",
    "        \n",
    "        if i_forest == j_forest:\n",
    "            #both i and j belong to the same forest, do not add edge because it will form a cycle\n",
    "            continue\n",
    "        elif j == j_forest: \n",
    "            #j is the supervertex of its set, so have j's forest will be added to i's forest\n",
    "            uf.union(j,i)\n",
    "            MST.add_weighted_edges_from([(i,j,w)])\n",
    "\n",
    "        else: \n",
    "            #i is either supervertex, or neither i or j are supervertices \n",
    "            uf.union(i, j)\n",
    "            MST.add_weighted_edges_from([(i,j,w)])\n",
    "        \n",
    "    return MST   "
   ]
  },
  {
   "cell_type": "markdown",
   "metadata": {},
   "source": [
    "## Prim's Algorithm\n",
    "\n",
    "Prim's algorithm is another sequential algorithm that finds the minimum spanning tree of a graph. In contrast to Kruskal's, Prim's algorithm uses a priority-queue data structure to determine which edges to add to our current MST, and a set to keep track of which nodes we have already visited. Prim's algorithm will only add an edge to our current MST if either vertex has not been visited yet. \n",
    "\n",
    "Our implementation will follow these steps: \n",
    "    1. Initialize the min-heap and initalize a visited set \n",
    "    2. Choose a random starting node and add to the visited set\n",
    "    3. Add all edges from the starting node to the min-heap \n",
    "    4. Iterate until the length of the visited set is not equal to the number of nodes in the graph \n",
    "        a. Pop off the top-most edge (which will be the most minimal edge not seen yet) \n",
    "        b. Check to make sure that both vertices from this edge are not in our visited set \n",
    "            i. If both are in visited, then ignore node and continue \n",
    "            ii. Else, add the edge to the MST and add the unvisited vertex to the visited set \n",
    "            iii. Set the new node as the starting node, so that we add the new outgoing edges from this vertex to \n",
    "                 our PQ.\n",
    "    5. Once we have finished iterating, MST will be formed "
   ]
  },
  {
   "cell_type": "markdown",
   "metadata": {},
   "source": [
    "### Illustration\n",
    "We will be starting at node 0.\n",
    "<img src = \"img/prims-1.png\" alt=\"Drawing\" style=\"width: 400px;\"/>\n",
    "<center> After adding both outgoing edges to our PQ, we see that edge 0,1 is the lighter edge, so it is added to our MST. Edge 0,3 (indicated by red) is still in our PQ.  </center> \n",
    "<img src = \"img/prims-2.png\" alt=\"Drawing\" style=\"width: 400px;\"/>\n",
    "<center> Since we just added node 1 to our MST, we now add its outgoing edges to the PQ. Edge 1,4 is the lightest edge, so we add it. Edges 0,3 and 1,3 remain in our PQ. </center> \n",
    "<img src = \"img/krus-3.png\" alt=\"Drawing\" style=\"width: 400px;\"/>\n",
    "<center> Apply the same logic and add edge 2,4 and edge 2,3 to get our MST. </center> "
   ]
  },
  {
   "cell_type": "markdown",
   "metadata": {},
   "source": [
    "### HeapDict Data Structure\n",
    "\n",
    "We will be importing the heapdict python package, which works very similarly to the in-built python dictionary while acting as a priority queue. For more information regarding this library please visit: https://pypi.python.org/pypi/HeapDict. \n",
    "\n",
    "While implementing Prim's algorithm, we will be using the pop operation from this data structure which will allow us to get the lightest edge on every iteration. "
   ]
  },
  {
   "cell_type": "code",
   "execution_count": 13,
   "metadata": {
    "collapsed": true
   },
   "outputs": [],
   "source": [
    "import heapdict "
   ]
  },
  {
   "cell_type": "markdown",
   "metadata": {},
   "source": [
    "### Prim's Algorithm Implementation"
   ]
  },
  {
   "cell_type": "code",
   "execution_count": 14,
   "metadata": {
    "collapsed": true
   },
   "outputs": [],
   "source": [
    "#REQUIRES: an undirected, weighted graph \n",
    "#ENSURES: a minimum spanning tree of the given graph \n",
    "def getFirstNode(nodes): \n",
    "    #can use any node as starting node, we take the last node from G.nodes()\n",
    "    #do not worry about this too much, it is because we cannot index into G.nodes()\n",
    "    start = None\n",
    "    for node in nodes: \n",
    "        start = node\n",
    "    return start \n",
    "\n",
    "def prims(G): \n",
    "    #initialize priority queue \n",
    "    pq = heapdict.heapdict() \n",
    "    \n",
    "    nodes = G.nodes()\n",
    "    numNodes = len(nodes)\n",
    "    \n",
    "    #initialize priority queue \n",
    "    visited = set()\n",
    "    MST = nx.Graph() \n",
    "    \n",
    "    newNode = True\n",
    "    \n",
    "    if len(nodes) > 0: \n",
    "        start = getFirstNode(nodes)\n",
    "        visited.add(start)\n",
    "        \n",
    "        while ( len(visited) != numNodes ):\n",
    "            #only add outgoing edges to PQ, if we have added a new node to our visited set\n",
    "            if newNode: \n",
    "                outgoingNewEdges = G[start]\n",
    "                for edge in outgoingNewEdges: \n",
    "                    weight = G[start][edge]['weight']\n",
    "                    pq[(start, edge)] = weight \n",
    "                    \n",
    "            #get lightest edge \n",
    "            if (len(pq) != 0):\n",
    "                ((src, new), w) = pq.popitem() \n",
    "            else: \n",
    "                raise Exception('Trying to pop from empty PQ!') \n",
    "        \n",
    "            #if we have already added this node, continue \n",
    "            if (new in visited): \n",
    "                newNode = False\n",
    "                continue \n",
    "            else: \n",
    "                #NOTE: v2 is an outgoing vertex from src, so we have already seen src and added it to visited \n",
    "                visited.add(new)\n",
    "                start = new\n",
    "                newNode = True\n",
    "                MST.add_weighted_edges_from([(src,new,w)])\n",
    "            \n",
    "        return MST \n",
    "    else: \n",
    "        print(\"returning an empty MST for an empty graph\")\n",
    "        return MST "
   ]
  },
  {
   "cell_type": "markdown",
   "metadata": {
    "collapsed": true
   },
   "source": [
    "## Testing \n",
    "\n",
    "In this part of the module we will be testing all the edges in the the MST produced by our implementations of Kruskal's and Prim's with our pre-computed MST (verified for correctness), using the function below. We first will be testing and visualizing the small graph from our introduction above. "
   ]
  },
  {
   "cell_type": "code",
   "execution_count": 15,
   "metadata": {
    "collapsed": true
   },
   "outputs": [],
   "source": [
    "def testingFunction(graph, correctGraph):\n",
    "    #check if nodes are all the same \n",
    "    assert( set( graph.nodes() ) == set( correctGraph.nodes() ) )\n",
    "    #check if edges are all the same \n",
    "    for node in graph.nodes(): \n",
    "        testEdges = graph[node] \n",
    "        correctEdges = correctGraph[node]\n",
    "    return True "
   ]
  },
  {
   "cell_type": "code",
   "execution_count": 16,
   "metadata": {},
   "outputs": [
    {
     "name": "stdout",
     "output_type": "stream",
     "text": [
      "Kruskal's graph produces the same MST graph as the introduction.\n",
      "\n",
      "Prim's graph produces the same MST graph as the introduction.\n",
      "\n",
      "Plotting the MST for the small graph above using Kruskal's.\n"
     ]
    },
    {
     "data": {
      "image/png": "[encoded data removed]",
      "text/plain": [
       "<matplotlib.figure.Figure at 0x150c9b12b0>"
      ]
     },
     "metadata": {},
     "output_type": "display_data"
    },
    {
     "name": "stdout",
     "output_type": "stream",
     "text": [
      "Plotting the MST for the small graph  above using Prim's.\n"
     ]
    },
    {
     "data": {
      "image/png": "[encoded data removed]",
      "text/plain": [
       "<matplotlib.figure.Figure at 0x150c9b1cc0>"
      ]
     },
     "metadata": {},
     "output_type": "display_data"
    }
   ],
   "source": [
    "k_mst = kruskals(small_graph)\n",
    "p_mst = prims(small_graph)\n",
    "\n",
    "smallMST = createGraph(nx.Graph(), [('0','1',10.0),('1','4',1.0),('2','4',5.0),('2','3',6.0)])\n",
    "\n",
    "if testingFunction(k_mst, smallMST):\n",
    "    print(\"Kruskal's graph produces the same MST graph as the introduction.\\n\")\n",
    "else: \n",
    "    print(\"Kruskal's graph does not produce the same MST graph as the introduction.\\n\")\n",
    "\n",
    "if testingFunction(p_mst, smallMST):\n",
    "    print(\"Prim's graph produces the same MST graph as the introduction.\\n\")\n",
    "else: \n",
    "    print(\"Prim's graph does not produce the same MST graph as the introduction.\\n\")\n",
    "    \n",
    "print(\"Plotting the MST for the small graph above using Kruskal's.\")\n",
    "visualizeGraph(k_mst)\n",
    "print(\"Plotting the MST for the small graph  above using Prim's.\")\n",
    "visualizeGraph(p_mst)"
   ]
  },
  {
   "cell_type": "markdown",
   "metadata": {},
   "source": [
    "Next we will testing our code on a larger graph, with its MST show in red in the picture below. \n",
    "\n",
    "<img src =\"img/bigGraph.png\" alt = \"Drawing\" width =\"300px\">"
   ]
  },
  {
   "cell_type": "code",
   "execution_count": 17,
   "metadata": {},
   "outputs": [
    {
     "name": "stdout",
     "output_type": "stream",
     "text": [
      "Kruskal's graph produces the same MST graph as the figure above.\n",
      "\n",
      "Prim's graph produces the same MST graph as the figure above.\n",
      "\n",
      "Plotting the MST for the big graph above using Kruskal's.\n"
     ]
    },
    {
     "data": {
      "image/png": "[encoded data removed]",
      "text/plain": [
       "<matplotlib.figure.Figure at 0x1514f8fb70>"
      ]
     },
     "metadata": {},
     "output_type": "display_data"
    },
    {
     "name": "stdout",
     "output_type": "stream",
     "text": [
      "Plotting the MST for the big graph above using Prim's.\n"
     ]
    },
    {
     "data": {
      "image/png": "[encoded data removed]",
      "text/plain": [
       "<matplotlib.figure.Figure at 0x150c9c9a20>"
      ]
     },
     "metadata": {},
     "output_type": "display_data"
    }
   ],
   "source": [
    "empty = nx.Graph()\n",
    "bigGraph_edges =  [( \"A\", \"B\", 3.0), (\"A\", \"F\", 2.0), \n",
    "                    (\"B\", \"C\", 17.0), (\"B\", \"D\", 16.0), \n",
    "                    (\"C\", \"D\", 8.0), (\"C\", \"I\", 18.0), \n",
    "                    (\"D\", \"E\",11.0), (\"D\", \"I\", 4.0), \n",
    "                    (\"E\", \"F\",1.0), (\"E\", \"H\", 5.0), \n",
    "                    (\"E\", \"G\",6.0), (\"E\", \"I\", 10.0), \n",
    "                    (\"F\", \"G\",7.0), (\"G\", \"H\",15.0),\n",
    "                   (\"H\", \"I\",12.0), (\"H\", \"J\",13.0), \n",
    "                   (\"I\", \"J\",9.0) ] \n",
    "bigGraph = createGraph(empty, bigGraph_edges)\n",
    "#run Kruskal's and Prim's to get the MSTs\n",
    "k_mst2 = kruskals(bigGraph)\n",
    "p_mst2 = prims(bigGraph)\n",
    "\n",
    "#the verified MST represented by the red lines above\n",
    "bigMSTEdges = [( \"A\", \"B\", 3.0), (\"A\", \"F\", 2.0), (\"E\", \"F\",1.0),(\"E\", \"G\",6.0), (\"E\", \"H\", 5.0), (\"E\", \"I\", 10.0),\n",
    "               (\"D\", \"I\", 4.0), (\"C\", \"D\", 8.0),  (\"I\", \"J\",9.0)]\n",
    "\n",
    "bigMST = createGraph(empty, bigMSTEdges)\n",
    "\n",
    "if testingFunction(k_mst2, bigMST):\n",
    "    print(\"Kruskal's graph produces the same MST graph as the figure above.\\n\")\n",
    "else: \n",
    "    print(\"Kruskal's graph does not produce the same MST graph as the introduction.\\n\")\n",
    "if testingFunction(p_mst2, bigMST):\n",
    "    print(\"Prim's graph produces the same MST graph as the figure above.\\n\")\n",
    "else: \n",
    "    print(\"Prim's graph does not produce the same MST graph as the introduction.\\n\")\n",
    "   \n",
    "%matplotlib inline\n",
    "print(\"Plotting the MST for the big graph above using Kruskal's.\")\n",
    "visualizeGraph(k_mst2)\n",
    "print(\"Plotting the MST for the big graph above using Prim's.\")\n",
    "visualizeGraph(p_mst2)\n"
   ]
  },
  {
   "cell_type": "markdown",
   "metadata": {},
   "source": [
    "## Application: Stock Market Visualization with MSTs"
   ]
  },
  {
   "cell_type": "markdown",
   "metadata": {},
   "source": [
    "Another use case of MSTs are to visualize very large or dense graphs in a simple and coherent representation. \n",
    "\n",
    "In this application, we take stock market correlation data between 11 different tickers. The nodes in this graph are represented by tickers such as AAPL and MSFT, while the edge and its weight between two nodes represent the correlation between those two tickers. Every node in this graph has an edge to every other node. \n",
    "\n",
    "This MST will allow fund managers to quickly visualize a set of stocks and understand how strongly correlated they are. In this case, we will soon see that strongly correlated companies will be connected together in this graph represenation. A fund manager would look at this data and want to create a portfolio of stocks that are not highly correlated to reduce its risk. Therefore, a fund manager would be most likely to look at data and add stocks that are not neighbors.  "
   ]
  },
  {
   "cell_type": "markdown",
   "metadata": {},
   "source": [
    "### Set Up Application\n",
    "\n",
    "The data for this was put into a CSV file, so we must first format the data by reading it from the CSV. "
   ]
  },
  {
   "cell_type": "code",
   "execution_count": 18,
   "metadata": {
    "collapsed": true
   },
   "outputs": [],
   "source": [
    "import csv"
   ]
  },
  {
   "cell_type": "markdown",
   "metadata": {},
   "source": [
    "When formatting the data we will first be reading every row of the CSV file. Each row will correspond to an edge. Therefore, each row is a tuple with the representation (i,j,correlation). Now, before we use this edge to run Kruskal's or Prim's we need to modify our weight. Since we want high correlations to have a low weight and a low correlations to have a high weight. We will do this by subtracting every correlation by the highest correlation possible which mathematically is 1. Then we will take the absolute value of this to make sure we have all postive edge weights.   "
   ]
  },
  {
   "cell_type": "code",
   "execution_count": 19,
   "metadata": {
    "collapsed": true
   },
   "outputs": [],
   "source": [
    "def formatData(path): \n",
    "    edges = []\n",
    "    weightedEdge = []\n",
    "    #reading each row and appending it a tuple to our edges list\n",
    "    with open(path, 'rt', encoding = 'utf-8-sig') as f:\n",
    "        reader = csv.reader(f)\n",
    "        for row in reader:\n",
    "            edges.append( tuple(row) )\n",
    "    #format the weights of every edge in our edge list so that we can run our MST algorithsm on it  \n",
    "    for edge in edges: \n",
    "        (company1, company2, corr) = edge\n",
    "        #correlation is of string type after being read, need to convert it into float\n",
    "        edge = (company1, company2, abs( 1-( float(corr) ) ) )\n",
    "        weightedEdge.append( edge )\n",
    "\n",
    "    return weightedEdge"
   ]
  },
  {
   "cell_type": "markdown",
   "metadata": {
    "collapsed": true
   },
   "source": [
    "### Running the Application "
   ]
  },
  {
   "cell_type": "code",
   "execution_count": 24,
   "metadata": {},
   "outputs": [
    {
     "name": "stdout",
     "output_type": "stream",
     "text": [
      "Prim's graph produces the same MST graph as the verified graph.\n",
      "Kruskal's graph produces the same MST graph as the verified graph.\n",
      "\n"
     ]
    },
    {
     "data": {
      "image/png": "[encoded data removed]",
      "text/plain": [
       "<matplotlib.figure.Figure at 0x15157b6940>"
      ]
     },
     "metadata": {},
     "output_type": "display_data"
    },
    {
     "data": {
      "image/png": "[encoded data removed]",
      "text/plain": [
       "<matplotlib.figure.Figure at 0x15153b0a58>"
      ]
     },
     "metadata": {},
     "output_type": "display_data"
    }
   ],
   "source": [
    "empty = nx.Graph()\n",
    "stock_edges = formatData('stock_correlations.csv')\n",
    "stock_graph = createGraph(empty, stock_edges)\n",
    "\n",
    "appMSTEdges = [('AAPL', 'MSFT', 0.06), ('AA', 'CVX', 0.29), \n",
    "               ('AA', 'IBM', 0.2),('AAPL', 'IBM', 0.13),('AAPL', 'C', 0.12),\n",
    "               ('C', 'CVS', 0.11),('C', 'HD', 0.12),('IBM', 'AAL', 0.09),\n",
    "               ('CVS', 'S', 0.14),('CVS', 'BBY', 0.20)]\n",
    "appMST = createGraph(empty, appMSTEdges)\n",
    "\n",
    "appMstPrim = prims(appMST)\n",
    "appMstKrus = kruskals(appMST)\n",
    "if testingFunction(appMstPrim,appMST):\n",
    "    print(\"Prim's graph produces the same MST graph as the verified graph.\")\n",
    "else: \n",
    "    print(\"Prim's graph does not produce the same MST graph as the introduction.\\n\")\n",
    "if testingFunction(appMstKrus,appMST):\n",
    "    print(\"Kruskal's graph produces the same MST graph as the verified graph.\\n\")\n",
    "else: \n",
    "    print(\"Kruskal's graph does not produce the same MST graph as the introduction.\\n\")\n",
    "\n",
    "visualizeGraph(appMstKrus)\n",
    "visualizeGraph(appMstPrim)"
   ]
  },
  {
   "cell_type": "markdown",
   "metadata": {
    "collapsed": true
   },
   "source": [
    "## Wrap Up \n",
    "\n",
    "In this tutorial, we covered MST basics, how to implement Kruskal's and Prim's algorithms, then used our implementations to visualize stock correlation data. For more resources visit the links throughout the module and the following links that were used to develop this tutorial: \n",
    "1. <a href = \"https://drive.google.com/file/d/0B4z2gzEmkDDCTUhKUWxJQnR0bEk/view\"> CMU 15-210 MST notes </a> \n",
    "2. <a href = \"https://arxiv.org/pdf/cond-mat/0401300.pdf\"> Stock Correlation Visualization In Depth </a>\n",
    "3. <a href = \"https://www.macroaxis.com/invest/marketCorrelation\"> Stock Correlation Data </a> "
   ]
  }
 ],
 "metadata": {
  "kernelspec": {
   "display_name": "Python 3",
   "language": "python",
   "name": "python3"
  },
  "language_info": {
   "codemirror_mode": {
    "name": "ipython",
    "version": 3
   },
   "file_extension": ".py",
   "mimetype": "text/x-python",
   "name": "python",
   "nbconvert_exporter": "python",
   "pygments_lexer": "ipython3",
   "version": "3.6.3"
  }
 },
 "nbformat": 4,
 "nbformat_minor": 2
}
