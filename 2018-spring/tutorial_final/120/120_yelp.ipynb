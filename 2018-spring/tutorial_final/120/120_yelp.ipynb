{
 "cells": [
  {
   "cell_type": "markdown",
   "metadata": {},
   "source": [
    "## Introduction\n",
    "\n",
    "In this tutorial, I will build a model to predict the usefulness of Yelp Restaurant Reviews. \n",
    "\n",
    "On yelp.com, each restaurant can be given reviews by the customers. Each review can be marked useful, funny or cool. An assumption in this tutorial is, that I will only cover prediction of usefulness of a review; and that this is different than the 'funny-ness' and 'coolness' of the review.\n",
    "\n",
    "The tutorial includes cleaning of data, exploratory data analysis, K-means clustering, Bag of Words model and Logistic regression. The objective is to find words used in reviews that increase the usefulness of the review. "
   ]
  },
  {
   "cell_type": "markdown",
   "metadata": {},
   "source": [
    "### Tutorial content\n",
    "\n",
    "In this tutorial, I will show how to do some basic prediction analysis in Python.\n",
    "\n",
    "I'll be using data collected from a Kaggle dataset downloaded from https://www.kaggle.com/yelp-dataset/yelp-dataset/data. This data contains information for over 5 million reviews posted on Yelp. \n",
    "\n",
    "I will cover the following topics in this tutorial:\n",
    "- [Importing the libraries](#Importing-the-libraries)\n",
    "- [Loading data and plotting](#Loading-data-and-plotting)\n",
    "- [Bag of Words Model](#Bag-of-Words-Model)\n",
    "- [K-Means Clustering of Reviews](#K-Means-Clustering-of-Reviews)\n",
    "- [Logistic Regression with Top Cluster Words](#Logistic-Regression-with-Top-Cluster-Words)\n",
    "- [Summary and references](#Summary-and-references)"
   ]
  },
  {
   "cell_type": "markdown",
   "metadata": {},
   "source": [
    "## Importing the libraries"
   ]
  },
  {
   "cell_type": "markdown",
   "metadata": {},
   "source": [
    "Before getting started, you'll need to install the various libraries that we will use. After you run all the installs, make sure the following commands work for you:"
   ]
  },
  {
   "cell_type": "code",
   "execution_count": 1,
   "metadata": {},
   "outputs": [
    {
     "name": "stderr",
     "output_type": "stream",
     "text": [
      "C:\\Users\\BKhus\\Anaconda3\\lib\\site-packages\\sklearn\\cross_validation.py:41: DeprecationWarning: This module was deprecated in version 0.18 in favor of the model_selection module into which all the refactored classes and functions are moved. Also note that the interface of the new CV iterators are different from that of this module. This module will be removed in 0.20.\n",
      "  \"This module will be removed in 0.20.\", DeprecationWarning)\n",
      "C:\\Users\\BKhus\\Anaconda3\\lib\\site-packages\\sklearn\\grid_search.py:42: DeprecationWarning: This module was deprecated in version 0.18 in favor of the model_selection module into which all the refactored classes and functions are moved. This module will be removed in 0.20.\n",
      "  DeprecationWarning)\n"
     ]
    }
   ],
   "source": [
    "import io, time, json\n",
    "import requests\n",
    "import pandas as pd \n",
    "import string\n",
    "import nltk\n",
    "import numpy as np\n",
    "import sklearn\n",
    "import seaborn as sns\n",
    "import scipy as scipy\n",
    "import matplotlib.pyplot as plt\n",
    "from sklearn.feature_extraction.text import TfidfVectorizer\n",
    "from sklearn.cluster import KMeans\n",
    "from sklearn.svm import SVC\n",
    "from collections import Counter\n",
    "from sklearn.metrics import roc_auc_score, roc_curve, accuracy_score, confusion_matrix\n",
    "from sklearn import grid_search, cross_validation, metrics\n",
    "from sklearn.linear_model import LogisticRegression\n",
    "sns.set(style=\"white\")\n",
    "sns.set(style=\"whitegrid\", color_codes=True)\n",
    "%matplotlib inline"
   ]
  },
  {
   "cell_type": "markdown",
   "metadata": {},
   "source": [
    "## Loading data and plotting"
   ]
  },
  {
   "cell_type": "markdown",
   "metadata": {},
   "source": [
    "Now that we've installed and loaded the libraries, let's load our Yelp Reviews data.  We're going to load data provided in the \"csv\" format.\n",
    "\n",
    "Download the `yelp_review.csv.zip` file from the Kaggle Yelp Data site: https://www.kaggle.com/yelp-dataset/yelp-dataset/data.  Then unzip the `yelp_review.csv.zip` file to create a `yelp_review.csv` folder with a number of files inside, including a `yelp_review.csv` file.  \n",
    "\n",
    "The description of the dataset variables is as follows:\n",
    "\n",
    "review_id: ID of the review | String\n",
    "\n",
    "user_id: ID of the user | String\n",
    "\n",
    "business_id: ID of the business | String\n",
    "\n",
    "stars: Number of stars (rating between 1 and 5) this user gave this business | numeric\n",
    "\n",
    "date: the date this review was written | DateTime\n",
    "\n",
    "text: text of the review | String\n",
    "\n",
    "useful: number of users who found the review useful | numeric\n",
    "\n",
    "funny: number of users who found the review funny | numeric\n",
    "\n",
    "cool: number of users who found the review cool | numeric\n",
    "\n",
    "This is the csv we want. You can then load the data using the following command."
   ]
  },
  {
   "cell_type": "code",
   "execution_count": 2,
   "metadata": {
    "collapsed": true
   },
   "outputs": [],
   "source": [
    "# read data into a DataFrame\n",
    "data = pd.read_csv(\"yelp_review.csv\")"
   ]
  },
  {
   "cell_type": "markdown",
   "metadata": {},
   "source": [
    "The columns in the loaded data frame are:"
   ]
  },
  {
   "cell_type": "code",
   "execution_count": 3,
   "metadata": {},
   "outputs": [
    {
     "data": {
      "text/plain": [
       "['review_id',\n",
       " 'user_id',\n",
       " 'business_id',\n",
       " 'stars',\n",
       " 'date',\n",
       " 'text',\n",
       " 'useful',\n",
       " 'funny',\n",
       " 'cool']"
      ]
     },
     "execution_count": 3,
     "metadata": {},
     "output_type": "execute_result"
    }
   ],
   "source": [
    "list(data.columns.values)"
   ]
  },
  {
   "cell_type": "markdown",
   "metadata": {},
   "source": [
    "The columns needed for this project are 'stars', 'text', 'useful', 'funny' and 'cool'."
   ]
  },
  {
   "cell_type": "code",
   "execution_count": 4,
   "metadata": {},
   "outputs": [
    {
     "data": {
      "text/html": [
       "<div>\n",
       "<style>\n",
       "    .dataframe thead tr:only-child th {\n",
       "        text-align: right;\n",
       "    }\n",
       "\n",
       "    .dataframe thead th {\n",
       "        text-align: left;\n",
       "    }\n",
       "\n",
       "    .dataframe tbody tr th {\n",
       "        vertical-align: top;\n",
       "    }\n",
       "</style>\n",
       "<table border=\"1\" class=\"dataframe\">\n",
       "  <thead>\n",
       "    <tr style=\"text-align: right;\">\n",
       "      <th></th>\n",
       "      <th>stars</th>\n",
       "      <th>text</th>\n",
       "      <th>useful</th>\n",
       "      <th>funny</th>\n",
       "      <th>cool</th>\n",
       "    </tr>\n",
       "  </thead>\n",
       "  <tbody>\n",
       "    <tr>\n",
       "      <th>0</th>\n",
       "      <td>5</td>\n",
       "      <td>Super simple place but amazing nonetheless. It...</td>\n",
       "      <td>0</td>\n",
       "      <td>0</td>\n",
       "      <td>0</td>\n",
       "    </tr>\n",
       "    <tr>\n",
       "      <th>1</th>\n",
       "      <td>5</td>\n",
       "      <td>Small unassuming place that changes their menu...</td>\n",
       "      <td>0</td>\n",
       "      <td>0</td>\n",
       "      <td>0</td>\n",
       "    </tr>\n",
       "    <tr>\n",
       "      <th>2</th>\n",
       "      <td>5</td>\n",
       "      <td>Lester's is located in a beautiful neighborhoo...</td>\n",
       "      <td>0</td>\n",
       "      <td>0</td>\n",
       "      <td>0</td>\n",
       "    </tr>\n",
       "    <tr>\n",
       "      <th>3</th>\n",
       "      <td>4</td>\n",
       "      <td>Love coming here. Yes the place always needs t...</td>\n",
       "      <td>0</td>\n",
       "      <td>0</td>\n",
       "      <td>0</td>\n",
       "    </tr>\n",
       "    <tr>\n",
       "      <th>4</th>\n",
       "      <td>4</td>\n",
       "      <td>Had their chocolate almond croissant and it wa...</td>\n",
       "      <td>0</td>\n",
       "      <td>0</td>\n",
       "      <td>0</td>\n",
       "    </tr>\n",
       "  </tbody>\n",
       "</table>\n",
       "</div>"
      ],
      "text/plain": [
       "   stars                                               text  useful  funny  \\\n",
       "0      5  Super simple place but amazing nonetheless. It...       0      0   \n",
       "1      5  Small unassuming place that changes their menu...       0      0   \n",
       "2      5  Lester's is located in a beautiful neighborhoo...       0      0   \n",
       "3      4  Love coming here. Yes the place always needs t...       0      0   \n",
       "4      4  Had their chocolate almond croissant and it wa...       0      0   \n",
       "\n",
       "   cool  \n",
       "0     0  \n",
       "1     0  \n",
       "2     0  \n",
       "3     0  \n",
       "4     0  "
      ]
     },
     "execution_count": 4,
     "metadata": {},
     "output_type": "execute_result"
    }
   ],
   "source": [
    "# selecting the required columns\n",
    "df1 = data.iloc[:, [3,5,6,7,8]]\n",
    "df1.head()"
   ]
  },
  {
   "cell_type": "markdown",
   "metadata": {},
   "source": [
    "The number of data points and data types of columns can be found:"
   ]
  },
  {
   "cell_type": "code",
   "execution_count": 5,
   "metadata": {},
   "outputs": [
    {
     "data": {
      "text/plain": [
       "stars      int64\n",
       "text      object\n",
       "useful     int64\n",
       "funny      int64\n",
       "cool       int64\n",
       "dtype: object"
      ]
     },
     "execution_count": 5,
     "metadata": {},
     "output_type": "execute_result"
    }
   ],
   "source": [
    "# Number of data points\n",
    "df1['stars'].shape\n",
    "\n",
    "# Data types of the columns\n",
    "df1.dtypes"
   ]
  },
  {
   "cell_type": "markdown",
   "metadata": {},
   "source": [
    "I now create a column 'tot' which represents the total number of users who responded to the review. Thus, this would be the sum of 'useful', 'funny' and 'cool' values."
   ]
  },
  {
   "cell_type": "code",
   "execution_count": 6,
   "metadata": {
    "scrolled": true
   },
   "outputs": [
    {
     "name": "stderr",
     "output_type": "stream",
     "text": [
      "C:\\Users\\BKhus\\Anaconda3\\lib\\site-packages\\ipykernel_launcher.py:3: SettingWithCopyWarning: \n",
      "A value is trying to be set on a copy of a slice from a DataFrame.\n",
      "Try using .loc[row_indexer,col_indexer] = value instead\n",
      "\n",
      "See the caveats in the documentation: http://pandas.pydata.org/pandas-docs/stable/indexing.html#indexing-view-versus-copy\n",
      "  This is separate from the ipykernel package so we can avoid doing imports until\n"
     ]
    }
   ],
   "source": [
    "#Create a column which counts total number of users that found the review useful/cool/funny\n",
    "# Assumption: predicting only usefulness, not cool or funny.\n",
    "df1['tot'] =  df1[['useful', 'funny', 'cool']].sum(axis=1)"
   ]
  },
  {
   "cell_type": "markdown",
   "metadata": {},
   "source": [
    "For the prediction model to be more accurate, I include reviews that have more than 50 total users who responded to the review only. This ensures that only data points that are more valuable are counted for faster analysis."
   ]
  },
  {
   "cell_type": "code",
   "execution_count": 7,
   "metadata": {},
   "outputs": [
    {
     "data": {
      "text/plain": [
       "(13520,)"
      ]
     },
     "execution_count": 7,
     "metadata": {},
     "output_type": "execute_result"
    }
   ],
   "source": [
    "df1 = df1[(df1.tot > 50)]\n",
    "df1['stars'].shape"
   ]
  },
  {
   "cell_type": "markdown",
   "metadata": {},
   "source": [
    "Considering only the reviews that have more than 50 users that responded to the review, reduces the data points from 5261668 to 13520. The first 10 datapoints are:"
   ]
  },
  {
   "cell_type": "code",
   "execution_count": 8,
   "metadata": {},
   "outputs": [
    {
     "data": {
      "text/html": [
       "<div>\n",
       "<style>\n",
       "    .dataframe thead tr:only-child th {\n",
       "        text-align: right;\n",
       "    }\n",
       "\n",
       "    .dataframe thead th {\n",
       "        text-align: left;\n",
       "    }\n",
       "\n",
       "    .dataframe tbody tr th {\n",
       "        vertical-align: top;\n",
       "    }\n",
       "</style>\n",
       "<table border=\"1\" class=\"dataframe\">\n",
       "  <thead>\n",
       "    <tr style=\"text-align: right;\">\n",
       "      <th></th>\n",
       "      <th>stars</th>\n",
       "      <th>text</th>\n",
       "      <th>useful</th>\n",
       "      <th>funny</th>\n",
       "      <th>cool</th>\n",
       "      <th>tot</th>\n",
       "    </tr>\n",
       "  </thead>\n",
       "  <tbody>\n",
       "    <tr>\n",
       "      <th>536</th>\n",
       "      <td>1</td>\n",
       "      <td>Dear Macayo's, \\n\\nI would like to thank you f...</td>\n",
       "      <td>14</td>\n",
       "      <td>29</td>\n",
       "      <td>14</td>\n",
       "      <td>57</td>\n",
       "    </tr>\n",
       "    <tr>\n",
       "      <th>546</th>\n",
       "      <td>5</td>\n",
       "      <td>Cafe Monarch is everything the five star revie...</td>\n",
       "      <td>25</td>\n",
       "      <td>19</td>\n",
       "      <td>12</td>\n",
       "      <td>56</td>\n",
       "    </tr>\n",
       "    <tr>\n",
       "      <th>568</th>\n",
       "      <td>3</td>\n",
       "      <td>I'm a non-traditional girlfriend, so I always ...</td>\n",
       "      <td>15</td>\n",
       "      <td>27</td>\n",
       "      <td>24</td>\n",
       "      <td>66</td>\n",
       "    </tr>\n",
       "    <tr>\n",
       "      <th>574</th>\n",
       "      <td>4</td>\n",
       "      <td>When I hit a quarter of a century in years, I ...</td>\n",
       "      <td>19</td>\n",
       "      <td>20</td>\n",
       "      <td>14</td>\n",
       "      <td>53</td>\n",
       "    </tr>\n",
       "    <tr>\n",
       "      <th>2438</th>\n",
       "      <td>1</td>\n",
       "      <td>I was very disappointed with this place. I was...</td>\n",
       "      <td>27</td>\n",
       "      <td>21</td>\n",
       "      <td>11</td>\n",
       "      <td>59</td>\n",
       "    </tr>\n",
       "    <tr>\n",
       "      <th>4255</th>\n",
       "      <td>5</td>\n",
       "      <td>Great food!\\n\\nThis restaurant isn't located o...</td>\n",
       "      <td>47</td>\n",
       "      <td>25</td>\n",
       "      <td>40</td>\n",
       "      <td>112</td>\n",
       "    </tr>\n",
       "    <tr>\n",
       "      <th>4259</th>\n",
       "      <td>5</td>\n",
       "      <td>Welcome to Fabulous Las Vegas!\\n\\nLas Vegas ha...</td>\n",
       "      <td>33</td>\n",
       "      <td>20</td>\n",
       "      <td>35</td>\n",
       "      <td>88</td>\n",
       "    </tr>\n",
       "    <tr>\n",
       "      <th>4260</th>\n",
       "      <td>5</td>\n",
       "      <td>Delicious Ramen!\\n\\nRandomly found this place ...</td>\n",
       "      <td>35</td>\n",
       "      <td>19</td>\n",
       "      <td>35</td>\n",
       "      <td>89</td>\n",
       "    </tr>\n",
       "    <tr>\n",
       "      <th>4263</th>\n",
       "      <td>5</td>\n",
       "      <td>Lunch at the Don's...\\n\\nWell, that's what it ...</td>\n",
       "      <td>28</td>\n",
       "      <td>18</td>\n",
       "      <td>23</td>\n",
       "      <td>69</td>\n",
       "    </tr>\n",
       "    <tr>\n",
       "      <th>4266</th>\n",
       "      <td>4</td>\n",
       "      <td>Taste of Las Vegas!\\n\\nWe visited on Thanksgiv...</td>\n",
       "      <td>30</td>\n",
       "      <td>14</td>\n",
       "      <td>30</td>\n",
       "      <td>74</td>\n",
       "    </tr>\n",
       "  </tbody>\n",
       "</table>\n",
       "</div>"
      ],
      "text/plain": [
       "      stars                                               text  useful  funny  \\\n",
       "536       1  Dear Macayo's, \\n\\nI would like to thank you f...      14     29   \n",
       "546       5  Cafe Monarch is everything the five star revie...      25     19   \n",
       "568       3  I'm a non-traditional girlfriend, so I always ...      15     27   \n",
       "574       4  When I hit a quarter of a century in years, I ...      19     20   \n",
       "2438      1  I was very disappointed with this place. I was...      27     21   \n",
       "4255      5  Great food!\\n\\nThis restaurant isn't located o...      47     25   \n",
       "4259      5  Welcome to Fabulous Las Vegas!\\n\\nLas Vegas ha...      33     20   \n",
       "4260      5  Delicious Ramen!\\n\\nRandomly found this place ...      35     19   \n",
       "4263      5  Lunch at the Don's...\\n\\nWell, that's what it ...      28     18   \n",
       "4266      4  Taste of Las Vegas!\\n\\nWe visited on Thanksgiv...      30     14   \n",
       "\n",
       "      cool  tot  \n",
       "536     14   57  \n",
       "546     12   56  \n",
       "568     24   66  \n",
       "574     14   53  \n",
       "2438    11   59  \n",
       "4255    40  112  \n",
       "4259    35   88  \n",
       "4260    35   89  \n",
       "4263    23   69  \n",
       "4266    30   74  "
      ]
     },
     "execution_count": 8,
     "metadata": {},
     "output_type": "execute_result"
    }
   ],
   "source": [
    "df1.head(10)"
   ]
  },
  {
   "cell_type": "markdown",
   "metadata": {},
   "source": [
    "Any missing values from the data should be removed. Thus, the check for missing values is as follows:"
   ]
  },
  {
   "cell_type": "code",
   "execution_count": 9,
   "metadata": {},
   "outputs": [
    {
     "data": {
      "text/plain": [
       "stars     0\n",
       "text      0\n",
       "useful    0\n",
       "funny     0\n",
       "cool      0\n",
       "tot       0\n",
       "dtype: int64"
      ]
     },
     "execution_count": 9,
     "metadata": {},
     "output_type": "execute_result"
    }
   ],
   "source": [
    "df1.isnull().sum()"
   ]
  },
  {
   "cell_type": "markdown",
   "metadata": {},
   "source": [
    "There are no null values in the data. Thus, we can go ahead with further analysis. Let's start off with the Bag of Words model for the reviews."
   ]
  },
  {
   "cell_type": "markdown",
   "metadata": {},
   "source": [
    "## Bag of Words Model"
   ]
  },
  {
   "cell_type": "markdown",
   "metadata": {},
   "source": [
    "First, I create labels for each review. I call this label as useful_binary. I assume that if the percentage of people who found it useful from the total number of people who responded to the review, is greater than 50%, then it is useful.\n",
    "\n",
    "useful_binary = 1 for useful and 0 for not."
   ]
  },
  {
   "cell_type": "code",
   "execution_count": 10,
   "metadata": {},
   "outputs": [
    {
     "name": "stdout",
     "output_type": "stream",
     "text": [
      "       stars                                               text  useful  \\\n",
      "536        1  Dear Macayo's, \\n\\nI would like to thank you f...      14   \n",
      "546        5  Cafe Monarch is everything the five star revie...      25   \n",
      "568        3  I'm a non-traditional girlfriend, so I always ...      15   \n",
      "574        4  When I hit a quarter of a century in years, I ...      19   \n",
      "2438       1  I was very disappointed with this place. I was...      27   \n",
      "4255       5  Great food!\\n\\nThis restaurant isn't located o...      47   \n",
      "4259       5  Welcome to Fabulous Las Vegas!\\n\\nLas Vegas ha...      33   \n",
      "4260       5  Delicious Ramen!\\n\\nRandomly found this place ...      35   \n",
      "4263       5  Lunch at the Don's...\\n\\nWell, that's what it ...      28   \n",
      "4266       4  Taste of Las Vegas!\\n\\nWe visited on Thanksgiv...      30   \n",
      "4267       4  Great Place, Yummy desserts!\\n\\nThis was my fi...      32   \n",
      "4268       4  mmm! halo halo :)\\n\\nCame to this area on the ...      37   \n",
      "4269       4  I know it's rare but...\\n\\nAfter being let dow...      26   \n",
      "4270       4  Parking fees in casinos on the Strip\\n\\nLove c...      49   \n",
      "5003       5  Scottsdale used to bill itself decades ago as ...      23   \n",
      "7225       5  Amazing breakfast spot: still dreaming of the ...      26   \n",
      "7947       1  Yelp, you failed me this time.\\n\\n-this salon ...      95   \n",
      "8734       3  Have you ever had an unexpected SH*T FIT? \\n\\n...       7   \n",
      "10386      5  All You Need Is Love.\" - John Lennon\\n\\nMirage...      28   \n",
      "10390      5  This is the busiest Walgreens I ever been to, ...      32   \n",
      "\n",
      "       funny  cool  tot  useful_binary  \n",
      "536       29    14   57              0  \n",
      "546       19    12   56              0  \n",
      "568       27    24   66              0  \n",
      "574       20    14   53              0  \n",
      "2438      21    11   59              0  \n",
      "4255      25    40  112              0  \n",
      "4259      20    35   88              0  \n",
      "4260      19    35   89              0  \n",
      "4263      18    23   69              0  \n",
      "4266      14    30   74              0  \n",
      "4267      15    32   79              0  \n",
      "4268      18    36   91              0  \n",
      "4269      15    26   67              0  \n",
      "4270      25    43  117              0  \n",
      "5003      18    20   61              0  \n",
      "7225      23    24   73              0  \n",
      "7947       0     3   98              1  \n",
      "8734      46     7   60              0  \n",
      "10386     21    26   75              0  \n",
      "10390     22    23   77              0  \n"
     ]
    }
   ],
   "source": [
    "df1.loc[:, 'useful_binary'] = np.where(df1.loc[:, 'useful']/df1.loc[:, 'tot'] > 0.5, 1, 0)\n",
    "print(df1.head(20))"
   ]
  },
  {
   "cell_type": "markdown",
   "metadata": {},
   "source": [
    "I create a new dataframe by removing 'funny' and 'cool', as now we will deal with only 'useful'."
   ]
  },
  {
   "cell_type": "code",
   "execution_count": 11,
   "metadata": {},
   "outputs": [],
   "source": [
    "df2 = df1[['stars', 'text', 'useful', 'tot', 'useful_binary']]"
   ]
  },
  {
   "cell_type": "markdown",
   "metadata": {},
   "source": [
    "The number of values in each of the labels is given by:"
   ]
  },
  {
   "cell_type": "code",
   "execution_count": 12,
   "metadata": {},
   "outputs": [
    {
     "data": {
      "text/plain": [
       "0    11654\n",
       "1     1866\n",
       "Name: useful_binary, dtype: int64"
      ]
     },
     "execution_count": 12,
     "metadata": {},
     "output_type": "execute_result"
    }
   ],
   "source": [
    "df2['useful_binary'].value_counts()"
   ]
  },
  {
   "cell_type": "markdown",
   "metadata": {},
   "source": [
    "Graphical representation of above:"
   ]
  },
  {
   "cell_type": "code",
   "execution_count": 13,
   "metadata": {},
   "outputs": [
    {
     "data": {
      "image/png": "[encoded data removed]",
      "text/plain": [
       "<matplotlib.figure.Figure at 0x216711c1cc0>"
      ]
     },
     "metadata": {},
     "output_type": "display_data"
    },
    {
     "data": {
      "text/plain": [
       "<matplotlib.figure.Figure at 0x215ef816438>"
      ]
     },
     "metadata": {},
     "output_type": "display_data"
    }
   ],
   "source": [
    "sns.countplot(x = 'useful_binary', data = df2, palette= 'hls')\n",
    "plt.show()\n",
    "plt.savefig('count_plot')"
   ]
  },
  {
   "cell_type": "markdown",
   "metadata": {},
   "source": [
    "The means of the different values are for each of the labels:"
   ]
  },
  {
   "cell_type": "code",
   "execution_count": 14,
   "metadata": {},
   "outputs": [
    {
     "data": {
      "text/html": [
       "<div>\n",
       "<style>\n",
       "    .dataframe thead tr:only-child th {\n",
       "        text-align: right;\n",
       "    }\n",
       "\n",
       "    .dataframe thead th {\n",
       "        text-align: left;\n",
       "    }\n",
       "\n",
       "    .dataframe tbody tr th {\n",
       "        vertical-align: top;\n",
       "    }\n",
       "</style>\n",
       "<table border=\"1\" class=\"dataframe\">\n",
       "  <thead>\n",
       "    <tr style=\"text-align: right;\">\n",
       "      <th></th>\n",
       "      <th>stars</th>\n",
       "      <th>useful</th>\n",
       "      <th>tot</th>\n",
       "    </tr>\n",
       "    <tr>\n",
       "      <th>useful_binary</th>\n",
       "      <th></th>\n",
       "      <th></th>\n",
       "      <th></th>\n",
       "    </tr>\n",
       "  </thead>\n",
       "  <tbody>\n",
       "    <tr>\n",
       "      <th>0</th>\n",
       "      <td>4.004033</td>\n",
       "      <td>33.158143</td>\n",
       "      <td>90.254419</td>\n",
       "    </tr>\n",
       "    <tr>\n",
       "      <th>1</th>\n",
       "      <td>2.387460</td>\n",
       "      <td>83.649518</td>\n",
       "      <td>115.659164</td>\n",
       "    </tr>\n",
       "  </tbody>\n",
       "</table>\n",
       "</div>"
      ],
      "text/plain": [
       "                  stars     useful         tot\n",
       "useful_binary                                 \n",
       "0              4.004033  33.158143   90.254419\n",
       "1              2.387460  83.649518  115.659164"
      ]
     },
     "execution_count": 14,
     "metadata": {},
     "output_type": "execute_result"
    }
   ],
   "source": [
    "df2.groupby('useful_binary').mean()"
   ]
  },
  {
   "cell_type": "code",
   "execution_count": 15,
   "metadata": {},
   "outputs": [
    {
     "data": {
      "text/html": [
       "<div>\n",
       "<style>\n",
       "    .dataframe thead tr:only-child th {\n",
       "        text-align: right;\n",
       "    }\n",
       "\n",
       "    .dataframe thead th {\n",
       "        text-align: left;\n",
       "    }\n",
       "\n",
       "    .dataframe tbody tr th {\n",
       "        vertical-align: top;\n",
       "    }\n",
       "</style>\n",
       "<table border=\"1\" class=\"dataframe\">\n",
       "  <thead>\n",
       "    <tr style=\"text-align: right;\">\n",
       "      <th></th>\n",
       "      <th>stars</th>\n",
       "      <th>useful</th>\n",
       "      <th>tot</th>\n",
       "      <th>useful_binary</th>\n",
       "    </tr>\n",
       "  </thead>\n",
       "  <tbody>\n",
       "    <tr>\n",
       "      <th>stars</th>\n",
       "      <td>1.000000</td>\n",
       "      <td>-0.192734</td>\n",
       "      <td>-0.085125</td>\n",
       "      <td>-0.424075</td>\n",
       "    </tr>\n",
       "    <tr>\n",
       "      <th>useful</th>\n",
       "      <td>-0.192734</td>\n",
       "      <td>1.000000</td>\n",
       "      <td>0.917421</td>\n",
       "      <td>0.269404</td>\n",
       "    </tr>\n",
       "    <tr>\n",
       "      <th>tot</th>\n",
       "      <td>-0.085125</td>\n",
       "      <td>0.917421</td>\n",
       "      <td>1.000000</td>\n",
       "      <td>0.082973</td>\n",
       "    </tr>\n",
       "    <tr>\n",
       "      <th>useful_binary</th>\n",
       "      <td>-0.424075</td>\n",
       "      <td>0.269404</td>\n",
       "      <td>0.082973</td>\n",
       "      <td>1.000000</td>\n",
       "    </tr>\n",
       "  </tbody>\n",
       "</table>\n",
       "</div>"
      ],
      "text/plain": [
       "                  stars    useful       tot  useful_binary\n",
       "stars          1.000000 -0.192734 -0.085125      -0.424075\n",
       "useful        -0.192734  1.000000  0.917421       0.269404\n",
       "tot           -0.085125  0.917421  1.000000       0.082973\n",
       "useful_binary -0.424075  0.269404  0.082973       1.000000"
      ]
     },
     "execution_count": 15,
     "metadata": {},
     "output_type": "execute_result"
    }
   ],
   "source": [
    "df2.corr()"
   ]
  },
  {
   "cell_type": "markdown",
   "metadata": {},
   "source": [
    "From the correlation table, it can be seen that there is a small possibility of number of stars and useful_binary being related. Let's further analyze. "
   ]
  },
  {
   "cell_type": "code",
   "execution_count": 16,
   "metadata": {
    "collapsed": true
   },
   "outputs": [],
   "source": [
    "#make a copy\n",
    "df3 = df2.copy(deep = True)"
   ]
  },
  {
   "cell_type": "markdown",
   "metadata": {},
   "source": [
    "First, I normalize the reviews (text) and handle punctuation. For this, use lemmatizer, an instance of a class implementing the lemmatize() method (the default argument is of type nltk.stem.wordnet.WordNetLemmatizer).\n",
    "\n",
    "The following function returns tokenized text for any text that is passed to it. "
   ]
  },
  {
   "cell_type": "code",
   "execution_count": 17,
   "metadata": {
    "collapsed": true
   },
   "outputs": [],
   "source": [
    "def process(text, lemmatizer=nltk.stem.wordnet.WordNetLemmatizer()):\n",
    "    \"\"\" Normalizes case and handles punctuation\n",
    "    Inputs:\n",
    "        text: str: raw text\n",
    "        lemmatizer: an instance of a class implementing the lemmatize() method\n",
    "                    \n",
    "    Outputs:\n",
    "        list(str): tokenized text\n",
    "    \"\"\"\n",
    "    \n",
    "    #Reference: https://stackoverflow.com/questions/265960/best-way-to-strip-punctuation-from-a-string-in-python\n",
    "    text = text.lower()    \n",
    "    text= text.replace(\"'s\",\"\")    \n",
    "    text= text.replace(\"'\",\"\")\n",
    "    \n",
    "    for c in string.punctuation:\n",
    "        if (c in text):\n",
    "            text= text.replace(c,\" \")    \n",
    "    \n",
    "    tokens = nltk.word_tokenize(text)\n",
    "    tokenized_txt = []\n",
    "    for token in tokens:\n",
    "        tokenized_txt.append(lemmatizer.lemmatize(token))\n",
    "\n",
    "    tokenized_txt = [str(t) for t in tokenized_txt]\n",
    "    return tokenized_txt\n",
    "    pass"
   ]
  },
  {
   "cell_type": "markdown",
   "metadata": {},
   "source": [
    "Then, process all the reviews in the dataframe using the following code. The values of text column are changed from str to list(str). Each list contains all the words in a single review."
   ]
  },
  {
   "cell_type": "code",
   "execution_count": 18,
   "metadata": {
    "collapsed": true
   },
   "outputs": [],
   "source": [
    "df3.text = df3.text.apply(lambda x: process(x))"
   ]
  },
  {
   "cell_type": "markdown",
   "metadata": {},
   "source": [
    "To display the changed 'text' column:"
   ]
  },
  {
   "cell_type": "code",
   "execution_count": 19,
   "metadata": {},
   "outputs": [
    {
     "name": "stdout",
     "output_type": "stream",
     "text": [
      "536     [dear, macayo, i, would, like, to, thank, you,...\n",
      "546     [cafe, monarch, is, everything, the, five, sta...\n",
      "568     [im, a, non, traditional, girlfriend, so, i, a...\n",
      "574     [when, i, hit, a, quarter, of, a, century, in,...\n",
      "2438    [i, wa, very, disappointed, with, this, place,...\n",
      "Name: text, dtype: object\n"
     ]
    }
   ],
   "source": [
    "print(df3.text.head())"
   ]
  },
  {
   "cell_type": "markdown",
   "metadata": {},
   "source": [
    "The next step is to derive feature vectors from the tokenized reviews created in the previous step. \n",
    "\n",
    "As the number of possible words is very large and not all of them will add value to the classification task, I have to decide which words to retain, and which to omit. For this, I construct a frequency distribution of words and omit the words that have too many occurences and the words that have too less occurences, i.e., the head and the tail of the distribution. This is because very common words usually have very high occurences in sentences and don't add much value. Further, very rare words may be typos.\n",
    "\n",
    "I use the list of in-built stop words provided by NLTK which can be used for the omission of very common words. The following  works on omission of very rare words. For this, if a word occurs not more than twice in whole of the reviews, then it is considered rare. "
   ]
  },
  {
   "cell_type": "code",
   "execution_count": 20,
   "metadata": {
    "collapsed": true
   },
   "outputs": [],
   "source": [
    "#Reference: https://docs.python.org/2/library/collections.html#collections.Counter\n",
    "list_of_words = []\n",
    "for i in (df3['text']):   \n",
    "    list_of_words.extend(i)\n",
    "    \n",
    "counter = Counter(list_of_words)\n",
    "list_rare_words = [w for w in list_of_words if counter[w] == 2]\n"
   ]
  },
  {
   "cell_type": "code",
   "execution_count": 21,
   "metadata": {},
   "outputs": [
    {
     "name": "stdout",
     "output_type": "stream",
     "text": [
      "13314\n",
      "['021', '021', '036', '036', '0433eciexx6namw', '0433eciexx6namw', '05am', '05am', '092', '092', '0oquyisq', '0oquyisq', '0youckv6', '0youckv6', '1000x', '1000x', '100k', '100k', '100oz', '100oz', '1030', '1030', '1060', '1060', '10days', '10days', '10lbs', '10lbs', '10yrs', '10yrs', '113', '113', '1130', '1130', '114', '114', '11a', '11a', '11ish', '11ish', '11p', '11p', '11pts', '11pts', '121', '121', '1230', '1230', '1248', '1248', '128', '128', '1299', '1299', '12i0buxgq', '12i0buxgq', '12in', '12in', '12ish', '12ish', '136', '136', '13k', '13k', '142', '142', '14yr', '14yr', '15mins', '15mins', '164', '164', '16ish', '16ish', '1762', '1762', '179', '179', '1806', '1806', '186', '186', '1887', '1887', '189', '189', '18b', '18b', '1905', '1905', '1910', '1910', '1932', '1932', '1933', '1933', '1939', '1939', '1948', '1948', '1951', '1951', '1955', '1955', '1961', '1961', '1966', '1966', '1969', '1969', '1974', '1974', '1976', '1976', '1977', '1977', '199', '199', '1bimeepfc8qkbnv', '1bimeepfc8qkbnv', '1hr', '1hr', '1lb', '1lb', '1lcyl9gla83brlnkybtklq', '1lcyl9gla83brlnkybtklq', '1yr', '1yr', '200lb', '200lb', '205', '205', '208', '208', '20am', '20am', '20mins', '20mins', '213', '213', '214', '214', '215e', '215e', '2233', '2233', '229', '229', '245', '245', '247', '247', '24hour', '24hour', '24k', '24k', '254', '254', '25pm', '25pm', '265', '265', '2800', '2800', '2900', '2900', '298', '298', '2a', '2a', '2ish', '2ish', '2oth', '2oth', '2q', '2q', '300k', '300k', '300lb', '300lb', '300pm', '300pm', '301', '301', '308', '308', '312', '312', '315', '315', '33pm', '33pm', '353', '353', '3535', '3535', '35k', '35k', '35min', '35min', '35th', '35th', '3600', '3600', '362', '362', '37th', '37th', '3c', '3c', '3h2vbxz8upvcfncbi5xtcg', '3h2vbxz8upvcfncbi5xtcg', '3ke9kja', '3ke9kja', '3mb', '3mb', '3o81t', '3o81t', '3yrs', '3yrs', '415', '415', '4250', '4250', '427', '427', '42nd', '42nd', '430pm', '430pm', '440', '440', '445', '445', '45p', '45p', '460', '460', '48th', '48th', '495', '495', '499', '499', '4999', '4999', '4beuklvhqntn6qpfkjp2w', '4beuklvhqntn6qpfkjp2w', '4ft', '4ft', '4g', '4g', '4ish', '4ish', '4k', '4k', '4ksmwcaeumig2dxwpsqf9a', '4ksmwcaeumig2dxwpsqf9a', '4kvxnxam8j3t', '4kvxnxam8j3t', '4pcs', '4pcs', '500ft', '500ft', '506', '506', '50ish', '50ish', '50k', '50k', '50lb', '50lb', '50min', '50min', '50p', '50p', '50¢', '50¢', '511', '511', '515', '515', '520', '520', '52pm', '52pm', '540', '540', '560', '560', '565', '565', '56th', '56th', '580', '580', '58yym4133', '58yym4133', '595', '595', '5b', '5b', '5d', '5d', '5kj3', '5kj3', '5months', '5months', '5rcf', '5rcf', '5vbet', '5vbet', '5yrs', '5yrs', '602', '602', '60oz', '60oz', '626', '626', '62nd', '62nd', '64th', '64th', '65jokjbgdcmdfsag', '65jokjbgdcmdfsag', '685', '685', '69th', '69th', '6a', '6a', '6gb', '6gb', '6ish', '6ish', '6pc', '6pc', '700th', '700th', '70mph', '70mph', '70th', '70th', '70°', '70°', '720', '720', '75ea', '75ea', '770', '770', '777', '777', '786ntewyx8ephxkg', '786ntewyx8ephxkg', '7ish', '7ish', '7lxwducmq', '7lxwducmq', '7s7p5tgvv9ctlwjwqmcgtq', '7s7p5tgvv9ctlwjwqmcgtq', '7sg8gtci1ten', '7sg8gtci1ten', '8000', '8000', '830', '830', '830am', '830am', '83rd', '83rd', '85015', '85015', '890', '890', '8a', '8a', '8wf7p4', '8wf7p4', '901', '901', '90min', '90min', '90th', '90th', '910', '910', '916', '916', '930', '930', '950', '950', '956', '956', '9800', '9800', '990', '990', '995', '995', '9vfhdhg', '9vfhdhg', 'a054', 'a054', 'a6eqibhsvixkcul55kr6g', 'a6eqibhsvixkcul55kr6g', 'aaaa', 'aaaa', 'aaaand', 'aaaand', 'aaah', 'aaah', 'aaahhs', 'aaahhs', 'aarp', 'aarp', 'abandoning', 'abandoning', 'abbiamo', 'abbiamo', 'abbott', 'abbott', 'abd', 'abd', 'abdominal', 'abdominal', 'abdul', 'abdul', 'abel', 'abel', 'abgeht', 'abgeht', 'abhors', 'abhors', 'ablation', 'ablation', 'abode', 'abode', 'abominable', 'abominable', 'abrasion', 'abrasion', 'abruzzo', 'abruzzo', 'abscess', 'abscess', 'absorption', 'absorption', 'absurdity', 'absurdity', 'abuelita', 'abuelita', 'abuelo', 'abuelo', 'abusing', 'abusing', 'accentuate', 'accentuate', 'accentuates', 'accentuates', 'acclimate', 'acclimate', 'acco', 'acco', 'accomdating', 'accomdating', 'accomodated', 'accomodated', 'accompagnée', 'accompagnée', 'accophoto', 'accophoto', 'accordion', 'accordion', 'accosting', 'accosting', 'accountant', 'accountant', 'accreditation', 'accreditation', 'accrue', 'accrue', 'accrued', 'accrued', 'accruing', 'accruing', 'accumulates', 'accumulates', 'accustom', 'accustom', 'achara', 'achara', 'achievable', 'achievable', 'achieves', 'achieves', 'achterbahn', 'achterbahn', 'acme', 'acme', 'acquiesce', 'acquiesce', 'acquiesced', 'acquiesced', 'actualized', 'actualized', 'acupressure', 'acupressure', 'ada', 'ada', 'adana', 'adana', 'additon', 'additon', 'addled', 'addled', 'adhering', 'adhering', 'adjoined', 'adjoined', 'adjusts', 'adjusts', 'admirably', 'admirably', 'admiral', 'admiral', 'admirer', 'admirer', 'adobado', 'adobado', 'adonis', 'adonis', 'adorably', 'adorably', 'adorbs', 'adorbs', 'adores', 'adores', 'adornment', 'adornment', 'adorns', 'adorns', 'adrenalin', 'adrenalin', 'adrenalinjunkies', 'adrenalinjunkies', 'adulterated', 'adulterated', 'adulting', 'adulting', 'advent', 'advent', 'adventuresome', 'adventuresome', 'adventuring', 'adventuring', 'adverb', 'adverb', 'adversity', 'adversity', 'advert', 'advert', 'adzuki', 'adzuki', 'ae', 'ae', 'aerate', 'aerate', 'aerated', 'aerated', 'aero', 'aero', 'afc', 'afc', 'affectionate', 'affectionate', 'affiliation', 'affiliation', 'affirmed', 'affirmed', 'affliction', 'affliction', 'affordably', 'affordably', 'affords', 'affords', 'afghani', 'afghani', 'afterburn', 'afterburn', 'aggravates', 'aggravates', 'agility', 'agility', 'aglio', 'aglio', 'agonizingly', 'agonizingly', 'agreeably', 'agreeably', 'agressive', 'agressive', 'agritopia', 'agritopia', 'agrodolce', 'agrodolce', 'agt', 'agt', 'aguacate', 'aguacate', 'aguadito', 'aguadito', 'ahhhhhhhhhhhh', 'ahhhhhhhhhhhh', 'ahhs', 'ahhs', 'ahjumma', 'ahjumma', 'ahogada', 'ahogada', 'aholic', 'aholic', 'ahs', 'ahs', 'aiden', 'aiden', 'aiight', 'aiight', 'aiko', 'aiko', 'ail', 'ail', 'ailpbpynnsej5zssnm6x1g', 'ailpbpynnsej5zssnm6x1g', 'aimee', 'aimee', 'airbar', 'airbar', 'airconditioning', 'airconditioning', 'aircraft', 'aircraft', 'akemi', 'akemi', 'akua', 'akua', 'alabama', 'alabama', 'aladdin', 'aladdin', 'alain', 'alain', 'alarmingly', 'alarmingly', 'albaloo', 'albaloo', 'albany', 'albany', 'albino', 'albino', 'albuquerque', 'albuquerque', 'alcapurria', 'alcapurria', 'alchemy', 'alchemy', 'aldo', 'aldo', 'alegria', 'alegria', 'alektorophobia', 'alektorophobia', 'alesso', 'alesso', 'alexa', 'alexa', 'alexis', 'alexis', 'alfonso', 'alfonso', 'alfred', 'alfred', 'alfresco', 'alfresco', 'algebra', 'algebra', 'algorithm', 'algorithm', 'algunos', 'algunos', 'alienate', 'alienate', 'aligning', 'aligning', 'aligns', 'aligns', 'ality', 'ality', 'aljtjd0abfzsxgq', 'aljtjd0abfzsxgq', 'allergenic', 'allergenic', 'allerhand', 'allerhand', 'alles', 'alles', 'allesterno', 'allesterno', 'alleviating', 'alleviating', 'alleyway', 'alleyway', 'alliance', 'alliance', 'alllll', 'alllll', 'allocated', 'allocated', 'allowable', 'allowable', 'alls', 'alls', 'alluded', 'alluded', 'alones', 'alones', 'alp', 'alp', 'alphabetically', 'alphabetically', 'alpo', 'alpo', 'alt', 'alt', 'alten', 'alten', 'altessa', 'altessa', 'altre', 'altre', 'altri', 'altri', 'altro', 'altro', 'alzheimer', 'alzheimer', 'amaaaaazing', 'amaaaaazing', 'amaazing', 'amaazing', 'amai', 'amai', 'amalgam', 'amalgam', 'amarena', 'amarena', 'amazinggggg', 'amazinggggg', 'ambrosial', 'ambrosial', 'americanos', 'americanos', 'amiable', 'amiable', 'amir', 'amir', 'amish', 'amish', 'amlee', 'amlee', 'ammoniated', 'ammoniated', 'amniotic', 'amniotic', 'amok', 'amok', 'amorphous', 'amorphous', 'amour', 'amour', 'amphibian', 'amphibian', 'amplify', 'amplify', 'amplifying', 'amplifying', 'amulet', 'amulet', 'amur', 'amur', 'amurica', 'amurica', 'amurricans', 'amurricans', 'ancestor', 'ancestor', 'ancora', 'ancora', 'andalou', 'andalou', 'andare', 'andare', 'andddd', 'andddd', 'anddddd', 'anddddd', 'andere', 'andere', 'andes', 'andes', 'andhra', 'andhra', 'andiamo', 'andiamo', 'andoule', 'andoule', 'angeleno', 'angeleno', 'angelica', 'angelica', 'angelos', 'angelos', 'angenehm', 'angenehm', 'anglo', 'anglo', 'angora', 'angora', 'angostura', 'angostura', 'angrenzenden', 'angrenzenden', 'anguilla', 'anguilla', 'ania', 'ania', 'anice', 'anice', 'animatronics', 'animatronics', 'anita', 'anita', 'annette', 'annette', 'annexed', 'annexed', 'anni', 'anni', 'annoys', 'annoys', 'anorexic', 'anorexic', 'antagonistic', 'antagonistic', 'antecedent', 'antecedent', 'antiquitieslv', 'antiquitieslv', 'antiseptic', 'antiseptic', 'antisocial', 'antisocial', 'antonia', 'antonia', 'anus', 'anus', 'anyones', 'anyones', 'anywhobees', 'anywhobees', 'ao', 'ao', 'aoyagi', 'aoyagi', 'apa', 'apa', 'apathy', 'apathy', 'ape', 'ape', 'apeshit', 'apeshit', 'aphrodisiac', 'aphrodisiac', 'apocalyptic', 'apocalyptic', 'apoligized', 'apoligized', 'apologised', 'apologised', 'appeased', 'appeased', 'applauded', 'applauded', 'appletini', 'appletini', 'applicant', 'applicant', 'appraise', 'appraise', 'apprenticeship', 'apprenticeship', 'appropriated', 'appropriated', 'appétit', 'appétit', 'après', 'après', 'aps', 'aps', 'apx', 'apx', 'apyrl', 'apyrl', 'aquavana', 'aquavana', 'ar', 'ar', 'ara', 'ara', 'arabica', 'arabica', 'arabiki', 'arabiki', 'arbitration', 'arbitration', 'arbol', 'arbol', 'arcane', 'arcane', 'archer', 'archer', 'architektur', 'architektur', 'ardent', 'ardent', 'aren', 'aren', 'arepitas', 'arepitas', 'argentine', 'argentine', 'argentinean', 'argentinean', 'argentino', 'argentino', 'arghh', 'arghh', 'arghhhh', 'arghhhh', 'arians', 'arians', 'aries', 'aries', 'arisen', 'arisen', 'arithmetic', 'arithmetic', 'arlington', 'arlington', 'armadillo', 'armadillo', 'armando', 'armando', 'armored', 'armored', 'armory', 'armory', 'armrest', 'armrest', 'arnie', 'arnie', 'arrhythmia', 'arrhythmia', 'arrieros', 'arrieros', 'arroyo', 'arroyo', 'arthritis', 'arthritis', 'artifice', 'artifice', 'artigianale', 'artigianale', 'artisinal', 'artisinal', 'artus', 'artus', 'asana', 'asana', 'ascension', 'ascension', 'ashare', 'ashare', 'ashton', 'ashton', 'asi', 'asi', 'asiany', 'asiany', 'asiatic', 'asiatic', 'asina', 'asina', 'asinine', 'asinine', 'asp', 'asp', 'aspen', 'aspen', 'aspires', 'aspires', 'asrclt', 'asrclt', 'assemblage', 'assemblage', 'assembles', 'assembles', 'assembling', 'assembling', 'assert', 'assert', 'assessing', 'assessing', 'assez', 'assez', 'asshat', 'asshat', 'assiette', 'assiette', 'associazione', 'associazione', 'asswads', 'asswads', 'asterisk', 'asterisk', 'astrological', 'astrological', 'astronaut', 'astronaut', 'astute', 'astute', 'atcharawan', 'atcharawan', 'atelier', 'atelier', 'atelophobia', 'atelophobia', 'athletics', 'athletics', 'attaching', 'attaching', 'attained', 'attained', 'attentative', 'attentative', 'attentively', 'attentively', 'attractively', 'attractively', 'aubrey', 'aubrey', 'aucune', 'aucune', 'audacious', 'audacious', 'audibly', 'audibly', 'audien', 'audien', 'aufenthalt', 'aufenthalt', 'auffällig', 'auffällig', 'aug', 'aug', 'augment', 'augment', 'aurait', 'aurait', 'aurelio', 'aurelio', 'ausgleichen', 'ausgleichen', 'ausmaßes', 'ausmaßes', 'aussichtsplattform', 'aussichtsplattform', 'aussichtspunkt', 'aussichtspunkt', 'aussichtsturm', 'aussichtsturm', 'austesten', 'austesten', 'autant', 'autant', 'authorize', 'authorize', 'autobiography', 'autobiography', 'autokino', 'autokino', 'autopay', 'autopay', 'autopilot', 'autopilot', 'autopsy', 'autopsy', 'av', 'av', 'avalanche', 'avalanche', 'averilla', 'averilla', 'avert', 'avert', 'averted', 'averted', 'avg', 'avg', 'avgolemono', 'avgolemono', 'aviator', 'aviator', 'avila', 'avila', 'avoids', 'avoids', 'avoir', 'avoir', 'avuto', 'avuto', 'awakens', 'awakens', 'awarding', 'awarding', 'aweigh', 'aweigh', 'awesomesauce', 'awesomesauce', 'awol', 'awol', 'axle', 'axle', 'axwell', 'axwell', 'ayonna', 'ayonna', 'azcentral', 'azcentral', 'azl3l', 'azl3l', 'azns', 'azns', 'azpdjnd0tilpickmk4q', 'azpdjnd0tilpickmk4q', 'azul', 'azul', 'b4', 'b4', 'b52s', 'b52s', 'b5fxpqpw', 'b5fxpqpw', 'baaaaa', 'baaaaa', 'babaganoush', 'babaganoush', 'babbling', 'babbling', 'babied', 'babied', 'babysit', 'babysit', 'baccahanal', 'baccahanal', 'bacchanel', 'bacchanel', 'bachannal', 'bachannal', 'bacio', 'bacio', 'backflips', 'backflips', 'backlit', 'backlit', 'backlog', 'backlog', 'backward', 'backward', 'backwoods', 'backwoods', 'bacterial', 'bacterial', 'bada', 'bada', 'badda', 'badda', 'baddest', 'baddest', 'bademjan', 'bademjan', 'badgered', 'badgered', 'badgering', 'badgering', 'badlands', 'badlands', 'badri', 'badri', 'badtz', 'badtz', 'bagful', 'bagful', 'bagger', 'bagger', 'baggery', 'baggery', 'baggie', 'baggie', 'bailed', 'bailed', 'bailout', 'bailout', 'baio', 'baio', 'baited', 'baited', 'bakerbots', 'bakerbots', 'bakesale', 'bakesale', 'baladie', 'baladie', 'bale', 'bale', 'balla', 'balla', 'ballers', 'ballers', 'balling', 'balling', 'balut', 'balut', 'bamboozle', 'bamboozle', 'bandeja', 'bandeja', 'bandido', 'bandido', 'bane', 'bane', 'banham', 'banham', 'banister', 'banister', 'banjo', 'banjo', 'bankie', 'bankie', 'bankrolled', 'bankrolled', 'baptized', 'baptized', 'barack', 'barack', 'barbequed', 'barbequed', 'barchef', 'barchef', 'barfed', 'barfed', 'barflies', 'barflies', 'barfly', 'barfly', 'barg', 'barg', 'barium', 'barium', 'barkbusters', 'barkbusters', 'barked', 'barked', 'barker', 'barker', 'baroque', 'baroque', 'barr', 'barr', 'barracuda', 'barracuda', 'barrelling', 'barrelling', 'barricade', 'barricade', 'barrocco', 'barrocco', 'barstool', 'barstool', 'bartastic', 'bartastic', 'bascially', 'bascially', 'bashful', 'bashful', 'bask', 'bask', 'baste', 'baste', 'bastianich', 'bastianich', 'bastion', 'bastion', 'bated', 'bated', 'batshit', 'batshit', 'battera', 'battera', 'battlefield', 'battlefield', 'battleship', 'battleship', 'battuto', 'battuto', 'bauble', 'bauble', 'bauhaus', 'bauhaus', 'bavette', 'bavette', 'bawler', 'bawler', 'bawls', 'bawls', 'bawse', 'bawse', 'baybee', 'baybee', 'bazic', 'bazic', 'bbc', 'bbc', 'bbqd', 'bbqd', 'bcg', 'bcg', 'bdf', 'bdf', 'beachbunnyswimwear', 'beachbunnyswimwear', 'beacher', 'beacher', 'beachside', 'beachside', 'beak', 'beak', 'beansprouts', 'beansprouts', 'beany', 'beany', 'beartea', 'beartea', 'beastwich', 'beastwich', 'beaut', 'beaut', 'beautifies', 'beautifies', 'bec', 'bec', 'beckham', 'beckham', 'beckon', 'beckon', 'bedbug', 'bedbug', 'bedsheet', 'bedsheet', 'beechview', 'beechview', 'beefeater', 'beefeater', 'beefiness', 'beefiness', 'beeping', 'beeping', 'beesting', 'beesting', 'beeyotch', 'beeyotch', 'befestigt', 'befestigt', 'befriending', 'befriending', 'beggar', 'beggar', 'beh', 'beh', 'beheading', 'beheading', 'bein', 'bein', 'beispielsweise', 'beispielsweise', 'bejeezus', 'bejeezus', 'bejeweled', 'bejeweled', 'bekommt', 'bekommt', 'belching', 'belching', 'belfast', 'belfast', 'beligian', 'beligian', 'belittled', 'belittled', 'belittling', 'belittling', 'bellisario', 'bellisario', 'bellota', 'bellota', 'belz', 'belz', 'benadryl', 'benadryl', 'bendable', 'bendable', 'bendel', 'bendel', 'bendicion', 'bendicion', 'bengal', 'bengal', 'bengali', 'bengali', 'bequem', 'bequem', 'berg', 'berg', 'berghoff', 'berghoff', 'bern', 'bern', 'bernstein', 'bernstein', 'besieged', 'besieged', 'bessere', 'bessere', 'beste', 'beste', 'bestellung', 'bestellung', 'besten', 'besten', 'bestie', 'bestie', 'bestow', 'bestow', 'besucht', 'besucht', 'beta', 'beta', 'bettering', 'bettering', 'bettie', 'bettie', 'bevvies', 'bevvies', 'bewertungen', 'bewertungen', 'bewitched', 'bewitched', 'beyoncé', 'beyoncé', 'bezahlt', 'bezahlt', 'bfe', 'bfe', 'bffs', 'bffs', 'bfs', 'bfs', 'bhaji', 'bhaji', 'biancoverde', 'biancoverde', 'bibimnaengmyun', 'bibimnaengmyun', 'biblical', 'biblical', 'biblischen', 'biblischen', 'bic', 'bic', 'biceps', 'biceps', 'biel', 'biel', 'bienenstich', 'bienenstich', 'biergarten', 'biergarten', 'bikefest', 'bikefest', 'bilateral', 'bilateral', 'bild', 'bild', 'bilder', 'bilder', 'billard', 'billard', 'billiard', 'billiard', 'biloxi', 'biloxi', 'bincho', 'bincho', 'binder', 'binder', 'binoculars', 'binoculars', 'biodegradeable', 'biodegradeable', 'bipolar', 'bipolar', 'birdseye', 'birdseye', 'birkenstocks', 'birkenstocks', 'birrerie', 'birrerie', 'bish', 'bish', 'bitchface', 'bitchface', 'biter', 'biter', 'bière', 'bière', 'bières', 'bières', 'blabbing', 'blabbing', 'blac', 'blac', 'blacking', 'blacking', 'blacklist', 'blacklist', 'blackstone', 'blackstone', 'blacktop', 'blacktop', 'blair', 'blair', 'blanca', 'blanca', 'blanketing', 'blanketing', 'blaster', 'blaster', 'blather', 'blather', 'blauer', 'blauer', 'blazin', 'blazin', 'bleak', 'bleak', 'blemish', 'blemish', 'blindfold', 'blindfold', 'blinding', 'blinding', 'blitz', 'blitz', 'blocker', 'blocker', 'blogging', 'blogging', 'blogto', 'blogto', 'bloodstain', 'bloodstain', 'bloodwork', 'bloodwork', 'bloomfield', 'bloomfield', 'bloorcourt', 'bloorcourt', 'blotto', 'blotto', 'blower', 'blower', 'blowup', 'blowup', 'blta', 'blta', 'bluepoint', 'bluepoint', 'bluetooth', 'bluetooth', 'bluewater', 'bluewater', 'blurb', 'blurb', 'blurting', 'blurting', 'blv', 'blv', 'bmd', 'bmd', 'boarder', 'boarder', 'boardshorts', 'boardshorts', 'boatload', 'boatload', 'bobbin', 'bobbin', 'bobo', 'bobo', 'bobsled', 'bobsled', 'bocarte', 'bocarte', 'bocce', 'bocce', 'bocconcini', 'bocconcini', 'bode', 'bode', 'bodybuilding', 'bodybuilding', 'bodypump', 'bodypump', 'boeuf', 'boeuf', 'bofa', 'bofa', 'bofb', 'bofb', 'bogged', 'bogged', 'bogle', 'bogle', 'boire', 'boire', 'bolganese', 'bolganese', 'bolillo', 'bolillo', 'bollywood', 'bollywood', 'bolster', 'bolster', 'bolted', 'bolted', 'bomba', 'bomba', 'bombdiggity', 'bombdiggity', 'bona', 'bona', 'bonafide', 'bonafide', 'bonbon', 'bonbon', 'bonchon', 'bonchon', 'bonheur', 'bonheur', 'bono', 'bono', 'bonterra', 'bonterra', 'boobage', 'boobage', 'booga', 'booga', 'boomer', 'boomer', 'boonies', 'boonies', 'boooooooo', 'boooooooo', 'boorish', 'boorish', 'boosting', 'boosting', 'boozed', 'boozed', 'boozled', 'boozled', 'boqueria', 'boqueria', 'boralia', 'boralia', 'boregas', 'boregas', 'boricua', 'boricua', 'borrower', 'borrower', 'borrows', 'borrows', 'bosch', 'bosch', 'bose', 'bose', 'bossa', 'bossa', 'bosu', 'bosu', 'bot', 'bot', 'botanica', 'botanica', 'botoxy', 'botoxy', 'bottleneck', 'bottleneck', 'bottlenose', 'bottlenose', 'bottomed', 'bottomed', 'bouches', 'bouches', 'bouchée', 'bouchée', 'boudin', 'boudin', 'bouffe', 'bouffe', 'bourgeois', 'bourgeois', 'bowed', 'bowed', 'bowie', 'bowie', 'bowler', 'bowler', 'bowlology', 'bowlology', 'boxster', 'boxster', 'boyardee', 'boyardee', 'bozo', 'bozo', 'bpmvpg', 'bpmvpg', 'braaains', 'braaains', 'bracing', 'bracing', 'brackin', 'brackin', 'bragged', 'bragged', 'brainier', 'brainier', 'brainwash', 'brainwash', 'braise', 'braise', 'braking', 'braking', 'bran', 'bran', 'brandida', 'brandida', 'branson', 'branson', 'brassica', 'brassica', 'braucht', 'braucht', 'bravely', 'bravely', 'braver', 'braver', 'bravery', 'bravery', 'braxton', 'braxton', 'brazino', 'brazino', 'brazo', 'brazo', 'brcb', 'brcb', 'bre', 'bre', 'breached', 'breached', 'bready', 'bready', 'breakneck', 'breakneck', 'breakside', 'breakside', 'breakwater', 'breakwater', 'breastfeeding', 'breastfeeding', 'breathless', 'breathless', 'breathtakingly', 'breathtakingly', 'brenda', 'brenda', 'brendan', 'brendan', 'bresaola', 'bresaola', 'brette', 'brette', 'brewhouse', 'brewhouse', 'brianna', 'brianna', 'bribing', 'bribing', 'brickhouse', 'brickhouse', 'bridgeville', 'bridgeville', 'briefcase', 'briefcase', 'brigade', 'brigade', 'bringin', 'bringin', 'brinker', 'brinker', 'briskly', 'briskly', 'bristle', 'bristle', 'britnie', 'britnie', 'brittney', 'brittney', 'broaden', 'broaden', 'broadview', 'broadview', 'brocolli', 'brocolli', 'broiling', 'broiling', 'bronzer', 'bronzer', 'brookfield', 'brookfield', 'brookman', 'brookman', 'brookpark', 'brookpark', 'brrggg', 'brrggg', 'brtgztatr4ua', 'brtgztatr4ua', 'bruner', 'bruner', 'brute', 'brute', 'bruxie', 'bruxie', 'bsa', 'bsa', 'bsb', 'bsb', 'bshnl7k5sod3qoyt2nic0w', 'bshnl7k5sod3qoyt2nic0w', 'bu', 'bu', 'bubbled', 'bubbled', 'bucatini', 'bucatini', 'buckingham', 'buckingham', 'buckled', 'buckled', 'budding', 'budding', 'buddyyy', 'buddyyy', 'budlight', 'budlight', 'budtender', 'budtender', 'buenos', 'buenos', 'buffett', 'buffett', 'buffoon', 'buffoon', 'buffy', 'buffy', 'buiding', 'buiding', 'buisness', 'buisness', 'bulgari', 'bulgari', 'bulgur', 'bulgur', 'bulletin', 'bulletin', 'bullshitting', 'bullshitting', 'bulmers', 'bulmers', 'bumpersticker', 'bumpersticker', 'bundled', 'bundled', 'bunker', 'bunker', 'bunless', 'bunless', 'bunuelos', 'bunuelos', 'bunyan', 'bunyan', 'burberry', 'burberry', 'burden', 'burden', 'bureaucracy', 'bureaucracy', 'buren', 'buren', 'burger21', 'burger21', 'burgher', 'burgher', 'burglary', 'burglary', 'burlington', 'burlington', 'burnout', 'burnout', 'burrow', 'burrow', 'busey', 'busey', 'bussing', 'bussing', 'busty', 'busty', 'busyness', 'busyness', 'butchery', 'butchery', 'butta', 'butta', 'butterbeer', 'butterbeer', 'butterfish', 'butterfish', 'butterjoint', 'butterjoint', 'buttplugs', 'buttplugs', 'buuren', 'buuren', 'buuuut', 'buuuut', 'buzzkill', 'buzzkill', 'bw3', 'bw3', 'bwahah', 'bwahah', 'byoa', 'byoa', 'byrnes', 'byrnes', 'byron', 'byron', 'bys', 'bys', 'cabelas', 'cabelas', 'caboose', 'caboose', 'caca', 'caca', 'cacio', 'cacio', 'cackling', 'cackling', 'cadbury', 'cadbury', 'cado', 'cado', 'caesarean', 'caesarean', 'caf', 'caf', 'caffeination', 'caffeination', 'caffeineated', 'caffeineated', 'caffrey', 'caffrey', 'cajan', 'cajan', 'cajon', 'cajon', 'calabacitas', 'calabacitas', 'calcium', 'calcium', 'caldron', 'caldron', 'caldwell', 'caldwell', 'calgary', 'calgary', 'calgon', 'calgon', 'caliper', 'caliper', 'callaway', 'callaway', 'callback', 'callback', 'callender', 'callender', 'callin', 'callin', 'calme', 'calme', 'calmness', 'calmness', 'calphalon', 'calphalon', 'calvi', 'calvi', 'cambridge', 'cambridge', 'camelbaks', 'camelbaks', 'camembert', 'camembert', 'camh', 'camh', 'cami', 'cami', 'camouflage', 'camouflage', 'campache', 'campache', 'campanile', 'campanile', 'campechana', 'campechana', 'campero', 'campero', 'campo', 'campo', 'camros', 'camros', 'canadiana', 'canadiana', 'canadiens', 'canadiens', 'canale', 'canale', 'canape', 'canape', 'canard', 'canard', 'candidly', 'candidly', 'candlelit', 'candlelit', 'canela', 'canela', 'cannabis', 'cannabis', 'canning', 'canning', 'cannstatter', 'cannstatter', 'canoeing', 'canoeing', 'canoli', 'canoli', 'canon', 'canon', 'cantor', 'cantor', 'capability', 'capability', 'capannoni', 'capannoni', 'capasanta', 'capasanta', 'capistrami', 'capistrami', 'capitale', 'capitale', 'capitulated', 'capitulated', 'capoeira', 'capoeira', 'capsule', 'capsule', 'capt', 'capt', 'captivate', 'captivate', 'carcinogen', 'carcinogen', 'cardenas', 'cardenas', 'cardinale', 'cardinale', 'cardiology', 'cardiology', 'cardiomyopathy', 'cardiomyopathy', 'cardiovascular', 'cardiovascular', 'careening', 'careening', 'carelessly', 'carelessly', 'carelessness', 'carelessness', 'carfax', 'carfax', 'cargot', 'cargot', 'carignan', 'carignan', 'carissa', 'carissa', 'carla', 'carla', 'carlin', 'carlin', 'carly', 'carly', 'carmelizer', 'carmelizer', 'carnation', 'carnation', 'carneros', 'carneros', 'carnita', 'carnita', 'carnitine', 'carnitine', 'carnivoremobile', 'carnivoremobile', 'carpentry', 'carpentry', 'carport', 'carport', 'carrental', 'carrental', 'carted', 'carted', 'cartoonish', 'cartoonish', 'carvery', 'carvery', 'carwash', 'carwash', 'casbah', 'casbah', 'cascabel', 'cascabel', 'cascade', 'cascade', 'cascaded', 'cascaded', 'cased', 'cased', 'casey', 'casey', 'cashless', 'cashless', 'cask', 'cask', 'casket', 'casket', 'casonova', 'casonova', 'cassandra', 'cassandra', 'cassette', 'cassette', 'castor', 'castor', 'catalogue', 'catalogue', 'categorize', 'categorize', 'cath', 'cath', 'catnip', 'catnip', 'cattiness', 'cattiness', 'cau', 'cau', 'cauli', 'cauli', 'cauterized', 'cauterized', 'cavalli', 'cavalli', 'cavalry', 'cavalry', 'cavatappi', 'cavatappi', 'cavolo', 'cavolo', 'cbc', 'cbc', 'cbnseyyy6jo5orkslna', 'cbnseyyy6jo5orkslna', 'cbtl', 'cbtl', 'cca', 'cca', 'ccns', 'ccns', 'cdqajwfltywgc2ff4yq', 'cdqajwfltywgc2ff4yq', 'cebette', 'cebette', 'cebolla', 'cebolla', 'cece', 'cece', 'ceelo', 'ceelo', 'cemetery', 'cemetery', 'cen', 'cen', 'cenare', 'cenare', 'centrebell', 'centrebell', 'ceremonial', 'ceremonial', 'cerise', 'cerise', 'certes', 'certes', 'certify', 'certify', 'cerveza', 'cerveza', 'cerviche', 'cerviche', 'cervix', 'cervix', 'cet', 'cet', 'ceylon', 'ceylon', 'cfa', 'cfa', 'cfb', 'cfb', 'cfl', 'cfl', 'cgi', 'cgi', 'chacewater', 'chacewater', 'chadol', 'chadol', 'chafing', 'chafing', 'chainsmokers', 'chainsmokers', 'chalking', 'chalking', 'chaloupa', 'chaloupa', 'chalupa', 'chalupa', 'chamorro', 'chamorro', 'chamoy', 'chamoy', 'champignons', 'champignons', 'chanced', 'chanced', 'chandon', 'chandon', 'changeroom', 'changeroom', 'channa', 'channa', 'channeling', 'channeling', 'channing', 'channing', 'chanpen', 'chanpen', 'chapo', 'chapo', 'charbroiling', 'charbroiling', 'charitable', 'charitable', 'charley', 'charley', 'charlies', 'charlies', 'charmer', 'charmer', 'charmingly', 'charmingly', 'charsiu', 'charsiu', 'chartered', 'chartered', 'charting', 'charting', 'chassis', 'chassis', 'chastity', 'chastity', 'chasyu', 'chasyu', 'chateaumar', 'chateaumar', 'chattin', 'chattin', 'chau', 'chau', 'chauffeur', 'chauffeur', 'chaun', 'chaun', 'chawamushi', 'chawamushi', 'chayote', 'chayote', 'chdjxllknwixbxpdwegb', 'chdjxllknwixbxpdwegb', 'cheapens', 'cheapens', 'cheapie', 'cheapie', 'cheba', 'cheba', 'checkmate', 'checkmate', 'cheech', 'cheech', 'cheeked', 'cheeked', 'cheeseball', 'cheeseball', 'cheeze', 'cheeze', 'cheezy', 'cheezy', 'chemin', 'chemin', 'chemistry', 'chemistry', 'cheri', 'cheri', 'cherished', 'cherished', 'chernobyl', 'chernobyl', 'cherryblossom', 'cherryblossom', 'cherub', 'cherub', 'cherubic', 'cherubic', 'chervil', 'chervil', 'cheshire', 'cheshire', 'chester', 'chester', 'chettinadu', 'chettinadu', 'cheval', 'cheval', 'chiave', 'chiave', 'chicarron', 'chicarron', 'chicarrones', 'chicarrones', 'chijiri', 'chijiri', 'chikin', 'chikin', 'chilaquelles', 'chilaquelles', 'childless', 'childless', 'childrens', 'childrens', 'chillaxin', 'chillaxin', 'chillaxing', 'chillaxing', 'chim', 'chim', 'chimmi', 'chimmi', 'chinook', 'chinook', 'chipoltle', 'chipoltle', 'chipper', 'chipper', 'chipster', 'chipster', 'chirachi', 'chirachi', 'chiuso', 'chiuso', 'chivalry', 'chivalry', 'chocked', 'chocked', 'chockful', 'chockful', 'chocoholic', 'chocoholic', 'chocolately', 'chocolately', 'chophouse', 'chophouse', 'chopin', 'chopin', 'choppy', 'choppy', 'chos', 'chos', 'chouriço', 'chouriço', 'chowed', 'chowed', 'christown', 'christown', 'chronological', 'chronological', 'chrystalle', 'chrystalle', 'chs', 'chs', 'chuckling', 'chuckling', 'chucky', 'chucky', 'chugged', 'chugged', 'chuleta', 'chuleta', 'chuncks', 'chuncks', 'chupito', 'chupito', 'churned', 'churned', 'chutima', 'chutima', 'château', 'château', 'chèvre', 'chèvre', 'ciara', 'ciara', 'cigs', 'cigs', 'cimarron', 'cimarron', 'cincinnati', 'cincinnati', 'cindi', 'cindi', 'cinnabun', 'cinnabun', 'cinnamony', 'cinnamony', 'circulate', 'circulate', 'circulation', 'circulation', 'citizenship', 'citizenship', 'citrouille', 'citrouille', 'civics', 'civics', 'civilian', 'civilian', 'civility', 'civility', 'cj', 'cj', 'ckas', 'ckas', 'ckers', 'ckers', 'ckin', 'ckin', 'clacking', 'clacking', 'clairvoyant', 'clairvoyant', 'clammy', 'clammy', 'clamshell', 'clamshell', 'clanging', 'clanging', 'clank', 'clank', 'clarinet', 'clarinet', 'clarke', 'clarke', 'clasp', 'clasp', 'classed', 'classed', 'classici', 'classici', 'classiness', 'classiness', 'claude', 'claude', 'clawing', 'clawing', 'clayton', 'clayton', 'clearer', 'clearer', 'clementine', 'clementine', 'cleve', 'cleve', 'clevelander', 'clevelander', 'climactic', 'climactic', 'clinched', 'clinched', 'cling', 'cling', 'clingy', 'clingy', 'clinical', 'clinical', 'clinician', 'clinician', 'clod', 'clod', 'closeness', 'closeness', 'clubbin', 'clubbin', 'clued', 'clued', 'clumsiness', 'clumsiness', 'clunker', 'clunker', 'coagulated', 'coagulated', 'coarsely', 'coarsely', 'coasting', 'coasting', 'coaxing', 'coaxing', 'coc', 'coc', 'coccoli', 'coccoli', 'cochinitas', 'cochinitas', 'cockfight', 'cockfight', 'cockpit', 'cockpit', 'cocktel', 'cocktel', 'cocomo', 'cocomo', 'coconutty', 'coconutty', 'cocooned', 'cocooned', 'coexisting', 'coexisting', 'cofee', 'cofee', 'coffe', 'coffe', 'coffey', 'coffey', 'cognitive', 'cognitive', 'cohen', 'cohen', 'cohort', 'cohort', 'coiffed', 'coiffed', 'coincide', 'coincide', 'coincides', 'coincides', 'coked', 'coked', 'colazione', 'colazione', 'colbert', 'colbert', 'coldest', 'coldest', 'coldness', 'coldness', 'colgate', 'colgate', 'coliseum', 'coliseum', 'collapsed', 'collapsed', 'collegato', 'collegato', 'collide', 'collide', 'colonial', 'colonial', 'comarz', 'comarz', 'combative', 'combative', 'comed', 'comed', 'comely', 'comely', 'comestible', 'comestible', 'comin', 'comin', 'commander', 'commander', 'commemorating', 'commemorating', 'commensurate', 'commensurate', 'commenters', 'commenters', 'commiserate', 'commiserate', 'commode', 'commode', 'commune', 'commune', 'communion', 'communion', 'communist', 'communist', 'comoncy', 'comoncy', 'compactness', 'compactness', 'companionship', 'companionship', 'companying', 'companying', 'compel', 'compel', 'compels', 'compels', 'compendium', 'compendium', 'competitively', 'competitively', 'complacent', 'complacent', 'compony', 'compony', 'compose', 'compose', 'composing', 'composing', 'composite', 'composite', 'composure', 'composure', 'comprare', 'comprare', 'compte', 'compte', 'compulsory', 'compulsory', 'compute', 'compute', 'computing', 'computing', 'compétent', 'compétent', 'comunque', 'comunque', 'concave', 'concave', 'conceited', 'conceited', 'conceivably', 'conceivably', 'conceived', 'conceived', 'conceptualize', 'conceptualize', 'concerted', 'concerted', 'concertgoers', 'concertgoers', 'conclusively', 'conclusively', 'concurred', 'concurred', 'condense', 'condense', 'condensing', 'condensing', 'condesa', 'condesa', 'condescendingly', 'condescendingly', 'condescension', 'condescension', 'conditional', 'conditional', 'confiscate', 'confiscate', 'confiscating', 'confiscating', 'confiscation', 'confiscation', 'conforming', 'conforming', 'confortable', 'confortable', 'confronts', 'confronts', 'confuses', 'confuses', 'congo', 'congo', 'congratulate', 'congratulate', 'conjecture', 'conjecture', 'conjoined', 'conjoined', 'connor', 'connor', 'conphusion', 'conphusion', 'conquers', 'conquers', 'consigliato', 'consigliato', 'consignment', 'consignment', 'consistence', 'consistence', 'consommé', 'consommé', 'conspicuous', 'conspicuous', 'conspicuously', 'conspicuously', 'conspire', 'conspire', 'constat', 'constat', 'constitute', 'constitute', 'construed', 'construed', 'consulate', 'consulate', 'consumerism', 'consumerism', 'consummately', 'consummately', 'contented', 'contented', 'contiguous', 'contiguous', 'continuum', 'continuum', 'contort', 'contort', 'contracting', 'contracting', 'conveinent', 'conveinent', 'convened', 'convened', 'conversationalist', 'conversationalist', 'convinces', 'convinces', 'cookiez', 'cookiez', 'coolant', 'coolant', 'cooperative', 'cooperative', 'cooraborate', 'cooraborate', 'cooter', 'cooter', 'copa', 'copa', 'copay', 'copay', 'copeland', 'copeland', 'copenhagen', 'copenhagen', 'copped', 'copped', 'copycat', 'copycat', 'copying', 'copying', 'coral', 'coral', 'coraopolis', 'coraopolis', 'corbieres', 'corbieres', 'cored', 'cored', 'corkscrew', 'corkscrew', 'corky', 'corky', 'cornflakes', 'cornflakes', 'cornhole', 'cornhole', 'cornwall', 'cornwall', 'corolla', 'corolla', 'corralled', 'corralled', 'correctness', 'correctness', 'correlated', 'correlated', 'correlation', 'correlation', 'corresponded', 'corresponded', 'corroded', 'corroded', 'corrupted', 'corrupted', 'cose', 'cose', 'cosmetologist', 'cosmetologist', 'cosmically', 'cosmically', 'cosmopawlitan', 'cosmopawlitan', 'cosmopolitian', 'cosmopolitian', 'cosplay', 'cosplay', 'costner', 'costner', 'cottontail', 'cottontail', 'couche', 'couche', 'coughed', 'coughed', 'coulis', 'coulis', 'counseling', 'counseling', 'counterbalance', 'counterbalance', 'countered', 'countered', 'counterintuitive', 'counterintuitive', 'counterpoint', 'counterpoint', 'countin', 'countin', 'countryside', 'countryside', 'courgette', 'courgette', 'coursework', 'coursework', 'courteously', 'courteously', 'covet', 'covet', 'cowabunga', 'cowabunga', 'cowfish', 'cowfish', 'coy', 'coy', 'cozily', 'cozily', 'coziness', 'coziness', 'cr', 'cr', 'crafthaus', 'crafthaus', 'cranked', 'cranked', 'crankier', 'crankier', 'cranston', 'cranston', 'crapped', 'crapped', 'crappiest', 'crappiest', 'craptastic', 'craptastic', 'crass', 'crass', 'crating', 'crating', 'cravin', 'cravin', 'crayfish', 'crayfish', 'crazily', 'crazily', 'creaky', 'creaky', 'creama', 'creama', 'creamberry', 'creamberry', 'creamless', 'creamless', 'credence', 'credence', 'creekstone', 'creekstone', 'creepily', 'creepily', 'cremation', 'cremation', 'cremeux', 'cremeux', 'cress', 'cress', 'cringed', 'cringed', 'cripes', 'cripes', 'cripsy', 'cripsy', 'cris', 'cris', 'crisper', 'crisper', 'cristina', 'cristina', 'critiqued', 'critiqued', 'croatian', 'croatian', 'crocker', 'crocker', 'crooner', 'crooner', 'crossway', 'crossway', 'croute', 'croute', 'crowe', 'crowe', 'cruchy', 'cruchy', 'crue', 'crue', 'cruffin', 'cruffin', 'crumbed', 'crumbed', 'crummy', 'crummy', 'crunchwrap', 'crunchwrap', 'crunk', 'crunk', 'crusade', 'crusade', 'crustless', 'crustless', 'cryogenic', 'cryogenic', 'csrs', 'csrs', 'cubbyhole', 'cubbyhole', 'cuckold', 'cuckold', 'cuckoo', 'cuckoo', 'cud', 'cud', 'cuddly', 'cuddly', 'cued', 'cued', 'cui', 'cui', 'culantro', 'culantro', 'culinarily', 'culinarily', 'culminated', 'culminated', 'cunzdo19cazgprqpffxjqw', 'cunzdo19cazgprqpffxjqw', 'cupid', 'cupid', 'cupping', 'cupping', 'curator', 'curator', 'curdled', 'curdled', 'curley', 'curley', 'curryness', 'curryness', 'curtailed', 'curtailed', 'curtained', 'curtained', 'curveball', 'curveball', 'curving', 'curving', 'cushiony', 'cushiony', 'custody', 'custody', 'customizations', 'customizations', 'cuuuute', 'cuuuute', 'cvps', 'cvps', 'cw', 'cw', 'cyclebar', 'cyclebar', 'cyclery', 'cyclery', 'cyclist', 'cyclist', 'cymbal', 'cymbal', 'cytomax', 'cytomax', 'czech', 'czech', 'd16', 'd16', 'd22', 'd22', 'daaaaaang', 'daaaaaang', 'daaaang', 'daaaang', 'daal', 'daal', 'daan', 'daan', 'dabbled', 'dabbled', 'dacqoise', 'dacqoise', 'dado', 'dado', 'dagger', 'dagger', 'dagneau', 'dagneau', 'dahnce', 'dahnce', 'dai', 'dai', 'dak', 'dak', 'dalla', 'dalla', 'dalmatia', 'dalmatia', 'dalton', 'dalton', 'damion', 'damion', 'damon', 'damon', 'dampen', 'dampen', 'damper', 'damper', 'dancy', 'dancy', 'dandoy', 'dandoy', 'dandruff', 'dandruff', 'dangerfield', 'dangerfield', 'danko', 'danko', 'dante', 'dante', 'darak', 'darak', 'darius', 'darius', 'daron', 'daron', 'darrin', 'darrin', 'dartagnan', 'dartagnan', 'darth', 'darth', 'darting', 'darting', 'dashing', 'dashing', 'dasti', 'dasti', 'dateline', 'dateline', 'dato', 'dato', 'dattente', 'dattente', 'davanguardia', 'davanguardia', 'davoir', 'davoir', 'dayboat', 'dayboat', 'dazzle', 'dazzle', 'dazzo', 'dazzo', 'deacon', 'deacon', 'deadmau5', 'deadmau5', 'deafening', 'deafening', 'deafness', 'deafness', 'dearth', 'dearth', 'deathwish', 'deathwish', 'debaucherous', 'debaucherous', 'deboarding', 'deboarding', 'debon', 'debon', 'debra', 'debra', 'debriefing', 'debriefing', 'decanted', 'decanted', 'deceitful', 'deceitful', 'decieving', 'decieving', 'declaring', 'declaring', 'decoded', 'decoded', 'deconstruction', 'deconstruction', 'decore', 'decore', 'decored', 'decored', 'decorum', 'decorum', 'decoy', 'decoy', 'decree', 'decree', 'deduce', 'deduce', 'deegan', 'deegan', 'deen', 'deen', 'deery', 'deery', 'defenseless', 'defenseless', 'deferens', 'deferens', 'defies', 'defies', 'deflating', 'deflating', 'deflect', 'deflect', 'deflection', 'deflection', 'defo', 'defo', 'deft', 'deft', 'deg', 'deg', 'degeneres', 'degeneres', 'degrading', 'degrading', 'deigned', 'deigned', 'delhi', 'delhi', 'deliberating', 'deliberating', 'delighting', 'delighting', 'delinquency', 'delinquency', 'delorean', 'delorean', 'deluge', 'deluge', 'delux', 'delux', 'demean', 'demean', 'dementia', 'dementia', 'demerit', 'demerit', 'democratic', 'democratic', 'dempsey', 'dempsey', 'demure', 'demure', 'denim', 'denim', 'deniro', 'deniro', 'denotes', 'denotes', 'depeche', 'depeche', 'dependability', 'dependability', 'deplane', 'deplane', 'depp', 'depp', 'derelict', 'derelict', 'dermatological', 'dermatological', 'derogatory', 'derogatory', 'derp', 'derp', 'derriere', 'derriere', 'descendant', 'descendant', 'deservingly', 'deservingly', 'desiccated', 'desiccated', 'designate', 'designate', 'desiring', 'desiring', 'desolation', 'desolation', 'detached', 'detached', 'detectable', 'detectable', 'detention', 'detention', 'deterent', 'deterent', 'determines', 'determines', 'deters', 'deters', 'dethrone', 'dethrone', 'detoxifies', 'detoxifies', 'detoxing', 'detoxing', 'detracted', 'detracted', 'detraction', 'detraction', 'detractor', 'detractor', 'detriment', 'detriment', 'deuxième', 'deuxième', 'devi', 'devi', 'deviating', 'deviating', 'devotion', 'devotion', 'devours', 'devours', 'dewar', 'dewar', 'dewayne', 'dewayne', 'dezember', 'dezember', 'dfi', 'dfi', 'dh', 'dh', 'dhaba', 'dhaba', 'dhokla', 'dhokla', 'diabla', 'diabla', 'diappointed', 'diappointed', 'diatribe', 'diatribe', 'dickey', 'dickey', 'didn', 'didn', 'diesem', 'diesem', 'difara', 'difara', 'differential', 'differential', 'differentiated', 'differentiated', 'diffused', 'diffused', 'diggin', 'diggin', 'digressing', 'digressing', 'dijonnaise', 'dijonnaise', 'dilated', 'dilated', 'dilettante', 'dilettante', 'diller', 'diller', 'dilly', 'dilly', 'diminishing', 'diminishing', 'dimondbacks', 'dimondbacks', 'dindinz', 'dindinz', 'dingbat', 'dingbat', 'dinge', 'dinge', 'dinged', 'dinged', 'dingiest', 'dingiest', 'dinging', 'dinging', 'dinh', 'dinh', 'diplo', 'diplo', 'diplomacy', 'diplomacy', 'dippin', 'dippin', 'dirndl', 'dirndl', 'dirtiness', 'dirtiness', 'dirtyblondetavern', 'dirtyblondetavern', 'disagreeing', 'disagreeing', 'disappearance', 'disappearance', 'disassembly', 'disassembly', 'discernment', 'discernment', 'discolored', 'discolored', 'discombobulated', 'discombobulated', 'discourse', 'discourse', 'discrete', 'discrete', 'discriminates', 'discriminates', 'disgraceful', 'disgraceful', 'dishware', 'dishware', 'disintegrated', 'disintegrated', 'disinterest', 'disinterest', 'dismissing', 'dismissing', 'dismount', 'dismount', 'disneyworld', 'disneyworld', 'disorderly', 'disorderly', 'disparate', 'disparate', 'disparity', 'disparity', 'dispatcher', 'dispatcher', 'disrupting', 'disrupting', 'dissapoint', 'dissapoint', 'dissapointment', 'dissapointment', 'dissappoint', 'dissappoint', 'dissected', 'dissected', 'dissenter', 'dissenter', 'dissolved', 'dissolved', 'dissuaded', 'dissuaded', 'distinguishable', 'distinguishable', 'distorted', 'distorted', 'distressing', 'distressing', 'disturbance', 'disturbance', 'ditching', 'ditching', 'ditka', 'ditka', 'ditzy', 'ditzy', 'dived', 'dived', 'diverged', 'diverged', 'diversen', 'diversen', 'diverting', 'diverting', 'divulge', 'divulge', 'divulged', 'divulged', 'dizziness', 'dizziness', 'dizzle', 'dizzle', 'djt', 'djt', 'dkys3arloha8si5uuemhow', 'dkys3arloha8si5uuemhow', 'dl7uzfociz0vaya0spex0a', 'dl7uzfociz0vaya0spex0a', 'dmd', 'dmd', 'dn', 'dn', 'dn3vnamr', 'dn3vnamr', 'dnb', 'dnb', 'documenting', 'documenting', 'doddy', 'doddy', 'dodgy', 'dodgy', 'doenjang', 'doenjang', 'doge', 'doge', 'dogfish', 'dogfish', 'dogg', 'dogg', 'dogging', 'dogging', 'dogma', 'dogma', 'dojo', 'dojo', 'dolin', 'dolin', 'domination', 'domination', 'domingo', 'domingo', 'donachos', 'donachos', 'donatello', 'donatello', 'donates', 'donates', 'donc', 'donc', 'donned', 'donned', 'donnerstag', 'donnerstag', 'donning', 'donning', 'donné', 'donné', 'donts', 'donts', 'dood', 'dood', 'doodad', 'doodad', 'doped', 'doped', 'dopo', 'dopo', 'doraku', 'doraku', 'dore', 'dore', 'doria', 'doria', 'dorky', 'dorky', 'dotty', 'dotty', 'doublemint', 'doublemint', 'doubting', 'doubting', 'douchebaggery', 'douchebaggery', 'douchenozzles', 'douchenozzles', 'dour', 'dour', 'dovuto', 'dovuto', 'downloads', 'downloads', 'downpour', 'downpour', 'downsizing', 'downsizing', 'downsview', 'downsview', 'dozed', 'dozed', 'dpi', 'dpi', 'dq', 'dq', 'drafting', 'drafting', 'dragonball', 'dragonball', 'dragonfruit', 'dragonfruit', 'dramatische', 'dramatische', 'dranx', 'dranx', 'drawl', 'drawl', 'dreamsicle', 'dreamsicle', 'dreamweaver', 'dreamweaver', 'dreck', 'dreck', 'dredged', 'dredged', 'dreg', 'dreg', 'drench', 'drench', 'dreyfus', 'dreyfus', 'dribbled', 'dribbled', 'drifting', 'drifting', 'drinkies', 'drinkies', 'drinky', 'drinky', 'drivel', 'drivel', 'drivin', 'drivin', 'drizzly', 'drizzly', 'droll', 'droll', 'droolworthy', 'droolworthy', 'drooool', 'drooool', 'droplet', 'droplet', 'droppin', 'droppin', 'drs', 'drs', 'drscholls', 'drscholls', 'drunkest', 'drunkest', 'drunkies', 'drunkies', 'drunky', 'drunky', 'drury', 'drury', 'drweil', 'drweil', 'dsm', 'dsm', 'du07devvg6mtuakb0rkx9w', 'du07devvg6mtuakb0rkx9w', 'dublinar', 'dublinar', 'dubliner', 'dubliner', 'dubstep', 'dubstep', 'ductwork', 'ductwork', 'dudebros', 'dudebros', 'dudettes', 'dudettes', 'dufferin', 'dufferin', 'duffle', 'duffle', 'dumber', 'dumber', 'dumbing', 'dumbing', 'dunaway', 'dunaway', 'dung', 'dung', 'dunlap', 'dunlap', 'dunt', 'dunt', 'durchgang', 'durchgang', 'duress', 'duress', 'duroa', 'duroa', 'dutifully', 'dutifully', 'duxelle', 'duxelle', 'dv', 'dv', 'dve', 'dve', 'dwight', 'dwight', 'dwindle', 'dwindle', 'dwindling', 'dwindling', 'dynamo', 'dynamo', 'dysentery', 'dysentery', 'dysfunction', 'dysfunction', 'dysmorphia', 'dysmorphia', 'dysons', 'dysons', 'dêtre', 'dêtre', 'dürre', 'dürre', 'e1mybcsvep6dppyp7sz2tw', 'e1mybcsvep6dppyp7sz2tw', 'e6m', 'e6m', 'eally', 'eally', 'eardrum', 'eardrum', 'earful', 'earful', 'earnestly', 'earnestly', 'easing', 'easing', 'eastbound', 'eastbound', 'eastsiders', 'eastsiders', 'eaves', 'eaves', 'eavesdrop', 'eavesdrop', 'eavesdropping', 'eavesdropping', 'eba', 'eba', 'ebert', 'ebert', 'ecclectic', 'ecclectic', 'eclipsed', 'eclipsed', 'ecret', 'ecret', 'edd', 'edd', 'educator', 'educator', 'ee3f2mqj1l6fw', 'ee3f2mqj1l6fw', 'eee', 'eee', 'eeew', 'eeew', 'eemni2j3d2ebpykrh', 'eemni2j3d2ebpykrh', 'eerily', 'eerily', 'eesch', 'eesch', 'effected', 'effected', 'effervescence', 'effervescence', 'effervescent', 'effervescent', 'egged', 'egged', 'eggo', 'eggo', 'eglington', 'eglington', 'egregiously', 'egregiously', 'ehemaligen', 'ehemaligen', 'ei', 'ei', 'eiffelturm', 'eiffelturm', 'eigenen', 'eigenen', 'eindruck', 'eindruck', 'einkaufen', 'einkaufen', 'einkaufszentrum', 'einkaufszentrum', 'einnwa', 'einnwa', 'eintritt', 'eintritt', 'einwohnern', 'einwohnern', 'eis', 'eis', 'eixr6tluw', 'eixr6tluw', 'ej', 'ej', 'ekczrft5isvpkl4p9hxaww', 'ekczrft5isvpkl4p9hxaww', 'ekg', 'ekg', 'ekko', 'ekko', 'elaborated', 'elaborated', 'elaborating', 'elaborating', 'elantra', 'elantra', 'elbowing', 'elbowing', 'eldest', 'eldest', 'electrified', 'electrified', 'electrifying', 'electrifying', 'electroshock', 'electroshock', 'elementry', 'elementry', 'eleventh', 'eleventh', 'elicit', 'elicit', 'elicited', 'elicited', 'elkhorn', 'elkhorn', 'elles', 'elles', 'ellesmere', 'ellesmere', 'ellington', 'ellington', 'elm', 'elm', 'elsa', 'elsa', 'elvia', 'elvia', 'emaciated', 'emaciated', 'emasculated', 'emasculated', 'embark', 'embark', 'embellish', 'embellish', 'emblematic', 'emblematic', 'embody', 'embody', 'embossed', 'embossed', 'embroidered', 'embroidered', 'emergen', 'emergen', 'emerges', 'emerges', 'emerson', 'emerson', 'emilia', 'emilia', 'emitted', 'emitted', 'emm', 'emm', 'empanadillas', 'empanadillas', 'empathize', 'empathize', 'empfehlenswert', 'empfehlenswert', 'emphasizing', 'emphasizing', 'emptiness', 'emptiness', 'emt', 'emt', 'emulates', 'emulates', 'emy', 'emy', 'encapsulates', 'encapsulates', 'encountering', 'encountering', 'endo', 'endo', 'endocrinologist', 'endocrinologist', 'endorsing', 'endorsing', 'endoscopy', 'endoscopy', 'endowed', 'endowed', 'endowment', 'endowment', 'endust', 'endust', 'enema', 'enema', 'enfmjtztogejmf', 'enfmjtztogejmf', 'engages', 'engages', 'engrossed', 'engrossed', 'enjoyably', 'enjoyably', 'enlightening', 'enlightening', 'enlisted', 'enlisted', 'enraged', 'enraged', 'ensalada', 'ensalada', 'ensaladang', 'ensaladang', 'ensenada', 'ensenada', 'entenmann', 'entenmann', 'enterprising', 'enterprising', 'entices', 'entices', 'entirer', 'entirer', 'entrare', 'entrare', 'entrusted', 'entrusted', 'entschieden', 'entschieden', 'entstanden', 'entstanden', 'enumerate', 'enumerate', 'envelop', 'envelop', 'envie', 'envie', 'environmentalist', 'environmentalist', 'enzyme', 'enzyme', 'eohdueqdngq6wyenp2airw', 'eohdueqdngq6wyenp2airw', 'epicenter', 'epicenter', 'epidermis', 'epidermis', 'epidural', 'epidural', 'epilogue', 'epilogue', 'epithet', 'epithet', 'epitomize', 'epitomize', 'epoxy', 'epoxy', 'equip', 'equip', 'eraser', 'eraser', 'erdenklichen', 'erdenklichen', 'erectile', 'erectile', 'erinnert', 'erinnert', 'erkennt', 'erkennt', 'erlebnis', 'erlebnis', 'erm', 'erm', 'ernie', 'ernie', 'erosion', 'erosion', 'errant', 'errant', 'erratic', 'erratic', 'erroneous', 'erroneous', 'errrr', 'errrr', 'erryday', 'erryday', 'erste', 'erste', 'ervice', 'ervice', 'eröffnung', 'eröffnung', 'escalate', 'escalate', 'escalation', 'escalation', 'escapade', 'escapade', 'escarole', 'escarole', 'escorting', 'escorting', 'eskimo', 'eskimo', 'especial', 'especial', 'espetada', 'espetada', 'espressamente', 'espressamente', 'espuma', 'espuma', 'esquites', 'esquites', 'esquivel', 'esquivel', 'essere', 'essere', 'estimation', 'estimation', 'estrogen', 'estrogen', 'etage', 'etage', 'etched', 'etched', 'etching', 'etching', 'etf', 'etf', 'etfmyjpvqd5ewa27tltxxq', 'etfmyjpvqd5ewa27tltxxq', 'ether', 'ether', 'ethically', 'ethically', 'ethnically', 'ethnically', 'etliche', 'etliche', 'etsuro', 'etsuro', 'etwas', 'etwas', 'eucg', 'eucg', 'eugine', 'eugine', 'eunice', 'eunice', 'eunuch', 'eunuch', 'europa', 'europa', 'euthanasia', 'euthanasia', 'evacuate', 'evacuate', 'evacuates', 'evacuates', 'evap', 'evap', 'evaporate', 'evaporate', 'evaporation', 'evaporation', 'eventful', 'eventful', 'everynight', 'everynight', 'evoking', 'evoking', 'exagérés', 'exagérés', 'excaliber', 'excaliber', 'excavation', 'excavation', 'excelente', 'excelente', 'excellente', 'excellente', 'excerpt', 'excerpt', 'excitingly', 'excitingly', 'exclusivity', 'exclusivity', 'excusing', 'excusing', 'exemplifies', 'exemplifies', 'exept', 'exept', 'exfoliant', 'exfoliant', 'existant', 'existant', 'exorbitantly', 'exorbitantly', 'exotics', 'exotics', 'expander', 'expander', 'expat', 'expat', 'expectantly', 'expectantly', 'expediter', 'expediter', 'expeditiously', 'expeditiously', 'experiance', 'experiance', 'experiential', 'experiential', 'experimented', 'experimented', 'experince', 'experince', 'expiry', 'expiry', 'explodes', 'explodes', 'exploit', 'exploit', 'exploratory', 'exploratory', 'expressively', 'expressively', 'exprès', 'exprès', 'expérience', 'expérience', 'extenuating', 'extenuating', 'extenze', 'extenze', 'extinct', 'extinct', 'extracurricular', 'extracurricular', 'extracurriculars', 'extracurriculars', 'extraneous', 'extraneous', 'extrication', 'extrication', 'eyedrop', 'eyedrop', 'eyedroppers', 'eyedroppers', 'eyeglass', 'eyeglass', 'eyelet', 'eyelet', 'eyeroll', 'eyeroll', 'eyewear', 'eyewear', 'eze', 'eze', 'f6n3zwigv7jbiwb', 'f6n3zwigv7jbiwb', 'f8cg', 'f8cg', 'fa', 'fa', 'faaaace', 'faaaace', 'fabbri', 'fabbri', 'fabled', 'fabled', 'fabricated', 'fabricated', 'fabu', 'fabu', 'facilatator', 'facilatator', 'facile', 'facile', 'facilitator', 'facilitator', 'factoid', 'factoid', 'factual', 'factual', 'facture', 'facture', 'fafnir', 'fafnir', 'fahrgeschäfte', 'fahrgeschäfte', 'fahrzeug', 'fahrzeug', 'fainted', 'fainted', 'fairway', 'fairway', 'fallin', 'fallin', 'falsely', 'falsely', 'falsetto', 'falsetto', 'faltered', 'faltered', 'familia', 'familia', 'famz', 'famz', 'fanboy', 'fanboy', 'fancified', 'fancified', 'fangirl', 'fangirl', 'fantabulous', 'fantabulous', 'fantasia', 'fantasia', 'fantasize', 'fantasize', 'fantastique', 'fantastique', 'fantastischen', 'fantastischen', 'farmland', 'farmland', 'farrotto', 'farrotto', 'farrow', 'farrow', 'farting', 'farting', 'fas', 'fas', 'fasted', 'fasted', 'fastidious', 'fastidious', 'fatality', 'fatality', 'fatigued', 'fatigued', 'fatima', 'fatima', 'fattened', 'fattened', 'fatto', 'fatto', 'faut', 'faut', 'favoritos', 'favoritos', 'fawned', 'fawned', 'fawning', 'fawning', 'faxing', 'faxing', 'faye', 'faye', 'fbh', 'fbh', 'fccynnvyampdocmi9nkhw', 'fccynnvyampdocmi9nkhw', 'fearsome', 'fearsome', 'feasible', 'feasible', 'feces', 'feces', 'feeble', 'feeble', 'feeler', 'feeler', 'feely', 'feely', 'feeney', 'feeney', 'feenin', 'feenin', 'feierlich', 'feierlich', 'feign', 'feign', 'feigning', 'feigning', 'feijoada', 'feijoada', 'feint', 'feint', 'felichia', 'felichia', 'fellaz', 'fellaz', 'felony', 'felony', 'femininity', 'femininity', 'feminist', 'feminist', 'femmes', 'femmes', 'fending', 'fending', 'feroce', 'feroce', 'fetched', 'fetched', 'fetching', 'fetching', 'fettucine', 'fettucine', 'feud', 'feud', 'feuilletage', 'feuilletage', 'fgb', 'fgb', 'fgrf2chdxfdkshcs8vdofa', 'fgrf2chdxfdkshcs8vdofa', 'fiamma', 'fiamma', 'fib', 'fib', 'fibre', 'fibre', 'fico', 'fico', 'fide', 'fide', 'fifthly', 'fifthly', 'figgy', 'figgy', 'filament', 'filament', 'filete', 'filete', 'filettino', 'filettino', 'filetto', 'filetto', 'filiale', 'filiale', 'fillmore', 'fillmore', 'filme', 'filme', 'filo', 'filo', 'filthier', 'filthier', 'financed', 'financed', 'financier', 'financier', 'findlay', 'findlay', 'fingerprinted', 'fingerprinted', 'finicky', 'finicky', 'fining', 'fining', 'finned', 'finned', 'finnochiona', 'finnochiona', 'fior', 'fior', 'firenze', 'firenze', 'firestarter', 'firestarter', 'firnee', 'firnee', 'fishbone', 'fishbone', 'fishie', 'fishie', 'fishiness', 'fishiness', 'fitbit', 'fitbit', 'fittingly', 'fittingly', 'fitzmaurice', 'fitzmaurice', 'fived', 'fived', 'fiving', 'fiving', 'flabbergasted', 'flabbergasted', 'flabby', 'flabby', 'flagellation', 'flagellation', 'flagrantly', 'flagrantly', 'flambe', 'flambe', 'flambé', 'flambé', 'flanking', 'flanking', 'flappy', 'flappy', 'flatten', 'flatten', 'flattening', 'flattening', 'flattering', 'flattering', 'flatulence', 'flatulence', 'flatulent', 'flatulent', 'flaunting', 'flaunting', 'flauta', 'flauta', 'flavortown', 'flavortown', 'flavouring', 'flavouring', 'flaxseed', 'flaxseed', 'flee', 'flee', 'flemming', 'flemming', 'flickered', 'flickered', 'flinch', 'flinch', 'flinching', 'flinching', 'flippant', 'flippant', 'flipper', 'flipper', 'floatation', 'floatation', 'flocked', 'flocked', 'flonase', 'flonase', 'floorboard', 'floorboard', 'flopped', 'flopped', 'florescence', 'florescence', 'floret', 'floret', 'floridian', 'floridian', 'floridino', 'floridino', 'flos', 'flos', 'flossed', 'flossed', 'flossing', 'flossing', 'flossy', 'flossy', 'floured', 'floured', 'flowerbed', 'flowerbed', 'flowin', 'flowin', 'flowy', 'flowy', 'flub', 'flub', 'fluently', 'fluently', 'flughafen', 'flughafen', 'flux', 'flux', 'fluß', 'fluß', 'flynt', 'flynt', 'flyo4yn5', 'flyo4yn5', 'fmfsjgifvaipuli8regroa', 'fmfsjgifvaipuli8regroa', 'fml', 'fml', 'foccaccia', 'foccaccia', 'fogged', 'fogged', 'foggy', 'foggy', 'folie', 'folie', 'fomo', 'fomo', 'fondante', 'fondante', 'fonder', 'fonder', 'fondle', 'fondle', 'fondling', 'fondling', 'foodgasmic', 'foodgasmic', 'foodism', 'foodism', 'foolishness', 'foolishness', 'footbath', 'footbath', 'foothill', 'foothill', 'forcefully', 'forcefully', 'forcément', 'forcément', 'foreboding', 'foreboding', 'forecast', 'forecast', 'foreground', 'foreground', 'foreleg', 'foreleg', 'foreshadowing', 'foreshadowing', 'foresight', 'foresight', 'forester', 'forester', 'foretelling', 'foretelling', 'foreverrrr', 'foreverrrr', 'forfeiting', 'forfeiting', 'forklift', 'forklift', 'forlorn', 'forlorn', 'formica', 'formica', 'fornication', 'fornication', 'forsaken', 'forsaken', 'forsee', 'forsee', 'forthwith', 'forthwith', 'fortify', 'fortify', 'fossilized', 'fossilized', 'founding', 'founding', 'foxrc', 'foxrc', 'foxworthy', 'foxworthy', 'fpocmhcieqfar', 'fpocmhcieqfar', 'fr', 'fr', 'fracking', 'fracking', 'fragment', 'fragment', 'fragmented', 'fragmented', 'frais', 'frais', 'fraise', 'fraise', 'frambroise', 'frambroise', 'framing', 'framing', 'franchisee', 'franchisee', 'franchisees', 'franchisees', 'frankenstein', 'frankenstein', 'frappuccinos', 'frappuccinos', 'frappucino', 'frappucino', 'fraps', 'fraps', 'frasher', 'frasher', 'fray', 'fray', 'frc', 'frc', 'frcwp', 'frcwp', 'freamon', 'freamon', 'freasy', 'freasy', 'freckled', 'freckled', 'freddies', 'freddies', 'frederick', 'frederick', 'fredo', 'fredo', 'freegan', 'freegan', 'freeing', 'freeing', 'freien', 'freien', 'freighter', 'freighter', 'freinds', 'freinds', 'frenzied', 'frenzied', 'frequency', 'frequency', 'frere', 'frere', 'fresa', 'fresa', 'freshening', 'freshening', 'freud', 'freud', 'fricassee', 'fricassee', 'fricking', 'fricking', 'frighteningly', 'frighteningly', 'frightful', 'frightful', 'frikkin', 'frikkin', 'frilly', 'frilly', 'fring', 'fring', 'frite', 'frite', 'fritti', 'fritti', 'frodo', 'frodo', 'frogger', 'frogger', 'froid', 'froid', 'froide', 'froide', 'fru', 'fru', 'fruiti', 'fruiti', 'fruitiness', 'fruitiness', 'fruiting', 'fruiting', 'fruitless', 'fruitless', 'fruitwood', 'fruitwood', 'frutti', 'frutti', 'früh', 'früh', 'ftif', 'ftif', 'fubard', 'fubard', 'fuchsia', 'fuchsia', 'fuckery', 'fuckery', 'fudgy', 'fudgy', 'fuh', 'fuh', 'fuissé', 'fuissé', 'fukumini', 'fukumini', 'ful', 'ful', 'funded', 'funded', 'funkadelic', 'funkadelic', 'funn', 'funn', 'funner', 'funner', 'funugyz', 'funugyz', 'fupumuzjpfttls3dny0cig', 'fupumuzjpfttls3dny0cig', 'furai', 'furai', 'furama', 'furama', 'furk', 'furk', 'furnish', 'furnish', 'furthering', 'furthering', 'fusilli', 'fusilli', 'futon', 'futon', 'fuuuuuuck', 'fuuuuuuck', 'fuzion', 'fuzion', 'fuß', 'fuß', 'fwiw', 'fwiw', 'fxxxxo', 'fxxxxo', 'fährt', 'fährt', 'g3', 'g3', 'g6r84q', 'g6r84q', 'g9ajnu9sjq7yitwqrzfo', 'g9ajnu9sjq7yitwqrzfo', 'gabba', 'gabba', 'gabbana', 'gabbana', 'gabriella', 'gabriella', 'gaddafi', 'gaddafi', 'gaffe', 'gaffe', 'gaffigan', 'gaffigan', 'gage', 'gage', 'gagged', 'gagged', 'gagging', 'gagging', 'gail', 'gail', 'galaga', 'galaga', 'galavantier', 'galavantier', 'galbijjim', 'galbijjim', 'galician', 'galician', 'gallavanting', 'gallavanting', 'gambit', 'gambit', 'ganbanyoku', 'ganbanyoku', 'gandalf', 'gandalf', 'gangly', 'gangly', 'gangplank', 'gangplank', 'ganna', 'ganna', 'ganzen', 'ganzen', 'gardiner', 'gardiner', 'gare', 'gare', 'garganelli', 'garganelli', 'gargoyle', 'gargoyle', 'gari', 'gari', 'garish', 'garish', 'garling', 'garling', 'garnering', 'garnering', 'garnier', 'garnier', 'gasket', 'gasket', 'gasm', 'gasm', 'gasmic', 'gasmic', 'gasping', 'gasping', 'gastrointestinal', 'gastrointestinal', 'gauche', 'gauche', 'gawked', 'gawked', 'gayest', 'gayest', 'gayness', 'gayness', 'gazillionaire', 'gazillionaire', 'gbddaenierwbeqjnzglyuq', 'gbddaenierwbeqjnzglyuq', 'ge', 'ge', 'geboten', 'geboten', 'gebucht', 'gebucht', 'gebäudes', 'gebäudes', 'geezy', 'geezy', 'gegend', 'gegend', 'geh', 'geh', 'gehen', 'gehen', 'gehoben', 'gehoben', 'geht', 'geht', 'gei', 'gei', 'geico', 'geico', 'gelateria', 'gelateria', 'gellato', 'gellato', 'gelände', 'gelände', 'gemacht', 'gemacht', 'gemload', 'gemload', 'generalized', 'generalized', 'generates', 'generates', 'generational', 'generational', 'genetically', 'genetically', 'geneticist', 'geneticist', 'genetics', 'genetics', 'genever', 'genever', 'genitalia', 'genitalia', 'genna', 'genna', 'geno', 'geno', 'gentrification', 'gentrification', 'genutzt', 'genutzt', 'geometric', 'geometric', 'ger', 'ger', 'geraten', 'geraten', 'geriatrics', 'geriatrics', 'germaine', 'germaine', 'gerry', 'gerry', 'gerrymandering', 'gerrymandering', 'gesorgt', 'gesorgt', 'gespielt', 'gespielt', 'gestalt', 'gestalt', 'gestaltete', 'gestaltete', 'gestapo', 'gestapo', 'gettysburg', 'gettysburg', 'getup', 'getup', 'gewidmet', 'gewidmet', 'ghastly', 'ghastly', 'ghostbar', 'ghostbar', 'ghostly', 'ghostly', 'ghrelin', 'ghrelin', 'gia', 'gia', 'giani', 'giani', 'giardeniera', 'giardeniera', 'gibberish', 'gibberish', 'gigantically', 'gigantically', 'giggly', 'giggly', 'gigot', 'gigot', 'gilespie', 'gilespie', 'gillian', 'gillian', 'gilligan', 'gilligan', 'gimli', 'gimli', 'ginataan', 'ginataan', 'ginuwine', 'ginuwine', 'gioca', 'gioca', 'giorni', 'giorni', 'gizmo', 'gizmo', 'già', 'già', 'gladdened', 'gladdened', 'gladys', 'gladys', 'glamazon', 'glamazon', 'glamper', 'glamper', 'glassy', 'glassy', 'gleichen', 'gleichen', 'glendora', 'glendora', 'glider', 'glider', 'glisten', 'glisten', 'globbs', 'globbs', 'globetrotter', 'globetrotter', 'gloopy', 'gloopy', 'gloryhole', 'gloryhole', 'glossed', 'glossed', 'glowsticks', 'glowsticks', 'glum', 'glum', 'glut', 'glut', 'glutamate', 'glutamate', 'gluttonously', 'gluttonously', 'gmc', 'gmc', 'gn', 'gn', 'gnawed', 'gnawed', 'gnawing', 'gnawing', 'gnocco', 'gnocco', 'gnome', 'gnome', 'gobbler', 'gobbler', 'gobbling', 'gobbling', 'gobsmacked', 'gobsmacked', 'gochuchang', 'gochuchang', 'goddam', 'goddam', 'goddamit', 'goddamit', 'goddamned', 'goddamned', 'goetz', 'goetz', 'gogodancers', 'gogodancers', 'goldfield', 'goldfield', 'goldwyn', 'goldwyn', 'goliath', 'goliath', 'gomen', 'gomen', 'gonad', 'gonad', 'goner', 'goner', 'gonzales', 'gonzales', 'gonzo', 'gonzo', 'goodtimes', 'goodtimes', 'goofed', 'goofed', 'googly', 'googly', 'gooooooood', 'gooooooood', 'gordan', 'gordan', 'gordita', 'gordita', 'gorenger', 'gorenger', 'gorganzola', 'gorganzola', 'gorged', 'gorged', 'gotham', 'gotham', 'gott', 'gott', 'gougeres', 'gougeres', 'gout', 'gout', 'governing', 'governing', 'graceland', 'graceland', 'gracias', 'gracias', 'gracing', 'gracing', 'grader', 'grader', 'graf', 'graf', 'graffitied', 'graffitied', 'grammed', 'grammed', 'granita', 'granita', 'grappa', 'grappa', 'grasping', 'grasping', 'grater', 'grater', 'gratinee', 'gratinee', 'gratuitous', 'gratuitous', 'gravely', 'gravely', 'gravol', 'gravol', 'grayhawk', 'grayhawk', 'grazing', 'grazing', 'greaseless', 'greaseless', 'greedily', 'greedily', 'greektown', 'greektown', 'greener', 'greener', 'greenish', 'greenish', 'gregorian', 'gregorian', 'grenadian', 'grenadian', 'grendel', 'grendel', 'gretzky', 'gretzky', 'griddlecake', 'griddlecake', 'gridlock', 'gridlock', 'grievance', 'grievance', 'grieving', 'grieving', 'griglia', 'griglia', 'griller', 'griller', 'grimey', 'grimey', 'grinch', 'grinch', 'griped', 'griped', 'grissini', 'grissini', 'gristly', 'gristly', 'gritcake', 'gritcake', 'grizzle', 'grizzle', 'grls', 'grls', 'groomsman', 'groomsman', 'grope', 'grope', 'groping', 'groping', 'gros', 'gros', 'grosse', 'grosse', 'grossest', 'grossest', 'grossing', 'grossing', 'grotesque', 'grotesque', 'groundbreaking', 'groundbreaking', 'groupie', 'groupie', 'grouse', 'grouse', 'grower', 'grower', 'großes', 'großes', 'grrglr', 'grrglr', 'grubbed', 'grubbed', 'grubbs', 'grubbs', 'gruel', 'gruel', 'gruffly', 'gruffly', 'grumble', 'grumble', 'grungier', 'grungier', 'grunion', 'grunion', 'gryfe', 'gryfe', 'grzqzj7h1kzxhap0bw7gxw', 'grzqzj7h1kzxhap0bw7gxw', 'grâce', 'grâce', 'größte', 'größte', 'gspca', 'gspca', 'gspstr2ixwgl', 'gspstr2ixwgl', 'gst', 'gst', 'gtf', 'gtf', 'guanabana', 'guanabana', 'guano', 'guano', 'guantanamo', 'guantanamo', 'guatemala', 'guatemala', 'guaymas', 'guaymas', 'gubernador', 'gubernador', 'gud', 'gud', 'guerrino', 'guerrino', 'guido', 'guido', 'guidos', 'guidos', 'guilted', 'guilted', 'guiness', 'guiness', 'guisadas', 'guisadas', 'guise', 'guise', 'gujarati', 'gujarati', 'gulped', 'gulped', 'gunk', 'gunk', 'gunned', 'gunned', 'gunshot', 'gunshot', 'gusher', 'gusher', 'gustare', 'gustare', 'gustatory', 'gustatory', 'gusty', 'gusty', 'guttural', 'guttural', 'guvernment', 'guvernment', 'gvovidmog', 'gvovidmog', 'gymnast', 'gymnast', 'gyr', 'gyr', 'gyudon', 'gyudon', 'gyunkan', 'gyunkan', 'gâteau', 'gâteau', 'gästen', 'gästen', 'günstige', 'günstige', 'h1jq', 'h1jq', 'h7exguxj2xipvp4ctdxm4q', 'h7exguxj2xipvp4ctdxm4q', 'haan', 'haan', 'habib', 'habib', 'habitual', 'habitual', 'hacked', 'hacked', 'hacker', 'hacker', 'hacksaw', 'hacksaw', 'haddock', 'haddock', 'haejangguk', 'haejangguk', 'hagar', 'hagar', 'haggling', 'haggling', 'hahaa', 'hahaa', 'hahaaaa', 'hahaaaa', 'hahaaaha', 'hahaaaha', 'hahaaahaa', 'hahaaahaa', 'hahaahaa', 'hahaahaa', 'hailed', 'hailed', 'haji', 'haji', 'hak', 'hak', 'hakkadont', 'hakkadont', 'hakkaku', 'hakkaku', 'hakkastairs', 'hakkastairs', 'halbe', 'halbe', 'hale', 'hale', 'halen', 'halen', 'halfed', 'halfed', 'hallucinate', 'hallucinate', 'hammerson', 'hammerson', 'hampered', 'hampered', 'hanabi', 'hanabi', 'handcarved', 'handcarved', 'handcraft', 'handcraft', 'handkerchief', 'handkerchief', 'handwriting', 'handwriting', 'hansel', 'hansel', 'happyeats', 'happyeats', 'hardbodies', 'hardbodies', 'hare', 'hare', 'harlot', 'harlot', 'harmonize', 'harmonize', 'harmonized', 'harmonized', 'harmonizes', 'harmonizes', 'harp', 'harp', 'harrassing', 'harrassing', 'harrassment', 'harrassment', 'harried', 'harried', 'harrowing', 'harrowing', 'harsher', 'harsher', 'harumi', 'harumi', 'harvesting', 'harvesting', 'hashtag', 'hashtag', 'hasselback', 'hasselback', 'hassling', 'hassling', 'hath', 'hath', 'hatin', 'hatin', 'hauling', 'hauling', 'havin', 'havin', 'hawker', 'hawker', 'hawthorn', 'hawthorn', 'hazed', 'hazed', 'hazing', 'hazing', 'hc', 'hc', 'headgear', 'headgear', 'headlined', 'headlined', 'headrest', 'headrest', 'headway', 'headway', 'heaped', 'heaped', 'hearse', 'hearse', 'heartburn', 'heartburn', 'heartless', 'heartless', 'heartwarming', 'heartwarming', 'heatwave', 'heatwave', 'heaviness', 'heaviness', 'heaving', 'heaving', 'hebrew', 'hebrew', 'heckling', 'heckling', 'hedberg', 'hedberg', 'hedgehog', 'hedgehog', 'hedonist', 'hedonist', 'heeded', 'heeded', 'hefeweizen', 'hefeweizen', 'heffer', 'heffer', 'heft', 'heft', 'heftier', 'heftier', 'heidelberg', 'heidelberg', 'heiraten', 'heiraten', 'heisenberg', 'heisenberg', 'helipad', 'helipad', 'hellborne', 'hellborne', 'helles', 'helles', 'helpfully', 'helpfully', 'heo', 'heo', 'herald', 'herald', 'herausfordern', 'herausfordern', 'herbert', 'herbert', 'herbivore', 'herbivore', 'herculean', 'herculean', 'hereby', 'hereby', 'hereforth', 'hereforth', 'heresy', 'heresy', 'herman', 'herman', 'hermit', 'hermit', 'heroine', 'heroine', 'herzstück', 'herzstück', 'heteronormative', 'heteronormative', 'hett', 'hett', 'heyyyyyy', 'heyyyyyy', 'hfl', 'hfl', 'hhof', 'hhof', 'hibs', 'hibs', 'hierbei', 'hierbei', 'hierophant', 'hierophant', 'highball', 'highball', 'hightailed', 'hightailed', 'hiit', 'hiit', 'hilarity', 'hilarity', 'hilfiger', 'hilfiger', 'hilltop', 'hilltop', 'hiltons', 'hiltons', 'hing', 'hing', 'hinterland', 'hinterland', 'hipaa', 'hipaa', 'hippa', 'hippa', 'hippo', 'hippo', 'hipsterish', 'hipsterish', 'hirame', 'hirame', 'hirata', 'hirata', 'hissing', 'hissing', 'histoire', 'histoire', 'historian', 'historian', 'hite', 'hite', 'hitech', 'hitech', 'hitler', 'hitler', 'hitw', 'hitw', 'hj', 'hj', 'hmmmmm', 'hmmmmm', 'hmo', 'hmo', 'hoann', 'hoann', 'hoarse', 'hoarse', 'hoban', 'hoban', 'hoboken', 'hoboken', 'hoc', 'hoc', 'hochzeitskapellen', 'hochzeitskapellen', 'hohes', 'hohes', 'hohokam', 'hohokam', 'hoisted', 'hoisted', 'hojicha', 'hojicha', 'hokey', 'hokey', 'hol', 'hol', 'holbert', 'holbert', 'holl', 'holl', 'hollered', 'hollered', 'holliday', 'holliday', 'hollister', 'hollister', 'hollowed', 'hollowed', 'holographic', 'holographic', 'home9', 'home9', 'homecut', 'homecut', 'homefront', 'homefront', 'homicide', 'homicide', 'homophobia', 'homophobia', 'honduras', 'honduras', 'honeyed', 'honeyed', 'honeysalt', 'honeysalt', 'honking', 'honking', 'honky', 'honky', 'honourable', 'honourable', 'hoofed', 'hoofed', 'hooky', 'hooky', 'hoooo', 'hoooo', 'hootie', 'hootie', 'hopelessly', 'hopelessly', 'hor', 'hor', 'horticulturist', 'horticulturist', 'hostel', 'hostel', 'hotbed', 'hotbed', 'hothouse', 'hothouse', 'hotline', 'hotline', 'hotttt', 'hotttt', 'houp', 'houp', 'hourglass', 'hourglass', 'houseoftricks', 'houseoftricks', 'hovered', 'hovered', 'howell', 'howell', 'howling', 'howling', 'hows', 'hows', 'hozier', 'hozier', 'hrc', 'hrc', 'hrooms', 'hrooms', 'hua', 'hua', 'huang', 'huang', 'hubcap', 'hubcap', 'huddle', 'huddle', 'huff', 'huff', 'huffingtonpost', 'huffingtonpost', 'hugeee', 'hugeee', 'hughes', 'hughes', 'hullabaloo', 'hullabaloo', 'hulled', 'hulled', 'humane', 'humane', 'humbled', 'humbled', 'humenah', 'humenah', 'humility', 'humility', 'humm', 'humm', 'humorously', 'humorously', 'humour', 'humour', 'humph', 'humph', 'humphry', 'humphry', 'hundy', 'hundy', 'hungrily', 'hungrily', 'hunky', 'hunky', 'hunted', 'hunted', 'huntridge', 'huntridge', 'hurdle', 'hurdle', 'hurl', 'hurl', 'hurling', 'hurling', 'hurrah', 'hurrah', 'hus', 'hus', 'huzzah', 'huzzah', 'hx6xeg', 'hx6xeg', 'hydrospa', 'hydrospa', 'hyena', 'hyena', 'hygienic', 'hygienic', 'hypersweet', 'hypersweet', 'hypertrophic', 'hypertrophic', 'hypnotize', 'hypnotize', 'hypothermia', 'hypothermia', 'hypothesis', 'hypothesis', 'i4h343ck9j8yojrakfq', 'i4h343ck9j8yojrakfq', 'iajmhtukj1efsbl6wilegg', 'iajmhtukj1efsbl6wilegg', 'iberian', 'iberian', 'ibuprofen', 'ibuprofen', 'icheese', 'icheese', 'ichiban', 'ichiban', 'idd', 'idd', 'identifying', 'identifying', 'idiom', 'idiom', 'idiotically', 'idiotically', 'iguana', 'iguana', 'iheart', 'iheart', 'ihre', 'ihre', 'iiiiiiiiii', 'iiiiiiiiii', 'ik0praadeo0s1hxwn', 'ik0praadeo0s1hxwn', 'ikapiri', 'ikapiri', 'ikgvhpmzruk3lg', 'ikgvhpmzruk3lg', 'illegals', 'illegals', 'illegible', 'illegible', 'illumilatte', 'illumilatte', 'illusionist', 'illusionist', 'illustrious', 'illustrious', 'ilwng0qbkiwwa83n8z6mna', 'ilwng0qbkiwwa83n8z6mna', 'ilz8czm4gyvmbgug', 'ilz8czm4gyvmbgug', 'imbalanced', 'imbalanced', 'imgur', 'imgur', 'immaterial', 'immaterial', 'immensity', 'immensity', 'immersion', 'immersion', 'immersive', 'immersive', 'immortal', 'immortal', 'immortalized', 'immortalized', 'impactful', 'impactful', 'impaction', 'impaction', 'impartial', 'impartial', 'imparting', 'imparting', 'impeding', 'impeding', 'imperative', 'imperative', 'impetus', 'impetus', 'implosion', 'implosion', 'imply', 'imply', 'impossibly', 'impossibly', 'impressionist', 'impressionist', 'improvised', 'improvised', 'inadvertent', 'inadvertent', 'inappropriately', 'inappropriately', 'incaffeinated', 'incaffeinated', 'incarceration', 'incarceration', 'inception', 'inception', 'incher', 'incher', 'incomparable', 'incomparable', 'incompatible', 'incompatible', 'incomprehensible', 'incomprehensible', 'incomprehensibly', 'incomprehensibly', 'inconsolable', 'inconsolable', 'inconvenienced', 'inconvenienced', 'incurable', 'incurable', 'indebted', 'indebted', 'indecision', 'indecision', 'indecisiveness', 'indecisiveness', 'indefinitely', 'indefinitely', 'indignation', 'indignation', 'indirect', 'indirect', 'indiscretion', 'indiscretion', 'indubitably', 'indubitably', 'inebriation', 'inebriation', 'inexcusably', 'inexcusably', 'infamy', 'infamy', 'infatuated', 'infatuated', 'inferiority', 'inferiority', 'inflamed', 'inflamed', 'inflate', 'inflate', 'inflates', 'inflates', 'inflation', 'inflation', 'inflexible', 'inflexible', 'inflicted', 'inflicted', 'influencing', 'influencing', 'influential', 'influential', 'infrared', 'infrared', 'infrastructure', 'infrastructure', 'infringement', 'infringement', 'infront', 'infront', 'infuriated', 'infuriated', 'infusing', 'infusing', 'ingested', 'ingested', 'ingrate', 'ingrate', 'inhabit', 'inhabit', 'inherently', 'inherently', 'inhibit', 'inhibit', 'inhospitable', 'inhospitable', 'inhumane', 'inhumane', 'initialed', 'initialed', 'initiate', 'initiate', 'injure', 'injure', 'inka', 'inka', 'inlaws', 'inlaws', 'inlay', 'inlay', 'inline', 'inline', 'innerhalb', 'innerhalb', 'innovate', 'innovate', 'innovator', 'innovator', 'inopportune', 'inopportune', 'inordinate', 'inordinate', 'inpatient', 'inpatient', 'insatiable', 'insatiable', 'inseln', 'inseln', 'inserting', 'inserting', 'insidious', 'insidious', 'insinuated', 'insinuated', 'insistent', 'insistent', 'installment', 'installment', 'instill', 'instill', 'instinctively', 'instinctively', 'instructing', 'instructing', 'instructional', 'instructional', 'instructs', 'instructs', 'instrumental', 'instrumental', 'instrumentals', 'instrumentals', 'insufferable', 'insufferable', 'insufferably', 'insufferably', 'insure', 'insure', 'integrate', 'integrate', 'intel', 'intel', 'intelligently', 'intelligently', 'intensive', 'intensive', 'inter', 'inter', 'interacts', 'interacts', 'interchange', 'interchange', 'intercom', 'intercom', 'interessant', 'interessant', 'interessantere', 'interessantere', 'interface', 'interface', 'interference', 'interference', 'intergalactic', 'intergalactic', 'interjected', 'interjected', 'intermezzo', 'intermezzo', 'internist', 'internist', 'interpret', 'interpret', 'interrogator', 'interrogator', 'intertubes', 'intertubes', 'interviewing', 'interviewing', 'interweb', 'interweb', 'interwebs', 'interwebs', 'intimately', 'intimately', 'intimidates', 'intimidates', 'intl', 'intl', 'intoxication', 'intoxication', 'intricacy', 'intricacy', 'intricately', 'intricately', 'intruding', 'intruding', 'inundation', 'inundation', 'inventionland', 'inventionland', 'invents', 'invents', 'invincible', 'invincible', 'involvement', 'involvement', 'inward', 'inward', 'inwards', 'inwards', 'inégale', 'inégale', 'ipb7crbmmzlwtvoou9ut9g', 'ipb7crbmmzlwtvoou9ut9g', 'ipl', 'ipl', 'ipqbm7', 'ipqbm7', 'iraq', 'iraq', 'irgendwann', 'irgendwann', 'irishman', 'irishman', 'irksome', 'irksome', 'irl', 'irl', 'irma', 'irma', 'ironman', 'ironman', 'irrespective', 'irrespective', 'irritable', 'irritable', 'irritant', 'irritant', 'irv', 'irv', 'isaw', 'isaw', 'iscuye', 'iscuye', 'iso', 'iso', 'isolation', 'isolation', 'isp', 'isp', 'israel', 'israel', 'itamae', 'itamae', 'itanni', 'itanni', 'itemize', 'itemize', 'itunes', 'itunes', 'iuvrpz6k8', 'iuvrpz6k8', 'ivf', 'ivf', 'iz', 'iz', 'j5xjybrajxb9eylkxrfysw', 'j5xjybrajxb9eylkxrfysw', 'jabbering', 'jabbering', 'jaden', 'jaden', 'jadot', 'jadot', 'jaeger', 'jaeger', 'jagged', 'jagged', 'jagger', 'jagger', 'jahrelange', 'jahrelange', 'jala', 'jala', 'jammies', 'jammies', 'janelle', 'janelle', 'janes', 'janes', 'janis', 'janis', 'januar', 'januar', 'japa', 'japa', 'japo', 'japo', 'jaret', 'jaret', 'jarvis', 'jarvis', 'javais', 'javais', 'jawed', 'jawed', 'jayde', 'jayde', 'jcc', 'jcc', 'jebus', 'jebus', 'jeden', 'jeden', 'jeder', 'jeder', 'jemima', 'jemima', 'jennifers', 'jennifers', 'jerrrry', 'jerrrry', 'jerusalem', 'jerusalem', 'jeselnik', 'jeselnik', 'jestin', 'jestin', 'jeter', 'jeter', 'jetsons', 'jetsons', 'jetted', 'jetted', 'jetzt', 'jetzt', 'jff', 'jff', 'jiang', 'jiang', 'jigger', 'jigger', 'jiggle', 'jiggle', 'jiggy', 'jiggy', 'jimjilbang', 'jimjilbang', 'jinx', 'jinx', 'jitsu', 'jitsu', 'jiu', 'jiu', 'jm', 'jm', 'jocelyn', 'jocelyn', 'jodi', 'jodi', 'joinsjazm8lrea', 'joinsjazm8lrea', 'jojo', 'jojo', 'jolt', 'jolt', 'jonah', 'jonah', 'joo', 'joo', 'joselito', 'joselito', 'joshu', 'joshu', 'jostling', 'jostling', 'jou', 'jou', 'joust', 'joust', 'joyner', 'joyner', 'joynt', 'joynt', 'joyously', 'joyously', 'jqfwvv783nmjygvi5y3kva', 'jqfwvv783nmjygvi5y3kva', 'jqyie9bjrh9ep', 'jqyie9bjrh9ep', 'juans', 'juans', 'judgmentally', 'judgmentally', 'judgy', 'judgy', 'juggle', 'juggle', 'jugo', 'jugo', 'jugular', 'jugular', 'juicer', 'juicer', 'juicing', 'juicing', 'jujube', 'jujube', 'julienne', 'julienne', 'jumble', 'jumble', 'jumpy', 'jumpy', 'juno', 'juno', 'justa', 'justa', 'justification', 'justification', 'justifying', 'justifying', 'jut', 'jut', 'jutted', 'jutted', 'jutting', 'jutting', 'juyoung', 'juyoung', 'juz5x3rdez', 'juz5x3rdez', 'jv', 'jv', 'jzz1g', 'jzz1g', 'k9', 'k9', 'kabli', 'kabli', 'kacang', 'kacang', 'kachina', 'kachina', 'kah', 'kah', 'kaizen', 'kaizen', 'kakes', 'kakes', 'kali', 'kali', 'kalifornien', 'kalifornien', 'kamana', 'kamana', 'kamayan', 'kamayan', 'kamen', 'kamen', 'kampachi', 'kampachi', 'kandi', 'kandi', 'kangamoo', 'kangamoo', 'kapampangan', 'kapampangan', 'karachi', 'karachi', 'karaffe', 'karaffe', 'karidopita', 'karidopita', 'kart', 'kart', 'kash', 'kash', 'kassi', 'kassi', 'kater', 'kater', 'katheaw', 'katheaw', 'kathleen', 'kathleen', 'kathryn', 'kathryn', 'katniss', 'katniss', 'katrina', 'katrina', 'katsini', 'katsini', 'kaufman', 'kaufman', 'kawai', 'kawai', 'kb', 'kb', 'kbjfbvaxjtpekltov1hjdq', 'kbjfbvaxjtpekltov1hjdq', 'ke', 'ke', 'kefalograviera', 'kefalograviera', 'kefta', 'kefta', 'keinen', 'keinen', 'keiner', 'keiner', 'keion', 'keion', 'kelsey', 'kelsey', 'kendall', 'kendall', 'kennebec', 'kennebec', 'kenneth', 'kenneth', 'kenpo', 'kenpo', 'kerfuffle', 'kerfuffle', 'kermit', 'kermit', 'kettlebells', 'kettlebells', 'kewl', 'kewl', 'keycard', 'keycard', 'keyes', 'keyes', 'keying', 'keying', 'keylime', 'keylime', 'kf', 'kf', 'kfhtgjwrbmrw1yulyj7rlw', 'kfhtgjwrbmrw1yulyj7rlw', 'kg', 'kg', 'khalfani', 'khalfani', 'khina', 'khina', 'khing', 'khing', 'khmer', 'khmer', 'khorak', 'khorak', 'kibbe', 'kibbe', 'kibble', 'kibble', 'kickstart', 'kickstart', 'kilo', 'kilo', 'kilometern', 'kilometern', 'kimbap', 'kimbap', 'kimbo', 'kimbo', 'kinako', 'kinako', 'kinder', 'kinder', 'kindergarten', 'kindergarten', 'kindred', 'kindred', 'kingston', 'kingston', 'kinko', 'kinko', 'kino', 'kino', 'kinsey', 'kinsey', 'kirsten', 'kirsten', 'kisir', 'kisir', 'kitchener', 'kitchener', 'kitchenware', 'kitchenware', 'kitkat', 'kitkat', 'kitsune', 'kitsune', 'kiya', 'kiya', 'klavon', 'klavon', 'klondike', 'klondike', 'klutzy', 'klutzy', 'knapp', 'knapp', 'knapsack', 'knapsack', 'knelt', 'knelt', 'knifed', 'knifed', 'knockin', 'knockin', 'knope', 'knope', 'knossos', 'knossos', 'knott', 'knott', 'kobalt', 'kobalt', 'kobo', 'kobo', 'kochen', 'kochen', 'kochujang', 'kochujang', 'kod', 'kod', 'kodak', 'kodak', 'kofta', 'kofta', 'koit', 'koit', 'koko', 'koko', 'kokokmo', 'kokokmo', 'kombat', 'kombat', 'kombu', 'kombu', 'kombuchas', 'kombuchas', 'komfort', 'komfort', 'kommen', 'kommen', 'kondo', 'kondo', 'konnten', 'konnten', 'kopfsteinpflaster', 'kopfsteinpflaster', 'kostenfrei', 'kostenfrei', 'kostenfreie', 'kostenfreie', 'kostenfreien', 'kostenfreien', 'kostenfreies', 'kostenfreies', 'kostenlose', 'kostenlose', 'kozlik', 'kozlik', 'kpfw5w57yjtw3cudbjiwdw', 'kpfw5w57yjtw3cudbjiwdw', 'kraken', 'kraken', 'kronos', 'kronos', 'krueg', 'krueg', 'krylon', 'krylon', 'kubrick', 'kubrick', 'kufta', 'kufta', 'kufteta', 'kufteta', 'kumar', 'kumar', 'kumon', 'kumon', 'kupd', 'kupd', 'kurume', 'kurume', 'kutcher', 'kutcher', 'kuya', 'kuya', 'kwh', 'kwh', 'kyozan', 'kyozan', 'kyuu', 'kyuu', 'kà', 'kà', 'könig', 'könig', 'könnte', 'könnte', 'künstlichen', 'künstlichen', 'l3xa42a', 'l3xa42a', 'l4', 'l4', 'l6qd3x0bhymyxub9df7lia', 'l6qd3x0bhymyxub9df7lia', 'labaneh', 'labaneh', 'lablanc', 'lablanc', 'labocca', 'labocca', 'laboccapizzeria', 'laboccapizzeria', 'labrador', 'labrador', 'lacerated', 'lacerated', 'laceration', 'laceration', 'lackadaisical', 'lackadaisical', 'laconium', 'laconium', 'lacrosse', 'lacrosse', 'lacy', 'lacy', 'laffs', 'laffs', 'lagoon', 'lagoon', 'lai', 'lai', 'lakemead', 'lakemead', 'lambo', 'lambo', 'lamely', 'lamely', 'lamenting', 'lamenting', 'lamian', 'lamian', 'lamppost', 'lamppost', 'lampshade', 'lampshade', 'lana', 'lana', 'landry', 'landry', 'landslide', 'landslide', 'lang', 'lang', 'langouste', 'langouste', 'langustine', 'langustine', 'lanky', 'lanky', 'lansky', 'lansky', 'lantipathie', 'lantipathie', 'lanvin', 'lanvin', 'lapel', 'lapel', 'laplaca', 'laplaca', 'lapped', 'lapped', 'lara', 'lara', 'largo', 'largo', 'lark', 'lark', 'larkin', 'larkin', 'lasa', 'lasa', 'lashing', 'lashing', 'lasvegas', 'lasvegas', 'latched', 'latched', 'latke', 'latke', 'latrine', 'latrine', 'latti', 'latti', 'latticed', 'latticed', 'lauded', 'lauded', 'launcher', 'launcher', 'lavi', 'lavi', 'lavin', 'lavin', 'layed', 'layed', 'layla', 'layla', 'lazers', 'lazers', 'lazio', 'lazio', 'lbj', 'lbj', 'lc', 'lc', 'ldmqkarg', 'ldmqkarg', 'le1vhxtpeqqij6jk0yvy', 'le1vhxtpeqqij6jk0yvy', 'leacher', 'leacher', 'leaded', 'leaded', 'leafed', 'leafed', 'leaping', 'leaping', 'learner', 'learner', 'learns', 'learns', 'leased', 'leased', 'lebaneh', 'lebaneh', 'lebowski', 'lebowski', 'leduff', 'leduff', 'leeching', 'leeching', 'leered', 'leered', 'leery', 'leery', 'lefty', 'lefty', 'leggy', 'leggy', 'legitimize', 'legitimize', 'lei', 'lei', 'leigh', 'leigh', 'leistungsverhältnis', 'leistungsverhältnis', 'lemming', 'lemming', 'lends', 'lends', 'lenten', 'lenten', 'lentrée', 'lentrée', 'leon', 'leon', 'leotard', 'leotard', 'lesack', 'lesack', 'leslieville', 'leslieville', 'lesters', 'lesters', 'lethal', 'lethal', 'leti', 'leti', 'letoile', 'letoile', 'lette', 'lette', 'letterman', 'letterman', 'leung', 'leung', 'lf4djs7npuei6d1b0vgpq', 'lf4djs7npuei6d1b0vgpq', 'lho', 'lho', 'liberace', 'liberace', 'liberating', 'liberating', 'libeskind', 'libeskind', 'libido', 'libido', 'libya', 'libya', 'licensing', 'licensing', 'liciously', 'liciously', 'lickety', 'lickety', 'licor', 'licor', 'lifter', 'lifter', 'ligament', 'ligament', 'lightrail', 'lightrail', 'lightshow', 'lightshow', 'likable', 'likable', 'likened', 'likened', 'likeness', 'likeness', 'lilgglerlomxwscz4d2tcg', 'lilgglerlomxwscz4d2tcg', 'liliha', 'liliha', 'lillet', 'lillet', 'limbo', 'limbo', 'limestone', 'limestone', 'linguica', 'linguica', 'linkedin', 'linkedin', 'linking', 'linking', 'linner', 'linner', 'linoleum', 'linoleum', 'linwood', 'linwood', 'lionesse', 'lionesse', 'liquidation', 'liquidation', 'liquidity', 'liquidity', 'lisp', 'lisp', 'literate', 'literate', 'litle', 'litle', 'livable', 'livable', 'livejournal', 'livejournal', 'livermore', 'livermore', 'livingroomwinebar', 'livingroomwinebar', 'lngbeeelqx4zbfwnlc66cw', 'lngbeeelqx4zbfwnlc66cw', 'loa', 'loa', 'loader', 'loader', 'lobbed', 'lobbed', 'lobbying', 'lobbying', 'lobsterme', 'lobsterme', 'loc', 'loc', 'lockin', 'lockin', 'lodged', 'lodged', 'loeb', 'loeb', 'loews', 'loews', 'logan', 'logan', 'login', 'login', 'logistically', 'logistically', 'lolli', 'lolli', 'lolling', 'lolling', 'loma', 'loma', 'lonchera', 'lonchera', 'lonches', 'lonches', 'longggggg', 'longggggg', 'longoria', 'longoria', 'longsilog', 'longsilog', 'longue', 'longue', 'looky', 'looky', 'loon', 'loon', 'looney', 'looney', 'looooong', 'looooong', 'looooove', 'looooove', 'loosened', 'loosened', 'looser', 'looser', 'loosing', 'loosing', 'loot', 'loot', 'lorax', 'lorax', 'lordy', 'lordy', 'lorena', 'lorena', 'lorne', 'lorne', 'loroco', 'loroco', 'lorsque', 'lorsque', 'lory', 'lory', 'louboutins', 'louboutins', 'louise', 'louise', 'loukoumades', 'loukoumades', 'louvre', 'louvre', 'lovefest', 'lovefest', 'loveliness', 'loveliness', 'lovey', 'lovey', 'lowball', 'lowball', 'lowering', 'lowering', 'lowkey', 'lowkey', 'lowlife', 'lowlife', 'loyalist', 'loyalist', 'lpjvitnw7vu5uw', 'lpjvitnw7vu5uw', 'lq4mqi9nm', 'lq4mqi9nm', 'lr9rkrt2dkvzv', 'lr9rkrt2dkvzv', 'lsu', 'lsu', 'ltd', 'ltd', 'lua', 'lua', 'lubed', 'lubed', 'lubricate', 'lubricate', 'lubricated', 'lubricated', 'luchador', 'luchador', 'luche', 'luche', 'lucia', 'lucia', 'lucio', 'lucio', 'lucious', 'lucious', 'luckier', 'luckier', 'luckiest', 'luckiest', 'lugar', 'lugar', 'luger', 'luger', 'lukanka', 'lukanka', 'lull', 'lull', 'lumbering', 'lumbering', 'luminaria', 'luminaria', 'lumped', 'lumped', 'lumpfish', 'lumpfish', 'lumpiang', 'lumpiang', 'lunchbox', 'lunchbox', 'luncher', 'luncher', 'lunching', 'lunching', 'lunge', 'lunge', 'lunging', 'lunging', 'lup', 'lup', 'lurch', 'lurch', 'lurker', 'lurker', 'luxuriously', 'luxuriously', 'luxus', 'luxus', 'luxushotel', 'luxushotel', 'lvg', 'lvg', 'lvmpd', 'lvmpd', 'lways', 'lways', 'lynch', 'lynch', 'lynette', 'lynette', 'löwen', 'löwen', 'm4', 'm4', 'mabel', 'mabel', 'macallan', 'macallan', 'macao', 'macao', 'macaya', 'macaya', 'macbook', 'macbook', 'macerich', 'macerich', 'machinery', 'machinery', 'mackinac', 'mackinac', 'macn', 'macn', 'macron', 'macron', 'maddening', 'maddening', 'maddeningly', 'maddeningly', 'madeira', 'madeira', 'madelines', 'madelines', 'madisonians', 'madisonians', 'magenta', 'magenta', 'maggot', 'maggot', 'magnanimous', 'magnanimous', 'magnetic', 'magnetic', 'magnetized', 'magnetized', 'maham', 'maham', 'maiku', 'maiku', 'mainstage', 'mainstage', 'maintains', 'maintains', 'maize', 'maize', 'majored', 'majored', 'malabar', 'malabar', 'malady', 'malady', 'malarkey', 'malarkey', 'malay', 'malay', 'maleficent', 'maleficent', 'malie', 'malie', 'malin', 'malin', 'mallet', 'mallet', 'malty', 'malty', 'manapua', 'manapua', 'manchengo', 'manchengo', 'mandate', 'mandate', 'mandated', 'mandated', 'mangalitsa', 'mangalitsa', 'mangiato', 'mangiato', 'manifest', 'manifest', 'manileno', 'manileno', 'manilow', 'manilow', 'manipulated', 'manipulated', 'manon', 'manon', 'manson', 'manson', 'mantel', 'mantel', 'manuel', 'manuel', 'manufacturing', 'manufacturing', 'manure', 'manure', 'manzy', 'manzy', 'maproom', 'maproom', 'maracon', 'maracon', 'marathoner', 'marathoner', 'marcellino', 'marcellino', 'marg', 'marg', 'marge', 'marge', 'mariana', 'mariana', 'marietta', 'marietta', 'marigold', 'marigold', 'marino', 'marino', 'marisco', 'marisco', 'marital', 'marital', 'marke', 'marke', 'marketer', 'marketer', 'markusplatz', 'markusplatz', 'marlboro', 'marlboro', 'marlin', 'marlin', 'marriotts', 'marriotts', 'marsh', 'marsh', 'marsha', 'marsha', 'marshy', 'marshy', 'martha', 'martha', 'martina', 'martina', 'martorano', 'martorano', 'maru', 'maru', 'marvelously', 'marvelously', 'marylin', 'marylin', 'marylou', 'marylou', 'masarap', 'masarap', 'masquerading', 'masquerading', 'massacre', 'massacre', 'masseur', 'masseur', 'masterz', 'masterz', 'masticate', 'masticate', 'materd', 'materd', 'mating', 'mating', 'mattar', 'mattar', 'maturing', 'maturing', 'mauby', 'mauby', 'maybach', 'maybach', 'mayberry', 'mayberry', 'mayonaise', 'mayonaise', 'mayra', 'mayra', 'mayu', 'mayu', 'maßstab', 'maßstab', 'mccain', 'mccain', 'mccartney', 'mccartney', 'mcconaughey', 'mcconaughey', 'mcdoubles', 'mcdoubles', 'mcflurry', 'mcflurry', 'mcgraw', 'mcgraw', 'mckenzi', 'mckenzi', 'mclaren', 'mclaren', 'mcmuffin', 'mcmuffin', 'mcnugget', 'mcnugget', 'mealworm', 'mealworm', 'meandered', 'meandered', 'meandering', 'meandering', 'meatheads', 'meatheads', 'media2', 'media2', 'mediate', 'mediate', 'medica', 'medica', 'medizona', 'medizona', 'meek', 'meek', 'meepleville', 'meepleville', 'meerkat', 'meerkat', 'meetups', 'meetups', 'megaclub', 'megaclub', 'meglio', 'meglio', 'mehk', 'mehk', 'mehnu', 'mehnu', 'mehran', 'mehran', 'mehrere', 'mehrere', 'mei', 'mei', 'meine', 'meine', 'meineke', 'meineke', 'mejor', 'mejor', 'melange', 'melange', 'melanoma', 'melanoma', 'mellowed', 'mellowed', 'melodrama', 'melodrama', 'meme', 'meme', 'memelitas', 'memelitas', 'memorize', 'memorize', 'menace', 'menace', 'menacing', 'menacing', 'menage', 'menage', 'menjar', 'menjar', 'meno', 'meno', 'ment', 'ment', 'mentalist', 'mentalist', 'mentored', 'mentored', 'mentoring', 'mentoring', 'mentre', 'mentre', 'meowwww', 'meowwww', 'merchandising', 'merchandising', 'mercilessly', 'mercilessly', 'mercurial', 'mercurial', 'merde', 'merde', 'merh', 'merh', 'merichelle', 'merichelle', 'meritage', 'meritage', 'merman', 'merman', 'merp', 'merp', 'merrier', 'merrier', 'merrill', 'merrill', 'merrily', 'merrily', 'mertz', 'mertz', 'mervyns', 'mervyns', 'mesclun', 'mesclun', 'metalhead', 'metalhead', 'metaphorical', 'metaphorical', 'metern', 'metern', 'methed', 'methed', 'methheads', 'methheads', 'methimazole', 'methimazole', 'methodical', 'methodical', 'methodology', 'methodology', 'metra', 'metra', 'metre', 'metre', 'metrocenter', 'metrocenter', 'meuniere', 'meuniere', 'mexi', 'mexi', 'mexicano', 'mexicano', 'meyers', 'meyers', 'mezzanotte', 'mezzanotte', 'mezze', 'mezze', 'mezzi', 'mezzi', 'mezzo', 'mezzo', 'mgt', 'mgt', 'mh', 'mh', 'mian', 'mian', 'micah', 'micah', 'micahel', 'micahel', 'michel', 'michel', 'michelob', 'michelob', 'michoacan', 'michoacan', 'mickie', 'mickie', 'microblading', 'microblading', 'microcosm', 'microcosm', 'microderms', 'microderms', 'microgreens', 'microgreens', 'microscopic', 'microscopic', 'microwaving', 'microwaving', 'midge', 'midge', 'midterm', 'midterm', 'mien', 'mien', 'migrate', 'migrate', 'mikimoto', 'mikimoto', 'milagro', 'milagro', 'milan', 'milan', 'milkbar', 'milkbar', 'milked', 'milked', 'millenial', 'millenial', 'millionth', 'millionth', 'milunka', 'milunka', 'mimis', 'mimis', 'mindedness', 'mindedness', 'mindlessly', 'mindlessly', 'mindy', 'mindy', 'mined', 'mined', 'minerality', 'minerality', 'minimized', 'minimized', 'miniscule', 'miniscule', 'minitalia', 'minitalia', 'minivan', 'minivan', 'minneapolis', 'minneapolis', 'miraculous', 'miraculous', 'misadventure', 'misadventure', 'miscela', 'miscela', 'misconduct', 'misconduct', 'misgiving', 'misgiving', 'misguided', 'misguided', 'mishandled', 'mishandled', 'misheard', 'misheard', 'mishima', 'mishima', 'misprint', 'misprint', 'misshimalready', 'misshimalready', 'mistakingly', 'mistakingly', 'misted', 'misted', 'mistook', 'mistook', 'misunderstand', 'misunderstand', 'mitchell', 'mitchell', 'mitigated', 'mitigated', 'mittelalterlichen', 'mittelalterlichen', 'mixta', 'mixta', 'mixto', 'mixto', 'miyagi', 'miyagi', 'mizumi', 'mizumi', 'mjadara', 'mjadara', 'mmmac', 'mmmac', 'mmmmmmm', 'mmmmmmm', 'moana', 'moana', 'moar', 'moar', 'moat', 'moat', 'mobility', 'mobility', 'moccasin', 'moccasin', 'mockingbird', 'mockingbird', 'mocktails', 'mocktails', 'moda', 'moda', 'modelesque', 'modelesque', 'modernity', 'modernity', 'modesto', 'modesto', 'mofos', 'mofos', 'moinks', 'moinks', 'moio', 'moio', 'mois', 'mois', 'moisturizing', 'moisturizing', 'molcajete', 'molcajete', 'molida', 'molida', 'momentarily', 'momentarily', 'momento', 'momento', 'momos', 'momos', 'monin', 'monin', 'monochromatic', 'monochromatic', 'monocle', 'monocle', 'monroll', 'monroll', 'monstah', 'monstah', 'montgolfier', 'montgolfier', 'montgomery', 'montgomery', 'montoya', 'montoya', 'montparnasse', 'montparnasse', 'montrealers', 'montrealers', 'monumental', 'monumental', 'moola', 'moola', 'moonwalk', 'moonwalk', 'moove', 'moove', 'mope', 'mope', 'morality', 'morality', 'morally', 'morally', 'moreno', 'moreno', 'morita', 'morita', 'morkie', 'morkie', 'morningsqueeze', 'morningsqueeze', 'morris', 'morris', 'morrocan', 'morrocan', 'mortared', 'mortared', 'moscatel', 'moscatel', 'moses', 'moses', 'mosh', 'mosh', 'mosquito', 'mosquito', 'mostaccioli', 'mostaccioli', 'mostarda', 'mostarda', 'mothball', 'mothball', 'motherfucking', 'motherfucking', 'motorbike', 'motorbike', 'motulenos', 'motulenos', 'moulin', 'moulin', 'mountainside', 'mountainside', 'moussaka', 'moussaka', 'moutarde', 'moutarde', 'moviegoing', 'moviegoing', 'movin', 'movin', 'mowed', 'mowed', 'moyenne', 'moyenne', 'moz', 'moz', 'mozart', 'mozart', 'mozza', 'mozza', 'mp', 'mp', 'mpg', 'mpg', 'mraz', 'mraz', 'muahaha', 'muahaha', 'muay', 'muay', 'mucked', 'mucked', 'mucus', 'mucus', 'muddle', 'muddle', 'muddler', 'muddler', 'muesli', 'muesli', 'muff', 'muff', 'muffled', 'muffled', 'muk', 'muk', 'mukha', 'mukha', 'mulling', 'mulling', 'multiply', 'multiply', 'multiplying', 'multiplying', 'multitask', 'multitask', 'multitasking', 'multitasking', 'mumbo', 'mumbo', 'munchkin', 'munchkin', 'muneeza', 'muneeza', 'muraled', 'muraled', 'murchison', 'murchison', 'murdock', 'murdock', 'mused', 'mused', 'mushiness', 'mushiness', 'musste', 'musste', 'mustachio', 'mustachio', 'mutilated', 'mutilated', 'mutt', 'mutt', 'mutter', 'mutter', 'muttering', 'muttering', 'mw', 'mw', 'myanmar', 'myanmar', 'myers', 'myers', 'mylanta', 'mylanta', 'mylar', 'mylar', 'mypie', 'mypie', 'myty5nbrgvlfw', 'myty5nbrgvlfw', 'mzufr6qkclznv5j', 'mzufr6qkclznv5j', 'más', 'más', 'móle', 'móle', 'möchte', 'möchte', 'müsste', 'müsste', 'n00b', 'n00b', 'n64', 'n64', 'nab', 'nab', 'nabbing', 'nabbing', 'nachempfunden', 'nachempfunden', 'nachgebaut', 'nachgebaut', 'nachlesen', 'nachlesen', 'nacional', 'nacional', 'nagoya', 'nagoya', 'nahlah', 'nahlah', 'naively', 'naively', 'naivete', 'naivete', 'naivety', 'naivety', 'nanaimo', 'nanaimo', 'nang', 'nang', 'nano', 'nano', 'napalitano', 'napalitano', 'nappoli', 'nappoli', 'naqtzgju0fajatwtcetkew', 'naqtzgju0fajatwtcetkew', 'narcissist', 'narcissist', 'narcotic', 'narcotic', 'narrowing', 'narrowing', 'narrowly', 'narrowly', 'nastiest', 'nastiest', 'nat', 'nat', 'natto', 'natto', 'naturales', 'naturales', 'naturalist', 'naturalist', 'naturalness', 'naturalness', 'naturtint', 'naturtint', 'naughtiness', 'naughtiness', 'nauseum', 'nauseum', 'nautica', 'nautica', 'nautilus', 'nautilus', 'navel', 'navel', 'navet', 'navet', 'naysayer', 'naysayer', 'ncaa', 'ncaa', 'nce', 'nce', 'ncmx4f7cpjk', 'ncmx4f7cpjk', 'neckline', 'neckline', 'necktie', 'necktie', 'necropolis', 'necropolis', 'nedick', 'nedick', 'negate', 'negate', 'negated', 'negated', 'negozi', 'negozi', 'nei', 'nei', 'neighbouring', 'neighbouring', 'nekked', 'nekked', 'nepal', 'nepal', 'nepotism', 'nepotism', 'nese', 'nese', 'nesting', 'nesting', 'neue', 'neue', 'neurologist', 'neurologist', 'neurology', 'neurology', 'neurosurgeon', 'neurosurgeon', 'neutered', 'neutered', 'nevadan', 'nevadan', 'nevins', 'nevins', 'newb', 'newb', 'newfound', 'newfound', 'newsprint', 'newsprint', 'newsweek', 'newsweek', 'newt', 'newt', 'nextdoor', 'nextdoor', 'nfip', 'nfip', 'nh', 'nh', 'nhk', 'nhk', 'nhle', 'nhle', 'nib', 'nib', 'niccoli', 'niccoli', 'niceness', 'niceness', 'nicety', 'nicety', 'nicholas', 'nicholas', 'nightstand', 'nightstand', 'nihari', 'nihari', 'niiice', 'niiice', 'nile', 'nile', 'nilly', 'nilly', 'nimoy', 'nimoy', 'nintendo', 'nintendo', 'nishikawa', 'nishikawa', 'nishishot', 'nishishot', 'nitrate', 'nitrate', 'nixed', 'nixed', 'nj7g', 'nj7g', 'nkotb', 'nkotb', 'nl', 'nl', 'nlh', 'nlh', 'noblest', 'noblest', 'nocturnal', 'nocturnal', 'node', 'node', 'nogales', 'nogales', 'noiceee', 'noiceee', 'nokia', 'nokia', 'nombre', 'nombre', 'nome', 'nome', 'nominee', 'nominee', 'nomnomnom', 'nomnomnom', 'nomzzzz', 'nomzzzz', 'nonchalant', 'nonchalant', 'nonchalantly', 'nonchalantly', 'nont', 'nont', 'nooner', 'nooner', 'nord', 'nord', 'norma', 'norma', 'norquist', 'norquist', 'norte', 'norte', 'northwestern', 'northwestern', 'norwegian', 'norwegian', 'nostrano', 'nostrano', 'notarized', 'notarized', 'notate', 'notate', 'notation', 'notation', 'notato', 'notato', 'nothingness', 'nothingness', 'notifies', 'notifies', 'notre', 'notre', 'notsomuch', 'notsomuch', 'notwithstanding', 'notwithstanding', 'novotel', 'novotel', 'nowait', 'nowait', 'npo', 'npo', 'nra', 'nra', 'nrx9h61x2m4a', 'nrx9h61x2m4a', 'nsync', 'nsync', 'nth', 'nth', 'nuh', 'nuh', 'nui', 'nui', 'nuit', 'nuit', 'nuku', 'nuku', 'numbering', 'numbering', 'numbingly', 'numbingly', 'nunnie', 'nunnie', 'nuru', 'nuru', 'nutrasweet', 'nutrasweet', 'nuttin', 'nuttin', 'nutzen', 'nutzen', 'nvm', 'nvm', 'nwg', 'nwg', 'nyan', 'nyan', 'nyki', 'nyki', 'nyks', 'nyks', 'nyuk', 'nyuk', 'nz', 'nz', 'n°1', 'n°1', 'n°2', 'n°2', 'nächte', 'nächte', 'nürnberger', 'nürnberger', 'o5', 'o5', 'oakey', 'oakey', 'oakley', 'oakley', 'oar', 'oar', 'obgyn', 'obgyn', 'objected', 'objected', 'objectified', 'objectified', 'obliging', 'obliging', 'obscured', 'obscured', 'obscures', 'obscures', 'obscurity', 'obscurity', 'observant', 'observant', 'obsolete', 'obsolete', 'obstruction', 'obstruction', 'obwohl', 'obwohl', 'occult', 'occult', 'occured', 'occured', 'octogenarian', 'octogenarian', 'octopussy', 'octopussy', 'oddest', 'oddest', 'odonnell', 'odonnell', 'odoriferous', 'odoriferous', 'odour', 'odour', 'oe', 'oe', 'offen', 'offen', 'offends', 'offends', 'offish', 'offish', 'offsetting', 'offsetting', 'offspring', 'offspring', 'ohea', 'ohea', 'ohhhhhhh', 'ohhhhhhh', 'ohip', 'ohip', 'ohmygoodness', 'ohmygoodness', 'ohne', 'ohne', 'oi', 'oi', 'oiliness', 'oiliness', 'okaaaaay', 'okaaaaay', 'okaaaay', 'okaaaay', 'okada', 'okada', 'oktober', 'oktober', 'olden', 'olden', 'olio', 'olio', 'olivier', 'olivier', 'olympia', 'olympia', 'olympian', 'olympian', 'olympus', 'olympus', 'om', 'om', 'omae', 'omae', 'ombudsman', 'ombudsman', 'ometimes', 'ometimes', 'ommar', 'ommar', 'omnipresent', 'omnipresent', 'onctueux', 'onctueux', 'oneill', 'oneill', 'onetime', 'onetime', 'oniony', 'oniony', 'onolicious', 'onolicious', 'ontiveros', 'ontiveros', 'ontop', 'ontop', 'oo', 'oo', 'oodham', 'oodham', 'oohed', 'oohed', 'oohs', 'oohs', 'oom', 'oom', 'oompa', 'oompa', 'oompah', 'oompah', 'oooey', 'oooey', 'oooooh', 'oooooh', 'ooooooooooh', 'ooooooooooh', 'ooops', 'ooops', 'ooos', 'ooos', 'oopsies', 'oopsies', 'opaque', 'opaque', 'operative', 'operative', 'opl4touoywhlkkl7t1krq', 'opl4touoywhlkkl7t1krq', 'oppose', 'oppose', 'oppressive', 'oppressive', 'optimally', 'optimally', 'optimism', 'optimism', 'optimistically', 'optimistically', 'optimus', 'optimus', 'optomap', 'optomap', 'opts', 'opts', 'orangey', 'orangey', 'oratory', 'oratory', 'orb', 'orb', 'orbison', 'orbison', 'orbit', 'orbit', 'ord', 'ord', 'ordinarily', 'ordinarily', 'organism', 'organism', 'organizer', 'organizer', 'orgeat', 'orgeat', 'originate', 'originate', 'orion', 'orion', 'orlando', 'orlando', 'ornamental', 'ornamental', 'oroweat', 'oroweat', 'orphan', 'orphan', 'orry', 'orry', 'orso', 'orso', 'orthopedic', 'orthopedic', 'ortolana', 'ortolana', 'osborn', 'osborn', 'oshibori', 'oshibori', 'osmond', 'osmond', 'ossia', 'ossia', 'ossobuco', 'ossobuco', 'ostello', 'ostello', 'ostentatious', 'ostentatious', 'otc', 'otc', 'ottolenghi', 'ottolenghi', 'oublier', 'oublier', 'oust', 'oust', 'ousting', 'ousting', 'outbound', 'outbound', 'outdid', 'outdid', 'outlawed', 'outlawed', 'outlier', 'outlier', 'outlining', 'outlining', 'outpatient', 'outpatient', 'outperform', 'outperform', 'outset', 'outset', 'outshines', 'outshines', 'outstretched', 'outstretched', 'outtta', 'outtta', 'ovation', 'ovation', 'ovbywp4289aavj4pthd8hg', 'ovbywp4289aavj4pthd8hg', 'overally', 'overally', 'overarching', 'overarching', 'overate', 'overate', 'overblown', 'overblown', 'overcame', 'overcame', 'overcoming', 'overcoming', 'overcompensated', 'overcompensated', 'overcooks', 'overcooks', 'overcrowd', 'overcrowd', 'overdoing', 'overdoing', 'overdrive', 'overdrive', 'overeater', 'overeater', 'overeating', 'overeating', 'overhang', 'overhang', 'overheat', 'overheat', 'overheated', 'overheated', 'overindulgence', 'overindulgence', 'overloading', 'overloading', 'overpacked', 'overpacked', 'overpaid', 'overpaid', 'overpay', 'overpay', 'overplayed', 'overplayed', 'overreacting', 'overreacting', 'overserved', 'overserved', 'overshot', 'overshot', 'overspending', 'overspending', 'overstatement', 'overstatement', 'overstuff', 'overstuff', 'overtaking', 'overtaking', 'overtone', 'overtone', 'overwhelms', 'overwhelms', 'ovvero', 'ovvero', 'ovviamente', 'ovviamente', 'oyshi', 'oyshi', 'p5ia', 'p5ia', 'pablano', 'pablano', 'pablo', 'pablo', 'pabulum', 'pabulum', 'pacer', 'pacer', 'pacman', 'pacman', 'paco', 'paco', 'pacquiao', 'pacquiao', 'pacsun', 'pacsun', 'pact', 'pact', 'padano', 'padano', 'paddington', 'paddington', 'paddling', 'paddling', 'padlock', 'padlock', 'pagare', 'pagare', 'paged', 'paged', 'pago', 'pago', 'pahleeze', 'pahleeze', 'pained', 'pained', 'painstaking', 'painstaking', 'paisa', 'paisa', 'paiute', 'paiute', 'pakistan', 'pakistan', 'pakola', 'pakola', 'palacio', 'palacio', 'palais', 'palais', 'palma', 'palma', 'palmen', 'palmen', 'palmier', 'palmier', 'palmyra', 'palmyra', 'palncha', 'palncha', 'palomar', 'palomar', 'pampas', 'pampas', 'pamplona', 'pamplona', 'panag', 'panag', 'panasonic', 'panasonic', 'pandemonium', 'pandemonium', 'paned', 'paned', 'panhandling', 'panhandling', 'panicked', 'panicked', 'panisse', 'panisse', 'panookie', 'panookie', 'panoply', 'panoply', 'panorama', 'panorama', 'pantyhose', 'pantyhose', 'panza', 'panza', 'panzerotto', 'panzerotto', 'papadum', 'papadum', 'papelon', 'papelon', 'paperless', 'paperless', 'papyrus', 'papyrus', 'paquime', 'paquime', 'parachute', 'parachute', 'paradiso', 'paradiso', 'paralysis', 'paralysis', 'paramedic', 'paramedic', 'paramita', 'paramita', 'paranormal', 'paranormal', 'paraphrasing', 'paraphrasing', 'parentals', 'parentals', 'parenthesis', 'parenthesis', 'parietal', 'parietal', 'parilla', 'parilla', 'parisa', 'parisa', 'parish', 'parish', 'parkdale', 'parkdale', 'parkscape', 'parkscape', 'parkview', 'parkview', 'parlando', 'parlando', 'parlayed', 'parlayed', 'parliament', 'parliament', 'parmasean', 'parmasean', 'parole', 'parole', 'parsanko', 'parsanko', 'parsimonious', 'parsimonious', 'partager', 'partager', 'partaken', 'partaken', 'particolare', 'particolare', 'partitioned', 'partitioned', 'partnered', 'partnered', 'partnering', 'partnering', 'partridge', 'partridge', 'parve', 'parve', 'pasha', 'pasha', 'paso', 'paso', 'passageway', 'passageway', 'passcode', 'passcode', 'passe', 'passe', 'passersby', 'passersby', 'passez', 'passez', 'pasted', 'pasted', 'pasteles', 'pasteles', 'pasteries', 'pasteries', 'pasto', 'pasto', 'patacon', 'patacon', 'patagonia', 'patagonia', 'patas', 'patas', 'patate', 'patate', 'pathology', 'pathology', 'paticular', 'paticular', 'pattie', 'pattie', 'pattied', 'pattied', 'patting', 'patting', 'pauli', 'pauli', 'paulie', 'paulie', 'pav', 'pav', 'paving', 'paving', 'pavlov', 'pavlov', 'pax', 'pax', 'pc89bq4', 'pc89bq4', 'peacefulness', 'peacefulness', 'peanutty', 'peanutty', 'peat', 'peat', 'peccole', 'peccole', 'pecial', 'pecial', 'pectoral', 'pectoral', 'pedicurist', 'pedicurist', 'pedophile', 'pedophile', 'peice', 'peice', 'peices', 'peices', 'peller', 'peller', 'pelligrino', 'pelligrino', 'penalized', 'penalized', 'pendant', 'pendant', 'penetrated', 'penetrated', 'pentair', 'pentair', 'peopled', 'peopled', 'peppadew', 'peppadew', 'pepperocini', 'pepperocini', 'perceptive', 'perceptive', 'percolating', 'percolating', 'perdu', 'perdu', 'pere', 'pere', 'perennial', 'perennial', 'perez', 'perez', 'perfekt', 'perfekt', 'perfunctory', 'perfunctory', 'pergola', 'pergola', 'peri', 'peri', 'perilla', 'perilla', 'periodic', 'periodic', 'perishable', 'perishable', 'permissible', 'permissible', 'permutation', 'permutation', 'pero', 'pero', 'perpetrator', 'perpetrator', 'perpetually', 'perpetually', 'perroletas', 'perroletas', 'perseverance', 'perseverance', 'persist', 'persist', 'persistently', 'persistently', 'persisting', 'persisting', 'personalization', 'personalization', 'personified', 'personified', 'personne', 'personne', 'persuading', 'persuading', 'perusal', 'perusal', 'pervades', 'pervades', 'pervasive', 'pervasive', 'pescatarians', 'pescatarians', 'pesce', 'pesce', 'pesci', 'pesci', 'peso', 'peso', 'pessimist', 'pessimist', 'petersendean', 'petersendean', 'petifores', 'petifores', 'peut', 'peut', 'peychaud', 'peychaud', 'peyton', 'peyton', 'pfister', 'pfister', 'pg13', 'pg13', 'pharmacology', 'pharmacology', 'phased', 'phased', 'pheasant', 'pheasant', 'philinos', 'philinos', 'phillies', 'phillies', 'phillipes', 'phillipes', 'phillippe', 'phillippe', 'philp', 'philp', 'phish', 'phish', 'phobic', 'phobic', 'pholicious', 'pholicious', 'phonecians', 'phonecians', 'phos', 'phos', 'photobooth', 'photobooth', 'photographing', 'photographing', 'photogs', 'photogs', 'photoshoot', 'photoshoot', 'phototherapy', 'phototherapy', 'phucket', 'phucket', 'phyllis', 'phyllis', 'phyne', 'phyne', 'physique', 'physique', 'piaget', 'piaget', 'picado', 'picado', 'picanha', 'picanha', 'picatta', 'picatta', 'picazzo', 'picazzo', 'piccadilly', 'piccadilly', 'picturing', 'picturing', 'pied', 'pied', 'piedmontese', 'piedmontese', 'piero', 'piero', 'piff', 'piff', 'piggly', 'piggly', 'pigstrami', 'pigstrami', 'pikachu', 'pikachu', 'pikake', 'pikake', 'pileup', 'pileup', 'pilled', 'pilled', 'pimenton', 'pimenton', 'pimms', 'pimms', 'pimped', 'pimped', 'pimple', 'pimple', 'pinhead', 'pinhead', 'pinkaow', 'pinkaow', 'pinkness', 'pinkness', 'pinnaclepeakos', 'pinnaclepeakos', 'pinoys', 'pinoys', 'pintade', 'pintade', 'piquin', 'piquin', 'piranna', 'piranna', 'piri', 'piri', 'pisao', 'pisao', 'pist', 'pist', 'pithy', 'pithy', 'pittman', 'pittman', 'pittsburg', 'pittsburg', 'pizzagasm', 'pizzagasm', 'pizzaiolo', 'pizzaiolo', 'pizzaria', 'pizzaria', 'pizzazz', 'pizzazz', 'pjrpcj4rk2wmog', 'pjrpcj4rk2wmog', 'pkh', 'pkh', 'plagiarism', 'plagiarism', 'plaintains', 'plaintains', 'plastique', 'plastique', 'platano', 'platano', 'platanos', 'platanos', 'plateful', 'plateful', 'platija', 'platija', 'plato', 'plato', 'platonic', 'platonic', 'playas', 'playas', 'playfulness', 'playfulness', 'playhouse', 'playhouse', 'playland', 'playland', 'pleaded', 'pleaded', 'pleasantville', 'pleasantville', 'pleasurably', 'pleasurably', 'pleb', 'pleb', 'pleeeenty', 'pleeeenty', 'plied', 'plied', 'plight', 'plight', 'plotting', 'plotting', 'plummeted', 'plummeted', 'plunging', 'plunging', 'plushy', 'plushy', 'pluto', 'pluto', 'ply', 'ply', 'pmi', 'pmi', 'pn44p', 'pn44p', 'poaching', 'poaching', 'pocketed', 'pocketed', 'pocketing', 'pocketing', 'poco', 'poco', 'poe', 'poe', 'poignant', 'poignant', 'poinsettia', 'poinsettia', 'poised', 'poised', 'pok', 'pok', 'pokedex', 'pokedex', 'pokerraum', 'pokerraum', 'pokertischen', 'pokertischen', 'pokitrition', 'pokitrition', 'polaris', 'polaris', 'polarizing', 'polarizing', 'polisci', 'polisci', 'poll', 'poll', 'pollock', 'pollock', 'poltergeist', 'poltergeist', 'polycarb', 'polycarb', 'polyester', 'polyester', 'pomeranian', 'pomeranian', 'pompeii', 'pompeii', 'ponderosa', 'ponderosa', 'ponte', 'ponte', 'ponytail', 'ponytail', 'poofy', 'poofy', 'pooling', 'pooling', 'pooor', 'pooor', 'pooping', 'pooping', 'poorer', 'poorer', 'poorest', 'poorest', 'popbar', 'popbar', 'poppa', 'poppa', 'poppins', 'poppins', 'popularized', 'popularized', 'porcine', 'porcine', 'pored', 'pored', 'porker', 'porker', 'porko', 'porko', 'porno', 'porno', 'pornography', 'pornography', 'portal', 'portal', 'portata', 'portata', 'porto', 'porto', 'portobellos', 'portobellos', 'portofino', 'portofino', 'portraying', 'portraying', 'posit', 'posit', 'possono', 'possono', 'potable', 'potable', 'potassium', 'potassium', 'potete', 'potete', 'pothead', 'pothead', 'pothole', 'pothole', 'pouilly', 'pouilly', 'poundcake', 'poundcake', 'pourquoi', 'pourquoi', 'poutinerie', 'poutinerie', 'pouting', 'pouting', 'pouty', 'pouty', 'powerfully', 'powerfully', 'powerless', 'powerless', 'powerlines', 'powerlines', 'powerplant', 'powerplant', 'powerpoint', 'powerpoint', 'pozbozql7to8', 'pozbozql7to8', 'pper', 'pper', 'pple', 'pple', 'ppo', 'ppo', 'ppp', 'ppp', 'ppr', 'ppr', 'practising', 'practising', 'pralined', 'pralined', 'prank', 'prank', 'preakness', 'preakness', 'prearranged', 'prearranged', 'precedence', 'precedence', 'precedent', 'precedent', 'precedes', 'precedes', 'preconception', 'preconception', 'precut', 'precut', 'predesigned', 'predesigned', 'predetermined', 'predetermined', 'predominance', 'predominance', 'preexisting', 'preexisting', 'prefilled', 'prefilled', 'preform', 'preform', 'preformed', 'preformed', 'prehistoric', 'prehistoric', 'prejudiced', 'prejudiced', 'preliminary', 'preliminary', 'prematurely', 'prematurely', 'premiered', 'premiered', 'premix', 'premix', 'prenez', 'prenez', 'preorder', 'preorder', 'prerecorded', 'prerecorded', 'prerogative', 'prerogative', 'prescott', 'prescott', 'preselected', 'preselected', 'pressurized', 'pressurized', 'presumption', 'presumption', 'prevailing', 'prevailing', 'pricepoint', 'pricepoint', 'pricer', 'pricer', 'pricetag', 'pricetag', 'primetime', 'primetime', 'primrose', 'primrose', 'pringles', 'pringles', 'pris', 'pris', 'probable', 'probable', 'problemlos', 'problemlos', 'problème', 'problème', 'procida', 'procida', 'proclamation', 'proclamation', 'procrastinated', 'procrastinated', 'procrastinator', 'procrastinator', 'proctor', 'proctor', 'prodotti', 'prodotti', 'profane', 'profane', 'profitability', 'profitability', 'programmed', 'programmed', 'prohibit', 'prohibit', 'projectile', 'projectile', 'projecting', 'projecting', 'projiziert', 'projiziert', 'promotes', 'promotes', 'promotor', 'promotor', 'pronged', 'pronged', 'proofing', 'proofing', 'propels', 'propels', 'propensity', 'propensity', 'prophylactic', 'prophylactic', 'proportioned', 'proportioned', 'proposing', 'proposing', 'prose', 'prose', 'prosperity', 'prosperity', 'prostitution', 'prostitution', 'prostores', 'prostores', 'protagonist', 'protagonist', 'protects', 'protects', 'protogym', 'protogym', 'prototype', 'prototype', 'provarlo', 'provarlo', 'provelone', 'provelone', 'provencal', 'provencal', 'provisional', 'provisional', 'provisioned', 'provisioned', 'provocation', 'provocation', 'provocative', 'provocative', 'provola', 'provola', 'provost', 'provost', 'prow', 'prow', 'prudhomme', 'prudhomme', 'prydz', 'prydz', 'prying', 'prying', 'psh', 'psh', 'psi', 'psi', 'psst', 'psst', 'pst', 'pst', 'psy', 'psy', 'psyche', 'psyche', 'psychologically', 'psychologically', 'psychosomatic', 'psychosomatic', 'psychotropic', 'psychotropic', 'pta', 'pta', 'ptd', 'ptd', 'pubes', 'pubes', 'pubic', 'pubic', 'pudge', 'pudge', 'puffer', 'puffer', 'puffin', 'puffin', 'pugen', 'pugen', 'puking', 'puking', 'pullover', 'pullover', 'pulsating', 'pulsating', 'pulsing', 'pulsing', 'puma', 'puma', 'pumice', 'pumice', 'punctuality', 'punctuality', 'pungency', 'pungency', 'punitive', 'punitive', 'punti', 'punti', 'puppuccino', 'puppuccino', 'pupu', 'pupu', 'pupus', 'pupus', 'puris', 'puris', 'puritan', 'puritan', 'purity', 'purity', 'purportedly', 'purportedly', 'purposed', 'purposed', 'pursuit', 'pursuit', 'purtroppo', 'purtroppo', 'pusheen', 'pusheen', 'pussycat', 'pussycat', 'può', 'può', 'pvtfzxu7of57zo1jzwezkg', 'pvtfzxu7of57zo1jzwezkg', 'pvucl7fetzjmiuhmywonqq', 'pvucl7fetzjmiuhmywonqq', 'pão', 'pão', 'q95zdtulscy4fzwzxa0lhg', 'q95zdtulscy4fzwzxa0lhg', 'q9h7eazc1fsn5tirbswetq', 'q9h7eazc1fsn5tirbswetq', 'qa', 'qa', 'qceliwzpvt645uflqgd4uw', 'qceliwzpvt645uflqgd4uw', 'qcumber', 'qcumber', 'qesm4lwvrjxo2fjxtj8xla', 'qesm4lwvrjxo2fjxtj8xla', 'qhjzy8wojtojb9f3x9dj8w', 'qhjzy8wojtojb9f3x9dj8w', 'qi', 'qi', 'qu4vbigvxtgdi', 'qu4vbigvxtgdi', 'quack', 'quack', 'quadfecta', 'quadfecta', 'quadratmeter', 'quadratmeter', 'quadratmetern', 'quadratmetern', 'qualifying', 'qualifying', 'quandary', 'quandary', 'quarterly', 'quarterly', 'quartier', 'quartier', 'quartile', 'quartile', 'quay', 'quay', 'quc8ei3w6e2uq', 'quc8ei3w6e2uq', 'quell', 'quell', 'quella', 'quella', 'quencher', 'quencher', 'questi', 'questi', 'questlove', 'questlove', 'quietness', 'quietness', 'quinceanera', 'quinceanera', 'quincy', 'quincy', 'quitting', 'quitting', 'quizno', 'quizno', 'quizzical', 'quizzical', 'quorn', 'quorn', 'quotient', 'quotient', 'québec', 'québec', 'qw9br', 'qw9br', 'qxy1assqnrakvppr5chibw', 'qxy1assqnrakvppr5chibw', 'r2kdiq', 'r2kdiq', 'rabanada', 'rabanada', 'rabies', 'rabies', 'rach', 'rach', 'rachael', 'rachael', 'rachelle', 'rachelle', 'racked', 'racked', 'raclette', 'raclette', 'radiate', 'radiate', 'rafter', 'rafter', 'rafting', 'rafting', 'ragers', 'ragers', 'raggedy', 'raggedy', 'ragin', 'ragin', 'ragout', 'ragout', 'raid', 'raid', 'raided', 'raided', 'raider', 'raider', 'rainsoft', 'rainsoft', 'rainstorm', 'rainstorm', 'raj', 'raj', 'rajah', 'rajah', 'raking', 'raking', 'rakkyo', 'rakkyo', 'rallied', 'rallied', 'ralphs', 'ralphs', 'ramayana', 'ramayana', 'rambled', 'rambled', 'rambler', 'rambler', 'ramification', 'ramification', 'ramones', 'ramones', 'ramos', 'ramos', 'rana', 'rana', 'rancher', 'rancher', 'randoms', 'randoms', 'raoul', 'raoul', 'rapist', 'rapist', 'rapture', 'rapture', 'rarer', 'rarer', 'rascal', 'rascal', 'rasher', 'rasher', 'rationale', 'rationale', 'rationality', 'rationality', 'rattan', 'rattan', 'rattler', 'rattler', 'ratty', 'ratty', 'raucous', 'raucous', 'ravaged', 'ravaged', 'ravaging', 'ravaging', 'rax', 'rax', 'razored', 'razored', 'razz', 'razz', 'rb', 'rb', 'rcapajgkojc2vo', 'rcapajgkojc2vo', 'rder', 'rder', 'reacquainted', 'reacquainted', 'reactivate', 'reactivate', 'reactive', 'reactive', 'readiness', 'readiness', 'reald', 'reald', 'realllllllly', 'realllllllly', 'reallly', 'reallly', 'realz', 'realz', 'ream', 'ream', 'reappeared', 'reappeared', 'reappearing', 'reappearing', 'reappears', 'reappears', 'reared', 'reared', 'rearing', 'rearing', 'reasoned', 'reasoned', 'reassess', 'reassess', 'reassigned', 'reassigned', 'rebbecca', 'rebbecca', 'rebellious', 'rebellious', 'rebook', 'rebook', 'rebooted', 'rebooted', 'rebound', 'rebound', 'rebuild', 'rebuild', 'rebuilding', 'rebuilding', 'recalling', 'recalling', 'recensioni', 'recensioni', 'recht', 'recht', 'rechten', 'rechten', 'reciept', 'reciept', 'recklessly', 'recklessly', 'reckoned', 'reckoned', 'reclaim', 'reclaim', 'reclined', 'reclined', 'recluse', 'recluse', 'recognizes', 'recognizes', 'recollect', 'recollect', 'recomendations', 'recomendations', 'recon', 'recon', 'reconditioned', 'reconditioned', 'reconfigured', 'reconfigured', 'reconnect', 'reconnect', 'reconstituted', 'reconstituted', 'reconstructive', 'reconstructive', 'recount', 'recount', 'recounted', 'recounted', 'redbeard', 'redbeard', 'redecorate', 'redecorate', 'redefines', 'redefines', 'redesign', 'redesign', 'redfish', 'redfish', 'redheaded', 'redheaded', 'rediculously', 'rediculously', 'redid', 'redid', 'redirect', 'redirect', 'redirected', 'redirected', 'redux', 'redux', 'ree', 'ree', 'referee', 'referee', 'refi', 'refi', 'refinanced', 'refinanced', 'refinishing', 'refinishing', 'reflex', 'reflex', 'reflux', 'reflux', 'refreshes', 'refreshes', 'refugee', 'refugee', 'refutation', 'refutation', 'regain', 'regain', 'regenwasser', 'regenwasser', 'regio', 'regio', 'regulate', 'regulate', 'regulated', 'regulated', 'regulator', 'regulator', 'rehash', 'rehash', 'rehashing', 'rehashing', 'rehearsal', 'rehearsal', 'rehearsed', 'rehearsed', 'reheating', 'reheating', 'reheats', 'reheats', 'reichere', 'reichere', 'reicheren', 'reicheren', 'reichlich', 'reichlich', 'reigned', 'reigned', 'reincarnated', 'reincarnated', 'reinforced', 'reinforced', 'reinforcement', 'reinforcement', 'reinterpretation', 'reinterpretation', 'reinventing', 'reinventing', 'reinvigorating', 'reinvigorating', 'reiterated', 'reiterated', 'rejoiced', 'rejoiced', 'rejoicing', 'rejoicing', 'rekindled', 'rekindled', 'relatable', 'relatable', 'relaxes', 'relaxes', 'reliance', 'reliance', 'religiously', 'religiously', 'rellena', 'rellena', 'reload', 'reload', 'reloaded', 'reloaded', 'remaking', 'remaking', 'remediator', 'remediator', 'reminiscence', 'reminiscence', 'remiss', 'remiss', 'remixes', 'remixes', 'remorseful', 'remorseful', 'rend', 'rend', 'rendang', 'rendang', 'renger', 'renger', 'renoir', 'renoir', 'rentable', 'rentable', 'reorder', 'reorder', 'repainting', 'repainting', 'repairman', 'repairman', 'repas', 'repas', 'repay', 'repay', 'repertoire', 'repertoire', 'reposado', 'reposado', 'repressed', 'repressed', 'reprint', 'reprint', 'reproduction', 'reproduction', 'researcher', 'researcher', 'reseated', 'reseated', 'resented', 'resented', 'resentment', 'resentment', 'reshami', 'reshami', 'residing', 'residing', 'residue', 'residue', 'resign', 'resign', 'resilient', 'resilient', 'resized', 'resized', 'resonate', 'resonate', 'resos', 'resos', 'respirare', 'respirare', 'responsiveness', 'responsiveness', 'restarted', 'restarted', 'restated', 'restated', 'restaurante', 'restaurante', 'reste', 'reste', 'restful', 'restful', 'restorative', 'restorative', 'restrain', 'restrain', 'restro', 'restro', 'resultant', 'resultant', 'resumed', 'resumed', 'resurrect', 'resurrect', 'resurrected', 'resurrected', 'retainer', 'retainer', 'retelling', 'retelling', 'retort', 'retort', 'retrieval', 'retrieval', 'retroscena', 'retroscena', 'reuburger', 'reuburger', 'reused', 'reused', 'reusing', 'reusing', 'rev', 'rev', 'revert', 'revert', 'revise', 'revise', 'revised', 'revised', 'revolting', 'revolting', 'revolutionary', 'revolutionary', 'revolve', 'revolve', 'revolves', 'revolves', 'revved', 'revved', 'rewrite', 'rewrite', 'reyna', 'reyna', 'rhapsody', 'rhapsody', 'rheanna', 'rheanna', 'rhee', 'rhee', 'rhode', 'rhode', 'rhodia', 'rhodia', 'rhone', 'rhone', 'rhumbar', 'rhumbar', 'rialto', 'rialto', 'ribbing', 'ribbing', 'riblets', 'riblets', 'ricci', 'ricci', 'richfield', 'richfield', 'rideshare', 'rideshare', 'ridiculousness', 'ridiculousness', 'ridonkulous', 'ridonkulous', 'ridonkulously', 'ridonkulously', 'rieu', 'rieu', 'riffraff', 'riffraff', 'righteousness', 'righteousness', 'rightful', 'rightful', 'rigor', 'rigor', 'riguarda', 'riguarda', 'riiiight', 'riiiight', 'rilassato', 'rilassato', 'riled', 'riled', 'rincon', 'rincon', 'ringer', 'ringer', 'ringside', 'ringside', 'ripieni', 'ripieni', 'rispetto', 'rispetto', 'ritzy', 'ritzy', 'riunificazione', 'riunificazione', 'riuscito', 'riuscito', 'rivaling', 'rivaling', 'riverdale', 'riverdale', 'rivertowne', 'rivertowne', 'rj281qegg', 'rj281qegg', 'rlohz8wytxlr8e', 'rlohz8wytxlr8e', 'rm98ileq', 'rm98ileq', 'rmg', 'rmg', 'roadrunner', 'roadrunner', 'roadtrip', 'roadtrip', 'roadway', 'roadway', 'roastery', 'roastery', 'robatayaki', 'robatayaki', 'robber', 'robber', 'robbie', 'robbie', 'robindale', 'robindale', 'rochart', 'rochart', 'roche', 'roche', 'rocio', 'rocio', 'rockerfeller', 'rockerfeller', 'rockwell', 'rockwell', 'rodem', 'rodem', 'rofl', 'rofl', 'roget', 'roget', 'roi', 'roi', 'rollback', 'rollback', 'rollercoaster', 'rollercoaster', 'rollerskate', 'rollerskate', 'rolodex', 'rolodex', 'romancing', 'romancing', 'romanesque', 'romanesque', 'romanian', 'romanian', 'romantically', 'romantically', 'romanticized', 'romanticized', 'romni', 'romni', 'romper', 'romper', 'roni', 'roni', 'roo', 'roo', 'roomate', 'roomate', 'roomful', 'roomful', 'roomier', 'roomier', 'rooste', 'rooste', 'rooted', 'rooted', 'rosehip', 'rosehip', 'rosen', 'rosen', 'roshi', 'roshi', 'rosita', 'rosita', 'rossa', 'rossa', 'rossini', 'rossini', 'rostbratwürst', 'rostbratwürst', 'roster', 'roster', 'rosy', 'rosy', 'rot', 'rot', 'rotana', 'rotana', 'rotator', 'rotator', 'rotis', 'rotis', 'rotring', 'rotring', 'rotting', 'rotting', 'rottingly', 'rottingly', 'roughage', 'roughage', 'roughest', 'roughest', 'rouladen', 'rouladen', 'rouler', 'rouler', 'rounder', 'rounder', 'routing', 'routing', 'rover', 'rover', 'roving', 'roving', 'rowing', 'rowing', 'roxbury', 'roxbury', 'rq0rk', 'rq0rk', 'rspahvsikal21g6fhhd', 'rspahvsikal21g6fhhd', 'rta', 'rta', 'rtc', 'rtc', 'rtzio6qhcja2elqpxz4efq', 'rtzio6qhcja2elqpxz4efq', 'rubbish', 'rubbish', 'rubble', 'rubble', 'ruff', 'ruff', 'ruffian', 'ruffian', 'rugelach', 'rugelach', 'ruger', 'ruger', 'rummaging', 'rummaging', 'rumskey', 'rumskey', 'rundreise', 'rundreise', 'rupaul', 'rupaul', 'russo', 'russo', 'rustoleum', 'rustoleum', 'ruthanne', 'ruthanne', 'ruthie', 'ruthie', 'rv8lfalwert0q', 'rv8lfalwert0q', 'römischer', 'römischer', 's3', 's3', 's48b', 's48b', 's8sq2sol3l', 's8sq2sol3l', 'sabes', 'sabes', 'sable', 'sable', 'sabzy', 'sabzy', 'sacchetti', 'sacchetti', 'sachet', 'sachet', 'sadden', 'sadden', 'saddens', 'saddens', 'sadder', 'sadder', 'saddled', 'saddled', 'sadie', 'sadie', 'sagging', 'sagging', 'saggy', 'saggy', 'sai', 'sai', 'sailed', 'sailed', 'saintly', 'saintly', 'sakura', 'sakura', 'salamat', 'salamat', 'salame', 'salame', 'salaried', 'salaried', 'salatim', 'salatim', 'salem', 'salem', 'saliferous', 'saliferous', 'saline', 'saline', 'salire', 'salire', 'salivary', 'salivary', 'salse', 'salse', 'salsify', 'salsify', 'saltena', 'saltena', 'salting', 'salting', 'salvadoreno', 'salvadoreno', 'salvadorian', 'salvadorian', 'sambar', 'sambar', 'sambucca', 'sambucca', 'samira', 'samira', 'sammiches', 'sammiches', 'sammys', 'sammys', 'samuel', 'samuel', 'sanchez', 'sanchez', 'sangiovese', 'sangiovese', 'sanitizers', 'sanitizers', 'sante', 'sante', 'santorini', 'santorini', 'sapna', 'sapna', 'sarandon', 'sarandon', 'sarebbe', 'sarebbe', 'sariwa', 'sariwa', 'sarsaparilla', 'sarsaparilla', 'sash', 'sash', 'sashmi', 'sashmi', 'satchel', 'satchel', 'satisfactorily', 'satisfactorily', 'saucepan', 'saucepan', 'sauterne', 'sauterne', 'sauve', 'sauve', 'sauxcpnq', 'sauxcpnq', 'savannah', 'savannah', 'sawmill', 'sawmill', 'sawse', 'sawse', 'sawtelle', 'sawtelle', 'sayers', 'sayers', 'sayonara', 'sayonara', 'sayori', 'sayori', 'scab', 'scab', 'scalded', 'scalded', 'scallopy', 'scallopy', 'scalo', 'scalo', 'scamming', 'scamming', 'scamp', 'scamp', 'scampering', 'scampering', 'scandal', 'scandal', 'scandinavian', 'scandinavian', 'scape', 'scape', 'scapegoat', 'scapegoat', 'scarcity', 'scarcity', 'scariest', 'scariest', 'scelta', 'scelta', 'schel', 'schel', 'schezwan', 'schezwan', 'schiff', 'schiff', 'schiffer', 'schiffer', 'schlange', 'schlange', 'schlecht', 'schlecht', 'schlocky', 'schlocky', 'schmelz', 'schmelz', 'schmo', 'schmo', 'schmoozed', 'schmoozed', 'schoepp', 'schoepp', 'scholar', 'scholar', 'schooled', 'schooled', 'schwing', 'schwing', 'schöne', 'schöne', 'schönen', 'schönen', 'sci', 'sci', 'scintas', 'scintas', 'scoopwich', 'scoopwich', 'scooted', 'scooted', 'scoreboard', 'scoreboard', 'scorecard', 'scorecard', 'scour', 'scour', 'scrabble', 'scrabble', 'scratcher', 'scratcher', 'scrawled', 'scrawled', 'screwup', 'screwup', 'scribbled', 'scribbled', 'scrimps', 'scrimps', 'scrimshaw', 'scrimshaw', 'scripture', 'scripture', 'scrivere', 'scrivere', 'scrubber', 'scrubber', 'scruff', 'scruff', 'scruffy', 'scruffy', 'scrupulously', 'scrupulously', 'scrutinized', 'scrutinized', 'scrutiny', 'scrutiny', 'scuba', 'scuba', 'sculpt', 'sculpt', 'sculpting', 'sculpting', 'sculptor', 'sculptor', 'scummy', 'scummy', 'seafaring', 'seafaring', 'seahorse', 'seahorse', 'sealant', 'sealant', 'sealy', 'sealy', 'seamstress', 'seamstress', 'seatbelt', 'seatbelt', 'seath', 'seath', 'seawater', 'seawater', 'sebak', 'sebak', 'seco', 'seco', 'secrecy', 'secrecy', 'secreto', 'secreto', 'sedere', 'sedere', 'sediment', 'sediment', 'seduction', 'seduction', 'seductress', 'seductress', 'seduto', 'seduto', 'seedier', 'seedier', 'seeped', 'seeped', 'seeps', 'seeps', 'seewhatididthere', 'seewhatididthere', 'sega', 'sega', 'segregation', 'segregation', 'sehen', 'sehen', 'sehenswürdigkeit', 'sehenswürdigkeit', 'seil', 'seil', 'seinem', 'seinem', 'seized', 'seized', 'selber', 'selber', 'sembra', 'sembra', 'semicircular', 'semicircular', 'sempre', 'sempre', 'seneca', 'seneca', 'sensibly', 'sensibly', 'sensually', 'sensually', 'sentinel', 'sentinel', 'seongbukdong', 'seongbukdong', 'seonkyoung', 'seonkyoung', 'serbian', 'serbian', 'serena', 'serena', 'serenaded', 'serenaded', 'serendipitous', 'serendipitous', 'serendipitously', 'serendipitously', 'sergeant', 'sergeant', 'serpentine', 'serpentine', 'serranos', 'serranos', 'serrated', 'serrated', 'serveuse', 'serveuse', 'servin', 'servin', 'servlet', 'servlet', 'servono', 'servono', 'será', 'será', 'sesos', 'sesos', 'seti', 'seti', 'setter', 'setter', 'seul', 'seul', 'seventeen', 'seventeen', 'severs', 'severs', 'sevice', 'sevice', 'sexcalibur', 'sexcalibur', 'sexpresso', 'sexpresso', 'sfogliatelle', 'sfogliatelle', 'shadier', 'shadier', 'shadiness', 'shadiness', 'shadowed', 'shadowed', 'shadowing', 'shadowing', 'shafted', 'shafted', 'shai', 'shai', 'shakily', 'shakily', 'shallower', 'shallower', 'shamble', 'shamble', 'shamefully', 'shamefully', 'shamrock', 'shamrock', 'shanghainese', 'shanghainese', 'shangri', 'shangri', 'sharper', 'sharper', 'sharpie', 'sharpie', 'sharpsburg', 'sharpsburg', 'shashito', 'shashito', 'shatted', 'shatted', 'shatters', 'shatters', 'shaunna', 'shaunna', 'shaver', 'shaver', 'shawarmas', 'shawarmas', 'shawerma', 'shawerma', 'shawnta', 'shawnta', 'shawshank', 'shawshank', 'shedding', 'shedding', 'sheepish', 'sheepish', 'sheeran', 'sheeran', 'shelton', 'shelton', 'shelve', 'shelve', 'shelved', 'shelved', 'shepard', 'shepard', 'sheppard', 'sheppard', 'sherbrooke', 'sherbrooke', 'shhh', 'shhh', 'shhhhhh', 'shhhhhh', 'shielding', 'shielding', 'shigoku', 'shigoku', 'shimmer', 'shimmer', 'shimmied', 'shimmied', 'shimmy', 'shimmy', 'shimmying', 'shimmying', 'shiner', 'shiner', 'shinier', 'shinier', 'shiroi', 'shiroi', 'shishitos', 'shishitos', 'shite', 'shite', 'shitfaced', 'shitfaced', 'shittier', 'shittier', 'shittiest', 'shittiest', 'shitting', 'shitting', 'shiz', 'shiz', 'shiznit', 'shiznit', 'shizz', 'shizz', 'shmancy', 'shmancy', 'shoegasm', 'shoegasm', 'shoeshine', 'shoeshine', 'shopathon', 'shopathon', 'shoppingbereich', 'shoppingbereich', 'shopska', 'shopska', 'shorten', 'shorten', 'shortened', 'shortened', 'shotty', 'shotty', 'showdown', 'showdown', 'showpiece', 'showpiece', 'showy', 'showy', 'shrieking', 'shrieking', 'shrill', 'shrill', 'shrine', 'shrine', 'shroomy', 'shroomy', 'shrunk', 'shrunk', 'shugga', 'shugga', 'shuseki', 'shuseki', 'shwarma', 'shwarma', 'shyttt', 'shyttt', 'sicher', 'sicher', 'sickness', 'sickness', 'sicuro', 'sicuro', 'sideburn', 'sideburn', 'siew', 'siew', 'sighing', 'sighing', 'siliconey', 'siliconey', 'silkiness', 'silkiness', 'silkwood', 'silkwood', 'silogs', 'silogs', 'silvana', 'silvana', 'silverlake', 'silverlake', 'silvery', 'silvery', 'simpleton', 'simpleton', 'simplify', 'simplify', 'simulated', 'simulated', 'sincity', 'sincity', 'singari', 'singari', 'singed', 'singed', 'sinning', 'sinning', 'siomai', 'siomai', 'siphoning', 'siphoning', 'sipper', 'sipper', 'sippin', 'sippin', 'siri', 'siri', 'sirius', 'sirius', 'sirnoran', 'sirnoran', 'sista', 'sista', 'sitaphal', 'sitaphal', 'siting', 'siting', 'sizzled', 'sizzled', 'sizzlin', 'sizzlin', 'sjcb', 'sjcb', 'sjt8qjbkcxpefb', 'sjt8qjbkcxpefb', 'skateboard', 'skateboard', 'skateboarding', 'skateboarding', 'skated', 'skated', 'skb', 'skb', 'skee', 'skee', 'skeletal', 'skeletal', 'sketchiest', 'sketchiest', 'skiing', 'skiing', 'skimmed', 'skimmed', 'skimo', 'skimo', 'skimpiest', 'skimpiest', 'skimps', 'skimps', 'skinnylicious', 'skinnylicious', 'skool', 'skool', 'skyfall', 'skyfall', 'skyhigh', 'skyhigh', 'skynard', 'skynard', 'skype', 'skype', 'skyrocket', 'skyrocket', 'skyrocketed', 'skyrocketed', 'skysuites', 'skysuites', 'skywalkers', 'skywalkers', 'slag', 'slag', 'slandered', 'slandered', 'slanderous', 'slanderous', 'slang', 'slang', 'slatted', 'slatted', 'slaughtered', 'slaughtered', 'slayer', 'slayer', 'sleazeball', 'sleazeball', 'sleight', 'sleight', 'slender', 'slender', 'slimer', 'slimer', 'slingshot', 'slingshot', 'slipcover', 'slipcover', 'slipknot', 'slipknot', 'sloooow', 'sloooow', 'slopped', 'slopped', 'sloppiness', 'sloppiness', 'sloth', 'sloth', 'slouch', 'slouch', 'slowwwww', 'slowwwww', 'slumbering', 'slumbering', 'slurpin', 'slurpin', 'slurring', 'slurring', 'slurry', 'slurry', 'smacked', 'smacked', 'smarmy', 'smarmy', 'smartphones', 'smartphones', 'smc', 'smc', 'smirking', 'smirking', 'smirnoff', 'smirnoff', 'smithereens', 'smithereens', 'smithsonian', 'smithsonian', 'smithwick', 'smithwick', 'smoca', 'smoca', 'smokeout', 'smokeout', 'smoothing', 'smoothing', 'smudged', 'smudged', 'smuggler', 'smuggler', 'smurf', 'smurf', 'snacked', 'snacked', 'snaggle', 'snaggle', 'snaked', 'snaked', 'snaking', 'snaking', 'snapshot', 'snapshot', 'snarled', 'snarled', 'sneakily', 'sneakily', 'sneakin', 'sneakin', 'sneer', 'sneer', 'sneezed', 'sneezed', 'snickering', 'snickering', 'sniffed', 'sniffed', 'sniffer', 'sniffer', 'sniffling', 'sniffling', 'snitch', 'snitch', 'snobbiest', 'snobbiest', 'snobbishness', 'snobbishness', 'snoopy', 'snoopy', 'snootiness', 'snootiness', 'snore', 'snore', 'snout', 'snout', 'snowtime', 'snowtime', 'snozberries', 'snozberries', 'snub', 'snub', 'snuggie', 'snuggie', 'soared', 'soared', 'sobered', 'sobered', 'sobering', 'sobering', 'sociale', 'sociale', 'socialization', 'socialization', 'socio', 'socio', 'soco', 'soco', 'softy', 'softy', 'soggier', 'soggier', 'sogliola', 'sogliola', 'sogno', 'sogno', 'solarium', 'solarium', 'solenoid', 'solenoid', 'soley', 'soley', 'solicit', 'solicit', 'solvent', 'solvent', 'som', 'som', 'sommer', 'sommer', 'somosas', 'somosas', 'sonics', 'sonics', 'sonnet', 'sonnet', 'sopapilla', 'sopapilla', 'sopas', 'sopas', 'sophie', 'sophie', 'sopped', 'sopped', 'soppresata', 'soppresata', 'sopra', 'sopra', 'sor', 'sor', 'sordid', 'sordid', 'sorel', 'sorel', 'sorus', 'sorus', 'soufflés', 'soufflés', 'soulful', 'soulful', 'southeastern', 'southeastern', 'southerner', 'southerner', 'southernmost', 'southernmost', 'southpaw', 'southpaw', 'southpointe', 'southpointe', 'sowie', 'sowie', 'spackle', 'spackle', 'spaghettini', 'spaghettini', 'spagnoli', 'spagnoli', 'spah', 'spah', 'spanekopita', 'spanekopita', 'spaniard', 'spaniard', 'spank', 'spank', 'spanning', 'spanning', 'sparta', 'sparta', 'spayed', 'spayed', 'spectre', 'spectre', 'speculate', 'speculate', 'speedily', 'speedily', 'speedo', 'speedo', 'speedos', 'speedos', 'spg', 'spg', 'sphère', 'sphère', 'spic', 'spic', 'spicey', 'spicey', 'spiderella', 'spiderella', 'spidey', 'spidey', 'spielglück', 'spielglück', 'spieltischen', 'spieltischen', 'spiff', 'spiff', 'spiffy', 'spiffy', 'spiga', 'spiga', 'spillage', 'spillage', 'spinner', 'spinner', 'spiritually', 'spiritually', 'spittle', 'spittle', 'splaining', 'splaining', 'splashpad', 'splashpad', 'splashy', 'splashy', 'splat', 'splat', 'spliced', 'spliced', 'spoiling', 'spoiling', 'spokesperson', 'spokesperson', 'spontaneity', 'spontaneity', 'spool', 'spool', 'spooning', 'spooning', 'sportsman', 'sportsman', 'spotlighted', 'spotlighted', 'spraining', 'spraining', 'sprawl', 'sprawl', 'spreadable', 'spreadable', 'spurred', 'spurred', 'squalid', 'squalid', 'squandered', 'squandered', 'squarely', 'squarely', 'squatting', 'squatting', 'squeamish', 'squeamish', 'squidsoup', 'squidsoup', 'sr188', 'sr188', 'sr20', 'sr20', 'sr88', 'sr88', 'srf', 'srf', 'sri', 'sri', 'sriacha', 'sriacha', 'srirachi', 'srirachi', 'srn', 'srn', 'srsly', 'srsly', 'ssense', 'ssense', 'sstt', 'sstt', 'stabilized', 'stabilized', 'stackable', 'stackable', 'stacker', 'stacker', 'staggered', 'staggered', 'stagnant', 'stagnant', 'stahl', 'stahl', 'stairmaster', 'stairmaster', 'staking', 'staking', 'stalked', 'stalked', 'stallion', 'stallion', 'stalwart', 'stalwart', 'stammered', 'stammered', 'stampcard', 'stampcard', 'stampede', 'stampede', 'stan', 'stan', 'standstill', 'standstill', 'stanford', 'stanford', 'stank', 'stank', 'stanton', 'stanton', 'stanza', 'stanza', 'staph', 'staph', 'stapley', 'stapley', 'starkem', 'starkem', 'starlight', 'starlight', 'starpoint', 'starpoint', 'starr', 'starr', 'starsky', 'starsky', 'startin', 'startin', 'startle', 'startle', 'stati', 'stati', 'stattfand', 'stattfand', 'stattliche', 'stattliche', 'staumauer', 'staumauer', 'stausee', 'stausee', 'ste', 'ste', 'steakburgers', 'steakburgers', 'stealthily', 'stealthily', 'steamie', 'steamie', 'steeler', 'steeler', 'steeping', 'steeping', 'steeply', 'steeply', 'steiner', 'steiner', 'stemware', 'stemware', 'stenched', 'stenched', 'stepchild', 'stepchild', 'stepper', 'stepper', 'stepsister', 'stepsister', 'stepson', 'stepson', 'sterilized', 'sterilized', 'sterne', 'sterne', 'steroidy', 'steroidy', 'stevey', 'stevey', 'stewing', 'stewing', 'stiegl', 'stiegl', 'stiffed', 'stiffed', 'stiffness', 'stiffness', 'stifle', 'stifle', 'stil', 'stil', 'stimulated', 'stimulated', 'stimulates', 'stimulates', 'stinger', 'stinger', 'stitching', 'stitching', 'stockholm', 'stockholm', 'stoking', 'stoking', 'stomached', 'stomached', 'stooge', 'stooge', 'stoop', 'stoop', 'stooped', 'stooped', 'store02', 'store02', 'storici', 'storici', 'storming', 'storming', 'str8', 'str8', 'straciatella', 'straciatella', 'strada', 'strada', 'strained', 'strained', 'strandstreifen', 'strandstreifen', 'strangest', 'strangest', 'strapping', 'strapping', 'strat', 'strat', 'strategic', 'strategic', 'streaking', 'streaking', 'streaming', 'streaming', 'streetcar', 'streetcar', 'streisand', 'streisand', 'stressor', 'stressor', 'stringfellows', 'stringfellows', 'stripclubs', 'stripclubs', 'striptease', 'striptease', 'strivectin', 'strivectin', 'stroked', 'stroked', 'strom', 'strom', 'stronghold', 'stronghold', 'structurally', 'structurally', 'strutted', 'strutted', 'stuart', 'stuart', 'stubble', 'stubble', 'stubby', 'stubby', 'stunningly', 'stunningly', 'stupider', 'stupider', 'sturdier', 'sturdier', 'stuttgart', 'stuttgart', 'sty', 'sty', 'stye', 'stye', 'stylo', 'stylo', 'stürzen', 'stürzen', 'sua', 'sua', 'subconscious', 'subconscious', 'sublimely', 'sublimely', 'submarine', 'submarine', 'submerge', 'submerge', 'subregional', 'subregional', 'subscribe', 'subscribe', 'subscriber', 'subscriber', 'substantiated', 'substantiated', 'successor', 'successor', 'succotash', 'succotash', 'succulentia', 'succulentia', 'succumb', 'succumb', 'suckling', 'suckling', 'sucre', 'sucre', 'sudachi', 'sudachi', 'suds', 'suds', 'suede', 'suede', 'sugarcoat', 'sugarcoat', 'sugarless', 'sugarless', 'sugarlips', 'sugarlips', 'sugo', 'sugo', 'suh', 'suh', 'suicidal', 'suicidal', 'suiten', 'suiten', 'suiting', 'suiting', 'sulfa', 'sulfa', 'sulfate', 'sulfate', 'sulfur', 'sulfur', 'sulfurous', 'sulfurous', 'sullen', 'sullen', 'sumatra', 'sumatra', 'summa', 'summa', 'summarized', 'summarized', 'summing', 'summing', 'sumol', 'sumol', 'sumomaya', 'sumomaya', 'sumptuously', 'sumptuously', 'sunbrite', 'sunbrite', 'sunburned', 'sunburned', 'sundance', 'sundance', 'sunroom', 'sunroom', 'superbowl', 'superbowl', 'supercenter', 'supercenter', 'superfruit', 'superfruit', 'superiority', 'superiority', 'superlicious', 'superlicious', 'superseded', 'superseded', 'supersized', 'supersized', 'supervises', 'supervises', 'supervision', 'supervision', 'supplementary', 'supplementary', 'supremacist', 'supremacist', 'suprised', 'suprised', 'surefire', 'surefire', 'surfacing', 'surfacing', 'surmise', 'surmise', 'surreptitiously', 'surreptitiously', 'surveying', 'surveying', 'susana', 'susana', 'susans', 'susans', 'suspenseful', 'suspenseful', 'sustaining', 'sustaining', 'susur', 'susur', 'suture', 'suture', 'suuuuure', 'suuuuure', 'svedka', 'svedka', 'swampy', 'swampy', 'swankified', 'swankified', 'swarming', 'swarming', 'swat', 'swat', 'swathed', 'swathed', 'swatting', 'swatting', 'sweden', 'sweden', 'sweeeeeeeeet', 'sweeeeeeeeet', 'sweetens', 'sweetens', 'sweetners', 'sweetners', 'swiffer', 'swiffer', 'swingset', 'swingset', 'swirly', 'swirly', 'swished', 'swished', 'swivel', 'swivel', 'swizzle', 'swizzle', 'swooned', 'swooned', 'sxxxxxe', 'sxxxxxe', 'sy', 'sy', 'sybian', 'sybian', 'syllable', 'syllable', 'symbolism', 'symbolism', 'symbolizes', 'symbolizes', 'symmetrical', 'symmetrical', 'sympathique', 'sympathique', 'sympathiques', 'sympathiques', 'synching', 'synching', 'synonym', 'synonym', 'synopsis', 'synopsis', 'syoy', 'syoy', 'syoyu', 'syoyu', 'syrian', 'syrian', 'syrinx', 'syrinx', 'syroscape1', 'syroscape1', 'systolic', 'systolic', 'szmidt', 'szmidt', 'südöstlich', 'südöstlich', 't1', 't1', 'taat', 'taat', 'tabbouli', 'tabbouli', 'tabloid', 'tabloid', 'taboo', 'taboo', 'tac', 'tac', 'tackiness', 'tackiness', 'tactfully', 'tactfully', 'tadyang', 'tadyang', 'taekwondo', 'taekwondo', 'taffer', 'taffer', 'tagging', 'tagging', 'taglierinis', 'taglierinis', 'taho', 'taho', 'taipei', 'taipei', 'taj', 'taj', 'tajin', 'tajin', 'takeoff', 'takeoff', 'takin', 'takin', 'takowasabi', 'takowasabi', 'talon', 'talon', 'talong', 'talong', 'tama', 'tama', 'tamed', 'tamed', 'tandoor', 'tandoor', 'tangers', 'tangers', 'tanic', 'tanic', 'tant', 'tant', 'tantalized', 'tantalized', 'tantamount', 'tantamount', 'taper', 'taper', 'tapestry', 'tapestry', 'tapex', 'tapex', 'tapir', 'tapir', 'tapp', 'tapp', 'tardiness', 'tardiness', 'tardis', 'tardis', 'tardy', 'tardy', 'tarnished', 'tarnished', 'tartares', 'tartares', 'tarty', 'tarty', 'taryn', 'taryn', 'tasked', 'tasked', 'tasking', 'tasking', 'tastycakes', 'tastycakes', 'tatami', 'tatami', 'tatas', 'tatas', 'tate', 'tate', 'tatin', 'tatin', 'tatoo', 'tatoo', 'tatt', 'tatt', 'tatted', 'tatted', 'tatum', 'tatum', 'taunt', 'taunt', 'taunted', 'taunted', 'tawny', 'tawny', 'taxicab', 'taxicab', 'taxidermied', 'taxidermied', 'tayler', 'tayler', 'taziki', 'taziki', 'tbird', 'tbird', 'tc4naklyaecuunvzjh0o2w', 'tc4naklyaecuunvzjh0o2w', 'tcby', 'tcby', 'tchy', 'tchy', 'tcq1a2', 'tcq1a2', 'teabags', 'teabags', 'teahouse', 'teahouse', 'tealight', 'tealight', 'teaming', 'teaming', 'teammate', 'teammate', 'tearfully', 'tearfully', 'teary', 'teary', 'teaser', 'teaser', 'teaspoonful', 'teaspoonful', 'teaspressa', 'teaspressa', 'tebow', 'tebow', 'tecate', 'tecate', 'technicality', 'technicality', 'tecziqmb2xz4e5pssvvkjw', 'tecziqmb2xz4e5pssvvkjw', 'tedesco', 'tedesco', 'teenie', 'teenie', 'teff', 'teff', 'tejas', 'tejas', 'tek', 'tek', 'telemarketer', 'telemarketer', 'teleportation', 'teleportation', 'telly', 'telly', 'temaki', 'temaki', 'temped', 'temped', 'temperamental', 'temperamental', 'temperate', 'temperate', 'tempt', 'tempt', 'tempurpedic', 'tempurpedic', 'tenderest', 'tenderest', 'tennant', 'tennant', 'tenya', 'tenya', 'teow', 'teow', 'tequenos', 'tequenos', 'terminally', 'terminally', 'terminate', 'terminate', 'terrasse', 'terrasse', 'territorial', 'territorial', 'terrorize', 'terrorize', 'terrorized', 'terrorized', 'tetanus', 'tetanus', 'tete', 'tete', 'tether', 'tether', 'teuerste', 'teuerste', 'texican', 'texican', 'tftg', 'tftg', 'tg', 'tg', 'tha', 'tha', 'thankin', 'thankin', 'thanx', 'thanx', 'thei', 'thei', 'theming', 'theming', 'themself', 'themself', 'ther', 'ther', 'thermidor', 'thermidor', 'thet', 'thet', 'theta', 'theta', 'thicken', 'thicken', 'thickest', 'thickest', 'thievery', 'thievery', 'thifty', 'thifty', 'thingamajig', 'thingamajig', 'thingies', 'thingies', 'thinker', 'thinker', 'thinkin', 'thinkin', 'thirdspace', 'thirdspace', 'thirteenth', 'thirteenth', 'thither', 'thither', 'thomson', 'thomson', 'thornhill', 'thornhill', 'thrash', 'thrash', 'thrashing', 'thrashing', 'thready', 'thready', 'threateningly', 'threateningly', 'threesome', 'threesome', 'threshhold', 'threshhold', 'throbbing', 'throbbing', 'thromboembolism', 'thromboembolism', 'throughly', 'throughly', 'throughs', 'throughs', 'throwin', 'throwin', 'thrus', 'thrus', 'thrusting', 'thrusting', 'thud', 'thud', 'thyselves', 'thyselves', 'tia', 'tia', 'tic', 'tic', 'ticker', 'ticker', 'tickin', 'tickin', 'tickling', 'tickling', 'tid', 'tid', 'tieu', 'tieu', 'tightest', 'tightest', 'tightrope', 'tightrope', 'tights', 'tights', 'timeframe', 'timeframe', 'timeliness', 'timeliness', 'timetable', 'timetable', 'tincture', 'tincture', 'tinder', 'tinder', 'tine', 'tine', 'tinier', 'tinier', 'tink', 'tink', 'tipica', 'tipica', 'tipper', 'tipper', 'titillated', 'titillated', 'titted', 'titted', 'titular', 'titular', 'tko', 'tko', 'tn', 'tn', 'tnb', 'tnb', 'toad', 'toad', 'toastery', 'toastery', 'todos', 'todos', 'tollhouse', 'tollhouse', 'tomaso', 'tomaso', 'tomate', 'tomate', 'tomatoe', 'tomatoe', 'tomcat', 'tomcat', 'tome', 'tome', 'tomlin', 'tomlin', 'tonite', 'tonite', 'tonk', 'tonk', 'tonka', 'tonka', 'tonya', 'tonya', 'toonies', 'toonies', 'toooo', 'toooo', 'toot', 'toot', 'toothy', 'toothy', 'toph', 'toph', 'topline', 'topline', 'toppling', 'toppling', 'tor', 'tor', 'torani', 'torani', 'torii', 'torii', 'torito', 'torito', 'torontonian', 'torontonian', 'torti', 'torti', 'torturing', 'torturing', 'torwards', 'torwards', 'tosellotes', 'tosellotes', 'tosi', 'tosi', 'totem', 'totem', 'totino', 'totino', 'totong', 'totong', 'tott', 'tott', 'totties', 'totties', 'toughest', 'toughest', 'toughness', 'toughness', 'touti', 'touti', 'tove', 'tove', 'towing', 'towing', 'townspeople', 'townspeople', 'toying', 'toying', 'tps', 'tps', 'traci', 'traci', 'tracii', 'tracii', 'trademark', 'trademark', 'tradiciones', 'tradiciones', 'trafficking', 'trafficking', 'tragus', 'tragus', 'trainwreck', 'trainwreck', 'traitor', 'traitor', 'trampolining', 'trampolining', 'trane', 'trane', 'tranquilo', 'tranquilo', 'transcendence', 'transcendence', 'transcript', 'transcript', 'transexual', 'transexual', 'transfered', 'transfered', 'transgendered', 'transgendered', 'translator', 'translator', 'transsexual', 'transsexual', 'trapping', 'trapping', 'trashiness', 'trashiness', 'traumatizing', 'traumatizing', 'travelocity', 'travelocity', 'treet', 'treet', 'trellis', 'trellis', 'trendsetters', 'trendsetters', 'triceps', 'triceps', 'tricity', 'tricity', 'trickery', 'trickery', 'triffle', 'triffle', 'trifle', 'trifle', 'trinidadian', 'trinidadian', 'tripod', 'tripod', 'tripoli', 'tripoli', 'triumphant', 'triumphant', 'triumphantly', 'triumphantly', 'trolly', 'trolly', 'troublemaker', 'troublemaker', 'troubleshooting', 'troubleshooting', 'troubling', 'troubling', 'troupe', 'troupe', 'trouser', 'trouser', 'trovi', 'trovi', 'tru', 'tru', 'trudged', 'trudged', 'truryde', 'truryde', 'truss', 'truss', 'tryout', 'tryout', 'tsai', 'tsai', 'tshirt', 'tshirt', 'tsing', 'tsing', 'tsoynami', 'tsoynami', 'tsukemen', 'tsukemen', 'tt', 'tt', 'ttlni1pxy1jhlahruld4oa', 'ttlni1pxy1jhlahruld4oa', 'ttttt', 'ttttt', 'tucky', 'tucky', 'tude', 'tude', 'tufted', 'tufted', 'tugged', 'tugged', 'tulip', 'tulip', 'tumeric', 'tumeric', 'tunafish', 'tunafish', 'tundra', 'tundra', 'tunisia', 'tunisia', 'tunneling', 'tunneling', 'tuo', 'tuo', 'turbocharger', 'turbocharger', 'turbulence', 'turbulence', 'turndown', 'turndown', 'turnkey', 'turnkey', 'turnstile', 'turnstile', 'turntable', 'turntable', 'turtlehead', 'turtlehead', 'tush', 'tush', 'tustin', 'tustin', 'tutor', 'tutor', 'tutoring', 'tutoring', 'tutta', 'tutta', 'tvms', 'tvms', 'twang', 'twang', 'tweeked', 'tweeked', 'tween', 'tween', 'twentieth', 'twentieth', 'twiddled', 'twiddled', 'twiddling', 'twiddling', 'twinge', 'twinge', 'twosies', 'twosies', 'twosome', 'twosome', 'twss', 'twss', 'txf09bseta9eoyepw', 'txf09bseta9eoyepw', 'tzo', 'tzo', 'tzsiv', 'tzsiv', 'täglich', 'täglich', 'u8', 'u8', 'uc7px8d91w7bsf3hyafusq', 'uc7px8d91w7bsf3hyafusq', 'udsa', 'udsa', 'ug', 'ug', 'ugandan', 'ugandan', 'uggh', 'uggh', 'ughhh', 'ughhh', 'ugliness', 'ugliness', 'ugm', 'ugm', 'uhg', 'uhg', 'ujhiaprwcq5ewziu0vi9rw', 'ujhiaprwcq5ewziu0vi9rw', 'ukie', 'ukie', 'ukraine', 'ukraine', 'uma', 'uma', 'ume', 'ume', 'umi', 'umi', 'umiya', 'umiya', 'umlandes', 'umlandes', 'umsonst', 'umsonst', 'unaccommodating', 'unaccommodating', 'unaccredited', 'unaccredited', 'unami', 'unami', 'unanimously', 'unanimously', 'unapologetically', 'unapologetically', 'unapproachable', 'unapproachable', 'unattainable', 'unattainable', 'unattentive', 'unattentive', 'unauthentic', 'unauthentic', 'unauthorized', 'unauthorized', 'unborn', 'unborn', 'unbreakable', 'unbreakable', 'uncaring', 'uncaring', 'unceremoniously', 'unceremoniously', 'unchallenged', 'unchallenged', 'unconditional', 'unconditional', 'uncontrollable', 'uncontrollable', 'uncouth', 'uncouth', 'undead', 'undead', 'undefined', 'undefined', 'underbody', 'underbody', 'undercover', 'undercover', 'underdog', 'underdog', 'underpants', 'underpants', 'underseasoned', 'underseasoned', 'underwood', 'underwood', 'underworld', 'underworld', 'underwriter', 'underwriter', 'underwriting', 'underwriting', 'undeserving', 'undeserving', 'undress', 'undress', 'undulation', 'undulation', 'undying', 'undying', 'uneatable', 'uneatable', 'unemployed', 'unemployed', 'unencumbered', 'unencumbered', 'unenthusiastic', 'unenthusiastic', 'unethically', 'unethically', 'unfit', 'unfit', 'unfixable', 'unfixable', 'unfolding', 'unfolding', 'unfolds', 'unfolds', 'unforgivable', 'unforgivable', 'unfried', 'unfried', 'unify', 'unify', 'unimaginative', 'unimaginative', 'uninhibited', 'uninhibited', 'unintelligible', 'unintelligible', 'unintentionally', 'unintentionally', 'uniun', 'uniun', 'unknowingly', 'unknowingly', 'unleavened', 'unleavened', 'unlicensed', 'unlicensed', 'unlocking', 'unlocking', 'unloved', 'unloved', 'unmistakably', 'unmistakably', 'unmittelbar', 'unmittelbar', 'unneeded', 'unneeded', 'unnerving', 'unnerving', 'unofficially', 'unofficially', 'unpacked', 'unpacked', 'unphogettable', 'unphogettable', 'unplug', 'unplug', 'unplugged', 'unplugged', 'unpolished', 'unpolished', 'unprecedented', 'unprecedented', 'unprofessionally', 'unprofessionally', 'unpronounceable', 'unpronounceable', 'unravel', 'unravel', 'unrealistically', 'unrealistically', 'unrepentant', 'unrepentant', 'unruly', 'unruly', 'unsatisfying', 'unsatisfying', 'unscientific', 'unscientific', 'unseen', 'unseen', 'unsettled', 'unsettled', 'unsightly', 'unsightly', 'unsmiling', 'unsmiling', 'unsolved', 'unsolved', 'unsophisticated', 'unsophisticated', 'unspeakable', 'unspeakable', 'unsupervised', 'unsupervised', 'unsurpassed', 'unsurpassed', 'unsurprisingly', 'unsurprisingly', 'unsuspectingly', 'unsuspectingly', 'unsweet', 'unsweet', 'unten', 'unten', 'unthinkable', 'unthinkable', 'untraditional', 'untraditional', 'untrustworthy', 'untrustworthy', 'unusable', 'unusable', 'unveiled', 'unveiled', 'unweit', 'unweit', 'unwinding', 'unwinding', 'unworthy', 'unworthy', 'unwrap', 'unwrap', 'unzähligen', 'unzähligen', 'upend', 'upend', 'uphold', 'uphold', 'upholding', 'upholding', 'upsale', 'upsale', 'upsold', 'upsold', 'upstanding', 'upstanding', 'upto', 'upto', 'uqi1of16gpq', 'uqi1of16gpq', 'urb', 'urb', 'urbanites', 'urbanites', 'urfa', 'urfa', 'urie', 'urie', 'urinate', 'urinate', 'urlaub', 'urlaub', 'urn', 'urn', 'ursula', 'ursula', 'urusawa', 'urusawa', 'us3u7ilrekbtomcrtq', 'us3u7ilrekbtomcrtq', 'usain', 'usain', 'uselessly', 'uselessly', 'uterus', 'uterus', 'utopia', 'utopia', 'utters', 'utters', 'uuugh', 'uuugh', 'uuuuh', 'uuuuh', 'uws', 'uws', 'uyee', 'uyee', 'v6', 'v6', 'v8', 'v8', 'vacillated', 'vacillated', 'vader', 'vader', 'vadouvan', 'vadouvan', 'vag', 'vag', 'vagabond', 'vagabond', 'valastro', 'valastro', 'valdez', 'valdez', 'valeted', 'valeted', 'validates', 'validates', 'vallie', 'vallie', 'valory', 'valory', 'vari', 'vari', 'varicose', 'varicose', 'varie', 'varie', 'variegated', 'variegated', 'varvatos', 'varvatos', 'vastness', 'vastness', 'vaut', 'vaut', 'vedder', 'vedder', 'vedendo', 'vedendo', 'vedere', 'vedere', 'veering', 'veering', 'vegasstrong', 'vegasstrong', 'vege', 'vege', 'vegeway', 'vegeway', 'vegy', 'vegy', 'veil', 'veil', 'velcro', 'velcro', 'velda', 'velda', 'velocity', 'velocity', 'velour', 'velour', 'ven', 'ven', 'vendono', 'vendono', 'venomous', 'venomous', 'venting', 'venting', 'ventriloquism', 'ventriloquism', 'ventriloquist', 'ventriloquist', 'ventura', 'ventura', 'ver', 'ver', 'verace', 'verace', 'verbena', 'verbena', 'verdant', 'verdant', 'verdes', 'verdes', 'vergangenheit', 'vergangenheit', 'verifiable', 'verifiable', 'vermonty', 'vermonty', 'vermut', 'vermut', 'vero', 'vero', 'verre', 'verre', 'verrry', 'verrry', 'versatility', 'versatility', 'verschaffen', 'verschaffen', 'vertigo', 'vertigo', 'verursacht', 'verursacht', 'verve', 'verve', 'vescio', 'vescio', 'vesusvio', 'vesusvio', 'vesuvius', 'vesuvius', 'vetmed', 'vetmed', 'veto', 'veto', 'vettro', 'vettro', 'viagra', 'viagra', 'vial', 'vial', 'viateur', 'viateur', 'vibey', 'vibey', 'videography', 'videography', 'videopokergeräte', 'videopokergeräte', 'vidrio', 'vidrio', 'vids', 'vids', 'vieles', 'vieles', 'vier', 'vier', 'viertelstunde', 'viertelstunde', 'vinagrette', 'vinagrette', 'vindictive', 'vindictive', 'vinegarette', 'vinegarette', 'vins', 'vins', 'vintner', 'vintner', 'viognier', 'viognier', 'viola', 'viola', 'violates', 'violates', 'virtu', 'virtu', 'virus', 'virus', 'visceral', 'visceral', 'visine', 'visine', 'visitare', 'visitare', 'visto', 'visto', 'vitamix', 'vitamix', 'vite', 'vite', 'vitello', 'vitello', 'vivacious', 'vivacious', 'vm', 'vm', 'vmarie', 'vmarie', 'vocalizing', 'vocalizing', 'voiceamerica', 'voiceamerica', 'volatile', 'volatile', 'volition', 'volition', 'voltage', 'voltage', 'vomited', 'vomited', 'vongerichten', 'vongerichten', 'voss', 'voss', 'votives', 'votives', 'vouched', 'vouched', 'voulait', 'voulait', 'vould', 'vould', 'voyager', 'voyager', 'voyeurism', 'voyeurism', 'vpn', 'vpn', 'vr', 'vr', 'vraies', 'vraies', 'vue', 'vue', 'vulgarity', 'vulgarity', 'vuoi', 'vuoi', 'vuole', 'vuole', 'vz6suzx9suknkz', 'vz6suzx9suknkz', 'w0ejjvv0cztywh4qt0ddiw', 'w0ejjvv0cztywh4qt0ddiw', 'w2pbmx92hz5v89z5rd42gg', 'w2pbmx92hz5v89z5rd42gg', 'w7vtq82', 'w7vtq82', 'wa12bxitpb92', 'wa12bxitpb92', 'waaaaaaay', 'waaaaaaay', 'wabo', 'wabo', 'waddled', 'waddled', 'waffallonia', 'waffallonia', 'wafles', 'wafles', 'wagging', 'wagging', 'wahca', 'wahca', 'wahhh', 'wahhh', 'wahoo', 'wahoo', 'waifu', 'waifu', 'wail', 'wail', 'waisttraining101', 'waisttraining101', 'waitin', 'waitin', 'waitperson', 'waitperson', 'waiving', 'waiving', 'wakame', 'wakame', 'wakka', 'wakka', 'waldorf', 'waldorf', 'walkable', 'walkable', 'walken', 'walken', 'wallaby', 'wallaby', 'wallmart', 'wallmart', 'wallonia', 'wallonia', 'wallow', 'wallow', 'wallpapering', 'wallpapering', 'walmarts', 'walmarts', 'walrus', 'walrus', 'walsh', 'walsh', 'walt', 'walt', 'waltzed', 'waltzed', 'wana', 'wana', 'waning', 'waning', 'wannabee', 'wannabee', 'warms', 'warms', 'warrenty', 'warrenty', 'wart', 'wart', 'washcloth', 'washcloth', 'wasp', 'wasp', 'wasser', 'wasser', 'wasserfälle', 'wasserfälle', 'wassershow', 'wassershow', 'wasserversorgung', 'wasserversorgung', 'wassup', 'wassup', 'wast', 'wast', 'wastegate', 'wastegate', 'watan', 'watan', 'watchable', 'watchable', 'watchin', 'watchin', 'waterpark', 'waterpark', 'waterworks', 'waterworks', 'watt', 'watt', 'waver', 'waver', 'wavered', 'wavered', 'wayfinding', 'wayfinding', 'wayspa', 'wayspa', 'wayyyy', 'wayyyy', 'wc9lkjryssdhlpqwxhq', 'wc9lkjryssdhlpqwxhq', 'wd', 'wd', 'weakling', 'weakling', 'weakly', 'weakly', 'weasel', 'weasel', 'weasley', 'weasley', 'webpage', 'webpage', 'websitebackup', 'websitebackup', 'webster', 'webster', 'webstore', 'webstore', 'wec', 'wec', 'ween', 'ween', 'weensy', 'weensy', 'weighted', 'weighted', 'weightless', 'weightless', 'weisswürste', 'weisswürste', 'weit', 'weit', 'weizen', 'weizen', 'welding', 'welding', 'welled', 'welled', 'welles', 'welles', 'welllll', 'welllll', 'welsh', 'welsh', 'wen', 'wen', 'wenigen', 'wenigen', 'westfalia', 'westfalia', 'westlake', 'westlake', 'westview', 'westview', 'westward', 'westward', 'westwood', 'westwood', 'wetting', 'wetting', 'wexford', 'wexford', 'wfs', 'wfs', 'wh', 'wh', 'whaaaaa', 'whaaaaa', 'whaaaat', 'whaaaat', 'whaambulance', 'whaambulance', 'whaat', 'whaat', 'whaddya', 'whaddya', 'whasn', 'whasn', 'whatcha', 'whatcha', 'whatd', 'whatd', 'whatev', 'whatev', 'whatll', 'whatll', 'wheatgrass', 'wheatgrass', 'whee', 'whee', 'wheezing', 'wheezing', 'whelming', 'whelming', 'whelp', 'whelp', 'whens', 'whens', 'wheretea', 'wheretea', 'whereuchill', 'whereuchill', 'whig', 'whig', 'whiner', 'whiner', 'whirled', 'whirled', 'whirring', 'whirring', 'whiter', 'whiter', 'whizzing', 'whizzing', 'whoaho', 'whoaho', 'whooooo', 'whooooo', 'whopper', 'whopper', 'whoring', 'whoring', 'whyd', 'whyd', 'wickenburg', 'wickenburg', 'widening', 'widening', 'wieden', 'wieden', 'wield', 'wield', 'wiggling', 'wiggling', 'wiggly', 'wiggly', 'wiith', 'wiith', 'wikiup', 'wikiup', 'wikiwiki', 'wikiwiki', 'wilde', 'wilde', 'wildfire', 'wildfire', 'wilkerson', 'wilkerson', 'wilkes', 'wilkes', 'willfully', 'willfully', 'willowick', 'willowick', 'wilt', 'wilt', 'wilting', 'wilting', 'winghart', 'winghart', 'winna', 'winna', 'winnah', 'winnah', 'winnie', 'winnie', 'wintertime', 'wintertime', 'wirsing', 'wirsing', 'wisest', 'wisest', 'wispy', 'wispy', 'withdrawing', 'withdrawing', 'withdrawn', 'withdrawn', 'withdrew', 'withdrew', 'withering', 'withering', 'withholding', 'withholding', 'witted', 'witted', 'wizened', 'wizened', 'wk', 'wk', 'wkkh6vsvzpzd3', 'wkkh6vsvzpzd3', 'wnxz0wqxz7nittjmoip3ew', 'wnxz0wqxz7nittjmoip3ew', 'wochenende', 'wochenende', 'wocka', 'wocka', 'wohnzimmer', 'wohnzimmer', 'wold', 'wold', 'wondrously', 'wondrously', 'wonita', 'wonita', 'woodblock', 'woodblock', 'woodfield', 'woodfield', 'woodland', 'woodland', 'woodstock', 'woodstock', 'woop', 'woop', 'worden', 'worden', 'wordplay', 'wordplay', 'workload', 'workload', 'worshiper', 'worshiper', 'worshiping', 'worshiping', 'wowee', 'wowee', 'wowie', 'wowie', 'wrestled', 'wrestled', 'writhing', 'writhing', 'wronged', 'wronged', 'wrought', 'wrought', 'wsj', 'wsj', 'wtih', 'wtih', 'wtji8bvtczkxudeu', 'wtji8bvtczkxudeu', 'wu', 'wu', 'wuhu', 'wuhu', 'wun', 'wun', 'wuz', 'wuz', 'wvrst', 'wvrst', 'wwf', 'wwf', 'wwi', 'wwi', 'wwz', 'wwz', 'wyndham', 'wyndham', 'wynner', 'wynner', 'wyoming', 'wyoming', 'wyv2dxrn', 'wyv2dxrn', 'wzdieupbzmhde01q', 'wzdieupbzmhde01q', 'wünsche', 'wünsche', 'x4', 'x4', 'xanthan', 'xanthan', 'xao', 'xao', 'xavier', 'xavier', 'xcellent', 'xcellent', 'xcycle', 'xcycle', 'xd4kd5hmvox259bcpfuesa', 'xd4kd5hmvox259bcpfuesa', 'xe', 'xe', 'xeriscaping', 'xeriscaping', 'xia', 'xia', 'xiaoxiao', 'xiaoxiao', 'xm', 'xm', 'xmayehopkoqe1l20r', 'xmayehopkoqe1l20r', 'xnnu59mjvnc3bwzzdmadq', 'xnnu59mjvnc3bwzzdmadq', 'xocolatl', 'xocolatl', 'xocotatl', 'xocotatl', 'xpress', 'xpress', 'xray', 'xray', 'xrays', 'xrays', 'xscream', 'xscream', 'xsive', 'xsive', 'xtra', 'xtra', 'xtreme', 'xtreme', 'xxxl', 'xxxl', 'yaaaaas', 'yaaaaas', 'yahh', 'yahh', 'yahoo', 'yahoo', 'yahoooo', 'yahoooo', 'yai', 'yai', 'yamaimo', 'yamaimo', 'yaqui', 'yaqui', 'yardhouse', 'yardhouse', 'yasin', 'yasin', 'yass', 'yass', 'yasss', 'yasss', 'ycsd6', 'ycsd6', 'yeager', 'yeager', 'yearned', 'yearned', 'yearns', 'yearns', 'yeasted', 'yeasted', 'yeh', 'yeh', 'yellowish', 'yellowish', 'yelpaholics', 'yelpaholics', 'yelphi', 'yelphi', 'yelpin', 'yelpin', 'yelptastic', 'yelptastic', 'yemita', 'yemita', 'yesh', 'yesh', 'yessir', 'yessir', 'yf', 'yf', 'yfcbxkbrdxdfozogqmiwvq', 'yfcbxkbrdxdfozogqmiwvq', 'ygj', 'ygj', 'yh8wm4frg', 'yh8wm4frg', 'yia', 'yia', 'yippee', 'yippee', 'yippie', 'yippie', 'ylang', 'ylang', 'yodel', 'yodel', 'yoghurt', 'yoghurt', 'yoinked', 'yoinked', 'yokel', 'yokel', 'yooda', 'yooda', 'yorkville', 'yorkville', 'yoroi', 'yoroi', 'yoshoku', 'yoshoku', 'yosi', 'yosi', 'youngin', 'youngin', 'yowza', 'yowza', 'yoyo', 'yoyo', 'ypvbtuh7mh', 'ypvbtuh7mh', 'yruypbaxfdu', 'yruypbaxfdu', 'ysmcxg9lra', 'ysmcxg9lra', 'ystem', 'ystem', 'ytmnd', 'ytmnd', 'yucatan', 'yucatan', 'yume', 'yume', 'yummers', 'yummers', 'yummier', 'yummier', 'yummmm', 'yummmm', 'yummmmm', 'yummmmm', 'yves', 'yves', 'yyd', 'yyd', 'z2bqr5kmam5la12srzvqsg', 'z2bqr5kmam5la12srzvqsg', 'zabaglione', 'zabaglione', 'zach', 'zach', 'zachary', 'zachary', 'zagat', 'zagat', 'zagged', 'zagged', 'zane', 'zane', 'zao', 'zao', 'zapping', 'zapping', 'zara', 'zara', 'zavida', 'zavida', 'zcfb7xopjufgx9hhpfh9mq', 'zcfb7xopjufgx9hhpfh9mq', 'zcmu8ztapwvthjfnuql', 'zcmu8ztapwvthjfnuql', 'zcouemg', 'zcouemg', 'zeitpunkt', 'zeitpunkt', 'zentral', 'zentral', 'zentrale', 'zentrale', 'zentrum', 'zentrum', 'zg', 'zg', 'zhong', 'zhong', 'zhzluw7q', 'zhzluw7q', 'ziel', 'ziel', 'zig', 'zig', 'zinburgers', 'zinburgers', 'zo', 'zo', 'zomg', 'zomg', 'zomtb0a', 'zomtb0a', 'zonked', 'zonked', 'zoolander', 'zoolander', 'zoom', 'zoom', 'zoozacrackers', 'zoozacrackers', 'zorba', 'zorba', 'zot', 'zot', 'zoë', 'zoë', 'zqvvdm', 'zqvvdm', 'ztejas', 'ztejas', 'zuchini', 'zuchini', 'zuffenhausen', 'zuffenhausen', 'zuh', 'zuh', 'zuke', 'zuke', 'zuppa', 'zuppa', 'zuschauen', 'zuschauen', 'zweite', 'zweite', 'zzeeks', 'zzeeks', 'zählt', 'zählt', '×3', '×3', 'á', 'á', 'ähnelt', 'ähnelt', 'älteren', 'älteren', 'éclairs', 'éclairs', 'également', 'également', 'énorme', 'énorme', 'étaient', 'étaient', 'étoiles', 'étoiles', 'été', 'été', 'ñever', 'ñever', 'überall', 'überall', 'überblick', 'überblick', 'überdachung', 'überdachung', 'überlebt', 'überlebt', 'überschaubar', 'überschaubar', '€', '€', 'ツ', 'ツ', '我不懂', '我不懂', '拉面', '拉面', '生煎包', '生煎包', '點心', '點心', '／', '／', '＼', '＼']\n"
     ]
    }
   ],
   "source": [
    "rare_words = sorted(list_rare_words)\n",
    "print(len(rare_words))\n",
    "print(rare_words)"
   ]
  },
  {
   "cell_type": "markdown",
   "metadata": {},
   "source": [
    "Now, I use the word count information across all the reviews to come up with a feature list. This creates a sparse matrix of features for each review with the help of sklearn.feature_extraction.text.TfidfVectorizer."
   ]
  },
  {
   "cell_type": "code",
   "execution_count": 22,
   "metadata": {},
   "outputs": [],
   "source": [
    "#creating features\n",
    "stop_words_and_rare = nltk.corpus.stopwords.words('english') + rare_words\n",
    "tfidf_vectorizer = sklearn.feature_extraction.text.TfidfVectorizer(stop_words = stop_words_and_rare)\n",
    "\n",
    "df3.text = df3.text.apply(lambda x:' '.join(x))\n",
    "\n",
    "X = tfidf_vectorizer.fit_transform(df3['text'])"
   ]
  },
  {
   "cell_type": "code",
   "execution_count": 23,
   "metadata": {},
   "outputs": [
    {
     "name": "stdout",
     "output_type": "stream",
     "text": [
      "  (0, 11085)\t0.0488374651785\n",
      "  (0, 24216)\t0.380184441716\n",
      "  (0, 43754)\t0.033181178788\n",
      "  (0, 23433)\t0.027178194837\n",
      "  (0, 39475)\t0.0325930393388\n",
      "  (0, 32835)\t0.07043797324\n",
      "  (0, 18673)\t0.136228427034\n",
      "  (0, 5510)\t0.117589014355\n",
      "  (0, 3542)\t0.122254346628\n",
      "  (0, 6856)\t0.0611271733141\n",
      "  (0, 25418)\t0.0793120437232\n",
      "  (0, 15916)\t0.0993485465648\n",
      "  (0, 18313)\t0.0421948388186\n",
      "  (0, 14613)\t0.0400255298251\n",
      "  (0, 6182)\t0.0385476262954\n",
      "  (0, 11231)\t0.0717488211846\n",
      "  (0, 16326)\t0.055580267329\n",
      "  (0, 10241)\t0.0428311934908\n",
      "  (0, 35922)\t0.0423491298659\n",
      "  (0, 7171)\t0.0195927610598\n",
      "  (0, 24400)\t0.0952643959907\n",
      "  (0, 37791)\t0.0344422234746\n",
      "  (0, 11969)\t0.0465836411914\n",
      "  (0, 14914)\t0.0288276996187\n",
      "  (0, 33090)\t0.0208545036502\n",
      "  :\t:\n",
      "  (13519, 20862)\t0.0772208124052\n",
      "  (13519, 30347)\t0.108392084849\n",
      "  (13519, 3675)\t0.0871420509096\n",
      "  (13519, 25063)\t0.0930345528845\n",
      "  (13519, 28119)\t0.0957760960746\n",
      "  (13519, 2630)\t0.104927987551\n",
      "  (13519, 11466)\t0.0922341024532\n",
      "  (13519, 16206)\t0.0999174386636\n",
      "  (13519, 32247)\t0.0756933863479\n",
      "  (13519, 12630)\t0.0918513687438\n",
      "  (13519, 17357)\t0.0885331667248\n",
      "  (13519, 19710)\t0.101385993929\n",
      "  (13519, 3382)\t0.117543976325\n",
      "  (13519, 9132)\t0.105984822512\n",
      "  (13519, 39426)\t0.109783200664\n",
      "  (13519, 25792)\t0.101385993929\n",
      "  (13519, 42475)\t0.113101402683\n",
      "  (13519, 21554)\t0.113101402683\n",
      "  (13519, 35804)\t0.117543976325\n",
      "  (13519, 32061)\t0.115136713988\n",
      "  (13519, 21226)\t0.115136713988\n",
      "  (13519, 3383)\t0.115136713988\n",
      "  (13519, 19448)\t0.120490227313\n",
      "  (13519, 38654)\t0.129642118789\n",
      "  (13519, 5271)\t0.129642118789\n"
     ]
    }
   ],
   "source": [
    "print (X)"
   ]
  },
  {
   "cell_type": "markdown",
   "metadata": {},
   "source": [
    "Create a numpy array of the labels useful_binary for later use."
   ]
  },
  {
   "cell_type": "code",
   "execution_count": 24,
   "metadata": {},
   "outputs": [
    {
     "name": "stdout",
     "output_type": "stream",
     "text": [
      "[0 0 0 ..., 0 0 0]\n"
     ]
    }
   ],
   "source": [
    "y = np.array(df3.useful_binary)\n",
    "print(y)"
   ]
  },
  {
   "cell_type": "markdown",
   "metadata": {},
   "source": [
    "For the classifier, I used sklearn.svm.SVC (Support Vector Machine). The following code learns a classifier from the input features and labels using the kernel function supplied."
   ]
  },
  {
   "cell_type": "code",
   "execution_count": 25,
   "metadata": {},
   "outputs": [
    {
     "data": {
      "text/plain": [
       "SVC(C=1.0, cache_size=200, class_weight=None, coef0=0.0,\n",
       "  decision_function_shape='ovr', degree=3, gamma='auto', kernel='linear',\n",
       "  max_iter=-1, probability=False, random_state=None, shrinking=True,\n",
       "  tol=0.001, verbose=False)"
      ]
     },
     "execution_count": 25,
     "metadata": {},
     "output_type": "execute_result"
    }
   ],
   "source": [
    "kernel = 'linear'    \n",
    "clf = SVC(kernel=kernel)\n",
    "clf.fit(X, y) "
   ]
  },
  {
   "cell_type": "markdown",
   "metadata": {},
   "source": [
    "The following predicts the class using the learnt classifier. The decision function returns the decision function of the sample for each class in the model. The predict function performs classification on samples in X."
   ]
  },
  {
   "cell_type": "code",
   "execution_count": 26,
   "metadata": {},
   "outputs": [
    {
     "data": {
      "text/plain": [
       "array([0, 0, 0, ..., 0, 0, 0])"
      ]
     },
     "execution_count": 26,
     "metadata": {},
     "output_type": "execute_result"
    }
   ],
   "source": [
    "clf.decision_function(X)\n",
    "clf.predict(X)"
   ]
  },
  {
   "cell_type": "markdown",
   "metadata": {},
   "source": [
    "The following code evaluates a classifier based on the validation data."
   ]
  },
  {
   "cell_type": "code",
   "execution_count": 27,
   "metadata": {},
   "outputs": [
    {
     "name": "stdout",
     "output_type": "stream",
     "text": [
      "0.954142011834\n"
     ]
    }
   ],
   "source": [
    "accuracy = accuracy_score(y, clf.predict(X))\n",
    "\n",
    "print(accuracy)"
   ]
  },
  {
   "cell_type": "markdown",
   "metadata": {},
   "source": [
    "Thus, the accuracy using the bag of words model is 95.4%. Let's see if this accuracy can be made better using K-means and logistic regression"
   ]
  },
  {
   "cell_type": "markdown",
   "metadata": {},
   "source": [
    "## K-Means Clustering of Reviews"
   ]
  },
  {
   "cell_type": "markdown",
   "metadata": {},
   "source": [
    "The idea here is to find the most descriptive clusters to simplify the model.\n",
    "\n",
    "First, apply TfidfVectorizer to review the text and fit the vectorizer to the text column. TF-IDF are word frequency scores that try to highlight words that are more interesting, e.g. frequent in a document but not across documents."
   ]
  },
  {
   "cell_type": "code",
   "execution_count": 28,
   "metadata": {},
   "outputs": [
    {
     "data": {
      "text/plain": [
       "TfidfVectorizer(analyzer='word', binary=False, decode_error='strict',\n",
       "        dtype=<class 'numpy.int64'>, encoding='utf-8', input='content',\n",
       "        lowercase=True, max_df=1.0, max_features=None, min_df=1,\n",
       "        ngram_range=(1, 1), norm='l2', preprocessor=None, smooth_idf=True,\n",
       "        stop_words='english', strip_accents=None, sublinear_tf=False,\n",
       "        token_pattern='(?u)\\\\b\\\\w\\\\w+\\\\b', tokenizer=None, use_idf=True,\n",
       "        vocabulary=None)"
      ]
     },
     "execution_count": 28,
     "metadata": {},
     "output_type": "execute_result"
    }
   ],
   "source": [
    "tfidf_vectorizer = sklearn.feature_extraction.text.TfidfVectorizer(stop_words = 'english')\n",
    "tfidf_vectorizer.fit(df3['text'])"
   ]
  },
  {
   "cell_type": "markdown",
   "metadata": {},
   "source": [
    "Now, construct a sparse matrix of features for each review with the help of sklearn.feature_extraction.text.TfidfVectorizer. Further, learn the vocabulary using get_feature_names()."
   ]
  },
  {
   "cell_type": "code",
   "execution_count": 29,
   "metadata": {},
   "outputs": [],
   "source": [
    "X_train = tfidf_vectorizer.transform(df3['text'])\n",
    "\n",
    "vocab = tfidf_vectorizer.get_feature_names()\n",
    "vocab = np.array(vocab)"
   ]
  },
  {
   "cell_type": "markdown",
   "metadata": {},
   "source": [
    "Then, create the K-means model 'kmeans' with 2 clusters (pre-determined). Each observation is assigned to a cluster (cluster assignment) so as to minimize the within cluster sum of squares.  "
   ]
  },
  {
   "cell_type": "code",
   "execution_count": 30,
   "metadata": {
    "collapsed": true
   },
   "outputs": [],
   "source": [
    "sse_error = []\n",
    "kmeans = KMeans(n_clusters=2, init='k-means++', max_iter=100, n_init=1,random_state=5)\n",
    "kmeans.fit(X_train)\n",
    "y_kmeans = kmeans.predict(X_train)"
   ]
  },
  {
   "cell_type": "markdown",
   "metadata": {},
   "source": [
    "Find the number of observations in each cluster."
   ]
  },
  {
   "cell_type": "code",
   "execution_count": 31,
   "metadata": {},
   "outputs": [
    {
     "data": {
      "text/html": [
       "<div>\n",
       "<style>\n",
       "    .dataframe thead tr:only-child th {\n",
       "        text-align: right;\n",
       "    }\n",
       "\n",
       "    .dataframe thead th {\n",
       "        text-align: left;\n",
       "    }\n",
       "\n",
       "    .dataframe tbody tr th {\n",
       "        vertical-align: top;\n",
       "    }\n",
       "</style>\n",
       "<table border=\"1\" class=\"dataframe\">\n",
       "  <thead>\n",
       "    <tr style=\"text-align: right;\">\n",
       "      <th></th>\n",
       "      <th>stars</th>\n",
       "      <th>text</th>\n",
       "      <th>useful</th>\n",
       "      <th>tot</th>\n",
       "      <th>useful_binary</th>\n",
       "    </tr>\n",
       "    <tr>\n",
       "      <th>cluster</th>\n",
       "      <th></th>\n",
       "      <th></th>\n",
       "      <th></th>\n",
       "      <th></th>\n",
       "      <th></th>\n",
       "    </tr>\n",
       "  </thead>\n",
       "  <tbody>\n",
       "    <tr>\n",
       "      <th>0</th>\n",
       "      <td>7973</td>\n",
       "      <td>7973</td>\n",
       "      <td>7973</td>\n",
       "      <td>7973</td>\n",
       "      <td>7973</td>\n",
       "    </tr>\n",
       "    <tr>\n",
       "      <th>1</th>\n",
       "      <td>5547</td>\n",
       "      <td>5547</td>\n",
       "      <td>5547</td>\n",
       "      <td>5547</td>\n",
       "      <td>5547</td>\n",
       "    </tr>\n",
       "  </tbody>\n",
       "</table>\n",
       "</div>"
      ],
      "text/plain": [
       "         stars  text  useful   tot  useful_binary\n",
       "cluster                                          \n",
       "0         7973  7973    7973  7973           7973\n",
       "1         5547  5547    5547  5547           5547"
      ]
     },
     "execution_count": 31,
     "metadata": {},
     "output_type": "execute_result"
    }
   ],
   "source": [
    "# how many observations are in each cluster\n",
    "df3['cluster'] = kmeans.labels_\n",
    "df3.groupby('cluster').count()"
   ]
  },
  {
   "cell_type": "markdown",
   "metadata": {},
   "source": [
    "The mean values of each of the columns for each of the clusters is given by:"
   ]
  },
  {
   "cell_type": "code",
   "execution_count": 32,
   "metadata": {},
   "outputs": [
    {
     "data": {
      "text/html": [
       "<div>\n",
       "<style>\n",
       "    .dataframe thead tr:only-child th {\n",
       "        text-align: right;\n",
       "    }\n",
       "\n",
       "    .dataframe thead th {\n",
       "        text-align: left;\n",
       "    }\n",
       "\n",
       "    .dataframe tbody tr th {\n",
       "        vertical-align: top;\n",
       "    }\n",
       "</style>\n",
       "<table border=\"1\" class=\"dataframe\">\n",
       "  <thead>\n",
       "    <tr style=\"text-align: right;\">\n",
       "      <th></th>\n",
       "      <th>stars</th>\n",
       "      <th>useful</th>\n",
       "      <th>tot</th>\n",
       "      <th>useful_binary</th>\n",
       "    </tr>\n",
       "    <tr>\n",
       "      <th>cluster</th>\n",
       "      <th></th>\n",
       "      <th></th>\n",
       "      <th></th>\n",
       "      <th></th>\n",
       "    </tr>\n",
       "  </thead>\n",
       "  <tbody>\n",
       "    <tr>\n",
       "      <th>0</th>\n",
       "      <td>3.660605</td>\n",
       "      <td>40.826038</td>\n",
       "      <td>91.286843</td>\n",
       "      <td>0.199047</td>\n",
       "    </tr>\n",
       "    <tr>\n",
       "      <th>1</th>\n",
       "      <td>3.953849</td>\n",
       "      <td>39.121868</td>\n",
       "      <td>97.316568</td>\n",
       "      <td>0.050297</td>\n",
       "    </tr>\n",
       "  </tbody>\n",
       "</table>\n",
       "</div>"
      ],
      "text/plain": [
       "            stars     useful        tot  useful_binary\n",
       "cluster                                               \n",
       "0        3.660605  40.826038  91.286843       0.199047\n",
       "1        3.953849  39.121868  97.316568       0.050297"
      ]
     },
     "execution_count": 32,
     "metadata": {},
     "output_type": "execute_result"
    }
   ],
   "source": [
    "df3.groupby('cluster').mean()"
   ]
  },
  {
   "cell_type": "markdown",
   "metadata": {},
   "source": [
    "The top 10 words that are a part of each cluster are displayed by the following code:"
   ]
  },
  {
   "cell_type": "code",
   "execution_count": 33,
   "metadata": {},
   "outputs": [
    {
     "name": "stdout",
     "output_type": "stream",
     "text": [
      "Cluster 0:\n",
      " wa\n",
      " time\n",
      " place\n",
      " like\n",
      " just\n",
      " dont\n",
      " great\n",
      " room\n",
      " im\n",
      " service\n",
      "Cluster 1:\n",
      " wa\n",
      " food\n",
      " good\n",
      " place\n",
      " chicken\n",
      " sauce\n",
      " like\n",
      " restaurant\n",
      " menu\n",
      " order\n"
     ]
    }
   ],
   "source": [
    "#Reference: https://pythonprogramminglanguage.com/kmeans-text-clustering/\n",
    "sorted_vals = kmeans.cluster_centers_.argsort()[:, ::-1]\n",
    "words = []\n",
    "for i in range(2):\n",
    "    print(\"Cluster %d:\" % i),\n",
    "    for ind in sorted_vals[i, :10]:\n",
    "        print(' %s' % vocab[ind]) \n",
    "        words.append(vocab[ind])"
   ]
  },
  {
   "cell_type": "markdown",
   "metadata": {},
   "source": [
    "It is seen that these words lie in each of the clusters. This could mean that, in each of these clusters, these might be the words used to predict the usefulness of the review. There are some top words that overlap among clusters like 'place' and 'like'. However, there doesn't seem to be a clear trend to the clusters. \n",
    "\n",
    "Let's further analyze this using Logistic Regression."
   ]
  },
  {
   "cell_type": "markdown",
   "metadata": {},
   "source": [
    "## Logistic Regression with Top Cluster Words"
   ]
  },
  {
   "cell_type": "markdown",
   "metadata": {},
   "source": [
    "Firstly, let's add the top words to the training set. This is because these words will be the ones used for the prediction."
   ]
  },
  {
   "cell_type": "code",
   "execution_count": 34,
   "metadata": {},
   "outputs": [
    {
     "name": "stdout",
     "output_type": "stream",
     "text": [
      "['wa', 'time', 'place', 'like', 'just', 'dont', 'great', 'room', 'im', 'service', 'wa', 'food', 'good', 'place', 'chicken', 'sauce', 'like', 'restaurant', 'menu', 'order']\n"
     ]
    }
   ],
   "source": [
    "print (words)"
   ]
  },
  {
   "cell_type": "code",
   "execution_count": 35,
   "metadata": {},
   "outputs": [],
   "source": [
    "#add the top words to train set\n",
    "training_set = X_train[:,[np.argwhere(vocab==i)[0][0] for i in words]]"
   ]
  },
  {
   "cell_type": "markdown",
   "metadata": {},
   "source": [
    "Then, I add the 'stars' column to the training set sparse matrix. This is because we need an estimate of the stars that the users give the reviews that they find helpful."
   ]
  },
  {
   "cell_type": "code",
   "execution_count": 36,
   "metadata": {},
   "outputs": [],
   "source": [
    "stars = np.array(list(df3.stars))\n",
    "stars = stars.reshape(13520, 1)\n",
    "\n",
    "features = scipy.sparse.hstack((training_set,scipy.sparse.csr_matrix(stars)))\n",
    "\n",
    "features = scipy.sparse.csr_matrix(features)"
   ]
  },
  {
   "cell_type": "code",
   "execution_count": 37,
   "metadata": {},
   "outputs": [
    {
     "data": {
      "text/plain": [
       "(13520, 21)"
      ]
     },
     "execution_count": 37,
     "metadata": {},
     "output_type": "execute_result"
    }
   ],
   "source": [
    "features.shape"
   ]
  },
  {
   "cell_type": "markdown",
   "metadata": {},
   "source": [
    "In order to find the best logistic regression parameters, I use grid_search.GridSearchCV. GridSearchCV carries out an exhaustive search over specified parameter values for an estimator. Important members are fit and predicted. "
   ]
  },
  {
   "cell_type": "code",
   "execution_count": 38,
   "metadata": {},
   "outputs": [
    {
     "data": {
      "text/plain": [
       "[mean: 0.79124, std: 0.02968, params: {'C': 100000, 'class_weight': None},\n",
       " mean: 0.79213, std: 0.02973, params: {'C': 100000, 'class_weight': 'balanced'},\n",
       " mean: 0.79124, std: 0.02969, params: {'C': 10000, 'class_weight': None},\n",
       " mean: 0.79213, std: 0.02973, params: {'C': 10000, 'class_weight': 'balanced'},\n",
       " mean: 0.79123, std: 0.02971, params: {'C': 1000, 'class_weight': None},\n",
       " mean: 0.79213, std: 0.02973, params: {'C': 1000, 'class_weight': 'balanced'},\n",
       " mean: 0.79099, std: 0.02975, params: {'C': 100, 'class_weight': None},\n",
       " mean: 0.79207, std: 0.02976, params: {'C': 100, 'class_weight': 'balanced'},\n",
       " mean: 0.78906, std: 0.03034, params: {'C': 10, 'class_weight': None},\n",
       " mean: 0.79148, std: 0.03001, params: {'C': 10, 'class_weight': 'balanced'},\n",
       " mean: 0.77677, std: 0.03243, params: {'C': 1, 'class_weight': None},\n",
       " mean: 0.78558, std: 0.03176, params: {'C': 1, 'class_weight': 'balanced'},\n",
       " mean: 0.76257, std: 0.03312, params: {'C': 0.1, 'class_weight': None},\n",
       " mean: 0.76534, std: 0.03327, params: {'C': 0.1, 'class_weight': 'balanced'},\n",
       " mean: 0.76141, std: 0.03332, params: {'C': 0.01, 'class_weight': None},\n",
       " mean: 0.76218, std: 0.03352, params: {'C': 0.01, 'class_weight': 'balanced'},\n",
       " mean: 0.76120, std: 0.03329, params: {'C': 0.001, 'class_weight': None},\n",
       " mean: 0.74645, std: 0.03191, params: {'C': 0.001, 'class_weight': 'balanced'},\n",
       " mean: 0.75712, std: 0.03321, params: {'C': 0.0001, 'class_weight': None},\n",
       " mean: 0.74316, std: 0.03160, params: {'C': 0.0001, 'class_weight': 'balanced'}]"
      ]
     },
     "execution_count": 38,
     "metadata": {},
     "output_type": "execute_result"
    }
   ],
   "source": [
    "feature_set = features\n",
    "gs = grid_search.GridSearchCV(\n",
    "    estimator=LogisticRegression(),\n",
    "    param_grid={'C': [10**-i for i in range(-5, 5)], 'class_weight': [None, 'balanced']},\n",
    "    cv=cross_validation.StratifiedKFold(df3.useful_binary,n_folds=10),\n",
    "    scoring='roc_auc'\n",
    ")\n",
    "\n",
    "gs.fit(features, df3.useful_binary)\n",
    "gs.grid_scores_"
   ]
  },
  {
   "cell_type": "markdown",
   "metadata": {},
   "source": [
    "The best_estimator_ gives the estimator that was chosen by the search, i.e. estimator which gave highest score (or smallest loss if specified) on the left out data."
   ]
  },
  {
   "cell_type": "code",
   "execution_count": 39,
   "metadata": {},
   "outputs": [
    {
     "name": "stdout",
     "output_type": "stream",
     "text": [
      "LogisticRegression(C=10000, class_weight='balanced', dual=False,\n",
      "          fit_intercept=True, intercept_scaling=1, max_iter=100,\n",
      "          multi_class='ovr', n_jobs=1, penalty='l2', random_state=None,\n",
      "          solver='liblinear', tol=0.0001, verbose=0, warm_start=False)\n"
     ]
    }
   ],
   "source": [
    "print(gs.best_estimator_)"
   ]
  },
  {
   "cell_type": "markdown",
   "metadata": {},
   "source": [
    "Now, call predict on the estimator with the best found parameters."
   ]
  },
  {
   "cell_type": "code",
   "execution_count": 40,
   "metadata": {},
   "outputs": [
    {
     "name": "stdout",
     "output_type": "stream",
     "text": [
      "[[-0.6490082   3.49026112  0.44894565 -2.9378784  -0.63286343  1.94602447\n",
      "   2.32087741 -1.46917771 -2.52990111  3.26464099 -0.6490082  -2.43476869\n",
      "  -5.84107448  0.44894565 -5.03019282 -3.33279684 -2.9378784  -0.37545048\n",
      "  -9.24766365 -7.66699436 -0.6836618 ]]\n",
      "[ 2.65809974]\n"
     ]
    }
   ],
   "source": [
    "y_pred = gs.predict(feature_set)\n",
    "# Coefficients represent the log-odds\n",
    "print(gs.best_estimator_.coef_)\n",
    "print(gs.best_estimator_.intercept_)"
   ]
  },
  {
   "cell_type": "markdown",
   "metadata": {},
   "source": [
    "Call predict_proba on the estimator with the best found parameters and then plot the roc curve. The ROC curve is created by plotting the true positive rate (TPR) against the false positive rate (FPR) at various threshold settings. \n",
    "\n",
    "The accuracy is measured by the area under the ROC curve. The greater the area, the better the accuracy."
   ]
  },
  {
   "cell_type": "code",
   "execution_count": 41,
   "metadata": {},
   "outputs": [
    {
     "data": {
      "text/plain": [
       "[<matplotlib.lines.Line2D at 0x216e58db518>]"
      ]
     },
     "execution_count": 41,
     "metadata": {},
     "output_type": "execute_result"
    },
    {
     "data": {
      "image/png": "[encoded data removed]",
      "text/plain": [
       "<matplotlib.figure.Figure at 0x216e5153390>"
      ]
     },
     "metadata": {},
     "output_type": "display_data"
    }
   ],
   "source": [
    "probas = gs.predict_proba(feature_set)\n",
    "plt.plot(roc_curve(df3[['useful_binary']], probas[:,1])[0], roc_curve(df3[['useful_binary']], probas[:,1])[1])"
   ]
  },
  {
   "cell_type": "markdown",
   "metadata": {},
   "source": [
    "In the following code, y_true is an array of the true values of useful_binary. y_score contains the predicted values. In order to find the accuracy, we use the roc_auc_score function to get the area under the curve. "
   ]
  },
  {
   "cell_type": "code",
   "execution_count": 42,
   "metadata": {},
   "outputs": [
    {
     "data": {
      "text/plain": [
       "0.79626412489002751"
      ]
     },
     "execution_count": 42,
     "metadata": {},
     "output_type": "execute_result"
    }
   ],
   "source": [
    "#roc auc score\n",
    "y_score = probas\n",
    "test2 = np.array(list(df3.useful_binary))\n",
    "test2 = test2.reshape(13520,1)\n",
    "y_true = test2\n",
    "\n",
    "roc_auc_score(y_true, y_score[:,1].T)"
   ]
  },
  {
   "cell_type": "markdown",
   "metadata": {},
   "source": [
    "This accuracy of 79.6% is much lower than that we got from the bag of words model."
   ]
  },
  {
   "cell_type": "markdown",
   "metadata": {},
   "source": [
    "Now, combine the top words got from bag of words model. For each of the words, I display the best estimator coefficient. The larger the coefficient, the greater the chance that it is used to predict the usefulness of the review. "
   ]
  },
  {
   "cell_type": "code",
   "execution_count": 43,
   "metadata": {
    "scrolled": true
   },
   "outputs": [
    {
     "data": {
      "text/plain": [
       "[('menu', -9.2476636450389549),\n",
       " ('order', -7.6669943622522947),\n",
       " ('good', -5.8410744764178313),\n",
       " ('chicken', -5.0301928178637532),\n",
       " ('sauce', -3.3327968412123936),\n",
       " ('like', -2.9378783978349232),\n",
       " ('like', -2.9378783978349232),\n",
       " ('im', -2.5299011060910646),\n",
       " ('food', -2.4347686896460643),\n",
       " ('room', -1.4691777130807058),\n",
       " ('stars', -0.68366180455918391),\n",
       " ('wa', -0.64900820068324538),\n",
       " ('wa', -0.64900820068324538),\n",
       " ('just', -0.63286342973866316),\n",
       " ('restaurant', -0.37545047730119202),\n",
       " ('place', 0.44894565159738248),\n",
       " ('place', 0.44894565159738248),\n",
       " ('dont', 1.9460244668392885),\n",
       " ('great', 2.3208774085137609),\n",
       " ('service', 3.2646409916151962),\n",
       " ('time', 3.4902611235484251)]"
      ]
     },
     "execution_count": 43,
     "metadata": {},
     "output_type": "execute_result"
    }
   ],
   "source": [
    "#view top parameters\n",
    "words.extend(['stars'])\n",
    "sorted(zip(words,gs.best_estimator_.coef_[0]),key=lambda x:x[1])"
   ]
  },
  {
   "cell_type": "markdown",
   "metadata": {},
   "source": [
    "From the above, it can be seen that words like 'dont', 'great', 'service', 'menu', 'order', 'good' have high coefficients. Thus, if these words are present in a review, there is a higher chance that it would be easily predicted as useful or not useful. For the other words, it cannot be predicted with high confidence. \n",
    "\n",
    "Further, the Bag-of-Words model had a higher accuracy than logistic regression. "
   ]
  },
  {
   "cell_type": "markdown",
   "metadata": {},
   "source": [
    "## Summary and references\n",
    "\n",
    "This tutorial highlighted how we can predict the usefulness of Yelp reviews. It covers only some methods of predicting the usefulness. There can be further analysis which was out of scope for this tutorial. \n",
    "\n",
    "'service', 'great', 'time' are the top indicators of a useful review. This indicates a possible bias among customers to mark a review as useful when the review is positive, or when the review talks about the restaurant service and time.\n",
    "\n",
    "Further resources:\n",
    "\n",
    "Bag of Words Model tutorial:\n",
    "https://machinelearningmastery.com/gentle-introduction-bag-words-model/\n",
    "\n",
    "K-means clustering:\n",
    "http://benalexkeen.com/k-means-clustering-in-python/\n",
    "\n",
    "Logistic Regression:\n",
    "https://towardsdatascience.com/building-a-logistic-regression-in-python-step-by-step-becd4d56c9c8\n",
    "\n",
    "Prediction models and text analytics:\n",
    "https://www.analyticsvidhya.com/blog/2018/02/the-different-methods-deal-text-data-predictive-python/\n",
    "\n",
    "Basic steps of building a prediction model:\n",
    "https://www.analyticsvidhya.com/blog/2015/09/build-predictive-model-10-minutes-python/\n",
    "\n",
    "References:\n",
    "1. http://scikit-learn.org/stable/auto_examples/cluster/plot_kmeans_silhouette_analysis.html\n",
    "2. https://machinelearningmastery.com/prepare-text-data-machine-learning-scikit-learn/\n",
    "3. https://www.kaggle.com/waaaou/using-k-means-clustering-to-predict-helpfulness/notebook\n",
    "4. https://pythonprogramminglanguage.com/kmeans-text-clustering/\n",
    "5. http://scikit-learn.org/stable/modules/generated/sklearn.svm.SVC.html\n",
    "6. http://scikit-learn.org/stable/modules/generated/sklearn.model_selection.GridSearchCV.html\n",
    "7. http://scikit-learn.org/stable/auto_examples/model_selection/plot_roc.html\n",
    "8. https://towardsdatascience.com/building-a-logistic-regression-in-python-step-by-step-becd4d56c9c8\n",
    "9. https://pythonprogramminglanguage.com/kmeans-text-clustering/\n",
    "10. https://stackoverflow.com/questions/20113206/scikit-learn-svc-decision-function-and-predict"
   ]
  },
  {
   "cell_type": "code",
   "execution_count": null,
   "metadata": {
    "collapsed": true
   },
   "outputs": [],
   "source": []
  }
 ],
 "metadata": {
  "kernelspec": {
   "display_name": "Python 3",
   "language": "python",
   "name": "python3"
  },
  "language_info": {
   "codemirror_mode": {
    "name": "ipython",
    "version": 3
   },
   "file_extension": ".py",
   "mimetype": "text/x-python",
   "name": "python",
   "nbconvert_exporter": "python",
   "pygments_lexer": "ipython3",
   "version": "3.6.3"
  }
 },
 "nbformat": 4,
 "nbformat_minor": 1
}