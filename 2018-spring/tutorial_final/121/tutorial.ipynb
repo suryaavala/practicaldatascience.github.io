{
 "cells": [
  {
   "cell_type": "markdown",
   "metadata": {},
   "source": [
    "#  Tutorial: Building Recommendation engines with Graphlab"
   ]
  },
  {
   "cell_type": "markdown",
   "metadata": {},
   "source": [
    "In this tutorial we will be building movie recommendation engines using GraphLab. GraphLab is a parallel framework for machine learning developed here at CMU. It has a set of libraries for data transformation, manipulation and visualization.\n",
    "\n",
    "Some benefits of using GraphLab:\n",
    " - Can handle large datasets\n",
    " - GraphLab Canvas allows easy data exporation and visualization\n",
    " - Supports various data sources (JSON, CSV, DB, s3 etc.)\n",
    " - Easy capability to create features to enhance model performance \n",
    " \n",
    "In this tutorial, we will walk through the steps to create a movie recommendation engine based on amazon movie review data. We will be exploring multiple approaches and methods to generate recommendations using various features and functions in GraphLab. I have included screenshots of any important output in case you are unable to run any of the cells."
   ]
  },
  {
   "cell_type": "markdown",
   "metadata": {},
   "source": [
    "## Installing the Libraries\n",
    "\n",
    "In order to use graphlab, you should first create a new anaconda environment with Python 2.7.x\n",
    "\n",
    " $ conda create -n py27 python=2.7 anaconda=4.0.0\n",
    "\n",
    "Graphlab is free to use for 1 year for acedemic use. You can register for a free trial using the following link: https://turi.com/download/academic.html. You should recieve a product key. You can now install your licensed copy of GraphLab Create using pip in the anaconda environment you just created.\n",
    "\n",
    " $ pip install --upgrade --no-cache-dir https://get.graphlab.com/GraphLab-Create/2.1/registered_email_address/product_key/GraphLab-Create-License.tar.gz\n",
    "    \n",
    "Now that Graphlab has been installed, make sure the following command works for you:"
   ]
  },
  {
   "cell_type": "code",
   "execution_count": null,
   "metadata": {
    "collapsed": true
   },
   "outputs": [],
   "source": [
    "import graphlab as gl\n",
    "import os.path\n",
    "import json\n",
    "import csv\n",
    "import ast\n",
    "from exceptions import ValueError\n",
    "from time import sleep\n",
    "from lxml import html \n",
    "import requests"
   ]
  },
  {
   "cell_type": "markdown",
   "metadata": {},
   "source": [
    "## Loading the data \n",
    "\n",
    "Now that we've installed and loaded the libraries, let's load some movie review data to build our recommendation engine. We are going to load data in json format. Download the 5-core Movies and TV dataset from http://jmcauley.ucsd.edu/data/amazon/, which contains reviews and metadata from Amazon for Movies and TV shows. Then unzip the reviews_Movies_and_TV_5.json.gz file to create the reviews_Movies_and_TV_5.json file, which you should move to this directory (the same folder as this notebook).\n",
    "\n",
    "If you open the reviews_Movies_and_TV_5.json file, you will see that each line is in its own individual dictionary format, and is not connected to the rest of the lines. Thus a simple json.loads(fname) or Sframe.read_json(fname) will not work. Instead, we will need to loop through each line and process it individually. In order to make our lives much easier, before loading the data into an SFrame we will first load data from the json file into a csv file and save this. After the first run, we can directly use the csv file we previously created without doing any other processing. "
   ]
  },
  {
   "cell_type": "code",
   "execution_count": null,
   "metadata": {
    "collapsed": true
   },
   "outputs": [],
   "source": [
    "json_fname = 'reviews_Movies_and_TV_5.json'\n",
    "csv_fname = 'reviews_Movies_and_TV_5.csv'\n",
    "if (not os.path.isfile(csv_fname)):\n",
    "    json = open(json_fname, \"r\")\n",
    "    csv_file = open(csv_fname, 'w')\n",
    "    csvwriter = csv.writer(csv_file)\n",
    "    count = 0\n",
    "    for row in json:\n",
    "        data = ast.literal_eval(row)\n",
    "        if (count == 0):\n",
    "            csvwriter.writerow(data.keys())\n",
    "        csvwriter.writerow(data.values())\n",
    "        count+=1\n",
    "        \n",
    "    json.close()\n",
    "    csv_file.close()\n",
    "    \n",
    "reviews = gl.SFrame.read_csv(csv_fname, column_type_hints=[str,str,str,str,str,int,str,int,str])"
   ]
  },
  {
   "cell_type": "markdown",
   "metadata": {},
   "source": [
    "At this point, we should remove movies that have been rated fewer than 5 times as these are likely to behave unpredictably."
   ]
  },
  {
   "cell_type": "code",
   "execution_count": 4,
   "metadata": {
    "collapsed": false
   },
   "outputs": [],
   "source": [
    "rare_movies = reviews.groupby('asin', gl.aggregate.COUNT) #group by asin value\n",
    "rare_movies = rare_movies.sort('Count') #sort by count\n",
    "rare_movies = rare_movies[rare_movies.apply(lambda x: x['Count'] <= 5)] \n",
    "reviews = reviews.filter_by(rare_movies['asin'], 'asin', exclude = True)"
   ]
  },
  {
   "cell_type": "code",
   "execution_count": 5,
   "metadata": {
    "collapsed": false
   },
   "outputs": [
    {
     "data": {
      "text/html": [
       "<div style=\"max-height:1000px;max-width:1500px;overflow:auto;\"><table frame=\"box\" rules=\"cols\">\n",
       "    <tr>\n",
       "        <th style=\"padding-left: 1em; padding-right: 1em; text-align: center\">reviewerID</th>\n",
       "        <th style=\"padding-left: 1em; padding-right: 1em; text-align: center\">asin</th>\n",
       "        <th style=\"padding-left: 1em; padding-right: 1em; text-align: center\">reviewerName</th>\n",
       "        <th style=\"padding-left: 1em; padding-right: 1em; text-align: center\">helpful</th>\n",
       "        <th style=\"padding-left: 1em; padding-right: 1em; text-align: center\">reviewText</th>\n",
       "        <th style=\"padding-left: 1em; padding-right: 1em; text-align: center\">overall</th>\n",
       "    </tr>\n",
       "    <tr>\n",
       "        <td style=\"padding-left: 1em; padding-right: 1em; text-align: center; vertical-align: top\">ADZPIG9QOCDG5</td>\n",
       "        <td style=\"padding-left: 1em; padding-right: 1em; text-align: center; vertical-align: top\">0005019281</td>\n",
       "        <td style=\"padding-left: 1em; padding-right: 1em; text-align: center; vertical-align: top\">Alice L. Larson \"alice-<br>loves-books\" ...</td>\n",
       "        <td style=\"padding-left: 1em; padding-right: 1em; text-align: center; vertical-align: top\">[0, 0]</td>\n",
       "        <td style=\"padding-left: 1em; padding-right: 1em; text-align: center; vertical-align: top\">This is a charming<br>version of the classic ...</td>\n",
       "        <td style=\"padding-left: 1em; padding-right: 1em; text-align: center; vertical-align: top\">4</td>\n",
       "    </tr>\n",
       "    <tr>\n",
       "        <td style=\"padding-left: 1em; padding-right: 1em; text-align: center; vertical-align: top\">A35947ZP82G7JH</td>\n",
       "        <td style=\"padding-left: 1em; padding-right: 1em; text-align: center; vertical-align: top\">0005019281</td>\n",
       "        <td style=\"padding-left: 1em; padding-right: 1em; text-align: center; vertical-align: top\">Amarah Strack</td>\n",
       "        <td style=\"padding-left: 1em; padding-right: 1em; text-align: center; vertical-align: top\">[0, 0]</td>\n",
       "        <td style=\"padding-left: 1em; padding-right: 1em; text-align: center; vertical-align: top\">It was good but not as<br>emotionally moving as ...</td>\n",
       "        <td style=\"padding-left: 1em; padding-right: 1em; text-align: center; vertical-align: top\">3</td>\n",
       "    </tr>\n",
       "    <tr>\n",
       "        <td style=\"padding-left: 1em; padding-right: 1em; text-align: center; vertical-align: top\">A3UORV8A9D5L2E</td>\n",
       "        <td style=\"padding-left: 1em; padding-right: 1em; text-align: center; vertical-align: top\">0005019281</td>\n",
       "        <td style=\"padding-left: 1em; padding-right: 1em; text-align: center; vertical-align: top\">Amazon Customer</td>\n",
       "        <td style=\"padding-left: 1em; padding-right: 1em; text-align: center; vertical-align: top\">[0, 0]</td>\n",
       "        <td style=\"padding-left: 1em; padding-right: 1em; text-align: center; vertical-align: top\">Don't get me wrong,<br>Winkler is a wonderful ...</td>\n",
       "        <td style=\"padding-left: 1em; padding-right: 1em; text-align: center; vertical-align: top\">3</td>\n",
       "    </tr>\n",
       "</table>\n",
       "<table frame=\"box\" rules=\"cols\">\n",
       "    <tr>\n",
       "        <th style=\"padding-left: 1em; padding-right: 1em; text-align: center\">summary</th>\n",
       "        <th style=\"padding-left: 1em; padding-right: 1em; text-align: center\">unixReviewTime</th>\n",
       "        <th style=\"padding-left: 1em; padding-right: 1em; text-align: center\">reviewTime</th>\n",
       "    </tr>\n",
       "    <tr>\n",
       "        <td style=\"padding-left: 1em; padding-right: 1em; text-align: center; vertical-align: top\">good version of a classic</td>\n",
       "        <td style=\"padding-left: 1em; padding-right: 1em; text-align: center; vertical-align: top\">1203984000</td>\n",
       "        <td style=\"padding-left: 1em; padding-right: 1em; text-align: center; vertical-align: top\">02 26, 2008</td>\n",
       "    </tr>\n",
       "    <tr>\n",
       "        <td style=\"padding-left: 1em; padding-right: 1em; text-align: center; vertical-align: top\">Good but not as moving</td>\n",
       "        <td style=\"padding-left: 1em; padding-right: 1em; text-align: center; vertical-align: top\">1388361600</td>\n",
       "        <td style=\"padding-left: 1em; padding-right: 1em; text-align: center; vertical-align: top\">12 30, 2013</td>\n",
       "    </tr>\n",
       "    <tr>\n",
       "        <td style=\"padding-left: 1em; padding-right: 1em; text-align: center; vertical-align: top\">Winkler's Performance was<br>ok at best! ...</td>\n",
       "        <td style=\"padding-left: 1em; padding-right: 1em; text-align: center; vertical-align: top\">1388361600</td>\n",
       "        <td style=\"padding-left: 1em; padding-right: 1em; text-align: center; vertical-align: top\">12 30, 2013</td>\n",
       "    </tr>\n",
       "</table>\n",
       "[3 rows x 9 columns]<br/>\n",
       "</div>"
      ],
      "text/plain": [
       "Columns:\n",
       "\treviewerID\tstr\n",
       "\tasin\tstr\n",
       "\treviewerName\tstr\n",
       "\thelpful\tstr\n",
       "\treviewText\tstr\n",
       "\toverall\tint\n",
       "\tsummary\tstr\n",
       "\tunixReviewTime\tint\n",
       "\treviewTime\tstr\n",
       "\n",
       "Rows: 3\n",
       "\n",
       "Data:\n",
       "+----------------+------------+-------------------------------+---------+\n",
       "|   reviewerID   |    asin    |          reviewerName         | helpful |\n",
       "+----------------+------------+-------------------------------+---------+\n",
       "| ADZPIG9QOCDG5  | 0005019281 | Alice L. Larson \"alice-lov... |  [0, 0] |\n",
       "| A35947ZP82G7JH | 0005019281 |         Amarah Strack         |  [0, 0] |\n",
       "| A3UORV8A9D5L2E | 0005019281 |        Amazon Customer        |  [0, 0] |\n",
       "+----------------+------------+-------------------------------+---------+\n",
       "+-------------------------------+---------+-------------------------------+\n",
       "|           reviewText          | overall |            summary            |\n",
       "+-------------------------------+---------+-------------------------------+\n",
       "| This is a charming version... |    4    |   good version of a classic   |\n",
       "| It was good but not as emo... |    3    |     Good but not as moving    |\n",
       "| Don't get me wrong, Winkle... |    3    | Winkler's Performance was ... |\n",
       "+-------------------------------+---------+-------------------------------+\n",
       "+----------------+-------------+\n",
       "| unixReviewTime |  reviewTime |\n",
       "+----------------+-------------+\n",
       "|   1203984000   | 02 26, 2008 |\n",
       "|   1388361600   | 12 30, 2013 |\n",
       "|   1388361600   | 12 30, 2013 |\n",
       "+----------------+-------------+\n",
       "[3 rows x 9 columns]"
      ]
     },
     "execution_count": 5,
     "metadata": {},
     "output_type": "execute_result"
    }
   ],
   "source": [
    "reviews.head(3)"
   ]
  },
  {
   "cell_type": "markdown",
   "metadata": {},
   "source": [
    "GraphLab has this exteremely useful feature that allows you to visualize properties and relationships in the data. With just one SFrame.show() command, a GraphLab Canvas will open up in a new window. The Canvas contains three tabs - summary, table and plot."
   ]
  },
  {
   "cell_type": "code",
   "execution_count": 6,
   "metadata": {
    "collapsed": false
   },
   "outputs": [
    {
     "name": "stdout",
     "output_type": "stream",
     "text": [
      "Canvas is updated and available in a tab in the default browser.\n"
     ]
    }
   ],
   "source": [
    "reviews.show()"
   ]
  },
  {
   "cell_type": "markdown",
   "metadata": {},
   "source": [
    "The summary tab gives a summary of the data, variables and columns. It looks like the following:\n",
    "\n",
    "<img src='summary.png'>"
   ]
  },
  {
   "cell_type": "markdown",
   "metadata": {},
   "source": [
    "The Table tab provides an interactive tabular view of the data inside SFrame. It looks like the following:\n",
    "    \n",
    "<img src='table.png'>"
   ]
  },
  {
   "cell_type": "markdown",
   "metadata": {},
   "source": [
    "The Plot tab allows you to plot relationships between the data. It looks like the following:\n",
    "    \n",
    "<img src='plot.png'>"
   ]
  },
  {
   "cell_type": "markdown",
   "metadata": {},
   "source": [
    "#### Side note: Scraping Movie/TV show titles from the Amazon website\n",
    "\n",
    "When looking at the headers in the dataset, you will notice that the dataset does not contain a title field for each item but rather only has an asin value, which is the Amazom product ID for the item. In order to build a recommendation engine, it is useful to have an asin value to title matching. In order to get the titles from the asin field we will need to scape data from the Amazon website. You could use the Amazon Product Advertizement API, however, this requires setting up an account and registering as an Associate (which requires you to have a website). For those that are interested, the code that uses the Amazon Product Advertizement API is as follows:\n",
    "            \n",
    "            \n",
    "            from amazon.api import AmazonAPI\n",
    "            \n",
    "            def get_product_title(asin):\n",
    "                amazon = AmazonAPI(AMAZON_ACCESS_KEY, AMAZON_SECRET_KEY, AMAZON_ASSOC_TAG, region=\"US\")\n",
    "\n",
    "                try:\n",
    "                    product_info = amazon.lookup(ItemId=asin)        \n",
    "                except amazon.api.AsinNotFound:\n",
    "                    print(asin)\n",
    "                    return \"\"\n",
    "\n",
    "                return product_info.title\n",
    "            \n",
    " \n",
    "Below is the code to scape data straight from the amazon website (be careful not to get blocked though!). We will store the data in a json file and will use this later on in the tutorial."
   ]
  },
  {
   "cell_type": "code",
   "execution_count": 6,
   "metadata": {
    "collapsed": true
   },
   "outputs": [],
   "source": [
    "def get_product_title(asin):\n",
    "    url = \"http://www.amazon.com/dp/\"+asin\n",
    "    page = requests.get(url)\n",
    "    try:\n",
    "        doc = html.fromstring(page.content)\n",
    "        xpath_title = '//h1[@id=\"title\"]//text()'\n",
    "        raw_name = doc.xpath(xpath_title)\n",
    "        name = ' '.join(''.join(raw_name).split())\n",
    "    except Exception:\n",
    "        print Exception\n",
    "        name = \"ERROR\"\n",
    "\n",
    "    return name"
   ]
  },
  {
   "cell_type": "code",
   "execution_count": null,
   "metadata": {
    "collapsed": true
   },
   "outputs": [],
   "source": [
    "title_asin_json = 'title_asin.json'\n",
    "def add_title_asin(reviews):\n",
    "    asin_col = reviews.select_column('asin')\n",
    "    scapped_data  = {}\n",
    "    if (os.path.isfile(title_asin_json)):\n",
    "        scapped_data = json.load(open(title_asin_json))\n",
    "    count = 1\n",
    "    for key in asin_col:\n",
    "        if ((key not in scapped_data) or ((key in scapped_data) and (scapped_data[key] == \"\"))):\n",
    "            name = get_product_title(key)\n",
    "            scapped_data[key] = name\n",
    "            print(name)\n",
    "            # sleep to avoid getting blocked from the amazon website\n",
    "            sleep(20)\n",
    "            if (count % 20 == 0):\n",
    "                #dump the data into json file for future use\n",
    "                f=open(title_asin_json,'w')\n",
    "                json.dump(scapped_data, f)\n",
    "            count += 1\n",
    "    return scapped_data\n",
    "\n",
    "            \n",
    "scapped_data = add_title_asin(reviews)\n",
    "#dump the data into json file for future use\n",
    "f=open(title_asin_json,'w')\n",
    "json.dump(scapped_data, f)"
   ]
  },
  {
   "cell_type": "markdown",
   "metadata": {},
   "source": [
    "## Building the Models \n",
    "Now that we have loaded and pre-processed the dataset, we can build the model. We must specify the user ids column and item ids column. We could also pass in an optional target column, however, we will not do this in our case. All other columns are used by the underlying model as side features."
   ]
  },
  {
   "cell_type": "code",
   "execution_count": 8,
   "metadata": {
    "collapsed": false
   },
   "outputs": [
    {
     "data": {
      "text/html": [
       "<pre>Recsys training: model = item_similarity</pre>"
      ],
      "text/plain": [
       "Recsys training: model = item_similarity"
      ]
     },
     "metadata": {},
     "output_type": "display_data"
    },
    {
     "data": {
      "text/html": [
       "<pre>Warning: Ignoring columns reviewerName, helpful, reviewText, overall, summary, unixReviewTime, reviewTime;</pre>"
      ],
      "text/plain": [
       "Warning: Ignoring columns reviewerName, helpful, reviewText, overall, summary, unixReviewTime, reviewTime;"
      ]
     },
     "metadata": {},
     "output_type": "display_data"
    },
    {
     "data": {
      "text/html": [
       "<pre>    To use one of these as a target column, set target = <column_name></pre>"
      ],
      "text/plain": [
       "    To use one of these as a target column, set target = <column_name>"
      ]
     },
     "metadata": {},
     "output_type": "display_data"
    },
    {
     "data": {
      "text/html": [
       "<pre>    and use a method that allows the use of a target.</pre>"
      ],
      "text/plain": [
       "    and use a method that allows the use of a target."
      ]
     },
     "metadata": {},
     "output_type": "display_data"
    },
    {
     "data": {
      "text/html": [
       "<pre>Preparing data set.</pre>"
      ],
      "text/plain": [
       "Preparing data set."
      ]
     },
     "metadata": {},
     "output_type": "display_data"
    },
    {
     "data": {
      "text/html": [
       "<pre>    Data has 1662541 observations with 123945 users and 44266 items.</pre>"
      ],
      "text/plain": [
       "    Data has 1662541 observations with 123945 users and 44266 items."
      ]
     },
     "metadata": {},
     "output_type": "display_data"
    },
    {
     "data": {
      "text/html": [
       "<pre>    Data prepared in: 1.40512s</pre>"
      ],
      "text/plain": [
       "    Data prepared in: 1.40512s"
      ]
     },
     "metadata": {},
     "output_type": "display_data"
    },
    {
     "data": {
      "text/html": [
       "<pre>Training model from provided data.</pre>"
      ],
      "text/plain": [
       "Training model from provided data."
      ]
     },
     "metadata": {},
     "output_type": "display_data"
    },
    {
     "data": {
      "text/html": [
       "<pre>Gathering per-item and per-user statistics.</pre>"
      ],
      "text/plain": [
       "Gathering per-item and per-user statistics."
      ]
     },
     "metadata": {},
     "output_type": "display_data"
    },
    {
     "data": {
      "text/html": [
       "<pre>+--------------------------------+------------+</pre>"
      ],
      "text/plain": [
       "+--------------------------------+------------+"
      ]
     },
     "metadata": {},
     "output_type": "display_data"
    },
    {
     "data": {
      "text/html": [
       "<pre>| Elapsed Time (Item Statistics) | % Complete |</pre>"
      ],
      "text/plain": [
       "| Elapsed Time (Item Statistics) | % Complete |"
      ]
     },
     "metadata": {},
     "output_type": "display_data"
    },
    {
     "data": {
      "text/html": [
       "<pre>+--------------------------------+------------+</pre>"
      ],
      "text/plain": [
       "+--------------------------------+------------+"
      ]
     },
     "metadata": {},
     "output_type": "display_data"
    },
    {
     "data": {
      "text/html": [
       "<pre>| 6.79ms                         | 2.25       |</pre>"
      ],
      "text/plain": [
       "| 6.79ms                         | 2.25       |"
      ]
     },
     "metadata": {},
     "output_type": "display_data"
    },
    {
     "data": {
      "text/html": [
       "<pre>| 76.411ms                       | 100        |</pre>"
      ],
      "text/plain": [
       "| 76.411ms                       | 100        |"
      ]
     },
     "metadata": {},
     "output_type": "display_data"
    },
    {
     "data": {
      "text/html": [
       "<pre>+--------------------------------+------------+</pre>"
      ],
      "text/plain": [
       "+--------------------------------+------------+"
      ]
     },
     "metadata": {},
     "output_type": "display_data"
    },
    {
     "data": {
      "text/html": [
       "<pre>Setting up lookup tables.</pre>"
      ],
      "text/plain": [
       "Setting up lookup tables."
      ]
     },
     "metadata": {},
     "output_type": "display_data"
    },
    {
     "data": {
      "text/html": [
       "<pre>Processing data in one pass using dense lookup tables.</pre>"
      ],
      "text/plain": [
       "Processing data in one pass using dense lookup tables."
      ]
     },
     "metadata": {},
     "output_type": "display_data"
    },
    {
     "data": {
      "text/html": [
       "<pre>+-------------------------------------+------------------+-----------------+</pre>"
      ],
      "text/plain": [
       "+-------------------------------------+------------------+-----------------+"
      ]
     },
     "metadata": {},
     "output_type": "display_data"
    },
    {
     "data": {
      "text/html": [
       "<pre>| Elapsed Time (Constructing Lookups) | Total % Complete | Items Processed |</pre>"
      ],
      "text/plain": [
       "| Elapsed Time (Constructing Lookups) | Total % Complete | Items Processed |"
      ]
     },
     "metadata": {},
     "output_type": "display_data"
    },
    {
     "data": {
      "text/html": [
       "<pre>+-------------------------------------+------------------+-----------------+</pre>"
      ],
      "text/plain": [
       "+-------------------------------------+------------------+-----------------+"
      ]
     },
     "metadata": {},
     "output_type": "display_data"
    },
    {
     "data": {
      "text/html": [
       "<pre>| 5.94s                               | 0                | 0               |</pre>"
      ],
      "text/plain": [
       "| 5.94s                               | 0                | 0               |"
      ]
     },
     "metadata": {},
     "output_type": "display_data"
    },
    {
     "data": {
      "text/html": [
       "<pre>| 6.95s                               | 7                | 3155            |</pre>"
      ],
      "text/plain": [
       "| 6.95s                               | 7                | 3155            |"
      ]
     },
     "metadata": {},
     "output_type": "display_data"
    },
    {
     "data": {
      "text/html": [
       "<pre>| 8.00s                               | 10               | 4495            |</pre>"
      ],
      "text/plain": [
       "| 8.00s                               | 10               | 4495            |"
      ]
     },
     "metadata": {},
     "output_type": "display_data"
    },
    {
     "data": {
      "text/html": [
       "<pre>| 8.98s                               | 15.75            | 7036            |</pre>"
      ],
      "text/plain": [
       "| 8.98s                               | 15.75            | 7036            |"
      ]
     },
     "metadata": {},
     "output_type": "display_data"
    },
    {
     "data": {
      "text/html": [
       "<pre>| 9.96s                               | 22.5             | 9994            |</pre>"
      ],
      "text/plain": [
       "| 9.96s                               | 22.5             | 9994            |"
      ]
     },
     "metadata": {},
     "output_type": "display_data"
    },
    {
     "data": {
      "text/html": [
       "<pre>| 10.98s                              | 30               | 13368           |</pre>"
      ],
      "text/plain": [
       "| 10.98s                              | 30               | 13368           |"
      ]
     },
     "metadata": {},
     "output_type": "display_data"
    },
    {
     "data": {
      "text/html": [
       "<pre>| 11.97s                              | 44.25            | 19651           |</pre>"
      ],
      "text/plain": [
       "| 11.97s                              | 44.25            | 19651           |"
      ]
     },
     "metadata": {},
     "output_type": "display_data"
    },
    {
     "data": {
      "text/html": [
       "<pre>| 12.98s                              | 52.25            | 23162           |</pre>"
      ],
      "text/plain": [
       "| 12.98s                              | 52.25            | 23162           |"
      ]
     },
     "metadata": {},
     "output_type": "display_data"
    },
    {
     "data": {
      "text/html": [
       "<pre>| 13.97s                              | 64.75            | 28744           |</pre>"
      ],
      "text/plain": [
       "| 13.97s                              | 64.75            | 28744           |"
      ]
     },
     "metadata": {},
     "output_type": "display_data"
    },
    {
     "data": {
      "text/html": [
       "<pre>| 14.98s                              | 72.75            | 32295           |</pre>"
      ],
      "text/plain": [
       "| 14.98s                              | 72.75            | 32295           |"
      ]
     },
     "metadata": {},
     "output_type": "display_data"
    },
    {
     "data": {
      "text/html": [
       "<pre>| 15.98s                              | 80.25            | 35576           |</pre>"
      ],
      "text/plain": [
       "| 15.98s                              | 80.25            | 35576           |"
      ]
     },
     "metadata": {},
     "output_type": "display_data"
    },
    {
     "data": {
      "text/html": [
       "<pre>| 16.98s                              | 84               | 37233           |</pre>"
      ],
      "text/plain": [
       "| 16.98s                              | 84               | 37233           |"
      ]
     },
     "metadata": {},
     "output_type": "display_data"
    },
    {
     "data": {
      "text/html": [
       "<pre>| 17.99s                              | 86.75            | 38454           |</pre>"
      ],
      "text/plain": [
       "| 17.99s                              | 86.75            | 38454           |"
      ]
     },
     "metadata": {},
     "output_type": "display_data"
    },
    {
     "data": {
      "text/html": [
       "<pre>| 18.99s                              | 89.75            | 39735           |</pre>"
      ],
      "text/plain": [
       "| 18.99s                              | 89.75            | 39735           |"
      ]
     },
     "metadata": {},
     "output_type": "display_data"
    },
    {
     "data": {
      "text/html": [
       "<pre>| 19.99s                              | 92               | 40776           |</pre>"
      ],
      "text/plain": [
       "| 19.99s                              | 92               | 40776           |"
      ]
     },
     "metadata": {},
     "output_type": "display_data"
    },
    {
     "data": {
      "text/html": [
       "<pre>| 21.00s                              | 94.75            | 41976           |</pre>"
      ],
      "text/plain": [
       "| 21.00s                              | 94.75            | 41976           |"
      ]
     },
     "metadata": {},
     "output_type": "display_data"
    },
    {
     "data": {
      "text/html": [
       "<pre>| 22.00s                              | 96.75            | 42863           |</pre>"
      ],
      "text/plain": [
       "| 22.00s                              | 96.75            | 42863           |"
      ]
     },
     "metadata": {},
     "output_type": "display_data"
    },
    {
     "data": {
      "text/html": [
       "<pre>| 23.00s                              | 99.25            | 43954           |</pre>"
      ],
      "text/plain": [
       "| 23.00s                              | 99.25            | 43954           |"
      ]
     },
     "metadata": {},
     "output_type": "display_data"
    },
    {
     "data": {
      "text/html": [
       "<pre>| 47.22s                              | 100              | 44266           |</pre>"
      ],
      "text/plain": [
       "| 47.22s                              | 100              | 44266           |"
      ]
     },
     "metadata": {},
     "output_type": "display_data"
    },
    {
     "data": {
      "text/html": [
       "<pre>+-------------------------------------+------------------+-----------------+</pre>"
      ],
      "text/plain": [
       "+-------------------------------------+------------------+-----------------+"
      ]
     },
     "metadata": {},
     "output_type": "display_data"
    },
    {
     "data": {
      "text/html": [
       "<pre>Finalizing lookup tables.</pre>"
      ],
      "text/plain": [
       "Finalizing lookup tables."
      ]
     },
     "metadata": {},
     "output_type": "display_data"
    },
    {
     "data": {
      "text/html": [
       "<pre>Generating candidate set for working with new users.</pre>"
      ],
      "text/plain": [
       "Generating candidate set for working with new users."
      ]
     },
     "metadata": {},
     "output_type": "display_data"
    },
    {
     "data": {
      "text/html": [
       "<pre>Finished training in 48.4328s</pre>"
      ],
      "text/plain": [
       "Finished training in 48.4328s"
      ]
     },
     "metadata": {},
     "output_type": "display_data"
    }
   ],
   "source": [
    "model = gl.recommender.create(reviews, user_id=\"reviewerID\", item_id=\"asin\")"
   ]
  },
  {
   "cell_type": "code",
   "execution_count": 9,
   "metadata": {
    "collapsed": false
   },
   "outputs": [],
   "source": [
    "similarities = model.get_similar_items()"
   ]
  },
  {
   "cell_type": "markdown",
   "metadata": {},
   "source": [
    "Here similarities is just another SFrame, where you have the title of the item (in our case the asin value), and the similar item with a particular score."
   ]
  },
  {
   "cell_type": "code",
   "execution_count": 10,
   "metadata": {
    "collapsed": false
   },
   "outputs": [
    {
     "data": {
      "text/html": [
       "<div style=\"max-height:1000px;max-width:1500px;overflow:auto;\"><table frame=\"box\" rules=\"cols\">\n",
       "    <tr>\n",
       "        <th style=\"padding-left: 1em; padding-right: 1em; text-align: center\">asin</th>\n",
       "        <th style=\"padding-left: 1em; padding-right: 1em; text-align: center\">similar</th>\n",
       "        <th style=\"padding-left: 1em; padding-right: 1em; text-align: center\">score</th>\n",
       "        <th style=\"padding-left: 1em; padding-right: 1em; text-align: center\">rank</th>\n",
       "    </tr>\n",
       "    <tr>\n",
       "        <td style=\"padding-left: 1em; padding-right: 1em; text-align: center; vertical-align: top\">0005019281</td>\n",
       "        <td style=\"padding-left: 1em; padding-right: 1em; text-align: center; vertical-align: top\">0780623746</td>\n",
       "        <td style=\"padding-left: 1em; padding-right: 1em; text-align: center; vertical-align: top\">0.0597015023232</td>\n",
       "        <td style=\"padding-left: 1em; padding-right: 1em; text-align: center; vertical-align: top\">1</td>\n",
       "    </tr>\n",
       "    <tr>\n",
       "        <td style=\"padding-left: 1em; padding-right: 1em; text-align: center; vertical-align: top\">0005019281</td>\n",
       "        <td style=\"padding-left: 1em; padding-right: 1em; text-align: center; vertical-align: top\">6302993687</td>\n",
       "        <td style=\"padding-left: 1em; padding-right: 1em; text-align: center; vertical-align: top\">0.0409356951714</td>\n",
       "        <td style=\"padding-left: 1em; padding-right: 1em; text-align: center; vertical-align: top\">2</td>\n",
       "    </tr>\n",
       "    <tr>\n",
       "        <td style=\"padding-left: 1em; padding-right: 1em; text-align: center; vertical-align: top\">0005019281</td>\n",
       "        <td style=\"padding-left: 1em; padding-right: 1em; text-align: center; vertical-align: top\">6303824358</td>\n",
       "        <td style=\"padding-left: 1em; padding-right: 1em; text-align: center; vertical-align: top\">0.0315789580345</td>\n",
       "        <td style=\"padding-left: 1em; padding-right: 1em; text-align: center; vertical-align: top\">3</td>\n",
       "    </tr>\n",
       "    <tr>\n",
       "        <td style=\"padding-left: 1em; padding-right: 1em; text-align: center; vertical-align: top\">0005019281</td>\n",
       "        <td style=\"padding-left: 1em; padding-right: 1em; text-align: center; vertical-align: top\">6301175239</td>\n",
       "        <td style=\"padding-left: 1em; padding-right: 1em; text-align: center; vertical-align: top\">0.021505355835</td>\n",
       "        <td style=\"padding-left: 1em; padding-right: 1em; text-align: center; vertical-align: top\">4</td>\n",
       "    </tr>\n",
       "    <tr>\n",
       "        <td style=\"padding-left: 1em; padding-right: 1em; text-align: center; vertical-align: top\">0005019281</td>\n",
       "        <td style=\"padding-left: 1em; padding-right: 1em; text-align: center; vertical-align: top\">6300251004</td>\n",
       "        <td style=\"padding-left: 1em; padding-right: 1em; text-align: center; vertical-align: top\">0.0204081535339</td>\n",
       "        <td style=\"padding-left: 1em; padding-right: 1em; text-align: center; vertical-align: top\">5</td>\n",
       "    </tr>\n",
       "</table>\n",
       "[5 rows x 4 columns]<br/>\n",
       "</div>"
      ],
      "text/plain": [
       "Columns:\n",
       "\tasin\tstr\n",
       "\tsimilar\tstr\n",
       "\tscore\tfloat\n",
       "\trank\tint\n",
       "\n",
       "Rows: 5\n",
       "\n",
       "Data:\n",
       "+------------+------------+-----------------+------+\n",
       "|    asin    |  similar   |      score      | rank |\n",
       "+------------+------------+-----------------+------+\n",
       "| 0005019281 | 0780623746 | 0.0597015023232 |  1   |\n",
       "| 0005019281 | 6302993687 | 0.0409356951714 |  2   |\n",
       "| 0005019281 | 6303824358 | 0.0315789580345 |  3   |\n",
       "| 0005019281 | 6301175239 |  0.021505355835 |  4   |\n",
       "| 0005019281 | 6300251004 | 0.0204081535339 |  5   |\n",
       "+------------+------------+-----------------+------+\n",
       "[5 rows x 4 columns]"
      ]
     },
     "execution_count": 10,
     "metadata": {},
     "output_type": "execute_result"
    }
   ],
   "source": [
    "similarities.head(5)"
   ]
  },
  {
   "cell_type": "markdown",
   "metadata": {},
   "source": [
    "Now we can generate a graph for the model. Each row of the table will be one graph edge between the asin value and the similar item. Esentially, the SGraph is a connection between items, where related items have an edge. SGraphs are generally extremely useful in GraphLab, as it contains an abundance of operations that you can use to do really interesting analytics. The SGraph is generated as follows:"
   ]
  },
  {
   "cell_type": "code",
   "execution_count": 11,
   "metadata": {
    "collapsed": false
   },
   "outputs": [
    {
     "data": {
      "text/plain": [
       "{'num_edges': 442576, 'num_vertices': 44266}"
      ]
     },
     "execution_count": 11,
     "metadata": {},
     "output_type": "execute_result"
    }
   ],
   "source": [
    "graph = gl.SGraph().add_edges(similarities['asin','similar','score'], src_field = \"asin\", dst_field = \"similar\")\n",
    "graph.summary()"
   ]
  },
  {
   "cell_type": "markdown",
   "metadata": {},
   "source": [
    "Now that we have constructed the graph data structure, we can proceed to generate recommendations. There are multiple approaches we could take here. I will go through two possible methods:\n",
    "\n",
    "   1. We can construct a ShortestPath struct from the SGraph, and then find a path between two items. You start with one item, and build a spanning tree to all other items using the shortest_path.create method. Then we can query the tree using get_path() to find the shortest path, and this returns a list of items along this shortest path. These items are the recommendations generated from the two inputs. \n",
    "\n",
    "   2. Since we know that the SGraph is a connection between items where related items have an edge, we can simply find the neighbors of a given item to find similar items to it. This is a simplistic approach but still yeilds good results."
   ]
  },
  {
   "cell_type": "markdown",
   "metadata": {},
   "source": [
    "#### First SGraph approach to generate recommendations:"
   ]
  },
  {
   "cell_type": "code",
   "execution_count": null,
   "metadata": {
    "collapsed": true
   },
   "outputs": [],
   "source": [
    "def get_recommendations_sp(graph, asin_1, asin_2):\n",
    "    title_asin_json = 'title_asin.json'\n",
    "    sp = gl.shortest_path.create(graph, asin_1)\n",
    "    recommendations = sp.get_path(asin_2)\n",
    "    print(recommendations)\n",
    "    scapped_data  = {}\n",
    "    res = []\n",
    "    if (os.path.isfile(title_asin_json)):\n",
    "        scapped_data = json.load(open(title_asin_json))\n",
    "    # extract titles from asin values\n",
    "    for recommendation, idx in recommendations:\n",
    "        # skip the first and last element, as they are the inputted items\n",
    "        if not (idx == 0 or idx == (len(recommendations)-1)):\n",
    "            if ((recommendation not in scapped_data) or \\\n",
    "                ((recommendation in scapped_data) and (scapped_data[recommendation] == \"\"))):\n",
    "                for i in range(5):\n",
    "                    name = get_product_title(recommendation)\n",
    "                    if (not name == \"\"):\n",
    "                        break;\n",
    "                    sleep(20)\n",
    "\n",
    "                scapped_data[recommendation] = name\n",
    "            else:\n",
    "                name = scapped_data[recommendation]\n",
    "            res.append(name)\n",
    "    f=open(title_asin_json,'w')\n",
    "    json.dump(scapped_data, f)\n",
    "    return res\n",
    "'''\n",
    "B000HCO87C - The Omen\n",
    "B000FAOC2M - The Hills Have Eyes\n",
    "'''\n",
    "print(get_recommendations_sp(graph, 'B000HCO87C', 'B000FAOC2M'))\n",
    "'''\n",
    "6300251004 - Scrooge VHS\n",
    "0005019281 - An American Christmas Carol VHS\n",
    "'''\n",
    "print(get_recommendations_sp(graph, '6300251004', '0005019281'))"
   ]
  },
  {
   "cell_type": "markdown",
   "metadata": {},
   "source": [
    "When you run the above code, you get the following recommendation for the first example:\n",
    "\n",
    "    [u'The Texas Chainsaw Massacre: The Beginning']\n",
    "    \n",
    "And the following recommendation for the second example:\n",
    "\n",
    "    ['A Christmas Carol']\n",
    "    \n",
    "As you can notice, these recommendations are really good. It is important to note that when we use this shortest path method, it is not necessary that we will get only one recommendation. For instance, if the inputted items are more disimilar, we will likely get more recommendations as the shortest path may contain more vertices."
   ]
  },
  {
   "cell_type": "markdown",
   "metadata": {},
   "source": [
    "#### Second SGraph approach to generate recommendations:"
   ]
  },
  {
   "cell_type": "code",
   "execution_count": null,
   "metadata": {
    "collapsed": true
   },
   "outputs": [],
   "source": [
    "def get_recommendations_graph(graph, asin_1):\n",
    "    title_asin_json = 'title_asin.json'\n",
    "    subgraph = graph.get_neighborhood(ids=[asin_1], radius=1)\n",
    "    recommendations = subgraph.get_vertices()\n",
    "    print(recommendations)\n",
    "    scapped_data  = {}\n",
    "    res = []\n",
    "    if (os.path.isfile(title_asin_json)):\n",
    "        scapped_data = json.load(open(title_asin_json))\n",
    "    idx = 0\n",
    "    # extract titles from asin values\n",
    "    for row in recommendations:\n",
    "        recommendation = row['__id']\n",
    "        # skip the first item as it is the inputted item\n",
    "        if not (idx == 0):\n",
    "            if ((recommendation not in scapped_data) or \\\n",
    "                ((recommendation in scapped_data) and (scapped_data[recommendation] == \"\"))):\n",
    "                for i in range(5):\n",
    "                    name = get_product_title(recommendation)\n",
    "                    if (not name == \"\"):\n",
    "                        break;\n",
    "                    sleep(20)\n",
    "\n",
    "                scapped_data[recommendation] = name\n",
    "            else:\n",
    "                name = scapped_data[recommendation]\n",
    "            res.append(name)\n",
    "        idx+=1\n",
    "    f=open(title_asin_json,'w')\n",
    "    json.dump(scapped_data, f)\n",
    "    return res\n",
    "    \n",
    "'''\n",
    "B000HCO87C - The Omen\n",
    "B000FAOC2M - The Hills Have Eyes\n",
    "6300251004 - Scrooge VHS\n",
    "0005019281 - An American Christmas Carol VHS\n",
    "'''\n",
    "print(get_recommendations_graph(graph, 'B000HCO87C'))\n",
    "\n",
    "print(get_recommendations_graph(graph, '6300251004'))"
   ]
  },
  {
   "cell_type": "markdown",
   "metadata": {},
   "source": [
    "When you run the above code, you get the following recommendations for the first example:\n",
    "\n",
    "        ['Exorcist II - The Heretic VHS', 'Jesus of Nazareth VHS', \n",
    "        'Omen 3: The Final Conflict VHS', u'The Texas    Chainsaw Massacre: The Beginning', \n",
    "        'The Fog', 'Omen 2 VHS', 'The Omen VHS', 'Dominion - Prequelto the Exorcist', \n",
    "        'The Amityville Horror', 'Freedomland', 'The Black Dahlia', 'Two for the Money',\n",
    "        u\"Mary Shelley's Frankenstein\"]\n",
    " \n",
    "And the following recommendation for the second example:\n",
    "        \n",
    "        [u'Scrooge VHS', u'An American Christmas Carol VHS', 'The Muppet Christmas Carol VHS', \n",
    "        'White Christmas VHS',\"It's a Wonderful Life Original Uncut Version VHS\", u'Scrooged',\n",
    "        u'A Christmas Carol VHS', 'Christmas Carol VHS', u'Miracle on 34th Street VHS',\n",
    "        u'A Christmas Carol', u'Surviving Christmas', u'A Christmas Carol Colorized VHS']\n",
    "\n",
    "Again these are very strong results, and there is the added benefit that this approach usually returns many more recommendations than the first approach. We could also easily modify the code to return the k-best recommendations."
   ]
  },
  {
   "cell_type": "markdown",
   "metadata": {},
   "source": [
    "#### Side note: You can also simply visualize the recommender model without using SGraphs.\n",
    "\n",
    "Once we create the recommender model, we do not necessarily need to create a SGraph struct if we are simply trying to explore and visualize the recommendation model. GraphLab allows you interactively evaluate and explore recommendations model using the views.overview() command. However, here you can only manually search for recommendations, and wouldn't make sense to use if the recommendation engine is part of a larger program you are building."
   ]
  },
  {
   "cell_type": "code",
   "execution_count": null,
   "metadata": {
    "collapsed": true
   },
   "outputs": [],
   "source": [
    "view = model.views.overview(validation_set=reviews)\n",
    "view.show()"
   ]
  },
  {
   "cell_type": "markdown",
   "metadata": {},
   "source": [
    "This launches an interactive web-based view for exploring the model. This looks like the following:\n",
    "\n",
    "<img src='explore.png'>"
   ]
  },
  {
   "cell_type": "markdown",
   "metadata": {},
   "source": [
    "We can click on the first link (B003EYVXV4) in the popular items. This will take you to the following page:\n",
    "\n",
    "<img src='focus.png'> "
   ]
  },
  {
   "cell_type": "markdown",
   "metadata": {},
   "source": [
    "As you can see, there is a ranked drop down list of similar items. To make this easier to understand, I will list  the titles of the focus item and top 9 similar items below:\n",
    "\n",
    "Focus item: The Hunger Games\n",
    "\n",
    "Top Similar Items:\n",
    "\n",
    "        1) The avengers\n",
    "        2) Marvel's: The Avengers\n",
    "        3) Prometheus\n",
    "        4) Snow White and the Huntsman\n",
    "        5) The Hobbit: An Unexpected Journey\n",
    "        6) Mission: Impossible Ghost Protocol\n",
    "        7) The Amazing Spider-Man\n",
    "        8) Brave\n",
    "        9) Captain America: The First Avenger\n",
    "\n",
    "This approach allows you to interactively and easily browse through the recommendations, and also gives specific recommendations to particular users based on their previous preferences:\n",
    "\n",
    "<img src='users.png'> "
   ]
  },
  {
   "cell_type": "markdown",
   "metadata": {},
   "source": [
    "## Summary and References\n",
    "\n",
    "As you can see, GraphLab makes it extremely easy and quick to try out different models and approaches. It does most of the heavy duty work behind the scenes, allowing the user to focus on the high level details.  \n",
    "\n",
    "In addition to recommendation engines, GraphLab is extremely useful for data visualization, generating machine learning models, deep learning, feature engineering, working with large datasets and so much more! The following links will be super useful if you want to learn more about graphlab:\n",
    "\n",
    "    1. GraphLab documentation: https://turi.com/products/create/docs/index.html\n",
    "    2. Sample code and more tutorials on GraphLab: https://github.com/turi-code\n",
    "    \n",
    "References:\n",
    "    1. https://www.analyticsvidhya.com/blog/2015/12/started-graphlab-python/\n",
    "    2. https://turi.com/products/create/docs/index.html\n",
    "    3. https://github.com/turi-code"
   ]
  }
 ],
 "metadata": {
  "kernelspec": {
   "display_name": "Python 2",
   "language": "python",
   "name": "python2"
  },
  "language_info": {
   "codemirror_mode": {
    "name": "ipython",
    "version": 2
   },
   "file_extension": ".py",
   "mimetype": "text/x-python",
   "name": "python",
   "nbconvert_exporter": "python",
   "pygments_lexer": "ipython2",
   "version": "2.7.11"
  }
 },
 "nbformat": 4,
 "nbformat_minor": 0
}
