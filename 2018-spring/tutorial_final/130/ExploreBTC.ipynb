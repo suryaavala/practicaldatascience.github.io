{
 "cells": [
  {
   "cell_type": "markdown",
   "metadata": {},
   "source": [
    "# Introduction\n",
    "\n",
    "Bitcoin has been a popular topic in recent years. It is known as a cryptocurrency based on Blockchain technology. In this tutorial, we are going to analyze Bitcoin Blockchain data, to have an intuition about what is going on within this distributed system. On the other hand, during the processing of data, we will also introduce tools such as Google Cloud BigQuery public dataset, SQL language and python plot package."
   ]
  },
  {
   "cell_type": "markdown",
   "metadata": {},
   "source": [
    "## Tutorial content\n",
    "\n",
    "In this tutorial, we will go through a series of questions:\n",
    "\n",
    "- [What is the concept of Blockchain and Bitcoin?](#What-is-the-concept-of-Blockchain-and-Bitcoin?)\n",
    "- [How could we access Bitcoin Blockchain data?](#How-could-we-access-Bitcoin-Blockchain-data?)\n",
    " + [BigQuery](#BigQuery)\n",
    " + [The dataset](#The-dataset)\n",
    "- [How could we visualize Bitcoin blockchain data? What is it look like?](#How-could-we-visualize-Bitcoin-blockchain-data?-What-is-it-look-like?)\n",
    " + [Blocks](#Blocks)\n",
    " + [New blocks per day](#New-blocks-per-day)\n",
    " + [Transactions](#Transactions)\n",
    " + [Transactions per day](#Transactions-per-day)\n",
    " \n",
    "- [Example: Relationship between Bitcoin transaction rate and Bitcoin price](#Example:-Relationship-between-Bitcoin-transaction-rate-and-Bitcoin-price)\n",
    "- [Summary and References](#Summary-and-references)"
   ]
  },
  {
   "cell_type": "markdown",
   "metadata": {},
   "source": [
    "# What is the concept of Blockchain and Bitcoin?\n",
    "\n",
    "**Blockchain** is a distributed system that maintains a public ledger. The key feature is that Blockchain eliminated the need for a single root of trust - trusting the fidelity of the content on the ledger. In contrast, the Blockchain guarantees that unless more than half of the nodes in this system are corrupting, the content on the public ledge cannot be forged. That's an important reason why we would like to use Blockchain to manage a financial system - to avoid placing trust on a single authority that may process forged records.\n",
    "\n",
    "**Bitcoin** is the cryptocurrency that leverages that feature mentioned above. Users can make transactions on Blockchain securely, and can also mine new coins by contributing a fair amount of computational power.\n",
    "\n",
    "There are a few key concepts in the Bitcoin world:\n",
    "\n",
    "- **Wallet:** A place to hold a certain amount of Bitcoins. Just like your email box holding your emails, a wallet also has an address - a long string - that is a unique identifier of this wallet. Users can generate a wallet whenever they need one.\n",
    "\n",
    "- **Transactions:** One record contains wallet A pays wallet B with C Bitcoins. The total balance of a wallet can be calculated from all historical transactions related to it.\n",
    "\n",
    "- **Blocks:** Blocks are acting as the public ledger. Each block contains a bunch of transactions, and blocks are chained together by a pointer to the previous block. Every block has a checksum on it to show the fidelity of the content - once the content of the block is modified, the checksum will fail."
   ]
  },
  {
   "cell_type": "markdown",
   "metadata": {},
   "source": [
    "# How could we access Bitcoin Blockchain data?\n",
    "\n",
    "All historical data about Bitcoin Blockchain are in a **BigQuery** dataset ```bigquery-public-data:bitcoin_blockchain```, and it is updated every 10 minutes. So first we are going to learn how to use BigQuery.\n",
    "\n",
    "## BigQuery\n",
    "\n",
    "**BigQuery** is a cloud-based storage service provided by Google Cloud. It is essentially a database that can hold huge amount of data and handle queries quickly. We will use a Python library ```bq_helper``` to access the BigQuery dataset. ```bq_helper``` is a wrapper package that simplifies common read-only tasks in BigQuery and load the results into pandas dataframe.\n",
    "\n",
    "In order to use ```bq_helper```, you first need to install Google BigQuery package and setup the authentication."
   ]
  },
  {
   "cell_type": "markdown",
   "metadata": {},
   "source": [
    "### Install BigQuery client Python library"
   ]
  },
  {
   "cell_type": "code",
   "execution_count": null,
   "metadata": {},
   "outputs": [],
   "source": [
    "!pip install --upgrade google-cloud-bigquery"
   ]
  },
  {
   "cell_type": "markdown",
   "metadata": {},
   "source": [
    "### Setup authentication\n",
    "\n",
    "To run the client library, you should create a service account and set an environment variable.\n",
    "\n",
    "1. Activate your account for Google Cloud Platform: https://cloud.google.com\n",
    "2. Go to your console: https://console.cloud.google.com\n",
    "3. Create a new project and record the ```project ID```. \n",
    "3. Start the Cloud Shell by clicking the shell icon on the top right.\n",
    "4. Run the following cammands: (substitute the variables in \\[CAPITAL_LETTERS\\] with the actual values)"
   ]
  },
  {
   "cell_type": "markdown",
   "metadata": {},
   "source": [
    "Set a project.\n",
    "\n",
    "    $ gcloud config set project PROJECT_ID\n",
    " \n",
    "Create a service account ```NAME```. \n",
    "\n",
    "    $ gcloud iam service-accounts create NAME\n",
    "   \n",
    "Add the service account to the project.\n",
    "\n",
    "    $ gcloud projects add-iam-policy-binding [PROJECT_ID] --member \"serviceAccount:[NAME]@[PROJECT_ID].iam.gserviceaccount.com\" --role \"roles/owner\"\n",
    "    \n",
    "Generate the key file.\n",
    "\n",
    "    $ gcloud iam service-accounts keys create [FILE_NAME].json --iam-account [NAME]@[PROJECT_ID].iam.gserviceaccount.com  \n",
    "    \n",
    "Copy the content of the key file to your local machine and save the file at ```/path/to/file.json```.\n",
    "\n",
    "On your local machine (in this notebook), run the following code to set the environment variable to the path to the key file."
   ]
  },
  {
   "cell_type": "code",
   "execution_count": 1,
   "metadata": {},
   "outputs": [],
   "source": [
    "import os\n",
    "os.environ[\"GOOGLE_APPLICATION_CREDENTIALS\"]=\"/path/to/file.json\""
   ]
  },
  {
   "cell_type": "code",
   "execution_count": 2,
   "metadata": {},
   "outputs": [
    {
     "name": "stdout",
     "output_type": "stream",
     "text": [
      "/Users/Lena/GoogleCloud/15-688PDS/tutorial/bq_key.json\r\n"
     ]
    }
   ],
   "source": [
    "!echo $GOOGLE_APPLICATION_CREDENTIALS"
   ]
  },
  {
   "cell_type": "markdown",
   "metadata": {},
   "source": [
    "Then you will be able to use standard Google Cloud Client."
   ]
  },
  {
   "cell_type": "code",
   "execution_count": 3,
   "metadata": {},
   "outputs": [],
   "source": [
    "from google.cloud import bigquery"
   ]
  },
  {
   "cell_type": "markdown",
   "metadata": {},
   "source": [
    "Next, we will install ```bq_helper``` library. (Recommend to use Python 3.6+)"
   ]
  },
  {
   "cell_type": "code",
   "execution_count": null,
   "metadata": {},
   "outputs": [],
   "source": [
    "!pip install -e git+https://github.com/SohierDane/BigQuery_Helper#egg=bq_helper"
   ]
  },
  {
   "cell_type": "markdown",
   "metadata": {},
   "source": [
    "**Restart** this kernel so that you can import this package."
   ]
  },
  {
   "cell_type": "code",
   "execution_count": 4,
   "metadata": {
    "scrolled": true
   },
   "outputs": [],
   "source": [
    "from bq_helper import BigQueryHelper"
   ]
  },
  {
   "cell_type": "markdown",
   "metadata": {},
   "source": [
    "## The dataset\n",
    "The name of the Bitcoin Blockchain dataset is ```bigquery-public-data:bitcoin_blockchain```. This dataset is automatically available for all authenticated users.\n",
    "\n",
    "We can create a bq_assistant in the following way. You can also check the original [github repository](https://github.com/SohierDane/BigQuery_Helper.git) to learn about the usage of this package."
   ]
  },
  {
   "cell_type": "code",
   "execution_count": 5,
   "metadata": {},
   "outputs": [],
   "source": [
    "bq_assistant = BigQueryHelper(\"bigquery-public-data\", \"bitcoin_blockchain\")"
   ]
  },
  {
   "cell_type": "markdown",
   "metadata": {},
   "source": [
    "In the usage of the datasets, there is one thing to highlight: **each Kaggle user can scan 5TB every 30 days for free**. So we need to be careful when looking at BigQuery data to make sure we don't accidentally go over the quota."
   ]
  },
  {
   "cell_type": "markdown",
   "metadata": {},
   "source": [
    "# How could we visualize Bitcoin blockchain data? What is it look like?"
   ]
  },
  {
   "cell_type": "markdown",
   "metadata": {},
   "source": [
    "There are two tables describing the Bitcoin blockchain data: *blocks* and *transactions*."
   ]
  },
  {
   "cell_type": "code",
   "execution_count": 6,
   "metadata": {},
   "outputs": [
    {
     "data": {
      "text/plain": [
       "['blocks', 'transactions']"
      ]
     },
     "execution_count": 6,
     "metadata": {},
     "output_type": "execute_result"
    }
   ],
   "source": [
    "bq_assistant.list_tables()"
   ]
  },
  {
   "cell_type": "markdown",
   "metadata": {},
   "source": [
    "It's important to alway keep an eye on how many Gigabytes of data will be scanned by your query, to avoid exceeding the quota. ```bq_helper``` provide a function called ```estimate_query_size``` to estimate the size of **scanned** data, not **returned** data.\n",
    "\n",
    "We can check the **sizes** of these tables in the following scripts. The unit of the returned value is GB."
   ]
  },
  {
   "cell_type": "code",
   "execution_count": 7,
   "metadata": {},
   "outputs": [
    {
     "data": {
      "text/plain": [
       "468.71276554092765"
      ]
     },
     "execution_count": 7,
     "metadata": {},
     "output_type": "execute_result"
    }
   ],
   "source": [
    "QUERY=\"SELECT * FROM `bigquery-public-data.bitcoin_blockchain.blocks`\"\n",
    "bq_assistant.estimate_query_size(QUERY)"
   ]
  },
  {
   "cell_type": "code",
   "execution_count": 8,
   "metadata": {},
   "outputs": [
    {
     "data": {
      "text/plain": [
       "534.4561403654516"
      ]
     },
     "execution_count": 8,
     "metadata": {},
     "output_type": "execute_result"
    }
   ],
   "source": [
    "QUERY=\"SELECT * FROM `bigquery-public-data.bitcoin_blockchain.transactions`\"\n",
    "bq_assistant.estimate_query_size(QUERY)"
   ]
  },
  {
   "cell_type": "markdown",
   "metadata": {},
   "source": [
    "## Blocks\n",
    "\n",
    "Here is the first row of the *blocks* table:\n",
    "\n",
    "|Header  |Record content                                                    |\n",
    "|------  |------------------------------------------------------------------|\n",
    "|block_id|[000000002010a5ac89031bd18d9ef52fccb5c8f964ad28ee5744e9e99b42e429]|\n",
    "|previous_block|[00000000108ed2bf328b5481e71cd63d891e055edcd2b94157581aea9e27b17c]|\n",
    "|markle_root|[c833b1313ef1d86d669ed8235936086e6f0c258f84cbb222694c607ba0154cfd]|\n",
    "|timestamp|1270501733000|\n",
    "|difficultyTarget|472518933|\n",
    "|nonce|6477779|\n",
    "|version|1|\n",
    "|work_terahash|0|\n",
    "|work_error| |\n",
    "|transactions|\\[System.Collections.Generic.Dictionary 2[System.String,System.Object], System.Collections.Generic.Dictionary 2[System.String,System.Object], System.Collections.Generic.Dictionary 2[System.String,System.Object], System.Collections.Generic.Dictionary 2[System.String,System.Object]\\]|"
   ]
  },
  {
   "cell_type": "markdown",
   "metadata": {},
   "source": [
    "A **block** in Blockchain holds a bunch of transaction records, as shown in ```transactions``` field. Blocks are chained together, acting as a public ledger. Note that the way of chaining is every block contains a pointer to the previous block. \n",
    "\n",
    "So from the data structure, we can regard all blocks as a **graph**, where every node in the **block graph** has out-degree equals to 1, while it could **possibly** have in-degree larger than 1. But is it true?\n",
    "\n",
    "Let's see the distribution of in-degrees of \"block graph\"!"
   ]
  },
  {
   "cell_type": "code",
   "execution_count": 9,
   "metadata": {},
   "outputs": [
    {
     "name": "stdout",
     "output_type": "stream",
     "text": [
      "0.03170759417116642\n"
     ]
    }
   ],
   "source": [
    "QUERY = \"\"\"\n",
    "#standardSQL\n",
    "SELECT\n",
    "  previous_block as block_node,\n",
    "  COUNT(*) AS in_degree\n",
    "FROM \n",
    "  `bigquery-public-data.bitcoin_blockchain.blocks`\n",
    "GROUP BY\n",
    "  block_node\n",
    "ORDER BY\n",
    "  in_degree\n",
    "DESC\n",
    "\"\"\"\n",
    "print(bq_assistant.estimate_query_size(QUERY))"
   ]
  },
  {
   "cell_type": "code",
   "execution_count": 10,
   "metadata": {},
   "outputs": [
    {
     "name": "stdout",
     "output_type": "stream",
     "text": [
      "Size of dataframe: 66544085 Bytes\n"
     ]
    }
   ],
   "source": [
    "df = bq_assistant.query_to_pandas_safe(QUERY)\n",
    "print('Size of dataframe: {} Bytes'.format(int(df.memory_usage(index=True, deep=True).sum())))"
   ]
  },
  {
   "cell_type": "code",
   "execution_count": 11,
   "metadata": {
    "scrolled": true
   },
   "outputs": [
    {
     "data": {
      "text/plain": [
       "<matplotlib.axes._subplots.AxesSubplot at 0x10abf7b70>"
      ]
     },
     "execution_count": 11,
     "metadata": {},
     "output_type": "execute_result"
    },
    {
     "data": {
      "image/png": "[encoded data removed]",
      "text/plain": [
       "<matplotlib.figure.Figure at 0x10bb04a20>"
      ]
     },
     "metadata": {},
     "output_type": "display_data"
    }
   ],
   "source": [
    "import matplotlib\n",
    "from matplotlib import pyplot as plt\n",
    "%matplotlib inline\n",
    "\n",
    "df.plot()"
   ]
  },
  {
   "cell_type": "markdown",
   "metadata": {},
   "source": [
    "Aha! Now we confirmed that the \"block graph\" is indeed a \"block chain\" with no side branches!\n",
    "\n",
    "Then, how many blocks are there in the blockchain?"
   ]
  },
  {
   "cell_type": "code",
   "execution_count": 12,
   "metadata": {},
   "outputs": [
    {
     "data": {
      "text/plain": [
       "515845"
      ]
     },
     "execution_count": 12,
     "metadata": {},
     "output_type": "execute_result"
    }
   ],
   "source": [
    "len(df.index)"
   ]
  },
  {
   "cell_type": "markdown",
   "metadata": {},
   "source": [
    "You may comapre this value with the real-time blocks information on https://blockchain.info/blocks to see the delay of BigQuery dataset :)"
   ]
  },
  {
   "cell_type": "markdown",
   "metadata": {},
   "source": [
    "## New blocks per day\n",
    "\n",
    "Let's plot something non-trivial: How namy new blocks are mined every day? (query modified from Reference \\[[4](#Summary-and-references)\\])"
   ]
  },
  {
   "cell_type": "code",
   "execution_count": 13,
   "metadata": {},
   "outputs": [
    {
     "name": "stdout",
     "output_type": "stream",
     "text": [
      "0.03555093891918659\n",
      "Size of dataframe: 54000 Bytes\n"
     ]
    }
   ],
   "source": [
    "QUERY = \"\"\"\n",
    "#standardSQL\n",
    "SELECT\n",
    "  o.day,\n",
    "  COUNT(o.block_id) AS blocks_per_day\n",
    "FROM (\n",
    "  SELECT\n",
    "    TIMESTAMP_MILLIS((timestamp - MOD(timestamp,\n",
    "          86400000))) AS day,\n",
    "    block_id\n",
    "  FROM\n",
    "    `bigquery-public-data.bitcoin_blockchain.blocks`) AS o\n",
    "GROUP BY\n",
    "  day\n",
    "ORDER BY\n",
    "  day\n",
    "\"\"\"\n",
    "print(bq_assistant.estimate_query_size(QUERY))\n",
    "blocks_per_day = bq_assistant.query_to_pandas_safe(QUERY)\n",
    "print('Size of dataframe: {} Bytes'.format(int(blocks_per_day.memory_usage(index=True, deep=True).sum())))"
   ]
  },
  {
   "cell_type": "code",
   "execution_count": 14,
   "metadata": {
    "scrolled": false
   },
   "outputs": [
    {
     "data": {
      "text/plain": [
       "[<matplotlib.lines.Line2D at 0x10c0a2f60>]"
      ]
     },
     "execution_count": 14,
     "metadata": {},
     "output_type": "execute_result"
    },
    {
     "data": {
      "image/png": "[encoded data removed]",
      "text/plain": [
       "<matplotlib.figure.Figure at 0x10b6725f8>"
      ]
     },
     "metadata": {},
     "output_type": "display_data"
    }
   ],
   "source": [
    "plt.plot(blocks_per_day.index, blocks_per_day.blocks_per_day)"
   ]
  },
  {
   "cell_type": "code",
   "execution_count": 15,
   "metadata": {
    "scrolled": true
   },
   "outputs": [
    {
     "name": "stdout",
     "output_type": "stream",
     "text": [
      "Mean: 153.069733\n",
      "Max number of blocks mined: 692, on 7/13/2010 (MM/DD/YYYY)\n",
      "Min number of blocks mined: 5, on 1/30/2018 (MM/DD/YYYY)\n"
     ]
    }
   ],
   "source": [
    "print(\"Mean: %f\" % blocks_per_day.blocks_per_day.mean(0))\n",
    "idxmax = blocks_per_day.blocks_per_day.idxmax()\n",
    "maxday = blocks_per_day.day.iloc[idxmax]\n",
    "print(\"Max number of blocks mined: %d, on %d/%d/%d (MM/DD/YYYY)\" % \n",
    "      (blocks_per_day.blocks_per_day.iloc[idxmax], maxday.month, maxday.day, maxday.year))\n",
    "idxmin = blocks_per_day.blocks_per_day.iloc[500:].idxmin()  # ignore the initial days\n",
    "minday = blocks_per_day.day.iloc[idxmin]\n",
    "print(\"Min number of blocks mined: %d, on %d/%d/%d (MM/DD/YYYY)\" % \n",
    "      (blocks_per_day.blocks_per_day.iloc[idxmin], minday.month, minday.day, minday.year))"
   ]
  },
  {
   "cell_type": "markdown",
   "metadata": {},
   "source": [
    "According to the design of Bitcoin, approximately each block takes 10 minutes, so the number of blocks per day should be around 144. While the plot roughly matches the design, we can easily observe a spike in the graph: July 13, 2010. On that day, nearly 700 blocks are mined! If we check the date on [Bitcoin history](https://en.bitcoin.it/wiki/2010#July), we can also find a record saying \"Bitcoin value begins rising rapidly\" in those days. \n",
    "\n",
    "Similarly, on Jan 30, 2018, the block generation rate is surprisingly low, and we can find that the price of bitcoin drops to a historically low point (since the exponential blow up of the price last year) five days after that."
   ]
  },
  {
   "cell_type": "markdown",
   "metadata": {},
   "source": [
    "## Transactions\n",
    "\n",
    "After a quick tour to the *blocks* data, we switch to the *transactions* table. Here we can explore more about the network structure since the transaction graph no longer a chain - it is directed, and can have cycles.\n",
    "\n",
    "Here is the first row of the *transactions* table:\n",
    "\n",
    "|Header  |Record content                                                    |\n",
    "|------  |------------------------------------------------------------------|\n",
    "|timestamp|1514969657000|\n",
    "|transaction_id|[c51293b5c062efce7ece1217b479311b8136a7a3a91a4f8a90922441aabeba5c]|\n",
    "|inputs|[System.Collections.Generic.Dictionary 2[System.String,System.Object]]|\n",
    "|outputs|[System.Collections.Generic.Dictionary 2[System.String,System.Object], System.Collections.Generic.Dictionary 2[System.String,System.Object]]|\n",
    "|block_id|[0000000000000000002a83ca4f615a2f45c7728c9338bece72709385badc7269]|\n",
    "|previous_block|[0000000000000000004ec8254a9940229dea3f533e74289fcafebd9d6da61e79]|\n",
    "|merkle_root|[b7269d97371a6ea6b5608811ade43f238d949784d7d77ad1aa7854bb0ba396f5]|\n",
    "|nonce|3246264000|\n",
    "|version|536870912|\n",
    "|work_terahash|82942944770|\n",
    "|work_error| |"
   ]
  },
  {
   "cell_type": "markdown",
   "metadata": {},
   "source": [
    "## Transactions per day\n",
    "\n",
    "Now since we are already familiar with BigQuery, it easy to plot the number of transactions per day, and we can compare that to the number of blocks above."
   ]
  },
  {
   "cell_type": "code",
   "execution_count": 16,
   "metadata": {
    "scrolled": true
   },
   "outputs": [
    {
     "name": "stdout",
     "output_type": "stream",
     "text": [
      "21.19024029560387\n",
      "Size of dataframe: 54000 Bytes\n"
     ]
    },
    {
     "data": {
      "text/plain": [
       "[<matplotlib.lines.Line2D at 0x10b720400>]"
      ]
     },
     "execution_count": 16,
     "metadata": {},
     "output_type": "execute_result"
    },
    {
     "data": {
      "image/png": "[encoded data removed]",
      "text/plain": [
       "<matplotlib.figure.Figure at 0x1015ee0b8>"
      ]
     },
     "metadata": {},
     "output_type": "display_data"
    }
   ],
   "source": [
    "QUERY = \"\"\"\n",
    "#standardSQL\n",
    "SELECT\n",
    "  o.day,\n",
    "  COUNT(o.transaction_id) AS trans_per_day\n",
    "FROM (\n",
    "  SELECT\n",
    "    TIMESTAMP_MILLIS((timestamp - MOD(timestamp,\n",
    "          86400000))) AS day,\n",
    "    transaction_id\n",
    "  FROM\n",
    "    `bigquery-public-data.bitcoin_blockchain.transactions`) AS o\n",
    "GROUP BY\n",
    "  day\n",
    "ORDER BY\n",
    "  day\n",
    "\"\"\"\n",
    "print(bq_assistant.estimate_query_size(QUERY))\n",
    "trans_per_day = bq_assistant.query_to_pandas_safe(QUERY, max_gb_scanned=30)\n",
    "print('Size of dataframe: {} Bytes'.format(int(trans_per_day.memory_usage(index=True, deep=True).sum())))\n",
    "plt.plot(trans_per_day.index, trans_per_day.trans_per_day)"
   ]
  },
  {
   "cell_type": "markdown",
   "metadata": {},
   "source": [
    "One observation is that on the day of maximum number of blocks are mined, the number of transactions look normal, while round the day of minimum number of blocks are mined (except the initial days), the number of transactions are also drastically dropped."
   ]
  },
  {
   "cell_type": "markdown",
   "metadata": {},
   "source": [
    "# Example: Relationship between Bitcoin transaction rate and Bitcoin price\n",
    "\n",
    "If you carefully observe the plot above, you may find that it looks similar to the graph of the price of Bitcoin. Are they related? Let find out!\n",
    "\n",
    "First, download the dataset containing Bitcoin historical price in [this](https://www.kaggle.com/mczielinski/bitcoin-historical-data/data) Kaggle dataset. Here we use the data ```coinbaseUSD_1-min_data_2014-12-01_to_2018-03-27.csv```, since the size is smaller. Save this zip file to the root path of this tutorial and extract the csv file.\n",
    "\n",
    "Load the data into this notebook."
   ]
  },
  {
   "cell_type": "code",
   "execution_count": 17,
   "metadata": {},
   "outputs": [],
   "source": [
    "import pandas as pd\n",
    "import datetime\n",
    "\n",
    "# create timestamp object from integer valued timestamp in csv file\n",
    "price_data = pd.read_csv('coinbaseUSD_1-min_data_2014-12-01_to_2018-03-27.csv',\n",
    "                         parse_dates=True, \n",
    "                         date_parser=lambda x: datetime.datetime.fromtimestamp(float(x)), \n",
    "                         index_col=[0])"
   ]
  },
  {
   "cell_type": "code",
   "execution_count": 18,
   "metadata": {
    "scrolled": true
   },
   "outputs": [
    {
     "data": {
      "text/html": [
       "<div>\n",
       "<style scoped>\n",
       "    .dataframe tbody tr th:only-of-type {\n",
       "        vertical-align: middle;\n",
       "    }\n",
       "\n",
       "    .dataframe tbody tr th {\n",
       "        vertical-align: top;\n",
       "    }\n",
       "\n",
       "    .dataframe thead th {\n",
       "        text-align: right;\n",
       "    }\n",
       "</style>\n",
       "<table border=\"1\" class=\"dataframe\">\n",
       "  <thead>\n",
       "    <tr style=\"text-align: right;\">\n",
       "      <th></th>\n",
       "      <th>Open</th>\n",
       "      <th>High</th>\n",
       "      <th>Low</th>\n",
       "      <th>Close</th>\n",
       "      <th>Volume_(BTC)</th>\n",
       "      <th>Volume_(Currency)</th>\n",
       "      <th>Weighted_Price</th>\n",
       "    </tr>\n",
       "    <tr>\n",
       "      <th>Timestamp</th>\n",
       "      <th></th>\n",
       "      <th></th>\n",
       "      <th></th>\n",
       "      <th></th>\n",
       "      <th></th>\n",
       "      <th></th>\n",
       "      <th></th>\n",
       "    </tr>\n",
       "  </thead>\n",
       "  <tbody>\n",
       "    <tr>\n",
       "      <th>2014-12-01 00:33:00</th>\n",
       "      <td>300.0</td>\n",
       "      <td>300.0</td>\n",
       "      <td>300.0</td>\n",
       "      <td>300.0</td>\n",
       "      <td>0.01</td>\n",
       "      <td>3.0</td>\n",
       "      <td>300.0</td>\n",
       "    </tr>\n",
       "    <tr>\n",
       "      <th>2014-12-01 00:34:00</th>\n",
       "      <td>300.0</td>\n",
       "      <td>300.0</td>\n",
       "      <td>300.0</td>\n",
       "      <td>300.0</td>\n",
       "      <td>0.01</td>\n",
       "      <td>3.0</td>\n",
       "      <td>300.0</td>\n",
       "    </tr>\n",
       "    <tr>\n",
       "      <th>2014-12-01 00:35:00</th>\n",
       "      <td>300.0</td>\n",
       "      <td>300.0</td>\n",
       "      <td>300.0</td>\n",
       "      <td>300.0</td>\n",
       "      <td>0.01</td>\n",
       "      <td>3.0</td>\n",
       "      <td>300.0</td>\n",
       "    </tr>\n",
       "    <tr>\n",
       "      <th>2014-12-01 00:36:00</th>\n",
       "      <td>300.0</td>\n",
       "      <td>300.0</td>\n",
       "      <td>300.0</td>\n",
       "      <td>300.0</td>\n",
       "      <td>0.01</td>\n",
       "      <td>3.0</td>\n",
       "      <td>300.0</td>\n",
       "    </tr>\n",
       "    <tr>\n",
       "      <th>2014-12-01 00:37:00</th>\n",
       "      <td>300.0</td>\n",
       "      <td>300.0</td>\n",
       "      <td>300.0</td>\n",
       "      <td>300.0</td>\n",
       "      <td>0.01</td>\n",
       "      <td>3.0</td>\n",
       "      <td>300.0</td>\n",
       "    </tr>\n",
       "  </tbody>\n",
       "</table>\n",
       "</div>"
      ],
      "text/plain": [
       "                      Open   High    Low  Close  Volume_(BTC)  \\\n",
       "Timestamp                                                       \n",
       "2014-12-01 00:33:00  300.0  300.0  300.0  300.0          0.01   \n",
       "2014-12-01 00:34:00  300.0  300.0  300.0  300.0          0.01   \n",
       "2014-12-01 00:35:00  300.0  300.0  300.0  300.0          0.01   \n",
       "2014-12-01 00:36:00  300.0  300.0  300.0  300.0          0.01   \n",
       "2014-12-01 00:37:00  300.0  300.0  300.0  300.0          0.01   \n",
       "\n",
       "                     Volume_(Currency)  Weighted_Price  \n",
       "Timestamp                                               \n",
       "2014-12-01 00:33:00                3.0           300.0  \n",
       "2014-12-01 00:34:00                3.0           300.0  \n",
       "2014-12-01 00:35:00                3.0           300.0  \n",
       "2014-12-01 00:36:00                3.0           300.0  \n",
       "2014-12-01 00:37:00                3.0           300.0  "
      ]
     },
     "execution_count": 18,
     "metadata": {},
     "output_type": "execute_result"
    }
   ],
   "source": [
    "price_data.head()"
   ]
  },
  {
   "cell_type": "markdown",
   "metadata": {},
   "source": [
    "Then we transfer this data into the close price of each day."
   ]
  },
  {
   "cell_type": "code",
   "execution_count": 19,
   "metadata": {},
   "outputs": [],
   "source": [
    "ind1 = price_data.index.hour == 0\n",
    "ind2 = price_data.index.minute == 0\n",
    "ind3 = price_data.index.second == 0\n",
    "ind = [True if (ind1[i] == ind2[i]) and (ind2[i] == ind3[i]) else False for i in range(len(ind1))]\n",
    "price_data_day = price_data[ind]"
   ]
  },
  {
   "cell_type": "code",
   "execution_count": 20,
   "metadata": {},
   "outputs": [
    {
     "data": {
      "text/plain": [
       "(1171, 7)"
      ]
     },
     "execution_count": 20,
     "metadata": {},
     "output_type": "execute_result"
    }
   ],
   "source": [
    "price_data_day.shape"
   ]
  },
  {
   "cell_type": "code",
   "execution_count": 21,
   "metadata": {},
   "outputs": [
    {
     "data": {
      "text/html": [
       "<div>\n",
       "<style scoped>\n",
       "    .dataframe tbody tr th:only-of-type {\n",
       "        vertical-align: middle;\n",
       "    }\n",
       "\n",
       "    .dataframe tbody tr th {\n",
       "        vertical-align: top;\n",
       "    }\n",
       "\n",
       "    .dataframe thead th {\n",
       "        text-align: right;\n",
       "    }\n",
       "</style>\n",
       "<table border=\"1\" class=\"dataframe\">\n",
       "  <thead>\n",
       "    <tr style=\"text-align: right;\">\n",
       "      <th></th>\n",
       "      <th>Timestamp</th>\n",
       "      <th>Open</th>\n",
       "      <th>High</th>\n",
       "      <th>Low</th>\n",
       "      <th>Close</th>\n",
       "      <th>Volume_(BTC)</th>\n",
       "      <th>Volume_(Currency)</th>\n",
       "      <th>Weighted_Price</th>\n",
       "    </tr>\n",
       "    <tr>\n",
       "      <th>dayindex</th>\n",
       "      <th></th>\n",
       "      <th></th>\n",
       "      <th></th>\n",
       "      <th></th>\n",
       "      <th></th>\n",
       "      <th></th>\n",
       "      <th></th>\n",
       "      <th></th>\n",
       "    </tr>\n",
       "  </thead>\n",
       "  <tbody>\n",
       "    <tr>\n",
       "      <th>1417478400000000000</th>\n",
       "      <td>2014-12-02</td>\n",
       "      <td>370.00</td>\n",
       "      <td>370.00</td>\n",
       "      <td>370.00</td>\n",
       "      <td>370.00</td>\n",
       "      <td>0.026556</td>\n",
       "      <td>9.82555</td>\n",
       "      <td>370.00</td>\n",
       "    </tr>\n",
       "    <tr>\n",
       "      <th>1417564800000000000</th>\n",
       "      <td>2014-12-03</td>\n",
       "      <td>378.00</td>\n",
       "      <td>378.00</td>\n",
       "      <td>378.00</td>\n",
       "      <td>378.00</td>\n",
       "      <td>0.010000</td>\n",
       "      <td>3.78000</td>\n",
       "      <td>378.00</td>\n",
       "    </tr>\n",
       "    <tr>\n",
       "      <th>1420675200000000000</th>\n",
       "      <td>2015-01-08</td>\n",
       "      <td>314.96</td>\n",
       "      <td>314.96</td>\n",
       "      <td>268.98</td>\n",
       "      <td>279.40</td>\n",
       "      <td>0.030000</td>\n",
       "      <td>8.63340</td>\n",
       "      <td>287.78</td>\n",
       "    </tr>\n",
       "    <tr>\n",
       "      <th>1421107200000000000</th>\n",
       "      <td>2015-01-13</td>\n",
       "      <td>260.00</td>\n",
       "      <td>260.00</td>\n",
       "      <td>260.00</td>\n",
       "      <td>260.00</td>\n",
       "      <td>1.000000</td>\n",
       "      <td>260.00000</td>\n",
       "      <td>260.00</td>\n",
       "    </tr>\n",
       "    <tr>\n",
       "      <th>1421193600000000000</th>\n",
       "      <td>2015-01-14</td>\n",
       "      <td>219.63</td>\n",
       "      <td>219.63</td>\n",
       "      <td>219.63</td>\n",
       "      <td>219.63</td>\n",
       "      <td>0.010000</td>\n",
       "      <td>2.19630</td>\n",
       "      <td>219.63</td>\n",
       "    </tr>\n",
       "  </tbody>\n",
       "</table>\n",
       "</div>"
      ],
      "text/plain": [
       "                     Timestamp    Open    High     Low   Close  Volume_(BTC)  \\\n",
       "dayindex                                                                       \n",
       "1417478400000000000 2014-12-02  370.00  370.00  370.00  370.00      0.026556   \n",
       "1417564800000000000 2014-12-03  378.00  378.00  378.00  378.00      0.010000   \n",
       "1420675200000000000 2015-01-08  314.96  314.96  268.98  279.40      0.030000   \n",
       "1421107200000000000 2015-01-13  260.00  260.00  260.00  260.00      1.000000   \n",
       "1421193600000000000 2015-01-14  219.63  219.63  219.63  219.63      0.010000   \n",
       "\n",
       "                     Volume_(Currency)  Weighted_Price  \n",
       "dayindex                                                \n",
       "1417478400000000000            9.82555          370.00  \n",
       "1417564800000000000            3.78000          378.00  \n",
       "1420675200000000000            8.63340          287.78  \n",
       "1421107200000000000          260.00000          260.00  \n",
       "1421193600000000000            2.19630          219.63  "
      ]
     },
     "execution_count": 21,
     "metadata": {},
     "output_type": "execute_result"
    }
   ],
   "source": [
    "price_data_day = price_data_day.reset_index()\n",
    "price_data_day['dayindex'] = price_data_day['Timestamp'].apply(lambda x: x.value)\n",
    "price_data_day = price_data_day.set_index('dayindex')\n",
    "price_data_day.head()"
   ]
  },
  {
   "cell_type": "code",
   "execution_count": 22,
   "metadata": {},
   "outputs": [
    {
     "data": {
      "text/plain": [
       "(3370, 2)"
      ]
     },
     "execution_count": 22,
     "metadata": {},
     "output_type": "execute_result"
    }
   ],
   "source": [
    "trans_per_day.shape"
   ]
  },
  {
   "cell_type": "code",
   "execution_count": 23,
   "metadata": {
    "scrolled": true
   },
   "outputs": [
    {
     "data": {
      "text/html": [
       "<div>\n",
       "<style scoped>\n",
       "    .dataframe tbody tr th:only-of-type {\n",
       "        vertical-align: middle;\n",
       "    }\n",
       "\n",
       "    .dataframe tbody tr th {\n",
       "        vertical-align: top;\n",
       "    }\n",
       "\n",
       "    .dataframe thead th {\n",
       "        text-align: right;\n",
       "    }\n",
       "</style>\n",
       "<table border=\"1\" class=\"dataframe\">\n",
       "  <thead>\n",
       "    <tr style=\"text-align: right;\">\n",
       "      <th></th>\n",
       "      <th>day</th>\n",
       "      <th>trans_per_day</th>\n",
       "    </tr>\n",
       "    <tr>\n",
       "      <th>dayindex</th>\n",
       "      <th></th>\n",
       "      <th></th>\n",
       "    </tr>\n",
       "  </thead>\n",
       "  <tbody>\n",
       "    <tr>\n",
       "      <th>1231459200000000000</th>\n",
       "      <td>2009-01-09 00:00:00+00:00</td>\n",
       "      <td>14</td>\n",
       "    </tr>\n",
       "    <tr>\n",
       "      <th>1231545600000000000</th>\n",
       "      <td>2009-01-10 00:00:00+00:00</td>\n",
       "      <td>61</td>\n",
       "    </tr>\n",
       "    <tr>\n",
       "      <th>1231632000000000000</th>\n",
       "      <td>2009-01-11 00:00:00+00:00</td>\n",
       "      <td>93</td>\n",
       "    </tr>\n",
       "    <tr>\n",
       "      <th>1231718400000000000</th>\n",
       "      <td>2009-01-12 00:00:00+00:00</td>\n",
       "      <td>101</td>\n",
       "    </tr>\n",
       "    <tr>\n",
       "      <th>1231804800000000000</th>\n",
       "      <td>2009-01-13 00:00:00+00:00</td>\n",
       "      <td>123</td>\n",
       "    </tr>\n",
       "  </tbody>\n",
       "</table>\n",
       "</div>"
      ],
      "text/plain": [
       "                                          day  trans_per_day\n",
       "dayindex                                                    \n",
       "1231459200000000000 2009-01-09 00:00:00+00:00             14\n",
       "1231545600000000000 2009-01-10 00:00:00+00:00             61\n",
       "1231632000000000000 2009-01-11 00:00:00+00:00             93\n",
       "1231718400000000000 2009-01-12 00:00:00+00:00            101\n",
       "1231804800000000000 2009-01-13 00:00:00+00:00            123"
      ]
     },
     "execution_count": 23,
     "metadata": {},
     "output_type": "execute_result"
    }
   ],
   "source": [
    "trans_per_day['dayindex'] = trans_per_day['day'].apply(lambda ts: ts.value)\n",
    "trans_per_day = trans_per_day.set_index('dayindex')\n",
    "trans_per_day.head()"
   ]
  },
  {
   "cell_type": "markdown",
   "metadata": {},
   "source": [
    "Join these tables by index (timestamp):"
   ]
  },
  {
   "cell_type": "code",
   "execution_count": 24,
   "metadata": {},
   "outputs": [],
   "source": [
    "joined_in = price_data_day.join(trans_per_day, how='inner', lsuffix=\"price_\", rsuffix=\"trans_\", sort=True)"
   ]
  },
  {
   "cell_type": "code",
   "execution_count": 25,
   "metadata": {},
   "outputs": [
    {
     "data": {
      "text/plain": [
       "(1171, 10)"
      ]
     },
     "execution_count": 25,
     "metadata": {},
     "output_type": "execute_result"
    }
   ],
   "source": [
    "joined_in.shape"
   ]
  },
  {
   "cell_type": "code",
   "execution_count": 26,
   "metadata": {
    "scrolled": true
   },
   "outputs": [
    {
     "data": {
      "text/html": [
       "<div>\n",
       "<style scoped>\n",
       "    .dataframe tbody tr th:only-of-type {\n",
       "        vertical-align: middle;\n",
       "    }\n",
       "\n",
       "    .dataframe tbody tr th {\n",
       "        vertical-align: top;\n",
       "    }\n",
       "\n",
       "    .dataframe thead th {\n",
       "        text-align: right;\n",
       "    }\n",
       "</style>\n",
       "<table border=\"1\" class=\"dataframe\">\n",
       "  <thead>\n",
       "    <tr style=\"text-align: right;\">\n",
       "      <th></th>\n",
       "      <th>Timestamp</th>\n",
       "      <th>Open</th>\n",
       "      <th>High</th>\n",
       "      <th>Low</th>\n",
       "      <th>Close</th>\n",
       "      <th>Volume_(BTC)</th>\n",
       "      <th>Volume_(Currency)</th>\n",
       "      <th>Weighted_Price</th>\n",
       "      <th>day</th>\n",
       "      <th>trans_per_day</th>\n",
       "    </tr>\n",
       "    <tr>\n",
       "      <th>dayindex</th>\n",
       "      <th></th>\n",
       "      <th></th>\n",
       "      <th></th>\n",
       "      <th></th>\n",
       "      <th></th>\n",
       "      <th></th>\n",
       "      <th></th>\n",
       "      <th></th>\n",
       "      <th></th>\n",
       "      <th></th>\n",
       "    </tr>\n",
       "  </thead>\n",
       "  <tbody>\n",
       "    <tr>\n",
       "      <th>1417478400000000000</th>\n",
       "      <td>2014-12-02</td>\n",
       "      <td>370.00</td>\n",
       "      <td>370.00</td>\n",
       "      <td>370.00</td>\n",
       "      <td>370.00</td>\n",
       "      <td>0.026556</td>\n",
       "      <td>9.82555</td>\n",
       "      <td>370.00</td>\n",
       "      <td>2014-12-02 00:00:00+00:00</td>\n",
       "      <td>99419</td>\n",
       "    </tr>\n",
       "    <tr>\n",
       "      <th>1417564800000000000</th>\n",
       "      <td>2014-12-03</td>\n",
       "      <td>378.00</td>\n",
       "      <td>378.00</td>\n",
       "      <td>378.00</td>\n",
       "      <td>378.00</td>\n",
       "      <td>0.010000</td>\n",
       "      <td>3.78000</td>\n",
       "      <td>378.00</td>\n",
       "      <td>2014-12-03 00:00:00+00:00</td>\n",
       "      <td>99348</td>\n",
       "    </tr>\n",
       "    <tr>\n",
       "      <th>1420675200000000000</th>\n",
       "      <td>2015-01-08</td>\n",
       "      <td>314.96</td>\n",
       "      <td>314.96</td>\n",
       "      <td>268.98</td>\n",
       "      <td>279.40</td>\n",
       "      <td>0.030000</td>\n",
       "      <td>8.63340</td>\n",
       "      <td>287.78</td>\n",
       "      <td>2015-01-08 00:00:00+00:00</td>\n",
       "      <td>107132</td>\n",
       "    </tr>\n",
       "    <tr>\n",
       "      <th>1421107200000000000</th>\n",
       "      <td>2015-01-13</td>\n",
       "      <td>260.00</td>\n",
       "      <td>260.00</td>\n",
       "      <td>260.00</td>\n",
       "      <td>260.00</td>\n",
       "      <td>1.000000</td>\n",
       "      <td>260.00000</td>\n",
       "      <td>260.00</td>\n",
       "      <td>2015-01-13 00:00:00+00:00</td>\n",
       "      <td>102309</td>\n",
       "    </tr>\n",
       "    <tr>\n",
       "      <th>1421193600000000000</th>\n",
       "      <td>2015-01-14</td>\n",
       "      <td>219.63</td>\n",
       "      <td>219.63</td>\n",
       "      <td>219.63</td>\n",
       "      <td>219.63</td>\n",
       "      <td>0.010000</td>\n",
       "      <td>2.19630</td>\n",
       "      <td>219.63</td>\n",
       "      <td>2015-01-14 00:00:00+00:00</td>\n",
       "      <td>104765</td>\n",
       "    </tr>\n",
       "  </tbody>\n",
       "</table>\n",
       "</div>"
      ],
      "text/plain": [
       "                     Timestamp    Open    High     Low   Close  Volume_(BTC)  \\\n",
       "dayindex                                                                       \n",
       "1417478400000000000 2014-12-02  370.00  370.00  370.00  370.00      0.026556   \n",
       "1417564800000000000 2014-12-03  378.00  378.00  378.00  378.00      0.010000   \n",
       "1420675200000000000 2015-01-08  314.96  314.96  268.98  279.40      0.030000   \n",
       "1421107200000000000 2015-01-13  260.00  260.00  260.00  260.00      1.000000   \n",
       "1421193600000000000 2015-01-14  219.63  219.63  219.63  219.63      0.010000   \n",
       "\n",
       "                     Volume_(Currency)  Weighted_Price  \\\n",
       "dayindex                                                 \n",
       "1417478400000000000            9.82555          370.00   \n",
       "1417564800000000000            3.78000          378.00   \n",
       "1420675200000000000            8.63340          287.78   \n",
       "1421107200000000000          260.00000          260.00   \n",
       "1421193600000000000            2.19630          219.63   \n",
       "\n",
       "                                          day  trans_per_day  \n",
       "dayindex                                                      \n",
       "1417478400000000000 2014-12-02 00:00:00+00:00          99419  \n",
       "1417564800000000000 2014-12-03 00:00:00+00:00          99348  \n",
       "1420675200000000000 2015-01-08 00:00:00+00:00         107132  \n",
       "1421107200000000000 2015-01-13 00:00:00+00:00         102309  \n",
       "1421193600000000000 2015-01-14 00:00:00+00:00         104765  "
      ]
     },
     "execution_count": 26,
     "metadata": {},
     "output_type": "execute_result"
    }
   ],
   "source": [
    "joined_in.head()"
   ]
  },
  {
   "cell_type": "markdown",
   "metadata": {},
   "source": [
    "Plot two series of values on the same figure with aligned x-value."
   ]
  },
  {
   "cell_type": "code",
   "execution_count": 27,
   "metadata": {
    "scrolled": true
   },
   "outputs": [
    {
     "data": {
      "image/png": "[encoded data removed]",
      "text/plain": [
       "<matplotlib.figure.Figure at 0x10d4ff4a8>"
      ]
     },
     "metadata": {},
     "output_type": "display_data"
    }
   ],
   "source": [
    "fig, ax = plt.subplots()\n",
    "ax2 = ax.twinx()\n",
    "ax.plot(joined_in.index, joined_in.trans_per_day, color='b')\n",
    "ax.set_xlabel('timestamp (s)')\n",
    "ax.set_ylabel('tran per day')\n",
    "ax2.plot(joined_in.index, joined_in.Close, color='r')\n",
    "ax2.set_xlabel('timestamp (s)')\n",
    "ax2.set_ylabel('price')\n",
    "\n",
    "# Change color of each axis\n",
    "def color_y_axis(ax, color):\n",
    "    \"\"\"Color your axes.\"\"\"\n",
    "    for t in ax.get_yticklabels():\n",
    "        t.set_color(color)\n",
    "    return None\n",
    "color_y_axis(ax, 'r')\n",
    "color_y_axis(ax2, 'b')\n",
    "plt.show()"
   ]
  },
  {
   "cell_type": "markdown",
   "metadata": {},
   "source": [
    "The plot shows that although the price of Bitcoin doesn't not exactly follow the number of transactions per day, they show obvious correlation especially in the past year. That may be a helpful input feature for forecasting the Bitcoin price!"
   ]
  },
  {
   "cell_type": "markdown",
   "metadata": {},
   "source": [
    "# Summary and references\n",
    "\n",
    "This tutorial introduced the workflow of using BigQuery-based dataset, visualizing and analyzing Bitcoin Blockchain data in Python. Although we just explored some simple tasks related to Bitcoin data, I hope this tutorial inspires your curiority to look for more interesting topics such as \"Who has the largest number of Bitcoins?\", \"Could we find out the same owner of many different wallets?\". Further details about all the steps through this process are available from the following links.\n",
    "\n",
    "1. BigQuery: https://cloud.google.com/bigquery/\n",
    "2. bq_helper: https://github.com/SohierDane/BigQuery_Helper.git\n",
    "3. Using SQL to access BigQuery dataset from Kaggle: https://www.kaggle.com/rtatman/sql-scavenger-hunt-handbook/\n",
    "4. Visualizing Daily Bitcoin Recipients: https://www.kaggle.com/mrisdal/visualizing-daily-bitcoin-recipients\n",
    "5. Bitcoin history: https://en.bitcoin.it/wiki/2009\n",
    "6. Bitcoin price: https://www.coindesk.com/price/\n",
    "7. Bitcoin price dataset: https://www.kaggle.com/mczielinski/bitcoin-historical-data/data"
   ]
  }
 ],
 "metadata": {
  "kernelspec": {
   "display_name": "Python 3",
   "language": "python",
   "name": "python3"
  },
  "language_info": {
   "codemirror_mode": {
    "name": "ipython",
    "version": 3
   },
   "file_extension": ".py",
   "mimetype": "text/x-python",
   "name": "python",
   "nbconvert_exporter": "python",
   "pygments_lexer": "ipython3",
   "version": "3.6.4"
  }
 },
 "nbformat": 4,
 "nbformat_minor": 2
}
