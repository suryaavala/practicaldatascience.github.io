{
 "cells": [
  {
   "cell_type": "markdown",
   "metadata": {},
   "source": [
    "# 15688 Practical Science Tutorial\n",
    "## ——Weather data processing and forecasting\n",
    "\n",
    "This tutorial aims to apply data science in building models to predict weather temperature. The data is collected from Weather Underground and it is free to access by its API web service. After collected, the data must be transformed into a format, in this tutorial, pkl file, and then cleaned.\n",
    "\n",
    "This tutorial focuses on building a Linear Regression(LR) model to reveal the trends in the data. The key of constructing a robust LR model is how to select appropriate features and properly evaluate them. Two important libraries [Scikit-Learn](http://scikit-learn.org/) and [StatsModels](http://www.statsmodels.org/) will be used in this tutorial."
   ]
  },
  {
   "cell_type": "markdown",
   "metadata": {},
   "source": [
    "### Get data from the API\n",
    "\n",
    "In this part, I implementED the API to obtain the data.\n",
    "\n",
    "First of all, I registered a user(https://www.wunderground.com/weather/api) for the API, which is utilized for the parse permition. Secondly, I set the information of state and city for filter the location. The format is represents as follow:\n",
    "http://api.wunderground.com/api/KEY/history_YYYYMMDD/q/state/city.json\n",
    "  -  KEY: the Weather Underground provides the key with your account\n",
    "  -  YYYYMMDD: a string representing the target date of your request\n",
    "  -  state: the two-letter state abbreviation in the United States\n",
    "  -  city: the name of the city associated with the state you requested  \n",
    "  \n",
    "Finally, I designed a parse pattern, since the website has a lot of data. The websites provides many different API's to access data from, but what I concerned is the history weather API. By collecting a lot of historic data, I could infer some conclusion by modelling the history data. And this API provides a summary of various weather measurements for a city and state on a specific day. I need to select the records whose types are related to my weather prediction.\n",
    "\n",
    "After having the API_KEY, I could parse the url. In this tutorial, I will parse the weather data of pittsburgh, and the state is PA. By now, I know everything except the date. Therefore, the base_url could be written to a string with a place holder. The base url is obtained:\n",
    "\n",
    "http://api.wunderground.com/api/{}/history_{}/q/PA/pittsburgh.json\n",
    "\n",
    "the first {} is the API_KEY, my API is 97dd52ed89736e38. The second {} is the waiting for the date. I decided to parse one year data of Pittsburgh. From 01/01/2017 to 01/01/2018.\n",
    "\n",
    "### Import libraries\n",
    "\n",
    "Before starting the project, I need to make sure the libraries I will be using have been installed. For installation instructions please refer to the listed documentation."
   ]
  },
  {
   "cell_type": "code",
   "execution_count": 231,
   "metadata": {},
   "outputs": [],
   "source": [
    "import pandas as pd\n",
    "import numpy as np\n",
    "import matplotlib\n",
    "import matplotlib.pyplot as plt\n",
    "from datetime import datetime, timedelta\n",
    "import time\n",
    "from collections import namedtuple\n",
    "import pandas as pda\n",
    "import requests\n",
    "import matplotlib.pyplot as plt"
   ]
  },
  {
   "cell_type": "markdown",
   "metadata": {},
   "source": [
    "### Getting Smaple Data\n",
    "\n",
    "Since the whole tutorial is based on the weather data, I decided to obtain one day data so that I could specify the features that I would like to parse and finally use."
   ]
  },
  {
   "cell_type": "code",
   "execution_count": 257,
   "metadata": {},
   "outputs": [
    {
     "name": "stdout",
     "output_type": "stream",
     "text": [
      "{'date': {'pretty': '12:00 PM EST on January 01, 2017', 'year': '2017', 'mon': '01', 'mday': '01', 'hour': '12', 'min': '00', 'tzname': 'America/New_York'}, 'fog': '0', 'rain': '1', 'snow': '0', 'snowfallm': '0.00', 'snowfalli': '0.00', 'monthtodatesnowfallm': '', 'monthtodatesnowfalli': '', 'since1julsnowfallm': '', 'since1julsnowfalli': '', 'snowdepthm': '', 'snowdepthi': '', 'hail': '0', 'thunder': '0', 'tornado': '0', 'meantempm': '3', 'meantempi': '38', 'meandewptm': '-2', 'meandewpti': '29', 'meanpressurem': '1020', 'meanpressurei': '30.12', 'meanwindspdm': '14', 'meanwindspdi': '9', 'meanwdire': '', 'meanwdird': '255', 'meanvism': '15', 'meanvisi': '9', 'humidity': '', 'maxtempm': '7', 'maxtempi': '44', 'mintempm': '0', 'mintempi': '32', 'maxhumidity': '89', 'minhumidity': '51', 'maxdewptm': '1', 'maxdewpti': '33', 'mindewptm': '-4', 'mindewpti': '25', 'maxpressurem': '1026', 'maxpressurei': '30.29', 'minpressurem': '1012', 'minpressurei': '29.90', 'maxwspdm': '24', 'maxwspdi': '15', 'minwspdm': '0', 'minwspdi': '0', 'maxvism': '16', 'maxvisi': '10', 'minvism': '5', 'minvisi': '3', 'gdegreedays': '0', 'heatingdegreedays': '27', 'coolingdegreedays': '0', 'precipm': '0.76', 'precipi': '0.03', 'precipsource': '', 'heatingdegreedaysnormal': '', 'monthtodateheatingdegreedays': '', 'monthtodateheatingdegreedaysnormal': '', 'since1sepheatingdegreedays': '', 'since1sepheatingdegreedaysnormal': '', 'since1julheatingdegreedays': '', 'since1julheatingdegreedaysnormal': '', 'coolingdegreedaysnormal': '', 'monthtodatecoolingdegreedays': '', 'monthtodatecoolingdegreedaysnormal': '', 'since1sepcoolingdegreedays': '', 'since1sepcoolingdegreedaysnormal': '', 'since1jancoolingdegreedays': '', 'since1jancoolingdegreedaysnormal': ''}\n"
     ]
    }
   ],
   "source": [
    "BASE_URL = \"http://api.wunderground.com/api/97dd52ed89736e38/history_{}/q/PA/pittsburgh.json\"\n",
    "target_date = datetime(2017, 1, 1)\n",
    "request = BASE_URL.format(target_date.strftime('%Y%m%d'))\n",
    "response = requests.get(request)\n",
    "if response.status_code == 200:\n",
    "    data = response.json()['history']['dailysummary'][0]  \n",
    "print(data)"
   ]
  },
  {
   "cell_type": "markdown",
   "metadata": {},
   "source": [
    "From the sample parsing data, I found out that there are a lot of variables, but I only need to choose a part of them which may affect weather. The features I decided to use is \"date\", \"meantempm\", \"meandewptm\", \"meanpressurem\", \"maxhumidity\", \"minhumidity\", \"maxtempm\",\"mintempm\", \"maxdewptm\", \"mindewptm\", \"maxpressurem\", \"minpressurem\", \"precipm\",\"gdegreedays\",\"meanwdire\", \"meanvism\",\"maxvism\", and \"minvism\"."
   ]
  },
  {
   "cell_type": "markdown",
   "metadata": {},
   "source": [
    "### Obtain Batch Data\n",
    "I could collect one year's weather data now. Pay attention, the free account provides an API key to access the web service at a rate of 10 requests per minute and up to a total of 500 requests in a day. Therefore, we should set the sleep time 60/10 = 6."
   ]
  },
  {
   "cell_type": "code",
   "execution_count": 258,
   "metadata": {},
   "outputs": [],
   "source": [
    "records = []\n",
    "days = 365\n",
    "features = [\"date\", \"meantempm\", \"meandewptm\", \"meanpressurem\", \"maxhumidity\", \"minhumidity\", \"maxtempm\",\n",
    "            \"mintempm\", \"maxdewptm\", \"mindewptm\", \"maxpressurem\", \"minpressurem\", \"precipm\"]\n",
    "DailySummary = namedtuple(\"DailySummary\", features)\n",
    "for i in range(days):\n",
    "    # fill the base_url\n",
    "    request = BASE_URL.format(target_date.strftime('%Y%m%d'))\n",
    "    # get and confirm the request\n",
    "    response = requests.get(request)\n",
    "    if response.status_code == 200:\n",
    "        data = response.json()['history']['dailysummary'][0]\n",
    "        tmp = DailySummary(\n",
    "            date=target_date,\n",
    "            meantempm=data['meantempm'],\n",
    "            meandewptm=data['meandewptm'],\n",
    "            meanpressurem=data['meanpressurem'],\n",
    "            maxhumidity=data['maxhumidity'],\n",
    "            minhumidity=data['minhumidity'],\n",
    "            maxtempm=data['maxtempm'],\n",
    "            mintempm=data['mintempm'],\n",
    "            maxdewptm=data['maxdewptm'],\n",
    "            mindewptm=data['mindewptm'],\n",
    "            maxpressurem=data['maxpressurem'],\n",
    "            minpressurem=data['minpressurem'],\n",
    "            precipm=data['precipm'])\n",
    "        records.append(tmp)\n",
    "    # set sleep time\n",
    "    time.sleep(6)\n",
    "    # move on the next day \n",
    "    target_date = target_date + timedelta(days = 1)"
   ]
  },
  {
   "cell_type": "code",
   "execution_count": 290,
   "metadata": {},
   "outputs": [],
   "source": [
    "df = pd.DataFrame(records, columns=features).set_index('date')"
   ]
  },
  {
   "cell_type": "markdown",
   "metadata": {},
   "source": [
    "### Data cleaning\n",
    "\n",
    "The most important part of analytics projects is to make sure the data is qualified. However, data cleaning is of great significance, while it is also time-consuming and laborious. In this tutorial, I tried to identify unnecessary data, missing values, consistency of data types, etc.\n",
    "\n",
    "First, I looped over the features which were put into the feature list earlier, for each feature that is not date feature, I made three new colmns for that feature representing the Nth prior day's measurement, where $N = 1, 2, 3$. By doing this, I got four times of the number of original features, for example, for meantempm, I now have meantempm, meantmpm_1, meantempm_2, and meantempm_3 and I could make better predictions."
   ]
  },
  {
   "cell_type": "code",
   "execution_count": 291,
   "metadata": {},
   "outputs": [],
   "source": [
    "for feature in features:\n",
    "    if feature != 'date':\n",
    "        for N in range(1, 4):\n",
    "            rows = df.shape[0]\n",
    "            n_prior = [None]*N + [df[feature][i-N] for i in range(N, rows)]\n",
    "            col_ = \"{}_{}\".format(feature, N)\n",
    "            df[col_] = n_prior"
   ]
  },
  {
   "cell_type": "code",
   "execution_count": 292,
   "metadata": {},
   "outputs": [
    {
     "name": "stderr",
     "output_type": "stream",
     "text": [
      "/anaconda3/lib/python3.6/site-packages/ipykernel_launcher.py:10: SettingWithCopyWarning: \n",
      "A value is trying to be set on a copy of a slice from a DataFrame\n",
      "\n",
      "See the caveats in the documentation: http://pandas.pydata.org/pandas-docs/stable/indexing.html#indexing-view-versus-copy\n",
      "  # Remove the CWD from sys.path while we load stuff.\n"
     ]
    }
   ],
   "source": [
    "to_remove = []\n",
    "for feature in features:\n",
    "    if feature not in ['meantempm', 'mintempm', 'maxtempm']:\n",
    "        to_remove.append(feature)\n",
    "\n",
    "df = df[[col for col in df.columns if col not in to_remove]]\n",
    "df = df.apply(pd.to_numeric, errors='coerce')\n",
    "for precip_col in ['precipm_1', 'precipm_2', 'precipm_3']:\n",
    "    lost_val = pd.isnull(df[precip_col])\n",
    "    df[precip_col][lost_val] = 0\n",
    "df = df.dropna()\n",
    "#df.info()\n",
    "\n",
    "import pickle\n",
    "with open('weather_data.pkl', 'wb') as fp:\n",
    "    pickle.dump(df, fp)"
   ]
  },
  {
   "cell_type": "code",
   "execution_count": 293,
   "metadata": {},
   "outputs": [],
   "source": [
    "import pickle\n",
    "with open('weather_data.pkl', 'rb') as fp:\n",
    "    df = pickle.load(fp)"
   ]
  },
  {
   "cell_type": "markdown",
   "metadata": {},
   "source": [
    "### Select features for LR model\n",
    "\n",
    "Linear regression is a linear approach to modelling the relationship between one dependent variable(y, in this case, the temperature) and one or more independent variables(X, in this case, the feature vector). Using LR model can help us to predict the value of corresponding temperature when given the features."
   ]
  },
  {
   "cell_type": "markdown",
   "metadata": {},
   "source": [
    "In order to build an appropriate Linear Regression model, whether there is a linear relationship between the dependent variable and each of the independent variables needs to be figured out. I decided to use correlation coefficient to judge the linearity between different features and the dependent variable, then select those features with higher coefficient. The Pearson correlation coefficient is a measure of the linear correlation between two variables, it has a value between +1 and -1. 0 means the two variables have no linear correlation. value between 0 and 1 shows positive linear correlation while value ranging from -1 to 0 means negative linear relationship. Coefficient value with higher absolute value shows that the linear correaltion is stronger. By calling corr() method the correlation coeffiecients can be easily calculated. Then I sorted all the coefficient values so that the strength of correlation relationship can be more obvious."
   ]
  },
  {
   "cell_type": "code",
   "execution_count": 294,
   "metadata": {
    "scrolled": true
   },
   "outputs": [],
   "source": [
    "tmp = df.corr(method = 'pearson')[['meantempm']]\n",
    "#print(tmp)"
   ]
  },
  {
   "cell_type": "code",
   "execution_count": 295,
   "metadata": {
    "scrolled": true
   },
   "outputs": [],
   "source": [
    "tmp = tmp.sort_values(by = 'meantempm', axis = 0, ascending = False)\n",
    "#print(tmp)"
   ]
  },
  {
   "cell_type": "markdown",
   "metadata": {},
   "source": [
    "In this tutorial, I classified the value of coefficients into five different degree, they are very weak, weak, moderate, strong and very strong, each degree takes 20% of the total value. In order to select the most appropriate and representative features, I only chose those classified as very strong degree, in another words, the correlation coefficients between mean temperature and these features are between 0.8 and 1. Among all the features above, I removed all temperature features and kept the remaing 9 features, created a new DataFrame using these 9 features together with the Y variable, mean temperature."
   ]
  },
  {
   "cell_type": "code",
   "execution_count": 296,
   "metadata": {},
   "outputs": [],
   "source": [
    "features_col = ['meantempm_1', 'maxtempm_1','mintempm_1', 'mindewptm_1',\n",
    "                'meandewptm_1', 'meantempm_2', 'maxdewptm_1', 'maxtempm_2',\n",
    "                'mintempm_2']\n",
    "new_df = df[['meantempm'] + features_col]\n",
    "#print(new_df)"
   ]
  },
  {
   "cell_type": "markdown",
   "metadata": {},
   "source": [
    "### Visualiaze the linear relationships\n",
    "\n",
    "Visualization is a common way to help understand data more intuitively by  creating images, diagrams, or animations. Though knowing these selected features may have strong positive linear relationship with the mean temperature, the potential relationships can be better proved by plotting each of the features with the dependent variable. In order to compare the relatives, let the dependent variable to be the fixed axis, and plot the 9 features seperately, thus 9 plots can be obtained."
   ]
  },
  {
   "cell_type": "code",
   "execution_count": 297,
   "metadata": {
    "scrolled": true
   },
   "outputs": [
    {
     "data": {
      "image/png": "[encoded data removed]",
      "text/plain": [
       "<matplotlib.figure.Figure at 0x1c250b3cc0>"
      ]
     },
     "metadata": {},
     "output_type": "display_data"
    }
   ],
   "source": [
    "features = np.array(features_col)\n",
    "features = features.reshape(3, 3)\n",
    "#print(features)\n",
    "plt.figure()\n",
    "for row, col_ in enumerate(features):\n",
    "    for col, feature in enumerate(col_):\n",
    "        plt.subplot(3, 3, row * 3 + col + 1)\n",
    "        plt.scatter(new_df[feature], new_df['meantempm'])\n",
    "        plt.xlabel(feature)\n",
    "        plt.ylabel('meantempm')\n",
    "plt.show()"
   ]
  },
  {
   "cell_type": "markdown",
   "metadata": {},
   "source": [
    "### Apply step-wise regression\n",
    "\n",
    "Although calculating Pearson correlation coefficient can help extract proper features and reduce the amount of variables, the predictors for a robust LR model requires to be meaningful and statistically significant. Python provides a library statsmodels to offer classes and functions for the estimation of many different statistical models, as well as for conducting statistical tests, and statistical data exploration, which is applied in this tutorial.\n",
    "\n",
    "Since I have already selected 9 features from a bunch of related variables, I could validate the robustness of the model build with these variables, and set up a fixed evaluation criteria to judge whether the current model is robust enough. However, the interactions between vsriables cannot be ignored, if they interacted with each other, the result may be highly effected and leads to a wrong hypothesis. Under this assumption, I prefer to use step-wise regression to test for each different variable and decide whether it needs to be removed from the feature sets. Step-wise regression is an efficient method to evaluate the statistical significance of each variable in the model. In this tutorial, I introduced backward elimination, whose process is like below:\n",
    "1. Select a significance level $\\alpha$\n",
    "2. Fit the model with all selected features\n",
    "3. Use the p-value to evaluate features, if the one with greatest p-value has a p-value which is above the significant value, remove it, repeat step 2 and step 3 until all the p-values are below the significant value\n",
    "4. obtain the final model\n",
    "\n",
    "It's also important to note that the statsmodels does not add a constant by default, so I set it by using the add_constant() method, where the parameter will be the name of the data frame containing the independent variables, i.e., the features."
   ]
  },
  {
   "cell_type": "code",
   "execution_count": 298,
   "metadata": {
    "scrolled": true
   },
   "outputs": [
    {
     "data": {
      "text/html": [
       "<table class=\"simpletable\">\n",
       "<caption>OLS Regression Results</caption>\n",
       "<tr>\n",
       "  <th>Dep. Variable:</th>        <td>meantempm</td>    <th>  R-squared:         </th> <td>   0.875</td> \n",
       "</tr>\n",
       "<tr>\n",
       "  <th>Model:</th>                   <td>OLS</td>       <th>  Adj. R-squared:    </th> <td>   0.872</td> \n",
       "</tr>\n",
       "<tr>\n",
       "  <th>Method:</th>             <td>Least Squares</td>  <th>  F-statistic:       </th> <td>   273.1</td> \n",
       "</tr>\n",
       "<tr>\n",
       "  <th>Date:</th>             <td>Fri, 30 Mar 2018</td> <th>  Prob (F-statistic):</th> <td>6.93e-153</td>\n",
       "</tr>\n",
       "<tr>\n",
       "  <th>Time:</th>                 <td>23:39:20</td>     <th>  Log-Likelihood:    </th> <td> -951.71</td> \n",
       "</tr>\n",
       "<tr>\n",
       "  <th>No. Observations:</th>      <td>   362</td>      <th>  AIC:               </th> <td>   1923.</td> \n",
       "</tr>\n",
       "<tr>\n",
       "  <th>Df Residuals:</th>          <td>   352</td>      <th>  BIC:               </th> <td>   1962.</td> \n",
       "</tr>\n",
       "<tr>\n",
       "  <th>Df Model:</th>              <td>     9</td>      <th>                     </th>     <td> </td>    \n",
       "</tr>\n",
       "<tr>\n",
       "  <th>Covariance Type:</th>      <td>nonrobust</td>    <th>                     </th>     <td> </td>    \n",
       "</tr>\n",
       "</table>\n",
       "<table class=\"simpletable\">\n",
       "<tr>\n",
       "        <td></td>          <th>coef</th>     <th>std err</th>      <th>t</th>      <th>P>|t|</th>  <th>[0.025</th>    <th>0.975]</th>  \n",
       "</tr>\n",
       "<tr>\n",
       "  <th>const</th>        <td>    1.3686</td> <td>    0.749</td> <td>    1.827</td> <td> 0.069</td> <td>   -0.105</td> <td>    2.842</td>\n",
       "</tr>\n",
       "<tr>\n",
       "  <th>meantempm_1</th>  <td>   -0.9103</td> <td>    0.402</td> <td>   -2.262</td> <td> 0.024</td> <td>   -1.702</td> <td>   -0.119</td>\n",
       "</tr>\n",
       "<tr>\n",
       "  <th>maxtempm_1</th>   <td>    1.1430</td> <td>    0.203</td> <td>    5.627</td> <td> 0.000</td> <td>    0.743</td> <td>    1.543</td>\n",
       "</tr>\n",
       "<tr>\n",
       "  <th>mintempm_1</th>   <td>    0.8268</td> <td>    0.217</td> <td>    3.810</td> <td> 0.000</td> <td>    0.400</td> <td>    1.254</td>\n",
       "</tr>\n",
       "<tr>\n",
       "  <th>mindewptm_1</th>  <td>    0.2396</td> <td>    0.105</td> <td>    2.287</td> <td> 0.023</td> <td>    0.034</td> <td>    0.446</td>\n",
       "</tr>\n",
       "<tr>\n",
       "  <th>meandewptm_1</th> <td>    0.0008</td> <td>    0.213</td> <td>    0.004</td> <td> 0.997</td> <td>   -0.419</td> <td>    0.420</td>\n",
       "</tr>\n",
       "<tr>\n",
       "  <th>meantempm_2</th>  <td>   -0.3429</td> <td>    0.394</td> <td>   -0.870</td> <td> 0.385</td> <td>   -1.118</td> <td>    0.433</td>\n",
       "</tr>\n",
       "<tr>\n",
       "  <th>maxdewptm_1</th>  <td>   -0.3745</td> <td>    0.144</td> <td>   -2.601</td> <td> 0.010</td> <td>   -0.658</td> <td>   -0.091</td>\n",
       "</tr>\n",
       "<tr>\n",
       "  <th>maxtempm_2</th>   <td>    0.0712</td> <td>    0.212</td> <td>    0.336</td> <td> 0.737</td> <td>   -0.346</td> <td>    0.488</td>\n",
       "</tr>\n",
       "<tr>\n",
       "  <th>mintempm_2</th>   <td>    0.1978</td> <td>    0.207</td> <td>    0.956</td> <td> 0.340</td> <td>   -0.209</td> <td>    0.604</td>\n",
       "</tr>\n",
       "</table>\n",
       "<table class=\"simpletable\">\n",
       "<tr>\n",
       "  <th>Omnibus:</th>       <td>19.675</td> <th>  Durbin-Watson:     </th> <td>   1.995</td>\n",
       "</tr>\n",
       "<tr>\n",
       "  <th>Prob(Omnibus):</th> <td> 0.000</td> <th>  Jarque-Bera (JB):  </th> <td>  26.965</td>\n",
       "</tr>\n",
       "<tr>\n",
       "  <th>Skew:</th>          <td>-0.430</td> <th>  Prob(JB):          </th> <td>1.40e-06</td>\n",
       "</tr>\n",
       "<tr>\n",
       "  <th>Kurtosis:</th>      <td> 4.024</td> <th>  Cond. No.          </th> <td>    181.</td>\n",
       "</tr>\n",
       "</table>"
      ],
      "text/plain": [
       "<class 'statsmodels.iolib.summary.Summary'>\n",
       "\"\"\"\n",
       "                            OLS Regression Results                            \n",
       "==============================================================================\n",
       "Dep. Variable:              meantempm   R-squared:                       0.875\n",
       "Model:                            OLS   Adj. R-squared:                  0.872\n",
       "Method:                 Least Squares   F-statistic:                     273.1\n",
       "Date:                Fri, 30 Mar 2018   Prob (F-statistic):          6.93e-153\n",
       "Time:                        23:39:20   Log-Likelihood:                -951.71\n",
       "No. Observations:                 362   AIC:                             1923.\n",
       "Df Residuals:                     352   BIC:                             1962.\n",
       "Df Model:                           9                                         \n",
       "Covariance Type:            nonrobust                                         \n",
       "================================================================================\n",
       "                   coef    std err          t      P>|t|      [0.025      0.975]\n",
       "--------------------------------------------------------------------------------\n",
       "const            1.3686      0.749      1.827      0.069      -0.105       2.842\n",
       "meantempm_1     -0.9103      0.402     -2.262      0.024      -1.702      -0.119\n",
       "maxtempm_1       1.1430      0.203      5.627      0.000       0.743       1.543\n",
       "mintempm_1       0.8268      0.217      3.810      0.000       0.400       1.254\n",
       "mindewptm_1      0.2396      0.105      2.287      0.023       0.034       0.446\n",
       "meandewptm_1     0.0008      0.213      0.004      0.997      -0.419       0.420\n",
       "meantempm_2     -0.3429      0.394     -0.870      0.385      -1.118       0.433\n",
       "maxdewptm_1     -0.3745      0.144     -2.601      0.010      -0.658      -0.091\n",
       "maxtempm_2       0.0712      0.212      0.336      0.737      -0.346       0.488\n",
       "mintempm_2       0.1978      0.207      0.956      0.340      -0.209       0.604\n",
       "==============================================================================\n",
       "Omnibus:                       19.675   Durbin-Watson:                   1.995\n",
       "Prob(Omnibus):                  0.000   Jarque-Bera (JB):               26.965\n",
       "Skew:                          -0.430   Prob(JB):                     1.40e-06\n",
       "Kurtosis:                       4.024   Cond. No.                         181.\n",
       "==============================================================================\n",
       "\n",
       "Warnings:\n",
       "[1] Standard Errors assume that the covariance matrix of the errors is correctly specified.\n",
       "\"\"\""
      ]
     },
     "execution_count": 298,
     "metadata": {},
     "output_type": "execute_result"
    }
   ],
   "source": [
    "import statsmodels.api as sm\n",
    "ols_X_df = new_df[features_col]\n",
    "ols_y_df = new_df['meantempm']\n",
    "#print(ols_X_df)\n",
    "#print(ols_y_df)\n",
    "ols_X_df = sm.add_constant(X_df)\n",
    "model = sm.OLS(ols_y_df, ols_X_df).fit()\n",
    "# make the predictions by the model\n",
    "ols_predictions = model.predict(ols_X_df)\n",
    "# print out the statistics\n",
    "model.summary()"
   ]
  },
  {
   "cell_type": "markdown",
   "metadata": {},
   "source": [
    "__Interpreting the table__ \n",
    "\n",
    "This is a very long table. On the top of the table, there are depedent variable mean temperature, the model OLS, which stands for Ordinary Least Squares and method least squares means that the model is trying to fit a regression line that would minimize the square of distance from the regression line, df rediduals and df model relates to the degrees of freedom.\n",
    "\n",
    "Since the major task is comparing the differences between the results of different variables, I planed to focus on the major two values in this tutorial:\n",
    "1. R-squared and Adj.R-squared -- R-squared is a measure that states the percentage of variance, Adj.R-squared is similar to R-squared, but for multiple linear regression this value has a penalty applied to it based on the number of variables being included, it is mainly to explain the level of overfitting\n",
    "2. P>|t| -- P>|t| is the p-value I used to evaluate the hypothesis in this tutorial. If one variable has a p-value which is the greatest among all the p-values and is greater than the fixed $\\alpha$ I set, which is 0.05, than I would eliminate the variable.\n",
    "\n",
    "Other values in the table are of great significance as well, for example, coefficient, the standard error, which is the standard deviation of the sampling distribution of a statistic, most commonly of the mean, and so on. However, limited by the space, the focus should be put on the above two values.\n",
    "\n",
    "Initially, I put all 9 features into the X vector and fit the model, it can be concluded easily that meandewptm_1 has the greatest p-value of 0.997, and the p-value is also greater then the threshold of 0.05, thus I removed the meandewptm_1 feature this time."
   ]
  },
  {
   "cell_type": "code",
   "execution_count": 299,
   "metadata": {
    "scrolled": true
   },
   "outputs": [
    {
     "data": {
      "text/html": [
       "<table class=\"simpletable\">\n",
       "<caption>OLS Regression Results</caption>\n",
       "<tr>\n",
       "  <th>Dep. Variable:</th>        <td>meantempm</td>    <th>  R-squared:         </th> <td>   0.875</td> \n",
       "</tr>\n",
       "<tr>\n",
       "  <th>Model:</th>                   <td>OLS</td>       <th>  Adj. R-squared:    </th> <td>   0.872</td> \n",
       "</tr>\n",
       "<tr>\n",
       "  <th>Method:</th>             <td>Least Squares</td>  <th>  F-statistic:       </th> <td>   308.1</td> \n",
       "</tr>\n",
       "<tr>\n",
       "  <th>Date:</th>             <td>Fri, 30 Mar 2018</td> <th>  Prob (F-statistic):</th> <td>3.83e-154</td>\n",
       "</tr>\n",
       "<tr>\n",
       "  <th>Time:</th>                 <td>23:39:21</td>     <th>  Log-Likelihood:    </th> <td> -951.71</td> \n",
       "</tr>\n",
       "<tr>\n",
       "  <th>No. Observations:</th>      <td>   362</td>      <th>  AIC:               </th> <td>   1921.</td> \n",
       "</tr>\n",
       "<tr>\n",
       "  <th>Df Residuals:</th>          <td>   353</td>      <th>  BIC:               </th> <td>   1956.</td> \n",
       "</tr>\n",
       "<tr>\n",
       "  <th>Df Model:</th>              <td>     8</td>      <th>                     </th>     <td> </td>    \n",
       "</tr>\n",
       "<tr>\n",
       "  <th>Covariance Type:</th>      <td>nonrobust</td>    <th>                     </th>     <td> </td>    \n",
       "</tr>\n",
       "</table>\n",
       "<table class=\"simpletable\">\n",
       "<tr>\n",
       "       <td></td>          <th>coef</th>     <th>std err</th>      <th>t</th>      <th>P>|t|</th>  <th>[0.025</th>    <th>0.975]</th>  \n",
       "</tr>\n",
       "<tr>\n",
       "  <th>const</th>       <td>    1.3683</td> <td>    0.742</td> <td>    1.845</td> <td> 0.066</td> <td>   -0.091</td> <td>    2.827</td>\n",
       "</tr>\n",
       "<tr>\n",
       "  <th>meantempm_1</th> <td>   -0.9105</td> <td>    0.398</td> <td>   -2.286</td> <td> 0.023</td> <td>   -1.694</td> <td>   -0.127</td>\n",
       "</tr>\n",
       "<tr>\n",
       "  <th>maxtempm_1</th>  <td>    1.1431</td> <td>    0.201</td> <td>    5.674</td> <td> 0.000</td> <td>    0.747</td> <td>    1.539</td>\n",
       "</tr>\n",
       "<tr>\n",
       "  <th>mintempm_1</th>  <td>    0.8269</td> <td>    0.213</td> <td>    3.885</td> <td> 0.000</td> <td>    0.408</td> <td>    1.246</td>\n",
       "</tr>\n",
       "<tr>\n",
       "  <th>mindewptm_1</th> <td>    0.2399</td> <td>    0.067</td> <td>    3.573</td> <td> 0.000</td> <td>    0.108</td> <td>    0.372</td>\n",
       "</tr>\n",
       "<tr>\n",
       "  <th>meantempm_2</th> <td>   -0.3430</td> <td>    0.393</td> <td>   -0.873</td> <td> 0.383</td> <td>   -1.116</td> <td>    0.430</td>\n",
       "</tr>\n",
       "<tr>\n",
       "  <th>maxdewptm_1</th> <td>   -0.3741</td> <td>    0.064</td> <td>   -5.876</td> <td> 0.000</td> <td>   -0.499</td> <td>   -0.249</td>\n",
       "</tr>\n",
       "<tr>\n",
       "  <th>maxtempm_2</th>  <td>    0.0712</td> <td>    0.211</td> <td>    0.337</td> <td> 0.736</td> <td>   -0.345</td> <td>    0.487</td>\n",
       "</tr>\n",
       "<tr>\n",
       "  <th>mintempm_2</th>  <td>    0.1978</td> <td>    0.206</td> <td>    0.959</td> <td> 0.338</td> <td>   -0.208</td> <td>    0.604</td>\n",
       "</tr>\n",
       "</table>\n",
       "<table class=\"simpletable\">\n",
       "<tr>\n",
       "  <th>Omnibus:</th>       <td>19.671</td> <th>  Durbin-Watson:     </th> <td>   1.995</td>\n",
       "</tr>\n",
       "<tr>\n",
       "  <th>Prob(Omnibus):</th> <td> 0.000</td> <th>  Jarque-Bera (JB):  </th> <td>  26.959</td>\n",
       "</tr>\n",
       "<tr>\n",
       "  <th>Skew:</th>          <td>-0.430</td> <th>  Prob(JB):          </th> <td>1.40e-06</td>\n",
       "</tr>\n",
       "<tr>\n",
       "  <th>Kurtosis:</th>      <td> 4.024</td> <th>  Cond. No.          </th> <td>    174.</td>\n",
       "</tr>\n",
       "</table>"
      ],
      "text/plain": [
       "<class 'statsmodels.iolib.summary.Summary'>\n",
       "\"\"\"\n",
       "                            OLS Regression Results                            \n",
       "==============================================================================\n",
       "Dep. Variable:              meantempm   R-squared:                       0.875\n",
       "Model:                            OLS   Adj. R-squared:                  0.872\n",
       "Method:                 Least Squares   F-statistic:                     308.1\n",
       "Date:                Fri, 30 Mar 2018   Prob (F-statistic):          3.83e-154\n",
       "Time:                        23:39:21   Log-Likelihood:                -951.71\n",
       "No. Observations:                 362   AIC:                             1921.\n",
       "Df Residuals:                     353   BIC:                             1956.\n",
       "Df Model:                           8                                         \n",
       "Covariance Type:            nonrobust                                         \n",
       "===============================================================================\n",
       "                  coef    std err          t      P>|t|      [0.025      0.975]\n",
       "-------------------------------------------------------------------------------\n",
       "const           1.3683      0.742      1.845      0.066      -0.091       2.827\n",
       "meantempm_1    -0.9105      0.398     -2.286      0.023      -1.694      -0.127\n",
       "maxtempm_1      1.1431      0.201      5.674      0.000       0.747       1.539\n",
       "mintempm_1      0.8269      0.213      3.885      0.000       0.408       1.246\n",
       "mindewptm_1     0.2399      0.067      3.573      0.000       0.108       0.372\n",
       "meantempm_2    -0.3430      0.393     -0.873      0.383      -1.116       0.430\n",
       "maxdewptm_1    -0.3741      0.064     -5.876      0.000      -0.499      -0.249\n",
       "maxtempm_2      0.0712      0.211      0.337      0.736      -0.345       0.487\n",
       "mintempm_2      0.1978      0.206      0.959      0.338      -0.208       0.604\n",
       "==============================================================================\n",
       "Omnibus:                       19.671   Durbin-Watson:                   1.995\n",
       "Prob(Omnibus):                  0.000   Jarque-Bera (JB):               26.959\n",
       "Skew:                          -0.430   Prob(JB):                     1.40e-06\n",
       "Kurtosis:                       4.024   Cond. No.                         174.\n",
       "==============================================================================\n",
       "\n",
       "Warnings:\n",
       "[1] Standard Errors assume that the covariance matrix of the errors is correctly specified.\n",
       "\"\"\""
      ]
     },
     "execution_count": 299,
     "metadata": {},
     "output_type": "execute_result"
    }
   ],
   "source": [
    "ols_X_df = ols_X_df.drop('meandewptm_1', axis = 1)\n",
    "#print(ols_X_df)\n",
    "model = sm.OLS(ols_y_df, ols_X_df).fit()\n",
    "ols_predictions = model.predict(ols_X_df)\n",
    "model.summary()"
   ]
  },
  {
   "cell_type": "markdown",
   "metadata": {},
   "source": [
    "__Interpreting the table__ \n",
    "\n",
    "After removing meandewptm_3, two major situations occurred on the p-value of other variables: one is no change, the other is slightly change. In this table, meandewptm_2 has the greatest p-value 0.930, it is still greater than 0.05. To avoid too much repitition in this tutorial, I would do the following operation in the next cell and not display the output of any temporary models."
   ]
  },
  {
   "cell_type": "code",
   "execution_count": 300,
   "metadata": {
    "scrolled": true
   },
   "outputs": [
    {
     "data": {
      "text/html": [
       "<table class=\"simpletable\">\n",
       "<caption>OLS Regression Results</caption>\n",
       "<tr>\n",
       "  <th>Dep. Variable:</th>        <td>meantempm</td>    <th>  R-squared:         </th> <td>   0.873</td> \n",
       "</tr>\n",
       "<tr>\n",
       "  <th>Model:</th>                   <td>OLS</td>       <th>  Adj. R-squared:    </th> <td>   0.871</td> \n",
       "</tr>\n",
       "<tr>\n",
       "  <th>Method:</th>             <td>Least Squares</td>  <th>  F-statistic:       </th> <td>   489.3</td> \n",
       "</tr>\n",
       "<tr>\n",
       "  <th>Date:</th>             <td>Fri, 30 Mar 2018</td> <th>  Prob (F-statistic):</th> <td>4.63e-157</td>\n",
       "</tr>\n",
       "<tr>\n",
       "  <th>Time:</th>                 <td>23:39:22</td>     <th>  Log-Likelihood:    </th> <td> -954.22</td> \n",
       "</tr>\n",
       "<tr>\n",
       "  <th>No. Observations:</th>      <td>   362</td>      <th>  AIC:               </th> <td>   1920.</td> \n",
       "</tr>\n",
       "<tr>\n",
       "  <th>Df Residuals:</th>          <td>   356</td>      <th>  BIC:               </th> <td>   1944.</td> \n",
       "</tr>\n",
       "<tr>\n",
       "  <th>Df Model:</th>              <td>     5</td>      <th>                     </th>     <td> </td>    \n",
       "</tr>\n",
       "<tr>\n",
       "  <th>Covariance Type:</th>      <td>nonrobust</td>    <th>                     </th>     <td> </td>    \n",
       "</tr>\n",
       "</table>\n",
       "<table class=\"simpletable\">\n",
       "<tr>\n",
       "       <td></td>          <th>coef</th>     <th>std err</th>      <th>t</th>      <th>P>|t|</th>  <th>[0.025</th>    <th>0.975]</th>  \n",
       "</tr>\n",
       "<tr>\n",
       "  <th>const</th>       <td>    0.6926</td> <td>    0.639</td> <td>    1.083</td> <td> 0.279</td> <td>   -0.565</td> <td>    1.950</td>\n",
       "</tr>\n",
       "<tr>\n",
       "  <th>meantempm_1</th> <td>   -0.9651</td> <td>    0.397</td> <td>   -2.434</td> <td> 0.015</td> <td>   -1.745</td> <td>   -0.185</td>\n",
       "</tr>\n",
       "<tr>\n",
       "  <th>maxtempm_1</th>  <td>    1.1483</td> <td>    0.201</td> <td>    5.705</td> <td> 0.000</td> <td>    0.752</td> <td>    1.544</td>\n",
       "</tr>\n",
       "<tr>\n",
       "  <th>mintempm_1</th>  <td>    0.8100</td> <td>    0.213</td> <td>    3.806</td> <td> 0.000</td> <td>    0.392</td> <td>    1.229</td>\n",
       "</tr>\n",
       "<tr>\n",
       "  <th>mindewptm_1</th> <td>    0.2432</td> <td>    0.065</td> <td>    3.718</td> <td> 0.000</td> <td>    0.115</td> <td>    0.372</td>\n",
       "</tr>\n",
       "<tr>\n",
       "  <th>maxdewptm_1</th> <td>   -0.3829</td> <td>    0.063</td> <td>   -6.061</td> <td> 0.000</td> <td>   -0.507</td> <td>   -0.259</td>\n",
       "</tr>\n",
       "</table>\n",
       "<table class=\"simpletable\">\n",
       "<tr>\n",
       "  <th>Omnibus:</th>       <td>16.753</td> <th>  Durbin-Watson:     </th> <td>   1.894</td>\n",
       "</tr>\n",
       "<tr>\n",
       "  <th>Prob(Omnibus):</th> <td> 0.000</td> <th>  Jarque-Bera (JB):  </th> <td>  23.168</td>\n",
       "</tr>\n",
       "<tr>\n",
       "  <th>Skew:</th>          <td>-0.371</td> <th>  Prob(JB):          </th> <td>9.31e-06</td>\n",
       "</tr>\n",
       "<tr>\n",
       "  <th>Kurtosis:</th>      <td> 3.992</td> <th>  Cond. No.          </th> <td>    113.</td>\n",
       "</tr>\n",
       "</table>"
      ],
      "text/plain": [
       "<class 'statsmodels.iolib.summary.Summary'>\n",
       "\"\"\"\n",
       "                            OLS Regression Results                            \n",
       "==============================================================================\n",
       "Dep. Variable:              meantempm   R-squared:                       0.873\n",
       "Model:                            OLS   Adj. R-squared:                  0.871\n",
       "Method:                 Least Squares   F-statistic:                     489.3\n",
       "Date:                Fri, 30 Mar 2018   Prob (F-statistic):          4.63e-157\n",
       "Time:                        23:39:22   Log-Likelihood:                -954.22\n",
       "No. Observations:                 362   AIC:                             1920.\n",
       "Df Residuals:                     356   BIC:                             1944.\n",
       "Df Model:                           5                                         \n",
       "Covariance Type:            nonrobust                                         \n",
       "===============================================================================\n",
       "                  coef    std err          t      P>|t|      [0.025      0.975]\n",
       "-------------------------------------------------------------------------------\n",
       "const           0.6926      0.639      1.083      0.279      -0.565       1.950\n",
       "meantempm_1    -0.9651      0.397     -2.434      0.015      -1.745      -0.185\n",
       "maxtempm_1      1.1483      0.201      5.705      0.000       0.752       1.544\n",
       "mintempm_1      0.8100      0.213      3.806      0.000       0.392       1.229\n",
       "mindewptm_1     0.2432      0.065      3.718      0.000       0.115       0.372\n",
       "maxdewptm_1    -0.3829      0.063     -6.061      0.000      -0.507      -0.259\n",
       "==============================================================================\n",
       "Omnibus:                       16.753   Durbin-Watson:                   1.894\n",
       "Prob(Omnibus):                  0.000   Jarque-Bera (JB):               23.168\n",
       "Skew:                          -0.371   Prob(JB):                     9.31e-06\n",
       "Kurtosis:                       3.992   Cond. No.                         113.\n",
       "==============================================================================\n",
       "\n",
       "Warnings:\n",
       "[1] Standard Errors assume that the covariance matrix of the errors is correctly specified.\n",
       "\"\"\""
      ]
     },
     "execution_count": 300,
     "metadata": {},
     "output_type": "execute_result"
    }
   ],
   "source": [
    "ols_X_df = ols_X_df.drop('maxtempm_2', axis = 1)     # p-value = 0.736\n",
    "ols_X_df = ols_X_df.drop('mintempm_2', axis = 1)     # p-value = 0.194\n",
    "ols_X_df = ols_X_df.drop('meantempm_2', axis = 1)    # p-value = 0.078\n",
    "\n",
    "model = sm.OLS(ols_y_df, ols_X_df).fit()\n",
    "ols_predictions = model.predict(ols_X_df)\n",
    "model.summary()"
   ]
  },
  {
   "cell_type": "markdown",
   "metadata": {},
   "source": [
    "__Interpreting the table__ \n",
    "\n",
    "I recorded the greatest p-value of each iteration and found out that the greatest p-value is always decreasing, in the end, all the p-values are below the fixed $\\alpha$ value 0.05. Meanwhile, after the step-wise regression, the number of features decreased from 9 to 5.\n",
    "\n",
    "The other value I paied close attention to is the R-squared and Adj.R-squared, the value of R-squared and Adj.R-squared are 0.873 and 0.871, pretty similar, which means that this model has little possibility of overfitting and explains about 87% of the observed variation in the dependent variable."
   ]
  },
  {
   "cell_type": "code",
   "execution_count": 301,
   "metadata": {},
   "outputs": [
    {
     "name": "stdout",
     "output_type": "stream",
     "text": [
      "date\n",
      "2017-01-03     3.108244\n",
      "2017-01-04     6.981042\n",
      "2017-01-05    -2.214546\n",
      "2017-01-06    -5.358183\n",
      "2017-01-07    -9.383700\n",
      "2017-01-08    -8.050584\n",
      "2017-01-09    -8.581216\n",
      "2017-01-10    -4.189029\n",
      "2017-01-11     0.433739\n",
      "2017-01-12     7.206857\n",
      "2017-01-13     8.197649\n",
      "2017-01-14    -0.436908\n",
      "2017-01-15    -0.864036\n",
      "2017-01-16    -0.848208\n",
      "2017-01-17    -1.203944\n",
      "2017-01-18     9.083561\n",
      "2017-01-19     5.691942\n",
      "2017-01-20     5.680888\n",
      "2017-01-21     6.795101\n",
      "2017-01-22    12.315320\n",
      "2017-01-23    13.170032\n",
      "2017-01-24     4.271149\n",
      "2017-01-25     3.244612\n",
      "2017-01-26     7.605599\n",
      "2017-01-27     2.731481\n",
      "2017-01-28    -0.376410\n",
      "2017-01-29     0.344747\n",
      "2017-01-30    -0.723123\n",
      "2017-01-31    -3.468009\n",
      "2017-02-01    -1.424422\n",
      "                ...    \n",
      "2017-12-01     9.007789\n",
      "2017-12-02     5.193262\n",
      "2017-12-03     4.067707\n",
      "2017-12-04     6.730611\n",
      "2017-12-05     9.953446\n",
      "2017-12-06     2.081062\n",
      "2017-12-07     4.140565\n",
      "2017-12-08     0.380493\n",
      "2017-12-09    -5.578264\n",
      "2017-12-10    -2.300102\n",
      "2017-12-11    -0.847000\n",
      "2017-12-12     2.853783\n",
      "2017-12-13    -3.794863\n",
      "2017-12-14    -6.544235\n",
      "2017-12-15    -4.521715\n",
      "2017-12-16    -3.297104\n",
      "2017-12-17     2.198362\n",
      "2017-12-18     1.911594\n",
      "2017-12-19     4.288938\n",
      "2017-12-20     9.174565\n",
      "2017-12-21     0.223752\n",
      "2017-12-22     3.530270\n",
      "2017-12-23     4.842528\n",
      "2017-12-24     3.217443\n",
      "2017-12-25     1.927421\n",
      "2017-12-26    -5.356054\n",
      "2017-12-27    -7.212908\n",
      "2017-12-28   -10.340708\n",
      "2017-12-29   -10.552261\n",
      "2017-12-30    -8.728735\n",
      "Length: 362, dtype: float64\n"
     ]
    }
   ],
   "source": [
    "print(ols_predictions)"
   ]
  },
  {
   "cell_type": "markdown",
   "metadata": {},
   "source": [
    "### Apply gradient descent\n",
    "\n",
    "To produce predictions, there are lots of various approaches besides the above simple ordinary squares model OLS Statsmodels, in this tutorial, I would like to realize another common method, gradient descent. Instead of directly using the stochastic gradient descent regression SGDRegression Scikit Learn, I tried to implement the process of gradient descent without the help of libraries.\n",
    "\n",
    "__Step1  Normalize the features__\n",
    "\n",
    "Normalizing the features amis to get all the data on the same scale. If the scales for different features are widly different, this can have a knock-on effect on learning ability. In that case, ensuaring standardised feature values implicitly weights all features equally in their representation."
   ]
  },
  {
   "cell_type": "code",
   "execution_count": 302,
   "metadata": {},
   "outputs": [],
   "source": [
    "f_df = new_df[features_col]   # features\n",
    "t_df = new_df['meantempm']    # target\n",
    "mu = f_df.mean()\n",
    "sigma = f_df.std()\n",
    "n_f_df = (f_df - mu) / sigma\n",
    "#print(n_f_df)\n",
    "#print(mu)\n",
    "#print(sigma)"
   ]
  },
  {
   "cell_type": "markdown",
   "metadata": {},
   "source": [
    "__Step2 Initialize the parameters__\n",
    "\n",
    "To make the calculation more convenient, I converted the Pandas DataFrame feature dataframe f_df and target fataframe t_df to numpy arrays. In gradient descent, the size of the steps to take is called the learning rate, often represented by $\\alpha$. With a high learning rate the process can cover more ground each step, but it is risky of overshooting the lowest point since the slope of the hill is constantly changing. However, with a very low learning rate, the calculation of gradient descent may be very time-comsuming though it may be more precise. To balance both situation, I chose $\\alpha$ as 0.1, and set the number of iteration as 50."
   ]
  },
  {
   "cell_type": "code",
   "execution_count": 303,
   "metadata": {},
   "outputs": [],
   "source": [
    "n_f_df['ones'] = np.ones(len(t_df))\n",
    "#print(n_f_df)\n",
    "f_arr = np.array(n_f_df)\n",
    "t_arr = np.array(t_df)\n",
    "#print(f_arr)\n",
    "#print(t_arr)\n",
    "alpha = 0.1\n",
    "num_iter = 50"
   ]
  },
  {
   "cell_type": "markdown",
   "metadata": {},
   "source": [
    "__Step3 Gradient descent__\n",
    "\n",
    "For linear regression, the hypothesis function is $h_{\\theta}(x_{1}, x_{2}, ..., x_{n}) = \\theta_{0} + \\theta_{1}x_{1} + ... + \\theta_{n}x_{n}$, where $\\theta_{i}(i = 0,1,2,...,n)$ is the model parameter, $x_{i}(i = 0,1,2,...,n)$ is the feature vector of data. I initialized all the $\\theta$ as zero, and adjust the value of $\\theta$ in each iteration. Below is the process for each iteration:\n",
    "\n",
    "1. Calculate the gradient of the current position\n",
    "2. Update the value of $\\theta$ according to the fixed $\\alpha$ and calculated $\\delta$\n",
    "3. Calculate the sum of squared error, the loss function is $J(\\theta_{0}, \\theta_{1}, ..., \\theta_{n}) = \\frac{1}{2n}\\sum^{n}_{i=0}(h_{\\theta}(x^{i}_{0}, x^{i}_{1}, ..., x^{i}_{n}) - y_{i})^{2}$\n",
    "4. Put the cost into the cost history array, this history array is used to record the whole iteration process\n",
    "5. Repeat Step1 to Step4 until there are enough iterations"
   ]
  },
  {
   "cell_type": "code",
   "execution_count": 304,
   "metadata": {},
   "outputs": [],
   "source": [
    "history = []\n",
    "length = len(t_arr)\n",
    "theta = np.zeros(len(n_f_df.columns))\n",
    "for i in range(num_iter):\n",
    "    delta = (np.dot((t_arr - np.dot(f_arr, theta)), f_arr)) / length\n",
    "    theta = theta + alpha * delta\n",
    "    sum_square_err = np.square(np.dot(f_arr, theta) - t_arr).sum()\n",
    "    cost = sum_square_err / (2 * length)\n",
    "    history.append(cost)\n",
    "#print(theta)\n",
    "#print(history)"
   ]
  },
  {
   "cell_type": "markdown",
   "metadata": {},
   "source": [
    "__Step4 Make predictions__\n",
    "\n",
    "Knowing the value of $\\theta$, predictions can be made by multipying the feature array and the $\\theta$ value."
   ]
  },
  {
   "cell_type": "code",
   "execution_count": 305,
   "metadata": {
    "scrolled": true
   },
   "outputs": [
    {
     "name": "stdout",
     "output_type": "stream",
     "text": [
      "[  5.98681198   8.55750175   0.61208154  -4.91286095  -8.50949936\n",
      "  -8.68669995  -9.11232747  -6.64146136   1.75509689   8.18015145\n",
      "  10.65448697   0.99899929   0.72588377   0.10532834   1.50636409\n",
      "   9.67051774   7.21471741   4.89725757   7.82151907  12.30176129\n",
      "  12.51656767   6.56685092   4.37127629   7.70599183   5.7424689\n",
      "   0.33190166   0.36318333  -0.13826051  -2.53416563   0.15765909\n",
      "   2.53547653  -0.99771891  -3.89645169  -3.95006967   1.75590361\n",
      "   6.19398151  12.0377506    6.6809943   -3.00149165  -2.70888704\n",
      "   6.95036      7.20745062   1.80043816   3.75219286   2.29785686\n",
      "  -2.01010196   3.71118176  11.8890689   11.76555756   9.56491101\n",
      "  12.69109781  13.66910757  15.76442359  17.86921339   7.79253556\n",
      "   1.06394645   3.48586679   8.85449337   9.84810958   1.11150289\n",
      "  -1.99796242  -1.85127454  -0.0272067    7.12671069  10.92824338\n",
      "   7.0333824    6.83725443  -1.54954198  -4.75956211  -3.90325437\n",
      "  -0.67165536  -2.05676077  -4.78394518  -1.11655408   0.58793519\n",
      "   4.38393773   4.08625997   6.87115184   9.99090516  -0.07444191\n",
      "   1.4065816   11.22533067  18.81497525  14.33456812  15.69505423\n",
      "  12.19114234  10.63514657   9.40466917  10.72340168   6.2895703\n",
      "   8.21022364  13.93038289  14.2032567   13.8953123    9.5402802\n",
      "   2.77675962   6.58544648  11.21617661  17.25411343  15.91234537\n",
      "  13.00763193  10.75945687  14.73756853  17.53746924  18.90341142\n",
      "  14.60525959  13.60861849  16.28894439  19.16885839  14.77708416\n",
      "   9.12092145  10.88244789  11.33819912  12.97632182  17.68585983\n",
      "  19.51554077  15.74962585  17.35207674  21.27242332  19.13286872\n",
      "  12.57468034  10.33100038  12.84934256  16.03825701   7.51229445\n",
      "   8.80363394   8.25037456   9.50741737  14.4547238   11.41464768\n",
      "  11.59382639  13.53423971  14.37948369  13.21082994  16.74096573\n",
      "  22.38217419  22.52658924  21.68151263  17.61913813  18.67302038\n",
      "  15.65769142  15.61001619  16.40331612  16.50735015  16.46942062\n",
      "  17.03113213  19.15222643  19.20501846  19.41440517  18.25319459\n",
      "  16.68503252  17.08502604  19.03705032  20.43792322  18.61606192\n",
      "  14.86839171  14.34179829  15.56638781  17.82967458  20.85740496\n",
      "  22.02186279  23.21071942  24.09414251  22.91872398  23.72547631\n",
      "  22.07314468  22.49755     24.30989646  20.14939182  18.66342711\n",
      "  19.75308026  22.33035572  21.3925357   21.08693193  18.63365049\n",
      "  17.14732924  16.10932584  16.23260513  20.6669856   22.75361427\n",
      "  22.90568847  22.37753649  22.00429747  22.21374379  22.88490786\n",
      "  22.27813655  22.15652037  20.22440974  18.49730559  20.28491669\n",
      "  22.15702957  24.25976903  22.38674821  23.42488969  21.25269388\n",
      "  21.41026842  22.37607062  23.62471753  24.97211653  24.73163451\n",
      "  24.77828409  22.92368214  22.50946252  20.92181375  19.49529504\n",
      "  20.62283498  21.84030846  21.07336843  17.68820964  21.02618085\n",
      "  21.63544928  21.40369938  22.0006685   22.19110298  21.83244288\n",
      "  17.75990308  17.96811001  18.03453839  17.81793278  18.07713494\n",
      "  19.75857992  21.2365051   20.54410074  19.72226878  20.23180425\n",
      "  22.86622576  22.82158379  23.21756589  23.13806294  21.38184304\n",
      "  20.4022709   22.75508582  23.88306225  19.47345203  17.8191435\n",
      "  16.37537195  16.81650719  18.5985505   18.24908288  18.69729338\n",
      "  18.81129514  18.05624237  13.31965564  15.01037418  17.19816207\n",
      "  19.57633853  18.59107219  16.06443344  13.9980508   14.99806447\n",
      "  13.82948238  13.52027971  14.67951522  16.4428874   20.28521845\n",
      "  18.09526387  17.46046565  20.57658494  21.21521283  21.53878503\n",
      "  21.62574954  21.51867483  21.9658381   21.5192788   21.62092912\n",
      "  22.70935616  23.24433882  24.04815109  23.23114681  15.94068844\n",
      "  15.3577558   12.51260717  13.11604188  14.58636374  16.55135504\n",
      "  18.43541361  18.15971159  18.94931863  21.24006411  20.25287221\n",
      "  21.81339251  20.76271281  20.2198884   17.45998535  17.69157539\n",
      "  18.27279381  18.5647094   10.38270538   9.80372062  12.82304015\n",
      "  13.82512924  14.83936047  15.43276415  17.06035917  15.41402326\n",
      "  11.42693974   6.67825067   7.4797625   11.93935261   8.94950063\n",
      "   5.54899851   6.0055193    5.14344106   6.10389922  14.20775814\n",
      "  11.55683911   9.97267522  15.29344141   9.36249257   3.7941005\n",
      "   4.90023669   6.35234803  -0.47005889  -1.66319856   3.23424094\n",
      "   5.54555039   4.97589659   4.73696355   6.00371853   4.12988834\n",
      "   7.67178119   6.15895855   2.84807848   7.09132819   3.85493954\n",
      "   1.3323001    4.83760456   8.66605659   4.62285028   6.39765079\n",
      "   9.91956073   7.70326568   8.90785285   5.37564979   3.80379298\n",
      "   5.42485802   7.874686     6.02623485   2.80654151   0.25985181\n",
      "  -6.33860468  -1.84610883  -0.67493014   1.78247024  -2.44351198\n",
      "  -5.86749914  -2.88089483  -3.67906059   1.26900438   2.42239685\n",
      "   4.5998156    8.61678279   1.74926552   2.01507905   7.23257288\n",
      "   6.40737047   1.98036249  -2.64248956  -7.14145238  -9.72647573\n",
      " -10.98812212  -7.9980788 ]\n"
     ]
    }
   ],
   "source": [
    "gd_predictions = np.dot(f_arr, theta)\n",
    "print(gd_predictions)"
   ]
  },
  {
   "cell_type": "markdown",
   "metadata": {},
   "source": [
    "__Step5 Visualize__\n",
    "\n",
    "In order to make the accuracy of the predictions more intuitive, I plotted the differences between the observed values and the estimated values in a histogram."
   ]
  },
  {
   "cell_type": "code",
   "execution_count": 306,
   "metadata": {
    "scrolled": true
   },
   "outputs": [
    {
     "data": {
      "image/png": "[encoded data removed]",
      "text/plain": [
       "<matplotlib.figure.Figure at 0x1c23a8fa58>"
      ]
     },
     "metadata": {},
     "output_type": "display_data"
    }
   ],
   "source": [
    "tmp = new_df['meantempm'] - gd_predictions\n",
    "plt.style.use('seaborn-whitegrid')\n",
    "plt.hist(tmp, bins=200, alpha = 0.75)\n",
    "plt.show()"
   ]
  },
  {
   "cell_type": "markdown",
   "metadata": {},
   "source": [
    "__Step6 Calculate coefficient, $R^{2}$__\n",
    "\n",
    "The statsmodel provides the value of coefficient, $R^{2}$, and so on, in this step, I calculated the coefficients for each feature and used sklearn and scipy to calculate the value of $R^2$."
   ]
  },
  {
   "cell_type": "code",
   "execution_count": 307,
   "metadata": {},
   "outputs": [
    {
     "name": "stdout",
     "output_type": "stream",
     "text": [
      "[ 2.33353999  3.10121458  1.85364319  1.31896234  0.37294288  0.0289433\n",
      " -0.45716668  0.02969773  0.14181022 12.04808246]\n",
      "0.8501215700400303\n",
      "0.8505362015040713\n"
     ]
    }
   ],
   "source": [
    "from sklearn import linear_model\n",
    "from sklearn.metrics import r2_score\n",
    "from scipy.stats import linregress\n",
    "print(theta) # coefficients\n",
    "print(r2_score(new_df['meantempm'], gd_predictions)) # sklearn.metrics\n",
    "slope, intercept, r_value, p_value, std_err = linregress(new_df['meantempm'], gd_predictions)\n",
    "print(r_value**2) #scipy.stats"
   ]
  },
  {
   "cell_type": "markdown",
   "metadata": {},
   "source": [
    "In this model, the value of $\\theta$ is the coefficient, and the two libraries I used in calculating the value of $R^2$ led to pretty similar result, around 0.85."
   ]
  },
  {
   "cell_type": "markdown",
   "metadata": {},
   "source": [
    "### Conclusion\n",
    "\n",
    "In this tutorial, I demonstrated how to use the Linear Regression model to predict future mean temperatures based on the weather data collected from the website Weather Underground using API. After collecting data, I did some initial cleaning steps to obtain qualified data, which ensures that the follow-up modelling and predicting. Later, I calculated the correlation coefficient of each feature in order to select more related features as predictors. However, this is not enough. In order to make robust predictions, I realized two common linear regression modelling methods. One is using statsmodel library and build an OLS model, the other is applying gradient descent and let the model converge to the best situation.\n",
    "\n",
    "To clearly represent the results and make it easier for people to compare and judge, I took two major measures, calculating the coefficients, $R^{2}$, and so on to picture the model, meanwhile, plot out the histogram and use visualization to make an impress. The results of both methods turn out to be similar, and both models have high accuracy."
   ]
  }
 ],
 "metadata": {
  "kernelspec": {
   "display_name": "Python 3",
   "language": "python",
   "name": "python3"
  },
  "language_info": {
   "codemirror_mode": {
    "name": "ipython",
    "version": 3
   },
   "file_extension": ".py",
   "mimetype": "text/x-python",
   "name": "python",
   "nbconvert_exporter": "python",
   "pygments_lexer": "ipython3",
   "version": "3.6.4"
  }
 },
 "nbformat": 4,
 "nbformat_minor": 2
}
