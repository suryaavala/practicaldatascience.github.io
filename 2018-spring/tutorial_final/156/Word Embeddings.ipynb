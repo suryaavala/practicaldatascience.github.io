{
 "cells": [
  {
   "cell_type": "markdown",
   "metadata": {},
   "source": [
    "# Introduction\n",
    "\n",
    "This tutorial aims to explain you what word embeddings are, how to create the word embeddings and how to use the created embeddings to perform sentiment analysis on tweets. The tutorial uses keras, a neural network library built on TensorFlow, Theano, Microsoft Cognitive Toolkit and MXNet.\n",
    "\n",
    "Word embeddings are numerical representations of text which would be able to closely represent the usage of a word in the text. If our training text (the text used to obtain the word embeddings) is large enough, we might get close to a generic representation of the words. \n",
    "\n",
    "\n",
    "A Word Embedding format generally tries to map a word using a dictionary to a vector. Each word is represented as a vector of real numbers forming the embedding.\n",
    "\n",
    "### Different type of word embeddings:\n",
    "#### Frequency based Embedding\n",
    "Frequent based embeddings as the term suggests, represent the frequency of the words in the documents in the form of a vector.\n",
    "Each vector has 'n' real numbers representing the frequency of the word in some form for 'n' documents.\n",
    "\n",
    "Some of the popularly used frequency based embeddings:\n",
    "\n",
    "1.Count Vector:\n",
    "It is a simple counter on the given document. The word frequencies are taken into a vector in order to be used for various operations like genreating ranks, finding PMI, etc.\n",
    "\n",
    "A popular way to do this would be to use count vectorizers.\n",
    "\n",
    "2.TF-IDF Vector: tf–idf or TFIDF, short for term frequency–inverse document frequency, is a numerical statistic that is intended to reflect how important a word is to a document in a collection or corpus. It is often used as a weighting factor in searches of information retrieval, text mining, and user modeling.\n",
    "\n",
    "3.Co-Occurrence Vector: It provides information about the occurance of given two words in various documents. This is useful find relationsips among various words.\n",
    "\n",
    "A co-occurrence matrix of size V X V. Now, for even a decent corpus V gets very large and difficult to handle. So generally, this architecture is never preferred in practice.\n",
    "\n",
    "A co-occurrence matrix of size V X N where N is a subset of V and can be obtained by removing irrelevant words like stopwords etc. for example. This is still very large and presents computational difficulties.\n",
    "\n",
    "#### Prediction based Embedding\n",
    "A Prediciton based embedding usually represents the probablity of a word occuring given a preset of words. These embeddings are largely based on nueral nets and popularly used in generating embeddings like word2vec, GloVe.\n",
    "\n",
    "1.Continuous Bag of words: We use CBOW to get the probability of a word given the context.\n",
    "\n",
    "2.Skip – Gram model: Skip-gram is the reverse of CBOW, here we try to predict the context given a word.\n",
    "\n",
    "## Word embedding use-cases:\n",
    "\n",
    "Since words embeddings are representations of words in numerical forms, we can use these to find similarities among words, find the odd words, perform sentiment analysis, find similar users based on their review texts, and whole lot of other things.\n",
    "\n",
    "\n",
    "## How to generate a word embedding:\n",
    "\n",
    "There are many different forms of embeddings and many different ways to generate them, in this tutorial, we'll be using keras to generate the word embedding and we'll be using the same embedding to perform sentiment analysis on tweets.\n",
    "\n",
    "### Installing the librarires:\n",
    "\n",
    "#### Keras:\n",
    "\n",
    "##### First, clone the library using git:\n",
    "\n",
    "git clone https://github.com/keras-team/keras.git\n",
    "\n",
    "##### Install the library using python:\n",
    "\n",
    "cd keras\n",
    "sudo python setup.py install\n",
    "\n",
    "#### For Anaconda users on Windows:\n",
    "\n",
    "\n",
    "conda install mingw libpython\n",
    "pip install git+git://github.com/Theano/Theano.git\n",
    "pip install git+git://github.com/fchollet/keras.git\n",
    "\n",
    "\n",
    "referred from: https://stackoverflow.com/questions/34097988/how-do-i-install-keras-and-theano-in-anaconda-python-on-windows\n",
    "\n",
    "\n",
    "\n"
   ]
  },
  {
   "cell_type": "markdown",
   "metadata": {},
   "source": [
    "## Let's get started on learning the word embeddings for tweets:\n",
    "\n",
    "### First, let's download our data for the tweets:"
   ]
  },
  {
   "cell_type": "code",
   "execution_count": 127,
   "metadata": {},
   "outputs": [
    {
     "data": {
      "text/plain": [
       "('data.zip', <http.client.HTTPMessage at 0x210653c1470>)"
      ]
     },
     "execution_count": 127,
     "metadata": {},
     "output_type": "execute_result"
    }
   ],
   "source": [
    "import urllib.request\n",
    "urllib.request.urlretrieve(\"https://dl.dropboxusercontent.com/s/jdu7t8gof9gdbir/data.zip?dl=0\", \"data.zip\")"
   ]
  },
  {
   "cell_type": "markdown",
   "metadata": {},
   "source": [
    "### extracting the data"
   ]
  },
  {
   "cell_type": "code",
   "execution_count": 130,
   "metadata": {},
   "outputs": [],
   "source": [
    "import zipfile\n",
    "with zipfile.ZipFile(\"data.zip\",\"r\") as zip_ref:\n",
    "    zip_ref.extractall(\".\")"
   ]
  },
  {
   "cell_type": "code",
   "execution_count": 118,
   "metadata": {},
   "outputs": [
    {
     "name": "stdout",
     "output_type": "stream",
     "text": [
      "   sentiment                                               text\n",
      "0          1  @stellargirl I loooooooovvvvvveee my Kindle2. ...\n",
      "1          1  Reading my kindle2...  Love it... Lee childs i...\n",
      "2          1  Ok, first assesment of the #kindle2 ...it fuck...\n",
      "3          1  @kenburbary You'll love your Kindle2. I've had...\n",
      "4          1  @mikefish  Fair enough. But i have the Kindle2...\n"
     ]
    }
   ],
   "source": [
    "#importing the datasets:\n",
    "import pandas as pd\n",
    "datafram = pd.read_csv(\"./data/train.csv\", sep=\",\", encoding=\"latin-1\", header = None)\n",
    "datafram = datafram[[0, 5]]\n",
    "datafram = datafram.dropna(axis = 0, how = \"any\")\n",
    "datafram.columns = ['sentiment', 'text']\n",
    "\n",
    "datafram1 = pd.read_csv(\"./data/test.csv\", sep=\",\", encoding=\"latin-1\", header = None)\n",
    "datafram1 = datafram1[[0, 5]]\n",
    "datafram1 = datafram1.dropna(axis = 0, how = \"any\")\n",
    "datafram1.columns = ['sentiment', 'text']\n",
    "\n",
    "print(datafram1.head())\n",
    "\n",
    "\n",
    "list_of_tweets = [string for string in datafram[\"text\"].head(n=5000)]\n",
    "sentiments_train = [sentiment for sentiment in datafram[\"sentiment\"].head(n=5000)]\n",
    "list_of_tweets_test = [string for string in datafram1[\"text\"].head(n=5000)]\n",
    "sentiments_test = [sentiment for sentiment in datafram1[\"sentiment\"].head(n=5000)]\n"
   ]
  },
  {
   "cell_type": "code",
   "execution_count": 95,
   "metadata": {},
   "outputs": [
    {
     "name": "stdout",
     "output_type": "stream",
     "text": [
      "498\n"
     ]
    }
   ],
   "source": [
    "print(len(list_of_tweets_test))"
   ]
  },
  {
   "cell_type": "markdown",
   "metadata": {},
   "source": [
    "#### let's consider the top(most frequent) 10000 words for our word embedding, the tokenizer get's the frequency of the words and puts in a matrix\n"
   ]
  },
  {
   "cell_type": "code",
   "execution_count": 125,
   "metadata": {},
   "outputs": [
    {
     "name": "stdout",
     "output_type": "stream",
     "text": [
      "The document 1 would be encoded to look like this:\n",
      "[3691, 68, 241, 87, 3692, 390, 161, 4, 1243, 12, 2350, 46, 807, 3693, 11, 1099, 39, 2, 37, 9, 454]\n",
      "The document 2 would be encoded to look like this:\n",
      "[7, 421, 19, 122, 44, 455, 216, 533, 132, 3694, 9, 6, 253, 339, 74, 4, 1449, 121, 35, 340, 971]\n",
      "The document 3 would be encoded to look like this:\n",
      "[3695, 1, 3696, 230, 348, 10, 3, 1450, 872, 2, 1451, 1452, 3, 407, 32, 34, 11, 3697]\n",
      "The document 4 would be encoded to look like this:\n",
      "[5, 559, 534, 358, 1100, 6, 38, 65, 17, 1244]\n",
      "The document 5 would be encoded to look like this:\n",
      "[3698, 30, 40, 16, 3699, 21, 33, 20, 619, 69, 55, 1, 102, 213, 1, 44, 94, 12, 33, 126, 98]\n"
     ]
    }
   ],
   "source": [
    "from keras.preprocessing.text import Tokenizer\n",
    "\n",
    "nb_words = 10000\n",
    "tokenizer = Tokenizer(num_words=nb_words)\n",
    "tokenizer.fit_on_texts(list_of_tweets)\n",
    "sequences = tokenizer.texts_to_sequences(list_of_tweets)\n",
    "sequences_test = tokenizer.texts_to_sequences(list_of_tweets_test)\n",
    "sequences = tokenizer.texts_to_sequences(list_of_tweets)\n",
    "\n",
    "for i,item in enumerate(sequences[:5]):\n",
    "    print(\"The document\", i+1,\"would be encoded to look like this:\")\n",
    "    print(item)"
   ]
  },
  {
   "cell_type": "markdown",
   "metadata": {},
   "source": [
    "Adding a padding to the tweets because not all tweets may of full length(each tweet can contain a max of 120 words(newer standard is 240 but our data contains a max of 120))"
   ]
  },
  {
   "cell_type": "code",
   "execution_count": 97,
   "metadata": {},
   "outputs": [],
   "source": [
    "from keras.preprocessing.sequence import pad_sequences\n",
    "\n",
    "max_len = 120\n",
    "padded_sequences_train = pad_sequences(sequences, maxlen=max_len)\n",
    "padded_sequences_test = pad_sequences(sequences_test, maxlen=max_len)"
   ]
  },
  {
   "cell_type": "markdown",
   "metadata": {},
   "source": [
    "let's build a model to obtain the embeddings and use it to classify the tweets\n",
    "We'll be using LSTM to build the neural network"
   ]
  },
  {
   "cell_type": "code",
   "execution_count": 98,
   "metadata": {},
   "outputs": [],
   "source": [
    "from keras.models import Sequential\n",
    "from keras.layers import Embedding\n",
    "from keras.layers import SimpleRNN\n",
    "from keras.layers import Dense\n",
    "from keras.layers import LSTM\n",
    "model = Sequential()"
   ]
  },
  {
   "cell_type": "markdown",
   "metadata": {},
   "source": [
    "### The entire set of words will be brought down to an emdedding of 25 dimensions\n",
    "### this is our embedding layer which would create word embeddings required for our classification\n"
   ]
  },
  {
   "cell_type": "code",
   "execution_count": 99,
   "metadata": {},
   "outputs": [],
   "source": [
    "model.add(Embedding(nb_words, 25))\n",
    "model.add(LSTM(25))"
   ]
  },
  {
   "cell_type": "markdown",
   "metadata": {},
   "source": [
    "\n",
    "### this would be our final activation layer which would classify the tweet's sentiment"
   ]
  },
  {
   "cell_type": "code",
   "execution_count": 100,
   "metadata": {},
   "outputs": [
    {
     "name": "stdout",
     "output_type": "stream",
     "text": [
      "_________________________________________________________________\n",
      "Layer (type)                 Output Shape              Param #   \n",
      "=================================================================\n",
      "embedding_15 (Embedding)     (None, None, 25)          250000    \n",
      "_________________________________________________________________\n",
      "lstm_14 (LSTM)               (None, 25)                5100      \n",
      "_________________________________________________________________\n",
      "dense_14 (Dense)             (None, 1)                 26        \n",
      "=================================================================\n",
      "Total params: 255,126\n",
      "Trainable params: 255,126\n",
      "Non-trainable params: 0\n",
      "_________________________________________________________________\n",
      "None\n"
     ]
    }
   ],
   "source": [
    "\n",
    "model.add(Dense(1, activation='sigmoid'))\n",
    "\n",
    "print(model.summary())"
   ]
  },
  {
   "cell_type": "markdown",
   "metadata": {},
   "source": [
    "#### Now that we have defined our model, let's train and validate on the data we have\n",
    "\n",
    "#### We'll be using an rmsprop optimizer which is a gradient descent optimization algorithm used to reach to an optimal solution"
   ]
  },
  {
   "cell_type": "code",
   "execution_count": 117,
   "metadata": {},
   "outputs": [],
   "source": [
    "model.compile(optimizer='rmsprop',\n",
    "              loss='binary_crossentropy',\n",
    "              metrics=['acc'])"
   ]
  },
  {
   "cell_type": "markdown",
   "metadata": {},
   "source": [
    "### spitting the data into train and test sets"
   ]
  },
  {
   "cell_type": "code",
   "execution_count": 103,
   "metadata": {},
   "outputs": [
    {
     "name": "stdout",
     "output_type": "stream",
     "text": [
      "Train on 5000 samples, validate on 498 samples\n",
      "Epoch 1/3\n",
      "5000/5000 [==============================] - 28s 6ms/step - loss: 4.7220e-06 - acc: 1.0000 - val_loss: 5.2298 - val_acc: 0.6345\n",
      "Epoch 2/3\n",
      "5000/5000 [==============================] - 28s 6ms/step - loss: 2.2370e-07 - acc: 1.0000 - val_loss: 5.8905 - val_acc: 0.6345\n",
      "Epoch 3/3\n",
      "5000/5000 [==============================] - 26s 5ms/step - loss: 1.0000e-07 - acc: 1.0000 - val_loss: 5.8905 - val_acc: 0.6345\n"
     ]
    }
   ],
   "source": [
    "from sklearn.model_selection import train_test_split\n",
    "\n",
    "#let's fit our data and validate it\n",
    "history = model.fit(padded_sequences_train, sentiments_train, epochs = 3,\n",
    "                    validation_data=(padded_sequences_test,sentiments_test))\n",
    "\n"
   ]
  },
  {
   "cell_type": "markdown",
   "metadata": {},
   "source": [
    "### Now that we have trained our model, let's have a look as to how the embedding looks like:"
   ]
  },
  {
   "cell_type": "code",
   "execution_count": 104,
   "metadata": {},
   "outputs": [],
   "source": [
    "from keras.models import Model\n",
    "from keras.layers import Input\n",
    "intermediate_layer_model = Model(inputs=model.layers[0].input, outputs=model.layers[0].output)\n",
    "intermediate_output = intermediate_layer_model.predict(padded_sequences_test)"
   ]
  },
  {
   "cell_type": "markdown",
   "metadata": {},
   "source": [
    "This is what the matrix of word generated by the embedding layer looks like. In our neural net, this is the output of the first layer. This matrix contains of vector representations of each word across different documents."
   ]
  },
  {
   "cell_type": "code",
   "execution_count": 105,
   "metadata": {},
   "outputs": [
    {
     "name": "stdout",
     "output_type": "stream",
     "text": [
      "[[[ 0.04162078 -0.03348149  0.03786346 ... -0.04674438 -0.06014031\n",
      "    0.00024746]\n",
      "  [ 0.04162078 -0.03348149  0.03786346 ... -0.04674438 -0.06014031\n",
      "    0.00024746]\n",
      "  [ 0.04162078 -0.03348149  0.03786346 ... -0.04674438 -0.06014031\n",
      "    0.00024746]\n",
      "  ...\n",
      "  [-0.00582225 -0.01026675  0.02723275 ... -0.0675716  -0.03286002\n",
      "   -0.01973963]\n",
      "  [-0.00969476 -0.04095811 -0.00980223 ... -0.02640022 -0.01141983\n",
      "   -0.04310979]\n",
      "  [ 0.03945119 -0.01108055  0.0396351  ... -0.02955022  0.03476034\n",
      "    0.01253241]]\n",
      "\n",
      " [[ 0.04162078 -0.03348149  0.03786346 ... -0.04674438 -0.06014031\n",
      "    0.00024746]\n",
      "  [ 0.04162078 -0.03348149  0.03786346 ... -0.04674438 -0.06014031\n",
      "    0.00024746]\n",
      "  [ 0.04162078 -0.03348149  0.03786346 ... -0.04674438 -0.06014031\n",
      "    0.00024746]\n",
      "  ...\n",
      "  [-0.00194294  0.00193267  0.01482169 ... -0.02822047 -0.05402488\n",
      "   -0.05006673]\n",
      "  [-0.00144253 -0.06722535  0.05305618 ... -0.06403372 -0.04306626\n",
      "    0.01246735]\n",
      "  [ 0.04671446  0.01487343  0.03778696 ... -0.01028239  0.02608524\n",
      "    0.0301709 ]]\n",
      "\n",
      " [[ 0.04162078 -0.03348149  0.03786346 ... -0.04674438 -0.06014031\n",
      "    0.00024746]\n",
      "  [ 0.04162078 -0.03348149  0.03786346 ... -0.04674438 -0.06014031\n",
      "    0.00024746]\n",
      "  [ 0.04162078 -0.03348149  0.03786346 ... -0.04674438 -0.06014031\n",
      "    0.00024746]\n",
      "  ...\n",
      "  [ 0.10012779 -0.06341252  0.01646713 ... -0.0662342  -0.01344566\n",
      "   -0.04054141]\n",
      "  [ 0.01273019  0.01372518  0.04350451 ... -0.02280546  0.01531036\n",
      "   -0.03933141]\n",
      "  [ 0.0293779  -0.01074352  0.02476607 ... -0.01702261 -0.01435005\n",
      "   -0.00822318]]\n",
      "\n",
      " ...\n",
      "\n",
      " [[ 0.04162078 -0.03348149  0.03786346 ... -0.04674438 -0.06014031\n",
      "    0.00024746]\n",
      "  [ 0.04162078 -0.03348149  0.03786346 ... -0.04674438 -0.06014031\n",
      "    0.00024746]\n",
      "  [ 0.04162078 -0.03348149  0.03786346 ... -0.04674438 -0.06014031\n",
      "    0.00024746]\n",
      "  ...\n",
      "  [ 0.0601103  -0.06140871  0.03430462 ... -0.06618682  0.00923611\n",
      "   -0.00302633]\n",
      "  [ 0.03477598 -0.04985327  0.05956572 ... -0.03583379 -0.02891656\n",
      "   -0.06111253]\n",
      "  [ 0.04776362 -0.04833873  0.04136449 ... -0.02471089 -0.01688262\n",
      "    0.03201168]]\n",
      "\n",
      " [[ 0.04162078 -0.03348149  0.03786346 ... -0.04674438 -0.06014031\n",
      "    0.00024746]\n",
      "  [ 0.04162078 -0.03348149  0.03786346 ... -0.04674438 -0.06014031\n",
      "    0.00024746]\n",
      "  [ 0.04162078 -0.03348149  0.03786346 ... -0.04674438 -0.06014031\n",
      "    0.00024746]\n",
      "  ...\n",
      "  [ 0.02366696 -0.07015848  0.03525355 ... -0.00204991 -0.0427664\n",
      "   -0.02159615]\n",
      "  [ 0.04393804 -0.03637139 -0.01158868 ... -0.04493895 -0.03275845\n",
      "   -0.05108397]\n",
      "  [-0.0196682  -0.04964047 -0.00128552 ...  0.00941113 -0.01683521\n",
      "    0.01156454]]\n",
      "\n",
      " [[ 0.04162078 -0.03348149  0.03786346 ... -0.04674438 -0.06014031\n",
      "    0.00024746]\n",
      "  [ 0.04162078 -0.03348149  0.03786346 ... -0.04674438 -0.06014031\n",
      "    0.00024746]\n",
      "  [ 0.04162078 -0.03348149  0.03786346 ... -0.04674438 -0.06014031\n",
      "    0.00024746]\n",
      "  ...\n",
      "  [ 0.07702358  0.01832387  0.02729563 ... -0.03437546 -0.04901461\n",
      "   -0.02019781]\n",
      "  [ 0.0048205   0.01443387 -0.00697982 ... -0.01124056 -0.00573027\n",
      "   -0.04957398]\n",
      "  [ 0.04235768 -0.05357802  0.0772208  ... -0.1003823   0.00453435\n",
      "   -0.01746259]]]\n"
     ]
    }
   ],
   "source": [
    "print(intermediate_output)"
   ]
  },
  {
   "cell_type": "markdown",
   "metadata": {},
   "source": [
    "Now, let's bring down the word representaions of all the words in the first document to a 2-D to help us visualize how they are spread across.\n",
    "\n",
    "We'll be using TSNE to perform this dimensionality reduction."
   ]
  },
  {
   "cell_type": "code",
   "execution_count": 106,
   "metadata": {},
   "outputs": [
    {
     "name": "stdout",
     "output_type": "stream",
     "text": [
      "[t-SNE] Computing 119 nearest neighbors...\n",
      "[t-SNE] Indexed 120 samples in 0.000s...\n",
      "[t-SNE] Computed neighbors for 120 samples in 0.012s...\n",
      "[t-SNE] Computed conditional probabilities for sample 120 / 120\n",
      "[t-SNE] Mean sigma: 0.000000\n",
      "[t-SNE] KL divergence after 250 iterations with early exaggeration: -42.567875\n",
      "[t-SNE] Error after 1000 iterations: -11.514710\n"
     ]
    }
   ],
   "source": [
    "from sklearn.manifold import TSNE\n",
    "tsne = TSNE(n_components=2, verbose=1, perplexity=45,angle=0.99,init = 'pca',learning_rate=500.0)\n",
    "tsne_sample = tsne.fit_transform(intermediate_output[1])"
   ]
  },
  {
   "cell_type": "markdown",
   "metadata": {},
   "source": [
    "Now, let's plot the spread of these words, which would result in something looking like this:"
   ]
  },
  {
   "cell_type": "code",
   "execution_count": 107,
   "metadata": {},
   "outputs": [
    {
     "data": {
      "image/png": "[encoded data removed]",
      "text/plain": [
       "<Figure size 432x288 with 1 Axes>"
      ]
     },
     "metadata": {},
     "output_type": "display_data"
    }
   ],
   "source": [
    "import matplotlib.pyplot as plt\n",
    "plt.scatter(tsne_sample[:, 0], tsne_sample[:, 1])\n",
    "plt.show()"
   ]
  },
  {
   "cell_type": "markdown",
   "metadata": {},
   "source": [
    "Using a pre-trained model to train your neural net:\n",
    "\n",
    "You can use a pre-trained word embedding model like word2vec or GloVe to understand how words are being used and feed this as an input to your model.\n",
    "\n",
    "Following is a demonstration as to how we can do that.\n"
   ]
  },
  {
   "cell_type": "markdown",
   "metadata": {},
   "source": [
    "### let's download the pre-trianed model for tweets from GloVe, the following file has a size of around 1.3GB, so it might take a while to download"
   ]
  },
  {
   "cell_type": "code",
   "execution_count": null,
   "metadata": {},
   "outputs": [],
   "source": [
    "import urllib.request\n",
    "urllib.request.urlretrieve(\"http://nlp.stanford.edu/data/glove.twitter.27B.zip\", \"file.zip\")"
   ]
  },
  {
   "cell_type": "markdown",
   "metadata": {},
   "source": [
    "Now that the files have been downloaded, let's unzip them into the folder and load the unzipped files."
   ]
  },
  {
   "cell_type": "code",
   "execution_count": 109,
   "metadata": {},
   "outputs": [],
   "source": [
    "import zipfile\n",
    "with zipfile.ZipFile(\"file.zip\",\"r\") as zip_ref:\n",
    "    zip_ref.extractall(\".\")"
   ]
  },
  {
   "cell_type": "markdown",
   "metadata": {},
   "source": [
    "Loading the 25 dimensional vector GloVe"
   ]
  },
  {
   "cell_type": "code",
   "execution_count": 110,
   "metadata": {},
   "outputs": [
    {
     "name": "stdout",
     "output_type": "stream",
     "text": [
      "Loaded 1193514 word vectors.\n"
     ]
    }
   ],
   "source": [
    "from numpy import asarray\n",
    "import numpy as np\n",
    "embeddings_index = dict()\n",
    "f = open('./glove.twitter.27B.25d.txt', encoding=\"utf-8\")\n",
    "for line in f:\n",
    "    values = line.split()\n",
    "    word = values[0]\n",
    "    coefs = asarray(values[1:], dtype='float32')\n",
    "    embeddings_index[word] = coefs\n",
    "f.close()\n",
    "\n",
    "print('Loaded %s word vectors.' % len(embeddings_index))"
   ]
  },
  {
   "cell_type": "markdown",
   "metadata": {},
   "source": [
    "### create a weight matrix for words in training docs"
   ]
  },
  {
   "cell_type": "code",
   "execution_count": 111,
   "metadata": {},
   "outputs": [],
   "source": [
    "\n",
    "vocab_size = 1000000\n",
    "embedding_matrix = np.zeros((vocab_size, 25))\n",
    "for word, i in tokenizer.word_index.items():\n",
    "    embedding_vector = embeddings_index.get(word)\n",
    "    if embedding_vector is not None:\n",
    "        embedding_matrix[i] = embedding_vector"
   ]
  },
  {
   "cell_type": "code",
   "execution_count": 112,
   "metadata": {},
   "outputs": [
    {
     "name": "stdout",
     "output_type": "stream",
     "text": [
      "_________________________________________________________________\n",
      "Layer (type)                 Output Shape              Param #   \n",
      "=================================================================\n",
      "embedding_16 (Embedding)     (None, None, 25)          25000000  \n",
      "_________________________________________________________________\n",
      "lstm_15 (LSTM)               (None, 25)                5100      \n",
      "_________________________________________________________________\n",
      "dense_15 (Dense)             (None, 1)                 26        \n",
      "=================================================================\n",
      "Total params: 25,005,126\n",
      "Trainable params: 5,126\n",
      "Non-trainable params: 25,000,000\n",
      "_________________________________________________________________\n",
      "None\n"
     ]
    }
   ],
   "source": [
    "embedding_layer_2 = Embedding(vocab_size, 25, weights=[embedding_matrix], trainable=False)\n",
    "model = Sequential()\n",
    "model.add(embedding_layer_2)\n",
    "model.add(LSTM(25))\n",
    "model.add(Dense(1, activation='sigmoid'))\n",
    "\n",
    "print(model.summary())"
   ]
  },
  {
   "cell_type": "code",
   "execution_count": null,
   "metadata": {},
   "outputs": [],
   "source": [
    "model.compile(optimizer='rmsprop',\n",
    "              loss='binary_crossentropy',\n",
    "              metrics=['acc'])"
   ]
  },
  {
   "cell_type": "markdown",
   "metadata": {},
   "source": [
    "### spitting the data into train and test sets"
   ]
  },
  {
   "cell_type": "code",
   "execution_count": 113,
   "metadata": {},
   "outputs": [
    {
     "name": "stdout",
     "output_type": "stream",
     "text": [
      "Train on 5000 samples, validate on 498 samples\n",
      "Epoch 1/3\n",
      "5000/5000 [==============================] - 26s 5ms/step - loss: 0.0465 - acc: 0.9996 - val_loss: 2.9684 - val_acc: 0.6345\n",
      "Epoch 2/3\n",
      "5000/5000 [==============================] - 25s 5ms/step - loss: 8.2583e-05 - acc: 1.0000 - val_loss: 4.1717 - val_acc: 0.6345\n",
      "Epoch 3/3\n",
      "5000/5000 [==============================] - 24s 5ms/step - loss: 3.4631e-06 - acc: 1.0000 - val_loss: 5.2728 - val_acc: 0.6345\n"
     ]
    }
   ],
   "source": [
    "from sklearn.model_selection import train_test_split\n",
    "\n",
    "#let's fit our data and validate it\n",
    "history = model.fit(padded_sequences_train, sentiments_train, epochs = 3,\n",
    "                    validation_data=(padded_sequences_test,sentiments_test))"
   ]
  },
  {
   "cell_type": "code",
   "execution_count": 114,
   "metadata": {},
   "outputs": [],
   "source": [
    "from keras.models import Model\n",
    "from keras.layers import Input\n",
    "intermediate_layer_model = Model(inputs=model.layers[0].input, outputs=model.layers[0].output)\n",
    "intermediate_output = intermediate_layer_model.predict(padded_sequences_test)"
   ]
  },
  {
   "cell_type": "code",
   "execution_count": 115,
   "metadata": {},
   "outputs": [
    {
     "name": "stdout",
     "output_type": "stream",
     "text": [
      "[t-SNE] Computing 119 nearest neighbors...\n",
      "[t-SNE] Indexed 120 samples in 0.000s...\n",
      "[t-SNE] Computed neighbors for 120 samples in 0.002s...\n",
      "[t-SNE] Computed conditional probabilities for sample 120 / 120\n",
      "[t-SNE] Mean sigma: 0.000000\n",
      "[t-SNE] KL divergence after 250 iterations with early exaggeration: -67.600555\n",
      "[t-SNE] Error after 1000 iterations: -15.036423\n"
     ]
    }
   ],
   "source": [
    "from sklearn.manifold import TSNE\n",
    "tsne = TSNE(n_components=2, verbose=1, perplexity=45,angle=0.99,init = 'pca',learning_rate=500.0)\n",
    "tsne_sample = tsne.fit_transform(intermediate_output[1])"
   ]
  },
  {
   "cell_type": "code",
   "execution_count": 116,
   "metadata": {},
   "outputs": [
    {
     "data": {
      "image/png": "[encoded data removed]",
      "text/plain": [
       "<Figure size 432x288 with 1 Axes>"
      ]
     },
     "metadata": {},
     "output_type": "display_data"
    }
   ],
   "source": [
    "import matplotlib.pyplot as plt\n",
    "plt.scatter(tsne_sample[:, 0], tsne_sample[:, 1])\n",
    "plt.show()"
   ]
  },
  {
   "cell_type": "markdown",
   "metadata": {},
   "source": [
    "References:\n",
    "https://machinelearningmastery.com/use-word-embedding-layers-deep-learning-keras/\n",
    "\n",
    "https://nlp.stanford.edu/projects/glove/\n",
    "\n",
    "https://blog.keras.io/using-pre-trained-word-embeddings-in-a-keras-model.html\n",
    "\n",
    "https://www.quora.com/How-is-GloVe-different-from-word2vec\n",
    "\n",
    "https://en.wikipedia.org/wiki/Word_embedding\n",
    "\n",
    "https://www.analyticsvidhya.com/blog/2017/06/word-embeddings-count-word2veec/\n",
    "\n",
    "https://machinelearningmastery.com/what-are-word-embeddings/\n",
    "\n",
    "https://www.tensorflow.org/tutorials/word2vec\n",
    "\n",
    "https://en.wikipedia.org/wiki/Tf%E2%80%93idf"
   ]
  }
 ],
 "metadata": {
  "kernelspec": {
   "display_name": "Python 3",
   "language": "python",
   "name": "python3"
  },
  "language_info": {
   "codemirror_mode": {
    "name": "ipython",
    "version": 3
   },
   "file_extension": ".py",
   "mimetype": "text/x-python",
   "name": "python",
   "nbconvert_exporter": "python",
   "pygments_lexer": "ipython3",
   "version": "3.5.5"
  }
 },
 "nbformat": 4,
 "nbformat_minor": 2
}
