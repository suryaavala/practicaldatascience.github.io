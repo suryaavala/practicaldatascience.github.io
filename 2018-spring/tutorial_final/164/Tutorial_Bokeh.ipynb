{
 "cells": [
  {
   "cell_type": "markdown",
   "metadata": {},
   "source": [
    "# Data Visualization Using Bokeh\n",
    "\n",
    "\n",
    "\n"
   ]
  },
  {
   "cell_type": "markdown",
   "metadata": {},
   "source": [
    "## 1.  Introduction\n",
    "Data visualization helps decipher large amounts of data quickly and easily.  Finding meaning in a huge spreadsheet full of numbers is difficult, but modeling those numbers as visuals helps in making quick analysis and extract meaning which might not be obvious otherwise.\n",
    "\n",
    "Bokeh is a library for data visualization in Python.  It fills the gaps where libraries like Matplotlib fail due to its interactive nature and usability in web browsers.  It works well with Jupyter Notebooks to quickly and easily create interactive plots, charts and other types of visual representation of data.\n"
   ]
  },
  {
   "cell_type": "markdown",
   "metadata": {},
   "source": [
    "## 2.  Getting Started with Installation\n",
    "Installation is quick and easy by typing this code at the command prompt in anaconda:  __conda install bokeh__ <br>\n",
    "If you already have all the dependencies like numpy etc installed, then you can use pip as well.  Use: __pip install bokeh__"
   ]
  },
  {
   "cell_type": "markdown",
   "metadata": {},
   "source": [
    "Once all installation is complete, go ahead and import some of the relevant libraries into the Jupyter Notebook.  The first item to import is 'figure' from the bokeh.plotting library, which is the container for the graphs. To display the visualization inline, use output_notebook.  To display the plot in a sepaerate tab, use output_file('filename.htm')"
   ]
  },
  {
   "cell_type": "code",
   "execution_count": 1,
   "metadata": {},
   "outputs": [
    {
     "data": {
      "text/html": [
       "\n",
       "    <div class=\"bk-root\">\n",
       "        <a href=\"https://bokeh.pydata.org\" target=\"_blank\" class=\"bk-logo bk-logo-small bk-logo-notebook\"></a>\n",
       "        <span id=\"7704584a-de48-451a-9460-5009f6a60343\">Loading BokehJS ...</span>\n",
       "    </div>"
      ]
     },
     "metadata": {},
     "output_type": "display_data"
    },
    {
     "data": {
      "application/javascript": [
       "\n",
       "(function(root) {\n",
       "  function now() {\n",
       "    return new Date();\n",
       "  }\n",
       "\n",
       "  var force = true;\n",
       "\n",
       "  if (typeof (root._bokeh_onload_callbacks) === \"undefined\" || force === true) {\n",
       "    root._bokeh_onload_callbacks = [];\n",
       "    root._bokeh_is_loading = undefined;\n",
       "  }\n",
       "\n",
       "  var JS_MIME_TYPE = 'application/javascript';\n",
       "  var HTML_MIME_TYPE = 'text/html';\n",
       "  var EXEC_MIME_TYPE = 'application/vnd.bokehjs_exec.v0+json';\n",
       "  var CLASS_NAME = 'output_bokeh rendered_html';\n",
       "\n",
       "  /**\n",
       "   * Render data to the DOM node\n",
       "   */\n",
       "  function render(props, node) {\n",
       "    var script = document.createElement(\"script\");\n",
       "    node.appendChild(script);\n",
       "  }\n",
       "\n",
       "  /**\n",
       "   * Handle when an output is cleared or removed\n",
       "   */\n",
       "  function handleClearOutput(event, handle) {\n",
       "    var cell = handle.cell;\n",
       "\n",
       "    var id = cell.output_area._bokeh_element_id;\n",
       "    var server_id = cell.output_area._bokeh_server_id;\n",
       "    // Clean up Bokeh references\n",
       "    if (id !== undefined) {\n",
       "      Bokeh.index[id].model.document.clear();\n",
       "      delete Bokeh.index[id];\n",
       "    }\n",
       "\n",
       "    if (server_id !== undefined) {\n",
       "      // Clean up Bokeh references\n",
       "      var cmd = \"from bokeh.io.state import curstate; print(curstate().uuid_to_server['\" + server_id + \"'].get_sessions()[0].document.roots[0]._id)\";\n",
       "      cell.notebook.kernel.execute(cmd, {\n",
       "        iopub: {\n",
       "          output: function(msg) {\n",
       "            var element_id = msg.content.text.trim();\n",
       "            Bokeh.index[element_id].model.document.clear();\n",
       "            delete Bokeh.index[element_id];\n",
       "          }\n",
       "        }\n",
       "      });\n",
       "      // Destroy server and session\n",
       "      var cmd = \"import bokeh.io.notebook as ion; ion.destroy_server('\" + server_id + \"')\";\n",
       "      cell.notebook.kernel.execute(cmd);\n",
       "    }\n",
       "  }\n",
       "\n",
       "  /**\n",
       "   * Handle when a new output is added\n",
       "   */\n",
       "  function handleAddOutput(event, handle) {\n",
       "    var output_area = handle.output_area;\n",
       "    var output = handle.output;\n",
       "\n",
       "    // limit handleAddOutput to display_data with EXEC_MIME_TYPE content only\n",
       "    if ((output.output_type != \"display_data\") || (!output.data.hasOwnProperty(EXEC_MIME_TYPE))) {\n",
       "      return\n",
       "    }\n",
       "\n",
       "    var toinsert = output_area.element.find(\".\" + CLASS_NAME.split(' ')[0]);\n",
       "\n",
       "    if (output.metadata[EXEC_MIME_TYPE][\"id\"] !== undefined) {\n",
       "      toinsert[0].firstChild.textContent = output.data[JS_MIME_TYPE];\n",
       "      // store reference to embed id on output_area\n",
       "      output_area._bokeh_element_id = output.metadata[EXEC_MIME_TYPE][\"id\"];\n",
       "    }\n",
       "    if (output.metadata[EXEC_MIME_TYPE][\"server_id\"] !== undefined) {\n",
       "      var bk_div = document.createElement(\"div\");\n",
       "      bk_div.innerHTML = output.data[HTML_MIME_TYPE];\n",
       "      var script_attrs = bk_div.children[0].attributes;\n",
       "      for (var i = 0; i < script_attrs.length; i++) {\n",
       "        toinsert[0].firstChild.setAttribute(script_attrs[i].name, script_attrs[i].value);\n",
       "      }\n",
       "      // store reference to server id on output_area\n",
       "      output_area._bokeh_server_id = output.metadata[EXEC_MIME_TYPE][\"server_id\"];\n",
       "    }\n",
       "  }\n",
       "\n",
       "  function register_renderer(events, OutputArea) {\n",
       "\n",
       "    function append_mime(data, metadata, element) {\n",
       "      // create a DOM node to render to\n",
       "      var toinsert = this.create_output_subarea(\n",
       "        metadata,\n",
       "        CLASS_NAME,\n",
       "        EXEC_MIME_TYPE\n",
       "      );\n",
       "      this.keyboard_manager.register_events(toinsert);\n",
       "      // Render to node\n",
       "      var props = {data: data, metadata: metadata[EXEC_MIME_TYPE]};\n",
       "      render(props, toinsert[0]);\n",
       "      element.append(toinsert);\n",
       "      return toinsert\n",
       "    }\n",
       "\n",
       "    /* Handle when an output is cleared or removed */\n",
       "    events.on('clear_output.CodeCell', handleClearOutput);\n",
       "    events.on('delete.Cell', handleClearOutput);\n",
       "\n",
       "    /* Handle when a new output is added */\n",
       "    events.on('output_added.OutputArea', handleAddOutput);\n",
       "\n",
       "    /**\n",
       "     * Register the mime type and append_mime function with output_area\n",
       "     */\n",
       "    OutputArea.prototype.register_mime_type(EXEC_MIME_TYPE, append_mime, {\n",
       "      /* Is output safe? */\n",
       "      safe: true,\n",
       "      /* Index of renderer in `output_area.display_order` */\n",
       "      index: 0\n",
       "    });\n",
       "  }\n",
       "\n",
       "  // register the mime type if in Jupyter Notebook environment and previously unregistered\n",
       "  if (root.Jupyter !== undefined) {\n",
       "    var events = require('base/js/events');\n",
       "    var OutputArea = require('notebook/js/outputarea').OutputArea;\n",
       "\n",
       "    if (OutputArea.prototype.mime_types().indexOf(EXEC_MIME_TYPE) == -1) {\n",
       "      register_renderer(events, OutputArea);\n",
       "    }\n",
       "  }\n",
       "\n",
       "  \n",
       "  if (typeof (root._bokeh_timeout) === \"undefined\" || force === true) {\n",
       "    root._bokeh_timeout = Date.now() + 5000;\n",
       "    root._bokeh_failed_load = false;\n",
       "  }\n",
       "\n",
       "  var NB_LOAD_WARNING = {'data': {'text/html':\n",
       "     \"<div style='background-color: #fdd'>\\n\"+\n",
       "     \"<p>\\n\"+\n",
       "     \"BokehJS does not appear to have successfully loaded. If loading BokehJS from CDN, this \\n\"+\n",
       "     \"may be due to a slow or bad network connection. Possible fixes:\\n\"+\n",
       "     \"</p>\\n\"+\n",
       "     \"<ul>\\n\"+\n",
       "     \"<li>re-rerun `output_notebook()` to attempt to load from CDN again, or</li>\\n\"+\n",
       "     \"<li>use INLINE resources instead, as so:</li>\\n\"+\n",
       "     \"</ul>\\n\"+\n",
       "     \"<code>\\n\"+\n",
       "     \"from bokeh.resources import INLINE\\n\"+\n",
       "     \"output_notebook(resources=INLINE)\\n\"+\n",
       "     \"</code>\\n\"+\n",
       "     \"</div>\"}};\n",
       "\n",
       "  function display_loaded() {\n",
       "    var el = document.getElementById(\"7704584a-de48-451a-9460-5009f6a60343\");\n",
       "    if (el != null) {\n",
       "      el.textContent = \"BokehJS is loading...\";\n",
       "    }\n",
       "    if (root.Bokeh !== undefined) {\n",
       "      if (el != null) {\n",
       "        el.textContent = \"BokehJS \" + root.Bokeh.version + \" successfully loaded.\";\n",
       "      }\n",
       "    } else if (Date.now() < root._bokeh_timeout) {\n",
       "      setTimeout(display_loaded, 100)\n",
       "    }\n",
       "  }\n",
       "\n",
       "\n",
       "  function run_callbacks() {\n",
       "    try {\n",
       "      root._bokeh_onload_callbacks.forEach(function(callback) { callback() });\n",
       "    }\n",
       "    finally {\n",
       "      delete root._bokeh_onload_callbacks\n",
       "    }\n",
       "    console.info(\"Bokeh: all callbacks have finished\");\n",
       "  }\n",
       "\n",
       "  function load_libs(js_urls, callback) {\n",
       "    root._bokeh_onload_callbacks.push(callback);\n",
       "    if (root._bokeh_is_loading > 0) {\n",
       "      console.log(\"Bokeh: BokehJS is being loaded, scheduling callback at\", now());\n",
       "      return null;\n",
       "    }\n",
       "    if (js_urls == null || js_urls.length === 0) {\n",
       "      run_callbacks();\n",
       "      return null;\n",
       "    }\n",
       "    console.log(\"Bokeh: BokehJS not loaded, scheduling load and callback at\", now());\n",
       "    root._bokeh_is_loading = js_urls.length;\n",
       "    for (var i = 0; i < js_urls.length; i++) {\n",
       "      var url = js_urls[i];\n",
       "      var s = document.createElement('script');\n",
       "      s.src = url;\n",
       "      s.async = false;\n",
       "      s.onreadystatechange = s.onload = function() {\n",
       "        root._bokeh_is_loading--;\n",
       "        if (root._bokeh_is_loading === 0) {\n",
       "          console.log(\"Bokeh: all BokehJS libraries loaded\");\n",
       "          run_callbacks()\n",
       "        }\n",
       "      };\n",
       "      s.onerror = function() {\n",
       "        console.warn(\"failed to load library \" + url);\n",
       "      };\n",
       "      console.log(\"Bokeh: injecting script tag for BokehJS library: \", url);\n",
       "      document.getElementsByTagName(\"head\")[0].appendChild(s);\n",
       "    }\n",
       "  };var element = document.getElementById(\"7704584a-de48-451a-9460-5009f6a60343\");\n",
       "  if (element == null) {\n",
       "    console.log(\"Bokeh: ERROR: autoload.js configured with elementid '7704584a-de48-451a-9460-5009f6a60343' but no matching script tag was found. \")\n",
       "    return false;\n",
       "  }\n",
       "\n",
       "  var js_urls = [\"https://cdn.pydata.org/bokeh/release/bokeh-0.12.14.min.js\", \"https://cdn.pydata.org/bokeh/release/bokeh-widgets-0.12.14.min.js\", \"https://cdn.pydata.org/bokeh/release/bokeh-tables-0.12.14.min.js\", \"https://cdn.pydata.org/bokeh/release/bokeh-gl-0.12.14.min.js\"];\n",
       "\n",
       "  var inline_js = [\n",
       "    function(Bokeh) {\n",
       "      Bokeh.set_log_level(\"info\");\n",
       "    },\n",
       "    \n",
       "    function(Bokeh) {\n",
       "      \n",
       "    },\n",
       "    function(Bokeh) {\n",
       "      console.log(\"Bokeh: injecting CSS: https://cdn.pydata.org/bokeh/release/bokeh-0.12.14.min.css\");\n",
       "      Bokeh.embed.inject_css(\"https://cdn.pydata.org/bokeh/release/bokeh-0.12.14.min.css\");\n",
       "      console.log(\"Bokeh: injecting CSS: https://cdn.pydata.org/bokeh/release/bokeh-widgets-0.12.14.min.css\");\n",
       "      Bokeh.embed.inject_css(\"https://cdn.pydata.org/bokeh/release/bokeh-widgets-0.12.14.min.css\");\n",
       "      console.log(\"Bokeh: injecting CSS: https://cdn.pydata.org/bokeh/release/bokeh-tables-0.12.14.min.css\");\n",
       "      Bokeh.embed.inject_css(\"https://cdn.pydata.org/bokeh/release/bokeh-tables-0.12.14.min.css\");\n",
       "    }\n",
       "  ];\n",
       "\n",
       "  function run_inline_js() {\n",
       "    \n",
       "    if ((root.Bokeh !== undefined) || (force === true)) {\n",
       "      for (var i = 0; i < inline_js.length; i++) {\n",
       "        inline_js[i].call(root, root.Bokeh);\n",
       "      }if (force === true) {\n",
       "        display_loaded();\n",
       "      }} else if (Date.now() < root._bokeh_timeout) {\n",
       "      setTimeout(run_inline_js, 100);\n",
       "    } else if (!root._bokeh_failed_load) {\n",
       "      console.log(\"Bokeh: BokehJS failed to load within specified timeout.\");\n",
       "      root._bokeh_failed_load = true;\n",
       "    } else if (force !== true) {\n",
       "      var cell = $(document.getElementById(\"7704584a-de48-451a-9460-5009f6a60343\")).parents('.cell').data().cell;\n",
       "      cell.output_area.append_execute_result(NB_LOAD_WARNING)\n",
       "    }\n",
       "\n",
       "  }\n",
       "\n",
       "  if (root._bokeh_is_loading === 0) {\n",
       "    console.log(\"Bokeh: BokehJS loaded, going straight to plotting\");\n",
       "    run_inline_js();\n",
       "  } else {\n",
       "    load_libs(js_urls, function() {\n",
       "      console.log(\"Bokeh: BokehJS plotting callback run at\", now());\n",
       "      run_inline_js();\n",
       "    });\n",
       "  }\n",
       "}(window));"
      ],
      "application/vnd.bokehjs_load.v0+json": "\n(function(root) {\n  function now() {\n    return new Date();\n  }\n\n  var force = true;\n\n  if (typeof (root._bokeh_onload_callbacks) === \"undefined\" || force === true) {\n    root._bokeh_onload_callbacks = [];\n    root._bokeh_is_loading = undefined;\n  }\n\n  \n\n  \n  if (typeof (root._bokeh_timeout) === \"undefined\" || force === true) {\n    root._bokeh_timeout = Date.now() + 5000;\n    root._bokeh_failed_load = false;\n  }\n\n  var NB_LOAD_WARNING = {'data': {'text/html':\n     \"<div style='background-color: #fdd'>\\n\"+\n     \"<p>\\n\"+\n     \"BokehJS does not appear to have successfully loaded. If loading BokehJS from CDN, this \\n\"+\n     \"may be due to a slow or bad network connection. Possible fixes:\\n\"+\n     \"</p>\\n\"+\n     \"<ul>\\n\"+\n     \"<li>re-rerun `output_notebook()` to attempt to load from CDN again, or</li>\\n\"+\n     \"<li>use INLINE resources instead, as so:</li>\\n\"+\n     \"</ul>\\n\"+\n     \"<code>\\n\"+\n     \"from bokeh.resources import INLINE\\n\"+\n     \"output_notebook(resources=INLINE)\\n\"+\n     \"</code>\\n\"+\n     \"</div>\"}};\n\n  function display_loaded() {\n    var el = document.getElementById(\"7704584a-de48-451a-9460-5009f6a60343\");\n    if (el != null) {\n      el.textContent = \"BokehJS is loading...\";\n    }\n    if (root.Bokeh !== undefined) {\n      if (el != null) {\n        el.textContent = \"BokehJS \" + root.Bokeh.version + \" successfully loaded.\";\n      }\n    } else if (Date.now() < root._bokeh_timeout) {\n      setTimeout(display_loaded, 100)\n    }\n  }\n\n\n  function run_callbacks() {\n    try {\n      root._bokeh_onload_callbacks.forEach(function(callback) { callback() });\n    }\n    finally {\n      delete root._bokeh_onload_callbacks\n    }\n    console.info(\"Bokeh: all callbacks have finished\");\n  }\n\n  function load_libs(js_urls, callback) {\n    root._bokeh_onload_callbacks.push(callback);\n    if (root._bokeh_is_loading > 0) {\n      console.log(\"Bokeh: BokehJS is being loaded, scheduling callback at\", now());\n      return null;\n    }\n    if (js_urls == null || js_urls.length === 0) {\n      run_callbacks();\n      return null;\n    }\n    console.log(\"Bokeh: BokehJS not loaded, scheduling load and callback at\", now());\n    root._bokeh_is_loading = js_urls.length;\n    for (var i = 0; i < js_urls.length; i++) {\n      var url = js_urls[i];\n      var s = document.createElement('script');\n      s.src = url;\n      s.async = false;\n      s.onreadystatechange = s.onload = function() {\n        root._bokeh_is_loading--;\n        if (root._bokeh_is_loading === 0) {\n          console.log(\"Bokeh: all BokehJS libraries loaded\");\n          run_callbacks()\n        }\n      };\n      s.onerror = function() {\n        console.warn(\"failed to load library \" + url);\n      };\n      console.log(\"Bokeh: injecting script tag for BokehJS library: \", url);\n      document.getElementsByTagName(\"head\")[0].appendChild(s);\n    }\n  };var element = document.getElementById(\"7704584a-de48-451a-9460-5009f6a60343\");\n  if (element == null) {\n    console.log(\"Bokeh: ERROR: autoload.js configured with elementid '7704584a-de48-451a-9460-5009f6a60343' but no matching script tag was found. \")\n    return false;\n  }\n\n  var js_urls = [\"https://cdn.pydata.org/bokeh/release/bokeh-0.12.14.min.js\", \"https://cdn.pydata.org/bokeh/release/bokeh-widgets-0.12.14.min.js\", \"https://cdn.pydata.org/bokeh/release/bokeh-tables-0.12.14.min.js\", \"https://cdn.pydata.org/bokeh/release/bokeh-gl-0.12.14.min.js\"];\n\n  var inline_js = [\n    function(Bokeh) {\n      Bokeh.set_log_level(\"info\");\n    },\n    \n    function(Bokeh) {\n      \n    },\n    function(Bokeh) {\n      console.log(\"Bokeh: injecting CSS: https://cdn.pydata.org/bokeh/release/bokeh-0.12.14.min.css\");\n      Bokeh.embed.inject_css(\"https://cdn.pydata.org/bokeh/release/bokeh-0.12.14.min.css\");\n      console.log(\"Bokeh: injecting CSS: https://cdn.pydata.org/bokeh/release/bokeh-widgets-0.12.14.min.css\");\n      Bokeh.embed.inject_css(\"https://cdn.pydata.org/bokeh/release/bokeh-widgets-0.12.14.min.css\");\n      console.log(\"Bokeh: injecting CSS: https://cdn.pydata.org/bokeh/release/bokeh-tables-0.12.14.min.css\");\n      Bokeh.embed.inject_css(\"https://cdn.pydata.org/bokeh/release/bokeh-tables-0.12.14.min.css\");\n    }\n  ];\n\n  function run_inline_js() {\n    \n    if ((root.Bokeh !== undefined) || (force === true)) {\n      for (var i = 0; i < inline_js.length; i++) {\n        inline_js[i].call(root, root.Bokeh);\n      }if (force === true) {\n        display_loaded();\n      }} else if (Date.now() < root._bokeh_timeout) {\n      setTimeout(run_inline_js, 100);\n    } else if (!root._bokeh_failed_load) {\n      console.log(\"Bokeh: BokehJS failed to load within specified timeout.\");\n      root._bokeh_failed_load = true;\n    } else if (force !== true) {\n      var cell = $(document.getElementById(\"7704584a-de48-451a-9460-5009f6a60343\")).parents('.cell').data().cell;\n      cell.output_area.append_execute_result(NB_LOAD_WARNING)\n    }\n\n  }\n\n  if (root._bokeh_is_loading === 0) {\n    console.log(\"Bokeh: BokehJS loaded, going straight to plotting\");\n    run_inline_js();\n  } else {\n    load_libs(js_urls, function() {\n      console.log(\"Bokeh: BokehJS plotting callback run at\", now());\n      run_inline_js();\n    });\n  }\n}(window));"
     },
     "metadata": {},
     "output_type": "display_data"
    }
   ],
   "source": [
    "from IPython.display import Image           #To display images in the notebook\n",
    "import numpy as np\n",
    "from bokeh.plotting import figure           #basic building block\n",
    "from bokeh.io import output_notebook, show  #for displaying plots inline\n",
    "output_notebook()                           #loads the module the same notebook as the code."
   ]
  },
  {
   "cell_type": "markdown",
   "metadata": {},
   "source": [
    "## 3.  Basic Line Plot\n",
    "First, a very basic line plot is shown below.  After generating our data (or importing it), we need to create a figure object.  This defines the size, and various labels of the plot.  Next, we create the line by defining our input data, color. In the end we can use the show command to display the graph.  Notice how the output graph has a built in button for zoom, pan and save which is absent in the usual matplotlib formats."
   ]
  },
  {
   "cell_type": "code",
   "execution_count": 2,
   "metadata": {
    "scrolled": true
   },
   "outputs": [],
   "source": [
    "#first we define our data and equations\n",
    "n = 100                          #number of data points\n",
    "x = np.linspace(-2.5,2.5, num=n) #creates n equally spaced series of numbers between -2.5 and 2.5\n",
    "y = np.power(x,4) - 3*np.power(x,2) + x         #equation 1\n",
    "z = 3*np.power(x,5) - 25* np.power(x,3) + 60*x  #equation 2\n",
    "\n",
    "output_notebook() #use output_notebook to output inline .  Use output_file(\"filename.html\") for new tab\n",
    "newLine = figure(title=\"Equations Graph\", x_axis_label='x-axis', y_axis_label='y-axis', plot_width=700, plot_height=300)\n",
    "newLine.line(x, y, legend=\"equation 1\", line_width=3)  #each shape is referred to as a Glyph\n",
    "newLine.line(x,z, legend = 'equation 2', color = 'Red')\n",
    "show(newLine)   #displays the results"
   ]
  },
  {
   "cell_type": "markdown",
   "metadata": {},
   "source": [
    "![Image](https://imgur.com/cj5o8qN.jpg)"
   ]
  },
  {
   "cell_type": "markdown",
   "metadata": {},
   "source": [
    "## 4.  Adding Colors, Styles and Interaction:  Spiral with Movable Data Points\n",
    "Bokeh includes a number of handy tools like custom color palettes, different shapes to use for plotting, using histograms etc.  It also has tools that let you inspect the data carefully like the zoom and pan as well as the mouseover funtions for point data.<br>\n",
    "\n",
    "__Colors__:  Color palettes identify a preselected group of colors that can be used as a theme in a visualization.  Included in the bokeh.palettes module are all palettes from ColorBrewer, and some palettes from the D3 and Matplotlib palettes.  To view all available palettes, import bokeh.palettes and then type in __bp.all_palettes__.  These palettes contain lists of hex color string, which are useful while working with multiple groups of data.  For example typing in Spectral[3] will return a list of three colors from the spectral palette of this format ['#99d594', '#ffffbf', '#fc8d59'].  For a detailed list of palettes, see the [Palettes documentation](https://bokeh.pydata.org/en/latest/docs/reference/palettes.html#bokeh-palettes).<br> \n",
    "\n",
    "__Styles__:  With bokeh all types of graphs with all sorts of symbols can be plotted.  The [Models Documentation](https://bokeh.pydata.org/en/latest/docs/user_guide/plotting.html) contains the full list and references.  While this example uses the circle to define data, many other shapes are also avialable to use.  Here's some basic ones:\n",
    "Image adapted from [here](http://bokeh.pydata.org/en/latest/docs/gallery/markers.html)\n",
    "![Image](https://i.imgur.com/IGsiphJ.jpg)"
   ]
  },
  {
   "cell_type": "markdown",
   "metadata": {},
   "source": [
    "__Bokeh Version of DataFrame__:  We will now modify the code to interactively add, remove, or move points within the data set.  This sort of interaction means that data is being changed by the user and instantly updated.  We will use __ColumnDataSource__ for storing and updating our data.  You can think of ColumnDataSource as being the Bokeh version of the Pandas Dataframe, because it can name columns in a similar way to Pandas.  However, all columns have to be the same length, or else, it will throw a warning."
   ]
  },
  {
   "cell_type": "markdown",
   "metadata": {},
   "source": [
    "In the following code, we will assign a different size and color to each data point. We will use an equation called the involute of a circle to generate our data. We will define our data then store this data in the data structure called ColumnDataSource, so that Bokeh can allow users to modify it.  The __PointDrawTool__ enables users to interactively add, remove or edit points in a scatter plot."
   ]
  },
  {
   "cell_type": "code",
   "execution_count": 3,
   "metadata": {},
   "outputs": [],
   "source": [
    "import bokeh.palettes as bp                              #loads all built in color palettes\n",
    "from bokeh.models import PointDrawTool,ColumnDataSource  #PointDrawTool lets users change data \n",
    "\n",
    "sz = 350    #plot size\n",
    "n = 100     #number of data points\n",
    "t = np.linspace(-15,15,num = n) #interval\n",
    "a = 3\n",
    "x = a * (np.cos(t) + t * np.sin(t))  #equation to generate the data\n",
    "y = a * (np.sin(t) - t * np.cos(t))\n",
    "spiral = figure(title = \"Involute of a Circle\", plot_width=sz, plot_height=sz, tools=[])\n",
    "radius = np.linspace(sz/10, 8, num=n)#tie the biggest size of the circle with the plot size so that bigger plots give bigger circles and vice versa\n",
    "col = np.flip(bp.magma(n), 0)                                          #Magma is a color Palette from Matplotlib.\n",
    "source = ColumnDataSource(data = dict(x=x,y=y,col=col,radius=radius))  #defining our data source.\n",
    "a1 = spiral.circle('x','y', size='radius',color='col',fill_alpha=.7, source=source)#Using the source to define changable inputs\n",
    "\n",
    "draw_tool = PointDrawTool(renderers=[a1],empty_value='20') #Glyph has to be passed on to the renderer.\n",
    "spiral.add_tools(draw_tool)\n",
    "spiral.toolbar.active_tap = draw_tool\n",
    "show(spiral)"
   ]
  },
  {
   "cell_type": "markdown",
   "metadata": {},
   "source": [
    "<img src=\"https://i.imgur.com/0dM0xW5.gif\" alt=\"dots\" style=\"width: 400px;\"/>"
   ]
  },
  {
   "cell_type": "markdown",
   "metadata": {},
   "source": [
    "## 5.  Liked Zoom / Pan and Custom Tooltips: Equation Output\n",
    "Linking two plots to pan and zoom together can sometimes be useful if inspecting two closely related plots.  For doing this, one graph references the other's x-range, and y-range which is just the limits of the x and y axis respectively.  The x_range can take another graph's xrange as an argument, or it can take in range1d(min,max) to define a min and max value.  To add custom tooltips, the __HoverTool__ has to be imported and used as seen in the code below.  The hovertool also reads from the ColumnDataSource, we can define variables for the tooltips which are not visible in the graph itself.  While defining arguments for the hovertool, The values to be picked from a column of the columndatasource are identified with a @ before the name.  A $ sign signifies a variable identified elsewhere in the function.  See the below code for examples."
   ]
  },
  {
   "cell_type": "code",
   "execution_count": 4,
   "metadata": {
    "collapsed": true
   },
   "outputs": [],
   "source": [
    "#Some palettes are built with multiple lists of colors.  Thisfunction flattens the list of colors into a 1d array\n",
    "def getColors(palettename):\n",
    "    s = [ x for x in palettename.values()]\n",
    "    return [item for sublist in s for item in sublist]"
   ]
  },
  {
   "cell_type": "code",
   "execution_count": 5,
   "metadata": {
    "scrolled": true
   },
   "outputs": [],
   "source": [
    "from bokeh.layouts import gridplot      #for plotting to a grid\n",
    "from bokeh.models import HoverTool\n",
    "\n",
    "#Defining the data and colors\n",
    "n = 1560\n",
    "t = np.linspace(-np.pi*4,np.pi*4,num = n)\n",
    "x = t - 1.6* np.cos(24*t)\n",
    "y = t - 1.6* np.sin(25*t)\n",
    "col = getColors(bp.Category10)\n",
    "lengths = np.round(np.cumsum(np.sqrt(np.square(1+1.6*24*np.sin(24*t)) + np.square(1+1.6*24*np.sin(24*t)))))\n",
    "cols = np.repeat(col,n//len(col))\n",
    "source = ColumnDataSource(data=dict(x=x,y=y,lengths=lengths,cols=cols))\n",
    "#creating a figure, and then the line glyph.\n",
    "newLine = figure(title='Equation', plot_width=sz, plot_height=sz,background_fill_color='black', tools= ['pan,wheel_zoom,box_zoom,reset'])\n",
    "hover = HoverTool(tooltips=[(\"(x,y)\", \"($x, $y)\")])\n",
    "newLine.add_tools(hover)\n",
    "newLine.xgrid.grid_line_color = None\n",
    "newLine.ygrid.grid_line_color = None\n",
    "newLine.multi_line(np.array_split(x, len(col)),np.array_split(y, len(col)),color = col, line_width=2)\n",
    "#create second figure and link it with the first by defining it's x_range & y_range\n",
    "newLine1 = figure(title='Equation', plot_width=sz, plot_height=sz,x_range=newLine.x_range,y_range=newLine.y_range, tools= ['pan,wheel_zoom,box_zoom,reset'])\n",
    "newLine1.circle_cross('x','y',color = 'cols',fill_alpha=.3, size=10,line_width=1,source=source)\n",
    "hover1 = HoverTool(tooltips=[(\"index\", \"$index\"),(\"(x,y)\", \"($x, $y)\"),(\"Total length\",'@lengths'),(\"fill color\", \"$color[hex, swatch]:cols\")])\n",
    "newLine1.add_tools(hover1)\n",
    "\n",
    "plot = gridplot([[newLine,newLine1]]) # for 2x2 grid use: gridplot([[p1, p2], [p3, p4]])\n",
    "show(plot)"
   ]
  },
  {
   "cell_type": "markdown",
   "metadata": {
    "collapsed": true
   },
   "source": [
    "![Misc](https://i.imgur.com/Plp2wc1.gif)\n",
    "\n",
    "\n"
   ]
  },
  {
   "cell_type": "markdown",
   "metadata": {},
   "source": [
    "## 6.  Data Exploration Using Multiple Tabs:  Costs and Earnings of 155 RKO movies from 1930-1941"
   ]
  },
  {
   "cell_type": "markdown",
   "metadata": {},
   "source": [
    "Now we will analyze earnings and costs data of 155 movies made by RKO in the 1930s.  This data can be imported using Pandas, and the DataFrame can be used to define the ColumnDataSource.  We will now use multiple tabs to display different aspects of the data.  First we will plot the cost vs. profit as a scatter plot, and use a clickable tab to display some figures in the form of a bar graph.  To create clickable tabs, the __Panel__ command can be used.  It takes the argument of 'child' which is just the name of the figure to use as a plot.  In the end we will use the __Tab__ command to put all the tabs together into the same box.\n",
    "\n",
    "This data has been taken from: \"J. Sedgwick (1994). \"Richard B. Jewell's RKO Film Grosses, 1929-1951:  The C.J. Trevlin Ledger: A Comment\", Historical Journal of Film, Radio & Television, Vol.14, Issue 1, p. 51\".\n"
   ]
  },
  {
   "cell_type": "code",
   "execution_count": 6,
   "metadata": {
    "collapsed": true
   },
   "outputs": [],
   "source": [
    "#import data and label all variables\n",
    "import pandas\n",
    "mov = pandas.read_csv('movies.csv',sep=\",\")\n",
    "mov.dropna()\n",
    "mov = mov.sort_values(by = ['Year'])\n",
    "years = mov.Year.unique()\n",
    "movGrp = mov.groupby('Year')"
   ]
  },
  {
   "cell_type": "markdown",
   "metadata": {},
   "source": [
    "Apart from the cost and profit, we will also visualize the total revenues generated as a third dimension.  To do this, we will remap the column for revenues to a new range of numbers, which will express the diameter of a circle.  We will then represent each year using a different color in the scatter plot."
   ]
  },
  {
   "cell_type": "code",
   "execution_count": 7,
   "metadata": {
    "collapsed": true
   },
   "outputs": [],
   "source": [
    "#takes an arrray as data, and two floats to specify as the min and max of the new range to be mapped to\n",
    "def redistribute(data,newMin,newMax):\n",
    "    oldMin = min(data)\n",
    "    oldMax = max(data)\n",
    "    return [(((value - oldMin) * (newMax - newMin)) / (oldMax - oldMin)) + newMin for value in data]"
   ]
  },
  {
   "cell_type": "code",
   "execution_count": 8,
   "metadata": {
    "scrolled": true
   },
   "outputs": [],
   "source": [
    "from bokeh.models import Range1d, BoxAnnotation,FactorRange\n",
    "from bokeh.models.widgets import Panel, Tabs\n",
    "\n",
    "col = bp.plasma(len(years))\n",
    "colorDict = dict(zip(years, col))  \n",
    "mov['colors'] = mov['Year'].map(colorDict)  #create a column with a color representing the year.\n",
    "mov['radiiP'] = redistribute(mov['Profit'], 6,50)\n",
    "mov['radiiR'] = redistribute(mov['Revenue'],6,50)\n",
    "source = ColumnDataSource(mov)    #easily define the ColumnDataSource with Pandas DF.\n",
    "#create the scatter plot\n",
    "dots = figure( plot_width=800, plot_height=500, background_fill_color='#FEFDF5',x_axis_label='Cost in $1000',y_axis_label='Profit in $1000')\n",
    "dots.x_range = Range1d(0,2500)\n",
    "dots.line(x=[0, max(mov['Cost'])] , y =0, line_dash=[18], line_width=4, line_alpha=.8, color='#8B0101')\n",
    "dots.circle(x='Cost', y='Profit', color='colors',size='radiiR',line_color='colors',line_width=2,fill_alpha = .6,legend='Year', source=source)\n",
    "dots.legend.background_fill_alpha = .8\n",
    "dots.add_layout(BoxAnnotation(top=0, fill_alpha=0.05, fill_color='red'))\n",
    "tab1 = Panel(child=dots, title=\"Cost-Profit\")  #once scatter plot is created fit it into a tab using Panel\n",
    "\n",
    "dots2 = figure( plot_width=800, plot_height=500, background_fill_color='#FEFDF5',x_axis_label='Cost in $1000',y_axis_label='Revenue in $1000')\n",
    "dots2.x_range = Range1d(0,2500)\n",
    "dots2.circle(x='Cost', y='Revenue', color='colors',size='radiiP',line_color='colors',line_width=2,fill_alpha = .6,legend='Year', source=source)\n",
    "dots2.legend.background_fill_alpha = .8\n",
    "tab2 = Panel(child=dots2, title=\"Cost-Revenue\")  #once scatter plot is created fit it into a tab using Panel\n",
    "\n",
    "#create the bar graph\n",
    "colr= (bp.plasma(3)) *len(years)        #this will create [col1,col2,col3,col1,col2,col3,...]\n",
    "strYears = [str(yr) for yr in years]\n",
    "cost =  (movGrp['Cost'].sum()).values\n",
    "profit =( movGrp['Profit'].sum()).values\n",
    "rev = (movGrp['Revenue'].sum()).values\n",
    "#prepare all the labels as a list: [(cost,1938),(revenue,1938),(profit,1938),(cost,1939)....]\n",
    "props = ['cost','revenue','profit'] \n",
    "x = [ (yr, prop) for yr in strYears for prop in props ]\n",
    "vals = sum(zip(cost, rev, profit),())\n",
    "source = ColumnDataSource(data=dict(x=x, vals=vals,colr=colr))\n",
    "#create the figure and output\n",
    "bars = figure(x_range=FactorRange(factors=x),plot_width=800, background_fill_color='#FEFDF5')\n",
    "bars.vbar(x='x', top='vals',color='colr',fill_alpha=.8, width=1,source=source)\n",
    "bars.x_range.range_padding = 0.1\n",
    "bars.xaxis.major_label_orientation = 1\n",
    "bars.xgrid.grid_line_color = None\n",
    "tab3 = Panel(child=bars, title=\"Bar\")\n",
    "\n",
    "tabs = Tabs(tabs=[ tab1,tab2, tab3 ])\n",
    "show(tabs)"
   ]
  },
  {
   "cell_type": "markdown",
   "metadata": {
    "collapsed": true
   },
   "source": [
    "![dots](https://i.imgur.com/n9NypyN.gif)\n"
   ]
  },
  {
   "cell_type": "markdown",
   "metadata": {},
   "source": [
    "## 7. Adding Sliders for Interaction:  Visualizing Polynomial featurs of degree n"
   ]
  },
  {
   "cell_type": "markdown",
   "metadata": {},
   "source": [
    "Bokeh's greatest strength is the ability  to add interactions.  We can add different types of widgets in Bokeh, which can be different types of buttons, tabs, sliders etc.  These widgets can take input from users, and update the graph accordingly.  In this part of the tutorial, we will fit a regression line to a scatter plot, and then build a sider, which will control the degree of the polynomial.  The regression curve will update according to the degree defined by the user.\n",
    "\n",
    "These interactive applications have to be run on a separate bokeh server.  This server synchronizes between Python and the web browser, and responds to tool events to update the plots.  This means that after writing the code, the Bokeh server has to be started from the terminal.  In the terminal, navigate to the same directory as the python Notebook, and then type __bokeh serve filename.ipynb__ at the command prompt to launch the server.  Then we can navigate to the webpage __http://localhost:5006/filename__ to view our application.  In the code we can use __curdoc()__ to maintain the connection. "
   ]
  },
  {
   "cell_type": "code",
   "execution_count": 9,
   "metadata": {
    "collapsed": true
   },
   "outputs": [],
   "source": [
    "#importing the data using a pandas.\n",
    "io = pandas.read_csv('data.csv',sep=\",\",usecols=(0,1))\n",
    "x = io['x'].values\n",
    "y = io['y'].values"
   ]
  },
  {
   "cell_type": "markdown",
   "metadata": {},
   "source": [
    "While the 'x' and 'y' variables store the data for the scatter plot, we will define a new variable 'cx' and 'cy' to create the regression line.  This will ensure a smooth looking curve even if there are very few data points in x and y.  After importing our data, and defining our variables, we will store these in a ColumnDataSource.  Next we can define our slider using the __Slider__ command, and identify a start, stop, and title for the slider.  After that we have to create our event handlers, and define our update function.  The slider takes an __on_change__ method, which triggers the update function.  The update function recalculates all values that need changing, and then updates them in the columndatasource."
   ]
  },
  {
   "cell_type": "code",
   "execution_count": 10,
   "metadata": {},
   "outputs": [
    {
     "name": "stderr",
     "output_type": "stream",
     "text": [
      "C:\\Users\\Noreen\\Anaconda3\\lib\\site-packages\\bokeh\\models\\sources.py:138: BokehUserWarning: ColumnDataSource's columns must be of the same length. Current lengths: ('cx', 100), ('cy', 100), ('x', 49), ('y', 49)\n",
      "  \"Current lengths: %s\" % \", \".join(sorted(str((k, len(v))) for k, v in data.items())), BokehUserWarning))\n"
     ]
    }
   ],
   "source": [
    "from bokeh.io import curdoc\n",
    "from bokeh.layouts import column, widgetbox\n",
    "from bokeh.models.widgets import Slider\n",
    "\n",
    "cx = np.linspace(min(x), max(x), 100) \n",
    "cpoly = np.poly1d(np.polyfit(x,y,1))\n",
    "cy = cpoly(cx)\n",
    "col = np.flip(bp.viridis(len(x)),0)\n",
    "\n",
    "source = ColumnDataSource(data=dict(cx=cx, cy=cy, x=x, y=y))\n",
    "plot = figure(plot_width=600, plot_height=400,background_fill_color='#F9FDFF' )\n",
    "a2 = plot.circle(x,y, radius=5, fill_alpha =.6,color = col,line_color = col,line_width=2  ) #scatter plot\n",
    "plot.line('cx', 'cy', source=source, line_width=2, line_alpha=0.7, line_color=\"#153858\") #regresion line\n",
    "degreeFit = Slider(start=1, end=20, value=1, step=1, title=\"Degree of Polynomial\")       #slider for input\n",
    "\n",
    "def updateData(attrname, old, new):\n",
    "    d = degreeFit.value\n",
    "    pcpoly = np.poly1d(np.polyfit(x,y,d))\n",
    "    cy = pcpoly(cx)\n",
    "    source.data = dict(cx=cx, cy=cy, x=x, y=y)\n",
    "\n",
    "degreeFit.on_change('value', updateData)\n",
    "inputs = widgetbox(degreeFit)\n",
    "curdoc().add_root(column(inputs, plot))\n",
    "curdoc().title = \"Regression\""
   ]
  },
  {
   "cell_type": "markdown",
   "metadata": {},
   "source": [
    "<h3><center>Visualizing Polynomial featurs of degree n</center></h3>![Image](https://i.imgur.com/5WYUw8h.gif)"
   ]
  },
  {
   "cell_type": "markdown",
   "metadata": {
    "collapsed": true
   },
   "source": [
    "## 8.  Adding Buttons:  Interactive Regression using polynomial of degree n\n",
    "Being able to stream data, or change it interactively is the true strength of Bokeh.   Now, to the previous code, we will add user ability to add, move and remove data points, and see how the regression line changes accordingly. We will also add a table to the output, which will show how the 'x' and 'y' variables have changed.\n",
    "\n",
    "We will now have two new imports.  We will import a button, which will trigger the update of the regression line.  We will also add TableColumn and DataTable which will display the table with all the required variables.\n",
    "\n",
    "To change the data of the scatter plot, we will use the PointDrawTool which we talked about in the spiral graph.  Please note that when we add new points, it adds a new value to each column of the columndatasource.  This new value can be defined by the __empty_value__.  So if we use 'yellow' as our empty_value, and the columndatasource has columns like x, y, cx, cy, color then when you  add a new point, it will assign that value to the x and y, and to the cx, cy and color column it will add 'yellow', 'yellow' and 'yellow'.  For this reason, we have to define a seperate columndatasource for the scatter circles and a separate one for the regression line."
   ]
  },
  {
   "cell_type": "code",
   "execution_count": 11,
   "metadata": {
    "collapsed": true
   },
   "outputs": [],
   "source": [
    "from bokeh.models import TableColumn,DataTable  #for custom tools\n",
    "from bokeh.models.widgets import Button\n",
    "\n",
    "cx = np.linspace(min(x), max(x), 100)\n",
    "cpoly = np.poly1d(np.polyfit(x,y,1))\n",
    "cy = cpoly(cx)\n",
    "col = np.flip(bp.viridis(len(x)),0)\n",
    "sourceR = ColumnDataSource(data=dict(cx=cx, cy=cy))        #identify our data sources.\n",
    "sourceDots = ColumnDataSource(data=dict(x=x,y=y, col=col))\n",
    "\n",
    "plot = figure(plot_width=600, plot_height=400,background_fill_color='#F9FDFF' )\n",
    "a2 = plot.circle('x','y', radius=5,color='col', fill_alpha =.6,line_width=2,source=sourceDots  )\n",
    "plot.line('cx', 'cy', source=sourceR, line_width=2, line_alpha=0.7, line_color=\"#153858\")\n",
    "degreeFit = Slider(start=1, end=20, value=1, step=1, title=\"Degree of Polynomial\")\n",
    "button = Button(label=\"Click to Update\", button_type=\"success\")    #define our button.\n",
    "\n",
    "draw_tool = PointDrawTool(renderers=[a2],empty_value='yellow')\n",
    "plot.add_tools(draw_tool)\n",
    "plot.toolbar.active_tap = draw_tool\n",
    "\n",
    "def updateData(attrname, old, new):                        #triggered by the slider\n",
    "    d = degreeFit.value\n",
    "    pcpoly = np.poly1d(np.polyfit(sourceDots.data['x'],sourceDots.data['y'],d))\n",
    "    cy = pcpoly(cx)\n",
    "    sourceR.data = dict(cx=cx, cy=cy)\n",
    "\n",
    "def updateAll():                                            #triggered by the button\n",
    "    d = degreeFit.value\n",
    "    pcpoly = np.poly1d(np.polyfit(sourceDots.data['x'],sourceDots.data['y'],d))\n",
    "    cy = pcpoly(cx)\n",
    "    sourceR.data = dict(cx=cx, cy=cy)    \n",
    "#define the columns of the \n",
    "columns = [TableColumn(field=\"x\", title=\"x\"),\n",
    "           TableColumn(field=\"y\", title=\"y\"),\n",
    "           TableColumn(field='col', title='color')]\n",
    "table = DataTable(source=sourceDots, columns=columns, editable=True,height=200)    \n",
    "\n",
    "degreeFit.on_change('value', updateData)\n",
    "button.on_click(updateAll)\n",
    "inputs = widgetbox(degreeFit,button)\n",
    "curdoc().add_root(column(inputs, plot,table))\n",
    "curdoc().title = \"Regression\""
   ]
  },
  {
   "cell_type": "markdown",
   "metadata": {},
   "source": [
    "<h3><center>Improved Visualizatio of Polynomial Degree Fit for Regression with Bokeh</center></h3>\n",
    "![Improved Regression](https://i.imgur.com/PDqV6Nw.gif)"
   ]
  },
  {
   "cell_type": "markdown",
   "metadata": {},
   "source": [
    "<h3><center>Table with updated values of the data</center></h3>![Table](https://i.imgur.com/Q2NSHMy.gif)"
   ]
  }
 ],
 "metadata": {
  "kernelspec": {
   "display_name": "Python 3",
   "language": "python",
   "name": "python3"
  },
  "language_info": {
   "codemirror_mode": {
    "name": "ipython",
    "version": 3
   },
   "file_extension": ".py",
   "mimetype": "text/x-python",
   "name": "python",
   "nbconvert_exporter": "python",
   "pygments_lexer": "ipython3",
   "version": "3.6.3"
  }
 },
 "nbformat": 4,
 "nbformat_minor": 2
}
