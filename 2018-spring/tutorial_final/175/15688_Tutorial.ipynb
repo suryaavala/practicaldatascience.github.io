{
 "cells": [
  {
   "cell_type": "markdown",
   "metadata": {},
   "source": [
    "# CONVOLUTIONAL NEURAL NETWORKS IN TENSORFLOW"
   ]
  },
  {
   "cell_type": "markdown",
   "metadata": {},
   "source": [
    "![Tensorflow](Tensorflow.png)"
   ]
  },
  {
   "cell_type": "markdown",
   "metadata": {},
   "source": [
    " ## Introduction"
   ]
  },
  {
   "cell_type": "markdown",
   "metadata": {},
   "source": [
    "This tutorial will introduce you to convolutional neural networks. The primary role of any data science professional is to extract hidden patterns from data. While general machine learning techniques are sufficient for majority of the tasks,neural networks are particularly useful when the data is composed of images,speech or video. Convolutional neural network is a specific type of neural network which is primarily used for computer vision tasks (i.e image recognition).\n",
    "\n",
    "Recently a company called iSono Health used convolutional neural networks to develop a cost efficient automated ultrasound imaging platform to help women detect breast cancer early. The person who built the deep learning model for iSono Health is a data scientist. In this [article](https://blog.insightdatascience.com/automating-breast-cancer-detection-with-deep-learning-d8b49da17950) he talks about how he used several data science techniques such as data preprocessing and preparation to build the final model.\n",
    "\n",
    "Researchers at the University of Bonn are attempting to use convolutional neural networks in agricultural robots to monitor crop health so as to promote sustainable farming, thereby reducing the dependence on fertilizers, herbicides and pesticides. For further information please refer to this [article](https://www.kdnuggets.com/2017/11/real-world-deep-learning-neural-networks-smart-crops.html).\n",
    "\n",
    "Convolutional neural network is the choice of tool for nearly all image related tasks and this tutorial will introduce you to the basics."
   ]
  },
  {
   "cell_type": "markdown",
   "metadata": {},
   "source": [
    "![Convolutional Neural Network](cnn.png)"
   ]
  },
  {
   "cell_type": "markdown",
   "metadata": {},
   "source": [
    "## Tutorial Topics"
   ]
  },
  {
   "cell_type": "markdown",
   "metadata": {},
   "source": [
    "In this tutorial a convolutional neural network is built using [tensorflow](https://www.tensorflow.org/). If you haven't come across tensorflow before please go through this link [Basics of tensorflow](https://medium.com/@curiousily/tensorflow-for-hackers-part-i-basics-2c46bc99c930) before you proceed.\n",
    "\n",
    "The following topics are covered in this tutorial:\n",
    "- [Installing tensorflow](#Installing-tensorflow)\n",
    "- [Loading data and visualization](#Loading-data-and-visualization)\n",
    "- [Creating layers of the network](#Creating-layers-of-the-network)\n",
    "- [Setting up the images](#Setting-up-the-images)\n",
    "- [Running the session](#Running-the-session)\n",
    "- [Summary and References](#Summary-and-References)"
   ]
  },
  {
   "cell_type": "markdown",
   "metadata": {},
   "source": [
    "## Installing tensorflow"
   ]
  },
  {
   "cell_type": "markdown",
   "metadata": {},
   "source": [
    "Please run the following command in your jupyter notebook.\n",
    "\n",
    "!pip install tensorflow==1.3.0\n",
    "\n",
    "After you run the above command please make sure the following libraries work for you."
   ]
  },
  {
   "cell_type": "code",
   "execution_count": 120,
   "metadata": {
    "collapsed": true
   },
   "outputs": [],
   "source": [
    "import tensorflow as tf\n",
    "import matplotlib.pyplot as plt\n",
    "import numpy as np\n",
    "%matplotlib inline"
   ]
  },
  {
   "cell_type": "markdown",
   "metadata": {},
   "source": [
    "## Loading data and visualization"
   ]
  },
  {
   "cell_type": "markdown",
   "metadata": {},
   "source": [
    "The dataset used in this tutorial is the [CIFAR-10](https://www.cs.toronto.edu/~kriz/cifar.html). The dataset consists of 60000 32 x 32 color images in ten possible classes. 50000 images are use to train the model and 10000 images are used to test the model. There are five training batches and one test batch and each batch contains 10000 images. The training batches contain random images whereas the test batch contains exactly 1000 images from each posible class.\n",
    "\n",
    "Once you download the dataset please save it in the same directory as this tutorial."
   ]
  },
  {
   "cell_type": "code",
   "execution_count": 121,
   "metadata": {
    "collapsed": true
   },
   "outputs": [],
   "source": [
    "# Load the data and check if it has been loaded properly\n",
    "Directory_name='cifar-10-batches-py/'\n",
    "files_name=['batches.meta','data_batch_1','data_batch_2','data_batch_3','data_batch_4','data_batch_5','test_batch']"
   ]
  },
  {
   "cell_type": "markdown",
   "metadata": {},
   "source": [
    "The creators of the CIFAR-10 dataset provided the below function to extract the data."
   ]
  },
  {
   "cell_type": "code",
   "execution_count": 122,
   "metadata": {
    "collapsed": true
   },
   "outputs": [],
   "source": [
    "def unpickle(file):\n",
    "    import pickle\n",
    "    with open(file, 'rb') as fo:\n",
    "        cifar_dict = pickle.load(fo, encoding='bytes')\n",
    "    return cifar_dict"
   ]
  },
  {
   "cell_type": "markdown",
   "metadata": {},
   "source": [
    "We now create the various training batches and the test batch.There are five training batches and one test batch."
   ]
  },
  {
   "cell_type": "code",
   "execution_count": 123,
   "metadata": {
    "collapsed": true
   },
   "outputs": [],
   "source": [
    "Batches_meta=unpickle(Directory_name + files_name[0])\n",
    "Data_batch_1=unpickle(Directory_name + files_name[1])\n",
    "Data_batch_2=unpickle(Directory_name + files_name[2])\n",
    "Data_batch_3=unpickle(Directory_name + files_name[3])\n",
    "Data_batch_4=unpickle(Directory_name + files_name[4])\n",
    "Data_batch_5=unpickle(Directory_name + files_name[5])\n",
    "Test_batch=unpickle(Directory_name + files_name[6])"
   ]
  },
  {
   "cell_type": "code",
   "execution_count": 124,
   "metadata": {},
   "outputs": [
    {
     "data": {
      "text/plain": [
       "dict_keys([b'batch_label', b'labels', b'data', b'filenames'])"
      ]
     },
     "execution_count": 124,
     "metadata": {},
     "output_type": "execute_result"
    }
   ],
   "source": [
    "# Keys of the various data batches and test batch\n",
    "Data_batch_1.keys()"
   ]
  },
  {
   "cell_type": "markdown",
   "metadata": {},
   "source": [
    "data-10000 x 3072 numpy array. Each row stores a 32x32 image. The 3072 value is split as follows: first 1024 values correspond to the red channel,next 1024 values to green channel and last 1024 values to blue channel. \n",
    "\n",
    "labels-10000 numbers in the range 0-9. These represent the possible class values of the image."
   ]
  },
  {
   "cell_type": "code",
   "execution_count": 125,
   "metadata": {},
   "outputs": [
    {
     "data": {
      "text/plain": [
       "{b'label_names': [b'airplane',\n",
       "  b'automobile',\n",
       "  b'bird',\n",
       "  b'cat',\n",
       "  b'deer',\n",
       "  b'dog',\n",
       "  b'frog',\n",
       "  b'horse',\n",
       "  b'ship',\n",
       "  b'truck'],\n",
       " b'num_cases_per_batch': 10000,\n",
       " b'num_vis': 3072}"
      ]
     },
     "execution_count": 125,
     "metadata": {},
     "output_type": "execute_result"
    }
   ],
   "source": [
    "# The various possible classes\n",
    "Batches_meta"
   ]
  },
  {
   "cell_type": "markdown",
   "metadata": {},
   "source": [
    "![Classes](pic.png)"
   ]
  },
  {
   "cell_type": "code",
   "execution_count": 126,
   "metadata": {},
   "outputs": [
    {
     "data": {
      "text/plain": [
       "<matplotlib.image.AxesImage at 0x2f4e80f0>"
      ]
     },
     "execution_count": 126,
     "metadata": {},
     "output_type": "execute_result"
    },
    {
     "data": {
      "image/png": "[encoded data removed]",
      "text/plain": [
       "<matplotlib.figure.Figure at 0x1b27c240>"
      ]
     },
     "metadata": {},
     "output_type": "display_data"
    }
   ],
   "source": [
    "# Visualizing a single image\n",
    "image=Data_batch_1[b'data']\n",
    "image=image.reshape(10000,3,32,32).transpose(0,2,3,1)\n",
    "plt.imshow(image[105],interpolation='nearest')"
   ]
  },
  {
   "cell_type": "code",
   "execution_count": 127,
   "metadata": {},
   "outputs": [
    {
     "data": {
      "text/plain": [
       "<matplotlib.image.AxesImage at 0x18a2fc50>"
      ]
     },
     "execution_count": 127,
     "metadata": {},
     "output_type": "execute_result"
    },
    {
     "data": {
      "image/png": "[encoded data removed]",
      "text/plain": [
       "<matplotlib.figure.Figure at 0x18a64080>"
      ]
     },
     "metadata": {},
     "output_type": "display_data"
    }
   ],
   "source": [
    "plt.imshow(image[369],interpolation='nearest')"
   ]
  },
  {
   "cell_type": "markdown",
   "metadata": {
    "collapsed": true
   },
   "source": []
  },
  {
   "cell_type": "markdown",
   "metadata": {},
   "source": [
    "## Creating layers of the network"
   ]
  },
  {
   "cell_type": "markdown",
   "metadata": {},
   "source": [
    "Most of the Convolutional neural network architectures used in practice consists of three main layers: Convolutional layer,Max pooling layer and the Fully connected layer. Description of the layers in detail:\n",
    "\n",
    "Input [32X32X3]- The input to the CNN is an image of height and width equal to 32 pixels and with three color channels (red,green,blue). \n",
    "\n",
    "Convolutional Layer  [32x32xnumber of filters]- each neuron will compute the dot product between their weights and a small region in the input. This layer is used to identify the various features in the input such as straight edges,curves,colors et cetera.\n",
    "\n",
    "Relu [32x32xnumber of filters]- this layer will apply an activation function to each element ( max(0,element) thresholding at zero).The output is the same size as the input. Note there can be other activation functions, such as sigmoid(rarely used), hyperbolic tangent function (tanh) et cetera.\n",
    "\n",
    "Pool [16x16xnumber of filters]- this operation will reduce the size along the height and width. In addition this operation controls the number of parameters, thereby controlling overfitting. There are several pooling operations that can be used such as max-pooling, average pooling, L2 norm pooling et cetera. In this tutorial I've used max pooling operation.\n",
    "\n",
    "Fully Connected Layer [1x1x10]- this layer will compute the final scores of each class. Each neuron in this layer will be connected to all the neurons in the previous layer. The activation of this layer is calculated with a matrix multiplication and a bias value.\n"
   ]
  },
  {
   "cell_type": "markdown",
   "metadata": {},
   "source": [
    "#### Hyperparameters\n",
    "\n",
    "Stride- we use this hyperparameter to slide over the input. For example when the stride is two then we move the filter two pixels at a time.\n",
    "\n",
    "Zero-padding - this hyperparameter is used to preserve information from the original input so that we can extract the low level features.\n",
    "\n",
    "If you require additional clarity on some of the terminologies mentioned, please refer to this [paper](http://cs231n.github.io/convolutional-networks/)"
   ]
  },
  {
   "cell_type": "code",
   "execution_count": 128,
   "metadata": {
    "collapsed": true
   },
   "outputs": [],
   "source": [
    "# Helper Functions for the various layers\n",
    "\n",
    "# Initialization of weights and bias\n",
    "def weights(size):\n",
    "    stddev_truncated_normal=0.1\n",
    "    Weights=tf.truncated_normal(shape=size,stddev=stddev_truncated_normal)\n",
    "    return tf.Variable(Weights)\n",
    "\n",
    "def bias(size):\n",
    "    value_bias=0.1\n",
    "    Bias=tf.constant(value=value_bias,shape=size)\n",
    "    return tf.Variable(Bias)\n",
    "\n",
    "def conv2D(input_x,m):\n",
    "    return tf.nn.conv2d(input_x,m,strides=[1,1,1,1],padding='SAME')\n",
    "\n",
    "def max_pool(conv_output):\n",
    "    stride_length=2\n",
    "    return tf.nn.max_pool(conv_output,ksize=[1,stride_length,stride_length,1],strides=[1,2,2,1],padding='SAME')\n",
    "\n",
    "def conv_layer(input_x,size):\n",
    "    w=weights(size)\n",
    "    b=bias([size[3]])\n",
    "    conv_output=conv2D(input_x,w)+b\n",
    "    return tf.nn.relu(conv_output)\n",
    "\n",
    "def fully_connected_layer(input_layer,user_size):\n",
    "    Shape=int(input_layer.get_shape()[1])\n",
    "    w=weights([Shape,user_size])\n",
    "    b=bias([user_size])\n",
    "    matrix_multiplication=tf.matmul(input_layer,w)\n",
    "    return  (matrix_multiplication + b)"
   ]
  },
  {
   "cell_type": "code",
   "execution_count": 129,
   "metadata": {
    "collapsed": true
   },
   "outputs": [],
   "source": [
    "# Place holders [None] since we assign the size of the batch later\n",
    "x=tf.placeholder(tf.float32,shape=[None,32,32,3]) \n",
    "ytrue=tf.placeholder(tf.float32,shape=[None,10])\n",
    "\n",
    "holdout_prob=tf.placeholder(tf.float32)"
   ]
  },
  {
   "cell_type": "code",
   "execution_count": 130,
   "metadata": {
    "collapsed": true
   },
   "outputs": [],
   "source": [
    "# Various Layers 2 convolutional layers 2 max pool layers and 1 fully connected layer\n",
    "conv_layer1=conv_layer(x,[5,5,3,32])\n",
    "max_pool1=max_pool(conv_layer1)\n",
    "\n",
    "# Filter size can vary I've used 5X5 filter\n",
    "conv_layer2=conv_layer(max_pool1,[5,5,32,64])\n",
    "max_pool2=max_pool(conv_layer2)\n",
    "\n",
    "# we have used 2 max pool layers so 32/2/2=8 \n",
    "reshaped_layer=tf.reshape(max_pool2,[-1,8*8*64])\n",
    "full_layer=tf.nn.relu(fully_connected_layer(reshaped_layer,1024))\n",
    "\n",
    "random_dropout=tf.nn.dropout(full_layer,keep_prob=holdout_prob)\n",
    "ypred=fully_connected_layer(random_dropout,10)"
   ]
  },
  {
   "cell_type": "markdown",
   "metadata": {},
   "source": [
    "####  Dropout and Optimizer\n",
    "\n",
    "Dropout - this is a technique to combat overfitting in neural networks. In this technique half the neurons are deactivated from a specific layer during training. In this tutorial I have used dropout only on the fully connected layer. When we are testing the model the dropout is deactivated.\n",
    "\n",
    "Optimizer- there are several optimizers that can be used such as Gradient Descent, Gradient Descent with momentum, RMSprop and Adam optimizer. This tutorial uses the Adam optimizer since it is a mixture of Gradient Descent with momentum and RMSprop, therefore gives better performance. "
   ]
  },
  {
   "cell_type": "code",
   "execution_count": 131,
   "metadata": {
    "collapsed": true
   },
   "outputs": [],
   "source": [
    "# Loss function\n",
    "loss_function=tf.nn.softmax_cross_entropy_with_logits(labels=ytrue,logits=ypred)\n",
    "loss=tf.reduce_mean(loss_function)\n",
    "\n",
    "#Optimizer\n",
    "optimizer=tf.train.AdamOptimizer(learning_rate=0.001)\n",
    "train_var=optimizer.minimize(loss)"
   ]
  },
  {
   "cell_type": "code",
   "execution_count": 132,
   "metadata": {
    "collapsed": true
   },
   "outputs": [],
   "source": [
    "# Create session\n",
    "sess=tf.InteractiveSession()\n",
    "\n",
    "# Initialize all the variables created and run\n",
    "var_init=tf.global_variables_initializer()\n",
    "sess.run(var_init)"
   ]
  },
  {
   "cell_type": "markdown",
   "metadata": {},
   "source": [
    "## Setting up the images"
   ]
  },
  {
   "cell_type": "markdown",
   "metadata": {},
   "source": [
    "The images are present in the 5 training batches. Each individual batch contains 10000 images, since we are using mini-batches during training, we need to combine all the 5 training batches into one large batch before we can obtain the mini batches. \n",
    "\n",
    "Moreover, the actual labels of the images are not one-hot encoded (process of converting categorical variables into it's own array, where value is 1 if the particular category is encountered and zero everywhere else). One hot encoding helps the neural network perform better."
   ]
  },
  {
   "cell_type": "code",
   "execution_count": 133,
   "metadata": {
    "collapsed": true
   },
   "outputs": [],
   "source": [
    "training_batches=[Data_batch_1,Data_batch_2,Data_batch_3,Data_batch_4,Data_batch_5]\n",
    "\n",
    "# To vertically stack all the training images \n",
    "training_images=[dta[b'data'] for dta in training_batches]\n",
    "training_images=np.vstack(training_images)\n",
    "\n",
    "# Reshape images to correct size and normalize it\n",
    "training_images=training_images.reshape(len(training_images),3,32,32).transpose(0,2,3,1)\n",
    "training_images=training_images/training_images.max()\n",
    "\n",
    "# Horizontally stacking all the labels of the images and performing one hot encoding on them (there are 10 classes)\n",
    "training_labels=[label[b'labels'] for label in training_batches]\n",
    "training_labels=np.hstack(training_labels)\n",
    "one_hot_encoded=tf.one_hot(training_labels,10)\n",
    "\n",
    "training_labels=sess.run(one_hot_encoded)\n",
    "\n",
    "# Doing the same as above for test Labels\n",
    "testing_images=np.vstack(Test_batch[b'data'])\n",
    "testing_images=testing_images.reshape(len(testing_images),3,32,32).transpose(0,2,3,1)\n",
    "testing_images=testing_images/testing_images.max()\n",
    "\n",
    "testing_labels=np.hstack(Test_batch[b'labels'])\n",
    "test_one_hot_encoded=tf.one_hot(testing_labels,10)\n",
    "\n",
    "testing_labels=sess.run(test_one_hot_encoded)"
   ]
  },
  {
   "cell_type": "code",
   "execution_count": 134,
   "metadata": {
    "collapsed": true
   },
   "outputs": [],
   "source": [
    "# To get next batches\n",
    "class Next_batch():\n",
    "    def __init__(self):\n",
    "        self.counter=0\n",
    "    def next_batch(self,batch_size):\n",
    "        x=training_images[self.counter:batch_size+self.counter].reshape(batch_size,32,32,3)\n",
    "        y=training_labels[self.counter:batch_size+self.counter]\n",
    "        self.counter=(self.counter+batch_size)% len(training_images) \n",
    "        return x,y"
   ]
  },
  {
   "cell_type": "markdown",
   "metadata": {},
   "source": [
    "## Running the session"
   ]
  },
  {
   "cell_type": "markdown",
   "metadata": {},
   "source": [
    "Finally, we run the session. There are two operations going on in the session. In the first part we train the convolutional neural network for 5000 epochs using a batch size of 100. The training operation takes a long time to finsh even for just 5000 epochs. To get higher accuracy we need to run the model for more number of epochs (there are other modifications that we can make, however they are not considered in this tutorial). "
   ]
  },
  {
   "cell_type": "code",
   "execution_count": 135,
   "metadata": {},
   "outputs": [
    {
     "name": "stdout",
     "output_type": "stream",
     "text": [
      "Training is complete\n"
     ]
    }
   ],
   "source": [
    "batch_class=Next_batch()\n",
    "epochs=5000\n",
    "# GRAPH SESSION\n",
    "\n",
    "# Training the CNN\n",
    "for step in range(epochs):\n",
    "    x_value,y_value=batch_class.next_batch(100)\n",
    "    sess.run(train_var,feed_dict={x:x_value,ytrue:y_value,holdout_prob:0.5})\n",
    "    \n",
    "print('Training is complete')\n",
    "    "
   ]
  },
  {
   "cell_type": "markdown",
   "metadata": {},
   "source": [
    "Once the training is complete we test the model on the test set."
   ]
  },
  {
   "cell_type": "code",
   "execution_count": 136,
   "metadata": {},
   "outputs": [
    {
     "name": "stdout",
     "output_type": "stream",
     "text": [
      "Final Testing Accuacy\n",
      "67.5800025463 %\n"
     ]
    }
   ],
   "source": [
    "# Testing the model\n",
    "correct_prediction=tf.equal(tf.argmax(ypred,1),tf.argmax(ytrue,1))\n",
    "casting_to_float=tf.cast(correct_prediction,'float')\n",
    "casting=tf.reduce_mean(casting_to_float)\n",
    "\n",
    "print('Final Testing Accuacy')\n",
    "accuracy=sess.run(casting,feed_dict={x:testing_images,ytrue:testing_labels,holdout_prob:1.0})\n",
    "print(str(accuracy*100)+' %')\n"
   ]
  },
  {
   "cell_type": "markdown",
   "metadata": {},
   "source": [
    "## Summary and References"
   ]
  },
  {
   "cell_type": "markdown",
   "metadata": {},
   "source": [
    "This tutorial covers the basics of convolutional neural networks. To better illustrate the concepts a basic model was developed in tensorflow. The hyperparameters have not been tuned using a cross validation set. To improve this model please refer to the following sources:\n",
    "\n",
    "- [introduction to visual recognition](http://cs231n.stanford.edu/syllabus.html)\n",
    "- [introduction to tensorflow](http://web.stanford.edu/class/cs20si/syllabus.html)\n",
    "- [CIFAR-10](https://www.cs.toronto.edu/~kriz/cifar.html)\n",
    "\n",
    "- [tensorflow for deep learning with python- udemy](https://www.udemy.com/courses/search/?q=tensorflow%20deep%20learning&src=sac&kw=tensorflow)\n",
    "\n",
    "Pictures are from [google](https://www.google.com/search?q=cnn+picture+for+cifar+10&source=lnms&tbm=isch&sa=X&ved=0ahUKEwiOtJXs_5TaAhXmt1kKHUISBTIQ_AUICigB&biw=1536&bih=711#imgrc=olX_OEK8LUkzmM:)\n",
    "\n",
    "The last link is from an online course and is paid\n"
   ]
  },
  {
   "cell_type": "code",
   "execution_count": null,
   "metadata": {
    "collapsed": true
   },
   "outputs": [],
   "source": []
  }
 ],
 "metadata": {
  "kernelspec": {
   "display_name": "Python 3",
   "language": "python",
   "name": "python3"
  },
  "language_info": {
   "codemirror_mode": {
    "name": "ipython",
    "version": 3
   },
   "file_extension": ".py",
   "mimetype": "text/x-python",
   "name": "python",
   "nbconvert_exporter": "python",
   "pygments_lexer": "ipython3",
   "version": "3.6.3"
  }
 },
 "nbformat": 4,
 "nbformat_minor": 2
}
