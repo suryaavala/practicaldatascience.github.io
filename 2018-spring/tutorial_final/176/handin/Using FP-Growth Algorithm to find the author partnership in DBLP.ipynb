{
 "cells": [
  {
   "cell_type": "markdown",
   "metadata": {},
   "source": [
    "# Introduction\n",
    "\n",
    "Frequent itemsets mining algorithms are used to mine itemsets that often appear together. For instance, in the story of \"Diapers and Beer\", diapers and beer are analysed and found to appear together in the user's shopping basket frequently. Therefore, the diaper and beer can be seen as a frequent itemset. In this tutorial, FP-Growth algorithm is utilized to mining DBLP author cooperation. And it needs three steps to find the cooperation:\n",
    "  1. process the data in DBLP dataset\n",
    "  2. Analyze the  size of data\n",
    "  3. Using FP-Growth Algorithm to find the author partnership\n",
    "\n",
    "PS: \n",
    "The files related can be visited on: [file link](https://github.com/QIXUANWANG1995/15688-files-related-to-tutorial).\n",
    "To run the code, you also need to download DBLP dataset by yourself. [dblp link](http://dblp.uni-trier.de/xml/)."
   ]
  },
  {
   "cell_type": "markdown",
   "metadata": {},
   "source": [
    "## Introduction to DBLP Dataset\n",
    "\n",
    "DBLP listed more than 3.66 million journal articles, conference papers, and other publications on computer science in July 2016, up from about 14,000 in 1995. All important journals on computer science are tracked. Proceedings papers of many conferences are also tracked. It is in XML format and is available at: http://dblp.uni-trier.de/xml/\n",
    "\n",
    "Here is an article example from DBLP:\n",
    "```python\n",
    "   <article mdate=\"2017-05-28\" key=\"journals/acta/Saxena96\">\n",
    "     <author>Sanjeev Saxena</author>\n",
    "     <title>Parallel Integer Sorting and Simulation Amongst CRCW Models.</title>\n",
    "     <pages>607-619</pages>\n",
    "     <year>1996</year>\n",
    "     <volume>33</volume>\n",
    "     <journal>Acta Inf.</journal>\n",
    "     <number>7</number>\n",
    "     <url>db/journals/acta/acta33.html#Saxena96</url>\n",
    "     <ee>https://doi.org/10.1007/BF03036466</ee>\n",
    "   </article>\n",
    "```\n",
    "  \n",
    "And all the author information is distributed in the first-level tags including 'article', 'inproceedings', 'proceedings', 'book','incollection', 'phdthesis', 'mastersthesis' and 'www'. Therefore, we can extract and merge all the co-authors by searching these tags. "
   ]
  },
  {
   "cell_type": "markdown",
   "metadata": {},
   "source": [
    "## Part 1: process the data in DBLP dataset\n",
    "\n",
    "The data in DBLP dataset need to be processd and extracted the author information to build FP-tree. Python has three methods for parsing XML, SAX, DOM, and ElementTree:\n",
    "\n",
    "1. SAX(simple API for XML): \n",
    "The python standard library contains SAX parsers. SAX uses event-driven models to process XML files by triggering events one by one during the parsing of XML and calling user-defined callbacks.\n",
    "\n",
    "2. DOM(Document Object Model): \n",
    "XML data is parsed into a tree in memory, and XML is manipulated through the operation of the tree.\n",
    "\n",
    "3. Element Tree: \n",
    "ElementTree is like a lightweight DOM with a convenient and friendly API. The code has good usability, fast speed, and low memory consumption.\n",
    "\n",
    "Since the DOM needs to map XML data to a tree in memory, it is slower and consumes lots of memory. Here SAX streaming is used to read the XML file which is faster and useful. Apart from the three ways listed to parse XML, we can also  treat each line as a string and extract the author from the string. By using that method, we can also get results quickly. \n",
    "\n",
    "To get the authors that more appropriate for FP-growth algorithm, twelve famous conferences are selected as target conferences. And after locating the conferences including SDM, ICDM, ECML/PKDD, PAKDD, WSDM, DMKD, CVPR, ICML, NIPS, COLT, SIGIR and KDD, the first-level tag of all these conferences is \"inproceedings\". Therefore, the \"inproceedings\" is selected as the only tag used in this tutorial. Also the time range after consideration and repeated calculation, the start year is set to 2013, which has a good performance on the time and final results."
   ]
  },
  {
   "cell_type": "code",
   "execution_count": 29,
   "metadata": {
    "collapsed": true
   },
   "outputs": [],
   "source": [
    "import codecs\n",
    "from xml.sax import handler, make_parser\n",
    "paper_tag = 'inproceedings'\n",
    "fromYear = 2010"
   ]
  },
  {
   "cell_type": "markdown",
   "metadata": {},
   "source": [
    "The idea is that when the analyzer enters one of the above attributes including author, title, pages, year..., the flag is set to 1 and the authors' names are written to the file. After that, flag is marked to 0 when exiting and authors.txt file which only contains the co-author information is obtained as results. Meanwhile, the authors are collected in a time range from 2010 to 2018."
   ]
  },
  {
   "cell_type": "code",
   "execution_count": 30,
   "metadata": {
    "collapsed": true
   },
   "outputs": [],
   "source": [
    "class mHandler(handler.ContentHandler):\n",
    "    '''\n",
    "    startDocument() method is called when the document is started.\n",
    "    endDocument() method is called when the parser reaches the end of the document.\n",
    "    startElement(self, name, attrs) method called when an XML start tag is encountered\n",
    "       name is the name of the tag. eg: author, title, pages, year...\n",
    "       attrs is the tag's attribute value dictionary.\n",
    "    endElement(self, name) method is called when an XML closing tag is encountered.\n",
    "    '''   \n",
    "    def __init__(self, result):\n",
    "        self.result = result\n",
    "        self.authorList = \"\"\n",
    "        self.year = 0\n",
    "        self.flag = 0\n",
    "        self.tag = \"\"\n",
    "        self.temp = \"\"\n",
    "        \n",
    "    def startDocument(self):\n",
    "         print (\"Document start\")\n",
    "         \n",
    "    def endDocument(self):\n",
    "         print (\"Document end\")\n",
    "    \n",
    "    def startElement(self, tag, attributes):\n",
    "        if tag == paper_tag:\n",
    "            self.flag = 1\n",
    "            self.temp = tag\n",
    "        elif self.flag == 1: #tag !=\"inproceedings\" and self.flag==1, we are now in a subtag of \"inproceedings\"\n",
    "            self.tag = tag\n",
    "        \n",
    "    def endElement(self, tag):\n",
    "        if self.flag == 1 and self.temp == tag:\n",
    "            if self.year >= fromYear and len(self.authorList) > 0:\n",
    "                #res=[] \"author1|author2|..|authorn \\n\"\n",
    "                res = self.authorList + \"\\r\\n\"\n",
    "                self.result.write(res)\n",
    "            self.authorList = \"\"\n",
    "            self.year = 0\n",
    "            self.flag = 0\n",
    "            self.tag = \"\"\n",
    "            self.temp = \"\"\n",
    "    \n",
    "    def characters(self, content):\n",
    "        if self.flag==1: #we are now in \"inproceedings\" tag\n",
    "            if self.tag == \"author\" and len(content) > 2:\n",
    "                self.authorList += content + \"|\"\n",
    "            elif self.tag == \"year\" and len(content) == 4:\n",
    "                self.year = int(content)\n",
    "                \n",
    "def parserDblpXml(source, result):\n",
    "    handler = mHandler(result)\n",
    "    parser = make_parser()\n",
    "    parser.setContentHandler(handler)\n",
    "    parser.parse(source)    "
   ]
  },
  {
   "cell_type": "markdown",
   "metadata": {},
   "source": [
    "Then you can get the results of authors and if they are co-authors, they will be in one line. The following is a sample of output:\n",
    "```python\n",
    " Pierre Seimandi|Guillaume Dufour|Fran|ois Rogier\n",
    " Naveen Kuppuswamy|Cristiano Alessandro\n",
    " Su-Hua Wang|Durgesh Samadhiya|Dengjie Chen\n",
    "  ...\n",
    "```\n",
    "The result of authors are stored in a txt file named authors.txt for the future usage."
   ]
  },
  {
   "cell_type": "code",
   "execution_count": 31,
   "metadata": {},
   "outputs": [
    {
     "name": "stdout",
     "output_type": "stream",
     "text": [
      "Document start\n",
      "Document end\n"
     ]
    }
   ],
   "source": [
    "source = codecs.open('dblp.xml','r','utf-8')\n",
    "result = codecs.open('authors.txt','w','utf-8')\n",
    "parserDblpXml(source,result)\n",
    "result.close()\n",
    "source.close()"
   ]
  },
  {
   "cell_type": "markdown",
   "metadata": {},
   "source": [
    "First, the authors obtained in step 1 are read and I suppose the same name of co-authors to be one person since the FP-Growth algorithm does not allow the same name. Then the name of collaborators is written in the authors_encoded.txt file. For example, one line like \"ristiano Pierre Seimandi,Guillaume Dufour,ois Rogier,Fran\" means these four authors are the co-authors in a certain paper or publication.   "
   ]
  },
  {
   "cell_type": "code",
   "execution_count": 28,
   "metadata": {},
   "outputs": [
    {
     "name": "stdout",
     "output_type": "stream",
     "text": [
      "finished\n"
     ]
    }
   ],
   "source": [
    "source = codecs.open('authors.txt','r','utf-8')\n",
    "result = codecs.open('authors_encoded.txt','w','utf-8')\n",
    "\n",
    "for line in source:\n",
    "    name_list = line.replace('\\r\\n','').split('|')\n",
    "    t = set()\n",
    "    for name in name_list:\n",
    "        if not (name == '' or name == ' '):\n",
    "            t.add(name)\n",
    "    result.write((','.join(t))+'\\r\\n')\n",
    "source.close()\n",
    "result.close()\n",
    "print(\"finished\")"
   ]
  },
  {
   "cell_type": "markdown",
   "metadata": {},
   "source": [
    "Here, some examples of the output are listed:\n",
    "```python\n",
    "  Pierre Seimandi,Guillaume Dufour,ois Rogier,Fran\n",
    "  Cristiano Alessandro,Naveen Kuppuswamy\n",
    "  Durgesh Samadhiya,Su-Hua Wang,Dengjie Chen\n",
    "```\n",
    " Each line represents a co-relationship among authors. Let's see the first line 'Fran,Guillaume Dufour,Pierre Seimandi,ois Rogier' which means five authors listed are the coauthor in one publication."
   ]
  },
  {
   "cell_type": "markdown",
   "metadata": {},
   "source": [
    "# Part 2: Analyze the  size of data\n",
    "\n",
    "First, the number of papers or publications of every author are calculated and documented. Then we can create a coordinator system. The horizontal axis indicates the number of publications and the vertical axis indicates the number of authors that has corresponding publications. The purpose of the picture is to help us to determine an interval that is appropriate and find that threshold value. Then the support degree can be obtained for the FP-growth algorithm."
   ]
  },
  {
   "cell_type": "code",
   "execution_count": 10,
   "metadata": {
    "collapsed": true
   },
   "outputs": [],
   "source": [
    "import codecs\n",
    "import matplotlib.pyplot as plt\n",
    "import numpy as np"
   ]
  },
  {
   "cell_type": "code",
   "execution_count": 12,
   "metadata": {
    "collapsed": true
   },
   "outputs": [],
   "source": [
    "def getcounts(name):\n",
    "    data = codecs.open(name,'r','utf-8')\n",
    "    word_counts = {}\n",
    "    for line in data:\n",
    "        line = line.split(',')\n",
    "        for word in line[0:-1]:\n",
    "            word_counts[word] = word_counts.get(word,0) + 1\n",
    "\n",
    "    data.close()\n",
    "    return word_counts"
   ]
  },
  {
   "cell_type": "markdown",
   "metadata": {},
   "source": [
    "The dictionary named word_counts stores the number of occurrences of an author. The key of the dictionary is the name of author and the value is the frequency."
   ]
  },
  {
   "cell_type": "code",
   "execution_count": 21,
   "metadata": {
    "collapsed": true,
    "scrolled": false
   },
   "outputs": [],
   "source": [
    "def draw(word_counts):\n",
    "    bins = {}\n",
    "    for k,v in word_counts.items():\n",
    "        bins[v] = bins.get(v,0) + 1\n",
    "    y = []\n",
    "    for i in range(40, 100):\n",
    "        y.append(bins.get(i,0))\n",
    "    plt.grid()    \n",
    "    plt.plot(y,'.')\n",
    "    plt.grid()\n",
    "    my_x_ticks = np.arange(40, 100, 10)\n",
    "    my_y_ticks = np.arange(0, 300, 30)\n",
    "    plt.xticks(np.arange(0, 60,10),my_x_ticks)\n",
    "    plt.yticks(my_y_ticks)\n",
    "    plt.xlabel(u'number of publications')\n",
    "    plt.ylabel(u'number of authors')\n",
    "    plt.title(u'relationship between authors and publications')\n",
    "    plt.show()"
   ]
  },
  {
   "cell_type": "markdown",
   "metadata": {},
   "source": [
    "When the number of publications is 40, the number of authors is about 300. In other words, the number of authors that have about 40 publications is about 300. After repeated, the threshold value is chose to be 40 which is neither too small that can not guarantee a good result or too large that need a high amount of calculations."
   ]
  },
  {
   "cell_type": "code",
   "execution_count": 22,
   "metadata": {},
   "outputs": [
    {
     "data": {
      "image/png": "[encoded data removed]",
      "text/plain": [
       "<matplotlib.figure.Figure at 0x1516bb358>"
      ]
     },
     "metadata": {},
     "output_type": "display_data"
    }
   ],
   "source": [
    "draw(getcounts('authors_encoded.txt'))"
   ]
  },
  {
   "cell_type": "markdown",
   "metadata": {},
   "source": [
    "After executing the above code, you can get a picture below:\n",
    "<img src=\"relationshipPic.png\">"
   ]
  },
  {
   "cell_type": "markdown",
   "metadata": {},
   "source": [
    "## Part 3: Using FP-Growth Algorithm to find the author partnership \n",
    "\n",
    "The FP-Growth Algorithm is an alternative way to find frequent itemsets without using candidate generations, thus improving performance. For so much it uses a divide-and-conquer strategy. The core of this method is the usage of a special data structure named frequent-pattern tree (FP-tree), which retains the itemset association information. In simple words, this algorithm works as follows: first it compresses the input database creating an FP-tree instance to represent frequent items. After this first step it divides the compressed database into a set of conditional databases, each one associated with one frequent pattern. Finally, each such database is mined separately. Using this strategy, the FP-Growth reduces the search costs looking for short patterns recursively and then concatenating them in the long frequent patterns, offering good selectivity.\n",
    "\n",
    "1. Confidence of an Association Rule\n",
    "The confidence of an association rule R = \"X → Y\" (with item sets X and Y) is the support of the set of all items that appear in the rule (here: the support of S = X ∪ Y) divided by the support of the antecedent (also called \"if-part\" or \"body\") of the rule (here X). That is,\n",
    "\n",
    "conf(R) = \tsupp(X ∪ Y) / supp(X)\n",
    "\n",
    "2. Support of an Item Set\n",
    "Let S be an item set and T the bag/multiset of all transactions under consideration. Then the absolute support (or simply the support) of the item set S is the number of transactions in T that contain S. Likewise, the relative support of S is the fraction (or percentage) of the transactions in T which contain S. That is,\n",
    "\n",
    "supprel(S) = (|U| / |T|) *100%\n",
    "here, minSupport is about 0.00035."
   ]
  },
  {
   "cell_type": "code",
   "execution_count": 27,
   "metadata": {},
   "outputs": [
    {
     "name": "stdout",
     "output_type": "stream",
     "text": [
      "+---+---------------------------------------------------------------------------------------------+\n",
      "| id|                                                                                        items|\n",
      "+---+---------------------------------------------------------------------------------------------+\n",
      "|  0|                                        [Pierre Seimandi, Guillaume Dufour, ois Rogier, Fran]|\n",
      "|  1|                                                    [Cristiano Alessandro, Naveen Kuppuswamy]|\n",
      "|  2|                                               [Durgesh Samadhiya, Su-Hua Wang, Dengjie Chen]|\n",
      "|  3|                                                [Guoliang Chen 0001, Ming Qi, Guangzhong Sun]|\n",
      "|  4|                          [Louis J. Durlofsky, Obiajulu J. Isebor, a Ciaurri, David Echeverr]|\n",
      "|  5|                                         [Vassil N. Alexandrov, Andrew Dunk, Adrian Haffegee]|\n",
      "|  6|                                                     [Worrawat Engchuan, Jonathan Hoyin Chan]|\n",
      "|  7|                                                              [T. J. Lavender, Diane Gromala]|\n",
      "|  8|                                                [Ilker Yengin, Adem Karahoca, Dilek Karahoca]|\n",
      "|  9|[Andrei Hutanu, Frank L, Werner Benger, Shantenu Jha, ffler, Erik Schnetter, Gabrielle Allen]|\n",
      "| 10| [Fannar Andrason, . Leifsson, Slawomir Koziel, Kristjan Magnusson, Leifur , Armann Gylfason]|\n",
      "| 11|        [David Pardo, Maciej Paszynski, rska, Robert Schaefer, Ewa Gajda-Zag, Victor M. Calo]|\n",
      "| 12|            [David Pardo, Han La Poutr, Maciej Paszynski, Tibor Bosse, Krzysztof Cetnarowicz]|\n",
      "| 13|               [L. Mu, W. P. Bula, A. Guerrero, J. G. E. Gardeniers, G. Carot-Sans, N. Dimov]|\n",
      "| 14|                                                  [Narayanaswamy Balakrishnan, Neeta Trivedi]|\n",
      "| 15|                                                                      [Farshad Merrikh-Bayat]|\n",
      "| 16|                                                [Jong-Hyun Lee, Hyun-Tae Kim, Chang Wook Ahn]|\n",
      "| 17|                                        [s Carri, Daniel Costa, dia Fernandes, Carlos Duarte]|\n",
      "| 18|                                                               [Elizabeth Wu, Peter Phillips]|\n",
      "| 19|                                                                         [Stefano Vassanelli]|\n",
      "+---+---------------------------------------------------------------------------------------------+\n",
      "only showing top 20 rows\n",
      "\n",
      "+-------------------------------------------------------+----+\n",
      "|                                                  items|freq|\n",
      "+-------------------------------------------------------+----+\n",
      "|                                          [Eduardo Qui]|  64|\n",
      "|                            [Eduardo Qui, Jaume Abella]|  49|\n",
      "|                      [Eduardo Qui, Jaume Abella, ones]|  49|\n",
      "|                                    [Eduardo Qui, ones]|  64|\n",
      "|                    [Eduardo Qui, Francisco J. Cazorla]|  52|\n",
      "|      [Eduardo Qui, Francisco J. Cazorla, Jaume Abella]|  49|\n",
      "|[Eduardo Qui, Francisco J. Cazorla, Jaume Abella, ones]|  49|\n",
      "|              [Eduardo Qui, Francisco J. Cazorla, ones]|  52|\n",
      "|                                         [Martin Ester]|  51|\n",
      "|                                             [Peter Fr]|  48|\n",
      "|                                          [Dirk Habich]|  67|\n",
      "|                         [Dirk Habich, Wolfgang Lehner]|  64|\n",
      "|                                               [Kui Wu]|  52|\n",
      "|                                       [Shang-Hong Lai]|  70|\n",
      "|                                             [Yang Sun]|  54|\n",
      "|                                        [Changchun Bao]|  55|\n",
      "|                                            [pez Nores]|  39|\n",
      "|                                      [pez Nores, Mart]|  39|\n",
      "|                                       [pez Nores, n L]|  39|\n",
      "|                                 [pez Nores, n L, Mart]|  39|\n",
      "+-------------------------------------------------------+----+\n",
      "only showing top 20 rows\n",
      "\n",
      "+--------------------------------+-----------------------+-------------------+\n",
      "|                      antecedent|             consequent|         confidence|\n",
      "+--------------------------------+-----------------------+-------------------+\n",
      "|             [Atsushi Yamashita]|         [Hajime Asama]| 0.8860759493670886|\n",
      "|                    [Tieniu Tan]|           [Zhenan Sun]|0.36423841059602646|\n",
      "|                     [guez, rez]|              [nchez-P]| 0.5086206896551724|\n",
      "|                     [guez, rez]|        [Juan Manuel S]| 0.4482758620689655|\n",
      "|                     [guez, rez]|  [Miguel A. Vega-Rodr]|0.41379310344827586|\n",
      "|                     [guez, rez]|           [mez Pulido]|0.43103448275862066|\n",
      "|                     [guez, rez]|       [Juan Antonio G]|0.43103448275862066|\n",
      "|[Pasi Liljeberg, Hannu Tenhunen]|         [Juha Plosila]| 0.5252525252525253|\n",
      "|[Pasi Liljeberg, Hannu Tenhunen]|[Amir-Mohammad Rahmani]|0.40404040404040403|\n",
      "|        [Yichen Wang, Qinghe Du]|            [Pinyi Ren]| 0.9772727272727273|\n",
      "|                    [Antonio Kr]|                  [ger]|                1.0|\n",
      "|                 [Heinrich H. B]|               [lthoff]|                1.0|\n",
      "|                   [goire Danoy]|        [Pascal Bouvry]| 0.9772727272727273|\n",
      "|                   [Guihai Chen]|          [Fan Wu 0006]|0.41025641025641024|\n",
      "|                   [Guihai Chen]|         [Xiaofeng Gao]|0.33974358974358976|\n",
      "|                  [Ian Horrocks]| [Bernardo Cuenca Grau]|0.35964912280701755|\n",
      "|                      [Xin Peng]|          [Wenyun Zhao]| 0.8181818181818182|\n",
      "|           [Liljana Gavrilovska]| [Vladimir Atanasovski]|                0.6|\n",
      "|               [nio Abelha, Ant]| [Manuel Filipe Santos]|             0.6625|\n",
      "|               [nio Abelha, Ant]|       [Filipe Portela]|                0.6|\n",
      "+--------------------------------+-----------------------+-------------------+\n",
      "only showing top 20 rows\n",
      "\n"
     ]
    }
   ],
   "source": [
    "from pyspark.ml.fpm import FPGrowth  #pip install pyspark\n",
    "from pyspark.context import SparkContext\n",
    "from pyspark.sql.session import SparkSession\n",
    "import pandas as pd\n",
    "import codecs\n",
    "\n",
    "sc = SparkContext.getOrCreate('pyspark')\n",
    "spark = SparkSession(sc)\n",
    "result = codecs.open('authors_print.txt','w','utf-8')\n",
    "\n",
    "data = codecs.open('authors_encoded.txt','r','utf-8')\n",
    "res = []\n",
    "temp = []\n",
    "i = -1\n",
    "for line in data:\n",
    "    temp = line.replace('\\r\\n','').split(',')\n",
    "    i += 1;\n",
    "    if temp[-1] == '':\n",
    "        res.append((i,temp[0:len(temp)-1]))\n",
    "    else:\n",
    "        res.append((i,temp))\n",
    "df = spark.createDataFrame(res,[\"id\",\"items\"])\n",
    "df.show(truncate = 100)\n",
    "fpGrowth = FPGrowth(itemsCol=\"items\", minSupport = 0.000035, minConfidence=0.3)\n",
    "model = fpGrowth.fit(df)\n",
    "\n",
    "# Display frequent itemsets.\n",
    "model.freqItemsets.show(20, truncate = 100)\n",
    "\n",
    "# Display generated association rules.\n",
    "model.associationRules.show(20, truncate = 100)"
   ]
  },
  {
   "cell_type": "markdown",
   "metadata": {},
   "source": [
    "First table show all itemsets and their ids, second table shows frequent itemsets and their frequence and third table shows association rules generated with confidence above minConfidence. for example in table 2 ,second line shows that Eduardo Qui and Jaume Abella coproduce 49 times in total.\n",
    "table 1:\n",
    "<img src=\"part3_table1.png\">\n",
    "table 2:\n",
    "<img src=\"part3_table2.png\">\n",
    "table 3:\n",
    "<img src=\"part3_table3.png\">"
   ]
  }
 ],
 "metadata": {
  "anaconda-cloud": {},
  "kernelspec": {
   "display_name": "Python 3",
   "language": "python",
   "name": "python3"
  },
  "language_info": {
   "codemirror_mode": {
    "name": "ipython",
    "version": 3
   },
   "file_extension": ".py",
   "mimetype": "text/x-python",
   "name": "python",
   "nbconvert_exporter": "python",
   "pygments_lexer": "ipython3",
   "version": "3.6.3"
  }
 },
 "nbformat": 4,
 "nbformat_minor": 1
}
