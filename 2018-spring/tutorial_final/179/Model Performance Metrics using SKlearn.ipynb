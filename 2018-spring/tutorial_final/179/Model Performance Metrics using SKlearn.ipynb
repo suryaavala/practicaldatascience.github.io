{
 "cells": [
  {
   "cell_type": "markdown",
   "metadata": {},
   "source": [
    "# Model Performance Metrics for evaluating Supervised Machine learning algorithms using scikit-learn"
   ]
  },
  {
   "cell_type": "markdown",
   "metadata": {},
   "source": [
    "Predictive analysis can be considered to be like a constructive feedback loop. You first build a initial model. Understand how it behaves by getting feedback from various applicable metrics and then redesign the model. This process will continue till we are able to achieve a desirable accuracy. Evaluation metrics help us gauge the performance of a model and are able to discriminate among the different model designs.\n",
    "\n",
    "Every machine learning algorithm have more than one metric to help evaluate the performance, and it is important to choose the right one as it ultimately helps you choose an algorithm to work with or rely on.\n",
    "\n",
    "In this tutorial, we will understand different machine learning performance metrics in Python with scikit-learn which I will refer as SkLearn.\n",
    "\n",
    "We will focus on Supervised algorithms inthis tutorial and understand the different metrics for Classification and Regression problems, using two different datasets."
   ]
  },
  {
   "cell_type": "markdown",
   "metadata": {},
   "source": [
    "### Metrics for Classification:\n",
    "\n",
    "Classification problems are the most common type of machine learning problem. It also has many different metrics for evaluation. We try to measure the performance of a Classifier of the given Classification problem at hand.\n",
    "\n",
    "Performance measured is not just a count of correct classifications, classifiers produce a score that could aid in getting the thresholded to decide the classification. A score is usually between 0.0 which indicates definitely negative and 1.0 which indicates definitely positive.In general, we consider a score above 0.5 as positive.\n",
    "\n",
    "However, if we apply any threshold to the given dataset at hand in which PP is the positive population and NP is the negative population. We will further get true positives (TP), false positives (FP), true negatives (TN) and false negatives (FN). We need a method which will take into account all of these numbers.\n",
    "\n",
    "Once we are able to calculate the measures for all the above values, some useful metrics can be calculated as below:\n",
    "\n",
    "    Accuracy (which indicates (1 – Error) ) = (TP + TN)/(PP + NP) = Pr(C)\n",
    "        where Pr(C) indicates the probability of a correct classification\n",
    "    Sensitivity (also known as Recall) = TP/(TP + FN) = TP / PP \n",
    "         this measures the proportion of positive values that are correctly identified as such\n",
    "    Specificity = TN/(TN + FP) = TN / NP\n",
    "         this measures the proportion of negative values that are correctly identified as such \n",
    "    Precision (also called positive predictive value) = fraction of relevant values among the retrieved values\n",
    "\n",
    "Now let us explore how we can use this basic knowledge of measures to implement different performance metrics with the help of an example. We will be performing KNN classfication in this example.\n",
    "\n",
    "We will review how to use the following metrics for classification in this tutorial:\n",
    "\n",
    "    a. Classification Accuracy\n",
    "    b. Confusion Matrix\n",
    "    c. Area Under ROC Curve\n",
    "    d. F1 Score\n",
    "         Classification Report\n",
    "    f. k-fold cross validation"
   ]
  },
  {
   "cell_type": "markdown",
   "metadata": {},
   "source": [
    "### Import packages\n",
    "\n",
    "Conventionally we tend to import all the necessary packages from python in the start, but to ease the understanding of the different functions we will explore further, we will only import a few universally required ones. The other necessary imports will be found at the code chunks that are associated with them."
   ]
  },
  {
   "cell_type": "code",
   "execution_count": 300,
   "metadata": {
    "collapsed": true
   },
   "outputs": [],
   "source": [
    "import numpy as np\n",
    "import pandas as pd\n",
    "\n",
    "from sklearn import model_selection\n",
    "from sklearn import metrics\n",
    "\n",
    "\n",
    "import matplotlib.pyplot as plt\n",
    "%matplotlib inline"
   ]
  },
  {
   "cell_type": "markdown",
   "metadata": {},
   "source": [
    "###  Load the dataset\n",
    "\n",
    "Alright, now we're ready to load our data set. For our classification problem we will be choosing a dataset that SkLearn offers which is a wine dataset. `load_wine` is a function that retrives the wine dataset from SkLearn."
   ]
  },
  {
   "cell_type": "code",
   "execution_count": 301,
   "metadata": {},
   "outputs": [
    {
     "name": "stdout",
     "output_type": "stream",
     "text": [
      "['class_0' 'class_1' 'class_2']\n"
     ]
    }
   ],
   "source": [
    "from sklearn import datasets\n",
    "from sklearn.datasets import load_wine\n",
    "\n",
    "features, target = load_wine(return_X_y=True)\n",
    "\n",
    "wine = datasets.load_wine()\n",
    "class_names = wine.target_names\n",
    "print(class_names)"
   ]
  },
  {
   "cell_type": "markdown",
   "metadata": {},
   "source": [
    "We could see that the target has three classes of wine. Let us explore these classes by understanding their counts and total length."
   ]
  },
  {
   "cell_type": "code",
   "execution_count": 302,
   "metadata": {},
   "outputs": [
    {
     "name": "stdout",
     "output_type": "stream",
     "text": [
      "Target length: 178\n",
      " \n",
      " Count of each target class : \n",
      "\n",
      " Counter({1: 71, 0: 59, 2: 48})\n"
     ]
    }
   ],
   "source": [
    "import collections\n",
    "\n",
    "print(\"Target length:\",len(target))\n",
    "Target_Counter = collections.Counter(target)\n",
    "print(\" \\n Count of each target class : \\n\\n\",Target_Counter)"
   ]
  },
  {
   "cell_type": "markdown",
   "metadata": {},
   "source": [
    "We understood the target, but what are the different features that could be used to classify?\n",
    "In order to understand the different features let us see their names. But what do these names mean? to understand that we will use a function called `DESCR` on the wine dataset."
   ]
  },
  {
   "cell_type": "code",
   "execution_count": 303,
   "metadata": {},
   "outputs": [
    {
     "name": "stdout",
     "output_type": "stream",
     "text": [
      "Features length:  178 \n",
      "\n",
      "Features data:  \n",
      " ['alcohol', 'malic_acid', 'ash', 'alcalinity_of_ash', 'magnesium', 'total_phenols', 'flavanoids', 'nonflavanoid_phenols', 'proanthocyanins', 'color_intensity', 'hue', 'od280/od315_of_diluted_wines', 'proline'] \n",
      "\n",
      "\n",
      "Wine Data Database\n",
      "====================\n",
      "\n",
      "Notes\n",
      "-----\n",
      "Data Set Characteristics:\n",
      "    :Number of Instances: 178 (50 in each of three classes)\n",
      "    :Number of Attributes: 13 numeric, predictive attributes and the class\n",
      "    :Attribute Information:\n",
      " \t\t- 1) Alcohol\n",
      " \t\t- 2) Malic acid\n",
      " \t\t- 3) Ash\n",
      "\t\t- 4) Alcalinity of ash  \n",
      " \t\t- 5) Magnesium\n",
      "\t\t- 6) Total phenols\n",
      " \t\t- 7) Flavanoids\n",
      " \t\t- 8) Nonflavanoid phenols\n",
      " \t\t- 9) Proanthocyanins\n",
      "\t\t- 10)Color intensity\n",
      " \t\t- 11)Hue\n",
      " \t\t- 12)OD280/OD315 of diluted wines\n",
      " \t\t- 13)Proline\n",
      "        \t- class:\n",
      "                - class_0\n",
      "                - class_1\n",
      "                - class_2\n",
      "\t\t\n",
      "    :Summary Statistics:\n",
      "    \n",
      "    ============================= ==== ===== ======= =====\n",
      "                                   Min   Max   Mean     SD\n",
      "    ============================= ==== ===== ======= =====\n",
      "    Alcohol:                      11.0  14.8    13.0   0.8\n",
      "    Malic Acid:                   0.74  5.80    2.34  1.12\n",
      "    Ash:                          1.36  3.23    2.36  0.27\n",
      "    Alcalinity of Ash:            10.6  30.0    19.5   3.3\n",
      "    Magnesium:                    70.0 162.0    99.7  14.3\n",
      "    Total Phenols:                0.98  3.88    2.29  0.63\n",
      "    Flavanoids:                   0.34  5.08    2.03  1.00\n",
      "    Nonflavanoid Phenols:         0.13  0.66    0.36  0.12\n",
      "    Proanthocyanins:              0.41  3.58    1.59  0.57\n",
      "    Colour Intensity:              1.3  13.0     5.1   2.3\n",
      "    Hue:                          0.48  1.71    0.96  0.23\n",
      "    OD280/OD315 of diluted wines: 1.27  4.00    2.61  0.71\n",
      "    Proline:                       278  1680     746   315\n",
      "    ============================= ==== ===== ======= =====\n",
      "\n",
      "    :Missing Attribute Values: None\n",
      "    :Class Distribution: class_0 (59), class_1 (71), class_2 (48)\n",
      "    :Creator: R.A. Fisher\n",
      "    :Donor: Michael Marshall (MARSHALL%PLU@io.arc.nasa.gov)\n",
      "    :Date: July, 1988\n",
      "\n",
      "This is a copy of UCI ML Wine recognition datasets.\n",
      "https://archive.ics.uci.edu/ml/machine-learning-databases/wine/wine.data\n",
      "\n",
      "The data is the results of a chemical analysis of wines grown in the same\n",
      "region in Italy by three different cultivators. There are thirteen different\n",
      "measurements taken for different constituents found in the three types of\n",
      "wine.\n",
      "\n",
      "Original Owners: \n",
      "\n",
      "Forina, M. et al, PARVUS - \n",
      "An Extendible Package for Data Exploration, Classification and Correlation. \n",
      "Institute of Pharmaceutical and Food Analysis and Technologies,\n",
      "Via Brigata Salerno, 16147 Genoa, Italy.\n",
      "\n",
      "Citation:\n",
      "\n",
      "Lichman, M. (2013). UCI Machine Learning Repository\n",
      "[http://archive.ics.uci.edu/ml]. Irvine, CA: University of California,\n",
      "School of Information and Computer Science. \n",
      "\n",
      "References\n",
      "----------\n",
      "(1) \n",
      "S. Aeberhard, D. Coomans and O. de Vel, \n",
      "Comparison of Classifiers in High Dimensional Settings, \n",
      "Tech. Rep. no. 92-02, (1992), Dept. of Computer Science and Dept. of \n",
      "Mathematics and Statistics, James Cook University of North Queensland. \n",
      "(Also submitted to Technometrics). \n",
      "\n",
      "The data was used with many others for comparing various \n",
      "classifiers. The classes are separable, though only RDA \n",
      "has achieved 100% correct classification. \n",
      "(RDA : 100%, QDA 99.4%, LDA 98.9%, 1NN 96.1% (z-transformed data)) \n",
      "(All results using the leave-one-out technique) \n",
      "\n",
      "(2) \n",
      "S. Aeberhard, D. Coomans and O. de Vel, \n",
      "\"THE CLASSIFICATION PERFORMANCE OF RDA\" \n",
      "Tech. Rep. no. 92-01, (1992), Dept. of Computer Science and Dept. of \n",
      "Mathematics and Statistics, James Cook University of North Queensland. \n",
      "(Also submitted to Journal of Chemometrics). \n",
      "\n"
     ]
    }
   ],
   "source": [
    "print(\"Features length: \",len(features),\"\\n\")\n",
    "print(\"Features data:  \\n\",wine.feature_names,\"\\n\\n\")\n",
    "print(wine.DESCR)"
   ]
  },
  {
   "cell_type": "markdown",
   "metadata": {},
   "source": [
    "### Split data into training and test sets\n",
    "\n",
    "It is common practise in the industry to split the dataset into train and test portions to help model evaluation. SkLearn provides us with a good function to ease the split of the dataset. In this example we will split the train and test data in 75:25 ratio respectively."
   ]
  },
  {
   "cell_type": "code",
   "execution_count": 304,
   "metadata": {},
   "outputs": [],
   "source": [
    "from sklearn.model_selection import train_test_split\n",
    "\n",
    "RANDOM_STATE = 40\n",
    "# Split the dataset using 25% test size\n",
    "X_train, X_test, y_train, y_test = train_test_split(features, target,\n",
    "                                                    test_size=0.25,\n",
    "                                                    random_state=RANDOM_STATE)"
   ]
  },
  {
   "cell_type": "markdown",
   "metadata": {},
   "source": [
    "### Build the model and make predictions"
   ]
  },
  {
   "cell_type": "markdown",
   "metadata": {},
   "source": [
    "As we discussed earlier in this example we will build a k-Nearest Neighbor (kNN) model. It makes predictions by locating similar cases to a given data point by using a similarity function. It then returns the average of the most similar data points.\n",
    "\n",
    "We will fit this model on the `X_train` and `y_Train` data that we get after spliting the original wine dataset. To make things simple we will called the actual values of the target y_test values as `expected` and assign to predictions made on the X_test data as `predictions`. We will repeatedly be using these variables to evaluate the different metrics that we will explore."
   ]
  },
  {
   "cell_type": "code",
   "execution_count": 305,
   "metadata": {},
   "outputs": [
    {
     "name": "stdout",
     "output_type": "stream",
     "text": [
      "KNeighborsClassifier(algorithm='auto', leaf_size=30, metric='minkowski',\n",
      "           metric_params=None, n_jobs=1, n_neighbors=5, p=2,\n",
      "           weights='uniform')\n"
     ]
    }
   ],
   "source": [
    "from sklearn.neighbors import KNeighborsClassifier\n",
    "\n",
    "model = KNeighborsClassifier()\n",
    "\n",
    "# fit the model\n",
    "model.fit(X_train, y_train)\n",
    "print(model)\n",
    "\n",
    "# make predictions\n",
    "expected = y_test\n",
    "predicted = model.predict(X_test)"
   ]
  },
  {
   "cell_type": "markdown",
   "metadata": {},
   "source": [
    "Now we are ready to explore the different Model evaluation metrics."
   ]
  },
  {
   "cell_type": "markdown",
   "metadata": {},
   "source": [
    "### Model Evaluation Metrics\n"
   ]
  },
  {
   "cell_type": "markdown",
   "metadata": {},
   "source": [
    "### a. Accuracy\n",
    "\n",
    "The champion of all measures of classifier performance in the industry is accuracy. It measures the percentage of correctly obtained classifications.\n",
    "\n",
    "This metric is easy to understand and helps in making comparison of the performance of different classifiers easy as well. The disadvantage is that it ignores many of the factors which should be taken into consideration when evaluating the performance of a classifier(in a more honest way).\n",
    "\n",
    "Sklearn has a function called accuracy_score that computes the accuracy of a given model's predictions. It does this by either getting the fraction(which is the default case) or getting the count of the correct predictions.\n",
    "\n",
    "When we are performing a multilabel classification, as in this case, this function returns a subset accuracy . If all the predicted target values for a given dataset strictly equal or match the true targets then accuracy is 1 else it is 0.\n",
    "\n",
    "Syntax:\n",
    "`sklearn.metrics.accuracy_score(expected, predicted, normalize=True, sample_weight=None)`"
   ]
  },
  {
   "cell_type": "code",
   "execution_count": 306,
   "metadata": {},
   "outputs": [
    {
     "name": "stdout",
     "output_type": "stream",
     "text": [
      "Accuracy score:  0.6\n",
      "Accuracy score without normalization:  27\n"
     ]
    }
   ],
   "source": [
    "from sklearn.metrics import accuracy_score\n",
    "\n",
    "accuracy_score(expected, predicted)\n",
    "print(\"Accuracy score: \",accuracy_score(expected, predicted))\n",
    "accuracy_score(expected, predicted, normalize=False)\n",
    "print(\"Accuracy score without normalization: \",accuracy_score(expected, predicted, normalize=False))"
   ]
  },
  {
   "cell_type": "markdown",
   "metadata": {},
   "source": [
    "Interpretation:\n",
    "\n",
    "The accuracy score here is 0.6, which signifies that the model performance isn't bad but isn't the best. It would be advisable to redesign the model by doing another feature selection process. The goal is to try and incorporate relevant features so that our model accuracy increases. An accuracy of above 0.9 is considered to be very good."
   ]
  },
  {
   "cell_type": "markdown",
   "metadata": {},
   "source": [
    "### b. Confusion Matrix:\n",
    "\n",
    "Confusion matrix is a quick and easy way of presentating the accuracy of a model. It basically elaborates on the number of false positives, false negatives, true positives, and true negatives (that we earlier saw), from the prediction output. It got it's name from the fact that it simply makes it easy for a person to see if the model is consufing two classes, for example by mislabelling one class as another.\n",
    "\n",
    "Here we will be representing the matrix in two ways. One way is the direct method of representing it as a matrix. The other way is to represent it as a heatmap. Heatmaps are more intuitive and faster to understand.\n",
    "\n",
    "The matrix on the x-axis has predictions and on the y-axis has accuracy outcomes. Each cell of the table like matrix has the number of predictions made by a machine learning algorithm, which in our case is the KNN Classifier."
   ]
  },
  {
   "cell_type": "code",
   "execution_count": 307,
   "metadata": {},
   "outputs": [
    {
     "name": "stdout",
     "output_type": "stream",
     "text": [
      "Confusion Matrix: \n",
      " [[12  0  1]\n",
      " [ 1  9  4]\n",
      " [ 2 10  6]]\n"
     ]
    }
   ],
   "source": [
    "from sklearn.metrics import confusion_matrix\n",
    "\n",
    "confusion_mat = confusion_matrix(expected, predicted)\n",
    "print(\"Confusion Matrix: \\n\",confusion_mat)"
   ]
  },
  {
   "cell_type": "code",
   "execution_count": 308,
   "metadata": {},
   "outputs": [
    {
     "name": "stdout",
     "output_type": "stream",
     "text": [
      "Heat map of confusion matrix: \n",
      "\n"
     ]
    },
    {
     "data": {
      "text/plain": [
       "<matplotlib.colorbar.Colorbar at 0x1a16afc898>"
      ]
     },
     "execution_count": 308,
     "metadata": {},
     "output_type": "execute_result"
    },
    {
     "data": {
      "image/png": "[encoded data removed]",
      "text/plain": [
       "<matplotlib.figure.Figure at 0x1a16afc748>"
      ]
     },
     "metadata": {},
     "output_type": "display_data"
    }
   ],
   "source": [
    "print(\"Heat map of confusion matrix: \\n\")\n",
    "\n",
    "plt.matshow(confusion_mat, cmap='summer')\n",
    "plt.colorbar()"
   ]
  },
  {
   "cell_type": "markdown",
   "metadata": {},
   "source": [
    "Interpretation:\n",
    "\n",
    "From the above confusion matrix and heatmap we can try and collectively understand the results. All the correct predictions are in the diagonal of the matrix. This makes it easy for us to visually evaluate the matrix for prediction errors since they are represented by values outside the diagonal.\n",
    "\n",
    "We know that the total count if we add the cells of the matrix is 45. The confusion matrix in this case is indicating that out of the total 15 class_0 category values, the model wrongly predicted that 1 belonged to class_1 and 2 belonged to class_2.\n",
    "\n",
    "Another major red alert would be the 10 of the 19 class_1 class being predicted wrongly that it belongs to the class_2.\n",
    "\n",
    "We can conclude that this model is not effective in predicted the given data. We may now want to change the type of model we build for this data, or inspect the dataset itself to understand what is causing the wrong predictions."
   ]
  },
  {
   "cell_type": "markdown",
   "metadata": {},
   "source": [
    "### c. Area under ROC Curve\n",
    "Area under the ROC curve is one of the popular metrics used in the data science industry. To understand what it implies we first need to under what ROC curve is. ROC curve is simply the plot between sensitivity and false positive rate or (1- specificity).\n",
    "\n",
    "In this section we will plot and ROC curve and measure the Area under ROC Curve (AUC). The visual representation is not required but it will help us understand the evaluation better.\n",
    "\n",
    "AUC values have generally accepted thumb rules that will help us evaluate the performance:\n",
    "\n",
    "    0.90-1    = excellent (A)\n",
    "    0.80-0.90 = good      (B)\n",
    "    0.70-0.80 = fair      (C)\n",
    "    0.60-0.70 = poor      (D)\n",
    "    0.50-0.60 = fail      (F)\n",
    "\n",
    "SkLearn offers roc_auc_score and roc_curve to help us represent and calculate the ROC curve and the AUC score.\n",
    "\n",
    "Unlike the above two metrics, here we will need to calculate `y_scores`, which in our example we will call ypred_knn. It is done by predicting the probability scores on the test data. It represents the target scores, can either be probability estimates of the positive class or confidence values."
   ]
  },
  {
   "cell_type": "code",
   "execution_count": 263,
   "metadata": {
    "collapsed": true
   },
   "outputs": [],
   "source": [
    "from sklearn.metrics import roc_auc_score\n",
    "from sklearn.metrics import roc_curve"
   ]
  },
  {
   "cell_type": "code",
   "execution_count": 264,
   "metadata": {
    "scrolled": true
   },
   "outputs": [
    {
     "data": {
      "image/png": "[encoded data removed]",
      "text/plain": [
       "<matplotlib.figure.Figure at 0x1a1572f470>"
      ]
     },
     "metadata": {},
     "output_type": "display_data"
    }
   ],
   "source": [
    "ypred_knn = model.predict_proba(X_test)[:,1]\n",
    "\n",
    "plt.figure()\n",
    "\n",
    "#fpr = False Positive Rate and tpr = True Positive Rate\n",
    "fpr, tpr, _ = roc_curve(y_test, ypred_knn, pos_label=1)\n",
    "auc = np.trapz(tpr, fpr)\n",
    "plt.plot(fpr, tpr, label=\"KNN AUC=\" + \"{:.4f}\".format(auc))\n",
    "\n",
    "plt.xlabel(\"False Positive Rate\")\n",
    "plt.ylabel(\"True Positive Rate\")\n",
    "plt.grid()\n",
    "plt.legend()\n",
    "plt.show()"
   ]
  },
  {
   "cell_type": "markdown",
   "metadata": {},
   "source": [
    "Interpretation:\n",
    "\n",
    "We get an AUC of 0.7028 which falls into the fair category. In this situation one can decide to continue with this model or re-design or change the classifier to get a higher AUC score."
   ]
  },
  {
   "cell_type": "markdown",
   "metadata": {},
   "source": [
    "### d. F1 Score\n",
    "\n",
    "F1 Score is used to measure the test's accuracy. Mathematically, F1 Score is actually the Harmonic Mean between precision and recall. F1 Score tries to find the balance between precision and recall. It helps a person understand how precise and how robust his classifier is.\n",
    "\n",
    "The range for F1 Score is between 0 and 1. Greater the F1 Score, the better is the performance of the model."
   ]
  },
  {
   "cell_type": "code",
   "execution_count": 265,
   "metadata": {},
   "outputs": [
    {
     "name": "stdout",
     "output_type": "stream",
     "text": [
      "F1 Score:  0.605463502015\n"
     ]
    }
   ],
   "source": [
    "from sklearn.metrics import f1_score\n",
    "\n",
    "print(\"F1 Score: \",f1_score(expected, predicted, average='macro'))"
   ]
  },
  {
   "cell_type": "markdown",
   "metadata": {},
   "source": [
    "Interpretation:\n",
    "\n",
    "The F1 score is not as high as we would like it to be. This signifies that this model is again not performing too well."
   ]
  },
  {
   "cell_type": "markdown",
   "metadata": {},
   "source": [
    "#### Classification report:"
   ]
  },
  {
   "cell_type": "markdown",
   "metadata": {},
   "source": [
    "To better understand the mechanics of the calculation of F1 score, it would be advisable to look at precision and recall values as well.\n",
    "SkLearn does a great job in providing us with a function that conveniently reports the precision, recall and f1 scores all together. It helps in giving us a quick idea of the accuracy of a model using a number of measures.\n",
    "\n",
    "The `classification_report()` function displays the precision, recall, f1-score and support for each class in our model."
   ]
  },
  {
   "cell_type": "code",
   "execution_count": 266,
   "metadata": {
    "scrolled": true
   },
   "outputs": [
    {
     "name": "stdout",
     "output_type": "stream",
     "text": [
      "             precision    recall  f1-score   support\n",
      "\n",
      "          0       0.80      0.92      0.86        13\n",
      "          1       0.47      0.64      0.55        14\n",
      "          2       0.55      0.33      0.41        18\n",
      "\n",
      "avg / total       0.60      0.60      0.58        45\n",
      "\n"
     ]
    }
   ],
   "source": [
    "# summarize the fit of the model for each class\n",
    "print(metrics.classification_report(expected, predicted))"
   ]
  },
  {
   "cell_type": "markdown",
   "metadata": {},
   "source": [
    "Cross validation isn’t a evaluation metric which is used to understand the model accuracy. The essential idea behind cross validation is that it's result gives a good intuition by generalizing the performance of a given model."
   ]
  },
  {
   "cell_type": "markdown",
   "metadata": {},
   "source": [
    "### f. Cross Validation\n",
    "\n",
    "Cross Validation is one of the most important concepts in any type of data modelling. It essentially asks us to try to leave a sample of our dataset on which you do not train the model and test the model on this sample before eventually finalizing the model.\n",
    "\n",
    "We will be performing k-Fold cross validation in this example. The biggest advantage of using k-fold cross validation is that it helps us in avoiding over-fitting of our data. In this validation we will be calculating the performance of the model at every fold. The performance metrics at each of the k folds of modelling are close to each other and the mean of metric is highest. This means that:\n",
    "\n",
    "    \"The hyperparameter with the best performance averaged across k-folds is chosen\"\n",
    "    \n",
    "\n",
    "In our example, we will again evaluate on the KNN classifier model and apply k-fold cross validation on that. It will help us understand which hyperparameter performes the best. In order to do this, we will perform cross valiation in two ways\n",
    "    \n",
    "    1. KFold\n",
    "    2. StratifiedKFold\n",
    "        here the cross-validation object is a variation of KFold that returns stratified folds\n",
    "    "
   ]
  },
  {
   "cell_type": "markdown",
   "metadata": {},
   "source": [
    "#### Using Kfold cross validation:"
   ]
  },
  {
   "cell_type": "code",
   "execution_count": 312,
   "metadata": {
    "collapsed": true
   },
   "outputs": [],
   "source": [
    "kfold = model_selection.KFold(n_splits=5, random_state=10)\n",
    "cross_val_output = model_selection.cross_val_score(model, X_test, y_test, cv=kfold, scoring='accuracy')"
   ]
  },
  {
   "cell_type": "code",
   "execution_count": 313,
   "metadata": {},
   "outputs": [
    {
     "name": "stdout",
     "output_type": "stream",
     "text": [
      "Accuracy: \n",
      "mean = 0.644 standard deviation = 0.11\n"
     ]
    }
   ],
   "source": [
    "print(\"Accuracy: \\nmean = %.3f standard deviation = %.2f\" % (cross_val_output.mean(), cross_val_output.std()))"
   ]
  },
  {
   "cell_type": "markdown",
   "metadata": {},
   "source": [
    "You can see that the ratio is represented as a float. To get a percentage representation, we can multiply the value by 100, obtaining an accuracy score of 64.4% in our example at hand. Again, this is not a desirable score. We might want to reconsider the type of classifier or the features that we selected."
   ]
  },
  {
   "cell_type": "markdown",
   "metadata": {},
   "source": [
    "#### Using StratifiedKfold cross validation:\n",
    "\n",
    "In this type, we will consider the entire original dataset by asking the k_fold function to split the features and targets implicitly. This will help us in getting better results as the computer is choosing the splits. We will run 5 folds and for each k value that we evaluate the accuracy and display the same. Eventually we will choose the k value that is giving us the best accuracy and use it to plot the ROC curve and calculate the AUC as well."
   ]
  },
  {
   "cell_type": "code",
   "execution_count": 318,
   "metadata": {
    "scrolled": true
   },
   "outputs": [
    {
     "name": "stdout",
     "output_type": "stream",
     "text": [
      "k =  1\n",
      "\t[fold 0] accuracy: 0.78293\n",
      "\t[fold 1] accuracy: 0.66045\n",
      "\t[fold 2] accuracy: 0.65011\n",
      "\t[fold 3] accuracy: 0.67302\n",
      "\t[fold 4] accuracy: 0.79960\n",
      "Mean F1 score:  0.71322235136 \n",
      "\n",
      "k =  2\n",
      "\t[fold 0] accuracy: 0.51897\n",
      "\t[fold 1] accuracy: 0.61898\n",
      "\t[fold 2] accuracy: 0.59541\n",
      "\t[fold 3] accuracy: 0.61050\n",
      "\t[fold 4] accuracy: 0.70960\n",
      "Mean F1 score:  0.610691194974 \n",
      "\n",
      "k =  3\n",
      "\t[fold 0] accuracy: 0.61342\n",
      "\t[fold 1] accuracy: 0.72077\n",
      "\t[fold 2] accuracy: 0.65873\n",
      "\t[fold 3] accuracy: 0.63175\n",
      "\t[fold 4] accuracy: 0.82508\n",
      "Mean F1 score:  0.689950324501 \n",
      "\n",
      "k =  4\n",
      "\t[fold 0] accuracy: 0.59799\n",
      "\t[fold 1] accuracy: 0.71282\n",
      "\t[fold 2] accuracy: 0.61111\n",
      "\t[fold 3] accuracy: 0.61050\n",
      "\t[fold 4] accuracy: 0.68401\n",
      "Mean F1 score:  0.643287880578 \n",
      "\n",
      "\n",
      "The best k value for stratified K-Fold validation is :  1\n"
     ]
    }
   ],
   "source": [
    "from sklearn.model_selection import KFold\n",
    "from sklearn.model_selection import StratifiedKFold\n",
    "from sklearn.metrics import f1_score\n",
    "\n",
    "num_folds = 5\n",
    "k_fold = StratifiedKFold(num_folds)\n",
    "param_values = np.arange(1, 5, 1)\n",
    "\n",
    "arg_max = -np.inf\n",
    "best_k = None\n",
    "for i in param_values:\n",
    "    fold_scores = []\n",
    "    print(\"k = \" , str(i))\n",
    "    for k, (train, val) in enumerate(k_fold.split(features, target)):\n",
    "        knn = KNeighborsClassifier(n_neighbors=i)\n",
    "        knn.fit(features[train], target[train])\n",
    "        predicted = knn.predict(features[val])\n",
    "        expected = target[val]\n",
    "        alpha = f1_score(expected, predicted, average='macro')\n",
    "        fold_scores.append(alpha)\n",
    "        print(\"\\t[fold {0}] accuracy: {2:.5f}\".format(k, i, alpha))\n",
    "        \n",
    "    cross_val_score = np.mean(fold_scores)\n",
    "    print(\"Mean F1 score: \", str(cross_val_score),\"\\n\")\n",
    "    \n",
    "    if cross_val_score > arg_max:\n",
    "        arg_max = cross_val_score\n",
    "        best_k = i\n",
    "            \n",
    "print(\"\\nThe best k value for stratified K-Fold validation is : \",best_k)"
   ]
  },
  {
   "cell_type": "code",
   "execution_count": 316,
   "metadata": {},
   "outputs": [
    {
     "data": {
      "image/png": "[encoded data removed]",
      "text/plain": [
       "<matplotlib.figure.Figure at 0x1a16afc358>"
      ]
     },
     "metadata": {},
     "output_type": "display_data"
    }
   ],
   "source": [
    "# choosing the best k value to define the new model\n",
    "knn = KNeighborsClassifier(n_neighbors=best_k)\n",
    "\n",
    "#fitting the model on the original features and targets\n",
    "knn.fit(features, target)\n",
    "\n",
    "#calculating the probability scores again\n",
    "ypred_knn = model.predict_proba(X_test)[:,1]\n",
    "\n",
    "plt.figure()\n",
    "\n",
    "#fpr = False Positive Rate and tpr = True Positive Rate\n",
    "fpr, tpr, _ = roc_curve(y_test, ypred_knn, pos_label=1)\n",
    "auc = np.trapz(tpr, fpr)\n",
    "plt.plot(fpr, tpr, label=\"KNN AUC=\" + \"{:.4f}\".format(auc))\n",
    "\n",
    "plt.xlabel(\"False Positive Rate\")\n",
    "plt.ylabel(\"True Positive Rate\")\n",
    "plt.grid()\n",
    "plt.legend()\n",
    "plt.show()"
   ]
  },
  {
   "cell_type": "markdown",
   "metadata": {},
   "source": [
    "For this particular example, the AUC value does not change even after choosing the best hyperparameter value to design the model. We obtain the same AUC score as before."
   ]
  },
  {
   "cell_type": "markdown",
   "metadata": {},
   "source": [
    "## Metrics for Regression:\n",
    "\n",
    "Regression problems are supervised machine learning models in which the output is continuous. \n",
    "Regression helps us to perform modelling and analyzing with a given dataset to predict the relationship between a dependent and independent variable. We do this by fitting a curve to the dataset in such a way that the differences between the distances of points of data from the curve is minimized\n",
    "\n",
    "We will focus on the 3 most common metrics for evaluating predictions on regression machine learning problems:\n",
    "\n",
    "    a. Mean Absolute Error\n",
    "    b. Mean Squared Error\n",
    "    c. R^2\n",
    "    \n",
    "We will also take a look on how to visualize the error in a more graphical way by using:\n",
    "\n",
    "    d. Residual Plots\n"
   ]
  },
  {
   "cell_type": "markdown",
   "metadata": {},
   "source": [
    "Let us take as an example the most well known regression of them all, Linear Regression. Here, we will take the Boston dataset from SKLearn to perform our regression analysis. This is a Boston Housing Data Set that gives you information concerning housing in the area of Boston Mass, collected by the U.S Census Service. Let us start by loading and exploring the dataset."
   ]
  },
  {
   "cell_type": "code",
   "execution_count": 277,
   "metadata": {},
   "outputs": [],
   "source": [
    "from sklearn.datasets import load_boston\n",
    "# Loading the dataset. 'boston_dataset' is a dict which has various keys which can be accessed and explored.\n",
    "boston_dataset = load_boston()"
   ]
  },
  {
   "cell_type": "code",
   "execution_count": 278,
   "metadata": {},
   "outputs": [
    {
     "name": "stdout",
     "output_type": "stream",
     "text": [
      "['CRIM' 'ZN' 'INDUS' 'CHAS' 'NOX' 'RM' 'AGE' 'DIS' 'RAD' 'TAX' 'PTRATIO'\n",
      " 'B' 'LSTAT'] \n",
      "\n",
      "\n",
      "Boston House Prices dataset\n",
      "===========================\n",
      "\n",
      "Notes\n",
      "------\n",
      "Data Set Characteristics:  \n",
      "\n",
      "    :Number of Instances: 506 \n",
      "\n",
      "    :Number of Attributes: 13 numeric/categorical predictive\n",
      "    \n",
      "    :Median Value (attribute 14) is usually the target\n",
      "\n",
      "    :Attribute Information (in order):\n",
      "        - CRIM     per capita crime rate by town\n",
      "        - ZN       proportion of residential land zoned for lots over 25,000 sq.ft.\n",
      "        - INDUS    proportion of non-retail business acres per town\n",
      "        - CHAS     Charles River dummy variable (= 1 if tract bounds river; 0 otherwise)\n",
      "        - NOX      nitric oxides concentration (parts per 10 million)\n",
      "        - RM       average number of rooms per dwelling\n",
      "        - AGE      proportion of owner-occupied units built prior to 1940\n",
      "        - DIS      weighted distances to five Boston employment centres\n",
      "        - RAD      index of accessibility to radial highways\n",
      "        - TAX      full-value property-tax rate per $10,000\n",
      "        - PTRATIO  pupil-teacher ratio by town\n",
      "        - B        1000(Bk - 0.63)^2 where Bk is the proportion of blacks by town\n",
      "        - LSTAT    % lower status of the population\n",
      "        - MEDV     Median value of owner-occupied homes in $1000's\n",
      "\n",
      "    :Missing Attribute Values: None\n",
      "\n",
      "    :Creator: Harrison, D. and Rubinfeld, D.L.\n",
      "\n",
      "This is a copy of UCI ML housing dataset.\n",
      "http://archive.ics.uci.edu/ml/datasets/Housing\n",
      "\n",
      "\n",
      "This dataset was taken from the StatLib library which is maintained at Carnegie Mellon University.\n",
      "\n",
      "The Boston house-price data of Harrison, D. and Rubinfeld, D.L. 'Hedonic\n",
      "prices and the demand for clean air', J. Environ. Economics & Management,\n",
      "vol.5, 81-102, 1978.   Used in Belsley, Kuh & Welsch, 'Regression diagnostics\n",
      "...', Wiley, 1980.   N.B. Various transformations are used in the table on\n",
      "pages 244-261 of the latter.\n",
      "\n",
      "The Boston house-price data has been used in many machine learning papers that address regression\n",
      "problems.   \n",
      "     \n",
      "**References**\n",
      "\n",
      "   - Belsley, Kuh & Welsch, 'Regression diagnostics: Identifying Influential Data and Sources of Collinearity', Wiley, 1980. 244-261.\n",
      "   - Quinlan,R. (1993). Combining Instance-Based and Model-Based Learning. In Proceedings on the Tenth International Conference of Machine Learning, 236-243, University of Massachusetts, Amherst. Morgan Kaufmann.\n",
      "   - many more! (see http://archive.ics.uci.edu/ml/datasets/Housing)\n",
      "\n"
     ]
    }
   ],
   "source": [
    "print(boston_dataset.feature_names,\"\\n\\n\")\n",
    "# Exploring the contents of the dataset\n",
    "print(boston_dataset.DESCR)"
   ]
  },
  {
   "cell_type": "markdown",
   "metadata": {},
   "source": [
    "  "
   ]
  },
  {
   "cell_type": "markdown",
   "metadata": {},
   "source": [
    "Just to ease things up, I will create a dataframe containing the data and the column names called 'boston_dataframe'."
   ]
  },
  {
   "cell_type": "code",
   "execution_count": 279,
   "metadata": {},
   "outputs": [],
   "source": [
    "boston_dataframe = pd.DataFrame(boston_dataset.data)\n",
    "boston_dataframe.columns = boston_dataset.feature_names"
   ]
  },
  {
   "cell_type": "markdown",
   "metadata": {},
   "source": [
    "Now we need to get the target variable, which is the pricing data. We will use this as the test data to evaluate the regression model.\n",
    "\n",
    "    boston_dataset.target contains the required housing prices.\n"
   ]
  },
  {
   "cell_type": "code",
   "execution_count": 280,
   "metadata": {},
   "outputs": [
    {
     "name": "stdout",
     "output_type": "stream",
     "text": [
      "      CRIM    ZN  INDUS  CHAS    NOX     RM   AGE     DIS  RAD    TAX  \\\n",
      "0  0.00632  18.0   2.31   0.0  0.538  6.575  65.2  4.0900  1.0  296.0   \n",
      "1  0.02731   0.0   7.07   0.0  0.469  6.421  78.9  4.9671  2.0  242.0   \n",
      "2  0.02729   0.0   7.07   0.0  0.469  7.185  61.1  4.9671  2.0  242.0   \n",
      "3  0.03237   0.0   2.18   0.0  0.458  6.998  45.8  6.0622  3.0  222.0   \n",
      "4  0.06905   0.0   2.18   0.0  0.458  7.147  54.2  6.0622  3.0  222.0   \n",
      "\n",
      "   PTRATIO       B  LSTAT  Housing_Price  \n",
      "0     15.3  396.90   4.98           24.0  \n",
      "1     17.8  396.90   9.14           21.6  \n",
      "2     17.8  392.83   4.03           34.7  \n",
      "3     18.7  394.63   2.94           33.4  \n",
      "4     18.7  396.90   5.33           36.2  \n"
     ]
    }
   ],
   "source": [
    "boston_dataframe['Housing_Price'] = boston_dataset.target\n",
    "print(boston_dataframe.head())"
   ]
  },
  {
   "cell_type": "markdown",
   "metadata": {},
   "source": [
    "Now we will fit a linear regression model and predict the Boston housing prices. We will use the least squares method to estimate the coefficients of the model.\n",
    "\n",
    "        Dependent variable    :    Y = boston housing price\n",
    "        Independent variables :    X = all the other features apart from price"
   ]
  },
  {
   "cell_type": "code",
   "execution_count": 281,
   "metadata": {
    "collapsed": true
   },
   "outputs": [],
   "source": [
    "X = boston_dataframe.drop('Housing_Price',axis=1)"
   ]
  },
  {
   "cell_type": "markdown",
   "metadata": {},
   "source": [
    "Here, we will again split the dataset using SkLearn's train_test_split. This time we will split the train and test data in 70:30 ratio."
   ]
  },
  {
   "cell_type": "code",
   "execution_count": 282,
   "metadata": {
    "collapsed": true
   },
   "outputs": [],
   "source": [
    "from sklearn.model_selection import train_test_split\n",
    "\n",
    "# Split the dataset using 30% test size\n",
    "X_train, X_test, y_train, y_test = train_test_split(X, boston_dataframe.Housing_Price,\n",
    "                                                    test_size=0.30,\n",
    "                                                    random_state=10)"
   ]
  },
  {
   "cell_type": "markdown",
   "metadata": {},
   "source": [
    "Now we will define the model and fit the model with X_train and y_train data. We will then use the model to predict the housing prices on the X_train data and the X_test data.\n",
    "\n",
    "Unlike in Classification problems, in regression we should explore the training data error and test data error. Hence we will predict on the train and test data."
   ]
  },
  {
   "cell_type": "code",
   "execution_count": 283,
   "metadata": {
    "collapsed": true
   },
   "outputs": [],
   "source": [
    "from sklearn.linear_model import LinearRegression\n",
    "\n",
    "model = LinearRegression()\n",
    "model.fit(X_train,y_train)\n",
    "predict_train = model.predict(X_train)\n",
    "predict_test = model.predict(X_test)"
   ]
  },
  {
   "cell_type": "markdown",
   "metadata": {},
   "source": [
    "Now that we have built the model and predicted on the train and test data, we will evaluate how well our model is behaving with the given dataset at hand."
   ]
  },
  {
   "cell_type": "markdown",
   "metadata": {},
   "source": [
    "### a. Mean Absolute Error\n",
    "\n",
    "The Mean Absolute Error (or MAE) is simply the sum of absolute differences between predicted values and expected values. In more simple terms it gives us an idea of how wrong the predictions are.\n",
    "\n",
    "The MAE measures how far the estimates differ from actual values by considering its absolute differences. In the industry it is mostly used in time series forecasting.\n",
    "\n",
    "The only disadvantage of this measure is that it gives us a good idea of the magnitude of the error, but no idea of the direction of the error by specifying if the predictions were over or under.\n",
    "\n",
    "                  \"A value of 0 indicates perfect predictions in other words, 0 errors.\"\n",
    "\n",
    "In order to better understand the error measure we will try to explore it in 3 different ways:"
   ]
  },
  {
   "cell_type": "markdown",
   "metadata": {},
   "source": [
    "#### 1. Using SkLearn\n",
    "\n",
    "The function 'mean_absolute_error' in Sklearn will help us measure the MAE by simply providing the expected and predicted values."
   ]
  },
  {
   "cell_type": "code",
   "execution_count": 286,
   "metadata": {},
   "outputs": [
    {
     "name": "stdout",
     "output_type": "stream",
     "text": [
      "\n",
      "Mean Absolute Error on the train data 3.08759846343 \n",
      "\n",
      "Mean Absolute Error on the test data 3.7083644 \n",
      "\n"
     ]
    }
   ],
   "source": [
    "from sklearn.metrics import mean_absolute_error\n",
    "print(\"\\nMean Absolute Error on the train data\",mean_absolute_error(y_train, predict_train),\"\\n\")\n",
    "print(\"Mean Absolute Error on the test data\",mean_absolute_error(y_test, predict_test),\"\\n\")"
   ]
  },
  {
   "cell_type": "markdown",
   "metadata": {},
   "source": [
    "#### 2. Calculating directly using a formula\n",
    "\n",
    "If you want to understand the math behind MAE, we can easily see how it is calculated by using the formula code below:"
   ]
  },
  {
   "cell_type": "code",
   "execution_count": 293,
   "metadata": {
    "scrolled": true
   },
   "outputs": [
    {
     "name": "stdout",
     "output_type": "stream",
     "text": [
      "\n",
      "Calculating MAE with Y_train: 3.0875984634310503 \n",
      "\n",
      "Calculating MAE with X_test, Y_test: 3.7083644000023583 \n",
      "\n"
     ]
    }
   ],
   "source": [
    "print(\"\\nCalculating MAE with Y_train:\", np.sum(np.absolute((y_train - model.predict(X_train))))/len(y_train),\"\\n\")\n",
    "print(\"Calculating MAE with X_test, Y_test:\", np.sum(np.absolute((y_test - model.predict(X_test))))/len(y_test),\"\\n\")"
   ]
  },
  {
   "cell_type": "markdown",
   "metadata": {},
   "source": [
    "#### 3. Using kFold cross validation\n",
    "If you are performing kFold cross validation, then you will have to specify to Sklearn fucntion cross_val_score that we want to measure the 'neg_mean_absolute_error'. In order to evaluate the metric we will need to take the mean and standard deviations of the results. This metric here is inverted and hence the output is increasing. "
   ]
  },
  {
   "cell_type": "code",
   "execution_count": 289,
   "metadata": {
    "scrolled": true
   },
   "outputs": [
    {
     "name": "stdout",
     "output_type": "stream",
     "text": [
      "Negative Mean Absolute Error: \n",
      "mean = -4.269 standard deviation = 0.70 \n",
      "\n"
     ]
    }
   ],
   "source": [
    "kfold = model_selection.KFold(n_splits=5, random_state=5)\n",
    "evaluation_metric = 'neg_mean_absolute_error'\n",
    "cross_val_output = model_selection.cross_val_score(model, X_test, y_test, cv=kfold, scoring=evaluation_metric)\n",
    "print(\"Negative Mean Absolute Error: \\nmean = %.3f standard deviation = %.2f\" % (cross_val_output.mean(), cross_val_output.std()),\"\\n\")"
   ]
  },
  {
   "cell_type": "markdown",
   "metadata": {},
   "source": [
    "Interpretation of the values:\n",
    "\n",
    "From the above results we can see that the MAE values calculated indicate that the model fit isn't bad but not idea as it is not very close to 0."
   ]
  },
  {
   "cell_type": "markdown",
   "metadata": {},
   "source": [
    "### b. Mean Squared Error\n",
    "\n",
    "The Mean Squared Error (or MSE) is similar to the mean absolute error as it also provides us a good idea of the magnitude of the error. It is one of the most popularly used metric in regression problems. The assumption that MSE follows is that the error values are unbiased and follow a normal distribution.\n",
    "\n",
    "The squared feature of this metric helps us deliver more robust outputs which prevent the cancelling of the positive and negative error values. Hence, it is somewhat better than MAE as it avoids absolute values.\n",
    "\n",
    "                    \"MSE is non-negative and the closer it is to zero is better\""
   ]
  },
  {
   "cell_type": "markdown",
   "metadata": {},
   "source": [
    "#### 1. Using SkLearn\n",
    "\n",
    "The function 'mean_squared_error' in Sklearn will help us measure the MSE by again providing the expected and predicted values."
   ]
  },
  {
   "cell_type": "code",
   "execution_count": 292,
   "metadata": {},
   "outputs": [
    {
     "name": "stdout",
     "output_type": "stream",
     "text": [
      "\n",
      "Mean Squared Error on the train data 19.4565693282 \n",
      "\n",
      "Mean Squared Error on the test data 29.3579796452 \n",
      "\n"
     ]
    }
   ],
   "source": [
    "from sklearn.metrics import mean_squared_error\n",
    "print(\"\\nMean Squared Error on the train data\",mean_squared_error(y_train, predict_train),\"\\n\")\n",
    "print(\"Mean Squared Error on the test data\",mean_squared_error(y_test, predict_test),\"\\n\")"
   ]
  },
  {
   "cell_type": "markdown",
   "metadata": {},
   "source": [
    "#### 2. Calculating directly using a formula\n",
    "\n",
    "We can easily calculate MSE by using the formula code below:"
   ]
  },
  {
   "cell_type": "code",
   "execution_count": 243,
   "metadata": {},
   "outputs": [
    {
     "name": "stdout",
     "output_type": "stream",
     "text": [
      "Calculate MSE with Y_train: 19.45656932822032 \n",
      "\n",
      "Calculate MSE with X_test, Y_test: 29.357979645158473 \n",
      "\n"
     ]
    }
   ],
   "source": [
    "print(\"Calculate MSE with Y_train:\", np.mean((y_train - model.predict(X_train)) ** 2),\"\\n\")\n",
    "print(\"Calculate MSE with X_test, Y_test:\", np.mean((y_test - model.predict(X_test)) ** 2),\"\\n\")"
   ]
  },
  {
   "cell_type": "markdown",
   "metadata": {},
   "source": [
    "Interpretation of the results:\n",
    "\n",
    "We can see that the regression error is very high in the case of MSE. It could be because of an independent variable causing high error in the regression analysis. After looking at the high value of the error it gives us an opportunity to re-evaluate the features we selected and re-do the analsysis to get better results."
   ]
  },
  {
   "cell_type": "markdown",
   "metadata": {},
   "source": [
    "#### 3. Using kFold cross validation\n",
    "We need to specify to Sklearn fucntion cross_val_score that we want to measure the 'neg_mean_squared_error'. This metric here again is inverted and hence the output is increasing. "
   ]
  },
  {
   "cell_type": "code",
   "execution_count": 244,
   "metadata": {},
   "outputs": [
    {
     "name": "stdout",
     "output_type": "stream",
     "text": [
      "Negative Mean Squared Error: \n",
      "mean = -35.203 standard deviation = 9.96 \n",
      "\n"
     ]
    }
   ],
   "source": [
    "kfold = model_selection.KFold(n_splits=5, random_state=5)\n",
    "evaluation_metric = 'neg_mean_squared_error'\n",
    "cross_val_output = model_selection.cross_val_score(model, X_test, y_test, cv=kfold, scoring=evaluation_metric)\n",
    "print(\"Negative Mean Squared Error: \\nmean = %.3f standard deviation = %.2f\" % (cross_val_output.mean(), cross_val_output.std()),\"\\n\")"
   ]
  },
  {
   "cell_type": "markdown",
   "metadata": {},
   "source": [
    "### c. R-Squared\n",
    "\n",
    "\n",
    "The R Squared or R^2 gives us a general indication of the goodness of fit the predicted and expected values. Statistical, it gives us a measure called as the coefficient of determination.\n",
    "\n",
    "This metric ranges between value between 0 and 1; 0 indicating no fit at all and 1 indicating perfect fit. It could be under 0 or over 1 as well. This situation can occur when the model fits the train and test data worse than a horizontal line."
   ]
  },
  {
   "cell_type": "markdown",
   "metadata": {},
   "source": [
    "#### 1. Using SkLearn\n",
    "\n",
    "The function 'mean_absolute_error' in Sklearn will help us measure the MAE by simply providing the expected and predicted values."
   ]
  },
  {
   "cell_type": "code",
   "execution_count": 294,
   "metadata": {
    "scrolled": true
   },
   "outputs": [
    {
     "name": "stdout",
     "output_type": "stream",
     "text": [
      "R-Squared on train data:  0.749580101504 \n",
      "\n",
      "R-Squared on test data:  0.699304139171 \n",
      "\n"
     ]
    }
   ],
   "source": [
    "from sklearn.metrics import r2_score\n",
    "\n",
    "print(\"R-Squared on train data: \",r2_score(y_train, predict_train),\"\\n\")\n",
    "print(\"R-Squared on test data: \",r2_score(y_test, predict_test),\"\\n\")"
   ]
  },
  {
   "cell_type": "markdown",
   "metadata": {},
   "source": [
    "Interpretation of results:\n",
    "\n",
    "We can see that on the train data the R-squared value is slightly higher than on the test data. But both are closer to 1 indicating that it is a good fit."
   ]
  },
  {
   "cell_type": "markdown",
   "metadata": {},
   "source": [
    "#### 2. Using kFold cross validation\n",
    "We need to specify to Sklearn fucntion cross_val_score that we want to measure the 'r2'. "
   ]
  },
  {
   "cell_type": "code",
   "execution_count": 246,
   "metadata": {},
   "outputs": [
    {
     "name": "stdout",
     "output_type": "stream",
     "text": [
      "R-Squared: \n",
      "mean = 0.578 standard deviation = 0.15 \n",
      "\n"
     ]
    }
   ],
   "source": [
    "kfold = model_selection.KFold(n_splits=5, random_state=5)\n",
    "evaluation_metric = 'r2'\n",
    "cross_val_output = model_selection.cross_val_score(model, X_test, y_test, cv=kfold, scoring=evaluation_metric)\n",
    "print(\"R-Squared: \\nmean = %.3f standard deviation = %.2f\" % (cross_val_output.mean(), cross_val_output.std()),\"\\n\")"
   ]
  },
  {
   "cell_type": "markdown",
   "metadata": {},
   "source": [
    "Cross validation on the other hand shows that it is neither a good or bad fit."
   ]
  },
  {
   "cell_type": "markdown",
   "metadata": {},
   "source": [
    "### d. Residual Plots\n",
    "\n",
    "Even though residual plots aren't a metric to evaluate a model, it is a good way to visualize the errors and hence it will be discussed. We will plot a residual plot for our boston data regression analysis. To interpret the plot, we need to see the distribution of the scatter points around the line zero as indicated in the chart. If the model predicts well then the scatter points should be randomly scattered around zero. If you observe any form of structure in your points, then your model is failing to capture something.For example: An interaction variable made of 2 variables that isn't being considered. After you observe some structure in your pointsit is advisable to revisit the design of the model to check how well you are doing with your model parameters."
   ]
  },
  {
   "cell_type": "code",
   "execution_count": 297,
   "metadata": {},
   "outputs": [
    {
     "data": {
      "text/plain": [
       "<matplotlib.collections.LineCollection at 0x1a16bdedd8>"
      ]
     },
     "execution_count": 297,
     "metadata": {},
     "output_type": "execute_result"
    },
    {
     "data": {
      "image/png": "[encoded data removed]",
      "text/plain": [
       "<matplotlib.figure.Figure at 0x1a16b345f8>"
      ]
     },
     "metadata": {},
     "output_type": "display_data"
    }
   ],
   "source": [
    "xpred_train = model.predict(X_train)\n",
    "xpred_test = model.predict(X_test)\n",
    "\n",
    "plt.scatter(xpred_train, xpred_train-y_train, c='r', alpha = 0.5)\n",
    "plt.scatter(xpred_test, xpred_test-y_test,c='g')\n",
    "plt.title(\"Residual plot representing trainging (red) and test data (green)\")\n",
    "plt.ylabel(\"Residual values\")\n",
    "\n",
    "# Horizontal line can be added to interpret better\n",
    "plt.hlines( y=0, xmin = 0, xmax = 40)"
   ]
  },
  {
   "cell_type": "markdown",
   "metadata": {},
   "source": [
    "In the residual plot above we can see that the data isn't randomly scattered and it concentrates around the central horizontal line. This indicates a bad fit and that this model should be revisited.\n",
    "\n",
    "\n",
    "\n",
    "This brings us to the end of the tutorial."
   ]
  },
  {
   "cell_type": "markdown",
   "metadata": {},
   "source": [
    "### Conclusion:\n",
    "\n",
    "To conclude I'd like to state that performing any kind of classification or regression is pointless if it is not continously checked for it's performance. Also, measuring the performance on only the training sample is point less. But splitting the data may somtimes cause to make selection bias.\n",
    "\n",
    "\n",
    "In order to tackle variance and bias aspects, the K-Fold cross validation gives us a way to use every datapoint at hand, which can reduce this selection bias to a large extent. Also, as we saw in classification and in regression, K-fold cross validation can be used with any modelling technique.\n",
    "\n",
    "\n",
    "In addition, the metrics covered in this tutorial are some of the most used metrics of evaluation in a classification and regression problems.\n",
    "\n",
    "\n",
    "I hope this tutorial has helped you get a good understanding on how to evaluate supervised machine learning models."
   ]
  },
  {
   "cell_type": "markdown",
   "metadata": {},
   "source": [
    "A resource that should essentially become your bible that you can keep refering to while evaluating metrics is:\n",
    "\n",
    "        http://scikit-learn.org/stable/modules/classes.html#module-sklearn.metrics\n",
    "\n",
    "Links to other useful sources to learn in detail would be :\n",
    "\n",
    "        1. http://www.saedsayad.com/model_evaluation_c.htm\n",
    "        2. https://spark.apache.org/docs/latest/mllib-evaluation-metrics.html#classification-model-evaluation"
   ]
  }
 ],
 "metadata": {
  "kernelspec": {
   "display_name": "Python 3",
   "language": "python",
   "name": "python3"
  },
  "language_info": {
   "codemirror_mode": {
    "name": "ipython",
    "version": 3
   },
   "file_extension": ".py",
   "mimetype": "text/x-python",
   "name": "python",
   "nbconvert_exporter": "python",
   "pygments_lexer": "ipython3",
   "version": "3.6.3"
  }
 },
 "nbformat": 4,
 "nbformat_minor": 2
}
