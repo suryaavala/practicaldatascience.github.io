{
 "cells": [
  {
   "cell_type": "markdown",
   "metadata": {},
   "source": [
    "# Interactive Visualizations"
   ]
  },
  {
   "cell_type": "markdown",
   "metadata": {},
   "source": [
    "## Introduction"
   ]
  },
  {
   "cell_type": "markdown",
   "metadata": {},
   "source": [
    "During exploratory analysis, dashboard and application creation, data scientists often find themselves moving from their analytical language softwares to using BI Tools (Tableau, MicroStrategy etc) or other traditional products (Excel, Powerpoint etc). The problem is a lack of documentation and examples along with limited capabilities including the absence of interactive or dynamic plots. Data visualization is critical to enable decision makers to grasp diffcult concepts, identify new patters and hence make data driven informed decisions. Today, the best visualizations on dashboards are ones which give the user to tailor it to their with the use of widgets, interactors and dynamic elements\n",
    "\n",
    "This tutorial will help introduce data scientists to basic methods for creating interactive data visualizations and form a foundation to learn about further possibilities. Currently, in Python, packages such as matplotlib, plotly and seaborn offer several features but are limited in terms of their capablities. But new packages such as Bokeh, HoloViews have started to provide elegant construction of novel graphics.\n",
    "\n",
    "\n"
   ]
  },
  {
   "cell_type": "markdown",
   "metadata": {},
   "source": [
    "## Tutorial Content\n",
    "\n",
    "In this tutorial, we will teach you how to do some basic as well as some advanced interactive plots in Python, specifically using [Bokeh](https://bokeh.pydata.org) and [ipywidgets](https://ipywidgets.readthedocs.io).\n",
    "\n",
    "We shall cover the following topics in this tutorial:\n",
    "- [Installing Libraries](#Installing-Libraries)\n",
    "- [Fundamentals](#Fundamentals)\n",
    "- [Steps and Basic Plots](#Steps-and-Basic-Plots)\n",
    "- [Categorical Plots](#Categorical-Plots)\n",
    "- [Graph Plots](#Graph-Plots)\n",
    "- [Interactive](#Interactive)\n",
    "- [Widgets](#Widgets)\n",
    "- [Example application: Unemployment](#Example-application:-Unemployment)\n",
    "- [Summary and References](#Summary-and-References)\n"
   ]
  },
  {
   "cell_type": "markdown",
   "metadata": {},
   "source": [
    "## Installing Libraries"
   ]
  },
  {
   "cell_type": "markdown",
   "metadata": {},
   "source": [
    "To start with this tutorial, you must first make sure to see if you if you have already have or else install bokeh and ipywidgets libraries using `pip` or `conda` depending on your configuration: \n",
    "    \n",
    "    $ conda install bokeh\n",
    "    \n",
    "    $ conda install ipywidgets\n",
    "    \n",
    "If you are not seeing the interactive widgets being displayed then please run the following commond along with restarting the jupyter notebook on your local machine:\n",
    "\n",
    "    $ jupyter nbextension enable --py widgetsnbextension\n",
    "    \n",
    "Besides the above libraries which are used for visualization, we also use numpy,scipy, sklearn and networkx to use them for examples. You can install these libraries by using the `pip` or `conda` commands and then check if the following commands are working for you:"
   ]
  },
  {
   "cell_type": "code",
   "execution_count": 185,
   "metadata": {},
   "outputs": [],
   "source": [
    "# import all necessary poackages\n",
    "from bokeh.plotting import figure, output_file, show\n",
    "from bokeh.io import push_notebook,output_notebook\n",
    "from bokeh.models.graphs import from_networkx\n",
    "from bokeh.models import Range1d, Plot\n",
    "from bokeh.models.graphs import NodesAndLinkedEdges\n",
    "from bokeh.models import Circle, HoverTool, MultiLine\n",
    "from bokeh.io import output_file, show\n",
    "from bokeh.layouts import widgetbox\n",
    "from bokeh.models.widgets import Button, RadioButtonGroup, Select, Slider, RadioGroup, Dropdown, TextInput\n",
    "from bokeh.models import ColumnDataSource, FactorRange\n",
    "from bokeh.transform import dodge\n",
    "from bokeh.core.properties import value\n",
    "from bokeh.palettes import Spectral11\n",
    "import networkx as nx\n",
    "import numpy as np\n",
    "from ipywidgets import interact\n",
    "import scipy.special as spl\n",
    "from sklearn import datasets"
   ]
  },
  {
   "cell_type": "code",
   "execution_count": 186,
   "metadata": {},
   "outputs": [
    {
     "data": {
      "text/html": [
       "\n",
       "    <div class=\"bk-root\">\n",
       "        <a href=\"https://bokeh.pydata.org\" target=\"_blank\" class=\"bk-logo bk-logo-small bk-logo-notebook\"></a>\n",
       "        <span id=\"559c5000-556e-49a7-99b1-5882b772c54a\">Loading BokehJS ...</span>\n",
       "    </div>"
      ]
     },
     "metadata": {},
     "output_type": "display_data"
    },
    {
     "data": {
      "application/javascript": [
       "\n",
       "(function(root) {\n",
       "  function now() {\n",
       "    return new Date();\n",
       "  }\n",
       "\n",
       "  var force = true;\n",
       "\n",
       "  if (typeof (root._bokeh_onload_callbacks) === \"undefined\" || force === true) {\n",
       "    root._bokeh_onload_callbacks = [];\n",
       "    root._bokeh_is_loading = undefined;\n",
       "  }\n",
       "\n",
       "  var JS_MIME_TYPE = 'application/javascript';\n",
       "  var HTML_MIME_TYPE = 'text/html';\n",
       "  var EXEC_MIME_TYPE = 'application/vnd.bokehjs_exec.v0+json';\n",
       "  var CLASS_NAME = 'output_bokeh rendered_html';\n",
       "\n",
       "  /**\n",
       "   * Render data to the DOM node\n",
       "   */\n",
       "  function render(props, node) {\n",
       "    var script = document.createElement(\"script\");\n",
       "    node.appendChild(script);\n",
       "  }\n",
       "\n",
       "  /**\n",
       "   * Handle when an output is cleared or removed\n",
       "   */\n",
       "  function handleClearOutput(event, handle) {\n",
       "    var cell = handle.cell;\n",
       "\n",
       "    var id = cell.output_area._bokeh_element_id;\n",
       "    var server_id = cell.output_area._bokeh_server_id;\n",
       "    // Clean up Bokeh references\n",
       "    if (id !== undefined) {\n",
       "      Bokeh.index[id].model.document.clear();\n",
       "      delete Bokeh.index[id];\n",
       "    }\n",
       "\n",
       "    if (server_id !== undefined) {\n",
       "      // Clean up Bokeh references\n",
       "      var cmd = \"from bokeh.io.state import curstate; print(curstate().uuid_to_server['\" + server_id + \"'].get_sessions()[0].document.roots[0]._id)\";\n",
       "      cell.notebook.kernel.execute(cmd, {\n",
       "        iopub: {\n",
       "          output: function(msg) {\n",
       "            var element_id = msg.content.text.trim();\n",
       "            Bokeh.index[element_id].model.document.clear();\n",
       "            delete Bokeh.index[element_id];\n",
       "          }\n",
       "        }\n",
       "      });\n",
       "      // Destroy server and session\n",
       "      var cmd = \"import bokeh.io.notebook as ion; ion.destroy_server('\" + server_id + \"')\";\n",
       "      cell.notebook.kernel.execute(cmd);\n",
       "    }\n",
       "  }\n",
       "\n",
       "  /**\n",
       "   * Handle when a new output is added\n",
       "   */\n",
       "  function handleAddOutput(event, handle) {\n",
       "    var output_area = handle.output_area;\n",
       "    var output = handle.output;\n",
       "\n",
       "    // limit handleAddOutput to display_data with EXEC_MIME_TYPE content only\n",
       "    if ((output.output_type != \"display_data\") || (!output.data.hasOwnProperty(EXEC_MIME_TYPE))) {\n",
       "      return\n",
       "    }\n",
       "\n",
       "    var toinsert = output_area.element.find(\".\" + CLASS_NAME.split(' ')[0]);\n",
       "\n",
       "    if (output.metadata[EXEC_MIME_TYPE][\"id\"] !== undefined) {\n",
       "      toinsert[0].firstChild.textContent = output.data[JS_MIME_TYPE];\n",
       "      // store reference to embed id on output_area\n",
       "      output_area._bokeh_element_id = output.metadata[EXEC_MIME_TYPE][\"id\"];\n",
       "    }\n",
       "    if (output.metadata[EXEC_MIME_TYPE][\"server_id\"] !== undefined) {\n",
       "      var bk_div = document.createElement(\"div\");\n",
       "      bk_div.innerHTML = output.data[HTML_MIME_TYPE];\n",
       "      var script_attrs = bk_div.children[0].attributes;\n",
       "      for (var i = 0; i < script_attrs.length; i++) {\n",
       "        toinsert[0].firstChild.setAttribute(script_attrs[i].name, script_attrs[i].value);\n",
       "      }\n",
       "      // store reference to server id on output_area\n",
       "      output_area._bokeh_server_id = output.metadata[EXEC_MIME_TYPE][\"server_id\"];\n",
       "    }\n",
       "  }\n",
       "\n",
       "  function register_renderer(events, OutputArea) {\n",
       "\n",
       "    function append_mime(data, metadata, element) {\n",
       "      // create a DOM node to render to\n",
       "      var toinsert = this.create_output_subarea(\n",
       "        metadata,\n",
       "        CLASS_NAME,\n",
       "        EXEC_MIME_TYPE\n",
       "      );\n",
       "      this.keyboard_manager.register_events(toinsert);\n",
       "      // Render to node\n",
       "      var props = {data: data, metadata: metadata[EXEC_MIME_TYPE]};\n",
       "      render(props, toinsert[0]);\n",
       "      element.append(toinsert);\n",
       "      return toinsert\n",
       "    }\n",
       "\n",
       "    /* Handle when an output is cleared or removed */\n",
       "    events.on('clear_output.CodeCell', handleClearOutput);\n",
       "    events.on('delete.Cell', handleClearOutput);\n",
       "\n",
       "    /* Handle when a new output is added */\n",
       "    events.on('output_added.OutputArea', handleAddOutput);\n",
       "\n",
       "    /**\n",
       "     * Register the mime type and append_mime function with output_area\n",
       "     */\n",
       "    OutputArea.prototype.register_mime_type(EXEC_MIME_TYPE, append_mime, {\n",
       "      /* Is output safe? */\n",
       "      safe: true,\n",
       "      /* Index of renderer in `output_area.display_order` */\n",
       "      index: 0\n",
       "    });\n",
       "  }\n",
       "\n",
       "  // register the mime type if in Jupyter Notebook environment and previously unregistered\n",
       "  if (root.Jupyter !== undefined) {\n",
       "    var events = require('base/js/events');\n",
       "    var OutputArea = require('notebook/js/outputarea').OutputArea;\n",
       "\n",
       "    if (OutputArea.prototype.mime_types().indexOf(EXEC_MIME_TYPE) == -1) {\n",
       "      register_renderer(events, OutputArea);\n",
       "    }\n",
       "  }\n",
       "\n",
       "  \n",
       "  if (typeof (root._bokeh_timeout) === \"undefined\" || force === true) {\n",
       "    root._bokeh_timeout = Date.now() + 5000;\n",
       "    root._bokeh_failed_load = false;\n",
       "  }\n",
       "\n",
       "  var NB_LOAD_WARNING = {'data': {'text/html':\n",
       "     \"<div style='background-color: #fdd'>\\n\"+\n",
       "     \"<p>\\n\"+\n",
       "     \"BokehJS does not appear to have successfully loaded. If loading BokehJS from CDN, this \\n\"+\n",
       "     \"may be due to a slow or bad network connection. Possible fixes:\\n\"+\n",
       "     \"</p>\\n\"+\n",
       "     \"<ul>\\n\"+\n",
       "     \"<li>re-rerun `output_notebook()` to attempt to load from CDN again, or</li>\\n\"+\n",
       "     \"<li>use INLINE resources instead, as so:</li>\\n\"+\n",
       "     \"</ul>\\n\"+\n",
       "     \"<code>\\n\"+\n",
       "     \"from bokeh.resources import INLINE\\n\"+\n",
       "     \"output_notebook(resources=INLINE)\\n\"+\n",
       "     \"</code>\\n\"+\n",
       "     \"</div>\"}};\n",
       "\n",
       "  function display_loaded() {\n",
       "    var el = document.getElementById(\"559c5000-556e-49a7-99b1-5882b772c54a\");\n",
       "    if (el != null) {\n",
       "      el.textContent = \"BokehJS is loading...\";\n",
       "    }\n",
       "    if (root.Bokeh !== undefined) {\n",
       "      if (el != null) {\n",
       "        el.textContent = \"BokehJS \" + root.Bokeh.version + \" successfully loaded.\";\n",
       "      }\n",
       "    } else if (Date.now() < root._bokeh_timeout) {\n",
       "      setTimeout(display_loaded, 100)\n",
       "    }\n",
       "  }\n",
       "\n",
       "\n",
       "  function run_callbacks() {\n",
       "    try {\n",
       "      root._bokeh_onload_callbacks.forEach(function(callback) { callback() });\n",
       "    }\n",
       "    finally {\n",
       "      delete root._bokeh_onload_callbacks\n",
       "    }\n",
       "    console.info(\"Bokeh: all callbacks have finished\");\n",
       "  }\n",
       "\n",
       "  function load_libs(js_urls, callback) {\n",
       "    root._bokeh_onload_callbacks.push(callback);\n",
       "    if (root._bokeh_is_loading > 0) {\n",
       "      console.log(\"Bokeh: BokehJS is being loaded, scheduling callback at\", now());\n",
       "      return null;\n",
       "    }\n",
       "    if (js_urls == null || js_urls.length === 0) {\n",
       "      run_callbacks();\n",
       "      return null;\n",
       "    }\n",
       "    console.log(\"Bokeh: BokehJS not loaded, scheduling load and callback at\", now());\n",
       "    root._bokeh_is_loading = js_urls.length;\n",
       "    for (var i = 0; i < js_urls.length; i++) {\n",
       "      var url = js_urls[i];\n",
       "      var s = document.createElement('script');\n",
       "      s.src = url;\n",
       "      s.async = false;\n",
       "      s.onreadystatechange = s.onload = function() {\n",
       "        root._bokeh_is_loading--;\n",
       "        if (root._bokeh_is_loading === 0) {\n",
       "          console.log(\"Bokeh: all BokehJS libraries loaded\");\n",
       "          run_callbacks()\n",
       "        }\n",
       "      };\n",
       "      s.onerror = function() {\n",
       "        console.warn(\"failed to load library \" + url);\n",
       "      };\n",
       "      console.log(\"Bokeh: injecting script tag for BokehJS library: \", url);\n",
       "      document.getElementsByTagName(\"head\")[0].appendChild(s);\n",
       "    }\n",
       "  };var element = document.getElementById(\"559c5000-556e-49a7-99b1-5882b772c54a\");\n",
       "  if (element == null) {\n",
       "    console.log(\"Bokeh: ERROR: autoload.js configured with elementid '559c5000-556e-49a7-99b1-5882b772c54a' but no matching script tag was found. \")\n",
       "    return false;\n",
       "  }\n",
       "\n",
       "  var js_urls = [\"https://cdn.pydata.org/bokeh/release/bokeh-0.12.14.min.js\", \"https://cdn.pydata.org/bokeh/release/bokeh-widgets-0.12.14.min.js\", \"https://cdn.pydata.org/bokeh/release/bokeh-tables-0.12.14.min.js\", \"https://cdn.pydata.org/bokeh/release/bokeh-gl-0.12.14.min.js\"];\n",
       "\n",
       "  var inline_js = [\n",
       "    function(Bokeh) {\n",
       "      Bokeh.set_log_level(\"info\");\n",
       "    },\n",
       "    \n",
       "    function(Bokeh) {\n",
       "      \n",
       "    },\n",
       "    function(Bokeh) {\n",
       "      console.log(\"Bokeh: injecting CSS: https://cdn.pydata.org/bokeh/release/bokeh-0.12.14.min.css\");\n",
       "      Bokeh.embed.inject_css(\"https://cdn.pydata.org/bokeh/release/bokeh-0.12.14.min.css\");\n",
       "      console.log(\"Bokeh: injecting CSS: https://cdn.pydata.org/bokeh/release/bokeh-widgets-0.12.14.min.css\");\n",
       "      Bokeh.embed.inject_css(\"https://cdn.pydata.org/bokeh/release/bokeh-widgets-0.12.14.min.css\");\n",
       "      console.log(\"Bokeh: injecting CSS: https://cdn.pydata.org/bokeh/release/bokeh-tables-0.12.14.min.css\");\n",
       "      Bokeh.embed.inject_css(\"https://cdn.pydata.org/bokeh/release/bokeh-tables-0.12.14.min.css\");\n",
       "    }\n",
       "  ];\n",
       "\n",
       "  function run_inline_js() {\n",
       "    \n",
       "    if ((root.Bokeh !== undefined) || (force === true)) {\n",
       "      for (var i = 0; i < inline_js.length; i++) {\n",
       "        inline_js[i].call(root, root.Bokeh);\n",
       "      }if (force === true) {\n",
       "        display_loaded();\n",
       "      }} else if (Date.now() < root._bokeh_timeout) {\n",
       "      setTimeout(run_inline_js, 100);\n",
       "    } else if (!root._bokeh_failed_load) {\n",
       "      console.log(\"Bokeh: BokehJS failed to load within specified timeout.\");\n",
       "      root._bokeh_failed_load = true;\n",
       "    } else if (force !== true) {\n",
       "      var cell = $(document.getElementById(\"559c5000-556e-49a7-99b1-5882b772c54a\")).parents('.cell').data().cell;\n",
       "      cell.output_area.append_execute_result(NB_LOAD_WARNING)\n",
       "    }\n",
       "\n",
       "  }\n",
       "\n",
       "  if (root._bokeh_is_loading === 0) {\n",
       "    console.log(\"Bokeh: BokehJS loaded, going straight to plotting\");\n",
       "    run_inline_js();\n",
       "  } else {\n",
       "    load_libs(js_urls, function() {\n",
       "      console.log(\"Bokeh: BokehJS plotting callback run at\", now());\n",
       "      run_inline_js();\n",
       "    });\n",
       "  }\n",
       "}(window));"
      ],
      "application/vnd.bokehjs_load.v0+json": "\n(function(root) {\n  function now() {\n    return new Date();\n  }\n\n  var force = true;\n\n  if (typeof (root._bokeh_onload_callbacks) === \"undefined\" || force === true) {\n    root._bokeh_onload_callbacks = [];\n    root._bokeh_is_loading = undefined;\n  }\n\n  \n\n  \n  if (typeof (root._bokeh_timeout) === \"undefined\" || force === true) {\n    root._bokeh_timeout = Date.now() + 5000;\n    root._bokeh_failed_load = false;\n  }\n\n  var NB_LOAD_WARNING = {'data': {'text/html':\n     \"<div style='background-color: #fdd'>\\n\"+\n     \"<p>\\n\"+\n     \"BokehJS does not appear to have successfully loaded. If loading BokehJS from CDN, this \\n\"+\n     \"may be due to a slow or bad network connection. Possible fixes:\\n\"+\n     \"</p>\\n\"+\n     \"<ul>\\n\"+\n     \"<li>re-rerun `output_notebook()` to attempt to load from CDN again, or</li>\\n\"+\n     \"<li>use INLINE resources instead, as so:</li>\\n\"+\n     \"</ul>\\n\"+\n     \"<code>\\n\"+\n     \"from bokeh.resources import INLINE\\n\"+\n     \"output_notebook(resources=INLINE)\\n\"+\n     \"</code>\\n\"+\n     \"</div>\"}};\n\n  function display_loaded() {\n    var el = document.getElementById(\"559c5000-556e-49a7-99b1-5882b772c54a\");\n    if (el != null) {\n      el.textContent = \"BokehJS is loading...\";\n    }\n    if (root.Bokeh !== undefined) {\n      if (el != null) {\n        el.textContent = \"BokehJS \" + root.Bokeh.version + \" successfully loaded.\";\n      }\n    } else if (Date.now() < root._bokeh_timeout) {\n      setTimeout(display_loaded, 100)\n    }\n  }\n\n\n  function run_callbacks() {\n    try {\n      root._bokeh_onload_callbacks.forEach(function(callback) { callback() });\n    }\n    finally {\n      delete root._bokeh_onload_callbacks\n    }\n    console.info(\"Bokeh: all callbacks have finished\");\n  }\n\n  function load_libs(js_urls, callback) {\n    root._bokeh_onload_callbacks.push(callback);\n    if (root._bokeh_is_loading > 0) {\n      console.log(\"Bokeh: BokehJS is being loaded, scheduling callback at\", now());\n      return null;\n    }\n    if (js_urls == null || js_urls.length === 0) {\n      run_callbacks();\n      return null;\n    }\n    console.log(\"Bokeh: BokehJS not loaded, scheduling load and callback at\", now());\n    root._bokeh_is_loading = js_urls.length;\n    for (var i = 0; i < js_urls.length; i++) {\n      var url = js_urls[i];\n      var s = document.createElement('script');\n      s.src = url;\n      s.async = false;\n      s.onreadystatechange = s.onload = function() {\n        root._bokeh_is_loading--;\n        if (root._bokeh_is_loading === 0) {\n          console.log(\"Bokeh: all BokehJS libraries loaded\");\n          run_callbacks()\n        }\n      };\n      s.onerror = function() {\n        console.warn(\"failed to load library \" + url);\n      };\n      console.log(\"Bokeh: injecting script tag for BokehJS library: \", url);\n      document.getElementsByTagName(\"head\")[0].appendChild(s);\n    }\n  };var element = document.getElementById(\"559c5000-556e-49a7-99b1-5882b772c54a\");\n  if (element == null) {\n    console.log(\"Bokeh: ERROR: autoload.js configured with elementid '559c5000-556e-49a7-99b1-5882b772c54a' but no matching script tag was found. \")\n    return false;\n  }\n\n  var js_urls = [\"https://cdn.pydata.org/bokeh/release/bokeh-0.12.14.min.js\", \"https://cdn.pydata.org/bokeh/release/bokeh-widgets-0.12.14.min.js\", \"https://cdn.pydata.org/bokeh/release/bokeh-tables-0.12.14.min.js\", \"https://cdn.pydata.org/bokeh/release/bokeh-gl-0.12.14.min.js\"];\n\n  var inline_js = [\n    function(Bokeh) {\n      Bokeh.set_log_level(\"info\");\n    },\n    \n    function(Bokeh) {\n      \n    },\n    function(Bokeh) {\n      console.log(\"Bokeh: injecting CSS: https://cdn.pydata.org/bokeh/release/bokeh-0.12.14.min.css\");\n      Bokeh.embed.inject_css(\"https://cdn.pydata.org/bokeh/release/bokeh-0.12.14.min.css\");\n      console.log(\"Bokeh: injecting CSS: https://cdn.pydata.org/bokeh/release/bokeh-widgets-0.12.14.min.css\");\n      Bokeh.embed.inject_css(\"https://cdn.pydata.org/bokeh/release/bokeh-widgets-0.12.14.min.css\");\n      console.log(\"Bokeh: injecting CSS: https://cdn.pydata.org/bokeh/release/bokeh-tables-0.12.14.min.css\");\n      Bokeh.embed.inject_css(\"https://cdn.pydata.org/bokeh/release/bokeh-tables-0.12.14.min.css\");\n    }\n  ];\n\n  function run_inline_js() {\n    \n    if ((root.Bokeh !== undefined) || (force === true)) {\n      for (var i = 0; i < inline_js.length; i++) {\n        inline_js[i].call(root, root.Bokeh);\n      }if (force === true) {\n        display_loaded();\n      }} else if (Date.now() < root._bokeh_timeout) {\n      setTimeout(run_inline_js, 100);\n    } else if (!root._bokeh_failed_load) {\n      console.log(\"Bokeh: BokehJS failed to load within specified timeout.\");\n      root._bokeh_failed_load = true;\n    } else if (force !== true) {\n      var cell = $(document.getElementById(\"559c5000-556e-49a7-99b1-5882b772c54a\")).parents('.cell').data().cell;\n      cell.output_area.append_execute_result(NB_LOAD_WARNING)\n    }\n\n  }\n\n  if (root._bokeh_is_loading === 0) {\n    console.log(\"Bokeh: BokehJS loaded, going straight to plotting\");\n    run_inline_js();\n  } else {\n    load_libs(js_urls, function() {\n      console.log(\"Bokeh: BokehJS plotting callback run at\", now());\n      run_inline_js();\n    });\n  }\n}(window));"
     },
     "metadata": {},
     "output_type": "display_data"
    }
   ],
   "source": [
    "# Run the cell to display all the plots inline (in the notebook instead of exporting them)\n",
    "output_notebook()"
   ]
  },
  {
   "cell_type": "markdown",
   "metadata": {},
   "source": [
    "## Fundamentals"
   ]
  },
  {
   "cell_type": "markdown",
   "metadata": {},
   "source": [
    "It is important to understand the context of the following key terms that we will use in the tutorial:\n",
    " - Application: It is a running in browser Bokeh document.\n",
    " - Glyphs: These are the basic building blocks of a Bokeh plots. \n",
    " - Widgets: User interface elements that can enable the user to play with the graph by adding computations. "
   ]
  },
  {
   "cell_type": "markdown",
   "metadata": {},
   "source": [
    "## Steps and Basic Plots"
   ]
  },
  {
   "cell_type": "markdown",
   "metadata": {},
   "source": [
    "Let us take an example to learn the steps to overlay a plot by plotting multiple functions:\n",
    "\n",
    "    1) Set values of x and y axes for the functions to be plotted\n",
    "    2) Call the figure() to create a plot object by passing arguments which determin the labels, tools, title etc\n",
    "    3) Overlay the plot object using multiple renderers and customize it according to your need (colors, sizes, legends etc)\n",
    "    4) Call show() or save() by passing the plot object\n",
    "\n",
    "It is important to understand how the tools argument works in figure(). There are 4 basic and commonly used options: `Pan` enables the user to move the graph by clicking and dragging it. `Box_zoom` option enables the user to cut a graph to magnify the selected box. `Reset` will re-fetch the original graph. `Save` will save the modified graph to the local machine.\n"
   ]
  },
  {
   "cell_type": "code",
   "execution_count": 187,
   "metadata": {},
   "outputs": [
    {
     "data": {
      "text/html": [
       "<div style=\"display: table;\"><div style=\"display: table-row;\"><div style=\"display: table-cell;\"><b title=\"bokeh.models.renderers.GlyphRenderer\">GlyphRenderer</b>(</div><div style=\"display: table-cell;\">id&nbsp;=&nbsp;'62e3df56-e8ac-49ea-ba6f-7c8f0bb56036', <span id=\"51a5fcd5-799b-4146-81d1-f56e497d24b8\" style=\"cursor: pointer;\">&hellip;)</span></div></div><div class=\"e4e33381-b831-4958-9902-92fefa08a6f4\" style=\"display: none;\"><div style=\"display: table-cell;\"></div><div style=\"display: table-cell;\">data_source&nbsp;=&nbsp;ColumnDataSource(id='eb8d2ae5-2dd6-47ce-bc4f-f821b599a7de', ...),</div></div><div class=\"e4e33381-b831-4958-9902-92fefa08a6f4\" style=\"display: none;\"><div style=\"display: table-cell;\"></div><div style=\"display: table-cell;\">glyph&nbsp;=&nbsp;Line(id='3b33bfe7-3e5a-4b4e-8443-29735bdd031b', ...),</div></div><div class=\"e4e33381-b831-4958-9902-92fefa08a6f4\" style=\"display: none;\"><div style=\"display: table-cell;\"></div><div style=\"display: table-cell;\">hover_glyph&nbsp;=&nbsp;None,</div></div><div class=\"e4e33381-b831-4958-9902-92fefa08a6f4\" style=\"display: none;\"><div style=\"display: table-cell;\"></div><div style=\"display: table-cell;\">js_event_callbacks&nbsp;=&nbsp;{},</div></div><div class=\"e4e33381-b831-4958-9902-92fefa08a6f4\" style=\"display: none;\"><div style=\"display: table-cell;\"></div><div style=\"display: table-cell;\">js_property_callbacks&nbsp;=&nbsp;{},</div></div><div class=\"e4e33381-b831-4958-9902-92fefa08a6f4\" style=\"display: none;\"><div style=\"display: table-cell;\"></div><div style=\"display: table-cell;\">level&nbsp;=&nbsp;'glyph',</div></div><div class=\"e4e33381-b831-4958-9902-92fefa08a6f4\" style=\"display: none;\"><div style=\"display: table-cell;\"></div><div style=\"display: table-cell;\">muted&nbsp;=&nbsp;False,</div></div><div class=\"e4e33381-b831-4958-9902-92fefa08a6f4\" style=\"display: none;\"><div style=\"display: table-cell;\"></div><div style=\"display: table-cell;\">muted_glyph&nbsp;=&nbsp;None,</div></div><div class=\"e4e33381-b831-4958-9902-92fefa08a6f4\" style=\"display: none;\"><div style=\"display: table-cell;\"></div><div style=\"display: table-cell;\">name&nbsp;=&nbsp;None,</div></div><div class=\"e4e33381-b831-4958-9902-92fefa08a6f4\" style=\"display: none;\"><div style=\"display: table-cell;\"></div><div style=\"display: table-cell;\">nonselection_glyph&nbsp;=&nbsp;Line(id='39c196bd-a85a-481a-add8-9157ae610de2', ...),</div></div><div class=\"e4e33381-b831-4958-9902-92fefa08a6f4\" style=\"display: none;\"><div style=\"display: table-cell;\"></div><div style=\"display: table-cell;\">selection_glyph&nbsp;=&nbsp;None,</div></div><div class=\"e4e33381-b831-4958-9902-92fefa08a6f4\" style=\"display: none;\"><div style=\"display: table-cell;\"></div><div style=\"display: table-cell;\">subscribed_events&nbsp;=&nbsp;[],</div></div><div class=\"e4e33381-b831-4958-9902-92fefa08a6f4\" style=\"display: none;\"><div style=\"display: table-cell;\"></div><div style=\"display: table-cell;\">tags&nbsp;=&nbsp;[],</div></div><div class=\"e4e33381-b831-4958-9902-92fefa08a6f4\" style=\"display: none;\"><div style=\"display: table-cell;\"></div><div style=\"display: table-cell;\">view&nbsp;=&nbsp;CDSView(id='2ad4cf4a-691a-413a-a9f8-2320114e1cef', ...),</div></div><div class=\"e4e33381-b831-4958-9902-92fefa08a6f4\" style=\"display: none;\"><div style=\"display: table-cell;\"></div><div style=\"display: table-cell;\">visible&nbsp;=&nbsp;True,</div></div><div class=\"e4e33381-b831-4958-9902-92fefa08a6f4\" style=\"display: none;\"><div style=\"display: table-cell;\"></div><div style=\"display: table-cell;\">x_range_name&nbsp;=&nbsp;'default',</div></div><div class=\"e4e33381-b831-4958-9902-92fefa08a6f4\" style=\"display: none;\"><div style=\"display: table-cell;\"></div><div style=\"display: table-cell;\">y_range_name&nbsp;=&nbsp;'default')</div></div></div>\n",
       "<script>\n",
       "(function() {\n",
       "  var expanded = false;\n",
       "  var ellipsis = document.getElementById(\"51a5fcd5-799b-4146-81d1-f56e497d24b8\");\n",
       "  ellipsis.addEventListener(\"click\", function() {\n",
       "    var rows = document.getElementsByClassName(\"e4e33381-b831-4958-9902-92fefa08a6f4\");\n",
       "    for (var i = 0; i < rows.length; i++) {\n",
       "      var el = rows[i];\n",
       "      el.style.display = expanded ? \"none\" : \"table-row\";\n",
       "    }\n",
       "    ellipsis.innerHTML = expanded ? \"&hellip;)\" : \"&lsaquo;&lsaquo;&lsaquo;\";\n",
       "    expanded = !expanded;\n",
       "  });\n",
       "})();\n",
       "</script>\n"
      ],
      "text/plain": [
       "GlyphRenderer(id='62e3df56-e8ac-49ea-ba6f-7c8f0bb56036', ...)"
      ]
     },
     "execution_count": 187,
     "metadata": {},
     "output_type": "execute_result"
    }
   ],
   "source": [
    "# Initialize x values\n",
    "x = [0, 1, 2, 3, 4, 5, 6, 7]\n",
    "\n",
    "# Initialize different functions to overlay\n",
    "y0 = [i*2 for i in x]\n",
    "y1 = [i**2.5 for i in x]\n",
    "y2 = [2**i for i in x]\n",
    "y3 = [i**2 for i in x]\n",
    "y4 = []\n",
    "for i in x:\n",
    "    if i%2 == 0:\n",
    "        y4.append(10)\n",
    "    else:\n",
    "        y4.append(5)\n",
    "        \n",
    "# Create figure object and overlay with customizations (width, shape, color, etc.)\n",
    "p = figure(tools=\"pan,box_zoom,reset,save\", y_range=[0, 20], title=\"Overlay Plots Example\", x_axis_label='X', y_axis_label='Y')\n",
    "p.line(x, y0, legend=\"y=2x\")\n",
    "p.circle(x, y0, legend=\"y=2x\", size=9)\n",
    "p.line(x, x, legend=\"y=x\")\n",
    "p.circle(x, x, legend=\"y=x\", fill_color=\"white\", size=7)\n",
    "p.line(x, y1, legend=\"y=x^2.5\", line_width=3, line_color=\"red\")\n",
    "p.line(x, y2, legend=\"y=2^x\", line_color=\"green\")\n",
    "p.circle(x, y2, legend=\"y=2^x\", fill_color=\"green\", line_color=\"green\", size=7)\n",
    "p.line(x, y3, legend=\"y=x^2\", line_color=\"chocolate\", line_dash=\"5 5\", line_width = 3)\n",
    "p.line(x, y4, legend=\"y=10||20\", line_color = \"violet\", line_width = 2)"
   ]
  },
  {
   "cell_type": "code",
   "execution_count": 189,
   "metadata": {},
   "outputs": [
    {
     "data": {
      "text/html": [
       "\n",
       "<div class=\"bk-root\">\n",
       "    <div class=\"bk-plotdiv\" id=\"e35ec2f4-904c-48a8-a38a-99cf2a0eac8a\"></div>\n",
       "</div>"
      ]
     },
     "metadata": {},
     "output_type": "display_data"
    },
    {
     "data": {
      "application/javascript": [
       "(function(root) {\n",
       "  function embed_document(root) {\n",
       "    \n",
       "  var docs_json = {\"39214060-e8de-4ecb-ab6c-3ad619f9440d\":{\"roots\":{\"references\":[{\"attributes\":{\"fill_color\":{\"value\":\"green\"},\"line_color\":{\"value\":\"green\"},\"size\":{\"units\":\"screen\",\"value\":7},\"x\":{\"field\":\"x\"},\"y\":{\"field\":\"y\"}},\"id\":\"ad6c253b-f1b2-4703-864c-4cc100f898e2\",\"type\":\"Circle\"},{\"attributes\":{\"source\":{\"id\":\"38b1fe3f-51af-4cbd-905a-537b53a8efbf\",\"type\":\"ColumnDataSource\"}},\"id\":\"d8191785-50c9-444f-b0d4-4e780699f449\",\"type\":\"CDSView\"},{\"attributes\":{\"label\":{\"value\":\"y=x^2.5\"},\"renderers\":[{\"id\":\"78a58de1-9db8-44fd-96bb-73dcc754b18b\",\"type\":\"GlyphRenderer\"}]},\"id\":\"9e72f462-17df-4254-95c2-f838da9a14b5\",\"type\":\"LegendItem\"},{\"attributes\":{\"line_color\":\"green\",\"x\":{\"field\":\"x\"},\"y\":{\"field\":\"y\"}},\"id\":\"802ea7b4-2db0-4e52-90bf-952ba03aa63c\",\"type\":\"Line\"},{\"attributes\":{\"data_source\":{\"id\":\"53a67a1f-fc58-4d4d-a348-a13bc81be015\",\"type\":\"ColumnDataSource\"},\"glyph\":{\"id\":\"802ea7b4-2db0-4e52-90bf-952ba03aa63c\",\"type\":\"Line\"},\"hover_glyph\":null,\"muted_glyph\":null,\"nonselection_glyph\":{\"id\":\"de006ab0-6622-42e8-b798-1eb4a8238756\",\"type\":\"Line\"},\"selection_glyph\":null,\"view\":{\"id\":\"982c46df-6d48-4024-b01c-07d1e56fe128\",\"type\":\"CDSView\"}},\"id\":\"ad74adbb-37b0-4c43-b71c-b6ad0a234726\",\"type\":\"GlyphRenderer\"},{\"attributes\":{\"line_alpha\":0.1,\"line_color\":\"#1f77b4\",\"x\":{\"field\":\"x\"},\"y\":{\"field\":\"y\"}},\"id\":\"de006ab0-6622-42e8-b798-1eb4a8238756\",\"type\":\"Line\"},{\"attributes\":{\"callback\":null,\"column_names\":[\"x\",\"y\"],\"data\":{\"x\":[0,1,2,3,4,5,6,7],\"y\":[1,2,4,8,16,32,64,128]}},\"id\":\"16996b83-486c-49b4-abe9-303f11c5e592\",\"type\":\"ColumnDataSource\"},{\"attributes\":{\"callback\":null,\"column_names\":[\"x\",\"y\"],\"data\":{\"x\":[0,1,2,3,4,5,6,7],\"y\":[0,1,4,9,16,25,36,49]}},\"id\":\"e82f920b-7dce-4b9c-959b-76778a4544dd\",\"type\":\"ColumnDataSource\"},{\"attributes\":{\"label\":{\"value\":\"y=2^x\"},\"renderers\":[{\"id\":\"ad74adbb-37b0-4c43-b71c-b6ad0a234726\",\"type\":\"GlyphRenderer\"},{\"id\":\"f5715c7f-7c5b-4667-88bb-39206f519c2f\",\"type\":\"GlyphRenderer\"}]},\"id\":\"dd61519e-7b3a-40db-963b-7fa45025a1ae\",\"type\":\"LegendItem\"},{\"attributes\":{\"source\":{\"id\":\"53a67a1f-fc58-4d4d-a348-a13bc81be015\",\"type\":\"ColumnDataSource\"}},\"id\":\"982c46df-6d48-4024-b01c-07d1e56fe128\",\"type\":\"CDSView\"},{\"attributes\":{\"data_source\":{\"id\":\"16996b83-486c-49b4-abe9-303f11c5e592\",\"type\":\"ColumnDataSource\"},\"glyph\":{\"id\":\"ad6c253b-f1b2-4703-864c-4cc100f898e2\",\"type\":\"Circle\"},\"hover_glyph\":null,\"muted_glyph\":null,\"nonselection_glyph\":{\"id\":\"5c9f9420-e0ea-448d-aec8-fe789885a3ba\",\"type\":\"Circle\"},\"selection_glyph\":null,\"view\":{\"id\":\"1720d152-d145-4b78-a3f4-ffa848add31f\",\"type\":\"CDSView\"}},\"id\":\"f5715c7f-7c5b-4667-88bb-39206f519c2f\",\"type\":\"GlyphRenderer\"},{\"attributes\":{\"line_color\":\"chocolate\",\"line_dash\":[5,5],\"line_width\":3,\"x\":{\"field\":\"x\"},\"y\":{\"field\":\"y\"}},\"id\":\"a392ad1e-c2cc-432c-9bea-97832b022013\",\"type\":\"Line\"},{\"attributes\":{\"source\":{\"id\":\"16996b83-486c-49b4-abe9-303f11c5e592\",\"type\":\"ColumnDataSource\"}},\"id\":\"1720d152-d145-4b78-a3f4-ffa848add31f\",\"type\":\"CDSView\"},{\"attributes\":{\"fill_alpha\":{\"value\":0.1},\"fill_color\":{\"value\":\"#1f77b4\"},\"line_alpha\":{\"value\":0.1},\"line_color\":{\"value\":\"#1f77b4\"},\"size\":{\"units\":\"screen\",\"value\":7},\"x\":{\"field\":\"x\"},\"y\":{\"field\":\"y\"}},\"id\":\"5c9f9420-e0ea-448d-aec8-fe789885a3ba\",\"type\":\"Circle\"},{\"attributes\":{\"line_alpha\":0.1,\"line_color\":\"#1f77b4\",\"line_dash\":[5,5],\"line_width\":3,\"x\":{\"field\":\"x\"},\"y\":{\"field\":\"y\"}},\"id\":\"db9cea0f-9627-4cfc-8012-0cdae8cd7076\",\"type\":\"Line\"},{\"attributes\":{\"callback\":null,\"column_names\":[\"x\",\"y\"],\"data\":{\"x\":[0,1,2,3,4,5,6,7],\"y\":[10,5,10,5,10,5,10,5]}},\"id\":\"eb8d2ae5-2dd6-47ce-bc4f-f821b599a7de\",\"type\":\"ColumnDataSource\"},{\"attributes\":{\"source\":{\"id\":\"e82f920b-7dce-4b9c-959b-76778a4544dd\",\"type\":\"ColumnDataSource\"}},\"id\":\"daa36803-64ad-44bc-ae96-381e303facce\",\"type\":\"CDSView\"},{\"attributes\":{\"line_alpha\":0.1,\"line_color\":\"#1f77b4\",\"line_width\":2,\"x\":{\"field\":\"x\"},\"y\":{\"field\":\"y\"}},\"id\":\"39c196bd-a85a-481a-add8-9157ae610de2\",\"type\":\"Line\"},{\"attributes\":{\"label\":{\"value\":\"y=x^2\"},\"renderers\":[{\"id\":\"7a0f5ae8-8cef-4a91-b6da-f9efd6aaddab\",\"type\":\"GlyphRenderer\"}]},\"id\":\"234384ec-b40f-4171-a5e3-79e9550cf258\",\"type\":\"LegendItem\"},{\"attributes\":{\"data_source\":{\"id\":\"e82f920b-7dce-4b9c-959b-76778a4544dd\",\"type\":\"ColumnDataSource\"},\"glyph\":{\"id\":\"a392ad1e-c2cc-432c-9bea-97832b022013\",\"type\":\"Line\"},\"hover_glyph\":null,\"muted_glyph\":null,\"nonselection_glyph\":{\"id\":\"db9cea0f-9627-4cfc-8012-0cdae8cd7076\",\"type\":\"Line\"},\"selection_glyph\":null,\"view\":{\"id\":\"daa36803-64ad-44bc-ae96-381e303facce\",\"type\":\"CDSView\"}},\"id\":\"7a0f5ae8-8cef-4a91-b6da-f9efd6aaddab\",\"type\":\"GlyphRenderer\"},{\"attributes\":{\"source\":{\"id\":\"eb8d2ae5-2dd6-47ce-bc4f-f821b599a7de\",\"type\":\"ColumnDataSource\"}},\"id\":\"2ad4cf4a-691a-413a-a9f8-2320114e1cef\",\"type\":\"CDSView\"},{\"attributes\":{\"data_source\":{\"id\":\"eb8d2ae5-2dd6-47ce-bc4f-f821b599a7de\",\"type\":\"ColumnDataSource\"},\"glyph\":{\"id\":\"3b33bfe7-3e5a-4b4e-8443-29735bdd031b\",\"type\":\"Line\"},\"hover_glyph\":null,\"muted_glyph\":null,\"nonselection_glyph\":{\"id\":\"39c196bd-a85a-481a-add8-9157ae610de2\",\"type\":\"Line\"},\"selection_glyph\":null,\"view\":{\"id\":\"2ad4cf4a-691a-413a-a9f8-2320114e1cef\",\"type\":\"CDSView\"}},\"id\":\"62e3df56-e8ac-49ea-ba6f-7c8f0bb56036\",\"type\":\"GlyphRenderer\"},{\"attributes\":{\"line_color\":\"violet\",\"line_width\":2,\"x\":{\"field\":\"x\"},\"y\":{\"field\":\"y\"}},\"id\":\"3b33bfe7-3e5a-4b4e-8443-29735bdd031b\",\"type\":\"Line\"},{\"attributes\":{},\"id\":\"b617775a-1b0c-4ad3-9595-530998b2d3e8\",\"type\":\"LinearScale\"},{\"attributes\":{\"label\":{\"value\":\"y=10||20\"},\"renderers\":[{\"id\":\"62e3df56-e8ac-49ea-ba6f-7c8f0bb56036\",\"type\":\"GlyphRenderer\"}]},\"id\":\"f2e4db94-b800-498e-bec7-53d9764a1286\",\"type\":\"LegendItem\"},{\"attributes\":{\"callback\":null,\"column_names\":[\"x\",\"y\"],\"data\":{\"x\":[0,1,2,3,4,5,6,7],\"y\":[0,2,4,6,8,10,12,14]}},\"id\":\"294e3c0f-8ef9-4e99-9b15-1ee62d59f3ad\",\"type\":\"ColumnDataSource\"},{\"attributes\":{\"line_color\":\"#1f77b4\",\"x\":{\"field\":\"x\"},\"y\":{\"field\":\"y\"}},\"id\":\"aad54859-a1a0-4141-b482-c171f2348d7d\",\"type\":\"Line\"},{\"attributes\":{\"callback\":null},\"id\":\"55ddea9f-e493-4bf5-852c-076b918352a9\",\"type\":\"DataRange1d\"},{\"attributes\":{\"active_drag\":\"auto\",\"active_inspect\":\"auto\",\"active_scroll\":\"auto\",\"active_tap\":\"auto\",\"tools\":[{\"id\":\"1ff4c201-2912-4845-8456-eccb8be5e76f\",\"type\":\"PanTool\"},{\"id\":\"012f8b09-04fc-44ff-9b41-3ba4d3afb48f\",\"type\":\"BoxZoomTool\"},{\"id\":\"9b4fc985-ac45-462a-aca7-21a77a692cab\",\"type\":\"ResetTool\"},{\"id\":\"0d00650f-921d-4ca3-b8ea-d93cbf9163c0\",\"type\":\"SaveTool\"}]},\"id\":\"2d63c9e7-243b-4ec1-bfb8-f98bb0a6c0b4\",\"type\":\"Toolbar\"},{\"attributes\":{\"below\":[{\"id\":\"adc0655a-c262-475a-b9d9-7ad203b195ab\",\"type\":\"LinearAxis\"}],\"left\":[{\"id\":\"9ad61663-c732-4652-89d1-f6de5f39caac\",\"type\":\"LinearAxis\"}],\"renderers\":[{\"id\":\"adc0655a-c262-475a-b9d9-7ad203b195ab\",\"type\":\"LinearAxis\"},{\"id\":\"e8f84d90-ed04-4d69-8f22-f6e60c80e311\",\"type\":\"Grid\"},{\"id\":\"9ad61663-c732-4652-89d1-f6de5f39caac\",\"type\":\"LinearAxis\"},{\"id\":\"b4f02ba0-745d-4adb-9a86-dd690347b720\",\"type\":\"Grid\"},{\"id\":\"dd7ec814-0803-47be-bbe2-68ffba1f5109\",\"type\":\"BoxAnnotation\"},{\"id\":\"59311b1d-8cf3-478c-b3e7-21ab4cb74cfe\",\"type\":\"Legend\"},{\"id\":\"031ed62a-a7b5-4e32-910f-8d004c572fe7\",\"type\":\"GlyphRenderer\"},{\"id\":\"215ebf7f-81a8-472f-9ab9-ee903979452f\",\"type\":\"GlyphRenderer\"},{\"id\":\"68f57708-4559-4cfe-959e-3e87177fb1d4\",\"type\":\"GlyphRenderer\"},{\"id\":\"2a8b930b-8075-4c5d-8918-2356e4c108c2\",\"type\":\"GlyphRenderer\"},{\"id\":\"78a58de1-9db8-44fd-96bb-73dcc754b18b\",\"type\":\"GlyphRenderer\"},{\"id\":\"ad74adbb-37b0-4c43-b71c-b6ad0a234726\",\"type\":\"GlyphRenderer\"},{\"id\":\"f5715c7f-7c5b-4667-88bb-39206f519c2f\",\"type\":\"GlyphRenderer\"},{\"id\":\"7a0f5ae8-8cef-4a91-b6da-f9efd6aaddab\",\"type\":\"GlyphRenderer\"},{\"id\":\"62e3df56-e8ac-49ea-ba6f-7c8f0bb56036\",\"type\":\"GlyphRenderer\"}],\"title\":{\"id\":\"22a6ed1f-4879-4809-a141-87eccb01200b\",\"type\":\"Title\"},\"toolbar\":{\"id\":\"2d63c9e7-243b-4ec1-bfb8-f98bb0a6c0b4\",\"type\":\"Toolbar\"},\"x_range\":{\"id\":\"55ddea9f-e493-4bf5-852c-076b918352a9\",\"type\":\"DataRange1d\"},\"x_scale\":{\"id\":\"b617775a-1b0c-4ad3-9595-530998b2d3e8\",\"type\":\"LinearScale\"},\"y_range\":{\"id\":\"0156a30f-edb6-41b9-bcae-1aad19396189\",\"type\":\"Range1d\"},\"y_scale\":{\"id\":\"098ef786-72d0-4d74-b02a-67aa004c128d\",\"type\":\"LinearScale\"}},\"id\":\"a0ce2c23-af59-4e6d-87ef-62c4a4049313\",\"subtype\":\"Figure\",\"type\":\"Plot\"},{\"attributes\":{\"plot\":null,\"text\":\"Overlay Plots Example\"},\"id\":\"22a6ed1f-4879-4809-a141-87eccb01200b\",\"type\":\"Title\"},{\"attributes\":{\"fill_color\":{\"value\":\"#1f77b4\"},\"line_color\":{\"value\":\"#1f77b4\"},\"size\":{\"units\":\"screen\",\"value\":9},\"x\":{\"field\":\"x\"},\"y\":{\"field\":\"y\"}},\"id\":\"6c84577f-66e9-4383-9615-5e614747053e\",\"type\":\"Circle\"},{\"attributes\":{\"callback\":null,\"end\":20},\"id\":\"0156a30f-edb6-41b9-bcae-1aad19396189\",\"type\":\"Range1d\"},{\"attributes\":{\"label\":{\"value\":\"y=2x\"},\"renderers\":[{\"id\":\"031ed62a-a7b5-4e32-910f-8d004c572fe7\",\"type\":\"GlyphRenderer\"},{\"id\":\"215ebf7f-81a8-472f-9ab9-ee903979452f\",\"type\":\"GlyphRenderer\"}]},\"id\":\"54ab164a-facb-4ef3-bd5f-7bb674fbf1db\",\"type\":\"LegendItem\"},{\"attributes\":{\"callback\":null,\"column_names\":[\"x\",\"y\"],\"data\":{\"x\":[0,1,2,3,4,5,6,7],\"y\":[0,2,4,6,8,10,12,14]}},\"id\":\"7c1dacd5-0e39-4bdb-9ac9-115d0e28565f\",\"type\":\"ColumnDataSource\"},{\"attributes\":{},\"id\":\"098ef786-72d0-4d74-b02a-67aa004c128d\",\"type\":\"LinearScale\"},{\"attributes\":{\"plot\":{\"id\":\"a0ce2c23-af59-4e6d-87ef-62c4a4049313\",\"subtype\":\"Figure\",\"type\":\"Plot\"},\"ticker\":{\"id\":\"7e9a9526-4a58-4499-a437-b8f76a3ee981\",\"type\":\"BasicTicker\"}},\"id\":\"e8f84d90-ed04-4d69-8f22-f6e60c80e311\",\"type\":\"Grid\"},{\"attributes\":{\"axis_label\":\"X\",\"formatter\":{\"id\":\"509f3a56-c51f-4004-9355-170e66c40d99\",\"type\":\"BasicTickFormatter\"},\"plot\":{\"id\":\"a0ce2c23-af59-4e6d-87ef-62c4a4049313\",\"subtype\":\"Figure\",\"type\":\"Plot\"},\"ticker\":{\"id\":\"7e9a9526-4a58-4499-a437-b8f76a3ee981\",\"type\":\"BasicTicker\"}},\"id\":\"adc0655a-c262-475a-b9d9-7ad203b195ab\",\"type\":\"LinearAxis\"},{\"attributes\":{},\"id\":\"7e9a9526-4a58-4499-a437-b8f76a3ee981\",\"type\":\"BasicTicker\"},{\"attributes\":{\"axis_label\":\"Y\",\"formatter\":{\"id\":\"0612e09a-2a0c-4d4f-a8a0-3f88ad9ecd43\",\"type\":\"BasicTickFormatter\"},\"plot\":{\"id\":\"a0ce2c23-af59-4e6d-87ef-62c4a4049313\",\"subtype\":\"Figure\",\"type\":\"Plot\"},\"ticker\":{\"id\":\"f4841b4e-eae6-41bd-a551-3a5c48db6d02\",\"type\":\"BasicTicker\"}},\"id\":\"9ad61663-c732-4652-89d1-f6de5f39caac\",\"type\":\"LinearAxis\"},{\"attributes\":{},\"id\":\"f4841b4e-eae6-41bd-a551-3a5c48db6d02\",\"type\":\"BasicTicker\"},{\"attributes\":{\"dimension\":1,\"plot\":{\"id\":\"a0ce2c23-af59-4e6d-87ef-62c4a4049313\",\"subtype\":\"Figure\",\"type\":\"Plot\"},\"ticker\":{\"id\":\"f4841b4e-eae6-41bd-a551-3a5c48db6d02\",\"type\":\"BasicTicker\"}},\"id\":\"b4f02ba0-745d-4adb-9a86-dd690347b720\",\"type\":\"Grid\"},{\"attributes\":{},\"id\":\"0612e09a-2a0c-4d4f-a8a0-3f88ad9ecd43\",\"type\":\"BasicTickFormatter\"},{\"attributes\":{\"callback\":null,\"column_names\":[\"x\",\"y\"],\"data\":{\"x\":[0,1,2,3,4,5,6,7],\"y\":[0,1,2,3,4,5,6,7]}},\"id\":\"1e972224-3612-44c3-9a10-4cef9db29fd0\",\"type\":\"ColumnDataSource\"},{\"attributes\":{\"data_source\":{\"id\":\"7c1dacd5-0e39-4bdb-9ac9-115d0e28565f\",\"type\":\"ColumnDataSource\"},\"glyph\":{\"id\":\"6c84577f-66e9-4383-9615-5e614747053e\",\"type\":\"Circle\"},\"hover_glyph\":null,\"muted_glyph\":null,\"nonselection_glyph\":{\"id\":\"ae629a90-3ce0-4893-b9bb-d940b2d9669a\",\"type\":\"Circle\"},\"selection_glyph\":null,\"view\":{\"id\":\"a3ac27e2-c1f4-4192-a9c1-791ac7a636e9\",\"type\":\"CDSView\"}},\"id\":\"215ebf7f-81a8-472f-9ab9-ee903979452f\",\"type\":\"GlyphRenderer\"},{\"attributes\":{},\"id\":\"1ff4c201-2912-4845-8456-eccb8be5e76f\",\"type\":\"PanTool\"},{\"attributes\":{\"source\":{\"id\":\"294e3c0f-8ef9-4e99-9b15-1ee62d59f3ad\",\"type\":\"ColumnDataSource\"}},\"id\":\"ba392645-cf22-4980-8b24-d1a3903435ed\",\"type\":\"CDSView\"},{\"attributes\":{\"overlay\":{\"id\":\"dd7ec814-0803-47be-bbe2-68ffba1f5109\",\"type\":\"BoxAnnotation\"}},\"id\":\"012f8b09-04fc-44ff-9b41-3ba4d3afb48f\",\"type\":\"BoxZoomTool\"},{\"attributes\":{},\"id\":\"9b4fc985-ac45-462a-aca7-21a77a692cab\",\"type\":\"ResetTool\"},{\"attributes\":{},\"id\":\"0d00650f-921d-4ca3-b8ea-d93cbf9163c0\",\"type\":\"SaveTool\"},{\"attributes\":{\"bottom_units\":\"screen\",\"fill_alpha\":{\"value\":0.5},\"fill_color\":{\"value\":\"lightgrey\"},\"left_units\":\"screen\",\"level\":\"overlay\",\"line_alpha\":{\"value\":1.0},\"line_color\":{\"value\":\"black\"},\"line_dash\":[4,4],\"line_width\":{\"value\":2},\"plot\":null,\"render_mode\":\"css\",\"right_units\":\"screen\",\"top_units\":\"screen\"},\"id\":\"dd7ec814-0803-47be-bbe2-68ffba1f5109\",\"type\":\"BoxAnnotation\"},{\"attributes\":{\"line_alpha\":0.1,\"line_color\":\"#1f77b4\",\"x\":{\"field\":\"x\"},\"y\":{\"field\":\"y\"}},\"id\":\"560ccba2-bbd5-425a-be45-aa7a69f4f0b9\",\"type\":\"Line\"},{\"attributes\":{\"data_source\":{\"id\":\"294e3c0f-8ef9-4e99-9b15-1ee62d59f3ad\",\"type\":\"ColumnDataSource\"},\"glyph\":{\"id\":\"aad54859-a1a0-4141-b482-c171f2348d7d\",\"type\":\"Line\"},\"hover_glyph\":null,\"muted_glyph\":null,\"nonselection_glyph\":{\"id\":\"560ccba2-bbd5-425a-be45-aa7a69f4f0b9\",\"type\":\"Line\"},\"selection_glyph\":null,\"view\":{\"id\":\"ba392645-cf22-4980-8b24-d1a3903435ed\",\"type\":\"CDSView\"}},\"id\":\"031ed62a-a7b5-4e32-910f-8d004c572fe7\",\"type\":\"GlyphRenderer\"},{\"attributes\":{},\"id\":\"509f3a56-c51f-4004-9355-170e66c40d99\",\"type\":\"BasicTickFormatter\"},{\"attributes\":{\"data_source\":{\"id\":\"38b1fe3f-51af-4cbd-905a-537b53a8efbf\",\"type\":\"ColumnDataSource\"},\"glyph\":{\"id\":\"2c2bb974-767e-45a9-a658-a53aff5ca124\",\"type\":\"Line\"},\"hover_glyph\":null,\"muted_glyph\":null,\"nonselection_glyph\":{\"id\":\"f0cd8d66-300e-455f-a87e-cd575aa589fc\",\"type\":\"Line\"},\"selection_glyph\":null,\"view\":{\"id\":\"d8191785-50c9-444f-b0d4-4e780699f449\",\"type\":\"CDSView\"}},\"id\":\"78a58de1-9db8-44fd-96bb-73dcc754b18b\",\"type\":\"GlyphRenderer\"},{\"attributes\":{\"callback\":null,\"column_names\":[\"x\",\"y\"],\"data\":{\"x\":[0,1,2,3,4,5,6,7],\"y\":[0,1,2,3,4,5,6,7]}},\"id\":\"e1868424-f02f-4aa4-b694-62d70c1c7347\",\"type\":\"ColumnDataSource\"},{\"attributes\":{\"line_alpha\":0.1,\"line_color\":\"#1f77b4\",\"x\":{\"field\":\"x\"},\"y\":{\"field\":\"y\"}},\"id\":\"5acfa9d9-10f6-4e19-ab7c-2b6c4c1b47dc\",\"type\":\"Line\"},{\"attributes\":{\"fill_alpha\":{\"value\":0.1},\"fill_color\":{\"value\":\"#1f77b4\"},\"line_alpha\":{\"value\":0.1},\"line_color\":{\"value\":\"#1f77b4\"},\"size\":{\"units\":\"screen\",\"value\":9},\"x\":{\"field\":\"x\"},\"y\":{\"field\":\"y\"}},\"id\":\"ae629a90-3ce0-4893-b9bb-d940b2d9669a\",\"type\":\"Circle\"},{\"attributes\":{\"fill_color\":{\"value\":\"white\"},\"line_color\":{\"value\":\"#1f77b4\"},\"size\":{\"units\":\"screen\",\"value\":7},\"x\":{\"field\":\"x\"},\"y\":{\"field\":\"y\"}},\"id\":\"4156010a-4164-403b-af74-62fc8320d4ff\",\"type\":\"Circle\"},{\"attributes\":{\"source\":{\"id\":\"7c1dacd5-0e39-4bdb-9ac9-115d0e28565f\",\"type\":\"ColumnDataSource\"}},\"id\":\"a3ac27e2-c1f4-4192-a9c1-791ac7a636e9\",\"type\":\"CDSView\"},{\"attributes\":{\"line_color\":\"#1f77b4\",\"x\":{\"field\":\"x\"},\"y\":{\"field\":\"y\"}},\"id\":\"d4d2e1f3-f829-46fb-b2a6-c966c91dc3be\",\"type\":\"Line\"},{\"attributes\":{\"callback\":null,\"column_names\":[\"x\",\"y\"],\"data\":{\"x\":[0,1,2,3,4,5,6,7],\"y\":[0.0,1.0,5.656854249492381,15.588457268119896,32.0,55.90169943749474,88.18163074019441,129.64181424216494]}},\"id\":\"38b1fe3f-51af-4cbd-905a-537b53a8efbf\",\"type\":\"ColumnDataSource\"},{\"attributes\":{\"source\":{\"id\":\"e1868424-f02f-4aa4-b694-62d70c1c7347\",\"type\":\"ColumnDataSource\"}},\"id\":\"d7c5cd59-bcfb-408b-acc7-484c6a404581\",\"type\":\"CDSView\"},{\"attributes\":{\"data_source\":{\"id\":\"1e972224-3612-44c3-9a10-4cef9db29fd0\",\"type\":\"ColumnDataSource\"},\"glyph\":{\"id\":\"4156010a-4164-403b-af74-62fc8320d4ff\",\"type\":\"Circle\"},\"hover_glyph\":null,\"muted_glyph\":null,\"nonselection_glyph\":{\"id\":\"129293a3-76e8-421a-956c-7bf08b490fe4\",\"type\":\"Circle\"},\"selection_glyph\":null,\"view\":{\"id\":\"4e9d8a19-e4c5-450e-bc49-6c1fc8afd086\",\"type\":\"CDSView\"}},\"id\":\"2a8b930b-8075-4c5d-8918-2356e4c108c2\",\"type\":\"GlyphRenderer\"},{\"attributes\":{\"label\":{\"value\":\"y=x\"},\"renderers\":[{\"id\":\"68f57708-4559-4cfe-959e-3e87177fb1d4\",\"type\":\"GlyphRenderer\"},{\"id\":\"2a8b930b-8075-4c5d-8918-2356e4c108c2\",\"type\":\"GlyphRenderer\"}]},\"id\":\"21a9a050-91dd-4b00-994e-e77bc2601332\",\"type\":\"LegendItem\"},{\"attributes\":{\"data_source\":{\"id\":\"e1868424-f02f-4aa4-b694-62d70c1c7347\",\"type\":\"ColumnDataSource\"},\"glyph\":{\"id\":\"d4d2e1f3-f829-46fb-b2a6-c966c91dc3be\",\"type\":\"Line\"},\"hover_glyph\":null,\"muted_glyph\":null,\"nonselection_glyph\":{\"id\":\"5acfa9d9-10f6-4e19-ab7c-2b6c4c1b47dc\",\"type\":\"Line\"},\"selection_glyph\":null,\"view\":{\"id\":\"d7c5cd59-bcfb-408b-acc7-484c6a404581\",\"type\":\"CDSView\"}},\"id\":\"68f57708-4559-4cfe-959e-3e87177fb1d4\",\"type\":\"GlyphRenderer\"},{\"attributes\":{\"line_alpha\":0.1,\"line_color\":\"#1f77b4\",\"line_width\":3,\"x\":{\"field\":\"x\"},\"y\":{\"field\":\"y\"}},\"id\":\"f0cd8d66-300e-455f-a87e-cd575aa589fc\",\"type\":\"Line\"},{\"attributes\":{\"source\":{\"id\":\"1e972224-3612-44c3-9a10-4cef9db29fd0\",\"type\":\"ColumnDataSource\"}},\"id\":\"4e9d8a19-e4c5-450e-bc49-6c1fc8afd086\",\"type\":\"CDSView\"},{\"attributes\":{\"items\":[{\"id\":\"54ab164a-facb-4ef3-bd5f-7bb674fbf1db\",\"type\":\"LegendItem\"},{\"id\":\"21a9a050-91dd-4b00-994e-e77bc2601332\",\"type\":\"LegendItem\"},{\"id\":\"9e72f462-17df-4254-95c2-f838da9a14b5\",\"type\":\"LegendItem\"},{\"id\":\"dd61519e-7b3a-40db-963b-7fa45025a1ae\",\"type\":\"LegendItem\"},{\"id\":\"234384ec-b40f-4171-a5e3-79e9550cf258\",\"type\":\"LegendItem\"},{\"id\":\"f2e4db94-b800-498e-bec7-53d9764a1286\",\"type\":\"LegendItem\"}],\"plot\":{\"id\":\"a0ce2c23-af59-4e6d-87ef-62c4a4049313\",\"subtype\":\"Figure\",\"type\":\"Plot\"}},\"id\":\"59311b1d-8cf3-478c-b3e7-21ab4cb74cfe\",\"type\":\"Legend\"},{\"attributes\":{\"fill_alpha\":{\"value\":0.1},\"fill_color\":{\"value\":\"#1f77b4\"},\"line_alpha\":{\"value\":0.1},\"line_color\":{\"value\":\"#1f77b4\"},\"size\":{\"units\":\"screen\",\"value\":7},\"x\":{\"field\":\"x\"},\"y\":{\"field\":\"y\"}},\"id\":\"129293a3-76e8-421a-956c-7bf08b490fe4\",\"type\":\"Circle\"},{\"attributes\":{\"line_color\":\"red\",\"line_width\":3,\"x\":{\"field\":\"x\"},\"y\":{\"field\":\"y\"}},\"id\":\"2c2bb974-767e-45a9-a658-a53aff5ca124\",\"type\":\"Line\"},{\"attributes\":{\"callback\":null,\"column_names\":[\"x\",\"y\"],\"data\":{\"x\":[0,1,2,3,4,5,6,7],\"y\":[1,2,4,8,16,32,64,128]}},\"id\":\"53a67a1f-fc58-4d4d-a348-a13bc81be015\",\"type\":\"ColumnDataSource\"}],\"root_ids\":[\"a0ce2c23-af59-4e6d-87ef-62c4a4049313\"]},\"title\":\"Bokeh Application\",\"version\":\"0.12.14\"}};\n",
       "  var render_items = [{\"docid\":\"39214060-e8de-4ecb-ab6c-3ad619f9440d\",\"elementid\":\"e35ec2f4-904c-48a8-a38a-99cf2a0eac8a\",\"modelid\":\"a0ce2c23-af59-4e6d-87ef-62c4a4049313\"}];\n",
       "  root.Bokeh.embed.embed_items_notebook(docs_json, render_items);\n",
       "\n",
       "  }\n",
       "  if (root.Bokeh !== undefined) {\n",
       "    embed_document(root);\n",
       "  } else {\n",
       "    var attempts = 0;\n",
       "    var timer = setInterval(function(root) {\n",
       "      if (root.Bokeh !== undefined) {\n",
       "        embed_document(root);\n",
       "        clearInterval(timer);\n",
       "      }\n",
       "      attempts++;\n",
       "      if (attempts > 100) {\n",
       "        console.log(\"Bokeh: ERROR: Unable to run BokehJS code because BokehJS library is missing\")\n",
       "        clearInterval(timer);\n",
       "      }\n",
       "    }, 10, root)\n",
       "  }\n",
       "})(window);"
      ],
      "application/vnd.bokehjs_exec.v0+json": ""
     },
     "metadata": {
      "application/vnd.bokehjs_exec.v0+json": {
       "id": "a0ce2c23-af59-4e6d-87ef-62c4a4049313"
      }
     },
     "output_type": "display_data"
    }
   ],
   "source": [
    "# Display the Bokeh plot\n",
    "show(p)\n",
    "# Play around with the tool options to see how it works"
   ]
  },
  {
   "cell_type": "markdown",
   "metadata": {},
   "source": [
    "## Categorical Data Plots"
   ]
  },
  {
   "cell_type": "markdown",
   "metadata": {},
   "source": [
    "Let us now take a look at how to plot when the data is in a categorical format. The most common forms of plots with these kind of data are bars, intervals, scatters and heatmaps. In Bar charts, there are hbar() and vbar() glyph methods to decide the orientation of the bar. Another type is to have nested categories where a particular category has multiple levels in it, Bokeh allows us to group these levels. Another desirable technnique is to stack bars on top of eachother to see how varying composition of a bar.\n",
    "\n",
    "We shall take a basic example to learn how to plot categorical data by plotting multiple categorical graphs of our own data:"
   ]
  },
  {
   "cell_type": "code",
   "execution_count": 190,
   "metadata": {
    "scrolled": true
   },
   "outputs": [
    {
     "data": {
      "text/html": [
       "\n",
       "<div class=\"bk-root\">\n",
       "    <div class=\"bk-plotdiv\" id=\"f9b7e7b1-ae62-47a3-b521-1b5ea9ab2b8b\"></div>\n",
       "</div>"
      ]
     },
     "metadata": {},
     "output_type": "display_data"
    },
    {
     "data": {
      "application/javascript": [
       "(function(root) {\n",
       "  function embed_document(root) {\n",
       "    \n",
       "  var docs_json = {\"5ad42823-ed31-40b2-8e52-7dca38227a6f\":{\"roots\":{\"references\":[{\"attributes\":{\"grid_line_color\":{\"value\":null},\"plot\":{\"id\":\"aa62baf8-929d-47a5-8999-4285cf6325d5\",\"subtype\":\"Figure\",\"type\":\"Plot\"},\"ticker\":{\"id\":\"16a7aeeb-755d-4009-a38e-8bf958cfa4bb\",\"type\":\"CategoricalTicker\"}},\"id\":\"09e29cab-79e7-4301-9b74-b24afe0af460\",\"type\":\"Grid\"},{\"attributes\":{},\"id\":\"50934197-f12c-4721-a242-1ccfa28a511a\",\"type\":\"BasicTickFormatter\"},{\"attributes\":{\"callback\":null,\"column_names\":[\"social_media\",\"2014\",\"2015\",\"2016\",\"2017\",\"2018\"],\"data\":{\"2014\":[60,30,10,20,20],\"2015\":[60,30,40,50,20],\"2016\":[70,40,50,60,60],\"2017\":[75,40,70,70,70],\"2018\":[40,60,80,80,90],\"social_media\":[\"Facebook\",\"LinkedIn\",\"Snapchat\",\"Instagram\",\"Reddit\"]}},\"id\":\"df5cf80b-0664-445e-8566-b32cbf1ded60\",\"type\":\"ColumnDataSource\"},{\"attributes\":{\"below\":[{\"id\":\"3b13ea1c-a621-4614-beff-4c20107c9cae\",\"type\":\"CategoricalAxis\"}],\"left\":[{\"id\":\"a2b2e8a1-0a95-447e-ba2a-427cb3a66a40\",\"type\":\"LinearAxis\"}],\"plot_height\":300,\"renderers\":[{\"id\":\"3b13ea1c-a621-4614-beff-4c20107c9cae\",\"type\":\"CategoricalAxis\"},{\"id\":\"09e29cab-79e7-4301-9b74-b24afe0af460\",\"type\":\"Grid\"},{\"id\":\"a2b2e8a1-0a95-447e-ba2a-427cb3a66a40\",\"type\":\"LinearAxis\"},{\"id\":\"55356a8f-0462-434e-8de9-68cd4ee361bd\",\"type\":\"Grid\"},{\"id\":\"2d0831c1-31c2-4842-86fa-eaae87bda22c\",\"type\":\"BoxAnnotation\"},{\"id\":\"89015dc4-74c4-4a00-9a47-bad4272415f5\",\"type\":\"Legend\"},{\"id\":\"2fd8bb69-3ca7-4ce1-bd08-df2e9de9288f\",\"type\":\"GlyphRenderer\"},{\"id\":\"c8e710f2-2fa3-400e-9cb2-59700d5ed331\",\"type\":\"GlyphRenderer\"},{\"id\":\"53eb600f-c708-4785-9bbf-b945f14d43f2\",\"type\":\"GlyphRenderer\"},{\"id\":\"28a8d3b7-68e6-43b4-88b4-3ed92ec6fd31\",\"type\":\"GlyphRenderer\"},{\"id\":\"9cf81e8d-2915-47e8-a71f-bf5b04bc29a7\",\"type\":\"GlyphRenderer\"}],\"title\":{\"id\":\"307c95bd-288a-47d2-a1d5-16eb6e98c181\",\"type\":\"Title\"},\"toolbar\":{\"id\":\"c50d4c89-4989-4260-8907-d5077a11c397\",\"type\":\"Toolbar\"},\"x_range\":{\"id\":\"79a69ade-f051-447c-9c9a-9fb185827a96\",\"type\":\"FactorRange\"},\"x_scale\":{\"id\":\"80f11b4d-bb85-4373-b1e5-2fb72da5a62c\",\"type\":\"CategoricalScale\"},\"y_range\":{\"id\":\"f3335439-ae9a-4722-8940-596df81af3d8\",\"type\":\"Range1d\"},\"y_scale\":{\"id\":\"dc2d021f-3c77-443a-a342-5e2c2f464ee2\",\"type\":\"LinearScale\"}},\"id\":\"aa62baf8-929d-47a5-8999-4285cf6325d5\",\"subtype\":\"Figure\",\"type\":\"Plot\"},{\"attributes\":{\"label\":{\"value\":\"2014\"},\"renderers\":[{\"id\":\"2fd8bb69-3ca7-4ce1-bd08-df2e9de9288f\",\"type\":\"GlyphRenderer\"}]},\"id\":\"2d431880-451c-4eae-a627-2187c0a2bd95\",\"type\":\"LegendItem\"},{\"attributes\":{\"range\":{\"id\":\"79a69ade-f051-447c-9c9a-9fb185827a96\",\"type\":\"FactorRange\"},\"value\":-0.3},\"id\":\"2680c664-6d40-423f-9168-e6643e326e03\",\"type\":\"Dodge\"},{\"attributes\":{\"fill_alpha\":{\"value\":0.1},\"fill_color\":{\"value\":\"#1f77b4\"},\"line_alpha\":{\"value\":0.1},\"line_color\":{\"value\":\"#1f77b4\"},\"top\":{\"field\":\"2014\"},\"width\":{\"value\":0.125},\"x\":{\"field\":\"social_media\",\"transform\":{\"id\":\"2680c664-6d40-423f-9168-e6643e326e03\",\"type\":\"Dodge\"}}},\"id\":\"74ef2ed5-85fe-4c60-827d-6fe53ff2a8fe\",\"type\":\"VBar\"},{\"attributes\":{\"plot\":null,\"text\":\"Social Media Analysis: Avg minutes spent by a user/day over years\"},\"id\":\"307c95bd-288a-47d2-a1d5-16eb6e98c181\",\"type\":\"Title\"},{\"attributes\":{\"callback\":null,\"factors\":[\"Facebook\",\"LinkedIn\",\"Snapchat\",\"Instagram\",\"Reddit\"],\"range_padding\":0.1},\"id\":\"79a69ade-f051-447c-9c9a-9fb185827a96\",\"type\":\"FactorRange\"},{\"attributes\":{\"active_drag\":\"auto\",\"active_inspect\":\"auto\",\"active_scroll\":\"auto\",\"active_tap\":\"auto\",\"tools\":[{\"id\":\"9190fca4-7541-4704-b898-a42bf0aa43c8\",\"type\":\"PanTool\"},{\"id\":\"83b61213-4dbd-4df0-ad16-c8d5ec787296\",\"type\":\"BoxZoomTool\"},{\"id\":\"1b7e88f0-bfbe-4256-b7e8-84f9def4fcd9\",\"type\":\"ResetTool\"},{\"id\":\"4881b45a-5087-41ff-b727-7984a14c8479\",\"type\":\"SaveTool\"}]},\"id\":\"c50d4c89-4989-4260-8907-d5077a11c397\",\"type\":\"Toolbar\"},{\"attributes\":{},\"id\":\"80f11b4d-bb85-4373-b1e5-2fb72da5a62c\",\"type\":\"CategoricalScale\"},{\"attributes\":{\"callback\":null,\"end\":120},\"id\":\"f3335439-ae9a-4722-8940-596df81af3d8\",\"type\":\"Range1d\"},{\"attributes\":{},\"id\":\"dc2d021f-3c77-443a-a342-5e2c2f464ee2\",\"type\":\"LinearScale\"},{\"attributes\":{},\"id\":\"7e6f5bc2-8987-4007-96f7-4d1b59387e95\",\"type\":\"BasicTicker\"},{\"attributes\":{\"formatter\":{\"id\":\"9bb69e43-57d9-4f85-9d80-a616fcf1d3bd\",\"type\":\"CategoricalTickFormatter\"},\"plot\":{\"id\":\"aa62baf8-929d-47a5-8999-4285cf6325d5\",\"subtype\":\"Figure\",\"type\":\"Plot\"},\"ticker\":{\"id\":\"16a7aeeb-755d-4009-a38e-8bf958cfa4bb\",\"type\":\"CategoricalTicker\"}},\"id\":\"3b13ea1c-a621-4614-beff-4c20107c9cae\",\"type\":\"CategoricalAxis\"},{\"attributes\":{\"formatter\":{\"id\":\"50934197-f12c-4721-a242-1ccfa28a511a\",\"type\":\"BasicTickFormatter\"},\"plot\":{\"id\":\"aa62baf8-929d-47a5-8999-4285cf6325d5\",\"subtype\":\"Figure\",\"type\":\"Plot\"},\"ticker\":{\"id\":\"7e6f5bc2-8987-4007-96f7-4d1b59387e95\",\"type\":\"BasicTicker\"}},\"id\":\"a2b2e8a1-0a95-447e-ba2a-427cb3a66a40\",\"type\":\"LinearAxis\"},{\"attributes\":{},\"id\":\"16a7aeeb-755d-4009-a38e-8bf958cfa4bb\",\"type\":\"CategoricalTicker\"},{\"attributes\":{\"dimension\":1,\"plot\":{\"id\":\"aa62baf8-929d-47a5-8999-4285cf6325d5\",\"subtype\":\"Figure\",\"type\":\"Plot\"},\"ticker\":{\"id\":\"7e6f5bc2-8987-4007-96f7-4d1b59387e95\",\"type\":\"BasicTicker\"}},\"id\":\"55356a8f-0462-434e-8de9-68cd4ee361bd\",\"type\":\"Grid\"},{\"attributes\":{\"fill_color\":{\"value\":\"red\"},\"line_color\":{\"value\":\"red\"},\"top\":{\"field\":\"2014\"},\"width\":{\"value\":0.125},\"x\":{\"field\":\"social_media\",\"transform\":{\"id\":\"2680c664-6d40-423f-9168-e6643e326e03\",\"type\":\"Dodge\"}}},\"id\":\"1b9e5365-aa2a-4777-8af0-c7592b2e1d96\",\"type\":\"VBar\"},{\"attributes\":{\"range\":{\"id\":\"79a69ade-f051-447c-9c9a-9fb185827a96\",\"type\":\"FactorRange\"},\"value\":-0.15},\"id\":\"12d2ee25-b6f2-4f12-9cfe-f935974e4b62\",\"type\":\"Dodge\"},{\"attributes\":{\"items\":[{\"id\":\"2d431880-451c-4eae-a627-2187c0a2bd95\",\"type\":\"LegendItem\"},{\"id\":\"5e7da112-5d4b-4985-8f4a-2151bcc0ad4c\",\"type\":\"LegendItem\"},{\"id\":\"e8eea037-c8a7-4942-bcf6-c80c10ae9b4d\",\"type\":\"LegendItem\"},{\"id\":\"5b420b64-d322-443e-bffd-1cc79e6bfd13\",\"type\":\"LegendItem\"},{\"id\":\"0829e259-52bb-4ff1-a0b1-8c7d852abad6\",\"type\":\"LegendItem\"}],\"location\":\"top_left\",\"orientation\":\"horizontal\",\"plot\":{\"id\":\"aa62baf8-929d-47a5-8999-4285cf6325d5\",\"subtype\":\"Figure\",\"type\":\"Plot\"}},\"id\":\"89015dc4-74c4-4a00-9a47-bad4272415f5\",\"type\":\"Legend\"},{\"attributes\":{\"range\":{\"id\":\"79a69ade-f051-447c-9c9a-9fb185827a96\",\"type\":\"FactorRange\"},\"value\":0.15},\"id\":\"6e439133-ee8a-4635-8252-2baca157c276\",\"type\":\"Dodge\"},{\"attributes\":{},\"id\":\"9190fca4-7541-4704-b898-a42bf0aa43c8\",\"type\":\"PanTool\"},{\"attributes\":{\"data_source\":{\"id\":\"df5cf80b-0664-445e-8566-b32cbf1ded60\",\"type\":\"ColumnDataSource\"},\"glyph\":{\"id\":\"1b9e5365-aa2a-4777-8af0-c7592b2e1d96\",\"type\":\"VBar\"},\"hover_glyph\":null,\"muted_glyph\":null,\"nonselection_glyph\":{\"id\":\"74ef2ed5-85fe-4c60-827d-6fe53ff2a8fe\",\"type\":\"VBar\"},\"selection_glyph\":null,\"view\":{\"id\":\"e89537dd-8f4a-4513-9fd1-bff98e7d7128\",\"type\":\"CDSView\"}},\"id\":\"2fd8bb69-3ca7-4ce1-bd08-df2e9de9288f\",\"type\":\"GlyphRenderer\"},{\"attributes\":{\"overlay\":{\"id\":\"2d0831c1-31c2-4842-86fa-eaae87bda22c\",\"type\":\"BoxAnnotation\"}},\"id\":\"83b61213-4dbd-4df0-ad16-c8d5ec787296\",\"type\":\"BoxZoomTool\"},{\"attributes\":{},\"id\":\"1b7e88f0-bfbe-4256-b7e8-84f9def4fcd9\",\"type\":\"ResetTool\"},{\"attributes\":{},\"id\":\"4881b45a-5087-41ff-b727-7984a14c8479\",\"type\":\"SaveTool\"},{\"attributes\":{\"bottom_units\":\"screen\",\"fill_alpha\":{\"value\":0.5},\"fill_color\":{\"value\":\"lightgrey\"},\"left_units\":\"screen\",\"level\":\"overlay\",\"line_alpha\":{\"value\":1.0},\"line_color\":{\"value\":\"black\"},\"line_dash\":[4,4],\"line_width\":{\"value\":2},\"plot\":null,\"render_mode\":\"css\",\"right_units\":\"screen\",\"top_units\":\"screen\"},\"id\":\"2d0831c1-31c2-4842-86fa-eaae87bda22c\",\"type\":\"BoxAnnotation\"},{\"attributes\":{\"source\":{\"id\":\"df5cf80b-0664-445e-8566-b32cbf1ded60\",\"type\":\"ColumnDataSource\"}},\"id\":\"e89537dd-8f4a-4513-9fd1-bff98e7d7128\",\"type\":\"CDSView\"},{\"attributes\":{\"fill_alpha\":{\"value\":0.1},\"fill_color\":{\"value\":\"#1f77b4\"},\"line_alpha\":{\"value\":0.1},\"line_color\":{\"value\":\"#1f77b4\"},\"top\":{\"field\":\"2018\"},\"width\":{\"value\":0.125},\"x\":{\"field\":\"social_media\",\"transform\":{\"id\":\"0be1e403-5c9d-41bf-b931-a1e69ebfe315\",\"type\":\"Dodge\"}}},\"id\":\"7b88ca0c-227b-41cb-a821-fc152f3a06b6\",\"type\":\"VBar\"},{\"attributes\":{\"data_source\":{\"id\":\"df5cf80b-0664-445e-8566-b32cbf1ded60\",\"type\":\"ColumnDataSource\"},\"glyph\":{\"id\":\"1c3be56f-f20a-4dfd-ad42-81ce43428a0a\",\"type\":\"VBar\"},\"hover_glyph\":null,\"muted_glyph\":null,\"nonselection_glyph\":{\"id\":\"7b88ca0c-227b-41cb-a821-fc152f3a06b6\",\"type\":\"VBar\"},\"selection_glyph\":null,\"view\":{\"id\":\"b83547d5-e1a6-461b-94aa-15cfc5086a41\",\"type\":\"CDSView\"}},\"id\":\"9cf81e8d-2915-47e8-a71f-bf5b04bc29a7\",\"type\":\"GlyphRenderer\"},{\"attributes\":{},\"id\":\"9bb69e43-57d9-4f85-9d80-a616fcf1d3bd\",\"type\":\"CategoricalTickFormatter\"},{\"attributes\":{\"data_source\":{\"id\":\"df5cf80b-0664-445e-8566-b32cbf1ded60\",\"type\":\"ColumnDataSource\"},\"glyph\":{\"id\":\"cb3fbab9-90e3-4a3d-a569-8cc18babde68\",\"type\":\"VBar\"},\"hover_glyph\":null,\"muted_glyph\":null,\"nonselection_glyph\":{\"id\":\"4a31b63e-3f2e-4472-90a2-66e31f3c2056\",\"type\":\"VBar\"},\"selection_glyph\":null,\"view\":{\"id\":\"2b241bde-4704-41db-8be6-0c121e23204e\",\"type\":\"CDSView\"}},\"id\":\"c8e710f2-2fa3-400e-9cb2-59700d5ed331\",\"type\":\"GlyphRenderer\"},{\"attributes\":{\"range\":{\"id\":\"79a69ade-f051-447c-9c9a-9fb185827a96\",\"type\":\"FactorRange\"}},\"id\":\"80ec3398-222c-424f-bceb-23c634eec515\",\"type\":\"Dodge\"},{\"attributes\":{\"fill_color\":{\"value\":\"orange\"},\"line_color\":{\"value\":\"orange\"},\"top\":{\"field\":\"2015\"},\"width\":{\"value\":0.125},\"x\":{\"field\":\"social_media\",\"transform\":{\"id\":\"12d2ee25-b6f2-4f12-9cfe-f935974e4b62\",\"type\":\"Dodge\"}}},\"id\":\"cb3fbab9-90e3-4a3d-a569-8cc18babde68\",\"type\":\"VBar\"},{\"attributes\":{\"fill_alpha\":{\"value\":0.1},\"fill_color\":{\"value\":\"#1f77b4\"},\"line_alpha\":{\"value\":0.1},\"line_color\":{\"value\":\"#1f77b4\"},\"top\":{\"field\":\"2015\"},\"width\":{\"value\":0.125},\"x\":{\"field\":\"social_media\",\"transform\":{\"id\":\"12d2ee25-b6f2-4f12-9cfe-f935974e4b62\",\"type\":\"Dodge\"}}},\"id\":\"4a31b63e-3f2e-4472-90a2-66e31f3c2056\",\"type\":\"VBar\"},{\"attributes\":{\"source\":{\"id\":\"df5cf80b-0664-445e-8566-b32cbf1ded60\",\"type\":\"ColumnDataSource\"}},\"id\":\"2b241bde-4704-41db-8be6-0c121e23204e\",\"type\":\"CDSView\"},{\"attributes\":{\"label\":{\"value\":\"2015\"},\"renderers\":[{\"id\":\"c8e710f2-2fa3-400e-9cb2-59700d5ed331\",\"type\":\"GlyphRenderer\"}]},\"id\":\"5e7da112-5d4b-4985-8f4a-2151bcc0ad4c\",\"type\":\"LegendItem\"},{\"attributes\":{\"fill_color\":{\"value\":\"yellow\"},\"line_color\":{\"value\":\"yellow\"},\"top\":{\"field\":\"2016\"},\"width\":{\"value\":0.125},\"x\":{\"field\":\"social_media\",\"transform\":{\"id\":\"80ec3398-222c-424f-bceb-23c634eec515\",\"type\":\"Dodge\"}}},\"id\":\"08999ae8-9e7f-4740-be08-90a9f228900a\",\"type\":\"VBar\"},{\"attributes\":{\"data_source\":{\"id\":\"df5cf80b-0664-445e-8566-b32cbf1ded60\",\"type\":\"ColumnDataSource\"},\"glyph\":{\"id\":\"08999ae8-9e7f-4740-be08-90a9f228900a\",\"type\":\"VBar\"},\"hover_glyph\":null,\"muted_glyph\":null,\"nonselection_glyph\":{\"id\":\"59107cb0-7602-49ff-8464-0baf30cd89d8\",\"type\":\"VBar\"},\"selection_glyph\":null,\"view\":{\"id\":\"c7531466-5f61-4b63-aa38-7f25a16a0d8e\",\"type\":\"CDSView\"}},\"id\":\"53eb600f-c708-4785-9bbf-b945f14d43f2\",\"type\":\"GlyphRenderer\"},{\"attributes\":{\"fill_color\":{\"value\":\"green\"},\"line_color\":{\"value\":\"green\"},\"top\":{\"field\":\"2017\"},\"width\":{\"value\":0.125},\"x\":{\"field\":\"social_media\",\"transform\":{\"id\":\"6e439133-ee8a-4635-8252-2baca157c276\",\"type\":\"Dodge\"}}},\"id\":\"572ba80f-21d3-45a4-aabe-6d94bacb0238\",\"type\":\"VBar\"},{\"attributes\":{\"range\":{\"id\":\"79a69ade-f051-447c-9c9a-9fb185827a96\",\"type\":\"FactorRange\"},\"value\":0.3},\"id\":\"0be1e403-5c9d-41bf-b931-a1e69ebfe315\",\"type\":\"Dodge\"},{\"attributes\":{\"fill_alpha\":{\"value\":0.1},\"fill_color\":{\"value\":\"#1f77b4\"},\"line_alpha\":{\"value\":0.1},\"line_color\":{\"value\":\"#1f77b4\"},\"top\":{\"field\":\"2016\"},\"width\":{\"value\":0.125},\"x\":{\"field\":\"social_media\",\"transform\":{\"id\":\"80ec3398-222c-424f-bceb-23c634eec515\",\"type\":\"Dodge\"}}},\"id\":\"59107cb0-7602-49ff-8464-0baf30cd89d8\",\"type\":\"VBar\"},{\"attributes\":{\"source\":{\"id\":\"df5cf80b-0664-445e-8566-b32cbf1ded60\",\"type\":\"ColumnDataSource\"}},\"id\":\"c7531466-5f61-4b63-aa38-7f25a16a0d8e\",\"type\":\"CDSView\"},{\"attributes\":{\"label\":{\"value\":\"2016\"},\"renderers\":[{\"id\":\"53eb600f-c708-4785-9bbf-b945f14d43f2\",\"type\":\"GlyphRenderer\"}]},\"id\":\"e8eea037-c8a7-4942-bcf6-c80c10ae9b4d\",\"type\":\"LegendItem\"},{\"attributes\":{\"fill_color\":{\"value\":\"blue\"},\"line_color\":{\"value\":\"blue\"},\"top\":{\"field\":\"2018\"},\"width\":{\"value\":0.125},\"x\":{\"field\":\"social_media\",\"transform\":{\"id\":\"0be1e403-5c9d-41bf-b931-a1e69ebfe315\",\"type\":\"Dodge\"}}},\"id\":\"1c3be56f-f20a-4dfd-ad42-81ce43428a0a\",\"type\":\"VBar\"},{\"attributes\":{\"data_source\":{\"id\":\"df5cf80b-0664-445e-8566-b32cbf1ded60\",\"type\":\"ColumnDataSource\"},\"glyph\":{\"id\":\"572ba80f-21d3-45a4-aabe-6d94bacb0238\",\"type\":\"VBar\"},\"hover_glyph\":null,\"muted_glyph\":null,\"nonselection_glyph\":{\"id\":\"a92efe5b-51b3-45bd-b336-28e7f5734053\",\"type\":\"VBar\"},\"selection_glyph\":null,\"view\":{\"id\":\"33e0ee60-84ce-45a7-ba3f-92be056a73b9\",\"type\":\"CDSView\"}},\"id\":\"28a8d3b7-68e6-43b4-88b4-3ed92ec6fd31\",\"type\":\"GlyphRenderer\"},{\"attributes\":{\"label\":{\"value\":\"2018\"},\"renderers\":[{\"id\":\"9cf81e8d-2915-47e8-a71f-bf5b04bc29a7\",\"type\":\"GlyphRenderer\"}]},\"id\":\"0829e259-52bb-4ff1-a0b1-8c7d852abad6\",\"type\":\"LegendItem\"},{\"attributes\":{\"fill_alpha\":{\"value\":0.1},\"fill_color\":{\"value\":\"#1f77b4\"},\"line_alpha\":{\"value\":0.1},\"line_color\":{\"value\":\"#1f77b4\"},\"top\":{\"field\":\"2017\"},\"width\":{\"value\":0.125},\"x\":{\"field\":\"social_media\",\"transform\":{\"id\":\"6e439133-ee8a-4635-8252-2baca157c276\",\"type\":\"Dodge\"}}},\"id\":\"a92efe5b-51b3-45bd-b336-28e7f5734053\",\"type\":\"VBar\"},{\"attributes\":{\"source\":{\"id\":\"df5cf80b-0664-445e-8566-b32cbf1ded60\",\"type\":\"ColumnDataSource\"}},\"id\":\"33e0ee60-84ce-45a7-ba3f-92be056a73b9\",\"type\":\"CDSView\"},{\"attributes\":{\"label\":{\"value\":\"2017\"},\"renderers\":[{\"id\":\"28a8d3b7-68e6-43b4-88b4-3ed92ec6fd31\",\"type\":\"GlyphRenderer\"}]},\"id\":\"5b420b64-d322-443e-bffd-1cc79e6bfd13\",\"type\":\"LegendItem\"},{\"attributes\":{\"source\":{\"id\":\"df5cf80b-0664-445e-8566-b32cbf1ded60\",\"type\":\"ColumnDataSource\"}},\"id\":\"b83547d5-e1a6-461b-94aa-15cfc5086a41\",\"type\":\"CDSView\"}],\"root_ids\":[\"aa62baf8-929d-47a5-8999-4285cf6325d5\"]},\"title\":\"Bokeh Application\",\"version\":\"0.12.14\"}};\n",
       "  var render_items = [{\"docid\":\"5ad42823-ed31-40b2-8e52-7dca38227a6f\",\"elementid\":\"f9b7e7b1-ae62-47a3-b521-1b5ea9ab2b8b\",\"modelid\":\"aa62baf8-929d-47a5-8999-4285cf6325d5\"}];\n",
       "  root.Bokeh.embed.embed_items_notebook(docs_json, render_items);\n",
       "\n",
       "  }\n",
       "  if (root.Bokeh !== undefined) {\n",
       "    embed_document(root);\n",
       "  } else {\n",
       "    var attempts = 0;\n",
       "    var timer = setInterval(function(root) {\n",
       "      if (root.Bokeh !== undefined) {\n",
       "        embed_document(root);\n",
       "        clearInterval(timer);\n",
       "      }\n",
       "      attempts++;\n",
       "      if (attempts > 100) {\n",
       "        console.log(\"Bokeh: ERROR: Unable to run BokehJS code because BokehJS library is missing\")\n",
       "        clearInterval(timer);\n",
       "      }\n",
       "    }, 10, root)\n",
       "  }\n",
       "})(window);"
      ],
      "application/vnd.bokehjs_exec.v0+json": ""
     },
     "metadata": {
      "application/vnd.bokehjs_exec.v0+json": {
       "id": "aa62baf8-929d-47a5-8999-4285cf6325d5"
      }
     },
     "output_type": "display_data"
    }
   ],
   "source": [
    "# Intialize data to be displayed\n",
    "social_media = [\"Facebook\", \"LinkedIn\",\"Snapchat\", \"Instagram\", \"Reddit\"]\n",
    "years = [\"2014\", \"2015\", \"2016\", \"2017\", \"2018\"]\n",
    "data = {'social_media': social_media, \n",
    "        '2014' : [60,30,10,20,20],\n",
    "        '2015' : [60,30,40,50,20], \n",
    "        '2016' : [70,40,50,60,60], \n",
    "        '2017' : [75,40,70,70,70], \n",
    "        '2018' : [40,60,80,80,90]}\n",
    "source = ColumnDataSource(data=data)\n",
    "\n",
    "# Create figure object by specifizing dimensions, title, tools etc\n",
    "p = figure(x_range=social_media, y_range=(0, 120), tools=\"pan,box_zoom,reset,save\", plot_height=300, \n",
    "           title=\"Social Media Analysis: Avg minutes spent by a user/day over years\")\n",
    "\n",
    "# Add vertical bars for 2014 data\n",
    "p.vbar(x=dodge('social_media', -0.30, range=p.x_range), top='2014', width=0.125, source=source,\n",
    "       color=\"red\", legend=value(\"2014\"))\n",
    "\n",
    "# Add vertical bars for 2015 data\n",
    "p.vbar(x=dodge('social_media', -0.15, range=p.x_range), top='2015', width=0.125, source=source,\n",
    "       color=\"orange\", legend=value(\"2015\"))\n",
    "\n",
    "# Add vertical bars for 2016 data\n",
    "p.vbar(x=dodge('social_media',  0.0,  range=p.x_range), top='2016', width=0.125, source=source,\n",
    "       color=\"yellow\", legend=value(\"2016\"))\n",
    "\n",
    "# Add vertical bars for 2017 data\n",
    "p.vbar(x=dodge('social_media',  0.15, range=p.x_range), top='2017', width=0.125, source=source,\n",
    "       color=\"green\", legend=value(\"2017\"))\n",
    "\n",
    "# Add vertical bars for 2018 data\n",
    "p.vbar(x=dodge('social_media',  0.30, range=p.x_range), top='2018', width=0.125, source=source,\n",
    "       color=\"blue\", legend=value(\"2018\"))\n",
    "\n",
    "# Adjust the padding and placement of legend\n",
    "p.x_range.range_padding = 0.1\n",
    "p.xgrid.grid_line_color = None\n",
    "p.legend.location = \"top_left\"\n",
    "p.legend.orientation = \"horizontal\"\n",
    "\n",
    "# Display the plot\n",
    "show(p)"
   ]
  },
  {
   "cell_type": "markdown",
   "metadata": {},
   "source": [
    "Another way to visualize the above plot is to convert it into a stacked bar chart. Here the bars are stacked on top of each other in accordance to the levels. Stacked bar charts help us see the plot in a more compressed format along with the composition of different parts. Let us go ahead and plot it!"
   ]
  },
  {
   "cell_type": "code",
   "execution_count": 191,
   "metadata": {},
   "outputs": [
    {
     "data": {
      "text/html": [
       "\n",
       "<div class=\"bk-root\">\n",
       "    <div class=\"bk-plotdiv\" id=\"5ca61488-83e4-48ed-b41b-e31c802a2c20\"></div>\n",
       "</div>"
      ]
     },
     "metadata": {},
     "output_type": "display_data"
    },
    {
     "data": {
      "application/javascript": [
       "(function(root) {\n",
       "  function embed_document(root) {\n",
       "    \n",
       "  var docs_json = {\"71dca878-a2c2-45e2-9ebb-c19cd076281e\":{\"roots\":{\"references\":[{\"attributes\":{\"callback\":null,\"factors\":[\"Facebook\",\"LinkedIn\",\"Snapchat\",\"Instagram\",\"Reddit\"],\"range_padding\":0.1},\"id\":\"27c6c997-d6b0-4eed-8cf7-fd3afe0e9bfd\",\"type\":\"FactorRange\"},{\"attributes\":{\"data_source\":{\"id\":\"df5cf80b-0664-445e-8566-b32cbf1ded60\",\"type\":\"ColumnDataSource\"},\"glyph\":{\"id\":\"9ea6120b-75d7-4e9b-a77b-aafbdced7211\",\"type\":\"VBar\"},\"hover_glyph\":null,\"muted_glyph\":null,\"nonselection_glyph\":{\"id\":\"0a1a909e-f45d-4400-bb32-a4d7b3606bea\",\"type\":\"VBar\"},\"selection_glyph\":null,\"view\":{\"id\":\"0d5c9a75-12a4-46ab-84f0-2ed6af40d54a\",\"type\":\"CDSView\"}},\"id\":\"9ce3a480-dd4f-40d6-81a9-6e0d88ee9057\",\"type\":\"GlyphRenderer\"},{\"attributes\":{\"fields\":[]},\"id\":\"c7801ad6-c51b-42c3-84d0-6330d0b0c658\",\"type\":\"Stack\"},{\"attributes\":{\"bottom\":{\"expr\":{\"id\":\"32f701cd-4a3f-41e3-9d06-4bd68bee1465\",\"type\":\"Stack\"}},\"fill_alpha\":{\"value\":0.1},\"fill_color\":{\"value\":\"#1f77b4\"},\"line_alpha\":{\"value\":0.1},\"line_color\":{\"value\":\"#1f77b4\"},\"top\":{\"expr\":{\"id\":\"8d595664-fbf9-4ffd-b000-73a63c128e99\",\"type\":\"Stack\"}},\"width\":{\"value\":0.75},\"x\":{\"field\":\"social_media\"}},\"id\":\"9934f548-25b0-4c0d-837c-fcd2151e30da\",\"type\":\"VBar\"},{\"attributes\":{\"callback\":null,\"column_names\":[\"social_media\",\"2014\",\"2015\",\"2016\",\"2017\",\"2018\"],\"data\":{\"2014\":[60,30,10,20,20],\"2015\":[60,30,40,50,20],\"2016\":[70,40,50,60,60],\"2017\":[75,40,70,70,70],\"2018\":[40,60,80,80,90],\"social_media\":[\"Facebook\",\"LinkedIn\",\"Snapchat\",\"Instagram\",\"Reddit\"]}},\"id\":\"df5cf80b-0664-445e-8566-b32cbf1ded60\",\"type\":\"ColumnDataSource\"},{\"attributes\":{\"bottom\":{\"expr\":{\"id\":\"014b71a2-d9a8-47dc-afc8-054b0a0669ff\",\"type\":\"Stack\"}},\"fill_alpha\":{\"value\":0.1},\"fill_color\":{\"value\":\"#1f77b4\"},\"line_alpha\":{\"value\":0.1},\"line_color\":{\"value\":\"#1f77b4\"},\"top\":{\"expr\":{\"id\":\"8280f69e-1bde-4c8a-a798-83e556fca55a\",\"type\":\"Stack\"}},\"width\":{\"value\":0.75},\"x\":{\"field\":\"social_media\"}},\"id\":\"0a1a909e-f45d-4400-bb32-a4d7b3606bea\",\"type\":\"VBar\"},{\"attributes\":{\"label\":{\"value\":\"2018\"},\"renderers\":[{\"id\":\"99a56e34-d14c-4714-a012-551360dc20d7\",\"type\":\"GlyphRenderer\"}]},\"id\":\"a6b857d8-26c2-4d28-94ad-d6c8d9169957\",\"type\":\"LegendItem\"},{\"attributes\":{\"data_source\":{\"id\":\"df5cf80b-0664-445e-8566-b32cbf1ded60\",\"type\":\"ColumnDataSource\"},\"glyph\":{\"id\":\"43e3555d-c5ff-45d1-980f-4f44bc29f50f\",\"type\":\"VBar\"},\"hover_glyph\":null,\"muted_glyph\":null,\"nonselection_glyph\":{\"id\":\"98c49283-88a8-45f1-818e-cb48d07691ec\",\"type\":\"VBar\"},\"selection_glyph\":null,\"view\":{\"id\":\"23ef9446-0d0b-4bb6-83c1-cd2335c4253c\",\"type\":\"CDSView\"}},\"id\":\"81249414-bf37-4b98-b90b-f958f9416780\",\"type\":\"GlyphRenderer\"},{\"attributes\":{\"label\":{\"value\":\"2016\"},\"renderers\":[{\"id\":\"81249414-bf37-4b98-b90b-f958f9416780\",\"type\":\"GlyphRenderer\"}]},\"id\":\"5e9c1149-a465-434c-b53c-f36b1e08c8b7\",\"type\":\"LegendItem\"},{\"attributes\":{\"formatter\":{\"id\":\"6d0095bb-c835-44ed-83f8-81795d4d375a\",\"type\":\"BasicTickFormatter\"},\"minor_tick_line_color\":{\"value\":null},\"plot\":{\"id\":\"25526abb-141e-4772-b668-019c11f42f7a\",\"subtype\":\"Figure\",\"type\":\"Plot\"},\"ticker\":{\"id\":\"195948d9-9439-4777-8d7b-9efcf64a68e4\",\"type\":\"BasicTicker\"}},\"id\":\"a14ad7c5-8eb2-4720-9ccd-c6d00e62fd04\",\"type\":\"LinearAxis\"},{\"attributes\":{\"fields\":[\"2014\",\"2015\"]},\"id\":\"ceb787a9-570d-410e-a9c3-16d9d5ac301d\",\"type\":\"Stack\"},{\"attributes\":{\"fields\":[\"2014\"]},\"id\":\"7f2acb9f-a2b3-435c-a859-c688ea6f1670\",\"type\":\"Stack\"},{\"attributes\":{\"source\":{\"id\":\"df5cf80b-0664-445e-8566-b32cbf1ded60\",\"type\":\"ColumnDataSource\"}},\"id\":\"23ef9446-0d0b-4bb6-83c1-cd2335c4253c\",\"type\":\"CDSView\"},{\"attributes\":{\"data_source\":{\"id\":\"df5cf80b-0664-445e-8566-b32cbf1ded60\",\"type\":\"ColumnDataSource\"},\"glyph\":{\"id\":\"bfa761cc-0070-4878-8890-962b8f224195\",\"type\":\"VBar\"},\"hover_glyph\":null,\"muted_glyph\":null,\"nonselection_glyph\":{\"id\":\"9934f548-25b0-4c0d-837c-fcd2151e30da\",\"type\":\"VBar\"},\"selection_glyph\":null,\"view\":{\"id\":\"436df012-7ff0-4f7a-8972-ef66fa95739a\",\"type\":\"CDSView\"}},\"id\":\"99a56e34-d14c-4714-a012-551360dc20d7\",\"type\":\"GlyphRenderer\"},{\"attributes\":{\"bottom\":{\"expr\":{\"id\":\"ae8168df-0f82-4416-9341-5d773bc80441\",\"type\":\"Stack\"}},\"fill_alpha\":{\"value\":0.1},\"fill_color\":{\"value\":\"#1f77b4\"},\"line_alpha\":{\"value\":0.1},\"line_color\":{\"value\":\"#1f77b4\"},\"top\":{\"expr\":{\"id\":\"b43ca541-2f14-4958-bbd9-69fcdbcef044\",\"type\":\"Stack\"}},\"width\":{\"value\":0.75},\"x\":{\"field\":\"social_media\"}},\"id\":\"98c49283-88a8-45f1-818e-cb48d07691ec\",\"type\":\"VBar\"},{\"attributes\":{},\"id\":\"6d0095bb-c835-44ed-83f8-81795d4d375a\",\"type\":\"BasicTickFormatter\"},{\"attributes\":{\"bottom\":{\"expr\":{\"id\":\"c7801ad6-c51b-42c3-84d0-6330d0b0c658\",\"type\":\"Stack\"}},\"fill_alpha\":{\"value\":0.1},\"fill_color\":{\"value\":\"#1f77b4\"},\"line_alpha\":{\"value\":0.1},\"line_color\":{\"value\":\"#1f77b4\"},\"top\":{\"expr\":{\"id\":\"d0fd99f3-6424-410b-a054-c4035904068a\",\"type\":\"Stack\"}},\"width\":{\"value\":0.75},\"x\":{\"field\":\"social_media\"}},\"id\":\"d1ecc48a-a510-45da-a9fd-feb6bd36f7b5\",\"type\":\"VBar\"},{\"attributes\":{\"fields\":[\"2014\",\"2015\",\"2016\"]},\"id\":\"b43ca541-2f14-4958-bbd9-69fcdbcef044\",\"type\":\"Stack\"},{\"attributes\":{\"source\":{\"id\":\"df5cf80b-0664-445e-8566-b32cbf1ded60\",\"type\":\"ColumnDataSource\"}},\"id\":\"0d5c9a75-12a4-46ab-84f0-2ed6af40d54a\",\"type\":\"CDSView\"},{\"attributes\":{\"bottom\":{\"expr\":{\"id\":\"014b71a2-d9a8-47dc-afc8-054b0a0669ff\",\"type\":\"Stack\"}},\"fill_color\":{\"value\":\"green\"},\"line_color\":{\"value\":\"green\"},\"top\":{\"expr\":{\"id\":\"8280f69e-1bde-4c8a-a798-83e556fca55a\",\"type\":\"Stack\"}},\"width\":{\"value\":0.75},\"x\":{\"field\":\"social_media\"}},\"id\":\"9ea6120b-75d7-4e9b-a77b-aafbdced7211\",\"type\":\"VBar\"},{\"attributes\":{},\"id\":\"cdb6d2ff-990f-4c07-af5f-433ecefe878a\",\"type\":\"CategoricalScale\"},{\"attributes\":{\"label\":{\"value\":\"2014\"},\"renderers\":[{\"id\":\"2bd5d5d7-5539-44af-97e5-c6bed8fd6dfa\",\"type\":\"GlyphRenderer\"}]},\"id\":\"6cd1fc3f-d9b5-47cd-96d3-b65293545ab9\",\"type\":\"LegendItem\"},{\"attributes\":{\"dimension\":1,\"plot\":{\"id\":\"25526abb-141e-4772-b668-019c11f42f7a\",\"subtype\":\"Figure\",\"type\":\"Plot\"},\"ticker\":{\"id\":\"195948d9-9439-4777-8d7b-9efcf64a68e4\",\"type\":\"BasicTicker\"}},\"id\":\"20f294c2-ce34-4864-a795-e5a976e03373\",\"type\":\"Grid\"},{\"attributes\":{},\"id\":\"91e29f05-e8c0-4dcd-88f4-b5271c9fd2e6\",\"type\":\"CategoricalTickFormatter\"},{\"attributes\":{\"source\":{\"id\":\"df5cf80b-0664-445e-8566-b32cbf1ded60\",\"type\":\"ColumnDataSource\"}},\"id\":\"436df012-7ff0-4f7a-8972-ef66fa95739a\",\"type\":\"CDSView\"},{\"attributes\":{\"fields\":[\"2014\",\"2015\",\"2016\"]},\"id\":\"014b71a2-d9a8-47dc-afc8-054b0a0669ff\",\"type\":\"Stack\"},{\"attributes\":{},\"id\":\"195948d9-9439-4777-8d7b-9efcf64a68e4\",\"type\":\"BasicTicker\"},{\"attributes\":{\"data_source\":{\"id\":\"df5cf80b-0664-445e-8566-b32cbf1ded60\",\"type\":\"ColumnDataSource\"},\"glyph\":{\"id\":\"5c72291f-ef05-46f2-80c6-5d1f908b945e\",\"type\":\"VBar\"},\"hover_glyph\":null,\"muted_glyph\":null,\"nonselection_glyph\":{\"id\":\"d1ecc48a-a510-45da-a9fd-feb6bd36f7b5\",\"type\":\"VBar\"},\"selection_glyph\":null,\"view\":{\"id\":\"7f80ee5d-f854-4b0b-b6eb-d036ff8f4cde\",\"type\":\"CDSView\"}},\"id\":\"2bd5d5d7-5539-44af-97e5-c6bed8fd6dfa\",\"type\":\"GlyphRenderer\"},{\"attributes\":{\"callback\":null,\"start\":0},\"id\":\"545a3855-dbf8-4e3f-aa37-148c3eec73c8\",\"type\":\"DataRange1d\"},{\"attributes\":{\"fields\":[\"2014\",\"2015\"]},\"id\":\"ae8168df-0f82-4416-9341-5d773bc80441\",\"type\":\"Stack\"},{\"attributes\":{\"fields\":[\"2014\",\"2015\",\"2016\",\"2017\"]},\"id\":\"32f701cd-4a3f-41e3-9d06-4bd68bee1465\",\"type\":\"Stack\"},{\"attributes\":{\"source\":{\"id\":\"df5cf80b-0664-445e-8566-b32cbf1ded60\",\"type\":\"ColumnDataSource\"}},\"id\":\"7f80ee5d-f854-4b0b-b6eb-d036ff8f4cde\",\"type\":\"CDSView\"},{\"attributes\":{\"bottom\":{\"expr\":{\"id\":\"7f2acb9f-a2b3-435c-a859-c688ea6f1670\",\"type\":\"Stack\"}},\"fill_alpha\":{\"value\":0.1},\"fill_color\":{\"value\":\"#1f77b4\"},\"line_alpha\":{\"value\":0.1},\"line_color\":{\"value\":\"#1f77b4\"},\"top\":{\"expr\":{\"id\":\"ceb787a9-570d-410e-a9c3-16d9d5ac301d\",\"type\":\"Stack\"}},\"width\":{\"value\":0.75},\"x\":{\"field\":\"social_media\"}},\"id\":\"d39afd01-751d-441d-863e-f5b43a17e5fa\",\"type\":\"VBar\"},{\"attributes\":{\"bottom\":{\"expr\":{\"id\":\"32f701cd-4a3f-41e3-9d06-4bd68bee1465\",\"type\":\"Stack\"}},\"fill_color\":{\"value\":\"blue\"},\"line_color\":{\"value\":\"blue\"},\"top\":{\"expr\":{\"id\":\"8d595664-fbf9-4ffd-b000-73a63c128e99\",\"type\":\"Stack\"}},\"width\":{\"value\":0.75},\"x\":{\"field\":\"social_media\"}},\"id\":\"bfa761cc-0070-4878-8890-962b8f224195\",\"type\":\"VBar\"},{\"attributes\":{\"active_drag\":\"auto\",\"active_inspect\":\"auto\",\"active_scroll\":\"auto\",\"active_tap\":\"auto\"},\"id\":\"81180e4b-c549-4376-b7f7-4230012a7222\",\"type\":\"Toolbar\"},{\"attributes\":{\"fields\":[\"2014\",\"2015\",\"2016\",\"2017\",\"2018\"]},\"id\":\"8d595664-fbf9-4ffd-b000-73a63c128e99\",\"type\":\"Stack\"},{\"attributes\":{\"data_source\":{\"id\":\"df5cf80b-0664-445e-8566-b32cbf1ded60\",\"type\":\"ColumnDataSource\"},\"glyph\":{\"id\":\"df45c716-2351-4319-905e-8bf453aa4b15\",\"type\":\"VBar\"},\"hover_glyph\":null,\"muted_glyph\":null,\"nonselection_glyph\":{\"id\":\"d39afd01-751d-441d-863e-f5b43a17e5fa\",\"type\":\"VBar\"},\"selection_glyph\":null,\"view\":{\"id\":\"ffb2ce6d-322d-46b8-9334-8db78f34bda0\",\"type\":\"CDSView\"}},\"id\":\"d95a55b9-76d6-4693-8581-03996d935207\",\"type\":\"GlyphRenderer\"},{\"attributes\":{\"plot\":null,\"text\":\"Social Media Analysis: Avg minutes spent by a user/day over years\"},\"id\":\"d3b2c9bc-7f10-464c-9bdd-22eb25de6d12\",\"type\":\"Title\"},{\"attributes\":{\"label\":{\"value\":\"2017\"},\"renderers\":[{\"id\":\"9ce3a480-dd4f-40d6-81a9-6e0d88ee9057\",\"type\":\"GlyphRenderer\"}]},\"id\":\"7efa87b6-d34e-4a7c-9bac-ff3878a5d500\",\"type\":\"LegendItem\"},{\"attributes\":{\"formatter\":{\"id\":\"91e29f05-e8c0-4dcd-88f4-b5271c9fd2e6\",\"type\":\"CategoricalTickFormatter\"},\"minor_tick_line_color\":{\"value\":null},\"plot\":{\"id\":\"25526abb-141e-4772-b668-019c11f42f7a\",\"subtype\":\"Figure\",\"type\":\"Plot\"},\"ticker\":{\"id\":\"56d3351d-d695-4495-8c41-0836a1b12b17\",\"type\":\"CategoricalTicker\"}},\"id\":\"019cedd4-8875-49fd-b5c7-9544542f43d5\",\"type\":\"CategoricalAxis\"},{\"attributes\":{\"bottom\":{\"expr\":{\"id\":\"ae8168df-0f82-4416-9341-5d773bc80441\",\"type\":\"Stack\"}},\"fill_color\":{\"value\":\"yellow\"},\"line_color\":{\"value\":\"yellow\"},\"top\":{\"expr\":{\"id\":\"b43ca541-2f14-4958-bbd9-69fcdbcef044\",\"type\":\"Stack\"}},\"width\":{\"value\":0.75},\"x\":{\"field\":\"social_media\"}},\"id\":\"43e3555d-c5ff-45d1-980f-4f44bc29f50f\",\"type\":\"VBar\"},{\"attributes\":{\"fields\":[\"2014\"]},\"id\":\"d0fd99f3-6424-410b-a054-c4035904068a\",\"type\":\"Stack\"},{\"attributes\":{\"below\":[{\"id\":\"019cedd4-8875-49fd-b5c7-9544542f43d5\",\"type\":\"CategoricalAxis\"}],\"left\":[{\"id\":\"a14ad7c5-8eb2-4720-9ccd-c6d00e62fd04\",\"type\":\"LinearAxis\"}],\"outline_line_color\":{\"value\":null},\"plot_height\":450,\"renderers\":[{\"id\":\"019cedd4-8875-49fd-b5c7-9544542f43d5\",\"type\":\"CategoricalAxis\"},{\"id\":\"85b5c299-3822-4f72-862a-cb634abf4366\",\"type\":\"Grid\"},{\"id\":\"a14ad7c5-8eb2-4720-9ccd-c6d00e62fd04\",\"type\":\"LinearAxis\"},{\"id\":\"20f294c2-ce34-4864-a795-e5a976e03373\",\"type\":\"Grid\"},{\"id\":\"39e1edf9-c33d-4ed9-bdae-81c8ff8604fd\",\"type\":\"Legend\"},{\"id\":\"2bd5d5d7-5539-44af-97e5-c6bed8fd6dfa\",\"type\":\"GlyphRenderer\"},{\"id\":\"d95a55b9-76d6-4693-8581-03996d935207\",\"type\":\"GlyphRenderer\"},{\"id\":\"81249414-bf37-4b98-b90b-f958f9416780\",\"type\":\"GlyphRenderer\"},{\"id\":\"9ce3a480-dd4f-40d6-81a9-6e0d88ee9057\",\"type\":\"GlyphRenderer\"},{\"id\":\"99a56e34-d14c-4714-a012-551360dc20d7\",\"type\":\"GlyphRenderer\"}],\"title\":{\"id\":\"d3b2c9bc-7f10-464c-9bdd-22eb25de6d12\",\"type\":\"Title\"},\"toolbar\":{\"id\":\"81180e4b-c549-4376-b7f7-4230012a7222\",\"type\":\"Toolbar\"},\"toolbar_location\":null,\"x_range\":{\"id\":\"27c6c997-d6b0-4eed-8cf7-fd3afe0e9bfd\",\"type\":\"FactorRange\"},\"x_scale\":{\"id\":\"cdb6d2ff-990f-4c07-af5f-433ecefe878a\",\"type\":\"CategoricalScale\"},\"y_range\":{\"id\":\"545a3855-dbf8-4e3f-aa37-148c3eec73c8\",\"type\":\"DataRange1d\"},\"y_scale\":{\"id\":\"7891c991-1bc8-49d4-8643-8656427652e0\",\"type\":\"LinearScale\"}},\"id\":\"25526abb-141e-4772-b668-019c11f42f7a\",\"subtype\":\"Figure\",\"type\":\"Plot\"},{\"attributes\":{\"fields\":[\"2014\",\"2015\",\"2016\",\"2017\"]},\"id\":\"8280f69e-1bde-4c8a-a798-83e556fca55a\",\"type\":\"Stack\"},{\"attributes\":{},\"id\":\"7891c991-1bc8-49d4-8643-8656427652e0\",\"type\":\"LinearScale\"},{\"attributes\":{\"source\":{\"id\":\"df5cf80b-0664-445e-8566-b32cbf1ded60\",\"type\":\"ColumnDataSource\"}},\"id\":\"ffb2ce6d-322d-46b8-9334-8db78f34bda0\",\"type\":\"CDSView\"},{\"attributes\":{},\"id\":\"56d3351d-d695-4495-8c41-0836a1b12b17\",\"type\":\"CategoricalTicker\"},{\"attributes\":{\"label\":{\"value\":\"2015\"},\"renderers\":[{\"id\":\"d95a55b9-76d6-4693-8581-03996d935207\",\"type\":\"GlyphRenderer\"}]},\"id\":\"585782cf-87fa-4b69-8b92-395ef96ed8e5\",\"type\":\"LegendItem\"},{\"attributes\":{\"bottom\":{\"expr\":{\"id\":\"7f2acb9f-a2b3-435c-a859-c688ea6f1670\",\"type\":\"Stack\"}},\"fill_color\":{\"value\":\"orange\"},\"line_color\":{\"value\":\"orange\"},\"top\":{\"expr\":{\"id\":\"ceb787a9-570d-410e-a9c3-16d9d5ac301d\",\"type\":\"Stack\"}},\"width\":{\"value\":0.75},\"x\":{\"field\":\"social_media\"}},\"id\":\"df45c716-2351-4319-905e-8bf453aa4b15\",\"type\":\"VBar\"},{\"attributes\":{\"items\":[{\"id\":\"6cd1fc3f-d9b5-47cd-96d3-b65293545ab9\",\"type\":\"LegendItem\"},{\"id\":\"585782cf-87fa-4b69-8b92-395ef96ed8e5\",\"type\":\"LegendItem\"},{\"id\":\"5e9c1149-a465-434c-b53c-f36b1e08c8b7\",\"type\":\"LegendItem\"},{\"id\":\"7efa87b6-d34e-4a7c-9bac-ff3878a5d500\",\"type\":\"LegendItem\"},{\"id\":\"a6b857d8-26c2-4d28-94ad-d6c8d9169957\",\"type\":\"LegendItem\"}],\"orientation\":\"horizontal\",\"plot\":{\"id\":\"25526abb-141e-4772-b668-019c11f42f7a\",\"subtype\":\"Figure\",\"type\":\"Plot\"}},\"id\":\"39e1edf9-c33d-4ed9-bdae-81c8ff8604fd\",\"type\":\"Legend\"},{\"attributes\":{\"bottom\":{\"expr\":{\"id\":\"c7801ad6-c51b-42c3-84d0-6330d0b0c658\",\"type\":\"Stack\"}},\"fill_color\":{\"value\":\"red\"},\"line_color\":{\"value\":\"red\"},\"top\":{\"expr\":{\"id\":\"d0fd99f3-6424-410b-a054-c4035904068a\",\"type\":\"Stack\"}},\"width\":{\"value\":0.75},\"x\":{\"field\":\"social_media\"}},\"id\":\"5c72291f-ef05-46f2-80c6-5d1f908b945e\",\"type\":\"VBar\"},{\"attributes\":{\"grid_line_color\":{\"value\":null},\"plot\":{\"id\":\"25526abb-141e-4772-b668-019c11f42f7a\",\"subtype\":\"Figure\",\"type\":\"Plot\"},\"ticker\":{\"id\":\"56d3351d-d695-4495-8c41-0836a1b12b17\",\"type\":\"CategoricalTicker\"}},\"id\":\"85b5c299-3822-4f72-862a-cb634abf4366\",\"type\":\"Grid\"}],\"root_ids\":[\"25526abb-141e-4772-b668-019c11f42f7a\"]},\"title\":\"Bokeh Application\",\"version\":\"0.12.14\"}};\n",
       "  var render_items = [{\"docid\":\"71dca878-a2c2-45e2-9ebb-c19cd076281e\",\"elementid\":\"5ca61488-83e4-48ed-b41b-e31c802a2c20\",\"modelid\":\"25526abb-141e-4772-b668-019c11f42f7a\"}];\n",
       "  root.Bokeh.embed.embed_items_notebook(docs_json, render_items);\n",
       "\n",
       "  }\n",
       "  if (root.Bokeh !== undefined) {\n",
       "    embed_document(root);\n",
       "  } else {\n",
       "    var attempts = 0;\n",
       "    var timer = setInterval(function(root) {\n",
       "      if (root.Bokeh !== undefined) {\n",
       "        embed_document(root);\n",
       "        clearInterval(timer);\n",
       "      }\n",
       "      attempts++;\n",
       "      if (attempts > 100) {\n",
       "        console.log(\"Bokeh: ERROR: Unable to run BokehJS code because BokehJS library is missing\")\n",
       "        clearInterval(timer);\n",
       "      }\n",
       "    }, 10, root)\n",
       "  }\n",
       "})(window);"
      ],
      "application/vnd.bokehjs_exec.v0+json": ""
     },
     "metadata": {
      "application/vnd.bokehjs_exec.v0+json": {
       "id": "25526abb-141e-4772-b668-019c11f42f7a"
      }
     },
     "output_type": "display_data"
    }
   ],
   "source": [
    "# Create list of colors denoting varying components of the bar\n",
    "shades = ['red', 'orange', 'yellow', 'green', 'blue']\n",
    "\n",
    "# Create figure object by specifizing dimensions, title, tools etc\n",
    "p1 = figure(x_range=social_media, plot_height=450, title=\"Social Media Analysis: Avg minutes spent by a user/day over years\", toolbar_location=None, tools=\"\")\n",
    "\n",
    "# Create a vertical stack of bar with the data pertaining to a level along with customizations\n",
    "p1.vbar_stack(years, x='social_media', width=0.75, color=shades, source=source, legend=[value(x) for x in years])\n",
    "p1.y_range.start = 0\n",
    "p1.x_range.range_padding = 0.1\n",
    "p1.xgrid.grid_line_color = None\n",
    "p1.axis.minor_tick_line_color = None\n",
    "p1.outline_line_color = None\n",
    "p1.legend.location = \"top_right\"\n",
    "p1.legend.orientation = \"horizontal\"\n",
    "\n",
    "# Display the plot\n",
    "show(p1)"
   ]
  },
  {
   "cell_type": "markdown",
   "metadata": {},
   "source": [
    "## Graph Plots"
   ]
  },
  {
   "cell_type": "markdown",
   "metadata": {},
   "source": [
    "Having learnt how to plot basic plots and how to play around with the tool options, let us now learn to plot some advanced plots - graphs. Graph Plots are a great way to understand relationships between different objects and are heavily used in analyzing social networks. \n",
    "\n",
    "Let us take one of the preloaded famous network graphs - Davis Southern Club Women preloaded in the networkx library which is an example of unipartite projections of a graph. We shall use a concentric circle based layout to make it look aesthetic and elegant. It will be easy to grasp and understand different items are connected using a plot as compared to a table spreadsheet which would have been impossible. Run the below cell to see the power of a graph plot with a neat layout"
   ]
  },
  {
   "cell_type": "code",
   "execution_count": 192,
   "metadata": {},
   "outputs": [
    {
     "data": {
      "text/html": [
       "\n",
       "<div class=\"bk-root\">\n",
       "    <div class=\"bk-plotdiv\" id=\"0b82e766-6512-4c30-b106-01117f184de0\"></div>\n",
       "</div>"
      ]
     },
     "metadata": {},
     "output_type": "display_data"
    },
    {
     "data": {
      "application/javascript": [
       "(function(root) {\n",
       "  function embed_document(root) {\n",
       "    \n",
       "  var docs_json = {\"73f81102-1607-412e-87cb-7b768e39c63a\":{\"roots\":{\"references\":[{\"attributes\":{},\"id\":\"8888cd8d-9d3b-4a31-9798-8e5f8c004d79\",\"type\":\"MultiLine\"},{\"attributes\":{\"graph_layout\":{\"Brenda Rogers\":[0.8314695954322815,0.5555702447891235],\"Charlotte McDowd\":[0.7071067690849304,0.7071067690849304],\"Dorothy Murchison\":[-0.9807853102684021,0.19509030878543854],\"E1\":[-0.9238795042037964,-0.3826834261417389],\"E10\":[0.5555700659751892,-0.831469714641571],\"E11\":[0.7071067094802856,-0.70710688829422],\"E12\":[0.8314695954322815,-0.5555703043937683],\"E13\":[0.9238795638084412,-0.3826834261417389],\"E14\":[0.9807853102684021,-0.19509023427963257],\"E2\":[-0.8314695358276367,-0.5555703043937683],\"E3\":[-0.7071068286895752,-0.7071067094802856],\"E4\":[-0.5555704236030579,-0.8314694762229919],\"E5\":[-0.38268357515335083,-0.9238795042037964],\"E6\":[-0.1950903683900833,-0.9807852506637573],\"E7\":[2.3659421088950694e-08,-1.0],\"E8\":[0.1950904279947281,-0.9807852506637573],\"E9\":[0.3826836049556732,-0.9238794445991516],\"Eleanor Nye\":[0.3826834261417389,0.9238795042037964],\"Evelyn Jefferson\":[1.0,-4.6566128730773926e-09],\"Flora Price\":[-0.9807853102684021,-0.19509024918079376],\"Frances Anderson\":[0.5555702447891235,0.8314695954322815],\"Helen Lloyd\":[-0.9238795042037964,0.38268348574638367],\"Katherina Rogers\":[-0.5555701851844788,0.8314696550369263],\"Laura Mandeville\":[0.9807852506637573,0.19509032368659973],\"Myra Liddel\":[-0.3826833963394165,0.9238795638084412],\"Nora Fayette\":[-0.8314696550369263,0.5555701851844788],\"Olivia Carleton\":[-1.0,-9.207938944655325e-08],\"Pearl Oglethorpe\":[0.1950903683900833,0.9807852506637573],\"Ruth DeSand\":[-3.197684605993345e-08,1.0],\"Sylvia Avondale\":[-0.7071067690849304,0.7071067690849304],\"Theresa Anderson\":[0.9238795042037964,0.3826834559440613],\"Verne Sanderson\":[-0.19509030878543854,0.9807852506637573]}},\"id\":\"59603612-4aea-4d0e-bd50-d5f99fbb1064\",\"type\":\"StaticLayoutProvider\"},{\"attributes\":{\"source\":{\"id\":\"29b3da8f-f99f-43c6-b7ee-5f7f1ec54c8b\",\"type\":\"ColumnDataSource\"}},\"id\":\"08aa4512-85a8-45a0-b751-c62bab64faca\",\"type\":\"CDSView\"},{\"attributes\":{},\"id\":\"b1bda496-ff0b-4661-ba63-62af4d43bf92\",\"type\":\"NodesOnly\"},{\"attributes\":{\"edge_renderer\":{\"id\":\"79296b25-ac5a-4ce3-8c6c-e364a0e02e22\",\"type\":\"GlyphRenderer\"},\"inspection_policy\":{\"id\":\"b1bda496-ff0b-4661-ba63-62af4d43bf92\",\"type\":\"NodesOnly\"},\"layout_provider\":{\"id\":\"59603612-4aea-4d0e-bd50-d5f99fbb1064\",\"type\":\"StaticLayoutProvider\"},\"node_renderer\":{\"id\":\"169682d5-c731-406d-b5c4-1e0f0ccb2479\",\"type\":\"GlyphRenderer\"},\"selection_policy\":{\"id\":\"b45331b0-ba1c-4d2e-acdc-ee405e241cec\",\"type\":\"NodesOnly\"}},\"id\":\"aad89a18-370f-46d1-9e92-1a07b89a4658\",\"type\":\"GraphRenderer\"},{\"attributes\":{\"callback\":null,\"column_names\":[\"index\"],\"data\":{\"index\":[\"Evelyn Jefferson\",\"Laura Mandeville\",\"Theresa Anderson\",\"Brenda Rogers\",\"Charlotte McDowd\",\"Frances Anderson\",\"Eleanor Nye\",\"Pearl Oglethorpe\",\"Ruth DeSand\",\"Verne Sanderson\",\"Myra Liddel\",\"Katherina Rogers\",\"Sylvia Avondale\",\"Nora Fayette\",\"Helen Lloyd\",\"Dorothy Murchison\",\"Olivia Carleton\",\"Flora Price\",\"E1\",\"E2\",\"E3\",\"E4\",\"E5\",\"E6\",\"E7\",\"E8\",\"E9\",\"E10\",\"E11\",\"E12\",\"E13\",\"E14\"]}},\"id\":\"9ec87535-4341-4f95-bf93-32b17414d0f7\",\"type\":\"ColumnDataSource\"},{\"attributes\":{},\"id\":\"dddec27d-4c48-4b1a-b931-2af302c25ee3\",\"type\":\"LinearScale\"},{\"attributes\":{\"source\":{\"id\":\"9ec87535-4341-4f95-bf93-32b17414d0f7\",\"type\":\"ColumnDataSource\"}},\"id\":\"e1fb1350-6105-4960-8e4c-f56f78d87262\",\"type\":\"CDSView\"},{\"attributes\":{\"data_source\":{\"id\":\"9ec87535-4341-4f95-bf93-32b17414d0f7\",\"type\":\"ColumnDataSource\"},\"glyph\":{\"id\":\"db4413fb-de0d-4493-a3eb-c34882de30a4\",\"type\":\"Circle\"},\"hover_glyph\":null,\"muted_glyph\":null,\"view\":{\"id\":\"e1fb1350-6105-4960-8e4c-f56f78d87262\",\"type\":\"CDSView\"}},\"id\":\"169682d5-c731-406d-b5c4-1e0f0ccb2479\",\"type\":\"GlyphRenderer\"},{\"attributes\":{\"callback\":null,\"end\":1.2,\"start\":-1.2},\"id\":\"1ac52c13-104a-4136-9992-0e0d050a9ae5\",\"type\":\"Range1d\"},{\"attributes\":{\"callback\":null,\"column_names\":[\"start\",\"end\"],\"data\":{\"end\":[\"E1\",\"E2\",\"E3\",\"E4\",\"E5\",\"E6\",\"E8\",\"E9\",\"E1\",\"E2\",\"E3\",\"E5\",\"E6\",\"E7\",\"E8\",\"E2\",\"E3\",\"E4\",\"E5\",\"E6\",\"E7\",\"E8\",\"E9\",\"E1\",\"E3\",\"E4\",\"E5\",\"E6\",\"E7\",\"E8\",\"E3\",\"E4\",\"E5\",\"E7\",\"E3\",\"E5\",\"E6\",\"E8\",\"E5\",\"E6\",\"E7\",\"E8\",\"E6\",\"E8\",\"E9\",\"E5\",\"E7\",\"E8\",\"E9\",\"E7\",\"E8\",\"E9\",\"E12\",\"E8\",\"E9\",\"E10\",\"E12\",\"E8\",\"E9\",\"E10\",\"E12\",\"E13\",\"E14\",\"E7\",\"E8\",\"E9\",\"E10\",\"E12\",\"E13\",\"E14\",\"E6\",\"E7\",\"E9\",\"E10\",\"E11\",\"E12\",\"E13\",\"E14\",\"E7\",\"E8\",\"E10\",\"E11\",\"E12\",\"E8\",\"E9\",\"E9\",\"E11\",\"E9\",\"E11\"],\"start\":[\"Evelyn Jefferson\",\"Evelyn Jefferson\",\"Evelyn Jefferson\",\"Evelyn Jefferson\",\"Evelyn Jefferson\",\"Evelyn Jefferson\",\"Evelyn Jefferson\",\"Evelyn Jefferson\",\"Laura Mandeville\",\"Laura Mandeville\",\"Laura Mandeville\",\"Laura Mandeville\",\"Laura Mandeville\",\"Laura Mandeville\",\"Laura Mandeville\",\"Theresa Anderson\",\"Theresa Anderson\",\"Theresa Anderson\",\"Theresa Anderson\",\"Theresa Anderson\",\"Theresa Anderson\",\"Theresa Anderson\",\"Theresa Anderson\",\"Brenda Rogers\",\"Brenda Rogers\",\"Brenda Rogers\",\"Brenda Rogers\",\"Brenda Rogers\",\"Brenda Rogers\",\"Brenda Rogers\",\"Charlotte McDowd\",\"Charlotte McDowd\",\"Charlotte McDowd\",\"Charlotte McDowd\",\"Frances Anderson\",\"Frances Anderson\",\"Frances Anderson\",\"Frances Anderson\",\"Eleanor Nye\",\"Eleanor Nye\",\"Eleanor Nye\",\"Eleanor Nye\",\"Pearl Oglethorpe\",\"Pearl Oglethorpe\",\"Pearl Oglethorpe\",\"Ruth DeSand\",\"Ruth DeSand\",\"Ruth DeSand\",\"Ruth DeSand\",\"Verne Sanderson\",\"Verne Sanderson\",\"Verne Sanderson\",\"Verne Sanderson\",\"Myra Liddel\",\"Myra Liddel\",\"Myra Liddel\",\"Myra Liddel\",\"Katherina Rogers\",\"Katherina Rogers\",\"Katherina Rogers\",\"Katherina Rogers\",\"Katherina Rogers\",\"Katherina Rogers\",\"Sylvia Avondale\",\"Sylvia Avondale\",\"Sylvia Avondale\",\"Sylvia Avondale\",\"Sylvia Avondale\",\"Sylvia Avondale\",\"Sylvia Avondale\",\"Nora Fayette\",\"Nora Fayette\",\"Nora Fayette\",\"Nora Fayette\",\"Nora Fayette\",\"Nora Fayette\",\"Nora Fayette\",\"Nora Fayette\",\"Helen Lloyd\",\"Helen Lloyd\",\"Helen Lloyd\",\"Helen Lloyd\",\"Helen Lloyd\",\"Dorothy Murchison\",\"Dorothy Murchison\",\"Olivia Carleton\",\"Olivia Carleton\",\"Flora Price\",\"Flora Price\"]}},\"id\":\"29b3da8f-f99f-43c6-b7ee-5f7f1ec54c8b\",\"type\":\"ColumnDataSource\"},{\"attributes\":{\"plot\":null,\"text\":\"\"},\"id\":\"053f39ea-25ea-4a2c-8c39-15261e15e7b5\",\"type\":\"Title\"},{\"attributes\":{\"data_source\":{\"id\":\"29b3da8f-f99f-43c6-b7ee-5f7f1ec54c8b\",\"type\":\"ColumnDataSource\"},\"glyph\":{\"id\":\"8888cd8d-9d3b-4a31-9798-8e5f8c004d79\",\"type\":\"MultiLine\"},\"hover_glyph\":null,\"muted_glyph\":null,\"view\":{\"id\":\"08aa4512-85a8-45a0-b751-c62bab64faca\",\"type\":\"CDSView\"}},\"id\":\"79296b25-ac5a-4ce3-8c6c-e364a0e02e22\",\"type\":\"GlyphRenderer\"},{\"attributes\":{},\"id\":\"db4413fb-de0d-4493-a3eb-c34882de30a4\",\"type\":\"Circle\"},{\"attributes\":{},\"id\":\"72fae802-4dec-4af5-beb3-59038e5a70ad\",\"type\":\"LinearScale\"},{\"attributes\":{\"callback\":null,\"end\":1.2,\"start\":-1.2},\"id\":\"1d556e74-7296-4c1a-9fb3-132339fda3b2\",\"type\":\"Range1d\"},{\"attributes\":{\"active_drag\":\"auto\",\"active_inspect\":\"auto\",\"active_scroll\":\"auto\",\"active_tap\":\"auto\"},\"id\":\"ba6a9b9c-0c7c-4875-99e5-2742eb5b90e1\",\"type\":\"Toolbar\"},{\"attributes\":{\"renderers\":[{\"id\":\"aad89a18-370f-46d1-9e92-1a07b89a4658\",\"type\":\"GraphRenderer\"}],\"title\":{\"id\":\"053f39ea-25ea-4a2c-8c39-15261e15e7b5\",\"type\":\"Title\"},\"toolbar\":{\"id\":\"ba6a9b9c-0c7c-4875-99e5-2742eb5b90e1\",\"type\":\"Toolbar\"},\"x_range\":{\"id\":\"1d556e74-7296-4c1a-9fb3-132339fda3b2\",\"type\":\"Range1d\"},\"x_scale\":{\"id\":\"72fae802-4dec-4af5-beb3-59038e5a70ad\",\"type\":\"LinearScale\"},\"y_range\":{\"id\":\"1ac52c13-104a-4136-9992-0e0d050a9ae5\",\"type\":\"Range1d\"},\"y_scale\":{\"id\":\"dddec27d-4c48-4b1a-b931-2af302c25ee3\",\"type\":\"LinearScale\"}},\"id\":\"c7af8dac-b100-48e7-84c8-58abe139e94c\",\"type\":\"Plot\"},{\"attributes\":{},\"id\":\"b45331b0-ba1c-4d2e-acdc-ee405e241cec\",\"type\":\"NodesOnly\"}],\"root_ids\":[\"c7af8dac-b100-48e7-84c8-58abe139e94c\"]},\"title\":\"Bokeh Application\",\"version\":\"0.12.14\"}};\n",
       "  var render_items = [{\"docid\":\"73f81102-1607-412e-87cb-7b768e39c63a\",\"elementid\":\"0b82e766-6512-4c30-b106-01117f184de0\",\"modelid\":\"c7af8dac-b100-48e7-84c8-58abe139e94c\"}];\n",
       "  root.Bokeh.embed.embed_items_notebook(docs_json, render_items);\n",
       "\n",
       "  }\n",
       "  if (root.Bokeh !== undefined) {\n",
       "    embed_document(root);\n",
       "  } else {\n",
       "    var attempts = 0;\n",
       "    var timer = setInterval(function(root) {\n",
       "      if (root.Bokeh !== undefined) {\n",
       "        embed_document(root);\n",
       "        clearInterval(timer);\n",
       "      }\n",
       "      attempts++;\n",
       "      if (attempts > 100) {\n",
       "        console.log(\"Bokeh: ERROR: Unable to run BokehJS code because BokehJS library is missing\")\n",
       "        clearInterval(timer);\n",
       "      }\n",
       "    }, 10, root)\n",
       "  }\n",
       "})(window);"
      ],
      "application/vnd.bokehjs_exec.v0+json": ""
     },
     "metadata": {
      "application/vnd.bokehjs_exec.v0+json": {
       "id": "c7af8dac-b100-48e7-84c8-58abe139e94c"
      }
     },
     "output_type": "display_data"
    }
   ],
   "source": [
    "# Load the Davis Southern Club data\n",
    "G = nx.davis_southern_women_graph()\n",
    "\n",
    "# Create a basic plot object with the x,y ranges\n",
    "plot = Plot(x_range=Range1d(-1.2,1.2), y_range=Range1d(-1.2,1.2))\n",
    "\n",
    "# Decide on a layout from the the networkx library and plot with customizations such as center, scale etc.\n",
    "graph = from_networkx(G, nx.shell_layout, scale=1, center=(0,0))\n",
    "plot.renderers.append(graph)\n",
    "show(plot)"
   ]
  },
  {
   "cell_type": "markdown",
   "metadata": {},
   "source": [
    "## Interactive"
   ]
  },
  {
   "cell_type": "markdown",
   "metadata": {},
   "source": [
    "The problem with the above graph plot is that it is tough to see the connections between items as we keep adding more and more items and edges. It starts becoming a mess from the orignal neat construction. Moreover, if the layout is different then it is impossible to identify the relationships. \n",
    "\n",
    "Bokeh enables the user to select, highlight and hover over an interested item. Bokeh allows users to every type of plot interactive by adding renderers and interactive elements. The graph plot can be made interactive by adding node and edge renderers along with hovering capabilities. Let us recreate the Davis Southern Club Women by giving it the mentioned features:"
   ]
  },
  {
   "cell_type": "code",
   "execution_count": 193,
   "metadata": {},
   "outputs": [
    {
     "data": {
      "text/html": [
       "\n",
       "<div class=\"bk-root\">\n",
       "    <div class=\"bk-plotdiv\" id=\"11591c10-4c8d-42de-9bd9-4cc81a5ba565\"></div>\n",
       "</div>"
      ]
     },
     "metadata": {},
     "output_type": "display_data"
    },
    {
     "data": {
      "application/javascript": [
       "(function(root) {\n",
       "  function embed_document(root) {\n",
       "    \n",
       "  var docs_json = {\"d0521115-7a31-4262-bd9e-e8278f88437a\":{\"roots\":{\"references\":[{\"attributes\":{\"callback\":null,\"end\":1.2,\"start\":-1.2},\"id\":\"70dd8e1e-66a2-40c0-9df1-271f20ca08f9\",\"type\":\"Range1d\"},{\"attributes\":{},\"id\":\"2c70fad5-95f3-4dbf-a5b8-9fa1ad5d4b24\",\"type\":\"NodesOnly\"},{\"attributes\":{\"callback\":null},\"id\":\"aecd4041-e78f-445a-acd7-83377bd7e374\",\"type\":\"HoverTool\"},{\"attributes\":{\"active_drag\":\"auto\",\"active_inspect\":\"auto\",\"active_scroll\":\"auto\",\"active_tap\":\"auto\",\"tools\":[{\"id\":\"aecd4041-e78f-445a-acd7-83377bd7e374\",\"type\":\"HoverTool\"}]},\"id\":\"37a96c57-3b35-4e9f-9957-5684d5fa3bf6\",\"type\":\"Toolbar\"},{\"attributes\":{\"line_alpha\":{\"value\":0.7},\"line_color\":{\"value\":\"lightblue\"},\"line_width\":{\"value\":2}},\"id\":\"22890d26-ee7f-4e41-ae2b-9d2492c9c6de\",\"type\":\"MultiLine\"},{\"attributes\":{\"callback\":null,\"end\":1.2,\"start\":-1.2},\"id\":\"10bbe006-95a2-4e86-959c-2328846aa78a\",\"type\":\"Range1d\"},{\"attributes\":{\"renderers\":[{\"id\":\"9eecda70-87cf-42a6-bbf6-aa48a65a5b12\",\"type\":\"GraphRenderer\"}],\"title\":{\"id\":\"34b01147-bad0-4598-ae35-f346183d96cb\",\"type\":\"Title\"},\"toolbar\":{\"id\":\"37a96c57-3b35-4e9f-9957-5684d5fa3bf6\",\"type\":\"Toolbar\"},\"x_range\":{\"id\":\"70dd8e1e-66a2-40c0-9df1-271f20ca08f9\",\"type\":\"Range1d\"},\"x_scale\":{\"id\":\"e8a7e4e6-b766-419a-9211-2aa53b1db76b\",\"type\":\"LinearScale\"},\"y_range\":{\"id\":\"10bbe006-95a2-4e86-959c-2328846aa78a\",\"type\":\"Range1d\"},\"y_scale\":{\"id\":\"69ff4ace-ab68-4f10-b937-2505effa3dd7\",\"type\":\"LinearScale\"}},\"id\":\"916c06a5-bcf3-4160-a090-7f2d0a2ef8ed\",\"type\":\"Plot\"},{\"attributes\":{\"edge_renderer\":{\"id\":\"162d7ddd-cb80-4587-a55e-ba4a56ab910e\",\"type\":\"GlyphRenderer\"},\"inspection_policy\":{\"id\":\"47a9dc6b-4ae8-453b-9910-515ceb2bb228\",\"type\":\"NodesAndLinkedEdges\"},\"layout_provider\":{\"id\":\"418a9090-f36f-4c98-b5ed-98cac8bcd5bb\",\"type\":\"StaticLayoutProvider\"},\"node_renderer\":{\"id\":\"0637b3d7-b224-43f4-a431-7663ba04654a\",\"type\":\"GlyphRenderer\"},\"selection_policy\":{\"id\":\"2c70fad5-95f3-4dbf-a5b8-9fa1ad5d4b24\",\"type\":\"NodesOnly\"}},\"id\":\"9eecda70-87cf-42a6-bbf6-aa48a65a5b12\",\"type\":\"GraphRenderer\"},{\"attributes\":{\"plot\":null,\"text\":\"\"},\"id\":\"34b01147-bad0-4598-ae35-f346183d96cb\",\"type\":\"Title\"},{\"attributes\":{\"fill_color\":{\"value\":\"red\"},\"size\":{\"units\":\"screen\",\"value\":15}},\"id\":\"2cbac8a3-2a04-42b9-a122-9198ba15c1a7\",\"type\":\"Circle\"},{\"attributes\":{\"fill_color\":{\"value\":\"red\"},\"size\":{\"units\":\"screen\",\"value\":15}},\"id\":\"f82d24a9-041d-4a6b-abfc-5641a991bc5d\",\"type\":\"Circle\"},{\"attributes\":{\"data_source\":{\"id\":\"17b34a80-796c-43be-8f3f-747ff9ec446e\",\"type\":\"ColumnDataSource\"},\"glyph\":{\"id\":\"f82d24a9-041d-4a6b-abfc-5641a991bc5d\",\"type\":\"Circle\"},\"hover_glyph\":{\"id\":\"2cbac8a3-2a04-42b9-a122-9198ba15c1a7\",\"type\":\"Circle\"},\"muted_glyph\":null,\"view\":{\"id\":\"8a3fe075-d112-4843-add3-f0ca55df9d8f\",\"type\":\"CDSView\"}},\"id\":\"0637b3d7-b224-43f4-a431-7663ba04654a\",\"type\":\"GlyphRenderer\"},{\"attributes\":{\"callback\":null,\"column_names\":[\"start\",\"end\"],\"data\":{\"end\":[\"E1\",\"E2\",\"E3\",\"E4\",\"E5\",\"E6\",\"E8\",\"E9\",\"E1\",\"E2\",\"E3\",\"E5\",\"E6\",\"E7\",\"E8\",\"E2\",\"E3\",\"E4\",\"E5\",\"E6\",\"E7\",\"E8\",\"E9\",\"E1\",\"E3\",\"E4\",\"E5\",\"E6\",\"E7\",\"E8\",\"E3\",\"E4\",\"E5\",\"E7\",\"E3\",\"E5\",\"E6\",\"E8\",\"E5\",\"E6\",\"E7\",\"E8\",\"E6\",\"E8\",\"E9\",\"E5\",\"E7\",\"E8\",\"E9\",\"E7\",\"E8\",\"E9\",\"E12\",\"E8\",\"E9\",\"E10\",\"E12\",\"E8\",\"E9\",\"E10\",\"E12\",\"E13\",\"E14\",\"E7\",\"E8\",\"E9\",\"E10\",\"E12\",\"E13\",\"E14\",\"E6\",\"E7\",\"E9\",\"E10\",\"E11\",\"E12\",\"E13\",\"E14\",\"E7\",\"E8\",\"E10\",\"E11\",\"E12\",\"E8\",\"E9\",\"E9\",\"E11\",\"E9\",\"E11\"],\"start\":[\"Evelyn Jefferson\",\"Evelyn Jefferson\",\"Evelyn Jefferson\",\"Evelyn Jefferson\",\"Evelyn Jefferson\",\"Evelyn Jefferson\",\"Evelyn Jefferson\",\"Evelyn Jefferson\",\"Laura Mandeville\",\"Laura Mandeville\",\"Laura Mandeville\",\"Laura Mandeville\",\"Laura Mandeville\",\"Laura Mandeville\",\"Laura Mandeville\",\"Theresa Anderson\",\"Theresa Anderson\",\"Theresa Anderson\",\"Theresa Anderson\",\"Theresa Anderson\",\"Theresa Anderson\",\"Theresa Anderson\",\"Theresa Anderson\",\"Brenda Rogers\",\"Brenda Rogers\",\"Brenda Rogers\",\"Brenda Rogers\",\"Brenda Rogers\",\"Brenda Rogers\",\"Brenda Rogers\",\"Charlotte McDowd\",\"Charlotte McDowd\",\"Charlotte McDowd\",\"Charlotte McDowd\",\"Frances Anderson\",\"Frances Anderson\",\"Frances Anderson\",\"Frances Anderson\",\"Eleanor Nye\",\"Eleanor Nye\",\"Eleanor Nye\",\"Eleanor Nye\",\"Pearl Oglethorpe\",\"Pearl Oglethorpe\",\"Pearl Oglethorpe\",\"Ruth DeSand\",\"Ruth DeSand\",\"Ruth DeSand\",\"Ruth DeSand\",\"Verne Sanderson\",\"Verne Sanderson\",\"Verne Sanderson\",\"Verne Sanderson\",\"Myra Liddel\",\"Myra Liddel\",\"Myra Liddel\",\"Myra Liddel\",\"Katherina Rogers\",\"Katherina Rogers\",\"Katherina Rogers\",\"Katherina Rogers\",\"Katherina Rogers\",\"Katherina Rogers\",\"Sylvia Avondale\",\"Sylvia Avondale\",\"Sylvia Avondale\",\"Sylvia Avondale\",\"Sylvia Avondale\",\"Sylvia Avondale\",\"Sylvia Avondale\",\"Nora Fayette\",\"Nora Fayette\",\"Nora Fayette\",\"Nora Fayette\",\"Nora Fayette\",\"Nora Fayette\",\"Nora Fayette\",\"Nora Fayette\",\"Helen Lloyd\",\"Helen Lloyd\",\"Helen Lloyd\",\"Helen Lloyd\",\"Helen Lloyd\",\"Dorothy Murchison\",\"Dorothy Murchison\",\"Olivia Carleton\",\"Olivia Carleton\",\"Flora Price\",\"Flora Price\"]}},\"id\":\"856a6fbf-0141-4793-94c7-67679e3cad18\",\"type\":\"ColumnDataSource\"},{\"attributes\":{\"callback\":null,\"column_names\":[\"index\"],\"data\":{\"index\":[\"Evelyn Jefferson\",\"Laura Mandeville\",\"Theresa Anderson\",\"Brenda Rogers\",\"Charlotte McDowd\",\"Frances Anderson\",\"Eleanor Nye\",\"Pearl Oglethorpe\",\"Ruth DeSand\",\"Verne Sanderson\",\"Myra Liddel\",\"Katherina Rogers\",\"Sylvia Avondale\",\"Nora Fayette\",\"Helen Lloyd\",\"Dorothy Murchison\",\"Olivia Carleton\",\"Flora Price\",\"E1\",\"E2\",\"E3\",\"E4\",\"E5\",\"E6\",\"E7\",\"E8\",\"E9\",\"E10\",\"E11\",\"E12\",\"E13\",\"E14\"]}},\"id\":\"17b34a80-796c-43be-8f3f-747ff9ec446e\",\"type\":\"ColumnDataSource\"},{\"attributes\":{\"source\":{\"id\":\"17b34a80-796c-43be-8f3f-747ff9ec446e\",\"type\":\"ColumnDataSource\"}},\"id\":\"8a3fe075-d112-4843-add3-f0ca55df9d8f\",\"type\":\"CDSView\"},{\"attributes\":{},\"id\":\"69ff4ace-ab68-4f10-b937-2505effa3dd7\",\"type\":\"LinearScale\"},{\"attributes\":{\"source\":{\"id\":\"856a6fbf-0141-4793-94c7-67679e3cad18\",\"type\":\"ColumnDataSource\"}},\"id\":\"c0bac6d5-4506-4420-9717-a7712b5cbb03\",\"type\":\"CDSView\"},{\"attributes\":{},\"id\":\"47a9dc6b-4ae8-453b-9910-515ceb2bb228\",\"type\":\"NodesAndLinkedEdges\"},{\"attributes\":{\"graph_layout\":{\"Brenda Rogers\":[0.8314695954322815,0.5555702447891235],\"Charlotte McDowd\":[0.7071067690849304,0.7071067690849304],\"Dorothy Murchison\":[-0.9807853102684021,0.19509030878543854],\"E1\":[-0.9238795042037964,-0.3826834261417389],\"E10\":[0.5555700659751892,-0.831469714641571],\"E11\":[0.7071067094802856,-0.70710688829422],\"E12\":[0.8314695954322815,-0.5555703043937683],\"E13\":[0.9238795638084412,-0.3826834261417389],\"E14\":[0.9807853102684021,-0.19509023427963257],\"E2\":[-0.8314695358276367,-0.5555703043937683],\"E3\":[-0.7071068286895752,-0.7071067094802856],\"E4\":[-0.5555704236030579,-0.8314694762229919],\"E5\":[-0.38268357515335083,-0.9238795042037964],\"E6\":[-0.1950903683900833,-0.9807852506637573],\"E7\":[2.3659421088950694e-08,-1.0],\"E8\":[0.1950904279947281,-0.9807852506637573],\"E9\":[0.3826836049556732,-0.9238794445991516],\"Eleanor Nye\":[0.3826834261417389,0.9238795042037964],\"Evelyn Jefferson\":[1.0,-4.6566128730773926e-09],\"Flora Price\":[-0.9807853102684021,-0.19509024918079376],\"Frances Anderson\":[0.5555702447891235,0.8314695954322815],\"Helen Lloyd\":[-0.9238795042037964,0.38268348574638367],\"Katherina Rogers\":[-0.5555701851844788,0.8314696550369263],\"Laura Mandeville\":[0.9807852506637573,0.19509032368659973],\"Myra Liddel\":[-0.3826833963394165,0.9238795638084412],\"Nora Fayette\":[-0.8314696550369263,0.5555701851844788],\"Olivia Carleton\":[-1.0,-9.207938944655325e-08],\"Pearl Oglethorpe\":[0.1950903683900833,0.9807852506637573],\"Ruth DeSand\":[-3.197684605993345e-08,1.0],\"Sylvia Avondale\":[-0.7071067690849304,0.7071067690849304],\"Theresa Anderson\":[0.9238795042037964,0.3826834559440613],\"Verne Sanderson\":[-0.19509030878543854,0.9807852506637573]}},\"id\":\"418a9090-f36f-4c98-b5ed-98cac8bcd5bb\",\"type\":\"StaticLayoutProvider\"},{\"attributes\":{},\"id\":\"e8a7e4e6-b766-419a-9211-2aa53b1db76b\",\"type\":\"LinearScale\"},{\"attributes\":{\"data_source\":{\"id\":\"856a6fbf-0141-4793-94c7-67679e3cad18\",\"type\":\"ColumnDataSource\"},\"glyph\":{\"id\":\"22890d26-ee7f-4e41-ae2b-9d2492c9c6de\",\"type\":\"MultiLine\"},\"hover_glyph\":{\"id\":\"4da8b610-fb62-467c-92a5-7f942d338326\",\"type\":\"MultiLine\"},\"muted_glyph\":null,\"view\":{\"id\":\"c0bac6d5-4506-4420-9717-a7712b5cbb03\",\"type\":\"CDSView\"}},\"id\":\"162d7ddd-cb80-4587-a55e-ba4a56ab910e\",\"type\":\"GlyphRenderer\"},{\"attributes\":{\"line_color\":{\"value\":\"blue\"},\"line_width\":{\"value\":3}},\"id\":\"4da8b610-fb62-467c-92a5-7f942d338326\",\"type\":\"MultiLine\"}],\"root_ids\":[\"916c06a5-bcf3-4160-a090-7f2d0a2ef8ed\"]},\"title\":\"Bokeh Application\",\"version\":\"0.12.14\"}};\n",
       "  var render_items = [{\"docid\":\"d0521115-7a31-4262-bd9e-e8278f88437a\",\"elementid\":\"11591c10-4c8d-42de-9bd9-4cc81a5ba565\",\"modelid\":\"916c06a5-bcf3-4160-a090-7f2d0a2ef8ed\"}];\n",
       "  root.Bokeh.embed.embed_items_notebook(docs_json, render_items);\n",
       "\n",
       "  }\n",
       "  if (root.Bokeh !== undefined) {\n",
       "    embed_document(root);\n",
       "  } else {\n",
       "    var attempts = 0;\n",
       "    var timer = setInterval(function(root) {\n",
       "      if (root.Bokeh !== undefined) {\n",
       "        embed_document(root);\n",
       "        clearInterval(timer);\n",
       "      }\n",
       "      attempts++;\n",
       "      if (attempts > 100) {\n",
       "        console.log(\"Bokeh: ERROR: Unable to run BokehJS code because BokehJS library is missing\")\n",
       "        clearInterval(timer);\n",
       "      }\n",
       "    }, 10, root)\n",
       "  }\n",
       "})(window);"
      ],
      "application/vnd.bokehjs_exec.v0+json": ""
     },
     "metadata": {
      "application/vnd.bokehjs_exec.v0+json": {
       "id": "916c06a5-bcf3-4160-a090-7f2d0a2ef8ed"
      }
     },
     "output_type": "display_data"
    }
   ],
   "source": [
    "# Load the Davis Southern Club data\n",
    "G = nx.davis_southern_women_graph()\n",
    "\n",
    "# Create a basic plot object with the x,y ranges, layout and other customizations\n",
    "plot = Plot(x_range=Range1d(-1.2,1.2), y_range=Range1d(-1.2,1.2))\n",
    "graph = from_networkx(G, nx.shell_layout, scale=1, center=(0,0))\n",
    "\n",
    "# To make it interactive, we add renderers.glyph\n",
    "# Add customizations of how renderers are displayed along with how they will act when provided with hovering features\n",
    "plot.renderers.append(graph)\n",
    "graph.node_renderer.glyph = Circle(size=15, fill_color='red')\n",
    "graph.edge_renderer.glyph = MultiLine(line_color=\"lightblue\", line_alpha=0.7, line_width=2)\n",
    "graph.node_renderer.hover_glyph = Circle(size=15, fill_color='red')\n",
    "graph.edge_renderer.hover_glyph = MultiLine(line_color='blue', line_width=3)\n",
    "graph.inspection_policy = NodesAndLinkedEdges()\n",
    "plot.add_tools(HoverTool())\n",
    "show(plot)"
   ]
  },
  {
   "cell_type": "markdown",
   "metadata": {},
   "source": [
    "## Widgets"
   ]
  },
  {
   "cell_type": "markdown",
   "metadata": {},
   "source": [
    "Widgets are HTML objects such as filters, dropdowns, radio buttons, sliders which help with selections. Bokeh allows users to create graphs dynamic and interative by adding single or multiple widgets. These are put together in a widget box to ensure they work together using the widgetbox().\n",
    "\n",
    "The layout functions shall enable you to arrange the plots in an orderly mannner along with the placement of the widgetbox. This can be done by using the row() and column() calls to decide if we want it in row order or column order arrangement. Another important guideline to remember is to make sure that all the objects of the row or column are of the same size.\n",
    "\n",
    "Let us take an example of a widgetbox which contains a dropdown to select a function along with 3 sliders which help modify the selected function in terms of amplitude, width and phase. Run the below cell and play around with the widget box to see how the graph changes:\n"
   ]
  },
  {
   "cell_type": "code",
   "execution_count": 194,
   "metadata": {},
   "outputs": [],
   "source": [
    "# Load x,y range values and function to be plotted\n",
    "x = np.linspace(-10, 10, 100)\n",
    "y = 5*np.sinc(x)\n",
    "\n",
    "# Create figure object by specifizing dimensions, title, tools etc\n",
    "p = figure(title=\"Example of Plots using Widgets\", plot_height=300, plot_width=500, y_range=(-20,20))\n",
    "r = p.line(x, y, color=\"blue\", line_width=4)"
   ]
  },
  {
   "cell_type": "code",
   "execution_count": 195,
   "metadata": {},
   "outputs": [],
   "source": [
    "# Write update function to display selected function along with desired parameters\n",
    "def update(f, w=1, A=5, phi=0):\n",
    "    if f == \"sinc\": \n",
    "        func = np.sinc\n",
    "        r.data_source.data['y'] = A * func(w * x + phi)\n",
    "    elif f == \"bessel\":  \n",
    "        r.data_source.data['y'] = 5 * A * spl.jv(2,w*x + phi) \n",
    "    elif f == \"sin\": \n",
    "        func = np.sin\n",
    "        r.data_source.data['y'] = A * func(w * x + phi)\n",
    "    elif f == \"cos\": \n",
    "        func = np.tan\n",
    "        r.data_source.data['y'] = A * func(w * x + phi)\n",
    "    elif f == \"tan\": \n",
    "        func = np.tan\n",
    "        r.data_source.data['y'] = A * func(w * x + phi)\n",
    "    elif f == \"sinh\": \n",
    "        func = np.sinh\n",
    "        r.data_source.data['y'] = A * func(w * x + phi)\n",
    "    elif f == \"cosh\": \n",
    "        func = np.cosh\n",
    "        r.data_source.data['y'] = A/10 * func(w * x + phi)\n",
    "    elif f == \"tanh\": \n",
    "        func = np.tanh\n",
    "        r.data_source.data['y'] = A * func(w * x + phi)\n",
    "    push_notebook()"
   ]
  },
  {
   "cell_type": "code",
   "execution_count": 196,
   "metadata": {},
   "outputs": [
    {
     "data": {
      "text/html": [
       "\n",
       "<div class=\"bk-root\">\n",
       "    <div class=\"bk-plotdiv\" id=\"e53e7293-ca10-498a-9df2-593d9d459cab\"></div>\n",
       "</div>"
      ]
     },
     "metadata": {},
     "output_type": "display_data"
    },
    {
     "data": {
      "application/javascript": [
       "(function(root) {\n",
       "  function embed_document(root) {\n",
       "    \n",
       "  var docs_json = {\"2b7b6246-8b6d-4537-8f38-c5ddbdf79baf\":{\"roots\":{\"references\":[{\"attributes\":{\"callback\":null,\"end\":20,\"start\":-20},\"id\":\"48161d8f-fb3e-4c57-89f6-1a34ad25c385\",\"type\":\"Range1d\"},{\"attributes\":{},\"id\":\"e33541d9-bd20-4727-8476-9129897e0173\",\"type\":\"LinearScale\"},{\"attributes\":{\"callback\":null},\"id\":\"d222f51e-bf19-46a0-931e-6311dc65b2ac\",\"type\":\"DataRange1d\"},{\"attributes\":{},\"id\":\"2074bb69-1338-47e1-90c5-bc5ce01b702a\",\"type\":\"HelpTool\"},{\"attributes\":{\"below\":[{\"id\":\"f91158d7-180c-43f0-bc3b-294c5f4860c0\",\"type\":\"LinearAxis\"}],\"left\":[{\"id\":\"d32632d3-8735-4ffe-a2c3-c1267b2cfa8b\",\"type\":\"LinearAxis\"}],\"plot_height\":300,\"plot_width\":500,\"renderers\":[{\"id\":\"f91158d7-180c-43f0-bc3b-294c5f4860c0\",\"type\":\"LinearAxis\"},{\"id\":\"d281f6b9-31a9-46fe-a92c-82f12fbd2e0d\",\"type\":\"Grid\"},{\"id\":\"d32632d3-8735-4ffe-a2c3-c1267b2cfa8b\",\"type\":\"LinearAxis\"},{\"id\":\"40716a23-be35-405d-b1b4-6a6c5fbb21cf\",\"type\":\"Grid\"},{\"id\":\"b47d1f7d-0d4a-4e96-94d9-862288b972ad\",\"type\":\"BoxAnnotation\"},{\"id\":\"5f28bd6d-e9c6-4d0d-a43e-fc3801a580a8\",\"type\":\"GlyphRenderer\"}],\"title\":{\"id\":\"3bcdd3c6-eab2-4963-8d75-d43ac1c5b60e\",\"type\":\"Title\"},\"toolbar\":{\"id\":\"d880e933-3e45-46cf-93fb-45191e47aa05\",\"type\":\"Toolbar\"},\"x_range\":{\"id\":\"d222f51e-bf19-46a0-931e-6311dc65b2ac\",\"type\":\"DataRange1d\"},\"x_scale\":{\"id\":\"4e3f17d8-6736-469e-b5b9-262252f705d0\",\"type\":\"LinearScale\"},\"y_range\":{\"id\":\"48161d8f-fb3e-4c57-89f6-1a34ad25c385\",\"type\":\"Range1d\"},\"y_scale\":{\"id\":\"e33541d9-bd20-4727-8476-9129897e0173\",\"type\":\"LinearScale\"}},\"id\":\"f24bc526-50a3-45a5-b7c7-02741aa717e2\",\"subtype\":\"Figure\",\"type\":\"Plot\"},{\"attributes\":{\"data_source\":{\"id\":\"eb3f85e4-53b3-4ef3-a83f-a8e8a1a5c936\",\"type\":\"ColumnDataSource\"},\"glyph\":{\"id\":\"b13919a0-68bb-4f6c-a313-9f1a1da23710\",\"type\":\"Line\"},\"hover_glyph\":null,\"muted_glyph\":null,\"nonselection_glyph\":{\"id\":\"8c589c74-88bc-4560-a95a-5280171e0499\",\"type\":\"Line\"},\"selection_glyph\":null,\"view\":{\"id\":\"7d0e7869-470b-4739-b976-571f78c4ec49\",\"type\":\"CDSView\"}},\"id\":\"5f28bd6d-e9c6-4d0d-a43e-fc3801a580a8\",\"type\":\"GlyphRenderer\"},{\"attributes\":{\"line_alpha\":0.1,\"line_color\":\"#1f77b4\",\"line_width\":4,\"x\":{\"field\":\"x\"},\"y\":{\"field\":\"y\"}},\"id\":\"8c589c74-88bc-4560-a95a-5280171e0499\",\"type\":\"Line\"},{\"attributes\":{},\"id\":\"54b22bef-6610-4d11-a173-aa7853c0c635\",\"type\":\"BasicTicker\"},{\"attributes\":{\"active_drag\":\"auto\",\"active_inspect\":\"auto\",\"active_scroll\":\"auto\",\"active_tap\":\"auto\",\"tools\":[{\"id\":\"a8734917-6737-4f8b-b0a2-73299c0cbe37\",\"type\":\"PanTool\"},{\"id\":\"308cefeb-a80f-4780-9acb-858debb00519\",\"type\":\"WheelZoomTool\"},{\"id\":\"8201ad6e-b175-42b0-819f-d300b78d961d\",\"type\":\"BoxZoomTool\"},{\"id\":\"2d330cb5-0068-4265-abdb-8cc1f4abe095\",\"type\":\"SaveTool\"},{\"id\":\"793c98e4-0d05-4448-a81f-4ec7779a1100\",\"type\":\"ResetTool\"},{\"id\":\"2074bb69-1338-47e1-90c5-bc5ce01b702a\",\"type\":\"HelpTool\"}]},\"id\":\"d880e933-3e45-46cf-93fb-45191e47aa05\",\"type\":\"Toolbar\"},{\"attributes\":{},\"id\":\"2d330cb5-0068-4265-abdb-8cc1f4abe095\",\"type\":\"SaveTool\"},{\"attributes\":{},\"id\":\"793c98e4-0d05-4448-a81f-4ec7779a1100\",\"type\":\"ResetTool\"},{\"attributes\":{},\"id\":\"4e3f17d8-6736-469e-b5b9-262252f705d0\",\"type\":\"LinearScale\"},{\"attributes\":{},\"id\":\"7bcc5efc-39b5-4267-9d0b-efee9ec877eb\",\"type\":\"BasicTickFormatter\"},{\"attributes\":{},\"id\":\"a8734917-6737-4f8b-b0a2-73299c0cbe37\",\"type\":\"PanTool\"},{\"attributes\":{\"overlay\":{\"id\":\"b47d1f7d-0d4a-4e96-94d9-862288b972ad\",\"type\":\"BoxAnnotation\"}},\"id\":\"8201ad6e-b175-42b0-819f-d300b78d961d\",\"type\":\"BoxZoomTool\"},{\"attributes\":{\"dimension\":1,\"plot\":{\"id\":\"f24bc526-50a3-45a5-b7c7-02741aa717e2\",\"subtype\":\"Figure\",\"type\":\"Plot\"},\"ticker\":{\"id\":\"c325f7a3-5bd6-4f0c-b8e8-de6ca772ea99\",\"type\":\"BasicTicker\"}},\"id\":\"40716a23-be35-405d-b1b4-6a6c5fbb21cf\",\"type\":\"Grid\"},{\"attributes\":{},\"id\":\"308cefeb-a80f-4780-9acb-858debb00519\",\"type\":\"WheelZoomTool\"},{\"attributes\":{\"formatter\":{\"id\":\"7bcc5efc-39b5-4267-9d0b-efee9ec877eb\",\"type\":\"BasicTickFormatter\"},\"plot\":{\"id\":\"f24bc526-50a3-45a5-b7c7-02741aa717e2\",\"subtype\":\"Figure\",\"type\":\"Plot\"},\"ticker\":{\"id\":\"54b22bef-6610-4d11-a173-aa7853c0c635\",\"type\":\"BasicTicker\"}},\"id\":\"f91158d7-180c-43f0-bc3b-294c5f4860c0\",\"type\":\"LinearAxis\"},{\"attributes\":{\"formatter\":{\"id\":\"3e171411-b43f-46e1-9371-d0a8dd5e92e8\",\"type\":\"BasicTickFormatter\"},\"plot\":{\"id\":\"f24bc526-50a3-45a5-b7c7-02741aa717e2\",\"subtype\":\"Figure\",\"type\":\"Plot\"},\"ticker\":{\"id\":\"c325f7a3-5bd6-4f0c-b8e8-de6ca772ea99\",\"type\":\"BasicTicker\"}},\"id\":\"d32632d3-8735-4ffe-a2c3-c1267b2cfa8b\",\"type\":\"LinearAxis\"},{\"attributes\":{\"callback\":null,\"column_names\":[\"x\",\"y\"],\"data\":{\"x\":{\"__ndarray__\":\"AAAAAAAAJMBDYt7OkJgjwIbEvJ0hMSPAyiabbLLJIsANiXk7Q2IiwFDrVwrU+iHAk0022WSTIcDXrxSo9SshwBoS83aGxCDAXXTRRRddIMBArV8pUOsfwMdxHMdxHB/ATjbZZJNNHsDU+pUCtX4dwFq/UqDWrxzA4YMPPvjgG8BoSMzbGRIbwO4MiXk7QxrAdNFFF110GcD7lQK1fqUYwIFav1Kg1hfACB988MEHF8CO4ziO4zgWwBWo9SsFahXAm2yyySabFMAiMW9nSMwTwKj1KwVq/RLAL7rooosuEsC1fqVArV8RwDxDYt7OkBDAhA8++OCDD8CSmLczJOYNwJ4hMW9nSAzAqqqqqqqqCsC4MyTm7QwJwMS8nSExbwfA0kUXXXTRBcDezpCYtzMEwOxXCtT6lQLA+OCDDz74AMAI1PqVArX+vyjm7QyJefu/QPjggw8++L9YCtT6lQL1v3Acx3Ecx/G/IF100UUX7b9QgVq/UqDmv4ClQK1fKeC/YJNNNtlk078Ab2dIzNu5vwBvZ0jM27k/YJNNNtlk0z+ApUCtXyngP1CBWr9SoOY/EF100UUX7T9wHMdxHMfxP1gK1PqVAvU/QPjggw8++D8g5u0MiXn7PwjU+pUCtf4/+OCDDz74AEDsVwrU+pUCQNzOkJi3MwRA0EUXXXTRBUDEvJ0hMW8HQLgzJObtDAlArKqqqqqqCkCcITFvZ0gMQJCYtzMk5g1AhA8++OCDD0A8Q2LezpAQQLR+pUCtXxFALrrooosuEkCo9SsFav0SQCIxb2dIzBNAmmyyySabFEAUqPUrBWoVQI7jOI7jOBZACB988MEHF0CAWr9SoNYXQPyVArV+pRhAdNFFF110GUDsDIl5O0MaQGhIzNsZEhtA4IMPPvjgG0Bcv1Kg1q8cQNT6lQK1fh1ATDbZZJNNHkDIcRzHcRwfQECtXylQ6x9AXHTRRRddIEAaEvN2hsQgQNavFKj1KyFAlE022WSTIUBQ61cK1PohQAyJeTtDYiJAyiabbLLJIkCGxLydITEjQERi3s6QmCNAAAAAAAAAJEA=\",\"dtype\":\"float64\",\"shape\":[100]},\"y\":{\"__ndarray__\":\"RkHDmdsWrLwBcvyww6e4v9xL1QuuRcS/a3w+DlF+xL+GIXA5niK5v1Mj1kTjAXc/4fyy7vWovD+U+dVuiN7GP4vI6U/kssY/hbLJEDjsuj++M6c+GuiJvzTIkRkM1sC/YmUOyP8hyr+cYgYcfnvJv3pvNubNLr2/sCoosi06lj/lpD6dIxLEPw2FQ1/CXs4/2HmGYbQezT9E8BzBKhPAP6vuo24yT6G/hH+KS7VqyL8GimLkXA7SvwE38okyDNG/084NNucewr8wkZTAUgOqP25kc+wTlc4/kRCuEVEu1j96qKlO1avUPyybAmVPJMU/Ghi0qtOSs78lgpKfTQXUvyChbU1Soty/mHdYvrp22r+/HH1LexXKv1YAF4mhpL4/MXjjmts53D9qukRizBrkP9/QMBeooOI/xZ07k9PY0T+SExlWqqjKv7iHM3kMBee//vAJY6jJ8L8ePsdDQiXwvzp1bhymWt+/Dr1aUhaR3z/12xplsaj8P7s4zvf7NAlALKT+ROwcEUD3/EVAgKoTQPf8RUCAqhNALKT+ROwcEUC7OM73+zQJQPXbGmWxqPw/v71aUhaR3z86dW4cplrfvx4+x0NCJfC//vAJY6jJ8L/bhzN5DAXnv5ITGVaqqMq/xZ07k9PY0T/f0DAXqKDiP2y6RGLMGuQ/QHjjmts53D9WABeJoaS+P78cfUt7Fcq/pHdYvrp22r8ioW1NUqLcvy+Ckp9NBdS/Ghi0qtOSs78smwJlTyTFP3WoqU7Vq9Q/lBCuEVEu1j9uZHPsE5XOPzCRlMBSA6o/sc4NNucewr/5NvKJMgzRvwaKYuRcDtK/hH+KS7VqyL8076NuMk+hv0TwHMEqE8A/2HmGYbQezT8ehUNfwl7OP+WkPp0jEsQ/misosi06lj/abzbmzS69v5xiBhx+e8m/amUOyP8hyr80yJEZDNbAv74zpz4a6Im/NLLJEDjsuj+LyOlP5LLGP6P51W6I3sY/lvyy7vWovD9TI9ZE4wF3P2EhcDmeIrm/a3w+DlF+xL/cS9ULrkXEv7xx/LDDp7i/RkHDmdsWrLw=\",\"dtype\":\"float64\",\"shape\":[100]}}},\"id\":\"eb3f85e4-53b3-4ef3-a83f-a8e8a1a5c936\",\"type\":\"ColumnDataSource\"},{\"attributes\":{\"line_color\":\"blue\",\"line_width\":4,\"x\":{\"field\":\"x\"},\"y\":{\"field\":\"y\"}},\"id\":\"b13919a0-68bb-4f6c-a313-9f1a1da23710\",\"type\":\"Line\"},{\"attributes\":{},\"id\":\"c325f7a3-5bd6-4f0c-b8e8-de6ca772ea99\",\"type\":\"BasicTicker\"},{\"attributes\":{\"plot\":null,\"text\":\"Example of Plots using Widgets\"},\"id\":\"3bcdd3c6-eab2-4963-8d75-d43ac1c5b60e\",\"type\":\"Title\"},{\"attributes\":{\"bottom_units\":\"screen\",\"fill_alpha\":{\"value\":0.5},\"fill_color\":{\"value\":\"lightgrey\"},\"left_units\":\"screen\",\"level\":\"overlay\",\"line_alpha\":{\"value\":1.0},\"line_color\":{\"value\":\"black\"},\"line_dash\":[4,4],\"line_width\":{\"value\":2},\"plot\":null,\"render_mode\":\"css\",\"right_units\":\"screen\",\"top_units\":\"screen\"},\"id\":\"b47d1f7d-0d4a-4e96-94d9-862288b972ad\",\"type\":\"BoxAnnotation\"},{\"attributes\":{},\"id\":\"3e171411-b43f-46e1-9371-d0a8dd5e92e8\",\"type\":\"BasicTickFormatter\"},{\"attributes\":{\"source\":{\"id\":\"eb3f85e4-53b3-4ef3-a83f-a8e8a1a5c936\",\"type\":\"ColumnDataSource\"}},\"id\":\"7d0e7869-470b-4739-b976-571f78c4ec49\",\"type\":\"CDSView\"},{\"attributes\":{\"plot\":{\"id\":\"f24bc526-50a3-45a5-b7c7-02741aa717e2\",\"subtype\":\"Figure\",\"type\":\"Plot\"},\"ticker\":{\"id\":\"54b22bef-6610-4d11-a173-aa7853c0c635\",\"type\":\"BasicTicker\"}},\"id\":\"d281f6b9-31a9-46fe-a92c-82f12fbd2e0d\",\"type\":\"Grid\"}],\"root_ids\":[\"f24bc526-50a3-45a5-b7c7-02741aa717e2\"]},\"title\":\"Bokeh Application\",\"version\":\"0.12.14\"}};\n",
       "  var render_items = [{\"docid\":\"2b7b6246-8b6d-4537-8f38-c5ddbdf79baf\",\"elementid\":\"e53e7293-ca10-498a-9df2-593d9d459cab\",\"modelid\":\"f24bc526-50a3-45a5-b7c7-02741aa717e2\",\"notebook_comms_target\":\"c9f3bcd7-c546-4cde-80b0-560bc822ee39\"}];\n",
       "  root.Bokeh.embed.embed_items_notebook(docs_json, render_items);\n",
       "\n",
       "  }\n",
       "  if (root.Bokeh !== undefined) {\n",
       "    embed_document(root);\n",
       "  } else {\n",
       "    var attempts = 0;\n",
       "    var timer = setInterval(function(root) {\n",
       "      if (root.Bokeh !== undefined) {\n",
       "        embed_document(root);\n",
       "        clearInterval(timer);\n",
       "      }\n",
       "      attempts++;\n",
       "      if (attempts > 100) {\n",
       "        console.log(\"Bokeh: ERROR: Unable to run BokehJS code because BokehJS library is missing\")\n",
       "        clearInterval(timer);\n",
       "      }\n",
       "    }, 10, root)\n",
       "  }\n",
       "})(window);"
      ],
      "application/vnd.bokehjs_exec.v0+json": ""
     },
     "metadata": {
      "application/vnd.bokehjs_exec.v0+json": {
       "id": "f24bc526-50a3-45a5-b7c7-02741aa717e2"
      }
     },
     "output_type": "display_data"
    },
    {
     "data": {
      "text/html": [
       "<p><code>&lt;Bokeh Notebook handle for <strong>In[196]</strong>&gt;</code></p>"
      ],
      "text/plain": [
       "<bokeh.io.notebook.CommsHandle at 0x1ea53198c50>"
      ]
     },
     "execution_count": 196,
     "metadata": {},
     "output_type": "execute_result"
    }
   ],
   "source": [
    "# Display the plot\n",
    "show(p, notebook_handle=True)"
   ]
  },
  {
   "cell_type": "code",
   "execution_count": 197,
   "metadata": {},
   "outputs": [
    {
     "data": {
      "application/vnd.jupyter.widget-view+json": {
       "model_id": "55e08d9442d447308ca5ab5a487faef8",
       "version_major": 2,
       "version_minor": 0
      },
      "text/html": [
       "<p>Failed to display Jupyter Widget of type <code>interactive</code>.</p>\n",
       "<p>\n",
       "  If you're reading this message in the Jupyter Notebook or JupyterLab Notebook, it may mean\n",
       "  that the widgets JavaScript is still loading. If this message persists, it\n",
       "  likely means that the widgets JavaScript library is either not installed or\n",
       "  not enabled. See the <a href=\"https://ipywidgets.readthedocs.io/en/stable/user_install.html\">Jupyter\n",
       "  Widgets Documentation</a> for setup instructions.\n",
       "</p>\n",
       "<p>\n",
       "  If you're reading this message in another frontend (for example, a static\n",
       "  rendering on GitHub or <a href=\"https://nbviewer.jupyter.org/\">NBViewer</a>),\n",
       "  it may mean that your frontend doesn't currently support widgets.\n",
       "</p>\n"
      ],
      "text/plain": [
       "interactive(children=(Dropdown(description='f', options=('sinc', 'bessel', 'sin', 'cos', 'tan', 'sinh', 'cosh', 'tanh'), value='sinc'), IntSlider(value=1, description='w', max=20, min=1), IntSlider(value=5, description='A', max=10, min=5), FloatSlider(value=0.0, description='phi', max=20.0, min=-20.0, step=0.5), Output()), _dom_classes=('widget-interact',))"
      ]
     },
     "metadata": {},
     "output_type": "display_data"
    },
    {
     "data": {
      "text/plain": [
       "<function __main__.update>"
      ]
     },
     "execution_count": 197,
     "metadata": {},
     "output_type": "execute_result"
    }
   ],
   "source": [
    "# Play around with the widgets by selecting different functions and tuning parameters! \n",
    "interact(update, f=[\"sinc\", \"bessel\", \"sin\", \"cos\", \"tan\", \"sinh\", \"cosh\", \"tanh\"], w=(1,20), A=(5,10), phi=(-20, 20, 0.5))"
   ]
  },
  {
   "cell_type": "markdown",
   "metadata": {},
   "source": [
    "## Example application: Unemployment"
   ]
  },
  {
   "cell_type": "markdown",
   "metadata": {},
   "source": [
    "Let us apply few of the above learnt techniques that you may find useful as a data scientist. Especially, during the initial stages of a case when one wants to get understand the dataset better we start of with exploratory analysis.\n",
    "\n",
    "We take a preloaded dataset 'unemployment1948' which contains unemployment rates prevelant from 1948 to present across months of the year. Lets us first understand the data and then create a basic interactive graph to understand it further."
   ]
  },
  {
   "cell_type": "code",
   "execution_count": 198,
   "metadata": {},
   "outputs": [],
   "source": [
    "# Load the unemployment data from the bokeh library\n",
    "from bokeh.sampledata.unemployment1948 import data"
   ]
  },
  {
   "cell_type": "code",
   "execution_count": 199,
   "metadata": {},
   "outputs": [
    {
     "name": "stdout",
     "output_type": "stream",
     "text": [
      "   Year  Jan  Feb  Mar  Apr  May  Jun  Jul  Aug  Sep  Oct  Nov  Dec\n",
      "0  1948  4.0  4.7  4.5  4.0  3.4  3.9  3.9  3.6  3.4  2.9  3.3  3.6\n",
      "1  1949  5.0  5.8  5.6  5.4  5.7  6.4  7.0  6.3  5.9  6.1  5.7  6.0\n",
      "2  1950  7.6  7.9  7.1  6.0  5.3  5.6  5.3  4.1  4.0  3.3  3.8  3.9\n",
      "3  1951  4.4  4.2  3.8  3.2  2.9  3.4  3.3  2.9  3.0  2.8  3.2  2.9\n",
      "4  1952  3.7  3.8  3.3  3.0  2.9  3.2  3.3  3.1  2.7  2.4  2.5  2.5\n"
     ]
    }
   ],
   "source": [
    "# Let us see how the data looks by printing out the first 5 rows\n",
    "print(data.head())"
   ]
  },
  {
   "cell_type": "code",
   "execution_count": 200,
   "metadata": {
    "scrolled": false
   },
   "outputs": [
    {
     "data": {
      "text/html": [
       "<div>\n",
       "<style>\n",
       "    .dataframe thead tr:only-child th {\n",
       "        text-align: right;\n",
       "    }\n",
       "\n",
       "    .dataframe thead th {\n",
       "        text-align: left;\n",
       "    }\n",
       "\n",
       "    .dataframe tbody tr th {\n",
       "        vertical-align: top;\n",
       "    }\n",
       "</style>\n",
       "<table border=\"1\" class=\"dataframe\">\n",
       "  <thead>\n",
       "    <tr style=\"text-align: right;\">\n",
       "      <th></th>\n",
       "      <th>Jan</th>\n",
       "      <th>Feb</th>\n",
       "      <th>Mar</th>\n",
       "      <th>Apr</th>\n",
       "      <th>May</th>\n",
       "      <th>Jun</th>\n",
       "      <th>Jul</th>\n",
       "      <th>Aug</th>\n",
       "      <th>Sep</th>\n",
       "      <th>Oct</th>\n",
       "      <th>Nov</th>\n",
       "      <th>Dec</th>\n",
       "    </tr>\n",
       "    <tr>\n",
       "      <th>Year</th>\n",
       "      <th></th>\n",
       "      <th></th>\n",
       "      <th></th>\n",
       "      <th></th>\n",
       "      <th></th>\n",
       "      <th></th>\n",
       "      <th></th>\n",
       "      <th></th>\n",
       "      <th></th>\n",
       "      <th></th>\n",
       "      <th></th>\n",
       "      <th></th>\n",
       "    </tr>\n",
       "  </thead>\n",
       "  <tbody>\n",
       "    <tr>\n",
       "      <th>1948</th>\n",
       "      <td>4.0</td>\n",
       "      <td>4.7</td>\n",
       "      <td>4.5</td>\n",
       "      <td>4.0</td>\n",
       "      <td>3.4</td>\n",
       "      <td>3.9</td>\n",
       "      <td>3.9</td>\n",
       "      <td>3.6</td>\n",
       "      <td>3.4</td>\n",
       "      <td>2.9</td>\n",
       "      <td>3.3</td>\n",
       "      <td>3.6</td>\n",
       "    </tr>\n",
       "    <tr>\n",
       "      <th>1949</th>\n",
       "      <td>5.0</td>\n",
       "      <td>5.8</td>\n",
       "      <td>5.6</td>\n",
       "      <td>5.4</td>\n",
       "      <td>5.7</td>\n",
       "      <td>6.4</td>\n",
       "      <td>7.0</td>\n",
       "      <td>6.3</td>\n",
       "      <td>5.9</td>\n",
       "      <td>6.1</td>\n",
       "      <td>5.7</td>\n",
       "      <td>6.0</td>\n",
       "    </tr>\n",
       "    <tr>\n",
       "      <th>1950</th>\n",
       "      <td>7.6</td>\n",
       "      <td>7.9</td>\n",
       "      <td>7.1</td>\n",
       "      <td>6.0</td>\n",
       "      <td>5.3</td>\n",
       "      <td>5.6</td>\n",
       "      <td>5.3</td>\n",
       "      <td>4.1</td>\n",
       "      <td>4.0</td>\n",
       "      <td>3.3</td>\n",
       "      <td>3.8</td>\n",
       "      <td>3.9</td>\n",
       "    </tr>\n",
       "    <tr>\n",
       "      <th>1951</th>\n",
       "      <td>4.4</td>\n",
       "      <td>4.2</td>\n",
       "      <td>3.8</td>\n",
       "      <td>3.2</td>\n",
       "      <td>2.9</td>\n",
       "      <td>3.4</td>\n",
       "      <td>3.3</td>\n",
       "      <td>2.9</td>\n",
       "      <td>3.0</td>\n",
       "      <td>2.8</td>\n",
       "      <td>3.2</td>\n",
       "      <td>2.9</td>\n",
       "    </tr>\n",
       "    <tr>\n",
       "      <th>1952</th>\n",
       "      <td>3.7</td>\n",
       "      <td>3.8</td>\n",
       "      <td>3.3</td>\n",
       "      <td>3.0</td>\n",
       "      <td>2.9</td>\n",
       "      <td>3.2</td>\n",
       "      <td>3.3</td>\n",
       "      <td>3.1</td>\n",
       "      <td>2.7</td>\n",
       "      <td>2.4</td>\n",
       "      <td>2.5</td>\n",
       "      <td>2.5</td>\n",
       "    </tr>\n",
       "  </tbody>\n",
       "</table>\n",
       "</div>"
      ],
      "text/plain": [
       "      Jan  Feb  Mar  Apr  May  Jun  Jul  Aug  Sep  Oct  Nov  Dec\n",
       "Year                                                            \n",
       "1948  4.0  4.7  4.5  4.0  3.4  3.9  3.9  3.6  3.4  2.9  3.3  3.6\n",
       "1949  5.0  5.8  5.6  5.4  5.7  6.4  7.0  6.3  5.9  6.1  5.7  6.0\n",
       "1950  7.6  7.9  7.1  6.0  5.3  5.6  5.3  4.1  4.0  3.3  3.8  3.9\n",
       "1951  4.4  4.2  3.8  3.2  2.9  3.4  3.3  2.9  3.0  2.8  3.2  2.9\n",
       "1952  3.7  3.8  3.3  3.0  2.9  3.2  3.3  3.1  2.7  2.4  2.5  2.5"
      ]
     },
     "execution_count": 200,
     "metadata": {},
     "output_type": "execute_result"
    }
   ],
   "source": [
    "# Converting Year into string format, dropping annual column and resetting the index to 'year' \n",
    "data['Year'] = data['Year'].astype(str)\n",
    "# data.drop('Annual', axis = 1, inplace = True)\n",
    "data = data.set_index('Year')\n",
    "data.head()"
   ]
  },
  {
   "cell_type": "markdown",
   "metadata": {},
   "source": [
    "Neat!"
   ]
  },
  {
   "cell_type": "code",
   "execution_count": 201,
   "metadata": {},
   "outputs": [
    {
     "data": {
      "text/html": [
       "<div>\n",
       "<style>\n",
       "    .dataframe thead tr:only-child th {\n",
       "        text-align: right;\n",
       "    }\n",
       "\n",
       "    .dataframe thead th {\n",
       "        text-align: left;\n",
       "    }\n",
       "\n",
       "    .dataframe tbody tr th {\n",
       "        vertical-align: top;\n",
       "    }\n",
       "</style>\n",
       "<table border=\"1\" class=\"dataframe\">\n",
       "  <thead>\n",
       "    <tr style=\"text-align: right;\">\n",
       "      <th></th>\n",
       "      <th>Jan</th>\n",
       "      <th>Feb</th>\n",
       "      <th>Mar</th>\n",
       "      <th>Apr</th>\n",
       "      <th>May</th>\n",
       "      <th>Jun</th>\n",
       "      <th>Jul</th>\n",
       "      <th>Aug</th>\n",
       "      <th>Sep</th>\n",
       "      <th>Oct</th>\n",
       "      <th>Nov</th>\n",
       "      <th>Dec</th>\n",
       "    </tr>\n",
       "    <tr>\n",
       "      <th>Year</th>\n",
       "      <th></th>\n",
       "      <th></th>\n",
       "      <th></th>\n",
       "      <th></th>\n",
       "      <th></th>\n",
       "      <th></th>\n",
       "      <th></th>\n",
       "      <th></th>\n",
       "      <th></th>\n",
       "      <th></th>\n",
       "      <th></th>\n",
       "      <th></th>\n",
       "    </tr>\n",
       "  </thead>\n",
       "  <tbody>\n",
       "    <tr>\n",
       "      <th>2012</th>\n",
       "      <td>8.8</td>\n",
       "      <td>8.7</td>\n",
       "      <td>8.4</td>\n",
       "      <td>7.7</td>\n",
       "      <td>7.9</td>\n",
       "      <td>8.4</td>\n",
       "      <td>8.6</td>\n",
       "      <td>8.2</td>\n",
       "      <td>7.6</td>\n",
       "      <td>7.5</td>\n",
       "      <td>7.4</td>\n",
       "      <td>7.6</td>\n",
       "    </tr>\n",
       "    <tr>\n",
       "      <th>2013</th>\n",
       "      <td>8.5</td>\n",
       "      <td>8.1</td>\n",
       "      <td>7.6</td>\n",
       "      <td>7.1</td>\n",
       "      <td>7.3</td>\n",
       "      <td>7.8</td>\n",
       "      <td>7.7</td>\n",
       "      <td>7.3</td>\n",
       "      <td>7.0</td>\n",
       "      <td>7.0</td>\n",
       "      <td>6.6</td>\n",
       "      <td>6.5</td>\n",
       "    </tr>\n",
       "    <tr>\n",
       "      <th>2014</th>\n",
       "      <td>7.0</td>\n",
       "      <td>7.0</td>\n",
       "      <td>6.8</td>\n",
       "      <td>5.9</td>\n",
       "      <td>6.1</td>\n",
       "      <td>6.3</td>\n",
       "      <td>6.5</td>\n",
       "      <td>6.3</td>\n",
       "      <td>5.7</td>\n",
       "      <td>5.5</td>\n",
       "      <td>5.5</td>\n",
       "      <td>5.4</td>\n",
       "    </tr>\n",
       "    <tr>\n",
       "      <th>2015</th>\n",
       "      <td>6.1</td>\n",
       "      <td>5.8</td>\n",
       "      <td>5.6</td>\n",
       "      <td>5.1</td>\n",
       "      <td>5.3</td>\n",
       "      <td>5.5</td>\n",
       "      <td>5.6</td>\n",
       "      <td>5.2</td>\n",
       "      <td>4.9</td>\n",
       "      <td>4.8</td>\n",
       "      <td>4.8</td>\n",
       "      <td>4.8</td>\n",
       "    </tr>\n",
       "    <tr>\n",
       "      <th>2016</th>\n",
       "      <td>5.3</td>\n",
       "      <td>5.2</td>\n",
       "      <td>5.1</td>\n",
       "      <td>4.7</td>\n",
       "      <td>4.5</td>\n",
       "      <td>5.1</td>\n",
       "      <td>5.1</td>\n",
       "      <td>5.0</td>\n",
       "      <td>4.8</td>\n",
       "      <td>4.7</td>\n",
       "      <td>4.4</td>\n",
       "      <td>4.5</td>\n",
       "    </tr>\n",
       "  </tbody>\n",
       "</table>\n",
       "</div>"
      ],
      "text/plain": [
       "      Jan  Feb  Mar  Apr  May  Jun  Jul  Aug  Sep  Oct  Nov  Dec\n",
       "Year                                                            \n",
       "2012  8.8  8.7  8.4  7.7  7.9  8.4  8.6  8.2  7.6  7.5  7.4  7.6\n",
       "2013  8.5  8.1  7.6  7.1  7.3  7.8  7.7  7.3  7.0  7.0  6.6  6.5\n",
       "2014  7.0  7.0  6.8  5.9  6.1  6.3  6.5  6.3  5.7  5.5  5.5  5.4\n",
       "2015  6.1  5.8  5.6  5.1  5.3  5.5  5.6  5.2  4.9  4.8  4.8  4.8\n",
       "2016  5.3  5.2  5.1  4.7  4.5  5.1  5.1  5.0  4.8  4.7  4.4  4.5"
      ]
     },
     "execution_count": 201,
     "metadata": {},
     "output_type": "execute_result"
    }
   ],
   "source": [
    "# Let us see the last few rows of the dataset as well\n",
    "data.tail()"
   ]
  },
  {
   "cell_type": "markdown",
   "metadata": {},
   "source": [
    "Let us create a graph that will plot unemployment line plots for each year. Let us overlay them to compare each of them against each other by using the techniques we learnt earlier."
   ]
  },
  {
   "cell_type": "code",
   "execution_count": 202,
   "metadata": {
    "scrolled": true
   },
   "outputs": [
    {
     "data": {
      "text/html": [
       "\n",
       "<div class=\"bk-root\">\n",
       "    <div class=\"bk-plotdiv\" id=\"e1a12730-e9f8-4c6c-8f4e-41ef64857cdf\"></div>\n",
       "</div>"
      ]
     },
     "metadata": {},
     "output_type": "display_data"
    },
    {
     "data": {
      "application/javascript": [
       "(function(root) {\n",
       "  function embed_document(root) {\n",
       "    \n",
       "  var docs_json = {\"9c1cbb10-c89f-4b7e-a835-0daa6e3798db\":{\"roots\":{\"references\":[{\"attributes\":{\"callback\":null,\"column_names\":[\"x\",\"y\"],\"data\":{\"x\":[\"Jan\",\"Feb\",\"Mar\",\"Apr\",\"May\",\"Jun\",\"Jul\",\"Aug\",\"Sep\",\"Oct\",\"Nov\",\"Dec\"],\"y\":{\"__ndarray__\":\"zczMzMzMGECamZmZmZkXQM3MzMzMzBZAZmZmZmZmFkAAAAAAAAAWQDMzMzMzMxdAmpmZmZmZF0BmZmZmZmYWQJqZmZmZmRVAzczMzMzMFEAzMzMzMzMVQM3MzMzMzBRA\",\"dtype\":\"float64\",\"shape\":[12]}}},\"id\":\"114b5885-bc71-41f6-be5f-1143d77078d1\",\"type\":\"ColumnDataSource\"},{\"attributes\":{\"source\":{\"id\":\"fb325be7-53ac-4cf3-b8db-9a2e70088a98\",\"type\":\"ColumnDataSource\"}},\"id\":\"0538343b-a504-45c5-a8d2-22c2dd86ca82\",\"type\":\"CDSView\"},{\"attributes\":{\"line_color\":\"#1f77b4\",\"x\":{\"field\":\"x\"},\"y\":{\"field\":\"y\"}},\"id\":\"f74f2511-c105-428c-8a7f-cd619f40e456\",\"type\":\"Line\"},{\"attributes\":{\"line_alpha\":0.1,\"line_color\":\"#1f77b4\",\"x\":{\"field\":\"x\"},\"y\":{\"field\":\"y\"}},\"id\":\"b7fe51a1-e605-474d-a4c2-bab36509ffc8\",\"type\":\"Line\"},{\"attributes\":{\"data_source\":{\"id\":\"114b5885-bc71-41f6-be5f-1143d77078d1\",\"type\":\"ColumnDataSource\"},\"glyph\":{\"id\":\"f74f2511-c105-428c-8a7f-cd619f40e456\",\"type\":\"Line\"},\"hover_glyph\":null,\"muted_glyph\":null,\"nonselection_glyph\":{\"id\":\"b7fe51a1-e605-474d-a4c2-bab36509ffc8\",\"type\":\"Line\"},\"selection_glyph\":null,\"view\":{\"id\":\"69d5ab38-679a-4c12-b129-7aba91640df5\",\"type\":\"CDSView\"}},\"id\":\"b9425ae7-cb9a-4632-a1aa-058f1512b88f\",\"type\":\"GlyphRenderer\"},{\"attributes\":{\"source\":{\"id\":\"114b5885-bc71-41f6-be5f-1143d77078d1\",\"type\":\"ColumnDataSource\"}},\"id\":\"69d5ab38-679a-4c12-b129-7aba91640df5\",\"type\":\"CDSView\"},{\"attributes\":{\"callback\":null,\"column_names\":[\"x\",\"y\"],\"data\":{\"x\":[\"Jan\",\"Feb\",\"Mar\",\"Apr\",\"May\",\"Jun\",\"Jul\",\"Aug\",\"Sep\",\"Oct\",\"Nov\",\"Dec\"],\"y\":{\"__ndarray__\":\"MzMzMzMzGUAAAAAAAAAYQDMzMzMzMxdAmpmZmZmZFUCamZmZmZkVQAAAAAAAABZAZmZmZmZmFkBmZmZmZmYUQAAAAAAAABRAmpmZmZmZE0AAAAAAAAAUQAAAAAAAABRA\",\"dtype\":\"float64\",\"shape\":[12]}}},\"id\":\"00b438b0-6fd5-48b4-af35-c5f2f00a126c\",\"type\":\"ColumnDataSource\"},{\"attributes\":{\"line_alpha\":0.1,\"line_color\":\"#1f77b4\",\"x\":{\"field\":\"x\"},\"y\":{\"field\":\"y\"}},\"id\":\"4f7fba57-2fb3-497a-ad1d-2cfc4d80ad29\",\"type\":\"Line\"},{\"attributes\":{\"callback\":null,\"column_names\":[\"x\",\"y\"],\"data\":{\"x\":[\"Jan\",\"Feb\",\"Mar\",\"Apr\",\"May\",\"Jun\",\"Jul\",\"Aug\",\"Sep\",\"Oct\",\"Nov\",\"Dec\"],\"y\":{\"__ndarray__\":\"mpmZmZmZF0DNzMzMzMwWQAAAAAAAABZAMzMzMzMzE0DNzMzMzMwSQM3MzMzMzBRAAAAAAAAAFEAzMzMzMzMTQM3MzMzMzBJAmpmZmZmZEUAzMzMzMzMRQJqZmZmZmRFA\",\"dtype\":\"float64\",\"shape\":[12]}}},\"id\":\"16b98916-e1fa-4159-b815-108b6e50b0de\",\"type\":\"ColumnDataSource\"},{\"attributes\":{\"line_color\":\"#1f77b4\",\"x\":{\"field\":\"x\"},\"y\":{\"field\":\"y\"}},\"id\":\"4567ab67-cfba-4c49-926b-da6295a21335\",\"type\":\"Line\"},{\"attributes\":{\"data_source\":{\"id\":\"00b438b0-6fd5-48b4-af35-c5f2f00a126c\",\"type\":\"ColumnDataSource\"},\"glyph\":{\"id\":\"4567ab67-cfba-4c49-926b-da6295a21335\",\"type\":\"Line\"},\"hover_glyph\":null,\"muted_glyph\":null,\"nonselection_glyph\":{\"id\":\"4f7fba57-2fb3-497a-ad1d-2cfc4d80ad29\",\"type\":\"Line\"},\"selection_glyph\":null,\"view\":{\"id\":\"be1753bd-69ec-433e-8647-b0646c37e0ca\",\"type\":\"CDSView\"}},\"id\":\"ae8a867b-e939-4f7a-a2df-a63a2ccf1e75\",\"type\":\"GlyphRenderer\"},{\"attributes\":{\"source\":{\"id\":\"00b438b0-6fd5-48b4-af35-c5f2f00a126c\",\"type\":\"ColumnDataSource\"}},\"id\":\"be1753bd-69ec-433e-8647-b0646c37e0ca\",\"type\":\"CDSView\"},{\"attributes\":{\"line_alpha\":0.1,\"line_color\":\"#1f77b4\",\"x\":{\"field\":\"x\"},\"y\":{\"field\":\"y\"}},\"id\":\"96d053c9-db2a-41e9-bc02-6aaaf7b96971\",\"type\":\"Line\"},{\"attributes\":{\"callback\":null,\"column_names\":[\"x\",\"y\"],\"data\":{\"x\":[\"Jan\",\"Feb\",\"Mar\",\"Apr\",\"May\",\"Jun\",\"Jul\",\"Aug\",\"Sep\",\"Oct\",\"Nov\",\"Dec\"],\"y\":{\"__ndarray__\":\"zczMzMzMFEAAAAAAAAAUQAAAAAAAABRAZmZmZmZmEEDNzMzMzMwQQM3MzMzMzBJAzczMzMzMEkAAAAAAAAASQJqZmZmZmRFAzczMzMzMEEBmZmZmZmYQQAAAAAAAABBA\",\"dtype\":\"float64\",\"shape\":[12]}}},\"id\":\"8669c870-90f7-4764-8bd2-e4ca7873658f\",\"type\":\"ColumnDataSource\"},{\"attributes\":{\"line_color\":\"#1f77b4\",\"x\":{\"field\":\"x\"},\"y\":{\"field\":\"y\"}},\"id\":\"0c19ba12-bf77-4c2d-a61f-cdf2c1148dbb\",\"type\":\"Line\"},{\"attributes\":{\"data_source\":{\"id\":\"16b98916-e1fa-4159-b815-108b6e50b0de\",\"type\":\"ColumnDataSource\"},\"glyph\":{\"id\":\"0c19ba12-bf77-4c2d-a61f-cdf2c1148dbb\",\"type\":\"Line\"},\"hover_glyph\":null,\"muted_glyph\":null,\"nonselection_glyph\":{\"id\":\"96d053c9-db2a-41e9-bc02-6aaaf7b96971\",\"type\":\"Line\"},\"selection_glyph\":null,\"view\":{\"id\":\"5e0b64bd-67a0-4b28-ab05-dbc05aeb8396\",\"type\":\"CDSView\"}},\"id\":\"d2f19a34-6248-4d6e-bc88-428b850c13ef\",\"type\":\"GlyphRenderer\"},{\"attributes\":{\"source\":{\"id\":\"16b98916-e1fa-4159-b815-108b6e50b0de\",\"type\":\"ColumnDataSource\"}},\"id\":\"5e0b64bd-67a0-4b28-ab05-dbc05aeb8396\",\"type\":\"CDSView\"},{\"attributes\":{\"line_alpha\":0.1,\"line_color\":\"#1f77b4\",\"x\":{\"field\":\"x\"},\"y\":{\"field\":\"y\"}},\"id\":\"396d0acb-c034-462a-a8d6-bfa8b4017570\",\"type\":\"Line\"},{\"attributes\":{\"callback\":null,\"column_names\":[\"x\",\"y\"],\"data\":{\"x\":[\"Jan\",\"Feb\",\"Mar\",\"Apr\",\"May\",\"Jun\",\"Jul\",\"Aug\",\"Sep\",\"Oct\",\"Nov\",\"Dec\"],\"y\":{\"__ndarray__\":\"MzMzMzMzE0DNzMzMzMwSQJqZmZmZmRFAZmZmZmZmEEAAAAAAAAAQQAAAAAAAABJAAAAAAAAAEkDNzMzMzMwQQGZmZmZmZhBAZmZmZmZmDkBmZmZmZmYOQJqZmZmZmQ1A\",\"dtype\":\"float64\",\"shape\":[12]}}},\"id\":\"55afea93-9b17-491f-a21a-93024a30fff5\",\"type\":\"ColumnDataSource\"},{\"attributes\":{\"line_color\":\"#1f77b4\",\"x\":{\"field\":\"x\"},\"y\":{\"field\":\"y\"}},\"id\":\"d8a9e57d-4f4d-4f70-872a-66d30e64648f\",\"type\":\"Line\"},{\"attributes\":{\"data_source\":{\"id\":\"8669c870-90f7-4764-8bd2-e4ca7873658f\",\"type\":\"ColumnDataSource\"},\"glyph\":{\"id\":\"d8a9e57d-4f4d-4f70-872a-66d30e64648f\",\"type\":\"Line\"},\"hover_glyph\":null,\"muted_glyph\":null,\"nonselection_glyph\":{\"id\":\"396d0acb-c034-462a-a8d6-bfa8b4017570\",\"type\":\"Line\"},\"selection_glyph\":null,\"view\":{\"id\":\"e741246d-f363-4659-ba3a-c4f4bb97d3b2\",\"type\":\"CDSView\"}},\"id\":\"7ac39482-caf8-4314-bb25-e9601ee4790f\",\"type\":\"GlyphRenderer\"},{\"attributes\":{\"source\":{\"id\":\"8669c870-90f7-4764-8bd2-e4ca7873658f\",\"type\":\"ColumnDataSource\"}},\"id\":\"e741246d-f363-4659-ba3a-c4f4bb97d3b2\",\"type\":\"CDSView\"},{\"attributes\":{\"line_alpha\":0.1,\"line_color\":\"#1f77b4\",\"x\":{\"field\":\"x\"},\"y\":{\"field\":\"y\"}},\"id\":\"8d635bf4-77ea-4693-9a56-2f4f5907366a\",\"type\":\"Line\"},{\"attributes\":{\"callback\":null,\"column_names\":[\"x\",\"y\"],\"data\":{\"x\":[\"Jan\",\"Feb\",\"Mar\",\"Apr\",\"May\",\"Jun\",\"Jul\",\"Aug\",\"Sep\",\"Oct\",\"Nov\",\"Dec\"],\"y\":{\"__ndarray__\":\"AAAAAAAAEkCamZmZmZkRQDMzMzMzMxFAmpmZmZmZDUBmZmZmZmYOQGZmZmZmZhBAzczMzMzMEEBmZmZmZmYQQGZmZmZmZg5AzczMzMzMDECamZmZmZkNQJqZmZmZmQ1A\",\"dtype\":\"float64\",\"shape\":[12]}}},\"id\":\"923b37d2-4fc5-4e23-a17b-0e60f6783c94\",\"type\":\"ColumnDataSource\"},{\"attributes\":{\"line_color\":\"#1f77b4\",\"x\":{\"field\":\"x\"},\"y\":{\"field\":\"y\"}},\"id\":\"c41087d6-24b8-42fa-8f47-55c21ac9b366\",\"type\":\"Line\"},{\"attributes\":{\"data_source\":{\"id\":\"55afea93-9b17-491f-a21a-93024a30fff5\",\"type\":\"ColumnDataSource\"},\"glyph\":{\"id\":\"c41087d6-24b8-42fa-8f47-55c21ac9b366\",\"type\":\"Line\"},\"hover_glyph\":null,\"muted_glyph\":null,\"nonselection_glyph\":{\"id\":\"8d635bf4-77ea-4693-9a56-2f4f5907366a\",\"type\":\"Line\"},\"selection_glyph\":null,\"view\":{\"id\":\"872dda1f-8a62-42cc-8c74-8d4c992ec2b1\",\"type\":\"CDSView\"}},\"id\":\"1481093a-f783-40b3-b878-636711e57fa0\",\"type\":\"GlyphRenderer\"},{\"attributes\":{\"source\":{\"id\":\"55afea93-9b17-491f-a21a-93024a30fff5\",\"type\":\"ColumnDataSource\"}},\"id\":\"872dda1f-8a62-42cc-8c74-8d4c992ec2b1\",\"type\":\"CDSView\"},{\"attributes\":{\"line_alpha\":0.1,\"line_color\":\"#1f77b4\",\"x\":{\"field\":\"x\"},\"y\":{\"field\":\"y\"}},\"id\":\"64427651-1b94-42dc-8bd6-aa72535bab88\",\"type\":\"Line\"},{\"attributes\":{\"callback\":null,\"column_names\":[\"x\",\"y\"],\"data\":{\"x\":[\"Jan\",\"Feb\",\"Mar\",\"Apr\",\"May\",\"Jun\",\"Jul\",\"Aug\",\"Sep\",\"Oct\",\"Nov\",\"Dec\"],\"y\":{\"__ndarray__\":\"zczMzMzMEkBmZmZmZmYSQAAAAAAAABJAzczMzMzMEEBmZmZmZmYQQM3MzMzMzBJAzczMzMzMEkCamZmZmZkTQM3MzMzMzBJAAAAAAAAAFEAzMzMzMzMVQJqZmZmZmRVA\",\"dtype\":\"float64\",\"shape\":[12]}}},\"id\":\"b18fef4a-3fc0-458c-a297-8475e00a0d20\",\"type\":\"ColumnDataSource\"},{\"attributes\":{\"line_color\":\"#1f77b4\",\"x\":{\"field\":\"x\"},\"y\":{\"field\":\"y\"}},\"id\":\"9f35a63a-f4fb-4269-a936-7ea77070f286\",\"type\":\"Line\"},{\"attributes\":{\"data_source\":{\"id\":\"923b37d2-4fc5-4e23-a17b-0e60f6783c94\",\"type\":\"ColumnDataSource\"},\"glyph\":{\"id\":\"9f35a63a-f4fb-4269-a936-7ea77070f286\",\"type\":\"Line\"},\"hover_glyph\":null,\"muted_glyph\":null,\"nonselection_glyph\":{\"id\":\"64427651-1b94-42dc-8bd6-aa72535bab88\",\"type\":\"Line\"},\"selection_glyph\":null,\"view\":{\"id\":\"d87b2816-2e80-4a40-9656-d43065709bb9\",\"type\":\"CDSView\"}},\"id\":\"72270375-341b-42be-bf9f-1e9facc5cb73\",\"type\":\"GlyphRenderer\"},{\"attributes\":{\"source\":{\"id\":\"923b37d2-4fc5-4e23-a17b-0e60f6783c94\",\"type\":\"ColumnDataSource\"}},\"id\":\"d87b2816-2e80-4a40-9656-d43065709bb9\",\"type\":\"CDSView\"},{\"attributes\":{\"line_alpha\":0.1,\"line_color\":\"#1f77b4\",\"x\":{\"field\":\"x\"},\"y\":{\"field\":\"y\"}},\"id\":\"e95470ff-5034-491a-85a6-a55ccce288d4\",\"type\":\"Line\"},{\"attributes\":{\"callback\":null,\"column_names\":[\"x\",\"y\"],\"data\":{\"x\":[\"Jan\",\"Feb\",\"Mar\",\"Apr\",\"May\",\"Jun\",\"Jul\",\"Aug\",\"Sep\",\"Oct\",\"Nov\",\"Dec\"],\"y\":{\"__ndarray__\":\"MzMzMzMzGUBmZmZmZmYYQGZmZmZmZhhAzczMzMzMFkAAAAAAAAAWQAAAAAAAABhAmpmZmZmZF0DNzMzMzMwWQJqZmZmZmRVAMzMzMzMzFUBmZmZmZmYWQM3MzMzMzBZA\",\"dtype\":\"float64\",\"shape\":[12]}}},\"id\":\"7570edbb-4548-4251-af45-10d7319199f7\",\"type\":\"ColumnDataSource\"},{\"attributes\":{\"line_color\":\"#1f77b4\",\"x\":{\"field\":\"x\"},\"y\":{\"field\":\"y\"}},\"id\":\"ae02f9f9-1247-4a12-8b08-3d58bb803e59\",\"type\":\"Line\"},{\"attributes\":{\"data_source\":{\"id\":\"b18fef4a-3fc0-458c-a297-8475e00a0d20\",\"type\":\"ColumnDataSource\"},\"glyph\":{\"id\":\"ae02f9f9-1247-4a12-8b08-3d58bb803e59\",\"type\":\"Line\"},\"hover_glyph\":null,\"muted_glyph\":null,\"nonselection_glyph\":{\"id\":\"e95470ff-5034-491a-85a6-a55ccce288d4\",\"type\":\"Line\"},\"selection_glyph\":null,\"view\":{\"id\":\"abc6ab46-2160-42cc-84cc-e04afc3b3039\",\"type\":\"CDSView\"}},\"id\":\"585d970b-33b9-44bc-b3d5-f43c65eba6a4\",\"type\":\"GlyphRenderer\"},{\"attributes\":{\"source\":{\"id\":\"b18fef4a-3fc0-458c-a297-8475e00a0d20\",\"type\":\"ColumnDataSource\"}},\"id\":\"abc6ab46-2160-42cc-84cc-e04afc3b3039\",\"type\":\"CDSView\"},{\"attributes\":{\"line_alpha\":0.1,\"line_color\":\"#1f77b4\",\"x\":{\"field\":\"x\"},\"y\":{\"field\":\"y\"}},\"id\":\"32b2285d-522d-422c-baed-13dc98de5630\",\"type\":\"Line\"},{\"attributes\":{\"callback\":null,\"column_names\":[\"x\",\"y\"],\"data\":{\"x\":[\"Jan\",\"Feb\",\"Mar\",\"Apr\",\"May\",\"Jun\",\"Jul\",\"Aug\",\"Sep\",\"Oct\",\"Nov\",\"Dec\"],\"y\":{\"__ndarray__\":\"AAAAAAAAGkCamZmZmZkZQM3MzMzMzBhAMzMzMzMzF0AzMzMzMzMXQAAAAAAAABpAMzMzMzMzGUAAAAAAAAAYQDMzMzMzMxdAZmZmZmZmFkBmZmZmZmYWQJqZmZmZmRVA\",\"dtype\":\"float64\",\"shape\":[12]}}},\"id\":\"5f1dbc40-2548-4016-be14-c39a81bb11b0\",\"type\":\"ColumnDataSource\"},{\"attributes\":{\"line_color\":\"#1f77b4\",\"x\":{\"field\":\"x\"},\"y\":{\"field\":\"y\"}},\"id\":\"b291fbf3-1455-4a45-ab2b-5fd998a1f547\",\"type\":\"Line\"},{\"attributes\":{\"data_source\":{\"id\":\"7570edbb-4548-4251-af45-10d7319199f7\",\"type\":\"ColumnDataSource\"},\"glyph\":{\"id\":\"b291fbf3-1455-4a45-ab2b-5fd998a1f547\",\"type\":\"Line\"},\"hover_glyph\":null,\"muted_glyph\":null,\"nonselection_glyph\":{\"id\":\"32b2285d-522d-422c-baed-13dc98de5630\",\"type\":\"Line\"},\"selection_glyph\":null,\"view\":{\"id\":\"d839cedb-8756-4f62-a4b3-24dcbb7b15c6\",\"type\":\"CDSView\"}},\"id\":\"f567b14f-fd65-41d6-95a2-699198b90ffc\",\"type\":\"GlyphRenderer\"},{\"attributes\":{\"source\":{\"id\":\"7570edbb-4548-4251-af45-10d7319199f7\",\"type\":\"ColumnDataSource\"}},\"id\":\"d839cedb-8756-4f62-a4b3-24dcbb7b15c6\",\"type\":\"CDSView\"},{\"attributes\":{\"line_alpha\":0.1,\"line_color\":\"#1f77b4\",\"x\":{\"field\":\"x\"},\"y\":{\"field\":\"y\"}},\"id\":\"22d52830-afb7-4a59-84e8-053e0837f1b9\",\"type\":\"Line\"},{\"attributes\":{\"callback\":null,\"column_names\":[\"x\",\"y\"],\"data\":{\"x\":[\"Jan\",\"Feb\",\"Mar\",\"Apr\",\"May\",\"Jun\",\"Jul\",\"Aug\",\"Sep\",\"Oct\",\"Nov\",\"Dec\"],\"y\":{\"__ndarray__\":\"MzMzMzMzGUAAAAAAAAAYQAAAAAAAABhAmpmZmZmZFUAzMzMzMzMVQDMzMzMzMxdAzczMzMzMFkCamZmZmZkVQGZmZmZmZhRAZmZmZmZmFEDNzMzMzMwUQGZmZmZmZhRA\",\"dtype\":\"float64\",\"shape\":[12]}}},\"id\":\"d7267360-10c1-4508-a160-56ac8bdd02c5\",\"type\":\"ColumnDataSource\"},{\"attributes\":{\"line_color\":\"#1f77b4\",\"x\":{\"field\":\"x\"},\"y\":{\"field\":\"y\"}},\"id\":\"510bf2dc-ec3b-41b9-8468-0bf9ca2a335b\",\"type\":\"Line\"},{\"attributes\":{\"data_source\":{\"id\":\"5f1dbc40-2548-4016-be14-c39a81bb11b0\",\"type\":\"ColumnDataSource\"},\"glyph\":{\"id\":\"510bf2dc-ec3b-41b9-8468-0bf9ca2a335b\",\"type\":\"Line\"},\"hover_glyph\":null,\"muted_glyph\":null,\"nonselection_glyph\":{\"id\":\"22d52830-afb7-4a59-84e8-053e0837f1b9\",\"type\":\"Line\"},\"selection_glyph\":null,\"view\":{\"id\":\"8df16bb5-8ec6-4757-a263-b11400bb530d\",\"type\":\"CDSView\"}},\"id\":\"efe1f8f3-b355-4ff5-abfc-e6ded868337e\",\"type\":\"GlyphRenderer\"},{\"attributes\":{\"source\":{\"id\":\"5f1dbc40-2548-4016-be14-c39a81bb11b0\",\"type\":\"ColumnDataSource\"}},\"id\":\"8df16bb5-8ec6-4757-a263-b11400bb530d\",\"type\":\"CDSView\"},{\"attributes\":{\"line_alpha\":0.1,\"line_color\":\"#1f77b4\",\"x\":{\"field\":\"x\"},\"y\":{\"field\":\"y\"}},\"id\":\"123ebc10-c659-4e39-addc-d73911e631a7\",\"type\":\"Line\"},{\"attributes\":{\"callback\":null,\"column_names\":[\"x\",\"y\"],\"data\":{\"x\":[\"Jan\",\"Feb\",\"Mar\",\"Apr\",\"May\",\"Jun\",\"Jul\",\"Aug\",\"Sep\",\"Oct\",\"Nov\",\"Dec\"],\"y\":{\"__ndarray__\":\"zczMzMzMFkAzMzMzMzMXQJqZmZmZmRVAmpmZmZmZE0CamZmZmZkTQM3MzMzMzBRAzczMzMzMFECamZmZmZkTQDMzMzMzMxNAZmZmZmZmEkAzMzMzMzMTQGZmZmZmZhJA\",\"dtype\":\"float64\",\"shape\":[12]}}},\"id\":\"1c5fafad-b171-43c9-b0c0-5908c0d413ab\",\"type\":\"ColumnDataSource\"},{\"attributes\":{\"line_color\":\"#1f77b4\",\"x\":{\"field\":\"x\"},\"y\":{\"field\":\"y\"}},\"id\":\"1a54d3e6-51a7-4be4-9a01-7e7d4dd8ca7a\",\"type\":\"Line\"},{\"attributes\":{\"data_source\":{\"id\":\"d7267360-10c1-4508-a160-56ac8bdd02c5\",\"type\":\"ColumnDataSource\"},\"glyph\":{\"id\":\"1a54d3e6-51a7-4be4-9a01-7e7d4dd8ca7a\",\"type\":\"Line\"},\"hover_glyph\":null,\"muted_glyph\":null,\"nonselection_glyph\":{\"id\":\"123ebc10-c659-4e39-addc-d73911e631a7\",\"type\":\"Line\"},\"selection_glyph\":null,\"view\":{\"id\":\"af059116-b283-46a5-ac41-5c6e71120b24\",\"type\":\"CDSView\"}},\"id\":\"4916f0d9-c598-49d3-baf2-3ef0b7c7f1d2\",\"type\":\"GlyphRenderer\"},{\"attributes\":{\"source\":{\"id\":\"d7267360-10c1-4508-a160-56ac8bdd02c5\",\"type\":\"ColumnDataSource\"}},\"id\":\"af059116-b283-46a5-ac41-5c6e71120b24\",\"type\":\"CDSView\"},{\"attributes\":{\"line_alpha\":0.1,\"line_color\":\"#1f77b4\",\"x\":{\"field\":\"x\"},\"y\":{\"field\":\"y\"}},\"id\":\"736b2854-d612-4dd8-adfc-5d13484e1eae\",\"type\":\"Line\"},{\"attributes\":{\"callback\":null,\"column_names\":[\"x\",\"y\"],\"data\":{\"x\":[\"Jan\",\"Feb\",\"Mar\",\"Apr\",\"May\",\"Jun\",\"Jul\",\"Aug\",\"Sep\",\"Oct\",\"Nov\",\"Dec\"],\"y\":{\"__ndarray__\":\"ZmZmZmZmFEBmZmZmZmYUQDMzMzMzMxNAAAAAAAAAEkCamZmZmZkRQDMzMzMzMxNAAAAAAAAAFEBmZmZmZmYSQJqZmZmZmRFAZmZmZmZmEEAzMzMzMzMRQDMzMzMzMxFA\",\"dtype\":\"float64\",\"shape\":[12]}}},\"id\":\"fb325be7-53ac-4cf3-b8db-9a2e70088a98\",\"type\":\"ColumnDataSource\"},{\"attributes\":{\"line_color\":\"#1f77b4\",\"x\":{\"field\":\"x\"},\"y\":{\"field\":\"y\"}},\"id\":\"6ace7e16-c04b-4427-9029-a761ef6acff7\",\"type\":\"Line\"},{\"attributes\":{\"data_source\":{\"id\":\"1c5fafad-b171-43c9-b0c0-5908c0d413ab\",\"type\":\"ColumnDataSource\"},\"glyph\":{\"id\":\"6ace7e16-c04b-4427-9029-a761ef6acff7\",\"type\":\"Line\"},\"hover_glyph\":null,\"muted_glyph\":null,\"nonselection_glyph\":{\"id\":\"736b2854-d612-4dd8-adfc-5d13484e1eae\",\"type\":\"Line\"},\"selection_glyph\":null,\"view\":{\"id\":\"53bfe393-24e7-444f-a022-666713109d21\",\"type\":\"CDSView\"}},\"id\":\"d2d26840-0e42-4147-b6cb-4014f5afaadb\",\"type\":\"GlyphRenderer\"},{\"attributes\":{\"source\":{\"id\":\"1c5fafad-b171-43c9-b0c0-5908c0d413ab\",\"type\":\"ColumnDataSource\"}},\"id\":\"53bfe393-24e7-444f-a022-666713109d21\",\"type\":\"CDSView\"},{\"attributes\":{\"line_alpha\":0.1,\"line_color\":\"#1f77b4\",\"x\":{\"field\":\"x\"},\"y\":{\"field\":\"y\"}},\"id\":\"1c055223-0dba-46dd-bdbc-4d2276f6bc21\",\"type\":\"Line\"},{\"attributes\":{\"line_color\":\"#1f77b4\",\"x\":{\"field\":\"x\"},\"y\":{\"field\":\"y\"}},\"id\":\"19e8cb47-128c-4f91-8c59-4eb9210fc759\",\"type\":\"Line\"},{\"attributes\":{\"data_source\":{\"id\":\"fb325be7-53ac-4cf3-b8db-9a2e70088a98\",\"type\":\"ColumnDataSource\"},\"glyph\":{\"id\":\"19e8cb47-128c-4f91-8c59-4eb9210fc759\",\"type\":\"Line\"},\"hover_glyph\":null,\"muted_glyph\":null,\"nonselection_glyph\":{\"id\":\"1c055223-0dba-46dd-bdbc-4d2276f6bc21\",\"type\":\"Line\"},\"selection_glyph\":null,\"view\":{\"id\":\"0538343b-a504-45c5-a8d2-22c2dd86ca82\",\"type\":\"CDSView\"}},\"id\":\"8ae17099-0f81-45b1-be71-ae712fe0118f\",\"type\":\"GlyphRenderer\"},{\"attributes\":{\"dimension\":1,\"plot\":{\"id\":\"bc27f9cd-8199-4e7e-81b8-857cce10fe5d\",\"subtype\":\"Figure\",\"type\":\"Plot\"},\"ticker\":{\"id\":\"2e7e72d6-b1ed-494b-9f2b-a8ffe561c691\",\"type\":\"BasicTicker\"}},\"id\":\"e414acf4-c813-4c6d-886f-d4b7d7faa12a\",\"type\":\"Grid\"},{\"attributes\":{\"source\":{\"id\":\"a201a445-90cb-414d-9863-c188576f0612\",\"type\":\"ColumnDataSource\"}},\"id\":\"4236e281-65b1-4094-aecb-873840cbf924\",\"type\":\"CDSView\"},{\"attributes\":{},\"id\":\"2e7e72d6-b1ed-494b-9f2b-a8ffe561c691\",\"type\":\"BasicTicker\"},{\"attributes\":{\"data_source\":{\"id\":\"ddd0da7f-30a4-4dc7-bdfa-b9ce3909eaa5\",\"type\":\"ColumnDataSource\"},\"glyph\":{\"id\":\"a084c220-54bd-4e79-a80a-32599c0a8a6b\",\"type\":\"Line\"},\"hover_glyph\":null,\"muted_glyph\":null,\"nonselection_glyph\":{\"id\":\"6c36da31-4d5a-4b3d-9219-3ac087b85bc5\",\"type\":\"Line\"},\"selection_glyph\":null,\"view\":{\"id\":\"e7b2ae96-0209-40e6-b529-88e6141167bf\",\"type\":\"CDSView\"}},\"id\":\"99d2b3b0-87fb-485e-9a80-b512a724d7a9\",\"type\":\"GlyphRenderer\"},{\"attributes\":{\"line_color\":\"#1f77b4\",\"x\":{\"field\":\"x\"},\"y\":{\"field\":\"y\"}},\"id\":\"bdb772a5-c858-45b1-ae95-312175184ccb\",\"type\":\"Line\"},{\"attributes\":{\"below\":[{\"id\":\"24d61533-38b8-4fce-a810-15e026b0c69a\",\"type\":\"CategoricalAxis\"}],\"left\":[{\"id\":\"e19c50dd-899c-4a5c-a28a-96048e9e2f54\",\"type\":\"LinearAxis\"}],\"plot_height\":300,\"plot_width\":500,\"renderers\":[{\"id\":\"24d61533-38b8-4fce-a810-15e026b0c69a\",\"type\":\"CategoricalAxis\"},{\"id\":\"2ae818f2-1c7d-4328-a4f8-02b77a306536\",\"type\":\"Grid\"},{\"id\":\"e19c50dd-899c-4a5c-a28a-96048e9e2f54\",\"type\":\"LinearAxis\"},{\"id\":\"e414acf4-c813-4c6d-886f-d4b7d7faa12a\",\"type\":\"Grid\"},{\"id\":\"62cd4300-23fd-47e0-8065-96e1e5508b4a\",\"type\":\"BoxAnnotation\"},{\"id\":\"99d2b3b0-87fb-485e-9a80-b512a724d7a9\",\"type\":\"GlyphRenderer\"},{\"id\":\"c0263623-6f9a-4006-b883-cbf6f85c09f5\",\"type\":\"GlyphRenderer\"},{\"id\":\"a62ce53d-e2d2-4d1f-b64e-3111f5800470\",\"type\":\"GlyphRenderer\"},{\"id\":\"4fb2d967-9576-4a13-9973-edb4efb44c2d\",\"type\":\"GlyphRenderer\"},{\"id\":\"5b60764b-c500-4799-ab48-95a3f2e8b8ba\",\"type\":\"GlyphRenderer\"},{\"id\":\"5102ac1c-6c7b-4aac-acfa-511bdb135425\",\"type\":\"GlyphRenderer\"},{\"id\":\"6b923568-41d1-4cb5-8ca5-c7e5a78c7016\",\"type\":\"GlyphRenderer\"},{\"id\":\"9c77dd8e-aed9-4295-b946-893d459a0ba7\",\"type\":\"GlyphRenderer\"},{\"id\":\"8bbc6935-9af0-45b3-9018-82b9b79873f4\",\"type\":\"GlyphRenderer\"},{\"id\":\"58ac827a-dcea-4b0d-ab59-9f04781ff43d\",\"type\":\"GlyphRenderer\"},{\"id\":\"eb26cbba-e311-428a-a0c5-11772d3f4a57\",\"type\":\"GlyphRenderer\"},{\"id\":\"23a0e616-202a-49b7-bb93-dd27639e5c85\",\"type\":\"GlyphRenderer\"},{\"id\":\"81c287b8-71ed-4c8e-9055-6b936a6cd412\",\"type\":\"GlyphRenderer\"},{\"id\":\"e22f6b11-f34f-47ba-8841-84ef363e6d2b\",\"type\":\"GlyphRenderer\"},{\"id\":\"6350310a-b783-4136-aef9-ed2f8537573f\",\"type\":\"GlyphRenderer\"},{\"id\":\"5649b403-7724-463c-9001-11cbe91b3d4f\",\"type\":\"GlyphRenderer\"},{\"id\":\"27bdab3f-3959-4558-994f-184bf66c23c5\",\"type\":\"GlyphRenderer\"},{\"id\":\"e3bda896-8088-4863-92dd-2be9701aad46\",\"type\":\"GlyphRenderer\"},{\"id\":\"fa6082c6-279b-472b-b3de-99442848c330\",\"type\":\"GlyphRenderer\"},{\"id\":\"7921fcde-67eb-412b-9211-7a0b11e9ba89\",\"type\":\"GlyphRenderer\"},{\"id\":\"a01fe662-8a89-4730-a15c-6c630204266c\",\"type\":\"GlyphRenderer\"},{\"id\":\"f14b890d-fa07-47aa-b155-579d3dac732c\",\"type\":\"GlyphRenderer\"},{\"id\":\"fd749c3f-9f2e-429e-ab31-560580c6bc91\",\"type\":\"GlyphRenderer\"},{\"id\":\"891731c0-dcdb-4edd-8fd7-cdfeb5e1698b\",\"type\":\"GlyphRenderer\"},{\"id\":\"e72fc566-3a9d-44e1-ac77-1da34f573800\",\"type\":\"GlyphRenderer\"},{\"id\":\"39001cc2-896c-4cf4-bb05-394a1d7ade36\",\"type\":\"GlyphRenderer\"},{\"id\":\"80c84295-810b-4b4c-bc66-01fb18cf5209\",\"type\":\"GlyphRenderer\"},{\"id\":\"096863b4-00d0-489e-8d74-b54a29b8e6db\",\"type\":\"GlyphRenderer\"},{\"id\":\"d5b3c9ac-7f29-41f4-b596-134c5c2f9729\",\"type\":\"GlyphRenderer\"},{\"id\":\"643e03dc-67f2-4cce-b7eb-a1c782c49ff6\",\"type\":\"GlyphRenderer\"},{\"id\":\"a1fba009-be1f-4946-a023-8a7aa00b3a9e\",\"type\":\"GlyphRenderer\"},{\"id\":\"6faac7c5-3660-44e5-b865-d5f69a52973a\",\"type\":\"GlyphRenderer\"},{\"id\":\"b9c1fd6d-d920-4f5a-93f0-7fe0316152da\",\"type\":\"GlyphRenderer\"},{\"id\":\"9b61ddd8-e043-4973-91d3-7cbff93112f7\",\"type\":\"GlyphRenderer\"},{\"id\":\"6a56374c-5788-4f3f-8eec-bb9183ce6b40\",\"type\":\"GlyphRenderer\"},{\"id\":\"601eb2e3-986c-4d9b-8e92-191ed8142ede\",\"type\":\"GlyphRenderer\"},{\"id\":\"04517033-ff10-429c-bfe8-19c737a6d9bb\",\"type\":\"GlyphRenderer\"},{\"id\":\"ef4f0fc9-5d9d-4903-a8e9-a78f7d381a22\",\"type\":\"GlyphRenderer\"},{\"id\":\"79169976-88a4-4d40-8e11-480f1faa1503\",\"type\":\"GlyphRenderer\"},{\"id\":\"3868580f-1416-416c-ba8d-8f66ddbf0602\",\"type\":\"GlyphRenderer\"},{\"id\":\"7c56adc8-1814-4f1d-b3a6-3f61a2606643\",\"type\":\"GlyphRenderer\"},{\"id\":\"95a17d6c-776c-41a8-b087-9b9e2561e460\",\"type\":\"GlyphRenderer\"},{\"id\":\"c574d2f0-5b54-4805-bd29-79af361c5952\",\"type\":\"GlyphRenderer\"},{\"id\":\"ba747309-0b62-4aad-a962-9c46a52c5ccf\",\"type\":\"GlyphRenderer\"},{\"id\":\"6fad14ac-5774-470f-957d-5d8cd9e6d1b0\",\"type\":\"GlyphRenderer\"},{\"id\":\"b3c33819-64a1-405f-a6f9-d4e3f21ea32d\",\"type\":\"GlyphRenderer\"},{\"id\":\"a393f26f-f11c-41ff-8125-214182454a8b\",\"type\":\"GlyphRenderer\"},{\"id\":\"b9425ae7-cb9a-4632-a1aa-058f1512b88f\",\"type\":\"GlyphRenderer\"},{\"id\":\"ae8a867b-e939-4f7a-a2df-a63a2ccf1e75\",\"type\":\"GlyphRenderer\"},{\"id\":\"d2f19a34-6248-4d6e-bc88-428b850c13ef\",\"type\":\"GlyphRenderer\"},{\"id\":\"7ac39482-caf8-4314-bb25-e9601ee4790f\",\"type\":\"GlyphRenderer\"},{\"id\":\"1481093a-f783-40b3-b878-636711e57fa0\",\"type\":\"GlyphRenderer\"},{\"id\":\"72270375-341b-42be-bf9f-1e9facc5cb73\",\"type\":\"GlyphRenderer\"},{\"id\":\"585d970b-33b9-44bc-b3d5-f43c65eba6a4\",\"type\":\"GlyphRenderer\"},{\"id\":\"f567b14f-fd65-41d6-95a2-699198b90ffc\",\"type\":\"GlyphRenderer\"},{\"id\":\"efe1f8f3-b355-4ff5-abfc-e6ded868337e\",\"type\":\"GlyphRenderer\"},{\"id\":\"4916f0d9-c598-49d3-baf2-3ef0b7c7f1d2\",\"type\":\"GlyphRenderer\"},{\"id\":\"d2d26840-0e42-4147-b6cb-4014f5afaadb\",\"type\":\"GlyphRenderer\"},{\"id\":\"8ae17099-0f81-45b1-be71-ae712fe0118f\",\"type\":\"GlyphRenderer\"},{\"id\":\"8cfc54ae-298d-44f1-9711-786af1c6b075\",\"type\":\"GlyphRenderer\"},{\"id\":\"6690ce88-57e3-4e01-b3cf-e6758cf6dde6\",\"type\":\"GlyphRenderer\"},{\"id\":\"e5c206c9-36ad-41c1-914b-49179a24868f\",\"type\":\"GlyphRenderer\"},{\"id\":\"02ad300a-59a2-4242-8af5-13b2590bf666\",\"type\":\"GlyphRenderer\"},{\"id\":\"80d6d2fc-0ff8-40f1-8921-56413a6d0c89\",\"type\":\"GlyphRenderer\"},{\"id\":\"920b2110-484c-43ab-a3b4-c0890e98b844\",\"type\":\"GlyphRenderer\"},{\"id\":\"4e9481f9-e967-4b67-b934-e9840e88e6e8\",\"type\":\"GlyphRenderer\"},{\"id\":\"c38707ea-aadb-44da-8e00-0d63c31aa623\",\"type\":\"GlyphRenderer\"},{\"id\":\"5ad933c3-c406-4ff5-8f0b-52a8e96cca17\",\"type\":\"GlyphRenderer\"},{\"id\":\"eac02cc7-268a-4caa-8a9b-58071739d7ec\",\"type\":\"GlyphRenderer\"}],\"title\":{\"id\":\"ecbfab2d-1111-4527-b475-2f067b26bc6c\",\"type\":\"Title\"},\"toolbar\":{\"id\":\"da228fa1-362f-4131-b2cc-e728d4de7ee6\",\"type\":\"Toolbar\"},\"x_range\":{\"id\":\"ade8c429-a502-46c4-b244-8f9a119ee298\",\"type\":\"FactorRange\"},\"x_scale\":{\"id\":\"4c3d7d86-506c-417a-b600-422f024fa1d2\",\"type\":\"CategoricalScale\"},\"y_range\":{\"id\":\"00b8ba78-e44e-4ea4-b2ae-1cf388070c97\",\"type\":\"Range1d\"},\"y_scale\":{\"id\":\"d3646241-9b28-4047-a015-b0ab9dc68786\",\"type\":\"LinearScale\"}},\"id\":\"bc27f9cd-8199-4e7e-81b8-857cce10fe5d\",\"subtype\":\"Figure\",\"type\":\"Plot\"},{\"attributes\":{\"line_alpha\":0.1,\"line_color\":\"#1f77b4\",\"x\":{\"field\":\"x\"},\"y\":{\"field\":\"y\"}},\"id\":\"80dad705-d6ce-465a-9667-481f0553d5cb\",\"type\":\"Line\"},{\"attributes\":{\"formatter\":{\"id\":\"38982211-4012-427e-8675-05ed6e89f524\",\"type\":\"CategoricalTickFormatter\"},\"plot\":{\"id\":\"bc27f9cd-8199-4e7e-81b8-857cce10fe5d\",\"subtype\":\"Figure\",\"type\":\"Plot\"},\"ticker\":{\"id\":\"dfcf4b91-3bd8-4ac5-bc46-487a1699a39c\",\"type\":\"CategoricalTicker\"}},\"id\":\"24d61533-38b8-4fce-a810-15e026b0c69a\",\"type\":\"CategoricalAxis\"},{\"attributes\":{},\"id\":\"b482777b-d946-4555-8114-27a2fb96b786\",\"type\":\"PanTool\"},{\"attributes\":{\"line_alpha\":0.1,\"line_color\":\"#1f77b4\",\"x\":{\"field\":\"x\"},\"y\":{\"field\":\"y\"}},\"id\":\"6c36da31-4d5a-4b3d-9219-3ac087b85bc5\",\"type\":\"Line\"},{\"attributes\":{\"bottom_units\":\"screen\",\"fill_alpha\":{\"value\":0.5},\"fill_color\":{\"value\":\"lightgrey\"},\"left_units\":\"screen\",\"level\":\"overlay\",\"line_alpha\":{\"value\":1.0},\"line_color\":{\"value\":\"black\"},\"line_dash\":[4,4],\"line_width\":{\"value\":2},\"plot\":null,\"render_mode\":\"css\",\"right_units\":\"screen\",\"top_units\":\"screen\"},\"id\":\"62cd4300-23fd-47e0-8065-96e1e5508b4a\",\"type\":\"BoxAnnotation\"},{\"attributes\":{\"plot\":{\"id\":\"bc27f9cd-8199-4e7e-81b8-857cce10fe5d\",\"subtype\":\"Figure\",\"type\":\"Plot\"},\"ticker\":{\"id\":\"dfcf4b91-3bd8-4ac5-bc46-487a1699a39c\",\"type\":\"CategoricalTicker\"}},\"id\":\"2ae818f2-1c7d-4328-a4f8-02b77a306536\",\"type\":\"Grid\"},{\"attributes\":{\"line_alpha\":0.1,\"line_color\":\"#1f77b4\",\"x\":{\"field\":\"x\"},\"y\":{\"field\":\"y\"}},\"id\":\"a7e765a8-6b1d-4ecd-ba90-5be028da2388\",\"type\":\"Line\"},{\"attributes\":{\"callback\":null,\"column_names\":[\"x\",\"y\"],\"data\":{\"x\":[\"Jan\",\"Feb\",\"Mar\",\"Apr\",\"May\",\"Jun\",\"Jul\",\"Aug\",\"Sep\",\"Oct\",\"Nov\",\"Dec\"],\"y\":{\"__ndarray__\":\"AAAAAAAAFkDNzMzMzMwWQGZmZmZmZhRAzczMzMzMEkAzMzMzMzMRQDMzMzMzMxVAAAAAAAAAEkDNzMzMzMwQQGZmZmZmZg5AzczMzMzMDEAzMzMzMzMPQJqZmZmZmQ1A\",\"dtype\":\"float64\",\"shape\":[12]}}},\"id\":\"980cdaed-1d37-491b-8b2e-b26472b967a7\",\"type\":\"ColumnDataSource\"},{\"attributes\":{\"line_color\":\"#1f77b4\",\"x\":{\"field\":\"x\"},\"y\":{\"field\":\"y\"}},\"id\":\"a084c220-54bd-4e79-a80a-32599c0a8a6b\",\"type\":\"Line\"},{\"attributes\":{\"data_source\":{\"id\":\"a86b1f6d-ad73-4dd1-a786-ed85ff0bd130\",\"type\":\"ColumnDataSource\"},\"glyph\":{\"id\":\"9eb975e8-6ae1-4a69-9fe6-a5b13c58d366\",\"type\":\"Line\"},\"hover_glyph\":null,\"muted_glyph\":null,\"nonselection_glyph\":{\"id\":\"d51c1906-954e-4cdc-b1a9-a4c9d8b6b516\",\"type\":\"Line\"},\"selection_glyph\":null,\"view\":{\"id\":\"60c9cfb0-26cf-4e7e-ab75-8066b034279a\",\"type\":\"CDSView\"}},\"id\":\"a01fe662-8a89-4730-a15c-6c630204266c\",\"type\":\"GlyphRenderer\"},{\"attributes\":{\"source\":{\"id\":\"a86b1f6d-ad73-4dd1-a786-ed85ff0bd130\",\"type\":\"ColumnDataSource\"}},\"id\":\"60c9cfb0-26cf-4e7e-ab75-8066b034279a\",\"type\":\"CDSView\"},{\"attributes\":{\"callback\":null,\"column_names\":[\"x\",\"y\"],\"data\":{\"x\":[\"Jan\",\"Feb\",\"Mar\",\"Apr\",\"May\",\"Jun\",\"Jul\",\"Aug\",\"Sep\",\"Oct\",\"Nov\",\"Dec\"],\"y\":{\"__ndarray__\":\"zczMzMzMEEDNzMzMzMwSQGZmZmZmZhJAMzMzMzMzEUBmZmZmZmYQQGZmZmZmZhZAMzMzMzMzFUAAAAAAAAAUQM3MzMzMzBRAZmZmZmZmFEAAAAAAAAAWQGZmZmZmZhZA\",\"dtype\":\"float64\",\"shape\":[12]}}},\"id\":\"5ecebfd1-70ba-42c0-974c-d6c60aa3d7c4\",\"type\":\"ColumnDataSource\"},{\"attributes\":{},\"id\":\"4c3d7d86-506c-417a-b600-422f024fa1d2\",\"type\":\"CategoricalScale\"},{\"attributes\":{\"callback\":null,\"end\":12,\"start\":2},\"id\":\"00b8ba78-e44e-4ea4-b2ae-1cf388070c97\",\"type\":\"Range1d\"},{\"attributes\":{\"source\":{\"id\":\"5ecebfd1-70ba-42c0-974c-d6c60aa3d7c4\",\"type\":\"ColumnDataSource\"}},\"id\":\"3b452ed2-23a7-428d-a591-2ca451ae8daf\",\"type\":\"CDSView\"},{\"attributes\":{},\"id\":\"38982211-4012-427e-8675-05ed6e89f524\",\"type\":\"CategoricalTickFormatter\"},{\"attributes\":{\"line_alpha\":0.1,\"line_color\":\"#1f77b4\",\"x\":{\"field\":\"x\"},\"y\":{\"field\":\"y\"}},\"id\":\"b5328ec5-f437-4e30-b992-60ad2d78a796\",\"type\":\"Line\"},{\"attributes\":{},\"id\":\"dfcf4b91-3bd8-4ac5-bc46-487a1699a39c\",\"type\":\"CategoricalTicker\"},{\"attributes\":{\"callback\":null,\"column_names\":[\"x\",\"y\"],\"data\":{\"x\":[\"Jan\",\"Feb\",\"Mar\",\"Apr\",\"May\",\"Jun\",\"Jul\",\"Aug\",\"Sep\",\"Oct\",\"Nov\",\"Dec\"],\"y\":{\"__ndarray__\":\"AAAAAAAAEEDNzMzMzMwSQAAAAAAAABJAAAAAAAAAEEAzMzMzMzMLQDMzMzMzMw9AMzMzMzMzD0DNzMzMzMwMQDMzMzMzMwtAMzMzMzMzB0BmZmZmZmYKQM3MzMzMzAxA\",\"dtype\":\"float64\",\"shape\":[12]}}},\"id\":\"ddd0da7f-30a4-4dc7-bdfa-b9ce3909eaa5\",\"type\":\"ColumnDataSource\"},{\"attributes\":{},\"id\":\"d3646241-9b28-4047-a015-b0ab9dc68786\",\"type\":\"LinearScale\"},{\"attributes\":{\"line_color\":\"#1f77b4\",\"x\":{\"field\":\"x\"},\"y\":{\"field\":\"y\"}},\"id\":\"ae13d481-bb8f-4135-84e0-a36fa79cad0a\",\"type\":\"Line\"},{\"attributes\":{\"line_alpha\":0.1,\"line_color\":\"#1f77b4\",\"x\":{\"field\":\"x\"},\"y\":{\"field\":\"y\"}},\"id\":\"bdae7593-a8a2-443b-ae8a-ce377d36a9bf\",\"type\":\"Line\"},{\"attributes\":{\"callback\":null,\"column_names\":[\"x\",\"y\"],\"data\":{\"x\":[\"Jan\",\"Feb\",\"Mar\",\"Apr\",\"May\",\"Jun\",\"Jul\",\"Aug\",\"Sep\",\"Oct\",\"Nov\",\"Dec\"],\"y\":{\"__ndarray__\":\"mpmZmZmZEUDNzMzMzMwQQAAAAAAAABBAzczMzMzMDECamZmZmZkNQGZmZmZmZhJAMzMzMzMzD0DNzMzMzMwMQGZmZmZmZgpAmpmZmZmZCUAzMzMzMzMLQAAAAAAAAAxA\",\"dtype\":\"float64\",\"shape\":[12]}}},\"id\":\"d8161de9-4976-4fae-983c-92e80ac14f98\",\"type\":\"ColumnDataSource\"},{\"attributes\":{\"source\":{\"id\":\"ddd0da7f-30a4-4dc7-bdfa-b9ce3909eaa5\",\"type\":\"ColumnDataSource\"}},\"id\":\"e7b2ae96-0209-40e6-b529-88e6141167bf\",\"type\":\"CDSView\"},{\"attributes\":{\"callback\":null,\"column_names\":[\"x\",\"y\"],\"data\":{\"x\":[\"Jan\",\"Feb\",\"Mar\",\"Apr\",\"May\",\"Jun\",\"Jul\",\"Aug\",\"Sep\",\"Oct\",\"Nov\",\"Dec\"],\"y\":{\"__ndarray__\":\"ZmZmZmZmGkCamZmZmZkbQDMzMzMzMxlAZmZmZmZmFkAAAAAAAAAWQM3MzMzMzBhAZmZmZmZmFkDNzMzMzMwUQDMzMzMzMxNAzczMzMzMEkAzMzMzMzMVQDMzMzMzMxVA\",\"dtype\":\"float64\",\"shape\":[12]}}},\"id\":\"111d3aa1-4c72-4f7d-80a1-8eb08a49a2d0\",\"type\":\"ColumnDataSource\"},{\"attributes\":{\"source\":{\"id\":\"882ca915-41b0-49dc-9e73-2b1a7d8904b9\",\"type\":\"ColumnDataSource\"}},\"id\":\"9f0ed37e-bd30-44a7-92d8-20a69a419cde\",\"type\":\"CDSView\"},{\"attributes\":{\"line_alpha\":0.1,\"line_color\":\"#1f77b4\",\"x\":{\"field\":\"x\"},\"y\":{\"field\":\"y\"}},\"id\":\"60bcc6cf-0c17-4065-93c7-09d8962d079e\",\"type\":\"Line\"},{\"attributes\":{\"data_source\":{\"id\":\"111d3aa1-4c72-4f7d-80a1-8eb08a49a2d0\",\"type\":\"ColumnDataSource\"},\"glyph\":{\"id\":\"ae13d481-bb8f-4135-84e0-a36fa79cad0a\",\"type\":\"Line\"},\"hover_glyph\":null,\"muted_glyph\":null,\"nonselection_glyph\":{\"id\":\"60bcc6cf-0c17-4065-93c7-09d8962d079e\",\"type\":\"Line\"},\"selection_glyph\":null,\"view\":{\"id\":\"049f6630-5701-498e-bb01-e73b4b3f88f3\",\"type\":\"CDSView\"}},\"id\":\"5649b403-7724-463c-9001-11cbe91b3d4f\",\"type\":\"GlyphRenderer\"},{\"attributes\":{\"callback\":null,\"column_names\":[\"x\",\"y\"],\"data\":{\"x\":[\"Jan\",\"Feb\",\"Mar\",\"Apr\",\"May\",\"Jun\",\"Jul\",\"Aug\",\"Sep\",\"Oct\",\"Nov\",\"Dec\"],\"y\":{\"__ndarray__\":\"mpmZmZmZGUDNzMzMzMwYQJqZmZmZmRdAMzMzMzMzFUAzMzMzMzMTQJqZmZmZmRdAmpmZmZmZE0AzMzMzMzMTQAAAAAAAABJAmpmZmZmZEUAAAAAAAAASQM3MzMzMzBJA\",\"dtype\":\"float64\",\"shape\":[12]}}},\"id\":\"882ca915-41b0-49dc-9e73-2b1a7d8904b9\",\"type\":\"ColumnDataSource\"},{\"attributes\":{\"callback\":null,\"column_names\":[\"x\",\"y\"],\"data\":{\"x\":[\"Jan\",\"Feb\",\"Mar\",\"Apr\",\"May\",\"Jun\",\"Jul\",\"Aug\",\"Sep\",\"Oct\",\"Nov\",\"Dec\"],\"y\":{\"__ndarray__\":\"AAAAAAAAEEDNzMzMzMwQQGZmZmZmZg5AmpmZmZmZCUAzMzMzMzMHQAAAAAAAABJAAAAAAAAAEEAAAAAAAAAMQGZmZmZmZgpAmpmZmZmZCUBmZmZmZmYKQM3MzMzMzAhA\",\"dtype\":\"float64\",\"shape\":[12]}}},\"id\":\"a86b1f6d-ad73-4dd1-a786-ed85ff0bd130\",\"type\":\"ColumnDataSource\"},{\"attributes\":{\"line_color\":\"#1f77b4\",\"x\":{\"field\":\"x\"},\"y\":{\"field\":\"y\"}},\"id\":\"804e6abc-56c3-4faa-b7e9-b2f518f92b0b\",\"type\":\"Line\"},{\"attributes\":{},\"id\":\"2c6d8021-c49c-4f2d-8594-57d2dff646fd\",\"type\":\"BasicTickFormatter\"},{\"attributes\":{\"data_source\":{\"id\":\"882ca915-41b0-49dc-9e73-2b1a7d8904b9\",\"type\":\"ColumnDataSource\"},\"glyph\":{\"id\":\"bdb772a5-c858-45b1-ae95-312175184ccb\",\"type\":\"Line\"},\"hover_glyph\":null,\"muted_glyph\":null,\"nonselection_glyph\":{\"id\":\"a7e765a8-6b1d-4ecd-ba90-5be028da2388\",\"type\":\"Line\"},\"selection_glyph\":null,\"view\":{\"id\":\"9f0ed37e-bd30-44a7-92d8-20a69a419cde\",\"type\":\"CDSView\"}},\"id\":\"27bdab3f-3959-4558-994f-184bf66c23c5\",\"type\":\"GlyphRenderer\"},{\"attributes\":{\"source\":{\"id\":\"111d3aa1-4c72-4f7d-80a1-8eb08a49a2d0\",\"type\":\"ColumnDataSource\"}},\"id\":\"049f6630-5701-498e-bb01-e73b4b3f88f3\",\"type\":\"CDSView\"},{\"attributes\":{\"line_color\":\"#1f77b4\",\"x\":{\"field\":\"x\"},\"y\":{\"field\":\"y\"}},\"id\":\"9ad91606-d009-46cc-b09d-a282781d3e81\",\"type\":\"Line\"},{\"attributes\":{\"data_source\":{\"id\":\"980cdaed-1d37-491b-8b2e-b26472b967a7\",\"type\":\"ColumnDataSource\"},\"glyph\":{\"id\":\"9ad91606-d009-46cc-b09d-a282781d3e81\",\"type\":\"Line\"},\"hover_glyph\":null,\"muted_glyph\":null,\"nonselection_glyph\":{\"id\":\"bdae7593-a8a2-443b-ae8a-ce377d36a9bf\",\"type\":\"Line\"},\"selection_glyph\":null,\"view\":{\"id\":\"5116385b-4547-4dfc-a52d-fa24e060adfb\",\"type\":\"CDSView\"}},\"id\":\"e3bda896-8088-4863-92dd-2be9701aad46\",\"type\":\"GlyphRenderer\"},{\"attributes\":{\"line_color\":\"#1f77b4\",\"x\":{\"field\":\"x\"},\"y\":{\"field\":\"y\"}},\"id\":\"3f1e3d52-3843-44fe-80f4-d25f75ed5697\",\"type\":\"Line\"},{\"attributes\":{\"data_source\":{\"id\":\"a201a445-90cb-414d-9863-c188576f0612\",\"type\":\"ColumnDataSource\"},\"glyph\":{\"id\":\"3f1e3d52-3843-44fe-80f4-d25f75ed5697\",\"type\":\"Line\"},\"hover_glyph\":null,\"muted_glyph\":null,\"nonselection_glyph\":{\"id\":\"80dad705-d6ce-465a-9667-481f0553d5cb\",\"type\":\"Line\"},\"selection_glyph\":null,\"view\":{\"id\":\"4236e281-65b1-4094-aecb-873840cbf924\",\"type\":\"CDSView\"}},\"id\":\"f14b890d-fa07-47aa-b155-579d3dac732c\",\"type\":\"GlyphRenderer\"},{\"attributes\":{\"line_alpha\":0.1,\"line_color\":\"#1f77b4\",\"x\":{\"field\":\"x\"},\"y\":{\"field\":\"y\"}},\"id\":\"f390332e-e533-4dc5-9d1d-69d16dd30f07\",\"type\":\"Line\"},{\"attributes\":{\"callback\":null,\"factors\":[\"Jan\",\"Feb\",\"Mar\",\"Apr\",\"May\",\"Jun\",\"Jul\",\"Aug\",\"Sep\",\"Oct\",\"Nov\",\"Dec\"]},\"id\":\"ade8c429-a502-46c4-b244-8f9a119ee298\",\"type\":\"FactorRange\"},{\"attributes\":{\"source\":{\"id\":\"980cdaed-1d37-491b-8b2e-b26472b967a7\",\"type\":\"ColumnDataSource\"}},\"id\":\"5116385b-4547-4dfc-a52d-fa24e060adfb\",\"type\":\"CDSView\"},{\"attributes\":{\"line_alpha\":0.1,\"line_color\":\"#1f77b4\",\"x\":{\"field\":\"x\"},\"y\":{\"field\":\"y\"}},\"id\":\"20558243-76fc-430b-93ef-7463d258214c\",\"type\":\"Line\"},{\"attributes\":{\"callback\":null,\"column_names\":[\"x\",\"y\"],\"data\":{\"x\":[\"Jan\",\"Feb\",\"Mar\",\"Apr\",\"May\",\"Jun\",\"Jul\",\"Aug\",\"Sep\",\"Oct\",\"Nov\",\"Dec\"],\"y\":{\"__ndarray__\":\"zczMzMzMEEDNzMzMzMwQQDMzMzMzMw9AAAAAAAAADECamZmZmZkJQGZmZmZmZhJAZmZmZmZmEECamZmZmZkNQJqZmZmZmQ1AZmZmZmZmDkCamZmZmZkNQAAAAAAAAAxA\",\"dtype\":\"float64\",\"shape\":[12]}}},\"id\":\"214a4e4e-2e9e-4a93-8f9c-f6c64ee095df\",\"type\":\"ColumnDataSource\"},{\"attributes\":{\"line_color\":\"#1f77b4\",\"x\":{\"field\":\"x\"},\"y\":{\"field\":\"y\"}},\"id\":\"9c897288-f012-42e4-9521-676f2118ae39\",\"type\":\"Line\"},{\"attributes\":{\"data_source\":{\"id\":\"5ecebfd1-70ba-42c0-974c-d6c60aa3d7c4\",\"type\":\"ColumnDataSource\"},\"glyph\":{\"id\":\"9c897288-f012-42e4-9521-676f2118ae39\",\"type\":\"Line\"},\"hover_glyph\":null,\"muted_glyph\":null,\"nonselection_glyph\":{\"id\":\"f390332e-e533-4dc5-9d1d-69d16dd30f07\",\"type\":\"Line\"},\"selection_glyph\":null,\"view\":{\"id\":\"3b452ed2-23a7-428d-a591-2ca451ae8daf\",\"type\":\"CDSView\"}},\"id\":\"fd749c3f-9f2e-429e-ab31-560580c6bc91\",\"type\":\"GlyphRenderer\"},{\"attributes\":{\"active_drag\":\"auto\",\"active_inspect\":\"auto\",\"active_scroll\":\"auto\",\"active_tap\":\"auto\",\"tools\":[{\"id\":\"b482777b-d946-4555-8114-27a2fb96b786\",\"type\":\"PanTool\"},{\"id\":\"ed4d7e49-2f24-4dc2-9715-806c6f0139b0\",\"type\":\"BoxZoomTool\"},{\"id\":\"9034e896-3bc4-487b-a2cd-7c8d21f535e5\",\"type\":\"ResetTool\"},{\"id\":\"728fbd94-914d-412d-af1f-dc2c66e0aebf\",\"type\":\"SaveTool\"}]},\"id\":\"da228fa1-362f-4131-b2cc-e728d4de7ee6\",\"type\":\"Toolbar\"},{\"attributes\":{\"data_source\":{\"id\":\"d8161de9-4976-4fae-983c-92e80ac14f98\",\"type\":\"ColumnDataSource\"},\"glyph\":{\"id\":\"804e6abc-56c3-4faa-b7e9-b2f518f92b0b\",\"type\":\"Line\"},\"hover_glyph\":null,\"muted_glyph\":null,\"nonselection_glyph\":{\"id\":\"20558243-76fc-430b-93ef-7463d258214c\",\"type\":\"Line\"},\"selection_glyph\":null,\"view\":{\"id\":\"cd40f1c3-5a3c-4790-8b27-f581a219eeb3\",\"type\":\"CDSView\"}},\"id\":\"fa6082c6-279b-472b-b3de-99442848c330\",\"type\":\"GlyphRenderer\"},{\"attributes\":{\"line_color\":\"#1f77b4\",\"x\":{\"field\":\"x\"},\"y\":{\"field\":\"y\"}},\"id\":\"61d4b236-79f4-460c-842e-64cc02688d32\",\"type\":\"Line\"},{\"attributes\":{\"data_source\":{\"id\":\"214a4e4e-2e9e-4a93-8f9c-f6c64ee095df\",\"type\":\"ColumnDataSource\"},\"glyph\":{\"id\":\"61d4b236-79f4-460c-842e-64cc02688d32\",\"type\":\"Line\"},\"hover_glyph\":null,\"muted_glyph\":null,\"nonselection_glyph\":{\"id\":\"b5328ec5-f437-4e30-b992-60ad2d78a796\",\"type\":\"Line\"},\"selection_glyph\":null,\"view\":{\"id\":\"07c8eece-8b30-4a15-b87e-2aef5f45dd42\",\"type\":\"CDSView\"}},\"id\":\"7921fcde-67eb-412b-9211-7a0b11e9ba89\",\"type\":\"GlyphRenderer\"},{\"attributes\":{\"source\":{\"id\":\"214a4e4e-2e9e-4a93-8f9c-f6c64ee095df\",\"type\":\"ColumnDataSource\"}},\"id\":\"07c8eece-8b30-4a15-b87e-2aef5f45dd42\",\"type\":\"CDSView\"},{\"attributes\":{\"line_alpha\":0.1,\"line_color\":\"#1f77b4\",\"x\":{\"field\":\"x\"},\"y\":{\"field\":\"y\"}},\"id\":\"d51c1906-954e-4cdc-b1a9-a4c9d8b6b516\",\"type\":\"Line\"},{\"attributes\":{\"callback\":null,\"column_names\":[\"x\",\"y\"],\"data\":{\"x\":[\"Jan\",\"Feb\",\"Mar\",\"Apr\",\"May\",\"Jun\",\"Jul\",\"Aug\",\"Sep\",\"Oct\",\"Nov\",\"Dec\"],\"y\":{\"__ndarray__\":\"mpmZmZmZDUCamZmZmZkNQAAAAAAAAAxAmpmZmZmZCUAzMzMzMzMHQGZmZmZmZhBAZmZmZmZmDkAAAAAAAAAMQJqZmZmZmQ1AAAAAAAAADEBmZmZmZmYKQJqZmZmZmQlA\",\"dtype\":\"float64\",\"shape\":[12]}}},\"id\":\"a201a445-90cb-414d-9863-c188576f0612\",\"type\":\"ColumnDataSource\"},{\"attributes\":{\"plot\":null,\"text\":\"\"},\"id\":\"ecbfab2d-1111-4527-b475-2f067b26bc6c\",\"type\":\"Title\"},{\"attributes\":{\"source\":{\"id\":\"d8161de9-4976-4fae-983c-92e80ac14f98\",\"type\":\"ColumnDataSource\"}},\"id\":\"cd40f1c3-5a3c-4790-8b27-f581a219eeb3\",\"type\":\"CDSView\"},{\"attributes\":{\"line_color\":\"#1f77b4\",\"x\":{\"field\":\"x\"},\"y\":{\"field\":\"y\"}},\"id\":\"9eb975e8-6ae1-4a69-9fe6-a5b13c58d366\",\"type\":\"Line\"},{\"attributes\":{\"line_color\":\"#1f77b4\",\"x\":{\"field\":\"x\"},\"y\":{\"field\":\"y\"}},\"id\":\"ded3c5ca-dcd5-452c-9d67-187525929860\",\"type\":\"Line\"},{\"attributes\":{\"callback\":null,\"column_names\":[\"x\",\"y\"],\"data\":{\"x\":[\"Jan\",\"Feb\",\"Mar\",\"Apr\",\"May\",\"Jun\",\"Jul\",\"Aug\",\"Sep\",\"Oct\",\"Nov\",\"Dec\"],\"y\":{\"__ndarray__\":\"MzMzMzMzC0CamZmZmZkJQDMzMzMzMwdAZmZmZmZmBkAAAAAAAAAEQJqZmZmZmQVAmpmZmZmZBUAzMzMzMzMDQM3MzMzMzARAAAAAAAAABECamZmZmZkJQM3MzMzMzBBA\",\"dtype\":\"float64\",\"shape\":[12]}}},\"id\":\"e7303a8e-677e-4733-9b26-dba174a3cc37\",\"type\":\"ColumnDataSource\"},{\"attributes\":{\"data_source\":{\"id\":\"e7303a8e-677e-4733-9b26-dba174a3cc37\",\"type\":\"ColumnDataSource\"},\"glyph\":{\"id\":\"ded3c5ca-dcd5-452c-9d67-187525929860\",\"type\":\"Line\"},\"hover_glyph\":null,\"muted_glyph\":null,\"nonselection_glyph\":{\"id\":\"09db5664-07e0-4a32-ac61-462853ee579a\",\"type\":\"Line\"},\"selection_glyph\":null,\"view\":{\"id\":\"6eb46fc4-8645-4330-be39-f32562c802ff\",\"type\":\"CDSView\"}},\"id\":\"5102ac1c-6c7b-4aac-acfa-511bdb135425\",\"type\":\"GlyphRenderer\"},{\"attributes\":{\"callback\":null,\"column_names\":[\"x\",\"y\"],\"data\":{\"x\":[\"Jan\",\"Feb\",\"Mar\",\"Apr\",\"May\",\"Jun\",\"Jul\",\"Aug\",\"Sep\",\"Oct\",\"Nov\",\"Dec\"],\"y\":{\"__ndarray__\":\"zczMzMzMEkAzMzMzMzMTQM3MzMzMzBJAZmZmZmZmEEDNzMzMzMwQQM3MzMzMzBJAmpmZmZmZEUCamZmZmZkNQDMzMzMzMwtAzczMzMzMCEAzMzMzMzMPQAAAAAAAABBA\",\"dtype\":\"float64\",\"shape\":[12]}}},\"id\":\"3a17fb1a-1445-4136-9629-3a16d0d16554\",\"type\":\"ColumnDataSource\"},{\"attributes\":{\"line_color\":\"#1f77b4\",\"x\":{\"field\":\"x\"},\"y\":{\"field\":\"y\"}},\"id\":\"71e833a2-7d37-40e5-9229-d51f002b3fc3\",\"type\":\"Line\"},{\"attributes\":{\"formatter\":{\"id\":\"2c6d8021-c49c-4f2d-8594-57d2dff646fd\",\"type\":\"BasicTickFormatter\"},\"plot\":{\"id\":\"bc27f9cd-8199-4e7e-81b8-857cce10fe5d\",\"subtype\":\"Figure\",\"type\":\"Plot\"},\"ticker\":{\"id\":\"2e7e72d6-b1ed-494b-9f2b-a8ffe561c691\",\"type\":\"BasicTicker\"}},\"id\":\"e19c50dd-899c-4a5c-a28a-96048e9e2f54\",\"type\":\"LinearAxis\"},{\"attributes\":{\"data_source\":{\"id\":\"b06789ee-4adc-45b6-b561-5670bb2592e8\",\"type\":\"ColumnDataSource\"},\"glyph\":{\"id\":\"71e833a2-7d37-40e5-9229-d51f002b3fc3\",\"type\":\"Line\"},\"hover_glyph\":null,\"muted_glyph\":null,\"nonselection_glyph\":{\"id\":\"c9882c4a-0138-41d6-a343-27b04070bcf1\",\"type\":\"Line\"},\"selection_glyph\":null,\"view\":{\"id\":\"f241ad1b-1c0b-4f25-9f07-678841904968\",\"type\":\"CDSView\"}},\"id\":\"6b923568-41d1-4cb5-8ca5-c7e5a78c7016\",\"type\":\"GlyphRenderer\"},{\"attributes\":{\"line_color\":\"#1f77b4\",\"x\":{\"field\":\"x\"},\"y\":{\"field\":\"y\"}},\"id\":\"b72a59a7-e35f-4090-83ff-b2b63260407a\",\"type\":\"Line\"},{\"attributes\":{\"line_alpha\":0.1,\"line_color\":\"#1f77b4\",\"x\":{\"field\":\"x\"},\"y\":{\"field\":\"y\"}},\"id\":\"c9882c4a-0138-41d6-a343-27b04070bcf1\",\"type\":\"Line\"},{\"attributes\":{\"source\":{\"id\":\"b06789ee-4adc-45b6-b561-5670bb2592e8\",\"type\":\"ColumnDataSource\"}},\"id\":\"f241ad1b-1c0b-4f25-9f07-678841904968\",\"type\":\"CDSView\"},{\"attributes\":{\"line_color\":\"#1f77b4\",\"x\":{\"field\":\"x\"},\"y\":{\"field\":\"y\"}},\"id\":\"8059e8d7-815d-4b3f-acd5-e93597f1c10e\",\"type\":\"Line\"},{\"attributes\":{\"callback\":null,\"column_names\":[\"x\",\"y\"],\"data\":{\"x\":[\"Jan\",\"Feb\",\"Mar\",\"Apr\",\"May\",\"Jun\",\"Jul\",\"Aug\",\"Sep\",\"Oct\",\"Nov\",\"Dec\"],\"y\":{\"__ndarray__\":\"zczMzMzMFkAzMzMzMzMZQJqZmZmZmRlAZmZmZmZmGEDNzMzMzMwWQM3MzMzMzBZAzczMzMzMFkCamZmZmZkVQDMzMzMzMxVAZmZmZmZmEkCamZmZmZkTQDMzMzMzMxNA\",\"dtype\":\"float64\",\"shape\":[12]}}},\"id\":\"b06789ee-4adc-45b6-b561-5670bb2592e8\",\"type\":\"ColumnDataSource\"},{\"attributes\":{\"source\":{\"id\":\"e7303a8e-677e-4733-9b26-dba174a3cc37\",\"type\":\"ColumnDataSource\"}},\"id\":\"6eb46fc4-8645-4330-be39-f32562c802ff\",\"type\":\"CDSView\"},{\"attributes\":{\"data_source\":{\"id\":\"27206167-117a-431f-addc-56df50de5668\",\"type\":\"ColumnDataSource\"},\"glyph\":{\"id\":\"5fff8950-4de2-41aa-83e8-fa00c148af6d\",\"type\":\"Line\"},\"hover_glyph\":null,\"muted_glyph\":null,\"nonselection_glyph\":{\"id\":\"89164a29-e9d8-4cc2-a194-d214f362783a\",\"type\":\"Line\"},\"selection_glyph\":null,\"view\":{\"id\":\"14389328-a0e6-4bfa-8ce2-2cddd4fd501e\",\"type\":\"CDSView\"}},\"id\":\"9c77dd8e-aed9-4295-b946-893d459a0ba7\",\"type\":\"GlyphRenderer\"},{\"attributes\":{\"callback\":null,\"column_names\":[\"x\",\"y\"],\"data\":{\"x\":[\"Jan\",\"Feb\",\"Mar\",\"Apr\",\"May\",\"Jun\",\"Jul\",\"Aug\",\"Sep\",\"Oct\",\"Nov\",\"Dec\"],\"y\":{\"__ndarray__\":\"mpmZmZmZE0DNzMzMzMwSQDMzMzMzMxFAAAAAAAAAEEAzMzMzMzMPQGZmZmZmZhJAZmZmZmZmEECamZmZmZkNQJqZmZmZmQ1AzczMzMzMDEBmZmZmZmYSQAAAAAAAABRA\",\"dtype\":\"float64\",\"shape\":[12]}}},\"id\":\"5c6a9645-324d-4b7e-ae50-a068b3e5641d\",\"type\":\"ColumnDataSource\"},{\"attributes\":{\"line_alpha\":0.1,\"line_color\":\"#1f77b4\",\"x\":{\"field\":\"x\"},\"y\":{\"field\":\"y\"}},\"id\":\"89164a29-e9d8-4cc2-a194-d214f362783a\",\"type\":\"Line\"},{\"attributes\":{\"line_alpha\":0.1,\"line_color\":\"#1f77b4\",\"x\":{\"field\":\"x\"},\"y\":{\"field\":\"y\"}},\"id\":\"c3b5be1b-d451-43dd-b207-5daf3f718462\",\"type\":\"Line\"},{\"attributes\":{\"data_source\":{\"id\":\"3a17fb1a-1445-4136-9629-3a16d0d16554\",\"type\":\"ColumnDataSource\"},\"glyph\":{\"id\":\"b72a59a7-e35f-4090-83ff-b2b63260407a\",\"type\":\"Line\"},\"hover_glyph\":null,\"muted_glyph\":null,\"nonselection_glyph\":{\"id\":\"c3b5be1b-d451-43dd-b207-5daf3f718462\",\"type\":\"Line\"},\"selection_glyph\":null,\"view\":{\"id\":\"1a823988-d92d-48e0-8781-34d0e984cdd9\",\"type\":\"CDSView\"}},\"id\":\"8bbc6935-9af0-45b3-9018-82b9b79873f4\",\"type\":\"GlyphRenderer\"},{\"attributes\":{\"source\":{\"id\":\"27206167-117a-431f-addc-56df50de5668\",\"type\":\"ColumnDataSource\"}},\"id\":\"14389328-a0e6-4bfa-8ce2-2cddd4fd501e\",\"type\":\"CDSView\"},{\"attributes\":{\"callback\":null,\"column_names\":[\"x\",\"y\"],\"data\":{\"x\":[\"Jan\",\"Feb\",\"Mar\",\"Apr\",\"May\",\"Jun\",\"Jul\",\"Aug\",\"Sep\",\"Oct\",\"Nov\",\"Dec\"],\"y\":{\"__ndarray__\":\"MzMzMzMzF0DNzMzMzMwWQM3MzMzMzBRAmpmZmZmZE0DNzMzMzMwQQJqZmZmZmRFAAAAAAAAAEEBmZmZmZmYOQAAAAAAAAAxAMzMzMzMzC0BmZmZmZmYOQDMzMzMzMw9A\",\"dtype\":\"float64\",\"shape\":[12]}}},\"id\":\"27206167-117a-431f-addc-56df50de5668\",\"type\":\"ColumnDataSource\"},{\"attributes\":{\"source\":{\"id\":\"3a17fb1a-1445-4136-9629-3a16d0d16554\",\"type\":\"ColumnDataSource\"}},\"id\":\"1a823988-d92d-48e0-8781-34d0e984cdd9\",\"type\":\"CDSView\"},{\"attributes\":{\"line_alpha\":0.1,\"line_color\":\"#1f77b4\",\"x\":{\"field\":\"x\"},\"y\":{\"field\":\"y\"}},\"id\":\"09db5664-07e0-4a32-ac61-462853ee579a\",\"type\":\"Line\"},{\"attributes\":{\"line_color\":\"#1f77b4\",\"x\":{\"field\":\"x\"},\"y\":{\"field\":\"y\"}},\"id\":\"5fff8950-4de2-41aa-83e8-fa00c148af6d\",\"type\":\"Line\"},{\"attributes\":{\"data_source\":{\"id\":\"ea2d318c-1e2b-4f46-bb78-8aaf4597ea21\",\"type\":\"ColumnDataSource\"},\"glyph\":{\"id\":\"44f7842d-09b5-4089-865a-8c661cfc9ec9\",\"type\":\"Line\"},\"hover_glyph\":null,\"muted_glyph\":null,\"nonselection_glyph\":{\"id\":\"341398fb-598e-4e62-84f9-62febfe0bf47\",\"type\":\"Line\"},\"selection_glyph\":null,\"view\":{\"id\":\"378bdd17-8fc1-4308-9089-f3fbd886e87e\",\"type\":\"CDSView\"}},\"id\":\"eb26cbba-e311-428a-a0c5-11772d3f4a57\",\"type\":\"GlyphRenderer\"},{\"attributes\":{\"line_alpha\":0.1,\"line_color\":\"#1f77b4\",\"x\":{\"field\":\"x\"},\"y\":{\"field\":\"y\"}},\"id\":\"341398fb-598e-4e62-84f9-62febfe0bf47\",\"type\":\"Line\"},{\"attributes\":{\"line_color\":\"#1f77b4\",\"x\":{\"field\":\"x\"},\"y\":{\"field\":\"y\"}},\"id\":\"44f7842d-09b5-4089-865a-8c661cfc9ec9\",\"type\":\"Line\"},{\"attributes\":{\"callback\":null,\"column_names\":[\"x\",\"y\"],\"data\":{\"x\":[\"Jan\",\"Feb\",\"Mar\",\"Apr\",\"May\",\"Jun\",\"Jul\",\"Aug\",\"Sep\",\"Oct\",\"Nov\",\"Dec\"],\"y\":{\"__ndarray__\":\"AAAAAAAAHEAAAAAAAAAcQJqZmZmZmRlAzczMzMzMFECamZmZmZkTQJqZmZmZmRVAzczMzMzMFEAzMzMzMzMTQM3MzMzMzBJAzczMzMzMEkAzMzMzMzMVQGZmZmZmZhRA\",\"dtype\":\"float64\",\"shape\":[12]}}},\"id\":\"75b0e557-1bf2-4079-82d0-24e6970d2d67\",\"type\":\"ColumnDataSource\"},{\"attributes\":{\"line_color\":\"#1f77b4\",\"x\":{\"field\":\"x\"},\"y\":{\"field\":\"y\"}},\"id\":\"04a21b98-c8cd-4a36-b3a3-d3533fc82783\",\"type\":\"Line\"},{\"attributes\":{\"line_alpha\":0.1,\"line_color\":\"#1f77b4\",\"x\":{\"field\":\"x\"},\"y\":{\"field\":\"y\"}},\"id\":\"81e32090-82f1-4f32-a782-7e3366e3514e\",\"type\":\"Line\"},{\"attributes\":{\"source\":{\"id\":\"ea2d318c-1e2b-4f46-bb78-8aaf4597ea21\",\"type\":\"ColumnDataSource\"}},\"id\":\"378bdd17-8fc1-4308-9089-f3fbd886e87e\",\"type\":\"CDSView\"},{\"attributes\":{\"source\":{\"id\":\"5c6a9645-324d-4b7e-ae50-a068b3e5641d\",\"type\":\"ColumnDataSource\"}},\"id\":\"c41cb200-2566-481f-8ccc-711f68ac0a41\",\"type\":\"CDSView\"},{\"attributes\":{\"callback\":null,\"column_names\":[\"x\",\"y\"],\"data\":{\"x\":[\"Jan\",\"Feb\",\"Mar\",\"Apr\",\"May\",\"Jun\",\"Jul\",\"Aug\",\"Sep\",\"Oct\",\"Nov\",\"Dec\"],\"y\":{\"__ndarray__\":\"MzMzMzMzG0DNzMzMzMweQM3MzMzMzB5AAAAAAAAAHkBmZmZmZmYcQGZmZmZmZh5AmpmZmZmZHUDNzMzMzMwaQAAAAAAAABhAAAAAAAAAFkBmZmZmZmYWQAAAAAAAABhA\",\"dtype\":\"float64\",\"shape\":[12]}}},\"id\":\"ea2d318c-1e2b-4f46-bb78-8aaf4597ea21\",\"type\":\"ColumnDataSource\"},{\"attributes\":{\"data_source\":{\"id\":\"5c6a9645-324d-4b7e-ae50-a068b3e5641d\",\"type\":\"ColumnDataSource\"},\"glyph\":{\"id\":\"8059e8d7-815d-4b3f-acd5-e93597f1c10e\",\"type\":\"Line\"},\"hover_glyph\":null,\"muted_glyph\":null,\"nonselection_glyph\":{\"id\":\"81e32090-82f1-4f32-a782-7e3366e3514e\",\"type\":\"Line\"},\"selection_glyph\":null,\"view\":{\"id\":\"c41cb200-2566-481f-8ccc-711f68ac0a41\",\"type\":\"CDSView\"}},\"id\":\"58ac827a-dcea-4b0d-ab59-9f04781ff43d\",\"type\":\"GlyphRenderer\"},{\"attributes\":{\"data_source\":{\"id\":\"5bd2f995-75f5-48f5-ae59-9945e79c4efe\",\"type\":\"ColumnDataSource\"},\"glyph\":{\"id\":\"d831741e-5127-4da0-b80d-ebd72f94fb39\",\"type\":\"Line\"},\"hover_glyph\":null,\"muted_glyph\":null,\"nonselection_glyph\":{\"id\":\"50b52d4e-7ff8-4956-9605-f23935090ab6\",\"type\":\"Line\"},\"selection_glyph\":null,\"view\":{\"id\":\"9d9ae824-6b12-48b7-ab36-0f3cda415d3b\",\"type\":\"CDSView\"}},\"id\":\"4fb2d967-9576-4a13-9973-edb4efb44c2d\",\"type\":\"GlyphRenderer\"},{\"attributes\":{\"source\":{\"id\":\"75b0e557-1bf2-4079-82d0-24e6970d2d67\",\"type\":\"ColumnDataSource\"}},\"id\":\"5abe5321-0098-4e99-95f9-ea231a6328c6\",\"type\":\"CDSView\"},{\"attributes\":{\"line_alpha\":0.1,\"line_color\":\"#1f77b4\",\"x\":{\"field\":\"x\"},\"y\":{\"field\":\"y\"}},\"id\":\"602465a9-e409-45ab-be28-7e58d8a645cf\",\"type\":\"Line\"},{\"attributes\":{\"line_alpha\":0.1,\"line_color\":\"#1f77b4\",\"x\":{\"field\":\"x\"},\"y\":{\"field\":\"y\"}},\"id\":\"9acc9927-8393-4be6-8942-c0c4df8efe28\",\"type\":\"Line\"},{\"attributes\":{\"line_color\":\"#1f77b4\",\"x\":{\"field\":\"x\"},\"y\":{\"field\":\"y\"}},\"id\":\"7e7bf3bc-f3d7-4732-a66f-4c56ebb39f12\",\"type\":\"Line\"},{\"attributes\":{\"source\":{\"id\":\"5bd2f995-75f5-48f5-ae59-9945e79c4efe\",\"type\":\"ColumnDataSource\"}},\"id\":\"9d9ae824-6b12-48b7-ab36-0f3cda415d3b\",\"type\":\"CDSView\"},{\"attributes\":{\"data_source\":{\"id\":\"75b0e557-1bf2-4079-82d0-24e6970d2d67\",\"type\":\"ColumnDataSource\"},\"glyph\":{\"id\":\"04a21b98-c8cd-4a36-b3a3-d3533fc82783\",\"type\":\"Line\"},\"hover_glyph\":null,\"muted_glyph\":null,\"nonselection_glyph\":{\"id\":\"7d8302b6-29d5-4d91-a101-39f20a6f153c\",\"type\":\"Line\"},\"selection_glyph\":null,\"view\":{\"id\":\"5abe5321-0098-4e99-95f9-ea231a6328c6\",\"type\":\"CDSView\"}},\"id\":\"23a0e616-202a-49b7-bb93-dd27639e5c85\",\"type\":\"GlyphRenderer\"},{\"attributes\":{\"line_alpha\":0.1,\"line_color\":\"#1f77b4\",\"x\":{\"field\":\"x\"},\"y\":{\"field\":\"y\"}},\"id\":\"b44cea25-d9a1-405a-8e63-96dcb8f5b592\",\"type\":\"Line\"},{\"attributes\":{\"source\":{\"id\":\"f79c3502-793c-46d9-a307-71298ba04c4d\",\"type\":\"ColumnDataSource\"}},\"id\":\"49e307f5-cbca-4be6-8adc-c23dc5a0d615\",\"type\":\"CDSView\"},{\"attributes\":{\"line_alpha\":0.1,\"line_color\":\"#1f77b4\",\"x\":{\"field\":\"x\"},\"y\":{\"field\":\"y\"}},\"id\":\"b527815b-6867-4105-a840-0303331ebe9f\",\"type\":\"Line\"},{\"attributes\":{\"line_color\":\"#1f77b4\",\"x\":{\"field\":\"x\"},\"y\":{\"field\":\"y\"}},\"id\":\"c4295eb3-deaf-4ea9-baac-4289119730fe\",\"type\":\"Line\"},{\"attributes\":{\"callback\":null,\"column_names\":[\"x\",\"y\"],\"data\":{\"x\":[\"Jan\",\"Feb\",\"Mar\",\"Apr\",\"May\",\"Jun\",\"Jul\",\"Aug\",\"Sep\",\"Oct\",\"Nov\",\"Dec\"],\"y\":{\"__ndarray__\":\"zczMzMzMHkAzMzMzMzMgQM3MzMzMzB5AAAAAAAAAHEBmZmZmZmYaQDMzMzMzMx1AmpmZmZmZG0DNzMzMzMwYQDMzMzMzMxdAAAAAAAAAFkBmZmZmZmYWQDMzMzMzMxdA\",\"dtype\":\"float64\",\"shape\":[12]}}},\"id\":\"d521ba6a-fc6d-4535-8d67-a7b6ff0249fa\",\"type\":\"ColumnDataSource\"},{\"attributes\":{\"line_color\":\"#1f77b4\",\"x\":{\"field\":\"x\"},\"y\":{\"field\":\"y\"}},\"id\":\"012cbdbf-d0fc-4c9e-bb14-62c88b015515\",\"type\":\"Line\"},{\"attributes\":{\"callback\":null,\"column_names\":[\"x\",\"y\"],\"data\":{\"x\":[\"Jan\",\"Feb\",\"Mar\",\"Apr\",\"May\",\"Jun\",\"Jul\",\"Aug\",\"Sep\",\"Oct\",\"Nov\",\"Dec\"],\"y\":{\"__ndarray__\":\"mpmZmZmZDUBmZmZmZmYOQGZmZmZmZgpAAAAAAAAACEAzMzMzMzMHQJqZmZmZmQlAZmZmZmZmCkDNzMzMzMwIQJqZmZmZmQVAMzMzMzMzA0AAAAAAAAAEQAAAAAAAAARA\",\"dtype\":\"float64\",\"shape\":[12]}}},\"id\":\"f79c3502-793c-46d9-a307-71298ba04c4d\",\"type\":\"ColumnDataSource\"},{\"attributes\":{\"callback\":null,\"column_names\":[\"x\",\"y\"],\"data\":{\"x\":[\"Jan\",\"Feb\",\"Mar\",\"Apr\",\"May\",\"Jun\",\"Jul\",\"Aug\",\"Sep\",\"Oct\",\"Nov\",\"Dec\"],\"y\":{\"__ndarray__\":\"zczMzMzMGkAAAAAAAAAaQM3MzMzMzBhAAAAAAAAAFkBmZmZmZmYUQJqZmZmZmRdAMzMzMzMzFUAzMzMzMzMVQJqZmZmZmRNAAAAAAAAAEkAzMzMzMzMVQDMzMzMzMxVA\",\"dtype\":\"float64\",\"shape\":[12]}}},\"id\":\"242381dd-1031-47ab-8981-77d5ffaf66e8\",\"type\":\"ColumnDataSource\"},{\"attributes\":{\"line_color\":\"#1f77b4\",\"x\":{\"field\":\"x\"},\"y\":{\"field\":\"y\"}},\"id\":\"2bff87bd-abf1-4e3b-9113-24828f5fd43a\",\"type\":\"Line\"},{\"attributes\":{\"line_color\":\"#1f77b4\",\"x\":{\"field\":\"x\"},\"y\":{\"field\":\"y\"}},\"id\":\"7d78bd89-ba7b-4d85-ab10-95f8f1016bfe\",\"type\":\"Line\"},{\"attributes\":{\"callback\":null,\"column_names\":[\"x\",\"y\"],\"data\":{\"x\":[\"Jan\",\"Feb\",\"Mar\",\"Apr\",\"May\",\"Jun\",\"Jul\",\"Aug\",\"Sep\",\"Oct\",\"Nov\",\"Dec\"],\"y\":{\"__ndarray__\":\"ZmZmZmZmGEDNzMzMzMwWQGZmZmZmZhhAzczMzMzMFEAzMzMzMzMTQDMzMzMzMxdAAAAAAAAAFkDNzMzMzMwUQM3MzMzMzBJAAAAAAAAAFEBmZmZmZmYWQJqZmZmZmRlA\",\"dtype\":\"float64\",\"shape\":[12]}}},\"id\":\"86590b60-72b0-4f80-b898-fff21cda0c4f\",\"type\":\"ColumnDataSource\"},{\"attributes\":{\"data_source\":{\"id\":\"86590b60-72b0-4f80-b898-fff21cda0c4f\",\"type\":\"ColumnDataSource\"},\"glyph\":{\"id\":\"7e7bf3bc-f3d7-4732-a66f-4c56ebb39f12\",\"type\":\"Line\"},\"hover_glyph\":null,\"muted_glyph\":null,\"nonselection_glyph\":{\"id\":\"602465a9-e409-45ab-be28-7e58d8a645cf\",\"type\":\"Line\"},\"selection_glyph\":null,\"view\":{\"id\":\"4ba055ea-6e27-4d1e-8a1b-c4a92212f531\",\"type\":\"CDSView\"}},\"id\":\"81c287b8-71ed-4c8e-9055-6b936a6cd412\",\"type\":\"GlyphRenderer\"},{\"attributes\":{\"data_source\":{\"id\":\"d521ba6a-fc6d-4535-8d67-a7b6ff0249fa\",\"type\":\"ColumnDataSource\"},\"glyph\":{\"id\":\"0a6bfc14-59a1-44ec-8b82-8e9d5ed18ca2\",\"type\":\"Line\"},\"hover_glyph\":null,\"muted_glyph\":null,\"nonselection_glyph\":{\"id\":\"b527815b-6867-4105-a840-0303331ebe9f\",\"type\":\"Line\"},\"selection_glyph\":null,\"view\":{\"id\":\"af530a70-21d1-4cb2-b09d-ac036ca83d8d\",\"type\":\"CDSView\"}},\"id\":\"e22f6b11-f34f-47ba-8841-84ef363e6d2b\",\"type\":\"GlyphRenderer\"},{\"attributes\":{\"data_source\":{\"id\":\"f79c3502-793c-46d9-a307-71298ba04c4d\",\"type\":\"ColumnDataSource\"},\"glyph\":{\"id\":\"2bff87bd-abf1-4e3b-9113-24828f5fd43a\",\"type\":\"Line\"},\"hover_glyph\":null,\"muted_glyph\":null,\"nonselection_glyph\":{\"id\":\"9acc9927-8393-4be6-8942-c0c4df8efe28\",\"type\":\"Line\"},\"selection_glyph\":null,\"view\":{\"id\":\"49e307f5-cbca-4be6-8adc-c23dc5a0d615\",\"type\":\"CDSView\"}},\"id\":\"5b60764b-c500-4799-ab48-95a3f2e8b8ba\",\"type\":\"GlyphRenderer\"},{\"attributes\":{\"source\":{\"id\":\"d521ba6a-fc6d-4535-8d67-a7b6ff0249fa\",\"type\":\"ColumnDataSource\"}},\"id\":\"af530a70-21d1-4cb2-b09d-ac036ca83d8d\",\"type\":\"CDSView\"},{\"attributes\":{\"line_color\":\"#1f77b4\",\"x\":{\"field\":\"x\"},\"y\":{\"field\":\"y\"}},\"id\":\"d831741e-5127-4da0-b80d-ebd72f94fb39\",\"type\":\"Line\"},{\"attributes\":{\"source\":{\"id\":\"242381dd-1031-47ab-8981-77d5ffaf66e8\",\"type\":\"ColumnDataSource\"}},\"id\":\"6ca70b89-f59b-4ccc-bdf3-bd7c7ec76533\",\"type\":\"CDSView\"},{\"attributes\":{\"line_alpha\":0.1,\"line_color\":\"#1f77b4\",\"x\":{\"field\":\"x\"},\"y\":{\"field\":\"y\"}},\"id\":\"6fe946f0-9559-432e-adf4-768ba8762afa\",\"type\":\"Line\"},{\"attributes\":{\"callback\":null,\"column_names\":[\"x\",\"y\"],\"data\":{\"x\":[\"Jan\",\"Feb\",\"Mar\",\"Apr\",\"May\",\"Jun\",\"Jul\",\"Aug\",\"Sep\",\"Oct\",\"Nov\",\"Dec\"],\"y\":{\"__ndarray__\":\"ZmZmZmZmHkCamZmZmZkfQGZmZmZmZhxAAAAAAAAAGEAzMzMzMzMVQGZmZmZmZhZAMzMzMzMzFUBmZmZmZmYQQAAAAAAAABBAZmZmZmZmCkBmZmZmZmYOQDMzMzMzMw9A\",\"dtype\":\"float64\",\"shape\":[12]}}},\"id\":\"4ae7e453-6aec-41af-b375-dc631629e4fc\",\"type\":\"ColumnDataSource\"},{\"attributes\":{\"line_alpha\":0.1,\"line_color\":\"#1f77b4\",\"x\":{\"field\":\"x\"},\"y\":{\"field\":\"y\"}},\"id\":\"50b52d4e-7ff8-4956-9605-f23935090ab6\",\"type\":\"Line\"},{\"attributes\":{\"line_color\":\"#1f77b4\",\"x\":{\"field\":\"x\"},\"y\":{\"field\":\"y\"}},\"id\":\"0a6bfc14-59a1-44ec-8b82-8e9d5ed18ca2\",\"type\":\"Line\"},{\"attributes\":{\"source\":{\"id\":\"4ae7e453-6aec-41af-b375-dc631629e4fc\",\"type\":\"ColumnDataSource\"}},\"id\":\"753e9823-9364-403a-b3f2-648779656ca5\",\"type\":\"CDSView\"},{\"attributes\":{\"line_alpha\":0.1,\"line_color\":\"#1f77b4\",\"x\":{\"field\":\"x\"},\"y\":{\"field\":\"y\"}},\"id\":\"54cc4a1b-c6cd-40ee-b4b9-625f78b25423\",\"type\":\"Line\"},{\"attributes\":{\"source\":{\"id\":\"731cf12b-d57b-491d-939d-520002e8d31a\",\"type\":\"ColumnDataSource\"}},\"id\":\"cbcb18a7-815f-4257-be22-a6a7a06538d9\",\"type\":\"CDSView\"},{\"attributes\":{\"line_alpha\":0.1,\"line_color\":\"#1f77b4\",\"x\":{\"field\":\"x\"},\"y\":{\"field\":\"y\"}},\"id\":\"7d8302b6-29d5-4d91-a101-39f20a6f153c\",\"type\":\"Line\"},{\"attributes\":{\"data_source\":{\"id\":\"4ae7e453-6aec-41af-b375-dc631629e4fc\",\"type\":\"ColumnDataSource\"},\"glyph\":{\"id\":\"012cbdbf-d0fc-4c9e-bb14-62c88b015515\",\"type\":\"Line\"},\"hover_glyph\":null,\"muted_glyph\":null,\"nonselection_glyph\":{\"id\":\"6fe946f0-9559-432e-adf4-768ba8762afa\",\"type\":\"Line\"},\"selection_glyph\":null,\"view\":{\"id\":\"753e9823-9364-403a-b3f2-648779656ca5\",\"type\":\"CDSView\"}},\"id\":\"a62ce53d-e2d2-4d1f-b64e-3111f5800470\",\"type\":\"GlyphRenderer\"},{\"attributes\":{\"source\":{\"id\":\"86590b60-72b0-4f80-b898-fff21cda0c4f\",\"type\":\"ColumnDataSource\"}},\"id\":\"4ba055ea-6e27-4d1e-8a1b-c4a92212f531\",\"type\":\"CDSView\"},{\"attributes\":{\"callback\":null,\"column_names\":[\"x\",\"y\"],\"data\":{\"x\":[\"Jan\",\"Feb\",\"Mar\",\"Apr\",\"May\",\"Jun\",\"Jul\",\"Aug\",\"Sep\",\"Oct\",\"Nov\",\"Dec\"],\"y\":{\"__ndarray__\":\"mpmZmZmZEUDNzMzMzMwQQGZmZmZmZg5AmpmZmZmZCUAzMzMzMzMHQDMzMzMzMwtAZmZmZmZmCkAzMzMzMzMHQAAAAAAAAAhAZmZmZmZmBkCamZmZmZkJQDMzMzMzMwdA\",\"dtype\":\"float64\",\"shape\":[12]}}},\"id\":\"5bd2f995-75f5-48f5-ae59-9945e79c4efe\",\"type\":\"ColumnDataSource\"},{\"attributes\":{\"data_source\":{\"id\":\"731cf12b-d57b-491d-939d-520002e8d31a\",\"type\":\"ColumnDataSource\"},\"glyph\":{\"id\":\"7d78bd89-ba7b-4d85-ab10-95f8f1016bfe\",\"type\":\"Line\"},\"hover_glyph\":null,\"muted_glyph\":null,\"nonselection_glyph\":{\"id\":\"b44cea25-d9a1-405a-8e63-96dcb8f5b592\",\"type\":\"Line\"},\"selection_glyph\":null,\"view\":{\"id\":\"cbcb18a7-815f-4257-be22-a6a7a06538d9\",\"type\":\"CDSView\"}},\"id\":\"c0263623-6f9a-4006-b883-cbf6f85c09f5\",\"type\":\"GlyphRenderer\"},{\"attributes\":{\"data_source\":{\"id\":\"242381dd-1031-47ab-8981-77d5ffaf66e8\",\"type\":\"ColumnDataSource\"},\"glyph\":{\"id\":\"c4295eb3-deaf-4ea9-baac-4289119730fe\",\"type\":\"Line\"},\"hover_glyph\":null,\"muted_glyph\":null,\"nonselection_glyph\":{\"id\":\"54cc4a1b-c6cd-40ee-b4b9-625f78b25423\",\"type\":\"Line\"},\"selection_glyph\":null,\"view\":{\"id\":\"6ca70b89-f59b-4ccc-bdf3-bd7c7ec76533\",\"type\":\"CDSView\"}},\"id\":\"6350310a-b783-4136-aef9-ed2f8537573f\",\"type\":\"GlyphRenderer\"},{\"attributes\":{\"source\":{\"id\":\"8b6d91bb-170c-4336-8d4c-487d5c7c5c4b\",\"type\":\"ColumnDataSource\"}},\"id\":\"d0df26e0-33e8-4c4c-8631-6dad088c7a04\",\"type\":\"CDSView\"},{\"attributes\":{\"callback\":null,\"column_names\":[\"x\",\"y\"],\"data\":{\"x\":[\"Jan\",\"Feb\",\"Mar\",\"Apr\",\"May\",\"Jun\",\"Jul\",\"Aug\",\"Sep\",\"Oct\",\"Nov\",\"Dec\"],\"y\":{\"__ndarray__\":\"AAAAAAAAFECamZmZmZkTQAAAAAAAABJAMzMzMzMzEUAzMzMzMzMRQM3MzMzMzBJAmpmZmZmZE0BmZmZmZmYSQAAAAAAAABJAmpmZmZmZEUAAAAAAAAASQDMzMzMzMxNA\",\"dtype\":\"float64\",\"shape\":[12]}}},\"id\":\"59b7a941-5ce5-4586-89a1-c46d4c3aa420\",\"type\":\"ColumnDataSource\"},{\"attributes\":{\"callback\":null,\"column_names\":[\"x\",\"y\"],\"data\":{\"x\":[\"Jan\",\"Feb\",\"Mar\",\"Apr\",\"May\",\"Jun\",\"Jul\",\"Aug\",\"Sep\",\"Oct\",\"Nov\",\"Dec\"],\"y\":{\"__ndarray__\":\"zczMzMzMJkCamZmZmZkmQJqZmZmZmSVAAAAAAAAAJECamZmZmZkjQGZmZmZmZiRAzczMzMzMIkBmZmZmZmYiQJqZmZmZmSFAzczMzMzMIEAzMzMzMzMgQAAAAAAAACBA\",\"dtype\":\"float64\",\"shape\":[12]}}},\"id\":\"67bbea0e-82f5-4a24-a16c-bb04acc37af6\",\"type\":\"ColumnDataSource\"},{\"attributes\":{\"line_color\":\"#1f77b4\",\"x\":{\"field\":\"x\"},\"y\":{\"field\":\"y\"}},\"id\":\"5cb3414b-d7ef-4847-8b55-351d33e13c47\",\"type\":\"Line\"},{\"attributes\":{\"line_color\":\"#1f77b4\",\"x\":{\"field\":\"x\"},\"y\":{\"field\":\"y\"}},\"id\":\"8e4d5111-f87c-428a-b7b3-e3ee63f01d57\",\"type\":\"Line\"},{\"attributes\":{\"line_alpha\":0.1,\"line_color\":\"#1f77b4\",\"x\":{\"field\":\"x\"},\"y\":{\"field\":\"y\"}},\"id\":\"9df77d8c-6714-45f4-9b02-b57db3f2187b\",\"type\":\"Line\"},{\"attributes\":{\"line_alpha\":0.1,\"line_color\":\"#1f77b4\",\"x\":{\"field\":\"x\"},\"y\":{\"field\":\"y\"}},\"id\":\"03de18ba-eefd-4be0-bd77-98df2dfdf68a\",\"type\":\"Line\"},{\"attributes\":{\"callback\":null,\"column_names\":[\"x\",\"y\"],\"data\":{\"x\":[\"Jan\",\"Feb\",\"Mar\",\"Apr\",\"May\",\"Jun\",\"Jul\",\"Aug\",\"Sep\",\"Oct\",\"Nov\",\"Dec\"],\"y\":{\"__ndarray__\":\"mpmZmZmZIUDNzMzMzMwgQDMzMzMzMyBAZmZmZmZmHkDNzMzMzMwcQJqZmZmZmR1AAAAAAAAAHkAzMzMzMzMdQGZmZmZmZhxAAAAAAAAAHECamZmZmZkbQAAAAAAAABxA\",\"dtype\":\"float64\",\"shape\":[12]}}},\"id\":\"3c901b60-8b58-43fe-ba89-6bc0011759de\",\"type\":\"ColumnDataSource\"},{\"attributes\":{\"callback\":null,\"column_names\":[\"x\",\"y\"],\"data\":{\"x\":[\"Jan\",\"Feb\",\"Mar\",\"Apr\",\"May\",\"Jun\",\"Jul\",\"Aug\",\"Sep\",\"Oct\",\"Nov\",\"Dec\"],\"y\":{\"__ndarray__\":\"mpmZmZmZFUDNzMzMzMwUQM3MzMzMzBRAMzMzMzMzE0DNzMzMzMwUQM3MzMzMzBZAAAAAAAAAGEBmZmZmZmYYQAAAAAAAABhAZmZmZmZmGEAAAAAAAAAaQGZmZmZmZhxA\",\"dtype\":\"float64\",\"shape\":[12]}}},\"id\":\"16a7bc2a-eca2-4703-88f7-b66a91788e30\",\"type\":\"ColumnDataSource\"},{\"attributes\":{\"data_source\":{\"id\":\"67bbea0e-82f5-4a24-a16c-bb04acc37af6\",\"type\":\"ColumnDataSource\"},\"glyph\":{\"id\":\"5cb3414b-d7ef-4847-8b55-351d33e13c47\",\"type\":\"Line\"},\"hover_glyph\":null,\"muted_glyph\":null,\"nonselection_glyph\":{\"id\":\"9df77d8c-6714-45f4-9b02-b57db3f2187b\",\"type\":\"Line\"},\"selection_glyph\":null,\"view\":{\"id\":\"1e6d513b-03fb-4737-ae33-962165fea256\",\"type\":\"CDSView\"}},\"id\":\"601eb2e3-986c-4d9b-8e92-191ed8142ede\",\"type\":\"GlyphRenderer\"},{\"attributes\":{\"data_source\":{\"id\":\"59b7a941-5ce5-4586-89a1-c46d4c3aa420\",\"type\":\"ColumnDataSource\"},\"glyph\":{\"id\":\"8e4d5111-f87c-428a-b7b3-e3ee63f01d57\",\"type\":\"Line\"},\"hover_glyph\":null,\"muted_glyph\":null,\"nonselection_glyph\":{\"id\":\"03de18ba-eefd-4be0-bd77-98df2dfdf68a\",\"type\":\"Line\"},\"selection_glyph\":null,\"view\":{\"id\":\"1c713681-e202-4611-9096-c00f18be658a\",\"type\":\"CDSView\"}},\"id\":\"8cfc54ae-298d-44f1-9711-786af1c6b075\",\"type\":\"GlyphRenderer\"},{\"attributes\":{\"source\":{\"id\":\"67bbea0e-82f5-4a24-a16c-bb04acc37af6\",\"type\":\"ColumnDataSource\"}},\"id\":\"1e6d513b-03fb-4737-ae33-962165fea256\",\"type\":\"CDSView\"},{\"attributes\":{\"source\":{\"id\":\"59b7a941-5ce5-4586-89a1-c46d4c3aa420\",\"type\":\"ColumnDataSource\"}},\"id\":\"1c713681-e202-4611-9096-c00f18be658a\",\"type\":\"CDSView\"},{\"attributes\":{\"line_alpha\":0.1,\"line_color\":\"#1f77b4\",\"x\":{\"field\":\"x\"},\"y\":{\"field\":\"y\"}},\"id\":\"8b3fb564-5963-40db-ad8f-72b1b119b3e2\",\"type\":\"Line\"},{\"attributes\":{\"line_alpha\":0.1,\"line_color\":\"#1f77b4\",\"x\":{\"field\":\"x\"},\"y\":{\"field\":\"y\"}},\"id\":\"3d6ba259-df7a-4ad7-bb0a-276eecd9b470\",\"type\":\"Line\"},{\"attributes\":{\"callback\":null,\"column_names\":[\"x\",\"y\"],\"data\":{\"x\":[\"Jan\",\"Feb\",\"Mar\",\"Apr\",\"May\",\"Jun\",\"Jul\",\"Aug\",\"Sep\",\"Oct\",\"Nov\",\"Dec\"],\"y\":{\"__ndarray__\":\"AAAAAAAAIEAzMzMzMzMfQAAAAAAAAB5AZmZmZmZmHEAAAAAAAAAcQAAAAAAAAB5AmpmZmZmZHUCamZmZmZkbQJqZmZmZmRtAMzMzMzMzG0DNzMzMzMwaQM3MzMzMzBpA\",\"dtype\":\"float64\",\"shape\":[12]}}},\"id\":\"2076daaa-32a4-4368-bf9d-4e3df3b56460\",\"type\":\"ColumnDataSource\"},{\"attributes\":{\"callback\":null,\"column_names\":[\"x\",\"y\"],\"data\":{\"x\":[\"Jan\",\"Feb\",\"Mar\",\"Apr\",\"May\",\"Jun\",\"Jul\",\"Aug\",\"Sep\",\"Oct\",\"Nov\",\"Dec\"],\"y\":{\"__ndarray__\":\"AAAAAAAAIUDNzMzMzMwhQAAAAAAAACJAMzMzMzMzIUAzMzMzMzMiQGZmZmZmZiNAZmZmZmZmI0AzMzMzMzMjQAAAAAAAACNAAAAAAAAAI0DNzMzMzMwiQGZmZmZmZiNA\",\"dtype\":\"float64\",\"shape\":[12]}}},\"id\":\"03ddf79b-f8df-46c5-aa3e-f5f95c2b0597\",\"type\":\"ColumnDataSource\"},{\"attributes\":{\"line_color\":\"#1f77b4\",\"x\":{\"field\":\"x\"},\"y\":{\"field\":\"y\"}},\"id\":\"cb9ca945-67cc-4fd4-9492-53097e0539f1\",\"type\":\"Line\"},{\"attributes\":{\"line_color\":\"#1f77b4\",\"x\":{\"field\":\"x\"},\"y\":{\"field\":\"y\"}},\"id\":\"f7b04e4e-7f5c-4056-ad75-255222a7cb6f\",\"type\":\"Line\"},{\"attributes\":{\"data_source\":{\"id\":\"3c901b60-8b58-43fe-ba89-6bc0011759de\",\"type\":\"ColumnDataSource\"},\"glyph\":{\"id\":\"cb9ca945-67cc-4fd4-9492-53097e0539f1\",\"type\":\"Line\"},\"hover_glyph\":null,\"muted_glyph\":null,\"nonselection_glyph\":{\"id\":\"8b3fb564-5963-40db-ad8f-72b1b119b3e2\",\"type\":\"Line\"},\"selection_glyph\":null,\"view\":{\"id\":\"59214b1a-4640-4bcb-b337-d105516b88d2\",\"type\":\"CDSView\"}},\"id\":\"04517033-ff10-429c-bfe8-19c737a6d9bb\",\"type\":\"GlyphRenderer\"},{\"attributes\":{\"data_source\":{\"id\":\"16a7bc2a-eca2-4703-88f7-b66a91788e30\",\"type\":\"ColumnDataSource\"},\"glyph\":{\"id\":\"f7b04e4e-7f5c-4056-ad75-255222a7cb6f\",\"type\":\"Line\"},\"hover_glyph\":null,\"muted_glyph\":null,\"nonselection_glyph\":{\"id\":\"3d6ba259-df7a-4ad7-bb0a-276eecd9b470\",\"type\":\"Line\"},\"selection_glyph\":null,\"view\":{\"id\":\"ca5541ba-e6ae-4063-afa9-b47bfe8c3d8e\",\"type\":\"CDSView\"}},\"id\":\"6690ce88-57e3-4e01-b3cf-e6758cf6dde6\",\"type\":\"GlyphRenderer\"},{\"attributes\":{\"source\":{\"id\":\"3c901b60-8b58-43fe-ba89-6bc0011759de\",\"type\":\"ColumnDataSource\"}},\"id\":\"59214b1a-4640-4bcb-b337-d105516b88d2\",\"type\":\"CDSView\"},{\"attributes\":{\"source\":{\"id\":\"16a7bc2a-eca2-4703-88f7-b66a91788e30\",\"type\":\"ColumnDataSource\"}},\"id\":\"ca5541ba-e6ae-4063-afa9-b47bfe8c3d8e\",\"type\":\"CDSView\"},{\"attributes\":{\"line_alpha\":0.1,\"line_color\":\"#1f77b4\",\"x\":{\"field\":\"x\"},\"y\":{\"field\":\"y\"}},\"id\":\"2ffd5e5d-62dc-4423-9719-bb24c9d3a4b7\",\"type\":\"Line\"},{\"attributes\":{\"line_alpha\":0.1,\"line_color\":\"#1f77b4\",\"x\":{\"field\":\"x\"},\"y\":{\"field\":\"y\"}},\"id\":\"a7a6b927-1dd1-4e88-9b9e-3a709ded941b\",\"type\":\"Line\"},{\"attributes\":{\"callback\":null,\"column_names\":[\"x\",\"y\"],\"data\":{\"x\":[\"Jan\",\"Feb\",\"Mar\",\"Apr\",\"May\",\"Jun\",\"Jul\",\"Aug\",\"Sep\",\"Oct\",\"Nov\",\"Dec\"],\"y\":{\"__ndarray__\":\"MzMzMzMzHUAzMzMzMzMfQAAAAAAAAB5AAAAAAAAAHEAAAAAAAAAcQDMzMzMzMx1AAAAAAAAAHEDNzMzMzMwaQDMzMzMzMxtAZmZmZmZmGkBmZmZmZmYaQDMzMzMzMxlA\",\"dtype\":\"float64\",\"shape\":[12]}}},\"id\":\"71f03ed7-24ac-44f6-ae00-7933c3bea4aa\",\"type\":\"ColumnDataSource\"},{\"attributes\":{\"callback\":null,\"column_names\":[\"x\",\"y\"],\"data\":{\"x\":[\"Jan\",\"Feb\",\"Mar\",\"Apr\",\"May\",\"Jun\",\"Jul\",\"Aug\",\"Sep\",\"Oct\",\"Nov\",\"Dec\"],\"y\":{\"__ndarray__\":\"MzMzMzMzJUDNzMzMzMwkQGZmZmZmZiRAAAAAAAAAI0CamZmZmZkiQDMzMzMzMyNAZmZmZmZmI0AAAAAAAAAjQGZmZmZmZiJAAAAAAAAAIkCamZmZmZkiQDMzMzMzMyJA\",\"dtype\":\"float64\",\"shape\":[12]}}},\"id\":\"8a8795cd-d7c9-4339-9c5c-0639d851f5d4\",\"type\":\"ColumnDataSource\"},{\"attributes\":{\"line_color\":\"#1f77b4\",\"x\":{\"field\":\"x\"},\"y\":{\"field\":\"y\"}},\"id\":\"91e3fd37-120c-413e-879b-d083f51779c5\",\"type\":\"Line\"},{\"attributes\":{\"line_color\":\"#1f77b4\",\"x\":{\"field\":\"x\"},\"y\":{\"field\":\"y\"}},\"id\":\"a61edda3-a4fb-41b8-b456-c8e88a72a7c4\",\"type\":\"Line\"},{\"attributes\":{\"data_source\":{\"id\":\"2076daaa-32a4-4368-bf9d-4e3df3b56460\",\"type\":\"ColumnDataSource\"},\"glyph\":{\"id\":\"91e3fd37-120c-413e-879b-d083f51779c5\",\"type\":\"Line\"},\"hover_glyph\":null,\"muted_glyph\":null,\"nonselection_glyph\":{\"id\":\"2ffd5e5d-62dc-4423-9719-bb24c9d3a4b7\",\"type\":\"Line\"},\"selection_glyph\":null,\"view\":{\"id\":\"1ae5542d-298e-4972-9ee7-0af70e52eb0c\",\"type\":\"CDSView\"}},\"id\":\"ef4f0fc9-5d9d-4903-a8e9-a78f7d381a22\",\"type\":\"GlyphRenderer\"},{\"attributes\":{\"data_source\":{\"id\":\"03ddf79b-f8df-46c5-aa3e-f5f95c2b0597\",\"type\":\"ColumnDataSource\"},\"glyph\":{\"id\":\"a61edda3-a4fb-41b8-b456-c8e88a72a7c4\",\"type\":\"Line\"},\"hover_glyph\":null,\"muted_glyph\":null,\"nonselection_glyph\":{\"id\":\"a7a6b927-1dd1-4e88-9b9e-3a709ded941b\",\"type\":\"Line\"},\"selection_glyph\":null,\"view\":{\"id\":\"2a00b987-e5b6-4dcd-bfdc-1333cd7b98a8\",\"type\":\"CDSView\"}},\"id\":\"e5c206c9-36ad-41c1-914b-49179a24868f\",\"type\":\"GlyphRenderer\"},{\"attributes\":{\"source\":{\"id\":\"2076daaa-32a4-4368-bf9d-4e3df3b56460\",\"type\":\"ColumnDataSource\"}},\"id\":\"1ae5542d-298e-4972-9ee7-0af70e52eb0c\",\"type\":\"CDSView\"},{\"attributes\":{\"source\":{\"id\":\"03ddf79b-f8df-46c5-aa3e-f5f95c2b0597\",\"type\":\"ColumnDataSource\"}},\"id\":\"2a00b987-e5b6-4dcd-bfdc-1333cd7b98a8\",\"type\":\"CDSView\"},{\"attributes\":{\"line_alpha\":0.1,\"line_color\":\"#1f77b4\",\"x\":{\"field\":\"x\"},\"y\":{\"field\":\"y\"}},\"id\":\"1cae4c95-ca77-4444-a239-4fbbe42bd30a\",\"type\":\"Line\"},{\"attributes\":{\"line_alpha\":0.1,\"line_color\":\"#1f77b4\",\"x\":{\"field\":\"x\"},\"y\":{\"field\":\"y\"}},\"id\":\"bb681f7e-0a5b-4476-b9bb-e76622bfc8d4\",\"type\":\"Line\"},{\"attributes\":{\"callback\":null,\"column_names\":[\"x\",\"y\"],\"data\":{\"x\":[\"Jan\",\"Feb\",\"Mar\",\"Apr\",\"May\",\"Jun\",\"Jul\",\"Aug\",\"Sep\",\"Oct\",\"Nov\",\"Dec\"],\"y\":{\"__ndarray__\":\"MzMzMzMzHUDNzMzMzMwcQJqZmZmZmRtAzczMzMzMGEBmZmZmZmYYQDMzMzMzMxlAZmZmZmZmGEAzMzMzMzMXQM3MzMzMzBZAzczMzMzMFkBmZmZmZmYWQJqZmZmZmRVA\",\"dtype\":\"float64\",\"shape\":[12]}}},\"id\":\"ba6674de-e287-468a-b07b-1be52965e86d\",\"type\":\"ColumnDataSource\"},{\"attributes\":{\"callback\":null,\"column_names\":[\"x\",\"y\"],\"data\":{\"x\":[\"Jan\",\"Feb\",\"Mar\",\"Apr\",\"May\",\"Jun\",\"Jul\",\"Aug\",\"Sep\",\"Oct\",\"Nov\",\"Dec\"],\"y\":{\"__ndarray__\":\"mpmZmZmZI0AAAAAAAAAjQGZmZmZmZiJAZmZmZmZmIUBmZmZmZmYhQJqZmZmZmSJAmpmZmZmZIkAzMzMzMzMiQJqZmZmZmSFAAAAAAAAAIUBmZmZmZmYgQJqZmZmZmSBA\",\"dtype\":\"float64\",\"shape\":[12]}}},\"id\":\"3fc288f6-02bc-47a3-ae71-cd1fc1354f0c\",\"type\":\"ColumnDataSource\"},{\"attributes\":{\"line_color\":\"#1f77b4\",\"x\":{\"field\":\"x\"},\"y\":{\"field\":\"y\"}},\"id\":\"85396364-bca5-4d1a-9b3e-ad648cc79ac2\",\"type\":\"Line\"},{\"attributes\":{\"line_color\":\"#1f77b4\",\"x\":{\"field\":\"x\"},\"y\":{\"field\":\"y\"}},\"id\":\"2c21e19d-4116-4ba5-86b4-a55eea6576d9\",\"type\":\"Line\"},{\"attributes\":{\"data_source\":{\"id\":\"71f03ed7-24ac-44f6-ae00-7933c3bea4aa\",\"type\":\"ColumnDataSource\"},\"glyph\":{\"id\":\"85396364-bca5-4d1a-9b3e-ad648cc79ac2\",\"type\":\"Line\"},\"hover_glyph\":null,\"muted_glyph\":null,\"nonselection_glyph\":{\"id\":\"1cae4c95-ca77-4444-a239-4fbbe42bd30a\",\"type\":\"Line\"},\"selection_glyph\":null,\"view\":{\"id\":\"2cbb7275-32dd-406e-bbc3-d9c66216f113\",\"type\":\"CDSView\"}},\"id\":\"79169976-88a4-4d40-8e11-480f1faa1503\",\"type\":\"GlyphRenderer\"},{\"attributes\":{\"data_source\":{\"id\":\"8a8795cd-d7c9-4339-9c5c-0639d851f5d4\",\"type\":\"ColumnDataSource\"},\"glyph\":{\"id\":\"2c21e19d-4116-4ba5-86b4-a55eea6576d9\",\"type\":\"Line\"},\"hover_glyph\":null,\"muted_glyph\":null,\"nonselection_glyph\":{\"id\":\"bb681f7e-0a5b-4476-b9bb-e76622bfc8d4\",\"type\":\"Line\"},\"selection_glyph\":null,\"view\":{\"id\":\"477a6bd2-0fcf-4a96-89e9-3483f2007518\",\"type\":\"CDSView\"}},\"id\":\"02ad300a-59a2-4242-8af5-13b2590bf666\",\"type\":\"GlyphRenderer\"},{\"attributes\":{\"source\":{\"id\":\"71f03ed7-24ac-44f6-ae00-7933c3bea4aa\",\"type\":\"ColumnDataSource\"}},\"id\":\"2cbb7275-32dd-406e-bbc3-d9c66216f113\",\"type\":\"CDSView\"},{\"attributes\":{\"source\":{\"id\":\"8a8795cd-d7c9-4339-9c5c-0639d851f5d4\",\"type\":\"ColumnDataSource\"}},\"id\":\"477a6bd2-0fcf-4a96-89e9-3483f2007518\",\"type\":\"CDSView\"},{\"attributes\":{\"line_alpha\":0.1,\"line_color\":\"#1f77b4\",\"x\":{\"field\":\"x\"},\"y\":{\"field\":\"y\"}},\"id\":\"990637b7-e002-48d0-82de-a25360765eba\",\"type\":\"Line\"},{\"attributes\":{\"line_alpha\":0.1,\"line_color\":\"#1f77b4\",\"x\":{\"field\":\"x\"},\"y\":{\"field\":\"y\"}},\"id\":\"17a2a669-b5d0-4a6b-84ac-2ed25287faaa\",\"type\":\"Line\"},{\"attributes\":{\"callback\":null,\"column_names\":[\"x\",\"y\"],\"data\":{\"x\":[\"Jan\",\"Feb\",\"Mar\",\"Apr\",\"May\",\"Jun\",\"Jul\",\"Aug\",\"Sep\",\"Oct\",\"Nov\",\"Dec\"],\"y\":{\"__ndarray__\":\"MzMzMzMzGUDNzMzMzMwYQJqZmZmZmRdAMzMzMzMzFUCamZmZmZkVQAAAAAAAABZAAAAAAAAAFkCamZmZmZkVQM3MzMzMzBRAAAAAAAAAFEDNzMzMzMwUQAAAAAAAABRA\",\"dtype\":\"float64\",\"shape\":[12]}}},\"id\":\"12b6f27f-b302-46b1-b8e1-0ce3349cd79b\",\"type\":\"ColumnDataSource\"},{\"attributes\":{\"callback\":null,\"column_names\":[\"x\",\"y\"],\"data\":{\"x\":[\"Jan\",\"Feb\",\"Mar\",\"Apr\",\"May\",\"Jun\",\"Jul\",\"Aug\",\"Sep\",\"Oct\",\"Nov\",\"Dec\"],\"y\":{\"__ndarray__\":\"mpmZmZmZIUBmZmZmZmYhQM3MzMzMzCBAzczMzMzMHkCamZmZmZkfQM3MzMzMzCBAMzMzMzMzIUBmZmZmZmYgQGZmZmZmZh5AAAAAAAAAHkCamZmZmZkdQGZmZmZmZh5A\",\"dtype\":\"float64\",\"shape\":[12]}}},\"id\":\"cfc58cf1-77f1-441d-b44d-d1ea94529b61\",\"type\":\"ColumnDataSource\"},{\"attributes\":{\"line_color\":\"#1f77b4\",\"x\":{\"field\":\"x\"},\"y\":{\"field\":\"y\"}},\"id\":\"36bb3460-7e39-45b7-9098-01ae76c0e6fa\",\"type\":\"Line\"},{\"attributes\":{\"line_color\":\"#1f77b4\",\"x\":{\"field\":\"x\"},\"y\":{\"field\":\"y\"}},\"id\":\"245828fa-befd-4365-affe-c00a6295ef86\",\"type\":\"Line\"},{\"attributes\":{\"data_source\":{\"id\":\"ba6674de-e287-468a-b07b-1be52965e86d\",\"type\":\"ColumnDataSource\"},\"glyph\":{\"id\":\"36bb3460-7e39-45b7-9098-01ae76c0e6fa\",\"type\":\"Line\"},\"hover_glyph\":null,\"muted_glyph\":null,\"nonselection_glyph\":{\"id\":\"990637b7-e002-48d0-82de-a25360765eba\",\"type\":\"Line\"},\"selection_glyph\":null,\"view\":{\"id\":\"7e70a8b2-7362-4d7c-b4f8-09298839391e\",\"type\":\"CDSView\"}},\"id\":\"3868580f-1416-416c-ba8d-8f66ddbf0602\",\"type\":\"GlyphRenderer\"},{\"attributes\":{\"data_source\":{\"id\":\"3fc288f6-02bc-47a3-ae71-cd1fc1354f0c\",\"type\":\"ColumnDataSource\"},\"glyph\":{\"id\":\"245828fa-befd-4365-affe-c00a6295ef86\",\"type\":\"Line\"},\"hover_glyph\":null,\"muted_glyph\":null,\"nonselection_glyph\":{\"id\":\"17a2a669-b5d0-4a6b-84ac-2ed25287faaa\",\"type\":\"Line\"},\"selection_glyph\":null,\"view\":{\"id\":\"e1abc864-3bc3-4564-9549-393c6b36a94d\",\"type\":\"CDSView\"}},\"id\":\"80d6d2fc-0ff8-40f1-8921-56413a6d0c89\",\"type\":\"GlyphRenderer\"},{\"attributes\":{\"source\":{\"id\":\"ba6674de-e287-468a-b07b-1be52965e86d\",\"type\":\"ColumnDataSource\"}},\"id\":\"7e70a8b2-7362-4d7c-b4f8-09298839391e\",\"type\":\"CDSView\"},{\"attributes\":{\"source\":{\"id\":\"3fc288f6-02bc-47a3-ae71-cd1fc1354f0c\",\"type\":\"ColumnDataSource\"}},\"id\":\"e1abc864-3bc3-4564-9549-393c6b36a94d\",\"type\":\"CDSView\"},{\"attributes\":{\"line_alpha\":0.1,\"line_color\":\"#1f77b4\",\"x\":{\"field\":\"x\"},\"y\":{\"field\":\"y\"}},\"id\":\"db4d3968-deee-4aa0-adb3-30f738659302\",\"type\":\"Line\"},{\"attributes\":{\"line_alpha\":0.1,\"line_color\":\"#1f77b4\",\"x\":{\"field\":\"x\"},\"y\":{\"field\":\"y\"}},\"id\":\"5bf438a6-3f5a-422d-9266-e90ce2df238a\",\"type\":\"Line\"},{\"attributes\":{\"callback\":null,\"column_names\":[\"x\",\"y\"],\"data\":{\"x\":[\"Jan\",\"Feb\",\"Mar\",\"Apr\",\"May\",\"Jun\",\"Jul\",\"Aug\",\"Sep\",\"Oct\",\"Nov\",\"Dec\"],\"y\":{\"__ndarray__\":\"AAAAAAAAGEBmZmZmZmYWQM3MzMzMzBRAZmZmZmZmFEAAAAAAAAAUQAAAAAAAABZAMzMzMzMzFUBmZmZmZmYUQGZmZmZmZhRAAAAAAAAAFEDNzMzMzMwUQGZmZmZmZhRA\",\"dtype\":\"float64\",\"shape\":[12]}}},\"id\":\"d40e00f7-8f54-4af3-8fa6-ab85b0c37ed6\",\"type\":\"ColumnDataSource\"},{\"attributes\":{\"callback\":null,\"column_names\":[\"x\",\"y\"],\"data\":{\"x\":[\"Jan\",\"Feb\",\"Mar\",\"Apr\",\"May\",\"Jun\",\"Jul\",\"Aug\",\"Sep\",\"Oct\",\"Nov\",\"Dec\"],\"y\":{\"__ndarray__\":\"AAAAAAAAIUAzMzMzMzMgQGZmZmZmZh5AZmZmZmZmHEAzMzMzMzMdQDMzMzMzMx9AzczMzMzMHkAzMzMzMzMdQAAAAAAAABxAAAAAAAAAHEBmZmZmZmYaQAAAAAAAABpA\",\"dtype\":\"float64\",\"shape\":[12]}}},\"id\":\"714e0b1e-1e4f-47d8-ad04-1d184fc4ba8c\",\"type\":\"ColumnDataSource\"},{\"attributes\":{\"line_color\":\"#1f77b4\",\"x\":{\"field\":\"x\"},\"y\":{\"field\":\"y\"}},\"id\":\"3bea8e39-2775-47e9-86c8-4e4971123916\",\"type\":\"Line\"},{\"attributes\":{\"line_color\":\"#1f77b4\",\"x\":{\"field\":\"x\"},\"y\":{\"field\":\"y\"}},\"id\":\"97a72bb3-3e49-482c-9a8f-a9dca34c63de\",\"type\":\"Line\"},{\"attributes\":{\"data_source\":{\"id\":\"12b6f27f-b302-46b1-b8e1-0ce3349cd79b\",\"type\":\"ColumnDataSource\"},\"glyph\":{\"id\":\"3bea8e39-2775-47e9-86c8-4e4971123916\",\"type\":\"Line\"},\"hover_glyph\":null,\"muted_glyph\":null,\"nonselection_glyph\":{\"id\":\"db4d3968-deee-4aa0-adb3-30f738659302\",\"type\":\"Line\"},\"selection_glyph\":null,\"view\":{\"id\":\"9d8cb75b-ecc2-499f-8628-b69047ffb8b4\",\"type\":\"CDSView\"}},\"id\":\"7c56adc8-1814-4f1d-b3a6-3f61a2606643\",\"type\":\"GlyphRenderer\"},{\"attributes\":{\"data_source\":{\"id\":\"cfc58cf1-77f1-441d-b44d-d1ea94529b61\",\"type\":\"ColumnDataSource\"},\"glyph\":{\"id\":\"97a72bb3-3e49-482c-9a8f-a9dca34c63de\",\"type\":\"Line\"},\"hover_glyph\":null,\"muted_glyph\":null,\"nonselection_glyph\":{\"id\":\"5bf438a6-3f5a-422d-9266-e90ce2df238a\",\"type\":\"Line\"},\"selection_glyph\":null,\"view\":{\"id\":\"81be9279-30d3-448e-8f2e-7fb78b171de3\",\"type\":\"CDSView\"}},\"id\":\"920b2110-484c-43ab-a3b4-c0890e98b844\",\"type\":\"GlyphRenderer\"},{\"attributes\":{\"source\":{\"id\":\"12b6f27f-b302-46b1-b8e1-0ce3349cd79b\",\"type\":\"ColumnDataSource\"}},\"id\":\"9d8cb75b-ecc2-499f-8628-b69047ffb8b4\",\"type\":\"CDSView\"},{\"attributes\":{\"source\":{\"id\":\"cfc58cf1-77f1-441d-b44d-d1ea94529b61\",\"type\":\"ColumnDataSource\"}},\"id\":\"81be9279-30d3-448e-8f2e-7fb78b171de3\",\"type\":\"CDSView\"},{\"attributes\":{\"line_alpha\":0.1,\"line_color\":\"#1f77b4\",\"x\":{\"field\":\"x\"},\"y\":{\"field\":\"y\"}},\"id\":\"a9b5e0d0-1094-4156-84ae-25e9e2e9fa39\",\"type\":\"Line\"},{\"attributes\":{\"line_alpha\":0.1,\"line_color\":\"#1f77b4\",\"x\":{\"field\":\"x\"},\"y\":{\"field\":\"y\"}},\"id\":\"d2eb425b-f5c1-4f36-9a34-817cfb587a01\",\"type\":\"Line\"},{\"attributes\":{\"callback\":null,\"column_names\":[\"x\",\"y\"],\"data\":{\"x\":[\"Jan\",\"Feb\",\"Mar\",\"Apr\",\"May\",\"Jun\",\"Jul\",\"Aug\",\"Sep\",\"Oct\",\"Nov\",\"Dec\"],\"y\":{\"__ndarray__\":\"AAAAAAAAGECamZmZmZkXQAAAAAAAABZAMzMzMzMzFUDNzMzMzMwUQJqZmZmZmRVAZmZmZmZmFkAAAAAAAAAWQGZmZmZmZhZAAAAAAAAAFkCamZmZmZkXQAAAAAAAABhA\",\"dtype\":\"float64\",\"shape\":[12]}}},\"id\":\"c8dc4c06-911c-4288-a7f6-734e2a56bdf3\",\"type\":\"ColumnDataSource\"},{\"attributes\":{\"callback\":null,\"column_names\":[\"x\",\"y\"],\"data\":{\"x\":[\"Jan\",\"Feb\",\"Mar\",\"Apr\",\"May\",\"Jun\",\"Jul\",\"Aug\",\"Sep\",\"Oct\",\"Nov\",\"Dec\"],\"y\":{\"__ndarray__\":\"AAAAAAAAHEAAAAAAAAAcQDMzMzMzMxtAmpmZmZmZF0BmZmZmZmYYQDMzMzMzMxlAAAAAAAAAGkAzMzMzMzMZQM3MzMzMzBZAAAAAAAAAFkAAAAAAAAAWQJqZmZmZmRVA\",\"dtype\":\"float64\",\"shape\":[12]}}},\"id\":\"d6718079-c6c0-4a5c-8cae-e73d2c82a24f\",\"type\":\"ColumnDataSource\"},{\"attributes\":{\"line_color\":\"#1f77b4\",\"x\":{\"field\":\"x\"},\"y\":{\"field\":\"y\"}},\"id\":\"ffa3d817-7732-4112-a911-f9fc38d558c8\",\"type\":\"Line\"},{\"attributes\":{\"line_color\":\"#1f77b4\",\"x\":{\"field\":\"x\"},\"y\":{\"field\":\"y\"}},\"id\":\"869bbbde-e7e8-4396-9d79-ede353199229\",\"type\":\"Line\"},{\"attributes\":{\"data_source\":{\"id\":\"d40e00f7-8f54-4af3-8fa6-ab85b0c37ed6\",\"type\":\"ColumnDataSource\"},\"glyph\":{\"id\":\"ffa3d817-7732-4112-a911-f9fc38d558c8\",\"type\":\"Line\"},\"hover_glyph\":null,\"muted_glyph\":null,\"nonselection_glyph\":{\"id\":\"a9b5e0d0-1094-4156-84ae-25e9e2e9fa39\",\"type\":\"Line\"},\"selection_glyph\":null,\"view\":{\"id\":\"4b86b1e7-fdbf-4fb9-92fe-a988144c7ad3\",\"type\":\"CDSView\"}},\"id\":\"95a17d6c-776c-41a8-b087-9b9e2561e460\",\"type\":\"GlyphRenderer\"},{\"attributes\":{\"data_source\":{\"id\":\"714e0b1e-1e4f-47d8-ad04-1d184fc4ba8c\",\"type\":\"ColumnDataSource\"},\"glyph\":{\"id\":\"869bbbde-e7e8-4396-9d79-ede353199229\",\"type\":\"Line\"},\"hover_glyph\":null,\"muted_glyph\":null,\"nonselection_glyph\":{\"id\":\"d2eb425b-f5c1-4f36-9a34-817cfb587a01\",\"type\":\"Line\"},\"selection_glyph\":null,\"view\":{\"id\":\"7a3841f0-2c4c-45af-beee-29576b24b458\",\"type\":\"CDSView\"}},\"id\":\"4e9481f9-e967-4b67-b934-e9840e88e6e8\",\"type\":\"GlyphRenderer\"},{\"attributes\":{\"source\":{\"id\":\"d40e00f7-8f54-4af3-8fa6-ab85b0c37ed6\",\"type\":\"ColumnDataSource\"}},\"id\":\"4b86b1e7-fdbf-4fb9-92fe-a988144c7ad3\",\"type\":\"CDSView\"},{\"attributes\":{\"source\":{\"id\":\"714e0b1e-1e4f-47d8-ad04-1d184fc4ba8c\",\"type\":\"ColumnDataSource\"}},\"id\":\"7a3841f0-2c4c-45af-beee-29576b24b458\",\"type\":\"CDSView\"},{\"attributes\":{\"line_alpha\":0.1,\"line_color\":\"#1f77b4\",\"x\":{\"field\":\"x\"},\"y\":{\"field\":\"y\"}},\"id\":\"60b31150-16a3-48e6-8208-0f0737b73a8e\",\"type\":\"Line\"},{\"attributes\":{\"line_alpha\":0.1,\"line_color\":\"#1f77b4\",\"x\":{\"field\":\"x\"},\"y\":{\"field\":\"y\"}},\"id\":\"4c160a55-2e10-40bd-bd63-721b0d4738b8\",\"type\":\"Line\"},{\"attributes\":{\"callback\":null,\"column_names\":[\"x\",\"y\"],\"data\":{\"x\":[\"Jan\",\"Feb\",\"Mar\",\"Apr\",\"May\",\"Jun\",\"Jul\",\"Aug\",\"Sep\",\"Oct\",\"Nov\",\"Dec\"],\"y\":{\"__ndarray__\":\"ZmZmZmZmHEAzMzMzMzMdQM3MzMzMzBxAAAAAAAAAGkDNzMzMzMwaQAAAAAAAABxAMzMzMzMzG0BmZmZmZmYaQAAAAAAAABpAAAAAAAAAGkDNzMzMzMwaQJqZmZmZmRtA\",\"dtype\":\"float64\",\"shape\":[12]}}},\"id\":\"a5474751-5e60-40f1-8c23-27a022691384\",\"type\":\"ColumnDataSource\"},{\"attributes\":{\"callback\":null,\"column_names\":[\"x\",\"y\"],\"data\":{\"x\":[\"Jan\",\"Feb\",\"Mar\",\"Apr\",\"May\",\"Jun\",\"Jul\",\"Aug\",\"Sep\",\"Oct\",\"Nov\",\"Dec\"],\"y\":{\"__ndarray__\":\"ZmZmZmZmGEAzMzMzMzMXQGZmZmZmZhZAZmZmZmZmFEAzMzMzMzMVQAAAAAAAABZAZmZmZmZmFkDNzMzMzMwUQJqZmZmZmRNAMzMzMzMzE0AzMzMzMzMTQDMzMzMzMxNA\",\"dtype\":\"float64\",\"shape\":[12]}}},\"id\":\"a530629c-5ca8-4d0c-854d-ac69a6b0f0d5\",\"type\":\"ColumnDataSource\"},{\"attributes\":{\"line_color\":\"#1f77b4\",\"x\":{\"field\":\"x\"},\"y\":{\"field\":\"y\"}},\"id\":\"c499b8f3-4604-4dd2-ae19-1eb1b826c506\",\"type\":\"Line\"},{\"attributes\":{\"line_color\":\"#1f77b4\",\"x\":{\"field\":\"x\"},\"y\":{\"field\":\"y\"}},\"id\":\"b489a30c-ae09-4a4c-bd89-d68da5ebb9b7\",\"type\":\"Line\"},{\"attributes\":{\"data_source\":{\"id\":\"c8dc4c06-911c-4288-a7f6-734e2a56bdf3\",\"type\":\"ColumnDataSource\"},\"glyph\":{\"id\":\"c499b8f3-4604-4dd2-ae19-1eb1b826c506\",\"type\":\"Line\"},\"hover_glyph\":null,\"muted_glyph\":null,\"nonselection_glyph\":{\"id\":\"60b31150-16a3-48e6-8208-0f0737b73a8e\",\"type\":\"Line\"},\"selection_glyph\":null,\"view\":{\"id\":\"e542d176-0857-40e4-8352-836107fefd18\",\"type\":\"CDSView\"}},\"id\":\"c574d2f0-5b54-4805-bd29-79af361c5952\",\"type\":\"GlyphRenderer\"},{\"attributes\":{\"data_source\":{\"id\":\"d6718079-c6c0-4a5c-8cae-e73d2c82a24f\",\"type\":\"ColumnDataSource\"},\"glyph\":{\"id\":\"b489a30c-ae09-4a4c-bd89-d68da5ebb9b7\",\"type\":\"Line\"},\"hover_glyph\":null,\"muted_glyph\":null,\"nonselection_glyph\":{\"id\":\"4c160a55-2e10-40bd-bd63-721b0d4738b8\",\"type\":\"Line\"},\"selection_glyph\":null,\"view\":{\"id\":\"cf867715-a00b-479e-b56d-40bbd8185238\",\"type\":\"CDSView\"}},\"id\":\"c38707ea-aadb-44da-8e00-0d63c31aa623\",\"type\":\"GlyphRenderer\"},{\"attributes\":{\"source\":{\"id\":\"c8dc4c06-911c-4288-a7f6-734e2a56bdf3\",\"type\":\"ColumnDataSource\"}},\"id\":\"e542d176-0857-40e4-8352-836107fefd18\",\"type\":\"CDSView\"},{\"attributes\":{\"source\":{\"id\":\"d6718079-c6c0-4a5c-8cae-e73d2c82a24f\",\"type\":\"ColumnDataSource\"}},\"id\":\"cf867715-a00b-479e-b56d-40bbd8185238\",\"type\":\"CDSView\"},{\"attributes\":{\"line_alpha\":0.1,\"line_color\":\"#1f77b4\",\"x\":{\"field\":\"x\"},\"y\":{\"field\":\"y\"}},\"id\":\"0d7a84a0-e594-4e69-8eae-fc225fd457df\",\"type\":\"Line\"},{\"attributes\":{\"line_alpha\":0.1,\"line_color\":\"#1f77b4\",\"x\":{\"field\":\"x\"},\"y\":{\"field\":\"y\"}},\"id\":\"fbf6b622-9693-4fd1-ad05-160ee5aa8f83\",\"type\":\"Line\"},{\"attributes\":{\"callback\":null,\"column_names\":[\"x\",\"y\"],\"data\":{\"x\":[\"Jan\",\"Feb\",\"Mar\",\"Apr\",\"May\",\"Jun\",\"Jul\",\"Aug\",\"Sep\",\"Oct\",\"Nov\",\"Dec\"],\"y\":{\"__ndarray__\":\"MzMzMzMzIEBmZmZmZmYgQDMzMzMzMx9AzczMzMzMHEAzMzMzMzMdQAAAAAAAACBAzczMzMzMHkCamZmZmZkdQDMzMzMzMx1AmpmZmZmZG0BmZmZmZmYcQGZmZmZmZhxA\",\"dtype\":\"float64\",\"shape\":[12]}}},\"id\":\"053c9924-0291-4ba9-b7a1-e4920eed8a99\",\"type\":\"ColumnDataSource\"},{\"attributes\":{\"callback\":null,\"column_names\":[\"x\",\"y\"],\"data\":{\"x\":[\"Jan\",\"Feb\",\"Mar\",\"Apr\",\"May\",\"Jun\",\"Jul\",\"Aug\",\"Sep\",\"Oct\",\"Nov\",\"Dec\"],\"y\":{\"__ndarray__\":\"MzMzMzMzFUDNzMzMzMwUQGZmZmZmZhRAzczMzMzMEkAAAAAAAAASQGZmZmZmZhRAZmZmZmZmFEAAAAAAAAAUQDMzMzMzMxNAzczMzMzMEkCamZmZmZkRQAAAAAAAABJA\",\"dtype\":\"float64\",\"shape\":[12]}}},\"id\":\"5b5264d7-2b9a-44ba-8e88-fcce641fd31c\",\"type\":\"ColumnDataSource\"},{\"attributes\":{\"line_color\":\"#1f77b4\",\"x\":{\"field\":\"x\"},\"y\":{\"field\":\"y\"}},\"id\":\"732a5ef2-ef47-41a9-a47d-415843ebbebf\",\"type\":\"Line\"},{\"attributes\":{\"line_color\":\"#1f77b4\",\"x\":{\"field\":\"x\"},\"y\":{\"field\":\"y\"}},\"id\":\"25212ac7-d4b9-4f1b-aafc-168f6fd82ce8\",\"type\":\"Line\"},{\"attributes\":{\"data_source\":{\"id\":\"a5474751-5e60-40f1-8c23-27a022691384\",\"type\":\"ColumnDataSource\"},\"glyph\":{\"id\":\"732a5ef2-ef47-41a9-a47d-415843ebbebf\",\"type\":\"Line\"},\"hover_glyph\":null,\"muted_glyph\":null,\"nonselection_glyph\":{\"id\":\"0d7a84a0-e594-4e69-8eae-fc225fd457df\",\"type\":\"Line\"},\"selection_glyph\":null,\"view\":{\"id\":\"8a94b7bb-ce6b-4b3d-abcd-9828a49a71bb\",\"type\":\"CDSView\"}},\"id\":\"ba747309-0b62-4aad-a962-9c46a52c5ccf\",\"type\":\"GlyphRenderer\"},{\"attributes\":{\"data_source\":{\"id\":\"a530629c-5ca8-4d0c-854d-ac69a6b0f0d5\",\"type\":\"ColumnDataSource\"},\"glyph\":{\"id\":\"25212ac7-d4b9-4f1b-aafc-168f6fd82ce8\",\"type\":\"Line\"},\"hover_glyph\":null,\"muted_glyph\":null,\"nonselection_glyph\":{\"id\":\"fbf6b622-9693-4fd1-ad05-160ee5aa8f83\",\"type\":\"Line\"},\"selection_glyph\":null,\"view\":{\"id\":\"820275a9-8d8a-4169-bf43-cb58e71da02f\",\"type\":\"CDSView\"}},\"id\":\"5ad933c3-c406-4ff5-8f0b-52a8e96cca17\",\"type\":\"GlyphRenderer\"},{\"attributes\":{\"source\":{\"id\":\"a5474751-5e60-40f1-8c23-27a022691384\",\"type\":\"ColumnDataSource\"}},\"id\":\"8a94b7bb-ce6b-4b3d-abcd-9828a49a71bb\",\"type\":\"CDSView\"},{\"attributes\":{\"source\":{\"id\":\"a530629c-5ca8-4d0c-854d-ac69a6b0f0d5\",\"type\":\"ColumnDataSource\"}},\"id\":\"820275a9-8d8a-4169-bf43-cb58e71da02f\",\"type\":\"CDSView\"},{\"attributes\":{\"line_alpha\":0.1,\"line_color\":\"#1f77b4\",\"x\":{\"field\":\"x\"},\"y\":{\"field\":\"y\"}},\"id\":\"03922c72-4668-4020-92ae-8baaca450f47\",\"type\":\"Line\"},{\"attributes\":{\"line_alpha\":0.1,\"line_color\":\"#1f77b4\",\"x\":{\"field\":\"x\"},\"y\":{\"field\":\"y\"}},\"id\":\"037f01cc-3c6c-4651-a158-77f664d62d0c\",\"type\":\"Line\"},{\"attributes\":{\"callback\":null,\"column_names\":[\"x\",\"y\"],\"data\":{\"x\":[\"Jan\",\"Feb\",\"Mar\",\"Apr\",\"May\",\"Jun\",\"Jul\",\"Aug\",\"Sep\",\"Oct\",\"Nov\",\"Dec\"],\"y\":{\"__ndarray__\":\"AAAAAAAAIEAzMzMzMzMfQJqZmZmZmR1AmpmZmZmZG0AzMzMzMzMbQM3MzMzMzBxAAAAAAAAAHEBmZmZmZmYaQJqZmZmZmRlAmpmZmZmZGUDNzMzMzMwYQGZmZmZmZhhA\",\"dtype\":\"float64\",\"shape\":[12]}}},\"id\":\"ff31f549-436c-422e-bfd7-b90fed5001d9\",\"type\":\"ColumnDataSource\"},{\"attributes\":{\"line_color\":\"#1f77b4\",\"x\":{\"field\":\"x\"},\"y\":{\"field\":\"y\"}},\"id\":\"8eb7ced1-10b7-4f4a-9057-b2429b5b8726\",\"type\":\"Line\"},{\"attributes\":{\"line_color\":\"#1f77b4\",\"x\":{\"field\":\"x\"},\"y\":{\"field\":\"y\"}},\"id\":\"d3c6c0bd-544a-441c-a174-63040ecca247\",\"type\":\"Line\"},{\"attributes\":{\"data_source\":{\"id\":\"053c9924-0291-4ba9-b7a1-e4920eed8a99\",\"type\":\"ColumnDataSource\"},\"glyph\":{\"id\":\"8eb7ced1-10b7-4f4a-9057-b2429b5b8726\",\"type\":\"Line\"},\"hover_glyph\":null,\"muted_glyph\":null,\"nonselection_glyph\":{\"id\":\"03922c72-4668-4020-92ae-8baaca450f47\",\"type\":\"Line\"},\"selection_glyph\":null,\"view\":{\"id\":\"3267a9e5-9bfd-419c-9965-cc8eb3ce6e40\",\"type\":\"CDSView\"}},\"id\":\"6fad14ac-5774-470f-957d-5d8cd9e6d1b0\",\"type\":\"GlyphRenderer\"},{\"attributes\":{\"data_source\":{\"id\":\"5b5264d7-2b9a-44ba-8e88-fcce641fd31c\",\"type\":\"ColumnDataSource\"},\"glyph\":{\"id\":\"d3c6c0bd-544a-441c-a174-63040ecca247\",\"type\":\"Line\"},\"hover_glyph\":null,\"muted_glyph\":null,\"nonselection_glyph\":{\"id\":\"037f01cc-3c6c-4651-a158-77f664d62d0c\",\"type\":\"Line\"},\"selection_glyph\":null,\"view\":{\"id\":\"8db9cd99-71e3-4242-85e2-b7a457a36a10\",\"type\":\"CDSView\"}},\"id\":\"eac02cc7-268a-4caa-8a9b-58071739d7ec\",\"type\":\"GlyphRenderer\"},{\"attributes\":{\"source\":{\"id\":\"053c9924-0291-4ba9-b7a1-e4920eed8a99\",\"type\":\"ColumnDataSource\"}},\"id\":\"3267a9e5-9bfd-419c-9965-cc8eb3ce6e40\",\"type\":\"CDSView\"},{\"attributes\":{\"source\":{\"id\":\"5b5264d7-2b9a-44ba-8e88-fcce641fd31c\",\"type\":\"ColumnDataSource\"}},\"id\":\"8db9cd99-71e3-4242-85e2-b7a457a36a10\",\"type\":\"CDSView\"},{\"attributes\":{\"line_alpha\":0.1,\"line_color\":\"#1f77b4\",\"x\":{\"field\":\"x\"},\"y\":{\"field\":\"y\"}},\"id\":\"a3889bc6-6728-4492-b254-83ab3619c5ce\",\"type\":\"Line\"},{\"attributes\":{\"callback\":null,\"column_names\":[\"x\",\"y\"],\"data\":{\"x\":[\"Jan\",\"Feb\",\"Mar\",\"Apr\",\"May\",\"Jun\",\"Jul\",\"Aug\",\"Sep\",\"Oct\",\"Nov\",\"Dec\"],\"y\":{\"__ndarray__\":\"MzMzMzMzHUBmZmZmZmYcQDMzMzMzMxtAzczMzMzMGECamZmZmZkXQM3MzMzMzBhAzczMzMzMGECamZmZmZkXQGZmZmZmZhZAmpmZmZmZFUAzMzMzMzMVQGZmZmZmZhRA\",\"dtype\":\"float64\",\"shape\":[12]}}},\"id\":\"8b6d91bb-170c-4336-8d4c-487d5c7c5c4b\",\"type\":\"ColumnDataSource\"},{\"attributes\":{\"line_color\":\"#1f77b4\",\"x\":{\"field\":\"x\"},\"y\":{\"field\":\"y\"}},\"id\":\"b7d1898f-38b6-46f1-989b-b954b94461b5\",\"type\":\"Line\"},{\"attributes\":{\"data_source\":{\"id\":\"ff31f549-436c-422e-bfd7-b90fed5001d9\",\"type\":\"ColumnDataSource\"},\"glyph\":{\"id\":\"b7d1898f-38b6-46f1-989b-b954b94461b5\",\"type\":\"Line\"},\"hover_glyph\":null,\"muted_glyph\":null,\"nonselection_glyph\":{\"id\":\"a3889bc6-6728-4492-b254-83ab3619c5ce\",\"type\":\"Line\"},\"selection_glyph\":null,\"view\":{\"id\":\"11b12bf9-6f21-4c27-95f1-cd1513391ae5\",\"type\":\"CDSView\"}},\"id\":\"b3c33819-64a1-405f-a6f9-d4e3f21ea32d\",\"type\":\"GlyphRenderer\"},{\"attributes\":{\"source\":{\"id\":\"ff31f549-436c-422e-bfd7-b90fed5001d9\",\"type\":\"ColumnDataSource\"}},\"id\":\"11b12bf9-6f21-4c27-95f1-cd1513391ae5\",\"type\":\"CDSView\"},{\"attributes\":{\"line_alpha\":0.1,\"line_color\":\"#1f77b4\",\"x\":{\"field\":\"x\"},\"y\":{\"field\":\"y\"}},\"id\":\"8e9a958c-0d79-4202-9380-83d3af6aa1ca\",\"type\":\"Line\"},{\"attributes\":{\"line_color\":\"#1f77b4\",\"x\":{\"field\":\"x\"},\"y\":{\"field\":\"y\"}},\"id\":\"c12fdc07-e92f-4212-8ec7-e881acae2062\",\"type\":\"Line\"},{\"attributes\":{\"data_source\":{\"id\":\"8b6d91bb-170c-4336-8d4c-487d5c7c5c4b\",\"type\":\"ColumnDataSource\"},\"glyph\":{\"id\":\"c12fdc07-e92f-4212-8ec7-e881acae2062\",\"type\":\"Line\"},\"hover_glyph\":null,\"muted_glyph\":null,\"nonselection_glyph\":{\"id\":\"8e9a958c-0d79-4202-9380-83d3af6aa1ca\",\"type\":\"Line\"},\"selection_glyph\":null,\"view\":{\"id\":\"d0df26e0-33e8-4c4c-8631-6dad088c7a04\",\"type\":\"CDSView\"}},\"id\":\"a393f26f-f11c-41ff-8125-214182454a8b\",\"type\":\"GlyphRenderer\"},{\"attributes\":{\"callback\":null,\"column_names\":[\"x\",\"y\"],\"data\":{\"x\":[\"Jan\",\"Feb\",\"Mar\",\"Apr\",\"May\",\"Jun\",\"Jul\",\"Aug\",\"Sep\",\"Oct\",\"Nov\",\"Dec\"],\"y\":{\"__ndarray__\":\"ZmZmZmZmGkBmZmZmZmYaQDMzMzMzMxlAzczMzMzMFkAzMzMzMzMVQAAAAAAAABpAzczMzMzMGECamZmZmZkXQDMzMzMzMxdAmpmZmZmZFUDNzMzMzMwWQAAAAAAAABZA\",\"dtype\":\"float64\",\"shape\":[12]}}},\"id\":\"6953f6c1-8c70-424e-8dc4-f0c566c9b393\",\"type\":\"ColumnDataSource\"},{\"attributes\":{\"source\":{\"id\":\"3b254d31-588d-418b-95ae-99ab997efdfc\",\"type\":\"ColumnDataSource\"}},\"id\":\"59e90a24-2b00-4a47-8cde-72f7b4734224\",\"type\":\"CDSView\"},{\"attributes\":{\"line_color\":\"#1f77b4\",\"x\":{\"field\":\"x\"},\"y\":{\"field\":\"y\"}},\"id\":\"ac13102b-de7b-4710-beeb-016034769af6\",\"type\":\"Line\"},{\"attributes\":{\"line_alpha\":0.1,\"line_color\":\"#1f77b4\",\"x\":{\"field\":\"x\"},\"y\":{\"field\":\"y\"}},\"id\":\"be5fb4a4-0e0a-4a33-b9ad-a79c798a1e49\",\"type\":\"Line\"},{\"attributes\":{\"data_source\":{\"id\":\"6953f6c1-8c70-424e-8dc4-f0c566c9b393\",\"type\":\"ColumnDataSource\"},\"glyph\":{\"id\":\"ac13102b-de7b-4710-beeb-016034769af6\",\"type\":\"Line\"},\"hover_glyph\":null,\"muted_glyph\":null,\"nonselection_glyph\":{\"id\":\"be5fb4a4-0e0a-4a33-b9ad-a79c798a1e49\",\"type\":\"Line\"},\"selection_glyph\":null,\"view\":{\"id\":\"21b63784-a7cd-4929-8afb-1fa9e1355f9d\",\"type\":\"CDSView\"}},\"id\":\"891731c0-dcdb-4edd-8fd7-cdfeb5e1698b\",\"type\":\"GlyphRenderer\"},{\"attributes\":{\"source\":{\"id\":\"6953f6c1-8c70-424e-8dc4-f0c566c9b393\",\"type\":\"ColumnDataSource\"}},\"id\":\"21b63784-a7cd-4929-8afb-1fa9e1355f9d\",\"type\":\"CDSView\"},{\"attributes\":{\"callback\":null,\"column_names\":[\"x\",\"y\"],\"data\":{\"x\":[\"Jan\",\"Feb\",\"Mar\",\"Apr\",\"May\",\"Jun\",\"Jul\",\"Aug\",\"Sep\",\"Oct\",\"Nov\",\"Dec\"],\"y\":{\"__ndarray__\":\"AAAAAAAAGkCamZmZmZkZQGZmZmZmZhhAAAAAAAAAFkBmZmZmZmYUQM3MzMzMzBhAmpmZmZmZF0AAAAAAAAAWQJqZmZmZmRVAZmZmZmZmFECamZmZmZkTQDMzMzMzMxNA\",\"dtype\":\"float64\",\"shape\":[12]}}},\"id\":\"0613bb1c-7299-4d02-880c-9fe9887b3b5f\",\"type\":\"ColumnDataSource\"},{\"attributes\":{\"line_alpha\":0.1,\"line_color\":\"#1f77b4\",\"x\":{\"field\":\"x\"},\"y\":{\"field\":\"y\"}},\"id\":\"1f4ddc4e-ba29-4bfb-98f5-7cdd22dd1af5\",\"type\":\"Line\"},{\"attributes\":{\"callback\":null,\"column_names\":[\"x\",\"y\"],\"data\":{\"x\":[\"Jan\",\"Feb\",\"Mar\",\"Apr\",\"May\",\"Jun\",\"Jul\",\"Aug\",\"Sep\",\"Oct\",\"Nov\",\"Dec\"],\"y\":{\"__ndarray__\":\"AAAAAAAAFkBmZmZmZmYWQM3MzMzMzBRAMzMzMzMzE0CamZmZmZkRQJqZmZmZmRVAAAAAAAAAFEDNzMzMzMwSQM3MzMzMzBJAzczMzMzMEEBmZmZmZmYSQGZmZmZmZhJA\",\"dtype\":\"float64\",\"shape\":[12]}}},\"id\":\"10215b98-d3c3-4847-998e-562645db45c9\",\"type\":\"ColumnDataSource\"},{\"attributes\":{\"line_color\":\"#1f77b4\",\"x\":{\"field\":\"x\"},\"y\":{\"field\":\"y\"}},\"id\":\"a314090b-57f5-4b80-bdad-e0fa1df1eb1c\",\"type\":\"Line\"},{\"attributes\":{\"data_source\":{\"id\":\"0613bb1c-7299-4d02-880c-9fe9887b3b5f\",\"type\":\"ColumnDataSource\"},\"glyph\":{\"id\":\"a314090b-57f5-4b80-bdad-e0fa1df1eb1c\",\"type\":\"Line\"},\"hover_glyph\":null,\"muted_glyph\":null,\"nonselection_glyph\":{\"id\":\"1f4ddc4e-ba29-4bfb-98f5-7cdd22dd1af5\",\"type\":\"Line\"},\"selection_glyph\":null,\"view\":{\"id\":\"e11c5df4-e493-4b45-bf93-037eefd03ea0\",\"type\":\"CDSView\"}},\"id\":\"e72fc566-3a9d-44e1-ac77-1da34f573800\",\"type\":\"GlyphRenderer\"},{\"attributes\":{\"source\":{\"id\":\"0613bb1c-7299-4d02-880c-9fe9887b3b5f\",\"type\":\"ColumnDataSource\"}},\"id\":\"e11c5df4-e493-4b45-bf93-037eefd03ea0\",\"type\":\"CDSView\"},{\"attributes\":{\"line_alpha\":0.1,\"line_color\":\"#1f77b4\",\"x\":{\"field\":\"x\"},\"y\":{\"field\":\"y\"}},\"id\":\"ef83b94e-3ae0-414c-b898-a141ecf3ae72\",\"type\":\"Line\"},{\"attributes\":{\"callback\":null,\"column_names\":[\"x\",\"y\"],\"data\":{\"x\":[\"Jan\",\"Feb\",\"Mar\",\"Apr\",\"May\",\"Jun\",\"Jul\",\"Aug\",\"Sep\",\"Oct\",\"Nov\",\"Dec\"],\"y\":{\"__ndarray__\":\"zczMzMzMFkAzMzMzMzMXQDMzMzMzMxVAMzMzMzMzE0BmZmZmZmYSQDMzMzMzMxdAzczMzMzMFkAzMzMzMzMVQM3MzMzMzBZAAAAAAAAAFkDNzMzMzMwYQM3MzMzMzBpA\",\"dtype\":\"float64\",\"shape\":[12]}}},\"id\":\"fdd85a9b-d949-4cc2-888e-8ce872777677\",\"type\":\"ColumnDataSource\"},{\"attributes\":{\"line_color\":\"#1f77b4\",\"x\":{\"field\":\"x\"},\"y\":{\"field\":\"y\"}},\"id\":\"803faa96-d2e4-43df-ae3a-db4cf980134e\",\"type\":\"Line\"},{\"attributes\":{\"data_source\":{\"id\":\"10215b98-d3c3-4847-998e-562645db45c9\",\"type\":\"ColumnDataSource\"},\"glyph\":{\"id\":\"803faa96-d2e4-43df-ae3a-db4cf980134e\",\"type\":\"Line\"},\"hover_glyph\":null,\"muted_glyph\":null,\"nonselection_glyph\":{\"id\":\"ef83b94e-3ae0-414c-b898-a141ecf3ae72\",\"type\":\"Line\"},\"selection_glyph\":null,\"view\":{\"id\":\"f039d61d-5005-45cc-9961-93f5723bb928\",\"type\":\"CDSView\"}},\"id\":\"39001cc2-896c-4cf4-bb05-394a1d7ade36\",\"type\":\"GlyphRenderer\"},{\"attributes\":{\"source\":{\"id\":\"10215b98-d3c3-4847-998e-562645db45c9\",\"type\":\"ColumnDataSource\"}},\"id\":\"f039d61d-5005-45cc-9961-93f5723bb928\",\"type\":\"CDSView\"},{\"attributes\":{\"callback\":null,\"column_names\":[\"x\",\"y\"],\"data\":{\"x\":[\"Jan\",\"Feb\",\"Mar\",\"Apr\",\"May\",\"Jun\",\"Jul\",\"Aug\",\"Sep\",\"Oct\",\"Nov\",\"Dec\"],\"y\":{\"__ndarray__\":\"AAAAAAAAFEAzMzMzMzMXQGZmZmZmZhZAmpmZmZmZFUDNzMzMzMwWQJqZmZmZmRlAAAAAAAAAHEAzMzMzMzMZQJqZmZmZmRdAZmZmZmZmGEDNzMzMzMwWQAAAAAAAABhA\",\"dtype\":\"float64\",\"shape\":[12]}}},\"id\":\"731cf12b-d57b-491d-939d-520002e8d31a\",\"type\":\"ColumnDataSource\"},{\"attributes\":{\"line_alpha\":0.1,\"line_color\":\"#1f77b4\",\"x\":{\"field\":\"x\"},\"y\":{\"field\":\"y\"}},\"id\":\"c2458fe3-4a09-4857-a3a6-d6e9cca76db9\",\"type\":\"Line\"},{\"attributes\":{\"callback\":null,\"column_names\":[\"x\",\"y\"],\"data\":{\"x\":[\"Jan\",\"Feb\",\"Mar\",\"Apr\",\"May\",\"Jun\",\"Jul\",\"Aug\",\"Sep\",\"Oct\",\"Nov\",\"Dec\"],\"y\":{\"__ndarray__\":\"AAAAAAAAIkAzMzMzMzMiQDMzMzMzMyJAMzMzMzMzIUCamZmZmZkgQDMzMzMzMyJAZmZmZmZmIUBmZmZmZmYgQDMzMzMzMyBAMzMzMzMzH0AzMzMzMzMfQDMzMzMzMx9A\",\"dtype\":\"float64\",\"shape\":[12]}}},\"id\":\"b8eb9a36-fdd0-49e6-b2e5-29a029a9ee1e\",\"type\":\"ColumnDataSource\"},{\"attributes\":{\"line_color\":\"#1f77b4\",\"x\":{\"field\":\"x\"},\"y\":{\"field\":\"y\"}},\"id\":\"a7180e2d-cf60-4d28-ac0d-cbd2c86595ce\",\"type\":\"Line\"},{\"attributes\":{\"data_source\":{\"id\":\"fdd85a9b-d949-4cc2-888e-8ce872777677\",\"type\":\"ColumnDataSource\"},\"glyph\":{\"id\":\"a7180e2d-cf60-4d28-ac0d-cbd2c86595ce\",\"type\":\"Line\"},\"hover_glyph\":null,\"muted_glyph\":null,\"nonselection_glyph\":{\"id\":\"c2458fe3-4a09-4857-a3a6-d6e9cca76db9\",\"type\":\"Line\"},\"selection_glyph\":null,\"view\":{\"id\":\"cccde7fe-9c10-4d02-97cc-3e22dfd03504\",\"type\":\"CDSView\"}},\"id\":\"80c84295-810b-4b4c-bc66-01fb18cf5209\",\"type\":\"GlyphRenderer\"},{\"attributes\":{\"source\":{\"id\":\"fdd85a9b-d949-4cc2-888e-8ce872777677\",\"type\":\"ColumnDataSource\"}},\"id\":\"cccde7fe-9c10-4d02-97cc-3e22dfd03504\",\"type\":\"CDSView\"},{\"attributes\":{\"line_alpha\":0.1,\"line_color\":\"#1f77b4\",\"x\":{\"field\":\"x\"},\"y\":{\"field\":\"y\"}},\"id\":\"dd273baa-4b67-44f5-8cd2-1dab8caf790b\",\"type\":\"Line\"},{\"attributes\":{\"callback\":null,\"column_names\":[\"x\",\"y\"],\"data\":{\"x\":[\"Jan\",\"Feb\",\"Mar\",\"Apr\",\"May\",\"Jun\",\"Jul\",\"Aug\",\"Sep\",\"Oct\",\"Nov\",\"Dec\"],\"y\":{\"__ndarray__\":\"mpmZmZmZIUBmZmZmZmYhQDMzMzMzMyBAmpmZmZmZHUAzMzMzMzMbQAAAAAAAACBAMzMzMzMzH0BmZmZmZmYeQJqZmZmZmR1AzczMzMzMHECamZmZmZkdQJqZmZmZmR1A\",\"dtype\":\"float64\",\"shape\":[12]}}},\"id\":\"4d9a04c3-b891-4726-b02c-de55ae3bed3f\",\"type\":\"ColumnDataSource\"},{\"attributes\":{\"line_color\":\"#1f77b4\",\"x\":{\"field\":\"x\"},\"y\":{\"field\":\"y\"}},\"id\":\"0d1027a4-a0b0-4f18-859e-aa603bcc6d79\",\"type\":\"Line\"},{\"attributes\":{\"data_source\":{\"id\":\"b8eb9a36-fdd0-49e6-b2e5-29a029a9ee1e\",\"type\":\"ColumnDataSource\"},\"glyph\":{\"id\":\"0d1027a4-a0b0-4f18-859e-aa603bcc6d79\",\"type\":\"Line\"},\"hover_glyph\":null,\"muted_glyph\":null,\"nonselection_glyph\":{\"id\":\"dd273baa-4b67-44f5-8cd2-1dab8caf790b\",\"type\":\"Line\"},\"selection_glyph\":null,\"view\":{\"id\":\"a7eb396d-de51-4434-82da-4bcf61c7440f\",\"type\":\"CDSView\"}},\"id\":\"096863b4-00d0-489e-8d74-b54a29b8e6db\",\"type\":\"GlyphRenderer\"},{\"attributes\":{\"source\":{\"id\":\"b8eb9a36-fdd0-49e6-b2e5-29a029a9ee1e\",\"type\":\"ColumnDataSource\"}},\"id\":\"a7eb396d-de51-4434-82da-4bcf61c7440f\",\"type\":\"CDSView\"},{\"attributes\":{\"line_alpha\":0.1,\"line_color\":\"#1f77b4\",\"x\":{\"field\":\"x\"},\"y\":{\"field\":\"y\"}},\"id\":\"5df2548c-94e1-4e6c-b1de-01e4f0ad5765\",\"type\":\"Line\"},{\"attributes\":{\"callback\":null,\"column_names\":[\"x\",\"y\"],\"data\":{\"x\":[\"Jan\",\"Feb\",\"Mar\",\"Apr\",\"May\",\"Jun\",\"Jul\",\"Aug\",\"Sep\",\"Oct\",\"Nov\",\"Dec\"],\"y\":{\"__ndarray__\":\"mpmZmZmZIEAAAAAAAAAhQJqZmZmZmR9AmpmZmZmZG0CamZmZmZkZQAAAAAAAAB5AAAAAAAAAHEAzMzMzMzMbQGZmZmZmZhpAmpmZmZmZGUAAAAAAAAAaQAAAAAAAABhA\",\"dtype\":\"float64\",\"shape\":[12]}}},\"id\":\"5d3e6c29-ab76-4a38-8e3e-c5c086972731\",\"type\":\"ColumnDataSource\"},{\"attributes\":{\"line_color\":\"#1f77b4\",\"x\":{\"field\":\"x\"},\"y\":{\"field\":\"y\"}},\"id\":\"ea312007-030e-4632-a086-25589bf2d488\",\"type\":\"Line\"},{\"attributes\":{\"data_source\":{\"id\":\"4d9a04c3-b891-4726-b02c-de55ae3bed3f\",\"type\":\"ColumnDataSource\"},\"glyph\":{\"id\":\"ea312007-030e-4632-a086-25589bf2d488\",\"type\":\"Line\"},\"hover_glyph\":null,\"muted_glyph\":null,\"nonselection_glyph\":{\"id\":\"5df2548c-94e1-4e6c-b1de-01e4f0ad5765\",\"type\":\"Line\"},\"selection_glyph\":null,\"view\":{\"id\":\"5335b081-9a05-4d71-a845-b5f75f610ae4\",\"type\":\"CDSView\"}},\"id\":\"d5b3c9ac-7f29-41f4-b596-134c5c2f9729\",\"type\":\"GlyphRenderer\"},{\"attributes\":{\"source\":{\"id\":\"4d9a04c3-b891-4726-b02c-de55ae3bed3f\",\"type\":\"ColumnDataSource\"}},\"id\":\"5335b081-9a05-4d71-a845-b5f75f610ae4\",\"type\":\"CDSView\"},{\"attributes\":{\"line_alpha\":0.1,\"line_color\":\"#1f77b4\",\"x\":{\"field\":\"x\"},\"y\":{\"field\":\"y\"}},\"id\":\"a40527c1-2866-4ac0-88ea-80149ae53926\",\"type\":\"Line\"},{\"attributes\":{\"callback\":null,\"column_names\":[\"x\",\"y\"],\"data\":{\"x\":[\"Jan\",\"Feb\",\"Mar\",\"Apr\",\"May\",\"Jun\",\"Jul\",\"Aug\",\"Sep\",\"Oct\",\"Nov\",\"Dec\"],\"y\":{\"__ndarray__\":\"ZmZmZmZmHECamZmZmZkbQGZmZmZmZhpAMzMzMzMzF0AAAAAAAAAWQM3MzMzMzBhAMzMzMzMzGUCamZmZmZkXQDMzMzMzMxdAmpmZmZmZFUBmZmZmZmYWQM3MzMzMzBZA\",\"dtype\":\"float64\",\"shape\":[12]}}},\"id\":\"81501f79-27e5-4c6c-aed8-9773e9b1b3a3\",\"type\":\"ColumnDataSource\"},{\"attributes\":{\"line_color\":\"#1f77b4\",\"x\":{\"field\":\"x\"},\"y\":{\"field\":\"y\"}},\"id\":\"aecb6af0-6f1a-4ef8-b396-11ef7682cf8e\",\"type\":\"Line\"},{\"attributes\":{\"data_source\":{\"id\":\"5d3e6c29-ab76-4a38-8e3e-c5c086972731\",\"type\":\"ColumnDataSource\"},\"glyph\":{\"id\":\"aecb6af0-6f1a-4ef8-b396-11ef7682cf8e\",\"type\":\"Line\"},\"hover_glyph\":null,\"muted_glyph\":null,\"nonselection_glyph\":{\"id\":\"a40527c1-2866-4ac0-88ea-80149ae53926\",\"type\":\"Line\"},\"selection_glyph\":null,\"view\":{\"id\":\"67058dad-949d-413d-a2f3-d6c4cc5445fe\",\"type\":\"CDSView\"}},\"id\":\"643e03dc-67f2-4cce-b7eb-a1c782c49ff6\",\"type\":\"GlyphRenderer\"},{\"attributes\":{\"source\":{\"id\":\"5d3e6c29-ab76-4a38-8e3e-c5c086972731\",\"type\":\"ColumnDataSource\"}},\"id\":\"67058dad-949d-413d-a2f3-d6c4cc5445fe\",\"type\":\"CDSView\"},{\"attributes\":{\"line_alpha\":0.1,\"line_color\":\"#1f77b4\",\"x\":{\"field\":\"x\"},\"y\":{\"field\":\"y\"}},\"id\":\"b7dbf8df-fef1-411b-b7f1-9959a790d28d\",\"type\":\"Line\"},{\"attributes\":{\"callback\":null,\"column_names\":[\"x\",\"y\"],\"data\":{\"x\":[\"Jan\",\"Feb\",\"Mar\",\"Apr\",\"May\",\"Jun\",\"Jul\",\"Aug\",\"Sep\",\"Oct\",\"Nov\",\"Dec\"],\"y\":{\"__ndarray__\":\"mpmZmZmZGUCamZmZmZkZQGZmZmZmZhhAAAAAAAAAFkDNzMzMzMwUQAAAAAAAABhAmpmZmZmZF0CamZmZmZkXQM3MzMzMzBZAZmZmZmZmFkBmZmZmZmYWQM3MzMzMzBZA\",\"dtype\":\"float64\",\"shape\":[12]}}},\"id\":\"d36a129f-35ba-4c4f-a9aa-200aea92591f\",\"type\":\"ColumnDataSource\"},{\"attributes\":{\"line_color\":\"#1f77b4\",\"x\":{\"field\":\"x\"},\"y\":{\"field\":\"y\"}},\"id\":\"057f7ad4-8970-495f-a5a8-375207ef1056\",\"type\":\"Line\"},{\"attributes\":{\"data_source\":{\"id\":\"81501f79-27e5-4c6c-aed8-9773e9b1b3a3\",\"type\":\"ColumnDataSource\"},\"glyph\":{\"id\":\"057f7ad4-8970-495f-a5a8-375207ef1056\",\"type\":\"Line\"},\"hover_glyph\":null,\"muted_glyph\":null,\"nonselection_glyph\":{\"id\":\"b7dbf8df-fef1-411b-b7f1-9959a790d28d\",\"type\":\"Line\"},\"selection_glyph\":null,\"view\":{\"id\":\"689b8a1d-b55e-490c-8eab-6a58b573999a\",\"type\":\"CDSView\"}},\"id\":\"a1fba009-be1f-4946-a023-8a7aa00b3a9e\",\"type\":\"GlyphRenderer\"},{\"attributes\":{\"source\":{\"id\":\"81501f79-27e5-4c6c-aed8-9773e9b1b3a3\",\"type\":\"ColumnDataSource\"}},\"id\":\"689b8a1d-b55e-490c-8eab-6a58b573999a\",\"type\":\"CDSView\"},{\"attributes\":{\"line_alpha\":0.1,\"line_color\":\"#1f77b4\",\"x\":{\"field\":\"x\"},\"y\":{\"field\":\"y\"}},\"id\":\"1dc14bfb-98d1-489a-b1d0-249871359983\",\"type\":\"Line\"},{\"attributes\":{\"callback\":null,\"column_names\":[\"x\",\"y\"],\"data\":{\"x\":[\"Jan\",\"Feb\",\"Mar\",\"Apr\",\"May\",\"Jun\",\"Jul\",\"Aug\",\"Sep\",\"Oct\",\"Nov\",\"Dec\"],\"y\":{\"__ndarray__\":\"mpmZmZmZG0AzMzMzMzMbQGZmZmZmZhpAzczMzMzMGkBmZmZmZmYcQDMzMzMzMx9AmpmZmZmZH0BmZmZmZmYeQM3MzMzMzBxAZmZmZmZmHEBmZmZmZmYcQJqZmZmZmRtA\",\"dtype\":\"float64\",\"shape\":[12]}}},\"id\":\"707fe13f-838c-42ec-a18b-a7fd919b46df\",\"type\":\"ColumnDataSource\"},{\"attributes\":{\"line_color\":\"#1f77b4\",\"x\":{\"field\":\"x\"},\"y\":{\"field\":\"y\"}},\"id\":\"14af7701-7980-4c5a-aa7f-c6c7a9618606\",\"type\":\"Line\"},{\"attributes\":{\"data_source\":{\"id\":\"d36a129f-35ba-4c4f-a9aa-200aea92591f\",\"type\":\"ColumnDataSource\"},\"glyph\":{\"id\":\"14af7701-7980-4c5a-aa7f-c6c7a9618606\",\"type\":\"Line\"},\"hover_glyph\":null,\"muted_glyph\":null,\"nonselection_glyph\":{\"id\":\"1dc14bfb-98d1-489a-b1d0-249871359983\",\"type\":\"Line\"},\"selection_glyph\":null,\"view\":{\"id\":\"06089f78-a7f1-47f8-9986-5a600f1597ea\",\"type\":\"CDSView\"}},\"id\":\"6faac7c5-3660-44e5-b865-d5f69a52973a\",\"type\":\"GlyphRenderer\"},{\"attributes\":{\"source\":{\"id\":\"d36a129f-35ba-4c4f-a9aa-200aea92591f\",\"type\":\"ColumnDataSource\"}},\"id\":\"06089f78-a7f1-47f8-9986-5a600f1597ea\",\"type\":\"CDSView\"},{\"attributes\":{\"line_alpha\":0.1,\"line_color\":\"#1f77b4\",\"x\":{\"field\":\"x\"},\"y\":{\"field\":\"y\"}},\"id\":\"eb2b465a-2903-4ec6-92c9-56461920c382\",\"type\":\"Line\"},{\"attributes\":{\"callback\":null,\"column_names\":[\"x\",\"y\"],\"data\":{\"x\":[\"Jan\",\"Feb\",\"Mar\",\"Apr\",\"May\",\"Jun\",\"Jul\",\"Aug\",\"Sep\",\"Oct\",\"Nov\",\"Dec\"],\"y\":{\"__ndarray__\":\"ZmZmZmZmIEAAAAAAAAAgQM3MzMzMzB5AAAAAAAAAHEBmZmZmZmYcQM3MzMzMzB5AMzMzMzMzHUDNzMzMzMwcQDMzMzMzMx1AAAAAAAAAHkCamZmZmZkfQJqZmZmZmSBA\",\"dtype\":\"float64\",\"shape\":[12]}}},\"id\":\"918ee30f-5ab5-47f3-a3aa-fbd24d793c0d\",\"type\":\"ColumnDataSource\"},{\"attributes\":{\"line_color\":\"#1f77b4\",\"x\":{\"field\":\"x\"},\"y\":{\"field\":\"y\"}},\"id\":\"599f049f-784d-488d-a1ad-fb363c8ca6f6\",\"type\":\"Line\"},{\"attributes\":{\"data_source\":{\"id\":\"707fe13f-838c-42ec-a18b-a7fd919b46df\",\"type\":\"ColumnDataSource\"},\"glyph\":{\"id\":\"599f049f-784d-488d-a1ad-fb363c8ca6f6\",\"type\":\"Line\"},\"hover_glyph\":null,\"muted_glyph\":null,\"nonselection_glyph\":{\"id\":\"eb2b465a-2903-4ec6-92c9-56461920c382\",\"type\":\"Line\"},\"selection_glyph\":null,\"view\":{\"id\":\"8b15d26d-8d2b-4d88-aa2e-60c57c948195\",\"type\":\"CDSView\"}},\"id\":\"b9c1fd6d-d920-4f5a-93f0-7fe0316152da\",\"type\":\"GlyphRenderer\"},{\"attributes\":{\"source\":{\"id\":\"707fe13f-838c-42ec-a18b-a7fd919b46df\",\"type\":\"ColumnDataSource\"}},\"id\":\"8b15d26d-8d2b-4d88-aa2e-60c57c948195\",\"type\":\"CDSView\"},{\"attributes\":{\"line_alpha\":0.1,\"line_color\":\"#1f77b4\",\"x\":{\"field\":\"x\"},\"y\":{\"field\":\"y\"}},\"id\":\"264f6c8f-122a-47d8-bc29-0bc470575a00\",\"type\":\"Line\"},{\"attributes\":{\"callback\":null,\"column_names\":[\"x\",\"y\"],\"data\":{\"x\":[\"Jan\",\"Feb\",\"Mar\",\"Apr\",\"May\",\"Jun\",\"Jul\",\"Aug\",\"Sep\",\"Oct\",\"Nov\",\"Dec\"],\"y\":{\"__ndarray__\":\"zczMzMzMIkAzMzMzMzMjQAAAAAAAACNAZmZmZmZmIkAzMzMzMzMiQJqZmZmZmSNAmpmZmZmZI0AzMzMzMzMjQGZmZmZmZiNAzczMzMzMI0DNzMzMzMwkQAAAAAAAACVA\",\"dtype\":\"float64\",\"shape\":[12]}}},\"id\":\"3b254d31-588d-418b-95ae-99ab997efdfc\",\"type\":\"ColumnDataSource\"},{\"attributes\":{\"line_color\":\"#1f77b4\",\"x\":{\"field\":\"x\"},\"y\":{\"field\":\"y\"}},\"id\":\"cb85357c-73d4-44ea-b870-924d75ca1462\",\"type\":\"Line\"},{\"attributes\":{\"data_source\":{\"id\":\"918ee30f-5ab5-47f3-a3aa-fbd24d793c0d\",\"type\":\"ColumnDataSource\"},\"glyph\":{\"id\":\"cb85357c-73d4-44ea-b870-924d75ca1462\",\"type\":\"Line\"},\"hover_glyph\":null,\"muted_glyph\":null,\"nonselection_glyph\":{\"id\":\"264f6c8f-122a-47d8-bc29-0bc470575a00\",\"type\":\"Line\"},\"selection_glyph\":null,\"view\":{\"id\":\"75c4a794-914a-43ad-bd4e-b63717feb765\",\"type\":\"CDSView\"}},\"id\":\"9b61ddd8-e043-4973-91d3-7cbff93112f7\",\"type\":\"GlyphRenderer\"},{\"attributes\":{\"source\":{\"id\":\"918ee30f-5ab5-47f3-a3aa-fbd24d793c0d\",\"type\":\"ColumnDataSource\"}},\"id\":\"75c4a794-914a-43ad-bd4e-b63717feb765\",\"type\":\"CDSView\"},{\"attributes\":{\"line_alpha\":0.1,\"line_color\":\"#1f77b4\",\"x\":{\"field\":\"x\"},\"y\":{\"field\":\"y\"}},\"id\":\"3d2e2a9e-53b4-47c3-873a-9bec57157c4c\",\"type\":\"Line\"},{\"attributes\":{\"line_color\":\"#1f77b4\",\"x\":{\"field\":\"x\"},\"y\":{\"field\":\"y\"}},\"id\":\"3efe74a6-b96f-42b8-9c3f-b1798b24d9fd\",\"type\":\"Line\"},{\"attributes\":{\"data_source\":{\"id\":\"3b254d31-588d-418b-95ae-99ab997efdfc\",\"type\":\"ColumnDataSource\"},\"glyph\":{\"id\":\"3efe74a6-b96f-42b8-9c3f-b1798b24d9fd\",\"type\":\"Line\"},\"hover_glyph\":null,\"muted_glyph\":null,\"nonselection_glyph\":{\"id\":\"3d2e2a9e-53b4-47c3-873a-9bec57157c4c\",\"type\":\"Line\"},\"selection_glyph\":null,\"view\":{\"id\":\"59e90a24-2b00-4a47-8cde-72f7b4734224\",\"type\":\"CDSView\"}},\"id\":\"6a56374c-5788-4f3f-8eec-bb9183ce6b40\",\"type\":\"GlyphRenderer\"},{\"attributes\":{},\"id\":\"728fbd94-914d-412d-af1f-dc2c66e0aebf\",\"type\":\"SaveTool\"},{\"attributes\":{\"overlay\":{\"id\":\"62cd4300-23fd-47e0-8065-96e1e5508b4a\",\"type\":\"BoxAnnotation\"}},\"id\":\"ed4d7e49-2f24-4dc2-9715-806c6f0139b0\",\"type\":\"BoxZoomTool\"},{\"attributes\":{},\"id\":\"9034e896-3bc4-487b-a2cd-7c8d21f535e5\",\"type\":\"ResetTool\"}],\"root_ids\":[\"bc27f9cd-8199-4e7e-81b8-857cce10fe5d\"]},\"title\":\"Bokeh Application\",\"version\":\"0.12.14\"}};\n",
       "  var render_items = [{\"docid\":\"9c1cbb10-c89f-4b7e-a835-0daa6e3798db\",\"elementid\":\"e1a12730-e9f8-4c6c-8f4e-41ef64857cdf\",\"modelid\":\"bc27f9cd-8199-4e7e-81b8-857cce10fe5d\"}];\n",
       "  root.Bokeh.embed.embed_items_notebook(docs_json, render_items);\n",
       "\n",
       "  }\n",
       "  if (root.Bokeh !== undefined) {\n",
       "    embed_document(root);\n",
       "  } else {\n",
       "    var attempts = 0;\n",
       "    var timer = setInterval(function(root) {\n",
       "      if (root.Bokeh !== undefined) {\n",
       "        embed_document(root);\n",
       "        clearInterval(timer);\n",
       "      }\n",
       "      attempts++;\n",
       "      if (attempts > 100) {\n",
       "        console.log(\"Bokeh: ERROR: Unable to run BokehJS code because BokehJS library is missing\")\n",
       "        clearInterval(timer);\n",
       "      }\n",
       "    }, 10, root)\n",
       "  }\n",
       "})(window);"
      ],
      "application/vnd.bokehjs_exec.v0+json": ""
     },
     "metadata": {
      "application/vnd.bokehjs_exec.v0+json": {
       "id": "bc27f9cd-8199-4e7e-81b8-857cce10fe5d"
      }
     },
     "output_type": "display_data"
    }
   ],
   "source": [
    "# Load the x values (months of the year)\n",
    "y = data.iloc[0]\n",
    "x = [x for x in data.columns]\n",
    "# Create figure object by specifizing dimensions, title, tools etc\n",
    "p1 = figure(tools=\"pan,box_zoom,reset,save\", y_range=[2, 12], plot_height=300, plot_width=500, x_range = x)\n",
    "# Loop to add line plot of each year to the plot object\n",
    "for index, row in data.iterrows():\n",
    "    p1.line(x, row)\n",
    "# Display the graph\n",
    "show(p1)"
   ]
  },
  {
   "cell_type": "markdown",
   "metadata": {},
   "source": [
    "The above plot looks pretty messy because of the large number of rows (years from 1948 through 2016) it contains. What would be immensely helpful if we could have a slider to pass through the years and see of the unemployment rate has changed over time. Let us dive in!"
   ]
  },
  {
   "cell_type": "code",
   "execution_count": 203,
   "metadata": {},
   "outputs": [],
   "source": [
    "# Create figure object by specifizing dimensions, title, tools etc\n",
    "p = figure(tools=\"pan,box_zoom,reset,save\", y_range=[2, 13], plot_height=300, plot_width=500, x_range = x)\n",
    "r = p.line(x, y)"
   ]
  },
  {
   "cell_type": "code",
   "execution_count": 204,
   "metadata": {},
   "outputs": [],
   "source": [
    "def update(year = 1948):\n",
    "    r.data_source.data['y'] = data.iloc[year - 1948]\n",
    "    push_notebook()"
   ]
  },
  {
   "cell_type": "code",
   "execution_count": 205,
   "metadata": {},
   "outputs": [
    {
     "data": {
      "text/html": [
       "\n",
       "<div class=\"bk-root\">\n",
       "    <div class=\"bk-plotdiv\" id=\"cceabb8e-843e-4b92-b4d1-5143b6061660\"></div>\n",
       "</div>"
      ]
     },
     "metadata": {},
     "output_type": "display_data"
    },
    {
     "data": {
      "application/javascript": [
       "(function(root) {\n",
       "  function embed_document(root) {\n",
       "    \n",
       "  var docs_json = {\"0b9b0068-a16a-43b3-a406-c886c3aa74c6\":{\"roots\":{\"references\":[{\"attributes\":{\"callback\":null,\"factors\":[\"Jan\",\"Feb\",\"Mar\",\"Apr\",\"May\",\"Jun\",\"Jul\",\"Aug\",\"Sep\",\"Oct\",\"Nov\",\"Dec\"]},\"id\":\"4c17f054-fc24-4f16-9275-1677ac3d884a\",\"type\":\"FactorRange\"},{\"attributes\":{},\"id\":\"ffb97780-6b24-4216-8c61-ef1badb8166a\",\"type\":\"ResetTool\"},{\"attributes\":{\"callback\":null,\"end\":13,\"start\":2},\"id\":\"c166c2c9-3902-48bb-b76e-52b16a5b0082\",\"type\":\"Range1d\"},{\"attributes\":{},\"id\":\"bf6767ee-0cac-433b-8b7d-0758e6ba6e9f\",\"type\":\"PanTool\"},{\"attributes\":{\"active_drag\":\"auto\",\"active_inspect\":\"auto\",\"active_scroll\":\"auto\",\"active_tap\":\"auto\",\"tools\":[{\"id\":\"bf6767ee-0cac-433b-8b7d-0758e6ba6e9f\",\"type\":\"PanTool\"},{\"id\":\"132c06f7-cc5c-4f4b-85c9-9c66c77473ab\",\"type\":\"BoxZoomTool\"},{\"id\":\"ffb97780-6b24-4216-8c61-ef1badb8166a\",\"type\":\"ResetTool\"},{\"id\":\"5cf37e9f-ae67-420a-8761-56be9f88b6d0\",\"type\":\"SaveTool\"}]},\"id\":\"4c504d44-9e3c-49a8-87c4-d44daa8b8310\",\"type\":\"Toolbar\"},{\"attributes\":{},\"id\":\"56161943-d96b-4690-82b3-5d0ce5437d2b\",\"type\":\"CategoricalScale\"},{\"attributes\":{\"line_alpha\":0.1,\"line_color\":\"#1f77b4\",\"x\":{\"field\":\"x\"},\"y\":{\"field\":\"y\"}},\"id\":\"ead6ca2d-9631-4b59-ad07-667b134b2166\",\"type\":\"Line\"},{\"attributes\":{},\"id\":\"1c5c6806-9a5f-4e3f-b4db-0b69789edb80\",\"type\":\"BasicTickFormatter\"},{\"attributes\":{\"overlay\":{\"id\":\"4c9d7fb6-eccc-4958-80b6-eddd545e122f\",\"type\":\"BoxAnnotation\"}},\"id\":\"132c06f7-cc5c-4f4b-85c9-9c66c77473ab\",\"type\":\"BoxZoomTool\"},{\"attributes\":{\"data_source\":{\"id\":\"aebcad7f-4720-45b1-941a-a94b79bdd2a8\",\"type\":\"ColumnDataSource\"},\"glyph\":{\"id\":\"916816d8-91b3-4a4b-a7be-0056a4d0f6b4\",\"type\":\"Line\"},\"hover_glyph\":null,\"muted_glyph\":null,\"nonselection_glyph\":{\"id\":\"ead6ca2d-9631-4b59-ad07-667b134b2166\",\"type\":\"Line\"},\"selection_glyph\":null,\"view\":{\"id\":\"aa1cc6d0-95c9-4f01-b904-f1dad11ae0c1\",\"type\":\"CDSView\"}},\"id\":\"b783ec42-7460-44f7-83dd-b3a94653488d\",\"type\":\"GlyphRenderer\"},{\"attributes\":{\"bottom_units\":\"screen\",\"fill_alpha\":{\"value\":0.5},\"fill_color\":{\"value\":\"lightgrey\"},\"left_units\":\"screen\",\"level\":\"overlay\",\"line_alpha\":{\"value\":1.0},\"line_color\":{\"value\":\"black\"},\"line_dash\":[4,4],\"line_width\":{\"value\":2},\"plot\":null,\"render_mode\":\"css\",\"right_units\":\"screen\",\"top_units\":\"screen\"},\"id\":\"4c9d7fb6-eccc-4958-80b6-eddd545e122f\",\"type\":\"BoxAnnotation\"},{\"attributes\":{\"source\":{\"id\":\"aebcad7f-4720-45b1-941a-a94b79bdd2a8\",\"type\":\"ColumnDataSource\"}},\"id\":\"aa1cc6d0-95c9-4f01-b904-f1dad11ae0c1\",\"type\":\"CDSView\"},{\"attributes\":{\"dimension\":1,\"plot\":{\"id\":\"4c466fb9-646f-4638-a8af-dc9890841af5\",\"subtype\":\"Figure\",\"type\":\"Plot\"},\"ticker\":{\"id\":\"71cf311b-47d1-4c8e-a0fe-2d93beceeebd\",\"type\":\"BasicTicker\"}},\"id\":\"67fd39b5-1197-4a18-9fb8-e98779fee7f8\",\"type\":\"Grid\"},{\"attributes\":{},\"id\":\"f1b2c12b-180d-4767-a4bf-3c4d9b55fa5e\",\"type\":\"CategoricalTickFormatter\"},{\"attributes\":{},\"id\":\"5cf37e9f-ae67-420a-8761-56be9f88b6d0\",\"type\":\"SaveTool\"},{\"attributes\":{\"plot\":null,\"text\":\"\"},\"id\":\"ed259e88-4bef-4638-8df1-8748e005a8f6\",\"type\":\"Title\"},{\"attributes\":{\"callback\":null,\"column_names\":[\"x\",\"y\"],\"data\":{\"x\":[\"Jan\",\"Feb\",\"Mar\",\"Apr\",\"May\",\"Jun\",\"Jul\",\"Aug\",\"Sep\",\"Oct\",\"Nov\",\"Dec\"],\"y\":{\"__ndarray__\":\"AAAAAAAAEEDNzMzMzMwSQAAAAAAAABJAAAAAAAAAEEAzMzMzMzMLQDMzMzMzMw9AMzMzMzMzD0DNzMzMzMwMQDMzMzMzMwtAMzMzMzMzB0BmZmZmZmYKQM3MzMzMzAxA\",\"dtype\":\"float64\",\"shape\":[12]}}},\"id\":\"aebcad7f-4720-45b1-941a-a94b79bdd2a8\",\"type\":\"ColumnDataSource\"},{\"attributes\":{\"formatter\":{\"id\":\"1c5c6806-9a5f-4e3f-b4db-0b69789edb80\",\"type\":\"BasicTickFormatter\"},\"plot\":{\"id\":\"4c466fb9-646f-4638-a8af-dc9890841af5\",\"subtype\":\"Figure\",\"type\":\"Plot\"},\"ticker\":{\"id\":\"71cf311b-47d1-4c8e-a0fe-2d93beceeebd\",\"type\":\"BasicTicker\"}},\"id\":\"26ed687d-7c6b-4d03-8ef9-8bd153907e64\",\"type\":\"LinearAxis\"},{\"attributes\":{},\"id\":\"71cf311b-47d1-4c8e-a0fe-2d93beceeebd\",\"type\":\"BasicTicker\"},{\"attributes\":{},\"id\":\"f3a88e23-187b-4ac9-8175-ec2a809ab0a9\",\"type\":\"CategoricalTicker\"},{\"attributes\":{\"line_color\":\"#1f77b4\",\"x\":{\"field\":\"x\"},\"y\":{\"field\":\"y\"}},\"id\":\"916816d8-91b3-4a4b-a7be-0056a4d0f6b4\",\"type\":\"Line\"},{\"attributes\":{},\"id\":\"0237a7af-f905-4ff2-9aba-c07e17df2dac\",\"type\":\"LinearScale\"},{\"attributes\":{\"below\":[{\"id\":\"1e46ad5c-2892-47db-9a6d-e6583caea795\",\"type\":\"CategoricalAxis\"}],\"left\":[{\"id\":\"26ed687d-7c6b-4d03-8ef9-8bd153907e64\",\"type\":\"LinearAxis\"}],\"plot_height\":300,\"plot_width\":500,\"renderers\":[{\"id\":\"1e46ad5c-2892-47db-9a6d-e6583caea795\",\"type\":\"CategoricalAxis\"},{\"id\":\"88e9d944-1527-46fd-8860-72ee503c1546\",\"type\":\"Grid\"},{\"id\":\"26ed687d-7c6b-4d03-8ef9-8bd153907e64\",\"type\":\"LinearAxis\"},{\"id\":\"67fd39b5-1197-4a18-9fb8-e98779fee7f8\",\"type\":\"Grid\"},{\"id\":\"4c9d7fb6-eccc-4958-80b6-eddd545e122f\",\"type\":\"BoxAnnotation\"},{\"id\":\"b783ec42-7460-44f7-83dd-b3a94653488d\",\"type\":\"GlyphRenderer\"}],\"title\":{\"id\":\"ed259e88-4bef-4638-8df1-8748e005a8f6\",\"type\":\"Title\"},\"toolbar\":{\"id\":\"4c504d44-9e3c-49a8-87c4-d44daa8b8310\",\"type\":\"Toolbar\"},\"x_range\":{\"id\":\"4c17f054-fc24-4f16-9275-1677ac3d884a\",\"type\":\"FactorRange\"},\"x_scale\":{\"id\":\"56161943-d96b-4690-82b3-5d0ce5437d2b\",\"type\":\"CategoricalScale\"},\"y_range\":{\"id\":\"c166c2c9-3902-48bb-b76e-52b16a5b0082\",\"type\":\"Range1d\"},\"y_scale\":{\"id\":\"0237a7af-f905-4ff2-9aba-c07e17df2dac\",\"type\":\"LinearScale\"}},\"id\":\"4c466fb9-646f-4638-a8af-dc9890841af5\",\"subtype\":\"Figure\",\"type\":\"Plot\"},{\"attributes\":{\"formatter\":{\"id\":\"f1b2c12b-180d-4767-a4bf-3c4d9b55fa5e\",\"type\":\"CategoricalTickFormatter\"},\"plot\":{\"id\":\"4c466fb9-646f-4638-a8af-dc9890841af5\",\"subtype\":\"Figure\",\"type\":\"Plot\"},\"ticker\":{\"id\":\"f3a88e23-187b-4ac9-8175-ec2a809ab0a9\",\"type\":\"CategoricalTicker\"}},\"id\":\"1e46ad5c-2892-47db-9a6d-e6583caea795\",\"type\":\"CategoricalAxis\"},{\"attributes\":{\"plot\":{\"id\":\"4c466fb9-646f-4638-a8af-dc9890841af5\",\"subtype\":\"Figure\",\"type\":\"Plot\"},\"ticker\":{\"id\":\"f3a88e23-187b-4ac9-8175-ec2a809ab0a9\",\"type\":\"CategoricalTicker\"}},\"id\":\"88e9d944-1527-46fd-8860-72ee503c1546\",\"type\":\"Grid\"}],\"root_ids\":[\"4c466fb9-646f-4638-a8af-dc9890841af5\"]},\"title\":\"Bokeh Application\",\"version\":\"0.12.14\"}};\n",
       "  var render_items = [{\"docid\":\"0b9b0068-a16a-43b3-a406-c886c3aa74c6\",\"elementid\":\"cceabb8e-843e-4b92-b4d1-5143b6061660\",\"modelid\":\"4c466fb9-646f-4638-a8af-dc9890841af5\",\"notebook_comms_target\":\"23b43230-d3a6-4fff-8d96-1f50854fb61e\"}];\n",
       "  root.Bokeh.embed.embed_items_notebook(docs_json, render_items);\n",
       "\n",
       "  }\n",
       "  if (root.Bokeh !== undefined) {\n",
       "    embed_document(root);\n",
       "  } else {\n",
       "    var attempts = 0;\n",
       "    var timer = setInterval(function(root) {\n",
       "      if (root.Bokeh !== undefined) {\n",
       "        embed_document(root);\n",
       "        clearInterval(timer);\n",
       "      }\n",
       "      attempts++;\n",
       "      if (attempts > 100) {\n",
       "        console.log(\"Bokeh: ERROR: Unable to run BokehJS code because BokehJS library is missing\")\n",
       "        clearInterval(timer);\n",
       "      }\n",
       "    }, 10, root)\n",
       "  }\n",
       "})(window);"
      ],
      "application/vnd.bokehjs_exec.v0+json": ""
     },
     "metadata": {
      "application/vnd.bokehjs_exec.v0+json": {
       "id": "4c466fb9-646f-4638-a8af-dc9890841af5"
      }
     },
     "output_type": "display_data"
    },
    {
     "data": {
      "text/html": [
       "<p><code>&lt;Bokeh Notebook handle for <strong>In[205]</strong>&gt;</code></p>"
      ],
      "text/plain": [
       "<bokeh.io.notebook.CommsHandle at 0x1ea537cccc0>"
      ]
     },
     "execution_count": 205,
     "metadata": {},
     "output_type": "execute_result"
    }
   ],
   "source": [
    "show(p, notebook_handle=True)"
   ]
  },
  {
   "cell_type": "code",
   "execution_count": 206,
   "metadata": {},
   "outputs": [
    {
     "data": {
      "application/vnd.jupyter.widget-view+json": {
       "model_id": "9908f5676f954fd5bd18367ace0c3229",
       "version_major": 2,
       "version_minor": 0
      },
      "text/html": [
       "<p>Failed to display Jupyter Widget of type <code>interactive</code>.</p>\n",
       "<p>\n",
       "  If you're reading this message in the Jupyter Notebook or JupyterLab Notebook, it may mean\n",
       "  that the widgets JavaScript is still loading. If this message persists, it\n",
       "  likely means that the widgets JavaScript library is either not installed or\n",
       "  not enabled. See the <a href=\"https://ipywidgets.readthedocs.io/en/stable/user_install.html\">Jupyter\n",
       "  Widgets Documentation</a> for setup instructions.\n",
       "</p>\n",
       "<p>\n",
       "  If you're reading this message in another frontend (for example, a static\n",
       "  rendering on GitHub or <a href=\"https://nbviewer.jupyter.org/\">NBViewer</a>),\n",
       "  it may mean that your frontend doesn't currently support widgets.\n",
       "</p>\n"
      ],
      "text/plain": [
       "interactive(children=(IntSlider(value=1948, description='year', max=2016, min=1948), Output()), _dom_classes=('widget-interact',))"
      ]
     },
     "metadata": {},
     "output_type": "display_data"
    },
    {
     "data": {
      "text/plain": [
       "<function __main__.update>"
      ]
     },
     "execution_count": 206,
     "metadata": {},
     "output_type": "execute_result"
    }
   ],
   "source": [
    "interact(update, year = (1948,2016))"
   ]
  },
  {
   "cell_type": "markdown",
   "metadata": {},
   "source": [
    "Sometimes, static charts can also be extremely powerful to visualize data. To understand varying behaviour, we can use different shades of color to help with the same. Heatmap is a type of graphical representation of data that uses a system of varying color-coding to represent different values.  \n",
    "\n",
    "We can use heatmaps to visualize the above unemployment data. A snapshot of creating an advanced heatmap plot using Bokeh has been shown below! By using the features of Bokeh we can even make it better by adding widgets and hovering capabilities to make it interactive! This is just an example of how powerful interactive visualization can be!\n",
    "Source: https://bokeh.pydata.org/en/latest/docs/gallery/unemployment.html"
   ]
  },
  {
   "cell_type": "markdown",
   "metadata": {},
   "source": [
    "![alt text](unemployment.png \"Title\")"
   ]
  },
  {
   "cell_type": "markdown",
   "metadata": {},
   "source": [
    "## Summary and References"
   ]
  },
  {
   "cell_type": "markdown",
   "metadata": {},
   "source": [
    "The above tutorial is just a basic introductory guide for interactive visualizations using Bokeh in Python. The possibilities of displaying advanced, creative applications are endless. You can find more details about different feature capabilities in Bokeh and questions on visualizations are available from the following links:\n",
    "\n",
    "1. Bokeh: https://bokeh.pydata.org/en/latest/\n",
    "2. Matplotlib: https://matplotlib.org/\n",
    "3. Pygal: http://www.pygal.org/en/latest/index.html\n",
    "4. Seaborn: http://seaborn.pydata.org/index.html\n",
    "5. Plotly: https://plot.ly/python/"
   ]
  }
 ],
 "metadata": {
  "kernelspec": {
   "display_name": "Python 3",
   "language": "python",
   "name": "python3"
  },
  "language_info": {
   "codemirror_mode": {
    "name": "ipython",
    "version": 3
   },
   "file_extension": ".py",
   "mimetype": "text/x-python",
   "name": "python",
   "nbconvert_exporter": "python",
   "pygments_lexer": "ipython3",
   "version": "3.6.1"
  }
 },
 "nbformat": 4,
 "nbformat_minor": 2
}
