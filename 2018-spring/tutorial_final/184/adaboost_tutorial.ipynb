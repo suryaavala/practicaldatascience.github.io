{
 "cells": [
  {
   "cell_type": "markdown",
   "metadata": {},
   "source": [
    "# AdaBoost Technique.\n",
    "\n",
    "Before we start learning about how Adaboost works, here is an overview of what it is.\n",
    "\n",
    "Adaboost stands for <b>Adaptive Boosting</b>. It is an ensemble technique which helps combine multiple weak classifiers and use an optimally weighed majority sum for to combine and build a stronger classifier. So it is not a new classification technique on its own, rather it builds on top of other techniques. \n",
    "\n",
    "<b>Note:</b> A weak classifier should still perform better than a random guess.\n",
    "\n",
    "Adaboost performs two steps:\n",
    "\n",
    "1. It iteratively helps you select the training set for each new classifier you build, based on the accuracy of the previous classifier. Misclassified item are assigned higher weight to ensure that wrongly predicted samples are highly represented in training subset of the next weak classifier with a higher probability.\n",
    "\n",
    "2. It determines the weight that must be assigned to the output of each classifier for the majority sum. The weight of the classifier is dependent on its accuracy. Assuing binary classification, a classifier with 50% accuracy (random guess) is not assigned any weight. Higher the accuracy, higher the assigned weight."
   ]
  },
  {
   "cell_type": "markdown",
   "metadata": {},
   "source": [
    "### General intuition of how AdaBoost works:\n",
    "    \n",
    "1. As stated earlier, the basic principle behind AdaBoost is to use a sequence of weak learners, and tweaking the data at every iteration based on the output of the classifier at that step. \n",
    "\n",
    "2. If we have N training samples, then the data modification at each iteration assigns weights w_1, w_2, ..., w_N to each of these samples. For example, in the first step, since we are only working with the original data, we assign equal weight to every sample i.e. w_i = 1/N.\n",
    "\n",
    "3. For every i-th iteration, the weights for each sample are modified and the learning algorithm is applied to the newly reweighted data in the next iteration. \n",
    "\n",
    "4. At the i-th iteration, the samples that were incorrectly predicted (remember: weak classifier), are assigned a higher weight, and the correctly predicted samples are assigned a lower weight. Intuitively, this allows the next iteration to focus more on the incorrectly predicted samples. We repeat the process until we have lowered the error rate to a desired value. Here, the error rate is based on the final \"boosted\" classifer based on the sequence of weak classifiers processed so far.\n",
    "\n",
    "5. In the end, the predictions from all the classifiers are combined using a weighted majority sum (typically) to get a \"boosted\" output. While, we have discussed weighted majority sum as a way to combine the output, you may also leverage other techniques such as weighted majority vote. "
   ]
  },
  {
   "cell_type": "markdown",
   "metadata": {},
   "source": [
    "### AdaBoost code w/ example\n",
    "\n",
    "We will now implement AdaBoost and walkthrough an example of binary classification. "
   ]
  },
  {
   "cell_type": "code",
   "execution_count": 11,
   "metadata": {},
   "outputs": [],
   "source": [
    "import numpy as np\n",
    "from matplotlib import pyplot as plt\n",
    "from sklearn.ensemble import AdaBoostClassifier\n",
    "from sklearn.datasets import load_breast_cancer\n",
    "from sklearn.metrics import accuracy_score\n",
    "from sklearn.cross_validation import train_test_split"
   ]
  },
  {
   "cell_type": "markdown",
   "metadata": {},
   "source": [
    "The sklearn module is a really powerful machine learning library for Python. It also provides us with a bunch of datasets that we can use to test our code. We will use the breast cancer dataset today. We won't describe the whole dataset here, but in summary it contains features such as radius of the cell nucleus, perimeter, area etc. You can read more about the dataset here: http://scikit-learn.org/stable/modules/generated/sklearn.datasets.load_breast_cancer.html"
   ]
  },
  {
   "cell_type": "code",
   "execution_count": 12,
   "metadata": {},
   "outputs": [
    {
     "name": "stdout",
     "output_type": "stream",
     "text": [
      "(569, 30)\n",
      "['malignant' 'benign']\n",
      "['mean radius' 'mean texture' 'mean perimeter' 'mean area'\n",
      " 'mean smoothness' 'mean compactness' 'mean concavity'\n",
      " 'mean concave points' 'mean symmetry' 'mean fractal dimension'\n",
      " 'radius error' 'texture error' 'perimeter error' 'area error'\n",
      " 'smoothness error' 'compactness error' 'concavity error'\n",
      " 'concave points error' 'symmetry error' 'fractal dimension error'\n",
      " 'worst radius' 'worst texture' 'worst perimeter' 'worst area'\n",
      " 'worst smoothness' 'worst compactness' 'worst concavity'\n",
      " 'worst concave points' 'worst symmetry' 'worst fractal dimension']\n"
     ]
    }
   ],
   "source": [
    "dataset = load_breast_cancer()  #loading one of the pre-available sklean datasets\n",
    "data = dataset.data\n",
    "labels = dataset.target\n",
    "print(data.shape) # This will output (569, 30). Our data is a matrix of N x dim, where N is the number of samples and dim is the number of features\n",
    "print(dataset.target_names) # you can check how your data looks like this. These are the two classes\n",
    "print(dataset.feature_names) #the 30 features for the dataset in order"
   ]
  },
  {
   "cell_type": "markdown",
   "metadata": {},
   "source": [
    "We will initialize some key variables we need. We specify the number of iterations we want the adaboost to perform. We \n",
    "also specify the number of dimensions in our data. If you carefully examine the dataset we loaded above, we have 30 features, therefore our dimensionality is 30. "
   ]
  },
  {
   "cell_type": "code",
   "execution_count": 13,
   "metadata": {},
   "outputs": [],
   "source": [
    "N = data.shape[0]\n",
    "dim = data.shape[1]\n",
    "no_of_iterations = 50 \n",
    "\n",
    "labels = labels * 1.0 #converting to float\n",
    "\n",
    "if len(labels) < N:\n",
    "    print(\"error! you are missing labels\")\n",
    "elif len(labels) > N:\n",
    "    print(\"error! you have extra labels!\")\n",
    "\n",
    "\n",
    "zero_vals = np.where(labels == 0)\n",
    "\n",
    "for i in zero_vals:\n",
    "    labels[i] = -1  #reassigning all 0s to -1\n",
    "    "
   ]
  },
  {
   "cell_type": "markdown",
   "metadata": {},
   "source": [
    "For purposes of this implementation, the error rate is simply a weighted sum of the errors. If a sample is correctly classified, we assign a weight of 0, 1 otherwise. We now define a function that calculates the error rate for a weak classifier. "
   ]
  },
  {
   "cell_type": "code",
   "execution_count": 14,
   "metadata": {},
   "outputs": [],
   "source": [
    "def generic_clf_error(data, labels, weights, dim, thresh, sign):\n",
    "\n",
    "    out = np.zeros(N, dtype=np.int64) #we will store the output here\n",
    "    \n",
    "    if(sign == 1):\n",
    "        temp = np.int64((data[:, dim] >= thresh))\n",
    "    else:\n",
    "        temp = np.int64((data[:, dim] < thresh))\n",
    "\n",
    "    zero_vals = np.where(temp == 0)\n",
    "    \n",
    "    for i in zero_vals:\n",
    "        temp[i] = -1\n",
    "\n",
    "    out = np.int64(temp != labels)\n",
    "    error = np.sum(out * weights)\n",
    "\n",
    "    return error, out"
   ]
  },
  {
   "cell_type": "markdown",
   "metadata": {},
   "source": [
    "Now, we introduce some more variables and explain what they are. \n",
    "\n",
    "h (hypothesis) is a Tx3 array that 'hypothesizes' the weak classifier for any given iteration. A classifier can be represented using the threshold , data dimensionality, and its sign [-1,1]. For each iteration, these 3 values are stored in h. \n",
    "\n",
    "Next we have alpha. alpha is simply a Tx1 array that stored the weight assigned to each classifier at each iteration. We use all the weights stored in alpha to determine the weighted sum of the classifiers in the final output. \n",
    "\n",
    "While we are not going into the too much mathematical details of how alpha is calculated, the equation to calculate alphs is: \n",
    "\n",
    "<b>alpha_t = log( (1/err_t) - 1)</b> (Remember this equation, we will revisit it later).\n",
    "\n",
    "At every iteration, we calculate the weight of the classifier first i.e. alpha_t, then we use it to reassign weights to each training sample. \n",
    "\n",
    "<b>weight_i = weight_i x e^(alpha_t x y_pred) </b>\n",
    "\n",
    "We then normalize each weights before going to the next iteration.\n",
    "\n",
    "In summary, this image [1] shows all the steps of the algorithm. \n",
    "\n",
    "\n",
    "<img src=\"https://github.com/jaimeps/adaboost-implementation/raw/master/images/adaboost_algo.png\" width=\"50%\"/>"
   ]
  },
  {
   "cell_type": "code",
   "execution_count": 15,
   "metadata": {},
   "outputs": [],
   "source": [
    "h = np.zeros([no_of_iterations, 3], dtype=np.float64)\n",
    "alpha = np.zeros(no_of_iterations, dtype=np.float64)\n",
    "weight = np.ones(N, dtype=np.float64) / (N)  # Initialise weights\n",
    "errors = np.ones(no_of_iterations, dtype=np.float64) * np.inf\n",
    "\n",
    "threshold = np.arange(-5.0, 5.0, 0.5)\n",
    "\n",
    "for iteration in range(no_of_iterations):\n",
    "    for thresh in threshold:\n",
    "        for dimension in range(dim):\n",
    "            for sign in [-1, 1]:\n",
    "                clf_error, temp_out = generic_clf_error(data, labels, weight, dimension, thresh, sign)\n",
    "                if(clf_error < errors[iteration]):  #the best classifier in this iteration gets stored in hypothesis (h)\n",
    "                    out = temp_out\n",
    "                    errors[iteration] = clf_error\n",
    "                    h[iteration] = [thresh,dimension,sign]\n",
    "\n",
    "    alpha[iteration] = 0.5 * np.log((1.0 - errors[iteration]) / errors[iteration])\n",
    "\n",
    "    zero_vals = np.where(out == 0)\n",
    "    for i in zero_vals:\n",
    "        out[i] = -1 # replacing all 0s with -1, as we did in the beginning\n",
    "\n",
    "    weight = np.float64(weight * np.exp(alpha[iteration] * out))\n",
    "    weight = weight / np.sum(weight)"
   ]
  },
  {
   "cell_type": "markdown",
   "metadata": {},
   "source": [
    "We have finished all the iterations. We will now combine all the weights determined by AdaBoost. Based on that we will determine the training accuracy after each individual iteration and plot it in a graph. This is a good indicator for how many sequences/classifiers do you actually need. \n",
    "\n",
    "Now, one thing to note in this code is that we are not currently ensuring that error rate remains less than 1/2 i.e. we want to ensure that our classifier is always better than random guessing. \n",
    "\n",
    "#### to-do exercise-1: insert a clause in the code above to ensure that the error rate for our chosen classifier at any iteration is less than 1/2. The solution is also available at the end of the tutorial. "
   ]
  },
  {
   "cell_type": "code",
   "execution_count": 17,
   "metadata": {},
   "outputs": [
    {
     "name": "stdout",
     "output_type": "stream",
     "text": [
      "Accuracy results: \n",
      "No of iterations:  50\n",
      "Final accuracy after all iterations:  0.8629173989455184\n",
      "Best accuracy is 0.8629173989455184 at the 27 iteration.\n"
     ]
    },
    {
     "data": {
      "text/plain": [
       "Text(0,0.5,'Accuracy')"
      ]
     },
     "execution_count": 17,
     "metadata": {},
     "output_type": "execute_result"
    },
    {
     "data": {
      "image/png": "[encoded data removed]",
      "text/plain": [
       "<matplotlib.figure.Figure at 0x10b8e5e10>"
      ]
     },
     "metadata": {},
     "output_type": "display_data"
    }
   ],
   "source": [
    "result = np.zeros(N, dtype=np.float64)\n",
    "weighted_sum = np.zeros(N, dtype=np.float64)\n",
    "temp = np.zeros(N, dtype=np.float64)\n",
    "\n",
    "accuracy = np.zeros(no_of_iterations) #accuracy after adding each classifier i.e. at each iteration\n",
    "\n",
    "#combining the weak classifiers to get a final label output for the final result\n",
    "\n",
    "best_accuracy = 0\n",
    "best_iter = 0\n",
    "\n",
    "for iteration in range(no_of_iterations):  \n",
    "    \n",
    "    temp = h[iteration][2] * np.sign(data[:, int(h[iteration][1])] - h[iteration][0])\n",
    "    weighted_sum = np.float64(weighted_sum + alpha[iteration] * temp)\n",
    "    result = np.sign(weighted_sum)\n",
    "    \n",
    "    accuracy[iteration] = np.sum(np.float64(result == labels)) / N #correct predictions / total predictions\n",
    "    \n",
    "    if accuracy[iteration] > best_accuracy: \n",
    "        best_accuracy = accuracy[iteration]\n",
    "        best_iter = iteration\n",
    "\n",
    "print(\"Accuracy results: \")\n",
    "print(\"No of iterations: \", no_of_iterations)\n",
    "print(\"Final accuracy after all iterations: \", accuracy[no_of_iterations-1])\n",
    "print(\"Best accuracy is \"+str(best_accuracy)+\" at the \"+str(best_iter)+\" iteration.\")\n",
    "\n",
    "# Plot the accuracy\n",
    "plt.figure()\n",
    "plt.plot(accuracy)\n",
    "plt.ylabel('Accuracy')"
   ]
  },
  {
   "cell_type": "markdown",
   "metadata": {},
   "source": [
    "### AdaBoost in Practice\n",
    "\n",
    "While the code sample helps us understand how Adaboost works and provides valuable insight, in practice you would simply use the sklearn module to classify your dataset. A small example of using AdaBoost is shown below."
   ]
  },
  {
   "cell_type": "code",
   "execution_count": 26,
   "metadata": {},
   "outputs": [
    {
     "name": "stdout",
     "output_type": "stream",
     "text": [
      "Accuracy results: \n",
      "No of iterations:  50\n",
      "Final accuracy after all iterations:  0.9707602339181286\n",
      "Best accuracy is 0.9766081871345029 at the 25 iteration.\n"
     ]
    },
    {
     "data": {
      "text/plain": [
       "Text(0,0.5,'Accuracy')"
      ]
     },
     "execution_count": 26,
     "metadata": {},
     "output_type": "execute_result"
    },
    {
     "data": {
      "image/png": "[encoded data removed]",
      "text/plain": [
       "<matplotlib.figure.Figure at 0x10bcd9160>"
      ]
     },
     "metadata": {},
     "output_type": "display_data"
    }
   ],
   "source": [
    "#Load the data from scikit\n",
    "dataset = load_breast_cancer()\n",
    "data = dataset.data\n",
    "labels = dataset.target\n",
    "\n",
    "#split the data into test and train subsets\n",
    "\n",
    "no_of_iterations = 50\n",
    "\n",
    "x_train, x_test, y_train, y_test = train_test_split(data, labels, test_size=0.3, random_state=23) # we fix the random state to ensure the same split everytime\n",
    "\n",
    "accuracies = []\n",
    "\n",
    "for iteration in range(1, no_of_iterations+1):\n",
    "\n",
    "    clf = AdaBoostClassifier(random_state=42, n_estimators=iteration)\n",
    "\n",
    "    # Fit the classifier on the data\n",
    "    clf.fit(x_train, y_train)\n",
    "\n",
    "    # make predictions for test subset\n",
    "    y_pred = clf.predict(x_test)\n",
    "\n",
    "    # calculate the accuracy of the classifier\n",
    "    accuracy = (accuracy_score(y_pred, y_test))\n",
    "    accuracies.append(accuracy)\n",
    "    \n",
    "best_accuracy = max(accuracies)\n",
    "best_iter = accuracies.index(best_accuracy)\n",
    "\n",
    "print(\"Accuracy results: \")\n",
    "print(\"No of iterations: \", no_of_iterations)\n",
    "print(\"Final accuracy after all iterations: \", accuracies[-1])\n",
    "print(\"Best accuracy is \"+str(best_accuracy)+\" at the \"+str(best_iter)+\" iteration.\")\n",
    "\n",
    "\n",
    "plt.figure()\n",
    "plt.plot(accuracies)\n",
    "plt.ylabel('Accuracy')"
   ]
  },
  {
   "cell_type": "markdown",
   "metadata": {},
   "source": [
    "### Multi Class AdaBoost\n",
    "\n",
    "The natural extension to Adaboost capable of \"boosting\" a binary classification is multi-class Adaboost. While multi-class version of Adaboost has been proposed several times, the most commonly used technique was introduced in 2009 by Zhu et al [7]. This technique is called SAMME - Stagewise Additive Modeling using a Multi-class Exponential loss function. \n",
    "\n",
    "It is very similar to how Adaboost works, except that we change how alpha is updated. \n",
    "\n",
    "In Adaboost, we learnt that: <b>alpha_t = log( (1/err_t) - 1)</b>\n",
    "For multi-class Adaboost: <b>alpha_t = log( (1/err_t) - 1) + log(no_of_classes -1)</b> \n",
    "\n",
    "Using our updated value of alpha, if no_of_classes = 2, log(no_of_classes - 1) becomes log(1) which is 0, thus giving us our original equation back.\n",
    "\n",
    "to-do-exercise-2: How will we update the error condition to ensure that our chosen error rate at any given iteration is lower than random guessing?\n",
    "\n",
    "In fact, the sklearn Adaboost classifier is capable of handling multiple classes. We will look at an example of how to use sklearn adaboost for multiple classes. We will use one of the sklearn's pre-available datasets. At the beginning of the tutorial we discussed that Adaboost is also useful to build on top of other techniques. We will also try to see a comparison between using the default Adaboost versus an Adaboosted decision tree classifier in this example. "
   ]
  },
  {
   "cell_type": "code",
   "execution_count": 266,
   "metadata": {},
   "outputs": [
    {
     "name": "stdout",
     "output_type": "stream",
     "text": [
      "accuracy by only adaboost:  0.9259259259259259\n",
      "accuracy by adaboosted decision trees:  0.9444444444444444\n"
     ]
    }
   ],
   "source": [
    "from sklearn.datasets import load_wine\n",
    "from sklearn.tree import DecisionTreeClassifier\n",
    "\n",
    "dataset = load_wine() \n",
    "data = dataset.data\n",
    "labels = dataset.target #This dataset contains 3 classes.\n",
    "\n",
    "#split the data into test and train subsets\n",
    "x_train, x_test, y_train, y_test = train_test_split(data, labels, test_size=0.3, random_state=42) # we fix the random state to ensure the same result every time\n",
    "\n",
    "clf_ada = AdaBoostClassifier(random_state=42)\n",
    "\n",
    "clf_ada_dtc = AdaBoostClassifier(\n",
    "    DecisionTreeClassifier(max_depth=2),\n",
    "    random_state=42)\n",
    "\n",
    "# Fit the classifier on the data\n",
    "clf_ada.fit(x_train, y_train)\n",
    "clf_ada_dtc.fit(x_train, y_train)\n",
    "\n",
    "# make predictions for test subset\n",
    "y_pred_ada = clf_ada.predict(x_test)\n",
    "y_pred_ada_dtc = clf_ada_dtc.predict(x_test)\n",
    "\n",
    "# calculate the accuracy of the classifier\n",
    "print(\"accuracy by only adaboost: \", accuracy_score(y_pred_ada, y_test))\n",
    "print(\"accuracy by adaboosted decision trees: \", accuracy_score(y_pred_ada_dtc, y_test))"
   ]
  },
  {
   "cell_type": "markdown",
   "metadata": {},
   "source": [
    "While in our example the adaboosted decision trees perform better than using the generic adaboost weak classifiers, it may not always be the case. While an ensemble technique like adaboost is a great way to \"boost\" your accuracy, it may not always work. You should always determine if this is the right approach for your problem. We have listed some of the pros/cons of this approach here. \n",
    "\n",
    "#### Pros\n",
    "1. It aids in feature selection that can result in both accuracy and time boost when working with large datasets. \n",
    "2. It isn't prone to overfitting. \n",
    "3. It can be used in conjunction with many different classifiers, an example of which is shown above in this tutorial. \n",
    "\n",
    "#### Cons\n",
    "1. It may converge at a suboptimal solution. \n",
    "2. It is very sensitive to noise and outliers. If your data contains some outliers, Adaboost may not be right approach for you. \n"
   ]
  },
  {
   "cell_type": "markdown",
   "metadata": {},
   "source": [
    "### Solutions to to-do exercises:\n",
    "#### To-do exercise 1:"
   ]
  },
  {
   "cell_type": "code",
   "execution_count": 230,
   "metadata": {},
   "outputs": [],
   "source": [
    "### ONLY SOLUTION SNIPPET - NOT RUNNABLE CODE\n",
    "for iteration in range(no_of_iterations):\n",
    "    for thresh in threshold:\n",
    "        for dimension in range(dim):\n",
    "            for sign in [-1, 1]:\n",
    "                clf_error, temp_out = generic_clf_error(data, labels, weight, dimension, thresh, sign)\n",
    "                if(clf_error < errors[iteration]):  #the best classifier in this iteration gets stored in hypothesis (h)\n",
    "                    out = temp_out\n",
    "                    errors[iteration] = clf_error\n",
    "                    h[iteration] = [thresh,dimension,sign]\n",
    "   \n",
    "    # At the end of every iteration, we are ensuring that the best (miminal) error we could find was less than 1/2\n",
    "    if(errors[iteration] > 0.5):\n",
    "        print(\"We don't have a sufficiently good enough pool of classifiers to choose from!\")\n",
    "        print(\"error occured at iteration: \", iteration)\n",
    "        break"
   ]
  },
  {
   "cell_type": "markdown",
   "metadata": {},
   "source": [
    "#### To-do exercise 2:\n",
    "\n",
    "Our error condition will change to: error < ( 1 - (1/no_of_classes) )"
   ]
  },
  {
   "cell_type": "markdown",
   "metadata": {},
   "source": [
    "## Additional Resources:\n",
    "\n",
    "1. Full mathematical explanation behind AdaBoost: http://rob.schapire.net/papers/explaining-adaboost.pdf\n",
    "2. Slides with animation and mathametical proof of how AdaBoost works: https://www.csie.ntu.edu.tw/~mhyang/course/u0030/papers/schapire.pdf\n",
    "3. General overview similar to this tutorial: https://machinelearningmastery.com/boosting-and-adaboost-for-machine-learning/\n",
    "\n",
    "You may also refer to any of the reference sources that I refered to while making this tutorial."
   ]
  },
  {
   "cell_type": "markdown",
   "metadata": {},
   "source": [
    "#### References:\n",
    "\n",
    "1. https://github.com/jaimeps/adaboost-implementation\n",
    "2. http://www.ritchieng.com/machine-learning-ensemble-of-learners-adaboost/ \n",
    "3. https://github.com/riddhishb/ipython-notebooks/tree/master/Adaboost\n",
    "4. http://scikit-learn.org/stable/modules/ensemble.html#adaboost\n",
    "5. https://medium.com/machine-learning-101/https-medium-com-savanpatel-chapter-6-adaboost-classifier-b945f330af06\n",
    "6. http://mccormickml.com/2013/12/13/adaboost-tutorial/\n",
    "7. Hastie, Trevor, et al. \"Multi-class adaboost.\" Statistics and its Interface 2.3 (2009): 349-360."
   ]
  }
 ],
 "metadata": {
  "kernelspec": {
   "display_name": "Python 3",
   "language": "python",
   "name": "python3"
  },
  "language_info": {
   "codemirror_mode": {
    "name": "ipython",
    "version": 3
   },
   "file_extension": ".py",
   "mimetype": "text/x-python",
   "name": "python",
   "nbconvert_exporter": "python",
   "pygments_lexer": "ipython3",
   "version": "3.6.3"
  }
 },
 "nbformat": 4,
 "nbformat_minor": 2
}
