{
 "cells": [
  {
   "cell_type": "markdown",
   "metadata": {},
   "source": [
    "# Data Visualization using Funnels\n",
    "\n",
    "\n",
    "## Content\n",
    "\n",
    "- [Motivation](#Motivation)\n",
    "- [Goal](#Goal)\n",
    "- [Terms and Definitions](#Terms-and-Definitions)\n",
    "- [Informal Introduction](#Informal-Introduction)\n",
    "- [Formal Introduction](#Formal-Introduction)\n",
    "- [Funnel Analysis using Bar Graph](#Funnel-Analysis-using-Bar-Graph)\n",
    "- [Introduction to Plotly](#Introduction-to-Plotly)\n",
    "- [Installing the library](#Installing-the-library)\n",
    "- [Code walkthrough](#Code-walkthrough)\n",
    "- [Colorful examples](#Colorful-examples)\n",
    "- [Data preparation](#Data-preparation)\n",
    "- [Goal](#Goal)\n",
    "- [Understanding the data](#Understanding-the-data)\n",
    "- [SQL to the rescue](#SQL-to-the-rescue)\n",
    "- [SQL + Plotly + Bar Graph + Python](#SQL-+-Plotly-+-Bar-Graph-+-Python)\n",
    "- [Further resources](#Further-resources)\n",
    "- [References and Citations](#References-and-Citations)"
   ]
  },
  {
   "cell_type": "markdown",
   "metadata": {},
   "source": [
    "![image3.png](image3.png)\n",
    "![image2.png](image2.png)"
   ]
  },
  {
   "cell_type": "markdown",
   "metadata": {},
   "source": [
    "## Motivation\n",
    "\n",
    "Data Interpretation is the most important skills of data science. It is the lynchpin to the entire data science/machine learning pipeline.\n",
    "Despite this many times we often neglect it and jump straight to implementing the \"cool ml algorithms\". This tutorial aims to rectify that. Funnel Analysis is a powerful data tool that can help us visually understand our product."
   ]
  },
  {
   "cell_type": "markdown",
   "metadata": {
    "collapsed": true
   },
   "source": [
    "## Goal\n",
    "\n",
    "By the end of the tutorial, you should be able to:\n",
    "- Understand what funnel analysis is\n",
    "- Perform basic analysis using Bar Graphs\n",
    "- Learn Plotly library to make beautiful and insightful funnels\n",
    "- Prepare data for funnel analysis using SQL\n",
    "\n"
   ]
  },
  {
   "cell_type": "markdown",
   "metadata": {},
   "source": [
    "## Terms and Definitions\n",
    "\n",
    "- __Funnel__: A funnel is a pipe with a wide (often conical) mouth and a narrow stem. It is used to channel liquid or fine-grained substances into containers with a small opening. \n",
    "- __Phases/Segment__: A funnel is divided into phases and segments. Just like an actual funnel defined above, it becomes narrower as we go down. For example for an ecommerce website, the phases may be ['Visit', 'Sign-up', 'Selection', 'Purchase', 'Review']. In each phase the number of people performing it typically reduces. \n",
    "- __Funnel Analysis__: It is a powerful way to calculate conversion rates on specific user behaviors.\n",
    "- __Converstion__: A user is said to be converted if he/she takes part in all phases of a funnel. For our example, a user is said to be converted if he/she partakes in all of the ['Visit', 'Sign-up', 'Selection', 'Purchase', 'Review'].\n",
    "- __Conversion rate__: Percentage of conversion."
   ]
  },
  {
   "cell_type": "markdown",
   "metadata": {},
   "source": [
    "## Informal Introduction\n",
    "\n",
    "Suppose in the process of buying something from an ecommerce wesite one must typically go through the following phases ['Visit', 'Sign-up', 'Selection', 'Purchase', 'Review']. Funnel Analysis helps us answer questions like:\n",
    "- How many visitors actually bought something ?\n",
    "- How many visitors signed up ?\n",
    "- How many people who bought also wrote a review.\n",
    "- Determining the retention of users in your app\n",
    "- Advanced user targeting (who are the users who buy for more than $100 and live in Pittsburgh)\n",
    "\n"
   ]
  },
  {
   "cell_type": "markdown",
   "metadata": {},
   "source": [
    "## Formal Introduction\n",
    "\n",
    "When an organization has a large number of moving parts which leads to an end result, analysing the effects of the individual moving parts on the end result becomes complicated. The end result may be a single goal like total sales or it can be a set of sequence of events.\n",
    "Analysing these series of steps that eventually lead to a predefined goal is called funnel analysis. To give a more concrete example suppose there is a big ecommerce firm. The end goal for any organization would be maximizing the profits which is directly related to the amount of \"purchases\" made on the website. The typical states/phases in purchasing something would be roughly 1. Visiting 2. Signing up 3. Searching/Selecting 4. Purchasing. These phases can be thought of as segments of a funnel. As one goes down a funnel, it typically becomes narrower. This is the origin of the word funnel. Funnel analysis is one of the most powerful ways to analyse how many people are satisfying the end goal of an organization (purchasing something in this case).\n",
    "The origin of the term funnel analysis comes from the nature of a funnel where individuals will enter the funnel, yet only a small number of them will perform the intended goals - Wikipedia.\n",
    "\n",
    "![image1.png](image1.png)\n",
    "\n",
    "\n",
    "It is not necessary for the funnel to have the shape shown on the right. That shape merely justifies the name and the actual anaysis is independent of the shape.\n",
    "Now suppose that you are hired by a large company to try and improve their online market place. A very vague requirement right ?. From my limited experience that is how most of the requirements in the industry are anyways.\n",
    "What can you do ?. Lets take a small example. "
   ]
  },
  {
   "cell_type": "markdown",
   "metadata": {},
   "source": [
    "## Funnel Analysis using Bar Graph\n",
    "\n",
    "Lets not worry about how the data is being stored for now and rather focus on the process of performing the analysis itself.\n"
   ]
  },
  {
   "cell_type": "code",
   "execution_count": 1,
   "metadata": {
    "collapsed": true
   },
   "outputs": [],
   "source": [
    "import matplotlib.pyplot as plt\n",
    "%matplotlib inline\n",
    "BAR_WIDTH = 0.5\n",
    "\n",
    "def funnel(phases, values):\n",
    "    \"\"\" Plots funnel as a bar graph\n",
    "    \n",
    "    Args:\n",
    "        phases (list): List of phases\n",
    "        values (list): values for each phase\n",
    "                        Must have the same size as phases\n",
    "    \"\"\"\n",
    "\n",
    "    percentages = []\n",
    "    percentages.append(phases[0])\n",
    "    for i in range(1, len(phases)):\n",
    "        if values[i-1] == 0:\n",
    "            temp = 0\n",
    "            percentages.append('{}\\n({:.2%})'.format(phases[i], temp))\n",
    "            continue\n",
    "        temp = (values[i]/values[i-1])\n",
    "        percentages.append('{}\\n({:.2%})'.format(phases[i], temp))\n",
    "        \n",
    "    fig = plt.figure()\n",
    "    plt.bar(range(len(values)), values, BAR_WIDTH, color='black')\n",
    "    plt.title('Funnel')\n",
    "    plt.xlabel('Phases')\n",
    "    plt.ylabel('Number of Users')\n",
    "    plt.xticks([i for i in range(len(phases))], percentages)\n"
   ]
  },
  {
   "cell_type": "code",
   "execution_count": 2,
   "metadata": {
    "scrolled": true
   },
   "outputs": [
    {
     "data": {
      "image/png": "[encoded data removed]",
      "text/plain": [
       "<matplotlib.figure.Figure at 0x10855afd0>"
      ]
     },
     "metadata": {},
     "output_type": "display_data"
    }
   ],
   "source": [
    "phases = ['Visit', 'Sign-up', 'Selection', 'Purchase', 'Review']\n",
    "values = [13873, 10553, 4443, 2703, 708]\n",
    "\n",
    "\n",
    "funnel(phases, values)"
   ]
  },
  {
   "cell_type": "markdown",
   "metadata": {},
   "source": [
    "As can be seen above from the rendering, it may not be necessary for the visualization to be in the shape of the funnel.\n",
    "From the bar chart, it can be seen that only about 42% of the people who sign up actually surf through the website and select products. This could mean that there is a problem that needs to be solved from \"sign up\" phase to \"selection\" phase.\n",
    "Similarly, only about 26% of the people who purchase are actually writing reviews about the products they are buying. This means that some steps may need to be taken to pursuade people to leave feedback for example sending they email remainders etc. This is important for an e-commerce website since higher customer engagement means a more robust community."
   ]
  },
  {
   "cell_type": "markdown",
   "metadata": {
    "collapsed": true
   },
   "source": [
    "## Introduction to Plotly\n",
    "\n",
    "Let us look at a cool way to visualize such relations. We will briefly look at python library called plotly.Plotly is an open source tool for composing, editing, and sharing interactive data visualization via the Web. It has a wide range of features that can be used to render data visually. It looks much better than the typical matplotlib diagrams. Lets walk through an example to create a funnel."
   ]
  },
  {
   "cell_type": "markdown",
   "metadata": {},
   "source": [
    "## Installing the library\n",
    "\n",
    "Below are the long series of steps to install.<br><br>\n",
    "pip install plotly.<br><br>\n",
    "Thats it !!!.\n",
    "\n"
   ]
  },
  {
   "cell_type": "markdown",
   "metadata": {},
   "source": [
    "## Code walkthrough"
   ]
  },
  {
   "cell_type": "code",
   "execution_count": 7,
   "metadata": {},
   "outputs": [
    {
     "data": {
      "text/plain": [
       "'2.5.0'"
      ]
     },
     "execution_count": 7,
     "metadata": {},
     "output_type": "execute_result"
    }
   ],
   "source": [
    "import plotly\n",
    "plotly.__version__"
   ]
  },
  {
   "cell_type": "code",
   "execution_count": 8,
   "metadata": {},
   "outputs": [
    {
     "data": {
      "text/html": [
       "<script>requirejs.config({paths: { 'plotly': ['https://cdn.plot.ly/plotly-latest.min']},});if(!window.Plotly) {{require(['plotly'],function(plotly) {window.Plotly=plotly;});}}</script>"
      ],
      "text/vnd.plotly.v1+html": [
       "<script>requirejs.config({paths: { 'plotly': ['https://cdn.plot.ly/plotly-latest.min']},});if(!window.Plotly) {{require(['plotly'],function(plotly) {window.Plotly=plotly;});}}</script>"
      ]
     },
     "metadata": {},
     "output_type": "display_data"
    }
   ],
   "source": [
    "from plotly import __version__\n",
    "from plotly.offline import download_plotlyjs, init_notebook_mode, plot, iplot\n",
    "init_notebook_mode(connected=True)\n"
   ]
  },
  {
   "cell_type": "code",
   "execution_count": 9,
   "metadata": {
    "collapsed": true
   },
   "outputs": [],
   "source": [
    "import plotly.plotly as py\n",
    "from plotly import graph_objs as go\n",
    "    \n",
    "\n",
    "def plotly_plot(colors, phases, values, paper_bgcolor='rgba(240,240,240,1)', plot_bgcolor='rgba(240,240,240,1'):\n",
    "\n",
    "    \"\"\" Plots funnel using plotly\n",
    "    \n",
    "    Args:\n",
    "        colors: rgb specification of the colors of the funnel segments\n",
    "        phases (list): List of phases\n",
    "        values (list): values for each phase\n",
    "                        Must have the same size as phases\n",
    "        paper_bgcolor: background color of the entire canvas\n",
    "        plot_bgcolor: background color of the plot\n",
    "    \"\"\"\n",
    "\n",
    "\n",
    "    print(paper_bgcolor)\n",
    "    number_phase = len(phases)\n",
    "    plot_width = 400\n",
    "\n",
    "    section_h = 100\n",
    "    section_d = 5\n",
    "\n",
    "    unit_width = plot_width / max(values)\n",
    "\n",
    "    phase_w = [int(value * unit_width) for value in values]\n",
    "\n",
    "    height = section_h * number_phase + section_d * (number_phase - 1)\n",
    "\n",
    "    shapes = []\n",
    "\n",
    "    label_y = []\n",
    "\n",
    "    for i in range(number_phase):\n",
    "            if (i == number_phase-1):\n",
    "                    points = [phase_w[i] / 2, height, phase_w[i] / 2, height - section_h]\n",
    "            else:\n",
    "                    points = [phase_w[i] / 2, height, phase_w[i+1] / 2, height - section_h]\n",
    "\n",
    "            path = 'M {0} {1} L {2} {3} L -{2} {3} L -{0} {1} Z'.format(*points)\n",
    "\n",
    "            shape = {\n",
    "                    'type': 'path',\n",
    "                    'path': path,\n",
    "                    'fillcolor': colors[i],\n",
    "                    'line': {\n",
    "                        'width': 1,\n",
    "                        'color': colors[i]\n",
    "                    }\n",
    "            }\n",
    "            shapes.append(shape)\n",
    "        \n",
    "            label_y.append(height - (section_h / 2))\n",
    "\n",
    "            height = height - (section_h + section_d)\n",
    "\n",
    "    label_trace = go.Scatter(\n",
    "        x=[-350]*number_phase,\n",
    "        y=label_y,\n",
    "        mode='text',\n",
    "        text=phases,\n",
    "        textfont=dict(\n",
    "            color='rgb(230, 190, 255)',\n",
    "            size=15\n",
    "        )\n",
    "    )\n",
    " \n",
    "    value_trace = go.Scatter(\n",
    "        x=[350]*number_phase,\n",
    "        y=label_y,\n",
    "        mode='text',\n",
    "        text=values,\n",
    "        textfont=dict(\n",
    "            color='rgb(230, 190, 255)',\n",
    "            size=15\n",
    "        )\n",
    "    )\n",
    "\n",
    "    data = [label_trace, value_trace]\n",
    " \n",
    "    layout = go.Layout(\n",
    "        title=\"<b>Funnel Chart</b>\",\n",
    "        titlefont=dict(\n",
    "            size=20,\n",
    "            color='rgb(230, 190, 255)'\n",
    "        ),\n",
    "        shapes=shapes,\n",
    "        height=560,\n",
    "        width=800,\n",
    "        showlegend=False,\n",
    "        paper_bgcolor=paper_bgcolor,\n",
    "        plot_bgcolor=plot_bgcolor,\n",
    "        xaxis=dict(\n",
    "            showticklabels=False,\n",
    "            zeroline=False,\n",
    "        ),\n",
    "        yaxis=dict(\n",
    "            showticklabels=False,\n",
    "            zeroline=False\n",
    "        )\n",
    "    )\n",
    " \n",
    "    fig = go.Figure(data=data, layout=layout)\n",
    "    plotly.offline.iplot(fig)"
   ]
  },
  {
   "cell_type": "markdown",
   "metadata": {},
   "source": [
    "## Colorful examples"
   ]
  },
  {
   "cell_type": "code",
   "execution_count": 26,
   "metadata": {
    "collapsed": true,
    "scrolled": false
   },
   "outputs": [],
   "source": [
    "phases = ['Visit', 'Sign-up', 'Selection', 'Purchase', 'Review']\n",
    "values = [13873, 10553, 4443, 2703, 708]\n",
    "# color of individual funnels\n",
    "colors1 = ['rgb(17,31,77)', 'rgb(242,244,247)', 'rgb(228,58,25)', 'rgb(50,50,50)', 'rgb(2,2,5)']\n",
    "# colors2 = ['rgb(50,50,50)', 'rgb(133,89,165)', 'rgb(109,177,147)', 'rgb(244,229,194)', 'rgb(171,237,216)']\n",
    "colors3 = ['rgb(228,237,219)', 'rgb(48,118,114)', 'rgb(20,77,83)', 'rgb(26,60,64)', 'rgb(46,56,63)']\n",
    "plotly_plot(colors1, phases, values)\n",
    "# plotly_plot(colors2)\n",
    "plotly_plot(colors3, phases, values)\n"
   ]
  },
  {
   "cell_type": "markdown",
   "metadata": {
    "collapsed": true
   },
   "source": [
    "## Pyplot image\n",
    "![colorful_example_1.png](colorful_example_1.png)\n",
    "\n",
    "\n",
    "\n",
    "This image is statically rendered for those who do not want to execute the cells. If you execute the above cell this plot will show up again in addition to the static image displayed above. For more dynamic plot, please run the notebook titled Tutorial_nbview_compatible.ipynb"
   ]
  },
  {
   "cell_type": "markdown",
   "metadata": {},
   "source": [
    "## Pyplot image\n",
    "\n",
    "![colorful_example_2.png](colorful_example_2.png)\n",
    "\n",
    "\n",
    "\n",
    "\n",
    "This image is statically rendered for those who do not want to execute the cells. If you execute the above cell this plot will show up again in addition to the static image displayed above. For more dynamic plot, please run the notebook titled Tutorial_nbview_compatible.ipynb"
   ]
  },
  {
   "cell_type": "markdown",
   "metadata": {},
   "source": [
    "\n",
    "Use the following two resources to select the colors for your funnel.\n",
    "- https://www.webpagefx.com/web-design/hex-to-rgb/\n",
    "- http://colorhunt.co/c/111086"
   ]
  },
  {
   "cell_type": "markdown",
   "metadata": {
    "collapsed": true
   },
   "source": [
    "## Data preparation\n",
    "\n",
    "Now that we have understood the process of performing the analysis itself, we can start paying attention to the data formatting etc which we had neglected earlier.\n",
    "We are given a csv file that contains user data that simulates the activities of users on an ecommerce website.\n",
    "\n",
    "## Goal\n",
    "1. We want to process the data so that it can be used to perform funnel analysis. Having the right format/structure of data can make the analysis very easy (I realized this first hand while writing the tutorial).\n",
    "2. We will read the csv file into an in memory database and do all further analysis on that.\n"
   ]
  },
  {
   "cell_type": "code",
   "execution_count": 11,
   "metadata": {
    "collapsed": true
   },
   "outputs": [],
   "source": [
    "import csv\n",
    "import sqlite3\n",
    "import pandas as pd\n",
    "\n",
    "\n",
    "\n",
    "def load_data_sqlite3(conn, file) :\n",
    "    \"\"\" Load twitter data in the three files as tables into an in-memory SQLite database\n",
    "    Input:\n",
    "        conn (sqlite3.Connection) : Connection object corresponding to the database; used to perform SQL commands.\n",
    "        users_filepath (str) : absolute/relative path to users.csv file\n",
    "        edges_filepath (str) : absolute/relative path to edges.csv file\n",
    "        tweets_filepath (str) : absolute/relative path to tweets.csv file\n",
    "    Output:\n",
    "        None\n",
    "    \"\"\"\n",
    "    \n",
    "    c = conn.cursor()\n",
    "    c.execute('''CREATE TABLE users (user_id INTEGER, timestamp INTEGER, event TEXT)''')\n",
    "    with open(file, encoding='utf-8') as csvfile1:\n",
    "        dr = csv.DictReader(csvfile1)\n",
    "        to_db_1 = [(i['user_id'], i['timestamp'], i['event']) for i in dr]\n",
    "    c.executemany(\"INSERT INTO users (user_id, timestamp, event) VALUES (?, ?, ?);\", to_db_1)\n",
    "\n",
    "    conn.commit()\n",
    "    pass\n",
    "\n"
   ]
  },
  {
   "cell_type": "code",
   "execution_count": 12,
   "metadata": {},
   "outputs": [
    {
     "name": "stdout",
     "output_type": "stream",
     "text": [
      "   user_id  timestamp  event\n",
      "0    10802      17169  Visit\n",
      "1    14952      19428  Visit\n",
      "2     3122       7487  Visit\n",
      "3    11058      12885  Visit\n",
      "4    17100      22908  Visit\n"
     ]
    }
   ],
   "source": [
    "df = pd.read_csv(\"test.csv\")\n",
    "print(df.head())\n",
    "conn = sqlite3.connect(\":memory:\")\n",
    "conn.text_factory = str\n",
    "load_data_sqlite3(conn, 'test.csv')\n",
    "cursor = conn.cursor()\n"
   ]
  },
  {
   "cell_type": "markdown",
   "metadata": {},
   "source": [
    "## Understanding the data \n",
    "\n",
    "We will first try to understand and get a feel of the kind of data we are dealing with since that is very important. There are quite a few ways of doing this. We will primarily explore two ways:-\n",
    "1. Using pandas\n",
    "2. Using SQL\n",
    "\n",
    "Using pandas has its own advantages. pandas has a wealth of built-in functions that can help us describe the data. For example df.describe, df.head, df.head() etc to name a few.\n",
    "Then there is SQL which is a beast when it comes to data manipulation. A quick insight- When I was writing this tutorial, I was initially using pandas to do bulk of the data manipulation. It took the code to well over 100 line. I took a step back and was looked at it from SQL's perspective- 4 lines. Number of lines dont really matter much, but SQL was much more elegant in handling the manipulations.\n",
    "\n",
    "Feel free to try out different methods of exploring the data."
   ]
  },
  {
   "cell_type": "code",
   "execution_count": 13,
   "metadata": {
    "collapsed": true
   },
   "outputs": [],
   "source": [
    "def load_data_pandas(users_filepath):\n",
    "    \"\"\" Loads the Twitter data from the csv files into Pandas dataframes\n",
    "    Input:\n",
    "        users_filepath (str) : absolute/relative path to users.csv file\n",
    "    Output:\n",
    "        (pd.DataFrame) : A dataframe.\n",
    "    \"\"\"\n",
    "    users = pd.read_csv(users_filepath, keep_default_na = False)\n",
    "    return users\n"
   ]
  },
  {
   "cell_type": "code",
   "execution_count": 14,
   "metadata": {},
   "outputs": [
    {
     "name": "stdout",
     "output_type": "stream",
     "text": [
      "The database has the following tables:  [('users',)]\n",
      "The table has the following column names:  ['user_id', 'timestamp', 'event']\n",
      "The number of possible events are:  5\n",
      "The possible events are:  {'Selection', 'Purchase', 'Sign up', 'Review', 'Visit'}\n"
     ]
    }
   ],
   "source": [
    "tables = cursor.execute('select name from sqlite_master where type = \\'table\\'')\n",
    "print(\"The database has the following tables: \", [table for table in tables])\n",
    "\n",
    "results = cursor.execute('select * from users')\n",
    "names = [description[0] for description in cursor.description]\n",
    "print(\"The table has the following column names: \", names)\n",
    "df = load_data_pandas(\"test.csv\")\n",
    "print(\"The number of possible events are: \", len(set(df['event'])))\n",
    "print(\"The possible events are: \", set(df['event']))\n"
   ]
  },
  {
   "cell_type": "markdown",
   "metadata": {},
   "source": [
    "## SQL to the rescue\n",
    "Now that we have a feel of the data, let us proceed with our Goal described above. For this we need to essentially bring our data to look in terms of labels = ['Visit', 'Sign-up', 'Selection', 'Purchase', 'Review'] and values = [13873, 10553, 4443, 2703, 708] as we have seen in the code at the starting of the tutorial.\n",
    "\n",
    "After playing around with pandas and SQL as I mentioned in the markdown couple of cells above, SQL was much more elegant in handling complex data transformations. Let us define a few \"convertions we want to acheive\".\n",
    "\n",
    "- What is the total conversion rate ?\n",
    "- What is the conversion rate from visiting to review barring sign up ?\n",
    "- How many customers came back for a second ?\n",
    "\n",
    "## SQL + Plotly + Bar Graph + Python\n"
   ]
  },
  {
   "cell_type": "code",
   "execution_count": 15,
   "metadata": {
    "collapsed": true
   },
   "outputs": [],
   "source": [
    "\n",
    "def format_data(phases):\n",
    "    \n",
    "    l = len(phases)\n",
    "    \n",
    "    part1 = 'select '\n",
    "    for i in range(0,l-1):\n",
    "        part1 += 'count(distinct d'+str(i+1)+'.user_id) as NumEvent'+str(i+1)+',\\n'\n",
    "    part1 += 'count(distinct d'+str(l)+'.user_id) as NumEvent'+str(l)       \n",
    "    part2 = '\\nfrom users d1 left join \\n'\n",
    "    for i in range(1, l-1):\n",
    "        part2 += 'users d'+str(i+1)+'\\non d'+str(i+1)+'.user_id = d'+str(i)+'.user_id and d'+str(i+1)\n",
    "        part2 +='.timestamp > d'+str(i)+'.timestamp and d'+str(i+1)+'.event =\\''+phases[i]+'\\' left join\\n'\n",
    "    part2 += 'users d'+str(l)+'\\non d'+str(l)+'.user_id = d'+str(l-1)+'.user_id and d'+str(l)\n",
    "    part2 +='.timestamp > d'+str(l-1)+'.timestamp and d'+str(l)+'.event =\\''+phases[l-1]+'\\''\n",
    "    part3 = 'where d1.event =\\''+phases[0]+'\\''\n",
    "    \n",
    "    query = part1+part2+part3\n",
    "    print('----------------------------------------------------------------------------------------------------\\n')\n",
    "    print(\"This is how the query looks:\\n\")\n",
    "    print(query)\n",
    "    print('----------------------------------------------------------------------------------------------------\\n')    \n",
    "    result = conn.cursor().execute(query)\n",
    "    for row in result:\n",
    "        print (\"\\n\\n\\nThe conversion from visiting the website to writing reviews is as follows: \",row)\n",
    "        values = list(row)\n",
    "    return values\n",
    "    \n"
   ]
  },
  {
   "cell_type": "markdown",
   "metadata": {},
   "source": [
    "## Total conversion rate"
   ]
  },
  {
   "cell_type": "code",
   "execution_count": 25,
   "metadata": {},
   "outputs": [
    {
     "name": "stdout",
     "output_type": "stream",
     "text": [
      "----------------------------------------------------------------------------------------------------\n",
      "\n",
      "This is how the query looks:\n",
      "\n",
      "select count(distinct d1.user_id) as NumEvent1,\n",
      "count(distinct d2.user_id) as NumEvent2,\n",
      "count(distinct d3.user_id) as NumEvent3,\n",
      "count(distinct d4.user_id) as NumEvent4,\n",
      "count(distinct d5.user_id) as NumEvent5\n",
      "from users d1 left join \n",
      "users d2\n",
      "on d2.user_id = d1.user_id and d2.timestamp > d1.timestamp and d2.event ='Sign-up' left join\n",
      "users d3\n",
      "on d3.user_id = d2.user_id and d3.timestamp > d2.timestamp and d3.event ='Selection' left join\n",
      "users d4\n",
      "on d4.user_id = d3.user_id and d4.timestamp > d3.timestamp and d4.event ='Purchase' left join\n",
      "users d5\n",
      "on d5.user_id = d4.user_id and d5.timestamp > d4.timestamp and d5.event ='Review'where d1.event ='Visit'\n",
      "----------------------------------------------------------------------------------------------------\n",
      "\n",
      "\n",
      "\n",
      "\n",
      "The conversion from visiting the website to writing reviews is as follows:  (217, 0, 0, 0, 0)\n"
     ]
    },
    {
     "data": {
      "image/png": "[encoded data removed]",
      "text/plain": [
       "<matplotlib.figure.Figure at 0x112dcdc18>"
      ]
     },
     "metadata": {},
     "output_type": "display_data"
    }
   ],
   "source": [
    "phases = ['Visit', 'Sign-up', 'Selection', 'Purchase', 'Review']\n",
    "colors = ['rgb(17,31,77)', 'rgb(242,244,247)', 'rgb(228,58,25)', 'rgb(50,50,50)', 'rgb(2,2,5)']\n",
    "values = format_data(phases)\n",
    "funnel(phases, values)\n"
   ]
  },
  {
   "cell_type": "markdown",
   "metadata": {
    "collapsed": true
   },
   "source": [
    "We can easily see that there is 0 conversion from start to end which may be a source of concern. Since the sign-up process is the first in the path, that could essentially be the bottle neck. As we will see in the next example that indeed is the case since when we exclude the sign-up process from the conversion process, we find there is some conversion."
   ]
  },
  {
   "cell_type": "code",
   "execution_count": null,
   "metadata": {
    "collapsed": true
   },
   "outputs": [],
   "source": [
    "plotly_plot(colors,phases,values)"
   ]
  },
  {
   "cell_type": "markdown",
   "metadata": {},
   "source": [
    "## Pyplot image\n",
    "\n",
    "![total_conversion.png](total_conversion.png)\n",
    "\n",
    "This image is statically rendered for those who do not want to execute the cells. If you execute the above cell this plot will show up again in addition to the static image displayed above. For more dynamic plot, please run the notebook titled Tutorial_nbview_compatible.ipynb"
   ]
  },
  {
   "cell_type": "markdown",
   "metadata": {},
   "source": [
    "## Conversion rate from visiting to review excluding sign up"
   ]
  },
  {
   "cell_type": "code",
   "execution_count": 23,
   "metadata": {
    "scrolled": false
   },
   "outputs": [
    {
     "name": "stdout",
     "output_type": "stream",
     "text": [
      "----------------------------------------------------------------------------------------------------\n",
      "\n",
      "This is how the query looks:\n",
      "\n",
      "select count(distinct d1.user_id) as NumEvent1,\n",
      "count(distinct d2.user_id) as NumEvent2,\n",
      "count(distinct d3.user_id) as NumEvent3,\n",
      "count(distinct d4.user_id) as NumEvent4\n",
      "from users d1 left join \n",
      "users d2\n",
      "on d2.user_id = d1.user_id and d2.timestamp > d1.timestamp and d2.event ='Selection' left join\n",
      "users d3\n",
      "on d3.user_id = d2.user_id and d3.timestamp > d2.timestamp and d3.event ='Purchase' left join\n",
      "users d4\n",
      "on d4.user_id = d3.user_id and d4.timestamp > d3.timestamp and d4.event ='Review'where d1.event ='Visit'\n",
      "----------------------------------------------------------------------------------------------------\n",
      "\n",
      "\n",
      "\n",
      "\n",
      "The conversion from visiting the website to writing reviews is as follows:  (217, 157, 46, 3)\n"
     ]
    },
    {
     "data": {
      "image/png": "[encoded data removed]",
      "text/plain": [
       "<matplotlib.figure.Figure at 0x112f4a358>"
      ]
     },
     "metadata": {},
     "output_type": "display_data"
    }
   ],
   "source": [
    "phases = ['Visit', 'Selection', 'Purchase', 'Review']\n",
    "colors = ['rgb(253,164,3)', 'rgb(232,117,26)', 'rgb(197,19,80)', 'rgb(138,18,83)', 'rgb(2,2,5)']\n",
    "values = format_data(phases)\n",
    "paper_bgcolor='rgba(44,58,71,1)'\n",
    "plot_bgcolor='rgba(44,58,71,1)'\n",
    "\n",
    "funnel(phases, values)"
   ]
  },
  {
   "cell_type": "code",
   "execution_count": null,
   "metadata": {
    "collapsed": true
   },
   "outputs": [],
   "source": [
    "plotly_plot(colors,phases,values, paper_bgcolor, plot_bgcolor)\n"
   ]
  },
  {
   "cell_type": "markdown",
   "metadata": {},
   "source": [
    "## Pyplot image\n",
    "![visit_review.png](visit_review.png)\n",
    "\n",
    "This image is statically rendered for those who do not want to execute the cells. If you execute the above cell this plot will show up again in addition to the static image displayed above. For more dynamic plot, please run the notebook titled Tutorial_nbview_compatible.ipynb"
   ]
  },
  {
   "cell_type": "markdown",
   "metadata": {},
   "source": [
    "## Buying again\n",
    "\n",
    "The next question we will see is quite interesting. We want to know how many customers are coming back to the ecommerce website to buy again ?. The framework we have developed above lets us answer all such questions without changing the code as shown below."
   ]
  },
  {
   "cell_type": "code",
   "execution_count": 24,
   "metadata": {},
   "outputs": [
    {
     "name": "stdout",
     "output_type": "stream",
     "text": [
      "----------------------------------------------------------------------------------------------------\n",
      "\n",
      "This is how the query looks:\n",
      "\n",
      "select count(distinct d1.user_id) as NumEvent1,\n",
      "count(distinct d2.user_id) as NumEvent2\n",
      "from users d1 left join \n",
      "users d2\n",
      "on d2.user_id = d1.user_id and d2.timestamp > d1.timestamp and d2.event ='Purchase'where d1.event ='Purchase'\n",
      "----------------------------------------------------------------------------------------------------\n",
      "\n",
      "\n",
      "\n",
      "\n",
      "The conversion from visiting the website to writing reviews is as follows:  (372, 83)\n"
     ]
    },
    {
     "data": {
      "image/png": "[encoded data removed]",
      "text/plain": [
       "<matplotlib.figure.Figure at 0x107375c50>"
      ]
     },
     "metadata": {},
     "output_type": "display_data"
    }
   ],
   "source": [
    "phases = ['Purchase','Purchase']\n",
    "colors = ['rgb(253,164,3)', 'rgb(232,117,26)', 'rgb(197,19,80)', 'rgb(138,18,83)', 'rgb(2,2,5)']\n",
    "values = format_data(phases)\n",
    "paper_bgcolor='rgba(44,58,71,1)'\n",
    "plot_bgcolor='rgba(44,58,71,1)'\n",
    "\n",
    "funnel(phases, values)"
   ]
  },
  {
   "cell_type": "code",
   "execution_count": 22,
   "metadata": {
    "collapsed": true
   },
   "outputs": [],
   "source": [
    "plotly_plot(colors,phases,values, paper_bgcolor, plot_bgcolor)\n"
   ]
  },
  {
   "cell_type": "markdown",
   "metadata": {},
   "source": [
    "## Pyplot image\n",
    "![purchase_purchasse.png](purchase_purchasse.png)\n",
    "\n",
    "\n",
    "This image is statically rendered for those who do not want to execute the cells. If you execute the above cell this plot will show up again in addition to the static image displayed above. For more dynamic plot, please run the notebook titled Tutorial_nbview_compatible.ipynb"
   ]
  },
  {
   "cell_type": "markdown",
   "metadata": {
    "collapsed": true
   },
   "source": [
    "## Further resources\n",
    "\n",
    "There is more to funnel analysis like path computation, segmented funnels etc. Below are some of the resources that I found as useful addition to this tutorial.\n",
    "\n",
    "- Segmented funnels: https://moderndata.plot.ly/segmented-funnel-charts-in-python-using-plotly/\n",
    "- SQL queris for funnel analysis https://blog.statsbot.co/sql-queries-for-funnel-analysis-35d5e456371d\n",
    "- Funnel analysis in javascript: https://keen.io/docs/compute/intro-to-funnel-analysis/\n",
    "- Online database analyser: https://sqliteonline.com/#/\n",
    "\n",
    "If you want to plot the funnels like the ones shown in this tutorial, the colors can be tested using the following:\n",
    "- https://www.webpagefx.com/web-design/hex-to-rgb/\n",
    "- http://colorhunt.co/c/111086\n",
    "\n"
   ]
  },
  {
   "cell_type": "markdown",
   "metadata": {
    "collapsed": true
   },
   "source": [
    "## References and Citations"
   ]
  },
  {
   "cell_type": "markdown",
   "metadata": {},
   "source": [
    "- https://en.wikipedia.org/wiki/Funnel_analysis\n",
    "- https://plot.ly/python/getting-started/#start-plotting-online\n",
    "- https://plot.ly/python/funnel-charts/\n",
    "- https://stats.stackexchange.com/questions/89475/how-would-you-visualize-a-segmented-funnel-and-could-you-do-it-with-python\n",
    "- https://stackoverflow.com/questions/26453923/how-can-one-calculate-funnel-analysis-from-a-sql-table-of-raw-events\n"
   ]
  },
  {
   "cell_type": "code",
   "execution_count": null,
   "metadata": {
    "collapsed": true
   },
   "outputs": [],
   "source": []
  }
 ],
 "metadata": {
  "kernelspec": {
   "display_name": "Python 3",
   "language": "python",
   "name": "python3"
  },
  "language_info": {
   "codemirror_mode": {
    "name": "ipython",
    "version": 3
   },
   "file_extension": ".py",
   "mimetype": "text/x-python",
   "name": "python",
   "nbconvert_exporter": "python",
   "pygments_lexer": "ipython3",
   "version": "3.6.3"
  }
 },
 "nbformat": 4,
 "nbformat_minor": 2
}
