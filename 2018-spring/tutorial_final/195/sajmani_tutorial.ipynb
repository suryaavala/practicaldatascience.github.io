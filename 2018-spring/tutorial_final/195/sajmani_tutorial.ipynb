{
 "cells": [
  {
   "cell_type": "markdown",
   "metadata": {},
   "source": [
    "<center><h2> Feature Selection in Machine Learning Models </h2></center>\n",
    "<center><h3>Sukrit Ajmani</h3></center>"
   ]
  },
  {
   "cell_type": "markdown",
   "metadata": {},
   "source": [
    "### Introduction"
   ]
  },
  {
   "cell_type": "markdown",
   "metadata": {},
   "source": [
    "As Technology is making the world smaller, the data associated is becoming bigger and bigger. Advanced data collection techniques have enabled us to collect ordered and unordered data much more quickly. Advancement in Machine learning techniques have enabled us to make sense of this data by analyze it and predicting from it.\n",
    "\n",
    "But this increase in data also means increase in number of features or predictors associated with any machine learning algorithm. Not all the variables have the same predictive power in a model. While some features are useful in predictions and estimation for a model, the other variables have no or little power in the model and just contribute to adding noise to the model. Thus, feature selection is an important step for tuning any model.\n",
    "\n",
    "Feature selection helps us decide which variables to keep in our model and which variables to throw out. We are going to look at different techniques to approach feature selection in any model. These methods employ different comparision paramteres to predict the most important variable - some compare statistical parameters like chi-squared while other look at average mean squared error and try to minimise that. We will take a look a practical approach to look at theses methods in the following sections."
   ]
  },
  {
   "cell_type": "markdown",
   "metadata": {},
   "source": [
    "### Libraries"
   ]
  },
  {
   "cell_type": "markdown",
   "metadata": {},
   "source": [
    "We will not need any libraries which are beyond our usual suspects - NumPy , scikitlearn and  Pandas. We will go ahead and load those in our runtime."
   ]
  },
  {
   "cell_type": "code",
   "execution_count": 1,
   "metadata": {
    "collapsed": true
   },
   "outputs": [],
   "source": [
    "import numpy as np\n",
    "import pandas as pd"
   ]
  },
  {
   "cell_type": "markdown",
   "metadata": {},
   "source": [
    "### Importing Data"
   ]
  },
  {
   "cell_type": "markdown",
   "metadata": {},
   "source": [
    "We are going to use a news dataset which contains data about a newspaper and its content. The data is majorly numerical in nature, thus giving us the uniformity to run our feature selection methods on. The data set was curated by Prof. Alexandra Chouldechova of Carnegie Mellon University. This dataset works perfectly because it has large number of variables which are used in prediction (over 100) and a few of them have been introduced for purpose of distortion, and hence should not be included in any of the models."
   ]
  },
  {
   "cell_type": "code",
   "execution_count": 2,
   "metadata": {
    "collapsed": true
   },
   "outputs": [],
   "source": [
    "url = 'http://www.andrew.cmu.edu/user/achoulde/95791/data/online_news.csv'\n",
    "dataframe = pd.read_csv(url)"
   ]
  },
  {
   "cell_type": "code",
   "execution_count": 3,
   "metadata": {},
   "outputs": [],
   "source": [
    "news_data = dataframe.loc[np.random.choice(dataframe.index, 200, replace=False)]"
   ]
  },
  {
   "cell_type": "markdown",
   "metadata": {},
   "source": [
    "We have loaded the data in our dataframe. To reduce the dataframe size, we have reduced the sample size to 200 random rows to make the tutorial run faster. These methods should perform the same way irrespective the size of your dataset. We can use the head command to see some of the data in our database."
   ]
  },
  {
   "cell_type": "code",
   "execution_count": 4,
   "metadata": {},
   "outputs": [
    {
     "data": {
      "text/html": [
       "<div>\n",
       "<style>\n",
       "    .dataframe thead tr:only-child th {\n",
       "        text-align: right;\n",
       "    }\n",
       "\n",
       "    .dataframe thead th {\n",
       "        text-align: left;\n",
       "    }\n",
       "\n",
       "    .dataframe tbody tr th {\n",
       "        vertical-align: top;\n",
       "    }\n",
       "</style>\n",
       "<table border=\"1\" class=\"dataframe\">\n",
       "  <thead>\n",
       "    <tr style=\"text-align: right;\">\n",
       "      <th></th>\n",
       "      <th>timedelta</th>\n",
       "      <th>n_tokens_title</th>\n",
       "      <th>n_tokens_content</th>\n",
       "      <th>n_unique_tokens</th>\n",
       "      <th>n_non_stop_words</th>\n",
       "      <th>n_non_stop_unique_tokens</th>\n",
       "      <th>num_hrefs</th>\n",
       "      <th>num_self_hrefs</th>\n",
       "      <th>num_imgs</th>\n",
       "      <th>num_videos</th>\n",
       "      <th>...</th>\n",
       "      <th>min_positive_polarity</th>\n",
       "      <th>max_positive_polarity</th>\n",
       "      <th>avg_negative_polarity</th>\n",
       "      <th>min_negative_polarity</th>\n",
       "      <th>max_negative_polarity</th>\n",
       "      <th>title_subjectivity</th>\n",
       "      <th>title_sentiment_polarity</th>\n",
       "      <th>abs_title_subjectivity</th>\n",
       "      <th>abs_title_sentiment_polarity</th>\n",
       "      <th>shares</th>\n",
       "    </tr>\n",
       "  </thead>\n",
       "  <tbody>\n",
       "    <tr>\n",
       "      <th>1215</th>\n",
       "      <td>710</td>\n",
       "      <td>8</td>\n",
       "      <td>1236</td>\n",
       "      <td>0.447627</td>\n",
       "      <td>1.0</td>\n",
       "      <td>0.634747</td>\n",
       "      <td>31</td>\n",
       "      <td>10</td>\n",
       "      <td>9</td>\n",
       "      <td>0</td>\n",
       "      <td>...</td>\n",
       "      <td>0.033333</td>\n",
       "      <td>0.8</td>\n",
       "      <td>-0.243873</td>\n",
       "      <td>-0.700000</td>\n",
       "      <td>-0.100000</td>\n",
       "      <td>0.000000</td>\n",
       "      <td>0.000000</td>\n",
       "      <td>0.500000</td>\n",
       "      <td>0.000000</td>\n",
       "      <td>30200</td>\n",
       "    </tr>\n",
       "    <tr>\n",
       "      <th>7728</th>\n",
       "      <td>587</td>\n",
       "      <td>13</td>\n",
       "      <td>823</td>\n",
       "      <td>0.452206</td>\n",
       "      <td>1.0</td>\n",
       "      <td>0.660754</td>\n",
       "      <td>8</td>\n",
       "      <td>1</td>\n",
       "      <td>1</td>\n",
       "      <td>1</td>\n",
       "      <td>...</td>\n",
       "      <td>0.100000</td>\n",
       "      <td>0.5</td>\n",
       "      <td>-0.321102</td>\n",
       "      <td>-0.500000</td>\n",
       "      <td>-0.050000</td>\n",
       "      <td>0.313636</td>\n",
       "      <td>0.034091</td>\n",
       "      <td>0.186364</td>\n",
       "      <td>0.034091</td>\n",
       "      <td>138</td>\n",
       "    </tr>\n",
       "    <tr>\n",
       "      <th>4637</th>\n",
       "      <td>648</td>\n",
       "      <td>8</td>\n",
       "      <td>215</td>\n",
       "      <td>0.658537</td>\n",
       "      <td>1.0</td>\n",
       "      <td>0.722973</td>\n",
       "      <td>9</td>\n",
       "      <td>1</td>\n",
       "      <td>1</td>\n",
       "      <td>0</td>\n",
       "      <td>...</td>\n",
       "      <td>0.033333</td>\n",
       "      <td>0.5</td>\n",
       "      <td>-0.175000</td>\n",
       "      <td>-0.300000</td>\n",
       "      <td>-0.050000</td>\n",
       "      <td>0.000000</td>\n",
       "      <td>0.000000</td>\n",
       "      <td>0.500000</td>\n",
       "      <td>0.000000</td>\n",
       "      <td>1700</td>\n",
       "    </tr>\n",
       "    <tr>\n",
       "      <th>5569</th>\n",
       "      <td>630</td>\n",
       "      <td>9</td>\n",
       "      <td>719</td>\n",
       "      <td>0.544429</td>\n",
       "      <td>1.0</td>\n",
       "      <td>0.716854</td>\n",
       "      <td>10</td>\n",
       "      <td>0</td>\n",
       "      <td>1</td>\n",
       "      <td>0</td>\n",
       "      <td>...</td>\n",
       "      <td>0.033333</td>\n",
       "      <td>1.0</td>\n",
       "      <td>-0.344277</td>\n",
       "      <td>-1.000000</td>\n",
       "      <td>-0.071429</td>\n",
       "      <td>0.000000</td>\n",
       "      <td>0.000000</td>\n",
       "      <td>0.500000</td>\n",
       "      <td>0.000000</td>\n",
       "      <td>823</td>\n",
       "    </tr>\n",
       "    <tr>\n",
       "      <th>2474</th>\n",
       "      <td>688</td>\n",
       "      <td>11</td>\n",
       "      <td>384</td>\n",
       "      <td>0.542553</td>\n",
       "      <td>1.0</td>\n",
       "      <td>0.693694</td>\n",
       "      <td>10</td>\n",
       "      <td>5</td>\n",
       "      <td>1</td>\n",
       "      <td>0</td>\n",
       "      <td>...</td>\n",
       "      <td>0.200000</td>\n",
       "      <td>1.0</td>\n",
       "      <td>-0.110417</td>\n",
       "      <td>-0.166667</td>\n",
       "      <td>-0.050000</td>\n",
       "      <td>0.000000</td>\n",
       "      <td>0.000000</td>\n",
       "      <td>0.500000</td>\n",
       "      <td>0.000000</td>\n",
       "      <td>775</td>\n",
       "    </tr>\n",
       "  </tbody>\n",
       "</table>\n",
       "<p>5 rows × 55 columns</p>\n",
       "</div>"
      ],
      "text/plain": [
       "      timedelta  n_tokens_title  n_tokens_content  n_unique_tokens  \\\n",
       "1215        710               8              1236         0.447627   \n",
       "7728        587              13               823         0.452206   \n",
       "4637        648               8               215         0.658537   \n",
       "5569        630               9               719         0.544429   \n",
       "2474        688              11               384         0.542553   \n",
       "\n",
       "      n_non_stop_words  n_non_stop_unique_tokens  num_hrefs  num_self_hrefs  \\\n",
       "1215               1.0                  0.634747         31              10   \n",
       "7728               1.0                  0.660754          8               1   \n",
       "4637               1.0                  0.722973          9               1   \n",
       "5569               1.0                  0.716854         10               0   \n",
       "2474               1.0                  0.693694         10               5   \n",
       "\n",
       "      num_imgs  num_videos   ...    min_positive_polarity  \\\n",
       "1215         9           0   ...                 0.033333   \n",
       "7728         1           1   ...                 0.100000   \n",
       "4637         1           0   ...                 0.033333   \n",
       "5569         1           0   ...                 0.033333   \n",
       "2474         1           0   ...                 0.200000   \n",
       "\n",
       "      max_positive_polarity  avg_negative_polarity  min_negative_polarity  \\\n",
       "1215                    0.8              -0.243873              -0.700000   \n",
       "7728                    0.5              -0.321102              -0.500000   \n",
       "4637                    0.5              -0.175000              -0.300000   \n",
       "5569                    1.0              -0.344277              -1.000000   \n",
       "2474                    1.0              -0.110417              -0.166667   \n",
       "\n",
       "      max_negative_polarity  title_subjectivity  title_sentiment_polarity  \\\n",
       "1215              -0.100000            0.000000                  0.000000   \n",
       "7728              -0.050000            0.313636                  0.034091   \n",
       "4637              -0.050000            0.000000                  0.000000   \n",
       "5569              -0.071429            0.000000                  0.000000   \n",
       "2474              -0.050000            0.000000                  0.000000   \n",
       "\n",
       "      abs_title_subjectivity  abs_title_sentiment_polarity  shares  \n",
       "1215                0.500000                      0.000000   30200  \n",
       "7728                0.186364                      0.034091     138  \n",
       "4637                0.500000                      0.000000    1700  \n",
       "5569                0.500000                      0.000000     823  \n",
       "2474                0.500000                      0.000000     775  \n",
       "\n",
       "[5 rows x 55 columns]"
      ]
     },
     "execution_count": 4,
     "metadata": {},
     "output_type": "execute_result"
    }
   ],
   "source": [
    "news_data.head()"
   ]
  },
  {
   "cell_type": "markdown",
   "metadata": {},
   "source": [
    "We are going to seperate our prediction variable and our predictors. We are putting our predictors in newsX and our prediction variables, which is \"shares\" in newsY."
   ]
  },
  {
   "cell_type": "code",
   "execution_count": 5,
   "metadata": {},
   "outputs": [],
   "source": [
    "news_array = news_data.values\n",
    "newsX = news_array[:,0:53]\n",
    "newsY = news_array[:,54]\n",
    "np.set_printoptions(precision=4)"
   ]
  },
  {
   "cell_type": "markdown",
   "metadata": {},
   "source": [
    "We are gonna run basic statistical methods to get a basic approximation of all the different predictors in our dataset."
   ]
  },
  {
   "cell_type": "code",
   "execution_count": 6,
   "metadata": {},
   "outputs": [
    {
     "name": "stdout",
     "output_type": "stream",
     "text": [
      "        timedelta  n_tokens_title  n_tokens_content  n_unique_tokens  \\\n",
      "count  200.000000      200.000000        200.000000       200.000000   \n",
      "mean   368.850000       10.305000        510.765000         0.547862   \n",
      "std    227.278651        2.273283        388.022379         0.131326   \n",
      "min     10.000000        4.000000          0.000000         0.000000   \n",
      "25%    159.500000        9.000000        223.250000         0.481488   \n",
      "50%    391.500000       10.000000        379.500000         0.550242   \n",
      "75%    589.500000       12.000000        716.000000         0.621792   \n",
      "max    725.000000       16.000000       2173.000000         0.911111   \n",
      "\n",
      "       n_non_stop_words  n_non_stop_unique_tokens   num_hrefs  num_self_hrefs  \\\n",
      "count        200.000000                200.000000  200.000000      200.000000   \n",
      "mean           0.980000                  0.687173   11.095000        3.055000   \n",
      "std            0.140351                  0.140342   13.036322        2.848252   \n",
      "min            0.000000                  0.000000    0.000000        0.000000   \n",
      "25%            1.000000                  0.634180    4.000000        1.000000   \n",
      "50%            1.000000                  0.704966    7.000000        3.000000   \n",
      "75%            1.000000                  0.760674   12.000000        4.000000   \n",
      "max            1.000000                  0.968750  102.000000       20.000000   \n",
      "\n",
      "        num_imgs  num_videos      ...        min_positive_polarity  \\\n",
      "count  200.00000  200.000000      ...                   200.000000   \n",
      "mean     4.39500    1.725000      ...                     0.105295   \n",
      "std      8.16962    6.148855      ...                     0.087323   \n",
      "min      0.00000    0.000000      ...                     0.000000   \n",
      "25%      1.00000    0.000000      ...                     0.050000   \n",
      "50%      1.00000    0.000000      ...                     0.100000   \n",
      "75%      4.00000    1.000000      ...                     0.136364   \n",
      "max     61.00000   66.000000      ...                     0.600000   \n",
      "\n",
      "       max_positive_polarity  avg_negative_polarity  min_negative_polarity  \\\n",
      "count             200.000000             200.000000             200.000000   \n",
      "mean                0.750286              -0.261086              -0.505336   \n",
      "std                 0.238024               0.130873               0.292181   \n",
      "min                 0.000000              -0.700000              -1.000000   \n",
      "25%                 0.575000              -0.349474              -0.700000   \n",
      "50%                 0.800000              -0.250694              -0.500000   \n",
      "75%                 1.000000              -0.175000              -0.300000   \n",
      "max                 1.000000               0.000000               0.000000   \n",
      "\n",
      "       max_negative_polarity  title_subjectivity  title_sentiment_polarity  \\\n",
      "count             200.000000          200.000000                200.000000   \n",
      "mean               -0.115957            0.242773                  0.061791   \n",
      "std                 0.106114            0.318190                  0.232699   \n",
      "min                -0.700000            0.000000                 -0.800000   \n",
      "25%                -0.125000            0.000000                  0.000000   \n",
      "50%                -0.100000            0.000000                  0.000000   \n",
      "75%                -0.050000            0.454545                  0.081250   \n",
      "max                 0.000000            1.000000                  1.000000   \n",
      "\n",
      "       abs_title_subjectivity  abs_title_sentiment_polarity         shares  \n",
      "count              200.000000                    200.000000     200.000000  \n",
      "mean                 0.366577                      0.123435    4340.040000  \n",
      "std                  0.180801                      0.206576   10947.708574  \n",
      "min                  0.000000                      0.000000     138.000000  \n",
      "25%                  0.200000                      0.000000     902.250000  \n",
      "50%                  0.500000                      0.000000    1400.000000  \n",
      "75%                  0.500000                      0.170779    3700.000000  \n",
      "max                  0.500000                      1.000000  112600.000000  \n",
      "\n",
      "[8 rows x 55 columns]\n"
     ]
    }
   ],
   "source": [
    "print(news_data.describe())"
   ]
  },
  {
   "cell_type": "markdown",
   "metadata": {},
   "source": [
    "### Feature Selection Methods"
   ]
  },
  {
   "cell_type": "markdown",
   "metadata": {},
   "source": [
    "We will see different methods of feature selections in the following section. We begin our discussion with univariate method, which is preemptive selection of variables based on statistical parameters. We move on to discussing Recursive methods which are dynamic best subset selection models. We also discuss Lasso or penalized regression using Cross Validation and information criterion methods, which eliminate variable by virtue of penalty variable. We finish our discussion by seeing a classification tree method."
   ]
  },
  {
   "cell_type": "markdown",
   "metadata": {},
   "source": [
    "#### 1) Univariate Selection"
   ]
  },
  {
   "cell_type": "markdown",
   "metadata": {},
   "source": [
    "We start our discussion with a method which selects variable based on univariate statistical testing. The choose one of the statistical methods to select the top K variables which contribute the most towards that statistic paramter.\n",
    "\n",
    "The scikit-learn library provides the SelectKBest class that can use different statistical paramters like chi squared, f_regression etc. to select the best variables."
   ]
  },
  {
   "cell_type": "code",
   "execution_count": 7,
   "metadata": {},
   "outputs": [
    {
     "name": "stdout",
     "output_type": "stream",
     "text": [
      "[  4.0665e-01   1.2926e-01   7.0679e+00   1.8596e-01   6.5706e-02\n",
      "   2.1986e-01   2.8923e+01   1.9226e+00   4.6446e+00   2.7713e-01\n",
      "   2.8034e-01   1.0792e+00   4.0853e+00   1.5919e-01   4.6920e-01\n",
      "   2.0756e-01   4.0303e+00   5.3820e-01   8.6496e-03   2.2761e-02\n",
      "   1.1887e-01   1.5662e+00   4.9665e-01   7.6248e+00   7.2175e-01\n",
      "   5.2280e+00   3.4434e-01   4.7107e+00   2.7882e+00   1.6063e+00\n",
      "   9.0891e-03   8.4375e-03   5.6896e-01   1.0596e+00   1.9566e+00\n",
      "   4.5079e+00   2.6980e+00   4.0655e-01   1.3125e+00   9.1136e-02\n",
      "   5.0414e-01   4.9241e-01   2.8173e-02   1.7100e-01   3.5878e-03\n",
      "   4.3689e-02   1.3559e-01   9.5006e-01   3.2335e+00   1.0477e-01\n",
      "   1.7887e+00   3.9057e+00   7.2064e-01]\n",
      "[ 6 23  2 25 27]\n",
      "[[  1.2360e+03   3.1000e+01   2.5531e+03   3.3124e+03   2.3700e+04]\n",
      " [  8.2300e+02   8.0000e+00   0.0000e+00   2.1517e+03   1.2000e+03]\n",
      " [  2.1500e+02   9.0000e+00   2.1250e+03   3.1303e+03   0.0000e+00]\n",
      " [  7.1900e+02   1.0000e+01   0.0000e+00   3.2041e+03   0.0000e+00]\n",
      " [  3.8400e+02   1.0000e+01   0.0000e+00   1.7162e+03   1.8000e+03]]\n"
     ]
    }
   ],
   "source": [
    "from sklearn.feature_selection import SelectKBest\n",
    "from sklearn.feature_selection import f_regression\n",
    "\n",
    "uniVar = SelectKBest(score_func=f_regression, k=5)\n",
    "news_fit = uniVar.fit(newsX, newsY)\n",
    "\n",
    "\n",
    "print(news_fit.scores_)\n",
    "\n",
    "print(news_fit.scores_.argsort()[-5:][::-1])\n",
    "\n",
    "selectedFeatures = news_fit.transform(newsX)\n",
    "print(selectedFeatures[0:5,:])"
   ]
  },
  {
   "cell_type": "markdown",
   "metadata": {},
   "source": [
    "<b>How it works:</b> The SelectKBest method chooses a parameter and the K defines the number of features you want to select. We fit the the model uniVar on the newsX and newsY arrays to compute the values of the f_regression parameter for all 54 variables.\n",
    "We then select the top 5 indices , which are the variables at 49,25,23,39 and 38.\n",
    "We can calculate the selected features and see the five values of their corresponding features as displayed above."
   ]
  },
  {
   "cell_type": "markdown",
   "metadata": {},
   "source": [
    "The functions that could be used are:\n",
    "\n",
    "<b>For regression:</b> f_regression, mutual_info_regression\n",
    "\n",
    "<b>For classification:</b> chi2, f_classif, mutual_info_classif\n",
    "\n",
    "The methods based on F-test estimate the degree of linear dependency between two random variables. \n",
    "\n",
    "Also, mutual information methods being nonparametric require more samples for accurate estimation."
   ]
  },
  {
   "cell_type": "markdown",
   "metadata": {},
   "source": [
    "<b>Note:</b> Some other methods provides by scikit-learn to do univariate analysis are - <u>selectPercentile</u>, which gives top n percentile of high features. <u>SelectFpr</u>, which selects features based on false positive rates and <u>GenericUnivariateSelect</u> allows to perform univariate feature selection with a configurable strategy. This allows to select the best univariate selection strategy with hyper-parameter search estimator."
   ]
  },
  {
   "cell_type": "markdown",
   "metadata": {},
   "source": [
    "#### 2) Recursive Feature Elimination"
   ]
  },
  {
   "cell_type": "markdown",
   "metadata": {},
   "source": [
    "Recursive feature elimination or also known as backward subset selection is a method of starting with the full model and then removing features and compare different models. Unlike Univariate selection where the variables are decided at first step , RFE chooses the next best model at every step by removing one variable at a time at each step.\n",
    "\n",
    "It uses model accuracy to predict the set of attributes which contribute the most to any given model. In a RFE model the user can specify the number of variables the user wants RFE to stop. For optimal solutions, we can also use RFE in conjunction with cross validation to automatically tune the model to right number of features."
   ]
  },
  {
   "cell_type": "code",
   "execution_count": 8,
   "metadata": {},
   "outputs": [
    {
     "name": "stdout",
     "output_type": "stream",
     "text": [
      "number of features : 2\n",
      "[39 34 43 27  1 13 30 29 36 37 15 35 16 20 40 33 21 38 45 42 49 52 51 41 46\n",
      " 44 48 50 47 18 32 28 19 31 17 12 23 24  8  9  3  7  1  2 25 10 26  4  6  5\n",
      " 14 11 22]\n"
     ]
    },
    {
     "data": {
      "image/png": "[encoded data removed]",
      "text/plain": [
       "<matplotlib.figure.Figure at 0x1a15bdd048>"
      ]
     },
     "metadata": {},
     "output_type": "display_data"
    }
   ],
   "source": [
    "import matplotlib.pyplot as plt\n",
    "from sklearn.feature_selection import RFECV\n",
    "from sklearn.linear_model import LinearRegression\n",
    "\n",
    "# Create the RFE object and compute a cross-validated score.\n",
    "lr = LinearRegression()\n",
    "# The \"accuracy\" scoring is proportional to the number of correct\n",
    "# classifications\n",
    "rfec = RFECV(estimator=lr, step=1, cv=5,scoring = 'neg_mean_squared_error')\n",
    "rfec.fit(newsX, newsY)\n",
    "\n",
    "print(\"number of features : %d\" % rfec.n_features_)\n",
    "print(rfec.ranking_)\n",
    "# Plot number of features VS. cross-validation scores\n",
    "plt.figure()\n",
    "plt.xlabel(\"Number of features\")\n",
    "plt.ylabel(\"Cross validation score\")\n",
    "plt.plot(range(1, len(rfec.grid_scores_) + 1), rfec.grid_scores_)\n",
    "plt.show()"
   ]
  },
  {
   "cell_type": "markdown",
   "metadata": {},
   "source": [
    "<b>How it works:</b> Recursive Feature Elimination works by taking into account an external estimator or an external model. In our case we have taken our external estimator to be Linear Regression. You may take it to be any other mdodel - SVC , SCR , Logistic Regression etc. Parameter stp defines the number of variables to be removed per iteration and cv defines the cross validation folds to be considered. We can define the evaluation paramter in scoring attribute. We have used negative mean squared error in our case , which is maximum at three variables. You can also accuracy,FPR,FNR for classification and r-squared for prediction."
   ]
  },
  {
   "cell_type": "markdown",
   "metadata": {},
   "source": [
    "We can see that RFECV gives ranking to each of the feature in the model , and four features are ranked number one. Thus those are the variables which add the maximum value to our model. \n",
    "\n",
    "The estimator is trained initially on set of features and the importance of each feature is obtained either through a coef_ attribute. The least important features are pruned from current set of features."
   ]
  },
  {
   "cell_type": "markdown",
   "metadata": {},
   "source": [
    "#### 3) Lasso & Information Criterion Models"
   ]
  },
  {
   "cell_type": "markdown",
   "metadata": {},
   "source": [
    "Lasso or Regularised Regression model constraint or regularize the coefficient estimates, “shrinking” them towards zero. This is also referred to as Shrinkage Methods or Regularized Regression methods. Its a model that estimates sparse coeffecients . So, in our example we have 54 variable, lasso will estimate numeric values for lets say 7 of them and the rest will have 0 coeffecients.\n",
    "\n",
    "So just like a sparse matrix where we eliminate 0's and form a matrix, our regression equation will be leaner and have much fewer variables. There is a penalty parameter, which helps us decide what kind of penalty should be applied to our equation. Higher the penalty, more features are tending to zero.\n",
    "\n",
    "It is useful in some contexts due to its tendency to prefer solutions with fewer parameter values, effectively reducing the number of variables upon which the given solution is dependent.\n",
    "\n",
    "The Lasso method estimates coefficients βλ by minimizing the L1 penalized RSS\n",
    "\n",
    "<img src=\"equation.png\"/>\n",
    "\n",
    "The quantity ∑|βj| is typically denoted ∥β∥1, which is called the L1-norm, thus giving lasso the name L1-regularised regression. The tuning parameter λ allows us to control the overall complexity of the model. λ = 0 takes us back to least squares equation as it reduces the penalty paramter on everything and a large λ starts increasing the penalty thus making everything close to 0.\n"
   ]
  },
  {
   "cell_type": "code",
   "execution_count": 9,
   "metadata": {},
   "outputs": [
    {
     "name": "stdout",
     "output_type": "stream",
     "text": [
      "(200, 53)\n",
      "(200, 38)\n"
     ]
    },
    {
     "name": "stderr",
     "output_type": "stream",
     "text": [
      "/anaconda3/lib/python3.6/site-packages/sklearn/linear_model/coordinate_descent.py:491: ConvergenceWarning: Objective did not converge. You might want to increase the number of iterations. Fitting data with very small alpha may cause precision problems.\n",
      "  ConvergenceWarning)\n"
     ]
    }
   ],
   "source": [
    "from sklearn.linear_model import Lasso\n",
    "from sklearn.feature_selection import SelectFromModel\n",
    "print(newsX.shape)\n",
    "lr = Lasso(alpha=30).fit(newsX, newsY)\n",
    "model = SelectFromModel(lr, prefit=True)\n",
    "newsX_new = model.transform(newsX)\n",
    "print(newsX_new.shape)"
   ]
  },
  {
   "cell_type": "markdown",
   "metadata": {},
   "source": [
    "As an example, we have run Lasso for feature selection using SelectFromModel method from Scikit, We can see that using alpha 30, number of parameters has come down from 53 to 35. As we keep increasing this alpha(lambda) our features will keep reducing."
   ]
  },
  {
   "cell_type": "markdown",
   "metadata": {},
   "source": [
    "But how do we decide what is optimal alpha ? We have the option to use cross validation here , but we can also look it two infromation criterion methods namely AIC and BIC to find the right value of the penalty parameter."
   ]
  },
  {
   "cell_type": "markdown",
   "metadata": {},
   "source": [
    "######  Model selection using Cross Validation / AIC / BIC"
   ]
  },
  {
   "cell_type": "markdown",
   "metadata": {},
   "source": [
    "Use the Akaike information criterion (AIC), the Bayes Information criterion (BIC) and cross-validation to select an optimal value of the regularization parameter alpha of the Lasso estimator.\n",
    "\n",
    "AIC :  1/n((RSS + 2kσˆ2))\n",
    "\n",
    "BIC :  1/n((RSS + log(n)kσˆ2))\n",
    "\n",
    "Where n is the number of variables and RSS is the Residual Sum of Squares.\n",
    "\n",
    "We choose the value of AIC/BIC depending on whichever gives us the lesser value, thus indicating minimum RSS and maximum R-squared.\n",
    "\n",
    "The best model is one that minimizes this trade-off between model error (RSS) and model complexity. For n ≥ 8, log(n) > 2, and so the BIC penalty factor is larger than the AIC penalty factor ⇒ BIC selects smaller models\n",
    "\n",
    "In Python, results obtained with LassoLarsIC are based on AIC/BIC criteria."
   ]
  },
  {
   "cell_type": "code",
   "execution_count": 10,
   "metadata": {},
   "outputs": [
    {
     "name": "stderr",
     "output_type": "stream",
     "text": [
      "/anaconda3/lib/python3.6/site-packages/sklearn/linear_model/least_angle.py:313: ConvergenceWarning: Regressors in active set degenerate. Dropping a regressor, after 58 iterations, i.e. alpha=5.981e-07, with an active set of 52 regressors, and the smallest cholesky pivot element being 5.162e-08. Reduce max_iter or increase eps parameters.\n",
      "  ConvergenceWarning)\n",
      "/anaconda3/lib/python3.6/site-packages/ipykernel_launcher.py:19: RuntimeWarning: divide by zero encountered in log10\n"
     ]
    },
    {
     "data": {
      "image/png": "[encoded data removed]",
      "text/plain": [
       "<matplotlib.figure.Figure at 0x1a21a638d0>"
      ]
     },
     "metadata": {},
     "output_type": "display_data"
    },
    {
     "data": {
      "image/png": "[encoded data removed]",
      "text/plain": [
       "<matplotlib.figure.Figure at 0x112f1f208>"
      ]
     },
     "metadata": {},
     "output_type": "display_data"
    }
   ],
   "source": [
    "import matplotlib.pyplot as plt\n",
    "from sklearn.linear_model import LassoCV, LassoLarsIC\n",
    "\n",
    "# LassoLarsIC: least angle regression with BIC/AIC criterion\n",
    "\n",
    "model_bic = LassoLarsIC(criterion='bic')\n",
    "model_bic.fit(newsX, newsY)\n",
    "alpha_bic = model_bic.alpha_\n",
    "\n",
    "model_aic = LassoLarsIC(criterion='aic')\n",
    "model_aic.fit(newsX, newsY)\n",
    "alpha_aic = model_aic.alpha_\n",
    "\n",
    "#Plot code referenced from scikit-learn website\n",
    "def plot_ic_criterion(model, name, color):\n",
    "    alpha_ = model.alpha_\n",
    "    alphas_ = model.alphas_\n",
    "    criterion_ = model.criterion_\n",
    "    plt.plot(np.log10(alphas_), criterion_, '--', color=color,\n",
    "             linewidth=3, label='%s criterion' % name)\n",
    "    plt.axvline(np.log10(alpha_), color=color, linewidth=3,\n",
    "                label='alpha: %s estimate' % name)\n",
    "    plt.xlabel('log(alpha)')\n",
    "    plt.ylabel('criterion')\n",
    "\n",
    "plt.figure()\n",
    "plot_ic_criterion(model_aic, 'AIC', 'b')\n",
    "plot_ic_criterion(model_bic, 'BIC', 'r')\n",
    "plt.legend()\n",
    "plt.title('IC for model selection')\n",
    "\n",
    "\n",
    "model = LassoCV(cv=10).fit(newsX, newsY)\n",
    "\n",
    "# Display results\n",
    "m_log_alphas = np.log10(model.alphas_)\n",
    "\n",
    "plt.figure()\n",
    "plt.plot(m_log_alphas, model.mse_path_, ':')\n",
    "plt.plot(m_log_alphas, model.mse_path_.mean(axis=-1), 'k',\n",
    "         label='fold average', linewidth=2)\n",
    "plt.axvline(np.log10(model.alpha_), linestyle='--', color='k',\n",
    "            label='alpha: CV estimate')\n",
    "\n",
    "plt.legend()\n",
    "\n",
    "plt.xlabel('log(alpha)')\n",
    "plt.ylabel('Mean square error')\n",
    "plt.title('Mean square error(CV)')\n",
    "plt.axis('tight')\n",
    "\n",
    "plt.show()\n",
    "\n",
    "\n"
   ]
  },
  {
   "cell_type": "markdown",
   "metadata": {},
   "source": [
    "The above graphs represent the two methods to find optimal penalty parameter alpha in each of the folds. The first graph shows how log(alpha) changes using the two information criterion - AIC and BIC. We see as log alpha increases the value decreases. The optimal value for alpha for AIC is lesser than that of BIC, which ties with our explanation that the penalty should increase for BIC when the number of variables increases more than 8.\n",
    "\n",
    "In the second graph , we calculate the mean squared error across different folds. The coloured dotter line represent the MSE across each fold, and the solid black line represents the average MSE across all the folds. The dotted black line represents the optimal value of log alpha by cross validation."
   ]
  },
  {
   "cell_type": "markdown",
   "metadata": {},
   "source": [
    "<b>Note</b> Information-criterion based model selection is very fast, but it relies on a proper estimation of degrees of freedom. They also tend to break when number of features are more than the sample size."
   ]
  },
  {
   "cell_type": "markdown",
   "metadata": {},
   "source": [
    "#### 4) Tree-based feature selection"
   ]
  },
  {
   "cell_type": "markdown",
   "metadata": {},
   "source": [
    "Feature selection can also be applied when we are working with Classification tree and Random Forests. When these models are coupled with SelectFromModel() method, they can help us reduce the number of variables in a tree model.\n",
    "\n",
    "To illustrate in example, we will create a small classification data set similar to our news dataset. Because our dataset was a regression problem, it cannot be used in this problem. We use make_classification() function of sklearn library. We will assume are dataset of 500 items, with 20 predictors and approximately 5 variables as important variables. We are forming a forest using ensemble of 250 fees "
   ]
  },
  {
   "cell_type": "code",
   "execution_count": 11,
   "metadata": {},
   "outputs": [
    {
     "data": {
      "image/png": "[encoded data removed]",
      "text/plain": [
       "<matplotlib.figure.Figure at 0x10c4f1e10>"
      ]
     },
     "metadata": {},
     "output_type": "display_data"
    }
   ],
   "source": [
    "import matplotlib.pyplot as plt\n",
    "from sklearn.datasets import make_classification\n",
    "from sklearn.ensemble import ExtraTreesClassifier\n",
    "\n",
    "X, y = make_classification(n_samples=500,\n",
    "                           n_features=20,\n",
    "                           n_informative=5,\n",
    "                           n_redundant=0,\n",
    "                           n_repeated=0,\n",
    "                           n_classes=2,\n",
    "                           shuffle=False)\n",
    "\n",
    "# Build a forest and compute the feature importances\n",
    "forest = ExtraTreesClassifier(n_estimators=250,\n",
    "                              random_state=0)\n",
    "\n",
    "forest.fit(X, y)\n",
    "importances = forest.feature_importances_\n",
    "std = np.std([tree.feature_importances_ for tree in forest.estimators_],\n",
    "             axis=0)\n",
    "indices = np.argsort(importances)[::-1]\n",
    "\n",
    "# Plot the feature importances of the forest\n",
    "plt.figure()\n",
    "plt.title(\"Tree Features\")\n",
    "plt.bar(range(X.shape[1]), importances[indices],\n",
    "       color=\"b\", yerr=std[indices], align=\"center\")\n",
    "plt.xticks(range(X.shape[1]), indices)\n",
    "plt.show()"
   ]
  },
  {
   "cell_type": "markdown",
   "metadata": {},
   "source": [
    "We can see that the 5 variables are marked significantly higher than the trest of the variables. So we can say that the variable 0-4 are more significant than the other variables in our model. The black bars on the bar chart represent the confidence interval of each of the bars. We can use this on any of the classification tree and random forest to find out important features to be chosen for the model."
   ]
  },
  {
   "cell_type": "markdown",
   "metadata": {},
   "source": [
    "### Limitations"
   ]
  },
  {
   "cell_type": "markdown",
   "metadata": {},
   "source": [
    "<ul>\n",
    "<li>Most of the methods do work in most of the cases, but we have to be careful about the number of records to and the number of features. Models might not be able to train well enough if we have very few records. Few of these stepwise variable selection models also require that the number of rows should be more than the number of predictors else the model is not trained well enough to differentiate between predictive powers of the features.\n",
    "\n",
    "<li>You also have to be careful about classification/regression models. While most of the models do have variations of the methods to be applied for both kind of machine learning problems, the syntax and the calls might differ.\n",
    "\n",
    "<li>There might be some pre processing required before we could feed the data into these modls, Some of the model might need the categorical variables (eg season, months) to be converted into their numerical levels."
   ]
  },
  {
   "cell_type": "markdown",
   "metadata": {},
   "source": [
    "### Conclusions"
   ]
  },
  {
   "cell_type": "markdown",
   "metadata": {},
   "source": [
    "Feature selection is becoming an important part of implemnting machine learning algorithm. With increasing number of predictors we must restrict our model to only relevant and high predicting variables. The step before model selection is identifying what problem you are dealing with , regression or classification as we have methods avaible for models pertaining to both the tasks. You also need to decide the statstical parameter you need to gauge your model on. For regression tasks you will have options like MSE, RSS , Rsquared and for classification you could choose between accuracy, sensitivity , ROC and false positive rates etc.\n",
    "\n",
    "You would see that the best fit models (ie model with right number of variables) will always have better predictive power and better accuracy than large uncontained models. This is because the predictive pwoer is not spread across corelated variables so you get the true representation of your model."
   ]
  },
  {
   "cell_type": "markdown",
   "metadata": {},
   "source": [
    "### References"
   ]
  },
  {
   "cell_type": "markdown",
   "metadata": {},
   "source": [
    "<ul>\n",
    "<li> Wikipedia: www.wikipedia.org\n",
    "<li> Scikit-Learn : www.scikit-learn.org\n",
    "<li> Stack Exchange : www.stats.stackexchange.com\n",
    "<li> Reddit: www.reddit.com/r/statistics\n",
    "<li> Machine Learning Mastery : www.machinelearningmastery.com\n",
    "<li> Stack Overflow : www.stackoverflow.com\n",
    "<li> Alexandra Chouldechova - Data Mining - Carnegie Mellon University"
   ]
  }
 ],
 "metadata": {
  "kernelspec": {
   "display_name": "Python 3",
   "language": "python",
   "name": "python3"
  },
  "language_info": {
   "codemirror_mode": {
    "name": "ipython",
    "version": 3
   },
   "file_extension": ".py",
   "mimetype": "text/x-python",
   "name": "python",
   "nbconvert_exporter": "python",
   "pygments_lexer": "ipython3",
   "version": "3.6.3"
  }
 },
 "nbformat": 4,
 "nbformat_minor": 2
}
