{
 "cells": [
  {
   "cell_type": "markdown",
   "metadata": {},
   "source": [
    "Pratical Data Science Tutorial Project"
   ]
  },
  {
   "cell_type": "markdown",
   "metadata": {},
   "source": [
    "# pybedtools Tutorial"
   ]
  },
  {
   "cell_type": "markdown",
   "metadata": {},
   "source": [
    "## Introduction\n",
    "\n",
    "With the development of technology, biology is has been greatly affected by this change, allowing us to use computational models and techniques to further advance the field. One area of the field that is influenced by this change is genomics, which is the study of the collective interaction of the DNA and genes of an organism on a broader level. This is not to be confused with genetics, which looks at the effects of indivudal genes. \n",
    "\n",
    "`bedtools` is a revolutionary shell scripting toolset which allows for genome arthimatic and calculations. On their website, they refer it as a *\"swiss-army knife of tools for a wide-range of genomics analysis tasks\"*. This package is used by many from various disciplines for quick and efficient analysis. \n",
    "\n",
    "`pybedtools` is essentially a wrapper for `bedtools` in *Python*. You might be wondering now, *\"`bedtools` is powerful, efficient, and easy to use using command line and `bash`. Why do we even need a Python version?\"* Well, some might agree with this statement. However, that is not entirely the case. `pybedtools` allows for seemless integration of the `bedtools` toolset to Python, which is a language that many poeple know and understand well. This allows users to not know the intricacies of other shell scripting and programming language, such as `Perl`, `bash`, `awk`, which needed for more complicated uses of the package. Even better, run time is conserved for both `pybedtools` and `bedtools`. AWESOME!!!\n",
    "\n",
    "This tutorial will overview the basic, but important, methods and examples of genome analysis using the various functions of `pybedtools`. "
   ]
  },
  {
   "cell_type": "markdown",
   "metadata": {},
   "source": [
    "## Installing the Libraries\n",
    "\n",
    "In order to use `pybedtools`, `bedtools` must also be installed locally on the computer. There are many methods to install `bedtools`. Installing directly from GitHub is a popular and recommended option: https://github.com/arq5x/bedtools2. \n",
    "\n",
    "However, instructions for other methods can also be found here: http://bedtools.readthedocs.io/en/latest/content/installation.html.\n",
    "\n",
    "To install `pybedtools`, `pip` can be used:"
   ]
  },
  {
   "cell_type": "raw",
   "metadata": {},
   "source": [
    "pip install pybedtools"
   ]
  },
  {
   "cell_type": "markdown",
   "metadata": {},
   "source": [
    "To make sure the packages are installed properly, make sure the following command work properly:"
   ]
  },
  {
   "cell_type": "code",
   "execution_count": 1,
   "metadata": {
    "collapsed": true
   },
   "outputs": [],
   "source": [
    "import pybedtools "
   ]
  },
  {
   "cell_type": "markdown",
   "metadata": {},
   "source": [
    "## Loading the Sample Data\n",
    "\n",
    "To describe the basic `bedtools` functions, we will be using sample data provided by the `pybedtools` library. The file format that we will use initially is called `bed`. This file type is used to store instances of genome sequences from chromosomes of humans, mice, rats, etc. \n",
    "\n",
    "At the very least, these files store intervals of genome sequences that have three fields: the chromosome number (*chr#*), the start position of the feature, and the end position of the feature. However, more features can be stored, including the name of the feature, the score, and the direction of the strand. For more information, please visit: https://useast.ensembl.org/info/website/upload/bed.html\n",
    "\n",
    "The following shows how to extract the example files, and how the `bed` sample data is formatted. We use the function, `example_bedtool`, because the file is an example stored within the library; however, to access files that are not in the library, the function `BedTool` suffices. "
   ]
  },
  {
   "cell_type": "code",
   "execution_count": 2,
   "metadata": {},
   "outputs": [
    {
     "name": "stdout",
     "output_type": "stream",
     "text": [
      "<class 'pybedtools.bedtool.BedTool'>\n",
      "chr1\t1\t100\tfeature1\t0\t+\n",
      "chr1\t100\t200\tfeature2\t0\t+\n",
      "chr1\t150\t500\tfeature3\t0\t-\n",
      "chr1\t900\t950\tfeature4\t0\t+\n",
      "\n",
      "chr1\t155\t200\tfeature5\t0\t-\n",
      "chr1\t800\t901\tfeature6\t0\t+\n",
      "\n",
      "chr1\t155\t200\tfeature5\t0\t-\n",
      "\n"
     ]
    }
   ],
   "source": [
    "a = pybedtools.example_bedtool('a.bed')\n",
    "b = pybedtools.example_bedtool('b.bed')\n",
    "print(type(a))\n",
    "print(a)\n",
    "print(b)\n",
    "print(b[0])"
   ]
  },
  {
   "cell_type": "markdown",
   "metadata": {},
   "source": [
    "We see here that there are three fields in addition to the three required fields, which are described above. Even though the output is a `BedTool` object, we can call extract each line individual for element extraction (for parsing through files).\n",
    "\n",
    "There are also other file types that many of the functions that `bedtools` and `pybedtools` can be use, including `vcf` and `fasta`. However, for the purposes of this tutorial, `bed` files will be used for the function examples. "
   ]
  },
  {
   "cell_type": "markdown",
   "metadata": {},
   "source": [
    "## Essential `bedtools` Functions and Examples\n",
    "\n",
    "In this section, we will discuss many important `bedtools` functions, their implementation in `pybedtools`, and some examples. \n",
    "\n",
    "Note: For this section, file `A` refers to `a.bed` and file `B` refers to `b.bed`. "
   ]
  },
  {
   "cell_type": "markdown",
   "metadata": {},
   "source": [
    "### Intersect\n",
    "\n",
    "`Intersect` is the epitome and one of the most powerful functions of `bedtools`. Given two `bed` files, it outputs all the regions where the features overlap. "
   ]
  },
  {
   "cell_type": "code",
   "execution_count": 3,
   "metadata": {},
   "outputs": [
    {
     "name": "stdout",
     "output_type": "stream",
     "text": [
      "chr1\t100\t200\tfeature2\t0\t+\n",
      "chr1\t150\t500\tfeature3\t0\t-\n",
      "chr1\t900\t950\tfeature4\t0\t+\n",
      "\n",
      "chr1\t155\t200\tfeature2\t0\t+\n",
      "chr1\t155\t200\tfeature3\t0\t-\n",
      "chr1\t900\t901\tfeature4\t0\t+\n",
      "\n"
     ]
    }
   ],
   "source": [
    "a_with_b = a.intersect(b, u = True)\n",
    "a_with_not_b = a.intersect(b)\n",
    "print(a_with_b)\n",
    "print(a_with_not_b)"
   ]
  },
  {
   "cell_type": "markdown",
   "metadata": {},
   "source": [
    "We see that the value of the `u` parameter is important. When `u` is `True`, it outputs the intersection of `A` with respect to `B`. Thus, we see all the values of `A`, but only those that are included in to some extent in `B`. For more clarification, `(100,200)`, the first data point, is not in the true intersection between `A` and `B`, as it should be `(155,200)`. But, since this range in `A` is a part of `B`, it includes all of `A`. However, it does not include `(1,100)`, because none of those values are within any ranges in `B`. On the other hand, when `u` is not defined (`False`), the result is the true intersection between `A` and `B`."
   ]
  },
  {
   "cell_type": "markdown",
   "metadata": {},
   "source": [
    "### Merge\n",
    "\n",
    "Merge allows us to merge any overlapping regions within a file. We introduce the argument `s`, which is common for most functions. `s` determines whether to take into account the specific strand direction, and evaluates the function seperating the strands. Hence, this is why we see `(150,500)` when `s = True`."
   ]
  },
  {
   "cell_type": "code",
   "execution_count": 4,
   "metadata": {},
   "outputs": [
    {
     "name": "stdout",
     "output_type": "stream",
     "text": [
      "chr1\t1\t500\n",
      "chr1\t900\t950\n",
      "\n",
      "chr1\t1\t200\n",
      "chr1\t150\t500\n",
      "chr1\t900\t950\n",
      "\n"
     ]
    }
   ],
   "source": [
    "a_merge = a.merge()\n",
    "a_merge_strand = a.merge(s = True)\n",
    "print(a_merge)\n",
    "print(a_merge_strand)"
   ]
  },
  {
   "cell_type": "markdown",
   "metadata": {},
   "source": [
    "### Subtract\n",
    "\n",
    "Given `A` and `B`, `subtract` allows us to remove any sequences of `B` in `A`. An additional example is also provided  to demonstrate the `s` parameter. "
   ]
  },
  {
   "cell_type": "code",
   "execution_count": 5,
   "metadata": {},
   "outputs": [
    {
     "name": "stdout",
     "output_type": "stream",
     "text": [
      "chr1\t1\t100\tfeature1\t0\t+\n",
      "chr1\t100\t155\tfeature2\t0\t+\n",
      "chr1\t150\t155\tfeature3\t0\t-\n",
      "chr1\t200\t500\tfeature3\t0\t-\n",
      "chr1\t901\t950\tfeature4\t0\t+\n",
      "\n",
      "chr1\t1\t100\tfeature1\t0\t+\n",
      "chr1\t100\t200\tfeature2\t0\t+\n",
      "chr1\t150\t155\tfeature3\t0\t-\n",
      "chr1\t200\t500\tfeature3\t0\t-\n",
      "chr1\t901\t950\tfeature4\t0\t+\n",
      "\n"
     ]
    }
   ],
   "source": [
    "a_subtract_b = a.subtract(b)\n",
    "a_subtract_b_strand = a.subtract(b, s = True)\n",
    "print(a_subtract_b)\n",
    "print(a_subtract_b_strand)"
   ]
  },
  {
   "cell_type": "markdown",
   "metadata": {},
   "source": [
    "### Complement\n",
    "\n",
    "`Complement` takes the opposite intervals from the input file. \n",
    "\n",
    "The `genome` parameter is necessary for this function. The genome field specifies the genome species and version. For example, `hg38`: `hg` refers to the human genome, and `38` is the human reference genome number. Another example is `mm10`, which refers to the `mice` reference genome number `10`. Below, we see that the there are differences in the output for the three genomes, even between the two human genomes. This is because the genomes are different between animals and are constantly updated. Thus, this field is important when working with functions that require information that is not provided through the current file."
   ]
  },
  {
   "cell_type": "code",
   "execution_count": 6,
   "metadata": {},
   "outputs": [
    {
     "name": "stdout",
     "output_type": "stream",
     "text": [
      "chr1\t0\t1\n",
      " chr1\t500\t900\n",
      " chr1\t950\t248956422\n",
      " chr10\t0\t133797422\n",
      " chr10_GL383545v1_alt\t0\t179254\n",
      " \n",
      "\n",
      "chr1\t0\t1\n",
      " chr1\t500\t900\n",
      " chr1\t950\t249250621\n",
      " chr10\t0\t135534747\n",
      " chr11\t0\t135006516\n",
      " \n",
      "\n",
      "chr1\t0\t1\n",
      " chr1\t500\t900\n",
      " chr1\t950\t195471971\n",
      " chr10\t0\t130694993\n",
      " chr11\t0\t122082543\n",
      " "
     ]
    }
   ],
   "source": [
    "a_complement_hg38 = a.complement(genome = \"hg38\")\n",
    "a_complement_hg19 = a.complement(genome = \"hg19\")\n",
    "a_complement_mm = a.complement(genome = \"mm10\")\n",
    "a_complement_hg38.head(5)\n",
    "print(\"\\n\")\n",
    "a_complement_hg19.head(5)\n",
    "print(\"\\n\")\n",
    "a_complement_mm.head(5)"
   ]
  },
  {
   "cell_type": "markdown",
   "metadata": {},
   "source": [
    "### Closest\n",
    "\n",
    "Given `A` and `B`, `closest` returns the nearest features of `B` to `A`. Below is an example from the sample data."
   ]
  },
  {
   "cell_type": "code",
   "execution_count": 7,
   "metadata": {},
   "outputs": [
    {
     "name": "stdout",
     "output_type": "stream",
     "text": [
      "chr1\t1\t100\tfeature1\t0\t+\tchr1\t800\t901\tfeature6\t0\t+\t701\n",
      "chr1\t100\t200\tfeature2\t0\t+\tchr1\t800\t901\tfeature6\t0\t+\t601\n",
      "chr1\t150\t500\tfeature3\t0\t-\tchr1\t155\t200\tfeature5\t0\t-\t0\n",
      "chr1\t900\t950\tfeature4\t0\t+\tchr1\t800\t901\tfeature6\t0\t+\t0\n",
      "\n"
     ]
    }
   ],
   "source": [
    "a_closest_b = a.closest(b, s = True, d = True)\n",
    "print(a_closest_b)"
   ]
  },
  {
   "cell_type": "markdown",
   "metadata": {},
   "source": [
    "The `d` parameter (specific to `closest`) introduces another column to the output which calculates the distance from the original feature to the nearest feature. This can be helpful in filtering out sequences that are too either close or too far from each other."
   ]
  },
  {
   "cell_type": "markdown",
   "metadata": {},
   "source": [
    "### Sort\n",
    "\n",
    "`Sort` is an important tool because it can sort input file based on many arguments, which are but not limited to:\n",
    "* No arguments = sort by starting position\n",
    "* `-size D` = sort by descending length\n",
    "* `-size A` = sort by ascending length\n",
    "* `-chrThenSizeD` = sort by chromosome than by descending length\n",
    "* `-chrThenSizeA` = sort by chromosome than by ascending length\n",
    "* `-faidx (names.txt)` = sort chromsomes by a file with the name `names.txt`\n",
    "\n",
    "One thing to note is that chromsome storing is lexicographical. In order to bypass this, the last argument above can be used. As `A` and `B` are both sorted, we will use the `a_complement_hg38` stored previously to demonstrate this function below."
   ]
  },
  {
   "cell_type": "code",
   "execution_count": 8,
   "metadata": {},
   "outputs": [
    {
     "name": "stdout",
     "output_type": "stream",
     "text": [
      "chr1\t0\t1\n",
      " chr1\t500\t900\n",
      " chr1\t950\t248956422\n",
      " chr10\t0\t133797422\n",
      " chr10_GL383545v1_alt\t0\t179254\n",
      " \n",
      "\n",
      "chr1\t950\t248956422\n",
      " chr2\t0\t242193529\n",
      " chr3\t0\t198295559\n",
      " chr4\t0\t190214555\n",
      " chr5\t0\t181538259\n",
      " \n",
      "\n",
      "chr1\t0\t1\n",
      " chr1\t500\t900\n",
      " chrUn_KI270394v1\t0\t970\n",
      " chrUn_KI270392v1\t0\t971\n",
      " chrUn_KI270423v1\t0\t981\n",
      " \n",
      "\n",
      "chr1\t950\t248956422\n",
      " chr1\t500\t900\n",
      " chr1\t0\t1\n",
      " chr10\t0\t133797422\n",
      " chr10_GL383545v1_alt\t0\t179254\n",
      " "
     ]
    }
   ],
   "source": [
    "a_complement_hg38.sort().head(5)\n",
    "print(\"\\n\")\n",
    "a_complement_hg38.sort(sizeD = True).head(5)\n",
    "print(\"\\n\")\n",
    "a_complement_hg38.sort(sizeA = True).head(5)\n",
    "print(\"\\n\")\n",
    "a_complement_hg38.sort(chrThenSizeD = True).head(5)"
   ]
  },
  {
   "cell_type": "markdown",
   "metadata": {},
   "source": [
    "### Slop\n",
    "\n",
    "Given an input file `A`, `slop` allows us to increase the read range of the algorithm by a certain value. Below is an example from the sample data, where we increase the reads in each direction by a value of `100`."
   ]
  },
  {
   "cell_type": "code",
   "execution_count": 9,
   "metadata": {},
   "outputs": [
    {
     "name": "stdout",
     "output_type": "stream",
     "text": [
      "chr1\t0\t200\tfeature1\t0\t+\n",
      "chr1\t0\t300\tfeature2\t0\t+\n",
      "chr1\t50\t600\tfeature3\t0\t-\n",
      "chr1\t800\t1050\tfeature4\t0\t+\n",
      "\n"
     ]
    }
   ],
   "source": [
    "a_extended_hg = a.slop(b=100, genome='hg19') #The genome parameter is required. \n",
    "print(a_extended_hg)"
   ]
  },
  {
   "cell_type": "markdown",
   "metadata": {},
   "source": [
    "### Genomecov\n",
    "\n",
    "Another function is `genomecov`, which computes the frequency of each interval in the given file. "
   ]
  },
  {
   "cell_type": "code",
   "execution_count": 10,
   "metadata": {
    "scrolled": true
   },
   "outputs": [
    {
     "name": "stdout",
     "output_type": "stream",
     "text": [
      "chr1\t1\t150\t1\n",
      " chr1\t150\t200\t2\n",
      " chr1\t200\t500\t1\n",
      " chr1\t900\t950\t1\n",
      " "
     ]
    }
   ],
   "source": [
    "a_gencov = a.genome_coverage(bg = True, genome ='hg19') #The genome parameter is required. \n",
    "a_gencov.head()"
   ]
  },
  {
   "cell_type": "markdown",
   "metadata": {},
   "source": [
    "## The Genome File Types and Conversions\n",
    "\n",
    "One of the most annoying, yet common, theme about genomes file is that there are many different file types to store information. Though, these file types are useful for their specific purposes, there are many times where it is needed to convert between file types. This section describes other common file types, outside of `bed`, which are important. "
   ]
  },
  {
   "cell_type": "markdown",
   "metadata": {},
   "source": [
    "### VCF\n",
    "\n",
    "VCF is an text file type that is commonly used to store variant/mutation information. Each line stores the chromosome number, position, the reference allele, the alternate allels, the quality of the reads. For more information: http://www.internationalgenome.org/wiki/Analysis/Variant%20Call%20Format/vcf-variant-call-format-version-40/."
   ]
  },
  {
   "cell_type": "code",
   "execution_count": 11,
   "metadata": {},
   "outputs": [
    {
     "name": "stdout",
     "output_type": "stream",
     "text": [
      "#CHROM  POS ID  REF ALT QUAL    FILTER  INFO\n",
      "chr1\t14\trs6054257\tG\tA\t29\tPASS\tNS=3;DP=14;AF=0.5;DB;H2\tGT:GQ:DP:HQ\t0|0:48:1:51,51\t1|0:48:8:51,51\t1/1:43:5:.,.\n",
      "chr1\t17\t.\tT\tA\t3\tq10\tNS=3;DP=11;AF=0.017\tGT:GQ:DP:HQ\t0|0:49:3:58,50\t0|1:3:5:65,3\t0/0:41:3\n",
      "chr1\t111\trs6040355\tA\tG,T\t67\tPASS\tNS=2;DP=10;AF=0.333,0.667;AA=T;DB\tGT:GQ:DP:HQ\t1|2:21:6:23,27\t2|1:2:0:18,2\t2/2:35:4\n",
      "chr1\t223\t.\tT\t.\t47\tPASS\tNS=3;DP=13;AA=T\tGT:GQ:DP:HQ\t0|0:54:7:56,60\t0|0:48:4:51,51\t0/0:61:2\n",
      "chr1\t294\tmicrosat1\tGTCT\tG,GTACT\t50\tPASS\tNS=3;DP=9;AA=G\tGT:GQ:DP\t0/1:35:4\t0/2:17:2\t1/1:40:3\n",
      "\n"
     ]
    }
   ],
   "source": [
    "v = pybedtools.example_bedtool('v.vcf')\n",
    "print(\"#CHROM  POS ID  REF ALT QUAL    FILTER  INFO\") # Just useful to look at the structure of the VCF file\n",
    "print(v)"
   ]
  },
  {
   "cell_type": "markdown",
   "metadata": {},
   "source": [
    "### FASTA\n",
    "\n",
    "The `fasta` file type, which stores the actual sequence of the interval in nucleotide base pairs (`A`,`T`,`G`,`C`). Below is an example of how we extract the `fasta` file from a `bed` file using the function `seqence`, which is the wrapper for the `bedtools` function `getfasta`. We use the argument, `fi`, to specify the input `fasta` file."
   ]
  },
  {
   "cell_type": "code",
   "execution_count": 12,
   "metadata": {},
   "outputs": [
    {
     "name": "stdout",
     "output_type": "stream",
     "text": [
      ">chr1:1-100\n",
      "GATGAGTCTGCATGATTTTTATCTTAAATAAATCTGACCCAGGCTGCATCCATCCTGTTCTGACAGTAGAAAGGCATACACACTTTTACTTAAAGCTTT\n",
      ">chr1:100-200\n",
      "CATATCTAAAATTGATGGGACATCTGAAAATAAGGGAATTGGGTATATGAAAAGATCCTTTAAAAAACTGCTCTCATCTTTCACATTATCTTCTTTTTAA\n",
      ">chr1:150-500\n",
      "AAAGATCCTTTAAAAAACTGCTCTCATCTTTCACATTATCTTCTTTTTAACTAAGTGCAATACAGTGAACAGCAAAATAGCAGCATTTTTAGAGCAACCATTGGGGAAAATTCTTAGATCAGGGGACCTGCTGTCCTGACAGAGTCTATATTCGGCCAGCAAAGGCTCCCTAAATGTGTATCTGAGACTTATTTGAAAACAAGTCACCATAGTACTGAGTACTGAATTGAGTGGCAAACACTCCACTTGCAGTCAATGAAAATCCAATTACACAATATACACAAAGAGATGACCAAGAAAAACATGATTTAAAATTATACTGACAAAAACTAAAATCATATGAAGTAAAA\n",
      ">chr1:900-950\n",
      "TATGCCCTTTGCAGAAAAGAGTGAATTGGTGTCAAATTTGGGTTGATTAC\n",
      "\n"
     ]
    }
   ],
   "source": [
    "fasta = pybedtools.example_filename('test.fa')\n",
    "a_fasta = a.sequence(fi=fasta)\n",
    "print(open(a_fasta.seqfn).read())"
   ]
  },
  {
   "cell_type": "markdown",
   "metadata": {},
   "source": [
    "Each new sequence is started with `>`, followed by a header, which is seperated by `:`. Here, we see that the chromosome number and the sequence information is stored. The `strand` field is important (shown below) because the sequence of amino acids is opposite for the `+` and `-` strands (the nucleotide bases `A` binds with `T` and `G` binds with `C`). Below, force strandness does output the opposite result for the interval between 150 and 500. "
   ]
  },
  {
   "cell_type": "code",
   "execution_count": 13,
   "metadata": {},
   "outputs": [
    {
     "name": "stdout",
     "output_type": "stream",
     "text": [
      ">chr1:1-100(+)\n",
      "GATGAGTCTGCATGATTTTTATCTTAAATAAATCTGACCCAGGCTGCATCCATCCTGTTCTGACAGTAGAAAGGCATACACACTTTTACTTAAAGCTTT\n",
      ">chr1:100-200(+)\n",
      "CATATCTAAAATTGATGGGACATCTGAAAATAAGGGAATTGGGTATATGAAAAGATCCTTTAAAAAACTGCTCTCATCTTTCACATTATCTTCTTTTTAA\n",
      ">chr1:150-500(-)\n",
      "TTTTACTTCATATGATTTTAGTTTTTGTCAGTATAATTTTAAATCATGTTTTTCTTGGTCATCTCTTTGTGTATATTGTGTAATTGGATTTTCATTGACTGCAAGTGGAGTGTTTGCCACTCAATTCAGTACTCAGTACTATGGTGACTTGTTTTCAAATAAGTCTCAGATACACATTTAGGGAGCCTTTGCTGGCCGAATATAGACTCTGTCAGGACAGCAGGTCCCCTGATCTAAGAATTTTCCCCAATGGTTGCTCTAAAAATGCTGCTATTTTGCTGTTCACTGTATTGCACTTAGTTAAAAAGAAGATAATGTGAAAGATGAGAGCAGTTTTTTAAAGGATCTTT\n",
      ">chr1:900-950(+)\n",
      "TATGCCCTTTGCAGAAAAGAGTGAATTGGTGTCAAATTTGGGTTGATTAC\n",
      "\n"
     ]
    }
   ],
   "source": [
    "a_fasta_strand = a.sequence(fi=fasta, s = True)\n",
    "print(open(a_fasta_strand.seqfn).read())"
   ]
  },
  {
   "cell_type": "markdown",
   "metadata": {},
   "source": [
    "## Example Application: Promoters affected by SNPs\n",
    "\n",
    "Now, we are ready to do some heavy genome arthimatic and use the full force if `pybedtools`! In this final section, we will use what we have learned, and then some, to find some cool results. \n",
    "\n",
    "Our goal is figure out the concentration of SNPs (single nucleotide polymorphisms/mutations) that are near DNA promotor binding sites. Even one amino acid mutation can change the affinity of the protein binding to the bind site, modifying this entire pathway. Let us see what happens!"
   ]
  },
  {
   "cell_type": "markdown",
   "metadata": {},
   "source": [
    "### Loading the Data\n",
    "\n",
    "For this example, download the files from this folder to the same directory as this notebook: https://drive.google.com/drive/folders/1zs2YkDd--BR2PpeDAX4WkPl3Gu-1vi-o?usp=sharing"
   ]
  },
  {
   "cell_type": "code",
   "execution_count": 14,
   "metadata": {
    "collapsed": true
   },
   "outputs": [],
   "source": [
    "from pybedtools import BedTool\n",
    "chromHmm = BedTool('hesc.chromHmm.bed')\n",
    "promoter = BedTool('RefGene_hg38_wg_reg.bed')\n",
    "exons = BedTool('hg38_exons.bed')\n",
    "vcf = BedTool('test1_truth.vcf')"
   ]
  },
  {
   "cell_type": "markdown",
   "metadata": {},
   "source": [
    "The *`chromHmm`* file is the genome split into regions that describe what each regions does. The *`promotor`* and *`exon`* files is the location of all promotors and exons in the genome. The *`vcf`* file is the mutations at each location. Below is some example output to show the structure of these files.\n",
    "\n",
    "Note: The *`vcf`* file contains only sample mutations. The actual files are too large for our purposes."
   ]
  },
  {
   "cell_type": "code",
   "execution_count": 15,
   "metadata": {},
   "outputs": [
    {
     "name": "stdout",
     "output_type": "stream",
     "text": [
      "chr1\t10000\t10600\t15_Repetitive/CNV\n",
      " chr1\t10600\t11137\t13_Heterochrom/lo\n",
      " chr1\t11137\t11537\t8_Insulator\n",
      " "
     ]
    }
   ],
   "source": [
    "chromHmm.head(3)"
   ]
  },
  {
   "cell_type": "code",
   "execution_count": 16,
   "metadata": {},
   "outputs": [
    {
     "name": "stdout",
     "output_type": "stream",
     "text": [
      "chr1\t201283451\t201332993\tNM_000299\t0\t+\n",
      " chr1\t67092175\t67134971\tNM_001276352\t0\t-\n",
      " chr1\t67092175\t67134971\tNM_001276351\t0\t-\n",
      " "
     ]
    }
   ],
   "source": [
    "promoter.head(3)"
   ]
  },
  {
   "cell_type": "code",
   "execution_count": 17,
   "metadata": {},
   "outputs": [
    {
     "name": "stdout",
     "output_type": "stream",
     "text": [
      "chr1\t67092175\t67093604\tNR_075077_exon_0_0_chr1_67092176_r\t0\t-\n",
      " chr1\t67096251\t67096321\tNR_075077_exon_1_0_chr1_67096252_r\t0\t-\n",
      " chr1\t67103237\t67103382\tNR_075077_exon_2_0_chr1_67103238_r\t0\t-\n",
      " "
     ]
    }
   ],
   "source": [
    "exons.head(3)"
   ]
  },
  {
   "cell_type": "code",
   "execution_count": 18,
   "metadata": {},
   "outputs": [
    {
     "name": "stdout",
     "output_type": "stream",
     "text": [
      "1\t1168006\t.\tC\tG\t100\tPASS\t.\tGT\t0|1\n",
      " 1\t1168010\t.\tGA\tG\t100\tPASS\t.\tGT\t0|1\n",
      " 1\t1273408\t.\tC\tA\t100\tPASS\t.\tGT\t0|1\n",
      " "
     ]
    }
   ],
   "source": [
    "vcf.head(3)"
   ]
  },
  {
   "cell_type": "markdown",
   "metadata": {},
   "source": [
    "### Subtract the Exons from the Promotor Sequences \n",
    "\n",
    "At an extremly high level, DNA is transcripted and translated to RNA to create protein. In order for this process to start, a protein needs to bind to the DNA for transcription to start. This binding site on the DNA is called a ***promoter***. Because this binding site is not necessary for created protein, during the processing stage before translation, non-coding regions (introns) are removed and coding regions (***exons***) are preserved.\n",
    "\n",
    "Because the promoter regions are difficult to define without additional informations, we will define it as the regions that are `-500` upstream base pairs from the transcriptional start site (*r = 500, l = 0*). Thus, we can have accurate results when we intersect it with the ***chromHmm*** file. Then, we keep the intervals feature that are promotors. "
   ]
  },
  {
   "cell_type": "code",
   "execution_count": 19,
   "metadata": {},
   "outputs": [
    {
     "name": "stdout",
     "output_type": "stream",
     "text": [
      "chr1\t11873\t12227\n",
      " chr1\t12612\t12721\n",
      " chr1\t13220\t14829\n",
      " "
     ]
    }
   ],
   "source": [
    "exons_sorted = exons.sort()\n",
    "exons_sorted_merge = exons_sorted.merge()\n",
    "exons_sorted_merge.head(3)"
   ]
  },
  {
   "cell_type": "code",
   "execution_count": 20,
   "metadata": {},
   "outputs": [],
   "source": [
    "promoter = promoter.sort()\n",
    "promoter_slop = promoter.slop(r = 500, l = 0, s = True, genome='hg38')\n",
    "chromHmm_promoter = chromHmm.intersect(promoter_slop).sort()"
   ]
  },
  {
   "cell_type": "code",
   "execution_count": 21,
   "metadata": {},
   "outputs": [
    {
     "name": "stdout",
     "output_type": "stream",
     "text": [
      "chr1\t11873\t11937\t11_Weak_Txn\n",
      " chr1\t11937\t12137\t14_Repetitive/CNV\n",
      " chr1\t12137\t14137\t11_Weak_Txn\n",
      " "
     ]
    }
   ],
   "source": [
    "chromHmm_promoter_noexons = chromHmm_promoter.subtract(exons, s = True)\n",
    "chromHmm_promoter_noexons.head(3)"
   ]
  },
  {
   "cell_type": "code",
   "execution_count": 22,
   "metadata": {},
   "outputs": [
    {
     "name": "stdout",
     "output_type": "stream",
     "text": [
      "chr1\t27737\t28537\t2_Weak_Promoter\n",
      " chr1\t28537\t29370\t1_Active_Promoter\n",
      " chr1\t30537\t30737\t3_Poised_Promoter\n",
      " chr1\t839337\t841137\t3_Poised_Promoter\n",
      " chr1\t855737\t857137\t3_Poised_Promoter\n",
      " "
     ]
    }
   ],
   "source": [
    "# Take only the intervals that are promoters\n",
    "def seperate_promoters(bed_lines):\n",
    "    lines = []\n",
    "    for bed in bed_lines:\n",
    "        line = bed.fields\n",
    "        if (line[3].find(\"Promoter\") != -1):\n",
    "            new_line = \"\\t\".join(line)\n",
    "            if new_line not in lines:\n",
    "                lines.append(\"\\t\".join(line))\n",
    "    return lines  \n",
    "\n",
    "seperate_result = seperate_promoters(chromHmm_promoter_noexons)\n",
    "chromHmm_promoter_noexons_filtered = pybedtools.BedTool(\"\\n\".join(seperate_result), from_string = True)\n",
    "chromHmm_promoter_noexons_filtered.head(5)"
   ]
  },
  {
   "cell_type": "markdown",
   "metadata": {},
   "source": [
    "### Seperate Categorize Mutations \n",
    "\n",
    "Below, we seperate the variants in ***vcf*** file into different mutation types."
   ]
  },
  {
   "cell_type": "code",
   "execution_count": 23,
   "metadata": {},
   "outputs": [],
   "source": [
    "# Header is required for VCF files\n",
    "header = \"\"\"##fileformat=VCFv4.0\n",
    "##fileDate=Jun 29, 2010\n",
    "##INFO=<ID=NS,Number=1,Type=Integer>\n",
    "##INFO=<ID=DP,Number=1,Type=Integer>\n",
    "##INFO=<ID=AC,Number=1,Type=Integer>\n",
    "##INFO=<ID=AN,Number=1,Type=Integer>\n",
    "##FORMAT=<ID=GT,Number=1,Type=String,Description=\"Genotype\">\n",
    "##FORMAT=<ID=VR,Number=1,Type=Integer,Description=\"Number of variant reads\">\n",
    "##FORMAT=<ID=DP,Number=1,Type=Integer,Description=\"Read Depth\">\n",
    "##FORMAT=<ID=FT,Number=.,Type=String,Description=\"Filter\">\n",
    "##FILTER=<ID=atlas>\n",
    "#CHROM  POS ID  REF ALT QUAL    FILTER  INFO\"\"\"\n",
    "\n",
    "#Check if the variant type is a repeat (duplication and repeats)\n",
    "def check_repeat(ref, alt):\n",
    "    if (len(alt) % len(ref) != 0): return (False, 0)\n",
    "    for base in range(len(alt)):\n",
    "        if (ref[base % len(ref)] != alt[base]): return (False, 0)\n",
    "    return (True, len(alt)/len(ref))\n",
    "\n",
    "#Check if the variant type is a deletion and insertion\n",
    "def check_delins(ref, alt):\n",
    "    if (len(ref) > len(alt)): a,b = ref,alt\n",
    "    else: a,b = alt,ref\n",
    "    for base in range(len(b)):\n",
    "        if (b[base] != a[base]): return True\n",
    "    return False\n",
    "\n",
    "#Seperate the variants by mutation type\n",
    "def seperate_by_type(vcf_input_lines):\n",
    "    result = {\"SNP\":[],\"DEL\":[],\"INS\":[],\"DELINS\":[],\"DUP\":[],\"REP\":[]}\n",
    "    #Seperate the variants\n",
    "    line_num = 0\n",
    "    try:\n",
    "        while True:\n",
    "            line = vcf_input_lines[line_num]\n",
    "            chrm,ref,alts = line[0],line[3],line[4].split(\",\") #VCF files have multiple variants \n",
    "        \n",
    "            for alt in alts:\n",
    "                line[0] = \"chr\" + chrm \n",
    "                line[4] = alt\n",
    "                vcf_line = \"\\t\".join(line)\n",
    "                dup,num = check_repeat(ref,alt) #Check for duplication\n",
    "                if (dup == True): #Repetition or duplication exists\n",
    "                    if (num == 2): #Duplication\n",
    "                        result[4].append(vcf_line)\n",
    "                    else: #Repetition\n",
    "                        result[5].append(vcf_line)\n",
    "                elif (len(ref) == len(alt) == 1): #SNV\n",
    "                        result[\"SNP\"].append(vcf_line)\n",
    "                elif (check_delins(ref,alt) == True): #Deletion and insertion\n",
    "                    result[\"DELINS\"].append(vcf_line)\n",
    "                elif (len(ref) > len(alt)): #Deletion\n",
    "                    result[\"DEL\"].append(vcf_line)\n",
    "                elif (len(ref) < len(alt)): #Insertion\n",
    "                    result[\"INS\"].append(vcf_line)\n",
    "                else: #Unknown mutation and is \"skipped\"\n",
    "                    pass\n",
    "            line_num += 1\n",
    "    except:\n",
    "        return result\n",
    "\n",
    "vcf_result = seperate_by_type(vcf)"
   ]
  },
  {
   "cell_type": "markdown",
   "metadata": {},
   "source": [
    "### Converting to `VCF` and `BED` Format\n",
    "\n",
    "Now, as we only concerned with specifc mutations, let us convert the dictionary into `VCF` files, so we can use the `pybedtools` function. Just to make sure our algorithm is correct, we output the results below."
   ]
  },
  {
   "cell_type": "code",
   "execution_count": 24,
   "metadata": {},
   "outputs": [
    {
     "name": "stdout",
     "output_type": "stream",
     "text": [
      "chr1\t1168006\t.\tC\tG\t100\tPASS\t.\tGT\t0|1\n",
      " chr1\t1273408\t.\tC\tA\t100\tPASS\t.\tGT\t0|1\n",
      " chr1\t2160480\t.\tT\tC\t100\tPASS\t.\tGT\t0|1\n",
      " "
     ]
    }
   ],
   "source": [
    "SNP = header + \"\\n\" + \"\\n\".join(vcf_result[\"SNP\"])\n",
    "SNP_VCF = pybedtools.BedTool(SNP, from_string = True)\n",
    "SNP_VCF.head(3)"
   ]
  },
  {
   "cell_type": "code",
   "execution_count": 25,
   "metadata": {},
   "outputs": [
    {
     "name": "stdout",
     "output_type": "stream",
     "text": [
      "chr1\t1168010\t.\tGA\tG\t100\tPASS\t.\tGT\t0|1\n",
      " chr1\t2160484\t.\tGTCCGACCGC\tG\t100\tPASS\t.\tGT\t0|1\n",
      " chr1\t11856363\t.\tGTGA\tG\t100\tPASS\t.\tGT\t0|1\n",
      " "
     ]
    }
   ],
   "source": [
    "DEL = header + \"\\n\" + \"\\n\".join(vcf_result[\"DEL\"])\n",
    "DEL_VCF = pybedtools.BedTool(DEL, from_string = True)\n",
    "DEL_VCF.head(3)"
   ]
  },
  {
   "cell_type": "code",
   "execution_count": 26,
   "metadata": {},
   "outputs": [
    {
     "name": "stdout",
     "output_type": "stream",
     "text": [
      "chr1\t2338230\t.\tC\tCT\t100\tPASS\t.\tGT\t0|1\n",
      " chr1\t17355184\t.\tC\tCTAGA\t100\tPASS\t.\tGT\t0|1\n",
      " chr1\t26126761\t.\tC\tCCCGGCCCCGCCGCGCAGCCTCCCGCGCCA\t100\tPASS\t.\tGT\t0|1\n",
      " "
     ]
    }
   ],
   "source": [
    "INS = header + \"\\n\" + \"\\n\".join(vcf_result[\"INS\"])\n",
    "INS_VCF = pybedtools.BedTool(INS, from_string = True)\n",
    "INS_VCF.head(3)"
   ]
  },
  {
   "cell_type": "code",
   "execution_count": 27,
   "metadata": {},
   "outputs": [
    {
     "name": "stdout",
     "output_type": "stream",
     "text": [
      "chr1\t1273412\t.\tGTAGGCAGG\tGC\t100\tPASS\t.\tGT\t0|1\n",
      " chr1\t40557791\t.\tACACACTGTTGTTACTTG\tAAA\t100\tPASS\t.\tGT\t0|1\n",
      " chr1\t114445285\t.\tCCA\tCG\t100\tPASS\t.\tGT\t0|1\n",
      " "
     ]
    }
   ],
   "source": [
    "DELINS = header + \"\\n\" + \"\\n\".join(vcf_result[\"DELINS\"])\n",
    "DELINS_VCF = pybedtools.BedTool(DELINS, from_string = True)\n",
    "DELINS_VCF.head(3)"
   ]
  },
  {
   "cell_type": "markdown",
   "metadata": {},
   "source": [
    "### Find the SNPs that Affect Each Promotor\n",
    "\n",
    "Final step! Let us find the intervals of the promotors that interesect with the SNPs."
   ]
  },
  {
   "cell_type": "code",
   "execution_count": 28,
   "metadata": {},
   "outputs": [
    {
     "name": "stdout",
     "output_type": "stream",
     "text": [
      "chr1\t1167937\t1168137\t2_Weak_Promoter\n",
      " chr1\t2160140\t2163540\t2_Weak_Promoter\n",
      " chr1\t40723813\t40724413\t1_Active_Promoter\n",
      " chr1\t155210376\t155211176\t2_Weak_Promoter\n",
      " chr1\t156084576\t156085176\t1_Active_Promoter\n",
      " chr1\t161274776\t161276576\t2_Weak_Promoter\n",
      " chr1\t165737976\t165738776\t1_Active_Promoter\n",
      " chr1\t167408176\t167409376\t3_Poised_Promoter\n",
      " chr1\t197115177\t197116177\t1_Active_Promoter\n",
      " chr1\t218519377\t218520377\t3_Poised_Promoter\n",
      " "
     ]
    }
   ],
   "source": [
    "promoter_intersect_snp = chromHmm_promoter_noexons_filtered.intersect(SNP_VCF, u = True)\n",
    "promoter_intersect_snp.head(10)"
   ]
  },
  {
   "cell_type": "code",
   "execution_count": 29,
   "metadata": {},
   "outputs": [
    {
     "name": "stdout",
     "output_type": "stream",
     "text": [
      "chr1\t1167937\t1168137\t2_Weak_Promoter\n",
      " chr1\t2160140\t2163540\t2_Weak_Promoter\n",
      " chr1\t40723813\t40724413\t1_Active_Promoter\n",
      " chr1\t155210376\t155211176\t2_Weak_Promoter\n",
      " chr1\t156084576\t156085176\t1_Active_Promoter\n",
      " "
     ]
    }
   ],
   "source": [
    "promoter_intersect_snp_range = chromHmm_promoter_noexons_filtered.intersect(SNP_VCF, u = True)\n",
    "promoter_intersect_snp_range.head(5)"
   ]
  },
  {
   "cell_type": "markdown",
   "metadata": {},
   "source": [
    "If we look at the first active promoter in the UCSC Genome Browser (https://genome.ucsc.edu/cgi-bin/hgGateway, entry: *\"chr1\t40723813\t40724413\"*), we do see that there is a promoter region for NFYC! \n",
    "\n",
    "(Actual Link: https://genome.ucsc.edu/cgi-bin/hgTracks?db=hg38&lastVirtModeType=default&lastVirtModeExtraState=&virtModeType=default&virtMode=0&nonVirtPosition=&position=chr1%3A40723814%2D40724413&hgsid=662259431_1MwbUH4ZdXEHXFMFUjJ8AmaRLKWH)"
   ]
  },
  {
   "cell_type": "markdown",
   "metadata": {
    "collapsed": true
   },
   "source": [
    "## Summary, Further Exploration, and References\n",
    "\n",
    "This tutorial gives only a small glimpse of the power of `bedtools` and `pybedtools`. Here are some further links and references:\n",
    "\n",
    "* http://bedtools.readthedocs.io/en/latest/index.html\n",
    "* https://daler.github.io/pybedtools/\n",
    "* http://pedagogix-tagc.univ-mrs.fr/courses/jgb53d-bd-prog/practicals/01_bedtools/index.html\n",
    "* http://quinlanlab.org/tutorials/bedtools/bedtools.html\n",
    "\n",
    "Data From:\n",
    "* ftp://ftp.ncbi.nih.gov/snp/organisms/human_9606/VCF/\n",
    "* https://genome.ucsc.edu/cgi-bin/hgTables\n",
    "* http://rohsdb.cmb.usc.edu/GBshape/cgi-bin/hgFileUi?db=hg19&g=wgEncodeBroadHmm\n"
   ]
  },
  {
   "cell_type": "code",
   "execution_count": null,
   "metadata": {
    "collapsed": true
   },
   "outputs": [],
   "source": []
  }
 ],
 "metadata": {
  "kernelspec": {
   "display_name": "Python 3",
   "language": "python",
   "name": "python3"
  },
  "language_info": {
   "codemirror_mode": {
    "name": "ipython",
    "version": 3
   },
   "file_extension": ".py",
   "mimetype": "text/x-python",
   "name": "python",
   "nbconvert_exporter": "python",
   "pygments_lexer": "ipython3",
   "version": "3.6.3"
  }
 },
 "nbformat": 4,
 "nbformat_minor": 2
}
