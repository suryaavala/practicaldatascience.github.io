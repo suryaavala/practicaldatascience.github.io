{
 "cells": [
  {
   "cell_type": "markdown",
   "metadata": {},
   "source": [
    "# A song recommendation engine using the Spotify API\n",
    "\n",
    "## Motivation\n",
    "\n",
    "Have you ever wondered how Netflix knows what movies you might like, or Amazon decides what products to show you next? Trying to predict what consumers want and using that to personalize content is a critical part of a modern, digital business model -- it’s no longer just for Facebook and Twitter. Soon, we may even start to see personalized newspaper articles or targeted computer-generated art and music.\n",
    "\n",
    "Algorithms to model user preferences, called recommender systems, are all around us, and can be incredibly complex. There are two main types of information that recommender systems draw on: features of the content (highly-rated products that are on sale right now), and features of the consumers (Bluetooth headphones similar to the ones you shopped for last week, or products that other college students are buying). Weighting these two types of information is a major challenge of creating a good recommender system.\n",
    "\n",
    "## Creating the dataset \n",
    "\n",
    "We can use data provided by the Spotify API to demonstrate using content features to make recommendations. The question we’re trying to answer: given a song a user likes, what are some similar songs that the user might also like? We’ll just use content information (features about the songs) to construct our recommendation engine. \n",
    "\n",
    "To tackle this problem, I’ve chosen to use data about music using the Spotify API. The Spotify API allows one to fetch metadata in JSON format about song tracks in Spotify’s music catalog. This metadata includes features like the “danceability”, “energy”, “acousticness”, “instrumentalness”, and “liveness” of tracks that we can use to assess song similarity. \n",
    "\n",
    "The richness of this metadata, and the Spotify-specific terms, help us avoid a common pitfall of recommender systems: providing suggestions that are a little too obvious. For example, if one of our features was the song artist’s name, our recommender system’s best recommendations might be songs by the same artist, and perhaps off the same album - but consumers are likely familiar with an artist’s entire work, so these recommendations aren't very useful.  \n",
    "\n",
    "To create the dataset, I’ve chosen to get help from Spotipy, a lightweight Python wrapper for the Spotify API (documentation available __[here](http://spotipy.readthedocs.io/en/latest/#)__). This requires installing Spotipy (available via pip!) and obtaining a Client ID and Client Secret via the __[Spotify Developer Portal](https://developer.spotify.com/web-api/)__. \n"
   ]
  },
  {
   "cell_type": "code",
   "execution_count": null,
   "metadata": {},
   "outputs": [],
   "source": [
    "# Requirements: requests, spotipy (available via pip)\n",
    "\n",
    "import spotipy\n",
    "from spotipy.oauth2 import SpotifyClientCredentials\n",
    "\n",
    "# Fill in your own client ID and client secret! \n",
    "client_id = 'CLIENT_ID'\n",
    "client_secret = 'CLIENT_SECRET'\n",
    "\n",
    "client_credentials_manager = SpotifyClientCredentials(\n",
    "    client_id=client_id,\n",
    "    client_secret=client_secret\n",
    ")\n",
    "\n",
    "sp = spotipy.Spotify(\n",
    "    client_credentials_manager=client_credentials_manager\n",
    ")"
   ]
  },
  {
   "cell_type": "markdown",
   "metadata": {},
   "source": [
    "Now that we can use the API, I created 20 search terms based on words I thought commonly appeared in song titles. "
   ]
  },
  {
   "cell_type": "code",
   "execution_count": null,
   "metadata": {},
   "outputs": [],
   "source": [
    "search_terms = [\n",
    "    'hello', 'world', 'sun', 'rain', 'night', 'day', 'love', 'fight',\n",
    "    'sleep', 'young', 'one', 'light', 'find', 'believe', 'home', 'dark', 'you',\n",
    "    'me', 'us', 'heart'\n",
    "]"
   ]
  },
  {
   "cell_type": "markdown",
   "metadata": {},
   "source": [
    "We can use the search functionality of Spotipy with these search terms to pull the first 100 songs associated with each search term for a total of about 2000 songs, get their audio features, and write all the data to a CSV file. (I recommend adding pauses to avoid running into rate-limiting problems with the API.)"
   ]
  },
  {
   "cell_type": "code",
   "execution_count": null,
   "metadata": {},
   "outputs": [],
   "source": [
    "import csv \n",
    "\n",
    "search_limit = 50\n",
    "output_file = open('songs.csv', 'w')\n",
    "\n",
    "for term in search_terms:\n",
    "    for page in [0, 1]: \n",
    "        offset = search_limit*page\n",
    "        search_result = sp.search(term, type='track', limit=search_limit, offset=offset)\n",
    "\n",
    "        for item in search_result['tracks']['items']:\n",
    "            track_name = sp.track(item['id'])['name'].replace(',', '')\n",
    "\n",
    "            artist = sp.track(item['id'])['artists'][0]\n",
    "            track_artist = artist['name'].replace(',', '')\n",
    "\n",
    "            track_audio_features = sp.audio_features(item['id'])[0]\n",
    "\n",
    "            if (track_name and track_artist and track_audio_features):\n",
    "                row = ','.join([\n",
    "                    track_name, \n",
    "                    track_artist, \n",
    "                    track_audio_features['id'],\n",
    "                    str(track_audio_features['danceability']),\n",
    "                    str(track_audio_features['energy']),\n",
    "                    str(track_audio_features['key']),\n",
    "                    str(track_audio_features['loudness']),\n",
    "                    str(track_audio_features['mode']),\n",
    "                    str(track_audio_features['speechiness']),\n",
    "                    str(track_audio_features['acousticness']),\n",
    "                    str(track_audio_features['instrumentalness']),\n",
    "                    str(track_audio_features['liveness']),\n",
    "                    str(track_audio_features['valence']),\n",
    "                    str(track_audio_features['tempo']),\n",
    "                ])\n",
    "\n",
    "                output_file.write('{0}\\n'.format(row))\n",
    "\n",
    "output_file.close()"
   ]
  },
  {
   "cell_type": "markdown",
   "metadata": {},
   "source": [
    "## Extracting features\n",
    "\n",
    "We’ll use pandas to load and work with our data throughout the rest of the tutorial. To assess similarity, we’ll be using: danceability, energy, mode, speechiness, acousticness, instrumentalness, liveness, and valence. \n",
    "\n",
    "From the __[Spotify API Reference](https://developer.spotify.com/web-api/get-audio-features/)__:\n",
    "\n",
    "-  **Danceability**: Danceability describes how suitable a track is for dancing based on a combination of musical elements including tempo, rhythm stability, beat strength, and overall regularity. A value of 0.0 is least danceable and 1.0 is most danceable.\n",
    "-  **Energy**: Energy is a measure from 0.0 to 1.0 and represents a perceptual measure of intensity and activity. Typically, energetic tracks feel fast, loud, and noisy. For example, death metal has high energy, while a Bach prelude scores low on the scale. Perceptual features contributing to this attribute include dynamic range, perceived loudness, timbre, onset rate, and general entropy.\n",
    "-  **Mode**: Mode indicates the modality (major or minor) of a track, the type of scale from which its melodic content is derived. Major is represented by 1 and minor is 0.\n",
    "-  **Speechiness**: Speechiness detects the presence of spoken words in a track. The more exclusively speech-like the recording (e.g. talk show, audio book, poetry), the closer to 1.0 the attribute value. Values above 0.66 describe tracks that are probably made entirely of spoken words. Values between 0.33 and 0.66 describe tracks that may contain both music and speech, either in sections or layered, including such cases as rap music. Values below 0.33 most likely represent music and other non-speech-like tracks.\n",
    "-  **Acousticness**: A confidence measure from 0.0 to 1.0 of whether the track is acoustic. 1.0 represents high confidence the track is acoustic.\n",
    "-  **Instrumentalness**: Predicts whether a track contains no vocals. \"Ooh\" and \"aah\" sounds are treated as instrumental in this context. Rap or spoken word tracks are clearly \"vocal\". The closer the instrumentalness value is to 1.0, the greater likelihood the track contains no vocal content. Values above 0.5 are intended to represent instrumental tracks, but confidence is higher as the value approaches 1.0.\n",
    "-  **Liveness**: Detects the presence of an audience in the recording. Higher liveness values represent an increased probability that the track was performed live. A value above 0.8 provides strong likelihood that the track is live.\n",
    "-  **Valence**: A measure from 0.0 to 1.0 describing the musical positiveness conveyed by a track. Tracks with high valence sound more positive (e.g. happy, cheerful, euphoric), while tracks with low valence sound more negative (e.g. sad, depressed, angry).\n",
    "\n",
    "All of these features are floats between 0.0 and 1.0 (though mode represents a binary encoding), so we don’t need to transform them further. Because we’ll be calculating similarity using distance moving forward, normalization to values between 0 and 1 is especially important so that some features aren’t artificially heavier-weighted in that calculation. \n"
   ]
  },
  {
   "cell_type": "code",
   "execution_count": 2,
   "metadata": {},
   "outputs": [
    {
     "name": "stdout",
     "output_type": "stream",
     "text": [
      "(1991, 14)\n",
      "Index(['Name', 'Artists', 'ID', 'Danceability', 'Energy', 'Key', 'Loudness',\n",
      "       'Mode', 'Speechiness', 'Acousticness', 'Instrumentalness', 'Liveness',\n",
      "       'Valence', 'Tempo'],\n",
      "      dtype='object')\n",
      "              Name         Artists                      ID  Danceability  \\\n",
      "0            Hello           Adele  0ENSn4fwAbCGeFGVUbXEU3         0.481   \n",
      "1            Hello           Adele  4sPmO7WMQUAf45kwMOtONw         0.481   \n",
      "2  Hello Beautiful   Noah Schnacky  4pYd8dIohiqc3KsxSRqf0w         0.504   \n",
      "3      Hello There  Dillon Francis  7fyx7nBQTEtYrfXc0UgUYs         0.798   \n",
      "4        Hello Ego      Jhene Aiko  2kt06ZsD735FYBZO8yAAQs         0.692   \n",
      "\n",
      "   Energy  Key  Loudness  Mode  Speechiness  Acousticness  Instrumentalness  \\\n",
      "0   0.451    5    -6.095     0       0.0347        0.3360               0.0   \n",
      "1   0.451    5    -6.095     0       0.0347        0.3360               0.0   \n",
      "2   0.472    9    -6.925     1       0.0404        0.5400               0.0   \n",
      "3   0.720    2    -6.368     1       0.0672        0.0205               0.0   \n",
      "4   0.463    0    -9.506     1       0.0928        0.1470               0.0   \n",
      "\n",
      "   Liveness  Valence    Tempo  \n",
      "0    0.0872    0.289  157.966  \n",
      "1    0.0872    0.289  157.966  \n",
      "2    0.3060    0.313   73.521  \n",
      "3    0.0666    0.451  114.028  \n",
      "4    0.2200    0.432  119.851  \n"
     ]
    }
   ],
   "source": [
    "# Requirement: pandas \n",
    "\n",
    "import pandas as pd \n",
    "\n",
    "data = pd.read_csv('songs.csv', \n",
    "                   names=[\n",
    "                       'Name', \n",
    "                       'Artists', \n",
    "                       'ID', \n",
    "                       'Danceability',\n",
    "                       'Energy', \n",
    "                       'Key', \n",
    "                       'Loudness', \n",
    "                       'Mode', \n",
    "                       'Speechiness', \n",
    "                       'Acousticness', \n",
    "                       'Instrumentalness', \n",
    "                       'Liveness', \n",
    "                       'Valence', \n",
    "                       'Tempo'\n",
    "                   ])\n",
    "\n",
    "for col in ['Danceability', 'Energy', 'Key', 'Loudness', 'Mode', 'Speechiness', \n",
    "'Acousticness', 'Instrumentalness', 'Liveness', 'Valence', 'Tempo']:\n",
    "    data[col] = pd.to_numeric(data[col])\n",
    "\n",
    "print(data.shape)\n",
    "print(data.columns)\n",
    "print(data.head())"
   ]
  },
  {
   "cell_type": "markdown",
   "metadata": {},
   "source": [
    "To visualize different features and get a sense of how they relate to the subset of tracks we’re using, we can generate histograms. We want our features to be well-distributed (have high variance), which will indicate that they’re informative features. "
   ]
  },
  {
   "cell_type": "code",
   "execution_count": 12,
   "metadata": {},
   "outputs": [
    {
     "data": {
      "image/png": "[encoded data removed]",
      "text/plain": [
       "<matplotlib.figure.Figure at 0x108a13550>"
      ]
     },
     "metadata": {},
     "output_type": "display_data"
    },
    {
     "data": {
      "image/png": "[encoded data removed]",
      "text/plain": [
       "<matplotlib.figure.Figure at 0x1088d1be0>"
      ]
     },
     "metadata": {},
     "output_type": "display_data"
    },
    {
     "data": {
      "image/png": "[encoded data removed]",
      "text/plain": [
       "<matplotlib.figure.Figure at 0x10885ed30>"
      ]
     },
     "metadata": {},
     "output_type": "display_data"
    },
    {
     "data": {
      "image/png": "[encoded data removed]",
      "text/plain": [
       "<matplotlib.figure.Figure at 0x108f6d400>"
      ]
     },
     "metadata": {},
     "output_type": "display_data"
    },
    {
     "data": {
      "image/png": "[encoded data removed]",
      "text/plain": [
       "<matplotlib.figure.Figure at 0x108efa4a8>"
      ]
     },
     "metadata": {},
     "output_type": "display_data"
    },
    {
     "data": {
      "image/png": "[encoded data removed]",
      "text/plain": [
       "<matplotlib.figure.Figure at 0x1090bbd68>"
      ]
     },
     "metadata": {},
     "output_type": "display_data"
    },
    {
     "data": {
      "image/png": "[encoded data removed]",
      "text/plain": [
       "<matplotlib.figure.Figure at 0x108efafd0>"
      ]
     },
     "metadata": {},
     "output_type": "display_data"
    },
    {
     "data": {
      "image/png": "[encoded data removed]",
      "text/plain": [
       "<matplotlib.figure.Figure at 0x1089cb080>"
      ]
     },
     "metadata": {},
     "output_type": "display_data"
    }
   ],
   "source": [
    "# Requirement: matplotlib\n",
    "\n",
    "import matplotlib as mpl\n",
    "import matplotlib.pyplot as plt\n",
    "\n",
    "for col in ['Danceability', 'Energy', 'Mode', 'Speechiness', \n",
    "'Acousticness', 'Instrumentalness', 'Liveness', 'Valence']:\n",
    "    plt.hist(data[col], bins=list(map(lambda x: x*0.05, range(0, 21))))\n",
    "    plt.title(col)\n",
    "    plt.show()"
   ]
  },
  {
   "cell_type": "markdown",
   "metadata": {},
   "source": [
    "Visualizing the features (by changing out the column name) shows that all are fairly informative, and so we’ll proceed with using all of them to compute similarity.\n",
    "\n",
    "## Calculating similarity \n",
    "\n",
    "Because we’re working with real-valued data, we can use Euclidean distance as a similarity metric. Given a song in our Dataframe that we want to generate recommendations for, we’ll compute the Euclidean distance between that song and all songs in the Dataframe, and then return the closest songs as recommendations. Note that the first few recommendations will be the same song we requested - that's how we know it's working!  \n"
   ]
  },
  {
   "cell_type": "code",
   "execution_count": 3,
   "metadata": {},
   "outputs": [],
   "source": [
    "def euclidean_dist(song1, song2):\n",
    "    sum = 0\n",
    "    for col in ['Danceability', 'Energy', 'Mode', 'Speechiness', 'Acousticness', \n",
    "    'Instrumentalness', 'Liveness', 'Valence']:\n",
    "        sum += (song1[col] - song2[col])**2\n",
    "    return sum**0.5\n",
    "\n",
    "def generate_euclidean_dist_recommendations(data, trackID):\n",
    "    requested_song = data[data['ID'] == trackID]\n",
    "    data['distances'] = data.apply(\n",
    "        lambda song: euclidean_dist(requested_song, song), \n",
    "        axis='columns'\n",
    "    )\n",
    "    sorted_songs = data.sort_values(by=['distances'])\n",
    "    first_10 = sorted_songs.head(10)\n",
    "    filtered = first_10.filter(items=['Name', 'Artists'])\n",
    "    return filtered"
   ]
  },
  {
   "cell_type": "markdown",
   "metadata": {},
   "source": [
    "Let’s test it out! Let's get song recommendations for “Hello” by Adele: "
   ]
  },
  {
   "cell_type": "code",
   "execution_count": 4,
   "metadata": {},
   "outputs": [
    {
     "name": "stdout",
     "output_type": "stream",
     "text": [
      "                   Name             Artists\n",
      "0                 Hello               Adele\n",
      "1                 Hello               Adele\n",
      "1798                 Us           James Bay\n",
      "1207    FIND YOUR WINGS  Tyler  The Creator\n",
      "920       Forever Young          Alphaville\n",
      "1191  Red Light Special                 TLC\n",
      "360          After Rain      Dermot Kennedy\n",
      "1515         Dark Horse        Devin Dawson\n",
      "982           Young God              Halsey\n",
      "1810    Help Us To Love          Tori Kelly\n"
     ]
    }
   ],
   "source": [
    "print(generate_euclidean_dist_recommendations(data, '0ENSn4fwAbCGeFGVUbXEU3'))"
   ]
  },
  {
   "cell_type": "markdown",
   "metadata": {},
   "source": [
    "Cosine similarity is also a reasonable choice for a similarity metric - let’s test that out too: "
   ]
  },
  {
   "cell_type": "code",
   "execution_count": 57,
   "metadata": {},
   "outputs": [
    {
     "name": "stdout",
     "output_type": "stream",
     "text": [
      "                                            Name             Artists\n",
      "0                                          Hello               Adele\n",
      "1                                          Hello               Adele\n",
      "1515                                  Dark Horse        Devin Dawson\n",
      "1511                                Dark Fantasy          Kanye West\n",
      "1068                                       Slide       Calvin Harris\n",
      "501   Marvelous Day (feat. Lil Uzi Vert & Gunna)               Kap G\n",
      "992                               1-800-273-8255               Logic\n",
      "1945                                       Heart         Omar Apollo\n",
      "988      Annoying (feat. Future & Young Scooter)   Waka Flocka Flame\n",
      "1194                               Find Yourself  Great Good Fine Ok\n"
     ]
    }
   ],
   "source": [
    "def cosine_similarity(song1, song2):\n",
    "    numerator = 0\n",
    "    song1_sum = 0\n",
    "    song2_sum = 0\n",
    "\n",
    "    for col in ['Danceability', 'Energy', 'Mode', 'Speechiness', 'Acousticness', \n",
    "    'Instrumentalness', 'Liveness', 'Valence']:\n",
    "        numerator += song1[col]*song2[col]\n",
    "        song1_sum += song1[col]**2\n",
    "        song2_sum += song2[col]**2\n",
    "\n",
    "    return numerator/((song1_sum**0.5)*(song2_sum**0.5))\n",
    "\n",
    "def generate_cosine_sim_recommendations(data, trackID):\n",
    "    requested_song = data[data['ID'] == trackID]\n",
    "    data['distances'] = data.apply(\n",
    "        lambda song: cosine_similarity(requested_song, song), axis='columns')\n",
    "    sorted_songs = data.sort_values(by=['distances'], ascending=False)\n",
    "    return sorted_songs.head(10).filter(items=['Name', 'Artists'])\n",
    "\n",
    "print(generate_cosine_sim_recommendations(data, '0ENSn4fwAbCGeFGVUbXEU3'))"
   ]
  },
  {
   "cell_type": "markdown",
   "metadata": {},
   "source": [
    "And that’s it - new music! \n",
    "\n",
    "How do we evaluate the recommendations we're receiving? The most common way is to ask for user feedback - if users like your recommendations, you're doing something right, and if not, it's time to iterate. \n",
    "\n",
    "The next step is getting even more data - more songs and more information about the songs, and maybe even information about your users. With more data, there’s many interesting extensions and improvements that can be layered on top of this basic engine.  \n",
    "\n",
    "## Further resources\n",
    "\n",
    "To learn more, I  suggest checking out: \n",
    "\n",
    "-  __[This Coursera Machine Learning lecture](https://www.coursera.org/learn/machine-learning/lecture/uG59z/content-based-recommendations)__ (by Andrew Ng, through Stanford University) about content-based recommender systems. \n",
    "-  __[A two-hour video course](https://www.lynda.com/Python-tutorials/Introduction-Python-Recommendation-Systems-Machine-Learning/563080-2.html)__ by Lynda.com about building a recommendation system in Python.\n",
    "-  __[This Python tutorial](https://cambridgespark.com/content/tutorials/implementing-your-own-recommender-systems-in-Python/index.html)__ on recommendation systems that focuses on collaborative-filtering models (unlike the content-based model that I went over.) \n",
    "\n",
    "Happy recommending!\n"
   ]
  },
  {
   "cell_type": "code",
   "execution_count": null,
   "metadata": {},
   "outputs": [],
   "source": []
  }
 ],
 "metadata": {
  "kernelspec": {
   "display_name": "Python 3",
   "language": "python",
   "name": "python3"
  },
  "language_info": {
   "codemirror_mode": {
    "name": "ipython",
    "version": 3
   },
   "file_extension": ".py",
   "mimetype": "text/x-python",
   "name": "python",
   "nbconvert_exporter": "python",
   "pygments_lexer": "ipython3",
   "version": "3.6.4"
  }
 },
 "nbformat": 4,
 "nbformat_minor": 2
}