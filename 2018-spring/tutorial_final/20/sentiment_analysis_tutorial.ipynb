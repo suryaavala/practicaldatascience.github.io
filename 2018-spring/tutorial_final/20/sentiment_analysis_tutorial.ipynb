{
 "cells": [
  {
   "cell_type": "markdown",
   "metadata": {},
   "source": [
    "# Introduction\n",
    "\"Sentiment analysis refers to the use of natural language processing, text analysis, computational linguistics, and biometrics to systematically identify, extract, quantify, and study affective states and subjective information.\" ([wiki](https://en.wikipedia.org/wiki/Sentiment_analysis)) <br>\n",
    "Sentiment analysis allows us to detect the attitude of an opinion, a review...   <br>\n",
    "Take product reviews for example, by analyzing the reviews, we can know what attitudes to consumers hold toward a product; take tweets as an example, we may be able to discover the political attitude of a person by analyzing his/her tweets. <br>\n",
    "\n",
    "This can be widely applied, while in this tutorial we will take classifying positive/negative product reviews for example."
   ]
  },
  {
   "cell_type": "markdown",
   "metadata": {},
   "source": [
    "# Tutorial content\n",
    "\n",
    "In this tutorial, I will show some ways to do sentiment analysis in Python, specifically using [NLTK](http://www.nltk.org/), [spaCy](https://spacy.io/) and [scikit-learn](http://scikit-learn.org/stable/).\n",
    "\n",
    "We'll be using product reviews data in the [nltk corpus](http://www.nltk.org/nltk_data/): \n",
    "> _53. Product Reviews(9 Products)_<br>\n",
    "   id: `product_reviews_2`\n",
    "\n",
    "There are reviews of 9 products in this dataset.  The data is from Amazon.com.  Though the data is a bit out of date(2007), we can still use it to do sentiment analysis.\n",
    "\n",
    "Each review is classified as positive or negative.  We will use them to train a model that is able to classify whether a review is positive or negative.\n",
    "\n",
    "\n",
    "We will cover the following topics in this tutorial:\n",
    "- [Installing the libraries](#Installing-the-libraries)\n",
    "- [Loading and preprocessing data](#Loading-and-preprocessing-data)\n",
    "\n",
    "- [Lemmatizing words](#Lemmatizing-words)\n",
    "  1. [Using spaCy](#Using-spaCy)\n",
    "  2. [Using NLTK WordNetLemmatizer](#Using-NLTK-WordNetLemmatizer)\n",
    "\n",
    "- [Training classifiers](#Training-classifiers)\n",
    "  1. [Using NLTK NaiveBayesClassifier](#Using-NLTK-NaiveBayesClassifier)\n",
    "  2. [Using sklearn BernoulliNB](#Using-sklearn-BernoulliNB)"
   ]
  },
  {
   "cell_type": "markdown",
   "metadata": {},
   "source": [
    "## Installing the libraries"
   ]
  },
  {
   "cell_type": "markdown",
   "metadata": {},
   "source": [
    "__1. Install spaCy__\n",
    "\n",
    "Open the terminal in jupyter notebook, type the following commands:<br>\n",
    "\n",
    "`conda config --add channels\n",
    "conda-forge conda install spacy\n",
    "python -m spacy download en`\n",
    "\n",
    "\n",
    "\n",
    "__2. Install NLTK__\n",
    "\n",
    "If using anaconda, nltk should be installed with anaconda.<br>\n",
    "Simply run `import nltk` in the terminal.<br>\n",
    "In case that didn't work, run the following command to install NLTK:<br>\n",
    "`\n",
    "conda install -c anaconda nltk \n",
    "`"
   ]
  },
  {
   "cell_type": "markdown",
   "metadata": {},
   "source": [
    "## Loading and preprocessing data"
   ]
  },
  {
   "cell_type": "markdown",
   "metadata": {},
   "source": [
    "Press [here](https://raw.githubusercontent.com/nltk/nltk_data/gh-pages/packages/corpora/product_reviews_2.zip) to download the data__ _Product Reviews(9 Products)_ __"
   ]
  },
  {
   "cell_type": "code",
   "execution_count": 1,
   "metadata": {},
   "outputs": [
    {
     "name": "stdout",
     "output_type": "stream",
     "text": [
      "[nltk_data] Downloading package product_reviews_2 to\n",
      "[nltk_data]     /Users/Amyhuang/nltk_data...\n",
      "[nltk_data]   Package product_reviews_2 is already up-to-date!\n"
     ]
    },
    {
     "data": {
      "text/plain": [
       "True"
      ]
     },
     "execution_count": 1,
     "metadata": {},
     "output_type": "execute_result"
    }
   ],
   "source": [
    "import nltk\n",
    "nltk.download('product_reviews_2')\n",
    "# http://www.nltk.org/_modules/nltk/corpus/reader/reviews.html"
   ]
  },
  {
   "cell_type": "code",
   "execution_count": 2,
   "metadata": {},
   "outputs": [
    {
     "name": "stdout",
     "output_type": "stream",
     "text": [
      "Product Reviews (9 products)\n",
      "\n",
      "Available as ‘Additional Review Datasets (9 products)’ from\n",
      "http://www.cs.uic.edu/~liub/FBS/FBS.html\n",
      "\n",
      "Source:\n",
      "http://www.cs.uic.edu/~liub/FBS/Reviews-9-products.rar\n",
      "\n",
      "NB: Line-endings have been converted from DOS to Unix, and some\n",
      "control characters and extended ASCII characters have been converted\n",
      "to UTF-8.\n",
      "\n",
      "\n",
      "*****************************************************************************\n",
      "* Contact: Bing Liu, liub@cs.uic.edu \n",
      "*          http://www.cs.uic.edu/~liub\n",
      "*****************************************************************************\n",
      "\n",
      "                            README file\n",
      "\n",
      "This folder contains annotated customer reviews of 9 products. \n",
      "\n",
      "\n",
      "All the reviews were from amazon.com. The data was used in the following \n",
      "paper:\n",
      "\n",
      "Xiaowen Ding, Bing Liu and Philip S. Yu. \n",
      "\t“A Holistic Lexicon-Based Approach to Opinion Mining.\" \n",
      "\tProceedings of First ACM International Conference on Web Search and Data Mining \n",
      "\t(WSDM-2008), Feb 11-12, 2008, Stanford University, Stanford, California, USA.\n",
      "\n",
      "\n",
      "\n",
      "Symbols used in the annotated reviews: \n",
      "\n",
      "  [t]: the title of the review: Each [t] tag starts a review. \n",
      "       We did not use the title information in our papers.\n",
      "  xxxx[+|-n]: xxxx is a product feature. \n",
      "      [+n]: Positive opinion, n is the opinion strength: 3 strongest, \n",
      "            and 1 weakest. Note that the strength is quite subjective. \n",
      "            You may want ignore it, but only considering + and -\n",
      "      [-n]: Negative opinion\n",
      "  ##  : start of each sentence. Each line is a sentence. \n",
      "  [u] : feature not appeared in the sentence.\n",
      "  [p] : feature not appeared in the sentence. Pronoun resolution is needed.\n",
      "  [s] : suggestion or recommendation.\n",
      "  [cc]: comparison with a competing product from a different brand.\n",
      "  [cs]: comparison with a competing product from the same brand.\n",
      "\n",
      "\n",
      "Finally, tagging is a hard task. Errors and inconsistencies are inevitable.\n",
      "If you see some problems, please let us know. We also welcome your comments.\n",
      "\n",
      "\n"
     ]
    }
   ],
   "source": [
    "from nltk.corpus import product_reviews_2\n",
    "read_me = product_reviews_2.readme()\n",
    "for i in read_me.splitlines():\n",
    "    print(i)"
   ]
  },
  {
   "cell_type": "markdown",
   "metadata": {},
   "source": [
    "By looking at the README file, we get to understand the dataset.<br>\n",
    "We will only be looking at '+' and '-' in [+n]/[-n] since the README file mentioned 'the strength is quite subjective'.<br>\n",
    "Therefore, the information we will extract include '+', '-' and the content of reviews."
   ]
  },
  {
   "cell_type": "markdown",
   "metadata": {},
   "source": [
    "The following are 9 files with the reviews of each product."
   ]
  },
  {
   "cell_type": "code",
   "execution_count": 3,
   "metadata": {},
   "outputs": [
    {
     "data": {
      "text/plain": [
       "['Canon_PowerShot_SD500.txt',\n",
       " 'Canon_S100.txt',\n",
       " 'Diaper_Champ.txt',\n",
       " 'Hitachi_router.txt',\n",
       " 'Linksys_Router.txt',\n",
       " 'MicroMP3.txt',\n",
       " 'Nokia_6600.txt',\n",
       " 'README.txt',\n",
       " 'ipod.txt',\n",
       " 'norton.txt']"
      ]
     },
     "execution_count": 3,
     "metadata": {},
     "output_type": "execute_result"
    }
   ],
   "source": [
    "product_reviews_2_fileids = product_reviews_2.fileids()\n",
    "product_reviews_2_fileids"
   ]
  },
  {
   "cell_type": "markdown",
   "metadata": {},
   "source": [
    "Let's take a look at the raw data."
   ]
  },
  {
   "cell_type": "code",
   "execution_count": 4,
   "metadata": {},
   "outputs": [
    {
     "name": "stdout",
     "output_type": "stream",
     "text": [
      "[t]\n",
      "\n",
      "SD500[+2]##We really enjoyed shooting with the Canon PowerShot SD500. \n",
      "\n",
      "design[+2]##It has an exterior design that combines form and function more elegantly than any point-and-shoot we've ever tested. \n",
      "\n",
      "image-processing system[+1]##A Digic II-powered image-processing system enables the SD500 to snap a limitless stream of 7-megapixel photos at a respectable clip, its start-up time is tops in its class, and it delivers decent photos when compared to its competition. \n",
      "\n",
      "image[+2]##The SD500 rivals the Canon G6 in image quality. \n",
      "\n"
     ]
    }
   ],
   "source": [
    "data = product_reviews_2.raw(product_reviews_2_fileids[0]).splitlines()\n",
    "for r in data[:5]:\n",
    "    print(r + '\\n')"
   ]
  },
  {
   "cell_type": "markdown",
   "metadata": {},
   "source": [
    "Extract the label('+' or '-') and the content of the review. \n",
    "Save these info in `reviews`."
   ]
  },
  {
   "cell_type": "code",
   "execution_count": 5,
   "metadata": {
    "collapsed": true
   },
   "outputs": [],
   "source": [
    "import re\n",
    "reviews = []\n",
    "pre_label = []\n",
    "pre_content = []\n",
    "for field in product_reviews_2_fileids:\n",
    "    data = product_reviews_2.raw(field).splitlines()\n",
    "    for r in data:\n",
    "        label_finder = re.compile(r'\\[([+-])[123]\\]')\n",
    "        content_finder = re.compile('##(.+)')\n",
    "        label = label_finder.findall(r)\n",
    "        content = content_finder.findall(r)\n",
    "        \n",
    "        if len(pre_label) >= 1 and len(pre_content) == 0 and len(label) == 0 and len(content) == 1:\n",
    "            label = pre_label\n",
    "        if len(label) >= 1 and len(content) == 1:\n",
    "            reviews.append([label, content[0]])\n",
    "        if len(label) == 0 and len(content) == 1:\n",
    "            if len(reviews) > 0:\n",
    "                reviews[-1][1] += (content[0])\n",
    "        pre_label = label\n",
    "        pre_content = content\n",
    "# print(len(reviews))"
   ]
  },
  {
   "cell_type": "code",
   "execution_count": 6,
   "metadata": {},
   "outputs": [
    {
     "name": "stdout",
     "output_type": "stream",
     "text": [
      "[['+'], 'We really enjoyed shooting with the Canon PowerShot SD500. ']\n"
     ]
    }
   ],
   "source": [
    "print(reviews[0])"
   ]
  },
  {
   "cell_type": "markdown",
   "metadata": {},
   "source": [
    "Reviews can be tagged with more than one feature(which means more than one label)<br>\n",
    "Some may have both '+' and '-' labels.  It will be hard to classify whether the review is positive or negative.<br> Therefore, we only preserve reviews that have only one of the labels.<br>\n",
    "This way, it will be much clearer whether the review is positive or negative."
   ]
  },
  {
   "cell_type": "code",
   "execution_count": 7,
   "metadata": {
    "collapsed": true
   },
   "outputs": [],
   "source": [
    "for review in reviews:\n",
    "    if len(review[0]) > 1:\n",
    "        if (all(l== '+' for l in label) or all(l== '-' for l in label)):\n",
    "            review[0] = [review[0][-1]]\n",
    "        else:\n",
    "            del reviews[reviews.index(review)]"
   ]
  },
  {
   "cell_type": "markdown",
   "metadata": {},
   "source": [
    "Save label of reviews separately.\n",
    "'+' is saved as 1 in `label`; '-' is saved as 0.\n",
    "The following is an overview of the number of reviews we have; how many are positive; how many are negative."
   ]
  },
  {
   "cell_type": "code",
   "execution_count": 8,
   "metadata": {},
   "outputs": [
    {
     "name": "stdout",
     "output_type": "stream",
     "text": [
      "# of positive reviews: 1336\n",
      "# of negative reviews: 751\n",
      "                Total: 2087\n"
     ]
    }
   ],
   "source": [
    "num_pos = 0\n",
    "num_neg = 0\n",
    "label = []\n",
    "for review in reviews:\n",
    "    if review[0][0] == '+':\n",
    "        num_pos += 1\n",
    "        label.append(1)\n",
    "    else:\n",
    "        num_neg += 1\n",
    "        label.append(0)\n",
    "print('# of positive reviews:', num_pos)\n",
    "print('# of negative reviews:', num_neg)\n",
    "print('                Total:', num_pos + num_neg)"
   ]
  },
  {
   "cell_type": "markdown",
   "metadata": {},
   "source": [
    "## Lemmatizing words"
   ]
  },
  {
   "cell_type": "markdown",
   "metadata": {},
   "source": [
    "The base form of a word, that one might look up in a dictionary, is called the __lemma__ or __dictionary form__ for the word.([wikipedia](https://en.wikipedia.org/wiki/Lemmatisation))<br>\n",
    "For example, 'walked', 'walks' and 'walking' all have the same base form 'walk'(verb).  In other words, the verb 'walk' is the lemma of 'walked', 'walks' and 'walking'. <br>\n",
    "\n",
    "By lemmatizing the words, which means we will be able to analyze the reviews better.<br>\n",
    "Otherwise, words like 'shooting' and 'shoot' will be treated as different words though they are basically the same.<br>\n",
    "\n",
    "In the following, we will go through two ways to lemmatize words.\n",
    "1. spaCy\n",
    "2. NLTK"
   ]
  },
  {
   "cell_type": "markdown",
   "metadata": {},
   "source": [
    "### Using spaCy"
   ]
  },
  {
   "cell_type": "markdown",
   "metadata": {},
   "source": [
    "The method `make_lemmatized_word_list` will do the following using spaCy:<br>\n",
    "* First, we can tokenize words in a sentence by calling `nlp(sentence)`.<br>\n",
    "* Next, we can access the `lemma_` (Base form of the [token](https://spacy.io/api/token)) of each token.<br>"
   ]
  },
  {
   "cell_type": "code",
   "execution_count": 9,
   "metadata": {
    "collapsed": true
   },
   "outputs": [],
   "source": [
    "from nltk.corpus import stopwords\n",
    "import spacy\n",
    "nlp = spacy.load('en')"
   ]
  },
  {
   "cell_type": "code",
   "execution_count": 10,
   "metadata": {
    "collapsed": true
   },
   "outputs": [],
   "source": [
    "def make_lemmatized_word_list(text):\n",
    "    #tokenize the cotent of reviews\n",
    "    #i.e. each review will be a spacy.tokens.doc.Doc, each word will be a spacy.tokens.token.Token\n",
    "    tokenized_text = nlp(text.lower())\n",
    "    lemmatized = []\n",
    "    for token in tokenized_text:\n",
    "        lemma = token.lemma_\n",
    "        if re.match('[a-zA-Z]+$', lemma) and (lemma not in stopwords.words(\"english\")) and (not (token.is_stop)):\n",
    "            lemmatized.append(lemma)\n",
    "    return lemmatized"
   ]
  },
  {
   "cell_type": "code",
   "execution_count": 11,
   "metadata": {
    "collapsed": true
   },
   "outputs": [],
   "source": [
    "lemma_spacy = [make_lemmatized_word_list(i[1]) for i in reviews]"
   ]
  },
  {
   "cell_type": "markdown",
   "metadata": {},
   "source": [
    "Let's take a look at the lemmatized word list of reviews(using spaCy):"
   ]
  },
  {
   "cell_type": "code",
   "execution_count": 12,
   "metadata": {},
   "outputs": [
    {
     "data": {
      "text/plain": [
       "[['enjoy', 'shoot', 'canon', 'powershot'],\n",
       " ['exterior',\n",
       "  'design',\n",
       "  'combine',\n",
       "  'form',\n",
       "  'function',\n",
       "  'elegantly',\n",
       "  'point',\n",
       "  'shoot',\n",
       "  'test']]"
      ]
     },
     "execution_count": 12,
     "metadata": {},
     "output_type": "execute_result"
    }
   ],
   "source": [
    "lemma_spacy[:2]"
   ]
  },
  {
   "cell_type": "markdown",
   "metadata": {},
   "source": [
    "### Using NLTK WordNetLemmatizer"
   ]
  },
  {
   "cell_type": "markdown",
   "metadata": {},
   "source": [
    "nltk also has WordNetLemmatizer which can lemmatize words. <br>\n",
    "We should provide `pos` while using `WordNetLemmatizer.lemmatize()` to get a more accurate outcome (the default is `pos = NOUN`)<br>\n",
    "(From the [documentation](http://www.nltk.org/_modules/nltk/corpus/reader/wordnet.html), we can see that `POS_LIST = [NOUN, VERB, ADJ, ADV]`)\n",
    "\n",
    "By using `pos_tag(word_tokenize(word))`(see this [link](http://www.nltk.org/_modules/nltk/tag.html) for ducumentation), we can get the [Penn Treebank tag](https://www.ling.upenn.edu/courses/Fall_2003/ling001/penn_treebank_pos.html) of the word.<br>\n",
    "\n",
    "The following method `get_wordnet_pos` can map Penn Treebank tag to `pos`.<br>"
   ]
  },
  {
   "cell_type": "code",
   "execution_count": 13,
   "metadata": {},
   "outputs": [
    {
     "name": "stdout",
     "output_type": "stream",
     "text": [
      "[nltk_data] Downloading package punkt to /Users/Amyhuang/nltk_data...\n",
      "[nltk_data]   Package punkt is already up-to-date!\n"
     ]
    },
    {
     "data": {
      "text/plain": [
       "True"
      ]
     },
     "execution_count": 13,
     "metadata": {},
     "output_type": "execute_result"
    }
   ],
   "source": [
    "nltk.download('punkt')"
   ]
  },
  {
   "cell_type": "code",
   "execution_count": 14,
   "metadata": {
    "collapsed": true
   },
   "outputs": [],
   "source": [
    "from nltk.stem import WordNetLemmatizer\n",
    "from nltk.corpus import wordnet\n",
    "from nltk import pos_tag, word_tokenize\n",
    "#map Penn Treebank tag to wornet pos\n",
    "def get_wordnet_pos(tag):\n",
    "    if tag.startswith('N'):\n",
    "        return wordnet.NOUN\n",
    "    elif tag.startswith('V'):\n",
    "        return wordnet.VERB\n",
    "    elif tag.startswith('J'):\n",
    "        return wordnet.ADJ\n",
    "    elif tag.startswith('R'):\n",
    "        return wordnet.ADV\n",
    "    else:\n",
    "        return None\n",
    "#transform a sentence into a list of lemmatized words\n",
    "def make_word_list(sent):\n",
    "    lemmatizer = WordNetLemmatizer()\n",
    "    lemmatized_word_list = []\n",
    "    for word, tag in pos_tag(word_tokenize(sent.lower())):\n",
    "        wntag = get_wordnet_pos(tag)\n",
    "        if not wntag:\n",
    "            lemma = word\n",
    "        else:\n",
    "            lemma = lemmatizer.lemmatize(word, wntag)\n",
    "\n",
    "        if re.match('[a-zA-Z]+$', lemma) and (lemma not in stopwords.words(\"english\")):\n",
    "            lemmatized_word_list.append(lemma)\n",
    "    return lemmatized_word_list"
   ]
  },
  {
   "cell_type": "code",
   "execution_count": 15,
   "metadata": {
    "collapsed": true,
    "scrolled": true
   },
   "outputs": [],
   "source": [
    "lemma_nltk = [make_word_list(i[1]) for i in reviews]"
   ]
  },
  {
   "cell_type": "markdown",
   "metadata": {},
   "source": [
    "Let's take a look at the lemmatized word list of reviews(using NLTK):"
   ]
  },
  {
   "cell_type": "code",
   "execution_count": 16,
   "metadata": {},
   "outputs": [
    {
     "data": {
      "text/plain": [
       "[['really', 'enjoy', 'shoot', 'canon', 'powershot'],\n",
       " ['exterior',\n",
       "  'design',\n",
       "  'combine',\n",
       "  'form',\n",
       "  'function',\n",
       "  'elegantly',\n",
       "  'ever',\n",
       "  'test']]"
      ]
     },
     "execution_count": 16,
     "metadata": {},
     "output_type": "execute_result"
    }
   ],
   "source": [
    "lemma_nltk[:2]"
   ]
  },
  {
   "cell_type": "markdown",
   "metadata": {},
   "source": [
    "The lemmatizing outcome using spaCy and using NLTK is different.  This is pretty clear by looking at the first review.\n",
    "One has the word 'really' and the other doesn't.<br>"
   ]
  },
  {
   "cell_type": "markdown",
   "metadata": {},
   "source": [
    "## Training classifiers"
   ]
  },
  {
   "cell_type": "markdown",
   "metadata": {},
   "source": [
    "Before training the model, we use train_test_split in sklearn to generate train set and test set. <br>\n",
    "Note: we will use `lemma_nltk`, the lemmatized outcome using nltk, in the following part."
   ]
  },
  {
   "cell_type": "code",
   "execution_count": 17,
   "metadata": {
    "collapsed": true
   },
   "outputs": [],
   "source": [
    "from sklearn.model_selection import train_test_split\n",
    "X_train, X_test, y_train, y_test = train_test_split(lemma_nltk, label, test_size=0.25, random_state=15688)"
   ]
  },
  {
   "cell_type": "code",
   "execution_count": 18,
   "metadata": {},
   "outputs": [
    {
     "name": "stdout",
     "output_type": "stream",
     "text": [
      "Number of reviews in train set and test set\n",
      "X_train: 1565\n",
      "y_train: 1565\n",
      "X_test : 522\n",
      "y_test : 522\n"
     ]
    }
   ],
   "source": [
    "print('Number of reviews in train set and test set')\n",
    "print('X_train:', len(X_train))\n",
    "print('y_train:', len(y_train))\n",
    "print('X_test :', len(X_test))\n",
    "print('y_test :', len(y_test))"
   ]
  },
  {
   "cell_type": "markdown",
   "metadata": {},
   "source": [
    "We have 1565 samples as the train set and 522 samples as the test set.\n",
    "Next, we will go through two ways of training a classifier:\n",
    "1. NLTK NaiveBayesClassifier\n",
    "2. sklearn BernoulliNB"
   ]
  },
  {
   "cell_type": "markdown",
   "metadata": {},
   "source": [
    "### Using NLTK NaiveBayesClassifier"
   ]
  },
  {
   "cell_type": "markdown",
   "metadata": {},
   "source": [
    "First, let's use [NaiveBayesClassifier](http://www.nltk.org/_modules/nltk/classify/naivebayes.html) in nltk.<br>\n",
    "There is a specific format for the input of NaiveBayesClassifier.<br>\n",
    "The documentation of nltk says, 'The first step in creating a classifier is deciding what features of the input are relevant, and how to encode those features.' <br>\n",
    "Next, 'we need to prepare a list of examples and corresponding class labels.' Which means transferring each data into the following format: <br>\n",
    "(encoded features, class label) <br>\n",
    "Please look at the examples given in this [document](http://www.nltk.org/book/ch06.html) for further details.\n",
    "\n",
    "In our case, the feature we are using will be whether a word(lemma) exists in the review.\n",
    "Each review will be transformed to a tuple with the following format: <br>\n",
    "( a dictionary of lemma, positive/negative ) <br>\n",
    "\n",
    "Let's take a review as example:<br>\n",
    "\n",
    "> The original review:<br>\n",
    "> `We really enjoyed shooting with the Canon PowerShot SD500. `<br>\n",
    "> The lemmatized word list of this sentence:<br>\n",
    "> `['enjoy', 'shoot', 'canon', 'powershot']`<br>\n",
    "> The input of NaiveBayesClassifier:<br>\n",
    "> `({'enjoy': True, 'shoot': True, 'canon': True, 'powershot': True}, 'positive')`<br>\n",
    "\n",
    "The following is transforming the reviews to the specific format for training the NaiveBayesClassifier."
   ]
  },
  {
   "cell_type": "code",
   "execution_count": 19,
   "metadata": {
    "collapsed": true
   },
   "outputs": [],
   "source": [
    "def make_word_dic(X):\n",
    "    dictionary = {}\n",
    "    for word in X:        \n",
    "        dictionary[word] = True\n",
    "    return dictionary\n",
    "def make_nb_input(X, y):\n",
    "    annote_reviews = []\n",
    "    for words, sign in zip(X, y):\n",
    "        if sign == 1:\n",
    "            annote_reviews.append((make_word_dic(words), 'positive'))\n",
    "        else:\n",
    "            annote_reviews.append((make_word_dic(words), 'negative'))\n",
    "    return annote_reviews\n",
    "\n",
    "annote_X_train = make_nb_input(X_train, y_train)\n",
    "annote_X_test = make_nb_input(X_test, y_test)"
   ]
  },
  {
   "cell_type": "markdown",
   "metadata": {},
   "source": [
    "We train the classifier by calling `NaiveBayesClassifier.train(annoted_X_train)`, and get the accuracy by calling `util.accuracy(classifier, annote_X_test)`."
   ]
  },
  {
   "cell_type": "code",
   "execution_count": 20,
   "metadata": {},
   "outputs": [
    {
     "name": "stdout",
     "output_type": "stream",
     "text": [
      "Accuracy: 0.6475095785440613\n"
     ]
    }
   ],
   "source": [
    "from nltk.classify import NaiveBayesClassifier\n",
    "from nltk.classify import util\n",
    "\n",
    "classifier = NaiveBayesClassifier.train(annote_X_train)\n",
    "accuracy = util.accuracy(classifier, annote_X_test)\n",
    "print('Accuracy:' , accuracy)"
   ]
  },
  {
   "cell_type": "markdown",
   "metadata": {},
   "source": [
    "By calling `show_most_informative_features()`, we can see what lemmas are most informative while classifying whether the review is positive or negative."
   ]
  },
  {
   "cell_type": "code",
   "execution_count": 21,
   "metadata": {},
   "outputs": [
    {
     "name": "stdout",
     "output_type": "stream",
     "text": [
      "Most Informative Features\n",
      "                 scratch = True           negati : positi =     12.3 : 1.0\n",
      "                    pain = True           negati : positi =     12.3 : 1.0\n",
      "                customer = True           negati : positi =     11.6 : 1.0\n",
      "                    flaw = True           negati : positi =     10.0 : 1.0\n",
      "                     fix = True           negati : positi =      9.5 : 1.0\n",
      "                    site = True           negati : positi =      8.3 : 1.0\n",
      "              completely = True           negati : positi =      8.1 : 1.0\n",
      "               sometimes = True           negati : positi =      8.1 : 1.0\n",
      "                   audio = True           positi : negati =      7.8 : 1.0\n",
      "                    pull = True           negati : positi =      7.6 : 1.0\n",
      "                  damage = True           negati : positi =      7.6 : 1.0\n",
      "                   later = True           negati : positi =      6.7 : 1.0\n",
      "                    stay = True           negati : positi =      6.4 : 1.0\n",
      "                  repair = True           negati : positi =      6.4 : 1.0\n",
      "                security = True           negati : positi =      6.4 : 1.0\n",
      "                   annoy = True           negati : positi =      6.4 : 1.0\n",
      "           unfortunately = True           negati : positi =      6.4 : 1.0\n",
      "                  reboot = True           negati : positi =      6.4 : 1.0\n",
      "                 promise = True           negati : positi =      6.4 : 1.0\n",
      "                  norton = True           negati : positi =      6.4 : 1.0\n"
     ]
    }
   ],
   "source": [
    "classifier.show_most_informative_features(n = 20)"
   ]
  },
  {
   "cell_type": "markdown",
   "metadata": {},
   "source": [
    "If 'pain' appears in the review, the chance that it is a negative review is 12.3 times more than the chance that it is a positive review. <br>\n",
    "It is reasonable when words like 'pain', 'scratch', 'damage', 'annoy'... appear in the review, it's more likely that it is a negative review. <br>\n",
    "\n",
    "The classifier can also test other reviews by using `classifier.classify(review)`<br>\n",
    "The input should be encoded features, a dictionary of lemma in our case."
   ]
  },
  {
   "cell_type": "code",
   "execution_count": 22,
   "metadata": {
    "collapsed": true
   },
   "outputs": [],
   "source": [
    "# this is a 1-star review I got on Amazon (https://www.amazon.com/VicTsing-Wireless-Portable-Receiver-Adjustable/product-reviews/B013WC0P2A/ref=cm_cr_dp_d_hist_1?ie=UTF8&filterByStar=one_star&reviewerType=all_reviews#reviews-filter-bar)\n",
    "testing_rev = '''The mouse pauses every couple seconds. Tested this on a few computers and it does the same thing. Not sure if this is a common problem but i wanted it to be known that this does happen.\n",
    "\n",
    "The scroll wheel on mine seems to be misshaped and gets caught on something when scrolling.\n",
    "\n",
    "Overall, the build quality of the mouse is sub par. I have bought sub-$20 mice in the past and this is honestly one of the worst ones i've used. Will be requesting a return and refund.'''"
   ]
  },
  {
   "cell_type": "code",
   "execution_count": 23,
   "metadata": {},
   "outputs": [
    {
     "data": {
      "text/plain": [
       "'negative'"
      ]
     },
     "execution_count": 23,
     "metadata": {},
     "output_type": "execute_result"
    }
   ],
   "source": [
    "classifier.classify(make_word_dic(make_word_list(testing_rev)))"
   ]
  },
  {
   "cell_type": "markdown",
   "metadata": {},
   "source": [
    "This 1-star review is classified as a negative review.  Though this doesn't mean everything, at least for this example the classifier seems to be working ok."
   ]
  },
  {
   "cell_type": "markdown",
   "metadata": {},
   "source": [
    "### Using sklearn BernoulliNB"
   ]
  },
  {
   "cell_type": "markdown",
   "metadata": {},
   "source": [
    "Next, let's use sklearn to train a classifier. <br>\n",
    "First, we transform reviews into the proper format. <br>\n",
    "We use [CountVecotizer](http://scikit-learn.org/stable/modules/generated/sklearn.feature_extraction.text.CountVectorizer.html#sklearn.feature_extraction.text.CountVectorizer) to make a sparse matrix with size `nxw`. <br>\n",
    "`n` is the number of reviews; `w` is the number of words. <br>\n",
    "The `(i, j)` value will be the number of times `jth` word appeared in `ith` review. <br>\n",
    "\n",
    "\n",
    "Note: The input should be a sentence not a list of words; therefore, we transform the list of words back to a string."
   ]
  },
  {
   "cell_type": "code",
   "execution_count": 24,
   "metadata": {
    "collapsed": true
   },
   "outputs": [],
   "source": [
    "context_text = [\" \".join(i) for i in X_train]"
   ]
  },
  {
   "cell_type": "markdown",
   "metadata": {},
   "source": [
    "We can set max_df and min_df to give a threshold of the frequency(float) or absolute counts(integer) vocabulary appear in the documents.\n",
    "Also, we can specify stop_words = 'english' to exclude stopwords from the vocabulary."
   ]
  },
  {
   "cell_type": "code",
   "execution_count": 25,
   "metadata": {},
   "outputs": [
    {
     "name": "stdout",
     "output_type": "stream",
     "text": [
      "Size of vocabulary(lemma): 800\n"
     ]
    }
   ],
   "source": [
    "from sklearn.feature_extraction.text import CountVectorizer\n",
    "\n",
    "count_vector = CountVectorizer(min_df = 5, stop_words = \"english\", max_df = 0.9)\n",
    "\n",
    "X = count_vector.fit_transform(context_text)\n",
    "\n",
    "print('Size of vocabulary(lemma):', X.shape[1])"
   ]
  },
  {
   "cell_type": "markdown",
   "metadata": {},
   "source": [
    "Part of vocabulary lists:"
   ]
  },
  {
   "cell_type": "code",
   "execution_count": 26,
   "metadata": {},
   "outputs": [
    {
     "name": "stdout",
     "output_type": "stream",
     "text": [
      "['ability', 'able', 'absolutely', 'access', 'accessory', 'actual', 'actually', 'adapter', 'add', 'addition']\n",
      "['wrench', 'write', 'wrong', 'xp', 'yahoo', 'yeah', 'year', 'yes', 'zen', 'zoom']\n"
     ]
    }
   ],
   "source": [
    "print(count_vector.get_feature_names()[:10])\n",
    "print(count_vector.get_feature_names()[-10:])"
   ]
  },
  {
   "cell_type": "markdown",
   "metadata": {},
   "source": [
    "Next, we use [BernoulliNB](http://scikit-learn.org/stable/modules/generated/sklearn.naive_bayes.BernoulliNB.html#sklearn.naive_bayes.BernoulliNB.score) as the classifier. <br>\n",
    "BernoulliNB has some parameters that we can decide its value. <br>\n",
    "By using cross-validation, the best hyperparameter for the test set can be chosen.  In our case, alpha, additive (Laplace/Lidstone) smoothing parameter, is the hyperparameter we can choose. <br>\n",
    "\n",
    "The following is splitting train set into 5 folds and assign one file as the validation set each time and iterate 5 times.<br>\n",
    "The validation set is used to evaluate the performance. <br>\n",
    "The alpha that has the best performance(in this case we use f1_score) on average is the best alpha.<br>"
   ]
  },
  {
   "cell_type": "code",
   "execution_count": 27,
   "metadata": {
    "collapsed": true
   },
   "outputs": [],
   "source": [
    "import numpy as np\n",
    "label_np = np.asarray(y_train)"
   ]
  },
  {
   "cell_type": "code",
   "execution_count": 28,
   "metadata": {},
   "outputs": [
    {
     "name": "stdout",
     "output_type": "stream",
     "text": [
      "best_alpha: 2.1\n"
     ]
    }
   ],
   "source": [
    "from sklearn.model_selection import KFold\n",
    "from sklearn.metrics import f1_score\n",
    "from sklearn.naive_bayes import BernoulliNB\n",
    "\n",
    "num_folds = 5\n",
    "k_fold = KFold(num_folds, shuffle = True, random_state = 15688)\n",
    "max_score = 0\n",
    "best_alpha = 0\n",
    "for a in range(1,51):\n",
    "    alpha_test = a/10\n",
    "    nb = BernoulliNB(alpha = alpha_test)\n",
    "    \n",
    "    total_score = 0\n",
    "    for train, test in k_fold.split(X, label_np):\n",
    "        nb.fit(X[train], label_np[train])\n",
    "        label_predict = nb.predict(X[test])\n",
    "        score = f1_score(label_np[test], label_predict)\n",
    "        total_score += score\n",
    "    mean_score = total_score/num_folds\n",
    "    if mean_score > max_score:\n",
    "        max_score = mean_score\n",
    "        best_alpha = alpha_test\n",
    "print(\"best_alpha:\", best_alpha)"
   ]
  },
  {
   "cell_type": "markdown",
   "metadata": {},
   "source": [
    "After getting the best alpha, train the model using best alpha as the parameter."
   ]
  },
  {
   "cell_type": "code",
   "execution_count": 29,
   "metadata": {},
   "outputs": [
    {
     "name": "stdout",
     "output_type": "stream",
     "text": [
      "Accuracy: 0.683908045977\n"
     ]
    }
   ],
   "source": [
    "nb = BernoulliNB(alpha = best_alpha)\n",
    "nb.fit(X, np.asarray(y_train))\n",
    "X_test_join = [\" \".join(i) for i in X_test]\n",
    "X_testing = count_vector.transform(X_test_join)\n",
    "print('Accuracy:', nb.score(X_testing, np.asarray(y_test)))"
   ]
  },
  {
   "cell_type": "markdown",
   "metadata": {},
   "source": [
    "`sklearn` gives us more flexibility in choosing hyperparameters; this may be the reason why it is performing better on accuracy comparing to `nltk`. <br>\n",
    "However, accuracy isn't the only way to evaluate a model; we can choose to use different classifiers due to needs or preference. <br>\n",
    "While nltk has `show_most_informative_features()` which can show features that are most informative in classification, sklearn doesn't have a similar method. <br>\n",
    "The following method can manually extract and print the top 10 informative features."
   ]
  },
  {
   "cell_type": "code",
   "execution_count": 30,
   "metadata": {
    "collapsed": true
   },
   "outputs": [],
   "source": [
    "def print_top10(vectorizer, clf, class_labels):\n",
    "    feature_names = vectorizer.get_feature_names()\n",
    "    top10 = np.argsort(clf.coef_[0])[-10:]\n",
    "    print([feature_names[j] for j in top10])"
   ]
  },
  {
   "cell_type": "code",
   "execution_count": 31,
   "metadata": {},
   "outputs": [
    {
     "name": "stdout",
     "output_type": "stream",
     "text": [
      "['player', 'ipod', 'like', 'phone', 'router', 'work', 'camera', 'great', 'good', 'use']\n"
     ]
    }
   ],
   "source": [
    "print_top10(count_vector, nb, nb.classes_)"
   ]
  },
  {
   "cell_type": "markdown",
   "metadata": {},
   "source": [
    "Words 'like', 'great', 'good' seems to be reasonable while words like 'ipod', 'player' don't seem important in classifying whether the review is positive or negative."
   ]
  },
  {
   "cell_type": "markdown",
   "metadata": {},
   "source": [
    "Another pro of sklearn is the metrics it has that are easy to approach. <br>\n",
    "Let's take roc curve as example."
   ]
  },
  {
   "cell_type": "code",
   "execution_count": 32,
   "metadata": {},
   "outputs": [
    {
     "data": {
      "image/png": "[encoded data removed]",
      "text/plain": [
       "<matplotlib.figure.Figure at 0x128748eb8>"
      ]
     },
     "metadata": {},
     "output_type": "display_data"
    }
   ],
   "source": [
    "from sklearn.metrics import roc_curve\n",
    "import matplotlib.pyplot as plt\n",
    "import matplotlib\n",
    "%matplotlib inline\n",
    "matplotlib.style.use('ggplot')\n",
    "\n",
    "plt.figure(figsize=(10,10))\n",
    "X_test_trans = count_vector.transform(X_test_join)\n",
    "y_test = np.array(y_test)\n",
    "\n",
    "#draw ROC of Bernoulli Naive Bayes\n",
    "y_score = nb.predict_proba(X_test_trans)[:,1]\n",
    "fpr, tpr, thresholds = roc_curve(y_test, y_score, pos_label=1)\n",
    "auc = np.trapz(tpr, fpr)\n",
    "plt.plot(fpr, tpr, label=\"Bernoulli Naive Bayes AUC=\" + str(auc), lw=3, color='C1')\n",
    "plt.title('ROC Curve')\n",
    "plt.xlabel(\"FPR\")\n",
    "plt.ylabel(\"TPR\")\n",
    "plt.legend()\n",
    "plt.show()"
   ]
  },
  {
   "cell_type": "markdown",
   "metadata": {},
   "source": [
    "# Summary"
   ]
  },
  {
   "cell_type": "markdown",
   "metadata": {},
   "source": [
    "This tutorial used product reviews(9 products) from nltk.corpus to do sentiment analysis. <br>\n",
    "Two different ways to lemmatize the words - using __spaCy__ and __NLTK WordNetLemmatizer__ - and two ways to train the classifier - __NLTK NaiveBayesClassifier__ and __sklearn BernoulliNB__- are included in the tutorial. <br>\n",
    "They all have pros and cons; no one is significantly better than the other.  The choice can be made base on needs or preferences. <br>\n",
    "This tutorial is an introduction to sentiment analysis, and hope you get a basic idea of classifying positive and negative reviews."
   ]
  }
 ],
 "metadata": {
  "kernelspec": {
   "display_name": "Python 3",
   "language": "python",
   "name": "python3"
  },
  "language_info": {
   "codemirror_mode": {
    "name": "ipython",
    "version": 3
   },
   "file_extension": ".py",
   "mimetype": "text/x-python",
   "name": "python",
   "nbconvert_exporter": "python",
   "pygments_lexer": "ipython3",
   "version": "3.6.3"
  }
 },
 "nbformat": 4,
 "nbformat_minor": 2
}
