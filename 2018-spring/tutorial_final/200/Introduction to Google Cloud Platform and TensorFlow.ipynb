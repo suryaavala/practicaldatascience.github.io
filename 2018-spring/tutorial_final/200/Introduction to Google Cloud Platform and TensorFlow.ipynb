{
 "cells": [
  {
   "cell_type": "markdown",
   "metadata": {},
   "source": [
    "# Introduction to Google Cloud Platform and TensorFlow"
   ]
  },
  {
   "cell_type": "markdown",
   "metadata": {},
   "source": [
    "## Introduction\n",
    "\n",
    "This tutorial will introduce you to Google Cloud Compute Engine and TensorFlow. We will go through the basics of tensorflow and implement linear regression, classification and neural networks in tensorflow and run them on Google standalone compute engine. Then, we will submit our model to google cloud which can handle large amounts of data and computational requirement. Often times, Companies buy cloud resources from Goolge or AWS for their Data Science infrastucture instead of buying on-the-premise hardware. We will know how they implement their ML projects using google cloud.\n",
    "\n",
    "Note: This tutorial assumes that you know about linear regression, classification and mnist digit classification.This tutorial has been run on GCP and it might not work on local computer or AWS. It requires tensorflow installed and connectivity to the GCP disk storage. It is advisable to run this notebook on GCP and not on any other platforms."
   ]
  },
  {
   "cell_type": "code",
   "execution_count": 1,
   "metadata": {
    "collapsed": true
   },
   "outputs": [],
   "source": [
    "#This cell has been put to support the hosting of images on jupyter notebook from github\n",
    "\n",
    "from IPython.display import Image\n",
    "from IPython.core.display import HTML"
   ]
  },
  {
   "cell_type": "markdown",
   "metadata": {},
   "source": [
    "\n",
    "## Tutorial content\n",
    "\n",
    "In this tutorial, we will learn how to setup the Google VM ( Compute Engine ) and start the Datalab ( Jupyter Notebook ), and then run the ML models using Tensorflow.\n",
    "\n",
    "We will be using sample data for the ML models. Our focus here is to know the implementation of ML models using Tensorflow than data, hence sample data has been chosen and more focus is given to implementation part. However, for nerual networks, the classical example of MNIST numbers identification has been chosen.\n",
    "\n",
    "\n",
    "We will cover the following topics in this tutorial:\n",
    "\n",
    "   [Setting up the Google Cloud Platform Account](#Setting-up-the-Google-Cloud-Platform-Account---Free-Trial)\n",
    "\n",
    "   [Starting the Compute Engine VM](#Starting-the-Compute-Engine-VM)\n",
    "\n",
    "   [Connecting to Datalab](#Connecting-to-Datalab)\n",
    "\n",
    "   [Basics of Tensorflow](#Basics-of-Tensorflow)\n",
    "\n",
    "   [Linear Regression](#Linear-Regression)\n",
    "\n",
    "   [Classification](#Classification)\n",
    "\n",
    "   [Neural Networks](#Neural-Networks)\n",
    "\n",
    "   [Scaling up ML using Cloud ML Engine](#Scaling-up-ML-using-Cloud-ML-Engine)\n",
    "\n",
    "   [References](#References:)\n",
    "\n"
   ]
  },
  {
   "cell_type": "markdown",
   "metadata": {},
   "source": [
    "## Setting up the Google Cloud Platform Account - Free Trial\n",
    "\n",
    "Follow the instructions mentioned here to set up a google cloud platform account https://codelabs.developers.google.com/codelabs/cpb100-free-trial/index.html#0 \n",
    "\n",
    "you need to have a google account and follow the steps carefully.\n",
    "You will be given a credit of $300 valid for one year.\n",
    "\n",
    "Required Time: 10 mins\n",
    "\n",
    "After successfull setup, You should get a GCP homepage like this:\n",
    "\n",
    "![](https://github.com/sathwikcm/pds-tutorial/raw/master/gcp_home.PNG)"
   ]
  },
  {
   "cell_type": "markdown",
   "metadata": {},
   "source": [
    "## Starting the Compute Engine VM \n",
    "\n",
    "After you have successfully set up your account, start the compute engine by following these instructions https://codelabs.developers.google.com/codelabs/dataeng-machine-learning/index.html?index=#0 \n",
    "\n",
    "or you can start from the homepage as follows as: \n",
    "\n",
    "HomePage -> Options -> Compute -> Compute Engine -> VM Instance -> Create new instance \n",
    "\n",
    "![](https://github.com/sathwikcm/pds-tutorial/raw/master/vm.PNG)\n",
    "\n",
    "Note: Before creating any instance, please make sure whether the selected features of the product(or instance) are within the free trial limits or not. Google cloud will prompt you when you try to activate billable services but be careful.\n"
   ]
  },
  {
   "cell_type": "markdown",
   "metadata": {},
   "source": [
    "## Connecting to Datalab\n",
    "\n",
    "Datalab is like a Jupyter Notebook where you run your Python code and see the results. In google terms, Jupyter Notebook is Datalab, but with most Google-like features embedded into it. After the VM is started, follow these instructions to start the Datalab\n",
    "\n",
    "Step 1: In Google Cloud Shell, type:\n",
    "*gcloud compute zones list*\n",
    "\n",
    "Pick a zone in a geographically closeby region.\n",
    "\n",
    "Step 2: In Google Cloud Shell, type:\n",
    "*datalab create dataengvm --zone USER_INPUT_SELECTED_ZONE_NAME*\n",
    "\n",
    "This step will take about 3-5 minutes to start. Follow the prompts during this process. If you are not yet familiar with Datalab, follow this:\n",
    "\n",
    "![](https://github.com/sathwikcm/pds-tutorial/raw/master/datalab.PNG)\n",
    "\n",
    "For more information: https://codelabs.developers.google.com/codelabs/dataeng-machine-learning/index.html?index=#2 \n",
    "\n",
    "Or, if you are starting the VM using UI, then follow these instructions:\n",
    "Google Cloud Platform console -> Options -> Products and Services -> Compute Engine -> VM Instances -> Start the VM\n",
    "\n",
    "After the VM starts, Open the google cloud shell, and run the following command to get the datalab:\n",
    "datalab connect --zone us-east1-b --port 8081 dataengvm\n",
    "Note: this command is not specified in the intial instructions, it took me time to get this command. Hence I am providing it explicitly so that you do not create a VM repeatedly. You need to create a VM only once, and the reuse it whenever you want. Also, dont forget to stop it when you are done with your work.\n",
    "\n",
    "![](https://github.com/sathwikcm/pds-tutorial/raw/master/command.PNG)\n",
    "\n",
    "Successful datalab opening in browswer should look like this:\n",
    "\n",
    "![](https://github.com/sathwikcm/pds-tutorial/raw/master/gcd.PNG)"
   ]
  },
  {
   "cell_type": "markdown",
   "metadata": {},
   "source": [
    "Now, we are all set for building ML models in Google compute engine datalab. The following exercises will explain how to implement the basic models in tensorflow. Note: Here we are focussing on the implementation ( syntax, functions, the details of programming in tensorflow ) of models in tensorflow and not really on the actual data."
   ]
  },
  {
   "cell_type": "markdown",
   "metadata": {},
   "source": [
    "## Basics of Tensorflow\n",
    "\n",
    "TensorFlow is an open source software library for numerical computation using data-flow graphs. It was originally developed by the Google Brain Team within Google's Machine Intelligence research organization for machine learning and deep neural networks research.\n",
    "\n",
    "TensorFlow is cross-platform. It runs on nearly everything: GPUs and CPUs—including mobile and embedded platforms—and even tensor processing units (TPUs), which are specialized hardware to do tensor math on. \n",
    "\n",
    "For more info: https://www.tensorflow.org/\n",
    "\n",
    "Following picture shows the interface of tensorflow:\n",
    "\n",
    "![](https://github.com/sathwikcm/pds-tutorial/raw/master/1tensorflow.png)\n",
    "\n",
    "TensorFlow allows to build data flow graphs and allows us to better apply numerical computation on it in a easier way. Thus, it helps us to build deep neural networks. A deep neural network is neural network having two or more hidden layers. Data is passed in the form of multidimensional arrays which are called Tensors. Within each graph, each node represents mathematical operations and edges of graphs represents tensors. \n",
    "\n",
    "Tensor: n-dimensional array \n",
    "\n",
    "Flow: data flow computational framework ( like mapreduce )\n",
    "\n",
    "for example: \n",
    "\n",
    "![](https://github.com/sathwikcm/pds-tutorial/raw/master/graph.PNG)\n"
   ]
  },
  {
   "cell_type": "markdown",
   "metadata": {},
   "source": [
    "#### We will see how numerical computation like addition, subtraction and multiplication are done in Tensorflow.\n",
    "\n",
    "The way the tensorflow works is that first, we need to build a computational graph or a model .The model could be any number of nodes from 1 to n. Then after the model is ready then, we create a tensorflow session and start the session with the input nodes. When session's run method is called then only all the computation will happen. ( lazy evaluation )"
   ]
  },
  {
   "cell_type": "code",
   "execution_count": 6,
   "metadata": {},
   "outputs": [
    {
     "name": "stdout",
     "output_type": "stream",
     "text": [
      "Addition: 5\n",
      "Subtraction: -1\n",
      "Multiply: 6\n"
     ]
    }
   ],
   "source": [
    "# import tensorflow\n",
    "import warnings\n",
    "warnings.filterwarnings('ignore')\n",
    "\n",
    "import tensorflow as tf\n",
    "\n",
    "# build computational graph\n",
    "a = tf.placeholder(tf.int16)\n",
    "b = tf.placeholder(tf.int16)\n",
    "#Placeholders are like the variable with no value on them but later we can place the value on it. \n",
    "#tf.Placeholder is used to feed actual training data\n",
    "\n",
    "#Add logic\n",
    "addition = tf.add(a, b)\n",
    "subtraction = tf.subtract(a, b)\n",
    "multiply = tf.multiply(a, b)\n",
    "\n",
    "\n",
    "# initialize variables\n",
    "init = tf.global_variables_initializer()\n",
    "#Since first we build a model so we have to run the initializer in the session first.\n",
    "\n",
    "# create session and run the graph\n",
    "#To run them we need to create a tensorflow session as: \n",
    "with tf.Session() as sess:\n",
    "    sess.run(init)\n",
    "    print(\"Addition: %i\" % sess.run(addition, feed_dict={a: 2, b: 3}))\n",
    "    print (\"Subtraction: %i\" % sess.run(subtraction, feed_dict={a: 2, b: 3}))\n",
    "    print (\"Multiply: %i\" % sess.run(multiply, feed_dict={a: 2, b: 3}))\n",
    "\n",
    "# close session\n",
    "sess.close()"
   ]
  },
  {
   "cell_type": "markdown",
   "metadata": {},
   "source": [
    "## Linear Regression \n",
    "\n",
    "case 1: Linear regression using Gradient Descent\n",
    "\n",
    "First, we will implement the linear regression in tensorflow using gradient descent optimization.\n",
    "and then we will use the estimator.\n",
    "\n",
    "Linear regression is a supervised machine learning approach for modeling a linear relationship between a dependent variable and one or more independent variables. In very simple words, it is an approach to create a straight line or a model from discrete values and generate an output which is continuous. "
   ]
  },
  {
   "cell_type": "code",
   "execution_count": 8,
   "metadata": {},
   "outputs": [
    {
     "name": "stdout",
     "output_type": "stream",
     "text": [
      "Epoch : 400 cost= 0.084393904 weight= 0.2978773 constant= 0.45411676\n",
      "Epoch : 800 cost= 0.079749130 weight= 0.27915746 constant= 0.5887861\n",
      "Epoch : 1200 cost= 0.078014463 weight= 0.26769587 constant= 0.6712396\n",
      "Epoch : 1600 cost= 0.077368155 weight= 0.26067758 constant= 0.72172874\n",
      "Epoch : 2000 cost= 0.077128291 weight= 0.25637951 constant= 0.7526493\n",
      "Epoch : 2400 cost= 0.077039897 weight= 0.25374752 constant= 0.7715835\n",
      "Epoch : 2800 cost= 0.077007689 weight= 0.25213587 constant= 0.78317773\n",
      "Epoch : 3200 cost= 0.076996207 weight= 0.2511506 constant= 0.7902656\n",
      "Epoch : 3600 cost= 0.076992281 weight= 0.25054836 constant= 0.7945974\n",
      "Epoch : 4000 cost= 0.076990977 weight= 0.250179 constant= 0.7972556\n",
      "Epoch : 4400 cost= 0.076990627 weight= 0.24995302 constant= 0.7988808\n",
      "Epoch : 4800 cost= 0.076990604 weight= 0.2498157 constant= 0.7998687\n",
      "\n",
      "Training cost= 0.0769906 W= 0.24976835 b= 0.8002097 \n",
      "\n"
     ]
    },
    {
     "data": {
      "image/png": "[encoded data removed]",
      "text/plain": [
       "<matplotlib.figure.Figure at 0x7fb2d526e2e8>"
      ]
     },
     "metadata": {},
     "output_type": "display_data"
    }
   ],
   "source": [
    "import tensorflow as tf\n",
    "import numpy\n",
    "import matplotlib.pyplot as plt\n",
    "rng = numpy.random\n",
    "\n",
    "# Parameters\n",
    "learning_rate = 0.01\n",
    "training_epochs = 5000\n",
    "step = 400\n",
    "\n",
    "# Training Data\n",
    "train_X = numpy.asarray([3.3,4.4,5.5,6.71,6.93,4.168,9.779,6.182,7.59,2.167,\n",
    "                         7.042,10.791,5.313,7.997,5.654,9.27,3.1])\n",
    "train_Y = numpy.asarray([1.7,2.76,2.09,3.19,1.694,1.573,3.366,2.596,2.53,1.221,\n",
    "                         2.827,3.465,1.65,2.904,2.42,2.94,1.3])\n",
    "n_samples = train_X.shape[0]\n",
    "\n",
    "# tf Graph Input\n",
    "X = tf.placeholder(\"float\")\n",
    "Y = tf.placeholder(\"float\")\n",
    "\n",
    "# Set model weights\n",
    "weight = tf.Variable(rng.randn(), name=\"weight\")\n",
    "constant = tf.Variable(rng.randn(), name=\"bias\")\n",
    "\n",
    "# Construct a linear model\n",
    "pred = tf.add(tf.multiply(X, weight), constant)\n",
    "\n",
    "# Mean squared error\n",
    "cost = tf.reduce_sum(tf.pow(pred-Y, 2))/(2*n_samples)\n",
    "# Gradient descent\n",
    "#  Note, minimize() knows to modify W and b because Variable objects are trainable=True by default\n",
    "optimizer = tf.train.GradientDescentOptimizer(learning_rate).minimize(cost)\n",
    "\n",
    "# Initialize the variables (i.e. assign their default value)\n",
    "init = tf.global_variables_initializer()\n",
    "\n",
    "# Start training\n",
    "with tf.Session() as sess:\n",
    "\n",
    "    # Run the initializer\n",
    "    sess.run(init)\n",
    "\n",
    "    # Fit all training data\n",
    "    for epoch in range(training_epochs):\n",
    "        for (x, y) in zip(train_X, train_Y):\n",
    "            sess.run(optimizer, feed_dict={X: x, Y: y})\n",
    "\n",
    "        # Display logs per epoch step\n",
    "        if (epoch+1) % step == 0:\n",
    "            c = sess.run(cost, feed_dict={X: train_X, Y:train_Y})\n",
    "            print(\"Epoch :\", '%3d' % (epoch+1), \"cost=\", \"{:.9f}\".format(c), \\\n",
    "                \"weight=\", sess.run(weight), \"constant=\", sess.run(constant))\n",
    "\n",
    "    \n",
    "    training_cost = sess.run(cost, feed_dict={X: train_X, Y: train_Y})\n",
    "    print(\"\\nTraining cost=\", training_cost, \"W=\", sess.run(weight), \"b=\", sess.run(constant), '\\n')\n",
    "\n",
    "    # Graphic display\n",
    "    plt.plot(train_X, train_Y, 'ro', label='Original data')\n",
    "    plt.plot(train_X, sess.run(weight) * train_X + sess.run(constant), label='Fitted line')\n",
    "    plt.title(\"Linear Regression Example\\n\")\n",
    "    plt.legend()\n",
    "    plt.show()\n",
    "    plt.show()"
   ]
  },
  {
   "cell_type": "markdown",
   "metadata": {},
   "source": [
    "As you can see, with each epoch, the cost value decreases. Each epoch is one training iteration, so in every iteration all training samples are iterated once. When calling the tensorflow model's train function with the parameter epochs, you are actually setting how many times your model should be trained on your training data. In short, Epoch: One pass through the whole training data. Batch size: The number of samples seen in one batch. If there are 10000 examples and the batch size is 1000, then there will be 100 steps per epoch. The Epochs and batch size completely define the number of steps."
   ]
  },
  {
   "cell_type": "markdown",
   "metadata": {},
   "source": [
    "## Linear regresison using inbuilt TensorFlow Estimator\n",
    "\n",
    "Let us see how we can implement different models using the inbuilt estimators. The current example deals with the automobile data where cylinders ,displacement ,\thorsepower, \tweight, \tacceleration are the features ( independent variables) and mpg ( miles per gallon ) is the dependent variable.\n",
    "\n",
    "please download the data from https://www.dropbox.com/sh/6i5p29pckqorg0i/AAAAjZ0_7SGSO4kJVLBp4u8ea?dl=0"
   ]
  },
  {
   "cell_type": "code",
   "execution_count": 9,
   "metadata": {},
   "outputs": [
    {
     "data": {
      "text/html": [
       "<div>\n",
       "<style scoped>\n",
       "    .dataframe tbody tr th:only-of-type {\n",
       "        vertical-align: middle;\n",
       "    }\n",
       "\n",
       "    .dataframe tbody tr th {\n",
       "        vertical-align: top;\n",
       "    }\n",
       "\n",
       "    .dataframe thead th {\n",
       "        text-align: right;\n",
       "    }\n",
       "</style>\n",
       "<table border=\"1\" class=\"dataframe\">\n",
       "  <thead>\n",
       "    <tr style=\"text-align: right;\">\n",
       "      <th></th>\n",
       "      <th>cylinders</th>\n",
       "      <th>displacement</th>\n",
       "      <th>horsepower</th>\n",
       "      <th>weight</th>\n",
       "      <th>acceleration</th>\n",
       "      <th>mpg</th>\n",
       "    </tr>\n",
       "  </thead>\n",
       "  <tbody>\n",
       "    <tr>\n",
       "      <th>0</th>\n",
       "      <td>8</td>\n",
       "      <td>307.0</td>\n",
       "      <td>130</td>\n",
       "      <td>3504</td>\n",
       "      <td>12.0</td>\n",
       "      <td>18.0</td>\n",
       "    </tr>\n",
       "    <tr>\n",
       "      <th>1</th>\n",
       "      <td>8</td>\n",
       "      <td>350.0</td>\n",
       "      <td>165</td>\n",
       "      <td>3693</td>\n",
       "      <td>11.5</td>\n",
       "      <td>15.0</td>\n",
       "    </tr>\n",
       "    <tr>\n",
       "      <th>2</th>\n",
       "      <td>8</td>\n",
       "      <td>318.0</td>\n",
       "      <td>150</td>\n",
       "      <td>3436</td>\n",
       "      <td>11.0</td>\n",
       "      <td>18.0</td>\n",
       "    </tr>\n",
       "    <tr>\n",
       "      <th>3</th>\n",
       "      <td>8</td>\n",
       "      <td>304.0</td>\n",
       "      <td>150</td>\n",
       "      <td>3433</td>\n",
       "      <td>12.0</td>\n",
       "      <td>16.0</td>\n",
       "    </tr>\n",
       "    <tr>\n",
       "      <th>4</th>\n",
       "      <td>8</td>\n",
       "      <td>302.0</td>\n",
       "      <td>140</td>\n",
       "      <td>3449</td>\n",
       "      <td>10.5</td>\n",
       "      <td>17.0</td>\n",
       "    </tr>\n",
       "  </tbody>\n",
       "</table>\n",
       "</div>"
      ],
      "text/plain": [
       "   cylinders  displacement  horsepower  weight  acceleration   mpg\n",
       "0          8         307.0         130    3504          12.0  18.0\n",
       "1          8         350.0         165    3693          11.5  15.0\n",
       "2          8         318.0         150    3436          11.0  18.0\n",
       "3          8         304.0         150    3433          12.0  16.0\n",
       "4          8         302.0         140    3449          10.5  17.0"
      ]
     },
     "execution_count": 9,
     "metadata": {},
     "output_type": "execute_result"
    }
   ],
   "source": [
    "#Example dataset \n",
    "\n",
    "import numpy as np\n",
    "import tensorflow as tf\n",
    "import pandas as pd\n",
    "df = pd.read_csv(\"mpg.csv\")\n",
    "new_df =df[['cylinders', 'displacement', 'horsepower', 'weight', 'acceleration','mpg']]\n",
    "new_df.head()"
   ]
  },
  {
   "cell_type": "code",
   "execution_count": 10,
   "metadata": {
    "collapsed": true
   },
   "outputs": [],
   "source": [
    "y_name=\"mpg\"\n",
    "train_fraction=0.8\n",
    "path=\"mpg_train.csv\"\n",
    "import collections\n",
    "\n",
    "defaults = collections.OrderedDict([\n",
    "    (\"mpg\", [0.0]), (\"cylinders\", [0.0]), (\"displacement\", [0.0]), (\"horsepower\", [0.0]), (\"weight\", [0.0]), (\"acceleration\", [0.0])])\n",
    "\n",
    "def decode_line(line):\n",
    "    \"\"\"Convert a csv line into a (features_dict,label) pair.\"\"\"\n",
    "    # Decode the line to a tuple of items based on the types of\n",
    "    # csv_header.values().\n",
    "    items = tf.decode_csv(line, list(defaults.values()))\n",
    "\n",
    "    # Convert the keys and items to a dict.\n",
    "    pairs = zip(defaults.keys(), items)\n",
    "    features_dict = dict(pairs)\n",
    "\n",
    "    # Remove the label from the features_dict\n",
    "    label = features_dict.pop(y_name)\n",
    "\n",
    "    return features_dict, label\n",
    "def in_training_set(line):\n",
    "    \"\"\"Returns a boolean tensor, true if the line is in the training set.\"\"\"\n",
    "    # If you randomly split the dataset you won't get the same split in both\n",
    "    # sessions if you stop and restart training later. Also a simple\n",
    "    # random split won't work with a dataset that's too big to `.cache()` as\n",
    "    # we are doing here.\n",
    "    num_buckets = 1000000\n",
    "    bucket_id = tf.string_to_hash_bucket_fast(line, num_buckets)\n",
    "    # Use the hash bucket id as a random number that's deterministic per example\n",
    "    return bucket_id < int(train_fraction * num_buckets)\n",
    "\n",
    "def in_test_set(line):\n",
    "    \"\"\"Returns a boolean tensor, true if the line is in the training set.\"\"\"\n",
    "    # Items not in the training set are in the test set.\n",
    "    # This line must use `~` instead of `not` because `not` only works on python\n",
    "    # booleans but we are dealing with symbolic tensors.\n",
    "    return ~in_training_set(line)\n",
    "\n",
    "  \n",
    "base_dataset = (tf.data.TextLineDataset(path))\n",
    "\n",
    "train = (base_dataset.filter(in_training_set).map(decode_line).cache())\n",
    "\n",
    "  # Do the same for the test-set.\n",
    "test = (base_dataset.filter(in_test_set).cache().map(decode_line))\n",
    "\n"
   ]
  },
  {
   "cell_type": "markdown",
   "metadata": {
    "collapsed": true
   },
   "source": [
    "now, train the model"
   ]
  },
  {
   "cell_type": "code",
   "execution_count": 12,
   "metadata": {},
   "outputs": [
    {
     "name": "stdout",
     "output_type": "stream",
     "text": [
      "INFO:tensorflow:Using default config.\n",
      "WARNING:tensorflow:Using temporary folder as model directory: /tmp/tmphn9m_tzb\n",
      "INFO:tensorflow:Using config: {'_session_config': None, '_cluster_spec': <tensorflow.python.training.server_lib.ClusterSpec object at 0x7fb2d1f48b38>, '_keep_checkpoint_every_n_hours': 10000, '_task_id': 0, '_model_dir': '/tmp/tmphn9m_tzb', '_service': None, '_master': '', '_save_checkpoints_secs': 600, '_tf_random_seed': None, '_keep_checkpoint_max': 5, '_save_summary_steps': 100, '_is_chief': True, '_num_ps_replicas': 0, '_num_worker_replicas': 1, '_log_step_count_steps': 100, '_task_type': 'worker', '_save_checkpoints_steps': None}\n",
      "INFO:tensorflow:Create CheckpointSaverHook.\n",
      "INFO:tensorflow:Saving checkpoints for 1 into /tmp/tmphn9m_tzb/model.ckpt.\n",
      "INFO:tensorflow:loss = 74711.67, step = 1\n",
      "INFO:tensorflow:global_step/sec: 335.479\n",
      "INFO:tensorflow:loss = 13650.091, step = 101 (0.310 sec)\n",
      "INFO:tensorflow:global_step/sec: 674.344\n",
      "INFO:tensorflow:loss = 2898.1667, step = 201 (0.143 sec)\n",
      "INFO:tensorflow:global_step/sec: 1031.84\n",
      "INFO:tensorflow:loss = 11407.293, step = 301 (0.096 sec)\n",
      "INFO:tensorflow:global_step/sec: 1047.79\n",
      "INFO:tensorflow:loss = 10984.223, step = 401 (0.095 sec)\n",
      "INFO:tensorflow:global_step/sec: 1047.12\n",
      "INFO:tensorflow:loss = 1945.1952, step = 501 (0.096 sec)\n",
      "INFO:tensorflow:global_step/sec: 887.454\n",
      "INFO:tensorflow:loss = 9627.121, step = 601 (0.113 sec)\n",
      "INFO:tensorflow:global_step/sec: 824.899\n",
      "INFO:tensorflow:loss = 9348.496, step = 701 (0.122 sec)\n",
      "INFO:tensorflow:global_step/sec: 954.199\n",
      "INFO:tensorflow:loss = 2418.3237, step = 801 (0.104 sec)\n",
      "INFO:tensorflow:global_step/sec: 406.209\n",
      "INFO:tensorflow:loss = 6256.657, step = 901 (0.245 sec)\n",
      "INFO:tensorflow:global_step/sec: 872.935\n",
      "INFO:tensorflow:loss = 7619.9263, step = 1001 (0.118 sec)\n",
      "INFO:tensorflow:global_step/sec: 741.331\n",
      "INFO:tensorflow:loss = 1961.4563, step = 1101 (0.135 sec)\n",
      "INFO:tensorflow:global_step/sec: 608.083\n",
      "INFO:tensorflow:loss = 7065.352, step = 1201 (0.165 sec)\n",
      "INFO:tensorflow:global_step/sec: 701.796\n",
      "INFO:tensorflow:loss = 7297.7803, step = 1301 (0.143 sec)\n",
      "INFO:tensorflow:global_step/sec: 559.584\n",
      "INFO:tensorflow:loss = 1344.3024, step = 1401 (0.180 sec)\n",
      "INFO:tensorflow:global_step/sec: 409.134\n",
      "INFO:tensorflow:loss = 6436.9155, step = 1501 (0.238 sec)\n",
      "INFO:tensorflow:global_step/sec: 945.34\n",
      "INFO:tensorflow:loss = 5971.8594, step = 1601 (0.108 sec)\n",
      "INFO:tensorflow:global_step/sec: 1124.89\n",
      "INFO:tensorflow:loss = 1889.832, step = 1701 (0.090 sec)\n",
      "INFO:tensorflow:global_step/sec: 1015.76\n",
      "INFO:tensorflow:loss = 6537.3486, step = 1801 (0.098 sec)\n",
      "INFO:tensorflow:global_step/sec: 952.617\n",
      "INFO:tensorflow:loss = 6734.968, step = 1901 (0.106 sec)\n",
      "INFO:tensorflow:Saving checkpoints for 2000 into /tmp/tmphn9m_tzb/model.ckpt.\n",
      "INFO:tensorflow:Loss for final step: 6459.6396.\n",
      "INFO:tensorflow:Starting evaluation at 2018-03-31-06:15:24\n",
      "INFO:tensorflow:Restoring parameters from /tmp/tmphn9m_tzb/model.ckpt-2000\n",
      "INFO:tensorflow:Finished evaluation at 2018-03-31-06:15:24\n",
      "INFO:tensorflow:Saving dict for global step 2000: average_loss = 40.57177, global_step = 2000, loss = 3367.4568\n",
      "\n",
      "RMS error for the validation dataset: 41\n"
     ]
    }
   ],
   "source": [
    "import numpy as np\n",
    "import tensorflow as tf\n",
    "\n",
    "\n",
    "def input_train():\n",
    "    return (\n",
    "      train.shuffle(1000).batch(128)\n",
    "      .repeat().make_one_shot_iterator().get_next())\n",
    "\n",
    "def input_test():\n",
    "    return (test.shuffle(1000).batch(128)\n",
    "          .make_one_shot_iterator().get_next())\n",
    "\n",
    "feature_columns = [\n",
    "tf.feature_column.numeric_column(key=\"cylinders\"),\n",
    "tf.feature_column.numeric_column(key=\"displacement\"),\n",
    "tf.feature_column.numeric_column(key=\"horsepower\"),\n",
    "tf.feature_column.numeric_column(key=\"weight\"),\n",
    "tf.feature_column.numeric_column(key=\"acceleration\")\n",
    "]\n",
    "\n",
    "\n",
    "model = tf.estimator.LinearRegressor(feature_columns=feature_columns)\n",
    "\n",
    "STEPS = 2000\n",
    "model.train(input_fn=input_train, steps=STEPS)\n",
    "\n",
    "eval_result = model.evaluate(input_fn=input_test)\n",
    "\n",
    "average_loss = eval_result[\"average_loss\"]\n",
    "\n",
    "print(\"\\nRMS error for the validation dataset: {:.0f}\".format(average_loss))\n"
   ]
  },
  {
   "cell_type": "markdown",
   "metadata": {},
   "source": [
    "Test the model using test data"
   ]
  },
  {
   "cell_type": "code",
   "execution_count": 26,
   "metadata": {},
   "outputs": [
    {
     "name": "stdout",
     "output_type": "stream",
     "text": [
      "INFO:tensorflow:Restoring parameters from /tmp/tmphn9m_tzb/model.ckpt-2000\n",
      "{'predictions': array([22.338066], dtype=float32)}\n",
      "{'predictions': array([25.609015], dtype=float32)}\n",
      "{'predictions': array([22.322239], dtype=float32)}\n",
      "{'predictions': array([23.439093], dtype=float32)}\n",
      "{'predictions': array([25.136236], dtype=float32)}\n",
      "{'predictions': array([23.140158], dtype=float32)}\n",
      "{'predictions': array([23.665665], dtype=float32)}\n",
      "{'predictions': array([24.303053], dtype=float32)}\n",
      "{'predictions': array([24.963373], dtype=float32)}\n",
      "{'predictions': array([14.478992], dtype=float32)}\n",
      "{'predictions': array([21.905663], dtype=float32)}\n",
      "{'predictions': array([16.634184], dtype=float32)}\n",
      "{'predictions': array([23.884172], dtype=float32)}\n",
      "{'predictions': array([20.933928], dtype=float32)}\n",
      "{'predictions': array([27.673174], dtype=float32)}\n",
      "{'predictions': array([26.076603], dtype=float32)}\n",
      "{'predictions': array([30.060194], dtype=float32)}\n",
      "{'predictions': array([19.227854], dtype=float32)}\n",
      "{'predictions': array([28.864153], dtype=float32)}\n",
      "{'predictions': array([30.615667], dtype=float32)}\n",
      "\n",
      "RMS error for the test dataset: 125\n"
     ]
    }
   ],
   "source": [
    "test_df = pd.read_csv(\"mpg_test.csv\")\n",
    "test_df.columns =['mpg','cylinders', 'displacement', 'horsepower', 'weight', 'acceleration']\n",
    "test_df.head()\n",
    "\n",
    "# Run the model in prediction mode.\n",
    " #18 15 18 16 \n",
    "input_dict = {\n",
    "    \"cylinders\": np.array(test_df['cylinders']),\n",
    "    \"displacement\": np.array(test_df['displacement']),\n",
    "   \"horsepower\": np.array(test_df['horsepower']),\n",
    "   \"weight\": np.array(test_df['weight']),\n",
    "   \"acceleration\": np.array(test_df['acceleration'])\n",
    "}\n",
    "predict_input_fn = tf.estimator.inputs.numpy_input_fn(\n",
    "    input_dict, shuffle=False)\n",
    "predict_results = model.predict(input_fn=predict_input_fn)\n",
    "\n",
    "true_y = np.array(test_df['mpg'])\n",
    "slno=0\n",
    "pred_y=[]\n",
    "for i in predict_results:\n",
    "    print(i)\n",
    "    pred_y.append(i['predictions'][0])\n",
    "\n",
    "from sklearn.metrics import mean_squared_error\n",
    "print(\"\\nRMS error for the test dataset: {:.0f}\".format(mean_squared_error(true_y, np.array(pred_y))))\n",
    "\n"
   ]
  },
  {
   "cell_type": "code",
   "execution_count": 30,
   "metadata": {},
   "outputs": [
    {
     "data": {
      "image/png": "[encoded data removed]",
      "text/plain": [
       "<matplotlib.figure.Figure at 0x7fb2d0fc3518>"
      ]
     },
     "metadata": {},
     "output_type": "display_data"
    }
   ],
   "source": [
    "plt.plot(pred_y,color=\"red\",label=\"predicted value\")\n",
    "plt.plot(true_y,color=\"green\",label=\"actual value\")\n",
    "plt.title(\"Predicted mpg vs actual mpg\")\n",
    "plt.ylabel(\"mpg value\")\n",
    "plt.xlabel(\"test sample\")\n",
    "plt.legend()\n",
    "plt.show()"
   ]
  },
  {
   "cell_type": "markdown",
   "metadata": {},
   "source": [
    "## Classification\n",
    "\n",
    "Let us take iris data and classify the data points into different species"
   ]
  },
  {
   "cell_type": "code",
   "execution_count": 34,
   "metadata": {},
   "outputs": [
    {
     "name": "stdout",
     "output_type": "stream",
     "text": [
      "WARNING:tensorflow:float64 is not supported by many models, consider casting to float32.\n",
      "INFO:tensorflow:Using default config.\n",
      "WARNING:tensorflow:Using temporary folder as model directory: /tmp/tmpcf5qkusp\n",
      "INFO:tensorflow:Using config: {'_session_config': None, '_cluster_spec': <tensorflow.python.training.server_lib.ClusterSpec object at 0x7fb2ca9325c0>, '_log_step_count_steps': 100, '_task_id': 0, '_tf_random_seed': None, '_master': '', '_save_checkpoints_secs': 600, '_model_dir': '/tmp/tmpcf5qkusp', '_keep_checkpoint_max': 5, '_save_summary_steps': 100, '_is_chief': True, '_num_ps_replicas': 0, '_tf_config': gpu_options {\n",
      "  per_process_gpu_memory_fraction: 1.0\n",
      "}\n",
      ", '_environment': 'local', '_num_worker_replicas': 0, '_keep_checkpoint_every_n_hours': 10000, '_evaluation_master': '', '_save_checkpoints_steps': None, '_task_type': None}\n",
      "WARNING:tensorflow:float64 is not supported by many models, consider casting to float32.\n",
      "INFO:tensorflow:Create CheckpointSaverHook.\n",
      "INFO:tensorflow:Saving checkpoints for 1 into /tmp/tmpcf5qkusp/model.ckpt.\n",
      "INFO:tensorflow:loss = 1.1205263, step = 1\n",
      "INFO:tensorflow:global_step/sec: 299.97\n",
      "INFO:tensorflow:loss = 0.1820875, step = 101 (0.339 sec)\n",
      "INFO:tensorflow:global_step/sec: 627.32\n",
      "INFO:tensorflow:loss = 0.07677304, step = 201 (0.159 sec)\n",
      "INFO:tensorflow:global_step/sec: 623.369\n",
      "INFO:tensorflow:loss = 0.0752055, step = 301 (0.160 sec)\n",
      "INFO:tensorflow:global_step/sec: 681.532\n",
      "INFO:tensorflow:loss = 0.07004277, step = 401 (0.147 sec)\n",
      "INFO:tensorflow:global_step/sec: 712.318\n",
      "INFO:tensorflow:loss = 0.06450011, step = 501 (0.140 sec)\n",
      "INFO:tensorflow:global_step/sec: 377.333\n",
      "INFO:tensorflow:loss = 0.061685074, step = 601 (0.270 sec)\n",
      "INFO:tensorflow:global_step/sec: 508.362\n",
      "INFO:tensorflow:loss = 0.0592221, step = 701 (0.191 sec)\n",
      "INFO:tensorflow:global_step/sec: 655.593\n",
      "INFO:tensorflow:loss = 0.05856184, step = 801 (0.153 sec)\n",
      "INFO:tensorflow:global_step/sec: 701.36\n",
      "INFO:tensorflow:loss = 0.05546488, step = 901 (0.142 sec)\n",
      "INFO:tensorflow:Saving checkpoints for 1000 into /tmp/tmpcf5qkusp/model.ckpt.\n",
      "INFO:tensorflow:Loss for final step: 0.057408962.\n",
      "WARNING:tensorflow:float64 is not supported by many models, consider casting to float32.\n",
      "INFO:tensorflow:Restoring parameters from /tmp/tmpcf5qkusp/model.ckpt-1000\n",
      "\n",
      " The accuracy score of this classifier is  0.98\n"
     ]
    }
   ],
   "source": [
    "import tensorflow as tf\n",
    "from sklearn.datasets import load_iris\n",
    "from sklearn.metrics import accuracy_score\n",
    "import warnings\n",
    "warnings.filterwarnings('ignore')\n",
    "\n",
    "data = load_iris(return_X_y = True)\n",
    "\n",
    "X=data[0]\n",
    "y=data[1]\n",
    "\n",
    "from sklearn.model_selection import train_test_split\n",
    "X_train, X_test, y_train, y_test = train_test_split( X, y, test_size=0.33, random_state=42)\n",
    "\n",
    "feats = tf.contrib.learn.infer_real_valued_columns_from_input(X_train)\n",
    "\n",
    "classifier_tf = tf.contrib.learn.DNNClassifier(feature_columns=feats, \n",
    "                                               hidden_units=[50, 50, 50], \n",
    "                                               n_classes=3)\n",
    "classifier_tf.fit(X_train, y_train, steps=1000)\n",
    "\n",
    "predictions = list(classifier_tf.predict(X_test, as_iterable=True))\n",
    "score = accuracy_score(y_test, predictions)\n",
    "print(\"\\n The accuracy score of this classifier is \",score)"
   ]
  },
  {
   "cell_type": "code",
   "execution_count": 53,
   "metadata": {},
   "outputs": [
    {
     "data": {
      "image/png": "[encoded data removed]",
      "text/plain": [
       "<matplotlib.figure.Figure at 0x7fb2c07f8ef0>"
      ]
     },
     "metadata": {},
     "output_type": "display_data"
    }
   ],
   "source": [
    "import pylab\n",
    "test_dataset = pd.DataFrame(X_test) \n",
    "test_dataset['labels']=predictions\n",
    "plt.figure(figsize=(20,5))\n",
    "plt.subplot(1,2,1)\n",
    "plt.scatter(test_dataset[0],test_dataset[1],c=test_dataset['labels'],cmap=pylab.cm.cool)\n",
    "plt.title(\"classification of iris\")\n",
    "plt.xlabel(\"sepal length\")\n",
    "plt.ylabel(\"sepal width\")\n",
    "plt.subplot(1,2,2)\n",
    "plt.scatter(test_dataset[2],test_dataset[3],c=test_dataset['labels'],cmap=pylab.cm.cool)\n",
    "plt.title(\"classification of iris\")\n",
    "plt.xlabel(\"petal length\")\n",
    "plt.ylabel(\"petal width\")\n",
    "plt.show()"
   ]
  },
  {
   "cell_type": "markdown",
   "metadata": {
    "collapsed": true
   },
   "source": [
    "## Neural Networks"
   ]
  },
  {
   "cell_type": "markdown",
   "metadata": {},
   "source": [
    "TensorFlow is essentially a framework for building Deep Learning Neural Networks. Neural neworks are typically organized in layers. Layers are made up of a number of interconnected 'nodes' which contain an 'activation function'. Patterns are presented to the network via the 'input layer', which communicates to one or more 'hidden layers' where the actual processing is done via a system of weighted 'connections'. The hidden layers then link to an 'output layer' where the answer is output as shown in the graphic below.\n",
    "\n",
    "![](https://github.com/sathwikcm/pds-tutorial/raw/master/simple_neural_network_header.jpg)\n",
    "\n",
    "Most ANNs contain some form of 'learning rule' which modifies the weights of the connections according to the input patterns that it is presented with. In a sense, ANNs learn by example as do their biological counterparts; a child learns to recognize dogs from examples of dogs.\n",
    "\n",
    "Although there are many different kinds of learning rules used by neural networks, this demonstration is concerned only with one; the delta rule. The delta rule is often utilized by the most common class of ANNs called 'backpropagational neural networks' (BPNNs). Backpropagation is an abbreviation for the backwards propagation of error.\n",
    "\n",
    "With the delta rule, as with other types of backpropagation, 'learning' is a supervised process that occurs with each cycle or 'epoch' (i.e. each time the network is presented with a new input pattern) through a forward activation flow of outputs, and the backwards error propagation of weight adjustments. More simply, when a neural network is initially presented with a pattern it makes a random 'guess' as to what it might be. It then sees how far its answer was from the actual one and makes an appropriate adjustment to its connection weights.\n",
    "\n",
    "![](https://github.com/sathwikcm/pds-tutorial/raw/master/back.png)"
   ]
  },
  {
   "cell_type": "markdown",
   "metadata": {},
   "source": [
    "### CNN Overview\n",
    "\n",
    "\n",
    "A convolutional neural network is a class of deep, feed-forward networks, composed of one or more convolutional layers with fully connected layers (matching those in typical ANNs) on top. It uses tied weights and pooling layers. In particular, max-pooling is often structured via Fukushima's convolutional architecture. This architecture allows CNNs to take advantage of the 2D structure of input data.\n",
    "\n",
    "CNNs are suitable for processing visual and other two-dimensional data. They have shown superior results in both image and speech applications. They can be trained with standard backpropagation. CNNs are easier to train than other regular, deep, feed-forward neural networks and have many fewer parameters to estimate.\n",
    "\n",
    "\n",
    "#### Example:  MNIST  handwritten digits\n",
    "\n",
    "To understand the neural networks, we will use the most general example of MNIST handwritten digits. This dataset contains 60,000 examples for training and 10,000 examples for testing. \n",
    "For more information visit: http://yann.lecun.com/exdb/mnist/ \n"
   ]
  },
  {
   "cell_type": "markdown",
   "metadata": {},
   "source": [
    "![](https://github.com/sathwikcm/pds-tutorial/raw/master/image.png)"
   ]
  },
  {
   "cell_type": "markdown",
   "metadata": {},
   "source": [
    "Let us see the implementation above mentioned ideas in tensorflow code"
   ]
  },
  {
   "cell_type": "code",
   "execution_count": 54,
   "metadata": {},
   "outputs": [
    {
     "name": "stdout",
     "output_type": "stream",
     "text": [
      "Successfully downloaded train-images-idx3-ubyte.gz 9912422 bytes.\n",
      "Extracting /tmp/data/train-images-idx3-ubyte.gz\n",
      "Successfully downloaded train-labels-idx1-ubyte.gz 28881 bytes.\n",
      "Extracting /tmp/data/train-labels-idx1-ubyte.gz\n",
      "Successfully downloaded t10k-images-idx3-ubyte.gz 1648877 bytes.\n",
      "Extracting /tmp/data/t10k-images-idx3-ubyte.gz\n",
      "Successfully downloaded t10k-labels-idx1-ubyte.gz 4542 bytes.\n",
      "Extracting /tmp/data/t10k-labels-idx1-ubyte.gz\n"
     ]
    }
   ],
   "source": [
    "from __future__ import division, print_function, absolute_import\n",
    "\n",
    "from tensorflow.examples.tutorials.mnist import input_data\n",
    "\n",
    "mnist = input_data.read_data_sets(\"/tmp/data/\", one_hot=False)\n",
    "\n",
    "# Training Parameters\n",
    "num_steps = 1000\n",
    "learning_rate = 0.005\n",
    "batch_size = 256\n",
    "\n",
    "# Network Parameters\n",
    "num_input = 784 \n",
    "# image size  28*28\n",
    "num_classes = 10 \n",
    "# Number of classes  i.e 0-9 digits\n",
    "dropout = 0.25 \n",
    "# Dropout probability "
   ]
  },
  {
   "cell_type": "markdown",
   "metadata": {},
   "source": [
    "Now we will add each layer to the model as mentioned in the diagram. This is where the actual compuational layers are present. This is can be quite complex at the begining. Basically we are basiccaly adding different layers as mentioned in the above picture. Add the layers according to the CNN definition and changed parameters according to the need.\n"
   ]
  },
  {
   "cell_type": "code",
   "execution_count": 55,
   "metadata": {
    "collapsed": true
   },
   "outputs": [],
   "source": [
    "# source: https://github.com/aymericdamien/TensorFlow-Examples\n",
    "\n",
    "\n",
    "def neural_network_function(x_dict, n_classes, dropout, reuse, is_training):\n",
    "    \n",
    "    with tf.variable_scope('ConvNet', reuse=reuse):\n",
    "       \n",
    "        x = x_dict['images']\n",
    "\n",
    "        # MNIST data input is a 1-D vector of 784 features (28*28 pixels)\n",
    "        # Reshape to match picture format [Height x Width x Channel]\n",
    "        # Tensor input become 4-D: [Batch Size, Height, Width, Channel]\n",
    "        x = tf.reshape(x, shape=[-1, 28, 28, 1])\n",
    "\n",
    "        # Convolution Layer with 32 filters and a kernel size of 5\n",
    "        layer1 = tf.layers.conv2d(x, 32, 5, activation=tf.nn.relu)\n",
    "        # Max Pooling (down-sampling) with strides of 2 and kernel size of 2\n",
    "        layer1 = tf.layers.max_pooling2d(layer1, 2, 2)\n",
    "\n",
    "        # Convolution Layer with 64 filters and a kernel size of 3\n",
    "        layer2 = tf.layers.conv2d(layer1, 64, 3, activation=tf.nn.relu)\n",
    "        # Max Pooling (down-sampling) with strides of 2 and kernel size of 2\n",
    "        layer2 = tf.layers.max_pooling2d(layer2, 2, 2)\n",
    "\n",
    "        # Flatten the data to a 1-D vector for the fully connected layer\n",
    "        fclayer1 = tf.contrib.layers.flatten(layer2)\n",
    "\n",
    "        # Fully connected layer (in tf contrib folder for now)\n",
    "        fclayer1 = tf.layers.dense(fclayer1, 1024)\n",
    "        # Apply Dropout (if is_training is False, dropout is not applied)\n",
    "        fclayer1 = tf.layers.dropout(fclayer1, rate=dropout, training=is_training)\n",
    "\n",
    "        # Output layer, class prediction\n",
    "        final_layer = tf.layers.dense(fclayer1, n_classes)\n",
    "\n",
    "    return final_layer"
   ]
  },
  {
   "cell_type": "markdown",
   "metadata": {},
   "source": [
    "since tensorflow estimate api takes input, test and models as functions. write the model function with train and test datasets in it.\n"
   ]
  },
  {
   "cell_type": "code",
   "execution_count": 56,
   "metadata": {
    "collapsed": true
   },
   "outputs": [],
   "source": [
    "# Define the model function (following TF Estimator Template) from the official website help\n",
    "def model_fn(features, labels, mode):\n",
    "    \n",
    "    #Building the neural network for both train and test sets \n",
    "    \n",
    "    logits_train = neural_network_function(features, num_classes, dropout, reuse=False, is_training=True)\n",
    "    logits_test = neural_network_function(features, num_classes, dropout, reuse=True, is_training=False)\n",
    "    \n",
    "    #Predictions\n",
    "    pred_classes = tf.argmax(logits_test, axis=1)\n",
    "    pred_probas = tf.nn.softmax(logits_test)\n",
    "    \n",
    "    #If prediction mode, early return - Escapse case\n",
    "    if mode == tf.estimator.ModeKeys.PREDICT:\n",
    "        return tf.estimator.EstimatorSpec(mode, predictions=pred_classes) \n",
    "        \n",
    "    #loss and optimizer\n",
    "    loss_op = tf.reduce_mean(tf.nn.sparse_softmax_cross_entropy_with_logits(\n",
    "        logits=logits_train, labels=tf.cast(labels, dtype=tf.int32)))\n",
    "    optimizer = tf.train.AdamOptimizer(learning_rate=learning_rate)\n",
    "    train_op = optimizer.minimize(loss_op, global_step=tf.train.get_global_step())\n",
    "    \n",
    "    #accuracy of the model\n",
    "    acc_op = tf.metrics.accuracy(labels=labels, predictions=pred_classes)\n",
    "    \n",
    "    #return specifications\n",
    "    estim_specs = tf.estimator.EstimatorSpec(\n",
    "      mode=mode,\n",
    "      predictions=pred_classes,\n",
    "      loss=loss_op,\n",
    "      train_op=train_op,\n",
    "      eval_metric_ops={'accuracy': acc_op})\n",
    "\n",
    "    return estim_specs"
   ]
  },
  {
   "cell_type": "code",
   "execution_count": 57,
   "metadata": {},
   "outputs": [
    {
     "name": "stdout",
     "output_type": "stream",
     "text": [
      "INFO:tensorflow:Using default config.\n",
      "WARNING:tensorflow:Using temporary folder as model directory: /tmp/tmpuuwx91mk\n",
      "INFO:tensorflow:Using config: {'_session_config': None, '_cluster_spec': <tensorflow.python.training.server_lib.ClusterSpec object at 0x7fb2cad6dd68>, '_keep_checkpoint_every_n_hours': 10000, '_task_id': 0, '_model_dir': '/tmp/tmpuuwx91mk', '_service': None, '_master': '', '_save_checkpoints_secs': 600, '_tf_random_seed': None, '_keep_checkpoint_max': 5, '_save_summary_steps': 100, '_is_chief': True, '_num_ps_replicas': 0, '_num_worker_replicas': 1, '_log_step_count_steps': 100, '_task_type': 'worker', '_save_checkpoints_steps': None}\n"
     ]
    }
   ],
   "source": [
    "# Build the Estimator\n",
    "model = tf.estimator.Estimator(model_fn)"
   ]
  },
  {
   "cell_type": "code",
   "execution_count": 58,
   "metadata": {},
   "outputs": [
    {
     "name": "stdout",
     "output_type": "stream",
     "text": [
      "INFO:tensorflow:Create CheckpointSaverHook.\n",
      "INFO:tensorflow:Saving checkpoints for 1 into /tmp/tmpuuwx91mk/model.ckpt.\n",
      "INFO:tensorflow:loss = 2.320078, step = 1\n",
      "INFO:tensorflow:global_step/sec: 1.01448\n",
      "INFO:tensorflow:loss = 0.06634214, step = 101 (98.582 sec)\n",
      "INFO:tensorflow:global_step/sec: 1.00808\n",
      "INFO:tensorflow:loss = 0.07868254, step = 201 (99.198 sec)\n",
      "INFO:tensorflow:global_step/sec: 1.13278\n",
      "INFO:tensorflow:loss = 0.13023096, step = 301 (88.275 sec)\n",
      "INFO:tensorflow:global_step/sec: 1.07878\n",
      "INFO:tensorflow:loss = 0.025793694, step = 401 (92.700 sec)\n",
      "INFO:tensorflow:global_step/sec: 1.03815\n",
      "INFO:tensorflow:loss = 0.07198884, step = 501 (96.325 sec)\n",
      "INFO:tensorflow:global_step/sec: 0.873829\n",
      "INFO:tensorflow:loss = 0.031852927, step = 601 (114.437 sec)\n",
      "INFO:tensorflow:Saving checkpoints for 614 into /tmp/tmpuuwx91mk/model.ckpt.\n",
      "INFO:tensorflow:global_step/sec: 1.44011\n",
      "INFO:tensorflow:loss = 0.03958378, step = 701 (69.439 sec)\n",
      "INFO:tensorflow:global_step/sec: 1.4124\n",
      "INFO:tensorflow:loss = 0.013272959, step = 801 (70.800 sec)\n",
      "INFO:tensorflow:global_step/sec: 0.869473\n",
      "INFO:tensorflow:loss = 0.038333856, step = 901 (115.014 sec)\n",
      "INFO:tensorflow:Saving checkpoints for 1000 into /tmp/tmpuuwx91mk/model.ckpt.\n",
      "INFO:tensorflow:Loss for final step: 0.008919412.\n"
     ]
    },
    {
     "data": {
      "text/plain": [
       "<tensorflow.python.estimator.estimator.Estimator at 0x7fb2cae25550>"
      ]
     },
     "execution_count": 58,
     "metadata": {},
     "output_type": "execute_result"
    }
   ],
   "source": [
    "\n",
    "input_fn = tf.estimator.inputs.numpy_input_fn(    x={'images': mnist.train.images}, y=mnist.train.labels,\n",
    "    batch_size=batch_size, num_epochs=None, shuffle=True)\n",
    "\n",
    "model.train(input_fn, steps=num_steps)"
   ]
  },
  {
   "cell_type": "markdown",
   "metadata": {},
   "source": [
    "Now, train the model with images dataset"
   ]
  },
  {
   "cell_type": "code",
   "execution_count": 59,
   "metadata": {},
   "outputs": [
    {
     "name": "stdout",
     "output_type": "stream",
     "text": [
      "INFO:tensorflow:Starting evaluation at 2018-03-31-07:06:55\n",
      "INFO:tensorflow:Restoring parameters from /tmp/tmpuuwx91mk/model.ckpt-1000\n",
      "INFO:tensorflow:Finished evaluation at 2018-03-31-07:07:05\n",
      "INFO:tensorflow:Saving dict for global step 1000: accuracy = 0.9853, global_step = 1000, loss = 0.0459605\n"
     ]
    },
    {
     "data": {
      "text/plain": [
       "{'accuracy': 0.9853, 'global_step': 1000, 'loss': 0.0459605}"
      ]
     },
     "execution_count": 59,
     "metadata": {},
     "output_type": "execute_result"
    }
   ],
   "source": [
    "input_fn = tf.estimator.inputs.numpy_input_fn( x={'images': mnist.test.images}, y=mnist.test.labels,\n",
    "                                              batch_size=batch_size, shuffle=False)\n",
    "\n",
    "model.evaluate(input_fn)"
   ]
  },
  {
   "cell_type": "markdown",
   "metadata": {},
   "source": [
    "now, test the model on test dataset"
   ]
  },
  {
   "cell_type": "code",
   "execution_count": 62,
   "metadata": {},
   "outputs": [
    {
     "name": "stdout",
     "output_type": "stream",
     "text": [
      "INFO:tensorflow:Restoring parameters from /tmp/tmpuuwx91mk/model.ckpt-1000\n"
     ]
    },
    {
     "data": {
      "image/png": "[encoded data removed]",
      "text/plain": [
       "<matplotlib.figure.Figure at 0x7fb2cafca6d8>"
      ]
     },
     "metadata": {},
     "output_type": "display_data"
    },
    {
     "name": "stdout",
     "output_type": "stream",
     "text": [
      "Image prediction: 7\n"
     ]
    },
    {
     "data": {
      "image/png": "[encoded data removed]",
      "text/plain": [
       "<matplotlib.figure.Figure at 0x7fb2c09282b0>"
      ]
     },
     "metadata": {},
     "output_type": "display_data"
    },
    {
     "name": "stdout",
     "output_type": "stream",
     "text": [
      "Image prediction: 2\n"
     ]
    },
    {
     "data": {
      "image/png": "[encoded data removed]",
      "text/plain": [
       "<matplotlib.figure.Figure at 0x7fb2c9f47390>"
      ]
     },
     "metadata": {},
     "output_type": "display_data"
    },
    {
     "name": "stdout",
     "output_type": "stream",
     "text": [
      "Image prediction: 1\n"
     ]
    }
   ],
   "source": [
    "test_images = mnist.test.images[:3]\n",
    "input_fn = tf.estimator.inputs.numpy_input_fn(x={'images': test_images}, shuffle=False)\n",
    "predicted_images = list(model.predict(input_fn))\n",
    "\n",
    "for i in range(3):\n",
    "    plt.imshow(np.reshape(images[i], [28, 28]), cmap='gray')\n",
    "    plt.show()\n",
    "    print(\"Image prediction:\", predicted_images[i])"
   ]
  },
  {
   "cell_type": "markdown",
   "metadata": {},
   "source": [
    "# Scaling up ML using Cloud ML Engine\n",
    "\n",
    "we will take a previously developed TensorFlow model to predict taxifare rides and package it up so that it can be run in Cloud MLE. For now, we'll run this on a small dataset. The model that was developed is rather simplistic, and therefore, the accuracy of the model is not great either. However, this notebook illustrates how to package up a TensorFlow model to run it within Cloud ML.\n",
    "\n",
    "With this knowledge,one can use the Cloud MLE to run heavy loads and complex ML models. Follow the steps carefully as the environmental variables play a key role in submitting the job to the cloud. In short, the steps are:\n",
    "\n",
    "1. Setting up the storage bucket\n",
    "2. Configuring the environmental variables\n",
    "3. copying the data to cloud\n",
    "4. Training the model\n",
    "5. Deploying the model\n",
    "6. Prediction\n",
    "\n"
   ]
  },
  {
   "cell_type": "markdown",
   "metadata": {},
   "source": [
    "### Environment variables for project and bucket\n",
    "\n",
    "Note that: Your project id is the unique string that identifies your project (not the project name). You can find this from the GCP Console dashboard's Home page. Cloud training often involves saving and restoring model files. Therefore, we should create a single-region bucket.\n",
    "\n",
    "Create a bucket as follows:\n",
    "GCP Homepage -> Options-> Storage -> Browse -> create a bucket\n",
    "\n",
    "![](https://github.com/sathwikcm/pds-tutorial/raw/master/storage buckets.PNG)\n",
    "\n",
    "\n",
    "\n"
   ]
  },
  {
   "cell_type": "markdown",
   "metadata": {},
   "source": [
    "Configure all the environmental variables as follows:"
   ]
  },
  {
   "cell_type": "code",
   "execution_count": 4,
   "metadata": {
    "collapsed": true
   },
   "outputs": [],
   "source": [
    "import os\n",
    "PROJECT = 'pds-tutorial-198900 ' # REPLACE WITH YOUR PROJECT ID\n",
    "BUCKET = 'cloud-t-cmsathwik7vk' # REPLACE WITH YOUR BUCKET NAME\n",
    "REGION = 'us-central1' # REPLACE WITH YOUR BUCKET REGION e.g. us-central1\n",
    "REPO = \"/content/datalab/training-data-analyst\"\n",
    "os.environ['PROJECT'] = PROJECT\n",
    "os.environ['BUCKET'] = BUCKET\n",
    "os.environ['REGION'] = REGION\n",
    "os.environ['REPO'] = REPO"
   ]
  },
  {
   "cell_type": "code",
   "execution_count": 5,
   "metadata": {},
   "outputs": [
    {
     "name": "stderr",
     "output_type": "stream",
     "text": [
      "Updated property [core/project].\n",
      "Updated property [compute/region].\n"
     ]
    }
   ],
   "source": [
    "%bash\n",
    "gcloud config set project $PROJECT\n",
    "gcloud config set compute/region $REGION"
   ]
  },
  {
   "cell_type": "markdown",
   "metadata": {},
   "source": [
    " Submit training job using gcloud\n",
    "\n",
    "First copy the training data to the cloud. Then, launch a training job.\n",
    "you can get the training-data-analyst data from https://github.com/GoogleCloudPlatform/training-data-analyst "
   ]
  },
  {
   "cell_type": "code",
   "execution_count": 9,
   "metadata": {},
   "outputs": [
    {
     "name": "stdout",
     "output_type": "stream",
     "text": [
      "cloud-t-cmsathwik7vk\n"
     ]
    },
    {
     "name": "stderr",
     "output_type": "stream",
     "text": [
      "Removing gs://cloud-t-cmsathwik7vk/taxifare/smallinput/taxi-test.csv#1522516706181652...\n",
      "Removing gs://cloud-t-cmsathwik7vk/taxifare/smallinput/taxi-train.csv#1522516706224207...\n",
      "Removing gs://cloud-t-cmsathwik7vk/taxifare/smallinput/taxi-valid.csv#1522516706207941...\n",
      "/ [1/3 objects]  33% Done                                                       \r",
      "/ [2/3 objects]  66% Done                                                       \r",
      "/ [3/3 objects] 100% Done                                                       \r\n",
      "Operation completed over 3 objects.                                              \n",
      "Copying file:///content/datalab/training-data-analyst/courses/machine_learning/datasets/taxi-test.csv [Content-Type=text/csv]...\n",
      "Copying file:///content/datalab/training-data-analyst/courses/machine_learning/datasets/taxi-train.csv [Content-Type=text/csv]...\n",
      "/ [0 files][    0.0 B/ 86.5 KiB]                                                \r",
      "/ [0/3 files][    0.0 B/580.6 KiB]   0% Done                                    \r",
      "Copying file:///content/datalab/training-data-analyst/courses/machine_learning/datasets/taxi-valid.csv [Content-Type=text/csv]...\n",
      "/ [0/3 files][    0.0 B/580.6 KiB]   0% Done                                    \r",
      "/ [1/3 files][580.6 KiB/580.6 KiB]  99% Done                                    \r",
      "/ [2/3 files][580.6 KiB/580.6 KiB]  99% Done                                    \r",
      "/ [3/3 files][580.6 KiB/580.6 KiB] 100% Done                                    \r\n",
      "Operation completed over 3 objects/580.6 KiB.                                    \n"
     ]
    }
   ],
   "source": [
    "%bash\n",
    "echo $BUCKET\n",
    "gsutil -m rm -rf gs://${BUCKET}/taxifare/smallinput/\n",
    "gsutil -m cp ${REPO}/courses/machine_learning/datasets/*.csv gs://${BUCKET}/taxifare/smallinput/"
   ]
  },
  {
   "cell_type": "markdown",
   "metadata": {},
   "source": [
    "Data can be seen as follows:\n",
    "![](https://github.com/sathwikcm/pds-tutorial/raw/master/data in bucket.PNG)\n",
    "![](https://github.com/sathwikcm/pds-tutorial/raw/master/datafull.PNG)"
   ]
  },
  {
   "cell_type": "markdown",
   "metadata": {},
   "source": [
    "Now, submit the training part as a job to the cloud MLE. this step can take 10-20 mins depending on the data and number of epochs of the training. "
   ]
  },
  {
   "cell_type": "code",
   "execution_count": 10,
   "metadata": {},
   "outputs": [
    {
     "name": "stdout",
     "output_type": "stream",
     "text": [
      "gs://cloud-t-cmsathwik7vk/taxifare/smallinput/taxi_trained us-central1 lab3a_180331_171954\n",
      "jobId: lab3a_180331_171954\n",
      "state: QUEUED\n"
     ]
    },
    {
     "name": "stderr",
     "output_type": "stream",
     "text": [
      "CommandException: 1 files/objects could not be removed.\n",
      "/tools/google-cloud-sdk/lib/googlecloudsdk/core/util/files.py:622: UnicodeWarning: Unicode equal comparison failed to convert both arguments to Unicode - interpreting them as being unequal\n",
      "  for chunk in iter(lambda: fp.read(4096), ''):\n",
      "Job [lab3a_180331_171954] submitted successfully.\n",
      "Your job is still active. You may view the status of your job with the command\n",
      "\n",
      "  $ gcloud ml-engine jobs describe lab3a_180331_171954\n",
      "\n",
      "or continue streaming the logs with the command\n",
      "\n",
      "  $ gcloud ml-engine jobs stream-logs lab3a_180331_171954\n"
     ]
    }
   ],
   "source": [
    "%%bash\n",
    "OUTDIR=gs://${BUCKET}/taxifare/smallinput/taxi_trained\n",
    "JOBNAME=lab3a_$(date -u +%y%m%d_%H%M%S)\n",
    "echo $OUTDIR $REGION $JOBNAME\n",
    "gsutil -m rm -rf $OUTDIR\n",
    "gcloud ml-engine jobs submit training $JOBNAME \\\n",
    "   --region=$REGION \\\n",
    "   --module-name=trainer.task \\\n",
    "   --package-path=${REPO}/courses/machine_learning/cloudmle/taxifare/trainer \\\n",
    "   --job-dir=$OUTDIR \\\n",
    "   --staging-bucket=gs://$BUCKET \\\n",
    "   --scale-tier=BASIC \\\n",
    "   --runtime-version=1.0 \\\n",
    "   -- \\\n",
    "   --train_data_paths=\"gs://${BUCKET}/taxifare/smallinput/taxi-train*\" \\\n",
    "   --eval_data_paths=\"gs://${BUCKET}/taxifare/smallinput/taxi-valid*\"  \\\n",
    "   --output_dir=$OUTDIR \\\n",
    "   --num_epochs=100"
   ]
  },
  {
   "cell_type": "markdown",
   "metadata": {},
   "source": [
    "### Monitoring Jobs\n",
    "\n",
    "GCP has provided many dashboards to monitors the jobs, models and almost everything. All the jobs,tasks that you do on GCP are visible on the dahsboards clearly. Each API has got its own dashboard \n",
    "\n",
    "\n",
    "The running jobs can be seen on monitoring dashboard as follows:\n",
    "![](https://github.com/sathwikcm/pds-tutorial/raw/master/job.PNG)\n",
    "![](https://github.com/sathwikcm/pds-tutorial/raw/master/logs.PNG)"
   ]
  },
  {
   "cell_type": "markdown",
   "metadata": {},
   "source": [
    " Deploy model\n",
    "\n",
    "Find out the actual name of the subdirectory where the model is stored and use it to deploy the model. Deploying model will take up to 5 minutes.\n"
   ]
  },
  {
   "cell_type": "code",
   "execution_count": 11,
   "metadata": {},
   "outputs": [
    {
     "name": "stdout",
     "output_type": "stream",
     "text": [
      "gs://cloud-t-cmsathwik7vk/taxifare/smallinput/taxi_trained/export/Servo/\n",
      "gs://cloud-t-cmsathwik7vk/taxifare/smallinput/taxi_trained/export/Servo/1522517147611/\n",
      "gs://cloud-t-cmsathwik7vk/taxifare/smallinput/taxi_trained/export/Servo/1522517613511/\n"
     ]
    }
   ],
   "source": [
    "%bash\n",
    "gsutil ls gs://${BUCKET}/taxifare/smallinput/taxi_trained/export/Servo"
   ]
  },
  {
   "cell_type": "code",
   "execution_count": 17,
   "metadata": {},
   "outputs": [
    {
     "name": "stdout",
     "output_type": "stream",
     "text": [
      "Deleting and deploying taxifare2 v1 from gs://cloud-t-cmsathwik7vk/taxifare/smallinput/taxi_trained/export/Servo/1522517613511/ ... this will take a few minutes\n"
     ]
    },
    {
     "name": "stderr",
     "output_type": "stream",
     "text": [
      "Created ml engine model [projects/pds-tutorial-198900/models/taxifare2].\n",
      "Creating version (this might take a few minutes)......\n",
      "............................................................................................done.\n"
     ]
    }
   ],
   "source": [
    "%bash\n",
    "MODEL_NAME=\"taxifare2\"\n",
    "MODEL_VERSION=\"v1\"\n",
    "MODEL_LOCATION=$(gsutil ls gs://${BUCKET}/taxifare/smallinput/taxi_trained/export/Servo | tail -1)\n",
    "echo \"Deleting and deploying $MODEL_NAME $MODEL_VERSION from $MODEL_LOCATION ... this will take a few minutes\"\n",
    "#gcloud ml-engine versions delete ${MODEL_VERSION} --model ${MODEL_NAME}\n",
    "#gcloud ml-engine models delete ${MODEL_NAME}\n",
    "gcloud ml-engine models create ${MODEL_NAME} --regions $REGION\n",
    "gcloud ml-engine versions create ${MODEL_VERSION} --model ${MODEL_NAME} --origin ${MODEL_LOCATION}"
   ]
  },
  {
   "cell_type": "markdown",
   "metadata": {},
   "source": [
    "### ML Models dashboard: \n",
    "\n",
    "ML Engine dashboard shows information about the available models and their versions\n",
    "\n",
    "![](https://github.com/sathwikcm/pds-tutorial/raw/master/mlmodel.PNG)\n",
    "\n",
    "![](https://github.com/sathwikcm/pds-tutorial/raw/master/models2.PNG)\n",
    "\n",
    "![](https://github.com/sathwikcm/pds-tutorial/raw/master/ml models versions.PNG)"
   ]
  },
  {
   "cell_type": "markdown",
   "metadata": {},
   "source": [
    "#### Prediction\n",
    "\n",
    "Let us take a sample data record and submit it to cloud. I am writing the sample data record to the test.json file and submitting it to our model in cloud.\n"
   ]
  },
  {
   "cell_type": "code",
   "execution_count": 15,
   "metadata": {},
   "outputs": [
    {
     "name": "stdout",
     "output_type": "stream",
     "text": [
      "Writing ./test.json\n"
     ]
    }
   ],
   "source": [
    "%writefile ./test.json\n",
    "{\"pickuplon\": -73.885262,\"pickuplat\": 40.773008,\"dropofflon\": -73.987232,\"dropofflat\": 40.732403,\"passengers\": 2}"
   ]
  },
  {
   "cell_type": "code",
   "execution_count": 18,
   "metadata": {},
   "outputs": [
    {
     "name": "stdout",
     "output_type": "stream",
     "text": [
      "OUTPUTS\n",
      "10.8572\n"
     ]
    }
   ],
   "source": [
    "%bash\n",
    "gcloud ml-engine predict --model=taxifare2 --version=v1 --json-instances=./test.json"
   ]
  },
  {
   "cell_type": "markdown",
   "metadata": {},
   "source": [
    "As you can see, the gcloud ml-engine predict command has given us the output i.e. taxfare ride price for the given input parameters. This can be extended to a test file and we can have the predicted output for the new unseen data.\n",
    "\n",
    "**[IMPORTANT]** \n",
    "\n",
    "In conclusion, after building a robust ML model, we submit that model to the cloud MLE and deploy it. Then we can have our test data submitted to the MLE and get the predicted data. The given example is a very basic model with less training data and only one test data point. Since this is a free trial, I did not have much flexibility over running a robust model and giving it a large amount of training data. I hope this basic example gives you an idea of how do you implement typical ML projects using google cloud just like AWS cloud. Also, whatever we have done till now are only limited to single-account GCP, companies can have corporate enterprise level GCP which might provide a lot of flexibility over the processes."
   ]
  },
  {
   "cell_type": "markdown",
   "metadata": {},
   "source": [
    "## Conclusion\n",
    "\n",
    "When you successfully set up your GCP account and run the given examples, your GCP homepage should look like this:\n",
    "\n",
    "It shows all the acitve APIs and active services. It is a central dashboard for your GCP."
   ]
  },
  {
   "cell_type": "markdown",
   "metadata": {},
   "source": [
    "## Google Cloud Platform \n",
    "\n",
    "![](https://github.com/sathwikcm/pds-tutorial/raw/master/platform.PNG)"
   ]
  },
  {
   "cell_type": "markdown",
   "metadata": {},
   "source": [
    "For further references, please follow the given links below which have a lot of information about GCP. Particularly the coursera course **'Serverless Machine Learning with Tensorflow on Google Cloud Platform'** is very helpful and it has detailed steps about how to setup the GCP account and run the ML models. \n",
    "\n",
    "Refer: https://www.coursera.org/learn/serverless-machine-learning-gcp/"
   ]
  },
  {
   "cell_type": "markdown",
   "metadata": {},
   "source": [
    "## References:\n",
    "\n",
    "References and Further Resources\n",
    "\n",
    "1. DeveloperCoding http://developercoding.com/tensorflow/\n",
    "2. TensorFlow Examples https://github.com/aymericdamien/TensorFlow-Examples\n",
    "3. Serverless Machine Learning with Tensorflow on Google Cloud Platform  https://www.coursera.org/learn/serverless-machine-learning-gcp/\n",
    "4. Neural Networks and Deep Learning http://neuralnetworksanddeeplearning.com/\n",
    "5. Artificial neural network https://en.wikipedia.org/wiki/Artificial_neural_network\n",
    "6. Google Machine Learning on Google Cloud Platform https://github.com/GoogleCloudPlatform/training-data-analyst\n"
   ]
  },
  {
   "cell_type": "markdown",
   "metadata": {},
   "source": [
    "Thank you :) !"
   ]
  }
 ],
 "metadata": {
  "anaconda-cloud": {},
  "kernelspec": {
   "display_name": "Python 3",
   "language": "python",
   "name": "python3"
  },
  "language_info": {
   "codemirror_mode": {
    "name": "ipython",
    "version": 3
   },
   "file_extension": ".py",
   "mimetype": "text/x-python",
   "name": "python",
   "nbconvert_exporter": "python",
   "pygments_lexer": "ipython3",
   "version": "3.6.3"
  }
 },
 "nbformat": 4,
 "nbformat_minor": 2
}
