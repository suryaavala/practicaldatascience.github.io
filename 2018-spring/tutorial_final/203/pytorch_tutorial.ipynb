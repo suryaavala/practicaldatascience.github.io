{
 "cells": [
  {
   "cell_type": "markdown",
   "metadata": {},
   "source": [
    "## Introduction\n",
    "\n",
    "[Pytorch](http://pytorch.org/) is a Python based scientific computing package targeted at two sets of audiences:\n",
    "\n",
    "- A replacement for [NumPy](http://www.numpy.org/) to use the power of GPUs\n",
    "- a deep learning research platform that provides maximum flexibility and speed\n",
    "\n",
    "It is easy-to-use and very powerful in nowadays machine learning research and applications, thus a very good resource for practical data science. "
   ]
  },
  {
   "cell_type": "markdown",
   "metadata": {},
   "source": [
    "### Turtorial Content\n",
    "\n",
    "This turtorial will introduce basic concepts of PyTorch, and how to write code and build simple networks using PyTorch. We will walk through the usage of PyTorch by codes and examples. After this turtorial, you will be able to write your own PyTorch programms to work on machine learning projects. \n",
    "\n",
    "We will cover the following topics in this tutorial:\n",
    "- [Installing PyTorch](#Installing-PyTorch)\n",
    "- [Tensors](#Tensors)\n",
    "- [Linear Regression Recap](#Linear-Regression-Recap)\n",
    "- [Autograd](#Autograd)\n",
    "- [Modules](#Modules)\n"
   ]
  },
  {
   "cell_type": "markdown",
   "metadata": {},
   "source": [
    "### Installing PyTorch\n",
    "\n",
    "PyTorch is available in both OSX and Linux operating system. To install PyTorch in your computer, you can use either package manager such as Anaconda or pip, or even build from the source.\n",
    "\n",
    "I recommend install from conda by simply running: \n",
    "\n",
    "    $ conda install pytorch torchvision -c pytorch\n",
    "   \n",
    "For pip user, run:\n",
    "\n",
    "    $ pip3 install http://download.pytorch.org/whl/cu80/* [depends on your python distribution]\n",
    "$ pip3 install torchvision\n",
    "\n",
    "If you want to build from the source, you can follow instructions at this URL: [https://github.com/pytorch/pytorch#from-source](https://github.com/pytorch/pytorch#from-source)"
   ]
  },
  {
   "cell_type": "code",
   "execution_count": 1,
   "metadata": {
    "collapsed": true
   },
   "outputs": [],
   "source": [
    "from __future__ import print_function\n",
    "import torch as t\n",
    "import numpy as np"
   ]
  },
  {
   "cell_type": "markdown",
   "metadata": {},
   "source": [
    "### Tensors\n",
    "Tensors the most basic data structure in PyTorch. They are similar to NumPy’s ndarrays, with the addition being that Tensors can also be used on a GPU to accelerate computing.\n",
    "\n",
    "To start with, we can use `torch.Tensor` to create a uninitialized tensor. There are also many ways to initialize a tensor: \n",
    "\n",
    "|Function|Explaination|\n",
    "|:---:|:---:|\n",
    "|Tensor(\\*sizes)|Default constructor|\n",
    "|ones(\\*sizes)|All 1 Tensor|\n",
    "|zeros(\\*sizes) |All 0 Tensor|\n",
    "|eye(\\*sizes)|Tensor with 1 in the diagnoal, 0 otherwise\n",
    "|rand(\\*sizes)|Tensor with unifrom distribution from [0, 1)|\n",
    "|normal(mean,std)/uniform(from,to)| Normal distribution/Uniform distribution|\n",
    "|randperm(m)|Random permutation|"
   ]
  },
  {
   "cell_type": "code",
   "execution_count": 2,
   "metadata": {},
   "outputs": [
    {
     "data": {
      "text/plain": [
       "\n",
       " 0.0000e+00 -1.0842e-19\n",
       "-1.2770e+18 -8.5920e+09\n",
       "[torch.FloatTensor of size 2x2]"
      ]
     },
     "execution_count": 2,
     "metadata": {},
     "output_type": "execute_result"
    }
   ],
   "source": [
    "a = t.Tensor(2, 2)\n",
    "a"
   ]
  },
  {
   "cell_type": "code",
   "execution_count": 3,
   "metadata": {},
   "outputs": [
    {
     "data": {
      "text/plain": [
       "\n",
       " 0.8041  0.1639  0.7512\n",
       " 0.6218  0.8691  0.3176\n",
       "[torch.FloatTensor of size 2x3]"
      ]
     },
     "execution_count": 3,
     "metadata": {},
     "output_type": "execute_result"
    }
   ],
   "source": [
    "b = t.rand(2, 3)\n",
    "b"
   ]
  },
  {
   "cell_type": "code",
   "execution_count": 4,
   "metadata": {},
   "outputs": [
    {
     "data": {
      "text/plain": [
       "\n",
       " 1  1  1\n",
       " 1  1  1\n",
       "[torch.FloatTensor of size 2x3]"
      ]
     },
     "execution_count": 4,
     "metadata": {},
     "output_type": "execute_result"
    }
   ],
   "source": [
    "c = t.ones(2, 3)\n",
    "c"
   ]
  },
  {
   "cell_type": "code",
   "execution_count": 5,
   "metadata": {},
   "outputs": [
    {
     "data": {
      "text/plain": [
       "\n",
       " 1  0  0\n",
       " 0  1  0\n",
       "[torch.FloatTensor of size 2x3]"
      ]
     },
     "execution_count": 5,
     "metadata": {},
     "output_type": "execute_result"
    }
   ],
   "source": [
    "d = t.eye(2, 3)\n",
    "d"
   ]
  },
  {
   "cell_type": "markdown",
   "metadata": {},
   "source": [
    "You can also pass in a list or other sequence data structres to construct a tensor, so that we can utilize numpy, pandas for preprocess and feed the results to PyTorch conveniently."
   ]
  },
  {
   "cell_type": "code",
   "execution_count": 6,
   "metadata": {},
   "outputs": [
    {
     "data": {
      "text/plain": [
       "\n",
       " 1  2  3\n",
       " 4  5  6\n",
       "[torch.FloatTensor of size 2x3]"
      ]
     },
     "execution_count": 6,
     "metadata": {},
     "output_type": "execute_result"
    }
   ],
   "source": [
    "l = t.Tensor([[1,2,3],[4,5,6]])\n",
    "l"
   ]
  },
  {
   "cell_type": "markdown",
   "metadata": {},
   "source": [
    "#### Basic tensor operations\n",
    "\n",
    "To add two tensors, you can just use `+`, or you can use `torch.add`. "
   ]
  },
  {
   "cell_type": "code",
   "execution_count": 7,
   "metadata": {},
   "outputs": [
    {
     "data": {
      "text/plain": [
       "\n",
       " 2  1  1\n",
       " 1  2  1\n",
       "[torch.FloatTensor of size 2x3]"
      ]
     },
     "execution_count": 7,
     "metadata": {},
     "output_type": "execute_result"
    }
   ],
   "source": [
    "# Equivelent to e = c + d\n",
    "e = t.add(c, d) \n",
    "e"
   ]
  },
  {
   "cell_type": "markdown",
   "metadata": {},
   "source": [
    "Similar to add, we have `torch.mul` and * for tensors multiply."
   ]
  },
  {
   "cell_type": "code",
   "execution_count": 8,
   "metadata": {
    "scrolled": true
   },
   "outputs": [
    {
     "data": {
      "text/plain": [
       "\n",
       " 1  0  0\n",
       " 0  1  0\n",
       "[torch.FloatTensor of size 2x3]"
      ]
     },
     "execution_count": 8,
     "metadata": {},
     "output_type": "execute_result"
    }
   ],
   "source": [
    "# Equivelent to f = c * d\n",
    "f = t.mul(c, d)\n",
    "f"
   ]
  },
  {
   "cell_type": "markdown",
   "metadata": {},
   "source": [
    "You can perform element-wise operation such as `abs/sqrt/div/fmod/log/pow`... And trigonometric function such as `cos/sin/asin/atan`... Activation function such as `sigmod/tan/clamp`... etc.\n"
   ]
  },
  {
   "cell_type": "code",
   "execution_count": 9,
   "metadata": {},
   "outputs": [
    {
     "data": {
      "text/plain": [
       "\n",
       " 0.6667  0.3333  0.3333\n",
       " 0.3333  0.6667  0.3333\n",
       "[torch.FloatTensor of size 2x3]"
      ]
     },
     "execution_count": 9,
     "metadata": {},
     "output_type": "execute_result"
    }
   ],
   "source": [
    "g = t.div(e, 3)\n",
    "g"
   ]
  },
  {
   "cell_type": "code",
   "execution_count": 10,
   "metadata": {
    "scrolled": true
   },
   "outputs": [
    {
     "name": "stdout",
     "output_type": "stream",
     "text": [
      "\n",
      " 4\n",
      " 1\n",
      " 0\n",
      " 3\n",
      " 2\n",
      "[torch.LongTensor of size 5]\n",
      "\n"
     ]
    },
    {
     "data": {
      "text/plain": [
       "\n",
       " 2\n",
       " 1\n",
       " 0\n",
       " 2\n",
       " 2\n",
       "[torch.LongTensor of size 5]"
      ]
     },
     "execution_count": 10,
     "metadata": {},
     "output_type": "execute_result"
    }
   ],
   "source": [
    "h = t.randperm(5)\n",
    "print(h)\n",
    "# Elements larger than 2 is set to 2\n",
    "h = t.clamp(h, max=2)\n",
    "h"
   ]
  },
  {
   "cell_type": "markdown",
   "metadata": {},
   "source": [
    "#### Inplace mutation\n",
    "From the view of storage, the operations on tensor could also be divided into two class:\n",
    "    - Operations that modify tensor inplace.\n",
    "    - Operations that does not modify the original tensor.\n",
    "All method that end with `_` works in a inplace way.\n",
    "The result of `a.add(b)` will be stored in a new tensor, while the result of `a.add_(b)` will be stored in tensor a, thus a is modified."
   ]
  },
  {
   "cell_type": "code",
   "execution_count": 11,
   "metadata": {},
   "outputs": [
    {
     "data": {
      "text/plain": [
       "\n",
       " 2\n",
       " 2\n",
       " 2\n",
       "[torch.FloatTensor of size 3]"
      ]
     },
     "execution_count": 11,
     "metadata": {},
     "output_type": "execute_result"
    }
   ],
   "source": [
    "i = t.ones(3)\n",
    "# i will be modified by this operation\n",
    "i.add_(i)"
   ]
  },
  {
   "cell_type": "markdown",
   "metadata": {},
   "source": [
    "#### Indexing\n",
    "Indexing in PyTorch is similar to numpy, too. You can index the tensor by row, by column, and both."
   ]
  },
  {
   "cell_type": "code",
   "execution_count": 12,
   "metadata": {},
   "outputs": [
    {
     "name": "stdout",
     "output_type": "stream",
     "text": [
      "\n",
      " 0.5322  0.4845  0.4775\n",
      " 0.2852  0.5160  0.9476\n",
      "[torch.FloatTensor of size 2x3]\n",
      "\n"
     ]
    },
    {
     "data": {
      "text/plain": [
       "0.4775139093399048"
      ]
     },
     "execution_count": 12,
     "metadata": {},
     "output_type": "execute_result"
    }
   ],
   "source": [
    "j = t.rand(2, 3)\n",
    "print(j)\n",
    "# Access element\n",
    "j[0, 2]"
   ]
  },
  {
   "cell_type": "code",
   "execution_count": 13,
   "metadata": {},
   "outputs": [
    {
     "data": {
      "text/plain": [
       "\n",
       " 0.5322\n",
       " 0.4845\n",
       " 0.4775\n",
       "[torch.FloatTensor of size 3]"
      ]
     },
     "execution_count": 13,
     "metadata": {},
     "output_type": "execute_result"
    }
   ],
   "source": [
    "# Access the first row\n",
    "j[0]"
   ]
  },
  {
   "cell_type": "code",
   "execution_count": 14,
   "metadata": {},
   "outputs": [
    {
     "data": {
      "text/plain": [
       "\n",
       " 0.4775\n",
       " 0.9476\n",
       "[torch.FloatTensor of size 2]"
      ]
     },
     "execution_count": 14,
     "metadata": {},
     "output_type": "execute_result"
    }
   ],
   "source": [
    "# Access the third column\n",
    "j[:, 2]"
   ]
  },
  {
   "cell_type": "markdown",
   "metadata": {},
   "source": [
    "#### View\n",
    "\n",
    "Pytorch provides a way to change the size of a tensor by calling `tensor.view`. It only changes the size of the tensor, while the underlying content remains the same, pretty much like numpy reshape, so the order is the same as the order in the underlying tensor."
   ]
  },
  {
   "cell_type": "code",
   "execution_count": 15,
   "metadata": {},
   "outputs": [
    {
     "name": "stdout",
     "output_type": "stream",
     "text": [
      "\n",
      "(0 ,0 ,.,.) = \n",
      "  0.9423\n",
      "  0.2188\n",
      "\n",
      "(1 ,0 ,.,.) = \n",
      "  0.2738\n",
      "  0.6368\n",
      "[torch.FloatTensor of size 2x1x2x1]\n",
      "\n"
     ]
    },
    {
     "data": {
      "text/plain": [
       "\n",
       "(0 ,.,.) = \n",
       "  0.9423  0.2188\n",
       "\n",
       "(1 ,.,.) = \n",
       "  0.2738  0.6368\n",
       "[torch.FloatTensor of size 2x1x2]"
      ]
     },
     "execution_count": 15,
     "metadata": {},
     "output_type": "execute_result"
    }
   ],
   "source": [
    "a = t.rand(2, 1, 2, 1)\n",
    "print(a)\n",
    "# -1 tells the PyTorch to calculate the size automaticly\n",
    "a = a.view(2, 1, -1)\n",
    "a"
   ]
  },
  {
   "cell_type": "markdown",
   "metadata": {},
   "source": [
    "`tensor.squeeze` can be helpful if you want to eliminate dimensions that only has 1 entry. `tensor.unsqueeze` is the corresponding reverse operation."
   ]
  },
  {
   "cell_type": "code",
   "execution_count": 16,
   "metadata": {},
   "outputs": [
    {
     "name": "stdout",
     "output_type": "stream",
     "text": [
      "\n",
      " 0.9423  0.2188\n",
      " 0.2738  0.6368\n",
      "[torch.FloatTensor of size 2x2]\n",
      "\n"
     ]
    },
    {
     "data": {
      "text/plain": [
       "\n",
       "(0 ,.,.) = \n",
       "  0.9423  0.2188\n",
       "  0.2738  0.6368\n",
       "[torch.FloatTensor of size 1x2x2]"
      ]
     },
     "execution_count": 16,
     "metadata": {},
     "output_type": "execute_result"
    }
   ],
   "source": [
    "# The size is now 2*2\n",
    "a.squeeze_()\n",
    "print(a)\n",
    "# The size is now 1*2*2\n",
    "a.unsqueeze_(0)\n",
    "a"
   ]
  },
  {
   "cell_type": "markdown",
   "metadata": {},
   "source": [
    "#### Cuda Operations\n",
    "\n",
    "Tensors can be moved onto GPU using the .cuda method. In the real world deep learning scenario, computing in parallel is extremly powerful and efficient."
   ]
  },
  {
   "cell_type": "code",
   "execution_count": 17,
   "metadata": {
    "collapsed": true
   },
   "outputs": [],
   "source": [
    "# Run this cell only if CUDA is available\n",
    "x = t.rand(2, 2)\n",
    "y = t.rand(2, 2)\n",
    "if t.cuda.is_available():\n",
    "    x = x.cuda()\n",
    "    y = y.cuda()\n",
    "    print(x + y)"
   ]
  },
  {
   "cell_type": "markdown",
   "metadata": {},
   "source": [
    "### Linear Regression Recap"
   ]
  },
  {
   "cell_type": "markdown",
   "metadata": {},
   "source": [
    "As we discussed in the class, linear regression is a widely used in the statistics and analysis to determine the dependency between a scalar dependent variable $\\textbf{y}$ and one or more independent variables denoted $\\textbf{X}$. We try to find approriate $\\textbf{w}$ and $\\textbf{b}$ such that $y = wx + b$. We'll use a loss function to measure the distance between our estimated w/b and the actual w/b. By minimizing the loss function, we can learn the estimate value of w and b.\n",
    "\n",
    "We define the loss function as:\n",
    "$$loss = \\sum_i^N \\frac 1 2 ({y_i-(wx_i+b)})^2$$\n",
    "Which can be solved by gradient descent or [stochastic gradient descent](http://ufldl.stanford.edu/tutorial/supervised/OptimizationStochasticGradientDescent/). \n",
    "\n",
    "Let's walk through a simple dataset to solve a linear regression problem. This small [dataset](http://users.stat.ufl.edu/~winner/data/nba_ht_wt.csv) contains the result of NBA 2013-2014 Player's Heights and Weights."
   ]
  },
  {
   "cell_type": "code",
   "execution_count": 18,
   "metadata": {
    "collapsed": true
   },
   "outputs": [],
   "source": [
    "import pandas as pd\n",
    "%matplotlib inline\n",
    "from matplotlib import pyplot as plt\n",
    "from IPython import display"
   ]
  },
  {
   "cell_type": "code",
   "execution_count": 19,
   "metadata": {
    "collapsed": true
   },
   "outputs": [],
   "source": [
    "# Loading data from pandas\n",
    "data_frame = pd.read_csv('nba_ht_wt.csv', encoding='ISO-8859-1')\n",
    "h_w_frame = data_frame[['Height', 'Weight']]\n",
    "X = h_w_frame.iloc[:, 0]\n",
    "Y = h_w_frame.iloc[:, 1]\n",
    "n = h_w_frame.shape[0]"
   ]
  },
  {
   "cell_type": "code",
   "execution_count": 20,
   "metadata": {},
   "outputs": [
    {
     "data": {
      "text/plain": [
       "<matplotlib.collections.PathCollection at 0x1136ce0f0>"
      ]
     },
     "execution_count": 20,
     "metadata": {},
     "output_type": "execute_result"
    },
    {
     "data": {
      "image/png": "[encoded data removed]",
      "text/plain": [
       "<matplotlib.figure.Figure at 0x10dff2048>"
      ]
     },
     "metadata": {},
     "output_type": "display_data"
    }
   ],
   "source": [
    "plt.scatter(X, Y)"
   ]
  },
  {
   "cell_type": "code",
   "execution_count": 21,
   "metadata": {
    "collapsed": true
   },
   "outputs": [],
   "source": [
    "lr = 0.0001 # learning rate\n",
    "epochs = 5000 # number of iteration"
   ]
  },
  {
   "cell_type": "code",
   "execution_count": 22,
   "metadata": {},
   "outputs": [
    {
     "data": {
      "image/png": "[encoded data removed]",
      "text/plain": [
       "<matplotlib.figure.Figure at 0x113734fd0>"
      ]
     },
     "metadata": {},
     "output_type": "display_data"
    },
    {
     "name": "stdout",
     "output_type": "stream",
     "text": [
      "2.7589433193206787 -0.225871279835701\n"
     ]
    }
   ],
   "source": [
    "# Initialize parameters\n",
    "w = t.rand(1, 1) \n",
    "b = t.zeros(1, 1)\n",
    "\n",
    "for epoch in range(epochs):\n",
    "    data = t.Tensor(h_w_frame.iloc[np.random.choice(n), :].as_matrix())\n",
    "    x = data[0]\n",
    "    y = data[1]\n",
    "    \n",
    "    # Predict\n",
    "    y_pred = x * w + b \n",
    "    loss = 0.5 * (y_pred - y) ** 2\n",
    "    loss = loss.sum()\n",
    "    \n",
    "    # Calculate the gradient \n",
    "    dy_pred = (y_pred - y)\n",
    "    \n",
    "    dw = x * dy_pred\n",
    "    db = dy_pred.sum()\n",
    "    \n",
    "    # Update weight and bias\n",
    "    w.sub_(lr * dw)\n",
    "    b.sub_(lr * db)\n",
    "\n",
    "# Plot the result\n",
    "x = t.arange(68, 88).view(-1, 1)\n",
    "y = x * w + b\n",
    "plt.plot(x.numpy(), y.numpy())\n",
    "plt.scatter(X, Y)\n",
    "plt.show()\n",
    "print(w.squeeze()[0], b.squeeze()[0])"
   ]
  },
  {
   "cell_type": "markdown",
   "metadata": {},
   "source": [
    "\n",
    "### Autograd"
   ]
  },
  {
   "cell_type": "markdown",
   "metadata": {},
   "source": [
    "The problem of the above code is that we need to compute the gradient ourselves. It works well if the gradient is easy to compute while it may not be the case if we are dealing with more complicate network.\n",
    "\n",
    "PyTorch provides a effecient way to help build large network and compute the gradient automaticly. The `torch.autograd` package provides automatic differentiation for all operations on Tensors. It is a define-by-run framework, which means that your backprop is defined by how your code is run, and that every single iteration can be different.\n",
    "\n",
    "`autograd.Variable` is a wrapper class for Tensor to do the autograd. It stores all the operation on it and computes the gradients after you call `backward()`. After the computation, the raw tensor data can be accessed through `.data` attribute, while the gradient data can be accessed through `.grad` attribute. "
   ]
  },
  {
   "cell_type": "code",
   "execution_count": 23,
   "metadata": {
    "collapsed": true
   },
   "outputs": [],
   "source": [
    "from torch.autograd import Variable"
   ]
  },
  {
   "cell_type": "markdown",
   "metadata": {},
   "source": [
    "Let first walk through the basic usage of `autograd.Variable`. By defineing a `Variable`, you can do what ever you want to it and the PyTorch will do all the muddy stuff for you. After calling `backward`, the gradient of each variable w.r.t the final result is stored in the `.grad` attribute."
   ]
  },
  {
   "cell_type": "code",
   "execution_count": 24,
   "metadata": {},
   "outputs": [
    {
     "name": "stdout",
     "output_type": "stream",
     "text": [
      "Variable containing:\n",
      " 0.6125  0.6634  0.1670\n",
      " 0.8409  0.1445  0.2994\n",
      "[torch.FloatTensor of size 2x3]\n",
      "\n",
      "Variable containing:\n",
      " 0.2042  0.2211  0.0557\n",
      " 0.2803  0.0482  0.0998\n",
      "[torch.FloatTensor of size 2x3]\n",
      "\n"
     ]
    }
   ],
   "source": [
    "# Create a autograd.Variable\n",
    "x = Variable(t.rand(2, 3), requires_grad=True)\n",
    "print(x)\n",
    "\n",
    "# Do whatever operation on the variable\n",
    "y = x.pow(2) + 5\n",
    "z = y.mean()\n",
    "\n",
    "# Compute gradient and do the backprop\n",
    "z.backward()\n",
    "\n",
    "# Gradient of x w.r.t z\n",
    "print(x.grad)"
   ]
  },
  {
   "cell_type": "markdown",
   "metadata": {
    "collapsed": true
   },
   "source": [
    "With the help of autograd, we can now re-write our linear regression code more concisely. The parameters in the networks are now all Variable. "
   ]
  },
  {
   "cell_type": "code",
   "execution_count": 25,
   "metadata": {},
   "outputs": [
    {
     "data": {
      "image/png": "[encoded data removed]",
      "text/plain": [
       "<matplotlib.figure.Figure at 0x1136c26d8>"
      ]
     },
     "metadata": {},
     "output_type": "display_data"
    },
    {
     "name": "stdout",
     "output_type": "stream",
     "text": [
      "2.8800222873687744 -0.2279701828956604\n"
     ]
    }
   ],
   "source": [
    "w = Variable(t.rand(1,1), requires_grad=True)\n",
    "b = Variable(t.zeros(1,1), requires_grad=True)\n",
    "\n",
    "for epoch in range(epochs):\n",
    "    data = h_w_frame.iloc[np.random.choice(n), :]\n",
    "    # item() is used to get the int from np.int64\n",
    "    x = Variable(t.ones(1) * data[0].item())\n",
    "    y = Variable(t.ones(1) * data[1].item())\n",
    "    \n",
    "    y_pred = x * w + b \n",
    "    loss = 0.5 * (y_pred - y) ** 2\n",
    "    loss = loss.sum()\n",
    "    \n",
    "    loss.backward()\n",
    "    \n",
    "   # Update parameter\n",
    "    w.data.sub_(lr * w.grad.data)\n",
    "    b.data.sub_(lr * b.grad.data)\n",
    "    \n",
    "    # Zero out gradient\n",
    "    w.grad.data.zero_()\n",
    "    b.grad.data.zero_()\n",
    "    \n",
    "x = t.arange(68, 88).view(-1, 1)\n",
    "y = x * w.data + b.data\n",
    "plt.plot(x.numpy(), y.numpy())\n",
    "plt.scatter(X, Y)\n",
    "plt.show()\n",
    "print(w.data.squeeze()[0], b.data.squeeze()[0])"
   ]
  },
  {
   "cell_type": "markdown",
   "metadata": {},
   "source": [
    "### Modules\n",
    "\n",
    "We have already known that PyTorch can help us abstract away the pain of calculating the gradient. But still, we need to write a lot of redundant code building and connecting the basic machine learning components. PyTorch uses `nn.Module` to provide higher level abstraction thus make the network more modular and easy to code."
   ]
  },
  {
   "cell_type": "code",
   "execution_count": 26,
   "metadata": {
    "collapsed": true
   },
   "outputs": [],
   "source": [
    "import torch.nn as nn\n",
    "import torch.optim as optim"
   ]
  },
  {
   "cell_type": "markdown",
   "metadata": {},
   "source": [
    "All network structure should inherit the `nn.Module` class, which can also has many sub modules. We'll need to define the component within the `init` method and connect the network in the `forward` method. For example, in a linear network, we can define a network like below: "
   ]
  },
  {
   "cell_type": "code",
   "execution_count": 27,
   "metadata": {
    "collapsed": true
   },
   "outputs": [],
   "source": [
    "class LinearModel(nn.Module):\n",
    "\n",
    "    def __init__(self, input_dim, output_dim):\n",
    "        # Calling Super Class's constructor\n",
    "        super(LinearModel, self).__init__() \n",
    "        \n",
    "        self.weight = nn.Parameter(t.randn(input_dim, output_dim))\n",
    "        self.bias = nn.Parameter(t.randn(output_dim))\n",
    "\n",
    "    def forward(self, x):\n",
    "        out = x * self.weight + self.bias\n",
    "        return out"
   ]
  },
  {
   "cell_type": "markdown",
   "metadata": {},
   "source": [
    "Loss function is also designed as a sub class of `nn.Module`, though we usually want to extract them out and make them independent from the network. There are many predefined loss function such as `MSELoss()` and `CrossEntropyLoss()`, etc."
   ]
  },
  {
   "cell_type": "code",
   "execution_count": 28,
   "metadata": {},
   "outputs": [
    {
     "data": {
      "text/plain": [
       "Variable containing:\n",
       " 2.0062\n",
       "[torch.FloatTensor of size 1]"
      ]
     },
     "execution_count": 28,
     "metadata": {},
     "output_type": "execute_result"
    }
   ],
   "source": [
    "y = Variable(t.randn(2, 2))\n",
    "label = Variable(t.randn(2, 2))\n",
    "\n",
    "criterion = nn.MSELoss()\n",
    "loss = criterion(y, label)\n",
    "loss"
   ]
  },
  {
   "cell_type": "markdown",
   "metadata": {},
   "source": [
    "PyTorch encapsulates the optimizing methods into `torch.optim`, and it is very easy to extend. You need to declare the parameter to optimize as well as the learning rate. The actual work will be done in `.step()` call. Note that you need to zero out the gradient each time you update something."
   ]
  },
  {
   "cell_type": "code",
   "execution_count": 29,
   "metadata": {},
   "outputs": [],
   "source": [
    "net = LinearModel(1, 1)\n",
    "# Define an adam optimizer\n",
    "optimizer = optim.SGD(params=net.parameters(), lr=lr)\n",
    "optimizer.zero_grad() \n",
    "\n",
    "input = Variable(t.randn(1, 1))\n",
    "output = net(input)\n",
    "output.backward(output) \n",
    "\n",
    "# Update parameters\n",
    "optimizer.step()"
   ]
  },
  {
   "cell_type": "markdown",
   "metadata": {},
   "source": [
    "Combine what we learned above, we can now build a linear regression network and start training using mean square loss function and SGD as optimizer, and use the predefiend network model."
   ]
  },
  {
   "cell_type": "code",
   "execution_count": 30,
   "metadata": {
    "scrolled": true
   },
   "outputs": [
    {
     "data": {
      "image/png": "[encoded data removed]",
      "text/plain": [
       "<matplotlib.figure.Figure at 0x1138fff98>"
      ]
     },
     "metadata": {},
     "output_type": "display_data"
    },
    {
     "name": "stdout",
     "output_type": "stream",
     "text": [
      "2.8014142513275146 -0.2901085615158081\n"
     ]
    }
   ],
   "source": [
    "# Wnn.Linear is a predefined linear network works the same as our LinearModel\n",
    "model = nn.Linear(1,1)\n",
    "\n",
    "# X, Y should be Variable\n",
    "X_ = X.as_matrix().astype('float').reshape(-1, 1)\n",
    "X_ = Variable(t.Tensor(X_))\n",
    "Y_ = Y.as_matrix().astype('float').reshape(-1, 1)\n",
    "Y_ = Variable(t.Tensor(Y_))\n",
    "\n",
    "loss_func = nn.MSELoss()\n",
    "optimizer = optim.SGD(model.parameters(), lr=lr)\n",
    "\n",
    "for epoch in range(epochs):\n",
    "    output = model(X_)\n",
    "    optimizer.zero_grad()\n",
    "\n",
    "    loss = loss_func(output, Y_)\n",
    "    loss.backward()\n",
    "    optimizer.step()\n",
    "    \n",
    "x = Variable(t.arange(68, 88).view(-1, 1))\n",
    "y = model(x)\n",
    "plt.plot(x.data.numpy(), y.data.numpy())\n",
    "plt.scatter(X, Y)\n",
    "plt.show()\n",
    "print(model.weight.data.squeeze()[0], model.bias.data[0])"
   ]
  },
  {
   "cell_type": "markdown",
   "metadata": {},
   "source": [
    "For now we have built toy network from scratch. But we can do more with PyTorch and build more advanced neural network. In `torch.nn.functional` and `torch.nn` package, we can many helpful functions such as convolutional, activation functions, and even complex network structure such as `LSTM` or `ResNet` in [torchvison](https://github.com/pytorch/vision/blob/master/torchvision/models/resnet.py). We won't go that further in this turtorial, but it's very helpful as an advanced reading material.\n",
    "\n",
    "![Convnet](http://pytorch.org/tutorials/_images/mnist.png)\n",
    "<center>*Convenet*</center>                \n"
   ]
  },
  {
   "cell_type": "markdown",
   "metadata": {},
   "source": [
    "### Reference\n",
    "1. PyTorch: http://http://pytorch.org/\n",
    "2. PyTorch source code: https://github.com/pytorch/pytorch\n",
    "2. Miscellaneous Datasets: http://users.stat.ufl.edu/~winner/datasets.html\n",
    "3. Matplotlib: https://matplotlib.org/\n",
    "4. TorchVision: https://github.com/pytorch/vision"
   ]
  }
 ],
 "metadata": {
  "kernelspec": {
   "display_name": "Python 3",
   "language": "python",
   "name": "python3"
  },
  "language_info": {
   "codemirror_mode": {
    "name": "ipython",
    "version": 3
   },
   "file_extension": ".py",
   "mimetype": "text/x-python",
   "name": "python",
   "nbconvert_exporter": "python",
   "pygments_lexer": "ipython3",
   "version": "3.6.3"
  }
 },
 "nbformat": 4,
 "nbformat_minor": 2
}
