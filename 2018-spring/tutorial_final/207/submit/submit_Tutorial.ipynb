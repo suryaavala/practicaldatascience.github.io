{
 "cells": [
  {
   "cell_type": "markdown",
   "metadata": {},
   "source": [
    "Universe, the Final Frontier\n",
    "=================\n",
    "Apply SparkML+GPU in High-Energy Physics Bigdata Analysis\n",
    "-------------------------------------------------------"
   ]
  },
  {
   "cell_type": "markdown",
   "metadata": {},
   "source": [
    "As the famous dialect in StarTrek said, ***Universe is the Final Frontier of Human Beings***. Nowadays, the research focus of data science has covered various aspects of human life, as well as the research of **advanced physics big data**. The usage of advanced data abalysis technique in high-energy physics help scientists accelerate their experiment workload, and finally leading to so many impressive successes all over the world.\n",
    "\n",
    "The discussion of this tutorial would be based on the **HEPMASS** Data Set(2016) from University of Carlifornia, Irvine. It is consisted of \t\n",
    "10500000 instances (about ***10 million***), each of which owns 28 attributes. \n",
    "\n",
    "We will cover the following topics in this tutorial:\n",
    "1. [Introduction about Physics Bigdata Analysis](#Introduction)\n",
    "2. [Traditional Data Analysis in HEPMASS Dataset](#Traditional Logistic Regression Model in HEPMASS)\n",
    "4. [SparkML Data Analysis in HEPMASS Dataset](#SparkML Data Analysis in HEPMASS Dataset)\n",
    "5. [SparkML+GPU Data Analysis in HEPMASS Dataset](#SparkML+GPU Data Analysis in HEPMASS Dataset)\n",
    "6. [Conclusion](#Conclusion)"
   ]
  },
  {
   "cell_type": "markdown",
   "metadata": {},
   "source": [
    "## 1. Introduction\n",
    "### 1.1 Challenge and Motivation\n",
    "The physics bigdata world is quite different from normal commercial data source. The major differences between physical bigdata and commercial bigdata could be concluded as following:\n",
    "1. **Complex Data Attributes and Large Instances Number**: \n",
    "The high-energy physics experiment collects information of thousands of millions of atomics each time. And each atomic is associated with a complex attribute sets, including velocity, quality and other physics volumn.\n",
    "2. **High Performance Computation(HPC) and Super Computer Bottleneck**:\n",
    "In the previous decades, physicians have to depend on super computer to execute the experiment calculation. However, the super computer resources are exceedly limited in US, although the usage cost is quite high for researchers. Additionaly, programming in super computer is totally diffrent from programing in usual servers.\n",
    "3. **Parallelism and Memory Challenge**:\n",
    "Faced with a large set of homogeneous data, the parallelism requirement becomes more important in physics bigdata analysis than commercial data analysis. Also the traditional ML library, for example SKlearn, requires to store data in memory before execution. However, the physics data is too large to be put in the memory space of one instance."
   ]
  },
  {
   "attachments": {},
   "cell_type": "markdown",
   "metadata": {},
   "source": [
    "Faced with challenges above, following architecture and components would be useful in this problem\n",
    "1. **Distributed Data Anlysis System**\n",
    "2. **Commercial Hardware Calculation Cluster**\n",
    "3. **Heterogeneous Acclerator such as GPU**\n",
    "\n",
    "Hence, we would propose a ***SparkML+GPU+Cloud*** framework for physics bigdata analysis, in which Cloud Cluster plays a role of infrastructure provider, Spark takes charge of calculation organization, GPU works as heterogenous accelrator. Figure1 indicates the relation between the motivation and architecture.\n",
    "<img src=\"files/1.png\">"
   ]
  },
  {
   "cell_type": "markdown",
   "metadata": {},
   "source": [
    "### 1.2 Special Note\n",
    "1. This tutorial focus more on **data system architecture**, instead of data algorithm design.\n",
    "2. It would be better to use the tutorial if you have **previous experience on Spark**, the most famous and popular distributed memory calculation framework. However, **feel free** if you do not know it before, since the main optimization idea is direct and easy to understand.\n",
    "3. Spark Ecosystem uses java and scala as major programming language, also the system is associated with specific aws image. In other words, you **could not run this notebook directly**. However, I would provide plenty intermediate results and instructions to help you step by step.\n",
    "4. I have uploaded the video in Youtube for your convenience. "
   ]
  },
  {
   "cell_type": "markdown",
   "metadata": {},
   "source": [
    "### 1.3 Best Practice\n",
    "The tutorial is possibly hard to execute for readers who have not used Spark before. To give you a direct experience about how it works, I have made a Google Cloud Platform Image, so that you could use it to have a fresh experience about the power of distributed computation.\n",
    "\n",
    "Please take following step as reference :"
   ]
  },
  {
   "cell_type": "markdown",
   "metadata": {},
   "source": [
    "***Best Practice in Chapter2: Traditional ML***\n",
    "1. **Highly Recommend** : Initialize an AWS account and use the provided AWS image to continue.\n",
    "2. Log into the project, use the image ```ami-7c1eba01``` to launch a new instance in ```us-east1``` with at least ```16GB``` memory and allows the traffic in port ```8888``` to allow jupyter notebook.\n",
    "3. Use the AWS dashboard to ssh to the instance. All dependency file has been lied in the directory ```~/SparkMLGPU-Physics```.\n",
    "4. Get into the work directory, type ```jupyter notebook``` to open the directory\n",
    "5. Then, open the browser and use ```http://<Your_Instance_IP_Address>:8888/``` to open the jupyter notebook with password ```123456```. ```Tutorial.ipynb``` could help you to run through all programs in traditional model.\n",
    "\n",
    "I have recorded an video to explain all steps you need to set up the environment.Run the cell below to load the video https://youtu.be/H4PiHTU40XY"
   ]
  },
  {
   "cell_type": "code",
   "execution_count": 4,
   "metadata": {},
   "outputs": [
    {
     "data": {
      "text/html": [
       "<iframe width=\"560\" height=\"315\" src=\"https://www.youtube.com/embed/H4PiHTU40XY?rel=0&amp;controls=0&amp;showinfo=0\" frameborder=\"0\" allowfullscreen></iframe>"
      ],
      "text/plain": [
       "<IPython.core.display.HTML object>"
      ]
     },
     "execution_count": 4,
     "metadata": {},
     "output_type": "execute_result"
    }
   ],
   "source": [
    "from IPython.display import HTML\n",
    "# Youtube URL: https://www.youtube.com/watch?v=Qp_b023Rhio&feature=youtu.be\n",
    "HTML('<iframe width=\"560\" height=\"315\" src=\"https://www.youtube.com/embed/H4PiHTU40XY?rel=0&amp;controls=0&amp;showinfo=0\" frameborder=\"0\" allowfullscreen></iframe>')"
   ]
  },
  {
   "cell_type": "markdown",
   "metadata": {},
   "source": [
    "***Best Practice in Chapter3: SparkML***\n",
    "0. If you use the aws image listed above, then ```google cloud sdk``` has been installed. Otherwise, you have to install it before continue.\n",
    "1. After you run through the traditional model in chapter2, you would continue the following procedure in **Gougle Dataproc Cluster**. First, use ```gcloud init``` to initial the gcloud configuration.\n",
    "2. The initial script of dataproc cluster has been lied in the work directory. Run ```./launchSpark.sh``` to launch new cluster automatically. You should wait at least **3 minutes** to continue.\n",
    "3. Revise the firewall rule of ```sparkmlgpu-m``` to allow the income tcp flow in port ```8080```.\n",
    "4. Use ```<sparkmlgpu-m_ip_address>:8080``` in your web browser to view the Zeppelin Interface.\n",
    "5. Click ```import note``` and upload following url ```https://raw.githubusercontent.com/ShengjieLuo/SparkMLGPU-Physics/master/zeppelin.json``` into Zeppelin. So that you could get an interactive script to run following process. Samll tips that you could use ```shift+enter``` to run Zeppelin cells like Jupter Notebook.\n",
    "\n",
    "I have recorded an video to explain all steps you need to set up the environment. Don't hesitate to watch this video if you have any problem!\n",
    "\n",
    "Youtube URL: https://www.youtube.com/watch?v=Qp_b023Rhio&feature=youtu.be\n",
    "\n",
    "Run the cell below to load the video"
   ]
  },
  {
   "cell_type": "code",
   "execution_count": 1,
   "metadata": {},
   "outputs": [
    {
     "data": {
      "text/html": [
       "<iframe width=\"560\" height=\"315\" src=\"https://www.youtube.com/embed/Qp_b023Rhio?rel=0&amp;controls=0&amp;showinfo=0\" frameborder=\"0\" allowfullscreen></iframe>"
      ],
      "text/plain": [
       "<IPython.core.display.HTML object>"
      ]
     },
     "execution_count": 1,
     "metadata": {},
     "output_type": "execute_result"
    }
   ],
   "source": [
    "from IPython.display import HTML\n",
    "# Youtube URL: https://www.youtube.com/watch?v=Qp_b023Rhio&feature=youtu.be\n",
    "HTML('<iframe width=\"560\" height=\"315\" src=\"https://www.youtube.com/embed/Qp_b023Rhio?rel=0&amp;controls=0&amp;showinfo=0\" frameborder=\"0\" allowfullscreen></iframe>')"
   ]
  },
  {
   "cell_type": "markdown",
   "metadata": {},
   "source": [
    "***Best Practice in Chapter4: SparkMLGPU***\n",
    "1. So far, you have gotten a first glance at SparkML, then we would use the AWS GPU instance to fullfill the SparkMLGPU practice. First, you need have an available AWS account and log into that account.\n",
    "2. Use the image ```ami-1c6ecb61``` to launch a new instance in ```us-east-1``` within the instance type ```g2.2xlarge``` and ```60GB``` GP2 storage. Since the copyright protection, you could not fetch the image in public. If you need this image, please email me shengjie.luo.cmu@gmail.com\n",
    "4. Use ```pem``` key to log into the instance with user name ```ec2-user```, the work directory is still ```~/SparkMLGPU-Physics```\n",
    "5. Execute ```mvn install``` to compile the test program.\n",
    "6. Execute ```python runGPU.py``` to run the program, and the result is shown on the screen.\n",
    "\n",
    "Following video goes through all steps in chapter4. If you find anything difficult, this video would help you.\n",
    "https://youtu.be/x3jSvX5WohE\n",
    "\n",
    "Run the cell below to load the video."
   ]
  },
  {
   "cell_type": "code",
   "execution_count": 2,
   "metadata": {},
   "outputs": [
    {
     "data": {
      "text/html": [
       "<iframe width=\"560\" height=\"315\" src=\"https://www.youtube.com/embed/x3jSvX5WohE?rel=0&amp;controls=0&amp;showinfo=0\" frameborder=\"0\" allowfullscreen></iframe>"
      ],
      "text/plain": [
       "<IPython.core.display.HTML object>"
      ]
     },
     "execution_count": 2,
     "metadata": {},
     "output_type": "execute_result"
    }
   ],
   "source": [
    "from IPython.display import HTML\n",
    "# Youtube URL: https://www.youtube.com/watch?v=x3jSvX5WohE&feature=youtu.be\n",
    "HTML('<iframe width=\"560\" height=\"315\" src=\"https://www.youtube.com/embed/x3jSvX5WohE?rel=0&amp;controls=0&amp;showinfo=0\" frameborder=\"0\" allowfullscreen></iframe>')"
   ]
  },
  {
   "cell_type": "markdown",
   "metadata": {
    "collapsed": true
   },
   "source": [
    "## 2. Traditional Data Analysis in HEPMASS Dataset\n",
    "### 2.1 Dataset Explanation and Preprocess\n",
    "In this model, Machine learning is used in high-energy physics experiments to search for the signatures of exotic particles. These signatures are learned from Monte Carlo simulations of the collisions that produce these particles and the resulting decay products. The goal of this model is to separate particle-producing collisions from a background source. \n",
    "\n",
    "Following the command below to download the dataset.(The file has been downloaded into the image)\n",
    "```\n",
    "wget https://archive.ics.uci.edu/ml/machine-learning-databases/00347/all_train.csv.gz\n",
    "gzip -d all_train.csv.gz\n",
    "wget https://archive.ics.uci.edu/ml/machine-learning-databases/00347/all_test.csv.gz\n",
    "gzip -d all_test.csv.gz\n",
    "```\n",
    "The first column is the class label (1 for signal, 0 for background), followed by the 27 normalized features (22 low-level features then 5 high-level features), and a 28th mass feature. The first sample in train dataset looks as following"
   ]
  },
  {
   "cell_type": "code",
   "execution_count": 1,
   "metadata": {},
   "outputs": [
    {
     "name": "stdout",
     "output_type": "stream",
     "text": [
      "Index Line\n",
      " # label,f0,f1,f2,f3,f4,f5,f6,f7,f8,f9,f10,f11,f12,f13,f14,f15,f16,f17,f18,f19,f20,f21,f22,f23,f24,f25,f26,mass\n",
      "\n",
      "Data Line\n",
      " 0.000000000000000000e+00,9.439358860254287720e-02,1.275558676570653915e-02,9.119330644607543945e-01,-9.083136916160583496e-02,-2.335745543241500854e-01,-1.054220795631408691e+00,-9.759366512298583984e-01,-1.067278265953063965e+00,-6.138502955436706543e-01,7.542607188224792480e-01,-9.256605505943298340e-01,-5.289512276649475098e-01,1.235263347625732422e+00,8.606486320495605469e-01,-2.320102453231811523e-01,-4.043335020542144775e-01,-1.559396624565124512e+00,-8.154401183128356934e-01,-1.376865267753601074e+00,6.759096682071685791e-02,1.372575879096984863e+00,-5.736824870109558105e-01,-1.368692040443420410e+00,-4.793794453144073486e-01,1.529256343841552734e+00,-5.757816433906555176e-01,-1.290232419967651367e+00,4.999999694824218750e+02\n",
      "\n"
     ]
    }
   ],
   "source": [
    "def printFirstDataSample(csvfile):\n",
    "    f = open(csvfile)\n",
    "    indexLine = f.readline()\n",
    "    dataLine  = f.readline()\n",
    "    print(\"Index Line\\n\",indexLine)\n",
    "    print(\"Data Line\\n\",dataLine)\n",
    "printFirstDataSample(\"all_test.csv\")"
   ]
  },
  {
   "cell_type": "markdown",
   "metadata": {},
   "source": [
    "The dataset is too large for a traditional scikit machine learning. Totally running through all datasets takes too mauch time to wait, in order to give you a sense of its efficiency, we would first divide a 10% dataset for experiment"
   ]
  },
  {
   "cell_type": "code",
   "execution_count": 2,
   "metadata": {},
   "outputs": [],
   "source": [
    "def producePercentSubset(percent,csvfile):\n",
    "    f = open(csvfile)\n",
    "    wf = open(csvfile+\".\"+str(percent),'w')\n",
    "    if csvfile==\"all_train.csv\":\n",
    "        count = percent/100.0 * 7000000\n",
    "    elif csvfile==\"all_test.csv\":\n",
    "        count = percent/100.0 * 3000000\n",
    "    else:\n",
    "        print(\"Invalid csv file\")\n",
    "        return\n",
    "    indexLine = f.readline()\n",
    "    wf.write(indexLine)\n",
    "    while (count>0):\n",
    "        row = f.readline()\n",
    "        wf.write(row)\n",
    "        count -= 1\n",
    "    \n",
    "producePercentSubset(10,\"all_train.csv\")\n",
    "producePercentSubset(10,\"all_test.csv\")"
   ]
  },
  {
   "cell_type": "markdown",
   "metadata": {},
   "source": [
    "After sampling the dataset, the directory organization is as following,\n",
    "```\n",
    "ubuntu@ip-172-31-91-240:~/tutorial$ ls -ail\n",
    "total 8091356\n",
    "1041180 -rw-rw-r--  1 ubuntu ubuntu 2589223661 Feb  3  2016 all_test.csv\n",
    "1041078 -rw-rw-r--  1 ubuntu ubuntu 5178435596 Feb  3  2016 all_train.csv\n",
    "1041079 -rw-rw-r--  1 ubuntu ubuntu  517845288 Mar 26 17:57 all_train.csv.10\n",
    "1041081 -rw-rw-r--  1 ubuntu ubuntu       8313 Mar 26 17:57 Tutorial.ipynb\n",
    "```"
   ]
  },
  {
   "cell_type": "markdown",
   "metadata": {},
   "source": [
    "The ML job in this task is a binary classification problem, and Logistic Regression is one of the recommended methods to classify two clusters of datapoints. Also Logistic Regression is the algorithm suitable for parallel execution, which leading to a quick GPU CUDA implementation."
   ]
  },
  {
   "cell_type": "markdown",
   "metadata": {},
   "source": [
    "## 2.2 Logistic Regression Classifier\n",
    "In this step, we selected the scikit library in python3 to implement the logistic regression.\n",
    "Following calculation is executed on the Google Cloud Platform with 26GB memory and 4 cores.For each execution longer than 1 minute, an estimated running time would be provided.\n",
    "\n",
    "Environment Requirement:\n",
    "1. **Memory**: >=16G (recommended:32G) \n",
    "2. **Cores** : >=2  (recommended:4)\n",
    "3. **GPU**   : N/A\n",
    "4. **Storage**: >=12G (recommended:30G)\n",
    "\n",
    "**Note: Only run small dataset, if your server has less than 16GB memory, otherwise, your jupyter notebook would crash without any response**\n",
    "\n",
    "First, the data is extracted from the trainning set. (*Estimated Time:1.5 min*)\n",
    "\n",
    "Extract 10% dataset\n",
    "```\n",
    "Timestamp before reading:2018-03-27 03:00:03.100450\n",
    "Timestamp after reading:2018-03-27 03:00:42.233126\n",
    "```\n",
    "Extract total dataset\n",
    "```\n",
    "Timestamp before reading:2018-03-27 03:21:39.190732\n",
    "Timestamp after reading:2018-03-27 03:26:55.688656\n",
    "```"
   ]
  },
  {
   "cell_type": "code",
   "execution_count": 5,
   "metadata": {},
   "outputs": [
    {
     "name": "stdout",
     "output_type": "stream",
     "text": [
      "Timestamp before reading:2018-03-27 03:41:05.418181\n",
      "Timestamp after reading:2018-03-27 03:41:39.894792\n"
     ]
    },
    {
     "data": {
      "text/plain": [
       "'\\n#Execute the large dataset only if you have >16G memory\\nprint(\"Timestamp before reading:\"+str(datetime.now()))\\n(dataset_train,targetset_train) = readData(\"all_train.csv\")\\n(dataset_test,targetset_test) = readData(\"all_test.csv\")\\nprint(\"Timestamp after reading:\"+str(datetime.now()))\\n'"
      ]
     },
     "execution_count": 5,
     "metadata": {},
     "output_type": "execute_result"
    }
   ],
   "source": [
    "from datetime import datetime\n",
    "def readData(csvfile):\n",
    "    f = open(csvfile)\n",
    "    dataset = []\n",
    "    targetset = []\n",
    "    indexLine = f.readline()\n",
    "    lines = f.readlines()\n",
    "    for line in lines:\n",
    "        line = line.strip().split(',')\n",
    "        tmpset = []\n",
    "        targetset.append(float(line[0]))\n",
    "        for i in range(1,len(line)):\n",
    "            tmpset.append(float(line[i]))\n",
    "        dataset.append(tmpset)\n",
    "    return (dataset,targetset)\n",
    "\n",
    "print(\"Timestamp before reading:\"+str(datetime.now()))\n",
    "(dataset_train_10,targetset_train_10) = readData(\"all_train.csv.10\")\n",
    "(dataset_test_10 ,targetset_test_10 ) = readData(\"all_test.csv.10\")\n",
    "print(\"Timestamp after reading:\"+str(datetime.now()))\n",
    "\n",
    "'''\n",
    "#Execute the large dataset only if you have >16G memory\n",
    "print(\"Timestamp before reading:\"+str(datetime.now()))\n",
    "(dataset_train,targetset_train) = readData(\"all_train.csv\")\n",
    "(dataset_test,targetset_test) = readData(\"all_test.csv\")\n",
    "print(\"Timestamp after reading:\"+str(datetime.now()))\n",
    "'''"
   ]
  },
  {
   "cell_type": "markdown",
   "metadata": {},
   "source": [
    "Then ,we import **Logistic Regression Model** from *sklearn* to train this model.\n",
    "\n",
    "The sample output of 10% dataset:\n",
    "```\n",
    "Total Train Size:700000\n",
    "Timestamp before train:2018-03-27 03:01:09.463669\n",
    "Timestamp after train:2018-03-27 03:01:24.814552\n",
    "```\n",
    "The sample output of total dataset:\n",
    "```\n",
    "Total Train Size:7000000\n",
    "Timestamp before train:2018-03-27 03:34:47.061060\n",
    "Timestamp after train:2018-03-27 03:37:25.162981\n",
    "```"
   ]
  },
  {
   "cell_type": "code",
   "execution_count": 2,
   "metadata": {},
   "outputs": [
    {
     "name": "stdout",
     "output_type": "stream",
     "text": [
      "Total Train Size:7000000\n",
      "Timestamp before train:2018-03-27 03:34:47.061060\n",
      "Timestamp after train:2018-03-27 03:37:25.162981\n"
     ]
    }
   ],
   "source": [
    "import numpy as np\n",
    "import matplotlib.pyplot as plt\n",
    "from datetime import datetime\n",
    "from sklearn import linear_model, datasets\n",
    "\n",
    "def LRModelTrain(stepSize,trainSet,targetSet):\n",
    "    print(\"Total Train Size:\"+str(len(targetSet)))\n",
    "    print(\"Timestamp before train:\"+str(datetime.now()))\n",
    "    X = trainSet\n",
    "    Y = targetSet\n",
    "    h = stepSize\n",
    "    lrmodel = linear_model.LogisticRegression(penalty='l2',C=1e5,solver='lbfgs',n_jobs=-1)\n",
    "    lrmodel.fit(X, Y)\n",
    "    print(\"Timestamp after train:\"+str(datetime.now()))\n",
    "    return lrmodel\n",
    "\n",
    "lrModel = LRModelTrain(0.01,dataset_train_10,targetset_train_10)\n",
    "\n",
    "#Execute the large dataset only if you have >16G memory\n",
    "#lrModel = LRModelTrain(0.01,dataset_train,targetset_train)"
   ]
  },
  {
   "cell_type": "markdown",
   "metadata": {},
   "source": [
    "After fetching the lrModel, we use the lrModel to predict\n",
    "\n",
    "The sample output of predicting 10% target dataset:\n",
    "```\n",
    "Timestamp after test:2018-03-27 03:42:10.440674\n",
    "Timestamp after test:2018-03-27 03:42:10.877418\n",
    "0.8357166666666667\n",
    "```\n",
    "\n",
    "The sample output of predicting total target dataset:\n",
    "```\n",
    "Timestamp after test:2018-03-27 03:39:57.233732\n",
    "Timestamp after test:2018-03-27 03:40:03.268416\n",
    "0.8359454285714286\n",
    "```"
   ]
  },
  {
   "cell_type": "code",
   "execution_count": 7,
   "metadata": {},
   "outputs": [
    {
     "name": "stdout",
     "output_type": "stream",
     "text": [
      "Timestamp after test:2018-03-27 03:42:10.440674\n",
      "Timestamp after test:2018-03-27 03:42:10.877418\n",
      "0.8357166666666667\n"
     ]
    }
   ],
   "source": [
    "def LRModelPredict(model,dataset_test,target_test):\n",
    "    accuracy = model.score(dataset_test,target_test)\n",
    "    return accuracy\n",
    "\n",
    "print(\"Timestamp after test:\"+str(datetime.now()))\n",
    "accuracy = LRModelPredict(lrModel,dataset_test_10,targetset_test_10)\n",
    "print(\"Timestamp after test:\"+str(datetime.now()))\n",
    "print(accuracy)"
   ]
  },
  {
   "attachments": {},
   "cell_type": "markdown",
   "metadata": {},
   "source": [
    "Figure2 indicates the time distribution in this task.Within the dataset size increasing, the trainning time and predicting time increases more quickly than data reading time. The total dataset takes about 10 minutes to complete, while the small dataset takes about 1 minute. \n",
    "<img src=\"files/2.png\">"
   ]
  },
  {
   "attachments": {
    "image.png": {
     "image/png": "[encoded data removed]"
    }
   },
   "cell_type": "markdown",
   "metadata": {},
   "source": [
    "# 3. SparkML Data Analysis in HEPMASS Dataset\n",
    "\n",
    "In this chapter, I would first introduce the Spark deployment in GCP. And then, **Logistic Regression Classifier** is applied to extract the major features. Also, **Principal Component Analysis** algorithm is used to extract the principal component of the dataset. Finally, we use ```matplotlib``` to visuallize the principal components.\n",
    "\n",
    ">***Why we select SparkML to do large dataset machine learning?***\n",
    "\n",
    ">***Altghough there are several distributed Machine Learning tool currently, such as Tensorflow or Caffe. However, these tools are specified to machine learning algorithm, and isolated from data preprocess and ETL. While Spark Ecosystem combines ML and preprocess together to build a complete data analysis pipeline, helping us to accelerate this procedure.***\n",
    "\n",
    ">***Why we use Zeppelin Notebook in this part?***\n",
    "\n",
    ">***Zeppelin Notebook is supported officially for the interactive data analysis in Spark Ecosystem. Zeppelin is highly integrated into Spark Core packages and indicates the task process clearly, while Jupyter Notebook does not keep these features. The deployment and usage of Zeppelin is explained in the chapter1 Best Practice. Great thanks for your patience and have fun in the big data world.***\n",
    "\n",
    "## 3.1 SparkML Cluster on GCP\n",
    "Spark is the most popular distributed calculation framework today, which emplying the power of distributed cluster to fullfill the machine learning tasks. The key idea of SparkML is to divide the large matrix into several block matrixes. And then each block matrix would be scheduled into the task executor, so that a large matrix calculation could be calculated parallely.\n",
    "\n",
    "Google Cloud Platform provides the **Dataproc** service to help users quickly deploy spark cluster on cloud environment. Additionally, GCP provides $300 coupon for new users, therefore, don't hesitate to have a try. The power of distributed computing system would definitely impress you. Figure3 indicates the configuration of the spark cluster launched by ```~/SparkMLGPU-Physics/launchCluster.sh```.\n",
    "![image.png](attachment:image.png)\n",
    "\n",
    "Refer to [Best Practice in chapter3 SparkML](#Best Practice) for more deploymeny information."
   ]
  },
  {
   "cell_type": "markdown",
   "metadata": {},
   "source": [
    "## 3.2 SparkML Logistic Classifier\n",
    "\n",
    "Following is the program to run **logistic regression classifier** on HERMASS data set. The logistic classifier uses **LBFGS** as the kernel function to help identifing data points. The parameter used in this program is the same with previous the traditional ML model.\n",
    "\n",
    "The sample output is\n",
    "```\n",
    "Timestamp before read data:2018-03-29 18:31:07.174520\n",
    "('Train Dataset Count:', 7000000)\n",
    "('Test  Dataset Count:', 3500000)\n",
    "Timestamp after read data:2018-03-29 18:33:01.765841\n",
    "Timestamp before trainning:2018-03-29 18:33:01.766313\n",
    "Timestamp after trainning:2018-03-29 18:34:01.615184\n",
    "Timestamp before prediction:2018-03-29 18:34:01.615749\n",
    "Timestamp after prediction:2018-03-29 18:34:11.957867\n",
    "Prediction Error = 0.184262571429\n",
    "```"
   ]
  },
  {
   "cell_type": "code",
   "execution_count": 6,
   "metadata": {},
   "outputs": [
    {
     "name": "stdout",
     "output_type": "stream",
     "text": [
      "Please convert to Zeppelin Notebook. Thanks for your patient.\n"
     ]
    }
   ],
   "source": [
    "'''\n",
    "IMPORTANT NOTE!!\n",
    "This cell is ran in the zeppelin notebook. Please refer to the Best Practise to open the Zeppelin notebook.\n",
    "'''\n",
    "try:\n",
    "    from pyspark.mllib.classification import LogisticRegressionWithLBFGS, LogisticRegressionModel\n",
    "    from pyspark.mllib.regression import LabeledPoint\n",
    "    import pyspark\n",
    "    from datetime import datetime\n",
    "    # Parse the data\n",
    "    def parsePoint(line):\n",
    "        values = [float(x) for x in line.split(',')]\n",
    "        return LabeledPoint(values[0], values[1:-1])\n",
    "\n",
    "    print(\"Timestamp before read data:\"+str(datetime.now()))\n",
    "    trainRDD = sc.textFile(\"gs://dataproc-40cee9d2-1670-480a-8172-f1c4645b382a-us/all_train.sparkml.csv\")\n",
    "    testRDD  = sc.textFile(\"gs://dataproc-40cee9d2-1670-480a-8172-f1c4645b382a-us/all_test.sparkml.csv\")\n",
    "    trainRDD = trainRDD.map(parsePoint).cache()\n",
    "    testRDD  = testRDD.map(parsePoint).cache()\n",
    "    print(\"Train Dataset Count:\",trainRDD.count())\n",
    "    print(\"Test  Dataset Count:\",testRDD.count())\n",
    "    print(\"Timestamp after read data:\"+str(datetime.now()))\n",
    "\n",
    "    #Build the model\n",
    "    print(\"Timestamp before trainning:\"+str(datetime.now()))\n",
    "    model = LogisticRegressionWithLBFGS.train(trainRDD)\n",
    "    print(\"Timestamp after trainning:\"+str(datetime.now()))\n",
    "\n",
    "    # Evaluating the model on training data\n",
    "    print(\"Timestamp before prediction:\"+str(datetime.now()))\n",
    "    labelsAndPreds = testRDD.map(lambda p: (p.label, model.predict(p.features)))\n",
    "    testErr = labelsAndPreds.filter(lambda lp: lp[0] != lp[1]).count() / float(testRDD.count())\n",
    "    print(\"Timestamp after prediction:\"+str(datetime.now()))\n",
    "    print(\"Prediction Error = \" + str(testErr))\n",
    "except:\n",
    "    print(\"Please convert to Zeppelin Notebook. Thanks for your patient.\")"
   ]
  },
  {
   "attachments": {},
   "cell_type": "markdown",
   "metadata": {},
   "source": [
    "Up till now, we have used ```sklearn``` and ```sparkML``` to analysis the same dataset with the same model and parameters. Also, we get a similiar prediction result between these two models. According to the log printed, the time used by ```SparkML``` is much less than the time used by ```sklearn```. Following fiugre compares the time distribution in these two implementations.\n",
    "<img src=\"files/3.png\">"
   ]
  },
  {
   "cell_type": "markdown",
   "metadata": {},
   "source": [
    "Note that sklearn uses 1 core, while sparkml uses 4 cores in this task. The phenomenon tells us that:\n",
    "1. The acceleration ratio of SparkML is approching the ideal **linear acceleration ratio**.\n",
    "2. ***Data Reading Accelration***: SparkML reads the file from **distributed file system**, which guarantees the parallel data reading and leads to a better reading velocity.\n",
    "3. ***Trainning Acceleration***: Most of the time used in logistic regression classifier trainning is **Matrix Multiplication**, especially when the system handles the large matrix multiplication. SparkML divides the large matrix into a group of **Block Matrices**, and executes the block matrices muliplication parallelly.\n",
    "4. ***Prediction Acceleration***: SparkML divides the test dataset into several small partitions, and each partition could be scheduled into an independent executor, so that the prediction could be executed in parallel.\n",
    "5. ***Bottleneck***: The bottleneck of single-machine learning could be concluded into two aspects, memory bottleneck and calculation bottleneck. And the occurrance of distributed ML implementation helps us with both these two bottlenecks."
   ]
  },
  {
   "cell_type": "markdown",
   "metadata": {},
   "source": [
    "## 3.3 SparkML PCA and visualization\n",
    "**Principal component analysis (PCA)** is a statistical procedure that uses an orthogonal transformation to convert a set of observations of possibly correlated variables into a set of values of linearly uncorrelated variables called principal components. It is a useful method to handle the high dimensional data. Following program indicates the method to handle the PCA analysis in HERMASS dataset\n",
    "\n",
    "The sample output is \n",
    "```\n",
    "Timestamp before pca:2018-03-29 17:55:59.465559\n",
    "Timestamp after pca:2018-03-29 17:58:46.221059\n",
    "```"
   ]
  },
  {
   "cell_type": "code",
   "execution_count": 7,
   "metadata": {},
   "outputs": [
    {
     "name": "stdout",
     "output_type": "stream",
     "text": [
      "Please convert to Zeppelin Notebook. Thanks for your patient.\n"
     ]
    }
   ],
   "source": [
    "'''\n",
    "IMPORTANT NOTE!!\n",
    "This cell is ran in the zeppelin notebook. Please refer to the Best Practise to open the Zeppelin notebook.\n",
    "'''\n",
    "try:\n",
    "    import pyspark\n",
    "    from pyspark.mllib.linalg import Vectors\n",
    "    from pyspark.mllib.linalg.distributed import RowMatrix\n",
    "    from datetime import datetime\n",
    "    \n",
    "    # Parse the data\n",
    "    def parsePoint(line):\n",
    "        values = [float(x) for x in line.split(',')]\n",
    "        return Vectors.dense(values[1:-1])\n",
    "\n",
    "    # Parse the label\n",
    "    def parseLabel(line):\n",
    "        label = float(line.split(',')[0])\n",
    "        return label\n",
    "\n",
    "    print(\"Timestamp before pca:\"+str(datetime.now()))\n",
    "    rawRDD = sc.textFile(\"gs://dataproc-40cee9d2-1670-480a-8172-f1c4645b382a-us/all_train.sparkml.csv\").cache()\n",
    "    labels = rawRDD.map(parseLabel).cache()\n",
    "    trainRDD = rawRDD.map(parsePoint)\n",
    "\n",
    "    # Compute the top 4 principal components.\n",
    "    # Principal components are stored in a local dense matrix.\n",
    "    mat = RowMatrix(trainRDD)\n",
    "    pc = mat.computePrincipalComponents(2)\n",
    "\n",
    "    # Project the rows to the linear space spanned by the top 4 principal components.\n",
    "    projected = mat.multiply(pc).rows.cache()\n",
    "    print(\"Timestamp after pca:\"+str(datetime.now()))\n",
    "except:\n",
    "    print(\"Please convert to Zeppelin Notebook. Thanks for your patient.\")"
   ]
  },
  {
   "attachments": {},
   "cell_type": "markdown",
   "metadata": {},
   "source": [
    "After handling PCA analysis, the low dimensional data could be easily visualized and help us to have a direct sense of the dataset. In this tutorial, we reduce the dimension number from 27 dimensions to 2 dimensions, so that we could plot datapoint in the canvas. However, there are too many points to be shown in the canvas, hence, we **sample** only a small percentile of data points to be shown in canvas.\n",
    "\n",
    "In the canvas, the **red point** indicates the positive samples with label ```1```, while the **blue point** indicates the negative samples with label ```0```.\n",
    "<img src=\"files/4.png\">"
   ]
  },
  {
   "cell_type": "markdown",
   "metadata": {},
   "source": [
    "We apply the **principal component** learnt from the trainning set to test dataset to comment the learning result by following program. "
   ]
  },
  {
   "cell_type": "code",
   "execution_count": 11,
   "metadata": {},
   "outputs": [
    {
     "name": "stdout",
     "output_type": "stream",
     "text": [
      "Please convert to Zeppelin Notebook. Thanks for your patient.\n"
     ]
    }
   ],
   "source": [
    "try:\n",
    "    #Test Dataset PCA analysis\n",
    "    import pyspark\n",
    "    from pyspark.mllib.linalg import Vectors\n",
    "    from pyspark.mllib.linalg.distributed import RowMatrix\n",
    "    from datetime import datetime\n",
    "    import matplotlib.pyplot as plt\n",
    "\n",
    "    def parsePoint(p):\n",
    "        return Vectors.dense(p.features)\n",
    "\n",
    "    def getCol(dataset):\n",
    "        dataset = dataset.collect()\n",
    "        length = len(dataset)\n",
    "        X = []\n",
    "        Y = []\n",
    "        for i in range(0,length,10000):\n",
    "            X.append(dataset[i].values[0])\n",
    "            Y.append(dataset[i].values[1])\n",
    "        return X,Y\n",
    "    \n",
    "    PositiveSamples = testRDD.filter(lambda p:p.label==1).map(parsePoint)\n",
    "    NegativeSamples = testRDD.filter(lambda p:p.label==0).map(parsePoint)\n",
    "    mat1 = RowMatrix(PositiveSamples)\n",
    "    mat2 = RowMatrix(NegativeSamples)\n",
    "    projected1 = mat1.multiply(pc)\n",
    "    projected2 = mat2.multiply(pc)\n",
    "    rows1 = projected1.rows.cache()\n",
    "    rows2 = projected2.rows.cache()\n",
    "\n",
    "    data1 = getCol(rows1)\n",
    "    data2 = getCol(rows2)\n",
    "    plt.plot(data1[0], data1[1], 'rs', data2[0], data2[1], 'bs')\n",
    "except:\n",
    "    print(\"Please convert to Zeppelin Notebook. Thanks for your patient.\")"
   ]
  },
  {
   "attachments": {},
   "cell_type": "markdown",
   "metadata": {},
   "source": [
    "When we compare the two figures produced by training set and test set, we find that these two sets follow similiar figure patterns, which indicates the effect of our logistic classfier.\n",
    "<img src=\"files/5.png\">"
   ]
  },
  {
   "cell_type": "markdown",
   "metadata": {},
   "source": [
    "# 4. SparkML+GPU Data Analysis in HEPMASS Dataset\n",
    "\n",
    "## 4.1 Why SparkML+GPU\n",
    "If we review the big data analysis nowadays, we would find a great gap between two most important parts of data analysis, **ETL(Extract-Transform-Load)** and **machine learning**. \n",
    "\n",
    "**ETL** handles the raw dataset, which is usually mixed with plenty of noises and dirty data points. The valuable datapoints is trsformed into clean datasets for following analysis.Nowadays, the large dataset is usually handled by **Spark** or **Elastic Search** to complete handle tasks.\n",
    "\n",
    "**Machine Learning**,in another hands, handles clear dataset within a complex model. Currently, **Tensorflow**, **Caffe**, **Pytorch** fully employs the GPU power to accelerate the machine learning tasks.\n",
    "\n",
    "However, these two tasks are isolated in the research world today! There is no unified framework to combine these two tools together. The gap between two parts means that researchers have to keep the output of ETL in the file system, and requires ML tools to read from files, vice versa. In other words, **the isolation means repeated unnecessary disk IO**. \n",
    "\n",
    "Today, the ETL guys would like to involve ML TOOLS into their frameworks, it is why **SparkML** develops so quickly today! It is an impressive and meaningful progress both in bigdata world and machine learning would. Among these progresses, **SparkML+GPU** is one of the most popular trending.\n",
    "\n",
    "## 4.2 SparkML+GPU Effect\n",
    "In this tutorial, we use the **SparkGPUEnabler** from **IBM** to enable this attempt. **SparkGPUEnabler** is an opensource project managed by ibm cloud team, and also a part of *IBM Spark Branch*. Considering the high price of cloud gpu device, we would only deploy a standalone spark cluster in this part.\n",
    "\n",
    "In standalone mode, the node is both a master and a worker. Also, it would use all cores in the instance to complete the Spark task. For your convenience, I have build the **SparkMLGPU** image in AWS cloud platform. Please refer to ***chapter1. Best Practice*** for more information. Thanks for your patience.\n",
    "\n",
    "After you log into the instance, execute following scipts to run the example\n",
    "```\n",
    "[ec2-user@ip-172-31-91-162 ~]$ cd SparkMLGPU-Physics/\n",
    "[ec2-user@ip-172-31-91-162 SparkMLGPU-Physics]$ python runGPU.py\n",
    "```"
   ]
  },
  {
   "cell_type": "code",
   "execution_count": 2,
   "metadata": {},
   "outputs": [
    {
     "name": "stdout",
     "output_type": "stream",
     "text": [
      "Please convert to AWS Image. Thanks for your patient.\n"
     ]
    }
   ],
   "source": [
    "#runGPU.py. Execute in the specific gpu instance.\n",
    "try:\n",
    "    import commands\n",
    "    tests = [100,1000,10000,100000,200000,300000,400000,500000,600000,700000]\n",
    "    for test in tests:\n",
    "        cmd = 'mvn exec:java -Dexec.mainClass=\"com.ibm.gpuenabler.SparkGPULR\" -Dexec.args=\"local[*] 2 %d 10 5\"|grep \"Elapsed time\"'%(test)\n",
    "        out = commands.getoutput(cmd)\n",
    "        gputime = int(out.split('\\n')[0].split()[-2])\n",
    "        cputime = int(out.split('\\n')[1].split()[-2])\n",
    "        print(\"Trainset Data Points:%d Dimension:%d GPUtime:%d CPUtime:%d\"%(test,10,gputime,cputime))\n",
    "except:\n",
    "    print(\"Please convert to AWS Image. Thanks for your patient.\")"
   ]
  },
  {
   "cell_type": "markdown",
   "metadata": {},
   "source": [
    "The program compares the execution efficiency of GPU and CPU in logistic regression. Since SparkGPUEnabler only supports java and scala, I could not show the java/scala content in this tutorial. However, the scala source code could be found in my AWS image.\n",
    "\n",
    "The comparison indicates the efficiency difference within the dataset size increasing. The dataset is produced by specified size and dimensions, but the value of each element is a random value.The logistic regression only takes 5 iteration in this example, even it does not convenge to the final result. Note that we use **8 cpu cores** in cpu execution, and only **one gpu core** in gpu execution. The sample output could be:\n",
    "```\n",
    "Trainset Data Points:100 Dimension:10 GPUtime:244 CPUtime:142\n",
    "Trainset Data Points:1000 Dimension:10 GPUtime:274 CPUtime:149\n",
    "Trainset Data Points:10000 Dimension:10 GPUtime:352 CPUtime:294\n",
    "Trainset Data Points:100000 Dimension:10 GPUtime:318 CPUtime:634\n",
    "Trainset Data Points:200000 Dimension:10 GPUtime:300 CPUtime:910\n",
    "Trainset Data Points:300000 Dimension:10 GPUtime:327 CPUtime:1085\n",
    "Trainset Data Points:400000 Dimension:10 GPUtime:411 CPUtime:1537\n",
    "Trainset Data Points:500000 Dimension:10 GPUtime:370 CPUtime:1635\n",
    "Trainset Data Points:600000 Dimension:10 GPUtime:475 CPUtime:1836\n",
    "Trainset Data Points:700000 Dimension:10 GPUtime:385 CPUtime:2356\n",
    "```"
   ]
  },
  {
   "cell_type": "markdown",
   "metadata": {},
   "source": [
    "According to the sample report, GPU takes the efficiency advantage if there is a large dataset, since GPU enjoys a far more better parallelism  than CPU. However, GPU does not shares the same memory space with main memory, hence, it takes more time to transmiss the data from main memory to GPU memory.\n",
    "\n",
    "In one word, the efficiency decision between CPU and GPU is **a balance between data calculation performance and data transmission performance**. Usually, GPU is a better choice for data analysis in large dataset."
   ]
  },
  {
   "cell_type": "markdown",
   "metadata": {},
   "source": [
    "## 4.3 Further Reading\n",
    "1.\tSpark-GPU: An accelerated in-memory data processing engine on clusters\n",
    "http://ieeexplore.ieee.org/abstract/document/7840613/\n",
    "2.\tHeteroSpark: A heterogeneous CPU/GPU Spark platform for machine learning algorithms\n",
    "http://ieeexplore.ieee.org/abstract/document/7255222/\n",
    "3.\tAccelerating Spark RDD Operations with Local and Remote GPU Devices\n",
    "http://ieeexplore.ieee.org/abstract/document/7823823/\n",
    "4.\tSparkNet: Training Deep Networks in Spark\n",
    "https://arxiv.org/abs/1511.06051\n",
    "5.\tIBMSparkGPU (Opensource Project from IBM)\n",
    "https://github.com/IBMSparkGPU/\n",
    "6.\tSpark-GPU (Opensource Project from Adobe)\n",
    "https://github.com/adobe-research/spark-gpu\n",
    "7.\tScalNet (Opensource Project from Deeplearning4j)\n",
    "https://github.com/deeplearning4j/ScalNet\n"
   ]
  },
  {
   "cell_type": "markdown",
   "metadata": {},
   "source": [
    "# 5. Conclusion \n",
    "\n",
    "In this tutorial, we review three different data analysis methods for large data set, for example High Energy Physics Dataset. \n",
    "\n",
    "**Traditional ML methods** faces memory bottleneck and calculation bottleneck in this problem. For example, this instances need at least 16GB memory, which is higher than most laptops.\n",
    "\n",
    "**SparkML methods** employs the power of distributed computing, and elimnate the bootleneck by scaling out the cluster. The experiment data has shown the effect of distributed computing accleration.\n",
    "\n",
    "**SparkML+GPU methods** is a new trending for both academic field and industry field. Also, there is no mature solution until now. The ibm *SparkGPU* provides a direction for further research and indicates the progress of hetergeneous acceleration.\n",
    "\n",
    "Thanks for you reading! Especially considering it is a longer tutorial than my classmates, ***maybe the longest***. I have worked in this field years before I went to CMU, and I found the journey from single-node to distributed, from homogeneous to heterogeneous, is one of the most exciting progress in computer science world today."
   ]
  },
  {
   "cell_type": "code",
   "execution_count": null,
   "metadata": {},
   "outputs": [],
   "source": []
  }
 ],
 "metadata": {
  "kernelspec": {
   "display_name": "Python 3",
   "language": "python",
   "name": "python3"
  },
  "language_info": {
   "codemirror_mode": {
    "name": "ipython",
    "version": 3
   },
   "file_extension": ".py",
   "mimetype": "text/x-python",
   "name": "python",
   "nbconvert_exporter": "python",
   "pygments_lexer": "ipython3",
   "version": "3.6.4"
  }
 },
 "nbformat": 4,
 "nbformat_minor": 2
}
