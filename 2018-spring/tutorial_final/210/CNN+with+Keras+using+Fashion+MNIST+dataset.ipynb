{
 "cells": [
  {
   "cell_type": "markdown",
   "metadata": {},
   "source": [
    "# Exploring Fashion MNIST dataset with Keras\n",
    "\n",
    "\n",
    "## 0. Introduction"
   ]
  },
  {
   "cell_type": "markdown",
   "metadata": {},
   "source": [
    "This tutorial will provide a brief introduction to deep learning and convolutional neural network using Keras. In this tutorial, you will\n",
    "\n",
    "1. Gain some basic understanding of deep learning and convolutional neural network.\n",
    "\n",
    "\n",
    "2. Learn to use Keras, a high-level neural networks API written in Python, and try building machine learning algorithm using Fashion-MNIST dataset.\n"
   ]
  },
  {
   "cell_type": "markdown",
   "metadata": {},
   "source": [
    "### 0.1 Deep Learning\n",
    "\n",
    "Deep learning is a part of a broader family of machine learning inspired by artificial neural networks and biological neural networks. In the recent years, it has been applied to many fields such as Computer Vision, Natural Language Processing, Speech Recognition, Audio Recognition and Social Network Filtering. The deep learning application we are learning today is image classfication.\n",
    "\n",
    "Traditional machine learning models depend on handcrafted features. Deep learning models are able to outperform traditional machine learning models because they also learn feature extraction. As the number of layers increases and network grows deeper, the model extracts features at multiple levels of abstraction and gets more accurate results. Therefore, deep learning is a very useful and important topic in the field of data science for knowledge discovery and prediction. "
   ]
  },
  {
   "cell_type": "markdown",
   "metadata": {},
   "source": [
    "### 0.2 Convolutional Neural Network\n",
    "\n",
    "Convolutional neural network, commonly referred to as CNN, is a deep, feed-forward artificial neural network. It is one of the most popular deep learning architectures. CNNs are inspired by biological visual cortex. Individual cortical neurons are only sensitive to specific region of visual field. A neuron does not have to see the whole picture to detect the pattern. CNNs embrace the idea that specific components of a system have specilized tasks. A CNN is able to focus on a small part with less parameters. So we are able to subsample the picture for small part and less parameters, and process all the small parts to get a better understanding of the original picture.\n",
    "\n",
    "Some fundemental concepts in neural network:\n",
    "\n",
    "1. Layers: A series of data-processing modules that takes input data, filters the data, and the data come out in a more useful form.\n",
    "2. Models: A deep-learning model is a directed, acyclic graph of layers. \n",
    "3. Loss function: The loss function compares these predictions to the targets, producing a loss value indicating how well the network’s predictions match what was expected. \n",
    "4. Optimizer: The optimizer represents the algorithm how the network will be optimized based on the loss function. \n"
   ]
  },
  {
   "cell_type": "markdown",
   "metadata": {},
   "source": [
    "Here is an example of a convolution network\n",
    "\n",
    "[<img src=\"https://www.mathworks.com/content/mathworks/www/en/discovery/convolutional-neural-network/_jcr_content/mainParsys/image_copy.adapt.full.high.jpg/1517522275430.jpg\">](https://www.mathworks.com/content/mathworks/www/en/discovery/convolutional-neural-network/_jcr_content/mainParsys/image_copy.adapt.full.high.jpg/1517522275430.jpg)\n",
    "\n",
    "source: https://www.mathworks.com/discovery/convolutional-neural-network.html\n",
    "\n",
    "You can see that the model contains multiple layers of image processing modulesl. The output of each layer is fed to the next layer. Through layers of training, the feature learning process is finished, and the results are finalized in the classification phase. We will walk through the entire model building in this tutorial. \n"
   ]
  },
  {
   "cell_type": "markdown",
   "metadata": {},
   "source": [
    "### 0.3 Keras\n",
    "\n",
    "Keras is a high level framework developed to enable deep learning engineers to build and experiment with different models very quickly. Keras is used at Google, Netflix, Uber, CERN, Yelp and many other places to solve deep-learning problems.\n",
    "\n",
    "Comparing with other deep learning libraries like Tensorflow, Theano, or CNTK, Keras provides a simple and modular API that hides complicated details under surface-level. The workflow in Keras appears to be very beginner-friendly for training and evaluating the models. Even if you have limited knowledge in deep learning, it is easier to start deep learning with Keras.\n",
    "\n",
    "On the other hand, if you want to go beyond surface-level, other libraries such as Theano, Tensorflow, PyTorch are better choices. These libraries allow you to go deeper into lower level of abstraction, where more customized operations are available."
   ]
  },
  {
   "cell_type": "markdown",
   "metadata": {},
   "source": [
    "### 0.4 MNIST vs Fashion-MNIST dataset\n",
    "\n",
    "The original MNIST ((Modified National Institute of Standards and Technology database) database is a large set of handwritten digits. It is widely used for training and benchmark in machine learning. However, it is also criticized for \n",
    "being too easy, overused and cannot represent mordern computer vision task.\n",
    "\n",
    "Here is an example of MNIST Dataset\n",
    "\n",
    "[<img src=\"https://upload.wikimedia.org/wikipedia/commons/2/27/MnistExamples.png\">](https://upload.wikimedia.org/wikipedia/commons/2/27/MnistExamples.png)\n",
    "\n",
    "source: https://en.wikipedia.org/wiki/MNIST_database"
   ]
  },
  {
   "cell_type": "markdown",
   "metadata": {},
   "source": [
    "Now, there is a new replacement for the MNIST database. \n",
    "\n",
    "Fashion-MNIST is a dataset of Zalando's article images—consisting of a training set of 60,000 examples and a test set of 10,000 examples. Each example is a 28 * 28 grayscale image, associated with a label from 10 classes. The ten classes labels are:\n",
    "\n",
    "    Label      Description\n",
    "        0\t  T-shirt/top\n",
    "        1\t  Trouser\n",
    "        2\t  Pullover\n",
    "        3\t  Dress\n",
    "        4\t  Coat\n",
    "        5\t  Sandal\n",
    "        6\t  Shirt\n",
    "        7\t  Sneaker\n",
    "        8\t  Bag\n",
    "        9\t  Ankle boot\n",
    "\n",
    "Each class has 7,000 images. The training set has 60,000 images, and the test set has 10,000 images. It is introduced as a direct drop-in replacement for the original MNIST dataset for benchmarking machine learning algorithms. In this tutorial, we will use this dataset as the example of a neural network that uses the Python library Keras to learn image classification. It is a good start point for deep learning beginners. You will experience some basic deep learning techniques and pattern recognition methods while spending minimal efforts on data preprocessing. \n",
    "\n",
    "Here is an example of how the data looks like:\n",
    "\n",
    "[<img src=\"https://raw.githubusercontent.com/zalandoresearch/fashion-mnist/master/doc/img/fashion-mnist-sprite.png\">](https://raw.githubusercontent.com/zalandoresearch/fashion-mnist/master/doc/img/fashion-mnist-sprite.png)\n",
    "\n",
    "source: https://github.com/zalandoresearch/fashion-mnist"
   ]
  },
  {
   "cell_type": "markdown",
   "metadata": {},
   "source": [
    "## 1. Installation\n",
    "\n",
    "Keras uses one of TensorFlow, Theano or CNTK, as its backend engines. Before installing Keras, we need to install one of them, and TensorFlow is recommended by Keras Documentations.\n",
    "\n",
    "\n",
    "### 1.1 Install TensorFlow\n",
    "\n",
    "Follow the instructions here: https://www.tensorflow.org/install/"
   ]
  },
  {
   "cell_type": "markdown",
   "metadata": {},
   "source": [
    "### 1.2 Install Keras\n",
    "\n",
    "Instructions here: https://keras.io/#installation"
   ]
  },
  {
   "cell_type": "markdown",
   "metadata": {},
   "source": [
    "## 2. Preparation"
   ]
  },
  {
   "cell_type": "markdown",
   "metadata": {},
   "source": [
    "### 2.2 Load the dataset\n",
    "\n",
    "Keras has included Fashion-MNIST as a built-in dataset. We can simply load the training and test data using fashion_mnist.load_data(). The function returns 2 tuples: \n",
    "\n",
    "x_train, x_test: uint8 array of grayscale image data with shape (num_samples, 28, 28).\n",
    "\n",
    "y_train, y_test: uint8 array of labels (integers in range 0-9) with shape (num_samples,)."
   ]
  },
  {
   "cell_type": "code",
   "execution_count": 20,
   "metadata": {
    "collapsed": true
   },
   "outputs": [],
   "source": [
    "from keras.datasets import fashion_mnist\n",
    "\n",
    "(x_train, y_train), (x_test, y_test) = fashion_mnist.load_data()"
   ]
  },
  {
   "cell_type": "markdown",
   "metadata": {},
   "source": [
    "### 2.3 Examine the dataset"
   ]
  },
  {
   "cell_type": "code",
   "execution_count": 21,
   "metadata": {},
   "outputs": [
    {
     "name": "stdout",
     "output_type": "stream",
     "text": [
      "Training data shape :  (60000, 28, 28) (60000,)\n",
      "Testing data shape :  (10000, 28, 28) (10000,)\n"
     ]
    }
   ],
   "source": [
    "print('Training data shape : ', x_train.shape, y_train.shape)\n",
    "print('Testing data shape : ', x_test.shape, y_test.shape)"
   ]
  },
  {
   "cell_type": "markdown",
   "metadata": {},
   "source": [
    "The training data has a shape of 60000 x 28 x 28 with 60000 training samples each of 28 x 28 dimension.\n",
    "The test data has a shape of 10000 x 28 x 28 with 10,000 testing samples."
   ]
  },
  {
   "cell_type": "markdown",
   "metadata": {},
   "source": [
    "### 2.3 Process the dataset"
   ]
  },
  {
   "cell_type": "code",
   "execution_count": 22,
   "metadata": {
    "collapsed": true
   },
   "outputs": [],
   "source": [
    "# First we convert the data type to float32\n",
    "# and rescale the pixel values in range 0 - 1 inclusive\n",
    "x_train = x_train.astype('float32') / 255\n",
    "x_test = x_test.astype('float32') / 255\n",
    "\n",
    "# Then we reshape the data structure for training\n",
    "x_train = x_train.reshape(x_train.shape[0], 28, 28, 1)\n",
    "x_test = x_test.reshape(x_test.shape[0], 28, 28, 1)\n",
    "\n",
    "# Change the label of classes into one-hot encoding\n",
    "y_train = np_utils.to_categorical(y_train, 10)\n",
    "y_test = np_utils.to_categorical(y_test, 10)"
   ]
  },
  {
   "cell_type": "code",
   "execution_count": 23,
   "metadata": {},
   "outputs": [
    {
     "name": "stdout",
     "output_type": "stream",
     "text": [
      "Newly structured data shapes for training:\n",
      "Training data shape :  (60000, 28, 28, 1) (60000, 10)\n",
      "Testing data shape :  (10000, 28, 28, 1) (10000, 10)\n"
     ]
    }
   ],
   "source": [
    "print('Newly structured data shapes for training:')\n",
    "print('Training data shape : ', x_train.shape, y_train.shape)\n",
    "print('Testing data shape : ', x_test.shape, y_test.shape)"
   ]
  },
  {
   "cell_type": "markdown",
   "metadata": {},
   "source": [
    "Now that the normlization part is done, we can finally start building our model!"
   ]
  },
  {
   "cell_type": "markdown",
   "metadata": {},
   "source": [
    "## 3. CNN\n",
    "\n",
    "First we import the necessary libraries"
   ]
  },
  {
   "cell_type": "code",
   "execution_count": 1,
   "metadata": {},
   "outputs": [
    {
     "name": "stderr",
     "output_type": "stream",
     "text": [
      "Using TensorFlow backend.\n"
     ]
    }
   ],
   "source": [
    "import numpy as np\n",
    "import pandas as pd\n",
    "import matplotlib.pyplot as plt\n",
    "%matplotlib inline\n",
    "import keras\n",
    "from keras.models import Sequential\n",
    "from keras.layers import Dense, Activation, Dropout, Flatten\n",
    "from keras.layers import Conv2D, MaxPooling2D\n",
    "from keras.layers.normalization import BatchNormalization\n",
    "from keras.utils import np_utils"
   ]
  },
  {
   "cell_type": "markdown",
   "metadata": {},
   "source": [
    "### 3.1 Building the model\n",
    "\n",
    "In this example, we will use the Sequential class to define the model. The sequential class is for linear stacks of layers, which is the most common network architecture. It treats each layer as object that feeds into the next. We can stack up layer to the model, and adjust parameters such as activation function."
   ]
  },
  {
   "cell_type": "code",
   "execution_count": 2,
   "metadata": {
    "collapsed": true
   },
   "outputs": [],
   "source": [
    "model = Sequential()"
   ]
  },
  {
   "cell_type": "markdown",
   "metadata": {},
   "source": [
    "We start by adding the first convolutional layer. This layer uses several filters to calculate each parts of the image, and converts the results into a new matrix, which is also the feature map corresponding to the filters. We are using Conv2D() because we are working with images. This layer has 32 feature maps, size of 3 * 3, and a rectifier activation function. \"Relu\" stands for Rectified Linear Unit. It is the most popular activation function for deep neural networks for providing better training of deeper networks. If you want to learn more about different activation function, Stanford's cs231n has detailed explanation: http://cs231n.github.io/neural-networks-1/#actfun"
   ]
  },
  {
   "cell_type": "code",
   "execution_count": 3,
   "metadata": {
    "collapsed": true
   },
   "outputs": [],
   "source": [
    "model.add(Conv2D(32, kernel_size=(3, 3),input_shape=(28,28,1)))\n",
    "# BatchNormalization() normalizes the activations of the previous layer\n",
    "model.add(BatchNormalization())\n",
    "model.add(Activation('relu'))"
   ]
  },
  {
   "cell_type": "markdown",
   "metadata": {},
   "source": [
    "Then we add a pooling layer with a pool size of 2 * 2. A max pooling layer devides the feature maps into small pieces, pools out the maximum of each piece, and gets a smaller matrix. This layer compresses feature representations and reduces the number of parameters, hence reduce the overfitting of the training data."
   ]
  },
  {
   "cell_type": "code",
   "execution_count": 4,
   "metadata": {
    "collapsed": true
   },
   "outputs": [],
   "source": [
    "model.add(MaxPooling2D(pool_size=(2, 2)))"
   ]
  },
  {
   "cell_type": "markdown",
   "metadata": {},
   "source": [
    "A dropout layer randomly drops out a fraction of neurons during the training process, which prevents the network to memorize the training data and reduces the dependency on the training data. The dropout fraction can be set by a parameter and the training weight can be adjusted accordingly."
   ]
  },
  {
   "cell_type": "code",
   "execution_count": 5,
   "metadata": {
    "collapsed": true
   },
   "outputs": [],
   "source": [
    "model.add(Dropout(0.25))"
   ]
  },
  {
   "cell_type": "markdown",
   "metadata": {},
   "source": [
    "We repeatedly add more layers to the model and adjust the feature map slightly."
   ]
  },
  {
   "cell_type": "code",
   "execution_count": 6,
   "metadata": {
    "collapsed": true
   },
   "outputs": [],
   "source": [
    "model.add(Conv2D(64, kernel_size=(3, 3)))\n",
    "model.add(BatchNormalization())\n",
    "model.add(Activation('relu'))\n",
    "model.add(MaxPooling2D(pool_size=(2, 2)))\n",
    "model.add(Dropout(0.25))\n",
    "model.add(Conv2D(128, kernel_size=(3, 3)))\n",
    "model.add(BatchNormalization())\n",
    "model.add(Activation('relu'))\n",
    "model.add(MaxPooling2D(pool_size=(2, 2)))\n",
    "model.add(Dropout(0.25))"
   ]
  },
  {
   "cell_type": "markdown",
   "metadata": {},
   "source": [
    "We convert the 2D matrix data to a vector by flattening the small images we get."
   ]
  },
  {
   "cell_type": "code",
   "execution_count": 7,
   "metadata": {
    "collapsed": true
   },
   "outputs": [],
   "source": [
    "model.add(Flatten())"
   ]
  },
  {
   "cell_type": "markdown",
   "metadata": {},
   "source": [
    "Then we add a fully connected layer with 128 neurons and rectifier activation function. A fully connected layer flattens and combines all the high-level features learned by convolutional layers. We then pass the flattened output to the output layer. The output layer uses softmax activation function to predict for each of the 10 classes."
   ]
  },
  {
   "cell_type": "code",
   "execution_count": 8,
   "metadata": {
    "collapsed": true
   },
   "outputs": [],
   "source": [
    "model.add(Dense(128, activation='relu'))\n",
    "model.add(Dense(10, activation='softmax'))"
   ]
  },
  {
   "cell_type": "markdown",
   "metadata": {},
   "source": [
    "Lastly we complie the model using the Adam optimizer. It is a popular replacement optimization algorithm for stochastic gradient descent, and it can efficiently solve deep learning problems with large dataset. Here is a detailed introduction to Adam optimizer: https://machinelearningmastery.com/adam-optimization-algorithm-for-deep-learning/\n",
    "We uses categorical cross entropy as loss type for our multi-class classification, and we set the metrics as accuracy."
   ]
  },
  {
   "cell_type": "code",
   "execution_count": 9,
   "metadata": {},
   "outputs": [
    {
     "name": "stdout",
     "output_type": "stream",
     "text": [
      "_________________________________________________________________\n",
      "Layer (type)                 Output Shape              Param #   \n",
      "=================================================================\n",
      "conv2d_1 (Conv2D)            (None, 26, 26, 32)        320       \n",
      "_________________________________________________________________\n",
      "batch_normalization_1 (Batch (None, 26, 26, 32)        128       \n",
      "_________________________________________________________________\n",
      "activation_1 (Activation)    (None, 26, 26, 32)        0         \n",
      "_________________________________________________________________\n",
      "max_pooling2d_1 (MaxPooling2 (None, 13, 13, 32)        0         \n",
      "_________________________________________________________________\n",
      "dropout_1 (Dropout)          (None, 13, 13, 32)        0         \n",
      "_________________________________________________________________\n",
      "conv2d_2 (Conv2D)            (None, 11, 11, 64)        18496     \n",
      "_________________________________________________________________\n",
      "batch_normalization_2 (Batch (None, 11, 11, 64)        256       \n",
      "_________________________________________________________________\n",
      "activation_2 (Activation)    (None, 11, 11, 64)        0         \n",
      "_________________________________________________________________\n",
      "max_pooling2d_2 (MaxPooling2 (None, 5, 5, 64)          0         \n",
      "_________________________________________________________________\n",
      "dropout_2 (Dropout)          (None, 5, 5, 64)          0         \n",
      "_________________________________________________________________\n",
      "conv2d_3 (Conv2D)            (None, 3, 3, 128)         73856     \n",
      "_________________________________________________________________\n",
      "batch_normalization_3 (Batch (None, 3, 3, 128)         512       \n",
      "_________________________________________________________________\n",
      "activation_3 (Activation)    (None, 3, 3, 128)         0         \n",
      "_________________________________________________________________\n",
      "max_pooling2d_3 (MaxPooling2 (None, 1, 1, 128)         0         \n",
      "_________________________________________________________________\n",
      "dropout_3 (Dropout)          (None, 1, 1, 128)         0         \n",
      "_________________________________________________________________\n",
      "flatten_1 (Flatten)          (None, 128)               0         \n",
      "_________________________________________________________________\n",
      "dense_1 (Dense)              (None, 128)               16512     \n",
      "_________________________________________________________________\n",
      "dense_2 (Dense)              (None, 10)                1290      \n",
      "=================================================================\n",
      "Total params: 111,370\n",
      "Trainable params: 110,922\n",
      "Non-trainable params: 448\n",
      "_________________________________________________________________\n",
      "None\n"
     ]
    }
   ],
   "source": [
    "model.compile(loss='categorical_crossentropy', optimizer='adam', metrics=['accuracy'])\n",
    "print(model.summary())"
   ]
  },
  {
   "cell_type": "markdown",
   "metadata": {},
   "source": [
    "### 4.2 Train\n",
    "\n",
    "We have defined the model. We can train the dataset using this model by calling the fit() function, which passes input data to the model, and we save the training information in train_history.\n",
    "\n",
    "The fit function takes epochs and batch_size as arguments. Epochs stands for the number of iterations that the model will run, and batch_size refers to the number of instances evaluated per gradient update. If unspecified, it will default to 32. Batch size can affect the prediction accuracy and can be adjusted through trial and error. Using a higher batch_size may depend on memory. \n"
   ]
  },
  {
   "cell_type": "code",
   "execution_count": 137,
   "metadata": {},
   "outputs": [
    {
     "name": "stdout",
     "output_type": "stream",
     "text": [
      "Train on 60000 samples, validate on 10000 samples\n",
      "Epoch 1/20\n",
      "60000/60000 [==============================] - 309s 5ms/step - loss: 0.6173 - acc: 0.7770 - val_loss: 0.4426 - val_acc: 0.8367\n",
      "Epoch 2/20\n",
      "60000/60000 [==============================] - 304s 5ms/step - loss: 0.4541 - acc: 0.8326 - val_loss: 0.4283 - val_acc: 0.8435\n",
      "Epoch 3/20\n",
      "60000/60000 [==============================] - 314s 5ms/step - loss: 0.4125 - acc: 0.8484 - val_loss: 0.4329 - val_acc: 0.8359\n",
      "Epoch 4/20\n",
      "60000/60000 [==============================] - 340s 6ms/step - loss: 0.3895 - acc: 0.8570 - val_loss: 0.3600 - val_acc: 0.8685\n",
      "Epoch 5/20\n",
      "60000/60000 [==============================] - 567s 9ms/step - loss: 0.3696 - acc: 0.8647 - val_loss: 0.3294 - val_acc: 0.8797\n",
      "Epoch 6/20\n",
      "60000/60000 [==============================] - 339s 6ms/step - loss: 0.3539 - acc: 0.8690 - val_loss: 0.3237 - val_acc: 0.8809\n",
      "Epoch 7/20\n",
      "60000/60000 [==============================] - 314s 5ms/step - loss: 0.3447 - acc: 0.8728 - val_loss: 0.3483 - val_acc: 0.8703\n",
      "Epoch 8/20\n",
      "60000/60000 [==============================] - 372s 6ms/step - loss: 0.3353 - acc: 0.8757 - val_loss: 0.3267 - val_acc: 0.8787\n",
      "Epoch 9/20\n",
      "60000/60000 [==============================] - 561s 9ms/step - loss: 0.3256 - acc: 0.8799 - val_loss: 0.3216 - val_acc: 0.8796\n",
      "Epoch 10/20\n",
      "60000/60000 [==============================] - 336s 6ms/step - loss: 0.3186 - acc: 0.8822 - val_loss: 0.3129 - val_acc: 0.8788\n",
      "Epoch 11/20\n",
      "60000/60000 [==============================] - 319s 5ms/step - loss: 0.3149 - acc: 0.8827 - val_loss: 0.2968 - val_acc: 0.8911\n",
      "Epoch 12/20\n",
      "60000/60000 [==============================] - 389s 6ms/step - loss: 0.3098 - acc: 0.8852 - val_loss: 0.3036 - val_acc: 0.8863\n",
      "Epoch 13/20\n",
      "60000/60000 [==============================] - 562s 9ms/step - loss: 0.3008 - acc: 0.8866 - val_loss: 0.2934 - val_acc: 0.8941\n",
      "Epoch 14/20\n",
      "60000/60000 [==============================] - 333s 6ms/step - loss: 0.3012 - acc: 0.8888 - val_loss: 0.2989 - val_acc: 0.8889\n",
      "Epoch 15/20\n",
      "60000/60000 [==============================] - 315s 5ms/step - loss: 0.2957 - acc: 0.8890 - val_loss: 0.3378 - val_acc: 0.8760\n",
      "Epoch 16/20\n",
      "60000/60000 [==============================] - 408s 7ms/step - loss: 0.2928 - acc: 0.8913 - val_loss: 0.2854 - val_acc: 0.8972\n",
      "Epoch 17/20\n",
      "60000/60000 [==============================] - 526s 9ms/step - loss: 0.2897 - acc: 0.8928 - val_loss: 0.2916 - val_acc: 0.8919\n",
      "Epoch 18/20\n",
      "60000/60000 [==============================] - 329s 5ms/step - loss: 0.2874 - acc: 0.8926 - val_loss: 0.3135 - val_acc: 0.8826\n",
      "Epoch 19/20\n",
      "60000/60000 [==============================] - 320s 5ms/step - loss: 0.2841 - acc: 0.8935 - val_loss: 0.3140 - val_acc: 0.8818\n",
      "Epoch 20/20\n",
      "60000/60000 [==============================] - 483s 8ms/step - loss: 0.2801 - acc: 0.8957 - val_loss: 0.2903 - val_acc: 0.8947\n"
     ]
    }
   ],
   "source": [
    "train_history = model.fit(x_train, y_train, batch_size=32, epochs=20, verbose=1, validation_data=(x_test, y_test))"
   ]
  },
  {
   "cell_type": "markdown",
   "metadata": {},
   "source": [
    "We then can evaluate the model using the evaluate() function on the test data. The function will return the test loss and accuracy."
   ]
  },
  {
   "cell_type": "code",
   "execution_count": 138,
   "metadata": {},
   "outputs": [
    {
     "name": "stdout",
     "output_type": "stream",
     "text": [
      "Test accuracy:  0.8947\n",
      "Test loss:  0.2902501848578453\n"
     ]
    }
   ],
   "source": [
    "test_score = model.evaluate(x_test, y_test, verbose=0)\n",
    "print('Test accuracy: ', test_score[1])\n",
    "print('Test loss: ', test_score[0])"
   ]
  },
  {
   "cell_type": "markdown",
   "metadata": {},
   "source": [
    "You have just succssully trained the model on fashion-MNIST dataset. After 20 epochs, the training accuracy is 89% and the training loss is 29%."
   ]
  },
  {
   "cell_type": "markdown",
   "metadata": {},
   "source": [
    "### (Extra) 4.2.1 How will this model do on MNIST dataset?\n",
    "\n",
    "In 0.4 MNIST vs Fashion MNIST dataset, we talked about how MNIST is criticized for being too easy and overused. Since MNIST and Fashion MNIST dataset has very similar settings in terms of image counts, sizes, we can simply use the model we just used to train MNIST and see how the accuracy and loss function changed."
   ]
  },
  {
   "cell_type": "code",
   "execution_count": 34,
   "metadata": {
    "collapsed": true
   },
   "outputs": [],
   "source": [
    "# load  the MNIST dataset\n",
    "from keras.datasets import mnist\n",
    "(X_train_m, y_train_m), (X_test_m, y_test_m) = mnist.load_data()\n",
    "\n",
    "# clean and pre-process data\n",
    "X_train_m = X_train_m.astype('float32') / 255\n",
    "X_test_m = X_test_m.astype('float32') / 255\n",
    "\n",
    "X_train_m = X_train_m.reshape(X_train_m.shape[0], 28, 28, 1)\n",
    "X_test_m = X_test_m.reshape(X_test_m.shape[0], 28, 28, 1)\n",
    "\n",
    "# Change the label of classes into one-hot encoding\n",
    "y_train_m = np_utils.to_categorical(y_train_m, 10)\n",
    "y_test_m = np_utils.to_categorical(y_test_m, 10)"
   ]
  },
  {
   "cell_type": "code",
   "execution_count": 35,
   "metadata": {},
   "outputs": [
    {
     "name": "stdout",
     "output_type": "stream",
     "text": [
      "Train on 60000 samples, validate on 10000 samples\n",
      "Epoch 1/20\n",
      "60000/60000 [==============================] - 354s 6ms/step - loss: 0.2759 - acc: 0.9129 - val_loss: 0.0763 - val_acc: 0.9754\n",
      "Epoch 2/20\n",
      "60000/60000 [==============================] - 315s 5ms/step - loss: 0.1143 - acc: 0.9644 - val_loss: 0.0610 - val_acc: 0.9816\n",
      "Epoch 3/20\n",
      "60000/60000 [==============================] - 335s 6ms/step - loss: 0.0942 - acc: 0.9713 - val_loss: 0.0534 - val_acc: 0.9839\n",
      "Epoch 4/20\n",
      "60000/60000 [==============================] - 321s 5ms/step - loss: 0.0797 - acc: 0.9755 - val_loss: 0.0549 - val_acc: 0.9833\n",
      "Epoch 5/20\n",
      "60000/60000 [==============================] - 328s 5ms/step - loss: 0.0728 - acc: 0.9776 - val_loss: 0.0446 - val_acc: 0.9871\n",
      "Epoch 6/20\n",
      "60000/60000 [==============================] - 326s 5ms/step - loss: 0.0649 - acc: 0.9799 - val_loss: 0.0439 - val_acc: 0.9870\n",
      "Epoch 7/20\n",
      "60000/60000 [==============================] - 311s 5ms/step - loss: 0.0602 - acc: 0.9810 - val_loss: 0.0475 - val_acc: 0.9858\n",
      "Epoch 8/20\n",
      "60000/60000 [==============================] - 302s 5ms/step - loss: 0.0546 - acc: 0.9835 - val_loss: 0.0357 - val_acc: 0.9897\n",
      "Epoch 9/20\n",
      "60000/60000 [==============================] - 301s 5ms/step - loss: 0.0513 - acc: 0.9837 - val_loss: 0.0369 - val_acc: 0.9894\n",
      "Epoch 10/20\n",
      "60000/60000 [==============================] - 296s 5ms/step - loss: 0.0505 - acc: 0.9843 - val_loss: 0.0335 - val_acc: 0.9904\n",
      "Epoch 11/20\n",
      "60000/60000 [==============================] - 297s 5ms/step - loss: 0.0462 - acc: 0.9855 - val_loss: 0.0333 - val_acc: 0.9908\n",
      "Epoch 12/20\n",
      "60000/60000 [==============================] - 297s 5ms/step - loss: 0.0443 - acc: 0.9861 - val_loss: 0.0390 - val_acc: 0.9900\n",
      "Epoch 13/20\n",
      "60000/60000 [==============================] - 296s 5ms/step - loss: 0.0443 - acc: 0.9863 - val_loss: 0.0349 - val_acc: 0.9905\n",
      "Epoch 14/20\n",
      "60000/60000 [==============================] - 307s 5ms/step - loss: 0.0412 - acc: 0.9869 - val_loss: 0.0343 - val_acc: 0.9902\n",
      "Epoch 15/20\n",
      "60000/60000 [==============================] - 309s 5ms/step - loss: 0.0421 - acc: 0.9869 - val_loss: 0.0312 - val_acc: 0.9908\n",
      "Epoch 16/20\n",
      "60000/60000 [==============================] - 306s 5ms/step - loss: 0.0398 - acc: 0.9876 - val_loss: 0.0336 - val_acc: 0.9907\n",
      "Epoch 17/20\n",
      "60000/60000 [==============================] - 302s 5ms/step - loss: 0.0369 - acc: 0.9884 - val_loss: 0.0360 - val_acc: 0.9907\n",
      "Epoch 18/20\n",
      "60000/60000 [==============================] - 304s 5ms/step - loss: 0.0357 - acc: 0.9887 - val_loss: 0.0328 - val_acc: 0.9911\n",
      "Epoch 19/20\n",
      "60000/60000 [==============================] - 303s 5ms/step - loss: 0.0343 - acc: 0.9888 - val_loss: 0.0372 - val_acc: 0.9908\n",
      "Epoch 20/20\n",
      "60000/60000 [==============================] - 307s 5ms/step - loss: 0.0336 - acc: 0.9889 - val_loss: 0.0331 - val_acc: 0.9914\n"
     ]
    }
   ],
   "source": [
    "mnist_history = model.fit(X_train_m, y_train_m, batch_size=32, epochs=20, verbose=1, validation_data=(X_test_m, y_test_m))"
   ]
  },
  {
   "cell_type": "code",
   "execution_count": 36,
   "metadata": {},
   "outputs": [
    {
     "name": "stdout",
     "output_type": "stream",
     "text": [
      "Test accuracy:  0.9914\n",
      "Test loss:  0.033099717323322696\n"
     ]
    }
   ],
   "source": [
    "test_score_m = model.evaluate(X_test_m, y_test_m, verbose=0)\n",
    "print('Test accuracy: ', test_score_m[1])\n",
    "print('Test loss: ', test_score_m[0])"
   ]
  },
  {
   "cell_type": "markdown",
   "metadata": {},
   "source": [
    "We can see the significant improvement in loss and accuracy! The loss goes down from 29% to 3%, and the accuracy increases from 89% to 99%. No wonder experts come up with Fashion MNIST dataset, which is more difficult to train, and close to problems we are facing in reality."
   ]
  },
  {
   "cell_type": "markdown",
   "metadata": {},
   "source": [
    "### 3.3 Plot\n",
    "\n",
    "Let's get back to Fashion MNIST train_history and plot training and validation loss and training and validation accuracy."
   ]
  },
  {
   "cell_type": "code",
   "execution_count": 143,
   "metadata": {},
   "outputs": [
    {
     "data": {
      "image/png": "[encoded data removed]",
      "text/plain": [
       "<Figure size 432x288 with 1 Axes>"
      ]
     },
     "metadata": {},
     "output_type": "display_data"
    },
    {
     "data": {
      "image/png": "[encoded data removed]",
      "text/plain": [
       "<Figure size 432x288 with 1 Axes>"
      ]
     },
     "metadata": {},
     "output_type": "display_data"
    }
   ],
   "source": [
    "train_acc = train_history.history['acc']\n",
    "val_acc = train_history.history['val_acc']\n",
    "train_loss = train_history.history['loss']\n",
    "val_loss = train_history.history['val_loss']\n",
    "\n",
    "# plot training and validation loss\n",
    "plt.plot(train_loss, 'r')\n",
    "plt.plot(val_loss, 'b')\n",
    "plt.title('Training and Test loss')\n",
    "plt.legend([\"Training\", \"Test\"])\n",
    "plt.xlabel('Epoch')\n",
    "plt.ylabel('Loss')\n",
    "plt.grid(True)\n",
    "plt.show()\n",
    "\n",
    "\n",
    "# plot training and validation accuracy\n",
    "plt.plot(train_acc, 'r')\n",
    "plt.plot(val_acc, 'b')\n",
    "plt.title('Training and Test Accuracy')\n",
    "plt.legend(['Training', 'Test'])\n",
    "plt.xlabel('Epoch')\n",
    "plt.ylabel('Accuracy')\n",
    "plt.grid(True)\n",
    "plt.show()"
   ]
  },
  {
   "cell_type": "markdown",
   "metadata": {},
   "source": [
    "The above plot shows that the loss and accuracy for test data are in sync with the training loss and training accuracy. The loss is decreasing and the accuracy is increasing."
   ]
  },
  {
   "cell_type": "markdown",
   "metadata": {},
   "source": [
    "### 3.4 Predict\n",
    "\n",
    "Using model.predict(), we can see how many labels are predicted correctly."
   ]
  },
  {
   "cell_type": "code",
   "execution_count": 190,
   "metadata": {},
   "outputs": [
    {
     "name": "stdout",
     "output_type": "stream",
     "text": [
      "Incorrect labels:  1148\n",
      "Correct labels:  8852\n"
     ]
    }
   ],
   "source": [
    "predicted_classes = model.predict(x_test)\n",
    "# round up the predicted class to avoid float number\n",
    "predicted_classes = np.argmax(np.around(predicted_classes), axis = 1)\n",
    "# convert from one hot encoding to intergers\n",
    "y_labels = np.argmax(y_test, axis = 1)\n",
    "incorrect_labels = np.where(predicted_classes!=y_labels)[0]\n",
    "correct_labels = np.where(predicted_classes==y_labels)[0]\n",
    "print(\"Incorrect labels: \", len(incorrect_labels))\n",
    "print(\"Correct labels: \", len(correct_labels))"
   ]
  },
  {
   "cell_type": "code",
   "execution_count": 196,
   "metadata": {
    "collapsed": true
   },
   "outputs": [],
   "source": [
    "labels = {0:\"T-shirt/top\", 1:\" Trouser\", 2: \"Pullover\", 3: \"Dress\", 4: \"Coat\", 5: \"Sandal\", 6: \"Shirt\", 7: \"Sneaker\", \n",
    "          8: \"Bag\", 9: \"Ankle boot\"}"
   ]
  },
  {
   "cell_type": "markdown",
   "metadata": {},
   "source": [
    "What are some of the incorrected predicted labels? Let's take a look at the first few incorrectly predicted pictures."
   ]
  },
  {
   "cell_type": "code",
   "execution_count": 206,
   "metadata": {},
   "outputs": [
    {
     "data": {
      "image/png": "[encoded data removed]",
      "text/plain": [
       "<Figure size 432x288 with 1 Axes>"
      ]
     },
     "metadata": {},
     "output_type": "display_data"
    },
    {
     "data": {
      "image/png": "[encoded data removed]",
      "text/plain": [
       "<Figure size 432x288 with 1 Axes>"
      ]
     },
     "metadata": {},
     "output_type": "display_data"
    },
    {
     "data": {
      "image/png": "[encoded data removed]",
      "text/plain": [
       "<Figure size 432x288 with 1 Axes>"
      ]
     },
     "metadata": {},
     "output_type": "display_data"
    },
    {
     "data": {
      "image/png": "[encoded data removed]",
      "text/plain": [
       "<Figure size 432x288 with 1 Axes>"
      ]
     },
     "metadata": {},
     "output_type": "display_data"
    },
    {
     "data": {
      "image/png": "[encoded data removed]",
      "text/plain": [
       "<Figure size 432x288 with 1 Axes>"
      ]
     },
     "metadata": {},
     "output_type": "display_data"
    }
   ],
   "source": [
    "for i, incorrect in enumerate(incorrect_labels[0:5]):\n",
    "    plt.imshow(x_test[incorrect].reshape(28,28), cmap='gray', interpolation='none')\n",
    "    plt.title(\"Predicted: {}, Actual: {}\".format(labels[predicted_classes[incorrect]], labels[y_labels[incorrect]]))\n",
    "    plt.show()"
   ]
  },
  {
   "cell_type": "markdown",
   "metadata": {},
   "source": [
    "From the samples above, we can see there are indeed similarities between the falsely predicted labels and the actual labels. The ambigious patterns may lead to the miss predictions."
   ]
  },
  {
   "cell_type": "markdown",
   "metadata": {},
   "source": [
    "### 3.5 How to Improve the Performance of the Network?\n",
    "\n",
    "Having seen the falsely predicted pictures, how can we improve the model? Here are some ideas you can explore:\n",
    "\n",
    "1. Go deeper: we can stack more layers of netwrk, which may help extract more features closer to the input\n",
    "2. Train more epochs: we have only trained 20 epoches. Performance can improve if we trained for hundreds or thousands of epochs.\n",
    "3. Change parameters (activation function, optimizer...): we can try various activation functions, optimizers, and further change the parameters for optimizers to see how the accuracy is affected.\n",
    "    You can explore available activation functions here: https://keras.io/activations/; available optimizers: https://keras.io/optimizers/\n",
    "4. More data: more data helps the neural network achieve better generalization and reduce the chance of overfitting."
   ]
  },
  {
   "cell_type": "markdown",
   "metadata": {},
   "source": [
    "## 4. Further Resources\n",
    "\n",
    "We have built our first CNN model in Keras, though you may feel the Fashion-MNIST dataset is not enough! Here are some additional dataset you can play with: http://deeplearning.net/datasets/"
   ]
  },
  {
   "cell_type": "markdown",
   "metadata": {},
   "source": [
    "### References\n",
    "\n",
    "1. Deep Learning wiki: https://en.wikipedia.org/wiki/Deep_learning\n",
    "2. Learning deep architectures for AI: http://www.iro.umontreal.ca/~bengioy/papers/ftml_book.pdf\n",
    "3. CNN wiki: https://en.wikipedia.org/wiki/Convolutional_neural_network\n",
    "4. CNN: https://www.mathworks.com/discovery/convolutional-neural-network.html\n",
    "5. CS231n http://cs231n.github.io/convolutional-networks/\n",
    "6. Keros Documentations: https://keras.io\n",
    "7. Deep learning with Python: https://livebook.manning.com/#!/book/deep-learning-with-python/\n",
    "8. MNIST dataset: http://yann.lecun.com/exdb/mnist/\n",
    "9. Fashion MNIST dataset: https://github.com/zalandoresearch/fashion-mnist\n",
    "10. Kaggle for Fashion MNIST dataset: https://www.kaggle.com/zalando-research/fashionmnist"
   ]
  },
  {
   "cell_type": "code",
   "execution_count": null,
   "metadata": {
    "collapsed": true
   },
   "outputs": [],
   "source": []
  }
 ],
 "metadata": {
  "kernelspec": {
   "display_name": "Python 3",
   "language": "python",
   "name": "python3"
  },
  "language_info": {
   "codemirror_mode": {
    "name": "ipython",
    "version": 3
   },
   "file_extension": ".py",
   "mimetype": "text/x-python",
   "name": "python",
   "nbconvert_exporter": "python",
   "pygments_lexer": "ipython3",
   "version": "3.6.3"
  }
 },
 "nbformat": 4,
 "nbformat_minor": 2
}
