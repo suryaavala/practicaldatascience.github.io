{
 "cells": [
  {
   "cell_type": "markdown",
   "metadata": {},
   "source": [
    "\n",
    "<h1><center>Identifying and Describing Sensor Signals,  Application of Basic Statistics and Feature Extraction Methods</center></h1>\n",
    "\n",
    "\n",
    "# Introduction\n",
    "\n",
    "In this tutorial, we will analyze sensor data which is collected from a market shelf. The sensors deployed on the shelf collect data from pick-up and drop item actions. For instance, the data consists of cookies, eggs, detergent being picked up or being dropped to a shelf by a customer. If we can detect the type of action, this could be the foundations of building a system like [Amazon Go](#amazon-go) without actually using computationally expensive methods.\n",
    "\n",
    "The data we will be using is already labeled with several types of items and their corresponding actions.\n",
    "\n",
    "The sensor data is collected by geophones which measure the vibration occuring from the actions of the customers.\n",
    "\n",
    "<b>We will analyze the sensor data and compute some basic statistics to be fed to our classifier as input. By analyzing such data we will also be learning what could be one of the possible approaches to extract features when we are given a sensor data in the future.</b>\n",
    "\n",
    "Since the data only consists of vibration signals, it is hard to differentiate which item is being picked or dropped, rather we will be focusing on determining the action itself (item picked or dropped).\n",
    "\n",
    "One thing worth mentioning before we start; although our data is collected from a set of sensors, one reading is not a successive, or a predecessor of another reading, which allows us to aggregate the data without the need of capturing any trends, unlike other time-series analysis such as stock prediction where a unified data follows a specific pattern over time.\n",
    "****\n",
    "\n",
    "# Tutorial content\n",
    "\n",
    "In this tutorial, we will show how to do some basic statistical analysis in python by using pandas, matplotlib, numpy and sklearn.\n",
    "The data we will be using has been collected from CMU-SV campus by sensors attached to an arduino and it's available for project use.\n",
    "\n",
    "The topics will be covered are as follows;\n",
    "\n",
    "- [Installing the libraries](#Installing-the-libraries)\n",
    "- [Loading Data](#Loading-Data)\n",
    "- [Plotting Data](#Plotting-Data)\n",
    "- [Creating Dataframes and Computing Basic Statistics](#Creating-dataframes)\n",
    "- [Identification/ Building the Classifier](#Building-Classifier)\n",
    "- [Evaluating the results](#Evaluating-Results)\n",
    "- [Notes](#Notes)\n",
    "- [References](#References)\n",
    "****"
   ]
  },
  {
   "cell_type": "markdown",
   "metadata": {},
   "source": [
    "<a id='Installing-the-libraries'></a>\n",
    "# Installing the Libraries/ Dependencies\n",
    "\n",
    "- `$ pip install -U scikit-learn`\n",
    "- `$ pip install pandas`\n",
    "- `$ pip install numpy`"
   ]
  },
  {
   "cell_type": "markdown",
   "metadata": {},
   "source": [
    "<a id='Loading-Data'></a>\n",
    "# Loading Data\n",
    "\n",
    "It's time to load the data which is provided in csv format separated by new lines.<br>\n",
    "\n",
    "The data has been collected at a frequency of `10,000` samples a second. Although the data only consists of the magnitude of the signal, we can easily generate the corresponding timestamps with the fact that we know it's sampling rate, the finalized dataframe will consist of\n",
    "columns <b>`timestamp`</b> and <b>`magnitude`</b> respectively.\n",
    "\n",
    "| timestamp | magnitude   |\n",
    "|------|------|\n",
    "|   3.7754  | 0.008498|\n",
    "\n",
    "The data consists of two different classes of actions;\n",
    "<b>pick-up</b> and <b>drop</b>\n",
    "\n",
    "\n",
    "The sample data can be found here: https://drive.google.com/drive/folders/145VV9-ygckhJQJqfY17JUp_LmWpR3xxi?usp=sharing<br>\n",
    "\n",
    "First, we will need to load both drop and pick actions for items which are in different directories under <mark>data</mark> folder.\n",
    "\n",
    "The following code makes it possible to load every file with csv extension under a directory, for instance: data_wood_shelf_cookies_pickup/.../.csv or data_wood_butter_drop/.../.csv. This way, we will put all the related csv files into two arrays of drop and pick-up actions. The fact that we load load them in different arrays will come in handy later in the tutorial for classification purposes.\n"
   ]
  },
  {
   "cell_type": "code",
   "execution_count": 2,
   "metadata": {
    "collapsed": true
   },
   "outputs": [],
   "source": [
    "import pandas as pd\n",
    "import glob, os  \n",
    "import numpy as np\n",
    "\n",
    "path = '../data'\n",
    "drop_Files = glob.glob(path + \"/*_shelf_wood_drop*.csv\")\n",
    "pick_Files = glob.glob(path + \"/*_shelf_wood_pick*.csv\")\n",
    "\n",
    "drop = []\n",
    "pick = []\n",
    "\n",
    "for file_ in drop_Files:\n",
    "    df = pd.read_csv(file_,index_col=None, header=None).iloc[1:]\n",
    "    df['timestamp'] = np.linspace(0.0, len(df) / 10000.0 * len(df), num=len(df))\n",
    "    #reorder the columns\n",
    "    columns = df.columns.tolist()\n",
    "    columns = columns[-1:] + columns[:-1]\n",
    "    df = df[columns] \n",
    "    df.rename(columns={df.columns[1]: \"magnitude\"}, inplace=True)\n",
    "    df['magnitude'] = df['magnitude'].astype(int)\n",
    "    drop.append(df)\n",
    "    \n",
    "for file_ in pick_Files:\n",
    "    df = pd.read_csv(file_,index_col=None, header=None).iloc[1:] \n",
    "    df['timestamp'] = np.linspace(0.0, len(df) / 10000.0 * len(df), num=len(df))\n",
    "    columns = df.columns.tolist()\n",
    "    columns = columns[-1:] + columns[:-1]\n",
    "    df = df[columns]\n",
    "    df.rename(columns={df.columns[1]: \"magnitude\"}, inplace=True)\n",
    "    df['magnitude'] = df['magnitude'].astype(int)\n",
    "    pick.append(df)\n",
    "\n"
   ]
  },
  {
   "cell_type": "markdown",
   "metadata": {},
   "source": [
    "Now that we have the csv data loaded into our list of dataframes, we can start data processing!\n",
    "\n",
    "The following line just checks whether we have the same length of data from all the classes. This step is not really a must, but we just want to make sure that it loads without any problems and that everything is fine by now."
   ]
  },
  {
   "cell_type": "code",
   "execution_count": 3,
   "metadata": {
    "scrolled": true
   },
   "outputs": [
    {
     "name": "stdout",
     "output_type": "stream",
     "text": [
      "Drop Count: 203.00 Pick Count: 203.00\n"
     ]
    }
   ],
   "source": [
    "print('Drop Count: {:.2f}'.format(len(drop)), 'Pick Count: {:.2f}'.format(len(pick)))\n",
    "assert len(pick) == len(drop), \"sizes dont match\""
   ]
  },
  {
   "cell_type": "markdown",
   "metadata": {},
   "source": [
    " <a id='Plotting-Data'></a>\n",
    "# Plotting Data \n",
    "\n",
    "Now that we load our data, let's take 2 samples from each class; pick-up and drop, respectively and plot them to see how our sensor data looks like. Even by looking at the plots generated by the 2 samples, we can easily observe that the two actions look pretty different from each other, moreover, it is generally the case for the whole dataset in hand.\n",
    "\n",
    "\n",
    "_By this point, we should be excited that actually we have a high chance of being successful in transferring the burden of signal identification from humans to robots!!_"
   ]
  },
  {
   "cell_type": "code",
   "execution_count": 6,
   "metadata": {
    "scrolled": false
   },
   "outputs": [
    {
     "data": {
      "image/png": "[encoded data removed]",
      "text/plain": [
       "<matplotlib.figure.Figure at 0x10925b240>"
      ]
     },
     "metadata": {},
     "output_type": "display_data"
    }
   ],
   "source": [
    "from matplotlib import pyplot as plt\n",
    "\n",
    "fig = plt.gcf()\n",
    "fig.set_size_inches(17, 8)\n",
    "\n",
    "pick_plot = pick[0]\n",
    "\n",
    "\n",
    "ax1 = plt.subplot(2, 2, 3)\n",
    "plt.plot(pick_plot['timestamp'], pick_plot['magnitude'], linewidth=0.3)\n",
    "plt.ylabel('magnitude')\n",
    "plt.xlabel('timestamp(s)')\n",
    "plt.title('pick-up')\n",
    "\n",
    "\n",
    "drop_plot = drop[4] \n",
    "\n",
    "plt.subplot(2, 2, 4)\n",
    "plt.plot(drop_plot['timestamp'], drop_plot['magnitude'], linewidth=0.2)\n",
    "plt.xlabel('timestamp(s)')\n",
    "plt.ylabel('magnitude')\n",
    "plt.title('drop')\n",
    "\n",
    "plt.show()\n"
   ]
  },
  {
   "cell_type": "markdown",
   "metadata": {},
   "source": [
    "<a id =\"Creating-dataframes\"> </a>\n",
    "# Creating Dataframes and Computing Basic Statistics\n",
    "\n",
    "Now it's time for data wrangling and computing statistics! <br>\n",
    "\n",
    "It turns out <b>summary statistics</b> can be one of the key points in sensor data analysis. \n",
    "They are the ingredients (possible features) to our classification model to help us classify whether it's a pickup or drop action.\n",
    "\n",
    "We will be computing statistics such as <b>mean</b>, <b>standard deviation</b>, <b>root mean square</b> etc. for each reading.\n",
    "\n",
    "While computing the statistics, we will also want to create a label column, namely picked which will be a binary value indicating whether the item is picked or not.\n",
    "\n",
    "You can read more about `describe()` function in the documentation:\n",
    "https://pandas.pydata.org/pandas-docs/stable/generated/pandas.DataFrame.describe.html\n"
   ]
  },
  {
   "cell_type": "code",
   "execution_count": 9,
   "metadata": {
    "collapsed": true
   },
   "outputs": [],
   "source": [
    "df_picked = pd.DataFrame()\n",
    "df_dropped = pd.DataFrame()\n",
    "\n",
    "merged_actions = {\"dropped\" : drop, \"picked\": pick}\n",
    "df_dict = {\"picked\" : df_picked, \"dropped\": df_dropped}\n",
    "\n",
    "for key, action in merged_actions.items():\n",
    "    for each in action:\n",
    "        statistics = each['magnitude'].describe()\n",
    "        rms = np.sqrt(np.mean(each['magnitude'] **2))\n",
    "        picked = 1 if key == 'picked' else 0\n",
    "        dropped = 1 if key == 'dropped' else 0\n",
    "        df_dict[key] = df_dict[key].append({'mean': statistics['mean'],\n",
    "                    'std': statistics['std'], \n",
    "                    'rms': rms,\n",
    "                    'minimum':  statistics['min'],\n",
    "                    'percentile_25' : statistics['25%'], \n",
    "                    'percentile_50' : statistics['50%'],\n",
    "                    'percentile_75' : statistics['75%'],\n",
    "                    'max' : statistics['max'],\n",
    "                    'cov': 1.0 * np.mean(each['magnitude']) / statistics['std'],              \n",
    "                    'kurtosis' : each['magnitude'].kurt(),  # Kurtosis is the fourth central moment divided by the square of the variance. \n",
    "                    'skewness' : each['magnitude'].skew(),\n",
    "                    'variance' : each['magnitude'].var(),             \n",
    "                    'picked': picked\n",
    "                    }, ignore_index=True)"
   ]
  },
  {
   "cell_type": "code",
   "execution_count": 10,
   "metadata": {
    "collapsed": true
   },
   "outputs": [],
   "source": [
    "\"\"\"\n",
    "We can now merge the two dataframes to obtain the final data which consists both pickup and drop statistics\n",
    "\"\"\"\n",
    "labeled_df = df_dict['picked'].append(df_dict['dropped'])"
   ]
  },
  {
   "cell_type": "code",
   "execution_count": 11,
   "metadata": {
    "scrolled": true
   },
   "outputs": [
    {
     "data": {
      "text/html": [
       "<div>\n",
       "<table border=\"1\" class=\"dataframe\">\n",
       "  <thead>\n",
       "    <tr style=\"text-align: right;\">\n",
       "      <th></th>\n",
       "      <th>cov</th>\n",
       "      <th>kurtosis</th>\n",
       "      <th>max</th>\n",
       "      <th>mean</th>\n",
       "      <th>minimum</th>\n",
       "      <th>percentile_25</th>\n",
       "      <th>percentile_50</th>\n",
       "      <th>percentile_75</th>\n",
       "      <th>picked</th>\n",
       "      <th>rms</th>\n",
       "      <th>skewness</th>\n",
       "      <th>std</th>\n",
       "      <th>variance</th>\n",
       "    </tr>\n",
       "  </thead>\n",
       "  <tbody>\n",
       "    <tr>\n",
       "      <th>0</th>\n",
       "      <td>1.374235</td>\n",
       "      <td>-1.326846</td>\n",
       "      <td>4094.0</td>\n",
       "      <td>2041.999852</td>\n",
       "      <td>48.0</td>\n",
       "      <td>494.0</td>\n",
       "      <td>2023.0</td>\n",
       "      <td>3516.50</td>\n",
       "      <td>0.0</td>\n",
       "      <td>2525.381481</td>\n",
       "      <td>0.041423</td>\n",
       "      <td>1485.917825</td>\n",
       "      <td>2.207952e+06</td>\n",
       "    </tr>\n",
       "    <tr>\n",
       "      <th>1</th>\n",
       "      <td>3.072564</td>\n",
       "      <td>1.825553</td>\n",
       "      <td>4094.0</td>\n",
       "      <td>2029.680167</td>\n",
       "      <td>58.0</td>\n",
       "      <td>1754.0</td>\n",
       "      <td>2026.5</td>\n",
       "      <td>2300.00</td>\n",
       "      <td>1.0</td>\n",
       "      <td>2134.463329</td>\n",
       "      <td>0.114227</td>\n",
       "      <td>660.581933</td>\n",
       "      <td>4.363685e+05</td>\n",
       "    </tr>\n",
       "    <tr>\n",
       "      <th>2</th>\n",
       "      <td>1.879550</td>\n",
       "      <td>-0.401743</td>\n",
       "      <td>4094.0</td>\n",
       "      <td>2032.367857</td>\n",
       "      <td>48.0</td>\n",
       "      <td>1381.0</td>\n",
       "      <td>2053.5</td>\n",
       "      <td>2661.25</td>\n",
       "      <td>1.0</td>\n",
       "      <td>2302.098339</td>\n",
       "      <td>0.034632</td>\n",
       "      <td>1081.305309</td>\n",
       "      <td>1.169221e+06</td>\n",
       "    </tr>\n",
       "    <tr>\n",
       "      <th>3</th>\n",
       "      <td>1.397899</td>\n",
       "      <td>-1.317884</td>\n",
       "      <td>4094.0</td>\n",
       "      <td>2049.277378</td>\n",
       "      <td>48.0</td>\n",
       "      <td>641.0</td>\n",
       "      <td>2025.0</td>\n",
       "      <td>3354.00</td>\n",
       "      <td>0.0</td>\n",
       "      <td>2519.624855</td>\n",
       "      <td>0.023695</td>\n",
       "      <td>1465.969697</td>\n",
       "      <td>2.149067e+06</td>\n",
       "    </tr>\n",
       "    <tr>\n",
       "      <th>4</th>\n",
       "      <td>1.233670</td>\n",
       "      <td>-1.634508</td>\n",
       "      <td>4094.0</td>\n",
       "      <td>2050.558963</td>\n",
       "      <td>47.0</td>\n",
       "      <td>58.0</td>\n",
       "      <td>2016.0</td>\n",
       "      <td>4093.00</td>\n",
       "      <td>0.0</td>\n",
       "      <td>2639.577051</td>\n",
       "      <td>0.037874</td>\n",
       "      <td>1662.161122</td>\n",
       "      <td>2.762780e+06</td>\n",
       "    </tr>\n",
       "  </tbody>\n",
       "</table>\n",
       "</div>"
      ],
      "text/plain": [
       "        cov  kurtosis     max         mean  minimum  percentile_25  \\\n",
       "0  1.374235 -1.326846  4094.0  2041.999852     48.0          494.0   \n",
       "1  3.072564  1.825553  4094.0  2029.680167     58.0         1754.0   \n",
       "2  1.879550 -0.401743  4094.0  2032.367857     48.0         1381.0   \n",
       "3  1.397899 -1.317884  4094.0  2049.277378     48.0          641.0   \n",
       "4  1.233670 -1.634508  4094.0  2050.558963     47.0           58.0   \n",
       "\n",
       "   percentile_50  percentile_75  picked          rms  skewness          std  \\\n",
       "0         2023.0        3516.50     0.0  2525.381481  0.041423  1485.917825   \n",
       "1         2026.5        2300.00     1.0  2134.463329  0.114227   660.581933   \n",
       "2         2053.5        2661.25     1.0  2302.098339  0.034632  1081.305309   \n",
       "3         2025.0        3354.00     0.0  2519.624855  0.023695  1465.969697   \n",
       "4         2016.0        4093.00     0.0  2639.577051  0.037874  1662.161122   \n",
       "\n",
       "       variance  \n",
       "0  2.207952e+06  \n",
       "1  4.363685e+05  \n",
       "2  1.169221e+06  \n",
       "3  2.149067e+06  \n",
       "4  2.762780e+06  "
      ]
     },
     "execution_count": 11,
     "metadata": {},
     "output_type": "execute_result"
    }
   ],
   "source": [
    "\"\"\"\n",
    "Here's how our shuffled and index dropped dataframe looks like\n",
    "\"\"\"\n",
    "labeled_df = labeled_df.sample(frac=1).reset_index(drop=True)\n",
    "labeled_df.head(5)"
   ]
  },
  {
   "cell_type": "markdown",
   "metadata": {},
   "source": [
    "<a id='Building-Classifier'></a>\n",
    "# Identification/ Building the Classifier\n",
    "Now that we extracted our <b>statistical features</b>, it is time for us to build our classifier.<br>\n",
    "For this purpose, we will use <b>Logistic Regression</b> to differentiate between a pickup and a drop event.\n",
    "\n",
    "For the training input `X`, we will drop the actual class labels to be given in `y` as the desired output."
   ]
  },
  {
   "cell_type": "code",
   "execution_count": 12,
   "metadata": {
    "collapsed": true
   },
   "outputs": [],
   "source": [
    "from sklearn.linear_model import LogisticRegression\n",
    "from sklearn.model_selection import train_test_split\n",
    "\n",
    "X = labeled_df.drop(['picked'], axis=1).values\n",
    "y = labeled_df[['picked']].values\n",
    "\n",
    "y = np.ravel(y) #reducing the matrix into one dimensional vector\n",
    "\n",
    "X_train, X_test, y_train, y_test = train_test_split(X, y, test_size=0.4)\n",
    "\n",
    "lr = LogisticRegression()\n",
    "lr.fit(X_train, y_train)\n",
    "\n",
    "pred = lr.predict(X_test)"
   ]
  },
  {
   "cell_type": "markdown",
   "metadata": {},
   "source": [
    "<a id='Evaluating-Results'></a>\n",
    "# Evaluating Results\n",
    "\n",
    "- Let's evaluate our model and see how well we did in classifying the actions.\n",
    "`lr.score()` will give us the ratio of: <br></br> `correct predictions / total number of data points`. However, it is not enough to judge the model by itself.\n",
    "\n",
    "- We will also compute <b>F-measure</b> and <b>AUC</b> (area under the roc curve) in order to evaluate the robustness of our logistic regression model.\n",
    "\n",
    "F1-score or F-measure, is calculated as follows: `2 * ((precision * recall)/(precision + recall))`\n",
    "<br></br>\n",
    "where Precision (P) is defined as the number of true positives (T_p) over the number of true positives plus the number of false positives (F_p).\n",
    "<br></br>\n",
    "Recall (R) is defined as the number of true positives (T_p) over the number of true positives plus the number of false negatives (F_n).\n",
    "<br></br>\n",
    "(ref: [1](#References))\n",
    "<br></br> You can read more about F-measure: https://en.wikipedia.org/wiki/F1_score\n",
    "- ROC curve which stands for Receiver Operating Characteristics is a very common evalution method for binary classifiers. We will predict the probability estimates of our model to build the ROC curve. The <span style=\"color:red\"> dotted line</span> in the middle shows how good could we do if we used a random classifier. Our model result which is shown by the <span style=\"color:blue\"> blue curve</span> certainly performs better.\n",
    "\n",
    "<br></br> You can read more about ROC: https://en.wikipedia.org/wiki/Receiver_operating_characteristic\n",
    "- Note: We could also compute confusion matrix to get an understanding of total correct and incorrect predictions that our model generated. But here in this tutorial we will just skip that evaluation metric. You can read more about it here http://scikit-learn.org/stable/modules/generated/sklearn.metrics.confusion_matrix.html"
   ]
  },
  {
   "cell_type": "markdown",
   "metadata": {},
   "source": [
    "One of the advantages of using logistic regression is that it's transparent and straightforward. We can easily keep track of what's going on and how does it make predictions. Let's take a deeper look at our model, more specifically let's look at what our <b>feature weights/coefficients</b> are. This way, we can get an understanding of which feature is effective and which one doesn't play any crucial role in the model. For the future work, we can take these coeffients into consideration in feature selection, but for now let's leave it like this.\n"
   ]
  },
  {
   "cell_type": "code",
   "execution_count": 20,
   "metadata": {},
   "outputs": [
    {
     "name": "stdout",
     "output_type": "stream",
     "text": [
      "[ -6.62661811e-06  -2.02415038e-05   2.02724602e-03  -1.22428956e-04\n",
      "  -1.45905369e-04  -2.50373810e-03  -1.39064198e-04   1.47051743e-03\n",
      "   3.04419439e-05   8.41926544e-07   7.74715856e-04  -6.20637434e-06]\n",
      "[  2.47598463e-07]\n"
     ]
    }
   ],
   "source": [
    "coefficients = lr.coef_\n",
    "intercept = lr.intercept_\n",
    "\n",
    "print(coefficients[0])\n",
    "print(intercept)"
   ]
  },
  {
   "cell_type": "markdown",
   "metadata": {},
   "source": [
    "So far, we have been doing things with libraries, but here's the interesting part; We can actually check manually if a random data point is whether a pick-up or a drop action by using it's features and our model's weights. Following formulas help us achieve that:<br> </br>\n",
    "\n",
    "\n",
    "\\begin{equation*}\n",
    "p = intercept + weights ∗ features \\\\\n",
    "inverseLogit   = e^p  /  (1 + e^p)\n",
    "\\end{equation*}\n",
    "\n",
    "You can read more about logit function here: https://en.wikipedia.org/wiki/Logit <br> </br>\n",
    "if the value that we calculate with the inverse logit funtion is above 0.5 which is the default threshold value in sklearn, then it is a pick-up action. <br> </br>\n",
    "\n",
    "Let's assume we are given this data point which we already know it's a pick-up but nevertheless we would like to predict it's class manually by using the coefficients and the features.\n",
    "Let's take the second row of our dataframe as a test input."
   ]
  },
  {
   "cell_type": "code",
   "execution_count": 14,
   "metadata": {},
   "outputs": [
    {
     "data": {
      "text/html": [
       "<div>\n",
       "<table border=\"1\" class=\"dataframe\">\n",
       "  <thead>\n",
       "    <tr style=\"text-align: right;\">\n",
       "      <th></th>\n",
       "      <th>cov</th>\n",
       "      <th>kurtosis</th>\n",
       "      <th>max</th>\n",
       "      <th>mean</th>\n",
       "      <th>minimum</th>\n",
       "      <th>percentile_25</th>\n",
       "      <th>percentile_50</th>\n",
       "      <th>percentile_75</th>\n",
       "      <th>picked</th>\n",
       "      <th>rms</th>\n",
       "      <th>skewness</th>\n",
       "      <th>std</th>\n",
       "      <th>variance</th>\n",
       "    </tr>\n",
       "  </thead>\n",
       "  <tbody>\n",
       "    <tr>\n",
       "      <th>1</th>\n",
       "      <td>3.072564</td>\n",
       "      <td>1.825553</td>\n",
       "      <td>4094.0</td>\n",
       "      <td>2029.680167</td>\n",
       "      <td>58.0</td>\n",
       "      <td>1754.0</td>\n",
       "      <td>2026.5</td>\n",
       "      <td>2300.0</td>\n",
       "      <td>1.0</td>\n",
       "      <td>2134.463329</td>\n",
       "      <td>0.114227</td>\n",
       "      <td>660.581933</td>\n",
       "      <td>436368.489581</td>\n",
       "    </tr>\n",
       "  </tbody>\n",
       "</table>\n",
       "</div>"
      ],
      "text/plain": [
       "        cov  kurtosis     max         mean  minimum  percentile_25  \\\n",
       "1  3.072564  1.825553  4094.0  2029.680167     58.0         1754.0   \n",
       "\n",
       "   percentile_50  percentile_75  picked          rms  skewness         std  \\\n",
       "1         2026.5         2300.0     1.0  2134.463329  0.114227  660.581933   \n",
       "\n",
       "        variance  \n",
       "1  436368.489581  "
      ]
     },
     "execution_count": 14,
     "metadata": {},
     "output_type": "execute_result"
    }
   ],
   "source": [
    "labeled_df.loc[[1]]"
   ]
  },
  {
   "cell_type": "markdown",
   "metadata": {},
   "source": [
    "We will plug in all the features with their corresponding weights as follows to calculate p in our equation;\n",
    "\n",
    "`sum = 2.47598463e-07 + -6.34836688e-06 * 3.072564 + -2.02415038e-05 * 1.825553 .....`"
   ]
  },
  {
   "cell_type": "code",
   "execution_count": 21,
   "metadata": {
    "collapsed": true
   },
   "outputs": [],
   "source": [
    "multiplication = coefficients[0] * labeled_df.loc[[1]].drop('picked', axis=1)\n",
    "sum = multiplication.iloc[:,0:multiplication.size].sum(axis=1)"
   ]
  },
  {
   "cell_type": "markdown",
   "metadata": {},
   "source": [
    "After calculating the sum of all the features multiplied by their coefficients, all we have to do is to plug in the values into our inverse logit equation and get our prediction as the output."
   ]
  },
  {
   "cell_type": "code",
   "execution_count": 22,
   "metadata": {
    "scrolled": true
   },
   "outputs": [
    {
     "name": "stdout",
     "output_type": "stream",
     "text": [
      "Our Prediction: 0.9902416753276451\n"
     ]
    }
   ],
   "source": [
    "import math\n",
    "\n",
    "p = intercept + sum\n",
    "inv_logit = math.exp(p) /  (1 + math.exp(p))\n",
    "\n",
    "print(\"Our Prediction: \" + str(inv_logit))"
   ]
  },
  {
   "cell_type": "markdown",
   "metadata": {},
   "source": [
    "As we can see from the prediction value, there is a high chance that this particular row is a pick-up action..<br> </br>\n",
    "Now let's continue <b>evaluating</b> our model by using sklearn's default evaluation functions."
   ]
  },
  {
   "cell_type": "code",
   "execution_count": 17,
   "metadata": {},
   "outputs": [
    {
     "name": "stdout",
     "output_type": "stream",
     "text": [
      "Accuracy on test set: 0.81\n",
      "Accuracy on training set: 0.84\n"
     ]
    }
   ],
   "source": [
    "# Accuracy \n",
    "print('Accuracy on test set: {:.2f}'.format(lr.score(X_test, y_test)))\n",
    "print('Accuracy on training set: {:.2f}'.format(lr.score(X_train, y_train)))"
   ]
  },
  {
   "cell_type": "code",
   "execution_count": 23,
   "metadata": {},
   "outputs": [
    {
     "name": "stdout",
     "output_type": "stream",
     "text": [
      "             precision    recall  f1-score   support\n",
      "\n",
      "        0.0       0.79      0.89      0.84        90\n",
      "        1.0       0.84      0.71      0.77        73\n",
      "\n",
      "avg / total       0.81      0.81      0.81       163\n",
      "\n"
     ]
    }
   ],
   "source": [
    "# F-Measure\n",
    "from sklearn.metrics import classification_report\n",
    "print(classification_report(y_test, pred))"
   ]
  },
  {
   "cell_type": "code",
   "execution_count": 29,
   "metadata": {},
   "outputs": [
    {
     "name": "stdout",
     "output_type": "stream",
     "text": [
      "AUC: 0.80\n"
     ]
    },
    {
     "data": {
      "image/png": "[encoded data removed]",
      "text/plain": [
       "<matplotlib.figure.Figure at 0x113427048>"
      ]
     },
     "metadata": {},
     "output_type": "display_data"
    }
   ],
   "source": [
    "#AUC\n",
    "from sklearn.metrics import roc_auc_score\n",
    "from sklearn.metrics import roc_curve\n",
    "auc = roc_auc_score(y_test, lr.predict(X_test))\n",
    "\n",
    "false_positive, true_positive, thresholds = roc_curve(y_test, lr.predict_proba(X_test)[:,1])\n",
    "\n",
    "print('AUC: {:.2f}'.format(auc))\n",
    "\n",
    "plt.figure()\n",
    "plt.plot(false_positive, true_positive)\n",
    "plt.xlim([0.0, 1.0])\n",
    "plt.ylim([0.0, 1.0])\n",
    "\n",
    "\n",
    "plt.plot([0, 1], [0, 1],'r--')\n",
    "\n",
    "\n",
    "plt.xlabel('False Positive')\n",
    "plt.ylabel('True Positive')\n",
    "plt.title('ROC')\n",
    "plt.show()"
   ]
  },
  {
   "cell_type": "markdown",
   "metadata": {},
   "source": [
    "<a id='Notes'></a>\n",
    "# Notes\n",
    "By looking at the evaluation results, It seems like nothing can stop us now if we are given this type of task in the future. We can even get better results by extracting more features by using libraries like https://github.com/blue-yonder/tsfresh or select the most relevant features by using methods like _Correlation-based Feature Selection_."
   ]
  },
  {
   "cell_type": "markdown",
   "metadata": {},
   "source": [
    "<a id='References'></a>\n",
    "# References\n",
    "Amazon Go: https://www.amazon.com/b?ie=UTF8&node=16008589011\n",
    "<br></br>\n",
    "1: http://scikit-learn.org/stable/auto_examples/model_selection/plot_precision_recall.html"
   ]
  }
 ],
 "metadata": {
  "kernelspec": {
   "display_name": "Python 3",
   "language": "python",
   "name": "python3"
  },
  "language_info": {
   "codemirror_mode": {
    "name": "ipython",
    "version": 3
   },
   "file_extension": ".py",
   "mimetype": "text/x-python",
   "name": "python",
   "nbconvert_exporter": "python",
   "pygments_lexer": "ipython3",
   "version": "3.6.3"
  }
 },
 "nbformat": 4,
 "nbformat_minor": 2
}
