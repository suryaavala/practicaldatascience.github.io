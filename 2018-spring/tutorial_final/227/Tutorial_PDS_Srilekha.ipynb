{
 "cells": [
  {
   "cell_type": "markdown",
   "metadata": {},
   "source": [
    "# A comprehensive tutorial on KNN Algorithm\n",
    "\n"
   ]
  },
  {
   "cell_type": "markdown",
   "metadata": {},
   "source": [
    "## Motivation\n",
    "\n",
    "The KNN algorithm is a robust and versatile classifier used for predictive problems.KNN is often used as a standard point of reference for complex classifiers such as Support Vector Machines and Artificial Neural Networks.KNN has a lot of industry applications such as data compression,economic forecasting,Protein-Protein interaction and 3D structure prediction to name a few."
   ]
  },
  {
   "cell_type": "markdown",
   "metadata": {},
   "source": [
    "## What is KNN?\n",
    "\n",
    "KNN is K - Nearest Neighbors.\n",
    "\n",
    "KNN is non-parametric, instance based and falls in the supervised learning family of algorithms.\n",
    "Let's consider an example where we have to predict the 'quality' of wine.'quality' is the target variable with labels 'good','bad' and the data is the characteristics of the wine like alcohol content,pH,density.These are the predictor variables. So, given a new unlabeled wine , the classification task will predict the 'quality' of wine.\n",
    "\n",
    "This a general classification task.What is so special about KNN?\n",
    "\n",
    "The KNN algorithm performs this classification by using the labels of the K - nearest nearest samples to define the label of the new unknown sample.That is classification is performed by considering the majority vote of the nearest neighbors of the unknown sample.\n"
   ]
  },
  {
   "cell_type": "markdown",
   "metadata": {},
   "source": [
    "## A visual description of KNN Algorithm \n",
    "\n",
    "This is an image which is an example of KNN in 2-D. \n",
    "Consider the green circle as the new test data point which is unlabelled.\n",
    "\n",
    "What should be the label for the green circle?\n",
    "<img src=\"sample.png\">\n",
    "\n",
    "To answer this question we need to know the value of K.\n",
    "If the value of K is 3, you would clasify it as red and, if value of K is 5 it would be blue.\n",
    "\n",
    "How?\n",
    "When K = 3 ,in the nearest neighbors -  we have 2 Red and 1 Blue (Notice the solid circle around it), so red wins.\n",
    "When K = 5 ,in the nearest neighbors -  we have 2 Red and 3 Blue (Notice the dotted circle around it), so blue wins.\n"
   ]
  },
  {
   "cell_type": "markdown",
   "metadata": {},
   "source": [
    "## Tutorial Content"
   ]
  },
  {
   "cell_type": "markdown",
   "metadata": {},
   "source": [
    "\n",
    "In this tutorial we learn how to implement KNN from scratch and also through standard packages.\n",
    "This tutorial is broken down into several steps:\n",
    "\n",
    "[1 Perform necessary imports](#Perform necessary imports)<br>\n",
    "[2 Loading and visualizing the data](#Load data)<br>\n",
    "[3 Split data to Train/Test Data](#Split data)<br>\n",
    "[4 Implemet KNN from scratch](#implement from scratch)\n",
    "<ul>\n",
    "    <li>4.1 Calculate the Euclidean distance</li>\n",
    "    <li>4.2 Fetch Neighbors</li>\n",
    "    <li>4.3 Majority Voting for Neighbors</li>\n",
    "    <li>4.4 Find Accuracy</li>\n",
    "    <li>4.5 Implement Harmonic Weights to predict</li>\n",
    "</ul>\n",
    "[5 Implemet KNN with package](#Implement with package)\n",
    "<ul>\n",
    "    <li>5.1 Implement,Predict KNN model</li>\n",
    "    <li>5.2 Cross Validation for hyperparameter tuning</li>\n",
    "</ul>\n",
    "\n",
    "\n"
   ]
  },
  {
   "cell_type": "markdown",
   "metadata": {},
   "source": [
    "### 1)  Performing the necessary imports\n",
    "<a id='Perform necessary imports'></a>"
   ]
  },
  {
   "cell_type": "code",
   "execution_count": 2,
   "metadata": {
    "collapsed": true
   },
   "outputs": [],
   "source": [
    "from sklearn.datasets import load_iris\n",
    "from sklearn.model_selection import train_test_split,cross_val_score\n",
    "import numpy as np\n",
    "import pandas as pd\n",
    "import collections\n",
    "from sklearn.metrics import accuracy_score,confusion_matrix\n",
    "%matplotlib inline\n",
    "import matplotlib.pyplot as plt\n"
   ]
  },
  {
   "cell_type": "markdown",
   "metadata": {},
   "source": [
    "### 2) Loading and visualizing the data\n",
    "<a id='Load data'></a>"
   ]
  },
  {
   "cell_type": "markdown",
   "metadata": {},
   "source": [
    "For this tutorial we will be using the iris data set from sklearn.datasets.\n",
    "The iris dataset is a multivariate data set.The data contains four features - 'sepal length','sepal width',  'petal length','petal width' of the three Iris species (Iris setosa, Iris virginica and Iris versicolor).The dataset contains 50 samples from each of the Iris species.\n",
    "\n",
    "iris_content contains the four features, iris_target_label contains the labels which identifies the type of Iris species.\n",
    "\n",
    "Here is a quick look of the data , on how it look like.\n",
    "Notice that the labels - Iris setosa, Iris virginica and Iris versicolor are encoded as 0,1,2.\n",
    "This can be encoded if the data is required to be showcased.But for now , we play around with the labels with the numbers - 0,1,2."
   ]
  },
  {
   "cell_type": "code",
   "execution_count": 3,
   "metadata": {},
   "outputs": [
    {
     "name": "stdout",
     "output_type": "stream",
     "text": [
      "   sepal_length  sepal_width  petal_length  petal_width  category\n",
      "0           5.1          3.5           1.4          0.2         0\n",
      "1           4.9          3.0           1.4          0.2         0\n",
      "2           4.7          3.2           1.3          0.2         0\n",
      "3           4.6          3.1           1.5          0.2         0\n",
      "4           5.0          3.6           1.4          0.2         0\n"
     ]
    }
   ],
   "source": [
    "iris = load_iris()\n",
    "iris_target_label = iris.target\n",
    "iris_content = iris.data\n",
    "iris_df = pd.DataFrame(data=iris_content, columns=['sepal_length','sepal_width',  'petal_length','petal_width'])\n",
    "iris_df['category'] = iris_target_label\n",
    "print(iris_df.head())"
   ]
  },
  {
   "cell_type": "markdown",
   "metadata": {},
   "source": [
    "\n",
    "Before we jump onto building the model ,let's visualize what our data looks like.This is a crucial step because it gives us an understanding of the data and the purpose of the model. Here we are building two scatterplots. The first one is sepal length vs sepal width.The colors in the graph are based on the three classes of Iris Species. A quick observation of the scatterplot tells us that setosa(red color) has wider and shoter sepals when compared to virginica,versicolor.\n"
   ]
  },
  {
   "cell_type": "code",
   "execution_count": 4,
   "metadata": {},
   "outputs": [
    {
     "data": {
      "image/png": "[encoded data removed]",
      "text/plain": [
       "<matplotlib.figure.Figure at 0x29389363f28>"
      ]
     },
     "metadata": {},
     "output_type": "display_data"
    }
   ],
   "source": [
    "colors = ('r','g','b')\n",
    "plt.ylabel(\"sepal_width\", fontsize=12)\n",
    "plt.xlabel(\"sepal_length\", fontsize=12)\n",
    "plt.title('Visualization of sepal length and width', fontsize=18)\n",
    "plt.scatter(iris_df['sepal_length'],iris_df['sepal_width'],c=iris_df['category'])\n",
    "plt.show()"
   ]
  },
  {
   "cell_type": "markdown",
   "metadata": {},
   "source": [
    "\n",
    "A scatter plot of petal length vs petal width tells us that , setosa(red) stands out with the shortest and thinnest petal.Whereas, for most of the data points virginica(yellow) has the longest and widest petals.\n"
   ]
  },
  {
   "cell_type": "code",
   "execution_count": 5,
   "metadata": {},
   "outputs": [
    {
     "data": {
      "image/png": "[encoded data removed]",
      "text/plain": [
       "<matplotlib.figure.Figure at 0x29389389dd8>"
      ]
     },
     "metadata": {},
     "output_type": "display_data"
    }
   ],
   "source": [
    "colors = ('r','g','b')\n",
    "plt.ylabel(\"petal_width\", fontsize=12)\n",
    "plt.xlabel(\"petal_length\", fontsize=12)\n",
    "plt.title('Visualization of petal length and width', fontsize=18)\n",
    "plt.scatter(iris_df['petal_length'],iris_df['petal_width'],c=iris_df['category'])\n",
    "plt.show()"
   ]
  },
  {
   "cell_type": "markdown",
   "metadata": {},
   "source": [
    "### 3) Split data to Train/Test Data\n",
    "<a id='Split data'></a>"
   ]
  },
  {
   "cell_type": "markdown",
   "metadata": {},
   "source": [
    "The first step before we start implementing our KNN Algorithm is to split the data into Training and Testing sets.The training data will be used to make the predictions and the test data is used to evaluate the accuracy of the model. We split the data in the ratio 67:33 for train:test.This is a standard train:test ratio.\n",
    "\n",
    "Here, train_data and train_labels is responsible to create the prediction model, where train_data is the input and the train_labels is the output.Similarly, test_data and test_labels are the features and the labels for evaluating the accuracy of the model."
   ]
  },
  {
   "cell_type": "code",
   "execution_count": 7,
   "metadata": {
    "collapsed": true
   },
   "outputs": [],
   "source": [
    "df_content = pd.DataFrame(iris_content)\n",
    "train_data, test_data, train_labels, test_labels = train_test_split(df_content, iris_target_label, test_size=0.33, random_state=42)\n",
    "train_data = train_data.values\n",
    "test_data = test_data.values"
   ]
  },
  {
   "cell_type": "markdown",
   "metadata": {},
   "source": [
    "### 4) Implement KNN from Scratch\n",
    "<a id='implement from scratch'></a>"
   ]
  },
  {
   "cell_type": "markdown",
   "metadata": {
    "collapsed": true
   },
   "source": [
    "So let's get started!!\n",
    "\n",
    "To predict the label of a particular data point using KNN , we need to determine the similarity between the two data instances(One being the new data point[test] and the other being the existing data point[training]).This will be helpful to figure out the K most similar data instances in the training dataset for that test data point.\n",
    "\n",
    "Considering all the four features are in the same units we can directly use the Euclidean distance measure.This is defined as the square root of the sum of the squared differences of the numbers.\n",
    "\n",
    "The below method 'euclidean_distance' is used to get distance between two data points.\n"
   ]
  },
  {
   "cell_type": "code",
   "execution_count": 8,
   "metadata": {
    "collapsed": true
   },
   "outputs": [],
   "source": [
    "import math\n",
    "def euclidean_distance(first, second):\n",
    "    \n",
    "    result = 0\n",
    "    distance = 0\n",
    "#     print(first)\n",
    "    first = np.array(first)\n",
    "#     print(second)\n",
    "    second = np.array(second)\n",
    "    \n",
    "    for m in range(first.size):\n",
    "        distance =distance+ pow((first[m]-second[m]), 2)\n",
    "        \n",
    "    result = math.sqrt(distance)\n",
    "    return result"
   ]
  },
  {
   "cell_type": "markdown",
   "metadata": {},
   "source": [
    "We now have the similarity measure, from this we can get the K most similar instance for a particular data point.\n",
    "The 'fetch_neighbors' function , receives the value of K , a set of training data and their labels and a test data instance.The function returns the K most similar neighbors from the training set for a given test instance.\n",
    "\n",
    "The approach taken to acheive this is: <br>\n",
    "1) Calculate the euclidean_distance between the particular test data instance and every  training data instance.<br>\n",
    "2) Filter out the K most closest data points as neighbors.\n"
   ]
  },
  {
   "cell_type": "code",
   "execution_count": 9,
   "metadata": {
    "collapsed": true
   },
   "outputs": [],
   "source": [
    "def fetch_neighbors(k,training_data,output,testing_data):\n",
    "    size = len(training_data)\n",
    "    distances = []\n",
    "    neighbors = []\n",
    "    for i in range(size):\n",
    "        dist = euclidean_distance(training_data[i],testing_data)\n",
    "        distances.append((training_data[i], output[i], dist))\n",
    "    distances.sort(key=lambda y: y[2])\n",
    "\n",
    "    for ne in range(k): \n",
    "        neighbors.append(distances[ne])\n",
    "    return neighbors"
   ]
  },
  {
   "cell_type": "markdown",
   "metadata": {},
   "source": [
    "From the below output we can observe the neighbors of a particular test instance looks like.Here, we notice that for k = 5, all the 5 neighbors have the labels 0."
   ]
  },
  {
   "cell_type": "code",
   "execution_count": 10,
   "metadata": {},
   "outputs": [
    {
     "name": "stdout",
     "output_type": "stream",
     "text": [
      "A subset of the train data : \n",
      "[[ 5.7  2.9  4.2  1.3]\n",
      " [ 7.6  3.   6.6  2.1]\n",
      " [ 5.6  3.   4.5  1.5]\n",
      " [ 5.1  3.5  1.4  0.2]\n",
      " [ 7.7  2.8  6.7  2. ]] \n",
      "\n",
      "A subset of the train labels : \n",
      "[1 2 1 0 2] \n",
      "\n",
      "A test data instance :  [ 5.7  3.8  1.7  0.3] \n",
      "\n",
      "Neighbors when k =  5\n",
      "[0, 0, 0, 0, 0]\n"
     ]
    }
   ],
   "source": [
    "neighbors = fetch_neighbors(k,train_data, train_labels, test_data[1])\n",
    "print(\"A subset of the train data : \")\n",
    "print(train_data[0:5],\"\\n\")\n",
    "print(\"A subset of the train labels : \")\n",
    "print(train_labels[0:5],\"\\n\")\n",
    "print(\"A test data instance : \",test_data[1],\"\\n\")\n",
    "print(\"Neighbors when k = \",k)\n",
    "nlist =[]\n",
    "for i in range(len(neighbors)):\n",
    "        nlist.append(neighbors[i][1])\n",
    "print(nlist)"
   ]
  },
  {
   "cell_type": "markdown",
   "metadata": {},
   "source": [
    "The previous function helps us locate the the most similar neighbors for a test instance, the next step is to pick the most appropriate label based on the neighbors.\n",
    "\n",
    "The 'most_freq' function takes all the neighbors as the input.Each neighbor votes for their label and the most voted label is the prediction.This prediction is returned as the winner.\n"
   ]
  },
  {
   "cell_type": "code",
   "execution_count": 11,
   "metadata": {
    "collapsed": true
   },
   "outputs": [],
   "source": [
    "def most_freq(neighbors):\n",
    "    voteTracker = collections.Counter()\n",
    "    for i in range(len(neighbors)):\n",
    "        label = neighbors[i][1]\n",
    "        voteTracker[label] = voteTracker[label]+ 1\n",
    "    result_vote = voteTracker.most_common(1)[0][0]\n",
    "    return result_vote\n"
   ]
  },
  {
   "cell_type": "markdown",
   "metadata": {},
   "source": [
    "For the test instance considered , the list of the The list of neighbors are :  [0, 0, 0, 0, 0] . Since all of them are 0 , the majority vote goes to the label 0."
   ]
  },
  {
   "cell_type": "code",
   "execution_count": 12,
   "metadata": {},
   "outputs": [
    {
     "name": "stdout",
     "output_type": "stream",
     "text": [
      "The list of neighbors are :  [0, 0, 0, 0, 0]\n",
      "The most voted label therefore is  0\n"
     ]
    }
   ],
   "source": [
    "print(\"The list of neighbors are : \",nlist)\n",
    "result = most_freq(neighbors)\n",
    "print(\"The most voted label therefore is \", result)"
   ]
  },
  {
   "cell_type": "markdown",
   "metadata": {},
   "source": [
    "Now that we have got the prediction for our test data instance as '0',we can predict the labels for all the test data."
   ]
  },
  {
   "cell_type": "code",
   "execution_count": 13,
   "metadata": {
    "collapsed": true
   },
   "outputs": [],
   "source": [
    "predictions=[]\n",
    "k=5\n",
    "for i in range(len(test_data)):\n",
    "    neighbors = fetch_neighbors(k,train_data, train_labels, test_data[i])\n",
    "    result = most_freq(neighbors)\n",
    "    predictions.append(result)\n"
   ]
  },
  {
   "cell_type": "markdown",
   "metadata": {},
   "source": [
    "Once we have obtained the predictions for all the test data , it important for us to check the accuracy of this model.The following funtion helps us calculate the the accuracy by comparing the the model predictions versus the actual test labels."
   ]
  },
  {
   "cell_type": "code",
   "execution_count": 14,
   "metadata": {
    "collapsed": true
   },
   "outputs": [],
   "source": [
    "def getAccuracy(test_result, predictions):\n",
    "    test_size = len(test_result)\n",
    "    k = 0\n",
    "    acc = 0.0\n",
    "    for x in range(test_size):      \n",
    "        if predictions[x] == test_result[x]:\n",
    "            k = k+ 1\n",
    "    acc = float(k/test_size)\n",
    "    return acc"
   ]
  },
  {
   "cell_type": "markdown",
   "metadata": {},
   "source": [
    "We have acheived an accuracy of 98%"
   ]
  },
  {
   "cell_type": "code",
   "execution_count": 15,
   "metadata": {},
   "outputs": [
    {
     "name": "stdout",
     "output_type": "stream",
     "text": [
      "98.0\n"
     ]
    }
   ],
   "source": [
    "accuracy = getAccuracy(test_labels, predictions)\n",
    "print(accuracy *100)"
   ]
  },
  {
   "cell_type": "markdown",
   "metadata": {
    "collapsed": true
   },
   "source": [
    "Using the previous approach , for a particular test instance we used majority vote to predict the label.Consider this scenario where there are 11 neighbors for a particular test data point. The closest five neighbors belong to say Class A and the rest six (which are far away) belong to class B. \n",
    "\n",
    "What label should be assigned to this test data point?\n",
    "\n",
    "Our previous approach would predict B because B wins the majority vote of 6 against 5.Where as, there are 5 data points of class A which are the closest and A should be considered.\n",
    "\n",
    "To pursue this strategy , we need to differentiate between the different data points.We can acheive this by assigning weights where the nearest neighbor of an instance gets a weight 1 , the second closest gets a weight of 1/2 until k for the farthest neighbor\n",
    "\n",
    "This is nothing but a harmonic series.\n",
    "\n",
    "Below is the function 'most_freq_weights' which increments the count by 1/(i+1) instead of just one."
   ]
  },
  {
   "cell_type": "code",
   "execution_count": 16,
   "metadata": {
    "collapsed": true
   },
   "outputs": [],
   "source": [
    "def most_freq_weights(neighbors, all_results=True):\n",
    "    voteTracker = collections.Counter()\n",
    "    for i in range(len(neighbors)):\n",
    "        label = neighbors[i][1]\n",
    "        voteTracker[label] = voteTracker[label] + 1/(i+1)\n",
    "    winner = voteTracker.most_common(1)[0][0]\n",
    "    return winner\n"
   ]
  },
  {
   "cell_type": "code",
   "execution_count": 17,
   "metadata": {},
   "outputs": [
    {
     "name": "stdout",
     "output_type": "stream",
     "text": [
      "98.0\n"
     ]
    }
   ],
   "source": [
    "predictions=[]\n",
    "k=5\n",
    "for i in range(len(test_data)):\n",
    "    neighbors = fetch_neighbors(k,train_data, train_labels, test_data[i])\n",
    "    result = most_freq_weights(neighbors)\n",
    "    predictions.append(result)\n",
    "accuracy = getAccuracy(test_labels, predictions)\n",
    "print(accuracy *100)"
   ]
  },
  {
   "cell_type": "markdown",
   "metadata": {},
   "source": [
    "The difference between just the majority voting and weighted voting can be demostrated better using a simple example shown here.\n",
    "\n",
    "Let's consider the following training set and the test data.\n",
    "\n",
    "If you observe the predictions for some of the test data , we can clearly see how the weighted function gives the desired output over non-weighted function.The second test instance gives different predictions for weighted and non-weighted function.\n"
   ]
  },
  {
   "cell_type": "code",
   "execution_count": 18,
   "metadata": {},
   "outputs": [
    {
     "name": "stdout",
     "output_type": "stream",
     "text": [
      "Neighbors for test instance -  (0, 0, 0)\n",
      "['mirana', 'mirana', 'mirana', 'earthshaker', 'earthshaker']\n",
      "Result without weight : mirana\n",
      "Result with weight    :  mirana \n",
      "\n",
      "Neighbors for test instance -  (2, 2, 2)\n",
      "['earthshaker', 'earthshaker', 'mirana', 'mirana', 'mirana']\n",
      "Result without weight : mirana\n",
      "Result with weight    :  earthshaker \n",
      "\n",
      "Neighbors for test instance -  (-3, -1, 0)\n",
      "['windranger', 'earthshaker', 'windranger', 'mirana', 'mirana']\n",
      "Result without weight : windranger\n",
      "Result with weight    :  windranger \n",
      "\n",
      "Neighbors for test instance -  (0, 1, 0.9)\n",
      "['mirana', 'mirana', 'mirana', 'earthshaker', 'earthshaker']\n",
      "Result without weight : mirana\n",
      "Result with weight    :  mirana \n",
      "\n",
      "Neighbors for test instance -  (1, 1.5, 1.8)\n",
      "['earthshaker', 'earthshaker', 'mirana', 'mirana', 'mirana']\n",
      "Result without weight : mirana\n",
      "Result with weight    :  earthshaker \n",
      "\n",
      "Neighbors for test instance -  (0.9, 0.8, 1.6)\n",
      "['earthshaker', 'mirana', 'earthshaker', 'mirana', 'mirana']\n",
      "Result without weight : mirana\n",
      "Result with weight    :  earthshaker \n",
      "\n"
     ]
    }
   ],
   "source": [
    "train_set = [(1, 2, 2), (-3, -2, 0),(1, 1, 3), (-3, -3, -1),(-3, -2, -0.5),(0, 0.3, 0.8),(-0.5, 0.6, 0.7),(0, 0, 0)]\n",
    "labels = ['earthshaker',  'windranger', 'earthshaker', 'windranger', 'earthshaker', 'mirana','mirana', 'mirana']\n",
    "k = 5\n",
    "for test_instance in [(0, 0, 0), (2, 2, 2), (-3, -1, 0), (0, 1, 0.9),(1, 1.5, 1.8), (0.9, 0.8, 1.6)]:\n",
    "    neighbors = fetch_neighbors(k,train_set, labels, test_instance)\n",
    "    print(\"Neighbors for test instance - \",test_instance)\n",
    "    nlist =[]\n",
    "    for i in range(len(neighbors)):\n",
    "        nlist.append(neighbors[i][1])\n",
    "    print(nlist)\n",
    "    print(\"Result without weight :\", most_freq(neighbors))\n",
    "    print(\"Result with weight    : \", most_freq_weights(neighbors),\"\\n\")"
   ]
  },
  {
   "cell_type": "markdown",
   "metadata": {},
   "source": [
    "Now that we have understood the underlying concept of KNN Algorithm.\n",
    "Here is a quick run through of how to use KNN using sklearn package.\n",
    "\n",
    "We import the KNeighborsClassifier package\n",
    "With the KNeighborsClassifier() we instantiate the model, assigning the K-value"
   ]
  },
  {
   "cell_type": "code",
   "execution_count": 19,
   "metadata": {
    "collapsed": true
   },
   "outputs": [],
   "source": [
    "from sklearn.neighbors import KNeighborsClassifier\n",
    "kclassifier = KNeighborsClassifier( n_neighbors=3 )\n"
   ]
  },
  {
   "cell_type": "markdown",
   "metadata": {},
   "source": [
    "Fitting the model with the train data and it's labels."
   ]
  },
  {
   "cell_type": "code",
   "execution_count": 20,
   "metadata": {},
   "outputs": [
    {
     "data": {
      "text/plain": [
       "KNeighborsClassifier(algorithm='auto', leaf_size=30, metric='minkowski',\n",
       "           metric_params=None, n_jobs=1, n_neighbors=3, p=2,\n",
       "           weights='uniform')"
      ]
     },
     "execution_count": 20,
     "metadata": {},
     "output_type": "execute_result"
    }
   ],
   "source": [
    "kclassifier.fit(train_data, train_labels)"
   ]
  },
  {
   "cell_type": "markdown",
   "metadata": {},
   "source": [
    "We now use kclassifier to predict the labels for the test data.The final output from the 'most_freq' function for all the test instances will be what we see here."
   ]
  },
  {
   "cell_type": "code",
   "execution_count": 21,
   "metadata": {
    "collapsed": true
   },
   "outputs": [],
   "source": [
    "prediction = kclassifier.predict(test_data)"
   ]
  },
  {
   "cell_type": "markdown",
   "metadata": {},
   "source": [
    "Just as expected ,the accuracy rate is the same even with the package"
   ]
  },
  {
   "cell_type": "code",
   "execution_count": 22,
   "metadata": {},
   "outputs": [
    {
     "name": "stdout",
     "output_type": "stream",
     "text": [
      "98.0\n"
     ]
    }
   ],
   "source": [
    "print(accuracy_score(test_labels, prediction)*100)"
   ]
  },
  {
   "cell_type": "markdown",
   "metadata": {},
   "source": [
    "#### Using cross validation for parameter tuning"
   ]
  },
  {
   "cell_type": "markdown",
   "metadata": {},
   "source": [
    "All this while , we made an assumption for the value for 'K'.\n",
    "\n",
    "What is the right K -value?\n",
    "\n",
    "Let's explore how to tune the hyperparameter K.\n",
    "The best K value is the one that corresponds to the lowest test error rate.For this , we can calculate the test error rate for a range of K values.Here, we will be using cross validation for our parameter tuning.\n",
    "\n",
    "We are performing a 10-fold cross validation on our dataset for odd values of K from 1 to 50.\n",
    "Here is a quick brief on k-fold cross validation (this k is completely different from the 'K' in the KNN )\n",
    "Misclassification Error is calculated on the held-out fold.\n",
    "We repeat this step 10 times(10-fold) for each validation set.This gives us 10 estimates of the test error , which is then averaged out.\n"
   ]
  },
  {
   "cell_type": "code",
   "execution_count": 23,
   "metadata": {},
   "outputs": [
    {
     "data": {
      "image/png": "[encoded data removed]",
      "text/plain": [
       "<matplotlib.figure.Figure at 0x29389abfa20>"
      ]
     },
     "metadata": {},
     "output_type": "display_data"
    }
   ],
   "source": [
    "cv_list = []\n",
    "k_values = range(1,50,2)\n",
    "\n",
    "for k in k_values:\n",
    "    kclassifier = KNeighborsClassifier(n_neighbors=k)\n",
    "    cross_val_scr = cross_val_score(kclassifier, train_data,train_labels, cv=10, scoring='accuracy')\n",
    "    cv_list.append(cross_val_scr.mean())\n",
    "    \n",
    "misclassifiaction_error = []\n",
    "for x in cv_list:\n",
    "    y = 1-x\n",
    "    misclassifiaction_error.append(y)\n",
    "plt.xlabel('Values of K', fontsize=12)\n",
    "plt.ylabel('Misclassification Error', fontsize=12)\n",
    "plt.title('The optimal number of neighbors', fontsize=18)\n",
    "plt.plot(k_values, misclassifiaction_error)\n",
    "\n",
    "plt.show()"
   ]
  },
  {
   "cell_type": "markdown",
   "metadata": {},
   "source": [
    "This graph shows the Misclassification Error for odd values of K ranging from 1 to 50.To pick the right K , there are multiple approaches.Over here, we pick the K value for which Misclassification Error is minimum.The best K value for this model happens to be 7!"
   ]
  },
  {
   "cell_type": "code",
   "execution_count": 24,
   "metadata": {},
   "outputs": [
    {
     "name": "stdout",
     "output_type": "stream",
     "text": [
      "7\n"
     ]
    }
   ],
   "source": [
    "min_val = min(misclassifiaction_error)\n",
    "k_val = k_values[misclassifiaction_error.index(min_val)]\n",
    "print(k_val)"
   ]
  },
  {
   "cell_type": "markdown",
   "metadata": {},
   "source": [
    "## Ideas for extension\n",
    "\n",
    "1) Consider distance measure : The weighted voting approach can further be expanded to consider the distance. The increamental factor which is harmonic can be replaced to 1 / (dist**2 + 1) to achieve this.<br>\n",
    "2) Regression : KNN can also be used for regression problems(that is not just qualitative values but can be used for quantitive values). The closest value can be compyted by taking the mean or median of the predicted attribute. <br>\n",
    "3) Normalization : Rescaling the data can make the model more impactful.If we consider two features , height and weight such that height = 190 and weight = 90 , this will skew the metrics in favor of height .Therefore, normalizing the data will be helpful\n"
   ]
  },
  {
   "cell_type": "markdown",
   "metadata": {},
   "source": [
    "## Further Resources\n",
    "\n",
    "1) http://ieeexplore.ieee.org/document/6783471/?reload=true <br>\n",
    "2) https://machinelearningmastery.com/k-nearest-neighbors-for-machine-learning/ <br>\n",
    "3) https://www.sciencedirect.com/science/article/pii/S209012321200046X <br>\n",
    "4) https://link.springer.com/chapter/10.1007/978-3-642-20367-1_51 <br>\n",
    "5) https://link.springer.com/chapter/10.1007/978-3-319-14717-8_39"
   ]
  },
  {
   "cell_type": "markdown",
   "metadata": {},
   "source": [
    "## References\n",
    "\n",
    "1) https://kevinzakka.github.io/2016/07/13/k-nearest-neighbor/ <br>\n",
    "2) https://www.kaggle.com/skalskip/iris-data-visualization-and-knn-classification <br>\n",
    "3) https://machinelearningmastery.com/tutorial-to-implement-k-nearest-neighbors-in-python-from-scratch/ <br>\n",
    "4) https://www.python-course.eu/k_nearest_neighbor_classifier.php <br>\n",
    "5) https://www.datacamp.com/community/tutorials/preprocessing-in-data-science-part-1-centering-scaling-and-knn <br>\n",
    "6) https://medium.com/data-science-group-iitr/k-nearest-neighbors-knn-500f0d17c8f1 <br>\n",
    "7) https://www.kaggle.com/abhishekkrg/python-iris-data-visualization-and-explanation <br>"
   ]
  },
  {
   "cell_type": "code",
   "execution_count": null,
   "metadata": {
    "collapsed": true
   },
   "outputs": [],
   "source": []
  }
 ],
 "metadata": {
  "kernelspec": {
   "display_name": "Python 3",
   "language": "python",
   "name": "python3"
  },
  "language_info": {
   "codemirror_mode": {
    "name": "ipython",
    "version": 3
   },
   "file_extension": ".py",
   "mimetype": "text/x-python",
   "name": "python",
   "nbconvert_exporter": "python",
   "pygments_lexer": "ipython3",
   "version": "3.6.3"
  }
 },
 "nbformat": 4,
 "nbformat_minor": 2
}
