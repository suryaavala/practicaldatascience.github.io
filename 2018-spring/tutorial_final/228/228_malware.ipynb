{
 "cells": [
  {
   "cell_type": "markdown",
   "metadata": {},
   "source": [
    "### Tutorial: Latent Purposes in Mobile Applications using Topic Modelling and malware detection \n",
    "\n",
    "References: http://ieeexplore.ieee.org/document/7913246/\n",
    "\n",
    "   * Dataset for Permissions: http://www.mariofrank.net/andrApps/\n",
    "   * Dataset that identifies Malware/Non Malware Apps: https://www.kaggle.com/xwolf12/datasetandroidpermissions"
   ]
  },
  {
   "cell_type": "markdown",
   "metadata": {},
   "source": [
    "### Introduction to Topic Modelling"
   ]
  },
  {
   "cell_type": "markdown",
   "metadata": {},
   "source": [
    "Topic Modelling provides us with method to identify and extract the underlying topics lying in large textual documents. It helps in discovering hidden topical patterns, annotation of documents as per the documents and using these annotations to search and organize the documents. Different algorithms exist for Topic Modelling and in this Tutorial we are going to look at Latent Dirchlet Allocation and Non-Negative Matrix Factorization algorithms to help accomplish our objective and see which one performs better."
   ]
  },
  {
   "cell_type": "markdown",
   "metadata": {},
   "source": [
    "### 1. Objective of the Tutorial\n",
    "\n",
    "We hypothesize the existence of latent \"purposes\" manifested by mobile phone applications; a \"purpose\" may be a specific task (such as taking photographs and uploading them to the internet), and an application may have a mixture of purposes of varying strength. We look at accomplishing this objective using both LDA and NMF and compare their interpretations. \n",
    "\n",
    "We try to seggregate applications into chat messengers, GPS related applications, social media etc. by application permissions and application description. So overall the question we are trying to answer is, Can we uncover these purposes from a dataset of Android applications? We also provide an outline towards performing outlier detection using T-SNE dimensionality reduction to identify malware applications from normal ones"
   ]
  },
  {
   "cell_type": "markdown",
   "metadata": {},
   "source": [
    "#### Import necessary libraries"
   ]
  },
  {
   "cell_type": "code",
   "execution_count": 1,
   "metadata": {},
   "outputs": [],
   "source": [
    "import numpy as np\n",
    "import matplotlib.pyplot as plt\n",
    "import pandas as pd\n",
    "%matplotlib inline"
   ]
  },
  {
   "cell_type": "markdown",
   "metadata": {},
   "source": [
    "#### Load and clean data"
   ]
  },
  {
   "cell_type": "markdown",
   "metadata": {},
   "source": [
    "The [dataset](http://www.mariofrank.net/andrApps/) contains ~180,000 applications from the Android app store, including each app's name, description and permissions requested. A detailed insight into this can be found at [this report](http://www.pewinternet.org/2015/11/10/an-analysis-of-android-app-permissions/)). The data set about the application type if it corresponds to benign or malware applications is used in later sections. "
   ]
  },
  {
   "cell_type": "code",
   "execution_count": 2,
   "metadata": {},
   "outputs": [],
   "source": [
    "df = pd.read_csv(\"android.csv\", sep=\",\",  thousands=\",\")"
   ]
  },
  {
   "cell_type": "code",
   "execution_count": 3,
   "metadata": {},
   "outputs": [
    {
     "data": {
      "text/html": [
       "<div>\n",
       "<style scoped>\n",
       "    .dataframe tbody tr th:only-of-type {\n",
       "        vertical-align: middle;\n",
       "    }\n",
       "\n",
       "    .dataframe tbody tr th {\n",
       "        vertical-align: top;\n",
       "    }\n",
       "\n",
       "    .dataframe thead th {\n",
       "        text-align: right;\n",
       "    }\n",
       "</style>\n",
       "<table border=\"1\" class=\"dataframe\">\n",
       "  <thead>\n",
       "    <tr style=\"text-align: right;\">\n",
       "      <th></th>\n",
       "      <th>App</th>\n",
       "      <th>Package</th>\n",
       "      <th>Category</th>\n",
       "      <th>Description</th>\n",
       "      <th>Rating</th>\n",
       "      <th>Number of ratings</th>\n",
       "      <th>Price</th>\n",
       "      <th>Related apps</th>\n",
       "      <th>Dangerous permissions count</th>\n",
       "      <th>Safe permissions count</th>\n",
       "      <th>...</th>\n",
       "      <th>Your personal information : read Browser's history and bookmarks (D)</th>\n",
       "      <th>Your personal information : read calendar events (D)</th>\n",
       "      <th>Your personal information : read contact data (D)</th>\n",
       "      <th>Your personal information : read sensitive log data (D)</th>\n",
       "      <th>Your personal information : read user defined dictionary (D)</th>\n",
       "      <th>Your personal information : retrieve system internal state (S)</th>\n",
       "      <th>Your personal information : set alarm in alarm clock (S)</th>\n",
       "      <th>Your personal information : write Browser's history and bookmarks (D)</th>\n",
       "      <th>Your personal information : write contact data (D)</th>\n",
       "      <th>Your personal information : write to user defined dictionary (S)</th>\n",
       "    </tr>\n",
       "  </thead>\n",
       "  <tbody>\n",
       "    <tr>\n",
       "      <th>0</th>\n",
       "      <td>Google Maps</td>\n",
       "      <td>com.google.android.apps.maps</td>\n",
       "      <td>Travel &amp; Local</td>\n",
       "      <td>Download the latest release of Google Maps, an...</td>\n",
       "      <td>4.4</td>\n",
       "      <td>1438259</td>\n",
       "      <td>$0.00</td>\n",
       "      <td>{com.jsdfproductions.ctatrackerpro, com.alk.co...</td>\n",
       "      <td>17.0</td>\n",
       "      <td>8</td>\n",
       "      <td>...</td>\n",
       "      <td>0</td>\n",
       "      <td>0</td>\n",
       "      <td>1</td>\n",
       "      <td>0</td>\n",
       "      <td>0</td>\n",
       "      <td>0</td>\n",
       "      <td>0</td>\n",
       "      <td>0</td>\n",
       "      <td>1</td>\n",
       "      <td>0</td>\n",
       "    </tr>\n",
       "    <tr>\n",
       "      <th>1</th>\n",
       "      <td>Snowfall Live Wallpaper</td>\n",
       "      <td>fishnoodle.snowfall_free</td>\n",
       "      <td>Personalization</td>\n",
       "      <td>Snowfall Live Wallpaper: Wintertime on your ho...</td>\n",
       "      <td>4.3</td>\n",
       "      <td>18147</td>\n",
       "      <td>$0.00</td>\n",
       "      <td>{colfore.wallpaper.snowfree, com.tabsoft.wallp...</td>\n",
       "      <td>0.0</td>\n",
       "      <td>0</td>\n",
       "      <td>...</td>\n",
       "      <td>0</td>\n",
       "      <td>0</td>\n",
       "      <td>0</td>\n",
       "      <td>0</td>\n",
       "      <td>0</td>\n",
       "      <td>0</td>\n",
       "      <td>0</td>\n",
       "      <td>0</td>\n",
       "      <td>0</td>\n",
       "      <td>0</td>\n",
       "    </tr>\n",
       "    <tr>\n",
       "      <th>2</th>\n",
       "      <td>Aquarium Live Wallpaper</td>\n",
       "      <td>fishnoodle.aquarium_free</td>\n",
       "      <td>Personalization</td>\n",
       "      <td>A beautiful tropical fish tank live wallpaper!...</td>\n",
       "      <td>4.1</td>\n",
       "      <td>62145</td>\n",
       "      <td>$0.00</td>\n",
       "      <td>{com.convisual.lwp.fishometerlite, com.accessl...</td>\n",
       "      <td>0.0</td>\n",
       "      <td>0</td>\n",
       "      <td>...</td>\n",
       "      <td>0</td>\n",
       "      <td>0</td>\n",
       "      <td>0</td>\n",
       "      <td>0</td>\n",
       "      <td>0</td>\n",
       "      <td>0</td>\n",
       "      <td>0</td>\n",
       "      <td>0</td>\n",
       "      <td>0</td>\n",
       "      <td>0</td>\n",
       "    </tr>\n",
       "  </tbody>\n",
       "</table>\n",
       "<p>3 rows × 183 columns</p>\n",
       "</div>"
      ],
      "text/plain": [
       "                       App                       Package         Category  \\\n",
       "0              Google Maps  com.google.android.apps.maps   Travel & Local   \n",
       "1  Snowfall Live Wallpaper      fishnoodle.snowfall_free  Personalization   \n",
       "2  Aquarium Live Wallpaper      fishnoodle.aquarium_free  Personalization   \n",
       "\n",
       "                                         Description  Rating  \\\n",
       "0  Download the latest release of Google Maps, an...     4.4   \n",
       "1  Snowfall Live Wallpaper: Wintertime on your ho...     4.3   \n",
       "2  A beautiful tropical fish tank live wallpaper!...     4.1   \n",
       "\n",
       "   Number of ratings  Price  \\\n",
       "0            1438259  $0.00   \n",
       "1              18147  $0.00   \n",
       "2              62145  $0.00   \n",
       "\n",
       "                                        Related apps  \\\n",
       "0  {com.jsdfproductions.ctatrackerpro, com.alk.co...   \n",
       "1  {colfore.wallpaper.snowfree, com.tabsoft.wallp...   \n",
       "2  {com.convisual.lwp.fishometerlite, com.accessl...   \n",
       "\n",
       "   Dangerous permissions count  Safe permissions count  \\\n",
       "0                         17.0                       8   \n",
       "1                          0.0                       0   \n",
       "2                          0.0                       0   \n",
       "\n",
       "                                 ...                                 \\\n",
       "0                                ...                                  \n",
       "1                                ...                                  \n",
       "2                                ...                                  \n",
       "\n",
       "   Your personal information : read Browser's history and bookmarks (D)  \\\n",
       "0                                                  0                      \n",
       "1                                                  0                      \n",
       "2                                                  0                      \n",
       "\n",
       "   Your personal information : read calendar events (D)  \\\n",
       "0                                                  0      \n",
       "1                                                  0      \n",
       "2                                                  0      \n",
       "\n",
       "   Your personal information : read contact data (D)  \\\n",
       "0                                                  1   \n",
       "1                                                  0   \n",
       "2                                                  0   \n",
       "\n",
       "   Your personal information : read sensitive log data (D)  \\\n",
       "0                                                  0         \n",
       "1                                                  0         \n",
       "2                                                  0         \n",
       "\n",
       "   Your personal information : read user defined dictionary (D)  \\\n",
       "0                                                  0              \n",
       "1                                                  0              \n",
       "2                                                  0              \n",
       "\n",
       "   Your personal information : retrieve system internal state (S)  \\\n",
       "0                                                  0                \n",
       "1                                                  0                \n",
       "2                                                  0                \n",
       "\n",
       "   Your personal information : set alarm in alarm clock (S)  \\\n",
       "0                                                  0          \n",
       "1                                                  0          \n",
       "2                                                  0          \n",
       "\n",
       "   Your personal information : write Browser's history and bookmarks (D)  \\\n",
       "0                                                  0                       \n",
       "1                                                  0                       \n",
       "2                                                  0                       \n",
       "\n",
       "   Your personal information : write contact data (D)  \\\n",
       "0                                                  1    \n",
       "1                                                  0    \n",
       "2                                                  0    \n",
       "\n",
       "   Your personal information : write to user defined dictionary (S)  \n",
       "0                                                  0                 \n",
       "1                                                  0                 \n",
       "2                                                  0                 \n",
       "\n",
       "[3 rows x 183 columns]"
      ]
     },
     "execution_count": 3,
     "metadata": {},
     "output_type": "execute_result"
    }
   ],
   "source": [
    "df.head(n=3)"
   ]
  },
  {
   "cell_type": "code",
   "execution_count": 4,
   "metadata": {},
   "outputs": [],
   "source": [
    "df[\"Number of ratings\"] = df[\"Number of ratings\"].astype(int) # fix data type\n",
    "df = df.drop_duplicates(subset=[\"App\"]).reset_index(drop=True)"
   ]
  },
  {
   "cell_type": "code",
   "execution_count": 15,
   "metadata": {},
   "outputs": [
    {
     "data": {
      "text/html": [
       "<div>\n",
       "<style scoped>\n",
       "    .dataframe tbody tr th:only-of-type {\n",
       "        vertical-align: middle;\n",
       "    }\n",
       "\n",
       "    .dataframe tbody tr th {\n",
       "        vertical-align: top;\n",
       "    }\n",
       "\n",
       "    .dataframe thead th {\n",
       "        text-align: right;\n",
       "    }\n",
       "</style>\n",
       "<table border=\"1\" class=\"dataframe\">\n",
       "  <thead>\n",
       "    <tr style=\"text-align: right;\">\n",
       "      <th></th>\n",
       "      <th>Rating</th>\n",
       "      <th>Number of ratings</th>\n",
       "    </tr>\n",
       "  </thead>\n",
       "  <tbody>\n",
       "    <tr>\n",
       "      <th>count</th>\n",
       "      <td>180295.00000</td>\n",
       "      <td>1.802950e+05</td>\n",
       "    </tr>\n",
       "    <tr>\n",
       "      <th>mean</th>\n",
       "      <td>2.92187</td>\n",
       "      <td>3.931412e+02</td>\n",
       "    </tr>\n",
       "    <tr>\n",
       "      <th>std</th>\n",
       "      <td>1.87695</td>\n",
       "      <td>9.063354e+03</td>\n",
       "    </tr>\n",
       "    <tr>\n",
       "      <th>min</th>\n",
       "      <td>0.00000</td>\n",
       "      <td>0.000000e+00</td>\n",
       "    </tr>\n",
       "    <tr>\n",
       "      <th>25%</th>\n",
       "      <td>1.00000</td>\n",
       "      <td>1.000000e+00</td>\n",
       "    </tr>\n",
       "    <tr>\n",
       "      <th>50%</th>\n",
       "      <td>3.70000</td>\n",
       "      <td>4.000000e+00</td>\n",
       "    </tr>\n",
       "    <tr>\n",
       "      <th>75%</th>\n",
       "      <td>4.40000</td>\n",
       "      <td>2.300000e+01</td>\n",
       "    </tr>\n",
       "    <tr>\n",
       "      <th>max</th>\n",
       "      <td>5.00000</td>\n",
       "      <td>1.897622e+06</td>\n",
       "    </tr>\n",
       "  </tbody>\n",
       "</table>\n",
       "</div>"
      ],
      "text/plain": [
       "             Rating  Number of ratings\n",
       "count  180295.00000       1.802950e+05\n",
       "mean        2.92187       3.931412e+02\n",
       "std         1.87695       9.063354e+03\n",
       "min         0.00000       0.000000e+00\n",
       "25%         1.00000       1.000000e+00\n",
       "50%         3.70000       4.000000e+00\n",
       "75%         4.40000       2.300000e+01\n",
       "max         5.00000       1.897622e+06"
      ]
     },
     "execution_count": 15,
     "metadata": {},
     "output_type": "execute_result"
    }
   ],
   "source": [
    "df.iloc[:,4:6].describe()"
   ]
  },
  {
   "cell_type": "markdown",
   "metadata": {},
   "source": [
    "From above, we notice that the average rating of apps is around 2.92. We try to keep some of our analysis restricted to top apps to see what topic highest rated applications fall into according to our topic model. Note that the permissions are tagged with a category that describes them (for example, \"system tools\"). This will help us interpret them later while using the Malware applications dataset"
   ]
  },
  {
   "cell_type": "markdown",
   "metadata": {},
   "source": [
    "### 2. Methodology\n",
    "\n",
    "As mentioned initially we try to group apps into topics in two ways:\n",
    "\n",
    "1. One approach to model apps as documents is to use their \"description\" field directly.\n",
    "\n",
    "2. A less conventional approach is to exploit the fact that the permissions an app requests as direct evidence about what it's really trying to do. Think of app purposes as \"topics\", and each app as a \"document\" where its requested permissions are \"words\". Instead of repeating Topic Modelling using permissions, since the process is almost similar, we consider an alternate dataset to visualize Malware and Benign applications using application permissions"
   ]
  },
  {
   "cell_type": "markdown",
   "metadata": {},
   "source": [
    "### 2.1 Topic Modelling using Description"
   ]
  },
  {
   "cell_type": "code",
   "execution_count": 16,
   "metadata": {},
   "outputs": [],
   "source": [
    "df_bonus = df[df.columns[3]] # Column that contains description"
   ]
  },
  {
   "cell_type": "markdown",
   "metadata": {},
   "source": [
    "#### Data Preprocessing Steps\n",
    "\n",
    "Here we are going to perform tokenization, stop word removals, stemming/lemmatizing etc. which we help us to identify accurate patterns with out considering redundant patterns or missing original patterns. Stop word removal is necessary since multiple instances of words like 'the', 'in' etc. do not add any evident purpose. Tokenization is the act of splitting a sequence of characters into individual constituent pieces. For example 'Subra,' needs to be split as 'Subra' and ','. Lemmatizing involves combining words that carry same meaning as per the dictionary meaning. Hence from reading about each of these steps we can understand the inherent value in each of these steps. "
   ]
  },
  {
   "cell_type": "code",
   "execution_count": 20,
   "metadata": {},
   "outputs": [],
   "source": [
    "# Extending the CountVectorizer class with a lemmatizer¶\n",
    "from nltk.stem import WordNetLemmatizer\n",
    "from sklearn.feature_extraction.text import CountVectorizer\n",
    "lemm = WordNetLemmatizer()\n",
    "class LemmaCountVectorizer(CountVectorizer):\n",
    "    def build_analyzer(self):\n",
    "        analyzer = super(LemmaCountVectorizer, self).build_analyzer()\n",
    "        return lambda doc: (lemm.lemmatize(w) for w in analyzer(doc))"
   ]
  },
  {
   "cell_type": "markdown",
   "metadata": {},
   "source": [
    "Above we have over written the build analyzer method from the CountVectorizer class so as to suit to our data set"
   ]
  },
  {
   "cell_type": "code",
   "execution_count": 29,
   "metadata": {},
   "outputs": [],
   "source": [
    "import nltk\n",
    "import string\n",
    "def process(text, lemmatizer=nltk.stem.wordnet.WordNetLemmatizer()):\n",
    "    \"\"\" Normalizes case and handles punctuation\n",
    "    Inputs:\n",
    "        text: str: raw text\n",
    "        lemmatizer: an instance of a class implementing the lemmatize() method\n",
    "                    (the default argument is of type nltk.stem.wordnet.WordNetLemmatizer)\n",
    "    Outputs:\n",
    "        list(str): tokenized text\n",
    "    \"\"\"\n",
    "    token = []\n",
    "    text = text.replace(\"'s\",'')\n",
    "    text = text.replace(\"'\",\"\")\n",
    "    for c in string.punctuation:\n",
    "        text=text.replace(c,\" \")\n",
    "    tokens = nltk.word_tokenize(text)\n",
    "    for i in tokens:\n",
    "        token.append(lemmatizer.lemmatize(i))   \n",
    "    return token\n",
    "    pass"
   ]
  },
  {
   "cell_type": "code",
   "execution_count": 30,
   "metadata": {},
   "outputs": [],
   "source": [
    "def process_all(df, lemmatizer=nltk.stem.wordnet.WordNetLemmatizer()):\n",
    "    \"\"\" process all text in the dataframe using process_text() function.\n",
    "    Inputs\n",
    "        df: pd.DataFrame: dataframe containing a column 'text' loaded from the CSV file\n",
    "        lemmatizer: an instance of a class implementing the lemmatize() method\n",
    "                    (the default argument is of type nltk.stem.wordnet.WordNetLemmatizer)\n",
    "    Outputs\n",
    "        pd.DataFrame: dataframe in which the values of text column have been changed from str to list(str),\n",
    "                        the output from process_text() function. Other columns are unaffected.\n",
    "    \"\"\"\n",
    "    df['Description'] = df.Description.apply(lambda x:process(str(x)))\n",
    "    return df\n",
    "    pass"
   ]
  },
  {
   "cell_type": "code",
   "execution_count": 31,
   "metadata": {},
   "outputs": [],
   "source": [
    "# Storing the entire training text in a list\n",
    "df_processed = process_all(df)\n",
    "df_processed.Description = df_processed.Description.apply(lambda x:' '.join(x))\n",
    "df_processed = df_processed[df_processed.columns[3]] \n",
    "text = df_bonus.values.astype('U')\n",
    "# Calling our overwritten Count vectorizer\n",
    "tf_vectorizer = LemmaCountVectorizer(max_df=0.95, \n",
    "                                     min_df=2,\n",
    "                                     stop_words='english',\n",
    "                                     decode_error='ignore')\n",
    "tf = tf_vectorizer.fit_transform(text)"
   ]
  },
  {
   "cell_type": "markdown",
   "metadata": {},
   "source": [
    "### 2.1.1 Latent Dirchlet Allocation\n",
    "\n",
    "LDA is basically a probabilistic model that works using P(word/Topic) and P(Topic/documents). In our particular dataset, each row entry is treated as a document. The probability values are calculated based on a random assignment and further calculated for each word in the document to determine their topic assignment. Using an iterative procedure these probabilities converge to give us the best topic model. To start with, we look at classifying all apps into topics using LDA.\n",
    "\n",
    "The LDA algorithm first models documents via a mixture model of topics.Words are then initially randomly assigned weights based on the probability distribution of these topics. This helps LDA algorithm to determine which word falls into a particular topic. Using collection of words to a particular topic, LDA converges over iterations and we are thus able to gain an insight as to what that topic may actually represent from a lexical point of view.\n",
    "\n",
    "Using sklearn library we simply create an LDA instance. Mostly using default parameteres and in this instance, the optimal value of n_components (or topic number) was randomly taken as 11 but can also be found by conducting a KMeans + Latent Semantic Analysis Scheme which is beyond the scope of this tutorial so we would not cover it here."
   ]
  },
  {
   "cell_type": "code",
   "execution_count": 106,
   "metadata": {},
   "outputs": [],
   "source": [
    "from sklearn.decomposition import LatentDirichletAllocation\n",
    "lda = LatentDirichletAllocation(n_components=11, max_iter=5,\n",
    "                                learning_method = 'online',\n",
    "                                learning_offset = 50.,\n",
    "                                random_state = 0)"
   ]
  },
  {
   "cell_type": "code",
   "execution_count": 107,
   "metadata": {},
   "outputs": [
    {
     "data": {
      "text/plain": [
       "LatentDirichletAllocation(batch_size=128, doc_topic_prior=None,\n",
       "             evaluate_every=-1, learning_decay=0.7,\n",
       "             learning_method='online', learning_offset=50.0,\n",
       "             max_doc_update_iter=100, max_iter=5, mean_change_tol=0.001,\n",
       "             n_components=11, n_jobs=1, n_topics=None, perp_tol=0.1,\n",
       "             random_state=0, topic_word_prior=None,\n",
       "             total_samples=1000000.0, verbose=0)"
      ]
     },
     "execution_count": 107,
     "metadata": {},
     "output_type": "execute_result"
    }
   ],
   "source": [
    "lda.fit(tf)"
   ]
  },
  {
   "cell_type": "markdown",
   "metadata": {},
   "source": [
    "#### Top words from description in each topic"
   ]
  },
  {
   "cell_type": "code",
   "execution_count": 108,
   "metadata": {},
   "outputs": [],
   "source": [
    "# Define helper function to print top words\n",
    "def print_top_words(model, feature_names, n_top_words):\n",
    "    for index, topic in enumerate(model.components_):\n",
    "        message = \"\\nTopic #{}:\".format(index)\n",
    "        message += \" \".join([feature_names[i] for i in topic.argsort()[:-n_top_words - 1 :-1]])\n",
    "        print(message)\n",
    "        print(\"=\"*70)"
   ]
  },
  {
   "cell_type": "code",
   "execution_count": 109,
   "metadata": {},
   "outputs": [
    {
     "name": "stdout",
     "output_type": "stream",
     "text": [
      "\n",
      "Topics in LDA model: \n",
      "\n",
      "Topic #0:book br music tv radio video ebook story reading movie song medium station listen classic digital content play read reader app chapter novel audio quality quote free bible artist nh mp3 world text quot mark using page channel magazine download\n",
      "======================================================================\n",
      "\n",
      "Topic #1:br app application phone use feature time android version map information user list data location number device search free mobile note service contact view support using need access easy email add text file internet allows available gps simple new save\n",
      "======================================================================\n",
      "\n",
      "Topic #2:br eztakes den film von og 게임 duration sjkqc7qo3ot9tiqxwq2ubsg afqjcngvbd 지하철 02c minute 無料 sc 다음 au デコメ 19 12 정보 docomo 11 talking till 있습니다 tattoo 배경화면 ray 네이버 뉴스 cinema 버스 영화 ab fart 만화 음악 ben 여행\n",
      "======================================================================\n",
      "\n",
      "Topic #3:br la en le die der du et que da e el ng se de quot para al di vous zu adaptxt los te na je auf del app il van est och pour er sur una oder au si\n",
      "======================================================================\n",
      "\n",
      "Topic #4:br theme android gt icon keyboard phone launcher home app widget galaxy skin quot pro htc xperia sie market adw apps ex custom search aquos setting samsung support pack install work mini apply replacement smart sony desire select sm sh\n",
      "======================================================================\n",
      "\n",
      "Topic #5:br word language dictionary english quot und learn phrase question learning quiz test search student letter child help card spanish reference pronunciation french 000 study audio translation fast chinese easy answer used russian medical correct app italian vocabulary need collins\n",
      "======================================================================\n",
      "\n",
      "Topic #6:game br play puzzle level fun time player block like score version free right sound kid mode world try make line piece rule friend simple sexy point new left number high skill android different win feature challenge way ball best\n",
      "======================================================================\n",
      "\n",
      "Topic #7:br wallpaper quot live screen setting size phone card application select sd photo option menu background image set change widget picture choose beautiful save gt color clock home button android second press frame tablet check tag tap enjoy 3d use\n",
      "======================================================================\n",
      "\n",
      "Topic #8:com http www br google target href _blank url usg android sm facebook app twitter quot message mailto gmail support mobile application net free phone email video share send apps web visit contact site org mit id text download info\n",
      "======================================================================\n",
      "\n",
      "Topic #9:quot app time make just life best friend people know help new like guide need way day great want world love year good family let don ll collection thing use place work share tip come food easy experience learn restaurant\n",
      "======================================================================\n",
      "\n",
      "Topic #10:br news app latest mobile team sport live 2011 new information official event time schedule update football video score fan city state club local stay twitter league date share android access article feed weather facebook available world free feature university\n",
      "======================================================================\n"
     ]
    }
   ],
   "source": [
    "n_top_words = 40\n",
    "print(\"\\nTopics in LDA model: \")\n",
    "tf_feature_names = tf_vectorizer.get_feature_names()\n",
    "print_top_words(lda, tf_feature_names, n_top_words)"
   ]
  },
  {
   "cell_type": "markdown",
   "metadata": {},
   "source": [
    "#### Interpretations : \n",
    "\n",
    " * Topic 10: News Apps most probably corresponding specifically to sports\n",
    " * Topic 9: Mostly a restaurent review application like zomato since most of words seems to describe information about places to hangout\n",
    " * Topic 8: Social Media or Chat related apps as can bbe seen from the information from most common words\n",
    " * Topic 7: Apps corresponding to modifying the widgets, wall papers. Widget managers etc\n",
    " * Topic 6: Apps involving games that allow challenging friends etc.\n",
    " * Topic 5: Dictionary application with different language support\n",
    " * Topic 4: Difficult to identify but it could probably be some of the start up applications as we see task manager and launch words specific \n",
    " to different phone models\n",
    " * Topic 3: German language app since the data contains information from all applications from play store across the world\n",
    " * Topic 2: Different language so difficult to interpret\n",
    " * Topic 1: Contact manager that has access to internet, email, gps etc.\n",
    " * Topic 0: From the words it is most likely a media player applications and pdf viewers to view documents"
   ]
  },
  {
   "cell_type": "markdown",
   "metadata": {},
   "source": [
    "#### For each topic, we list the top 3 highest rated applications based on probbability distribution assigned\n",
    "\n",
    "This further helps us understand what the topics actually mean. what kind of apps is each topic most likely to contain? The steps followed we mention in brief below and the process repeats as same for NMF later in the tutorial:\n",
    "\n",
    "   * Transform the TF-IDF matrix into a matrix of topic proportions for each app; each row corresponds to one app. Consider the `transform` function of the LDA model you just fit. Now your data has been reduced to a dimensionality of just 10.\n",
    "\n",
    "\n",
    "   * For each column i in 0...11:\n",
    "      - Sort the rows in the topic proportion matrix by column i (topic i). Consider using `np.argsort` to obtain the sorted indices. The indices correspond to the position each row should be moved to, to obtain the rows sorted in increasing order by column i.\n",
    "      - Create a new \"temp\" column in the original dataframe with these indices.\n",
    "      - Sort the original dataframe in descending order by these indices.\n",
    "      - Print the names of the top 3 apps in the sorted dataframe.\n",
    "      - Only print app names having more than 1000 ratings (do something like `df[df['Number of ratings']>1000]`)."
   ]
  },
  {
   "cell_type": "code",
   "execution_count": 12,
   "metadata": {},
   "outputs": [
    {
     "name": "stdout",
     "output_type": "stream",
     "text": [
      "Topic #0:\n",
      "\tMonkey Kick Off \tiPhone Go Launcher EX Theme \tBlock Puzzle Tangram \n",
      "Topic #1:\n",
      "\tTiny Robots \tRomantic Sakura Live Wallpaper \taTrackDog \n",
      "Topic #2:\n",
      "\tEmoCube Social Diary \tSports Tracker \tKorean Air \n",
      "Topic #3:\n",
      "\tMormon Channel \tDraugiem.lv app \tIrssi ConnectBot \n",
      "Topic #4:\n",
      "\tSportyPal \tCalorific Diet Tracker \tGood Morning \n",
      "Topic #5:\n",
      "\tAutoSync OnOff \tHoroscope \tQQ???????????????????????????????????????????????? \n",
      "Topic #6:\n",
      "\tJewel Battle HD Online \tQuran Android \tAppeak Poker \n",
      "Topic #7:\n",
      "\tCrunchyroll \tFree Mirror! \tTriple Stack HD (Pyramids) \n",
      "Topic #8:\n",
      "\tWeather Widget Forecast Addon \tFind 1 to 50 (New to50) \tiRunner \n",
      "Topic #9:\n",
      "\tMP3 Music Download Pro \tSpearfishing Lite \tGUITAR HERO?? 5 DEMO \n",
      "Topic #10:\n",
      "\tCity Jump \tSilent Toggle Widget \tSound Manager \n"
     ]
    }
   ],
   "source": [
    "topic_proportions = lda.transform(tf)\n",
    "for i in range(11):\n",
    "    idx = np.argsort(topic_proportions[:,i])\n",
    "    df[\"temp\"] = idx # order\n",
    "    sorted_df = df.sort_values(by=[\"temp\"], ascending=False)[[\"App\", \"Number of ratings\"]]\n",
    "    app_names = sorted_df[sorted_df[\"Number of ratings\"]>1000].head(n=3)[\"App\"]\n",
    "    print(\"Topic #\" + str(i) + \":\")\n",
    "    for app in app_names:\n",
    "        print(\"\\t\" + app, end = \" \")\n",
    "    print()"
   ]
  },
  {
   "cell_type": "markdown",
   "metadata": {},
   "source": [
    "### 2.1.2. Non-negative Matrix Factorization \n",
    "\n",
    "NMF differs from LDA in the fact that instead of relying on probabilistic modelling, NMF relies on linear algebra. Both of them take as input, bag of words matrix and aim of each algorithm is then to produce 2 smaller matrices; a document to topic matrix and a word to topic matrix that when multiplied together reproduce the bag of words matrix with the lowest error.\n",
    "\n",
    "The initialisation parameters and the documentation can be viewed from http://scikit-learn.org/stable/modules/generated/sklearn.decomposition.NMF.html"
   ]
  },
  {
   "cell_type": "code",
   "execution_count": 13,
   "metadata": {},
   "outputs": [],
   "source": [
    "from sklearn.decomposition import NMF\n",
    "\n",
    "nmf = NMF(n_components=11, random_state = 1, alpha =.1, l1_ratio=.5, init = 'nndsvd').fit(tf)"
   ]
  },
  {
   "cell_type": "code",
   "execution_count": 14,
   "metadata": {},
   "outputs": [
    {
     "name": "stdout",
     "output_type": "stream",
     "text": [
      "\n",
      "Topics in NMF model: \n",
      "\n",
      "Topic #0:br airport new la exile 10 2011 feature state support radio gt travel hajj unit english 少女時代 le quote list galaxy madina ticket trick image sound version black red 11 set en chapter language function mode 3d world 12 magic\n",
      "======================================================================\n",
      "\n",
      "Topic #1:com http www google target href _blank url usg bit ly facebook twitter android site org news net mobile baby support school map uk application visit sound youtube mailto web detail en market gt info video website source download free\n",
      "======================================================================\n",
      "\n",
      "Topic #2:quot select screen button set menu click press gt work use problem animated like just installed o mode setting came great tap picture time 480 image best photo device phone le later version key want page deck requirement character touch\n",
      "======================================================================\n",
      "\n",
      "Topic #3:game block puzzle play kid time player fun right level like free score line rule pair cancelled left best make world memory click quiz skill basic piece straight team friend way design sound mode cancel child math know try lot\n",
      "======================================================================\n",
      "\n",
      "Topic #4:wallpaper live setting size card select sd screen application background phone resolution set choose save beautiful option gt frame second speed menu home tablet tag check water 480 image 20 change following o download flower manage added press button 3d\n",
      "======================================================================\n",
      "\n",
      "Topic #5:app time feature use application free information new version list need user make just contact location device email like help view number apps want phone text data message screen photo friend video note easy available access support best using add\n",
      "======================================================================\n",
      "\n",
      "Topic #6:book ebook menu reading apps option using quality select medium mark digimediaapps digi text classic bible content length available search font turned colour linked supplied read app android phone www page reader chapter need day luther turn setting title enjoy\n",
      "======================================================================\n",
      "\n",
      "Topic #7:theme icon gt launcher widget sskin adw home ex market app custom apply keyboard menu sm pro setting select clock pack press search apps dock application install skin screen change new wallpaper butterfly use installed support work replacement launcherpro email\n",
      "======================================================================\n",
      "\n",
      "Topic #8:word dictionary language search english pronunciation learn card 000 letter puzzle vocabulary phrase help quiz fast reference german spanish learning audio easy translation collins msdict feature french used russian use available new italian quick keyboard ability format online filter need\n",
      "======================================================================\n",
      "\n",
      "Topic #9:tv live news mobile cricket online free channel watch sport newspaper india internet time streaming video television star match latest stream cnn team daily window world samsung score br post today football uk hindi herald league new software network cable\n",
      "======================================================================\n",
      "\n",
      "Topic #10:android phone map xperia htc device aquos galaxy application market sony ericsson optimus samsung id model motorola screen detail sh com smartphone o pro support data battery widget sc offline desire regza version 01c file softbank note compatible mini mobile\n",
      "======================================================================\n"
     ]
    }
   ],
   "source": [
    "n_top_words = 40\n",
    "print(\"\\nTopics in NMF model: \")\n",
    "tf_feature_names = tf_vectorizer.get_feature_names()\n",
    "print_top_words(nmf, tf_feature_names, n_top_words)"
   ]
  },
  {
   "cell_type": "markdown",
   "metadata": {},
   "source": [
    "#### Interpretations of Topics for NMF: \n",
    "\n",
    " * Topic 10: Difficult to identify but it could probably be some of the start up applications as we see task manager and launch words specific \n",
    " to different phone models\n",
    " * Topic 9: News Apps most probably corresponding specifically to sports that probably picks up news from different sources like news app on ios\n",
    " * Topic 8: Dictionary or language learning applications \n",
    " * Topic 7: Apps corresponding to modifying the widgets, wall papers. Widget managers etc\n",
    " * Topic 6: From the words it is most likely a media player applications and pdf viewers to view documents\n",
    " * Topic 5: Contact manager that has access to internet, email, gps etc.\n",
    " * Topic 4: Difficult to identify but mostly a camera or gallery app since setting as wall paper and quality are mostly in focus\n",
    " * Topic 3: Apps involving games that allow challenging friends etc.\n",
    " German language app since the data contains information from all applications from play store across the world\n",
    " * Topic 2: Different language so difficult to interpret\n",
    " * Topic 1: Social Media application or email, chat messengers\n",
    " * Topic 0: From the words it might actually contain religious apps with information on religious trips etc.\n"
   ]
  },
  {
   "cell_type": "markdown",
   "metadata": {},
   "source": [
    "#### For each topic, we list the top 3 highest rated applications based on probbability distribution assigned (Similar to LDA)"
   ]
  },
  {
   "cell_type": "code",
   "execution_count": 15,
   "metadata": {},
   "outputs": [
    {
     "name": "stdout",
     "output_type": "stream",
     "text": [
      "Topic #0:\n",
      "\tSmartBar \tpiBalance \tSimplified Cangjie keyboard \n",
      "Topic #1:\n",
      "\tGoogle Maps \tImIN \tMeContacts \n",
      "Topic #2:\n",
      "\tWaveSecure UPA \tMini Android Defense (v1.0.8) \tSpira Defence \n",
      "Topic #3:\n",
      "\tNummerUglen \tFML F*ck my life + widget \tCGV ???????????? \n",
      "Topic #4:\n",
      "\tBathingCat \tAutoResizeWallpaper \tLumbricidae \n",
      "Topic #5:\n",
      "\tQIWI Wallet \tLexic \tByteTornado Downloader \n",
      "Topic #6:\n",
      "\tGoogle Maps \tHeads or Tails \tAura for EVE Online \n",
      "Topic #7:\n",
      "\tAfrican Scene LITE \tHealth & Finances Tracker ★ \tDead Rider Free \n",
      "Topic #8:\n",
      "\tSouthern Weekly News Reader \tHandcent SMS Korean Language P \tGroupy / contact by group \n",
      "Topic #9:\n",
      "\tSpy Camera Lite \tEnergy Radio \tAndroid TreinTijden Lite \n",
      "Topic #10:\n",
      "\tImIN \tPop Pop Popcorn \tFreebox Mobile \n"
     ]
    }
   ],
   "source": [
    "topic_proportions = nmf.transform(tf)\n",
    "for i in range(11):\n",
    "    idx = np.argsort(topic_proportions[:,i])\n",
    "    df[\"temp\"] = idx # order\n",
    "    sorted_df = df.sort_values(by=[\"temp\"], ascending=False)[[\"App\", \"Number of ratings\"]]\n",
    "    app_names = sorted_df[sorted_df[\"Number of ratings\"]>1000].head(n=3)[\"App\"]\n",
    "    print(\"Topic #\" + str(i) + \":\")\n",
    "    for app in app_names:\n",
    "        print(\"\\t\" + app, end = \" \")\n",
    "    print()"
   ]
  },
  {
   "cell_type": "markdown",
   "metadata": {},
   "source": [
    "### Conclusion for Topic Modelling\n",
    "\n",
    "From above we see that both of them almost do an equally good job at identifying the underlying topics using the text of the description for each application on the play store. In addition when we look at the top apps(by ratings in each topic, we see most of them are not related to our interpretation which is understandable since we have more than 180,000 applications in total based on which Topics are identified.\n",
    "\n",
    "We have only touched the surface of this dataset; many more insights remain to be uncovered. Come up with more questions and *data-driven* answers to them. Some example questions:\n",
    "\n",
    "   - Is there any relation between topics derived based on Malware and Non-Malware applications. Which topics contain mostly malware applications?\n",
    "   - Is the categorization that the Android app store provides adequate? Are the topics within a category homogenous? Can you suggest an alternate categorization?\n",
    "\n",
    "We use a different data set to identify or try to differentiate between Malware and Non-Malware Applications by visualizing application permissions using T-SNE"
   ]
  },
  {
   "cell_type": "markdown",
   "metadata": {},
   "source": [
    "### 3. Visualizing Malware Applications from a different dataset\n",
    "\n",
    "This dataset contains Android app permissions labelled with whether they were malware or not: https://www.kaggle.com/xwolf12/datasetandroidpermissions\n",
    "\n",
    "Below we make a small attempt towards trying to do outlier detection using dimensionality reduction to identify a boundary seperating malware and normal applications. This can be extended further extended to developing an anamoly detection model(beyond scope of the tutorial) using clustering to identify malware applications based on the permissions sought after by the application. \n",
    "\n",
    "To start with we use T-SNE representation to represent all permissions across a 2-Dimensional space and try to visualize the difference in Malware and Non-Malware applications based on the permissions they require. T-sne or t-Distributed Stochastic Neighbor Embedding is a non-linear dimensionality reduction algorithm used for exploring high-dimensional data. It maps multi-dimensional data to two or more dimensions suitable for human observation. Unlike PCA that does a slightly similar job, T-SNE is successful in also caputuring non-linear structures in data"
   ]
  },
  {
   "cell_type": "code",
   "execution_count": 58,
   "metadata": {},
   "outputs": [
    {
     "data": {
      "text/plain": [
       "(398, 331)"
      ]
     },
     "execution_count": 58,
     "metadata": {},
     "output_type": "execute_result"
    }
   ],
   "source": [
    "df_malware = pd.read_csv(\"train.csv\", sep=\";\",  thousands=\",\")\n",
    "df_malware.shape"
   ]
  },
  {
   "cell_type": "code",
   "execution_count": 70,
   "metadata": {},
   "outputs": [
    {
     "name": "stdout",
     "output_type": "stream",
     "text": [
      "(398, 331)\n"
     ]
    },
    {
     "data": {
      "text/html": [
       "<div>\n",
       "<style scoped>\n",
       "    .dataframe tbody tr th:only-of-type {\n",
       "        vertical-align: middle;\n",
       "    }\n",
       "\n",
       "    .dataframe tbody tr th {\n",
       "        vertical-align: top;\n",
       "    }\n",
       "\n",
       "    .dataframe thead th {\n",
       "        text-align: right;\n",
       "    }\n",
       "</style>\n",
       "<table border=\"1\" class=\"dataframe\">\n",
       "  <thead>\n",
       "    <tr style=\"text-align: right;\">\n",
       "      <th></th>\n",
       "      <th>android</th>\n",
       "      <th>android.app.cts.permission.TEST_GRANTED</th>\n",
       "      <th>android.intent.category.MASTER_CLEAR.permission.C2D_MESSAGE</th>\n",
       "      <th>android.os.cts.permission.TEST_GRANTED</th>\n",
       "      <th>android.permission.ACCESS_ALL_DOWNLOADS</th>\n",
       "      <th>android.permission.ACCESS_ALL_EXTERNAL_STORAGE</th>\n",
       "      <th>android.permission.ACCESS_BLUETOOTH_SHARE</th>\n",
       "      <th>android.permission.ACCESS_CACHE_FILESYSTEM</th>\n",
       "      <th>android.permission.ACCESS_CHECKIN_PROPERTIES</th>\n",
       "      <th>android.permission.ACCESS_COARSE_LOCATION</th>\n",
       "      <th>...</th>\n",
       "      <th>com.android.voicemail.permission.WRITE_VOICEMAIL</th>\n",
       "      <th>com.foo.mypermission</th>\n",
       "      <th>com.foo.mypermission2</th>\n",
       "      <th>org.chromium.chrome.shell.permission.C2D_MESSAGE</th>\n",
       "      <th>org.chromium.chrome.shell.permission.DEBUG</th>\n",
       "      <th>org.chromium.chrome.shell.permission.SANDBOX</th>\n",
       "      <th>org.chromium.chromecast.shell.permission.SANDBOX</th>\n",
       "      <th>org.chromium.content_shell.permission.SANDBOX</th>\n",
       "      <th>test_permission</th>\n",
       "      <th>type</th>\n",
       "    </tr>\n",
       "  </thead>\n",
       "  <tbody>\n",
       "    <tr>\n",
       "      <th>0</th>\n",
       "      <td>0</td>\n",
       "      <td>0</td>\n",
       "      <td>0</td>\n",
       "      <td>0</td>\n",
       "      <td>0</td>\n",
       "      <td>0</td>\n",
       "      <td>0</td>\n",
       "      <td>0</td>\n",
       "      <td>0</td>\n",
       "      <td>0</td>\n",
       "      <td>...</td>\n",
       "      <td>0</td>\n",
       "      <td>0</td>\n",
       "      <td>0</td>\n",
       "      <td>0</td>\n",
       "      <td>0</td>\n",
       "      <td>0</td>\n",
       "      <td>0</td>\n",
       "      <td>0</td>\n",
       "      <td>0</td>\n",
       "      <td>1</td>\n",
       "    </tr>\n",
       "    <tr>\n",
       "      <th>1</th>\n",
       "      <td>0</td>\n",
       "      <td>0</td>\n",
       "      <td>0</td>\n",
       "      <td>0</td>\n",
       "      <td>0</td>\n",
       "      <td>0</td>\n",
       "      <td>0</td>\n",
       "      <td>0</td>\n",
       "      <td>0</td>\n",
       "      <td>0</td>\n",
       "      <td>...</td>\n",
       "      <td>0</td>\n",
       "      <td>0</td>\n",
       "      <td>0</td>\n",
       "      <td>0</td>\n",
       "      <td>0</td>\n",
       "      <td>0</td>\n",
       "      <td>0</td>\n",
       "      <td>0</td>\n",
       "      <td>0</td>\n",
       "      <td>1</td>\n",
       "    </tr>\n",
       "    <tr>\n",
       "      <th>2</th>\n",
       "      <td>0</td>\n",
       "      <td>0</td>\n",
       "      <td>0</td>\n",
       "      <td>0</td>\n",
       "      <td>0</td>\n",
       "      <td>0</td>\n",
       "      <td>0</td>\n",
       "      <td>0</td>\n",
       "      <td>0</td>\n",
       "      <td>0</td>\n",
       "      <td>...</td>\n",
       "      <td>0</td>\n",
       "      <td>0</td>\n",
       "      <td>0</td>\n",
       "      <td>0</td>\n",
       "      <td>0</td>\n",
       "      <td>0</td>\n",
       "      <td>0</td>\n",
       "      <td>0</td>\n",
       "      <td>0</td>\n",
       "      <td>1</td>\n",
       "    </tr>\n",
       "    <tr>\n",
       "      <th>3</th>\n",
       "      <td>0</td>\n",
       "      <td>0</td>\n",
       "      <td>0</td>\n",
       "      <td>0</td>\n",
       "      <td>0</td>\n",
       "      <td>0</td>\n",
       "      <td>0</td>\n",
       "      <td>0</td>\n",
       "      <td>0</td>\n",
       "      <td>0</td>\n",
       "      <td>...</td>\n",
       "      <td>0</td>\n",
       "      <td>0</td>\n",
       "      <td>0</td>\n",
       "      <td>0</td>\n",
       "      <td>0</td>\n",
       "      <td>0</td>\n",
       "      <td>0</td>\n",
       "      <td>0</td>\n",
       "      <td>0</td>\n",
       "      <td>1</td>\n",
       "    </tr>\n",
       "    <tr>\n",
       "      <th>4</th>\n",
       "      <td>0</td>\n",
       "      <td>0</td>\n",
       "      <td>0</td>\n",
       "      <td>0</td>\n",
       "      <td>0</td>\n",
       "      <td>0</td>\n",
       "      <td>0</td>\n",
       "      <td>0</td>\n",
       "      <td>0</td>\n",
       "      <td>0</td>\n",
       "      <td>...</td>\n",
       "      <td>0</td>\n",
       "      <td>0</td>\n",
       "      <td>0</td>\n",
       "      <td>0</td>\n",
       "      <td>0</td>\n",
       "      <td>0</td>\n",
       "      <td>0</td>\n",
       "      <td>0</td>\n",
       "      <td>0</td>\n",
       "      <td>1</td>\n",
       "    </tr>\n",
       "  </tbody>\n",
       "</table>\n",
       "<p>5 rows × 331 columns</p>\n",
       "</div>"
      ],
      "text/plain": [
       "   android  android.app.cts.permission.TEST_GRANTED  \\\n",
       "0        0                                        0   \n",
       "1        0                                        0   \n",
       "2        0                                        0   \n",
       "3        0                                        0   \n",
       "4        0                                        0   \n",
       "\n",
       "   android.intent.category.MASTER_CLEAR.permission.C2D_MESSAGE  \\\n",
       "0                                                  0             \n",
       "1                                                  0             \n",
       "2                                                  0             \n",
       "3                                                  0             \n",
       "4                                                  0             \n",
       "\n",
       "   android.os.cts.permission.TEST_GRANTED  \\\n",
       "0                                       0   \n",
       "1                                       0   \n",
       "2                                       0   \n",
       "3                                       0   \n",
       "4                                       0   \n",
       "\n",
       "   android.permission.ACCESS_ALL_DOWNLOADS  \\\n",
       "0                                        0   \n",
       "1                                        0   \n",
       "2                                        0   \n",
       "3                                        0   \n",
       "4                                        0   \n",
       "\n",
       "   android.permission.ACCESS_ALL_EXTERNAL_STORAGE  \\\n",
       "0                                               0   \n",
       "1                                               0   \n",
       "2                                               0   \n",
       "3                                               0   \n",
       "4                                               0   \n",
       "\n",
       "   android.permission.ACCESS_BLUETOOTH_SHARE  \\\n",
       "0                                          0   \n",
       "1                                          0   \n",
       "2                                          0   \n",
       "3                                          0   \n",
       "4                                          0   \n",
       "\n",
       "   android.permission.ACCESS_CACHE_FILESYSTEM  \\\n",
       "0                                           0   \n",
       "1                                           0   \n",
       "2                                           0   \n",
       "3                                           0   \n",
       "4                                           0   \n",
       "\n",
       "   android.permission.ACCESS_CHECKIN_PROPERTIES  \\\n",
       "0                                             0   \n",
       "1                                             0   \n",
       "2                                             0   \n",
       "3                                             0   \n",
       "4                                             0   \n",
       "\n",
       "   android.permission.ACCESS_COARSE_LOCATION  ...   \\\n",
       "0                                          0  ...    \n",
       "1                                          0  ...    \n",
       "2                                          0  ...    \n",
       "3                                          0  ...    \n",
       "4                                          0  ...    \n",
       "\n",
       "   com.android.voicemail.permission.WRITE_VOICEMAIL  com.foo.mypermission  \\\n",
       "0                                                 0                     0   \n",
       "1                                                 0                     0   \n",
       "2                                                 0                     0   \n",
       "3                                                 0                     0   \n",
       "4                                                 0                     0   \n",
       "\n",
       "   com.foo.mypermission2  org.chromium.chrome.shell.permission.C2D_MESSAGE  \\\n",
       "0                      0                                                 0   \n",
       "1                      0                                                 0   \n",
       "2                      0                                                 0   \n",
       "3                      0                                                 0   \n",
       "4                      0                                                 0   \n",
       "\n",
       "   org.chromium.chrome.shell.permission.DEBUG  \\\n",
       "0                                           0   \n",
       "1                                           0   \n",
       "2                                           0   \n",
       "3                                           0   \n",
       "4                                           0   \n",
       "\n",
       "   org.chromium.chrome.shell.permission.SANDBOX  \\\n",
       "0                                             0   \n",
       "1                                             0   \n",
       "2                                             0   \n",
       "3                                             0   \n",
       "4                                             0   \n",
       "\n",
       "   org.chromium.chromecast.shell.permission.SANDBOX  \\\n",
       "0                                                 0   \n",
       "1                                                 0   \n",
       "2                                                 0   \n",
       "3                                                 0   \n",
       "4                                                 0   \n",
       "\n",
       "   org.chromium.content_shell.permission.SANDBOX  test_permission  type  \n",
       "0                                              0                0     1  \n",
       "1                                              0                0     1  \n",
       "2                                              0                0     1  \n",
       "3                                              0                0     1  \n",
       "4                                              0                0     1  \n",
       "\n",
       "[5 rows x 331 columns]"
      ]
     },
     "execution_count": 70,
     "metadata": {},
     "output_type": "execute_result"
    }
   ],
   "source": [
    "print(df_malware.shape)\n",
    "df_malware.head(n=5)\n",
    "#df_malware.columns.values[10]"
   ]
  },
  {
   "cell_type": "code",
   "execution_count": 71,
   "metadata": {},
   "outputs": [],
   "source": [
    "matching = [s for s in df_malware.columns.values if \"type\" in s]"
   ]
  },
  {
   "cell_type": "code",
   "execution_count": 72,
   "metadata": {},
   "outputs": [
    {
     "name": "stdout",
     "output_type": "stream",
     "text": [
      "[t-SNE] Computing 121 nearest neighbors...\n",
      "[t-SNE] Indexed 398 samples in 0.004s...\n",
      "[t-SNE] Computed neighbors for 398 samples in 0.113s...\n",
      "[t-SNE] Computed conditional probabilities for sample 398 / 398\n",
      "[t-SNE] Mean sigma: 0.598256\n",
      "[t-SNE] KL divergence after 250 iterations with early exaggeration: 55.247631\n",
      "[t-SNE] Error after 1000 iterations: 0.288918\n",
      "CPU times: user 7.76 s, sys: 735 ms, total: 8.49 s\n",
      "Wall time: 8.44 s\n"
     ]
    }
   ],
   "source": [
    "%%time\n",
    "from sklearn.manifold import TSNE\n",
    "modified_malware = df_malware.as_matrix()\n",
    "m_tsne = TSNE(n_components=2, verbose=1, perplexity=40,angle=0.99,init = 'pca',learning_rate=100.0)\n",
    "m_tsne_features = m_tsne.fit_transform(modified_malware)"
   ]
  },
  {
   "cell_type": "code",
   "execution_count": 73,
   "metadata": {},
   "outputs": [],
   "source": [
    "import warnings\n",
    "warnings.filterwarnings('ignore')\n",
    "from ggplot import *\n",
    "mal_dataframe = pd.DataFrame({'M_X':m_tsne_features[:, 0].tolist(), 'M_Y':m_tsne_features[:, 1].tolist()})\n",
    "#category_list_df= pd.DataFrame({'Category':category_list})\n",
    "final_mal = pd.concat((mal_dataframe,df_malware[df_malware.columns[330]]),axis=1)"
   ]
  },
  {
   "cell_type": "code",
   "execution_count": 75,
   "metadata": {},
   "outputs": [],
   "source": [
    "import warnings\n",
    "warnings.filterwarnings('ignore')\n",
    "for i in range(len(final_mal['type'])):\n",
    "    if final_mal['type'][i]=='0':\n",
    "        final_mal['type'][i] = \"Benign\" \n",
    "    else:\n",
    "        final_mal['type'][i] = \"Malware\""
   ]
  },
  {
   "cell_type": "code",
   "execution_count": 76,
   "metadata": {},
   "outputs": [
    {
     "data": {
      "image/png": "[encoded data removed]",
      "text/plain": [
       "<matplotlib.figure.Figure at 0x12cf4e0b8>"
      ]
     },
     "metadata": {},
     "output_type": "display_data"
    },
    {
     "data": {
      "text/plain": [
       "<ggplot: (-9223372036563915737)>"
      ]
     },
     "execution_count": 76,
     "metadata": {},
     "output_type": "execute_result"
    }
   ],
   "source": [
    "ggplot(final_mal,aes(x='M_X',y='M_Y',color = 'type')) + geom_point()"
   ]
  },
  {
   "cell_type": "markdown",
   "metadata": {},
   "source": [
    "### 4. Interpretation for Malware and Non-Malware Applications Visualization using T-SNE\n",
    "\n",
    "We can see that when projected on two components all the malware applications lie on the lower Y component spectrum and all the benign or non malware applications lie on the higher Y value of the spectrum and hence we can see clear clusters being formed more distinctly in the plt.scatter plot. Visually T-SNE helps clearly segregate the Malware and benign apps based on the X and Y components, this can be extended to implement a clustering algorithm to identify malware applications based on permissions being sought by the application"
   ]
  }
 ],
 "metadata": {
  "kernelspec": {
   "display_name": "Python 3",
   "language": "python",
   "name": "python3"
  },
  "language_info": {
   "codemirror_mode": {
    "name": "ipython",
    "version": 3
   },
   "file_extension": ".py",
   "mimetype": "text/x-python",
   "name": "python",
   "nbconvert_exporter": "python",
   "pygments_lexer": "ipython3",
   "version": "3.6.4"
  }
 },
 "nbformat": 4,
 "nbformat_minor": 2
}