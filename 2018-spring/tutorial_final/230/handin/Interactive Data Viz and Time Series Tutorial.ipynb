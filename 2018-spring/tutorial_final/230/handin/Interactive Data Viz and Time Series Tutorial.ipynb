{
 "cells": [
  {
   "cell_type": "markdown",
   "metadata": {},
   "source": [
    "# Tutorial: Interactive Data Viz with Plotly\n",
    "#### March 30, 2018\n",
    "#### 15-388 Practical Data Science, CMU"
   ]
  },
  {
   "cell_type": "markdown",
   "metadata": {},
   "source": [
    "## 1.1 Introduction\n",
    "\n",
    "Note: this tutorial can be viewed through nbviewer http://nbviewer.jupyter.org/github/sarahshy/PDS/blob/master/Interactive%20Data%20Viz%20and%20Time%20Series%20Tutorial.ipynb?flush_cache=false.\n",
    "\n",
    "This tutorial will introduce the basics of using Plotly for interactive data visualization. Visualizing data through graphs and plots lets us to explore patterns, trends, and even interactions between covariates. Adding an interactive element allows us to further break down these patterns over time or by another variable, as you will see later on. Many bloggers and news outlets are turning to interactive graphs to demonstrate their data-driven conclusions as they are more fun and easier to understand by the common reader. See the Wall Street Journal for some fun examples: http://graphics.wsj.com/wsj-interactives-2015/.\n",
    "\n",
    "### Tutorial Content\n",
    "\n",
    "In this tutorial, we will cover how the Plotly for Python library can be used for 3 different kinds of visualizations: histograms, time series plots, and mapping geospatial data. We will use the Austin bikeshare data as an example of application.\n",
    "\n",
    "We will also use the cufflinks and pandas libraries for Python. Cufflinks binds plotly and pandas nicely so we can use plotly directly on pandas dataframes.\n",
    "\n",
    "We will cover the following:\n",
    "1. [Installing the libraries](#installing-the-libraries)\n",
    "-  [Load the data](#load-the-data)\n",
    "- [Plotting histograms](#plotting-histograms)\n",
    "    - [Adding interaction to histograms](#interact-histograms)\n",
    "- [Plotting time series](#plotting-time-series)\n",
    "    - [Adding interaction to time series](#interact-time-series)\n",
    "- [Plotting geospatial data](#plot-spatial)"
   ]
  },
  {
   "cell_type": "markdown",
   "metadata": {},
   "source": [
    "<a id='installing-the-libraries'></a>"
   ]
  },
  {
   "cell_type": "markdown",
   "metadata": {},
   "source": [
    "## 1.2 Installing Plotly"
   ]
  },
  {
   "cell_type": "markdown",
   "metadata": {},
   "source": [
    "Before we start, we'll need to install plotly and load the libraries we'll be using throughout the tutorial.\n",
    "\n",
    "You can install plotly using:\n",
    "\n",
    "    \\$ pip install plotly"
   ]
  },
  {
   "cell_type": "code",
   "execution_count": 4,
   "metadata": {},
   "outputs": [],
   "source": [
    "#load libraries\n",
    "\n",
    "import pandas as pd\n",
    "import plotly.plotly as py\n",
    "import plotly.tools as tls\n",
    "import cufflinks as cf"
   ]
  },
  {
   "cell_type": "markdown",
   "metadata": {},
   "source": [
    "<a id='load-the-data'></a>"
   ]
  },
  {
   "cell_type": "markdown",
   "metadata": {},
   "source": [
    "## 2. Load the Data\n",
    "\n",
    "For this tutorial, we will use the Austin bikeshare data. A description of the service can be found here: https://austinbcycle.com/how-it-works/faqs. The CSV files can be downloaded from Kaggle: https://www.kaggle.com/jboysen/austin-bike.\n",
    "\n",
    "### Description of the data\n",
    "\n",
    "We have two datasets: *austin_bikeshare_trips.csv* and *austin_bikeshare_stations.csv*.\n",
    "The first contains information about all individual trips taken between December 2013 and May 2017. The second dataset contains information about the bike stations spread out across Austin, TX.\n",
    "\n",
    "### Our variables\n",
    "The _bike trips_ dataset contains the following variables:\n",
    "-  bikeid: integer id of bike\n",
    "-  checkout_time: HH:MM:SS, see start time for date stamp\n",
    "-  duration_minutes: integer minutes of trip duration\n",
    "-  end_station_id: integer id of end station\n",
    "-  end_station_name: string of end station name\n",
    "-  month: month, integer (1 = January)\n",
    "-  start_station_id: integer id of start station\n",
    "-  start_station_name: string of start station name\n",
    "-  start_time: YYYY-MM-DD HH:MM:SS, string\n",
    "-  subscriber_type: membership type\n",
    "-  trip_id: unique trip id, int\n",
    "-  year: year of trip, int\n",
    "\n",
    "\n",
    "The _bike stations_ dataset contains the following variables:\n",
    "-  latitude: geospatial latitude, precision to 5 places\n",
    "-  location: (lat, lon)\n",
    "-  longitude: geospatial longitude, precision to 5 places\n",
    "-  name: station name, str\n",
    "-  stations_id: unique station id, int\n",
    "-  status: station status (active, closed, moved, ACL-only), ACL is a music festival\n",
    "\n",
    "\n",
    "_Note: variable definitions were taken from the dataset's Kaggle description: https://www.kaggle.com/jboysen/austin-bike._\n",
    "\n",
    "### Loading data\n",
    "\n",
    "We can use the pandas *read_csv* function to load our data. To simplify, we will call our datasets *bike_trips* and *bike_stations*, respectively."
   ]
  },
  {
   "cell_type": "code",
   "execution_count": 2,
   "metadata": {},
   "outputs": [],
   "source": [
    "#load data\n",
    "bike_trips = pd.read_csv(\"austin_bikeshare_trips.csv\")\n",
    "bike_stations = pd.read_csv(\"austin_bikeshare_stations.csv\")"
   ]
  },
  {
   "cell_type": "markdown",
   "metadata": {},
   "source": [
    "Let's take a quick look at our data."
   ]
  },
  {
   "cell_type": "code",
   "execution_count": 52,
   "metadata": {},
   "outputs": [
    {
     "name": "stdout",
     "output_type": "stream",
     "text": [
      "   bikeid checkout_time  duration_minutes  end_station_id  \\\n",
      "0     8.0      19:12:00                41          2565.0   \n",
      "1   141.0       2:06:04                 6          2570.0   \n",
      "2   578.0      16:28:27                13          2498.0   \n",
      "3   555.0      15:12:00                80          2712.0   \n",
      "4    86.0      15:39:13                25          3377.0   \n",
      "\n",
      "                           end_station_name  month  start_station_id  \\\n",
      "0                      Trinity & 6th Street    3.0            2536.0   \n",
      "1                  South Congress & Academy   10.0            2494.0   \n",
      "2   Convention Center / 4th St. @ MetroRail    3.0            2538.0   \n",
      "3                   Toomey Rd @ South Lamar   11.0            2497.0   \n",
      "4  MoPac Pedestrian Bridge @ Veterans Drive    4.0            2707.0   \n",
      "\n",
      "                  start_station_name           start_time  \\\n",
      "0                   Waller & 6th St.  2015-03-19 19:12:00   \n",
      "1                     2nd & Congress  2016-10-30 02:06:04   \n",
      "2    Bullock Museum @ Congress & MLK  2016-03-11 16:28:27   \n",
      "3  Capitol Station / Congress & 11th  2014-11-23 15:12:00   \n",
      "4               Rainey St @ Cummings  2017-04-16 15:39:13   \n",
      "\n",
      "                  subscriber_type     trip_id    year  \n",
      "0                         Walk Up  9900082882  2015.0  \n",
      "1                        Local365    12617682  2016.0  \n",
      "2                        Local365     9075366  2016.0  \n",
      "3  24-Hour Kiosk (Austin B-cycle)  9900319298  2014.0  \n",
      "4                         Walk Up    14468597  2017.0  \n",
      "   latitude              location  longitude                     name  \\\n",
      "0  30.27041  (30.27041 -97.75046)  -97.75046           West & 6th St.   \n",
      "1  30.26452   (30.26452 -97.7712)  -97.77120      Barton Springs Pool   \n",
      "2  30.27595  (30.27595 -97.74739)  -97.74739  ACC - Rio Grande & 12th   \n",
      "3  30.28480   (30.2848 -97.72756)  -97.72756  Red River & LBJ Library   \n",
      "4  30.26694  (30.26694 -97.74939)  -97.74939             Nueces @ 3rd   \n",
      "\n",
      "   station_id  status  \n",
      "0        2537  active  \n",
      "1        2572  active  \n",
      "2        2545  closed  \n",
      "3        1004  closed  \n",
      "4        1008   moved  \n"
     ]
    }
   ],
   "source": [
    "print(bike_trips.head())\n",
    "print(bike_stations.head())"
   ]
  },
  {
   "cell_type": "code",
   "execution_count": 31,
   "metadata": {},
   "outputs": [
    {
     "name": "stdout",
     "output_type": "stream",
     "text": [
      "(649231, 12)\n",
      "(72, 6)\n"
     ]
    }
   ],
   "source": [
    "# Dataset size\n",
    "print(bike_trips.shape) #649231 by 12\n",
    "print(bike_stations.shape) #72 by 6"
   ]
  },
  {
   "cell_type": "markdown",
   "metadata": {},
   "source": [
    "In our *bike_trips* dataset, we have **649,231** individual trips and 12 variables.\n",
    "\n",
    "In our *bike_stations* dataset, we have **72** bike stations and 6 variables."
   ]
  },
  {
   "cell_type": "markdown",
   "metadata": {},
   "source": [
    "### Checking for missing data\n",
    "\n",
    "Before we proceed with any analysis or graphing, we check if we have rows containing missing data. We could further analyze why the data is missing, however, this is outside the scope of this tutorial. We will therefore remove rows with missing data."
   ]
  },
  {
   "cell_type": "code",
   "execution_count": 53,
   "metadata": {},
   "outputs": [
    {
     "name": "stdout",
     "output_type": "stream",
     "text": [
      "(581625, 12)\n"
     ]
    }
   ],
   "source": [
    "#number of rows with missing data in bike_trips\n",
    "len(bike_trips[pd.isnull(bike_trips).any(axis=1)])\n",
    "\n",
    "#number of rows with missing data in bike_stations\n",
    "len(bike_stations[pd.isnull(bike_stations).any(axis=1)])\n",
    "\n",
    "#remove rows with missing data\n",
    "bike_trips_clean = bike_trips\n",
    "bike_trips_clean = bike_trips.dropna()\n",
    "\n",
    "#new dataset size\n",
    "print(bike_trips_clean.shape)"
   ]
  },
  {
   "cell_type": "markdown",
   "metadata": {},
   "source": [
    "There were 67,606 rows in *bike_trips* with missing data. The cleaned dataset is called *bike_trips_clean* and has 581,625 trips.\n",
    "\n",
    "There were 0 rows in *bike_stations* with missing data."
   ]
  },
  {
   "cell_type": "markdown",
   "metadata": {},
   "source": [
    "<a id='plotting-histograms'></a>"
   ]
  },
  {
   "cell_type": "markdown",
   "metadata": {},
   "source": [
    "## 3.1 Plotting Histograms: Trip Duration"
   ]
  },
  {
   "cell_type": "markdown",
   "metadata": {},
   "source": [
    "We'll focus on the trip data first and look at stations later on. The cufflnks library allows us to plot our dataframe easily using 'df.iplot'.\n",
    "\n",
    "Notice that we only plot trips shorter than 3 hours. This is because our histogram will otherwise have a long tail. Since the service is meant to be used for short trips through the city, we expect the bulk of our data to lie below 60 minutes.\n",
    "\n",
    "Note that we receive a default warning that our dataset is rather large. This is simply a warning rather than an error and the plot output is correct."
   ]
  },
  {
   "cell_type": "code",
   "execution_count": 42,
   "metadata": {},
   "outputs": [
    {
     "name": "stderr",
     "output_type": "stream",
     "text": [
      "/Users/sarahshy/anaconda3/lib/python3.6/site-packages/plotly/plotly/plotly.py:224: UserWarning:\n",
      "\n",
      "Woah there! Look at all those points! Due to browser limitations, the Plotly SVG drawing functions have a hard time graphing more than 500k data points for line charts, or 40k points for other types of charts. Here are some suggestions:\n",
      "(1) Use the `plotly.graph_objs.Scattergl` trace object to generate a WebGl graph.\n",
      "(2) Trying using the image API to return an image instead of a graph URL\n",
      "(3) Use matplotlib\n",
      "(4) See if you can create your visualization with fewer data points\n",
      "\n",
      "If the visualization you're using aggregates points (e.g., box plot, histogram, etc.) you can disregard this warning.\n",
      "\n"
     ]
    },
    {
     "data": {
      "text/html": [
       "<iframe id=\"igraph\" scrolling=\"no\" style=\"border:none;\" seamless=\"seamless\" src=\"https://plot.ly/~sarahshy/76.embed\" height=\"525px\" width=\"100%\"></iframe>"
      ],
      "text/plain": [
       "<plotly.tools.PlotlyDisplay object>"
      ]
     },
     "execution_count": 42,
     "metadata": {},
     "output_type": "execute_result"
    }
   ],
   "source": [
    "duration_data = bike_trips_clean.duration_minutes[bike_trips_clean.duration_minutes <= 180]\n",
    "\n",
    "layout = dict(title = \"Histogram of Bike Trip Duration\",\n",
    "              xaxis = dict(title = 'Trip Duration (Minutes)'),\n",
    "              yaxis = dict(title = 'Frequency'))\n",
    "\n",
    "duration_data.iplot(kind = 'histogram', layout = layout, filename = \"trip-duration\", bins = 72)"
   ]
  },
  {
   "cell_type": "markdown",
   "metadata": {},
   "source": [
    "We see that trips most commonly last between 5 and 9 minutes. As expected, the bulk of our data lies below an hour. So, users seem to be using the bikes the way they were intended.\n",
    "\n",
    "We might be interested in seeing how use changes over time. For example, we can hypothesize that trips in the winter are shorter than trips in the summer, when the weather is nice. We can use a dropdown menu that filters the seasons to test this."
   ]
  },
  {
   "cell_type": "markdown",
   "metadata": {},
   "source": [
    "<a id='interact-histograms'></a>"
   ]
  },
  {
   "cell_type": "markdown",
   "metadata": {},
   "source": [
    "## 3.2 Dropdowns: Adding interactivity to histograms"
   ]
  },
  {
   "cell_type": "markdown",
   "metadata": {},
   "source": [
    "The data does not immediately provide the season of each trip. Instead, we can use the month column to determine the season and label each trip with the appropriate string: 'fall', 'winter', spring', or 'summer'. We can convert this to a dataframe so we can plot it directly using *plotly*."
   ]
  },
  {
   "cell_type": "code",
   "execution_count": 10,
   "metadata": {},
   "outputs": [],
   "source": [
    "# label rows with season and convert to dataframe\n",
    "\n",
    "bike_seasons = pd.DataFrame({'fall': bike_trips_clean.duration_minutes[bike_trips_clean.month.between(9,11)][bike_trips_clean.duration_minutes <= 180],\n",
    "                   'winter': bike_trips_clean.duration_minutes[bike_trips_clean.month.isin([12,1,2])][bike_trips_clean.duration_minutes <= 180],\n",
    "                   'spring': bike_trips_clean.duration_minutes[bike_trips_clean.month.between(3,5)][bike_trips_clean.duration_minutes <= 180],\n",
    "                   'summer': bike_trips_clean.duration_minutes[bike_trips_clean.month.between(6,8)][bike_trips_clean.duration_minutes <= 180]\n",
    "                  })"
   ]
  },
  {
   "cell_type": "code",
   "execution_count": 18,
   "metadata": {
    "scrolled": true
   },
   "outputs": [],
   "source": [
    "# create menu buttons\n",
    "\n",
    "updatemenus = list([\n",
    "    dict(active = -1,\n",
    "        buttons=list([\n",
    "            dict(label = 'All',\n",
    "                method = 'update',\n",
    "                args = [{'visible': [True, True, True, True]},\n",
    "                        {'title': \"Duration of Trips by Season\"}]),\n",
    "            dict(label = 'Fall',\n",
    "                method = 'update',\n",
    "                args = [{'visible': [True, False, False, False]},\n",
    "                        {'title': 'Duration of Trips in Fall'}]),\n",
    "            dict(label = 'Winter',\n",
    "                method = 'update',\n",
    "                args = [{'visible': [False, False, False, True]},\n",
    "                        {'title': 'Duration of Trips in Winter'}]),\n",
    "            dict(label = 'Spring',\n",
    "                method = 'update',\n",
    "                args = [{'visible': [False, True, False, False]},\n",
    "                        {'title': 'Duration of Trips in Spring'}]),\n",
    "            dict(label = 'Summer',\n",
    "                method = 'update',\n",
    "                args = [{'visible': [False, False, True, False]},\n",
    "                        {'title': 'Duration of Trips in Summer'}])\n",
    "        ]),)\n",
    "])\n",
    "\n",
    "layout = dict(xaxis = dict(title = 'Trip Duration (Minutes)'),\n",
    "              yaxis = dict(title = 'Frequency', range = [0, 50000]),\n",
    "              updatemenus = updatemenus,\n",
    "              barmode='overlay',\n",
    "              showlegend = False)"
   ]
  },
  {
   "cell_type": "code",
   "execution_count": 19,
   "metadata": {},
   "outputs": [
    {
     "name": "stderr",
     "output_type": "stream",
     "text": [
      "/Users/sarahshy/anaconda3/lib/python3.6/site-packages/plotly/plotly/plotly.py:224: UserWarning:\n",
      "\n",
      "Woah there! Look at all those points! Due to browser limitations, the Plotly SVG drawing functions have a hard time graphing more than 500k data points for line charts, or 40k points for other types of charts. Here are some suggestions:\n",
      "(1) Use the `plotly.graph_objs.Scattergl` trace object to generate a WebGl graph.\n",
      "(2) Trying using the image API to return an image instead of a graph URL\n",
      "(3) Use matplotlib\n",
      "(4) See if you can create your visualization with fewer data points\n",
      "\n",
      "If the visualization you're using aggregates points (e.g., box plot, histogram, etc.) you can disregard this warning.\n",
      "\n"
     ]
    },
    {
     "data": {
      "text/html": [
       "<iframe id=\"igraph\" scrolling=\"no\" style=\"border:none;\" seamless=\"seamless\" src=\"https://plot.ly/~sarahshy/60.embed\" height=\"525px\" width=\"100%\"></iframe>"
      ],
      "text/plain": [
       "<plotly.tools.PlotlyDisplay object>"
      ]
     },
     "execution_count": 19,
     "metadata": {},
     "output_type": "execute_result"
    }
   ],
   "source": [
    "# plot\n",
    "bike_seasons.iplot(kind = 'histogram',\n",
    "                   barmode = 'overlay',\n",
    "                   filename = 'duration_by_season',\n",
    "                   layout = layout,\n",
    "                   bins = 72,\n",
    "                   shared_yaxes = True,\n",
    "                   theme = 'solar')"
   ]
  },
  {
   "cell_type": "markdown",
   "metadata": {},
   "source": [
    "We set the default to display all 4 seasons, overlapping one another. By hovering over the histogram with your mouse, you can compare the number of trips in each bin by season. Using the dropdown, we can filter through each of the seasons individually.\n",
    "\n",
    "By adding this dropdown, we see two notable patterns arise:\n",
    "1. Fall and Spring are the most popular times to use bikeshare.\n",
    "2. Regardless of season, 5-9 minutes is the most common trip length."
   ]
  },
  {
   "cell_type": "markdown",
   "metadata": {},
   "source": [
    "<a id='plotting-time-series'></a>"
   ]
  },
  {
   "cell_type": "markdown",
   "metadata": {},
   "source": [
    "## 4.1 Plotting Time Series: Rides Over Time"
   ]
  },
  {
   "cell_type": "markdown",
   "metadata": {},
   "source": [
    "Suppose we're further interested in how the popularity of this service has changed over time. Since we have data ranging from 2013 to 2017, we can inspect whether use has increased over time, decreased, or even if certain marketing campaigns have been effective.\n",
    "\n",
    "The start_time column has both time and date. To plot trips over time, we will only need the date. First, we will convert time to a datetime object so we can extract the date using '.dt.date'.\n",
    "\n",
    "We'll then count the number of rides taken on each day using the *groupby* function and plot the count over time."
   ]
  },
  {
   "cell_type": "code",
   "execution_count": 51,
   "metadata": {},
   "outputs": [],
   "source": [
    "# pull the date of each row\n",
    "bike_trips_clean.loc[:,'start_time'] = pd.to_datetime(bike_trips_clean['start_time']) #convert to datetime object\n",
    "bike_trips_clean.loc[:,'date'] = bike_trips_clean.start_time.dt.date"
   ]
  },
  {
   "cell_type": "code",
   "execution_count": 21,
   "metadata": {},
   "outputs": [
    {
     "name": "stdout",
     "output_type": "stream",
     "text": [
      "            trip_count\n",
      "date                  \n",
      "2013-12-21         103\n",
      "2013-12-22         117\n",
      "2013-12-23          96\n",
      "2013-12-24          85\n",
      "2013-12-25         145\n"
     ]
    }
   ],
   "source": [
    "# get trip counts and create df for plotting\n",
    "\n",
    "trip_count = bike_trips_clean.groupby(['date']).count()\n",
    "\n",
    "trips_time_df = pd.DataFrame({'trip_count': trip_count.start_time})\n",
    "print(trips_time_df.head())"
   ]
  },
  {
   "cell_type": "code",
   "execution_count": 22,
   "metadata": {},
   "outputs": [
    {
     "data": {
      "text/html": [
       "<iframe id=\"igraph\" scrolling=\"no\" style=\"border:none;\" seamless=\"seamless\" src=\"https://plot.ly/~sarahshy/69.embed\" height=\"525px\" width=\"100%\"></iframe>"
      ],
      "text/plain": [
       "<plotly.tools.PlotlyDisplay object>"
      ]
     },
     "execution_count": 22,
     "metadata": {},
     "output_type": "execute_result"
    }
   ],
   "source": [
    "#plot\n",
    "layout = dict(title = 'Number of Trips Over Time',\n",
    "              xaxis = dict(title = 'Date'),\n",
    "              yaxis = dict(title = 'Number of Rides'))\n",
    "\n",
    "trips_time_df.iplot(layout = layout, filename = 'trips_over_time')"
   ]
  },
  {
   "cell_type": "markdown",
   "metadata": {},
   "source": [
    "<a id='interact-time-series'></a>"
   ]
  },
  {
   "cell_type": "markdown",
   "metadata": {},
   "source": [
    "## 4.2 Sliders: Adding interactivity to times series"
   ]
  },
  {
   "cell_type": "markdown",
   "metadata": {},
   "source": [
    "We have a lot of data over 3 years and it's hard to see the lines. We'll add a slider that will allow us to zoom in and inspect the data more closely."
   ]
  },
  {
   "cell_type": "code",
   "execution_count": 29,
   "metadata": {
    "scrolled": true
   },
   "outputs": [
    {
     "data": {
      "text/html": [
       "<iframe id=\"igraph\" scrolling=\"no\" style=\"border:none;\" seamless=\"seamless\" src=\"https://plot.ly/~sarahshy/71.embed\" height=\"525px\" width=\"100%\"></iframe>"
      ],
      "text/plain": [
       "<plotly.tools.PlotlyDisplay object>"
      ]
     },
     "execution_count": 29,
     "metadata": {},
     "output_type": "execute_result"
    }
   ],
   "source": [
    "layout = dict(\n",
    "    title='Number of Trips Over Time with Rangeslider',\n",
    "    xaxis=dict(\n",
    "        rangeselector=dict(\n",
    "            buttons=list([\n",
    "                dict(count=1,\n",
    "                     label='1m',\n",
    "                     step='month',\n",
    "                     stepmode='backward'),\n",
    "                dict(count=6,\n",
    "                     label='6m',\n",
    "                     step='month',\n",
    "                     stepmode='backward'),\n",
    "                dict(step='all')\n",
    "            ])\n",
    "        ),\n",
    "        rangeslider=dict(),\n",
    "        type='date'\n",
    "    )\n",
    ")\n",
    "\n",
    "trips_time_df.iplot(layout = layout, filename = 'trips_over_time_slider')"
   ]
  },
  {
   "cell_type": "markdown",
   "metadata": {},
   "source": [
    "With the slider, we can shorten the interval we look at, and we can drag it across the time axis. We observe huge recurring spikes in the end of March and beginning of April. We can also see times where we're missing data, for example, during April 2016 and December 2016. Using this data, we could further explore why we observe these spikes in March every year and why we might be missing data in certain months."
   ]
  },
  {
   "cell_type": "markdown",
   "metadata": {},
   "source": [
    "<a id='plot-spatial'></a>"
   ]
  },
  {
   "cell_type": "markdown",
   "metadata": {},
   "source": [
    "## 5. Plotting Geospatial Data: Bike Station Locations\n",
    "\n",
    "Let's have a look at the bike station data. We will use MapBox to aid us as Plotly can only plot country level maps currently (i.e. if we were mapping something out across the entire USA)\n",
    "\n",
    "We are interested in knowing which stations are used most. This information can, for example, be used to determine which stations need more bikes or if we can charge more for stations with high demand.\n",
    "\n",
    "We can combine our trips dataset with the stations dataset to determine the popularity of each station.\n",
    "\n",
    "### Calculating station popularity\n",
    "\n",
    "We will quantify the popularity of a station by the number of trips taken from it. Again, we can use the *groupby* function to get the count of each station. We then join with the *bike_stations* dataset to get the GPS coordinates of the stations."
   ]
  },
  {
   "cell_type": "code",
   "execution_count": 31,
   "metadata": {},
   "outputs": [
    {
     "name": "stdout",
     "output_type": "stream",
     "text": [
      "   latitude              location  longitude                     name  \\\n",
      "0  30.27041  (30.27041 -97.75046)  -97.75046           West & 6th St.   \n",
      "1  30.26452   (30.26452 -97.7712)  -97.77120      Barton Springs Pool   \n",
      "2  30.27595  (30.27595 -97.74739)  -97.74739  ACC - Rio Grande & 12th   \n",
      "\n",
      "   station_id  status  station_trip_count  \n",
      "0        2537  active             11905.0  \n",
      "1        2572  active             12232.0  \n",
      "2        2545  closed              1778.0  \n"
     ]
    }
   ],
   "source": [
    "# get count of each station\n",
    "station_count_df = pd.DataFrame({'station_trip_count': bike_trips.groupby(['start_station_name']).size()})\n",
    "\n",
    "# join with bike_stations\n",
    "bike_stations_count = bike_stations.join(station_count_df, on = 'name')\n",
    "\n",
    "print(bike_stations_count.head(3))"
   ]
  },
  {
   "cell_type": "markdown",
   "metadata": {},
   "source": [
    "As a safety measure, we will check that all stations from *bike_trips* matched up with a station in *bike_stations*."
   ]
  },
  {
   "cell_type": "code",
   "execution_count": 27,
   "metadata": {},
   "outputs": [
    {
     "name": "stdout",
     "output_type": "stream",
     "text": [
      "True\n"
     ]
    }
   ],
   "source": [
    "print(len(bike_stations) == len(bike_stations_count)) # 72 bike stations"
   ]
  },
  {
   "cell_type": "markdown",
   "metadata": {},
   "source": [
    "Now we can plot the stations in Austin and use the dot size to correspond with the popularity of the station."
   ]
  },
  {
   "cell_type": "code",
   "execution_count": 22,
   "metadata": {},
   "outputs": [
    {
     "data": {
      "text/html": [
       "<iframe id=\"igraph\" scrolling=\"no\" style=\"border:none;\" seamless=\"seamless\" src=\"https://plot.ly/~sarahshy/88.embed\" height=\"525px\" width=\"100%\"></iframe>"
      ],
      "text/plain": [
       "<plotly.tools.PlotlyDisplay object>"
      ]
     },
     "execution_count": 22,
     "metadata": {},
     "output_type": "execute_result"
    }
   ],
   "source": [
    "from plotly.graph_objs import *\n",
    "\n",
    "scale = 500 # scale count for appropriate dot size\n",
    "\n",
    "data = Data([\n",
    "    Scattermapbox(\n",
    "        lat = bike_stations_count['latitude'],\n",
    "        lon = bike_stations_count['longitude'],\n",
    "        mode = 'markers',\n",
    "        marker = Marker(\n",
    "            size = (bike_stations_count['station_trip_count'])/scale,\n",
    "            color = 'orange'\n",
    "        ),\n",
    "        text = bike_stations_count['name'],\n",
    "        hoverinfo = 'station_trip_count'\n",
    "    )\n",
    "])\n",
    "layout = Layout(\n",
    "    title = 'Start Station Popularity',\n",
    "    autosize = True,\n",
    "    hovermode = 'closest',\n",
    "    mapbox = dict(\n",
    "        accesstoken = mapbox_access_token,\n",
    "        bearing = 0,\n",
    "        center = dict(\n",
    "            lat = 30.267,\n",
    "            lon = -97.743\n",
    "        ),\n",
    "        pitch = 0,\n",
    "        zoom = 12\n",
    "    ),\n",
    ")\n",
    "\n",
    "fig = dict(data = data, layout = layout)\n",
    "\n",
    "py.iplot(fig, filename = 'stations-bubble-map-mapbox')"
   ]
  },
  {
   "cell_type": "markdown",
   "metadata": {},
   "source": [
    "Interactivity: \n",
    "- Scroll to zoom in and out of the map\n",
    "- Click-and-drag will move the map around\n",
    "- Hover mouse over a dot to see the station name.\n",
    "\n",
    "Mapbox and Plotly allow us to customize many properties of this map including: color, map style and coloring by another variable."
   ]
  },
  {
   "cell_type": "markdown",
   "metadata": {},
   "source": [
    "## Summary\n",
    "This tutorial featured only a few of the possible types of plots and interactive elements that are possibly with Plotly for Python. Additional info and applications can be found here: https://plot.ly/python/.\n",
    "\n",
    "The Austin Bikeshare datasets can be downloaded directly from Kaggle: https://www.kaggle.com/jboysen/austin-bike\n",
    "\n",
    "Also note that Plotly is available in other programming languages such as R, MATLAB, and Julia."
   ]
  },
  {
   "cell_type": "code",
   "execution_count": null,
   "metadata": {},
   "outputs": [],
   "source": []
  }
 ],
 "metadata": {
  "kernelspec": {
   "display_name": "Python 3",
   "language": "python",
   "name": "python3"
  },
  "language_info": {
   "codemirror_mode": {
    "name": "ipython",
    "version": 3
   },
   "file_extension": ".py",
   "mimetype": "text/x-python",
   "name": "python",
   "nbconvert_exporter": "python",
   "pygments_lexer": "ipython3",
   "version": "3.6.4"
  }
 },
 "nbformat": 4,
 "nbformat_minor": 2
}
