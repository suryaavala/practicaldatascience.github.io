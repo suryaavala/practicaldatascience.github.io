{
 "cells": [
  {
   "cell_type": "code",
   "execution_count": 2,
   "metadata": {
    "collapsed": true
   },
   "outputs": [],
   "source": [
    "### PREAMBLE\n",
    "# Redis - Representing Data and Basic Usage\n",
    "# redis.svg\n"
   ]
  },
  {
   "cell_type": "code",
   "execution_count": 2,
   "metadata": {
    "collapsed": true
   },
   "outputs": [],
   "source": [
    "# Some imports for the tutorial\n",
    "from time import sleep"
   ]
  },
  {
   "cell_type": "markdown",
   "metadata": {},
   "source": [
    "# Introduction\n",
    "\n",
    "While we have covered relational databases in class and learned about entity relationships between table in a relational database, not all data can be organized in a structured manner. In this tutorial, we examine the uses and advantages of non-relational databases such as MongoDB, Cassandra, and Redis. In particular, we delve into the capabilities of Redis and how we can apply it to data science problems.\n",
    "\n",
    "First, we note some main differences between relational databases and a non-relational database __(SQL vs. NoSQL)__:\n",
    "- The schema for a SQL database must be predefined, while NoSQL databases have dynamic schema.\n",
    "- SQL databases represent data in the form of table, while NoSQL databases have no specific schema. In the case of Redis, data is key-value pairs.\n",
    "- SQL databases are typically scaled \"vertically,\" by improving hardware on a single server, while NoSQL databases scale \"horizontally,\" by distributting the database across more servers.\n",
    "- All SQL Databases use SQL style syntax, while NoSQL databases' syntax vary.\n"
   ]
  },
  {
   "cell_type": "markdown",
   "metadata": {},
   "source": [
    "## Motivation\n",
    "As a motivation to use a NoSQL database for data science, consider the following problems:\n",
    "- You are working for Amazon and your task is to find analyze order in which pages on Amazon get visited. In particular, you want to find paths that lead to visitors becoming customers and Is there a path that leads to visitors leaving? Both would be good to know. Given enough of this data, it would be possible to generate suggested pages that lead to more customers, but first, you would like to store the data efficiently.\n",
    "\n",
    "Although it is possible to come up with a SQL schema for this problem, most implementations would be either very inefficient or would violate the relational nature of the database. As a result, we turn to a NoSQL database, Redis, and show that such a problem can be easily solved."
   ]
  },
  {
   "cell_type": "markdown",
   "metadata": {},
   "source": [
    "# Redis\n",
    "You have probably heard of Redis as a cache. In the most case, Redis acts as a key-value cache for large web-based applications due to its processing speed. In addition to being able to process over 100,000 SETs and GETs per second on a normal machine, Redis comes with a rich set of built-in data structures. To be more precise, Redis is a key-value storage, where values can take on the forms of \n",
    "[Strings](https://redis.io/topics/data-types-intro#redis-strings), \n",
    "[Lists](https://redis.io/topics/data-types-intro#redis-lists), \n",
    "[Sets](https://redis.io/topics/data-types-intro#redis-sets), \n",
    "[Sorted Sets](https://redis.io/topics/data-types-intro#redis-sorted-sets), \n",
    "[Hashes](https://redis.io/topics/data-types-intro#redis-hashes), \n",
    "[Bitmaps](https://redis.io/topics/data-types-intro#bitmaps), and \n",
    "[HyperLogLogs](https://redis.io/topics/data-types-intro#hyperloglogs).\n",
    "For this tutorial, we will go over Strings, Lists, and Sorted Sets and see how they can be used for the problem stated earlier. But first, let us go over the setup instructions to run Redis with Python."
   ]
  },
  {
   "cell_type": "markdown",
   "metadata": {},
   "source": [
    "### Installation & Setup\n",
    "- Download and install Redis for your machine [here](https://redis.io/download). Instructions are included at the bottom of the page.\n",
    "\n",
    "    For Windows users, [this](https://github.com/rgl/redis/downloads) might be an easier setup solution.\n",
    "    \n",
    "    \n",
    "- Install redis-py, a Python Redis client.\n",
    "\n",
    "    `> conda install redis-py`\n",
    "    \n",
    "    \n",
    "- Run the Redis server on your machine. By default, it runs on port 6379.\n",
    "\n",
    "   On Windows, you will be able to find the Redis server under Services.\n",
    "   \n",
    "   On MacOS/Linux, you can simply run redis-server\n",
    "   \n",
    "   \n",
    "- In Python, import Redis and connect to your server.\n"
   ]
  },
  {
   "cell_type": "code",
   "execution_count": 3,
   "metadata": {
    "collapsed": true
   },
   "outputs": [],
   "source": [
    "import redis\n",
    "\n",
    "r = redis.Redis(host='localhost', port=6379)"
   ]
  },
  {
   "cell_type": "markdown",
   "metadata": {},
   "source": [
    "By default, `redis.Redis()` would connect to localhost on port 6379."
   ]
  },
  {
   "cell_type": "markdown",
   "metadata": {},
   "source": [
    "## Strings\n",
    "In Redis, all keys must be Strings, and values can be Strings as well. This is probably the most used and simplest type of data.\n",
    "\n",
    "Although it is called a String, this datatype can represent any binary content. This means that pictures and videos can be stored as Strings as well. This datatype is fairly intuitive, so let us move on to some operations we can do with them in Redis."
   ]
  },
  {
   "cell_type": "markdown",
   "metadata": {},
   "source": [
    "`SET` and `GET` are the most common operations, and as the names suggest, the former sets a key to be a certain value and the latter retrieves the value associated with a key.\n",
    "\n",
    "`MSET` and `MGET` can set and retrieve multiple keys and values respectively.\n",
    "\n",
    "`EXISTS` can be used to check for the existance of a key, and `DEL` can be used to delete a key and its value."
   ]
  },
  {
   "cell_type": "code",
   "execution_count": 4,
   "metadata": {},
   "outputs": [
    {
     "name": "stdout",
     "output_type": "stream",
     "text": [
      "Value for url is b'google.com'\n",
      "Does count3 exist? False\n",
      "Does count3 exist now? True\n",
      "[b'3', b'8', b'7']\n",
      "Is count3 still in there? False\n"
     ]
    }
   ],
   "source": [
    "# Writes the value, 'google.com' to the key, 'url'\n",
    "r.set('url', 'google.com')\n",
    "\n",
    "# Retrieves the value associated with the key, 'url'\n",
    "value = str(r.get('url'))\n",
    "print('Value for url is ' + value)\n",
    "\n",
    "print('Does count3 exist? ' + str(r.exists('count3')))\n",
    "\n",
    "r.mset({'count1' : 3, 'count2' : 8, 'count3' : 7})\n",
    "print('Does count3 exist now? ' + str(r.exists('count3')))\n",
    "print(r.mget(['count1', 'count2', 'count3']))\n",
    "\n",
    "r.delete('count3')\n",
    "print('Is count3 still in there? ' + str(r.exists('count3')))"
   ]
  },
  {
   "cell_type": "markdown",
   "metadata": {},
   "source": [
    "As you can see, the values returned by Redis are bytes. To convert them to python strings, we can define the following helper function:"
   ]
  },
  {
   "cell_type": "code",
   "execution_count": 5,
   "metadata": {},
   "outputs": [
    {
     "name": "stdout",
     "output_type": "stream",
     "text": [
      "google.com\n"
     ]
    }
   ],
   "source": [
    "# Converts byte returned by Redis to python string for printing\n",
    "def to_string(value):\n",
    "    return value.decode('utf-8')\n",
    "\n",
    "print(to_string(r.get('url')))"
   ]
  },
  {
   "cell_type": "markdown",
   "metadata": {},
   "source": [
    "We can also increment Strings that are numbers in Redis with a single command with `INCR`:"
   ]
  },
  {
   "cell_type": "code",
   "execution_count": 6,
   "metadata": {},
   "outputs": [
    {
     "name": "stdout",
     "output_type": "stream",
     "text": [
      "count1 is 3\n",
      "count1 is now 4\n",
      "count1 is now 12\n"
     ]
    }
   ],
   "source": [
    "print('count1 is ' + to_string(r.get('count1')))\n",
    "r.incr('count1')\n",
    "print('count1 is now ' + to_string(r.get('count1')))\n",
    "\n",
    "# You can also specify how much you want to increase the value by\n",
    "r.incr('count1', 8)\n",
    "print('count1 is now ' + to_string(r.get('count1')))"
   ]
  },
  {
   "cell_type": "markdown",
   "metadata": {},
   "source": [
    "Another cool thing we can do in Redis is setting the time to live for a key with `EXPIRE` and check how much time a key has left with `TTL`."
   ]
  },
  {
   "cell_type": "code",
   "execution_count": 7,
   "metadata": {},
   "outputs": [
    {
     "name": "stdout",
     "output_type": "stream",
     "text": [
      "1\n",
      "Is text still in there? False\n"
     ]
    }
   ],
   "source": [
    "r.set('text', 'I will be deleted soon!')\n",
    "# Allow the key to live for 2 seconds\n",
    "r.expire('text', 2)\n",
    "sleep(1)\n",
    "# Or use pttl to see how many milliseconds are remaining\n",
    "print(r.ttl('text'))\n",
    "sleep(2)\n",
    "print('Is text still in there? ' + str(r.exists('text')))"
   ]
  },
  {
   "cell_type": "markdown",
   "metadata": {},
   "source": [
    "## Lists\n",
    "Lists in Redis can be thought of as a double ended queue. Elements can be added to the list on either end at constant time, and elements can be popped off at either end at constant time. It is possible to view an element at a specific index, but the operation can be costly, as lists are implemented using linked lists in Redis. For constant time indexing, sorted sets can be used instead."
   ]
  },
  {
   "cell_type": "markdown",
   "metadata": {},
   "source": [
    "`LPUSH` and `RPUSH` can be used to insert elements into the list from the head and the tail respectively. To remove elements and view them from the ends, we can use `LPOP` and `RPOP`."
   ]
  },
  {
   "cell_type": "code",
   "execution_count": 8,
   "metadata": {},
   "outputs": [
    {
     "name": "stdout",
     "output_type": "stream",
     "text": [
      "Content of list1\n",
      "  0. 1\n",
      "  1. 1\n",
      "  2. 3\n",
      "  3. 5\n",
      "  4. 7\n",
      "  5. 9\n",
      "\n",
      "Content of list1\n",
      "  0. 2\n",
      "  1. 1\n",
      "  2. 1\n",
      "  3. 3\n",
      "  4. 5\n",
      "  5. 7\n",
      "  6. 9\n",
      "\n",
      "Content of list1\n",
      "  0. 2\n",
      "  1. 1\n",
      "  2. 1\n",
      "  3. 3\n",
      "  4. 5\n",
      "  5. 7\n",
      "  6. 9\n",
      "  7. 3\n",
      "  8. 4\n",
      "\n",
      "The former tail is 4\n",
      "Content of list1\n",
      "  0. 2\n",
      "  1. 1\n",
      "  2. 1\n",
      "  3. 3\n",
      "  4. 5\n",
      "  5. 7\n",
      "  6. 9\n",
      "  7. 3\n",
      "\n",
      "The former head is 2\n",
      "Content of list1\n",
      "  0. 1\n",
      "  1. 1\n",
      "  2. 3\n",
      "  3. 5\n",
      "  4. 7\n",
      "  5. 9\n",
      "  6. 3\n",
      "\n"
     ]
    }
   ],
   "source": [
    "# Simple helper function to display everything inside a list without modifying the list\n",
    "def visualize_list(key):\n",
    "    print('Content of ' + key)\n",
    "    elements = [to_string(x) for x in r.lrange(key, 0, -1)]\n",
    "    for i in range(len(elements)):\n",
    "        print('  ' + str(i) + '. ' + elements[i])\n",
    "    print()\n",
    "        \n",
    "# Add elements at the head of the list\n",
    "r.lpush('list1', 1)\n",
    "visualize_list('list1')\n",
    "r.lpush('list1', 2)\n",
    "visualize_list('list1')\n",
    "\n",
    "# Add elements at the tail of the list\n",
    "r.rpush('list1', 3)\n",
    "r.rpush('list1', 4)\n",
    "visualize_list('list1')\n",
    "\n",
    "# Remove an element from the tail and print it\n",
    "print('The former tail is ' + to_string(r.rpop('list1')))\n",
    "visualize_list('list1')\n",
    "\n",
    "# Remove an element from the head and print it\n",
    "print('The former head is ' + to_string(r.lpop('list1')))\n",
    "visualize_list('list1')"
   ]
  },
  {
   "cell_type": "markdown",
   "metadata": {},
   "source": [
    "It is also possible to view elements without removing them from the list using `LINDEX` and `LRANGE`"
   ]
  },
  {
   "cell_type": "code",
   "execution_count": 9,
   "metadata": {},
   "outputs": [
    {
     "name": "stdout",
     "output_type": "stream",
     "text": [
      "Content of list1\n",
      "  0. 1\n",
      "  1. 1\n",
      "  2. 3\n",
      "  3. 5\n",
      "  4. 7\n",
      "  5. 9\n",
      "  6. 3\n",
      "  7. 5\n",
      "  8. 7\n",
      "  9. 9\n",
      "\n",
      "The third element is 5\n",
      "Content of list1\n",
      "  0. 1\n",
      "  1. 1\n",
      "  2. 3\n",
      "  3. 5\n",
      "  4. 7\n",
      "  5. 9\n",
      "  6. 3\n",
      "  7. 5\n",
      "  8. 7\n",
      "  9. 9\n",
      "\n",
      "[b'3', b'5', b'7']\n"
     ]
    }
   ],
   "source": [
    "# Let us add a few more elements to the list\n",
    "for i in range(5, 10, 2):\n",
    "    r.rpush('list1', i)\n",
    "visualize_list('list1')\n",
    "\n",
    "# View the element at the 3rd index\n",
    "print('The third element is ' + to_string(r.lindex('list1', 3)))\n",
    "# Verify that the list is unchanged\n",
    "visualize_list('list1')\n",
    "\n",
    "# View the elements from index 2 to 5, inclusive\n",
    "print(r.lrange('list1', 2, 4))"
   ]
  },
  {
   "cell_type": "markdown",
   "metadata": {},
   "source": [
    "## Sorted Sets\n",
    "Sorted sets are arguably the most powerful data structure in Redis. Keys in a sorted set are unique, and each key is associated with a floating point number: a score. The elements (key, score pairs) in a sorted set are first sorted by their scores. Elements that have the same score are sorted lexicographically by the key. There will never be two elements that are tied, since all keys are unique. In this tutorial, we will only go over the basic Sorted Set operations"
   ]
  },
  {
   "cell_type": "markdown",
   "metadata": {},
   "source": [
    "Elements can be added to a sorted set using `ZADD`."
   ]
  },
  {
   "cell_type": "code",
   "execution_count": 15,
   "metadata": {},
   "outputs": [
    {
     "name": "stdout",
     "output_type": "stream",
     "text": [
      "Content of fruit_scores\n",
      " ITEM: Mandarins    SCORE: 0.672\n",
      " ITEM: Oranges      SCORE: 0.792\n",
      " ITEM: Blueberries  SCORE: 0.889\n",
      " ITEM: Grapes       SCORE: 2.135\n",
      " ITEM: Bananas      SCORE: 2.183\n",
      " ITEM: Apples       SCORE: 2.442\n"
     ]
    }
   ],
   "source": [
    "# Add a variety of fruits to a sorted set based on the annual national sale of that fruit (in billion $)\n",
    "r.zadd('fruit_scores', 'Apples', 2.442)\n",
    "r.zadd('fruit_scores', 'Bananas', 2.183)\n",
    "r.zadd('fruit_scores', 'Blueberries', 0.889)\n",
    "r.zadd('fruit_scores', 'Oranges', 0.792)\n",
    "r.zadd('fruit_scores', 'Grapes', 2.135)\n",
    "r.zadd('fruit_scores', 'Mandarins', 0.672)\n",
    "\n",
    "# A simple function to visualize the elements and their scores in a sorted set associated with key\n",
    "def visualize_sorted_set(key):\n",
    "    # Retrieve all items in sorted set (use -1 to return all)\n",
    "    items_with_scores = r.zrange('fruit_scores', 0, -1, withscores=True)\n",
    "    # Get length of longest key for better printing\n",
    "    maxlen = max([len(p[0]) for p in items_with_scores])\n",
    "    print('Content of ' + key)\n",
    "    # The format for printing item\n",
    "    format_string = '{:' + str(maxlen) + '}'\n",
    "    for item,score in items_with_scores: \n",
    "        print(' ITEM: ' + format_string.format(to_string(item)) + '  SCORE: ' + str(score))\n",
    "        \n",
    "visualize_sorted_set('fruit_scores')"
   ]
  },
  {
   "cell_type": "markdown",
   "metadata": {},
   "source": [
    "Now, we look at two cool ways to retrieve information from a sorted set, `ZRANGEBYSCORE` and `ZRANGEBYLEX`.\n",
    "\n",
    "`ZRANGEBYSCORE` retrieves items with scores between min and max, inclusive. In this case, min and max are numbers. 'inf' and '-inf' can be used to represent positive and negative infinity.\n",
    "\n",
    "`ZRANGEBYLEX` retrieves items whose keys are lexicographically between min and max. In this case, min and max are strings. '[' and '(' can be appended in front of the a string to specify whether the limit is inclusive or exclusive, respectively. '+' and '-' can be used to represent the infinities in this case."
   ]
  },
  {
   "cell_type": "code",
   "execution_count": 23,
   "metadata": {},
   "outputs": [
    {
     "name": "stdout",
     "output_type": "stream",
     "text": [
      "['Grapes', 'Bananas', 'Apples']\n",
      "['Mandarins', 'Oranges', 'Blueberries']\n"
     ]
    },
    {
     "ename": "ResponseError",
     "evalue": "unknown command 'ZRANGEBYLEX'",
     "output_type": "error",
     "traceback": [
      "\u001b[1;31m---------------------------------------------------------------------------\u001b[0m",
      "\u001b[1;31mResponseError\u001b[0m                             Traceback (most recent call last)",
      "\u001b[1;32m<ipython-input-23-577bb5c200db>\u001b[0m in \u001b[0;36m<module>\u001b[1;34m()\u001b[0m\n\u001b[0;32m      7\u001b[0m \u001b[1;33m\u001b[0m\u001b[0m\n\u001b[0;32m      8\u001b[0m \u001b[1;31m# Get fruits lexicographically greater than or equal to 'Blueberries'\u001b[0m\u001b[1;33m\u001b[0m\u001b[1;33m\u001b[0m\u001b[0m\n\u001b[1;32m----> 9\u001b[1;33m \u001b[0mfruits\u001b[0m \u001b[1;33m=\u001b[0m \u001b[0mr\u001b[0m\u001b[1;33m.\u001b[0m\u001b[0mzrangebylex\u001b[0m\u001b[1;33m(\u001b[0m\u001b[1;34m'fruit_scores'\u001b[0m\u001b[1;33m,\u001b[0m \u001b[1;34m'[Blueberries'\u001b[0m\u001b[1;33m,\u001b[0m \u001b[1;34m'+'\u001b[0m\u001b[1;33m)\u001b[0m\u001b[1;33m\u001b[0m\u001b[0m\n\u001b[0m\u001b[0;32m     10\u001b[0m \u001b[0mprint\u001b[0m\u001b[1;33m(\u001b[0m\u001b[1;33m[\u001b[0m\u001b[0mto_string\u001b[0m\u001b[1;33m(\u001b[0m\u001b[0mfruit\u001b[0m\u001b[1;33m)\u001b[0m \u001b[1;32mfor\u001b[0m \u001b[0mfruit\u001b[0m \u001b[1;32min\u001b[0m \u001b[0mfruits\u001b[0m\u001b[1;33m]\u001b[0m\u001b[1;33m)\u001b[0m\u001b[1;33m\u001b[0m\u001b[0m\n\u001b[0;32m     11\u001b[0m \u001b[1;31m# Get fruits lexicographically greater than 'Blueberries'\u001b[0m\u001b[1;33m\u001b[0m\u001b[1;33m\u001b[0m\u001b[0m\n",
      "\u001b[1;32mC:\\ProgramData\\Anaconda3\\lib\\site-packages\\redis\\client.py\u001b[0m in \u001b[0;36mzrangebylex\u001b[1;34m(self, name, min, max, start, num)\u001b[0m\n\u001b[0;32m   1768\u001b[0m         \u001b[1;32mif\u001b[0m \u001b[0mstart\u001b[0m \u001b[1;32mis\u001b[0m \u001b[1;32mnot\u001b[0m \u001b[1;32mNone\u001b[0m \u001b[1;32mand\u001b[0m \u001b[0mnum\u001b[0m \u001b[1;32mis\u001b[0m \u001b[1;32mnot\u001b[0m \u001b[1;32mNone\u001b[0m\u001b[1;33m:\u001b[0m\u001b[1;33m\u001b[0m\u001b[0m\n\u001b[0;32m   1769\u001b[0m             \u001b[0mpieces\u001b[0m\u001b[1;33m.\u001b[0m\u001b[0mextend\u001b[0m\u001b[1;33m(\u001b[0m\u001b[1;33m[\u001b[0m\u001b[0mToken\u001b[0m\u001b[1;33m.\u001b[0m\u001b[0mget_token\u001b[0m\u001b[1;33m(\u001b[0m\u001b[1;34m'LIMIT'\u001b[0m\u001b[1;33m)\u001b[0m\u001b[1;33m,\u001b[0m \u001b[0mstart\u001b[0m\u001b[1;33m,\u001b[0m \u001b[0mnum\u001b[0m\u001b[1;33m]\u001b[0m\u001b[1;33m)\u001b[0m\u001b[1;33m\u001b[0m\u001b[0m\n\u001b[1;32m-> 1770\u001b[1;33m         \u001b[1;32mreturn\u001b[0m \u001b[0mself\u001b[0m\u001b[1;33m.\u001b[0m\u001b[0mexecute_command\u001b[0m\u001b[1;33m(\u001b[0m\u001b[1;33m*\u001b[0m\u001b[0mpieces\u001b[0m\u001b[1;33m)\u001b[0m\u001b[1;33m\u001b[0m\u001b[0m\n\u001b[0m\u001b[0;32m   1771\u001b[0m \u001b[1;33m\u001b[0m\u001b[0m\n\u001b[0;32m   1772\u001b[0m     \u001b[1;32mdef\u001b[0m \u001b[0mzrevrangebylex\u001b[0m\u001b[1;33m(\u001b[0m\u001b[0mself\u001b[0m\u001b[1;33m,\u001b[0m \u001b[0mname\u001b[0m\u001b[1;33m,\u001b[0m \u001b[0mmax\u001b[0m\u001b[1;33m,\u001b[0m \u001b[0mmin\u001b[0m\u001b[1;33m,\u001b[0m \u001b[0mstart\u001b[0m\u001b[1;33m=\u001b[0m\u001b[1;32mNone\u001b[0m\u001b[1;33m,\u001b[0m \u001b[0mnum\u001b[0m\u001b[1;33m=\u001b[0m\u001b[1;32mNone\u001b[0m\u001b[1;33m)\u001b[0m\u001b[1;33m:\u001b[0m\u001b[1;33m\u001b[0m\u001b[0m\n",
      "\u001b[1;32mC:\\ProgramData\\Anaconda3\\lib\\site-packages\\redis\\client.py\u001b[0m in \u001b[0;36mexecute_command\u001b[1;34m(self, *args, **options)\u001b[0m\n\u001b[0;32m    666\u001b[0m         \u001b[1;32mtry\u001b[0m\u001b[1;33m:\u001b[0m\u001b[1;33m\u001b[0m\u001b[0m\n\u001b[0;32m    667\u001b[0m             \u001b[0mconnection\u001b[0m\u001b[1;33m.\u001b[0m\u001b[0msend_command\u001b[0m\u001b[1;33m(\u001b[0m\u001b[1;33m*\u001b[0m\u001b[0margs\u001b[0m\u001b[1;33m)\u001b[0m\u001b[1;33m\u001b[0m\u001b[0m\n\u001b[1;32m--> 668\u001b[1;33m             \u001b[1;32mreturn\u001b[0m \u001b[0mself\u001b[0m\u001b[1;33m.\u001b[0m\u001b[0mparse_response\u001b[0m\u001b[1;33m(\u001b[0m\u001b[0mconnection\u001b[0m\u001b[1;33m,\u001b[0m \u001b[0mcommand_name\u001b[0m\u001b[1;33m,\u001b[0m \u001b[1;33m**\u001b[0m\u001b[0moptions\u001b[0m\u001b[1;33m)\u001b[0m\u001b[1;33m\u001b[0m\u001b[0m\n\u001b[0m\u001b[0;32m    669\u001b[0m         \u001b[1;32mexcept\u001b[0m \u001b[1;33m(\u001b[0m\u001b[0mConnectionError\u001b[0m\u001b[1;33m,\u001b[0m \u001b[0mTimeoutError\u001b[0m\u001b[1;33m)\u001b[0m \u001b[1;32mas\u001b[0m \u001b[0me\u001b[0m\u001b[1;33m:\u001b[0m\u001b[1;33m\u001b[0m\u001b[0m\n\u001b[0;32m    670\u001b[0m             \u001b[0mconnection\u001b[0m\u001b[1;33m.\u001b[0m\u001b[0mdisconnect\u001b[0m\u001b[1;33m(\u001b[0m\u001b[1;33m)\u001b[0m\u001b[1;33m\u001b[0m\u001b[0m\n",
      "\u001b[1;32mC:\\ProgramData\\Anaconda3\\lib\\site-packages\\redis\\client.py\u001b[0m in \u001b[0;36mparse_response\u001b[1;34m(self, connection, command_name, **options)\u001b[0m\n\u001b[0;32m    678\u001b[0m     \u001b[1;32mdef\u001b[0m \u001b[0mparse_response\u001b[0m\u001b[1;33m(\u001b[0m\u001b[0mself\u001b[0m\u001b[1;33m,\u001b[0m \u001b[0mconnection\u001b[0m\u001b[1;33m,\u001b[0m \u001b[0mcommand_name\u001b[0m\u001b[1;33m,\u001b[0m \u001b[1;33m**\u001b[0m\u001b[0moptions\u001b[0m\u001b[1;33m)\u001b[0m\u001b[1;33m:\u001b[0m\u001b[1;33m\u001b[0m\u001b[0m\n\u001b[0;32m    679\u001b[0m         \u001b[1;34m\"Parses a response from the Redis server\"\u001b[0m\u001b[1;33m\u001b[0m\u001b[0m\n\u001b[1;32m--> 680\u001b[1;33m         \u001b[0mresponse\u001b[0m \u001b[1;33m=\u001b[0m \u001b[0mconnection\u001b[0m\u001b[1;33m.\u001b[0m\u001b[0mread_response\u001b[0m\u001b[1;33m(\u001b[0m\u001b[1;33m)\u001b[0m\u001b[1;33m\u001b[0m\u001b[0m\n\u001b[0m\u001b[0;32m    681\u001b[0m         \u001b[1;32mif\u001b[0m \u001b[0mcommand_name\u001b[0m \u001b[1;32min\u001b[0m \u001b[0mself\u001b[0m\u001b[1;33m.\u001b[0m\u001b[0mresponse_callbacks\u001b[0m\u001b[1;33m:\u001b[0m\u001b[1;33m\u001b[0m\u001b[0m\n\u001b[0;32m    682\u001b[0m             \u001b[1;32mreturn\u001b[0m \u001b[0mself\u001b[0m\u001b[1;33m.\u001b[0m\u001b[0mresponse_callbacks\u001b[0m\u001b[1;33m[\u001b[0m\u001b[0mcommand_name\u001b[0m\u001b[1;33m]\u001b[0m\u001b[1;33m(\u001b[0m\u001b[0mresponse\u001b[0m\u001b[1;33m,\u001b[0m \u001b[1;33m**\u001b[0m\u001b[0moptions\u001b[0m\u001b[1;33m)\u001b[0m\u001b[1;33m\u001b[0m\u001b[0m\n",
      "\u001b[1;32mC:\\ProgramData\\Anaconda3\\lib\\site-packages\\redis\\connection.py\u001b[0m in \u001b[0;36mread_response\u001b[1;34m(self)\u001b[0m\n\u001b[0;32m    627\u001b[0m             \u001b[1;32mraise\u001b[0m\u001b[1;33m\u001b[0m\u001b[0m\n\u001b[0;32m    628\u001b[0m         \u001b[1;32mif\u001b[0m \u001b[0misinstance\u001b[0m\u001b[1;33m(\u001b[0m\u001b[0mresponse\u001b[0m\u001b[1;33m,\u001b[0m \u001b[0mResponseError\u001b[0m\u001b[1;33m)\u001b[0m\u001b[1;33m:\u001b[0m\u001b[1;33m\u001b[0m\u001b[0m\n\u001b[1;32m--> 629\u001b[1;33m             \u001b[1;32mraise\u001b[0m \u001b[0mresponse\u001b[0m\u001b[1;33m\u001b[0m\u001b[0m\n\u001b[0m\u001b[0;32m    630\u001b[0m         \u001b[1;32mreturn\u001b[0m \u001b[0mresponse\u001b[0m\u001b[1;33m\u001b[0m\u001b[0m\n\u001b[0;32m    631\u001b[0m \u001b[1;33m\u001b[0m\u001b[0m\n",
      "\u001b[1;31mResponseError\u001b[0m: unknown command 'ZRANGEBYLEX'"
     ]
    }
   ],
   "source": [
    "# Get all fruits that had sales greater than or equal to 2 billion dollars\n",
    "fruits = r.zrangebyscore('fruit_scores', 2, 'inf')\n",
    "print([to_string(fruit) for fruit in fruits])\n",
    "# Get all fruits that had sales less than or equal to 1 billion dollars\n",
    "fruits = r.zrangebyscore('fruit_scores', '-inf', 1)\n",
    "print([to_string(fruit) for fruit in fruits])\n",
    "\n",
    "# Get fruits lexicographically greater than or equal to 'Blueberries'\n",
    "fruits = r.zrangebylex('fruit_scores', '[Blueberries', '+')\n",
    "print([to_string(fruit) for fruit in fruits])\n",
    "# Get fruits lexicographically greater than 'Blueberries'\n",
    "fruits = r.zrangebylex('fruit_scores', '(Blueberries', '+')\n",
    "print([to_string(fruit) for fruit in fruits])"
   ]
  },
  {
   "cell_type": "markdown",
   "metadata": {},
   "source": [
    "## Example\n",
    "Now, let us move on to an example and see how we can use Redis to store data about page visits. To make the problem a bit more challenging, you would like to take into account how often a user visits Amazon. It would be tremendously helpful to Amazon if you could find patterns for newcomers that lead to purchases.\n",
    "\n",
    "Our idea will be to use regular strings to store how many times a user has visited the site, lists for each visit's page navigation path, and a sorted set to separate the paths of users who visit the site very often and users who do not."
   ]
  },
  {
   "cell_type": "markdown",
   "metadata": {},
   "source": [
    "##### Dummy Data\n",
    "Since the Redis database cannot be encapsulated in a file like SQLite, the following function will add dummy data into Redis."
   ]
  },
  {
   "cell_type": "code",
   "execution_count": 56,
   "metadata": {
    "collapsed": true
   },
   "outputs": [],
   "source": [
    "# Adds all value in values to the list associated with key in the order of how they appear in values\n",
    "def add_list(key, values):\n",
    "    for value in values:\n",
    "        r.rpush(key, value)\n",
    "\n",
    "# Creates 3 dummy users and 10 paths for the users\n",
    "# username4 has visited the site 5 times,\n",
    "# username37 has visited the site 2 times, and\n",
    "# username158 has visited the site 3 times\n",
    "def create_data():\n",
    "    # First clear everything in Redis, so we have a clean start\n",
    "    r.flushall()\n",
    "    \n",
    "    # Create user who has visited the site 5 times\n",
    "    r.set('visits:username4', 5)\n",
    "    # Create 5 random paths, path:username4:i is for the ith visit\n",
    "    add_list('path:username4:1', ['item987', 'item4526', 'cart', 'item552', 'cart', 'checkout'])\n",
    "    add_list('path:username4:2', ['item237', 'item6833', 'item6834', 'item2820'])\n",
    "    add_list('path:username4:3', ['cart', 'item152', 'cart', 'checkout'])\n",
    "    add_list('path:username4:4', ['item133', 'cart', 'checkout'])\n",
    "    add_list('path:username4:5', ['item388', 'item688', 'cart', 'item15', 'cart', 'checkout'])\n",
    "    # Add paths to sorted set with different scores\n",
    "    for i in range(1, 6):\n",
    "        r.zadd('pathscores', 'path:username4:'+ str(i), float(i))\n",
    "        \n",
    "    # Create user who has visited the site twice\n",
    "    r.set('visits:username37', 2)\n",
    "    # Create 2 random paths, path:username37:i is for the ith visit\n",
    "    add_list('path:username37:1', ['item987', 'item552', 'cart', 'checkout'])\n",
    "    add_list('path:username37:2', ['item6833', 'item6834', 'item2820', 'settings'])\n",
    "    # Add paths to sorted set with different scores\n",
    "    for i in range(1, 3):\n",
    "        r.zadd('pathscores', 'path:username37:' + str(i), float(i))\n",
    "        \n",
    "    # Create user who has visited the site three times\n",
    "    r.set('visits:username158', 3)\n",
    "    # Create 3 random paths, path:username158:i is for the ith visit\n",
    "    add_list('path:username158:1', ['item987', 'item552', 'cart', 'item6834', 'item2820'])\n",
    "    add_list('path:username158:2', ['item388', 'item688', 'cart', 'item15', 'cart', 'checkout'])\n",
    "    add_list('path:username158:3', ['item4284', 'item570', 'item15', 'item2820', 'item6833', 'item6834'])\n",
    "    # Add paths to sorted set with different scores\n",
    "    for i in range(1, 4):\n",
    "        r.zadd('pathscores', 'path:username158:' + str(i), float(i))\n",
    "        \n",
    "create_data()\n",
    "    "
   ]
  },
  {
   "cell_type": "markdown",
   "metadata": {},
   "source": [
    "##### Data Insertion\n",
    "Assuming that our database is in some state, we can use the following function, `new_visit`, to add a new sample."
   ]
  },
  {
   "cell_type": "code",
   "execution_count": 57,
   "metadata": {},
   "outputs": [
    {
     "name": "stdout",
     "output_type": "stream",
     "text": [
      "username4 now has 6 visits.\n",
      "username337 now has 1 visit.\n"
     ]
    }
   ],
   "source": [
    "# Gets the number of visits a username has made\n",
    "def num_visits(username):\n",
    "    return to_string(r.get('visits:' + username))\n",
    "\n",
    "# Increase the number of visits username has made by 1\n",
    "def increase_visits(username):\n",
    "    r.incr('visits:' + username)\n",
    "\n",
    "# Creates a new path for visiter with username=username\n",
    "# Creates a key to store the path and puts the key in the sorted set\n",
    "def add_path(username, path):\n",
    "    path_key = 'path:' + username + ':' + num_visits(username)\n",
    "    add_list(path_key, path)\n",
    "    r.zadd('pathscores', path_key, float(num_visits(username)))\n",
    "\n",
    "# Adds a new datapoint (username of visitor and the navigation path of the visit) to the database\n",
    "def new_visit(username, path):\n",
    "    increase_visits(username)\n",
    "    add_path(username, path)\n",
    "    \n",
    "# Add another visit for username4\n",
    "new_visit('username4', ['item2258', 'item5624', 'cart', 'item6834'])\n",
    "print('username4 now has ' + str(num_visits('username4')) + ' visits.')\n",
    "\n",
    "# A user who has not visited the site has visited\n",
    "new_visit('username337', ['item426', 'cart', 'item552', 'cart', 'checkout'])\n",
    "print('username337 now has ' + str(num_visits('username337')) + ' visit.')"
   ]
  },
  {
   "cell_type": "markdown",
   "metadata": {},
   "source": [
    "##### Basic Retrieval\n",
    "Now, we move on to some basic data retrieval. As stated earlier, you would like to find paths of new users. In this case, let us consider the first visit and the second visit of a user to be new visits. To get the keys of the paths, you can simply do"
   ]
  },
  {
   "cell_type": "code",
   "execution_count": 58,
   "metadata": {},
   "outputs": [
    {
     "name": "stdout",
     "output_type": "stream",
     "text": [
      "['path:username158:1', 'path:username337:1', 'path:username37:1', 'path:username4:1', 'path:username158:2', 'path:username37:2', 'path:username4:2']\n"
     ]
    }
   ],
   "source": [
    "keys = r.zrangebyscore('pathscores', 0, 2)\n",
    "print([to_string(key) for key in keys])"
   ]
  },
  {
   "cell_type": "markdown",
   "metadata": {},
   "source": [
    "To get the view the actual paths, we can do the following"
   ]
  },
  {
   "cell_type": "code",
   "execution_count": 63,
   "metadata": {},
   "outputs": [
    {
     "name": "stdout",
     "output_type": "stream",
     "text": [
      "['item987', 'item552', 'cart', 'item6834', 'item2820']\n",
      "['item426', 'cart', 'item552', 'cart', 'checkout']\n",
      "['item987', 'item552', 'cart', 'checkout']\n",
      "['item987', 'item4526', 'cart', 'item552', 'cart', 'checkout']\n",
      "['item388', 'item688', 'cart', 'item15', 'cart', 'checkout']\n",
      "['item6833', 'item6834', 'item2820']\n",
      "['item237', 'item6833', 'item6834', 'item2820']\n"
     ]
    }
   ],
   "source": [
    "def get_list(key):\n",
    "    return [to_string(x) for x in r.lrange(key, 0, -1)]\n",
    "for key in keys:\n",
    "    print(get_list(key))"
   ]
  },
  {
   "cell_type": "markdown",
   "metadata": {},
   "source": [
    "One note we would like to make is that indexing elements in a list is costly, as explained in the Lists section. We could have replaced the lists with sorted sets with scores equaling the index to get constant time indexing. However, since we wanted to demonstrate all of our mentioned data structures and lists are very intuitive in this case, we used lists for the paths."
   ]
  },
  {
   "cell_type": "markdown",
   "metadata": {},
   "source": [
    "Now that you have an efficient way of storing paths, you can move on the the next part of your task: coming up with a fancy algorithm to find similarities between paths that lead to purchases and similarities between paths that don't lead to purchases!"
   ]
  },
  {
   "cell_type": "markdown",
   "metadata": {},
   "source": [
    "### References\n",
    "In no particular order:\n",
    "- https://redis.io/topics/data-types-intro\n",
    "- https://www.thegeekstuff.com/2014/01/sql-vs-nosql-db/?utm_source=tuicool\n",
    "- http://101.datascience.community/tag/redis/\n",
    "- https://daringfireball.net/projects/markdown/basics\n",
    "- http://redis-py.readthedocs.io/en/latest/\n",
    "- http://tylerstroud.com/2014/11/18/storing-and-querying-objects-in-redis/\n",
    "- http://fortune.com/2014/11/04/best-selling-fruit-us/"
   ]
  }
 ],
 "metadata": {
  "kernelspec": {
   "display_name": "Python 3",
   "language": "python",
   "name": "python3"
  },
  "language_info": {
   "codemirror_mode": {
    "name": "ipython",
    "version": 3
   },
   "file_extension": ".py",
   "mimetype": "text/x-python",
   "name": "python",
   "nbconvert_exporter": "python",
   "pygments_lexer": "ipython3",
   "version": "3.6.3"
  }
 },
 "nbformat": 4,
 "nbformat_minor": 2
}
