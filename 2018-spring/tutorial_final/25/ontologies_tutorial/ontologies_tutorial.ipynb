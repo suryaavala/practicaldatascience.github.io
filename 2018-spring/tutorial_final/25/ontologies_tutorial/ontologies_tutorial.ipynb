{
 "cells": [
  {
   "cell_type": "markdown",
   "metadata": {},
   "source": [
    "# An introduction to knowledge representation with ontologies"
   ]
  },
  {
   "cell_type": "markdown",
   "metadata": {},
   "source": [
    "## Introduction\n",
    "\n",
    "Knowledge representation refers to a set of tools and processes designed to represent and organize human knowledge for use and sharing. While many ways of representing knowledge exist (e.g., natural language description, drawings, diagrams), this tutorial will focus on a formal and computational-friendly representation called ontology.\n",
    "\n",
    "Ontologies were first introduced in philosophy as the study of being, categories of being and their relations. It later emerged in computer science as the specification of a conceptualization and relationships between them. Main motivations for building an ontology include sharing a common understanding of information via a common vocabulary and enabling reuse of domain knowledge. As opposed to other methods of representation, there is little ambiguity in ontologies and concepts are organized hierarchically. Thus, algorithms can easily work around ontologies to organize, describe and analyze concepts. Ontologies are used in various fields such as artificial intelligence, Semantic Web and biomedical informatics.\n",
    "\n",
    "![](https://s9.postimg.org/bloaynqe7/pizza.png)\n",
    "\n",
    "*A same concept like `Pizza` can be represented in different ways. (a) Natural language description (b) Drawing (c) Ontology. This tutorial will only focus on (c) as it is a formal and computational-friendly representation.*"
   ]
  },
  {
   "cell_type": "markdown",
   "metadata": {},
   "source": [
    "## Tutorial content\n",
    "\n",
    "This tutorial will be split into two sections. First, as ontologies differ from models that we studied so far in class, we will go through the key and basic elements that compose an ontology by building a small one from scratch. Then, as an example of concrete application, we will see how we can benefit from existing ontologies by working around the very popular [Gene Ontology](http://www.geneontology.org/).\n",
    "\n",
    "- [Understanding the basics of ontology](#Understanding-the-basics-of-ontology)\n",
    "- [Example of application: Gene Ontology](#Example-of-application:-Gene-Ontology)"
   ]
  },
  {
   "cell_type": "markdown",
   "metadata": {},
   "source": [
    "## Understanding the basics of ontology\n",
    "\n",
    "In this section, we will familiarize ourselves with the key components of an ontology. For learning purpose, we will build from scratch a small ontology around the concept of `University` as it is a concept that easily speaks to students.\n",
    "\n",
    "Multiple languages can be used to construct an ontology. For this section, we will be using Web Ontology Language (OWL), a widely adopted language supported by the [Owlready2](http://pythonhosted.org/Owlready2/) module in Python. This module is for ontology-oriented programming, which means that ontology components will be manipulated as Python objects. It can be installed using `pip`:\n",
    "\n",
    "    $ pip install --upgrade owlready2\n",
    "\n",
    "If your installation was succesful, you should be able to run the following command:"
   ]
  },
  {
   "cell_type": "code",
   "execution_count": 1,
   "metadata": {
    "collapsed": true
   },
   "outputs": [],
   "source": [
    "from owlready2 import *"
   ]
  },
  {
   "cell_type": "markdown",
   "metadata": {},
   "source": [
    "### Creating an empty ontology\n",
    "\n",
    "Let's begin! The first step is to create our ontology. Ontologies are usually identified by Internationalized Resource Identifiers (IRI) which are similar to URLs. To create an empty ontology, we want to use the `get_ontology(iri)` function that takes an IRI (string) as a parameter. An easy way to verify if our object was succesfuly created is to check its `base_iri` attribute which should be the same as the chosen IRI."
   ]
  },
  {
   "cell_type": "code",
   "execution_count": 2,
   "metadata": {},
   "outputs": [
    {
     "name": "stdout",
     "output_type": "stream",
     "text": [
      "http://test.org/onto.owl#\n"
     ]
    }
   ],
   "source": [
    "iri = 'http://test.org/onto.owl'\n",
    "onto = get_ontology(iri)\n",
    "print(onto.base_iri)"
   ]
  },
  {
   "cell_type": "markdown",
   "metadata": {},
   "source": [
    "### Classes, subclasses and individuals\n",
    "\n",
    "Now that our ontology is created, we can start by adding the concept of `University` as a class. A class is the basic unit within an ontology, it can refer to a set, a collection or a type of things. With Owlready2, a class is added to an ontology by creating a Python class which inherits from a superclass `Thing` (provided by the module) and initializes an attribute `namespace` with the corresponding ontology object, in our case `onto`."
   ]
  },
  {
   "cell_type": "code",
   "execution_count": 3,
   "metadata": {
    "collapsed": true
   },
   "outputs": [],
   "source": [
    "class University(Thing):\n",
    "    namespace = onto"
   ]
  },
  {
   "cell_type": "markdown",
   "metadata": {},
   "source": [
    "Classes within an ontology can be listed using the `classes()` method. This method returns a generator for the classes defined in the ontology. We can either loop through the generator or convert it as a list using `list(generator)`."
   ]
  },
  {
   "cell_type": "code",
   "execution_count": 4,
   "metadata": {
    "collapsed": true
   },
   "outputs": [],
   "source": [
    "def print_classes(ontology):\n",
    "    \"\"\"\n",
    "    Print the name of every class within `ontology`.\n",
    "    \"\"\"\n",
    "    for c in ontology.classes():\n",
    "        print(c)"
   ]
  },
  {
   "cell_type": "code",
   "execution_count": 5,
   "metadata": {},
   "outputs": [
    {
     "name": "stdout",
     "output_type": "stream",
     "text": [
      "onto.University\n"
     ]
    }
   ],
   "source": [
    "print_classes(onto)"
   ]
  },
  {
   "cell_type": "markdown",
   "metadata": {},
   "source": [
    "Then, we can extend our ontology with subclasses. A subclass is a class subsumed by one or multiple ontology class(es). Specifically, a subclass inherits all properties of its parent(s). We add a subclass to our ontology in the same way we define a subclass in Python. For example, we specify two different types of university, `PublicUniversity` and `PrivateUniversity`, by creating a Python class for each that inherits our previously defined `University` class."
   ]
  },
  {
   "cell_type": "code",
   "execution_count": 6,
   "metadata": {
    "collapsed": true
   },
   "outputs": [],
   "source": [
    "class PublicUniversity(University):\n",
    "    pass\n",
    "\n",
    "class PrivateUniversity(University):\n",
    "    pass"
   ]
  },
  {
   "cell_type": "code",
   "execution_count": 7,
   "metadata": {},
   "outputs": [
    {
     "name": "stdout",
     "output_type": "stream",
     "text": [
      "onto.University\n",
      "onto.PublicUniversity\n",
      "onto.PrivateUniversity\n"
     ]
    }
   ],
   "source": [
    "print_classes(onto)"
   ]
  },
  {
   "cell_type": "markdown",
   "metadata": {},
   "source": [
    "Remember that an advantage of using ontologies is the hiearchically organization of concepts. As such, every class can have access to its subclasses using the method `descendants()` and its superclasses using the method `ancestors()`. Note that both of these methods include the caller class in their output."
   ]
  },
  {
   "cell_type": "code",
   "execution_count": 8,
   "metadata": {},
   "outputs": [
    {
     "name": "stdout",
     "output_type": "stream",
     "text": [
      "Subclasses of `University`: {onto.PublicUniversity, onto.University, onto.PrivateUniversity}\n",
      "Superclasses of `University`: {owl.Thing, onto.University}\n"
     ]
    }
   ],
   "source": [
    "print('Subclasses of `University`: {}'.format(University.descendants()))\n",
    "print('Superclasses of `University`: {}'.format(University.ancestors()))"
   ]
  },
  {
   "cell_type": "markdown",
   "metadata": {},
   "source": [
    "We can also add individuals to our ontology. An individual refers to a concrete object, it is equivalent to an instance of a class. To add an individual to our ontology, we create an instance of the corresponding Python class and pass the name of the individual (string) as a parameter. Let's add two individuals, `UCBerkeley` to our class `PublicUniversity` and `CarnegieMellonUniversity` to our class `PrivateUniversity`."
   ]
  },
  {
   "cell_type": "code",
   "execution_count": 9,
   "metadata": {
    "collapsed": true
   },
   "outputs": [],
   "source": [
    "berkeley = PublicUniversity('UCBerkeley')\n",
    "cmu = PrivateUniversity('CarnegieMellonUniversity')"
   ]
  },
  {
   "cell_type": "markdown",
   "metadata": {},
   "source": [
    "Individuals within an ontology can be listed in a similar way as classes using the method `individuals()` from an ontology object."
   ]
  },
  {
   "cell_type": "code",
   "execution_count": 10,
   "metadata": {
    "collapsed": true
   },
   "outputs": [],
   "source": [
    "def print_individuals(ontology):\n",
    "    \"\"\"\n",
    "    Print the name of every individual within `ontology`.\n",
    "    \"\"\"\n",
    "    for i in ontology.individuals():\n",
    "        print(i)"
   ]
  },
  {
   "cell_type": "code",
   "execution_count": 11,
   "metadata": {},
   "outputs": [
    {
     "name": "stdout",
     "output_type": "stream",
     "text": [
      "onto.UCBerkeley\n",
      "onto.CarnegieMellonUniversity\n"
     ]
    }
   ],
   "source": [
    "print_individuals(onto)"
   ]
  },
  {
   "cell_type": "markdown",
   "metadata": {},
   "source": [
    "Additionally, we can also list instances of a particular class using the method `instances()`. Note that the parameter is a reference to the Python class."
   ]
  },
  {
   "cell_type": "code",
   "execution_count": 12,
   "metadata": {
    "collapsed": true
   },
   "outputs": [],
   "source": [
    "def print_instances(ontology_class):\n",
    "    \"\"\"\n",
    "    Print the name of every instance of `ontology_class`.\n",
    "    \"\"\"\n",
    "    for i in ontology_class.instances():\n",
    "        print(i)"
   ]
  },
  {
   "cell_type": "code",
   "execution_count": 13,
   "metadata": {},
   "outputs": [
    {
     "name": "stdout",
     "output_type": "stream",
     "text": [
      "onto.CarnegieMellonUniversity\n"
     ]
    }
   ],
   "source": [
    "print_instances(PrivateUniversity)"
   ]
  },
  {
   "cell_type": "markdown",
   "metadata": {},
   "source": [
    "### Properties and relationships\n",
    "\n",
    "Ontologies use properties and relationships (or relations) to specify how classes and individuals relate to one another. To introduce these components, we first need to create a new concept and individuals to which our `University` concept can relate. We propose to specify the concept of `State` with a group of state names as individuals."
   ]
  },
  {
   "cell_type": "code",
   "execution_count": 14,
   "metadata": {
    "collapsed": true
   },
   "outputs": [],
   "source": [
    "class State(Thing):\n",
    "    namespace = onto\n",
    "\n",
    "california = State('California')\n",
    "pennsylvania = State('Pennsylvania')\n",
    "qatar = State('Qatar')"
   ]
  },
  {
   "cell_type": "markdown",
   "metadata": {},
   "source": [
    "A relationship is defined as a triple (subject, property, object). While there is already an implicit relationship between superclasses and subclasses (e.g., a public university *is a* university), we can go beyond the inheritance relationship with this component.\n",
    "\n",
    "To build a property, we need to specify two parameters: the domain and the range. The subject and the object of a relationship must be subclasses of respectively the domain and the range defined by the property. While the domain needs to be class, a range can either be a class, an individual or a data type (e.g., int, str, datetime.data).\n",
    "\n",
    "To relate our `University` class to our `State` class, we define a property `has_campus_in` by creating a Python class. To define the domain and the range of our property, we adopt a specific syntax: `domain >> range`."
   ]
  },
  {
   "cell_type": "code",
   "execution_count": 15,
   "metadata": {
    "collapsed": true
   },
   "outputs": [],
   "source": [
    "with onto:\n",
    "    class has_campus_in(University >> State):\n",
    "        pass"
   ]
  },
  {
   "cell_type": "markdown",
   "metadata": {},
   "source": [
    "We can verify that the property has been correctly added to our ontology by listing all the properties with the method `properties()`."
   ]
  },
  {
   "cell_type": "code",
   "execution_count": 16,
   "metadata": {
    "collapsed": true
   },
   "outputs": [],
   "source": [
    "def print_properties(ontology):\n",
    "    \"\"\"\n",
    "    Print the name of every property within `ontology`.\n",
    "    \"\"\"\n",
    "    for p in ontology.properties():\n",
    "        print(p)"
   ]
  },
  {
   "cell_type": "code",
   "execution_count": 17,
   "metadata": {},
   "outputs": [
    {
     "name": "stdout",
     "output_type": "stream",
     "text": [
      "onto.has_campus_in\n"
     ]
    }
   ],
   "source": [
    "print_properties(onto)"
   ]
  },
  {
   "cell_type": "markdown",
   "metadata": {},
   "source": [
    "Now, every Python instance of `University` can access a new attribute `has_campus_in`. To establish a relationship in our ontology, we simply need to initialize the attribute `has_campus_in` of an individual to a list of objects. Let's specify the campus locations of our two universities."
   ]
  },
  {
   "cell_type": "code",
   "execution_count": 18,
   "metadata": {},
   "outputs": [
    {
     "name": "stdout",
     "output_type": "stream",
     "text": [
      "CMU has a campus in: [onto.California, onto.Pennsylvania, onto.Qatar]\n",
      "UC Berkeley has a campus in: [onto.California]\n"
     ]
    }
   ],
   "source": [
    "cmu.has_campus_in = [california, pennsylvania, qatar]\n",
    "berkeley.has_campus_in = [california]\n",
    "print('CMU has a campus in: {}'.format(cmu.has_campus_in))\n",
    "print('UC Berkeley has a campus in: {}'.format(berkeley.has_campus_in))"
   ]
  },
  {
   "cell_type": "markdown",
   "metadata": {},
   "source": [
    "### Class constructs and restrictions\n",
    "\n",
    "To ease the organization of concepts in an ontology, it is possible to apply restrictions on properties to build specific classes. For example, we can retrieve every subject in relationships (subject, property, object) in which the object meet specific requirements such as a minimum or a maximum value, a value within a given list or a cardinality.\n",
    "\n",
    "Let's say we want to create a concept `SingleCampusUniversity`. For this class, we want to ensure that subclasses are universities with only one campus. With Owlready2, this can be achieved as follows:"
   ]
  },
  {
   "cell_type": "code",
   "execution_count": 19,
   "metadata": {
    "collapsed": true
   },
   "outputs": [],
   "source": [
    "class SingleCampusUniversity(University):\n",
    "    equivalent_to = [University & has_campus_in.exactly(1, State)]"
   ]
  },
  {
   "cell_type": "markdown",
   "metadata": {},
   "source": [
    "In the above code, we first apply a restriction to the `has_campus_in` property. This builds the class of all objects that has a campus in only one state. Then, we apply the logical operator & with the class `University` to ensure that every object is a university. Finally, we define an equivalent class `SingleCampusUniversity` with the use of the `equivalent_to` attribute to be able to manipulate this new class.\n",
    "\n",
    "Note that there exist other methods than `exactly(cardinality, range)` to achieve different restrictions. Different logical operators can also be used to build new classes. If you are curious about them, you can check the [official documentation of Owlready2](http://pythonhosted.org/Owlready2/restriction.html)."
   ]
  },
  {
   "cell_type": "markdown",
   "metadata": {},
   "source": [
    "### Worlds and reasoning\n",
    "\n",
    "A powerful feature in ontologies is reasoning. Reasoning is typically used to verify the consistency of an ontology and to make inferences based on current knowledge. An example of application is reclassing individuals to appropriate classes given their relationships with other concepts.\n",
    "\n",
    "For example, let's create a new concept `Student`. We define a property `lives_in` to specify in which state a student resides. Additionally, we create four individuals as examples."
   ]
  },
  {
   "cell_type": "code",
   "execution_count": 20,
   "metadata": {
    "collapsed": true
   },
   "outputs": [],
   "source": [
    "class Student(Thing):\n",
    "    namespace = onto\n",
    "\n",
    "with onto:\n",
    "    class lives_in(Student >> State):\n",
    "        pass\n",
    "\n",
    "californian = Student('Californian', lives_in = [california])\n",
    "pennsylvanian = Student('Pennsylvanian', lives_in = [pennsylvania])\n",
    "qatari = Student('Qatari', lives_in = [qatar])\n",
    "unknown = Student('Unknown')"
   ]
  },
  {
   "cell_type": "markdown",
   "metadata": {},
   "source": [
    "Some time later, we decide to be more precise in our ontology and to organize students given their states of residence. Thus, we define three new classes with restrictions on the property `lives_in`. We call these classes `CalifornianStudent`, `PennsylvanianStudent` and `QatariStudent`."
   ]
  },
  {
   "cell_type": "code",
   "execution_count": 21,
   "metadata": {
    "collapsed": true
   },
   "outputs": [],
   "source": [
    "class CalifornianStudent(Student):\n",
    "    equivalent_to = [Student & lives_in.value(california)]\n",
    "    \n",
    "class PennsylvanianStudent(Student):\n",
    "    equivalent_to = [Student & lives_in.value(pennsylvania)]\n",
    "\n",
    "class QatariStudent(Student):\n",
    "    equivalent_to = [Student & lives_in.value(qatar)]"
   ]
  },
  {
   "cell_type": "markdown",
   "metadata": {},
   "source": [
    "In a consistent ontology, our previously defined individuals should belong to these new classes. An automatic reclass of our individuals can be achieved with reasoning. However, a few things need to be set up before.\n",
    "\n",
    "By default, OWL considers the world as *open*, which means that everything that we do not explicitly state in the ontology is not considered to be false. This can be problematic in our case as our ontology consider that `california` and `pennsylvania` possibly refer to the same state, or that a `CalifornianStudent` can also be a `PennsylvanianStudent` since we never stated that they were different. To solve this problem, we can either explicitly tell our ontology that our individuals are different with the `AllDifferent(individuals_list)` function or we can *close* the world with the `close_world(object)` function so that everything that is not explicitly stated is considered to be false."
   ]
  },
  {
   "cell_type": "code",
   "execution_count": 22,
   "metadata": {
    "collapsed": true
   },
   "outputs": [],
   "source": [
    "AllDifferent([california, pennsylvania, qatar])\n",
    "close_world(Student)"
   ]
  },
  {
   "cell_type": "markdown",
   "metadata": {},
   "source": [
    "Now, we can perform our reasoning! Owlready2 provides a global function `sync_reasoner()` to perform a reasoning on the whole ontology. It requires a Java Virtual Machine (JVM) to run as the reasoner is written in Java. To illustrate the effects of the reasoning, we compare the classes of our individuals before and after the reasoning."
   ]
  },
  {
   "cell_type": "code",
   "execution_count": 23,
   "metadata": {
    "collapsed": true
   },
   "outputs": [],
   "source": [
    "def print_instances_classes(ontology_class):\n",
    "    for i in ontology_class.instances():\n",
    "        print('{}: {}'.format(i.name, i.__class__))"
   ]
  },
  {
   "cell_type": "code",
   "execution_count": 24,
   "metadata": {},
   "outputs": [
    {
     "name": "stdout",
     "output_type": "stream",
     "text": [
      "-- Before reasoning\n",
      "Californian: onto.Student\n",
      "Pennsylvanian: onto.Student\n",
      "Qatari: onto.Student\n",
      "Unknown: onto.Student\n"
     ]
    }
   ],
   "source": [
    "print('-- Before reasoning')\n",
    "print_instances_classes(Student);"
   ]
  },
  {
   "cell_type": "code",
   "execution_count": 25,
   "metadata": {
    "collapsed": true
   },
   "outputs": [],
   "source": [
    "%%capture\n",
    "# The function is run in a captured cell as it outputs local configurations\n",
    "sync_reasoner()"
   ]
  },
  {
   "cell_type": "code",
   "execution_count": 26,
   "metadata": {},
   "outputs": [
    {
     "name": "stdout",
     "output_type": "stream",
     "text": [
      "-- After reasoning\n",
      "Californian: onto.CalifornianStudent\n",
      "Pennsylvanian: onto.PennsylvanianStudent\n",
      "Qatari: onto.QatariStudent\n",
      "Unknown: onto.Student\n"
     ]
    }
   ],
   "source": [
    "print('-- After reasoning')\n",
    "print_instances_classes(Student);"
   ]
  },
  {
   "cell_type": "markdown",
   "metadata": {},
   "source": [
    "As we can see, the individuals were correctly reclassified in our new classes. Since we didn't specify a state of residence for `unknown`, it remains a `Student`."
   ]
  },
  {
   "cell_type": "markdown",
   "metadata": {},
   "source": [
    "### Saving an ontology into a file\n",
    "\n",
    "Finally, an ontology can be saved into an OWL file using the method `save(filename)`. It can be later loaded using the method `load(filename)`."
   ]
  },
  {
   "cell_type": "code",
   "execution_count": 27,
   "metadata": {
    "collapsed": true
   },
   "outputs": [],
   "source": [
    "onto.save(\"onto.owl\")"
   ]
  },
  {
   "cell_type": "markdown",
   "metadata": {},
   "source": [
    "## Example of application: Gene Ontology"
   ]
  },
  {
   "cell_type": "markdown",
   "metadata": {},
   "source": [
    "Gene Ontology (GO) is a bioinformatics project designed to structure the description of genes and gene products within a common ontology for all living species. Since its creation, the ontology has enabled integration of standardized knowledge, knowledge extraction and aggregation, and improvements in the quality of ressources. In this section, we will perform a very basic exploration of GO.\n",
    "\n",
    "For this section, we will be using GOATOOLS, a package specifically designed to manipulate GO. It can be installed running `pip`:\n",
    "\n",
    "    $ pip install --upgrade goatools\n",
    "\n",
    "If your installation was succesful, you should be able to download the ontology running the following command:"
   ]
  },
  {
   "cell_type": "code",
   "execution_count": 28,
   "metadata": {},
   "outputs": [
    {
     "name": "stdout",
     "output_type": "stream",
     "text": [
      "  EXISTS: go-basic.obo\n"
     ]
    }
   ],
   "source": [
    "from goatools.base import download_go_basic_obo\n",
    "go_file = download_go_basic_obo()"
   ]
  },
  {
   "cell_type": "markdown",
   "metadata": {},
   "source": [
    "We can now load the ontology using the function `GODag(obo_file)`."
   ]
  },
  {
   "cell_type": "code",
   "execution_count": 29,
   "metadata": {},
   "outputs": [
    {
     "name": "stdout",
     "output_type": "stream",
     "text": [
      "load obo file go-basic.obo\n",
      "go-basic.obo: fmt(1.2) rel(2018-03-31) 44,922 GO Terms\n"
     ]
    }
   ],
   "source": [
    "from goatools.obo_parser import GODag\n",
    "go = GODag(\"go-basic.obo\")"
   ]
  },
  {
   "cell_type": "markdown",
   "metadata": {},
   "source": [
    "In GO, the basic unit is called *term*. You can see a *term* as a *class* or as an *individual*. A term is in part defined by an `id`, a `name` and a `namespace`. The `go` object that we initialized in the above code acts like a dictionnary, we can retrieve informations on a term by providing its `id`. For example, we can retrieve the name and the namespace of the GO term `GO:0048528`."
   ]
  },
  {
   "cell_type": "code",
   "execution_count": 30,
   "metadata": {},
   "outputs": [
    {
     "name": "stdout",
     "output_type": "stream",
     "text": [
      "GO term ID: GO:0048528\n",
      "Go term name: post-embryonic root development\n",
      "Go term namespace: biological_process\n"
     ]
    }
   ],
   "source": [
    "go_id = 'GO:0048528'\n",
    "go_term = go[go_id]\n",
    "print('GO term ID: {}'.format(go_term.id))\n",
    "print('Go term name: {}'.format(go_term.name))\n",
    "print('Go term namespace: {}'.format(go_term.namespace))"
   ]
  },
  {
   "cell_type": "markdown",
   "metadata": {},
   "source": [
    "Immediate parents (superclasses) and children (subclasses) of a GO term can also be accessed with the attributes `parents` and `children`."
   ]
  },
  {
   "cell_type": "code",
   "execution_count": 31,
   "metadata": {
    "collapsed": true
   },
   "outputs": [],
   "source": [
    "def print_parents_terms(go_term):\n",
    "    for t in go_term.parents:\n",
    "        print(t)\n",
    "\n",
    "def print_children_terms(go_term):\n",
    "    for t in go_term.children:\n",
    "        print(t)"
   ]
  },
  {
   "cell_type": "code",
   "execution_count": 32,
   "metadata": {},
   "outputs": [
    {
     "name": "stdout",
     "output_type": "stream",
     "text": [
      "-- Parents\n",
      "GO:0090696\tlevel-03\tdepth-04\tpost-embryonic plant organ development [biological_process]\n",
      "GO:0048364\tlevel-04\tdepth-04\troot development [biological_process]\n",
      "-- Children\n",
      "GO:0048527\tlevel-05\tdepth-06\tlateral root development [biological_process]\n"
     ]
    }
   ],
   "source": [
    "print('-- Parents')\n",
    "print_parents_terms(go_term)\n",
    "print('-- Children')\n",
    "print_children_terms(go_term)"
   ]
  },
  {
   "cell_type": "markdown",
   "metadata": {},
   "source": [
    "Additionally, we can find all the parents and all the children of a given GO term using the methods `get_all_parents()` and `get_all_methods()`."
   ]
  },
  {
   "cell_type": "code",
   "execution_count": 33,
   "metadata": {
    "collapsed": true
   },
   "outputs": [],
   "source": [
    "def print_all_parents_terms(go, go_id):\n",
    "    parents = go[go_id].get_all_parents()\n",
    "    for p in parents:\n",
    "        print(go[p])\n",
    "\n",
    "def print_all_children_terms(go, go_id):\n",
    "    children = go[go_id].get_all_children()\n",
    "    for c in children:\n",
    "        print(go[c])"
   ]
  },
  {
   "cell_type": "code",
   "execution_count": 34,
   "metadata": {},
   "outputs": [
    {
     "name": "stdout",
     "output_type": "stream",
     "text": [
      "-- All the parents\n",
      "GO:0009791\tlevel-02\tdepth-02\tpost-embryonic development [biological_process]\n",
      "GO:0090696\tlevel-03\tdepth-04\tpost-embryonic plant organ development [biological_process]\n",
      "GO:0008150\tlevel-00\tdepth-00\tbiological_process [biological_process]\n",
      "GO:0099402\tlevel-03\tdepth-03\tplant organ development [biological_process]\n",
      "GO:0048364\tlevel-04\tdepth-04\troot development [biological_process]\n",
      "GO:0032501\tlevel-01\tdepth-01\tmulticellular organismal process [biological_process]\n",
      "GO:0048856\tlevel-02\tdepth-02\tanatomical structure development [biological_process]\n",
      "GO:0032502\tlevel-01\tdepth-01\tdevelopmental process [biological_process]\n",
      "-- All the children\n",
      "GO:0048527\tlevel-05\tdepth-06\tlateral root development [biological_process]\n"
     ]
    }
   ],
   "source": [
    "print('-- All the parents')\n",
    "print_all_parents_terms(go, go_id)\n",
    "print('-- All the children')\n",
    "print_all_children_terms(go, go_id)"
   ]
  },
  {
   "cell_type": "markdown",
   "metadata": {},
   "source": [
    "GOATOOLS also provides us with drawing tools. The Python `pygraphviz` is required, it can be installed using `pip`:\n",
    "\n",
    "    $ pip install --upgrade pygraphviz\n",
    "    \n",
    "If you get an error, you may want to install the following packages and retry:\n",
    "\n",
    "    $ sudo apt install python-dev graphviz libgraphviz-dev pkg-config\n",
    "\n",
    "Once the installation is done, we can draw a lineage using the method `draw_lineage([term], filename)`, then display the image using `IPython.display.Image`."
   ]
  },
  {
   "cell_type": "code",
   "execution_count": 35,
   "metadata": {},
   "outputs": [
    {
     "name": "stderr",
     "output_type": "stream",
     "text": [
      "lineage info for terms ['GO:0048528'] written to lineage.png\n"
     ]
    },
    {
     "data": {
      "image/png": "[encoded data removed]",
      "text/plain": [
       "<IPython.core.display.Image object>"
      ]
     },
     "execution_count": 35,
     "metadata": {},
     "output_type": "execute_result"
    }
   ],
   "source": [
    "from IPython.display import Image\n",
    "lineage_filename = 'lineage.png'\n",
    "go.draw_lineage([go_term], lineage_img=lineage_filename)\n",
    "Image(lineage_filename)"
   ]
  },
  {
   "cell_type": "markdown",
   "metadata": {},
   "source": [
    "## Additionnal ressources\n",
    "\n",
    "1. A Guide to Creating Your First Ontology: https://protege.stanford.edu/publications/ontology_development/ontology101-noy-mcguinness.html\n",
    "2. Owlready2's official documentation: http://pythonhosted.org/Owlready2/\n",
    "3. Apache Jena, a Java framework to manipulate ontologies: https://jena.apache.org/documentation/ontology/\n",
    "4. GOATOOLS' GitHub repository: https://github.com/tanghaibao/goatools\n",
    "5. The Gene Ontology Handbook: https://link.springer.com/content/pdf/10.1007%2F978-1-4939-3743-1.pdf\n",
    "6. Freely available ontologies: https://protegewiki.stanford.edu/wiki/Protege_Ontology_Library#OWL_ontologies"
   ]
  }
 ],
 "metadata": {
  "kernelspec": {
   "display_name": "Python 3",
   "language": "python",
   "name": "python3"
  },
  "language_info": {
   "codemirror_mode": {
    "name": "ipython",
    "version": 3
   },
   "file_extension": ".py",
   "mimetype": "text/x-python",
   "name": "python",
   "nbconvert_exporter": "python",
   "pygments_lexer": "ipython3",
   "version": "3.6.3"
  }
 },
 "nbformat": 4,
 "nbformat_minor": 2
}
