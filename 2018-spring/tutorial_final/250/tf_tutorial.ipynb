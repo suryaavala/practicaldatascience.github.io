{
 "cells": [
  {
   "cell_type": "markdown",
   "metadata": {},
   "source": [
    "## Introduction\n",
    "This tutorial will introduce you to Tensorflow, an open-source machine learning framework for numerical computation using dataflow graphs. We'll learn how to implement multi-layer perceptrons in Tensorflow using a dataset of malicious and benign URLs, creating a classifier for identifying malicious URLs."
   ]
  },
  {
   "cell_type": "markdown",
   "metadata": {},
   "source": [
    "### Background\n",
    "\n",
    "We'll use a \"Hidden Fraudulent URLs\" dataset provided by researchers at the University of Trieste, Italy. The dataset includes three kinds of URLs:\n",
    "\n",
    "1. Hidden Fraudulent URLs\n",
    "2. URLs of legitimate pages from trusted, but compromised websites\n",
    "3. URLs of legitimate pages from trusted, uncompromised websites\n",
    "\n",
    "Let's take a closer look at these terms.\n",
    "\n",
    "- __Hidden URL__: a URL not reached by crawling the website within up to the third level of depth.\n",
    "\n",
    "- __Hidden Fraudulent URL__: a URL to an illegitimate webpage that was added to a trusted website. "
   ]
  },
  {
   "cell_type": "markdown",
   "metadata": {},
   "source": [
    "### Tutorial content\n",
    "\n",
    "We'll cover the following topics in this tutorial:\n",
    "- [Installing Libraries](#Installing-Libraries)\n",
    "- [Introduction to Tensorflow](#Introduction-to-Tensorflow)\n",
    "- [Exploratory Data Analysis](#Exploratory-Data-Analysis)\n",
    "- [Feature Engineering](#Feature-Engineering)\n",
    "- [Training and Test Data](#Training-and-Test-Data)\n",
    "- [Feature Columns](#Feature-Columns)\n",
    "- [Choosing the Model](#Choosing-the-Model)\n",
    "- [Training and Evaluation](#Training-and-Evaluation)\n",
    "- [Results](#Results)"
   ]
  },
  {
   "cell_type": "markdown",
   "metadata": {},
   "source": [
    "## Installing Libraries"
   ]
  },
  {
   "cell_type": "markdown",
   "metadata": {},
   "source": [
    "First, install Tensorflow and the tld module (for parsing URLs).  You can install them via `pip`:\n",
    "    \n",
    "    $ pip install tensorflow\n",
    "    \n",
    "    $ pip install tld\n",
    "    \n",
    "Next, make sure the following imports work for you:"
   ]
  },
  {
   "cell_type": "code",
   "execution_count": 1,
   "metadata": {},
   "outputs": [
    {
     "name": "stderr",
     "output_type": "stream",
     "text": [
      "/Users/vivekshankar/anaconda3/lib/python3.6/site-packages/h5py/__init__.py:34: FutureWarning: Conversion of the second argument of issubdtype from `float` to `np.floating` is deprecated. In future, it will be treated as `np.float64 == np.dtype(float).type`.\n",
      "  from ._conv import register_converters as _register_converters\n"
     ]
    }
   ],
   "source": [
    "import matplotlib.pyplot as plt\n",
    "%matplotlib inline\n",
    "import collections\n",
    "import tensorflow as tf # need to run pip install tensorflow\n",
    "import pandas as pd\n",
    "import numpy as np\n",
    "import math\n",
    "from urllib.parse import urlparse\n",
    "from tld import get_tld # need to run pip install tld\n",
    "from sklearn.utils import shuffle\n",
    "from sklearn.metrics import average_precision_score\n",
    "from sklearn.metrics import precision_recall_curve"
   ]
  },
  {
   "cell_type": "markdown",
   "metadata": {},
   "source": [
    "## Introduction to Tensorflow"
   ]
  },
  {
   "cell_type": "markdown",
   "metadata": {},
   "source": [
    "We begin with a short excursion into the low-level TensorFlow API: Tensorflow Core. For the remainder of the tutorial, we'll be using higher-level Estimator APIs, but it's still good to know the underlying structure of Tensorflow programs."
   ]
  },
  {
   "cell_type": "markdown",
   "metadata": {},
   "source": [
    "In Tensorflow, the main data structure is the **tensor**: an array of values. A **computational graph** contains:\n",
    "\n",
    "1. **Operations**: nodes in the graph. Operations describe calculations that take input tensors and output tensors.\n",
    "\n",
    "2. **Tensors**: edges in the graph. These represent values that flow through the graph.\n",
    "\n",
    "Below is a simple **computational graph** we'll create: [<img src=\"https://github.com/VivekShankar/Tutorial/raw/master/CompGraph.png\">](https://github.com/VivekShankar/Tutorial/raw/master/CompGraph.png)"
   ]
  },
  {
   "cell_type": "markdown",
   "metadata": {},
   "source": [
    "You can think of a Tensorflow program in two stages: \n",
    "\n",
    "1. Building the graph\n",
    "\n",
    "2. Running the graph\n",
    "\n",
    "Run the following snippet to create a computational graph. "
   ]
  },
  {
   "cell_type": "code",
   "execution_count": 33,
   "metadata": {},
   "outputs": [
    {
     "name": "stdout",
     "output_type": "stream",
     "text": [
      "Tensor(\"Const_2:0\", shape=(), dtype=float32)\n",
      "Tensor(\"Const_3:0\", shape=(), dtype=float32)\n",
      "Tensor(\"mul_1:0\", shape=(), dtype=float32)\n"
     ]
    }
   ],
   "source": [
    "# Create two floating point constants a and b using tf.constant\n",
    "# tf.constant builds the constant operation from a float.\n",
    "a = tf.constant(1.4) \n",
    "b = tf.constant(4.0)\n",
    "# Apply the \"*\" operation to multiply the two tensors.\n",
    "total = a * b\n",
    "print(a)\n",
    "print(b)\n",
    "print(total)"
   ]
  },
  {
   "cell_type": "markdown",
   "metadata": {},
   "source": [
    "Note: printing the tensors does not output the values 1.4, 4.0, and 5.6, as you might expect. The code only builds the graph. To run the graph, create a `tf.Session` object and call its `run` method."
   ]
  },
  {
   "cell_type": "code",
   "execution_count": 34,
   "metadata": {},
   "outputs": [
    {
     "name": "stdout",
     "output_type": "stream",
     "text": [
      "5.6\n"
     ]
    }
   ],
   "source": [
    "sess = tf.Session()\n",
    "print(sess.run(total))"
   ]
  },
  {
   "cell_type": "markdown",
   "metadata": {},
   "source": [
    "Congratulations, you've run your first Tensorflow program! We've come to the end of our short exploration of Tensorflow Core - you should be familiar with basic Tensorflow terminology and how Tensorflow programs work behind the scenes. For more information, check out: https://www.tensorflow.org/programmers_guide/low_level_intro."
   ]
  },
  {
   "cell_type": "markdown",
   "metadata": {},
   "source": [
    "## Exploratory Data Analysis"
   ]
  },
  {
   "cell_type": "markdown",
   "metadata": {},
   "source": [
    "Now that we've got our feet wet with Tensorflow, check out the following link to load the URLs dataset: http://machinelearning.inginf.units.it/data-and-tools/hidden-fraudulent-urls-dataset. Download the `HiddenFraudulentURLs.zip` file, unzip the file to extract `HiddenFraudulentURLs.csv`, and load the data using Pandas. "
   ]
  },
  {
   "cell_type": "code",
   "execution_count": 4,
   "metadata": {},
   "outputs": [
    {
     "data": {
      "text/html": [
       "<div>\n",
       "<style scoped>\n",
       "    .dataframe tbody tr th:only-of-type {\n",
       "        vertical-align: middle;\n",
       "    }\n",
       "\n",
       "    .dataframe tbody tr th {\n",
       "        vertical-align: top;\n",
       "    }\n",
       "\n",
       "    .dataframe thead th {\n",
       "        text-align: right;\n",
       "    }\n",
       "</style>\n",
       "<table border=\"1\" class=\"dataframe\">\n",
       "  <thead>\n",
       "    <tr style=\"text-align: right;\">\n",
       "      <th></th>\n",
       "      <th>url</th>\n",
       "      <th>compromissionType</th>\n",
       "      <th>isHiddenFraudulent</th>\n",
       "      <th>contentLength</th>\n",
       "      <th>serverType</th>\n",
       "      <th>poweredBy</th>\n",
       "      <th>contentType</th>\n",
       "      <th>lastModified</th>\n",
       "    </tr>\n",
       "  </thead>\n",
       "  <tbody>\n",
       "    <tr>\n",
       "      <th>0</th>\n",
       "      <td>http://www.sinduscongoias.com.br/index.html</td>\n",
       "      <td>defacement</td>\n",
       "      <td>False</td>\n",
       "      <td>2474</td>\n",
       "      <td>Apache/2.2</td>\n",
       "      <td>NaN</td>\n",
       "      <td>text/html</td>\n",
       "      <td>Sat, 05 Jan 2013 19:36:29 GMT</td>\n",
       "    </tr>\n",
       "    <tr>\n",
       "      <th>1</th>\n",
       "      <td>http://www.sinduscongoias.com.br/index.php/ins...</td>\n",
       "      <td>defacement</td>\n",
       "      <td>False</td>\n",
       "      <td>0</td>\n",
       "      <td>Apache/2.2</td>\n",
       "      <td>NaN</td>\n",
       "      <td>text/html; charset=utf-8</td>\n",
       "      <td>Mon, 21 Jan 2013 19:30:53 GMT</td>\n",
       "    </tr>\n",
       "    <tr>\n",
       "      <th>2</th>\n",
       "      <td>http://www.sinduscongoias.com.br/index.php/ins...</td>\n",
       "      <td>defacement</td>\n",
       "      <td>False</td>\n",
       "      <td>0</td>\n",
       "      <td>Apache/2.2</td>\n",
       "      <td>NaN</td>\n",
       "      <td>text/html; charset=utf-8</td>\n",
       "      <td>Mon, 21 Jan 2013 19:30:58 GMT</td>\n",
       "    </tr>\n",
       "    <tr>\n",
       "      <th>3</th>\n",
       "      <td>http://www.sinduscongoias.com.br/index.php/ins...</td>\n",
       "      <td>defacement</td>\n",
       "      <td>False</td>\n",
       "      <td>0</td>\n",
       "      <td>Apache/2.2</td>\n",
       "      <td>NaN</td>\n",
       "      <td>text/html; charset=utf-8</td>\n",
       "      <td>Mon, 21 Jan 2013 19:31:01 GMT</td>\n",
       "    </tr>\n",
       "    <tr>\n",
       "      <th>4</th>\n",
       "      <td>http://www.sinduscongoias.com.br/index.php/ins...</td>\n",
       "      <td>defacement</td>\n",
       "      <td>False</td>\n",
       "      <td>0</td>\n",
       "      <td>Apache/2.2</td>\n",
       "      <td>NaN</td>\n",
       "      <td>text/html; charset=utf-8</td>\n",
       "      <td>Mon, 21 Jan 2013 19:31:05 GMT</td>\n",
       "    </tr>\n",
       "  </tbody>\n",
       "</table>\n",
       "</div>"
      ],
      "text/plain": [
       "                                                 url compromissionType  \\\n",
       "0        http://www.sinduscongoias.com.br/index.html        defacement   \n",
       "1  http://www.sinduscongoias.com.br/index.php/ins...        defacement   \n",
       "2  http://www.sinduscongoias.com.br/index.php/ins...        defacement   \n",
       "3  http://www.sinduscongoias.com.br/index.php/ins...        defacement   \n",
       "4  http://www.sinduscongoias.com.br/index.php/ins...        defacement   \n",
       "\n",
       "   isHiddenFraudulent  contentLength  serverType poweredBy  \\\n",
       "0               False           2474  Apache/2.2       NaN   \n",
       "1               False              0  Apache/2.2       NaN   \n",
       "2               False              0  Apache/2.2       NaN   \n",
       "3               False              0  Apache/2.2       NaN   \n",
       "4               False              0  Apache/2.2       NaN   \n",
       "\n",
       "                contentType                   lastModified  \n",
       "0                 text/html  Sat, 05 Jan 2013 19:36:29 GMT  \n",
       "1  text/html; charset=utf-8  Mon, 21 Jan 2013 19:30:53 GMT  \n",
       "2  text/html; charset=utf-8  Mon, 21 Jan 2013 19:30:58 GMT  \n",
       "3  text/html; charset=utf-8  Mon, 21 Jan 2013 19:31:01 GMT  \n",
       "4  text/html; charset=utf-8  Mon, 21 Jan 2013 19:31:05 GMT  "
      ]
     },
     "execution_count": 4,
     "metadata": {},
     "output_type": "execute_result"
    }
   ],
   "source": [
    "df_urls = pd.read_csv(\"HiddenFraudulentURLs.csv\", sep=\";\")\n",
    "df_urls.head()"
   ]
  },
  {
   "cell_type": "markdown",
   "metadata": {},
   "source": [
    "Inspecting the data, we notice several missing values (NaNs). To avoid errors in Tensorflow, we replace NaNs with empty strings. Our goal is to predict whether the URL is fraudulent (predict the `isHiddenFraudulent` column). For binary classification, Tensorflow expects that the label has values 1 (fraudulent) or 0 (benign): we cast `isHiddenFraudulent` to an integer."
   ]
  },
  {
   "cell_type": "code",
   "execution_count": 8,
   "metadata": {
    "collapsed": true
   },
   "outputs": [],
   "source": [
    "df_urls.fillna('', inplace=True)\n",
    "df_urls[\"isHiddenFraudulent\"] = df_urls[\"isHiddenFraudulent\"].astype(int)"
   ]
  },
  {
   "cell_type": "markdown",
   "metadata": {},
   "source": [
    "For EDA, we examine the data and basic **categorical** features we're provided with through bar charts. For example, here's a bar chart showing the distribution of the `isHiddenFraudulent` variable."
   ]
  },
  {
   "cell_type": "code",
   "execution_count": 9,
   "metadata": {},
   "outputs": [
    {
     "data": {
      "text/plain": [
       "<BarContainer object of 2 artists>"
      ]
     },
     "execution_count": 9,
     "metadata": {},
     "output_type": "execute_result"
    },
    {
     "data": {
      "image/png": "[encoded data removed]",
      "text/plain": [
       "<Figure size 432x288 with 1 Axes>"
      ]
     },
     "metadata": {},
     "output_type": "display_data"
    }
   ],
   "source": [
    "# Count the number of URLs in each category: fraudulent or not fraudulent\n",
    "counts = collections.Counter(df_urls[\"isHiddenFraudulent\"])\n",
    "plt.bar(range(len(counts)), list(counts.values()), \n",
    "        tick_label=[\"Not Hidden/Fraudulent\", \"Hidden/Fraudulent\"])"
   ]
  },
  {
   "cell_type": "markdown",
   "metadata": {},
   "source": [
    "The distribution is skewed heavily towards non-fraudulent URLs: over 95% are benign! Keep this in mind later, when we're evaluating our Tensorflow model."
   ]
  },
  {
   "cell_type": "markdown",
   "metadata": {},
   "source": [
    "## Feature Engineering"
   ]
  },
  {
   "cell_type": "markdown",
   "metadata": {},
   "source": [
    "Let's do feature engineering to augment our dataset. Rather than passing the entire URL as a feature, let's break it into its constituent parts. Here's the general URL structure: `scheme://netloc/path;parameters?query#fragment`. We'll extract some of these features in the function below."
   ]
  },
  {
   "cell_type": "code",
   "execution_count": 10,
   "metadata": {
    "collapsed": true
   },
   "outputs": [],
   "source": [
    "def create_url_features(url_series):\n",
    "    '''Takes in a Pandas Series object containing the URLs and returns \n",
    "       a dictionary of new features. For each entry in the result, \n",
    "       the key is the name of the new feature, and the value is a list \n",
    "       containing all the values for that feature.'''\n",
    "    \n",
    "    # Example URL: http://www.google.com/a/b/c/search?q=search&lang=en\n",
    "    features = {\"schema\": [], # http\n",
    "                \"netloc\" : [], # www.google.com\n",
    "                \"path\" : [], # a/b/c/search?q=search&lang=en\n",
    "                \"log_len_path\" : [], # log(len(\"a/b/c/search?q=search&lang=en\")) = 4\n",
    "                \"tld\" : [], # com\n",
    "                \"domain\": []} # google\n",
    "    \n",
    "    for url in url_series:\n",
    "        o = urlparse(url) # parse the URL using urlparse to extract its scheme, netloc, and path\n",
    "        features[\"schema\"].append(o.scheme) \n",
    "        features[\"netloc\"].append(o.netloc)\n",
    "        features[\"path\"].append(o.path)\n",
    "        # Add 1 to the length before taking log to avoid 'log(0)' errors\n",
    "        features[\"log_len_path\"].append(round(math.log(len(o.path) + 1, 2)))\n",
    "        try:\n",
    "            tld_object = get_tld(url, as_object=True) # get the tld and domain using tld.get_tld\n",
    "            features[\"tld\"].append(tld_object.suffix)\n",
    "            features[\"domain\"].append(tld_object.domain)\n",
    "        except: # exception in extracting the TLD\n",
    "            features[\"tld\"].append(\"\")\n",
    "            features[\"domain\"].append(\"\")\n",
    "    return features"
   ]
  },
  {
   "cell_type": "markdown",
   "metadata": {},
   "source": [
    "Let's add these features as columns into our dataframe."
   ]
  },
  {
   "cell_type": "code",
   "execution_count": 11,
   "metadata": {
    "collapsed": true
   },
   "outputs": [],
   "source": [
    "def add_features_to_df(df):\n",
    "    '''Calls create_url_features on the list of URLs in the dataframe to \n",
    "       create a dictionary of new features. Adds the new features as new \n",
    "       columns in the original dataframe and returns the modified dataframe'''\n",
    "    \n",
    "    # create the features dictionary\n",
    "    features = create_url_features(df[\"url\"]) \n",
    "    for feature in features: # loop through the dict & add the features as cols\n",
    "        df[feature] = features[feature]\n",
    "    return df\n",
    "\n",
    "df_urls = add_features_to_df(df_urls)"
   ]
  },
  {
   "cell_type": "markdown",
   "metadata": {},
   "source": [
    "From the `lastModified` timestamp, we'll extract the **year** as another feature. First, we convert the timestamp string into a `datetime` object. However, since the data doesn't follow one specific datetime format string, we cycle through several possibilities. If there's no `lastModified` timestamp for an example, or we're unable to extract a year, we return a default value of 0. "
   ]
  },
  {
   "cell_type": "code",
   "execution_count": 12,
   "metadata": {
    "collapsed": true
   },
   "outputs": [],
   "source": [
    "from datetime import datetime\n",
    "\n",
    "def extractTime(time):\n",
    "    '''Returns the year (of type: int) from the 'time' timestamp string, \n",
    "       if possible. Returns 0 otherwise'''\n",
    "    \n",
    "    if time == '':\n",
    "        return 0\n",
    "    formats = ['%a, %d %b %Y %H:%M:%S %Z', \n",
    "               '%a, %d %b %Y %H:%M:%S%Z', \n",
    "               '%a, %d %b %Y %H:%M:%S %z', \n",
    "               '%a %d %b %Y %H:%M:%S %Z', \n",
    "               '%a, %d %b %Y %H:%M:%S %Z %z'] # possible datetime format strings\n",
    "    for fmt in formats:\n",
    "        try: # try to convert the lastModified string to a dateTime\n",
    "            d = datetime.strptime(time, fmt)\n",
    "            return d.year\n",
    "        except ValueError: # try a different datetime format string\n",
    "            pass\n",
    "    return 0\n",
    "\n",
    "df_urls[\"year\"] = df_urls[\"lastModified\"].apply(lambda time : extractTime(time))"
   ]
  },
  {
   "cell_type": "markdown",
   "metadata": {},
   "source": [
    "Great, we've now extracted features from the raw URLs! How can we tell how good our features are? One way of investigating feature quality is by determining whether a feature is **strongly correlated** with the label. For example, suppose the TLD \".ru\" appeared in fraudulent URLs 96.7% of the time. Then, the TLD is good at \"separating\" the data: \".ru\" is strongly correlated with fraudulent URLs. We can visually inspect the correlation of a **categorical** feature with the label by plotting a **heat map** of the label vs. the feature. We present a heat map of the label vs. tld for the first 1000 examples."
   ]
  },
  {
   "cell_type": "code",
   "execution_count": 17,
   "metadata": {},
   "outputs": [
    {
     "data": {
      "text/plain": [
       "<matplotlib.colorbar.Colorbar at 0x1a206436a0>"
      ]
     },
     "execution_count": 17,
     "metadata": {},
     "output_type": "execute_result"
    },
    {
     "data": {
      "image/png": "[encoded data removed]",
      "text/plain": [
       "<Figure size 432x288 with 2 Axes>"
      ]
     },
     "metadata": {},
     "output_type": "display_data"
    }
   ],
   "source": [
    "numExamples = 1000\n",
    "tld, label = df_urls[\"tld\"], df_urls[\"isHiddenFraudulent\"]\n",
    "\n",
    "# Extract the list of unique tlds, assign each tld in the list of tlds\n",
    "# an index\" representing which tld in the list of unique tlds it is\n",
    "unique_tlds, tld_ids = np.unique(tld[:numExamples], return_inverse=True)\n",
    "# Repeat above steps for the label\n",
    "unique_labels, label_ids = np.unique(label[:numExamples], return_inverse=True)\n",
    "\n",
    "# Create the heat map plot\n",
    "_, xt, yt, _ = plt.hist2d(tld_ids, label_ids, bins=(len(unique_tlds), len(unique_labels)))\n",
    "plt.xticks((xt[:-1]+xt[1:])/2, unique_tlds) # Add tick-marks for the x and y axes\n",
    "plt.yticks((yt[:-1]+yt[1:])/2, unique_labels)\n",
    "\n",
    "# Show heat map\n",
    "plt.colorbar()"
   ]
  },
  {
   "cell_type": "markdown",
   "metadata": {},
   "source": [
    "Each cell corresponds with a row (1=malicious, 0=benign), and a column (TLD). The cell's color indicates the number of instances of the TLD in a class. For example, \".edu\" appears in malicious URLs <25 times, and in benign URLs around 100 times."
   ]
  },
  {
   "cell_type": "markdown",
   "metadata": {},
   "source": [
    "## Training and Test Data"
   ]
  },
  {
   "cell_type": "markdown",
   "metadata": {},
   "source": [
    "Next, we parse the data into training and test sets. We'll split the `df_urls` dataframe such that 80% of the examples are in the training set, and 20% are in the test set. It's important to randomize the data before splitting between training/test sets so that the distribution of the features and the label in the training and test sets match their overall distribution in the original dataset. "
   ]
  },
  {
   "cell_type": "code",
   "execution_count": 18,
   "metadata": {
    "collapsed": true
   },
   "outputs": [],
   "source": [
    "def load_data(df, label_name=\"isHiddenFraudulent\", split_ratio=0.8):\n",
    "    '''Shuffles the rows of the data frame and splits the raw input \n",
    "       data into training and testing sets'''\n",
    "    \n",
    "    # Returns two tuples of (feature, label) for the training and test sets.\n",
    "    df = shuffle(df) # shuffle the rows of the data frame randomly\n",
    "    num_rows = df.shape[0]\n",
    "    split_point = int(num_rows*split_ratio)\n",
    "    train, test = df[:split_point], df[split_point:]\n",
    "\n",
    "    # 1. Delete (pop) the labels from the DataFrame, \n",
    "    # and assign the labels to train_y/test_y\n",
    "    # 2. Assign the remainder of the DataFrame to train_x/test_x\n",
    "    train_x, train_y = train, train.pop(\"isHiddenFraudulent\")\n",
    "    test_x, test_y = test, test.pop(\"isHiddenFraudulent\")\n",
    "    \n",
    "    return (train_x, train_y), (test_x, test_y)\n",
    "\n",
    "(train_x, train_y), (test_x, test_y) = load_data(df_urls)"
   ]
  },
  {
   "cell_type": "markdown",
   "metadata": {},
   "source": [
    "### Feature Columns\n",
    "\n",
    "#### String Features\n",
    "We'll convert our features into **feature columns** (data structure in Tensorflow to describe how to interpret different feature types). For us, most features are strings. Neural Networks work best on numbers (e.g.: `tf.float32`). We use `tf.feature_column.categorical_column_with_vocabulary_list` that takes in a \"vocabulary list\" of all the unique string-values of the feature, and maps each string to an integer. Then, each string will be represented as a one-hot vector."
   ]
  },
  {
   "cell_type": "code",
   "execution_count": 20,
   "metadata": {
    "collapsed": true
   },
   "outputs": [],
   "source": [
    "string_features = [\"schema\", \"netloc\", \"path\", \"tld\", \"domain\"]\n",
    "vocab_feature_columns = []\n",
    "for key in string_features:\n",
    "    # Get a list of the unique feature values (vocabulary list)\n",
    "    vocab_list = df_urls[key].unique()\n",
    "    vocab_length = len(vocab_list)\n",
    "    \n",
    "    # create a vocabulary feature column that converts each string \n",
    "    # to a one-hot vector using the index of the string in the vocab_list\n",
    "    vocabulary_feature_column = tf.feature_column.categorical_column_with_vocabulary_list(\n",
    "        key=key,\n",
    "        vocabulary_list=vocab_list)\n",
    "    vocab_feature_columns.append((vocabulary_feature_column,vocab_length))"
   ]
  },
  {
   "cell_type": "markdown",
   "metadata": {},
   "source": [
    "For features like the domain, we have a **lot** of possible classes, (around 10<sup>5</sup>)! It's hard to train neural nets as the number of categories becomes large - the one-hot vectors grow proportionally! Instead of representing the data using large one-hot vectors, we can use **embedding columns**. Embeddings represent data as lower-dimensional, dense vectors. Below, we convert the categorical feature columns into embedding columns."
   ]
  },
  {
   "cell_type": "code",
   "execution_count": 21,
   "metadata": {
    "collapsed": true
   },
   "outputs": [],
   "source": [
    "my_feature_columns = []\n",
    "for (vocabulary_feature_column, vocab_length) in vocab_feature_columns:\n",
    "    my_feature_columns.append(tf.feature_column.embedding_column(\n",
    "        categorical_column=vocabulary_feature_column,\n",
    "        dimension=math.ceil(vocab_length ** 0.25)))"
   ]
  },
  {
   "cell_type": "markdown",
   "metadata": {},
   "source": [
    "How do we choose the dimension of our embedding column? We use a rule of thumb: the length of the embedding column is the 4th root of the number of categories. How do we find the concrete values for each embedding vector corresponding to a string? The answer: during training of the neural network. As we train our model, we learn values of our embedding vectors to satisfy amazing properties, such as nearby strings having vectors lying close together in the embedding space!"
   ]
  },
  {
   "cell_type": "markdown",
   "metadata": {},
   "source": [
    "#### Numerical Features"
   ]
  },
  {
   "cell_type": "markdown",
   "metadata": {},
   "source": [
    "For `log(len(path))` (and other numerical features), we can use `tf.feature_column.numeric_column` and specify the `dtype` argument to differentiate between different numerical datatypes: `int32`, `float64`, etc."
   ]
  },
  {
   "cell_type": "code",
   "execution_count": 22,
   "metadata": {
    "collapsed": true
   },
   "outputs": [],
   "source": [
    "my_feature_columns.append(tf.feature_column.numeric_column(key=\"log_len_path\", dtype=tf.float64))"
   ]
  },
  {
   "cell_type": "markdown",
   "metadata": {},
   "source": [
    "For `lastModified`, we'll split the feature into buckets within specific year ranges (e.g.: [before 2000, 2000-2005, 2005-2010, etc]). We can use the `tf.feature_column.bucketized_column` method."
   ]
  },
  {
   "cell_type": "code",
   "execution_count": 23,
   "metadata": {
    "collapsed": true
   },
   "outputs": [],
   "source": [
    "numeric_feature_column = tf.feature_column.numeric_column(key=\"year\")\n",
    "bucketized_feature_column = tf.feature_column.bucketized_column(\n",
    "    source_column = numeric_feature_column,\n",
    "    boundaries = [2000, 2005, 2010, 2011, 2012, 2013])\n",
    "my_feature_columns.append(bucketized_feature_column)"
   ]
  },
  {
   "cell_type": "markdown",
   "metadata": {},
   "source": [
    "### Choosing the Model\n",
    "\n",
    "Tensorflow provides many model types, but we'll use a neural network for this exercise. In this tutorial, we assume a working knowledge of neural networks, but for a refresher, we recommend the following chapter from Michael Nielson's online book: http://neuralnetworksanddeeplearning.com/chap1.html "
   ]
  },
  {
   "cell_type": "markdown",
   "metadata": {},
   "source": [
    "A Tensorflow model is an `Estimator` object. Tensorflow has two major classes: pre-made and custom Estimators, that you'll code yourself. Tensorflow has a premade, fully-connected neural network Estimator. Run the cell below to create a `tf.estimator.DNNClassifier`."
   ]
  },
  {
   "cell_type": "code",
   "execution_count": 41,
   "metadata": {},
   "outputs": [
    {
     "name": "stdout",
     "output_type": "stream",
     "text": [
      "INFO:tensorflow:Using default config.\n",
      "WARNING:tensorflow:Using temporary folder as model directory: /var/folders/l4/kglg4bbd4y1c4jgqsvgqbs500000gn/T/tmp0en6_hm1\n",
      "INFO:tensorflow:Using config: {'_model_dir': '/var/folders/l4/kglg4bbd4y1c4jgqsvgqbs500000gn/T/tmp0en6_hm1', '_tf_random_seed': None, '_save_summary_steps': 100, '_save_checkpoints_steps': None, '_save_checkpoints_secs': 600, '_session_config': None, '_keep_checkpoint_max': 5, '_keep_checkpoint_every_n_hours': 10000, '_log_step_count_steps': 100, '_service': None, '_cluster_spec': <tensorflow.python.training.server_lib.ClusterSpec object at 0x1a1f6fc668>, '_task_type': 'worker', '_task_id': 0, '_global_id_in_cluster': 0, '_master': '', '_evaluation_master': '', '_is_chief': True, '_num_ps_replicas': 0, '_num_worker_replicas': 1}\n"
     ]
    }
   ],
   "source": [
    "# Pass in the list of feature columns: feature_columns=my_feature_columns\n",
    "# Pass in a list describing the specific neural network architecture: hidden_units=[50,50]\n",
    "classifier = tf.estimator.DNNClassifier( #DNN = deep neural network\n",
    "    feature_columns=my_feature_columns, \n",
    "    # Three hidden layers: 1024 nodes in the 1st layer, 512 in the 2nd, 256 in the 3rd\n",
    "    # (ith element in list = # nodes in ith hidden layer)\n",
    "    hidden_units=[1024, 512, 256],\n",
    "    dropout = 0.05,\n",
    "    optimizer=tf.train.ProximalAdagradOptimizer(\n",
    "        learning_rate=0.1,\n",
    "        l1_regularization_strength=0.001),\n",
    "    # The model must choose between 2 classes.\n",
    "    n_classes=2)"
   ]
  },
  {
   "cell_type": "markdown",
   "metadata": {},
   "source": [
    "Let's go over the **tunable hyperparameters** we supplied. \n",
    "1. `hidden_units`: list describing the neural network architecture: # hidden layers, nodes per layer.\n",
    "2. `ProximalAdagradOptimizer` optimizer: method for optimizing the network’s loss function that you can read more about here: https://cs.stanford.edu/~ppasupat/a9online/1107.html.\n",
    "3. `learning_rate=0.1`: indicates how far to move a neuron’s weights in the direction of the gradient during backpropagation.\n",
    "4. `dropout=0.05`: regularization technique for neural networks, represents the probability we remove neurons from the network. Removing neurons allows the network to avoid incorporating every neuron while making classification decisions and helps avoid overfitting in large networks.\n",
    "\n",
    "It's a good idea to run experiments with different hyperparameters on a validation set to determine suitable hyperparameter values for the network. For more information on the parameters you can supply to `DNNClassifier`, check out https://www.tensorflow.org/api_docs/python/tf/estimator/DNNClassifier."
   ]
  },
  {
   "cell_type": "markdown",
   "metadata": {},
   "source": [
    "### Training and Evaluation"
   ]
  },
  {
   "cell_type": "markdown",
   "metadata": {},
   "source": [
    "To train the network, we provide an `input_fn` (`train_input_fn` below), to input training data into the model. `train_input_fn` takes in `features`, a Pandas dataframe containing our training data (row=example, column=feature). `labels` is a list of labels for each example. `batch_size` indicates the number of examples to process at a time (before performing a gradient update). Training neural nets works best when the order of examples is randomized - call `tf.data.Dataset.shuffle` to shuffle the training data. "
   ]
  },
  {
   "cell_type": "code",
   "execution_count": 42,
   "metadata": {
    "collapsed": true
   },
   "outputs": [],
   "source": [
    "def train_input_fn(features, labels, batch_size):\n",
    "    dataset = tf.data.Dataset.from_tensor_slices((dict(features), labels))\n",
    "    # Randomize the examples and group them in batches\n",
    "    dataset = dataset.shuffle(buffer_size=1000).repeat().batch(batch_size)\n",
    "    return dataset"
   ]
  },
  {
   "cell_type": "markdown",
   "metadata": {},
   "source": [
    "Let's call the `train` method of the `DNNClassifier` to train the model, passing `train_input_fn` to input the training data and the number of steps to train the model (another hyperparameter)."
   ]
  },
  {
   "cell_type": "code",
   "execution_count": 43,
   "metadata": {
    "scrolled": true
   },
   "outputs": [
    {
     "name": "stdout",
     "output_type": "stream",
     "text": [
      "INFO:tensorflow:Calling model_fn.\n",
      "INFO:tensorflow:Done calling model_fn.\n",
      "INFO:tensorflow:Create CheckpointSaverHook.\n",
      "INFO:tensorflow:Graph was finalized.\n",
      "INFO:tensorflow:Running local_init_op.\n",
      "INFO:tensorflow:Done running local_init_op.\n",
      "INFO:tensorflow:Saving checkpoints for 1 into /var/folders/l4/kglg4bbd4y1c4jgqsvgqbs500000gn/T/tmp0en6_hm1/model.ckpt.\n",
      "INFO:tensorflow:loss = 72.51943, step = 1\n",
      "INFO:tensorflow:global_step/sec: 35.5732\n",
      "INFO:tensorflow:loss = 11.260693, step = 101 (2.812 sec)\n",
      "INFO:tensorflow:global_step/sec: 54.3126\n",
      "INFO:tensorflow:loss = 21.995567, step = 201 (1.841 sec)\n",
      "INFO:tensorflow:global_step/sec: 54.0021\n",
      "INFO:tensorflow:loss = 10.766937, step = 301 (1.852 sec)\n",
      "INFO:tensorflow:global_step/sec: 52.9843\n",
      "INFO:tensorflow:loss = 5.152972, step = 401 (1.888 sec)\n",
      "INFO:tensorflow:global_step/sec: 45.5397\n",
      "INFO:tensorflow:loss = 12.049961, step = 501 (2.195 sec)\n",
      "INFO:tensorflow:global_step/sec: 43.128\n",
      "INFO:tensorflow:loss = 6.913458, step = 601 (2.319 sec)\n",
      "INFO:tensorflow:global_step/sec: 40.2133\n",
      "INFO:tensorflow:loss = 2.2083893, step = 701 (2.487 sec)\n",
      "INFO:tensorflow:global_step/sec: 42.6669\n",
      "INFO:tensorflow:loss = 2.8111935, step = 801 (2.343 sec)\n",
      "INFO:tensorflow:global_step/sec: 45.4688\n",
      "INFO:tensorflow:loss = 5.4695992, step = 901 (2.199 sec)\n",
      "INFO:tensorflow:global_step/sec: 46.3805\n",
      "INFO:tensorflow:loss = 2.2957695, step = 1001 (2.157 sec)\n",
      "INFO:tensorflow:global_step/sec: 46.4172\n",
      "INFO:tensorflow:loss = 0.3205124, step = 1101 (2.153 sec)\n",
      "INFO:tensorflow:global_step/sec: 49.1643\n",
      "INFO:tensorflow:loss = 3.7575848, step = 1201 (2.034 sec)\n",
      "INFO:tensorflow:global_step/sec: 43.0433\n",
      "INFO:tensorflow:loss = 0.33279473, step = 1301 (2.323 sec)\n",
      "INFO:tensorflow:global_step/sec: 49.3749\n",
      "INFO:tensorflow:loss = 0.30636594, step = 1401 (2.025 sec)\n",
      "INFO:tensorflow:global_step/sec: 50.7131\n",
      "INFO:tensorflow:loss = 0.24278273, step = 1501 (1.972 sec)\n",
      "INFO:tensorflow:global_step/sec: 46.0973\n",
      "INFO:tensorflow:loss = 0.60212606, step = 1601 (2.170 sec)\n",
      "INFO:tensorflow:global_step/sec: 49.7138\n",
      "INFO:tensorflow:loss = 0.080047324, step = 1701 (2.011 sec)\n",
      "INFO:tensorflow:global_step/sec: 49.634\n",
      "INFO:tensorflow:loss = 0.30489182, step = 1801 (2.016 sec)\n",
      "INFO:tensorflow:global_step/sec: 39.1983\n",
      "INFO:tensorflow:loss = 3.1499155, step = 1901 (2.551 sec)\n",
      "INFO:tensorflow:global_step/sec: 50.8636\n",
      "INFO:tensorflow:loss = 0.20489246, step = 2001 (1.966 sec)\n",
      "INFO:tensorflow:global_step/sec: 52.9525\n",
      "INFO:tensorflow:loss = 0.019355984, step = 2101 (1.889 sec)\n",
      "INFO:tensorflow:global_step/sec: 46.9963\n",
      "INFO:tensorflow:loss = 0.3062989, step = 2201 (2.127 sec)\n",
      "INFO:tensorflow:global_step/sec: 49.8752\n",
      "INFO:tensorflow:loss = 1.1990522, step = 2301 (2.005 sec)\n",
      "INFO:tensorflow:global_step/sec: 48.6907\n",
      "INFO:tensorflow:loss = 2.6573713, step = 2401 (2.054 sec)\n",
      "INFO:tensorflow:global_step/sec: 47.4933\n",
      "INFO:tensorflow:loss = 0.5266581, step = 2501 (2.106 sec)\n",
      "INFO:tensorflow:global_step/sec: 49.6281\n",
      "INFO:tensorflow:loss = 9.575424, step = 2601 (2.014 sec)\n",
      "INFO:tensorflow:global_step/sec: 50.4967\n",
      "INFO:tensorflow:loss = 0.6876551, step = 2701 (1.980 sec)\n",
      "INFO:tensorflow:global_step/sec: 48.5107\n",
      "INFO:tensorflow:loss = 0.101485506, step = 2801 (2.062 sec)\n",
      "INFO:tensorflow:global_step/sec: 48.5606\n",
      "INFO:tensorflow:loss = 0.89080566, step = 2901 (2.059 sec)\n",
      "INFO:tensorflow:global_step/sec: 50.8857\n",
      "INFO:tensorflow:loss = 0.07780044, step = 3001 (1.965 sec)\n",
      "INFO:tensorflow:global_step/sec: 53.1723\n",
      "INFO:tensorflow:loss = 0.101802126, step = 3101 (1.880 sec)\n",
      "INFO:tensorflow:global_step/sec: 52.6975\n",
      "INFO:tensorflow:loss = 0.052600954, step = 3201 (1.898 sec)\n",
      "INFO:tensorflow:global_step/sec: 47.5073\n",
      "INFO:tensorflow:loss = 0.18057963, step = 3301 (2.105 sec)\n",
      "INFO:tensorflow:global_step/sec: 41.3329\n",
      "INFO:tensorflow:loss = 0.055494707, step = 3401 (2.419 sec)\n",
      "INFO:tensorflow:global_step/sec: 46.7424\n",
      "INFO:tensorflow:loss = 0.41917998, step = 3501 (2.139 sec)\n",
      "INFO:tensorflow:global_step/sec: 45.5184\n",
      "INFO:tensorflow:loss = 0.41990775, step = 3601 (2.200 sec)\n",
      "INFO:tensorflow:global_step/sec: 46.2163\n",
      "INFO:tensorflow:loss = 0.2348056, step = 3701 (2.162 sec)\n",
      "INFO:tensorflow:global_step/sec: 44.725\n",
      "INFO:tensorflow:loss = 0.041345116, step = 3801 (2.235 sec)\n",
      "INFO:tensorflow:global_step/sec: 46.9682\n",
      "INFO:tensorflow:loss = 0.112057805, step = 3901 (2.129 sec)\n",
      "INFO:tensorflow:global_step/sec: 52.0008\n",
      "INFO:tensorflow:loss = 0.07408035, step = 4001 (1.923 sec)\n",
      "INFO:tensorflow:global_step/sec: 52.3583\n",
      "INFO:tensorflow:loss = 2.280766, step = 4101 (1.910 sec)\n",
      "INFO:tensorflow:global_step/sec: 51.8393\n",
      "INFO:tensorflow:loss = 0.18768007, step = 4201 (1.929 sec)\n",
      "INFO:tensorflow:global_step/sec: 50.7625\n",
      "INFO:tensorflow:loss = 0.13290061, step = 4301 (1.970 sec)\n",
      "INFO:tensorflow:global_step/sec: 50.8454\n",
      "INFO:tensorflow:loss = 0.04772886, step = 4401 (1.967 sec)\n",
      "INFO:tensorflow:global_step/sec: 49.8336\n",
      "INFO:tensorflow:loss = 0.05629401, step = 4501 (2.007 sec)\n",
      "INFO:tensorflow:global_step/sec: 49.6187\n",
      "INFO:tensorflow:loss = 0.04766655, step = 4601 (2.015 sec)\n",
      "INFO:tensorflow:global_step/sec: 51.5356\n",
      "INFO:tensorflow:loss = 0.005023988, step = 4701 (1.941 sec)\n",
      "INFO:tensorflow:global_step/sec: 51.9453\n",
      "INFO:tensorflow:loss = 0.03774302, step = 4801 (1.925 sec)\n",
      "INFO:tensorflow:global_step/sec: 50.7669\n",
      "INFO:tensorflow:loss = 0.047759973, step = 4901 (1.971 sec)\n",
      "INFO:tensorflow:global_step/sec: 50.8744\n",
      "INFO:tensorflow:loss = 0.19071469, step = 5001 (1.965 sec)\n",
      "INFO:tensorflow:global_step/sec: 49.9124\n",
      "INFO:tensorflow:loss = 0.0155694, step = 5101 (2.003 sec)\n",
      "INFO:tensorflow:global_step/sec: 53.089\n",
      "INFO:tensorflow:loss = 0.036609974, step = 5201 (1.883 sec)\n",
      "INFO:tensorflow:global_step/sec: 52.1783\n",
      "INFO:tensorflow:loss = 0.27266726, step = 5301 (1.916 sec)\n",
      "INFO:tensorflow:global_step/sec: 50.6249\n",
      "INFO:tensorflow:loss = 0.032677665, step = 5401 (1.976 sec)\n",
      "INFO:tensorflow:global_step/sec: 51.8992\n",
      "INFO:tensorflow:loss = 0.03038904, step = 5501 (1.927 sec)\n",
      "INFO:tensorflow:global_step/sec: 51.8379\n",
      "INFO:tensorflow:loss = 0.014914964, step = 5601 (1.929 sec)\n",
      "INFO:tensorflow:global_step/sec: 52.3619\n",
      "INFO:tensorflow:loss = 0.044147104, step = 5701 (1.909 sec)\n",
      "INFO:tensorflow:global_step/sec: 51.629\n",
      "INFO:tensorflow:loss = 0.3197619, step = 5801 (1.937 sec)\n",
      "INFO:tensorflow:global_step/sec: 51.4732\n",
      "INFO:tensorflow:loss = 0.033410873, step = 5901 (1.943 sec)\n",
      "INFO:tensorflow:global_step/sec: 52.7364\n",
      "INFO:tensorflow:loss = 0.035701774, step = 6001 (1.896 sec)\n",
      "INFO:tensorflow:global_step/sec: 51.554\n",
      "INFO:tensorflow:loss = 0.08737838, step = 6101 (1.940 sec)\n",
      "INFO:tensorflow:global_step/sec: 50.6112\n",
      "INFO:tensorflow:loss = 0.008033576, step = 6201 (1.975 sec)\n",
      "INFO:tensorflow:global_step/sec: 48.9431\n",
      "INFO:tensorflow:loss = 0.019559294, step = 6301 (2.043 sec)\n",
      "INFO:tensorflow:global_step/sec: 45.7185\n",
      "INFO:tensorflow:loss = 0.0239755, step = 6401 (2.187 sec)\n",
      "INFO:tensorflow:global_step/sec: 51.4773\n",
      "INFO:tensorflow:loss = 0.026216637, step = 6501 (1.943 sec)\n",
      "INFO:tensorflow:global_step/sec: 53.6574\n",
      "INFO:tensorflow:loss = 0.035930563, step = 6601 (1.863 sec)\n",
      "INFO:tensorflow:global_step/sec: 53.4658\n",
      "INFO:tensorflow:loss = 0.012211544, step = 6701 (1.870 sec)\n",
      "INFO:tensorflow:global_step/sec: 53.9825\n",
      "INFO:tensorflow:loss = 0.099074095, step = 6801 (1.853 sec)\n",
      "INFO:tensorflow:global_step/sec: 53.6632\n",
      "INFO:tensorflow:loss = 0.012778895, step = 6901 (1.863 sec)\n",
      "INFO:tensorflow:global_step/sec: 54.7908\n",
      "INFO:tensorflow:loss = 0.18353516, step = 7001 (1.825 sec)\n",
      "INFO:tensorflow:global_step/sec: 54.4787\n",
      "INFO:tensorflow:loss = 0.07516977, step = 7101 (1.836 sec)\n",
      "INFO:tensorflow:global_step/sec: 54.245\n",
      "INFO:tensorflow:loss = 0.022360936, step = 7201 (1.844 sec)\n",
      "INFO:tensorflow:global_step/sec: 53.8748\n",
      "INFO:tensorflow:loss = 1.0492541, step = 7301 (1.856 sec)\n",
      "INFO:tensorflow:global_step/sec: 54.6012\n",
      "INFO:tensorflow:loss = 0.02363428, step = 7401 (1.831 sec)\n",
      "INFO:tensorflow:global_step/sec: 54.3875\n",
      "INFO:tensorflow:loss = 0.15925038, step = 7501 (1.839 sec)\n",
      "INFO:tensorflow:global_step/sec: 54.2453\n",
      "INFO:tensorflow:loss = 0.021329965, step = 7601 (1.844 sec)\n",
      "INFO:tensorflow:global_step/sec: 54.3359\n",
      "INFO:tensorflow:loss = 0.024959087, step = 7701 (1.840 sec)\n",
      "INFO:tensorflow:global_step/sec: 53.7246\n",
      "INFO:tensorflow:loss = 0.013364156, step = 7801 (1.861 sec)\n",
      "INFO:tensorflow:global_step/sec: 44.0853\n"
     ]
    },
    {
     "name": "stdout",
     "output_type": "stream",
     "text": [
      "INFO:tensorflow:loss = 0.033222627, step = 7901 (2.268 sec)\n",
      "INFO:tensorflow:global_step/sec: 49.1806\n",
      "INFO:tensorflow:loss = 0.007316313, step = 8001 (2.033 sec)\n",
      "INFO:tensorflow:global_step/sec: 49.8872\n",
      "INFO:tensorflow:loss = 0.012808415, step = 8101 (2.004 sec)\n",
      "INFO:tensorflow:global_step/sec: 53.5426\n",
      "INFO:tensorflow:loss = 0.009774205, step = 8201 (1.868 sec)\n",
      "INFO:tensorflow:global_step/sec: 53.0887\n",
      "INFO:tensorflow:loss = 0.026046386, step = 8301 (1.884 sec)\n",
      "INFO:tensorflow:global_step/sec: 53.6554\n",
      "INFO:tensorflow:loss = 0.01219924, step = 8401 (1.864 sec)\n",
      "INFO:tensorflow:global_step/sec: 47.8475\n",
      "INFO:tensorflow:loss = 0.06376077, step = 8501 (2.090 sec)\n",
      "INFO:tensorflow:global_step/sec: 41.7894\n",
      "INFO:tensorflow:loss = 0.04949587, step = 8601 (2.393 sec)\n",
      "INFO:tensorflow:global_step/sec: 43.1111\n",
      "INFO:tensorflow:loss = 0.011750406, step = 8701 (2.320 sec)\n",
      "INFO:tensorflow:global_step/sec: 45.0534\n",
      "INFO:tensorflow:loss = 0.018069739, step = 8801 (2.220 sec)\n",
      "INFO:tensorflow:global_step/sec: 43.9874\n",
      "INFO:tensorflow:loss = 0.031785212, step = 8901 (2.273 sec)\n",
      "INFO:tensorflow:global_step/sec: 48.1784\n",
      "INFO:tensorflow:loss = 0.011454892, step = 9001 (2.075 sec)\n",
      "INFO:tensorflow:global_step/sec: 54.2973\n",
      "INFO:tensorflow:loss = 0.10368106, step = 9101 (1.842 sec)\n",
      "INFO:tensorflow:global_step/sec: 44.8048\n",
      "INFO:tensorflow:loss = 0.030734278, step = 9201 (2.234 sec)\n",
      "INFO:tensorflow:global_step/sec: 42.134\n",
      "INFO:tensorflow:loss = 0.0300129, step = 9301 (2.372 sec)\n",
      "INFO:tensorflow:global_step/sec: 45.2105\n",
      "INFO:tensorflow:loss = 0.028867986, step = 9401 (2.212 sec)\n",
      "INFO:tensorflow:global_step/sec: 48.6222\n",
      "INFO:tensorflow:loss = 0.041703034, step = 9501 (2.058 sec)\n",
      "INFO:tensorflow:global_step/sec: 47.8445\n",
      "INFO:tensorflow:loss = 1.7676401, step = 9601 (2.089 sec)\n",
      "INFO:tensorflow:global_step/sec: 46.6231\n",
      "INFO:tensorflow:loss = 0.018289963, step = 9701 (2.145 sec)\n",
      "INFO:tensorflow:global_step/sec: 49.705\n",
      "INFO:tensorflow:loss = 0.06782071, step = 9801 (2.012 sec)\n",
      "INFO:tensorflow:global_step/sec: 53.2549\n",
      "INFO:tensorflow:loss = 0.0061181244, step = 9901 (1.878 sec)\n",
      "INFO:tensorflow:Saving checkpoints for 10000 into /var/folders/l4/kglg4bbd4y1c4jgqsvgqbs500000gn/T/tmp0en6_hm1/model.ckpt.\n",
      "INFO:tensorflow:Loss for final step: 0.007086647.\n"
     ]
    },
    {
     "data": {
      "text/plain": [
       "<tensorflow.python.estimator.canned.dnn.DNNClassifier at 0x1a1f8757b8>"
      ]
     },
     "execution_count": 43,
     "metadata": {},
     "output_type": "execute_result"
    }
   ],
   "source": [
    "batch_size = 100\n",
    "train_steps = 10000\n",
    "\n",
    "# Train the Model.\n",
    "classifier.train(\n",
    "    input_fn=lambda:train_input_fn(train_x, train_y, batch_size),\n",
    "    steps=train_steps)"
   ]
  },
  {
   "cell_type": "markdown",
   "metadata": {},
   "source": [
    "We evaluate the model using our test set, containing URLs our model has never seen. The code for evaluation is similar to the code for training - we pass in the test features instead of training features."
   ]
  },
  {
   "cell_type": "code",
   "execution_count": 44,
   "metadata": {},
   "outputs": [
    {
     "name": "stdout",
     "output_type": "stream",
     "text": [
      "INFO:tensorflow:Calling model_fn.\n",
      "INFO:tensorflow:Done calling model_fn.\n",
      "INFO:tensorflow:Starting evaluation at 2018-03-27-21:26:48\n",
      "INFO:tensorflow:Graph was finalized.\n",
      "INFO:tensorflow:Restoring parameters from /var/folders/l4/kglg4bbd4y1c4jgqsvgqbs500000gn/T/tmp0en6_hm1/model.ckpt-10000\n",
      "INFO:tensorflow:Running local_init_op.\n",
      "INFO:tensorflow:Done running local_init_op.\n",
      "INFO:tensorflow:Finished evaluation at 2018-03-27-21:26:55\n",
      "INFO:tensorflow:Saving dict for global step 10000: accuracy = 0.9896317, accuracy_baseline = 0.9542337, auc = 0.95332485, auc_precision_recall = 0.9253292, average_loss = 0.060051527, global_step = 10000, label/mean = 0.045766283, loss = 5.9947934, prediction/mean = 0.042265292\n",
      "\n",
      "Test set accuracy: 0.990\n",
      "\n"
     ]
    }
   ],
   "source": [
    "def eval_input_fn(features, labels, batch_size):\n",
    "    features=dict(features)\n",
    "    # Convert inputs to a Dataset.\n",
    "    dataset = tf.data.Dataset.from_tensor_slices((features, labels))\n",
    "    # Group examples in batches\n",
    "    dataset = dataset.batch(batch_size)\n",
    "    return dataset\n",
    "\n",
    "# Evaluate the model.\n",
    "eval_result = classifier.evaluate(\n",
    "    input_fn=lambda:eval_input_fn(test_x, test_y, batch_size))\n",
    "print('\\nTest set accuracy: {accuracy:0.3f}\\n'.format(**eval_result))"
   ]
  },
  {
   "cell_type": "markdown",
   "metadata": {},
   "source": [
    "You've trained and evaluated your first Tensorflow model, achieving 98.9% accuracy! How good is 98.9%? Let's find out in the next section, where we'll **interpret** our results. But first, run the cell below to launch Tensorboard. Tensorboard is a tool for visualizing the progress of training and evaluating models. Pass in the absolute path where your model is stored (can be found in the output of the training/evaluation steps above) to the `-logdir` parameter below."
   ]
  },
  {
   "cell_type": "code",
   "execution_count": 35,
   "metadata": {},
   "outputs": [
    {
     "name": "stdout",
     "output_type": "stream",
     "text": [
      "Process is terminated.\n"
     ]
    }
   ],
   "source": [
    "%%bash\n",
    "tensorboard -logdir=/var/folders/l4/kglg4bbd4y1c4jgqsvgqbs500000gn/T/tmpa_hzwjkn"
   ]
  },
  {
   "cell_type": "markdown",
   "metadata": {},
   "source": [
    "You can view Tensorboard by entering `localhost:6006` in your browser's address bar. Below is a sample graph you can get from Tensorboard.\n",
    "\n",
    "[<img src=\"https://github.com/VivekShankar/Tutorial/raw/master/TensorboardGraph.png\">](https://github.com/VivekShankar/Tutorial/raw/master/TensorboardGraph.png)"
   ]
  },
  {
   "cell_type": "markdown",
   "metadata": {},
   "source": [
    "The orange curve shows the average loss of the model as a function of the global step (0 to 10,000) while training. The blue dot shows the loss of the model during evaluation: helpful for determining how many steps to train and when you're beginning to overfit! When you're finished, click the \"stop button\" in Jupyter to interrupt the kernel and quit Tensorboard. For more information, check out https://www.tensorflow.org/programmers_guide/summaries_and_tensorboard"
   ]
  },
  {
   "cell_type": "markdown",
   "metadata": {},
   "source": [
    "## Results"
   ]
  },
  {
   "cell_type": "markdown",
   "metadata": {},
   "source": [
    "We come back to a crucial point regarding the distribution of labels in our dataset: 95% are benign. Even a naive classifier that outputs 0 (benign) for every URL will achieve 95% accuracy! We consider different classification metrics: precision and recall for evaluating our model. Since we're using a pre-made estimator, we can't change the default evaluation metrics and directly get precision-recall statistics. First, we use `classifier.predict` to get the predictions made by our model for each example in the test set."
   ]
  },
  {
   "cell_type": "code",
   "execution_count": 45,
   "metadata": {
    "collapsed": true
   },
   "outputs": [],
   "source": [
    "df = test_x\n",
    "expected = test_y\n",
    "predictions = classifier.predict(input_fn=lambda:eval_input_fn(df,expected,batch_size))"
   ]
  },
  {
   "cell_type": "markdown",
   "metadata": {},
   "source": [
    "The `predict` method returns a list of dictionaries describing the model's predictions, one dictionary per example. Here is a description of the keys.\n",
    "1. `probabilities` maps to a list of probabilities for each class, representing the probability that the example is a particular class.\n",
    "2. `class_ids` maps to a singleton containing the most likely class (0 for benign, 1 for malicious).\n",
    "\n",
    "We loop through the predictions list and list of labels together to compute precision-recall statistics."
   ]
  },
  {
   "cell_type": "code",
   "execution_count": 46,
   "metadata": {},
   "outputs": [
    {
     "name": "stdout",
     "output_type": "stream",
     "text": [
      "INFO:tensorflow:Calling model_fn.\n",
      "INFO:tensorflow:Done calling model_fn.\n",
      "INFO:tensorflow:Graph was finalized.\n",
      "INFO:tensorflow:Restoring parameters from /var/folders/l4/kglg4bbd4y1c4jgqsvgqbs500000gn/T/tmp0en6_hm1/model.ckpt-10000\n",
      "INFO:tensorflow:Running local_init_op.\n",
      "INFO:tensorflow:Done running local_init_op.\n",
      "Accuracy = 0.990\n",
      "Precision = 0.923\n",
      "Recall = 0.844\n"
     ]
    }
   ],
   "source": [
    "class_id_map = {0 : \"not fraudulent\", 1 : \"fraudulent\"}\n",
    "FP, FN, TP, TN = (0, 0, 0, 0) # for computing precision-recall\n",
    "\n",
    "# Store a list of the probabilities predicted by the model\n",
    "# Useful for computing PR curves later\n",
    "probabilities = []\n",
    "\n",
    "# Loop through each example in the predictions list\n",
    "for pred_dict, expec in zip(predictions, expected):\n",
    "    # Retrieve the id of the most likely class \n",
    "    # This is stored in index 0 of the class_ids list.\n",
    "    class_id = pred_dict['class_ids'][0]\n",
    "    # Retrieve the probability predicted by the model on this example\n",
    "    probabilities.append(pred_dict['logistic'][0])\n",
    "    \n",
    "    # Model made the correct prediction\n",
    "    if class_id == expec:\n",
    "        if expec == 0:\n",
    "            TN += 1\n",
    "        else:\n",
    "            assert(expec == 1)\n",
    "            TP += 1\n",
    "    \n",
    "    # Model made a mistake\n",
    "    if class_id != expec:\n",
    "        if class_id == 0 and expec == 1:\n",
    "            FN += 1\n",
    "        else:\n",
    "            assert(class_id == 1 and expec == 0)\n",
    "            FP += 1\n",
    "errors = FN + FP\n",
    "total = TN + TP + FN + FP\n",
    "print(\"Accuracy = %0.3f\" % (float(total - errors) / total))\n",
    "print(\"Precision = %0.3f\" % (float(TP) / (TP + FP)))\n",
    "print(\"Recall = %0.3f\" % (float(TP) / (TP + FN)))"
   ]
  },
  {
   "cell_type": "markdown",
   "metadata": {},
   "source": [
    "The default threshold in Tensorflow is: 0.5 (probability above 0.5 means the model predicts fraudulent, < 0.5 means benign). At `threshold=0.5`, we achieved precision: 92.8% and recall: 86.6%; on our test set, we're able to flag 86.6% of the fraudulent URLs. When we predict a URL as fraudulent, we are correct 92.8% of the time. Using the list of probabilities (`probabilities`) and list of labels (`expected`), we use Scikit-learn to compute the precision-recall curve for our model. The PR curve shows what precision and recall our model achieves at different thresholds. "
   ]
  },
  {
   "cell_type": "code",
   "execution_count": 47,
   "metadata": {
    "scrolled": true
   },
   "outputs": [
    {
     "data": {
      "text/plain": [
       "Text(0.5,1,'URL Classification Precision-Recall Curve: AP=0.93')"
      ]
     },
     "execution_count": 47,
     "metadata": {},
     "output_type": "execute_result"
    },
    {
     "data": {
      "image/png": "[encoded data removed]",
      "text/plain": [
       "<Figure size 432x288 with 1 Axes>"
      ]
     },
     "metadata": {},
     "output_type": "display_data"
    }
   ],
   "source": [
    "# 1. Compute the average_precision_score\n",
    "average_precision = average_precision_score(expected, probabilities)\n",
    "# 2. Create the precision-recall (PR) curve object\n",
    "precision, recall, _ = precision_recall_curve(expected, probabilities)\n",
    "# 3. Set parameters of the PR curve\n",
    "plt.step(recall, precision, color='b', alpha=0.2,\n",
    "         where='post')\n",
    "plt.fill_between(recall, precision, step='post', alpha=0.2,\n",
    "                 color='b')\n",
    "plt.xlabel('Recall') # Set axes labels\n",
    "plt.ylabel('Precision')\n",
    "plt.ylim([0.0, 1.1]) # Set axes limits\n",
    "plt.xlim([0.0, 1.1])\n",
    "plt.title('URL Classification Precision-Recall Curve: AP={0:0.2f}'.format(\n",
    "          average_precision))"
   ]
  },
  {
   "cell_type": "markdown",
   "metadata": {
    "collapsed": true
   },
   "source": [
    "We hope you enjoyed this brief tour of Tensorflow walking through URL classification! To learn more, check out the following links:\n",
    "1. Official Tensorflow Programming Guide: (https://www.tensorflow.org/programmers_guide/)\n",
    "2. Specific tutorials on Feature Columns (https://www.tensorflow.org/get_started/feature_columns), creating custom models (https://www.tensorflow.org/get_started/custom_estimators), and much more!\n",
    "3. Machine Learning to Classify Phishing URLs (https://github.com/surajr/URL-Classification)\n",
    "4. Survey of ML for URL Classification (https://arxiv.org/pdf/1701.07179.pdf)"
   ]
  }
 ],
 "metadata": {
  "kernelspec": {
   "display_name": "Python 3",
   "language": "python",
   "name": "python3"
  },
  "language_info": {
   "codemirror_mode": {
    "name": "ipython",
    "version": 3
   },
   "file_extension": ".py",
   "mimetype": "text/x-python",
   "name": "python",
   "nbconvert_exporter": "python",
   "pygments_lexer": "ipython3",
   "version": "3.6.3"
  }
 },
 "nbformat": 4,
 "nbformat_minor": 2
}
