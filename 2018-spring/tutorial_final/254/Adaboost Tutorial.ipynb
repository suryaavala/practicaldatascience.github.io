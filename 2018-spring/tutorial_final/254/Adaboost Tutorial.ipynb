{
 "cells": [
  {
   "cell_type": "markdown",
   "metadata": {},
   "source": [
    "# Adaboost \n",
    "In this tutorial, I will introduce the Adaboost algorithm. The outline is as follows.\n",
    "* Introduction\n",
    "* Algorithm detail\n",
    "* Sample application\n",
    "* Algorithm implementation"
   ]
  },
  {
   "cell_type": "markdown",
   "metadata": {},
   "source": [
    "# Introduction\n",
    "## Boosting\n",
    "Boosting is an algorithm to combine multiple weak learning algorithm to a strong learning algorithm. If we use binary classification as examples. Weak classifiers are those which only can achieve a slightly better accuracy than the random guessing by the probability. The boosting ensembles many weak classifiers together, making a strong classifiers. When the multiple weak classifiers are easy to train, which means they can be train with limited computing resource, the boosting will be very useful.\n",
    "\n",
    "## Adaboost\n",
    "Adaboost means “Adaptive Boosting”, which first created by Yoav Freund and Robert Schapire in 1995<sup>[1]</sup>. The underlying logic is to assign weights to the data samples. When the model is being trained, the model will assign more weights to data samples which are classified wrongly by the first classifier. Then it will introduce a new weak classifiers and run classification on the updated data samples, untill the mode converge to an accepeted loss or the max iterations. Also, in each iteration, the model will calculate the error rate for each weak classifier. After all iterations, the ensembled strong classifier will be a weighed summary of the weak classifiers, when the weights are calculated by their error rate. Then the classifiers with lower error rate will have a higher weights in the ensembled classifier. <br>\n",
    "Because the ensembled classifiers are conbinations of weak classifiers, they are less prone to overfitting. Weak classifiers such as one level decision tree are not likely to overfit the training dataset. Also, the ensembled model sometimes can have better accuracy than other strong classifiers. As a result, Adaboost becomes a popular ensembling algorithm in machine learning.\n"
   ]
  },
  {
   "cell_type": "markdown",
   "metadata": {},
   "source": [
    "# Algorithm detail\n",
    "#### Step 1\n",
    "First, we need to initiate the weights. If we have n data samples, we will assign 1/n to each data sample.\n",
    "W<sub>1</sub> = (w<sub>11</sub>,w<sub>1j</sub>,...,w<sub>1N</sub>)\n",
    "#### Step 2\n",
    "Then, we will iterate I rounds. In each round, we use a new weak classifier<br>\n",
    "For i = 1,2,...,I: <br>\n",
    "1. Train the weak classifier L<sub>i</sub>(x)\n",
    "2. Calculate the error rate of the classifier e<sub>i</sub>\n",
    "3. Calculate the weight of this weak classifier in the ensembled classifier a<sub>i</sub><br>\n",
    "In the Yoav Freund's paper, they used $ \\frac{1}2log(\\frac{1 - {e_i}}{e_i})$. With this equation, the classifiers with lower error rates will have a higher weights in the ensembled classifier. Though this, the ensembled classifier can be more accrate since it tend to rely more on the accurate weak classifier.\n",
    "4. Update the weights of the data samplesW<sub>i + 1</sub>\n",
    "In this sub step, we will increase the weights of those samples that are classified wrongly. So the classifier will focus more on the samples that are hard to classify.\n",
    "\n",
    "\n",
    "\n",
    "#### Step 3   \n",
    "Finally, we got our ensembled binary classifier. $ sign(\\sum_{i = 1}^{I}{a_iL_i(x)}) $"
   ]
  },
  {
   "cell_type": "markdown",
   "metadata": {},
   "source": [
    "# Sample application\n",
    "In this section, I will use adaboost to train a classifier to classify if the network incoming trafic is malicious or benign. To analyze malicious traffic, I use the KDD-99 data<sup>[2]</sup>, which is widely used for the evaluation of the traffic classify. The attacks in the KDD-99 data are categorized in four categories. They are denial of service attack, user to root attack, remote to local attack, probing attck, and remote to local attack. Because Adaboost is suitable for binary classification. I will classify the data to malicious (1) or not (-1). <br>\n",
    "To make the classifications, there are 41 features. It includes some property features such as the protocol, service and so on. it also consits of may behavior features,which are the behavior of the same host or same services. Those features are extracted based on the domain knowledge. We are going to use all of them.\n",
    "The detail description of the data can be found [here](http://kdd.ics.uci.edu/databases/kddcup99/kddcup99.html)"
   ]
  },
  {
   "cell_type": "code",
   "execution_count": 1,
   "metadata": {},
   "outputs": [],
   "source": [
    "import pandas as pd\n",
    "import numpy as np"
   ]
  },
  {
   "cell_type": "markdown",
   "metadata": {},
   "source": [
    "## Data cleaning and preprocessing\n",
    "First, I will clean the data and process it to the desired format. Since the data is procurated, I do not need to handle the missing value or outliers. But we still need to prepare the data to the format that the model can consume."
   ]
  },
  {
   "cell_type": "code",
   "execution_count": 2,
   "metadata": {},
   "outputs": [],
   "source": [
    "def data_clean(path):\n",
    "    column = []\n",
    "    with open(\"att\", 'r') as att:\n",
    "        for line in att:\n",
    "            column.append(line.split(\":\")[0])\n",
    "    column.extend(['label','category'])\n",
    "    match_dict = {'normal':'normal'}\n",
    "    with open (\"training_attack_types\", 'r') as match:\n",
    "        for line in match:\n",
    "            temp = line.split(\" \")\n",
    "            if len(temp) != 2:\n",
    "                continue\n",
    "            match_dict[temp[0].strip()] = temp[1].strip()\n",
    "    data = pd.read_csv(path,names = column)\n",
    "    data['category'] = data['label'].apply(lambda x: match_dict[x.strip('.')] if x.strip('.') in match_dict else None)\n",
    "    data = data.drop('label',1)\n",
    "    data = data.drop('service',1)\n",
    "    data = data[data.category.notnull()]\n",
    "    return data"
   ]
  },
  {
   "cell_type": "code",
   "execution_count": 23,
   "metadata": {},
   "outputs": [],
   "source": [
    "# First, download the data from object storage\n",
    "train = data_clean('https://objectstorage.us-ashburn-1.oraclecloud.com/n/bestat/b/davidtesting/o/train2.csv')\n",
    "test = data_clean('https://objectstorage.us-ashburn-1.oraclecloud.com/n/bestat/b/davidtesting/o/test.csv')"
   ]
  },
  {
   "cell_type": "code",
   "execution_count": 24,
   "metadata": {},
   "outputs": [
    {
     "data": {
      "text/html": [
       "<div>\n",
       "<style scoped>\n",
       "    .dataframe tbody tr th:only-of-type {\n",
       "        vertical-align: middle;\n",
       "    }\n",
       "\n",
       "    .dataframe tbody tr th {\n",
       "        vertical-align: top;\n",
       "    }\n",
       "\n",
       "    .dataframe thead th {\n",
       "        text-align: right;\n",
       "    }\n",
       "</style>\n",
       "<table border=\"1\" class=\"dataframe\">\n",
       "  <thead>\n",
       "    <tr style=\"text-align: right;\">\n",
       "      <th></th>\n",
       "      <th>duration</th>\n",
       "      <th>protocol_type</th>\n",
       "      <th>flag</th>\n",
       "      <th>src_bytes</th>\n",
       "      <th>dst_bytes</th>\n",
       "      <th>land</th>\n",
       "      <th>wrong_fragment</th>\n",
       "      <th>urgent</th>\n",
       "      <th>hot</th>\n",
       "      <th>num_failed_logins</th>\n",
       "      <th>...</th>\n",
       "      <th>dst_host_srv_count</th>\n",
       "      <th>dst_host_same_srv_rate</th>\n",
       "      <th>dst_host_diff_srv_rate</th>\n",
       "      <th>dst_host_same_src_port_rate</th>\n",
       "      <th>dst_host_srv_diff_host_rate</th>\n",
       "      <th>dst_host_serror_rate</th>\n",
       "      <th>dst_host_srv_serror_rate</th>\n",
       "      <th>dst_host_rerror_rate</th>\n",
       "      <th>dst_host_srv_rerror_rate</th>\n",
       "      <th>category</th>\n",
       "    </tr>\n",
       "  </thead>\n",
       "  <tbody>\n",
       "    <tr>\n",
       "      <th>0</th>\n",
       "      <td>0</td>\n",
       "      <td>tcp</td>\n",
       "      <td>SF</td>\n",
       "      <td>491</td>\n",
       "      <td>0</td>\n",
       "      <td>0</td>\n",
       "      <td>0</td>\n",
       "      <td>0</td>\n",
       "      <td>0</td>\n",
       "      <td>0</td>\n",
       "      <td>...</td>\n",
       "      <td>25</td>\n",
       "      <td>0.17</td>\n",
       "      <td>0.03</td>\n",
       "      <td>0.17</td>\n",
       "      <td>0.00</td>\n",
       "      <td>0.00</td>\n",
       "      <td>0.00</td>\n",
       "      <td>0.05</td>\n",
       "      <td>0.00</td>\n",
       "      <td>normal</td>\n",
       "    </tr>\n",
       "    <tr>\n",
       "      <th>1</th>\n",
       "      <td>0</td>\n",
       "      <td>udp</td>\n",
       "      <td>SF</td>\n",
       "      <td>146</td>\n",
       "      <td>0</td>\n",
       "      <td>0</td>\n",
       "      <td>0</td>\n",
       "      <td>0</td>\n",
       "      <td>0</td>\n",
       "      <td>0</td>\n",
       "      <td>...</td>\n",
       "      <td>1</td>\n",
       "      <td>0.00</td>\n",
       "      <td>0.60</td>\n",
       "      <td>0.88</td>\n",
       "      <td>0.00</td>\n",
       "      <td>0.00</td>\n",
       "      <td>0.00</td>\n",
       "      <td>0.00</td>\n",
       "      <td>0.00</td>\n",
       "      <td>normal</td>\n",
       "    </tr>\n",
       "    <tr>\n",
       "      <th>2</th>\n",
       "      <td>0</td>\n",
       "      <td>tcp</td>\n",
       "      <td>S0</td>\n",
       "      <td>0</td>\n",
       "      <td>0</td>\n",
       "      <td>0</td>\n",
       "      <td>0</td>\n",
       "      <td>0</td>\n",
       "      <td>0</td>\n",
       "      <td>0</td>\n",
       "      <td>...</td>\n",
       "      <td>26</td>\n",
       "      <td>0.10</td>\n",
       "      <td>0.05</td>\n",
       "      <td>0.00</td>\n",
       "      <td>0.00</td>\n",
       "      <td>1.00</td>\n",
       "      <td>1.00</td>\n",
       "      <td>0.00</td>\n",
       "      <td>0.00</td>\n",
       "      <td>dos</td>\n",
       "    </tr>\n",
       "    <tr>\n",
       "      <th>3</th>\n",
       "      <td>0</td>\n",
       "      <td>tcp</td>\n",
       "      <td>SF</td>\n",
       "      <td>232</td>\n",
       "      <td>8153</td>\n",
       "      <td>0</td>\n",
       "      <td>0</td>\n",
       "      <td>0</td>\n",
       "      <td>0</td>\n",
       "      <td>0</td>\n",
       "      <td>...</td>\n",
       "      <td>255</td>\n",
       "      <td>1.00</td>\n",
       "      <td>0.00</td>\n",
       "      <td>0.03</td>\n",
       "      <td>0.04</td>\n",
       "      <td>0.03</td>\n",
       "      <td>0.01</td>\n",
       "      <td>0.00</td>\n",
       "      <td>0.01</td>\n",
       "      <td>normal</td>\n",
       "    </tr>\n",
       "    <tr>\n",
       "      <th>4</th>\n",
       "      <td>0</td>\n",
       "      <td>tcp</td>\n",
       "      <td>SF</td>\n",
       "      <td>199</td>\n",
       "      <td>420</td>\n",
       "      <td>0</td>\n",
       "      <td>0</td>\n",
       "      <td>0</td>\n",
       "      <td>0</td>\n",
       "      <td>0</td>\n",
       "      <td>...</td>\n",
       "      <td>255</td>\n",
       "      <td>1.00</td>\n",
       "      <td>0.00</td>\n",
       "      <td>0.00</td>\n",
       "      <td>0.00</td>\n",
       "      <td>0.00</td>\n",
       "      <td>0.00</td>\n",
       "      <td>0.00</td>\n",
       "      <td>0.00</td>\n",
       "      <td>normal</td>\n",
       "    </tr>\n",
       "  </tbody>\n",
       "</table>\n",
       "<p>5 rows × 41 columns</p>\n",
       "</div>"
      ],
      "text/plain": [
       "   duration protocol_type flag  src_bytes  dst_bytes  land  wrong_fragment  \\\n",
       "0         0           tcp   SF        491          0     0               0   \n",
       "1         0           udp   SF        146          0     0               0   \n",
       "2         0           tcp   S0          0          0     0               0   \n",
       "3         0           tcp   SF        232       8153     0               0   \n",
       "4         0           tcp   SF        199        420     0               0   \n",
       "\n",
       "   urgent  hot  num_failed_logins    ...     dst_host_srv_count  \\\n",
       "0       0    0                  0    ...                     25   \n",
       "1       0    0                  0    ...                      1   \n",
       "2       0    0                  0    ...                     26   \n",
       "3       0    0                  0    ...                    255   \n",
       "4       0    0                  0    ...                    255   \n",
       "\n",
       "   dst_host_same_srv_rate  dst_host_diff_srv_rate  \\\n",
       "0                    0.17                    0.03   \n",
       "1                    0.00                    0.60   \n",
       "2                    0.10                    0.05   \n",
       "3                    1.00                    0.00   \n",
       "4                    1.00                    0.00   \n",
       "\n",
       "   dst_host_same_src_port_rate  dst_host_srv_diff_host_rate  \\\n",
       "0                         0.17                         0.00   \n",
       "1                         0.88                         0.00   \n",
       "2                         0.00                         0.00   \n",
       "3                         0.03                         0.04   \n",
       "4                         0.00                         0.00   \n",
       "\n",
       "   dst_host_serror_rate  dst_host_srv_serror_rate  dst_host_rerror_rate  \\\n",
       "0                  0.00                      0.00                  0.05   \n",
       "1                  0.00                      0.00                  0.00   \n",
       "2                  1.00                      1.00                  0.00   \n",
       "3                  0.03                      0.01                  0.00   \n",
       "4                  0.00                      0.00                  0.00   \n",
       "\n",
       "   dst_host_srv_rerror_rate  category  \n",
       "0                      0.00    normal  \n",
       "1                      0.00    normal  \n",
       "2                      0.00       dos  \n",
       "3                      0.01    normal  \n",
       "4                      0.00    normal  \n",
       "\n",
       "[5 rows x 41 columns]"
      ]
     },
     "execution_count": 24,
     "metadata": {},
     "output_type": "execute_result"
    }
   ],
   "source": [
    "train.head()"
   ]
  },
  {
   "cell_type": "code",
   "execution_count": 8,
   "metadata": {},
   "outputs": [
    {
     "data": {
      "text/html": [
       "<div>\n",
       "<style scoped>\n",
       "    .dataframe tbody tr th:only-of-type {\n",
       "        vertical-align: middle;\n",
       "    }\n",
       "\n",
       "    .dataframe tbody tr th {\n",
       "        vertical-align: top;\n",
       "    }\n",
       "\n",
       "    .dataframe thead th {\n",
       "        text-align: right;\n",
       "    }\n",
       "</style>\n",
       "<table border=\"1\" class=\"dataframe\">\n",
       "  <thead>\n",
       "    <tr style=\"text-align: right;\">\n",
       "      <th></th>\n",
       "      <th>duration</th>\n",
       "      <th>protocol_type</th>\n",
       "      <th>flag</th>\n",
       "      <th>src_bytes</th>\n",
       "      <th>dst_bytes</th>\n",
       "      <th>land</th>\n",
       "      <th>wrong_fragment</th>\n",
       "      <th>urgent</th>\n",
       "      <th>hot</th>\n",
       "      <th>num_failed_logins</th>\n",
       "      <th>...</th>\n",
       "      <th>dst_host_srv_count</th>\n",
       "      <th>dst_host_same_srv_rate</th>\n",
       "      <th>dst_host_diff_srv_rate</th>\n",
       "      <th>dst_host_same_src_port_rate</th>\n",
       "      <th>dst_host_srv_diff_host_rate</th>\n",
       "      <th>dst_host_serror_rate</th>\n",
       "      <th>dst_host_srv_serror_rate</th>\n",
       "      <th>dst_host_rerror_rate</th>\n",
       "      <th>dst_host_srv_rerror_rate</th>\n",
       "      <th>category</th>\n",
       "    </tr>\n",
       "  </thead>\n",
       "  <tbody>\n",
       "    <tr>\n",
       "      <th>0</th>\n",
       "      <td>0</td>\n",
       "      <td>udp</td>\n",
       "      <td>SF</td>\n",
       "      <td>105</td>\n",
       "      <td>146</td>\n",
       "      <td>0</td>\n",
       "      <td>0</td>\n",
       "      <td>0</td>\n",
       "      <td>0</td>\n",
       "      <td>0</td>\n",
       "      <td>...</td>\n",
       "      <td>254</td>\n",
       "      <td>1.00</td>\n",
       "      <td>0.01</td>\n",
       "      <td>0.0</td>\n",
       "      <td>0.0</td>\n",
       "      <td>0.0</td>\n",
       "      <td>0.0</td>\n",
       "      <td>0.0</td>\n",
       "      <td>0.0</td>\n",
       "      <td>normal</td>\n",
       "    </tr>\n",
       "    <tr>\n",
       "      <th>1</th>\n",
       "      <td>0</td>\n",
       "      <td>udp</td>\n",
       "      <td>SF</td>\n",
       "      <td>105</td>\n",
       "      <td>146</td>\n",
       "      <td>0</td>\n",
       "      <td>0</td>\n",
       "      <td>0</td>\n",
       "      <td>0</td>\n",
       "      <td>0</td>\n",
       "      <td>...</td>\n",
       "      <td>254</td>\n",
       "      <td>1.00</td>\n",
       "      <td>0.01</td>\n",
       "      <td>0.0</td>\n",
       "      <td>0.0</td>\n",
       "      <td>0.0</td>\n",
       "      <td>0.0</td>\n",
       "      <td>0.0</td>\n",
       "      <td>0.0</td>\n",
       "      <td>normal</td>\n",
       "    </tr>\n",
       "    <tr>\n",
       "      <th>2</th>\n",
       "      <td>0</td>\n",
       "      <td>udp</td>\n",
       "      <td>SF</td>\n",
       "      <td>105</td>\n",
       "      <td>146</td>\n",
       "      <td>0</td>\n",
       "      <td>0</td>\n",
       "      <td>0</td>\n",
       "      <td>0</td>\n",
       "      <td>0</td>\n",
       "      <td>...</td>\n",
       "      <td>254</td>\n",
       "      <td>1.00</td>\n",
       "      <td>0.01</td>\n",
       "      <td>0.0</td>\n",
       "      <td>0.0</td>\n",
       "      <td>0.0</td>\n",
       "      <td>0.0</td>\n",
       "      <td>0.0</td>\n",
       "      <td>0.0</td>\n",
       "      <td>normal</td>\n",
       "    </tr>\n",
       "    <tr>\n",
       "      <th>3</th>\n",
       "      <td>0</td>\n",
       "      <td>udp</td>\n",
       "      <td>SF</td>\n",
       "      <td>29</td>\n",
       "      <td>0</td>\n",
       "      <td>0</td>\n",
       "      <td>0</td>\n",
       "      <td>0</td>\n",
       "      <td>0</td>\n",
       "      <td>0</td>\n",
       "      <td>...</td>\n",
       "      <td>3</td>\n",
       "      <td>0.30</td>\n",
       "      <td>0.30</td>\n",
       "      <td>0.3</td>\n",
       "      <td>0.0</td>\n",
       "      <td>0.0</td>\n",
       "      <td>0.0</td>\n",
       "      <td>0.0</td>\n",
       "      <td>0.0</td>\n",
       "      <td>normal</td>\n",
       "    </tr>\n",
       "    <tr>\n",
       "      <th>4</th>\n",
       "      <td>0</td>\n",
       "      <td>udp</td>\n",
       "      <td>SF</td>\n",
       "      <td>105</td>\n",
       "      <td>146</td>\n",
       "      <td>0</td>\n",
       "      <td>0</td>\n",
       "      <td>0</td>\n",
       "      <td>0</td>\n",
       "      <td>0</td>\n",
       "      <td>...</td>\n",
       "      <td>253</td>\n",
       "      <td>0.99</td>\n",
       "      <td>0.01</td>\n",
       "      <td>0.0</td>\n",
       "      <td>0.0</td>\n",
       "      <td>0.0</td>\n",
       "      <td>0.0</td>\n",
       "      <td>0.0</td>\n",
       "      <td>0.0</td>\n",
       "      <td>normal</td>\n",
       "    </tr>\n",
       "  </tbody>\n",
       "</table>\n",
       "<p>5 rows × 41 columns</p>\n",
       "</div>"
      ],
      "text/plain": [
       "   duration protocol_type flag  src_bytes  dst_bytes  land  wrong_fragment  \\\n",
       "0         0           udp   SF        105        146     0               0   \n",
       "1         0           udp   SF        105        146     0               0   \n",
       "2         0           udp   SF        105        146     0               0   \n",
       "3         0           udp   SF         29          0     0               0   \n",
       "4         0           udp   SF        105        146     0               0   \n",
       "\n",
       "   urgent  hot  num_failed_logins    ...     dst_host_srv_count  \\\n",
       "0       0    0                  0    ...                    254   \n",
       "1       0    0                  0    ...                    254   \n",
       "2       0    0                  0    ...                    254   \n",
       "3       0    0                  0    ...                      3   \n",
       "4       0    0                  0    ...                    253   \n",
       "\n",
       "   dst_host_same_srv_rate  dst_host_diff_srv_rate  \\\n",
       "0                    1.00                    0.01   \n",
       "1                    1.00                    0.01   \n",
       "2                    1.00                    0.01   \n",
       "3                    0.30                    0.30   \n",
       "4                    0.99                    0.01   \n",
       "\n",
       "   dst_host_same_src_port_rate  dst_host_srv_diff_host_rate  \\\n",
       "0                          0.0                          0.0   \n",
       "1                          0.0                          0.0   \n",
       "2                          0.0                          0.0   \n",
       "3                          0.3                          0.0   \n",
       "4                          0.0                          0.0   \n",
       "\n",
       "   dst_host_serror_rate  dst_host_srv_serror_rate  dst_host_rerror_rate  \\\n",
       "0                   0.0                       0.0                   0.0   \n",
       "1                   0.0                       0.0                   0.0   \n",
       "2                   0.0                       0.0                   0.0   \n",
       "3                   0.0                       0.0                   0.0   \n",
       "4                   0.0                       0.0                   0.0   \n",
       "\n",
       "   dst_host_srv_rerror_rate  category  \n",
       "0                       0.0    normal  \n",
       "1                       0.0    normal  \n",
       "2                       0.0    normal  \n",
       "3                       0.0    normal  \n",
       "4                       0.0    normal  \n",
       "\n",
       "[5 rows x 41 columns]"
      ]
     },
     "execution_count": 8,
     "metadata": {},
     "output_type": "execute_result"
    }
   ],
   "source": [
    "test = test.reset_index(drop=True)\n",
    "test.head()"
   ]
  },
  {
   "cell_type": "markdown",
   "metadata": {},
   "source": [
    "The columns of the data is as follows. We notice the \"protocol_type\", \"flag\", \"land\", and \"service\" are categorical variables. We need to change them to dummy variables."
   ]
  },
  {
   "cell_type": "code",
   "execution_count": 6,
   "metadata": {},
   "outputs": [
    {
     "data": {
      "text/plain": [
       "Index(['duration', 'protocol_type', 'flag', 'src_bytes', 'dst_bytes', 'land',\n",
       "       'wrong_fragment', 'urgent', 'hot', 'num_failed_logins', 'logged_in',\n",
       "       'num_compromised', 'root_shell', 'su_attempted', 'num_root',\n",
       "       'num_file_creations', 'num_shells', 'num_access_files',\n",
       "       'num_outbound_cmds', 'is_host_login', 'is_guest_login', 'count',\n",
       "       'srv_count', 'serror_rate', 'srv_serror_rate', 'rerror_rate',\n",
       "       'srv_rerror_rate', 'same_srv_rate', 'diff_srv_rate',\n",
       "       'srv_diff_host_rate', 'dst_host_count', 'dst_host_srv_count',\n",
       "       'dst_host_same_srv_rate', 'dst_host_diff_srv_rate',\n",
       "       'dst_host_same_src_port_rate', 'dst_host_srv_diff_host_rate',\n",
       "       'dst_host_serror_rate', 'dst_host_srv_serror_rate',\n",
       "       'dst_host_rerror_rate', 'dst_host_srv_rerror_rate', 'category'],\n",
       "      dtype='object')"
      ]
     },
     "execution_count": 6,
     "metadata": {},
     "output_type": "execute_result"
    }
   ],
   "source": [
    "train.columns"
   ]
  },
  {
   "cell_type": "markdown",
   "metadata": {},
   "source": [
    "After that the category will be processed to +1 and -1 as the binary class."
   ]
  },
  {
   "cell_type": "code",
   "execution_count": 25,
   "metadata": {},
   "outputs": [],
   "source": [
    "train['category'] = train['category'].apply(lambda x: -1 if x == 'normal' else 1)\n",
    "test['category'] = test['category'].apply(lambda x: -1 if x == 'normal' else 1)"
   ]
  },
  {
   "cell_type": "markdown",
   "metadata": {},
   "source": [
    "Then we need to check if the data is imbalanced. Imbalanced data can lead to bias in binary classification problem. In this dataset, we notice the data is almost balanced. Adaboost is sensitive to imbalance data. So we need to make the train data balance."
   ]
  },
  {
   "cell_type": "code",
   "execution_count": 26,
   "metadata": {},
   "outputs": [
    {
     "name": "stdout",
     "output_type": "stream",
     "text": [
      "Percentage of the normal traffic data point is 53.46 \n"
     ]
    }
   ],
   "source": [
    "\n",
    "print(\"Percentage of the normal traffic data point is %.2f \" %( 100 * len(train[train['category'] == -1]) / len(train) )) \n"
   ]
  },
  {
   "cell_type": "code",
   "execution_count": 27,
   "metadata": {},
   "outputs": [
    {
     "name": "stdout",
     "output_type": "stream",
     "text": [
      "Percentage of the normal traffic data point is 50.00 \n"
     ]
    }
   ],
   "source": [
    "# start modified from https://stackoverflow.com/questions/45839316/pandas-balancing-data\n",
    "g = train.groupby('category')\n",
    "train = g.apply(lambda x: x.sample(g.size().min())).reset_index(drop=True)\n",
    "# finish modified from https://stackoverflow.com/questions/45839316/pandas-balancing-data\n",
    "print(\"Percentage of the normal traffic data point is %.2f \" %( 100 * len(train[train['category'] == -1]) / len(train) )) \n"
   ]
  },
  {
   "cell_type": "markdown",
   "metadata": {},
   "source": [
    "The categorical variables are transformed to the binary variables"
   ]
  },
  {
   "cell_type": "code",
   "execution_count": 28,
   "metadata": {},
   "outputs": [],
   "source": [
    "train = pd.get_dummies(train, drop_first=True)\n",
    "test = pd.get_dummies(test, drop_first=True)"
   ]
  },
  {
   "cell_type": "markdown",
   "metadata": {},
   "source": [
    "## Adaboost model training\n",
    "In this section, I will use the processed data to train an adaboost classifier. Also I will train 2 decition tree classifier model as benchmarks. <br>\n",
    "As I mentioned, the adaboost ensemble multiple weak classifiers, in this experienment, the weak classifier we use is decision tree stumps(decision tree with max_depth as 1). Many machine learning libarary has implemented the adaboost classifier. Since we use scikit-learn a lot in other assignments, we will use this liabarary as an example.<br>\n",
    "I also train a decision tree stump to display how much the ensembled model improve."
   ]
  },
  {
   "cell_type": "code",
   "execution_count": 29,
   "metadata": {},
   "outputs": [],
   "source": [
    "from sklearn.ensemble import AdaBoostClassifier\n",
    "from sklearn.tree import DecisionTreeClassifier\n",
    "trainY = np.array(train['category'])\n",
    "trainX = np.array(train.drop('category', 1))"
   ]
  },
  {
   "cell_type": "code",
   "execution_count": 30,
   "metadata": {},
   "outputs": [],
   "source": [
    "benchmark1 = DecisionTreeClassifier(max_depth=1)\n",
    "abc = AdaBoostClassifier(benchmark1,50)"
   ]
  },
  {
   "cell_type": "code",
   "execution_count": 31,
   "metadata": {},
   "outputs": [],
   "source": [
    "abc_model = abc.fit(trainX, trainY)\n",
    "benchmark1_model = benchmark1.fit(trainX, trainY)"
   ]
  },
  {
   "cell_type": "code",
   "execution_count": 32,
   "metadata": {},
   "outputs": [
    {
     "name": "stdout",
     "output_type": "stream",
     "text": [
      "the training accuracy of decision stump is 0.9219\n",
      "the training accuracy of ensembled model is 0.9851\n"
     ]
    }
   ],
   "source": [
    "benchmark1_acc = benchmark1_model.score(trainX,trainY)\n",
    "abc_acc = abc_model.score(trainX,trainY)\n",
    "print (\"the training accuracy of decision stump is %.4f\" % benchmark1_acc)\n",
    "print (\"the training accuracy of ensembled model is %.4f\" % abc_acc)"
   ]
  },
  {
   "cell_type": "markdown",
   "metadata": {},
   "source": [
    "We noticed that on trainging dataset, the accuracy of ensembled is slightly better than the simple dicision tree model."
   ]
  },
  {
   "cell_type": "markdown",
   "metadata": {},
   "source": [
    "## Model evaluation\n",
    "In this section, I use test data to evaluate how the model perform. To evaluate the performance of the model, I use both accuracy and auc score as measurements."
   ]
  },
  {
   "cell_type": "code",
   "execution_count": 33,
   "metadata": {},
   "outputs": [],
   "source": [
    "from sklearn import metrics\n",
    "testY = np.array(test['category'])\n",
    "testX = np.array(test.drop('category', 1))"
   ]
  },
  {
   "cell_type": "code",
   "execution_count": 34,
   "metadata": {},
   "outputs": [
    {
     "name": "stdout",
     "output_type": "stream",
     "text": [
      "the test accuracy of decision stump is 0.4161\n",
      "the test accuracy of ensembled model is 0.9808\n"
     ]
    }
   ],
   "source": [
    "benchmark1_acc_t = benchmark1_model.score(testX,testY)\n",
    "abc_acc_t = abc_model.score(testX,testY)\n",
    "print (\"the test accuracy of decision stump is %.4f\" % benchmark1_acc_t)\n",
    "print (\"the test accuracy of ensembled model is %.4f\" % abc_acc_t)"
   ]
  },
  {
   "cell_type": "code",
   "execution_count": 35,
   "metadata": {},
   "outputs": [],
   "source": [
    "pred_abc = abc_model.predict(testX)\n",
    "pred_b1 = benchmark1_model.predict(testX)"
   ]
  },
  {
   "cell_type": "markdown",
   "metadata": {},
   "source": [
    "Here, I calculate te auc score of the model. "
   ]
  },
  {
   "cell_type": "code",
   "execution_count": 36,
   "metadata": {},
   "outputs": [],
   "source": [
    "import matplotlib.pyplot as plt\n",
    "# reference: http://scikit-learn.org/stable/modules/generated/sklearn.metrics.auc.html\n",
    "def auc_score(pred):\n",
    "    fpr, tpr, thresholds = metrics.roc_curve(testY, pred, pos_label=1)\n",
    "    return metrics.auc(fpr, tpr)\n",
    "# reference: http://scikit-learn.org/stable/modules/generated/sklearn.metrics.auc.html\n",
    "score_abc = auc_score(pred_abc)\n",
    "score_b1 = auc_score(pred_b1)"
   ]
  },
  {
   "cell_type": "markdown",
   "metadata": {},
   "source": [
    "I will use matplotlib to draw a bar chart on auc score to two classifiers to show the differences."
   ]
  },
  {
   "cell_type": "code",
   "execution_count": 37,
   "metadata": {
    "scrolled": true
   },
   "outputs": [
    {
     "data": {
      "image/png": "[encoded data removed]",
      "text/plain": [
       "<matplotlib.figure.Figure at 0x10ff17da0>"
      ]
     },
     "metadata": {},
     "output_type": "display_data"
    }
   ],
   "source": [
    "import matplotlib.pyplot as plt\n",
    "fig, ax = plt.subplots()\n",
    "plt.bar(np.array([1,2]), (score_abc, score_b1), 0.4,color='lightskyblue')\n",
    "ax.set_xticks(np.array([1,2]))\n",
    "ax.set_xticklabels(('Adaboost','Decision Stump'))\n",
    "ax.set_title('AUC score of the model on test set')\n",
    "plt.show()"
   ]
  },
  {
   "cell_type": "markdown",
   "metadata": {},
   "source": [
    "The bar chart above shows that the adaboost performance much better than the decision stump classifier on the test dataset. The reason why the decision stump perform much worse is because it overfits the data and fail to classify the new testing data. If we increase the depth of the decision tree, the accuracy and the aoc score will be better, however, this chart still dispaly how Adaboost can make weak classifiers such as the decision stump to a strong classifier. It is also much less prone to overfitting than the decision tree model."
   ]
  },
  {
   "cell_type": "markdown",
   "metadata": {},
   "source": [
    "# Implementation of Adaboost\n",
    "In this last section, I will implement a simple version of adaboost algorithm to help you understand the algorithm details more easily. Because the focus of this implementations are Adaboost algorithm, I will still use the decision tree classifiers as the weak classifiers."
   ]
  },
  {
   "cell_type": "code",
   "execution_count": 38,
   "metadata": {},
   "outputs": [],
   "source": [
    "import math\n",
    "import copy\n",
    "class Adaboost():\n",
    "    \n",
    "    classifier = None\n",
    "    iterations = 100\n",
    "    classifier_list = []\n",
    "    significance_list = []\n",
    "    def __init__(self, classifier, iterations):\n",
    "        self.classifier = classifier\n",
    "        self.iterations = iterations\n",
    "        self.classifier_list = []\n",
    "        self.significance_list = []\n",
    "        \n",
    "    def train(self, data, label, verbose=False):\n",
    "        print ()\n",
    "        print (\"model training started\")\n",
    "        if len(data) != len(label):\n",
    "            print (\"data length does not match, abort\")\n",
    "            return\n",
    "        weights = np.array([1] * len(data)).T\n",
    "        weights = weights / weights.sum()\n",
    "        for i in range(0, self.iterations):\n",
    "            # train the weak classifier\n",
    "            classifier = self.classifier.fit(data, label, sample_weight=weights)\n",
    "            self.classifier_list.append(copy.deepcopy(classifier))\n",
    "            # print (classifier)\n",
    "            # calculate the error rate of the weak calssifier\n",
    "            prediction = classifier.predict(data)\n",
    "            correct = [0] * len(label)\n",
    "            wrong = [0] * len(label)\n",
    "            for j in range(0, len(label)):\n",
    "                if label[j] == prediction[j]:\n",
    "                    correct[j] = 1\n",
    "                else:\n",
    "                    wrong[j] = -1\n",
    "            # note that the error is weighted\n",
    "            error = - np.dot(np.array(wrong),(weights.T))\n",
    "            if verbose == True:\n",
    "                print(\"The weighted error of classifier \"+ str(i) + \" is \" + str(error))\n",
    "\n",
    "            # Calculate the weight of this weak classifier in the ensembled classifier \n",
    "            significance = math.log((1 - error) / error) / 2\n",
    "            self.significance_list.append(significance)\n",
    "            if verbose == True:\n",
    "                print(\"The importance of classifier \"+ str(i) + \" is \" + str(significance))\n",
    "\n",
    "            # update the weights\n",
    "            updated_para = np.exp(- significance * (np.array(correct) + np.array(wrong)).T )\n",
    "            weights = weights * updated_para\n",
    "            #normalize the weights\n",
    "            weights = weights / weights.sum()\n",
    "        print (\"model training finished\")\n",
    "        print ()\n",
    "\n",
    "    def predict(self, data, correct_label=None):\n",
    "        sumprob = np.array([0.0] * len(data))\n",
    "        \n",
    "        for i in range(0, len(self.classifier_list)):\n",
    "            #print(self.classifier_list[i].predict(data))\n",
    "            # add all weak classifiers\n",
    "            sumprob += self.significance_list[i] * self.classifier_list[i].predict(data)\n",
    "        # print(sumprob)\n",
    "        # sign(sum(all weak classifiers))\n",
    "        res = []\n",
    "        for j in sumprob:\n",
    "            if j > 0:\n",
    "                res.append(1)\n",
    "            else:\n",
    "                res.append(-1)\n",
    "        if not correct_label is None:\n",
    "            cnt = 0\n",
    "            for k in range(0, len(correct_label)):\n",
    "                if correct_label[k] != res[k]:\n",
    "                    cnt += 1\n",
    "            #print(cnt)\n",
    "            print (\"The accuracy of the prediction is \"+ str(1 - cnt / len(correct_label)))\n",
    "        return np.array(res)\n"
   ]
  },
  {
   "cell_type": "markdown",
   "metadata": {},
   "source": [
    "After implementation, we can use the same data to train the model and get the accuracy to veify that the implementation is correcct."
   ]
  },
  {
   "cell_type": "code",
   "execution_count": 39,
   "metadata": {},
   "outputs": [
    {
     "name": "stdout",
     "output_type": "stream",
     "text": [
      "train the model\n",
      "\n",
      "model training started\n",
      "model training finished\n",
      "\n",
      "The accuracy of the prediction is 0.9727187446699642\n",
      "The accuracy of the prediction is 0.9768286007526514\n"
     ]
    },
    {
     "data": {
      "text/plain": [
       "array([-1, -1, -1, ..., -1, -1, -1])"
      ]
     },
     "execution_count": 39,
     "metadata": {},
     "output_type": "execute_result"
    }
   ],
   "source": [
    "test = Adaboost(benchmark1,50)\n",
    "print (\"train the model\")\n",
    "test.train(trainX, trainY)\n",
    "\n",
    "test.predict(trainX, trainY)\n",
    "test.predict(testX, testY)"
   ]
  },
  {
   "cell_type": "markdown",
   "metadata": {},
   "source": [
    "# Summary and more resources\n",
    "This tutorial introduce the theory and the applications of the Adaboost algorithm. Adaboost is one of the most widely used boosting algorithm. Common appliances include face detection and recoginition, because the preformance of it is good interms of accuracy and runtime. I hope this tutorial can work as a first step of adaboost and boosting. If you are interested in diving deeper into it. You can check these papaers:\n",
    "* [multi class Adaboost](https://www.intlpress.com/site/pub/files/_fulltext/journals/sii/2009/0002/0003/SII-2009-0002-0003-a008.pdf)\n",
    "* [face detection application](http://www.inoa.it/home/cosimo/EI/adaboostforfacedetection.pdf)\n",
    "\n",
    "\n",
    "\n",
    "<br> Apart from the Adaboost, other boosting algorithms also play very important role in the current macine learning area. Many Kaggle winner team will also use boosting such as Adaboost and [Gradient Boosting](https://en.wikipedia.org/wiki/Gradient_boosting) to ensemble the classifiers and achieve a high rank in the competition. [xgboost](https://github.com/dmlc/xgboost) is a library that most Kaggle winners are using to ensemble the model."
   ]
  },
  {
   "cell_type": "markdown",
   "metadata": {},
   "source": [
    "# Reference\n",
    "[1] Freund, Y. (1995). Boosting a weak learning algorithm by majority. Information and computation, 121(2), 256-285.\n",
    "\n",
    "[2] Cost-based Modeling and Evaluation for Data Mining With Application to Fraud and Intrusion Detection: Results from the JAM Project by Salvatore J. Stolfo, Wei Fan, Wenke Lee, Andreas Prodromidis, and Philip K. Chan. \n",
    "\n",
    "[3] Hastie, T., Rosset, S., Zhu, J., & Zou, H. (2009). Multi-class adaboost. Statistics and its Interface, 2(3), 349-360.\n"
   ]
  }
 ],
 "metadata": {
  "kernelspec": {
   "display_name": "Python 3",
   "language": "python",
   "name": "python3"
  },
  "language_info": {
   "codemirror_mode": {
    "name": "ipython",
    "version": 3
   },
   "file_extension": ".py",
   "mimetype": "text/x-python",
   "name": "python",
   "nbconvert_exporter": "python",
   "pygments_lexer": "ipython3",
   "version": "3.5.4"
  }
 },
 "nbformat": 4,
 "nbformat_minor": 2
}
