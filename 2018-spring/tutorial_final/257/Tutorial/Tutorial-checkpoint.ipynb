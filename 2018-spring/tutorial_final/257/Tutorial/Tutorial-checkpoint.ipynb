{
 "cells": [
  {
   "cell_type": "markdown",
   "metadata": {},
   "source": [
    "#                           Using Historical Collections as Data\n",
    "I might need to elaborate  in information about it \n",
    "\n",
    "from where the data comes from and how it is used\n",
    "\n",
    "https://www.loc.gov/collections\n",
    "\n",
    "https://github.com/LibraryOfCongress/data-exploration/blob/master/Accessing%20images%20for%20analysis.ipynb\n",
    "\n",
    "https://github.com/LibraryOfCongress/data-exploration/blob/master/ChronAm%20API%20Samples.ipynb\n",
    "\n",
    "https://github.com/LibraryOfCongress/data-exploration/blob/master/OpenSearch.ipynb\n",
    "\n",
    "https://github.com/LibraryOfCongress/data-exploration/blob/master/IIIF.ipynb\n",
    "\n",
    "\n",
    "http://www.scipy-lectures.org/advanced/image_processing/\n",
    "http://opencv-python-tutroals.readthedocs.io/en/latest/py_tutorials/py_imgproc/py_table_of_contents_imgproc/py_table_of_contents_imgproc.html\n",
    "\n",
    "\n",
    "\n",
    "def get_image_urls(url, images=[], item_urls=[]):\n",
    "    call = requests.get(url)\n",
    "    data = call.json()\n",
    "    results = data['results']\n",
    "    for result in results:\n",
    "        # don't get image from the collection-level result\n",
    "        if \"collection\" not in result.get(\"original_format\") and \"web page\" not in result.get(\"original_format\"):\n",
    "            # sometimes the image_url field starts with https and sometimes not. \n",
    "            if \"http\" in result.get((\"image_url\")[0],\"\"):\n",
    "                image = result.get(\"image_url\")[0] \n",
    "                images.append(image)\n",
    "                item_url = result.get(\"id\")\n",
    "                item_urls.append(item_url)\n",
    "            elif result.get(\"image_url\"):\n",
    "                image = \"https:{0}\".format(result.get(\"image_url\")[0])\n",
    "                images.append(image)\n",
    "                item_url = result.get(\"id\")\n",
    "                item_urls.append(item_url)\n",
    "            else:\n",
    "                # some items don't have images available\n",
    "                print(\"problem result, has no image_url: {0}.\\n {1}\".format(result.get(\"id\"), result))     \n",
    "\n",
    "    if data[\"pagination\"][\"next\"] is not None: # make sure we haven't hit the end of the pages\n",
    "        next_url = data[\"pagination\"][\"next\"]\n",
    "        get_image_urls(next_url, images, item_urls)\n",
    "        \n",
    "    return images, item_urls\n",
    "\n",
    "\n",
    "#items are the urls contained within a sitemap  # the function counts the individual urls within a site map  # from loc.gov/ github repository\n",
    "\n",
    "def getIndividualUrls(sitemap, count_map):\n",
    "    print('.', end='')\n",
    "    r = requests.get(sitemap)    \n",
    "    if r.status_code != 200:\n",
    "        print(\"\\nProblem getting url %s, response was %s\" % (sitemap, r.status_code))\n",
    "        return\n",
    "    tree = ElementTree.fromstring(r.content)\n",
    "    print(tree)    # main tree of Sitemaps\n",
    "    if tree.tag == \"{http://www.sitemaps.org/schemas/sitemap/0.9}sitemapindex\":\n",
    "        for element in tree.iter(\"{http://www.sitemaps.org/schemas/sitemap/0.9}loc\"):\n",
    "            getIndividualUrls(element.text, count_map)\n",
    "            print(element)   #---> count the sitemaps found\n",
    "    else:\n",
    "        for updated in tree.iter(\"{http://www.sitemaps.org/schemas/sitemap/0.9}changefreq\"):\n",
    "            count_map[updated.text] = count_map.get(updated.text, 0) + 1\n",
    "            #print(count_map)    #---> counts Weeks of updates\n",
    "\n",
    "            \n",
    "#------------------------------------------------>                        \n",
    "count = dict()\n",
    "\n",
    "print(\"getting the data from the site maps:\")\n",
    "getIndividualUrls(\"http://www.loc.gov/exhibitions/sitemap.xml\", count)   # prints the number of items\n",
    "print(\"\")\n",
    "\n",
    "for key,value in count.items():\n",
    "    print(\"%s items are updated %s\" % (value, key))  # prints how often is updated\n",
    "\n",
    "\n",
    "print(item_urls)"
   ]
  },
  {
   "cell_type": "code",
   "execution_count": 4,
   "metadata": {
    "collapsed": false
   },
   "outputs": [],
   "source": [
    "import requests  # need to go here\n",
    "from xml.etree import ElementTree "
   ]
  },
  {
   "cell_type": "code",
   "execution_count": 20,
   "metadata": {
    "collapsed": false
   },
   "outputs": [],
   "source": [
    "def get_image_urls(url, items=[]):\n",
    "    '''\n",
    "    Retrieves the image URLs for items that have public URLs available. \n",
    "    Skips over items that are for the colletion as a whole or web pages about the collection.\n",
    "    Handles pagination. \n",
    "    '''\n",
    "    # request pages of 100 results at a time\n",
    "    params = {\"fo\": \"json\", \"c\": 100, \"at\": \"results,pagination\"}\n",
    "    call = requests.get(url, params=params)\n",
    "    data = call.json()\n",
    "    results = data['results']\n",
    "    for result in results:\n",
    "        # don't try to get images from the collection-level result\n",
    "        if \"collection\" not in result.get(\"original_format\") and \"web page\" not in result.get(\"original_format\"):\n",
    "            # take the last URL listed in the image_url array\n",
    "            item = result.get(\"image_url\")[-1]\n",
    "            items.append(item)\n",
    "    if data[\"pagination\"][\"next\"] is not None: # make sure we haven't hit the end of the pages\n",
    "        next_url = data[\"pagination\"][\"next\"]\n",
    "        print(\"getting next page: {0}\".format(next_url))\n",
    "        get_image_urls(next_url, items)\n",
    "        \n",
    "    return items\n"
   ]
  },
  {
   "cell_type": "code",
   "execution_count": 25,
   "metadata": {
    "collapsed": false
   },
   "outputs": [],
   "source": [
    "image_urls = get_image_urls(\"https://www.loc.gov/collections/?fa=subject:portrait+photographs\", items=[])\n",
    "\n",
    "\n",
    "\n",
    "#item_urls = get_image_urls(\"https://www.loc.gov/collections/?q=carol+highsmith+photographs?fo=json\")"
   ]
  },
  {
   "cell_type": "code",
   "execution_count": null,
   "metadata": {
    "collapsed": false
   },
   "outputs": [],
   "source": []
  }
 ],
 "metadata": {
  "kernelspec": {
   "display_name": "Python 3",
   "language": "python",
   "name": "python3"
  },
  "language_info": {
   "codemirror_mode": {
    "name": "ipython",
    "version": 3
   },
   "file_extension": ".py",
   "mimetype": "text/x-python",
   "name": "python",
   "nbconvert_exporter": "python",
   "pygments_lexer": "ipython3",
   "version": "3.6.0"
  }
 },
 "nbformat": 4,
 "nbformat_minor": 2
}
