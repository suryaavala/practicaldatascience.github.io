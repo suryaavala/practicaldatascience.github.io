{
 "cells": [
  {
   "cell_type": "markdown",
   "metadata": {},
   "source": [
    "## Introduction"
   ]
  },
  {
   "cell_type": "markdown",
   "metadata": {},
   "source": [
    "Artificial Neural Networks (ANNs) is undoubtedly one of the state-of-the-art machine learning techniques nowadays. As a learning algorithm, ANNs are fundamentally different from a typical hand-written program. To be more specific, instead of writing thousands programs for each unique problem, artificial neural networks can take advantage of large amounts of train data to teach itself how to achieve certain optimization tasks. It usually takes millions of numbers to train an effective learning algorithm to perform highly complex tasks, such as pattern detection, anomalies recognition, and prediction. \n",
    "\n",
    "In this tutorial, I will try to give a brief introduction to the definition of ANNs. To be more specific, there are four parts:\n",
    "\n",
    " - <a href='#section1'>Components of artificial neural networks</a>\n",
    " - <a href='#section2'>Model representation of artificial neural networks</a>\n",
    " - <a href='#section3'>Simple Implementation of artificial neural networks</a>\n",
    " - <a href='#section4'>Application of artificial neural networks</a>\n",
    "\n",
    "Are you excited to see how it works? Let's get started!"
   ]
  },
  {
   "cell_type": "markdown",
   "metadata": {},
   "source": [
    "## Components of Artificial Neural Network<a id='section1'></a>"
   ]
  },
  {
   "cell_type": "markdown",
   "metadata": {},
   "source": [
    "The original goal of artificial neural networks is to build an algorithm that can solve problems like human brain. As a result, in order to better understand how artificial neural networks work, we should first have a basic idea of how human brain perform tasks. The way human brain solve problems is by using biological neural networks, which is a series interconnected neurons. These neurons process computations by taking messages from other neurons through Dendrites (input) and sending messages to other neurons via Axon (output). The picture below is a single neuron. "
   ]
  },
  {
   "cell_type": "markdown",
   "metadata": {
    "collapsed": true
   },
   "source": [
    "![pic4](https://raw.githubusercontent.com/MegaSt0ne/Picture/master/neurons.png \"Neurons\")"
   ]
  },
  {
   "cell_type": "markdown",
   "metadata": {
    "collapsed": true
   },
   "source": [
    "We can map that relationship into the artificial neural networks to facilitate our understanding. For a artificial neural network, there must be inputs, outputs, layers, and activation functions (in short words, activation functions decide whether a neuron should be \"activated\" or not).\n",
    "\n",
    "Before introducing any mathematical notations, let's first see a simple example of an artificial neural network. As you can see from the picture below, each circle represents a neuron in the network. There are three layers in this network. The left one is the input layer, the middle one is the hidden layer, and the right one is the output layer. $\\ x_1, x_2, x_3$ are three neurons that take inputs; $\\ h_1^2, h_2^2, h_3^2, h_4^2$ (the superscript 2 means it is the second layer in the networks) are four neurons in the hidden layers; $h_\\theta x$ is the final output. "
   ]
  },
  {
   "cell_type": "markdown",
   "metadata": {
    "collapsed": true
   },
   "source": [
    "![pic3](https://raw.githubusercontent.com/MegaSt0ne/Picture/master/Screen%20Shot%202018-03-25%20at%2012.26.48%20AM.png \"Simple Aritificial Nerual Networks\")"
   ]
  },
  {
   "cell_type": "markdown",
   "metadata": {
    "collapsed": true
   },
   "source": [
    "## Model Representation of Artificial Neural Networks <a id='section2'></a>"
   ]
  },
  {
   "cell_type": "markdown",
   "metadata": {
    "collapsed": true
   },
   "source": [
    "In order to solidify our understanding of ANNs, we need to introduce some mathematical notations to help us abstract the model. We can use the above example to demonstrate the model. \n",
    "\n",
    " - $x_i$ is the $ith$ neuron in the input layer, where $i$=0,1,2,3,4...k. \n",
    "    k is the total number of neurons in the input layer. \n",
    " - $h_i^j$ is the $ith$ neuron in the $jth$ layer, where $i$=0,1,2,3,4...m and $j$=1,2,3,4...n. m is the total number of neurons in the hidden layer. n is the total number of layers in the neural networks.\n",
    " - $\\theta^j$ is a matrix of weights of the $jth$ layer, where $j$=0,1,2,3,4...n. n is the total number of layers in the neural networks.\n",
    " \n",
    "If you feel the notations here are not clear enough, I apologize. Don't worry. I will give two examples to make it more clear."
   ]
  },
  {
   "cell_type": "markdown",
   "metadata": {
    "collapsed": true
   },
   "source": [
    "### Example A: Artificial Neural Networks With No Hidden Layer"
   ]
  },
  {
   "cell_type": "markdown",
   "metadata": {},
   "source": [
    "Let's consider an easy example first, a neural networks without hidden layer. How can we model it?"
   ]
  },
  {
   "cell_type": "markdown",
   "metadata": {},
   "source": [
    "![pic2](https://raw.githubusercontent.com/MegaSt0ne/Picture/master/Screen%20Shot%202018-03-25%20at%2012.59.01%20AM.png \"Aritificial Nerual Networks (A)\")"
   ]
  },
  {
   "cell_type": "markdown",
   "metadata": {},
   "source": [
    "First, there are 4 features in the input layer. By convention, $x_0$ is a bias unit and it is always equal to 1. Here, we have a vector of features. \n",
    "\n",
    "\\begin{align}\n",
    "x = \\begin{pmatrix}\n",
    "x_0\\\\\n",
    "x_1\\\\\n",
    "x_2\\\\\n",
    "x_3\n",
    "\\end{pmatrix} \n",
    "\\end{align}"
   ]
  },
  {
   "cell_type": "markdown",
   "metadata": {},
   "source": [
    "Second, because for each feature we will have a weight (parameter) assigned to it, we also have a vector of weights. Please note that currently all the weights are arbitrarily assigned. Later, we will discuss how we can optimize those weights.\n",
    "\n",
    "\\begin{align}\n",
    "\\theta = \\begin{pmatrix}\n",
    "\\theta_0\\\\\n",
    "\\theta_1\\\\\n",
    "\\theta_2\\\\\n",
    "\\theta_3\n",
    "\\end{pmatrix} \n",
    "\\end{align}"
   ]
  },
  {
   "cell_type": "markdown",
   "metadata": {},
   "source": [
    "Last, we define our hypothesis function to be sigmoid (logistic) function. So, = $\\frac{1}{1+e^-\\theta^Tx}$. \n",
    "\n",
    "Also, the inner product of two vector $x$ and $\\theta$ equals to $\\theta^T$$x$ = $x_0\\theta_0 + x_1\\theta_1 + x_2\\theta_2 + x_3\\theta_3$. \n",
    "\n",
    "Then, we can get $h_\\theta$$x$ = $\\frac{1}{1+e^-(x_0\\theta_0 + x_1\\theta_1 + x_2\\theta_2 + x_3\\theta_3)}$. So, in this way we can get the final output.\n",
    "\n",
    "##### Note: In this example, we do not have activation functions in the network because there is no hidden layer. In the next example, we will include activation functions in the network.\n"
   ]
  },
  {
   "cell_type": "markdown",
   "metadata": {
    "collapsed": true
   },
   "source": [
    "### Example B: Artificial Neural Networks With One Hidden Layer"
   ]
  },
  {
   "cell_type": "markdown",
   "metadata": {
    "collapsed": true
   },
   "source": [
    "Now let's take a look at a more advanced example, a neural network with one hidden layer. (Probably \"advanced\" here is too strong a word)\n",
    "\n",
    "![pic1](https://raw.githubusercontent.com/MegaSt0ne/Picture/master/pic1.png \"Aritificial Nerual Networks (B)\")\n",
    "\n",
    "First, there are 4 features in the input layer. By convention, $x_0$ is a bias unit and it is always equal to 1. Here, we have a vector of features. \n",
    "\n",
    "\\begin{align}\n",
    "x = \\begin{pmatrix}\n",
    "x_0\\\\\n",
    "x_1\\\\\n",
    "x_2\\\\\n",
    "x_3\n",
    "\\end{pmatrix} \n",
    "\\end{align}"
   ]
  },
  {
   "cell_type": "markdown",
   "metadata": {
    "collapsed": true
   },
   "source": [
    "Second, because for each feature we will have a weight (parameter) assigned to it, we also have a vector of weights. Please note that currently all the weights are arbitrarily assgined. Later, we will discuss how we can optimize those weights.\n",
    "\n",
    "\\begin{align}\n",
    "\\theta = \\begin{pmatrix}\n",
    "\\theta_0\\\\\n",
    "\\theta_1\\\\\n",
    "\\theta_2\\\\\n",
    "\\theta_3\n",
    "\\end{pmatrix} \n",
    "\\end{align}"
   ]
  },
  {
   "cell_type": "markdown",
   "metadata": {
    "collapsed": true
   },
   "source": [
    "Third, let's see how we can calculate the values of neurons ($\\ h_1^2, h_2^2, h_3^2, h_4^2$) in the hidden layer. It is relatively hard to see the relationship between input features and neurons in the hidden layer. So, we only pick one neuron($\\ h_1^2$) from hidden layer to examplify the calculation process.\n",
    "\n",
    "![pic5](https://raw.githubusercontent.com/MegaSt0ne/Picture/master/Screen%20Shot%202018-03-25%20at%201.51.41%20AM.png \"Decomposed Aritificial Neural Networks\")\n",
    "\n",
    "\n",
    "Here, we are using the sigmoid (logistic) function as the activation function$\\ g(x)$ for the hidden layer. Remember the superscript of vector $\\theta_i^1$ means vector $\\theta_i$ is the weights for the 1st layer (input layer) in the networks. Following the rules, we can calculate $h_1^2, h_2^2, h_3^2, h_4^2$.\n",
    "\n",
    "$h_1^2$ = $g$($\\theta_{10}^1$$x_0$ + $\\theta_{11}^1$$x_1$ + $\\theta_{12}^1$$x_2$ + $\\theta_{13}^1$$x_3$) \n",
    "\n",
    "$h_2^2$ = $g$($\\theta_{20}^1$$x_0$ + $\\theta_{21}^1$$x_1$ + $\\theta_{22}^1$$x_2$ + $\\theta_{23}^1$$x_3$)\n",
    "\n",
    "$h_3^2$ = $g$($\\theta_{30}^1$$x_0$ + $\\theta_{31}^1$$x_1$ + $\\theta_{32}^1$$x_2$ + $\\theta_{33}^1$$x_3$)\n",
    "\n",
    "$h_4^2$ = $g$($\\theta_{40}^1$$x_0$ + $\\theta_{41}^1$$x_1$ + $\\theta_{42}^1$$x_2$ + $\\theta_{43}^1$$x_3$)"
   ]
  },
  {
   "cell_type": "markdown",
   "metadata": {
    "collapsed": true
   },
   "source": [
    "Last, we can calculate the predicted outcome $h_\\theta$$x$ = $\\frac{1}{1+e^-\\theta^Tx}$. \n",
    "\n",
    "Please remeber that $h_0^2$ is also a bias unit. So, it always equals 1. $h_\\theta$$x$ = $g$($\\theta_{10}^2$$h_0^2$ + $\\theta_{11}^2$$h_1^2$ + $\\theta_{12}^2$$h_2^2$ + $\\theta_{13}^1$$h_3^2$ + $\\theta_{14}^1$$h_4^2$)\n",
    "\n",
    "So, in this way we can get the final output from a neural networks with multiple hidden layers.\n",
    "\n",
    "##### Note: The procedures above regarding how to calculate the final output from the input layer forward moving to the output layer is called forward propagation. Next, we will introduce another important concept, which is back-propagaion."
   ]
  },
  {
   "cell_type": "markdown",
   "metadata": {},
   "source": [
    "Back-propagation is a generalization of the delta rule to multi-layered feedforward networks. This means we can simply use delta rule to implement a simple back-propagation. By using delta rule, we can find the optimized weights for each layer in order to minimize the error between the real value and the expected value. Here is the mathematical representation of delta rule: \n",
    "\n",
    "![pic6](https://raw.githubusercontent.com/MegaSt0ne/Picture/master/Delta_rule.png \"Delta Rule\")\n",
    "\n",
    "[source: https://en.wikipedia.org/wiki/Delta_rule]"
   ]
  },
  {
   "cell_type": "markdown",
   "metadata": {
    "collapsed": true
   },
   "source": [
    "## Simple Implementation of Artificial Neural Networks <a id='section3'></a>"
   ]
  },
  {
   "cell_type": "markdown",
   "metadata": {},
   "source": [
    "We will try to implement the ANNs algorithm with the help of the following dataset. You can download the dataset at https://www.kaggle.com/uciml/pima-indians-diabetes-database/downloads/diabetes.csv/1. The objective of the dataset is to diagnostically predict whether or not a patient has diabetes, based on certain diagnostic measurements included in the dataset [Source: https://www.kaggle.com/uciml/pima-indians-diabetes-database]. \n",
    "\n",
    "Okay. Let's dive right into the implementation."
   ]
  },
  {
   "cell_type": "code",
   "execution_count": 30,
   "metadata": {},
   "outputs": [],
   "source": [
    "# import necessary python packages\n",
    "import numpy as np\n",
    "import pandas as pd\n",
    "import seaborn as sns\n",
    "from scipy.stats import describe\n",
    "from scipy.stats import norm\n",
    "from sklearn.model_selection import train_test_split\n",
    "from sklearn.preprocessing import StandardScaler\n",
    "from sklearn.neural_network import MLPClassifier\n",
    "from sklearn.metrics import classification_report,confusion_matrix\n",
    "from sklearn.linear_model import LogisticRegression\n",
    "from sklearn.cross_validation import train_test_split\n",
    "\n",
    "import matplotlib.pyplot as plt\n",
    "from  matplotlib.colors import ListedColormap\n",
    "%matplotlib inline"
   ]
  },
  {
   "cell_type": "markdown",
   "metadata": {},
   "source": [
    "We will use sigmoid function as the activation function in the implementation. Of course, you could also use other functions as activation function such as linear function, tanh function and etc.\n",
    "\n",
    "Also, we need to know how to compute the derivatives of sigmoid function. For those of you who want to review some calculus, here is how we get the derivate of sigmoid function."
   ]
  },
  {
   "cell_type": "markdown",
   "metadata": {},
   "source": [
    "![pic6](https://raw.githubusercontent.com/MegaSt0ne/Picture/master/Screen%20Shot%202018-03-25%20at%207.14.17%20PM.png \"Sigmoid Function Derivaties\") \n",
    "\n",
    "[Source: https://math.stackexchange.com/questions/78575/derivative-of-sigmoid-function-sigma-x-frac11e-x]"
   ]
  },
  {
   "cell_type": "code",
   "execution_count": 2,
   "metadata": {},
   "outputs": [],
   "source": [
    "# sigmoid function\n",
    "def sigmoid(x):\n",
    "    y = 1 / (1+np.exp(-x))\n",
    "    return y\n",
    "\n",
    "# compute the derivative of the sigmoid function\n",
    "def sigmoid_derivative(y):\n",
    "    return y*(1-y)"
   ]
  },
  {
   "cell_type": "code",
   "execution_count": 3,
   "metadata": {},
   "outputs": [],
   "source": [
    "# change working directory\n",
    "import os\n",
    "os.getcwd() # get the current working directory\n",
    "path = '../CMU/18S/Practical_Data_Science/Tutorial' # the target working directory\n",
    "os.chdir(path) # change the current working directory to the target working directory"
   ]
  },
  {
   "cell_type": "code",
   "execution_count": 4,
   "metadata": {},
   "outputs": [],
   "source": [
    "# read the training data\n",
    "df_data = pd.read_csv('../Tutorial/diabetes.csv')\n",
    "\n",
    "# randomly split data into train data and test data\n",
    "df_train = df_data.drop(['Outcome'], axis = 1)\n",
    "df_outcome = df_data.Outcome\n",
    "X_train, X_test, y_train, y_test = train_test_split(df_train, df_outcome, test_size = 0.33, random_state = 12)"
   ]
  },
  {
   "cell_type": "markdown",
   "metadata": {},
   "source": [
    "In order to make training faster and reduce the chance to get stuck in the local optimum, we need to first standardize training data."
   ]
  },
  {
   "cell_type": "code",
   "execution_count": 5,
   "metadata": {},
   "outputs": [],
   "source": [
    "# standardize train and test data\n",
    "scaler = StandardScaler()\n",
    "X_train = scaler.fit_transform(X_train) # Fit to data, then transform it"
   ]
  },
  {
   "cell_type": "markdown",
   "metadata": {},
   "source": [
    "In order to simplify the implementation, to solve this particular classification problem, we will assume that we have 2 hidden layers and there are 10 neurons in the first hidden layer and 9 neurons in the second hidden layer. "
   ]
  },
  {
   "cell_type": "code",
   "execution_count": 6,
   "metadata": {},
   "outputs": [],
   "source": [
    "class Neural_Networks:\n",
    "    \"\"\"\n",
    "    An Artificial Neural Networks Class\n",
    "    Args:\n",
    "        iterations (integer): number of iterations\n",
    "        alpha (float): the learning rate\n",
    "    \"\"\"\n",
    "    def __init__(self, iterations, alpha = 0.001):\n",
    "        self.iter = iterations\n",
    "        self.alpha = alpha\n",
    "        \n",
    "    def fit(self, data, outcome):\n",
    "        \"\"\"\n",
    "        Train Model on the dataset\n",
    "        \n",
    "        Args:\n",
    "            data (matrix): a matrix of training dataset\n",
    "            outcome (vector): a vector of the outcome variable\n",
    "        \"\"\"\n",
    "        # initialize the theta weigts matrix\n",
    "        # randomly initialize our weights with mean 0\n",
    "        \n",
    "        # the dimension is (8 + 1,10 + 1) because in the input layer, we have 8 features in the dataset and the bias unit,\n",
    "        # in the 2nd layer (1st hidden layer), we assume that we have 10 nodes and the bias unit\n",
    "        theta_0 = 2 * np.random.random((8 + 1, 10 + 1)) - 1 \n",
    "        \n",
    "        # the same reason as above, in the 3rd layer (2nd hidden layer), we assume that we have 9 nodes and the bias unit (9 + 1)\n",
    "        theta_1 = 2 * np.random.random((10 + 1 , 9 + 1)) - 1\n",
    "        \n",
    "        # in the output layer, we only have one outcome, so we only need one weight.\n",
    "        theta_2 = 2 * np.random.random((9 + 1, 1)) - 1\n",
    "        \n",
    "        # optimize weights in each layer\n",
    "        for i in range(self.iter + 1):\n",
    "            \n",
    "            # Attention: forward propagation begins\n",
    "            # Important: here we use np.append to add the bias unit\n",
    "            layer_0 = np.append(data, np.ones(data.shape[0])[:, None], axis = 1) \n",
    "            \n",
    "            # Here, we just use the same forward propagation rules to calculate each layers\n",
    "            layer_1 = sigmoid(np.dot(layer_0,theta_0))\n",
    "            layer_2 = sigmoid(np.dot(layer_1,theta_1))\n",
    "            layer_3 = sigmoid(np.dot(layer_2,theta_2))\n",
    "            \n",
    "            # Attention: back propagation begins\n",
    "            # 1. step: Calculate the error \n",
    "            layer_3_error = layer_3 - outcome[:, None]\n",
    "            # 2. step: Multiply the L3 error with the derivated of L3 input\n",
    "            layer_3_delta = layer_3_error * sigmoid_derivative(layer_3)\n",
    "            # 3. step: update weights: \n",
    "            theta_2 -= self.alpha * (layer_2.T.dot(layer_3_delta))\n",
    "            \n",
    "            # Repeat delta rule to update the weight for the previous layer\n",
    "            # 1. step: Calculate the error \n",
    "            layer_2_error = layer_3_delta.dot(theta_2.T)\n",
    "            # 2. step: Multiply the L2 error with the derivated of L2 input\n",
    "            layer_2_delta = layer_2_error * sigmoid_derivative(layer_2)\n",
    "            # 3. step: update weights\n",
    "            theta_1 -= self.alpha * (layer_1.T.dot(layer_2_delta))\n",
    "\n",
    "            # Repeat delta rule to update the weight for the previous layer\n",
    "            # 1. step: Calculate the error \n",
    "            layer_1_error = layer_2_delta.dot(theta_1.T)\n",
    "            # 2. step: Multiply the L1 error with the derivated of L1 input\n",
    "            layer_1_delta = layer_1_error * sigmoid_derivative(layer_1)\n",
    "            # 3. step: update weights\n",
    "            theta_0 -= self.alpha * (layer_0.T.dot(layer_1_delta))\n",
    "            \n",
    "            # print out the mean value of the error \n",
    "            if (i% 1000) == 0:\n",
    "                print(\"Error after \"+str(i)+\" iterations:\" + str(np.mean(np.abs(layer_3_error))))\n",
    "            "
   ]
  },
  {
   "cell_type": "markdown",
   "metadata": {},
   "source": [
    "Great! Let's try and see how well our model performs! Here, we use the default value of the learn rate = 0.001 to train our model."
   ]
  },
  {
   "cell_type": "code",
   "execution_count": 7,
   "metadata": {},
   "outputs": [
    {
     "name": "stdout",
     "output_type": "stream",
     "text": [
      "Error after 0 iterations:0.46656800780784524\n",
      "Error after 1000 iterations:0.3157513076112653\n",
      "Error after 2000 iterations:0.29885275833560376\n",
      "Error after 3000 iterations:0.29074872515953526\n",
      "Error after 4000 iterations:0.2827247572509961\n",
      "Error after 5000 iterations:0.2743160816704883\n",
      "Error after 6000 iterations:0.2651828574295215\n",
      "Error after 7000 iterations:0.2556517239265241\n",
      "Error after 8000 iterations:0.24355062702409402\n"
     ]
    }
   ],
   "source": [
    "# Initialize ANN\n",
    "ann = Neural_Networks(8000)\n",
    "\n",
    "# demonstrate error rate\n",
    "ann.fit(X_train, y_train)"
   ]
  },
  {
   "cell_type": "markdown",
   "metadata": {},
   "source": [
    "It seems that our model does not perform very well. What is the problem? We can see the error rate is decreasing slowly. Is it possible that our learning rate is too small which leads to the slow convergence of our model? Let's try different learning rates."
   ]
  },
  {
   "cell_type": "code",
   "execution_count": 8,
   "metadata": {},
   "outputs": [
    {
     "name": "stdout",
     "output_type": "stream",
     "text": [
      "Try learning rate:  0.001\n",
      "Error after 0 iterations:0.4641940967091224\n",
      "Error after 1000 iterations:0.31562155777454426\n",
      "Error after 2000 iterations:0.2976066587058571\n",
      "Error after 3000 iterations:0.2900627626570499\n",
      "Error after 4000 iterations:0.2834210644805719\n",
      "Error after 5000 iterations:0.27644111179395925\n",
      "Error after 6000 iterations:0.26892267654514734\n",
      "Error after 7000 iterations:0.26069351524531675\n",
      "Error after 8000 iterations:0.25236556626120976\n",
      "\n",
      "Try learning rate:  0.01\n",
      "Error after 0 iterations:0.5403578518589727\n",
      "Error after 1000 iterations:0.22724284809628578\n",
      "Error after 2000 iterations:0.13627845055488003\n",
      "Error after 3000 iterations:0.10163185341711363\n",
      "Error after 4000 iterations:0.08202703755949355\n",
      "Error after 5000 iterations:0.06436519897738441\n",
      "Error after 6000 iterations:0.0578919165053246\n",
      "Error after 7000 iterations:0.05423853888839623\n",
      "Error after 8000 iterations:0.05200534409996305\n",
      "\n",
      "Try learning rate:  0.1\n",
      "Error after 0 iterations:0.5128164896014226\n",
      "Error after 1000 iterations:0.33657587053482235\n",
      "Error after 2000 iterations:0.3365758705065227\n",
      "Error after 3000 iterations:0.33657587047791443\n",
      "Error after 4000 iterations:0.33657587044899245\n",
      "Error after 5000 iterations:0.3365758704197518\n",
      "Error after 6000 iterations:0.3365758703901872\n",
      "Error after 7000 iterations:0.33657587036029335\n",
      "Error after 8000 iterations:0.3365758703300648\n",
      "\n"
     ]
    }
   ],
   "source": [
    "# alpha is an arbitrary learning rate \n",
    "alphas = [0.001,0.01,0.1]\n",
    "\n",
    "for alpha in alphas:\n",
    "    ann = Neural_Networks(8000, alpha)\n",
    "    print(\"Try learning rate: \", alpha )\n",
    "    ann.fit(X_train, y_train)\n",
    "    print()"
   ]
  },
  {
   "cell_type": "markdown",
   "metadata": {
    "collapsed": true
   },
   "source": [
    "As we can see from the above example, when alpha = 0.01, the error rate decreases rapidly and the error rate is the lowest among these three learning rate after 8000 iterations. So, remember $choosing\\ the\\ proper\\ learning\\ rate$ could dramatically improve the performance of your model!"
   ]
  },
  {
   "cell_type": "markdown",
   "metadata": {
    "collapsed": true
   },
   "source": [
    "## Application of Artificial Neural Networks<a id='section4'></a>"
   ]
  },
  {
   "cell_type": "markdown",
   "metadata": {},
   "source": [
    "Here I'll try to demonstrate a simple application of ANNs using the same dataset. You can download the datasets at https://www.kaggle.com/uciml/pima-indians-diabetes-database/downloads/diabetes.csv/1"
   ]
  },
  {
   "cell_type": "code",
   "execution_count": 9,
   "metadata": {},
   "outputs": [],
   "source": [
    "# read the training data\n",
    "df_data = pd.read_csv('../Tutorial/diabetes.csv')\n",
    "\n",
    "df_train = df_data.drop(['Outcome'], axis = 1)\n",
    "# series of outcome values\n",
    "s_outcome = df_data.Outcome.values\n",
    "\n",
    "df_outcome = pd.Series({'Outcome':s_outcome}, name='Outcome')\n",
    "d = {'Text': ['Diabetes' for i in range(len(df_outcome.Outcome))], 'Outcome': df_outcome.Outcome}\n",
    "# label 0,1 as 'Non-Diabetes' and 'Diabetes'\n",
    "df_outcome_text = pd.DataFrame(data = d)\n",
    "df_outcome_text.loc[df_outcome_text.Outcome == 0, 'Text'] = 'Non-Diabetes'"
   ]
  },
  {
   "cell_type": "markdown",
   "metadata": {},
   "source": [
    "### Data Exploration and Visualization\n",
    "\n",
    "Remember before you try to solve any machine learning problems, you better first take a look at the datasets. You will be more likely to pick the algorithm which is more suitable to solve certain problems if you know your data well. So, let's take a look at our data."
   ]
  },
  {
   "cell_type": "code",
   "execution_count": 10,
   "metadata": {},
   "outputs": [
    {
     "data": {
      "text/html": [
       "<div>\n",
       "<style scoped>\n",
       "    .dataframe tbody tr th:only-of-type {\n",
       "        vertical-align: middle;\n",
       "    }\n",
       "\n",
       "    .dataframe tbody tr th {\n",
       "        vertical-align: top;\n",
       "    }\n",
       "\n",
       "    .dataframe thead th {\n",
       "        text-align: right;\n",
       "    }\n",
       "</style>\n",
       "<table border=\"1\" class=\"dataframe\">\n",
       "  <thead>\n",
       "    <tr style=\"text-align: right;\">\n",
       "      <th></th>\n",
       "      <th>Pregnancies</th>\n",
       "      <th>Glucose</th>\n",
       "      <th>BloodPressure</th>\n",
       "      <th>SkinThickness</th>\n",
       "      <th>Insulin</th>\n",
       "      <th>BMI</th>\n",
       "      <th>DiabetesPedigreeFunction</th>\n",
       "      <th>Age</th>\n",
       "    </tr>\n",
       "  </thead>\n",
       "  <tbody>\n",
       "    <tr>\n",
       "      <th>0</th>\n",
       "      <td>6</td>\n",
       "      <td>148</td>\n",
       "      <td>72</td>\n",
       "      <td>35</td>\n",
       "      <td>0</td>\n",
       "      <td>33.6</td>\n",
       "      <td>0.627</td>\n",
       "      <td>50</td>\n",
       "    </tr>\n",
       "    <tr>\n",
       "      <th>1</th>\n",
       "      <td>1</td>\n",
       "      <td>85</td>\n",
       "      <td>66</td>\n",
       "      <td>29</td>\n",
       "      <td>0</td>\n",
       "      <td>26.6</td>\n",
       "      <td>0.351</td>\n",
       "      <td>31</td>\n",
       "    </tr>\n",
       "    <tr>\n",
       "      <th>2</th>\n",
       "      <td>8</td>\n",
       "      <td>183</td>\n",
       "      <td>64</td>\n",
       "      <td>0</td>\n",
       "      <td>0</td>\n",
       "      <td>23.3</td>\n",
       "      <td>0.672</td>\n",
       "      <td>32</td>\n",
       "    </tr>\n",
       "    <tr>\n",
       "      <th>3</th>\n",
       "      <td>1</td>\n",
       "      <td>89</td>\n",
       "      <td>66</td>\n",
       "      <td>23</td>\n",
       "      <td>94</td>\n",
       "      <td>28.1</td>\n",
       "      <td>0.167</td>\n",
       "      <td>21</td>\n",
       "    </tr>\n",
       "    <tr>\n",
       "      <th>4</th>\n",
       "      <td>0</td>\n",
       "      <td>137</td>\n",
       "      <td>40</td>\n",
       "      <td>35</td>\n",
       "      <td>168</td>\n",
       "      <td>43.1</td>\n",
       "      <td>2.288</td>\n",
       "      <td>33</td>\n",
       "    </tr>\n",
       "  </tbody>\n",
       "</table>\n",
       "</div>"
      ],
      "text/plain": [
       "   Pregnancies  Glucose  BloodPressure  SkinThickness  Insulin   BMI  \\\n",
       "0            6      148             72             35        0  33.6   \n",
       "1            1       85             66             29        0  26.6   \n",
       "2            8      183             64              0        0  23.3   \n",
       "3            1       89             66             23       94  28.1   \n",
       "4            0      137             40             35      168  43.1   \n",
       "\n",
       "   DiabetesPedigreeFunction  Age  \n",
       "0                     0.627   50  \n",
       "1                     0.351   31  \n",
       "2                     0.672   32  \n",
       "3                     0.167   21  \n",
       "4                     2.288   33  "
      ]
     },
     "execution_count": 10,
     "metadata": {},
     "output_type": "execute_result"
    }
   ],
   "source": [
    "df_train.head()"
   ]
  },
  {
   "cell_type": "markdown",
   "metadata": {},
   "source": [
    "Here we can also use the describe() function to have a holistic view of the data. Sometimes it will give you some very interesting insights. For example, the standard deviation of variable Insulin is 115.244 with its mean equals to around 80. A variable with such large standard deviation is usually worthy of more investigation. Is there any relationship between Insulin and diabetes?"
   ]
  },
  {
   "cell_type": "code",
   "execution_count": 11,
   "metadata": {},
   "outputs": [
    {
     "data": {
      "text/html": [
       "<div>\n",
       "<style scoped>\n",
       "    .dataframe tbody tr th:only-of-type {\n",
       "        vertical-align: middle;\n",
       "    }\n",
       "\n",
       "    .dataframe tbody tr th {\n",
       "        vertical-align: top;\n",
       "    }\n",
       "\n",
       "    .dataframe thead th {\n",
       "        text-align: right;\n",
       "    }\n",
       "</style>\n",
       "<table border=\"1\" class=\"dataframe\">\n",
       "  <thead>\n",
       "    <tr style=\"text-align: right;\">\n",
       "      <th></th>\n",
       "      <th>Pregnancies</th>\n",
       "      <th>Glucose</th>\n",
       "      <th>BloodPressure</th>\n",
       "      <th>SkinThickness</th>\n",
       "      <th>Insulin</th>\n",
       "      <th>BMI</th>\n",
       "      <th>DiabetesPedigreeFunction</th>\n",
       "      <th>Age</th>\n",
       "    </tr>\n",
       "  </thead>\n",
       "  <tbody>\n",
       "    <tr>\n",
       "      <th>count</th>\n",
       "      <td>768.000000</td>\n",
       "      <td>768.000000</td>\n",
       "      <td>768.000000</td>\n",
       "      <td>768.000000</td>\n",
       "      <td>768.000000</td>\n",
       "      <td>768.000000</td>\n",
       "      <td>768.000000</td>\n",
       "      <td>768.000000</td>\n",
       "    </tr>\n",
       "    <tr>\n",
       "      <th>mean</th>\n",
       "      <td>3.845052</td>\n",
       "      <td>120.894531</td>\n",
       "      <td>69.105469</td>\n",
       "      <td>20.536458</td>\n",
       "      <td>79.799479</td>\n",
       "      <td>31.992578</td>\n",
       "      <td>0.471876</td>\n",
       "      <td>33.240885</td>\n",
       "    </tr>\n",
       "    <tr>\n",
       "      <th>std</th>\n",
       "      <td>3.369578</td>\n",
       "      <td>31.972618</td>\n",
       "      <td>19.355807</td>\n",
       "      <td>15.952218</td>\n",
       "      <td>115.244002</td>\n",
       "      <td>7.884160</td>\n",
       "      <td>0.331329</td>\n",
       "      <td>11.760232</td>\n",
       "    </tr>\n",
       "    <tr>\n",
       "      <th>min</th>\n",
       "      <td>0.000000</td>\n",
       "      <td>0.000000</td>\n",
       "      <td>0.000000</td>\n",
       "      <td>0.000000</td>\n",
       "      <td>0.000000</td>\n",
       "      <td>0.000000</td>\n",
       "      <td>0.078000</td>\n",
       "      <td>21.000000</td>\n",
       "    </tr>\n",
       "    <tr>\n",
       "      <th>25%</th>\n",
       "      <td>1.000000</td>\n",
       "      <td>99.000000</td>\n",
       "      <td>62.000000</td>\n",
       "      <td>0.000000</td>\n",
       "      <td>0.000000</td>\n",
       "      <td>27.300000</td>\n",
       "      <td>0.243750</td>\n",
       "      <td>24.000000</td>\n",
       "    </tr>\n",
       "    <tr>\n",
       "      <th>50%</th>\n",
       "      <td>3.000000</td>\n",
       "      <td>117.000000</td>\n",
       "      <td>72.000000</td>\n",
       "      <td>23.000000</td>\n",
       "      <td>30.500000</td>\n",
       "      <td>32.000000</td>\n",
       "      <td>0.372500</td>\n",
       "      <td>29.000000</td>\n",
       "    </tr>\n",
       "    <tr>\n",
       "      <th>75%</th>\n",
       "      <td>6.000000</td>\n",
       "      <td>140.250000</td>\n",
       "      <td>80.000000</td>\n",
       "      <td>32.000000</td>\n",
       "      <td>127.250000</td>\n",
       "      <td>36.600000</td>\n",
       "      <td>0.626250</td>\n",
       "      <td>41.000000</td>\n",
       "    </tr>\n",
       "    <tr>\n",
       "      <th>max</th>\n",
       "      <td>17.000000</td>\n",
       "      <td>199.000000</td>\n",
       "      <td>122.000000</td>\n",
       "      <td>99.000000</td>\n",
       "      <td>846.000000</td>\n",
       "      <td>67.100000</td>\n",
       "      <td>2.420000</td>\n",
       "      <td>81.000000</td>\n",
       "    </tr>\n",
       "  </tbody>\n",
       "</table>\n",
       "</div>"
      ],
      "text/plain": [
       "       Pregnancies     Glucose  BloodPressure  SkinThickness     Insulin  \\\n",
       "count   768.000000  768.000000     768.000000     768.000000  768.000000   \n",
       "mean      3.845052  120.894531      69.105469      20.536458   79.799479   \n",
       "std       3.369578   31.972618      19.355807      15.952218  115.244002   \n",
       "min       0.000000    0.000000       0.000000       0.000000    0.000000   \n",
       "25%       1.000000   99.000000      62.000000       0.000000    0.000000   \n",
       "50%       3.000000  117.000000      72.000000      23.000000   30.500000   \n",
       "75%       6.000000  140.250000      80.000000      32.000000  127.250000   \n",
       "max      17.000000  199.000000     122.000000      99.000000  846.000000   \n",
       "\n",
       "              BMI  DiabetesPedigreeFunction         Age  \n",
       "count  768.000000                768.000000  768.000000  \n",
       "mean    31.992578                  0.471876   33.240885  \n",
       "std      7.884160                  0.331329   11.760232  \n",
       "min      0.000000                  0.078000   21.000000  \n",
       "25%     27.300000                  0.243750   24.000000  \n",
       "50%     32.000000                  0.372500   29.000000  \n",
       "75%     36.600000                  0.626250   41.000000  \n",
       "max     67.100000                  2.420000   81.000000  "
      ]
     },
     "execution_count": 11,
     "metadata": {},
     "output_type": "execute_result"
    }
   ],
   "source": [
    "df_train.describe()"
   ]
  },
  {
   "cell_type": "code",
   "execution_count": 12,
   "metadata": {},
   "outputs": [
    {
     "data": {
      "text/plain": [
       "<matplotlib.axes._subplots.AxesSubplot at 0x1a15fc8eb8>"
      ]
     },
     "execution_count": 12,
     "metadata": {},
     "output_type": "execute_result"
    },
    {
     "data": {
      "image/png": "[encoded data removed]",
      "text/plain": [
       "<matplotlib.figure.Figure at 0x1a10449278>"
      ]
     },
     "metadata": {},
     "output_type": "display_data"
    }
   ],
   "source": [
    "# histogram\n",
    "sns.distplot(df_train['Insulin'])"
   ]
  },
  {
   "cell_type": "markdown",
   "metadata": {},
   "source": [
    "There are to much data with insulin equals 0. We can eliminate data with insulin equals 0 and then plot it again."
   ]
  },
  {
   "cell_type": "code",
   "execution_count": 13,
   "metadata": {},
   "outputs": [
    {
     "data": {
      "text/plain": [
       "<matplotlib.axes._subplots.AxesSubplot at 0x1a17077b38>"
      ]
     },
     "execution_count": 13,
     "metadata": {},
     "output_type": "execute_result"
    },
    {
     "data": {
      "image/png": "[encoded data removed]",
      "text/plain": [
       "<matplotlib.figure.Figure at 0x1a1704ab38>"
      ]
     },
     "metadata": {},
     "output_type": "display_data"
    }
   ],
   "source": [
    "# histogram without insulin == 0\n",
    "sns.distplot(df_train.loc[df_train['Insulin'] != 0, 'Insulin'], fit = norm)"
   ]
  },
  {
   "cell_type": "markdown",
   "metadata": {},
   "source": [
    "Now we can see that there is a clear positive skewness in the distribution of Insulin when it compares to the normal distribution. Is it possible that people who have extreme insuline values are more likely to have diabetes? "
   ]
  },
  {
   "cell_type": "code",
   "execution_count": 14,
   "metadata": {},
   "outputs": [
    {
     "data": {
      "image/png": "[encoded data removed]",
      "text/plain": [
       "<matplotlib.figure.Figure at 0x1a1a43fb38>"
      ]
     },
     "metadata": {},
     "output_type": "display_data"
    }
   ],
   "source": [
    "# boxplot\n",
    "data = pd.concat([df_train['Insulin'], df_outcome_text['Text']], axis=1)\n",
    "sns.set_style(\"whitegrid\")\n",
    "f, ax = plt.subplots(figsize=(16, 8))\n",
    "\n",
    "# label Diabetes as red, label non-Diabetes as green\n",
    "my_pal = {\"Diabetes\": \"r\", \"Non-Diabetes\": \"g\"}\n",
    "fig = sns.boxplot(y= 'Text', x=\"Insulin\", data=data, orient=\"h\", palette=my_pal)"
   ]
  },
  {
   "cell_type": "markdown",
   "metadata": {},
   "source": [
    "As we can see from the picture above, people with diabetes do have higher level of insulin. However, people with extremely high insulin do not necessarily get diabetes as showed in the green boxplot. Since old people are more likely to get diabetes compared to youngsters. We can try to explore the relationship between insulin and age."
   ]
  },
  {
   "cell_type": "code",
   "execution_count": 15,
   "metadata": {},
   "outputs": [
    {
     "data": {
      "text/plain": [
       "<matplotlib.colorbar.Colorbar at 0x1a1ae50b70>"
      ]
     },
     "execution_count": 15,
     "metadata": {},
     "output_type": "execute_result"
    },
    {
     "data": {
      "image/png": "[encoded data removed]",
      "text/plain": [
       "<matplotlib.figure.Figure at 0x1a1a4c0358>"
      ]
     },
     "metadata": {},
     "output_type": "display_data"
    }
   ],
   "source": [
    "# bivariate analysis Age/Insulin\n",
    "var1 = 'Age'\n",
    "var2 = 'Insulin'\n",
    "data = pd.concat([df_train[var1], df_train[var2], df_outcome_text['Outcome']], axis=1)\n",
    "data = data.drop(index = df_train[df_train.Insulin == 0].index)\n",
    "\n",
    "colors = ['green','red']\n",
    "# ax = data.plot.scatter(x = 'Age', y = 'Insulin', c = 'Outcome', cmap=ListedColormap(colors), alpha = 0.6)\n",
    "plt.scatter(data.Age, data.Insulin, c = data.Outcome, cmap=ListedColormap(colors), alpha = 0.6)\n",
    "plt.xlabel('Age')\n",
    "plt.ylabel('Insuline')\n",
    "plt.colorbar()"
   ]
  },
  {
   "cell_type": "markdown",
   "metadata": {},
   "source": [
    "As you can see from the above plot, red points are people with diabetes and green points are people without diabetes. It is very hard to precisely separate them in the graph. So, are there any other variables which can be used to separate diabetes and non-diabetes?"
   ]
  },
  {
   "cell_type": "code",
   "execution_count": 16,
   "metadata": {},
   "outputs": [
    {
     "data": {
      "image/png": "[encoded data removed]",
      "text/plain": [
       "<matplotlib.figure.Figure at 0x1a1a4b7198>"
      ]
     },
     "metadata": {},
     "output_type": "display_data"
    }
   ],
   "source": [
    "# correlation matrix\n",
    "corrmat = df_train.corr()\n",
    "f, ax = plt.subplots(figsize=(12, 9))\n",
    "sns.set(font_scale=2)\n",
    "# heatmap\n",
    "sns.heatmap(corrmat, cbar=True, vmax=.8, square=True, annot=True, fmt='.2f', annot_kws={'size': 10});"
   ]
  },
  {
   "cell_type": "markdown",
   "metadata": {},
   "source": [
    "Amazingly, from the picture above, we found that actually there is a 0.44 correlation between variable insulin and variable SkinThickness. Let's plot a scatterplot between them."
   ]
  },
  {
   "cell_type": "code",
   "execution_count": 17,
   "metadata": {},
   "outputs": [
    {
     "data": {
      "text/plain": [
       "<matplotlib.colorbar.Colorbar at 0x1a1b2e5860>"
      ]
     },
     "execution_count": 17,
     "metadata": {},
     "output_type": "execute_result"
    },
    {
     "data": {
      "image/png": "[encoded data removed]",
      "text/plain": [
       "<matplotlib.figure.Figure at 0x1a1b049518>"
      ]
     },
     "metadata": {},
     "output_type": "display_data"
    }
   ],
   "source": [
    "# bivariate analysis Age/Insulin\n",
    "var1 = 'SkinThickness'\n",
    "var2 = 'Insulin'\n",
    "data = pd.concat([df_train[var1], df_train[var2], df_outcome_text['Outcome']], axis=1)\n",
    "data = data.drop(index = df_train[df_train.Insulin == 0].index)\n",
    "sns.set(font_scale=1)\n",
    "sns.set_style(\"whitegrid\")\n",
    "colors = ['green','red']\n",
    "# ax = data.plot.scatter(x = 'Age', y = 'Insulin', c = 'Outcome', cmap=ListedColormap(colors), alpha = 0.6)\n",
    "plt.scatter(data.SkinThickness, data.Insulin, c = data.Outcome, cmap=ListedColormap(colors), alpha = 0.6)\n",
    "plt.xlabel('SkinThickness')\n",
    "plt.ylabel('Insuline')\n",
    "plt.colorbar()"
   ]
  },
  {
   "cell_type": "markdown",
   "metadata": {},
   "source": [
    "Still, it is very hard to separate people with diabetes and people without diabetes in the graph above. Let's try to use Artificial Neural Networks to solve this problem."
   ]
  },
  {
   "cell_type": "markdown",
   "metadata": {},
   "source": [
    "### Data Processing"
   ]
  },
  {
   "cell_type": "code",
   "execution_count": 18,
   "metadata": {},
   "outputs": [
    {
     "data": {
      "text/plain": [
       "Pregnancies                 0\n",
       "Glucose                     0\n",
       "BloodPressure               0\n",
       "SkinThickness               0\n",
       "Insulin                     0\n",
       "BMI                         0\n",
       "DiabetesPedigreeFunction    0\n",
       "Age                         0\n",
       "dtype: int64"
      ]
     },
     "execution_count": 18,
     "metadata": {},
     "output_type": "execute_result"
    }
   ],
   "source": [
    "# check if there is any missing data in the train data\n",
    "df_train.isna().sum()"
   ]
  },
  {
   "cell_type": "code",
   "execution_count": 19,
   "metadata": {},
   "outputs": [
    {
     "data": {
      "text/plain": [
       "Outcome    0\n",
       "Text       0\n",
       "dtype: int64"
      ]
     },
     "execution_count": 19,
     "metadata": {},
     "output_type": "execute_result"
    }
   ],
   "source": [
    "# check if there is any missing data in the outcome data\n",
    "df_outcome_text.isna().sum()"
   ]
  },
  {
   "cell_type": "code",
   "execution_count": 20,
   "metadata": {},
   "outputs": [],
   "source": [
    "# randomly split data into train data and test data\n",
    "X_train, X_test, y_train, y_test = train_test_split(df_train, df_outcome_text['Outcome'], test_size = 0.33, random_state = 12)\n",
    "\n",
    "# standardize train and test data\n",
    "scaler = StandardScaler()\n",
    "X_train = scaler.fit_transform(X_train) # Fit to data, then transform it\n",
    "X_test = scaler.fit_transform(X_test) # Fit to data, then transform it"
   ]
  },
  {
   "cell_type": "markdown",
   "metadata": {},
   "source": [
    "### Model Training\n",
    "\n",
    "Here, we first use the default activation function 'relu' which stands for rectifier neural networks. We set the hidden layer sizes as (8, 7, 6)."
   ]
  },
  {
   "cell_type": "code",
   "execution_count": 21,
   "metadata": {},
   "outputs": [],
   "source": [
    "n_features = X_train.shape[1]\n",
    "# here, we have a model with three hidden layers. There are n_features number of nodes in each hidden layer.\n",
    "mlp = MLPClassifier(activation='relu', hidden_layer_sizes=(n_features,n_features-1,n_features-2), \n",
    "                    max_iter= 10000, learning_rate_init = 0.001, solver = 'adam')"
   ]
  },
  {
   "cell_type": "code",
   "execution_count": 22,
   "metadata": {},
   "outputs": [
    {
     "data": {
      "text/plain": [
       "MLPClassifier(activation='relu', alpha=0.0001, batch_size='auto', beta_1=0.9,\n",
       "       beta_2=0.999, early_stopping=False, epsilon=1e-08,\n",
       "       hidden_layer_sizes=(8, 7, 6), learning_rate='constant',\n",
       "       learning_rate_init=0.001, max_iter=10000, momentum=0.9,\n",
       "       nesterovs_momentum=True, power_t=0.5, random_state=None,\n",
       "       shuffle=True, solver='adam', tol=0.0001, validation_fraction=0.1,\n",
       "       verbose=False, warm_start=False)"
      ]
     },
     "execution_count": 22,
     "metadata": {},
     "output_type": "execute_result"
    }
   ],
   "source": [
    "# fit the training data to our model\n",
    "mlp.fit(X_train, y_train)"
   ]
  },
  {
   "cell_type": "markdown",
   "metadata": {},
   "source": [
    "### Predictions And Evaluation"
   ]
  },
  {
   "cell_type": "markdown",
   "metadata": {},
   "source": [
    "Now we can use the sklearn built-in metrics such as confusion matrix and classification report to measure how well our model can predict!"
   ]
  },
  {
   "cell_type": "code",
   "execution_count": 23,
   "metadata": {},
   "outputs": [],
   "source": [
    "y_pred2 = mlp.predict(X_test)"
   ]
  },
  {
   "cell_type": "code",
   "execution_count": 24,
   "metadata": {},
   "outputs": [
    {
     "name": "stdout",
     "output_type": "stream",
     "text": [
      "              precision    recall  f1-score   support\n",
      "\n",
      "non-diabetes       0.79      0.84      0.81       159\n",
      "    diabetes       0.69      0.62      0.66        95\n",
      "\n",
      " avg / total       0.75      0.76      0.75       254\n",
      "\n"
     ]
    }
   ],
   "source": [
    "target_names = ['non-diabetes', 'diabetes']\n",
    "print(classification_report(y_test, y_pred2, target_names=target_names))"
   ]
  },
  {
   "cell_type": "markdown",
   "metadata": {},
   "source": [
    "From the above report, we can see that our model can correctly classify 75 percent of the test data. Also, we could try to improve the performance of our model by using a different activation function or different size of hidden layers.\n",
    "\n",
    "This time, we could use sigmoid function as our activation function."
   ]
  },
  {
   "cell_type": "code",
   "execution_count": 29,
   "metadata": {},
   "outputs": [
    {
     "name": "stdout",
     "output_type": "stream",
     "text": [
      "              precision    recall  f1-score   support\n",
      "\n",
      "non-diabetes       0.81      0.87      0.84       159\n",
      "    diabetes       0.75      0.66      0.70        95\n",
      "\n",
      " avg / total       0.79      0.79      0.79       254\n",
      "\n"
     ]
    }
   ],
   "source": [
    "# here, we have a model with three hidden layers. There are n_features number of nodes in each hidden layer.\n",
    "mlp = MLPClassifier(activation='logistic', hidden_layer_sizes=(n_features,n_features-1,n_features-2), \n",
    "                    max_iter= 10000, learning_rate_init = 0.001, solver = 'adam')\n",
    "\n",
    "# fit the training data to our model\n",
    "mlp.fit(X_train, y_train)\n",
    "# run prediction on test data\n",
    "y_pred3 = mlp.predict(X_test)\n",
    "\n",
    "target_names = ['non-diabetes', 'diabetes']\n",
    "print(classification_report(y_test, y_pred3, target_names=target_names))"
   ]
  },
  {
   "cell_type": "markdown",
   "metadata": {},
   "source": [
    "As we can see from the report, prediction accuracy improved from 75 percent to 79 percent. Logistic function works better for this particular problem!"
   ]
  },
  {
   "cell_type": "markdown",
   "metadata": {},
   "source": [
    "### Summary And References\n",
    "\n",
    "Due to the innate complexity of artificial neural networks, this tutorial could only highlight several aspects of it. Much more detail about the libraries and questions on ANNs can be found from the following links.\n",
    "1. Activation Function: https://www.analyticsvidhya.com/blog/2017/10/fundamentals-deep-learning-activation-functions-when-to-use-them/\n",
    "2. Confusion Matrix: https://en.wikipedia.org/wiki/Confusion_matrix\n",
    "3. Sigmoid Function: https://math.stackexchange.com/questions/78575/derivative-of-sigmoid-function-sigma-x-frac11e-x\n",
    "4. Diabetes Dataset: https://www.kaggle.com/uciml/pima-indians-diabetes-database/downloads/diabetes.csv/1\n",
    "5. MLPClassifier: http://scikit-learn.org/stable/modules/generated/sklearn.neural_network.MLPClassifier.html"
   ]
  }
 ],
 "metadata": {
  "kernelspec": {
   "display_name": "Python 3",
   "language": "python",
   "name": "python3"
  },
  "language_info": {
   "codemirror_mode": {
    "name": "ipython",
    "version": 3
   },
   "file_extension": ".py",
   "mimetype": "text/x-python",
   "name": "python",
   "nbconvert_exporter": "python",
   "pygments_lexer": "ipython3",
   "version": "3.6.4"
  }
 },
 "nbformat": 4,
 "nbformat_minor": 2
}
