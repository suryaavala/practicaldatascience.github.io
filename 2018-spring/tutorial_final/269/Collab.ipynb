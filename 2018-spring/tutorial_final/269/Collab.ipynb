{
 "cells": [
  {
   "cell_type": "markdown",
   "metadata": {},
   "source": [
    "# Introduction\n",
    "A recommendation system is a subclass of information filtering system that seeks to predict the \"rating\" or \"preference\" a user would give to an item. Recommender systems have become increasingly popular in recent years, and are utilized in a variety of areas including movies, music, news, books, research articles, search queries, social tags, and products in general. Especially, recommendation system plays a crucial rule in modern music applications. When a user is listening to a song, a music application will recommend some songs. Better recommendation systems will directly result in more users and more using time.\n",
    "\n",
    "Here's a direct example of music recommendation application:\n",
    "\n",
    "![spotify image](spotify.png)\n",
    "\n",
    "The Spotify application will recommend some songs which are related to the current song.\n",
    "\n"
   ]
  },
  {
   "cell_type": "markdown",
   "metadata": {},
   "source": [
    "## tutorial content\n",
    "In this tutorial, we will show how to do some basic recommendation techniques in Python, specifically using pandas, numpy, scipy, matplotlib and scikit-learn.\n",
    "We will be using data collected from the last.fm data repository from the last.fm: http://www.dtic.upf.edu/~ocelma/MusicRecommendationDataset/lastfm-360K.html. This repository contains about the data about 360k users. This dataset contains <user, artist, plays> tuples (for ~360,000 users) collected from Last.fm API, using the user.getTopArtists() method. For space limit (submit files less than 10MB), we randomly choose first 2000 records from the user's database and choose the play record according to 2000 records.\n",
    "\n",
    "The pre-processing code can be found in the \"pre-processing.ipynb\". After the pre-processing, our data has these columns:\n",
    "    \n",
    "    [users, artist-name, plays, total_artist_plays]\n",
    "    \n",
    "We will cover the following topics in this tutorial:\n",
    "\n",
    "1. [Install prerequiries](#1)\n",
    "2. [Loading Data and Plotting](#2)\n",
    "3. [A Trial to Recommendation System](#3)\n",
    "4. [Summary and References](#4)"
   ]
  },
  {
   "cell_type": "markdown",
   "metadata": {},
   "source": [
    "# <span id = \"1\"></span> Install prerequiries"
   ]
  },
  {
   "cell_type": "markdown",
   "metadata": {},
   "source": [
    "Before getting started, you'll need to install the various libraries that we will use. You can install Pandas, Numpy and Scikit-Learn on your\n",
    "own with pip:\n",
    "\n",
    "    pip install numpy scipy scikit-learn matplotlib\n",
    "    \n"
   ]
  },
  {
   "cell_type": "code",
   "execution_count": 1,
   "metadata": {
    "collapsed": true
   },
   "outputs": [],
   "source": [
    "import pandas as pd\n",
    "import numpy as np\n",
    "import matplotlib.pyplot as plt\n",
    "import scipy\n",
    "%matplotlib inline"
   ]
  },
  {
   "cell_type": "markdown",
   "metadata": {},
   "source": [
    "# <span id = \"2\"></span> Loading Data and Plotting"
   ]
  },
  {
   "cell_type": "code",
   "execution_count": 2,
   "metadata": {
    "scrolled": true
   },
   "outputs": [
    {
     "data": {
      "text/html": [
       "<div>\n",
       "<style>\n",
       "    .dataframe thead tr:only-child th {\n",
       "        text-align: right;\n",
       "    }\n",
       "\n",
       "    .dataframe thead th {\n",
       "        text-align: left;\n",
       "    }\n",
       "\n",
       "    .dataframe tbody tr th {\n",
       "        vertical-align: top;\n",
       "    }\n",
       "</style>\n",
       "<table border=\"1\" class=\"dataframe\">\n",
       "  <thead>\n",
       "    <tr style=\"text-align: right;\">\n",
       "      <th></th>\n",
       "      <th>users</th>\n",
       "      <th>artist-name</th>\n",
       "      <th>plays</th>\n",
       "      <th>total_artist_plays</th>\n",
       "    </tr>\n",
       "  </thead>\n",
       "  <tbody>\n",
       "    <tr>\n",
       "      <th>1</th>\n",
       "      <td>00000c289a1829a808ac09c00daf10bc3c4e223b</td>\n",
       "      <td>betty blowtorch</td>\n",
       "      <td>2137</td>\n",
       "      <td>25651</td>\n",
       "    </tr>\n",
       "    <tr>\n",
       "      <th>2</th>\n",
       "      <td>00000c289a1829a808ac09c00daf10bc3c4e223b</td>\n",
       "      <td>die Ärzte</td>\n",
       "      <td>1099</td>\n",
       "      <td>3704875</td>\n",
       "    </tr>\n",
       "    <tr>\n",
       "      <th>3</th>\n",
       "      <td>00000c289a1829a808ac09c00daf10bc3c4e223b</td>\n",
       "      <td>melissa etheridge</td>\n",
       "      <td>897</td>\n",
       "      <td>180391</td>\n",
       "    </tr>\n",
       "    <tr>\n",
       "      <th>4</th>\n",
       "      <td>00000c289a1829a808ac09c00daf10bc3c4e223b</td>\n",
       "      <td>elvenking</td>\n",
       "      <td>717</td>\n",
       "      <td>410725</td>\n",
       "    </tr>\n",
       "    <tr>\n",
       "      <th>5</th>\n",
       "      <td>00000c289a1829a808ac09c00daf10bc3c4e223b</td>\n",
       "      <td>juliette &amp; the licks</td>\n",
       "      <td>706</td>\n",
       "      <td>90498</td>\n",
       "    </tr>\n",
       "  </tbody>\n",
       "</table>\n",
       "</div>"
      ],
      "text/plain": [
       "                                      users           artist-name  plays  \\\n",
       "1  00000c289a1829a808ac09c00daf10bc3c4e223b       betty blowtorch   2137   \n",
       "2  00000c289a1829a808ac09c00daf10bc3c4e223b             die Ärzte   1099   \n",
       "3  00000c289a1829a808ac09c00daf10bc3c4e223b     melissa etheridge    897   \n",
       "4  00000c289a1829a808ac09c00daf10bc3c4e223b             elvenking    717   \n",
       "5  00000c289a1829a808ac09c00daf10bc3c4e223b  juliette & the licks    706   \n",
       "\n",
       "   total_artist_plays  \n",
       "1               25651  \n",
       "2             3704875  \n",
       "3              180391  \n",
       "4              410725  \n",
       "5               90498  "
      ]
     },
     "execution_count": 2,
     "metadata": {},
     "output_type": "execute_result"
    }
   ],
   "source": [
    "#shorter floater for display\n",
    "pd.set_option('display.float_format', lambda x: '%.4f' % x)\n",
    "#read dataset\n",
    "play_list = pd.read_csv('dataset.csv',\n",
    "                          header = None, \n",
    "                          nrows = 2000,\n",
    "                          names = ['index','users', 'artist-name', 'plays', 'total_artist_plays'],\n",
    "                          usecols = ['index','users', 'artist-name', 'plays', 'total_artist_plays'])\n",
    "play_list = play_list.drop(['index'],axis=1)\n",
    "play_list = play_list.drop(0,axis=0)\n",
    "play_list['plays'] = pd.to_numeric(play_list['plays'])\n",
    "play_list['total_artist_plays'] = pd.to_numeric(play_list['total_artist_plays'])\n",
    "play_list.head()"
   ]
  },
  {
   "cell_type": "code",
   "execution_count": 3,
   "metadata": {},
   "outputs": [
    {
     "name": "stdout",
     "output_type": "stream",
     "text": [
      "user size 42\n",
      "artist-name size 1505\n",
      "count       1999.0000\n",
      "mean     2196503.6273\n",
      "std      4083922.3701\n",
      "min           14.0000\n",
      "25%        99387.5000\n",
      "50%       610902.0000\n",
      "75%      2475074.5000\n",
      "max     30466827.0000\n",
      "Name: total_artist_plays, dtype: float64\n"
     ]
    }
   ],
   "source": [
    "#we will do some count for summarize\n",
    "print(\"user size {0}\".format(play_list['users'].value_counts().size))\n",
    "print(\"artist-name size {0}\".format(play_list['artist-name'].value_counts().size))\n",
    "print(play_list['total_artist_plays'].describe())"
   ]
  },
  {
   "cell_type": "markdown",
   "metadata": {},
   "source": [
    "From the summary we can see, we have 42 users in our dataset, and 1505 total artists in our datasets. Moreover, for plays of total_artists, the maximum number is 30466827, which is about 2000000 times of the minimal number 14."
   ]
  },
  {
   "cell_type": "code",
   "execution_count": 4,
   "metadata": {},
   "outputs": [
    {
     "data": {
      "text/html": [
       "<div>\n",
       "<style>\n",
       "    .dataframe thead tr:only-child th {\n",
       "        text-align: right;\n",
       "    }\n",
       "\n",
       "    .dataframe thead th {\n",
       "        text-align: left;\n",
       "    }\n",
       "\n",
       "    .dataframe tbody tr th {\n",
       "        vertical-align: top;\n",
       "    }\n",
       "</style>\n",
       "<table border=\"1\" class=\"dataframe\">\n",
       "  <thead>\n",
       "    <tr style=\"text-align: right;\">\n",
       "      <th></th>\n",
       "      <th>artist-name</th>\n",
       "      <th>total_artist_plays</th>\n",
       "    </tr>\n",
       "  </thead>\n",
       "  <tbody>\n",
       "    <tr>\n",
       "      <th>258</th>\n",
       "      <td>the beatles</td>\n",
       "      <td>30466827</td>\n",
       "    </tr>\n",
       "    <tr>\n",
       "      <th>222</th>\n",
       "      <td>radiohead</td>\n",
       "      <td>27426234</td>\n",
       "    </tr>\n",
       "    <tr>\n",
       "      <th>63</th>\n",
       "      <td>coldplay</td>\n",
       "      <td>16686772</td>\n",
       "    </tr>\n",
       "    <tr>\n",
       "      <th>281</th>\n",
       "      <td>pink floyd</td>\n",
       "      <td>15943557</td>\n",
       "    </tr>\n",
       "    <tr>\n",
       "      <th>299</th>\n",
       "      <td>metallica</td>\n",
       "      <td>15481852</td>\n",
       "    </tr>\n",
       "  </tbody>\n",
       "</table>\n",
       "</div>"
      ],
      "text/plain": [
       "     artist-name  total_artist_plays\n",
       "258  the beatles            30466827\n",
       "222    radiohead            27426234\n",
       "63      coldplay            16686772\n",
       "281   pink floyd            15943557\n",
       "299    metallica            15481852"
      ]
     },
     "execution_count": 4,
     "metadata": {},
     "output_type": "execute_result"
    }
   ],
   "source": [
    "artist_name = play_list['artist-name']\n",
    "total_artist_plays = play_list['total_artist_plays']\n",
    "artist_table = pd.concat([artist_name,total_artist_plays],axis=1)\n",
    "artist_table = artist_table.drop_duplicates()\n",
    "artist_table = artist_table.sort_values(by=['total_artist_plays'],ascending=False)\n",
    "artist_table.head()"
   ]
  },
  {
   "cell_type": "code",
   "execution_count": 5,
   "metadata": {},
   "outputs": [
    {
     "data": {
      "text/html": [
       "<div>\n",
       "<style>\n",
       "    .dataframe thead tr:only-child th {\n",
       "        text-align: right;\n",
       "    }\n",
       "\n",
       "    .dataframe thead th {\n",
       "        text-align: left;\n",
       "    }\n",
       "\n",
       "    .dataframe tbody tr th {\n",
       "        vertical-align: top;\n",
       "    }\n",
       "</style>\n",
       "<table border=\"1\" class=\"dataframe\">\n",
       "  <thead>\n",
       "    <tr style=\"text-align: right;\">\n",
       "      <th></th>\n",
       "      <th>artist-name</th>\n",
       "      <th>total_artist_plays</th>\n",
       "    </tr>\n",
       "  </thead>\n",
       "  <tbody>\n",
       "    <tr>\n",
       "      <th>159</th>\n",
       "      <td>rock universal</td>\n",
       "      <td>14</td>\n",
       "    </tr>\n",
       "    <tr>\n",
       "      <th>1111</th>\n",
       "      <td>otklonenie</td>\n",
       "      <td>34</td>\n",
       "    </tr>\n",
       "    <tr>\n",
       "      <th>1714</th>\n",
       "      <td>jay alansky</td>\n",
       "      <td>40</td>\n",
       "    </tr>\n",
       "    <tr>\n",
       "      <th>694</th>\n",
       "      <td>ambassadöör</td>\n",
       "      <td>55</td>\n",
       "    </tr>\n",
       "    <tr>\n",
       "      <th>489</th>\n",
       "      <td>nubreed &amp; luke chable</td>\n",
       "      <td>95</td>\n",
       "    </tr>\n",
       "  </tbody>\n",
       "</table>\n",
       "</div>"
      ],
      "text/plain": [
       "                artist-name  total_artist_plays\n",
       "159          rock universal                  14\n",
       "1111             otklonenie                  34\n",
       "1714            jay alansky                  40\n",
       "694             ambassadöör                  55\n",
       "489   nubreed & luke chable                  95"
      ]
     },
     "execution_count": 5,
     "metadata": {},
     "output_type": "execute_result"
    }
   ],
   "source": [
    "artist_table = artist_table.sort_values(by=['total_artist_plays'],ascending=True)\n",
    "artist_table.head()"
   ]
  },
  {
   "cell_type": "markdown",
   "metadata": {},
   "source": [
    "As shown above, Most played artists are: the Beatles, Radiohead and Coldplay and the least played artists are rock universal, otklonenie and jay Alansky."
   ]
  },
  {
   "cell_type": "code",
   "execution_count": 6,
   "metadata": {
    "scrolled": true
   },
   "outputs": [
    {
     "data": {
      "image/png": "[encoded data removed]",
      "text/plain": [
       "<matplotlib.figure.Figure at 0x1f6981da710>"
      ]
     },
     "metadata": {},
     "output_type": "display_data"
    }
   ],
   "source": [
    "#some visualization of the total artist play plot\n",
    "plt.plot(np.sort(play_list['total_artist_plays'].unique()))\n",
    "plt.show()"
   ]
  },
  {
   "cell_type": "markdown",
   "metadata": {},
   "source": [
    "From the figure, we can easily see that, in these 2000 records, the play time records of different artists are very similar to a \"long tail\" distribution. It means that most people will listen to same artists, and every person will listen to some specific artists, which makes the recommendation system very difficult. "
   ]
  },
  {
   "cell_type": "code",
   "execution_count": 7,
   "metadata": {},
   "outputs": [
    {
     "name": "stdout",
     "output_type": "stream",
     "text": [
      "username 00000c289a1829a808ac09c00daf10bc3c4e223b\n",
      "username 00001411dc427966b17297bf4d69e7e193135d89\n",
      "username 00004d2ac9316e22dc007ab2243d6fcb239e707d\n",
      "username 000063d3fe1cf2ba248b9e3c3f0334845a27a6bf\n",
      "username 00007a47085b9aab8af55f52ec8846ac479ac4fe\n",
      "username 0000c176103e538d5c9828e695fed4f7ae42dd01\n",
      "username 0000ee7dd906373efa37f4e1185bfe1e3f8695ae\n",
      "username 0000ef373bbd0d89ce796abae961f2705e8c1faf\n",
      "username 0000f687d4fe9c1ed49620fbc5ed5b0d7798ea20\n"
     ]
    },
    {
     "data": {
      "image/png": "[encoded data removed]",
      "text/plain": [
       "<matplotlib.figure.Figure at 0x1f699acd710>"
      ]
     },
     "metadata": {},
     "output_type": "display_data"
    }
   ],
   "source": [
    "#take an user as example, check his play list\n",
    "play_list_user = play_list.groupby('users')\n",
    "now_iter = 1\n",
    "for name, group in play_list_user:\n",
    "    print(\"username {0}\".format(name))\n",
    "    plt.subplot(3,3,now_iter)\n",
    "    plt.plot(np.sort(group['plays']))\n",
    "    now_iter +=1\n",
    "    if now_iter > 9: \n",
    "        break"
   ]
  },
  {
   "cell_type": "markdown",
   "metadata": {},
   "source": [
    "It is also interesting to see that when we use the random nine users as the play time records of different artists. The distributions are also very similar to a \"long tail\" distribution. It means for a single person, he will listen to popular artists with the most times, and some particular artists with few times, which also makes the recommendation system very difficult. "
   ]
  },
  {
   "cell_type": "markdown",
   "metadata": {},
   "source": [
    "# <span id = \"3\"></span> A Trial to Recommendation System"
   ]
  },
  {
   "cell_type": "markdown",
   "metadata": {},
   "source": [
    "In this section, we will provide some basic tutorials and trials on recommendation systems. \n",
    "1. Item-Based Collaborative Filtering"
   ]
  },
  {
   "cell_type": "markdown",
   "metadata": {},
   "source": [
    "## Item-Based Collaborative Filtering\n",
    "In this section, we will use some basic techniques to try item based collabtive filtering, i.e., artist based recommendation."
   ]
  },
  {
   "cell_type": "markdown",
   "metadata": {},
   "source": [
    "### Data Preprocessing"
   ]
  },
  {
   "cell_type": "markdown",
   "metadata": {},
   "source": [
    "Before we conduct real collaborative filtering, we need to prepare some preprocessing tasks for the recommendation task.\n",
    "In the previous DataFrame, we use \"user\" or \"index\" as the index. However, we need to recommend artists to users. So we will take \"artist-name\" as the new index of the new DataFrame."
   ]
  },
  {
   "cell_type": "code",
   "execution_count": 8,
   "metadata": {
    "scrolled": true
   },
   "outputs": [
    {
     "data": {
      "text/html": [
       "<div>\n",
       "<style>\n",
       "    .dataframe thead tr:only-child th {\n",
       "        text-align: right;\n",
       "    }\n",
       "\n",
       "    .dataframe thead th {\n",
       "        text-align: left;\n",
       "    }\n",
       "\n",
       "    .dataframe tbody tr th {\n",
       "        vertical-align: top;\n",
       "    }\n",
       "</style>\n",
       "<table border=\"1\" class=\"dataframe\">\n",
       "  <thead>\n",
       "    <tr style=\"text-align: right;\">\n",
       "      <th>users</th>\n",
       "      <th>00000c289a1829a808ac09c00daf10bc3c4e223b</th>\n",
       "      <th>00001411dc427966b17297bf4d69e7e193135d89</th>\n",
       "      <th>00004d2ac9316e22dc007ab2243d6fcb239e707d</th>\n",
       "      <th>000063d3fe1cf2ba248b9e3c3f0334845a27a6bf</th>\n",
       "      <th>00007a47085b9aab8af55f52ec8846ac479ac4fe</th>\n",
       "      <th>0000c176103e538d5c9828e695fed4f7ae42dd01</th>\n",
       "      <th>0000ee7dd906373efa37f4e1185bfe1e3f8695ae</th>\n",
       "      <th>0000ef373bbd0d89ce796abae961f2705e8c1faf</th>\n",
       "      <th>0000f687d4fe9c1ed49620fbc5ed5b0d7798ea20</th>\n",
       "      <th>0001399387da41d557219578fb08b12afa25ab67</th>\n",
       "      <th>...</th>\n",
       "      <th>000532f6886f086f61037acd896828f0b5b36bf2</th>\n",
       "      <th>0005937bb7e8b1992d94b493519e216317f71685</th>\n",
       "      <th>0005a18022e9a3df17694fe19f5b90edadda7953</th>\n",
       "      <th>0005fb9cb3bb0c4c89fe715630cc9dee91d1dadf</th>\n",
       "      <th>00065b397ff3c9ac3ef5e2b58f96c1284265bdc1</th>\n",
       "      <th>0006e742911b22c8f275674c67b600bf2434f88d</th>\n",
       "      <th>0006e9adc35981f2d066e523596092207b723fcb</th>\n",
       "      <th>0006f849044a98f8db4ac7f83e2881de499b68db</th>\n",
       "      <th>000701c3c006b091990162635b36b008c504c6a7</th>\n",
       "      <th>000710d4dff11af267edd2f70bf54e7678bdd729</th>\n",
       "    </tr>\n",
       "    <tr>\n",
       "      <th>artist-name</th>\n",
       "      <th></th>\n",
       "      <th></th>\n",
       "      <th></th>\n",
       "      <th></th>\n",
       "      <th></th>\n",
       "      <th></th>\n",
       "      <th></th>\n",
       "      <th></th>\n",
       "      <th></th>\n",
       "      <th></th>\n",
       "      <th></th>\n",
       "      <th></th>\n",
       "      <th></th>\n",
       "      <th></th>\n",
       "      <th></th>\n",
       "      <th></th>\n",
       "      <th></th>\n",
       "      <th></th>\n",
       "      <th></th>\n",
       "      <th></th>\n",
       "      <th></th>\n",
       "    </tr>\n",
       "  </thead>\n",
       "  <tbody>\n",
       "    <tr>\n",
       "      <th>!!!</th>\n",
       "      <td>0.0000</td>\n",
       "      <td>0.0000</td>\n",
       "      <td>0.0000</td>\n",
       "      <td>0.0000</td>\n",
       "      <td>0.0000</td>\n",
       "      <td>0.0000</td>\n",
       "      <td>0.0000</td>\n",
       "      <td>0.0000</td>\n",
       "      <td>0.0000</td>\n",
       "      <td>0.0000</td>\n",
       "      <td>...</td>\n",
       "      <td>730.0000</td>\n",
       "      <td>0.0000</td>\n",
       "      <td>0.0000</td>\n",
       "      <td>0.0000</td>\n",
       "      <td>0.0000</td>\n",
       "      <td>0.0000</td>\n",
       "      <td>0.0000</td>\n",
       "      <td>0.0000</td>\n",
       "      <td>0.0000</td>\n",
       "      <td>0.0000</td>\n",
       "    </tr>\n",
       "    <tr>\n",
       "      <th>16 horsepower</th>\n",
       "      <td>0.0000</td>\n",
       "      <td>0.0000</td>\n",
       "      <td>225.0000</td>\n",
       "      <td>0.0000</td>\n",
       "      <td>0.0000</td>\n",
       "      <td>0.0000</td>\n",
       "      <td>0.0000</td>\n",
       "      <td>0.0000</td>\n",
       "      <td>0.0000</td>\n",
       "      <td>0.0000</td>\n",
       "      <td>...</td>\n",
       "      <td>0.0000</td>\n",
       "      <td>0.0000</td>\n",
       "      <td>0.0000</td>\n",
       "      <td>0.0000</td>\n",
       "      <td>0.0000</td>\n",
       "      <td>0.0000</td>\n",
       "      <td>0.0000</td>\n",
       "      <td>0.0000</td>\n",
       "      <td>0.0000</td>\n",
       "      <td>0.0000</td>\n",
       "    </tr>\n",
       "    <tr>\n",
       "      <th>2 many dj's</th>\n",
       "      <td>0.0000</td>\n",
       "      <td>0.0000</td>\n",
       "      <td>0.0000</td>\n",
       "      <td>0.0000</td>\n",
       "      <td>0.0000</td>\n",
       "      <td>647.0000</td>\n",
       "      <td>0.0000</td>\n",
       "      <td>0.0000</td>\n",
       "      <td>0.0000</td>\n",
       "      <td>0.0000</td>\n",
       "      <td>...</td>\n",
       "      <td>0.0000</td>\n",
       "      <td>0.0000</td>\n",
       "      <td>0.0000</td>\n",
       "      <td>0.0000</td>\n",
       "      <td>0.0000</td>\n",
       "      <td>0.0000</td>\n",
       "      <td>0.0000</td>\n",
       "      <td>0.0000</td>\n",
       "      <td>0.0000</td>\n",
       "      <td>0.0000</td>\n",
       "    </tr>\n",
       "    <tr>\n",
       "      <th>20/20</th>\n",
       "      <td>0.0000</td>\n",
       "      <td>0.0000</td>\n",
       "      <td>0.0000</td>\n",
       "      <td>0.0000</td>\n",
       "      <td>0.0000</td>\n",
       "      <td>0.0000</td>\n",
       "      <td>0.0000</td>\n",
       "      <td>0.0000</td>\n",
       "      <td>0.0000</td>\n",
       "      <td>0.0000</td>\n",
       "      <td>...</td>\n",
       "      <td>0.0000</td>\n",
       "      <td>0.0000</td>\n",
       "      <td>0.0000</td>\n",
       "      <td>0.0000</td>\n",
       "      <td>0.0000</td>\n",
       "      <td>0.0000</td>\n",
       "      <td>0.0000</td>\n",
       "      <td>0.0000</td>\n",
       "      <td>0.0000</td>\n",
       "      <td>0.0000</td>\n",
       "    </tr>\n",
       "    <tr>\n",
       "      <th>2pac</th>\n",
       "      <td>0.0000</td>\n",
       "      <td>0.0000</td>\n",
       "      <td>0.0000</td>\n",
       "      <td>0.0000</td>\n",
       "      <td>0.0000</td>\n",
       "      <td>0.0000</td>\n",
       "      <td>0.0000</td>\n",
       "      <td>0.0000</td>\n",
       "      <td>0.0000</td>\n",
       "      <td>0.0000</td>\n",
       "      <td>...</td>\n",
       "      <td>0.0000</td>\n",
       "      <td>0.0000</td>\n",
       "      <td>0.0000</td>\n",
       "      <td>0.0000</td>\n",
       "      <td>0.0000</td>\n",
       "      <td>0.0000</td>\n",
       "      <td>0.0000</td>\n",
       "      <td>0.0000</td>\n",
       "      <td>0.0000</td>\n",
       "      <td>0.0000</td>\n",
       "    </tr>\n",
       "  </tbody>\n",
       "</table>\n",
       "<p>5 rows × 42 columns</p>\n",
       "</div>"
      ],
      "text/plain": [
       "users          00000c289a1829a808ac09c00daf10bc3c4e223b  \\\n",
       "artist-name                                               \n",
       "!!!                                              0.0000   \n",
       "16 horsepower                                    0.0000   \n",
       "2 many dj's                                      0.0000   \n",
       "20/20                                            0.0000   \n",
       "2pac                                             0.0000   \n",
       "\n",
       "users          00001411dc427966b17297bf4d69e7e193135d89  \\\n",
       "artist-name                                               \n",
       "!!!                                              0.0000   \n",
       "16 horsepower                                    0.0000   \n",
       "2 many dj's                                      0.0000   \n",
       "20/20                                            0.0000   \n",
       "2pac                                             0.0000   \n",
       "\n",
       "users          00004d2ac9316e22dc007ab2243d6fcb239e707d  \\\n",
       "artist-name                                               \n",
       "!!!                                              0.0000   \n",
       "16 horsepower                                  225.0000   \n",
       "2 many dj's                                      0.0000   \n",
       "20/20                                            0.0000   \n",
       "2pac                                             0.0000   \n",
       "\n",
       "users          000063d3fe1cf2ba248b9e3c3f0334845a27a6bf  \\\n",
       "artist-name                                               \n",
       "!!!                                              0.0000   \n",
       "16 horsepower                                    0.0000   \n",
       "2 many dj's                                      0.0000   \n",
       "20/20                                            0.0000   \n",
       "2pac                                             0.0000   \n",
       "\n",
       "users          00007a47085b9aab8af55f52ec8846ac479ac4fe  \\\n",
       "artist-name                                               \n",
       "!!!                                              0.0000   \n",
       "16 horsepower                                    0.0000   \n",
       "2 many dj's                                      0.0000   \n",
       "20/20                                            0.0000   \n",
       "2pac                                             0.0000   \n",
       "\n",
       "users          0000c176103e538d5c9828e695fed4f7ae42dd01  \\\n",
       "artist-name                                               \n",
       "!!!                                              0.0000   \n",
       "16 horsepower                                    0.0000   \n",
       "2 many dj's                                    647.0000   \n",
       "20/20                                            0.0000   \n",
       "2pac                                             0.0000   \n",
       "\n",
       "users          0000ee7dd906373efa37f4e1185bfe1e3f8695ae  \\\n",
       "artist-name                                               \n",
       "!!!                                              0.0000   \n",
       "16 horsepower                                    0.0000   \n",
       "2 many dj's                                      0.0000   \n",
       "20/20                                            0.0000   \n",
       "2pac                                             0.0000   \n",
       "\n",
       "users          0000ef373bbd0d89ce796abae961f2705e8c1faf  \\\n",
       "artist-name                                               \n",
       "!!!                                              0.0000   \n",
       "16 horsepower                                    0.0000   \n",
       "2 many dj's                                      0.0000   \n",
       "20/20                                            0.0000   \n",
       "2pac                                             0.0000   \n",
       "\n",
       "users          0000f687d4fe9c1ed49620fbc5ed5b0d7798ea20  \\\n",
       "artist-name                                               \n",
       "!!!                                              0.0000   \n",
       "16 horsepower                                    0.0000   \n",
       "2 many dj's                                      0.0000   \n",
       "20/20                                            0.0000   \n",
       "2pac                                             0.0000   \n",
       "\n",
       "users          0001399387da41d557219578fb08b12afa25ab67  \\\n",
       "artist-name                                               \n",
       "!!!                                              0.0000   \n",
       "16 horsepower                                    0.0000   \n",
       "2 many dj's                                      0.0000   \n",
       "20/20                                            0.0000   \n",
       "2pac                                             0.0000   \n",
       "\n",
       "users                            ...                     \\\n",
       "artist-name                      ...                      \n",
       "!!!                              ...                      \n",
       "16 horsepower                    ...                      \n",
       "2 many dj's                      ...                      \n",
       "20/20                            ...                      \n",
       "2pac                             ...                      \n",
       "\n",
       "users          000532f6886f086f61037acd896828f0b5b36bf2  \\\n",
       "artist-name                                               \n",
       "!!!                                            730.0000   \n",
       "16 horsepower                                    0.0000   \n",
       "2 many dj's                                      0.0000   \n",
       "20/20                                            0.0000   \n",
       "2pac                                             0.0000   \n",
       "\n",
       "users          0005937bb7e8b1992d94b493519e216317f71685  \\\n",
       "artist-name                                               \n",
       "!!!                                              0.0000   \n",
       "16 horsepower                                    0.0000   \n",
       "2 many dj's                                      0.0000   \n",
       "20/20                                            0.0000   \n",
       "2pac                                             0.0000   \n",
       "\n",
       "users          0005a18022e9a3df17694fe19f5b90edadda7953  \\\n",
       "artist-name                                               \n",
       "!!!                                              0.0000   \n",
       "16 horsepower                                    0.0000   \n",
       "2 many dj's                                      0.0000   \n",
       "20/20                                            0.0000   \n",
       "2pac                                             0.0000   \n",
       "\n",
       "users          0005fb9cb3bb0c4c89fe715630cc9dee91d1dadf  \\\n",
       "artist-name                                               \n",
       "!!!                                              0.0000   \n",
       "16 horsepower                                    0.0000   \n",
       "2 many dj's                                      0.0000   \n",
       "20/20                                            0.0000   \n",
       "2pac                                             0.0000   \n",
       "\n",
       "users          00065b397ff3c9ac3ef5e2b58f96c1284265bdc1  \\\n",
       "artist-name                                               \n",
       "!!!                                              0.0000   \n",
       "16 horsepower                                    0.0000   \n",
       "2 many dj's                                      0.0000   \n",
       "20/20                                            0.0000   \n",
       "2pac                                             0.0000   \n",
       "\n",
       "users          0006e742911b22c8f275674c67b600bf2434f88d  \\\n",
       "artist-name                                               \n",
       "!!!                                              0.0000   \n",
       "16 horsepower                                    0.0000   \n",
       "2 many dj's                                      0.0000   \n",
       "20/20                                            0.0000   \n",
       "2pac                                             0.0000   \n",
       "\n",
       "users          0006e9adc35981f2d066e523596092207b723fcb  \\\n",
       "artist-name                                               \n",
       "!!!                                              0.0000   \n",
       "16 horsepower                                    0.0000   \n",
       "2 many dj's                                      0.0000   \n",
       "20/20                                            0.0000   \n",
       "2pac                                             0.0000   \n",
       "\n",
       "users          0006f849044a98f8db4ac7f83e2881de499b68db  \\\n",
       "artist-name                                               \n",
       "!!!                                              0.0000   \n",
       "16 horsepower                                    0.0000   \n",
       "2 many dj's                                      0.0000   \n",
       "20/20                                            0.0000   \n",
       "2pac                                             0.0000   \n",
       "\n",
       "users          000701c3c006b091990162635b36b008c504c6a7  \\\n",
       "artist-name                                               \n",
       "!!!                                              0.0000   \n",
       "16 horsepower                                    0.0000   \n",
       "2 many dj's                                      0.0000   \n",
       "20/20                                            0.0000   \n",
       "2pac                                             0.0000   \n",
       "\n",
       "users          000710d4dff11af267edd2f70bf54e7678bdd729  \n",
       "artist-name                                              \n",
       "!!!                                              0.0000  \n",
       "16 horsepower                                    0.0000  \n",
       "2 many dj's                                      0.0000  \n",
       "20/20                                            0.0000  \n",
       "2pac                                             0.0000  \n",
       "\n",
       "[5 rows x 42 columns]"
      ]
     },
     "execution_count": 8,
     "metadata": {},
     "output_type": "execute_result"
    }
   ],
   "source": [
    "##reshape raw DataFrame into new DataFrame\n",
    "artist_df = play_list.pivot(index = 'artist-name', columns = 'users', values = 'plays').fillna(0)\n",
    "artist_df.head()"
   ]
  },
  {
   "cell_type": "code",
   "execution_count": 9,
   "metadata": {},
   "outputs": [
    {
     "name": "stdout",
     "output_type": "stream",
     "text": [
      "Sparsity is 96.8375257079576\n"
     ]
    }
   ],
   "source": [
    "#counting the non-zero elements in the new generated dataframe\n",
    "non_zero_elements = artist_df.astype(bool).sum(axis=1).sum(axis=0)\n",
    "sparsity = (non_zero_elements + 0.0)/ artist_df.size * 100\n",
    "print(\"Sparsity is {0}\".format(100 - sparsity))"
   ]
  },
  {
   "cell_type": "markdown",
   "metadata": {},
   "source": [
    "You can easily see that 96% of the matrix is filled with 0, It will bring the huge difficulty to our recommendation system."
   ]
  },
  {
   "cell_type": "markdown",
   "metadata": {},
   "source": [
    "### <span id = \"3\"></span> Nearest Neighbor Recommendation\n",
    "Since we randomly choose a small subset of the original last.fm 360K dataset, the data is extremely sparse. For better illustration, we use a fixed artist to show the difference and answer."
   ]
  },
  {
   "cell_type": "code",
   "execution_count": 10,
   "metadata": {},
   "outputs": [
    {
     "name": "stdout",
     "output_type": "stream",
     "text": [
      "With Cosine Metric:\n",
      "Recommendations for metallica:\n",
      "\n",
      "1: megadeth, distance 0.07347315744735516:\n",
      "2: ozzy osbourne, distance 0.08354499232021051:\n",
      "3: asa, distance 0.08354499232021051:\n",
      "4: stam1na, distance 0.08354499232021051:\n",
      "\n"
     ]
    }
   ],
   "source": [
    "from sklearn.neighbors import NearestNeighbors\n",
    "\n",
    "def query_answer(artist_df,model_knn):\n",
    "    query_index = 895\n",
    "    distances, indices = model_knn.kneighbors(artist_df.iloc[query_index, :].values.reshape(1, -1), n_neighbors = 5)\n",
    "    for i in range(0, len(distances.flatten())):\n",
    "        if i == 0:\n",
    "            print('Recommendations for {0}:\\n'.format(artist_df.index[query_index]) )\n",
    "        else:\n",
    "            print('{0}: {1}, distance {2}:'.format(i, artist_df.index[indices[0][i]], distances[0][i]) )\n",
    "    print(\"\")\n",
    "model_knn_cosine = NearestNeighbors(metric = 'cosine', algorithm = 'brute')\n",
    "model_knn_cosine.fit(artist_df)\n",
    "print(\"With Cosine Metric:\")\n",
    "query_answer(artist_df,model_knn_cosine)\n"
   ]
  },
  {
   "cell_type": "markdown",
   "metadata": {},
   "source": [
    "With the cosine metric, we can get the recommendation result as:\n",
    "1. megadeth, distance 0.07347315744735516:\n",
    "2. ozzy osbourne, distance 0.08354499232021051:\n",
    "3. asa, distance 0.08354499232021051:\n",
    "4. stam1na, distance 0.08354499232021051:\n",
    "In the next, we will try to explore different metrics."
   ]
  },
  {
   "cell_type": "code",
   "execution_count": 11,
   "metadata": {},
   "outputs": [
    {
     "name": "stdout",
     "output_type": "stream",
     "text": [
      "With Euclidean Metric:\n",
      "\n",
      "Recommendations for metallica:\n",
      "\n",
      "1: bob marley & the wailers, distance 245.40986125255847:\n",
      "2: megadeth, distance 288.5948717493088:\n",
      "3: ac/dc, distance 290.7077570344486:\n",
      "4: trivium, distance 308.3682863071363:\n",
      "\n",
      "With CityBlock Metric:\n",
      "\n",
      "Recommendations for metallica:\n",
      "\n",
      "1: megadeth, distance 489.0:\n",
      "2: bob marley & the wailers, distance 498.0:\n",
      "3: trivium, distance 571.0:\n",
      "4: stam1na, distance 627.0:\n",
      "\n",
      "With Minkowski Metric:\n",
      "\n",
      "Recommendations for metallica:\n",
      "\n",
      "1: bob marley & the wailers, distance 245.40986125255847:\n",
      "2: megadeth, distance 288.5948717493088:\n",
      "3: ac/dc, distance 290.7077570344486:\n",
      "4: trivium, distance 308.3682863071363:\n",
      "\n"
     ]
    }
   ],
   "source": [
    "#euclidean metric \n",
    "model_knn_euc = NearestNeighbors(metric = 'euclidean', algorithm = 'brute')\n",
    "model_knn_euc.fit(artist_df)\n",
    "print(\"With Euclidean Metric:\\n\")\n",
    "query_answer(artist_df,model_knn_euc)\n",
    "#cityblock metric \n",
    "model_knn_city = NearestNeighbors(metric = 'cityblock', algorithm = 'brute')\n",
    "model_knn_city.fit(artist_df)\n",
    "print(\"With CityBlock Metric:\\n\")\n",
    "query_answer(artist_df,model_knn_city)\n",
    "#minkowski metric\n",
    "model_knn_minkowski = NearestNeighbors(metric = 'minkowski', algorithm = 'brute')\n",
    "model_knn_minkowski.fit(artist_df)\n",
    "print(\"With Minkowski Metric:\\n\")\n",
    "query_answer(artist_df,model_knn_minkowski)"
   ]
  },
  {
   "cell_type": "markdown",
   "metadata": {},
   "source": [
    "With both l1 and l2 metric, we can get different recommendation results above.\n",
    "\n",
    "With Euclidean Metric:\n",
    "\n",
    "Recommendations for metallica:\n",
    "\n",
    "1. bob marley & the wailers, distance 245.40986125255847:\n",
    "2. megadeth, distance 288.5948717493088:\n",
    "3. ac/dc, distance 290.7077570344486:\n",
    "4. trivium, distance 308.3682863071363:\n",
    "\n",
    "With CityBlock Metric:\n",
    "\n",
    "Recommendations for metallica:\n",
    "\n",
    "1. megadeth, distance 489.0:\n",
    "2. bob marley & the wailers, distance 498.0:\n",
    "3. trivium, distance 571.0:\n",
    "4. stam1na, distance 627.0:\n",
    "\n",
    "Generally speaking, when using l1 and l2 metric, the recommendation results have massive difference with the cosine distance. It is due to that the l1 and l2 metric do not consider the length of vectors. Moreover, when the data matrix is extremely sparse, the cosine metric should be much better than the l1 and l2 metric.\n"
   ]
  },
  {
   "cell_type": "markdown",
   "metadata": {},
   "source": [
    "### Exploring More Over the Preprocessing Step"
   ]
  },
  {
   "cell_type": "markdown",
   "metadata": {},
   "source": [
    "In the last section, we directly transfer the original dataset into the new data frame. In this section, we will provide more experiments on the previous data frame. First, we can ignore the time effect on each artist, i.e., we only record whether an artist is played by the specific user."
   ]
  },
  {
   "cell_type": "code",
   "execution_count": 12,
   "metadata": {
    "collapsed": true
   },
   "outputs": [],
   "source": [
    "#ignore the time effects, only record 0 and 1 on the generated data\n",
    "artist_df_binary = artist_df.apply(lambda x: np.sign(x))"
   ]
  },
  {
   "cell_type": "markdown",
   "metadata": {},
   "source": [
    "Then we try to use the same metric to evaluate the performance of the data:"
   ]
  },
  {
   "cell_type": "code",
   "execution_count": 13,
   "metadata": {},
   "outputs": [
    {
     "name": "stdout",
     "output_type": "stream",
     "text": [
      "With Cosine Metric:\n",
      "Recommendations for metallica:\n",
      "\n",
      "1: seal, distance 0.29289321881345254:\n",
      "2: guns n' roses, distance 0.29289321881345254:\n",
      "3: natalie imbruglia, distance 0.29289321881345254:\n",
      "4: megadeth, distance 0.29289321881345254:\n",
      "\n",
      "With Euclidean Metric:\n",
      "\n",
      "Recommendations for metallica:\n",
      "\n",
      "1: seal, distance 1.4142135623730951:\n",
      "2: guns n' roses, distance 1.4142135623730951:\n",
      "3: tarot, distance 1.4142135623730951:\n",
      "4: natalie imbruglia, distance 1.4142135623730951:\n",
      "\n",
      "With CityBlock Metric:\n",
      "\n",
      "Recommendations for metallica:\n",
      "\n",
      "1: seal, distance 2.0:\n",
      "2: guns n' roses, distance 2.0:\n",
      "3: tarot, distance 2.0:\n",
      "4: natalie imbruglia, distance 2.0:\n",
      "\n",
      "With Minkowski Metric:\n",
      "\n",
      "Recommendations for metallica:\n",
      "\n",
      "1: seal, distance 1.4142135623730951:\n",
      "2: guns n' roses, distance 1.4142135623730951:\n",
      "3: tarot, distance 1.4142135623730951:\n",
      "4: natalie imbruglia, distance 1.4142135623730951:\n",
      "\n"
     ]
    }
   ],
   "source": [
    "model_knn_cosine = NearestNeighbors(metric = 'cosine', algorithm = 'brute')\n",
    "model_knn_cosine.fit(artist_df_binary)\n",
    "print(\"With Cosine Metric:\")\n",
    "query_answer(artist_df_binary,model_knn_cosine)\n",
    "#euclidean metric \n",
    "model_knn_euc = NearestNeighbors(metric = 'euclidean', algorithm = 'brute')\n",
    "model_knn_euc.fit(artist_df_binary)\n",
    "print(\"With Euclidean Metric:\\n\")\n",
    "query_answer(artist_df_binary,model_knn_euc)\n",
    "#cityblock metric \n",
    "model_knn_city = NearestNeighbors(metric = 'cityblock', algorithm = 'brute')\n",
    "model_knn_city.fit(artist_df_binary)\n",
    "print(\"With CityBlock Metric:\\n\")\n",
    "query_answer(artist_df_binary,model_knn_city)\n",
    "#minkowski metric\n",
    "model_knn_minkowski = NearestNeighbors(metric = 'minkowski', algorithm = 'brute')\n",
    "model_knn_minkowski.fit(artist_df_binary)\n",
    "print(\"With Minkowski Metric:\\n\")\n",
    "query_answer(artist_df_binary,model_knn_minkowski)"
   ]
  },
  {
   "cell_type": "markdown",
   "metadata": {},
   "source": [
    "After we binarize the times of played artists, the results become almost same for all 4 metrics. Due to the sparsity issue we have mentioned above, it seems that we can not get good recommendation results for the small subset, we will explore with more data and try to overcome the issue."
   ]
  },
  {
   "cell_type": "markdown",
   "metadata": {},
   "source": [
    "### Removing rare artists\n",
    "As illustrated above, sparsity is an important problem in our dataset. So we can remove some rare artists to reduce sparsity:"
   ]
  },
  {
   "cell_type": "code",
   "execution_count": 14,
   "metadata": {},
   "outputs": [
    {
     "data": {
      "text/html": [
       "<div>\n",
       "<style>\n",
       "    .dataframe thead tr:only-child th {\n",
       "        text-align: right;\n",
       "    }\n",
       "\n",
       "    .dataframe thead th {\n",
       "        text-align: left;\n",
       "    }\n",
       "\n",
       "    .dataframe tbody tr th {\n",
       "        vertical-align: top;\n",
       "    }\n",
       "</style>\n",
       "<table border=\"1\" class=\"dataframe\">\n",
       "  <thead>\n",
       "    <tr style=\"text-align: right;\">\n",
       "      <th></th>\n",
       "      <th>users</th>\n",
       "      <th>artist-name</th>\n",
       "      <th>plays</th>\n",
       "      <th>total_artist_plays</th>\n",
       "    </tr>\n",
       "  </thead>\n",
       "  <tbody>\n",
       "    <tr>\n",
       "      <th>2</th>\n",
       "      <td>00000c289a1829a808ac09c00daf10bc3c4e223b</td>\n",
       "      <td>die Ärzte</td>\n",
       "      <td>1099</td>\n",
       "      <td>3704875</td>\n",
       "    </tr>\n",
       "    <tr>\n",
       "      <th>3</th>\n",
       "      <td>00000c289a1829a808ac09c00daf10bc3c4e223b</td>\n",
       "      <td>melissa etheridge</td>\n",
       "      <td>897</td>\n",
       "      <td>180391</td>\n",
       "    </tr>\n",
       "    <tr>\n",
       "      <th>4</th>\n",
       "      <td>00000c289a1829a808ac09c00daf10bc3c4e223b</td>\n",
       "      <td>elvenking</td>\n",
       "      <td>717</td>\n",
       "      <td>410725</td>\n",
       "    </tr>\n",
       "    <tr>\n",
       "      <th>5</th>\n",
       "      <td>00000c289a1829a808ac09c00daf10bc3c4e223b</td>\n",
       "      <td>juliette &amp; the licks</td>\n",
       "      <td>706</td>\n",
       "      <td>90498</td>\n",
       "    </tr>\n",
       "    <tr>\n",
       "      <th>6</th>\n",
       "      <td>00000c289a1829a808ac09c00daf10bc3c4e223b</td>\n",
       "      <td>red hot chili peppers</td>\n",
       "      <td>691</td>\n",
       "      <td>13547741</td>\n",
       "    </tr>\n",
       "  </tbody>\n",
       "</table>\n",
       "</div>"
      ],
      "text/plain": [
       "                                      users            artist-name  plays  \\\n",
       "2  00000c289a1829a808ac09c00daf10bc3c4e223b              die Ärzte   1099   \n",
       "3  00000c289a1829a808ac09c00daf10bc3c4e223b      melissa etheridge    897   \n",
       "4  00000c289a1829a808ac09c00daf10bc3c4e223b              elvenking    717   \n",
       "5  00000c289a1829a808ac09c00daf10bc3c4e223b   juliette & the licks    706   \n",
       "6  00000c289a1829a808ac09c00daf10bc3c4e223b  red hot chili peppers    691   \n",
       "\n",
       "   total_artist_plays  \n",
       "2             3704875  \n",
       "3              180391  \n",
       "4              410725  \n",
       "5               90498  \n",
       "6            13547741  "
      ]
     },
     "execution_count": 14,
     "metadata": {},
     "output_type": "execute_result"
    }
   ],
   "source": [
    "popularity_threshold = 40000\n",
    "play_list_frequent = play_list.query('total_artist_plays >= @popularity_threshold')\n",
    "play_list_frequent.head()\n"
   ]
  },
  {
   "cell_type": "code",
   "execution_count": 15,
   "metadata": {},
   "outputs": [
    {
     "name": "stdout",
     "output_type": "stream",
     "text": [
      "With Cosine Metric:\n",
      "Recommendations for seal:\n",
      "\n",
      "1: ratos de porão, distance 0.0013219846332247487:\n",
      "2: fantômas, distance 0.0013219846332247487:\n",
      "3: the streets, distance 0.0013219846332247487:\n",
      "4: penguin cafe orchestra, distance 0.0013219846332247487:\n",
      "\n",
      "With Euclidean Metric:\n",
      "\n",
      "Recommendations for seal:\n",
      "\n",
      "1: penguin cafe orchestra, distance 21.37755832643195:\n",
      "2: xutos & pontapés, distance 48.75448697299562:\n",
      "3: paul simon, distance 80.65977932030313:\n",
      "4: madredeus, distance 143.54441821262157:\n",
      "\n",
      "With CityBlock Metric:\n",
      "\n",
      "Recommendations for seal:\n",
      "\n",
      "1: penguin cafe orchestra, distance 25.0:\n",
      "2: xutos & pontapés, distance 65.0:\n",
      "3: paul simon, distance 114.0:\n",
      "4: madredeus, distance 163.0:\n",
      "\n"
     ]
    }
   ],
   "source": [
    "artist_df_frequent = play_list_frequent.pivot(index = 'artist-name', columns = 'users', values = 'plays').fillna(0)\n",
    "model_knn_cosine = NearestNeighbors(metric = 'cosine', algorithm = 'brute')\n",
    "model_knn_cosine.fit(artist_df_frequent)\n",
    "print(\"With Cosine Metric:\")\n",
    "query_answer(artist_df_frequent,model_knn_cosine)\n",
    "model_knn_euc = NearestNeighbors(metric = 'euclidean', algorithm = 'brute')\n",
    "model_knn_euc.fit(artist_df_frequent)\n",
    "print(\"With Euclidean Metric:\\n\")\n",
    "query_answer(artist_df_frequent,model_knn_euc)\n",
    "#cityblock metric \n",
    "model_knn_city = NearestNeighbors(metric = 'cityblock', algorithm = 'brute')\n",
    "model_knn_city.fit(artist_df_frequent)\n",
    "print(\"With CityBlock Metric:\\n\")\n",
    "query_answer(artist_df_frequent,model_knn_city)"
   ]
  },
  {
   "cell_type": "markdown",
   "metadata": {},
   "source": [
    "With reduced sparsity, we can get better results with all metrics."
   ]
  },
  {
   "cell_type": "markdown",
   "metadata": {},
   "source": [
    "# <span id = \"4\"></span> Summary and references\n",
    "This tutorial highlighted a few elements of recommendation systems. \n",
    " 1. Recommender System https://en.wikipedia.org/wiki/Recommender_system\n",
    " 2. last.fm 360K dataset http://www.dtic.upf.edu/~ocelma/MusicRecommendationDataset/lastfm-360K.html"
   ]
  },
  {
   "cell_type": "code",
   "execution_count": null,
   "metadata": {
    "collapsed": true
   },
   "outputs": [],
   "source": []
  }
 ],
 "metadata": {
  "kernelspec": {
   "display_name": "Python 3",
   "language": "python",
   "name": "python3"
  },
  "language_info": {
   "codemirror_mode": {
    "name": "ipython",
    "version": 3
   },
   "file_extension": ".py",
   "mimetype": "text/x-python",
   "name": "python",
   "nbconvert_exporter": "python",
   "pygments_lexer": "ipython3",
   "version": "3.6.3"
  }
 },
 "nbformat": 4,
 "nbformat_minor": 2
}
