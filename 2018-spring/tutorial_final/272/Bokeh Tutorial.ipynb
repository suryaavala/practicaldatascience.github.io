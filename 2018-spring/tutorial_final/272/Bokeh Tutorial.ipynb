{
 "cells": [
  {
   "cell_type": "markdown",
   "metadata": {},
   "source": [
    "## Introduction\n",
    "Data visualization is an important task for data scientists. A great visual presentation of datasets helps readers to  understand the data much better. While matplotlib is a great Python plotting library for basic graphs, it lacks beauty and the ability for users to interact with data.\n",
    "\n",
    "This tutorial introduces you fundamental functions and use cases of a interactive plotting library, Bokeh. Bokeh \"provides elegant, concise construction of novel graphics in the style of D3.js\". It is a python plotting library being widely used to create interactive plots, dashboards and data applications. For more detailed introductions, the official document of Bokeh can be found [here](https://bokeh.pydata.org/en/latest/).  \n",
    "\n",
    "The following graphs are snippets of graphs that Bokeh created. You can click on one graph to check the code used to generate the graph.\n",
    "\n",
    "<p>\n",
    "</p><table cellspacing=\"20\">\n",
    "<tbody><tr>\n",
    "  <td>\n",
    "  <a href=\"https://bokeh.pydata.org/en/latest/docs/gallery/image.html\" rel=\"nofollow\">\n",
    "  <img alt=\"colormapped image plot thumbnail\" src=\"https://camo.githubusercontent.com/6bfc009d7b1d933a277e432b8cf13af29332b08f/68747470733a2f2f626f6b65682e7079646174612e6f72672f656e2f6c61746573742f5f696d616765732f696d6167655f742e706e67\" data-canonical-src=\"https://bokeh.pydata.org/en/latest/_images/image_t.png\" style=\"max-width:100%;\">\n",
    "  </a>\n",
    "  </td>\n",
    "  <td>\n",
    "  <a href=\"https://bokeh.pydata.org/en/latest/docs/gallery/anscombe.html\" rel=\"nofollow\">\n",
    "  <img alt=\"anscombe plot thumbnail\" src=\"https://camo.githubusercontent.com/773c4d579852e66bec8668bba477ee6593c31c09/68747470733a2f2f626f6b65682e7079646174612e6f72672f656e2f6c61746573742f5f696d616765732f616e73636f6d62655f742e706e67\" data-canonical-src=\"https://bokeh.pydata.org/en/latest/_images/anscombe_t.png\" style=\"max-width:100%;\">\n",
    "  </a>\n",
    "  </td>\n",
    "  <td>\n",
    "  <a href=\"https://bokeh.pydata.org/en/latest/docs/gallery/stocks.html\" rel=\"nofollow\">\n",
    "  <img alt=\"stocks plot thumbnail\" src=\"https://camo.githubusercontent.com/7ae6921ed8bf4bb3caaadd8aa06b96903c83f63f/68747470733a2f2f626f6b65682e7079646174612e6f72672f656e2f6c61746573742f5f696d616765732f73746f636b735f742e706e67\" data-canonical-src=\"https://bokeh.pydata.org/en/latest/_images/stocks_t.png\" style=\"max-width:100%;\">\n",
    "  </a>\n",
    "  </td>\n",
    "  <td>\n",
    "  <a href=\"https://bokeh.pydata.org/en/latest/docs/gallery/lorenz.html\" rel=\"nofollow\">\n",
    "  <img alt=\"lorenz attractor plot thumbnail\" src=\"https://camo.githubusercontent.com/fac1ab8f2284402b0f5d92b569b997068fd7ceee/68747470733a2f2f626f6b65682e7079646174612e6f72672f656e2f6c61746573742f5f696d616765732f6c6f72656e7a5f742e706e67\" data-canonical-src=\"https://bokeh.pydata.org/en/latest/_images/lorenz_t.png\" style=\"max-width:100%;\">\n",
    "  </a>\n",
    "  </td>\n",
    "  <td>\n",
    "  <a href=\"https://bokeh.pydata.org/en/latest/docs/gallery/candlestick.html\" rel=\"nofollow\">\n",
    "  <img alt=\"candlestick plot thumbnail\" src=\"https://camo.githubusercontent.com/80e0a327ace6b3b0d7bd7b557f6e8fe4b5034a02/68747470733a2f2f626f6b65682e7079646174612e6f72672f656e2f6c61746573742f5f696d616765732f63616e646c65737469636b5f742e706e67\" data-canonical-src=\"https://bokeh.pydata.org/en/latest/_images/candlestick_t.png\" style=\"max-width:100%;\">\n",
    "  </a>\n",
    "  </td>\n",
    "  <td>\n",
    "  <a href=\"https://bokeh.pydata.org/en/latest/docs/gallery/color_scatter.html\" rel=\"nofollow\">\n",
    "  <img alt=\"scatter plot thumbnail\" src=\"https://camo.githubusercontent.com/72cfd980fc301f20e54dc148f7a717ec70f02eaf/68747470733a2f2f626f6b65682e7079646174612e6f72672f656e2f6c61746573742f5f696d616765732f736361747465725f742e706e67\" data-canonical-src=\"https://bokeh.pydata.org/en/latest/_images/scatter_t.png\" style=\"max-width:100%;\">\n",
    "  </a>\n",
    "  </td>\n",
    "  <td>\n",
    "  <a href=\"https://bokeh.pydata.org/en/latest/docs/gallery/iris_splom.html\" rel=\"nofollow\">\n",
    "  <img alt=\"SPLOM plot thumbnail\" src=\"https://camo.githubusercontent.com/a80d324ac3dec84674b62e6005cd3c77bab75951/68747470733a2f2f626f6b65682e7079646174612e6f72672f656e2f6c61746573742f5f696d616765732f73706c6f6d5f742e706e67\" data-canonical-src=\"https://bokeh.pydata.org/en/latest/_images/splom_t.png\" style=\"max-width:100%;\">\n",
    "  </a>\n",
    "  </td>\n",
    "</tr>\n",
    "<tr>\n",
    "  <td>\n",
    "  <a href=\"https://bokeh.pydata.org/en/latest/docs/gallery/iris.html\" rel=\"nofollow\">\n",
    "  <img alt=\"iris dataset plot thumbnail\" src=\"https://camo.githubusercontent.com/c7e27dce390e427536515a4302cb824a81c63dbd/68747470733a2f2f626f6b65682e7079646174612e6f72672f656e2f6c61746573742f5f696d616765732f697269735f742e706e67\" data-canonical-src=\"https://bokeh.pydata.org/en/latest/_images/iris_t.png\" style=\"max-width:100%;\">\n",
    "  </a>\n",
    "  </td>\n",
    "  <td>\n",
    "  <a href=\"https://bokeh.pydata.org/en/latest/docs/gallery/histogram.html\" rel=\"nofollow\">\n",
    "  <img alt=\"histogram plot thumbnail\" src=\"https://camo.githubusercontent.com/2e528b7d64204b1663d34f35f4b9f656afc99fd6/68747470733a2f2f626f6b65682e7079646174612e6f72672f656e2f6c61746573742f5f696d616765732f686973746f6772616d5f742e706e67\" data-canonical-src=\"https://bokeh.pydata.org/en/latest/_images/histogram_t.png\" style=\"max-width:100%;\">\n",
    "  </a>\n",
    "  </td>\n",
    "  <td>\n",
    "  <a href=\"https://bokeh.pydata.org/en/latest/docs/gallery/periodic.html\" rel=\"nofollow\">\n",
    "  <img alt=\"periodic table plot thumbnail\" src=\"https://camo.githubusercontent.com/408bc6e39aca59863d6a33679b34a4e653d3c968/68747470733a2f2f626f6b65682e7079646174612e6f72672f656e2f6c61746573742f5f696d616765732f706572696f6469635f742e706e67\" data-canonical-src=\"https://bokeh.pydata.org/en/latest/_images/periodic_t.png\" style=\"max-width:100%;\">\n",
    "  </a>\n",
    "  </td>\n",
    "  <td>\n",
    "  <a href=\"https://bokeh.pydata.org/en/latest/docs/gallery/texas.html\" rel=\"nofollow\">\n",
    "  <img alt=\"choropleth plot thumbnail\" src=\"https://camo.githubusercontent.com/f3ae031333f2c596927e6a3cbefb7378a191c9d1/68747470733a2f2f626f6b65682e7079646174612e6f72672f656e2f6c61746573742f5f696d616765732f63686f726f706c6574685f742e706e67\" data-canonical-src=\"https://bokeh.pydata.org/en/latest/_images/choropleth_t.png\" style=\"max-width:100%;\">\n",
    "  </a>\n",
    "  </td>\n",
    "  <td>\n",
    "  <a href=\"https://bokeh.pydata.org/en/latest/docs/gallery/burtin.html\" rel=\"nofollow\">\n",
    "  <img alt=\"burtin antibiotic data plot thumbnail\" src=\"https://camo.githubusercontent.com/6d431b4e4a172d4a00b6294e4dfe2bf1267d1aef/68747470733a2f2f626f6b65682e7079646174612e6f72672f656e2f6c61746573742f5f696d616765732f62757274696e5f742e706e67\" data-canonical-src=\"https://bokeh.pydata.org/en/latest/_images/burtin_t.png\" style=\"max-width:100%;\">\n",
    "  </a>\n",
    "  </td>\n",
    "  <td>\n",
    "  <a href=\"https://bokeh.pydata.org/en/latest/docs/gallery/streamline.html\" rel=\"nofollow\">\n",
    "  <img alt=\"streamline plot thumbnail\" src=\"https://camo.githubusercontent.com/980b474512c4c72683f342311dbb82dc45f8229b/68747470733a2f2f626f6b65682e7079646174612e6f72672f656e2f6c61746573742f5f696d616765732f73747265616d6c696e655f742e706e67\" data-canonical-src=\"https://bokeh.pydata.org/en/latest/_images/streamline_t.png\" style=\"max-width:100%;\">\n",
    "  </a>\n",
    "  </td>\n",
    "  <td>\n",
    "  <a href=\"https://bokeh.pydata.org/en/latest/docs/gallery/image_rgba.html\" rel=\"nofollow\">\n",
    "  <img alt=\"RGBA image plot thumbnail\" src=\"https://camo.githubusercontent.com/d480dac6721253d103d1dae90089d5442b550666/68747470733a2f2f626f6b65682e7079646174612e6f72672f656e2f6c61746573742f5f696d616765732f696d6167655f726762615f742e706e67\" data-canonical-src=\"https://bokeh.pydata.org/en/latest/_images/image_rgba_t.png\" style=\"max-width:100%;\">\n",
    "  </a>\n",
    "  </td>\n",
    "</tr>\n",
    "<tr>\n",
    "  <td>\n",
    "  <a href=\"https://bokeh.pydata.org/en/latest/docs/gallery/brewer.html\" rel=\"nofollow\">\n",
    "  <img alt=\"stacked bars plot thumbnail\" src=\"https://camo.githubusercontent.com/848d670cde92084e462f0bb69a41aff9196d8acc/68747470733a2f2f626f6b65682e7079646174612e6f72672f656e2f6c61746573742f5f696d616765732f737461636b65645f742e706e67\" data-canonical-src=\"https://bokeh.pydata.org/en/latest/_images/stacked_t.png\" style=\"max-width:100%;\">\n",
    "  </a>\n",
    "  </td>\n",
    "  <td>\n",
    "  <a href=\"https://bokeh.pydata.org/en/latest/docs/gallery/quiver.html\" rel=\"nofollow\">\n",
    "  <img alt=\"quiver plot thumbnail\" src=\"https://camo.githubusercontent.com/866b43432c062a0f9bf9809b68b63114ef41a9ca/68747470733a2f2f626f6b65682e7079646174612e6f72672f656e2f6c61746573742f5f696d616765732f7175697665725f742e706e67\" data-canonical-src=\"https://bokeh.pydata.org/en/latest/_images/quiver_t.png\" style=\"max-width:100%;\">\n",
    "  </a>\n",
    "  </td>\n",
    "  <td>\n",
    "  <a href=\"https://bokeh.pydata.org/en/latest/docs/gallery/elements.html\" rel=\"nofollow\">\n",
    "  <img alt=\"elements data plot thumbnail\" src=\"https://camo.githubusercontent.com/dc8442c44b135df0b941e52f22abf64ceb766382/68747470733a2f2f626f6b65682e7079646174612e6f72672f656e2f6c61746573742f5f696d616765732f656c656d656e74735f742e706e67\" data-canonical-src=\"https://bokeh.pydata.org/en/latest/_images/elements_t.png\" style=\"max-width:100%;\">\n",
    "  </a>\n",
    "  </td>\n",
    "  <td>\n",
    "  <a href=\"https://bokeh.pydata.org/en/latest/docs/gallery/boxplot.html\" rel=\"nofollow\">\n",
    "  <img alt=\"boxplot thumbnail\" src=\"https://camo.githubusercontent.com/f6ad6de3f69a1b4b6e829e046dbc45aca1285289/68747470733a2f2f626f6b65682e7079646174612e6f72672f656e2f6c61746573742f5f696d616765732f626f78706c6f745f742e706e67\" data-canonical-src=\"https://bokeh.pydata.org/en/latest/_images/boxplot_t.png\" style=\"max-width:100%;\">\n",
    "  </a>\n",
    "  </td>\n",
    "  <td>\n",
    "  <a href=\"https://bokeh.pydata.org/en/latest/docs/gallery/categorical.html\" rel=\"nofollow\">\n",
    "  <img alt=\"categorical plot thumbnail\" src=\"https://camo.githubusercontent.com/fe097053326a53c31bd4d698fae5f7bd0390d27f/68747470733a2f2f626f6b65682e7079646174612e6f72672f656e2f6c61746573742f5f696d616765732f63617465676f726963616c5f742e706e67\" data-canonical-src=\"https://bokeh.pydata.org/en/latest/_images/categorical_t.png\" style=\"max-width:100%;\">\n",
    "  </a>\n",
    "  </td>\n",
    "  <td>\n",
    "  <a href=\"https://bokeh.pydata.org/en/latest/docs/gallery/unemployment.html\" rel=\"nofollow\">\n",
    "  <img alt=\"unemployment data plot thumbnail\" src=\"https://camo.githubusercontent.com/82c10158736ab2b27631d40511101e18d548dad9/68747470733a2f2f626f6b65682e7079646174612e6f72672f656e2f6c61746573742f5f696d616765732f756e656d706c6f796d656e745f742e706e67\" data-canonical-src=\"https://bokeh.pydata.org/en/latest/_images/unemployment_t.png\" style=\"max-width:100%;\">\n",
    "  </a>\n",
    "  </td>\n",
    "  <td>\n",
    "  <a href=\"https://bokeh.pydata.org/en/latest/docs/gallery/les_mis.html\" rel=\"nofollow\">\n",
    "  <img alt=\"Les Mis co-occurrence plot thumbnail\" src=\"https://camo.githubusercontent.com/177888d483a6cf5bb856c4875bcddbd3e6b380e8/68747470733a2f2f626f6b65682e7079646174612e6f72672f656e2f6c61746573742f5f696d616765732f6c65735f6d69735f742e706e67\" data-canonical-src=\"https://bokeh.pydata.org/en/latest/_images/les_mis_t.png\" style=\"max-width:100%;\">\n",
    "  </a>\n",
    "  </td>\n",
    "</tr>\n",
    "</tbody></table>\n",
    "<p></p>\n"
   ]
  },
  {
   "cell_type": "markdown",
   "metadata": {},
   "source": [
    "### Tutorial Content\n",
    "In this tutorial, we will show you how to use Bokeh to generate basic plots as well as more advanced interactive plots.\n",
    "\n",
    "The dataset we will use is collected from \"https://s3.amazonaws.com/aws-website-programminginrforanalytics-tbal0/data/birthwt.csv. It is a research dataset containing information about new baby born weight and mother's information. We will use Bokeh to do exploratory data analysis for this dataset. Detailed information on this dataset will be introduced in latter sections.\n",
    "\n",
    "To give you a glimpse, this tutorial covers the following the topics:\n",
    "- [Installing the library](#Installing-the-library)\n",
    "- [Plotting basics graphs](#Plotting-basic-graphs)\n",
    "    - [Bokeh Bascis](#Bokeh-Bascis)\n",
    "- [Adding Interactivity](#Adding-Interactivity)\n",
    "    - [Hover Tool](#Using-Hover-Tool)\n",
    "    - [Interactive Legends](#Using-Interactive-Legends)\n",
    "    - [Tabs](#Adding-Tabs)\n",
    "- [Summary and References](#Summary-and-References)"
   ]
  },
  {
   "cell_type": "markdown",
   "metadata": {},
   "source": [
    "## Installing the library\n",
    "Bokeh recommends users to install the package via the [Anaconda Python Distribution](https://www.anaconda.com/).  \n",
    "If you are already an Anaconda users, you can simply run the command:\n",
    "\n",
    "    $ conda install bokeh\n",
    "\n",
    "Alternatively, you can install the package using `pip`:  \n",
    "\n",
    "    $ pip install bokeh\n",
    "    \n",
    "In this tutorial, we also need to import `Pandas`, `NumPy` and `SciPy` to help us on exploratory data analysis with real dataset."
   ]
  },
  {
   "cell_type": "code",
   "execution_count": 1,
   "metadata": {},
   "outputs": [],
   "source": [
    "import bokeh\n",
    "import pandas as pd\n",
    "import numpy as np\n",
    "import scipy"
   ]
  },
  {
   "cell_type": "markdown",
   "metadata": {},
   "source": [
    "## Plotting basic graphs"
   ]
  },
  {
   "cell_type": "markdown",
   "metadata": {},
   "source": [
    "### Bokeh Bascis\n",
    "Let's start with the most basic plot, scatter plots. The following is the code for plotting a scatter plot using a few points. This part of the code is important for us to understand the plotting mechanism of Bokeh, so take your time to read through the codes. I will reveal how this chunk of codes work right after this example."
   ]
  },
  {
   "cell_type": "code",
   "execution_count": 2,
   "metadata": {},
   "outputs": [
    {
     "data": {
      "text/html": [
       "\n",
       "    <div class=\"bk-root\">\n",
       "        <a href=\"https://bokeh.pydata.org\" target=\"_blank\" class=\"bk-logo bk-logo-small bk-logo-notebook\"></a>\n",
       "        <span id=\"68c19135-4158-45c3-b14b-dbc4da0c4951\">Loading BokehJS ...</span>\n",
       "    </div>"
      ]
     },
     "metadata": {},
     "output_type": "display_data"
    },
    {
     "data": {
      "application/javascript": [
       "\n",
       "(function(root) {\n",
       "  function now() {\n",
       "    return new Date();\n",
       "  }\n",
       "\n",
       "  var force = true;\n",
       "\n",
       "  if (typeof (root._bokeh_onload_callbacks) === \"undefined\" || force === true) {\n",
       "    root._bokeh_onload_callbacks = [];\n",
       "    root._bokeh_is_loading = undefined;\n",
       "  }\n",
       "\n",
       "  var JS_MIME_TYPE = 'application/javascript';\n",
       "  var HTML_MIME_TYPE = 'text/html';\n",
       "  var EXEC_MIME_TYPE = 'application/vnd.bokehjs_exec.v0+json';\n",
       "  var CLASS_NAME = 'output_bokeh rendered_html';\n",
       "\n",
       "  /**\n",
       "   * Render data to the DOM node\n",
       "   */\n",
       "  function render(props, node) {\n",
       "    var script = document.createElement(\"script\");\n",
       "    node.appendChild(script);\n",
       "  }\n",
       "\n",
       "  /**\n",
       "   * Handle when an output is cleared or removed\n",
       "   */\n",
       "  function handleClearOutput(event, handle) {\n",
       "    var cell = handle.cell;\n",
       "\n",
       "    var id = cell.output_area._bokeh_element_id;\n",
       "    var server_id = cell.output_area._bokeh_server_id;\n",
       "    // Clean up Bokeh references\n",
       "    if (id !== undefined) {\n",
       "      Bokeh.index[id].model.document.clear();\n",
       "      delete Bokeh.index[id];\n",
       "    }\n",
       "\n",
       "    if (server_id !== undefined) {\n",
       "      // Clean up Bokeh references\n",
       "      var cmd = \"from bokeh.io.state import curstate; print(curstate().uuid_to_server['\" + server_id + \"'].get_sessions()[0].document.roots[0]._id)\";\n",
       "      cell.notebook.kernel.execute(cmd, {\n",
       "        iopub: {\n",
       "          output: function(msg) {\n",
       "            var element_id = msg.content.text.trim();\n",
       "            Bokeh.index[element_id].model.document.clear();\n",
       "            delete Bokeh.index[element_id];\n",
       "          }\n",
       "        }\n",
       "      });\n",
       "      // Destroy server and session\n",
       "      var cmd = \"import bokeh.io.notebook as ion; ion.destroy_server('\" + server_id + \"')\";\n",
       "      cell.notebook.kernel.execute(cmd);\n",
       "    }\n",
       "  }\n",
       "\n",
       "  /**\n",
       "   * Handle when a new output is added\n",
       "   */\n",
       "  function handleAddOutput(event, handle) {\n",
       "    var output_area = handle.output_area;\n",
       "    var output = handle.output;\n",
       "\n",
       "    // limit handleAddOutput to display_data with EXEC_MIME_TYPE content only\n",
       "    if ((output.output_type != \"display_data\") || (!output.data.hasOwnProperty(EXEC_MIME_TYPE))) {\n",
       "      return\n",
       "    }\n",
       "\n",
       "    var toinsert = output_area.element.find(\".\" + CLASS_NAME.split(' ')[0]);\n",
       "\n",
       "    if (output.metadata[EXEC_MIME_TYPE][\"id\"] !== undefined) {\n",
       "      toinsert[0].firstChild.textContent = output.data[JS_MIME_TYPE];\n",
       "      // store reference to embed id on output_area\n",
       "      output_area._bokeh_element_id = output.metadata[EXEC_MIME_TYPE][\"id\"];\n",
       "    }\n",
       "    if (output.metadata[EXEC_MIME_TYPE][\"server_id\"] !== undefined) {\n",
       "      var bk_div = document.createElement(\"div\");\n",
       "      bk_div.innerHTML = output.data[HTML_MIME_TYPE];\n",
       "      var script_attrs = bk_div.children[0].attributes;\n",
       "      for (var i = 0; i < script_attrs.length; i++) {\n",
       "        toinsert[0].firstChild.setAttribute(script_attrs[i].name, script_attrs[i].value);\n",
       "      }\n",
       "      // store reference to server id on output_area\n",
       "      output_area._bokeh_server_id = output.metadata[EXEC_MIME_TYPE][\"server_id\"];\n",
       "    }\n",
       "  }\n",
       "\n",
       "  function register_renderer(events, OutputArea) {\n",
       "\n",
       "    function append_mime(data, metadata, element) {\n",
       "      // create a DOM node to render to\n",
       "      var toinsert = this.create_output_subarea(\n",
       "        metadata,\n",
       "        CLASS_NAME,\n",
       "        EXEC_MIME_TYPE\n",
       "      );\n",
       "      this.keyboard_manager.register_events(toinsert);\n",
       "      // Render to node\n",
       "      var props = {data: data, metadata: metadata[EXEC_MIME_TYPE]};\n",
       "      render(props, toinsert[0]);\n",
       "      element.append(toinsert);\n",
       "      return toinsert\n",
       "    }\n",
       "\n",
       "    /* Handle when an output is cleared or removed */\n",
       "    events.on('clear_output.CodeCell', handleClearOutput);\n",
       "    events.on('delete.Cell', handleClearOutput);\n",
       "\n",
       "    /* Handle when a new output is added */\n",
       "    events.on('output_added.OutputArea', handleAddOutput);\n",
       "\n",
       "    /**\n",
       "     * Register the mime type and append_mime function with output_area\n",
       "     */\n",
       "    OutputArea.prototype.register_mime_type(EXEC_MIME_TYPE, append_mime, {\n",
       "      /* Is output safe? */\n",
       "      safe: true,\n",
       "      /* Index of renderer in `output_area.display_order` */\n",
       "      index: 0\n",
       "    });\n",
       "  }\n",
       "\n",
       "  // register the mime type if in Jupyter Notebook environment and previously unregistered\n",
       "  if (root.Jupyter !== undefined) {\n",
       "    var events = require('base/js/events');\n",
       "    var OutputArea = require('notebook/js/outputarea').OutputArea;\n",
       "\n",
       "    if (OutputArea.prototype.mime_types().indexOf(EXEC_MIME_TYPE) == -1) {\n",
       "      register_renderer(events, OutputArea);\n",
       "    }\n",
       "  }\n",
       "\n",
       "  \n",
       "  if (typeof (root._bokeh_timeout) === \"undefined\" || force === true) {\n",
       "    root._bokeh_timeout = Date.now() + 5000;\n",
       "    root._bokeh_failed_load = false;\n",
       "  }\n",
       "\n",
       "  var NB_LOAD_WARNING = {'data': {'text/html':\n",
       "     \"<div style='background-color: #fdd'>\\n\"+\n",
       "     \"<p>\\n\"+\n",
       "     \"BokehJS does not appear to have successfully loaded. If loading BokehJS from CDN, this \\n\"+\n",
       "     \"may be due to a slow or bad network connection. Possible fixes:\\n\"+\n",
       "     \"</p>\\n\"+\n",
       "     \"<ul>\\n\"+\n",
       "     \"<li>re-rerun `output_notebook()` to attempt to load from CDN again, or</li>\\n\"+\n",
       "     \"<li>use INLINE resources instead, as so:</li>\\n\"+\n",
       "     \"</ul>\\n\"+\n",
       "     \"<code>\\n\"+\n",
       "     \"from bokeh.resources import INLINE\\n\"+\n",
       "     \"output_notebook(resources=INLINE)\\n\"+\n",
       "     \"</code>\\n\"+\n",
       "     \"</div>\"}};\n",
       "\n",
       "  function display_loaded() {\n",
       "    var el = document.getElementById(\"68c19135-4158-45c3-b14b-dbc4da0c4951\");\n",
       "    if (el != null) {\n",
       "      el.textContent = \"BokehJS is loading...\";\n",
       "    }\n",
       "    if (root.Bokeh !== undefined) {\n",
       "      if (el != null) {\n",
       "        el.textContent = \"BokehJS \" + root.Bokeh.version + \" successfully loaded.\";\n",
       "      }\n",
       "    } else if (Date.now() < root._bokeh_timeout) {\n",
       "      setTimeout(display_loaded, 100)\n",
       "    }\n",
       "  }\n",
       "\n",
       "\n",
       "  function run_callbacks() {\n",
       "    try {\n",
       "      root._bokeh_onload_callbacks.forEach(function(callback) { callback() });\n",
       "    }\n",
       "    finally {\n",
       "      delete root._bokeh_onload_callbacks\n",
       "    }\n",
       "    console.info(\"Bokeh: all callbacks have finished\");\n",
       "  }\n",
       "\n",
       "  function load_libs(js_urls, callback) {\n",
       "    root._bokeh_onload_callbacks.push(callback);\n",
       "    if (root._bokeh_is_loading > 0) {\n",
       "      console.log(\"Bokeh: BokehJS is being loaded, scheduling callback at\", now());\n",
       "      return null;\n",
       "    }\n",
       "    if (js_urls == null || js_urls.length === 0) {\n",
       "      run_callbacks();\n",
       "      return null;\n",
       "    }\n",
       "    console.log(\"Bokeh: BokehJS not loaded, scheduling load and callback at\", now());\n",
       "    root._bokeh_is_loading = js_urls.length;\n",
       "    for (var i = 0; i < js_urls.length; i++) {\n",
       "      var url = js_urls[i];\n",
       "      var s = document.createElement('script');\n",
       "      s.src = url;\n",
       "      s.async = false;\n",
       "      s.onreadystatechange = s.onload = function() {\n",
       "        root._bokeh_is_loading--;\n",
       "        if (root._bokeh_is_loading === 0) {\n",
       "          console.log(\"Bokeh: all BokehJS libraries loaded\");\n",
       "          run_callbacks()\n",
       "        }\n",
       "      };\n",
       "      s.onerror = function() {\n",
       "        console.warn(\"failed to load library \" + url);\n",
       "      };\n",
       "      console.log(\"Bokeh: injecting script tag for BokehJS library: \", url);\n",
       "      document.getElementsByTagName(\"head\")[0].appendChild(s);\n",
       "    }\n",
       "  };var element = document.getElementById(\"68c19135-4158-45c3-b14b-dbc4da0c4951\");\n",
       "  if (element == null) {\n",
       "    console.log(\"Bokeh: ERROR: autoload.js configured with elementid '68c19135-4158-45c3-b14b-dbc4da0c4951' but no matching script tag was found. \")\n",
       "    return false;\n",
       "  }\n",
       "\n",
       "  var js_urls = [\"https://cdn.pydata.org/bokeh/release/bokeh-0.12.14.min.js\", \"https://cdn.pydata.org/bokeh/release/bokeh-widgets-0.12.14.min.js\", \"https://cdn.pydata.org/bokeh/release/bokeh-tables-0.12.14.min.js\", \"https://cdn.pydata.org/bokeh/release/bokeh-gl-0.12.14.min.js\"];\n",
       "\n",
       "  var inline_js = [\n",
       "    function(Bokeh) {\n",
       "      Bokeh.set_log_level(\"info\");\n",
       "    },\n",
       "    \n",
       "    function(Bokeh) {\n",
       "      \n",
       "    },\n",
       "    function(Bokeh) {\n",
       "      console.log(\"Bokeh: injecting CSS: https://cdn.pydata.org/bokeh/release/bokeh-0.12.14.min.css\");\n",
       "      Bokeh.embed.inject_css(\"https://cdn.pydata.org/bokeh/release/bokeh-0.12.14.min.css\");\n",
       "      console.log(\"Bokeh: injecting CSS: https://cdn.pydata.org/bokeh/release/bokeh-widgets-0.12.14.min.css\");\n",
       "      Bokeh.embed.inject_css(\"https://cdn.pydata.org/bokeh/release/bokeh-widgets-0.12.14.min.css\");\n",
       "      console.log(\"Bokeh: injecting CSS: https://cdn.pydata.org/bokeh/release/bokeh-tables-0.12.14.min.css\");\n",
       "      Bokeh.embed.inject_css(\"https://cdn.pydata.org/bokeh/release/bokeh-tables-0.12.14.min.css\");\n",
       "    }\n",
       "  ];\n",
       "\n",
       "  function run_inline_js() {\n",
       "    \n",
       "    if ((root.Bokeh !== undefined) || (force === true)) {\n",
       "      for (var i = 0; i < inline_js.length; i++) {\n",
       "        inline_js[i].call(root, root.Bokeh);\n",
       "      }if (force === true) {\n",
       "        display_loaded();\n",
       "      }} else if (Date.now() < root._bokeh_timeout) {\n",
       "      setTimeout(run_inline_js, 100);\n",
       "    } else if (!root._bokeh_failed_load) {\n",
       "      console.log(\"Bokeh: BokehJS failed to load within specified timeout.\");\n",
       "      root._bokeh_failed_load = true;\n",
       "    } else if (force !== true) {\n",
       "      var cell = $(document.getElementById(\"68c19135-4158-45c3-b14b-dbc4da0c4951\")).parents('.cell').data().cell;\n",
       "      cell.output_area.append_execute_result(NB_LOAD_WARNING)\n",
       "    }\n",
       "\n",
       "  }\n",
       "\n",
       "  if (root._bokeh_is_loading === 0) {\n",
       "    console.log(\"Bokeh: BokehJS loaded, going straight to plotting\");\n",
       "    run_inline_js();\n",
       "  } else {\n",
       "    load_libs(js_urls, function() {\n",
       "      console.log(\"Bokeh: BokehJS plotting callback run at\", now());\n",
       "      run_inline_js();\n",
       "    });\n",
       "  }\n",
       "}(window));"
      ],
      "application/vnd.bokehjs_load.v0+json": "\n(function(root) {\n  function now() {\n    return new Date();\n  }\n\n  var force = true;\n\n  if (typeof (root._bokeh_onload_callbacks) === \"undefined\" || force === true) {\n    root._bokeh_onload_callbacks = [];\n    root._bokeh_is_loading = undefined;\n  }\n\n  \n\n  \n  if (typeof (root._bokeh_timeout) === \"undefined\" || force === true) {\n    root._bokeh_timeout = Date.now() + 5000;\n    root._bokeh_failed_load = false;\n  }\n\n  var NB_LOAD_WARNING = {'data': {'text/html':\n     \"<div style='background-color: #fdd'>\\n\"+\n     \"<p>\\n\"+\n     \"BokehJS does not appear to have successfully loaded. If loading BokehJS from CDN, this \\n\"+\n     \"may be due to a slow or bad network connection. Possible fixes:\\n\"+\n     \"</p>\\n\"+\n     \"<ul>\\n\"+\n     \"<li>re-rerun `output_notebook()` to attempt to load from CDN again, or</li>\\n\"+\n     \"<li>use INLINE resources instead, as so:</li>\\n\"+\n     \"</ul>\\n\"+\n     \"<code>\\n\"+\n     \"from bokeh.resources import INLINE\\n\"+\n     \"output_notebook(resources=INLINE)\\n\"+\n     \"</code>\\n\"+\n     \"</div>\"}};\n\n  function display_loaded() {\n    var el = document.getElementById(\"68c19135-4158-45c3-b14b-dbc4da0c4951\");\n    if (el != null) {\n      el.textContent = \"BokehJS is loading...\";\n    }\n    if (root.Bokeh !== undefined) {\n      if (el != null) {\n        el.textContent = \"BokehJS \" + root.Bokeh.version + \" successfully loaded.\";\n      }\n    } else if (Date.now() < root._bokeh_timeout) {\n      setTimeout(display_loaded, 100)\n    }\n  }\n\n\n  function run_callbacks() {\n    try {\n      root._bokeh_onload_callbacks.forEach(function(callback) { callback() });\n    }\n    finally {\n      delete root._bokeh_onload_callbacks\n    }\n    console.info(\"Bokeh: all callbacks have finished\");\n  }\n\n  function load_libs(js_urls, callback) {\n    root._bokeh_onload_callbacks.push(callback);\n    if (root._bokeh_is_loading > 0) {\n      console.log(\"Bokeh: BokehJS is being loaded, scheduling callback at\", now());\n      return null;\n    }\n    if (js_urls == null || js_urls.length === 0) {\n      run_callbacks();\n      return null;\n    }\n    console.log(\"Bokeh: BokehJS not loaded, scheduling load and callback at\", now());\n    root._bokeh_is_loading = js_urls.length;\n    for (var i = 0; i < js_urls.length; i++) {\n      var url = js_urls[i];\n      var s = document.createElement('script');\n      s.src = url;\n      s.async = false;\n      s.onreadystatechange = s.onload = function() {\n        root._bokeh_is_loading--;\n        if (root._bokeh_is_loading === 0) {\n          console.log(\"Bokeh: all BokehJS libraries loaded\");\n          run_callbacks()\n        }\n      };\n      s.onerror = function() {\n        console.warn(\"failed to load library \" + url);\n      };\n      console.log(\"Bokeh: injecting script tag for BokehJS library: \", url);\n      document.getElementsByTagName(\"head\")[0].appendChild(s);\n    }\n  };var element = document.getElementById(\"68c19135-4158-45c3-b14b-dbc4da0c4951\");\n  if (element == null) {\n    console.log(\"Bokeh: ERROR: autoload.js configured with elementid '68c19135-4158-45c3-b14b-dbc4da0c4951' but no matching script tag was found. \")\n    return false;\n  }\n\n  var js_urls = [\"https://cdn.pydata.org/bokeh/release/bokeh-0.12.14.min.js\", \"https://cdn.pydata.org/bokeh/release/bokeh-widgets-0.12.14.min.js\", \"https://cdn.pydata.org/bokeh/release/bokeh-tables-0.12.14.min.js\", \"https://cdn.pydata.org/bokeh/release/bokeh-gl-0.12.14.min.js\"];\n\n  var inline_js = [\n    function(Bokeh) {\n      Bokeh.set_log_level(\"info\");\n    },\n    \n    function(Bokeh) {\n      \n    },\n    function(Bokeh) {\n      console.log(\"Bokeh: injecting CSS: https://cdn.pydata.org/bokeh/release/bokeh-0.12.14.min.css\");\n      Bokeh.embed.inject_css(\"https://cdn.pydata.org/bokeh/release/bokeh-0.12.14.min.css\");\n      console.log(\"Bokeh: injecting CSS: https://cdn.pydata.org/bokeh/release/bokeh-widgets-0.12.14.min.css\");\n      Bokeh.embed.inject_css(\"https://cdn.pydata.org/bokeh/release/bokeh-widgets-0.12.14.min.css\");\n      console.log(\"Bokeh: injecting CSS: https://cdn.pydata.org/bokeh/release/bokeh-tables-0.12.14.min.css\");\n      Bokeh.embed.inject_css(\"https://cdn.pydata.org/bokeh/release/bokeh-tables-0.12.14.min.css\");\n    }\n  ];\n\n  function run_inline_js() {\n    \n    if ((root.Bokeh !== undefined) || (force === true)) {\n      for (var i = 0; i < inline_js.length; i++) {\n        inline_js[i].call(root, root.Bokeh);\n      }if (force === true) {\n        display_loaded();\n      }} else if (Date.now() < root._bokeh_timeout) {\n      setTimeout(run_inline_js, 100);\n    } else if (!root._bokeh_failed_load) {\n      console.log(\"Bokeh: BokehJS failed to load within specified timeout.\");\n      root._bokeh_failed_load = true;\n    } else if (force !== true) {\n      var cell = $(document.getElementById(\"68c19135-4158-45c3-b14b-dbc4da0c4951\")).parents('.cell').data().cell;\n      cell.output_area.append_execute_result(NB_LOAD_WARNING)\n    }\n\n  }\n\n  if (root._bokeh_is_loading === 0) {\n    console.log(\"Bokeh: BokehJS loaded, going straight to plotting\");\n    run_inline_js();\n  } else {\n    load_libs(js_urls, function() {\n      console.log(\"Bokeh: BokehJS plotting callback run at\", now());\n      run_inline_js();\n    });\n  }\n}(window));"
     },
     "metadata": {},
     "output_type": "display_data"
    },
    {
     "data": {
      "text/html": [
       "\n",
       "<div class=\"bk-root\">\n",
       "    <div class=\"bk-plotdiv\" id=\"986a605a-843e-49a7-9cec-9bcc140b7bbe\"></div>\n",
       "</div>"
      ]
     },
     "metadata": {},
     "output_type": "display_data"
    },
    {
     "data": {
      "application/javascript": [
       "(function(root) {\n",
       "  function embed_document(root) {\n",
       "    \n",
       "  var docs_json = {\"431a4043-b19b-4d25-849b-db7a4d92d2b5\":{\"roots\":{\"references\":[{\"attributes\":{},\"id\":\"12acdc11-38c3-41c3-b6ab-1c87e5e682ce\",\"type\":\"SaveTool\"},{\"attributes\":{},\"id\":\"ee32091c-d93a-4faf-9793-69b2d8638d42\",\"type\":\"ResetTool\"},{\"attributes\":{},\"id\":\"99748b4d-b8d9-49f7-b320-12c78d8d2d1d\",\"type\":\"LinearScale\"},{\"attributes\":{},\"id\":\"1d7162d3-869e-495d-8fdd-571e554cec0f\",\"type\":\"HelpTool\"},{\"attributes\":{\"fill_alpha\":{\"value\":0.1},\"fill_color\":{\"value\":\"#1f77b4\"},\"line_alpha\":{\"value\":0.1},\"line_color\":{\"value\":\"#1f77b4\"},\"size\":{\"units\":\"screen\",\"value\":8},\"x\":{\"field\":\"x\"},\"y\":{\"field\":\"y\"}},\"id\":\"f145875e-b445-48c3-9775-8109a51278cd\",\"type\":\"Circle\"},{\"attributes\":{\"callback\":null},\"id\":\"aa1f473d-3619-4c81-9361-f8ef2179e103\",\"type\":\"DataRange1d\"},{\"attributes\":{\"axis_label\":\"Y\",\"formatter\":{\"id\":\"7d920aa9-b1ff-4425-9491-3d9407f9242b\",\"type\":\"BasicTickFormatter\"},\"plot\":{\"id\":\"637ea5c3-2f3f-4e77-be11-013a3e3429ea\",\"subtype\":\"Figure\",\"type\":\"Plot\"},\"ticker\":{\"id\":\"7c50aa1d-cd54-44af-8385-e33d9f2d9b7d\",\"type\":\"BasicTicker\"}},\"id\":\"c446cbef-646f-4a50-9d1f-da5db19478cb\",\"type\":\"LinearAxis\"},{\"attributes\":{\"active_drag\":\"auto\",\"active_inspect\":\"auto\",\"active_scroll\":\"auto\",\"active_tap\":\"auto\",\"tools\":[{\"id\":\"ed118cc9-f7d6-4f42-a7a5-4df5692d26b5\",\"type\":\"PanTool\"},{\"id\":\"6aed5dcf-26c1-420b-b892-1cd4cebff7fa\",\"type\":\"WheelZoomTool\"},{\"id\":\"7e7540e8-e0e5-4dfa-ac54-e1585bb4ba83\",\"type\":\"BoxZoomTool\"},{\"id\":\"12acdc11-38c3-41c3-b6ab-1c87e5e682ce\",\"type\":\"SaveTool\"},{\"id\":\"ee32091c-d93a-4faf-9793-69b2d8638d42\",\"type\":\"ResetTool\"},{\"id\":\"1d7162d3-869e-495d-8fdd-571e554cec0f\",\"type\":\"HelpTool\"}]},\"id\":\"0750d73c-09ab-46f9-ad06-b45f1f4abcd4\",\"type\":\"Toolbar\"},{\"attributes\":{},\"id\":\"f7ee2b45-c044-44df-8fc0-14dae6fd02d5\",\"type\":\"LinearScale\"},{\"attributes\":{\"plot\":{\"id\":\"637ea5c3-2f3f-4e77-be11-013a3e3429ea\",\"subtype\":\"Figure\",\"type\":\"Plot\"},\"ticker\":{\"id\":\"8aabbac1-b7af-4e12-8ef0-6cd7e97126ea\",\"type\":\"BasicTicker\"}},\"id\":\"c9e6964f-bc57-42e3-b50e-6be7ee589307\",\"type\":\"Grid\"},{\"attributes\":{\"axis_label\":\"X\",\"formatter\":{\"id\":\"c21df124-9b32-4302-9f41-6353fa1cea5c\",\"type\":\"BasicTickFormatter\"},\"plot\":{\"id\":\"637ea5c3-2f3f-4e77-be11-013a3e3429ea\",\"subtype\":\"Figure\",\"type\":\"Plot\"},\"ticker\":{\"id\":\"8aabbac1-b7af-4e12-8ef0-6cd7e97126ea\",\"type\":\"BasicTicker\"}},\"id\":\"2a1c82bc-d0b4-47ab-92c8-f844f9d2f482\",\"type\":\"LinearAxis\"},{\"attributes\":{},\"id\":\"8aabbac1-b7af-4e12-8ef0-6cd7e97126ea\",\"type\":\"BasicTicker\"},{\"attributes\":{},\"id\":\"7c50aa1d-cd54-44af-8385-e33d9f2d9b7d\",\"type\":\"BasicTicker\"},{\"attributes\":{\"callback\":null,\"column_names\":[\"x\",\"y\"],\"data\":{\"x\":[1,2,3,4,5],\"y\":[1,3,2,4,1.5]}},\"id\":\"7efd3ff2-b1e1-4e2f-9d73-6f849804dfac\",\"type\":\"ColumnDataSource\"},{\"attributes\":{\"dimension\":1,\"plot\":{\"id\":\"637ea5c3-2f3f-4e77-be11-013a3e3429ea\",\"subtype\":\"Figure\",\"type\":\"Plot\"},\"ticker\":{\"id\":\"7c50aa1d-cd54-44af-8385-e33d9f2d9b7d\",\"type\":\"BasicTicker\"}},\"id\":\"8cfb5081-897d-41cf-9c45-b270b95c7b93\",\"type\":\"Grid\"},{\"attributes\":{\"fill_color\":{\"value\":\"#1f77b4\"},\"line_color\":{\"value\":\"#1f77b4\"},\"size\":{\"units\":\"screen\",\"value\":8},\"x\":{\"field\":\"x\"},\"y\":{\"field\":\"y\"}},\"id\":\"05a1f765-b46e-4373-8df9-bafee3e26fd9\",\"type\":\"Circle\"},{\"attributes\":{\"bottom_units\":\"screen\",\"fill_alpha\":{\"value\":0.5},\"fill_color\":{\"value\":\"lightgrey\"},\"left_units\":\"screen\",\"level\":\"overlay\",\"line_alpha\":{\"value\":1.0},\"line_color\":{\"value\":\"black\"},\"line_dash\":[4,4],\"line_width\":{\"value\":2},\"plot\":null,\"render_mode\":\"css\",\"right_units\":\"screen\",\"top_units\":\"screen\"},\"id\":\"f19b2108-f4d2-4522-b47e-a303a4891bdb\",\"type\":\"BoxAnnotation\"},{\"attributes\":{\"source\":{\"id\":\"7efd3ff2-b1e1-4e2f-9d73-6f849804dfac\",\"type\":\"ColumnDataSource\"}},\"id\":\"a0d9558b-e7ba-4bfc-9162-9620c513d35b\",\"type\":\"CDSView\"},{\"attributes\":{\"below\":[{\"id\":\"2a1c82bc-d0b4-47ab-92c8-f844f9d2f482\",\"type\":\"LinearAxis\"}],\"left\":[{\"id\":\"c446cbef-646f-4a50-9d1f-da5db19478cb\",\"type\":\"LinearAxis\"}],\"plot_height\":400,\"plot_width\":500,\"renderers\":[{\"id\":\"2a1c82bc-d0b4-47ab-92c8-f844f9d2f482\",\"type\":\"LinearAxis\"},{\"id\":\"c9e6964f-bc57-42e3-b50e-6be7ee589307\",\"type\":\"Grid\"},{\"id\":\"c446cbef-646f-4a50-9d1f-da5db19478cb\",\"type\":\"LinearAxis\"},{\"id\":\"8cfb5081-897d-41cf-9c45-b270b95c7b93\",\"type\":\"Grid\"},{\"id\":\"f19b2108-f4d2-4522-b47e-a303a4891bdb\",\"type\":\"BoxAnnotation\"},{\"id\":\"adb23204-c3f6-40b8-8b30-677c07b4b19b\",\"type\":\"GlyphRenderer\"}],\"title\":{\"id\":\"75bdb8c3-e147-4361-991a-167ebcf559aa\",\"type\":\"Title\"},\"toolbar\":{\"id\":\"0750d73c-09ab-46f9-ad06-b45f1f4abcd4\",\"type\":\"Toolbar\"},\"x_range\":{\"id\":\"aa1f473d-3619-4c81-9361-f8ef2179e103\",\"type\":\"DataRange1d\"},\"x_scale\":{\"id\":\"f7ee2b45-c044-44df-8fc0-14dae6fd02d5\",\"type\":\"LinearScale\"},\"y_range\":{\"id\":\"f8020a48-9c87-42ec-a079-3f0d212c91fe\",\"type\":\"DataRange1d\"},\"y_scale\":{\"id\":\"99748b4d-b8d9-49f7-b320-12c78d8d2d1d\",\"type\":\"LinearScale\"}},\"id\":\"637ea5c3-2f3f-4e77-be11-013a3e3429ea\",\"subtype\":\"Figure\",\"type\":\"Plot\"},{\"attributes\":{},\"id\":\"7d920aa9-b1ff-4425-9491-3d9407f9242b\",\"type\":\"BasicTickFormatter\"},{\"attributes\":{},\"id\":\"c21df124-9b32-4302-9f41-6353fa1cea5c\",\"type\":\"BasicTickFormatter\"},{\"attributes\":{\"plot\":null,\"text\":\"Simple Scatter Plot (Try to interact with the plot)\"},\"id\":\"75bdb8c3-e147-4361-991a-167ebcf559aa\",\"type\":\"Title\"},{\"attributes\":{\"callback\":null},\"id\":\"f8020a48-9c87-42ec-a079-3f0d212c91fe\",\"type\":\"DataRange1d\"},{\"attributes\":{},\"id\":\"ed118cc9-f7d6-4f42-a7a5-4df5692d26b5\",\"type\":\"PanTool\"},{\"attributes\":{},\"id\":\"6aed5dcf-26c1-420b-b892-1cd4cebff7fa\",\"type\":\"WheelZoomTool\"},{\"attributes\":{\"data_source\":{\"id\":\"7efd3ff2-b1e1-4e2f-9d73-6f849804dfac\",\"type\":\"ColumnDataSource\"},\"glyph\":{\"id\":\"05a1f765-b46e-4373-8df9-bafee3e26fd9\",\"type\":\"Circle\"},\"hover_glyph\":null,\"muted_glyph\":null,\"nonselection_glyph\":{\"id\":\"f145875e-b445-48c3-9775-8109a51278cd\",\"type\":\"Circle\"},\"selection_glyph\":null,\"view\":{\"id\":\"a0d9558b-e7ba-4bfc-9162-9620c513d35b\",\"type\":\"CDSView\"}},\"id\":\"adb23204-c3f6-40b8-8b30-677c07b4b19b\",\"type\":\"GlyphRenderer\"},{\"attributes\":{\"overlay\":{\"id\":\"f19b2108-f4d2-4522-b47e-a303a4891bdb\",\"type\":\"BoxAnnotation\"}},\"id\":\"7e7540e8-e0e5-4dfa-ac54-e1585bb4ba83\",\"type\":\"BoxZoomTool\"}],\"root_ids\":[\"637ea5c3-2f3f-4e77-be11-013a3e3429ea\"]},\"title\":\"Bokeh Application\",\"version\":\"0.12.14\"}};\n",
       "  var render_items = [{\"docid\":\"431a4043-b19b-4d25-849b-db7a4d92d2b5\",\"elementid\":\"986a605a-843e-49a7-9cec-9bcc140b7bbe\",\"modelid\":\"637ea5c3-2f3f-4e77-be11-013a3e3429ea\"}];\n",
       "  root.Bokeh.embed.embed_items_notebook(docs_json, render_items);\n",
       "\n",
       "  }\n",
       "  if (root.Bokeh !== undefined) {\n",
       "    embed_document(root);\n",
       "  } else {\n",
       "    var attempts = 0;\n",
       "    var timer = setInterval(function(root) {\n",
       "      if (root.Bokeh !== undefined) {\n",
       "        embed_document(root);\n",
       "        clearInterval(timer);\n",
       "      }\n",
       "      attempts++;\n",
       "      if (attempts > 100) {\n",
       "        console.log(\"Bokeh: ERROR: Unable to run BokehJS code because BokehJS library is missing\")\n",
       "        clearInterval(timer);\n",
       "      }\n",
       "    }, 10, root)\n",
       "  }\n",
       "})(window);"
      ],
      "application/vnd.bokehjs_exec.v0+json": ""
     },
     "metadata": {
      "application/vnd.bokehjs_exec.v0+json": {
       "id": "637ea5c3-2f3f-4e77-be11-013a3e3429ea"
      }
     },
     "output_type": "display_data"
    }
   ],
   "source": [
    "from bokeh.plotting import figure, output_notebook, show\n",
    "\n",
    "# generate points for plotting\n",
    "x = [1,2,3,4,5]\n",
    "y = [1,3,2,4,1.5]\n",
    "\n",
    "# create a Figure object\n",
    "p = figure(plot_width=500, plot_height=400, title='Simple Scatter Plot (Try to interact with the plot)',\n",
    "           x_axis_label='X', y_axis_label='Y')\n",
    "\n",
    "# add elements, glyphs, to the figure, p\n",
    "p.scatter(x, y, size=8)\n",
    "\n",
    "# specify how to output the plot\n",
    "output_notebook()\n",
    "\n",
    "# show the figure\n",
    "show(p)"
   ]
  },
  {
   "cell_type": "markdown",
   "metadata": {},
   "source": [
    "As commented in the code above, there are four main procedures when plotting using Bokeh:\n",
    "1. **Create Figure object**: [Figure](https://bokeh.pydata.org/en/latest/docs/reference/plotting.html#bokeh.plotting.figure.Figure) object is generated by `figure()`. It can be understood as the canvas of the plotting. Plots are drown on this object. In `figure()`, you can specify the title, plot size, x axis label, etc.\n",
    "2. **Add elements**: Once you have the Figure object, you can add elements, which are called [Glyphs](https://bokeh.pydata.org/en/latest/docs/user_guide/plotting.html) in Bokeh. Each Glyph element acts like a layer. You can add multiple layers in the figure.  \n",
    "3. **Specify how to output**: There are two ways to output the graph, output directly in the jupyter notebook via `output_notebook()` or output in a separate html document via `output_file()`. Note that output method is a global setting in Bokeh. You set it once and don't need to worry about it until you restart the kernel. In this tutorial, we will use `output_notebook()`, since we only want to show our graphs in this notebook.  \n",
    "4. **Show the graph**: `show()` is the last step in plotting. It shows the graphs to the output file.  \n",
    "\n",
    "As you may notice, Bokeh comes with some interaction for this simple plot. There is a tool box at the right of the graph. Using these tools, we can move the graph around, select a part of the plot and zoom in and out. Interactions in Bokeh can be much more interesting than those. We'll explore them in latter sections."
   ]
  },
  {
   "cell_type": "markdown",
   "metadata": {},
   "source": [
    "### Dataset Description\n",
    "Let's see how Bokeh can do exploratory data analytics with more complicated dataset. The dataset we are using is collected from a low birth weight study. Let's load the data first."
   ]
  },
  {
   "cell_type": "code",
   "execution_count": 3,
   "metadata": {
    "scrolled": true
   },
   "outputs": [
    {
     "data": {
      "text/html": [
       "<div>\n",
       "<style scoped>\n",
       "    .dataframe tbody tr th:only-of-type {\n",
       "        vertical-align: middle;\n",
       "    }\n",
       "\n",
       "    .dataframe tbody tr th {\n",
       "        vertical-align: top;\n",
       "    }\n",
       "\n",
       "    .dataframe thead th {\n",
       "        text-align: right;\n",
       "    }\n",
       "</style>\n",
       "<table border=\"1\" class=\"dataframe\">\n",
       "  <thead>\n",
       "    <tr style=\"text-align: right;\">\n",
       "      <th></th>\n",
       "      <th>low</th>\n",
       "      <th>age</th>\n",
       "      <th>lwt</th>\n",
       "      <th>race</th>\n",
       "      <th>smoke</th>\n",
       "      <th>ptl</th>\n",
       "      <th>ht</th>\n",
       "      <th>ui</th>\n",
       "      <th>ftv</th>\n",
       "      <th>bwt</th>\n",
       "      <th>mother.other</th>\n",
       "      <th>mother.white</th>\n",
       "      <th>mother.black</th>\n",
       "      <th>mother.smokes</th>\n",
       "    </tr>\n",
       "  </thead>\n",
       "  <tbody>\n",
       "    <tr>\n",
       "      <th>0</th>\n",
       "      <td>0</td>\n",
       "      <td>19</td>\n",
       "      <td>182</td>\n",
       "      <td>black</td>\n",
       "      <td>0</td>\n",
       "      <td>0</td>\n",
       "      <td>0</td>\n",
       "      <td>1</td>\n",
       "      <td>0</td>\n",
       "      <td>2523</td>\n",
       "      <td>0</td>\n",
       "      <td>0</td>\n",
       "      <td>1</td>\n",
       "      <td>no</td>\n",
       "    </tr>\n",
       "    <tr>\n",
       "      <th>1</th>\n",
       "      <td>0</td>\n",
       "      <td>33</td>\n",
       "      <td>155</td>\n",
       "      <td>other</td>\n",
       "      <td>0</td>\n",
       "      <td>0</td>\n",
       "      <td>0</td>\n",
       "      <td>0</td>\n",
       "      <td>3</td>\n",
       "      <td>2551</td>\n",
       "      <td>1</td>\n",
       "      <td>0</td>\n",
       "      <td>0</td>\n",
       "      <td>no</td>\n",
       "    </tr>\n",
       "    <tr>\n",
       "      <th>2</th>\n",
       "      <td>0</td>\n",
       "      <td>20</td>\n",
       "      <td>105</td>\n",
       "      <td>white</td>\n",
       "      <td>1</td>\n",
       "      <td>0</td>\n",
       "      <td>0</td>\n",
       "      <td>0</td>\n",
       "      <td>1</td>\n",
       "      <td>2557</td>\n",
       "      <td>0</td>\n",
       "      <td>1</td>\n",
       "      <td>0</td>\n",
       "      <td>yes</td>\n",
       "    </tr>\n",
       "    <tr>\n",
       "      <th>3</th>\n",
       "      <td>0</td>\n",
       "      <td>21</td>\n",
       "      <td>108</td>\n",
       "      <td>white</td>\n",
       "      <td>1</td>\n",
       "      <td>0</td>\n",
       "      <td>0</td>\n",
       "      <td>1</td>\n",
       "      <td>2</td>\n",
       "      <td>2594</td>\n",
       "      <td>0</td>\n",
       "      <td>1</td>\n",
       "      <td>0</td>\n",
       "      <td>yes</td>\n",
       "    </tr>\n",
       "    <tr>\n",
       "      <th>4</th>\n",
       "      <td>0</td>\n",
       "      <td>18</td>\n",
       "      <td>107</td>\n",
       "      <td>white</td>\n",
       "      <td>1</td>\n",
       "      <td>0</td>\n",
       "      <td>0</td>\n",
       "      <td>1</td>\n",
       "      <td>0</td>\n",
       "      <td>2600</td>\n",
       "      <td>0</td>\n",
       "      <td>1</td>\n",
       "      <td>0</td>\n",
       "      <td>yes</td>\n",
       "    </tr>\n",
       "  </tbody>\n",
       "</table>\n",
       "</div>"
      ],
      "text/plain": [
       "   low  age  lwt   race  smoke  ptl  ht  ui  ftv   bwt  mother.other  \\\n",
       "0    0   19  182  black      0    0   0   1    0  2523             0   \n",
       "1    0   33  155  other      0    0   0   0    3  2551             1   \n",
       "2    0   20  105  white      1    0   0   0    1  2557             0   \n",
       "3    0   21  108  white      1    0   0   1    2  2594             0   \n",
       "4    0   18  107  white      1    0   0   1    0  2600             0   \n",
       "\n",
       "   mother.white  mother.black mother.smokes  \n",
       "0             0             1            no  \n",
       "1             0             0            no  \n",
       "2             1             0           yes  \n",
       "3             1             0           yes  \n",
       "4             1             0           yes  "
      ]
     },
     "execution_count": 3,
     "metadata": {},
     "output_type": "execute_result"
    }
   ],
   "source": [
    "#load data\n",
    "df = pd.read_csv('https://s3.amazonaws.com/aws-website-programminginrforanalytics-tbal0/data/birthwt.csv')\n",
    "df.head()"
   ]
  },
  {
   "cell_type": "markdown",
   "metadata": {},
   "source": [
    "The column metadata are listed as following:\n",
    "\n",
    "| Column Name | Description |\n",
    "| --- | --- |\n",
    "| low |Low Birth Weight Baby (1=Yes under 2500g, 0=No)|\n",
    "| age | Mother's age in years |\n",
    "| lwt  | Weight at Last Period | \n",
    "| race  | Race (1=White, 2=Black, 3=Other)  |\n",
    "| smoke | Smoke during Pregnancy (1=Yes, 0=No)|  \n",
    "| plt   | History of Premature Labour (# of times)|  \n",
    "| ht    | History of Hypertension (1=Yes, 0=No)  |\n",
    "| ui    | Presence of Uterine Irritability (1=Yes, 0=No)  |\n",
    "| ftv   | Visits to Doctor During 1st trimester  |\n",
    "| bwt   | Baby's birth Weight in Grams  |\n"
   ]
  },
  {
   "cell_type": "markdown",
   "metadata": {},
   "source": [
    "Since the data is about babies' birth weights, we would like to see the distribution of our data on birth weight. We prepare data using `numpy.histogram()`."
   ]
  },
  {
   "cell_type": "code",
   "execution_count": 4,
   "metadata": {},
   "outputs": [],
   "source": [
    "# Prepare the data to plot using NumPy\n",
    "birth_weight = df.bwt\n",
    "hist, edges = np.histogram(birth_weight, bins=25)"
   ]
  },
  {
   "cell_type": "code",
   "execution_count": 5,
   "metadata": {},
   "outputs": [
    {
     "data": {
      "text/html": [
       "\n",
       "<div class=\"bk-root\">\n",
       "    <div class=\"bk-plotdiv\" id=\"621dd7a3-fdc4-4fcc-bc4e-19f8754cb9cc\"></div>\n",
       "</div>"
      ]
     },
     "metadata": {},
     "output_type": "display_data"
    },
    {
     "data": {
      "application/javascript": [
       "(function(root) {\n",
       "  function embed_document(root) {\n",
       "    \n",
       "  var docs_json = {\"4f0a513e-5d5b-452b-b832-c3bfb4d699df\":{\"roots\":{\"references\":[{\"attributes\":{\"axis_label\":\"Counts\",\"formatter\":{\"id\":\"fbdb6bb2-7d02-4acd-b833-c471aca9b272\",\"type\":\"BasicTickFormatter\"},\"plot\":{\"id\":\"e744bc2b-fb46-4d46-9f91-42c961ec83e3\",\"subtype\":\"Figure\",\"type\":\"Plot\"},\"ticker\":{\"id\":\"40750faf-5f48-4803-bffd-9228e26ef69a\",\"type\":\"BasicTicker\"}},\"id\":\"c86c93a9-e076-486e-9470-81a1f2329723\",\"type\":\"LinearAxis\"},{\"attributes\":{\"bottom\":{\"value\":0},\"fill_alpha\":{\"value\":0.1},\"fill_color\":{\"value\":\"#1f77b4\"},\"left\":{\"field\":\"left\"},\"line_alpha\":{\"value\":0.1},\"line_color\":{\"value\":\"#1f77b4\"},\"right\":{\"field\":\"right\"},\"top\":{\"field\":\"top\"}},\"id\":\"cbbe1d9b-35b9-4550-9d39-5d2f92034b83\",\"type\":\"Quad\"},{\"attributes\":{},\"id\":\"3275acef-be81-4ed3-bbf8-43ce020579c1\",\"type\":\"ResetTool\"},{\"attributes\":{},\"id\":\"44da68ae-2e1f-48a4-bac9-833d5e2a5cff\",\"type\":\"HelpTool\"},{\"attributes\":{\"bottom\":{\"value\":0},\"fill_color\":{\"value\":\"#036564\"},\"left\":{\"field\":\"left\"},\"line_color\":{\"value\":\"#033649\"},\"right\":{\"field\":\"right\"},\"top\":{\"field\":\"top\"}},\"id\":\"e23f5aec-317d-4799-8f63-9b2fdaddf60f\",\"type\":\"Quad\"},{\"attributes\":{\"overlay\":{\"id\":\"f87ec1bb-b23d-4a5e-978b-fc1b3d0840d2\",\"type\":\"BoxAnnotation\"}},\"id\":\"ea88425a-f6aa-4cf4-b0ae-db72a2bb860c\",\"type\":\"BoxZoomTool\"},{\"attributes\":{\"active_drag\":\"auto\",\"active_inspect\":\"auto\",\"active_scroll\":\"auto\",\"active_tap\":\"auto\",\"tools\":[{\"id\":\"c1743925-40e7-454d-b02e-6636583f5548\",\"type\":\"PanTool\"},{\"id\":\"f7f83679-cbda-4285-b958-c987230a5e1b\",\"type\":\"WheelZoomTool\"},{\"id\":\"ea88425a-f6aa-4cf4-b0ae-db72a2bb860c\",\"type\":\"BoxZoomTool\"},{\"id\":\"eed381d7-74a5-40bf-a0b1-a1750997be6e\",\"type\":\"SaveTool\"},{\"id\":\"3275acef-be81-4ed3-bbf8-43ce020579c1\",\"type\":\"ResetTool\"},{\"id\":\"44da68ae-2e1f-48a4-bac9-833d5e2a5cff\",\"type\":\"HelpTool\"}]},\"id\":\"420698b0-dddb-46d7-a87b-c7c86575130d\",\"type\":\"Toolbar\"},{\"attributes\":{},\"id\":\"e81cf8a9-6fe2-47c4-b4f2-a981bf6795d4\",\"type\":\"BasicTickFormatter\"},{\"attributes\":{\"below\":[{\"id\":\"e3c3969e-d8eb-48a5-9330-01b6d4c9f42a\",\"type\":\"LinearAxis\"}],\"left\":[{\"id\":\"c86c93a9-e076-486e-9470-81a1f2329723\",\"type\":\"LinearAxis\"}],\"plot_height\":400,\"plot_width\":500,\"renderers\":[{\"id\":\"e3c3969e-d8eb-48a5-9330-01b6d4c9f42a\",\"type\":\"LinearAxis\"},{\"id\":\"185fe4bb-c3a4-424a-ad62-d8dd6be25b68\",\"type\":\"Grid\"},{\"id\":\"c86c93a9-e076-486e-9470-81a1f2329723\",\"type\":\"LinearAxis\"},{\"id\":\"8391dcc4-1522-46dd-bd80-36278f2a6af2\",\"type\":\"Grid\"},{\"id\":\"f87ec1bb-b23d-4a5e-978b-fc1b3d0840d2\",\"type\":\"BoxAnnotation\"},{\"id\":\"a511c76d-1380-4a2b-a8cf-0b1e93141cb0\",\"type\":\"GlyphRenderer\"}],\"title\":{\"id\":\"7c2d581e-c098-4dfe-9950-2e79873d0d01\",\"type\":\"Title\"},\"toolbar\":{\"id\":\"420698b0-dddb-46d7-a87b-c7c86575130d\",\"type\":\"Toolbar\"},\"x_range\":{\"id\":\"e0f6c19e-cbbb-412d-b824-81f7aeb8cbd4\",\"type\":\"DataRange1d\"},\"x_scale\":{\"id\":\"a7760802-1e4c-4f34-91c2-cba459f47fa4\",\"type\":\"LinearScale\"},\"y_range\":{\"id\":\"4c47ed76-1056-42b8-8359-8ecd43c1cf9d\",\"type\":\"DataRange1d\"},\"y_scale\":{\"id\":\"a072e81c-920f-4fde-ac4c-b261c9877aef\",\"type\":\"LinearScale\"}},\"id\":\"e744bc2b-fb46-4d46-9f91-42c961ec83e3\",\"subtype\":\"Figure\",\"type\":\"Plot\"},{\"attributes\":{},\"id\":\"c1743925-40e7-454d-b02e-6636583f5548\",\"type\":\"PanTool\"},{\"attributes\":{},\"id\":\"a7760802-1e4c-4f34-91c2-cba459f47fa4\",\"type\":\"LinearScale\"},{\"attributes\":{\"dimension\":1,\"plot\":{\"id\":\"e744bc2b-fb46-4d46-9f91-42c961ec83e3\",\"subtype\":\"Figure\",\"type\":\"Plot\"},\"ticker\":{\"id\":\"40750faf-5f48-4803-bffd-9228e26ef69a\",\"type\":\"BasicTicker\"}},\"id\":\"8391dcc4-1522-46dd-bd80-36278f2a6af2\",\"type\":\"Grid\"},{\"attributes\":{},\"id\":\"a072e81c-920f-4fde-ac4c-b261c9877aef\",\"type\":\"LinearScale\"},{\"attributes\":{\"data_source\":{\"id\":\"028bae2a-8538-40ed-967d-25d56892a5df\",\"type\":\"ColumnDataSource\"},\"glyph\":{\"id\":\"e23f5aec-317d-4799-8f63-9b2fdaddf60f\",\"type\":\"Quad\"},\"hover_glyph\":null,\"muted_glyph\":null,\"nonselection_glyph\":{\"id\":\"cbbe1d9b-35b9-4550-9d39-5d2f92034b83\",\"type\":\"Quad\"},\"selection_glyph\":null,\"view\":{\"id\":\"17f66203-17ba-403b-8a4f-8fee6dfd5ccd\",\"type\":\"CDSView\"}},\"id\":\"a511c76d-1380-4a2b-a8cf-0b1e93141cb0\",\"type\":\"GlyphRenderer\"},{\"attributes\":{\"axis_label\":\"Baby's birth Weight in Grams\",\"formatter\":{\"id\":\"e81cf8a9-6fe2-47c4-b4f2-a981bf6795d4\",\"type\":\"BasicTickFormatter\"},\"plot\":{\"id\":\"e744bc2b-fb46-4d46-9f91-42c961ec83e3\",\"subtype\":\"Figure\",\"type\":\"Plot\"},\"ticker\":{\"id\":\"b24e7b26-818e-4ca6-ba43-3daa1103e4b3\",\"type\":\"BasicTicker\"}},\"id\":\"e3c3969e-d8eb-48a5-9330-01b6d4c9f42a\",\"type\":\"LinearAxis\"},{\"attributes\":{},\"id\":\"40750faf-5f48-4803-bffd-9228e26ef69a\",\"type\":\"BasicTicker\"},{\"attributes\":{},\"id\":\"fbdb6bb2-7d02-4acd-b833-c471aca9b272\",\"type\":\"BasicTickFormatter\"},{\"attributes\":{\"callback\":null},\"id\":\"4c47ed76-1056-42b8-8359-8ecd43c1cf9d\",\"type\":\"DataRange1d\"},{\"attributes\":{\"callback\":null},\"id\":\"e0f6c19e-cbbb-412d-b824-81f7aeb8cbd4\",\"type\":\"DataRange1d\"},{\"attributes\":{\"source\":{\"id\":\"028bae2a-8538-40ed-967d-25d56892a5df\",\"type\":\"ColumnDataSource\"}},\"id\":\"17f66203-17ba-403b-8a4f-8fee6dfd5ccd\",\"type\":\"CDSView\"},{\"attributes\":{\"bottom_units\":\"screen\",\"fill_alpha\":{\"value\":0.5},\"fill_color\":{\"value\":\"lightgrey\"},\"left_units\":\"screen\",\"level\":\"overlay\",\"line_alpha\":{\"value\":1.0},\"line_color\":{\"value\":\"black\"},\"line_dash\":[4,4],\"line_width\":{\"value\":2},\"plot\":null,\"render_mode\":\"css\",\"right_units\":\"screen\",\"top_units\":\"screen\"},\"id\":\"f87ec1bb-b23d-4a5e-978b-fc1b3d0840d2\",\"type\":\"BoxAnnotation\"},{\"attributes\":{},\"id\":\"f7f83679-cbda-4285-b958-c987230a5e1b\",\"type\":\"WheelZoomTool\"},{\"attributes\":{\"plot\":null,\"text\":\"Histogram on Baby's birth Weight\"},\"id\":\"7c2d581e-c098-4dfe-9950-2e79873d0d01\",\"type\":\"Title\"},{\"attributes\":{},\"id\":\"eed381d7-74a5-40bf-a0b1-a1750997be6e\",\"type\":\"SaveTool\"},{\"attributes\":{\"callback\":null,\"column_names\":[\"left\",\"right\",\"top\"],\"data\":{\"left\":{\"__ndarray__\":\"AAAAAAAohkBSuB6F64GLQFK4HoXrbZBAexSuR+Eak0CkcD0K18eVQM3MzMzMdJhA9ihcj8Ihm0AfhetRuM6dQKRwPQrXPaBAuB6F61GUoUDNzMzMzOqiQOJ6FK5HQaRA9ihcj8KXpUAK16NwPe6mQB+F61G4RKhANDMzMzObqUBI4XoUrvGqQFyPwvUoSKxAcT0K16OerUCG61G4HvWuQM3MzMzMJbBA16NwPQrRsEDiehSuR3yxQOxRuB6FJ7JA9ihcj8LSskA=\",\"dtype\":\"float64\",\"shape\":[25]},\"right\":{\"__ndarray__\":\"UrgeheuBi0BSuB6F622QQHsUrkfhGpNApHA9CtfHlUDNzMzMzHSYQPYoXI/CIZtAH4XrUbjOnUCkcD0K1z2gQLgehetRlKFAzczMzMzqokDiehSuR0GkQPYoXI/Cl6VACtejcD3upkAfhetRuESoQDQzMzMzm6lASOF6FK7xqkBcj8L1KEisQHE9Ctejnq1AhutRuB71rkDNzMzMzCWwQNejcD0K0bBA4noUrkd8sUDsUbgehSeyQPYoXI/C0rJAAAAAAAB+s0A=\",\"dtype\":\"float64\",\"shape\":[25]},\"top\":[1,1,1,1,1,4,5,7,12,15,14,11,18,20,15,12,12,15,11,7,4,0,1,0,1]}},\"id\":\"028bae2a-8538-40ed-967d-25d56892a5df\",\"type\":\"ColumnDataSource\"},{\"attributes\":{\"plot\":{\"id\":\"e744bc2b-fb46-4d46-9f91-42c961ec83e3\",\"subtype\":\"Figure\",\"type\":\"Plot\"},\"ticker\":{\"id\":\"b24e7b26-818e-4ca6-ba43-3daa1103e4b3\",\"type\":\"BasicTicker\"}},\"id\":\"185fe4bb-c3a4-424a-ad62-d8dd6be25b68\",\"type\":\"Grid\"},{\"attributes\":{},\"id\":\"b24e7b26-818e-4ca6-ba43-3daa1103e4b3\",\"type\":\"BasicTicker\"}],\"root_ids\":[\"e744bc2b-fb46-4d46-9f91-42c961ec83e3\"]},\"title\":\"Bokeh Application\",\"version\":\"0.12.14\"}};\n",
       "  var render_items = [{\"docid\":\"4f0a513e-5d5b-452b-b832-c3bfb4d699df\",\"elementid\":\"621dd7a3-fdc4-4fcc-bc4e-19f8754cb9cc\",\"modelid\":\"e744bc2b-fb46-4d46-9f91-42c961ec83e3\"}];\n",
       "  root.Bokeh.embed.embed_items_notebook(docs_json, render_items);\n",
       "\n",
       "  }\n",
       "  if (root.Bokeh !== undefined) {\n",
       "    embed_document(root);\n",
       "  } else {\n",
       "    var attempts = 0;\n",
       "    var timer = setInterval(function(root) {\n",
       "      if (root.Bokeh !== undefined) {\n",
       "        embed_document(root);\n",
       "        clearInterval(timer);\n",
       "      }\n",
       "      attempts++;\n",
       "      if (attempts > 100) {\n",
       "        console.log(\"Bokeh: ERROR: Unable to run BokehJS code because BokehJS library is missing\")\n",
       "        clearInterval(timer);\n",
       "      }\n",
       "    }, 10, root)\n",
       "  }\n",
       "})(window);"
      ],
      "application/vnd.bokehjs_exec.v0+json": ""
     },
     "metadata": {
      "application/vnd.bokehjs_exec.v0+json": {
       "id": "e744bc2b-fb46-4d46-9f91-42c961ec83e3"
      }
     },
     "output_type": "display_data"
    }
   ],
   "source": [
    "# create a Figure object\n",
    "p = figure(title=\"Histogram on Baby's birth Weight\", plot_width=500, plot_height=400,\n",
    "          x_axis_label=\"Baby's birth Weight in Grams\",\n",
    "          y_axis_label=\"Counts\")\n",
    "# add elements, quad, to the figure, p\n",
    "p.quad(top=hist, bottom=0, left=edges[:-1], right=edges[1:], fill_color=\"#036564\", line_color=\"#033649\")\n",
    "show(p)"
   ]
  },
  {
   "cell_type": "markdown",
   "metadata": {},
   "source": [
    "### Adding Interactivity"
   ]
  },
  {
   "cell_type": "markdown",
   "metadata": {},
   "source": [
    "#### Using Hover Tool"
   ]
  },
  {
   "cell_type": "markdown",
   "metadata": {},
   "source": [
    "The interaction that comes with Bokeh default is called passive interaction because it only allow user to observe the the same visualization slightly different. What we are going to do now is call active interaction, which allow user to actually explore the data by presenting data differently.  \n",
    "We will start with two important [tools](https://bokeh.pydata.org/en/latest/docs/user_guide/tools.html), box_select tool and hover tool. The box_select tool let you to select certain bars and the hover tool gives you information about the data when you put the mouse on the graph."
   ]
  },
  {
   "cell_type": "code",
   "execution_count": 6,
   "metadata": {},
   "outputs": [
    {
     "data": {
      "text/html": [
       "\n",
       "<div class=\"bk-root\">\n",
       "    <div class=\"bk-plotdiv\" id=\"82c9a792-d05e-403c-b5c4-4ddde7d6b181\"></div>\n",
       "</div>"
      ]
     },
     "metadata": {},
     "output_type": "display_data"
    },
    {
     "data": {
      "application/javascript": [
       "(function(root) {\n",
       "  function embed_document(root) {\n",
       "    \n",
       "  var docs_json = {\"e8b0539c-2113-4c61-8edb-ab096f1fa59b\":{\"roots\":{\"references\":[{\"attributes\":{},\"id\":\"9e4db25b-c68d-4110-a214-b797d749ed24\",\"type\":\"BasicTickFormatter\"},{\"attributes\":{\"active_drag\":\"auto\",\"active_inspect\":\"auto\",\"active_scroll\":\"auto\",\"active_tap\":\"auto\",\"tools\":[{\"id\":\"ee128944-a136-4ff0-8909-dbcf1bd7641b\",\"type\":\"BoxSelectTool\"},{\"id\":\"fc7f5564-9e4d-4f2d-a5a9-2152f11998d6\",\"type\":\"HoverTool\"},{\"id\":\"8c067eb9-28e3-4d76-b70d-a66fbc77a4d0\",\"type\":\"ResetTool\"}]},\"id\":\"6f95b4d1-2130-455c-8581-cf8d13862856\",\"type\":\"Toolbar\"},{\"attributes\":{},\"id\":\"4f9edd5d-0db7-46a8-a9ef-2f5476fc0129\",\"type\":\"LinearScale\"},{\"attributes\":{\"callback\":null},\"id\":\"011eba48-c99f-476a-b37a-e789d1cdc6bf\",\"type\":\"DataRange1d\"},{\"attributes\":{\"source\":{\"id\":\"ed4ba685-1e45-43b1-9fea-d6149fd60f53\",\"type\":\"ColumnDataSource\"}},\"id\":\"88c05439-7617-4a36-8dab-f5cf12ed3839\",\"type\":\"CDSView\"},{\"attributes\":{},\"id\":\"c68d4740-fed4-46d0-b81f-f5bb8c60146c\",\"type\":\"LinearScale\"},{\"attributes\":{\"plot\":{\"id\":\"37636049-8bd0-44c7-9589-34b1be5459d7\",\"subtype\":\"Figure\",\"type\":\"Plot\"},\"ticker\":{\"id\":\"76cbecdb-d28f-40a1-883a-219df362ea7e\",\"type\":\"BasicTicker\"}},\"id\":\"bafba15e-d35f-4e80-ba62-308de4fd058f\",\"type\":\"Grid\"},{\"attributes\":{\"axis_label\":\"Baby's birth Weight in Grams\",\"formatter\":{\"id\":\"1fbb96b0-a087-4e74-8c84-27c49cdc3bf5\",\"type\":\"BasicTickFormatter\"},\"plot\":{\"id\":\"37636049-8bd0-44c7-9589-34b1be5459d7\",\"subtype\":\"Figure\",\"type\":\"Plot\"},\"ticker\":{\"id\":\"76cbecdb-d28f-40a1-883a-219df362ea7e\",\"type\":\"BasicTicker\"}},\"id\":\"958802b2-60c4-4581-98e7-d01aeca3f014\",\"type\":\"LinearAxis\"},{\"attributes\":{},\"id\":\"1fbb96b0-a087-4e74-8c84-27c49cdc3bf5\",\"type\":\"BasicTickFormatter\"},{\"attributes\":{},\"id\":\"76cbecdb-d28f-40a1-883a-219df362ea7e\",\"type\":\"BasicTicker\"},{\"attributes\":{\"axis_label\":\"Counts\",\"formatter\":{\"id\":\"9e4db25b-c68d-4110-a214-b797d749ed24\",\"type\":\"BasicTickFormatter\"},\"plot\":{\"id\":\"37636049-8bd0-44c7-9589-34b1be5459d7\",\"subtype\":\"Figure\",\"type\":\"Plot\"},\"ticker\":{\"id\":\"018aea35-cd49-43a3-9bc9-e0d1ed8aa303\",\"type\":\"BasicTicker\"}},\"id\":\"11b3eaa0-e155-4adb-a162-f76949c8a53e\",\"type\":\"LinearAxis\"},{\"attributes\":{},\"id\":\"018aea35-cd49-43a3-9bc9-e0d1ed8aa303\",\"type\":\"BasicTicker\"},{\"attributes\":{\"dimension\":1,\"plot\":{\"id\":\"37636049-8bd0-44c7-9589-34b1be5459d7\",\"subtype\":\"Figure\",\"type\":\"Plot\"},\"ticker\":{\"id\":\"018aea35-cd49-43a3-9bc9-e0d1ed8aa303\",\"type\":\"BasicTicker\"}},\"id\":\"846f17d6-8b7d-4784-b811-8df4e7105f03\",\"type\":\"Grid\"},{\"attributes\":{\"bottom_units\":\"screen\",\"fill_alpha\":{\"value\":0.5},\"fill_color\":{\"value\":\"lightgrey\"},\"left_units\":\"screen\",\"level\":\"overlay\",\"line_alpha\":{\"value\":1.0},\"line_color\":{\"value\":\"black\"},\"line_dash\":[4,4],\"line_width\":{\"value\":2},\"plot\":null,\"render_mode\":\"css\",\"right_units\":\"screen\",\"top_units\":\"screen\"},\"id\":\"73bb3e32-9b67-4091-ac02-d41419c9299f\",\"type\":\"BoxAnnotation\"},{\"attributes\":{\"callback\":null,\"overlay\":{\"id\":\"73bb3e32-9b67-4091-ac02-d41419c9299f\",\"type\":\"BoxAnnotation\"},\"renderers\":[{\"id\":\"16d73cae-5daf-4a02-9c84-f7a5f185672d\",\"type\":\"GlyphRenderer\"}]},\"id\":\"ee128944-a136-4ff0-8909-dbcf1bd7641b\",\"type\":\"BoxSelectTool\"},{\"attributes\":{\"below\":[{\"id\":\"958802b2-60c4-4581-98e7-d01aeca3f014\",\"type\":\"LinearAxis\"}],\"left\":[{\"id\":\"11b3eaa0-e155-4adb-a162-f76949c8a53e\",\"type\":\"LinearAxis\"}],\"plot_height\":400,\"plot_width\":500,\"renderers\":[{\"id\":\"958802b2-60c4-4581-98e7-d01aeca3f014\",\"type\":\"LinearAxis\"},{\"id\":\"bafba15e-d35f-4e80-ba62-308de4fd058f\",\"type\":\"Grid\"},{\"id\":\"11b3eaa0-e155-4adb-a162-f76949c8a53e\",\"type\":\"LinearAxis\"},{\"id\":\"846f17d6-8b7d-4784-b811-8df4e7105f03\",\"type\":\"Grid\"},{\"id\":\"73bb3e32-9b67-4091-ac02-d41419c9299f\",\"type\":\"BoxAnnotation\"},{\"id\":\"16d73cae-5daf-4a02-9c84-f7a5f185672d\",\"type\":\"GlyphRenderer\"}],\"title\":{\"id\":\"389b6a70-0fcc-4d05-926c-9cdd8918f4e6\",\"type\":\"Title\"},\"toolbar\":{\"id\":\"6f95b4d1-2130-455c-8581-cf8d13862856\",\"type\":\"Toolbar\"},\"x_range\":{\"id\":\"cc7b838b-a8c0-47a6-957e-d35ac521a8ed\",\"type\":\"DataRange1d\"},\"x_scale\":{\"id\":\"4f9edd5d-0db7-46a8-a9ef-2f5476fc0129\",\"type\":\"LinearScale\"},\"y_range\":{\"id\":\"011eba48-c99f-476a-b37a-e789d1cdc6bf\",\"type\":\"DataRange1d\"},\"y_scale\":{\"id\":\"c68d4740-fed4-46d0-b81f-f5bb8c60146c\",\"type\":\"LinearScale\"}},\"id\":\"37636049-8bd0-44c7-9589-34b1be5459d7\",\"subtype\":\"Figure\",\"type\":\"Plot\"},{\"attributes\":{\"callback\":null,\"column_names\":[\"left\",\"right\",\"top\"],\"data\":{\"left\":{\"__ndarray__\":\"AAAAAAAohkBSuB6F64GLQFK4HoXrbZBAexSuR+Eak0CkcD0K18eVQM3MzMzMdJhA9ihcj8Ihm0AfhetRuM6dQKRwPQrXPaBAuB6F61GUoUDNzMzMzOqiQOJ6FK5HQaRA9ihcj8KXpUAK16NwPe6mQB+F61G4RKhANDMzMzObqUBI4XoUrvGqQFyPwvUoSKxAcT0K16OerUCG61G4HvWuQM3MzMzMJbBA16NwPQrRsEDiehSuR3yxQOxRuB6FJ7JA9ihcj8LSskA=\",\"dtype\":\"float64\",\"shape\":[25]},\"right\":{\"__ndarray__\":\"UrgeheuBi0BSuB6F622QQHsUrkfhGpNApHA9CtfHlUDNzMzMzHSYQPYoXI/CIZtAH4XrUbjOnUCkcD0K1z2gQLgehetRlKFAzczMzMzqokDiehSuR0GkQPYoXI/Cl6VACtejcD3upkAfhetRuESoQDQzMzMzm6lASOF6FK7xqkBcj8L1KEisQHE9Ctejnq1AhutRuB71rkDNzMzMzCWwQNejcD0K0bBA4noUrkd8sUDsUbgehSeyQPYoXI/C0rJAAAAAAAB+s0A=\",\"dtype\":\"float64\",\"shape\":[25]},\"top\":[1,1,1,1,1,4,5,7,12,15,14,11,18,20,15,12,12,15,11,7,4,0,1,0,1]}},\"id\":\"ed4ba685-1e45-43b1-9fea-d6149fd60f53\",\"type\":\"ColumnDataSource\"},{\"attributes\":{\"callback\":null},\"id\":\"fc7f5564-9e4d-4f2d-a5a9-2152f11998d6\",\"type\":\"HoverTool\"},{\"attributes\":{\"bottom\":{\"value\":0},\"fill_color\":{\"value\":\"#036564\"},\"left\":{\"field\":\"left\"},\"line_color\":{\"value\":\"#033649\"},\"right\":{\"field\":\"right\"},\"top\":{\"field\":\"top\"}},\"id\":\"32e2b84f-738f-4dc3-8bda-ed9eb943a365\",\"type\":\"Quad\"},{\"attributes\":{},\"id\":\"8c067eb9-28e3-4d76-b70d-a66fbc77a4d0\",\"type\":\"ResetTool\"},{\"attributes\":{\"plot\":null,\"text\":\"Try to select bars and reset the graph\"},\"id\":\"389b6a70-0fcc-4d05-926c-9cdd8918f4e6\",\"type\":\"Title\"},{\"attributes\":{\"bottom\":{\"value\":0},\"fill_alpha\":{\"value\":0.1},\"fill_color\":{\"value\":\"#1f77b4\"},\"left\":{\"field\":\"left\"},\"line_alpha\":{\"value\":0.1},\"line_color\":{\"value\":\"#1f77b4\"},\"right\":{\"field\":\"right\"},\"top\":{\"field\":\"top\"}},\"id\":\"99aa6a14-4732-4072-81d4-ffade1cdc005\",\"type\":\"Quad\"},{\"attributes\":{\"callback\":null},\"id\":\"cc7b838b-a8c0-47a6-957e-d35ac521a8ed\",\"type\":\"DataRange1d\"},{\"attributes\":{\"data_source\":{\"id\":\"ed4ba685-1e45-43b1-9fea-d6149fd60f53\",\"type\":\"ColumnDataSource\"},\"glyph\":{\"id\":\"32e2b84f-738f-4dc3-8bda-ed9eb943a365\",\"type\":\"Quad\"},\"hover_glyph\":null,\"muted_glyph\":null,\"nonselection_glyph\":{\"id\":\"99aa6a14-4732-4072-81d4-ffade1cdc005\",\"type\":\"Quad\"},\"selection_glyph\":null,\"view\":{\"id\":\"88c05439-7617-4a36-8dab-f5cf12ed3839\",\"type\":\"CDSView\"}},\"id\":\"16d73cae-5daf-4a02-9c84-f7a5f185672d\",\"type\":\"GlyphRenderer\"}],\"root_ids\":[\"37636049-8bd0-44c7-9589-34b1be5459d7\"]},\"title\":\"Bokeh Application\",\"version\":\"0.12.14\"}};\n",
       "  var render_items = [{\"docid\":\"e8b0539c-2113-4c61-8edb-ab096f1fa59b\",\"elementid\":\"82c9a792-d05e-403c-b5c4-4ddde7d6b181\",\"modelid\":\"37636049-8bd0-44c7-9589-34b1be5459d7\"}];\n",
       "  root.Bokeh.embed.embed_items_notebook(docs_json, render_items);\n",
       "\n",
       "  }\n",
       "  if (root.Bokeh !== undefined) {\n",
       "    embed_document(root);\n",
       "  } else {\n",
       "    var attempts = 0;\n",
       "    var timer = setInterval(function(root) {\n",
       "      if (root.Bokeh !== undefined) {\n",
       "        embed_document(root);\n",
       "        clearInterval(timer);\n",
       "      }\n",
       "      attempts++;\n",
       "      if (attempts > 100) {\n",
       "        console.log(\"Bokeh: ERROR: Unable to run BokehJS code because BokehJS library is missing\")\n",
       "        clearInterval(timer);\n",
       "      }\n",
       "    }, 10, root)\n",
       "  }\n",
       "})(window);"
      ],
      "application/vnd.bokehjs_exec.v0+json": ""
     },
     "metadata": {
      "application/vnd.bokehjs_exec.v0+json": {
       "id": "37636049-8bd0-44c7-9589-34b1be5459d7"
      }
     },
     "output_type": "display_data"
    }
   ],
   "source": [
    "# Specify tools\n",
    "tools = [\"box_select\", \"hover\", \"reset\"]\n",
    "p = figure(title=\"Try to select bars and reset the graph\",\n",
    "           plot_width=500, plot_height=400,\n",
    "          x_axis_label=\"Baby's birth Weight in Grams\",\n",
    "          y_axis_label=\"Counts\",\n",
    "          tools=tools,)\n",
    "p.quad(top=hist, bottom=0, left=edges[:-1], right=edges[1:], fill_color=\"#036564\", line_color=\"#033649\")\n",
    "show(p)"
   ]
  },
  {
   "cell_type": "markdown",
   "metadata": {},
   "source": [
    "As you can see on the graph above, now we can select bars by using box select and it can also give us additional information by keep the mouse on one bar. It is great, but the information we get is not exactly what we want. It is showing the index of one bar, the x and y axis of one bar chart and the graph, which are not really relvant to our dataset. What we want is the count, the left and right boundary of the bar.  \n",
    "We will fix this by specifying tooltips under HoverTool class. Additionally, we will also make the interaction prettier by changing a different color when hovering on the bar."
   ]
  },
  {
   "cell_type": "code",
   "execution_count": 7,
   "metadata": {},
   "outputs": [
    {
     "data": {
      "text/html": [
       "\n",
       "<div class=\"bk-root\">\n",
       "    <div class=\"bk-plotdiv\" id=\"7a514792-4dbb-4e1f-8306-3e5510b74dd4\"></div>\n",
       "</div>"
      ]
     },
     "metadata": {},
     "output_type": "display_data"
    },
    {
     "data": {
      "application/javascript": [
       "(function(root) {\n",
       "  function embed_document(root) {\n",
       "    \n",
       "  var docs_json = {\"3d20b565-0b5d-4f3f-b2c9-25040588283f\":{\"roots\":{\"references\":[{\"attributes\":{},\"id\":\"f8ff4a29-a165-47c5-8cd2-39aabcd95501\",\"type\":\"ResetTool\"},{\"attributes\":{},\"id\":\"56a0a910-d0e2-45b8-b8a9-1ac1939c5f4f\",\"type\":\"LinearScale\"},{\"attributes\":{},\"id\":\"e5fe5afc-9f51-4402-9fdc-ea2af9c14419\",\"type\":\"HelpTool\"},{\"attributes\":{},\"id\":\"b22d5db9-c6de-47fe-a62f-76c786cbda32\",\"type\":\"BasicTickFormatter\"},{\"attributes\":{\"data_source\":{\"id\":\"88611755-581b-4c30-8fb8-8eb96f494dba\",\"type\":\"ColumnDataSource\"},\"glyph\":{\"id\":\"7b4964eb-decc-4a21-a7f8-4e6083efcb19\",\"type\":\"Quad\"},\"hover_glyph\":{\"id\":\"a808ba27-1979-47c6-8b71-ff3a150f4ead\",\"type\":\"Quad\"},\"muted_glyph\":null,\"nonselection_glyph\":{\"id\":\"d63988a9-b426-42c3-8ac4-7c5fb6a5f835\",\"type\":\"Quad\"},\"selection_glyph\":null,\"view\":{\"id\":\"ee6a740c-ba02-4b49-b57b-cbc7c4b3fcf9\",\"type\":\"CDSView\"}},\"id\":\"2830d1cf-48af-4159-b1b8-15a550e0efdd\",\"type\":\"GlyphRenderer\"},{\"attributes\":{},\"id\":\"40eaa563-5826-4fc8-800b-af93cf6af9fa\",\"type\":\"LinearScale\"},{\"attributes\":{\"plot\":{\"id\":\"ae173c75-a96d-4816-97e0-9159bc2da2d7\",\"subtype\":\"Figure\",\"type\":\"Plot\"},\"ticker\":{\"id\":\"d2abee39-b8af-4db7-9281-b21003bb67e4\",\"type\":\"BasicTicker\"}},\"id\":\"afe0f9fb-6039-4e6d-b032-25ea7bb639b2\",\"type\":\"Grid\"},{\"attributes\":{\"axis_label\":\"Baby's birth Weight in Grams\",\"formatter\":{\"id\":\"94af46bc-b2d8-4e22-a6d6-9e0c47f201b0\",\"type\":\"BasicTickFormatter\"},\"plot\":{\"id\":\"ae173c75-a96d-4816-97e0-9159bc2da2d7\",\"subtype\":\"Figure\",\"type\":\"Plot\"},\"ticker\":{\"id\":\"d2abee39-b8af-4db7-9281-b21003bb67e4\",\"type\":\"BasicTicker\"}},\"id\":\"bbf35c1f-cf37-44a3-b394-44739f89ae20\",\"type\":\"LinearAxis\"},{\"attributes\":{\"source\":{\"id\":\"88611755-581b-4c30-8fb8-8eb96f494dba\",\"type\":\"ColumnDataSource\"}},\"id\":\"ee6a740c-ba02-4b49-b57b-cbc7c4b3fcf9\",\"type\":\"CDSView\"},{\"attributes\":{},\"id\":\"d2abee39-b8af-4db7-9281-b21003bb67e4\",\"type\":\"BasicTicker\"},{\"attributes\":{\"axis_label\":\"Counts\",\"formatter\":{\"id\":\"b22d5db9-c6de-47fe-a62f-76c786cbda32\",\"type\":\"BasicTickFormatter\"},\"plot\":{\"id\":\"ae173c75-a96d-4816-97e0-9159bc2da2d7\",\"subtype\":\"Figure\",\"type\":\"Plot\"},\"ticker\":{\"id\":\"59ae01b4-d67e-4048-9bed-6eae3ca3c2a8\",\"type\":\"BasicTicker\"}},\"id\":\"a6fb0194-1839-489c-9fb8-c374b545d5c2\",\"type\":\"LinearAxis\"},{\"attributes\":{\"bottom\":{\"value\":0},\"fill_color\":{\"value\":\"#036564\"},\"left\":{\"field\":\"left\"},\"line_color\":{\"value\":\"#033649\"},\"right\":{\"field\":\"right\"},\"top\":{\"field\":\"top\"}},\"id\":\"7b4964eb-decc-4a21-a7f8-4e6083efcb19\",\"type\":\"Quad\"},{\"attributes\":{},\"id\":\"59ae01b4-d67e-4048-9bed-6eae3ca3c2a8\",\"type\":\"BasicTicker\"},{\"attributes\":{\"callback\":null,\"column_names\":[\"left\",\"right\",\"top\"],\"data\":{\"left\":{\"__ndarray__\":\"AAAAAAAohkBSuB6F64GLQFK4HoXrbZBAexSuR+Eak0CkcD0K18eVQM3MzMzMdJhA9ihcj8Ihm0AfhetRuM6dQKRwPQrXPaBAuB6F61GUoUDNzMzMzOqiQOJ6FK5HQaRA9ihcj8KXpUAK16NwPe6mQB+F61G4RKhANDMzMzObqUBI4XoUrvGqQFyPwvUoSKxAcT0K16OerUCG61G4HvWuQM3MzMzMJbBA16NwPQrRsEDiehSuR3yxQOxRuB6FJ7JA9ihcj8LSskA=\",\"dtype\":\"float64\",\"shape\":[25]},\"right\":{\"__ndarray__\":\"UrgeheuBi0BSuB6F622QQHsUrkfhGpNApHA9CtfHlUDNzMzMzHSYQPYoXI/CIZtAH4XrUbjOnUCkcD0K1z2gQLgehetRlKFAzczMzMzqokDiehSuR0GkQPYoXI/Cl6VACtejcD3upkAfhetRuESoQDQzMzMzm6lASOF6FK7xqkBcj8L1KEisQHE9Ctejnq1AhutRuB71rkDNzMzMzCWwQNejcD0K0bBA4noUrkd8sUDsUbgehSeyQPYoXI/C0rJAAAAAAAB+s0A=\",\"dtype\":\"float64\",\"shape\":[25]},\"top\":[1,1,1,1,1,4,5,7,12,15,14,11,18,20,15,12,12,15,11,7,4,0,1,0,1]}},\"id\":\"88611755-581b-4c30-8fb8-8eb96f494dba\",\"type\":\"ColumnDataSource\"},{\"attributes\":{},\"id\":\"94af46bc-b2d8-4e22-a6d6-9e0c47f201b0\",\"type\":\"BasicTickFormatter\"},{\"attributes\":{\"dimension\":1,\"plot\":{\"id\":\"ae173c75-a96d-4816-97e0-9159bc2da2d7\",\"subtype\":\"Figure\",\"type\":\"Plot\"},\"ticker\":{\"id\":\"59ae01b4-d67e-4048-9bed-6eae3ca3c2a8\",\"type\":\"BasicTicker\"}},\"id\":\"f4dbc2da-5e70-4516-80a0-1d35b3e17c85\",\"type\":\"Grid\"},{\"attributes\":{\"bottom\":{\"value\":0},\"fill_color\":{\"value\":\"#79BD9A\"},\"left\":{\"field\":\"left\"},\"line_color\":{\"value\":\"#033649\"},\"right\":{\"field\":\"right\"},\"top\":{\"field\":\"top\"}},\"id\":\"a808ba27-1979-47c6-8b71-ff3a150f4ead\",\"type\":\"Quad\"},{\"attributes\":{\"bottom\":{\"value\":0},\"fill_alpha\":{\"value\":0.1},\"fill_color\":{\"value\":\"#1f77b4\"},\"left\":{\"field\":\"left\"},\"line_alpha\":{\"value\":0.1},\"line_color\":{\"value\":\"#1f77b4\"},\"right\":{\"field\":\"right\"},\"top\":{\"field\":\"top\"}},\"id\":\"d63988a9-b426-42c3-8ac4-7c5fb6a5f835\",\"type\":\"Quad\"},{\"attributes\":{\"callback\":null},\"id\":\"0f5f5573-3d55-49d2-b929-b3de013935ad\",\"type\":\"DataRange1d\"},{\"attributes\":{\"below\":[{\"id\":\"bbf35c1f-cf37-44a3-b394-44739f89ae20\",\"type\":\"LinearAxis\"}],\"left\":[{\"id\":\"a6fb0194-1839-489c-9fb8-c374b545d5c2\",\"type\":\"LinearAxis\"}],\"plot_height\":400,\"plot_width\":500,\"renderers\":[{\"id\":\"bbf35c1f-cf37-44a3-b394-44739f89ae20\",\"type\":\"LinearAxis\"},{\"id\":\"afe0f9fb-6039-4e6d-b032-25ea7bb639b2\",\"type\":\"Grid\"},{\"id\":\"a6fb0194-1839-489c-9fb8-c374b545d5c2\",\"type\":\"LinearAxis\"},{\"id\":\"f4dbc2da-5e70-4516-80a0-1d35b3e17c85\",\"type\":\"Grid\"},{\"id\":\"922d87f6-d821-4bb2-ac39-0625b35d1cd8\",\"type\":\"BoxAnnotation\"},{\"id\":\"2830d1cf-48af-4159-b1b8-15a550e0efdd\",\"type\":\"GlyphRenderer\"}],\"title\":{\"id\":\"66d5197f-3eb0-421d-b551-449e85674a80\",\"type\":\"Title\"},\"toolbar\":{\"id\":\"c7b6fa9d-b7d3-4d24-8423-24e443e26e4c\",\"type\":\"Toolbar\"},\"x_range\":{\"id\":\"9baa98d4-5035-4015-ba8e-9164e15c95e6\",\"type\":\"DataRange1d\"},\"x_scale\":{\"id\":\"56a0a910-d0e2-45b8-b8a9-1ac1939c5f4f\",\"type\":\"LinearScale\"},\"y_range\":{\"id\":\"0f5f5573-3d55-49d2-b929-b3de013935ad\",\"type\":\"DataRange1d\"},\"y_scale\":{\"id\":\"40eaa563-5826-4fc8-800b-af93cf6af9fa\",\"type\":\"LinearScale\"}},\"id\":\"ae173c75-a96d-4816-97e0-9159bc2da2d7\",\"subtype\":\"Figure\",\"type\":\"Plot\"},{\"attributes\":{\"plot\":null,\"text\":\"Correct Information with highlights when hovering on the bar\"},\"id\":\"66d5197f-3eb0-421d-b551-449e85674a80\",\"type\":\"Title\"},{\"attributes\":{\"bottom_units\":\"screen\",\"fill_alpha\":{\"value\":0.5},\"fill_color\":{\"value\":\"lightgrey\"},\"left_units\":\"screen\",\"level\":\"overlay\",\"line_alpha\":{\"value\":1.0},\"line_color\":{\"value\":\"black\"},\"line_dash\":[4,4],\"line_width\":{\"value\":2},\"plot\":null,\"render_mode\":\"css\",\"right_units\":\"screen\",\"top_units\":\"screen\"},\"id\":\"922d87f6-d821-4bb2-ac39-0625b35d1cd8\",\"type\":\"BoxAnnotation\"},{\"attributes\":{},\"id\":\"46456bf9-52b8-4db2-9d43-8414d1ac3bcc\",\"type\":\"PanTool\"},{\"attributes\":{\"callback\":null,\"tooltips\":[[\"Count\",\"@top\"],[\"Left\",\"@left{(0.0)}\"],[\"Right\",\"@right{(0.0)}\"]]},\"id\":\"20afe613-9325-4010-aed7-aa2d13692c85\",\"type\":\"HoverTool\"},{\"attributes\":{},\"id\":\"e22d0af6-7cc7-46db-bc46-04c9823aa315\",\"type\":\"WheelZoomTool\"},{\"attributes\":{\"callback\":null},\"id\":\"9baa98d4-5035-4015-ba8e-9164e15c95e6\",\"type\":\"DataRange1d\"},{\"attributes\":{\"overlay\":{\"id\":\"922d87f6-d821-4bb2-ac39-0625b35d1cd8\",\"type\":\"BoxAnnotation\"}},\"id\":\"e49f5697-e5ec-46b6-ba63-0bd2052e5145\",\"type\":\"BoxZoomTool\"},{\"attributes\":{\"active_drag\":\"auto\",\"active_inspect\":\"auto\",\"active_scroll\":\"auto\",\"active_tap\":\"auto\",\"tools\":[{\"id\":\"46456bf9-52b8-4db2-9d43-8414d1ac3bcc\",\"type\":\"PanTool\"},{\"id\":\"e22d0af6-7cc7-46db-bc46-04c9823aa315\",\"type\":\"WheelZoomTool\"},{\"id\":\"e49f5697-e5ec-46b6-ba63-0bd2052e5145\",\"type\":\"BoxZoomTool\"},{\"id\":\"eacb2f7d-2665-401d-ba76-455057585340\",\"type\":\"SaveTool\"},{\"id\":\"f8ff4a29-a165-47c5-8cd2-39aabcd95501\",\"type\":\"ResetTool\"},{\"id\":\"e5fe5afc-9f51-4402-9fdc-ea2af9c14419\",\"type\":\"HelpTool\"},{\"id\":\"20afe613-9325-4010-aed7-aa2d13692c85\",\"type\":\"HoverTool\"}]},\"id\":\"c7b6fa9d-b7d3-4d24-8423-24e443e26e4c\",\"type\":\"Toolbar\"},{\"attributes\":{},\"id\":\"eacb2f7d-2665-401d-ba76-455057585340\",\"type\":\"SaveTool\"}],\"root_ids\":[\"ae173c75-a96d-4816-97e0-9159bc2da2d7\"]},\"title\":\"Bokeh Application\",\"version\":\"0.12.14\"}};\n",
       "  var render_items = [{\"docid\":\"3d20b565-0b5d-4f3f-b2c9-25040588283f\",\"elementid\":\"7a514792-4dbb-4e1f-8306-3e5510b74dd4\",\"modelid\":\"ae173c75-a96d-4816-97e0-9159bc2da2d7\"}];\n",
       "  root.Bokeh.embed.embed_items_notebook(docs_json, render_items);\n",
       "\n",
       "  }\n",
       "  if (root.Bokeh !== undefined) {\n",
       "    embed_document(root);\n",
       "  } else {\n",
       "    var attempts = 0;\n",
       "    var timer = setInterval(function(root) {\n",
       "      if (root.Bokeh !== undefined) {\n",
       "        embed_document(root);\n",
       "        clearInterval(timer);\n",
       "      }\n",
       "      attempts++;\n",
       "      if (attempts > 100) {\n",
       "        console.log(\"Bokeh: ERROR: Unable to run BokehJS code because BokehJS library is missing\")\n",
       "        clearInterval(timer);\n",
       "      }\n",
       "    }, 10, root)\n",
       "  }\n",
       "})(window);"
      ],
      "application/vnd.bokehjs_exec.v0+json": ""
     },
     "metadata": {
      "application/vnd.bokehjs_exec.v0+json": {
       "id": "ae173c75-a96d-4816-97e0-9159bc2da2d7"
      }
     },
     "output_type": "display_data"
    }
   ],
   "source": [
    "from bokeh.models import HoverTool\n",
    "\n",
    "# Specify the information shown when hovering\n",
    "hover = HoverTool(tooltips=[\n",
    "    (\"Count\", \"@top\"),\n",
    "    (\"Left\", \"@left{(0.0)}\"),\n",
    "    (\"Right\", \"@right{(0.0)}\"),\n",
    "])\n",
    "\n",
    "p = figure(title=\"Correct Information with highlights when hovering on the bar\", plot_width=500, plot_height=400,\n",
    "          x_axis_label=\"Baby's birth Weight in Grams\",\n",
    "          y_axis_label=\"Counts\",\n",
    "          )\n",
    "p.add_tools(hover)\n",
    "\n",
    "p.quad(top=hist, bottom=0, left=edges[:-1], right=edges[1:], fill_color=\"#036564\", line_color=\"#033649\",\n",
    "      hover_fill_color=\"#79BD9A\", hover_line_color=\"#033649\")\n",
    "show(p)"
   ]
  },
  {
   "cell_type": "markdown",
   "metadata": {},
   "source": [
    "#### Using Interactive Legends\n",
    "In this low birth weight problem, one import factor we are interested in is the race of the mother.  \n",
    "We would like to examine different distributions for different races.  \n",
    "If you are familiar with `ggplot2` in `R`, you may know that `ggplot2` can directly separate the data. However, in Bokeh, we need to prepare the data separate for different races. And then for data within the race, we use one layer of Glyphs to plot it."
   ]
  },
  {
   "cell_type": "code",
   "execution_count": 8,
   "metadata": {},
   "outputs": [
    {
     "data": {
      "text/html": [
       "\n",
       "<div class=\"bk-root\">\n",
       "    <div class=\"bk-plotdiv\" id=\"df29ba9a-60b9-4480-9338-6418ec535a93\"></div>\n",
       "</div>"
      ]
     },
     "metadata": {},
     "output_type": "display_data"
    },
    {
     "data": {
      "application/javascript": [
       "(function(root) {\n",
       "  function embed_document(root) {\n",
       "    \n",
       "  var docs_json = {\"78b02d7f-8779-48f8-887f-e4920185302d\":{\"roots\":{\"references\":[{\"attributes\":{\"source\":{\"id\":\"81cfd4b7-e99f-459c-89d6-14eea63d403b\",\"type\":\"ColumnDataSource\"}},\"id\":\"817a7250-325d-4259-878f-ebc591199ee5\",\"type\":\"CDSView\"},{\"attributes\":{},\"id\":\"0a0ab960-9f5b-4f93-bd90-a75a10c4be85\",\"type\":\"BasicTickFormatter\"},{\"attributes\":{\"callback\":null,\"column_names\":[\"left\",\"right\",\"top\"],\"data\":{\"left\":{\"__ndarray__\":\"AAAAAAAohkBSuB6F64GLQFK4HoXrbZBAexSuR+Eak0CkcD0K18eVQM3MzMzMdJhA9ihcj8Ihm0AfhetRuM6dQKRwPQrXPaBAuB6F61GUoUDNzMzMzOqiQOJ6FK5HQaRA9ihcj8KXpUAK16NwPe6mQB+F61G4RKhANDMzMzObqUBI4XoUrvGqQFyPwvUoSKxAcT0K16OerUCG61G4HvWuQM3MzMzMJbBA16NwPQrRsEDiehSuR3yxQOxRuB6FJ7JA9ihcj8LSskA=\",\"dtype\":\"float64\",\"shape\":[25]},\"right\":{\"__ndarray__\":\"UrgeheuBi0BSuB6F622QQHsUrkfhGpNApHA9CtfHlUDNzMzMzHSYQPYoXI/CIZtAH4XrUbjOnUCkcD0K1z2gQLgehetRlKFAzczMzMzqokDiehSuR0GkQPYoXI/Cl6VACtejcD3upkAfhetRuESoQDQzMzMzm6lASOF6FK7xqkBcj8L1KEisQHE9Ctejnq1AhutRuB71rkDNzMzMzCWwQNejcD0K0bBA4noUrkd8sUDsUbgehSeyQPYoXI/C0rJAAAAAAAB+s0A=\",\"dtype\":\"float64\",\"shape\":[25]},\"top\":{\"__ndarray__\":\"Z7fwqzGRjj8AAAAAAAAAAAAAAAAAAAAAZ7fwqzGRjj9nt/CrMZGOP42J9EDl7KY/Z7fwqzGRnj+NifRA5eymP2e38Ksxka4/oHJ2C78asz+NifRA5ey2P42J9EDl7LY/Z7fwqzGRrj+NifRA5eymP42J9EDl7MY/jYn0QOXspj+gcnYLvxqzP42J9EDl7KY/Z7fwqzGRnj+NifRA5eymPwAAAAAAAAAAAAAAAAAAAAAAAAAAAAAAAAAAAAAAAAAAAAAAAAAAAAA=\",\"dtype\":\"float64\",\"shape\":[25]}}},\"id\":\"e8a1fc5e-28fe-4404-a142-a08c9dc54bba\",\"type\":\"ColumnDataSource\"},{\"attributes\":{\"plot\":{\"id\":\"05d2765e-ce4c-4518-8d19-e5eb59686304\",\"subtype\":\"Figure\",\"type\":\"Plot\"},\"ticker\":{\"id\":\"9909c143-fea7-467e-90b8-1bb493da7813\",\"type\":\"BasicTicker\"}},\"id\":\"aef3c333-81a3-4083-8ac6-5dbb1097fa7b\",\"type\":\"Grid\"},{\"attributes\":{\"axis_label\":\"Baby's birth Weight in Grams\",\"formatter\":{\"id\":\"0a6f27ff-1833-4e96-b36d-a6f699f754e6\",\"type\":\"BasicTickFormatter\"},\"plot\":{\"id\":\"05d2765e-ce4c-4518-8d19-e5eb59686304\",\"subtype\":\"Figure\",\"type\":\"Plot\"},\"ticker\":{\"id\":\"9909c143-fea7-467e-90b8-1bb493da7813\",\"type\":\"BasicTicker\"}},\"id\":\"c0fe3959-c1d6-4d96-84f4-6ac99b87c599\",\"type\":\"LinearAxis\"},{\"attributes\":{\"bottom\":{\"value\":0},\"fill_alpha\":{\"value\":0.1},\"fill_color\":{\"value\":\"#1f77b4\"},\"left\":{\"field\":\"left\"},\"line_alpha\":{\"value\":0.1},\"line_color\":{\"value\":\"#1f77b4\"},\"right\":{\"field\":\"right\"},\"top\":{\"field\":\"top\"}},\"id\":\"31a0e215-6030-45f8-aa0e-d478196a5744\",\"type\":\"Quad\"},{\"attributes\":{},\"id\":\"9909c143-fea7-467e-90b8-1bb493da7813\",\"type\":\"BasicTicker\"},{\"attributes\":{\"bottom\":{\"value\":0},\"fill_alpha\":{\"value\":0.7},\"fill_color\":{\"value\":\"#fdae61\"},\"left\":{\"field\":\"left\"},\"line_color\":{\"value\":\"#033649\"},\"right\":{\"field\":\"right\"},\"top\":{\"field\":\"top\"}},\"id\":\"3f25a4a0-df69-4bbf-9f79-81ff4cb6b9dd\",\"type\":\"Quad\"},{\"attributes\":{\"axis_label\":\"Percentage\",\"formatter\":{\"id\":\"0a0ab960-9f5b-4f93-bd90-a75a10c4be85\",\"type\":\"BasicTickFormatter\"},\"plot\":{\"id\":\"05d2765e-ce4c-4518-8d19-e5eb59686304\",\"subtype\":\"Figure\",\"type\":\"Plot\"},\"ticker\":{\"id\":\"e969c105-4a8d-479c-86d8-7865a4991b8c\",\"type\":\"BasicTicker\"}},\"id\":\"3482e18e-4088-4545-8815-deb31c9d2c9c\",\"type\":\"LinearAxis\"},{\"attributes\":{\"data_source\":{\"id\":\"2baf76e1-29c9-4292-acf6-e5cd9773b7cb\",\"type\":\"ColumnDataSource\"},\"glyph\":{\"id\":\"477fffea-890e-4386-b4f3-cc3ee57a42ca\",\"type\":\"Quad\"},\"hover_glyph\":{\"id\":\"73099f06-0544-4a7e-80a4-531c73f45a62\",\"type\":\"Quad\"},\"muted_glyph\":null,\"nonselection_glyph\":{\"id\":\"31a0e215-6030-45f8-aa0e-d478196a5744\",\"type\":\"Quad\"},\"selection_glyph\":null,\"view\":{\"id\":\"38d73137-2e00-44f6-842c-fee5c2c986a1\",\"type\":\"CDSView\"}},\"id\":\"93f32eac-2071-42de-b599-ac46837ed84e\",\"type\":\"GlyphRenderer\"},{\"attributes\":{},\"id\":\"e969c105-4a8d-479c-86d8-7865a4991b8c\",\"type\":\"BasicTicker\"},{\"attributes\":{\"source\":{\"id\":\"2baf76e1-29c9-4292-acf6-e5cd9773b7cb\",\"type\":\"ColumnDataSource\"}},\"id\":\"38d73137-2e00-44f6-842c-fee5c2c986a1\",\"type\":\"CDSView\"},{\"attributes\":{\"dimension\":1,\"plot\":{\"id\":\"05d2765e-ce4c-4518-8d19-e5eb59686304\",\"subtype\":\"Figure\",\"type\":\"Plot\"},\"ticker\":{\"id\":\"e969c105-4a8d-479c-86d8-7865a4991b8c\",\"type\":\"BasicTicker\"}},\"id\":\"5ef12b30-e496-4f9c-8bd6-1d7e22d3140e\",\"type\":\"Grid\"},{\"attributes\":{\"bottom\":{\"value\":0},\"fill_color\":{\"value\":\"#036564\"},\"left\":{\"field\":\"left\"},\"line_color\":{\"value\":\"#033649\"},\"right\":{\"field\":\"right\"},\"top\":{\"field\":\"top\"}},\"id\":\"6951bf82-d432-4f0f-879b-8606f48c5a2c\",\"type\":\"Quad\"},{\"attributes\":{\"bottom\":{\"value\":0},\"fill_alpha\":{\"value\":0.1},\"fill_color\":{\"value\":\"#1f77b4\"},\"left\":{\"field\":\"left\"},\"line_alpha\":{\"value\":0.1},\"line_color\":{\"value\":\"#1f77b4\"},\"right\":{\"field\":\"right\"},\"top\":{\"field\":\"top\"}},\"id\":\"548bc6ea-29a4-44e6-b791-a21c1004f192\",\"type\":\"Quad\"},{\"attributes\":{\"bottom\":{\"value\":0},\"fill_color\":{\"value\":\"#fdae61\"},\"left\":{\"field\":\"left\"},\"line_color\":{\"value\":\"#033649\"},\"right\":{\"field\":\"right\"},\"top\":{\"field\":\"top\"}},\"id\":\"b10fcacf-6ee9-4976-a7ad-9152c954c180\",\"type\":\"Quad\"},{\"attributes\":{\"bottom_units\":\"screen\",\"fill_alpha\":{\"value\":0.5},\"fill_color\":{\"value\":\"lightgrey\"},\"left_units\":\"screen\",\"level\":\"overlay\",\"line_alpha\":{\"value\":1.0},\"line_color\":{\"value\":\"black\"},\"line_dash\":[4,4],\"line_width\":{\"value\":2},\"plot\":null,\"render_mode\":\"css\",\"right_units\":\"screen\",\"top_units\":\"screen\"},\"id\":\"3cf717e8-b4e8-4285-bf1f-50662016b573\",\"type\":\"BoxAnnotation\"},{\"attributes\":{\"data_source\":{\"id\":\"e8a1fc5e-28fe-4404-a142-a08c9dc54bba\",\"type\":\"ColumnDataSource\"},\"glyph\":{\"id\":\"3f25a4a0-df69-4bbf-9f79-81ff4cb6b9dd\",\"type\":\"Quad\"},\"hover_glyph\":{\"id\":\"b10fcacf-6ee9-4976-a7ad-9152c954c180\",\"type\":\"Quad\"},\"muted_glyph\":null,\"nonselection_glyph\":{\"id\":\"a4da636e-733e-4011-9ed9-05b9e2d0cd41\",\"type\":\"Quad\"},\"selection_glyph\":null,\"view\":{\"id\":\"431311d3-e848-4bdd-97a4-2665975af32d\",\"type\":\"CDSView\"}},\"id\":\"cdf62489-66d0-4904-a5f1-5e9c337aa698\",\"type\":\"GlyphRenderer\"},{\"attributes\":{},\"id\":\"18bd82ab-9a0b-4b11-b893-e418a932346e\",\"type\":\"PanTool\"},{\"attributes\":{\"source\":{\"id\":\"e8a1fc5e-28fe-4404-a142-a08c9dc54bba\",\"type\":\"ColumnDataSource\"}},\"id\":\"431311d3-e848-4bdd-97a4-2665975af32d\",\"type\":\"CDSView\"},{\"attributes\":{},\"id\":\"b277b748-9763-473e-b438-f6fa2a1b1626\",\"type\":\"WheelZoomTool\"},{\"attributes\":{\"label\":{\"value\":\"black\"},\"renderers\":[{\"id\":\"93f32eac-2071-42de-b599-ac46837ed84e\",\"type\":\"GlyphRenderer\"}]},\"id\":\"8a497972-6e7d-49c7-a185-7708d983a63c\",\"type\":\"LegendItem\"},{\"attributes\":{\"overlay\":{\"id\":\"3cf717e8-b4e8-4285-bf1f-50662016b573\",\"type\":\"BoxAnnotation\"}},\"id\":\"95c099b4-3e76-484a-b91f-7af6b2f03580\",\"type\":\"BoxZoomTool\"},{\"attributes\":{\"label\":{\"value\":\"total\"},\"renderers\":[{\"id\":\"7f402d99-cd23-4d01-90ef-e012df00e3f0\",\"type\":\"GlyphRenderer\"}]},\"id\":\"8e055200-7b86-4c2a-848a-4139ec772b6a\",\"type\":\"LegendItem\"},{\"attributes\":{},\"id\":\"fef375ce-0344-4b49-ad30-481fa048421d\",\"type\":\"SaveTool\"},{\"attributes\":{\"label\":{\"value\":\"white\"},\"renderers\":[{\"id\":\"8d941441-a1a5-406a-a8a2-cf8b1773a427\",\"type\":\"GlyphRenderer\"}]},\"id\":\"4cc40d9d-a621-477a-95dd-0006f31b53b8\",\"type\":\"LegendItem\"},{\"attributes\":{},\"id\":\"9c191b19-ef2d-4552-b863-29e2cf7f656a\",\"type\":\"ResetTool\"},{\"attributes\":{},\"id\":\"b4a280d4-ad0a-4f9e-bc12-530c5746461e\",\"type\":\"HelpTool\"},{\"attributes\":{\"data_source\":{\"id\":\"3e1179b9-ebaa-4852-87af-2899c2776422\",\"type\":\"ColumnDataSource\"},\"glyph\":{\"id\":\"51c330d5-38e9-472e-8480-ce4bc8fbe32c\",\"type\":\"Quad\"},\"hover_glyph\":{\"id\":\"6951bf82-d432-4f0f-879b-8606f48c5a2c\",\"type\":\"Quad\"},\"muted_glyph\":null,\"nonselection_glyph\":{\"id\":\"548bc6ea-29a4-44e6-b791-a21c1004f192\",\"type\":\"Quad\"},\"selection_glyph\":null,\"view\":{\"id\":\"6047b671-5931-4f1c-a585-2461bcc8c479\",\"type\":\"CDSView\"}},\"id\":\"7f402d99-cd23-4d01-90ef-e012df00e3f0\",\"type\":\"GlyphRenderer\"},{\"attributes\":{\"source\":{\"id\":\"3e1179b9-ebaa-4852-87af-2899c2776422\",\"type\":\"ColumnDataSource\"}},\"id\":\"6047b671-5931-4f1c-a585-2461bcc8c479\",\"type\":\"CDSView\"},{\"attributes\":{\"callback\":null,\"column_names\":[\"left\",\"right\",\"top\"],\"data\":{\"left\":{\"__ndarray__\":\"AAAAAAAohkBSuB6F64GLQFK4HoXrbZBAexSuR+Eak0CkcD0K18eVQM3MzMzMdJhA9ihcj8Ihm0AfhetRuM6dQKRwPQrXPaBAuB6F61GUoUDNzMzMzOqiQOJ6FK5HQaRA9ihcj8KXpUAK16NwPe6mQB+F61G4RKhANDMzMzObqUBI4XoUrvGqQFyPwvUoSKxAcT0K16OerUCG61G4HvWuQM3MzMzMJbBA16NwPQrRsEDiehSuR3yxQOxRuB6FJ7JA9ihcj8LSskA=\",\"dtype\":\"float64\",\"shape\":[25]},\"right\":{\"__ndarray__\":\"UrgeheuBi0BSuB6F622QQHsUrkfhGpNApHA9CtfHlUDNzMzMzHSYQPYoXI/CIZtAH4XrUbjOnUCkcD0K1z2gQLgehetRlKFAzczMzMzqokDiehSuR0GkQPYoXI/Cl6VACtejcD3upkAfhetRuESoQDQzMzMzm6lASOF6FK7xqkBcj8L1KEisQHE9Ctejnq1AhutRuB71rkDNzMzMzCWwQNejcD0K0bBA4noUrkd8sUDsUbgehSeyQPYoXI/C0rJAAAAAAAB+s0A=\",\"dtype\":\"float64\",\"shape\":[25]},\"top\":{\"__ndarray__\":\"AAAAAAAAAAAAAAAAAAAAABQ7sRM7saM/AAAAAAAAAAAAAAAAAAAAABQ7sRM7saM/AAAAAAAAAAAUO7ETO7GjPxQ7sRM7sbM/FDuxEzuxwz+e2Imd2Im9PwAAAAAAAAAAFDuxEzuxwz8UO7ETO7HDPwAAAAAAAAAAFDuxEzuxwz8AAAAAAAAAABQ7sRM7saM/FDuxEzuxoz8AAAAAAAAAAAAAAAAAAAAAAAAAAAAAAAAAAAAAAAAAAAAAAAAAAAAAAAAAAAAAAAA=\",\"dtype\":\"float64\",\"shape\":[25]}}},\"id\":\"2baf76e1-29c9-4292-acf6-e5cd9773b7cb\",\"type\":\"ColumnDataSource\"},{\"attributes\":{},\"id\":\"0a6f27ff-1833-4e96-b36d-a6f699f754e6\",\"type\":\"BasicTickFormatter\"},{\"attributes\":{\"below\":[{\"id\":\"c0fe3959-c1d6-4d96-84f4-6ac99b87c599\",\"type\":\"LinearAxis\"}],\"left\":[{\"id\":\"3482e18e-4088-4545-8815-deb31c9d2c9c\",\"type\":\"LinearAxis\"}],\"plot_height\":400,\"renderers\":[{\"id\":\"c0fe3959-c1d6-4d96-84f4-6ac99b87c599\",\"type\":\"LinearAxis\"},{\"id\":\"aef3c333-81a3-4083-8ac6-5dbb1097fa7b\",\"type\":\"Grid\"},{\"id\":\"3482e18e-4088-4545-8815-deb31c9d2c9c\",\"type\":\"LinearAxis\"},{\"id\":\"5ef12b30-e496-4f9c-8bd6-1d7e22d3140e\",\"type\":\"Grid\"},{\"id\":\"3cf717e8-b4e8-4285-bf1f-50662016b573\",\"type\":\"BoxAnnotation\"},{\"id\":\"7f402d99-cd23-4d01-90ef-e012df00e3f0\",\"type\":\"GlyphRenderer\"},{\"id\":\"8d941441-a1a5-406a-a8a2-cf8b1773a427\",\"type\":\"GlyphRenderer\"},{\"id\":\"93f32eac-2071-42de-b599-ac46837ed84e\",\"type\":\"GlyphRenderer\"},{\"id\":\"cdf62489-66d0-4904-a5f1-5e9c337aa698\",\"type\":\"GlyphRenderer\"},{\"id\":\"26125d6a-9f03-457a-bfc0-320328359da9\",\"type\":\"Legend\"}],\"right\":[{\"id\":\"26125d6a-9f03-457a-bfc0-320328359da9\",\"type\":\"Legend\"}],\"title\":{\"id\":\"a2472fdc-1c84-429d-b799-ecf164df4904\",\"type\":\"Title\"},\"toolbar\":{\"id\":\"c3d78d0e-6ccc-47d9-aa27-f51a2db07f37\",\"type\":\"Toolbar\"},\"x_range\":{\"id\":\"e84cc9bf-f71f-4908-82c9-438726e87819\",\"type\":\"DataRange1d\"},\"x_scale\":{\"id\":\"9e09c385-3047-4daf-b7de-f02e8396c64c\",\"type\":\"LinearScale\"},\"y_range\":{\"id\":\"3e7f7e51-94e9-4e73-8d0e-dc92e1ac82eb\",\"type\":\"DataRange1d\"},\"y_scale\":{\"id\":\"c965a9f2-c997-431d-8ad4-865e7e23abd5\",\"type\":\"LinearScale\"}},\"id\":\"05d2765e-ce4c-4518-8d19-e5eb59686304\",\"subtype\":\"Figure\",\"type\":\"Plot\"},{\"attributes\":{\"callback\":null,\"column_names\":[\"left\",\"right\",\"top\"],\"data\":{\"left\":{\"__ndarray__\":\"AAAAAAAohkBSuB6F64GLQFK4HoXrbZBAexSuR+Eak0CkcD0K18eVQM3MzMzMdJhA9ihcj8Ihm0AfhetRuM6dQKRwPQrXPaBAuB6F61GUoUDNzMzMzOqiQOJ6FK5HQaRA9ihcj8KXpUAK16NwPe6mQB+F61G4RKhANDMzMzObqUBI4XoUrvGqQFyPwvUoSKxAcT0K16OerUCG61G4HvWuQM3MzMzMJbBA16NwPQrRsEDiehSuR3yxQOxRuB6FJ7JA9ihcj8LSskA=\",\"dtype\":\"float64\",\"shape\":[25]},\"right\":{\"__ndarray__\":\"UrgeheuBi0BSuB6F622QQHsUrkfhGpNApHA9CtfHlUDNzMzMzHSYQPYoXI/CIZtAH4XrUbjOnUCkcD0K1z2gQLgehetRlKFAzczMzMzqokDiehSuR0GkQPYoXI/Cl6VACtejcD3upkAfhetRuESoQDQzMzMzm6lASOF6FK7xqkBcj8L1KEisQHE9Ctejnq1AhutRuB71rkDNzMzMzCWwQNejcD0K0bBA4noUrkd8sUDsUbgehSeyQPYoXI/C0rJAAAAAAAB+s0A=\",\"dtype\":\"float64\",\"shape\":[25]},\"top\":{\"__ndarray__\":\"AAAAAAAAAABVVVVVVVWFPwAAAAAAAAAAAAAAAAAAAAAAAAAAAAAAAAAAAAAAAAAAAAAAAAAAoD8AAAAAAACgPwAAAAAAALA/AAAAAAAAsD+rqqqqqqqqP6uqqqqqqqo/q6qqqqqquj9VVVVVVVXBPwAAAAAAAKA/q6qqqqqqqj+rqqqqqqqyP1VVVVVVVb0/VVVVVVVVtT9VVVVVVVWlP1VVVVVVVaU/AAAAAAAAAABVVVVVVVWFPwAAAAAAAAAAVVVVVVVVhT8=\",\"dtype\":\"float64\",\"shape\":[25]}}},\"id\":\"81cfd4b7-e99f-459c-89d6-14eea63d403b\",\"type\":\"ColumnDataSource\"},{\"attributes\":{\"click_policy\":\"hide\",\"items\":[{\"id\":\"8e055200-7b86-4c2a-848a-4139ec772b6a\",\"type\":\"LegendItem\"},{\"id\":\"4cc40d9d-a621-477a-95dd-0006f31b53b8\",\"type\":\"LegendItem\"},{\"id\":\"8a497972-6e7d-49c7-a185-7708d983a63c\",\"type\":\"LegendItem\"},{\"id\":\"66aa82ab-88bf-4248-bd2e-e704989f64cb\",\"type\":\"LegendItem\"}],\"location\":[0,217],\"plot\":{\"id\":\"05d2765e-ce4c-4518-8d19-e5eb59686304\",\"subtype\":\"Figure\",\"type\":\"Plot\"}},\"id\":\"26125d6a-9f03-457a-bfc0-320328359da9\",\"type\":\"Legend\"},{\"attributes\":{\"bottom\":{\"value\":0},\"fill_alpha\":{\"value\":0.7},\"fill_color\":{\"value\":\"#036564\"},\"left\":{\"field\":\"left\"},\"line_color\":{\"value\":\"#033649\"},\"right\":{\"field\":\"right\"},\"top\":{\"field\":\"top\"}},\"id\":\"51c330d5-38e9-472e-8480-ce4bc8fbe32c\",\"type\":\"Quad\"},{\"attributes\":{\"callback\":null,\"tooltips\":[[\"Count\",\"@top\"],[\"Left\",\"@left{(0.0)}\"],[\"Right\",\"@right{(0.0)}\"]]},\"id\":\"14c7d041-4c7f-4d82-8a1f-5a8bf1062f48\",\"type\":\"HoverTool\"},{\"attributes\":{\"bottom\":{\"value\":0},\"fill_alpha\":{\"value\":0.7},\"fill_color\":{\"value\":\"#2b83ba\"},\"left\":{\"field\":\"left\"},\"line_color\":{\"value\":\"#033649\"},\"right\":{\"field\":\"right\"},\"top\":{\"field\":\"top\"}},\"id\":\"b2d3e987-38bd-46d5-959e-5644325e9359\",\"type\":\"Quad\"},{\"attributes\":{\"active_drag\":\"auto\",\"active_inspect\":\"auto\",\"active_scroll\":\"auto\",\"active_tap\":\"auto\",\"tools\":[{\"id\":\"18bd82ab-9a0b-4b11-b893-e418a932346e\",\"type\":\"PanTool\"},{\"id\":\"b277b748-9763-473e-b438-f6fa2a1b1626\",\"type\":\"WheelZoomTool\"},{\"id\":\"95c099b4-3e76-484a-b91f-7af6b2f03580\",\"type\":\"BoxZoomTool\"},{\"id\":\"fef375ce-0344-4b49-ad30-481fa048421d\",\"type\":\"SaveTool\"},{\"id\":\"9c191b19-ef2d-4552-b863-29e2cf7f656a\",\"type\":\"ResetTool\"},{\"id\":\"b4a280d4-ad0a-4f9e-bc12-530c5746461e\",\"type\":\"HelpTool\"},{\"id\":\"14c7d041-4c7f-4d82-8a1f-5a8bf1062f48\",\"type\":\"HoverTool\"}]},\"id\":\"c3d78d0e-6ccc-47d9-aa27-f51a2db07f37\",\"type\":\"Toolbar\"},{\"attributes\":{\"bottom\":{\"value\":0},\"fill_alpha\":{\"value\":0.1},\"fill_color\":{\"value\":\"#1f77b4\"},\"left\":{\"field\":\"left\"},\"line_alpha\":{\"value\":0.1},\"line_color\":{\"value\":\"#1f77b4\"},\"right\":{\"field\":\"right\"},\"top\":{\"field\":\"top\"}},\"id\":\"ee05a96d-8460-4a52-b722-7d625db99e6b\",\"type\":\"Quad\"},{\"attributes\":{},\"id\":\"c965a9f2-c997-431d-8ad4-865e7e23abd5\",\"type\":\"LinearScale\"},{\"attributes\":{\"bottom\":{\"value\":0},\"fill_alpha\":{\"value\":0.7},\"fill_color\":{\"value\":\"#abdda4\"},\"left\":{\"field\":\"left\"},\"line_color\":{\"value\":\"#033649\"},\"right\":{\"field\":\"right\"},\"top\":{\"field\":\"top\"}},\"id\":\"477fffea-890e-4386-b4f3-cc3ee57a42ca\",\"type\":\"Quad\"},{\"attributes\":{\"callback\":null,\"column_names\":[\"left\",\"right\",\"top\"],\"data\":{\"left\":{\"__ndarray__\":\"AAAAAAAohkBSuB6F64GLQFK4HoXrbZBAexSuR+Eak0CkcD0K18eVQM3MzMzMdJhA9ihcj8Ihm0AfhetRuM6dQKRwPQrXPaBAuB6F61GUoUDNzMzMzOqiQOJ6FK5HQaRA9ihcj8KXpUAK16NwPe6mQB+F61G4RKhANDMzMzObqUBI4XoUrvGqQFyPwvUoSKxAcT0K16OerUCG61G4HvWuQM3MzMzMJbBA16NwPQrRsEDiehSuR3yxQOxRuB6FJ7JA9ihcj8LSskA=\",\"dtype\":\"float64\",\"shape\":[25]},\"right\":{\"__ndarray__\":\"UrgeheuBi0BSuB6F622QQHsUrkfhGpNApHA9CtfHlUDNzMzMzHSYQPYoXI/CIZtAH4XrUbjOnUCkcD0K1z2gQLgehetRlKFAzczMzMzqokDiehSuR0GkQPYoXI/Cl6VACtejcD3upkAfhetRuESoQDQzMzMzm6lASOF6FK7xqkBcj8L1KEisQHE9Ctejnq1AhutRuB71rkDNzMzMzCWwQNejcD0K0bBA4noUrkd8sUDsUbgehSeyQPYoXI/C0rJAAAAAAAB+s0A=\",\"dtype\":\"float64\",\"shape\":[25]},\"top\":{\"__ndarray__\":\"wFoBawWsdT/AWgFrBax1P8BaAWsFrHU/wFoBawWsdT/AWgFrBax1P8BaAWsFrJU/cLHBxQYXmz9oL6G9hPaiPxAEQRAEQbA/FEVRFEVRtD9oL6G9hPayP8jcIXOHzK0/GIZhGIZhuD9wscHFBhe7PxRFURRFUbQ/EARBEARBsD8QBEEQBEGwPxRFURRFUbQ/yNwhc4fMrT9oL6G9hPaiP8BaAWsFrJU/AAAAAAAAAADAWgFrBax1PwAAAAAAAAAAwFoBawWsdT8=\",\"dtype\":\"float64\",\"shape\":[25]}}},\"id\":\"3e1179b9-ebaa-4852-87af-2899c2776422\",\"type\":\"ColumnDataSource\"},{\"attributes\":{\"bottom\":{\"value\":0},\"fill_color\":{\"value\":\"#2b83ba\"},\"left\":{\"field\":\"left\"},\"line_color\":{\"value\":\"#033649\"},\"right\":{\"field\":\"right\"},\"top\":{\"field\":\"top\"}},\"id\":\"e0ca82f0-a591-4094-8baf-4af875102fbc\",\"type\":\"Quad\"},{\"attributes\":{\"plot\":null,\"text\":\"Click on the legend to select different histogram\"},\"id\":\"a2472fdc-1c84-429d-b799-ecf164df4904\",\"type\":\"Title\"},{\"attributes\":{\"bottom\":{\"value\":0},\"fill_alpha\":{\"value\":0.1},\"fill_color\":{\"value\":\"#1f77b4\"},\"left\":{\"field\":\"left\"},\"line_alpha\":{\"value\":0.1},\"line_color\":{\"value\":\"#1f77b4\"},\"right\":{\"field\":\"right\"},\"top\":{\"field\":\"top\"}},\"id\":\"a4da636e-733e-4011-9ed9-05b9e2d0cd41\",\"type\":\"Quad\"},{\"attributes\":{\"callback\":null},\"id\":\"e84cc9bf-f71f-4908-82c9-438726e87819\",\"type\":\"DataRange1d\"},{\"attributes\":{\"bottom\":{\"value\":0},\"fill_color\":{\"value\":\"#abdda4\"},\"left\":{\"field\":\"left\"},\"line_color\":{\"value\":\"#033649\"},\"right\":{\"field\":\"right\"},\"top\":{\"field\":\"top\"}},\"id\":\"73099f06-0544-4a7e-80a4-531c73f45a62\",\"type\":\"Quad\"},{\"attributes\":{},\"id\":\"9e09c385-3047-4daf-b7de-f02e8396c64c\",\"type\":\"LinearScale\"},{\"attributes\":{\"label\":{\"value\":\"other\"},\"renderers\":[{\"id\":\"cdf62489-66d0-4904-a5f1-5e9c337aa698\",\"type\":\"GlyphRenderer\"}]},\"id\":\"66aa82ab-88bf-4248-bd2e-e704989f64cb\",\"type\":\"LegendItem\"},{\"attributes\":{\"callback\":null},\"id\":\"3e7f7e51-94e9-4e73-8d0e-dc92e1ac82eb\",\"type\":\"DataRange1d\"},{\"attributes\":{\"data_source\":{\"id\":\"81cfd4b7-e99f-459c-89d6-14eea63d403b\",\"type\":\"ColumnDataSource\"},\"glyph\":{\"id\":\"b2d3e987-38bd-46d5-959e-5644325e9359\",\"type\":\"Quad\"},\"hover_glyph\":{\"id\":\"e0ca82f0-a591-4094-8baf-4af875102fbc\",\"type\":\"Quad\"},\"muted_glyph\":null,\"nonselection_glyph\":{\"id\":\"ee05a96d-8460-4a52-b722-7d625db99e6b\",\"type\":\"Quad\"},\"selection_glyph\":null,\"view\":{\"id\":\"817a7250-325d-4259-878f-ebc591199ee5\",\"type\":\"CDSView\"}},\"id\":\"8d941441-a1a5-406a-a8a2-cf8b1773a427\",\"type\":\"GlyphRenderer\"}],\"root_ids\":[\"05d2765e-ce4c-4518-8d19-e5eb59686304\"]},\"title\":\"Bokeh Application\",\"version\":\"0.12.14\"}};\n",
       "  var render_items = [{\"docid\":\"78b02d7f-8779-48f8-887f-e4920185302d\",\"elementid\":\"df29ba9a-60b9-4480-9338-6418ec535a93\",\"modelid\":\"05d2765e-ce4c-4518-8d19-e5eb59686304\"}];\n",
       "  root.Bokeh.embed.embed_items_notebook(docs_json, render_items);\n",
       "\n",
       "  }\n",
       "  if (root.Bokeh !== undefined) {\n",
       "    embed_document(root);\n",
       "  } else {\n",
       "    var attempts = 0;\n",
       "    var timer = setInterval(function(root) {\n",
       "      if (root.Bokeh !== undefined) {\n",
       "        embed_document(root);\n",
       "        clearInterval(timer);\n",
       "      }\n",
       "      attempts++;\n",
       "      if (attempts > 100) {\n",
       "        console.log(\"Bokeh: ERROR: Unable to run BokehJS code because BokehJS library is missing\")\n",
       "        clearInterval(timer);\n",
       "      }\n",
       "    }, 10, root)\n",
       "  }\n",
       "})(window);"
      ],
      "application/vnd.bokehjs_exec.v0+json": ""
     },
     "metadata": {
      "application/vnd.bokehjs_exec.v0+json": {
       "id": "05d2765e-ce4c-4518-8d19-e5eb59686304"
      }
     },
     "output_type": "display_data"
    }
   ],
   "source": [
    "from bokeh.palettes import Spectral4\n",
    "from bokeh.models import Legend\n",
    "\n",
    "# Specify tooltips\n",
    "hover = HoverTool(tooltips=[\n",
    "    (\"Count\", \"@top\"),\n",
    "    (\"Left\", \"@left{(0.0)}\"),\n",
    "    (\"Right\", \"@right{(0.0)}\"),\n",
    "])\n",
    "\n",
    "legends = list()\n",
    "\n",
    "# Prepare data for all races\n",
    "birth_weight = df.bwt\n",
    "hist, edges = np.histogram(birth_weight, bins=25)\n",
    "percent = hist/len(birth_weight)\n",
    "\n",
    "# Fix the range of histogram\n",
    "range_start = edges[0]\n",
    "range_end = edges[-1]\n",
    "\n",
    "# Create Figure object, p_h\n",
    "p_h = figure(title=\"Click on the legend to select different histogram\", \n",
    "             plot_width=600, plot_height=400,\n",
    "          x_axis_label=\"Baby's birth Weight in Grams\",\n",
    "          y_axis_label=\"Percentage\")\n",
    "p_h.add_tools(hover)\n",
    "\n",
    "# Add a histogram of all races to p_h\n",
    "total = p_h.quad(top=percent, bottom=0, left=edges[:-1], right=edges[1:], \n",
    "       fill_color=\"#036564\", line_color=\"#033649\", fill_alpha = 0.7, \n",
    "       hover_fill_color=\"#036564\", hover_line_color=\"#033649\", hover_fill_alpha = 1.0)\n",
    "legends.append(('total', [total]))\n",
    "\n",
    "# For each races, subset the dataset and then add histogram to P_h\n",
    "for race_cat, color in zip(['white', 'black', 'other'], Spectral4):\n",
    "    birth_weight = df[df.race==race_cat].bwt\n",
    "    hist, edges = np.histogram(birth_weight, range=(range_start, range_end), bins=25)\n",
    "    percent = hist/len(birth_weight)\n",
    "    \n",
    "    l = p_h.quad(top=percent, bottom=0, left=edges[:-1], right=edges[1:],\n",
    "           fill_color=color, line_color=\"#033649\", fill_alpha = 0.7, \n",
    "           hover_fill_color=color, hover_line_color=\"#033649\", hover_fill_alpha = 1.0)\n",
    "    legends.append((race_cat, [l]))\n",
    "\n",
    "# Create Legend object\n",
    "legend = Legend(items=legends, location=(0, 217))    \n",
    "\n",
    "# Specify Legend Properties\n",
    "legend.click_policy=\"hide\"\n",
    "p_h.add_layout(legend, 'right')\n",
    "\n",
    "show(p_h)"
   ]
  },
  {
   "cell_type": "markdown",
   "metadata": {},
   "source": [
    "Now we plotted multiple Glyphs on the graph. What's more, this graph gives you more interactions with the data. Try to click on the legend beside the graph, you will find certain histogram disappeared after clicking on the legend. This is specified by `Legend.click_policy`"
   ]
  },
  {
   "cell_type": "markdown",
   "metadata": {},
   "source": [
    "#### Adding Tabs\n",
    "Tabs are important in designing dashboards. In this section, we will create another another linear regression graph on a different `Figure` object. We'll let the user which graph he or she wants to see by switching different tabs just as switching different tabs on a web browser."
   ]
  },
  {
   "cell_type": "code",
   "execution_count": 9,
   "metadata": {},
   "outputs": [
    {
     "data": {
      "text/html": [
       "\n",
       "<div class=\"bk-root\">\n",
       "    <div class=\"bk-plotdiv\" id=\"e324590a-92ce-43d6-b3bf-e7f631a84f82\"></div>\n",
       "</div>"
      ]
     },
     "metadata": {},
     "output_type": "display_data"
    },
    {
     "data": {
      "application/javascript": [
       "(function(root) {\n",
       "  function embed_document(root) {\n",
       "    \n",
       "  var docs_json = {\"ce6f960a-6217-4be6-9d2c-dc6d029f6c47\":{\"roots\":{\"references\":[{\"attributes\":{\"plot\":{\"id\":\"cccd3f4a-846e-4d0d-9e82-6cb9e28d88ab\",\"subtype\":\"Figure\",\"type\":\"Plot\"},\"ticker\":{\"id\":\"9e74d6e2-a923-4a9b-ac0e-b96edce7f935\",\"type\":\"BasicTicker\"}},\"id\":\"2260d94a-e15a-4af1-b21b-169c10c06703\",\"type\":\"Grid\"},{\"attributes\":{},\"id\":\"0a0ab960-9f5b-4f93-bd90-a75a10c4be85\",\"type\":\"BasicTickFormatter\"},{\"attributes\":{\"plot\":{\"id\":\"05d2765e-ce4c-4518-8d19-e5eb59686304\",\"subtype\":\"Figure\",\"type\":\"Plot\"},\"ticker\":{\"id\":\"9909c143-fea7-467e-90b8-1bb493da7813\",\"type\":\"BasicTicker\"}},\"id\":\"aef3c333-81a3-4083-8ac6-5dbb1097fa7b\",\"type\":\"Grid\"},{\"attributes\":{\"axis_label\":\"Baby's birth Weight in Grams\",\"formatter\":{\"id\":\"0a6f27ff-1833-4e96-b36d-a6f699f754e6\",\"type\":\"BasicTickFormatter\"},\"plot\":{\"id\":\"05d2765e-ce4c-4518-8d19-e5eb59686304\",\"subtype\":\"Figure\",\"type\":\"Plot\"},\"ticker\":{\"id\":\"9909c143-fea7-467e-90b8-1bb493da7813\",\"type\":\"BasicTicker\"}},\"id\":\"c0fe3959-c1d6-4d96-84f4-6ac99b87c599\",\"type\":\"LinearAxis\"},{\"attributes\":{\"axis_label\":\"Baby's birth Weight in Grams\",\"formatter\":{\"id\":\"704e9769-7e17-4258-9610-d68ea98f96cb\",\"type\":\"BasicTickFormatter\"},\"plot\":{\"id\":\"cccd3f4a-846e-4d0d-9e82-6cb9e28d88ab\",\"subtype\":\"Figure\",\"type\":\"Plot\"},\"ticker\":{\"id\":\"a716f09e-69e2-4de2-8605-86859001e99d\",\"type\":\"BasicTicker\"}},\"id\":\"9c52ed7a-a5b7-4795-bd48-6320b8e39c1e\",\"type\":\"LinearAxis\"},{\"attributes\":{},\"id\":\"9909c143-fea7-467e-90b8-1bb493da7813\",\"type\":\"BasicTicker\"},{\"attributes\":{\"axis_label\":\"Percentage\",\"formatter\":{\"id\":\"0a0ab960-9f5b-4f93-bd90-a75a10c4be85\",\"type\":\"BasicTickFormatter\"},\"plot\":{\"id\":\"05d2765e-ce4c-4518-8d19-e5eb59686304\",\"subtype\":\"Figure\",\"type\":\"Plot\"},\"ticker\":{\"id\":\"e969c105-4a8d-479c-86d8-7865a4991b8c\",\"type\":\"BasicTicker\"}},\"id\":\"3482e18e-4088-4545-8815-deb31c9d2c9c\",\"type\":\"LinearAxis\"},{\"attributes\":{},\"id\":\"e969c105-4a8d-479c-86d8-7865a4991b8c\",\"type\":\"BasicTicker\"},{\"attributes\":{\"dimension\":1,\"plot\":{\"id\":\"05d2765e-ce4c-4518-8d19-e5eb59686304\",\"subtype\":\"Figure\",\"type\":\"Plot\"},\"ticker\":{\"id\":\"e969c105-4a8d-479c-86d8-7865a4991b8c\",\"type\":\"BasicTicker\"}},\"id\":\"5ef12b30-e496-4f9c-8bd6-1d7e22d3140e\",\"type\":\"Grid\"},{\"attributes\":{\"bottom\":{\"value\":0},\"fill_color\":{\"value\":\"#036564\"},\"left\":{\"field\":\"left\"},\"line_color\":{\"value\":\"#033649\"},\"right\":{\"field\":\"right\"},\"top\":{\"field\":\"top\"}},\"id\":\"6951bf82-d432-4f0f-879b-8606f48c5a2c\",\"type\":\"Quad\"},{\"attributes\":{\"bottom\":{\"value\":0},\"fill_alpha\":{\"value\":0.1},\"fill_color\":{\"value\":\"#1f77b4\"},\"left\":{\"field\":\"left\"},\"line_alpha\":{\"value\":0.1},\"line_color\":{\"value\":\"#1f77b4\"},\"right\":{\"field\":\"right\"},\"top\":{\"field\":\"top\"}},\"id\":\"548bc6ea-29a4-44e6-b791-a21c1004f192\",\"type\":\"Quad\"},{\"attributes\":{\"bottom_units\":\"screen\",\"fill_alpha\":{\"value\":0.5},\"fill_color\":{\"value\":\"lightgrey\"},\"left_units\":\"screen\",\"level\":\"overlay\",\"line_alpha\":{\"value\":1.0},\"line_color\":{\"value\":\"black\"},\"line_dash\":[4,4],\"line_width\":{\"value\":2},\"plot\":null,\"render_mode\":\"css\",\"right_units\":\"screen\",\"top_units\":\"screen\"},\"id\":\"3cf717e8-b4e8-4285-bf1f-50662016b573\",\"type\":\"BoxAnnotation\"},{\"attributes\":{},\"id\":\"18bd82ab-9a0b-4b11-b893-e418a932346e\",\"type\":\"PanTool\"},{\"attributes\":{},\"id\":\"b277b748-9763-473e-b438-f6fa2a1b1626\",\"type\":\"WheelZoomTool\"},{\"attributes\":{\"overlay\":{\"id\":\"3cf717e8-b4e8-4285-bf1f-50662016b573\",\"type\":\"BoxAnnotation\"}},\"id\":\"95c099b4-3e76-484a-b91f-7af6b2f03580\",\"type\":\"BoxZoomTool\"},{\"attributes\":{\"dimension\":1,\"plot\":{\"id\":\"cccd3f4a-846e-4d0d-9e82-6cb9e28d88ab\",\"subtype\":\"Figure\",\"type\":\"Plot\"},\"ticker\":{\"id\":\"a716f09e-69e2-4de2-8605-86859001e99d\",\"type\":\"BasicTicker\"}},\"id\":\"0714ee56-8bcc-42dc-a2cd-02ce0f9a7d3e\",\"type\":\"Grid\"},{\"attributes\":{},\"id\":\"fef375ce-0344-4b49-ad30-481fa048421d\",\"type\":\"SaveTool\"},{\"attributes\":{\"callback\":null,\"column_names\":[\"x\",\"y\"],\"data\":{\"x\":[19,33,21,22,17,19,19,22,30,15,20,32,31,36,28,25,28,29,17,17,25,25,19,23,21,32,19,24,22,23,19,16,30,20,17,17,23,24,28,20,24,20,22,16,18,25,23,22,32,30,20,23,19,23,36,22,24,21,29,29,30,24,24,23,20,25,30,22,16,32,18,33,28,14,28,25,16,20,26,21,22,25,31,35,24,45,29,25,25,27,23,24,24,25,16,21,21,20,25,19,24,27,25,20,18,21,26,15,15,23,17,26,20,14,17],\"y\":[2523,2551,2622,2637,2637,2722,2733,2751,2750,2778,2807,2835,2835,2836,2863,2877,2877,2920,2920,2920,2977,2977,3062,3062,3062,3080,3090,3090,3100,3104,3175,3175,3203,3203,3225,3225,3232,3232,3234,3274,3274,3317,3317,3374,3402,3416,3459,3460,3473,3544,3487,3544,3572,3586,3600,3614,3614,3629,3651,3651,3699,3728,3770,3770,3770,3790,3799,3827,3860,3860,3884,3912,3941,3941,3969,3983,3997,3997,4054,4054,4111,4153,4167,4174,4593,4990,1021,1330,1474,1588,1588,1701,1729,1893,1899,1928,1970,2055,2055,2082,2100,2187,2240,2240,2282,2301,2325,2353,2381,2410,2438,2442,2450,2495,2495]}},\"id\":\"22809ed0-66a7-4369-8be7-e1d55c9547ea\",\"type\":\"ColumnDataSource\"},{\"attributes\":{},\"id\":\"9c191b19-ef2d-4552-b863-29e2cf7f656a\",\"type\":\"ResetTool\"},{\"attributes\":{},\"id\":\"b4a280d4-ad0a-4f9e-bc12-530c5746461e\",\"type\":\"HelpTool\"},{\"attributes\":{\"data_source\":{\"id\":\"3e1179b9-ebaa-4852-87af-2899c2776422\",\"type\":\"ColumnDataSource\"},\"glyph\":{\"id\":\"51c330d5-38e9-472e-8480-ce4bc8fbe32c\",\"type\":\"Quad\"},\"hover_glyph\":{\"id\":\"6951bf82-d432-4f0f-879b-8606f48c5a2c\",\"type\":\"Quad\"},\"muted_glyph\":null,\"nonselection_glyph\":{\"id\":\"548bc6ea-29a4-44e6-b791-a21c1004f192\",\"type\":\"Quad\"},\"selection_glyph\":null,\"view\":{\"id\":\"6047b671-5931-4f1c-a585-2461bcc8c479\",\"type\":\"CDSView\"}},\"id\":\"7f402d99-cd23-4d01-90ef-e012df00e3f0\",\"type\":\"GlyphRenderer\"},{\"attributes\":{\"bottom_units\":\"screen\",\"fill_alpha\":{\"value\":0.5},\"fill_color\":{\"value\":\"lightgrey\"},\"left_units\":\"screen\",\"level\":\"overlay\",\"line_alpha\":{\"value\":1.0},\"line_color\":{\"value\":\"black\"},\"line_dash\":[4,4],\"line_width\":{\"value\":2},\"plot\":null,\"render_mode\":\"css\",\"right_units\":\"screen\",\"top_units\":\"screen\"},\"id\":\"8dfba6a3-d206-430c-ba5e-27dc2a9aafec\",\"type\":\"BoxAnnotation\"},{\"attributes\":{},\"id\":\"220cec72-d354-4820-862d-4e010c6c5a62\",\"type\":\"PanTool\"},{\"attributes\":{\"source\":{\"id\":\"3e1179b9-ebaa-4852-87af-2899c2776422\",\"type\":\"ColumnDataSource\"}},\"id\":\"6047b671-5931-4f1c-a585-2461bcc8c479\",\"type\":\"CDSView\"},{\"attributes\":{},\"id\":\"6e87c50e-76ba-42e0-b807-c884bf673b36\",\"type\":\"WheelZoomTool\"},{\"attributes\":{\"overlay\":{\"id\":\"8dfba6a3-d206-430c-ba5e-27dc2a9aafec\",\"type\":\"BoxAnnotation\"}},\"id\":\"e43ee4ff-0984-40c2-afcf-807716ebb46e\",\"type\":\"BoxZoomTool\"},{\"attributes\":{\"callback\":null,\"column_names\":[\"left\",\"right\",\"top\"],\"data\":{\"left\":{\"__ndarray__\":\"AAAAAAAohkBSuB6F64GLQFK4HoXrbZBAexSuR+Eak0CkcD0K18eVQM3MzMzMdJhA9ihcj8Ihm0AfhetRuM6dQKRwPQrXPaBAuB6F61GUoUDNzMzMzOqiQOJ6FK5HQaRA9ihcj8KXpUAK16NwPe6mQB+F61G4RKhANDMzMzObqUBI4XoUrvGqQFyPwvUoSKxAcT0K16OerUCG61G4HvWuQM3MzMzMJbBA16NwPQrRsEDiehSuR3yxQOxRuB6FJ7JA9ihcj8LSskA=\",\"dtype\":\"float64\",\"shape\":[25]},\"right\":{\"__ndarray__\":\"UrgeheuBi0BSuB6F622QQHsUrkfhGpNApHA9CtfHlUDNzMzMzHSYQPYoXI/CIZtAH4XrUbjOnUCkcD0K1z2gQLgehetRlKFAzczMzMzqokDiehSuR0GkQPYoXI/Cl6VACtejcD3upkAfhetRuESoQDQzMzMzm6lASOF6FK7xqkBcj8L1KEisQHE9Ctejnq1AhutRuB71rkDNzMzMzCWwQNejcD0K0bBA4noUrkd8sUDsUbgehSeyQPYoXI/C0rJAAAAAAAB+s0A=\",\"dtype\":\"float64\",\"shape\":[25]},\"top\":{\"__ndarray__\":\"AAAAAAAAAAAAAAAAAAAAABQ7sRM7saM/AAAAAAAAAAAAAAAAAAAAABQ7sRM7saM/AAAAAAAAAAAUO7ETO7GjPxQ7sRM7sbM/FDuxEzuxwz+e2Imd2Im9PwAAAAAAAAAAFDuxEzuxwz8UO7ETO7HDPwAAAAAAAAAAFDuxEzuxwz8AAAAAAAAAABQ7sRM7saM/FDuxEzuxoz8AAAAAAAAAAAAAAAAAAAAAAAAAAAAAAAAAAAAAAAAAAAAAAAAAAAAAAAAAAAAAAAA=\",\"dtype\":\"float64\",\"shape\":[25]}}},\"id\":\"2baf76e1-29c9-4292-acf6-e5cd9773b7cb\",\"type\":\"ColumnDataSource\"},{\"attributes\":{},\"id\":\"41e0b45a-8a96-42bb-9dd4-8537b1e4fe97\",\"type\":\"SaveTool\"},{\"attributes\":{},\"id\":\"0a6f27ff-1833-4e96-b36d-a6f699f754e6\",\"type\":\"BasicTickFormatter\"},{\"attributes\":{},\"id\":\"9e74d6e2-a923-4a9b-ac0e-b96edce7f935\",\"type\":\"BasicTicker\"},{\"attributes\":{},\"id\":\"5233a1bd-41ef-4e66-a779-71d128879967\",\"type\":\"ResetTool\"},{\"attributes\":{\"callback\":null,\"column_names\":[\"left\",\"right\",\"top\"],\"data\":{\"left\":{\"__ndarray__\":\"AAAAAAAohkBSuB6F64GLQFK4HoXrbZBAexSuR+Eak0CkcD0K18eVQM3MzMzMdJhA9ihcj8Ihm0AfhetRuM6dQKRwPQrXPaBAuB6F61GUoUDNzMzMzOqiQOJ6FK5HQaRA9ihcj8KXpUAK16NwPe6mQB+F61G4RKhANDMzMzObqUBI4XoUrvGqQFyPwvUoSKxAcT0K16OerUCG61G4HvWuQM3MzMzMJbBA16NwPQrRsEDiehSuR3yxQOxRuB6FJ7JA9ihcj8LSskA=\",\"dtype\":\"float64\",\"shape\":[25]},\"right\":{\"__ndarray__\":\"UrgeheuBi0BSuB6F622QQHsUrkfhGpNApHA9CtfHlUDNzMzMzHSYQPYoXI/CIZtAH4XrUbjOnUCkcD0K1z2gQLgehetRlKFAzczMzMzqokDiehSuR0GkQPYoXI/Cl6VACtejcD3upkAfhetRuESoQDQzMzMzm6lASOF6FK7xqkBcj8L1KEisQHE9Ctejnq1AhutRuB71rkDNzMzMzCWwQNejcD0K0bBA4noUrkd8sUDsUbgehSeyQPYoXI/C0rJAAAAAAAB+s0A=\",\"dtype\":\"float64\",\"shape\":[25]},\"top\":{\"__ndarray__\":\"AAAAAAAAAABVVVVVVVWFPwAAAAAAAAAAAAAAAAAAAAAAAAAAAAAAAAAAAAAAAAAAAAAAAAAAoD8AAAAAAACgPwAAAAAAALA/AAAAAAAAsD+rqqqqqqqqP6uqqqqqqqo/q6qqqqqquj9VVVVVVVXBPwAAAAAAAKA/q6qqqqqqqj+rqqqqqqqyP1VVVVVVVb0/VVVVVVVVtT9VVVVVVVWlP1VVVVVVVaU/AAAAAAAAAABVVVVVVVWFPwAAAAAAAAAAVVVVVVVVhT8=\",\"dtype\":\"float64\",\"shape\":[25]}}},\"id\":\"81cfd4b7-e99f-459c-89d6-14eea63d403b\",\"type\":\"ColumnDataSource\"},{\"attributes\":{},\"id\":\"840f5999-3fd7-4984-be8b-c2bd8ee24abe\",\"type\":\"HelpTool\"},{\"attributes\":{\"fill_color\":{\"value\":\"#2b83ba\"},\"line_color\":{\"value\":\"#2b83ba\"},\"x\":{\"field\":\"x\"},\"y\":{\"field\":\"y\"}},\"id\":\"7ceded61-f9f4-4fff-9dfa-5c7505d7ac40\",\"type\":\"Circle\"},{\"attributes\":{\"axis_label\":\"Mother's age in years\",\"formatter\":{\"id\":\"9c7c9a9f-099b-495b-9f9c-24a484510422\",\"type\":\"BasicTickFormatter\"},\"plot\":{\"id\":\"cccd3f4a-846e-4d0d-9e82-6cb9e28d88ab\",\"subtype\":\"Figure\",\"type\":\"Plot\"},\"ticker\":{\"id\":\"9e74d6e2-a923-4a9b-ac0e-b96edce7f935\",\"type\":\"BasicTicker\"}},\"id\":\"becc5205-c8bf-46f8-ab43-67f381f543d6\",\"type\":\"LinearAxis\"},{\"attributes\":{\"bottom\":{\"value\":0},\"fill_alpha\":{\"value\":0.7},\"fill_color\":{\"value\":\"#2b83ba\"},\"left\":{\"field\":\"left\"},\"line_color\":{\"value\":\"#033649\"},\"right\":{\"field\":\"right\"},\"top\":{\"field\":\"top\"}},\"id\":\"b2d3e987-38bd-46d5-959e-5644325e9359\",\"type\":\"Quad\"},{\"attributes\":{\"bottom\":{\"value\":0},\"fill_alpha\":{\"value\":0.1},\"fill_color\":{\"value\":\"#1f77b4\"},\"left\":{\"field\":\"left\"},\"line_alpha\":{\"value\":0.1},\"line_color\":{\"value\":\"#1f77b4\"},\"right\":{\"field\":\"right\"},\"top\":{\"field\":\"top\"}},\"id\":\"ee05a96d-8460-4a52-b722-7d625db99e6b\",\"type\":\"Quad\"},{\"attributes\":{\"fill_alpha\":{\"value\":0.1},\"fill_color\":{\"value\":\"#1f77b4\"},\"line_alpha\":{\"value\":0.1},\"line_color\":{\"value\":\"#1f77b4\"},\"x\":{\"field\":\"x\"},\"y\":{\"field\":\"y\"}},\"id\":\"e17ce0c6-0591-4313-860e-5dcfa3a0727b\",\"type\":\"Circle\"},{\"attributes\":{\"bottom\":{\"value\":0},\"fill_alpha\":{\"value\":0.7},\"fill_color\":{\"value\":\"#abdda4\"},\"left\":{\"field\":\"left\"},\"line_color\":{\"value\":\"#033649\"},\"right\":{\"field\":\"right\"},\"top\":{\"field\":\"top\"}},\"id\":\"477fffea-890e-4386-b4f3-cc3ee57a42ca\",\"type\":\"Quad\"},{\"attributes\":{\"callback\":null,\"column_names\":[\"x\",\"y\"],\"data\":{\"x\":[20,21,18,29,26,18,18,25,28,17,26,24,35,29,19,27,31,33,21,18,18,22,22,30,21,26,28,22,31,23,16,32,20,17,19,25,16,19,19,19,18,29,20,19,28,34,21,32,19,25,20,24,19,26,17,20,22,20,17,18,20,31,23,20,24,30,22,17,23,26,14,28,23,21],\"y\":[2557,2594,2600,2663,2665,2769,2769,2782,2821,2906,2920,2948,2948,2977,2977,2922,3005,3033,3042,3062,3062,3090,3132,3147,3203,3260,3303,3317,3321,3331,3374,3430,3444,3572,3629,3637,3643,3651,3651,3756,3856,3884,3940,4238,709,1135,1790,1818,1885,1928,1928,1936,2084,2084,2125,2126,2187,2211,2225,2296,2296,2353,2367,2381,2381,2410,2410,2414,2424,2466,2466,2466,2495,2495]}},\"id\":\"4e6adba9-bfb9-466f-8b75-f4d83bfeb63d\",\"type\":\"ColumnDataSource\"},{\"attributes\":{\"bottom\":{\"value\":0},\"fill_color\":{\"value\":\"#2b83ba\"},\"left\":{\"field\":\"left\"},\"line_color\":{\"value\":\"#033649\"},\"right\":{\"field\":\"right\"},\"top\":{\"field\":\"top\"}},\"id\":\"e0ca82f0-a591-4094-8baf-4af875102fbc\",\"type\":\"Quad\"},{\"attributes\":{\"source\":{\"id\":\"22809ed0-66a7-4369-8be7-e1d55c9547ea\",\"type\":\"ColumnDataSource\"}},\"id\":\"d6a7915e-105f-49ed-b369-22cce8877964\",\"type\":\"CDSView\"},{\"attributes\":{\"bottom\":{\"value\":0},\"fill_alpha\":{\"value\":0.1},\"fill_color\":{\"value\":\"#1f77b4\"},\"left\":{\"field\":\"left\"},\"line_alpha\":{\"value\":0.1},\"line_color\":{\"value\":\"#1f77b4\"},\"right\":{\"field\":\"right\"},\"top\":{\"field\":\"top\"}},\"id\":\"a4da636e-733e-4011-9ed9-05b9e2d0cd41\",\"type\":\"Quad\"},{\"attributes\":{\"below\":[{\"id\":\"becc5205-c8bf-46f8-ab43-67f381f543d6\",\"type\":\"LinearAxis\"}],\"left\":[{\"id\":\"9c52ed7a-a5b7-4795-bd48-6320b8e39c1e\",\"type\":\"LinearAxis\"}],\"plot_height\":400,\"renderers\":[{\"id\":\"becc5205-c8bf-46f8-ab43-67f381f543d6\",\"type\":\"LinearAxis\"},{\"id\":\"2260d94a-e15a-4af1-b21b-169c10c06703\",\"type\":\"Grid\"},{\"id\":\"9c52ed7a-a5b7-4795-bd48-6320b8e39c1e\",\"type\":\"LinearAxis\"},{\"id\":\"0714ee56-8bcc-42dc-a2cd-02ce0f9a7d3e\",\"type\":\"Grid\"},{\"id\":\"8dfba6a3-d206-430c-ba5e-27dc2a9aafec\",\"type\":\"BoxAnnotation\"},{\"id\":\"3c768f6f-ec7c-4837-b025-b816cd8d1708\",\"type\":\"Legend\"},{\"id\":\"1844b9a6-0a16-464e-820f-9f024239b8b5\",\"type\":\"GlyphRenderer\"},{\"id\":\"1434f420-21a9-4ea8-9075-2848f0e95de8\",\"type\":\"GlyphRenderer\"},{\"id\":\"cd31c2db-ab94-4e2f-9a18-5d594c18a2e9\",\"type\":\"GlyphRenderer\"},{\"id\":\"b4714c5f-4359-4b50-a151-0d99c608c6ce\",\"type\":\"GlyphRenderer\"}],\"title\":{\"id\":\"0577c002-e27e-410b-b812-32a0e5e1b23d\",\"type\":\"Title\"},\"toolbar\":{\"id\":\"a0ebadaf-6b3b-415f-8389-536924b3d1b7\",\"type\":\"Toolbar\"},\"x_range\":{\"id\":\"2a3d6e99-29bb-4183-a9e8-8887088ff190\",\"type\":\"DataRange1d\"},\"x_scale\":{\"id\":\"1c9198b4-6eb7-4994-95de-ea68c06b48c1\",\"type\":\"LinearScale\"},\"y_range\":{\"id\":\"c64db30d-122d-46bb-8702-131c85d7a518\",\"type\":\"DataRange1d\"},\"y_scale\":{\"id\":\"6fdfb9b0-04f1-4621-bbbe-cab621883cec\",\"type\":\"LinearScale\"}},\"id\":\"cccd3f4a-846e-4d0d-9e82-6cb9e28d88ab\",\"subtype\":\"Figure\",\"type\":\"Plot\"},{\"attributes\":{\"data_source\":{\"id\":\"22809ed0-66a7-4369-8be7-e1d55c9547ea\",\"type\":\"ColumnDataSource\"},\"glyph\":{\"id\":\"7ceded61-f9f4-4fff-9dfa-5c7505d7ac40\",\"type\":\"Circle\"},\"hover_glyph\":null,\"muted_glyph\":null,\"nonselection_glyph\":{\"id\":\"e17ce0c6-0591-4313-860e-5dcfa3a0727b\",\"type\":\"Circle\"},\"selection_glyph\":null,\"view\":{\"id\":\"d6a7915e-105f-49ed-b369-22cce8877964\",\"type\":\"CDSView\"}},\"id\":\"1844b9a6-0a16-464e-820f-9f024239b8b5\",\"type\":\"GlyphRenderer\"},{\"attributes\":{\"bottom\":{\"value\":0},\"fill_color\":{\"value\":\"#abdda4\"},\"left\":{\"field\":\"left\"},\"line_color\":{\"value\":\"#033649\"},\"right\":{\"field\":\"right\"},\"top\":{\"field\":\"top\"}},\"id\":\"73099f06-0544-4a7e-80a4-531c73f45a62\",\"type\":\"Quad\"},{\"attributes\":{},\"id\":\"9c7c9a9f-099b-495b-9f9c-24a484510422\",\"type\":\"BasicTickFormatter\"},{\"attributes\":{\"plot\":null,\"text\":\"Linear Regression on smoking and Baby's birth Weight\"},\"id\":\"0577c002-e27e-410b-b812-32a0e5e1b23d\",\"type\":\"Title\"},{\"attributes\":{\"label\":{\"value\":\"other\"},\"renderers\":[{\"id\":\"cdf62489-66d0-4904-a5f1-5e9c337aa698\",\"type\":\"GlyphRenderer\"}]},\"id\":\"66aa82ab-88bf-4248-bd2e-e704989f64cb\",\"type\":\"LegendItem\"},{\"attributes\":{\"data_source\":{\"id\":\"81cfd4b7-e99f-459c-89d6-14eea63d403b\",\"type\":\"ColumnDataSource\"},\"glyph\":{\"id\":\"b2d3e987-38bd-46d5-959e-5644325e9359\",\"type\":\"Quad\"},\"hover_glyph\":{\"id\":\"e0ca82f0-a591-4094-8baf-4af875102fbc\",\"type\":\"Quad\"},\"muted_glyph\":null,\"nonselection_glyph\":{\"id\":\"ee05a96d-8460-4a52-b722-7d625db99e6b\",\"type\":\"Quad\"},\"selection_glyph\":null,\"view\":{\"id\":\"817a7250-325d-4259-878f-ebc591199ee5\",\"type\":\"CDSView\"}},\"id\":\"8d941441-a1a5-406a-a8a2-cf8b1773a427\",\"type\":\"GlyphRenderer\"},{\"attributes\":{},\"id\":\"704e9769-7e17-4258-9610-d68ea98f96cb\",\"type\":\"BasicTickFormatter\"},{\"attributes\":{\"callback\":null},\"id\":\"2a3d6e99-29bb-4183-a9e8-8887088ff190\",\"type\":\"DataRange1d\"},{\"attributes\":{\"click_policy\":\"hide\",\"items\":[{\"id\":\"ee69a583-5828-492a-a0d3-abfc59caaf0f\",\"type\":\"LegendItem\"},{\"id\":\"6fd2ccdf-7450-4b75-8dbe-c30fd3dcd605\",\"type\":\"LegendItem\"}],\"plot\":{\"id\":\"cccd3f4a-846e-4d0d-9e82-6cb9e28d88ab\",\"subtype\":\"Figure\",\"type\":\"Plot\"}},\"id\":\"3c768f6f-ec7c-4837-b025-b816cd8d1708\",\"type\":\"Legend\"},{\"attributes\":{},\"id\":\"1c9198b4-6eb7-4994-95de-ea68c06b48c1\",\"type\":\"LinearScale\"},{\"attributes\":{\"source\":{\"id\":\"81cfd4b7-e99f-459c-89d6-14eea63d403b\",\"type\":\"ColumnDataSource\"}},\"id\":\"817a7250-325d-4259-878f-ebc591199ee5\",\"type\":\"CDSView\"},{\"attributes\":{\"callback\":null,\"column_names\":[\"x\",\"y\"],\"data\":{\"x\":{\"__ndarray__\":\"AAAAAAAALEBEY31orA8tQIjG+tBYHy5AzCl4OQUvL0CIxvrQWB8wQCp4OQUvpzBAzCl4OQUvMUBu27Zt27YxQBCN9aGxPjJAsj401ofGMkBU8HIKXk4zQPahsT401jNAmFPwcgpeNEA6BS+n4OU0QNy2bdu2bTVAfmisD431NUAgGutDY302QMLLKXg5BTdAZH1orA+NN0AGL6fg5RQ4QKjg5RS8nDhASpIkSZIkOUDsQ2N9aKw5QI71obE+NDpAL6fg5RS8OkDRWB8a60M7QHMKXk7ByztAFbycgpdTPEC3bdu2bds8QFkfGutDYz1A+9BYHxrrPUCdgpdT8HI+QD801ofG+j5A4eUUvJyCP0DCyyl4OQVAQJIkSZIkSUBAZH1orA+NQEA01ofG+tBAQAYvp+DlFEFA1ofG+tBYQUCo4OUUvJxBQHg5BS+n4EFASpIkSZIkQkAa60NjfWhCQOxDY31orEJAvJyCl1PwQkCO9aGxPjRDQF5OwcspeENAL6fg5RS8Q0AAAAAAAABEQA==\",\"dtype\":\"float64\",\"shape\":[50]},\"y\":{\"__ndarray__\":\"hiazM5jUpUCZqOkUBvKlQKsqIPZzD6ZAvqxW1+EspkDQLo24T0qmQOOww5m9Z6ZA9jL6eiuFpkAItTBcmaKmQBs3Zz0HwKZALrmdHnXdpkBAO9T/4vqmQFO9CuFQGKdAZT9Bwr41p0B4wXejLFOnQIpDroSacKdAncXkZQiOp0CwRxtHdqunQMLJUSjkyKdA1UuICVLmp0Dozb7qvwOoQPpP9cstIahADdIrrZs+qEAfVGKOCVyoQDLWmG93eahARFjPUOWWqEBX2gUyU7SoQGpcPBPB0ahAfN5y9C7vqECOYKnVnAypQKHi37YKKqlAtGQWmHhHqUDG5kx55mSpQNlog1pUgqlA7Oq5O8KfqUD+bPAcML2pQBDvJv6d2qlAJHFd3wv4qUA285PAeRWqQEl1yqHnMqpAW/cAg1VQqkBueTdkw22qQID7bUUxi6pAk32kJp+oqkCl/9oHDcaqQLiBEel646pAygNIyugAq0DehX6rVh6rQPAHtYzEO6tAAorrbTJZq0AVDCJPoHarQA==\",\"dtype\":\"float64\",\"shape\":[50]}}},\"id\":\"51024661-f903-43cf-bd1f-33b84ba4a42a\",\"type\":\"ColumnDataSource\"},{\"attributes\":{\"callback\":null,\"column_names\":[\"left\",\"right\",\"top\"],\"data\":{\"left\":{\"__ndarray__\":\"AAAAAAAohkBSuB6F64GLQFK4HoXrbZBAexSuR+Eak0CkcD0K18eVQM3MzMzMdJhA9ihcj8Ihm0AfhetRuM6dQKRwPQrXPaBAuB6F61GUoUDNzMzMzOqiQOJ6FK5HQaRA9ihcj8KXpUAK16NwPe6mQB+F61G4RKhANDMzMzObqUBI4XoUrvGqQFyPwvUoSKxAcT0K16OerUCG61G4HvWuQM3MzMzMJbBA16NwPQrRsEDiehSuR3yxQOxRuB6FJ7JA9ihcj8LSskA=\",\"dtype\":\"float64\",\"shape\":[25]},\"right\":{\"__ndarray__\":\"UrgeheuBi0BSuB6F622QQHsUrkfhGpNApHA9CtfHlUDNzMzMzHSYQPYoXI/CIZtAH4XrUbjOnUCkcD0K1z2gQLgehetRlKFAzczMzMzqokDiehSuR0GkQPYoXI/Cl6VACtejcD3upkAfhetRuESoQDQzMzMzm6lASOF6FK7xqkBcj8L1KEisQHE9Ctejnq1AhutRuB71rkDNzMzMzCWwQNejcD0K0bBA4noUrkd8sUDsUbgehSeyQPYoXI/C0rJAAAAAAAB+s0A=\",\"dtype\":\"float64\",\"shape\":[25]},\"top\":{\"__ndarray__\":\"Z7fwqzGRjj8AAAAAAAAAAAAAAAAAAAAAZ7fwqzGRjj9nt/CrMZGOP42J9EDl7KY/Z7fwqzGRnj+NifRA5eymP2e38Ksxka4/oHJ2C78asz+NifRA5ey2P42J9EDl7LY/Z7fwqzGRrj+NifRA5eymP42J9EDl7MY/jYn0QOXspj+gcnYLvxqzP42J9EDl7KY/Z7fwqzGRnj+NifRA5eymPwAAAAAAAAAAAAAAAAAAAAAAAAAAAAAAAAAAAAAAAAAAAAAAAAAAAAA=\",\"dtype\":\"float64\",\"shape\":[25]}}},\"id\":\"e8a1fc5e-28fe-4404-a142-a08c9dc54bba\",\"type\":\"ColumnDataSource\"},{\"attributes\":{\"data_source\":{\"id\":\"4e6adba9-bfb9-466f-8b75-f4d83bfeb63d\",\"type\":\"ColumnDataSource\"},\"glyph\":{\"id\":\"b6610b12-3c95-4957-a012-96e9b17e9e51\",\"type\":\"Square\"},\"hover_glyph\":null,\"muted_glyph\":null,\"nonselection_glyph\":{\"id\":\"9608d81e-666f-4ae8-b6bd-e2465a19f333\",\"type\":\"Square\"},\"selection_glyph\":null,\"view\":{\"id\":\"5f489fa5-091c-4428-ab68-2218e0954c14\",\"type\":\"CDSView\"}},\"id\":\"1434f420-21a9-4ea8-9075-2848f0e95de8\",\"type\":\"GlyphRenderer\"},{\"attributes\":{\"label\":{\"value\":\"mother does not smoke\"},\"renderers\":[{\"id\":\"1844b9a6-0a16-464e-820f-9f024239b8b5\",\"type\":\"GlyphRenderer\"},{\"id\":\"cd31c2db-ab94-4e2f-9a18-5d594c18a2e9\",\"type\":\"GlyphRenderer\"}]},\"id\":\"ee69a583-5828-492a-a0d3-abfc59caaf0f\",\"type\":\"LegendItem\"},{\"attributes\":{\"bottom\":{\"value\":0},\"fill_alpha\":{\"value\":0.1},\"fill_color\":{\"value\":\"#1f77b4\"},\"left\":{\"field\":\"left\"},\"line_alpha\":{\"value\":0.1},\"line_color\":{\"value\":\"#1f77b4\"},\"right\":{\"field\":\"right\"},\"top\":{\"field\":\"top\"}},\"id\":\"31a0e215-6030-45f8-aa0e-d478196a5744\",\"type\":\"Quad\"},{\"attributes\":{\"active_drag\":\"auto\",\"active_inspect\":\"auto\",\"active_scroll\":\"auto\",\"active_tap\":\"auto\",\"tools\":[{\"id\":\"220cec72-d354-4820-862d-4e010c6c5a62\",\"type\":\"PanTool\"},{\"id\":\"6e87c50e-76ba-42e0-b807-c884bf673b36\",\"type\":\"WheelZoomTool\"},{\"id\":\"e43ee4ff-0984-40c2-afcf-807716ebb46e\",\"type\":\"BoxZoomTool\"},{\"id\":\"41e0b45a-8a96-42bb-9dd4-8537b1e4fe97\",\"type\":\"SaveTool\"},{\"id\":\"5233a1bd-41ef-4e66-a779-71d128879967\",\"type\":\"ResetTool\"},{\"id\":\"840f5999-3fd7-4984-be8b-c2bd8ee24abe\",\"type\":\"HelpTool\"}]},\"id\":\"a0ebadaf-6b3b-415f-8389-536924b3d1b7\",\"type\":\"Toolbar\"},{\"attributes\":{\"fill_alpha\":{\"value\":0.1},\"fill_color\":{\"value\":\"#1f77b4\"},\"line_alpha\":{\"value\":0.1},\"line_color\":{\"value\":\"#1f77b4\"},\"x\":{\"field\":\"x\"},\"y\":{\"field\":\"y\"}},\"id\":\"9608d81e-666f-4ae8-b6bd-e2465a19f333\",\"type\":\"Square\"},{\"attributes\":{\"bottom\":{\"value\":0},\"fill_alpha\":{\"value\":0.7},\"fill_color\":{\"value\":\"#fdae61\"},\"left\":{\"field\":\"left\"},\"line_color\":{\"value\":\"#033649\"},\"right\":{\"field\":\"right\"},\"top\":{\"field\":\"top\"}},\"id\":\"3f25a4a0-df69-4bbf-9f79-81ff4cb6b9dd\",\"type\":\"Quad\"},{\"attributes\":{\"data_source\":{\"id\":\"2baf76e1-29c9-4292-acf6-e5cd9773b7cb\",\"type\":\"ColumnDataSource\"},\"glyph\":{\"id\":\"477fffea-890e-4386-b4f3-cc3ee57a42ca\",\"type\":\"Quad\"},\"hover_glyph\":{\"id\":\"73099f06-0544-4a7e-80a4-531c73f45a62\",\"type\":\"Quad\"},\"muted_glyph\":null,\"nonselection_glyph\":{\"id\":\"31a0e215-6030-45f8-aa0e-d478196a5744\",\"type\":\"Quad\"},\"selection_glyph\":null,\"view\":{\"id\":\"38d73137-2e00-44f6-842c-fee5c2c986a1\",\"type\":\"CDSView\"}},\"id\":\"93f32eac-2071-42de-b599-ac46837ed84e\",\"type\":\"GlyphRenderer\"},{\"attributes\":{\"source\":{\"id\":\"2baf76e1-29c9-4292-acf6-e5cd9773b7cb\",\"type\":\"ColumnDataSource\"}},\"id\":\"38d73137-2e00-44f6-842c-fee5c2c986a1\",\"type\":\"CDSView\"},{\"attributes\":{\"callback\":null},\"id\":\"c64db30d-122d-46bb-8702-131c85d7a518\",\"type\":\"DataRange1d\"},{\"attributes\":{\"child\":{\"id\":\"05d2765e-ce4c-4518-8d19-e5eb59686304\",\"subtype\":\"Figure\",\"type\":\"Plot\"},\"title\":\"Histogram\"},\"id\":\"c0e116f0-db7c-4b99-9daa-813d2d26c74d\",\"type\":\"Panel\"},{\"attributes\":{\"fill_color\":{\"value\":\"#abdda4\"},\"line_color\":{\"value\":\"#abdda4\"},\"x\":{\"field\":\"x\"},\"y\":{\"field\":\"y\"}},\"id\":\"b6610b12-3c95-4957-a012-96e9b17e9e51\",\"type\":\"Square\"},{\"attributes\":{\"source\":{\"id\":\"4e6adba9-bfb9-466f-8b75-f4d83bfeb63d\",\"type\":\"ColumnDataSource\"}},\"id\":\"5f489fa5-091c-4428-ab68-2218e0954c14\",\"type\":\"CDSView\"},{\"attributes\":{\"bottom\":{\"value\":0},\"fill_color\":{\"value\":\"#fdae61\"},\"left\":{\"field\":\"left\"},\"line_color\":{\"value\":\"#033649\"},\"right\":{\"field\":\"right\"},\"top\":{\"field\":\"top\"}},\"id\":\"b10fcacf-6ee9-4976-a7ad-9152c954c180\",\"type\":\"Quad\"},{\"attributes\":{\"callback\":null,\"column_names\":[\"x\",\"y\"],\"data\":{\"x\":{\"__ndarray__\":\"AAAAAAAALEBEY31orA8tQIjG+tBYHy5AzCl4OQUvL0CIxvrQWB8wQCp4OQUvpzBAzCl4OQUvMUBu27Zt27YxQBCN9aGxPjJAsj401ofGMkBU8HIKXk4zQPahsT401jNAmFPwcgpeNEA6BS+n4OU0QNy2bdu2bTVAfmisD431NUAgGutDY302QMLLKXg5BTdAZH1orA+NN0AGL6fg5RQ4QKjg5RS8nDhASpIkSZIkOUDsQ2N9aKw5QI71obE+NDpAL6fg5RS8OkDRWB8a60M7QHMKXk7ByztAFbycgpdTPEC3bdu2bds8QFkfGutDYz1A+9BYHxrrPUCdgpdT8HI+QD801ofG+j5A4eUUvJyCP0DCyyl4OQVAQJIkSZIkSUBAZH1orA+NQEA01ofG+tBAQAYvp+DlFEFA1ofG+tBYQUCo4OUUvJxBQHg5BS+n4EFASpIkSZIkQkAa60NjfWhCQOxDY31orEJAvJyCl1PwQkCO9aGxPjRDQF5OwcspeENAL6fg5RS8Q0AAAAAAAABEQA==\",\"dtype\":\"float64\",\"shape\":[50]},\"y\":{\"__ndarray__\":\"BQ0XQe74pkAZ4MPH7+SmQC6zcE7x0KZAQoYd1fK8pkBWWcpb9KimQGssd+L1lKZAgP8jafeApkCU0tDv+GymQKilfXb6WKZAvXgq/ftEpkDRS9eD/TCmQOYehAr/HKZA+vEwkQAJpkAPxd0XAvWlQCOYip4D4aVAOGs3JQXNpUBMPuSrBrmlQGARkTIIpaVAdeQ9uQmRpUCJt+o/C32lQJ6Kl8YMaaVAsl1ETQ5VpUDHMPHTD0GlQNsDnloRLaVA8NZK4RIZpUAEqvdnFAWlQBl9pO4V8aRALVBRdRfdpEBCI/77GMmkQFb2qoIataRAaslXCRyhpEB/nASQHY2kQJRvsRYfeaRAqEJenSBlpEC8FQskIlGkQNHot6ojPaRA5btkMSUppED6jhG4JhWkQA5ivj4oAaRAIzVrxSnto0A3CBhMK9mjQEzbxNIsxaNAYK5xWS6xo0B1gR7gL52jQIlUy2YxiaNAnid47TJ1o0Cy+iR0NGGjQMbN0fo1TaNA26B+gTc5o0DwcysIOSWjQA==\",\"dtype\":\"float64\",\"shape\":[50]}}},\"id\":\"82fb5571-33aa-4ac8-b9ea-ca5f86ba7d3b\",\"type\":\"ColumnDataSource\"},{\"attributes\":{\"data_source\":{\"id\":\"e8a1fc5e-28fe-4404-a142-a08c9dc54bba\",\"type\":\"ColumnDataSource\"},\"glyph\":{\"id\":\"3f25a4a0-df69-4bbf-9f79-81ff4cb6b9dd\",\"type\":\"Quad\"},\"hover_glyph\":{\"id\":\"b10fcacf-6ee9-4976-a7ad-9152c954c180\",\"type\":\"Quad\"},\"muted_glyph\":null,\"nonselection_glyph\":{\"id\":\"a4da636e-733e-4011-9ed9-05b9e2d0cd41\",\"type\":\"Quad\"},\"selection_glyph\":null,\"view\":{\"id\":\"431311d3-e848-4bdd-97a4-2665975af32d\",\"type\":\"CDSView\"}},\"id\":\"cdf62489-66d0-4904-a5f1-5e9c337aa698\",\"type\":\"GlyphRenderer\"},{\"attributes\":{\"label\":{\"value\":\"mother smokes\"},\"renderers\":[{\"id\":\"1434f420-21a9-4ea8-9075-2848f0e95de8\",\"type\":\"GlyphRenderer\"},{\"id\":\"b4714c5f-4359-4b50-a151-0d99c608c6ce\",\"type\":\"GlyphRenderer\"}]},\"id\":\"6fd2ccdf-7450-4b75-8dbe-c30fd3dcd605\",\"type\":\"LegendItem\"},{\"attributes\":{\"source\":{\"id\":\"51024661-f903-43cf-bd1f-33b84ba4a42a\",\"type\":\"ColumnDataSource\"}},\"id\":\"12935823-0b71-4b26-bfcf-1cfc79a19f30\",\"type\":\"CDSView\"},{\"attributes\":{\"source\":{\"id\":\"e8a1fc5e-28fe-4404-a142-a08c9dc54bba\",\"type\":\"ColumnDataSource\"}},\"id\":\"431311d3-e848-4bdd-97a4-2665975af32d\",\"type\":\"CDSView\"},{\"attributes\":{\"data_source\":{\"id\":\"51024661-f903-43cf-bd1f-33b84ba4a42a\",\"type\":\"ColumnDataSource\"},\"glyph\":{\"id\":\"75995324-6a57-4c9b-9ab3-260a533e3528\",\"type\":\"Line\"},\"hover_glyph\":null,\"muted_glyph\":null,\"nonselection_glyph\":{\"id\":\"26ae6cb0-3f71-4779-86ab-e7f7a77660f9\",\"type\":\"Line\"},\"selection_glyph\":null,\"view\":{\"id\":\"12935823-0b71-4b26-bfcf-1cfc79a19f30\",\"type\":\"CDSView\"}},\"id\":\"cd31c2db-ab94-4e2f-9a18-5d594c18a2e9\",\"type\":\"GlyphRenderer\"},{\"attributes\":{\"callback\":null,\"tabs\":[{\"id\":\"d9c434f3-1733-44a2-b178-cfafad2542a8\",\"type\":\"Panel\"},{\"id\":\"c0e116f0-db7c-4b99-9daa-813d2d26c74d\",\"type\":\"Panel\"}]},\"id\":\"4ddf5c1a-0a63-47a0-b3f2-51c0c208bd34\",\"type\":\"Tabs\"},{\"attributes\":{\"label\":{\"value\":\"black\"},\"renderers\":[{\"id\":\"93f32eac-2071-42de-b599-ac46837ed84e\",\"type\":\"GlyphRenderer\"}]},\"id\":\"8a497972-6e7d-49c7-a185-7708d983a63c\",\"type\":\"LegendItem\"},{\"attributes\":{\"line_color\":\"#2b83ba\",\"line_width\":3,\"x\":{\"field\":\"x\"},\"y\":{\"field\":\"y\"}},\"id\":\"75995324-6a57-4c9b-9ab3-260a533e3528\",\"type\":\"Line\"},{\"attributes\":{\"label\":{\"value\":\"total\"},\"renderers\":[{\"id\":\"7f402d99-cd23-4d01-90ef-e012df00e3f0\",\"type\":\"GlyphRenderer\"}]},\"id\":\"8e055200-7b86-4c2a-848a-4139ec772b6a\",\"type\":\"LegendItem\"},{\"attributes\":{\"line_alpha\":0.1,\"line_color\":\"#1f77b4\",\"line_width\":3,\"x\":{\"field\":\"x\"},\"y\":{\"field\":\"y\"}},\"id\":\"26ae6cb0-3f71-4779-86ab-e7f7a77660f9\",\"type\":\"Line\"},{\"attributes\":{\"label\":{\"value\":\"white\"},\"renderers\":[{\"id\":\"8d941441-a1a5-406a-a8a2-cf8b1773a427\",\"type\":\"GlyphRenderer\"}]},\"id\":\"4cc40d9d-a621-477a-95dd-0006f31b53b8\",\"type\":\"LegendItem\"},{\"attributes\":{},\"id\":\"6fdfb9b0-04f1-4621-bbbe-cab621883cec\",\"type\":\"LinearScale\"},{\"attributes\":{\"line_color\":\"#abdda4\",\"line_width\":3,\"x\":{\"field\":\"x\"},\"y\":{\"field\":\"y\"}},\"id\":\"4b59a4f0-4bec-4892-8ff1-8f766df71593\",\"type\":\"Line\"},{\"attributes\":{\"source\":{\"id\":\"82fb5571-33aa-4ac8-b9ea-ca5f86ba7d3b\",\"type\":\"ColumnDataSource\"}},\"id\":\"dfb3e41f-9a64-4364-b0ed-f96d545c2e8c\",\"type\":\"CDSView\"},{\"attributes\":{\"child\":{\"id\":\"cccd3f4a-846e-4d0d-9e82-6cb9e28d88ab\",\"subtype\":\"Figure\",\"type\":\"Plot\"},\"title\":\"Linear Regression\"},\"id\":\"d9c434f3-1733-44a2-b178-cfafad2542a8\",\"type\":\"Panel\"},{\"attributes\":{\"line_alpha\":0.1,\"line_color\":\"#1f77b4\",\"line_width\":3,\"x\":{\"field\":\"x\"},\"y\":{\"field\":\"y\"}},\"id\":\"44e212de-9cae-4bb5-9b78-edb9280cc4db\",\"type\":\"Line\"},{\"attributes\":{\"data_source\":{\"id\":\"82fb5571-33aa-4ac8-b9ea-ca5f86ba7d3b\",\"type\":\"ColumnDataSource\"},\"glyph\":{\"id\":\"4b59a4f0-4bec-4892-8ff1-8f766df71593\",\"type\":\"Line\"},\"hover_glyph\":null,\"muted_glyph\":null,\"nonselection_glyph\":{\"id\":\"44e212de-9cae-4bb5-9b78-edb9280cc4db\",\"type\":\"Line\"},\"selection_glyph\":null,\"view\":{\"id\":\"dfb3e41f-9a64-4364-b0ed-f96d545c2e8c\",\"type\":\"CDSView\"}},\"id\":\"b4714c5f-4359-4b50-a151-0d99c608c6ce\",\"type\":\"GlyphRenderer\"},{\"attributes\":{},\"id\":\"a716f09e-69e2-4de2-8605-86859001e99d\",\"type\":\"BasicTicker\"},{\"attributes\":{\"below\":[{\"id\":\"c0fe3959-c1d6-4d96-84f4-6ac99b87c599\",\"type\":\"LinearAxis\"}],\"left\":[{\"id\":\"3482e18e-4088-4545-8815-deb31c9d2c9c\",\"type\":\"LinearAxis\"}],\"plot_height\":400,\"renderers\":[{\"id\":\"c0fe3959-c1d6-4d96-84f4-6ac99b87c599\",\"type\":\"LinearAxis\"},{\"id\":\"aef3c333-81a3-4083-8ac6-5dbb1097fa7b\",\"type\":\"Grid\"},{\"id\":\"3482e18e-4088-4545-8815-deb31c9d2c9c\",\"type\":\"LinearAxis\"},{\"id\":\"5ef12b30-e496-4f9c-8bd6-1d7e22d3140e\",\"type\":\"Grid\"},{\"id\":\"3cf717e8-b4e8-4285-bf1f-50662016b573\",\"type\":\"BoxAnnotation\"},{\"id\":\"7f402d99-cd23-4d01-90ef-e012df00e3f0\",\"type\":\"GlyphRenderer\"},{\"id\":\"8d941441-a1a5-406a-a8a2-cf8b1773a427\",\"type\":\"GlyphRenderer\"},{\"id\":\"93f32eac-2071-42de-b599-ac46837ed84e\",\"type\":\"GlyphRenderer\"},{\"id\":\"cdf62489-66d0-4904-a5f1-5e9c337aa698\",\"type\":\"GlyphRenderer\"},{\"id\":\"26125d6a-9f03-457a-bfc0-320328359da9\",\"type\":\"Legend\"}],\"right\":[{\"id\":\"26125d6a-9f03-457a-bfc0-320328359da9\",\"type\":\"Legend\"}],\"title\":{\"id\":\"a2472fdc-1c84-429d-b799-ecf164df4904\",\"type\":\"Title\"},\"toolbar\":{\"id\":\"c3d78d0e-6ccc-47d9-aa27-f51a2db07f37\",\"type\":\"Toolbar\"},\"x_range\":{\"id\":\"e84cc9bf-f71f-4908-82c9-438726e87819\",\"type\":\"DataRange1d\"},\"x_scale\":{\"id\":\"9e09c385-3047-4daf-b7de-f02e8396c64c\",\"type\":\"LinearScale\"},\"y_range\":{\"id\":\"3e7f7e51-94e9-4e73-8d0e-dc92e1ac82eb\",\"type\":\"DataRange1d\"},\"y_scale\":{\"id\":\"c965a9f2-c997-431d-8ad4-865e7e23abd5\",\"type\":\"LinearScale\"}},\"id\":\"05d2765e-ce4c-4518-8d19-e5eb59686304\",\"subtype\":\"Figure\",\"type\":\"Plot\"},{\"attributes\":{\"click_policy\":\"hide\",\"items\":[{\"id\":\"8e055200-7b86-4c2a-848a-4139ec772b6a\",\"type\":\"LegendItem\"},{\"id\":\"4cc40d9d-a621-477a-95dd-0006f31b53b8\",\"type\":\"LegendItem\"},{\"id\":\"8a497972-6e7d-49c7-a185-7708d983a63c\",\"type\":\"LegendItem\"},{\"id\":\"66aa82ab-88bf-4248-bd2e-e704989f64cb\",\"type\":\"LegendItem\"}],\"location\":[0,217],\"plot\":{\"id\":\"05d2765e-ce4c-4518-8d19-e5eb59686304\",\"subtype\":\"Figure\",\"type\":\"Plot\"}},\"id\":\"26125d6a-9f03-457a-bfc0-320328359da9\",\"type\":\"Legend\"},{\"attributes\":{\"bottom\":{\"value\":0},\"fill_alpha\":{\"value\":0.7},\"fill_color\":{\"value\":\"#036564\"},\"left\":{\"field\":\"left\"},\"line_color\":{\"value\":\"#033649\"},\"right\":{\"field\":\"right\"},\"top\":{\"field\":\"top\"}},\"id\":\"51c330d5-38e9-472e-8480-ce4bc8fbe32c\",\"type\":\"Quad\"},{\"attributes\":{\"callback\":null,\"tooltips\":[[\"Count\",\"@top\"],[\"Left\",\"@left{(0.0)}\"],[\"Right\",\"@right{(0.0)}\"]]},\"id\":\"14c7d041-4c7f-4d82-8a1f-5a8bf1062f48\",\"type\":\"HoverTool\"},{\"attributes\":{\"active_drag\":\"auto\",\"active_inspect\":\"auto\",\"active_scroll\":\"auto\",\"active_tap\":\"auto\",\"tools\":[{\"id\":\"18bd82ab-9a0b-4b11-b893-e418a932346e\",\"type\":\"PanTool\"},{\"id\":\"b277b748-9763-473e-b438-f6fa2a1b1626\",\"type\":\"WheelZoomTool\"},{\"id\":\"95c099b4-3e76-484a-b91f-7af6b2f03580\",\"type\":\"BoxZoomTool\"},{\"id\":\"fef375ce-0344-4b49-ad30-481fa048421d\",\"type\":\"SaveTool\"},{\"id\":\"9c191b19-ef2d-4552-b863-29e2cf7f656a\",\"type\":\"ResetTool\"},{\"id\":\"b4a280d4-ad0a-4f9e-bc12-530c5746461e\",\"type\":\"HelpTool\"},{\"id\":\"14c7d041-4c7f-4d82-8a1f-5a8bf1062f48\",\"type\":\"HoverTool\"}]},\"id\":\"c3d78d0e-6ccc-47d9-aa27-f51a2db07f37\",\"type\":\"Toolbar\"},{\"attributes\":{},\"id\":\"c965a9f2-c997-431d-8ad4-865e7e23abd5\",\"type\":\"LinearScale\"},{\"attributes\":{\"callback\":null,\"column_names\":[\"left\",\"right\",\"top\"],\"data\":{\"left\":{\"__ndarray__\":\"AAAAAAAohkBSuB6F64GLQFK4HoXrbZBAexSuR+Eak0CkcD0K18eVQM3MzMzMdJhA9ihcj8Ihm0AfhetRuM6dQKRwPQrXPaBAuB6F61GUoUDNzMzMzOqiQOJ6FK5HQaRA9ihcj8KXpUAK16NwPe6mQB+F61G4RKhANDMzMzObqUBI4XoUrvGqQFyPwvUoSKxAcT0K16OerUCG61G4HvWuQM3MzMzMJbBA16NwPQrRsEDiehSuR3yxQOxRuB6FJ7JA9ihcj8LSskA=\",\"dtype\":\"float64\",\"shape\":[25]},\"right\":{\"__ndarray__\":\"UrgeheuBi0BSuB6F622QQHsUrkfhGpNApHA9CtfHlUDNzMzMzHSYQPYoXI/CIZtAH4XrUbjOnUCkcD0K1z2gQLgehetRlKFAzczMzMzqokDiehSuR0GkQPYoXI/Cl6VACtejcD3upkAfhetRuESoQDQzMzMzm6lASOF6FK7xqkBcj8L1KEisQHE9Ctejnq1AhutRuB71rkDNzMzMzCWwQNejcD0K0bBA4noUrkd8sUDsUbgehSeyQPYoXI/C0rJAAAAAAAB+s0A=\",\"dtype\":\"float64\",\"shape\":[25]},\"top\":{\"__ndarray__\":\"wFoBawWsdT/AWgFrBax1P8BaAWsFrHU/wFoBawWsdT/AWgFrBax1P8BaAWsFrJU/cLHBxQYXmz9oL6G9hPaiPxAEQRAEQbA/FEVRFEVRtD9oL6G9hPayP8jcIXOHzK0/GIZhGIZhuD9wscHFBhe7PxRFURRFUbQ/EARBEARBsD8QBEEQBEGwPxRFURRFUbQ/yNwhc4fMrT9oL6G9hPaiP8BaAWsFrJU/AAAAAAAAAADAWgFrBax1PwAAAAAAAAAAwFoBawWsdT8=\",\"dtype\":\"float64\",\"shape\":[25]}}},\"id\":\"3e1179b9-ebaa-4852-87af-2899c2776422\",\"type\":\"ColumnDataSource\"},{\"attributes\":{\"plot\":null,\"text\":\"Click on the legend to select different histogram\"},\"id\":\"a2472fdc-1c84-429d-b799-ecf164df4904\",\"type\":\"Title\"},{\"attributes\":{\"callback\":null},\"id\":\"e84cc9bf-f71f-4908-82c9-438726e87819\",\"type\":\"DataRange1d\"},{\"attributes\":{},\"id\":\"9e09c385-3047-4daf-b7de-f02e8396c64c\",\"type\":\"LinearScale\"},{\"attributes\":{\"callback\":null},\"id\":\"3e7f7e51-94e9-4e73-8d0e-dc92e1ac82eb\",\"type\":\"DataRange1d\"}],\"root_ids\":[\"4ddf5c1a-0a63-47a0-b3f2-51c0c208bd34\"]},\"title\":\"Bokeh Application\",\"version\":\"0.12.14\"}};\n",
       "  var render_items = [{\"docid\":\"ce6f960a-6217-4be6-9d2c-dc6d029f6c47\",\"elementid\":\"e324590a-92ce-43d6-b3bf-e7f631a84f82\",\"modelid\":\"4ddf5c1a-0a63-47a0-b3f2-51c0c208bd34\"}];\n",
       "  root.Bokeh.embed.embed_items_notebook(docs_json, render_items);\n",
       "\n",
       "  }\n",
       "  if (root.Bokeh !== undefined) {\n",
       "    embed_document(root);\n",
       "  } else {\n",
       "    var attempts = 0;\n",
       "    var timer = setInterval(function(root) {\n",
       "      if (root.Bokeh !== undefined) {\n",
       "        embed_document(root);\n",
       "        clearInterval(timer);\n",
       "      }\n",
       "      attempts++;\n",
       "      if (attempts > 100) {\n",
       "        console.log(\"Bokeh: ERROR: Unable to run BokehJS code because BokehJS library is missing\")\n",
       "        clearInterval(timer);\n",
       "      }\n",
       "    }, 10, root)\n",
       "  }\n",
       "})(window);"
      ],
      "application/vnd.bokehjs_exec.v0+json": ""
     },
     "metadata": {
      "application/vnd.bokehjs_exec.v0+json": {
       "id": "4ddf5c1a-0a63-47a0-b3f2-51c0c208bd34"
      }
     },
     "output_type": "display_data"
    }
   ],
   "source": [
    "from scipy import stats\n",
    "from bokeh.models.widgets import Panel, Tabs\n",
    "\n",
    "# Create another Figure object to present linear regression\n",
    "p_lr = figure(title=\"Linear Regression on smoking and Baby's birth Weight\", plot_width=600, plot_height=400,\n",
    "          x_axis_label=\"Mother's age in years\",\n",
    "          y_axis_label=\"Baby's birth Weight in Grams\",\n",
    "          )\n",
    "\n",
    "# Prepare regression line using SciPy\n",
    "slope_ns, intercept_ns, _, _, _ = stats.linregress(df[df.smoke == 0].age, df[df.smoke == 0].bwt)\n",
    "slope_s, intercept_s, _, _, _ = stats.linregress(df[df.smoke == 1].age, df[df.smoke == 1].bwt)\n",
    "\n",
    "line_x = np.linspace(14,40)\n",
    "line_y_ns = slope_ns*line_x + intercept_ns\n",
    "line_y_s = slope_s*line_x + intercept_s\n",
    "\n",
    "# Add different Glyphs on the graph\n",
    "p_lr.circle(df[df.smoke == 0].age, df[df.smoke == 0].bwt, color=Spectral4[0], legend='mother does not smoke')\n",
    "p_lr.square(df[df.smoke == 1].age, df[df.smoke == 1].bwt, color=Spectral4[1], legend='mother smokes')\n",
    "p_lr.line(line_x, line_y_ns, color=Spectral4[0], legend='mother does not smoke', line_width=3)\n",
    "p_lr.line(line_x, line_y_s, color=Spectral4[1], legend='mother smokes', line_width=3)\n",
    "\n",
    "p_lr.legend.click_policy = 'hide'\n",
    "\n",
    "# Create two Panels to contain two Figure Objects\n",
    "tab1 = Panel(child=p_lr, title=\"Linear Regression\")\n",
    "tab2 = Panel(child=p_h, title=\"Histogram\")\n",
    "\n",
    "# Create tabs to hold Panels\n",
    "tabs = Tabs(tabs=[ tab1, tab2 ])\n",
    "\n",
    "show(tabs)"
   ]
  },
  {
   "cell_type": "markdown",
   "metadata": {},
   "source": [
    "### Further Steps\n",
    "Bokeh provides a full range [tools](https://bokeh.pydata.org/en/latest/docs/user_guide/tools.html) and [widgets](https://bokeh.pydata.org/en/latest/docs/user_guide/interaction/widgets.html) for users to create large data visualization application. The usage of those tools would be similar to what is demonstrated in this tutorial. To give you a glimpse, I generated some widgets for you to play with. These are dummy widgets since they are not linked to any data. Nevertheless, once those widgets are integrated into graphs, the combination of data, tools, and widgets can create even more powerful data visualization application."
   ]
  },
  {
   "cell_type": "code",
   "execution_count": 10,
   "metadata": {},
   "outputs": [
    {
     "data": {
      "text/html": [
       "\n",
       "<div class=\"bk-root\">\n",
       "    <div class=\"bk-plotdiv\" id=\"b5385601-ef98-463a-a4a5-d41f1f0e0b1a\"></div>\n",
       "</div>"
      ]
     },
     "metadata": {},
     "output_type": "display_data"
    },
    {
     "data": {
      "application/javascript": [
       "(function(root) {\n",
       "  function embed_document(root) {\n",
       "    \n",
       "  var docs_json = {\"48726dd7-11e4-41cd-96c2-e3dc8165a36f\":{\"roots\":{\"references\":[{\"attributes\":{\"callback\":null,\"options\":[\"foo\",\"bar\",\"baz\"],\"title\":\"Option:\",\"value\":\"foo\"},\"id\":\"f09c1fb0-fd38-44ac-920a-97d32981519c\",\"type\":\"Select\"},{\"attributes\":{\"callback\":null,\"icon\":null,\"label\":\"Button Example\"},\"id\":\"72e3df0b-aa7c-4703-8287-f6efb4f4207d\",\"type\":\"Button\"},{\"attributes\":{\"active\":0,\"callback\":null,\"labels\":[\"Option 1\",\"Option 2\",\"Option 3\"]},\"id\":\"b56aebf3-5d19-4d1b-ba51-4bc3295c0ca1\",\"type\":\"RadioButtonGroup\"},{\"attributes\":{\"children\":[{\"id\":\"72e3df0b-aa7c-4703-8287-f6efb4f4207d\",\"type\":\"Button\"},{\"id\":\"2c34e932-74c1-4adc-a1ed-eaa5f4c7f324\",\"type\":\"Slider\"},{\"id\":\"b56aebf3-5d19-4d1b-ba51-4bc3295c0ca1\",\"type\":\"RadioButtonGroup\"},{\"id\":\"f09c1fb0-fd38-44ac-920a-97d32981519c\",\"type\":\"Select\"}],\"width\":300},\"id\":\"85dfdc3e-06be-4f1c-8230-6ebd6dc0796d\",\"type\":\"WidgetBox\"},{\"attributes\":{\"callback\":null,\"end\":10,\"start\":0,\"title\":\"Slider Example\",\"value\":1},\"id\":\"2c34e932-74c1-4adc-a1ed-eaa5f4c7f324\",\"type\":\"Slider\"}],\"root_ids\":[\"85dfdc3e-06be-4f1c-8230-6ebd6dc0796d\"]},\"title\":\"Bokeh Application\",\"version\":\"0.12.14\"}};\n",
       "  var render_items = [{\"docid\":\"48726dd7-11e4-41cd-96c2-e3dc8165a36f\",\"elementid\":\"b5385601-ef98-463a-a4a5-d41f1f0e0b1a\",\"modelid\":\"85dfdc3e-06be-4f1c-8230-6ebd6dc0796d\"}];\n",
       "  root.Bokeh.embed.embed_items_notebook(docs_json, render_items);\n",
       "\n",
       "  }\n",
       "  if (root.Bokeh !== undefined) {\n",
       "    embed_document(root);\n",
       "  } else {\n",
       "    var attempts = 0;\n",
       "    var timer = setInterval(function(root) {\n",
       "      if (root.Bokeh !== undefined) {\n",
       "        embed_document(root);\n",
       "        clearInterval(timer);\n",
       "      }\n",
       "      attempts++;\n",
       "      if (attempts > 100) {\n",
       "        console.log(\"Bokeh: ERROR: Unable to run BokehJS code because BokehJS library is missing\")\n",
       "        clearInterval(timer);\n",
       "      }\n",
       "    }, 10, root)\n",
       "  }\n",
       "})(window);"
      ],
      "application/vnd.bokehjs_exec.v0+json": ""
     },
     "metadata": {
      "application/vnd.bokehjs_exec.v0+json": {
       "id": "85dfdc3e-06be-4f1c-8230-6ebd6dc0796d"
      }
     },
     "output_type": "display_data"
    }
   ],
   "source": [
    "from bokeh.layouts import widgetbox\n",
    "from bokeh.models.widgets import Button, RadioButtonGroup, Select, Slider\n",
    "\n",
    "# create some widgets\n",
    "slider = Slider(start=0, end=10, value=1, step=1, title=\"Slider Example\")\n",
    "button_group = RadioButtonGroup(labels=[\"Option 1\", \"Option 2\", \"Option 3\"], active=0)\n",
    "select = Select(title=\"Option:\", value=\"foo\", options=[\"foo\", \"bar\", \"baz\"])\n",
    "button = Button(label=\"Button Example\")\n",
    "\n",
    "# put the results in a row\n",
    "show(widgetbox(button, slider, button_group, select, width=300))"
   ]
  },
  {
   "cell_type": "markdown",
   "metadata": {},
   "source": [
    "### Summary and References\n",
    "In summary, this tutorial introduced the underlying plotting mechanisms of Bokeh, demonstrated exploratory data analysis with Bokeh using different tools, widgets, and color themes. Much more detail about the library and data applications it built can be found from following links:\n",
    "1. Bokeh: http://bokeh.pydata.org/en/latest/ \n",
    "2. Gallery: http://bokeh.pydata.org/en/latest/docs/gallery.html"
   ]
  }
 ],
 "metadata": {
  "kernelspec": {
   "display_name": "Python 3",
   "language": "python",
   "name": "python3"
  },
  "language_info": {
   "codemirror_mode": {
    "name": "ipython",
    "version": 3
   },
   "file_extension": ".py",
   "mimetype": "text/x-python",
   "name": "python",
   "nbconvert_exporter": "python",
   "pygments_lexer": "ipython3",
   "version": "3.6.4"
  },
  "varInspector": {
   "cols": {
    "lenName": 16,
    "lenType": 16,
    "lenVar": 40
   },
   "kernels_config": {
    "python": {
     "delete_cmd_postfix": "",
     "delete_cmd_prefix": "del ",
     "library": "var_list.py",
     "varRefreshCmd": "print(var_dic_list())"
    },
    "r": {
     "delete_cmd_postfix": ") ",
     "delete_cmd_prefix": "rm(",
     "library": "var_list.r",
     "varRefreshCmd": "cat(var_dic_list()) "
    }
   },
   "types_to_exclude": [
    "module",
    "function",
    "builtin_function_or_method",
    "instance",
    "_Feature"
   ],
   "window_display": false
  }
 },
 "nbformat": 4,
 "nbformat_minor": 2
}
