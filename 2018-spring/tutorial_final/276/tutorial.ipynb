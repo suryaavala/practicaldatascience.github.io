{
 "cells": [
  {
   "cell_type": "markdown",
   "metadata": {
    "collapsed": true
   },
   "source": [
    "# 15-388 tutorial: an introduction to Monte Carlo methods"
   ]
  },
  {
   "cell_type": "markdown",
   "metadata": {},
   "source": [
    "Monte Carlo methods are a broad class of algorithms that rely on repeated random sampling to obtain numerical results. They are mainly used in three problem classes: optimization, numerical integration, and generating draws from probability distributions. This tutorial will start with a few examples of how Monte Carlo methods are applied in scientific computing, and focus on using Monte Carlo methods to sample from probability distributions. "
   ]
  },
  {
   "cell_type": "code",
   "execution_count": 1,
   "metadata": {},
   "outputs": [],
   "source": [
    "# import necessary things before we start\n",
    "import numpy as np\n",
    "import matplotlib.pyplot as plt\n",
    "from IPython.display import Image"
   ]
  },
  {
   "cell_type": "markdown",
   "metadata": {},
   "source": [
    "## Background\n",
    "Before we start, here are some useful things to know about:\n",
    "\n",
    "#### Random variable\n",
    "A random variable (usually written $X$) is a variable whose possible values are numerical outcomes of a random phenomenon. We will denote the set of values that a random variable can take by $S$. \n",
    "\n",
    "A discrete random variable $X$ is one which may take on only a countable number of distinct values. The expectation of it can be computed by $E(g(X)) = \\sum_{x \\in S} g(x) \\cdot P(X = x)$, where $P(X = x)$ denotes the probability that $X = x$, for any function g. Note $\\sum_{x \\in S} P(X = x) = 1$.\n",
    "\n",
    "A continuous random variable $X$ is one which takes an uncountably infinite number of possible values. The expectation of it can be computed by $E(g(X)) = \\int_{-\\infty}^{\\infty} g(x) \\cdot f(x) dx$, where $f(x)$ denotes the probability density function of the distribution, for any function g. Note $\\int_{a}^{b} f(x) dx = P(a \\leq X \\leq b)$.\n",
    "\n",
    "#### Weak law of large numbers\n",
    "For random variables $X_1, ..., X_n \\sim X$ (having the same distribution as $X$) that are independent and identically distributed, $\\frac{1}{n} \\sum_{i = 1}^{n} X_i \\to E(X)$ as $n \\to \\infty$. \n",
    "\n",
    "#### Some common distributions that will be used later:\n",
    "#### $U(a, b)$\n",
    "We will denote the uniform distribution on the interval [a, b] by U(a, b). This is a continuous distribution with probability density function $f(x) = \\frac{1}{b-a}, a < x < b$; and $0$, otherwise. \n",
    "\n",
    "#### $Exp(1)$\n",
    "We will denote the exponential distribution with mean 1 by Exp(1). This is a continuous distribution with probability density function $f(x) = e^{-x}$ for $x \\geq 0$. \n",
    "\n",
    "#### $N(0, 1)$\n",
    "We will denote the normal distribution with mean 0 and standard deviation 1 by N(0, 1). This is a continuous distribution with probability density function $f(x) = \\frac{1}{\\sqrt{2\\pi}}e^{-\\frac{x^2}{2}}$ for $x \\in \\mathbb{R}$. "
   ]
  },
  {
   "cell_type": "markdown",
   "metadata": {},
   "source": [
    "## Examples: using Monte Carlo methods for estimation and numerical integration\n",
    "The following are examples of how Monte Carlo methods are used for estimating $\\pi$ and computing integrals. "
   ]
  },
  {
   "cell_type": "markdown",
   "metadata": {},
   "source": [
    "### Example 1: using Monte Carlo to estimate $\\pi$\n",
    "The goal is to estimate $\\pi$ using monte carlo. We first notice that the area of the unit circle is exactly $\\pi$, and the area of the square that bounds the unit circle is 4. Therefore, if we randomly select a point from the boundary square, the probability that the point lies in the circle is $\\pi/4$. If we repeatedly uniformly sample from the square, this probability can be estimated by: number of points in the circle/ total number of selected points, and multiplying this value by 4 will give us an estimation of $\\pi$. \n",
    "\n",
    "In general, increasing the sample size $n$ results in more accurate estimations of $\\pi$. The sample code for this process is as follows: "
   ]
  },
  {
   "cell_type": "code",
   "execution_count": 29,
   "metadata": {},
   "outputs": [
    {
     "name": "stdout",
     "output_type": "stream",
     "text": [
      "1.6\n",
      "3.076\n",
      "3.13392\n"
     ]
    }
   ],
   "source": [
    "# n > 0\n",
    "def mc_pi(n):\n",
    "    ns = 0 # number of successes\n",
    "    for i in range(n):\n",
    "        x = np.random.uniform(-1, 1)\n",
    "        y = np.random.uniform(-1, 1)\n",
    "        if x**2 + y**2 < 1: # falls in the unit circle\n",
    "            ns += 1\n",
    "    return 4 * ns/n\n",
    "\n",
    "print(mc_pi(10))\n",
    "print(mc_pi(1000))\n",
    "print(mc_pi(100000))"
   ]
  },
  {
   "cell_type": "markdown",
   "metadata": {},
   "source": [
    "### Example 2: using Monte Carlo to compute integration\n",
    "How might we go about estimating the integral of some function $g(x)$ over [0, 1], if directly computing an antiderivative is difficult? One approach is to sample $X_1, ..., X_n \\sim U(0, 1)$, and compute $\\frac{1}{n} \\sum_{i = 1}^{n} g(X_i)$ as an estimate. By the weak law of large numbers, $\\frac{1}{n} \\sum_{i = 1}^{n} g(X_i) \\to E(g(X)) = \\int_{-\\infty}^{\\infty} g(x) \\cdot f(x) dx = \\int_{0}^{1} g(x) \\cdot 1 dx = \\int_{0}^{1} g(x) dx$, since $f(x) = 1, x \\in (0, 1); f(x) = 0, $otherwise is the probability density function of U(0, 1). Therefore, $\\frac{1}{n} \\sum_{i = 1}^{n} g(X_i)$ is a valid estimate for $\\int_{0}^{1} g(x) dx$. \n",
    "\n",
    "We will take $g(x) = sin(x^2)$ for example. By Wolfram Alpha, the value of $\\int_{0}^{1} sin(x^2) dx = \\sqrt(\\pi/2) \\approx 0.31$, so hopefully this estimation gets closer to $0.31$ as we increase the sample size. The sample code for the above approach is as follows:"
   ]
  },
  {
   "cell_type": "code",
   "execution_count": 3,
   "metadata": {},
   "outputs": [
    {
     "name": "stdout",
     "output_type": "stream",
     "text": [
      "0.23596714234\n",
      "0.308067263776\n",
      "0.310416289517\n"
     ]
    }
   ],
   "source": [
    "# n > 0\n",
    "def mc_int(n):\n",
    "    x = np.random.rand(1, n)\n",
    "    r = np.sin(x**2)\n",
    "    return np.sum(r)/n\n",
    "\n",
    "print(mc_int(10))\n",
    "print(mc_int(1000))\n",
    "print(mc_int(1000000))"
   ]
  },
  {
   "cell_type": "markdown",
   "metadata": {},
   "source": [
    "## Using Monte Carlo methods for sampling from probability distributions\n",
    "From now on we will focus on using Monte Carlo to sample from probability distributions. The topics covered are rejection sampling and slice sampling. "
   ]
  },
  {
   "cell_type": "markdown",
   "metadata": {},
   "source": [
    "### Rejection sampling\n",
    "What can we do if we want to sample from a continuous distribution $X$ with probability density function $f(x)$, given that we know how to sample from another continuous distribution with known density $g(x)$, and that $f(x) \\leq c \\cdot g(x)$ for some $c \\in \\mathbb{R}$ and all $x \\in \\mathbb{R}$ (see the image below)?\n",
    "\n",
    "The algorithm for rejection sampling to sample from $X$ is as follows: \n",
    "\n",
    "(1) Sample $x'$ from $Y$\n",
    "\n",
    "(2) Compute $v = \\frac{f(x')}{c \\cdot g(x')}$\n",
    "\n",
    "(3) Sample $u$ from $U(0, 1)$\n",
    "\n",
    "(4) If $u < v$, accept $x'$, else reject $x'$ and go back to (1)\n",
    "\n",
    "There is a formal proof of correctness for this algorithm that we will not see in this tutorial, but the idea is: sampling from $Y$ is similar to randomly selecting a point from the area under the curve $g(x)$, so accepting any $x'$ with probability $\\frac{f(x')}{c \\cdot g(x')}$ will be the same as randomly selecting a point from the area under the curve $f(x)$, which gives us a way to sample from $X$. "
   ]
  },
  {
   "cell_type": "code",
   "execution_count": 4,
   "metadata": {
    "scrolled": true
   },
   "outputs": [
    {
     "data": {
      "image/png": "[encoded data removed]",
      "text/plain": [
       "<IPython.core.display.Image object>"
      ]
     },
     "execution_count": 4,
     "metadata": {
      "image/png": {
       "height": 500,
       "width": 500
      }
     },
     "output_type": "execute_result"
    }
   ],
   "source": [
    "Image(filename = \"rejection.png\", width=500, height=500)"
   ]
  },
  {
   "cell_type": "markdown",
   "metadata": {},
   "source": [
    "The following is a somewhat artificial example just for illustrating how rejection sampling works. We consider $X$ with density function $f(x) = 2 \\cdot x$ for $x \\in [0, 1]$, and $Y \\sim U(0, 1)$ (Y is uniformly distributed on $[0, 1]$). It's easy to see that letting $c = 2$ gives $f(x) \\leq c \\cdot g(x)$. \n",
    "\n",
    "We will generate a normalized frequency histogram of samples we draw using rejection sampling. Then, we will compare the histogram to the graph of $f(x)$ to check that it's indeed an approximation of $X$. The code is as follows: "
   ]
  },
  {
   "cell_type": "code",
   "execution_count": 5,
   "metadata": {},
   "outputs": [
    {
     "data": {
      "image/png": "[encoded data removed]",
      "text/plain": [
       "<matplotlib.figure.Figure at 0x218ed58ba90>"
      ]
     },
     "metadata": {},
     "output_type": "display_data"
    }
   ],
   "source": [
    "def mc_eg(n):\n",
    "    l = []\n",
    "    c = 2\n",
    "    i = 0\n",
    "    while i < n:\n",
    "        z = np.random.uniform(0, 1) # sampled from Y\n",
    "        fz = 2*z # f(z)\n",
    "        gz = 1 # g(z)\n",
    "        u = np.random.uniform(0, 1)\n",
    "        if u < fz/(c*gz): # accept with this probability\n",
    "            l.append(z)\n",
    "            i += 1\n",
    "    t = np.arange(0, 1, 0.01) # generate values from 0 to 1 with spacing 0.01\n",
    "    plt.plot(t, 2*t, \"rs\") # plot f(values from above)\n",
    "    plt.hist(l, bins = t, normed = True) # need to normalize to make sure the \"integral\" over the range is 1\n",
    "    plt.xlabel(\"Value\")\n",
    "    plt.ylabel(\"Frequency\")\n",
    "    plt.show()\n",
    "\n",
    "mc_eg(100000) # generate and plot 100000 samples"
   ]
  },
  {
   "cell_type": "markdown",
   "metadata": {},
   "source": [
    "Now consider the following question: how can we sample from $N(0, 1)$ if we know how to sample from $U(0, 1)$, given that we can conviniently generate samples from $Exp(1)$ using $U(0, 1)$? "
   ]
  },
  {
   "cell_type": "markdown",
   "metadata": {},
   "source": [
    "Let's first generate $Exp(1)$. This can be done using inverse transform sampling, which is very commonly used for distributions with a cumulative density function (cdf) that has an inverse. We will generate the same histogram and plot the density for $Exp(1)$. The code is as follows:"
   ]
  },
  {
   "cell_type": "code",
   "execution_count": 6,
   "metadata": {
    "scrolled": true
   },
   "outputs": [
    {
     "data": {
      "image/png": "[encoded data removed]",
      "text/plain": [
       "<matplotlib.figure.Figure at 0x218ee5c16d8>"
      ]
     },
     "metadata": {},
     "output_type": "display_data"
    }
   ],
   "source": [
    "# sampling from Exp(1) using inverse transform sampling\n",
    "\n",
    "def exp(x):\n",
    "    return np.exp(-x) # compute the exponential pdf at x\n",
    "\n",
    "def cexp_inv(x):\n",
    "    return -np.log(1-x) # compute the inverse of the exponential cdf at x\n",
    "\n",
    "def mc_exp(n):\n",
    "    l = []\n",
    "    for i in range(n):\n",
    "        y = np.random.uniform(0, 1) # generate y from U(0, 1)\n",
    "        x = cexp_inv(y) # compute cdf value at y\n",
    "        l.append(x)\n",
    "    t = np.arange(0, 10, 0.1) # generate values from 0 to 10 with spacing 0.1\n",
    "    plt.plot(t, exp(t), \"rs\") # draw exponential pdf(values) from above\n",
    "    plt.hist(l, bins = t, normed = True) # generate normalized histogram\n",
    "    plt.xlabel(\"Value\")\n",
    "    plt.ylabel(\"Frequency\")\n",
    "    plt.show()\n",
    "\n",
    "mc_exp(10000)"
   ]
  },
  {
   "cell_type": "markdown",
   "metadata": {},
   "source": [
    "Now we will use $Exp(1)$ to sample from $N(0, 1)$. The density of $Exp(1)$ is over $[0, \\infty)$ while the density of $N(0, 1)$ is over $(-\\infty, \\infty)$, but since $N(0, 1)$ is symmetric, every time we get a sample $x'$ that passes the $f(x') \\leq c \\cdot g(x')$ test, we can accept $x'$ with probability 0.5 and accept $-x'$ with probability 0.5 to approximate $N(0, 1)$. \n",
    "\n",
    "In this example, $X \\sim N(0, 1)$ with density $f(x) = \\frac{1}{\\sqrt{2\\pi}}e^{-\\frac{x^2}{2}}$ for $x \\in \\mathbb{R}$ and $Y \\sim Exp(1)$ with density $g(x) = e^{-x}$ for $x \\in [0, \\infty)$. By observation, we can choose $c = 1$. The code is as follows:"
   ]
  },
  {
   "cell_type": "code",
   "execution_count": 7,
   "metadata": {},
   "outputs": [
    {
     "data": {
      "image/png": "[encoded data removed]",
      "text/plain": [
       "<matplotlib.figure.Figure at 0x218ee65eba8>"
      ]
     },
     "metadata": {},
     "output_type": "display_data"
    }
   ],
   "source": [
    "# sampling from normal using acceptance-rejection with prev result\n",
    "def normal(x):\n",
    "    return 1/np.sqrt(2*np.pi)*np.exp(-np.power(x, 2)/2) # compute the normal pdf at x\n",
    "\n",
    "def mc_normal(n):\n",
    "    l = []\n",
    "    c = 1\n",
    "    i = 0\n",
    "    while i < n:\n",
    "        y = np.random.uniform(0, 1) #\n",
    "        z = -np.log(1-y) # sampled from Y\n",
    "        fz = normal(z) # f(z)\n",
    "        gz = exp(z) # g(z)\n",
    "        u = np.random.uniform(0, 1)\n",
    "        if u < fz/(c*gz): # accept with this probability\n",
    "            v = np.random.uniform(0, 1)\n",
    "            if v < 0.5: # accept z with probability 0.5\n",
    "                l.append(z)\n",
    "            else: # accept -z with probability 0.5\n",
    "                l.append(-z)\n",
    "            i += 1\n",
    "    t = np.arange(-10, 10, 0.1) # generate values from -10 to 10 with spacing 0.1\n",
    "    plt.plot(t, normal(t), \"rs\") # draw normal pdf(values from above)\n",
    "    plt.hist(l, bins = t, normed = True) # generate normalized histogram\n",
    "    plt.xlabel(\"Value\")\n",
    "    plt.ylabel(\"Frequency\")\n",
    "    plt.show()\n",
    "\n",
    "mc_normal(10000)"
   ]
  },
  {
   "cell_type": "markdown",
   "metadata": {},
   "source": [
    "### Slice sampling\n",
    "Slice sampling is a Markov Chain Monte Carlo (MCMC) sampling method. The major difference between it and rejection sampling is that the samples we draw using rejection sampling are mutually independent, while samples we draw using slice sampling are not. \n",
    "\n",
    "Suppose we want to generate samples from a distribution with density $f(x)$. The algorithm for slice sampling is as follows:\n",
    "\n",
    "(1) Choose a starting value $x$\n",
    "\n",
    "(2) Generate $u \\sim U(0, f(x))$\n",
    "\n",
    "(3) Sample $x' \\sim U(a, b)$ where $f(a) = f(b) = u$, let $x = x'$ and go back to (2)\n",
    "\n",
    "Intuitively, we first choose a starting point with x-intercept $x'$. We then choose a height smaller than $f(x')$ and draw a horizontal line accross it, randomly move to a point on the line, and fix that point as the new starting point. When the sample size large enough, this process will be equivalent to sampling uniformly from the area under the curve $f(x)$, which gives us a way to sample from $X$ (there is a formall proof: the sequence of selected $x$ values is a Markov chain, but will not be presented in this tutorial). "
   ]
  },
  {
   "cell_type": "code",
   "execution_count": 10,
   "metadata": {},
   "outputs": [
    {
     "data": {
      "image/png": "[encoded data removed]",
      "text/plain": [
       "<IPython.core.display.Image object>"
      ]
     },
     "execution_count": 10,
     "metadata": {
      "image/png": {
       "height": 500,
       "width": 500
      }
     },
     "output_type": "execute_result"
    }
   ],
   "source": [
    "Image(filename = \"slice.png\", width=500, height=500)"
   ]
  },
  {
   "cell_type": "markdown",
   "metadata": {},
   "source": [
    "Here is an example of slice sampling where $X \\sim N(0, 1)$ with density $f(x) = \\frac{1}{\\sqrt{2\\pi}}e^{-\\frac{x^2}{2}}$ for $x \\in \\mathbb{R}$. In this case, we can explicitly compute the inverse function for the normal pdf as $f^{-1}(x) = \\pm \\sqrt{-2 \\cdot log(x \\cdot \\sqrt{2\\pi})}$, and choose $a, b$ correspondingly. The code is as follows:"
   ]
  },
  {
   "cell_type": "code",
   "execution_count": 30,
   "metadata": {},
   "outputs": [
    {
     "data": {
      "image/png": "[encoded data removed]",
      "text/plain": [
       "<matplotlib.figure.Figure at 0x218ef060f60>"
      ]
     },
     "metadata": {},
     "output_type": "display_data"
    }
   ],
   "source": [
    "def normal_inv(x):\n",
    "    return np.sqrt(-2 * np.log(x * np.sqrt(2*np.pi))) # inverse for normal pdf\n",
    "\n",
    "def mc_slice(n):\n",
    "    l = []\n",
    "    x = 0\n",
    "    for i in range(n):\n",
    "        y = normal(x) # normal pdf at x\n",
    "        u = np.random.uniform(0, y)\n",
    "        z = normal_inv(u)\n",
    "        x = np.random.uniform(-z, z) # choose new x\n",
    "        l.append(x)\n",
    "    t = np.arange(-10, 10, 0.1)\n",
    "    plt.plot(t, normal(t), \"rs\")\n",
    "    plt.hist(l, bins = t, normed = True)\n",
    "    plt.xlabel(\"Value\")\n",
    "    plt.ylabel(\"Frequency\")\n",
    "    plt.show()\n",
    "\n",
    "mc_slice(10000)"
   ]
  },
  {
   "cell_type": "markdown",
   "metadata": {},
   "source": [
    "## Remark\n",
    "I decided to make a tutorial on Monte Carlo methods because the idea behind is interesting and that they are quite useful. More information about this topic can be found on Wikipedia, some lecture pdfs for stats/cs courses, and some private blogs. \n",
    "\n",
    "Some helpful links:\n",
    "Rejection sampling: Wikipedia\n",
    "Slice sampling:\n",
    "https://wiseodd.github.io/techblog/2015/10/24/slice-sampling/"
   ]
  }
 ],
 "metadata": {
  "kernelspec": {
   "display_name": "Python 3",
   "language": "python",
   "name": "python3"
  },
  "language_info": {
   "codemirror_mode": {
    "name": "ipython",
    "version": 3
   },
   "file_extension": ".py",
   "mimetype": "text/x-python",
   "name": "python",
   "nbconvert_exporter": "python",
   "pygments_lexer": "ipython3",
   "version": "3.6.3"
  }
 },
 "nbformat": 4,
 "nbformat_minor": 2
}
