{
 "cells": [
  {
   "cell_type": "markdown",
   "metadata": {},
   "source": [
    "<h2><center>Tutorial on Latent Dirichlet Allocation</center></h2>"
   ]
  },
  {
   "cell_type": "markdown",
   "metadata": {},
   "source": [
    "## Introduction\n",
    "Latent Dirichlet Allocation(LDA) is a very powerful topic model to find topics in a given text. On the one hand, LDA help engineers and scientists find main topic components in a huge amount of documents. On the other hand, Since documents can be distinguished based on their different topics, many other natural languange processing such as text classification will have better result based on the result of LDA.\n",
    "\n",
    "This tutorial will help you understand the basic machanism of sampling and inference from LDA topic model. Then we will introduce the implementation of this model and apply it to some data.\n",
    "\n",
    "## A quick example\n",
    "Instead of assigning one specific topic for one document, LDA consider it in the way that every documents is a combination of different topics. The number of topics is given, then basically the model will do two things: one is to find a distribution of these topics for each of the given documents; another is to find words distribution for each of the topics. Note that the name of each topics doesn't matter, what is important is their distribution. To achieve this, LDA also assign one topic for each word in each document (in article, we call this as \"position\") and then assign word for this position based on the topic assigned to this position. The following is an quick example of LDA model.\n",
    "<img src=\"https://www.dropbox.com/s/azgtj4rbsvedpu1/Figure1.pdf?raw=1\">\n",
    "\n",
    "In the above figure, there are 5 very short documents(DOC1, DOC2, ...). Given 2 topics A and B. So what LDA do is:\n",
    "\n",
    "1. find topic distribution for each of these 5 documents(only shows for first two documents here). \n",
    "2. find word distribution for each of these 2 topics(on the left of this figure). \n",
    "3. Assign one of 2 topics to each position in each document and assign word for each position. The color in the figure represent different topic assignment. For example, \"ate\" in document 1 is assigned topic A and \"bananas\" in document 2 is assigned topic B.\n",
    "\n",
    "It is worthy noting that same word may be assigned to different topics, such as the \"banana\" in document 1 and \"bananas\" in document 2(after lemmatization they are same). The main task of LDA is to obtain the latent variables topic words distribution, document topics distribution and topic assignment for each position in each document."
   ]
  },
  {
   "cell_type": "markdown",
   "metadata": {},
   "source": [
    "## Model interpretation\n",
    "Before going into this part, it is really recommended to watch this [video](http://videolectures.net/mlss09uk_blei_tm/). Actually, the speaker in this video is just the proposer of this model--Professor David M. Blei. His lecture is very helpful for you to understand this model.\n",
    "\n",
    "### dirichlet distribution\n",
    "[Dirichlet distribution](https://en.wikipedia.org/wiki/Dirichlet_distribution) describes a distribution over distribution. The mathmatical expression for it is:\n",
    "$$f(x_1,x_2,\\cdots,x_K;\\alpha_1,\\alpha_2,\\cdots,\\alpha_K)=\\dfrac{1}{B(\\alpha)}\\prod_{i=1}^Kx_i^{\\alpha_i-1}\\sim Dir(\\alpha_1,\\alpha_2,\\cdots,\\alpha_K)$$\n",
    "where $x_i, i\\in 1,\\cdots,K$ are random variables satisfying $\\sum_{i=1}^Kx_i=1$ and $x_i\\geqslant0$. Hence all $x_i$ can be seen as a distribution for some random variable and thus dirichlet distribution can be seen as a distribution over distribution. $\\alpha_i$, $i\\in1,\\cdots,K$ are parameters for dirichlet. These parameters control the shape of the distribution. This may be abstract for the first time, you can see a good example of visualization of 3D Dirichlet dirtribution [here](http://blog.bogatron.net/blog/2014/02/02/visualizing-dirichlet-distributions/). \n",
    "\n",
    "Dirichlet distribution is chosen as prior for topic words distribution and document topics distribution. The reason is one good property of dirichlet distribution is that it is a [conjugate piror](https://en.wikipedia.org/wiki/Conjugate_prior) of multinomial distribution (to be introduced in the next part), which is chosed as statistical model for both topic words distribution and of document topics distribution. Hence, putting Dirichlet and multinomial distribution into LDA model will get relatively concise mathmatical result and help to inference from it. \n",
    "\n",
    "One thing to note is that when $\\alpha_i$ is small, the distribution of $x_i, i\\in 1,\\cdots,K$ is very sparse, meaning that most of $x_i$ will actually toward zero while some $x_i$ approach relative large value. For LDA, one common choice is to set all $\\alpha_i$ as same small value. Therefore, LDA model assumes that one document tends to consists of a few topics instead of a mixture of many topics. Same meaning there is no preference for any one of the topics.\n",
    "\n",
    "### Multinomial distribution\n",
    "[Multinomial distribution](https://en.wikipedia.org/wiki/Multinomial_distribution) is the generalization of binomial distribution. The mathmatical expression for it is:\n",
    "$$f(x_1,x_2,\\cdots,x_K;n,p_1,p_2,\\cdots,p_K)=\\dfrac{\\Gamma(\\sum_ix_i+1)}{\\prod_i\\Gamma(x_i+1)}\\prod_{i=1}^Kp_i^{x_i}\\sim Mult(p_1,p_2,\\cdots,p_K)$$\n",
    "where $n$ is number of trials and $x_i, i\\in 1,\\cdots,K$ is number $i$ appears with probability $p_i$ in each trial. \n",
    "\n",
    "Multinomial distribution is chosen as topic assignment distribution of each word and word assignment distirbution for one position in one document. Therefore, for each position in each document, we sample once from multinomial model(parameters provided by dirichlet model of document topics distribution) to get its topic and again sample once from another multinomial model(parameters provided by dirichlet model of topic words distribution).\n",
    "\n",
    "### LDA model\n",
    "Now let's talk about LDA model. There is a very good graphical model representing LDA model given by the first paper describing this model$^{[1]}$:\n",
    "<img src=\"https://www.dropbox.com/s/kob0vdrrybq3cjw/Figure2.pdf?raw=1\">\n",
    "The statistical model can be expressed as follows:\n",
    "\n",
    "Given document index $d=\\{1,\\cdots,D\\}$, word index $w=\\{1,\\cdots,W\\}$, $K$ topics and topic index $k=\\{1,\\cdots,K\\}$, LDA assumes:\n",
    "$$\\beta_k\\sim Dir(\\beta_k|\\eta_1,\\eta_2,\\cdots,\\eta_W)$$\n",
    "\n",
    "$$\\theta_d\\sim Dir(\\theta_d|\\alpha_1,\\alpha_2,\\cdots,\\alpha_K)$$\n",
    "\n",
    "$$z_{dw}\\sim Mult(z_{dw}|\\theta_d)$$\n",
    "\n",
    "$$w_{dk}\\sim Mult(w_{dk}|\\theta,z_{dw}=k)$$\n",
    "\n",
    "Please combine the figure and math expression to understand the following interpretation of this model: \n",
    "\n",
    "1. the topic words distribution is given by dirichlet distribution with hyper parameters $\\eta$. It will generate K topics with different word distribution for each topic. Each topic includes a distribution of all words appear in all input documents.\n",
    "2. the document topics distribution is given by dirichlet distribution with hyper parameters $\\alpha$. It will generate D topic distributions with different topic distribution for each document. Each document includes a distribution of all K topics.\n",
    "3. Assign each position in each document a topic $z_{dw}$ range from $1,\\cdots,K$.\n",
    "4. Assign each position in each document a word $w_{dk}$ from the words distribution corresponding to the given topic $z_{dw}=k$.\n",
    "\n",
    "### Inference from model\n",
    "\n",
    "One task of LDA is to inference latent variable(e.g. $\\theta$, $\\beta$ and $z$) given input texts. This is also where the name \"latent\" comes from. Although employing dirichlet and multinomial distribution make the model easier, it is still quite complicate to directly inference them from this model. However, there are some approximate inference methods for it and they are practical useful. Here are three main methods$^{[2]}$:\n",
    "1. Gibbs sampling\n",
    "2. Variational methods$^{[1]}$\n",
    "3. Particle filtering$^{[3]}$\n",
    "\n",
    "Here in our tutorial, we will give details about Gibbs sampling. For other two methods, you can find very good reference from respective links.\n",
    "\n",
    "For [Gibbs sampling](https://en.wikipedia.org/wiki/Gibbs_sampling), We will introduce both standard Gibbs sampling and collapsed Gibbs sampling. Standard Gibbs sampling is easier while collapsed Gibbs sampling is more efficiently.\n",
    "\n",
    "- Standard Gibbs sampling\n",
    "\n",
    "There is a good explanation for applying standard Gibbs sampling to LDA, you can see it [here](https://wiseodd.github.io/techblog/2017/09/07/lda-gibbs/). Gibbs sampling is a method from [Markov Chain Monte Carlo](https://en.wikipedia.org/wiki/Markov_chain_Monte_Carlo). Generally, we do not do mathmatical derivation from the model. Instead we sample the latent variables alternatively and update one random variable whle fixing all others. Iterating the above steps many times until approaching some criterion and we get approximate latent variables.\n",
    "\n",
    "Here we will ignore the process of derivation and directly give the sampling formula as follows:\n",
    "$$p(\\beta_k|z,w)=Dir(\\eta+n_{1:W}(w_{(1:D),k}))$$\n",
    "\n",
    "$$p(\\theta_d|z_{d,1:W},\\beta)=Dir(\\alpha+n_{1:K}(z_{d,1:W}))$$\n",
    "\n",
    "$$p(z_{dw}|z_{-dw},w,\\theta_d,\\beta)\\propto p(z_{dw}|\\theta_d)p(w|\\beta_{k=z_{dw}},z_{dw})$$\n",
    "\n",
    "Let's take a look at these three formulas:\n",
    "\n",
    "1. the first formula is about sampling topic words distribution $\\beta_k$ given the topic $k$, all words in this topic in all document($1:D$) $w_{(1:D),k}$. Since Dirichlet distribution is conjugate to multinomial distribution, the posterior distribution of $\\beta_k$ is still dirichlet while parameters controling each word need to update. Updating is simply add term $n_{1:W}(w_{(1:D),k})$, which is a count vector to count number of each word($1:W$) in topic $k$ in all documents($1:D$) . We repeat this for all topics($1:K$).\n",
    "\n",
    "2. the second formula is about sampling document topics distribution $\\theta_d$ given the document $d$, all positions in this document $z_{d,1:W}$ and all topic words distribution $\\beta$. Similarly, since Dirichlet distribution is conjugate to multinomial distribution, the posterior distribution of $\\theta_d$ is still dirichlet while parameters controling each topic need to update. Updating is simply add term $n_{1:K}(z_{d,1:W})$, which is a count vector to count number of $z=k$ in all words($1:W$) in document $d$ for each topic $1:K$. We repeat this for all documents($1:D$).\n",
    "\n",
    "3. the third formula is about sampling topic assignment for each position in each document $z_{dw}$ given all other position's topic assignment $z_{-dw}$, topics distribution for this document $\\theta_d$ and all topic words distribution $\\beta$. This is posterior probability of $z_{dw}$. Therefore, it is proportional to prior times likelihood. The prior term is $p(z_{dw}|\\theta_d)$, meaning given document d's topic distribution $\\theta_d$, the probability of seeing $z_{dw}$ for position $w$. The likelihood term is $p(w|\\beta_{k=z_{dw}},z_{dw})$, meaning given topic $k=z_{dw}$ words distribution $\\beta_{k=z_{dw}}$ and topic assignment of position $w$ in document d $z_{dw}$, the probability of seeing word $w$.\n",
    "\n",
    "So far we have a basic method to inference latent variable from LDA model. However, this is not computational efficiently since we need to calculate for three kind of latent variables (acutally the total number is not too less than $D+K+DW$) in each iteration. Hence, we introduce collapsed Gibbs sampling in the following part.\n",
    "\n",
    "- Collapsed Gibbs sampling\n",
    "\n",
    "Compared to standard Gibbs sampling, collapsed Gibbs sampling is more efficient. The reason is that it integrates out the latent variable $\\theta$ and $\\beta$. What is left is only $z_{dw}$ for each position in each document. Wikipedia for LDA has a specific derivation of [collapsed Gibbs sampling](https://en.wikipedia.org/wiki/Latent_Dirichlet_allocation#Inference). Here we ignore the process of that and give the result formula directly as follows:\n",
    "$$p(z_{dw}|z_{-dw},w)\\propto (n_{z}(z_{-dw})+\\alpha_{z_{dw}})\\dfrac{n_{w}(w_{1:D,z_{-dw}})+\\beta_{w}}{\\sum_{w'} n_{w'}(w_{1:D,z_{-dw}})+\\sum_{\\beta_{1:W}}}$$\n",
    "\n",
    "One easy way to understand this formula is that instead of calculating latent variable $\\theta$ and $\\beta$ from their distribution formula, we directly calculate them from the sample we get, e.g. empirical version. It can be seen from the following formulas:\n",
    "$$\\theta_d \\approx \\dfrac{n_{z}(z_{-dw})+\\alpha_{z_{dw}}}{\\sum_{z'}n_{z'}(z_{-dw})+\\sum_{z'}{\\alpha_{1:K}}}\\quad\n",
    "\\beta_k \\approx \\dfrac{n_{w}(w_{1:D,z_{-dw}})+\\beta_{w}}{\\sum_{w'} n_{w'}(w_{1:D,z_{-dw}})+\\sum_{\\beta_{1:W}}}$$\n",
    "\n",
    "Now let's implement them!"
   ]
  },
  {
   "cell_type": "markdown",
   "metadata": {},
   "source": [
    "## Model implementation\n",
    "For, Standard Gibbs sampling\n",
    "There is a good material for explaining collapsed Gibbs sampling and its algorithm [here](http://u.cs.biu.ac.il/~89-680/darling-lda.pdf). \n",
    "\n",
    "For, Collapsed Gibbs sampling\n",
    "Please look at this reference $[4]$ for pseudo code of collapsed Gibbs sampling.\n",
    "\n",
    "The whole code can also be found in the following. You can read it carefully as they are heavily commented . \n",
    "\n",
    "Before coding, one thing need to be noted is that the format of input documents. These input documents need to be processed as bag of words vector to make sure they have same length. Although it is seemlingly tougher to count each latent variables, still, we can make our life easier via construct three index vectors. They are the index of words for every word in all documents idx_W, the index of each word's document idx_D, the index of each word's topic Z."
   ]
  },
  {
   "cell_type": "code",
   "execution_count": 2,
   "metadata": {},
   "outputs": [],
   "source": [
    "import numpy as np\n",
    "import scipy as sp\n",
    "import matplotlib.pyplot as plt\n",
    "%matplotlib inline\n",
    "from sklearn.decomposition import LatentDirichletAllocation\n",
    "from sklearn.feature_extraction.text import CountVectorizer\n",
    "from collections import Counter"
   ]
  },
  {
   "cell_type": "code",
   "execution_count": 3,
   "metadata": {},
   "outputs": [],
   "source": [
    "class myLDA:\n",
    "    def __init__(self, N_K=10, alpha=1, eta=1):\n",
    "        \"\"\"\n",
    "        Model initialization\n",
    "        \n",
    "        Args:\n",
    "            N_K: number of topics specified to put in the model\n",
    "            alpha: prior parameter for dirichlet distribution of document proportion\n",
    "            eta: prior parameter for dirichlet distribution of topic proportion\n",
    "        \"\"\"\n",
    "        np.random.seed(1)\n",
    "        self.N_K = N_K\n",
    "        self.alpha = alpha\n",
    "        self.eta = eta\n",
    "        \n",
    "    # implement inference of LDA via standard Gibbs Sampling\n",
    "    def lda_sgs(self,D ,max_iter=100):\n",
    "        \"\"\"\n",
    "        Model for latent dirichlet allocation. Inferenced via standard gibbs sampling.\n",
    "\n",
    "        Args:\n",
    "            D: a list of documents.\n",
    "                N_D: number of documents\n",
    "                N_W: number of words. Different between each document. \n",
    "            max_iter: maximum number of iteration used for gibbs sampling\n",
    "        Returns:\n",
    "            (Theta, Beta, Word): a tuple consist of document topic proportion ndarray Theta and topic word proportion ndarray and a list of all unique words\n",
    "        \"\"\"\n",
    "        \n",
    "        idx_W, idx_D = self.matrix_to_list(D)\n",
    "        N_D,N_W = D.shape # get the number of documents and the number of unique words\n",
    "        \n",
    "        alpha_vec = self.alpha*np.ones(self.N_K)\n",
    "        eta_vec = self.eta*np.ones(N_W)\n",
    "        \n",
    "        # Theta: Document topic proportion\n",
    "        Theta = np.zeros([N_D,self.N_K])\n",
    "        for d in range(N_D):\n",
    "            Theta[d] = np.random.dirichlet(alpha_vec)\n",
    "            \n",
    "        # Beta: Topic word proportion\n",
    "        Beta = np.zeros([self.N_K,N_W])\n",
    "        for k in range(self.N_K):\n",
    "            Beta[k] = np.random.dirichlet(eta_vec)\n",
    "\n",
    "        # Z: Topic assignment\n",
    "        Z = np.zeros(len(idx_W)) # the kth element represent the kth word's topic\n",
    "        n_d_k = np.zeros([N_D,self.N_K]) # matrix of number of kth topic in dth document -> document topic proportion\n",
    "        n_w_k = np.zeros([N_W,self.N_K]) # matrix of number of word w in kth topic -> topic word distribution\n",
    "        for idx_w in range(len(idx_W)):\n",
    "            d = idx_D[idx_w] # get the word w's document\n",
    "            w = idx_W[idx_w] # get the idx_wth word\n",
    "            z_new = np.random.multinomial(1, Theta[d]).argmax() # randomly generate the topic\n",
    "            n_d_k[d][z_new] += 1\n",
    "            n_w_k[w][z_new] += 1\n",
    "            Z[idx_w] = z_new\n",
    "        \n",
    "        for it in  range(max_iter): # loop for each iteration\n",
    "            \n",
    "            # step1: update topic word propostion Beta\n",
    "            for k in range(self.N_K): # loop for each topic\n",
    "                eta_vec = self.eta*np.ones(N_W)\n",
    "                Beta[k] = np.random.dirichlet(eta_vec + n_w_k[:,k])\n",
    "                \n",
    "            # Step2: update document topic proportion Theta\n",
    "            for d in range(N_D): # loop for each document\n",
    "                alpha_vec = self.alpha*np.ones(self.N_K)\n",
    "                Theta[d] = np.random.dirichlet(alpha_vec + n_d_k[d]) # re-sample document topic proportion Theta\n",
    "                \n",
    "            # step3: update word topic assignment Z\n",
    "            for idx_w in range(len(idx_W)): # loop for each word\n",
    "                d = idx_D[idx_w] # get the word w's document\n",
    "                w = idx_W[idx_w] # get the idx_wth word\n",
    "                z = int(Z[idx_w]) # get the idx_wth word's current topic assignment\n",
    "                n_d_k[d][z] -= 1\n",
    "                n_w_k[w][z] -= 1\n",
    "                prob_vec = np.exp(np.log(Theta[d]) + np.log(Beta[:,w])) # probablity of likelihood x prior (vector of topics)\n",
    "                posterior_vec = prob_vec / np.sum(prob_vec) # get posterior after normalization\n",
    "                z_new = np.random.multinomial(1,posterior_vec).argmax()\n",
    "                Z[idx_w] = z_new\n",
    "                n_d_k[d][z_new] += 1\n",
    "                n_w_k[w][z_new] += 1\n",
    "                \n",
    "        return (Theta, Beta)     \n",
    "            \n",
    "    # implement inference of LDA via collapsed Gibbs Sampling\n",
    "    def lda_cgs(self,D, max_iter=100): \n",
    "        \"\"\"\n",
    "        Model for latent dirichlet allocation. Inferenced via collapsed gibbs sampling.\n",
    "\n",
    "        Args:\n",
    "            D: a sparse matrix representation of documents via bag of words. shape = [N_D,N_W]\n",
    "                N_D: number of documents\n",
    "                N_W: number of words.\n",
    "            max_iter: maximum number of iteration used for gibbs sampling\n",
    "        Returns:\n",
    "            (Theta, Beta): a tuple consist of document topic proportion ndarray Theta and topic word proportion ndarray.\n",
    "        \"\"\"\n",
    "        \n",
    "        idx_W, idx_D = self.matrix_to_list(D)\n",
    "        N_D,N_W = D.shape # get the number of documents and the number of unique words\n",
    "        \n",
    "        n_d_k = np.zeros([N_D,self.N_K]) # matrix of number of kth topic in dth document -> document topic proportion\n",
    "        n_w_k = np.zeros([N_W,self.N_K]) # matrix of number of word w in kth topic -> topic word distribution\n",
    "        n_allw_k = np.zeros(self.N_K) # vector of number of all words in kth topic\n",
    "        \n",
    "        # initialize Z: Topic assignment\n",
    "        Z = np.zeros(len(idx_W)) # the kth element represent the kth word's topic\n",
    "        \n",
    "        #loop for each word in all documents to construct three matrix: n_d_k, n_w_k, n_allw_k\n",
    "        for idx_w in range(len(idx_W)):\n",
    "            d = idx_D[idx_w] # get the word w's document\n",
    "            w = idx_W[idx_w] # get the idx_wth word\n",
    "            z_new = np.random.randint(self.N_K) # randomly generate the topic \n",
    "            n_d_k[d][z_new] += 1\n",
    "            n_w_k[w][z_new] += 1\n",
    "            n_allw_k[z_new] += 1\n",
    "            Z[idx_w] = z_new\n",
    "        \n",
    "        for it in range(max_iter): # loop for each iteration\n",
    "            for idx_w in range(len(idx_W)):\n",
    "                d = idx_D[idx_w] # get the idx_wth word's document\n",
    "                w = idx_W[idx_w] # get the idx_wth word\n",
    "                z = int(Z[idx_w]) # get the idx_wth word's current topic assignment\n",
    "                \n",
    "                n_d_k[d][z] -= 1\n",
    "                n_w_k[w][z] -= 1\n",
    "                n_allw_k[z] -= 1\n",
    "                \n",
    "                p = np.zeros(self.N_K)\n",
    "                for k in range(self.N_K): # loop for each topic\n",
    "                    p[k] = (n_d_k[d][k] + self.alpha) * (n_w_k[w][k] + self.eta) / (n_allw_k[k] + self.eta * N_W)# get current word's each topic assignment probability (un-normalized)\n",
    "                p = p/p.sum()\n",
    "                \n",
    "                z_new = np.random.choice(self.N_K,p=p)\n",
    "                Z[idx_w] = z_new\n",
    "    \n",
    "                n_d_k[d][z_new] += 1\n",
    "                n_w_k[w][z_new] += 1\n",
    "                n_allw_k[z_new] += 1\n",
    "        \n",
    "        return (n_d_k/np.sum(n_d_k,axis=1)[:,np.newaxis], np.transpose(n_w_k/n_allw_k))\n",
    "                \n",
    "    # convert a sparse matrix of document(represented as bag of words) to lists of word index and of document index            \n",
    "    def matrix_to_list(self, X):\n",
    "        \"\"\"\n",
    "        Convert a matrix of document to a list of word index and a list of document index. \n",
    "        The input matrix should be a sparse matrix.\n",
    "        The kth element in the list of document index corresponding to the kth word.\n",
    "        Args:\n",
    "            X: a sparse matrix of documents.\n",
    "        Returns:\n",
    "            (idx_W, idx_D): a tuple consist of a list of word index and a list of document index\n",
    "        \"\"\"\n",
    "        X = X.tocoo()\n",
    "        data = X.data\n",
    "        row = X.row\n",
    "        col = X.col\n",
    "        idx_W = np.repeat(col,data)\n",
    "        idx_D = np.repeat(row,data)\n",
    "        \n",
    "        return (idx_W, idx_D)\n",
    "    \n",
    "    def visualization(self, Theta ,Beta ,n='all', m='all'):\n",
    "        \"\"\"\n",
    "        Visualize the document topic proportion and topic word distribution\n",
    "        Args:\n",
    "            Theta: document topic proportion.\n",
    "            Beta: topic word distribution for Theta.\n",
    "            n: number of topics to visualize. Default is all. Ordered by value\n",
    "            m: number of words to visualize for Beta. Default is all. Ordered by value\n",
    "        \"\"\"\n",
    "        if(n=='all' or n > Theta.shape[1]): n = Theta.shape[1]\n",
    "        if(m=='all' or m > Beta.shape[1]): m = Beta.shape[1]\n",
    "        \n",
    "        plot_Theta_index = Theta.argsort(axis=1)[:,::-1][:,:n]\n",
    "        plot_Beta_index = Beta.argsort(axis=1)[:,::-1][:,:m]\n",
    "        # get the row/column index of item to be plot\n",
    "        col_Theta = list(plot_Theta_index.flat)\n",
    "        col_Beta = list(plot_Beta_index.flat)\n",
    "        row_Theta = np.repeat(np.arange(Theta.shape[0]),n)\n",
    "        row_Beta = np.repeat(np.arange(Beta.shape[0]),m)\n",
    "        plot_Theta = Theta[row_Theta,col_Theta].reshape([Theta.shape[0],n])\n",
    "        plot_Beta = Beta[row_Beta,col_Beta].reshape([Beta.shape[0],m])\n",
    "        \n",
    "        fig, ax= plt.subplots(ncols=Theta.shape[0])\n",
    "        i=0\n",
    "        for col in ax:\n",
    "            col.bar(plot_Theta_index[i], plot_Theta[i])\n",
    "            i += 1\n",
    "        plt.tight_layout()\n",
    "        \n",
    "        fig, ax= plt.subplots(ncols=Beta.shape[0])\n",
    "        i=0\n",
    "        for col in ax:\n",
    "            col.bar(plot_Beta_index[i], plot_Beta[i])\n",
    "            i += 1\n",
    "        plt.tight_layout()\n",
    "        \n",
    "        plt.show()"
   ]
  },
  {
   "cell_type": "markdown",
   "metadata": {},
   "source": [
    "## Play with our model\n",
    "Here we show two examples. One is a very toy example to check if our model works well. In another example, we will get some short paragraph from real news as our document and put them into our LDA model and the python sklearn package's LDA model and compare their result. The result may be a little different since we use Gibbs sampling to do inference while sklearn use variational method.\n",
    "\n",
    "__note__: In the real application, LDA works not good if documents are too short. It works well for hung amount of documents and also after some pre-processing such as lemmatization, getting rid of stop words, etc."
   ]
  },
  {
   "cell_type": "markdown",
   "metadata": {},
   "source": [
    "- Toy example"
   ]
  },
  {
   "cell_type": "code",
   "execution_count": 92,
   "metadata": {},
   "outputs": [
    {
     "name": "stdout",
     "output_type": "stream",
     "text": [
      "******Standard Gibbs Sampling******\n",
      "Document topic proportion:\n",
      "[[ 0.05501766  0.94498234]\n",
      " [ 0.15035029  0.84964971]\n",
      " [ 0.80038678  0.19961322]\n",
      " [ 0.76326565  0.23673435]\n",
      " [ 0.04671193  0.95328807]]\n",
      "Topic word proportion\n",
      "[[ 0.27760591  0.43785051  0.0043018   0.06959751  0.21064427]\n",
      " [ 0.00142387  0.04409961  0.54931774  0.34720817  0.05795061]]\n",
      "Visualization\n"
     ]
    },
    {
     "data": {
      "image/png": "[encoded data removed]",
      "text/plain": [
       "<matplotlib.figure.Figure at 0x1a170f0d68>"
      ]
     },
     "metadata": {},
     "output_type": "display_data"
    },
    {
     "data": {
      "image/png": "[encoded data removed]",
      "text/plain": [
       "<matplotlib.figure.Figure at 0x1a0e2e83c8>"
      ]
     },
     "metadata": {},
     "output_type": "display_data"
    },
    {
     "name": "stdout",
     "output_type": "stream",
     "text": [
      "Bag of words mapping function:\n",
      "{'like': 3, 'dog': 2, 'cat': 1, 'amy': 0, 'love': 4}\n",
      "******Collapsed Gibbs Sampling******\n",
      "Document topic proportion:\n",
      "[[ 1.   0. ]\n",
      " [ 0.8  0.2]\n",
      " [ 0.   1. ]\n",
      " [ 0.   1. ]\n",
      " [ 1.   0. ]]\n",
      "Topic word proportion\n",
      "[[ 0.          0.          0.66666667  0.33333333  0.        ]\n",
      " [ 0.25        0.41666667  0.08333333  0.          0.25      ]]\n",
      "Visualization\n"
     ]
    },
    {
     "data": {
      "image/png": "[encoded data removed]",
      "text/plain": [
       "<matplotlib.figure.Figure at 0x1a170b7438>"
      ]
     },
     "metadata": {},
     "output_type": "display_data"
    },
    {
     "data": {
      "image/png": "[encoded data removed]",
      "text/plain": [
       "<matplotlib.figure.Figure at 0x1a18733d30>"
      ]
     },
     "metadata": {},
     "output_type": "display_data"
    },
    {
     "name": "stdout",
     "output_type": "stream",
     "text": [
      "Bag of words mapping function:\n",
      "{'like': 3, 'dog': 2, 'cat': 1, 'amy': 0, 'love': 4}\n"
     ]
    }
   ],
   "source": [
    "mylda = myLDA(N_K=2)\n",
    "test_doc = ['I like dog',\n",
    "           'dog dog dog I like dog',\n",
    "           'cat cat cat Amy love cat',\n",
    "           'Amy love cat Amy love',\n",
    "           'dog dog like I']\n",
    "tf_vectorizer_test = CountVectorizer()\n",
    "tf_test = tf_vectorizer_test.fit_transform(test_doc)\n",
    "(Theta_sgs, Beta_sgs) = mylda.lda_sgs(tf_test)\n",
    "print(\"******Standard Gibbs Sampling******\")\n",
    "print(\"Document topic proportion:\")\n",
    "print(Theta_sgs)\n",
    "print(\"Topic word proportion\")\n",
    "print(Beta_sgs)\n",
    "print(\"Visualization\")\n",
    "mylda.visualization(Theta_sgs,Beta_sgs)\n",
    "print(\"Bag of words mapping function:\")\n",
    "print(tf_vectorizer_test.vocabulary_)\n",
    "\n",
    "(Theta_cgs, Beta_cgs) = mylda.lda_cgs(tf_test)\n",
    "print(\"******Collapsed Gibbs Sampling******\")\n",
    "print(\"Document topic proportion:\")\n",
    "print(Theta_cgs)\n",
    "print(\"Topic word proportion\")\n",
    "print(Beta_cgs)\n",
    "print(\"Visualization\")\n",
    "mylda.visualization(Theta_cgs,Beta_cgs)\n",
    "print(\"Bag of words mapping function:\")\n",
    "print(tf_vectorizer_test.vocabulary_)"
   ]
  },
  {
   "cell_type": "markdown",
   "metadata": {},
   "source": [
    "- Comparison example"
   ]
  },
  {
   "cell_type": "code",
   "execution_count": 93,
   "metadata": {
    "scrolled": true
   },
   "outputs": [
    {
     "name": "stdout",
     "output_type": "stream",
     "text": [
      "Visualization for myLDA via collapsed Gibbs sampling\n"
     ]
    },
    {
     "data": {
      "image/png": "[encoded data removed]",
      "text/plain": [
       "<matplotlib.figure.Figure at 0x1a168f3ba8>"
      ]
     },
     "metadata": {},
     "output_type": "display_data"
    },
    {
     "data": {
      "image/png": "[encoded data removed]",
      "text/plain": [
       "<matplotlib.figure.Figure at 0x1a1893fa90>"
      ]
     },
     "metadata": {},
     "output_type": "display_data"
    },
    {
     "name": "stdout",
     "output_type": "stream",
     "text": [
      "Visualization for sklearn LDA\n"
     ]
    },
    {
     "data": {
      "image/png": "[encoded data removed]",
      "text/plain": [
       "<matplotlib.figure.Figure at 0x1a1806a358>"
      ]
     },
     "metadata": {},
     "output_type": "display_data"
    },
    {
     "data": {
      "image/png": "[encoded data removed]",
      "text/plain": [
       "<matplotlib.figure.Figure at 0x1a17086278>"
      ]
     },
     "metadata": {},
     "output_type": "display_data"
    }
   ],
   "source": [
    "mylda2 = myLDA(N_K=2)\n",
    "\n",
    "test_doc = ['Dropbox, the online file storage company, said on Monday that it hoped to raise as much as $648 million in its forthcoming stock market debut, setting up the final stage along its path to becoming the next big publicly traded Silicon Valley darling.',\n",
    "           'In an updated prospectus, Dropbox said that it planned to sell 36 million shares between $16 and $18 a share. At the midpoint of that range, the company would be valued at roughly $7.5 billion, factoring in restricted stock units and options. That is down from its most recent valuation of $10 billion from previous private investors.',\n",
    "           'Dropbox is likely to begin trading on the Nasdaq stock market — under the ticker symbol “DBX” — by the end of next week.',\n",
    "           'United had hoped the sweepstakes approach would “build excitement and a sense of accomplishment.” But after workers deluged the company with hostile comments, the airline said last week that it was “pressing the pause button on these changes.”',\n",
    "           '“Lotteries in general may be more effective than fixed payments, as people tend to overweigh small probabilities in making decisions,” the paper noted.']\n",
    "\n",
    "tf_vectorizer2 = CountVectorizer()\n",
    "tf2 = tf_vectorizer2.fit_transform(test_doc)\n",
    "Theta, Beta = mylda2.lda_cgs(tf2,max_iter=100)\n",
    "print(\"Visualization for myLDA via collapsed Gibbs sampling\")\n",
    "mylda2.visualization(Theta,Beta,m=10)\n",
    "\n",
    "tf_vectorizer_sl = CountVectorizer()\n",
    "tf_sl = tf_vectorizer_sl.fit_transform(test_doc)\n",
    "lda_sl = LatentDirichletAllocation(n_components=2, learning_method='batch')\n",
    "lda_sl.fit(tf_sl)\n",
    "Theta_sl = lda_sl.transform(tf_sl) / lda_sl.transform(tf_sl).sum(axis=1)[:, np.newaxis]\n",
    "Beta_sl = lda_sl.components_ / lda_sl.components_.sum(axis=1)[:, np.newaxis]\n",
    "print(\"Visualization for sklearn LDA\")\n",
    "mylda2.visualization(Theta_sl,Beta_sl,m=10)"
   ]
  },
  {
   "cell_type": "markdown",
   "metadata": {},
   "source": [
    "## references\n",
    "\n",
    "1. David M.Blei, Andrew Y.Ng, Micheal I.Jordan. Latent Dirichlet allocation. http://www.jmlr.org/papers/volume3/blei03a/blei03a.pdf\n",
    "2. Lecture of topic model delivered by David M.Blei. http://videolectures.net/mlss09uk_blei_tm/.\n",
    "3. Chandler May, Alex Clemmer and Benjamin Van Durme. Particle Filter Rejuvenation and Latent Dirichlet Allocation. http://www.aclweb.org/anthology/P14-2073.\n",
    "4. William M. Darling. A Theoretical and Practical Implementation Tutorial on Topic Modeling and Gibbs Sampling. http://u.cs.biu.ac.il/~89-680/darling-lda.pdf."
   ]
  }
 ],
 "metadata": {
  "kernelspec": {
   "display_name": "Python 3",
   "language": "python",
   "name": "python3"
  },
  "language_info": {
   "codemirror_mode": {
    "name": "ipython",
    "version": 3
   },
   "file_extension": ".py",
   "mimetype": "text/x-python",
   "name": "python",
   "nbconvert_exporter": "python",
   "pygments_lexer": "ipython3",
   "version": "3.6.3"
  }
 },
 "nbformat": 4,
 "nbformat_minor": 2
}
