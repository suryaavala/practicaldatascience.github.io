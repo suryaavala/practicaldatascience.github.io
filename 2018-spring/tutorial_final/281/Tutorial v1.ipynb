{
 "cells": [
  {
   "cell_type": "markdown",
   "metadata": {},
   "source": [
    "# Introduction to Tensorflow\n",
    "\n",
    "In this tutorial, we will learn about the basics of Tensorflow and how it helps to implement simple deep learning architectures. \n",
    "\n",
    "\n",
    "## What is Tensorflow?\n",
    "\n",
    "Tensorflow is a library which was developed by the Google Brain team in November, 2015. It is gaining popularity as a library for numerical computation using data flow graphs. The graph structure has been designed such that the nodes represent mathematical operations and the edges represent tensors. Tensors are nothing but n-dimensional arrays. The main reason for tensorflow's popularity is:\n",
    "\n",
    "1) Adaptability in a variety of programming languages e.g. Octave, C++, Python.\n",
    "\n",
    "2) It is an open-source library.\n",
    "\n",
    "3) It provides GPU support to allow for complex calculations on most kinds of computing devices.\n",
    "\n",
    "4) Great network architecture visualization using Tensorboard\n",
    "\n",
    "4) It has been made by Google and is becoming a standard across various organizations!\n",
    "\n",
    "TensorFlow was originally developed by researchers and engineers working on the Google Brain Team within Google's Machine Intelligence research organization for the purposes of conducting machine learning and deep neural networks research.\n",
    "\n",
    "## Installing Tensorflow\n",
    "\n",
    "There are two ways to install Tensorflow. The first is through the native pip method. The other is through Anaconda. For obvious purposes, we will install it on Anaconda.\n",
    "\n",
    "1) Create a conda environment named tensorflow by invoking the following command:\n",
    "\n",
    "        C:> conda create -n tensorflow pip python=3.5\n",
    "        \n",
    "2) Activate the conda environment by issuing the following command:\n",
    "\n",
    "        C:> activate tensorflow\n",
    "        (tensorflow)C:>  # Your prompt should change\n",
    "        \n",
    "3) Issue the appropriate command to install TensorFlow inside your conda environment. To install the CPU-only version of TensorFlow, enter the following command:\n",
    "\n",
    "        (tensorflow)C:> pip install --ignore-installed --upgrade tensorflow #CPU support only\n",
    "        \n",
    "4) Additional steps - You might need to install other libraries also in the Tensorflow environment. For this open the conda prompt and issue the following command:\n",
    "\n",
    "        (tensorflow)C:> pip install --ignore-installed --upgrade tensorflow #CPU support only\n",
    "        \n",
    "## Validating Installation and First Program\n",
    "\n",
    "We will run our first tensorflow program. This will also help us to validate whether the library has been downloaded properly or not."
   ]
  },
  {
   "cell_type": "code",
   "execution_count": 1,
   "metadata": {},
   "outputs": [],
   "source": [
    "import tensorflow as tf      # It is so popular that it has its own short-form\n",
    "import pandas as pd          # May require to be installed in the Tensorflow environment separately\n",
    "import numpy as np\n",
    "import matplotlib.pyplot as plt     # May require to be installed in the Tensorflow environment separately\n",
    "import csv\n",
    "import sklearn # May require to be installed in the Tensorflow environment separately\n",
    "# May need to install scipy also separately"
   ]
  },
  {
   "cell_type": "code",
   "execution_count": 2,
   "metadata": {},
   "outputs": [
    {
     "name": "stdout",
     "output_type": "stream",
     "text": [
      "b'Hello, TensorFlow!'\n"
     ]
    }
   ],
   "source": [
    "hello = tf.constant('Hello, TensorFlow!')\n",
    "sess = tf.Session()                        #A session allocates resources for computations and holds the actual values of intermediate results and variables.\n",
    "print(sess.run(hello))                     #You need to run the session"
   ]
  },
  {
   "cell_type": "markdown",
   "metadata": {},
   "source": [
    "You should be able to see the output: \"b'Hello, TensorFlow!'\"\n",
    "\n",
    "## Learning the basics\n",
    "\n",
    "Before attempting to code a complex neural network, it would be better if we could could learn the basic syntax and programming by attempting a simple linear regressional model. \n",
    "\n",
    "Before programming, we will discuss some basics. There are basically three types of data in Tensorflow:\n",
    "\n",
    "1) Constants - These are constant values which cannot be changed after they are initialized. \n",
    "\n",
    "2) Variables - Variables are basically values which can be changed after initialization.\n",
    "\n",
    "3) Placeholders - A placeholder is simply a variable that we will assign data to at a later date. It allows us to create our operations and build our computation graph, without needing the data.\n",
    "\n",
    "There are in-built iterative functions which allow for regression and updating the weights in Tensorflow. We will use the GradientDescentOptimizer function to solve a simple linear regression to get started. Please read comments below to understand the code."
   ]
  },
  {
   "cell_type": "code",
   "execution_count": 20,
   "metadata": {
    "scrolled": true
   },
   "outputs": [
    {
     "name": "stdout",
     "output_type": "stream",
     "text": [
      "[0.9756 1.7356 2.4956 3.2556]\n",
      "25.591053\n"
     ]
    }
   ],
   "source": [
    "sess = tf.Session()\n",
    "\n",
    "W = tf.Variable([0.76])                              # initialization of weights. Can be zero\n",
    "b = tf.Variable([0.2156])                            # initialization of bias term. Can be zero\n",
    "x = tf.placeholder(tf.float32)                       # initialization of the input vector\n",
    "linear_model = W*x+b                                 # This is our predicted output for the input vector based on weights\n",
    "\n",
    "init = tf.global_variables_initializer()             # Just declaring the variables does not allow allocation of resources.\n",
    "sess.run(init)                                       # You need to create an initializer for the variables and then run the\n",
    "                                                     # the initializer in the session\n",
    "    \n",
    "print(sess.run(linear_model, {x:[1,2,3,4]}))         # This will output the original prediction according to the weights\n",
    "\n",
    "# This is where the distinction between placeholder and variable becomes clear. You do not want to initialize your actual \n",
    "# output with a value. The value will be received later.\n",
    "\n",
    "y = tf.placeholder(tf.float32)                       \n",
    "\n",
    "# Implementing the least squares error loss function. This calculates the squared loss vector\n",
    "squared_deltas = tf.square(linear_model - y)\n",
    "\n",
    "# This reduces all the vector values to a single sum\n",
    "loss = tf.reduce_sum(squared_deltas)\n",
    "\n",
    "# The actual output vector needs to be [-3,-1,1,3]. We calculate the loss function between the predicted value of y \n",
    "# and actual value of y using the initialized weights and bias term.\n",
    "\n",
    "print(sess.run(loss, {x:[1,2,3,4], y:[-3,-1,1,3]}))"
   ]
  },
  {
   "cell_type": "markdown",
   "metadata": {},
   "source": [
    "We will get the  predicted y-values as [0.9756 1.7356 2.4956 3.2556]. This is much different than the required output [-3,-1,1,3]. Also, the loss function as 25.591053. This is a very large loss.\n",
    "\n",
    "Now, we will use GradientDescentOptimizer function to train the weights."
   ]
  },
  {
   "cell_type": "code",
   "execution_count": 21,
   "metadata": {},
   "outputs": [
    {
     "name": "stdout",
     "output_type": "stream",
     "text": [
      "[array([1.9999893], dtype=float32), array([-4.9999685], dtype=float32)]\n",
      "6.6239636e-10\n"
     ]
    }
   ],
   "source": [
    "train = tf.train.GradientDescentOptimizer(0.01).minimize(loss) \n",
    "# Now, the above function will do all the heavy weight lifting. In each iteration, it will train the weights at the learning rate\n",
    "# of 0.01 and try to reach the optima at which the weights predict the values correctly. We will run this for 1000\n",
    "# iterations below\n",
    "for i in range(1000):\n",
    "    sess.run(train, {x:[1,2,3,4], y:[-3,-1,1,3]})\n",
    "print(sess.run([W,b]))\n",
    "print(sess.run(loss, {x:[1,2,3,4], y:[-3,-1,1,3]}))"
   ]
  },
  {
   "cell_type": "markdown",
   "metadata": {},
   "source": [
    "The weights are almost 2 and -5. The method does not give a closed form solution. So, you do not get the exact value. However, it is close enough. Now, with this basic information, we might be ready to try implementing a neural network architecture to classify data.\n",
    "\n",
    "## Dataset Selection and Cleaning\n",
    "\n",
    "The dataset we will be working on is the primary results from the 2016 US elections. This is an interesting dataset because it involved very unpredictable results. What would be interesting to see is if we can predict the winners in each county voting for the election of the Democratic and Republican presumptive nominee. The Democrats had two candidates and the Republicans had 17.\n",
    "\n",
    "We will be training a neural network such that if we know the outcome of the primary elections in 80% of the counties, will we be able to predict the winner for the other  states? A good way to frame the question will be to see if demographics has some underlying criteria which helps in determining the winner of the elections. For this, we first need to upload and perform data cleaning on the dataset.\n"
   ]
  },
  {
   "cell_type": "code",
   "execution_count": 22,
   "metadata": {},
   "outputs": [
    {
     "name": "stdout",
     "output_type": "stream",
     "text": [
      "     state state_abbreviation   county    fips     party        candidate  \\\n",
      "0  Alabama                 AL  Autauga  1001.0  Democrat   Bernie Sanders   \n",
      "1  Alabama                 AL  Autauga  1001.0  Democrat  Hillary Clinton   \n",
      "2  Alabama                 AL  Baldwin  1003.0  Democrat   Bernie Sanders   \n",
      "3  Alabama                 AL  Baldwin  1003.0  Democrat  Hillary Clinton   \n",
      "4  Alabama                 AL  Barbour  1005.0  Democrat   Bernie Sanders   \n",
      "\n",
      "   votes  fraction_votes  \n",
      "0    544           0.182  \n",
      "1   2387           0.800  \n",
      "2   2694           0.329  \n",
      "3   5290           0.647  \n",
      "4    222           0.078  \n",
      "   fips       area_name state_abbreviation  PST045214  PST040210  PST120214  \\\n",
      "0     0   United States                NaN  318857056  308758105        3.3   \n",
      "1  1000         Alabama                NaN    4849377    4780127        1.4   \n",
      "2  1001  Autauga County                 AL      55395      54571        1.5   \n",
      "3  1003  Baldwin County                 AL     200111     182265        9.8   \n",
      "4  1005  Barbour County                 AL      26887      27457       -2.1   \n",
      "\n",
      "   POP010210  AGE135214  AGE295214  AGE775214    ...      SBO415207  \\\n",
      "0  308745538        6.2       23.1       14.5    ...            8.3   \n",
      "1    4779736        6.1       22.8       15.3    ...            1.2   \n",
      "2      54571        6.0       25.2       13.8    ...            0.7   \n",
      "3     182265        5.6       22.2       18.7    ...            1.3   \n",
      "4      27457        5.7       21.2       16.5    ...            0.0   \n",
      "\n",
      "   SBO015207   MAN450207   WTN220207   RTN130207  RTN131207  AFN120207  \\\n",
      "0       28.8  5319456312  4174286516  3917663456      12990  613795732   \n",
      "1       28.1   112858843    52252752    57344851      12364    6426342   \n",
      "2       31.7           0           0      598175      12003      88157   \n",
      "3       27.3     1410273           0     2966489      17166     436955   \n",
      "4       27.0           0           0      188337       6334          0   \n",
      "\n",
      "   BPS030214   LND110210  POP060210  \n",
      "0    1046363  3531905.43       87.4  \n",
      "1      13369    50645.33       94.4  \n",
      "2        131      594.44       91.8  \n",
      "3       1384     1589.78      114.6  \n",
      "4          8      884.88       31.0  \n",
      "\n",
      "[5 rows x 54 columns]\n"
     ]
    }
   ],
   "source": [
    "mydatares = pd.read_csv(\"C:/Users/Yash Kumar/Desktop/Studies/Spring 2018/Practical Data Science/Tutorial/primary_results.csv\")\n",
    "mydatacty = pd.read_csv(\"C:/Users/Yash Kumar/Desktop/Studies/Spring 2018/Practical Data Science/Tutorial/county_facts.csv\")\n",
    "# print(mydatares.head())\n",
    "# print(mydatacty.head())"
   ]
  },
  {
   "cell_type": "markdown",
   "metadata": {},
   "source": [
    "So, the first dataset contains the labels i.e. how many votes each candidate got in each sector, and the second set contains the demographics of each county.\n",
    "\n",
    "First of all, we need to clean up the demographics dataset as it has state, national and NaN values as well apart from county values. As we only need the county values, we will need to discard the combined country/state values. Also, the demographics data has a lot of categories. The data dictionary csv file explains what these are. It will be easier to choose the features for the neural network, if we replace the data dictionary columns with their meanings.\n",
    "\n",
    "Then, cleaning is also required in the label dataset. Firstly, we need to split the dataset for Democrats and Republicans, because each county had separate voting for the two parties. The labels are not explicitly given for the dataset. We only know how many votes each candidate got. We need to the most voted candidate for each county. In the end, we will inner join the two datasets based on the county name, so that we have each of the feature instances matched with their labels."
   ]
  },
  {
   "cell_type": "code",
   "execution_count": 23,
   "metadata": {},
   "outputs": [
    {
     "data": {
      "text/plain": [
       "{'AFN120207': 'Accommodation and food services sales, 2007 ($1,000)',\n",
       " 'AGE135214': 'Persons under 5 years, percent, 2014',\n",
       " 'AGE295214': 'Persons under 18 years, percent, 2014',\n",
       " 'AGE775214': 'Persons 65 years and over, percent, 2014',\n",
       " 'BPS030214': 'Building permits, 2014',\n",
       " 'BZA010213': 'Private nonfarm establishments, 2013',\n",
       " 'BZA110213': 'Private nonfarm employment,  2013',\n",
       " 'BZA115213': 'Private nonfarm employment, percent change, 2012-2013',\n",
       " 'EDU635213': 'High school graduate or higher, percent of persons age 25+, 2009-2013',\n",
       " 'EDU685213': \"Bachelor's degree or higher, percent of persons age 25+, 2009-2013\",\n",
       " 'HSD310213': 'Persons per household, 2009-2013',\n",
       " 'HSD410213': 'Households, 2009-2013',\n",
       " 'HSG010214': 'Housing units, 2014',\n",
       " 'HSG096213': 'Housing units in multi-unit structures, percent, 2009-2013',\n",
       " 'HSG445213': 'Homeownership rate, 2009-2013',\n",
       " 'HSG495213': 'Median value of owner-occupied housing units, 2009-2013',\n",
       " 'INC110213': 'Median household income, 2009-2013',\n",
       " 'INC910213': 'Per capita money income in past 12 months (2013 dollars), 2009-2013',\n",
       " 'LFE305213': 'Mean travel time to work (minutes), workers age 16+, 2009-2013',\n",
       " 'LND110210': 'Land area in square miles, 2010',\n",
       " 'MAN450207': 'Manufacturers shipments, 2007 ($1,000)',\n",
       " 'NES010213': 'Nonemployer establishments, 2013',\n",
       " 'POP010210': 'Population, 2010',\n",
       " 'POP060210': 'Population per square mile, 2010',\n",
       " 'POP645213': 'Foreign born persons, percent, 2009-2013',\n",
       " 'POP715213': 'Living in same house 1 year & over, percent, 2009-2013',\n",
       " 'POP815213': 'Language other than English spoken at home, pct age 5+, 2009-2013',\n",
       " 'PST040210': 'Population, 2010 (April 1) estimates base',\n",
       " 'PST045214': 'Population, 2014 estimate',\n",
       " 'PST120214': 'Population, percent change - April 1, 2010 to July 1, 2014',\n",
       " 'PVY020213': 'Persons below poverty level, percent, 2009-2013',\n",
       " 'RHI125214': 'White alone, percent, 2014',\n",
       " 'RHI225214': 'Black or African American alone, percent, 2014',\n",
       " 'RHI325214': 'American Indian and Alaska Native alone, percent, 2014',\n",
       " 'RHI425214': 'Asian alone, percent, 2014',\n",
       " 'RHI525214': 'Native Hawaiian and Other Pacific Islander alone, percent, 2014',\n",
       " 'RHI625214': 'Two or More Races, percent, 2014',\n",
       " 'RHI725214': 'Hispanic or Latino, percent, 2014',\n",
       " 'RHI825214': 'White alone, not Hispanic or Latino, percent, 2014',\n",
       " 'RTN130207': 'Retail sales, 2007 ($1,000)',\n",
       " 'RTN131207': 'Retail sales per capita, 2007',\n",
       " 'SBO001207': 'Total number of firms, 2007',\n",
       " 'SBO015207': 'Women-owned firms, percent, 2007',\n",
       " 'SBO115207': 'American Indian- and Alaska Native-owned firms, percent, 2007',\n",
       " 'SBO215207': 'Asian-owned firms, percent, 2007',\n",
       " 'SBO315207': 'Black-owned firms, percent, 2007',\n",
       " 'SBO415207': 'Hispanic-owned firms, percent, 2007',\n",
       " 'SBO515207': 'Native Hawaiian- and Other Pacific Islander-owned firms, percent, 2007',\n",
       " 'SEX255214': 'Female persons, percent, 2014',\n",
       " 'VET605213': 'Veterans, 2009-2013',\n",
       " 'WTN220207': 'Merchant wholesaler sales, 2007 ($1,000)'}"
      ]
     },
     "execution_count": 23,
     "metadata": {},
     "output_type": "execute_result"
    }
   ],
   "source": [
    "mydatacty = mydatacty.dropna()   # dropping all the NA values\n",
    "mydatares = mydatares.dropna()   # dropping all the NA values\n",
    "reader = csv.DictReader(open('county_facts_dictionary.csv')) # loading the data dictionary\n",
    "result = {}\n",
    "for row in reader:\n",
    "    result[row['column_name']] = row['description']\n",
    "(result)"
   ]
  },
  {
   "cell_type": "code",
   "execution_count": 24,
   "metadata": {},
   "outputs": [],
   "source": [
    "mydatarep = mydatares[mydatares[\"party\"]==\"Republican\"]\n",
    "mydatadem = mydatares[mydatares[\"party\"]==\"Democrat\"]\n",
    "# print(mydatarep.head())\n",
    "# print(mydatadem.head())"
   ]
  },
  {
   "cell_type": "code",
   "execution_count": 25,
   "metadata": {},
   "outputs": [],
   "source": [
    "# As there are only two candidates, we will choose the highest voted candidate for each county.\n",
    "mydatadem = mydatadem[mydatadem[\"fraction_votes\"] > 0.5]\n",
    "# print(mydatadem.head())"
   ]
  },
  {
   "cell_type": "code",
   "execution_count": 26,
   "metadata": {},
   "outputs": [],
   "source": [
    "# Separating the winning candidate for the republican party is slightly challenging. We will need to group by the fips code\n",
    "# and separate the max fraction of votes for each candidate. This will allow us to choose the top-voted candidate for each \n",
    "# county\n",
    "mask = mydatarep.groupby(['fips']).agg('idxmax')\n",
    "mydatarep = mydatarep.loc[mask['fraction_votes']]\n",
    "# len(mydatarep)"
   ]
  },
  {
   "cell_type": "code",
   "execution_count": 27,
   "metadata": {
    "scrolled": true
   },
   "outputs": [
    {
     "name": "stdout",
     "output_type": "stream",
     "text": [
      "         state state_abbreviation   county    fips       party     candidate  \\\n",
      "135.0  Alabama                 AL  Autauga  1001.0  Republican  Donald Trump   \n",
      "140.0  Alabama                 AL  Baldwin  1003.0  Republican  Donald Trump   \n",
      "145.0  Alabama                 AL  Barbour  1005.0  Republican  Donald Trump   \n",
      "150.0  Alabama                 AL     Bibb  1007.0  Republican  Donald Trump   \n",
      "155.0  Alabama                 AL   Blount  1009.0  Republican  Donald Trump   \n",
      "\n",
      "       votes  fraction_votes  \n",
      "135.0   5387           0.445  \n",
      "140.0  23618           0.469  \n",
      "145.0   1710           0.501  \n",
      "150.0   1959           0.494  \n",
      "155.0   7390           0.487  \n",
      "     state state_abbreviation   county    fips     party        candidate  \\\n",
      "1  Alabama                 AL  Autauga  1001.0  Democrat  Hillary Clinton   \n",
      "3  Alabama                 AL  Baldwin  1003.0  Democrat  Hillary Clinton   \n",
      "5  Alabama                 AL  Barbour  1005.0  Democrat  Hillary Clinton   \n",
      "7  Alabama                 AL     Bibb  1007.0  Democrat  Hillary Clinton   \n",
      "9  Alabama                 AL   Blount  1009.0  Democrat  Hillary Clinton   \n",
      "\n",
      "   votes  fraction_votes  \n",
      "1   2387           0.800  \n",
      "3   5290           0.647  \n",
      "5   2567           0.906  \n",
      "7    942           0.755  \n",
      "9    564           0.551  \n"
     ]
    },
    {
     "data": {
      "text/html": [
       "<div>\n",
       "<style scoped>\n",
       "    .dataframe tbody tr th:only-of-type {\n",
       "        vertical-align: middle;\n",
       "    }\n",
       "\n",
       "    .dataframe tbody tr th {\n",
       "        vertical-align: top;\n",
       "    }\n",
       "\n",
       "    .dataframe thead th {\n",
       "        text-align: right;\n",
       "    }\n",
       "</style>\n",
       "<table border=\"1\" class=\"dataframe\">\n",
       "  <thead>\n",
       "    <tr style=\"text-align: right;\">\n",
       "      <th></th>\n",
       "      <th>fips</th>\n",
       "      <th>area_name</th>\n",
       "      <th>state_abbreviation</th>\n",
       "      <th>PST045214</th>\n",
       "      <th>PST040210</th>\n",
       "      <th>PST120214</th>\n",
       "      <th>POP010210</th>\n",
       "      <th>AGE135214</th>\n",
       "      <th>AGE295214</th>\n",
       "      <th>AGE775214</th>\n",
       "      <th>...</th>\n",
       "      <th>SBO415207</th>\n",
       "      <th>SBO015207</th>\n",
       "      <th>MAN450207</th>\n",
       "      <th>WTN220207</th>\n",
       "      <th>RTN130207</th>\n",
       "      <th>RTN131207</th>\n",
       "      <th>AFN120207</th>\n",
       "      <th>BPS030214</th>\n",
       "      <th>LND110210</th>\n",
       "      <th>POP060210</th>\n",
       "    </tr>\n",
       "  </thead>\n",
       "  <tbody>\n",
       "    <tr>\n",
       "      <th>2</th>\n",
       "      <td>1001</td>\n",
       "      <td>Autauga County</td>\n",
       "      <td>AL</td>\n",
       "      <td>55395</td>\n",
       "      <td>54571</td>\n",
       "      <td>1.5</td>\n",
       "      <td>54571</td>\n",
       "      <td>6.0</td>\n",
       "      <td>25.2</td>\n",
       "      <td>13.8</td>\n",
       "      <td>...</td>\n",
       "      <td>0.7</td>\n",
       "      <td>31.7</td>\n",
       "      <td>0</td>\n",
       "      <td>0</td>\n",
       "      <td>598175</td>\n",
       "      <td>12003</td>\n",
       "      <td>88157</td>\n",
       "      <td>131</td>\n",
       "      <td>594.44</td>\n",
       "      <td>91.8</td>\n",
       "    </tr>\n",
       "    <tr>\n",
       "      <th>3</th>\n",
       "      <td>1003</td>\n",
       "      <td>Baldwin County</td>\n",
       "      <td>AL</td>\n",
       "      <td>200111</td>\n",
       "      <td>182265</td>\n",
       "      <td>9.8</td>\n",
       "      <td>182265</td>\n",
       "      <td>5.6</td>\n",
       "      <td>22.2</td>\n",
       "      <td>18.7</td>\n",
       "      <td>...</td>\n",
       "      <td>1.3</td>\n",
       "      <td>27.3</td>\n",
       "      <td>1410273</td>\n",
       "      <td>0</td>\n",
       "      <td>2966489</td>\n",
       "      <td>17166</td>\n",
       "      <td>436955</td>\n",
       "      <td>1384</td>\n",
       "      <td>1589.78</td>\n",
       "      <td>114.6</td>\n",
       "    </tr>\n",
       "    <tr>\n",
       "      <th>4</th>\n",
       "      <td>1005</td>\n",
       "      <td>Barbour County</td>\n",
       "      <td>AL</td>\n",
       "      <td>26887</td>\n",
       "      <td>27457</td>\n",
       "      <td>-2.1</td>\n",
       "      <td>27457</td>\n",
       "      <td>5.7</td>\n",
       "      <td>21.2</td>\n",
       "      <td>16.5</td>\n",
       "      <td>...</td>\n",
       "      <td>0.0</td>\n",
       "      <td>27.0</td>\n",
       "      <td>0</td>\n",
       "      <td>0</td>\n",
       "      <td>188337</td>\n",
       "      <td>6334</td>\n",
       "      <td>0</td>\n",
       "      <td>8</td>\n",
       "      <td>884.88</td>\n",
       "      <td>31.0</td>\n",
       "    </tr>\n",
       "    <tr>\n",
       "      <th>5</th>\n",
       "      <td>1007</td>\n",
       "      <td>Bibb County</td>\n",
       "      <td>AL</td>\n",
       "      <td>22506</td>\n",
       "      <td>22919</td>\n",
       "      <td>-1.8</td>\n",
       "      <td>22915</td>\n",
       "      <td>5.3</td>\n",
       "      <td>21.0</td>\n",
       "      <td>14.8</td>\n",
       "      <td>...</td>\n",
       "      <td>0.0</td>\n",
       "      <td>0.0</td>\n",
       "      <td>0</td>\n",
       "      <td>0</td>\n",
       "      <td>124707</td>\n",
       "      <td>5804</td>\n",
       "      <td>10757</td>\n",
       "      <td>19</td>\n",
       "      <td>622.58</td>\n",
       "      <td>36.8</td>\n",
       "    </tr>\n",
       "    <tr>\n",
       "      <th>6</th>\n",
       "      <td>1009</td>\n",
       "      <td>Blount County</td>\n",
       "      <td>AL</td>\n",
       "      <td>57719</td>\n",
       "      <td>57322</td>\n",
       "      <td>0.7</td>\n",
       "      <td>57322</td>\n",
       "      <td>6.1</td>\n",
       "      <td>23.6</td>\n",
       "      <td>17.0</td>\n",
       "      <td>...</td>\n",
       "      <td>0.0</td>\n",
       "      <td>23.2</td>\n",
       "      <td>341544</td>\n",
       "      <td>0</td>\n",
       "      <td>319700</td>\n",
       "      <td>5622</td>\n",
       "      <td>20941</td>\n",
       "      <td>3</td>\n",
       "      <td>644.78</td>\n",
       "      <td>88.9</td>\n",
       "    </tr>\n",
       "  </tbody>\n",
       "</table>\n",
       "<p>5 rows × 54 columns</p>\n",
       "</div>"
      ],
      "text/plain": [
       "   fips       area_name state_abbreviation  PST045214  PST040210  PST120214  \\\n",
       "2  1001  Autauga County                 AL      55395      54571        1.5   \n",
       "3  1003  Baldwin County                 AL     200111     182265        9.8   \n",
       "4  1005  Barbour County                 AL      26887      27457       -2.1   \n",
       "5  1007     Bibb County                 AL      22506      22919       -1.8   \n",
       "6  1009   Blount County                 AL      57719      57322        0.7   \n",
       "\n",
       "   POP010210  AGE135214  AGE295214  AGE775214    ...      SBO415207  \\\n",
       "2      54571        6.0       25.2       13.8    ...            0.7   \n",
       "3     182265        5.6       22.2       18.7    ...            1.3   \n",
       "4      27457        5.7       21.2       16.5    ...            0.0   \n",
       "5      22915        5.3       21.0       14.8    ...            0.0   \n",
       "6      57322        6.1       23.6       17.0    ...            0.0   \n",
       "\n",
       "   SBO015207  MAN450207  WTN220207  RTN130207  RTN131207  AFN120207  \\\n",
       "2       31.7          0          0     598175      12003      88157   \n",
       "3       27.3    1410273          0    2966489      17166     436955   \n",
       "4       27.0          0          0     188337       6334          0   \n",
       "5        0.0          0          0     124707       5804      10757   \n",
       "6       23.2     341544          0     319700       5622      20941   \n",
       "\n",
       "   BPS030214  LND110210  POP060210  \n",
       "2        131     594.44       91.8  \n",
       "3       1384    1589.78      114.6  \n",
       "4          8     884.88       31.0  \n",
       "5         19     622.58       36.8  \n",
       "6          3     644.78       88.9  \n",
       "\n",
       "[5 rows x 54 columns]"
      ]
     },
     "execution_count": 27,
     "metadata": {},
     "output_type": "execute_result"
    }
   ],
   "source": [
    "# print(mydatarep.head())\n",
    "# print(mydatadem.head())\n",
    "# mydatacty.head()"
   ]
  },
  {
   "cell_type": "markdown",
   "metadata": {},
   "source": [
    "Now, we will select some features which we feel that are most important in deciding the decision of the elections. We have listed these values below.\n",
    "\n",
    "|Column|Description|\n",
    "|------|------|\n",
    "|AGE295214|Persons under 18 years, percent, 2014|\n",
    "|AGE775214|Persons 65 years and over, percent, 2014|\n",
    "|EDU635213|High school graduate or higher, percent of persons age 25+, 2009-2013|\n",
    "|EDU685213|Bachelors degree or higher, percent of persons age 25+, 2009-2013|\n",
    "|HSD310213|Persons per household, 2009-2013|\n",
    "|HSG445213|Homeownership rate, 2009-2013|\n",
    "|INC110213|Median household income, 2009-2013|\n",
    "|INC910213|Per capita money income in past 12 months (2013 dollars), 2009-2013|\n",
    "|PST045214|Population, 2014 estimate|\n",
    "|POP060210|Population per square mile, 2010|\n",
    "|POP645213|Foreign born persons, percent, 2009-2013|\n",
    "|POP815213|Language other than English spoken at home, pct age 5+, 2009-2013|\n",
    "|RHI225214|Black or African American alone, percent, 2014|\n",
    "|RHI325214|American Indian and Alaska Native alone, percent, 2014|\n",
    "|RHI425214|Asian alone, percent, 2014|\n",
    "|RHI525214|Native Hawaiian and Other Pacific Islander alone, percent, 2014|\n",
    "|RHI725214|Hispanic or Latino, percent, 2014|\n",
    "|RHI825214|White alone, not Hispanic or Latino, percent, 2014|\n",
    "|SEX255214|Female persons, percent, 2014|\n",
    "|VET605213|Veterans, 2009-2013|\n",
    "\n",
    "These features will be subsetted from the original feature space. Then, each of the feature instances will be inner-joined with the labels data on the FIPS column (which is the candidate key for each county). Also, most of the population features are given in percentage, except the number of veterans. We will convert this into a percentage value."
   ]
  },
  {
   "cell_type": "code",
   "execution_count": 28,
   "metadata": {},
   "outputs": [
    {
     "name": "stdout",
     "output_type": "stream",
     "text": [
      "   fips  AGE295214  AGE775214  EDU635213  EDU685213  HSD310213  HSG445213  \\\n",
      "2  1001       25.2       13.8       85.6       20.9       2.71       76.8   \n",
      "3  1003       22.2       18.7       89.1       27.7       2.52       72.6   \n",
      "4  1005       21.2       16.5       73.7       13.4       2.66       67.7   \n",
      "5  1007       21.0       14.8       77.5       12.1       3.03       79.0   \n",
      "6  1009       23.6       17.0       77.0       12.1       2.70       81.0   \n",
      "\n",
      "   INC110213  INC910213  PST045214    ...     POP815213  RHI225214  RHI325214  \\\n",
      "2      53682      24571      55395    ...           3.5       18.7        0.5   \n",
      "3      50221      26766     200111    ...           5.5        9.6        0.7   \n",
      "4      32911      16829      26887    ...           5.0       47.6        0.6   \n",
      "5      36447      17427      22506    ...           2.1       22.1        0.4   \n",
      "6      44145      20730      57719    ...           7.3        1.8        0.6   \n",
      "\n",
      "   RHI425214  RHI525214  RHI725214  RHI825214  SEX255214  VET605213    VETPCT  \n",
      "2        1.1        0.1        2.7       75.6       51.4       5922  0.106905  \n",
      "3        0.9        0.1        4.6       83.0       51.2      19346  0.096676  \n",
      "4        0.5        0.2        4.5       46.6       46.6       2120  0.078849  \n",
      "5        0.2        0.1        2.1       74.5       45.9       1327  0.058962  \n",
      "6        0.3        0.1        8.7       87.8       50.5       4540  0.078657  \n",
      "\n",
      "[5 rows x 22 columns]\n"
     ]
    }
   ],
   "source": [
    "mydatacty = mydatacty[[\"fips\",\"AGE295214\",\"AGE775214\",\"EDU635213\",\"EDU685213\",\"HSD310213\",\"HSG445213\",\"INC110213\",\"INC910213\",\"PST045214\",\"POP060210\",\"POP645213\",\"POP815213\",\"RHI225214\",\"RHI325214\",\"RHI425214\",\"RHI525214\",\"RHI725214\",\"RHI825214\",\"SEX255214\",\"VET605213\"]]\n",
    "mydatacty['VETPCT'] = mydatacty.apply(lambda x: 0 if x['PST045214'] == 0 else x['VET605213']/x['PST045214'], axis=1)\n",
    "print(mydatacty.head())"
   ]
  },
  {
   "cell_type": "code",
   "execution_count": 29,
   "metadata": {},
   "outputs": [],
   "source": [
    "newrep = mydatacty.merge(mydatarep[[\"fips\",\"candidate\"]])\n",
    "# newrep.head()\n",
    "newdem = mydatacty.merge(mydatadem[[\"fips\",\"candidate\"]])\n",
    "# newdem.head()"
   ]
  },
  {
   "cell_type": "markdown",
   "metadata": {},
   "source": [
    "Now, we would like to use one-hot encoding for all the labels. In general, the Democratic party can be easily classified because the labels for Bernie Sanders and Hillary Clinton are substantial. However, on close inspection, we know that in the Republican Party, there are very few labels for candidates other than Donald Trump. So, for the Republican Party, our labels will be based on whether the winner is Donald Trump, or \"not\" Donald Trump."
   ]
  },
  {
   "cell_type": "code",
   "execution_count": 30,
   "metadata": {},
   "outputs": [
    {
     "name": "stdout",
     "output_type": "stream",
     "text": [
      "1996 616 715\n"
     ]
    }
   ],
   "source": [
    "# print(len(newrep[newrep[\"candidate\"]=='Donald Trump']),len(newrep[newrep[\"candidate\"]=='Ted Cruz']),len(newrep[newrep[\"candidate\"]!='Donald Trump']))"
   ]
  },
  {
   "cell_type": "code",
   "execution_count": 31,
   "metadata": {},
   "outputs": [],
   "source": [
    "newrep[\"lbldt\"] = newrep.apply(lambda x: 1 if x[\"candidate\"]==\"Donald Trump\" else 0, axis=1)\n",
    "newrep[\"lblndt\"] = newrep.apply(lambda x: 1 if x[\"candidate\"]!=\"Donald Trump\" else 0, axis=1)\n",
    "newdem[\"lblhc\"] = newdem.apply(lambda x: 1 if x[\"candidate\"]==\"Hillary Clinton\" else 0, axis=1)\n",
    "newdem[\"lblbs\"] = newdem.apply(lambda x: 1 if x[\"candidate\"]==\"Bernie Sanders\" else 0, axis=1)\n",
    "# print(newdem.head())\n",
    "# print(newrep.head())\n",
    "# print(len(newrep))\n",
    "# print(len(newdem))"
   ]
  },
  {
   "cell_type": "markdown",
   "metadata": {},
   "source": [
    "We would further like to improve our features by normalizing them. Thus, we will work to normalize all our feature values between zero and one, by scaling down based on each of the column values."
   ]
  },
  {
   "cell_type": "code",
   "execution_count": 32,
   "metadata": {},
   "outputs": [
    {
     "name": "stdout",
     "output_type": "stream",
     "text": [
      "   AGE295214  AGE775214  EDU635213  EDU685213  HSD310213  HSG445213  \\\n",
      "0   0.537764   0.198770   0.751852   0.248596   0.273723   0.771505   \n",
      "1   0.447130   0.299180   0.816667   0.344101   0.204380   0.715054   \n",
      "2   0.416918   0.254098   0.531481   0.143258   0.255474   0.649194   \n",
      "3   0.410876   0.219262   0.601852   0.125000   0.390511   0.801075   \n",
      "4   0.489426   0.264344   0.592593   0.125000   0.270073   0.827957   \n",
      "\n",
      "   INC110213  INC910213  PST045214  POP060210   ...    RHI225214  RHI325214  \\\n",
      "0   0.329539   0.294119   0.005467   0.001320   ...     0.219741   0.005423   \n",
      "1   0.295691   0.334971   0.019772   0.001648   ...     0.112808   0.007592   \n",
      "2   0.126403   0.150028   0.002649   0.000445   ...     0.559342   0.006508   \n",
      "3   0.160985   0.161158   0.002216   0.000528   ...     0.259694   0.004338   \n",
      "4   0.236269   0.222632   0.005697   0.001278   ...     0.021152   0.006508   \n",
      "\n",
      "   RHI425214  RHI525214  RHI725214  RHI825214  SEX255214    VETPCT  lbldt  \\\n",
      "0   0.025943   0.007874   0.026151   0.759162   0.797753  0.552066    1.0   \n",
      "1   0.021226   0.007874   0.046025   0.836649   0.790262  0.489951    1.0   \n",
      "2   0.011792   0.015748   0.044979   0.455497   0.617978  0.381688    1.0   \n",
      "3   0.004717   0.007874   0.019874   0.747644   0.591760  0.260923    1.0   \n",
      "4   0.007075   0.007874   0.088912   0.886911   0.764045  0.380524    1.0   \n",
      "\n",
      "   lblndt  \n",
      "0     0.0  \n",
      "1     0.0  \n",
      "2     0.0  \n",
      "3     0.0  \n",
      "4     0.0  \n",
      "\n",
      "[5 rows x 22 columns]\n",
      "   AGE295214  AGE775214  EDU635213  EDU685213  HSD310213  HSG445213  \\\n",
      "0   0.537764   0.198770   0.751852   0.248596   0.301754   0.795014   \n",
      "1   0.447130   0.299180   0.816667   0.344101   0.235088   0.736842   \n",
      "2   0.416918   0.254098   0.531481   0.143258   0.284211   0.668975   \n",
      "3   0.410876   0.219262   0.601852   0.125000   0.414035   0.825485   \n",
      "4   0.489426   0.264344   0.592593   0.125000   0.298246   0.853186   \n",
      "\n",
      "   INC110213  INC910213  PST045214  POP060210  ...    RHI225214  RHI325214  \\\n",
      "0   0.329539   0.294119   0.005450   0.001319  ...     0.219741   0.005423   \n",
      "1   0.295691   0.334971   0.019755   0.001647  ...     0.112808   0.007592   \n",
      "2   0.126403   0.150028   0.002632   0.000443  ...     0.559342   0.006508   \n",
      "3   0.160985   0.161158   0.002199   0.000527  ...     0.259694   0.004338   \n",
      "4   0.236269   0.222632   0.005680   0.001277  ...     0.021152   0.006508   \n",
      "\n",
      "   RHI425214  RHI525214  RHI725214  RHI825214  SEX255214    VETPCT  lblhc  \\\n",
      "0   0.025943   0.007874   0.026151   0.759162   0.797753  0.550447    1.0   \n",
      "1   0.021226   0.007874   0.046025   0.836649   0.790262  0.488514    1.0   \n",
      "2   0.011792   0.015748   0.044979   0.455497   0.617978  0.380568    1.0   \n",
      "3   0.004717   0.007874   0.019874   0.747644   0.591760  0.260158    1.0   \n",
      "4   0.007075   0.007874   0.088912   0.886911   0.764045  0.379408    1.0   \n",
      "\n",
      "   lblbs  \n",
      "0    0.0  \n",
      "1    0.0  \n",
      "2    0.0  \n",
      "3    0.0  \n",
      "4    0.0  \n",
      "\n",
      "[5 rows x 22 columns]\n"
     ]
    }
   ],
   "source": [
    "def normalize(df):                 # Creating a function to normalize each column\n",
    "    result = df.copy()\n",
    "    for feature_name in df.columns:\n",
    "        max_value = df[feature_name].max()\n",
    "        min_value = df[feature_name].min()\n",
    "        result[feature_name] = (df[feature_name] - min_value) / (max_value - min_value)\n",
    "    return result\n",
    "normrep = newrep.drop(['candidate','fips',\"VET605213\"], axis = 1) #Dropping the original veteran values\n",
    "normdem = newdem.drop(['candidate','fips',\"VET605213\"], axis = 1) #Dropping the original veteran values\n",
    "normrep = normalize(normrep)\n",
    "normdem = normalize(normdem)\n",
    "# print(normrep.head())\n",
    "# print(normdem.head())"
   ]
  },
  {
   "cell_type": "code",
   "execution_count": 58,
   "metadata": {},
   "outputs": [
    {
     "name": "stdout",
     "output_type": "stream",
     "text": [
      "[[0.53776435 0.19877049 0.75185185 ... 0.7591623  0.79775281 0.55044712]\n",
      " [0.44712991 0.29918033 0.81666667 ... 0.83664921 0.79026217 0.48851393]\n",
      " [0.41691843 0.25409836 0.53148148 ... 0.45549738 0.61797753 0.38056825]\n",
      " ...\n",
      " [0.35347432 0.16598361 0.95925926 ... 0.81465969 0.67790262 0.26042185]\n",
      " [0.67673716 0.14139344 0.81851852 ... 0.88167539 0.73033708 0.29678643]\n",
      " [0.49848943 0.32786885 0.84259259 ... 0.83350785 0.71910112 0.45028663]]\n",
      "[[1. 0.]\n",
      " [1. 0.]\n",
      " [1. 0.]\n",
      " ...\n",
      " [0. 1.]\n",
      " [0. 1.]\n",
      " [1. 0.]]\n"
     ]
    }
   ],
   "source": [
    "normdem = normdem.sample(frac=1)\n",
    "normrep = normrep.sample(frac=1)\n",
    "# print(normdem[normdem.columns[0:20]].values)\n",
    "# print(normdem[normdem.columns[20:22]].values)\n",
    "# print(normrep[normrep.columns[0:20]].values)\n",
    "# print(normrep[normrep.columns[20:22]].values)"
   ]
  },
  {
   "cell_type": "markdown",
   "metadata": {},
   "source": [
    "Now, we will split the data into training and test data."
   ]
  },
  {
   "cell_type": "code",
   "execution_count": 33,
   "metadata": {},
   "outputs": [],
   "source": [
    "from sklearn.model_selection import train_test_split # for splitting of the data"
   ]
  },
  {
   "cell_type": "code",
   "execution_count": 34,
   "metadata": {},
   "outputs": [],
   "source": [
    "Xdem = normdem[normdem.columns[0:20]].values\n",
    "Ydem = normdem[normdem.columns[20:22]].values\n",
    "train_xd, test_xd, train_yd, test_yd = train_test_split(Xdem, Ydem, test_size = 0.20, random_state = 9)"
   ]
  },
  {
   "cell_type": "code",
   "execution_count": 35,
   "metadata": {},
   "outputs": [
    {
     "name": "stdout",
     "output_type": "stream",
     "text": [
      "(2002, 20) (501, 20) (2002, 2) (501, 2)\n"
     ]
    }
   ],
   "source": [
    "# print(train_xd.shape, test_xd.shape, train_yd.shape, test_yd.shape)\n",
    "# You can check the shape of training and test data"
   ]
  },
  {
   "cell_type": "markdown",
   "metadata": {},
   "source": [
    "## Neural Network Architecture\n",
    "\n",
    "Finally, we are ready to implement our neural network architecture. A neural network is used to train data in a non-linear way. Usually, computer code works in a linear and logical manner. Thus, it becomes challenging to train the machine to interpret data in a non-linear way. This where neural networks come to the rescue. As can be seen in the image below, the hidden layer is linear function of your inputs, which are then made to behave non-linearly using activation functions, such as sigmoid, softmax and ReLU.\n",
    "\n",
    "These networks are then trained iteratively with each training datapoint using backpropagation, which updates the weights (using gradient descent). The number of hidden layers and the number of hidden units in each layer form your hyperparameters."
   ]
  },
  {
   "cell_type": "code",
   "execution_count": 37,
   "metadata": {},
   "outputs": [
    {
     "data": {
      "text/html": [
       "<img src=\"https://upload.wikimedia.org/wikipedia/commons/c/c2/MultiLayerNeuralNetworkBigger_english.png\"/>"
      ],
      "text/plain": [
       "<IPython.core.display.Image object>"
      ]
     },
     "execution_count": 37,
     "metadata": {},
     "output_type": "execute_result"
    }
   ],
   "source": [
    "from IPython.display import Image\n",
    "from IPython.core.display import HTML \n",
    "Image(url= \"https://upload.wikimedia.org/wikipedia/commons/c/c2/MultiLayerNeuralNetworkBigger_english.png\")"
   ]
  },
  {
   "cell_type": "code",
   "execution_count": 47,
   "metadata": {
    "scrolled": true
   },
   "outputs": [
    {
     "name": "stdout",
     "output_type": "stream",
     "text": [
      "epoch: 0  - cost: 0.5858872  - MSE: 11.9626124094451 - Train Accuracy: 0.63936067\n",
      "epoch: 1  - cost: 0.52660066  - MSE: 9.797993409528795 - Train Accuracy: 0.6638362\n",
      "epoch: 2  - cost: 0.49416465  - MSE: 8.498978342949293 - Train Accuracy: 0.6898102\n",
      "epoch: 3  - cost: 0.4779613  - MSE: 7.528281487050089 - Train Accuracy: 0.7012987\n",
      "epoch: 4  - cost: 0.46865094  - MSE: 6.717058806147933 - Train Accuracy: 0.7102897\n",
      "epoch: 5  - cost: 0.46264875  - MSE: 6.094110384658508 - Train Accuracy: 0.7172827\n",
      "epoch: 6  - cost: 0.45857593  - MSE: 5.19875928411729 - Train Accuracy: 0.7217782\n",
      "epoch: 7  - cost: 0.4556568  - MSE: 4.628185480551447 - Train Accuracy: 0.72777224\n",
      "epoch: 8  - cost: 0.45268196  - MSE: 4.417583707666149 - Train Accuracy: 0.73026973\n",
      "epoch: 9  - cost: 0.45089278  - MSE: 4.0703621999646 - Train Accuracy: 0.73226774\n",
      "epoch: 10  - cost: 0.4482912  - MSE: 3.9862050122383 - Train Accuracy: 0.7372627\n",
      "epoch: 11  - cost: 0.44555178  - MSE: 3.9047325599327243 - Train Accuracy: 0.73876125\n",
      "epoch: 12  - cost: 0.44322947  - MSE: 3.853414185618377 - Train Accuracy: 0.7417582\n",
      "epoch: 13  - cost: 0.44055656  - MSE: 3.7098169578791564 - Train Accuracy: 0.74375623\n",
      "epoch: 14  - cost: 0.43653587  - MSE: 3.6490078289274464 - Train Accuracy: 0.75174826\n",
      "epoch: 15  - cost: 0.43452445  - MSE: 3.584489847271018 - Train Accuracy: 0.7557443\n",
      "epoch: 16  - cost: 0.43468463  - MSE: 3.5650784206872324 - Train Accuracy: 0.75474524\n",
      "epoch: 17  - cost: 0.43067  - MSE: 3.5959668672659406 - Train Accuracy: 0.76173824\n",
      "epoch: 18  - cost: 0.42935  - MSE: 3.4673863013382116 - Train Accuracy: 0.7627373\n",
      "epoch: 19  - cost: 0.42986506  - MSE: 3.3811928612558098 - Train Accuracy: 0.76423573\n"
     ]
    },
    {
     "data": {
      "image/png": "[encoded data removed]",
      "text/plain": [
       "<Figure size 432x288 with 1 Axes>"
      ]
     },
     "metadata": {},
     "output_type": "display_data"
    },
    {
     "data": {
      "image/png": "[encoded data removed]",
      "text/plain": [
       "<Figure size 432x288 with 1 Axes>"
      ]
     },
     "metadata": {},
     "output_type": "display_data"
    },
    {
     "name": "stdout",
     "output_type": "stream",
     "text": [
      "Test Accuracy:  0.7265469\n",
      "MSE: 3.3812\n"
     ]
    }
   ],
   "source": [
    "# We have defined a learning rate of 7e-3 based on practice\n",
    "# We are going through 20 epochs\n",
    "learning_rate = 7e-3\n",
    "training_epochs = 20\n",
    "cost_history = np.empty(shape=[1], dtype = float) #This forms our loss function history\n",
    "n_dim = Xdem.shape[1]           # This is the input size\n",
    "n_class = 2                     # This is the output size\n",
    "model_path = \"C:\\\\Users\\\\Yash Kumar\\\\Desktop\\\\Studies\\\\Spring 2018\\\\Practical Data Science\\\\Tutorial\\\\modelv1\"\n",
    "n_hidden1 = 20                  # Number of hidden units in first hidden layer\n",
    "n_hidden2 = 20                  # Number of hidden units in second hidden layer\n",
    "x = tf.placeholder(tf.float32, [None, n_dim])     # x is our Training example\n",
    "# W = tf.Variable(tf.zeros([n_dim, n_class]))       \n",
    "# b = tf.Variable(tf.zeros([n_dim, n_class]))\n",
    "y_ = tf.placeholder(tf.float32, [None, n_class]) # predicted y value\n",
    "def multilayer_perceptron(x, weights, biases):            # Forward pass for training\n",
    "    layer_1 = tf.add(tf.matmul(x, weights['h1']), biases['b1'])  #sigmoid activation function for first layer\n",
    "    layer_1 = tf.nn.sigmoid(layer_1)\n",
    "    layer_2 = tf.add(tf.matmul(layer_1, weights['h2']), biases['b2']) #ReLU activation function for first layer\n",
    "    layer_2 = tf.nn.relu(layer_2)\n",
    "    out_layer = tf.matmul(layer_2, weights['out']) + biases['out']\n",
    "    return out_layer\n",
    "weights = {\n",
    "    'h1': tf.Variable(tf.truncated_normal([n_dim, n_hidden1])),           # Dictionary names for every hidden layer weights\n",
    "    'h2': tf.Variable(tf.truncated_normal([n_hidden1, n_hidden2])),\n",
    "    'out': tf.Variable(tf.truncated_normal([n_hidden2, n_class]))\n",
    "}\n",
    "biases = {\n",
    "    'b1': tf.Variable(tf.truncated_normal([n_hidden1])),                  # Dictionary names for every hidden layer biases\n",
    "    'b2': tf.Variable(tf.truncated_normal([n_hidden2])),\n",
    "    'out': tf.Variable(tf.truncated_normal([n_class]))    \n",
    "}\n",
    "init = tf.global_variables_initializer()                                  # Initialization\n",
    "saver = tf.train.Saver()\n",
    "y = multilayer_perceptron(x, weights, biases)                             # storing forward pass value in y\n",
    "# The loss function is cross-entropy\n",
    "cost_function = tf.reduce_mean(tf.nn.softmax_cross_entropy_with_logits(logits=y,labels=y_))\n",
    "# All the heavy-weight backpropagation is taken care of\n",
    "training_step = tf.train.GradientDescentOptimizer(learning_rate).minimize(cost_function)\n",
    "sess = tf.Session()\n",
    "sess.run(init)\n",
    "mse_history = []\n",
    "accuracy_history = []\n",
    "# Running the code for 20 epochs\n",
    "for epoch in range(training_epochs):       # Loop for epochs\n",
    "    for iter in range(2002):               # Loop for each training example\n",
    "        sess.run(training_step, feed_dict = {x: [train_xd[iter]], y_: [train_yd[iter]]}) # the weight updates are taking place on its own\n",
    "    cost,y_out = sess.run([cost_function, y], feed_dict = {x: train_xd, y_: train_yd})\n",
    "    cost_history = np.append(cost_history, cost)\n",
    "    correct_prediction = tf.equal(tf.argmax(y_out,1), tf.argmax(train_yd,1))\n",
    "    accuracy = tf.reduce_mean(tf.cast(correct_prediction, tf.float32))\n",
    "#     print(\"Accuracy: \", (sess.run(accuracy, feed_dict = {x: test_xd, y_:test_yd})))\n",
    "    pred_y = sess.run(y, feed_dict={x: test_xd})\n",
    "    mse = tf.reduce_mean(tf.square(pred_y - test_yd))          # Using mean squared error loss function\n",
    "    mse_ = sess.run(mse)\n",
    "    mse_history.append(mse_) # Appending MSE to plot graphs\n",
    "    accuracy = sess.run(accuracy, feed_dict={x:train_xd, y_:train_yd})\n",
    "    accuracy_history.append(accuracy) # Checking Accuracy on the Training Dataset\n",
    "    print('epoch:',epoch,' - cost:',cost,\" - MSE:\",mse_,\"- Train Accuracy:\",accuracy)"
   ]
  },
  {
   "cell_type": "code",
   "execution_count": 48,
   "metadata": {},
   "outputs": [
    {
     "data": {
      "image/png": "[encoded data removed]",
      "text/plain": [
       "<Figure size 432x288 with 1 Axes>"
      ]
     },
     "metadata": {},
     "output_type": "display_data"
    },
    {
     "data": {
      "image/png": "[encoded data removed]",
      "text/plain": [
       "<Figure size 432x288 with 1 Axes>"
      ]
     },
     "metadata": {},
     "output_type": "display_data"
    }
   ],
   "source": [
    "plt.plot(mse_history,'r')  # Plot of the MSE history\n",
    "plt.show()  \n",
    "plt.plot(accuracy_history,'r') # Plot of the Accuracy history\n",
    "plt.show()"
   ]
  },
  {
   "cell_type": "code",
   "execution_count": 49,
   "metadata": {},
   "outputs": [
    {
     "name": "stdout",
     "output_type": "stream",
     "text": [
      "Test Accuracy:  0.7265469\n",
      "MSE: 3.3812\n"
     ]
    }
   ],
   "source": [
    "correct_prediction = tf.equal(tf.argmax(y,1), tf.argmax(y_,1))\n",
    "accuracy = tf.reduce_mean(tf.cast(correct_prediction, tf.float32))\n",
    "print(\"Test Accuracy: \", (sess.run(accuracy, feed_dict = {x: test_xd, y_:test_yd})))   # Accuracy on the Test Cases\n",
    "pred_y = sess.run(y, feed_dict={x: test_xd})\n",
    "mse = tf.reduce_mean(tf.square(pred_y - test_yd))\n",
    "print(\"MSE: %.4f\" %sess.run(mse))                    # Mean Squared Error on the test cases"
   ]
  },
  {
   "cell_type": "markdown",
   "metadata": {},
   "source": [
    "It is working! We were able to train a neural network which is predicting primary results with 73% accuracy. It is not much, however, there is scope for improvement. We can continue to tweak hyperparameters to increase the accuracy. This is just a small example to show how powerful Tensorflow is. It takes care of weight updates in single steps and offers GPU support to allow fitting of complex network architecture. You are free to use the dataset and keep on increasing the accuracy.\n",
    "\n",
    "What accuracy can you achieve? The same code can be run on The Republican dataset as well. As an exercise, please try to replicate the training of the model on the Republican Dataset as well."
   ]
  },
  {
   "cell_type": "code",
   "execution_count": 55,
   "metadata": {},
   "outputs": [
    {
     "name": "stdout",
     "output_type": "stream",
     "text": [
      "epoch: 0  - cost: 0.833284  - MSE: 118.3616548411715 - Train Accuracy: 0.46125463\n",
      "epoch: 1  - cost: 0.6648882  - MSE: 86.29087003871805 - Train Accuracy: 0.63145757\n",
      "epoch: 2  - cost: 0.5954291  - MSE: 66.21459187626198 - Train Accuracy: 0.69603324\n",
      "epoch: 3  - cost: 0.5569075  - MSE: 52.7170626950022 - Train Accuracy: 0.724631\n",
      "epoch: 4  - cost: 0.535856  - MSE: 43.25810992801174 - Train Accuracy: 0.74261993\n",
      "epoch: 5  - cost: 0.5232699  - MSE: 36.65930412975655 - Train Accuracy: 0.74630994\n",
      "epoch: 6  - cost: 0.5147934  - MSE: 31.429574091193683 - Train Accuracy: 0.7532288\n",
      "epoch: 7  - cost: 0.50866127  - MSE: 28.18538632783393 - Train Accuracy: 0.76060885\n",
      "epoch: 8  - cost: 0.50469816  - MSE: 26.604877126683757 - Train Accuracy: 0.76014763\n",
      "epoch: 9  - cost: 0.50064695  - MSE: 25.60903875124142 - Train Accuracy: 0.76153135\n",
      "epoch: 10  - cost: 0.49717268  - MSE: 24.56672787637492 - Train Accuracy: 0.76060885\n",
      "epoch: 11  - cost: 0.4941253  - MSE: 23.732687023141875 - Train Accuracy: 0.76107013\n",
      "epoch: 12  - cost: 0.49181387  - MSE: 22.977308029650146 - Train Accuracy: 0.76153135\n",
      "epoch: 13  - cost: 0.4879688  - MSE: 22.268115262559004 - Train Accuracy: 0.7684502\n",
      "epoch: 14  - cost: 0.4829681  - MSE: 21.046691898806408 - Train Accuracy: 0.7702952\n",
      "epoch: 15  - cost: 0.48100844  - MSE: 20.14984944032421 - Train Accuracy: 0.773524\n",
      "epoch: 16  - cost: 0.4783638  - MSE: 19.459822212635554 - Train Accuracy: 0.7744465\n",
      "epoch: 17  - cost: 0.4771234  - MSE: 19.28932827771492 - Train Accuracy: 0.77490777\n",
      "epoch: 18  - cost: 0.48099908  - MSE: 18.79416459780898 - Train Accuracy: 0.7726015\n",
      "epoch: 19  - cost: 0.4795173  - MSE: 18.375874642749746 - Train Accuracy: 0.7730627\n"
     ]
    }
   ],
   "source": [
    "# Try training the model yourself for the Republican Party"
   ]
  },
  {
   "cell_type": "code",
   "execution_count": 56,
   "metadata": {},
   "outputs": [
    {
     "data": {
      "image/png": "[encoded data removed]",
      "text/plain": [
       "<Figure size 432x288 with 1 Axes>"
      ]
     },
     "metadata": {},
     "output_type": "display_data"
    },
    {
     "data": {
      "image/png": "[encoded data removed]",
      "text/plain": [
       "<Figure size 432x288 with 1 Axes>"
      ]
     },
     "metadata": {},
     "output_type": "display_data"
    },
    {
     "name": "stdout",
     "output_type": "stream",
     "text": [
      "Test Accuracy:  0.7495396\n",
      "MSE: 18.3759\n"
     ]
    }
   ],
   "source": [
    "# Try getting the plots and the test accuracy as well"
   ]
  },
  {
   "cell_type": "markdown",
   "metadata": {},
   "source": [
    "## Bonus: Introduction to Tensorboard\n",
    "\n",
    "One of the great things about Tensorflow is that it allows great visualization of your computational models. Usually, when implementing deep learning architectures, it is easy to lose track of the hidden layers and units. The visualization is done in an environment called Tensorboard. For that reason, we will just show, how the graph flows can be visualized. Interestingly, you can tweak tensorflow and visualize Tensorboard graphs interactively in a Python Notebook, without needing a new window. The code has been taken from [1].\n",
    "\n",
    "The code has not been claimed to be written by me. I am merely using it for educational purposes. I have commented it, in case, you don't want to use it."
   ]
  },
  {
   "cell_type": "code",
   "execution_count": 50,
   "metadata": {},
   "outputs": [],
   "source": [
    "# from IPython.display import clear_output, Image, display, HTML\n",
    "# def strip_consts(graph_def, max_const_size=32):\n",
    "#     \"\"\"Strip large constant values from graph_def.\"\"\"\n",
    "#     strip_def = tf.GraphDef()\n",
    "#     for n0 in graph_def.node:\n",
    "#         n = strip_def.node.add() \n",
    "#         n.MergeFrom(n0)\n",
    "#         if n.op == 'Const':\n",
    "#             tensor = n.attr['value'].tensor\n",
    "#             size = len(tensor.tensor_content)\n",
    "#             if size > max_const_size:\n",
    "#                 tensor.tensor_content = \"<stripped %d bytes>\"%size\n",
    "#     return strip_def\n",
    "# def show_graph(graph_def, max_const_size=32):\n",
    "#     \"\"\"Visualize TensorFlow graph.\"\"\"\n",
    "#     if hasattr(graph_def, 'as_graph_def'):\n",
    "#         graph_def = graph_def.as_graph_def()\n",
    "#     strip_def = strip_consts(graph_def, max_const_size=max_const_size)\n",
    "#     code = \"\"\"\n",
    "#         <script src=\"//cdnjs.cloudflare.com/ajax/libs/polymer/0.3.3/platform.js\"></script>\n",
    "#         <script>\n",
    "#           function load() {{\n",
    "#             document.getElementById(\"{id}\").pbtxt = {data};\n",
    "#           }}\n",
    "#         </script>\n",
    "#         <link rel=\"import\" href=\"https://tensorboard.appspot.com/tf-graph-basic.build.html\" onload=load()>\n",
    "#         <div style=\"height:600px\">\n",
    "#           <tf-graph-basic id=\"{id}\"></tf-graph-basic>\n",
    "#         </div>\n",
    "#     \"\"\".format(data=repr(str(strip_def)), id='graph'+str(np.random.rand()))\n",
    "\n",
    "#     iframe = \"\"\"\n",
    "#         <iframe seamless style=\"width:1200px;height:620px;border:0\" srcdoc=\"{}\"></iframe>\n",
    "#     \"\"\".format(code.replace('\"', '&quot;'))\n",
    "#     display(HTML(iframe))"
   ]
  },
  {
   "cell_type": "code",
   "execution_count": 57,
   "metadata": {
    "scrolled": true
   },
   "outputs": [
    {
     "data": {
      "text/html": [
       "\n",
       "        <iframe seamless style=\"width:1200px;height:620px;border:0\" srcdoc=\"\n",
       "        <script src=&quot;//cdnjs.cloudflare.com/ajax/libs/polymer/0.3.3/platform.js&quot;></script>\n",
       "        <script>\n",
       "          function load() {\n",
       "            document.getElementById(&quot;graph0.647690776467917&quot;).pbtxt = 'node {\\n  name: &quot;Const&quot;\\n  op: &quot;Const&quot;\\n  attr {\\n    key: &quot;dtype&quot;\\n    value {\\n      type: DT_FLOAT\\n    }\\n  }\\n  attr {\\n    key: &quot;value&quot;\\n    value {\\n      tensor {\\n        dtype: DT_FLOAT\\n        tensor_shape {\\n        }\\n        float_val: 3.0\\n      }\\n    }\\n  }\\n}\\nnode {\\n  name: &quot;Const_1&quot;\\n  op: &quot;Const&quot;\\n  attr {\\n    key: &quot;dtype&quot;\\n    value {\\n      type: DT_FLOAT\\n    }\\n  }\\n  attr {\\n    key: &quot;value&quot;\\n    value {\\n      tensor {\\n        dtype: DT_FLOAT\\n        tensor_shape {\\n        }\\n        float_val: 4.0\\n      }\\n    }\\n  }\\n}\\nnode {\\n  name: &quot;add&quot;\\n  op: &quot;Add&quot;\\n  input: &quot;Const&quot;\\n  input: &quot;Const_1&quot;\\n  attr {\\n    key: &quot;T&quot;\\n    value {\\n      type: DT_FLOAT\\n    }\\n  }\\n}\\nnode {\\n  name: &quot;mul/y&quot;\\n  op: &quot;Const&quot;\\n  attr {\\n    key: &quot;dtype&quot;\\n    value {\\n      type: DT_FLOAT\\n    }\\n  }\\n  attr {\\n    key: &quot;value&quot;\\n    value {\\n      tensor {\\n        dtype: DT_FLOAT\\n        tensor_shape {\\n        }\\n        float_val: 3.0\\n      }\\n    }\\n  }\\n}\\nnode {\\n  name: &quot;mul&quot;\\n  op: &quot;Mul&quot;\\n  input: &quot;add&quot;\\n  input: &quot;mul/y&quot;\\n  attr {\\n    key: &quot;T&quot;\\n    value {\\n      type: DT_FLOAT\\n    }\\n  }\\n}\\n';\n",
       "          }\n",
       "        </script>\n",
       "        <link rel=&quot;import&quot; href=&quot;https://tensorboard.appspot.com/tf-graph-basic.build.html&quot; onload=load()>\n",
       "        <div style=&quot;height:600px&quot;>\n",
       "          <tf-graph-basic id=&quot;graph0.647690776467917&quot;></tf-graph-basic>\n",
       "        </div>\n",
       "    \"></iframe>\n",
       "    "
      ],
      "text/plain": [
       "<IPython.core.display.HTML object>"
      ]
     },
     "metadata": {},
     "output_type": "display_data"
    }
   ],
   "source": [
    "# filepath = \"C:/Users/Yash Kumar/Desktop/Studies/Spring 2018/Practical Data Science/Tutorial\"\n",
    "# g = tf.Graph()\n",
    "# with g.as_default():\n",
    "#     node1 = tf.constant(3.0, tf.float32)\n",
    "#     node2 = tf.constant(4.0)\n",
    "#     result = tf.add(node1, node2, name = \"add\")\n",
    "#     triple3 = result*3\n",
    "# #     result1 = sess.run(tf.add(node1, node2))\n",
    "#     writer = tf.summary.FileWriter(filepath, g)\n",
    "# #     print(result)\n",
    "# show_graph(g)"
   ]
  },
  {
   "cell_type": "markdown",
   "metadata": {},
   "source": [
    "If you look at the graph documentation closely, you can understand how the tensors are \"flowing\".\n",
    "\n",
    "## Applications\n",
    "\n",
    "The initial aim of ANNs was to solve problems in the same way that a human brain would. However, over time, attention focused on matching specific tasks, rather than focussing on the biological aspect. ANNs have been used in various domains, including computer vision, speech recognition, defeating world champions in board games etc.\n",
    "\n",
    "Now, simple neural networks have been taken over by advanced architectures, such as recurrent neural networks, convolutional neural networks etc. However, the underlying principle is the same, which is updating the weights to better fit the training example.\n",
    "\n",
    "                                                                                        - Yash Kumar (yashk@andrew.cmu.edu)"
   ]
  },
  {
   "cell_type": "markdown",
   "metadata": {},
   "source": [
    "## References\n",
    "\n",
    "[1] https://github.com/tensorflow/tensorflow/blob/master/tensorflow/examples/tutorials/deepdream/deepdream.ipynb"
   ]
  }
 ],
 "metadata": {
  "kernelspec": {
   "display_name": "Python 3",
   "language": "python",
   "name": "python3"
  },
  "language_info": {
   "codemirror_mode": {
    "name": "ipython",
    "version": 3
   },
   "file_extension": ".py",
   "mimetype": "text/x-python",
   "name": "python",
   "nbconvert_exporter": "python",
   "pygments_lexer": "ipython3",
   "version": "3.5.5"
  }
 },
 "nbformat": 4,
 "nbformat_minor": 2
}
