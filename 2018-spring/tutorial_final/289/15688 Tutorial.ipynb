{
 "cells": [
  {
   "cell_type": "markdown",
   "metadata": {},
   "source": [
    "# Introduction\n",
    "I come from Taiwan and I was always thinking about how to efficiently do the web scrapying. I found that python scrapy is very easy to learn and use for scrapying. Therefore, I decide to use this tutorial to introduce how we use the scrapy and how we could use the result of scrapy to analyze the result from scrapy. The target website is the biggest forum in Taiwan named PTT whcih contains hundreds of discussion areas. I will try to scrape one discussion area which mainly focuses on sharing the image of beauties and handsome guys\n"
   ]
  },
  {
   "cell_type": "markdown",
   "metadata": {},
   "source": [
    "# Tutorial Content\n",
    "* [Installing the libraries](#Installing-the-libraries)\n",
    "* [Framework of scrapy](#Framework-of-scrapy)\n",
    "* [Setting the environment](#Setting-the-environment)\n",
    "* [Writer our spider](#Write-our-spider)\n",
    "* [Analyze the data](#Analyze-the-data)"
   ]
  },
  {
   "cell_type": "markdown",
   "metadata": {},
   "source": [
    "## Installing the libraries\n",
    "\n",
    "Before getting started, you'll need to install the scrapy which we will use, we can use pip to install this library\n",
    "```\n",
    "pip install scrapy\n",
    "```\n",
    "\n",
    "Alteratively you can use Conda:\n",
    "```\n",
    "conda install -c conda-forge scrapy\n",
    "```\n",
    "\n",
    "Note: If you use Windows platform, please download the package depends on your Windows 32/64 platform\n",
    "```\n",
    "https://sourceforge.net/projects/pywin32/\n",
    "```\n",
    "You may need other dependency package:\n",
    "```\n",
    "lxml-3.6.4-cp27-cp27m-win_amd64.whl\n",
    "\n",
    "```"
   ]
  },
  {
   "cell_type": "markdown",
   "metadata": {},
   "source": [
    "## Framework of scrapy\n",
    "The data process of scrapy is handled by scrapy engine\n",
    "-----------------------------------------------------\n",
    "1. Engine turns on the domain name and the spider will handle it and let the spider retrieve the first URL\n",
    "2. Engine gets the first url from spider, and request the scheduler to schelue this task\n",
    "3. Engine get the required page from the scheduler\n",
    "4. Scheduler returns the next url to the engine, and the engine send this url to the downloader by download middleware\n",
    "5. When the downloader finished the web download, the \"responses\" is passed to the scrapy engine through downloader\n",
    "   middleware\n",
    "6. The engine receives the response from the downloader and pass to the spider via spider middleware\n",
    "7. The spider handles the responses and return the scraped items. Then, send the new request to engine\n",
    "8. Engine sends new request to the scheduler\n",
    "9. The system repeats the operation from step 2 until there is no request in the scheduler"
   ]
  },
  {
   "cell_type": "markdown",
   "metadata": {},
   "source": [
    "** Please reference the following photo when reviewing the above steps **\n",
    "![Alt text](https://github.com/yihnanc/photo/raw/master/scrapy.png \"Scrapy Process\")"
   ]
  },
  {
   "cell_type": "markdown",
   "metadata": {},
   "source": [
    "Function of each part in scrapy\n",
    "--------------------------------\n",
    "* Scrapy Engine: Trigger event and handle the data stream of the whole system\n",
    "* Spider Middleware: It's between Spider and Scrapy Engine, whcih is used to handle the input and output between spider and scrapy engine\n",
    "* Scheduler Middleware: It's between scrapy engine and the scheduler, which is used to handle the request and response from/to scrapy engine\n",
    "* Scheduler: It's used to receive the request from scrapy engine, and put the request into queue, then, return when the engine asks for url\n",
    "* Downloader middlewares: It's between scrapy engine and the downloader, which is used to handle the request/response between scrapy engine and the downloader\n",
    "* Downloader: It's used to download the content of web and pass to the spider\n",
    "* Spider: It's the most important part of the spider, which is used to let users customize the parse rules"
   ]
  },
  {
   "cell_type": "markdown",
   "metadata": {},
   "source": [
    "## Setting the environment\n",
    "\n",
    "Before going through my example to show the functionality of scrapy, we need to set the environment first, since scrapy need the support from shell, which means if we need to execute some scrapy command on terminal for executing the web crawling. Therefore, we need to use some library to support our code execution"
   ]
  },
  {
   "cell_type": "markdown",
   "metadata": {},
   "source": [
    "### Use IPython\n",
    "IPython is a interactive python shell which supports more powerful edit and interaction, which is more convenient than the python shell"
   ]
  },
  {
   "cell_type": "code",
   "execution_count": 1,
   "metadata": {
    "collapsed": true
   },
   "outputs": [],
   "source": [
    "from IPython.core.interactiveshell import InteractiveShell\n",
    "InteractiveShell.ast_node_interactivity = \"all\"\n",
    "import platform"
   ]
  },
  {
   "cell_type": "markdown",
   "metadata": {},
   "source": [
    "### Use Crawler Runner\n",
    "In the terminal, we usually need to type in \"scrapy crawl xxx\" to run the web crawling, but we can't do this in jupter notebook. Therefore, we need to use \"CrawlerRunner\" to help us achieve our target, the API usage will be listed later"
   ]
  },
  {
   "cell_type": "code",
   "execution_count": 2,
   "metadata": {
    "collapsed": true
   },
   "outputs": [],
   "source": [
    "import scrapy\n",
    "from twisted.internet import reactor\n",
    "from scrapy.crawler import CrawlerRunner\n",
    "from scrapy.utils.log import configure_logging"
   ]
  },
  {
   "cell_type": "markdown",
   "metadata": {},
   "source": [
    "### Run my example\n",
    "Before we introduce the how we write the web scrapying program by scrapy, I will give my complete code first and explain different part of function in detail"
   ]
  },
  {
   "cell_type": "markdown",
   "metadata": {},
   "source": [
    "### Output format of our web crawling\n",
    "For storing the scrapying output, we need to decide how we store the data, in my example, I will store the desired data in json format, thereforre, I define a class which contains the different field for storing. Item isa copy of dict API and Field is just an alias to the built-in dict class which doesn't prvide any extra functionality. At the following output format."
   ]
  },
  {
   "cell_type": "code",
   "execution_count": 3,
   "metadata": {
    "collapsed": true
   },
   "outputs": [],
   "source": [
    "\n",
    "class PostItem(scrapy.Item):\n",
    "    title = scrapy.Field()\n",
    "    # The id of this poster\n",
    "    id = scrapy.Field()\n",
    "    # The nickname of this poster\n",
    "    nickname = scrapy.Field()\n",
    "    date = scrapy.Field()\n",
    "    # The comment for this post\n",
    "    comments = scrapy.Field()\n",
    "    # Total number of likes\n",
    "    score = scrapy.Field()\n",
    "    # The url of this post\n",
    "    url = scrapy.Field()\n",
    "    # images of this post\n",
    "    img = scrapy.Field()\n",
    "    content = scrapy.Field()"
   ]
  },
  {
   "cell_type": "code",
   "execution_count": 4,
   "metadata": {
    "collapsed": true
   },
   "outputs": [],
   "source": [
    "import scrapy\n",
    "\n",
    "import logging\n",
    "\n",
    "from datetime import datetime\n",
    "\n",
    "import html2text\n",
    "import scrapy\n",
    "\n",
    "from scrapy.http import FormRequest\n",
    "\n",
    "class PTTSpider(scrapy.Spider):\n",
    "    name = 'ptt'\n",
    "    start_urls = ('https://www.ptt.cc/bbs/Beauty/index.html', )\n",
    "    \n",
    "    custom_settings = {\n",
    "        'LOG_LEVEL': logging.WARNING,\n",
    "        'FEED_FORMAT':'json',                                 \n",
    "        'FEED_URI': 'beauty.json'                 \n",
    "    }\n",
    "\n",
    "    MAX_RETRY = 1\n",
    "    retries = 0\n",
    "\n",
    "    MAX_PAGES = 10\n",
    "    pages = 0\n",
    "\n",
    "    MAX_COMMENT = 100\n",
    "\n",
    "    def parse(self, response):\n",
    "        # div, which owns class names \"over18-notice\"\n",
    "        if len(response.xpath('//div[@class=\"over18-notice\"]')) > 0:\n",
    "            if self.retries < PTTSpider.MAX_RETRY:\n",
    "                self.retries += 1\n",
    "                logging.warning('retry {} times...'.format(self.retries))\n",
    "                # Give response back to ptt\n",
    "                yield FormRequest.from_response(response,\n",
    "                                                formdata={'yes': 'yes'},\n",
    "                                                callback=self.parse)\n",
    "            else:\n",
    "                logging.warning('you cannot pass')\n",
    "\n",
    "        else:\n",
    "            self.pages += 1\n",
    "            # print(\"rrrrrrrrrrr\",response.text)\n",
    "            # response xpath return selector list\n",
    "            for href in response.xpath('//div[@class=\"r-ent\"]//div[@class=\"title\"]/a/@href'):\n",
    "                # reconstruct url\n",
    "                url = response.urljoin(href.extract())\n",
    "                print(href.extract(), url)\n",
    "                yield scrapy.Request(url, callback=self.parse_post, meta = {'comment' : PTTSpider.MAX_COMMENT})\n",
    "\n",
    "            if self.pages < PTTSpider.MAX_PAGES:\n",
    "                # heprlink contains thte text names \"上頁\"\n",
    "                next_page = response.xpath(\n",
    "                    '//div[@id=\"action-bar-container\"]//a[contains(text(), \"上頁\")]/@href')\n",
    "                if next_page:\n",
    "                    url = response.urljoin(next_page[0].extract())\n",
    "                    logging.warning('follow {}'.format(url))\n",
    "                    yield scrapy.Request(url, self.parse)\n",
    "                else:\n",
    "                    logging.warning('no next page')\n",
    "            else:\n",
    "                logging.warning('max pages reached')\n",
    "\n",
    "\n",
    "    def parse_post(self, response):\n",
    "        # print(response.text)\n",
    "        item = PostItem()\n",
    "        title = response.xpath('//meta[@property=\"og:title\"]/@content')[0].extract()\n",
    "        max = response.meta.get('comment')\n",
    "        # print(\"max comment count:\",max)\n",
    "        # Means not the post of beauty\n",
    "        # if \"公告\" in title:\n",
    "            # yield item\n",
    "            # return\n",
    "\n",
    "        item['title'] = title\n",
    "        author = response.xpath('//span[text()=\"作者\"]/following-sibling::span[1]/text()')[0].extract().split(' ')\n",
    "        item['id'] = author[0]\n",
    "        if (len(author) > 1):\n",
    "            item['nickname'] = author[1]\n",
    "\n",
    "        date = response.xpath('//span[text()=\"時間\"]/following-sibling::span[1]/text()')[0].extract()\n",
    "        item['date'] = datetime.strptime(date, '%a %b %d %H:%M:%S %Y')\n",
    "        # image of beauty\n",
    "        graphs = response.xpath('//div[@id=\"main-content\"]/a/text()')\n",
    "        lst = []\n",
    "\n",
    "        for graph in graphs:\n",
    "            lst.append(graph.extract())\n",
    "\n",
    "        item['img'] = lst\n",
    "\n",
    "        converter = html2text.HTML2Text()\n",
    "        converter.ignore_links = True\n",
    "        item['content'] = converter.handle(response.xpath('//div[@id=\"main-content\"]')[ 0].extract())\n",
    "        item['url'] = response.url\n",
    "\n",
    "        comments = []\n",
    "        total_score = 0\n",
    "        for comment in response.xpath('//div[@class=\"push\"]'):\n",
    "            push_tag = comment.css('span.push-tag::text')[0].extract()\n",
    "            push_user = comment.css('span.push-userid::text')[0].extract()\n",
    "            push_content = comment.css('span.push-content::text')[0].extract()\n",
    "\n",
    "            score = 0\n",
    "\n",
    "            if '推' in push_tag:\n",
    "                score = 1\n",
    "            elif '噓' in push_tag:\n",
    "                score = -1\n",
    "\n",
    "            total_score += score\n",
    "\n",
    "            comments.append({'user': push_user,\n",
    "                             'content': push_content,\n",
    "                             'score': score})\n",
    "\n",
    "        item['score'] = total_score\n",
    "        item['comments'] = comments\n",
    "\n",
    "        yield item\n"
   ]
  },
  {
   "cell_type": "markdown",
   "metadata": {},
   "source": [
    "Before I execute my spider, I need to point out some situation that I have never seen in terminal but actually happend when I used jupter notebook\n",
    "1. Once you execute the \"reactor.run()\" once, you can't execute the second time, or it will show the below error:\n",
    "```\n",
    "        <Deferred at 0x116aab860>\n",
    "        ---------------------------------------------------------------------------\n",
    "        ReactorNotRestartable                     Traceback (most recent call last)\n",
    "        <ipython-input-10-b30de2845b89> in <module>()\n",
    "              6 # Stop after executing\n",
    "              7 d.addBoth(lambda _: reactor.stop())\n",
    "        ----> 8 reactor.run() # the script will block here until the crawling is finished\n",
    "\n",
    "        ~/anaconda3/lib/python3.6/site-packages/twisted/internet/base.py in run(self, installSignalHandlers)\n",
    "           1240 \n",
    "           1241     def run(self, installSignalHandlers=True):\n",
    "        -> 1242         self.startRunning(installSignalHandlers=installSignalHandlers)\n",
    "           1243         self.mainLoop()\n",
    "           1244 \n",
    "\n",
    "        ~/anaconda3/lib/python3.6/site-packages/twisted/internet/base.py in startRunning(self, installSignalHandlers)\n",
    "           1220         \"\"\"\n",
    "           1221         self._installSignalHandlers = installSignalHandlers\n",
    "        -> 1222         ReactorBase.startRunning(self)\n",
    "           1223 \n",
    "           1224 \n",
    "\n",
    "        ~/anaconda3/lib/python3.6/site-packages/twisted/internet/base.py in startRunning(self)\n",
    "            728             raise error.ReactorAlreadyRunning()\n",
    "            729         if self._startedBefore:\n",
    "        --> 730             raise error.ReactorNotRestartable()\n",
    "            731         self._started = True\n",
    "            732         self._stopped = False\n",
    "\n",
    "        ReactorNotRestartable: \n",
    "\n",
    "```\n",
    "> I try to google online and use someway to fix this issue, but it still not works, therefore, if you want to execute \n",
    "> my spider code, please restart the notebook, that's the only way I can do now\n",
    "2. I use the following code to avoid my spider retrieve some unnecessary data, however, it will cause json parse error\n",
    "> when in the analysis part at jupyter but can run well on my terminal\n",
    "```\n",
    "        # Means not the post of beauty\n",
    "        # if \"公告\" in title:\n",
    "            # yield item\n",
    "            # return\n",
    "```\n"
   ]
  },
  {
   "cell_type": "markdown",
   "metadata": {},
   "source": [
    "### Executing the example code\n",
    "The above code is the complete code for scrapying the posts of beauties, I will explain each part later, but how could we execute this scrapying code on jupyter instead of typing commands on terminal? We need to use \"CrawlerRunner\" to help us achieve this"
   ]
  },
  {
   "cell_type": "code",
   "execution_count": 5,
   "metadata": {},
   "outputs": [
    {
     "name": "stderr",
     "output_type": "stream",
     "text": [
      "INFO: Overridden settings: {'FEED_FORMAT': 'json', 'FEED_URI': 'beauty.json', 'LOG_LEVEL': 30}\n"
     ]
    },
    {
     "data": {
      "text/plain": [
       "<Deferred at 0x1097199b0>"
      ]
     },
     "execution_count": 5,
     "metadata": {},
     "output_type": "execute_result"
    },
    {
     "name": "stderr",
     "output_type": "stream",
     "text": [
      "2018-03-30 13:57:53 [root] WARNING: follow https://www.ptt.cc/bbs/Beauty/index2433.html\n"
     ]
    },
    {
     "name": "stdout",
     "output_type": "stream",
     "text": [
      "/bbs/Beauty/M.1522394375.A.C92.html https://www.ptt.cc/bbs/Beauty/M.1522394375.A.C92.html\n",
      "/bbs/Beauty/M.1522398712.A.1BB.html https://www.ptt.cc/bbs/Beauty/M.1522398712.A.1BB.html\n",
      "/bbs/Beauty/M.1522403374.A.7D4.html https://www.ptt.cc/bbs/Beauty/M.1522403374.A.7D4.html\n",
      "/bbs/Beauty/M.1522405808.A.6E8.html https://www.ptt.cc/bbs/Beauty/M.1522405808.A.6E8.html\n",
      "/bbs/Beauty/M.1522405988.A.846.html https://www.ptt.cc/bbs/Beauty/M.1522405988.A.846.html\n",
      "/bbs/Beauty/M.1522409638.A.708.html https://www.ptt.cc/bbs/Beauty/M.1522409638.A.708.html\n",
      "/bbs/Beauty/M.1522416486.A.BEF.html https://www.ptt.cc/bbs/Beauty/M.1522416486.A.BEF.html\n",
      "/bbs/Beauty/M.1522416874.A.DFE.html https://www.ptt.cc/bbs/Beauty/M.1522416874.A.DFE.html\n",
      "/bbs/Beauty/M.1522418387.A.0E8.html https://www.ptt.cc/bbs/Beauty/M.1522418387.A.0E8.html\n",
      "/bbs/Beauty/M.1522418451.A.660.html https://www.ptt.cc/bbs/Beauty/M.1522418451.A.660.html\n",
      "/bbs/Beauty/M.1522420581.A.170.html https://www.ptt.cc/bbs/Beauty/M.1522420581.A.170.html\n",
      "/bbs/Beauty/M.1522421003.A.056.html https://www.ptt.cc/bbs/Beauty/M.1522421003.A.056.html\n",
      "/bbs/Beauty/M.1522421092.A.EB7.html https://www.ptt.cc/bbs/Beauty/M.1522421092.A.EB7.html\n",
      "/bbs/Beauty/M.1522421399.A.025.html https://www.ptt.cc/bbs/Beauty/M.1522421399.A.025.html\n",
      "/bbs/Beauty/M.1522421419.A.7AF.html https://www.ptt.cc/bbs/Beauty/M.1522421419.A.7AF.html\n",
      "/bbs/Beauty/M.1522427854.A.F84.html https://www.ptt.cc/bbs/Beauty/M.1522427854.A.F84.html\n",
      "/bbs/Beauty/M.1522430669.A.009.html https://www.ptt.cc/bbs/Beauty/M.1522430669.A.009.html\n",
      "/bbs/Beauty/M.1522441930.A.376.html https://www.ptt.cc/bbs/Beauty/M.1522441930.A.376.html\n",
      "/bbs/Beauty/M.1443906121.A.65B.html https://www.ptt.cc/bbs/Beauty/M.1443906121.A.65B.html\n",
      "/bbs/Beauty/M.1423752558.A.849.html https://www.ptt.cc/bbs/Beauty/M.1423752558.A.849.html\n",
      "/bbs/Beauty/M.1430099938.A.3B7.html https://www.ptt.cc/bbs/Beauty/M.1430099938.A.3B7.html\n",
      "/bbs/Beauty/M.1507213965.A.0C7.html https://www.ptt.cc/bbs/Beauty/M.1507213965.A.0C7.html\n",
      "/bbs/Beauty/M.1476111251.A.C20.html https://www.ptt.cc/bbs/Beauty/M.1476111251.A.C20.html\n"
     ]
    },
    {
     "name": "stderr",
     "output_type": "stream",
     "text": [
      "2018-03-30 13:57:54 [root] WARNING: follow https://www.ptt.cc/bbs/Beauty/index2432.html\n"
     ]
    },
    {
     "name": "stdout",
     "output_type": "stream",
     "text": [
      "/bbs/Beauty/M.1522314273.A.D52.html https://www.ptt.cc/bbs/Beauty/M.1522314273.A.D52.html\n",
      "/bbs/Beauty/M.1522314352.A.45F.html https://www.ptt.cc/bbs/Beauty/M.1522314352.A.45F.html\n",
      "/bbs/Beauty/M.1522314828.A.06B.html https://www.ptt.cc/bbs/Beauty/M.1522314828.A.06B.html\n",
      "/bbs/Beauty/M.1522326485.A.A84.html https://www.ptt.cc/bbs/Beauty/M.1522326485.A.A84.html\n",
      "/bbs/Beauty/M.1522328664.A.779.html https://www.ptt.cc/bbs/Beauty/M.1522328664.A.779.html\n",
      "/bbs/Beauty/M.1522329493.A.F81.html https://www.ptt.cc/bbs/Beauty/M.1522329493.A.F81.html\n",
      "/bbs/Beauty/M.1522338333.A.EBA.html https://www.ptt.cc/bbs/Beauty/M.1522338333.A.EBA.html\n",
      "/bbs/Beauty/M.1522338910.A.150.html https://www.ptt.cc/bbs/Beauty/M.1522338910.A.150.html\n",
      "/bbs/Beauty/M.1522345704.A.DC6.html https://www.ptt.cc/bbs/Beauty/M.1522345704.A.DC6.html\n",
      "/bbs/Beauty/M.1522348755.A.5BA.html https://www.ptt.cc/bbs/Beauty/M.1522348755.A.5BA.html\n",
      "/bbs/Beauty/M.1522367908.A.1F2.html https://www.ptt.cc/bbs/Beauty/M.1522367908.A.1F2.html\n",
      "/bbs/Beauty/M.1522381616.A.631.html https://www.ptt.cc/bbs/Beauty/M.1522381616.A.631.html\n",
      "/bbs/Beauty/M.1522384799.A.463.html https://www.ptt.cc/bbs/Beauty/M.1522384799.A.463.html\n",
      "/bbs/Beauty/M.1522386078.A.8BC.html https://www.ptt.cc/bbs/Beauty/M.1522386078.A.8BC.html\n",
      "/bbs/Beauty/M.1522388441.A.8DE.html https://www.ptt.cc/bbs/Beauty/M.1522388441.A.8DE.html\n",
      "/bbs/Beauty/M.1522393022.A.DCF.html https://www.ptt.cc/bbs/Beauty/M.1522393022.A.DCF.html\n",
      "/bbs/Beauty/M.1522393849.A.1FB.html https://www.ptt.cc/bbs/Beauty/M.1522393849.A.1FB.html\n"
     ]
    },
    {
     "name": "stderr",
     "output_type": "stream",
     "text": [
      "2018-03-30 13:57:57 [root] WARNING: follow https://www.ptt.cc/bbs/Beauty/index2431.html\n"
     ]
    },
    {
     "name": "stdout",
     "output_type": "stream",
     "text": [
      "/bbs/Beauty/M.1522247899.A.DBA.html https://www.ptt.cc/bbs/Beauty/M.1522247899.A.DBA.html\n",
      "/bbs/Beauty/M.1522248235.A.956.html https://www.ptt.cc/bbs/Beauty/M.1522248235.A.956.html\n",
      "/bbs/Beauty/M.1522250210.A.E75.html https://www.ptt.cc/bbs/Beauty/M.1522250210.A.E75.html\n",
      "/bbs/Beauty/M.1522250840.A.EA2.html https://www.ptt.cc/bbs/Beauty/M.1522250840.A.EA2.html\n",
      "/bbs/Beauty/M.1522259525.A.26C.html https://www.ptt.cc/bbs/Beauty/M.1522259525.A.26C.html\n",
      "/bbs/Beauty/M.1522279922.A.06B.html https://www.ptt.cc/bbs/Beauty/M.1522279922.A.06B.html\n",
      "/bbs/Beauty/M.1522281618.A.AC4.html https://www.ptt.cc/bbs/Beauty/M.1522281618.A.AC4.html\n",
      "/bbs/Beauty/M.1522282925.A.7DE.html https://www.ptt.cc/bbs/Beauty/M.1522282925.A.7DE.html\n",
      "/bbs/Beauty/M.1522289094.A.537.html https://www.ptt.cc/bbs/Beauty/M.1522289094.A.537.html\n",
      "/bbs/Beauty/M.1522297332.A.4F4.html https://www.ptt.cc/bbs/Beauty/M.1522297332.A.4F4.html\n",
      "/bbs/Beauty/M.1522298961.A.DD9.html https://www.ptt.cc/bbs/Beauty/M.1522298961.A.DD9.html\n",
      "/bbs/Beauty/M.1522307513.A.DC3.html https://www.ptt.cc/bbs/Beauty/M.1522307513.A.DC3.html\n",
      "/bbs/Beauty/M.1522314089.A.75E.html https://www.ptt.cc/bbs/Beauty/M.1522314089.A.75E.html\n"
     ]
    },
    {
     "name": "stderr",
     "output_type": "stream",
     "text": [
      "2018-03-30 13:57:59 [root] WARNING: follow https://www.ptt.cc/bbs/Beauty/index2430.html\n"
     ]
    },
    {
     "name": "stdout",
     "output_type": "stream",
     "text": [
      "/bbs/Beauty/M.1522164969.A.93A.html https://www.ptt.cc/bbs/Beauty/M.1522164969.A.93A.html\n",
      "/bbs/Beauty/M.1522165424.A.786.html https://www.ptt.cc/bbs/Beauty/M.1522165424.A.786.html\n",
      "/bbs/Beauty/M.1522166207.A.094.html https://www.ptt.cc/bbs/Beauty/M.1522166207.A.094.html\n",
      "/bbs/Beauty/M.1522166956.A.328.html https://www.ptt.cc/bbs/Beauty/M.1522166956.A.328.html\n",
      "/bbs/Beauty/M.1522192203.A.340.html https://www.ptt.cc/bbs/Beauty/M.1522192203.A.340.html\n",
      "/bbs/Beauty/M.1522198439.A.273.html https://www.ptt.cc/bbs/Beauty/M.1522198439.A.273.html\n",
      "/bbs/Beauty/M.1522211188.A.67D.html https://www.ptt.cc/bbs/Beauty/M.1522211188.A.67D.html\n",
      "/bbs/Beauty/M.1522218693.A.93E.html https://www.ptt.cc/bbs/Beauty/M.1522218693.A.93E.html\n",
      "/bbs/Beauty/M.1522235523.A.512.html https://www.ptt.cc/bbs/Beauty/M.1522235523.A.512.html\n",
      "/bbs/Beauty/M.1522238912.A.3AE.html https://www.ptt.cc/bbs/Beauty/M.1522238912.A.3AE.html\n",
      "/bbs/Beauty/M.1522242086.A.B28.html https://www.ptt.cc/bbs/Beauty/M.1522242086.A.B28.html\n",
      "/bbs/Beauty/M.1522243262.A.657.html https://www.ptt.cc/bbs/Beauty/M.1522243262.A.657.html\n",
      "/bbs/Beauty/M.1522244052.A.2A5.html https://www.ptt.cc/bbs/Beauty/M.1522244052.A.2A5.html\n",
      "/bbs/Beauty/M.1522246745.A.291.html https://www.ptt.cc/bbs/Beauty/M.1522246745.A.291.html\n"
     ]
    },
    {
     "name": "stderr",
     "output_type": "stream",
     "text": [
      "2018-03-30 13:57:59 [root] WARNING: follow https://www.ptt.cc/bbs/Beauty/index2429.html\n"
     ]
    },
    {
     "name": "stdout",
     "output_type": "stream",
     "text": [
      "/bbs/Beauty/M.1522116508.A.293.html https://www.ptt.cc/bbs/Beauty/M.1522116508.A.293.html\n",
      "/bbs/Beauty/M.1522118718.A.396.html https://www.ptt.cc/bbs/Beauty/M.1522118718.A.396.html\n",
      "/bbs/Beauty/M.1522119728.A.9EF.html https://www.ptt.cc/bbs/Beauty/M.1522119728.A.9EF.html\n",
      "/bbs/Beauty/M.1522120118.A.C69.html https://www.ptt.cc/bbs/Beauty/M.1522120118.A.C69.html\n",
      "/bbs/Beauty/M.1522126500.A.7C1.html https://www.ptt.cc/bbs/Beauty/M.1522126500.A.7C1.html\n",
      "/bbs/Beauty/M.1522129674.A.DB5.html https://www.ptt.cc/bbs/Beauty/M.1522129674.A.DB5.html\n",
      "/bbs/Beauty/M.1522130172.A.405.html https://www.ptt.cc/bbs/Beauty/M.1522130172.A.405.html\n",
      "/bbs/Beauty/M.1522139374.A.F08.html https://www.ptt.cc/bbs/Beauty/M.1522139374.A.F08.html\n",
      "/bbs/Beauty/M.1522140060.A.316.html https://www.ptt.cc/bbs/Beauty/M.1522140060.A.316.html\n",
      "/bbs/Beauty/M.1522145860.A.5FF.html https://www.ptt.cc/bbs/Beauty/M.1522145860.A.5FF.html\n",
      "/bbs/Beauty/M.1522145906.A.702.html https://www.ptt.cc/bbs/Beauty/M.1522145906.A.702.html\n",
      "/bbs/Beauty/M.1522151483.A.899.html https://www.ptt.cc/bbs/Beauty/M.1522151483.A.899.html\n",
      "/bbs/Beauty/M.1522153985.A.0A5.html https://www.ptt.cc/bbs/Beauty/M.1522153985.A.0A5.html\n",
      "/bbs/Beauty/M.1522155475.A.5D0.html https://www.ptt.cc/bbs/Beauty/M.1522155475.A.5D0.html\n",
      "/bbs/Beauty/M.1522156420.A.C60.html https://www.ptt.cc/bbs/Beauty/M.1522156420.A.C60.html\n",
      "/bbs/Beauty/M.1522160884.A.736.html https://www.ptt.cc/bbs/Beauty/M.1522160884.A.736.html\n",
      "/bbs/Beauty/M.1522162078.A.BEA.html https://www.ptt.cc/bbs/Beauty/M.1522162078.A.BEA.html\n",
      "/bbs/Beauty/M.1522046748.A.8BD.html https://www.ptt.cc/bbs/Beauty/M.1522046748.A.8BD.html\n",
      "/bbs/Beauty/M.1522048414.A.041.html https://www.ptt.cc/bbs/Beauty/M.1522048414.A.041.html\n",
      "/bbs/Beauty/M.1522048737.A.708.html https://www.ptt.cc/bbs/Beauty/M.1522048737.A.708.html\n",
      "/bbs/Beauty/M.1522057481.A.529.html https://www.ptt.cc/bbs/Beauty/M.1522057481.A.529.html\n",
      "/bbs/Beauty/M.1522069369.A.F30.html https://www.ptt.cc/bbs/Beauty/M.1522069369.A.F30.html\n",
      "/bbs/Beauty/M.1522069500.A.06B.html https://www.ptt.cc/bbs/Beauty/M.1522069500.A.06B.html\n",
      "/bbs/Beauty/M.1522070602.A.D89.html https://www.ptt.cc/bbs/Beauty/M.1522070602.A.D89.html\n",
      "/bbs/Beauty/M.1522072469.A.616.html https://www.ptt.cc/bbs/Beauty/M.1522072469.A.616.html\n",
      "/bbs/Beauty/M.1522073849.A.92D.html https://www.ptt.cc/bbs/Beauty/M.1522073849.A.92D.html\n",
      "/bbs/Beauty/M.1522074178.A.023.html https://www.ptt.cc/bbs/Beauty/M.1522074178.A.023.html\n",
      "/bbs/Beauty/M.1522074258.A.933.html https://www.ptt.cc/bbs/Beauty/M.1522074258.A.933.html\n",
      "/bbs/Beauty/M.1522077626.A.E77.html https://www.ptt.cc/bbs/Beauty/M.1522077626.A.E77.html\n",
      "/bbs/Beauty/M.1522079086.A.776.html https://www.ptt.cc/bbs/Beauty/M.1522079086.A.776.html\n",
      "/bbs/Beauty/M.1522080356.A.997.html https://www.ptt.cc/bbs/Beauty/M.1522080356.A.997.html\n",
      "/bbs/Beauty/M.1522081572.A.78C.html https://www.ptt.cc/bbs/Beauty/M.1522081572.A.78C.html\n",
      "/bbs/Beauty/M.1522086995.A.11D.html https://www.ptt.cc/bbs/Beauty/M.1522086995.A.11D.html\n",
      "/bbs/Beauty/M.1522110991.A.600.html https://www.ptt.cc/bbs/Beauty/M.1522110991.A.600.html\n"
     ]
    },
    {
     "name": "stderr",
     "output_type": "stream",
     "text": [
      "2018-03-30 13:58:00 [root] WARNING: follow https://www.ptt.cc/bbs/Beauty/index2428.html\n"
     ]
    },
    {
     "name": "stdout",
     "output_type": "stream",
     "text": [
      "/bbs/Beauty/M.1522114983.A.EC3.html https://www.ptt.cc/bbs/Beauty/M.1522114983.A.EC3.html\n"
     ]
    },
    {
     "name": "stderr",
     "output_type": "stream",
     "text": [
      "2018-03-30 13:58:02 [root] WARNING: follow https://www.ptt.cc/bbs/Beauty/index2427.html\n"
     ]
    },
    {
     "name": "stdout",
     "output_type": "stream",
     "text": [
      "/bbs/Beauty/M.1521958237.A.613.html https://www.ptt.cc/bbs/Beauty/M.1521958237.A.613.html\n",
      "/bbs/Beauty/M.1521958372.A.52B.html https://www.ptt.cc/bbs/Beauty/M.1521958372.A.52B.html\n",
      "/bbs/Beauty/M.1521961258.A.7A8.html https://www.ptt.cc/bbs/Beauty/M.1521961258.A.7A8.html\n",
      "/bbs/Beauty/M.1521963423.A.CA3.html https://www.ptt.cc/bbs/Beauty/M.1521963423.A.CA3.html\n",
      "/bbs/Beauty/M.1521967049.A.FDD.html https://www.ptt.cc/bbs/Beauty/M.1521967049.A.FDD.html\n",
      "/bbs/Beauty/M.1521974885.A.B08.html https://www.ptt.cc/bbs/Beauty/M.1521974885.A.B08.html\n",
      "/bbs/Beauty/M.1521977570.A.EC6.html https://www.ptt.cc/bbs/Beauty/M.1521977570.A.EC6.html\n",
      "/bbs/Beauty/M.1521981195.A.FA4.html https://www.ptt.cc/bbs/Beauty/M.1521981195.A.FA4.html\n",
      "/bbs/Beauty/M.1521983596.A.22A.html https://www.ptt.cc/bbs/Beauty/M.1521983596.A.22A.html\n",
      "/bbs/Beauty/M.1521990023.A.854.html https://www.ptt.cc/bbs/Beauty/M.1521990023.A.854.html\n",
      "/bbs/Beauty/M.1522010426.A.CFC.html https://www.ptt.cc/bbs/Beauty/M.1522010426.A.CFC.html\n",
      "/bbs/Beauty/M.1522029845.A.67B.html https://www.ptt.cc/bbs/Beauty/M.1522029845.A.67B.html\n",
      "/bbs/Beauty/M.1522038132.A.019.html https://www.ptt.cc/bbs/Beauty/M.1522038132.A.019.html\n"
     ]
    },
    {
     "name": "stderr",
     "output_type": "stream",
     "text": [
      "2018-03-30 13:58:03 [root] WARNING: follow https://www.ptt.cc/bbs/Beauty/index2426.html\n"
     ]
    },
    {
     "name": "stdout",
     "output_type": "stream",
     "text": [
      "/bbs/Beauty/M.1521870655.A.82E.html https://www.ptt.cc/bbs/Beauty/M.1521870655.A.82E.html\n",
      "/bbs/Beauty/M.1521875389.A.D19.html https://www.ptt.cc/bbs/Beauty/M.1521875389.A.D19.html\n",
      "/bbs/Beauty/M.1521879050.A.96D.html https://www.ptt.cc/bbs/Beauty/M.1521879050.A.96D.html\n",
      "/bbs/Beauty/M.1521881908.A.3BB.html https://www.ptt.cc/bbs/Beauty/M.1521881908.A.3BB.html\n",
      "/bbs/Beauty/M.1521884922.A.875.html https://www.ptt.cc/bbs/Beauty/M.1521884922.A.875.html\n",
      "/bbs/Beauty/M.1521891598.A.C79.html https://www.ptt.cc/bbs/Beauty/M.1521891598.A.C79.html\n",
      "/bbs/Beauty/M.1521897099.A.696.html https://www.ptt.cc/bbs/Beauty/M.1521897099.A.696.html\n",
      "/bbs/Beauty/M.1521898065.A.4D3.html https://www.ptt.cc/bbs/Beauty/M.1521898065.A.4D3.html\n",
      "/bbs/Beauty/M.1521900241.A.DA4.html https://www.ptt.cc/bbs/Beauty/M.1521900241.A.DA4.html\n",
      "/bbs/Beauty/M.1521901227.A.61A.html https://www.ptt.cc/bbs/Beauty/M.1521901227.A.61A.html\n",
      "/bbs/Beauty/M.1521902944.A.7A3.html https://www.ptt.cc/bbs/Beauty/M.1521902944.A.7A3.html\n",
      "/bbs/Beauty/M.1521904191.A.6D3.html https://www.ptt.cc/bbs/Beauty/M.1521904191.A.6D3.html\n",
      "/bbs/Beauty/M.1521905816.A.9BE.html https://www.ptt.cc/bbs/Beauty/M.1521905816.A.9BE.html\n",
      "/bbs/Beauty/M.1521915243.A.622.html https://www.ptt.cc/bbs/Beauty/M.1521915243.A.622.html\n",
      "/bbs/Beauty/M.1521936278.A.8CF.html https://www.ptt.cc/bbs/Beauty/M.1521936278.A.8CF.html\n",
      "/bbs/Beauty/M.1521937173.A.D3A.html https://www.ptt.cc/bbs/Beauty/M.1521937173.A.D3A.html\n",
      "/bbs/Beauty/M.1521939423.A.FCA.html https://www.ptt.cc/bbs/Beauty/M.1521939423.A.FCA.html\n",
      "/bbs/Beauty/M.1521940842.A.7F4.html https://www.ptt.cc/bbs/Beauty/M.1521940842.A.7F4.html\n",
      "/bbs/Beauty/M.1521943987.A.D6E.html https://www.ptt.cc/bbs/Beauty/M.1521943987.A.D6E.html\n",
      "/bbs/Beauty/M.1521729148.A.1D3.html https://www.ptt.cc/bbs/Beauty/M.1521729148.A.1D3.html\n",
      "/bbs/Beauty/M.1521730631.A.37E.html https://www.ptt.cc/bbs/Beauty/M.1521730631.A.37E.html\n",
      "/bbs/Beauty/M.1521730632.A.459.html https://www.ptt.cc/bbs/Beauty/M.1521730632.A.459.html\n",
      "/bbs/Beauty/M.1521737713.A.DA8.html https://www.ptt.cc/bbs/Beauty/M.1521737713.A.DA8.html\n",
      "/bbs/Beauty/M.1521739035.A.F7D.html https://www.ptt.cc/bbs/Beauty/M.1521739035.A.F7D.html\n",
      "/bbs/Beauty/M.1521745252.A.83E.html https://www.ptt.cc/bbs/Beauty/M.1521745252.A.83E.html\n",
      "/bbs/Beauty/M.1521762879.A.594.html https://www.ptt.cc/bbs/Beauty/M.1521762879.A.594.html\n",
      "/bbs/Beauty/M.1521781400.A.B98.html https://www.ptt.cc/bbs/Beauty/M.1521781400.A.B98.html\n",
      "/bbs/Beauty/M.1521794040.A.E82.html https://www.ptt.cc/bbs/Beauty/M.1521794040.A.E82.html\n",
      "/bbs/Beauty/M.1521794415.A.959.html https://www.ptt.cc/bbs/Beauty/M.1521794415.A.959.html\n",
      "/bbs/Beauty/M.1521803471.A.24B.html https://www.ptt.cc/bbs/Beauty/M.1521803471.A.24B.html\n",
      "/bbs/Beauty/M.1521804661.A.DEB.html https://www.ptt.cc/bbs/Beauty/M.1521804661.A.DEB.html\n",
      "/bbs/Beauty/M.1521805081.A.DF0.html https://www.ptt.cc/bbs/Beauty/M.1521805081.A.DF0.html\n",
      "/bbs/Beauty/M.1521810740.A.951.html https://www.ptt.cc/bbs/Beauty/M.1521810740.A.951.html\n",
      "/bbs/Beauty/M.1521812481.A.616.html https://www.ptt.cc/bbs/Beauty/M.1521812481.A.616.html\n",
      "/bbs/Beauty/M.1521817953.A.9F1.html https://www.ptt.cc/bbs/Beauty/M.1521817953.A.9F1.html\n",
      "/bbs/Beauty/M.1521822382.A.AC5.html https://www.ptt.cc/bbs/Beauty/M.1521822382.A.AC5.html\n",
      "/bbs/Beauty/M.1521856377.A.5AA.html https://www.ptt.cc/bbs/Beauty/M.1521856377.A.5AA.html\n",
      "/bbs/Beauty/M.1521864535.A.B96.html https://www.ptt.cc/bbs/Beauty/M.1521864535.A.B96.html\n",
      "/bbs/Beauty/M.1521868538.A.E48.html https://www.ptt.cc/bbs/Beauty/M.1521868538.A.E48.html\n"
     ]
    },
    {
     "name": "stderr",
     "output_type": "stream",
     "text": [
      "2018-03-30 13:58:05 [root] WARNING: follow https://www.ptt.cc/bbs/Beauty/index2425.html\n",
      "2018-03-30 13:58:06 [root] WARNING: max pages reached\n"
     ]
    },
    {
     "name": "stdout",
     "output_type": "stream",
     "text": [
      "/bbs/Beauty/M.1521604732.A.767.html https://www.ptt.cc/bbs/Beauty/M.1521604732.A.767.html\n",
      "/bbs/Beauty/M.1521612253.A.19E.html https://www.ptt.cc/bbs/Beauty/M.1521612253.A.19E.html\n",
      "/bbs/Beauty/M.1521619172.A.3D0.html https://www.ptt.cc/bbs/Beauty/M.1521619172.A.3D0.html\n",
      "/bbs/Beauty/M.1521619506.A.F72.html https://www.ptt.cc/bbs/Beauty/M.1521619506.A.F72.html\n",
      "/bbs/Beauty/M.1521621440.A.BAF.html https://www.ptt.cc/bbs/Beauty/M.1521621440.A.BAF.html\n",
      "/bbs/Beauty/M.1521625110.A.6F4.html https://www.ptt.cc/bbs/Beauty/M.1521625110.A.6F4.html\n",
      "/bbs/Beauty/M.1521631113.A.FE9.html https://www.ptt.cc/bbs/Beauty/M.1521631113.A.FE9.html\n",
      "/bbs/Beauty/M.1521633276.A.1A4.html https://www.ptt.cc/bbs/Beauty/M.1521633276.A.1A4.html\n",
      "/bbs/Beauty/M.1521633668.A.3C3.html https://www.ptt.cc/bbs/Beauty/M.1521633668.A.3C3.html\n",
      "/bbs/Beauty/M.1521635056.A.37A.html https://www.ptt.cc/bbs/Beauty/M.1521635056.A.37A.html\n",
      "/bbs/Beauty/M.1521649447.A.FF2.html https://www.ptt.cc/bbs/Beauty/M.1521649447.A.FF2.html\n",
      "/bbs/Beauty/M.1521650054.A.429.html https://www.ptt.cc/bbs/Beauty/M.1521650054.A.429.html\n",
      "/bbs/Beauty/M.1521658035.A.51B.html https://www.ptt.cc/bbs/Beauty/M.1521658035.A.51B.html\n",
      "/bbs/Beauty/M.1521706375.A.C64.html https://www.ptt.cc/bbs/Beauty/M.1521706375.A.C64.html\n",
      "/bbs/Beauty/M.1521708221.A.4A1.html https://www.ptt.cc/bbs/Beauty/M.1521708221.A.4A1.html\n",
      "/bbs/Beauty/M.1521715435.A.CAF.html https://www.ptt.cc/bbs/Beauty/M.1521715435.A.CAF.html\n",
      "/bbs/Beauty/M.1521719706.A.782.html https://www.ptt.cc/bbs/Beauty/M.1521719706.A.782.html\n",
      "/bbs/Beauty/M.1521720713.A.C9F.html https://www.ptt.cc/bbs/Beauty/M.1521720713.A.C9F.html\n",
      "/bbs/Beauty/M.1521721876.A.A79.html https://www.ptt.cc/bbs/Beauty/M.1521721876.A.A79.html\n",
      "/bbs/Beauty/M.1521724090.A.AED.html https://www.ptt.cc/bbs/Beauty/M.1521724090.A.AED.html\n"
     ]
    }
   ],
   "source": [
    "\n",
    "configure_logging({'LOG_FORMAT': '%(levelname)s: %(message)s'})\n",
    "runner = CrawlerRunner()\n",
    "\n",
    "d = runner.crawl(PTTSpider)\n",
    "# Stop after executing\n",
    "d.addBoth(lambda _: reactor.stop())\n",
    "reactor.run() # the script will block here until the crawling is finished"
   ]
  },
  {
   "cell_type": "markdown",
   "metadata": {},
   "source": [
    "## Write our spider\n",
    "When we execute our spider, it will send request to server and we will get response back at \"parse\" function, and we can use \"response.text\" to chehck the html code of response as well as finding things we could extract"
   ]
  },
  {
   "cell_type": "code",
   "execution_count": 5,
   "metadata": {
    "collapsed": true
   },
   "outputs": [],
   "source": [
    "class PTTSpider(scrapy.Spider):\n",
    "    name = 'ptt'\n",
    "    allowed_domains = ['ptt.cc']\n",
    "    start_urls = ('https://www.ptt.cc/bbs/Beauty/index.html', )\n",
    "    \n",
    "    def parse(self, response):\n",
    "        print(\"Response back\", response.text)"
   ]
  },
  {
   "cell_type": "code",
   "execution_count": 6,
   "metadata": {},
   "outputs": [
    {
     "name": "stderr",
     "output_type": "stream",
     "text": [
      "INFO: Overridden settings: {}\n",
      "2018-03-29 10:27:41 [scrapy.middleware] INFO: Enabled extensions:\n",
      "['scrapy.extensions.corestats.CoreStats',\n",
      " 'scrapy.extensions.telnet.TelnetConsole',\n",
      " 'scrapy.extensions.memusage.MemoryUsage',\n",
      " 'scrapy.extensions.logstats.LogStats']\n",
      "2018-03-29 10:27:41 [scrapy.middleware] INFO: Enabled downloader middlewares:\n",
      "['scrapy.downloadermiddlewares.httpauth.HttpAuthMiddleware',\n",
      " 'scrapy.downloadermiddlewares.downloadtimeout.DownloadTimeoutMiddleware',\n",
      " 'scrapy.downloadermiddlewares.defaultheaders.DefaultHeadersMiddleware',\n",
      " 'scrapy.downloadermiddlewares.useragent.UserAgentMiddleware',\n",
      " 'scrapy.downloadermiddlewares.retry.RetryMiddleware',\n",
      " 'scrapy.downloadermiddlewares.redirect.MetaRefreshMiddleware',\n",
      " 'scrapy.downloadermiddlewares.httpcompression.HttpCompressionMiddleware',\n",
      " 'scrapy.downloadermiddlewares.redirect.RedirectMiddleware',\n",
      " 'scrapy.downloadermiddlewares.cookies.CookiesMiddleware',\n",
      " 'scrapy.downloadermiddlewares.httpproxy.HttpProxyMiddleware',\n",
      " 'scrapy.downloadermiddlewares.stats.DownloaderStats']\n",
      "2018-03-29 10:27:41 [scrapy.middleware] INFO: Enabled spider middlewares:\n",
      "['scrapy.spidermiddlewares.httperror.HttpErrorMiddleware',\n",
      " 'scrapy.spidermiddlewares.offsite.OffsiteMiddleware',\n",
      " 'scrapy.spidermiddlewares.referer.RefererMiddleware',\n",
      " 'scrapy.spidermiddlewares.urllength.UrlLengthMiddleware',\n",
      " 'scrapy.spidermiddlewares.depth.DepthMiddleware']\n",
      "2018-03-29 10:27:41 [scrapy.middleware] INFO: Enabled item pipelines:\n",
      "[]\n",
      "2018-03-29 10:27:41 [scrapy.core.engine] INFO: Spider opened\n",
      "2018-03-29 10:27:41 [scrapy.extensions.logstats] INFO: Crawled 0 pages (at 0 pages/min), scraped 0 items (at 0 items/min)\n",
      "2018-03-29 10:27:41 [scrapy.extensions.telnet] DEBUG: Telnet console listening on 127.0.0.1:6023\n"
     ]
    },
    {
     "data": {
      "text/plain": [
       "<Deferred at 0x1146a9fd0>"
      ]
     },
     "execution_count": 6,
     "metadata": {},
     "output_type": "execute_result"
    },
    {
     "name": "stderr",
     "output_type": "stream",
     "text": [
      "2018-03-29 10:27:43 [scrapy.core.engine] DEBUG: Crawled (200) <GET https://www.ptt.cc/bbs/Beauty/index.html> (referer: None)\n",
      "2018-03-29 10:27:43 [scrapy.core.engine] INFO: Closing spider (finished)\n",
      "2018-03-29 10:27:43 [scrapy.statscollectors] INFO: Dumping Scrapy stats:\n",
      "{'downloader/request_bytes': 230,\n",
      " 'downloader/request_count': 1,\n",
      " 'downloader/request_method_count/GET': 1,\n",
      " 'downloader/response_bytes': 2489,\n",
      " 'downloader/response_count': 1,\n",
      " 'downloader/response_status_count/200': 1,\n",
      " 'finish_reason': 'finished',\n",
      " 'finish_time': datetime.datetime(2018, 3, 29, 17, 27, 43, 485554),\n",
      " 'log_count/DEBUG': 2,\n",
      " 'log_count/INFO': 7,\n",
      " 'memusage/max': 78868480,\n",
      " 'memusage/startup': 78868480,\n",
      " 'response_received_count': 1,\n",
      " 'scheduler/dequeued': 1,\n",
      " 'scheduler/dequeued/memory': 1,\n",
      " 'scheduler/enqueued': 1,\n",
      " 'scheduler/enqueued/memory': 1,\n",
      " 'start_time': datetime.datetime(2018, 3, 29, 17, 27, 41, 983285)}\n",
      "2018-03-29 10:27:43 [scrapy.core.engine] INFO: Spider closed (finished)\n"
     ]
    },
    {
     "name": "stdout",
     "output_type": "stream",
     "text": [
      "Response back <!DOCTYPE html>\n",
      "<html>\n",
      "\t<head>\n",
      "\t\t<meta charset=\"utf-8\">\n",
      "\t\t\n",
      "\n",
      "<meta name=\"viewport\" content=\"width=device-width, initial-scale=1\">\n",
      "\n",
      "<title>看板 Beauty 文章列表 - 批踢踢實業坊</title>\n",
      "\n",
      "<link rel=\"stylesheet\" type=\"text/css\" href=\"//images.ptt.cc/bbs/v2.22/bbs-common.css\">\n",
      "<link rel=\"stylesheet\" type=\"text/css\" href=\"//images.ptt.cc/bbs/v2.22/bbs-base.css\" media=\"screen\">\n",
      "<link rel=\"stylesheet\" type=\"text/css\" href=\"//images.ptt.cc/bbs/v2.22/bbs-custom.css\">\n",
      "<link rel=\"stylesheet\" type=\"text/css\" href=\"//images.ptt.cc/bbs/v2.22/pushstream.css\" media=\"screen\">\n",
      "<link rel=\"stylesheet\" type=\"text/css\" href=\"//images.ptt.cc/bbs/v2.22/bbs-print.css\" media=\"print\">\n",
      "\n",
      "\n",
      "\n",
      "\n",
      "\t</head>\n",
      "    <body>\n",
      "\t\t\n",
      "<div id=\"topbar-container\">\n",
      "\t<div id=\"topbar\" class=\"bbs-content\">\n",
      "\t\t<a id=\"logo\" href=\"/\">批踢踢實業坊</a>\n",
      "\t\t<span>&rsaquo;</span>\n",
      "\t\t<a class=\"board\" href=\"/bbs/Beauty/index.html\"><span class=\"board-label\">看板 </span>Beauty</a>\n",
      "\t\t<a class=\"right small\" href=\"/about.html\">關於我們</a>\n",
      "\t\t<a class=\"right small\" href=\"/contact.html\">聯絡資訊</a>\n",
      "\t</div>\n",
      "</div>\n",
      "\n",
      "<div id=\"main-container\">\n",
      "\t<div id=\"action-bar-container\">\n",
      "\t\t<div class=\"action-bar\">\n",
      "\t\t\t<div class=\"btn-group btn-group-dir\">\n",
      "\t\t\t\t<a class=\"btn selected\" href=\"/bbs/Beauty/index.html\">看板</a>\n",
      "\t\t\t\t<a class=\"btn\" href=\"/man/Beauty/index.html\">精華區</a>\n",
      "\t\t\t</div>\n",
      "\t\t\t<div class=\"btn-group btn-group-paging\">\n",
      "\t\t\t\t<a class=\"btn wide\" href=\"/bbs/Beauty/index1.html\">最舊</a>\n",
      "\t\t\t\t<a class=\"btn wide\" href=\"/bbs/Beauty/index2432.html\">&lsaquo; 上頁</a>\n",
      "\t\t\t\t<a class=\"btn wide disabled\">下頁 &rsaquo;</a>\n",
      "\t\t\t\t<a class=\"btn wide\" href=\"/bbs/Beauty/index.html\">最新</a>\n",
      "\t\t\t</div>\n",
      "\t\t</div>\n",
      "\t</div>\n",
      "\n",
      "\t<div class=\"r-list-container action-bar-margin bbs-screen\">\n",
      "\t\t\n",
      "\t\t\n",
      "            \n",
      "        \n",
      "        \n",
      "\t\t<div class=\"r-ent\">\n",
      "\t\t\t<div class=\"nrec\"><span class=\"hl f2\">3</span></div>\n",
      "\t\t\t<div class=\"mark\"></div>\n",
      "\t\t\t<div class=\"title\">\n",
      "\t\t\t\n",
      "\t\t\t\t<a href=\"/bbs/Beauty/M.1522314273.A.D52.html\">[正妹] 美女舉手投足之間 流露出優雅的美感。</a>\n",
      "\t\t\t\n",
      "\t\t\t</div>\n",
      "\t\t\t<div class=\"meta\">\n",
      "\t\t\t\t<div class=\"date\"> 3/29</div>\n",
      "\t\t\t\t<div class=\"author\">ReiKuromiya</div>\n",
      "\t\t\t</div>\n",
      "\t\t</div>\n",
      "\n",
      "\t\t\n",
      "            \n",
      "        \n",
      "        \n",
      "\t\t<div class=\"r-ent\">\n",
      "\t\t\t<div class=\"nrec\"></div>\n",
      "\t\t\t<div class=\"mark\"></div>\n",
      "\t\t\t<div class=\"title\">\n",
      "\t\t\t\n",
      "\t\t\t\t<a href=\"/bbs/Beauty/M.1522314352.A.45F.html\">[正妹] 愛爾達體育主播</a>\n",
      "\t\t\t\n",
      "\t\t\t</div>\n",
      "\t\t\t<div class=\"meta\">\n",
      "\t\t\t\t<div class=\"date\"> 3/29</div>\n",
      "\t\t\t\t<div class=\"author\">abou199040</div>\n",
      "\t\t\t</div>\n",
      "\t\t</div>\n",
      "\n",
      "\t\t\n",
      "            \n",
      "        \n",
      "        \n",
      "\t\t<div class=\"r-ent\">\n",
      "\t\t\t<div class=\"nrec\"><span class=\"hl f3\">53</span></div>\n",
      "\t\t\t<div class=\"mark\"></div>\n",
      "\t\t\t<div class=\"title\">\n",
      "\t\t\t\n",
      "\t\t\t\t<a href=\"/bbs/Beauty/M.1522314828.A.06B.html\">[正妹] 女乃牛寺</a>\n",
      "\t\t\t\n",
      "\t\t\t</div>\n",
      "\t\t\t<div class=\"meta\">\n",
      "\t\t\t\t<div class=\"date\"> 3/29</div>\n",
      "\t\t\t\t<div class=\"author\">AmedRosario</div>\n",
      "\t\t\t</div>\n",
      "\t\t</div>\n",
      "\n",
      "\t\t\n",
      "            \n",
      "        \n",
      "        \n",
      "\t\t<div class=\"r-ent\">\n",
      "\t\t\t<div class=\"nrec\"><span class=\"hl f3\">28</span></div>\n",
      "\t\t\t<div class=\"mark\"></div>\n",
      "\t\t\t<div class=\"title\">\n",
      "\t\t\t\n",
      "\t\t\t\t<a href=\"/bbs/Beauty/M.1522326485.A.A84.html\">[正妹] 18歲</a>\n",
      "\t\t\t\n",
      "\t\t\t</div>\n",
      "\t\t\t<div class=\"meta\">\n",
      "\t\t\t\t<div class=\"date\"> 3/29</div>\n",
      "\t\t\t\t<div class=\"author\">james7923</div>\n",
      "\t\t\t</div>\n",
      "\t\t</div>\n",
      "\n",
      "\t\t\n",
      "            \n",
      "        \n",
      "        \n",
      "\t\t<div class=\"r-ent\">\n",
      "\t\t\t<div class=\"nrec\"></div>\n",
      "\t\t\t<div class=\"mark\"></div>\n",
      "\t\t\t<div class=\"title\">\n",
      "\t\t\t\n",
      "\t\t\t\t(本文已被刪除) [tp6fu6fu6]\n",
      "\t\t\t\n",
      "\t\t\t</div>\n",
      "\t\t\t<div class=\"meta\">\n",
      "\t\t\t\t<div class=\"date\"> 3/29</div>\n",
      "\t\t\t\t<div class=\"author\">-</div>\n",
      "\t\t\t</div>\n",
      "\t\t</div>\n",
      "\n",
      "\t\t\n",
      "            \n",
      "        \n",
      "        \n",
      "\t\t<div class=\"r-ent\">\n",
      "\t\t\t<div class=\"nrec\"><span class=\"hl f3\">44</span></div>\n",
      "\t\t\t<div class=\"mark\"></div>\n",
      "\t\t\t<div class=\"title\">\n",
      "\t\t\t\n",
      "\t\t\t\t<a href=\"/bbs/Beauty/M.1522328664.A.779.html\">[正妹] 歐美大屁股</a>\n",
      "\t\t\t\n",
      "\t\t\t</div>\n",
      "\t\t\t<div class=\"meta\">\n",
      "\t\t\t\t<div class=\"date\"> 3/29</div>\n",
      "\t\t\t\t<div class=\"author\">denverkober</div>\n",
      "\t\t\t</div>\n",
      "\t\t</div>\n",
      "\n",
      "\t\t\n",
      "            \n",
      "        \n",
      "        \n",
      "\t\t<div class=\"r-ent\">\n",
      "\t\t\t<div class=\"nrec\"><span class=\"hl f2\">4</span></div>\n",
      "\t\t\t<div class=\"mark\"></div>\n",
      "\t\t\t<div class=\"title\">\n",
      "\t\t\t\n",
      "\t\t\t\t<a href=\"/bbs/Beauty/M.1522329493.A.F81.html\">[正妹] Mamamoo 輝人</a>\n",
      "\t\t\t\n",
      "\t\t\t</div>\n",
      "\t\t\t<div class=\"meta\">\n",
      "\t\t\t\t<div class=\"date\"> 3/29</div>\n",
      "\t\t\t\t<div class=\"author\">andy16384257</div>\n",
      "\t\t\t</div>\n",
      "\t\t</div>\n",
      "\n",
      "\t\t\n",
      "            \n",
      "        \n",
      "        \n",
      "\t\t<div class=\"r-ent\">\n",
      "\t\t\t<div class=\"nrec\"><span class=\"hl f2\">2</span></div>\n",
      "\t\t\t<div class=\"mark\"></div>\n",
      "\t\t\t<div class=\"title\">\n",
      "\t\t\t\n",
      "\t\t\t\t<a href=\"/bbs/Beauty/M.1522338333.A.EBA.html\">[神人] 台南 長榮影音 女店員</a>\n",
      "\t\t\t\n",
      "\t\t\t</div>\n",
      "\t\t\t<div class=\"meta\">\n",
      "\t\t\t\t<div class=\"date\"> 3/29</div>\n",
      "\t\t\t\t<div class=\"author\">drpanadol</div>\n",
      "\t\t\t</div>\n",
      "\t\t</div>\n",
      "\n",
      "\t\t\n",
      "            \n",
      "        \n",
      "        \n",
      "\t\t<div class=\"r-ent\">\n",
      "\t\t\t<div class=\"nrec\"><span class=\"hl f2\">1</span></div>\n",
      "\t\t\t<div class=\"mark\"></div>\n",
      "\t\t\t<div class=\"title\">\n",
      "\t\t\t\n",
      "\t\t\t\t<a href=\"/bbs/Beauty/M.1522338910.A.150.html\">[正妹] 越南 譚雅</a>\n",
      "\t\t\t\n",
      "\t\t\t</div>\n",
      "\t\t\t<div class=\"meta\">\n",
      "\t\t\t\t<div class=\"date\"> 3/29</div>\n",
      "\t\t\t\t<div class=\"author\">nemies</div>\n",
      "\t\t\t</div>\n",
      "\t\t</div>\n",
      "\n",
      "\t\t\n",
      "            \n",
      "        \n",
      "        \n",
      "\t\t<div class=\"r-ent\">\n",
      "\t\t\t<div class=\"nrec\"><span class=\"hl f2\">2</span></div>\n",
      "\t\t\t<div class=\"mark\"></div>\n",
      "\t\t\t<div class=\"title\">\n",
      "\t\t\t\n",
      "\t\t\t\t<a href=\"/bbs/Beauty/M.1522339064.A.315.html\">[正妹] 前空服員</a>\n",
      "\t\t\t\n",
      "\t\t\t</div>\n",
      "\t\t\t<div class=\"meta\">\n",
      "\t\t\t\t<div class=\"date\"> 3/29</div>\n",
      "\t\t\t\t<div class=\"author\">FuyanX</div>\n",
      "\t\t\t</div>\n",
      "\t\t</div>\n",
      "\n",
      "\t\t\n",
      "        \n",
      "        <div class=\"r-list-sep\"></div>\n",
      "            \n",
      "                \n",
      "        \n",
      "        \n",
      "\t\t<div class=\"r-ent\">\n",
      "\t\t\t<div class=\"nrec\"><span class=\"hl f3\">76</span></div>\n",
      "\t\t\t<div class=\"mark\"></div>\n",
      "\t\t\t<div class=\"title\">\n",
      "\t\t\t\n",
      "\t\t\t\t<a href=\"/bbs/Beauty/M.1443906121.A.65B.html\">[公告] 不願上表特 ＆ 優文推薦 ＆ 檢舉建議專區</a>\n",
      "\t\t\t\n",
      "\t\t\t</div>\n",
      "\t\t\t<div class=\"meta\">\n",
      "\t\t\t\t<div class=\"date\">10/04</div>\n",
      "\t\t\t\t<div class=\"author\">ffwind</div>\n",
      "\t\t\t</div>\n",
      "\t\t</div>\n",
      "\n",
      "            \n",
      "                \n",
      "        \n",
      "        \n",
      "\t\t<div class=\"r-ent\">\n",
      "\t\t\t<div class=\"nrec\"></div>\n",
      "\t\t\t<div class=\"mark\">!</div>\n",
      "\t\t\t<div class=\"title\">\n",
      "\t\t\t\n",
      "\t\t\t\t<a href=\"/bbs/Beauty/M.1423752558.A.849.html\">[公告] 表特板板規 (2015.2.12)</a>\n",
      "\t\t\t\n",
      "\t\t\t</div>\n",
      "\t\t\t<div class=\"meta\">\n",
      "\t\t\t\t<div class=\"date\"> 2/12</div>\n",
      "\t\t\t\t<div class=\"author\">GeminiMan</div>\n",
      "\t\t\t</div>\n",
      "\t\t</div>\n",
      "\n",
      "            \n",
      "                \n",
      "        \n",
      "        \n",
      "\t\t<div class=\"r-ent\">\n",
      "\t\t\t<div class=\"nrec\"><span class=\"hl f1\">爆</span></div>\n",
      "\t\t\t<div class=\"mark\">M</div>\n",
      "\t\t\t<div class=\"title\">\n",
      "\t\t\t\n",
      "\t\t\t\t<a href=\"/bbs/Beauty/M.1430099938.A.3B7.html\">[公告] 對於謾罵，希望大家將心比心</a>\n",
      "\t\t\t\n",
      "\t\t\t</div>\n",
      "\t\t\t<div class=\"meta\">\n",
      "\t\t\t\t<div class=\"date\"> 4/27</div>\n",
      "\t\t\t\t<div class=\"author\">ffwind</div>\n",
      "\t\t\t</div>\n",
      "\t\t</div>\n",
      "\n",
      "            \n",
      "                \n",
      "        \n",
      "        \n",
      "\t\t<div class=\"r-ent\">\n",
      "\t\t\t<div class=\"nrec\"><span class=\"hl f1\">爆</span></div>\n",
      "\t\t\t<div class=\"mark\">M</div>\n",
      "\t\t\t<div class=\"title\">\n",
      "\t\t\t\n",
      "\t\t\t\t<a href=\"/bbs/Beauty/M.1507213965.A.0C7.html\">[公告] 板規修訂 - 意淫文字</a>\n",
      "\t\t\t\n",
      "\t\t\t</div>\n",
      "\t\t\t<div class=\"meta\">\n",
      "\t\t\t\t<div class=\"date\">10/05</div>\n",
      "\t\t\t\t<div class=\"author\">GeminiMan</div>\n",
      "\t\t\t</div>\n",
      "\t\t</div>\n",
      "\n",
      "            \n",
      "                \n",
      "        \n",
      "        \n",
      "\t\t<div class=\"r-ent\">\n",
      "\t\t\t<div class=\"nrec\"><span class=\"hl f3\">11</span></div>\n",
      "\t\t\t<div class=\"mark\">M</div>\n",
      "\t\t\t<div class=\"title\">\n",
      "\t\t\t\n",
      "\t\t\t\t<a href=\"/bbs/Beauty/M.1476111251.A.C20.html\">[公告] 偷拍相關板規修訂</a>\n",
      "\t\t\t\n",
      "\t\t\t</div>\n",
      "\t\t\t<div class=\"meta\">\n",
      "\t\t\t\t<div class=\"date\">10/10</div>\n",
      "\t\t\t\t<div class=\"author\">GeminiMan</div>\n",
      "\t\t\t</div>\n",
      "\t\t</div>\n",
      "\n",
      "            \n",
      "        \n",
      "\t</div>\n",
      "\n",
      "    \n",
      "</div>\n",
      "\n",
      "\t\t\n",
      "\n",
      "<script>\n",
      "  (function(i,s,o,g,r,a,m){i['GoogleAnalyticsObject']=r;i[r]=i[r]||function(){\n",
      "  (i[r].q=i[r].q||[]).push(arguments)},i[r].l=1*new Date();a=s.createElement(o),\n",
      "  m=s.getElementsByTagName(o)[0];a.async=1;a.src=g;m.parentNode.insertBefore(a,m)\n",
      "  })(window,document,'script','https://www.google-analytics.com/analytics.js','ga');\n",
      "\n",
      "  ga('create', 'UA-32365737-1', {\n",
      "    cookieDomain: 'ptt.cc',\n",
      "    legacyCookieDomain: 'ptt.cc'\n",
      "  });\n",
      "  ga('send', 'pageview');\n",
      "</script>\n",
      "\n",
      "\n",
      "\t\t\n",
      "<script src=\"//ajax.googleapis.com/ajax/libs/jquery/2.1.1/jquery.min.js\"></script>\n",
      "<script src=\"//images.ptt.cc/bbs/v2.22/bbs.js\"></script>\n",
      "\n",
      "    </body>\n",
      "</html>\n",
      "\n"
     ]
    }
   ],
   "source": [
    "configure_logging({'LOG_FORMAT': '%(levelname)s: %(message)s'})\n",
    "runner = CrawlerRunner()\n",
    "\n",
    "d = runner.crawl(PTTSpider)\n",
    "# Stop after executing\n",
    "d.addBoth(lambda _: reactor.stop())\n",
    "reactor.run() # the script will block here until the crawling is finished"
   ]
  },
  {
   "cell_type": "markdown",
   "metadata": {},
   "source": [
    "By viewing the html code from response.text, we could found that there are many posts during this page, so we could check DOM structure of info we need, which is helpful for us to extract them from these html code"
   ]
  },
  {
   "cell_type": "code",
   "execution_count": 3,
   "metadata": {
    "collapsed": true
   },
   "outputs": [],
   "source": [
    "import logging\n",
    "class PTTSpider(scrapy.Spider):\n",
    "    name = 'ptt'\n",
    "    allowed_domains = ['ptt.cc']\n",
    "    start_urls = ('https://www.ptt.cc/bbs/Beauty/index.html', )\n",
    "    custom_settings = {\n",
    "        'LOG_LEVEL': logging.WARNING,               \n",
    "    }\n",
    "    \n",
    "\n",
    "    MAX_RETRY = 1\n",
    "    retries = 0\n",
    "\n",
    "\n",
    "    def parse(self, response):\n",
    "        # div, which owns class names \"over18-notice\"\n",
    "        if len(response.xpath('//div[@class=\"over18-notice\"]')) > 0:\n",
    "            print(\"test\")\n",
    "            if self.retries < PTTSpider.MAX_RETRY:\n",
    "                self.retries += 1\n",
    "                logging.warning('retry {} times...'.format(self.retries))\n",
    "                # Give response back to ptt\n",
    "                yield FormRequest.from_response(response,\n",
    "                                                formdata={'yes': 'yes'},\n",
    "                                                callback=self.parse)\n",
    "            else:\n",
    "                logging.warning('you cannot pass')\n",
    "\n",
    "        else:\n",
    "            # response css return selector list\n",
    "            for href in response.css('.r-ent > div.title > a::attr(href)'):\n",
    "                # reconstruct url\n",
    "                url = response.urljoin(href.extract())\n",
    "                print(url)\n"
   ]
  },
  {
   "cell_type": "code",
   "execution_count": 4,
   "metadata": {},
   "outputs": [
    {
     "name": "stderr",
     "output_type": "stream",
     "text": [
      "INFO: Overridden settings: {'LOG_LEVEL': 30}\n"
     ]
    },
    {
     "data": {
      "text/plain": [
       "<Deferred at 0x1107782b0>"
      ]
     },
     "execution_count": 4,
     "metadata": {},
     "output_type": "execute_result"
    },
    {
     "name": "stdout",
     "output_type": "stream",
     "text": [
      "https://www.ptt.cc/bbs/Beauty/M.1522116508.A.293.html\n",
      "https://www.ptt.cc/bbs/Beauty/M.1443906121.A.65B.html\n",
      "https://www.ptt.cc/bbs/Beauty/M.1423752558.A.849.html\n",
      "https://www.ptt.cc/bbs/Beauty/M.1430099938.A.3B7.html\n",
      "https://www.ptt.cc/bbs/Beauty/M.1507213965.A.0C7.html\n",
      "https://www.ptt.cc/bbs/Beauty/M.1476111251.A.C20.html\n"
     ]
    }
   ],
   "source": [
    "\n",
    "configure_logging({'LOG_FORMAT': '%(levelname)s: %(message)s'})\n",
    "runner = CrawlerRunner()\n",
    "\n",
    "d = runner.crawl(PTTSpider)\n",
    "# Stop after executing\n",
    "d.addBoth(lambda _: reactor.stop())\n",
    "reactor.run() # the script will block here until the crawling is finished"
   ]
  },
  {
   "cell_type": "markdown",
   "metadata": {},
   "source": [
    "For preventing getting so much useless info from the shell, we could set log level in our spider\n",
    "```\n",
    " custom_settings = {\n",
    "        'LOG_LEVEL': logging.WARNING,               \n",
    " }\n",
    "```\n",
    "Sometimes, some discussion are requires people who is over 18 based on Taiwan's rule, so the response asks\n",
    "users to click yes if they are over 18. Since we are scrapying and don't want to be blocked by this page, we could send response back by code.\n",
    "1. Check whether this page exists or not\n",
    "   > This info always in the div tag with class name \"over18-notice\"\n",
    "   > There are two ways to find specific tag in scrapy\n",
    "   >> 1. xpath\n",
    "   >>> we could use response.xpath('//tag[@class=\"xxx\"]/child/..) to surf the DOM structure\n",
    "   >> 2. css\n",
    "   >>> we could use response.css('tag.classname>child tag::attr(attr_type)) to surf the DOM stucture\n",
    "   >> the above mentioned function will return the SelectorList instance, which is a list of new selectors\n",
    "2. Send yes back\n",
    "   > We can achieve this by \"yield\" keyword and send q request back\n",
    "   ```\n",
    "       yield FormRequest.from_response(response,\n",
    "                                       formdata={'yes': 'yes'},\n",
    "                                       callback=self.parse)\n",
    "   ```\n",
    "   > The call back function means after we send the answer of the response page and get the new response, it will go\n",
    "   > back to the \"parse\" function, \"FormRequest.from_response\" means we will generate a request based on the response \n",
    "   > page\n"
   ]
  },
  {
   "cell_type": "code",
   "execution_count": 3,
   "metadata": {
    "collapsed": true
   },
   "outputs": [],
   "source": [
    "import logging\n",
    "class PTTSpider(scrapy.Spider):\n",
    "    name = 'ptt'\n",
    "    allowed_domains = ['ptt.cc']\n",
    "    start_urls = ('https://www.ptt.cc/bbs/Beauty/index.html', )\n",
    "    custom_settings = {\n",
    "        'LOG_LEVEL': logging.WARNING,              \n",
    "    }\n",
    "\n",
    "    MAX_RETRY = 1\n",
    "    retries = 0\n",
    "\n",
    "    MAX_PAGES = 1\n",
    "    pages = 0\n",
    "\n",
    "    def parse(self, response):\n",
    "        # div, which owns class names \"over18-notice\"\n",
    "        if len(response.xpath('//div[@class = \"over18-notice\"]')) > 0:\n",
    "            if self.retries < PTTSpider.MAX_RETRY:\n",
    "                self.retries += 1\n",
    "                logging.warning('retry {} times...'.format(self.retries))\n",
    "                # Give response back to ptt\n",
    "                yield FormRequest.from_response(response,\n",
    "                                                formdata={'yes': 'yes'},\n",
    "                                                callback=self.parse)\n",
    "            else:\n",
    "                logging.warning('website is unreachable')\n",
    "\n",
    "        else:\n",
    "            self.pages += 1\n",
    "            # response xpath return selector list\n",
    "            for href in response.xpath('//div[@class=\"r-ent\"]//div[@class=\"title\"]/a/@href'):\n",
    "                # reconstruct url\n",
    "                url = response.urljoin(href.extract())\n",
    "                print(href.extract(), url)\n",
    "                yield scrapy.Request(url, callback=self.parse_post)\n",
    "\n",
    "            if self.pages < PTTSpider.MAX_PAGES:\n",
    "                # heprlink contains thte text names \"上頁\", 上頁 means the next page\n",
    "                next_page = response.xpath('//div[@id=\"action-bar-container\"]//a[contains(text(), \"上頁\")]/@href')\n",
    "                if next_page:\n",
    "                    url = response.urljoin(next_page[0].extract())\n",
    "                    logging.warning('follow {}'.format(url))\n",
    "                    yield scrapy.Request(url, self.parse)\n",
    "                else:\n",
    "                    logging.warning('There is no next page')\n",
    "            else:\n",
    "                logging.warning('max pages reached')\n",
    "                print(\"End!!!!!\")\n",
    "                \n",
    "    def parse_post(self, resoinse):\n",
    "        print(\"A new post\")"
   ]
  },
  {
   "cell_type": "code",
   "execution_count": 4,
   "metadata": {},
   "outputs": [
    {
     "name": "stderr",
     "output_type": "stream",
     "text": [
      "INFO: Overridden settings: {'LOG_LEVEL': 30}\n"
     ]
    },
    {
     "data": {
      "text/plain": [
       "<Deferred at 0x107390208>"
      ]
     },
     "execution_count": 4,
     "metadata": {},
     "output_type": "execute_result"
    },
    {
     "name": "stderr",
     "output_type": "stream",
     "text": [
      "2018-03-26 20:32:40 [root] WARNING: max pages reached\n"
     ]
    },
    {
     "name": "stdout",
     "output_type": "stream",
     "text": [
      "/bbs/Beauty/M.1522116508.A.293.html https://www.ptt.cc/bbs/Beauty/M.1522116508.A.293.html\n",
      "/bbs/Beauty/M.1522118718.A.396.html https://www.ptt.cc/bbs/Beauty/M.1522118718.A.396.html\n",
      "/bbs/Beauty/M.1522119728.A.9EF.html https://www.ptt.cc/bbs/Beauty/M.1522119728.A.9EF.html\n",
      "/bbs/Beauty/M.1522120118.A.C69.html https://www.ptt.cc/bbs/Beauty/M.1522120118.A.C69.html\n",
      "/bbs/Beauty/M.1443906121.A.65B.html https://www.ptt.cc/bbs/Beauty/M.1443906121.A.65B.html\n",
      "/bbs/Beauty/M.1423752558.A.849.html https://www.ptt.cc/bbs/Beauty/M.1423752558.A.849.html\n",
      "/bbs/Beauty/M.1430099938.A.3B7.html https://www.ptt.cc/bbs/Beauty/M.1430099938.A.3B7.html\n",
      "/bbs/Beauty/M.1507213965.A.0C7.html https://www.ptt.cc/bbs/Beauty/M.1507213965.A.0C7.html\n",
      "/bbs/Beauty/M.1476111251.A.C20.html https://www.ptt.cc/bbs/Beauty/M.1476111251.A.C20.html\n",
      "End!!!!!\n",
      "A new post\n",
      "A new post\n",
      "A new post\n",
      "A new post\n",
      "A new post\n",
      "A new post\n",
      "A new post\n",
      "A new post\n",
      "A new post\n"
     ]
    }
   ],
   "source": [
    "\n",
    "configure_logging({'LOG_FORMAT': '%(levelname)s: %(message)s'})\n",
    "runner = CrawlerRunner()\n",
    "\n",
    "d = runner.crawl(PTTSpider)\n",
    "# Stop after executing\n",
    "d.addBoth(lambda _: reactor.stop())\n",
    "reactor.run() # the script will block here until the crawling is finished"
   ]
  },
  {
   "cell_type": "markdown",
   "metadata": {},
   "source": [
    "In the above code, we use\n",
    "```\n",
    "   for href in response.css('.r-ent > div.title > a::attr(href)'):\n",
    "```\n",
    "to get every post in this page, then we can start to extract info in this post by the customer-made parse function\n",
    "```\n",
    "  yield scrapy.Request(url, callback=self.parse_post)\n",
    "```\n",
    "the url is the link to this post and the callback means the response will be catched by this function\n",
    "We can self-define the max_pages we want to scrape and use for loop to collect all the content we want"
   ]
  },
  {
   "cell_type": "markdown",
   "metadata": {},
   "source": [
    "The above mentioned code can help us retrieve the posts in PTT, and users can decide what they want to keep in their parse_post functions, what I am doing is keep all the images, comments(including like and dislike), title, date, and authors of every post for futher analyzing. I store the data of every post in json by specifying in the custome_setting\n",
    "```\n",
    " custom_settings = {\n",
    "        'LOG_LEVEL': logging.WARNING,\n",
    "        'FEED_FORMAT':'json',                                \n",
    "        'FEED_URI': 'image.json'                  \n",
    " }\n",
    "```"
   ]
  },
  {
   "cell_type": "markdown",
   "metadata": {},
   "source": [
    "## Analyze the data\n",
    "After owning the data of every post, we can do some basic analysis and visualization via using the combination of different fields, so we need to load the data first"
   ]
  },
  {
   "cell_type": "code",
   "execution_count": 6,
   "metadata": {},
   "outputs": [],
   "source": [
    "import json\n",
    "\n",
    "path = 'beauty.json'\n",
    "\n",
    "with open(path) as f:\n",
    "    posts = json.load(f)"
   ]
  },
  {
   "cell_type": "markdown",
   "metadata": {},
   "source": [
    "### Pre-processing the data\n",
    "Before we do the analysis, we need to store the required data into desired data structure for data visualization\n",
    "> For the simplest one, we could see the distribution of pictures in each post"
   ]
  },
  {
   "cell_type": "code",
   "execution_count": 12,
   "metadata": {
    "collapsed": true
   },
   "outputs": [],
   "source": [
    "lst = []\n",
    "for post in posts:\n",
    "    # There are some empty post if I found that's the announcement which is used to clarify the regulation of this forum\n",
    "    if len(post) != 0:\n",
    "        num_pict = len(post['img'])\n",
    "        lst.append(num_pict)"
   ]
  },
  {
   "cell_type": "code",
   "execution_count": 13,
   "metadata": {},
   "outputs": [
    {
     "data": {
      "text/plain": [
       "(array([ 5.,  2.,  3.,  4.,  2.,  1.,  0.,  2.,  1.,  2.]),\n",
       " array([  0. ,   2.7,   5.4,   8.1,  10.8,  13.5,  16.2,  18.9,  21.6,\n",
       "         24.3,  27. ]),\n",
       " <a list of 10 Patch objects>)"
      ]
     },
     "execution_count": 13,
     "metadata": {},
     "output_type": "execute_result"
    },
    {
     "data": {
      "text/plain": [
       "Text(0.5,1,'Total number of post is:27')"
      ]
     },
     "execution_count": 13,
     "metadata": {},
     "output_type": "execute_result"
    },
    {
     "data": {
      "text/plain": [
       "Text(0.5,0,'Number of images')"
      ]
     },
     "execution_count": 13,
     "metadata": {},
     "output_type": "execute_result"
    },
    {
     "data": {
      "text/plain": [
       "Text(0,0.5,'Number of post')"
      ]
     },
     "execution_count": 13,
     "metadata": {},
     "output_type": "execute_result"
    },
    {
     "data": {
      "image/png": "[encoded data removed]",
      "text/plain": [
       "<matplotlib.figure.Figure at 0x10bf57898>"
      ]
     },
     "metadata": {},
     "output_type": "display_data"
    }
   ],
   "source": [
    "import matplotlib.pyplot as plt\n",
    "\n",
    "plt.hist(lst)\n",
    "title = \"Total number of post is:\" + str(len(posts))\n",
    "plt.title(title)\n",
    "plt.xlabel(\"Number of images\")\n",
    "plt.ylabel(\"Number of post\")\n",
    "plt.show()"
   ]
  },
  {
   "cell_type": "markdown",
   "metadata": {},
   "source": [
    "We can found that most of the post are with less than 10 images<br>\n",
    "We also can show the average like for different numbers of images in one post<br>\n",
    "x axis means the number of pictures in one post, y means the average likes for post with certain numbers of images"
   ]
  },
  {
   "cell_type": "code",
   "execution_count": 9,
   "metadata": {
    "collapsed": true
   },
   "outputs": [],
   "source": [
    "from collections import OrderedDict\n",
    "lst = []\n",
    "pict_num = {}\n",
    "for post in posts:\n",
    "    if len(post) != 0:\n",
    "        num_pict = len(post['img'])\n",
    "        val = pict_num.get(num_pict, [0, 0])\n",
    "        val[0] += 1\n",
    "        val[1] += post['score']\n",
    "        pict_num[num_pict] = val\n",
    "        lst.append(num_pict)\n",
    "sortdict = OrderedDict(sorted(pict_num.items()))\n",
    "x_label = []\n",
    "y_label = []\n",
    "for key, val in sortdict.items():\n",
    "    y_label.append(val[1] / val[0])\n",
    "    x_label.append(key)"
   ]
  },
  {
   "cell_type": "code",
   "execution_count": 10,
   "metadata": {},
   "outputs": [
    {
     "data": {
      "text/plain": [
       "Text(0.5,1,'Average score for different number of images')"
      ]
     },
     "execution_count": 10,
     "metadata": {},
     "output_type": "execute_result"
    },
    {
     "data": {
      "text/plain": [
       "Text(0.5,0,'Number of image in one post')"
      ]
     },
     "execution_count": 10,
     "metadata": {},
     "output_type": "execute_result"
    },
    {
     "data": {
      "text/plain": [
       "Text(0,0.5,'Average score')"
      ]
     },
     "execution_count": 10,
     "metadata": {},
     "output_type": "execute_result"
    },
    {
     "data": {
      "text/plain": [
       "[<matplotlib.lines.Line2D at 0x10ae5e668>]"
      ]
     },
     "execution_count": 10,
     "metadata": {},
     "output_type": "execute_result"
    },
    {
     "data": {
      "image/png": "[encoded data removed]",
      "text/plain": [
       "<matplotlib.figure.Figure at 0x10ada1eb8>"
      ]
     },
     "metadata": {},
     "output_type": "display_data"
    }
   ],
   "source": [
    "plt.title(\"Average score for different number of images\")\n",
    "plt.xlabel(\"Number of image in one post\")\n",
    "plt.ylabel(\"Average score\")\n",
    "plt.plot(x_label, y_label)\n",
    "plt.show()"
   ]
  },
  {
   "cell_type": "markdown",
   "metadata": {},
   "source": [
    "We didn't find specific rule from this graph, but can find that the post with 20 images has the highest average likes \n",
    "I think it's because the likes of each post depends on the level of beauty of images."
   ]
  },
  {
   "cell_type": "markdown",
   "metadata": {},
   "source": [
    "Since we have every comment of every post including the contnet of this comment, user id and like or not, so we could do the statistic to ovserve the trend of people who comment most. Therefore, we can find this person prefers \"like\" more than \"unlike\". In fact, users can also take \"neutral\" other than \"like\" or \"dislike\", we can use a constant to filter out people who comments less than this number"
   ]
  },
  {
   "cell_type": "code",
   "execution_count": 13,
   "metadata": {
    "collapsed": true
   },
   "outputs": [],
   "source": [
    "MOST_COMMENTS_USER = 100"
   ]
  },
  {
   "cell_type": "code",
   "execution_count": 14,
   "metadata": {
    "collapsed": true
   },
   "outputs": [],
   "source": [
    "# Total comments = total like + total dislike + total neutral\n",
    "total_comments = {}\n",
    "total_like = {}\n",
    "total_dislike = {}\n",
    "total_neutral = {} \n",
    "\n",
    "for post in posts:\n",
    "    if len(post) != 0:\n",
    "        for comment in post['comments']:\n",
    "            total_comments[comment['user']] = total_comments.get(comment['user'], 0) + 1\n",
    "            if comment['score'] == 0:\n",
    "                total_neutral[comment['user']] = total_neutral.get(comment['user'], 0) + 1\n",
    "            else:\n",
    "                if comment['score'] == 1:\n",
    "                    total_like[comment['user']] = total_like.get(comment['user'], 0) + 1\n",
    "                elif comment['score'] == -1: \n",
    "                    total_dislike[comment['user']] = total_dislike.get(comment['user'], 0) + 1\n",
    "                    \n",
    "\n",
    "sorted_comments = sorted(total_comments.items(), key=lambda x:-x[1])[:MOST_COMMENTS_USER]"
   ]
  },
  {
   "cell_type": "code",
   "execution_count": 21,
   "metadata": {
    "collapsed": true
   },
   "outputs": [],
   "source": [
    "def show_comment_distr(total, like, dislike, neutral):\n",
    "    y_total = [num[1] for num in total]\n",
    "    names = [num[0] for num in total]\n",
    "    y_like = [0] * MOST_COMMENTS_USER\n",
    "    y_dislike = [0] * MOST_COMMENTS_USER\n",
    "    y_neutral = [0] * MOST_COMMENTS_USER\n",
    "    x = range(len(y_total))\n",
    "    for idx in range(len(total)):\n",
    "        if (total[idx][0] in like):\n",
    "            y_like[idx] = like[total[idx][0]]\n",
    "        if (total[idx][0] in dislike):\n",
    "            y_dislike[idx] = dislike[total[idx][0]]\n",
    "        if (total[idx][0] in neutral):\n",
    "            y_neutral[idx] = neutral[total[idx][0]]\n",
    "    f, ax = plt.subplots(figsize=(12, 8))\n",
    "    ax.set(ylabel='counts',xlabel='',title='Total comments')\n",
    "    ax.set_xticklabels(names, rotation= 45, fontsize = 12)\n",
    "    plt.plot(x, y_total, label = 'Total comments', color='black')\n",
    "    plt.plot(x, y_like, label = 'Total like', color='blue')\n",
    "    plt.plot(x, y_dislike, label = 'Total dislike', color='red')\n",
    "    plt.plot(x, y_neutral, label = 'Total neutral', color='green')\n",
    "    ax.legend(ncol=2, loc='upper right', frameon=True)\n",
    "    plt.show(f)"
   ]
  },
  {
   "cell_type": "code",
   "execution_count": 22,
   "metadata": {},
   "outputs": [
    {
     "name": "stdout",
     "output_type": "stream",
     "text": [
      "['kai6366', 'lovegogi', 'tpwin7', 'yoyonigo', 'OCG5566', 'mgochen', 'yuigood', 'belucky', 'andy199113', 'babyMclaren', 'so1518si', 'chenyenpo', 'pase139', 'NeGe56', 'PompelmousJ', 'gordon185', 'johnwu', 'Renting11', 'Geoffrey314', 'danny0108', 'socialhero', 'zxnstu3104', 'whitedull01', 'William0703', 'CY40', 'htc10', 'RG5678', 'morgen', 'adgbw8728', 'n61208', 'amare1015', 'cityhunter04', 'gen001', 'hatsuha', 'whatupjk', 'chen44', 'OGCer', 'inoce', 'coco100', 'yaehsin', 'Krishna', 'noname78531', 'chen0604z', 'hatephubbing', 'lsj049', 'qzwxecrv55', 'hat13201', 'sure0219', 'greyrose7', 'kathyfour', 'smalltalker', 'antiwow', 'EQUP', 'abellea85209', 'hamjji', 'telescopy', 'sheep0121', 'xetherz3', 'smonke', 'firemm666', 'kenslc199', 'DareJ', 'Refauth', 'Foreignline', 'yfguk6685', 'Boboinlyz', 'bh0925', 'lester36', 'trtc', 'W980', 'WASIJLA', 'nojydia', 'lck0', 'CHANYII', 'howard24', 'allen2134', 'Lisanity', 'lindada78', 'GGrunrundela', 'EEERRIICC', 'yitingted', 'joker00507', 'AlohaVC', 'michael0419', 's25689teven', 'a963', 'wl01949519', 'ga502020', 's0920142', 'furnaceh', 'unavoidable', 'sing60905', 'jou0129', 'aaaa8247', 'austintsou', 'racage', 'tysone', 'happyzoom', 'ivan22809', 'benny70104']\n"
     ]
    },
    {
     "data": {
      "image/png": "[encoded data removed]",
      "text/plain": [
       "<matplotlib.figure.Figure at 0x10b72abe0>"
      ]
     },
     "metadata": {},
     "output_type": "display_data"
    }
   ],
   "source": [
    "show_comment_distr(sorted_comments, total_like, total_dislike, total_neutral)"
   ]
  },
  {
   "cell_type": "markdown",
   "metadata": {},
   "source": [
    "We can easily check the numbers of like ,dislike and neutral for the people who comments more."
   ]
  },
  {
   "cell_type": "markdown",
   "metadata": {},
   "source": [
    "Extract the image content\n",
    "----------------------------\n",
    "Sometimes we just want to review the image that most people like and don't care about the comment of users, we can just simply filter out the post with low scores, for example, we could extract the images of post with score over 30/40/50, so we will not review the images which may be not the \"real\" beauties."
   ]
  },
  {
   "cell_type": "code",
   "execution_count": 8,
   "metadata": {},
   "outputs": [],
   "source": [
    "threshold = 30\n",
    "lst = []\n",
    "for post in posts:\n",
    "    if len(post) != 0:\n",
    "        if (post['score'] >= threshold):\n",
    "            dict = {}\n",
    "            dict['score'] = post['score']\n",
    "            dict['img'] = post['img']\n",
    "            lst.append(dict)"
   ]
  },
  {
   "cell_type": "code",
   "execution_count": 10,
   "metadata": {},
   "outputs": [
    {
     "name": "stdout",
     "output_type": "stream",
     "text": [
      "{'score': 115, 'img': ['http://www.facebook.com/PTTBeauty']}\n",
      "{'score': 50, 'img': ['https://i.imgur.com/ZHjUSY4.jpg', 'https://i.imgur.com/iWEOn2J.jpg', 'https://i.imgur.com/1NeR81Y.jpg', 'https://i.imgur.com/vrOoFQl.jpg', 'https://i.imgur.com/Koabht5.jpg', 'https://i.imgur.com/FPmS55u.jpg', 'https://i.imgur.com/nsS5jhu.jpg', 'https://i.imgur.com/uIqIchT.jpg', 'https://i.imgur.com/Yfa43fW.jpg']}\n",
      "{'score': 221, 'img': []}\n",
      "{'score': 86, 'img': ['https://i.imgur.com/V95XOpF.jpg', 'https://i.imgur.com/XTs02c3.jpg', 'https://i.imgur.com/WmMdTPj.jpg', 'https://i.imgur.com/DSkJr0j.jpg', 'https://i.imgur.com/iV7wMPM.jpg', 'https://i.imgur.com/eJu3SQg.jpg', 'https://i.imgur.com/O6sj77t.jpg', 'https://i.imgur.com/tW1Yrhx.jpg', 'https://i.imgur.com/PJruz3w.jpg', 'https://i.imgur.com/ch8CCJA.jpg', 'https://i.imgur.com/T5rlMti.jpg', 'https://i.imgur.com/BJjHBj2.jpg']}\n",
      "{'score': 330, 'img': ['#1NmIhY88']}\n",
      "{'score': 77, 'img': ['https://imgur.com/PPrl3U9.jpg', 'https://imgur.com/dk1XUu3.jpg', 'https://imgur.com/d4UeTyI.jpg', 'https://imgur.com/aQTdq3W.jpg', 'https://imgur.com/jARajjH.jpg', 'https://imgur.com/3IYZPTw.jpg', 'https://imgur.com/jkzJwbe.jpg', 'https://imgur.com/uux7wXi.jpg']}\n",
      "{'score': 66, 'img': ['https://i.imgur.com/7FUsawk.jpg', 'https://i.imgur.com/7HLaOla.jpg', 'https://i.imgur.com/Ed7DRkG.jpg', 'https://i.imgur.com/2mpAVTL.jpg', 'https://i.imgur.com/MCPzPVd.jpg', 'https://i.imgur.com/wP7q4Bu.jpg', 'https://i.imgur.com/FC4pFFD.jpg', 'https://i.imgur.com/nXb6mya.jpg', 'https://i.imgur.com/2I79xYb.jpg', 'https://i.imgur.com/5zEUDVv.jpg', 'https://i.imgur.com/lg6T52e.jpg', 'https://i.imgur.com/Kz05WG8.jpg', 'https://i.imgur.com/72xVimx.jpg', 'https://i.imgur.com/1M6gznt.jpg', 'https://i.imgur.com/0BRegV0.jpg', 'https://i.imgur.com/gL0cuSF.jpg', 'https://i.imgur.com/OZz1jHJ.jpg', 'https://i.imgur.com/NOMD3to.jpg', 'https://i.imgur.com/EmmR8iu.jpg', 'http://www.facebook.com/PTTBeauty']}\n",
      "{'score': 111, 'img': ['https://imgur.com/aTHqjes.jpg', 'https://imgur.com/QRVPhgK.jpg', 'https://imgur.com/D1K7Z8N.jpg', 'https://imgur.com/Geaznvf.jpg', 'https://imgur.com/b8frAw5.jpg', 'https://imgur.com/ZJnsfkv.jpg', 'https://imgur.com/ER3aFQw.jpg', 'https://imgur.com/Cu2BAyw.jpg', 'https://imgur.com/OfDl6uT.jpg', 'https://www.instagram.com/rubyeezyyy/']}\n",
      "{'score': 81, 'img': ['https://i.imgur.com/USAr5DU.jpg', 'https://i.imgur.com/7pO9q58.jpg', 'https://i.imgur.com/xFa5QZ4.jpg', 'https://i.imgur.com/lnrjk3l.jpg', 'https://i.imgur.com/rrSvggy.jpg', 'https://i.imgur.com/l6QZpMV.jpg', 'https://i.imgur.com/hih14VG.jpg', 'https://i.imgur.com/2cOIgiO.jpg', 'https://i.imgur.com/9XSs1aq.jpg', 'https://i.imgur.com/O0Df7IT.jpg']}\n",
      "{'score': 43, 'img': ['https://i.imgur.com/kYMCWY1.png', 'https://i.imgur.com/wUK5JFC.jpg', 'https://i.imgur.com/4xbkqSR.jpg', 'https://i.imgur.com/07hpbfu.jpg', 'https://i.imgur.com/a0kuFGK.jpg', 'https://i.imgur.com/O1sSJFj.jpg', 'https://i.imgur.com/qFbxEzF.jpg', 'https://i.imgur.com/Qe2vIOs.jpg', 'https://i.imgur.com/YML5F2G.jpg', 'https://i.imgur.com/yyhCo7x.jpg', 'https://i.imgur.com/fK376Zk.jpg', 'https://i.imgur.com/l59SuDw.jpg']}\n",
      "{'score': 38, 'img': ['https://i.imgur.com/kgAfXnc.jpg']}\n",
      "{'score': 45, 'img': ['https://i.imgur.com/rhxUkTI.jpg', 'https://i.imgur.com/riYTy3u.jpg', 'https://i.imgur.com/2tF2bWh.jpg', 'https://i.imgur.com/5LVA8GY.jpg', 'https://i.imgur.com/2LpjRUM.jpg', 'https://i.imgur.com/BVDwwyi.jpg', 'https://i.imgur.com/oxAKepX.jpg', 'https://i.imgur.com/94aslRK.jpg', 'https://i.imgur.com/l7xgEfq.jpg']}\n",
      "{'score': 33, 'img': ['https://i.imgur.com/sEZhnP4.jpg', 'https://i.imgur.com/X7ZXtmX.jpg', 'https://i.imgur.com/eBN2oCu.jpg', 'https://i.imgur.com/u5lQOlu.jpg', 'https://i.imgur.com/nPRwzNy.jpg', 'https://i.imgur.com/B52nUaQ.jpg', 'https://i.imgur.com/cFenGNb.jpg', 'https://i.imgur.com/ejjuF7T.jpg', 'https://i.imgur.com/Zm0VYyc.jpg', 'https://i.imgur.com/UC1WL1t.jpg', 'https://i.imgur.com/mU4EL6L.jpg', 'https://i.imgur.com/s3tbGGA.jpg', 'https://i.imgur.com/OQFdx1W.jpg', 'https://i.imgur.com/LcjJ0B2.jpg', 'https://i.imgur.com/bN7qHKq.jpg', 'https://i.imgur.com/nQE3q5n.jpg', 'https://i.imgur.com/lTlqJQ4.jpg', 'https://i.imgur.com/0Xkouyg.jpg', 'https://i.imgur.com/OU8bmoQ.jpg', 'https://i.imgur.com/rxedyKi.jpg', 'https://i.imgur.com/9SCSGW9.jpg', 'https://i.imgur.com/6zWDFLt.jpg']}\n",
      "{'score': 56, 'img': ['https://i.imgur.com/eMMt0ZV.jpg', 'https://i.imgur.com/Sp5yOVH.jpg', 'https://i.imgur.com/JPu7xeP.jpg', 'https://i.imgur.com/WGX63zZ.jpg', 'https://i.imgur.com/6bmK4mV.jpg', 'https://i.imgur.com/QKotzbw.jpg', 'https://i.imgur.com/IB12Nv3.jpg', 'https://i.imgur.com/VIKNXO7.jpg', 'https://i.imgur.com/l1a1mOu.jpg', 'https://i.imgur.com/yX1XNZf.jpg', 'https://i.imgur.com/S5tF8rr.jpg', 'https://i.imgur.com/T4ZfGEu.jpg', 'https://i.imgur.com/IfPvnRg.jpg', 'https://i.imgur.com/rlSKCTG.jpg', 'https://i.imgur.com/KeYqKBN.jpg', 'https://i.imgur.com/jHywxvQ.jpg', 'https://i.imgur.com/4K8gH88.jpg', 'https://i.imgur.com/6Pg0zzR.jpg', 'https://i.imgur.com/cAA9CLu.jpg']}\n",
      "{'score': 157, 'img': ['https://i.imgur.com/NOns0OS.jpg', 'https://i.imgur.com/jfqAiWZ.jpg', 'https://i.imgur.com/l1mCO4d.jpg', 'https://i.imgur.com/bU21IgQ.jpg', 'https://i.imgur.com/guQHi2j.jpg', 'https://i.imgur.com/Kr4xIbA.jpg', 'https://i.imgur.com/qL3sCY4.jpg', 'https://i.imgur.com/fxDvUJT.jpg', 'https://i.imgur.com/YIXvHSZ.jpg', 'https://i.imgur.com/7yWWd2T.jpg']}\n",
      "{'score': 35, 'img': ['https://imgur.com/PQ0A6h8.jpg', 'https://imgur.com/655EoIT.jpg', 'https://imgur.com/5OTUwEl.jpg', 'https://imgur.com/cVbI7zk.jpg', 'https://imgur.com/qGD4Afo.jpg']}\n",
      "{'score': 45, 'img': ['https://i.imgur.com/DEcTdWM.jpg', 'https://i.imgur.com/QAXeU48.jpg', 'https://i.imgur.com/cxQL2er.jpg', 'https://i.imgur.com/mDntXoU.jpg', 'https://i.imgur.com/2919HnB.jpg', 'https://i.imgur.com/dgrKomI.jpg', 'https://i.imgur.com/wsnMcuA.jpg', 'https://i.imgur.com/qtYlkaH.jpg', 'https://i.imgur.com/6Zf3RDA.jpg', 'https://i.imgur.com/T183Kq3.jpg']}\n",
      "{'score': 90, 'img': ['https://imgur.com/O0SG3dg.jpg', 'https://imgur.com/4CU86PB.jpg', 'https://imgur.com/n0d8NbW.jpg', 'https://imgur.com/FKSDY7K.jpg', 'https://imgur.com/PFkgGZD.jpg', 'https://imgur.com/Wky7gS1.jpg', 'https://imgur.com/MaoILD4.jpg', 'https://imgur.com/xxlRPx2.jpg', 'https://imgur.com/3IXEZeA.jpg', 'https://imgur.com/D0o5bh5.jpg', 'https://imgur.com/ZD99idh.jpg', 'https://imgur.com/iSA0w6S.jpg', 'https://imgur.com/8HPo7RC.jpg', 'https://imgur.com/kynfZXj.jpg', 'https://imgur.com/qZH9oqc.jpg', 'https://imgur.com/fVuWHER.jpg', 'https://imgur.com/FdXcVSF.jpg', 'https://imgur.com/GDU9pk5.jpg', 'https://imgur.com/Tny0J6c.jpg', 'https://imgur.com/ukJAyxR.jpg', 'https://imgur.com/7HR9Op9.jpg', 'https://imgur.com/hJxa2tJ.jpg', 'https://imgur.com/sJe88bU.jpg', 'https://imgur.com/FLxqHX5.jpg', 'https://imgur.com/GHGIbfk.jpg', 'https://imgur.com/NPUDUGO.jpg', 'https://imgur.com/DRPM6WX.jpg', 'https://imgur.com/u8SMKic.jpg', 'https://imgur.com/HbOql2o.jpg', 'https://imgur.com/TDaAraV.jpg', 'https://imgur.com/DKn8bli.jpg', 'https://imgur.com/Ex63Z8C.jpg', 'https://imgur.com/gSWEVtl.jpg', 'https://imgur.com/RiYgHIY.jpg', 'https://imgur.com/hdy6rKQ.jpg', 'https://imgur.com/0LSfkH4.jpg', 'https://imgur.com/5XybON3.jpg', 'https://imgur.com/HzXlw35.jpg', 'https://imgur.com/Z52kHx9.jpg', 'https://imgur.com/9jPPyhj.jpg', 'https://imgur.com/cjMTGDa.jpg', 'https://imgur.com/AKcfleF.jpg', 'https://imgur.com/CnPbSCt.jpg', 'https://imgur.com/nOZ98rG.jpg', 'https://imgur.com/fNAZS1W.jpg', 'https://imgur.com/jY4Ecn2.jpg', 'https://imgur.com/rUMmDGd.jpg', 'https://imgur.com/ehGZEjo.jpg', 'https://imgur.com/1vmB91r.jpg', 'https://imgur.com/GOBkLBW.jpg', 'https://imgur.com/EZiUPYk.jpg', 'https://imgur.com/VVegXyk.jpg', 'https://imgur.com/zunvjXx.jpg', 'https://imgur.com/2HZBBQM.jpg', 'https://imgur.com/QI1IH3x.jpg', 'https://imgur.com/04BJYyv.jpg', 'https://imgur.com/gkkxRxb.jpg', 'https://imgur.com/VLa8ZAT.jpg', 'https://imgur.com/TgDYP7J.jpg']}\n",
      "{'score': 151, 'img': ['http://i.imgur.com/DPEP1a5.jpg', 'http://i.imgur.com/8S2lMt6.jpg', 'http://i.imgur.com/47WNoBt.jpg', 'http://i.imgur.com/cEe36Dm.jpg', 'http://i.imgur.com/YdSa90d.jpg', 'http://i.imgur.com/fkZx4k6.jpg', 'http://i.imgur.com/jG9UURm.jpg', 'http://i.imgur.com/RgslW0F.jpg', 'http://i.imgur.com/8NMiP2z.jpg', 'http://i.imgur.com/k2bjq5u.jpg', 'http://i.imgur.com/0D5bgIX.jpg', 'http://i.imgur.com/aYY9mNH.jpg', 'http://i.imgur.com/ZSsPjVZ.jpg']}\n",
      "{'score': 67, 'img': ['https://i.imgur.com/jNAZZCT.jpg']}\n",
      "{'score': 85, 'img': ['https://i.imgur.com/t4ipBYY.jpg', 'https://i.imgur.com/LLTFmR8.jpg', 'https://i.imgur.com/uW7yHFI.jpg', 'https://i.imgur.com/q0jJFTC.jpg', 'https://i.imgur.com/sZFJ71x.jpg']}\n",
      "{'score': 45, 'img': ['https://i.imgur.com/44Rats9.jpg', 'https://i.imgur.com/QhmV0me.jpg', 'https://i.imgur.com/U3XbzmJ.jpg', 'https://i.imgur.com/PBybWE1.jpg', 'https://i.imgur.com/z6iqqxv.jpg', 'https://i.imgur.com/e6I8WVf.jpg', 'https://i.imgur.com/ScwbNtA.jpg', 'https://i.imgur.com/e8AKzpW.jpg', 'https://i.imgur.com/alNk0h0.jpg', 'https://i.imgur.com/k1n8VXr.jpg', 'https://i.imgur.com/GzJ4zGl.jpg', 'https://i.imgur.com/BPbeuv4.jpg', 'https://i.imgur.com/NYvOrnf.jpg', 'https://i.imgur.com/qbw9Fwu.jpg', 'https://i.imgur.com/iGjV7UK.jpg', 'https://i.imgur.com/4R3BiqL.jpg', 'https://i.imgur.com/n5ZxkIL.jpg', 'https://i.imgur.com/Lw6bX75.jpg', 'https://i.imgur.com/54PJvIi.jpg', 'https://i.imgur.com/vxmdc0u.jpg', 'https://i.imgur.com/pc4UE4Y.jpg', 'https://i.imgur.com/B8t8ZJR.jpg', 'https://i.imgur.com/FGLUSpD.jpg', 'https://i.imgur.com/fQslGwd.jpg', 'https://i.imgur.com/cFOgzw5.jpg', 'https://i.imgur.com/xatcp28.jpg', 'https://i.imgur.com/KPmNeKG.jpg', 'https://i.imgur.com/g9SKeYg.jpg', 'https://i.imgur.com/8dhmZmL.jpg', 'https://i.imgur.com/DpMnS9f.jpg', 'https://i.imgur.com/IGbo2v3.jpg', 'https://i.imgur.com/bFNmAd3.jpg', 'https://i.imgur.com/HgxmwHY.jpg', 'https://i.imgur.com/ZVIYRdc.jpg', 'https://i.imgur.com/Bj39Fyw.jpg', 'https://i.imgur.com/2AjUqw7.jpg']}\n",
      "{'score': 308, 'img': ['https://i.imgur.com/aKM684X.jpg', 'https://i.imgur.com/dkzgk14.jpg', 'https://i.imgur.com/dNY3cMW.jpg']}\n",
      "{'score': 68, 'img': ['https://i.imgur.com/HtidwgY.jpg', 'https://i.imgur.com/u4XSCI5.jpg', 'https://i.imgur.com/CgJyF82.jpg', 'https://i.imgur.com/sVI5rJx.jpg', 'https://i.imgur.com/DkicXad.jpg', 'https://i.imgur.com/V5JhOCz.jpg', 'https://i.imgur.com/P8lJCLn.jpg', 'https://i.imgur.com/Q9gmIf2.jpg', 'https://i.imgur.com/5nLlYWr.jpg', 'https://i.imgur.com/cxUxE8i.jpg', 'https://i.imgur.com/vHOdIOX.jpg', 'https://i.imgur.com/SALaHCz.jpg', 'https://i.imgur.com/WesdTPS.jpg', 'https://i.imgur.com/dSL7082.jpg', 'https://i.imgur.com/twEYVvh.jpg', 'https://i.imgur.com/oT7ajZ2.jpg', 'https://i.imgur.com/h1F9H4r.jpg']}\n",
      "{'score': 67, 'img': ['https://i.imgur.com/FkiT5UG.jpg', 'https://i.imgur.com/DMhI0WO.jpg', 'https://i.imgur.com/kyHqXBj.jpg', 'https://tw.appledaily.com/new/realtime/20180326/1322388']}\n",
      "{'score': 37, 'img': ['https://i.imgur.com/58gPqvA.jpg', 'https://i.imgur.com/RMZCYAD.jpg', 'https://i.imgur.com/gRmd9Cp.jpg', 'https://i.imgur.com/dQp3rcu.jpg', 'https://i.imgur.com/I7dTVad.jpg', 'https://i.imgur.com/YXE9oXg.jpg', 'https://i.imgur.com/YY9zJZp.jpg', 'https://i.imgur.com/YD0KHtc.jpg', 'https://i.imgur.com/6u8raK8.jpg', 'https://i.imgur.com/4oK7Sqa.jpg', 'https://i.imgur.com/B02aEXF.jpg', 'https://i.imgur.com/tLZWcDv.jpg', 'https://i.imgur.com/kcHc7Yz.jpg', 'https://i.imgur.com/s0FbuK1.jpg', 'https://i.imgur.com/OsEuvds.jpg', 'https://i.imgur.com/DYp0JRC.jpg', 'https://i.imgur.com/MDMntNd.jpg', 'https://i.imgur.com/KUan9H2.jpg', 'https://i.imgur.com/bvFlUnH.jpg', 'https://i.imgur.com/uVJCHVq.jpg', 'https://i.imgur.com/84UaRMH.jpg', 'https://i.imgur.com/SvnLhok.jpg', 'https://i.imgur.com/9buusUO.jpg', 'https://i.imgur.com/FmwlfLk.jpg', 'https://i.imgur.com/Jax1nk5.jpg']}\n",
      "{'score': 51, 'img': ['https://i.imgur.com/zxzNuRK.jpg', 'https://i.imgur.com/VG3m8uc.jpg', 'https://i.imgur.com/0PsRL8L.jpg', 'https://i.imgur.com/vaC4dia.jpg', 'https://i.imgur.com/WBEWWJL.jpg', 'https://i.imgur.com/36sJqo4.jpg', 'https://i.imgur.com/7vUuh1A.jpg', 'https://i.imgur.com/tn0J6Yz.jpg', 'https://i.imgur.com/Z4SLHBj.jpg', 'https://i.imgur.com/v6KqDYo.jpg', 'https://i.imgur.com/ToTqs4F.jpg', 'https://i.imgur.com/HXT2YmU.jpg', 'https://i.imgur.com/c23VFas.jpg', 'https://i.imgur.com/Bq2wmjd.jpg', 'https://i.imgur.com/M9ouTnX.jpg', 'https://i.imgur.com/Fv8q0YU.jpg', 'https://i.imgur.com/YoAui0T.jpg', 'https://i.imgur.com/QAhtPNv.jpg', 'https://i.imgur.com/7ZS9DIm.jpg', 'https://i.imgur.com/mrRG8c1.jpg', 'https://i.imgur.com/w2s2NyF.jpg', 'https://i.imgur.com/HBJ6PN7.jpg', 'https://i.imgur.com/67MN9Ux.jpg', 'https://i.imgur.com/uBEQ9UZ.jpg', 'https://i.imgur.com/vQMRCvT.jpg', 'https://i.imgur.com/3U6br4D.jpg', 'https://i.imgur.com/Ai8dZAn.jpg', 'https://i.imgur.com/2JRw7ee.jpg', 'https://i.imgur.com/7HObloC.jpg', 'https://i.imgur.com/S0in3kr.jpg', 'https://i.imgur.com/0CABdIX.jpg', 'https://i.imgur.com/sx8qGUE.jpg', 'https://i.imgur.com/e79PQpA.jpg', 'https://i.imgur.com/YOXLxEH.jpg', 'https://i.imgur.com/aIlxtog.jpg', 'https://i.imgur.com/krvIlhB.jpg', 'https://i.imgur.com/dh6FZi2.jpg', 'https://i.imgur.com/gyGH9d5.jpg', 'https://i.imgur.com/EPjIDPT.jpg']}\n",
      "{'score': 179, 'img': ['http://i.imgur.com/Gw2ubl7.jpg', 'http://i.imgur.com/InJj8I9.jpg', 'http://i.imgur.com/6A3vzXY.jpg', 'http://i.imgur.com/qAv4DTC.jpg', 'http://i.imgur.com/R1sNpGl.jpg', 'http://i.imgur.com/0uYC8wX.jpg', 'http://i.imgur.com/YNSCIo8.jpg', 'http://i.imgur.com/x8VW6tt.jpg', 'http://i.imgur.com/5PxIRur.jpg', 'http://i.imgur.com/om0lIPm.jpg', 'https://youtu.be/Sl6ZQxoABSI', 'http://i.imgur.com/f2BKvGz.jpg', 'http://i.imgur.com/we1TiHf.jpg', 'http://i.imgur.com/hgKj0yM.jpg', 'http://i.imgur.com/MKXUnI5.jpg']}\n",
      "{'score': 77, 'img': ['https://i.imgur.com/sGrVoZq.jpg', 'https://i.imgur.com/ssPsTBu.jpg', 'https://i.imgur.com/njKzutn.jpg', 'https://i.imgur.com/qoM6fBx.jpg', 'https://i.imgur.com/BjabG0V.jpg', 'https://i.imgur.com/rzGjOsc.jpg', 'https://i.imgur.com/ThPdjuT.jpg', 'https://i.imgur.com/1icR9Oi.jpg', 'https://i.imgur.com/34faHkD.jpg', 'https://i.imgur.com/TNmLcgi.jpg', 'https://i.imgur.com/Bjpoyve.jpg', 'https://i.imgur.com/LgfP9jB.jpg', 'https://i.imgur.com/Ruhl7tX.jpg', 'https://i.imgur.com/trLZOyv.jpg', 'https://i.imgur.com/GjQmkue.jpg']}\n",
      "{'score': 201, 'img': ['https://youtu.be/BDiApjJ5TuI', 'https://i.imgur.com/TouT5QB.jpg', 'https://i.imgur.com/aUdgfaU.jpg']}\n",
      "{'score': 131, 'img': ['https://i.imgur.com/zfbg68o.jpg', 'https://i.imgur.com/rU6ncL0.jpg', 'https://i.imgur.com/cRTyNvl.jpg', 'https://i.imgur.com/XK70ym5.jpg', 'https://i.imgur.com/UdT11Om.jpg', 'https://i.imgur.com/4Cbiuha.jpg', 'https://i.imgur.com/kw3KzqA.jpg', 'https://i.imgur.com/ITRUiVV.jpg', 'https://i.imgur.com/1jjNHtv.jpg', 'https://i.imgur.com/L33WtpG.jpg', 'https://i.imgur.com/qOdi1dY.jpg', 'https://i.imgur.com/OwK0FuR.jpg', 'https://i.imgur.com/5rp8s5m.jpg', 'https://i.imgur.com/BhGE2Qk.jpg', 'https://i.imgur.com/H3gtirF.jpg', 'https://i.imgur.com/yB2Mczc.jpg', 'https://i.imgur.com/8wvMMMJ.jpg', 'https://i.imgur.com/iFHjZie.jpg', 'https://i.imgur.com/WoHiV2Q.jpg', 'https://i.imgur.com/Ez1iCDO.jpg', 'https://i.imgur.com/jGZG1mY.jpg', 'https://i.imgur.com/WdXS1gD.jpg', 'https://i.imgur.com/SrSIwsB.jpg', 'https://i.imgur.com/NupqxiA.jpg', 'https://i.imgur.com/YHFHvJE.jpg', 'https://i.imgur.com/TbnEtYD.jpg', 'https://i.imgur.com/GtwhqGl.jpg', 'https://i.imgur.com/ziMko7d.jpg', 'https://i.imgur.com/IxuesEY.jpg', 'https://i.imgur.com/bMvzSQB.jpg', 'https://i.imgur.com/luDYPju.jpg', 'https://i.imgur.com/je2vMfJ.jpg', 'https://i.imgur.com/ZVc02IZ.jpg']}\n",
      "{'score': 37, 'img': ['https://imgur.com/zXQd8dt']}\n",
      "{'score': 70, 'img': ['https://i.imgur.com/QjtwB4o.jpg', 'https://i.imgur.com/rVBkuKk.jpg', 'https://i.imgur.com/Bz1XSCQ.jpg', 'https://i.imgur.com/txTpRPl.jpg', 'https://i.imgur.com/XprfAPE.jpg', 'https://i.imgur.com/cG4wo4n.jpg', 'https://i.imgur.com/39qMmzU.jpg', 'https://i.imgur.com/nt9fnO2.jpg', 'https://i.imgur.com/tIjsY6H.jpg', 'https://i.imgur.com/TNc7lmO.jpg', 'https://i.imgur.com/iMHihV6.jpg', 'https://i.imgur.com/ch9Kpl8.jpg', 'https://i.imgur.com/QrzUWWO.jpg', 'https://i.imgur.com/47MVEdL.jpg', 'https://i.imgur.com/qXwLvT7.jpg']}\n",
      "{'score': 32, 'img': ['https://i.imgur.com/QUVkcE1.jpg', 'https://i.imgur.com/Z1TjjOi.jpg', 'https://i.imgur.com/DLYjblZ.jpg', 'https://i.imgur.com/UXHfTnd.jpg', 'https://i.imgur.com/In2JAo0.jpg', 'https://i.imgur.com/FkBCFwN.jpg', 'https://i.imgur.com/o3suRcO.jpg', 'https://i.imgur.com/7sOd3Ny.jpg', 'https://i.imgur.com/T3hrtDX.jpg', 'https://i.imgur.com/CLoeUts.jpg', 'https://i.imgur.com/6T8CDt1.jpg', 'https://i.imgur.com/TL6qIG8.jpg', 'https://i.imgur.com/xuBElN1.jpg', 'https://i.imgur.com/NBF1Wub.jpg', 'https://i.imgur.com/fA6FseM.jpg', 'https://i.imgur.com/q7gzutb.jpg', 'https://i.imgur.com/nvCbfXS.jpg', 'https://i.imgur.com/zHSASrE.jpg', 'https://i.imgur.com/QHBHGKT.jpg', 'https://i.imgur.com/Qhopln0.jpg']}\n",
      "{'score': 31, 'img': ['http://i.imgur.com/wBn6JpA.jpg', 'http://i.imgur.com/VXMMS5C.jpg', 'https://i.imgur.com/9U5RBl5.jpg', 'http://i.imgur.com/sYbXUeH.jpg', 'http://i.imgur.com/6RRU3pL.jpg', 'http://i.imgur.com/TdYi6WT.jpg', 'http://i.imgur.com/xL7IGH9.jpg', 'http://i.imgur.com/cTCgJ0c.jpg', 'http://i.imgur.com/VWj1ZVl.jpg', 'http://i.imgur.com/bfdqyzK.jpg', 'http://i.imgur.com/aVk2MeK.jpg', 'http://i.imgur.com/qYiFn7P.jpg', 'http://i.imgur.com/lW3T27U.jpg']}\n",
      "{'score': 131, 'img': ['https://i.imgur.com/sd4I1ss.jpg', 'https://i.imgur.com/DC3udHv.jpg', 'https://i.imgur.com/95q8OR7.jpg', 'https://i.imgur.com/K0aqjkd.jpg', 'https://i.imgur.com/M1rnH0S.jpg', 'https://i.imgur.com/4NhLc5X.jpg', 'https://i.imgur.com/MuHelXu.jpg', 'https://i.imgur.com/QB7E02Z.jpg', 'https://i.imgur.com/SRi9Wzf.jpg', 'https://i.imgur.com/F4TzRjX.jpg', 'https://i.imgur.com/iMq5fii.jpg', 'https://i.imgur.com/sTtbCIT.jpg', 'https://i.imgur.com/Wq1CpGu.jpg', 'https://i.imgur.com/U9l3fSu.jpg', 'https://i.imgur.com/s7UwaS5.jpg']}\n",
      "{'score': 83, 'img': ['https://i.imgur.com/8wubDoq.jpg', 'https://i.imgur.com/4s9xIre.jpg', 'https://i.imgur.com/UojLuVU.jpg', 'https://i.imgur.com/8QCTuMH.jpg', 'https://i.imgur.com/GvYhVtM.jpg', 'https://i.imgur.com/PPFS34e.jpg', 'https://i.imgur.com/ZQ69cNK.jpg', 'https://i.imgur.com/T3UqIn9.jpg', 'https://i.imgur.com/c7KY1iw.jpg', 'https://www.instagram.com/giangjoile/']}\n",
      "{'score': 127, 'img': ['https://upload.cc/i1/2018/03/25/yY1IdZ.jpeg', 'https://upload.cc/i1/2018/03/23/rVtBoU.jpg']}\n",
      "{'score': 43, 'img': ['https://i.imgur.com/KQj4CUO.jpg', 'https://i.imgur.com/FGreWRY.jpg', 'https://i.imgur.com/676zOv6.jpg', 'https://i.imgur.com/LR1JSbz.jpg', 'https://i.imgur.com/TnR2up8.jpg', 'https://i.imgur.com/NH2w3cY.jpg', 'https://i.imgur.com/jrEH2XR.jpg', 'https://i.imgur.com/4oFbM0d.jpg']}\n",
      "{'score': 259, 'img': ['https://i.imgur.com/IbhglyI.jpg']}\n",
      "{'score': 31, 'img': ['https://imgur.com/rMF0szT.jpg', 'https://imgur.com/QIXeJDa.jpg', 'https://imgur.com/nz1LFUu.jpg', 'https://imgur.com/aFtryVx.jpg', 'https://imgur.com/udxbg7r.jpg', 'https://imgur.com/U1KjTjA.jpg', 'https://imgur.com/UGeSVz5.jpg', 'https://imgur.com/x0eRQ0o.jpg', 'https://imgur.com/XPW9iuP.jpg', 'https://imgur.com/RdEHJGS.jpg', 'https://imgur.com/Qdcvx94.jpg', 'https://imgur.com/z3twJAm.jpg', 'https://imgur.com/tEZGQfW.jpg', 'https://imgur.com/DOd1mMj.jpg', 'https://imgur.com/G6g6wIN.jpg', 'https://imgur.com/AkyZPor.jpg', 'https://imgur.com/tzVlRzx.jpg', 'https://tinyurl.com/y7uad2fa']}\n",
      "{'score': 61, 'img': ['https://i.imgur.com/17KH8yd.jpg', 'https://i.imgur.com/rVEbker.jpg', 'https://i.imgur.com/1hou0QA.jpg', 'https://i.imgur.com/H56lABv.jpg', 'https://i.imgur.com/IU8y5fB.jpg', 'https://i.imgur.com/zRvg2Qj.jpg', 'https://i.imgur.com/o3PLpeF.jpg', 'https://i.imgur.com/GSQcigB.jpg', 'https://i.imgur.com/TxWrTyf.jpg', 'https://i.imgur.com/L6pg7BW.jpg', 'https://i.imgur.com/PLZtrSD.jpg', 'https://i.imgur.com/8FFxemr.jpg', 'https://i.imgur.com/QLh8VMY.jpg', 'https://i.imgur.com/74uM48D.jpg', 'https://i.imgur.com/Y87Ycvh.jpg', 'https://i.imgur.com/nInTnbN.jpg', 'https://i.imgur.com/4UwyKwb.jpg', 'https://i.imgur.com/sO8vsZa.jpg', 'https://i.imgur.com/awheWev.jpg', 'https://i.imgur.com/tTt3d03.jpg', 'https://youtu.be/9quHDcwUYaE']}\n",
      "{'score': 59, 'img': ['http://i.imgur.com/DovKJ14.jpg', 'http://i.imgur.com/Wc5PBMP.jpg', 'http://i.imgur.com/j0tv0rC.jpg', 'http://i.imgur.com/Z87QhG5.jpg', 'http://i.imgur.com/2NARexJ.jpg', 'http://i.imgur.com/iF5bdNh.jpg', 'http://i.imgur.com/0Bp8KmU.jpg', 'http://i.imgur.com/8gNC1r7.jpg', 'http://i.imgur.com/6gLUvMi.jpg', 'http://i.imgur.com/a3EVba3.jpg', 'http://i.imgur.com/zHrAXSh.jpg', 'http://i.imgur.com/gMN6hsa.jpg', 'http://i.imgur.com/6kMQPhv.jpg', 'http://i.imgur.com/9hy9jZy.jpg', 'http://i.imgur.com/r1LtJNT.jpg']}\n",
      "{'score': 39, 'img': ['https://i.imgur.com/h93Outa.jpg', 'https://i.imgur.com/QYrSOZV.jpg', 'https://i.imgur.com/vYz0b2W.jpg', 'https://i.imgur.com/U1qIiob.jpg', 'https://i.imgur.com/jvDgxEv.jpg', 'https://i.imgur.com/2s20QXa.jpg', 'https://i.imgur.com/E8a5u7Y.jpg', 'https://i.imgur.com/oMz7Wk4.jpg', 'https://i.imgur.com/YF61xwV.jpg', 'https://i.imgur.com/bIyMNVq.jpg', 'https://i.imgur.com/Ji8SDRV.jpg', 'https://i.imgur.com/Uok82vU.jpg', 'https://i.imgur.com/GHagyHE.jpg', 'https://i.imgur.com/CjLL3Ad.jpg', 'https://i.imgur.com/SbmozVV.jpg', 'https://i.imgur.com/JKiwxjE.jpg', 'https://i.imgur.com/rlooHLT.jpg']}\n",
      "{'score': 30, 'img': ['https://i.imgur.com/4L2AcKE.jpg', 'https://i.imgur.com/MD7JwlN.jpg', 'https://i.imgur.com/F2wWEwj.jpg', 'https://i.imgur.com/i9vaxpw.jpg', 'https://i.imgur.com/r2lMJ3D.jpg', 'https://i.imgur.com/bQD5WeA.jpg', 'https://i.imgur.com/4cR5Lwd.gif']}\n",
      "{'score': 91, 'img': ['https://i.imgur.com/Yml7PiZ.png', 'https://i.imgur.com/zpIyJhT.png', 'https://i.imgur.com/N0Ukl1g.png', 'https://i.imgur.com/DtD1arF.png', 'https://i.imgur.com/1DNAYfu.png', 'https://i.imgur.com/V5ilNab.png', 'https://i.imgur.com/mPpFlJT.png', 'https://i.imgur.com/SNwMjiQ.png', 'https://i.imgur.com/UH3kUGW.png', 'https://i.imgur.com/zAqEeV5.png', 'https://i.imgur.com/A9q1Iw9.png', 'https://youtu.be/9ynfzFaUlBg', 'https://www.instagram.com/hola_havana/?hl=zh-tw']}\n",
      "{'score': 80, 'img': ['https://i.imgur.com/NBjFgQx.jpg', 'https://i.imgur.com/hAXcLz3.jpg', 'https://i.imgur.com/20bMJjE.jpg', 'https://i.imgur.com/wYWRe2j.jpg', 'https://i.imgur.com/Gb05I0B.jpg', 'https://i.imgur.com/4udS1uK.jpg']}\n",
      "{'score': 92, 'img': ['https://i.imgur.com/6s7jUfm.jpg', 'https://i.imgur.com/XiZSKii.jpg', 'https://i.imgur.com/cMCCY7g.jpg', 'https://i.imgur.com/4wTkm04.jpg', 'https://i.imgur.com/QjCX4lV.jpg', 'https://i.imgur.com/kunKriq.jpg', 'https://i.imgur.com/6rCfSXS.jpg', 'https://i.imgur.com/imm0UTQ.jpg']}\n",
      "{'score': 39, 'img': ['https://i.imgur.com/RiPKcuQ.jpg', 'https://i.imgur.com/xXdwGHO.jpg', 'https://i.imgur.com/UffXaWQ.jpg', 'https://i.imgur.com/NegneSm.jpg', 'https://i.imgur.com/iD0oTGS.jpg', 'https://i.imgur.com/se1uXwP.jpg', 'https://i.imgur.com/5rNXfeA.jpg', 'https://i.imgur.com/wEabBf8.jpg', 'https://i.imgur.com/BBCX1DB.jpg', 'https://i.imgur.com/TKaD8iU.jpg', 'https://i.imgur.com/4vpjpgh.jpg']}\n"
     ]
    }
   ],
   "source": [
    "for each in lst:\n",
    "    print(each)"
   ]
  },
  {
   "cell_type": "markdown",
   "metadata": {},
   "source": [
    "Now, we could also analyze the relationship between worlds in comment and the preference(like, dislike).\n",
    "Since PTT is a forum from Taiwan, the comment must always be written in Chinese. Therefore, we must import python library which supports split chinese words from sentences. Then, we could use support vector machine to analyze the keywords within \"like\" and \"dislike\".<br>\n",
    "For showing the Chinese on the grpah, please download the \"SimHei\" ttf font\n",
    "```\n",
    "https://github.com/StellarCN/scp_zh/blob/master/fonts/SimHei.ttf\n",
    "```"
   ]
  },
  {
   "cell_type": "code",
   "execution_count": 23,
   "metadata": {
    "collapsed": true
   },
   "outputs": [],
   "source": [
    "# For identifying Chinese phrases\n",
    "import jieba"
   ]
  },
  {
   "cell_type": "code",
   "execution_count": 24,
   "metadata": {},
   "outputs": [
    {
     "name": "stderr",
     "output_type": "stream",
     "text": [
      "Building prefix dict from the default dictionary ...\n",
      "Loading model from cache /var/folders/8t/pgh6s559145dvwjbd22j8qwm0000gn/T/jieba.cache\n",
      "Loading model cost 0.792 seconds.\n",
      "Prefix dict has been built succesfully.\n"
     ]
    }
   ],
   "source": [
    "comm_score = []\n",
    "comm_words = []\n",
    "for post in posts:\n",
    "    if len(post) != 0:\n",
    "        for comment in post['comments']:\n",
    "            if comment['score'] != 0:\n",
    "                sentence = comment['content'].strip()\n",
    "                if sentence:\n",
    "                    dict = {}\n",
    "                    for word in jieba.cut(sentence):\n",
    "                        dict[word] = dict.get(word, 0) + 1\n",
    "                    if dict:\n",
    "                        # If this comment is \"like\", set score to 1\n",
    "                        comm_score.append(1 if comment['score'] > 0 else 0)\n",
    "                        comm_words.append(dict)"
   ]
  },
  {
   "cell_type": "code",
   "execution_count": 28,
   "metadata": {
    "collapsed": true
   },
   "outputs": [],
   "source": [
    "# For creating sparse tfidf matrix \n",
    "from sklearn.feature_extraction import DictVectorizer\n",
    "from sklearn.feature_extraction.text import TfidfTransformer\n",
    "from sklearn.svm import LinearSVC\n",
    "import numpy as np"
   ]
  },
  {
   "cell_type": "code",
   "execution_count": 29,
   "metadata": {},
   "outputs": [
    {
     "data": {
      "text/plain": [
       "LinearSVC(C=1.0, class_weight=None, dual=True, fit_intercept=True,\n",
       "     intercept_scaling=1, loss='squared_hinge', max_iter=1000,\n",
       "     multi_class='ovr', penalty='l2', random_state=None, tol=0.0001,\n",
       "     verbose=0)"
      ]
     },
     "execution_count": 29,
     "metadata": {},
     "output_type": "execute_result"
    }
   ],
   "source": [
    "vec = DictVectorizer()\n",
    "tfidf = TfidfTransformer()\n",
    "\n",
    "# The second fit_transform is sparse matrix\n",
    "X = tfidf.fit_transform(vec.fit_transform(comm_words))\n",
    "arr = X.toarray()\n",
    "svc = LinearSVC()\n",
    "svc.fit(X, comm_score)\n",
    "weights = svc.coef_[0]\n",
    "# All the chinese vocabulary\n",
    "feature_names = vec.get_feature_names()"
   ]
  },
  {
   "cell_type": "markdown",
   "metadata": {},
   "source": [
    "For the following code, please remember to specify the write path of simhei.ttf to the FontProperties"
   ]
  },
  {
   "cell_type": "code",
   "execution_count": 37,
   "metadata": {
    "collapsed": true
   },
   "outputs": [],
   "source": [
    "from matplotlib.font_manager import * \n",
    "def comment_distr(comm_score, comm_words, top_n, positive):\n",
    "    vec = DictVectorizer()\n",
    "    tfidf = TfidfTransformer()\n",
    "    \n",
    "    # The second fit_transform is sparse matrix\n",
    "    X = tfidf.fit_transform(vec.fit_transform(comm_words))\n",
    "    arr = X.toarray()\n",
    "    svc = LinearSVC()\n",
    "    svc.fit(X, comm_score)\n",
    "    weights = svc.coef_[0]\n",
    "    feature_names = vec.get_feature_names()\n",
    "\n",
    "    # Mine\n",
    "    dict = {}\n",
    "    for i in range(len(weights)):\n",
    "        dict[weights[i]] = feature_names[i]\n",
    "    od = OrderedDict(reversed(sorted(dict.items())))\n",
    "\n",
    "    fig, ax = plt.subplots(figsize = (12, 8))\n",
    "    ind = np.arange(top_n)\n",
    "\n",
    "    if positive:\n",
    "        top_weights = [key for key in od.keys()][:top_n]\n",
    "        top_names = [val for val in od.values()][:top_n]\n",
    "        # print(top_weights)\n",
    "        # print(top_names)\n",
    "        bars = ax.bar(ind, top_weights, color= 'blue', edgecolor= 'black')\n",
    "    else:\n",
    "        top_weights = [key for key in od.keys()][-top_n:]\n",
    "        top_names = [val for val in od.values()][-top_n:]\n",
    "        # print(top_weights)\n",
    "        bars = ax.bar(ind, top_weights, color= 'red', edgecolor= 'black')\n",
    "\n",
    "    width = 0.30\n",
    "    ax.set_xticks(ind + width)\n",
    "    # Please specify to the path you stored the simhei ttf\n",
    "    myfont = FontProperties(fname='/Users/York/Downloads/simhei.ttf')  \n",
    "\n",
    "    # Show Chinese vocabulary\n",
    "    plt.rcParams['axes.unicode_minus']=False\n",
    "    ax.set_xticklabels(top_names, rotation= 45, fontsize = 12, fontproperties=myfont)\n",
    "\n",
    "    plt.show(fig)"
   ]
  },
  {
   "cell_type": "code",
   "execution_count": 35,
   "metadata": {},
   "outputs": [
    {
     "data": {
      "image/png": "[encoded data removed]",
      "text/plain": [
       "<matplotlib.figure.Figure at 0x1a1b179f98>"
      ]
     },
     "metadata": {},
     "output_type": "display_data"
    },
    {
     "data": {
      "image/png": "[encoded data removed]",
      "text/plain": [
       "<matplotlib.figure.Figure at 0x1a1b240860>"
      ]
     },
     "metadata": {},
     "output_type": "display_data"
    },
    {
     "data": {
      "image/png": "[encoded data removed]",
      "text/plain": [
       "<matplotlib.figure.Figure at 0x1a1b186c18>"
      ]
     },
     "metadata": {},
     "output_type": "display_data"
    },
    {
     "data": {
      "image/png": "[encoded data removed]",
      "text/plain": [
       "<matplotlib.figure.Figure at 0x1a1b3d8c88>"
      ]
     },
     "metadata": {},
     "output_type": "display_data"
    }
   ],
   "source": [
    "# Show the vocabulary of positive comment\n",
    "comment_distr(comm_score, comm_words, 30, True)"
   ]
  },
  {
   "cell_type": "markdown",
   "metadata": {},
   "source": [
    "For this part, I am also not quite clear why the plot is different from the one I showed on terminal, however, it could work normally at \"dislike\" situation(The following red bar graph)"
   ]
  },
  {
   "cell_type": "code",
   "execution_count": 36,
   "metadata": {},
   "outputs": [
    {
     "data": {
      "image/png": "[encoded data removed]",
      "text/plain": [
       "<matplotlib.figure.Figure at 0x1a1ac5a8d0>"
      ]
     },
     "metadata": {},
     "output_type": "display_data"
    }
   ],
   "source": [
    "comment_distr(comm_score, comm_words, 30, False)"
   ]
  },
  {
   "cell_type": "markdown",
   "metadata": {},
   "source": [
    "Blue bars means the vocabulary within \"like\" comment, and Red bars means the vocabulary within \"dislike\" comment, this analysis is collected the data from all of the posts, you can also set a threshold to filter the post with low score and analyze the comment for \"like\" and \"dislike\" again"
   ]
  }
 ],
 "metadata": {
  "kernelspec": {
   "display_name": "Python 3",
   "language": "python",
   "name": "python3"
  },
  "language_info": {
   "codemirror_mode": {
    "name": "ipython",
    "version": 3
   },
   "file_extension": ".py",
   "mimetype": "text/x-python",
   "name": "python",
   "nbconvert_exporter": "python",
   "pygments_lexer": "ipython3",
   "version": "3.6.3"
  }
 },
 "nbformat": 4,
 "nbformat_minor": 2
}
