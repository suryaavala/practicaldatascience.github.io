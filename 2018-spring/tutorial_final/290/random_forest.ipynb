{
 "cells": [
  {
   "cell_type": "markdown",
   "metadata": {},
   "source": [
    "# Random Forest Algorithm and Its Application\n",
    "\n",
    "This tutorial will give a brief introduction to random forest algorithm and an example of predicting max temperature based on random forest in python using `scikit-learn` library."
   ]
  },
  {
   "cell_type": "markdown",
   "metadata": {},
   "source": [
    "## Introduction to Random Forest\n",
    "\n",
    "Random forest is a supervised learning algorithm that can be used both for classification and regression.\n",
    "\n",
    "### Ensemble Methods\n",
    "\n",
    "Generally, random forest is an ensemble of decision trees.  \"The goal of ensemble methods is to combine the predictions of several base estimators built with a given learning algorithm in order to improve generalizability / robustness over a single estimator.\"[1] From the [documentation](http://scikit-learn.org/dev/modules/ensemble.html#forests-of-randomized-trees), `scikit-learn` library provides two kinds of ensemble methods: averaging methods and boosting methods with random forest falling into the former one."
   ]
  },
  {
   "cell_type": "markdown",
   "metadata": {},
   "source": [
    "### Decision Tree\n",
    "\n",
    "Random forest takes advantage of decision tree as its base estimator. Basic concepts in decision tree will be briefly covered in this section.\n",
    "\n",
    "Given a training set of data, decision tree algorithm will build a tree with each internal node indicating a decision rule for an attribute and each leaf node representing a result. An example of a decision tree is:\n",
    "![Example of decision tree](decisionTree.png)\n",
    "*(Image credit: www.packtpub.com )*\n",
    "\n",
    "The prediction process in this decision tree will start from the root node with classification by the `salary` attribute. If the answer to the question on the root node is yes, the decision will move to next node with classification on `commuting time`. Then probably follows with attribute `coffee provided` until it moves to a leaf node, which represents a final decision.\n",
    "\n",
    "A challenge in decision tree algorithm is about how to determine the attribute involved in each level, to make the decision tree more efficient and more accurate on later prediction. There are two main criterions for attribute evaluation: information gain and gini index. Those criterions assign a value for each attribute, followed by sorting attributes by values and putting them into the tree in order. The attribute with the highest value will be treated as the root node.\n",
    "\n",
    "* **Information gain**: Information gain is mainly used when attributes are categorical. The concept of information gain is deducted from information theory that the value of attribute is determined by its entropy. An attribute with half of the data positive and remaining half negative has a high entropy, which results in a higher attribute value.\n",
    "\n",
    "* **Gini index**: Gini index is mainly used when attributes are continuous. Gini index helps to measure how a randomly picked element will be incorrectly classified. An attribute with a lower gini index will have a higher value and locate in a node closer to root node.\n",
    "\n",
    "More detailed description of decision tree algorithm as well as the implementation of those two attribute selection criterions can be found [here](https://dataaspirant.com/2017/01/30/how-decision-tree-algorithm-works/)."
   ]
  },
  {
   "cell_type": "markdown",
   "metadata": {},
   "source": [
    "### Random Forest\n",
    "\n",
    "With the knowledge of decision tree, we can step into random forest algorithm. A random forest is built by creating decision trees randomly. \n",
    "\n",
    "To generate a random forest, the algorithm randomly picks `k` attributes out of all attributes and creates a decision tree with those `k` attributes, then repeats the previous steps for `n` times to create `n` decision trees.\n",
    "\n",
    "To predict the result for a new input vector, fit the input into every single decision tree in the forest. Then gather the outputs from all decision trees and return the result the one with the highest count among results returned by all trees in the forest, which is known as arboreal voting.\n",
    "\n",
    "Since trees are built randomly, a large extent of those trees won't give meaningful path and results. However, the results given by non-meaningful trees will fall randomly into all of the choices, so they probably can cancel each other out.\n",
    "\n",
    "**Feature Importance**\n",
    "\n",
    "In addition to prediction result, random forest can also present the relative importance of features. As in `scikit-learn`, random forest will assign an importance score for each feature based on the number of tree nodes of this attributes that helps to reduce impurity. The importance scores of all attributes sum up to 1.\n",
    "\n",
    "Since some of the features won't really relate to the result, from feature importance values, we can easily decide which features should be dropped to deal with overfitting problem. Thus, as a side product of random forest, feature importance scores can also be used in feature selection process in other learning methods.\n",
    "\n",
    "### Motivations of using random forest\n",
    "\n",
    "Random forest has several advantages in applications:\n",
    "\n",
    "1. The same random forest algorithm can be used both for classification and regression.\n",
    "\n",
    "2. Compared to a single decision tree, even we have a large amount of trees in the forest, random forest classifier won't overfit the model because each tree in the forest is built with a subset of the attributes and the result is generated by gathering results from all the trees.\n",
    "\n",
    "3. With feature importance as part of the outcome, random forest can be also used to identify the most relavant attributes from all of the attributes, which is a reliable feature selection method.\n",
    "\n",
    "4. Random forest is able to handle missing values. Random forest algorithm actually provide two ways of replacing missing values, detailed information can be found [here](https://www.stat.berkeley.edu/~breiman/RandomForests/cc_home.htm#missing1).\n",
    "\n",
    "Random forest algorithm has many real life applications in different fields like banking, finance, medicine etc. For example, in banking area, one of the classification problem is to detect whether a customer is a fraud customer. Similarly, random forest can be also used to find well-bahaved customer. In addition, random forest can be used in regression problems, like in the following example of predicting max temperature of a certain day."
   ]
  },
  {
   "cell_type": "markdown",
   "metadata": {},
   "source": [
    "## Example: Max Temperature Prediction based on Random Forest\n",
    "\n",
    "In the following sections, an example of random forest application will be shown. The problem here is to predict the max temperature of a day in San Francisco with the daily temperature data (including max temperature, min temperature, average temperature) of 1 and 2 days prior, as well as the max temperature last year. This is a fairly simple regression problem that can help to give a sense of the whole process to solve regression problem with random forest algorithm. This example is inspired from [here](https://towardsdatascience.com/random-forest-in-python-24d0893d51c0)."
   ]
  },
  {
   "cell_type": "markdown",
   "metadata": {},
   "source": [
    "### Import Libraries\n",
    "\n",
    "Here includes the libraries needed to do data processing, random forest algorithm and visualization. \n",
    "Note if you haven't installed [pydot](https://anaconda.org/anaconda/pydot) before, run `conda install pydot graphviz` in command line to install it."
   ]
  },
  {
   "cell_type": "code",
   "execution_count": 1,
   "metadata": {},
   "outputs": [],
   "source": [
    "import pandas as pd\n",
    "import numpy as np\n",
    "\n",
    "from datetime import datetime\n",
    "from random import randint\n",
    "\n",
    "from sklearn.model_selection import train_test_split\n",
    "from sklearn.ensemble import RandomForestRegressor\n",
    "from sklearn.model_selection import GridSearchCV\n",
    "\n",
    "from sklearn.tree import export_graphviz\n",
    "# conda install pydot graphviz\n",
    "import pydot\n",
    "\n",
    "from matplotlib import pyplot as plt\n",
    "plt.rcParams[\"figure.figsize\"] = [10,4]"
   ]
  },
  {
   "cell_type": "markdown",
   "metadata": {},
   "source": [
    "### Data analysis and preprocessing\n",
    "\n",
    "The temperature data used in this example is downloaded from [NOAA Climate Data Online](https://www.ncdc.noaa.gov/cdo-web/). From the website we can search for daily summaries in San Francisco from 2016-12-30 to 2017-12-31 (those two days in 2016 is for 2 days prior information) and download a well-formatted csv file. \n",
    "\n",
    "Let's have a quick look on the raw data. Each row in the table represents the daily information collected from one climate station, including the station information ( `STATION`, `NAME`, `LATITUDE`, `LONGITUDE`, `ELEVATION` ) and the temperature ( `TAVG`, `TMAX`, `TMIN` )."
   ]
  },
  {
   "cell_type": "code",
   "execution_count": 2,
   "metadata": {},
   "outputs": [
    {
     "data": {
      "text/html": [
       "<div>\n",
       "<style>\n",
       "    .dataframe thead tr:only-child th {\n",
       "        text-align: right;\n",
       "    }\n",
       "\n",
       "    .dataframe thead th {\n",
       "        text-align: left;\n",
       "    }\n",
       "\n",
       "    .dataframe tbody tr th {\n",
       "        vertical-align: top;\n",
       "    }\n",
       "</style>\n",
       "<table border=\"1\" class=\"dataframe\">\n",
       "  <thead>\n",
       "    <tr style=\"text-align: right;\">\n",
       "      <th></th>\n",
       "      <th>STATION</th>\n",
       "      <th>NAME</th>\n",
       "      <th>LATITUDE</th>\n",
       "      <th>LONGITUDE</th>\n",
       "      <th>ELEVATION</th>\n",
       "      <th>DATE</th>\n",
       "      <th>TAVG</th>\n",
       "      <th>TMAX</th>\n",
       "      <th>TMIN</th>\n",
       "      <th>TOBS</th>\n",
       "    </tr>\n",
       "  </thead>\n",
       "  <tbody>\n",
       "    <tr>\n",
       "      <th>0</th>\n",
       "      <td>USR0000CSVA</td>\n",
       "      <td>SPRING VALLEY CALIFORNIA, CA US</td>\n",
       "      <td>37.5625</td>\n",
       "      <td>-122.4364</td>\n",
       "      <td>327.7</td>\n",
       "      <td>2016-12-30</td>\n",
       "      <td>51.0</td>\n",
       "      <td>60.0</td>\n",
       "      <td>45.0</td>\n",
       "      <td>NaN</td>\n",
       "    </tr>\n",
       "    <tr>\n",
       "      <th>1</th>\n",
       "      <td>USR0000CSVA</td>\n",
       "      <td>SPRING VALLEY CALIFORNIA, CA US</td>\n",
       "      <td>37.5625</td>\n",
       "      <td>-122.4364</td>\n",
       "      <td>327.7</td>\n",
       "      <td>2016-12-31</td>\n",
       "      <td>44.0</td>\n",
       "      <td>49.0</td>\n",
       "      <td>40.0</td>\n",
       "      <td>NaN</td>\n",
       "    </tr>\n",
       "    <tr>\n",
       "      <th>2</th>\n",
       "      <td>USR0000CSVA</td>\n",
       "      <td>SPRING VALLEY CALIFORNIA, CA US</td>\n",
       "      <td>37.5625</td>\n",
       "      <td>-122.4364</td>\n",
       "      <td>327.7</td>\n",
       "      <td>2017-01-01</td>\n",
       "      <td>44.0</td>\n",
       "      <td>49.0</td>\n",
       "      <td>41.0</td>\n",
       "      <td>NaN</td>\n",
       "    </tr>\n",
       "    <tr>\n",
       "      <th>3</th>\n",
       "      <td>USR0000CSVA</td>\n",
       "      <td>SPRING VALLEY CALIFORNIA, CA US</td>\n",
       "      <td>37.5625</td>\n",
       "      <td>-122.4364</td>\n",
       "      <td>327.7</td>\n",
       "      <td>2017-01-02</td>\n",
       "      <td>43.0</td>\n",
       "      <td>46.0</td>\n",
       "      <td>40.0</td>\n",
       "      <td>NaN</td>\n",
       "    </tr>\n",
       "    <tr>\n",
       "      <th>4</th>\n",
       "      <td>USR0000CSVA</td>\n",
       "      <td>SPRING VALLEY CALIFORNIA, CA US</td>\n",
       "      <td>37.5625</td>\n",
       "      <td>-122.4364</td>\n",
       "      <td>327.7</td>\n",
       "      <td>2017-01-03</td>\n",
       "      <td>49.0</td>\n",
       "      <td>53.0</td>\n",
       "      <td>44.0</td>\n",
       "      <td>NaN</td>\n",
       "    </tr>\n",
       "  </tbody>\n",
       "</table>\n",
       "</div>"
      ],
      "text/plain": [
       "       STATION                             NAME  LATITUDE  LONGITUDE  \\\n",
       "0  USR0000CSVA  SPRING VALLEY CALIFORNIA, CA US   37.5625  -122.4364   \n",
       "1  USR0000CSVA  SPRING VALLEY CALIFORNIA, CA US   37.5625  -122.4364   \n",
       "2  USR0000CSVA  SPRING VALLEY CALIFORNIA, CA US   37.5625  -122.4364   \n",
       "3  USR0000CSVA  SPRING VALLEY CALIFORNIA, CA US   37.5625  -122.4364   \n",
       "4  USR0000CSVA  SPRING VALLEY CALIFORNIA, CA US   37.5625  -122.4364   \n",
       "\n",
       "   ELEVATION        DATE  TAVG  TMAX  TMIN  TOBS  \n",
       "0      327.7  2016-12-30  51.0  60.0  45.0   NaN  \n",
       "1      327.7  2016-12-31  44.0  49.0  40.0   NaN  \n",
       "2      327.7  2017-01-01  44.0  49.0  41.0   NaN  \n",
       "3      327.7  2017-01-02  43.0  46.0  40.0   NaN  \n",
       "4      327.7  2017-01-03  49.0  53.0  44.0   NaN  "
      ]
     },
     "execution_count": 2,
     "metadata": {},
     "output_type": "execute_result"
    }
   ],
   "source": [
    "raw_data_2017 = pd.read_csv('sfo2017.csv')\n",
    "raw_data_2017.head(5)"
   ]
  },
  {
   "cell_type": "code",
   "execution_count": 3,
   "metadata": {
    "scrolled": true
   },
   "outputs": [
    {
     "name": "stdout",
     "output_type": "stream",
     "text": [
      "The daily climate summaries in San Francisco is collected from 32 stations\n"
     ]
    }
   ],
   "source": [
    "num_stations = len(raw_data_2017.STATION.unique())\n",
    "print('The daily climate summaries in San Francisco is collected from', num_stations, 'stations')"
   ]
  },
  {
   "cell_type": "markdown",
   "metadata": {},
   "source": [
    "In the max temperature prediction, several attributes are needed, including the max temperature last year (2016), the max / avg / min temperature of 2 days prior, and the max / avg / min temperature of 1 day prior.\n",
    "\n",
    "Thus a csv file including daily summaries in 2016 is downloaded from NOAA as well, in order to get the daily max temperature of previous year. To match the max temperature into year 2017 data, we can calculate the number of total records as a simple way to check if there're any missing data. Additionally, since 2016 is a leap year, the daily summary for Feb 29 is removed from the data list."
   ]
  },
  {
   "cell_type": "code",
   "execution_count": 4,
   "metadata": {},
   "outputs": [
    {
     "name": "stdout",
     "output_type": "stream",
     "text": [
      "# of total records in 2016: 366\n",
      "# of records after dropping the extra day: 365\n"
     ]
    }
   ],
   "source": [
    "raw_data_2016 = pd.read_csv('sfo2016.csv')\n",
    "\n",
    "date_2016 = list(raw_data_2016.groupby('DATE').groups.keys())\n",
    "print('# of total records in 2016:', len(date_2016))\n",
    "\n",
    "# Max temperature in 2016\n",
    "max_column_2016 = raw_data_2016.groupby('DATE').TMAX.max()\n",
    "max_column_2016 = max_column_2016.drop('2016-02-29')\n",
    "print('# of records after dropping the extra day:', len(max_column_2016))"
   ]
  },
  {
   "cell_type": "markdown",
   "metadata": {},
   "source": [
    "Temperature data of 2 days prior and 1 day prior are generated from the 2017 dataset."
   ]
  },
  {
   "cell_type": "code",
   "execution_count": 5,
   "metadata": {},
   "outputs": [
    {
     "name": "stdout",
     "output_type": "stream",
     "text": [
      "# of records in 2017: 365\n",
      "Attributes include:  ['avg_1', 'avg_2', 'day', 'his_max', 'max_1', 'max_2', 'min_1', 'min_2', 'month', 'weekday']\n"
     ]
    },
    {
     "data": {
      "text/html": [
       "<div>\n",
       "<style>\n",
       "    .dataframe thead tr:only-child th {\n",
       "        text-align: right;\n",
       "    }\n",
       "\n",
       "    .dataframe thead th {\n",
       "        text-align: left;\n",
       "    }\n",
       "\n",
       "    .dataframe tbody tr th {\n",
       "        vertical-align: top;\n",
       "    }\n",
       "</style>\n",
       "<table border=\"1\" class=\"dataframe\">\n",
       "  <thead>\n",
       "    <tr style=\"text-align: right;\">\n",
       "      <th></th>\n",
       "      <th>avg_1</th>\n",
       "      <th>avg_2</th>\n",
       "      <th>day</th>\n",
       "      <th>his_max</th>\n",
       "      <th>max_1</th>\n",
       "      <th>max_2</th>\n",
       "      <th>min_1</th>\n",
       "      <th>min_2</th>\n",
       "      <th>month</th>\n",
       "      <th>weekday</th>\n",
       "    </tr>\n",
       "  </thead>\n",
       "  <tbody>\n",
       "    <tr>\n",
       "      <th>0</th>\n",
       "      <td>44.583333</td>\n",
       "      <td>50.000000</td>\n",
       "      <td>1</td>\n",
       "      <td>57.0</td>\n",
       "      <td>61.0</td>\n",
       "      <td>64.0</td>\n",
       "      <td>30.0</td>\n",
       "      <td>30.0</td>\n",
       "      <td>1</td>\n",
       "      <td>6</td>\n",
       "    </tr>\n",
       "    <tr>\n",
       "      <th>1</th>\n",
       "      <td>45.000000</td>\n",
       "      <td>44.583333</td>\n",
       "      <td>2</td>\n",
       "      <td>57.0</td>\n",
       "      <td>58.0</td>\n",
       "      <td>61.0</td>\n",
       "      <td>34.0</td>\n",
       "      <td>30.0</td>\n",
       "      <td>1</td>\n",
       "      <td>0</td>\n",
       "    </tr>\n",
       "    <tr>\n",
       "      <th>2</th>\n",
       "      <td>43.166667</td>\n",
       "      <td>45.000000</td>\n",
       "      <td>3</td>\n",
       "      <td>62.0</td>\n",
       "      <td>55.0</td>\n",
       "      <td>58.0</td>\n",
       "      <td>33.0</td>\n",
       "      <td>34.0</td>\n",
       "      <td>1</td>\n",
       "      <td>1</td>\n",
       "    </tr>\n",
       "    <tr>\n",
       "      <th>3</th>\n",
       "      <td>47.583333</td>\n",
       "      <td>43.166667</td>\n",
       "      <td>4</td>\n",
       "      <td>62.0</td>\n",
       "      <td>59.0</td>\n",
       "      <td>55.0</td>\n",
       "      <td>34.0</td>\n",
       "      <td>33.0</td>\n",
       "      <td>1</td>\n",
       "      <td>2</td>\n",
       "    </tr>\n",
       "    <tr>\n",
       "      <th>4</th>\n",
       "      <td>49.166667</td>\n",
       "      <td>47.583333</td>\n",
       "      <td>5</td>\n",
       "      <td>60.0</td>\n",
       "      <td>59.0</td>\n",
       "      <td>59.0</td>\n",
       "      <td>39.0</td>\n",
       "      <td>34.0</td>\n",
       "      <td>1</td>\n",
       "      <td>3</td>\n",
       "    </tr>\n",
       "  </tbody>\n",
       "</table>\n",
       "</div>"
      ],
      "text/plain": [
       "       avg_1      avg_2  day  his_max  max_1  max_2  min_1  min_2  month  \\\n",
       "0  44.583333  50.000000    1     57.0   61.0   64.0   30.0   30.0      1   \n",
       "1  45.000000  44.583333    2     57.0   58.0   61.0   34.0   30.0      1   \n",
       "2  43.166667  45.000000    3     62.0   55.0   58.0   33.0   34.0      1   \n",
       "3  47.583333  43.166667    4     62.0   59.0   55.0   34.0   33.0      1   \n",
       "4  49.166667  47.583333    5     60.0   59.0   59.0   39.0   34.0      1   \n",
       "\n",
       "   weekday  \n",
       "0        6  \n",
       "1        0  \n",
       "2        1  \n",
       "3        2  \n",
       "4        3  "
      ]
     },
     "execution_count": 5,
     "metadata": {},
     "output_type": "execute_result"
    }
   ],
   "source": [
    "date = list(raw_data_2017.groupby('DATE').groups.keys())[2:]\n",
    "print('# of records in 2017:', len(date))\n",
    "\n",
    "dt_array = [datetime.strptime(s, '%Y-%m-%d') for s in date]\n",
    "day = [dt.day for dt in dt_array]\n",
    "month = [dt.month for dt in dt_array]\n",
    "weekday = [dt.weekday() for dt in dt_array]\n",
    "\n",
    "max_column = raw_data_2017.groupby('DATE').TMAX.max()\n",
    "\n",
    "# The max temperature of 2 days prior\n",
    "max_2 = max_column.iloc[:-2]\n",
    "\n",
    "# The max temperature of 1 day prior\n",
    "max_1 = max_column.iloc[1:-1]\n",
    "\n",
    "# Previous min temperature\n",
    "min_column = raw_data_2017.groupby('DATE').TMIN.min()\n",
    "min_2 = min_column.iloc[:-2]\n",
    "min_1 = min_column.iloc[1:-1]\n",
    "\n",
    "# Previous avg temperature\n",
    "avg_column = raw_data_2017.groupby('DATE').TAVG.mean()\n",
    "avg_2 = avg_column.iloc[:-2]\n",
    "avg_1 = avg_column.iloc[1:-1]\n",
    "\n",
    "# All attributes\n",
    "data = {'month': np.array(month), \n",
    "        'day': np.array(day), \n",
    "        'weekday': np.array(weekday),\n",
    "        'his_max': np.array(max_column_2016), \n",
    "        'max_2': np.array(max_2), \n",
    "        'max_1': np.array(max_1), \n",
    "        'min_2': np.array(min_2),\n",
    "        'min_1': np.array(min_1),\n",
    "        'avg_2': np.array(avg_2),\n",
    "        'avg_1': np.array(avg_1)\n",
    "       }\n",
    "attributes_data = pd.DataFrame(data)\n",
    "\n",
    "attributes_names = list(attributes_data.columns)\n",
    "print('Attributes include: ', attributes_names)\n",
    "\n",
    "# Ground truth of max temperature\n",
    "actual_max = np.array(max_column.iloc[2:])\n",
    "\n",
    "attributes_data.head()"
   ]
  },
  {
   "cell_type": "markdown",
   "metadata": {},
   "source": [
    "The attributes in `attributes_data` table are:\n",
    "\n",
    "* **month**: month\n",
    "* **day**: day in month\n",
    "* **weekday**: weekday\n",
    "* **his_max**: the max temperature of this date in previous year (2016)\n",
    "* **max_2**: the max temperature of 2 days prior\n",
    "* **max_1**: the max temperature of 1 day prior\n",
    "* **min_2**: the min temperature of 2 days prior\n",
    "* **min_1**: the min temperature of 1 day prior\n",
    "* **avg_2**: the average temperature of 2 days prior\n",
    "* **avg_1**: the average temperature of 1 day prior\n",
    "\n",
    "And the ground truth of actual max temperature is stored in `actual_max` list.\n",
    "\n",
    "Also we can have a general idea of all data from `describe` the dataframe."
   ]
  },
  {
   "cell_type": "code",
   "execution_count": 6,
   "metadata": {},
   "outputs": [
    {
     "data": {
      "text/html": [
       "<div>\n",
       "<style>\n",
       "    .dataframe thead tr:only-child th {\n",
       "        text-align: right;\n",
       "    }\n",
       "\n",
       "    .dataframe thead th {\n",
       "        text-align: left;\n",
       "    }\n",
       "\n",
       "    .dataframe tbody tr th {\n",
       "        vertical-align: top;\n",
       "    }\n",
       "</style>\n",
       "<table border=\"1\" class=\"dataframe\">\n",
       "  <thead>\n",
       "    <tr style=\"text-align: right;\">\n",
       "      <th></th>\n",
       "      <th>avg_1</th>\n",
       "      <th>avg_2</th>\n",
       "      <th>day</th>\n",
       "      <th>his_max</th>\n",
       "      <th>max_1</th>\n",
       "      <th>max_2</th>\n",
       "      <th>min_1</th>\n",
       "      <th>min_2</th>\n",
       "      <th>month</th>\n",
       "      <th>weekday</th>\n",
       "    </tr>\n",
       "  </thead>\n",
       "  <tbody>\n",
       "    <tr>\n",
       "      <th>count</th>\n",
       "      <td>365.000000</td>\n",
       "      <td>365.000000</td>\n",
       "      <td>365.000000</td>\n",
       "      <td>365.000000</td>\n",
       "      <td>365.000000</td>\n",
       "      <td>365.000000</td>\n",
       "      <td>365.000000</td>\n",
       "      <td>365.000000</td>\n",
       "      <td>365.000000</td>\n",
       "      <td>365.000000</td>\n",
       "    </tr>\n",
       "    <tr>\n",
       "      <th>mean</th>\n",
       "      <td>58.859782</td>\n",
       "      <td>58.858728</td>\n",
       "      <td>15.720548</td>\n",
       "      <td>78.756164</td>\n",
       "      <td>78.915068</td>\n",
       "      <td>78.893151</td>\n",
       "      <td>41.156164</td>\n",
       "      <td>41.153425</td>\n",
       "      <td>6.526027</td>\n",
       "      <td>3.008219</td>\n",
       "    </tr>\n",
       "    <tr>\n",
       "      <th>std</th>\n",
       "      <td>9.276980</td>\n",
       "      <td>9.277967</td>\n",
       "      <td>8.808321</td>\n",
       "      <td>12.156410</td>\n",
       "      <td>13.265916</td>\n",
       "      <td>13.283969</td>\n",
       "      <td>7.346992</td>\n",
       "      <td>7.350975</td>\n",
       "      <td>3.452584</td>\n",
       "      <td>2.006155</td>\n",
       "    </tr>\n",
       "    <tr>\n",
       "      <th>min</th>\n",
       "      <td>38.307692</td>\n",
       "      <td>38.307692</td>\n",
       "      <td>1.000000</td>\n",
       "      <td>56.000000</td>\n",
       "      <td>54.000000</td>\n",
       "      <td>54.000000</td>\n",
       "      <td>20.000000</td>\n",
       "      <td>20.000000</td>\n",
       "      <td>1.000000</td>\n",
       "      <td>0.000000</td>\n",
       "    </tr>\n",
       "    <tr>\n",
       "      <th>25%</th>\n",
       "      <td>52.250000</td>\n",
       "      <td>52.250000</td>\n",
       "      <td>8.000000</td>\n",
       "      <td>70.000000</td>\n",
       "      <td>68.000000</td>\n",
       "      <td>68.000000</td>\n",
       "      <td>36.000000</td>\n",
       "      <td>36.000000</td>\n",
       "      <td>4.000000</td>\n",
       "      <td>1.000000</td>\n",
       "    </tr>\n",
       "    <tr>\n",
       "      <th>50%</th>\n",
       "      <td>57.166667</td>\n",
       "      <td>57.166667</td>\n",
       "      <td>16.000000</td>\n",
       "      <td>78.000000</td>\n",
       "      <td>78.000000</td>\n",
       "      <td>78.000000</td>\n",
       "      <td>42.000000</td>\n",
       "      <td>42.000000</td>\n",
       "      <td>7.000000</td>\n",
       "      <td>3.000000</td>\n",
       "    </tr>\n",
       "    <tr>\n",
       "      <th>75%</th>\n",
       "      <td>64.230769</td>\n",
       "      <td>64.230769</td>\n",
       "      <td>23.000000</td>\n",
       "      <td>88.000000</td>\n",
       "      <td>89.000000</td>\n",
       "      <td>89.000000</td>\n",
       "      <td>46.000000</td>\n",
       "      <td>46.000000</td>\n",
       "      <td>10.000000</td>\n",
       "      <td>5.000000</td>\n",
       "    </tr>\n",
       "    <tr>\n",
       "      <th>max</th>\n",
       "      <td>92.307692</td>\n",
       "      <td>92.307692</td>\n",
       "      <td>31.000000</td>\n",
       "      <td>108.000000</td>\n",
       "      <td>113.000000</td>\n",
       "      <td>113.000000</td>\n",
       "      <td>60.000000</td>\n",
       "      <td>60.000000</td>\n",
       "      <td>12.000000</td>\n",
       "      <td>6.000000</td>\n",
       "    </tr>\n",
       "  </tbody>\n",
       "</table>\n",
       "</div>"
      ],
      "text/plain": [
       "            avg_1       avg_2         day     his_max       max_1       max_2  \\\n",
       "count  365.000000  365.000000  365.000000  365.000000  365.000000  365.000000   \n",
       "mean    58.859782   58.858728   15.720548   78.756164   78.915068   78.893151   \n",
       "std      9.276980    9.277967    8.808321   12.156410   13.265916   13.283969   \n",
       "min     38.307692   38.307692    1.000000   56.000000   54.000000   54.000000   \n",
       "25%     52.250000   52.250000    8.000000   70.000000   68.000000   68.000000   \n",
       "50%     57.166667   57.166667   16.000000   78.000000   78.000000   78.000000   \n",
       "75%     64.230769   64.230769   23.000000   88.000000   89.000000   89.000000   \n",
       "max     92.307692   92.307692   31.000000  108.000000  113.000000  113.000000   \n",
       "\n",
       "            min_1       min_2       month     weekday  \n",
       "count  365.000000  365.000000  365.000000  365.000000  \n",
       "mean    41.156164   41.153425    6.526027    3.008219  \n",
       "std      7.346992    7.350975    3.452584    2.006155  \n",
       "min     20.000000   20.000000    1.000000    0.000000  \n",
       "25%     36.000000   36.000000    4.000000    1.000000  \n",
       "50%     42.000000   42.000000    7.000000    3.000000  \n",
       "75%     46.000000   46.000000   10.000000    5.000000  \n",
       "max     60.000000   60.000000   12.000000    6.000000  "
      ]
     },
     "execution_count": 6,
     "metadata": {},
     "output_type": "execute_result"
    }
   ],
   "source": [
    "attributes_data.describe()"
   ]
  },
  {
   "cell_type": "markdown",
   "metadata": {},
   "source": [
    "### Training and testing sets split\n",
    "\n",
    "Then randomly split the whole dataset into training set and testing set with `train_test_split` function, with testing set contains around 30% of the whole records."
   ]
  },
  {
   "cell_type": "code",
   "execution_count": 7,
   "metadata": {},
   "outputs": [],
   "source": [
    "features = np.array(attributes_data)\n",
    "train_features, test_features, train_results, test_results = train_test_split(features, actual_max, test_size = 0.3, random_state=5)"
   ]
  },
  {
   "cell_type": "code",
   "execution_count": 8,
   "metadata": {},
   "outputs": [
    {
     "name": "stdout",
     "output_type": "stream",
     "text": [
      "Training Features: (255, 10)\n",
      "Test Features: (110, 10)\n"
     ]
    }
   ],
   "source": [
    "print('Training Features:', train_features.shape)\n",
    "print('Test Features:', test_features.shape)"
   ]
  },
  {
   "cell_type": "markdown",
   "metadata": {},
   "source": [
    "### Random forest training\n",
    "\n",
    "We will build a random forest with support from `scikit-learn` library. From `scikit-learn` documentation, the main parameters when using random forest regressor are `n_estimators` and `max_features`. \n",
    "\n",
    "* `n_estimators`: represents the number of trees that will be generated in the forest. The more trees will result in more accuracy, but in lower speed. \n",
    "* `max_features`: defines the max number of features in one simple tree.\n",
    "\n",
    "Description for other parameters can be found in the [documentation](http://scikit-learn.org/dev/modules/generated/sklearn.ensemble.RandomForestRegressor.html#sklearn.ensemble.RandomForestRegressor).\n",
    "\n",
    "**Hyperparameter Tuning**\n",
    "\n",
    "`GridSearchCV` can help to find out the best parameter used in the random forest model. The next code snippet defines possible parameters for a `RandomForestRegressor`, and get the best parameters from `GridSearchCV`. To make sure the random process in building a random forest doesn't affect the best paramter searching, we should define the `random_state` as the seed used by random number generator. Hyperparameter tuning process will take a relatively long time."
   ]
  },
  {
   "cell_type": "code",
   "execution_count": 9,
   "metadata": {},
   "outputs": [
    {
     "data": {
      "text/plain": [
       "{'max_features': 'sqrt', 'n_estimators': 1500}"
      ]
     },
     "execution_count": 9,
     "metadata": {},
     "output_type": "execute_result"
    }
   ],
   "source": [
    "param_grid = {\"n_estimators\": [100, 400, 700, 1000, 1500, 2000], \n",
    "              \"max_features\": [\"auto\", \"sqrt\"]}\n",
    "\n",
    "rf = RandomForestRegressor(n_estimators=100, max_features='auto', oob_score=True, n_jobs=-1, random_state=1)\n",
    "\n",
    "clf = GridSearchCV(estimator=rf, param_grid=param_grid, n_jobs=-1)\n",
    "clf.fit(train_features, train_results)\n",
    "\n",
    "max_features = clf.best_params_['max_features']\n",
    "n_estimators = clf.best_params_['n_estimators']\n",
    "\n",
    "clf.best_params_"
   ]
  },
  {
   "cell_type": "markdown",
   "metadata": {},
   "source": [
    "**Training**\n",
    "\n",
    "Create a random forest regressor with the parameters above."
   ]
  },
  {
   "cell_type": "code",
   "execution_count": 10,
   "metadata": {},
   "outputs": [
    {
     "data": {
      "text/plain": [
       "RandomForestRegressor(bootstrap=True, criterion='mse', max_depth=None,\n",
       "           max_features='sqrt', max_leaf_nodes=None,\n",
       "           min_impurity_decrease=0.0, min_impurity_split=None,\n",
       "           min_samples_leaf=1, min_samples_split=2,\n",
       "           min_weight_fraction_leaf=0.0, n_estimators=1500, n_jobs=-1,\n",
       "           oob_score=True, random_state=1, verbose=0, warm_start=False)"
      ]
     },
     "execution_count": 10,
     "metadata": {},
     "output_type": "execute_result"
    }
   ],
   "source": [
    "rf = RandomForestRegressor(n_estimators=n_estimators, max_features=max_features, oob_score=True, n_jobs=-1, random_state=1)\n",
    "rf.fit(train_features, train_results)"
   ]
  },
  {
   "cell_type": "markdown",
   "metadata": {},
   "source": [
    "### Prediction and result analysis\n",
    "\n",
    "Predict the max temperature based on the model defined above."
   ]
  },
  {
   "cell_type": "code",
   "execution_count": 11,
   "metadata": {},
   "outputs": [],
   "source": [
    "predictions = rf.predict(test_features)"
   ]
  },
  {
   "cell_type": "markdown",
   "metadata": {},
   "source": [
    "Define 2 baseline data for comparison. \n",
    "\n",
    "1. Predict from the max temperature in 2016: max temperature would be the max temperature today of 2016 ±5 degree\n",
    "2. Predict from the max temperature of 1 day prior: max temperature would be the max temperature yesterday ±5 degree\n",
    "\n",
    "We can calculate the average error of prediction from random forest algorithm and those two baseline methods."
   ]
  },
  {
   "cell_type": "code",
   "execution_count": 12,
   "metadata": {},
   "outputs": [
    {
     "name": "stdout",
     "output_type": "stream",
     "text": [
      "Average absolute error of random forest (degree): 3.2946969697\n",
      "Average absolute error of prediction from his_max (degree): 8.09090909091\n",
      "Average absolute error of prediction from max_1 (degree): 3.74545454545\n"
     ]
    },
    {
     "data": {
      "image/png": "[encoded data removed]",
      "text/plain": [
       "<matplotlib.figure.Figure at 0x1a1616b7f0>"
      ]
     },
     "metadata": {},
     "output_type": "display_data"
    }
   ],
   "source": [
    "errors = abs(predictions - test_results)\n",
    "\n",
    "# Baseline: predict max temperature from 2016 daily summaries\n",
    "test_his_max = test_features[:, 3] + randint(-5, 5)\n",
    "errors_baseline_his_max = abs(test_his_max - test_results)\n",
    "\n",
    "# Baseline: predict max temperature from the max temperature of 1 day prior\n",
    "test_max_1 = test_features[:, 4] + randint(-5, 5)\n",
    "errors_baseline_max_1 = abs(test_max_1 - test_results)\n",
    "\n",
    "print('Average absolute error of random forest (degree):', np.mean(errors))\n",
    "print('Average absolute error of prediction from his_max (degree):',np.mean(errors_baseline_his_max))\n",
    "print('Average absolute error of prediction from max_1 (degree):',np.mean(errors_baseline_max_1))\n",
    "\n",
    "plt.plot(errors_baseline_his_max, 'g', label='his_max_result')\n",
    "plt.plot(errors_baseline_max_1, 'y', label='max_1_result')\n",
    "plt.plot(errors, 'r', label='rf_result')\n",
    "plt.title('Aboslute Error of Prediction (degree)')\n",
    "plt.legend()\n",
    "plt.show()"
   ]
  },
  {
   "cell_type": "markdown",
   "metadata": {},
   "source": [
    "Average accuracy of prediction with random forest algorithm can also be calculated."
   ]
  },
  {
   "cell_type": "code",
   "execution_count": 13,
   "metadata": {},
   "outputs": [
    {
     "name": "stdout",
     "output_type": "stream",
     "text": [
      "Average accuracy from random forest regressor: 95.86 %\n"
     ]
    }
   ],
   "source": [
    "scores = 1 - errors / test_results\n",
    "print('Average accuracy from random forest regressor:', np.round(scores.mean() * 100, 2), '%')"
   ]
  },
  {
   "cell_type": "markdown",
   "metadata": {},
   "source": [
    "As can be seen above, random forest algorithm reaches a high accuracy on prediction of max temperature, and its absolute errors on temperatures are lower compared to those two baselines. Though the prediction from max temperature of 1 day prior also reaches a relatively low absolute error in degree, the errors of results from random forest are always lower still."
   ]
  },
  {
   "cell_type": "markdown",
   "metadata": {},
   "source": [
    "### Visualization on one of the tree in forest\n",
    "\n",
    "`scikit-learn` library provides way to access the decision trees in the forest. Below is the visualization of the tree with index 1 in the forest. It's a very broad tree actually. You can directly open `tree.png` to see the details in it if interested."
   ]
  },
  {
   "cell_type": "code",
   "execution_count": 14,
   "metadata": {},
   "outputs": [],
   "source": [
    "tree_index = 1\n",
    "decision_tree = rf.estimators_[tree_index]\n",
    "export_graphviz(decision_tree, out_file = 'tree.dot', feature_names = attributes_names, rounded = True, precision = 1)\n",
    "(graph, ) = pydot.graph_from_dot_file('tree.dot')\n",
    "graph.write_png('tree.png')"
   ]
  },
  {
   "cell_type": "markdown",
   "metadata": {},
   "source": [
    "![tree](tree.png)"
   ]
  },
  {
   "cell_type": "markdown",
   "metadata": {},
   "source": [
    "### Feature Importance\n",
    "\n",
    "An additional feature that random forest provides is the feature importance values. From feature importance values, we can have an idea of which attributes are more relative to give a prediction."
   ]
  },
  {
   "cell_type": "code",
   "execution_count": 15,
   "metadata": {},
   "outputs": [
    {
     "data": {
      "text/html": [
       "<div>\n",
       "<style>\n",
       "    .dataframe thead tr:only-child th {\n",
       "        text-align: right;\n",
       "    }\n",
       "\n",
       "    .dataframe thead th {\n",
       "        text-align: left;\n",
       "    }\n",
       "\n",
       "    .dataframe tbody tr th {\n",
       "        vertical-align: top;\n",
       "    }\n",
       "</style>\n",
       "<table border=\"1\" class=\"dataframe\">\n",
       "  <thead>\n",
       "    <tr style=\"text-align: right;\">\n",
       "      <th></th>\n",
       "      <th>importance</th>\n",
       "    </tr>\n",
       "    <tr>\n",
       "      <th>feature</th>\n",
       "      <th></th>\n",
       "    </tr>\n",
       "  </thead>\n",
       "  <tbody>\n",
       "    <tr>\n",
       "      <th>max_1</th>\n",
       "      <td>0.292</td>\n",
       "    </tr>\n",
       "    <tr>\n",
       "      <th>avg_1</th>\n",
       "      <td>0.256</td>\n",
       "    </tr>\n",
       "    <tr>\n",
       "      <th>max_2</th>\n",
       "      <td>0.162</td>\n",
       "    </tr>\n",
       "    <tr>\n",
       "      <th>avg_2</th>\n",
       "      <td>0.128</td>\n",
       "    </tr>\n",
       "    <tr>\n",
       "      <th>his_max</th>\n",
       "      <td>0.064</td>\n",
       "    </tr>\n",
       "    <tr>\n",
       "      <th>min_1</th>\n",
       "      <td>0.028</td>\n",
       "    </tr>\n",
       "    <tr>\n",
       "      <th>min_2</th>\n",
       "      <td>0.025</td>\n",
       "    </tr>\n",
       "    <tr>\n",
       "      <th>month</th>\n",
       "      <td>0.025</td>\n",
       "    </tr>\n",
       "    <tr>\n",
       "      <th>day</th>\n",
       "      <td>0.014</td>\n",
       "    </tr>\n",
       "    <tr>\n",
       "      <th>weekday</th>\n",
       "      <td>0.007</td>\n",
       "    </tr>\n",
       "  </tbody>\n",
       "</table>\n",
       "</div>"
      ],
      "text/plain": [
       "         importance\n",
       "feature            \n",
       "max_1         0.292\n",
       "avg_1         0.256\n",
       "max_2         0.162\n",
       "avg_2         0.128\n",
       "his_max       0.064\n",
       "min_1         0.028\n",
       "min_2         0.025\n",
       "month         0.025\n",
       "day           0.014\n",
       "weekday       0.007"
      ]
     },
     "execution_count": 15,
     "metadata": {},
     "output_type": "execute_result"
    }
   ],
   "source": [
    "importances = pd.DataFrame({'feature': attributes_names, 'importance': np.round(rf.feature_importances_, 3)})\n",
    "importances = importances.sort_values('importance', ascending = False).set_index('feature')\n",
    "importances"
   ]
  },
  {
   "cell_type": "markdown",
   "metadata": {},
   "source": [
    "From the above table, we can see the max temperature of 1 day prior affects the prediction most. This result also explains why the absolute errors of prediction from max temperature of 1 day prior is relatively small than the other baseline.\n",
    "\n",
    "The importance of attributes are visualized below."
   ]
  },
  {
   "cell_type": "code",
   "execution_count": 16,
   "metadata": {},
   "outputs": [
    {
     "data": {
      "image/png": "[encoded data removed]",
      "text/plain": [
       "<matplotlib.figure.Figure at 0x1a20185438>"
      ]
     },
     "metadata": {},
     "output_type": "display_data"
    }
   ],
   "source": [
    "x = np.arange(len(importances.index))\n",
    "plt.bar(x, height=importances.importance, align='center')\n",
    "plt.title('Feature Importance')\n",
    "plt.xticks(x, importances.index)\n",
    "plt.show()"
   ]
  },
  {
   "cell_type": "markdown",
   "metadata": {},
   "source": [
    "Some of the attributes are comparably irrelevant, like `min_1`, `month`, `min_2` etc. We can assume that dropping those attributes won't hurt on the prediction. Here drop two columns `min_1` and `min_2` and train the random forest again."
   ]
  },
  {
   "cell_type": "code",
   "execution_count": 17,
   "metadata": {},
   "outputs": [
    {
     "name": "stdout",
     "output_type": "stream",
     "text": [
      "Average absolute error of random forest (degree): 3.34880519481\n",
      "Average accuracy from random forest regressor: 95.8 %\n"
     ]
    }
   ],
   "source": [
    "# Drop min_1 and min_2 from attributes\n",
    "train_features = np.delete(train_features, np.s_[6:7], axis=1)\n",
    "test_features = np.delete(test_features, np.s_[6:7], axis=1)\n",
    "\n",
    "rf = RandomForestRegressor(n_estimators=700, max_features='sqrt', oob_score=True, n_jobs=-1, random_state=1)\n",
    "rf.fit(train_features, train_results)\n",
    "\n",
    "predictions = rf.predict(test_features)\n",
    "errors = abs(predictions - test_results)\n",
    "print('Average absolute error of random forest (degree):', np.mean(errors))\n",
    "scores = 1 - errors / test_results\n",
    "print('Average accuracy from random forest regressor:', np.round(scores.mean() * 100, 2), '%')"
   ]
  },
  {
   "cell_type": "markdown",
   "metadata": {},
   "source": [
    "According to the results from new random forest, the accuracy doesn't drop after removing two attributes from the dataset. Thus, feature importance values are good references for other learning methods to prevent overfitting."
   ]
  },
  {
   "cell_type": "markdown",
   "metadata": {},
   "source": [
    "## Conclusion\n",
    "\n",
    "Random forest is a learning method useful in classification and regression problems. It has advantages like avoiding overfitting, able to deal with missing data and relatively fast and simple to use. There can be a lot of applications based on random forest in different fields including banking and e-commerce.\n",
    "\n",
    "In the example above, random forest algorithm gives a decent result on predicting max temperatures. And from feature importance values, we can easily tell the max temperature of 1 day prior affects the prediction most, as well as that some attributes like min temperatures are not as relevant."
   ]
  },
  {
   "cell_type": "markdown",
   "metadata": {},
   "source": [
    "## References\n",
    "\n",
    "[1] Ensemble Methods http://scikit-learn.org/dev/modules/ensemble.html#forests-of-randomized-trees\n",
    "\n",
    "[2] How decision tree algorithm works https://dataaspirant.com/2017/01/30/how-decision-tree-algorithm-works/ \n",
    "\n",
    "[3] How the random forest algorithm works in machine learning http://dataaspirant.com/2017/05/22/random-forest-algorithm-machine-learing/\n",
    "\n",
    "[4] Random Forests in Python https://towardsdatascience.com/random-forest-in-python-24d0893d51c0\n",
    "\n",
    "[5] End to End Project with Python https://www.kaggle.com/niklasdonges/end-to-end-project-with-python"
   ]
  }
 ],
 "metadata": {
  "kernelspec": {
   "display_name": "Python 3",
   "language": "python",
   "name": "python3"
  },
  "language_info": {
   "codemirror_mode": {
    "name": "ipython",
    "version": 3
   },
   "file_extension": ".py",
   "mimetype": "text/x-python",
   "name": "python",
   "nbconvert_exporter": "python",
   "pygments_lexer": "ipython3",
   "version": "3.6.3"
  }
 },
 "nbformat": 4,
 "nbformat_minor": 2
}
