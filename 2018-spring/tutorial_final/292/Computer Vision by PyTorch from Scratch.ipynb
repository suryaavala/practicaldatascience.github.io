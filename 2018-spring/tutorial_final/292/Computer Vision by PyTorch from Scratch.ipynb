{
 "cells": [
  {
   "cell_type": "markdown",
   "metadata": {},
   "source": [
    "# Computer Vision by PyTorch from Scratch"
   ]
  },
  {
   "cell_type": "markdown",
   "metadata": {},
   "source": [
    "PyTorch is a powerful tool to prototype Neural Network which is a widely-spread deep learning algorithm applied in many pratical fields. In this tutorial, we are going to talk about some basis of this framework and use PyTorch to build a small Neural Network to solve an interesing Computer Vision classification problem."
   ]
  },
  {
   "cell_type": "code",
   "execution_count": 1,
   "metadata": {},
   "outputs": [],
   "source": [
    "import matplotlib\n",
    "matplotlib.use(\"svg\")\n",
    "import matplotlib.pyplot as plt\n",
    "%matplotlib inline\n",
    "plt.style.use('ggplot')\n",
    "matplotlib.rcParams['figure.figsize'] = (10.0, 5.0) # you should adjust this to fit your screen"
   ]
  },
  {
   "cell_type": "markdown",
   "metadata": {},
   "source": [
    "Before we talk about PyTorch, let's first talk about numpy. In pratical data sciences today, most of the Machine Learning algorithms are implememnted through matrices. Numpy is also known as a famous library which deals with matrices. So, let's see some connection and comparison between two libraries."
   ]
  },
  {
   "cell_type": "code",
   "execution_count": 2,
   "metadata": {},
   "outputs": [
    {
     "name": "stdout",
     "output_type": "stream",
     "text": [
      "array([[ 0.04943347,  0.63093764,  0.62319583],\n",
      "       [ 0.8915984 ,  0.5279544 ,  0.60156339],\n",
      "       [ 0.03036225,  0.84217393,  0.88641548],\n",
      "       [ 0.04505414,  0.13173079,  0.63485622],\n",
      "       [ 0.83734661,  0.44466114,  0.37308985]], dtype=float32)\n",
      "\n",
      " 0.7196  0.6654  0.1477\n",
      " 0.2570  0.7907  0.8597\n",
      " 0.4610  0.4650  0.4002\n",
      " 0.1285  0.9168  0.7316\n",
      " 0.5982  0.3678  0.3192\n",
      "[torch.DoubleTensor of size 5x3]\n",
      "\n"
     ]
    }
   ],
   "source": [
    "# The n-dimension array in PyTorch is called Tensor\n",
    "import torch\n",
    "import numpy as np\n",
    "from pprint import pprint\n",
    "\n",
    "# Torch tensor can easily be translated to numpy array.\n",
    "x = torch.rand(5, 3)\n",
    "pprint(x.numpy())\n",
    "\n",
    "# Also tensor can be easily initiated through numpy array.\n",
    "y = torch.from_numpy(np.random.rand(5, 3))\n",
    "pprint(y)"
   ]
  },
  {
   "cell_type": "markdown",
   "metadata": {},
   "source": [
    "For batch data processing in GPU is much faster than in single thread CPU, so nowadays, people are more and more willing to make their Machine Learning algorithms 'born with' parallelism. Because of this, researchers and engineers tend to use PyTorch to prototype instead of numpy for the latter is short of GPU support. Now let's dive a little deep to see what else PyTorch can do with its well-known power over building a Neural Network."
   ]
  },
  {
   "cell_type": "markdown",
   "metadata": {},
   "source": [
    "`autograd` is a module in PyTorch to calculate the gradient automatically once you define the layer(forward feed in Neural Network). Let's try doing an easy gradient calculation using PyTorch."
   ]
  },
  {
   "cell_type": "code",
   "execution_count": 3,
   "metadata": {},
   "outputs": [
    {
     "name": "stdout",
     "output_type": "stream",
     "text": [
      "Variable containing:\n",
      " 4\n",
      "[torch.FloatTensor of size 1]\n",
      "\n"
     ]
    }
   ],
   "source": [
    "from torch.autograd import Variable\n",
    "\n",
    "# If we try to calculate the derivative of x due to y(dy/dx)\n",
    "# Derivative is a special case of gradient, as it has only a single dimension.\n",
    "x = Variable(torch.ones(1), requires_grad=True)\n",
    "y = x * x + 2 * x + 1\n",
    "\n",
    "# We need to pass the structure of x.\n",
    "y.backward(x)\n",
    "pprint(x.grad)"
   ]
  },
  {
   "cell_type": "markdown",
   "metadata": {},
   "source": [
    "As we can see the result is $4$. Basically, we can see the derivative of the function is $2 \\times x + 2$, and we apply $x = 1$ to the derivative, we get $\\frac{dy}{dx} = 4$. This answer is the same as the `autograd` module gives us. For this is just a very basic function in calculating gradient, we can compute the derivative by ourselves, but when we have a much complicated one, which is a common case in multi-layer Neural Network, `autograd` can be our life-saver. Another important thing is you will never worry about the correctness of `autograd`, which makes our lives much easier. Let's see a real Neural Network example to feel the convenience that `autograd` brings to us."
   ]
  },
  {
   "cell_type": "markdown",
   "metadata": {},
   "source": [
    "We are about to build a fully connected Neural Network with only one-hidden layer. The post-activition function of that hidden layer is **sigmoid**. As you may have no idea is the derivative of sigmoid is, or you may even don't know what sigmoid is, while you may heard sigmoid is a good candidate post-activition function for Neural Network. In PyTorch, you can just directly use it without worrying all the above."
   ]
  },
  {
   "cell_type": "code",
   "execution_count": 4,
   "metadata": {},
   "outputs": [
    {
     "data": {
      "image/png": "[encoded data removed]",
      "text/plain": [
       "<matplotlib.figure.Figure at 0x1113a78d0>"
      ]
     },
     "metadata": {},
     "output_type": "display_data"
    }
   ],
   "source": [
    "# N is the number of the label data, M is the feature size.\n",
    "# H is the hidden layer size, D is the output size.\n",
    "N, M, H, O = 16, 200, 40, 8\n",
    "\n",
    "# Specify the data type for the Tensor in PyTorch.\n",
    "dtype = torch.FloatTensor\n",
    "\n",
    "# The input labeled examples, as we don't need to compute the gradients for them,\n",
    "# we specify it at initialization, which prevents extra computation in backward.\n",
    "x = Variable(torch.randn(N, M).type(dtype), requires_grad=False)\n",
    "y = Variable(torch.randn(N, O).type(dtype), requires_grad=False)\n",
    "\n",
    "# The weights for each layer, these are the actual parameters we are going to optimize.\n",
    "# w1 is the weights for the hidden layer, w2 is for the output layer.\n",
    "w1 = Variable(torch.randn(M, H).type(dtype), requires_grad=True)\n",
    "w2 = Variable(torch.randn(H, O).type(dtype), requires_grad=True)\n",
    "\n",
    "# Let's begin our computation!\n",
    "learning_rate = 1e-4\n",
    "losses = []\n",
    "for i in range(500):\n",
    "    y_pred = x.mm(w1).sigmoid().mm(w2)\n",
    "    \n",
    "    # The square loss function.\n",
    "    loss = (y - y_pred).pow(2).sum()\n",
    "    losses.append(loss.data[0])\n",
    "        \n",
    "    loss.backward()\n",
    "    \n",
    "    # Update the weight with gradients\n",
    "    w1.data -= learning_rate * w1.grad.data\n",
    "    w2.data -= learning_rate * w2.grad.data\n",
    "    \n",
    "    # Make the temporary gradient calculation zero.\n",
    "    w1.grad.data.zero_()\n",
    "    w2.grad.data.zero_()\n",
    "\n",
    "plt.plot(losses)\n",
    "plt.show()"
   ]
  },
  {
   "cell_type": "markdown",
   "metadata": {},
   "source": [
    "We can observe that our Network converges. In the code above, we never explicit call or define how the back propagation should goes on, because the autograd module just help us compute those once we define the behavior of the feed-forward in Neural Network. You may have question about how this Neural Network utilize the power of GPU? It is very simple. Just define the data type as `torch.cuda.FloatTensor` if your PyTorch supports cuda.\n",
    "\n",
    "Let's move foward to `nn` package which a higher level abstraction of building Neural Networks. Actually, when we define Neural Network, we don't need to dive deep into each operation in the function. What we usually see in the paper are what they have done in each **layer** or how they combine different existing **layers**. What I am saying is in most of the time, we just need to define the attibute of the layers, not actually creating new fancy operations. Let's take a brief look on how to use `nn` package to define a Neural Network. To be honest, it is relatively similar as using `autgrad` for `nn` depends a lot on `autograd`."
   ]
  },
  {
   "cell_type": "markdown",
   "metadata": {},
   "source": [
    "We are going to build the above Neural Network above with the `nn` package."
   ]
  },
  {
   "cell_type": "code",
   "execution_count": 5,
   "metadata": {},
   "outputs": [
    {
     "data": {
      "image/png": "[encoded data removed]",
      "text/plain": [
       "<matplotlib.figure.Figure at 0x1190917b8>"
      ]
     },
     "metadata": {},
     "output_type": "display_data"
    }
   ],
   "source": [
    "import torch.nn as nn\n",
    "\n",
    "from collections import OrderedDict\n",
    "\n",
    "# Same setting here.\n",
    "N, M, H, O = 16, 200, 40, 8\n",
    "\n",
    "dtype = torch.FloatTensor\n",
    "\n",
    "x = Variable(torch.randn(N, M).type(dtype))\n",
    "y = Variable(torch.randn(N, O).type(dtype), requires_grad=False)\n",
    "\n",
    "model = nn.Sequential(\n",
    "    OrderedDict([\n",
    "        # hidden layer 1\n",
    "        ('linear1', nn.Linear(M, H)),\n",
    "        ('sigmoid1', nn.Sigmoid()),\n",
    "\n",
    "        # output layer\n",
    "        ('output', nn.Linear(H, O)),\n",
    "    ])\n",
    ")\n",
    "\n",
    "loss_fn = nn.MSELoss(size_average=False)\n",
    "optimizer = torch.optim.SGD(model.parameters(), lr=1e-3)\n",
    "\n",
    "losses = []\n",
    "for i in range(500):\n",
    "    loss = loss_fn(model(x), y)\n",
    "    losses.append(loss.data[0])\n",
    "\n",
    "    optimizer.zero_grad()\n",
    "    loss.backward()\n",
    "    optimizer.step()\n",
    "\n",
    "plt.plot(losses)\n",
    "plt.show()"
   ]
  },
  {
   "cell_type": "markdown",
   "metadata": {},
   "source": [
    "As you see, two weights $w1$ and $w2$ which is used to be updated by ourselves is now managed by the `nn` package. We can define multiple complicated layers in the `nn.Sequential` module and label them with some intuitive names. The clear declaration way of buiding Neural Network strongly improve the maintainence of the code. Also in this version, the loss function and the update function are also two parameterizable module."
   ]
  },
  {
   "cell_type": "markdown",
   "metadata": {},
   "source": [
    "Okay, it's time to step forward to make our hands dirty and do some real work. Neural Network is very powerful in Computer Vision. The reason behind this is that the kernel(or the feature extracter) which is used to be pre-defined in Computer Vision, can actually be trained through Neural Network! Let's first see an simple example Neural Network with Convolutional Layer."
   ]
  },
  {
   "cell_type": "code",
   "execution_count": 6,
   "metadata": {},
   "outputs": [
    {
     "name": "stdout",
     "output_type": "stream",
     "text": [
      "MyNeuralNetwork(\n",
      "  (feature_model): Sequential(\n",
      "    (conv1): Conv2d(1, 2, kernel_size=(5, 5), stride=(1, 1))\n",
      "    (relu1): ReLU()\n",
      "    (pool1): MaxPool2d(kernel_size=(2, 2), stride=(2, 2), dilation=(1, 1), ceil_mode=False)\n",
      "    (conv2): Conv2d(2, 8, kernel_size=(5, 5), stride=(1, 1))\n",
      "    (relu2): ReLU()\n",
      "    (pool2): MaxPool2d(kernel_size=(2, 2), stride=(2, 2), dilation=(1, 1), ceil_mode=False)\n",
      "  )\n",
      "  (classifier): Sequential(\n",
      "    (line3): Linear(in_features=200, out_features=80, bias=True)\n",
      "    (relu3): ReLU()\n",
      "    (line4): Linear(in_features=80, out_features=5, bias=True)\n",
      "  )\n",
      ")\n",
      "Variable containing:\n",
      " 0.0847  0.0606 -0.0399 -0.1014 -0.0178\n",
      "[torch.FloatTensor of size 1x5]\n",
      "\n"
     ]
    }
   ],
   "source": [
    "class MyNeuralNetwork(nn.Module):\n",
    "    def __init__(self):\n",
    "        super(MyNeuralNetwork, self).__init__()\n",
    "        self.feature_model = nn.Sequential(\n",
    "            OrderedDict([\n",
    "                # 1\n",
    "                ('conv1', nn.Conv2d(1, 2, 5)),\n",
    "                ('relu1', nn.ReLU()),\n",
    "                ('pool1', nn.MaxPool2d(2)),\n",
    "                \n",
    "                # 2\n",
    "                ('conv2', nn.Conv2d(2, 8, 5)),\n",
    "                ('relu2', nn.ReLU()),\n",
    "                ('pool2', nn.MaxPool2d(2)),\n",
    "            ])\n",
    "        )\n",
    "\n",
    "        self.classifier = nn.Sequential(\n",
    "            OrderedDict([\n",
    "                # 3\n",
    "                ('line3', nn.Linear(8 * 5 * 5, 80)),\n",
    "                ('relu3', nn.ReLU()),\n",
    "                \n",
    "                # 4\n",
    "                ('line4', nn.Linear(80, 5)),\n",
    "            ])\n",
    "        )\n",
    "\n",
    "    def forward(self, x):\n",
    "        x = self.feature_model(x)\n",
    "        x = x.view(-1, 8 * 5 * 5)\n",
    "        x = self.classifier(x)\n",
    "        return x\n",
    "\n",
    "\n",
    "net = MyNeuralNetwork()\n",
    "pprint(net)\n",
    "\n",
    "out = net(Variable(torch.randn(1, 1, 32, 32)))\n",
    "pprint(out)\n",
    "net.zero_grad()\n",
    "out.backward(torch.ones(1, 5))"
   ]
  },
  {
   "cell_type": "markdown",
   "metadata": {},
   "source": [
    "The Neural Network above is a very simple Convolutional Neural Network. It has two convolutional layers, which both uses a $5 \\times 5$ kernel. The first layer uses a single $32 \\times 32$ matrix as input and outputs 6 $28 \\times 28$ matrices. This is because after applying convolution operation, the matrix itself would get smaller. The shrink size is the size of the kernel - 1, therefore we can get $32 - 5 + 1 = 28$. What worth mention here is the reason we try to use convolutional layer instead of traditional fully-connected Neural Network. Besides the reason we state above, its relationship to the 'feature extractor' by analogy, another important reason is the performance concern. Convolutional layer have more parallelism in computation and less data to compute.\n",
    "\n",
    "After that, we also apply the same two additional operation in two layer, `ReLU` as an usual post-activition layer and a `MaxPool` layer as a subsample pooling layer. `ReLU` is a popular function that researchers discover that it performs better in Computer Vision problem than `sigmoid` as a usual post-activition. `MaxPool` is a pretty good way to 'manually' control the size of the matrix. For convolution operation automatically decrease the size of the matrix, people tend to add padding to recover it and then use Pooling mechanism instead to control the size of the data, which also out-performs in practice. These are both common strategies in Convolutional Neural Network when it is used to solve Computer Vision problem.\n",
    "\n",
    "One the second convolutional layer, the input size is the output size of the last layer which is $2$ in this net. With output size is $8$, we can conclude the number of the all elements in the output should be $8 \\times [(14 - 5 + 1) / 2]^2$.\n",
    "\n",
    "This time, we have done all the work that traditional Computer Vision algorithm have done, namely **feature extraction**. After that, we can use classification algorithms, like a fully-connected network, to classify the picture or detect the things. So, after the feature extracting, or probabaly feature learning is a better name, we add a single hidden-layer Neural Network to do classification. As this time, we are not treating data as matrix, we just flatten the outputs and handle them as a vector. For we have discussed a lot about fully-connected Neural Network, we just skip talking about this part."
   ]
  },
  {
   "cell_type": "markdown",
   "metadata": {},
   "source": [
    "Let's move to make a real example to classify images through buiding a Neural Network by PyTorch. A very basic thing that the Convolutional Neural Network can do is classifying handwriting numbers. For the simplicity of the problem, we can just modify a little based on the above Convolutional Neural Network."
   ]
  },
  {
   "cell_type": "code",
   "execution_count": 7,
   "metadata": {
    "collapsed": true
   },
   "outputs": [],
   "source": [
    "class MyNeuralNetwork(nn.Module):\n",
    "    def __init__(self):\n",
    "        super(MyNeuralNetwork, self).__init__()\n",
    "        self.feature_model = nn.Sequential(\n",
    "            OrderedDict([\n",
    "                # 1\n",
    "                ('conv1', nn.Conv2d(1, 10, 5)),\n",
    "                ('relu1', nn.ReLU()),\n",
    "                ('pool1', nn.MaxPool2d(2)),\n",
    "                \n",
    "                # 2\n",
    "                ('conv2', nn.Conv2d(10, 20, 5)),\n",
    "                ('relu2', nn.ReLU()),\n",
    "                ('pool2', nn.MaxPool2d(2)),\n",
    "\n",
    "            ])\n",
    "        )\n",
    "        \n",
    "        self.classifier = nn.Sequential(\n",
    "            OrderedDict([\n",
    "                # 3\n",
    "                ('line3', nn.Linear(320, 50)),\n",
    "                ('relu3', nn.ReLU()),\n",
    "\n",
    "                # 4\n",
    "                ('line4', nn.Linear(50, 10)),\n",
    "                ('soft4', nn.LogSoftmax(dim=1))\n",
    "            ])\n",
    "        )\n",
    "\n",
    "    def forward(self, x):\n",
    "        x = self.feature_model(x)\n",
    "        x = x.view(-1, 320)\n",
    "        x = self.classifier(x)\n",
    "        return x"
   ]
  },
  {
   "cell_type": "markdown",
   "metadata": {},
   "source": [
    "As you see above we just update the parameters of some functions. The input image size of this network is $28 \\times 28$. The final output layer we use the `LogSoftmax` function which is also known as a good classification function. Let's load some data and train it."
   ]
  },
  {
   "cell_type": "code",
   "execution_count": 8,
   "metadata": {},
   "outputs": [
    {
     "data": {
      "image/png": "[encoded data removed]",
      "text/plain": [
       "<matplotlib.figure.Figure at 0x11906e080>"
      ]
     },
     "metadata": {},
     "output_type": "display_data"
    }
   ],
   "source": [
    "import torch.utils.data as torch_data\n",
    "from torchvision import datasets, transforms\n",
    "\n",
    "# This loader is cited from https://github.com/pytorch/examples/blob/master/mnist/main.py\n",
    "train_loader = torch_data.DataLoader(\n",
    "    datasets.MNIST('../data', train=True, download=True,\n",
    "                   transform=transforms.Compose([\n",
    "                       transforms.ToTensor(),\n",
    "                       transforms.Normalize((0.1307,), (0.3081,))\n",
    "                   ])), batch_size=64, shuffle=True)\n",
    "\n",
    "model = MyNeuralNetwork()\n",
    "optimizer = torch.optim.SGD(model.parameters(), lr=1e-2, momentum=0.5)\n",
    "\n",
    "model.train()\n",
    "losses = []\n",
    "for i, (x, y) in enumerate(train_loader):\n",
    "    x, y = Variable(x), Variable(y)\n",
    "    optimizer.zero_grad()\n",
    "    y_pred = model(x)\n",
    "    loss = torch.nn.functional.nll_loss(y_pred, y)\n",
    "    loss.backward()\n",
    "    optimizer.step()\n",
    "    if i % 10 == 0:\n",
    "        losses.append(loss.data[0])\n",
    "\n",
    "plt.plot(losses)\n",
    "plt.show()"
   ]
  },
  {
   "cell_type": "markdown",
   "metadata": {},
   "source": [
    "We can also load the test data to see the performance of our trained network."
   ]
  },
  {
   "cell_type": "code",
   "execution_count": 9,
   "metadata": {},
   "outputs": [
    {
     "ename": "NameError",
     "evalue": "name 'test_loss' is not defined",
     "output_type": "error",
     "traceback": [
      "\u001b[0;31m---------------------------------------------------------------------------\u001b[0m",
      "\u001b[0;31mNameError\u001b[0m                                 Traceback (most recent call last)",
      "\u001b[0;32m<ipython-input-9-d4e059a12bc3>\u001b[0m in \u001b[0;36m<module>\u001b[0;34m()\u001b[0m\n\u001b[1;32m     14\u001b[0m     \u001b[0mcorrect\u001b[0m \u001b[0;34m+=\u001b[0m \u001b[0mpred\u001b[0m\u001b[0;34m.\u001b[0m\u001b[0meq\u001b[0m\u001b[0;34m(\u001b[0m\u001b[0my\u001b[0m\u001b[0;34m.\u001b[0m\u001b[0mdata\u001b[0m\u001b[0;34m.\u001b[0m\u001b[0mview_as\u001b[0m\u001b[0;34m(\u001b[0m\u001b[0mpred\u001b[0m\u001b[0;34m)\u001b[0m\u001b[0;34m)\u001b[0m\u001b[0;34m.\u001b[0m\u001b[0mlong\u001b[0m\u001b[0;34m(\u001b[0m\u001b[0;34m)\u001b[0m\u001b[0;34m.\u001b[0m\u001b[0mcpu\u001b[0m\u001b[0;34m(\u001b[0m\u001b[0;34m)\u001b[0m\u001b[0;34m.\u001b[0m\u001b[0msum\u001b[0m\u001b[0;34m(\u001b[0m\u001b[0;34m)\u001b[0m \u001b[0;31m# Get number of the correctness\u001b[0m\u001b[0;34m\u001b[0m\u001b[0m\n\u001b[1;32m     15\u001b[0m \u001b[0;34m\u001b[0m\u001b[0m\n\u001b[0;32m---> 16\u001b[0;31m \u001b[0mtest_loss\u001b[0m \u001b[0;34m/=\u001b[0m \u001b[0mlen\u001b[0m\u001b[0;34m(\u001b[0m\u001b[0mtest_loader\u001b[0m\u001b[0;34m.\u001b[0m\u001b[0mdataset\u001b[0m\u001b[0;34m)\u001b[0m\u001b[0;34m\u001b[0m\u001b[0m\n\u001b[0m\u001b[1;32m     17\u001b[0m print('Test ser accuracy: {}/{} ({:.0f}%)\\n'.format(\n\u001b[1;32m     18\u001b[0m     \u001b[0mcorrect\u001b[0m\u001b[0;34m,\u001b[0m \u001b[0mlen\u001b[0m\u001b[0;34m(\u001b[0m\u001b[0mtest_loader\u001b[0m\u001b[0;34m.\u001b[0m\u001b[0mdataset\u001b[0m\u001b[0;34m)\u001b[0m\u001b[0;34m,\u001b[0m\u001b[0;34m\u001b[0m\u001b[0m\n",
      "\u001b[0;31mNameError\u001b[0m: name 'test_loss' is not defined"
     ]
    }
   ],
   "source": [
    "# This loader is cited from https://github.com/pytorch/examples/blob/master/mnist/main.py\n",
    "test_loader = torch_data.DataLoader(\n",
    "    datasets.MNIST('../data', train=False, transform=transforms.Compose([\n",
    "                       transforms.ToTensor(),\n",
    "                       transforms.Normalize((0.1307,), (0.3081,))\n",
    "                   ])), batch_size=1000, shuffle=True)\n",
    "\n",
    "model.eval()\n",
    "correct = 0\n",
    "for x, y in test_loader:\n",
    "    x, y = Variable(x, volatile=True), Variable(y)\n",
    "    y_pred = model(x)\n",
    "    pred = y_pred.data.max(1, keepdim=True)[1] # Get the idex of the max log-probability\n",
    "    correct += pred.eq(y.data.view_as(pred)).long().cpu().sum() # Get number of the correctness\n",
    "\n",
    "print('Test ser accuracy: {}/{} ({:.0f}%)\\n'.format(\n",
    "    correct, len(test_loader.dataset),\n",
    "    100. * correct / len(test_loader.dataset)))"
   ]
  }
 ],
 "metadata": {
  "kernelspec": {
   "display_name": "Python 3",
   "language": "python",
   "name": "python3"
  },
  "language_info": {
   "codemirror_mode": {
    "name": "ipython",
    "version": 3
   },
   "file_extension": ".py",
   "mimetype": "text/x-python",
   "name": "python",
   "nbconvert_exporter": "python",
   "pygments_lexer": "ipython3",
   "version": "3.6.3"
  }
 },
 "nbformat": 4,
 "nbformat_minor": 2
}
