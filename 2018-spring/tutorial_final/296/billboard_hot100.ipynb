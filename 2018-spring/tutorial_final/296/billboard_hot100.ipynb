{
 "cells": [
  {
   "cell_type": "markdown",
   "metadata": {
    "colab_type": "text",
    "id": "34mL3kgWxb5-"
   },
   "source": [
    "# Introduction\n",
    "This is a brief tutorial that guides you to make good use of music data, mainly lyrics. \n",
    "\n",
    "Most people like me love music. We listen to music every day, and it seems that we know much about it. However, it does not acutually. Most of us care only about the songs they listen. Thus, usually we do not catch the whole picture of the modern music world even though thousands of songs are being generating every year. One of the most popular chart is the Billboard Hot100, through which we know the style tread in these days. Here I want to make it as an example, developing a pipeline to have all the lyrics data we need to do more advanced data analysis later.\n",
    "\n",
    "During the following short but detailed steps, I will show you how to collect lyrics data (more quickly) from Billboard Hot100 Charts within half a century before you can preprocess the raw lyrics with basic or advanced natural language processing techniques, to visualize the clean lyrics using statistic methods, or even you will make some fun of them, that is, write a song of lyrics that matches the trend of Hot 100.\n",
    "\n",
    "![alt text](https://www.billboard.com/files/media/hot100.svg)"
   ]
  },
  {
   "cell_type": "markdown",
   "metadata": {
    "colab_type": "text",
    "id": "2shhGOHo0ZVj"
   },
   "source": [
    "# content\n",
    "Step by step, I will demonstrate the procedure of basic data collection, and some basic data analysis in Python3. I will use some modules such as BeautifulSoup, matplotlib, etc.\n",
    "\n",
    "I am going to use chart data collected from [Billboard the Hot 100](https://www.billboard.com/charts/hot-100) during the last 50 years. Then lyrics will be scraped from https://genius.com/, which is a public repository for large amount of song data. \n",
    "\n",
    "Topics will be covered in this tutorial as following:\n",
    "\n",
    "\n",
    "*   [Installing the libraries](#Installing-the-libraries)\n",
    "*   [Scraping charts data from Billboard.com](#Scraping-Charts-Data-from-Billboard.com)\n",
    "*   [Fetching lyrics data from Genius.com](#Fetching-lyrics-data-from-Genius.com)\n",
    "*   [Collecting all HOT100 lyrics during last 50 years!](#Collecting-all-HOT100-lyrics-during-last-50-years!)\n",
    "*   [Data visualization of lyrics data](#Data-visualization-of-lyrics-data)\n",
    "*   [Generating the HOTTEST lyrics in Billboard](#Generating-the-HOTTEST-lyrics-in-Billboard)\n",
    "*   [Summary and references](#Summary-and-references)"
   ]
  },
  {
   "cell_type": "markdown",
   "metadata": {
    "colab_type": "text",
    "id": "a-dSyGtE5Rdx"
   },
   "source": [
    "# Installing the libraries\n",
    "In this tutorial, basic modules would be used. We can simply using conda or pip to install all we need. Such as:\n",
    "\n",
    "\n",
    "```bash\n",
    "$ pip install --upgrade matplotlib bs4\n",
    "```\n",
    "or\n",
    "\n",
    "\n",
    "```bash\n",
    "$ conda install matplotlib bs4\n",
    "```\n",
    "\n",
    "We can check the available modules in our running environment by running command: *pip list* or *conda list*\n",
    "\n",
    "\n",
    "\n",
    "\n",
    "After installation, make sure you can import all the modules in the following:\n"
   ]
  },
  {
   "cell_type": "code",
   "execution_count": 4,
   "metadata": {
    "colab": {
     "autoexec": {
      "startup": false,
      "wait_interval": 0
     }
    },
    "colab_type": "code",
    "collapsed": true,
    "id": "aTgfJSAo7cwF"
   },
   "outputs": [],
   "source": [
    "import re, requests, os, json\n",
    "from bs4 import BeautifulSoup"
   ]
  },
  {
   "cell_type": "markdown",
   "metadata": {
    "colab_type": "text",
    "id": "j82o1iqU-zB0"
   },
   "source": [
    "# Scraping Charts Data from Billboard.com\n",
    "\n",
    "Everything's ready. Let's get started.\n",
    "\n",
    "First things first, as for the principle of OOD, we're going to construct a class named BillboardChart to store  songs of the Hot 100 chart every week as well as a basic Song class. Here are the class Song full codes and the skeleton of class BillboardChart:\n",
    "\n",
    "\n",
    "\n"
   ]
  },
  {
   "cell_type": "code",
   "execution_count": 5,
   "metadata": {
    "colab": {
     "autoexec": {
      "startup": false,
      "wait_interval": 0
     }
    },
    "colab_type": "code",
    "collapsed": true,
    "id": "rN9SfxLjCQyP"
   },
   "outputs": [],
   "source": [
    "class Song():\n",
    "\n",
    "    def __init__(self, title, artist, lyrics):\n",
    "        \"\"\"\n",
    "        simple song class to store basic info of a song\n",
    "        Args:\n",
    "            title: string, name of the song\n",
    "            artist: string, name(s) of the singer\n",
    "            lyrics: string, lyrics words seperated by spaces\n",
    "        \"\"\"\n",
    "        self.song_info = {}\n",
    "        self.song_info['title'] = title\n",
    "        self.song_info['artist'] = artist\n",
    "        self.song_info['lyrics'] = lyrics"
   ]
  },
  {
   "cell_type": "code",
   "execution_count": 6,
   "metadata": {
    "colab": {
     "autoexec": {
      "startup": false,
      "wait_interval": 0
     },
     "base_uri": "https://localhost:8080/",
     "height": 54,
     "output_extras": [
      {}
     ]
    },
    "colab_type": "code",
    "executionInfo": {
     "elapsed": 1235,
     "status": "ok",
     "timestamp": 1521178866149,
     "user": {
      "displayName": "Yongfa Tan",
      "photoUrl": "//lh6.googleusercontent.com/-GWxtXs6LKAs/AAAAAAAAAAI/AAAAAAACCow/ccWvh2L17f8/s50-c-k-no/photo.jpg",
      "userId": "113642015017178712998"
     },
     "user_tz": 240
    },
    "id": "VMHDfpQkDVM-",
    "outputId": "9c2f410c-7840-4604-dea1-4dd015cd2fc1"
   },
   "outputs": [
    {
     "data": {
      "text/plain": [
       "\"\\nclass BillboardChart:\\n\\n    def __init__(self, chart_name='hot-100', date=None):\\n\\n        self.chart_name = chart_name\\n        self.date = date\\n        self.songs = []\\n        self.valid_lyrics_num = 0\\n\\n    def load_chart_songs(self):\\n\\n        url = 'http://www.billboard.com/charts/%s/%s' % (self.chart_name, self.date)\\n        bb_soup = ...\\n        for i, one_soup in enumerate(bb_soup):\\n            title = title_raw[1].string.strip()\\n            artist = title_raw[3].a.string.strip()\\n            lyrics = get_lyrics_from_title_and_artist(title, artist)\\n            if lyrics:\\n                self.valid_lyrics_num += 1\\n            song = Song(title, artist, lyrics)\\n            self.songs.append(song)\\n\""
      ]
     },
     "execution_count": 6,
     "metadata": {},
     "output_type": "execute_result"
    }
   ],
   "source": [
    "# This code is meant as an overview, not meant to compile\n",
    "'''\n",
    "class BillboardChart:\n",
    "\n",
    "    def __init__(self, chart_name='hot-100', date=None):\n",
    "\n",
    "        self.chart_name = chart_name\n",
    "        self.date = date\n",
    "        self.songs = []\n",
    "        self.valid_lyrics_num = 0\n",
    "\n",
    "    def load_chart_songs(self):\n",
    "\n",
    "        url = 'http://www.billboard.com/charts/%s/%s' % (self.chart_name, self.date)\n",
    "        bb_soup = ...\n",
    "        for i, one_soup in enumerate(bb_soup):\n",
    "            title = title_raw[1].string.strip()\n",
    "            artist = title_raw[3].a.string.strip()\n",
    "            lyrics = get_lyrics_from_title_and_artist(title, artist)\n",
    "            if lyrics:\n",
    "                self.valid_lyrics_num += 1\n",
    "            song = Song(title, artist, lyrics)\n",
    "            self.songs.append(song)\n",
    "'''\n"
   ]
  },
  {
   "cell_type": "markdown",
   "metadata": {
    "colab_type": "text",
    "id": "LAXpmbJfGYez"
   },
   "source": [
    "With these two classes, we can get all the songs information by simply calling:\n",
    "\n",
    "\n",
    "```python\n",
    "chart_hot100_20180317 = BillboardChart(chart_name='hot-100', date='2018-03-17')\n",
    "chart_hot100_20180317.load_chart_songs()\n",
    "```\n",
    "\n",
    "\n",
    "Then we can fulfill our BillboardChart class skeleton one by one.\n",
    "## \\__init__\n",
    "\n",
    "Class BillboardChart has four attributes right now:\n",
    "\n",
    "\n",
    "1.   chart_name: only 'hot-100' will be used in the whole tutorial\n",
    "2.   date: we will iterate every date of Saturday during the last 50 years\n",
    "3.   songs: list of objects of Song\n",
    "4.   valid_lyrics_num: since some lyrics data might be missing, or we couldn't match the title and the artist in some situation, some songs might contains lyrics of None, and here we count the valid number of lyrics for further analysis.\n",
    "\n",
    "\n",
    "In our tasks, we need to ensure that the date formats are valid so that we can get charts from Billboard Hot 100. Therefore, before passing the date, we check its format using regular expression.\n",
    "\n",
    "```python\n",
    "if date and not re.match('\\d{4}-\\d{2}-\\d{2}', str(date)):\n",
    "    print('Wrong Date Format. Correct Format: YYYY-MM-DD')\n",
    "```\n",
    "\n",
    "## load_chart_songs\n",
    "By calling this function once, we get one Billboard chart of 100 songs including their titles, artists and lyrics. Then we can use all the data for analysis. Here are the methods I use to handle the lyrics scraping.\n",
    "\n",
    "### First, \n",
    "in case that no date is input, the latest chart would be loaded. For example, https://www.billboard.com/charts/hot-100 shows us the latest chart web page, while https://www.billboard.com/charts/hot-100/2018-03-10 displays the chart on 2018-03-10.\n",
    "### Second,\n",
    "we would scrape the raw content of a html page from a url. Since we're going to get them several times, we build a simple function here:"
   ]
  },
  {
   "cell_type": "code",
   "execution_count": 7,
   "metadata": {
    "colab": {
     "autoexec": {
      "startup": false,
      "wait_interval": 0
     }
    },
    "colab_type": "code",
    "collapsed": true,
    "id": "Z10Gf8QuPwo9"
   },
   "outputs": [],
   "source": [
    "def get_raw_content_from_url(url):\n",
    "    \"\"\"\n",
    "\n",
    "    Args:\n",
    "        url: string starts with 'http://'\n",
    "\n",
    "    Returns: string of raw text of the html page\n",
    "\n",
    "    \"\"\"\n",
    "    assert url.startswith('http://')\n",
    "    response = requests.get(url=url)\n",
    "    if response.status_code == 200:\n",
    "        response.encoding = 'utf-8'\n",
    "        return response.text\n",
    "    else:\n",
    "        return 'get nothing from this html'"
   ]
  },
  {
   "cell_type": "markdown",
   "metadata": {
    "colab_type": "text",
    "id": "qRzkpig4QIru"
   },
   "source": [
    "By calling this function, we get the raw text of the page. Then we can utilize BeautifulSoup tool to parse the html page. Remember, checking the \"inspect\" of the page by right clicking the page usually helps us find the elements of our targets. Since my codes are straightforward, I will just directly show the codes here to illustrate the parsing process. Then we get a more complete version of class BillboardChart."
   ]
  },
  {
   "cell_type": "code",
   "execution_count": 8,
   "metadata": {
    "colab": {
     "autoexec": {
      "startup": false,
      "wait_interval": 0
     }
    },
    "colab_type": "code",
    "collapsed": true,
    "id": "JndTuVIKRs_z"
   },
   "outputs": [],
   "source": [
    "class BillboardChart:\n",
    "\n",
    "    def __init__(self, chart_name='hot-100', date=None):\n",
    "        \"\"\"\n",
    "        simple billboard chart to store chart name and the specific date\n",
    "        Args:\n",
    "            chart_name: string, here we specify 'hot-100' for our purpose\n",
    "            date: string, valid format is 'YYYY-MM-DD'\n",
    "        \"\"\"\n",
    "\n",
    "        self.chart_name = chart_name\n",
    "\n",
    "        if date and not re.match('\\d{4}-\\d{2}-\\d{2}', str(date)):\n",
    "            print('Wrong Date Format. Correct Format: YYYY-MM-DD')\n",
    "            self.date = None\n",
    "        else:\n",
    "            self.date = date\n",
    "        self.songs = []\n",
    "        self.valid_lyrics_num = 0\n",
    "\n",
    "    def load_chart_songs(self):\n",
    "\n",
    "        if not self.date: url = 'http://www.billboard.com/charts/%s' % (self.chart_name)\n",
    "        else: url = 'http://www.billboard.com/charts/%s/%s' % (self.chart_name, self.date)\n",
    "\n",
    "        bb_page = get_raw_content_from_url(url)\n",
    "        bb_soup = BeautifulSoup(bb_page, 'html.parser').find_all('article', {'class': 'chart-row'})\n",
    "\n",
    "        title_and_artist = []\n",
    "        for i, one_soup in enumerate(bb_soup):\n",
    "            title_raw = one_soup.find('div', 'chart-row__title').contents\n",
    "            try:\n",
    "                title = title_raw[1].string.strip()\n",
    "            except:\n",
    "                print('get no title')\n",
    "            try:\n",
    "                if title_raw[3].find('a'):\n",
    "                    artist = title_raw[3].a.string.strip()\n",
    "                else:\n",
    "                    artist = title_raw[3].string.strip()\n",
    "            except:\n",
    "                print('get no artist')\n",
    "\n",
    "            print('#%s song: %s\\tartist: %s' % (i + 1, title, artist))\n",
    "            title_and_artist.append((i, title, artist))\n",
    "\n",
    "        \n",
    "        import multiprocessing as mp\n",
    "        pool = mp.Pool(4)\n",
    "        get_lyrics_jobs = [\n",
    "            pool.apply_async(get_lyrics_from_title_and_artist,\n",
    "                             args=(i, title, artist))\n",
    "            for i, title, artist in title_and_artist\n",
    "        ]\n",
    "        songs = [j.get() for j in get_lyrics_jobs]\n",
    "        for i, title, artist, lyrics in songs:\n",
    "            if lyrics:\n",
    "                self.valid_lyrics_num += 1\n",
    "            song = Song(title, artist, lyrics)\n",
    "            self.songs.append(song.song_info)\n",
    "\n",
    "            # print('#%s song: %s\\tartist: %s' % (i + 1, title, artist))"
   ]
  },
  {
   "cell_type": "markdown",
   "metadata": {
    "colab_type": "text",
    "id": "hf8lMUOQR-RN"
   },
   "source": [
    "Right now, we get each song name and its artist name by scanning every hot100 page on the days we need. But the most important thing we still have not is the lyrics data. The only thing we need to complete the full class BillboardChart is function **get_lyrics_from_title_and_artist**. We're going to implement it in the next step.\n",
    "\n",
    "By the way, I accelerate my naive spider a little bit by using **multiprocessing**. Using multiprocessing can obviously boost your program about three times as fast as the normal single processing program based on CPUs on your computer. However, we have much more promising methods for speeding up the scraping process, such as asyncio, aiohttp or 3rd party module like scrapy etc. Feel free to try them. More see References."
   ]
  },
  {
   "cell_type": "markdown",
   "metadata": {
    "colab_type": "text",
    "id": "Ekb_EjAzSWoA"
   },
   "source": [
    "# Fetching lyrics data from Genius.com\n",
    "Luckily, Genius.com provides us with simple but powerful **ReSTful** api as well as database of enough songs to explore. We can get lyrics easily from Genius by using its API. I plan to divide the fetching process into two main parts. 1st is getting the api path by passing the title and artist name of the song. 2nd is scraping the clean lyrics by having the song's api path."
   ]
  },
  {
   "cell_type": "code",
   "execution_count": 9,
   "metadata": {
    "colab": {
     "autoexec": {
      "startup": false,
      "wait_interval": 0
     }
    },
    "colab_type": "code",
    "collapsed": true,
    "id": "OT7xeStvSerR"
   },
   "outputs": [],
   "source": [
    "def get_lyrics_from_title_and_artist(i, title, artist):\n",
    "    song_api_path = get_song_api_path_from_title_and_artist(i, title, artist)\n",
    "    lyrics = get_lyrics_from_api_path(song_api_path)\n",
    "    return i, title, artist, lyrics"
   ]
  },
  {
   "cell_type": "markdown",
   "metadata": {
    "colab_type": "text",
    "id": "5cTZ1F_naWF0"
   },
   "source": [
    "Then, we could use API from Genius.com to fetch lyrics more accurately."
   ]
  },
  {
   "cell_type": "markdown",
   "metadata": {
    "colab_type": "text",
    "id": "34qX5dY-Vtql"
   },
   "source": [
    "## ReSTful API\n",
    "Before using Genius API, we need to two more steps:\n",
    "### Authentication & Generate API keys\n",
    "Setup a Genius account if you do not have one and get API credentials. Please follow the latest instructions on https://genius.com/developers get the token.\n",
    "### KEEP THE API KEY FILE/TOKEN PRIVATE AND OUT OF VERSION CONTROL\n",
    "First, store your Genius credentials in a local file (kept out of version control) which you can read in to authenticate with the API. \n",
    "\n",
    "For example, you may want to store your key in a file called `token.txt` (run in terminal):\n",
    "```bash\n",
    "echo 'GENIUS_TOKEN' > token.txt\n",
    "```\n",
    "\n",
    "You can then read from the file using:\n",
    "```python\n",
    "with open('token.txt', 'r') as f:\n",
    "    token = f.read().replace('\\n','')\n",
    "    # use your token\n",
    "```\n",
    "\n",
    "But in this tutorial I use environment variables instead. Simply calling the following functions gets me the key and the requests headers. \n"
   ]
  },
  {
   "cell_type": "code",
   "execution_count": 10,
   "metadata": {
    "colab": {
     "autoexec": {
      "startup": false,
      "wait_interval": 0
     }
    },
    "colab_type": "code",
    "collapsed": true,
    "id": "AaEvtc-ebIvv"
   },
   "outputs": [],
   "source": [
    "# this code should be detroyed after running\n",
    "# with open('token.txt', 'w') as f:\n",
    "#     f.write('this is your token here')"
   ]
  },
  {
   "cell_type": "code",
   "execution_count": 11,
   "metadata": {
    "colab": {
     "autoexec": {
      "startup": false,
      "wait_interval": 0
     },
     "base_uri": "https://localhost:8080/",
     "height": 34,
     "output_extras": [
      {
       "item_id": 1
      }
     ]
    },
    "colab_type": "code",
    "executionInfo": {
     "elapsed": 298,
     "status": "ok",
     "timestamp": 1522271579090,
     "user": {
      "displayName": "Yongfa Tan",
      "photoUrl": "//lh6.googleusercontent.com/-GWxtXs6LKAs/AAAAAAAAAAI/AAAAAAACCow/ccWvh2L17f8/s50-c-k-no/photo.jpg",
      "userId": "113642015017178712998"
     },
     "user_tz": 240
    },
    "id": "XCgK6si5a3id",
    "outputId": "432136c0-516b-4488-ee9c-24d857c3f804"
   },
   "outputs": [
    {
     "name": "stdout",
     "output_type": "stream",
     "text": [
      "5Oucnd-RuL_qExoPjSDQ5PDsWwXxxzQf2PUbyHIKlUQUEpnE3e6lccOAbpe-X5D5\n"
     ]
    }
   ],
   "source": [
    "def get_token(file_path):\n",
    "    with open(file_path, 'r') as f:\n",
    "        token = f.read().replace('\\n','')\n",
    "        return token\n",
    "\n",
    "token = get_token('token.txt')\n",
    "HEADERS = {'Authorization': 'Bearer %s' % (token)}"
   ]
  },
  {
   "cell_type": "markdown",
   "metadata": {
    "colab_type": "text",
    "id": "51myPUZXayvg"
   },
   "source": [
    "## get_song_api_path_from_title_and_artist(title, artist)\n",
    "\n",
    "In this subtask, we will firstly using Genius Search API to HIT a list of song with the song title. Then by matching the name of artist with the hitting song artist name, finally we can get the exact same song unique number we need. Still, we have to face a problem that some song titles are not correctly spelled or some artists have their names strange and can never be correctly matched by regular rules. That's why we set up the valid_lyrics_num to count the 'real' song data. To improve the matching rate, we need to do some preprocessing job for both the artist names and the song titles.\n",
    "\n",
    "Then we get the song api path like this: \n",
    "\n",
    "\n",
    "```link\n",
    "/songs/3411476\n",
    "```\n",
    "\n"
   ]
  },
  {
   "cell_type": "code",
   "execution_count": 12,
   "metadata": {
    "colab": {
     "autoexec": {
      "startup": false,
      "wait_interval": 0
     }
    },
    "colab_type": "code",
    "collapsed": true,
    "id": "vGagQ2pmeMJT"
   },
   "outputs": [],
   "source": [
    "def get_song_api_path_from_title_and_artist(i, title, artist):\n",
    "    def pre_process_artist_name(artist):\n",
    "        artist = artist.lower().replace(\"'s\", \"\").replace(\"'\", \"\").replace(\" x \", \" \")\n",
    "        import string\n",
    "        for punct in string.punctuation:\n",
    "            artist = artist.replace(punct, ' ')\n",
    "        return ' '.join(artist.split())\n",
    "\n",
    "    def pre_process_title(title):\n",
    "        return re.sub(r\"\"\"\\(.*\\)\"\"\", '', title)\n",
    "\n",
    "    artist = pre_process_artist_name(artist)\n",
    "    genius_search_url = 'http://api.genius.com/search'\n",
    "    title = pre_process_title(title)\n",
    "    query = {'q': title}\n",
    "    response = requests.get(genius_search_url, headers=HEADERS, params=query).json()\n",
    "\n",
    "    for hit in response['response']['hits']:\n",
    "        hit_artist_name = hit['result']['primary_artist']['name']\n",
    "        hit_artist_name = pre_process_artist_name(hit_artist_name)\n",
    "        if hit_artist_name in artist or artist in hit_artist_name:\n",
    "            song_api_path = hit['result']['api_path']\n",
    "            return song_api_path\n",
    "    return None"
   ]
  },
  {
   "cell_type": "markdown",
   "metadata": {
    "colab_type": "text",
    "id": "caErUUhcerHb"
   },
   "source": [
    "## get_lyrics_from_api_path(api_path)\n",
    "To move forward, we now can pass the api path (e.g. /songs/3411476) to get the final lyrics. Similarly, we use Genius API fetch the real url of the song and then scrape the lyrics from html pages."
   ]
  },
  {
   "cell_type": "code",
   "execution_count": 13,
   "metadata": {
    "colab": {
     "autoexec": {
      "startup": false,
      "wait_interval": 0
     }
    },
    "colab_type": "code",
    "collapsed": true,
    "id": "InkvReOJepuZ"
   },
   "outputs": [],
   "source": [
    "def get_lyrics_from_api_path(api_path):    \n",
    "    if not api_path: return None\n",
    "    song_api_url = 'http://api.genius.com' + api_path\n",
    "    response = requests.get(song_api_url, headers=HEADERS).json()\n",
    "    song_real_url = 'http://genius.com' + response['response']['song']['path']\n",
    "    song_content = get_raw_content_from_url(song_real_url)\n",
    "    song_soup = BeautifulSoup(song_content, 'html.parser')\n",
    "    [s.extract() for s in song_soup('script')]\n",
    "    lyrics = song_soup.find('div', class_='lyrics').get_text()\n",
    "    return lyrics.replace('\\n', ' ')"
   ]
  },
  {
   "cell_type": "markdown",
   "metadata": {
    "colab_type": "text",
    "id": "ZjAC0PJyf5IE"
   },
   "source": [
    "By the way, we need a helper function to list all the saturdays of one year so that we can iterate all 50 years' week HOT100 songs for lyrics. Here is the helper function:"
   ]
  },
  {
   "cell_type": "code",
   "execution_count": 14,
   "metadata": {
    "colab": {
     "autoexec": {
      "startup": false,
      "wait_interval": 0
     }
    },
    "colab_type": "code",
    "collapsed": true,
    "id": "0NNit0gUflOL"
   },
   "outputs": [],
   "source": [
    "def get_all_saturdays_before_this_week(year):\n",
    "    from datetime import date, timedelta\n",
    "    d = date(year, 1, 1)\n",
    "    d += timedelta(days=5 - d.weekday())\n",
    "    if d.year < year:\n",
    "        d += timedelta(days=7)\n",
    "    while d.year == year:\n",
    "        yield str(d)\n",
    "        if d - date.today() > timedelta(days=0):\n",
    "            return\n",
    "        d += timedelta(days=7)"
   ]
  },
  {
   "cell_type": "markdown",
   "metadata": {
    "colab_type": "text",
    "id": "ZY99yflgoK4x"
   },
   "source": [
    "# Collecting all HOT100 lyrics during last 50 years!\n",
    "Finally, we have fully working codes to get all of lyrics. For demonstration, I set the year period from 2017 to 2018, and only get one weekly chart. But by changing the time from 1969 to 2019, you can definitely get almost all the song lyrics during the recent 50 years!"
   ]
  },
  {
   "cell_type": "code",
   "execution_count": null,
   "metadata": {
    "colab": {
     "autoexec": {
      "startup": false,
      "wait_interval": 0
     },
     "base_uri": "https://localhost:8080/",
     "height": 2696,
     "output_extras": [
      {
       "item_id": 1
      },
      {
       "item_id": 2
      }
     ]
    },
    "colab_type": "code",
    "executionInfo": {
     "elapsed": 52187,
     "status": "error",
     "timestamp": 1522275700828,
     "user": {
      "displayName": "Yongfa Tan",
      "photoUrl": "//lh6.googleusercontent.com/-GWxtXs6LKAs/AAAAAAAAAAI/AAAAAAACCow/ccWvh2L17f8/s50-c-k-no/photo.jpg",
      "userId": "113642015017178712998"
     },
     "user_tz": 240
    },
    "id": "MLUp7kZ2jm64",
    "outputId": "9752fa78-6e24-4484-8deb-bda018312a40"
   },
   "outputs": [
    {
     "name": "stdout",
     "output_type": "stream",
     "text": [
      "\n",
      "week - 2017-01-07\n",
      "#1 song: Starboy\tartist: The Weeknd Featuring Daft Punk\n",
      "#2 song: Black Beatles\tartist: Rae Sremmurd Featuring Gucci Mane\n",
      "#3 song: Closer\tartist: The Chainsmokers Featuring Halsey\n",
      "#4 song: 24K Magic\tartist: Bruno Mars\n",
      "#5 song: Juju On That Beat (TZ Anthem)\tartist: Zay Hilfigerrr & Zayion McCall\n",
      "#6 song: Side To Side\tartist: Ariana Grande Featuring Nicki Minaj\n",
      "#7 song: Let Me Love You\tartist: DJ Snake Featuring Justin Bieber\n",
      "#8 song: Don't Wanna Know\tartist: Maroon 5 Featuring Kendrick Lamar\n",
      "#9 song: Bad Things\tartist: Machine Gun Kelly x Camila Cabello\n",
      "#10 song: Fake Love\tartist: Drake\n",
      "#11 song: Caroline\tartist: Amine\n",
      "#12 song: Heathens\tartist: twenty one pilots\n",
      "#13 song: Bad And Boujee\tartist: Migos Featuring Lil Uzi Vert\n",
      "#14 song: Scars To Your Beautiful\tartist: Alessia Cara\n",
      "#15 song: Broccoli\tartist: D.R.A.M. Featuring Lil Yachty\n",
      "#16 song: All I Want For Christmas Is You\tartist: Mariah Carey\n",
      "#17 song: Starving\tartist: Hailee Steinfeld & Grey Featuring Zedd\n",
      "#18 song: I Don't Wanna Live Forever (Fifty Shades Darker)\tartist: Zayn / Taylor Swift\n",
      "#19 song: OOOUUU\tartist: Young M.A\n",
      "#20 song: Love On The Brain\tartist: Rihanna\n",
      "#21 song: Bounce Back\tartist: Big Sean\n",
      "#22 song: The Greatest\tartist: Sia Featuring Kendrick Lamar\n",
      "#23 song: Hallelujah\tartist: Pentatonix\n",
      "#24 song: All Time Low\tartist: Jon Bellion\n",
      "#25 song: I Feel It Coming\tartist: The Weeknd Featuring Daft Punk\n",
      "#26 song: Treat You Better\tartist: Shawn Mendes\n",
      "#27 song: Rockin' Around The Christmas Tree\tartist: Brenda Lee\n",
      "#28 song: Mercy\tartist: Shawn Mendes\n",
      "#29 song: Jingle Bell Rock\tartist: Bobby Helms\n",
      "#30 song: In The Name Of Love\tartist: Martin Garrix & Bebe Rexha\n",
      "#31 song: I Hate U I Love U\tartist: gnash Featuring Olivia O'Brien\n",
      "#32 song: Can't Stop The Feeling!\tartist: Justin Timberlake\n",
      "#33 song: Blue Ain't Your Color\tartist: Keith Urban\n",
      "#34 song: Don't Let Me Down\tartist: The Chainsmokers Featuring Daya\n",
      "#35 song: Deja Vu\tartist: J. Cole\n",
      "#36 song: Cheap Thrills\tartist: Sia Featuring Sean Paul\n",
      "#37 song: This Town\tartist: Niall Horan\n",
      "#38 song: Cold Water\tartist: Major Lazer Featuring Justin Bieber & MO\n",
      "#39 song: Chill Bill\tartist: Rob $tone Featuring J. Davi$ & Spooks\n",
      "#40 song: Love Me Now\tartist: John Legend\n",
      "#41 song: Both\tartist: Gucci Mane Featuring Drake\n",
      "#42 song: Unsteady\tartist: X Ambassadors\n",
      "#43 song: X\tartist: 21 Savage & Metro Boomin Featuring Future\n",
      "#44 song: Feliz Navidad\tartist: Jose Feliciano\n",
      "#45 song: Mary, Did You Know?\tartist: Pentatonix\n",
      "#46 song: A Holly Jolly Christmas\tartist: Burl Ives\n",
      "#47 song: The Christmas Song (Merry Christmas To You)\tartist: Nat King Cole\n",
      "#48 song: It's The Most Wonderful Time Of The Year\tartist: Andy Williams\n",
      "#49 song: Party Monster\tartist: The Weeknd\n",
      "#50 song: Last Christmas\tartist: Wham!\n",
      "#51 song: Water Under The Bridge\tartist: Adele\n",
      "#52 song: You Was Right\tartist: Lil Uzi Vert\n",
      "#53 song: No Heart\tartist: 21 Savage & Metro Boomin\n",
      "#54 song: Neighbors\tartist: J. Cole\n",
      "#55 song: Used To This\tartist: Future Featuring Drake\n",
      "#56 song: How Far I'll Go\tartist: Auli'i Cravalho\n",
      "#57 song: Do You Mind\tartist: DJ Khaled Featuring Nicki Minaj, Chris Brown, August Alsina, Jeremih, Future & Rick Ross\n",
      "#58 song: Party\tartist: Chris Brown Featuring Usher & Gucci Mane\n",
      "#59 song: Immortal\tartist: J. Cole\n",
      "#60 song: May We All\tartist: Florida Georgia Line Featuring Tim McGraw\n",
      "#61 song: Say You Won't Let Go\tartist: James Arthur\n",
      "#62 song: Wanna Be That Song\tartist: Brett Eldredge\n",
      "#63 song: Too Much Sauce\tartist: DJ ESCO Featuring Future & Lil Uzi Vert\n",
      "#64 song: Better Man\tartist: Little Big Town\n",
      "#65 song: Chantaje\tartist: Shakira Featuring Maluma\n",
      "#66 song: Dirty Laundry\tartist: Carrie Underwood\n",
      "#67 song: 1 Night\tartist: Lil Yachty\n",
      "#68 song: Redbone\tartist: Childish Gambino\n",
      "#69 song: Sneakin'\tartist: Drake Featuring 21 Savage\n",
      "#70 song: Million Reasons\tartist: Lady Gaga\n",
      "#71 song: A Guy With A Girl\tartist: Blake Shelton\n",
      "#72 song: Just Hold On\tartist: Steve Aoki & Louis Tomlinson\n",
      "#73 song: Song For Another Time\tartist: Old Dominion\n",
      "#74 song: Pick Up The Phone\tartist: Young Thug And Travis Scott Featuring Quavo\n",
      "#75 song: Make Me (Cry)\tartist: Noah Cyrus Featuring Labrinth\n",
      "#76 song: Star Of The Show\tartist: Thomas Rhett\n",
      "#77 song: HandClap\tartist: Fitz And The Tantrums\n",
      "#78 song: How I'll Always Be\tartist: Tim McGraw\n",
      "#79 song: Rockabye\tartist: Clean Bandit Featuring Sean Paul & Anne-Marie\n",
      "#80 song: Alone\tartist: Marshmello\n",
      "#81 song: How Far I'll Go\tartist: Alessia Cara\n",
      "#82 song: All We Know\tartist: The Chainsmokers Featuring Phoebe Ryan\n",
      "#83 song: Change\tartist: J. Cole\n",
      "#84 song: Dirt On My Boots\tartist: Jon Pardi\n",
      "#85 song: Selfish\tartist: PnB Rock\n",
      "#86 song: You're Welcome\tartist: Dwayne Johnson\n",
      "#87 song: Fresh Eyes\tartist: Andy Grammer\n",
      "#88 song: Sleep Without You\tartist: Brett Young\n",
      "#89 song: She's Mine Pt.1\tartist: J. Cole\n",
      "#90 song: Ville Mentality\tartist: J. Cole\n",
      "#91 song: OTW\tartist: DJ Luke Nasty\n",
      "#92 song: Red Opps\tartist: 21 Savage\n",
      "#93 song: For Whom The Bell Tolls\tartist: J. Cole\n",
      "#94 song: Six Feet Under\tartist: The Weeknd\n",
      "#95 song: Reminder\tartist: The Weeknd\n",
      "#96 song: Play That Song\tartist: Train\n",
      "#97 song: Sidewalks\tartist: The Weeknd Featuring Kendrick Lamar\n",
      "#98 song: Foldin Clothes\tartist: J. Cole\n",
      "#99 song: Swang\tartist: Rae Sremmurd\n",
      "#100 song: Versace On The Floor\tartist: Bruno Mars\n"
     ]
    }
   ],
   "source": [
    "# since years of data is huge, I have predownloaded 10 years of lyrics in path 'lyrics'\n",
    "# the real predownloaded json lyrics files are in 'lyrics' path\n",
    "if not os.path.exists('test'): os.mkdir('test')\n",
    "songs_in_year50 = []\n",
    "for year in range(1969, 2019):\n",
    "    for i, week in enumerate(get_all_saturdays_before_this_week(year)):        \n",
    "#         if os.path.exists('test/billboard_hot100_%s.json' % (week)):\n",
    "#             continue\n",
    "        print('\\nweek - %s' % (week))\n",
    "        songs_in_oneweek = BillboardChart(chart_name='hot-100', date=week)\n",
    "        songs_in_oneweek.load_chart_songs()\n",
    "        songs_in_year50.append(songs_in_oneweek)\n",
    "        with open('test/billboard_hot100_%s.json' % (week), 'wt') as f:\n",
    "            json.dump(songs_in_oneweek.songs, f, sort_keys=True, indent=4)\n",
    "        valid_songs = songs_in_oneweek.valid_lyrics_num\n",
    "        all_songs = len(songs_in_oneweek.songs)\n",
    "        print('valid/all = %s/%s' % (valid_songs, all_songs))"
   ]
  },
  {
   "attachments": {
    "lyrics_list.png": {
     "image/png": "[encoded data removed]"
    }
   },
   "cell_type": "markdown",
   "metadata": {
    "colab_type": "text",
    "id": "uKiw7oPNfY8m"
   },
   "source": [
    "By now, we have all the data we need for analysis. Congratulations!!! We can have a look at how the json file of a weekly chart of lyrics as following:\n",
    "```json\n",
    "[\n",
    "    ...\n",
    "    {\n",
    "        \"artist\": \"Bruno Mars\", \n",
    "        \"lyrics\": \"  [Intro] Tonight I just want to take you higher Throw your hands up in the sky Let's set this party off right...24 karat magic in the air Head to toe so player (24 karat) Uh, look out  [Outro] (24 karat magic, magic, magic)  \", \n",
    "        \"title\": \"24K Magic\"\n",
    "    }, \n",
    "    {\n",
    "        \"artist\": \"Zay Hilfigerrr & Zayion McCall\", \n",
    "        \"lyrics\": \"  [Intro: Grandmother] Do that one dance baby That, ... You your daddy's son  \", \n",
    "        \"title\": \"Juju On That Beat (TZ Anthem)\"\n",
    "    },\n",
    "    ...\n",
    "]\n",
    "```\n",
    "\n",
    "And here are part of our json lyrics files.\n",
    "![lyrics_list.png](attachment:lyrics_list.png)"
   ]
  },
  {
   "cell_type": "markdown",
   "metadata": {},
   "source": [
    "# Data visualization of lyrics data\n",
    "Usually collecting data is the first as well as one of the most fructrating things to do of a data scientist's job. Since we have tons of lyrics here, we now can see the trend of the hottest lyrics these years on the billboard history.\n",
    "## First \n",
    "Before make any conclusions, we should use some basic NLP techniques to preprocess the raw lyrics, such as removing meaningless words or punctuations from the lyrics. Then we can get the length and vocabulary information from the lyrics lists."
   ]
  },
  {
   "cell_type": "code",
   "execution_count": 22,
   "metadata": {
    "collapsed": true
   },
   "outputs": [],
   "source": [
    "def get_songs(week):\n",
    "    with open('lyrics/billboard_hot100_%s.json' % (week), 'rt') as f:\n",
    "        songs_in_a_week = json.loads(f.read())\n",
    "    return songs_in_a_week\n",
    "\n",
    "def get_basic_stat_from_one_week_songs(week):\n",
    "    songs_in_a_week = get_songs(week)\n",
    "    text_corpus = []\n",
    "    for song in songs_in_a_week:\n",
    "        lyrics = song['lyrics']\n",
    "        if not lyrics:\n",
    "            text_corpus.append('')\n",
    "            continue\n",
    "        lyrics = lyrics.lower().strip().replace(\"'s\", \"\").replace(\"'\",\"\")\n",
    "        lyrics = re.sub(r\"\"\"\\[.*?\\]\"\"\", '', lyrics)\n",
    "        import string\n",
    "        for punct in string.punctuation:\n",
    "            lyrics = lyrics.replace(punct, ' ')\n",
    "        text_corpus.append(' '.join(lyrics.split()))\n",
    "    # average length through weeks\n",
    "    avg_length = sum([len(lyrics.split()) for lyrics in text_corpus]) / len(text_corpus)\n",
    "    # average vocab through weeks\n",
    "    avg_vocab = sum([len(set(lyrics.split())) for lyrics in text_corpus]) / len(text_corpus)\n",
    "    return avg_length, avg_vocab, text_corpus"
   ]
  },
  {
   "cell_type": "markdown",
   "metadata": {},
   "source": [
    "## Second\n",
    "By drawing the plots, we can clearly observe that average lyrics length of songs gets longer and longer from 2009 to 2019. As well, the mean vocabulary become a little larger, though not so obvious."
   ]
  },
  {
   "cell_type": "code",
   "execution_count": 20,
   "metadata": {},
   "outputs": [
    {
     "data": {
      "text/plain": [
       "Text(0,0.5,'average count')"
      ]
     },
     "execution_count": 20,
     "metadata": {},
     "output_type": "execute_result"
    },
    {
     "data": {
      "image/png": "[encoded data removed]",
      "text/plain": [
       "<matplotlib.figure.Figure at 0x1a568e6c748>"
      ]
     },
     "metadata": {},
     "output_type": "display_data"
    }
   ],
   "source": [
    "import matplotlib.pyplot as plt\n",
    "%matplotlib inline\n",
    "\n",
    "avg_length_s = []\n",
    "avg_vocab_s = []\n",
    "years = []\n",
    "\n",
    "for year in range(2009, 2019):\n",
    "    years.append(str(year))\n",
    "    avg_length_s_in_a_year = []\n",
    "    avg_vocab_s_in_a_year = []\n",
    "    for week in get_all_saturdays_before_this_week(year):\n",
    "        if not os.path.exists('lyrics/billboard_hot100_%s.json' % (week)):\n",
    "            continue\n",
    "        avg_length, avg_vocab, list_lyrics = get_basic_stat_from_one_week_songs(week)\n",
    "        avg_length_s_in_a_year.append(avg_length)\n",
    "        avg_vocab_s_in_a_year.append(avg_vocab)\n",
    "    avg_length_s.append(sum(avg_length_s_in_a_year) / len(avg_length_s_in_a_year))\n",
    "    avg_vocab_s.append(sum(avg_vocab_s_in_a_year) / len(avg_vocab_s_in_a_year))\n",
    "plt.figure()\n",
    "plt.plot(years, avg_length_s, color='red', label='average lengths of songs through years', linestyle='-.')\n",
    "plt.plot(years, avg_vocab_s, color='green', label='average vocabs of songs through years', linestyle=':')\n",
    "plt.xlabel('year 2009 to 2019')\n",
    "plt.ylabel('average count')"
   ]
  },
  {
   "cell_type": "markdown",
   "metadata": {},
   "source": [
    "# Generating the HOTTEST lyrics in Billboard\n",
    "It's fun time finally. I decided to guide you readers to build a bigram language model based on which I can \"write\" a HOT100 song lyrics. But time's limited and words cannot be extended anymore to show more examples to you. So, help yourselves to use the collected 50-year corpus and make good use of it. \n",
    "\n",
    "Music world is beautiful and endless, and these lyrics resources are huge enough for music lovers to delve into them. Please make good use of the data and thanks!"
   ]
  },
  {
   "cell_type": "markdown",
   "metadata": {
    "colab_type": "text",
    "id": "FOw2DDUz7sBP"
   },
   "source": [
    "# Summary and references\n",
    "\n",
    "Most of the jobs in this tutorial is about collection of lyrics data. That's fine because it tedious and frustrating most of the time. So I am so happy to go over them here. And I believe that using these methods to collect data, you can accelerate your process to handle more analysis work and save time.\n",
    "\n",
    "One more thing is that one of the main problems in this tutorial is that I still don't get a perfect way to get the lyrics by parsing title and artist, which leads to less valid data than real one for analysis, especially old songs. But we can still get the whole trend of the data since the total volume of lyrics is large enough.\n",
    "\n",
    "\n",
    "More information can be referred from the following materials:\n",
    "\n",
    "\n",
    "1.   Billboard HOT100 Weekly Charts: https://www.billboard.com/charts/hot-100\n",
    "2.   Genius Developers: https://genius.com/developers\n",
    "3.   Multiprocessing in Python: https://docs.python.org/3/library/multiprocessing.html\n",
    "4.   Asyncio in Python: https://docs.python.org/3/library/asyncio.html\n",
    "5.   Language Model from Assignment 3 of 15-688\n",
    "6.   3rd Party Python API for Billboard Charts: https://github.com/guoguo12/billboard-charts\n",
    "\n"
   ]
  }
 ],
 "metadata": {
  "colab": {
   "collapsed_sections": [],
   "default_view": {},
   "name": "bb.ipynb",
   "provenance": [],
   "version": "0.3.2",
   "views": {}
  },
  "kernelspec": {
   "display_name": "Python 3",
   "language": "python",
   "name": "python3"
  },
  "language_info": {
   "codemirror_mode": {
    "name": "ipython",
    "version": 3
   },
   "file_extension": ".py",
   "mimetype": "text/x-python",
   "name": "python",
   "nbconvert_exporter": "python",
   "pygments_lexer": "ipython3",
   "version": "3.6.4"
  }
 },
 "nbformat": 4,
 "nbformat_minor": 1
}
