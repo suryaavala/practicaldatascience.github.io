{
 "cells": [
  {
   "cell_type": "markdown",
   "metadata": {},
   "source": [
    "# Introduction to PySpark and RDD"
   ]
  },
  {
   "cell_type": "markdown",
   "metadata": {},
   "source": [
    "The massive amount of data today bring new challenges to data scientists. For instance, many machine learning algorithms need to be distrbuted in order to get things done at scale. Therefore, it is important for data scientist to grasp big data analytic skills . \n",
    "\n",
    "Apache Spark is such a fast and open-source cluster computing system that is well-suited for doing large-scale data analytics. This tutorial will introduce how to use Spark in Python by using the pyspark library. Especially, we will focus on Resilient Distributed Dataset (RDD), which is the basic abstraction in Spark to work with data. RDD is the underlying infrastrcuture that allows Spark to run so fast. And many libraries in Spark, like MLib, are built on top of RDD. So it is a good choice to start from RDD.\n",
    "\n",
    "For more information, you can look up the details in [Spark's Python API](https://spark.apache.org/docs/latest/api/python/pyspark.html#pyspark.RDD)\n",
    "\n",
    "The following topics will be covered in this tutorial:\n",
    "\n",
    "* [Installing the libraries](#Installing-the-libraries)\n",
    "* [Creating RDD](#Creating-RDD)\n",
    "* [RDD Tansformation and Action](#RDD-Transformation-and-Action)\n",
    "* [Pair RDD](#Pair-RDD)\n",
    "* [Application Samples](#Application-Samples)\n",
    "    * [wordcount Sample](#1.WordCount-Sample)\n",
    "    * [PCA Sample](#2.PCA-Sample)\n",
    "* [Summary and Resources](#Summary-and-Resources)"
   ]
  },
  {
   "cell_type": "markdown",
   "metadata": {},
   "source": [
    "## Installing the libraries\n",
    "\n",
    "\n",
    "Using pip:\n",
    "\n",
    "```python\n",
    "pip install pyspark\n",
    "```\n",
    "\n",
    "If you work on Anaconda, you may consider using conda:\n",
    "```python\n",
    "conda install -c conda-forge pyspark\n",
    "```\n",
    "\n",
    "Note that if you have both python2 and python3 in your computer, you may encounter problem when using spark. Then, you need to modify the environment variables ``` PYSAPRK_PYTHON ```. For instance, I use the following code to modify it:\n",
    "\n",
    "```python\n",
    "import os\n",
    "os.environ['PYSPARK_PYTHON'] = '/Users/qy/anaconda/bin/python'\n",
    "```\n",
    "The path will differ on your machines. Can search on internet if you need more help.\n",
    "\n",
    "Make sure the following code works:"
   ]
  },
  {
   "cell_type": "code",
   "execution_count": 1,
   "metadata": {},
   "outputs": [],
   "source": [
    "from pyspark import SparkContext"
   ]
  },
  {
   "cell_type": "markdown",
   "metadata": {},
   "source": [
    "## Creating RDD"
   ]
  },
  {
   "cell_type": "markdown",
   "metadata": {},
   "source": [
    "RDD enables operations done in parrallel. We can use SparkContext to create RDD. SparkContext tells Spark how and where to access a cluster. \n",
    "\n",
    "*Note that only one SparkContext is allowed at a time.If you have a running SparkContext, stop it before creating a new one.*"
   ]
  },
  {
   "cell_type": "code",
   "execution_count": 2,
   "metadata": {},
   "outputs": [],
   "source": [
    "#sc.stop()\n",
    "sc = SparkContext()"
   ]
  },
  {
   "cell_type": "markdown",
   "metadata": {},
   "source": [
    "RDD can be constructed in several ways:\n",
    "\n",
    "* parallelize existing Python lists\n",
    "* transform an existing RDD (later)\n",
    "* from files (later)"
   ]
  },
  {
   "cell_type": "code",
   "execution_count": 3,
   "metadata": {},
   "outputs": [
    {
     "name": "stdout",
     "output_type": "stream",
     "text": [
      "<class 'pyspark.rdd.RDD'>\n"
     ]
    }
   ],
   "source": [
    "# parallelize python lists\n",
    "numList = [1,11,5,7,8,22,51,52,9]\n",
    "numsRDD = sc.parallelize(numList, numSlices = 4)\n",
    "# Print out the type of numsRDD\n",
    "print (type(numsRDD))"
   ]
  },
  {
   "cell_type": "markdown",
   "metadata": {},
   "source": [
    "The ```numSlices``` refers to the number of partitions that you would like the RDD split into. Default value is used if unspecified.\n",
    "\n",
    "An RDD is an distributed collection of objects. If you have no idea what \"distrbuted\" or \"parallel\" means, you can think it as splitting and storing the data in different machines and the ```numSlices``` is similar to the number of machines. Then calculations are done in different machines seperately, so that each machine only deals with a small amount of data. Finally, the result of each machine is aggregated in a certain way to get the final output.\n"
   ]
  },
  {
   "cell_type": "markdown",
   "metadata": {},
   "source": [
    "To create RDD from files, use `sc.textFile()` (example in last part of the tutorial):\n",
    "\n",
    "```python\n",
    "textFile = sc.textFile('xx.txt')\n",
    "```"
   ]
  },
  {
   "cell_type": "markdown",
   "metadata": {},
   "source": [
    "## RDD Transformation and Action"
   ]
  },
  {
   "cell_type": "markdown",
   "metadata": {},
   "source": [
    "After constructing RDD, we can do operations on it.  \n",
    "\n",
    "There are two primary types of operations:\n",
    "* transformations\n",
    "* actions\n",
    "\n",
    "### Transformations\n",
    "\n",
    "Transformation creating a new RDD by performing some operations on an existing RDD. \n",
    "\n",
    "Transformation Example                          |Result\n",
    "----------                               |-------\n",
    "`filter(func)`           |Return a new RDD containing only the elements that satisfy a predicate.\n",
    "`map(func)`                   |Return a new RDD by applying a function to each element of this RDD.\n",
    "`flatMap(func)`           |Same operation as map(), but flatten sequence\n",
    "`distinct()`                             |Remove duplicates in RDD\n",
    "`sortBy(keyfunc, ascending=True)`   |Sorts this RDD by the given keyfunc\n",
    " \n",
    " Note that transformations are **lazy**, which means that transformation on RDD is not executed until there is an action run on it. Spark just remembers the 'recipe' or transformations applied on RDD, but not compute it right away. This lazy evaluation can allow Spark to optimize the required colculations later.\n",
    " \n",
    "### Actions\n",
    "Once you have the 'recipe' of transformations ready, you will need to execute them by calling an action. \n",
    "\n",
    "Action Example                       |Result\n",
    "----------                             |-------\n",
    "`collect()`                            |Convert RDD to an array and return the array \n",
    "`take(n)`                              |Retun first n elements of RDD in array\n",
    "`sum()`                                |Find element sum \n",
    "`mean()`                               |Find element mean \n",
    "`stdev()`                              |Find element deviation \n",
    "`reduce(func)`                         |Aggregate elements using function func. (Can view it as to aggregate results from diffirent machines.)\n",
    "\n",
    "\n",
    "Additional information can be found in [Spark's Transformations API](https://spark.apache.org/docs/2.2.0/rdd-programming-guide.html#transformations) and [Spark's Actions API](https://spark.apache.org/docs/2.2.0/rdd-programming-guide.html#actions).\n",
    "\n",
    "\n",
    "\n",
    "\n",
    "#### Examples:\n",
    "\n",
    "*Lambda function* is often used to restrict the operation command in a single expression. If you do not know lambda functions before, you can refer to [here](https://docs.python.org/2/tutorial/controlflow.html#lambda-expressions). "
   ]
  },
  {
   "cell_type": "code",
   "execution_count": 4,
   "metadata": {},
   "outputs": [
    {
     "data": {
      "text/plain": [
       "PythonRDD[1] at RDD at PythonRDD.scala:48"
      ]
     },
     "execution_count": 4,
     "metadata": {},
     "output_type": "execute_result"
    }
   ],
   "source": [
    "# squared each element\n",
    "numsRDD.map(lambda x: x**2)"
   ]
  },
  {
   "cell_type": "markdown",
   "metadata": {},
   "source": [
    "Lazy evaluation means it is not executed yet. In order to get the result, use appropriate actions."
   ]
  },
  {
   "cell_type": "code",
   "execution_count": 5,
   "metadata": {},
   "outputs": [
    {
     "data": {
      "text/plain": [
       "[1, 11, 5, 7, 8, 22, 51, 52, 9]"
      ]
     },
     "execution_count": 5,
     "metadata": {},
     "output_type": "execute_result"
    }
   ],
   "source": [
    "numsRDD.collect()"
   ]
  },
  {
   "cell_type": "code",
   "execution_count": 6,
   "metadata": {},
   "outputs": [
    {
     "data": {
      "text/plain": [
       "[1, 121, 25, 49, 64, 484, 2601, 2704, 81]"
      ]
     },
     "execution_count": 6,
     "metadata": {},
     "output_type": "execute_result"
    }
   ],
   "source": [
    "numsRDD.map(lambda x: x**2).collect()"
   ]
  },
  {
   "cell_type": "code",
   "execution_count": 7,
   "metadata": {},
   "outputs": [
    {
     "data": {
      "text/plain": [
       "[1, 121, 25]"
      ]
     },
     "execution_count": 7,
     "metadata": {},
     "output_type": "execute_result"
    }
   ],
   "source": [
    "numsRDD.map(lambda x: x**2).take(3) # take the first 3"
   ]
  },
  {
   "cell_type": "markdown",
   "metadata": {},
   "source": [
    "Several transformations can be chained together. \n",
    "\n",
    "For instance, if we want to split data first, and then return only people less than 40 years old:"
   ]
  },
  {
   "cell_type": "code",
   "execution_count": 8,
   "metadata": {},
   "outputs": [
    {
     "data": {
      "text/plain": [
       "['Ming,China,34', 'Michael,U.S.,50', 'Ivy,Canada,18', 'Coco,Mexico,25']"
      ]
     },
     "execution_count": 8,
     "metadata": {},
     "output_type": "execute_result"
    }
   ],
   "source": [
    "rdd2 = sc.parallelize(['Ming,China,34','Michael,U.S.,50','Ivy,Canada,18','Coco,Mexico,25'])\n",
    "rdd2.collect()"
   ]
  },
  {
   "cell_type": "code",
   "execution_count": 9,
   "metadata": {},
   "outputs": [
    {
     "data": {
      "text/plain": [
       "['Ming,China,34', 'Ivy,Canada,18', 'Coco,Mexico,25']"
      ]
     },
     "execution_count": 9,
     "metadata": {},
     "output_type": "execute_result"
    }
   ],
   "source": [
    "rdd2.map(lambda x: x.split(',')).\\\n",
    "     filter(lambda x:  int(x[2]) <40).\\\n",
    "     map(lambda x:','.join(x)).\\\n",
    "     collect()"
   ]
  },
  {
   "cell_type": "markdown",
   "metadata": {},
   "source": [
    "Besides lambda functions, other functions can also be passed."
   ]
  },
  {
   "cell_type": "code",
   "execution_count": 10,
   "metadata": {},
   "outputs": [
    {
     "data": {
      "text/plain": [
       "['Ming,China,34', 'Ivy,Canada,18', 'Coco,Mexico,25']"
      ]
     },
     "execution_count": 10,
     "metadata": {},
     "output_type": "execute_result"
    }
   ],
   "source": [
    "def parse_filter(line):\n",
    "    elems = line.split(\",\")\n",
    "    if (int(elems[2])<40):\n",
    "        return True\n",
    "    else:\n",
    "        return False\n",
    "rdd2.filter(parse_filter).collect()"
   ]
  },
  {
   "cell_type": "markdown",
   "metadata": {},
   "source": [
    "#### `map()` vs ` flatMap()`"
   ]
  },
  {
   "cell_type": "code",
   "execution_count": 11,
   "metadata": {},
   "outputs": [
    {
     "data": {
      "text/plain": [
       "[['Ming', 'China', '34'],\n",
       " ['Michael', 'U.S.', '50'],\n",
       " ['Ivy', 'Canada', '18'],\n",
       " ['Coco', 'Mexico', '25']]"
      ]
     },
     "execution_count": 11,
     "metadata": {},
     "output_type": "execute_result"
    }
   ],
   "source": [
    "rdd2.map(lambda x: x.split(',')).collect()"
   ]
  },
  {
   "cell_type": "code",
   "execution_count": 12,
   "metadata": {},
   "outputs": [
    {
     "data": {
      "text/plain": [
       "['Ming',\n",
       " 'China',\n",
       " '34',\n",
       " 'Michael',\n",
       " 'U.S.',\n",
       " '50',\n",
       " 'Ivy',\n",
       " 'Canada',\n",
       " '18',\n",
       " 'Coco',\n",
       " 'Mexico',\n",
       " '25']"
      ]
     },
     "execution_count": 12,
     "metadata": {},
     "output_type": "execute_result"
    }
   ],
   "source": [
    "rdd2.flatMap(lambda x: x.split(',')).collect()"
   ]
  },
  {
   "cell_type": "markdown",
   "metadata": {},
   "source": [
    "#### `reduce(func) `\n",
    "\n",
    "The `func` here takes two arguments and returns only one result. It requires the operation to be commutative (e.g., a × b = b × a) and associative (e.g., ( a × b ) × c = a × ( b × c ).), so that it can be computed correctly in parallel."
   ]
  },
  {
   "cell_type": "code",
   "execution_count": 13,
   "metadata": {},
   "outputs": [
    {
     "data": {
      "text/plain": [
       "105"
      ]
     },
     "execution_count": 13,
     "metadata": {},
     "output_type": "execute_result"
    }
   ],
   "source": [
    "rdd3 = sc.parallelize([1,3,5,7])\n",
    "rdd3.reduce(lambda a,b: a*b)"
   ]
  },
  {
   "cell_type": "code",
   "execution_count": 14,
   "metadata": {},
   "outputs": [
    {
     "name": "stdout",
     "output_type": "stream",
     "text": [
      "sum is 16\n"
     ]
    }
   ],
   "source": [
    "print(\"sum is\",rdd3.reduce(lambda a,b: a+b))"
   ]
  },
  {
   "cell_type": "code",
   "execution_count": 15,
   "metadata": {},
   "outputs": [
    {
     "name": "stdout",
     "output_type": "stream",
     "text": [
      "mean value is: 4.0\n"
     ]
    }
   ],
   "source": [
    "print(\"mean value is:\",rdd3.reduce(lambda a,b:a+b)/rdd3.count())"
   ]
  },
  {
   "cell_type": "markdown",
   "metadata": {},
   "source": [
    "For some operations, like sum,mean,standard deviation, instead of writing functions by yourself, there are existing actions() for you to use:"
   ]
  },
  {
   "cell_type": "code",
   "execution_count": 16,
   "metadata": {},
   "outputs": [
    {
     "name": "stdout",
     "output_type": "stream",
     "text": [
      "sum is 16\n",
      "mean value is 4.0\n",
      "standard deviation is 2.23606797749979\n"
     ]
    }
   ],
   "source": [
    "print(\"sum is\",rdd3.sum())\n",
    "print(\"mean value is\",rdd3.mean())\n",
    "print(\"standard deviation is\",rdd3.stdev())"
   ]
  },
  {
   "cell_type": "markdown",
   "metadata": {},
   "source": [
    "## Pair RDD"
   ]
  },
  {
   "cell_type": "markdown",
   "metadata": {},
   "source": [
    "Spark also supports Key-Value pairs.\n",
    "\n",
    "A pair RDD is an RDD where each element is a pair tuple (k, v) where k is the key and v is the value. "
   ]
  },
  {
   "cell_type": "markdown",
   "metadata": {},
   "source": [
    "For instance, use the `numsRDD` we create before, we can construct a pair RDD with each pair is (num, 'even' or 'odd') for each number in the RDD. "
   ]
  },
  {
   "cell_type": "code",
   "execution_count": 17,
   "metadata": {},
   "outputs": [
    {
     "data": {
      "text/plain": [
       "[(1, 'odd'),\n",
       " (11, 'odd'),\n",
       " (5, 'odd'),\n",
       " (7, 'odd'),\n",
       " (8, 'even'),\n",
       " (22, 'even'),\n",
       " (51, 'odd'),\n",
       " (52, 'even'),\n",
       " (9, 'odd')]"
      ]
     },
     "execution_count": 17,
     "metadata": {},
     "output_type": "execute_result"
    }
   ],
   "source": [
    "pairs = numsRDD.map(lambda n: (n,'even') if n%2 ==0 else (n,'odd'))\n",
    "pairs.collect()"
   ]
  },
  {
   "cell_type": "markdown",
   "metadata": {},
   "source": [
    "There are some specific transformations for Key-Value paris:\n",
    "\n",
    "Transformation Example                          |Result\n",
    "----------                               |-------\n",
    "`reduceByKey(func)`           |\tReturns a RDD of (K, V) pairs where the values for each key are aggregated using the given reduce function func. \n",
    "`sortByKey()`                   |Returns a RDD of (K, V) pairs sorted by keys.\n",
    "`groupByKey()`           |Returns a RDD of (K,Iterable V ) pairs.\n",
    "\n",
    "Additional information can be found in [Spark's Transformations API](http://spark.apache.org/docs/latest/rdd-programming-guide.html#transformations\n",
    " )."
   ]
  },
  {
   "cell_type": "markdown",
   "metadata": {},
   "source": [
    "#### `sortByKey()`"
   ]
  },
  {
   "cell_type": "code",
   "execution_count": 18,
   "metadata": {},
   "outputs": [
    {
     "name": "stdout",
     "output_type": "stream",
     "text": [
      "Sort by key on the pairs:\n"
     ]
    },
    {
     "data": {
      "text/plain": [
       "[(1, 'odd'),\n",
       " (5, 'odd'),\n",
       " (7, 'odd'),\n",
       " (8, 'even'),\n",
       " (9, 'odd'),\n",
       " (11, 'odd'),\n",
       " (22, 'even'),\n",
       " (51, 'odd'),\n",
       " (52, 'even')]"
      ]
     },
     "execution_count": 18,
     "metadata": {},
     "output_type": "execute_result"
    }
   ],
   "source": [
    "print(\"Sort by key on the pairs:\")\n",
    "pairs.sortByKey().collect()"
   ]
  },
  {
   "cell_type": "markdown",
   "metadata": {},
   "source": [
    "Suppose the key and value is exchanged, now you want to sort by value. Can use `sortBy()`."
   ]
  },
  {
   "cell_type": "code",
   "execution_count": 19,
   "metadata": {},
   "outputs": [
    {
     "data": {
      "text/plain": [
       "[('even', 52),\n",
       " ('odd', 51),\n",
       " ('even', 22),\n",
       " ('odd', 11),\n",
       " ('odd', 9),\n",
       " ('even', 8),\n",
       " ('odd', 7),\n",
       " ('odd', 5),\n",
       " ('odd', 1)]"
      ]
     },
     "execution_count": 19,
     "metadata": {},
     "output_type": "execute_result"
    }
   ],
   "source": [
    "# x[1] refers to value in (K,V) pair\n",
    "pairs.map(lambda x: (x[1],x[0])).sortBy(lambda x: x[1],ascending = False).collect()"
   ]
  },
  {
   "cell_type": "markdown",
   "metadata": {},
   "source": [
    "Now, we want to know how many even and odd numbers are there in numsRDD.\n",
    "\n",
    "**`reduceByKey()`**\n",
    "\n",
    "One way is to use `reduceByKey() ` to do it by first converting each pair to the form of ('even' or 'odd',1)."
   ]
  },
  {
   "cell_type": "code",
   "execution_count": 20,
   "metadata": {},
   "outputs": [
    {
     "data": {
      "text/plain": [
       "[('odd', 1),\n",
       " ('odd', 1),\n",
       " ('odd', 1),\n",
       " ('odd', 1),\n",
       " ('even', 1),\n",
       " ('even', 1),\n",
       " ('odd', 1),\n",
       " ('even', 1),\n",
       " ('odd', 1)]"
      ]
     },
     "execution_count": 20,
     "metadata": {},
     "output_type": "execute_result"
    }
   ],
   "source": [
    "pairs.map(lambda x:(x[1],1)).collect()"
   ]
  },
  {
   "cell_type": "code",
   "execution_count": 21,
   "metadata": {},
   "outputs": [
    {
     "data": {
      "text/plain": [
       "[('even', 3), ('odd', 6)]"
      ]
     },
     "execution_count": 21,
     "metadata": {},
     "output_type": "execute_result"
    }
   ],
   "source": [
    "pairs.map(lambda x:(x[1],1)). \\\n",
    "      reduceByKey(lambda a,b: a+b).\\\n",
    "      collect()"
   ]
  },
  {
   "cell_type": "markdown",
   "metadata": {},
   "source": [
    "\n",
    "#### `groupByKey()`\n",
    "Another way to do it is to exchange key and value, and then use `groupByKey()` function to group all the numbers by 'odd' and 'even'. Finally, count the number of numbers within each group."
   ]
  },
  {
   "cell_type": "code",
   "execution_count": 22,
   "metadata": {},
   "outputs": [
    {
     "data": {
      "text/plain": [
       "[('even', 3), ('odd', 6)]"
      ]
     },
     "execution_count": 22,
     "metadata": {},
     "output_type": "execute_result"
    }
   ],
   "source": [
    "# x[1] is the value, x[0] is the key, exchange them first\n",
    "pairs.map(lambda x:(x[1],x[0])). \\\n",
    "      groupByKey().\\\n",
    "      map(lambda x: (x[0],len(x[1]))).\\\n",
    "      collect()\n",
    "# afrer groupByKey(), x[0] is the key, x[1] is the iterable"
   ]
  },
  {
   "cell_type": "markdown",
   "metadata": {},
   "source": [
    "*Note: Be careful using **groupByKey()**! *\n",
    "\n",
    "To understand it, we need to learn more about spark."
   ]
  },
  {
   "cell_type": "markdown",
   "metadata": {},
   "source": [
    "#### More On Spark\n",
    "\n",
    "<img src=\"https://raw.githubusercontent.com/qyuan210/15688/master/Screen%20Shot%202018-03-24%20at%205.24.56%20PM.png\" width=500/>\n",
    "\n",
    "As showed in the picture, Spark has one Driver that communicates with many distributed Workers (executors). \n",
    "\n",
    "* The driver is the process where the main method runs. It generates tasks to be done and schedules the tasks to the workers.\n",
    "\n",
    "* The workers run individual tasks independently. RDDs are distributed across workers. The transformations and actions are also done in each worker. Only the final results of the action aggregating from each worker is sent back to the driver.\n",
    "\n",
    "Then, why groupByKey() is bad? \n",
    "\n",
    "1. It involves a lot of data movement across the network (across the workers), which is time-costly. For instance, for the key \"cat\", maybe one ('cat',1) is in worker1, and the other ('even',1) are in worker2, then, in order to group them together, it requires data to move on the network.\n",
    "2. The groupByKey() will return iterable, which may be very large and could exhaust available memory in a worker. Remember, the data size is very huge, and that is why we choose to distribute.\n"
   ]
  },
  {
   "cell_type": "markdown",
   "metadata": {},
   "source": [
    "## Application Samples\n",
    "\n",
    "Now that you have learned a lot about RDDs,let's apply it.\n",
    "\n",
    "### 1.WordCount Sample\n",
    "\n",
    "Download data from [here](\n",
    "https://raw.githubusercontent.com/qyuan210/15688/master/tutorialdata.txthttps://raw.githubusercontent.com/qyuan210/15688/master/tutorialdata.txt). Name it as \"tutorialdata.txt\" and put it under the same folder as this tutorial.\n",
    "\n",
    "The data used is modified from [Complete Works of William Shakespeare](http://www.gutenberg.org/ebooks/100). And we will implement Spark and RDD to do wordcount task for this data. \n",
    "\n",
    "As mentioned in previous part, we can use `SparkContext.textFile()` method to convert a text file into an RDD.\n"
   ]
  },
  {
   "cell_type": "code",
   "execution_count": 23,
   "metadata": {},
   "outputs": [
    {
     "data": {
      "text/plain": [
       "tutorialdata.txt MapPartitionsRDD[45] at textFile at NativeMethodAccessorImpl.java:0"
      ]
     },
     "execution_count": 23,
     "metadata": {},
     "output_type": "execute_result"
    }
   ],
   "source": [
    "data = sc.textFile('tutorialdata.txt')\n",
    "data"
   ]
  },
  {
   "cell_type": "code",
   "execution_count": 24,
   "metadata": {},
   "outputs": [
    {
     "name": "stdout",
     "output_type": "stream",
     "text": [
      "Take a look at first 20 elements in RDD. \n"
     ]
    },
    {
     "data": {
      "text/plain": [
       "['                    1',\n",
       " '',\n",
       " 'From fairest creatures we desire increase,',\n",
       " 'That thereby beauty’s rose might never die,',\n",
       " 'But as the riper should by time decease,',\n",
       " 'His tender heir might bear his memory:',\n",
       " 'But thou contracted to thine own bright eyes,',\n",
       " 'Feed’st thy light’s flame with self-substantial fuel,',\n",
       " 'Making a famine where abundance lies,',\n",
       " 'Thy self thy foe, to thy sweet self too cruel:',\n",
       " 'Thou that art now the world’s fresh ornament,',\n",
       " 'And only herald to the gaudy spring,',\n",
       " 'Within thine own bud buriest thy content,',\n",
       " 'And, tender churl, mak’st waste in niggarding:',\n",
       " '  Pity the world, or else this glutton be,',\n",
       " '  To eat the world’s due, by the grave and thee.',\n",
       " '',\n",
       " '                    2',\n",
       " '',\n",
       " 'When forty winters shall besiege thy brow,']"
      ]
     },
     "execution_count": 24,
     "metadata": {},
     "output_type": "execute_result"
    }
   ],
   "source": [
    "print(\"Take a look at first 20 elements in RDD. \")\n",
    "data.take(20)"
   ]
  },
  {
   "cell_type": "markdown",
   "metadata": {},
   "source": [
    "Each line in the txt file is viewed as one element. And notice that there are punctuations, empty lines and numbers in the file. For the purpose of doing wordcount, some data preprocess is needed. \n",
    "\n",
    "#### cleanText\n",
    "In the `cleanText` function:\n",
    "1. all text are transformed into lowercase\n",
    "2. only characters are kept (remove punctuations, numbers,etc.)\n",
    "3. finally,the learning and trailing spaces are also removed\n"
   ]
  },
  {
   "cell_type": "code",
   "execution_count": 25,
   "metadata": {},
   "outputs": [
    {
     "data": {
      "text/plain": [
       "['',\n",
       " '',\n",
       " 'from fairest creatures we desire increase',\n",
       " 'that thereby beautys rose might never die',\n",
       " 'but as the riper should by time decease']"
      ]
     },
     "execution_count": 25,
     "metadata": {},
     "output_type": "execute_result"
    }
   ],
   "source": [
    "import re\n",
    "def cleanText(text):\n",
    "    result = re.sub('[^a-z\\s]+', '', text.strip().lower())\n",
    "    return result.strip()\n",
    "\n",
    "data.map(lambda x:cleanText(x)).take(5)"
   ]
  },
  {
   "cell_type": "markdown",
   "metadata": {},
   "source": [
    "#### remove empty lines"
   ]
  },
  {
   "cell_type": "code",
   "execution_count": 26,
   "metadata": {},
   "outputs": [
    {
     "name": "stdout",
     "output_type": "stream",
     "text": [
      "number of lines before: 134748\n",
      "numer of lines after: 125511\n"
     ]
    },
    {
     "data": {
      "text/plain": [
       "['from fairest creatures we desire increase',\n",
       " 'that thereby beautys rose might never die',\n",
       " 'but as the riper should by time decease',\n",
       " 'his tender heir might bear his memory',\n",
       " 'but thou contracted to thine own bright eyes']"
      ]
     },
     "execution_count": 26,
     "metadata": {},
     "output_type": "execute_result"
    }
   ],
   "source": [
    "print(\"number of lines before:\",data.map(lambda x:cleanText(x)).count())\n",
    "cleanData = data.map(lambda x:cleanText(x)).filter(lambda x: x!='')\n",
    "print(\"numer of lines after:\",cleanData.count())\n",
    "cleanData.take(5)"
   ]
  },
  {
   "cell_type": "markdown",
   "metadata": {},
   "source": [
    "#### wordcount\n",
    "Split each line to get word presentation. Since we want to do wordcount based on the whole file, instead of eachline, we need to use `flatMap()` instead of `map()`. "
   ]
  },
  {
   "cell_type": "code",
   "execution_count": 27,
   "metadata": {},
   "outputs": [
    {
     "name": "stdout",
     "output_type": "stream",
     "text": [
      "number of words in total: 957709\n"
     ]
    },
    {
     "data": {
      "text/plain": [
       "['from',\n",
       " 'fairest',\n",
       " 'creatures',\n",
       " 'we',\n",
       " 'desire',\n",
       " 'increase',\n",
       " 'that',\n",
       " 'thereby',\n",
       " 'beautys',\n",
       " 'rose',\n",
       " 'might',\n",
       " 'never',\n",
       " 'die',\n",
       " 'but',\n",
       " 'as',\n",
       " 'the',\n",
       " 'riper',\n",
       " 'should',\n",
       " 'by',\n",
       " 'time']"
      ]
     },
     "execution_count": 27,
     "metadata": {},
     "output_type": "execute_result"
    }
   ],
   "source": [
    "tokenData = cleanData.flatMap(lambda x: x.split())\n",
    "print(\"number of words in total:\",tokenData.count())\n",
    "tokenData.take(20)"
   ]
  },
  {
   "cell_type": "markdown",
   "metadata": {},
   "source": [
    "Now, we get 957709 words, how to apply Spark and RDD to do word count?\n",
    "\n",
    "We can do similar thing as counting number of odd and even words in previous part. Recall that there are disadvantages of `groupByKey()`, use `reduceByKey()` here."
   ]
  },
  {
   "cell_type": "code",
   "execution_count": 28,
   "metadata": {},
   "outputs": [],
   "source": [
    "wordCountRDD = tokenData.map(lambda w: (w,1)).reduceByKey(lambda a,b: a+b)"
   ]
  },
  {
   "cell_type": "code",
   "execution_count": 29,
   "metadata": {},
   "outputs": [
    {
     "name": "stdout",
     "output_type": "stream",
     "text": [
      "The number of elements in wordCountRDD is equal to the number of unique words in the text:\n"
     ]
    },
    {
     "data": {
      "text/plain": [
       "31055"
      ]
     },
     "execution_count": 29,
     "metadata": {},
     "output_type": "execute_result"
    }
   ],
   "source": [
    "print(\"The number of elements in wordCountRDD is equal to the number of unique words in the text:\")\n",
    "wordCountRDD.count()"
   ]
  },
  {
   "cell_type": "code",
   "execution_count": 30,
   "metadata": {},
   "outputs": [
    {
     "data": {
      "text/plain": [
       "31055"
      ]
     },
     "execution_count": 30,
     "metadata": {},
     "output_type": "execute_result"
    }
   ],
   "source": [
    "tokenData.distinct().count()"
   ]
  },
  {
   "cell_type": "code",
   "execution_count": 31,
   "metadata": {},
   "outputs": [
    {
     "data": {
      "text/plain": [
       "[('fairest', 46),\n",
       " ('creatures', 49),\n",
       " ('we', 3554),\n",
       " ('increase', 32),\n",
       " ('thereby', 27)]"
      ]
     },
     "execution_count": 31,
     "metadata": {},
     "output_type": "execute_result"
    }
   ],
   "source": [
    "wordCountRDD.take(5)"
   ]
  },
  {
   "cell_type": "markdown",
   "metadata": {},
   "source": [
    "`takeOrdered(n, [ordering])` is an action that returns the first n elements of the RDD using either their natural order or a custom comparator in ordering parameter. \n",
    "\n",
    "We can use this action to find the top20 words that occur most frequently in the text."
   ]
  },
  {
   "cell_type": "code",
   "execution_count": 32,
   "metadata": {},
   "outputs": [
    {
     "data": {
      "text/plain": [
       "[('the', 29942),\n",
       " ('and', 28314),\n",
       " ('i', 21848),\n",
       " ('to', 20882),\n",
       " ('of', 18774),\n",
       " ('a', 15964),\n",
       " ('you', 14433),\n",
       " ('my', 13191),\n",
       " ('in', 12013),\n",
       " ('that', 11780),\n",
       " ('is', 9707),\n",
       " ('not', 9064),\n",
       " ('with', 8518),\n",
       " ('me', 8266),\n",
       " ('for', 8180),\n",
       " ('it', 8167),\n",
       " ('his', 7574),\n",
       " ('be', 7363),\n",
       " ('this', 7175),\n",
       " ('your', 7075)]"
      ]
     },
     "execution_count": 32,
     "metadata": {},
     "output_type": "execute_result"
    }
   ],
   "source": [
    "wordCountRDD.takeOrdered(20, key = lambda x: -x[1])"
   ]
  },
  {
   "cell_type": "markdown",
   "metadata": {},
   "source": [
    "Not surprisingly, all of them are coomon stopwords!"
   ]
  },
  {
   "cell_type": "markdown",
   "metadata": {},
   "source": [
    "### 2.PCA Sample"
   ]
  },
  {
   "cell_type": "markdown",
   "metadata": {},
   "source": [
    "In this sample, we will generate PCA from scratch, which is a dimension reduction method. You can refer to [here](https://en.wikipedia.org/wiki/Principal_component_analysis) to learn PCA. And in this tutorial, PCA is computed using [the covariance method](https://en.wikipedia.org/wiki/Principal_component_analysis#Computing_PCA_using_the_covariance_method).\n",
    "\n",
    "The data used can be an example of PCA [here](http://setosa.io/ev/principal-component-analysis/)."
   ]
  },
  {
   "cell_type": "code",
   "execution_count": 33,
   "metadata": {},
   "outputs": [],
   "source": [
    "import numpy as np"
   ]
  },
  {
   "cell_type": "code",
   "execution_count": 34,
   "metadata": {},
   "outputs": [],
   "source": [
    "%matplotlib inline\n",
    "import matplotlib.pyplot as plt\n",
    "import matplotlib"
   ]
  },
  {
   "cell_type": "code",
   "execution_count": 35,
   "metadata": {},
   "outputs": [
    {
     "name": "stdout",
     "output_type": "stream",
     "text": [
      "                            England          Wales       Scotland      N Ireland\n",
      "Cheese                          105            103            103             66\n",
      "Carcass meat                    245            227            242            267\n",
      "Other meat                      685            803            750            586\n",
      "Fish                            147            160            122             93\n",
      "Fats and oils                   193            235            184            209\n",
      "Sugars                          156            175            147            139\n",
      "Fresh potatoes                  720            874            566           1033\n",
      "Fresh Veg                       253            265            171            143\n",
      "Other Veg                       488            570            418            355\n",
      "Processed potatoes              198            203            220            187\n",
      "Processed Veg                   360            365            337            334\n",
      "Fresh fruit                    1102           1137            957            674\n",
      "Cereals                        1472           1582           1462           1494\n",
      "Beverages                        57             73             53             47\n",
      "Soft drinks                    1374           1256           1572           1506\n",
      "Alcoholic drinks                375            475            458            135\n",
      "Confectionary                    54             64             62             41\n",
      "\n",
      "Note: each column is a data point.\n"
     ]
    }
   ],
   "source": [
    "# construct and view the dataset\n",
    "food_data = np.array([[105, 103, 103, 66],\n",
    "                      [245, 227, 242, 267],\n",
    "                      [685, 803, 750, 586],\n",
    "                      [147, 160, 122, 93],\n",
    "                      [193, 235, 184, 209], \n",
    "                      [156, 175, 147, 139],\n",
    "                      [720, 874, 566, 1033],\n",
    "                      [253, 265, 171, 143],\n",
    "                      [488, 570, 418, 355],\n",
    "                      [198, 203, 220, 187],\n",
    "                      [360, 365, 337, 334],\n",
    "                      [1102, 1137, 957, 674],\n",
    "                      [1472, 1582, 1462, 1494],\n",
    "                      [57, 73, 53, 47],\n",
    "                      [1374, 1256, 1572, 1506],\n",
    "                      [375, 475, 458, 135],\n",
    "                      [54, 64, 62, 41]])\n",
    "row_labels = ['Cheese',\n",
    "              'Carcass meat',\n",
    "              'Other meat',\n",
    "              'Fish',\n",
    "              'Fats and oils',\n",
    "              'Sugars',\n",
    "              'Fresh potatoes',\n",
    "              'Fresh Veg',\n",
    "              'Other Veg',\n",
    "              'Processed potatoes',\n",
    "              'Processed Veg',\n",
    "              'Fresh fruit',\n",
    "              'Cereals',\n",
    "              'Beverages',\n",
    "              'Soft drinks',\n",
    "              'Alcoholic drinks',\n",
    "              'Confectionary']\n",
    "\n",
    "column_labels = ['England', 'Wales', 'Scotland', 'N Ireland']\n",
    "\n",
    "first_column_width = 20\n",
    "other_columns_width = 15\n",
    "\n",
    "# print header\n",
    "print(\"\".ljust(first_column_width), end = '') #by default, end is \"\\n\"\n",
    "\n",
    "for column_label in column_labels:\n",
    "    print(column_label.rjust(other_columns_width), end='')\n",
    "print()\n",
    "\n",
    "# print each row in the numpy array with a column label\n",
    "for row_label, row in zip(row_labels, food_data):\n",
    "    print(row_label.ljust(first_column_width), end='')\n",
    "    print(\"\".join([(\"%d\" % x).rjust(other_columns_width) for x in row]))\n",
    "    \n",
    "    \n",
    "print(\"\\nNote: each column is a data point.\")"
   ]
  },
  {
   "cell_type": "markdown",
   "metadata": {},
   "source": [
    "The table shows some interesting variations across different food types, but overall differences aren't so notable. Let's see if PCA can eliminate dimensions to emphasize how countries differ."
   ]
  },
  {
   "cell_type": "code",
   "execution_count": 36,
   "metadata": {},
   "outputs": [],
   "source": [
    "foodRDD = sc.parallelize(food_data.T)"
   ]
  },
  {
   "cell_type": "markdown",
   "metadata": {},
   "source": [
    "#### a. recenter data\n",
    "Subtract mean from each column. The new RDD has zero mean for each column."
   ]
  },
  {
   "cell_type": "code",
   "execution_count": 37,
   "metadata": {},
   "outputs": [
    {
     "name": "stdout",
     "output_type": "stream",
     "text": [
      "[  94.25  245.25  706.    130.5   205.25  154.25  798.25  208.    457.75\n",
      "  202.    349.    967.5  1502.5    57.5  1427.    360.75   55.25]\n",
      "[array([ 105,  245,  685,  147,  193,  156,  720,  253,  488,  198,  360,\n",
      "       1102, 1472,   57, 1374,  375,   54])]\n",
      "[array([ 10.75,  -0.25, -21.  ,  16.5 , -12.25,   1.75, -78.25,  45.  ,\n",
      "        30.25,  -4.  ,  11.  , 134.5 , -30.5 ,  -0.5 , -53.  ,  14.25,\n",
      "        -1.25])]\n"
     ]
    }
   ],
   "source": [
    "mean = foodRDD.sum()/foodRDD.count()\n",
    "zeromeanRDD = foodRDD.map(lambda x: x - mean)\n",
    "\n",
    "print (mean)\n",
    "print (foodRDD.take(1))\n",
    "print (zeromeanRDD.take(1))"
   ]
  },
  {
   "cell_type": "markdown",
   "metadata": {},
   "source": [
    "#### b.compute covariance matrix\n",
    "\n",
    "If we define $\\scriptsize \\mathbf{X} \\in \\mathbb{R}^{n \\times d}$ as the zero mean data matrix, then the covariance matrix is defined as: $$ \\mathbf{C}_{\\mathbf X} = \\frac{1}{n} \\mathbf{X}^\\top \\mathbf{X} \\,.$$  \n",
    "\n",
    "Note that for RDD, data and computation is distributed to different workers. To compute this matrix, first compute the outer product of each data point, which can be done independently in each worker. Then,add together these outer products from every worker, and divide by the number of data points. \n",
    " \n"
   ]
  },
  {
   "cell_type": "code",
   "execution_count": 38,
   "metadata": {},
   "outputs": [
    {
     "name": "stdout",
     "output_type": "stream",
     "text": [
      "(17, 17)\n"
     ]
    }
   ],
   "source": [
    "Cov = zeromeanRDD.map(lambda x: np.outer(x,x)).sum()/zeromeanRDD.count()\n",
    "print(Cov.shape)"
   ]
  },
  {
   "cell_type": "markdown",
   "metadata": {},
   "source": [
    "#### c.eigen decomposition\n",
    "\n",
    "We can perform an eigendecomposition of the covariance matrix to find its eigenvalues and eigenvectors. The $\\scriptsize d $ eigenvectors of the covariance matrix give us the directions of maximal variance, and are called the \"principal components.\"  The associated eigenvalues are the variances in these directions. \n",
    " \n",
    "Function from `numpy.linalg` called [eigh](http://docs.scipy.org/doc/numpy/reference/generated/numpy.linalg.eigh.html) can be used to perform the eigendecomposition. "
   ]
  },
  {
   "cell_type": "code",
   "execution_count": 39,
   "metadata": {},
   "outputs": [
    {
     "name": "stdout",
     "output_type": "stream",
     "text": [
      "topComponents: \n",
      "[[-0.05695538]\n",
      " [ 0.04792763]\n",
      " [-0.25891666]\n",
      " [-0.08441498]\n",
      " [-0.00519362]\n",
      " [-0.03762098]\n",
      " [ 0.40140206]\n",
      " [-0.15184994]\n",
      " [-0.24359373]\n",
      " [-0.02688623]\n",
      " [-0.03648827]\n",
      " [-0.6326409 ]\n",
      " [-0.04770286]\n",
      " [-0.02618776]\n",
      " [ 0.23224414]\n",
      " [-0.46396817]\n",
      " [-0.0296502 ]]\n",
      "\n",
      "eigenvalues: \n",
      "[ 7.88050093e+04  3.39462187e+04  4.09327202e+03  1.54680383e-11\n",
      "  2.53115832e-12  6.84274882e-13  3.50730576e-13  1.20176942e-13\n",
      "  7.15829818e-14  1.50330576e-14 -2.48950215e-15 -6.55224003e-15\n",
      " -3.79206125e-14 -1.34069089e-13 -6.33203554e-13 -2.53821578e-12\n",
      " -1.37453208e-11]\n"
     ]
    }
   ],
   "source": [
    "from numpy.linalg import eigh\n",
    "\n",
    "eigVals, eigVecs = eigh(Cov)\n",
    "\n",
    "#reorder the eigvectors and eigvalues by descending of eigen values\n",
    "inds = np.argsort(-eigVals)\n",
    "eigVals = eigVals[inds]\n",
    "eigVecs = eigVecs[:, inds]\n",
    "\n",
    "TopVecs = eigVecs[:,0:1]\n",
    "\n",
    "\n",
    "print ('topComponents: \\n{0}'.format(TopVecs))\n",
    "print ('\\neigenvalues: \\n{0}'.format(eigVals))\n"
   ]
  },
  {
   "cell_type": "markdown",
   "metadata": {},
   "source": [
    "#### c. project data onto new dimensions"
   ]
  },
  {
   "cell_type": "code",
   "execution_count": 40,
   "metadata": {},
   "outputs": [
    {
     "name": "stdout",
     "output_type": "stream",
     "text": [
      "reduce to 1 dimension:\n"
     ]
    },
    {
     "data": {
      "text/plain": [
       "[array([-702.98504825]),\n",
       " array([-798.52104371]),\n",
       " array([-649.86123507]),\n",
       " array([-80.60025725])]"
      ]
     },
     "execution_count": 40,
     "metadata": {},
     "output_type": "execute_result"
    }
   ],
   "source": [
    "print(\"reduce to 1 dimension:\")\n",
    "foodRDD.map(lambda x:x.dot(TopVecs)).take(5)"
   ]
  },
  {
   "cell_type": "code",
   "execution_count": 41,
   "metadata": {},
   "outputs": [
    {
     "name": "stdout",
     "output_type": "stream",
     "text": [
      "reduce to 2 dimension:\n"
     ]
    },
    {
     "data": {
      "text/plain": [
       "[array([-144.99315218,   -2.53299944]),\n",
       " array([-240.52914764, -224.64692488]),\n",
       " array([-91.869339  , 286.08178613]),\n",
       " array([477.39163882, -58.90186182])]"
      ]
     },
     "execution_count": 41,
     "metadata": {},
     "output_type": "execute_result"
    }
   ],
   "source": [
    "print(\"reduce to 2 dimension:\")\n",
    "zeromeanRDD.map(lambda x:x.dot(eigVecs[:,:2])).take(5)"
   ]
  },
  {
   "cell_type": "markdown",
   "metadata": {},
   "source": [
    "#### pca function\n",
    "\n",
    "Wrap up the steps above to a single `pca` function."
   ]
  },
  {
   "cell_type": "code",
   "execution_count": 42,
   "metadata": {},
   "outputs": [],
   "source": [
    "def pca(data, k = 2):\n",
    "    \n",
    "    mean = data.sum()/data.count()\n",
    "    zeromeanRDD = data.map(lambda x: x - mean)\n",
    "    Cov = zeromeanRDD.map(lambda x: np.outer(x,x)).sum()/zeromeanRDD.count()\n",
    "    \n",
    "    eigVals, eigVecs = eigh(Cov)\n",
    "    inds = np.argsort(-eigVals)\n",
    "    eigVals = eigVals[inds]\n",
    "    #each column in eigVecs is an eigen vector\n",
    "    eigVecs = eigVecs[:, inds]\n",
    "    kVecs = eigVecs[:,0:k]\n",
    "    \n",
    "   \n",
    "    projections = zeromeanRDD.map(lambda x:x.dot(kVecs))\n",
    "    \n",
    "    # Return the `k` principal components, 'k' dim projections, and all eigenvalues)\n",
    "    return (kVecs, projections,eigVals)"
   ]
  },
  {
   "cell_type": "code",
   "execution_count": 43,
   "metadata": {},
   "outputs": [
    {
     "name": "stdout",
     "output_type": "stream",
     "text": [
      "First 2 Components: \n",
      "[[-0.05695538  0.01601285]\n",
      " [ 0.04792763  0.01391582]\n",
      " [-0.25891666 -0.01533114]\n",
      " [-0.08441498 -0.05075495]\n",
      " [-0.00519362 -0.09538866]\n",
      " [-0.03762098 -0.0430217 ]\n",
      " [ 0.40140206 -0.71501708]\n",
      " [-0.15184994 -0.14490027]\n",
      " [-0.24359373 -0.22545092]\n",
      " [-0.02688623  0.04285076]\n",
      " [-0.03648827 -0.0454518 ]\n",
      " [-0.6326409  -0.17774074]\n",
      " [-0.04770286 -0.21259968]\n",
      " [-0.02618776 -0.03056054]\n",
      " [ 0.23224414  0.55512431]\n",
      " [-0.46396817  0.11353652]\n",
      " [-0.0296502   0.00594992]]\n",
      "\n",
      "projection to 2 dimensions: \n",
      "[-144.99315218   -2.53299944]\n",
      "[-240.52914764 -224.64692488]\n",
      "[-91.869339   286.08178613]\n",
      "[477.39163882 -58.90186182]\n",
      "\n",
      "eigenvalues: \n",
      "[ 7.88050093e+04  3.39462187e+04  4.09327202e+03  1.54680383e-11\n",
      "  2.53115832e-12  6.84274882e-13  3.50730576e-13  1.20176942e-13\n",
      "  7.15829818e-14  1.50330576e-14 -2.48950215e-15 -6.55224003e-15\n",
      " -3.79206125e-14 -1.34069089e-13 -6.33203554e-13 -2.53821578e-12\n",
      " -1.37453208e-11]\n"
     ]
    }
   ],
   "source": [
    "# Run pca on with k = 2\n",
    "KComponents, projection, eigenvalues = pca(foodRDD)\n",
    "\n",
    "print ('First 2 Components: \\n{0}'.format(KComponents))\n",
    "print ('\\nprojection to 2 dimensions: \\n{0}'\n",
    "       .format('\\n'.join(map(str, projection.collect()))))\n",
    "print ('\\neigenvalues: \\n{0}'.format(eigenvalues))\n"
   ]
  },
  {
   "cell_type": "markdown",
   "metadata": {},
   "source": [
    "#### data visualization\n",
    "\n",
    "* data along the first principal component"
   ]
  },
  {
   "cell_type": "code",
   "execution_count": 44,
   "metadata": {},
   "outputs": [],
   "source": [
    "P = projection.collect()\n",
    "x1 = [a[0] for a in P]\n",
    "x2 = [a[1] for a in P]"
   ]
  },
  {
   "cell_type": "code",
   "execution_count": 45,
   "metadata": {},
   "outputs": [
    {
     "data": {
      "image/png": "[encoded data removed]",
      "text/plain": [
       "<matplotlib.figure.Figure at 0x10c5ca518>"
      ]
     },
     "metadata": {},
     "output_type": "display_data"
    }
   ],
   "source": [
    "y_axis_all_zeros = np.zeros(len(x1))\n",
    "plt.scatter(x1, y_axis_all_zeros)\n",
    "for idx in range(food_data.T.shape[0]):\n",
    "    plt.annotate(column_labels[idx], (x1[idx], y_axis_all_zeros[idx]),rotation = 90)\n",
    "plt.grid()\n",
    "plt.show()"
   ]
  },
  {
   "cell_type": "markdown",
   "metadata": {},
   "source": [
    "* data projected to the first  and second principal components"
   ]
  },
  {
   "cell_type": "code",
   "execution_count": 46,
   "metadata": {},
   "outputs": [
    {
     "data": {
      "image/png": "[encoded data removed]",
      "text/plain": [
       "<matplotlib.figure.Figure at 0x10c5cada0>"
      ]
     },
     "metadata": {},
     "output_type": "display_data"
    }
   ],
   "source": [
    "plt.figure(figsize = (6,6))\n",
    "plt.scatter(x1,x2, alpha = 0.6,c = 'red')\n",
    "plt.xlabel('PC1')\n",
    "plt.ylabel('PC2')\n",
    "\n",
    "plt.axis('equal')\n",
    "\n",
    "for idx in range(food_data.T.shape[0]):\n",
    "    plt.annotate(column_labels[idx], (x1[idx], x2[idx]))\n",
    "    \n",
    "plt.grid()\n",
    "plt.show()"
   ]
  },
  {
   "cell_type": "markdown",
   "metadata": {},
   "source": [
    "We can see that Northern Ireland is a major outlier."
   ]
  },
  {
   "cell_type": "markdown",
   "metadata": {},
   "source": [
    "#### Variance explained\n",
    "\n",
    "Finally, let's quantify how much of the variance is being captured by PCA."
   ]
  },
  {
   "cell_type": "code",
   "execution_count": 47,
   "metadata": {},
   "outputs": [
    {
     "name": "stdout",
     "output_type": "stream",
     "text": [
      "Percentage of variance explained by the first component of foodData: 67.4%\n",
      "Percentage of variance explained by the top2 component of foodData: 96.5%\n"
     ]
    }
   ],
   "source": [
    "def varianceExplained(data, k=1):\n",
    "    \n",
    "    components, projections, eigenvalues = pca(data,k)\n",
    "    \n",
    "    #return the percentage of variance explained by the top `k` eigenvectors.\n",
    "    return eigenvalues[0:k].sum()/eigenvalues.sum()\n",
    "\n",
    "variance1 = varianceExplained(foodRDD, 1)\n",
    "variance2 = varianceExplained(foodRDD, 2)\n",
    "variance3 = varianceExplained(foodRDD, 2)\n",
    "\n",
    "\n",
    "print ('Percentage of variance explained by the first component of foodData: {0:.1f}%'\n",
    "       .format(variance1 * 100))\n",
    "print ('Percentage of variance explained by the top2 component of foodData: {0:.1f}%'\n",
    "       .format(variance2 * 100))"
   ]
  },
  {
   "cell_type": "markdown",
   "metadata": {},
   "source": [
    "We can see the top2 component explain more than 90% variance of data. PCA works well.\n",
    "\n",
    "While this is just a mini dataset to help you understand, using Spark can really help in big data context becuase of its underlying infrastructure. Also, [pca](https://spark.apache.org/docs/2.2.0/mllib-dimensionality-reduction.html#principal-component-analysis-pca) in pyspark.mllib can be used directly. You can explore it by yourself."
   ]
  },
  {
   "cell_type": "markdown",
   "metadata": {},
   "source": [
    "## Summary and Resources\n",
    "\n",
    "This tutorial covered just the basic concepts and operations of RDD. There are much more things in RDD and Spark.You may find following links helpful for further studies:\n",
    "\n",
    "1. PySpark API: http://spark.apache.org/docs/latest/api/python/\n",
    "2. PCA analysis: http://setosa.io/ev/principal-component-analysis/\n",
    "3. Learning Spark: http://shop.oreilly.com/product/0636920028512.do\n",
    "4. Advanced Analytics with Spark: http://shop.oreilly.com/product/0636920035091.do\n",
    "5. PySpark CheatSheet: https://www.datacamp.com/community/blog/pyspark-cheat-sheet-python\n",
    "6. Python Basics: http://ai.berkeley.edu/tutorial.html#PythonBasics"
   ]
  }
 ],
 "metadata": {
  "kernelspec": {
   "display_name": "Python 3",
   "language": "python",
   "name": "python3"
  },
  "language_info": {
   "codemirror_mode": {
    "name": "ipython",
    "version": 3
   },
   "file_extension": ".py",
   "mimetype": "text/x-python",
   "name": "python",
   "nbconvert_exporter": "python",
   "pygments_lexer": "ipython3",
   "version": "3.6.4"
  }
 },
 "nbformat": 4,
 "nbformat_minor": 2
}
