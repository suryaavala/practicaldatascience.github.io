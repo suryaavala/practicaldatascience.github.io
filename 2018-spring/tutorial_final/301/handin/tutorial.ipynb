{
 "cells": [
  {
   "cell_type": "markdown",
   "metadata": {},
   "source": [
    "# Introduction\n",
    "\n",
    "Neural network algorithm has turned out to be a powerful machine learning tool to find patterns in a various kinds of data, such as texts, pictures, and even videos. Keras is a high-level neural network API for python that runs on Tensorflow, CNTL or Theano. It has encapsulated many widely-used neural network layer functions and data processing functions. With Keras, a practioner can build a customized neural network without knowing too much about the underlying theories.\n",
    "We will go through using Keras to solve common natural language processing problems in data science. More specifically, we will cover the following topics in this tutorial:\n",
    "- [Installing the required libraries](#Installing-the-required-libraries)\n",
    "- [A simple introduction to neural network](#A-simple-introduction-to-neural-network)\n",
    "- [Application 1: Spam filtering with Keras](#Application-1:-Spam-filtering-with-Keras)\n",
    " - [Prepare text data in Keras](#Prepare-text-data-in-Keras)\n",
    " - [Build a simple network with Keras](#Build-a-simple-network-with-Keras)\n",
    " - [Train the model](#Train-the-model)\n",
    " - [Save models and evaluate](#Save-models-and-evaluate)\n",
    "- [Application 2: Stock analysis with Keras](#Application-2:-Stock-analysis-with-Keras)\n",
    " - [Prepare stock data](#Prepare-stock-data)\n",
    " - [Build the GRU network](#Build-the-GRU-network)\n",
    " - [Train GRU model](#Train-GRU-model)\n",
    " - [Validate the model](#Validate-the-model)\n",
    "- [References](#References)"
   ]
  },
  {
   "cell_type": "markdown",
   "metadata": {},
   "source": [
    "# Installing the required libraries\n",
    "\n",
    "Here, we will go through the steps to install and use Keras in your conda environment.\n",
    "\n",
    "Firstly, install the tensorflow engine in your anoconda environment:\n",
    "\n",
    "(1) Create a conda environment named tensorflow by invoking:\n",
    "\n",
    "```$ conda create -n tensorflow pip python=your_python_version```\n",
    "\n",
    "(2) Activate the conda environment and install Tensorflow using pip\n",
    "\n",
    "```$ source activate tensorflow```\n",
    "\n",
    "```$ pip install --ignore-installed --upgrade https://storage.googleapis.com/tensorflow/mac/cpu/tensorflow-1.6.0-py3-none-any.whl (Use this if you're using python 3.x)```\n",
    "\n",
    "```$ pip install --ignore-installed --upgrade https://storage.googleapis.com/tensorflow/mac/cpu/tensorflow-1.6.0-py2-none-any.whl (Use this if you're using python 2.x)```\n",
    "\n",
    "(3) Execute the following command to resolve additional package dependencies:\n",
    "\n",
    "```$ conda install notebook```\n",
    "\n",
    "(4) Install Keras:\n",
    "\n",
    "```$ conda install -c conda-forge keras```\n",
    "\n",
    "(5) Install the following libraries for visualizing the network model\n",
    "\n",
    "```$ conda install pydot```\n",
    "\n",
    "```$ conda install graphviz```\n",
    "\n",
    "There we go! Now you should be able to use Keras in Jupyter notebook."
   ]
  },
  {
   "cell_type": "markdown",
   "metadata": {},
   "source": [
    "# A simple introduction to neural network\n",
    "\n",
    "Currently, there are already many existing libraries like Keras that we can use without knowing the underlying theory, but it can be good for you to know a little bit of how neural network works before you lay hands on the libraries.\n",
    "\n",
    "The basic unit of a neural network is called a neuron. It receives the input data and apply some function, which we usually call activation function, to the input data and output the result. The picture is from [here](https://towardsdatascience.com/a-gentle-introduction-to-neural-networks-series-part-1-2b90b87795bc).\n",
    "\n",
    "<img src='pictures/neuron.gif'>\n",
    "\n",
    "Usually, a neural network can have many layers, each with many neurons. A very classic neural network is a fully connected network, in which each neuron in one layer is connected to all the neurons in the following layer. \n",
    "\n",
    "When you input your data into the neural network, each neuron in the input layer will receive your data and apply the activation function to it, such as softmax or tanh, to produce an output and feed the output to all the neurons in the next layer. Then each neuron in the next layer will receive all the outputs from all neurons from the previous layer and do the same thing.\n",
    "\n",
    "The neural network use gradient descent algorithm to perform optimization of the model. Gradient descent is a way to minimize an objective function parameterized by a model's parameters by updating the parameters in the opposite direction of the gradient of the objective function to the parameters. When the network model outputs the final result from the input data, it will calculate the lossand propagate the loss back to the network. Then each neuron will update its weights and bias of its activation function. You can regard this process as a feedback to the network so that the netowrk could learn from the loss and try to give more accurate predictions netxt time.\n",
    "\n",
    "If you want to know more details about neural networks, [blogs by Michael Nielsen](http://neuralnetworksanddeeplearning.com/index.html) are awesome materials."
   ]
  },
  {
   "cell_type": "markdown",
   "metadata": {},
   "source": [
    "# Application 1: Spam filtering with Keras"
   ]
  },
  {
   "cell_type": "markdown",
   "metadata": {},
   "source": [
    "In this example, we will use Keras to solve a classic NLP problem. a spam classification example. The data we'll use here is from the [UCI Machine Learning Repository](https://archive.ics.uci.edu/ml/datasets/SMS+Spam+Collection).\n",
    "SMS (Short Message Service) is a text messaging service component of most telephone, World Wide Web, and mobile device systems. SMS spam is a common form of spam, include unsolicited messages or advertising.\n",
    "\n",
    "We will build a simple neural network using Keras to filter spam frm our messages. The data set used to train the model is from the UCI SMS Spam Collection Data Set. The data is stored in a .txt file, in which each row of the text containing two attributes: the tag and the text."
   ]
  },
  {
   "cell_type": "markdown",
   "metadata": {},
   "source": [
    "## Prepare text data in Keras\n",
    "\n",
    "Firstly, we need to separate the tag of each SMS message from the text. We transform labels to integer, so that they can be used in neural network."
   ]
  },
  {
   "cell_type": "code",
   "execution_count": 2,
   "metadata": {},
   "outputs": [
    {
     "name": "stdout",
     "output_type": "stream",
     "text": [
      "--------------------Sample Data--------------------\n",
      "Label: 0  Text: Go until jurong point, crazy.. Available only in bugis n great world la e buffet... Cine there got amore wat...\n",
      "\n",
      "Label: 0  Text: Ok lar... Joking wif u oni...\n",
      "\n",
      "Label: 1  Text: Free entry in 2 a wkly comp to win FA Cup final tkts 21st May 2005. Text FA to 87121 to receive entry question(std txt rate)T&C's apply 08452810075over18's\n",
      "\n",
      "Label: 0  Text: U dun say so early hor... U c already then say...\n",
      "\n",
      "Label: 0  Text: Nah I don't think he goes to usf, he lives around here though\n",
      "\n"
     ]
    }
   ],
   "source": [
    "spam_path = 'SMS/SMSSpamCollection.txt'\n",
    "\n",
    "tags = []\n",
    "sms = []\n",
    "\n",
    "# separate the tags from the text\n",
    "with open(spam_path, 'r') as spam_file:\n",
    "    for line in spam_file:\n",
    "        if line.split('\\t', 1)[0] == 'spam':\n",
    "            tags.append(1)\n",
    "        else:\n",
    "            tags.append(0)\n",
    "        sms.append(line.split('\\t', 1)[1])\n",
    "\n",
    "print('--------------------Sample Data--------------------')\n",
    "for tag, text in zip(tags[:5], sms[:5]):\n",
    "    print(\"Label:\", tag, \" Text:\", text)"
   ]
  },
  {
   "cell_type": "markdown",
   "metadata": {},
   "source": [
    "Text processing is easy and straightforward in Keras. There are several methods provided by Keras. Below I will introduce my preferred approach.\n",
    "\n",
    "For neural networks to work, text data must be encoded as numbers in order to be used as input. Keras provides the Tokenizer class for preparing text documents for deep learning. Below is a simple example of text processing in Keras:"
   ]
  },
  {
   "cell_type": "code",
   "execution_count": 3,
   "metadata": {},
   "outputs": [
    {
     "name": "stdout",
     "output_type": "stream",
     "text": [
      "--------------------Word Counts--------------------\n",
      "OrderedDict([('at', 1), ('last', 1), ('we', 1), ('have', 1), ('found', 1), ('out', 1), ('the', 2), ('truth', 1), ('well', 1), ('done', 1), ('this', 1), ('seems', 1), ('an', 1), ('accident', 1), ('nothing', 1), ('in', 1), ('woods', 1), ('wee', 1), ('need', 1), ('to', 1), ('tell', 1), ('others', 1)])\n",
      "print('--------------------Word Index--------------------')\n",
      "{'the': 1, 'at': 2, 'last': 3, 'we': 4, 'have': 5, 'found': 6, 'out': 7, 'truth': 8, 'well': 9, 'done': 10, 'this': 11, 'seems': 12, 'an': 13, 'accident': 14, 'nothing': 15, 'in': 16, 'woods': 17, 'wee': 18, 'need': 19, 'to': 20, 'tell': 21, 'others': 22}\n",
      "--------------------Document frequency--------------------\n",
      "{'found': 1, 'have': 1, 'truth': 1, 'at': 1, 'the': 2, 'out': 1, 'last': 1, 'we': 1, 'done': 1, 'well': 1, 'seems': 1, 'accident': 1, 'an': 1, 'this': 1, 'woods': 1, 'nothing': 1, 'in': 1, 'others': 1, 'to': 1, 'tell': 1, 'need': 1, 'wee': 1}\n",
      "--------------------Document Number--------------------\n",
      "5\n"
     ]
    }
   ],
   "source": [
    "from keras.preprocessing.text import Tokenizer\n",
    "\n",
    "# define 5 documents\n",
    "docs = ['At last we have found out the truth',\n",
    "\t\t'Well done!',\n",
    "\t\t'This seems an accident',\n",
    "\t\t'Nothing in the woods',\n",
    "\t\t'Wee need to tell others.']\n",
    "# create the tokenizer\n",
    "t = Tokenizer(num_words=None,\n",
    "              filters='!\"#$%&()*+,-./:;<=>?@[\\\\]^_`{|}~\\t\\n',\n",
    "              lower=True)\n",
    "# fit the tokenizer on the documents\n",
    "t.fit_on_texts(docs)\n",
    "\n",
    "# summarize what was learned\n",
    "print('--------------------Word Counts--------------------')\n",
    "print(t.word_counts) # a dictionary of words and their frequencies in the collections\n",
    "print(\"print('--------------------Word Index--------------------')\")\n",
    "print(t.word_index) # t.word_index is a dict in which key is a word and value is its unique index\n",
    "print('--------------------Document frequency--------------------')\n",
    "print(t.word_docs) #  t.word_docs is the a dict of words and their document frequency\n",
    "print('--------------------Document Number--------------------')\n",
    "print(t.document_count) # t.document_count is the total number of documents processed"
   ]
  },
  {
   "cell_type": "markdown",
   "metadata": {},
   "source": [
    "After the tokenizer has been fit on the training set, it could be used to encode text samples in other data sets. The texts_to_matrix() function on the Tokenizer can be used to create one feature vector per document provided per input. The length of the vectors is the total size of the vocabulary. "
   ]
  },
  {
   "cell_type": "code",
   "execution_count": 4,
   "metadata": {},
   "outputs": [
    {
     "name": "stdout",
     "output_type": "stream",
     "text": [
      "[[0. 1. 1. 1. 1. 1. 1. 1. 1. 0. 0. 0. 0. 0. 0. 0. 0. 0. 0. 0. 0. 0. 0.]\n",
      " [0. 0. 0. 0. 0. 0. 0. 0. 0. 1. 1. 0. 0. 0. 0. 0. 0. 0. 0. 0. 0. 0. 0.]\n",
      " [0. 0. 0. 0. 0. 0. 0. 0. 0. 0. 0. 1. 1. 1. 1. 0. 0. 0. 0. 0. 0. 0. 0.]\n",
      " [0. 1. 0. 0. 0. 0. 0. 0. 0. 0. 0. 0. 0. 0. 0. 1. 1. 1. 0. 0. 0. 0. 0.]\n",
      " [0. 0. 0. 0. 0. 0. 0. 0. 0. 0. 0. 0. 0. 0. 0. 0. 0. 0. 1. 1. 1. 1. 1.]]\n"
     ]
    }
   ],
   "source": [
    "matrix = t.texts_to_matrix(docs, mode='count')\n",
    "print(matrix)"
   ]
  },
  {
   "cell_type": "markdown",
   "metadata": {},
   "source": [
    "Now, we use similar methods to process our text data in the spam collection. The difference is that we will additionally use NLTK to remove the stop words from our text data. There are a total of 5574 data samples in the whole collection. We choose the first 4000 samples for training, and the rest for validation. We will firstly use the Keras tokenizer on the sample text to gain the statistic information about the data set, such as the vocabulary size. Then we will encode each word as an integer and prepare the data for Word Embedding. I'll explain what is Word Embedding later in this tutorial."
   ]
  },
  {
   "cell_type": "code",
   "execution_count": 5,
   "metadata": {},
   "outputs": [
    {
     "name": "stdout",
     "output_type": "stream",
     "text": [
      "Done\n"
     ]
    }
   ],
   "source": [
    "from nltk.corpus import stopwords\n",
    "from nltk.tokenize import word_tokenize\n",
    "from scipy.sparse import csr_matrix\n",
    "from keras.preprocessing.text import one_hot\n",
    "from keras.preprocessing.sequence import pad_sequences\n",
    "\n",
    "# filter the stop words from each data sample\n",
    "stop_words = set(stopwords.words('english'))\n",
    "max_length = 0\n",
    "\n",
    "for index, text in enumerate(sms):\n",
    "    text = text.lower()\n",
    "    word_tokens = word_tokenize(text)\n",
    "    word_tokens = [w for w in word_tokens if not w in stop_words]\n",
    "    max_length = max(max_length, len(word_tokens))\n",
    "    sms[index] = ' '.join(word_tokens)\n",
    "\n",
    "# use the tokenizer to gain statistic information\n",
    "tokenizer = Tokenizer(num_words=None,\n",
    "                      filters='!\"#$%&()*+,-./:;<=>?@[\\\\]^_`{|}~\\t\\n',\n",
    "                      lower=True)\n",
    "# fit the tokenizer on the documents\n",
    "tokenizer.fit_on_texts(sms)\n",
    "vocab_size = len(tokenizer.word_counts)\n",
    "    \n",
    "# choose the training data set and validation data set\n",
    "train_tags = tags[:4000]\n",
    "train_sms = sms[:4000]\n",
    "valid_tags = tags[4000:]\n",
    "valid_sms = sms[4000:]\n",
    "\n",
    "# encode the words into integers\n",
    "encoded_train_sms = [one_hot(sms, vocab_size) for sms in train_sms]\n",
    "encoded_valid_sms = [one_hot(sms, vocab_size) for sms in valid_sms]\n",
    "\n",
    "# The neural network require the input data to be of the same shape\n",
    "# we pad each sequence so that they will have the length as the longest string\n",
    "padded_train_sms = pad_sequences(encoded_train_sms, maxlen=max_length)\n",
    "padded_valid_sms = pad_sequences(encoded_valid_sms, maxlen=max_length)\n",
    "print(\"Done\")"
   ]
  },
  {
   "cell_type": "markdown",
   "metadata": {},
   "source": [
    "## Build a simple network with Keras\n",
    "\n",
    "Building a neural network using Keras is partucularly easy when compared with other frameworks such as Theano. In Keras, a neural network starts from a **model** data structure. Then, adding layers is as simple as calling the **add( )** function. Let me demonstrate this using a simple example."
   ]
  },
  {
   "cell_type": "markdown",
   "metadata": {},
   "source": [
    "Firstly, we need to create a model. Because our net in this example is relatively simple, a sequential model will suffice."
   ]
  },
  {
   "cell_type": "code",
   "execution_count": 6,
   "metadata": {},
   "outputs": [],
   "source": [
    "from keras.models import Sequential\n",
    "\n",
    "model = Sequential()"
   ]
  },
  {
   "cell_type": "markdown",
   "metadata": {},
   "source": [
    "Then, we firstly add the **Embedding** layer as our input part. This layer provides a better representation of text feature vectors than the sparse representation. For simplicity, you can regard the function of this layer similar to Word2Vec, which can learn some context information about each word.\n",
    "Then, we can add the different layers by simply calling the **add( )** function. **Flatten** layer is used to flatten the output from the **Embedding** layer.The **Dense** layer perfors the fully-connected operation. We can set the number of neurons at this layer.\n",
    "The **Dropout** layer is used to prevent the model we learn from overfitting. This layer works in the way in which every time a data sample is input into the network, 30% of the neurons will be deactivated and only the rest 70% neurons will process input data."
   ]
  },
  {
   "cell_type": "code",
   "execution_count": 7,
   "metadata": {},
   "outputs": [
    {
     "name": "stdout",
     "output_type": "stream",
     "text": [
      "_________________________________________________________________\n",
      "Layer (type)                 Output Shape              Param #   \n",
      "=================================================================\n",
      "embedding_1 (Embedding)      (None, 202, 250)          2198750   \n",
      "_________________________________________________________________\n",
      "flatten_1 (Flatten)          (None, 50500)             0         \n",
      "_________________________________________________________________\n",
      "dense_1 (Dense)              (None, 256)               12928256  \n",
      "_________________________________________________________________\n",
      "dropout_1 (Dropout)          (None, 256)               0         \n",
      "_________________________________________________________________\n",
      "dense_2 (Dense)              (None, 128)               32896     \n",
      "_________________________________________________________________\n",
      "dropout_2 (Dropout)          (None, 128)               0         \n",
      "_________________________________________________________________\n",
      "dense_3 (Dense)              (None, 64)                8256      \n",
      "_________________________________________________________________\n",
      "dropout_3 (Dropout)          (None, 64)                0         \n",
      "=================================================================\n",
      "Total params: 15,168,158\n",
      "Trainable params: 15,168,158\n",
      "Non-trainable params: 0\n",
      "_________________________________________________________________\n"
     ]
    }
   ],
   "source": [
    "from keras.layers import Dense, Activation, Dropout, Embedding, Flatten\n",
    "from keras.utils import plot_model\n",
    "from keras import backend\n",
    "\n",
    "model.add(Embedding(vocab_size, 250, input_length=max_length))\n",
    "model.add(Flatten())\n",
    "model.add(Dense(256, activation=backend.relu))\n",
    "# model.add(Activation('relu'))\n",
    "model.add(Dropout(0.3))\n",
    "model.add(Dense(128, activation=backend.relu))\n",
    "# model.add(Activation('relu'))\n",
    "model.add(Dropout(0.3))\n",
    "model.add(Dense(64, activation=backend.relu))\n",
    "# model.add(Activation('relu'))\n",
    "model.add(Dropout(0.3))\n",
    "# print out the network architecture\n",
    "model.summary()"
   ]
  },
  {
   "cell_type": "markdown",
   "metadata": {},
   "source": [
    "Since we have the input layer, we should also have an output layer in our network. To achieve this output the layer will use the Softmax activation function."
   ]
  },
  {
   "cell_type": "code",
   "execution_count": 8,
   "metadata": {},
   "outputs": [],
   "source": [
    "num_labels = 2\n",
    "\n",
    "model.add(Dense(num_labels))\n",
    "model.add(Activation('softmax'))"
   ]
  },
  {
   "cell_type": "markdown",
   "metadata": {},
   "source": [
    "At this point, we have finished the network building process. If you build some very complex model, the stack-style layout of different layers may not be so vivid to watch. Fortunately, we could use the following function to get a better representation of our model structure."
   ]
  },
  {
   "cell_type": "code",
   "execution_count": 11,
   "metadata": {},
   "outputs": [],
   "source": [
    "# Use this to visualize your network structure in picture\n",
    "from IPython.display import SVG\n",
    "from keras.utils.vis_utils import model_to_dot\n",
    "\n",
    "SVG(model_to_dot(model).create(prog='dot', format='svg'))"
   ]
  },
  {
   "cell_type": "markdown",
   "metadata": {},
   "source": [
    "<img src='pictures/model.png'>"
   ]
  },
  {
   "cell_type": "markdown",
   "metadata": {},
   "source": [
    "## Train the model\n",
    "\n",
    "To prepare our model for training, we need to call the compile method with the loss function we want to use, the type of optimizer, and the metrics our model should evaluate during training and testing. We’ll use the cross entropy loss function, since each data sample can only belong to one category. The adam optimizer is also used here."
   ]
  },
  {
   "cell_type": "code",
   "execution_count": 9,
   "metadata": {},
   "outputs": [],
   "source": [
    "model.compile(loss='categorical_crossentropy', \n",
    "              optimizer='adam',\n",
    "              metrics=['accuracy'])"
   ]
  },
  {
   "cell_type": "markdown",
   "metadata": {},
   "source": [
    "Finally, we can just input our training data into the model."
   ]
  },
  {
   "cell_type": "code",
   "execution_count": 10,
   "metadata": {},
   "outputs": [
    {
     "name": "stdout",
     "output_type": "stream",
     "text": [
      "Epoch 1/4\n",
      "4000/4000 [==============================] - 32s 8ms/step - loss: 0.2540 - acc: 0.9087\n",
      "Epoch 2/4\n",
      "4000/4000 [==============================] - 30s 7ms/step - loss: 0.0332 - acc: 0.9928\n",
      "Epoch 3/4\n",
      "4000/4000 [==============================] - 30s 7ms/step - loss: 0.0076 - acc: 0.9982\n",
      "Epoch 4/4\n",
      "4000/4000 [==============================] - 30s 7ms/step - loss: 0.0035 - acc: 0.9993\n"
     ]
    },
    {
     "data": {
      "text/plain": [
       "<keras.callbacks.History at 0x1a18b400b8>"
      ]
     },
     "execution_count": 10,
     "metadata": {},
     "output_type": "execute_result"
    }
   ],
   "source": [
    "import numpy as np\n",
    "from keras.utils import to_categorical\n",
    "\n",
    "# conver our tags to a vector\n",
    "# In our example, if we have two labels: 0 and 1\n",
    "# Then the two labels will be transformed to [1 0] and [0 1]\n",
    "train_tags = to_categorical(train_tags)\n",
    "\n",
    "batch_size = 32\n",
    "train_tags = np.array(train_tags)\n",
    "\n",
    "valid_tags = to_categorical(valid_tags)\n",
    "valid_tags = np.array(valid_tags)\n",
    "\n",
    "# epochs: the number of times the algorithm being trained on the entire data set\n",
    "model.fit(padded_train_sms,\n",
    "          train_tags,\n",
    "          epochs=4,\n",
    "          verbose=1)"
   ]
  },
  {
   "cell_type": "markdown",
   "metadata": {},
   "source": [
    "## Save models and evaluate\n",
    "\n",
    "After we trained our model on the available data set, we could save our model to a HDF5 file for future use. For example, if at some point we want to reuse the old model to predict on the new data, we can simply reload the model to memory."
   ]
  },
  {
   "cell_type": "code",
   "execution_count": 11,
   "metadata": {},
   "outputs": [
    {
     "name": "stdout",
     "output_type": "stream",
     "text": [
      "-----Save done-----\n",
      "-----Reload again-----\n"
     ]
    }
   ],
   "source": [
    "from keras.models import load_model\n",
    "\n",
    "# save the model to disk\n",
    "model.save('spam_classification.h5')\n",
    "print(\"-----Save done-----\")\n",
    "\n",
    "# reload the model into memory\n",
    "model = load_model('spam_classification.h5')\n",
    "print(\"-----Reload again-----\")"
   ]
  },
  {
   "cell_type": "raw",
   "metadata": {},
   "source": [
    "After we obtained our model, we can use the validation data sets to test its accuracy. From the below output, we get an accuracy of over 98%, which is pretty good."
   ]
  },
  {
   "cell_type": "code",
   "execution_count": 12,
   "metadata": {},
   "outputs": [
    {
     "name": "stdout",
     "output_type": "stream",
     "text": [
      "Our predictions:  [[9.9999619e-01 3.8648463e-06]\n",
      " [4.1719060e-05 9.9995828e-01]\n",
      " [9.9999702e-01 3.0028573e-06]\n",
      " ...\n",
      " [9.9306279e-01 6.9372156e-03]\n",
      " [9.9994814e-01 5.1830531e-05]\n",
      " [9.9194020e-01 8.0597922e-03]]\n",
      "accuracy of the model on the validation data set:  0.9853875476493011\n"
     ]
    }
   ],
   "source": [
    "classes = model.predict(padded_valid_sms, batch_size=batch_size)\n",
    "print('Our predictions: ', classes)\n",
    "\n",
    "# calculate the model accuracy on the validation data sets\n",
    "accuracy = 0.0\n",
    "\n",
    "predict_tags = []\n",
    "for prediction in classes:\n",
    "    if prediction[0] > prediction[1]:\n",
    "        predict_tags.append(0)\n",
    "    else:\n",
    "        predict_tags.append(1)\n",
    "\n",
    "# reverse the to_categorical effect\n",
    "valid_tags = np.argmax(valid_tags, axis=1)      \n",
    "\n",
    "count = 0\n",
    "for index, predict_tag in enumerate(predict_tags):\n",
    "    if predict_tag == valid_tags[index]:\n",
    "        count+=1\n",
    "print(\"accuracy of the model on the validation data set: \", count / len(predict_tags))"
   ]
  },
  {
   "cell_type": "markdown",
   "metadata": {},
   "source": [
    "# Application 2: Stock analysis with Keras\n",
    "\n",
    "With regard to data with time sequencing properties, we usually need a network structure that is good at capturing the context and sequential information. Recurrent neural network is such kind of network that can help us. The unit of the recurrent neural network can be shown by the following picture (the picture is from [here](http://www.wildml.com/2015/09/recurrent-neural-networks-tutorial-part-1-introduction-to-rnns/)):\n",
    "\n",
    "<img src=\"pictures/rnn.jpg\">"
   ]
  },
  {
   "cell_type": "markdown",
   "metadata": {},
   "source": [
    "To explain this picture, we can regard each input to the RNN unit as data at different time steps. For example, for the sales data of a company, x could be the sale of each month. The reasons why RNN is so good at capture the sequential learning is that it keeps the information it learnt from the previous time steps when processing the current input. We won't dive into the theory behind RNN too deep here. You can check this [post](http://colah.github.io/posts/2015-08-Understanding-LSTMs/) for more details.\n",
    "\n",
    "In this example, we will build a neural network to predict the open price of a stock using the data from the previous three days. And we will use GRU (Gated Recurrent Unit) network, which is a simplified version of LSTM with less parameters but still great power."
   ]
  },
  {
   "cell_type": "markdown",
   "metadata": {},
   "source": [
    "## Prepare stock data\n",
    "\n",
    "The purpose of this neural network is to predict the current stock open price of one day using data from the previous N days. The data we'll use here comes from [Kaggle Huge Stock Market Dataset](https://www.kaggle.com/borismarjanovic/price-volume-data-for-all-us-stocks-etfs/data). We need to prepare our data before it can be input into the neural network."
   ]
  },
  {
   "cell_type": "code",
   "execution_count": 21,
   "metadata": {},
   "outputs": [
    {
     "name": "stdout",
     "output_type": "stream",
     "text": [
      "         Date    Open    High     Low   Close    Volume  OpenInt\n",
      "0  1999-11-18  30.713  33.754  27.002  29.702  66277506        0\n",
      "1  1999-11-19  28.986  29.027  26.872  27.257  16142920        0\n",
      "2  1999-11-22  27.886  29.702  27.044  29.702   6970266        0\n",
      "3  1999-11-23  28.688  29.446  27.002  27.002   6332082        0\n",
      "4  1999-11-24  27.083  28.309  27.002  27.717   5132147        0\n"
     ]
    }
   ],
   "source": [
    "import pandas as pd\n",
    "\n",
    "# read the data from the txt as csv\n",
    "stock_path = 'a.us.txt'\n",
    "stocks = pd.read_csv(open(stock_path, \"rb\"), delimiter = ',')\n",
    "print(stocks.head())"
   ]
  },
  {
   "cell_type": "markdown",
   "metadata": {},
   "source": [
    "The mearning of each attribute is as follows:\n",
    "* Open: The price of this stock at the begining of the day\n",
    "* Low: The lowest price of this stock in the day\n",
    "* Close:  The last price that a stock trades during the day\n",
    "* Volumn: The number of shares or contracts traded during the day\n",
    "* OpenInt: The open price of the next day"
   ]
  },
  {
   "cell_type": "code",
   "execution_count": 22,
   "metadata": {},
   "outputs": [
    {
     "name": "stdout",
     "output_type": "stream",
     "text": [
      "              Open    High     Low   Close    Volume\n",
      "Date                                                \n",
      "1999-11-18  30.713  33.754  27.002  29.702  66277506\n",
      "1999-11-19  28.986  29.027  26.872  27.257  16142920\n",
      "1999-11-22  27.886  29.702  27.044  29.702   6970266\n",
      "1999-11-23  28.688  29.446  27.002  27.002   6332082\n",
      "1999-11-24  27.083  28.309  27.002  27.717   5132147\n"
     ]
    }
   ],
   "source": [
    "# prepare the data\n",
    "stocks = stocks.set_index('Date')\n",
    "# since the values of the OpenInt column are all 0, which is not helpful, we simply drop this column\n",
    "stocks = stocks.drop(['OpenInt'], axis=1) # drop the date column\n",
    "print(stocks.head())"
   ]
  },
  {
   "cell_type": "code",
   "execution_count": 23,
   "metadata": {},
   "outputs": [
    {
     "data": {
      "image/png": "[encoded data removed]",
      "text/plain": [
       "<Figure size 432x288 with 1 Axes>"
      ]
     },
     "metadata": {},
     "output_type": "display_data"
    }
   ],
   "source": [
    "from matplotlib import pyplot\n",
    "from sklearn.preprocessing import MinMaxScaler\n",
    "# visualize the overall trend of the open prices\n",
    "values = stocks.values\n",
    "pyplot.plot(values[:, 0])\n",
    "pyplot.ylabel('Open Price')\n",
    "pyplot.show()\n",
    "\n",
    "# normalize the values to the range (0, 1)\n",
    "scaler = MinMaxScaler(feature_range=(0, 1))\n",
    "scaled_values = scaler.fit_transform(values)"
   ]
  },
  {
   "cell_type": "markdown",
   "metadata": {},
   "source": [
    "Next, we will group the stock data of adjacent three days as a sample and use the open price at the day following the previous three days as our label. Besides, we will also divide the data into train and test dataset."
   ]
  },
  {
   "cell_type": "code",
   "execution_count": 24,
   "metadata": {},
   "outputs": [],
   "source": [
    "import numpy as np\n",
    "\n",
    "N = 3\n",
    "num_rows = scaled_values.shape[0]\n",
    "\n",
    "x = []\n",
    "y = []\n",
    "for i in range(num_rows - N):\n",
    "    temp = []\n",
    "    for j in range(N):\n",
    "        temp.append(scaled_values[i + j])\n",
    "    x.append(np.array(temp))\n",
    "    y.append(scaled_values[i + N][0])\n",
    "\n",
    "# get the training and test data\n",
    "train_x = np.array(x[:3000])\n",
    "train_y = np.array(y[:3000])\n",
    "test_x = np.array(x[3000:])\n",
    "test_y = np.array(y[3000:])"
   ]
  },
  {
   "cell_type": "markdown",
   "metadata": {},
   "source": [
    "## Build the GRU network\n",
    "Next, we will build the gru network for our application. We use adam optimization here, because adam is used to perform optimization and is said to be one of the best optimizer at presen. Besides, we use mean absolute error function as our loss in the model."
   ]
  },
  {
   "cell_type": "code",
   "execution_count": 25,
   "metadata": {},
   "outputs": [
    {
     "name": "stdout",
     "output_type": "stream",
     "text": [
      "--------------------The Network Structure--------------------\n",
      "_________________________________________________________________\n",
      "Layer (type)                 Output Shape              Param #   \n",
      "=================================================================\n",
      "gru_3 (GRU)                  (None, 3, 1024)           3164160   \n",
      "_________________________________________________________________\n",
      "dropout_6 (Dropout)          (None, 3, 1024)           0         \n",
      "_________________________________________________________________\n",
      "gru_4 (GRU)                  (None, 512)               2360832   \n",
      "_________________________________________________________________\n",
      "dropout_7 (Dropout)          (None, 512)               0         \n",
      "_________________________________________________________________\n",
      "dense_6 (Dense)              (None, 1)                 513       \n",
      "=================================================================\n",
      "Total params: 5,525,505\n",
      "Trainable params: 5,525,505\n",
      "Non-trainable params: 0\n",
      "_________________________________________________________________\n",
      "--------------------Shape of our training data--------------------\n",
      "(3000, 3, 5)\n"
     ]
    }
   ],
   "source": [
    "from keras.layers import GRU, Dense, Dropout\n",
    "from keras.models import Sequential\n",
    "\n",
    "n_batch = 8\n",
    "\n",
    "model = Sequential()\n",
    "model.add(GRU(1024, input_shape=(train_x.shape[1], train_x.shape[2]), return_sequences=True))\n",
    "model.add(Dropout(0.3))\n",
    "model.add(GRU(512))\n",
    "model.add(Dropout(0.3))\n",
    "model.add(Dense(1))\n",
    "model.compile(loss='mae', optimizer='adam')\n",
    "# print out the network architecture\n",
    "print('--------------------The Network Structure--------------------')\n",
    "model.summary()\n",
    "print('--------------------Shape of our training data--------------------')\n",
    "print(train_x.shape)\n"
   ]
  },
  {
   "cell_type": "markdown",
   "metadata": {},
   "source": [
    "# Train GRU model\n",
    "\n",
    "Now, let's train our model using the training dataset."
   ]
  },
  {
   "cell_type": "code",
   "execution_count": 26,
   "metadata": {},
   "outputs": [
    {
     "name": "stdout",
     "output_type": "stream",
     "text": [
      "[0.21885786 0.20249315 0.20770334 ... 0.18652608 0.20055589 0.20055589]\n",
      "Epoch 1/10\n",
      "3000/3000 [==============================] - 52s 17ms/step - loss: 0.0204\n",
      "Epoch 2/10\n",
      "3000/3000 [==============================] - 50s 17ms/step - loss: 0.0152\n",
      "Epoch 3/10\n",
      "3000/3000 [==============================] - 49s 16ms/step - loss: 0.0126\n",
      "Epoch 4/10\n",
      "3000/3000 [==============================] - 49s 16ms/step - loss: 0.0116\n",
      "Epoch 5/10\n",
      "3000/3000 [==============================] - 49s 16ms/step - loss: 0.0101\n",
      "Epoch 6/10\n",
      "3000/3000 [==============================] - 49s 16ms/step - loss: 0.0095\n",
      "Epoch 7/10\n",
      "3000/3000 [==============================] - 49s 16ms/step - loss: 0.0094\n",
      "Epoch 8/10\n",
      "3000/3000 [==============================] - 49s 16ms/step - loss: 0.0087\n",
      "Epoch 9/10\n",
      "3000/3000 [==============================] - 49s 16ms/step - loss: 0.0091\n",
      "Epoch 10/10\n",
      "3000/3000 [==============================] - 49s 16ms/step - loss: 0.0091\n"
     ]
    },
    {
     "data": {
      "text/plain": [
       "<keras.callbacks.History at 0x1a334dc0f0>"
      ]
     },
     "execution_count": 26,
     "metadata": {},
     "output_type": "execute_result"
    }
   ],
   "source": [
    "# train and evaluate\n",
    "print(train_y)\n",
    "model.fit(train_x, np.array(train_y), epochs=10, batch_size=n_batch)"
   ]
  },
  {
   "cell_type": "markdown",
   "metadata": {},
   "source": [
    "## Validate the model\n",
    "\n",
    "Now, we will choose the first three days of the test data set as our starting point, and then use our model to predict the open price of the following days."
   ]
  },
  {
   "cell_type": "code",
   "execution_count": 27,
   "metadata": {},
   "outputs": [
    {
     "data": {
      "image/png": "[encoded data removed]",
      "text/plain": [
       "<Figure size 432x288 with 1 Axes>"
      ]
     },
     "metadata": {},
     "output_type": "display_data"
    }
   ],
   "source": [
    "# generate the predictions and produce the result\n",
    "test_rows = len(test_y)\n",
    "\n",
    "predictions = list(train_y[:N])\n",
    "\n",
    "for i in range(test_rows - N):\n",
    "    test_input = []\n",
    "    test_input.append(np.array(test_x[i]))\n",
    "    test_input = np.array(test_input)\n",
    "    prediction = model.predict(test_input)\n",
    "    predictions.append(prediction[0][0])\n",
    "\n",
    "# plot the graph for both the actual open prices and our predictions\n",
    "pyplot.figure()\n",
    "pyplot.plot(predictions)\n",
    "pyplot.plot(test_y)\n",
    "pyplot.show()"
   ]
  },
  {
   "cell_type": "markdown",
   "metadata": {},
   "source": [
    "From the above graph, we could see that our predictions have almost the same trend as the actual data, which means that our model did well. Aside from the stock analysis, recurrent neural network is also often used in many natural language processing tasks, such as language translation or learning language model of a writer."
   ]
  },
  {
   "cell_type": "markdown",
   "metadata": {},
   "source": [
    "# References\n",
    "\n",
    "You can more details of neural networks and Keras from the following links:\n",
    "1. Keras Documentation:https://keras.io\n",
    "2. Neural networks and deep learning: http://neuralnetworksanddeeplearning.com/index.html\n",
    "3. UCI dataset: https://archive.ics.uci.edu/ml/datasets.html\n",
    "4. Kaggle dataset: https://www.kaggle.com/datasets\n",
    "5. The Keras Blog: https://blog.keras.io\n",
    "6. Keras Google Group: https://groups.google.com/forum/#!forum/keras-users"
   ]
  }
 ],
 "metadata": {
  "kernelspec": {
   "display_name": "Python 3",
   "language": "python",
   "name": "python3"
  },
  "language_info": {
   "codemirror_mode": {
    "name": "ipython",
    "version": 3
   },
   "file_extension": ".py",
   "mimetype": "text/x-python",
   "name": "python",
   "nbconvert_exporter": "python",
   "pygments_lexer": "ipython3",
   "version": "3.6.4"
  }
 },
 "nbformat": 4,
 "nbformat_minor": 2
}
