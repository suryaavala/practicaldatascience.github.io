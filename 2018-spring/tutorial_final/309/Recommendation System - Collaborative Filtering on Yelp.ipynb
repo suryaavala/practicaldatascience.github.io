{
 "cells": [
  {
   "cell_type": "code",
   "execution_count": 211,
   "metadata": {},
   "outputs": [],
   "source": [
    "# setup library imports\n",
    "import turicreate as tc\n",
    "import time, json\n",
    "import requests\n",
    "import pandas as pd\n",
    "import numpy as np\n",
    "import random\n",
    "from bs4 import BeautifulSoup\n",
    "from scipy import spatial"
   ]
  },
  {
   "cell_type": "markdown",
   "metadata": {},
   "source": [
    "# Introduction"
   ]
  },
  {
   "cell_type": "markdown",
   "metadata": {},
   "source": [
    "This tutorial will introduce you to recommendation system. There are two main sets of data in this tutorial. For the first part of the tutorial, we will use an existing dataset [MovieLens 100K](https://grouplens.org/datasets/movielens/100k/)\n",
    " Since this dataset is pre-processed and has clearer feature matrix, we will use it to study how recommendation system works. For the second part, we will apply the item-item Collaborative filtering on Yelp data to recommend restaurants for users."
   ]
  },
  {
   "cell_type": "markdown",
   "metadata": {},
   "source": [
    "# Initial Setup"
   ]
  },
  {
   "cell_type": "markdown",
   "metadata": {},
   "source": [
    "In this tutorial, we will show how to do some recommendation system in Python using [GraphLab](https://turi.com/products/create/docs/graphlab.toolkits.html)\n",
    "\n",
    "In order to install Turicreate from GraphLab, you will need to run the following command:\n",
    "\n",
    "$ pip install turicreate\n",
    "\n",
    "Also, we'll be using data collected from the [Yelp API](https://www.yelp.com/developers/documentation/v3/get_started)\n",
    "\n",
    "The MovieLens dataset is loaded here:"
   ]
  },
  {
   "cell_type": "code",
   "execution_count": 175,
   "metadata": {},
   "outputs": [],
   "source": [
    "#Code reference for MovieLens datasets processing: https://grouplens.org/datasets/movielens/100k/\n",
    "\n",
    "#Reading users file:\n",
    "u_cols = ['user_id', 'age', 'sex', 'occupation', 'zip_code']\n",
    "users = pd.read_csv('./ml-100k/u.user', sep='|', names=u_cols, encoding='latin-1')\n",
    "\n",
    "#Reading ratings file:\n",
    "r_cols = ['user_id', 'movie_id', 'rating', 'unix_timestamp']\n",
    "ratings = pd.read_csv('./ml-100k/u.data', sep='\\t', names=r_cols, encoding='latin-1')\n",
    "\n",
    "#Reading items file:\n",
    "i_cols = ['movie id', 'movie title', 'release date', 'video release date','IMDb URL',\n",
    "          'unknown', 'Action', 'Adventure', 'Animation', 'Children\\'s','Comedy', 'Crime',\n",
    "          'Documentary', 'Drama', 'Fantasy', 'Film-Noir','Horror', 'Musical', 'Mystery',\n",
    "          'Romance', 'Sci-Fi', 'Thriller', 'War', 'Western']\n",
    "items = pd.read_csv('ml-100k/u.item', sep='|', names=i_cols, encoding='latin-1')\n",
    "\n",
    "#Reading the ratings base file:\n",
    "ratings_base = pd.read_csv('./ml-100k/ua.base', sep='\\t', names=r_cols, encoding='latin-1')\n",
    "\n",
    "#Reading the ratings test file:\n",
    "ratings_test = pd.read_csv('./ml-100k/ua.test', sep='\\t', names=r_cols, encoding='latin-1')\n",
    "\n",
    "#Restructuring data into SFrame:\n",
    "train_data = tc.SFrame(ratings_base)\n",
    "test_data = tc.SFrame(ratings_test)"
   ]
  },
  {
   "cell_type": "markdown",
   "metadata": {},
   "source": [
    "# Table of Contents"
   ]
  },
  {
   "cell_type": "markdown",
   "metadata": {},
   "source": [
    "We will cover the following topics in this tutorial:\n",
    "\n",
    "* Introduction to recommendation systems\n",
    "* Popularity model\n",
    "* Content based recommendation\n",
    "* Collaborative filtering\n",
    "* Evaluating collaborative filtering\n",
    "* Yelp Recommendation System using collaborative filtering"
   ]
  },
  {
   "cell_type": "markdown",
   "metadata": {},
   "source": [
    "# Introduction to recommendation systems"
   ]
  },
  {
   "cell_type": "markdown",
   "metadata": {},
   "source": [
    "The key to recommendation systems is how to \"recommend\". Recommendation system acts like a salesperson. They ask about customer preferences and then recommend the products for customers. There are generally two kinds of recommendation systems: one is uniform recommendation system in which the system recommends same products to each customer; the other is personalized recommendation system in which each customer is given different recommendations. In this tutorial, we will cover both of the two recommendations, with the focus mainly on personalized recommendation system and especially, collaborative filtering algorithm."
   ]
  },
  {
   "cell_type": "markdown",
   "metadata": {},
   "source": [
    "# Popularity model"
   ]
  },
  {
   "cell_type": "markdown",
   "metadata": {},
   "source": [
    "The simplest approach is to recommend items liked by the most number of users. This is a fast approach but has a major drawback: there is no personalization involved with this approach. The most popular items would be same for each user since popularity is defined on the entire user pool.\n",
    "\n",
    "Simple as this approach may seem, it is still commonly used in places like news portals. For instance, in cnn news, you’ll see a column of “Popular News” which displays the most read articles. This approach works since there is a high chance that a user wants to read the news which is being read the most by others. Here we implement a simple popularity model recommendation system using GraphLab."
   ]
  },
  {
   "cell_type": "code",
   "execution_count": 176,
   "metadata": {},
   "outputs": [
    {
     "data": {
      "text/html": [
       "<pre>Recsys training: model = popularity</pre>"
      ],
      "text/plain": [
       "Recsys training: model = popularity"
      ]
     },
     "metadata": {},
     "output_type": "display_data"
    },
    {
     "data": {
      "text/html": [
       "<pre>Warning: Ignoring columns unix_timestamp;</pre>"
      ],
      "text/plain": [
       "Warning: Ignoring columns unix_timestamp;"
      ]
     },
     "metadata": {},
     "output_type": "display_data"
    },
    {
     "data": {
      "text/html": [
       "<pre>    To use these columns in scoring predictions, use a model that allows the use of additional features.</pre>"
      ],
      "text/plain": [
       "    To use these columns in scoring predictions, use a model that allows the use of additional features."
      ]
     },
     "metadata": {},
     "output_type": "display_data"
    },
    {
     "data": {
      "text/html": [
       "<pre>Preparing data set.</pre>"
      ],
      "text/plain": [
       "Preparing data set."
      ]
     },
     "metadata": {},
     "output_type": "display_data"
    },
    {
     "data": {
      "text/html": [
       "<pre>    Data has 90570 observations with 943 users and 1680 items.</pre>"
      ],
      "text/plain": [
       "    Data has 90570 observations with 943 users and 1680 items."
      ]
     },
     "metadata": {},
     "output_type": "display_data"
    },
    {
     "data": {
      "text/html": [
       "<pre>    Data prepared in: 0.14064s</pre>"
      ],
      "text/plain": [
       "    Data prepared in: 0.14064s"
      ]
     },
     "metadata": {},
     "output_type": "display_data"
    },
    {
     "data": {
      "text/html": [
       "<pre>90570 observations to process; with 1680 unique items.</pre>"
      ],
      "text/plain": [
       "90570 observations to process; with 1680 unique items."
      ]
     },
     "metadata": {},
     "output_type": "display_data"
    },
    {
     "name": "stdout",
     "output_type": "stream",
     "text": [
      "+---------+----------+-------+------+\n",
      "| user_id | movie_id | score | rank |\n",
      "+---------+----------+-------+------+\n",
      "|    1    |   1599   |  5.0  |  1   |\n",
      "|    1    |   1201   |  5.0  |  2   |\n",
      "|    1    |   1189   |  5.0  |  3   |\n",
      "|    1    |   1122   |  5.0  |  4   |\n",
      "|    1    |   814    |  5.0  |  5   |\n",
      "|    2    |   1599   |  5.0  |  1   |\n",
      "|    2    |   1201   |  5.0  |  2   |\n",
      "|    2    |   1189   |  5.0  |  3   |\n",
      "|    2    |   1122   |  5.0  |  4   |\n",
      "|    2    |   814    |  5.0  |  5   |\n",
      "|    3    |   1599   |  5.0  |  1   |\n",
      "|    3    |   1201   |  5.0  |  2   |\n",
      "|    3    |   1189   |  5.0  |  3   |\n",
      "|    3    |   1122   |  5.0  |  4   |\n",
      "|    3    |   814    |  5.0  |  5   |\n",
      "|    4    |   1599   |  5.0  |  1   |\n",
      "|    4    |   1201   |  5.0  |  2   |\n",
      "|    4    |   1189   |  5.0  |  3   |\n",
      "|    4    |   1122   |  5.0  |  4   |\n",
      "|    4    |   814    |  5.0  |  5   |\n",
      "|    5    |   1599   |  5.0  |  1   |\n",
      "|    5    |   1201   |  5.0  |  2   |\n",
      "|    5    |   1189   |  5.0  |  3   |\n",
      "|    5    |   1122   |  5.0  |  4   |\n",
      "|    5    |   814    |  5.0  |  5   |\n",
      "+---------+----------+-------+------+\n",
      "[25 rows x 4 columns]\n",
      "\n"
     ]
    }
   ],
   "source": [
    "#Setting the first n users to apply the popularity recommendation\n",
    "num_users = 5\n",
    "selected_users = []\n",
    "for i in range(1, num_users + 1):\n",
    "    selected_users.append(i)\n",
    "\n",
    "#Initiazing the popularity recommender model:\n",
    "popularity_model = tc.recommender.popularity_recommender.create(train_data, user_id='user_id',\n",
    "                                                                item_id='movie_id', target='rating')\n",
    "popularity_recomm = popularity_model.recommend(users=selected_users, k=5)\n",
    "popularity_recomm.print_rows(num_rows=25)"
   ]
  },
  {
   "cell_type": "markdown",
   "metadata": {},
   "source": [
    "We could see from the above example, movies recommended to each user are the same and ordered in same ranking. Also, all movie recommendations fall into the most popular movies with average rating of 5.0"
   ]
  },
  {
   "cell_type": "markdown",
   "metadata": {},
   "source": [
    "# Content based recommendation"
   ]
  },
  {
   "cell_type": "markdown",
   "metadata": {},
   "source": [
    "Content based recommendation system looks at what items a user like and recommend the user a \"similar\" item based on the contents/category of the items. A simple example of this recommendation algorithms is that suppose Person A likes Asian food, the recommendation will recommend all Asian restaurants to him/her. This is not the focus of this tutorial, therefore we will only cover the introduction and will not go deeper into implementing this algorithm."
   ]
  },
  {
   "cell_type": "markdown",
   "metadata": {},
   "source": [
    "# Collaborative filtering"
   ]
  },
  {
   "cell_type": "markdown",
   "metadata": {},
   "source": [
    "Collaborative filtering works as following: let's consider there is a user X. We aim to find a set N of other users whose ratings/preferences are similar to user X's rating/preference. Then we estimate user X's ratings/preferences based on the ratings/preferences of the set N and provide recommendation to user X. For instance, if a person A likes item 1, 2, 3 and B like 2, 3, 4; this implies they have similar interests. Thus A should like item 4 and B should like item 1.\n",
    "\n",
    "The strength of this algorithm is that it is entirely based on user behavior and independent from the item contents. This makes it more reliable and is the most common approach used in e-commerce websites.\n",
    "\n",
    "There are mainly two forms of collaborative filtering:\n",
    "\n",
    "1. User-User Collaborative filtering: Here we look at how users are similar to each other and offer items which were chosen by user B (an user with rating/preferences looking alike user A) to user A. This algorithm is very effective. However, since it requires to compute every user pair information, it takes up a lot of time and computation power. And is hard to scale up when number of users grow dramatically.\n",
    "\n",
    "2. Item-Item Collaborative filtering: It is quite similar to previous algorithm, but instead of finding customer look alike, we try finding items look alike. Looking through all rating/preferences from each user, we first try to identify similar items. Then for each user, we recommend the items most similar to the items she/he already likes. This algorithm consumes far less resources comparing with the user-user approach. And with fixed number of products, product-product look alike matrix is fixed over time. We will mainly implement item-item collaborative filtering here using GraphLab.\n",
    "\n",
    "There are generally three ways of defining the similarity matrix and they are listed as below."
   ]
  },
  {
   "cell_type": "markdown",
   "metadata": {},
   "source": [
    "## Collaborative Filtering with Jaccard Similarity"
   ]
  },
  {
   "cell_type": "markdown",
   "metadata": {},
   "source": [
    "Here we will use the following example to illustrate the Jaccard Similarity. In this example, there are 4 users and 7 items. We observe user A and user B both rate item1 and give out a similar rating, this implies A and B might be similar. User A and user C both rate item4 and item5 but gives out very different ratings, this shows A and C might not be similar."
   ]
  },
  {
   "attachments": {
    "image1.jpeg": {
     "image/jpeg": "[encoded data removed]"
    }
   },
   "cell_type": "markdown",
   "metadata": {},
   "source": [
    "![image1.jpeg](attachment:image1.jpeg)"
   ]
  },
  {
   "cell_type": "markdown",
   "metadata": {},
   "source": [
    "According to the definition, Jaccard Similarity of user A and user B is as below:\n",
    "sim(A, B) = (# of item both A and B rate)/(# of item A and B rate in total)\n",
    "In this example sim(A, B) = 1/5, sim(A, C) = 2/4. This means A and C has higher Jaccard Similarity in this example, which is counter intuitive. This also implies Jaccard Similarity is not situable for analyzing the similarity when users give out non-binary ratings to items since it ignores rating values. But jaccard similarity may apply when users give out binary like/dislike rating to items.\n",
    "\n",
    "Here we also give out an example on how to use Jaccard Similarity. We could see the recommendation results are now personalized, but from the above analysis we could also draw the conclusion that the Jaccard Similarity is not the optimal model for collaborative filtering with rating values."
   ]
  },
  {
   "cell_type": "code",
   "execution_count": 178,
   "metadata": {},
   "outputs": [
    {
     "data": {
      "text/html": [
       "<pre>Recsys training: model = item_similarity</pre>"
      ],
      "text/plain": [
       "Recsys training: model = item_similarity"
      ]
     },
     "metadata": {},
     "output_type": "display_data"
    },
    {
     "data": {
      "text/html": [
       "<pre>Warning: Ignoring columns unix_timestamp;</pre>"
      ],
      "text/plain": [
       "Warning: Ignoring columns unix_timestamp;"
      ]
     },
     "metadata": {},
     "output_type": "display_data"
    },
    {
     "data": {
      "text/html": [
       "<pre>    To use these columns in scoring predictions, use a model that allows the use of additional features.</pre>"
      ],
      "text/plain": [
       "    To use these columns in scoring predictions, use a model that allows the use of additional features."
      ]
     },
     "metadata": {},
     "output_type": "display_data"
    },
    {
     "data": {
      "text/html": [
       "<pre>Preparing data set.</pre>"
      ],
      "text/plain": [
       "Preparing data set."
      ]
     },
     "metadata": {},
     "output_type": "display_data"
    },
    {
     "data": {
      "text/html": [
       "<pre>    Data has 90570 observations with 943 users and 1680 items.</pre>"
      ],
      "text/plain": [
       "    Data has 90570 observations with 943 users and 1680 items."
      ]
     },
     "metadata": {},
     "output_type": "display_data"
    },
    {
     "data": {
      "text/html": [
       "<pre>    Data prepared in: 0.145341s</pre>"
      ],
      "text/plain": [
       "    Data prepared in: 0.145341s"
      ]
     },
     "metadata": {},
     "output_type": "display_data"
    },
    {
     "data": {
      "text/html": [
       "<pre>Training model from provided data.</pre>"
      ],
      "text/plain": [
       "Training model from provided data."
      ]
     },
     "metadata": {},
     "output_type": "display_data"
    },
    {
     "data": {
      "text/html": [
       "<pre>Gathering per-item and per-user statistics.</pre>"
      ],
      "text/plain": [
       "Gathering per-item and per-user statistics."
      ]
     },
     "metadata": {},
     "output_type": "display_data"
    },
    {
     "data": {
      "text/html": [
       "<pre>+--------------------------------+------------+</pre>"
      ],
      "text/plain": [
       "+--------------------------------+------------+"
      ]
     },
     "metadata": {},
     "output_type": "display_data"
    },
    {
     "data": {
      "text/html": [
       "<pre>| Elapsed Time (Item Statistics) | % Complete |</pre>"
      ],
      "text/plain": [
       "| Elapsed Time (Item Statistics) | % Complete |"
      ]
     },
     "metadata": {},
     "output_type": "display_data"
    },
    {
     "data": {
      "text/html": [
       "<pre>+--------------------------------+------------+</pre>"
      ],
      "text/plain": [
       "+--------------------------------+------------+"
      ]
     },
     "metadata": {},
     "output_type": "display_data"
    },
    {
     "data": {
      "text/html": [
       "<pre>| 9.724ms                        | 100        |</pre>"
      ],
      "text/plain": [
       "| 9.724ms                        | 100        |"
      ]
     },
     "metadata": {},
     "output_type": "display_data"
    },
    {
     "data": {
      "text/html": [
       "<pre>+--------------------------------+------------+</pre>"
      ],
      "text/plain": [
       "+--------------------------------+------------+"
      ]
     },
     "metadata": {},
     "output_type": "display_data"
    },
    {
     "data": {
      "text/html": [
       "<pre>Setting up lookup tables.</pre>"
      ],
      "text/plain": [
       "Setting up lookup tables."
      ]
     },
     "metadata": {},
     "output_type": "display_data"
    },
    {
     "data": {
      "text/html": [
       "<pre>Processing data in one pass using dense lookup tables.</pre>"
      ],
      "text/plain": [
       "Processing data in one pass using dense lookup tables."
      ]
     },
     "metadata": {},
     "output_type": "display_data"
    },
    {
     "data": {
      "text/html": [
       "<pre>+-------------------------------------+------------------+-----------------+</pre>"
      ],
      "text/plain": [
       "+-------------------------------------+------------------+-----------------+"
      ]
     },
     "metadata": {},
     "output_type": "display_data"
    },
    {
     "data": {
      "text/html": [
       "<pre>| Elapsed Time (Constructing Lookups) | Total % Complete | Items Processed |</pre>"
      ],
      "text/plain": [
       "| Elapsed Time (Constructing Lookups) | Total % Complete | Items Processed |"
      ]
     },
     "metadata": {},
     "output_type": "display_data"
    },
    {
     "data": {
      "text/html": [
       "<pre>+-------------------------------------+------------------+-----------------+</pre>"
      ],
      "text/plain": [
       "+-------------------------------------+------------------+-----------------+"
      ]
     },
     "metadata": {},
     "output_type": "display_data"
    },
    {
     "data": {
      "text/html": [
       "<pre>| 21.937ms                            | 0                | 0               |</pre>"
      ],
      "text/plain": [
       "| 21.937ms                            | 0                | 0               |"
      ]
     },
     "metadata": {},
     "output_type": "display_data"
    },
    {
     "data": {
      "text/html": [
       "<pre>| 120.063ms                           | 100              | 1680            |</pre>"
      ],
      "text/plain": [
       "| 120.063ms                           | 100              | 1680            |"
      ]
     },
     "metadata": {},
     "output_type": "display_data"
    },
    {
     "data": {
      "text/html": [
       "<pre>+-------------------------------------+------------------+-----------------+</pre>"
      ],
      "text/plain": [
       "+-------------------------------------+------------------+-----------------+"
      ]
     },
     "metadata": {},
     "output_type": "display_data"
    },
    {
     "data": {
      "text/html": [
       "<pre>Finalizing lookup tables.</pre>"
      ],
      "text/plain": [
       "Finalizing lookup tables."
      ]
     },
     "metadata": {},
     "output_type": "display_data"
    },
    {
     "data": {
      "text/html": [
       "<pre>Generating candidate set for working with new users.</pre>"
      ],
      "text/plain": [
       "Generating candidate set for working with new users."
      ]
     },
     "metadata": {},
     "output_type": "display_data"
    },
    {
     "data": {
      "text/html": [
       "<pre>Finished training in 0.136094s</pre>"
      ],
      "text/plain": [
       "Finished training in 0.136094s"
      ]
     },
     "metadata": {},
     "output_type": "display_data"
    },
    {
     "name": "stdout",
     "output_type": "stream",
     "text": [
      "+---------+----------+---------------------+------+\n",
      "| user_id | movie_id |        score        | rank |\n",
      "+---------+----------+---------------------+------+\n",
      "|    1    |   423    |  0.1666922933272733 |  1   |\n",
      "|    1    |   568    |  0.1563204335802384 |  2   |\n",
      "|    1    |   202    | 0.15332082710193315 |  3   |\n",
      "|    1    |   403    | 0.14992555953164138 |  4   |\n",
      "|    1    |   385    | 0.14855115468265445 |  5   |\n",
      "|    2    |    7     |  0.1617042330595163 |  1   |\n",
      "|    2    |   121    |  0.1599736248071377 |  2   |\n",
      "|    2    |   181    | 0.15784773574425623 |  3   |\n",
      "|    2    |    50    | 0.15625400038865897 |  4   |\n",
      "|    2    |   117    | 0.15463673839202294 |  5   |\n",
      "|    3    |   328    | 0.12468654459173029 |  1   |\n",
      "|    3    |   313    |  0.1013359698382291 |  2   |\n",
      "|    3    |   332    | 0.10127936574545773 |  3   |\n",
      "|    3    |    12    | 0.10076934911987999 |  4   |\n",
      "|    3    |   245    | 0.09754122251814062 |  5   |\n",
      "|    4    |   121    |  0.1560882500239781 |  1   |\n",
      "|    4    |    56    |  0.1519445776939392 |  2   |\n",
      "|    4    |   181    |  0.1490831502846309 |  3   |\n",
      "|    4    |   333    |  0.1413889995643071 |  4   |\n",
      "|    4    |    7     |  0.1403191430228097 |  5   |\n",
      "|    5    |   195    |  0.1711975285501191 |  1   |\n",
      "|    5    |   202    | 0.16755162983229666 |  2   |\n",
      "|    5    |    82    | 0.16646692897334242 |  3   |\n",
      "|    5    |   568    | 0.16346390536337188 |  4   |\n",
      "|    5    |   161    |  0.1633985667517691 |  5   |\n",
      "+---------+----------+---------------------+------+\n",
      "[25 rows x 4 columns]\n",
      "\n"
     ]
    }
   ],
   "source": [
    "#Train Model using item-item Jaccard Similarity\n",
    "item_sim_model_jaccard = tc.recommender.item_similarity_recommender.create(train_data,\n",
    "                user_id='user_id', item_id='movie_id', target='rating', similarity_type='jaccard')\n",
    "item_sim_recomm_jaccard = item_sim_model_jaccard.recommend(users=selected_users, k=5)\n",
    "item_sim_recomm_jaccard.print_rows(num_rows=25)"
   ]
  },
  {
   "cell_type": "markdown",
   "metadata": {},
   "source": [
    "## Collaborative Filtering with Cosine Similarity"
   ]
  },
  {
   "cell_type": "markdown",
   "metadata": {},
   "source": [
    "Here, we still use the previous example to illustrate cosine similarity. We represent user A, B and C using vectors below and assume the ratings are 0 for items they haven't rated yet. Then we compute the cosine similarity between vector A and vector B to get the similarity between user A and B."
   ]
  },
  {
   "cell_type": "code",
   "execution_count": 151,
   "metadata": {},
   "outputs": [
    {
     "name": "stdout",
     "output_type": "stream",
     "text": [
      "Cosine Similarity A and B: 0.379868588199\n",
      "Cosine Similarity A and C: 0.32203059436\n"
     ]
    }
   ],
   "source": [
    "vector_A = np.array([4, 0, 0, 5, 1, 0, 0])\n",
    "vector_B = np.array([5, 5, 4, 0, 0, 0, 0])\n",
    "vector_C = np.array([0, 0, 0, 2, 4, 5, 0])\n",
    "cos_sim_A_B = 1 - spatial.distance.cosine(vector_A, vector_B)\n",
    "cos_sim_A_C = 1 - spatial.distance.cosine(vector_A, vector_C)\n",
    "print(\"Cosine Similarity A and B:\", cos_sim_A_B)\n",
    "print(\"Cosine Similarity A and C:\", cos_sim_A_C)"
   ]
  },
  {
   "cell_type": "markdown",
   "metadata": {},
   "source": [
    "We could see here A and B are more similar than A and C using cosine similarity. This solves the problem with Jaccard Similarity. Here we also give out an example on how to use Cosine Similarity using GraphLab."
   ]
  },
  {
   "cell_type": "code",
   "execution_count": 179,
   "metadata": {},
   "outputs": [
    {
     "data": {
      "text/html": [
       "<pre>Recsys training: model = item_similarity</pre>"
      ],
      "text/plain": [
       "Recsys training: model = item_similarity"
      ]
     },
     "metadata": {},
     "output_type": "display_data"
    },
    {
     "data": {
      "text/html": [
       "<pre>Warning: Ignoring columns unix_timestamp;</pre>"
      ],
      "text/plain": [
       "Warning: Ignoring columns unix_timestamp;"
      ]
     },
     "metadata": {},
     "output_type": "display_data"
    },
    {
     "data": {
      "text/html": [
       "<pre>    To use these columns in scoring predictions, use a model that allows the use of additional features.</pre>"
      ],
      "text/plain": [
       "    To use these columns in scoring predictions, use a model that allows the use of additional features."
      ]
     },
     "metadata": {},
     "output_type": "display_data"
    },
    {
     "data": {
      "text/html": [
       "<pre>Preparing data set.</pre>"
      ],
      "text/plain": [
       "Preparing data set."
      ]
     },
     "metadata": {},
     "output_type": "display_data"
    },
    {
     "data": {
      "text/html": [
       "<pre>    Data has 90570 observations with 943 users and 1680 items.</pre>"
      ],
      "text/plain": [
       "    Data has 90570 observations with 943 users and 1680 items."
      ]
     },
     "metadata": {},
     "output_type": "display_data"
    },
    {
     "data": {
      "text/html": [
       "<pre>    Data prepared in: 0.141515s</pre>"
      ],
      "text/plain": [
       "    Data prepared in: 0.141515s"
      ]
     },
     "metadata": {},
     "output_type": "display_data"
    },
    {
     "data": {
      "text/html": [
       "<pre>Training model from provided data.</pre>"
      ],
      "text/plain": [
       "Training model from provided data."
      ]
     },
     "metadata": {},
     "output_type": "display_data"
    },
    {
     "data": {
      "text/html": [
       "<pre>Gathering per-item and per-user statistics.</pre>"
      ],
      "text/plain": [
       "Gathering per-item and per-user statistics."
      ]
     },
     "metadata": {},
     "output_type": "display_data"
    },
    {
     "data": {
      "text/html": [
       "<pre>+--------------------------------+------------+</pre>"
      ],
      "text/plain": [
       "+--------------------------------+------------+"
      ]
     },
     "metadata": {},
     "output_type": "display_data"
    },
    {
     "data": {
      "text/html": [
       "<pre>| Elapsed Time (Item Statistics) | % Complete |</pre>"
      ],
      "text/plain": [
       "| Elapsed Time (Item Statistics) | % Complete |"
      ]
     },
     "metadata": {},
     "output_type": "display_data"
    },
    {
     "data": {
      "text/html": [
       "<pre>+--------------------------------+------------+</pre>"
      ],
      "text/plain": [
       "+--------------------------------+------------+"
      ]
     },
     "metadata": {},
     "output_type": "display_data"
    },
    {
     "data": {
      "text/html": [
       "<pre>| 8.685ms                        | 100        |</pre>"
      ],
      "text/plain": [
       "| 8.685ms                        | 100        |"
      ]
     },
     "metadata": {},
     "output_type": "display_data"
    },
    {
     "data": {
      "text/html": [
       "<pre>+--------------------------------+------------+</pre>"
      ],
      "text/plain": [
       "+--------------------------------+------------+"
      ]
     },
     "metadata": {},
     "output_type": "display_data"
    },
    {
     "data": {
      "text/html": [
       "<pre>Setting up lookup tables.</pre>"
      ],
      "text/plain": [
       "Setting up lookup tables."
      ]
     },
     "metadata": {},
     "output_type": "display_data"
    },
    {
     "data": {
      "text/html": [
       "<pre>Processing data in one pass using dense lookup tables.</pre>"
      ],
      "text/plain": [
       "Processing data in one pass using dense lookup tables."
      ]
     },
     "metadata": {},
     "output_type": "display_data"
    },
    {
     "data": {
      "text/html": [
       "<pre>+-------------------------------------+------------------+-----------------+</pre>"
      ],
      "text/plain": [
       "+-------------------------------------+------------------+-----------------+"
      ]
     },
     "metadata": {},
     "output_type": "display_data"
    },
    {
     "data": {
      "text/html": [
       "<pre>| Elapsed Time (Constructing Lookups) | Total % Complete | Items Processed |</pre>"
      ],
      "text/plain": [
       "| Elapsed Time (Constructing Lookups) | Total % Complete | Items Processed |"
      ]
     },
     "metadata": {},
     "output_type": "display_data"
    },
    {
     "data": {
      "text/html": [
       "<pre>+-------------------------------------+------------------+-----------------+</pre>"
      ],
      "text/plain": [
       "+-------------------------------------+------------------+-----------------+"
      ]
     },
     "metadata": {},
     "output_type": "display_data"
    },
    {
     "data": {
      "text/html": [
       "<pre>| 18.995ms                            | 0.25             | 6               |</pre>"
      ],
      "text/plain": [
       "| 18.995ms                            | 0.25             | 6               |"
      ]
     },
     "metadata": {},
     "output_type": "display_data"
    },
    {
     "data": {
      "text/html": [
       "<pre>| 147.157ms                           | 100              | 1680            |</pre>"
      ],
      "text/plain": [
       "| 147.157ms                           | 100              | 1680            |"
      ]
     },
     "metadata": {},
     "output_type": "display_data"
    },
    {
     "data": {
      "text/html": [
       "<pre>+-------------------------------------+------------------+-----------------+</pre>"
      ],
      "text/plain": [
       "+-------------------------------------+------------------+-----------------+"
      ]
     },
     "metadata": {},
     "output_type": "display_data"
    },
    {
     "data": {
      "text/html": [
       "<pre>Finalizing lookup tables.</pre>"
      ],
      "text/plain": [
       "Finalizing lookup tables."
      ]
     },
     "metadata": {},
     "output_type": "display_data"
    },
    {
     "data": {
      "text/html": [
       "<pre>Generating candidate set for working with new users.</pre>"
      ],
      "text/plain": [
       "Generating candidate set for working with new users."
      ]
     },
     "metadata": {},
     "output_type": "display_data"
    },
    {
     "data": {
      "text/html": [
       "<pre>Finished training in 0.153608s</pre>"
      ],
      "text/plain": [
       "Finished training in 0.153608s"
      ]
     },
     "metadata": {},
     "output_type": "display_data"
    },
    {
     "name": "stdout",
     "output_type": "stream",
     "text": [
      "+---------+----------+--------------------+------+\n",
      "| user_id | movie_id |       score        | rank |\n",
      "+---------+----------+--------------------+------+\n",
      "|    1    |   423    | 0.9834008066708805 |  1   |\n",
      "|    1    |   202    | 0.9495907992352056 |  2   |\n",
      "|    1    |   655    | 0.7928164253253063 |  3   |\n",
      "|    1    |   403    | 0.765623665037956  |  4   |\n",
      "|    1    |   568    | 0.7512945396299581 |  5   |\n",
      "|    2    |    50    | 1.1256258487701416 |  1   |\n",
      "|    2    |   181    | 1.0651773168490484 |  2   |\n",
      "|    2    |    7     | 0.9998190838557023 |  3   |\n",
      "|    2    |   121    |  0.94162796323116  |  4   |\n",
      "|    2    |    9     | 0.831989913032605  |  5   |\n",
      "|    3    |   313    | 0.6353766620159149 |  1   |\n",
      "|    3    |   328    | 0.6032880300825293 |  2   |\n",
      "|    3    |   315    | 0.5422587123784152 |  3   |\n",
      "|    3    |   331    | 0.5355071858926252 |  4   |\n",
      "|    3    |   332    | 0.5316696112806146 |  5   |\n",
      "|    4    |    50    | 1.1311477082116264 |  1   |\n",
      "|    4    |   288    | 1.0487151145935059 |  2   |\n",
      "|    4    |   181    | 0.9505999386310577 |  3   |\n",
      "|    4    |    7     |  0.9417778807027   |  4   |\n",
      "|    4    |   302    | 0.9139021464756557 |  5   |\n",
      "|    5    |   195    | 1.0192858258883157 |  1   |\n",
      "|    5    |   202    | 0.9353599468866984 |  2   |\n",
      "|    5    |    56    | 0.8407507676066774 |  3   |\n",
      "|    5    |    82    | 0.7552172335711392 |  4   |\n",
      "|    5    |   568    | 0.7326699542276787 |  5   |\n",
      "+---------+----------+--------------------+------+\n",
      "[25 rows x 4 columns]\n",
      "\n"
     ]
    }
   ],
   "source": [
    "#Train Model using item-item Cosine Similarity\n",
    "item_sim_model_cosine = tc.recommender.item_similarity_recommender.create(train_data,\n",
    "                user_id='user_id', item_id='movie_id', target='rating', similarity_type='cosine')\n",
    "item_sim_recomm_cosine = item_sim_model_cosine.recommend(users=selected_users, k=5)\n",
    "item_sim_recomm_cosine.print_rows(num_rows=25)"
   ]
  },
  {
   "cell_type": "markdown",
   "metadata": {},
   "source": [
    "However, there is still a potential issue for Cosine Similarity is that we assume users rate 0 (negatively against the item) for items they haven't rated yet. We will further modify the model using centered cosine, in other words, the Pearson Correlation."
   ]
  },
  {
   "cell_type": "markdown",
   "metadata": {},
   "source": [
    "## Collaborative Filtering with Pearson Similarity"
   ]
  },
  {
   "cell_type": "markdown",
   "metadata": {},
   "source": [
    "Here, we introduce pearson similarity which calculates Pearson Correlation between two vectors. Pearson Correlation is also called the centered cosine between two vectors. Using the example above, we first normalize the ratings by subtracting the row mean. For instance, the row mean for User A is (4+5+1)/3 = 10/3. Therefore, the ratings for User A is normalized to (4-10/3) = 2/3 for item1, (5-10/3) = 5/3 for item14 and (1-10/3) = -7/3 for item5. Following similar logic, the normalized vectors for A, B and C are as follows."
   ]
  },
  {
   "cell_type": "code",
   "execution_count": 153,
   "metadata": {},
   "outputs": [
    {
     "name": "stdout",
     "output_type": "stream",
     "text": [
      "Pearson Similarity A and B: 0.0924500327042\n",
      "Pearson Similarity A and C: -0.559085246252\n"
     ]
    }
   ],
   "source": [
    "vector_A = np.array([2/3, 0, 0, 5/3, -7/3, 0, 0])\n",
    "vector_B = np.array([1/3, 1/3, -2/3, 0, 0, 0, 0])\n",
    "vector_C = np.array([0, 0, 0, -5/3, 1/3, 4/3, 0])\n",
    "pearson_sim_A_B = 1 - spatial.distance.cosine(vector_A, vector_B)\n",
    "pearson_sim_A_C = 1 - spatial.distance.cosine(vector_A, vector_C)\n",
    "print(\"Pearson Similarity A and B:\", pearson_sim_A_B)\n",
    "print(\"Pearson Similarity A and C:\", pearson_sim_A_C)"
   ]
  },
  {
   "cell_type": "markdown",
   "metadata": {},
   "source": [
    "From this example, we could conclude in this setting Pearson similarity catches our intuition better. This is because it treats missing ratings as average and scales all ratings around the average: 0.\n",
    "\n",
    "Here we also give out an example on how to use Pearson Similarity using GraphLab."
   ]
  },
  {
   "cell_type": "code",
   "execution_count": 194,
   "metadata": {},
   "outputs": [
    {
     "data": {
      "text/html": [
       "<pre>Recsys training: model = item_similarity</pre>"
      ],
      "text/plain": [
       "Recsys training: model = item_similarity"
      ]
     },
     "metadata": {},
     "output_type": "display_data"
    },
    {
     "data": {
      "text/html": [
       "<pre>Warning: Ignoring columns unix_timestamp;</pre>"
      ],
      "text/plain": [
       "Warning: Ignoring columns unix_timestamp;"
      ]
     },
     "metadata": {},
     "output_type": "display_data"
    },
    {
     "data": {
      "text/html": [
       "<pre>    To use these columns in scoring predictions, use a model that allows the use of additional features.</pre>"
      ],
      "text/plain": [
       "    To use these columns in scoring predictions, use a model that allows the use of additional features."
      ]
     },
     "metadata": {},
     "output_type": "display_data"
    },
    {
     "data": {
      "text/html": [
       "<pre>Preparing data set.</pre>"
      ],
      "text/plain": [
       "Preparing data set."
      ]
     },
     "metadata": {},
     "output_type": "display_data"
    },
    {
     "data": {
      "text/html": [
       "<pre>    Data has 90570 observations with 943 users and 1680 items.</pre>"
      ],
      "text/plain": [
       "    Data has 90570 observations with 943 users and 1680 items."
      ]
     },
     "metadata": {},
     "output_type": "display_data"
    },
    {
     "data": {
      "text/html": [
       "<pre>    Data prepared in: 0.13896s</pre>"
      ],
      "text/plain": [
       "    Data prepared in: 0.13896s"
      ]
     },
     "metadata": {},
     "output_type": "display_data"
    },
    {
     "data": {
      "text/html": [
       "<pre>Training model from provided data.</pre>"
      ],
      "text/plain": [
       "Training model from provided data."
      ]
     },
     "metadata": {},
     "output_type": "display_data"
    },
    {
     "data": {
      "text/html": [
       "<pre>Gathering per-item and per-user statistics.</pre>"
      ],
      "text/plain": [
       "Gathering per-item and per-user statistics."
      ]
     },
     "metadata": {},
     "output_type": "display_data"
    },
    {
     "data": {
      "text/html": [
       "<pre>+--------------------------------+------------+</pre>"
      ],
      "text/plain": [
       "+--------------------------------+------------+"
      ]
     },
     "metadata": {},
     "output_type": "display_data"
    },
    {
     "data": {
      "text/html": [
       "<pre>| Elapsed Time (Item Statistics) | % Complete |</pre>"
      ],
      "text/plain": [
       "| Elapsed Time (Item Statistics) | % Complete |"
      ]
     },
     "metadata": {},
     "output_type": "display_data"
    },
    {
     "data": {
      "text/html": [
       "<pre>+--------------------------------+------------+</pre>"
      ],
      "text/plain": [
       "+--------------------------------+------------+"
      ]
     },
     "metadata": {},
     "output_type": "display_data"
    },
    {
     "data": {
      "text/html": [
       "<pre>| 6.247ms                        | 100        |</pre>"
      ],
      "text/plain": [
       "| 6.247ms                        | 100        |"
      ]
     },
     "metadata": {},
     "output_type": "display_data"
    },
    {
     "data": {
      "text/html": [
       "<pre>+--------------------------------+------------+</pre>"
      ],
      "text/plain": [
       "+--------------------------------+------------+"
      ]
     },
     "metadata": {},
     "output_type": "display_data"
    },
    {
     "data": {
      "text/html": [
       "<pre>Setting up lookup tables.</pre>"
      ],
      "text/plain": [
       "Setting up lookup tables."
      ]
     },
     "metadata": {},
     "output_type": "display_data"
    },
    {
     "data": {
      "text/html": [
       "<pre>Processing data in one pass using dense lookup tables.</pre>"
      ],
      "text/plain": [
       "Processing data in one pass using dense lookup tables."
      ]
     },
     "metadata": {},
     "output_type": "display_data"
    },
    {
     "data": {
      "text/html": [
       "<pre>+-------------------------------------+------------------+-----------------+</pre>"
      ],
      "text/plain": [
       "+-------------------------------------+------------------+-----------------+"
      ]
     },
     "metadata": {},
     "output_type": "display_data"
    },
    {
     "data": {
      "text/html": [
       "<pre>| Elapsed Time (Constructing Lookups) | Total % Complete | Items Processed |</pre>"
      ],
      "text/plain": [
       "| Elapsed Time (Constructing Lookups) | Total % Complete | Items Processed |"
      ]
     },
     "metadata": {},
     "output_type": "display_data"
    },
    {
     "data": {
      "text/html": [
       "<pre>+-------------------------------------+------------------+-----------------+</pre>"
      ],
      "text/plain": [
       "+-------------------------------------+------------------+-----------------+"
      ]
     },
     "metadata": {},
     "output_type": "display_data"
    },
    {
     "data": {
      "text/html": [
       "<pre>| 20.285ms                            | 0.25             | 6               |</pre>"
      ],
      "text/plain": [
       "| 20.285ms                            | 0.25             | 6               |"
      ]
     },
     "metadata": {},
     "output_type": "display_data"
    },
    {
     "data": {
      "text/html": [
       "<pre>| 323.083ms                           | 100              | 1680            |</pre>"
      ],
      "text/plain": [
       "| 323.083ms                           | 100              | 1680            |"
      ]
     },
     "metadata": {},
     "output_type": "display_data"
    },
    {
     "data": {
      "text/html": [
       "<pre>+-------------------------------------+------------------+-----------------+</pre>"
      ],
      "text/plain": [
       "+-------------------------------------+------------------+-----------------+"
      ]
     },
     "metadata": {},
     "output_type": "display_data"
    },
    {
     "data": {
      "text/html": [
       "<pre>Finalizing lookup tables.</pre>"
      ],
      "text/plain": [
       "Finalizing lookup tables."
      ]
     },
     "metadata": {},
     "output_type": "display_data"
    },
    {
     "data": {
      "text/html": [
       "<pre>Generating candidate set for working with new users.</pre>"
      ],
      "text/plain": [
       "Generating candidate set for working with new users."
      ]
     },
     "metadata": {},
     "output_type": "display_data"
    },
    {
     "data": {
      "text/html": [
       "<pre>Finished training in 0.343393s</pre>"
      ],
      "text/plain": [
       "Finished training in 0.343393s"
      ]
     },
     "metadata": {},
     "output_type": "display_data"
    },
    {
     "name": "stdout",
     "output_type": "stream",
     "text": [
      "+---------+----------+--------------------+------+\n",
      "| user_id | movie_id |       score        | rank |\n",
      "+---------+----------+--------------------+------+\n",
      "|    1    |   1500   |        5.0         |  1   |\n",
      "|    1    |   1201   |        5.0         |  2   |\n",
      "|    1    |   814    |        5.0         |  3   |\n",
      "|    1    |   1122   |        5.0         |  4   |\n",
      "|    1    |   1189   |        5.0         |  5   |\n",
      "|    1    |   1536   |        5.0         |  6   |\n",
      "|    1    |   1467   |        5.0         |  7   |\n",
      "|    1    |   1656   |        5.0         |  8   |\n",
      "|    1    |   1599   |        5.0         |  9   |\n",
      "|    1    |   1293   |        5.0         |  10  |\n",
      "|    1    |   1449   | 4.716636559922926  |  11  |\n",
      "|    1    |   1642   | 4.5010239400026455 |  12  |\n",
      "|    1    |   1398   |        4.5         |  13  |\n",
      "|    1    |   1463   |        4.5         |  14  |\n",
      "|    1    |   1594   | 4.4994249953568435 |  15  |\n",
      "|    1    |   408    | 4.482689862820377  |  16  |\n",
      "|    1    |   318    | 4.4760153784752985 |  17  |\n",
      "|    1    |   483    | 4.461967121618787  |  18  |\n",
      "|    1    |   603    | 4.375276271869674  |  19  |\n",
      "|    1    |   1524   | 4.334565743538564  |  20  |\n",
      "|    1    |   1639   | 4.334015959850097  |  21  |\n",
      "|    1    |   1191   | 4.332826426996832  |  22  |\n",
      "|    1    |   513    | 4.328261464867183  |  23  |\n",
      "|    1    |   427    | 4.321460504869295  |  24  |\n",
      "|    1    |   285    | 4.295725360098304  |  25  |\n",
      "|    1    |   357    | 4.291541607442339  |  26  |\n",
      "|    1    |   480    | 4.288912005142398  |  27  |\n",
      "|    1    |   657    | 4.276932524877815  |  28  |\n",
      "|    1    |   963    | 4.273022196927167  |  29  |\n",
      "|    1    |   479    | 4.267411466515397  |  30  |\n",
      "|    2    |   1189   |        5.0         |  1   |\n",
      "|    2    |   1500   |        5.0         |  2   |\n",
      "|    2    |   1293   |        5.0         |  3   |\n",
      "|    2    |   1599   |        5.0         |  4   |\n",
      "|    2    |   1201   |        5.0         |  5   |\n",
      "|    2    |   1122   |        5.0         |  6   |\n",
      "|    2    |   1656   |        5.0         |  7   |\n",
      "|    2    |   1467   |        5.0         |  8   |\n",
      "|    2    |   1536   |        5.0         |  9   |\n",
      "|    2    |   814    |        5.0         |  10  |\n",
      "|    2    |   1449   |  4.71719320822548  |  11  |\n",
      "|    2    |   1594   | 4.501896272485073  |  12  |\n",
      "|    2    |   1642   | 4.501896272485073  |  13  |\n",
      "|    2    |   1398   |        4.5         |  14  |\n",
      "|    2    |   1463   | 4.493490007061225  |  15  |\n",
      "|    2    |   114    | 4.491525423728814  |  16  |\n",
      "|    2    |   408    | 4.4829633556879465 |  17  |\n",
      "|    2    |   318    | 4.478316610298193  |  18  |\n",
      "|    2    |   169    | 4.476635514018692  |  19  |\n",
      "|    2    |   483    | 4.463859466733515  |  20  |\n",
      "|    2    |    64    | 4.4544953437223285 |  21  |\n",
      "|    2    |    12    |  4.38804956921269  |  22  |\n",
      "|    2    |   603    | 4.377064301952336  |  23  |\n",
      "|    2    |    50    | 4.369959991207024  |  24  |\n",
      "|    2    |   1191   | 4.334842267326819  |  25  |\n",
      "|    2    |   1524   | 4.333333333333334  |  26  |\n",
      "|    2    |   1639   | 4.333333333333333  |  27  |\n",
      "|    2    |   119    | 4.333333333333333  |  28  |\n",
      "|    2    |   427    |  4.32867571856268  |  29  |\n",
      "|    2    |   178    | 4.328171970539551  |  30  |\n",
      "|    3    |   1536   |        5.0         |  1   |\n",
      "|    3    |   1656   |        5.0         |  2   |\n",
      "|    3    |   1122   |        5.0         |  3   |\n",
      "|    3    |   1293   |        5.0         |  4   |\n",
      "|    3    |   814    |        5.0         |  5   |\n",
      "|    3    |   1201   |        5.0         |  6   |\n",
      "|    3    |   1599   |        5.0         |  7   |\n",
      "|    3    |   1500   |        5.0         |  8   |\n",
      "|    3    |   1189   |        5.0         |  9   |\n",
      "|    3    |   1467   |        5.0         |  10  |\n",
      "|    3    |   1449   | 4.7142857142857135 |  11  |\n",
      "|    3    |   1594   |        4.5         |  12  |\n",
      "|    3    |   1398   |        4.5         |  13  |\n",
      "|    3    |   1642   | 4.498838263479146  |  14  |\n",
      "|    3    |   1463   | 4.4985742325132545 |  15  |\n",
      "|    3    |   114    | 4.491525423728814  |  16  |\n",
      "|    3    |   408    | 4.477832947473424  |  17  |\n",
      "|    3    |   169    | 4.476635514018692  |  18  |\n",
      "|    3    |   483    | 4.459780485599074  |  19  |\n",
      "|    3    |    64    | 4.4399292225292495 |  20  |\n",
      "|    3    |    12    | 4.374967422672301  |  21  |\n",
      "|    3    |   603    | 4.374358974358973  |  22  |\n",
      "|    3    |    50    | 4.3623145928286515 |  23  |\n",
      "|    3    |   1191   | 4.340149377783139  |  24  |\n",
      "|    3    |   1524   | 4.333333333333334  |  25  |\n",
      "|    3    |   1639   | 4.333333333333333  |  26  |\n",
      "|    3    |   178    | 4.327433628318585  |  27  |\n",
      "|    3    |   119    | 4.327005624319567  |  28  |\n",
      "|    3    |   134    | 4.320652173913043  |  29  |\n",
      "|    3    |   427    | 4.315969938882675  |  30  |\n",
      "|    4    |   1201   |        5.0         |  1   |\n",
      "|    4    |   1189   |        5.0         |  2   |\n",
      "|    4    |   1122   |        5.0         |  3   |\n",
      "|    4    |   1656   |        5.0         |  4   |\n",
      "|    4    |   1536   |        5.0         |  5   |\n",
      "|    4    |   1293   |        5.0         |  6   |\n",
      "|    4    |   814    |        5.0         |  7   |\n",
      "|    4    |   1500   |        5.0         |  8   |\n",
      "|    4    |   1467   |        5.0         |  9   |\n",
      "|    4    |   1599   |        5.0         |  10  |\n",
      "|    4    |   1449   | 4.7142857142857135 |  11  |\n",
      "|    4    |   1463   |        4.5         |  12  |\n",
      "|    4    |   1594   |        4.5         |  13  |\n",
      "|    4    |   1398   |        4.5         |  14  |\n",
      "|    4    |   1642   |        4.5         |  15  |\n",
      "|    4    |   114    | 4.491525423728814  |  16  |\n",
      "|    4    |   408    | 4.480769230769229  |  17  |\n",
      "|    4    |   169    | 4.476635514018692  |  18  |\n",
      "|    4    |    64    | 4.467131524320986  |  19  |\n",
      "|    4    |   318    | 4.465108459434545  |  20  |\n",
      "|    4    |   483    | 4.459821428571431  |  21  |\n",
      "|    4    |    12    | 4.377307795178975  |  22  |\n",
      "|    4    |   603    | 4.374358974358973  |  23  |\n",
      "|    4    |    50    | 4.349822583257031  |  24  |\n",
      "|    4    |   1524   | 4.333333333333334  |  25  |\n",
      "|    4    |   1191   | 4.333333333333333  |  26  |\n",
      "|    4    |   119    | 4.333333333333333  |  27  |\n",
      "|    4    |   1639   | 4.333333333333333  |  28  |\n",
      "|    4    |   178    | 4.327433628318585  |  29  |\n",
      "|    4    |   427    | 4.323232323232324  |  30  |\n",
      "|    5    |   1500   |        5.0         |  1   |\n",
      "|    5    |   1467   |        5.0         |  2   |\n",
      "|    5    |   1201   |        5.0         |  3   |\n",
      "|    5    |   814    |        5.0         |  4   |\n",
      "|    5    |   1189   |        5.0         |  5   |\n",
      "|    5    |   1599   |        5.0         |  6   |\n",
      "|    5    |   1293   |        5.0         |  7   |\n",
      "|    5    |   1656   |        5.0         |  8   |\n",
      "|    5    |   1536   |        5.0         |  9   |\n",
      "|    5    |   1122   |        5.0         |  10  |\n",
      "|    5    |   1449   | 4.710432527230415  |  11  |\n",
      "|    5    |   1463   |        4.5         |  12  |\n",
      "|    5    |   1594   |        4.5         |  13  |\n",
      "|    5    |   1642   |        4.5         |  14  |\n",
      "|    5    |   1398   | 4.498543624444442  |  15  |\n",
      "|    5    |   114    | 4.493660820455018  |  16  |\n",
      "|    5    |   318    | 4.468166233884385  |  17  |\n",
      "|    5    |   483    | 4.458529401083531  |  18  |\n",
      "|    5    |    64    | 4.458323882304926  |  19  |\n",
      "|    5    |    12    |  4.39040653258292  |  20  |\n",
      "|    5    |   603    |  4.37192811957606  |  21  |\n",
      "|    5    |   119    | 4.333528703270536  |  22  |\n",
      "|    5    |   1524   | 4.333333333333334  |  23  |\n",
      "|    5    |   1191   | 4.333333333333333  |  24  |\n",
      "|    5    |   1639   | 4.333333333333333  |  25  |\n",
      "|    5    |   178    | 4.325517514913068  |  26  |\n",
      "|    5    |   134    | 4.318460486199073  |  27  |\n",
      "|    5    |   513    | 4.317584654213725  |  28  |\n",
      "|    5    |    98    | 4.3009170929178016 |  29  |\n",
      "|    5    |   285    | 4.297433112051103  |  30  |\n",
      "+---------+----------+--------------------+------+\n",
      "[150 rows x 4 columns]\n",
      "\n"
     ]
    }
   ],
   "source": [
    "#Train Model using item-item Pearson Similarity\n",
    "item_sim_model_pearson = tc.recommender.item_similarity_recommender.create(train_data,\n",
    "                user_id='user_id', item_id='movie_id', target='rating', similarity_type='pearson')\n",
    "item_sim_recomm_pearson = item_sim_model_pearson.recommend(users=selected_users, k=30)\n",
    "item_sim_recomm_pearson.print_rows(num_rows=150)"
   ]
  },
  {
   "cell_type": "markdown",
   "metadata": {},
   "source": [
    "Interestingly, we could see the results are messed up and not what we have expected. This is because by using the pearson similarity, there are all zero vectors for popular movies and the cosine silimarity between an all zero vector and another vector has no meaning. For instance, suppose item1 with 5 users in the model, originally item1's vector is (5, 5, 0, 0, 5). After normalization, it becomes (0, 0, 0, 0, 0) which makes no sense in calculating cosine similarity. This is the potential reason why Pearson Similarity shows weird results here."
   ]
  },
  {
   "cell_type": "markdown",
   "metadata": {},
   "source": [
    "# Evaluating collaborative filtering algorithms"
   ]
  },
  {
   "cell_type": "markdown",
   "metadata": {},
   "source": [
    "Here, we will evaluate collaborative filtering algorithms mainly using the idea of precision and recall.\n",
    "\n",
    "* Recall:\n",
    "This means the ratio of items that a user likes/rates high were actually recommended.\n",
    "For instance, if a user likes 5 items and the recommendation decided to show 3 of them, then the recall is 0.6\n",
    "One thing tricky about recall is that we can have 100% recall is we simply recommend all items. But in this way, we will be penalized by the precision ratio.\n",
    "\n",
    "* Precision:\n",
    "This means out of all the recommended items, how many the user actually liked.\n",
    "For instance, if 5 items were recommended to the user and he liked 4 of them, then precision is 0.8\n",
    "\n",
    "In GraphLab, there is a build-in method to evaluate recommendation models using precision and recall. Since we mentioned Jaccard similarity is not suitable for recommendation systems with rating values. We will only evaluate the Cosine similarity and pearson similarity model here."
   ]
  },
  {
   "cell_type": "code",
   "execution_count": 198,
   "metadata": {},
   "outputs": [
    {
     "name": "stdout",
     "output_type": "stream",
     "text": [
      "PROGRESS: Evaluate model M0\n",
      "\n",
      "Precision and recall summary statistics by cutoff\n",
      "+--------+----------------------+---------------------+\n",
      "| cutoff |     mean_recall      |    mean_precision   |\n",
      "+--------+----------------------+---------------------+\n",
      "|   1    | 0.008483563096500545 |  0.0848356309650053 |\n",
      "|   2    | 0.016224814422057282 |  0.0811240721102863 |\n",
      "|   3    | 0.021208907741251313 | 0.07069635913750438 |\n",
      "|   4    | 0.02693531283138921  | 0.06733828207847306 |\n",
      "|   5    | 0.03181336161187693  | 0.06362672322375386 |\n",
      "|   6    | 0.04008483563096504  | 0.06680805938494164 |\n",
      "|   7    | 0.04623541887592789  | 0.06605059839418269 |\n",
      "|   8    | 0.05196182396606571  | 0.06495227995758224 |\n",
      "|   9    | 0.05715800636267231  | 0.06350889595852487 |\n",
      "|   10   |  0.0643690349946978  |  0.0643690349946978 |\n",
      "+--------+----------------------+---------------------+\n",
      "[10 rows x 3 columns]\n",
      "\n",
      "\n",
      "Overall RMSE: 3.3611922410203454\n",
      "\n",
      "Per User RMSE (best)\n",
      "+---------+-------------------+-------+\n",
      "| user_id |        rmse       | count |\n",
      "+---------+-------------------+-------+\n",
      "|   774   | 1.628282319230167 |   10  |\n",
      "+---------+-------------------+-------+\n",
      "[1 rows x 3 columns]\n",
      "\n",
      "\n",
      "Per User RMSE (worst)\n",
      "+---------+-------------------+-------+\n",
      "| user_id |        rmse       | count |\n",
      "+---------+-------------------+-------+\n",
      "|   200   | 4.595477586010605 |   10  |\n",
      "+---------+-------------------+-------+\n",
      "[1 rows x 3 columns]\n",
      "\n",
      "\n",
      "Per Item RMSE (best)\n",
      "+----------+--------------------+-------+\n",
      "| movie_id |        rmse        | count |\n",
      "+----------+--------------------+-------+\n",
      "|   1255   | 0.8007337326804796 |   1   |\n",
      "+----------+--------------------+-------+\n",
      "[1 rows x 3 columns]\n",
      "\n",
      "\n",
      "Per Item RMSE (worst)\n",
      "+----------+------+-------+\n",
      "| movie_id | rmse | count |\n",
      "+----------+------+-------+\n",
      "|   1114   | 5.0  |   1   |\n",
      "+----------+------+-------+\n",
      "[1 rows x 3 columns]\n",
      "\n",
      "PROGRESS: Evaluate model M1\n",
      "\n",
      "Precision and recall summary statistics by cutoff\n",
      "+--------+------------------------+------------------------+\n",
      "| cutoff |      mean_recall       |     mean_precision     |\n",
      "+--------+------------------------+------------------------+\n",
      "|   1    |          0.0           |          0.0           |\n",
      "|   2    |          0.0           |          0.0           |\n",
      "|   3    |          0.0           |          0.0           |\n",
      "|   4    | 0.00010604453870625672 | 0.0002651113467656419  |\n",
      "|   5    | 0.00010604453870625672 | 0.00021208907741251343 |\n",
      "|   6    | 0.00010604453870625672 | 0.00017674089784376157 |\n",
      "|   7    | 0.00010604453870625672 | 0.00015149219815179524 |\n",
      "|   8    | 0.00010604453870625672 | 0.00013255567338282096 |\n",
      "|   9    | 0.00021208907741251343 | 0.00023565453045834846 |\n",
      "|   10   | 0.00021208907741251343 | 0.00021208907741251343 |\n",
      "+--------+------------------------+------------------------+\n",
      "[10 rows x 3 columns]\n",
      "\n",
      "\n",
      "Overall RMSE: 1.037624743226005\n",
      "\n",
      "Per User RMSE (best)\n",
      "+---------+--------------------+-------+\n",
      "| user_id |        rmse        | count |\n",
      "+---------+--------------------+-------+\n",
      "|    2    | 0.3860587027776944 |   10  |\n",
      "+---------+--------------------+-------+\n",
      "[1 rows x 3 columns]\n",
      "\n",
      "\n",
      "Per User RMSE (worst)\n",
      "+---------+------------------+-------+\n",
      "| user_id |       rmse       | count |\n",
      "+---------+------------------+-------+\n",
      "|   519   | 2.31271603749502 |   10  |\n",
      "+---------+------------------+-------+\n",
      "[1 rows x 3 columns]\n",
      "\n",
      "\n",
      "Per Item RMSE (best)\n",
      "+----------+------+-------+\n",
      "| movie_id | rmse | count |\n",
      "+----------+------+-------+\n",
      "|   1432   | 0.0  |   1   |\n",
      "+----------+------+-------+\n",
      "[1 rows x 3 columns]\n",
      "\n",
      "\n",
      "Per Item RMSE (worst)\n",
      "+----------+------+-------+\n",
      "| movie_id | rmse | count |\n",
      "+----------+------+-------+\n",
      "|   1653   | 5.0  |   1   |\n",
      "+----------+------+-------+\n",
      "[1 rows x 3 columns]\n",
      "\n",
      "[{'rmse_by_user': Columns:\n",
      "\tuser_id\tint\n",
      "\trmse\tfloat\n",
      "\tcount\tint\n",
      "\n",
      "Rows: 943\n",
      "\n",
      "Data:\n",
      "+---------+--------------------+-------+\n",
      "| user_id |        rmse        | count |\n",
      "+---------+--------------------+-------+\n",
      "|   118   | 4.336291387533795  |   10  |\n",
      "|   435   | 3.1167639184446925 |   10  |\n",
      "|   537   | 2.7151416451927193 |   10  |\n",
      "|   526   |  3.25750203994955  |   10  |\n",
      "|   232   | 3.838669996693106  |   10  |\n",
      "|   310   | 3.9143208835523406 |   10  |\n",
      "|    49   | 3.179004209724007  |   10  |\n",
      "|    13   | 3.5153197315530402 |   10  |\n",
      "|   511   | 3.2819824882982265 |   10  |\n",
      "|   363   | 3.171013835505184  |   10  |\n",
      "+---------+--------------------+-------+\n",
      "[943 rows x 3 columns]\n",
      "Note: Only the head of the SFrame is printed.\n",
      "You can use print_rows(num_rows=m, num_columns=n) to print more rows and columns., 'precision_recall_overall': Columns:\n",
      "\tcutoff\tint\n",
      "\tprecision\tfloat\n",
      "\trecall\tfloat\n",
      "\n",
      "Rows: 18\n",
      "\n",
      "Data:\n",
      "+--------+---------------------+----------------------+\n",
      "| cutoff |      precision      |        recall        |\n",
      "+--------+---------------------+----------------------+\n",
      "|   1    | 0.08483563096500533 | 0.008483563096500533 |\n",
      "|   2    | 0.08112407211028647 | 0.01622481442205726  |\n",
      "|   3    | 0.07069635913750442 | 0.021208907741251327 |\n",
      "|   4    | 0.06733828207847287 | 0.026935312831389193 |\n",
      "|   5    | 0.06362672322375396 | 0.03181336161187698  |\n",
      "|   6    | 0.06680805938494154 | 0.04008483563096495  |\n",
      "|   7    | 0.06605059839418274 | 0.046235418875927935 |\n",
      "|   8    |  0.0649522799575821 | 0.05196182396606573  |\n",
      "|   9    | 0.06350889595852476 | 0.057158006362672334 |\n",
      "|   10   | 0.06436903499469782 | 0.06436903499469782  |\n",
      "+--------+---------------------+----------------------+\n",
      "[18 rows x 3 columns]\n",
      "Note: Only the head of the SFrame is printed.\n",
      "You can use print_rows(num_rows=m, num_columns=n) to print more rows and columns., 'rmse_overall': 3.3611922410203454, 'rmse_by_item': Columns:\n",
      "\tmovie_id\tint\n",
      "\trmse\tfloat\n",
      "\tcount\tint\n",
      "\n",
      "Rows: 1129\n",
      "\n",
      "Data:\n",
      "+----------+--------------------+-------+\n",
      "| movie_id |        rmse        | count |\n",
      "+----------+--------------------+-------+\n",
      "|   118    | 2.641975878284706  |   28  |\n",
      "|   1029   |        1.0         |   1   |\n",
      "|   435    | 3.5347189144205835 |   17  |\n",
      "|   537    |        3.0         |   1   |\n",
      "|   526    | 3.349554444254201  |   10  |\n",
      "|   232    | 3.202346905735532  |   8   |\n",
      "|   310    | 3.2622064565636673 |   27  |\n",
      "|    49    | 4.463890415095916  |   2   |\n",
      "|    13    | 2.939280527074582  |   20  |\n",
      "|   511    | 4.150426534170113  |   15  |\n",
      "+----------+--------------------+-------+\n",
      "[1129 rows x 3 columns]\n",
      "Note: Only the head of the SFrame is printed.\n",
      "You can use print_rows(num_rows=m, num_columns=n) to print more rows and columns., 'precision_recall_by_user': Columns:\n",
      "\tuser_id\tint\n",
      "\tcutoff\tint\n",
      "\tprecision\tfloat\n",
      "\trecall\tfloat\n",
      "\tcount\tint\n",
      "\n",
      "Rows: 16974\n",
      "\n",
      "Data:\n",
      "+---------+--------+---------------------+--------+-------+\n",
      "| user_id | cutoff |      precision      | recall | count |\n",
      "+---------+--------+---------------------+--------+-------+\n",
      "|    1    |   1    |         0.0         |  0.0   |   10  |\n",
      "|    1    |   2    |         0.0         |  0.0   |   10  |\n",
      "|    1    |   3    |  0.3333333333333333 |  0.1   |   10  |\n",
      "|    1    |   4    |         0.25        |  0.1   |   10  |\n",
      "|    1    |   5    |         0.2         |  0.1   |   10  |\n",
      "|    1    |   6    | 0.16666666666666666 |  0.1   |   10  |\n",
      "|    1    |   7    | 0.14285714285714285 |  0.1   |   10  |\n",
      "|    1    |   8    |        0.125        |  0.1   |   10  |\n",
      "|    1    |   9    |  0.1111111111111111 |  0.1   |   10  |\n",
      "|    1    |   10   |         0.2         |  0.2   |   10  |\n",
      "+---------+--------+---------------------+--------+-------+\n",
      "[16974 rows x 5 columns]\n",
      "Note: Only the head of the SFrame is printed.\n",
      "You can use print_rows(num_rows=m, num_columns=n) to print more rows and columns.}, {'rmse_by_user': Columns:\n",
      "\tuser_id\tint\n",
      "\trmse\tfloat\n",
      "\tcount\tint\n",
      "\n",
      "Rows: 943\n",
      "\n",
      "Data:\n",
      "+---------+--------------------+-------+\n",
      "| user_id |        rmse        | count |\n",
      "+---------+--------------------+-------+\n",
      "|   118   | 1.2518135235895618 |   10  |\n",
      "|   435   | 0.7372791811662213 |   10  |\n",
      "|   537   | 1.1852745112629222 |   10  |\n",
      "|   526   | 0.8590005718722141 |   10  |\n",
      "|   232   | 1.2149077444307026 |   10  |\n",
      "|   310   | 1.1302071741043578 |   10  |\n",
      "|    49   | 1.2082692565254873 |   10  |\n",
      "|    13   | 1.094481023869318  |   10  |\n",
      "|   511   | 1.0833300466049305 |   10  |\n",
      "|   363   | 1.1954699771637907 |   10  |\n",
      "+---------+--------------------+-------+\n",
      "[943 rows x 3 columns]\n",
      "Note: Only the head of the SFrame is printed.\n",
      "You can use print_rows(num_rows=m, num_columns=n) to print more rows and columns., 'precision_recall_overall': Columns:\n",
      "\tcutoff\tint\n",
      "\tprecision\tfloat\n",
      "\trecall\tfloat\n",
      "\n",
      "Rows: 18\n",
      "\n",
      "Data:\n",
      "+--------+------------------------+------------------------+\n",
      "| cutoff |       precision        |         recall         |\n",
      "+--------+------------------------+------------------------+\n",
      "|   1    |          0.0           |          0.0           |\n",
      "|   2    |          0.0           |          0.0           |\n",
      "|   3    |          0.0           |          0.0           |\n",
      "|   4    | 0.0002651113467656418  | 0.00010604453870625677 |\n",
      "|   5    | 0.00021208907741251354 | 0.00010604453870625677 |\n",
      "|   6    | 0.00017674089784376157 | 0.00010604453870625677 |\n",
      "|   7    | 0.00015149219815179524 | 0.00010604453870625677 |\n",
      "|   8    | 0.00013255567338282096 | 0.00010604453870625677 |\n",
      "|   9    | 0.00023565453045834833 | 0.00021208907741251343 |\n",
      "|   10   | 0.00021208907741251343 | 0.00021208907741251343 |\n",
      "+--------+------------------------+------------------------+\n",
      "[18 rows x 3 columns]\n",
      "Note: Only the head of the SFrame is printed.\n",
      "You can use print_rows(num_rows=m, num_columns=n) to print more rows and columns., 'rmse_overall': 1.037624743226005, 'rmse_by_item': Columns:\n",
      "\tmovie_id\tint\n",
      "\trmse\tfloat\n",
      "\tcount\tint\n",
      "\n",
      "Rows: 1129\n",
      "\n",
      "Data:\n",
      "+----------+--------------------+-------+\n",
      "| movie_id |        rmse        | count |\n",
      "+----------+--------------------+-------+\n",
      "|   118    | 0.949277791077442  |   28  |\n",
      "|   1029   | 1.0777124288429412 |   1   |\n",
      "|   435    | 0.8635280886099884 |   17  |\n",
      "|   537    |  0.65802164429449  |   1   |\n",
      "|   526    | 1.238004709478364  |   10  |\n",
      "|   232    |  1.08348509348243  |   8   |\n",
      "|   310    | 1.143684779090073  |   27  |\n",
      "|    49    | 1.3079643490242556 |   2   |\n",
      "|    13    | 1.057975595388242  |   20  |\n",
      "|   511    | 0.7609575431499565 |   15  |\n",
      "+----------+--------------------+-------+\n",
      "[1129 rows x 3 columns]\n",
      "Note: Only the head of the SFrame is printed.\n",
      "You can use print_rows(num_rows=m, num_columns=n) to print more rows and columns., 'precision_recall_by_user': Columns:\n",
      "\tuser_id\tint\n",
      "\tcutoff\tint\n",
      "\tprecision\tfloat\n",
      "\trecall\tfloat\n",
      "\tcount\tint\n",
      "\n",
      "Rows: 16974\n",
      "\n",
      "Data:\n",
      "+---------+--------+-----------+--------+-------+\n",
      "| user_id | cutoff | precision | recall | count |\n",
      "+---------+--------+-----------+--------+-------+\n",
      "|    1    |   1    |    0.0    |  0.0   |   10  |\n",
      "|    1    |   2    |    0.0    |  0.0   |   10  |\n",
      "|    1    |   3    |    0.0    |  0.0   |   10  |\n",
      "|    1    |   4    |    0.0    |  0.0   |   10  |\n",
      "|    1    |   5    |    0.0    |  0.0   |   10  |\n",
      "|    1    |   6    |    0.0    |  0.0   |   10  |\n",
      "|    1    |   7    |    0.0    |  0.0   |   10  |\n",
      "|    1    |   8    |    0.0    |  0.0   |   10  |\n",
      "|    1    |   9    |    0.0    |  0.0   |   10  |\n",
      "|    1    |   10   |    0.0    |  0.0   |   10  |\n",
      "+---------+--------+-----------+--------+-------+\n",
      "[16974 rows x 5 columns]\n",
      "Note: Only the head of the SFrame is printed.\n",
      "You can use print_rows(num_rows=m, num_columns=n) to print more rows and columns.}]\n"
     ]
    }
   ],
   "source": [
    "#Evaluate the train model\n",
    "compare_performance = tc.recommender.util.compare_models(test_data, [item_sim_model_cosine, item_sim_model_pearson])\n",
    "print(compare_performance)"
   ]
  },
  {
   "attachments": {
    "M0.jpeg": {
     "image/jpeg": "[encoded data removed]"
    },
    "M1.jpeg": {
     "image/jpeg": "[encoded data removed]"
    }
   },
   "cell_type": "markdown",
   "metadata": {},
   "source": [
    "The precision and recall summary of the two models are as following:\n",
    "\n",
    "Precision and recall for Cosine Similarity:\n",
    "\n",
    "![M0.jpeg](attachment:M0.jpeg)\n",
    "\n",
    "Precision and recall for Pearson Similarity:\n",
    "\n",
    "![M1.jpeg](attachment:M1.jpeg)"
   ]
  },
  {
   "cell_type": "markdown",
   "metadata": {},
   "source": [
    "We can conclude that in [MovieLens 100K](https://turi.com/products/create/docs/graphlab.toolkits.html) dataset, cosine similarity is a better recommendation model with both higher precision and higher recall. This also matches our above analysis."
   ]
  },
  {
   "cell_type": "markdown",
   "metadata": {},
   "source": [
    "# Yelp Recommendation System using Collaborative Filtering"
   ]
  },
  {
   "cell_type": "markdown",
   "metadata": {},
   "source": [
    "Now, we move on to implement a recommendation system for Yelp. Here we train the recommendation system on user's rating data for the top 10 restaurants in Shadyside, Pittsburgh. The scale of our training dataset is around 4,000. First, we extract the restaurant information using the Yelp API."
   ]
  },
  {
   "cell_type": "code",
   "execution_count": 199,
   "metadata": {},
   "outputs": [
    {
     "name": "stdout",
     "output_type": "stream",
     "text": [
      "['Noodlehead', \"Millie's Homemade Ice Cream\", 'Casbah', \"Mercurio's\", 'Spoon', \"P&G's Pamela's Diner\", 'Soba', 'Harris Grill', 'Senyai Thai Kitchen', 'Cafe Moulin']\n",
      "['https://www.yelp.com/biz/noodlehead-pittsburgh?adjust_creative=R-EwPFXrdCzzOYl0M6aOWg&utm_campaign=yelp_api_v3&utm_medium=api_v3_business_search&utm_source=R-EwPFXrdCzzOYl0M6aOWg', 'https://www.yelp.com/biz/millies-homemade-ice-cream-pittsburgh?adjust_creative=R-EwPFXrdCzzOYl0M6aOWg&utm_campaign=yelp_api_v3&utm_medium=api_v3_business_search&utm_source=R-EwPFXrdCzzOYl0M6aOWg', 'https://www.yelp.com/biz/casbah-pittsburgh?adjust_creative=R-EwPFXrdCzzOYl0M6aOWg&utm_campaign=yelp_api_v3&utm_medium=api_v3_business_search&utm_source=R-EwPFXrdCzzOYl0M6aOWg', 'https://www.yelp.com/biz/mercurios-pittsburgh?adjust_creative=R-EwPFXrdCzzOYl0M6aOWg&utm_campaign=yelp_api_v3&utm_medium=api_v3_business_search&utm_source=R-EwPFXrdCzzOYl0M6aOWg', 'https://www.yelp.com/biz/spoon-pittsburgh?adjust_creative=R-EwPFXrdCzzOYl0M6aOWg&utm_campaign=yelp_api_v3&utm_medium=api_v3_business_search&utm_source=R-EwPFXrdCzzOYl0M6aOWg', 'https://www.yelp.com/biz/p-and-gs-pamelas-diner-pittsburgh?adjust_creative=R-EwPFXrdCzzOYl0M6aOWg&utm_campaign=yelp_api_v3&utm_medium=api_v3_business_search&utm_source=R-EwPFXrdCzzOYl0M6aOWg', 'https://www.yelp.com/biz/soba-pittsburgh?adjust_creative=R-EwPFXrdCzzOYl0M6aOWg&utm_campaign=yelp_api_v3&utm_medium=api_v3_business_search&utm_source=R-EwPFXrdCzzOYl0M6aOWg', 'https://www.yelp.com/biz/harris-grill-pittsburgh?adjust_creative=R-EwPFXrdCzzOYl0M6aOWg&utm_campaign=yelp_api_v3&utm_medium=api_v3_business_search&utm_source=R-EwPFXrdCzzOYl0M6aOWg', 'https://www.yelp.com/biz/senyai-thai-kitchen-pittsburgh?adjust_creative=R-EwPFXrdCzzOYl0M6aOWg&utm_campaign=yelp_api_v3&utm_medium=api_v3_business_search&utm_source=R-EwPFXrdCzzOYl0M6aOWg', 'https://www.yelp.com/biz/cafe-moulin-pittsburgh?adjust_creative=R-EwPFXrdCzzOYl0M6aOWg&utm_campaign=yelp_api_v3&utm_medium=api_v3_business_search&utm_source=R-EwPFXrdCzzOYl0M6aOWg']\n"
     ]
    }
   ],
   "source": [
    "# Getting the API key\n",
    "def read_api_key(filepath):\n",
    "    with open('api_key.txt', 'r') as f:\n",
    "        return f.read().replace('\\n','')\n",
    "\n",
    "# Getting a full restaurant list in a neighborhood\n",
    "def all_restaurants(api_key, query):\n",
    "    head = {\"authorization\": \"Bearer %s\" % api_key}    \n",
    "    response_init = requests.get(\"https://api.yelp.com/v3/businesses/search\",\n",
    "                    headers = head, params={\"categories\": \"restaurants\", \"location\": query,\"offset\": 0, \"limit\": 20})\n",
    "    json_result = json.loads(response_init.text)\n",
    "    total = 0\n",
    "    if 'total' in json_result.keys():\n",
    "        total = int(json_result['total'])\n",
    "    list_result = []\n",
    "    for i in range(0, total, 20):\n",
    "        response_new = requests.get(\"https://api.yelp.com/v3/businesses/search\", headers = head, \n",
    "                       params={\"categories\": \"Restaurants\", \"location\": query, \"offset\": i, \"limit\": 20})\n",
    "        json_result = json.loads(response_new.text)\n",
    "        list_new = json_result['businesses']\n",
    "        list_result.extend(list_new)\n",
    "        time.sleep(0.5)\n",
    "    return list_result\n",
    "\n",
    "api_key = read_api_key('./api_key.txt')\n",
    "all_restaurant_shadyside = all_restaurants(api_key, 'Shadyside, Pittsburgh')\n",
    "\n",
    "# Number of restaurants is n, can be tuned for larger scale analysis\n",
    "n = 10\n",
    "\n",
    "# List of restaurants and url for the restaurants\n",
    "restaurant_list_raw = all_restaurant_shadyside[:n]\n",
    "restaurant_list = []\n",
    "restaurant_url_list = []\n",
    "for x in range(0, n):\n",
    "    restaurant_list.append(restaurant_list_raw[x]['name'])\n",
    "    restaurant_url_list.append(restaurant_list_raw[x]['url'])\n",
    "print(restaurant_list)\n",
    "print(restaurant_url_list)"
   ]
  },
  {
   "cell_type": "markdown",
   "metadata": {},
   "source": [
    "Next, we will get the user rating information from the restaurants listed above to train and test a collaborative filtering recommendation system. This will contain three lists for each training and testing dataframe: one list for userid, one list for ratings and the other list for restaurants. We will also randomly pick some of the data from the dataset to form the test dataset.\n",
    "\n",
    "Note: the following block of codes will take longer (around 15 mins) to execute since it needs to get data from hundreds of Yelp pages, please avoid running this block of codes to save time."
   ]
  },
  {
   "cell_type": "code",
   "execution_count": 208,
   "metadata": {},
   "outputs": [
    {
     "name": "stderr",
     "output_type": "stream",
     "text": [
      "/anaconda3/lib/python3.5/site-packages/bs4/builder/_lxml.py:250: DeprecationWarning: inspect.getargspec() is deprecated, use inspect.signature() instead\n",
      "  self.parser.feed(markup)\n"
     ]
    },
    {
     "name": "stdout",
     "output_type": "stream",
     "text": [
      "Length for list user 3239\n",
      "Length for list rating 3239\n",
      "Length for list item 3239\n"
     ]
    }
   ],
   "source": [
    "# Getting data from a single html page\n",
    "def get_data_from_single_html(html):\n",
    "    result = ()\n",
    "    root = BeautifulSoup(html,\"lxml\")\n",
    "    div_all = root.findAll(\"div\", \"review review--with-sidebar\")\n",
    "    list_result = []\n",
    "    href_next_page = \"\"\n",
    "    for div in div_all:\n",
    "        dict_each = {}\n",
    "        dict_each[\"user_id\"] = str(div.attrs['data-signup-object'][8:])\n",
    "        sub_div = div.find(\"div\", attrs={\"class\": \"biz-rating biz-rating-large clearfix\"})\n",
    "        dict_each[\"rating\"] = float(sub_div.contents[1].contents[1].attrs['title'][:3])\n",
    "        list_result.append(dict_each)\n",
    "    div_current_page = root.find(\"div\", \"arrange_unit page-option current\")\n",
    "    div_next_page = div_current_page.find_next_sibling(\"div\")\n",
    "    if div_next_page is None:\n",
    "        href_next_page = \"None\"\n",
    "    else:\n",
    "        atag_next_page = div_next_page.find(\"a\", \"available-number pagination-links_anchor\")\n",
    "        href_next_page = str(atag_next_page.attrs['href'])\n",
    "    result = result + (list_result, href_next_page)\n",
    "    return result\n",
    "\n",
    "# Getting all data needed from a restaurant\n",
    "def extract_data(url, rest_name):\n",
    "    list_result = []\n",
    "    list_user = []\n",
    "    list_rating = []\n",
    "    list_item = []\n",
    "    url_current = url\n",
    "    cur_page_result = get_data_from_single_html(requests.get(url_current).text)\n",
    "    while cur_page_result[1] != 'None':\n",
    "        list_result.extend(cur_page_result[0])\n",
    "        url_current = cur_page_result[1]\n",
    "        cur_page_result = get_data_from_single_html(requests.get(url_current).text)\n",
    "    assert cur_page_result[1] == 'None'\n",
    "    list_result.extend(cur_page_result[0])\n",
    "    for each_one in list_result:\n",
    "        list_user.append(each_one['user_id'])\n",
    "        list_rating.append(each_one['rating'])\n",
    "        list_item.append(rest_name)\n",
    "    return (list_user, list_rating, list_item)\n",
    "\n",
    "# Forming dataset for testing and training, check the length of three lists to ensure accuracy\n",
    "list_user = []\n",
    "list_rating = []\n",
    "list_item = []\n",
    "for i in range(0, 10):\n",
    "    list_user.extend(extract_data(restaurant_url_list[i], restaurant_list[i])[0])\n",
    "    list_rating.extend(extract_data(restaurant_url_list[i], restaurant_list[i])[1])\n",
    "    list_item.extend(extract_data(restaurant_url_list[i], restaurant_list[i])[2])\n",
    "print(\"Length for list user\", len(list_user))\n",
    "print(\"Length for list rating\", len(list_rating))\n",
    "print(\"Length for list item\", len(list_item))"
   ]
  },
  {
   "cell_type": "markdown",
   "metadata": {},
   "source": [
    "Now that we have three lists for users, rating and items(restaurants), we can now use these information to form the train dataframe and the test dataframe for our recommendation system."
   ]
  },
  {
   "cell_type": "code",
   "execution_count": 213,
   "metadata": {},
   "outputs": [
    {
     "name": "stdout",
     "output_type": "stream",
     "text": [
      "Dataframe for train set:\n",
      "+------------+--------+------------------------+\n",
      "|  item_id   | rating |        user_id         |\n",
      "+------------+--------+------------------------+\n",
      "| Noodlehead |  5.0   | GODifnlmYoFbPbB6INk5VA |\n",
      "| Noodlehead |  4.0   | wRtDGmMriHBQSfqW15szJQ |\n",
      "| Noodlehead |  5.0   | 7wAdctG3920KcBLSVXlZdQ |\n",
      "| Noodlehead |  5.0   | zg6LAy9gGLVH9JtcYP9gJg |\n",
      "| Noodlehead |  5.0   | oc3344f0uSGQ-KrApW1xVw |\n",
      "| Noodlehead |  4.0   | 0BxF-X_WBAoL6Zk46RzhYQ |\n",
      "| Noodlehead |  4.0   | EaRd_4nFnPs8Fei-H2ZmVA |\n",
      "| Noodlehead |  4.0   | 538pVFWMOaaRbmW0AXZy4Q |\n",
      "| Noodlehead |  5.0   | j_XUyKHWIaTJwxRFqNgsxg |\n",
      "| Noodlehead |  5.0   | cKeMks0yFeItSlkUKnZW0w |\n",
      "+------------+--------+------------------------+\n",
      "[10 rows x 3 columns]\n",
      "\n",
      "(2591, 3)\n",
      "Dataframe for test set:\n",
      "+------------+--------+------------------------+\n",
      "|  item_id   | rating |        user_id         |\n",
      "+------------+--------+------------------------+\n",
      "| Noodlehead |  4.0   | fhAk9y00oF5yvXwn8gl3JQ |\n",
      "| Noodlehead |  5.0   | DosPs0fkIbXOFWBkrB9oaA |\n",
      "| Noodlehead |  4.0   | hcBzEso37Ne4yfI8gj44ag |\n",
      "| Noodlehead |  3.0   | taaHIJG6wuCgPnkez-9ewA |\n",
      "| Noodlehead |  4.0   | HKdCl7uryk0M0_G4SNDKZg |\n",
      "| Noodlehead |  5.0   | 9jjW36w1LcDci85eaTOVXA |\n",
      "| Noodlehead |  5.0   | a7Rev5cakyRURz9F87f0aA |\n",
      "| Noodlehead |  5.0   | MZMNsoEWHj5zFiq01Fh6rg |\n",
      "| Noodlehead |  4.0   | t2-wvybevFcdX7WuoIz8PA |\n",
      "| Noodlehead |  4.0   | Zw_V_Hd-2bDCymvfII-8uQ |\n",
      "+------------+--------+------------------------+\n",
      "[10 rows x 3 columns]\n",
      "\n",
      "(648, 3)\n"
     ]
    }
   ],
   "source": [
    "# Get a list of x random integers from 0 to n\n",
    "# Setting seed to ensure same random code for each run\n",
    "random.seed(9001)\n",
    "def get_random_number_list(n, x):\n",
    "    list_result = random.sample(range(0, n), x)\n",
    "    return list_result\n",
    "\n",
    "# pick 20% of data as test dataset\n",
    "list_random = get_random_number_list(len(list_user), 648)\n",
    "\n",
    "# Generate test and train sets\n",
    "def generate_train_test_data(list1, list2, list3):\n",
    "    list_user_train = []\n",
    "    list_rating_train = []\n",
    "    list_item_train = []\n",
    "    list_user_test = []\n",
    "    list_rating_test = []\n",
    "    list_item_test = []\n",
    "    for i in range(0, len(list1)):\n",
    "        if i in list_random:\n",
    "            list_user_test.append(list1[i])\n",
    "            list_rating_test.append(list2[i])\n",
    "            list_item_test.append(list3[i])\n",
    "        else:\n",
    "            list_user_train.append(list1[i])\n",
    "            list_rating_train.append(list2[i])\n",
    "            list_item_train.append(list3[i])\n",
    "    \n",
    "    sf_train = tc.SFrame({'user_id': list_user_train, 'item_id': list_item_train, 'rating': list_rating_train})\n",
    "    sf_test = tc.SFrame({'user_id': list_user_test, 'item_id': list_item_test, 'rating': list_rating_test})\n",
    "    \n",
    "    return (sf_train, sf_test)\n",
    "\n",
    "dataset_all = generate_train_test_data(list_user, list_rating, list_item)\n",
    "dataset_train = dataset_all[0]\n",
    "dataset_test = dataset_all[1]\n",
    "print(\"Dataframe for train set:\")\n",
    "print(dataset_train.head())\n",
    "print(dataset_train.shape)\n",
    "print(\"Dataframe for test set:\")\n",
    "print(dataset_test.head())\n",
    "print(dataset_test.shape)"
   ]
  },
  {
   "cell_type": "markdown",
   "metadata": {},
   "source": [
    "After getting the test and train datasets, we now apply the collaborative filtering algorithm using Cosine Similarity and Pearson Similarity. We will also evaluate the precision and recall for the two models."
   ]
  },
  {
   "cell_type": "code",
   "execution_count": 223,
   "metadata": {},
   "outputs": [
    {
     "data": {
      "text/html": [
       "<pre>Recsys training: model = item_similarity</pre>"
      ],
      "text/plain": [
       "Recsys training: model = item_similarity"
      ]
     },
     "metadata": {},
     "output_type": "display_data"
    },
    {
     "data": {
      "text/html": [
       "<pre>Preparing data set.</pre>"
      ],
      "text/plain": [
       "Preparing data set."
      ]
     },
     "metadata": {},
     "output_type": "display_data"
    },
    {
     "data": {
      "text/html": [
       "<pre>    Data has 2591 observations with 2108 users and 10 items.</pre>"
      ],
      "text/plain": [
       "    Data has 2591 observations with 2108 users and 10 items."
      ]
     },
     "metadata": {},
     "output_type": "display_data"
    },
    {
     "data": {
      "text/html": [
       "<pre>    Data prepared in: 0.013977s</pre>"
      ],
      "text/plain": [
       "    Data prepared in: 0.013977s"
      ]
     },
     "metadata": {},
     "output_type": "display_data"
    },
    {
     "data": {
      "text/html": [
       "<pre>Training model from provided data.</pre>"
      ],
      "text/plain": [
       "Training model from provided data."
      ]
     },
     "metadata": {},
     "output_type": "display_data"
    },
    {
     "data": {
      "text/html": [
       "<pre>Gathering per-item and per-user statistics.</pre>"
      ],
      "text/plain": [
       "Gathering per-item and per-user statistics."
      ]
     },
     "metadata": {},
     "output_type": "display_data"
    },
    {
     "data": {
      "text/html": [
       "<pre>+--------------------------------+------------+</pre>"
      ],
      "text/plain": [
       "+--------------------------------+------------+"
      ]
     },
     "metadata": {},
     "output_type": "display_data"
    },
    {
     "data": {
      "text/html": [
       "<pre>| Elapsed Time (Item Statistics) | % Complete |</pre>"
      ],
      "text/plain": [
       "| Elapsed Time (Item Statistics) | % Complete |"
      ]
     },
     "metadata": {},
     "output_type": "display_data"
    },
    {
     "data": {
      "text/html": [
       "<pre>+--------------------------------+------------+</pre>"
      ],
      "text/plain": [
       "+--------------------------------+------------+"
      ]
     },
     "metadata": {},
     "output_type": "display_data"
    },
    {
     "data": {
      "text/html": [
       "<pre>| 591us                          | 47.25      |</pre>"
      ],
      "text/plain": [
       "| 591us                          | 47.25      |"
      ]
     },
     "metadata": {},
     "output_type": "display_data"
    },
    {
     "data": {
      "text/html": [
       "<pre>| 1.106ms                        | 100        |</pre>"
      ],
      "text/plain": [
       "| 1.106ms                        | 100        |"
      ]
     },
     "metadata": {},
     "output_type": "display_data"
    },
    {
     "data": {
      "text/html": [
       "<pre>+--------------------------------+------------+</pre>"
      ],
      "text/plain": [
       "+--------------------------------+------------+"
      ]
     },
     "metadata": {},
     "output_type": "display_data"
    },
    {
     "data": {
      "text/html": [
       "<pre>Setting up lookup tables.</pre>"
      ],
      "text/plain": [
       "Setting up lookup tables."
      ]
     },
     "metadata": {},
     "output_type": "display_data"
    },
    {
     "data": {
      "text/html": [
       "<pre>Processing data in one pass using dense lookup tables.</pre>"
      ],
      "text/plain": [
       "Processing data in one pass using dense lookup tables."
      ]
     },
     "metadata": {},
     "output_type": "display_data"
    },
    {
     "data": {
      "text/html": [
       "<pre>+-------------------------------------+------------------+-----------------+</pre>"
      ],
      "text/plain": [
       "+-------------------------------------+------------------+-----------------+"
      ]
     },
     "metadata": {},
     "output_type": "display_data"
    },
    {
     "data": {
      "text/html": [
       "<pre>| Elapsed Time (Constructing Lookups) | Total % Complete | Items Processed |</pre>"
      ],
      "text/plain": [
       "| Elapsed Time (Constructing Lookups) | Total % Complete | Items Processed |"
      ]
     },
     "metadata": {},
     "output_type": "display_data"
    },
    {
     "data": {
      "text/html": [
       "<pre>+-------------------------------------+------------------+-----------------+</pre>"
      ],
      "text/plain": [
       "+-------------------------------------+------------------+-----------------+"
      ]
     },
     "metadata": {},
     "output_type": "display_data"
    },
    {
     "data": {
      "text/html": [
       "<pre>| 1.541ms                             | 0                | 0               |</pre>"
      ],
      "text/plain": [
       "| 1.541ms                             | 0                | 0               |"
      ]
     },
     "metadata": {},
     "output_type": "display_data"
    },
    {
     "data": {
      "text/html": [
       "<pre>| 2.857ms                             | 100              | 10              |</pre>"
      ],
      "text/plain": [
       "| 2.857ms                             | 100              | 10              |"
      ]
     },
     "metadata": {},
     "output_type": "display_data"
    },
    {
     "data": {
      "text/html": [
       "<pre>+-------------------------------------+------------------+-----------------+</pre>"
      ],
      "text/plain": [
       "+-------------------------------------+------------------+-----------------+"
      ]
     },
     "metadata": {},
     "output_type": "display_data"
    },
    {
     "data": {
      "text/html": [
       "<pre>Finalizing lookup tables.</pre>"
      ],
      "text/plain": [
       "Finalizing lookup tables."
      ]
     },
     "metadata": {},
     "output_type": "display_data"
    },
    {
     "data": {
      "text/html": [
       "<pre>Generating candidate set for working with new users.</pre>"
      ],
      "text/plain": [
       "Generating candidate set for working with new users."
      ]
     },
     "metadata": {},
     "output_type": "display_data"
    },
    {
     "data": {
      "text/html": [
       "<pre>Finished training in 0.005452s</pre>"
      ],
      "text/plain": [
       "Finished training in 0.005452s"
      ]
     },
     "metadata": {},
     "output_type": "display_data"
    },
    {
     "name": "stdout",
     "output_type": "stream",
     "text": [
      "+------------------------+-----------------------------+---------------------+------+\n",
      "|        user_id         |           item_id           |        score        | rank |\n",
      "+------------------------+-----------------------------+---------------------+------+\n",
      "| GODifnlmYoFbPbB6INk5VA | Millie's Homemade Ice Cream |  0.701056718826294  |  1   |\n",
      "| GODifnlmYoFbPbB6INk5VA |         Harris Grill        | 0.41298508644104004 |  2   |\n",
      "| GODifnlmYoFbPbB6INk5VA |            Casbah           |  0.3542092442512512 |  3   |\n",
      "| GODifnlmYoFbPbB6INk5VA |             Soba            |  0.345996618270874  |  4   |\n",
      "| GODifnlmYoFbPbB6INk5VA |         Cafe Moulin         | 0.31711310148239136 |  5   |\n",
      "| wRtDGmMriHBQSfqW15szJQ | Millie's Homemade Ice Cream |  0.5608453750610352 |  1   |\n",
      "| wRtDGmMriHBQSfqW15szJQ |         Harris Grill        | 0.33038806915283203 |  2   |\n",
      "| wRtDGmMriHBQSfqW15szJQ |            Casbah           |  0.283367395401001  |  3   |\n",
      "| wRtDGmMriHBQSfqW15szJQ |             Soba            |  0.2767972946166992 |  4   |\n",
      "| wRtDGmMriHBQSfqW15szJQ |         Cafe Moulin         |  0.2536904811859131 |  5   |\n",
      "| 7wAdctG3920KcBLSVXlZdQ | Millie's Homemade Ice Cream |  0.701056718826294  |  1   |\n",
      "| 7wAdctG3920KcBLSVXlZdQ |         Harris Grill        | 0.41298508644104004 |  2   |\n",
      "| 7wAdctG3920KcBLSVXlZdQ |            Casbah           |  0.3542092442512512 |  3   |\n",
      "| 7wAdctG3920KcBLSVXlZdQ |             Soba            |  0.345996618270874  |  4   |\n",
      "| 7wAdctG3920KcBLSVXlZdQ |         Cafe Moulin         | 0.31711310148239136 |  5   |\n",
      "| zg6LAy9gGLVH9JtcYP9gJg | Millie's Homemade Ice Cream |  0.701056718826294  |  1   |\n",
      "| zg6LAy9gGLVH9JtcYP9gJg |         Harris Grill        | 0.41298508644104004 |  2   |\n",
      "| zg6LAy9gGLVH9JtcYP9gJg |            Casbah           |  0.3542092442512512 |  3   |\n",
      "| zg6LAy9gGLVH9JtcYP9gJg |             Soba            |  0.345996618270874  |  4   |\n",
      "| zg6LAy9gGLVH9JtcYP9gJg |         Cafe Moulin         | 0.31711310148239136 |  5   |\n",
      "| oc3344f0uSGQ-KrApW1xVw | Millie's Homemade Ice Cream |  0.701056718826294  |  1   |\n",
      "| oc3344f0uSGQ-KrApW1xVw |         Harris Grill        | 0.41298508644104004 |  2   |\n",
      "| oc3344f0uSGQ-KrApW1xVw |            Casbah           |  0.3542092442512512 |  3   |\n",
      "| oc3344f0uSGQ-KrApW1xVw |             Soba            |  0.345996618270874  |  4   |\n",
      "| oc3344f0uSGQ-KrApW1xVw |         Cafe Moulin         | 0.31711310148239136 |  5   |\n",
      "+------------------------+-----------------------------+---------------------+------+\n",
      "[10538 rows x 4 columns]\n",
      "\n"
     ]
    },
    {
     "data": {
      "text/html": [
       "<pre>recommendations finished on 1000/2108 queries. users per second: 52265.7</pre>"
      ],
      "text/plain": [
       "recommendations finished on 1000/2108 queries. users per second: 52265.7"
      ]
     },
     "metadata": {},
     "output_type": "display_data"
    },
    {
     "data": {
      "text/html": [
       "<pre>recommendations finished on 2000/2108 queries. users per second: 79317.9</pre>"
      ],
      "text/plain": [
       "recommendations finished on 2000/2108 queries. users per second: 79317.9"
      ]
     },
     "metadata": {},
     "output_type": "display_data"
    }
   ],
   "source": [
    "# the cosine similarity model:\n",
    "item_sim_model_cosine_yelp = tc.recommender.item_similarity_recommender.create(dataset_train,\n",
    "                                        target='rating', similarity_type='cosine')\n",
    "item_sim_recomm_cosine = item_sim_model_cosine_yelp.recommend(k=5)\n",
    "item_sim_recomm_cosine.print_rows(num_rows=25)"
   ]
  },
  {
   "cell_type": "code",
   "execution_count": 220,
   "metadata": {},
   "outputs": [
    {
     "data": {
      "text/html": [
       "<pre>Recsys training: model = item_similarity</pre>"
      ],
      "text/plain": [
       "Recsys training: model = item_similarity"
      ]
     },
     "metadata": {},
     "output_type": "display_data"
    },
    {
     "data": {
      "text/html": [
       "<pre>Preparing data set.</pre>"
      ],
      "text/plain": [
       "Preparing data set."
      ]
     },
     "metadata": {},
     "output_type": "display_data"
    },
    {
     "data": {
      "text/html": [
       "<pre>    Data has 2591 observations with 2108 users and 10 items.</pre>"
      ],
      "text/plain": [
       "    Data has 2591 observations with 2108 users and 10 items."
      ]
     },
     "metadata": {},
     "output_type": "display_data"
    },
    {
     "data": {
      "text/html": [
       "<pre>    Data prepared in: 0.012505s</pre>"
      ],
      "text/plain": [
       "    Data prepared in: 0.012505s"
      ]
     },
     "metadata": {},
     "output_type": "display_data"
    },
    {
     "data": {
      "text/html": [
       "<pre>Training model from provided data.</pre>"
      ],
      "text/plain": [
       "Training model from provided data."
      ]
     },
     "metadata": {},
     "output_type": "display_data"
    },
    {
     "data": {
      "text/html": [
       "<pre>Gathering per-item and per-user statistics.</pre>"
      ],
      "text/plain": [
       "Gathering per-item and per-user statistics."
      ]
     },
     "metadata": {},
     "output_type": "display_data"
    },
    {
     "data": {
      "text/html": [
       "<pre>+--------------------------------+------------+</pre>"
      ],
      "text/plain": [
       "+--------------------------------+------------+"
      ]
     },
     "metadata": {},
     "output_type": "display_data"
    },
    {
     "data": {
      "text/html": [
       "<pre>| Elapsed Time (Item Statistics) | % Complete |</pre>"
      ],
      "text/plain": [
       "| Elapsed Time (Item Statistics) | % Complete |"
      ]
     },
     "metadata": {},
     "output_type": "display_data"
    },
    {
     "data": {
      "text/html": [
       "<pre>+--------------------------------+------------+</pre>"
      ],
      "text/plain": [
       "+--------------------------------+------------+"
      ]
     },
     "metadata": {},
     "output_type": "display_data"
    },
    {
     "data": {
      "text/html": [
       "<pre>| 8.057ms                        | 94.75      |</pre>"
      ],
      "text/plain": [
       "| 8.057ms                        | 94.75      |"
      ]
     },
     "metadata": {},
     "output_type": "display_data"
    },
    {
     "data": {
      "text/html": [
       "<pre>| 8.594ms                        | 100        |</pre>"
      ],
      "text/plain": [
       "| 8.594ms                        | 100        |"
      ]
     },
     "metadata": {},
     "output_type": "display_data"
    },
    {
     "data": {
      "text/html": [
       "<pre>+--------------------------------+------------+</pre>"
      ],
      "text/plain": [
       "+--------------------------------+------------+"
      ]
     },
     "metadata": {},
     "output_type": "display_data"
    },
    {
     "data": {
      "text/html": [
       "<pre>Setting up lookup tables.</pre>"
      ],
      "text/plain": [
       "Setting up lookup tables."
      ]
     },
     "metadata": {},
     "output_type": "display_data"
    },
    {
     "data": {
      "text/html": [
       "<pre>Processing data in one pass using dense lookup tables.</pre>"
      ],
      "text/plain": [
       "Processing data in one pass using dense lookup tables."
      ]
     },
     "metadata": {},
     "output_type": "display_data"
    },
    {
     "data": {
      "text/html": [
       "<pre>+-------------------------------------+------------------+-----------------+</pre>"
      ],
      "text/plain": [
       "+-------------------------------------+------------------+-----------------+"
      ]
     },
     "metadata": {},
     "output_type": "display_data"
    },
    {
     "data": {
      "text/html": [
       "<pre>| Elapsed Time (Constructing Lookups) | Total % Complete | Items Processed |</pre>"
      ],
      "text/plain": [
       "| Elapsed Time (Constructing Lookups) | Total % Complete | Items Processed |"
      ]
     },
     "metadata": {},
     "output_type": "display_data"
    },
    {
     "data": {
      "text/html": [
       "<pre>+-------------------------------------+------------------+-----------------+</pre>"
      ],
      "text/plain": [
       "+-------------------------------------+------------------+-----------------+"
      ]
     },
     "metadata": {},
     "output_type": "display_data"
    },
    {
     "data": {
      "text/html": [
       "<pre>| 9.078ms                             | 0                | 0               |</pre>"
      ],
      "text/plain": [
       "| 9.078ms                             | 0                | 0               |"
      ]
     },
     "metadata": {},
     "output_type": "display_data"
    },
    {
     "data": {
      "text/html": [
       "<pre>| 9.826ms                             | 100              | 10              |</pre>"
      ],
      "text/plain": [
       "| 9.826ms                             | 100              | 10              |"
      ]
     },
     "metadata": {},
     "output_type": "display_data"
    },
    {
     "data": {
      "text/html": [
       "<pre>+-------------------------------------+------------------+-----------------+</pre>"
      ],
      "text/plain": [
       "+-------------------------------------+------------------+-----------------+"
      ]
     },
     "metadata": {},
     "output_type": "display_data"
    },
    {
     "data": {
      "text/html": [
       "<pre>Finalizing lookup tables.</pre>"
      ],
      "text/plain": [
       "Finalizing lookup tables."
      ]
     },
     "metadata": {},
     "output_type": "display_data"
    },
    {
     "data": {
      "text/html": [
       "<pre>Generating candidate set for working with new users.</pre>"
      ],
      "text/plain": [
       "Generating candidate set for working with new users."
      ]
     },
     "metadata": {},
     "output_type": "display_data"
    },
    {
     "data": {
      "text/html": [
       "<pre>Finished training in 0.012693s</pre>"
      ],
      "text/plain": [
       "Finished training in 0.012693s"
      ]
     },
     "metadata": {},
     "output_type": "display_data"
    },
    {
     "data": {
      "text/html": [
       "<pre>recommendations finished on 1000/2108 queries. users per second: 40464.5</pre>"
      ],
      "text/plain": [
       "recommendations finished on 1000/2108 queries. users per second: 40464.5"
      ]
     },
     "metadata": {},
     "output_type": "display_data"
    },
    {
     "data": {
      "text/html": [
       "<pre>recommendations finished on 2000/2108 queries. users per second: 40680.2</pre>"
      ],
      "text/plain": [
       "recommendations finished on 2000/2108 queries. users per second: 40680.2"
      ]
     },
     "metadata": {},
     "output_type": "display_data"
    },
    {
     "name": "stdout",
     "output_type": "stream",
     "text": [
      "+------------------------+-----------------------------+---------------------+------+\n",
      "|        user_id         |           item_id           |        score        | rank |\n",
      "+------------------------+-----------------------------+---------------------+------+\n",
      "| GODifnlmYoFbPbB6INk5VA | Millie's Homemade Ice Cream |  0.701056718826294  |  1   |\n",
      "| GODifnlmYoFbPbB6INk5VA |         Harris Grill        | 0.41298508644104004 |  2   |\n",
      "| GODifnlmYoFbPbB6INk5VA |            Casbah           |  0.3542092442512512 |  3   |\n",
      "| GODifnlmYoFbPbB6INk5VA |             Soba            |  0.345996618270874  |  4   |\n",
      "| GODifnlmYoFbPbB6INk5VA |         Cafe Moulin         | 0.31711310148239136 |  5   |\n",
      "| wRtDGmMriHBQSfqW15szJQ | Millie's Homemade Ice Cream |  0.5608453750610352 |  1   |\n",
      "| wRtDGmMriHBQSfqW15szJQ |         Harris Grill        | 0.33038806915283203 |  2   |\n",
      "| wRtDGmMriHBQSfqW15szJQ |            Casbah           |  0.283367395401001  |  3   |\n",
      "| wRtDGmMriHBQSfqW15szJQ |             Soba            |  0.2767972946166992 |  4   |\n",
      "| wRtDGmMriHBQSfqW15szJQ |         Cafe Moulin         |  0.2536904811859131 |  5   |\n",
      "| 7wAdctG3920KcBLSVXlZdQ | Millie's Homemade Ice Cream |  0.701056718826294  |  1   |\n",
      "| 7wAdctG3920KcBLSVXlZdQ |         Harris Grill        | 0.41298508644104004 |  2   |\n",
      "| 7wAdctG3920KcBLSVXlZdQ |            Casbah           |  0.3542092442512512 |  3   |\n",
      "| 7wAdctG3920KcBLSVXlZdQ |             Soba            |  0.345996618270874  |  4   |\n",
      "| 7wAdctG3920KcBLSVXlZdQ |         Cafe Moulin         | 0.31711310148239136 |  5   |\n",
      "| zg6LAy9gGLVH9JtcYP9gJg | Millie's Homemade Ice Cream |  0.701056718826294  |  1   |\n",
      "| zg6LAy9gGLVH9JtcYP9gJg |         Harris Grill        | 0.41298508644104004 |  2   |\n",
      "| zg6LAy9gGLVH9JtcYP9gJg |            Casbah           |  0.3542092442512512 |  3   |\n",
      "| zg6LAy9gGLVH9JtcYP9gJg |             Soba            |  0.345996618270874  |  4   |\n",
      "| zg6LAy9gGLVH9JtcYP9gJg |         Cafe Moulin         | 0.31711310148239136 |  5   |\n",
      "| oc3344f0uSGQ-KrApW1xVw | Millie's Homemade Ice Cream |  0.701056718826294  |  1   |\n",
      "| oc3344f0uSGQ-KrApW1xVw |         Harris Grill        | 0.41298508644104004 |  2   |\n",
      "| oc3344f0uSGQ-KrApW1xVw |            Casbah           |  0.3542092442512512 |  3   |\n",
      "| oc3344f0uSGQ-KrApW1xVw |             Soba            |  0.345996618270874  |  4   |\n",
      "| oc3344f0uSGQ-KrApW1xVw |         Cafe Moulin         | 0.31711310148239136 |  5   |\n",
      "+------------------------+-----------------------------+---------------------+------+\n",
      "[10538 rows x 4 columns]\n",
      "\n"
     ]
    }
   ],
   "source": [
    "# the pearson similarity model:\n",
    "item_sim_model_pearson_yelp = tc.recommender.item_similarity_recommender.create(dataset_train,\n",
    "                                        target='rating', similarity_type='pearson')\n",
    "item_sim_recomm_pearson = item_sim_model_pearson_yelp.recommend(k=5)\n",
    "item_sim_recomm_cosine.print_rows(num_rows=25)"
   ]
  },
  {
   "cell_type": "markdown",
   "metadata": {},
   "source": [
    "Finally, we will evaluate the two methods: cosine similarity and pearson similarity to see which one provides a better recommendation for our dataset."
   ]
  },
  {
   "cell_type": "code",
   "execution_count": 221,
   "metadata": {},
   "outputs": [
    {
     "name": "stdout",
     "output_type": "stream",
     "text": [
      "PROGRESS: Evaluate model M0\n",
      "\n",
      "Precision and recall summary statistics by cutoff\n",
      "+--------+---------------------+---------------------+\n",
      "| cutoff |     mean_recall     |    mean_precision   |\n",
      "+--------+---------------------+---------------------+\n",
      "|   1    | 0.13710121012101195 | 0.15016501650165004 |\n",
      "|   2    | 0.23789878987898788 | 0.13201320132013214 |\n",
      "|   3    | 0.33044554455445546 | 0.12156215621562153 |\n",
      "|   4    |  0.4357810781078106 | 0.11922442244224417 |\n",
      "|   5    |  0.5141639163916393 | 0.11196369636963696 |\n",
      "|   6    |  0.606573157315732  |  0.110038503850385  |\n",
      "|   7    |  0.6710671067106708 | 0.10552019487663046 |\n",
      "|   8    |  0.8814631463146307 |  0.1206958195819583 |\n",
      "|   9    |  0.9595709570957096 | 0.11897689768976898 |\n",
      "|   10   |         1.0         |  0.1158599193252658 |\n",
      "+--------+---------------------+---------------------+\n",
      "[10 rows x 3 columns]\n",
      "\n",
      "\n",
      "Overall RMSE: 4.143581817799672\n",
      "\n",
      "Per User RMSE (best)\n",
      "+------------------------+--------------------+-------+\n",
      "|        user_id         |        rmse        | count |\n",
      "+------------------------+--------------------+-------+\n",
      "| g7qmoaRIccTM_KkoqYf_hA | 0.7932133674621582 |   1   |\n",
      "+------------------------+--------------------+-------+\n",
      "[1 rows x 3 columns]\n",
      "\n",
      "\n",
      "Per User RMSE (worst)\n",
      "+------------------------+-------------------+-------+\n",
      "|        user_id         |        rmse       | count |\n",
      "+------------------------+-------------------+-------+\n",
      "| m5s9S5O23MZ0p74rF7paNg | 4.988683259487152 |   1   |\n",
      "+------------------------+-------------------+-------+\n",
      "[1 rows x 3 columns]\n",
      "\n",
      "\n",
      "Per Item RMSE (best)\n",
      "+--------------+--------------------+-------+\n",
      "|   item_id    |        rmse        | count |\n",
      "+--------------+--------------------+-------+\n",
      "| Harris Grill | 3.6428025058765257 |   66  |\n",
      "+--------------+--------------------+-------+\n",
      "[1 rows x 3 columns]\n",
      "\n",
      "\n",
      "Per Item RMSE (worst)\n",
      "+-----------------------------+-------------------+-------+\n",
      "|           item_id           |        rmse       | count |\n",
      "+-----------------------------+-------------------+-------+\n",
      "| Millie's Homemade Ice Cream | 4.444493049502713 |   59  |\n",
      "+-----------------------------+-------------------+-------+\n",
      "[1 rows x 3 columns]\n",
      "\n",
      "PROGRESS: Evaluate model M1\n",
      "\n",
      "Precision and recall summary statistics by cutoff\n",
      "+--------+----------------------+---------------------+\n",
      "| cutoff |     mean_recall      |    mean_precision   |\n",
      "+--------+----------------------+---------------------+\n",
      "|   1    | 0.031353135313531344 | 0.03300330033003298 |\n",
      "|   2    | 0.12830033003300326  | 0.07095709570957098 |\n",
      "|   3    |  0.2692519251925194  | 0.09900990099009901 |\n",
      "|   4    |  0.3546479647964794  | 0.09777227722772268 |\n",
      "|   5    |  0.442931793179318   | 0.09678217821782184 |\n",
      "|   6    |  0.547442244224423   |  0.0998624862486249 |\n",
      "|   7    |  0.6648789878987894  | 0.10434150557912938 |\n",
      "|   8    |  0.865786578657866   | 0.11863311331133121 |\n",
      "|   9    |  0.933443344334432   | 0.11567656765676572 |\n",
      "|   10   |         1.0          | 0.11585991932526597 |\n",
      "+--------+----------------------+---------------------+\n",
      "[10 rows x 3 columns]\n",
      "\n",
      "\n",
      "Overall RMSE: 0.9399299126683768\n",
      "\n",
      "Per User RMSE (best)\n",
      "+------------------------+----------------------+-------+\n",
      "|        user_id         |         rmse         | count |\n",
      "+------------------------+----------------------+-------+\n",
      "| ClZQLZlWgXWfWoOVbxJ9Vg | 0.029361020358260603 |   1   |\n",
      "+------------------------+----------------------+-------+\n",
      "[1 rows x 3 columns]\n",
      "\n",
      "\n",
      "Per User RMSE (worst)\n",
      "+------------------------+--------------------+-------+\n",
      "|        user_id         |        rmse        | count |\n",
      "+------------------------+--------------------+-------+\n",
      "| 0KSlFSv4Yjx8eq3hSBUiGQ | 3.3899347044326156 |   1   |\n",
      "+------------------------+--------------------+-------+\n",
      "[1 rows x 3 columns]\n",
      "\n",
      "\n",
      "Per Item RMSE (best)\n",
      "+-----------------------------+--------------------+-------+\n",
      "|           item_id           |        rmse        | count |\n",
      "+-----------------------------+--------------------+-------+\n",
      "| Millie's Homemade Ice Cream | 0.7820504856806472 |   59  |\n",
      "+-----------------------------+--------------------+-------+\n",
      "[1 rows x 3 columns]\n",
      "\n",
      "\n",
      "Per Item RMSE (worst)\n",
      "+-------------+--------------------+-------+\n",
      "|   item_id   |        rmse        | count |\n",
      "+-------------+--------------------+-------+\n",
      "| Cafe Moulin | 1.4016557068613011 |   33  |\n",
      "+-------------+--------------------+-------+\n",
      "[1 rows x 3 columns]\n",
      "\n",
      "[{'rmse_by_user': Columns:\n",
      "\tuser_id\tstr\n",
      "\trmse\tfloat\n",
      "\tcount\tint\n",
      "\n",
      "Rows: 606\n",
      "\n",
      "Data:\n",
      "+------------------------+--------------------+-------+\n",
      "|        user_id         |        rmse        | count |\n",
      "+------------------------+--------------------+-------+\n",
      "| 2ZZNOoMQ7WFvFoxDUFw1wg | 4.755343774954478  |   1   |\n",
      "| Jf0Uz70I1ywZ4ZYpX8x1Rw | 4.972148436307907  |   1   |\n",
      "| A0Tkq4VV8dD6t8NbBxvBPA | 1.9704233884811402 |   1   |\n",
      "| CLbpPUqP6XpeAfoqScGaJQ |  4.97042338848114  |   1   |\n",
      "| mgBV3YmtaEqKmvrOHKQXfA |  4.97042338848114  |   1   |\n",
      "| O11q3pNvHAaufMVX5fpZ_A | 3.972148436307907  |   1   |\n",
      "| vfqkYkw1ZtDDS56R0XcGBg | 4.985795968770981  |   1   |\n",
      "| dUGwfQfKYiM3qWt-FvVPZQ | 3.8713848888874054 |   1   |\n",
      "| KidcYew8ArXQStKOMjQ7JQ | 2.972808802127838  |   1   |\n",
      "| TSFRIumlH-tq0hKh9YyhVg |  2.97915261387825  |   1   |\n",
      "+------------------------+--------------------+-------+\n",
      "[606 rows x 3 columns]\n",
      "Note: Only the head of the SFrame is printed.\n",
      "You can use print_rows(num_rows=m, num_columns=n) to print more rows and columns., 'precision_recall_overall': Columns:\n",
      "\tcutoff\tint\n",
      "\tprecision\tfloat\n",
      "\trecall\tfloat\n",
      "\n",
      "Rows: 18\n",
      "\n",
      "Data:\n",
      "+--------+---------------------+---------------------+\n",
      "| cutoff |      precision      |        recall       |\n",
      "+--------+---------------------+---------------------+\n",
      "|   1    | 0.15016501650164998 | 0.13710121012101203 |\n",
      "|   2    | 0.13201320132013203 | 0.23789878987898794 |\n",
      "|   3    | 0.12156215621562164 | 0.33044554455445535 |\n",
      "|   4    | 0.11922442244224425 | 0.43578107810781064 |\n",
      "|   5    | 0.11196369636963696 |  0.5141639163916395 |\n",
      "|   6    |  0.110038503850385  |  0.6065731573157316 |\n",
      "|   7    | 0.10552019487663047 |  0.6710671067106712 |\n",
      "|   8    | 0.12069581958195824 |  0.8814631463146309 |\n",
      "|   9    | 0.11897689768976892 |  0.9595709570957088 |\n",
      "|   10   | 0.11585991932526579 |         1.0         |\n",
      "+--------+---------------------+---------------------+\n",
      "[18 rows x 3 columns]\n",
      "Note: Only the head of the SFrame is printed.\n",
      "You can use print_rows(num_rows=m, num_columns=n) to print more rows and columns., 'rmse_overall': 4.143581817799672, 'rmse_by_item': Columns:\n",
      "\titem_id\tstr\n",
      "\trmse\tfloat\n",
      "\tcount\tint\n",
      "\n",
      "Rows: 10\n",
      "\n",
      "Data:\n",
      "+-----------------------------+--------------------+-------+\n",
      "|           item_id           |        rmse        | count |\n",
      "+-----------------------------+--------------------+-------+\n",
      "|            Spoon            | 4.248377393303129  |   52  |\n",
      "|         Cafe Moulin         | 3.9212464699941525 |   33  |\n",
      "|            Casbah           | 3.9977577492116825 |   83  |\n",
      "| Millie's Homemade Ice Cream | 4.444493049502713  |   59  |\n",
      "|     P&G's Pamela's Diner    | 4.173835995876109  |   54  |\n",
      "|         Harris Grill        | 3.6428025058765257 |   66  |\n",
      "|          Noodlehead         | 4.330033994734984  |  148  |\n",
      "|          Mercurio's         | 4.105228231606649  |   62  |\n",
      "|             Soba            | 4.070888055130677  |   71  |\n",
      "|     Senyai Thai Kitchen     |  4.32920298665301  |   20  |\n",
      "+-----------------------------+--------------------+-------+\n",
      "[10 rows x 3 columns]\n",
      ", 'precision_recall_by_user': Columns:\n",
      "\tuser_id\tstr\n",
      "\tcutoff\tint\n",
      "\tprecision\tfloat\n",
      "\trecall\tfloat\n",
      "\tcount\tint\n",
      "\n",
      "Rows: 10908\n",
      "\n",
      "Data:\n",
      "+------------------------+--------+---------------------+--------+-------+\n",
      "|        user_id         | cutoff |      precision      | recall | count |\n",
      "+------------------------+--------+---------------------+--------+-------+\n",
      "| -Hp15ocusLulN0VpO1rwiw |   1    |         0.0         |  0.0   |   1   |\n",
      "| -Hp15ocusLulN0VpO1rwiw |   2    |         0.5         |  1.0   |   1   |\n",
      "| -Hp15ocusLulN0VpO1rwiw |   3    |  0.3333333333333333 |  1.0   |   1   |\n",
      "| -Hp15ocusLulN0VpO1rwiw |   4    |         0.25        |  1.0   |   1   |\n",
      "| -Hp15ocusLulN0VpO1rwiw |   5    |         0.2         |  1.0   |   1   |\n",
      "| -Hp15ocusLulN0VpO1rwiw |   6    | 0.16666666666666666 |  1.0   |   1   |\n",
      "| -Hp15ocusLulN0VpO1rwiw |   7    | 0.14285714285714285 |  1.0   |   1   |\n",
      "| -Hp15ocusLulN0VpO1rwiw |   8    |        0.125        |  1.0   |   1   |\n",
      "| -Hp15ocusLulN0VpO1rwiw |   9    |  0.1111111111111111 |  1.0   |   1   |\n",
      "| -Hp15ocusLulN0VpO1rwiw |   10   |         0.1         |  1.0   |   1   |\n",
      "+------------------------+--------+---------------------+--------+-------+\n",
      "[10908 rows x 5 columns]\n",
      "Note: Only the head of the SFrame is printed.\n",
      "You can use print_rows(num_rows=m, num_columns=n) to print more rows and columns.}, {'rmse_by_user': Columns:\n",
      "\tuser_id\tstr\n",
      "\trmse\tfloat\n",
      "\tcount\tint\n",
      "\n",
      "Rows: 606\n",
      "\n",
      "Data:\n",
      "+------------------------+----------------------+-------+\n",
      "|        user_id         |         rmse         | count |\n",
      "+------------------------+----------------------+-------+\n",
      "| 2ZZNOoMQ7WFvFoxDUFw1wg |  0.911533193953975   |   1   |\n",
      "| Jf0Uz70I1ywZ4ZYpX8x1Rw |  0.961123074619068   |   1   |\n",
      "| A0Tkq4VV8dD6t8NbBxvBPA |  2.2621301103358356  |   1   |\n",
      "| CLbpPUqP6XpeAfoqScGaJQ |  0.7378698896641644  |   1   |\n",
      "| mgBV3YmtaEqKmvrOHKQXfA |  0.7378698896641644  |   1   |\n",
      "| O11q3pNvHAaufMVX5fpZ_A | 0.038876925380932015 |   1   |\n",
      "| vfqkYkw1ZtDDS56R0XcGBg |  0.9161605060100548  |   1   |\n",
      "| dUGwfQfKYiM3qWt-FvVPZQ | 0.06835516575163236  |   1   |\n",
      "| KidcYew8ArXQStKOMjQ7JQ |  0.6341916490935895  |   1   |\n",
      "| TSFRIumlH-tq0hKh9YyhVg |  1.0552980803261107  |   1   |\n",
      "+------------------------+----------------------+-------+\n",
      "[606 rows x 3 columns]\n",
      "Note: Only the head of the SFrame is printed.\n",
      "You can use print_rows(num_rows=m, num_columns=n) to print more rows and columns., 'precision_recall_overall': Columns:\n",
      "\tcutoff\tint\n",
      "\tprecision\tfloat\n",
      "\trecall\tfloat\n",
      "\n",
      "Rows: 18\n",
      "\n",
      "Data:\n",
      "+--------+----------------------+---------------------+\n",
      "| cutoff |      precision       |        recall       |\n",
      "+--------+----------------------+---------------------+\n",
      "|   1    | 0.033003300330032986 | 0.03135313531353138 |\n",
      "|   2    | 0.07095709570957091  |  0.1283003300330031 |\n",
      "|   3    | 0.09900990099009903  |  0.2692519251925194 |\n",
      "|   4    | 0.09777227722772282  | 0.35464796479647964 |\n",
      "|   5    | 0.09678217821782173  |  0.442931793179318  |\n",
      "|   6    |  0.0998624862486248  |  0.5474422442244224 |\n",
      "|   7    | 0.10434150557912932  |  0.6648789878987897 |\n",
      "|   8    | 0.11863311331133125  |  0.8657865786578652 |\n",
      "|   9    | 0.11567656765676566  |  0.933443344334433  |\n",
      "|   10   |  0.1158599193252659  |         1.0         |\n",
      "+--------+----------------------+---------------------+\n",
      "[18 rows x 3 columns]\n",
      "Note: Only the head of the SFrame is printed.\n",
      "You can use print_rows(num_rows=m, num_columns=n) to print more rows and columns., 'rmse_overall': 0.9399299126683768, 'rmse_by_item': Columns:\n",
      "\titem_id\tstr\n",
      "\trmse\tfloat\n",
      "\tcount\tint\n",
      "\n",
      "Rows: 10\n",
      "\n",
      "Data:\n",
      "+-----------------------------+--------------------+-------+\n",
      "|           item_id           |        rmse        | count |\n",
      "+-----------------------------+--------------------+-------+\n",
      "|            Spoon            | 0.8871752557823788 |   52  |\n",
      "|         Cafe Moulin         | 1.4016557068613011 |   33  |\n",
      "|            Casbah           | 0.9369137027647739 |   83  |\n",
      "| Millie's Homemade Ice Cream | 0.7820504856806472 |   59  |\n",
      "|     P&G's Pamela's Diner    | 1.0693984476153289 |   54  |\n",
      "|         Harris Grill        | 1.0861022628454455 |   66  |\n",
      "|          Noodlehead         |  0.79619957984741  |  148  |\n",
      "|          Mercurio's         | 0.9061694402354948 |   62  |\n",
      "|             Soba            | 0.8539762185288543 |   71  |\n",
      "|     Senyai Thai Kitchen     | 1.0407229716939852 |   20  |\n",
      "+-----------------------------+--------------------+-------+\n",
      "[10 rows x 3 columns]\n",
      ", 'precision_recall_by_user': Columns:\n",
      "\tuser_id\tstr\n",
      "\tcutoff\tint\n",
      "\tprecision\tfloat\n",
      "\trecall\tfloat\n",
      "\tcount\tint\n",
      "\n",
      "Rows: 10908\n",
      "\n",
      "Data:\n",
      "+------------------------+--------+---------------------+--------+-------+\n",
      "|        user_id         | cutoff |      precision      | recall | count |\n",
      "+------------------------+--------+---------------------+--------+-------+\n",
      "| -Hp15ocusLulN0VpO1rwiw |   1    |         0.0         |  0.0   |   1   |\n",
      "| -Hp15ocusLulN0VpO1rwiw |   2    |         0.5         |  1.0   |   1   |\n",
      "| -Hp15ocusLulN0VpO1rwiw |   3    |  0.3333333333333333 |  1.0   |   1   |\n",
      "| -Hp15ocusLulN0VpO1rwiw |   4    |         0.25        |  1.0   |   1   |\n",
      "| -Hp15ocusLulN0VpO1rwiw |   5    |         0.2         |  1.0   |   1   |\n",
      "| -Hp15ocusLulN0VpO1rwiw |   6    | 0.16666666666666666 |  1.0   |   1   |\n",
      "| -Hp15ocusLulN0VpO1rwiw |   7    | 0.14285714285714285 |  1.0   |   1   |\n",
      "| -Hp15ocusLulN0VpO1rwiw |   8    |        0.125        |  1.0   |   1   |\n",
      "| -Hp15ocusLulN0VpO1rwiw |   9    |  0.1111111111111111 |  1.0   |   1   |\n",
      "| -Hp15ocusLulN0VpO1rwiw |   10   |         0.1         |  1.0   |   1   |\n",
      "+------------------------+--------+---------------------+--------+-------+\n",
      "[10908 rows x 5 columns]\n",
      "Note: Only the head of the SFrame is printed.\n",
      "You can use print_rows(num_rows=m, num_columns=n) to print more rows and columns.}]\n"
     ]
    }
   ],
   "source": [
    "#Evaluate the model\n",
    "compare_performance = tc.recommender.util.compare_models(dataset_test,\n",
    "                    [item_sim_model_cosine_yelp, item_sim_model_pearson_yelp])\n",
    "print(compare_performance)"
   ]
  },
  {
   "cell_type": "markdown",
   "metadata": {},
   "source": [
    "From the above results, we observe that the results for Cosine Similarity and Pearson Similarity are quite similar to each other. Still, mean_precision of Cosine Similarity collaborative filtering is slightly higher than that of Pearson Similarity. This implies Cosine Similarity model produces better results for this dataset."
   ]
  },
  {
   "cell_type": "markdown",
   "metadata": {},
   "source": [
    "# Summary"
   ]
  },
  {
   "cell_type": "markdown",
   "metadata": {},
   "source": [
    "In this tutorial, we cover the basics for recommendation systems and implement an item-item collaborative filtering on Yelp. Some thoughts on this tutorial is that we only use a small dataset with 10 restaurants for a snippet of what this recommendation looks like. With a small number of items, the recommended results are concentrated on several restaurants. Future inspiration will be extracting the full dataset from Yelp to generate more diversified and personalized recommendation results."
   ]
  },
  {
   "cell_type": "markdown",
   "metadata": {},
   "source": [
    "# References"
   ]
  },
  {
   "cell_type": "markdown",
   "metadata": {},
   "source": [
    "* [MovieLens 100K](https://grouplens.org/datasets/movielens/100k/)\n",
    "* [GraphLab](https://turi.com/products/create/docs/graphlab.toolkits.html)\n",
    "* [Yelp API](https://www.yelp.com/developers/documentation/v3/get_started)"
   ]
  }
 ],
 "metadata": {
  "kernelspec": {
   "display_name": "Python 3",
   "language": "python",
   "name": "python3"
  },
  "language_info": {
   "codemirror_mode": {
    "name": "ipython",
    "version": 3
   },
   "file_extension": ".py",
   "mimetype": "text/x-python",
   "name": "python",
   "nbconvert_exporter": "python",
   "pygments_lexer": "ipython3",
   "version": "3.5.0"
  }
 },
 "nbformat": 4,
 "nbformat_minor": 2
}
