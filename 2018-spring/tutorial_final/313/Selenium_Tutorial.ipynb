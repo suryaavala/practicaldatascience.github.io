{
 "cells": [
  {
   "cell_type": "markdown",
   "metadata": {},
   "source": [
    "# Introduction\n",
    "<br>\n",
    "Need to scrape the data from pop-up windows? Desire your code automatically tapping the keyboard and clicking the mouse? Want a much more convenient way to control web pages? \n",
    "<FONT COLOR = 'BLUE'>**Selenium might be a good choice for you!**</FONT>\n",
    "<br><br>\n",
    "This tutorial will introduce several useful functions of the `Selenium` library with detailed illustration. \n",
    "It aims to use simple but nice examples to give every reader a clear view of how `Selenium` can lower the burden when doing automated web application tests. The table of contents is showed as below:"
   ]
  },
  {
   "cell_type": "markdown",
   "metadata": {},
   "source": [
    "## Table of Contents\n",
    "* [1. Selenium Introduction](#part1)\n",
    "* [2. Library Installation](#part2)\n",
    "* [3. Controll the Browser](#part3)\n",
    "* [4. Locate the Elements & Get Attributes](#part4)\n",
    "> * [4-1. Find the Element by Name / Id / Tag Name / Class Name](#part4-1)\n",
    "> * [4-2. Find the Element by Link Text / Partial Link Text](#part4-2)\n",
    "> * [4-3. Find the Element by CSS Selector](#part4-3)\n",
    "> * [4-3. Find the Element by Xpath](#part4-4)\n",
    "* [5. Simulate the Mouse](#part5)\n",
    "> * [5-1. Example: Select an Image](#part5-1)\n",
    "> * [5-2. Example: Change the Search Settings](#part5-2)\n",
    "* [6. Simulate the Keyboard](#part6)\n",
    "> * [6-1. Example: Sign In](#part6-1)\n",
    "> * [6-2. Example: Search Items in Amazon](#part6-2)\n",
    "* [7. Deal with Pop-ups](#part7)\n",
    "* [8. Handle Multiple Windows](#part8)\n",
    "* [REFENRECES](#ref)"
   ]
  },
  {
   "cell_type": "markdown",
   "metadata": {},
   "source": [
    "<a name=\"part1\"></a>\n",
    "## 1. Selenium Introduction"
   ]
  },
  {
   "cell_type": "markdown",
   "metadata": {},
   "source": [
    "##### What is Selenium?\n",
    "> Selenium is an automated framework for visiting the browsers. It contains different tools, such as Selenium IDE (which is an extension of the Firefox), Selenium Grid (which helps programmers to control the browser instances which distributed on different machines using the Selenium API). The following image is the structure of the whole Selenium framework.\n",
    "\n",
    "<img src=\"https://github.com/yunluhuang516/pictures/raw/master/tutorial/s1.jpg\" style=\"width: 600px;\"/>\n",
    "\n",
    "##### Introduction of Selenium 2 & WebDriver\n",
    "> Among all the tools, the one I want to introduce in my tutorial is **Selenium 2** (which is the combination of the Selenium RC and the WebDriver). _Primarily, it is for automating web applications for testing purposes, but is certainly not limited to just that purpose.[(reference)](#ref1)_  \n",
    "<br>For example, it can act as `BeautifulSoup` and search the elements easily. Besides that, we can also use the Selenium API to mimic the movements of the mouse and keyboard, deal with pop-up windows, and switch to different web pages easily. Selenium is also the core technology in countless other browser automation tools, APIs and frameworks.\n",
    "\n",
    "##### Selenium 2 API supports:\n",
    "> Tests on some of the largest browser vendors:\n",
    "* _Firefox (FirefoxDriver), IE (InternetExplorerDriver), Opera (OperaDriver), Chrome (ChromeDriver), Safari (SafariDriver)_\n",
    "\n",
    "> Tests on the mobile applications:\n",
    "* _Android(Selendroid), iPhone(Appium)_\n",
    "\n",
    "> The programming languages:\n",
    "* _Java, C#, PHP, Python, Perl, Ruby_"
   ]
  },
  {
   "cell_type": "markdown",
   "metadata": {},
   "source": [
    "<a name=\"part2\"></a>\n",
    "## 2. Library Installation"
   ]
  },
  {
   "cell_type": "markdown",
   "metadata": {},
   "source": [
    "First, we need to install the **Selenium** library and the corresponding **Drivers**:\n",
    "##### 1. Install the Selenium library\n",
    "\n",
    "    $ pip install selenium\n",
    "\n",
    "##### 2. Install the Driver\n",
    "To use WebDriver, a driver of your choice is also needed to be downloaded. For me, I choose to use **Chrome**. The download link is:\n",
    "\n",
    "    https://sites.google.com/a/chromium.org/chromedriver/home\n",
    "    \n",
    "The download links for other drivers can be found at:\n",
    "\n",
    "    http://selenium-python.readthedocs.io/installation.html\n",
    "    \n",
    "I download the latest release: ChromeDriver 2.37. <FONT COLOR='RED'>**Make sure the driver is in your PATH**</FONT>, otherwise you will get an error as the following:\n",
    "\n",
    "<img src=\"https://github.com/yunluhuang516/pictures/raw/master/tutorial/errormsg.png\" style=\"width: 1000px;\"/>"
   ]
  },
  {
   "cell_type": "markdown",
   "metadata": {},
   "source": [
    "### Now it's time to truly begin this tutorial !"
   ]
  },
  {
   "cell_type": "markdown",
   "metadata": {},
   "source": [
    "<a name=\"part3\"></a>\n",
    "## 3.  Controll the Browser"
   ]
  },
  {
   "cell_type": "markdown",
   "metadata": {},
   "source": [
    "To start with, let me first introduce some basic functions of **WebDriver** using a step by step example.\n",
    "<br>\n",
    "##### The screenshot results of the codes:\n",
    "For a clearer comparison, I put the result ahead. The four screenshots generated from step 1 to step 6 will be:\n",
    "<img src=\"https://github.com/yunluhuang516/pictures/raw/master/tutorial/s2.png\" style=\"width: 1000px;\"/>"
   ]
  },
  {
   "cell_type": "code",
   "execution_count": 1,
   "metadata": {
    "collapsed": true
   },
   "outputs": [],
   "source": [
    "from selenium import webdriver\n",
    "import time"
   ]
  },
  {
   "cell_type": "markdown",
   "metadata": {},
   "source": [
    "#### Step 1: Open the browser & Visit a link"
   ]
  },
  {
   "cell_type": "code",
   "execution_count": 2,
   "metadata": {},
   "outputs": [],
   "source": [
    "# For different browser vendors, the functions are diffrent. \n",
    "# To open a Firefox driver, the function will be: driver = webdriver.Firefox()\n",
    "browser = webdriver.Chrome()\n",
    "\n",
    "# Use get() to visit a page, in the example, we visit amazon.com\n",
    "browser.get(\"https://www.amazon.com/\") "
   ]
  },
  {
   "cell_type": "markdown",
   "metadata": {},
   "source": [
    "#### Step 2: Customize the window size"
   ]
  },
  {
   "cell_type": "code",
   "execution_count": 3,
   "metadata": {
    "collapsed": true
   },
   "outputs": [],
   "source": [
    "# Use set_window_size() to customize the size\n",
    "browser.set_window_size(800, 720)\n",
    "\n",
    "# Use maximize_window() to maximize the window\n",
    "browser.maximize_window()\n",
    "\n",
    "time.sleep(3) # prevent from visiting the page too frequently"
   ]
  },
  {
   "cell_type": "markdown",
   "metadata": {},
   "source": [
    "#### Step 3: Take a screenshot\n",
    "After we open a page, we can take a screenshot of it. **It can be useful when our codes meet some errors as it will visualize the location of the problem.**"
   ]
  },
  {
   "cell_type": "code",
   "execution_count": 4,
   "metadata": {},
   "outputs": [
    {
     "data": {
      "text/plain": [
       "True"
      ]
     },
     "execution_count": 4,
     "metadata": {},
     "output_type": "execute_result"
    }
   ],
   "source": [
    "# Use get_screenshot_as_file() to take the screenshot\n",
    "# Change the path to where you want to save it\n",
    "browser.get_screenshot_as_file(\"screenshot1.png\") # return True when the screenshot is saved successfully"
   ]
  },
  {
   "cell_type": "markdown",
   "metadata": {},
   "source": [
    "#### Step 4: Controll the scroll bar\n",
    "We can simulate controlling the scrollbar using the following functions. WebDriver can execute the js scripts. This tutorial will not include it but will use some js scripts."
   ]
  },
  {
   "cell_type": "code",
   "execution_count": 5,
   "metadata": {},
   "outputs": [
    {
     "data": {
      "text/plain": [
       "True"
      ]
     },
     "execution_count": 5,
     "metadata": {},
     "output_type": "execute_result"
    }
   ],
   "source": [
    "# Change the value to decide the location of the scroll bar\n",
    "js_end = \"var q=document.documentElement.scrollTop = 100000\"  # to the end of the page\n",
    "js_top = \"var q=document.documentElement.scrollTop = 0\"  # to the top of the page \n",
    "js_custom = \"var q=document.documentElement.scrollTop = 500\"  # to a customized location of the page\n",
    "\n",
    "# Move the page to the end\n",
    "browser.execute_script(js_end)\n",
    "time.sleep(3)\n",
    "browser.get_screenshot_as_file(\"screenshot2.png\")\n",
    "\n",
    "# Move the page to the top\n",
    "browser.execute_script(js_top)\n",
    "time.sleep(3)\n",
    "\n",
    "# Move the page to a customized location\n",
    "browser.execute_script(js_custom)\n",
    "time.sleep(3)\n",
    "browser.get_screenshot_as_file(\"screenshot3.png\")"
   ]
  },
  {
   "cell_type": "markdown",
   "metadata": {},
   "source": [
    "#### Step 5: Visit another page & Go forward/backward"
   ]
  },
  {
   "cell_type": "code",
   "execution_count": 6,
   "metadata": {},
   "outputs": [],
   "source": [
    "# Use refresh() to relaod the page\n",
    "browser.refresh() \n",
    "\n",
    "# Go to another page\n",
    "browser.get(\"http://www.google.com\")\n",
    "time.sleep(3)\n",
    "browser.get_screenshot_as_file(\"screenshot4.png\")\n",
    "\n",
    "# Go backward to the previous page\n",
    "browser.back()\n",
    "time.sleep(3)\n",
    "\n",
    "# Go forward\n",
    "browser.forward()\n",
    "time.sleep(3)"
   ]
  },
  {
   "cell_type": "markdown",
   "metadata": {},
   "source": [
    "#### Step 6: Close & Quit"
   ]
  },
  {
   "cell_type": "code",
   "execution_count": 7,
   "metadata": {},
   "outputs": [],
   "source": [
    "# Close the current page\n",
    "browser.close()\n",
    "\n",
    "# Close all the pages and quit the driver\n",
    "browser.quit()"
   ]
  },
  {
   "cell_type": "markdown",
   "metadata": {},
   "source": [
    "<a name=\"part4\"></a>\n",
    "## 4. Locate the Elements & Get Attributes\n",
    "\n",
    "After learning some basic functions, let's try something further. Selenium provides various functions to locate the elements. To find a single element, some common functions include:\n",
    "> * find_element_by_name\n",
    "> * find_element_by_id\n",
    "> * find_element_by_xpath\n",
    "> * find_element_by_link_text\n",
    "> * find_element_by_partial_link_text\n",
    "> * find_element_by_tag_name\n",
    "> * find_element_by_class_name\n",
    "> * find_element_by_css_selector\n",
    "\n",
    "In order to find all elements, just simply change the **element** to **elements**. In this part, I will introduce some of these common functions with examples. As we've all familiar with _BeautifulSoup_, this part will include less explanations.\n",
    "<br><br>\n",
    "To get the attributes of the elements, some common functions include:\n",
    "> * text\n",
    "> * location\n",
    "> * page_source\n",
    "> * tag_name\n",
    "> * get_attribute(name)\n",
    "> * is_displayed() \n",
    "> * is_selected()"
   ]
  },
  {
   "cell_type": "code",
   "execution_count": 8,
   "metadata": {
    "collapsed": true
   },
   "outputs": [],
   "source": [
    "# Create a browser instance\n",
    "browser = webdriver.Chrome()\n",
    "\n",
    "# Go to the main page of Google\n",
    "browser.get(\"https://www.google.com/\") "
   ]
  },
  {
   "cell_type": "markdown",
   "metadata": {},
   "source": [
    "<a name=\"part4-1\"></a>\n",
    "#### 1. Find the element by name / id / tag name / class name\n",
    "The following codes show how to find the **I'm Feeling Lucky** button on Google's main page using its name or id.\n",
    "<img src=\"https://github.com/yunluhuang516/pictures/raw/master/tutorial/s3.png\" style=\"width: 770px;\"/>"
   ]
  },
  {
   "cell_type": "code",
   "execution_count": 9,
   "metadata": {},
   "outputs": [
    {
     "name": "stdout",
     "output_type": "stream",
     "text": [
      "<selenium.webdriver.remote.webelement.WebElement (session=\"5b9b386ec52cdd6a95257c4f6b493fb9\", element=\"0.6114502140907694-1\")>\n",
      "value: I'm Feeling Lucky\n",
      "type: submit\n",
      "text: \n"
     ]
    }
   ],
   "source": [
    "# Search the element by its id\n",
    "lucky = browser.find_element_by_id(\"gbqfbb\")\n",
    "\n",
    "# Get the attributes of the element\n",
    "print(lucky)\n",
    "print(\"value: {}\".format(lucky.get_attribute('value')))\n",
    "print(\"type: {}\".format(lucky.get_attribute('type')))\n",
    "print(\"text: {}\".format(lucky.text))"
   ]
  },
  {
   "cell_type": "code",
   "execution_count": 10,
   "metadata": {},
   "outputs": [
    {
     "name": "stdout",
     "output_type": "stream",
     "text": [
      "<selenium.webdriver.remote.webelement.WebElement (session=\"5b9b386ec52cdd6a95257c4f6b493fb9\", element=\"0.6114502140907694-1\")>\n",
      "value: I'm Feeling Lucky\n",
      "type: submit\n",
      "text: \n"
     ]
    }
   ],
   "source": [
    "# Now, change to search the same element by its name\n",
    "lucky_name = browser.find_element_by_name(\"btnI\")\n",
    "\n",
    "# Get the attributes of the element\n",
    "print(lucky_name)\n",
    "print(\"value: {}\".format(lucky_name.get_attribute('value'))) \n",
    "print(\"type: {}\".format(lucky_name.get_attribute('type')))\n",
    "print(\"text: {}\".format(lucky_name.text))"
   ]
  },
  {
   "cell_type": "markdown",
   "metadata": {},
   "source": [
    "<a name=\"part4-2\"></a>\n",
    "#### 2. Find the element by link text / partial link text\n",
    "If there are some links on the web page (tag with _href_, when you click this element you will be directed to a new page), you can use link text to locate the elements. For example, if we want to find ** Privacy**:\n",
    "<br><br>\n",
    "<img src=\"https://github.com/yunluhuang516/pictures/raw/master/tutorial/s4.png\" style=\"width: 1000px;\"/>\n",
    "<br><br>"
   ]
  },
  {
   "cell_type": "code",
   "execution_count": 11,
   "metadata": {},
   "outputs": [
    {
     "name": "stdout",
     "output_type": "stream",
     "text": [
      "href: https://www.google.com/intl/en_us/policies/privacy/?fg=1\n",
      "text: Privacy\n"
     ]
    }
   ],
   "source": [
    "# Use find_element_by_link_text() & complete text inside the tag to find the element\n",
    "privacy = browser.find_element_by_link_text(\"Privacy\")\n",
    "\n",
    "# Get the attributes\n",
    "print(\"href: {}\".format(privacy.get_attribute('href'))) \n",
    "print(\"text: {}\".format(privacy.text))"
   ]
  },
  {
   "cell_type": "code",
   "execution_count": 12,
   "metadata": {},
   "outputs": [
    {
     "name": "stdout",
     "output_type": "stream",
     "text": [
      "href: https://www.google.com/intl/en_us/policies/privacy/?fg=1\n",
      "text: Privacy\n"
     ]
    }
   ],
   "source": [
    "# If you only know the partial text, you can use find_element_by_partial_link_text() instead\n",
    "priv = browser.find_element_by_partial_link_text(\"Priv\")\n",
    "\n",
    "# Get the attributes\n",
    "print(\"href: {}\".format(priv.get_attribute('href'))) \n",
    "print(\"text: {}\".format(priv.text))"
   ]
  },
  {
   "cell_type": "markdown",
   "metadata": {},
   "source": [
    "<a name=\"part4-3\"></a>\n",
    "#### 3. Find the element by CSS selector\n",
    "CSS stands for Cascading Style Sheets. It describes how HTML elements are to be displayed on screen, paper, or in other media. Some example codes are given below. If you want to learn more about CSS syntax and selector, you can follow the link to this tutorial:\n",
    "\n",
    "    https://www.w3schools.com/css/css_syntax.asp\n",
    "    \n",
    "We can use the CSS attributes' values to locate the element, such as id, name, class name:"
   ]
  },
  {
   "cell_type": "code",
   "execution_count": 13,
   "metadata": {},
   "outputs": [
    {
     "name": "stdout",
     "output_type": "stream",
     "text": [
      "Search by id: \n",
      "<selenium.webdriver.remote.webelement.WebElement (session=\"5b9b386ec52cdd6a95257c4f6b493fb9\", element=\"0.6114502140907694-1\")>\n"
     ]
    }
   ],
   "source": [
    "# Use '#' + id_name to represent the id\n",
    "css_id = browser.find_element_by_css_selector(\"#gbqfbb\") # the 'I'm Feeling Luck' button\n",
    "print(\"Search by id: \\n{}\".format(css_id))"
   ]
  },
  {
   "cell_type": "code",
   "execution_count": 14,
   "metadata": {},
   "outputs": [
    {
     "name": "stdout",
     "output_type": "stream",
     "text": [
      "Search by class: \n",
      "<selenium.webdriver.remote.webelement.WebElement (session=\"5b9b386ec52cdd6a95257c4f6b493fb9\", element=\"0.6114502140907694-3\")>\n"
     ]
    }
   ],
   "source": [
    "# Use '.' + class_name to represent the class\n",
    "css_class = browser.find_element_by_css_selector(\".sbib_b\") # the search box\n",
    "print(\"Search by class: \\n{}\".format(css_class))"
   ]
  },
  {
   "cell_type": "code",
   "execution_count": 15,
   "metadata": {},
   "outputs": [
    {
     "name": "stdout",
     "output_type": "stream",
     "text": [
      "Search by tag: \n",
      "<selenium.webdriver.remote.webelement.WebElement (session=\"5b9b386ec52cdd6a95257c4f6b493fb9\", element=\"0.6114502140907694-4\")>\n"
     ]
    }
   ],
   "source": [
    "# Directly use tag_name to represent the tag\n",
    "css_tag = browser.find_element_by_css_selector(\"html\") # whole html\n",
    "print(\"Search by tag: \\n{}\".format(css_tag))"
   ]
  },
  {
   "cell_type": "code",
   "execution_count": 16,
   "metadata": {},
   "outputs": [
    {
     "name": "stdout",
     "output_type": "stream",
     "text": [
      "Search by max length: \n",
      "<selenium.webdriver.remote.webelement.WebElement (session=\"5b9b386ec52cdd6a95257c4f6b493fb9\", element=\"0.6114502140907694-5\")>\n",
      "\n",
      "Search by max height: \n",
      "<selenium.webdriver.remote.webelement.WebElement (session=\"5b9b386ec52cdd6a95257c4f6b493fb9\", element=\"0.6114502140907694-6\")>\n"
     ]
    }
   ],
   "source": [
    "# Use other attributes to find the element\n",
    "css_maxl = browser.find_element_by_css_selector(\"[maxlength='2048']\") # the input field of the search box\n",
    "print(\"Search by max length: \\n{}\\n\".format(css_maxl))\n",
    "\n",
    "css_h = browser.find_element_by_css_selector(\"[height='92']\") # the logo image\n",
    "print(\"Search by max height: \\n{}\".format(css_h))"
   ]
  },
  {
   "cell_type": "code",
   "execution_count": 17,
   "metadata": {},
   "outputs": [
    {
     "data": {
      "text/plain": [
       "<selenium.webdriver.remote.webelement.WebElement (session=\"5b9b386ec52cdd6a95257c4f6b493fb9\", element=\"0.6114502140907694-1\")>"
      ]
     },
     "execution_count": 17,
     "metadata": {},
     "output_type": "execute_result"
    }
   ],
   "source": [
    "# Use the combinations of attributes to find the element\n",
    "browser.find_element_by_css_selector(\"[id='gbqfbb'][name='btnI']\")  # the 'I'm Feeling Luck' button"
   ]
  },
  {
   "cell_type": "code",
   "execution_count": 18,
   "metadata": {},
   "outputs": [
    {
     "data": {
      "text/plain": [
       "<selenium.webdriver.remote.webelement.WebElement (session=\"5b9b386ec52cdd6a95257c4f6b493fb9\", element=\"0.6114502140907694-1\")>"
      ]
     },
     "execution_count": 18,
     "metadata": {},
     "output_type": "execute_result"
    }
   ],
   "source": [
    "# Use regex expression to find the element\n",
    "# ^= match the elements begin with such value\n",
    "browser.find_element_by_css_selector(\"[id ^='gbq'][name ^='bt']\") # the 'I'm Feeling Luck' button\n",
    "\n",
    "# $= match the elements end with such value\n",
    "browser.find_element_by_css_selector(\"[id $='fbb'][name $='nI']\") # the 'I'm Feeling Luck' button \n",
    "\n",
    "# *= match the elements contains such value\n",
    "browser.find_element_by_css_selector(\"[id *='qfb'][name *='tn']\") # the 'I'm Feeling Luck' button "
   ]
  },
  {
   "cell_type": "markdown",
   "metadata": {},
   "source": [
    "<br>\n",
    "We can also use the structure of the CSS to locate the element. For example, if we want to locate the following tag:\n",
    "<br>\n",
    "<img src=\"https://github.com/yunluhuang516/pictures/raw/master/tutorial/s5.png\" style=\"width: 450px;\"/>"
   ]
  },
  {
   "cell_type": "code",
   "execution_count": 19,
   "metadata": {},
   "outputs": [
    {
     "name": "stdout",
     "output_type": "stream",
     "text": [
      "Search by css structure: sbtc\n"
     ]
    }
   ],
   "source": [
    "# 'div.tsf-p' represents the first layer, tag = 'div' && class = 'tsf-p'\n",
    "# 'div:nth-child(2)' represents the second child in all the chilren of the first layerwith tag = 'div'\n",
    "css_structure = browser.find_element_by_css_selector(\"div.tsf-p>div:nth-child(2)>div:nth-child(1)\")\n",
    "\n",
    "# Check the id to figue out whether we got the right element\n",
    "print(\"Search by css structure: {}\".format(css_structure.get_attribute('id')))"
   ]
  },
  {
   "cell_type": "markdown",
   "metadata": {},
   "source": [
    "<a name=\"part4-4\"></a>\n",
    "#### 4. Find the element by xpath\n",
    "XPath is a language used to navigate through elements and attributes in an XML document. Some example codes are given below. If you're interested in it and want to learn more, you can follow the link to this tutorial:\n",
    "\n",
    "    https://www.w3schools.com/xml/xpath_intro.asp\n"
   ]
  },
  {
   "cell_type": "code",
   "execution_count": 20,
   "metadata": {},
   "outputs": [
    {
     "name": "stdout",
     "output_type": "stream",
     "text": [
      "Search by id: \n",
      "<selenium.webdriver.remote.webelement.WebElement (session=\"5b9b386ec52cdd6a95257c4f6b493fb9\", element=\"0.6114502140907694-1\")>\n",
      "\n",
      "Search by max length: \n",
      "<selenium.webdriver.remote.webelement.WebElement (session=\"5b9b386ec52cdd6a95257c4f6b493fb9\", element=\"0.6114502140907694-5\")>\n"
     ]
    }
   ],
   "source": [
    "# Use attributes to find the element\n",
    "xpath_id = browser.find_element_by_xpath(\"//*[@id='gbqfbb']\") # the 'I'm Feeling Luck' button\n",
    "print(\"Search by id: \\n{}\\n\".format(xpath_id ))\n",
    "\n",
    "xpath_maxl = browser.find_element_by_xpath(\"//*[@maxlength='2048']\") # the input field of the search box\n",
    "print(\"Search by max length: \\n{}\".format(xpath_maxl))"
   ]
  },
  {
   "cell_type": "code",
   "execution_count": 21,
   "metadata": {},
   "outputs": [
    {
     "name": "stdout",
     "output_type": "stream",
     "text": [
      "Search by css structure: sbtc\n"
     ]
    }
   ],
   "source": [
    "# Use the structure to locate the element\n",
    "# This is similar to that in the css selector\n",
    "xpath_structure = browser.find_element_by_xpath(\"//*[@class='tsf-p']//div[2]//div[1]\")\n",
    "print(\"Search by css structure: {}\".format(xpath_structure.get_attribute('id')))"
   ]
  },
  {
   "cell_type": "code",
   "execution_count": 22,
   "metadata": {
    "collapsed": true
   },
   "outputs": [],
   "source": [
    "# Quit the browser\n",
    "browser.quit()"
   ]
  },
  {
   "cell_type": "markdown",
   "metadata": {},
   "source": [
    "<a name=\"part5\"></a>\n",
    "# 5. Simulate the Mouse"
   ]
  },
  {
   "cell_type": "markdown",
   "metadata": {},
   "source": [
    "Selenium provides **ActionChains** to deal with mouse simulation. When you use the functions in this class, they will not be executed until you call the _perform()_ function (then saved functions will run in order). Some common functions in _ActionCahins_ include:\n",
    "> * move_to_element(to_element) —— move mouse to an element\n",
    "> * click(on_element=None) —— click the left button\n",
    "> * context_click(on_element=None) —— click the right button\n",
    "> * click_and_hold(on_element=None)\n",
    "> * double_click(on_element=None)\n",
    "> * drag_and_drop(source, target) —— drag an element to a targeted place\n",
    "> * perform() —— execute all actions saved in the action chains\n",
    "\n",
    "\n",
    "More functions and details can be found here:\n",
    "\n",
    "    1. https://seleniumhq.github.io/selenium/docs/api/py/webdriver/selenium.webdriver.common.action_chains.html\n",
    "    2. http://selenium-python.readthedocs.io/api.html"
   ]
  },
  {
   "cell_type": "code",
   "execution_count": 23,
   "metadata": {
    "collapsed": true
   },
   "outputs": [],
   "source": [
    "from selenium.webdriver.common.action_chains import ActionChains  "
   ]
  },
  {
   "cell_type": "code",
   "execution_count": 24,
   "metadata": {
    "collapsed": true
   },
   "outputs": [],
   "source": [
    "browser = webdriver.Chrome()\n",
    "browser.get(\"https://www.google.com/\")"
   ]
  },
  {
   "cell_type": "markdown",
   "metadata": {},
   "source": [
    "<a name=\"part5-1\"></a>\n",
    "#### 1. Example: Select the image\n",
    "To start, let's simply try to select an image and get the right-click pop-up. However, to select the options of the pop-up menu (eg. you want to save the image), you need to use other tools such as **ROBOT** and **AUTOIT**. Selenium doesn't support that right now.\n",
    "\n",
    "<img src=\"https://github.com/yunluhuang516/pictures/raw/master/tutorial/s8.png\" style=\"width: 650px;\"/>"
   ]
  },
  {
   "cell_type": "code",
   "execution_count": 25,
   "metadata": {},
   "outputs": [
    {
     "name": "stdout",
     "output_type": "stream",
     "text": [
      "https://www.google.com/images/branding/googlelogo/2x/googlelogo_color_272x92dp.png\n"
     ]
    }
   ],
   "source": [
    "logo = browser.find_element_by_xpath(\"//img[@id='hplogo']\")  \n",
    "print(logo.get_attribute(\"src\"))  \n",
    "\n",
    "# Move your mouse to the element and right click!\n",
    "# The following codes can also be done in one line: \n",
    "#    ActionChains(browser).move_to_element(logo).context_click(logo).perform()\n",
    "action = ActionChains(browser).move_to_element(logo)  \n",
    "action.context_click(logo)\n",
    "action.perform() "
   ]
  },
  {
   "cell_type": "markdown",
   "metadata": {},
   "source": [
    "<a name=\"part5-2\"></a>\n",
    "#### 2. Example: Change the search settings\n",
    "In this example, I will show how to change the settings of the Google search only using the mouse simulation. This also includes how to select a radio button.\n",
    "<br>\n",
    "I will change the REGION SETTINGS from **Current Region** to **Australia** (which are radio buttons). For a better understanding, the screenshots in this examples are shown as below. You can see how the setting is changed in screenshot 2 & 3. Also in screenshot 4, the main page of Google also changed after we changed the region.\n",
    "<img src=\"https://github.com/yunluhuang516/pictures/raw/master/tutorial/s6.png\" style=\"width: 850px;\"/>"
   ]
  },
  {
   "cell_type": "code",
   "execution_count": 26,
   "metadata": {},
   "outputs": [
    {
     "name": "stdout",
     "output_type": "stream",
     "text": [
      "Is radio button selected: False\n"
     ]
    },
    {
     "data": {
      "text/plain": [
       "True"
      ]
     },
     "execution_count": 26,
     "metadata": {},
     "output_type": "execute_result"
    }
   ],
   "source": [
    "# Find the 'Settings' in the main page\n",
    "settings = browser.find_element_by_xpath(\"//a[@id='fsettl' and @class='Fx4vi']\") \n",
    "settings.click()\n",
    "time.sleep(3)\n",
    "browser.get_screenshot_as_file(\"s1.png\")\n",
    "\n",
    "# After clicking the 'Settings', a sub-menu will appear\n",
    "# Find the 'Search settings' in the page\n",
    "search_settings = browser.find_element_by_link_text('Search settings')\n",
    "# Go to the setting page\n",
    "search_settings.click()\n",
    "browser.execute_script(js_end)\n",
    "time.sleep(3)\n",
    "browser.get_screenshot_as_file(\"s2.png\")\n",
    "\n",
    "# Search the radio button and choose 'Australia' in the Region Settings\n",
    "region_au = browser.find_element_by_xpath(\"//div[@class='jfk-radiobutton' and @data-value='AU']\")\n",
    "# Print whether this radio button is selected\n",
    "print(\"Is radio button selected: {}\".format(region_au.is_selected()))\n",
    "# Select the radio button by simply using click()\n",
    "region_au.click()\n",
    "time.sleep(3)\n",
    "browser.get_screenshot_as_file(\"s3.png\")\n",
    "\n",
    "# Save your changings\n",
    "# Find the 'save' button\n",
    "save =  browser.find_element_by_xpath(\"//div[@class='goog-inline-block jfk-button jfk-button-action']\")\n",
    "save.click()\n",
    "\n",
    "# The window will pop up an alert,\n",
    "#   Selenium provides functions to deal with pop-ups which will be discussed in part 7\n",
    "browser.switch_to_alert().accept()\n",
    "time.sleep(3)\n",
    "browser.get_screenshot_as_file(\"s4.png\")"
   ]
  },
  {
   "cell_type": "markdown",
   "metadata": {},
   "source": [
    "<a name=\"part6\"></a>\n",
    "# 6. Simulate the Keyboard"
   ]
  },
  {
   "cell_type": "markdown",
   "metadata": {},
   "source": [
    "Selenium provides **Keys** to deal with keyboard simulation. Some functions include:\n",
    "> * send_keys(Keys.ENTER) - tap 'Eneter'\n",
    "> * send_keys(Keys.SPACE) \n",
    "> * send_keys(Keys.BACK_SPACE)\n",
    "> * send_keys(Keys.SHIFT)\n",
    "> * send_keys(Keys.CONTROL)\n",
    "> * send_keys(Keys.CONTROL,'a') - Ctrl+A (also have C/X/V)"
   ]
  },
  {
   "cell_type": "code",
   "execution_count": 27,
   "metadata": {
    "collapsed": true
   },
   "outputs": [],
   "source": [
    "from selenium.webdriver.common.keys import Keys "
   ]
  },
  {
   "cell_type": "markdown",
   "metadata": {},
   "source": [
    "<a name=\"part6-1\"></a>\n",
    "#### 1. Example: Sign in\n",
    "In this example, I will show how you can get the data from the drop-down menu and sign in your account of Amazon.com. Drop-down menu/lists sometimes only appear when we stop our mouse on the corresponding element, thus, we need to simulate our mouse waiting on that element. The screenshots of the whole processes in the examples are shown as below.\n",
    "<img src=\"https://github.com/yunluhuang516/pictures/raw/master/tutorial/s7.png\" style=\"width: 800px;\"/>"
   ]
  },
  {
   "cell_type": "code",
   "execution_count": 29,
   "metadata": {},
   "outputs": [],
   "source": [
    "browser.get(\"https://www.amazon.com/\")\n",
    "time.sleep(3)\n",
    "\n",
    "# Sometimes, we need to get the information from the drop-down menu\n",
    "# In this case, we can use move_to_element() to simulate stopping the mouse on an element\n",
    "account_list = browser.find_element_by_xpath(\"//a[@id='nav-link-accountList']\")\n",
    "webdriver.ActionChains(browser).move_to_element(account_list).perform()\n",
    "time.sleep(3)\n",
    "\n",
    "# Click the 'Sign In' link on the drop-down menu\n",
    "sign_in = browser.find_element_by_xpath(\"//a[@data-nav-role='signin' and @data-nav-ref='nav_signin']\")\n",
    "sign_in.click()\n",
    "time.sleep(3)\n",
    "\n",
    "# Enter your email address or phone number\n",
    "user = browser.find_element_by_xpath(\"//input[@type='email' and @id='ap_email']\")\n",
    "user.send_keys(\"*******@gmail.com\")   # change it to your own\n",
    "user.send_keys(Keys.RETURN)  # simulate tapping 'Return' \n",
    "time.sleep(3)\n",
    "\n",
    "# Enter the password\n",
    "psw = browser.find_element_by_xpath(\"//input[@type='password' and @id='ap_password']\")\n",
    "psw.send_keys(\"********\") \n",
    "# Check the 'Keep me signed in.' check box if you want the browser to remember you\n",
    "remember_me = browser.find_element_by_xpath(\"//span[@class='a-label a-checkbox-label']\")\n",
    "remember_me.click()\n",
    "psw.send_keys(Keys.RETURN)"
   ]
  },
  {
   "cell_type": "markdown",
   "metadata": {},
   "source": [
    "<a name=\"part6-2\"></a>\n",
    "#### 2. Example: Search items in Amazon\n",
    "This example will show how to do some simple search queries. In this example, I want to choose different categories in the drop-down selection box. Selenium provides **Select** to deal with it easily. \n",
    "<br>\n",
    "After executing the codes, the web page will be like this:\n",
    "<img src=\"https://github.com/yunluhuang516/pictures/raw/master/tutorial/s9.png\" style=\"width: 800px;\"/>"
   ]
  },
  {
   "cell_type": "code",
   "execution_count": 30,
   "metadata": {
    "collapsed": true
   },
   "outputs": [],
   "source": [
    "from selenium.webdriver.support.ui import Select"
   ]
  },
  {
   "cell_type": "code",
   "execution_count": 31,
   "metadata": {},
   "outputs": [
    {
     "name": "stdout",
     "output_type": "stream",
     "text": [
      "#1: Selenium Design Patterns and Best Practices \n",
      "\n",
      "#2: Learning Selenium Testing Tools with Python \n",
      "\n",
      "#3: Learn Selenium in 1 Day: Definitive Guide to Learn Selenium for Beginners \n",
      "\n",
      "#4: Selenium Framework Design in Data-Driven Testing: Build data-driven test frameworks using Selenium WebDriver, AppiumDriver, Java, and TestNG \n",
      "\n",
      "#5: Absolute Beginner (Part 1) Selenium WebDriver for Functional Automation Testing: Your Beginners Guide (Black & White Edition) (Practical How To Selenium Tutorials) \n",
      "\n",
      "#6: Test Automation using Selenium WebDriver with Java: Step by Step Guide \n",
      "\n",
      "#7: Selenium Testing Tools Cookbook - Second Edition \n",
      "\n",
      "#8: Absolute Beginner (Part 1) Java 4 Selenium WebDriver: Come Learn How To Program For Automation Testing (Black & White Edition) (Practical How To Selenium Tutorials) \n",
      "\n",
      "#9: Selenium WebDriver Recipes in C#: Second Edition \n",
      "\n",
      "#10: Learning Selenium Testing Tools - Third Edition \n",
      "\n",
      "#11: Selenium WebDriver Recipes in Python: The problem solving guide to Selenium WebDriver in Python (Test Recipes Series) (Volume 5) \n",
      "\n",
      "#12: Selenium WebDriver Recipes in Java: The problem solving guide to Selenium WebDriver in Java (Web Test Automation Recipes Series) (Volume 3) \n",
      "\n",
      "#13: Mastering Selenium WebDriver \n",
      "\n",
      "#14: Selenium Testing Tools Cookbook \n",
      "\n"
     ]
    }
   ],
   "source": [
    "browser.get(\"https://www.amazon.com/\")\n",
    "\n",
    "# Create an instance of Select\n",
    "selections = Select(browser.find_element_by_xpath(\"//select[@id='searchDropdownBox']\"))\n",
    "\n",
    "# The following 3 functions are the same\n",
    "selections.select_by_visible_text('Books') # select the element by the visible text\n",
    "# selections.select_by_index(10)  # select by its index (begins with index = 0)\n",
    "# selections.select_by_value(\"search-alias=stripbooks\")  # select by its value\n",
    "time.sleep(3)\n",
    "\n",
    "search_field = browser.find_element_by_xpath(\"//input[@id='twotabsearchtextbox']\")\n",
    "search_field.send_keys(\"Selenium\") \n",
    "search_field.send_keys(Keys.RETURN)\n",
    "time.sleep(3)\n",
    "\n",
    "# Print the title of all \"Selenium\" books in the first page\n",
    "for i, book in enumerate(browser.find_elements_by_xpath(\"//h2[contains(@class, 'a-size-medium')]\")):\n",
    "    print(\"#{}: {} \\n\".format(i+1, book.text))\n",
    "    \n",
    "browser.quit()"
   ]
  },
  {
   "cell_type": "markdown",
   "metadata": {},
   "source": [
    "<a name=\"part7\"></a>\n",
    "## 7. Deal with Pop-ups\n",
    "We have already met a pop-up in example 5-2. In the real-word web testing/scraping, we will sometimes meet the pop-ups after finishing the operations. Selenium provides _switch_to_alert()_ for us to switch the window to the alert/confirm/prompt pop-ups. Then we can use text/accept/dismiss/send_keys functions to operate them. Several main functions include:\n",
    "> * switch_to_alert()\n",
    "> * text()\n",
    "> * accept()\n",
    "> * dismiss()\n",
    "> * send_keys()"
   ]
  },
  {
   "cell_type": "markdown",
   "metadata": {},
   "source": [
    "#### Example: Log In Account in Pop-ups\n",
    "I tried to find a website which has some real pop-ups, but many of the pop-ups are simulated using **div** instead of alert. I will still give a brief introduction of how to log in in simulated pop-ups. Actually, it will be very similar to what we did in the example 6-1.\n",
    "<img src=\"https://github.com/yunluhuang516/pictures/raw/master/tutorial/s11.png\" style=\"width: 700px;\"/>"
   ]
  },
  {
   "cell_type": "code",
   "execution_count": 32,
   "metadata": {},
   "outputs": [],
   "source": [
    "browser = webdriver.Chrome()\n",
    "browser.get(\"https://www.glassdoor.com/\")\n",
    "browser.set_window_size(650, 800)"
   ]
  },
  {
   "cell_type": "markdown",
   "metadata": {},
   "source": [
    "<img src=\"https://github.com/yunluhuang516/pictures/raw/master/tutorial/s10.png\" style=\"width: 500px;\"/>"
   ]
  },
  {
   "cell_type": "code",
   "execution_count": 33,
   "metadata": {},
   "outputs": [],
   "source": [
    "# Sometimes for a better desing, some elements are invisible\n",
    "# To find the real element to click on, you need to be aware of the invisible elements\n",
    "# In this case, the above 'Sing In' element is fake,\n",
    "#   and I also found that the browser size will affect whether you can find the visible element or not\n",
    "sign_in = browser.find_element_by_xpath(\"//div[@class='container-icon hideDesk']//a\") \n",
    "sign_in.click()\n",
    "time.sleep(3)\n",
    "\n",
    "# We can easily using xpath to find the input field withou switch the windows\n",
    "email = browser.find_element_by_xpath(\"//input[@type='email' and @name='username']\")\n",
    "email.send_keys(\"hello@email.com\")"
   ]
  },
  {
   "cell_type": "markdown",
   "metadata": {},
   "source": [
    "<a name=\"part8\"></a>\n",
    "## 8. Handle Multiple Windows\n",
    "The previous parts only deal with single windows. However, Selenium can handle multiple windows easily. The following is an example with detailed explanation.\n",
    "<br>\n",
    "<img src=\"https://github.com/yunluhuang516/pictures/raw/master/tutorial/s12.png\" style=\"width: 800px;\"/>"
   ]
  },
  {
   "cell_type": "code",
   "execution_count": 34,
   "metadata": {},
   "outputs": [
    {
     "name": "stdout",
     "output_type": "stream",
     "text": [
      "['CDwindow-8F2FC0216CEB50C4D84B76AA485BDFAD', 'CDwindow-D06017240AF94A97ACBF3AE2103E4BB3']\n",
      "\n",
      "Change to handles 1\n",
      "Current Window: CDwindow-D06017240AF94A97ACBF3AE2103E4BB3\n",
      "Current Title: Gmail - Free Storage and Email from Google\n",
      "\n",
      "Change to handles 0\n",
      "Current Window: CDwindow-8F2FC0216CEB50C4D84B76AA485BDFAD\n",
      "Current Title: Google\n"
     ]
    }
   ],
   "source": [
    "browser.get(\"http://www.google.com\")\n",
    "browser.maximize_window()\n",
    "time.sleep(3)\n",
    "\n",
    "# Use js to find the targeted element and set it to 'target=\"_blank\"', \n",
    "#   this will enable when we go to a new link, a new window will be created\n",
    "# There are different ways to find the element in JavaScript:\n",
    "#   1. document.getElementsByName()\n",
    "#   2. document.getElementById()\n",
    "#   3. document.getElementsByTagName()\n",
    "js = 'document.getElementsByTagName(\"a\")[2].target=\"_blank\"'\n",
    "browser.execute_script(js)\n",
    "\n",
    "# Visit a new link, the browser will go to another window\n",
    "gmail = browser.find_element_by_link_text(\"Gmail\")\n",
    "gmail.click()\n",
    "time.sleep(3)\n",
    "\n",
    "# Show the handles of all the open windows\n",
    "handles = browser.window_handles\n",
    "print(handles)\n",
    "\n",
    "# Switch to the second handle\n",
    "browser.switch_to.window(handles[1])\n",
    "time.sleep(3)\n",
    "print(\"\\nChange to handles 1\")\n",
    "print(\"Current Window: {}\".format(browser.current_window_handle))\n",
    "print(\"Current Title: {}\\n\".format(browser.title))\n",
    "\n",
    "# Switch to the first handle\n",
    "browser.switch_to.window(handles[0])\n",
    "time.sleep(3)\n",
    "print(\"Change to handles 0\")\n",
    "print(\"Current Window: {}\".format(browser.current_window_handle))\n",
    "print(\"Current Title: {}\".format(browser.title))"
   ]
  },
  {
   "cell_type": "code",
   "execution_count": 35,
   "metadata": {
    "collapsed": true
   },
   "outputs": [],
   "source": [
    "# Quit the browser\n",
    "browser.quit()"
   ]
  },
  {
   "cell_type": "markdown",
   "metadata": {},
   "source": [
    "## References\n",
    "1. CSS introduction: https://www.w3schools.com/css/css_intro.asp\n",
    "2. XPath introduction: https://www.w3schools.com/xml/xpath_intro.asp\n",
    "3. Selenium: https://www.seleniumhq.org/\n",
    "4. http://forumsqa.com/question/how-to-click-the-option-of-the-menu-which-the-right-click-pop-up/\n",
    "5. https://blog.csdn.net/huilan_same/article/details/52305176\n",
    "6. https://blog.csdn.net/eastmount/article/details/48108259\n",
    "7. https://www.cnblogs.com/zhaof/p/6953241.html\n",
    "8. https://blog.csdn.net/eastmount/article/details/47825633\n",
    "9. https://blog.csdn.net/xlemonok/article/details/52932741\n",
    "10. https://blog.csdn.net/Eastmount/article/details/77074306\n",
    "11. https://blog.csdn.net/zh175578809/article/details/76769178"
   ]
  }
 ],
 "metadata": {
  "kernelspec": {
   "display_name": "Python 3",
   "language": "python",
   "name": "python3"
  },
  "language_info": {
   "codemirror_mode": {
    "name": "ipython",
    "version": 3
   },
   "file_extension": ".py",
   "mimetype": "text/x-python",
   "name": "python",
   "nbconvert_exporter": "python",
   "pygments_lexer": "ipython3",
   "version": "3.6.4"
  }
 },
 "nbformat": 4,
 "nbformat_minor": 2
}
