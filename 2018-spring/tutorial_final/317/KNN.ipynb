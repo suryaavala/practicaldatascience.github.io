{
 "cells": [
  {
   "cell_type": "markdown",
   "metadata": {},
   "source": [
    "# Tutorial: K Nearest Neighbor Algorithm and Application\n",
    "\n",
    "This tutorial will introduce an algorithm called K Nearest Neighbor algorithm(KNN). We will explain the logic of why this algorithm works and details of implementation. And then we will demostrate this algorithm with applying it on a real world dataset. We will also discuss the technique to tune the parameters, and pros and cons of KNN."
   ]
  },
  {
   "cell_type": "markdown",
   "metadata": {},
   "source": [
    "## Table of Contents\n",
    "- Introduction\n",
    "- How does KNN work?\n",
    "- Implement KNN from scratch\n",
    "- How to select K？\n",
    "- KNN on real data\n",
    "- Pros and Cons of KNN\n",
    "- References"
   ]
  },
  {
   "cell_type": "markdown",
   "metadata": {},
   "source": [
    "## Introduction\n",
    "\n",
    "K Nearest Neighbor(KNN) belongs to supervised learning, which means that each object in the training set is labeled when we feed it into the algorithm. The simplest classification algorithm is to record every training sample and its label, and when we find a new sample is the same as one of the training samples, we can classify the new sample based on the similarity. However, we can't guarantee that all of the test data will find an exact same match in training data. There might be another problem that test data can be matched with many training examples and classified as many lables. KNN is a simple, but very effective classification algorithm. When it comes to predict a new test data, the algorithm would search through all of the training data and find k most similar examples, which are k-nearest-neighbors. The algorithm will summarize all of the labels associated with k nearest neighbors. The most frequent label would be the label for the new data. KNN has been successful in a large number of classification problems, including handwritten digits and satellite image scenes."
   ]
  },
  {
   "cell_type": "markdown",
   "metadata": {},
   "source": [
    "## How does KNN work?\n",
    "\n",
    "KNN is based on how similar is the new data point to the sample data. The similarity is measured by the distance. For different types of data, we can adopt different ways to calculate distance. For real-valued data, we can use Euclidean distance:$$d(x,y)=\\sqrt{\\sum\\limits_{k=1}^n (x_{k}-y_{k})^2}$$ When the direct distance doesn't make sense, we can also use Manhatten distance: $$d(x,y)=\\sqrt{\\sum\\limits_{k=1}^n |x_{k}-y_{k}|}$$ For categorical or binary data, Hamming distance can be used.\n",
    "\n",
    "The usual steps of KNN are as following:\n",
    "1. Calculate the distance between new data point and every training example\n",
    "2. Sort the distances in ascending order\n",
    "3. Select k training examples with most smallest distance\n",
    "4. Summarize the frequency of k labels\n",
    "5. Return the most prevalent label as predicted label of new data\n",
    "\n",
    "KNN algorithm is a non-parametric, because it does not make any explicit assumptions on the underlying data distribution. It belongs to instance-based learning since KNN does not essentially learn a model, however, it relies on the data instances to make predictions. KNN memorizes all of the training examples as part of the model. KNN is a competitive learning algorithm, because it internally uses competition between model elements (data instances distances) in order to make a predictive decision. Moreover, KNN is lazy learnig algorithm because it doesn't build a model unless a new data point requested a prediction."
   ]
  },
  {
   "cell_type": "markdown",
   "metadata": {},
   "source": [
    "## Implement KNN from scratch\n",
    "In this section, it will show how to build a simple KNN algorithm in Python 3.4.\n",
    "Firstly, we start with creating a basic dataset with data points and labels."
   ]
  },
  {
   "cell_type": "code",
   "execution_count": 9,
   "metadata": {},
   "outputs": [
    {
     "name": "stdout",
     "output_type": "stream",
     "text": [
      "[[ 1.   2. ]\n",
      " [ 1.2  0.1]\n",
      " [ 0.1  1.4]\n",
      " [ 0.3  3.5]]\n",
      "['A', 'A', 'B', 'B']\n"
     ]
    }
   ],
   "source": [
    "from numpy import *  \n",
    "import operator  \n",
    "  \n",
    "def createDataSet():  \n",
    "    group = array([[1.0,2.0],[1.2,0.1],[0.1,1.4],[0.3,3.5]])  \n",
    "    labels = ['A','A','B','B']  \n",
    "    return group,labels\n",
    "\n",
    "group,labels = createDataSet()\n",
    "print(dataset)\n",
    "print(labels)"
   ]
  },
  {
   "cell_type": "markdown",
   "metadata": {},
   "source": [
    "The classify function would implement steps mentioned above and classify the input, which is new data point, based on the data and labels."
   ]
  },
  {
   "cell_type": "code",
   "execution_count": 30,
   "metadata": {},
   "outputs": [],
   "source": [
    "def classify(input, group, label, k):\n",
    "    size = group.shape[0]\n",
    "    \n",
    "    #Calculate Euclidean distance\n",
    "    diff = tile(input,(size,1)) - group\n",
    "    sqdiff = diff ** 2\n",
    "    squareDist = sum(sqdiff,axis = 1)\n",
    "    dist = squareDist ** 0.5\n",
    "    print(\"The distances are \" + str(dist))\n",
    "    \n",
    "    #Sort the distance in ascending order\n",
    "    sortedDistIndex = argsort(dist)\n",
    "    \n",
    "    classCount={}\n",
    "    for i in range(k):\n",
    "        #Select k training examples with most smallest distance\n",
    "        voteLabel = label[sortedDistIndex[i]]\n",
    "        print(\"The voted label is \" + voteLabel)\n",
    "        #Summarize the frequency of k labels\n",
    "        classCount[voteLabel] = classCount.get(voteLabel,0) + 1\n",
    "        print(\"The current frequency for label \" + voteLabel + \" is \" + str(classCount[voteLabel]))\n",
    "    \n",
    "    #Return the most prevalent label as predicted label of new data\n",
    "    maxCount = 0\n",
    "    for key,value in classCount.items():\n",
    "        if value > maxCount:\n",
    "            maxCount = value\n",
    "            pred = key\n",
    "\n",
    "    return pred  "
   ]
  },
  {
   "cell_type": "markdown",
   "metadata": {},
   "source": [
    "We can pass a new data point into the classify function to see which label it will get."
   ]
  },
  {
   "cell_type": "code",
   "execution_count": 31,
   "metadata": {},
   "outputs": [
    {
     "name": "stdout",
     "output_type": "stream",
     "text": [
      "The distances are [ 1.70293864  0.2236068   1.48660687  3.2984845 ]\n",
      "The voted label is A\n",
      "The current frequency for label A is 1\n",
      "The voted label is B\n",
      "The current frequency for label B is 1\n",
      "The voted label is A\n",
      "The current frequency for label A is 2\n",
      "The predicted label is A\n"
     ]
    }
   ],
   "source": [
    "input = array([1.1,0.3])\n",
    "k = 3\n",
    "result = classify(input,group,labels,k)\n",
    "print(\"The predicted label is \" + result)"
   ]
  },
  {
   "cell_type": "markdown",
   "metadata": {},
   "source": [
    "As you can see, the algorithm correctly classifed the input data point as label A. \n",
    "We can also use existing libraries like sklearn to implement KNN."
   ]
  },
  {
   "cell_type": "code",
   "execution_count": 77,
   "metadata": {},
   "outputs": [
    {
     "name": "stdout",
     "output_type": "stream",
     "text": [
      "[[0 1 2]\n",
      " [1 0 2]\n",
      " [2 1 0]\n",
      " [3 4 5]\n",
      " [4 3 5]\n",
      " [5 4 3]]\n",
      "[[ 0.          1.          2.23606798]\n",
      " [ 0.          1.          1.41421356]\n",
      " [ 0.          1.41421356  2.23606798]\n",
      " [ 0.          1.          2.23606798]\n",
      " [ 0.          1.          1.41421356]\n",
      " [ 0.          1.41421356  2.23606798]]\n"
     ]
    }
   ],
   "source": [
    "from sklearn.neighbors import NearestNeighbors  \n",
    "import numpy as np  \n",
    "  \n",
    "X = np.array([[-1, -1], [-2, -1], [-3, -2], [1, 1], [2, 1], [3, 2]])  \n",
    "\n",
    "#auto is to select the most appropriate method to find nearest neighbors\n",
    "nn = NearestNeighbors(n_neighbors=3, algorithm=\"auto\").fit(X)\n",
    "\n",
    "#distances is representing the lengths to points\n",
    "#indices is indices of the nearest points in the population matrix\n",
    "distances, indices = nn.kneighbors(X)  \n",
    "print(indices)\n",
    "print(distances) "
   ]
  },
  {
   "cell_type": "markdown",
   "metadata": {},
   "source": [
    "Data tree-based structures are more advanced methods to search for similar instances. It's faster than usual KNN classifier. These two tree-structure algorithm produce the same results here. When they are applied on large dataset, the difference will be more obvious."
   ]
  },
  {
   "cell_type": "code",
   "execution_count": 39,
   "metadata": {},
   "outputs": [
    {
     "name": "stdout",
     "output_type": "stream",
     "text": [
      "[[0 1 2]\n",
      " [1 0 2]\n",
      " [2 1 0]\n",
      " [3 4 5]\n",
      " [4 3 5]\n",
      " [5 4 3]]\n"
     ]
    }
   ],
   "source": [
    "#KDTree\n",
    "from sklearn.neighbors import KDTree  \n",
    "import numpy as np  \n",
    "X = np.array([[-1, -1], [-2, -1], [-3, -2], [1, 1], [2, 1], [3, 2]])  \n",
    "kdt = KDTree(X,leaf_size=30,metric=\"euclidean\")\n",
    "print(kdt.query(X, k=3, return_distance=False))\n",
    "  "
   ]
  },
  {
   "cell_type": "code",
   "execution_count": 40,
   "metadata": {},
   "outputs": [
    {
     "name": "stdout",
     "output_type": "stream",
     "text": [
      "[[0 1 2]\n",
      " [1 0 2]\n",
      " [2 1 0]\n",
      " [3 4 5]\n",
      " [4 3 5]\n",
      " [5 4 3]]\n"
     ]
    }
   ],
   "source": [
    "#BallTree  \n",
    "from sklearn.neighbors import BallTree  \n",
    "import numpy as np  \n",
    "X = np.array([[-1, -1], [-2, -1], [-3, -2], [1, 1], [2, 1], [3, 2]])  \n",
    "bt = BallTree(X,leaf_size=30,metric=\"euclidean\")  \n",
    "print(bt.query(X, k=3, return_distance=False))"
   ]
  },
  {
   "cell_type": "markdown",
   "metadata": {},
   "source": [
    "KNN actually can also be applied for resolution of a regression problem. We can use a random data set to see how it works."
   ]
  },
  {
   "cell_type": "code",
   "execution_count": 76,
   "metadata": {},
   "outputs": [
    {
     "data": {
      "image/png": "[encoded data removed]",
      "text/plain": [
       "<matplotlib.figure.Figure at 0x1a12e4db38>"
      ]
     },
     "metadata": {},
     "output_type": "display_data"
    }
   ],
   "source": [
    "import numpy as np\n",
    "import matplotlib.pyplot as plt\n",
    "from sklearn import neighbors\n",
    "\n",
    "np.random.seed(0)\n",
    "X = np.sort(5 * np.random.rand(100, 1), axis=0)\n",
    "T = np.linspace(0, 5, 500)[:, np.newaxis]\n",
    "y = np.sin(X).ravel()\n",
    "\n",
    "# Add noise to targets\n",
    "y[::10] += 1 * (0.5 - np.random.rand(10))\n",
    "\n",
    "# Fit regression model\n",
    "n_neighbors = 5\n",
    "\n",
    "knn = neighbors.KNeighborsRegressor(n_neighbors, weights='distance')\n",
    "y_ = knn.fit(X, y).predict(T)\n",
    "\n",
    "plt.subplot(2, 1, i + 1)\n",
    "plt.scatter(X, y, c='k', label='data')\n",
    "plt.plot(T, y_, c='g', label='prediction')\n",
    "plt.axis('tight')\n",
    "plt.legend()\n",
    "plt.title(\"KNeighborsRegressor (k = %i, weights = '%s')\" % (n_neighbors, weights))\n",
    "plt.show()"
   ]
  },
  {
   "cell_type": "markdown",
   "metadata": {},
   "source": [
    "## How to select K?\n",
    "At this point, you might want to ask that how to choose k. How does k impact your classifier?\n",
    "\n",
    "An alternate way of understanding KNN is by thinking about it as calculating a decision boundary (i.e. boundaries for more than 2 classes) which is then used to classify new points. It is often successful where each class\n",
    "has many possible prototypes, and the decision boundary is very irregular.\n",
    "\n",
    "The decision boundary of 1-Nearest Neighbor on three-class simulated data looks like:\n",
    "![1-Nearest Neighbor](1NN.jpg)\n",
    "If we use 15-Nearest Neighbor, it looks like:\n",
    "![15-Nearest Neighbor](15NN.jpg) The broken purple curve in the image is Bayes decision boundary. (Source: Hastie et al. The Elements of Statistical Learning)\n",
    "\n",
    "As we can see, the decision boundary of 15-Nearest Neighbor classifer is fairly smooth compared to where a 1-nearest neighbor classifier was used. There is a close relationship between nearest neighbor and prototype methods: in 1-nearest-neighbor classification, each training point is a prototype.\n",
    "\n",
    "When K is small, we are restraining the region of a given prediction and forcing our classifier to be “more blind” to the overall distribution. In 1-nearest neighbor, it uses only the training point closest to the new data point, the bias of the 1-nearest-neighbor estimate is often low, but the variance is high. Graphically, our decision boundary will be more jagged. On the other hand, a higher K averages more voted labels in each prediction and hence is more resilient to outliers. Larger values of K will have smoother decision boundaries but also comes with lower variance and increased bias. (Reference: A Complete Guide to K-Nearest-Neighbors with Applications in Python and R)"
   ]
  },
  {
   "cell_type": "markdown",
   "metadata": {},
   "source": [
    "## KNN on real data\n",
    "This section will demonstrate KNN with applying KNN classifier on breast cancer dataset from UC Irvine Machine Learning Repository. After downloading the dataset, we have to do prescreening on the dataset including filling the empty data points, and removing irrelevant data. Using sklearn package, it's simple and quick to implement KNN classifier."
   ]
  },
  {
   "cell_type": "code",
   "execution_count": 33,
   "metadata": {},
   "outputs": [
    {
     "data": {
      "text/html": [
       "<div>\n",
       "<style>\n",
       "    .dataframe thead tr:only-child th {\n",
       "        text-align: right;\n",
       "    }\n",
       "\n",
       "    .dataframe thead th {\n",
       "        text-align: left;\n",
       "    }\n",
       "\n",
       "    .dataframe tbody tr th {\n",
       "        vertical-align: top;\n",
       "    }\n",
       "</style>\n",
       "<table border=\"1\" class=\"dataframe\">\n",
       "  <thead>\n",
       "    <tr style=\"text-align: right;\">\n",
       "      <th></th>\n",
       "      <th>clump_thickness</th>\n",
       "      <th>uniform_cell_size</th>\n",
       "      <th>uniform_cell_shape</th>\n",
       "      <th>marginal_adhesion</th>\n",
       "      <th>single_epi_cell_size</th>\n",
       "      <th>bare_nuclei</th>\n",
       "      <th>bland_chromation</th>\n",
       "      <th>normal_nucleoli</th>\n",
       "      <th>mitoses</th>\n",
       "      <th>class</th>\n",
       "    </tr>\n",
       "  </thead>\n",
       "  <tbody>\n",
       "    <tr>\n",
       "      <th>0</th>\n",
       "      <td>5</td>\n",
       "      <td>1</td>\n",
       "      <td>1</td>\n",
       "      <td>1</td>\n",
       "      <td>2</td>\n",
       "      <td>1</td>\n",
       "      <td>3</td>\n",
       "      <td>1</td>\n",
       "      <td>1</td>\n",
       "      <td>2</td>\n",
       "    </tr>\n",
       "    <tr>\n",
       "      <th>1</th>\n",
       "      <td>5</td>\n",
       "      <td>4</td>\n",
       "      <td>4</td>\n",
       "      <td>5</td>\n",
       "      <td>7</td>\n",
       "      <td>10</td>\n",
       "      <td>3</td>\n",
       "      <td>2</td>\n",
       "      <td>1</td>\n",
       "      <td>2</td>\n",
       "    </tr>\n",
       "    <tr>\n",
       "      <th>2</th>\n",
       "      <td>3</td>\n",
       "      <td>1</td>\n",
       "      <td>1</td>\n",
       "      <td>1</td>\n",
       "      <td>2</td>\n",
       "      <td>2</td>\n",
       "      <td>3</td>\n",
       "      <td>1</td>\n",
       "      <td>1</td>\n",
       "      <td>2</td>\n",
       "    </tr>\n",
       "    <tr>\n",
       "      <th>3</th>\n",
       "      <td>6</td>\n",
       "      <td>8</td>\n",
       "      <td>8</td>\n",
       "      <td>1</td>\n",
       "      <td>3</td>\n",
       "      <td>4</td>\n",
       "      <td>3</td>\n",
       "      <td>7</td>\n",
       "      <td>1</td>\n",
       "      <td>2</td>\n",
       "    </tr>\n",
       "    <tr>\n",
       "      <th>4</th>\n",
       "      <td>4</td>\n",
       "      <td>1</td>\n",
       "      <td>1</td>\n",
       "      <td>3</td>\n",
       "      <td>2</td>\n",
       "      <td>1</td>\n",
       "      <td>3</td>\n",
       "      <td>1</td>\n",
       "      <td>1</td>\n",
       "      <td>2</td>\n",
       "    </tr>\n",
       "  </tbody>\n",
       "</table>\n",
       "</div>"
      ],
      "text/plain": [
       "   clump_thickness  uniform_cell_size  uniform_cell_shape  marginal_adhesion  \\\n",
       "0                5                  1                   1                  1   \n",
       "1                5                  4                   4                  5   \n",
       "2                3                  1                   1                  1   \n",
       "3                6                  8                   8                  1   \n",
       "4                4                  1                   1                  3   \n",
       "\n",
       "   single_epi_cell_size bare_nuclei  bland_chromation  normal_nucleoli  \\\n",
       "0                     2           1                 3                1   \n",
       "1                     7          10                 3                2   \n",
       "2                     2           2                 3                1   \n",
       "3                     3           4                 3                7   \n",
       "4                     2           1                 3                1   \n",
       "\n",
       "   mitoses  class  \n",
       "0        1      2  \n",
       "1        1      2  \n",
       "2        1      2  \n",
       "3        1      2  \n",
       "4        1      2  "
      ]
     },
     "execution_count": 33,
     "metadata": {},
     "output_type": "execute_result"
    }
   ],
   "source": [
    "import numpy as np\n",
    "from sklearn import preprocessing, cross_validation, neighbors\n",
    "import pandas as pd\n",
    "\n",
    "df = pd.read_csv('breast-cancer-wisconsin.data.txt')\n",
    "df.replace('?',-99999, inplace = True)\n",
    "df.drop(['id'], 1, inplace = True)\n",
    "df.head()"
   ]
  },
  {
   "cell_type": "code",
   "execution_count": 36,
   "metadata": {},
   "outputs": [
    {
     "name": "stdout",
     "output_type": "stream",
     "text": [
      "0.978571428571\n"
     ]
    }
   ],
   "source": [
    "#Split training set and test set\n",
    "X = np.array(df.drop(['class'], 1))\n",
    "y = np.array(df['class'])\n",
    "X_train, X_test, y_train, y_test = cross_validation.train_test_split(X, y, test_size=0.2)\n",
    "#Implement KNN\n",
    "clf = neighbors.KNeighborsClassifier()\n",
    "clf.fit(X_train, y_train)\n",
    "#Calculate accuracy\n",
    "accuracy = clf.score(X_test, y_test)\n",
    "print(accuracy)"
   ]
  },
  {
   "cell_type": "markdown",
   "metadata": {},
   "source": [
    "The accuracy is about 0.98, which is pretty impressive. \n",
    "\n",
    "To explore which k can produce the lowest misclassification error, we can use cross validation to determine the k."
   ]
  },
  {
   "cell_type": "code",
   "execution_count": 55,
   "metadata": {},
   "outputs": [
    {
     "name": "stdout",
     "output_type": "stream",
     "text": [
      "The optimal number of neighbors is 5\n"
     ]
    },
    {
     "data": {
      "image/png": "[encoded data removed]",
      "text/plain": [
       "<matplotlib.figure.Figure at 0x108c0bbe0>"
      ]
     },
     "metadata": {},
     "output_type": "display_data"
    }
   ],
   "source": [
    "from sklearn.neighbors import KNeighborsClassifier\n",
    "import numpy as np\n",
    "from sklearn.model_selection import train_test_split\n",
    "from sklearn.model_selection import cross_val_score\n",
    "import matplotlib.pyplot as plt\n",
    "\n",
    "# creating odd list of K for KNN\n",
    "myList = list(range(1,50))\n",
    "\n",
    "# subsetting just the odd ones\n",
    "neighbors = []\n",
    "for x in myList:\n",
    "    if x % 2 != 0:\n",
    "        neighbors.append(x)\n",
    "\n",
    "cv_scores = []\n",
    "\n",
    "# perform 10-fold cross validation\n",
    "for k in neighbors:\n",
    "    knn = KNeighborsClassifier(n_neighbors=k)\n",
    "    scores = cross_val_score(knn, X_train, y_train, cv=10, scoring='accuracy')\n",
    "    cv_scores.append(scores.mean())\n",
    "\n",
    "# changing to misclassification error\n",
    "MSE = []\n",
    "for x in cv_scores:\n",
    "    MSE.append(1 - x)\n",
    "\n",
    "# determining best k\n",
    "optimal_k = neighbors[MSE.index(min(MSE))]\n",
    "print(\"The optimal number of neighbors is %d\" % optimal_k)\n",
    "\n",
    "# plot misclassification error vs k\n",
    "plt.plot(neighbors, MSE, c='r')\n",
    "plt.xlabel('Number of Neighbors K')\n",
    "plt.ylabel('Misclassification Error')\n",
    "plt.show()"
   ]
  },
  {
   "cell_type": "markdown",
   "metadata": {},
   "source": [
    "To see how KNN performs compared with other classification methods, we can see it from comparison with logistic regression."
   ]
  },
  {
   "cell_type": "code",
   "execution_count": 68,
   "metadata": {},
   "outputs": [
    {
     "name": "stdout",
     "output_type": "stream",
     "text": [
      "KNN score: 0.978571\n",
      "LogisticRegression score: 0.957143\n"
     ]
    }
   ],
   "source": [
    "from sklearn import linear_model\n",
    "\n",
    "kNNbrs = KNeighborsClassifier()\n",
    "logistic = linear_model.LogisticRegression()\n",
    "\n",
    "print('KNN score: %f' % kNNbrs.fit(X_train, y_train).score(X_test, y_test))\n",
    "print('LogisticRegression score: %f' % logistic.fit(X_train, y_train).score(X_test, y_test))"
   ]
  },
  {
   "cell_type": "markdown",
   "metadata": {},
   "source": [
    "KNN actually outperforms logistic regression on this breast cancer data set. KNN is a really simple and effective classifier."
   ]
  },
  {
   "cell_type": "markdown",
   "metadata": {},
   "source": [
    "## Pros and Cons of KNN\n",
    "### Pros\n",
    "- KNN is very simple and easy to interpret and implement. It can complete training steps with zero to little training time.\n",
    "- KNN doesn't make any assumptions for training data because most of the data in practice does not obey the typical theoretical assumptions made. This could be very useful for non-linear data.\n",
    "- KNN can be used for not only classification, but also regression.\n",
    "- KNN is insensitive to outliers, so it's an advantage compared with other algorithms that might be impacted by noise or irrelavant data.\n",
    "- KNN is suitable for various types of data, including numerical, discrete, multiclass data, without putting in much effort to hardcode the algorithm for one type of data setting.\n",
    "\n",
    "### Cons\n",
    "- KNN is a computationally expensive algorithm because it has to store all of the training examples, which also increases storage cost.\n",
    "- KNN belongs to lazy learning algorithm. Compared with other eager learning algorithm, KNN is slower.\n",
    "- KNN can suffer from skewed class distributions. For example, if a certain class is very frequent in the training set, it will tend to dominate the majority voting of the new example。\n",
    "- KNN cannot handle high-dimentional data very well, because it's hard to differentiate between the nearest and farthest neighbor. \n",
    "- KNN cannot make out-of-sample regression because it's instance-based. The prediction it made won't exceed the maximum and the minimum of training samples.\n",
    "\n",
    "To summarize this tutorial, the disadvantages of KNN are as obvious as its advantages. However, KNN is sitll one of the simplest classification algorithm and it is one of the most used learning algorithms."
   ]
  },
  {
   "cell_type": "markdown",
   "metadata": {},
   "source": [
    "## References\n",
    "- Hastie et al. The Elements of Statistical Learning, Second Edition\n",
    "- Breast cancer dataset: https://archive.ics.uci.edu/ml/machine-learning-databases/breast-cancer-wisconsin/\n",
    "- Kevin Zakka's blog. A Complete Guide to K-Nearest-Neighbors with Applications in Python and R. https://kevinzakka.github.io/2016/07/13/k-nearest-neighbor/\n",
    "- Adi Bronshtein blog. A Quick Introduction to K-Nearest Neighbors Algorithm. https://medium.com/@adi.bronshtein/a-quick-introduction-to-k-nearest-neighbors-algorithm-62214cea29c7"
   ]
  }
 ],
 "metadata": {
  "kernelspec": {
   "display_name": "Python 3",
   "language": "python",
   "name": "python3"
  },
  "language_info": {
   "codemirror_mode": {
    "name": "ipython",
    "version": 3
   },
   "file_extension": ".py",
   "mimetype": "text/x-python",
   "name": "python",
   "nbconvert_exporter": "python",
   "pygments_lexer": "ipython3",
   "version": "3.6.3"
  }
 },
 "nbformat": 4,
 "nbformat_minor": 2
}
