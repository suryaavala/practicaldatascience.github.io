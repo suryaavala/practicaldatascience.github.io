{
 "cells": [
  {
   "cell_type": "markdown",
   "metadata": {},
   "source": [
    "# Wine Quality Classification"
   ]
  },
  {
   "cell_type": "markdown",
   "metadata": {},
   "source": [
    "## Introduction"
   ]
  },
  {
   "cell_type": "markdown",
   "metadata": {},
   "source": [
    "This tutorial will introduce you some basic methods for data visualizition, feature engineering and classification algorithms. We will focus on wine quality data. The dataset we use is from UCI machine learning repository, https://archive.ics.uci.edu/ml/datasets/wine+quality.\n",
    "Finally, we are able to predict wine quality (whether it's good or not) based on the given attributes."
   ]
  },
  {
   "cell_type": "markdown",
   "metadata": {},
   "source": [
    "### Tutorial content"
   ]
  },
  {
   "cell_type": "markdown",
   "metadata": {},
   "source": [
    "In this tutorial, we will show how to do some basic machine learnining algorithm to classify wine into 'good quality' or 'bad quality'.\n",
    "\n",
    "We will cover the following topics in this tutorial:\n",
    "- Installing the libraries\n",
    "- Loading data and plotting\n",
    "- Classification algorithms\n",
    "- Output and analysis"
   ]
  },
  {
   "cell_type": "markdown",
   "metadata": {},
   "source": [
    "### Installing the libraries"
   ]
  },
  {
   "cell_type": "markdown",
   "metadata": {},
   "source": [
    "Before getting started, you will need to install the various libraries that we will use. "
   ]
  },
  {
   "cell_type": "code",
   "execution_count": 236,
   "metadata": {},
   "outputs": [],
   "source": [
    "import pandas as pd\n",
    "import numpy as np"
   ]
  },
  {
   "cell_type": "markdown",
   "metadata": {},
   "source": [
    "### Loading data and plotting"
   ]
  },
  {
   "cell_type": "markdown",
   "metadata": {},
   "source": [
    "We download the \"winequality-red.csv\" file from the UCI machine learning repository website: https://archive.ics.uci.edu/ml/machine-learning-databases/wine-quality/winequality-red.csv. Then we copy the file to be in the same directory as this notebook."
   ]
  },
  {
   "cell_type": "code",
   "execution_count": 237,
   "metadata": {},
   "outputs": [],
   "source": [
    "df = pd.read_csv(\"winequality-red.csv\") "
   ]
  },
  {
   "cell_type": "code",
   "execution_count": 238,
   "metadata": {},
   "outputs": [
    {
     "data": {
      "text/html": [
       "<div>\n",
       "<style scoped>\n",
       "    .dataframe tbody tr th:only-of-type {\n",
       "        vertical-align: middle;\n",
       "    }\n",
       "\n",
       "    .dataframe tbody tr th {\n",
       "        vertical-align: top;\n",
       "    }\n",
       "\n",
       "    .dataframe thead th {\n",
       "        text-align: right;\n",
       "    }\n",
       "</style>\n",
       "<table border=\"1\" class=\"dataframe\">\n",
       "  <thead>\n",
       "    <tr style=\"text-align: right;\">\n",
       "      <th></th>\n",
       "      <th>fixed acidity</th>\n",
       "      <th>volatile acidity</th>\n",
       "      <th>citric acid</th>\n",
       "      <th>residual sugar</th>\n",
       "      <th>chlorides</th>\n",
       "      <th>free sulfur dioxide</th>\n",
       "      <th>total sulfur dioxide</th>\n",
       "      <th>density</th>\n",
       "      <th>pH</th>\n",
       "      <th>sulphates</th>\n",
       "      <th>alcohol</th>\n",
       "      <th>quality</th>\n",
       "    </tr>\n",
       "  </thead>\n",
       "  <tbody>\n",
       "    <tr>\n",
       "      <th>0</th>\n",
       "      <td>7.4</td>\n",
       "      <td>0.70</td>\n",
       "      <td>0.00</td>\n",
       "      <td>1.9</td>\n",
       "      <td>0.076</td>\n",
       "      <td>11.0</td>\n",
       "      <td>34.0</td>\n",
       "      <td>0.9978</td>\n",
       "      <td>3.51</td>\n",
       "      <td>0.56</td>\n",
       "      <td>9.4</td>\n",
       "      <td>5</td>\n",
       "    </tr>\n",
       "    <tr>\n",
       "      <th>1</th>\n",
       "      <td>7.8</td>\n",
       "      <td>0.88</td>\n",
       "      <td>0.00</td>\n",
       "      <td>2.6</td>\n",
       "      <td>0.098</td>\n",
       "      <td>25.0</td>\n",
       "      <td>67.0</td>\n",
       "      <td>0.9968</td>\n",
       "      <td>3.20</td>\n",
       "      <td>0.68</td>\n",
       "      <td>9.8</td>\n",
       "      <td>5</td>\n",
       "    </tr>\n",
       "    <tr>\n",
       "      <th>2</th>\n",
       "      <td>7.8</td>\n",
       "      <td>0.76</td>\n",
       "      <td>0.04</td>\n",
       "      <td>2.3</td>\n",
       "      <td>0.092</td>\n",
       "      <td>15.0</td>\n",
       "      <td>54.0</td>\n",
       "      <td>0.9970</td>\n",
       "      <td>3.26</td>\n",
       "      <td>0.65</td>\n",
       "      <td>9.8</td>\n",
       "      <td>5</td>\n",
       "    </tr>\n",
       "    <tr>\n",
       "      <th>3</th>\n",
       "      <td>11.2</td>\n",
       "      <td>0.28</td>\n",
       "      <td>0.56</td>\n",
       "      <td>1.9</td>\n",
       "      <td>0.075</td>\n",
       "      <td>17.0</td>\n",
       "      <td>60.0</td>\n",
       "      <td>0.9980</td>\n",
       "      <td>3.16</td>\n",
       "      <td>0.58</td>\n",
       "      <td>9.8</td>\n",
       "      <td>6</td>\n",
       "    </tr>\n",
       "    <tr>\n",
       "      <th>4</th>\n",
       "      <td>7.4</td>\n",
       "      <td>0.70</td>\n",
       "      <td>0.00</td>\n",
       "      <td>1.9</td>\n",
       "      <td>0.076</td>\n",
       "      <td>11.0</td>\n",
       "      <td>34.0</td>\n",
       "      <td>0.9978</td>\n",
       "      <td>3.51</td>\n",
       "      <td>0.56</td>\n",
       "      <td>9.4</td>\n",
       "      <td>5</td>\n",
       "    </tr>\n",
       "  </tbody>\n",
       "</table>\n",
       "</div>"
      ],
      "text/plain": [
       "   fixed acidity  volatile acidity  citric acid  residual sugar  chlorides  \\\n",
       "0            7.4              0.70         0.00             1.9      0.076   \n",
       "1            7.8              0.88         0.00             2.6      0.098   \n",
       "2            7.8              0.76         0.04             2.3      0.092   \n",
       "3           11.2              0.28         0.56             1.9      0.075   \n",
       "4            7.4              0.70         0.00             1.9      0.076   \n",
       "\n",
       "   free sulfur dioxide  total sulfur dioxide  density    pH  sulphates  \\\n",
       "0                 11.0                  34.0   0.9978  3.51       0.56   \n",
       "1                 25.0                  67.0   0.9968  3.20       0.68   \n",
       "2                 15.0                  54.0   0.9970  3.26       0.65   \n",
       "3                 17.0                  60.0   0.9980  3.16       0.58   \n",
       "4                 11.0                  34.0   0.9978  3.51       0.56   \n",
       "\n",
       "   alcohol  quality  \n",
       "0      9.4        5  \n",
       "1      9.8        5  \n",
       "2      9.8        5  \n",
       "3      9.8        6  \n",
       "4      9.4        5  "
      ]
     },
     "execution_count": 238,
     "metadata": {},
     "output_type": "execute_result"
    }
   ],
   "source": [
    "df.head()"
   ]
  },
  {
   "cell_type": "markdown",
   "metadata": {},
   "source": [
    "We take a further look into the dataset by plotting the attributes for each data point."
   ]
  },
  {
   "cell_type": "code",
   "execution_count": 239,
   "metadata": {},
   "outputs": [
    {
     "data": {
      "image/png": "[encoded data removed]",
      "text/plain": [
       "<matplotlib.figure.Figure at 0x10fc17780>"
      ]
     },
     "metadata": {},
     "output_type": "display_data"
    }
   ],
   "source": [
    "p2 = df.plot()"
   ]
  },
  {
   "cell_type": "markdown",
   "metadata": {},
   "source": [
    "### Feature Engineering"
   ]
  },
  {
   "cell_type": "markdown",
   "metadata": {},
   "source": [
    "Then we need to choose features that affect the wine quality the most. We are going to use RandomForest algorithm to realize this goal. Random forests are an learning method for classification, regression and other tasks. To learn more about the algorithm, please refer to\n",
    "https://en.wikipedia.org/wiki/Random_forest."
   ]
  },
  {
   "cell_type": "markdown",
   "metadata": {},
   "source": [
    "We are going to use scikit-learn to implement the RandomForest."
   ]
  },
  {
   "cell_type": "code",
   "execution_count": 240,
   "metadata": {},
   "outputs": [
    {
     "data": {
      "text/plain": [
       "RandomForestClassifier(bootstrap=True, class_weight=None, criterion='gini',\n",
       "            max_depth=None, max_features='auto', max_leaf_nodes=None,\n",
       "            min_impurity_decrease=0.0, min_impurity_split=None,\n",
       "            min_samples_leaf=1, min_samples_split=2,\n",
       "            min_weight_fraction_leaf=0.0, n_estimators=10, n_jobs=1,\n",
       "            oob_score=False, random_state=None, verbose=0,\n",
       "            warm_start=False)"
      ]
     },
     "execution_count": 240,
     "metadata": {},
     "output_type": "execute_result"
    }
   ],
   "source": [
    "from sklearn.ensemble import RandomForestClassifier\n",
    "features = np.array(['fixed acidity','volatile acidity','citric acid',\n",
    "                     'residual sugar','chlorides','free sulfur dioxide',\n",
    "                     'total sulfur dioxide','density','pH','sulphates','alcohol'])\n",
    "clf = RandomForestClassifier()\n",
    "clf.fit(df[features], df['quality'])"
   ]
  },
  {
   "cell_type": "code",
   "execution_count": 241,
   "metadata": {},
   "outputs": [
    {
     "data": {
      "image/png": "[encoded data removed]",
      "text/plain": [
       "<matplotlib.figure.Figure at 0x10fa420f0>"
      ]
     },
     "metadata": {},
     "output_type": "display_data"
    }
   ],
   "source": [
    "import matplotlib.pyplot as plt\n",
    "%matplotlib inline\n",
    "\n",
    "relevance = clf.feature_importances_\n",
    "idx = np.argsort(relevance)\n",
    "padding = np.arange(len(features)) + 0.5\n",
    "plt.barh(padding, relevance[idx], align='center')\n",
    "plt.yticks(padding, features[idx])\n",
    "plt.xlabel(\"Relevance\")\n",
    "plt.title(\"Feature Ranking\")\n",
    "plt.show()"
   ]
  },
  {
   "cell_type": "markdown",
   "metadata": {},
   "source": [
    "From the plot above, we can see that the most relevant features are alcohol, sulphates, volatile acidity, and total sulfur dioxide. Features such as free sulfur dioxide and pH are not that relevant to the wine quality."
   ]
  },
  {
   "cell_type": "markdown",
   "metadata": {},
   "source": [
    "We can take a further look into the relationship of alcohol, volatile acidity and sulphates against wine quality by plotting the variables for each data point."
   ]
  },
  {
   "cell_type": "code",
   "execution_count": 242,
   "metadata": {},
   "outputs": [
    {
     "data": {
      "image/png": "[encoded data removed]",
      "text/plain": [
       "<matplotlib.figure.Figure at 0x110035c50>"
      ]
     },
     "metadata": {},
     "output_type": "display_data"
    }
   ],
   "source": [
    "x = df['alcohol'].tolist()\n",
    "y = df['quality'].tolist()\n",
    "data = {'alcohol': x,\n",
    "     'quality': y}\n",
    "df2 = pd.DataFrame(data)\n",
    "p = df2.plot()"
   ]
  },
  {
   "cell_type": "code",
   "execution_count": 244,
   "metadata": {},
   "outputs": [
    {
     "data": {
      "image/png": "[encoded data removed]",
      "text/plain": [
       "<matplotlib.figure.Figure at 0x10a42f588>"
      ]
     },
     "metadata": {},
     "output_type": "display_data"
    }
   ],
   "source": [
    "x = df['volatile acidity'].tolist()\n",
    "y = df['quality'].tolist()\n",
    "data = {'volatile acidity': x,\n",
    "     'quality': y}\n",
    "df2 = pd.DataFrame(data)\n",
    "p = df2.plot()"
   ]
  },
  {
   "cell_type": "code",
   "execution_count": 245,
   "metadata": {},
   "outputs": [
    {
     "data": {
      "image/png": "[encoded data removed]",
      "text/plain": [
       "<matplotlib.figure.Figure at 0x10a4112b0>"
      ]
     },
     "metadata": {},
     "output_type": "display_data"
    }
   ],
   "source": [
    "x = df['sulphates'].tolist()\n",
    "y = df['quality'].tolist()\n",
    "data = {'sulphates': x,\n",
    "     'quality': y}\n",
    "df2 = pd.DataFrame(data)\n",
    "p = df2.plot()"
   ]
  },
  {
   "cell_type": "markdown",
   "metadata": {},
   "source": []
  },
  {
   "cell_type": "markdown",
   "metadata": {},
   "source": [
    "### Data Preprocessing"
   ]
  },
  {
   "cell_type": "markdown",
   "metadata": {},
   "source": [
    "Then we need to convert the value of the wine quality attribute to 'good' or 'bad' in order to perform classification algorithm. "
   ]
  },
  {
   "cell_type": "markdown",
   "metadata": {},
   "source": [
    "First, we calculate the minimum, maximum, mean and median of the values of wine quality to get a sense of which scores can be categorized as good qualities."
   ]
  },
  {
   "cell_type": "code",
   "execution_count": 246,
   "metadata": {},
   "outputs": [
    {
     "data": {
      "text/plain": [
       "3"
      ]
     },
     "execution_count": 246,
     "metadata": {},
     "output_type": "execute_result"
    }
   ],
   "source": [
    "df['quality'].min()"
   ]
  },
  {
   "cell_type": "code",
   "execution_count": 247,
   "metadata": {},
   "outputs": [
    {
     "data": {
      "text/plain": [
       "8"
      ]
     },
     "execution_count": 247,
     "metadata": {},
     "output_type": "execute_result"
    }
   ],
   "source": [
    "df['quality'].max()"
   ]
  },
  {
   "cell_type": "code",
   "execution_count": 248,
   "metadata": {},
   "outputs": [
    {
     "data": {
      "text/plain": [
       "5.6360225140712945"
      ]
     },
     "execution_count": 248,
     "metadata": {},
     "output_type": "execute_result"
    }
   ],
   "source": [
    "df['quality'].mean()"
   ]
  },
  {
   "cell_type": "code",
   "execution_count": 249,
   "metadata": {},
   "outputs": [
    {
     "data": {
      "text/plain": [
       "6.0"
      ]
     },
     "execution_count": 249,
     "metadata": {},
     "output_type": "execute_result"
    }
   ],
   "source": [
    "df['quality'].median()"
   ]
  },
  {
   "cell_type": "markdown",
   "metadata": {},
   "source": [
    "So one way to categorize the wine into binary group based on the quality is to categorize wine with quality value smaller than or equal to the median as bad quality and to categorize wine with quality value larger than median as good quality. We can do that using the 'cut' method in the Pandas Library."
   ]
  },
  {
   "cell_type": "code",
   "execution_count": 250,
   "metadata": {},
   "outputs": [],
   "source": [
    "df['quality'] = pd.cut(df['quality'], (2.5,6.5,8), labels=[\"bad\", \"good\"])"
   ]
  },
  {
   "cell_type": "markdown",
   "metadata": {},
   "source": [
    "The first five lines after doing the preprocessing of the label is the showed in the table below. We could see that wine with quality value 5 is now categorized as bad quality."
   ]
  },
  {
   "cell_type": "code",
   "execution_count": 251,
   "metadata": {},
   "outputs": [
    {
     "data": {
      "text/html": [
       "<div>\n",
       "<style scoped>\n",
       "    .dataframe tbody tr th:only-of-type {\n",
       "        vertical-align: middle;\n",
       "    }\n",
       "\n",
       "    .dataframe tbody tr th {\n",
       "        vertical-align: top;\n",
       "    }\n",
       "\n",
       "    .dataframe thead th {\n",
       "        text-align: right;\n",
       "    }\n",
       "</style>\n",
       "<table border=\"1\" class=\"dataframe\">\n",
       "  <thead>\n",
       "    <tr style=\"text-align: right;\">\n",
       "      <th></th>\n",
       "      <th>fixed acidity</th>\n",
       "      <th>volatile acidity</th>\n",
       "      <th>citric acid</th>\n",
       "      <th>residual sugar</th>\n",
       "      <th>chlorides</th>\n",
       "      <th>free sulfur dioxide</th>\n",
       "      <th>total sulfur dioxide</th>\n",
       "      <th>density</th>\n",
       "      <th>pH</th>\n",
       "      <th>sulphates</th>\n",
       "      <th>alcohol</th>\n",
       "      <th>quality</th>\n",
       "    </tr>\n",
       "  </thead>\n",
       "  <tbody>\n",
       "    <tr>\n",
       "      <th>0</th>\n",
       "      <td>7.4</td>\n",
       "      <td>0.70</td>\n",
       "      <td>0.00</td>\n",
       "      <td>1.9</td>\n",
       "      <td>0.076</td>\n",
       "      <td>11.0</td>\n",
       "      <td>34.0</td>\n",
       "      <td>0.9978</td>\n",
       "      <td>3.51</td>\n",
       "      <td>0.56</td>\n",
       "      <td>9.4</td>\n",
       "      <td>bad</td>\n",
       "    </tr>\n",
       "    <tr>\n",
       "      <th>1</th>\n",
       "      <td>7.8</td>\n",
       "      <td>0.88</td>\n",
       "      <td>0.00</td>\n",
       "      <td>2.6</td>\n",
       "      <td>0.098</td>\n",
       "      <td>25.0</td>\n",
       "      <td>67.0</td>\n",
       "      <td>0.9968</td>\n",
       "      <td>3.20</td>\n",
       "      <td>0.68</td>\n",
       "      <td>9.8</td>\n",
       "      <td>bad</td>\n",
       "    </tr>\n",
       "    <tr>\n",
       "      <th>2</th>\n",
       "      <td>7.8</td>\n",
       "      <td>0.76</td>\n",
       "      <td>0.04</td>\n",
       "      <td>2.3</td>\n",
       "      <td>0.092</td>\n",
       "      <td>15.0</td>\n",
       "      <td>54.0</td>\n",
       "      <td>0.9970</td>\n",
       "      <td>3.26</td>\n",
       "      <td>0.65</td>\n",
       "      <td>9.8</td>\n",
       "      <td>bad</td>\n",
       "    </tr>\n",
       "    <tr>\n",
       "      <th>3</th>\n",
       "      <td>11.2</td>\n",
       "      <td>0.28</td>\n",
       "      <td>0.56</td>\n",
       "      <td>1.9</td>\n",
       "      <td>0.075</td>\n",
       "      <td>17.0</td>\n",
       "      <td>60.0</td>\n",
       "      <td>0.9980</td>\n",
       "      <td>3.16</td>\n",
       "      <td>0.58</td>\n",
       "      <td>9.8</td>\n",
       "      <td>bad</td>\n",
       "    </tr>\n",
       "    <tr>\n",
       "      <th>4</th>\n",
       "      <td>7.4</td>\n",
       "      <td>0.70</td>\n",
       "      <td>0.00</td>\n",
       "      <td>1.9</td>\n",
       "      <td>0.076</td>\n",
       "      <td>11.0</td>\n",
       "      <td>34.0</td>\n",
       "      <td>0.9978</td>\n",
       "      <td>3.51</td>\n",
       "      <td>0.56</td>\n",
       "      <td>9.4</td>\n",
       "      <td>bad</td>\n",
       "    </tr>\n",
       "  </tbody>\n",
       "</table>\n",
       "</div>"
      ],
      "text/plain": [
       "   fixed acidity  volatile acidity  citric acid  residual sugar  chlorides  \\\n",
       "0            7.4              0.70         0.00             1.9      0.076   \n",
       "1            7.8              0.88         0.00             2.6      0.098   \n",
       "2            7.8              0.76         0.04             2.3      0.092   \n",
       "3           11.2              0.28         0.56             1.9      0.075   \n",
       "4            7.4              0.70         0.00             1.9      0.076   \n",
       "\n",
       "   free sulfur dioxide  total sulfur dioxide  density    pH  sulphates  \\\n",
       "0                 11.0                  34.0   0.9978  3.51       0.56   \n",
       "1                 25.0                  67.0   0.9968  3.20       0.68   \n",
       "2                 15.0                  54.0   0.9970  3.26       0.65   \n",
       "3                 17.0                  60.0   0.9980  3.16       0.58   \n",
       "4                 11.0                  34.0   0.9978  3.51       0.56   \n",
       "\n",
       "   alcohol quality  \n",
       "0      9.4     bad  \n",
       "1      9.8     bad  \n",
       "2      9.8     bad  \n",
       "3      9.8     bad  \n",
       "4      9.4     bad  "
      ]
     },
     "execution_count": 251,
     "metadata": {},
     "output_type": "execute_result"
    }
   ],
   "source": [
    "df.head()"
   ]
  },
  {
   "cell_type": "markdown",
   "metadata": {},
   "source": [
    "Then we drop out the features which are not so important compared to others. From the feature engineering section, we know that pH, citric acid, and free sulfur dioxide have low rank in relevance to the wine quality, so we are going to drop these three features. "
   ]
  },
  {
   "cell_type": "code",
   "execution_count": 252,
   "metadata": {},
   "outputs": [],
   "source": [
    "X = df.drop('pH', axis = 1)\n",
    "X = X.drop('citric acid', axis = 1)\n",
    "X = X.drop('free sulfur dioxide', axis = 1)"
   ]
  },
  {
   "cell_type": "code",
   "execution_count": 253,
   "metadata": {},
   "outputs": [
    {
     "data": {
      "text/html": [
       "<div>\n",
       "<style scoped>\n",
       "    .dataframe tbody tr th:only-of-type {\n",
       "        vertical-align: middle;\n",
       "    }\n",
       "\n",
       "    .dataframe tbody tr th {\n",
       "        vertical-align: top;\n",
       "    }\n",
       "\n",
       "    .dataframe thead th {\n",
       "        text-align: right;\n",
       "    }\n",
       "</style>\n",
       "<table border=\"1\" class=\"dataframe\">\n",
       "  <thead>\n",
       "    <tr style=\"text-align: right;\">\n",
       "      <th></th>\n",
       "      <th>fixed acidity</th>\n",
       "      <th>volatile acidity</th>\n",
       "      <th>residual sugar</th>\n",
       "      <th>chlorides</th>\n",
       "      <th>total sulfur dioxide</th>\n",
       "      <th>density</th>\n",
       "      <th>sulphates</th>\n",
       "      <th>alcohol</th>\n",
       "      <th>quality</th>\n",
       "    </tr>\n",
       "  </thead>\n",
       "  <tbody>\n",
       "    <tr>\n",
       "      <th>0</th>\n",
       "      <td>7.4</td>\n",
       "      <td>0.70</td>\n",
       "      <td>1.9</td>\n",
       "      <td>0.076</td>\n",
       "      <td>34.0</td>\n",
       "      <td>0.9978</td>\n",
       "      <td>0.56</td>\n",
       "      <td>9.4</td>\n",
       "      <td>bad</td>\n",
       "    </tr>\n",
       "    <tr>\n",
       "      <th>1</th>\n",
       "      <td>7.8</td>\n",
       "      <td>0.88</td>\n",
       "      <td>2.6</td>\n",
       "      <td>0.098</td>\n",
       "      <td>67.0</td>\n",
       "      <td>0.9968</td>\n",
       "      <td>0.68</td>\n",
       "      <td>9.8</td>\n",
       "      <td>bad</td>\n",
       "    </tr>\n",
       "    <tr>\n",
       "      <th>2</th>\n",
       "      <td>7.8</td>\n",
       "      <td>0.76</td>\n",
       "      <td>2.3</td>\n",
       "      <td>0.092</td>\n",
       "      <td>54.0</td>\n",
       "      <td>0.9970</td>\n",
       "      <td>0.65</td>\n",
       "      <td>9.8</td>\n",
       "      <td>bad</td>\n",
       "    </tr>\n",
       "    <tr>\n",
       "      <th>3</th>\n",
       "      <td>11.2</td>\n",
       "      <td>0.28</td>\n",
       "      <td>1.9</td>\n",
       "      <td>0.075</td>\n",
       "      <td>60.0</td>\n",
       "      <td>0.9980</td>\n",
       "      <td>0.58</td>\n",
       "      <td>9.8</td>\n",
       "      <td>bad</td>\n",
       "    </tr>\n",
       "    <tr>\n",
       "      <th>4</th>\n",
       "      <td>7.4</td>\n",
       "      <td>0.70</td>\n",
       "      <td>1.9</td>\n",
       "      <td>0.076</td>\n",
       "      <td>34.0</td>\n",
       "      <td>0.9978</td>\n",
       "      <td>0.56</td>\n",
       "      <td>9.4</td>\n",
       "      <td>bad</td>\n",
       "    </tr>\n",
       "  </tbody>\n",
       "</table>\n",
       "</div>"
      ],
      "text/plain": [
       "   fixed acidity  volatile acidity  residual sugar  chlorides  \\\n",
       "0            7.4              0.70             1.9      0.076   \n",
       "1            7.8              0.88             2.6      0.098   \n",
       "2            7.8              0.76             2.3      0.092   \n",
       "3           11.2              0.28             1.9      0.075   \n",
       "4            7.4              0.70             1.9      0.076   \n",
       "\n",
       "   total sulfur dioxide  density  sulphates  alcohol quality  \n",
       "0                  34.0   0.9978       0.56      9.4     bad  \n",
       "1                  67.0   0.9968       0.68      9.8     bad  \n",
       "2                  54.0   0.9970       0.65      9.8     bad  \n",
       "3                  60.0   0.9980       0.58      9.8     bad  \n",
       "4                  34.0   0.9978       0.56      9.4     bad  "
      ]
     },
     "execution_count": 253,
     "metadata": {},
     "output_type": "execute_result"
    }
   ],
   "source": [
    "X.head()"
   ]
  },
  {
   "cell_type": "markdown",
   "metadata": {},
   "source": [
    "Before we perform classification algorithm on our dataset, we need to separate the attributes and the label.  "
   ]
  },
  {
   "cell_type": "code",
   "execution_count": 254,
   "metadata": {},
   "outputs": [],
   "source": [
    "X = X.drop('quality', axis = 1)\n",
    "y = df['quality']"
   ]
  },
  {
   "cell_type": "markdown",
   "metadata": {},
   "source": [
    "Then we need to split the dataset into training set and test set before we perform classifiction algorithms. We use train_test_split helper function in sklearn library to randomly split the dataset set. In the following lines, we import the library and split the dataset into 60% training data and 40% test data."
   ]
  },
  {
   "cell_type": "code",
   "execution_count": 255,
   "metadata": {},
   "outputs": [],
   "source": [
    "from sklearn.model_selection import train_test_split"
   ]
  },
  {
   "cell_type": "code",
   "execution_count": 256,
   "metadata": {},
   "outputs": [],
   "source": [
    " X_train, X_test, y_train, y_test = train_test_split(\n",
    " X, y, test_size=0.4, random_state=0)"
   ]
  },
  {
   "cell_type": "code",
   "execution_count": 257,
   "metadata": {},
   "outputs": [],
   "source": [
    "#X_train, X_validate, X_test = np.split(X.sample(frac=1), [int(0.6*len(X)), int(0.8*len(X))])\n",
    "#y_train, y_validate, y_test = np.split(y.sample(frac=1), [int(0.6*len(y)), int(0.8*len(y))])"
   ]
  },
  {
   "cell_type": "markdown",
   "metadata": {},
   "source": [
    "Finally, we need to scale the attributes. This step is important because without taking this step, some features may have a wide range of values, and therefore take over other features' importance on the classification result. By normalizaing the features, the impact of each feature on the result would be more likely to be proportional to its actual relevance to the\n",
    "result. There are several scalers we can use:\n",
    "- StandardScaler\n",
    "- MinMaxScaler\n",
    "- MaxAbsScaler\n",
    "- RobustScaler\n",
    "etc.\n",
    "\n",
    "First, we are going to apply StandardScalar which standardizes features by removing the mean and scaling to unit variance. We use sklearn library StandardScalar. "
   ]
  },
  {
   "cell_type": "code",
   "execution_count": 258,
   "metadata": {},
   "outputs": [],
   "source": [
    "from sklearn.preprocessing import StandardScaler"
   ]
  },
  {
   "cell_type": "code",
   "execution_count": 259,
   "metadata": {},
   "outputs": [],
   "source": [
    "scaler = StandardScaler()"
   ]
  },
  {
   "cell_type": "code",
   "execution_count": 260,
   "metadata": {},
   "outputs": [],
   "source": [
    "temp1 = X_train\n",
    "temp2 = X_test"
   ]
  },
  {
   "cell_type": "code",
   "execution_count": 261,
   "metadata": {},
   "outputs": [],
   "source": [
    "X_train = scaler.fit_transform(X_train)\n",
    "X_test = scaler.fit_transform(X_test)"
   ]
  },
  {
   "cell_type": "markdown",
   "metadata": {},
   "source": [
    "Then we use MinMaxScaler to standardize features and generate new training set and test set. We can compare the    performance of these two scalers later.   "
   ]
  },
  {
   "cell_type": "code",
   "execution_count": 262,
   "metadata": {},
   "outputs": [],
   "source": [
    "from sklearn.preprocessing import MinMaxScaler"
   ]
  },
  {
   "cell_type": "code",
   "execution_count": 263,
   "metadata": {},
   "outputs": [],
   "source": [
    "scaler2 = MinMaxScaler()"
   ]
  },
  {
   "cell_type": "code",
   "execution_count": 264,
   "metadata": {},
   "outputs": [],
   "source": [
    "X_train2 = scaler2.fit_transform(temp1)\n",
    "X_test2 = scaler2.fit_transform(temp2)"
   ]
  },
  {
   "cell_type": "markdown",
   "metadata": {},
   "source": [
    "### Classification Algorithms"
   ]
  },
  {
   "cell_type": "markdown",
   "metadata": {},
   "source": [
    "Now we can perform classification algorithm on our wine dataset. We are going to perform \n",
    "several classification algorithms and compare the their performance.            "
   ]
  },
  {
   "cell_type": "markdown",
   "metadata": {},
   "source": [
    "The classification algorithms we are going to use:\n",
    "- support vector machine (SVM)\n",
    "- Multi-layer Perceptron classifier (MLP)\n",
    "- SGD classifier\n",
    "- Decision Tree"
   ]
  },
  {
   "cell_type": "markdown",
   "metadata": {},
   "source": [
    "First of all, we train and fit the model based on sklearn SVM. Then calculate score using the test set. The scores we get for the models based on both scalers are about 88-90%. The model scaled by MinMaxScaler has a slightly better performance. To learn more about SVM, please refer to http://www.statsoft.com/Textbook/Support-Vector-Machines."
   ]
  },
  {
   "cell_type": "code",
   "execution_count": 265,
   "metadata": {},
   "outputs": [],
   "source": [
    "from sklearn import svm"
   ]
  },
  {
   "cell_type": "code",
   "execution_count": 266,
   "metadata": {},
   "outputs": [
    {
     "data": {
      "text/plain": [
       "0.8796875"
      ]
     },
     "execution_count": 266,
     "metadata": {},
     "output_type": "execute_result"
    }
   ],
   "source": [
    "clf = svm.SVC(kernel='linear', C=1).fit(X_train, y_train)\n",
    "clf.score(X_test, y_test)"
   ]
  },
  {
   "cell_type": "code",
   "execution_count": 267,
   "metadata": {},
   "outputs": [
    {
     "data": {
      "text/plain": [
       "0.896875"
      ]
     },
     "execution_count": 267,
     "metadata": {},
     "output_type": "execute_result"
    }
   ],
   "source": [
    "clf2 = svm.SVC(kernel='linear', C=1).fit(X_train2, y_train)\n",
    "clf2.score(X_test2, y_test)"
   ]
  },
  {
   "cell_type": "markdown",
   "metadata": {},
   "source": [
    "Then, we implement the MLPClassifier which has 50 hidden units, and uses stochastic gradient descent (SGD) to update the parameters of the objective function. We set the maximum number of iterations to be 100. To learn more about MLP, please refer to http://scikit-learn.org/stable/modules/neural_networks_supervised.html. To learn more about stochastic gradient descent, please refer to http://scikit-learn.org/stable/modules/sgd.html."
   ]
  },
  {
   "cell_type": "code",
   "execution_count": 268,
   "metadata": {},
   "outputs": [],
   "source": [
    "from sklearn.neural_network import MLPClassifier"
   ]
  },
  {
   "cell_type": "code",
   "execution_count": 269,
   "metadata": {},
   "outputs": [
    {
     "name": "stdout",
     "output_type": "stream",
     "text": [
      "Iteration 1, loss = 0.56188079\n",
      "Iteration 2, loss = 0.37915507\n",
      "Iteration 3, loss = 0.31977256\n",
      "Iteration 4, loss = 0.29316816\n",
      "Iteration 5, loss = 0.28941080\n",
      "Iteration 6, loss = 0.28298497\n",
      "Iteration 7, loss = 0.28026642\n",
      "Iteration 8, loss = 0.27664653\n",
      "Iteration 9, loss = 0.27362688\n",
      "Iteration 10, loss = 0.27120615\n",
      "Iteration 11, loss = 0.27034494\n",
      "Iteration 12, loss = 0.26742114\n",
      "Iteration 13, loss = 0.26635317\n",
      "Iteration 14, loss = 0.26509477\n",
      "Iteration 15, loss = 0.26397231\n",
      "Iteration 16, loss = 0.26351863\n",
      "Iteration 17, loss = 0.26199793\n",
      "Iteration 18, loss = 0.26096685\n",
      "Iteration 19, loss = 0.26009051\n",
      "Iteration 20, loss = 0.25978640\n",
      "Iteration 21, loss = 0.25919729\n",
      "Iteration 22, loss = 0.25743412\n",
      "Iteration 23, loss = 0.25696892\n",
      "Iteration 24, loss = 0.25583268\n",
      "Iteration 25, loss = 0.25467297\n",
      "Iteration 26, loss = 0.25388040\n",
      "Iteration 27, loss = 0.25349928\n",
      "Iteration 28, loss = 0.25268283\n",
      "Iteration 29, loss = 0.25223779\n",
      "Iteration 30, loss = 0.25264445\n",
      "Iteration 31, loss = 0.24990331\n",
      "Iteration 32, loss = 0.24930324\n",
      "Iteration 33, loss = 0.24928468\n",
      "Iteration 34, loss = 0.24904676\n",
      "Iteration 35, loss = 0.24797530\n",
      "Iteration 36, loss = 0.24714660\n",
      "Iteration 37, loss = 0.24591576\n",
      "Iteration 38, loss = 0.24549030\n",
      "Iteration 39, loss = 0.24485175\n",
      "Iteration 40, loss = 0.24461651\n",
      "Iteration 41, loss = 0.24413873\n",
      "Iteration 42, loss = 0.24433027\n",
      "Iteration 43, loss = 0.24365743\n",
      "Iteration 44, loss = 0.24272767\n",
      "Iteration 45, loss = 0.24264871\n",
      "Iteration 46, loss = 0.24153836\n",
      "Iteration 47, loss = 0.24271686\n",
      "Iteration 48, loss = 0.24019303\n",
      "Iteration 49, loss = 0.23978993\n",
      "Iteration 50, loss = 0.23985999\n",
      "Iteration 51, loss = 0.23870699\n",
      "Iteration 52, loss = 0.23806121\n",
      "Iteration 53, loss = 0.23777552\n",
      "Iteration 54, loss = 0.23786658\n",
      "Iteration 55, loss = 0.23646665\n",
      "Iteration 56, loss = 0.23632453\n",
      "Iteration 57, loss = 0.23604182\n",
      "Iteration 58, loss = 0.23568327\n",
      "Iteration 59, loss = 0.23556145\n",
      "Iteration 60, loss = 0.23523211\n",
      "Iteration 61, loss = 0.23424914\n",
      "Iteration 62, loss = 0.23417606\n",
      "Iteration 63, loss = 0.23377056\n",
      "Iteration 64, loss = 0.23365471\n",
      "Iteration 65, loss = 0.23205699\n",
      "Iteration 66, loss = 0.23350034\n",
      "Iteration 67, loss = 0.23110822\n",
      "Iteration 68, loss = 0.23245513\n",
      "Iteration 69, loss = 0.23061379\n",
      "Iteration 70, loss = 0.23259609\n",
      "Iteration 71, loss = 0.23064855\n",
      "Iteration 72, loss = 0.22963459\n",
      "Iteration 73, loss = 0.22893961\n",
      "Iteration 74, loss = 0.22806374\n",
      "Iteration 75, loss = 0.22952400\n",
      "Iteration 76, loss = 0.22799081\n",
      "Iteration 77, loss = 0.22807686\n",
      "Training loss did not improve more than tol=0.000100 for two consecutive epochs. Stopping.\n"
     ]
    },
    {
     "data": {
      "text/plain": [
       "0.8828125"
      ]
     },
     "execution_count": 269,
     "metadata": {},
     "output_type": "execute_result"
    }
   ],
   "source": [
    "mlp = MLPClassifier(hidden_layer_sizes=(50,), max_iter=80, alpha=1e-4,\n",
    "                    solver='sgd', verbose=10, tol=1e-4, random_state=1,\n",
    "                    learning_rate_init=.1)\n",
    "mlp.fit(X_train, y_train)\n",
    "mlp.score(X_test, y_test)"
   ]
  },
  {
   "cell_type": "code",
   "execution_count": 270,
   "metadata": {},
   "outputs": [
    {
     "name": "stdout",
     "output_type": "stream",
     "text": [
      "Iteration 1, loss = 0.56786347\n",
      "Iteration 2, loss = 0.43915574\n",
      "Iteration 3, loss = 0.44835248\n",
      "Iteration 4, loss = 0.42751679\n",
      "Iteration 5, loss = 0.41148089\n",
      "Iteration 6, loss = 0.40552256\n",
      "Iteration 7, loss = 0.39508168\n",
      "Iteration 8, loss = 0.38495468\n",
      "Iteration 9, loss = 0.37367880\n",
      "Iteration 10, loss = 0.36288753\n",
      "Iteration 11, loss = 0.35124142\n",
      "Iteration 12, loss = 0.33968862\n",
      "Iteration 13, loss = 0.32861042\n",
      "Iteration 14, loss = 0.31953869\n",
      "Iteration 15, loss = 0.31203648\n",
      "Iteration 16, loss = 0.30560200\n",
      "Iteration 17, loss = 0.30003744\n",
      "Iteration 18, loss = 0.29763128\n",
      "Iteration 19, loss = 0.29488835\n",
      "Iteration 20, loss = 0.29084272\n",
      "Iteration 21, loss = 0.29021414\n",
      "Iteration 22, loss = 0.28847572\n",
      "Iteration 23, loss = 0.28768719\n",
      "Iteration 24, loss = 0.28596345\n",
      "Iteration 25, loss = 0.28547379\n",
      "Iteration 26, loss = 0.28491396\n",
      "Iteration 27, loss = 0.28459570\n",
      "Iteration 28, loss = 0.28564175\n",
      "Iteration 29, loss = 0.28341766\n",
      "Iteration 30, loss = 0.28384752\n",
      "Iteration 31, loss = 0.28178787\n",
      "Iteration 32, loss = 0.28190548\n",
      "Iteration 33, loss = 0.28169766\n",
      "Iteration 34, loss = 0.28324285\n",
      "Training loss did not improve more than tol=0.000100 for two consecutive epochs. Stopping.\n"
     ]
    },
    {
     "data": {
      "text/plain": [
       "0.86875"
      ]
     },
     "execution_count": 270,
     "metadata": {},
     "output_type": "execute_result"
    }
   ],
   "source": [
    "mlp.fit(X_train2, y_train)\n",
    "mlp.score(X_test2, y_test)"
   ]
  },
  {
   "cell_type": "markdown",
   "metadata": {},
   "source": [
    "The accuracy we get on the test data for our multi-layer perceptron classifier model is about 87-88%. The model scaled by StandardScaler has a slightly better performance."
   ]
  },
  {
   "cell_type": "markdown",
   "metadata": {},
   "source": [
    "Next, we apply SGD classifer to classify the wine quality. We use soft-margin linear support vector machine as the loss function and apply L2 regularization as the penalty for the classification."
   ]
  },
  {
   "cell_type": "code",
   "execution_count": 271,
   "metadata": {},
   "outputs": [],
   "source": [
    "from sklearn.linear_model import SGDClassifier"
   ]
  },
  {
   "cell_type": "code",
   "execution_count": 272,
   "metadata": {},
   "outputs": [],
   "source": [
    "sgd = SGDClassifier(loss=\"hinge\", penalty=\"l2\", max_iter=100)"
   ]
  },
  {
   "cell_type": "code",
   "execution_count": 273,
   "metadata": {},
   "outputs": [
    {
     "data": {
      "text/plain": [
       "SGDClassifier(alpha=0.0001, average=False, class_weight=None, epsilon=0.1,\n",
       "       eta0=0.0, fit_intercept=True, l1_ratio=0.15,\n",
       "       learning_rate='optimal', loss='hinge', max_iter=100, n_iter=None,\n",
       "       n_jobs=1, penalty='l2', power_t=0.5, random_state=None,\n",
       "       shuffle=True, tol=None, verbose=0, warm_start=False)"
      ]
     },
     "execution_count": 273,
     "metadata": {},
     "output_type": "execute_result"
    }
   ],
   "source": [
    "sgd.fit(X_train, y_train)"
   ]
  },
  {
   "cell_type": "code",
   "execution_count": 274,
   "metadata": {},
   "outputs": [
    {
     "data": {
      "text/plain": [
       "0.859375"
      ]
     },
     "execution_count": 274,
     "metadata": {},
     "output_type": "execute_result"
    }
   ],
   "source": [
    "sgd.score(X_test, y_test)"
   ]
  },
  {
   "cell_type": "code",
   "execution_count": 275,
   "metadata": {},
   "outputs": [
    {
     "data": {
      "text/plain": [
       "SGDClassifier(alpha=0.0001, average=False, class_weight=None, epsilon=0.1,\n",
       "       eta0=0.0, fit_intercept=True, l1_ratio=0.15,\n",
       "       learning_rate='optimal', loss='hinge', max_iter=100, n_iter=None,\n",
       "       n_jobs=1, penalty='l2', power_t=0.5, random_state=None,\n",
       "       shuffle=True, tol=None, verbose=0, warm_start=False)"
      ]
     },
     "execution_count": 275,
     "metadata": {},
     "output_type": "execute_result"
    }
   ],
   "source": [
    "sgd.fit(X_train2, y_train)"
   ]
  },
  {
   "cell_type": "code",
   "execution_count": 276,
   "metadata": {},
   "outputs": [
    {
     "data": {
      "text/plain": [
       "0.8671875"
      ]
     },
     "execution_count": 276,
     "metadata": {},
     "output_type": "execute_result"
    }
   ],
   "source": [
    "sgd.score(X_test2, y_test)"
   ]
  },
  {
   "cell_type": "markdown",
   "metadata": {},
   "source": [
    "The accuracy we get for our stochastic gradient descent model is approximately 86-87%."
   ]
  },
  {
   "cell_type": "markdown",
   "metadata": {},
   "source": [
    "Finally, we use decision tree classifier to perform classification on our wine dataset."
   ]
  },
  {
   "cell_type": "code",
   "execution_count": 278,
   "metadata": {},
   "outputs": [],
   "source": [
    "from sklearn.tree import DecisionTreeClassifier"
   ]
  },
  {
   "cell_type": "code",
   "execution_count": 279,
   "metadata": {},
   "outputs": [
    {
     "data": {
      "text/plain": [
       "0.859375"
      ]
     },
     "execution_count": 279,
     "metadata": {},
     "output_type": "execute_result"
    }
   ],
   "source": [
    "dt = DecisionTreeClassifier(random_state=6)\n",
    "dt.fit(X_train, y_train)\n",
    "dt.score(X_test, y_test)"
   ]
  },
  {
   "cell_type": "code",
   "execution_count": 296,
   "metadata": {},
   "outputs": [
    {
     "data": {
      "text/plain": [
       "0.8296875"
      ]
     },
     "execution_count": 296,
     "metadata": {},
     "output_type": "execute_result"
    }
   ],
   "source": [
    "dt2 = DecisionTreeClassifier(random_state=7)\n",
    "dt2.fit(X_train2, y_train)\n",
    "dt2.score(X_test2, y_test)"
   ]
  },
  {
   "cell_type": "markdown",
   "metadata": {},
   "source": [
    "If we set the RandomState instance to be 6, the accuracy we get for our decision tree model is approximately 86% for StandardScaler and approximately 83% for MinMaxScaler."
   ]
  },
  {
   "cell_type": "markdown",
   "metadata": {},
   "source": [
    "### Evaluating the Performance"
   ]
  },
  {
   "cell_type": "markdown",
   "metadata": {},
   "source": [
    "Now we are going to use cross-validation to estimate the accuracy of our model. We use cross_val_score to split the dataset, fit the model and compute the score 5 times. The accuracy for each split is displayed below.            "
   ]
  },
  {
   "cell_type": "code",
   "execution_count": 281,
   "metadata": {},
   "outputs": [],
   "source": [
    "from sklearn.model_selection import cross_val_score"
   ]
  },
  {
   "cell_type": "code",
   "execution_count": 282,
   "metadata": {},
   "outputs": [
    {
     "data": {
      "text/plain": [
       "0.8642935966171544"
      ]
     },
     "execution_count": 282,
     "metadata": {},
     "output_type": "execute_result"
    }
   ],
   "source": [
    "clf = svm.SVC(kernel='linear', C=1)\n",
    "scores = cross_val_score(clf, X, y, cv=5)\n",
    "scores.mean()"
   ]
  },
  {
   "cell_type": "markdown",
   "metadata": {},
   "source": [
    "So we can see that the accuracy for our SVM is approximately 86%. "
   ]
  },
  {
   "cell_type": "markdown",
   "metadata": {},
   "source": [
    "Similarily, we use cross-validation to estimate the accuracy for our decision tree model. The accuracy we get after   computing the score 10 times is approximately 86%."
   ]
  },
  {
   "cell_type": "code",
   "execution_count": 283,
   "metadata": {},
   "outputs": [
    {
     "data": {
      "text/plain": [
       "0.8642981659439822"
      ]
     },
     "execution_count": 283,
     "metadata": {},
     "output_type": "execute_result"
    }
   ],
   "source": [
    "dt = DecisionTreeClassifier(random_state=6)\n",
    "scores = cross_val_score(clf, X, y, cv=10)\n",
    "scores.mean()"
   ]
  },
  {
   "cell_type": "markdown",
   "metadata": {},
   "source": [
    "Using the same method, we estimate the accuracy for our SGD classifer. The accuracy we get is around 81%."
   ]
  },
  {
   "cell_type": "code",
   "execution_count": 284,
   "metadata": {},
   "outputs": [
    {
     "data": {
      "text/plain": [
       "0.8141762384747617"
      ]
     },
     "execution_count": 284,
     "metadata": {},
     "output_type": "execute_result"
    }
   ],
   "source": [
    "sgd = SGDClassifier(loss=\"hinge\", penalty=\"l2\", max_iter=100)\n",
    "scores = cross_val_score(sgd, X, y, cv=20)\n",
    "scores.mean()"
   ]
  },
  {
   "cell_type": "markdown",
   "metadata": {},
   "source": [
    "Similarly, the accuracy for multi-layer perceptron classifier model is around 86%."
   ]
  },
  {
   "cell_type": "code",
   "execution_count": 285,
   "metadata": {},
   "outputs": [
    {
     "name": "stdout",
     "output_type": "stream",
     "text": [
      "Iteration 1, loss = 3.25918393\n",
      "Iteration 2, loss = 0.43512985\n",
      "Iteration 3, loss = 0.39782026\n",
      "Iteration 4, loss = 0.39863581\n",
      "Iteration 5, loss = 0.39676409\n",
      "Iteration 6, loss = 0.39883975\n",
      "Iteration 7, loss = 0.39909641\n",
      "Iteration 8, loss = 0.39966431\n",
      "Training loss did not improve more than tol=0.000100 for two consecutive epochs. Stopping.\n",
      "Iteration 1, loss = 3.15950700\n",
      "Iteration 2, loss = 0.39760664\n",
      "Iteration 3, loss = 0.41603681\n",
      "Iteration 4, loss = 0.38947199\n",
      "Iteration 5, loss = 0.39024360\n",
      "Iteration 6, loss = 0.40443593\n",
      "Iteration 7, loss = 0.40053076\n",
      "Training loss did not improve more than tol=0.000100 for two consecutive epochs. Stopping.\n",
      "Iteration 1, loss = 9.02066679\n",
      "Iteration 2, loss = 0.40019019\n",
      "Iteration 3, loss = 0.40984443\n",
      "Iteration 4, loss = 0.40885464\n",
      "Iteration 5, loss = 0.40685156\n",
      "Training loss did not improve more than tol=0.000100 for two consecutive epochs. Stopping.\n",
      "Iteration 1, loss = 9.01967377\n",
      "Iteration 2, loss = 0.40416917\n",
      "Iteration 3, loss = 0.40938647\n",
      "Iteration 4, loss = 0.41318309\n",
      "Iteration 5, loss = 0.40413746\n",
      "Training loss did not improve more than tol=0.000100 for two consecutive epochs. Stopping.\n",
      "Iteration 1, loss = 6.91162287\n",
      "Iteration 2, loss = 0.40625003\n",
      "Iteration 3, loss = 0.38990551\n",
      "Iteration 4, loss = 0.38417228\n",
      "Iteration 5, loss = 0.37681340\n",
      "Iteration 6, loss = 0.39418473\n",
      "Iteration 7, loss = 0.38617288\n",
      "Iteration 8, loss = 0.37596615\n",
      "Iteration 9, loss = 0.37907918\n",
      "Iteration 10, loss = 0.37726875\n",
      "Iteration 11, loss = 0.37820453\n",
      "Training loss did not improve more than tol=0.000100 for two consecutive epochs. Stopping.\n",
      "Iteration 1, loss = 8.63159691\n",
      "Iteration 2, loss = 0.39833685\n",
      "Iteration 3, loss = 0.40225332\n",
      "Iteration 4, loss = 0.39036937\n",
      "Iteration 5, loss = 0.39687885\n",
      "Iteration 6, loss = 0.39219528\n",
      "Iteration 7, loss = 0.38966284\n",
      "Iteration 8, loss = 0.38130372\n",
      "Iteration 9, loss = 0.38371649\n",
      "Iteration 10, loss = 0.40116182\n",
      "Iteration 11, loss = 0.38308093\n",
      "Training loss did not improve more than tol=0.000100 for two consecutive epochs. Stopping.\n",
      "Iteration 1, loss = 7.01377203\n",
      "Iteration 2, loss = 0.40438939\n",
      "Iteration 3, loss = 0.41265873\n",
      "Iteration 4, loss = 0.41886217\n",
      "Iteration 5, loss = 0.41255036\n",
      "Training loss did not improve more than tol=0.000100 for two consecutive epochs. Stopping.\n",
      "Iteration 1, loss = 3.22808088\n",
      "Iteration 2, loss = 0.39032554\n",
      "Iteration 3, loss = 0.42860710\n",
      "Iteration 4, loss = 0.40312841\n",
      "Iteration 5, loss = 0.40027873\n",
      "Training loss did not improve more than tol=0.000100 for two consecutive epochs. Stopping.\n",
      "Iteration 1, loss = 3.24496151\n",
      "Iteration 2, loss = 0.40078803\n",
      "Iteration 3, loss = 0.42263585\n",
      "Iteration 4, loss = 0.40108695\n",
      "Iteration 5, loss = 0.40042114\n",
      "Iteration 6, loss = 0.40219674\n",
      "Iteration 7, loss = 0.40176701\n",
      "Iteration 8, loss = 0.40078953\n",
      "Training loss did not improve more than tol=0.000100 for two consecutive epochs. Stopping.\n",
      "Iteration 1, loss = 3.27777929\n",
      "Iteration 2, loss = 0.39860471\n",
      "Iteration 3, loss = 0.42636037\n",
      "Iteration 4, loss = 0.40138543\n",
      "Iteration 5, loss = 0.39588742\n",
      "Iteration 6, loss = 0.37963946\n",
      "Iteration 7, loss = 0.37593665\n",
      "Iteration 8, loss = 0.40072038\n",
      "Iteration 9, loss = 0.38798826\n",
      "Iteration 10, loss = 0.38465069\n",
      "Training loss did not improve more than tol=0.000100 for two consecutive epochs. Stopping.\n"
     ]
    },
    {
     "data": {
      "text/plain": [
       "0.8642981659439822"
      ]
     },
     "execution_count": 285,
     "metadata": {},
     "output_type": "execute_result"
    }
   ],
   "source": [
    "mlp = MLPClassifier(hidden_layer_sizes=(50,), max_iter=80, alpha=1e-4,\n",
    "                    solver='sgd', verbose=10, tol=1e-4, random_state=1,\n",
    "                    learning_rate_init=.1)\n",
    "scores = cross_val_score(mlp, X, y, cv=10)\n",
    "scores.mean()"
   ]
  },
  {
   "cell_type": "markdown",
   "metadata": {},
   "source": [
    "### Summary and  reference"
   ]
  },
  {
   "cell_type": "markdown",
   "metadata": {},
   "source": [
    "This tutorial introduces some basic approaches to do data visualizition, feature engineering and classification algorithms. Much more details can be found in the following links."
   ]
  },
  {
   "cell_type": "markdown",
   "metadata": {},
   "source": [
    "http://blog.yhat.com/tutorials/5-Feature-Engineering.html\n",
    "\n",
    "https://pandas.pydata.org/pandas-docs/stable/generated/pandas.cut.html\n",
    "\n",
    "https://www.kaggle.com/vishalyo990/prediction-of-quality-of-wine\n",
    "\n",
    "http://scikit-learn.org/stable/modules/generated/sklearn.preprocessing.StandardScaler.html\n",
    "\n",
    "https://en.wikipedia.org/wiki/Feature_scaling\n",
    "\n",
    "http://scikit-learn.org/stable/modules/cross_validation.html\n",
    "\n",
    "http://scikit-learn.org/stable/modules/generated/sklearn.neural_network.MLPClassifier.html#sklearn.neural_network.MLPClassifier"
   ]
  }
 ],
 "metadata": {
  "kernelspec": {
   "display_name": "Python 3",
   "language": "python",
   "name": "python3"
  },
  "language_info": {
   "codemirror_mode": {
    "name": "ipython",
    "version": 3
   },
   "file_extension": ".py",
   "mimetype": "text/x-python",
   "name": "python",
   "nbconvert_exporter": "python",
   "pygments_lexer": "ipython3",
   "version": "3.6.1"
  }
 },
 "nbformat": 4,
 "nbformat_minor": 2
}
