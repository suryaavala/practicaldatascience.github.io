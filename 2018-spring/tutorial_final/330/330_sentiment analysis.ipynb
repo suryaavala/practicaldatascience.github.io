{
 "cells": [
  {
   "cell_type": "markdown",
   "metadata": {},
   "source": [
    "# Tutorial Overview\n",
    "The purpose of this tutorial is walking you through the whole process of sentiment analysis by building deep learning models. Sentiment analysis is a binary classifier to determine whether a piece of text is postive or negative, so that the attitude of a author can be derived. Sentiment analysis is widely used in marketing, political election, and public opinion analysis. This toturial will use a Python deep learning library Keras to build models by different approaches, and evaluate performance by several benchmarks.\n",
    "### Outcome\n",
    "After reading this tutorial you will know:\n",
    "- How to prepare and preprocese data to make it available to build deep learning models\n",
    "- How to use deep learning packages (Keras and Tensorflow) to build models\n",
    "- How to develop and fit CNN (Convolutional Neural Network) and RNN (Recurrent Neural Network) for sentiment classfication\n",
    "- How to tune parameters and configration of neural networks to improve correctness\n",
    "- How to use Tweepy to pull out data from Twitter to evaluate performance by unseen data\n",
    "\n",
    "\n",
    "### Dataset Description\n",
    "We will use [IMDB Movie Review](http://ai.stanford.edu/~amaas/data/sentiment/) to train our models. You can learn more and download the dataset through the link. The dataset contains a set of 25,000 highly polar movie reviews. In this tutorial, only the data from training dataset will be used, including 12,500 positive and negative reviews, the data is in pos and neg folders.\n",
    "\n",
    "\n",
    "### Table of Contents:\n",
    "- [Installing the libraries](#Installing-Libraries)\n",
    "- [Data Loading and Preprocessing](#Data-Loading-and-Preprocessing)\n",
    "- [Convolutional Neural Network Model](#Convolutional-Neural-Network-Model)\n",
    "- [LSTM Recurrent Neural Network Model](#LSTM-Recurrent-Neural-Network-Model)\n",
    "- [Performance Compare with TextBlob and Future Work](#Performance-Compare-with-TextBlob-and-Future-Work)\n",
    "- [Reference](#Reference)"
   ]
  },
  {
   "cell_type": "markdown",
   "metadata": {},
   "source": [
    "# Installing Libraries\n",
    "\n",
    "This tutorial is developed to run under Python 3.7. The packages we need to install are:\n",
    "\n",
    "- Keras: Keras is a Python deep learning library building on Tensorflow and Theano\n",
    "- Tweepy: Tweepy make is easier retrive Twitter by Twitter API\n",
    "- TextBlob: TextBlob is a Python library for NLP tasks such as sentiment analysis, POS etc\n",
    "- Numpy, Pandas, Matplotlib\n",
    "\n",
    "All of them can be installed by:\n",
    "\n",
    "    $ conda install package_name\n",
    "\n"
   ]
  },
  {
   "cell_type": "markdown",
   "metadata": {},
   "source": [
    "# Data Loading and Preprocessing\n",
    "\n",
    "Loading and Cleaning data\n",
    "Row 5 stores tweet content. Row 0 indicates if the sentiment of this tweet is postive (0 means negative, 1 means positive)\n",
    "\n",
    "Cleaning rule:\n",
    "1. remove those rows that either sentiment or content is missing\n",
    "2. extract sentiment and tweet content row\n",
    "3. shuffle rows to mix positive and negative tweets"
   ]
  },
  {
   "cell_type": "markdown",
   "metadata": {},
   "source": [
    "## Data Loading\n",
    "\n",
    "Download the dataset from Stanford AI website: http://ai.stanford.edu/~amaas/data/sentiment/, unzip and only keep the \"train\" folder. There shoule be \"neg\" and \"pos\" subfolders within. \n",
    "\n",
    "We load the dataset by Blob and Pandas. Blob will read all the files with the extension \".txt\" into a Python list. Then positive and negative reviews and their corresponding labels are assemble into a Pandas dataframe, and shuffle the dataframe to mix positive and negative reviews. Finally, we calculate the average review length for further vectorizing use."
   ]
  },
  {
   "cell_type": "code",
   "execution_count": 111,
   "metadata": {
    "collapsed": true
   },
   "outputs": [],
   "source": [
    "import numpy as np\n",
    "import pandas as pd\n",
    "import glob"
   ]
  },
  {
   "cell_type": "code",
   "execution_count": 112,
   "metadata": {},
   "outputs": [],
   "source": [
    "# GetReviews will read all files into a Python list, and return the list.\n",
    "# Each item in the list is a file content\n",
    "def getReviews(path):\n",
    "    # read all files with .txt \n",
    "    path = path + '*.txt'\n",
    "    files = glob.glob(path)\n",
    "    review = []\n",
    "    for file in files:\n",
    "        text = open(file).read()\n",
    "        review.append(text)\n",
    "    return review"
   ]
  },
  {
   "cell_type": "code",
   "execution_count": 113,
   "metadata": {},
   "outputs": [
    {
     "data": {
      "text/html": [
       "<div>\n",
       "<style>\n",
       "    .dataframe thead tr:only-child th {\n",
       "        text-align: right;\n",
       "    }\n",
       "\n",
       "    .dataframe thead th {\n",
       "        text-align: left;\n",
       "    }\n",
       "\n",
       "    .dataframe tbody tr th {\n",
       "        vertical-align: top;\n",
       "    }\n",
       "</style>\n",
       "<table border=\"1\" class=\"dataframe\">\n",
       "  <thead>\n",
       "    <tr style=\"text-align: right;\">\n",
       "      <th></th>\n",
       "      <th>Sentiment</th>\n",
       "      <th>Text</th>\n",
       "    </tr>\n",
       "  </thead>\n",
       "  <tbody>\n",
       "    <tr>\n",
       "      <th>0</th>\n",
       "      <td>1</td>\n",
       "      <td>I don't know what movie some of these other people watched, but they must have seen a different ...</td>\n",
       "    </tr>\n",
       "    <tr>\n",
       "      <th>1</th>\n",
       "      <td>0</td>\n",
       "      <td>I just couldn't stop laughing!! This movie is incredibly funny and stupid! But, never mind that,...</td>\n",
       "    </tr>\n",
       "    <tr>\n",
       "      <th>2</th>\n",
       "      <td>1</td>\n",
       "      <td>I happened to watch this movie by chance some days ago while flipping channels. My expectations ...</td>\n",
       "    </tr>\n",
       "    <tr>\n",
       "      <th>3</th>\n",
       "      <td>0</td>\n",
       "      <td>Ok, first the good: Cher's performance and the cinematography. Although I'm no Cher fan, she giv...</td>\n",
       "    </tr>\n",
       "    <tr>\n",
       "      <th>4</th>\n",
       "      <td>1</td>\n",
       "      <td>There is one detail, which is not very common for Jackie Chan movies, but which is present here....</td>\n",
       "    </tr>\n",
       "  </tbody>\n",
       "</table>\n",
       "</div>"
      ],
      "text/plain": [
       "   Sentiment                                                                                                 Text\n",
       "0          1  I don't know what movie some of these other people watched, but they must have seen a different ...\n",
       "1          0  I just couldn't stop laughing!! This movie is incredibly funny and stupid! But, never mind that,...\n",
       "2          1  I happened to watch this movie by chance some days ago while flipping channels. My expectations ...\n",
       "3          0  Ok, first the good: Cher's performance and the cinematography. Although I'm no Cher fan, she giv...\n",
       "4          1  There is one detail, which is not very common for Jackie Chan movies, but which is present here...."
      ]
     },
     "execution_count": 113,
     "metadata": {},
     "output_type": "execute_result"
    }
   ],
   "source": [
    "# load positive reviews from train folder\n",
    "pos_reviews = getReviews('./aclImdb/train/pos/')\n",
    "# label positive reviews as 1\n",
    "pos_label = [1] * len(pos_reviews) \n",
    "# load negative reviews from train folder\n",
    "neg_reviews = getReviews('./aclImdb/train/neg/')\n",
    "# label negatibe reviews as 0\n",
    "neg_label = [0] * len(pos_reviews) \n",
    "df = pd.DataFrame(\n",
    "    {'Sentiment': pos_label + neg_label,\n",
    "    'Text': pos_reviews + neg_reviews\n",
    "    })\n",
    "df = df.sample(frac=1).reset_index(drop=True) # shuffle\n",
    "# show the summary of the dataset\n",
    "df.head()"
   ]
  },
  {
   "cell_type": "code",
   "execution_count": 114,
   "metadata": {},
   "outputs": [
    {
     "name": "stdout",
     "output_type": "stream",
     "text": [
      "Tweet length: \n",
      "Mean 233.79 words (173.729557)\n"
     ]
    },
    {
     "data": {
      "image/png": "[encoded data removed]",
      "text/plain": [
       "<matplotlib.figure.Figure at 0x130c585f8>"
      ]
     },
     "metadata": {},
     "output_type": "display_data"
    }
   ],
   "source": [
    "import matplotlib\n",
    "import matplotlib.pyplot as plt\n",
    "# average length of tweets\n",
    "print(\"Tweet length: \")\n",
    "result = [len(x.split()) for x in df.Text]\n",
    "print(\"Mean %.2f words (%f)\" % (np.mean(result), np.std(result)))\n",
    "# plot review length\n",
    "plt.boxplot(result)\n",
    "plt.show()"
   ]
  },
  {
   "cell_type": "raw",
   "metadata": {},
   "source": [
    "From the boxplot we can find the average review length is 234 with a 174 standard deviation. So we set the length fo review as 400 to cover most of the reviews"
   ]
  },
  {
   "cell_type": "markdown",
   "metadata": {},
   "source": [
    "## Preprocessing \n",
    "\n",
    "In this part, we perform text preprocessing on the tweet corpus using NLP techniques.\n",
    "Keras requires the input format a matrix with shape(a, b), where a is the number of reviews, and b is the sequence length of each review (which is 400 in this case)"
   ]
  },
  {
   "cell_type": "markdown",
   "metadata": {},
   "source": [
    "The first step is vectorizing the text corpus. We tokenize tweets using keras.preprocessing.text package. After tokenizing, texts are encoded as a sequence of integer value\n",
    "\n",
    "We only keep the most common 10,000 words after removing all punctuation"
   ]
  },
  {
   "cell_type": "code",
   "execution_count": 115,
   "metadata": {},
   "outputs": [],
   "source": [
    "from keras.preprocessing.text import Tokenizer\n",
    "docs = df.Text\n",
    "max_words = 10000\n",
    "# create the tokenizer\n",
    "t = Tokenizer(num_words=max_words)\n",
    "# fit the tokenizer on the documents\n",
    "t.fit_on_texts(docs)\n",
    "# encode documents in the dataset using the fitted tokenizer\n",
    "encoded_docs = t.texts_to_sequences(docs)\n",
    "# print(encoded_docs)"
   ]
  },
  {
   "cell_type": "markdown",
   "metadata": {},
   "source": [
    "Then we pads sequence to make every review has the same length\n",
    "(400 is the length of one review)"
   ]
  },
  {
   "cell_type": "code",
   "execution_count": 131,
   "metadata": {},
   "outputs": [
    {
     "name": "stdout",
     "output_type": "stream",
     "text": [
      "(25000, 400)\n",
      "[[   0    0    0 ...,  146   11   17]\n",
      " [   0    0    0 ...,   73   50  438]\n",
      " [   0    0    0 ...,  287    3  103]\n",
      " ..., \n",
      " [   0    0    0 ...,    5   64    9]\n",
      " [   0    0    0 ...,  718  155  155]\n",
      " [   0    0    0 ...,   20  126 4178]]\n"
     ]
    }
   ],
   "source": [
    "from keras import preprocessing\n",
    "max_length = 400\n",
    "# pad or remove values from the start of each sequence\n",
    "encoded_docs = preprocessing.sequence.pad_sequences(encoded_docs, maxlen=max_length)\n",
    "print (encoded_docs.shape)\n",
    "print (encoded_docs)"
   ]
  },
  {
   "cell_type": "markdown",
   "metadata": {},
   "source": [
    "## Split dataset\n",
    "Split the dataset into training (50%) and validation (50%) sets"
   ]
  },
  {
   "cell_type": "code",
   "execution_count": 117,
   "metadata": {},
   "outputs": [],
   "source": [
    "from sklearn.model_selection import train_test_split\n",
    "X_train, X_test, y_train, y_test = train_test_split(encoded_docs, df.Sentiment, test_size=0.5, shuffle=True)"
   ]
  },
  {
   "cell_type": "markdown",
   "metadata": {},
   "source": [
    "# Convolutional Neural Network Model\n",
    "\n",
    "In this part, we will used the dataframe we created in the last part to develop a Convolutional Neural Network model. CNN is designed to analyze spatial structure data or imagery data. As we have converted every review to a sequence of words. The sequence of words can be treated as a one-dimensional vector, then CNN can learn to recognize sentence structure as recognizing images."
   ]
  },
  {
   "cell_type": "markdown",
   "metadata": {},
   "source": [
    "## Build CNN Model \n",
    "\n",
    "In this part, we will walk through every layer of the CNN model we build.\n",
    "\n",
    "1. The first layer is an Embedding layer, which is the input layer. The basic idea of word embedding is turning postive integers into dense vectors, so that each word is mapped into a high-dimensioanl space. In this tutorial, we set embedding_dim as 64, which means each word is represented as a 64-dimension vector\n",
    "\n",
    "2. After the embedding layer, there is a Conv1D layer.Conv1D is used for one dimensional data. This layer will use 32 different siliding windows and the size of each window is 3.\n",
    "\n",
    "3. Next is a MaxPooling1D layer for temporal data to sample features from a 2*2 area\n",
    "\n",
    "4. Then We flatten the input layer into one dimensional\n",
    "\n",
    "5. Since the output is eithor 0 or 1, the output layer has one neuron and activated by sigmoid\n"
   ]
  },
  {
   "cell_type": "code",
   "execution_count": 118,
   "metadata": {},
   "outputs": [
    {
     "name": "stdout",
     "output_type": "stream",
     "text": [
      "_________________________________________________________________\n",
      "Layer (type)                 Output Shape              Param #   \n",
      "=================================================================\n",
      "embedding_9 (Embedding)      (None, 400, 64)           640000    \n",
      "_________________________________________________________________\n",
      "conv1d_3 (Conv1D)            (None, 400, 32)           6176      \n",
      "_________________________________________________________________\n",
      "max_pooling1d_3 (MaxPooling1 (None, 200, 32)           0         \n",
      "_________________________________________________________________\n",
      "flatten_3 (Flatten)          (None, 6400)              0         \n",
      "_________________________________________________________________\n",
      "dense_13 (Dense)             (None, 250)               1600250   \n",
      "_________________________________________________________________\n",
      "dense_14 (Dense)             (None, 1)                 251       \n",
      "=================================================================\n",
      "Total params: 2,246,677\n",
      "Trainable params: 2,246,677\n",
      "Non-trainable params: 0\n",
      "_________________________________________________________________\n",
      "None\n",
      "Train on 12500 samples, validate on 12500 samples\n",
      "Epoch 1/5\n",
      " - 21s - loss: 0.5564 - acc: 0.6856 - val_loss: 0.4673 - val_acc: 0.7905\n",
      "Epoch 2/5\n",
      " - 20s - loss: 0.2528 - acc: 0.8989 - val_loss: 0.2980 - val_acc: 0.8817\n",
      "Epoch 3/5\n",
      " - 19s - loss: 0.1667 - acc: 0.9372 - val_loss: 0.2717 - val_acc: 0.8901\n",
      "Epoch 4/5\n",
      " - 20s - loss: 0.1066 - acc: 0.9638 - val_loss: 0.3238 - val_acc: 0.8870\n",
      "Epoch 5/5\n",
      " - 19s - loss: 0.0615 - acc: 0.9806 - val_loss: 0.3700 - val_acc: 0.8862\n"
     ]
    }
   ],
   "source": [
    "import numpy\n",
    "from keras.models import Sequential\n",
    "from keras.layers import Embedding, SimpleRNN, Dense, Flatten\n",
    "from keras.layers.convolutional import MaxPooling1D, Conv1D\n",
    "# Use a 64-dimension vector to represent each word\n",
    "embedding_dim = 64\n",
    "# create the model\n",
    "cnn_model = Sequential()\n",
    "cnn_model.add(Embedding(max_words, embedding_dim, input_length=max_length))\n",
    "cnn_model.add(Conv1D(filters=32, kernel_size=3, padding='same', activation='relu'))\n",
    "cnn_model.add(MaxPooling1D(pool_size=2))\n",
    "cnn_model.add(Flatten())\n",
    "cnn_model.add(Dense(250, activation='relu'))\n",
    "cnn_model.add(Dense(1, activation='sigmoid'))\n",
    "# Complie the model\n",
    "cnn_model.compile(loss='binary_crossentropy', \n",
    "              optimizer='rmsprop',\n",
    "              metrics=['accuracy'])\n",
    "print(cnn_model.summary())\n",
    "\n",
    "# Train the model, training the model 5 times, using 128 samples in each pass\n",
    "history = cnn_model.fit(X_train, y_train, \n",
    "          validation_data=(X_test, y_test), \n",
    "          epochs=5, batch_size=128, verbose=2)"
   ]
  },
  {
   "cell_type": "markdown",
   "metadata": {},
   "source": [
    "## Performance Evaluation\n",
    "\n",
    "In this part, we can see how performace changes by epochs and the its final accuracy"
   ]
  },
  {
   "cell_type": "code",
   "execution_count": 119,
   "metadata": {},
   "outputs": [
    {
     "name": "stdout",
     "output_type": "stream",
     "text": [
      "Accuracy: 88.62%\n"
     ]
    },
    {
     "data": {
      "image/png": "[encoded data removed]",
      "text/plain": [
       "<matplotlib.figure.Figure at 0x145f0ecc0>"
      ]
     },
     "metadata": {},
     "output_type": "display_data"
    }
   ],
   "source": [
    "# Final evaluation of the model\n",
    "scores = cnn_model.evaluate(X_test, y_test, verbose=0)\n",
    "print(\"Accuracy: %.2f%%\" % (scores[1]*100))\n",
    "\n",
    "acc = history.history['acc']\n",
    "val_acc = history.history['val_acc']\n",
    "epochs = range(1, len(acc) + 1)\n",
    "plt.plot(epochs, acc, 'bo', label='Training acc')\n",
    "plt.plot(epochs, val_acc, 'b', label='Validation acc')\n",
    "plt.title('Training and validation accuracy')\n",
    "plt.legend()\n",
    "plt.show()"
   ]
  },
  {
   "cell_type": "markdown",
   "metadata": {},
   "source": [
    "# LSTM Recurrent Neural Network Model"
   ]
  },
  {
   "cell_type": "markdown",
   "metadata": {},
   "source": [
    "In this part, we will work with Recurrent Neural Network to develop another model. Long Short Term Memory (LSTM) is used to improve the performace of RNN. One of the problems of RNN is that when the length of a text growing, even though it is designed to learn recurrently, it loses the ability to connect to information far away. In order to address the long-term dependency problem, so that the model can remember information for long period of time. \n",
    "\n",
    "The difference between LSTM and CNN model is that the Conv1D and MaxPooling layer are replaced by LSTM layer. In our case, we use 200 units as memory units and set dropout to address overfitting issue\n",
    "\n",
    "The LSTM model is activated by Sigmoid as Sigmoid can output 0 or 1, it can help the model decide to store or forget certain information."
   ]
  },
  {
   "cell_type": "code",
   "execution_count": 120,
   "metadata": {},
   "outputs": [
    {
     "name": "stdout",
     "output_type": "stream",
     "text": [
      "_________________________________________________________________\n",
      "Layer (type)                 Output Shape              Param #   \n",
      "=================================================================\n",
      "embedding_10 (Embedding)     (None, 400, 32)           320000    \n",
      "_________________________________________________________________\n",
      "lstm_7 (LSTM)                (None, 100)               53200     \n",
      "_________________________________________________________________\n",
      "dense_15 (Dense)             (None, 1)                 101       \n",
      "=================================================================\n",
      "Total params: 373,301\n",
      "Trainable params: 373,301\n",
      "Non-trainable params: 0\n",
      "_________________________________________________________________\n",
      "Train on 12500 samples, validate on 12500 samples\n",
      "Epoch 1/1\n"
     ]
    }
   ],
   "source": [
    "from keras.models import Sequential\n",
    "from keras.layers import Embedding, Dense, LSTM\n",
    "np.random.seed(7)\n",
    "lstm_model = Sequential()\n",
    "embedding_dim = 32\n",
    "lstm_model.add(Embedding(max_words, embedding_dim, input_length = max_length))\n",
    "# We use a LSTM layer\n",
    "lstm_model.add(LSTM(100, dropout=0.2, recurrent_dropout=0.2))\n",
    "cnn_model.add(Dense(250, activation='relu'))\n",
    "lstm_model.add(Dense(1, activation='sigmoid'))\n",
    "lstm_model.summary()\n",
    "# Complie the model\n",
    "lstm_model.compile(optimizer='adam',\n",
    "              loss='binary_crossentropy',\n",
    "              metrics=['acc'])\n",
    "\n",
    "history = lstm_model.fit(X_train, y_train, \n",
    "          validation_data=(X_test, y_test), \n",
    "          epochs=1, batch_size=64, verbose=4)"
   ]
  },
  {
   "cell_type": "code",
   "execution_count": 128,
   "metadata": {},
   "outputs": [
    {
     "name": "stdout",
     "output_type": "stream",
     "text": [
      "Accuracy: 83.26%\n"
     ]
    }
   ],
   "source": [
    "# Final evaluation of the model\n",
    "scores = lstm_model.evaluate(X_test, y_test, verbose=0)\n",
    "print(\"Accuracy: %.2f%%\" % (scores[1]*100))"
   ]
  },
  {
   "cell_type": "markdown",
   "metadata": {},
   "source": [
    "# Example Application: Analyze Tweet Sentiment\n",
    "\n",
    "In this part, we use the trained model to predict the sentiments of Donald Trump's twitter. First, we use Twitter API together with an library Tweepy to pull Trump's tweets. Then we preprocess the tweets by the same rules we process the training dataset.  \n",
    "\n",
    "** The filter rule is designed for extracting contents from Trump's twitter account. If you try other's Twitter, the function may fail due to the format of tweet**"
   ]
  },
  {
   "cell_type": "code",
   "execution_count": 122,
   "metadata": {},
   "outputs": [],
   "source": [
    "import tweepy\n",
    "def getTweetsByName(query):\n",
    "    consumer_key = 'bxA0fKeNXosrxAVnD9vEopblj'\n",
    "    consumer_secret = 'gU55fTD7fxyrwxS9irs7DTzHALoKGqAbCwV8bhP8AY50vDpqLK'\n",
    "    access_token = '4518122892-fn6CoLOGqMuD1b0IxNCqx5tbKIRJZTtRucoFeeM'\n",
    "    access_token_secret = '2Osqvjqsn5Py8Yf773xVUv4jRsYIOvwn3SGyQTNFygG9w'\n",
    "    \n",
    "    auth = tweepy.OAuthHandler(consumer_key = consumer_key, \n",
    "                               consumer_secret = consumer_secret)\n",
    "    auth.set_access_token(access_token, access_token_secret)\n",
    "\n",
    "    api = tweepy.API(auth)\n",
    "    tweets = api.user_timeline(screen_name=query)\n",
    "    res = []\n",
    "    for tweet in tweets:\n",
    "        text = tweet.text.strip()\n",
    "        # filter out tweets without text, which only contains video or link\n",
    "        if text.startswith('https'):\n",
    "            continue\n",
    "        # remove \"RT\" (Retweet label)\n",
    "        if text.startswith('RT @'):\n",
    "            text = text[text.find(':') + 1:]\n",
    "        # extract text from tweet, removing link\n",
    "        idx = text.find('https')\n",
    "        # if no link in this tweet\n",
    "        if idx == -1:\n",
    "            res.append(text)\n",
    "        # otherwise remove link\n",
    "        else:\n",
    "            res.append(text[:idx])\n",
    "    return res"
   ]
  },
  {
   "cell_type": "markdown",
   "metadata": {},
   "source": [
    "Call the function to retrive tweets and preprocess to the tokenizer we trained before"
   ]
  },
  {
   "cell_type": "code",
   "execution_count": 123,
   "metadata": {},
   "outputs": [],
   "source": [
    "# \n",
    "docs = getTweetsByName('realDonaldTrump')\n",
    "processed_docs = t.texts_to_sequences(docs)\n",
    "processed_docs = preprocessing.sequence.pad_sequences(processed_docs, maxlen=max_length, padding='post', truncating='post')"
   ]
  },
  {
   "cell_type": "markdown",
   "metadata": {},
   "source": [
    "We use the trained model to predict the first 20 tweets from trump.\n",
    "\n",
    "** One reason causing inaccuracy: **\n",
    "\n",
    "One reason may lead to the inaccurate prediction is the length difference between training dataset and tweets. \n",
    "\n",
    "The averge length of movie reviews is 300, while that of tweet is 70. Due to the limited number of words, models may hard extract enough features to make prediction"
   ]
  },
  {
   "cell_type": "code",
   "execution_count": 124,
   "metadata": {
    "scrolled": true
   },
   "outputs": [
    {
     "name": "stdout",
     "output_type": "stream",
     "text": [
      "(19, 400)\n",
      "    Score By CNN                                                                                                Tweet\n",
      "0       0.716297  Governor Jerry “Moonbeam” Brown pardoned 5 criminal illegal aliens whose crimes include (1) Kidn...\n",
      "1       0.551064  ...does not include the Fake Washington Post, which is used as a “lobbyist” and should so  REGIS...\n",
      "2       0.447002  While we are on the subject, it is reported that the U.S. Post Office will lose $1.50 on average...\n",
      "3       0.749204  Washington spent trillions building up foreign countries while allowing OUR OWN infrastructure t...\n",
      "4       0.627715  JOBS, JOBS, JOBS! Unemployment claims have fallen to a 45-year low. Together, we are making the ...\n",
      "5       0.593934  We are going to REBUILD our crumbling infrastructure, and there is no better place to begin this...\n",
      "6       0.515603  I have stated my concerns with Amazon long before the Election. Unlike others, they pay little o...\n",
      "7       0.588390  ....In the interim, Hon. Robert Wilkie of DOD will serve as Acting Secretary. I am thankful for ...\n",
      "8       0.601905  I am pleased to announce that I intend to nominate highly respected Admiral Ronny L. Jackson, MD...\n",
      "9       0.639244                             Great briefing this afternoon on the start of our Southern Border WALL! \n",
      "10      0.740487  ....release known dangerous criminals into communities across the State. All citizens have the r...\n",
      "11      0.694244  My Administration stands in solidarity with the brave citizens in Orange County defending their ...\n",
      "12      0.670796  .@USTradeRep just announced an agreement in principle with South Korea on KORUS! A great deal fo...\n",
      "13      0.627706  Received message last night from XI JINPING of China that his meeting with KIM JONG UN went very...\n",
      "14      0.574347  For years and through many administrations, everyone said that peace and the denuclearization of...\n",
      "15      0.586153  THE SECOND AMENDMENT WILL NEVER BE REPEALED! As much as Democrats would like to see this happen,...\n",
      "16      0.639235  I am very pleased to welcome the opioid memorial to the President's Park in April. I encourage a...\n",
      "17      0.586778   Because of the $700 &amp; $716 Billion Dollars gotten to rebuild our Military, many jobs are cr...\n",
      "18      0.572932  Trade talks going on with numerous countries that, for many years, have not treated the United S...\n"
     ]
    }
   ],
   "source": [
    "# pd.options.display.max_colwidth = 100\n",
    "# makeing predictions \n",
    "print (processed_docs.shape)\n",
    "sentiments_cnn = cnn_model.predict(processed_docs)\n",
    "# sentiments_rnn = lstm_model.predict(processed_docs)\n",
    "# combine tweets and corresponding sentiment together\n",
    "predict_df = pd.DataFrame(\n",
    "    {'Score By CNN': sentiments_cnn.flatten(),\n",
    "    'Tweet': docs\n",
    "    })\n",
    "print (predict_df)"
   ]
  },
  {
   "cell_type": "markdown",
   "metadata": {},
   "source": [
    "# Performance Compare with TextBlob and Future Work\n",
    "\n",
    "In this part, we compare the performance between the model we trained using IMDB dataset and a third-party NLP library TextBlob. TextBlob allows the content as input and predict the sentiment is positive, negative or neutral. "
   ]
  },
  {
   "cell_type": "code",
   "execution_count": 126,
   "metadata": {},
   "outputs": [
    {
     "name": "stdout",
     "output_type": "stream",
     "text": [
      "    Score By CNN                                              Tweet TextBlob_Result\n",
      "0       0.716297  Governor Jerry “Moonbeam” Brown pardoned 5 cri...        negative\n",
      "1       0.551064  ...does not include the Fake Washington Post, ...        negative\n",
      "2       0.447002  While we are on the subject, it is reported th...        negative\n",
      "3       0.749204  Washington spent trillions building up foreign...        positive\n",
      "4       0.627715  JOBS, JOBS, JOBS! Unemployment claims have fal...        positive\n",
      "5       0.593934  We are going to REBUILD our crumbling infrastr...        negative\n",
      "6       0.515603  I have stated my concerns with Amazon long bef...        negative\n",
      "7       0.588390  ....In the interim, Hon. Robert Wilkie of DOD ...         neutral\n",
      "8       0.601905  I am pleased to announce that I intend to nomi...        positive\n",
      "9       0.639244  Great briefing this afternoon on the start of ...        positive\n",
      "10      0.740487  ....release known dangerous criminals into com...        negative\n",
      "11      0.694244  My Administration stands in solidarity with th...        positive\n",
      "12      0.670796  .@USTradeRep just announced an agreement in pr...        positive\n",
      "13      0.627706  Received message last night from XI JINPING of...        positive\n",
      "14      0.574347  For years and through many administrations, ev...        positive\n",
      "15      0.586153  THE SECOND AMENDMENT WILL NEVER BE REPEALED! A...        positive\n",
      "16      0.639235  I am very pleased to welcome the opioid memori...        positive\n",
      "17      0.586778   Because of the $700 &amp; $716 Billion Dollar...        positive\n",
      "18      0.572932  Trade talks going on with numerous countries t...        positive\n"
     ]
    }
   ],
   "source": [
    "pd.options.display.max_colwidth = 50\n",
    "from textblob import TextBlob\n",
    "textbolb_res = []\n",
    "for doc in docs:\n",
    "    # predict using textblob\n",
    "    analysis = TextBlob(doc)\n",
    "    # set sentiment\n",
    "    if analysis.sentiment.polarity > 0:\n",
    "        textbolb_res.append('positive')\n",
    "    elif analysis.sentiment.polarity == 0:\n",
    "        textbolb_res.append( 'neutral')\n",
    "    else:\n",
    "        textbolb_res.append ('negative')\n",
    "predict_df['TextBlob_Result'] = pd.Series(textbolb_res)\n",
    "print (predict_df)"
   ]
  },
  {
   "cell_type": "markdown",
   "metadata": {},
   "source": [
    "## Future Work\n",
    "- In this tutorial, we train the embedding layer using the IMDB dataset. To improve accuracy, we can try to use some pre-trained word embeddings such as GloVe and word2vec\n",
    "- We can use larger dataset with more epochs to improve  performance\n",
    "- We can always add more hidden layers and tune the parameters to improve performance"
   ]
  },
  {
   "cell_type": "markdown",
   "metadata": {},
   "source": [
    "# Reference\n",
    "- http://colah.github.io/posts/2015-08-Understanding-LSTMs/\n",
    "- https://machinelearningmastery.com/predict-sentiment-movie-reviews-using-deep-learning/\n",
    "- http://deeplearning.net/tutorial/lstm.html\n",
    "- https://towardsdatascience.com/understanding-lstm-and-its-quick-implementation-in-keras-for-sentiment-analysis-af410fd85b47\n",
    "- http://ai.stanford.edu/~amaas/data/sentiment/"
   ]
  },
  {
   "cell_type": "code",
   "execution_count": null,
   "metadata": {
    "collapsed": true
   },
   "outputs": [],
   "source": []
  }
 ],
 "metadata": {
  "kernelspec": {
   "display_name": "Python 3",
   "language": "python",
   "name": "python3"
  },
  "language_info": {
   "codemirror_mode": {
    "name": "ipython",
    "version": 3
   },
   "file_extension": ".py",
   "mimetype": "text/x-python",
   "name": "python",
   "nbconvert_exporter": "python",
   "pygments_lexer": "ipython3",
   "version": "3.6.3"
  }
 },
 "nbformat": 4,
 "nbformat_minor": 2
}