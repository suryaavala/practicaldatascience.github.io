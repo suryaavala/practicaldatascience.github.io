{
 "cells": [
  {
   "cell_type": "markdown",
   "metadata": {},
   "source": [
    "# Introduction to PySpark and Application in Exploratory Data Analysis\n",
    "\n",
    "## Apache Spark\n",
    "Due to the invention of the internet and the increasing 3V (volume, variety, and velocity) of data, data scientists and engineers nowadays need to deal with terabytes of data in a more distributed way to facilitate the speed of the data science pipeline. In this tutorial, I'm going to introduce Apache Spark, an open-source cluster-computing framework, and its application in big data processing as well as exploratory data analysis. Spark provides APIs for several high-level programming languages including Python and Scala so that the programmers could easily develop MapReduce data processing programs at their convenience. The major advantage of Spark over tranditional MapReduce is that it supports in-memory computing, which could significantly improve the runtime performance. Spark also provides advanced libraries such as Spark MLlib and GraphX for distributed machine learning and graph processing on top of Apache Spark. After introducing the basics of Spark, I'll briefly introduce the Latent Dirichlet Allocation topic modeling functionality in PySpark MLlib in the last section of this tutorial."
   ]
  },
  {
   "cell_type": "markdown",
   "metadata": {},
   "source": [
    "### Package Installation\n",
    "\n",
    "In this tutorial, we are going to use several different libraries for data processing and visualizations.\n",
    "Most of the libraries like findspark, csv, and seaborn could be installed using pip.\n",
    "```\n",
    "pip install package_name\n",
    "```\n",
    "\n",
    "As for Apache Spark, you can follow <a href=\"https://medium.com/@GalarnykMichael/install-spark-on-mac-pyspark-453f395f240b\">this tutorial</a> for installing it on your computer."
   ]
  },
  {
   "cell_type": "markdown",
   "metadata": {},
   "source": [
    "\n",
    "### PySpark Initiatialization\n",
    "\n",
    "After successfully install PySpark, you can use findspark package and its ```init()``` method to automatically configure the path of PySpark and makes Spark on you system importable as a regular module.<br>\n",
    "\n",
    "Introduction to findspark package:<br>\n",
    "https://github.com/minrk/findspark<br>\n",
    "https://pypi.python.org/pypi/findspark"
   ]
  },
  {
   "cell_type": "code",
   "execution_count": 1,
   "metadata": {},
   "outputs": [],
   "source": [
    "import findspark\n",
    "findspark.init()"
   ]
  },
  {
   "cell_type": "markdown",
   "metadata": {},
   "source": [
    "```init()``` will make pyspark importable. After importing pyspark, we need to create a SparkContext object. SparkContext will serve as an entry point for accessing Spark functionalities and Spark cluster (if connected to a cluster). I'll use the Apache Spark version 2.2.1 in standalone mode for the sake of demo to conduct this tutorial."
   ]
  },
  {
   "cell_type": "code",
   "execution_count": 2,
   "metadata": {},
   "outputs": [
    {
     "data": {
      "text/html": [
       "\n",
       "        <div>\n",
       "            <p><b>SparkContext</b></p>\n",
       "\n",
       "            <p><a href=\"http://192.168.0.2:4040\">Spark UI</a></p>\n",
       "\n",
       "            <dl>\n",
       "              <dt>Version</dt>\n",
       "                <dd><code>v2.2.1</code></dd>\n",
       "              <dt>Master</dt>\n",
       "                <dd><code>local[*]</code></dd>\n",
       "              <dt>AppName</dt>\n",
       "                <dd><code>test</code></dd>\n",
       "            </dl>\n",
       "        </div>\n",
       "        "
      ],
      "text/plain": [
       "<SparkContext master=local[*] appName=test>"
      ]
     },
     "execution_count": 2,
     "metadata": {},
     "output_type": "execute_result"
    }
   ],
   "source": [
    "import random\n",
    "import csv\n",
    "import json\n",
    "import pandas as pd\n",
    "import numpy as np\n",
    "import matplotlib.pyplot as plt\n",
    "%matplotlib inline\n",
    "import collections\n",
    "import re\n",
    "import seaborn as sns\n",
    "import pyspark\n",
    "sc = pyspark.SparkContext(appName=\"test\")\n",
    "sc"
   ]
  },
  {
   "cell_type": "markdown",
   "metadata": {},
   "source": [
    "### Resilient Distributed Datasets (RDDs)\n",
    "In Spark, the basic unit of data trunk is called \"Resilient Distributed Dataset\" (RDD). RDD enables the user to split the data into partitions, then Spark could distributes the partitions into multiple workers to run operations in parallel. By making ```transformations``` and ```actions``` on data, Spark could work with a large amount of data in a distributed, MapReduce fashion. There are two ways of generating a RDD in Spark, and here I demonstrate the first one: parallelize a Python collection (iterable) to construct a RDD."
   ]
  },
  {
   "cell_type": "code",
   "execution_count": 3,
   "metadata": {},
   "outputs": [
    {
     "name": "stdout",
     "output_type": "stream",
     "text": [
      "The length of the data is 5\n",
      "Type of the parallelized data is <class 'pyspark.rdd.RDD'>\n",
      "Type of collected data is <class 'list'> \n",
      "Processed data is [1, 2, 3, 4, 5]\n"
     ]
    }
   ],
   "source": [
    "# the optional \"numSlices\" parameter of parallelize could be used to partition data\n",
    "# into numSlices of pieces. Default value is None\n",
    "data = sc.parallelize([1,2,3,4,5], numSlices=None)\n",
    "print(\"The length of the data is %d\" % data.count())\n",
    "saved = data.collect()\n",
    "\n",
    "print(\"Type of the parallelized data is %s\" % type(data))\n",
    "print(\"Type of collected data is %s \" % type(saved))\n",
    "print(\"Processed data is %s\" % saved)"
   ]
  },
  {
   "cell_type": "markdown",
   "metadata": {},
   "source": [
    "The second way to generate a RDD is read from an external file. Here I created a toy text file called ```data.txt``` and read the text using PySpark."
   ]
  },
  {
   "cell_type": "code",
   "execution_count": 4,
   "metadata": {},
   "outputs": [
    {
     "name": "stdout",
     "output_type": "stream",
     "text": [
      "The length of the fileData is 4\n",
      "Type of collected data is <class 'list'> \n",
      "Processed data is ['My heart is in the work', 'But I have no idea where my mind is', \"Because I'm a workaholic\", 'CMU rules the world YOOO!']\n"
     ]
    }
   ],
   "source": [
    "fileData = sc.textFile(\"data.txt\")\n",
    "savedFile = fileData.collect()\n",
    "\n",
    "print(\"The length of the fileData is %d\" % fileData.count())\n",
    "print(\"Type of collected data is %s \" % type(savedFile))\n",
    "print(\"Processed data is %s\" % fileData.collect())"
   ]
  },
  {
   "cell_type": "markdown",
   "metadata": {},
   "source": [
    "## Basic operations on RDDs\n",
    "In Spark, there are two kinds of operations that user could perform on a RDD.<br>\n",
    "```Transformations``` will apply certain functions to the RDD and transform the data into the user-specified formats or values.<br>\n",
    "```Actions``` will compute the result of the RDD based on a certain criteria and return the result to the driver program.<br>"
   ]
  },
  {
   "cell_type": "markdown",
   "metadata": {},
   "source": [
    "### Transformation\n",
    "The transformation in Spark is \"lazy\", meaning that the transformation operation won't fire immediately, but only \"remembered\" by the RDD and be executed only if an action is requested. This feature significantly increase the efficiency of Spark programs because the program doesn't need to compute the large dataset if no one is trying to request the result of a computation on it.\n",
    "\n",
    "First, I'll show a common operation ```map(func)```, which will map the function to each element to transform a list. There are two common ways to pass in the transformation function to the data. You can either perform a transformation using a user-defined or built-in function, or using lambda expression (which is extremely convenient for a Python programmer). Note that we can chain-up the transformation upon a RDD. "
   ]
  },
  {
   "cell_type": "code",
   "execution_count": 5,
   "metadata": {},
   "outputs": [
    {
     "name": "stdout",
     "output_type": "stream",
     "text": [
      "[['My', 'heart', 'is', 'in', 'the', 'work'], ['But', 'I', 'have', 'no', 'idea', 'where', 'my', 'mind', 'is'], ['Because', \"I'm\", 'a', 'workaholic'], ['CMU', 'rules', 'the', 'world', 'YOOO!']]\n",
      "[6, 9, 4, 5]\n"
     ]
    }
   ],
   "source": [
    "# split the input sentence by space\n",
    "def splitWord(sentence):\n",
    "    return sentence.split()\n",
    "\n",
    "print(fileData.map(splitWord).collect())\n",
    "# print out the word counts of each sentence\n",
    "print(fileData.map(str.split).map(lambda x : len(x)).collect())"
   ]
  },
  {
   "cell_type": "code",
   "execution_count": 6,
   "metadata": {},
   "outputs": [
    {
     "name": "stdout",
     "output_type": "stream",
     "text": [
      "[['My', 'heart', 'is', 'in', 'the', 'work', 'asdasd'], ['But', 'I', 'have', 'no', 'idea', 'where', 'my', 'mind', 'is', 'asdasd'], ['Because', \"I'm\", 'a', 'workaholic', 'asdasd'], ['CMU', 'rules', 'the', 'world', 'YOOO!', 'asdasd']]\n"
     ]
    }
   ],
   "source": [
    "# perform a transformation using lambda expression\n",
    "splitedRDD = (fileData.map(lambda x : x.split())\n",
    "                      .map(lambda x : x + [\"asdasd\"]))\n",
    "print(splitedRDD.collect())"
   ]
  },
  {
   "cell_type": "markdown",
   "metadata": {},
   "source": [
    "Other interesting and powerful operations like flatMap, filter, and randomSample are also very useful for transforming data for further analysis.\n",
    "```flatMap(func)``` will process the input and output the processed data as a sequence but not a single list."
   ]
  },
  {
   "cell_type": "code",
   "execution_count": 7,
   "metadata": {},
   "outputs": [
    {
     "name": "stdout",
     "output_type": "stream",
     "text": [
      "Result of map: [['Hi,', \"I'm\", 'Tom'], ['Who', 'are', 'you?']]\n",
      "Result of flatMap: ['Hi,', \"I'm\", 'Tom', 'Who', 'are', 'you?']\n"
     ]
    }
   ],
   "source": [
    "testRDD = sc.parallelize([\"Hi, I'm Tom\", \"Who are you?\"])\n",
    "print(\"Result of map: %s\" % testRDD.map(lambda x : x.split()).collect())\n",
    "print(\"Result of flatMap: %s\" % testRDD.flatMap(lambda x : x.split()).collect())"
   ]
  },
  {
   "cell_type": "markdown",
   "metadata": {},
   "source": [
    "```filter(func)``` could be used to select elements on which the return value is true based on the criteria provided by the arg function."
   ]
  },
  {
   "cell_type": "code",
   "execution_count": 8,
   "metadata": {},
   "outputs": [
    {
     "name": "stdout",
     "output_type": "stream",
     "text": [
      "The first and last multiples of three in 1000 are: 0 and 999\n",
      "Number of multiples of three is 334\n"
     ]
    }
   ],
   "source": [
    "testNumRDD = sc.parallelize(range(1000))\n",
    "threeMultiples = testNumRDD.filter(lambda x : x % 3 == 0).collect()\n",
    "print(\"The first and last multiples of three in 1000 are: %s and %s\" % (threeMultiples[0], threeMultiples[-1]))\n",
    "print(\"Number of multiples of three is %d\" % len(threeMultiples))"
   ]
  },
  {
   "cell_type": "markdown",
   "metadata": {},
   "source": [
    "```randomSplit(weights, seed)``` could randomly partition the data into multiple chunks with different size based on the weights argument"
   ]
  },
  {
   "cell_type": "code",
   "execution_count": 9,
   "metadata": {},
   "outputs": [
    {
     "name": "stdout",
     "output_type": "stream",
     "text": [
      "Length of all data: 1000\n",
      "Length of rdd1 is 157, length of rdd2 is 314, length of rdd3 is 529.\n"
     ]
    }
   ],
   "source": [
    "weights = [10, 20, 30]\n",
    "seed = 0\n",
    "rdd1, rdd2, rdd3 = testNumRDD.randomSplit(weights, seed)\n",
    "print(\"Length of all data: %d\" % len(rdd1.collect() + rdd2.collect() + rdd3.collect()))\n",
    "print(\"Length of rdd1 is %d, length of rdd2 is %d, length of rdd3 is %d.\" % (rdd1.count(), rdd2.count(), rdd3.count()))"
   ]
  },
  {
   "cell_type": "markdown",
   "metadata": {},
   "source": [
    "```cartesian(otherRDD)``` could be used to generate cartesian product of two RDD"
   ]
  },
  {
   "cell_type": "code",
   "execution_count": 10,
   "metadata": {},
   "outputs": [
    {
     "name": "stdout",
     "output_type": "stream",
     "text": [
      "The cartesian product of the two RDD: [(1, 'a'), (1, 'b'), (1, 'c'), (2, 'a'), (2, 'b'), (2, 'c'), (3, 'a'), (3, 'b'), (3, 'c')]\n",
      "The length is 9, which is the product of the length of the two RDDs (3 * 3)\n"
     ]
    }
   ],
   "source": [
    "testRDD1 = sc.parallelize([1,2,3])\n",
    "testRDD2 = sc.parallelize([\"a\", \"b\", \"c\"])\n",
    "cartesianProductRDD = testRDD1.cartesian(testRDD2).collect()\n",
    "print(\"The cartesian product of the two RDD: %s\" % cartesianProductRDD)\n",
    "print(\"The length is %d, which is the product of the length of the two RDDs (%d * %d)\" % (len(cartesianProductRDD), testRDD1.count(), testRDD2.count()))"
   ]
  },
  {
   "cell_type": "markdown",
   "metadata": {},
   "source": [
    "### Actions\n",
    "Another category of operations in Spark is called \"actions\". Actions will be used to trigger the lazy transformation the RDD \"remembered\" and return the processed data to the user (driver program). One of the most common action is ```collect()```, which is simply retrieve the data after applying transformations on RDD.\n",
    "\n",
    "Some basic but useful actions include ```first()``` and ```count()```, which returns the first element and the element count of RDD, respectively."
   ]
  },
  {
   "cell_type": "code",
   "execution_count": 11,
   "metadata": {},
   "outputs": [
    {
     "name": "stdout",
     "output_type": "stream",
     "text": [
      "[6, 7, 8, 9, 10]\n",
      "The first element in the result is 6\n",
      "The number of elements in the result is 5\n",
      "The sum of the result is 40\n"
     ]
    }
   ],
   "source": [
    "dataRDD = sc.parallelize([1, 2, 3, 4, 5])\n",
    "addFiveRDD = dataRDD.map(lambda x : x + 5)\n",
    "\n",
    "print(addFiveRDD.collect())\n",
    "print(\"The first element in the result is %d\" % addFiveRDD.first())\n",
    "print(\"The number of elements in the result is %d\" % addFiveRDD.count())\n",
    "print(\"The sum of the result is %d\" % addFiveRDD.reduce(lambda x, y : x + y))"
   ]
  },
  {
   "cell_type": "markdown",
   "metadata": {},
   "source": [
    "```take(n)``` and ```takeOrdered(n, [ordering])``` can take the first n elements in the RDD with or without order."
   ]
  },
  {
   "cell_type": "code",
   "execution_count": 12,
   "metadata": {},
   "outputs": [
    {
     "name": "stdout",
     "output_type": "stream",
     "text": [
      "[517, 154, 313, 814, 702, 754, 123, 6, 769, 497, 675, 839, 107, 770, 886, 671, 442, 143, 398, 962]\n",
      "[517, 154, 313, 814, 702, 754, 123, 6, 769, 497]\n",
      "[6, 107, 123, 143, 154, 313, 398, 442, 497, 517]\n"
     ]
    }
   ],
   "source": [
    "randomNumsRDD = sc.parallelize(random.sample(range(1000), 20))\n",
    "print(randomNumsRDD.collect())\n",
    "print(randomNumsRDD.take(10))\n",
    "print(randomNumsRDD.takeOrdered(10))"
   ]
  },
  {
   "cell_type": "markdown",
   "metadata": {},
   "source": [
    "### Word Count\n",
    "So we now have some knowledge about how to manipulate data in Spark, let's do some basic application like computing the word count in my test document. Like other data engineering tools, we can perform groupby operations in Spark as we are using SQL or Pandas Dataframe. Here I show the way to count frequency of each word. First, I create a list of all words using flatMap to flatten all the splitted sentences.\n",
    "\n",
    "There are two common ways to do the key-value pairs counting. The first approach is grouping by the keys using ```groupByKey()``` then sum up the grouped values of each word.\n",
    "\n",
    "Another MapReduce-like technique is using ```reduceByKey(func)``` to group the data then aggregate it using the function provided as the argument. Generally speaking, using reduceByKey would have better readability and performance than using groupByKey to do split-apply-combine if the user wants to do aggregation on data after grouping it.\n"
   ]
  },
  {
   "cell_type": "code",
   "execution_count": 13,
   "metadata": {},
   "outputs": [
    {
     "name": "stdout",
     "output_type": "stream",
     "text": [
      "[('heart', 1), ('is', 2), ('in', 1), ('work', 1), ('But', 1), ('have', 1), ('no', 1), ('idea', 1), ('where', 1), ('mind', 1), ('Because', 1), ('rules', 1), ('world', 1), ('YOOO!', 1), ('My', 1), ('the', 2), ('I', 1), ('my', 1), (\"I'm\", 1), ('a', 1), ('workaholic', 1), ('CMU', 1)]\n",
      "\n",
      "[('heart', 1), ('is', 2), ('in', 1), ('work', 1), ('But', 1), ('have', 1), ('no', 1), ('idea', 1), ('where', 1), ('mind', 1), ('Because', 1), ('rules', 1), ('world', 1), ('YOOO!', 1), ('My', 1), ('the', 2), ('I', 1), ('my', 1), (\"I'm\", 1), ('a', 1), ('workaholic', 1), ('CMU', 1)]\n",
      "\n",
      "The groupedPairs and reducedPairs has the same result: True\n"
     ]
    }
   ],
   "source": [
    "wordPairs = (fileData.flatMap(str.split)\n",
    "                     .map(lambda x : (x, 1)))\n",
    "\n",
    "groupedPairs = wordPairs.groupByKey().map(lambda x : (x[0], sum(x[1]))).collect()\n",
    "print(groupedPairs)\n",
    "print()\n",
    "reducedPairs = wordPairs.reduceByKey(lambda x, y : x + y)\n",
    "reducedResult = reducedPairs.collect()\n",
    "print(reducedResult)\n",
    "print()\n",
    "print(\"The groupedPairs and reducedPairs has the same result: %s\" % (reducedResult == groupedPairs))"
   ]
  },
  {
   "cell_type": "markdown",
   "metadata": {},
   "source": [
    "# Exploratory Data Analysis using PySpark\n",
    "After learning the basic operations of PySpark, let's do some exploratory data analysis to further strengthen our knowledge of the tool by applying it in a real world dataset. Exploratory data analysis (EDA) is a procedure that can be employed on a dataset to uncover interesting trends or statistical meaning underlying the data.\n",
    "Here I'll use Youtube's top trending videos dataset, which acquired from Kaggle, and PySpark to perform EDA.\n",
    "\n",
    "The dataset contains top trending video data in five different countries including USA, Great Britain, Germany, Canada, and France. I'm going to focus on the US data and its corresponding category IDs in the JSON file. Firstly, let's define two helper functions to help us to transform the CSV and json file into RDDs and dictionaries for further usage.\n",
    "\n",
    "Due to the size limitation of size of the compressed file, you'll need to download the dataset if you wish to run the following code. You can find the youtube dataset here: <br>\n",
    "https://www.kaggle.com/datasnaek/youtube-new"
   ]
  },
  {
   "cell_type": "code",
   "execution_count": 14,
   "metadata": {},
   "outputs": [],
   "source": [
    "# load the data from CSV file to construct RDD\n",
    "def fileToRDD(filePath):\n",
    "    with open(filePath, \"r\") as f:\n",
    "        csvReader = csv.reader(f)\n",
    "        # extract header row and generate the column index mapping\n",
    "        header = csvReader.__next__()\n",
    "        headerMap = {value: index for index, value in enumerate(header)}\n",
    "        data = [row for row in csvReader]\n",
    "        dataRDD = sc.parallelize(data)\n",
    "    return dataRDD, headerMap\n",
    "            \n",
    "# Generate categoryID : categoryName mapping dictionary\n",
    "def getCategoryMap(filePath):\n",
    "    with open(filePath, \"r\") as f:\n",
    "        jsonData = json.load(f)[\"items\"]\n",
    "        categoriesMap = {elem[\"id\"]: elem[\"snippet\"][\"title\"] for elem in jsonData}\n",
    "        catNameIDMap = {elem[\"snippet\"][\"title\"]: elem[\"id\"] for elem in jsonData}\n",
    "    return categoriesMap, catNameIDMap\n",
    "\n",
    "rdd, headerMap = fileToRDD(\"youtube-new/USvideos.csv\")\n",
    "categoriesMap, catNameIDMap = getCategoryMap(\"youtube-new/US_category_id.json\")"
   ]
  },
  {
   "cell_type": "markdown",
   "metadata": {},
   "source": [
    "## Visualization for Analysis\n",
    "### Visualized Count of Categories and Tags Using Seaborn\n",
    "After constructing the essential RDD and mappings of data fields, we can finally start the exploratory data analysis! Let's start with checking what categories are the most and least famous among the videos."
   ]
  },
  {
   "cell_type": "code",
   "execution_count": 15,
   "metadata": {},
   "outputs": [
    {
     "name": "stdout",
     "output_type": "stream",
     "text": [
      "Total category of the videos are 16\n",
      "The most popular categories are [('Entertainment', 5073), ('Music', 3211), ('Howto & Style', 2041)]\n",
      "The least popular categories are [('Shows', 16), ('Nonprofits & Activism', 48), ('Travel & Events', 247)]\n"
     ]
    }
   ],
   "source": [
    "# Compute the number of each category in the top trending videos\n",
    "categoryRDD = (rdd.map(lambda x: (categoriesMap[x[headerMap[\"category_id\"]]], 1))\n",
    "                  .reduceByKey(lambda x, y: x + y))\n",
    "numOfCategories = categoryRDD.count()\n",
    "print(\"Total category of the videos are %d\" % numOfCategories)\n",
    "mostPopularCats = categoryRDD.takeOrdered(3, lambda x: -x[1])\n",
    "leastPopularCats = categoryRDD.takeOrdered(3, lambda x: x[1])\n",
    "print(\"The most popular categories are %s\" % mostPopularCats)\n",
    "print(\"The least popular categories are %s\" % leastPopularCats)"
   ]
  },
  {
   "cell_type": "markdown",
   "metadata": {},
   "source": [
    "Now let's visualize the categoryRDD in category to the video number using Seaborn's barplot function. Seaborn is a matplotlib-based package which can make the graph more visually appealing. Here I plot the bar plot horizontally using seaborn's ```barplot``` function.\n",
    "https://seaborn.pydata.org/generated/seaborn.barplot.html"
   ]
  },
  {
   "cell_type": "code",
   "execution_count": 16,
   "metadata": {},
   "outputs": [],
   "source": [
    "# Helper function for plotting seaborn's barplot\n",
    "def snsBarPlot(df, y, dpi):\n",
    "    print(df)\n",
    "    plt.figure(figsize=(8,6), dpi=dpi)\n",
    "    ax = sns.barplot(x = \"Number\", y = y, data = df)"
   ]
  },
  {
   "cell_type": "code",
   "execution_count": 17,
   "metadata": {},
   "outputs": [
    {
     "name": "stdout",
     "output_type": "stream",
     "text": [
      "                 Category  Number\n",
      "0           Entertainment    5073\n",
      "1                   Music    3211\n",
      "2           Howto & Style    2041\n",
      "3         News & Politics    1866\n",
      "4                  Comedy    1861\n",
      "5          People & Blogs    1760\n",
      "6    Science & Technology    1341\n",
      "7        Film & Animation    1238\n",
      "8                  Sports    1174\n",
      "9               Education     912\n",
      "10         Pets & Animals     558\n",
      "11       Autos & Vehicles     339\n",
      "12                 Gaming     280\n",
      "13        Travel & Events     247\n",
      "14  Nonprofits & Activism      48\n",
      "15                  Shows      16\n"
     ]
    },
    {
     "data": {
      "image/png": "[encoded data removed]",
      "text/plain": [
       "<matplotlib.figure.Figure at 0x10f22cc18>"
      ]
     },
     "metadata": {},
     "output_type": "display_data"
    }
   ],
   "source": [
    "allCategory = sorted(categoryRDD.collect(), key = lambda x: -x[1])\n",
    "cdf = pd.DataFrame(allCategory, columns=[\"Category\", \"Number\"])\n",
    "snsBarPlot(cdf, \"Category\", 80)"
   ]
  },
  {
   "cell_type": "markdown",
   "metadata": {},
   "source": [
    "I believe it's not surprising that the most popular categories are about \"Entertainment\", \"Music\", and \"Howto & Style\". Another keypoint of understanding the dataset is to examine the tags of the videos. By examing tags, we might have some knowledge about the popular things in that period of time."
   ]
  },
  {
   "cell_type": "code",
   "execution_count": 18,
   "metadata": {},
   "outputs": [
    {
     "name": "stdout",
     "output_type": "stream",
     "text": [
      "          Tag  Number\n",
      "0       funny    2041\n",
      "1      comedy    1878\n",
      "2      [none]     978\n",
      "3       music     857\n",
      "4        news     836\n",
      "5     trailer     711\n",
      "6      how to     692\n",
      "7         pop     671\n",
      "8        food     666\n",
      "9        2017     657\n",
      "10      humor     657\n",
      "11    science     653\n",
      "12  celebrity     628\n",
      "13        diy     615\n",
      "14  christmas     581\n",
      "15     review     579\n",
      "16      video     569\n",
      "17       2018     568\n",
      "18  interview     565\n",
      "19       live     561\n"
     ]
    },
    {
     "data": {
      "image/png": "[encoded data removed]",
      "text/plain": [
       "<matplotlib.figure.Figure at 0x10ee7edd8>"
      ]
     },
     "metadata": {},
     "output_type": "display_data"
    }
   ],
   "source": [
    "tagsRDD = (rdd.flatMap(lambda x: x[headerMap[\"tags\"]].lower().replace('\"', '').split(\"|\"))\n",
    "               .map(lambda x: (x, 1))\n",
    "               .reduceByKey(lambda x, y : x + y))\n",
    "\n",
    "top20Tags = tagsRDD.takeOrdered(20, lambda x: -x[1])\n",
    "tagDF = pd.DataFrame(top20Tags, columns=[\"Tag\", \"Number\"])\n",
    "snsBarPlot(tagDF, \"Tag\", 80)\n"
   ]
  },
  {
   "cell_type": "markdown",
   "metadata": {},
   "source": [
    "It seems like the tags has a trend that agrees with the count plot of the categories."
   ]
  },
  {
   "cell_type": "markdown",
   "metadata": {},
   "source": [
    "### Visualize \"likes\" and \"dislike\" Counts and Power Law\n",
    "Next, we might want to take a look at how many \"likes\" and \"dislikes\" each video receives and check is there any correlation between number of votes and the amount of the videos."
   ]
  },
  {
   "cell_type": "code",
   "execution_count": 19,
   "metadata": {},
   "outputs": [],
   "source": [
    "likesRDD = rdd.map(lambda x: int(x[headerMap[\"likes\"]])).collect()\n",
    "dislikesRDD = rdd.map(lambda x: int(x[headerMap[\"dislikes\"]])).collect()\n",
    "viewsRDD = rdd.map(lambda x: int(x[headerMap[\"views\"]])).collect()"
   ]
  },
  {
   "cell_type": "code",
   "execution_count": 20,
   "metadata": {},
   "outputs": [
    {
     "data": {
      "text/plain": [
       "Text(0,0.5,'Number of Videos')"
      ]
     },
     "execution_count": 20,
     "metadata": {},
     "output_type": "execute_result"
    },
    {
     "data": {
      "image/png": "[encoded data removed]",
      "text/plain": [
       "<matplotlib.figure.Figure at 0x1154e6470>"
      ]
     },
     "metadata": {},
     "output_type": "display_data"
    }
   ],
   "source": [
    "plt.hist(likesRDD, bins = [x * 10000 for x in range(100)])\n",
    "plt.xlabel(\"Views\")\n",
    "plt.ylabel(\"Number of Videos\")"
   ]
  },
  {
   "cell_type": "markdown",
   "metadata": {},
   "source": [
    "An interesting behavior of the voting data is that it follows <a href=\"https://en.wikipedia.org/wiki/Power_law\">\"Power Law\"</a>. Power law describes a \"functional relationship between two quantities, where a relative change in one quantity results in a proportional relative change in the other quantity\". \n",
    "\n",
    "If plots the data in ordinary scale, the plot will be a graph with a long right-tail. If plots the data in log-log scale, the graph will show a linear relationship between the two axses. You can tell that the data of \"like\" number is following power law from the log-log plot below.<br>\n"
   ]
  },
  {
   "cell_type": "code",
   "execution_count": 21,
   "metadata": {},
   "outputs": [
    {
     "data": {
      "image/png": "[encoded data removed]",
      "text/plain": [
       "<matplotlib.figure.Figure at 0x115c77940>"
      ]
     },
     "metadata": {},
     "output_type": "display_data"
    }
   ],
   "source": [
    "plt.hist(likesRDD, bins = [x * 10000 for x in range(100)])\n",
    "plt.xlabel(\"Views\")\n",
    "plt.ylabel(\"Number of Videos\")\n",
    "plt.xscale(\"log\", nonposx='clip')\n",
    "plt.yscale(\"log\", nonposy='clip')"
   ]
  },
  {
   "cell_type": "markdown",
   "metadata": {},
   "source": [
    "The data of \"dislike\" votes is also having a \"long-tail\" at the right of the graph and following the power law."
   ]
  },
  {
   "cell_type": "code",
   "execution_count": 22,
   "metadata": {},
   "outputs": [
    {
     "data": {
      "text/plain": [
       "Text(0,0.5,'Number of Videos')"
      ]
     },
     "execution_count": 22,
     "metadata": {},
     "output_type": "execute_result"
    },
    {
     "data": {
      "image/png": "[encoded data removed]",
      "text/plain": [
       "<matplotlib.figure.Figure at 0x10f7c8e48>"
      ]
     },
     "metadata": {},
     "output_type": "display_data"
    }
   ],
   "source": [
    "plt.hist(dislikesRDD, bins = [x * 1000 for x in range(10)])\n",
    "plt.xlabel(\"Views\")\n",
    "plt.ylabel(\"Number of Videos\")"
   ]
  },
  {
   "cell_type": "code",
   "execution_count": 23,
   "metadata": {},
   "outputs": [
    {
     "data": {
      "image/png": "[encoded data removed]",
      "text/plain": [
       "<matplotlib.figure.Figure at 0x10f7c8d30>"
      ]
     },
     "metadata": {},
     "output_type": "display_data"
    }
   ],
   "source": [
    "plt.hist(dislikesRDD, bins = [x * 1000 for x in range(10)])\n",
    "plt.xlabel(\"Views\")\n",
    "plt.ylabel(\"Number of Videos\")\n",
    "plt.xscale(\"log\", nonposx='clip')\n",
    "plt.yscale(\"log\", nonposy='clip')"
   ]
  },
  {
   "cell_type": "markdown",
   "metadata": {},
   "source": [
    "### Stopwords in The Most Popular Categories\n",
    "We can also check the unique words that each the most popular category has."
   ]
  },
  {
   "cell_type": "code",
   "execution_count": 24,
   "metadata": {},
   "outputs": [
    {
     "name": "stdout",
     "output_type": "stream",
     "text": [
      "23915 14118 16271\n"
     ]
    }
   ],
   "source": [
    "\n",
    "# Helper function for getting the decription of corresponding category ID\n",
    "def getDescription(catID, rdd):\n",
    "    return rdd.filter(lambda x: x[headerMap[\"category_id\"]] == catID).map(lambda x: x[headerMap[\"description\"]])\n",
    "\n",
    "# Helper function for processing the data to do the word count in the description of videos\n",
    "def processedDesc(rdd):\n",
    "    return rdd.flatMap(lambda x: x.lower().split()).map(lambda x: (x, 1)).reduceByKey(lambda x, y: x + y)\n",
    "\n",
    "entertainmentCatID = catNameIDMap[\"Entertainment\"]\n",
    "musicCatID = catNameIDMap[\"Music\"]\n",
    "styleCatID = catNameIDMap[\"Howto & Style\"]\n",
    "\n",
    "entertainmentDesc = getDescription(entertainmentCatID, rdd)\n",
    "musicDesc = getDescription(musicCatID, rdd)\n",
    "styleDesc = getDescription(styleCatID, rdd)\n",
    "\n",
    "processedEnter = processedDesc(entertainmentDesc)\n",
    "processedMusic = processedDesc(musicDesc)\n",
    "processedStyle = processedDesc(styleDesc)\n",
    "\n",
    "print(processedEnter.count(), processedMusic.count(), processedStyle.count())\n"
   ]
  },
  {
   "cell_type": "markdown",
   "metadata": {},
   "source": [
    "The most frequent words in the dataset are punctuations and some most common words in English like \"the\", \"I\", and \"of\", etc.\n",
    "These most common words are called \"stopwords\". When doing natural language processing (NLP), the data needs to be preprocessed to filter out the stopwords to get rid of the interference of the common but somewhat meaningless words. As you can see in the below output, Although the definition of stopwords is context-based and application-based, the stopword sets in this dataset across different categories seem to highly overlap with each other."
   ]
  },
  {
   "cell_type": "code",
   "execution_count": 25,
   "metadata": {},
   "outputs": [
    {
     "name": "stdout",
     "output_type": "stream",
     "text": [
      "[('the', 25006), ('and', 15000), ('_', 13856), ('to', 11414), ('on', 10166), ('of', 9523), ('a', 8001), ('in', 5992), ('-', 5984), ('with', 5794), ('for', 5692), ('is', 4393), ('by', 3433), ('you', 3360), ('from', 3122), ('this', 2947), ('at', 2585), ('as', 2561), ('all', 2525), ('more', 2476), ('i', 2374), ('my', 2257), ('show', 2084), ('that', 2071), ('new', 1844), ('|', 1844), ('&', 1841), ('out', 1766), ('late', 1658), ('it', 1640), ('here:', 1568), ('your', 1513), ('about', 1469), ('his', 1452), ('us', 1419), ('her', 1349), ('are', 1332), ('videos', 1263), ('up', 1259), ('be', 1232), ('our', 1206), ('an', 1155), ('instagram:', 1151), ('live', 1151), ('have', 1149), ('twitter:', 1148), ('facebook:', 1140), ('we', 1105), ('video', 1091), ('was', 1066), ('me', 1054), ('what', 1046), ('their', 1035), ('watch', 988), ('has', 976), ('or', 949), ('subscribe', 947), ('star', 946), ('but', 941), ('will', 928), ('netflix', 858), ('get', 855), ('can', 839), ('website:', 822), ('voice', 813), ('►', 804), ('who', 798), ('full', 794), ('so', 792), ('first', 778), ('they', 775), ('one', 766), ('e!', 760), ('jimmy', 755), ('kimmel', 754), ('movie', 750), ('how', 723), ('most', 721), ('news', 721), ('some', 703), ('every', 700), ('like', 699), ('cbs', 696), ('youtube', 694), ('channel', 690), ('music', 685), ('talk', 672), ('best', 671), ('film', 671), ('episode', 670), ('he', 669), ('james', 666), ('make', 666), ('off', 660), ('original', 655), ('not', 647), ('if', 642), ('only', 637), ('world', 632), ('celebrity', 624)]\n",
      "\n",
      "[('the', 7817), ('-', 4979), ('to', 4310), ('you', 3212), ('i', 3080), ('and', 2953), ('on', 2825), ('a', 2819), ('by', 2770), ('of', 2620), ('in', 2149), ('my', 2108), ('for', 1998), ('music', 1816), ('me', 1693), ('video', 1619), ('it', 1568), ('is', 1510), ('&', 1396), ('with', 1342), ('we', 1316), ('from', 1141), ('that', 1122), ('out', 1044), ('all', 1044), ('album', 1001), ('get', 949), ('available', 903), ('this', 884), ('new', 859), ('like', 853), ('performing', 806), ('|', 806), ('our', 806), ('just', 804), ('at', 801), ('be', 752), ('(c)', 721), ('here:', 713), ('your', 710), ('official', 706), ('know', 695), ('@', 642), ('now:', 615), ('are', 608), ('up', 608), ('2017', 582), ('more', 545), ('2018', 541), ('now', 539), ('love', 517), ('way', 513), ('us', 482), ('what', 477), (\"don't\", 450), ('want', 450), ('but', 439), ('music:', 432), ('think', 430), ('no', 416), ('when', 411), ('here', 399), ('\\\\n', 398), ('these', 388), ('can', 383), ('–', 380), ('so', 380), ('you,', 377), ('as', 373), ('where', 369), ('got', 366), ('or', 366), ('one', 358), (\"i'm\", 346), ('exclusive', 344), ('were', 343), ('never', 340), ('/', 335), ('stream', 334), ('was', 327), ('gonna', 326), ('▶', 304), ('not', 304), ('could', 299), ('say', 298), ('play', 297), ('make', 296), ('listen', 294), ('will', 286), ('don’t', 285), ('come', 285), ('it’s', 283), ('over', 281), ('\\\\nfollow', 281), ('back', 280), ('i’m', 274), ('tour', 273), ('little', 273), ('recordings,', 270), ('let', 265)]\n",
      "\n",
      "[('the', 8274), ('-', 8067), ('to', 6455), ('and', 6118), ('a', 4685), ('of', 4415), ('on', 3316), ('for', 3292), ('i', 3254), ('you', 3149), ('in', 3073), ('my', 2828), ('this', 2452), ('is', 2322), ('with', 2144), ('me', 1554), ('_', 1302), ('it', 1298), ('or', 1260), ('your', 1166), ('out', 1141), ('&', 1113), ('are', 1095), ('video', 1036), ('from', 1024), ('make', 959), ('that', 958), ('not', 944), ('by', 913), ('more', 879), ('we', 869), ('some', 862), ('new', 793), ('how', 781), ('like', 737), ('be', 731), ('all', 719), ('get', 715), ('makeup', 715), ('use', 697), ('if', 677), ('at', 658), ('so', 658), ('can', 634), ('e', 582), ('n', 578), ('but', 572), ('beauty', 568), ('videos', 561), ('t', 553), ('an', 543), ('as', 540), ('do', 525), ('o', 524), ('code', 517), ('links', 513), ('into', 510), ('refinery29', 505), ('will', 504), ('one', 503), ('any', 496), ('up', 483), ('cake', 472), ('food', 448), ('what', 446), ('our', 446), ('products', 436), ('have', 427), ('s', 426), ('//', 422), ('cosmetics', 418), ('see', 417), ('channel', 408), ('affiliate', 404), ('lip', 404), ('about', 402), ('instagram:', 380), ('was', 377), ('us', 373), ('channel:', 373), ('here', 370), ('love', 370), ('►', 356), ('c', 350), ('first', 349), ('check', 347), ('|', 342), ('subscribe', 339), ('other', 337), ('‣', 333), ('bon', 328), ('off', 327), ('no', 325), ('\\\\n', 321), ('these', 314), ('feast', 312), ('where', 308), ('here:', 305), (':', 305), ('brush', 299)]\n"
     ]
    }
   ],
   "source": [
    "print(processedEnter.takeOrdered(100, lambda x: -x[1]))\n",
    "print()\n",
    "print(processedMusic.takeOrdered(100, lambda x: -x[1]))\n",
    "print()\n",
    "print(processedStyle.takeOrdered(100, lambda x: -x[1]))"
   ]
  },
  {
   "cell_type": "markdown",
   "metadata": {},
   "source": [
    "# Topic Modeling using Latent Dirichlet Allocation \n",
    "\n",
    "In the last section of this tutorial, I would like to introduce the usage of PySpark MLlib and the application of the topic modeling model called <a href=\"https://en.wikipedia.org/wiki/Latent_Dirichlet_allocation\">\"Latent Dirichlet Allocation\"</a>.<br>\n",
    "\n",
    "\n",
    "Here I would like to do topic modeling on the description of the videos to classify them into 16 categories (the total number of categories in the dataset). Let's start with importing the essential libraries and the LDA model from the MLlib."
   ]
  },
  {
   "cell_type": "code",
   "execution_count": 26,
   "metadata": {},
   "outputs": [],
   "source": [
    "from pyspark.mllib.linalg import SparseVector\n",
    "from pyspark.mllib.clustering import LDA, LDAModel"
   ]
  },
  {
   "cell_type": "markdown",
   "metadata": {},
   "source": [
    "First step of the text handling is removing the stopwords from the corpus of descriptions. Here I arbitrarily set the number of stopwords to be 1000 and only consider the top 10000 most frequent words after removing the stopwords."
   ]
  },
  {
   "cell_type": "code",
   "execution_count": 27,
   "metadata": {},
   "outputs": [
    {
     "name": "stdout",
     "output_type": "stream",
     "text": [
      "['lipstick', 'helping', 'expert', 'nearly', 'picture', \"world's\", 'final', '20', 'large', 'fine', 'run', 'technology', 'them.', 'matter', '(and', 'tyler', 'hilarious', 'gilbert,', '(the', 'kitchen', 'sweet', 'four', 'educational', 'world’s', 'keeping', 'amazon:', 'science,', 'key', 'bravo:', 'honest', 'fallon', 'becoming', 'premier', 'b', 'shot', 'time.', 'commons', 'spend', 'mind', 'tim', 'coverage,', 'podcast', 'est', 'months', 'political', 'sarkis', 'patrons', '3d', 'delivered', 'launch', 'built', 'book:', 'store:', 'release', 'control', 'tells', 'women', 'now,', 'song:', 'amy', '30', 'edge', 'list', 'panther', 'short', 'sync', 'email:', 'smith,', 'main', 'giving', 'them,', 'views', 'lens:', 'meyers', 'tuned', 'recent', 'licensing', '12', 'lead', 'written', 'touch', '9', 'bright', 'professional', 'sean', 'theme', 'broadcast', 'bull', 'here!', '2017.', 'nfl:', 'ft.', 'richard', 'hang', 'title', 'teach', 'network:', 'often', 'island', 'per']\n",
      "\n",
      "10000\n"
     ]
    }
   ],
   "source": [
    "numStopWords = 1000\n",
    "filteredRDD = (rdd.map(lambda x: x[headerMap[\"description\"]])\n",
    "                   .flatMap(lambda x: x.lower().split())\n",
    "                   .filter(lambda x: not x.startswith(\"http\") and not x.startswith(\"\\\\\"))\n",
    "                   .map(lambda x: (x, 1))\n",
    "                   .reduceByKey(lambda x, y: x + y))\n",
    "\n",
    "sortedFreq = sorted(filteredRDD.collect(), key = lambda x: -x[1])\n",
    "uniqueWords = [x[0] for x in sortedFreq[numStopWords:numStopWords + 10000]]\n",
    "print(uniqueWords[:100])\n",
    "print()\n",
    "print(len(uniqueWords))"
   ]
  },
  {
   "cell_type": "markdown",
   "metadata": {},
   "source": [
    "In order to do the LDA modeling, the best way to process the data is transforming the data into SparseVector since the vector would be very sparse like what we did in the NLP assignment of 15688/388. First we need to build the word to vector index and index to word mapping so that we could map the words and indices in the sparse vector after training the model."
   ]
  },
  {
   "cell_type": "code",
   "execution_count": 28,
   "metadata": {},
   "outputs": [],
   "source": [
    "wordToIndex = {value: index for index, value in enumerate(uniqueWords)}\n",
    "indexToWord = {index: value for index, value in enumerate(uniqueWords)}"
   ]
  },
  {
   "cell_type": "markdown",
   "metadata": {},
   "source": [
    "SparseVector in Spark takes the size of the data as first argument and the data in iterable format.\n",
    "https://spark.apache.org/docs/2.2.1/api/python/pyspark.mllib.html#pyspark.mllib.linalg.SparseVector"
   ]
  },
  {
   "cell_type": "code",
   "execution_count": 29,
   "metadata": {},
   "outputs": [
    {
     "name": "stdout",
     "output_type": "stream",
     "text": [
      "21965\n",
      "[[0, SparseVector(10000, {106: 2.0, 122: 1.0, 126: 1.0, 403: 1.0, 460: 1.0, 474: 1.0, 528: 1.0, 594: 1.0, 609: 1.0, 1144: 1.0, 1269: 1.0, 1344: 1.0, 1364: 1.0, 1411: 1.0, 1812: 4.0, 1900: 1.0, 2085: 1.0, 2733: 3.0, 3449: 1.0, 3768: 1.0, 6744: 1.0, 7216: 1.0, 8547: 1.0, 8659: 1.0, 8660: 1.0, 8773: 1.0, 8885: 1.0, 8886: 1.0, 8978: 1.0, 9847: 1.0, 9980: 1.0})]]\n"
     ]
    }
   ],
   "source": [
    "allDescriptions = (rdd.map(lambda x: x[headerMap[\"description\"]].lower().split())\n",
    "                      .map(lambda x: [wordToIndex[word] for word in x if word in wordToIndex]))\n",
    "\n",
    "docVectors = allDescriptions.map(lambda x: SparseVector(len(uniqueWords), dict(collections.Counter(x))))\n",
    "docVectors = docVectors.zipWithIndex().map(lambda x: [x[1], x[0]])\n",
    "print(docVectors.count())\n",
    "print(docVectors.take(1))"
   ]
  },
  {
   "cell_type": "markdown",
   "metadata": {},
   "source": [
    "To train the LDA model, simply call the ```train``` method on the data vector and specify the number of topics you want to categorize.\n",
    "https://spark.apache.org/docs/2.2.1/api/python/pyspark.mllib.html#pyspark.mllib.clustering.LDA"
   ]
  },
  {
   "cell_type": "code",
   "execution_count": 30,
   "metadata": {},
   "outputs": [],
   "source": [
    "ldaModel = LDA.train(docVectors, k = numOfCategories, seed = 20)"
   ]
  },
  {
   "cell_type": "markdown",
   "metadata": {},
   "source": [
    "After training the LDA model, we can use ```topicsMatrix``` to acquire the inferred topics and the terms associated with each topic ordered by the weight of the each term."
   ]
  },
  {
   "cell_type": "code",
   "execution_count": 31,
   "metadata": {},
   "outputs": [
    {
     "name": "stdout",
     "output_type": "stream",
     "text": [
      "0\n",
      "['15', '1:', '20', '24-70mm', '_\\\\n\\\\ndisclaimer', '_\\\\n\\\\ni', '_\\\\n\\\\nstalk', 'anthem', \"aren't\", 'bar', 'biscuits:', 'boring', 'brands', 'cause', 'changed', 'clear', 'coat:', 'collider', 'da', 'data', 'derek', 'designs', 'dia', 'direct', 'discuss', 'driving', 'edit', 'episode,', 'face-cams:', 'facebook!', 'fav', 'final', 'french', 'gel', 'glitter', 'gmm', 'gossip', 'grow', 'guest', 'guys:', 'hacks:', 'happened', 'hip', 'holo', 'hop', 'info:', 'insight', 'intro', 'khz', 'law', 'lens:', 'like!', 'links.', 'live:', 'loose', 'mail', 'mailbag', 'media,', 'microphones', 'mountain', 'mythical', 'mythical:', 'mythicality', 'nails:', 'news.', 'newsroom', 'outro', 'own.', 'page', 'pass', 'peel-off', 'personalized', 'podcast:', 'polish:', 'polishes:', 'public', 'recorded', 'regularly', 'report', 'revealed', 'review:', 'rhett', 'rio', 'river', 'schmoedown', 'shipping', 'shotgun', 'something?', 'sounds', 'sports:', 'staff', 'submit', 'tip', 'tune', 'twitter!', 'wheel', 'with:', 'yeah,', 'zone', '‘the']\n",
      "1\n",
      "['(the', '(tv’s', '(“the', '100%', '2018,', '2pm', '5pm', 'alan', 'association', 'beauty,', 'bedroom', 'bedroom:', 'board:', 'brands,', 'bruce', 'brushes', 'center', 'commission', 'company,', 'content,', 'costume', 'credit:', 'cutting', 'decide', 'distributed', 'dope', 'dwayne', 'e:\\\\ninstagram:', 'easter', 'edges', 'emily', 'et', 'festival', 'film,', 'filmmaker', 'films,', 'getty', 'giveaway', 'grand', 'h', 'hero', 'hidden', 'hunt', 'impossible', 'influenced', 'inquiries', 'jackie', 'joey', 'kate', 'koshy’s', 'links,', 'live!', 'movies,', 'mr.', 'named', 'off!\\\\nhttps://www.morphebrushes.com/\\\\n\\\\nuse', 'off\\\\n\\\\n\\\\nc', 'office', 'office:', 'oscar-winning', 'pan:', 'partnerships.\\\\n\\\\n\\\\nchanging', 'photography', 'pictures,', 'player', 'pr', 'private', 'producers:', 'production,', 'purchase.', 'reality', 'received,', 'release', 'room:', 's:\\\\n\\\\nmy', 's:\\\\nfor', 'scenes,', 'screenplay', 'select', 'serving', 'sound:', 'spielberg', 'stage', 'standard', 'tbsp', 'television,', 'tony', 'tracks', 'trivia', 'turns', 'tutorial', 'universe', 'unlikely', 'usage', 'used,', 'village', 'w', 'wednesdays', 'worldwide', '“a']\n",
      "2\n",
      "['2016', '3d', '6', '9', 'ad', 'alone', 'audiences', 'board', 'brands', 'brow', 'building', 'cabin', 'came', 'cars', 'challenges,', 'child', 'children', 'clean', 'clothes', 'club', 'cold', 'commons', 'concealer', 'contour', 'corporation', 'cost', 'demi', 'dream', 'dual', 'edge', 'expert', 'fallon', 'feels', 'filmed', 'gaming', 'gel', 'gina', 'grace', 'home.', 'iconic', 'jimmy:', 'key', 'land', 'lashes', 'licensing', 'lighting', 'liner', 'liu', 'log', 'macleod', 'magic', 'mail', 'main', 'medium', 'mentioned', 'met', 'missed', 'model', 'moment', 'natalie', 'nights', 'often', 'parents', 'paris', 'pencil', 'printed', 'products,', 'programs,', 'recreate', 'refinery29\\\\nsubscribe', 'ridiculous', 'rodriguez,', 'roller', 'setting', 'soft', 'spend', 'spending', 'story.', 'stylish,', 'thompson,', 'throughout', 'tide', 'truth', 'unboxing', 'variety', 'videos\\\\nhttp://refinery29.com/video\\\\n\\\\nsubscribe', 'vlogs', 'von', 'waterproof', 'wednesday', 'well-rounded', 'winning', 'woman', \"woman's\", 'wonder', 'yeah', 'you\\\\ngetting', '•', '⇢', '➤']\n"
     ]
    }
   ],
   "source": [
    "topics = ldaModel.topicsMatrix()\n",
    "for topic in range(3):\n",
    "    print(topic)\n",
    "    inds = np.argsort((topics[:,topic]))[-100:]\n",
    "    print (sorted([indexToWord[i] for i in inds]))"
   ]
  },
  {
   "cell_type": "markdown",
   "metadata": {},
   "source": [
    "The ```topicMatrix()``` method of LDA model will return a matrix with dimension N * Topics, where N is the total number of unique words we passed into the LDA constructor to train the model. topicMatrix will arrange words in each category from higher to lower weight. Though further analysis needs to be done to tell which topic is corresponding to which category, you should be able to get a sense of how topic modeling works."
   ]
  },
  {
   "cell_type": "markdown",
   "metadata": {},
   "source": [
    "# Summary\n",
    "\n",
    "This tutorial highlighted several essential components of PySpark and its application in exploratory data analysis. Here I only showed the PySpark running in standalone mode. A programmer could easily perform big data processing using cluster mode and achieve high-throughput streaming data analysis.\n",
    "\n",
    "If you wish to learn more details about the technologies mentioned in this tutorial, please refer to the following links.\n",
    "1. RDD Programming Guide: https://spark.apache.org/docs/2.2.1/rdd-programming-guide.html\n",
    "2. Spark Python API docs: https://spark.apache.org/docs/2.2.1/api/python/index.html\n",
    "3. PySpark MLlib package docs: https://spark.apache.org/docs/2.2.1/api/python/pyspark.mllib.html\n",
    "4. Seaborn: statistical data visualization: https://seaborn.pydata.org/\n",
    "5. Kaggle: https://www.kaggle.com/"
   ]
  },
  {
   "cell_type": "code",
   "execution_count": null,
   "metadata": {},
   "outputs": [],
   "source": []
  }
 ],
 "metadata": {
  "kernelspec": {
   "display_name": "Python 3",
   "language": "python",
   "name": "python3"
  },
  "language_info": {
   "codemirror_mode": {
    "name": "ipython",
    "version": 3
   },
   "file_extension": ".py",
   "mimetype": "text/x-python",
   "name": "python",
   "nbconvert_exporter": "python",
   "pygments_lexer": "ipython3",
   "version": "3.6.4"
  }
 },
 "nbformat": 4,
 "nbformat_minor": 2
}
