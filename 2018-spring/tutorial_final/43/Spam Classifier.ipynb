{
 "cells": [
  {
   "cell_type": "markdown",
   "metadata": {},
   "source": [
    "## Introduction\n",
    "\n",
    "This tutorial will introduce you to some basic methods to construct a SMS spam classifier. To achieve this goal, you will learn how to do data preprocessing, data visulation, feature construction, machine learning model selection, training and testing. With the popularity of mobile devices, more and more SMS spams disturb people's life. Hence, to solve this problem, this tutorial guides you to implement a simple SMS spam classifier based on SMS Spam Collection Data Set from UCI Machine Learning Repository.\n",
    "\n",
    "\n",
    " "
   ]
  },
  {
   "cell_type": "markdown",
   "metadata": {},
   "source": [
    "### Tutorial content\n",
    "\n",
    "We'll be using SMS Spam Collection Data Set collected from the UCI Machine Learning Repository:https://archive.ics.uci.edu/ml/datasets/SMS+Spam+Collection. \n",
    "We will cover the following topics in this tutorial:\n",
    "- [Installing the libraries](#Installing-the-libraries)\n",
    "- [Loading data and plotting](#Loading-data-and-plotting)\n",
    "- [Text Processing](#Text-Processing)\n",
    "- [Feature Construction](#Feature-Construction)\n",
    "- [Model Selection,Training and Testing](#Model-Selection,-Traning-and-Testing)\n",
    "\n",
    "\n",
    "\n",
    "\n",
    "\n",
    "\n",
    "\n"
   ]
  },
  {
   "cell_type": "markdown",
   "metadata": {},
   "source": [
    "## Installing the libraries\n",
    "\n",
    "Before getting started, you'll need to install the various libraries that we will use.  You can install numpy, pandas, matplotlib, nltk, wordcloud, sklearn using 'pip':\n",
    "     $ pip install --upgrade \n",
    "     $ pip install numpy\n",
    "     $ pip install pandas\n",
    "     $ pip install matplotlib\n",
    "     $ pip install nltk\n",
    "     $ pip install wordcloud\n",
    "     $ pip install sklearn\n",
    "if you have anaconda, you also can use:\n",
    "     $ conda install -c conda-forge wordcloud \n",
    "to install wordcloud\n",
    "\n"
   ]
  },
  {
   "cell_type": "code",
   "execution_count": 95,
   "metadata": {
    "collapsed": true
   },
   "outputs": [],
   "source": [
    "import pandas as pd\n",
    "from wordcloud import WordCloud\n",
    "import matplotlib.pyplot as plt \n",
    "import nltk\n",
    "import string\n",
    "from collections import Counter\n",
    "import sklearn\n",
    "import numpy as np\n",
    "from sklearn.model_selection import train_test_split\n",
    "from sklearn import svm\n",
    "from sklearn.model_selection import cross_val_score\n",
    "from sklearn.neighbors import KNeighborsClassifier\n",
    "from sklearn.ensemble import RandomForestClassifier\n",
    "from sklearn.linear_model import LogisticRegression"
   ]
  },
  {
   "cell_type": "markdown",
   "metadata": {},
   "source": [
    "## Loading data and plotting\n",
    "\n",
    "Now that we've installed and loaded the libraries, let's load our SMS spam dataset. The following picture shows the SMS raw dataset and we can see two columns here, the first column is whether this SMS messages is spam or not(ham), the second column is message.\n",
    "\n",
    "![SMS raw dataset](data.png)\n",
    "\n",
    "Because some lines in this file has some format problems, we cannot directly load dataset as dataframe using pd.read_csv(file_path). We will use \"open file\" and process it line by line to inject to one dataframe. Firstly, we use open(\"SMSSpamCollection\",'r') to open file as object; Secondly, we create a dataframe has two columns named is_spam and message; Thirdly, for every line in this file, we will use \"ham\" and \"spam\" to split, and eliminate whitespaces in the front and rear of message, then, add them to our dataframe."
   ]
  },
  {
   "cell_type": "code",
   "execution_count": 96,
   "metadata": {
    "collapsed": true
   },
   "outputs": [],
   "source": [
    "sms_data = open(\"SMSSpamCollection\",'r')   #open dataset as object\n",
    "df = pd.DataFrame(columns=['is_spam', 'message'])    #create dataframe which has two columns 'is_spam' and 'message'\n",
    "index = 0                                       \n",
    "for l in sms_data.readlines():                                    \n",
    "    if l[:3]==\"ham\": df.loc[index] = [\"ham\", l[3:].strip()]    #split one line using its label, and strip all whitespaces\n",
    "    else: df.loc[index] = [\"spam\", l[4:].strip()]\n",
    "    index+=1\n",
    "\n"
   ]
  },
  {
   "cell_type": "markdown",
   "metadata": {},
   "source": [
    "Then, we can use df.describe() to give a description of this dataset. It shows that we have total 5574 messages in this dataset, 2 different values in column is_spam, 5160 different values in column 5160. Plus, the number of \"ham\" is 4827 which is larger than \"spam\". "
   ]
  },
  {
   "cell_type": "code",
   "execution_count": 97,
   "metadata": {},
   "outputs": [
    {
     "data": {
      "text/html": [
       "<div>\n",
       "<style>\n",
       "    .dataframe thead tr:only-child th {\n",
       "        text-align: right;\n",
       "    }\n",
       "\n",
       "    .dataframe thead th {\n",
       "        text-align: left;\n",
       "    }\n",
       "\n",
       "    .dataframe tbody tr th {\n",
       "        vertical-align: top;\n",
       "    }\n",
       "</style>\n",
       "<table border=\"1\" class=\"dataframe\">\n",
       "  <thead>\n",
       "    <tr style=\"text-align: right;\">\n",
       "      <th></th>\n",
       "      <th>is_spam</th>\n",
       "      <th>message</th>\n",
       "    </tr>\n",
       "  </thead>\n",
       "  <tbody>\n",
       "    <tr>\n",
       "      <th>count</th>\n",
       "      <td>5574</td>\n",
       "      <td>5574</td>\n",
       "    </tr>\n",
       "    <tr>\n",
       "      <th>unique</th>\n",
       "      <td>2</td>\n",
       "      <td>5160</td>\n",
       "    </tr>\n",
       "    <tr>\n",
       "      <th>top</th>\n",
       "      <td>ham</td>\n",
       "      <td>Sorry, I'll call later</td>\n",
       "    </tr>\n",
       "    <tr>\n",
       "      <th>freq</th>\n",
       "      <td>4827</td>\n",
       "      <td>30</td>\n",
       "    </tr>\n",
       "  </tbody>\n",
       "</table>\n",
       "</div>"
      ],
      "text/plain": [
       "       is_spam                 message\n",
       "count     5574                    5574\n",
       "unique       2                    5160\n",
       "top        ham  Sorry, I'll call later\n",
       "freq      4827                      30"
      ]
     },
     "execution_count": 97,
     "metadata": {},
     "output_type": "execute_result"
    }
   ],
   "source": [
    "df.describe()"
   ]
  },
  {
   "cell_type": "markdown",
   "metadata": {},
   "source": [
    "![SMS raw dataset](describe.png)"
   ]
  },
  {
   "cell_type": "markdown",
   "metadata": {},
   "source": [
    "Also, we can use df['is_spam'].value_counts() to count the number of spam or ham in this dataset. It will return a Pandas Series which shows ham is 4827 and spam 747."
   ]
  },
  {
   "cell_type": "code",
   "execution_count": 98,
   "metadata": {},
   "outputs": [
    {
     "data": {
      "text/plain": [
       "ham     4827\n",
       "spam     747\n",
       "Name: is_spam, dtype: int64"
      ]
     },
     "execution_count": 98,
     "metadata": {},
     "output_type": "execute_result"
    }
   ],
   "source": [
    "df['is_spam'].value_counts()"
   ]
  },
  {
   "cell_type": "markdown",
   "metadata": {},
   "source": [
    "![SMS raw dataset](count.png)"
   ]
  },
  {
   "cell_type": "markdown",
   "metadata": {},
   "source": [
    "To directy show the distribution of ham and spam, I use plt.bar to get the bar chart of distribution. Firstly, we can use index to get the number of ham and number of spam from the series we get from df['is_spam'].value_counts(); Secondly, we should compute ratio of different categories. Then, we can add title, xlabel, ylabel, category name, legend to our bar chart. Thirdly, we can add values to the top of different bars."
   ]
  },
  {
   "cell_type": "code",
   "execution_count": 99,
   "metadata": {},
   "outputs": [
    {
     "data": {
      "image/png": "[encoded data removed]",
      "text/plain": [
       "<matplotlib.figure.Figure at 0x7f97269eb278>"
      ]
     },
     "metadata": {},
     "output_type": "display_data"
    }
   ],
   "source": [
    "  \n",
    "#get the number, ratio of ham and spam\n",
    "ham_num = df['is_spam'].value_counts()[0]\n",
    "spam_num = df['is_spam'].value_counts()[1]\n",
    "ham_num_ratio = ham_num / (ham_num + spam_num) * 1.0\n",
    "spam_num_ratio = spam_num / (ham_num + spam_num) * 1.0\n",
    "\n",
    "#draw a bar chart to indicate the distribution of different catogories\n",
    "\n",
    "#draw the time, the x label, y label\n",
    "plt.title(\"ratio of different messages\")\n",
    "plt.xlabel(\"classification\")\n",
    "plt.ylabel(\"ratio\")\n",
    "\n",
    "#add name to different categories\n",
    "plt.xticks((0,1), ('ham','spam'))\n",
    "\n",
    "#draw bars according to the value of ratio of different categories, and set width of bars and make sure it is center-aligned\n",
    "bars = plt.bar(x = (0,1),height = (ham_num_ratio,spam_num_ratio),width = 0.35,align=\"center\")\n",
    "\n",
    "#add legend to this bar chart\n",
    "plt.legend((bars,),(u\"ratio\",))\n",
    "\n",
    "#for every bar add value on top of each\n",
    "for bar in bars:\n",
    "    height = bar.get_height()\n",
    "    plt.text(bar.get_x() + bar.get_width() / 2, height, \"%.2f\" % height,\n",
    "            ha='center', va='bottom')\n",
    "\n",
    "plt.show()"
   ]
  },
  {
   "cell_type": "markdown",
   "metadata": {},
   "source": [
    "![SMS raw dataset](distribution.png)"
   ]
  },
  {
   "cell_type": "markdown",
   "metadata": {},
   "source": [
    "## Text Processing\n",
    "\n",
    "first, we should download some corpora manually first, For example, \"stopwords\", \"wordnet\", \"punkt\" using nltk.download. "
   ]
  },
  {
   "cell_type": "code",
   "execution_count": 100,
   "metadata": {},
   "outputs": [
    {
     "name": "stdout",
     "output_type": "stream",
     "text": [
      "[nltk_data] Downloading package stopwords to\n",
      "[nltk_data]     /home/bowentan/nltk_data...\n",
      "[nltk_data]   Package stopwords is already up-to-date!\n",
      "[nltk_data] Downloading package wordnet to /home/bowentan/nltk_data...\n",
      "[nltk_data]   Package wordnet is already up-to-date!\n",
      "[nltk_data] Downloading package punkt to /home/bowentan/nltk_data...\n",
      "[nltk_data]   Package punkt is already up-to-date!\n"
     ]
    },
    {
     "data": {
      "text/plain": [
       "True"
      ]
     },
     "execution_count": 100,
     "metadata": {},
     "output_type": "execute_result"
    }
   ],
   "source": [
    "nltk.download('stopwords')\n",
    "nltk.download('wordnet')\n",
    "nltk.download('punkt')"
   ]
  },
  {
   "cell_type": "markdown",
   "metadata": {},
   "source": [
    "Then we should do processing on every message which has a simlar rule we have built in our homework. Firstly, we should make sure every token in message is lower case; Secondly, eliminate all 's; Thirdly, eliminate all ' after the seconde operation; Fourthly, we should replace all punctuations with whitespaces; Fifthly, we should tokenize words in one message. Sixthly, we should lemmatize token to reduce dimensions and redundancy of tokens."
   ]
  },
  {
   "cell_type": "code",
   "execution_count": 101,
   "metadata": {
    "collapsed": true
   },
   "outputs": [],
   "source": [
    "def process(message, lemmatizer=nltk.stem.wordnet.WordNetLemmatizer()):\n",
    "    message = message.lower()                          #1. transfer all tokens to lower case\n",
    "    message = message.replace(\"'s\", \"\")                #2. replace all \"'s\" with \"\"\n",
    "    message = message.replace(\"'\", \"\")                 #3. replace all \"'\" with \"\"\n",
    "    for p in string.punctuation:                  \n",
    "        message = message.replace(p, \" \")              #4. eliminate all punctuations\n",
    "    res = []\n",
    "    word_list = nltk.word_tokenize(message)            #5. tokenize message to reduce dimensions and redundancy\n",
    "    for word in word_list:\n",
    "        try:\n",
    "            word = lemmatizer.lemmatize(word)          #6. lemmatize all words\n",
    "            res.append(word)\n",
    "        except e:\n",
    "            pass\n",
    "    return res"
   ]
  },
  {
   "cell_type": "markdown",
   "metadata": {},
   "source": [
    "After we construct this process function on one message, we should apply this function to all messages in this dataframe to prepare for the feature construction part."
   ]
  },
  {
   "cell_type": "code",
   "execution_count": 102,
   "metadata": {},
   "outputs": [],
   "source": [
    "def process_all(df, lemmatizer=nltk.stem.wordnet.WordNetLemmatizer()):\n",
    "    df['message'] = df['message'].apply(lambda x:process(x))\n",
    "    return df\n",
    "\n",
    "df = process_all(df, lemmatizer=nltk.stem.wordnet.WordNetLemmatizer())"
   ]
  },
  {
   "cell_type": "markdown",
   "metadata": {},
   "source": [
    "## Feature Construction\n",
    "\n",
    "As we did in homework before, for this time, we are going to construct a bag-of-words TF-IDF feature vector. And the first thing we should do is to omit all common words, which are stopwords that offer meaningless information. Meanwhile, we also should omit all rare words, which are words that doesn't happen more than once. The get_rare_words function as follow is to use Counter function to get the frequency of every word in all messages and we select those words of which the number is one."
   ]
  },
  {
   "cell_type": "code",
   "execution_count": 103,
   "metadata": {
    "collapsed": true
   },
   "outputs": [],
   "source": [
    "def get_rare_words(df):\n",
    "    size = df.shape[0]\n",
    "    rare_word_lst = []\n",
    "    for i in range(size):\n",
    "        rare_word_lst.extend(df.message[i])                         \n",
    "    rare_word_dict = Counter(rare_word_lst)\n",
    "    res = [key for key, val in rare_word_dict.items() if val == 1]\n",
    "    return sorted(res)\n",
    "\n",
    "rare_words = get_rare_words(df)    "
   ]
  },
  {
   "cell_type": "markdown",
   "metadata": {},
   "source": [
    "Then, we will use sklearn.feature_extraction.text.TfidfVectorizer to construct a sparse matrix of features for each message. The first thing we should do is to combine all stopwords and all rare_words to construct a word list to omit. The second thing is to construct sparse matrix that omits that word list.\n",
    "\n",
    "Plus, during this process, we also return two word lists including ham_clean_text_lst, spam_clean_text_lst. They respectively represent a list consisting of all words that omit stopwords and rarewords belong to ham, a list consisting of all words that omit stopwords and rarewords belong to spam. "
   ]
  },
  {
   "cell_type": "code",
   "execution_count": 104,
   "metadata": {},
   "outputs": [],
   "source": [
    "def create_features(df, rare_words):\n",
    "    \n",
    "    stopwords = nltk.corpus.stopwords.words('english')  # stopwords to omit\n",
    "    meaningless_words = stopwords + rare_words          # allwords including stopwords and rarewords to omit\n",
    "    size = df.shape[0]\n",
    "    text_lst = []                                       # a list consisting of all words\n",
    "    clean_text_lst = []                                 # a list consisting of all words that omit stopwords and rarewords\n",
    "    ham_clean_text_lst = []                             # a list consisting of all words that omit stopwords and rarewords that belong to ham\n",
    "    spam_clean_text_lst = []                            # a list consisting of all words that omit stopwords and rarewords that belong to spam\n",
    "    for i in range(size):\n",
    "        text_lst.append(\" \".join(df.message[i]))\n",
    "        if df['is_spam'][i] == \"ham\":\n",
    "            for word in df.message[i]:\n",
    "                if word not in meaningless_words:\n",
    "                    clean_text_lst.append(word)\n",
    "                    ham_clean_text_lst.append(word)\n",
    "        else:\n",
    "            for word in df.message[i]:\n",
    "                if word not in meaningless_words:\n",
    "                    clean_text_lst.append(word)\n",
    "                    spam_clean_text_lst.append(word)          \n",
    "            \n",
    "                \n",
    "    tfid = sklearn.feature_extraction.text.TfidfVectorizer(stop_words = meaningless_words)\n",
    "    csr = tfid.fit_transform(text_lst)\n",
    "    return tfid, csr, text_lst, clean_text_lst, ham_clean_text_lst, spam_clean_text_lst\n",
    "\n",
    "\n",
    "(tfidf, X, text_lst, clean_text_lst, ham_clean_text_lst, spam_clean_text_lst) = create_features(df, rare_words)\n",
    "\n",
    "\n"
   ]
  },
  {
   "cell_type": "markdown",
   "metadata": {},
   "source": [
    "Then we use wordcloud to visualize those two list of words to see frequency of words in spam messages and frequency of words in ham messages. The first is ham wordcloud, the second is spam wordcloud, we can directly see the big difference between two types of message. For spam wordcloud, the frequency of \"free\", \"call\", \"text\" is very high. For example, in real world, many SMS messages are advertisements, they use \"free\" to capture users' eyes, hence, this result is reasonable. For ham wordcloud, most of frequent words are some words that do not have much meaning."
   ]
  },
  {
   "cell_type": "code",
   "execution_count": 105,
   "metadata": {},
   "outputs": [
    {
     "data": {
      "image/png": "[encoded data removed]",
      "text/plain": [
       "<matplotlib.figure.Figure at 0x7f9726a8cef0>"
      ]
     },
     "metadata": {},
     "output_type": "display_data"
    },
    {
     "data": {
      "image/png": "[encoded data removed]",
      "text/plain": [
       "<matplotlib.figure.Figure at 0x7f972632a358>"
      ]
     },
     "metadata": {},
     "output_type": "display_data"
    }
   ],
   "source": [
    "def get_word_cloud(text_lst):\n",
    "    wordcloud = WordCloud(background_color=\"white\",width=800, height=600, margin=2).generate(\" \".join(text_lst))\n",
    "    plt.imshow(wordcloud)\n",
    "    plt.axis(\"off\")\n",
    "    plt.show()\n",
    "\n",
    "get_word_cloud(ham_clean_text_lst)\n",
    "get_word_cloud(spam_clean_text_lst)"
   ]
  },
  {
   "cell_type": "markdown",
   "metadata": {},
   "source": [
    "![SMS raw dataset](ham.png)\n",
    "![SMS raw dataset](spam.png)"
   ]
  },
  {
   "cell_type": "markdown",
   "metadata": {},
   "source": [
    "Then, we should transfer \"ham\" and \"spam\" labels to numerical value to help us train machine learning models. Hence, we get the nparray of y labels by setting all \"ham\" 0 and all \"spam\" 1"
   ]
  },
  {
   "cell_type": "code",
   "execution_count": 106,
   "metadata": {
    "collapsed": true
   },
   "outputs": [],
   "source": [
    "def create_labels(df):\n",
    "    size = df.shape[0]\n",
    "    res = [0 if df['is_spam'][i] == \"ham\" else 1 for i in range(size) ]\n",
    "    return np.array(res)\n",
    "y = create_labels(df)\n",
    "\n"
   ]
  },
  {
   "cell_type": "markdown",
   "metadata": {
    "collapsed": true
   },
   "source": [
    "## Model Selection, Training and Testing\n",
    "\n"
   ]
  },
  {
   "cell_type": "markdown",
   "metadata": {
    "collapsed": true
   },
   "source": [
    "Before, we train with different machine learning algorithms, we should split dataset into training dataset and testing dataset. Meanwhile, we also should split training dataset to features X_train, and labels y_train, this is the same for test dataset. \n",
    "\n",
    "\n",
    "In this part, for different machine learning algorithms, we include model selection process, model training and model testing. For model selection process, it is to select suitable hyperparameter for our machine learning models. For example, for KNN algorithm, we select the number of neighbors which is k to determine the label, for svm algorithm, we choose kernel function to determine which is better."
   ]
  },
  {
   "cell_type": "code",
   "execution_count": 107,
   "metadata": {
    "collapsed": true
   },
   "outputs": [],
   "source": [
    "X_train, X_test, y_train, y_test = train_test_split(X, y, test_size=0.2)"
   ]
  },
  {
   "cell_type": "markdown",
   "metadata": {},
   "source": [
    "### SVM Classification\n",
    "\n",
    "First, we try SVM classification algorithm on our dataset. To do model selection, we will choose two hyperparameter of models, the first is kernel function, the second is penalty parameter C of the error term. To achieve the goal of selection, we can use 10-fold cross validation method on our training dataset using cross_val_score. It will return 10 evaluation results on 10 different validation data, we can get the average of these results to detemine whether the choice of this hyperparameter is good enough for us to train. Also, this method can help people to avoid overfitting.\n",
    "\n",
    "For example, we set kernel function of our SVM classification algorithm to 'linear', and we iterate though 1 to 10 to select a good C for our algorithm. And we can print all mean value of cross validation for each C. Although the value is similar to each other in our case, we can choose the C which has higher mean score(when C equals 2 in this case) to train our models.\n",
    "\n"
   ]
  },
  {
   "cell_type": "code",
   "execution_count": 108,
   "metadata": {},
   "outputs": [
    {
     "name": "stdout",
     "output_type": "stream",
     "text": [
      "0.983858461301\n",
      "0.986547042369\n",
      "0.986097604166\n",
      "0.985425460026\n",
      "0.984527589077\n",
      "0.983853935628\n",
      "0.98407714542\n",
      "0.984301864521\n",
      "0.984301864521\n",
      "0.983853431773\n"
     ]
    }
   ],
   "source": [
    "cross_score = []\n",
    "for c in range(1,11):\n",
    "    clf = svm.SVC(kernel='linear', C=c)\n",
    "    scores = cross_val_score(clf, X_train, y_train, cv=10)\n",
    "    print(np.mean(scores))\n",
    "    cross_score.append(np.mean(scores))"
   ]
  },
  {
   "cell_type": "markdown",
   "metadata": {},
   "source": [
    "![SMS raw dataset](scores.png)"
   ]
  },
  {
   "cell_type": "markdown",
   "metadata": {},
   "source": [
    "The following code is to help us choose the highest performance C and use this C and our linear kernel function to train our model, then we use this model to do prediction on our testing dataset and we get the performance result of our training model."
   ]
  },
  {
   "cell_type": "code",
   "execution_count": 109,
   "metadata": {},
   "outputs": [
    {
     "data": {
      "text/plain": [
       "0.97937219730941705"
      ]
     },
     "execution_count": 109,
     "metadata": {},
     "output_type": "execute_result"
    }
   ],
   "source": [
    "C = cross_score.index(max(cross_score)) + 1\n",
    "clf = svm.SVC(kernel='linear', C=C)\n",
    "clf.fit(X_train, y_train)\n",
    "clf.score(X_test, y_test)\n"
   ]
  },
  {
   "cell_type": "markdown",
   "metadata": {},
   "source": [
    "The output here is 0.98206278026905824"
   ]
  },
  {
   "cell_type": "markdown",
   "metadata": {},
   "source": [
    "The following code do similarly things, we set our kernel function to 'rbf', 'poly', 'sigmoid' and iterate though different values of C to determine a better C to train. Finally, we get the performance of our models on testing dataset."
   ]
  },
  {
   "cell_type": "code",
   "execution_count": 110,
   "metadata": {},
   "outputs": [],
   "source": [
    "cross_score = []\n",
    "for c in range(1,11):\n",
    "    clf = svm.SVC(kernel='rbf', C=c)\n",
    "    scores = cross_val_score(clf, X_train, y_train, cv=10)\n",
    "    cross_score.append(np.mean(scores))"
   ]
  },
  {
   "cell_type": "code",
   "execution_count": 111,
   "metadata": {},
   "outputs": [
    {
     "data": {
      "text/plain": [
       "0.8618834080717489"
      ]
     },
     "execution_count": 111,
     "metadata": {},
     "output_type": "execute_result"
    }
   ],
   "source": [
    "C = cross_score.index(max(cross_score)) + 1\n",
    "clf = svm.SVC(kernel='rbf', C=C)\n",
    "clf.fit(X_train, y_train)\n",
    "clf.score(X_test, y_test)"
   ]
  },
  {
   "cell_type": "markdown",
   "metadata": {},
   "source": [
    "The output here is 0.86008968609865466"
   ]
  },
  {
   "cell_type": "code",
   "execution_count": 112,
   "metadata": {},
   "outputs": [
    {
     "name": "stdout",
     "output_type": "stream",
     "text": [
      "[ 0.86577181  0.86577181  0.86577181  0.867713    0.867713    0.867713\n",
      "  0.86741573  0.86741573  0.86741573  0.86741573]\n",
      "[ 0.86577181  0.86577181  0.86577181  0.867713    0.867713    0.867713\n",
      "  0.86741573  0.86741573  0.86741573  0.86741573]\n",
      "[ 0.86577181  0.86577181  0.86577181  0.867713    0.867713    0.867713\n",
      "  0.86741573  0.86741573  0.86741573  0.86741573]\n",
      "[ 0.86577181  0.86577181  0.86577181  0.867713    0.867713    0.867713\n",
      "  0.86741573  0.86741573  0.86741573  0.86741573]\n",
      "[ 0.86577181  0.86577181  0.86577181  0.867713    0.867713    0.867713\n",
      "  0.86741573  0.86741573  0.86741573  0.86741573]\n",
      "[ 0.86577181  0.86577181  0.86577181  0.867713    0.867713    0.867713\n",
      "  0.86741573  0.86741573  0.86741573  0.86741573]\n",
      "[ 0.86577181  0.86577181  0.86577181  0.867713    0.867713    0.867713\n",
      "  0.86741573  0.86741573  0.86741573  0.86741573]\n",
      "[ 0.86577181  0.86577181  0.86577181  0.867713    0.867713    0.867713\n",
      "  0.86741573  0.86741573  0.86741573  0.86741573]\n",
      "[ 0.86577181  0.86577181  0.86577181  0.867713    0.867713    0.867713\n",
      "  0.86741573  0.86741573  0.86741573  0.86741573]\n",
      "[ 0.86577181  0.86577181  0.86577181  0.867713    0.867713    0.867713\n",
      "  0.86741573  0.86741573  0.86741573  0.86741573]\n"
     ]
    }
   ],
   "source": [
    "cross_score = []\n",
    "for c in range(1,11):\n",
    "    clf = svm.SVC(kernel='poly', C=c)\n",
    "    scores = cross_val_score(clf, X_train, y_train, cv=10)\n",
    "    print(scores)\n",
    "    cross_score.append(np.mean(scores))"
   ]
  },
  {
   "cell_type": "code",
   "execution_count": 113,
   "metadata": {},
   "outputs": [
    {
     "data": {
      "text/plain": [
       "0.8618834080717489"
      ]
     },
     "execution_count": 113,
     "metadata": {},
     "output_type": "execute_result"
    }
   ],
   "source": [
    "C = cross_score.index(max(cross_score)) + 1\n",
    "clf = svm.SVC(kernel='poly', C=C)\n",
    "clf.fit(X_train, y_train)\n",
    "clf.score(X_test, y_test)"
   ]
  },
  {
   "cell_type": "markdown",
   "metadata": {},
   "source": [
    "The output here is 0.86008968609865466"
   ]
  },
  {
   "cell_type": "code",
   "execution_count": 114,
   "metadata": {},
   "outputs": [],
   "source": [
    "cross_score = []\n",
    "for c in range(1,11):\n",
    "    clf = svm.SVC(kernel='sigmoid', C=c)\n",
    "    scores = cross_val_score(clf, X_train, y_train, cv=10)\n",
    "    cross_score.append(np.mean(scores))"
   ]
  },
  {
   "cell_type": "code",
   "execution_count": 115,
   "metadata": {},
   "outputs": [
    {
     "data": {
      "text/plain": [
       "0.8618834080717489"
      ]
     },
     "execution_count": 115,
     "metadata": {},
     "output_type": "execute_result"
    }
   ],
   "source": [
    "C = cross_score.index(max(cross_score)) + 1\n",
    "clf = svm.SVC(kernel='sigmoid', C=C)\n",
    "clf.fit(X_train, y_train)\n",
    "clf.score(X_test, y_test)"
   ]
  },
  {
   "cell_type": "markdown",
   "metadata": {},
   "source": [
    "The output here is 0.86008968609865466"
   ]
  },
  {
   "cell_type": "markdown",
   "metadata": {},
   "source": [
    "### KNN\n",
    "For knn algorithm, we choose different k and weights as our hyperparameter to do model selection. Similarly, we set k from 1 to 100 and weights to 'uniform' or 'distance' to see the cross validation performance."
   ]
  },
  {
   "cell_type": "code",
   "execution_count": 116,
   "metadata": {},
   "outputs": [],
   "source": [
    "\n",
    "cross_score = []\n",
    "for k in range(1,100):\n",
    "    clf = KNeighborsClassifier(n_neighbors=k , weights='uniform')\n",
    "    scores = cross_val_score(clf, X_train, y_train, cv=10)\n",
    "    cross_score.append(np.mean(scores))"
   ]
  },
  {
   "cell_type": "code",
   "execution_count": 117,
   "metadata": {},
   "outputs": [
    {
     "data": {
      "text/plain": [
       "0.95156950672645735"
      ]
     },
     "execution_count": 117,
     "metadata": {},
     "output_type": "execute_result"
    }
   ],
   "source": [
    "k = cross_score.index(max(cross_score)) + 1\n",
    "clf = KNeighborsClassifier(n_neighbors=k , weights='uniform')\n",
    "clf.fit(X_train, y_train)\n",
    "clf.score(X_test, y_test)"
   ]
  },
  {
   "cell_type": "markdown",
   "metadata": {},
   "source": [
    "The output here is 0.94618834080717484"
   ]
  },
  {
   "cell_type": "code",
   "execution_count": 118,
   "metadata": {},
   "outputs": [],
   "source": [
    "from sklearn.neighbors import KNeighborsClassifier\n",
    "cross_score = []\n",
    "for k in range(1,100):\n",
    "    clf = KNeighborsClassifier(n_neighbors=k , weights='distance')\n",
    "    scores = cross_val_score(clf, X_train, y_train, cv=10)\n",
    "    cross_score.append(np.mean(scores))"
   ]
  },
  {
   "cell_type": "code",
   "execution_count": 119,
   "metadata": {},
   "outputs": [
    {
     "data": {
      "text/plain": [
       "0.95156950672645735"
      ]
     },
     "execution_count": 119,
     "metadata": {},
     "output_type": "execute_result"
    }
   ],
   "source": [
    "k = cross_score.index(max(cross_score)) + 1\n",
    "clf = KNeighborsClassifier(n_neighbors=k , weights='distance')\n",
    "clf.fit(X_train, y_train)\n",
    "clf.score(X_test, y_test)"
   ]
  },
  {
   "cell_type": "markdown",
   "metadata": {},
   "source": [
    "The output here is 0.94618834080717484"
   ]
  },
  {
   "cell_type": "markdown",
   "metadata": {},
   "source": [
    "### Decision Tree\n",
    "For decisiontree, we set our splitting criterion to 'gini' or 'entropy', and we change our max depth of tree do the model selection. After training the chosen model, we get performance on testing data."
   ]
  },
  {
   "cell_type": "code",
   "execution_count": 120,
   "metadata": {},
   "outputs": [],
   "source": [
    "\n",
    "from sklearn.tree import DecisionTreeClassifier\n",
    "\n",
    "cross_score = []\n",
    "for d in range(1,100):\n",
    "    clf = DecisionTreeClassifier(criterion='gini', max_depth=d)\n",
    "    scores = cross_val_score(clf, X_train, y_train, cv=10)  \n",
    "    cross_score.append(np.mean(scores))\n"
   ]
  },
  {
   "cell_type": "markdown",
   "metadata": {},
   "source": [
    "When we print the out come of score, we found when depth is 25, it doesn't change a lot, so we choose the depth equals 25"
   ]
  },
  {
   "cell_type": "code",
   "execution_count": 121,
   "metadata": {},
   "outputs": [
    {
     "data": {
      "text/plain": [
       "0.96233183856502247"
      ]
     },
     "execution_count": 121,
     "metadata": {},
     "output_type": "execute_result"
    }
   ],
   "source": [
    "clf = DecisionTreeClassifier(criterion='gini', max_depth=25)\n",
    "clf.fit(X_train, y_train)\n",
    "clf.score(X_test, y_test)"
   ]
  },
  {
   "cell_type": "markdown",
   "metadata": {},
   "source": [
    "The output here is 0.97488789237668161"
   ]
  },
  {
   "cell_type": "code",
   "execution_count": 122,
   "metadata": {},
   "outputs": [],
   "source": [
    "from sklearn.tree import DecisionTreeClassifier\n",
    "cross_score = []\n",
    "for d in range(1,100):\n",
    "    clf = DecisionTreeClassifier(criterion='entropy', max_depth=d)\n",
    "    scores = cross_val_score(clf, X_train, y_train, cv=10)\n",
    "    cross_score.append(np.mean(scores))\n"
   ]
  },
  {
   "cell_type": "markdown",
   "metadata": {},
   "source": [
    "When we print the out come of score, we found when depth is 15, it doesn't change a lot, so we choose the depth equals 25"
   ]
  },
  {
   "cell_type": "code",
   "execution_count": null,
   "metadata": {},
   "outputs": [
    {
     "data": {
      "text/plain": [
       "0.95964125560538116"
      ]
     },
     "execution_count": 123,
     "metadata": {},
     "output_type": "execute_result"
    }
   ],
   "source": [
    "clf = DecisionTreeClassifier(criterion='entropy', max_depth=15)\n",
    "clf.fit(X_train, y_train)\n",
    "clf.score(X_test, y_test)"
   ]
  },
  {
   "cell_type": "markdown",
   "metadata": {},
   "source": [
    "The output here is 0.9668161434977578"
   ]
  },
  {
   "cell_type": "markdown",
   "metadata": {},
   "source": [
    "### Random Forest\n",
    "We also introduce the ensembled algorithm random forest to construct classifier, after iterate though different number of trees, when the score of cross validation doesn't change much, we set the number of trees to this number. For example, we found when the number of trees is 15, the score dosn't change much, we set n_estimators to 15."
   ]
  },
  {
   "cell_type": "code",
   "execution_count": null,
   "metadata": {},
   "outputs": [
    {
     "name": "stdout",
     "output_type": "stream",
     "text": [
      "0.951111860318\n",
      "0.952240480842\n",
      "0.969953546194\n",
      "0.968607240242\n",
      "0.97354251523\n",
      "0.969058684845\n",
      "0.975338751967\n",
      "0.973093079282\n",
      "0.978698982338\n",
      "0.975333731457\n",
      "0.978021307071\n",
      "0.97779759117\n",
      "0.978476274146\n",
      "0.976907262256\n",
      "0.978249047044\n",
      "0.976455311545\n",
      "0.977799100479\n",
      "0.977129468848\n",
      "0.978247029372\n",
      "0.978248032572\n",
      "0.979596347179\n",
      "0.977575883924\n",
      "0.981390073661\n",
      "0.976456317\n",
      "0.978472250073\n",
      "0.979822575589\n",
      "0.98049321042\n",
      "0.979821064026\n",
      "0.980263464046\n",
      "0.979596848779\n",
      "0.980267987464\n",
      "0.97959433627\n",
      "0.979142889413\n",
      "0.981163845251\n",
      "0.980267994227\n",
      "0.977580411851\n",
      "0.979594334015\n",
      "0.979816538353\n",
      "0.980714910903\n",
      "0.980044777672\n",
      "0.979366094696\n",
      "0.979596848779\n",
      "0.981386553443\n",
      "0.979145901268\n",
      "0.980264977864\n",
      "0.980941141567\n",
      "0.981163847505\n",
      "0.978252560499\n",
      "0.978698473975\n",
      "0.978699987793\n",
      "0.980490191802\n",
      "0.979145401922\n",
      "0.980040755854\n",
      "0.97892319533\n",
      "0.980491197256\n",
      "0.980943147968\n",
      "0.979371628078\n",
      "0.980715414757\n",
      "0.979370118769\n",
      "0.980491703365\n",
      "0.980042265163\n",
      "0.980940637713\n",
      "0.980045785381\n",
      "0.980270000628\n",
      "0.97959483787\n",
      "0.98049371202\n",
      "0.980265976555\n"
     ]
    }
   ],
   "source": [
    "cross_score = []\n",
    "for n in range(1,100):\n",
    "    clf = RandomForestClassifier(n_estimators=n)\n",
    "    scores = cross_val_score(clf, X_train, y_train, cv=10)\n",
    "    print(np.mean(scores))\n",
    "    \n",
    "    cross_score.append(np.mean(scores))"
   ]
  },
  {
   "cell_type": "code",
   "execution_count": null,
   "metadata": {},
   "outputs": [],
   "source": [
    "clf = RandomForestClassifier(n_estimators=15)\n",
    "clf.fit(X_train, y_train)\n",
    "clf.score(X_test, y_test)"
   ]
  },
  {
   "cell_type": "markdown",
   "metadata": {},
   "source": [
    "The output here is 0.97937219730941705"
   ]
  },
  {
   "cell_type": "markdown",
   "metadata": {},
   "source": [
    "## Summary and references\n",
    "The following is the comparisons between different classifiers we have built, we can see that, performance of SVM with linear kernel, KNN and Random forest is pretty good, We can conclude that these algorithms and hyperparameters are suitable to construct our SMS SPAM classifier. \n",
    "\n",
    "\n",
    "\n"
   ]
  },
  {
   "cell_type": "code",
   "execution_count": null,
   "metadata": {},
   "outputs": [],
   "source": [
    "\n",
    "results = (0.9821,0.8601,0.8601,0.8600,0.9461,0.9461,0.9749,0.9668,0.9793)\n",
    "#draw the time, the x label, y label\n",
    "plt.title(\"performances of classifiers\")\n",
    "plt.xlabel(\"classifiers\")\n",
    "plt.ylabel(\"performances\")\n",
    "#add name to different categories\n",
    "plt.xticks((0,1,2,3,4,5,6,7,8), ('svm-linear','svm-rbf', 'svm-poly', 'svm-sigmoid', 'knn-distance','knn-uniform', 'DT-gini', 'DT-entropy', 'RF'),rotation=20)\n",
    "#draw bars according to the value of ratio of different categories, and set width of bars and make sure it is center-aligned\n",
    "bars = plt.bar(x = (0,1,2,3,4,5,6,7,8),height = results,width = 0.8,align=\"center\", linewidth=\"5\")\n",
    "\n",
    "# #add legend to this bar chart\n",
    "# plt.legend((bars,),(u\"ratio\",))\n",
    "\n",
    "#for every bar add value on top of each\n",
    "# for bar in bars:\n",
    "#     height = bar.get_height()\n",
    "#     plt.text(bar.get_x() + bar.get_width() / 2, height, \"%.2f\" % height,\n",
    "#             ha='center', va='bottom')\n",
    "\n",
    "plt.show()"
   ]
  },
  {
   "cell_type": "markdown",
   "metadata": {},
   "source": [
    "![SMS raw dataset](results.png)"
   ]
  },
  {
   "cell_type": "markdown",
   "metadata": {},
   "source": [
    "In this tutorial, we have included the whole process to construct a SMS SPAM classifier including analyzing and visualizing data, doing text preprocessing, contructing features, selecting models, training models and measuring models. If you are interested in some libraries, methods, models we use, you can refer to the following links.\n",
    "\n",
    "\n",
    "\n",
    "\n",
    "    WordCloud: https://amueller.github.io/word_cloud/\n",
    "    KNN: http://scikit-learn.org/stable/modules/neighbors.html\n",
    "    SVM: http://scikit-learn.org/stable/modules/svm.html\n",
    "    Decision Tree: http://scikit-learn.org/stable/modules/tree.html\n",
    "    Random Forest: http://scikit-learn.org/stable/modules/ensemble.html#forests-of-randomized-trees\n",
    "    NLTK: https://www.nltk.org/\n"
   ]
  },
  {
   "cell_type": "code",
   "execution_count": null,
   "metadata": {},
   "outputs": [],
   "source": []
  },
  {
   "cell_type": "code",
   "execution_count": null,
   "metadata": {
    "collapsed": true
   },
   "outputs": [],
   "source": []
  },
  {
   "cell_type": "code",
   "execution_count": null,
   "metadata": {
    "collapsed": true
   },
   "outputs": [],
   "source": []
  },
  {
   "cell_type": "code",
   "execution_count": null,
   "metadata": {
    "collapsed": true
   },
   "outputs": [],
   "source": []
  },
  {
   "cell_type": "code",
   "execution_count": null,
   "metadata": {
    "collapsed": true
   },
   "outputs": [],
   "source": []
  }
 ],
 "metadata": {
  "kernelspec": {
   "display_name": "Python 3",
   "language": "python",
   "name": "python3"
  },
  "language_info": {
   "codemirror_mode": {
    "name": "ipython",
    "version": 3
   },
   "file_extension": ".py",
   "mimetype": "text/x-python",
   "name": "python",
   "nbconvert_exporter": "python",
   "pygments_lexer": "ipython3",
   "version": "3.6.3"
  }
 },
 "nbformat": 4,
 "nbformat_minor": 2
}
