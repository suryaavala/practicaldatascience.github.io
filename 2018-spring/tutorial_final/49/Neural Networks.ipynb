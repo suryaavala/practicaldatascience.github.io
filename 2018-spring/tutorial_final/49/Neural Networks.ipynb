{
 "cells": [
  {
   "cell_type": "markdown",
   "metadata": {},
   "source": [
    "# A Feed-forward Neural Network Tutorial for Beginner"
   ]
  },
  {
   "cell_type": "markdown",
   "metadata": {},
   "source": [
    "## Introduction\n",
    "Neural network is one of the most popular topics in today's data science. I'm pretty sure that all of the students in the class have at least heard about it. However, for those who haven't worked on neural network, it may sounds like something very complicated and hard to understand. To be honest, I am one of the people who feel \"afraid\" when hearing the word \"Neural network\" at the first time.\n",
    "\n",
    "Thus, the aim of this proposal is very simple: try to let anyone, even not in the area related to computer science, understand the basic theory of Neural Network and how it works. Here we choose to only talk about feed-forward neural network because it is popular and easy to understad.\n",
    "\n",
    "If you‘ve already known something about neural network, you will find this tutorial too easy for you, but I'll be very happy if this could give you some new thoughts on neural network. "
   ]
  },
  {
   "cell_type": "markdown",
   "metadata": {},
   "source": [
    "## Tutorial Content\n",
    "In this tutorial, we will cover the following topic:\n",
    "\n",
    "- [Classifier](#Classifier)\n",
    "- [Neuron](#Neuron)\n",
    "- [Perceptron](#Perceptron)\n",
    "- [Nonlinear Activation Function](#Nonlinear-Activation-Function)\n",
    "- [Training](#Training)"
   ]
  },
  {
   "cell_type": "markdown",
   "metadata": {},
   "source": [
    "## Classifier\n",
    "**Neural network is widely used as a classifier.** But first of all, what is a classifier?\n",
    "\n",
    "To explain that, we need to take a look at different examples of classification in our life.\n",
    "\n",
    "- When you see an animal, you will using your commmon sense to judge it as \"cat\", \"dog\", \"fish\" or \"bird\".\n",
    "- When you go for a physical examination, the doctor will do a blood test for you, and judge as \"HIV seronegative\" or “HIV seropositive” based on the test result.\n",
    "- When your email box recieve an email, it will put it into \"Inbox\" or \"Spam\" by detecting the title or content of that email.\n",
    "\n",
    "These example share something in common, they all have:\n",
    "- **An Input**, some facts or features we have: The appearence of the animal, the result of the blood test, the content of the email, etc.\n",
    "- **A process of differentiate and understood the input features**: The appearence of wings implied bird, a normal test result implied HIV negative, a \"Free money\" title implied a spam.\n",
    "- **An output**: the result you get\n",
    "\n",
    "**A machine that can do a classification automatically is called a classifier**. A classifier also share the three things we talked about above, the only difference is the representation:\n",
    "- The input of a classifier is a vector, also called feature vector. For eaxmple, the input for spam will be a vector like [0,1,0,1,0,0 ...], where the '1's shows the existance of a specific word.\n",
    "- Classification process: done by the classifier automatically\n",
    "- The output: A class. For example, '1' means spam, '0' means inbox email.\n",
    "\n"
   ]
  },
  {
   "cell_type": "markdown",
   "metadata": {},
   "source": [
    "## Neuron\n",
    "**A neuron is a basic neural network cell.** Computer Scientist get the inspiration from the structure and fuction of biological neuron.\n",
    "\n",
    "**A neuron is a classifier.** For example, if we set the input of a neuron as a feature vector [x,y], and the output as 0 or 1 (0 for red point and 1 for blue point). Take a look at the following picture:"
   ]
  },
  {
   "cell_type": "code",
   "execution_count": 1,
   "metadata": {},
   "outputs": [
    {
     "data": {
      "image/png": "[encoded data removed]",
      "text/plain": [
       "<matplotlib.figure.Figure at 0x10648a7f0>"
      ]
     },
     "metadata": {},
     "output_type": "display_data"
    }
   ],
   "source": [
    "%matplotlib inline\n",
    "import numpy as np\n",
    "import matplotlib.pyplot as plt\n",
    "import random\n",
    "import math\n",
    "\n",
    "#Generate two random datasets\n",
    "def randomPoint(num, x,y, mark, col):\n",
    "    for i in range(0, num):\n",
    "        a = random.uniform(x, y)\n",
    "        b = random.uniform(x, y)\n",
    "        plt.plot(a,b,marker = mark,color = col)\n",
    "#lot the datasets\n",
    "plt.figure(figsize=(5,5))\n",
    "plt.xlabel('x1')\n",
    "plt.ylabel('x2')\n",
    "randomPoint(100, 0,9, '*', \"red\")\n",
    "randomPoint(100, 11,20, '*', \"blue\")\n",
    "plt.plot([10,10],[0,20],\"black\")\n",
    "plt.show()"
   ]
  },
  {
   "cell_type": "markdown",
   "metadata": {},
   "source": [
    "We could classify these two features by eyes: just draw a line x1 = 10 could perfectly separate the red and blue points. **The line x1 = 10 is a linear decision surface, which cut the feature space (namely this picture) into half.** When we get a new feature vector [x1,x2], we could predict it as a red point if x1 < 10, and a blue point in the other case.\n",
    "\n",
    "The picture is a 2 dimension feature space, and we could use a line to divide it into two half. For a 3 dimension feature space, we could use a surface to do this. For an n dimension feature space, we could use a n-1 dimension space to divide it. For the 2 dimension surface, the linear decision surface could be expressed as:\n",
    "$$w_{0} + w_{1}x_{1} + w_{2}x_{2}   = 0$$ \n",
    "We could easily deducted that in an n dimension space, when the input vector is $X = [x_{1},x_{2},x_{3},...,x_{n}]$, the decision surface could be expressed as: \n",
    "$$w_{0} + w_{1}x_{1} + w_{2}x_{2} + ... + w_{n}x_{n} = 0$$\n",
    "\n",
    "where $w_{1},...,w_{n}$ is the weight of each feature, and $w_{0}$ is the bias of the whole input. Using bias could avoid the situation that output is 0.\n",
    "\n",
    "Thus, a neuron could be showed by the figure below:\n",
    "\n",
    "![Neuron](https://raw.githubusercontent.com/wangchy27/picture/master/IMG_4C6E6B27A4F7-1.jpeg)\n",
    "\n",
    "However, to get the result of the classification, we need to add an **activation fuction** to the model, to map the result into 2 classes, that is:\n",
    "$$f(X) = \\begin{cases} 0 (red), & \\mbox{if }(w_{0} + \\sum_{1}^{n}{w_{i}x_{i}})\\mbox{ < 0} \\\\ 1 (blue), & \\mbox{if }(w_{0} + \\sum_{1}^{n}{w_{i}x_{i}})\\mbox{ > 0} \\end{cases} $$\n",
    "\n",
    "Also could be written as:\n",
    "$$f(x) = sgn(w_{0} + \\sum_{1}^{n}{w_{i}x_{i}})$$\n",
    "\n",
    "Which could be shown as:\n",
    "![Neuron2](https://raw.githubusercontent.com/wangchy27/picture/master/IMG_A7D1E1787CB6-1.jpeg)\n",
    "\n",
    "**This is also called M-P Neuron Model, proposed by *Warren McCulloch* and *Walter Pitts* in 1943.** Both of them are neuroscientists.\n",
    "\n",
    "\n",
    "\n",
    "**Now, we could give a thourough definition of neuron as a classifier:**\n",
    "- **Input**: An n dimension feature vector $X = [x_{1},x_{2},x_{3},...,x_{n}]$.\n",
    "- **Classify**: $Sum = w_{0} + \\sum_{1}^{n}{w_{i}x_{i}}$\n",
    "- **Output**: If $Sum > 0$, output is 1. Else output is 0.\n"
   ]
  },
  {
   "cell_type": "markdown",
   "metadata": {},
   "source": [
    "## Perceptron\n",
    "After talking about neurons, you may already notice that the function of a single neuron is limited. **One of the disadvantage of a single neuron is that it could only give one linear decision surface.** For example, if we are given the following dataset:"
   ]
  },
  {
   "cell_type": "code",
   "execution_count": 2,
   "metadata": {},
   "outputs": [
    {
     "data": {
      "image/png": "[encoded data removed]",
      "text/plain": [
       "<matplotlib.figure.Figure at 0x110aca390>"
      ]
     },
     "metadata": {},
     "output_type": "display_data"
    }
   ],
   "source": [
    "#Calculate the area of the triangle\n",
    "def TriangleArea(A, B, C):\n",
    "    return math.fabs(np.cross(B - A, B - C)) / 2.0\n",
    "#To see if the point is in the triangle \n",
    "def InTriangle(A, B, C, P):\n",
    "    area_abc = TriangleArea(A, B, C)\n",
    "    area_pab = TriangleArea(A, B, P)\n",
    "    area_pbc = TriangleArea(P, B, C)\n",
    "    area_pac = TriangleArea(P, A, C)\n",
    "    return math.fabs(area_pab + area_pac + area_pbc - area_abc) < 0.000001\n",
    " \n",
    "#Generate a symmetric point\n",
    "def SymmetryPoint(src, center):\n",
    "    return np.array([center[0]*2-src[0], center[1]*2-src[1]])\n",
    " \n",
    "#Generate a random dataset in a triangle\n",
    "def randomPointTriangle(num, A, B, C):\n",
    "    for i in range(0, num):\n",
    "        P = np.array([random.uniform(A[0], B[0]), random.uniform(A[1], C[1])])\n",
    "        if not InTriangle(A, B, C, P):\n",
    "            plt.plot(P[0], P[1], '*', color = \"blue\")\n",
    "            if P[0] > C[0]:\n",
    "                P = SymmetryPoint(P, np.array([(C[0] + B[0])/2, (C[1] + B[1])/2]))\n",
    "            else:\n",
    "                P = SymmetryPoint(P, np.array([(C[0] + A[0])/2, (C[1] + A[1])/2]))\n",
    "        plt.plot(P[0], P[1], '*', color = \"red\")\n",
    "#Draw the dataset\n",
    "plt.figure(figsize=(5,5))\n",
    "plt.xlabel('x')\n",
    "plt.ylabel('y')\n",
    "A = np.array([0,1])\n",
    "B = np.array([20,1])\n",
    "C = np.array([10,18])\n",
    "randomPointTriangle(200, A,B,C)\n",
    "plt.plot([A[0],B[0]], [A[1],B[1]], \"black\")\n",
    "plt.plot([A[0],C[0]], [A[1],C[1]], \"black\")\n",
    "plt.plot([B[0],C[0]], [B[1],C[1]], \"black\")\n",
    "plt.show()"
   ]
  },
  {
   "cell_type": "markdown",
   "metadata": {},
   "source": [
    "It is obvious that we can never get all the points correctly classified with only one line. But you may intuitively find that we could do the job by adding two more line to form a triangle.**This is exactly how the idea of single-layer perceptron comes from, carried out by *Frank Rosenblatt* in 1958. ** By adding one more hidden layer, we could add more lines to get more subareas. we could then adding these areas up to get the classifier works. The single-layer perceptron model of the picture behind could be represent by this picture:\n",
    "\n",
    "![perceptron1](https://raw.githubusercontent.com/wangchy27/picture/master/IMG_9134A4DF1987-1.jpeg)\n",
    "\n",
    "Actually, there is a theorem called *Universal Approcimation Theorem*, which was propsed by *Kurt Hornik* in 1991. It says:\n",
    "\n",
    "> A single hidden layer neural network with a linear output unit can approximate any continuous function arbitrarily well, given enough hidden units.\n",
    "\n",
    "So if one neuron could not slove the problem, you could try to add more until it works ;).\n",
    "\n",
    "You can also use Multi-layer perceptron to solve more complecated question. A dual-layer perceptron could have a structure like this:\n",
    "![perceptron2](https://raw.githubusercontent.com/wangchy27/picture/master/IMG_8A510592ED23-1.jpeg)"
   ]
  },
  {
   "cell_type": "markdown",
   "metadata": {},
   "source": [
    "## Nonlinear Activation Function"
   ]
  },
  {
   "cell_type": "markdown",
   "metadata": {},
   "source": [
    "Although we now have multi-layer perceptron, it still needs improvement. One of the biggest weakness is that, sometimes the data we had just cannot be divided using linear model. For the folowing dataset:   "
   ]
  },
  {
   "cell_type": "code",
   "execution_count": 3,
   "metadata": {},
   "outputs": [
    {
     "data": {
      "image/png": "[encoded data removed]",
      "text/plain": [
       "<matplotlib.figure.Figure at 0x110aca278>"
      ]
     },
     "metadata": {},
     "output_type": "display_data"
    }
   ],
   "source": [
    "#Genreate a random dataset in a circle\n",
    "def randomPointCircle(num, r, mark):\n",
    "    for i in range(0, num):\n",
    "        a = random.uniform(-r, r)\n",
    "        b = random.uniform(-r, r)\n",
    "        if (a**2) + (b**2) < (r**2):\n",
    "            plt.plot(a,b,marker = mark,color = \"red\")\n",
    "        else:\n",
    "            plt.plot(a,b,marker = mark,color = \"blue\")    \n",
    "#plot the dataset\n",
    "plt.figure(figsize=(5,5))\n",
    "plt.xlabel('x')\n",
    "plt.ylabel('y')\n",
    "randomPointCircle(200, 10, '*')\n",
    "theta = np.arange(0, 2*np.pi, 0.01)\n",
    "x = 0 + 10 * np.cos(theta)\n",
    "y = 0 + 10 * np.sin(theta)\n",
    "plt.plot(x, y,\"black\")\n",
    "plt.show()"
   ]
  },
  {
   "cell_type": "markdown",
   "metadata": {},
   "source": [
    "It is very hard for us to classified this dataset using only linear classification. (Of course we could use infinite lines to approach a circle, but that will be really expensive.) **So here come the solution: Non-linear Activation Fuction**\n",
    "\n",
    "Just like the activation duction sgn() function we used in the upper examples, non-linear activation fuction is used to take the result we get from a neuron as imput, and map into the output value, like this:\n",
    "$$g(X) = w_{0} + \\sum_{1}^{n}{w_{i}x_{i}}$$\n",
    "$$f(x) = a(g(X)) = a(w_{0} + \\sum_{1}^{n}{w_{i}x_{i}})$$\n",
    "Where $a( )$ is the activation fuction.\n",
    "\n",
    "Here we'll introduce three most-commonly used non-linear activation fuction: **Sigmoid( ), Tahn( ) and Relu( )**. \n",
    "\n",
    "The choice of activation fuction is a very tricky problem. Sometimes different activation fuction will lead to very different training result. Because our target reader is the beginners, we won't talk much about their pros and cons. You can find more reading material about activation fuction in the [Further Resources](#Further-Resources) part."
   ]
  },
  {
   "cell_type": "markdown",
   "metadata": {},
   "source": [
    "### Sigmoid( )"
   ]
  },
  {
   "cell_type": "markdown",
   "metadata": {},
   "source": [
    "Sigmoid function could also be written as $\\sigma(.)$. The math expression is as follow:\n",
    "$$\\sigma(x) = \\frac{1}{1 + \\exp(-x)}$$\n",
    "\n",
    "It could map continuous input value into (0,1)"
   ]
  },
  {
   "cell_type": "code",
   "execution_count": 4,
   "metadata": {},
   "outputs": [
    {
     "data": {
      "image/png": "[encoded data removed]",
      "text/plain": [
       "<matplotlib.figure.Figure at 0x10648a438>"
      ]
     },
     "metadata": {},
     "output_type": "display_data"
    }
   ],
   "source": [
    "import math\n",
    "\n",
    "def sigmoid(x):\n",
    "    a = []\n",
    "    for item in x:\n",
    "        a.append(1/(1+math.exp(-item)))\n",
    "    return a\n",
    "\n",
    "x = np.arange(-10., 10., 0.2)\n",
    "y = sigmoid(x)\n",
    "plt.plot(x,y)\n",
    "plt.grid(True, linestyle = \"-\", color = \"grey\", linewidth = \"0.5\")\n",
    "plt.plot([-10,10],[0.5,0.5],linestyle = \"-.\",color = \"black\")\n",
    "plt.plot([0,0],[0,1],linestyle = \"-.\",color = \"black\")\n",
    "plt.title(\"Sigmoid Function\")\n",
    "plt.show()"
   ]
  },
  {
   "cell_type": "markdown",
   "metadata": {},
   "source": [
    "### Tanh(  )"
   ]
  },
  {
   "cell_type": "markdown",
   "metadata": {},
   "source": [
    "Tanh( ) function is a transformation of Sigmoid() function:\n",
    "$$Tanh(x) = 2Sigmoid(2x) - 1$$\n",
    "It could also be expressed as:\n",
    "$$Tanh(x) = \\frac{\\exp(x) - \\exp(-x)}{\\exp(x) + \\exp(-x)}$$\n",
    "\n",
    "Tahn( ) maps continuous input value into (-1,1). It has an expectation of 0, which Sigmoid( ) does not. This gives it better result in some cases."
   ]
  },
  {
   "cell_type": "code",
   "execution_count": 5,
   "metadata": {},
   "outputs": [
    {
     "data": {
      "image/png": "[encoded data removed]",
      "text/plain": [
       "<matplotlib.figure.Figure at 0x10d759550>"
      ]
     },
     "metadata": {},
     "output_type": "display_data"
    }
   ],
   "source": [
    "import math\n",
    "\n",
    "def tanh(x):\n",
    "    a = []\n",
    "    for item in x:\n",
    "        a.append((math.exp(item) - (math.exp(-item)))/(math.exp(item) + (math.exp(-item))))\n",
    "    return a\n",
    "\n",
    "x = np.arange(-10., 10., 0.2)\n",
    "y = tanh(x)\n",
    "plt.plot(x,y)\n",
    "plt.grid(True, linestyle = \"-\", color = \"grey\", linewidth = \"0.5\")\n",
    "plt.plot([-10,10],[0,0],linestyle = \"-.\",color = \"black\")\n",
    "plt.plot([0,0],[-1,1],linestyle = \"-.\",color = \"black\")\n",
    "plt.title(\"Tanh Function\")\n",
    "plt.show()"
   ]
  },
  {
   "cell_type": "markdown",
   "metadata": {},
   "source": [
    "### ReLU( )"
   ]
  },
  {
   "cell_type": "markdown",
   "metadata": {},
   "source": [
    "ReLu( ) is very popular these years because it is simple and fast:\n",
    "$$f(x) = \\max(0,x)$$\n",
    "It is very suitable for training sparse data."
   ]
  },
  {
   "cell_type": "code",
   "execution_count": 6,
   "metadata": {},
   "outputs": [
    {
     "data": {
      "image/png": "[encoded data removed]",
      "text/plain": [
       "<matplotlib.figure.Figure at 0x106467c50>"
      ]
     },
     "metadata": {},
     "output_type": "display_data"
    }
   ],
   "source": [
    "import math\n",
    "\n",
    "def relu(x):\n",
    "    a = []\n",
    "    for item in x:\n",
    "        a.append(item - min(0,item))\n",
    "    return a\n",
    "\n",
    "x = np.arange(-10., 10., 0.2)\n",
    "y = relu(x)\n",
    "plt.plot(x,y)\n",
    "plt.grid(True, linestyle = \"-\", color = \"grey\", linewidth = \"0.5\")\n",
    "plt.plot([0,10],[0,0],linestyle = \"-.\",color = \"black\")\n",
    "plt.plot([0,0],[0,10],linestyle = \"-.\",color = \"black\")\n",
    "plt.title(\"ReLU Function\")\n",
    "plt.show()"
   ]
  },
  {
   "cell_type": "markdown",
   "metadata": {},
   "source": [
    "## Training"
   ]
  },
  {
   "cell_type": "markdown",
   "metadata": {},
   "source": [
    "After talking about the topological structure and activation fuction of neural network, we could finally come to the point of training a neural network. Again, because this is only a tutorial for beginner, we will only discuss about some basic idea of training neural network. You could find more reading material in the [Further Resources](#Further-Resources) part. \n",
    "\n",
    "### Training goal\n",
    "The training process is always an optimization problem. The goal of training is to minimize some **Loss Fuction**. For the three examples we have at the very beginning of this tutorial, the loss function could be:\n",
    "\n",
    "- The number of animals you mis-classified.\n",
    "- The rate for a \"HIV seronegativity\" sample be classified as “HIV seropositivity”\n",
    "- The rate for a normal email be classified as spam.\n",
    "\n",
    "If we use $L( )$ to denote the loss fuction, $Y$ to denote the expected output, and $f(X)$ to denote the output of the network, there are some popular loss function includes: "
   ]
  },
  {
   "cell_type": "markdown",
   "metadata": {},
   "source": [
    "#### 0-1 Loss"
   ]
  },
  {
   "cell_type": "markdown",
   "metadata": {},
   "source": [
    "$$L(Y,f(x)) = \\begin{cases} 1, Y \\neq f(X) \\\\ 0, Y = f(X) \\end{cases}$$"
   ]
  },
  {
   "cell_type": "markdown",
   "metadata": {},
   "source": [
    "#### Absolute Loss"
   ]
  },
  {
   "cell_type": "markdown",
   "metadata": {},
   "source": [
    "$$L(Y,f(X) = |Y - f(X)|$$"
   ]
  },
  {
   "cell_type": "markdown",
   "metadata": {},
   "source": [
    "#### Log Loss"
   ]
  },
  {
   "cell_type": "markdown",
   "metadata": {},
   "source": []
  },
  {
   "cell_type": "markdown",
   "metadata": {},
   "source": [
    "$$L(Y,P(Y|X))= -\\log P(Y|X)$$"
   ]
  },
  {
   "cell_type": "markdown",
   "metadata": {},
   "source": [
    "#### Square Loss"
   ]
  },
  {
   "cell_type": "markdown",
   "metadata": {},
   "source": [
    "$$L(Y,f(X)) = (Y - f(X))^2$$"
   ]
  },
  {
   "cell_type": "markdown",
   "metadata": {},
   "source": [
    "#### Exp Loss"
   ]
  },
  {
   "cell_type": "markdown",
   "metadata": {},
   "source": [
    "$$L(Y,f(X)) = \\exp(-Yf(X))$$"
   ]
  },
  {
   "cell_type": "markdown",
   "metadata": {},
   "source": [
    "#### Hinge Loss"
   ]
  },
  {
   "cell_type": "markdown",
   "metadata": {},
   "source": [
    "$$L(f(X)) = \\max(0, 1-tf(X)), t = \\pm 1$$"
   ]
  },
  {
   "cell_type": "markdown",
   "metadata": {},
   "source": [
    "### Training approach"
   ]
  },
  {
   "cell_type": "markdown",
   "metadata": {},
   "source": [
    "There are many approach to train a neural network. One of the approaches we use most today is **Gradient Descent**: to compute the gradient($\\nabla$) of the loss function with regard to model parameters(the wights), and then use the gradient to update the parameters. \n",
    "\n",
    "For example, if we use gradient descent to compute the gradient given $n$ examples and then update the weight $W$, with learning rate $\\alpha$ (Learning rate is the size of each step when doing gradient decent), the formula is as follow:\n",
    "$$ W_{i+1} = W_{i} - \\alpha \\nabla \\sum_{i = 1}^{n} L(f(x_{i}),Y_{i})$$\n",
    "\n",
    "So basically, the training of neural network consists of two steps:\n",
    "\n",
    "#### Forward pass:\n",
    "Compute the output value $f(X)$ given a input vector $X$ and the current network parameters $W$.\n",
    "\n",
    "#### Backward pass:\n",
    "Compute all the gradients $\\nabla_{W}L$ with just one pass and update parameters $W$.\n",
    "\n",
    "The way to do backward pass is a method called **Backpropagation**, carried out by **Rumelhart** and **McCelland** in 1986. You could find more reading material in the [Further Resources](#Further-Resources) part."
   ]
  },
  {
   "cell_type": "markdown",
   "metadata": {},
   "source": [
    "## Further Resources"
   ]
  },
  {
   "cell_type": "markdown",
   "metadata": {},
   "source": [
    "Congratulation! You have now know about all the basic things about Neural Network! However, as you may notice, we neglect many important details and haven't talk about programming implementation yet. So if you want to know more about it, please refer to the following material."
   ]
  },
  {
   "cell_type": "markdown",
   "metadata": {},
   "source": [
    "### [Machine Learning, Tom Mitchell, McGraw Hill, 1997.](http://www.cs.cmu.edu/afs/cs.cmu.edu/user/mitchell/ftp/mlbook.html)\n",
    "\n",
    "A very good textbook that could be download for free. Chapter 4 talks about *Artificial Neural Network*"
   ]
  },
  {
   "cell_type": "markdown",
   "metadata": {},
   "source": [
    "### [Machine Learning, Andrew Ng on coursera](https://www.coursera.org/learn/machine-learning)\n",
    "One of the most popular courses on coursera. Videos are short so you could learn in your spare time."
   ]
  },
  {
   "cell_type": "markdown",
   "metadata": {},
   "source": [
    "###  [Tensorflow playground](http://playground.tensorflow.org) \n",
    "\n",
    "This is the fastest way to explore neural network. You could simply add neurons by clicking a button, and change the parameters as you want. Just have fun!"
   ]
  },
  {
   "cell_type": "markdown",
   "metadata": {},
   "source": [
    "### [Tensorflow Library](https://www.tensorflow.org/)\n",
    "Tensorflow is a library that could greatly help us to train a neural network. Here I use Tensorflow to build a neural network with one hidden layer. You could look deep into the library if you are interested."
   ]
  },
  {
   "cell_type": "code",
   "execution_count": 7,
   "metadata": {},
   "outputs": [
    {
     "name": "stdout",
     "output_type": "stream",
     "text": [
      "the accuracy is: 0.714286\n"
     ]
    }
   ],
   "source": [
    "import tensorflow as tf;\n",
    "\n",
    "def train_data():\n",
    "    x = [[2], [4], [7], [12], [14], [17], [20], [22], [28], [30], [50]];\n",
    "\n",
    "    y = [[1, 0], [1, 0], [1, 0], [1, 0], [0, 1], [0, 1], [0, 1], [0, 1], [0, 1], [1, 0], [1, 0]];\n",
    "    return (x, y);\n",
    "\n",
    "def test_data():\n",
    "    x = [[3], [6], [8], [19], [21],[32],[44]];\n",
    "    y = [[1, 0], [1, 0], [1, 0], [0, 1], [0,1], [1,0],[1,0]];\n",
    "    return (x, y);\n",
    "\n",
    "#Training dataset\n",
    "x = tf.placeholder(dtype=tf.float32, shape=[None, 1], name='x-input');\n",
    "#Label the training dataset\n",
    "y_ = tf.placeholder(dtype=tf.float32, shape=[None, 2], name='y-input');\n",
    "#Define the weights between input and the hidden layer\n",
    "w1 = tf.get_variable('weight1', shape=[1, 3],\n",
    "        initializer=tf.random_normal_initializer(stddev=1, dtype=tf.float32))\n",
    "#Define the bias between input and the hiddden layer\n",
    "b1 = tf.get_variable('bias1', shape=[3],\n",
    "        initializer=tf.random_normal_initializer(stddev=1, dtype=tf.float32))\n",
    "#Define the weight between the hidden layer and the output layer\n",
    "w2 = tf.get_variable('weight2', shape=[3, 2],\n",
    "        initializer=tf.random_normal_initializer(stddev=1, dtype=tf.float32))\n",
    "#Define the weight between the hidden layer and the output layer\n",
    "b2 = tf.get_variable('bias2', shape=[2],\n",
    "        initializer=tf.random_normal_initializer(stddev=1, dtype=tf.float32))\n",
    "\n",
    "layer1 = tf.nn.sigmoid(tf.matmul(x, w1) + b1);\n",
    "#This is the estimated output value\n",
    "y = tf.matmul(layer1, w2) + b2; \n",
    "#Use Squared-Loss as the loss function\n",
    "loss = tf.nn.l2_loss(y-y_); \n",
    "#Start training \n",
    "train = tf.train.GradientDescentOptimizer(learning_rate=0.01).minimize(loss);\n",
    "\n",
    "#Testing\n",
    "with tf.Session() as sess:\n",
    "    #Initialization\n",
    "    sess.run(tf.global_variables_initializer());\n",
    "    x_train = train_data()[0];\n",
    "    y_train = train_data()[1];\n",
    "    for i in range(5000):\n",
    "        sess.run(train, feed_dict={x:x_train, y_:y_train})\n",
    "\n",
    "    #Test the accuracy of the training\n",
    "    x_test = test_data()[0];\n",
    "    y_test = test_data()[1];\n",
    "\n",
    "    count = 0;\n",
    "    y_max_value_index = np.argmax(y_test, axis=1); \n",
    "    for i in range(5):\n",
    "        y_value = sess.run(y[i], feed_dict={x:x_test});\n",
    "\n",
    "        if np.equal(y_max_value_index[i], np.argmax(y_value)):\n",
    "            count += 1;\n",
    "    print(\"the accuracy is: %f\"%(count/len(y_test)));"
   ]
  }
 ],
 "metadata": {
  "kernelspec": {
   "display_name": "Python 3",
   "language": "python",
   "name": "python3"
  },
  "language_info": {
   "codemirror_mode": {
    "name": "ipython",
    "version": 3
   },
   "file_extension": ".py",
   "mimetype": "text/x-python",
   "name": "python",
   "nbconvert_exporter": "python",
   "pygments_lexer": "ipython3",
   "version": "3.6.3"
  }
 },
 "nbformat": 4,
 "nbformat_minor": 2
}