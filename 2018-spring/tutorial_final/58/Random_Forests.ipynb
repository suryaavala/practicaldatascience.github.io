{
 "cells": [
  {
   "cell_type": "markdown",
   "metadata": {},
   "source": [
    "# Random Forests"
   ]
  },
  {
   "cell_type": "markdown",
   "metadata": {},
   "source": [
    "## Introduction:\n",
    "    \n"
   ]
  },
  {
   "cell_type": "markdown",
   "metadata": {},
   "source": [
    "This tutorial will give you an insight of the concept of Random Forests, how to use them and when to use them. I assume that the readers have the basic knowledge of decision trees. Random Forest is a supervised machine learning algorithm, it is used for classification as well as regression. We will see the implementation for a classification problem. It is one of the goto methods for data scientists in classification problems. Also, random forests perform well even without paramter tuning. Decision trees suﬀer from high variance. This means that if we change the training data even little, the decision trees change alot. Bootstrap aggregation, or bagging, is a general-purpose procedure for reducing the bagging variance of a statistical learning method; it is particularly useful and frequently used in the context of decision trees. \n",
    "\n",
    "In bagging, we bootstrap, by taking repeated samples from the (single) training data set. In this approach we generate B diﬀerent bootstrapped training data sets. We then train our model on the bth bootstrapped training set and average all the predictions. Random forests provide an improvement over bagged trees by decorrelating the trees. In this technique, we build a number of decision trees on bootstrapped training samples. But when building these decision trees, each time a split in a tree is considered, a random sample of say m predictors is chosen as split candidates from the full set of p predictors. The split is allowed to use only one of those m predictors. Thus, this ensures the randomness, and decreases the variance. \n"
   ]
  },
  {
   "cell_type": "markdown",
   "metadata": {},
   "source": [
    "### Installing the libraries:"
   ]
  },
  {
   "cell_type": "markdown",
   "metadata": {},
   "source": [
    "Before getting started, you need to install graphviz library which is used to visualize the decsion tree. You can install it using:\n",
    "\n",
    "$ pip install graphviz  \n",
    "\n",
    "or\n",
    "\n",
    "$conda install graphviz"
   ]
  },
  {
   "cell_type": "markdown",
   "metadata": {},
   "source": [
    "### Libraries:"
   ]
  },
  {
   "cell_type": "code",
   "execution_count": 122,
   "metadata": {
    "collapsed": true
   },
   "outputs": [],
   "source": [
    "from sklearn.datasets import load_wine\n",
    "import pandas as pd\n",
    "import numpy as np\n",
    "import collections\n",
    "from sklearn.model_selection import train_test_split\n",
    "from sklearn.ensemble import RandomForestClassifier\n",
    "from sklearn.metrics import accuracy_score\n",
    "import matplotlib.pyplot as plt\n",
    "from sklearn.metrics import confusion_matrix\n",
    "import seaborn as sns\n",
    "from sklearn.tree import export_graphviz\n",
    "import graphviz\n",
    "from sklearn import tree\n",
    "from sklearn.datasets import load_iris\n",
    "from sklearn.metrics import classification_report"
   ]
  },
  {
   "cell_type": "markdown",
   "metadata": {},
   "source": [
    "### Dataset Description:"
   ]
  },
  {
   "cell_type": "markdown",
   "metadata": {},
   "source": [
    "For this tutorial, we will be using wine dataset available in sklearn library. It is hosted in the UCI machine learning repository https://archive.ics.uci.edu/ml/datasets/wine . It contains chemical analysis of the content of wines grown in the same region in Italy, but derived from three different cultivars. The instances are classified into three classes: 1, 2 and 3."
   ]
  },
  {
   "cell_type": "markdown",
   "metadata": {},
   "source": [
    "### Loading and exploring dataset"
   ]
  },
  {
   "cell_type": "code",
   "execution_count": 2,
   "metadata": {},
   "outputs": [
    {
     "name": "stdout",
     "output_type": "stream",
     "text": [
      "(178, 13)\n",
      "[0 1 2]\n",
      "Counter({1: 71, 0: 59, 2: 48})\n",
      "False\n"
     ]
    },
    {
     "data": {
      "text/html": [
       "<div>\n",
       "<style>\n",
       "    .dataframe thead tr:only-child th {\n",
       "        text-align: right;\n",
       "    }\n",
       "\n",
       "    .dataframe thead th {\n",
       "        text-align: left;\n",
       "    }\n",
       "\n",
       "    .dataframe tbody tr th {\n",
       "        vertical-align: top;\n",
       "    }\n",
       "</style>\n",
       "<table border=\"1\" class=\"dataframe\">\n",
       "  <thead>\n",
       "    <tr style=\"text-align: right;\">\n",
       "      <th></th>\n",
       "      <th>alcohol</th>\n",
       "      <th>malic_acid</th>\n",
       "      <th>ash</th>\n",
       "      <th>alcalinity_of_ash</th>\n",
       "      <th>magnesium</th>\n",
       "      <th>total_phenols</th>\n",
       "      <th>flavanoids</th>\n",
       "      <th>nonflavanoid_phenols</th>\n",
       "      <th>proanthocyanins</th>\n",
       "      <th>color_intensity</th>\n",
       "      <th>hue</th>\n",
       "      <th>od280/od315_of_diluted_wines</th>\n",
       "      <th>proline</th>\n",
       "    </tr>\n",
       "  </thead>\n",
       "  <tbody>\n",
       "    <tr>\n",
       "      <th>0</th>\n",
       "      <td>14.23</td>\n",
       "      <td>1.71</td>\n",
       "      <td>2.43</td>\n",
       "      <td>15.6</td>\n",
       "      <td>127.0</td>\n",
       "      <td>2.80</td>\n",
       "      <td>3.06</td>\n",
       "      <td>0.28</td>\n",
       "      <td>2.29</td>\n",
       "      <td>5.64</td>\n",
       "      <td>1.04</td>\n",
       "      <td>3.92</td>\n",
       "      <td>1065.0</td>\n",
       "    </tr>\n",
       "    <tr>\n",
       "      <th>1</th>\n",
       "      <td>13.20</td>\n",
       "      <td>1.78</td>\n",
       "      <td>2.14</td>\n",
       "      <td>11.2</td>\n",
       "      <td>100.0</td>\n",
       "      <td>2.65</td>\n",
       "      <td>2.76</td>\n",
       "      <td>0.26</td>\n",
       "      <td>1.28</td>\n",
       "      <td>4.38</td>\n",
       "      <td>1.05</td>\n",
       "      <td>3.40</td>\n",
       "      <td>1050.0</td>\n",
       "    </tr>\n",
       "    <tr>\n",
       "      <th>2</th>\n",
       "      <td>13.16</td>\n",
       "      <td>2.36</td>\n",
       "      <td>2.67</td>\n",
       "      <td>18.6</td>\n",
       "      <td>101.0</td>\n",
       "      <td>2.80</td>\n",
       "      <td>3.24</td>\n",
       "      <td>0.30</td>\n",
       "      <td>2.81</td>\n",
       "      <td>5.68</td>\n",
       "      <td>1.03</td>\n",
       "      <td>3.17</td>\n",
       "      <td>1185.0</td>\n",
       "    </tr>\n",
       "    <tr>\n",
       "      <th>3</th>\n",
       "      <td>14.37</td>\n",
       "      <td>1.95</td>\n",
       "      <td>2.50</td>\n",
       "      <td>16.8</td>\n",
       "      <td>113.0</td>\n",
       "      <td>3.85</td>\n",
       "      <td>3.49</td>\n",
       "      <td>0.24</td>\n",
       "      <td>2.18</td>\n",
       "      <td>7.80</td>\n",
       "      <td>0.86</td>\n",
       "      <td>3.45</td>\n",
       "      <td>1480.0</td>\n",
       "    </tr>\n",
       "    <tr>\n",
       "      <th>4</th>\n",
       "      <td>13.24</td>\n",
       "      <td>2.59</td>\n",
       "      <td>2.87</td>\n",
       "      <td>21.0</td>\n",
       "      <td>118.0</td>\n",
       "      <td>2.80</td>\n",
       "      <td>2.69</td>\n",
       "      <td>0.39</td>\n",
       "      <td>1.82</td>\n",
       "      <td>4.32</td>\n",
       "      <td>1.04</td>\n",
       "      <td>2.93</td>\n",
       "      <td>735.0</td>\n",
       "    </tr>\n",
       "  </tbody>\n",
       "</table>\n",
       "</div>"
      ],
      "text/plain": [
       "   alcohol  malic_acid   ash  alcalinity_of_ash  magnesium  total_phenols  \\\n",
       "0    14.23        1.71  2.43               15.6      127.0           2.80   \n",
       "1    13.20        1.78  2.14               11.2      100.0           2.65   \n",
       "2    13.16        2.36  2.67               18.6      101.0           2.80   \n",
       "3    14.37        1.95  2.50               16.8      113.0           3.85   \n",
       "4    13.24        2.59  2.87               21.0      118.0           2.80   \n",
       "\n",
       "   flavanoids  nonflavanoid_phenols  proanthocyanins  color_intensity   hue  \\\n",
       "0        3.06                  0.28             2.29             5.64  1.04   \n",
       "1        2.76                  0.26             1.28             4.38  1.05   \n",
       "2        3.24                  0.30             2.81             5.68  1.03   \n",
       "3        3.49                  0.24             2.18             7.80  0.86   \n",
       "4        2.69                  0.39             1.82             4.32  1.04   \n",
       "\n",
       "   od280/od315_of_diluted_wines  proline  \n",
       "0                          3.92   1065.0  \n",
       "1                          3.40   1050.0  \n",
       "2                          3.17   1185.0  \n",
       "3                          3.45   1480.0  \n",
       "4                          2.93    735.0  "
      ]
     },
     "execution_count": 2,
     "metadata": {},
     "output_type": "execute_result"
    }
   ],
   "source": [
    "##loading wine data from sklearn with features and target variable\n",
    "data = load_wine()\n",
    "\n",
    "target = data.target\n",
    "features = data.data\n",
    "\n",
    "##Let us look at the size of the data\n",
    "print(features.shape)\n",
    "## There are 13 features and 178 rows\n",
    "\n",
    "##Let us check for the target classes\n",
    "print(np.unique(target))\n",
    "print(collections.Counter(target))\n",
    "## Here we have 71 in class 1, 59 in class 0 and 48 in class 2\n",
    "\n",
    "\n",
    "df = pd.DataFrame(features, columns=data.feature_names)\n",
    "## Let us check for null values in the dataframe\n",
    "print(df.isnull().values.any())\n",
    "## No NULL values found\n",
    "\n",
    "df.head()"
   ]
  },
  {
   "cell_type": "markdown",
   "metadata": {},
   "source": [
    "### Fitting the Model"
   ]
  },
  {
   "cell_type": "code",
   "execution_count": 3,
   "metadata": {
    "collapsed": true
   },
   "outputs": [],
   "source": [
    "# Let us split data to train and test set 30% test size\n",
    "X_train, X_test, y_train, y_test = train_test_split(features, target,test_size=0.30,random_state=1000)\n",
    "\n",
    "## Fitting the model i.e. using train data set to train the random forest\n",
    "rf = RandomForestClassifier(criterion ='gini', n_estimators=100, oob_score=True, random_state=1000)\n",
    "rf.fit(X_train, y_train)\n",
    "\n",
    "\n",
    "##Predicting using the test data set\n",
    "predicted = rf.predict(X_test)\n",
    "\n"
   ]
  },
  {
   "cell_type": "code",
   "execution_count": 4,
   "metadata": {},
   "outputs": [
    {
     "name": "stdout",
     "output_type": "stream",
     "text": [
      "Counter({1: 47, 0: 44, 2: 33})\n"
     ]
    }
   ],
   "source": [
    "print(collections.Counter(y_train))"
   ]
  },
  {
   "cell_type": "markdown",
   "metadata": {},
   "source": [
    "Let us talk about few important parameters used for  tuning in Random forests:\n",
    "1. n_estimators: it is the number of trees in the random forest. More number of trees will decrease the variance and will be good for the model.\n",
    "2. oob_score: It is the out of bag error calculated on training dataset. We will dive deep into this in the following section.\n",
    "3. random_state: Each time you run the random forest algorithm, the models will change, as each tree chooses predictors to split randomly. To keep the results constant every time you run the random forest using same training set, you need to set the random_state. \n",
    "4. criterion: This is the objective function on which the split is based on. It could be gini or entropy. Both of these are discused in detail in later part of the tutorial"
   ]
  },
  {
   "cell_type": "markdown",
   "metadata": {},
   "source": [
    "### Feature Importance:"
   ]
  },
  {
   "cell_type": "markdown",
   "metadata": {},
   "source": [
    "One of the useful features of treebased models is that it helps for feature selection in data science problems. Many a times data scientists use tree based models in feature engineering, to select the features. Feature importance is computed using the mean decrease in Gini index, and expressed relative to the maximum. \n",
    "\n",
    "We will use sklearn library to see the feature importanace in our model. It measures the importance by looking at how much the tree nodes, which use that feature, reduce impurity across all trees in the forest. It computes this score for each feature after training and averages across the trees in the forest. Note that this importance values lie in 0-1. Also, the sum of all the feature importances is 1. Thus, we can analyze which features contribute the most in the prediction process. Many a times, you would want to drop the features with very low importance, as it would be leading to overfitting  of the model.\n",
    "\n"
   ]
  },
  {
   "cell_type": "code",
   "execution_count": 5,
   "metadata": {},
   "outputs": [
    {
     "name": "stdout",
     "output_type": "stream",
     "text": [
      "Feature ranking:\n",
      "1. feature: proline , importance: 0.172874\n",
      "2. feature: flavanoids , importance: 0.168300\n",
      "3. feature: color_intensity , importance: 0.132163\n",
      "4. feature: alcohol , importance: 0.131633\n",
      "5. feature: od280/od315_of_diluted_wines , importance: 0.131210\n",
      "6. feature: hue , importance: 0.069135\n",
      "7. feature: total_phenols , importance: 0.052826\n",
      "8. feature: alcalinity_of_ash , importance: 0.036188\n",
      "9. feature: magnesium , importance: 0.036119\n",
      "10. feature: malic_acid , importance: 0.028318\n",
      "11. feature: proanthocyanins , importance: 0.021559\n",
      "12. feature: ash , importance: 0.010107\n",
      "13. feature: nonflavanoid_phenols , importance: 0.009569\n"
     ]
    },
    {
     "data": {
      "image/png": "[encoded data removed]",
      "text/plain": [
       "<matplotlib.figure.Figure at 0x1fbafa17e80>"
      ]
     },
     "metadata": {},
     "output_type": "display_data"
    }
   ],
   "source": [
    "## Feature Importance:\n",
    "importances = rf.feature_importances_\n",
    "std = np.std([tree.feature_importances_ for tree in rf.estimators_],\n",
    "             axis=0)\n",
    "indices = np.argsort(importances)[::-1]\n",
    "\n",
    "\n",
    "print(\"Feature ranking:\")\n",
    "\n",
    "\n",
    "sorted_features_importances =[]\n",
    "\n",
    "for f in range(X_train.shape[1]):\n",
    "    sorted_features_importances.append(data.feature_names[indices[f]])\n",
    "    print(\"%d. feature: %s , importance: %f\" % (f + 1, data.feature_names[indices[f]], importances[indices[f]]))\n",
    "\n",
    "\n",
    "# Plot the feature importances of the forest\n",
    "plt.figure()\n",
    "plt.title(\"Feature importances\")\n",
    "plt.bar(range(X_train.shape[1]), importances[indices],\n",
    "       color=\"r\", yerr=std[indices], align=\"center\")\n",
    "plt.xticks(range(X_train.shape[1]), sorted_features_importances, rotation='vertical')\n",
    "plt.xlim([-1, X_train.shape[1]])\n",
    "plt.show()"
   ]
  },
  {
   "cell_type": "markdown",
   "metadata": {},
   "source": [
    "In our model, we can see that proline has the highest importance, followed by flavanoids, color_intensity, alcohol, od280/od315_of_diluted_wines. We can also see that the importance of ash, nonflavanoid_phenols is too low."
   ]
  },
  {
   "cell_type": "markdown",
   "metadata": {},
   "source": [
    "### Model Evaluation"
   ]
  },
  {
   "cell_type": "markdown",
   "metadata": {},
   "source": [
    "Let us see how Random forest perform on the test data"
   ]
  },
  {
   "cell_type": "code",
   "execution_count": 6,
   "metadata": {},
   "outputs": [
    {
     "name": "stdout",
     "output_type": "stream",
     "text": [
      "Accurcay score is: 0.962963\n",
      "             precision    recall  f1-score   support\n",
      "\n",
      "          0       1.00      1.00      1.00        15\n",
      "          1       1.00      0.92      0.96        24\n",
      "          2       0.88      1.00      0.94        15\n",
      "\n",
      "avg / total       0.97      0.96      0.96        54\n",
      "\n"
     ]
    }
   ],
   "source": [
    "##Accuracy\n",
    "accuracy = accuracy_score(y_test, predicted)\n",
    "print(\"Accurcay score is: %f\" %(accuracy))\n",
    "\n",
    "## precision recall f1score\n",
    "print(classification_report(y_test, predicted, target_names= ['0','1','2']))\n",
    "\n"
   ]
  },
  {
   "cell_type": "markdown",
   "metadata": {},
   "source": [
    "### Out Of Bag Error"
   ]
  },
  {
   "cell_type": "markdown",
   "metadata": {},
   "source": [
    "Let us understand how Out of Bag Error gives an estimate of performace of Random forest. In Random forest, the trees are formed by bootstrapping the observations with replacement. Every observation is likely to be in a sample with a probability of 2/3. Which means it is used for training in approximately 2/3 of the trees, and is a part of test set for 1/3 of the trees in the random forest. Thus, each tree is trained for 2/3 of the samples and tested for 1/3 of the samples. OOB or Out of Bag error is the average of errors for the trees in which the ibservations are test set. Thus, in Random forests, we do not need to do cross-validation. This itself provides an estimate of the errors."
   ]
  },
  {
   "cell_type": "code",
   "execution_count": 7,
   "metadata": {},
   "outputs": [
    {
     "name": "stdout",
     "output_type": "stream",
     "text": [
      "The Out Of Bag error is: 0.032258\n"
     ]
    }
   ],
   "source": [
    "print(\"The Out Of Bag error is: %f\"%( 1- rf.oob_score_))"
   ]
  },
  {
   "cell_type": "markdown",
   "metadata": {},
   "source": [
    "### Confusion Matrix:"
   ]
  },
  {
   "cell_type": "markdown",
   "metadata": {},
   "source": [
    "Let us see how well our classifier is doing. "
   ]
  },
  {
   "cell_type": "code",
   "execution_count": 8,
   "metadata": {},
   "outputs": [
    {
     "data": {
      "image/png": "[encoded data removed]",
      "text/plain": [
       "<matplotlib.figure.Figure at 0x1fbb33a4c50>"
      ]
     },
     "metadata": {},
     "output_type": "display_data"
    }
   ],
   "source": [
    "matrix = pd.DataFrame(confusion_matrix(y_test, predicted), columns=np.unique(target), index=np.unique(target))\n",
    "sns.heatmap(matrix, annot=True)\n",
    "plt.show()"
   ]
  },
  {
   "cell_type": "code",
   "execution_count": 9,
   "metadata": {},
   "outputs": [
    {
     "name": "stdout",
     "output_type": "stream",
     "text": [
      "[0 1 2]\n"
     ]
    }
   ],
   "source": [
    "## Let us visualize underlying decision trees:\n",
    "## the following code produces .dot files for all the decion trees\n",
    "\n",
    "i_tree = 0\n",
    "class_names = np.unique(target)\n",
    "print(class_names)\n",
    "for tree_in_forest in rf.estimators_:\n",
    "    with open('tree_' + str(i_tree) + '.dot', 'w') as trees:\n",
    "        trees = tree.export_graphviz(tree_in_forest,feature_names=data.feature_names, class_names=['0','1','2'],out_file = trees)\n",
    "        graph = graphviz.Source(trees)  \n",
    "    i_tree = i_tree + 1\n"
   ]
  },
  {
   "cell_type": "markdown",
   "metadata": {},
   "source": [
    "To generate the decision trees http://webgraphviz.com/ has been used."
   ]
  },
  {
   "cell_type": "markdown",
   "metadata": {},
   "source": [
    "### Gini Index and Entropy:"
   ]
  },
  {
   "cell_type": "markdown",
   "metadata": {},
   "source": [
    "Let us understand how the decision trees are build. At each split, we need to consider an objective function. That is what the criterion parameter in the classifier accounts for.\n",
    "\n",
    "Gini index:\n",
    "It is the measure of probability of classifying a wrong label of a randomly chosen observation. It is 0 when all the subsets are pure or of the same class.\n",
    "\n",
    "Gini index= 1-$\\sum p^2$\n",
    "\n",
    "Thus, when you are choosing Gini index as your criterion, you would want to minimize the gini index.\n",
    "\n",
    "Entropy:\n",
    "Entropy defines how disorgnized the data is. For example if I have a node with 50 of class 1 and 50 of class 2, it is completely disorganized having entropy of 1. On the other hand, if I have a node with 95 of class 1 and 5 of class 2, it has less entropy. Thus, splitting on the latter will be more useful. It is 0, when the data is pure.\n",
    "\n",
    "Entropy = - p log p - q log q\n",
    "\n",
    "\n"
   ]
  },
  {
   "cell_type": "markdown",
   "metadata": {},
   "source": [
    "To understand how a decision tree splits using gini index or entropy, let us fit a decision tree classifier and calculate the gini indexes at each split. Please note, random forest does not split on minimum gini index of all features, but it uses the minimum index considering restricted predictors. This is to produce randomness in our model. To demostarte let us fit a decision tree classifier. "
   ]
  },
  {
   "cell_type": "code",
   "execution_count": 117,
   "metadata": {},
   "outputs": [
    {
     "data": {
      "image/svg+xml": [
       "<?xml version=\"1.0\" encoding=\"UTF-8\" standalone=\"no\"?>\r\n",
       "<!DOCTYPE svg PUBLIC \"-//W3C//DTD SVG 1.1//EN\"\r\n",
       " \"http://www.w3.org/Graphics/SVG/1.1/DTD/svg11.dtd\">\r\n",
       "<!-- Generated by graphviz version 2.38.0 (20140413.2041)\r\n",
       " -->\r\n",
       "<!-- Title: Tree Pages: 1 -->\r\n",
       "<svg width=\"531pt\" height=\"552pt\"\r\n",
       " viewBox=\"0.00 0.00 531.00 552.00\" xmlns=\"http://www.w3.org/2000/svg\" xmlns:xlink=\"http://www.w3.org/1999/xlink\">\r\n",
       "<g id=\"graph0\" class=\"graph\" transform=\"scale(1 1) rotate(0) translate(4 548)\">\r\n",
       "<title>Tree</title>\r\n",
       "<polygon fill=\"white\" stroke=\"none\" points=\"-4,4 -4,-548 527,-548 527,4 -4,4\"/>\r\n",
       "<!-- 0 -->\r\n",
       "<g id=\"node1\" class=\"node\"><title>0</title>\r\n",
       "<polygon fill=\"none\" stroke=\"black\" points=\"336,-544 187,-544 187,-461 336,-461 336,-544\"/>\r\n",
       "<text text-anchor=\"middle\" x=\"261.5\" y=\"-528.8\" font-family=\"Times New Roman,serif\" font-size=\"14.00\">petal width (cm) &lt;= 0.8</text>\r\n",
       "<text text-anchor=\"middle\" x=\"261.5\" y=\"-513.8\" font-family=\"Times New Roman,serif\" font-size=\"14.00\">gini = 0.664</text>\r\n",
       "<text text-anchor=\"middle\" x=\"261.5\" y=\"-498.8\" font-family=\"Times New Roman,serif\" font-size=\"14.00\">samples = 105</text>\r\n",
       "<text text-anchor=\"middle\" x=\"261.5\" y=\"-483.8\" font-family=\"Times New Roman,serif\" font-size=\"14.00\">value = [39, 34, 32]</text>\r\n",
       "<text text-anchor=\"middle\" x=\"261.5\" y=\"-468.8\" font-family=\"Times New Roman,serif\" font-size=\"14.00\">class = setosa</text>\r\n",
       "</g>\r\n",
       "<!-- 1 -->\r\n",
       "<g id=\"node2\" class=\"node\"><title>1</title>\r\n",
       "<polygon fill=\"none\" stroke=\"black\" points=\"241.5,-417.5 129.5,-417.5 129.5,-349.5 241.5,-349.5 241.5,-417.5\"/>\r\n",
       "<text text-anchor=\"middle\" x=\"185.5\" y=\"-402.3\" font-family=\"Times New Roman,serif\" font-size=\"14.00\">gini = 0.0</text>\r\n",
       "<text text-anchor=\"middle\" x=\"185.5\" y=\"-387.3\" font-family=\"Times New Roman,serif\" font-size=\"14.00\">samples = 39</text>\r\n",
       "<text text-anchor=\"middle\" x=\"185.5\" y=\"-372.3\" font-family=\"Times New Roman,serif\" font-size=\"14.00\">value = [39, 0, 0]</text>\r\n",
       "<text text-anchor=\"middle\" x=\"185.5\" y=\"-357.3\" font-family=\"Times New Roman,serif\" font-size=\"14.00\">class = setosa</text>\r\n",
       "</g>\r\n",
       "<!-- 0&#45;&gt;1 -->\r\n",
       "<g id=\"edge1\" class=\"edge\"><title>0&#45;&gt;1</title>\r\n",
       "<path fill=\"none\" stroke=\"black\" d=\"M235.132,-460.907C227.821,-449.652 219.874,-437.418 212.526,-426.106\"/>\r\n",
       "<polygon fill=\"black\" stroke=\"black\" points=\"215.427,-424.146 207.044,-417.667 209.557,-427.96 215.427,-424.146\"/>\r\n",
       "<text text-anchor=\"middle\" x=\"201.849\" y=\"-438.421\" font-family=\"Times New Roman,serif\" font-size=\"14.00\">True</text>\r\n",
       "</g>\r\n",
       "<!-- 2 -->\r\n",
       "<g id=\"node3\" class=\"node\"><title>2</title>\r\n",
       "<polygon fill=\"none\" stroke=\"black\" points=\"415,-425 260,-425 260,-342 415,-342 415,-425\"/>\r\n",
       "<text text-anchor=\"middle\" x=\"337.5\" y=\"-409.8\" font-family=\"Times New Roman,serif\" font-size=\"14.00\">petal width (cm) &lt;= 1.75</text>\r\n",
       "<text text-anchor=\"middle\" x=\"337.5\" y=\"-394.8\" font-family=\"Times New Roman,serif\" font-size=\"14.00\">gini = 0.5</text>\r\n",
       "<text text-anchor=\"middle\" x=\"337.5\" y=\"-379.8\" font-family=\"Times New Roman,serif\" font-size=\"14.00\">samples = 66</text>\r\n",
       "<text text-anchor=\"middle\" x=\"337.5\" y=\"-364.8\" font-family=\"Times New Roman,serif\" font-size=\"14.00\">value = [0, 34, 32]</text>\r\n",
       "<text text-anchor=\"middle\" x=\"337.5\" y=\"-349.8\" font-family=\"Times New Roman,serif\" font-size=\"14.00\">class = versicolor</text>\r\n",
       "</g>\r\n",
       "<!-- 0&#45;&gt;2 -->\r\n",
       "<g id=\"edge2\" class=\"edge\"><title>0&#45;&gt;2</title>\r\n",
       "<path fill=\"none\" stroke=\"black\" d=\"M287.868,-460.907C293.586,-452.105 299.693,-442.703 305.598,-433.612\"/>\r\n",
       "<polygon fill=\"black\" stroke=\"black\" points=\"308.667,-435.313 311.179,-425.021 302.796,-431.5 308.667,-435.313\"/>\r\n",
       "<text text-anchor=\"middle\" x=\"316.374\" y=\"-445.775\" font-family=\"Times New Roman,serif\" font-size=\"14.00\">False</text>\r\n",
       "</g>\r\n",
       "<!-- 3 -->\r\n",
       "<g id=\"node4\" class=\"node\"><title>3</title>\r\n",
       "<polygon fill=\"none\" stroke=\"black\" points=\"340.5,-306 182.5,-306 182.5,-223 340.5,-223 340.5,-306\"/>\r\n",
       "<text text-anchor=\"middle\" x=\"261.5\" y=\"-290.8\" font-family=\"Times New Roman,serif\" font-size=\"14.00\">petal length (cm) &lt;= 5.05</text>\r\n",
       "<text text-anchor=\"middle\" x=\"261.5\" y=\"-275.8\" font-family=\"Times New Roman,serif\" font-size=\"14.00\">gini = 0.188</text>\r\n",
       "<text text-anchor=\"middle\" x=\"261.5\" y=\"-260.8\" font-family=\"Times New Roman,serif\" font-size=\"14.00\">samples = 38</text>\r\n",
       "<text text-anchor=\"middle\" x=\"261.5\" y=\"-245.8\" font-family=\"Times New Roman,serif\" font-size=\"14.00\">value = [0, 34, 4]</text>\r\n",
       "<text text-anchor=\"middle\" x=\"261.5\" y=\"-230.8\" font-family=\"Times New Roman,serif\" font-size=\"14.00\">class = versicolor</text>\r\n",
       "</g>\r\n",
       "<!-- 2&#45;&gt;3 -->\r\n",
       "<g id=\"edge3\" class=\"edge\"><title>2&#45;&gt;3</title>\r\n",
       "<path fill=\"none\" stroke=\"black\" d=\"M311.132,-341.907C305.414,-333.105 299.307,-323.703 293.402,-314.612\"/>\r\n",
       "<polygon fill=\"black\" stroke=\"black\" points=\"296.204,-312.5 287.821,-306.021 290.333,-316.313 296.204,-312.5\"/>\r\n",
       "</g>\r\n",
       "<!-- 10 -->\r\n",
       "<g id=\"node11\" class=\"node\"><title>10</title>\r\n",
       "<polygon fill=\"none\" stroke=\"black\" points=\"470.5,-298.5 358.5,-298.5 358.5,-230.5 470.5,-230.5 470.5,-298.5\"/>\r\n",
       "<text text-anchor=\"middle\" x=\"414.5\" y=\"-283.3\" font-family=\"Times New Roman,serif\" font-size=\"14.00\">gini = 0.0</text>\r\n",
       "<text text-anchor=\"middle\" x=\"414.5\" y=\"-268.3\" font-family=\"Times New Roman,serif\" font-size=\"14.00\">samples = 28</text>\r\n",
       "<text text-anchor=\"middle\" x=\"414.5\" y=\"-253.3\" font-family=\"Times New Roman,serif\" font-size=\"14.00\">value = [0, 0, 28]</text>\r\n",
       "<text text-anchor=\"middle\" x=\"414.5\" y=\"-238.3\" font-family=\"Times New Roman,serif\" font-size=\"14.00\">class = virginica</text>\r\n",
       "</g>\r\n",
       "<!-- 2&#45;&gt;10 -->\r\n",
       "<g id=\"edge10\" class=\"edge\"><title>2&#45;&gt;10</title>\r\n",
       "<path fill=\"none\" stroke=\"black\" d=\"M364.215,-341.907C371.622,-330.652 379.673,-318.418 387.118,-307.106\"/>\r\n",
       "<polygon fill=\"black\" stroke=\"black\" points=\"390.098,-308.944 392.672,-298.667 384.251,-305.096 390.098,-308.944\"/>\r\n",
       "</g>\r\n",
       "<!-- 4 -->\r\n",
       "<g id=\"node5\" class=\"node\"><title>4</title>\r\n",
       "<polygon fill=\"none\" stroke=\"black\" points=\"252.5,-187 92.5,-187 92.5,-104 252.5,-104 252.5,-187\"/>\r\n",
       "<text text-anchor=\"middle\" x=\"172.5\" y=\"-171.8\" font-family=\"Times New Roman,serif\" font-size=\"14.00\">sepal length (cm) &lt;= 4.95</text>\r\n",
       "<text text-anchor=\"middle\" x=\"172.5\" y=\"-156.8\" font-family=\"Times New Roman,serif\" font-size=\"14.00\">gini = 0.057</text>\r\n",
       "<text text-anchor=\"middle\" x=\"172.5\" y=\"-141.8\" font-family=\"Times New Roman,serif\" font-size=\"14.00\">samples = 34</text>\r\n",
       "<text text-anchor=\"middle\" x=\"172.5\" y=\"-126.8\" font-family=\"Times New Roman,serif\" font-size=\"14.00\">value = [0, 33, 1]</text>\r\n",
       "<text text-anchor=\"middle\" x=\"172.5\" y=\"-111.8\" font-family=\"Times New Roman,serif\" font-size=\"14.00\">class = versicolor</text>\r\n",
       "</g>\r\n",
       "<!-- 3&#45;&gt;4 -->\r\n",
       "<g id=\"edge4\" class=\"edge\"><title>3&#45;&gt;4</title>\r\n",
       "<path fill=\"none\" stroke=\"black\" d=\"M230.622,-222.907C223.788,-213.923 216.479,-204.315 209.431,-195.05\"/>\r\n",
       "<polygon fill=\"black\" stroke=\"black\" points=\"212.164,-192.861 203.324,-187.021 206.592,-197.099 212.164,-192.861\"/>\r\n",
       "</g>\r\n",
       "<!-- 7 -->\r\n",
       "<g id=\"node8\" class=\"node\"><title>7</title>\r\n",
       "<polygon fill=\"none\" stroke=\"black\" points=\"430.5,-187 270.5,-187 270.5,-104 430.5,-104 430.5,-187\"/>\r\n",
       "<text text-anchor=\"middle\" x=\"350.5\" y=\"-171.8\" font-family=\"Times New Roman,serif\" font-size=\"14.00\">sepal length (cm) &lt;= 6.05</text>\r\n",
       "<text text-anchor=\"middle\" x=\"350.5\" y=\"-156.8\" font-family=\"Times New Roman,serif\" font-size=\"14.00\">gini = 0.375</text>\r\n",
       "<text text-anchor=\"middle\" x=\"350.5\" y=\"-141.8\" font-family=\"Times New Roman,serif\" font-size=\"14.00\">samples = 4</text>\r\n",
       "<text text-anchor=\"middle\" x=\"350.5\" y=\"-126.8\" font-family=\"Times New Roman,serif\" font-size=\"14.00\">value = [0, 1, 3]</text>\r\n",
       "<text text-anchor=\"middle\" x=\"350.5\" y=\"-111.8\" font-family=\"Times New Roman,serif\" font-size=\"14.00\">class = virginica</text>\r\n",
       "</g>\r\n",
       "<!-- 3&#45;&gt;7 -->\r\n",
       "<g id=\"edge7\" class=\"edge\"><title>3&#45;&gt;7</title>\r\n",
       "<path fill=\"none\" stroke=\"black\" d=\"M292.378,-222.907C299.212,-213.923 306.521,-204.315 313.569,-195.05\"/>\r\n",
       "<polygon fill=\"black\" stroke=\"black\" points=\"316.408,-197.099 319.676,-187.021 310.836,-192.861 316.408,-197.099\"/>\r\n",
       "</g>\r\n",
       "<!-- 5 -->\r\n",
       "<g id=\"node6\" class=\"node\"><title>5</title>\r\n",
       "<polygon fill=\"none\" stroke=\"black\" points=\"107,-68 0,-68 0,-0 107,-0 107,-68\"/>\r\n",
       "<text text-anchor=\"middle\" x=\"53.5\" y=\"-52.8\" font-family=\"Times New Roman,serif\" font-size=\"14.00\">gini = 0.0</text>\r\n",
       "<text text-anchor=\"middle\" x=\"53.5\" y=\"-37.8\" font-family=\"Times New Roman,serif\" font-size=\"14.00\">samples = 1</text>\r\n",
       "<text text-anchor=\"middle\" x=\"53.5\" y=\"-22.8\" font-family=\"Times New Roman,serif\" font-size=\"14.00\">value = [0, 0, 1]</text>\r\n",
       "<text text-anchor=\"middle\" x=\"53.5\" y=\"-7.8\" font-family=\"Times New Roman,serif\" font-size=\"14.00\">class = virginica</text>\r\n",
       "</g>\r\n",
       "<!-- 4&#45;&gt;5 -->\r\n",
       "<g id=\"edge5\" class=\"edge\"><title>4&#45;&gt;5</title>\r\n",
       "<path fill=\"none\" stroke=\"black\" d=\"M128.189,-103.726C118.078,-94.423 107.341,-84.5428 97.2541,-75.2612\"/>\r\n",
       "<polygon fill=\"black\" stroke=\"black\" points=\"99.4173,-72.4953 89.6886,-68.2996 94.6774,-77.6464 99.4173,-72.4953\"/>\r\n",
       "</g>\r\n",
       "<!-- 6 -->\r\n",
       "<g id=\"node7\" class=\"node\"><title>6</title>\r\n",
       "<polygon fill=\"none\" stroke=\"black\" points=\"241.5,-68 125.5,-68 125.5,-0 241.5,-0 241.5,-68\"/>\r\n",
       "<text text-anchor=\"middle\" x=\"183.5\" y=\"-52.8\" font-family=\"Times New Roman,serif\" font-size=\"14.00\">gini = 0.0</text>\r\n",
       "<text text-anchor=\"middle\" x=\"183.5\" y=\"-37.8\" font-family=\"Times New Roman,serif\" font-size=\"14.00\">samples = 33</text>\r\n",
       "<text text-anchor=\"middle\" x=\"183.5\" y=\"-22.8\" font-family=\"Times New Roman,serif\" font-size=\"14.00\">value = [0, 33, 0]</text>\r\n",
       "<text text-anchor=\"middle\" x=\"183.5\" y=\"-7.8\" font-family=\"Times New Roman,serif\" font-size=\"14.00\">class = versicolor</text>\r\n",
       "</g>\r\n",
       "<!-- 4&#45;&gt;6 -->\r\n",
       "<g id=\"edge6\" class=\"edge\"><title>4&#45;&gt;6</title>\r\n",
       "<path fill=\"none\" stroke=\"black\" d=\"M176.596,-103.726C177.43,-95.4263 178.31,-86.6671 179.152,-78.2834\"/>\r\n",
       "<polygon fill=\"black\" stroke=\"black\" points=\"182.638,-78.5994 180.155,-68.2996 175.673,-77.8997 182.638,-78.5994\"/>\r\n",
       "</g>\r\n",
       "<!-- 8 -->\r\n",
       "<g id=\"node9\" class=\"node\"><title>8</title>\r\n",
       "<polygon fill=\"none\" stroke=\"black\" points=\"397.5,-68 281.5,-68 281.5,-0 397.5,-0 397.5,-68\"/>\r\n",
       "<text text-anchor=\"middle\" x=\"339.5\" y=\"-52.8\" font-family=\"Times New Roman,serif\" font-size=\"14.00\">gini = 0.0</text>\r\n",
       "<text text-anchor=\"middle\" x=\"339.5\" y=\"-37.8\" font-family=\"Times New Roman,serif\" font-size=\"14.00\">samples = 1</text>\r\n",
       "<text text-anchor=\"middle\" x=\"339.5\" y=\"-22.8\" font-family=\"Times New Roman,serif\" font-size=\"14.00\">value = [0, 1, 0]</text>\r\n",
       "<text text-anchor=\"middle\" x=\"339.5\" y=\"-7.8\" font-family=\"Times New Roman,serif\" font-size=\"14.00\">class = versicolor</text>\r\n",
       "</g>\r\n",
       "<!-- 7&#45;&gt;8 -->\r\n",
       "<g id=\"edge8\" class=\"edge\"><title>7&#45;&gt;8</title>\r\n",
       "<path fill=\"none\" stroke=\"black\" d=\"M346.404,-103.726C345.57,-95.4263 344.69,-86.6671 343.848,-78.2834\"/>\r\n",
       "<polygon fill=\"black\" stroke=\"black\" points=\"347.327,-77.8997 342.845,-68.2996 340.362,-78.5994 347.327,-77.8997\"/>\r\n",
       "</g>\r\n",
       "<!-- 9 -->\r\n",
       "<g id=\"node10\" class=\"node\"><title>9</title>\r\n",
       "<polygon fill=\"none\" stroke=\"black\" points=\"523,-68 416,-68 416,-0 523,-0 523,-68\"/>\r\n",
       "<text text-anchor=\"middle\" x=\"469.5\" y=\"-52.8\" font-family=\"Times New Roman,serif\" font-size=\"14.00\">gini = 0.0</text>\r\n",
       "<text text-anchor=\"middle\" x=\"469.5\" y=\"-37.8\" font-family=\"Times New Roman,serif\" font-size=\"14.00\">samples = 3</text>\r\n",
       "<text text-anchor=\"middle\" x=\"469.5\" y=\"-22.8\" font-family=\"Times New Roman,serif\" font-size=\"14.00\">value = [0, 0, 3]</text>\r\n",
       "<text text-anchor=\"middle\" x=\"469.5\" y=\"-7.8\" font-family=\"Times New Roman,serif\" font-size=\"14.00\">class = virginica</text>\r\n",
       "</g>\r\n",
       "<!-- 7&#45;&gt;9 -->\r\n",
       "<g id=\"edge9\" class=\"edge\"><title>7&#45;&gt;9</title>\r\n",
       "<path fill=\"none\" stroke=\"black\" d=\"M394.811,-103.726C404.922,-94.423 415.659,-84.5428 425.746,-75.2612\"/>\r\n",
       "<polygon fill=\"black\" stroke=\"black\" points=\"428.323,-77.6464 433.311,-68.2996 423.583,-72.4953 428.323,-77.6464\"/>\r\n",
       "</g>\r\n",
       "</g>\r\n",
       "</svg>\r\n"
      ],
      "text/plain": [
       "<graphviz.files.Source at 0x1fbb3612d68>"
      ]
     },
     "execution_count": 117,
     "metadata": {},
     "output_type": "execute_result"
    }
   ],
   "source": [
    "## we will use iris dataset to learn about splitting in decision trees:\n",
    "\n",
    "## we need to have graphviz in the ystem path\n",
    "import os\n",
    "os.environ[\"PATH\"] += os.pathsep + 'C:/Program Files (x86)/Graphviz2.38/bin/'\n",
    "\n",
    "decision_data = load_iris()\n",
    "target = decision_data.target\n",
    "features = decision_data.data\n",
    "\n",
    "##splitting data to test and train\n",
    "X_train, X_test, y_train, y_test = train_test_split(features, target,test_size=0.30,random_state=1000)\n",
    "\n",
    "clf = tree.DecisionTreeClassifier()\n",
    "\n",
    "##fitting the decision tree classifier\n",
    "clf = clf.fit(X_train, y_train)\n",
    "\n",
    "##predicting using the above model\n",
    "clf.predict(X_test)\n",
    "\n",
    "##using graphviz to visualize our tree\n",
    "dot_data = tree.export_graphviz(clf, out_file=None, \n",
    "                         feature_names=decision_data.feature_names,  \n",
    "                         class_names=decision_data.target_names)  \n",
    "graph = graphviz.Source(dot_data)  \n",
    "graph"
   ]
  },
  {
   "cell_type": "code",
   "execution_count": 94,
   "metadata": {},
   "outputs": [
    {
     "name": "stdout",
     "output_type": "stream",
     "text": [
      "0.664\n",
      "0.0\n",
      "0.5\n",
      "0.188\n",
      "0.057\n",
      "0.0\n",
      "0.0\n",
      "0.375\n",
      "0.0\n",
      "0.0\n",
      "0.0\n"
     ]
    }
   ],
   "source": [
    "## let's fetch data of the above tree and calculate the gini index for each node\n",
    "## the tree traversal is preorder, i.e. preorder\n",
    "\n",
    "def calGini(values):\n",
    "    if(len(values)==1):\n",
    "        values = np.append(values,0)\n",
    "        values = np.append(values,0)\n",
    "    if(len(values)==2):\n",
    "        values = np.append(values,0)\n",
    "    total = values[0]+values[1]+values[2]\n",
    "\n",
    "    gini = 1-((values[0]/total)**2 + (values[1]/total)**2 + (values[2]/total)**2)\n",
    "    return (round(gini,3))\n",
    "    \n",
    "    \n",
    "import re\n",
    "value = re.compile(r'value =( \\[[0-9, ]*\\])')\n",
    "values =value.findall(dot_data)\n",
    "\n",
    "for classes in values:\n",
    "    classes = classes.split(',')\n",
    "    class0 = int(classes[0].strip()[1:])\n",
    "    class1 = int(classes[1].strip())\n",
    "    class2 = int(classes[2].strip()[:-1])\n",
    "    print(calGini([class0,class1,class2]))\n",
    "\n",
    "    \n",
    "\n",
    "\n"
   ]
  },
  {
   "cell_type": "markdown",
   "metadata": {},
   "source": [
    "Now we know how to calculate the gini index, let us try to see what all possible splits are there at node 0:"
   ]
  },
  {
   "cell_type": "code",
   "execution_count": 121,
   "metadata": {},
   "outputs": [
    {
     "name": "stdout",
     "output_type": "stream",
     "text": [
      "weighted_gini:  0.569438095238\n",
      "0.111 0.658\n",
      "(4.9, 'sepal length (cm)')\n",
      "[16  0  1]\n",
      "[23 34 31]\n",
      "weighted_gini:  0.446876190476\n",
      "0.478 0.402\n",
      "(4.5, 'petal length (cm)')\n",
      "[39 22  1]\n",
      "[ 0 12 31]\n",
      "weighted_gini:  0.4004\n",
      "0.546 0.0\n",
      "(1.7, 'petal width (cm)')\n",
      "[39 34  4]\n",
      "[ 0  0 28]\n",
      "weighted_gini:  0.32819047619\n",
      "0.049 0.5\n",
      "(3.0, 'petal length (cm)')\n",
      "[39  1]\n",
      "[ 0 33 32]\n",
      "weighted_gini:  0.314285714286\n",
      "0.0 0.5\n",
      "(1.7, 'petal length (cm)')\n",
      "[39]\n",
      "[ 0 34 32]\n",
      "weighted_gini:  0.314285714286\n",
      "0.0 0.5\n",
      "(1.7, 'petal length (cm)')\n",
      "[39]\n",
      "[ 0 34 32]\n",
      "weighted_gini:  0.314285714286\n",
      "0.0 0.5\n",
      "(1.7, 'petal length (cm)')\n",
      "[39]\n",
      "[ 0 34 32]\n",
      "weighted_gini:  0.314285714286\n",
      "0.0 0.5\n",
      "(0.6, 'petal width (cm)')\n",
      "[39]\n",
      "[ 0 34 32]\n"
     ]
    }
   ],
   "source": [
    "\n",
    "split = ()\n",
    "splits=[]\n",
    "for row in X_train:\n",
    "    i=0\n",
    "    for feature in row:\n",
    "        split =(float(round(feature,2)),i)\n",
    "        splits.append(split)\n",
    "        i=i+1\n",
    "\n",
    "minimum_gini =10000       \n",
    "for s,i in splits:\n",
    "    j=0\n",
    "    left_split =[]\n",
    "    right_split=[]\n",
    "    for row in X_train:\n",
    "        if(row[i]<=s):\n",
    "            left_split.append(y_train[j])\n",
    "        else:\n",
    "            right_split.append(y_train[j])\n",
    "        j=j+1   \n",
    "    left_split = np.array(left_split)\n",
    "    left_values = np.bincount(left_split)\n",
    "    \n",
    "    right_split = np.array(right_split)\n",
    "    \n",
    "    if right_split.size:\n",
    "        right_values = np.bincount(right_split)\n",
    "    else:\n",
    "        right_values =[0,0,0]\n",
    "        continue\n",
    "    ## Now we have splits on left and right, let us calculate gini of left and right nodes\n",
    "    left_gini = calGini(left_values)\n",
    "    right_gini = calGini(right_values)\n",
    "   \n",
    "    \n",
    "   \n",
    "    weighted_gini = ((np.sum(left_values)*left_gini) +  (np.sum(right_values)*right_gini))/105\n",
    "    if weighted_gini<=minimum_gini:\n",
    "        minimum_gini = weighted_gini\n",
    "        min_left_gini = left_gini\n",
    "        min_right_gini = right_gini\n",
    "        min_split = (s,decision_data.feature_names[i])\n",
    "        print(\"weighted_gini: \",minimum_gini)\n",
    "        print(left_gini,right_gini)\n",
    "        print(min_split)\n",
    "        print(left_values)\n",
    "        print(right_values)\n",
    "        \n",
    "        "
   ]
  },
  {
   "cell_type": "markdown",
   "metadata": {},
   "source": [
    "When we see the weighted gini of the above shown tree, it is around 3.14, there are multiple ways in which we can split at node 0, decision tree classifier uses greedy algorithm, thus, will choose the minimum gini index at each node split."
   ]
  },
  {
   "cell_type": "markdown",
   "metadata": {},
   "source": [
    "### Summary:"
   ]
  },
  {
   "cell_type": "markdown",
   "metadata": {},
   "source": [
    "I would say Random forest is one of the easiest ensembling methods to have hands on. You can run on large datasets by training trees parallelly, and specifying n_jobs i.e. jobs to run parallelly. Also, we learnt how random forests can be used to extract important features for a model. It performs well even if the data has missing values. It takes interaction of features into consideration. You can explore more about other ways of splitting the trees i.e. with entropy, the concepts of information gain. Also, there are other baaging and boosting methods which you can explore - AdaBoost, XGBoost etc. "
   ]
  },
  {
   "cell_type": "markdown",
   "metadata": {},
   "source": [
    "### Sources and Refernces:"
   ]
  },
  {
   "cell_type": "markdown",
   "metadata": {},
   "source": [
    "An Introduction to Statistical Learning - Gareth James, Daniela Witten, Trevor Hastie and Robert Tibshirani\n",
    "\n",
    "https://archive.ics.uci.edu/ml/datasets/wine\n",
    "\n",
    "http://scikit-learn.org/stable/modules/generated/sklearn.datasets.load_wine.html\n",
    "\n",
    "http://scikit-learn.org/stable/modules/classes.html#module-sklearn.tree\n",
    "\n",
    "https://towardsdatascience.com/the-random-forest-algorithm-d457d499ffcd\n",
    "\n",
    "https://charleshsliao.wordpress.com/2017/05/20/decision-tree-in-python-with-graphviz-to-visualize/\n",
    "\n",
    "http://scikit-learn.org/stable/modules/tree.html#tree\n",
    "\n",
    "https://medium.com/deep-math-machine-learning-ai/chapter-4-decision-trees-algorithms-b93975f7a1f1\n",
    "\n",
    "https://towardsdatascience.com/random-forest-in-python-24d0893d51c0"
   ]
  }
 ],
 "metadata": {
  "kernelspec": {
   "display_name": "Python 3",
   "language": "python",
   "name": "python3"
  },
  "language_info": {
   "codemirror_mode": {
    "name": "ipython",
    "version": 3
   },
   "file_extension": ".py",
   "mimetype": "text/x-python",
   "name": "python",
   "nbconvert_exporter": "python",
   "pygments_lexer": "ipython3",
   "version": "3.6.3"
  }
 },
 "nbformat": 4,
 "nbformat_minor": 2
}
