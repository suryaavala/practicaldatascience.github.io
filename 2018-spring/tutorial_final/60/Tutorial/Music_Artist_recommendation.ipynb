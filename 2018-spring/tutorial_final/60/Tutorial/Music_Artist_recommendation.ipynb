{
 "cells": [
  {
   "cell_type": "markdown",
   "metadata": {
    "collapsed": true
   },
   "source": [
    "# Recommendation Systems and Artist Recommendation with Collaborative Filtering and Cosine Distance"
   ]
  },
  {
   "cell_type": "markdown",
   "metadata": {},
   "source": [
    "# Introduction\n",
    "\n",
    "Spotify, iTunes and other different music applications have surprised us with recommending music, artists, albums etc. that resembles our taste in music. Many of us have wondered how does their recommendation system come up with so accurate selections.\n",
    "This tutorial will introduce you to the mechanics of how a recommendation system works. It will also talk about how can you use Collaborative filtering and Cosine distance to recommend artists."
   ]
  },
  {
   "cell_type": "markdown",
   "metadata": {},
   "source": [
    "Recommendation Systems are generally developed using either of the methods mentioned below - <br>\n",
    "A. Content Based Systems <br>\n",
    "B. Collaborative Filtering <br>\n",
    "C. Hybrid Systems (which use the combination of Content Based Systems and Collaborative Filtering) <br>"
   ]
  },
  {
   "cell_type": "markdown",
   "metadata": {},
   "source": [
    "Let's understand how these methods work. "
   ]
  },
  {
   "cell_type": "markdown",
   "metadata": {},
   "source": [
    "# Collaborative Filtering"
   ]
  },
  {
   "cell_type": "markdown",
   "metadata": {},
   "source": [
    "Collaborative filtering is the most common method for implementing a recommender. The idea of collaborative filtering is to determine the users' preferences from historical usage data. For example - if two users listen to largely the same set of songs, their taste in music is probably similiar. Conversely, if two songs are listened to by the same group of users, they probably sound similiar. This method is used by Spotify to recommend music.\n",
    "<br><br>\n",
    "Let's discuss the mechanics of Collaborative filtering. It uses the KNN (K nearest neighbours) technique. The music taste of users calculates the distance between different users. This method essentially searches for users (nieghbours) who share the same taste in music and based on this information recommends music. Therefore, the\n",
    "recommender predicts users preferences with by user-item relationship. It can be compared to a friend's recommendation in real life. Figure 1 below shows the real life example."
   ]
  },
  {
   "cell_type": "markdown",
   "metadata": {},
   "source": [
    "<img src=\"friends.PNG\">\n",
    "<font color='gray'><i><center>Figure 1: Image by Erik Bernhardsson</center></i></font>"
   ]
  },
  {
   "cell_type": "markdown",
   "metadata": {},
   "source": [
    "Pure Collaborative filtering doesn't use any kind of information about the items that are being recommended except for the consumption pattern associated with it. Recommenders that use this technique are called \"Content Agnostic\". That this why, this method can be applied to variety of items such as Music, Books, Movies etc. Unfortunately, this is also the biggest flaw of this method. Since this method relies on usage data, popular items are recommended more than unpopular items as there is more data usage of the popular items. This is generally the opposite of what a company/user wants. For the same reason recommendations can turn out to be boring and predictable.\n",
    "<br><br>\n",
    "Another issue that is more specific to music, is the heterogeneity of content with similar usage patterns. For example, users may listen to entire albums in one go, but albums may contain intro tracks, outro tracks, interludes, cover songs and remixes. These items are atypical for the artist in question, so they aren’t good recommendations. Collaborative filtering algorithms will not pick up on this.\n",
    "<br><br>\n",
    "Nonetheless, this is one of the most popular recommendation method. \n",
    "<br><br>\n",
    "Collaborative filtering can further be divided into three types:\n",
    "<br>\n",
    "A. Memory based method <br>\n",
    "B. Model based method <br>\n",
    "C. Hybrid method (Combines both memory and model based method)\n",
    "\n",
    "### Memory Based Method\n",
    "Predicts items based on the complete collection of previous ratings. Uses algorithms such as the neighbourhood based filtering and item-based top-N recommendations to find user groups with people that have the same taste in music.\n",
    "\n",
    "### Model Based Method\n",
    "Uses machine learning techniques to train and model user's preferences and then does the prediction on the test data using the trained model.\n",
    "\n",
    "### Hybrid Method\n",
    "Combines memory based and model based methods and hence outperforms both individual models."
   ]
  },
  {
   "cell_type": "markdown",
   "metadata": {},
   "source": [
    "To solve the issues in Collaborative filtering, content based systems come into picture.\n",
    "\n",
    "# Content Based Systems\n",
    "This recommendation method is more based on item information. For example music has following information associated with it - tags, artist and album information, lyrics, text mined from the web (reviews, interviews etc.), and the audio signal itself. This system uses these details to make recommendations. This data can be used for recommedation by using either - <br>\n",
    "A. Natural Language Processing (NLP) <br>\n",
    "B. Raw Audio Models\n",
    "\n",
    "### Natural Language Processing (NLP)\n",
    "Natural Language Processing is the ability of computer to understand human speech as it is spoken. This is many times achieved using Sentiment Analysis. Python has a lot of sentiment analysis APIs if one wants to explore more about it. Here only very high level description of this method is given.\n",
    "<br><br>\n",
    "Let's take the example of Spotify. What does Spotify do?\n",
    "Spotify constantly checks web for blog data and other online written texts about music. From this data it tries to figure out what everyone is saying about a specific artist or album. It captures frequently used adjectives and words associated with a particular item (in this case - artist, music) and also which other artists and music is associated. After the data has been scraped from the internet, they bucket them up into what they call “cultural vectors” or “top terms\". Each item has thousands of daily-changing top terms. Each term has a weight associated, which tells the the probability that someone will describe music as that term. Figure 2 shows how each item has weight associated with it."
   ]
  },
  {
   "cell_type": "markdown",
   "metadata": {},
   "source": [
    "<img src=\"terms.PNG\">\n",
    "<font color='gray'><i><center>Figure 2: “Cultural vectors”, or “top terms”. Table from Brian Whitman</center></i></font>"
   ]
  },
  {
   "cell_type": "markdown",
   "metadata": {},
   "source": [
    "### Raw Audio Models\n",
    "Audio signals are probably the most difficult data to use effectively. Since there is a huge gap between the music audio and the various aspects of the music that affect users' preferences. Some features are easy to extract from the audio signal such as genre of the music and the instruments used. Some features are very difficult to extract such as the name of the artist, year of the music release or the mood of the music. Some features are impossible to extract such as the geographical location of the artist or the lyrical themes. Despite all the challenges, actual sound of the music plays a important role in determining whether a user will like the music or not. \n",
    "<br><br>\n",
    "You're probably thinking that we already have two good and fairly easy methods to understand and recommend music. Why do we need this complicated model? Audio models play a very important role because they don't discrimate. Unlike other methods which depend on the number of occurences on internet (consider only popular music), audio models don't discrimate between new music and popular music."
   ]
  },
  {
   "cell_type": "markdown",
   "metadata": {},
   "source": [
    "## Motivation behind talking about different models\n",
    "This tutorial talks about the basics of each method even though it just implements Collaborative Filtering so that a reader knows what other methods exist and how different they are from the method implemented in this tutorial."
   ]
  },
  {
   "cell_type": "markdown",
   "metadata": {},
   "source": [
    "# Artist Recommendation with Collaborative Filtering and Cosine Distance\n",
    "We're using item based Collaborative filtering to make recommendations. This means our recommendations will be based on user patterns in listening to artists."
   ]
  },
  {
   "cell_type": "markdown",
   "metadata": {},
   "source": [
    "## Finding a Dataset for recommendation\n",
    "The page https://gist.github.com/entaroadun/1653794 has some really cool datasets. Since this tutorial is about recommending music, music dataset is used here.\n",
    "<br><br>\n",
    "The Last.fm data are from the Music Technology Group at the Universitat Pompeu Fabra in Barcelona, Spain. The data was scraped by Òscar Celma using the Last.fm API, and it is available for free for non-commercial use.\n",
    "<br><br>\n",
    "The music data is divided into two parts -<br>\n",
    "A. Activity data: comprises of 360,000 individual users’ Last.fm artist listening information. It tells how many times a Last.fm user played songs by various artists.<br>\n",
    "B. Profile data: contains users' information. <br>\n",
    "<br>\n",
    "Dataset can be directly downloaded from http://www.dtic.upf.edu/~ocelma/MusicRecommendationDataset/index.html."
   ]
  },
  {
   "cell_type": "markdown",
   "metadata": {},
   "source": [
    "Python libraries used in this process are - pandas and numpy"
   ]
  },
  {
   "cell_type": "code",
   "execution_count": 1,
   "metadata": {
    "collapsed": true
   },
   "outputs": [],
   "source": [
    "import pandas as pd\n",
    "import numpy as np\n",
    "from scipy.sparse import csr_matrix"
   ]
  },
  {
   "cell_type": "markdown",
   "metadata": {},
   "source": [
    "Sets decimal options in pandas library."
   ]
  },
  {
   "cell_type": "code",
   "execution_count": 2,
   "metadata": {
    "collapsed": true
   },
   "outputs": [],
   "source": [
    "# display results to 3 decimal points, not in scientific notation\n",
    "pd.set_option('display.float_format', lambda x: '%.3f' % x)"
   ]
  },
  {
   "cell_type": "markdown",
   "metadata": {},
   "source": [
    "The code below uses pandas read_table to read files in tab separated format (tsv). I have added only a few useful columns from the dataset in the dataframe."
   ]
  },
  {
   "cell_type": "code",
   "execution_count": 3,
   "metadata": {
    "collapsed": true
   },
   "outputs": [],
   "source": [
    "# Reads table from Activity data\n",
    "user_data = pd.read_table('user-artist-play.tsv',\n",
    "                          header = None, nrows = 2e7,\n",
    "                          names = ['users', 'musicbrainz-artist-id', 'artist-name', 'plays'],\n",
    "                          usecols = ['users', 'artist-name', 'plays'])"
   ]
  },
  {
   "cell_type": "code",
   "execution_count": 4,
   "metadata": {
    "collapsed": true
   },
   "outputs": [],
   "source": [
    "# Reads table from Profile Data\n",
    "user_profiles = pd.read_table('user-profile.tsv',\n",
    "                          header = None,\n",
    "                          names = ['users', 'gender', 'age', 'country', 'signup'],\n",
    "                          usecols = ['users', 'country'])"
   ]
  },
  {
   "cell_type": "markdown",
   "metadata": {},
   "source": [
    "Let's look at the data."
   ]
  },
  {
   "cell_type": "code",
   "execution_count": 5,
   "metadata": {},
   "outputs": [
    {
     "data": {
      "text/html": [
       "<div>\n",
       "<table border=\"1\" class=\"dataframe\">\n",
       "  <thead>\n",
       "    <tr style=\"text-align: right;\">\n",
       "      <th></th>\n",
       "      <th>users</th>\n",
       "      <th>artist-name</th>\n",
       "      <th>plays</th>\n",
       "    </tr>\n",
       "  </thead>\n",
       "  <tbody>\n",
       "    <tr>\n",
       "      <th>0</th>\n",
       "      <td>00000c289a1829a808ac09c00daf10bc3c4e223b</td>\n",
       "      <td>betty blowtorch</td>\n",
       "      <td>2137</td>\n",
       "    </tr>\n",
       "    <tr>\n",
       "      <th>1</th>\n",
       "      <td>00000c289a1829a808ac09c00daf10bc3c4e223b</td>\n",
       "      <td>die Ärzte</td>\n",
       "      <td>1099</td>\n",
       "    </tr>\n",
       "    <tr>\n",
       "      <th>2</th>\n",
       "      <td>00000c289a1829a808ac09c00daf10bc3c4e223b</td>\n",
       "      <td>melissa etheridge</td>\n",
       "      <td>897</td>\n",
       "    </tr>\n",
       "    <tr>\n",
       "      <th>3</th>\n",
       "      <td>00000c289a1829a808ac09c00daf10bc3c4e223b</td>\n",
       "      <td>elvenking</td>\n",
       "      <td>717</td>\n",
       "    </tr>\n",
       "    <tr>\n",
       "      <th>4</th>\n",
       "      <td>00000c289a1829a808ac09c00daf10bc3c4e223b</td>\n",
       "      <td>juliette &amp; the licks</td>\n",
       "      <td>706</td>\n",
       "    </tr>\n",
       "  </tbody>\n",
       "</table>\n",
       "</div>"
      ],
      "text/plain": [
       "                                      users           artist-name  plays\n",
       "0  00000c289a1829a808ac09c00daf10bc3c4e223b       betty blowtorch   2137\n",
       "1  00000c289a1829a808ac09c00daf10bc3c4e223b             die Ärzte   1099\n",
       "2  00000c289a1829a808ac09c00daf10bc3c4e223b     melissa etheridge    897\n",
       "3  00000c289a1829a808ac09c00daf10bc3c4e223b             elvenking    717\n",
       "4  00000c289a1829a808ac09c00daf10bc3c4e223b  juliette & the licks    706"
      ]
     },
     "execution_count": 5,
     "metadata": {},
     "output_type": "execute_result"
    }
   ],
   "source": [
    "# User activity data format \n",
    "user_data.head()"
   ]
  },
  {
   "cell_type": "code",
   "execution_count": 6,
   "metadata": {},
   "outputs": [
    {
     "data": {
      "text/html": [
       "<div>\n",
       "<table border=\"1\" class=\"dataframe\">\n",
       "  <thead>\n",
       "    <tr style=\"text-align: right;\">\n",
       "      <th></th>\n",
       "      <th>users</th>\n",
       "      <th>country</th>\n",
       "    </tr>\n",
       "  </thead>\n",
       "  <tbody>\n",
       "    <tr>\n",
       "      <th>0</th>\n",
       "      <td>00000c289a1829a808ac09c00daf10bc3c4e223b</td>\n",
       "      <td>Germany</td>\n",
       "    </tr>\n",
       "    <tr>\n",
       "      <th>1</th>\n",
       "      <td>00001411dc427966b17297bf4d69e7e193135d89</td>\n",
       "      <td>Canada</td>\n",
       "    </tr>\n",
       "    <tr>\n",
       "      <th>2</th>\n",
       "      <td>00004d2ac9316e22dc007ab2243d6fcb239e707d</td>\n",
       "      <td>Germany</td>\n",
       "    </tr>\n",
       "    <tr>\n",
       "      <th>3</th>\n",
       "      <td>000063d3fe1cf2ba248b9e3c3f0334845a27a6bf</td>\n",
       "      <td>Mexico</td>\n",
       "    </tr>\n",
       "    <tr>\n",
       "      <th>4</th>\n",
       "      <td>00007a47085b9aab8af55f52ec8846ac479ac4fe</td>\n",
       "      <td>United States</td>\n",
       "    </tr>\n",
       "  </tbody>\n",
       "</table>\n",
       "</div>"
      ],
      "text/plain": [
       "                                      users        country\n",
       "0  00000c289a1829a808ac09c00daf10bc3c4e223b        Germany\n",
       "1  00001411dc427966b17297bf4d69e7e193135d89         Canada\n",
       "2  00004d2ac9316e22dc007ab2243d6fcb239e707d        Germany\n",
       "3  000063d3fe1cf2ba248b9e3c3f0334845a27a6bf         Mexico\n",
       "4  00007a47085b9aab8af55f52ec8846ac479ac4fe  United States"
      ]
     },
     "execution_count": 6,
     "metadata": {},
     "output_type": "execute_result"
    }
   ],
   "source": [
    "# User profile data format\n",
    "user_profiles.head()"
   ]
  },
  {
   "cell_type": "markdown",
   "metadata": {},
   "source": [
    "## Filtering to only Popular Artists"
   ]
  },
  {
   "cell_type": "markdown",
   "metadata": {},
   "source": [
    "Lesser known artists will have few listeners. Since we're using item based collabortive filtering which depends on popular choices, lesser known artists will make the pattern noisy. This can result in bad recommendations. It's good to remove these artists from the dataset."
   ]
  },
  {
   "cell_type": "markdown",
   "metadata": {},
   "source": [
    "First we remove all the rows where artist name is null."
   ]
  },
  {
   "cell_type": "code",
   "execution_count": 7,
   "metadata": {
    "collapsed": true
   },
   "outputs": [],
   "source": [
    "if user_data['artist-name'].isnull().sum() > 0:\n",
    "    user_data = user_data.dropna(axis = 0, subset = ['artist-name'])"
   ]
  },
  {
   "cell_type": "markdown",
   "metadata": {},
   "source": [
    "To determine which artists are popular, we calculate total play count of every artist. Since we have artist name in every row, we need to group data based on artist name to get the total play count."
   ]
  },
  {
   "cell_type": "code",
   "execution_count": 8,
   "metadata": {},
   "outputs": [
    {
     "data": {
      "text/html": [
       "<div>\n",
       "<table border=\"1\" class=\"dataframe\">\n",
       "  <thead>\n",
       "    <tr style=\"text-align: right;\">\n",
       "      <th></th>\n",
       "      <th>artist-name</th>\n",
       "      <th>total_artist_plays</th>\n",
       "    </tr>\n",
       "  </thead>\n",
       "  <tbody>\n",
       "    <tr>\n",
       "      <th>252495</th>\n",
       "      <td>the beatles</td>\n",
       "      <td>30466827</td>\n",
       "    </tr>\n",
       "    <tr>\n",
       "      <th>217884</th>\n",
       "      <td>radiohead</td>\n",
       "      <td>27426234</td>\n",
       "    </tr>\n",
       "    <tr>\n",
       "      <th>73856</th>\n",
       "      <td>coldplay</td>\n",
       "      <td>16686772</td>\n",
       "    </tr>\n",
       "    <tr>\n",
       "      <th>212497</th>\n",
       "      <td>pink floyd</td>\n",
       "      <td>15943557</td>\n",
       "    </tr>\n",
       "    <tr>\n",
       "      <th>186241</th>\n",
       "      <td>metallica</td>\n",
       "      <td>15481852</td>\n",
       "    </tr>\n",
       "  </tbody>\n",
       "</table>\n",
       "</div>"
      ],
      "text/plain": [
       "        artist-name  total_artist_plays\n",
       "252495  the beatles            30466827\n",
       "217884    radiohead            27426234\n",
       "73856      coldplay            16686772\n",
       "212497   pink floyd            15943557\n",
       "186241    metallica            15481852"
      ]
     },
     "execution_count": 8,
     "metadata": {},
     "output_type": "execute_result"
    }
   ],
   "source": [
    "# Groups by Artist name\n",
    "artist_plays = (user_data.\n",
    "     groupby(by = ['artist-name'])['plays'].\n",
    "     sum().\n",
    "     reset_index().\n",
    "     rename(columns = {'plays': 'total_artist_plays'})\n",
    "     [['artist-name', 'total_artist_plays']]\n",
    "    )\n",
    "# Sorts the dataframe based of toal play counts in descending order\n",
    "artist_plays = artist_plays.sort_values(by='total_artist_plays', ascending=False)\n",
    "\n",
    "# Selects the total 5 popular artists\n",
    "artist_plays.head()"
   ]
  },
  {
   "cell_type": "code",
   "execution_count": 9,
   "metadata": {},
   "outputs": [
    {
     "data": {
      "text/plain": [
       "292364"
      ]
     },
     "execution_count": 9,
     "metadata": {},
     "output_type": "execute_result"
    }
   ],
   "source": [
    "# Total artists in the dataset\n",
    "len(artist_plays)"
   ]
  },
  {
   "cell_type": "markdown",
   "metadata": {},
   "source": [
    "Now we merge the user data with the artist data to know which artists are lesser played artist."
   ]
  },
  {
   "cell_type": "code",
   "execution_count": 10,
   "metadata": {},
   "outputs": [
    {
     "data": {
      "text/html": [
       "<div>\n",
       "<table border=\"1\" class=\"dataframe\">\n",
       "  <thead>\n",
       "    <tr style=\"text-align: right;\">\n",
       "      <th></th>\n",
       "      <th>users</th>\n",
       "      <th>artist-name</th>\n",
       "      <th>plays</th>\n",
       "      <th>total_artist_plays</th>\n",
       "    </tr>\n",
       "  </thead>\n",
       "  <tbody>\n",
       "    <tr>\n",
       "      <th>0</th>\n",
       "      <td>00000c289a1829a808ac09c00daf10bc3c4e223b</td>\n",
       "      <td>betty blowtorch</td>\n",
       "      <td>2137</td>\n",
       "      <td>25651</td>\n",
       "    </tr>\n",
       "    <tr>\n",
       "      <th>1</th>\n",
       "      <td>00000c289a1829a808ac09c00daf10bc3c4e223b</td>\n",
       "      <td>die Ärzte</td>\n",
       "      <td>1099</td>\n",
       "      <td>3704875</td>\n",
       "    </tr>\n",
       "    <tr>\n",
       "      <th>2</th>\n",
       "      <td>00000c289a1829a808ac09c00daf10bc3c4e223b</td>\n",
       "      <td>melissa etheridge</td>\n",
       "      <td>897</td>\n",
       "      <td>180391</td>\n",
       "    </tr>\n",
       "    <tr>\n",
       "      <th>3</th>\n",
       "      <td>00000c289a1829a808ac09c00daf10bc3c4e223b</td>\n",
       "      <td>elvenking</td>\n",
       "      <td>717</td>\n",
       "      <td>410725</td>\n",
       "    </tr>\n",
       "    <tr>\n",
       "      <th>4</th>\n",
       "      <td>00000c289a1829a808ac09c00daf10bc3c4e223b</td>\n",
       "      <td>juliette &amp; the licks</td>\n",
       "      <td>706</td>\n",
       "      <td>90498</td>\n",
       "    </tr>\n",
       "  </tbody>\n",
       "</table>\n",
       "</div>"
      ],
      "text/plain": [
       "                                      users           artist-name  plays  \\\n",
       "0  00000c289a1829a808ac09c00daf10bc3c4e223b       betty blowtorch   2137   \n",
       "1  00000c289a1829a808ac09c00daf10bc3c4e223b             die Ärzte   1099   \n",
       "2  00000c289a1829a808ac09c00daf10bc3c4e223b     melissa etheridge    897   \n",
       "3  00000c289a1829a808ac09c00daf10bc3c4e223b             elvenking    717   \n",
       "4  00000c289a1829a808ac09c00daf10bc3c4e223b  juliette & the licks    706   \n",
       "\n",
       "   total_artist_plays  \n",
       "0               25651  \n",
       "1             3704875  \n",
       "2              180391  \n",
       "3              410725  \n",
       "4               90498  "
      ]
     },
     "execution_count": 10,
     "metadata": {},
     "output_type": "execute_result"
    }
   ],
   "source": [
    "user_data_with_artist_plays = user_data.merge(artist_plays, left_on = 'artist-name', right_on = 'artist-name', how = 'left')\n",
    "user_data_with_artist_plays.head()"
   ]
  },
  {
   "cell_type": "markdown",
   "metadata": {},
   "source": [
    "## Picking a threshold needed to filter artists\n",
    "We need to find a threshold so that any value after the threshold value can be filtered out. For this we use describe method to get the statistics of the artist_plays dataframe."
   ]
  },
  {
   "cell_type": "code",
   "execution_count": 11,
   "metadata": {},
   "outputs": [
    {
     "data": {
      "text/plain": [
       "count     292364.000\n",
       "mean       12907.037\n",
       "std       185981.313\n",
       "min            1.000\n",
       "25%           53.000\n",
       "50%          208.000\n",
       "75%         1048.000\n",
       "max     30466827.000\n",
       "Name: total_artist_plays, dtype: float64"
      ]
     },
     "execution_count": 11,
     "metadata": {},
     "output_type": "execute_result"
    }
   ],
   "source": [
    "artist_plays['total_artist_plays'].describe()"
   ]
  },
  {
   "cell_type": "markdown",
   "metadata": {},
   "source": [
    "From the above data it can be observed that, median artist (at 50 %) has only been played only 208 times."
   ]
  },
  {
   "cell_type": "markdown",
   "metadata": {},
   "source": [
    "To get a more clear picture, let's look at the percentile view of the data."
   ]
  },
  {
   "cell_type": "code",
   "execution_count": 12,
   "metadata": {},
   "outputs": [
    {
     "data": {
      "text/plain": [
       "0.900     6138.000\n",
       "0.910     7410.000\n",
       "0.920     9102.960\n",
       "0.930    11475.590\n",
       "0.940    14898.440\n",
       "0.950    19964.250\n",
       "0.960    28419.880\n",
       "0.970    43541.330\n",
       "0.980    79403.440\n",
       "0.990   198482.590\n",
       "Name: total_artist_plays, dtype: float64"
      ]
     },
     "execution_count": 12,
     "metadata": {},
     "output_type": "execute_result"
    }
   ],
   "source": [
    "artist_plays['total_artist_plays'].quantile(np.arange(.9, 1, .01))"
   ]
  },
  {
   "cell_type": "markdown",
   "metadata": {},
   "source": [
    "It can be seen from the distribution that only 1 percent of artists have approx. 200,000 plays or more. Only 2 percent of the artists have 80,000 or more. Only 3 percent of the artists have 44,000 or more. Since we have so many artists, let's limit to only top 3 percent artists. This may seem a little arbitary threshold but still it gets almost 9000 artists which is large enough dataset to make recommendations."
   ]
  },
  {
   "cell_type": "code",
   "execution_count": 13,
   "metadata": {},
   "outputs": [
    {
     "data": {
      "text/html": [
       "<div>\n",
       "<table border=\"1\" class=\"dataframe\">\n",
       "  <thead>\n",
       "    <tr style=\"text-align: right;\">\n",
       "      <th></th>\n",
       "      <th>users</th>\n",
       "      <th>artist-name</th>\n",
       "      <th>plays</th>\n",
       "      <th>total_artist_plays</th>\n",
       "    </tr>\n",
       "  </thead>\n",
       "  <tbody>\n",
       "    <tr>\n",
       "      <th>1</th>\n",
       "      <td>00000c289a1829a808ac09c00daf10bc3c4e223b</td>\n",
       "      <td>die Ärzte</td>\n",
       "      <td>1099</td>\n",
       "      <td>3704875</td>\n",
       "    </tr>\n",
       "    <tr>\n",
       "      <th>2</th>\n",
       "      <td>00000c289a1829a808ac09c00daf10bc3c4e223b</td>\n",
       "      <td>melissa etheridge</td>\n",
       "      <td>897</td>\n",
       "      <td>180391</td>\n",
       "    </tr>\n",
       "    <tr>\n",
       "      <th>3</th>\n",
       "      <td>00000c289a1829a808ac09c00daf10bc3c4e223b</td>\n",
       "      <td>elvenking</td>\n",
       "      <td>717</td>\n",
       "      <td>410725</td>\n",
       "    </tr>\n",
       "    <tr>\n",
       "      <th>4</th>\n",
       "      <td>00000c289a1829a808ac09c00daf10bc3c4e223b</td>\n",
       "      <td>juliette &amp; the licks</td>\n",
       "      <td>706</td>\n",
       "      <td>90498</td>\n",
       "    </tr>\n",
       "    <tr>\n",
       "      <th>5</th>\n",
       "      <td>00000c289a1829a808ac09c00daf10bc3c4e223b</td>\n",
       "      <td>red hot chili peppers</td>\n",
       "      <td>691</td>\n",
       "      <td>13547741</td>\n",
       "    </tr>\n",
       "  </tbody>\n",
       "</table>\n",
       "</div>"
      ],
      "text/plain": [
       "                                      users            artist-name  plays  \\\n",
       "1  00000c289a1829a808ac09c00daf10bc3c4e223b              die Ärzte   1099   \n",
       "2  00000c289a1829a808ac09c00daf10bc3c4e223b      melissa etheridge    897   \n",
       "3  00000c289a1829a808ac09c00daf10bc3c4e223b              elvenking    717   \n",
       "4  00000c289a1829a808ac09c00daf10bc3c4e223b   juliette & the licks    706   \n",
       "5  00000c289a1829a808ac09c00daf10bc3c4e223b  red hot chili peppers    691   \n",
       "\n",
       "   total_artist_plays  \n",
       "1             3704875  \n",
       "2              180391  \n",
       "3              410725  \n",
       "4               90498  \n",
       "5            13547741  "
      ]
     },
     "execution_count": 13,
     "metadata": {},
     "output_type": "execute_result"
    }
   ],
   "source": [
    "# Threshold set (Number of plays should be greater than or equal to 40,000)\n",
    "popularity_threshold = 40000\n",
    "# Selects the artists that has total play count more then 40,000\n",
    "user_data_popular_artists = user_data_with_artist_plays.query('total_artist_plays >= @popularity_threshold')\n",
    "user_data_popular_artists.head()"
   ]
  },
  {
   "cell_type": "code",
   "execution_count": 14,
   "metadata": {},
   "outputs": [
    {
     "data": {
      "text/plain": [
       "9300"
      ]
     },
     "execution_count": 14,
     "metadata": {},
     "output_type": "execute_result"
    }
   ],
   "source": [
    "# Total number of unique artists in the dataframe after we have removed data based on threshold\n",
    "user_data_popular_artists['artist-name'].nunique()"
   ]
  },
  {
   "cell_type": "markdown",
   "metadata": {},
   "source": [
    "Let's filter some more. Let's filter out the users who are from United States and remove everyone else. There is no specific for this filtering but this will reduce the dataset significantly and hence computation efficiency would improve."
   ]
  },
  {
   "cell_type": "code",
   "execution_count": 15,
   "metadata": {},
   "outputs": [
    {
     "data": {
      "text/html": [
       "<div>\n",
       "<table border=\"1\" class=\"dataframe\">\n",
       "  <thead>\n",
       "    <tr style=\"text-align: right;\">\n",
       "      <th></th>\n",
       "      <th>users</th>\n",
       "      <th>artist-name</th>\n",
       "      <th>plays</th>\n",
       "      <th>total_artist_plays</th>\n",
       "      <th>country</th>\n",
       "    </tr>\n",
       "  </thead>\n",
       "  <tbody>\n",
       "    <tr>\n",
       "      <th>156</th>\n",
       "      <td>00007a47085b9aab8af55f52ec8846ac479ac4fe</td>\n",
       "      <td>devendra banhart</td>\n",
       "      <td>456</td>\n",
       "      <td>2366807</td>\n",
       "      <td>United States</td>\n",
       "    </tr>\n",
       "    <tr>\n",
       "      <th>157</th>\n",
       "      <td>00007a47085b9aab8af55f52ec8846ac479ac4fe</td>\n",
       "      <td>boards of canada</td>\n",
       "      <td>407</td>\n",
       "      <td>6115545</td>\n",
       "      <td>United States</td>\n",
       "    </tr>\n",
       "    <tr>\n",
       "      <th>158</th>\n",
       "      <td>00007a47085b9aab8af55f52ec8846ac479ac4fe</td>\n",
       "      <td>cocorosie</td>\n",
       "      <td>386</td>\n",
       "      <td>2194862</td>\n",
       "      <td>United States</td>\n",
       "    </tr>\n",
       "    <tr>\n",
       "      <th>159</th>\n",
       "      <td>00007a47085b9aab8af55f52ec8846ac479ac4fe</td>\n",
       "      <td>aphex twin</td>\n",
       "      <td>213</td>\n",
       "      <td>4248296</td>\n",
       "      <td>United States</td>\n",
       "    </tr>\n",
       "    <tr>\n",
       "      <th>160</th>\n",
       "      <td>00007a47085b9aab8af55f52ec8846ac479ac4fe</td>\n",
       "      <td>animal collective</td>\n",
       "      <td>203</td>\n",
       "      <td>3495537</td>\n",
       "      <td>United States</td>\n",
       "    </tr>\n",
       "  </tbody>\n",
       "</table>\n",
       "</div>"
      ],
      "text/plain": [
       "                                        users        artist-name  plays  \\\n",
       "156  00007a47085b9aab8af55f52ec8846ac479ac4fe   devendra banhart    456   \n",
       "157  00007a47085b9aab8af55f52ec8846ac479ac4fe   boards of canada    407   \n",
       "158  00007a47085b9aab8af55f52ec8846ac479ac4fe          cocorosie    386   \n",
       "159  00007a47085b9aab8af55f52ec8846ac479ac4fe         aphex twin    213   \n",
       "160  00007a47085b9aab8af55f52ec8846ac479ac4fe  animal collective    203   \n",
       "\n",
       "     total_artist_plays        country  \n",
       "156             2366807  United States  \n",
       "157             6115545  United States  \n",
       "158             2194862  United States  \n",
       "159             4248296  United States  \n",
       "160             3495537  United States  "
      ]
     },
     "execution_count": 15,
     "metadata": {},
     "output_type": "execute_result"
    }
   ],
   "source": [
    "# Combining dataframes to get users' residence country\n",
    "combined = user_data_popular_artists.merge(user_profiles, left_on = 'users', right_on = 'users', how = 'left')\n",
    "# Filtering out the data based on Country\n",
    "usa_data = combined.query('country == \\'United States\\'')\n",
    "usa_data.head()"
   ]
  },
  {
   "cell_type": "markdown",
   "metadata": {},
   "source": [
    "Before we do any computation, we should be sure that our dataset is internally consistent. This means every user should have only on play count against every artist. So, we need to check if any two rows have same user name and same artist name."
   ]
  },
  {
   "cell_type": "code",
   "execution_count": 16,
   "metadata": {},
   "outputs": [
    {
     "name": "stdout",
     "output_type": "stream",
     "text": [
      "Initial dataframe shape (2788019, 5)\n",
      "New dataframe shape (2788013, 5)\n",
      "Removed 6 rows\n"
     ]
    }
   ],
   "source": [
    "if not usa_data[usa_data.duplicated(['users', 'artist-name'])].empty:\n",
    "    # Number of rows in the dataframe\n",
    "    initial_rows = usa_data.shape[0]\n",
    "    # prints the number of rows before removing duplicates (rows with same user name and artist name)\n",
    "    print('Initial dataframe shape {0}'.format(usa_data.shape))\n",
    "    # Drops the rows with duplicates\n",
    "    usa_data = usa_data.drop_duplicates(['users', 'artist-name'])\n",
    "    # Number of rows in the dataframe left after removing duplicates\n",
    "    current_rows = usa_data.shape[0]\n",
    "    # prints the number of rows after removing duplicates (rows with same user name and artist name)\n",
    "    print ('New dataframe shape {0}'.format(usa_data.shape))\n",
    "    # prints number of rows deleted, meaning number of duplicates\n",
    "    print ('Removed {0} rows'.format(initial_rows - current_rows))"
   ]
  },
  {
   "cell_type": "markdown",
   "metadata": {},
   "source": [
    "## Data Visualization\n",
    "\n",
    "Now, let's try to visualize data after we have done filtering.\n",
    "\n",
    "Let us see which are the most popular artists in the data."
   ]
  },
  {
   "cell_type": "code",
   "execution_count": 17,
   "metadata": {},
   "outputs": [],
   "source": [
    "import matplotlib.pyplot as plt\n",
    "%matplotlib inline"
   ]
  },
  {
   "cell_type": "code",
   "execution_count": 18,
   "metadata": {
    "collapsed": true
   },
   "outputs": [],
   "source": [
    "group_data = (usa_data.\n",
    "     groupby(by = ['artist-name'])['plays'].\n",
    "     sum().\n",
    "     reset_index().\n",
    "     rename(columns = {'plays': 'total_artist_plays'})\n",
    "     [['artist-name', 'total_artist_plays']]\n",
    "    )"
   ]
  },
  {
   "cell_type": "code",
   "execution_count": 19,
   "metadata": {},
   "outputs": [],
   "source": [
    "group_data = group_data.sort_values(by='total_artist_plays', ascending=False)\n",
    "popular = group_data.head(n = 20)\n",
    "x = list(popular['artist-name'])\n",
    "y = list(popular['total_artist_plays'])"
   ]
  },
  {
   "cell_type": "code",
   "execution_count": 20,
   "metadata": {},
   "outputs": [
    {
     "data": {
      "text/html": [
       "<div>\n",
       "<table border=\"1\" class=\"dataframe\">\n",
       "  <thead>\n",
       "    <tr style=\"text-align: right;\">\n",
       "      <th></th>\n",
       "      <th>artist-name</th>\n",
       "      <th>total_artist_plays</th>\n",
       "    </tr>\n",
       "  </thead>\n",
       "  <tbody>\n",
       "    <tr>\n",
       "      <th>7618</th>\n",
       "      <td>the beatles</td>\n",
       "      <td>10705203</td>\n",
       "    </tr>\n",
       "    <tr>\n",
       "      <th>6321</th>\n",
       "      <td>radiohead</td>\n",
       "      <td>7931815</td>\n",
       "    </tr>\n",
       "    <tr>\n",
       "      <th>2057</th>\n",
       "      <td>death cab for cutie</td>\n",
       "      <td>4956608</td>\n",
       "    </tr>\n",
       "    <tr>\n",
       "      <th>5671</th>\n",
       "      <td>nine inch nails</td>\n",
       "      <td>4017063</td>\n",
       "    </tr>\n",
       "    <tr>\n",
       "      <th>5351</th>\n",
       "      <td>modest mouse</td>\n",
       "      <td>3848876</td>\n",
       "    </tr>\n",
       "  </tbody>\n",
       "</table>\n",
       "</div>"
      ],
      "text/plain": [
       "              artist-name  total_artist_plays\n",
       "7618          the beatles            10705203\n",
       "6321            radiohead             7931815\n",
       "2057  death cab for cutie             4956608\n",
       "5671      nine inch nails             4017063\n",
       "5351         modest mouse             3848876"
      ]
     },
     "execution_count": 20,
     "metadata": {},
     "output_type": "execute_result"
    }
   ],
   "source": [
    "group_data.head()"
   ]
  },
  {
   "cell_type": "code",
   "execution_count": 21,
   "metadata": {},
   "outputs": [
    {
     "data": {
      "text/plain": [
       "<Container object of 20 artists>"
      ]
     },
     "execution_count": 21,
     "metadata": {},
     "output_type": "execute_result"
    },
    {
     "data": {
      "image/png": "[encoded data removed]",
      "text/plain": [
       "<matplotlib.figure.Figure at 0x10f3d0828>"
      ]
     },
     "metadata": {},
     "output_type": "display_data"
    }
   ],
   "source": [
    "fig, ax = plt.subplots()\n",
    "fig.autofmt_xdate()\n",
    "fig.set_size_inches(18.5, 10.5)\n",
    "plt.bar(x,y)"
   ]
  },
  {
   "cell_type": "markdown",
   "metadata": {},
   "source": [
    "From the graph it can be seen that 'the beatles' is the most popular one followed by 'radiohead'"
   ]
  },
  {
   "cell_type": "markdown",
   "metadata": {},
   "source": [
    "## Implementing the Nearest Neighbour Model\n"
   ]
  },
  {
   "cell_type": "markdown",
   "metadata": {},
   "source": [
    "### Reshaping the data\n",
    "For applying K nearest neighbour model, our data should be in the (m x n) format, where m = number of artists and n = number of users. To reshape the dataframe, we’ll pivot the dataframe to the wide format with artists as rows and users as columns. Since we are going to calculate distances, every empty needs to filled by 0s. Finally, we convert the dataframe into scipy csr_matrix."
   ]
  },
  {
   "cell_type": "code",
   "execution_count": 22,
   "metadata": {
    "collapsed": true
   },
   "outputs": [],
   "source": [
    "# Pivot the dataframe and fill empyty values with 0s\n",
    "wide_artist_data = usa_data.pivot(index = 'artist-name', columns = 'users', values = 'plays').fillna(0)\n",
    "# Convert the dataframe values to sparse matrix\n",
    "wide_artist_data_sparse = csr_matrix(wide_artist_data.values)"
   ]
  },
  {
   "cell_type": "markdown",
   "metadata": {},
   "source": [
    "Now it is time to fit the model. For that, from sklearn.neighbors, I have used NearestNeighbors."
   ]
  },
  {
   "cell_type": "code",
   "execution_count": 23,
   "metadata": {
    "collapsed": true
   },
   "outputs": [],
   "source": [
    "from sklearn.neighbors import NearestNeighbors"
   ]
  },
  {
   "cell_type": "markdown",
   "metadata": {},
   "source": [
    "'model_knn' stores the class reference and is used to fit the model. <br>\n",
    "'metric = cosine' means the model will measure similarity bectween artist vectors by using cosine similarity."
   ]
  },
  {
   "cell_type": "code",
   "execution_count": 24,
   "metadata": {},
   "outputs": [
    {
     "data": {
      "text/plain": [
       "NearestNeighbors(algorithm='brute', leaf_size=30, metric='cosine',\n",
       "         metric_params=None, n_jobs=1, n_neighbors=5, p=2, radius=1.0)"
      ]
     },
     "execution_count": 24,
     "metadata": {},
     "output_type": "execute_result"
    }
   ],
   "source": [
    "# Stores the reference of the class object\n",
    "model_knn = NearestNeighbors(metric = 'cosine', algorithm = 'brute')\n",
    "# Fits the model\n",
    "model_knn.fit(wide_artist_data_sparse)"
   ]
  },
  {
   "cell_type": "markdown",
   "metadata": {},
   "source": [
    "## Let's Recommend Artists !! :)\n",
    "Now, let's see what parameters does NearestNeighbors.kneighbors takes and what does it return.\n",
    "<br>\n",
    "Parameters:\t\n",
    "\n",
    "X : array-like, shape (n_query, n_features), or (n_query, n_indexed) if metric == ‘precomputed’\n",
    "The query point or points. If not provided, neighbors of each indexed point are returned. In this case, the query point is not considered its own neighbor.\n",
    "\n",
    "n_neighbors : int\n",
    "Number of neighbors to get (default is the value passed to the constructor).\n",
    "\n",
    "return_distance : boolean, optional. Defaults to True.\n",
    "If False, distances will not be returned\n",
    "\n",
    "Source: http://scikit-learn.org/stable/modules/generated/sklearn.neighbors.NearestNeighbors.html#sklearn.neighbors.NearestNeighbors.kneighbors"
   ]
  },
  {
   "cell_type": "markdown",
   "metadata": {},
   "source": [
    "Below we suggest artists based on an artist a user listen to. "
   ]
  },
  {
   "cell_type": "code",
   "execution_count": 25,
   "metadata": {},
   "outputs": [
    {
     "name": "stdout",
     "output_type": "stream",
     "text": [
      "\n",
      "Recommendations for kid loco:\n",
      "\n",
      "1: beanfield, with distance of 0.8422700966788542:\n",
      "2: 9 lazy 9, with distance of 0.8496425677915134:\n",
      "3: studio, with distance of 0.8577483211504757:\n",
      "4: dzihan & kamien, with distance of 0.8722226383385326:\n",
      "5: blue states, with distance of 0.8761688035946449:\n"
     ]
    }
   ],
   "source": [
    "# Recommendation for random users. It creates set of 6 nearest neighbours. \n",
    "# np.random.choice generates a random sample from a given 1D array\n",
    "query_index = np.random.choice(wide_artist_data.shape[0])\n",
    "print()\n",
    "distances, indices = model_knn.kneighbors(wide_artist_data.iloc[query_index, :].reshape(1, -1), n_neighbors = 6)\n",
    "# Recommends 5 artists based on which artist a user listen to\n",
    "for i in range(0, len(distances.flatten())):\n",
    "    if i == 0:\n",
    "        print ('Recommendations for {0}:\\n'.format(wide_artist_data.index[query_index]))\n",
    "    else:\n",
    "        print ('{0}: {1}, with distance of {2}:'.format(i, wide_artist_data.index[indices.flatten()[i]], distances.flatten()[i]))"
   ]
  },
  {
   "cell_type": "markdown",
   "metadata": {},
   "source": [
    "Suppose a user listens to high tone, then the other artists in the list above can be recommended. "
   ]
  },
  {
   "cell_type": "markdown",
   "metadata": {},
   "source": [
    "If we see at the above recommendations, all artists play jazz and pop. But we can get some results which don't make much sense in the list above. Reason ? Since we’re doing item-based collaborative filtering with K-Nearest Neighbors on the actual play count data, outliers can have a big influence."
   ]
  },
  {
   "cell_type": "markdown",
   "metadata": {},
   "source": [
    "## Binary Play Count Data\n",
    "In our previous approach, we used total play counts as values in our artist vectors. We can also convert these values into binary values (0 or 1) depeneding on whether a user listened to an artist or not.\n",
    "This can be done by applying the sign function in numpy to each column in the dataframe."
   ]
  },
  {
   "cell_type": "code",
   "execution_count": 26,
   "metadata": {
    "collapsed": true
   },
   "outputs": [],
   "source": [
    "wide_artist_data_binary = np.sign(wide_artist_data)\n",
    "wide_artist_data_binary_sparse = csr_matrix(wide_artist_data_binary.values)"
   ]
  },
  {
   "cell_type": "code",
   "execution_count": 27,
   "metadata": {},
   "outputs": [
    {
     "data": {
      "text/plain": [
       "NearestNeighbors(algorithm='brute', leaf_size=30, metric='cosine',\n",
       "         metric_params=None, n_jobs=1, n_neighbors=5, p=2, radius=1.0)"
      ]
     },
     "execution_count": 27,
     "metadata": {},
     "output_type": "execute_result"
    }
   ],
   "source": [
    "# Let's create the model class and then fit our data\n",
    "model_nn_binary = NearestNeighbors(metric='cosine', algorithm='brute')\n",
    "model_nn_binary.fit(wide_artist_data_binary_sparse)"
   ]
  },
  {
   "cell_type": "code",
   "execution_count": 28,
   "metadata": {},
   "outputs": [
    {
     "name": "stdout",
     "output_type": "stream",
     "text": [
      "Recommendations with binary play data for kid loco:\n",
      "\n",
      "1: sofa surfers, with distance of 0.7477655001143029:\n",
      "2: boozoo bajou, with distance of 0.7793942347499248:\n",
      "3: tosca, with distance of 0.784426394655227:\n",
      "4: dzihan & kamien, with distance of 0.7849571331708403:\n",
      "5: peace orchestra, with distance of 0.7876154992904167:\n"
     ]
    }
   ],
   "source": [
    "distances, indices = model_nn_binary.kneighbors(wide_artist_data_binary.iloc[query_index, :].reshape(1, -1), n_neighbors = 6)\n",
    "\n",
    "for i in range(0, len(distances.flatten())):\n",
    "    if i == 0:\n",
    "        print ('Recommendations with binary play data for {0}:\\n'.format(wide_artist_data_binary.index[query_index]))\n",
    "    else:\n",
    "        print ('{0}: {1}, with distance of {2}:'.format(i, wide_artist_data_binary.index[indices.flatten()[i]], distances.flatten()[i]))"
   ]
  },
  {
   "cell_type": "markdown",
   "metadata": {},
   "source": [
    "Now, here if you see the results. The results are looks good if not better. The distances are higher than total play counts recommendation, but that’s due to squashing the data by using the sign function."
   ]
  },
  {
   "cell_type": "markdown",
   "metadata": {},
   "source": [
    "In our recommendations, we selected artists randomly. In real life, we don't want to select artists randomly. We want recommendations based on a particular artist name. Let's try another method here."
   ]
  },
  {
   "cell_type": "markdown",
   "metadata": {},
   "source": [
    "## Recommending Artists with Fuzzy Matching\n",
    "A lot of times artist names are either ambiguous or mispelled. We don't want no results for such names even though such artists exist. That's why, let's include fuzzy matching part in the process so we don’t need exact name matches."
   ]
  },
  {
   "cell_type": "markdown",
   "metadata": {},
   "source": [
    "Fuzzywuzzy has been used here to solve the problem. Now what does it do?\n",
    "\n",
    "Fuzzy string matching like a boss. It uses Levenshtein Distance to calculate the differences between sequences in a simple-to-use package.\n",
    "\n",
    "Install the dependency using -\n",
    "#### pip install fuzzywuzzy\n",
    "#### pip install python-levenshtein\n",
    "To know more: https://pypi.python.org/pypi/fuzzywuzzy\n",
    "Here is a tutorial if you want to learn more: http://chairnerd.seatgeek.com/fuzzywuzzy-fuzzy-string-matching-in-python/"
   ]
  },
  {
   "cell_type": "code",
   "execution_count": 29,
   "metadata": {},
   "outputs": [],
   "source": [
    "from fuzzywuzzy import fuzz"
   ]
  },
  {
   "cell_type": "code",
   "execution_count": 30,
   "metadata": {},
   "outputs": [],
   "source": [
    "def recommend_artists (query_artist, artist_play_array, knn_model, k):\n",
    "    \"\"\"\n",
    "    Inputs:\n",
    "    query_artist: query artist name\n",
    "    artist_play_array: artist play count dataframe (not the sparse one, the pandas dataframe)\n",
    "    knn_model: our previously fitted sklearn knn model\n",
    "    k: the number of nearest neighbors.\n",
    "    \n",
    "    Prints: Artist recommendations for the query artist\n",
    "    Returns: None\n",
    "    \"\"\"\n",
    "    query_index = None\n",
    "    ratio_tuples = []\n",
    "    \n",
    "    for name in artist_play_array.index:\n",
    "        # Calculates the similiarity between the 2 texts (artist name searched and artist name present in the matrix)\n",
    "        ratio = fuzz.ratio (name.lower(), query_artist.lower())\n",
    "        # checks similiarity is greater than 75\n",
    "        if ratio >= 75:\n",
    "            current_query_index = artist_play_array.index.tolist().index(name)\n",
    "            # Adding name of the artist, ratio of similiarity and index to the list to keep track of all similiar named artists\n",
    "            ratio_tuples.append((name, ratio, current_query_index))\n",
    "                \n",
    "    print ('Possible matches: {0}\\n'.format([(x[0], x[1]) for x in ratio_tuples]))\n",
    "    \n",
    "    try:\n",
    "        # get the index of the best artist match in the data (maximum match)\n",
    "        query_index = max(ratio_tuples, key = lambda x: x[1])[2]\n",
    "    except:\n",
    "        # if nothing in the list, no results found\n",
    "        print ('Your artist didn\\'t match any artists in the data. Try again')\n",
    "        return None\n",
    "    # fits the model on the index of the artist with the maximum match.\n",
    "    distances, indices = knn_model.kneighbors(artist_play_array.iloc[query_index, :].reshape(1, -1), n_neighbors = k + 1)\n",
    "    # Recommends 5 artists based on which artist a user listen to\n",
    "    for i in range(0, len(distances.flatten())):\n",
    "        if i == 0:\n",
    "            print ('Recommendations for {0}:\\n'.format(artist_play_array.index[query_index]))\n",
    "        else:\n",
    "            print ('{0}: {1}, with distance of {2}:'.format(i, artist_play_array.index[indices.flatten()[i]], distances.flatten()[i]))\n",
    "\n",
    "    return None\n",
    "        \n",
    "    "
   ]
  },
  {
   "cell_type": "markdown",
   "metadata": {},
   "source": [
    "Let's try this cool function."
   ]
  },
  {
   "cell_type": "code",
   "execution_count": 31,
   "metadata": {},
   "outputs": [
    {
     "name": "stdout",
     "output_type": "stream",
     "text": [
      "Possible matches: [('red hot chili peppers', 100)]\n",
      "\n",
      "Recommendations for red hot chili peppers:\n",
      "\n",
      "1: incubus, with distance of 0.6866329121659049:\n",
      "2: the beatles, with distance of 0.6938567428877458:\n",
      "3: sublime, with distance of 0.705400375259746:\n",
      "4: foo fighters, with distance of 0.7115568685895525:\n",
      "5: coldplay, with distance of 0.7166914223483436:\n",
      "6: led zeppelin, with distance of 0.7224887876238412:\n",
      "7: nirvana, with distance of 0.7249439831689736:\n",
      "8: green day, with distance of 0.7346038131182646:\n",
      "9: radiohead, with distance of 0.7373723028024795:\n",
      "10: rage against the machine, with distance of 0.7401364919569786:\n"
     ]
    }
   ],
   "source": [
    "recommend_artists('red hot chili peppers', wide_artist_data_binary, model_nn_binary, k = 10)"
   ]
  },
  {
   "cell_type": "markdown",
   "metadata": {},
   "source": [
    "Now this seems quite relevant, right ??"
   ]
  },
  {
   "cell_type": "markdown",
   "metadata": {},
   "source": [
    "## Improvements\n",
    "What happens when there are large datasets ?\n",
    "\n",
    "For every query we make, we are calling model_nn_binary/model_nn everytime. We’re calculating the distance of each artist vector in our wide_artist_data_sparse array to the query artist vector every time we want recommendations. If dataset is small, it is not a problem but if we have a very large dataset, it is not a great approach.\n",
    "\n",
    "How can we solve the issue ?\n",
    "\n",
    "Because we’re doing item based collaborative filtering, we can actually avoid this issue. The item vectors change, of course, as users listen to more artists. But, in general, they are pretty static. If we pre-computed an item-item similarity matrix (in our case, every cell would be the cosine-distance between artist i and artist j), we could just look up the similarity values at query time. This is way faster, and scales extremely well to massive datasets."
   ]
  },
  {
   "cell_type": "markdown",
   "metadata": {},
   "source": [
    "## How can you have more fun ?\n",
    "Since the above method doesn't uses any feature from the items used, the same recommendation system can be used for variety of items. Try modelling using Movies data or Netflix data, it's going to be fun."
   ]
  },
  {
   "cell_type": "markdown",
   "metadata": {},
   "source": [
    "References:\n",
    "1. https://hackernoon.com/spotifys-discover-weekly-how-machine-learning-finds-your-new-music-19a41ab76efe\n",
    "2. http://hpac.rwth-aachen.de/teaching/sem-mus-17/Reports/Madathil.pdf\n",
    "3. http://benanne.github.io/2014/08/05/spotify-cnns.html\n",
    "4. https://beckernick.github.io/music_recommender/\n",
    "5. https://towardsdatascience.com/building-spotifys-discover-weekly-with-spark-4370d5d0df2f\n",
    "6. Collaborative Filtering, https://en.wikipedia.org/wiki/Collaborative_filtering\n",
    "7. Fuzzywuzzy, http://chairnerd.seatgeek.com/fuzzywuzzy-fuzzy-string-matching-in-python/"
   ]
  }
 ],
 "metadata": {
  "kernelspec": {
   "display_name": "Python 3",
   "language": "python",
   "name": "python3"
  },
  "language_info": {
   "codemirror_mode": {
    "name": "ipython",
    "version": 3
   },
   "file_extension": ".py",
   "mimetype": "text/x-python",
   "name": "python",
   "nbconvert_exporter": "python",
   "pygments_lexer": "ipython3",
   "version": "3.6.3"
  }
 },
 "nbformat": 4,
 "nbformat_minor": 2
}
