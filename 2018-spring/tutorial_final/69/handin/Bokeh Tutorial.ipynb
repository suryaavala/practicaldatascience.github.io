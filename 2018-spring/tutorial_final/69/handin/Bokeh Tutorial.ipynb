{
 "cells": [
  {
   "cell_type": "markdown",
   "metadata": {},
   "source": [
    "# Data Visualization"
   ]
  },
  {
   "cell_type": "markdown",
   "metadata": {},
   "source": [
    "Data visualization is a very important part in data science. It is the most intuitive way of getting overall view of a dataset we get.\n",
    "\n",
    "Firstly, data visualization is one step usually needed before implementing machine learning. Before we extract information from data by doing machine learning, implementing algorithms, aata visualization helps us to understand how the data looks from a human perspective and choose a suitable machine learning algorithm. Secondly, sometimes, we can extract large amount of information from pure data visualization. Information including trend of data, corelation betweeen data. Thirdly, data visualization is more attractive and persuasive than rarely numbers and texts, so it is often used to convey analysis results. "
   ]
  },
  {
   "cell_type": "markdown",
   "metadata": {},
   "source": [
    "# Packages"
   ]
  },
  {
   "cell_type": "markdown",
   "metadata": {},
   "source": [
    "In this tutorial, we focus on interactive data visualization using Bokeh. But before that. I'd like to introduce other popular data visualization packages in python. When doing data visualization in practice, we need to make choice among them and find the most suitable one for our task."
   ]
  },
  {
   "cell_type": "markdown",
   "metadata": {},
   "source": [
    "*****\n",
    "Matplotlib"
   ]
  },
  {
   "cell_type": "markdown",
   "metadata": {},
   "source": [
    "Matplotlib is the standard for plotting in Python. It is the one being mostly used, although, by default, the figures look quite ugly. But that is pretty enough for data exploration visualization for the purpose of identifying trend and character of dataset."
   ]
  },
  {
   "cell_type": "markdown",
   "metadata": {},
   "source": [
    "*****\n",
    "Seaborn"
   ]
  },
  {
   "cell_type": "markdown",
   "metadata": {},
   "source": [
    "Seaborn is built on Matplotlib. It get strength of Matplotlib and styles and additional libraries have been created to give it a nicer look. However, it is aimed at generating static plots, not very good for interacting with data."
   ]
  },
  {
   "cell_type": "markdown",
   "metadata": {},
   "source": [
    "*****\n",
    "Bokeh"
   ]
  },
  {
   "cell_type": "markdown",
   "metadata": {},
   "source": [
    "Bokeh has the feature of both interactive & static plot. It is built on javascript library, the pyhton library specifies a plot and then hand over to javascript library which renders it. In this way, it gets strength of javascript which is interactivity without worring about writing javacript code. "
   ]
  },
  {
   "cell_type": "markdown",
   "metadata": {},
   "source": [
    "# Bokeh"
   ]
  },
  {
   "cell_type": "markdown",
   "metadata": {},
   "source": [
    "To explain Bokeh in detail, we use a sample dataset to explain several types plots can be done by bokeh. We get US workers injury information from 2015 to 2017 fromnunited states department of labor, Occupational Safety and Health Administration(OSHA). The dataset is in a single csv file. \n",
    "https://www.osha.gov/severeinjury/index.html"
   ]
  },
  {
   "cell_type": "code",
   "execution_count": 1,
   "metadata": {
    "collapsed": true
   },
   "outputs": [],
   "source": [
    "# import packages\n",
    "import pandas as pd\n",
    "from bokeh.io import output_notebook, show\n",
    "from bokeh.models import ColumnDataSource\n",
    "from bokeh.plotting import figure, show, output_file"
   ]
  },
  {
   "cell_type": "code",
   "execution_count": 2,
   "metadata": {
    "collapsed": true
   },
   "outputs": [],
   "source": [
    "# read data in from csv file. \n",
    "data = pd.read_csv(\"severeinjury.csv\", error_bad_lines=False, encoding = \"ISO-8859-1\")"
   ]
  },
  {
   "cell_type": "code",
   "execution_count": 3,
   "metadata": {
    "collapsed": true
   },
   "outputs": [],
   "source": [
    "# feature engineering\n",
    "def employerFunction(row):\n",
    "    return row.Employer.replace(\"United States\", \"U.S.\").replace('US ', 'U.S. ').lower().strip()\n",
    "data['EmployerNew'] = data.apply(employerFunction, axis = 1)"
   ]
  },
  {
   "cell_type": "code",
   "execution_count": 4,
   "metadata": {
    "scrolled": true
   },
   "outputs": [
    {
     "data": {
      "text/html": [
       "\n",
       "    <div class=\"bk-root\">\n",
       "        <a href=\"https://bokeh.pydata.org\" target=\"_blank\" class=\"bk-logo bk-logo-small bk-logo-notebook\"></a>\n",
       "        <span id=\"98846bc2-05f7-430a-a565-6f2353308196\">Loading BokehJS ...</span>\n",
       "    </div>"
      ]
     },
     "metadata": {},
     "output_type": "display_data"
    },
    {
     "data": {
      "application/javascript": [
       "\n",
       "(function(root) {\n",
       "  function now() {\n",
       "    return new Date();\n",
       "  }\n",
       "\n",
       "  var force = true;\n",
       "\n",
       "  if (typeof (root._bokeh_onload_callbacks) === \"undefined\" || force === true) {\n",
       "    root._bokeh_onload_callbacks = [];\n",
       "    root._bokeh_is_loading = undefined;\n",
       "  }\n",
       "\n",
       "  var JS_MIME_TYPE = 'application/javascript';\n",
       "  var HTML_MIME_TYPE = 'text/html';\n",
       "  var EXEC_MIME_TYPE = 'application/vnd.bokehjs_exec.v0+json';\n",
       "  var CLASS_NAME = 'output_bokeh rendered_html';\n",
       "\n",
       "  /**\n",
       "   * Render data to the DOM node\n",
       "   */\n",
       "  function render(props, node) {\n",
       "    var script = document.createElement(\"script\");\n",
       "    node.appendChild(script);\n",
       "  }\n",
       "\n",
       "  /**\n",
       "   * Handle when an output is cleared or removed\n",
       "   */\n",
       "  function handleClearOutput(event, handle) {\n",
       "    var cell = handle.cell;\n",
       "\n",
       "    var id = cell.output_area._bokeh_element_id;\n",
       "    var server_id = cell.output_area._bokeh_server_id;\n",
       "    // Clean up Bokeh references\n",
       "    if (id !== undefined) {\n",
       "      Bokeh.index[id].model.document.clear();\n",
       "      delete Bokeh.index[id];\n",
       "    }\n",
       "\n",
       "    if (server_id !== undefined) {\n",
       "      // Clean up Bokeh references\n",
       "      var cmd = \"from bokeh.io.state import curstate; print(curstate().uuid_to_server['\" + server_id + \"'].get_sessions()[0].document.roots[0]._id)\";\n",
       "      cell.notebook.kernel.execute(cmd, {\n",
       "        iopub: {\n",
       "          output: function(msg) {\n",
       "            var element_id = msg.content.text.trim();\n",
       "            Bokeh.index[element_id].model.document.clear();\n",
       "            delete Bokeh.index[element_id];\n",
       "          }\n",
       "        }\n",
       "      });\n",
       "      // Destroy server and session\n",
       "      var cmd = \"import bokeh.io.notebook as ion; ion.destroy_server('\" + server_id + \"')\";\n",
       "      cell.notebook.kernel.execute(cmd);\n",
       "    }\n",
       "  }\n",
       "\n",
       "  /**\n",
       "   * Handle when a new output is added\n",
       "   */\n",
       "  function handleAddOutput(event, handle) {\n",
       "    var output_area = handle.output_area;\n",
       "    var output = handle.output;\n",
       "\n",
       "    // limit handleAddOutput to display_data with EXEC_MIME_TYPE content only\n",
       "    if ((output.output_type != \"display_data\") || (!output.data.hasOwnProperty(EXEC_MIME_TYPE))) {\n",
       "      return\n",
       "    }\n",
       "\n",
       "    var toinsert = output_area.element.find(\".\" + CLASS_NAME.split(' ')[0]);\n",
       "\n",
       "    if (output.metadata[EXEC_MIME_TYPE][\"id\"] !== undefined) {\n",
       "      toinsert[0].firstChild.textContent = output.data[JS_MIME_TYPE];\n",
       "      // store reference to embed id on output_area\n",
       "      output_area._bokeh_element_id = output.metadata[EXEC_MIME_TYPE][\"id\"];\n",
       "    }\n",
       "    if (output.metadata[EXEC_MIME_TYPE][\"server_id\"] !== undefined) {\n",
       "      var bk_div = document.createElement(\"div\");\n",
       "      bk_div.innerHTML = output.data[HTML_MIME_TYPE];\n",
       "      var script_attrs = bk_div.children[0].attributes;\n",
       "      for (var i = 0; i < script_attrs.length; i++) {\n",
       "        toinsert[0].firstChild.setAttribute(script_attrs[i].name, script_attrs[i].value);\n",
       "      }\n",
       "      // store reference to server id on output_area\n",
       "      output_area._bokeh_server_id = output.metadata[EXEC_MIME_TYPE][\"server_id\"];\n",
       "    }\n",
       "  }\n",
       "\n",
       "  function register_renderer(events, OutputArea) {\n",
       "\n",
       "    function append_mime(data, metadata, element) {\n",
       "      // create a DOM node to render to\n",
       "      var toinsert = this.create_output_subarea(\n",
       "        metadata,\n",
       "        CLASS_NAME,\n",
       "        EXEC_MIME_TYPE\n",
       "      );\n",
       "      this.keyboard_manager.register_events(toinsert);\n",
       "      // Render to node\n",
       "      var props = {data: data, metadata: metadata[EXEC_MIME_TYPE]};\n",
       "      render(props, toinsert[0]);\n",
       "      element.append(toinsert);\n",
       "      return toinsert\n",
       "    }\n",
       "\n",
       "    /* Handle when an output is cleared or removed */\n",
       "    events.on('clear_output.CodeCell', handleClearOutput);\n",
       "    events.on('delete.Cell', handleClearOutput);\n",
       "\n",
       "    /* Handle when a new output is added */\n",
       "    events.on('output_added.OutputArea', handleAddOutput);\n",
       "\n",
       "    /**\n",
       "     * Register the mime type and append_mime function with output_area\n",
       "     */\n",
       "    OutputArea.prototype.register_mime_type(EXEC_MIME_TYPE, append_mime, {\n",
       "      /* Is output safe? */\n",
       "      safe: true,\n",
       "      /* Index of renderer in `output_area.display_order` */\n",
       "      index: 0\n",
       "    });\n",
       "  }\n",
       "\n",
       "  // register the mime type if in Jupyter Notebook environment and previously unregistered\n",
       "  if (root.Jupyter !== undefined) {\n",
       "    var events = require('base/js/events');\n",
       "    var OutputArea = require('notebook/js/outputarea').OutputArea;\n",
       "\n",
       "    if (OutputArea.prototype.mime_types().indexOf(EXEC_MIME_TYPE) == -1) {\n",
       "      register_renderer(events, OutputArea);\n",
       "    }\n",
       "  }\n",
       "\n",
       "  \n",
       "  if (typeof (root._bokeh_timeout) === \"undefined\" || force === true) {\n",
       "    root._bokeh_timeout = Date.now() + 5000;\n",
       "    root._bokeh_failed_load = false;\n",
       "  }\n",
       "\n",
       "  var NB_LOAD_WARNING = {'data': {'text/html':\n",
       "     \"<div style='background-color: #fdd'>\\n\"+\n",
       "     \"<p>\\n\"+\n",
       "     \"BokehJS does not appear to have successfully loaded. If loading BokehJS from CDN, this \\n\"+\n",
       "     \"may be due to a slow or bad network connection. Possible fixes:\\n\"+\n",
       "     \"</p>\\n\"+\n",
       "     \"<ul>\\n\"+\n",
       "     \"<li>re-rerun `output_notebook()` to attempt to load from CDN again, or</li>\\n\"+\n",
       "     \"<li>use INLINE resources instead, as so:</li>\\n\"+\n",
       "     \"</ul>\\n\"+\n",
       "     \"<code>\\n\"+\n",
       "     \"from bokeh.resources import INLINE\\n\"+\n",
       "     \"output_notebook(resources=INLINE)\\n\"+\n",
       "     \"</code>\\n\"+\n",
       "     \"</div>\"}};\n",
       "\n",
       "  function display_loaded() {\n",
       "    var el = document.getElementById(\"98846bc2-05f7-430a-a565-6f2353308196\");\n",
       "    if (el != null) {\n",
       "      el.textContent = \"BokehJS is loading...\";\n",
       "    }\n",
       "    if (root.Bokeh !== undefined) {\n",
       "      if (el != null) {\n",
       "        el.textContent = \"BokehJS \" + root.Bokeh.version + \" successfully loaded.\";\n",
       "      }\n",
       "    } else if (Date.now() < root._bokeh_timeout) {\n",
       "      setTimeout(display_loaded, 100)\n",
       "    }\n",
       "  }\n",
       "\n",
       "\n",
       "  function run_callbacks() {\n",
       "    try {\n",
       "      root._bokeh_onload_callbacks.forEach(function(callback) { callback() });\n",
       "    }\n",
       "    finally {\n",
       "      delete root._bokeh_onload_callbacks\n",
       "    }\n",
       "    console.info(\"Bokeh: all callbacks have finished\");\n",
       "  }\n",
       "\n",
       "  function load_libs(js_urls, callback) {\n",
       "    root._bokeh_onload_callbacks.push(callback);\n",
       "    if (root._bokeh_is_loading > 0) {\n",
       "      console.log(\"Bokeh: BokehJS is being loaded, scheduling callback at\", now());\n",
       "      return null;\n",
       "    }\n",
       "    if (js_urls == null || js_urls.length === 0) {\n",
       "      run_callbacks();\n",
       "      return null;\n",
       "    }\n",
       "    console.log(\"Bokeh: BokehJS not loaded, scheduling load and callback at\", now());\n",
       "    root._bokeh_is_loading = js_urls.length;\n",
       "    for (var i = 0; i < js_urls.length; i++) {\n",
       "      var url = js_urls[i];\n",
       "      var s = document.createElement('script');\n",
       "      s.src = url;\n",
       "      s.async = false;\n",
       "      s.onreadystatechange = s.onload = function() {\n",
       "        root._bokeh_is_loading--;\n",
       "        if (root._bokeh_is_loading === 0) {\n",
       "          console.log(\"Bokeh: all BokehJS libraries loaded\");\n",
       "          run_callbacks()\n",
       "        }\n",
       "      };\n",
       "      s.onerror = function() {\n",
       "        console.warn(\"failed to load library \" + url);\n",
       "      };\n",
       "      console.log(\"Bokeh: injecting script tag for BokehJS library: \", url);\n",
       "      document.getElementsByTagName(\"head\")[0].appendChild(s);\n",
       "    }\n",
       "  };var element = document.getElementById(\"98846bc2-05f7-430a-a565-6f2353308196\");\n",
       "  if (element == null) {\n",
       "    console.log(\"Bokeh: ERROR: autoload.js configured with elementid '98846bc2-05f7-430a-a565-6f2353308196' but no matching script tag was found. \")\n",
       "    return false;\n",
       "  }\n",
       "\n",
       "  var js_urls = [\"https://cdn.pydata.org/bokeh/release/bokeh-0.12.14.min.js\", \"https://cdn.pydata.org/bokeh/release/bokeh-widgets-0.12.14.min.js\", \"https://cdn.pydata.org/bokeh/release/bokeh-tables-0.12.14.min.js\", \"https://cdn.pydata.org/bokeh/release/bokeh-gl-0.12.14.min.js\"];\n",
       "\n",
       "  var inline_js = [\n",
       "    function(Bokeh) {\n",
       "      Bokeh.set_log_level(\"info\");\n",
       "    },\n",
       "    \n",
       "    function(Bokeh) {\n",
       "      \n",
       "    },\n",
       "    function(Bokeh) {\n",
       "      console.log(\"Bokeh: injecting CSS: https://cdn.pydata.org/bokeh/release/bokeh-0.12.14.min.css\");\n",
       "      Bokeh.embed.inject_css(\"https://cdn.pydata.org/bokeh/release/bokeh-0.12.14.min.css\");\n",
       "      console.log(\"Bokeh: injecting CSS: https://cdn.pydata.org/bokeh/release/bokeh-widgets-0.12.14.min.css\");\n",
       "      Bokeh.embed.inject_css(\"https://cdn.pydata.org/bokeh/release/bokeh-widgets-0.12.14.min.css\");\n",
       "      console.log(\"Bokeh: injecting CSS: https://cdn.pydata.org/bokeh/release/bokeh-tables-0.12.14.min.css\");\n",
       "      Bokeh.embed.inject_css(\"https://cdn.pydata.org/bokeh/release/bokeh-tables-0.12.14.min.css\");\n",
       "    }\n",
       "  ];\n",
       "\n",
       "  function run_inline_js() {\n",
       "    \n",
       "    if ((root.Bokeh !== undefined) || (force === true)) {\n",
       "      for (var i = 0; i < inline_js.length; i++) {\n",
       "        inline_js[i].call(root, root.Bokeh);\n",
       "      }if (force === true) {\n",
       "        display_loaded();\n",
       "      }} else if (Date.now() < root._bokeh_timeout) {\n",
       "      setTimeout(run_inline_js, 100);\n",
       "    } else if (!root._bokeh_failed_load) {\n",
       "      console.log(\"Bokeh: BokehJS failed to load within specified timeout.\");\n",
       "      root._bokeh_failed_load = true;\n",
       "    } else if (force !== true) {\n",
       "      var cell = $(document.getElementById(\"98846bc2-05f7-430a-a565-6f2353308196\")).parents('.cell').data().cell;\n",
       "      cell.output_area.append_execute_result(NB_LOAD_WARNING)\n",
       "    }\n",
       "\n",
       "  }\n",
       "\n",
       "  if (root._bokeh_is_loading === 0) {\n",
       "    console.log(\"Bokeh: BokehJS loaded, going straight to plotting\");\n",
       "    run_inline_js();\n",
       "  } else {\n",
       "    load_libs(js_urls, function() {\n",
       "      console.log(\"Bokeh: BokehJS plotting callback run at\", now());\n",
       "      run_inline_js();\n",
       "    });\n",
       "  }\n",
       "}(window));"
      ],
      "application/vnd.bokehjs_load.v0+json": "\n(function(root) {\n  function now() {\n    return new Date();\n  }\n\n  var force = true;\n\n  if (typeof (root._bokeh_onload_callbacks) === \"undefined\" || force === true) {\n    root._bokeh_onload_callbacks = [];\n    root._bokeh_is_loading = undefined;\n  }\n\n  \n\n  \n  if (typeof (root._bokeh_timeout) === \"undefined\" || force === true) {\n    root._bokeh_timeout = Date.now() + 5000;\n    root._bokeh_failed_load = false;\n  }\n\n  var NB_LOAD_WARNING = {'data': {'text/html':\n     \"<div style='background-color: #fdd'>\\n\"+\n     \"<p>\\n\"+\n     \"BokehJS does not appear to have successfully loaded. If loading BokehJS from CDN, this \\n\"+\n     \"may be due to a slow or bad network connection. Possible fixes:\\n\"+\n     \"</p>\\n\"+\n     \"<ul>\\n\"+\n     \"<li>re-rerun `output_notebook()` to attempt to load from CDN again, or</li>\\n\"+\n     \"<li>use INLINE resources instead, as so:</li>\\n\"+\n     \"</ul>\\n\"+\n     \"<code>\\n\"+\n     \"from bokeh.resources import INLINE\\n\"+\n     \"output_notebook(resources=INLINE)\\n\"+\n     \"</code>\\n\"+\n     \"</div>\"}};\n\n  function display_loaded() {\n    var el = document.getElementById(\"98846bc2-05f7-430a-a565-6f2353308196\");\n    if (el != null) {\n      el.textContent = \"BokehJS is loading...\";\n    }\n    if (root.Bokeh !== undefined) {\n      if (el != null) {\n        el.textContent = \"BokehJS \" + root.Bokeh.version + \" successfully loaded.\";\n      }\n    } else if (Date.now() < root._bokeh_timeout) {\n      setTimeout(display_loaded, 100)\n    }\n  }\n\n\n  function run_callbacks() {\n    try {\n      root._bokeh_onload_callbacks.forEach(function(callback) { callback() });\n    }\n    finally {\n      delete root._bokeh_onload_callbacks\n    }\n    console.info(\"Bokeh: all callbacks have finished\");\n  }\n\n  function load_libs(js_urls, callback) {\n    root._bokeh_onload_callbacks.push(callback);\n    if (root._bokeh_is_loading > 0) {\n      console.log(\"Bokeh: BokehJS is being loaded, scheduling callback at\", now());\n      return null;\n    }\n    if (js_urls == null || js_urls.length === 0) {\n      run_callbacks();\n      return null;\n    }\n    console.log(\"Bokeh: BokehJS not loaded, scheduling load and callback at\", now());\n    root._bokeh_is_loading = js_urls.length;\n    for (var i = 0; i < js_urls.length; i++) {\n      var url = js_urls[i];\n      var s = document.createElement('script');\n      s.src = url;\n      s.async = false;\n      s.onreadystatechange = s.onload = function() {\n        root._bokeh_is_loading--;\n        if (root._bokeh_is_loading === 0) {\n          console.log(\"Bokeh: all BokehJS libraries loaded\");\n          run_callbacks()\n        }\n      };\n      s.onerror = function() {\n        console.warn(\"failed to load library \" + url);\n      };\n      console.log(\"Bokeh: injecting script tag for BokehJS library: \", url);\n      document.getElementsByTagName(\"head\")[0].appendChild(s);\n    }\n  };var element = document.getElementById(\"98846bc2-05f7-430a-a565-6f2353308196\");\n  if (element == null) {\n    console.log(\"Bokeh: ERROR: autoload.js configured with elementid '98846bc2-05f7-430a-a565-6f2353308196' but no matching script tag was found. \")\n    return false;\n  }\n\n  var js_urls = [\"https://cdn.pydata.org/bokeh/release/bokeh-0.12.14.min.js\", \"https://cdn.pydata.org/bokeh/release/bokeh-widgets-0.12.14.min.js\", \"https://cdn.pydata.org/bokeh/release/bokeh-tables-0.12.14.min.js\", \"https://cdn.pydata.org/bokeh/release/bokeh-gl-0.12.14.min.js\"];\n\n  var inline_js = [\n    function(Bokeh) {\n      Bokeh.set_log_level(\"info\");\n    },\n    \n    function(Bokeh) {\n      \n    },\n    function(Bokeh) {\n      console.log(\"Bokeh: injecting CSS: https://cdn.pydata.org/bokeh/release/bokeh-0.12.14.min.css\");\n      Bokeh.embed.inject_css(\"https://cdn.pydata.org/bokeh/release/bokeh-0.12.14.min.css\");\n      console.log(\"Bokeh: injecting CSS: https://cdn.pydata.org/bokeh/release/bokeh-widgets-0.12.14.min.css\");\n      Bokeh.embed.inject_css(\"https://cdn.pydata.org/bokeh/release/bokeh-widgets-0.12.14.min.css\");\n      console.log(\"Bokeh: injecting CSS: https://cdn.pydata.org/bokeh/release/bokeh-tables-0.12.14.min.css\");\n      Bokeh.embed.inject_css(\"https://cdn.pydata.org/bokeh/release/bokeh-tables-0.12.14.min.css\");\n    }\n  ];\n\n  function run_inline_js() {\n    \n    if ((root.Bokeh !== undefined) || (force === true)) {\n      for (var i = 0; i < inline_js.length; i++) {\n        inline_js[i].call(root, root.Bokeh);\n      }if (force === true) {\n        display_loaded();\n      }} else if (Date.now() < root._bokeh_timeout) {\n      setTimeout(run_inline_js, 100);\n    } else if (!root._bokeh_failed_load) {\n      console.log(\"Bokeh: BokehJS failed to load within specified timeout.\");\n      root._bokeh_failed_load = true;\n    } else if (force !== true) {\n      var cell = $(document.getElementById(\"98846bc2-05f7-430a-a565-6f2353308196\")).parents('.cell').data().cell;\n      cell.output_area.append_execute_result(NB_LOAD_WARNING)\n    }\n\n  }\n\n  if (root._bokeh_is_loading === 0) {\n    console.log(\"Bokeh: BokehJS loaded, going straight to plotting\");\n    run_inline_js();\n  } else {\n    load_libs(js_urls, function() {\n      console.log(\"Bokeh: BokehJS plotting callback run at\", now());\n      run_inline_js();\n    });\n  }\n}(window));"
     },
     "metadata": {},
     "output_type": "display_data"
    }
   ],
   "source": [
    "# view results in notebook\n",
    "output_notebook()"
   ]
  },
  {
   "cell_type": "markdown",
   "metadata": {},
   "source": [
    "### Time Series Chart"
   ]
  },
  {
   "cell_type": "markdown",
   "metadata": {},
   "source": [
    "By drawing the time series plot, we view trend of data over the three years. The used to drew time series chart by importing TimeSeries from bokeh.charts. However, the old bokeh.charts API has been removed to a separate new bkcharts project. It is currently unmaintained, for that reason, it is strongly discouraged to be used. We can create time series plots with the stable bokeh.plotting API easily enough."
   ]
  },
  {
   "cell_type": "code",
   "execution_count": 15,
   "metadata": {
    "scrolled": true
   },
   "outputs": [
    {
     "data": {
      "text/html": [
       "\n",
       "<div class=\"bk-root\">\n",
       "    <div class=\"bk-plotdiv\" id=\"973f3a71-83d9-4bf3-98f2-cf4ee13c18e5\"></div>\n",
       "</div>"
      ]
     },
     "metadata": {},
     "output_type": "display_data"
    },
    {
     "data": {
      "application/javascript": [
       "(function(root) {\n",
       "  function embed_document(root) {\n",
       "    \n",
       "  var docs_json = {\"2cdd91e8-3b99-47c2-9ef5-c758a8ee9512\":{\"roots\":{\"references\":[{\"attributes\":{\"days\":[1,15]},\"id\":\"66df0988-76b7-4578-b383-6131804d4fe1\",\"type\":\"DaysTicker\"},{\"attributes\":{\"num_minor_ticks\":5,\"tickers\":[{\"id\":\"8052d6ae-07f2-45d2-b7cc-da5a5da8627c\",\"type\":\"AdaptiveTicker\"},{\"id\":\"a544e73d-4f4d-4cf8-baf4-551d49183266\",\"type\":\"AdaptiveTicker\"},{\"id\":\"4da2a4bf-5152-40e3-8696-b9d83b2a5e60\",\"type\":\"AdaptiveTicker\"},{\"id\":\"46b2abc7-e043-4077-b0f5-9aa5e23eb596\",\"type\":\"DaysTicker\"},{\"id\":\"b71ab80c-b30b-4c11-9fcb-2e882102f974\",\"type\":\"DaysTicker\"},{\"id\":\"d4d19fe0-7a7e-4c45-b6f6-2b31c511314d\",\"type\":\"DaysTicker\"},{\"id\":\"66df0988-76b7-4578-b383-6131804d4fe1\",\"type\":\"DaysTicker\"},{\"id\":\"d9499a3b-52b8-4baa-9e6f-7213ea4aa282\",\"type\":\"MonthsTicker\"},{\"id\":\"b69fcc0f-040c-4773-9d4f-b899d5abfa2e\",\"type\":\"MonthsTicker\"},{\"id\":\"128497f4-045b-42fe-a408-c6648f046403\",\"type\":\"MonthsTicker\"},{\"id\":\"7cb3bee0-22e5-48c1-9588-3e32b6087d05\",\"type\":\"MonthsTicker\"},{\"id\":\"c3defc4d-9d85-4be1-8d28-2c73d903db22\",\"type\":\"YearsTicker\"}]},\"id\":\"629d712b-20de-4173-bd59-1e4cc95a58f0\",\"type\":\"DatetimeTicker\"},{\"attributes\":{\"callback\":null,\"column_names\":[\"EventDate\",\"count\",\"Date\"],\"data\":{\"Date\":{\"__ndarray__\":\"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\",\"dtype\":\"float64\",\"shape\":[850]},\"EventDate\":[\"1/1/2015\",\"1/2/2015\",\"1/3/2015\",\"1/4/2015\",\"1/5/2015\",\"1/6/2015\",\"1/7/2015\",\"1/8/2015\",\"1/9/2015\",\"1/10/2015\",\"1/11/2015\",\"1/12/2015\",\"1/13/2015\",\"1/14/2015\",\"1/15/2015\",\"1/16/2015\",\"1/17/2015\",\"1/18/2015\",\"1/19/2015\",\"1/20/2015\",\"1/21/2015\",\"1/22/2015\",\"1/23/2015\",\"1/24/2015\",\"1/25/2015\",\"1/26/2015\",\"1/27/2015\",\"1/28/2015\",\"1/29/2015\",\"1/30/2015\",\"1/31/2015\",\"2/1/2015\",\"2/2/2015\",\"2/3/2015\",\"2/4/2015\",\"2/5/2015\",\"2/6/2015\",\"2/7/2015\",\"2/8/2015\",\"2/9/2015\",\"2/10/2015\",\"2/11/2015\",\"2/12/2015\",\"2/13/2015\",\"2/14/2015\",\"2/15/2015\",\"2/16/2015\",\"2/17/2015\",\"2/18/2015\",\"2/19/2015\",\"2/20/2015\",\"2/21/2015\",\"2/22/2015\",\"2/23/2015\",\"2/24/2015\",\"2/25/2015\",\"2/26/2015\",\"2/27/2015\",\"2/28/2015\",\"3/1/2015\",\"3/2/2015\",\"3/3/2015\",\"3/4/2015\",\"3/5/2015\",\"3/6/2015\",\"3/7/2015\",\"3/8/2015\",\"3/9/2015\",\"3/10/2015\",\"3/11/2015\",\"3/12/2015\",\"3/13/2015\",\"3/14/2015\",\"3/15/2015\",\"3/16/2015\",\"3/17/2015\",\"3/18/2015\",\"3/19/2015\",\"3/20/2015\",\"3/21/2015\",\"3/22/2015\",\"3/23/2015\",\"3/24/2015\",\"3/25/2015\",\"3/26/2015\",\"3/27/2015\",\"3/28/2015\",\"3/29/2015\",\"3/30/2015\",\"3/31/2015\",\"4/1/2015\",\"4/2/2015\",\"4/3/2015\",\"4/4/2015\",\"4/5/2015\",\"4/6/2015\",\"4/7/2015\",\"4/8/2015\",\"4/9/2015\",\"4/10/2015\",\"4/11/2015\",\"4/12/2015\",\"4/13/2015\",\"4/14/2015\",\"4/15/2015\",\"4/16/2015\",\"4/17/2015\",\"4/18/2015\",\"4/19/2015\",\"4/20/2015\",\"4/21/2015\",\"4/22/2015\",\"4/23/2015\",\"4/24/2015\",\"4/25/2015\",\"4/26/2015\",\"4/27/2015\",\"4/28/2015\",\"4/29/2015\",\"4/30/2015\",\"5/1/2015\",\"5/2/2015\",\"5/3/2015\",\"5/4/2015\",\"5/5/2015\",\"5/6/2015\",\"5/7/2015\",\"5/8/2015\",\"5/9/2015\",\"5/10/2015\",\"5/11/2015\",\"5/12/2015\",\"5/13/2015\",\"5/14/2015\",\"5/15/2015\",\"5/16/2015\",\"5/17/2015\",\"5/18/2015\",\"5/19/2015\",\"5/20/2015\",\"5/21/2015\",\"5/22/2015\",\"5/23/2015\",\"5/24/2015\",\"5/25/2015\",\"5/26/2015\",\"5/27/2015\",\"5/28/2015\",\"5/29/2015\",\"5/30/2015\",\"5/31/2015\",\"6/1/2015\",\"6/2/2015\",\"6/3/2015\",\"6/4/2015\",\"6/5/2015\",\"6/6/2015\",\"6/7/2015\",\"6/8/2015\",\"6/9/2015\",\"6/10/2015\",\"6/11/2015\",\"6/12/2015\",\"6/13/2015\",\"6/14/2015\",\"6/15/2015\",\"6/16/2015\",\"6/17/2015\",\"6/18/2015\",\"6/19/2015\",\"6/20/2015\",\"6/21/2015\",\"6/22/2015\",\"6/23/2015\",\"6/24/2015\",\"6/25/2015\",\"6/26/2015\",\"6/27/2015\",\"6/28/2015\",\"6/29/2015\",\"6/30/2015\",\"7/1/2015\",\"7/2/2015\",\"7/3/2015\",\"7/4/2015\",\"7/5/2015\",\"7/6/2015\",\"7/7/2015\",\"7/8/2015\",\"7/9/2015\",\"7/10/2015\",\"7/11/2015\",\"7/12/2015\",\"7/13/2015\",\"7/14/2015\",\"7/15/2015\",\"7/16/2015\",\"7/17/2015\",\"7/18/2015\",\"7/19/2015\",\"7/20/2015\",\"7/21/2015\",\"7/22/2015\",\"7/23/2015\",\"7/24/2015\",\"7/25/2015\",\"7/26/2015\",\"7/27/2015\",\"7/28/2015\",\"7/29/2015\",\"7/30/2015\",\"7/31/2015\",\"8/1/2015\",\"8/2/2015\",\"8/3/2015\",\"8/4/2015\",\"8/5/2015\",\"8/6/2015\",\"8/7/2015\",\"8/8/2015\",\"8/9/2015\",\"8/10/2015\",\"8/11/2015\",\"8/12/2015\",\"8/13/2015\",\"8/14/2015\",\"8/15/2015\",\"8/16/2015\",\"8/17/2015\",\"8/18/2015\",\"8/19/2015\",\"8/20/2015\",\"8/21/2015\",\"8/22/2015\",\"8/23/2015\",\"8/24/2015\",\"8/25/2015\",\"8/26/2015\",\"8/27/2015\",\"8/28/2015\",\"8/29/2015\",\"8/30/2015\",\"8/31/2015\",\"9/1/2015\",\"9/2/2015\",\"9/3/2015\",\"9/4/2015\",\"9/5/2015\",\"9/6/2015\",\"9/7/2015\",\"9/8/2015\",\"9/9/2015\",\"9/10/2015\",\"9/11/2015\",\"9/12/2015\",\"9/13/2015\",\"9/14/2015\",\"9/15/2015\",\"9/16/2015\",\"9/17/2015\",\"9/18/2015\",\"9/19/2015\",\"9/20/2015\",\"9/21/2015\",\"9/22/2015\",\"9/23/2015\",\"9/24/2015\",\"9/25/2015\",\"9/26/2015\",\"9/27/2015\",\"9/28/2015\",\"9/29/2015\",\"9/30/2015\",\"10/1/2015\",\"10/2/2015\",\"10/3/2015\",\"10/4/2015\",\"10/5/2015\",\"10/6/2015\",\"10/7/2015\",\"10/8/2015\",\"10/9/2015\",\"10/10/2015\",\"10/11/2015\",\"10/12/2015\",\"10/13/2015\",\"10/14/2015\",\"10/15/2015\",\"10/16/2015\",\"10/17/2015\",\"10/18/2015\",\"10/19/2015\",\"10/20/2015\",\"10/21/2015\",\"10/22/2015\",\"10/23/2015\",\"10/24/2015\",\"10/25/2015\",\"10/26/2015\",\"10/27/2015\",\"10/28/2015\",\"10/29/2015\",\"10/30/2015\",\"10/31/2015\",\"11/1/2015\",\"11/2/2015\",\"11/3/2015\",\"11/4/2015\",\"11/5/2015\",\"11/6/2015\",\"11/7/2015\",\"11/8/2015\",\"11/9/2015\",\"11/10/2015\",\"11/11/2015\",\"11/12/2015\",\"11/13/2015\",\"11/14/2015\",\"11/15/2015\",\"11/16/2015\",\"11/17/2015\",\"11/18/2015\",\"11/19/2015\",\"11/20/2015\",\"11/21/2015\",\"11/22/2015\",\"11/23/2015\",\"11/24/2015\",\"11/25/2015\",\"11/26/2015\",\"11/27/2015\",\"11/28/2015\",\"11/29/2015\",\"11/30/2015\",\"12/1/2015\",\"12/2/2015\",\"12/3/2015\",\"12/4/2015\",\"12/5/2015\",\"12/6/2015\",\"12/7/2015\",\"12/8/2015\",\"12/9/2015\",\"12/10/2015\",\"12/11/2015\",\"12/12/2015\",\"12/13/2015\",\"12/14/2015\",\"12/15/2015\",\"12/16/2015\",\"12/17/2015\",\"12/18/2015\",\"12/19/2015\",\"12/20/2015\",\"12/21/2015\",\"12/22/2015\",\"12/23/2015\",\"12/24/2015\",\"12/25/2015\",\"12/26/2015\",\"12/27/2015\",\"12/28/2015\",\"12/29/2015\",\"12/30/2015\",\"12/31/2015\",\"1/1/2016\",\"1/2/2016\",\"1/3/2016\",\"1/4/2016\",\"1/5/2016\",\"1/6/2016\",\"1/7/2016\",\"1/8/2016\",\"1/9/2016\",\"1/10/2016\",\"1/11/2016\",\"1/12/2016\",\"1/13/2016\",\"1/14/2016\",\"1/15/2016\",\"1/16/2016\",\"1/17/2016\",\"1/18/2016\",\"1/19/2016\",\"1/20/2016\",\"1/21/2016\",\"1/22/2016\",\"1/23/2016\",\"1/24/2016\",\"1/25/2016\",\"1/26/2016\",\"1/27/2016\",\"1/28/2016\",\"1/29/2016\",\"1/30/2016\",\"1/31/2016\",\"2/1/2016\",\"2/2/2016\",\"2/3/2016\",\"2/4/2016\",\"2/5/2016\",\"2/6/2016\",\"2/7/2016\",\"2/8/2016\",\"2/9/2016\",\"2/10/2016\",\"2/11/2016\",\"2/12/2016\",\"2/13/2016\",\"2/14/2016\",\"2/15/2016\",\"2/16/2016\",\"2/17/2016\",\"2/18/2016\",\"2/19/2016\",\"2/20/2016\",\"2/21/2016\",\"2/22/2016\",\"2/23/2016\",\"2/24/2016\",\"2/25/2016\",\"2/26/2016\",\"2/27/2016\",\"2/28/2016\",\"2/29/2016\",\"3/1/2016\",\"3/2/2016\",\"3/3/2016\",\"3/4/2016\",\"3/5/2016\",\"3/6/2016\",\"3/7/2016\",\"3/8/2016\",\"3/9/2016\",\"3/10/2016\",\"3/11/2016\",\"3/12/2016\",\"3/13/2016\",\"3/14/2016\",\"3/15/2016\",\"3/16/2016\",\"3/17/2016\",\"3/18/2016\",\"3/19/2016\",\"3/20/2016\",\"3/21/2016\",\"3/22/2016\",\"3/23/2016\",\"3/24/2016\",\"3/25/2016\",\"3/26/2016\",\"3/27/2016\",\"3/28/2016\",\"3/29/2016\",\"3/30/2016\",\"3/31/2016\",\"4/1/2016\",\"4/2/2016\",\"4/3/2016\",\"4/4/2016\",\"4/5/2016\",\"4/6/2016\",\"4/7/2016\",\"4/8/2016\",\"4/9/2016\",\"4/10/2016\",\"4/11/2016\",\"4/12/2016\",\"4/13/2016\",\"4/14/2016\",\"4/15/2016\",\"4/16/2016\",\"4/17/2016\",\"4/18/2016\",\"4/19/2016\",\"4/20/2016\",\"4/21/2016\",\"4/22/2016\",\"4/23/2016\",\"4/24/2016\",\"4/25/2016\",\"4/26/2016\",\"4/27/2016\",\"4/28/2016\",\"4/29/2016\",\"4/30/2016\",\"5/1/2016\",\"5/2/2016\",\"5/3/2016\",\"5/4/2016\",\"5/5/2016\",\"5/6/2016\",\"5/7/2016\",\"5/8/2016\",\"5/9/2016\",\"5/10/2016\",\"5/11/2016\",\"5/12/2016\",\"5/13/2016\",\"5/14/2016\",\"5/15/2016\",\"5/16/2016\",\"5/17/2016\",\"5/18/2016\",\"5/19/2016\",\"5/20/2016\",\"5/21/2016\",\"5/22/2016\",\"5/23/2016\",\"5/24/2016\",\"5/25/2016\",\"5/26/2016\",\"5/27/2016\",\"5/28/2016\",\"5/29/2016\",\"5/30/2016\",\"5/31/2016\",\"6/1/2016\",\"6/2/2016\",\"6/3/2016\",\"6/4/2016\",\"6/5/2016\",\"6/6/2016\",\"6/7/2016\",\"6/8/2016\",\"6/9/2016\",\"6/10/2016\",\"6/11/2016\",\"6/12/2016\",\"6/13/2016\",\"6/14/2016\",\"6/15/2016\",\"6/16/2016\",\"6/17/2016\",\"6/18/2016\",\"6/19/2016\",\"6/20/2016\",\"6/21/2016\",\"6/22/2016\",\"6/23/2016\",\"6/24/2016\",\"6/25/2016\",\"6/26/2016\",\"6/27/2016\",\"6/28/2016\",\"6/29/2016\",\"6/30/2016\",\"7/1/2016\",\"7/2/2016\",\"7/3/2016\",\"7/4/2016\",\"7/5/2016\",\"7/6/2016\",\"7/7/2016\",\"7/8/2016\",\"7/9/2016\",\"7/10/2016\",\"7/11/2016\",\"7/12/2016\",\"7/13/2016\",\"7/14/2016\",\"7/15/2016\",\"7/16/2016\",\"7/17/2016\",\"7/18/2016\",\"7/19/2016\",\"7/20/2016\",\"7/21/2016\",\"7/22/2016\",\"7/23/2016\",\"7/24/2016\",\"7/25/2016\",\"7/26/2016\",\"7/27/2016\",\"7/28/2016\",\"7/29/2016\",\"7/30/2016\",\"7/31/2016\",\"8/1/2016\",\"8/2/2016\",\"8/3/2016\",\"8/4/2016\",\"8/5/2016\",\"8/6/2016\",\"8/7/2016\",\"8/8/2016\",\"8/9/2016\",\"8/10/2016\",\"8/11/2016\",\"8/12/2016\",\"8/13/2016\",\"8/14/2016\",\"8/15/2016\",\"8/16/2016\",\"8/17/2016\",\"8/18/2016\",\"8/19/2016\",\"8/20/2016\",\"8/21/2016\",\"8/22/2016\",\"8/23/2016\",\"8/24/2016\",\"8/25/2016\",\"8/26/2016\",\"8/27/2016\",\"8/28/2016\",\"8/29/2016\",\"8/30/2016\",\"8/31/2016\",\"9/1/2016\",\"9/2/2016\",\"9/3/2016\",\"9/4/2016\",\"9/5/2016\",\"9/6/2016\",\"9/7/2016\",\"9/8/2016\",\"9/9/2016\",\"9/10/2016\",\"9/11/2016\",\"9/12/2016\",\"9/13/2016\",\"9/14/2016\",\"9/15/2016\",\"9/16/2016\",\"9/17/2016\",\"9/18/2016\",\"9/19/2016\",\"9/20/2016\",\"9/21/2016\",\"9/22/2016\",\"9/23/2016\",\"9/24/2016\",\"9/25/2016\",\"9/26/2016\",\"9/27/2016\",\"9/28/2016\",\"9/29/2016\",\"9/30/2016\",\"10/1/2016\",\"10/2/2016\",\"10/3/2016\",\"10/4/2016\",\"10/5/2016\",\"10/6/2016\",\"10/7/2016\",\"10/8/2016\",\"10/9/2016\",\"10/10/2016\",\"10/11/2016\",\"10/12/2016\",\"10/13/2016\",\"10/14/2016\",\"10/15/2016\",\"10/16/2016\",\"10/17/2016\",\"10/18/2016\",\"10/19/2016\",\"10/20/2016\",\"10/21/2016\",\"10/22/2016\",\"10/23/2016\",\"10/24/2016\",\"10/25/2016\",\"10/26/2016\",\"10/27/2016\",\"10/28/2016\",\"10/29/2016\",\"10/30/2016\",\"10/31/2016\",\"11/1/2016\",\"11/2/2016\",\"11/3/2016\",\"11/4/2016\",\"11/5/2016\",\"11/6/2016\",\"11/7/2016\",\"11/8/2016\",\"11/9/2016\",\"11/10/2016\",\"11/11/2016\",\"11/12/2016\",\"11/13/2016\",\"11/14/2016\",\"11/15/2016\",\"11/16/2016\",\"11/17/2016\",\"11/18/2016\",\"11/19/2016\",\"11/20/2016\",\"11/21/2016\",\"11/22/2016\",\"11/23/2016\",\"11/24/2016\",\"11/25/2016\",\"11/26/2016\",\"11/27/2016\",\"11/28/2016\",\"11/29/2016\",\"11/30/2016\",\"12/1/2016\",\"12/2/2016\",\"12/3/2016\",\"12/4/2016\",\"12/5/2016\",\"12/6/2016\",\"12/7/2016\",\"12/8/2016\",\"12/9/2016\",\"12/10/2016\",\"12/11/2016\",\"12/12/2016\",\"12/13/2016\",\"12/14/2016\",\"12/15/2016\",\"12/16/2016\",\"12/17/2016\",\"12/18/2016\",\"12/19/2016\",\"12/20/2016\",\"12/21/2016\",\"12/22/2016\",\"12/23/2016\",\"12/24/2016\",\"12/25/2016\",\"12/26/2016\",\"12/27/2016\",\"12/28/2016\",\"12/29/2016\",\"12/30/2016\",\"12/31/2016\",\"1/1/2017\",\"1/2/2017\",\"1/3/2017\",\"1/4/2017\",\"1/5/2017\",\"1/6/2017\",\"1/7/2017\",\"1/8/2017\",\"1/9/2017\",\"1/10/2017\",\"1/11/2017\",\"1/12/2017\",\"1/13/2017\",\"1/14/2017\",\"1/15/2017\",\"1/16/2017\",\"1/17/2017\",\"1/18/2017\",\"1/19/2017\",\"1/20/2017\",\"1/21/2017\",\"1/22/2017\",\"1/23/2017\",\"1/24/2017\",\"1/25/2017\",\"1/26/2017\",\"1/27/2017\",\"1/28/2017\",\"1/29/2017\",\"1/30/2017\",\"1/31/2017\",\"2/1/2017\",\"2/2/2017\",\"2/3/2017\",\"2/4/2017\",\"2/5/2017\",\"2/6/2017\",\"2/7/2017\",\"2/8/2017\",\"2/9/2017\",\"2/10/2017\",\"2/11/2017\",\"2/12/2017\",\"2/13/2017\",\"2/14/2017\",\"2/15/2017\",\"2/16/2017\",\"2/17/2017\",\"2/18/2017\",\"2/19/2017\",\"2/20/2017\",\"2/21/2017\",\"2/22/2017\",\"2/23/2017\",\"2/24/2017\",\"2/25/2017\",\"2/26/2017\",\"2/27/2017\",\"2/28/2017\",\"3/1/2017\",\"3/2/2017\",\"3/3/2017\",\"3/4/2017\",\"3/5/2017\",\"3/6/2017\",\"3/7/2017\",\"3/8/2017\",\"3/9/2017\",\"3/10/2017\",\"3/11/2017\",\"3/12/2017\",\"3/13/2017\",\"3/14/2017\",\"3/15/2017\",\"3/16/2017\",\"3/17/2017\",\"3/18/2017\",\"3/19/2017\",\"3/20/2017\",\"3/21/2017\",\"3/22/2017\",\"3/23/2017\",\"3/24/2017\",\"3/25/2017\",\"3/26/2017\",\"3/27/2017\",\"3/28/2017\",\"3/29/2017\",\"3/30/2017\",\"3/31/2017\",\"4/1/2017\",\"4/2/2017\",\"4/3/2017\",\"4/4/2017\",\"4/5/2017\",\"4/6/2017\",\"4/7/2017\",\"4/8/2017\",\"4/9/2017\",\"4/10/2017\",\"4/11/2017\",\"4/12/2017\",\"4/13/2017\",\"4/14/2017\",\"4/15/2017\",\"4/17/2017\",\"4/18/2017\",\"4/19/2017\",\"4/20/2017\",\"4/21/2017\",\"4/22/2017\",\"4/23/2017\",\"4/24/2017\",\"4/25/2017\",\"4/26/2017\",\"4/27/2017\",\"4/28/2017\",\"4/29/2017\",\"4/30/2017\"],\"count\":[7,15,7,16,41,34,46,41,29,16,9,41,28,34,29,32,20,13,28,27,30,41,44,21,8,40,29,44,38,33,14,6,34,36,45,31,36,12,13,29,41,40,28,20,10,9,33,35,26,33,29,14,14,34,31,39,31,40,15,11,38,42,32,31,34,13,11,30,33,43,38,22,21,4,28,29,38,35,30,13,9,36,35,34,36,32,11,13,35,34,42,20,32,10,10,22,29,19,35,27,18,11,32,32,35,33,29,20,10,42,32,40,32,31,16,11,37,33,36,25,35,11,8,34,35,24,28,35,10,8,27,39,39,30,36,12,11,37,37,40,35,32,4,8,11,35,37,34,35,13,15,29,27,41,37,40,16,11,30,41,31,36,27,14,9,27,35,39,34,28,14,10,30,40,31,37,18,15,8,34,38,26,26,19,8,9,30,46,28,48,24,18,11,44,40,40,35,26,24,12,47,43,35,35,33,9,5,47,52,55,43,30,12,8,37,45,43,43,23,15,18,25,38,40,43,30,13,9,32,35,40,26,24,9,13,41,40,42,36,16,9,7,31,49,56,44,23,7,4,14,37,43,39,25,15,7,41,34,39,37,28,19,9,35,39,44,37,29,10,9,39,32,48,33,32,13,5,27,29,43,34,20,12,8,35,30,38,33,25,16,7,34,31,37,42,24,12,7,21,37,32,28,38,18,4,33,32,32,32,30,9,10,43,31,44,44,36,12,10,30,31,31,32,25,14,15,50,33,31,2,6,7,9,19,37,35,38,26,13,9,36,48,36,35,27,13,6,40,31,30,26,28,12,11,28,28,19,12,2,13,8,25,26,26,19,10,8,5,26,31,26,44,18,9,7,38,43,36,38,34,26,11,31,33,33,34,43,20,18,39,34,34,26,32,15,8,31,38,36,34,41,19,9,35,29,26,37,25,11,5,36,45,42,29,26,23,12,34,32,28,32,23,15,9,34,41,27,29,37,13,12,38,30,25,33,20,13,9,34,30,27,22,31,18,6,30,31,23,32,18,8,3,34,24,27,31,20,17,14,30,31,44,27,27,15,8,29,30,31,37,34,12,12,26,38,38,36,30,15,9,30,33,19,28,20,16,9,29,30,34,31,32,15,6,36,30,39,37,31,17,7,22,33,33,35,19,9,8,31,45,25,28,22,4,5,4,31,31,26,25,13,12,45,38,29,34,25,17,9,38,34,46,43,35,13,5,39,41,53,52,30,18,8,47,47,36,36,26,10,8,5,40,45,34,49,14,9,39,43,44,39,37,18,12,33,44,55,45,32,11,8,43,49,46,45,36,16,9,49,45,43,55,38,13,14,51,54,35,51,36,22,11,40,32,46,29,41,12,10,40,41,41,33,47,13,7,37,38,49,32,27,13,9,12,47,50,40,39,17,11,42,45,44,36,31,16,8,47,34,29,46,32,18,6,31,35,39,32,23,16,4,24,39,40,35,25,15,14,39,35,42,31,27,13,5,36,30,42,35,35,17,5,39,32,39,44,34,18,7,37,47,35,28,24,13,7,38,33,30,40,30,12,7,37,29,33,41,31,20,8,56,32,36,6,16,6,12,33,23,41,35,32,17,7,39,29,30,36,34,14,10,32,37,30,31,25,22,13,38,32,26,37,26,3,5,15,25,22,24,16,3,6,8,28,35,33,37,21,11,49,39,38,39,35,16,11,29,37,30,40,27,10,13,32,38,35,37,25,6,10,36,34,33,36,36,14,8,23,47,40,54,38,16,11,35,34,33,34,40,13,8,30,26,42,30,28,11,6,45,25,38,41,21,9,11,35,30,37,37,36,21,6,41,23,50,43,30,16,9,35,46,34,36,31,13,4,33,36,30,41,26,17,8,32,37,35,31,31,14,11,49,35,26,37,29,13,36,33,27,43,28,12,7,35,37,31,38,34,18,10]}},\"id\":\"bc855765-a4cb-42c2-9152-f7b0c217a5a2\",\"type\":\"ColumnDataSource\"},{\"attributes\":{\"months\":[0,2,4,6,8,10]},\"id\":\"b69fcc0f-040c-4773-9d4f-b899d5abfa2e\",\"type\":\"MonthsTicker\"},{\"attributes\":{},\"id\":\"9545d4bb-d56b-4ef5-956c-a40a76666f12\",\"type\":\"WheelZoomTool\"},{\"attributes\":{\"active_drag\":\"auto\",\"active_inspect\":\"auto\",\"active_scroll\":\"auto\",\"active_tap\":\"auto\",\"tools\":[{\"id\":\"b1d4fe79-a5c0-46ec-a693-7e3ffd9f1b55\",\"type\":\"PanTool\"},{\"id\":\"9545d4bb-d56b-4ef5-956c-a40a76666f12\",\"type\":\"WheelZoomTool\"},{\"id\":\"57627a3b-6d40-4d03-b1c1-62b92cef93ae\",\"type\":\"BoxZoomTool\"},{\"id\":\"6e5c1988-35a0-4dfb-a1ec-62fce75f455e\",\"type\":\"SaveTool\"},{\"id\":\"de7bb9a1-bae8-4ee6-9df7-90a4ab91c85e\",\"type\":\"ResetTool\"},{\"id\":\"a991a272-a275-4bae-8194-f8db65e382a9\",\"type\":\"HelpTool\"}]},\"id\":\"283050bd-1984-4556-83ba-a55f9d11410e\",\"type\":\"Toolbar\"},{\"attributes\":{\"days\":[1,2,3,4,5,6,7,8,9,10,11,12,13,14,15,16,17,18,19,20,21,22,23,24,25,26,27,28,29,30,31]},\"id\":\"46b2abc7-e043-4077-b0f5-9aa5e23eb596\",\"type\":\"DaysTicker\"},{\"attributes\":{},\"id\":\"b1d4fe79-a5c0-46ec-a693-7e3ffd9f1b55\",\"type\":\"PanTool\"},{\"attributes\":{\"base\":24,\"mantissas\":[1,2,4,6,8,12],\"max_interval\":43200000.0,\"min_interval\":3600000.0,\"num_minor_ticks\":0},\"id\":\"4da2a4bf-5152-40e3-8696-b9d83b2a5e60\",\"type\":\"AdaptiveTicker\"},{\"attributes\":{\"formatter\":{\"id\":\"6d7a0602-01b9-4425-8790-9c229b07dfbb\",\"type\":\"DatetimeTickFormatter\"},\"plot\":{\"id\":\"07a3d076-fc22-458e-8bef-36e9e62f704b\",\"subtype\":\"Figure\",\"type\":\"Plot\"},\"ticker\":{\"id\":\"629d712b-20de-4173-bd59-1e4cc95a58f0\",\"type\":\"DatetimeTicker\"}},\"id\":\"69d84bbf-b8bf-431b-a5b6-604742474b1c\",\"type\":\"DatetimeAxis\"},{\"attributes\":{\"days\":[1,4,7,10,13,16,19,22,25,28]},\"id\":\"b71ab80c-b30b-4c11-9fcb-2e882102f974\",\"type\":\"DaysTicker\"},{\"attributes\":{\"months\":[0,6]},\"id\":\"7cb3bee0-22e5-48c1-9588-3e32b6087d05\",\"type\":\"MonthsTicker\"},{\"attributes\":{\"data_source\":{\"id\":\"bc855765-a4cb-42c2-9152-f7b0c217a5a2\",\"type\":\"ColumnDataSource\"},\"glyph\":{\"id\":\"45050c5b-6b0f-40e6-83fc-df37af29e819\",\"type\":\"Line\"},\"hover_glyph\":null,\"muted_glyph\":null,\"nonselection_glyph\":{\"id\":\"df6d169c-d4c1-4399-8abd-89064c8b1b0d\",\"type\":\"Line\"},\"selection_glyph\":null,\"view\":{\"id\":\"768dbe3a-5953-4a2a-90dc-252a8301df52\",\"type\":\"CDSView\"}},\"id\":\"6ecf2fdf-0189-494d-83a2-67839aa599e0\",\"type\":\"GlyphRenderer\"},{\"attributes\":{\"below\":[{\"id\":\"69d84bbf-b8bf-431b-a5b6-604742474b1c\",\"type\":\"DatetimeAxis\"}],\"left\":[{\"id\":\"4a0dba16-27de-4b30-a063-6b68740c6c87\",\"type\":\"LinearAxis\"}],\"plot_height\":350,\"plot_width\":800,\"renderers\":[{\"id\":\"69d84bbf-b8bf-431b-a5b6-604742474b1c\",\"type\":\"DatetimeAxis\"},{\"id\":\"62b7e151-dc51-4f6f-9ceb-dc45aff470f3\",\"type\":\"Grid\"},{\"id\":\"4a0dba16-27de-4b30-a063-6b68740c6c87\",\"type\":\"LinearAxis\"},{\"id\":\"ba2f7ba1-c482-47c6-b57f-7b4f2075c7fd\",\"type\":\"Grid\"},{\"id\":\"b57f8c5e-665e-4e35-8fbf-fce6f37d36b9\",\"type\":\"BoxAnnotation\"},{\"id\":\"6ecf2fdf-0189-494d-83a2-67839aa599e0\",\"type\":\"GlyphRenderer\"}],\"title\":{\"id\":\"bd1bad56-b396-4cbd-9f3c-f0b252c5d366\",\"type\":\"Title\"},\"toolbar\":{\"id\":\"283050bd-1984-4556-83ba-a55f9d11410e\",\"type\":\"Toolbar\"},\"x_range\":{\"id\":\"3c55af5d-b51b-4c31-a716-f8d48dfce0ff\",\"type\":\"DataRange1d\"},\"x_scale\":{\"id\":\"0ea4376d-3d8b-4d24-8fdf-665cdd4bc730\",\"type\":\"LinearScale\"},\"y_range\":{\"id\":\"3afdcfba-ec01-47c5-bb95-b9ef010a0fc0\",\"type\":\"DataRange1d\"},\"y_scale\":{\"id\":\"01e1212f-2b33-4fce-abf7-fbacf4e4af62\",\"type\":\"LinearScale\"}},\"id\":\"07a3d076-fc22-458e-8bef-36e9e62f704b\",\"subtype\":\"Figure\",\"type\":\"Plot\"},{\"attributes\":{},\"id\":\"6d7a0602-01b9-4425-8790-9c229b07dfbb\",\"type\":\"DatetimeTickFormatter\"},{\"attributes\":{\"source\":{\"id\":\"bc855765-a4cb-42c2-9152-f7b0c217a5a2\",\"type\":\"ColumnDataSource\"}},\"id\":\"768dbe3a-5953-4a2a-90dc-252a8301df52\",\"type\":\"CDSView\"},{\"attributes\":{},\"id\":\"8b3d5027-79d6-4683-a130-1a8e87e1e38a\",\"type\":\"BasicTickFormatter\"},{\"attributes\":{\"line_color\":\"#1f77b4\",\"x\":{\"field\":\"Date\"},\"y\":{\"field\":\"count\"}},\"id\":\"45050c5b-6b0f-40e6-83fc-df37af29e819\",\"type\":\"Line\"},{\"attributes\":{\"days\":[1,8,15,22]},\"id\":\"d4d19fe0-7a7e-4c45-b6f6-2b31c511314d\",\"type\":\"DaysTicker\"},{\"attributes\":{\"callback\":null},\"id\":\"3afdcfba-ec01-47c5-bb95-b9ef010a0fc0\",\"type\":\"DataRange1d\"},{\"attributes\":{\"plot\":{\"id\":\"07a3d076-fc22-458e-8bef-36e9e62f704b\",\"subtype\":\"Figure\",\"type\":\"Plot\"},\"ticker\":{\"id\":\"629d712b-20de-4173-bd59-1e4cc95a58f0\",\"type\":\"DatetimeTicker\"}},\"id\":\"62b7e151-dc51-4f6f-9ceb-dc45aff470f3\",\"type\":\"Grid\"},{\"attributes\":{},\"id\":\"6e5c1988-35a0-4dfb-a1ec-62fce75f455e\",\"type\":\"SaveTool\"},{\"attributes\":{\"dimension\":1,\"plot\":{\"id\":\"07a3d076-fc22-458e-8bef-36e9e62f704b\",\"subtype\":\"Figure\",\"type\":\"Plot\"},\"ticker\":{\"id\":\"59dea410-ff44-4542-81df-9063edffc08c\",\"type\":\"BasicTicker\"}},\"id\":\"ba2f7ba1-c482-47c6-b57f-7b4f2075c7fd\",\"type\":\"Grid\"},{\"attributes\":{},\"id\":\"59dea410-ff44-4542-81df-9063edffc08c\",\"type\":\"BasicTicker\"},{\"attributes\":{},\"id\":\"c3defc4d-9d85-4be1-8d28-2c73d903db22\",\"type\":\"YearsTicker\"},{\"attributes\":{},\"id\":\"0ea4376d-3d8b-4d24-8fdf-665cdd4bc730\",\"type\":\"LinearScale\"},{\"attributes\":{\"bottom_units\":\"screen\",\"fill_alpha\":{\"value\":0.5},\"fill_color\":{\"value\":\"lightgrey\"},\"left_units\":\"screen\",\"level\":\"overlay\",\"line_alpha\":{\"value\":1.0},\"line_color\":{\"value\":\"black\"},\"line_dash\":[4,4],\"line_width\":{\"value\":2},\"plot\":null,\"render_mode\":\"css\",\"right_units\":\"screen\",\"top_units\":\"screen\"},\"id\":\"b57f8c5e-665e-4e35-8fbf-fce6f37d36b9\",\"type\":\"BoxAnnotation\"},{\"attributes\":{\"months\":[0,1,2,3,4,5,6,7,8,9,10,11]},\"id\":\"d9499a3b-52b8-4baa-9e6f-7213ea4aa282\",\"type\":\"MonthsTicker\"},{\"attributes\":{},\"id\":\"01e1212f-2b33-4fce-abf7-fbacf4e4af62\",\"type\":\"LinearScale\"},{\"attributes\":{\"plot\":null,\"text\":\"\"},\"id\":\"bd1bad56-b396-4cbd-9f3c-f0b252c5d366\",\"type\":\"Title\"},{\"attributes\":{\"mantissas\":[1,2,5],\"max_interval\":500.0,\"num_minor_ticks\":0},\"id\":\"8052d6ae-07f2-45d2-b7cc-da5a5da8627c\",\"type\":\"AdaptiveTicker\"},{\"attributes\":{\"callback\":null},\"id\":\"3c55af5d-b51b-4c31-a716-f8d48dfce0ff\",\"type\":\"DataRange1d\"},{\"attributes\":{\"line_alpha\":0.1,\"line_color\":\"#1f77b4\",\"x\":{\"field\":\"Date\"},\"y\":{\"field\":\"count\"}},\"id\":\"df6d169c-d4c1-4399-8abd-89064c8b1b0d\",\"type\":\"Line\"},{\"attributes\":{\"formatter\":{\"id\":\"8b3d5027-79d6-4683-a130-1a8e87e1e38a\",\"type\":\"BasicTickFormatter\"},\"plot\":{\"id\":\"07a3d076-fc22-458e-8bef-36e9e62f704b\",\"subtype\":\"Figure\",\"type\":\"Plot\"},\"ticker\":{\"id\":\"59dea410-ff44-4542-81df-9063edffc08c\",\"type\":\"BasicTicker\"}},\"id\":\"4a0dba16-27de-4b30-a063-6b68740c6c87\",\"type\":\"LinearAxis\"},{\"attributes\":{},\"id\":\"a991a272-a275-4bae-8194-f8db65e382a9\",\"type\":\"HelpTool\"},{\"attributes\":{\"base\":60,\"mantissas\":[1,2,5,10,15,20,30],\"max_interval\":1800000.0,\"min_interval\":1000.0,\"num_minor_ticks\":0},\"id\":\"a544e73d-4f4d-4cf8-baf4-551d49183266\",\"type\":\"AdaptiveTicker\"},{\"attributes\":{\"months\":[0,4,8]},\"id\":\"128497f4-045b-42fe-a408-c6648f046403\",\"type\":\"MonthsTicker\"},{\"attributes\":{},\"id\":\"de7bb9a1-bae8-4ee6-9df7-90a4ab91c85e\",\"type\":\"ResetTool\"},{\"attributes\":{\"overlay\":{\"id\":\"b57f8c5e-665e-4e35-8fbf-fce6f37d36b9\",\"type\":\"BoxAnnotation\"}},\"id\":\"57627a3b-6d40-4d03-b1c1-62b92cef93ae\",\"type\":\"BoxZoomTool\"}],\"root_ids\":[\"07a3d076-fc22-458e-8bef-36e9e62f704b\"]},\"title\":\"Bokeh Application\",\"version\":\"0.12.14\"}};\n",
       "  var render_items = [{\"docid\":\"2cdd91e8-3b99-47c2-9ef5-c758a8ee9512\",\"elementid\":\"973f3a71-83d9-4bf3-98f2-cf4ee13c18e5\",\"modelid\":\"07a3d076-fc22-458e-8bef-36e9e62f704b\"}];\n",
       "  root.Bokeh.embed.embed_items_notebook(docs_json, render_items);\n",
       "\n",
       "  }\n",
       "  if (root.Bokeh !== undefined) {\n",
       "    embed_document(root);\n",
       "  } else {\n",
       "    var attempts = 0;\n",
       "    var timer = setInterval(function(root) {\n",
       "      if (root.Bokeh !== undefined) {\n",
       "        embed_document(root);\n",
       "        clearInterval(timer);\n",
       "      }\n",
       "      attempts++;\n",
       "      if (attempts > 100) {\n",
       "        console.log(\"Bokeh: ERROR: Unable to run BokehJS code because BokehJS library is missing\")\n",
       "        clearInterval(timer);\n",
       "      }\n",
       "    }, 10, root)\n",
       "  }\n",
       "})(window);"
      ],
      "application/vnd.bokehjs_exec.v0+json": ""
     },
     "metadata": {
      "application/vnd.bokehjs_exec.v0+json": {
       "id": "07a3d076-fc22-458e-8bef-36e9e62f704b"
      }
     },
     "output_type": "display_data"
    }
   ],
   "source": [
    "# overall view of trend. from 2015 to 2017\n",
    "timeSeriesDF = pd.DataFrame({'count': data.groupby([\"EventDate\"]).size()}).reset_index()\n",
    "\n",
    "timeSeriesDF.index = pd.to_datetime(timeSeriesDF['EventDate'])\n",
    "timeSeriesDF.index.name = 'Date'\n",
    "timeSeriesDF.sort_index(inplace=True)\n",
    "\n",
    "source = ColumnDataSource(timeSeriesDF)\n",
    "\n",
    "p = figure(x_axis_type=\"datetime\", plot_width=800, plot_height=350)\n",
    "p.line('Date', 'count', source=source)\n",
    "\n",
    "show(p)"
   ]
  },
  {
   "cell_type": "markdown",
   "metadata": {},
   "source": [
    "### Bar Plot"
   ]
  },
  {
   "cell_type": "markdown",
   "metadata": {},
   "source": [
    "Check top 10 employers caused injury."
   ]
  },
  {
   "cell_type": "code",
   "execution_count": 16,
   "metadata": {},
   "outputs": [
    {
     "data": {
      "text/html": [
       "\n",
       "<div class=\"bk-root\">\n",
       "    <div class=\"bk-plotdiv\" id=\"026a467c-5134-4063-8ed4-9f772355195e\"></div>\n",
       "</div>"
      ]
     },
     "metadata": {},
     "output_type": "display_data"
    },
    {
     "data": {
      "application/javascript": [
       "(function(root) {\n",
       "  function embed_document(root) {\n",
       "    \n",
       "  var docs_json = {\"28039201-884c-4af4-a1ac-2967ae9af76b\":{\"roots\":{\"references\":[{\"attributes\":{},\"id\":\"3a73fb6d-6b3d-4c95-895b-055fadb15e74\",\"type\":\"PanTool\"},{\"attributes\":{\"callback\":null,\"column_names\":[\"x\",\"top\"],\"data\":{\"top\":[305,55,43,41,31,27,22,20,20,19],\"x\":[\"u.s. postal service\",\"ups\",\"usps\",\"united parcel service\",\"walmart\",\"tyson foods, inc.\",\"american airlines\",\"publix super markets, inc.\",\"united parcel service, inc.\",\"waste management\"]}},\"id\":\"66cda3a5-372d-4f2a-9872-17ef7c5b2b17\",\"type\":\"ColumnDataSource\"},{\"attributes\":{\"bottom_units\":\"screen\",\"fill_alpha\":{\"value\":0.5},\"fill_color\":{\"value\":\"lightgrey\"},\"left_units\":\"screen\",\"level\":\"overlay\",\"line_alpha\":{\"value\":1.0},\"line_color\":{\"value\":\"black\"},\"line_dash\":[4,4],\"line_width\":{\"value\":2},\"plot\":null,\"render_mode\":\"css\",\"right_units\":\"screen\",\"top_units\":\"screen\"},\"id\":\"c73334c0-b5d3-4a4a-a021-e56fed110c99\",\"type\":\"BoxAnnotation\"},{\"attributes\":{\"data_source\":{\"id\":\"66cda3a5-372d-4f2a-9872-17ef7c5b2b17\",\"type\":\"ColumnDataSource\"},\"glyph\":{\"id\":\"73721d52-a738-4ba7-b7fb-7d6505add14f\",\"type\":\"VBar\"},\"hover_glyph\":null,\"muted_glyph\":null,\"nonselection_glyph\":{\"id\":\"95ef8b11-d6bc-4189-99fa-8c9d42cac3f8\",\"type\":\"VBar\"},\"selection_glyph\":null,\"view\":{\"id\":\"d260cf67-9f83-4c0c-9f8f-1bae2d6a547d\",\"type\":\"CDSView\"}},\"id\":\"2522c6c6-0827-4bfe-b3e7-df69308cd3d7\",\"type\":\"GlyphRenderer\"},{\"attributes\":{},\"id\":\"483c50cb-3016-4c72-bd2e-6b175746dd42\",\"type\":\"LinearScale\"},{\"attributes\":{\"overlay\":{\"id\":\"c73334c0-b5d3-4a4a-a021-e56fed110c99\",\"type\":\"BoxAnnotation\"}},\"id\":\"51f17fdd-3faa-4d66-ac73-c24ce81c7d0f\",\"type\":\"BoxZoomTool\"},{\"attributes\":{\"callback\":null,\"start\":0},\"id\":\"49f155ca-af64-4a69-9086-d3ee6d28803d\",\"type\":\"DataRange1d\"},{\"attributes\":{\"plot\":null,\"text\":\"Top 10 Employers Causing Injury\"},\"id\":\"8e601dd8-b86d-4248-acaf-12802893bfad\",\"type\":\"Title\"},{\"attributes\":{},\"id\":\"37e98d6d-5830-408b-bbbb-a30f8f712855\",\"type\":\"CategoricalScale\"},{\"attributes\":{\"formatter\":{\"id\":\"6706fb61-5b99-4438-9556-fa961b3a46ec\",\"type\":\"CategoricalTickFormatter\"},\"plot\":{\"id\":\"7430b3b2-222d-4b89-a7ea-61a12d9f867a\",\"subtype\":\"Figure\",\"type\":\"Plot\"},\"ticker\":{\"id\":\"c809937d-5027-4874-9297-1bb8796a1e6a\",\"type\":\"CategoricalTicker\"}},\"id\":\"1db135ea-ddfc-4866-9730-f40c7efce386\",\"type\":\"CategoricalAxis\"},{\"attributes\":{},\"id\":\"339708ad-1b9e-44fc-b22e-1f094bba8055\",\"type\":\"BasicTickFormatter\"},{\"attributes\":{},\"id\":\"bfa04070-4b8c-4240-92ca-cd0671873243\",\"type\":\"HelpTool\"},{\"attributes\":{\"formatter\":{\"id\":\"339708ad-1b9e-44fc-b22e-1f094bba8055\",\"type\":\"BasicTickFormatter\"},\"plot\":{\"id\":\"7430b3b2-222d-4b89-a7ea-61a12d9f867a\",\"subtype\":\"Figure\",\"type\":\"Plot\"},\"ticker\":{\"id\":\"254c1054-058f-4a87-ae08-df070665f262\",\"type\":\"BasicTicker\"}},\"id\":\"81880981-b486-4c09-a9fd-2e802e837853\",\"type\":\"LinearAxis\"},{\"attributes\":{\"callback\":null,\"factors\":[\"u.s. postal service\",\"ups\",\"usps\",\"united parcel service\",\"walmart\",\"tyson foods, inc.\",\"american airlines\",\"publix super markets, inc.\",\"united parcel service, inc.\",\"waste management\"]},\"id\":\"1d3c14f4-330b-41f5-8073-1797bffe657e\",\"type\":\"FactorRange\"},{\"attributes\":{\"dimension\":1,\"plot\":{\"id\":\"7430b3b2-222d-4b89-a7ea-61a12d9f867a\",\"subtype\":\"Figure\",\"type\":\"Plot\"},\"ticker\":{\"id\":\"254c1054-058f-4a87-ae08-df070665f262\",\"type\":\"BasicTicker\"}},\"id\":\"5df4f0e6-1b5a-4003-be04-3f28168ec198\",\"type\":\"Grid\"},{\"attributes\":{},\"id\":\"0477e971-aba2-4a5d-899c-b86df589ffec\",\"type\":\"SaveTool\"},{\"attributes\":{},\"id\":\"254c1054-058f-4a87-ae08-df070665f262\",\"type\":\"BasicTicker\"},{\"attributes\":{},\"id\":\"c809937d-5027-4874-9297-1bb8796a1e6a\",\"type\":\"CategoricalTicker\"},{\"attributes\":{\"fill_color\":{\"value\":\"#1f77b4\"},\"line_color\":{\"value\":\"#1f77b4\"},\"top\":{\"field\":\"top\"},\"width\":{\"value\":0.9},\"x\":{\"field\":\"x\"}},\"id\":\"73721d52-a738-4ba7-b7fb-7d6505add14f\",\"type\":\"VBar\"},{\"attributes\":{},\"id\":\"6706fb61-5b99-4438-9556-fa961b3a46ec\",\"type\":\"CategoricalTickFormatter\"},{\"attributes\":{\"fill_alpha\":{\"value\":0.1},\"fill_color\":{\"value\":\"#1f77b4\"},\"line_alpha\":{\"value\":0.1},\"line_color\":{\"value\":\"#1f77b4\"},\"top\":{\"field\":\"top\"},\"width\":{\"value\":0.9},\"x\":{\"field\":\"x\"}},\"id\":\"95ef8b11-d6bc-4189-99fa-8c9d42cac3f8\",\"type\":\"VBar\"},{\"attributes\":{\"active_drag\":\"auto\",\"active_inspect\":\"auto\",\"active_scroll\":\"auto\",\"active_tap\":\"auto\",\"tools\":[{\"id\":\"3a73fb6d-6b3d-4c95-895b-055fadb15e74\",\"type\":\"PanTool\"},{\"id\":\"7e7ad159-dd3f-4434-85ea-19166202bd76\",\"type\":\"WheelZoomTool\"},{\"id\":\"51f17fdd-3faa-4d66-ac73-c24ce81c7d0f\",\"type\":\"BoxZoomTool\"},{\"id\":\"0477e971-aba2-4a5d-899c-b86df589ffec\",\"type\":\"SaveTool\"},{\"id\":\"166bf09f-b071-4500-9fb9-05bda8f5e460\",\"type\":\"ResetTool\"},{\"id\":\"bfa04070-4b8c-4240-92ca-cd0671873243\",\"type\":\"HelpTool\"}]},\"id\":\"d2280992-ad3c-4db9-b245-6d9c88ce0270\",\"type\":\"Toolbar\"},{\"attributes\":{},\"id\":\"166bf09f-b071-4500-9fb9-05bda8f5e460\",\"type\":\"ResetTool\"},{\"attributes\":{\"below\":[{\"id\":\"1db135ea-ddfc-4866-9730-f40c7efce386\",\"type\":\"CategoricalAxis\"}],\"left\":[{\"id\":\"81880981-b486-4c09-a9fd-2e802e837853\",\"type\":\"LinearAxis\"}],\"plot_height\":250,\"plot_width\":1300,\"renderers\":[{\"id\":\"1db135ea-ddfc-4866-9730-f40c7efce386\",\"type\":\"CategoricalAxis\"},{\"id\":\"99f7255d-5681-432e-8a15-103c84512a94\",\"type\":\"Grid\"},{\"id\":\"81880981-b486-4c09-a9fd-2e802e837853\",\"type\":\"LinearAxis\"},{\"id\":\"5df4f0e6-1b5a-4003-be04-3f28168ec198\",\"type\":\"Grid\"},{\"id\":\"c73334c0-b5d3-4a4a-a021-e56fed110c99\",\"type\":\"BoxAnnotation\"},{\"id\":\"2522c6c6-0827-4bfe-b3e7-df69308cd3d7\",\"type\":\"GlyphRenderer\"}],\"title\":{\"id\":\"8e601dd8-b86d-4248-acaf-12802893bfad\",\"type\":\"Title\"},\"toolbar\":{\"id\":\"d2280992-ad3c-4db9-b245-6d9c88ce0270\",\"type\":\"Toolbar\"},\"x_range\":{\"id\":\"1d3c14f4-330b-41f5-8073-1797bffe657e\",\"type\":\"FactorRange\"},\"x_scale\":{\"id\":\"37e98d6d-5830-408b-bbbb-a30f8f712855\",\"type\":\"CategoricalScale\"},\"y_range\":{\"id\":\"49f155ca-af64-4a69-9086-d3ee6d28803d\",\"type\":\"DataRange1d\"},\"y_scale\":{\"id\":\"483c50cb-3016-4c72-bd2e-6b175746dd42\",\"type\":\"LinearScale\"}},\"id\":\"7430b3b2-222d-4b89-a7ea-61a12d9f867a\",\"subtype\":\"Figure\",\"type\":\"Plot\"},{\"attributes\":{\"grid_line_color\":{\"value\":null},\"plot\":{\"id\":\"7430b3b2-222d-4b89-a7ea-61a12d9f867a\",\"subtype\":\"Figure\",\"type\":\"Plot\"},\"ticker\":{\"id\":\"c809937d-5027-4874-9297-1bb8796a1e6a\",\"type\":\"CategoricalTicker\"}},\"id\":\"99f7255d-5681-432e-8a15-103c84512a94\",\"type\":\"Grid\"},{\"attributes\":{},\"id\":\"7e7ad159-dd3f-4434-85ea-19166202bd76\",\"type\":\"WheelZoomTool\"},{\"attributes\":{\"source\":{\"id\":\"66cda3a5-372d-4f2a-9872-17ef7c5b2b17\",\"type\":\"ColumnDataSource\"}},\"id\":\"d260cf67-9f83-4c0c-9f8f-1bae2d6a547d\",\"type\":\"CDSView\"}],\"root_ids\":[\"7430b3b2-222d-4b89-a7ea-61a12d9f867a\"]},\"title\":\"Bokeh Application\",\"version\":\"0.12.14\"}};\n",
       "  var render_items = [{\"docid\":\"28039201-884c-4af4-a1ac-2967ae9af76b\",\"elementid\":\"026a467c-5134-4063-8ed4-9f772355195e\",\"modelid\":\"7430b3b2-222d-4b89-a7ea-61a12d9f867a\"}];\n",
       "  root.Bokeh.embed.embed_items_notebook(docs_json, render_items);\n",
       "\n",
       "  }\n",
       "  if (root.Bokeh !== undefined) {\n",
       "    embed_document(root);\n",
       "  } else {\n",
       "    var attempts = 0;\n",
       "    var timer = setInterval(function(root) {\n",
       "      if (root.Bokeh !== undefined) {\n",
       "        embed_document(root);\n",
       "        clearInterval(timer);\n",
       "      }\n",
       "      attempts++;\n",
       "      if (attempts > 100) {\n",
       "        console.log(\"Bokeh: ERROR: Unable to run BokehJS code because BokehJS library is missing\")\n",
       "        clearInterval(timer);\n",
       "      }\n",
       "    }, 10, root)\n",
       "  }\n",
       "})(window);"
      ],
      "application/vnd.bokehjs_exec.v0+json": ""
     },
     "metadata": {
      "application/vnd.bokehjs_exec.v0+json": {
       "id": "7430b3b2-222d-4b89-a7ea-61a12d9f867a"
      }
     },
     "output_type": "display_data"
    }
   ],
   "source": [
    "employersDF = pd.DataFrame({'count': data.groupby([\"EmployerNew\"]).size()}).reset_index()\n",
    "employersDF.sort_values(by=['count'], ascending = False, inplace = True)\n",
    "employersDF = employersDF[:10]\n",
    "\n",
    "# x and y axes\n",
    "employers = employersDF['EmployerNew'].tolist()\n",
    "count = employersDF['count'].tolist()\n",
    "\n",
    "p = figure(x_range=employers, plot_width=1300, plot_height=250, title=\"Top 10 Employers Causing Injury\")\n",
    "p.vbar(x=employers, top=count, width=0.9)\n",
    "\n",
    "p.xgrid.grid_line_color = None\n",
    "p.y_range.start = 0\n",
    "\n",
    "show(p)"
   ]
  },
  {
   "cell_type": "markdown",
   "metadata": {},
   "source": [
    "### Heatmap"
   ]
  },
  {
   "cell_type": "markdown",
   "metadata": {},
   "source": [
    "Use heatmap to check relation between employer and part of body injured."
   ]
  },
  {
   "cell_type": "markdown",
   "metadata": {},
   "source": [
    "### Choropleth "
   ]
  },
  {
   "cell_type": "markdown",
   "metadata": {},
   "source": [
    "See the distribution of injury across the U.S."
   ]
  },
  {
   "cell_type": "code",
   "execution_count": 247,
   "metadata": {
    "collapsed": true
   },
   "outputs": [],
   "source": [
    "# Feature Engineering\n",
    "us_state_abbrev = {\n",
    "    'Alabama': 'AL',\n",
    "    'Alaska': 'AK',\n",
    "    'Arizona': 'AZ',\n",
    "    'Arkansas': 'AR',\n",
    "    'California': 'CA',\n",
    "    'Colorado': 'CO',\n",
    "    'Connecticut': 'CT',\n",
    "    'Delaware': 'DE',\n",
    "    'Florida': 'FL',\n",
    "    'Georgia': 'GA',\n",
    "    'Hawaii': 'HI',\n",
    "    'Idaho': 'ID',\n",
    "    'Illinois': 'IL',\n",
    "    'Indiana': 'IN',\n",
    "    'Iowa': 'IA',\n",
    "    'Kansas': 'KS',\n",
    "    'Kentucky': 'KY',\n",
    "    'Louisiana': 'LA',\n",
    "    'Maine': 'ME',\n",
    "    'Maryland': 'MD',\n",
    "    'Massachusetts': 'MA',\n",
    "    'Michigan': 'MI',\n",
    "    'Minnesota': 'MN',\n",
    "    'Mississippi': 'MS',\n",
    "    'Missouri': 'MO',\n",
    "    'Montana': 'MT',\n",
    "    'Nebraska': 'NE',\n",
    "    'Nevada': 'NV',\n",
    "    'New Hampshire': 'NH',\n",
    "    'New Jersey': 'NJ',\n",
    "    'New Mexico': 'NM',\n",
    "    'New York': 'NY',\n",
    "    'North Carolina': 'NC',\n",
    "    'North Dakota': 'ND',\n",
    "    'Ohio': 'OH',\n",
    "    'Oklahoma': 'OK',\n",
    "    'Oregon': 'OR',\n",
    "    'Pennsylvania': 'PA',\n",
    "    'Rhode Island': 'RI',\n",
    "    'South Carolina': 'SC',\n",
    "    'South Dakota': 'SD',\n",
    "    'Tennessee': 'TN',\n",
    "    'Texas': 'TX',\n",
    "    'Utah': 'UT',\n",
    "    'Vermont': 'VT',\n",
    "    'Virginia': 'VA',\n",
    "    'Washington': 'WA',\n",
    "    'West Virginia': 'WV',\n",
    "    'Wisconsin': 'WI',\n",
    "    'Wyoming': 'WY',\n",
    "}\n",
    "\n",
    "data['StateAbbrev'] = data['State'].map(us_state_abbrev)\n"
   ]
  },
  {
   "cell_type": "code",
   "execution_count": null,
   "metadata": {
    "collapsed": true
   },
   "outputs": [],
   "source": []
  },
  {
   "cell_type": "code",
   "execution_count": null,
   "metadata": {
    "collapsed": true,
    "scrolled": true
   },
   "outputs": [],
   "source": [
    "# unique value of each columns\n",
    "data.apply(pd.Series.nunique).sort_values()"
   ]
  },
  {
   "cell_type": "code",
   "execution_count": null,
   "metadata": {
    "collapsed": true
   },
   "outputs": [],
   "source": []
  }
 ],
 "metadata": {
  "kernelspec": {
   "display_name": "Python 3",
   "language": "python",
   "name": "python3"
  },
  "language_info": {
   "codemirror_mode": {
    "name": "ipython",
    "version": 3
   },
   "file_extension": ".py",
   "mimetype": "text/x-python",
   "name": "python",
   "nbconvert_exporter": "python",
   "pygments_lexer": "ipython3",
   "version": "3.6.3"
  }
 },
 "nbformat": 4,
 "nbformat_minor": 2
}
