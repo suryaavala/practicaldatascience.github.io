{
 "cells": [
  {
   "cell_type": "markdown",
   "metadata": {},
   "source": [
    "Below code is used to align the entire routes table to the left"
   ]
  },
  {
   "cell_type": "code",
   "execution_count": 2,
   "metadata": {},
   "outputs": [
    {
     "data": {
      "text/html": [
       "<style>\n",
       "table {float:left}\n",
       "</style>"
      ],
      "text/plain": [
       "<IPython.core.display.HTML object>"
      ]
     },
     "metadata": {},
     "output_type": "display_data"
    }
   ],
   "source": [
    "%%html\n",
    "<style>\n",
    "table {float:left}\n",
    "</style>"
   ]
  },
  {
   "cell_type": "markdown",
   "metadata": {},
   "source": [
    "## Introduction\n",
    "In this tutorial, we will analyze flight route data using PageRank algorithm to rank the popularity of airports. The flight route data is the Flight Route Database dataset on Kaggle. This dataset contains 67663 flights among 3425 airports.\n",
    "\n",
    "The dataset is included in the tutorial as the `routes.csv` file. Below are the columns of the dataset with brief descriptions.\n",
    "\n",
    "| **routes** | | \n",
    "|:---|:---|\n",
    "| airline | airline code |\n",
    "| airline_id | airline id |\n",
    "| source_airport | airport code of source airport |\n",
    "| source_airport_id | airport id of source airport |\n",
    "| destination_airport | airport code of destination airport |\n",
    "| destination_airport_id | airport id of destination airport | \n",
    "| codeshare | is this flight codeshared with other airlines | \n",
    "| stops | number of stops made by the flight | \n",
    "| equipment | plane type information |"
   ]
  },
  {
   "cell_type": "markdown",
   "metadata": {},
   "source": [
    "## Table of contents\n",
    "- [Data pre-processing and cleaning](#Data-pre-processing-and-cleaning)\n",
    "- [Generate auxiliary data for PageRank algorithm](#Generate-auxiliary-data-for-PageRank-algorithm)\n",
    "- [Create adjacency matrix from source and destination airport codes](#Create-adjacency-matrix-from-source-and-destination-airport-codes)\n",
    "- [Rank popularity of airports using PageRank algorithm](#Rank-popularity-of-airports-using-PageRank-algorithm)\n",
    "- [Use IATACodes API to translate airport code to name](#Use-IATACodes-API-to-translate-airport-code-to-name)\n",
    "- [References](#References)"
   ]
  },
  {
   "cell_type": "markdown",
   "metadata": {},
   "source": [
    "## Data pre-processing and cleaning\n",
    "The dataset `routes.csv` is first read into a pandas dataframe, then pre-processed and cleaned via the below steps\n",
    "\n",
    "1. Replace column headers in the csv file with column headers defined in the code\n",
    "2. Replace missing ids (denoted as `\\N` in csv file) with 0\n",
    "3. Encode codeshare column to bool values\n",
    "\n",
    "Note that later only the airport codes will be used in the PageRank algorithm, hence replacing the missing airline id and airport id with 0 will not affect the result. <br/> It is meant to unify the data type of the columns to integer types."
   ]
  },
  {
   "cell_type": "code",
   "execution_count": 3,
   "metadata": {
    "collapsed": true
   },
   "outputs": [],
   "source": [
    "import pandas as pd\n",
    "import numpy as np"
   ]
  },
  {
   "cell_type": "code",
   "execution_count": 6,
   "metadata": {},
   "outputs": [
    {
     "name": "stdout",
     "output_type": "stream",
     "text": [
      "DataFrame schema\n",
      "\n",
      "airline                   object\n",
      "airline_id                 int32\n",
      "source_airport            object\n",
      "source_airport_id          int32\n",
      "destination_airport       object\n",
      "destination_airport_id     int32\n",
      "codeshare                   bool\n",
      "stops                      int32\n",
      "equipment                 object\n",
      "dtype: object\n",
      "\n",
      "First 5 rows of DataFrame\n",
      "\n",
      "  airline  airline_id source_airport  source_airport_id destination_airport  \\\n",
      "0      2B         410            AER               2965                 KZN   \n",
      "1      2B         410            ASF               2966                 KZN   \n",
      "2      2B         410            ASF               2966                 MRV   \n",
      "3      2B         410            CEK               2968                 KZN   \n",
      "4      2B         410            CEK               2968                 OVB   \n",
      "\n",
      "   destination_airport_id  codeshare  stops equipment  \n",
      "0                    2990      False      0       CR2  \n",
      "1                    2990      False      0       CR2  \n",
      "2                    2962      False      0       CR2  \n",
      "3                    2990      False      0       CR2  \n",
      "4                    4078      False      0       CR2  \n",
      "\n",
      "Total 67663 entries\n"
     ]
    }
   ],
   "source": [
    "col_names = ['airline', 'airline_id', 'source_airport', 'source_airport_id', 'destination_airport', \n",
    "             'destination_airport_id', 'codeshare', 'stops', 'equipment']\n",
    "\n",
    "routes = pd.read_csv('routes.csv', header=None, names=col_names, skiprows=1)\n",
    "routes['airline_id'] = routes['airline_id'].apply(lambda x: x.replace('\\\\N', '0')).astype('int32')\n",
    "routes['source_airport_id'] = routes['source_airport_id'].apply(lambda x: x.replace('\\\\N', '0')).astype('int32')\n",
    "routes['destination_airport_id'] = routes['destination_airport_id'].apply(lambda x: x.replace('\\\\N', '0')).astype('int32')\n",
    "routes['codeshare'] = routes['codeshare'].apply(lambda x: True if x == 'Y' else False)\n",
    "routes['stops'] = routes['stops'].astype('int32')\n",
    "\n",
    "print('DataFrame schema\\n')\n",
    "print(routes.dtypes)\n",
    "print('\\nFirst 5 rows of DataFrame\\n')\n",
    "print(routes.head())\n",
    "print('\\nTotal %d entries' % routes.shape[0])"
   ]
  },
  {
   "cell_type": "markdown",
   "metadata": {},
   "source": [
    "## Generate auxiliary data for PageRank algorithm\n",
    "Since we will use airport codes to generate the adjacency matrix, we need to find all the distinct airport codes and store them in a set."
   ]
  },
  {
   "cell_type": "code",
   "execution_count": 7,
   "metadata": {},
   "outputs": [
    {
     "name": "stdout",
     "output_type": "stream",
     "text": [
      "Total number of distinct airport codes: 3425\n"
     ]
    }
   ],
   "source": [
    "sourceAirportCodes = list(routes['source_airport'])\n",
    "destinationAirportCodes = list(routes['destination_airport'])\n",
    "allAirportCodes = sourceAirportCodes + destinationAirportCodes\n",
    "\n",
    "airportCodeSet = set()\n",
    "for code in allAirportCodes:\n",
    "    airportCodeSet.add(code)\n",
    "print('Total number of distinct airport codes: %d' % (len(airportCodeSet)))"
   ]
  },
  {
   "cell_type": "markdown",
   "metadata": {},
   "source": [
    "Based on the airport codes, we will create 2 lookup dictionaries that\n",
    "* map airport code to matrix index\n",
    "* map matrix index to airport code\n",
    "\n",
    "The 1st dictionary is used to when creating the adjacency matrix\n",
    "\n",
    "The 2nd dictionary is used to translate PageRank result (in matrix index) back to airport code "
   ]
  },
  {
   "cell_type": "code",
   "execution_count": 8,
   "metadata": {
    "collapsed": true
   },
   "outputs": [],
   "source": [
    "airportCodeToMatrixIndexLookupDict = {}\n",
    "matrixIndexToAirportCodeLookupDict = {}\n",
    "\n",
    "for index, code in enumerate(airportCodeSet):\n",
    "    airportCodeToMatrixIndexLookupDict[code] = index\n",
    "    matrixIndexToAirportCodeLookupDict[index] = code"
   ]
  },
  {
   "cell_type": "markdown",
   "metadata": {},
   "source": [
    "In addition, we need to aggregate the number of flights from source to destination airports. \n",
    "- The key is a tuple of source airport code and destination airport code, \n",
    "- The value is the number of flights for that airport combination, which is used as the weight in the adjancency matrix."
   ]
  },
  {
   "cell_type": "code",
   "execution_count": 9,
   "metadata": {},
   "outputs": [
    {
     "name": "stdout",
     "output_type": "stream",
     "text": [
      "Total number of entries in flightCounts: 37595\n"
     ]
    }
   ],
   "source": [
    "flightCounts = {}\n",
    "for index, entry in routes.loc[:, ['source_airport', 'destination_airport']].iterrows():\n",
    "    sourceAirport = entry[0]\n",
    "    destinationAirport = entry[1]\n",
    "    if (sourceAirport, destinationAirport) not in flightCounts:\n",
    "        flightCounts[(sourceAirport, destinationAirport)] = 1\n",
    "    else:\n",
    "        flightCounts[(sourceAirport, destinationAirport)] = flightCounts[(sourceAirport, destinationAirport)] + 1\n",
    "print('Total number of entries in flightCounts: %d' % (len(list(flightCounts.items()))))"
   ]
  },
  {
   "cell_type": "markdown",
   "metadata": {},
   "source": [
    "## Create adjacency matrix from source and destination airport codes"
   ]
  },
  {
   "cell_type": "markdown",
   "metadata": {},
   "source": [
    "There are only 67663 entries to be stored in a 3425 * 3425 matrix, which means only about 0.6% of the entries have a meaningful value (1). The rest of the entries store value 0.\n",
    "\n",
    "This mandates a sparse matrix data structure to be used, where only non-zero values are stored. This significantly saves time and space required to manipulate the matrix.\n",
    "\n",
    "In the sparse matrix, the value in the i-th row and j-th column denotes the number of flights from the airport j to airport i. "
   ]
  },
  {
   "cell_type": "code",
   "execution_count": 10,
   "metadata": {},
   "outputs": [
    {
     "name": "stdout",
     "output_type": "stream",
     "text": [
      "Created adjacency matrix of dimension 3425 * 3425\n"
     ]
    }
   ],
   "source": [
    "import scipy.sparse as sp\n",
    "\n",
    "dimension = len(airportCodeSet)\n",
    "data = []\n",
    "row = []\n",
    "col = []    \n",
    "\n",
    "for index, entry in routes.loc[:, ['source_airport', 'destination_airport']].iterrows():\n",
    "    sourceAirport = entry[0]\n",
    "    destinationAirport = entry[1]\n",
    "    data.append(flightCounts[(sourceAirport, destinationAirport)])\n",
    "    row.append(airportCodeToMatrixIndexLookupDict[destinationAirport])\n",
    "    col.append(airportCodeToMatrixIndexLookupDict[sourceAirport])\n",
    "\n",
    "matrix = sp.coo_matrix((data, (row, col)), shape = (dimension, dimension))\n",
    "print('Created adjacency matrix of dimension %d * %d' % (dimension, dimension))"
   ]
  },
  {
   "cell_type": "markdown",
   "metadata": {},
   "source": [
    "## Rank popularity of airports using PageRank algorithm\n",
    "We will not go into the details of realizing the PageRank algorithm which has been thoroughly covered in the lecture and homework.\n",
    "\n",
    "The basic idea is that the more flights there is to an airport A, the higher the PageRank score of airport A will be.\n",
    "\n",
    "Another point to take note is that not all the flights carry the same weight. Let's say John F Kennedy International (JFK) airport has a very high score (unsurprisingly), flights from JFK to an airport A carry higher weight, i.e. contribute more to increase in PageRank score of airport A, than flights from a lesser-known airport."
   ]
  },
  {
   "cell_type": "code",
   "execution_count": 11,
   "metadata": {
    "collapsed": true
   },
   "outputs": [],
   "source": [
    "def PageRank(matrix):\n",
    "    \n",
    "    d = 0.85    # damping factor\n",
    "    iters = 100 # number of iteratons\n",
    "\n",
    "    x = np.ones(dimension)/dimension\n",
    "\n",
    "    # Normalized adjacency matrix matrix and multiply by d\n",
    "    matrix_col_sum = np.asarray(matrix.sum(0))[0]\n",
    "    matrix.data = (matrix.data/matrix_col_sum[matrix.col])\n",
    "    matrix = matrix * d\n",
    "\n",
    "    # B represents all-zero columns changed to all-ones\n",
    "    B = np.array([int(not bool(item)) for item in matrix_col_sum])*d/dimension\n",
    "\n",
    "    for _ in range(iters):\n",
    "        x_A = matrix @ x\n",
    "        x_B = np.ones(dimension) * sum(B*x)\n",
    "        x_C = (1 - d)/dimension * np.ones(dimension) * sum(x)\n",
    "        x = x_A + x_B + x_C\n",
    "    \n",
    "    return x\n",
    "\n",
    "result = PageRank(matrix)\n",
    "ranksUnsorted = {}\n",
    "for index, score in enumerate(result):\n",
    "    code = matrixIndexToAirportCodeLookupDict[index]\n",
    "    ranksUnsorted[code] = score"
   ]
  },
  {
   "cell_type": "markdown",
   "metadata": {},
   "source": [
    "Use sorted function to sort all airports based on their PageRank score. <br/> Notice the trick in the lambda expression where the negative of the score is used as the sort key so that the airports are sorted in descending order based on their score."
   ]
  },
  {
   "cell_type": "code",
   "execution_count": 14,
   "metadata": {},
   "outputs": [
    {
     "name": "stdout",
     "output_type": "stream",
     "text": [
      "Top 20 airports\n",
      "\n",
      "No. 1 ATL: Score 0.018729\n",
      "No. 2 LAX: Score 0.009450\n",
      "No. 3 LHR: Score 0.008350\n",
      "No. 4 ORD: Score 0.008296\n",
      "No. 5 SIN: Score 0.008077\n",
      "No. 6 JFK: Score 0.007410\n",
      "No. 7 CDG: Score 0.006026\n",
      "No. 8 DFW: Score 0.006007\n",
      "No. 9 BKK: Score 0.005549\n",
      "No. 10 MIA: Score 0.005478\n",
      "No. 11 SYD: Score 0.005343\n",
      "No. 12 DEN: Score 0.005267\n",
      "No. 13 PEK: Score 0.005248\n",
      "No. 14 FRA: Score 0.005061\n",
      "No. 15 ICN: Score 0.004869\n",
      "No. 16 DME: Score 0.004656\n",
      "No. 17 BCN: Score 0.004564\n",
      "No. 18 HKG: Score 0.004469\n",
      "No. 19 PVG: Score 0.004442\n",
      "No. 20 BNE: Score 0.004406\n"
     ]
    }
   ],
   "source": [
    "ranksSorted = sorted(list(ranksUnsorted.items()), key=lambda x: -x[1])\n",
    "print('Top 20 airports\\n')\n",
    "for index, entry in enumerate(ranksSorted[:20]):\n",
    "    rank = index + 1\n",
    "    print('No. %d %s: Score %f' % (rank, entry[0], entry[1]))"
   ]
  },
  {
   "cell_type": "markdown",
   "metadata": {},
   "source": [
    "## Use IATACodes API to translate airport code to name\n",
    "We use IATACodes API look up airport names based on airport codes.\n",
    "\n",
    "Below is the code skeleton that call IATACodes API to get all airport codes and names.\n",
    "\n",
    "The api key is intentionally omitted to keep my own api key private. Follow the below instructions to set up api key before running the below code block.\n",
    "\n",
    "1. Go to http://iatacodes.org, click on **FREE Access**, and register for access. The api key will be both displayed on the webpage as well as sent to you via email\n",
    "2. Execute below command from the same directory where this jupyter notebook is located\n",
    "\n",
    "```\n",
    "echo YOUR_API_KEY > api_key.txt\n",
    "```\n",
    "\n",
    "**Points to take note**\n",
    "* There is a cap of 250 requests/minute and 2500 requests/hour imposed by the API. Hence don't be too extravagant about rerunning the below code blocks.  \n",
    "* Due to issues with IATACodes website's certificate, sending HTTPS request to their API using Python's `requests` packages fails with `CERTIFICATE_VERIFY_FAILED` error. <br/> Therefore I have disabled SSL certificate verification by setting verify parameter to False, and disabled unverified HTTPS request warnings."
   ]
  },
  {
   "cell_type": "code",
   "execution_count": 15,
   "metadata": {
    "collapsed": true
   },
   "outputs": [],
   "source": [
    "import requests\n",
    "import urllib3\n",
    "\n",
    "# disable unverified HTTPS request warnings\n",
    "urllib3.disable_warnings()\n",
    "\n",
    "url = 'https://iatacodes.org/api/v6/airports'\n",
    "\n",
    "with open('api_key.txt', 'r') as f:\n",
    "    api_key = f.read().replace('\\n','')\n",
    "\n",
    "params = {\n",
    "    'api_key': api_key\n",
    "}\n",
    "\n",
    "response = requests.get(url, params=params, verify=False).json()"
   ]
  },
  {
   "cell_type": "markdown",
   "metadata": {},
   "source": [
    "Generate airport name lookup dictionary"
   ]
  },
  {
   "cell_type": "code",
   "execution_count": 16,
   "metadata": {},
   "outputs": [
    {
     "name": "stdout",
     "output_type": "stream",
     "text": [
      "Total number of airports retrieved from IATACodes: 10051\n"
     ]
    }
   ],
   "source": [
    "airportNameLookupDict = {}\n",
    "for airport in response['response']:\n",
    "    code = airport['code']\n",
    "    name = airport['name']\n",
    "    airportNameLookupDict[code] = name\n",
    "\n",
    "print('Total number of airports retrieved from IATACodes: %d' % (len(airportNameLookupDict)))"
   ]
  },
  {
   "cell_type": "markdown",
   "metadata": {},
   "source": [
    "Use lookup dictionary to translate top airport codes to airport names and print them out."
   ]
  },
  {
   "cell_type": "code",
   "execution_count": 17,
   "metadata": {},
   "outputs": [
    {
     "name": "stdout",
     "output_type": "stream",
     "text": [
      "Top 20 airport names\n",
      "\n",
      "No. 1: Hartsfield-jackson Atlanta International\n",
      "No. 2: Los Angeles International\n",
      "No. 3: Heathrow\n",
      "No. 4: Chicago O'hare International\n",
      "No. 5: Singapore Changi\n",
      "No. 6: John F Kennedy International\n",
      "No. 7: Charles De Gaulle\n",
      "No. 8: Dallas/Fort Worth International\n",
      "No. 9: Suvarnabhumi International\n",
      "No. 10: Miami International Airport\n",
      "No. 11: Kingsford Smith\n",
      "No. 12: Denver International\n",
      "No. 13: Beijing Capital International\n",
      "No. 14: Frankfurt International Airport\n",
      "No. 15: Seoul (Incheon)\n",
      "No. 16: Domodedovo\n",
      "No. 17: El Prat De Llobregat\n",
      "No. 18: Hong Kong International\n",
      "No. 19: Shanghai Pudong International\n",
      "No. 20: Brisbane International\n"
     ]
    }
   ],
   "source": [
    "topAirportList = {}\n",
    "for index, entry in enumerate(ranksSorted[:20]):\n",
    "    rank = index + 1\n",
    "    name = airportNameLookupDict[entry[0]]\n",
    "    topAirportList[rank] = name\n",
    "\n",
    "print('Top 20 airport names\\n')\n",
    "for rank, name in topAirportList.items():\n",
    "    print('No. %d: %s' % (rank, name))"
   ]
  },
  {
   "cell_type": "markdown",
   "metadata": {},
   "source": [
    "Below are the top 20 most popular airports generated by our program. You should get the same result by running the above code block.\n",
    "\n",
    "    No. 1: Hartsfield-jackson Atlanta International\n",
    "    No. 2: Los Angeles International\n",
    "    No. 3: Heathrow\n",
    "    No. 4: Chicago O'hare International\n",
    "    No. 5: Singapore Changi\n",
    "    No. 6: John F Kennedy International\n",
    "    No. 7: Charles De Gaulle\n",
    "    No. 8: Dallas/Fort Worth International\n",
    "    No. 9: Suvarnabhumi International\n",
    "    No. 10: Miami International Airport\n",
    "    No. 11: Kingsford Smith\n",
    "    No. 12: Denver International\n",
    "    No. 13: Beijing Capital International\n",
    "    No. 14: Frankfurt International Airport\n",
    "    No. 15: Seoul (Incheon)\n",
    "    No. 16: Domodedovo\n",
    "    No. 17: El Prat De Llobregat\n",
    "    No. 18: Hong Kong International\n",
    "    No. 19: Shanghai Pudong International\n",
    "    No. 20: Brisbane International"
   ]
  },
  {
   "cell_type": "markdown",
   "metadata": {
    "collapsed": true
   },
   "source": [
    "## References\n",
    "\n",
    "1. Flight Route Database: https://www.kaggle.com/open-flights/flight-route-database\n",
    "2. IATACodes API: http://iatacodes.org\n",
    "3. PageRank Algorithm: https://en.wikipedia.org/wiki/PageRank"
   ]
  },
  {
   "cell_type": "code",
   "execution_count": null,
   "metadata": {
    "collapsed": true
   },
   "outputs": [],
   "source": []
  }
 ],
 "metadata": {
  "kernelspec": {
   "display_name": "Python 3",
   "language": "python",
   "name": "python3"
  },
  "language_info": {
   "codemirror_mode": {
    "name": "ipython",
    "version": 3
   },
   "file_extension": ".py",
   "mimetype": "text/x-python",
   "name": "python",
   "nbconvert_exporter": "python",
   "pygments_lexer": "ipython3",
   "version": "3.6.3"
  }
 },
 "nbformat": 4,
 "nbformat_minor": 2
}
