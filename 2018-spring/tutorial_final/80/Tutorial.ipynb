{
 "cells": [
  {
   "cell_type": "code",
   "execution_count": null,
   "metadata": {},
   "outputs": [],
   "source": [
    "import numpy as np\n",
    "import pandas as pd\n",
    "import seaborn as sns\n",
    "%matplotlib inline"
   ]
  },
  {
   "cell_type": "markdown",
   "metadata": {},
   "source": [
    "## Introduction\n",
    "In this tutorial, I will introduce a python library called **Seaborn**. \n",
    "\n",
    "Seaborn is a graph visualization library for python. It is based on matplotlib, but offers a highly interactive interface which enables users to make creative and attractive statistical plots. \n",
    "\n",
    "Compare to matplotlib, Seaborn modules provide more themes style and advanced interfaces to make our graphs fancier. Moreover, the code to use Seaborn is concise and elegant. It is also highly compatible with numpy, pandas and scipy. \n",
    "Specifically, Seaborn provides advanced API encapsulation based on matplotlib to make graphs easily. In most cases, Seaborn would be enough for users' needs, but matplotlib can make more complexed graphs. Therefore, we should regard Seaborn as a easier supplement for matplotlib rather than a substitute.\n"
   ]
  },
  {
   "cell_type": "markdown",
   "metadata": {},
   "source": [
    "## Seaborn Style\n",
    "Drawing attractive figures is important. When making figures for yourself, as you explore a dataset, it’s nice to have plots that are pleasant to look at. Visualizations are also central to communicating quantitative insights to an audience, and in that setting it’s even more necessary to have figures that catch the attention and draw a viewer in.\n",
    "\n",
    "When making graphs, it is important for graphs to have a pleasant look. Use appropriate theme and style can also contribute to the communication with audience. Seaborn allows users to set themes with pleasant look easily by providing style and palette APIs. You can view the whole list of available APIs [here](https://seaborn.pydata.org/api.html), and we will also use some of them in this tutorial."
   ]
  },
  {
   "cell_type": "markdown",
   "metadata": {},
   "source": [
    "## Plots\n",
    "### Barplot\n",
    "Barplot uses the height for each rectangle to represent the central tendency for different numeric variables. It also uses errorbar to estimate the uncertainty between each variable.\n",
    "Please note that barplot is to represent the average value of distribution for certain variable. Therefore, when we need to observe the distribution trend for variables, boxplot and violinplot would be more appropriate. We will go through more about these later in this tutorial.\n",
    "\n",
    "Some ***parameters*** that we are going to talk about: \n",
    "- **x,y** : names of variables in data (The inputs for x-axis and y-axis) \n",
    "- **hue** : vector data, optional (The vector that used to split the data for each numeric variable) \n",
    "- **data**: DataFrame, array, or list of arrays (The dataset for this plot) \n",
    "- **order**: lists of strings, optional \n",
    "- **estimator**: callable that maps vector -> scalar, optional (mean, median, etc.)\n",
    "- **capsize**: float, optional (Width of the cap on error bars)\n",
    "\n",
    "We will use titanic dataset from Seaborn sample datasets using load_dataset( ) function. You can click [here](https://github.com/mwaskom/seaborn-data/blob/master/titanic.csv) to view details of this dataset.\n",
    "Using median as the estimator with passengers class and age differentiated by their sex, we get the figure below with an error bar cap of 0.2."
   ]
  },
  {
   "cell_type": "code",
   "execution_count": null,
   "metadata": {},
   "outputs": [],
   "source": [
    "from numpy import median \n",
    "titanic = sns.load_dataset('titanic')\n",
    "sns.set_style(\"whitegrid\")\n",
    "sns.barplot(x=\"class\", y=\"age\", \n",
    "            data=titanic, hue = \"sex\",  \n",
    "            estimator = median, \n",
    "            order=[\"First\", \"Second\", \"Third\"],\n",
    "            capsize=.2)\n"
   ]
  },
  {
   "cell_type": "markdown",
   "metadata": {},
   "source": [
    "![avatar](https://raw.githubusercontent.com/StevenQu/PDS-Tutorial/master/plots/1_barplot.png)\n",
    "The result shows there are more male passengers for each of the classes in general. \n",
    "\n",
    "We can use **factorplot( )** to analyze more about the passengers information.\n",
    "The factorplot( ) can combine many barplots together in some defined columns. This allows grouping within additional categorical variables. \n",
    "Using factorplot() also ensures synchronization of variable order across columns. If we splits people by their embarked location, we can visualize the differences easily."
   ]
  },
  {
   "cell_type": "code",
   "execution_count": null,
   "metadata": {
    "scrolled": true
   },
   "outputs": [],
   "source": [
    "sns.factorplot(x=\"sex\", y=\"age\",\n",
    "               hue=\"class\", col=\"embark_town\",\n",
    "               data=titanic, kind=\"bar\",\n",
    "               size=4, aspect=.7);"
   ]
  },
  {
   "cell_type": "markdown",
   "metadata": {},
   "source": [
    "![avatar](https://raw.githubusercontent.com/StevenQu/PDS-Tutorial/master/plots/2_factorplot.png)\n",
    "\n",
    "\n",
    "### Countplot\n",
    "\n",
    "Similar to histogram, countplot can be considered as a histogram across categorical variables rather than quantitative variables. It is also similar to barplot but with the count function. The parameters it take are also pretty much the same compare to barplot. \n",
    "\n",
    "***parameters***: \n",
    "- **x,y** : names of variables in data (The inputs for x-axis and y-axis) \n",
    "- **hue** : vector data, optional (The vector that used to split the data for each numeric variable) \n",
    "- **data**: DataFrame, array, or list of arrays (The dataset for this plot) \n",
    "- **estimator**: callable that maps vector -> scalar, optional (mean, median, etc.)\n",
    "\n",
    "We will use factorplot( ) again to see the survivors of titanic. Given the knowledge that many good men gave the opportunity of survival to women and children, the below graph shows this as well."
   ]
  },
  {
   "cell_type": "code",
   "execution_count": null,
   "metadata": {},
   "outputs": [],
   "source": [
    "sns.set_style('white')\n",
    "sns.factorplot(x=\"class\", hue=\"who\", col=\"survived\",\n",
    "               data=titanic, kind=\"count\");"
   ]
  },
  {
   "cell_type": "markdown",
   "metadata": {},
   "source": [
    "![avatar](https://raw.githubusercontent.com/StevenQu/PDS-Tutorial/master/plots/3_factorplot.png)\n",
    "\n",
    "\n",
    "### Kdeplot\n",
    "\n",
    "Kernel density estimation (KDE) is to estimate the probability density function of a random variable. It is a non-parametric methodology that does not apply priori knowledge or distribution assumption. Therefore, KDE method is purely from the finite data sample to analyze data distribution.\n",
    "\n",
    "Some ***parameters*** that we are going to talk about: \n",
    "- **data** : 1d array-like (The input) \n",
    "- **data2** : 1d array-like, optional (The second input) \n",
    "- **kernel**: {‘gau’ | ‘cos’ | ‘biw’ | ‘epa’ | ‘tri’ | ‘triw’ }, optional (Code for shape of kernel)\n",
    "- **cmap** : color palettes, optional\n",
    "- **shade** : bool, optional (Shade area under the curve)\n",
    "- **shade_lowest** : bool, optional (Shade the lowest contour of a bivariate KDE plot)\n",
    "\n",
    "We will use iris dataset from Seaborn sample datasets. You can click [here](https://github.com/mwaskom/seaborn-data/blob/master/iris.csv) to view details of this dataset. We are using the Gaussian kernel to estimate the density of sepal length and width for iris plants. "
   ]
  },
  {
   "cell_type": "code",
   "execution_count": null,
   "metadata": {},
   "outputs": [],
   "source": [
    "iris = sns.load_dataset(\"iris\")\n",
    "sns.set_style('darkgrid')\n",
    "setosa = iris.loc[iris.species == \"setosa\"]\n",
    "versicolor = iris.loc[iris.species == \"versicolor\"]\n",
    "virginica = iris.loc[iris.species == \"virginica\"]\n",
    "\n",
    "sns.kdeplot(data = setosa.sepal_width, \n",
    "            data2 = setosa.sepal_length,\n",
    "            kernel='gau', cmap=\"Reds\", \n",
    "            shade=True, shade_lowest=False)\n",
    "sns.kdeplot(data = versicolor.sepal_width, \n",
    "            data2 = versicolor.sepal_length,\n",
    "            kernel='gau', cmap=\"Blues\",\n",
    "            shade=True, shade_lowest=False)\n",
    "sns.kdeplot(data = virginica.sepal_width, \n",
    "            data2 = virginica.sepal_length,\n",
    "            kernel='gau', cmap=\"Greens\",\n",
    "            shade=True, shade_lowest=False)"
   ]
  },
  {
   "cell_type": "markdown",
   "metadata": {},
   "source": [
    "\n",
    "![avatar](https://raw.githubusercontent.com/StevenQu/PDS-Tutorial/master/plots/4_kdeplot.png)\n",
    "\n",
    "### Displot\n",
    "Histogram is good for 1D categorical data. Seaborn uses displot() for histogram. It combines hist() from matplotlib, with kdeplot() and rugplot() from Seaborn. Kdeplot is for kernel function density estimate and rugplot plots datapoints in an array as sticks on an axis. We will see this soon.\n",
    "\n",
    "Some **parameters** that we are going to talk about:\n",
    "- **a** : Series, 1d-array, or list.\n",
    "- **bins** : argument for matplotlib hist(), optional (specification of hist () bins)\n",
    "- **hist** : bool, optional (whether to plot a histogram)\n",
    "- **kde** : bool, optional (Whether to plot the kernel density estimate)\n",
    "- **rug** : bool, optional (Whether to plot datapoints in an array as sticks on an axis)"
   ]
  },
  {
   "cell_type": "code",
   "execution_count": null,
   "metadata": {},
   "outputs": [],
   "source": [
    "sns.set_style('darkgrid')\n",
    "np.random.seed(sum(map(ord, \"distributions\")))\n",
    "x = np.random.normal(size=100)\n",
    "sns.distplot(x, bins = 20, hist = True, kde = True, rug=True);"
   ]
  },
  {
   "cell_type": "markdown",
   "metadata": {},
   "source": [
    "![avatar](https://raw.githubusercontent.com/StevenQu/PDS-Tutorial/master/plots/5_displot.png)\n",
    "\n",
    "\n",
    "### Advanced Example I - DC Characters\n",
    "Let using an interesting example to demonstrate the utility of countplot and barplot. We will use Seaborn to visualize certain facts of DC characters.\n",
    "The dataset is from GitHub and here is the [link](https://raw.githubusercontent.com/fivethirtyeight/data/master/comic-characters/dc-wikia-data.csv).\n",
    "The dataset contains basic information like name, align, appearance, sex, eye and hair color. \n",
    "\n",
    "We will show the first 10 most common hair color for characters from each align using countplot."
   ]
  },
  {
   "cell_type": "code",
   "execution_count": null,
   "metadata": {},
   "outputs": [],
   "source": [
    "dc = pd.read_csv(\"https://raw.githubusercontent.com/fivethirtyeight/data/master/comic-characters/dc-wikia-data.csv\")\n",
    "order = dc['HAIR'].value_counts()\n",
    "order_range = order.iloc[:10].index\n",
    "sns.set_style('whitegrid')\n",
    "sns.countplot(y = \"HAIR\", hue = \"ALIGN\", \n",
    "              data = dc, \n",
    "              order = order_range)"
   ]
  },
  {
   "cell_type": "markdown",
   "metadata": {},
   "source": [
    "![avatar](https://raw.githubusercontent.com/StevenQu/PDS-Tutorial/master/plots/6_countplot.png)\n",
    "\n",
    "\n",
    "From the dataset, we found that the number of appearances (APPEARANCES) in a quantitative variable, which is a great data to explore. \n",
    "\n",
    "Therefore, let's see the average number of appearances for different sex separated  by different aligns. \n",
    "\n",
    "The results shows are they are more males than females in DC characters, especially for Reformed Criminals. "
   ]
  },
  {
   "cell_type": "code",
   "execution_count": null,
   "metadata": {},
   "outputs": [],
   "source": [
    "sns.barplot(y='APPEARANCES',x='ALIGN',data=dc,hue='SEX')"
   ]
  },
  {
   "cell_type": "markdown",
   "metadata": {},
   "source": [
    "![avatar](https://raw.githubusercontent.com/StevenQu/PDS-Tutorial/master/plots/7_barplot.png)\n",
    "\n",
    "\n",
    "Let's also use kdeplot to see the number of appearances for supporting characters from different aligns. We will set the threshold for supporting characters to 30 in order to make it clear.\n",
    "\n"
   ]
  },
  {
   "cell_type": "code",
   "execution_count": null,
   "metadata": {},
   "outputs": [],
   "source": [
    "\n",
    "limit = 30\n",
    "good_characters = dc['APPEARANCES'][dc['ALIGN']=='Good Characters']\n",
    "bad_characters = dc['APPEARANCES'][dc['ALIGN']=='Bad Characters']\n",
    "neutral_characters = dc['APPEARANCES'][dc['ALIGN']=='Neutral Characters']\n",
    "sns.kdeplot(data = good_characters[dc['APPEARANCES'] < limit],\n",
    "                shade=True,\n",
    "                label='good')\n",
    "sns.kdeplot(data = neutral_characters[dc['APPEARANCES'] < limit],\n",
    "                shade=True,\n",
    "                label='neutral')\n",
    "sns.kdeplot(data = bad_characters[dc['APPEARANCES'] < limit],\n",
    "                shade=True,\n",
    "                label='bad')\n"
   ]
  },
  {
   "cell_type": "markdown",
   "metadata": {},
   "source": [
    "![avatar](https://raw.githubusercontent.com/StevenQu/PDS-Tutorial/master/plots/8_kdeplot.png)\n",
    "\n",
    "From the graph we noticed that most of the bad supporting characters are short-lived and appeared less than 10 times. It is understandable given the fact that most of them are only used as a reference to show how powerful the good characters are. \n"
   ]
  },
  {
   "cell_type": "markdown",
   "metadata": {},
   "source": [
    "### Boxplot\n",
    "\n",
    "boxplot is powerful when one variable is quantitative but the other is categorical. It can provide information about data distribution, especially when representing similar data from different categories. \n",
    "The standardized way of displaying data distribution is boxplot is consists of five data points: minimum, first quartile, median, third quartile, and maximum.\n",
    "\n",
    "Some ***parameters*** that we are going to talk about:\n",
    "- **x,y** : names of variables in data (The inputs for x-axis and y-axis)\n",
    "- **hue** : vector data, optional (The vector that used to split the data for each numeric variable)\n",
    "- **data**: DataFrame, array, or list of arrays (The dataset for this plot)\n",
    "- **order**: lists of strings, optional  (Control the order to plot the categorical data)\n",
    "- **palette**: palette name, list, or dict, optional (Colors to use for the different levels of the hue variable.)\n",
    "\n",
    "We will use tips dataset from Seaborn sample datasets. You can click [here](https://github.com/mwaskom/seaborn-data/blob/master/tips.csv) to view details of this dataset. \n",
    "\n",
    "From the view of factorplot( ), we can see that smokers spend more money on weekend than those who doesn't on weekend.\n",
    "\n"
   ]
  },
  {
   "cell_type": "code",
   "execution_count": null,
   "metadata": {},
   "outputs": [],
   "source": [
    "tips = sns.load_dataset(\"tips\")\n",
    "tips[\"is_weekend\"] = tips[\"day\"].isin([\"Sat\", \"Sun\"])\n",
    "sns.factorplot(x=\"sex\", y=\"total_bill\",\n",
    "               hue=\"smoker\", col=\"is_weekend\",\n",
    "               data=tips, kind=\"box\",\n",
    "               palette=\"Set3\");"
   ]
  },
  {
   "cell_type": "markdown",
   "metadata": {},
   "source": [
    "![avatar](https://raw.githubusercontent.com/StevenQu/PDS-Tutorial/master/plots/9_factorplot.png)\n",
    "\n",
    "\n",
    "### Violinplot\n",
    "\n",
    "Violinplot shows the distribution of quantitative data for different categorical variables and compare these distributions. It combines the features of boxplot and kdeplot and focus more on the kernel density estimation. The violinplot contains the information of confidence interval, density, median and interquartile range. \n",
    "\n",
    "Some ***parameters*** that we are going to talk about:\n",
    "- **x,y** : names of variables in data (The inputs for x-axis and y-axis)\n",
    "- **hue** : vector data, optional (The vector that used to split the data for each numeric variable)\n",
    "- **data**: DataFrame, array, or list of arrays (The dataset for this plot)\n",
    "- **palette**: palette name, list, or dict, optional (Colors to use for the different levels of the hue variable.)\n",
    "- **inner**: {“box”, “quartile”, “point”, “stick”, None}, optional (interior datapoints representation)\n",
    "- **scale** : {“area”, “count”, “width”}, optional ( scale the width of violin)\n",
    "- **split**: bool, optional (Draw half of a violin for each level of hue)\n",
    "\n"
   ]
  },
  {
   "cell_type": "code",
   "execution_count": null,
   "metadata": {},
   "outputs": [],
   "source": [
    "sns.violinplot(x=\"sex\", y=\"total_bill\", hue=\"is_weekend\",\n",
    "               data=tips, palette=\"Set2\", split=True,\n",
    "               scale=\"count\", inner=\"quartile\", scale_hue=False)"
   ]
  },
  {
   "cell_type": "markdown",
   "metadata": {},
   "source": [
    "![avatar](https://raw.githubusercontent.com/StevenQu/PDS-Tutorial/master/plots/10_violinplot.png)\n",
    "\n",
    "The half violin that is wider shows there are more people in that section. The \"split\" shows the total_bill on weekend is higher."
   ]
  },
  {
   "cell_type": "markdown",
   "metadata": {},
   "source": [
    "### Advanced Example II - Pokemon\n",
    "\n",
    "Every Pokemon has a main and secondary type. Such types could be grass, fire, water, poison, etc. They also have ability values on attack, defense, HP, speed, etc. The dataset is available [here](https://gist.githubusercontent.com/armgilles/194bcff35001e7eb53a2a8b441e8b2c6/raw/92200bc0a673d5ce2110aaad4544ed6c4010f687/pokemon.csv).\n",
    "\n"
   ]
  },
  {
   "cell_type": "code",
   "execution_count": null,
   "metadata": {},
   "outputs": [],
   "source": [
    "pokemon = pd.read_csv('https://gist.githubusercontent.com/armgilles/194bcff35001e7eb53a2a8b441e8b2c6/raw/92200bc0a673d5ce2110aaad4544ed6c4010f687/pokemon.csv')\n",
    "basics = pokemon.drop(['#', 'Total', 'Generation', 'Sp. Atk', 'Sp. Def', 'Legendary' ],1)\n",
    "sns.boxplot(data=basics)"
   ]
  },
  {
   "cell_type": "markdown",
   "metadata": {},
   "source": [
    "![avatar](https://raw.githubusercontent.com/StevenQu/PDS-Tutorial/master/plots/11_boxplot.png)\n",
    "\n",
    "From the results above, we can see that some Pokemons have higher HP that normal as the outlier suggests.\n",
    "\n",
    "We will then explore whether their main type has some influences on Speed and Attack. Since they don't have a categorical data type for the intended fields, the factorplot ( ) will not be appropriate in this case. Instead, we will use the subplot ( ) function from matplotlib and differentiate the subplots by \"ax\" from matplotlib Axes. "
   ]
  },
  {
   "cell_type": "code",
   "execution_count": null,
   "metadata": {},
   "outputs": [],
   "source": [
    "import matplotlib.pyplot as plt \n",
    "fig, axs = plt.subplots(ncols=2)\n",
    "sns.boxplot(x='Speed', y='Type 1', data = pokemon, ax=axs[0])\n",
    "sns.boxplot(x='Attack', y='Type 1', data = pokemon, ax=axs[1])\n",
    "fig.tight_layout() #Make sure subplots have no overlap\n"
   ]
  },
  {
   "cell_type": "markdown",
   "metadata": {},
   "source": [
    "![avatar](https://raw.githubusercontent.com/StevenQu/PDS-Tutorial/master/plots/12_boxplot.png)\n",
    "\n",
    "The figure shows that flying type has higher speed that others. Besides, ground, fighting and dragon type have higher attack value in general.\n",
    "\n",
    "From the dataset, you can see a categorical  variable named \"Legendary\". Legendary Pokemons are very rare, but does the rarity gives them superpower? \n",
    "\n",
    "Let's find out! "
   ]
  },
  {
   "cell_type": "code",
   "execution_count": null,
   "metadata": {
    "scrolled": true
   },
   "outputs": [],
   "source": [
    "plt.figure(figsize=(12, 6))\n",
    "ax = sns.violinplot(y='Attack',x='Generation',\n",
    "               data=pokemon,hue='Legendary',\n",
    "               palette=\"Set3\",split=True,\n",
    "               scale=\"width\", inner=\"quartile\", \n",
    "               scale_hue=False)\n",
    "plt.figure(figsize=(12, 6))\n",
    "ax1 = sns.violinplot(y='Total',x='Generation',\n",
    "               data=pokemon,hue='Legendary',\n",
    "               palette=\"Set3\",split=True,\n",
    "               scale=\"width\", inner=\"quartile\", \n",
    "               scale_hue=False)\n",
    "\n"
   ]
  },
  {
   "cell_type": "markdown",
   "metadata": {},
   "source": [
    "![avatar](https://raw.githubusercontent.com/StevenQu/PDS-Tutorial/master/plots/13_violinplot.png)\n",
    "![avatar](https://raw.githubusercontent.com/StevenQu/PDS-Tutorial/master/plots/14_violinplot.png)\n",
    "\n",
    "\n",
    "We can clear see that legendary Pokemons have higher attack values and also total values in basic statistics.\n",
    "\n",
    "Let's then take a look at HP and defense points for all types of Pokemon based on their main type."
   ]
  },
  {
   "cell_type": "code",
   "execution_count": null,
   "metadata": {},
   "outputs": [],
   "source": [
    "plt.figure(figsize=(12, 6))\n",
    "ax1 = sns.violinplot(x=\"Type 1\", y=\"HP\",\n",
    "                    data=pokemon,\n",
    "                    scale=\"width\", palette=\"Set3\")\n",
    "plt.figure(figsize=(12, 6))\n",
    "ax = sns.violinplot(x=\"Type 1\", y=\"Defense\",\n",
    "                    data=pokemon,\n",
    "                    scale=\"width\", palette=\"Set3\")"
   ]
  },
  {
   "cell_type": "markdown",
   "metadata": {},
   "source": [
    "![avatar](https://raw.githubusercontent.com/StevenQu/PDS-Tutorial/master/plots/15_violinplot.png)\n",
    "\n",
    "![avatar](https://raw.githubusercontent.com/StevenQu/PDS-Tutorial/master/plots/16_violinplot.png)\n",
    "\n",
    "The above plots show that Pokemons from different type have almost the same HP range, but steel type Pokemon clearly have higher defense values.\n",
    "\n",
    "We all know that the most popular Pokemon is Pikachu. Does it have any special powers than average Pokemon? Since Pikachu is electric type, we take all Pokemons from electric type to compapre with Pikachu. "
   ]
  },
  {
   "cell_type": "code",
   "execution_count": null,
   "metadata": {},
   "outputs": [],
   "source": [
    "Pikachu = pokemon[pokemon['Name']=='Pikachu']\n",
    "Pikachu_basics = Pikachu.drop(['#', 'Total', 'Generation', 'Sp. Atk', 'Sp. Def', 'Legendary' ],1)\n",
    "print(Pikachu_basics)\n",
    "#        Name    Type 1 Type 2  HP  Attack  Defense  Speed  is_Pikachu\n",
    "#30  Pikachu  Electric    NaN  35      55       40     90        True\n",
    "Electric = pokemon[pokemon['Type 1']=='Electric']\n",
    "Electric_basics = Electric.drop(['#', 'Total', 'Generation', 'Sp. Atk', 'Sp. Def', 'Legendary' ],1)\n",
    "sns.boxplot(data=Electric_basics)"
   ]
  },
  {
   "cell_type": "markdown",
   "metadata": {},
   "source": [
    "![avatar](https://raw.githubusercontent.com/StevenQu/PDS-Tutorial/master/plots/17_countplot.png)\n",
    "\n",
    "It is kind of disappointing that Pikachu does not have higher ability than its peers. Instead, some of Pikachu's value points are even lower than the median. Therefore, Pikachu is very normal in Pokemon world and it is known to us mainly because its cute appearance."
   ]
  },
  {
   "cell_type": "markdown",
   "metadata": {},
   "source": [
    "## References\n",
    "\n",
    "- [Seaborn](https://seaborn.pydata.org/index.html)\n",
    "- [Seaborn APIs](https://seaborn.pydata.org/api.html) (Official API reference)\n",
    "- [Seaborn dataset](https://github.com/mwaskom/seaborn-data)(Seaborn dataset repository for load_dataset())\n",
    "- [DC dataset](https://raw.githubusercontent.com/fivethirtyeight/data/master/comic-characters/dc-wikia-data.csv)\n",
    "- [Pokemon dataset](https://gist.githubusercontent.com/armgilles/194bcff35001e7eb53a2a8b441e8b2c6/raw/92200bc0a673d5ce2110aaad4544ed6c4010f687/pokemon.csv)"
   ]
  }
 ],
 "metadata": {
  "kernelspec": {
   "display_name": "Python 3",
   "language": "python",
   "name": "python3"
  },
  "language_info": {
   "codemirror_mode": {
    "name": "ipython",
    "version": 3
   },
   "file_extension": ".py",
   "mimetype": "text/x-python",
   "name": "python",
   "nbconvert_exporter": "python",
   "pygments_lexer": "ipython3",
   "version": "3.5.1"
  }
 },
 "nbformat": 4,
 "nbformat_minor": 2
}
