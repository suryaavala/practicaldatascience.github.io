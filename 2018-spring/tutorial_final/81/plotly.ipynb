{
 "cells": [
  {
   "cell_type": "markdown",
   "metadata": {},
   "source": [
    "## Introduction:"
   ]
  },
  {
   "cell_type": "markdown",
   "metadata": {},
   "source": [
    "#### Note: If the plots does not render locally, please use the Jupyter nbviewer [here](https://nbviewer.jupyter.org/github/skybluu/15388-tutorial/blob/master/final2.ipynb)\n",
    "In this tutorial, we will show you how to plot interactive graphs in Python, specifically using [Plotly](http://plot.ly/). In contrast to its counter parts, interactive plots can not only provide much more information than static 2D plots, but they can also clearly present higher-dimension graphs.\n",
    "Below is an example plot from the popular plotting framework matplotlib:\n",
    "<img src=\"https://matplotlib.org/_images/scatter3d_demo.png\">\n",
    "\n",
    "It is very hard to pin-point specific data points or identify trends in static plots like these. By using interactive plots, however, we can solve all these problems and do much more."
   ]
  },
  {
   "cell_type": "markdown",
   "metadata": {},
   "source": [
    "### Tutorial content\n",
    "\n",
    "To demonstrate the capabilities of a new plotting framework, we'll need data with various characteristics. For this tutorial, we'll be using data collected from the Pittsburgh 311 Data repository from the Western Pennsylvania Regional Data Center: http://data.wprdc.org/dataset. It contains data of all of the requests the Pittsburgh 311 service intakes everyday and has over 220000 entries dating from 2015 to 2018.\n",
    "\n",
    "We will cover the following topics in this tutorial:\n",
    "- [Installing the libraries](#Installing-the-libraries)\n",
    "- [Loading the data](#Loading-the-data)\n",
    "- [Create Simple Interactive Plots with Plotly](#Create-Simple-Interactive-Plots-with-Plotly)\n",
    "- [Interactive Maps](#Interactive-Maps)"
   ]
  },
  {
   "cell_type": "markdown",
   "metadata": {},
   "source": [
    "## Installing the libraries"
   ]
  },
  {
   "cell_type": "markdown",
   "metadata": {},
   "source": [
    "Installing plotly is simple and is just like installing any other library in python using `pip`.\n",
    "To install, simply run:\n",
    "    \n",
    "    $ pip install plotly --upgrade"
   ]
  },
  {
   "cell_type": "code",
   "execution_count": 150,
   "metadata": {},
   "outputs": [],
   "source": [
    "import pandas as pd\n",
    "import numpy as np\n",
    "import scipy as sp\n",
    "import plotly.plotly as py\n",
    "import plotly.figure_factory as ff\n",
    "import plotly.graph_objs as go\n",
    "from plotly.graph_objs import *\n",
    "import plotly"
   ]
  },
  {
   "cell_type": "markdown",
   "metadata": {},
   "source": [
    "## Loading the data"
   ]
  },
  {
   "cell_type": "markdown",
   "metadata": {},
   "source": [
    "The original data is given in csv format and we can directly load it into a pandas dataframe. To simplify the process, I have already uploaded the file to my github repo. Since plotly is a web-service, we need to have a plotly account and use the unique API key in order to use it. However, setting up an account is completely free and all the plots we generate are saved inside our Plotly accounts online. The first line below provides authentication to your Plotly account.\n",
    "\n",
    "After we load the csv file, we can keep only the columns we want to improve performance, since the entire file is huge.\n",
    "Then we can directly plot the dataframe with Plotly, all we have to do is to transform the Pandas dataframe to a Plotly table object by calling `ff.create_table()` and Plotly's `iplot()` function. The same graph is also saved to your Plotly account under the filename \"table1\" (specified in the `iplot()` function by `filename = XX`)."
   ]
  },
  {
   "cell_type": "code",
   "execution_count": 39,
   "metadata": {},
   "outputs": [
    {
     "data": {
      "text/html": [
       "<iframe id=\"igraph\" scrolling=\"no\" style=\"border:none;\" seamless=\"seamless\" src=\"https://plot.ly/~skybluuu/1.embed\" height=\"230px\" width=\"100%\"></iframe>"
      ],
      "text/plain": [
       "<plotly.tools.PlotlyDisplay object>"
      ]
     },
     "execution_count": 39,
     "metadata": {},
     "output_type": "execute_result"
    }
   ],
   "source": [
    "plotly.tools.set_credentials_file(username='username', api_key='X')\n",
    "\n",
    "df = pd.read_csv(\"https://raw.githubusercontent.com/skybluu/15388-tutorial/master/data/PGH_311_data.csv\")\n",
    "df = df[[\"CREATED_ON\", \"REQUEST_TYPE\", \"REQUEST_ORIGIN\", \"DEPARTMENT\", \"NEIGHBORHOOD\", \"X\", \"Y\"]]\n",
    "table = ff.create_table(df[:5])\n",
    "py.iplot(table, filename='table1')"
   ]
  },
  {
   "cell_type": "markdown",
   "metadata": {},
   "source": [
    "## Create Simple Interactive Plots with Plotly"
   ]
  },
  {
   "cell_type": "markdown",
   "metadata": {},
   "source": [
    "As with any other advanced plotting framework, Plotly already has many simple built-in plots, all we have to do is passing in the X and Y values, we'll start with a bar chart to demonstrate and at the same time explore the dataset.\n",
    "\n",
    "To create a bar chart, we have to identify all the labels and their number of appearances in the dataset. To do this, we iterate through the entire file to count all the different `REQUEST_TYPE`."
   ]
  },
  {
   "cell_type": "code",
   "execution_count": 40,
   "metadata": {},
   "outputs": [],
   "source": [
    "unique_type = []\n",
    "type_count = []\n",
    "for idx, row in df.iterrows():\n",
    "    _type = row['REQUEST_TYPE']\n",
    "    if (_type not in unique_type):\n",
    "        unique_type.append(_type)\n",
    "        type_count.append(1)\n",
    "    else:\n",
    "        type_count[unique_type.index(_type)] += 1\n",
    "\n",
    "data = [Bar(x=unique_type,\n",
    "            y=type_count)]"
   ]
  },
  {
   "cell_type": "markdown",
   "metadata": {},
   "source": [
    "Now that we have all the unique `REQUEST_TYPE` labels and their counts, we just need to feed them into the built-in `Pie()` function to create a graph object that represents a Pie chart and plots it."
   ]
  },
  {
   "cell_type": "code",
   "execution_count": 41,
   "metadata": {},
   "outputs": [
    {
     "data": {
      "text/html": [
       "<iframe id=\"igraph\" scrolling=\"no\" style=\"border:none;\" seamless=\"seamless\" src=\"https://plot.ly/~skybluuu/5.embed\" height=\"525px\" width=\"100%\"></iframe>"
      ],
      "text/plain": [
       "<plotly.tools.PlotlyDisplay object>"
      ]
     },
     "execution_count": 41,
     "metadata": {},
     "output_type": "execute_result"
    }
   ],
   "source": [
    "trace = go.Pie(labels=unique_type, values=type_count, textinfo = \"none\")\n",
    "py.iplot([trace], filename='basic_pie_chart')"
   ]
  },
  {
   "cell_type": "markdown",
   "metadata": {},
   "source": [
    "This is the first interactive plot that we have created in this tutorial and we can immediately see its potential. While a static pie chart with this many labels will provide almost no information on the dataset, this interactive version manages to keep all the data and present us the exact name, count and percentage of each label. We can zoom-in/out and even select the labels to include by clicking the legend on the right. \n",
    "\n",
    "Now that we can see that there are just too many different kinds of requests, we'll just focus on the top 5 requests from now on."
   ]
  },
  {
   "cell_type": "code",
   "execution_count": 151,
   "metadata": {},
   "outputs": [],
   "source": [
    "new_df = df.loc[df['REQUEST_TYPE'].isin(['Potholes','Weeds/Debris', 'Building Maintenance', 'Snow/Ice removal', 'Refuse Violations'])]"
   ]
  },
  {
   "cell_type": "markdown",
   "metadata": {},
   "source": [
    "The second graph we're going to plot is a timeseries on the top 5 requests we just identified from the Pie chart. \n",
    "\n",
    "To create a timeseries, we need to extract the number of each inquires on specific months. We first add a new column that contains the month and year data."
   ]
  },
  {
   "cell_type": "code",
   "execution_count": 67,
   "metadata": {},
   "outputs": [
    {
     "data": {
      "text/html": [
       "<iframe id=\"igraph\" scrolling=\"no\" style=\"border:none;\" seamless=\"seamless\" src=\"https://plot.ly/~skybluuu/7.embed\" height=\"230px\" width=\"100%\"></iframe>"
      ],
      "text/plain": [
       "<plotly.tools.PlotlyDisplay object>"
      ]
     },
     "execution_count": 67,
     "metadata": {},
     "output_type": "execute_result"
    }
   ],
   "source": [
    "df_mon = new_df  \n",
    "\n",
    "df_mon['CREATED_ON'] = pd.to_datetime(df_mon['CREATED_ON'])\n",
    "df_mon['mnth_yr'] = df_mon['CREATED_ON'].map(lambda x: 100*x.year + x.month)\n",
    "\n",
    "table2 = ff.create_table(df_mon[:5])\n",
    "py.iplot(table2, filename='table2')"
   ]
  },
  {
   "cell_type": "markdown",
   "metadata": {},
   "source": [
    "Then, using the column we've just created, we can group the different request types by month using Panda's `groupby()` function."
   ]
  },
  {
   "cell_type": "code",
   "execution_count": 152,
   "metadata": {},
   "outputs": [],
   "source": [
    "group1 = df_mon.groupby(['mnth_yr', 'REQUEST_TYPE'])['mnth_yr']\n",
    "month_list = []\n",
    "pot_list = []\n",
    "weed_list = []\n",
    "maint_list = []\n",
    "snow_list = []\n",
    "refuse_list = []\n",
    "\n",
    "for name, group in group1:\n",
    "    #name[0] is time, name[1] is request\n",
    "    if (name[0] not in month_list):\n",
    "        month_list.append(name[0])\n",
    "    \n",
    "month_list.sort()\n",
    "\n",
    "for i in month_list:\n",
    "    pot_list.append(0)\n",
    "    weed_list.append(0)\n",
    "    maint_list.append(0)\n",
    "    snow_list.append(0)\n",
    "    refuse_list.append(0)\n",
    "    \n",
    "for name, group in group1:\n",
    "    idx = month_list.index(name[0])\n",
    "    if (name[1] == \"Potholes\"):\n",
    "        pot_list[idx] += group.count()\n",
    "    elif (name[1] == \"Weeds/Debris\"):\n",
    "        weed_list[idx] += group.count()\n",
    "    elif (name[1] == \"Building Maintenance\"):\n",
    "        maint_list[idx] += group.count()\n",
    "    elif (name[1] == \"Snow/Ice removal\"):\n",
    "        snow_list[idx] += group.count()\n",
    "    else:\n",
    "        refuse_list[idx] += group.count()\n"
   ]
  },
  {
   "cell_type": "markdown",
   "metadata": {},
   "source": [
    "This is a much more complicated graph than the Pie chart, so we need to sort out how to put together a plot in Plotly.\n",
    "\n",
    "First of all, there are two main parts of every plot, the `data` and `layout`.\n",
    "`data` stores all of the information and is a list of all the plots you want to show on the canvas. The entries are graph objects in Plotly, such as `Pie`, `Scatter`, `Heatmap` and so on. \n",
    "In this plot, we are going to use `Scatter` to plot the timeseries of each request type as a scatter plot. Besides from taking inputs as `X` and `Y`, it can also take a number of parameters specified in the documentation, but the most important ones are `name` and `hoverinfo`, these two specifies what we will see if we hover our mouse on the datapoint. A clear name of each datapoint is very important for interactive graphs.\n",
    "\n",
    "The `layout` object specifies the layout of the graph. In this case, it manages the margins and labels/titles of the graph."
   ]
  },
  {
   "cell_type": "code",
   "execution_count": 95,
   "metadata": {},
   "outputs": [
    {
     "data": {
      "text/html": [
       "<iframe id=\"igraph\" scrolling=\"no\" style=\"border:none;\" seamless=\"seamless\" src=\"https://plot.ly/~skybluuu/9.embed\" height=\"525px\" width=\"100%\"></iframe>"
      ],
      "text/plain": [
       "<plotly.tools.PlotlyDisplay object>"
      ]
     },
     "execution_count": 95,
     "metadata": {},
     "output_type": "execute_result"
    }
   ],
   "source": [
    "title = 'Number of Requests'\n",
    "labels = ['Potholes', 'Weeds/Debris', 'Building Maintenance', 'Snow/Ice removal', 'Refuse Violations']\n",
    "colors = ['rgba(49,130,189, 1)', 'rgba(115,115,115,1)', 'rgba(67,67,67,1)', 'rgba(150,150,150,1)', 'rgba(189,189,189,1)']\n",
    "mode_size = [12, 8, 8, 8, 8]\n",
    "line_size = [4, 2, 2, 2, 2]\n",
    "traces = []\n",
    "\n",
    "month_list = ['April-15', 'May-15', 'June-15', 'July-15',\n",
    "         'August-15', 'September-15', 'October-15', 'November-15', 'December-15','January-16', 'February-16', 'March-16', 'April-16', 'May-16', 'June-16', 'July-16',\n",
    "         'August-16', 'September-16', 'October-16', 'November-16', 'December-16','January-17', 'February-17', 'March-17', 'April-17', 'May-17', 'June-17', 'July-17',\n",
    "         'August-17', 'September-17', 'October-17', 'November-17', 'December-17','January-18', 'February-18', 'March-18']\n",
    "#potholes\n",
    "traces.append(go.Scatter(\n",
    "    x=month_list, y=pot_list, mode='lines',\n",
    "    line=dict(color=colors[0], width=line_size[0]),\n",
    "    connectgaps=True,\n",
    "    name=\"Potholes\",\n",
    "    hoverinfo=name\n",
    "))\n",
    "\n",
    "traces.append(go.Scatter(\n",
    "    x=[month_list[0], month_list[-1]],\n",
    "    y=[pot_list[0], pot_list[-1]],\n",
    "    mode='markers',\n",
    "    marker=dict(color=colors[0], size=mode_size[0])\n",
    "))\n",
    "\n",
    "#weed\n",
    "traces.append(go.Scatter(\n",
    "    x=month_list, y=weed_list, mode='lines',\n",
    "    line=dict(color=colors[1], width=line_size[1]),\n",
    "    connectgaps=True,\n",
    "    name=\"Weeds/Debris\",\n",
    "    hoverinfo=name\n",
    "))\n",
    "\n",
    "traces.append(go.Scatter(\n",
    "    x=[month_list[0], month_list[-1]],\n",
    "    y=[weed_list[0], weed_list[-1]],\n",
    "    mode='markers',\n",
    "    marker=dict(color=colors[1], size=mode_size[1])\n",
    "))\n",
    "\n",
    "#maint_list = []\n",
    "traces.append(go.Scatter(\n",
    "    x=month_list, y=maint_list, mode='lines',\n",
    "    line=dict(color=colors[2], width=line_size[2]),\n",
    "    connectgaps=True,\n",
    "    name=\"Building Maintenance\",\n",
    "    hoverinfo=name\n",
    "))\n",
    "\n",
    "traces.append(go.Scatter(\n",
    "    x=[month_list[0], month_list[-1]],\n",
    "    y=[maint_list[0], maint_list[-1]],\n",
    "    mode='markers',\n",
    "    marker=dict(color=colors[2], size=mode_size[2])\n",
    "))\n",
    "\n",
    "#snow_list = []\n",
    "traces.append(go.Scatter(\n",
    "    x=month_list, y=snow_list, mode='lines',\n",
    "    line=dict(color=colors[3], width=line_size[3]),\n",
    "    connectgaps=True,\n",
    "    name=\"Snow/Ice removal\",\n",
    "    hoverinfo=name\n",
    "))\n",
    "\n",
    "traces.append(go.Scatter(\n",
    "    x=[month_list[0], month_list[-1]],\n",
    "    y=[snow_list[0], snow_list[-1]], mode='markers',\n",
    "    marker=dict(color=colors[3], size=mode_size[3])\n",
    "))\n",
    "\n",
    "#refuse_list = []\n",
    "traces.append(go.Scatter(\n",
    "    x=month_list,y=refuse_list,mode='lines',\n",
    "    line=dict(color=colors[4], width=line_size[4]),\n",
    "    connectgaps=True,\n",
    "    name=\"Refuse Violations\",\n",
    "    hoverinfo=name\n",
    "))\n",
    "\n",
    "traces.append(go.Scatter(\n",
    "    x=[month_list[0], month_list[-1]],\n",
    "    y=[refuse_list[0], refuse_list[-1]],\n",
    "    mode='markers',\n",
    "    marker=dict(color=colors[4], size=mode_size[4])\n",
    "))\n",
    "\n",
    "layout = go.Layout(\n",
    "    legend=dict(\n",
    "        y=0.5,\n",
    "        traceorder='reversed',\n",
    "        font=dict(\n",
    "            size=16\n",
    "        )\n",
    "    ),\n",
    "    xaxis=dict(\n",
    "        showline=True,showgrid=False,showticklabels=True,\n",
    "        linecolor='rgb(204, 204, 204)',\n",
    "        linewidth=2,\n",
    "        autotick=False,\n",
    "        ticks='outside',\n",
    "        tickcolor='rgb(204, 204, 204)',\n",
    "        tickwidth=2,ticklen=5,tickangle=30,\n",
    "        tickfont=dict(\n",
    "            family='Arial',\n",
    "            size=12,\n",
    "            color='rgb(82, 82, 82)',\n",
    "        ),\n",
    "    ),\n",
    "    yaxis=dict(\n",
    "        showgrid=False,zeroline=False,showline=False,showticklabels=False,\n",
    "    ),\n",
    "    autosize=False,\n",
    "    margin=dict(\n",
    "        autoexpand=False,l=100,r=20,t=110,\n",
    "    ),\n",
    "    showlegend=False,\n",
    ")\n",
    "\n",
    "annotations = []\n",
    "\n",
    "# Adding labels\n",
    "for y_trace, label, color in zip([pot_list, weed_list, maint_list, snow_list, refuse_list], labels, colors):\n",
    "    # labeling the left_side of the plot\n",
    "    annotations.append(dict(xref='paper', x=0.05, y=y_trace[0],\n",
    "                                  xanchor='right', yanchor='middle',\n",
    "                                  text=label + ' {} Requests'.format(y_trace[0]),\n",
    "                                  font=dict(family='Arial',\n",
    "                                            size=10,\n",
    "                                            color=colors,),\n",
    "                                  showarrow=False))\n",
    "    # labeling the right_side of the plot\n",
    "    annotations.append(dict(xref='paper', x=0.95, y=y_trace[11],\n",
    "                                  xanchor='left', yanchor='middle',\n",
    "                                  text='{} Requests'.format(y_trace[11]),\n",
    "                                  font=dict(family='Arial',\n",
    "                                            size=10,\n",
    "                                            color=colors,),\n",
    "                                  showarrow=False))\n",
    "# Title\n",
    "annotations.append(dict(xref='paper', yref='paper', x=0.0, y=1.05,\n",
    "                              xanchor='left', yanchor='bottom',\n",
    "                              text= title,\n",
    "                              font=dict(family='Arial',\n",
    "                                        size=30,\n",
    "                                        color='rgb(37,37,37)'),\n",
    "                              showarrow=False))\n",
    "# Source\n",
    "annotations.append(dict(xref='paper', yref='paper', x=0.0, y=1,\n",
    "                              xanchor='left', yanchor='bottom',\n",
    "                              text='Source: Official PGH 311 Data',\n",
    "                              font=dict(family='Arial',\n",
    "                                        size=12,\n",
    "                                        color='rgb(150,150,150)'),\n",
    "                              showarrow=False))\n",
    "\n",
    "layout['annotations'] = annotations\n",
    "\n",
    "fig = go.Figure(data=traces, layout=layout)\n",
    "py.iplot(fig, filename='news-source')"
   ]
  },
  {
   "cell_type": "markdown",
   "metadata": {},
   "source": [
    "Like the pie chart, while this is not a pretty graph, we can still obtain much information from it. For exmaple, each type of request has a distinct trend throughout the year. For example, Pothole requests rise during Janurary to March and falls later on while Weed/Debris requests peak during the summer. Also, we can notice a huge spike of Pothole requests just last month!"
   ]
  },
  {
   "cell_type": "markdown",
   "metadata": {},
   "source": [
    "Another advantage of interactive plots is that they can demonstrate higher dimension data easily and really set themselves aside from 2D, static plots. However, there isn't any interesting 3D plots we can plot from the 311 Dataset, so we'll just demonstrate by plotting a cool plot in 3D with the formula of `z = x*y^3 - y*x^3`\n",
    "This time we'll use the `Scatter3d` graph object which takes in `X`, `Y`, `Z` and creates a scatter plot in 3D."
   ]
  },
  {
   "cell_type": "code",
   "execution_count": 113,
   "metadata": {},
   "outputs": [
    {
     "data": {
      "text/html": [
       "<iframe id=\"igraph\" scrolling=\"no\" style=\"border:none;\" seamless=\"seamless\" src=\"https://plot.ly/~skybluuu/11.embed\" height=\"525px\" width=\"100%\"></iframe>"
      ],
      "text/plain": [
       "<plotly.tools.PlotlyDisplay object>"
      ]
     },
     "execution_count": 113,
     "metadata": {},
     "output_type": "execute_result"
    }
   ],
   "source": [
    "#Cool 3D plot!\n",
    "x=[]\n",
    "y=[]\n",
    "z=[]\n",
    "for i in range(20):\n",
    "    x_t = -1+i/10\n",
    "    for j in range(20):\n",
    "        y_t = -1+j/10\n",
    "        x.append(x_t)\n",
    "        y.append(y_t)\n",
    "        z.append(x_t*y_t**3-y_t*x_t**3)\n",
    "\n",
    "trace_3d = go.Scatter3d(\n",
    "    x=x, y=y, z=z,\n",
    "    mode='markers',\n",
    "    marker=dict(\n",
    "        size = 6,\n",
    "        color = z,\n",
    "        colorscale = 'Viridis',\n",
    "        opacity=0.8)\n",
    ")\n",
    "\n",
    "layout = go.Layout(margin=dict(l=0, r=0, b=0, t=0))\n",
    "\n",
    "fig = go.Figure(data=[trace_3d], layout=layout)\n",
    "py.iplot(fig, filename='basic-3d')"
   ]
  },
  {
   "cell_type": "markdown",
   "metadata": {},
   "source": [
    "## Interactive Maps\n",
    "After getting to know Plotly and all of its capabilities, it is now time to get serious and plot higher-level interactive graphs. In this example we will plot geographic data on a map using latitude and longitude data."
   ]
  },
  {
   "cell_type": "markdown",
   "metadata": {},
   "source": [
    "As stated before, `data` is a list of plots we want to draw on the canvas. In this case, we need to create 5 different scatter plots on the map, one for each type of request. To do this, we need to first separate the data into 5 sets of lists.\n",
    "\n",
    "Also, since we have too many data points in the data, for this part we'll only be using the datapoints from 2017."
   ]
  },
  {
   "cell_type": "code",
   "execution_count": 139,
   "metadata": {},
   "outputs": [],
   "source": [
    "pot_lat = []\n",
    "pot_lon = []\n",
    "pot_ts = []\n",
    "weed_lat = []\n",
    "weed_lon = []\n",
    "weed_ts = []\n",
    "maint_lat = []\n",
    "maint_lon = []\n",
    "maint_ts = []\n",
    "snow_lat = []\n",
    "snow_lon = []\n",
    "snow_ts = []\n",
    "ref_lat = []\n",
    "ref_lon = []\n",
    "ref_ts = []\n",
    "\n",
    "#data only from 2017\n",
    "for idx, row in new_df.iterrows():\n",
    "    if (row['mnth_yr'] > 201700 and row['mnth_yr'] < 201800):\n",
    "        if (row['REQUEST_TYPE'] == \"Potholes\"):\n",
    "            pot_lat.append(row['Y'])\n",
    "            pot_lon.append(row['X'])\n",
    "            pot_ts.append(row['mnth_yr'])\n",
    "        elif (row['REQUEST_TYPE'] == \"Weeds/Debris\"):\n",
    "            weed_lat.append(row['Y'])\n",
    "            weed_lon.append(row['X'])\n",
    "        elif (row['REQUEST_TYPE'] == \"Building Maintenance\"):\n",
    "            maint_lat.append(row['Y'])\n",
    "            maint_lon.append(row['X'])\n",
    "        elif (row['REQUEST_TYPE'] == \"Snow/Ice removal\"):\n",
    "            snow_lat.append(row['Y'])\n",
    "            snow_lon.append(row['X'])\n",
    "        elif (row['REQUEST_TYPE'] == \"Refuse Violations\"):\n",
    "            ref_lat.append(row['Y'])\n",
    "            ref_lon.append(row['X'])"
   ]
  },
  {
   "cell_type": "markdown",
   "metadata": {},
   "source": [
    "After separating the datapoints, we can create the graph objects in `data`. In this case, we'll use the `Scattermapbox`. This graph takes in the latitude and lontitude values and plots them on a map provided by Mapbox. This is easier than plotting on other libraries since it is already integrated with Plotly. However, we'll need an API key from Mapbox. (It's also free to use)\n",
    "\n",
    "Aside from the latitude and longitude values, we also need to pay attention to the `marker` parameter. This field takes in a dictionary and defines the style of the point we plot on the graph. We can change its color, size, shape etc. to differentiate between different types of datapoint."
   ]
  },
  {
   "cell_type": "code",
   "execution_count": 143,
   "metadata": {},
   "outputs": [
    {
     "data": {
      "text/html": [
       "<iframe id=\"igraph\" scrolling=\"no\" style=\"border:none;\" seamless=\"seamless\" src=\"https://plot.ly/~skybluuu/13.embed\" height=\"525px\" width=\"100%\"></iframe>"
      ],
      "text/plain": [
       "<plotly.tools.PlotlyDisplay object>"
      ]
     },
     "execution_count": 143,
     "metadata": {},
     "output_type": "execute_result"
    }
   ],
   "source": [
    "mapbox_access_token = \"X\"\n",
    "\n",
    "pot_trace = Scattermapbox(\n",
    "        lat=pot_lat, lon=pot_lon, mode='markers',\n",
    "        marker=Marker(\n",
    "            size=6,\n",
    "            color=\"red\",\n",
    "            symbol=\"circle\"\n",
    "        ),\n",
    "        text=pot_ts,\n",
    "        name = \"Pothole\",\n",
    "        hoverinfo = name\n",
    "    )\n",
    "\n",
    "weed_trace = Scattermapbox(\n",
    "        lat=weed_lat, lon=weed_lon, mode='markers',\n",
    "        marker=Marker(\n",
    "            size=6,\n",
    "            color=\"green\",\n",
    "            symbol=\"circle\"\n",
    "        ),\n",
    "        text=weed_ts,\n",
    "        name = \"Weeds/Debris\",\n",
    "        hoverinfo = name\n",
    "    )\n",
    "\n",
    "maint_trace = Scattermapbox(\n",
    "        lat=maint_lat, lon=maint_lon, mode='markers',\n",
    "        marker=Marker(\n",
    "            size=6, color=\"blue\", symbol=\"circle\"\n",
    "        ),\n",
    "        text=maint_ts,\n",
    "        name = \"Building Maintenance\",\n",
    "        hoverinfo = name\n",
    "    )\n",
    "\n",
    "snow_trace = Scattermapbox(\n",
    "        lat=snow_lat, lon=snow_lon, mode='markers',\n",
    "        marker=Marker(\n",
    "            size=6, color=\"yellow\", symbol=\"circle\"\n",
    "        ),\n",
    "        text=snow_ts,\n",
    "        name = \"Snow/Ice removal\",\n",
    "        hoverinfo = name\n",
    "    )\n",
    "\n",
    "ref_trace = Scattermapbox(\n",
    "        lat=ref_lat, lon=ref_lon, mode='markers',\n",
    "        marker=Marker(\n",
    "            size=6, color=\"purple\", symbol=\"circle\"\n",
    "        ),\n",
    "        text=ref_ts,\n",
    "        name = \"Refuse Violations\",\n",
    "        hoverinfo = name\n",
    "    )\n",
    "data = [pot_trace, weed_trace, maint_trace, snow_trace, ref_trace]\n",
    "\n",
    "layout = Layout(\n",
    "    autosize=True,\n",
    "    hovermode='closest',\n",
    "    mapbox=dict(\n",
    "        accesstoken=mapbox_access_token,\n",
    "        bearing=0,\n",
    "        center=dict(\n",
    "            lat=40.44, lon=-79.99 ),\n",
    "        pitch=0, zoom=11 ),\n",
    ")\n",
    "\n",
    "fig = dict(data=data, layout=layout)\n",
    "py.iplot(fig, filename='Montreal Mapbox')"
   ]
  },
  {
   "cell_type": "markdown",
   "metadata": {},
   "source": [
    "This is already a very informative plot and we can pin point every incident. However, we can still improve the plot in terms of interactivity. For example, plotting everything at once may make it hard to see and differentiate between the dots, let's add some buttons the select exactly what kind of requests we want to see.\n",
    "\n",
    "The buttons can serve many functions in Plotly, here we want it to `update` the graph so that different pieces of the `data` gets plotted while others are not.\n",
    "\n",
    "The buttons are implemented via a field in `layout` that creates a panel of buttons and each button decides which part of `data` to show. In the code below we set the fields in `'visible'` to be `True` only on the data we want to show."
   ]
  },
  {
   "cell_type": "code",
   "execution_count": 153,
   "metadata": {},
   "outputs": [
    {
     "data": {
      "text/html": [
       "<iframe id=\"igraph\" scrolling=\"no\" style=\"border:none;\" seamless=\"seamless\" src=\"https://plot.ly/~skybluuu/15.embed\" height=\"525px\" width=\"100%\"></iframe>"
      ],
      "text/plain": [
       "<plotly.tools.PlotlyDisplay object>"
      ]
     },
     "execution_count": 153,
     "metadata": {},
     "output_type": "execute_result"
    }
   ],
   "source": [
    "updatemenus = list([\n",
    "    dict(type=\"buttons\",\n",
    "         active=-1,\n",
    "         buttons=list([   \n",
    "            dict(label = 'Potholes',\n",
    "                 method = 'update',\n",
    "                 args = [{'visible': [True, False, False, False, False]},\n",
    "                         {'title': 'Potholes Only',\n",
    "                          'annotations': []}]),\n",
    "            dict(label = 'Weeds/Debris',\n",
    "                 method = 'update',\n",
    "                 args = [{'visible': [False, True, False, False, False]},\n",
    "                         {'title': 'Weeds/Debris Only',\n",
    "                          'annotations': []}]),\n",
    "            dict(label = 'Building Maintenance',\n",
    "                 method = 'update',\n",
    "                 args = [{'visible': [False, False, True, False, False]},\n",
    "                         {'title': 'Building Maintenance Only',\n",
    "                          'annotations': []}]),\n",
    "            dict(label = 'Snow/Ice removal',\n",
    "                 method = 'update',\n",
    "                 args = [{'visible': [False, False, False, True, False]},\n",
    "                         {'title': 'Snow/Ice removal Only',\n",
    "                          'annotations': []}]),\n",
    "            dict(label = 'Refuse Violations',\n",
    "                 method = 'update',\n",
    "                 args = [{'visible': [False, False, False, False, True]},\n",
    "                         {'title': 'Refuse Violations Only',\n",
    "                          'annotations': []}]),\n",
    "            dict(label = 'All',\n",
    "                 method = 'update',\n",
    "                 args = [{'visible': [True, True, True, True, True]},\n",
    "                         {'title': 'All Requests',\n",
    "                          'annotations': []}])]),\n",
    "    )\n",
    "])\n",
    "\n",
    "\n",
    "layout = Layout(\n",
    "    autosize=True,\n",
    "    hovermode='closest',\n",
    "    mapbox=dict(\n",
    "        accesstoken=mapbox_access_token,\n",
    "        bearing=0,\n",
    "        center=dict(\n",
    "            lat=40.44,\n",
    "            lon=-79.99\n",
    "        ),\n",
    "        pitch=0,\n",
    "        zoom=11\n",
    "    ),\n",
    "    updatemenus = updatemenus\n",
    ")\n",
    "\n",
    "fig = dict(data=data, layout=layout)\n",
    "py.iplot(fig, filename='update')"
   ]
  },
  {
   "cell_type": "markdown",
   "metadata": {},
   "source": [
    "Lastly, rather than differentiate between different types of requests, we can create a slider that presents the datapoints only during a specific timeframe. In this case we divide the Pothole requests in 2017 by the month and use a slider to choose the month we want to see.\n",
    "\n",
    "A slider is like a button since that it also iterates through different objects in `data` and chooses one to show on the plot. First, we create 12 `Scattermapbox` objects in `data` and set the `visible` field to False. Then, we use the slider to choose which one to show."
   ]
  },
  {
   "cell_type": "code",
   "execution_count": 148,
   "metadata": {},
   "outputs": [
    {
     "data": {
      "text/html": [
       "<iframe id=\"igraph\" scrolling=\"no\" style=\"border:none;\" seamless=\"seamless\" src=\"https://plot.ly/~skybluuu/17.embed\" height=\"525px\" width=\"100%\"></iframe>"
      ],
      "text/plain": [
       "<plotly.tools.PlotlyDisplay object>"
      ]
     },
     "execution_count": 148,
     "metadata": {},
     "output_type": "execute_result"
    }
   ],
   "source": [
    "lat_month = []\n",
    "lon_month = []\n",
    "for i in range(12):\n",
    "    lat_month.append([])\n",
    "    lon_month.append([])\n",
    "\n",
    "for idx, row in new_df.iterrows():\n",
    "    if (row['mnth_yr'] > 201700 and row['mnth_yr'] < 201800):\n",
    "        if (row['REQUEST_TYPE'] == \"Potholes\"):\n",
    "            month = row['mnth_yr']%100\n",
    "            lat_month[month-1].append(row['Y'])\n",
    "            lon_month[month-1].append(row['X'])\n",
    "     \n",
    "data = [Scattermapbox(\n",
    "        visible = False, lat=lat_month[month], lon=lon_month[month], mode='markers',\n",
    "        marker=Marker(\n",
    "            size=6, color=\"red\", symbol=\"circle\" ),\n",
    "        name = \"Pothole in month \"+str(month+1),\n",
    "        hoverinfo = name\n",
    "    ) for month in range(0, 12)]\n",
    "\n",
    "steps = []\n",
    "\n",
    "for i in range(len(data)):\n",
    "    step = dict(\n",
    "        method = \"restyle\",\n",
    "        args = ['visible', [False]*len(data)]\n",
    "    )\n",
    "    step['args'][1][i] = True\n",
    "    steps.append(step)\n",
    "    \n",
    "sliders = [dict(\n",
    "        active = 10,\n",
    "        currentvalue = {\"prefix\": \"Month: \"},\n",
    "        pad = {\"t\": 12}, steps = steps)]\n",
    "\n",
    "layout = Layout(\n",
    "    autosize=True,\n",
    "    hovermode='closest',\n",
    "    mapbox=dict(\n",
    "        accesstoken=mapbox_access_token, bearing=0,\n",
    "        center=dict(\n",
    "            lat=40.44, lon=-79.99),\n",
    "        pitch=0, zoom=11\n",
    "    ),\n",
    "    sliders = sliders\n",
    ")\n",
    "\n",
    "fig = dict(data=data, layout=layout)\n",
    "py.iplot(fig, filename='slider')\n"
   ]
  },
  {
   "cell_type": "markdown",
   "metadata": {},
   "source": [
    "## Summary and references\n",
    "\n",
    "This tutorial gave a brief introduction to the Plotly framework and demonstrated some of its capabilities by a simple exploration of the PGH 311 dataset. There are many more possibilities with Plotly as a Web API as well as a handy local plotting tool.\n",
    "\n",
    "The Plotly documentation has everything you need to know about Plotly:\n",
    "https://plot.ly/python/reference/"
   ]
  },
  {
   "cell_type": "code",
   "execution_count": null,
   "metadata": {},
   "outputs": [],
   "source": []
  }
 ],
 "metadata": {
  "kernelspec": {
   "display_name": "Python 3",
   "language": "python",
   "name": "python3"
  },
  "language_info": {
   "codemirror_mode": {
    "name": "ipython",
    "version": 3
   },
   "file_extension": ".py",
   "mimetype": "text/x-python",
   "name": "python",
   "nbconvert_exporter": "python",
   "pygments_lexer": "ipython3",
   "version": "3.6.4"
  }
 },
 "nbformat": 4,
 "nbformat_minor": 2
}