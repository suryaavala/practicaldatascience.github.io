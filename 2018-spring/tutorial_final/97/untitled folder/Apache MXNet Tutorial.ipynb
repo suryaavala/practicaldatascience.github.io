{
 "cells": [
  {
   "cell_type": "markdown",
   "metadata": {},
   "source": [
    "# MNIST Classification using Apache MXNet\n",
    "---\n",
    "## Introduction\n",
    "Apache MXNet is an open-source deep learning framework used to train and deploy deep neural networks. It is scalable, allowing for fast model training, and supports multiple languages (C++, Python, R, Scala, etc.). MXNet has two high-level interfaces: the `Gluon` API for imperative programming and the `Module` API for symbolic programming. We will focus on using the `Gluon` API for this tutorial. An imperative model works better for real-time/stochastic models because the graph is able to be modified over time. \n",
    "\n",
    "MXNet is being used by major cloud services companies, such as Amazon AWS and Microsoft Azure as their deep learning framework of choice.\n",
    "\n",
    "MXNet is supported by Intel, Dato, Baidu, Microsoft, Wolfram Research, and research institutions such as Carnegie Mellon, MIT,University of Washington, and Hong Kong University of Science and Technology.\n",
    "\n",
    "The following table compares the top deep learning frameworks based on a series of metrics.\n",
    "\n",
    "![deep learning comparisons](./assets/comparisons.png)\n",
    "\n",
    "In the image below, data is preprocessed in an imperative language at the top and the network is declared symbolically at the bottom.\n",
    "\n",
    "![programming paradigms](./assets/paradigms.jpeg)\n",
    "\n",
    "---"
   ]
  },
  {
   "cell_type": "markdown",
   "metadata": {},
   "source": [
    "## Installation for MacOS\n",
    "### MXNet installation\n",
    "If installing for a different operating system, refer to the official [installation instructions](https://mxnet.apache.org/install/index.html).\n",
    "\n",
    "**Step 1** Install prerequisites - Homebrew, python development tools.\n",
    "\n",
    "```\n",
    "# Install Homebrew\n",
    "$ /usr/bin/ruby -e \"$(curl -fsSL https://raw.githubusercontent.com/Homebrew/install/master/install)\"\n",
    "$ export PATH=/usr/local/bin:/usr/local/sbin:$PATH\n",
    "# Install python development tools - python2.7, pip, python-setuptools\n",
    "$ brew install python\n",
    "```\n",
    "\n",
    "**Step 2** Install MXNet with OpenBLAS acceleration.\n",
    "\n",
    "Installing MXNet with pip requires a latest version of `pip`. Install the latest version of `pip` by issuing the following command.\n",
    "```\n",
    "$ pip install --upgrade pip\n",
    "$ pip install --upgrade setuptools\n",
    "```\n",
    "\n",
    "```\n",
    "$ pip install mxnet\n",
    "```\n",
    "\n",
    "**Step 3** Install Graphviz. (Optional, needed for graph visualization using mxnet.viz package).\n",
    "```\n",
    "$ brew install graphviz\n",
    "$ pip install graphviz\n",
    "```\n",
    "### Validate MXNet installation\n",
    "Start the python terminal.\n",
    "```\n",
    "$ python\n",
    "```\n",
    "Run a short MXNet python program to create a 2X3 matrix of ones, multiply each element in the matrix by 2 followed by adding 1. We expect the output to be a 2X3 matrix with all elements being 3.\n",
    "```\n",
    ">>> import mxnet as mx\n",
    ">>> a = mx.nd.ones((2, 3))\n",
    ">>> b = a * 2 + 1\n",
    ">>> b.asnumpy()\n",
    "array([[ 3.,  3.,  3.],\n",
    "       [ 3.,  3.,  3.]], dtype=float32)\n",
    "```\n",
    "\n",
    "### matplotlib installation \n",
    "We will be using matplotlib to make visualize our data and learned model for linear regression.\n",
    "\n",
    "**Step 1** `pip install matplotlib`\n",
    "\n",
    "---"
   ]
  },
  {
   "cell_type": "markdown",
   "metadata": {},
   "source": [
    "## Part I: Linear Regression with Apache MXNet\n",
    "A deep learning library isn't needed to do the fairly simple task of linear regression with polynomial features. However, working through this problem will introduce us to the mechanics of MXNet and give us a crash course on how to use the library. "
   ]
  },
  {
   "cell_type": "code",
   "execution_count": 1,
   "metadata": {
    "scrolled": false
   },
   "outputs": [
    {
     "name": "stderr",
     "output_type": "stream",
     "text": [
      "/Users/jasonbak/anaconda3/lib/python3.6/site-packages/urllib3/contrib/pyopenssl.py:46: DeprecationWarning: OpenSSL.rand is deprecated - you should use os.urandom instead\n",
      "  import OpenSSL.SSL\n"
     ]
    }
   ],
   "source": [
    "import mxnet as mx\n",
    "from mxnet import nd, autograd, gluon\n",
    "import matplotlib.pyplot as plt"
   ]
  },
  {
   "cell_type": "markdown",
   "metadata": {},
   "source": [
    "### `NDArrays`\n",
    "`NDArrays` are a core data structure to MXNet. They execute code lazily, allowing for parallelization. By design, `NDArray` is similar to NumPy's multi-dimensional array. However, `NDArray` has a few advantages. \n",
    "\n",
    "1) `NDArray` support asynchronous computation on CPU, GPU, and distributed cloud architectures.\n",
    "\n",
    "2) They provide support for automatic differentiation (one function call to perform gradient descent)\n",
    "\n",
    "Many `NumPy` methods have `NDArray` counterparts with almost identical syntax. For example NumPy has `np.zeros()`, `np.dot()`, and `np.random.normal()` while nd has `nd.zeros()`, `nd.dot()`, and `nd.random_normal()`."
   ]
  },
  {
   "cell_type": "markdown",
   "metadata": {},
   "source": [
    "### Set the context\n",
    "Every `NDArray` has a context, either a CPU or one of various available GPUs. By assigning arrays to contexts intelligently, we can optimize the performance of our code. For example, when training neural networks on a server with a GPU, it is preferred for the model's parameters to live on the GPU to minimize the time spent transferring data between devices. \n",
    "\n",
    "MXNet can run identically on CPUs and GPUs. Even though my laptop doesn't have an Nvidia GPU, I can still write and run MXNet code that can easily be factored to work on GPU-enabled systems."
   ]
  },
  {
   "cell_type": "code",
   "execution_count": 2,
   "metadata": {
    "collapsed": true
   },
   "outputs": [],
   "source": [
    "data_ctx = mx.cpu()\n",
    "model_ctx = mx.cpu()"
   ]
  },
  {
   "cell_type": "markdown",
   "metadata": {
    "collapsed": true
   },
   "source": [
    "### Generate data with the help of `NDArray`\n",
    "We'll generate dummy data, `x`, to model by sampling from a uniform distribution. The labels will be generated according to the true labeling function $y = 5x^4 + 3.5x + 3 + \\epsilon$, for $\\epsilon \\sim \\mathscr{N}(0,\\sigma^2)$"
   ]
  },
  {
   "cell_type": "code",
   "execution_count": 3,
   "metadata": {},
   "outputs": [
    {
     "data": {
      "image/png": "[encoded data removed]",
      "text/plain": [
       "<matplotlib.figure.Figure at 0x1a16193668>"
      ]
     },
     "metadata": {},
     "output_type": "display_data"
    }
   ],
   "source": [
    "# Help get train data in the final form\n",
    "num_inputs = 1\n",
    "num_examples = 1000\n",
    "raw_data = nd.random.uniform(low=-1, high=1, shape=(num_examples,\n",
    "    num_inputs))\n",
    "\n",
    "# Set up training data\n",
    "num_features = 2\n",
    "raw_train_data = nd.ones((num_examples, num_features), ctx=data_ctx)\n",
    "raw_train_data[:,0] = (raw_data[:,0]**4)\n",
    "raw_train_data[:,1] = (raw_data[:,0])\n",
    "train_noise = 0.5*nd.random.normal(shape=(num_examples,), ctx=data_ctx)\n",
    "def actualFunc(raw_train_data):\n",
    "    return 5*raw_train_data[:, 0] + 3.5*raw_train_data[:, 1] + 3\n",
    "train_label = actualFunc(raw_train_data) + train_noise\n",
    "\n",
    "plt.plot(raw_data.asnumpy(), train_label.asnumpy(), '.')\n",
    "plt.title('Dummy data')\n",
    "plt.xlabel('X')\n",
    "plt.ylabel('Y')\n",
    "plt.show()"
   ]
  },
  {
   "cell_type": "markdown",
   "metadata": {},
   "source": [
    "Our goal is to learn a labeling function that best fits the data points. We can use this function to predict the Y values for new data points. Our labeling function will be in the form of:\n",
    "\n",
    "$$\\hat{y} = Xw + b$$ \n",
    "\n",
    "where `X` is the data, `w` is the desired weight vector, `b` is the bias term, and $\\hat{y}$ is the predictions corresponding to `X`, "
   ]
  },
  {
   "cell_type": "markdown",
   "metadata": {},
   "source": [
    "### `Data Iterators`\n",
    "`Data Iterators` allow us to construct data batches from the overall training data. We can iterate over the data batches during training. Specifically, we will work the the `DataLoader` and `ArrayDataset` classes.\n",
    "\n",
    "`ArrayDataset` allows us to combines multiple dataset-like objects, like `NDArrays`. To load `raw_train_data` and `train_label` into the `ArrayDataset` object. These two inputs must have the same number of rows."
   ]
  },
  {
   "cell_type": "code",
   "execution_count": 4,
   "metadata": {
    "scrolled": true
   },
   "outputs": [
    {
     "name": "stdout",
     "output_type": "stream",
     "text": [
      "Length of raw_train_data: 1000\n",
      "Length of train_label: 1000\n"
     ]
    }
   ],
   "source": [
    "print('Length of raw_train_data:', raw_train_data.shape[0])\n",
    "print('Length of train_label:', train_label.shape[0])\n",
    "\n",
    "train_dataset = gluon.data.ArrayDataset(raw_train_data, train_label)"
   ]
  },
  {
   "cell_type": "markdown",
   "metadata": {},
   "source": [
    "We will pass in the `ArrayDataset` object to a `DataLoader` constructor. The `DataLoader` object will be an iterator used to return mini-batches of data and their corresponding labels during training.\n",
    "\n",
    "`batch_size` specifies how many examples we want to show to the model for each iteration of training. `shuffle` tells the iterator to randomize the order in which examples are shown to the model."
   ]
  },
  {
   "cell_type": "code",
   "execution_count": 5,
   "metadata": {
    "scrolled": true
   },
   "outputs": [
    {
     "name": "stdout",
     "output_type": "stream",
     "text": [
      "\n",
      "[[  1.38864204e-01   6.10446453e-01]\n",
      " [  2.30136067e-01   6.92621827e-01]\n",
      " [  1.70113470e-08  -1.14204884e-02]\n",
      " [  6.27444208e-01   8.90007734e-01]\n",
      " [  8.35205615e-01   9.55978990e-01]\n",
      " [  1.06057383e-01   5.70670247e-01]\n",
      " [  1.54881284e-01  -6.27335310e-01]\n",
      " [  3.88014922e-03  -2.49581337e-01]\n",
      " [  1.62175432e-01  -6.34594440e-01]\n",
      " [  1.04707740e-01  -5.68845987e-01]\n",
      " [  1.22156106e-02  -3.32451880e-01]\n",
      " [  3.00860584e-01   7.40612984e-01]\n",
      " [  1.65105890e-02   3.58459949e-01]\n",
      " [  1.88307259e-02   3.70439053e-01]\n",
      " [  3.65949672e-05   7.77777433e-02]\n",
      " [  2.88586250e-07  -2.31776237e-02]\n",
      " [  9.00550839e-03  -3.08054149e-01]\n",
      " [  8.84324163e-02  -5.45321822e-01]\n",
      " [  4.16762754e-02  -4.51827049e-01]\n",
      " [  7.69363251e-05  -9.36554074e-02]\n",
      " [  3.86915579e-02   4.43510652e-01]\n",
      " [  1.94181830e-01   6.63822770e-01]\n",
      " [  9.12568625e-03  -3.09076786e-01]\n",
      " [  2.67692715e-01  -7.19298482e-01]\n",
      " [  7.59214610e-02  -5.24917603e-01]\n",
      " [  7.28887366e-03  -2.92189837e-01]\n",
      " [  1.55344801e-02   3.53040218e-01]\n",
      " [  9.51564983e-02   5.55404782e-01]\n",
      " [  1.02698825e-01  -5.66097677e-01]\n",
      " [  3.44493799e-03   2.42267609e-01]\n",
      " [  2.26782635e-02   3.88063192e-01]\n",
      " [  7.78309166e-01   9.39264774e-01]]\n",
      "<NDArray 32x2 @cpu(0)> \n",
      "[  6.0816617    6.63217735   3.38780308   9.61941242  10.10465431\n",
      "   6.15201378   2.52856684   1.89765704   1.81391382   0.79229105\n",
      "   2.6413312    6.62339258   5.39738369   4.65433025   3.49619174\n",
      "   4.16803741   2.13010883   1.85147321   1.98474419   2.46159101\n",
      "   4.06217527   6.58020782   1.79149318   1.345083     0.15573227\n",
      "   1.94266212   4.17931557   5.94065189   0.808029     3.87232494\n",
      "   5.51862717  10.57922077]\n",
      "<NDArray 32 @cpu(0)>\n"
     ]
    }
   ],
   "source": [
    "# Create data iterators\n",
    "batch_size = 32\n",
    "train_data = gluon.data.DataLoader(train_dataset, batch_size=batch_size, shuffle=True)\n",
    "\n",
    "for (data, label) in train_data:\n",
    "    print(data, label)\n",
    "    break"
   ]
  },
  {
   "cell_type": "markdown",
   "metadata": {},
   "source": [
    "### Define the model\n",
    "`gluon` allows us to compose a network from predefined layers. For a linear model, the appropriate layer to use is `Dense` because every node in the input is connected to every node in the subsequent layer.\n",
    "\n",
    "`gluon` can infer the shape of our parameters. In other words, we can specify the output dimension and leave the input dimension ambiguous for now."
   ]
  },
  {
   "cell_type": "code",
   "execution_count": 6,
   "metadata": {},
   "outputs": [],
   "source": [
    "# Output dimension=1 and explicit input dimension=2\n",
    "#net = gluon.nn.Dense(1, in_units=2)\n",
    "\n",
    "# Initialize the model and define the model's architecture\n",
    "net = gluon.nn.Dense(1)"
   ]
  },
  {
   "cell_type": "markdown",
   "metadata": {},
   "source": [
    "### Initialize parameters\n",
    "We can grab all of the networks parameters in a `gluon.parameter.ParameterDict` object by running the following code."
   ]
  },
  {
   "cell_type": "code",
   "execution_count": 7,
   "metadata": {
    "scrolled": true
   },
   "outputs": [
    {
     "data": {
      "text/plain": [
       "dense0_ (\n",
       "  Parameter dense0_weight (shape=(1, 0), dtype=<class 'numpy.float32'>)\n",
       "  Parameter dense0_bias (shape=(1,), dtype=<class 'numpy.float32'>)\n",
       ")"
      ]
     },
     "execution_count": 7,
     "metadata": {},
     "output_type": "execute_result"
    }
   ],
   "source": [
    "net.collect_params()"
   ]
  },
  {
   "cell_type": "markdown",
   "metadata": {},
   "source": [
    "We initialize parameters by calling the `initialize()` method on a `ParameterDict`. We will pass in an initializer (a probability distribution used to generate values) and a context for where the parameters should reside.\n",
    "\n",
    "Though we call `initialize()`, parameter initialization is deferred until needed, i.e., on the first forward pass."
   ]
  },
  {
   "cell_type": "code",
   "execution_count": 8,
   "metadata": {},
   "outputs": [],
   "source": [
    "# Initialize model's parameters from a Normal distribution with std dev of 0.05\n",
    "net.collect_params().initialize(mx.init.Normal(sigma=0.05), ctx=model_ctx)"
   ]
  },
  {
   "cell_type": "markdown",
   "metadata": {},
   "source": [
    "### Define loss\n",
    "We need to use a function that helps the model understand what a better set of values for our predicted weights are. Loss functions take (output, label) pairs and compute a scalar that represents the performance of our current model. We’re going to use a squared error loss function."
   ]
  },
  {
   "cell_type": "code",
   "execution_count": 9,
   "metadata": {
    "collapsed": true
   },
   "outputs": [],
   "source": [
    "# Define loss function (how well the model is able to correctly predict)\n",
    "square_loss = gluon.loss.L2Loss()"
   ]
  },
  {
   "cell_type": "markdown",
   "metadata": {},
   "source": [
    "### Optimization algorithm\n",
    "We need to optimize the learned parameters of our model to minimize the loss function, i.e., optimize performance of our model. \n",
    "\n",
    "A common optimizer to use is stochastic gradient descent (SGD). At each step, we estimate the gradient of the loss function with respect to our learned weights, using one batch randomly drawn from our dataset. Then, we update our parameters a small amount in the direction that reduces the loss. The size of the step is determined by the learning rate.\n",
    "\n",
    "We can instantiate an optimizer of type `gluon.Trainer` with a `gluon.parameter.ParameterDict` to help us perform SGD."
   ]
  },
  {
   "cell_type": "code",
   "execution_count": 10,
   "metadata": {
    "collapsed": true
   },
   "outputs": [],
   "source": [
    "# Use SGD training algorithm\n",
    "trainer = gluon.Trainer(net.collect_params(), 'sgd', {'learning_rate':0.1})"
   ]
  },
  {
   "cell_type": "markdown",
   "metadata": {},
   "source": [
    "### Execute training loop\n",
    "For some number of `epochs`, we grab a batch of inputs to use to update our model parameters and completely pass over the dataset `(train_data)` to calculate our loss for our updated model parameters.\n",
    "\n",
    "`autograd` records a computation graph to calculate gradients. Building the computation graph requires a non-trivial amount of work, so MXNet only builds the graph when instructed to. We can tell MXNet to start generating the graph inside a `with autograd.record()` block. We'll continually report metrics to see how our model if performing at the end of every epoch."
   ]
  },
  {
   "cell_type": "code",
   "execution_count": 11,
   "metadata": {},
   "outputs": [
    {
     "name": "stdout",
     "output_type": "stream",
     "text": [
      "Epoch 1, loss: 0.0896242829263\n",
      "Epoch 2, loss: 0.0180958600789\n",
      "Epoch 3, loss: 0.0118076176941\n",
      "Epoch 4, loss: 0.00871423504129\n",
      "Epoch 5, loss: 0.00722783204913\n",
      "Epoch 6, loss: 0.00620109848678\n",
      "Epoch 7, loss: 0.00551332327724\n",
      "Epoch 8, loss: 0.00513597278297\n",
      "Epoch 9, loss: 0.00474290190637\n",
      "Epoch 10, loss: 0.00464173685759\n"
     ]
    }
   ],
   "source": [
    "epochs = 10\n",
    "for e in range(epochs):\n",
    "    cumulative_loss = 0\n",
    "    for data, label in train_data:\n",
    "        with autograd.record(): # Start recording gradients\n",
    "            # Generate predictions on the forward pass\n",
    "            output = net(data)\n",
    "            # Calcualte loss\n",
    "            loss = square_loss(output, label)\n",
    "            # Perform backprop\n",
    "            loss.backward()\n",
    "        # Update parameters\n",
    "        trainer.step(batch_size)\n",
    "        cumulative_loss += nd.mean(loss).asscalar()\n",
    "    # After each epoch, report loss on training\n",
    "    print(\"Epoch %s, loss: %s\" % (e+1, cumulative_loss / num_examples))"
   ]
  },
  {
   "cell_type": "markdown",
   "metadata": {},
   "source": [
    "### Verifying our model's performance\n",
    "We've finished training and can grab the weights our model has learned."
   ]
  },
  {
   "cell_type": "code",
   "execution_count": 12,
   "metadata": {},
   "outputs": [
    {
     "name": "stdout",
     "output_type": "stream",
     "text": [
      "dense0_weight \n",
      "[[ 4.51768827  3.45234132]]\n",
      "<NDArray 1x2 @cpu(0)>\n",
      "dense0_bias \n",
      "[ 3.15197945]\n",
      "<NDArray 1 @cpu(0)>\n"
     ]
    }
   ],
   "source": [
    "# Retrieve learned model's parameters\n",
    "params = net.collect_params()\n",
    "for param in params.values():\n",
    "    print(param.name,param.data())"
   ]
  },
  {
   "cell_type": "markdown",
   "metadata": {},
   "source": [
    "We can plot a best-fit curve on top of our data to see how well we modeled the data."
   ]
  },
  {
   "cell_type": "code",
   "execution_count": 13,
   "metadata": {},
   "outputs": [
    {
     "data": {
      "image/png": "[encoded data removed]",
      "text/plain": [
       "<matplotlib.figure.Figure at 0x10f591438>"
      ]
     },
     "metadata": {},
     "output_type": "display_data"
    }
   ],
   "source": [
    "b2 = 4.51768827\n",
    "b1 = 3.45234132\n",
    "b0 = 3.15197945\n",
    "\n",
    "plt.plot(raw_data.asnumpy(), train_label.asnumpy(), '.')\n",
    "x_values = nd.arange(-1,stop=1,step=0.1)\n",
    "train_pred = b2*x_values**4 + b1*x_values + b0\n",
    "plt.plot(x_values.asnumpy(), train_pred.asnumpy(), color='r')\n",
    "plt.title('Dummy data with learned regression curve')\n",
    "plt.xlabel('X')\n",
    "plt.ylabel('Y')\n",
    "plt.show()"
   ]
  },
  {
   "cell_type": "markdown",
   "metadata": {},
   "source": [
    "Now we know how to do linear regression in MXNet. Next, we'll look at how these basic MXNet concepts translate to a more advanced task - classification using neural networks.\n",
    "\n",
    "---"
   ]
  },
  {
   "cell_type": "markdown",
   "metadata": {
    "collapsed": true
   },
   "source": [
    "## Part II: Handwritten digit classification using CNN\n",
    "In our second task, we will build a deep neural network called a multilayer perceptron (MLP) to classify hand-written digits. We will use the MNIST dataset, which is a collection of 28x28 greyscale images of handwritten digits and their correct labels.\n",
    "\n",
    "The model we will build is purposely similar to the one we built for linear regression to show the power of abstraction using a deep learning library like Apache MXNet affords us. The main difference is the way we define our model. We will use `gluon.nn.Sequential` because it provides a way to rapidly add layers to our neural network. \n",
    "\n",
    "First, we'll want to set the contexts for our data and models."
   ]
  },
  {
   "cell_type": "code",
   "execution_count": 14,
   "metadata": {
    "collapsed": true
   },
   "outputs": [],
   "source": [
    "# Set the context\n",
    "data_ctx = mx.cpu()\n",
    "model_ctx = mx.cpu()"
   ]
  },
  {
   "cell_type": "markdown",
   "metadata": {
    "collapsed": true
   },
   "source": [
    "### The MNIST dataset and defining a `Data Iterator`\n",
    "Before we define the model, we need to fetch the MNIST dataset. Luckily MXNet has a function that grabs this exact dataset.\n",
    "\n",
    "The data comes in the form a 28x28 array, where each element is a pixel value. We will reshape the data into a flat 1-D structure of 784 (28*28) pixel values to enable easy processing and convert the arrays to the MXNet native NDArray object class.\n",
    "\n",
    "We can use the `DataLoader` and `ArrayDataset` as a `Data Iterators` again to quickly and efficiently stream data into a training algorithm."
   ]
  },
  {
   "cell_type": "code",
   "execution_count": 15,
   "metadata": {
    "collapsed": true
   },
   "outputs": [],
   "source": [
    "# Import the dataset using a native MXNet utils function\n",
    "raw_data = mx.test_utils.get_mnist()\n",
    "\n",
    "# We have 28*28=784 pixels; flatten all the pixels\n",
    "# Set up the training data and reshape the pictures\n",
    "raw_train_data_np = raw_data['train_data'].reshape((-1, 784))\n",
    "raw_train_data = mx.nd.array(raw_train_data_np, ctx=data_ctx)\n",
    "train_label_np = mx.nd.array(raw_data['train_label'])\n",
    "train_label = mx.nd.array(train_label_np, ctx=data_ctx)\n",
    "num_examples = raw_train_data.shape[0]\n",
    "\n",
    "# Set up the test data and reshape the pictures\n",
    "test_data_np = raw_data['test_data'].reshape((-1, 784))\n",
    "test_data = mx.nd.array(test_data_np)\n",
    "test_label_np = raw_data['test_label']\n",
    "test_label = mx.nd.array(test_label_np, ctx=data_ctx)\n",
    "\n",
    "train_dataset = gluon.data.ArrayDataset(raw_train_data, train_label)\n",
    "batch_size = 32\n",
    "train_data = gluon.data.DataLoader(train_dataset, batch_size=batch_size, shuffle=True)"
   ]
  },
  {
   "cell_type": "markdown",
   "metadata": {},
   "source": [
    "### Define a sequential model\n",
    "An MLP is a sequential model, which mean it consist of a chain of fully connected layers. A fully connected layer is one in which each neuron (node) in the layer is connected to every neuron in the subsequent layer. \n",
    "\n",
    "We can define the sequential mode with `gluon.nn.Sequential`. We can compose multiple layers together into a neural network by using `net.add(...)`\n",
    "\n",
    "In an MLP, outputs of most  fully connected layers are fed into an activation function, which gives the network the ability to classify inputs that are not linearly separable. We have a design choice for which activation functions we use. For this example, we'll use the common sigmoid and rectifier linear unit (ReLU) functions.\n",
    "\n",
    "We will build a MLP with the following architecture:\n",
    "\n",
    "- Input layer: an array of 28*28=784 pixel values\n",
    "- 1st layer: 64 neurons activated by the sigmoid function\n",
    "- 2nd layer: 64 neurons activated by the ReLU function\n",
    "- Output layer: 10 neurons (for our 10 categories; one for each of 10 possible digits)."
   ]
  },
  {
   "cell_type": "code",
   "execution_count": 16,
   "metadata": {
    "collapsed": true
   },
   "outputs": [],
   "source": [
    "# Initialize the model\n",
    "net = gluon.nn.Sequential()\n",
    "# Define the model's architecture\n",
    "num_hidden = 64\n",
    "with net.name_scope():\n",
    "    # 1st layer\n",
    "    net.add(gluon.nn.Dense(num_hidden, activation=\"sigmoid\"))\n",
    "    # 2nd layer\n",
    "    net.add(gluon.nn.Dense(num_hidden, activation=\"relu\"))\n",
    "    # Output layer\n",
    "    net.add(gluon.nn.Dense(10))"
   ]
  },
  {
   "cell_type": "markdown",
   "metadata": {},
   "source": [
    "### Parameter initialization\n",
    "We'll use the `initialize()` method on a `ParameterDict` as we did in linear regression."
   ]
  },
  {
   "cell_type": "code",
   "execution_count": 17,
   "metadata": {
    "collapsed": true
   },
   "outputs": [],
   "source": [
    "# Initialize model's parameters from a Normal distribution with std dev of 0.05\n",
    "net.collect_params().initialize(mx.init.Normal(sigma=0.05), ctx=model_ctx)"
   ]
  },
  {
   "cell_type": "markdown",
   "metadata": {},
   "source": [
    "### Loss function\n",
    "We'll use the softmax cross entropy loss function to measure how well our model is performing."
   ]
  },
  {
   "cell_type": "code",
   "execution_count": 18,
   "metadata": {
    "collapsed": true
   },
   "outputs": [],
   "source": [
    "# Define loss function (how well the model is able to correctly predict)\n",
    "softmax_cross_entropy = gluon.loss.SoftmaxCrossEntropyLoss()"
   ]
  },
  {
   "cell_type": "markdown",
   "metadata": {},
   "source": [
    "### Optimizer\n",
    "We'll use SGD as our optimizer again."
   ]
  },
  {
   "cell_type": "code",
   "execution_count": 19,
   "metadata": {
    "collapsed": true
   },
   "outputs": [],
   "source": [
    "# Use SGD training algorithm\n",
    "trainer = gluon.Trainer(net.collect_params(), 'sgd', {'learning_rate':0.1})"
   ]
  },
  {
   "cell_type": "markdown",
   "metadata": {},
   "source": [
    "### Training loop\n",
    "We defined our network, input, and loss functions at a high-level. So we can actually use the same exact code from the linear regression training loop for our MLP training loop."
   ]
  },
  {
   "cell_type": "code",
   "execution_count": 20,
   "metadata": {
    "scrolled": true
   },
   "outputs": [
    {
     "name": "stdout",
     "output_type": "stream",
     "text": [
      "Epoch 1, loss: 0.0239177005344\n",
      "Epoch 2, loss: 0.00883275447488\n",
      "Epoch 3, loss: 0.00642959712379\n",
      "Epoch 4, loss: 0.00504233574094\n",
      "Epoch 5, loss: 0.00418490802585\n",
      "Epoch 6, loss: 0.003593439972\n",
      "Epoch 7, loss: 0.00316399939778\n",
      "Epoch 8, loss: 0.00283676895007\n",
      "Epoch 9, loss: 0.00251428466857\n",
      "Epoch 10, loss: 0.00227561734641\n"
     ]
    }
   ],
   "source": [
    "epochs = 10\n",
    "for e in range(epochs):\n",
    "    cumulative_loss = 0\n",
    "    for data,label in train_data:\n",
    "        with autograd.record(): # Start recording gradients\n",
    "            # Generate predictions on the the forward pass\n",
    "            output = net(data)\n",
    "            # Calculate loss\n",
    "            loss = softmax_cross_entropy(output, label)\n",
    "            # Perform backprop\n",
    "            loss.backward()\n",
    "        # Update parameters\n",
    "        trainer.step(batch_size)\n",
    "        cumulative_loss += nd.mean(loss).asscalar()\n",
    "    # After each epoch, report loss on training\n",
    "    print(\"Epoch %s, loss: %s\" % (e+1, cumulative_loss / num_examples))"
   ]
  },
  {
   "cell_type": "markdown",
   "metadata": {},
   "source": [
    "### Verify model"
   ]
  },
  {
   "cell_type": "markdown",
   "metadata": {},
   "source": [
    "We'll report the final accuracy on test data because it tells us the accuracy rate on data not seen during training. If training data accuracy is high while test data accuracy is low, our model may have over-fit to the training data and we would need to decrease the complexity of our model."
   ]
  },
  {
   "cell_type": "code",
   "execution_count": 21,
   "metadata": {},
   "outputs": [
    {
     "name": "stdout",
     "output_type": "stream",
     "text": [
      "EvalMetric: {'accuracy': 0.96819999999999995}\n"
     ]
    }
   ],
   "source": [
    "# Calculate and report accuracy of predictions from our learned model\n",
    "acc = mx.metric.Accuracy()\n",
    "output = net(test_data)\n",
    "predictions = nd.argmax(output, axis=1)\n",
    "acc.update(preds=predictions, labels=test_label)\n",
    "print(acc)"
   ]
  }
 ],
 "metadata": {
  "kernelspec": {
   "display_name": "Python 3",
   "language": "python",
   "name": "python3"
  },
  "language_info": {
   "codemirror_mode": {
    "name": "ipython",
    "version": 3
   },
   "file_extension": ".py",
   "mimetype": "text/x-python",
   "name": "python",
   "nbconvert_exporter": "python",
   "pygments_lexer": "ipython3",
   "version": "3.6.3"
  }
 },
 "nbformat": 4,
 "nbformat_minor": 2
}
