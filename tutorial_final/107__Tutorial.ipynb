{
 "cells": [
  {
   "cell_type": "markdown",
   "metadata": {},
   "source": [
    "DOTA 2 Data Analysis\n",
    "===========\n",
    "* * *\n",
    "\n",
    "## Introduction ##\n",
    "\n",
    "> ** Dota 2 ** is a multiplayer online battle arena (MOBA) video game on Steam that is famous all over the world. It is played in matches between two teams of five players, with each team occupying and defending their own separate base on the map. Each of the ten players independently controls a powerful character, known as a \"hero\", who all have unique abilities and differing styles of play. During a match, players collect experience points and items for their heroes to successfully battle the opposing team's heroes in player versus player combat. A team wins by being the first to destroy a large structure located in the opposing team's base, called \"The Ancient\". (From Wikipedia)\n",
    "\n",
    "![Failed to load pic](http://assets1.ignimgs.com/2017/05/05/dota-2-1280-1493953406643_480w.jpg \"Dota 2\")\n",
    "\n",
    "As a big fan of Dota, I'm always asking myself this question after losing a match\n",
    "\n",
    "### Why I cannot win this game? ###\n",
    "\n",
    "- Did I select the wrong hero?\n",
    "\n",
    "- Did I die for too many times?\n",
    "\n",
    "- Would it be better if I choose another item?\n",
    "\n",
    "One idea came to my mind : maybe it's time to do some research on the Dota 2 data !\n",
    "\n",
    "** If you: **\n",
    "\n",
    "- have the same trouble, struggling in finding ways to improve your Dota 2 skills \n",
    "\n",
    "- are fresh in this game, wanting to quickily get more information\n",
    "\n",
    "- have no interest in Dota, just curious about why so many people addicted to this game:\n",
    "\n",
    "** This tutorial is created for you ! **\n",
    "\n",
    "### Tutorial content ###\n",
    "\n",
    "In this tutorial, we will cover three topics regarding ** Dota 2 data analysis: **\n",
    "\n",
    "- [Obtaining Dota 2 data](#Obtaining-Dota-2-data)\n",
    "\n",
    "- [Understanding Dota 2 data](#Understanding-Dota-2-data)\n",
    "\n",
    "- [Analysing Dota 2 data](#Analysing-Dota-2-data)\n",
    "\n",
    "> Talk is cheap, let's go to the code\n",
    "\n",
    "* * *"
   ]
  },
  {
   "cell_type": "markdown",
   "metadata": {},
   "source": [
    "## Part 1: Obtaining Dota 2 data "
   ]
  },
  {
   "cell_type": "markdown",
   "metadata": {},
   "source": [
    "There are millions of Dota2 matches happening every day. How can we get the data of these matches? There are multiple ways we can do that.\n",
    "### Method 1: dota2api ###\n",
    "Actually, Valve (The company who created Dota 2) has already opened all the Dota 2 data resources to us. If you want to access this data, you can directly use dota2api.\n",
    "\n",
    "To use [dota2api](https://dota2api.readthedocs.io/en/latest/tutorial.html#), first you need to apply for a Steam Web API key at this [link](https://steamcommunity.com/dev/apikey). If you do not have a Steam account, you can apply for that at this [link](https://store.steampowered.com/join/) first.\n",
    "\n",
    "Next step is to install dota2api by:\n",
    "<pre><code>pip install dota2api</code></pre>\n",
    "\n",
    "You can choose to set the API key as environment variable in Linux:\n",
    "<pre><code>$ export D2_API_KEY=83247983248793298732</code></pre>\n",
    "and initialize the module:\n",
    "<pre><code>api = dota2api.Initialise()</code></pre>\n",
    "\n",
    "Or you can direcly initialise the module:\n",
    "<pre><code>api = dota2api.Initialise(\"{api_key}\", raw_mode=True)</code></pre>\n",
    "\n",
    "Finally, you can get the match data:\n",
    "<pre><code>match = api.get_match_details(match_id={match_id})</code></pre>\n",
    "\n",
    "In this way, the data of match with the {match_id} will be in json format.\n",
    "\n",
    "Let's take one recent game - \n",
    "\n",
    "** Evil Geniuses(Radiant) ** Vs ** VGJ Thunder(Dire) **\n",
    "\n",
    "at Dota 2 Asia Championship 2018 for an example.\n",
    "\n",
    "I got the match_id <font color =green> 3805240127 </font> from https://www.dotabuff.com/matches.\n",
    "\n",
    "First, I stored my api-key in a file 'api_key.txt' and read this file before initializing the api. Then I can call the dota2api as I mentioned above."
   ]
  },
  {
   "cell_type": "code",
   "execution_count": 1,
   "metadata": {
    "collapsed": true
   },
   "outputs": [],
   "source": [
    "import dota2api"
   ]
  },
  {
   "cell_type": "code",
   "execution_count": 2,
   "metadata": {
    "collapsed": true
   },
   "outputs": [],
   "source": [
    "def read_api_key(filepath):\n",
    "    with open(filepath, 'r') as f:\n",
    "        return f.read().replace('\\n','')\n",
    "    \n",
    "api = dota2api.Initialise(read_api_key('api_key.txt'), raw_mode=True)\n",
    "\n",
    "# the type return by api.get_match_details(match_id=3805240127) would be dota2dict, we can simple convert it into dict\n",
    "match_data = dict(api.get_match_details(match_id=3805240127))"
   ]
  },
  {
   "cell_type": "code",
   "execution_count": 3,
   "metadata": {},
   "outputs": [
    {
     "data": {
      "text/plain": [
       "dict_keys(['players', 'radiant_win', 'duration', 'pre_game_duration', 'start_time', 'match_id', 'match_seq_num', 'tower_status_radiant', 'tower_status_dire', 'barracks_status_radiant', 'barracks_status_dire', 'cluster', 'first_blood_time', 'lobby_type', 'human_players', 'leagueid', 'positive_votes', 'negative_votes', 'game_mode', 'flags', 'engine', 'radiant_score', 'dire_score', 'radiant_team_id', 'radiant_name', 'radiant_logo', 'radiant_team_complete', 'dire_team_id', 'dire_name', 'dire_logo', 'dire_team_complete', 'radiant_captain', 'dire_captain', 'picks_bans'])"
      ]
     },
     "execution_count": 3,
     "metadata": {},
     "output_type": "execute_result"
    }
   ],
   "source": [
    "match_data.keys()"
   ]
  },
  {
   "cell_type": "markdown",
   "metadata": {},
   "source": [
    "In this way, you can get the match data to store in a ** dict **. But what if you really don't want to apply for the api key? Or is there any other method seems more convenient?\n",
    "\n",
    "### Method 2: opendota api ###\n",
    "\n",
    "** Lukily, there is. ** \n",
    "\n",
    "[Opendota api](https://docs.opendota.com/#section/Introduction#) api is a ReSTfu API that you could send ** GET ** request and get the response in json format.  To use this api, you don't need any api key. \n",
    "\n",
    "If you want to do the same thing above, you can call:\n",
    "\n",
    "<pre><code>response = requests.get('https://api.opendota.com/api/matches/{match_id}').json()</code></pre>\n"
   ]
  },
  {
   "cell_type": "code",
   "execution_count": 4,
   "metadata": {
    "collapsed": true
   },
   "outputs": [],
   "source": [
    "import requests"
   ]
  },
  {
   "cell_type": "code",
   "execution_count": 5,
   "metadata": {
    "scrolled": true
   },
   "outputs": [
    {
     "data": {
      "text/plain": [
       "dict_keys(['match_id', 'barracks_status_dire', 'barracks_status_radiant', 'chat', 'cluster', 'cosmetics', 'dire_score', 'draft_timings', 'duration', 'engine', 'first_blood_time', 'game_mode', 'human_players', 'leagueid', 'lobby_type', 'match_seq_num', 'negative_votes', 'objectives', 'picks_bans', 'positive_votes', 'radiant_gold_adv', 'radiant_score', 'radiant_win', 'radiant_xp_adv', 'skill', 'start_time', 'teamfights', 'tower_status_dire', 'tower_status_radiant', 'version', 'replay_salt', 'series_id', 'series_type', 'league', 'radiant_team', 'dire_team', 'players', 'patch', 'region', 'all_word_counts', 'my_word_counts', 'throw', 'loss', 'replay_url'])"
      ]
     },
     "execution_count": 5,
     "metadata": {},
     "output_type": "execute_result"
    }
   ],
   "source": [
    "match_data_opendota = requests.get('https://api.opendota.com/api/matches/3805240127').json()\n",
    "match_data_opendota.keys()"
   ]
  },
  {
   "cell_type": "markdown",
   "metadata": {},
   "source": [
    "What if we want to get the data of ** all ** the matchs in Dota 2 Asia Championship 2018? \n",
    "\n",
    "Opendota api also provides a very convenient method called ** Explorer ** for us. Here you can search for the data just by SQL query in this format. \n",
    "\n",
    "<pre><code>requests.get('https://api.opendota.com/api/explorer/sql={query}')</code></pre>\n",
    "\n",
    "The schema for all the tables is provided  [here](https://github.com/odota/core/blob/master/sql/create_tables.sql).\n",
    "\n",
    "Thus, you could simply use this query!\n",
    "\n",
    "<pre><code>SELECT * FROM MATCHES WHERE LEAGUEID = {leagueid}</code></pre>\n",
    "\n",
    "Since the <font color = #BB2404> leagueid </font> for Dota 2 Asia Championship 2018 is <font color =green> 9643 </font>, the complete solution would be:"
   ]
  },
  {
   "cell_type": "code",
   "execution_count": 6,
   "metadata": {
    "collapsed": true
   },
   "outputs": [],
   "source": [
    "def get_data_from_query(query):\n",
    "    params = {\"sql\": query}\n",
    "    explorer_url = 'https://api.opendota.com/api/explorer'\n",
    "    dac_response = requests.get(explorer_url, params = params)\n",
    "    return dac_response.json()['rows']\n",
    "\n",
    "query = \"SELECT * FROM MATCHES WHERE LEAGUEID = 9643\"\n",
    "\n",
    "DAC_2018_data = get_data_from_query(query)"
   ]
  },
  {
   "cell_type": "code",
   "execution_count": 7,
   "metadata": {},
   "outputs": [
    {
     "data": {
      "text/plain": [
       "405"
      ]
     },
     "execution_count": 7,
     "metadata": {},
     "output_type": "execute_result"
    }
   ],
   "source": [
    "len(DAC_2018_data)"
   ]
  },
  {
   "cell_type": "markdown",
   "metadata": {},
   "source": [
    "The data you get from this query will be stored in 'rows' field, and it would be a list.\n",
    "\n",
    "** Another ** way to do that is to combine opendota matches api and opendota explorer. We can find all the match id first by explorer, and then use this id to get all the matches data by ** match_id **.\n",
    "\n",
    "** Remember, for opendota api, there is a rate limit at 3/s. **\n",
    "\n",
    "Here I provide a method for you to control the rate limit by rate_limited library\n",
    "\n",
    "To install that:\n",
    "\n",
    "<pre><code>pip install ratelimit</code></pre>\n",
    "\n",
    "Detailed solution is provided here:"
   ]
  },
  {
   "cell_type": "code",
   "execution_count": 8,
   "metadata": {
    "collapsed": true
   },
   "outputs": [],
   "source": [
    "from ratelimit import rate_limited\n",
    "\n",
    "query_match_id = \"select match_id from matches where leagueid = 9643\"\n",
    "match_ids = [x['match_id'] for x in get_data_from_query(query_match_id)]\n",
    "\n",
    "# here we set the rate limit at 3/s\n",
    "@rate_limited(3)\n",
    "def get_match_from_match_id(match_id):\n",
    "    matchs_url = 'https://api.opendota.com/api/matches/'\n",
    "    return requests.get((matchs_url + str(match_id))).json()\n",
    "\n",
    "matchs_list = [get_match_from_match_id(x) for x in match_ids]"
   ]
  },
  {
   "cell_type": "code",
   "execution_count": 9,
   "metadata": {},
   "outputs": [
    {
     "data": {
      "text/plain": [
       "405"
      ]
     },
     "execution_count": 9,
     "metadata": {},
     "output_type": "execute_result"
    }
   ],
   "source": [
    "len(matchs_list)"
   ]
  },
  {
   "cell_type": "markdown",
   "metadata": {},
   "source": [
    "## Part 2: Understanding Dota 2 data"
   ]
  },
  {
   "cell_type": "markdown",
   "metadata": {},
   "source": [
    "Since we already have the data, the next step is to ** understand ** the information in it.\n",
    "\n",
    "We could notice that there are a lot of fields in the data for one match. What do these fields really represent? To make it clear, here I list some fields with their description that are very ** important ** when we want to analyse the data.\n",
    "\n",
    "### Important Fileds ###\n",
    "\n",
    "><font color = #BB2404> radiant_win </font> : Indication of which side win the match (True: Radiant / False: Dire)\n",
    "><font color = #BB2404> radiant_score </font> : Number of kills on Radiant\n",
    "><font color = #BB2404> dire_score </font> : Number of kills on Dire\n",
    "><font color = #BB2404> picks_bans </font> : The choice of picking or baning hero from each team\n",
    "><font color = #BB2404> radiant_xp_advantage </font> : The experience advantage every minute for Radiant against Dire (negative means behind)\n",
    "><font color = #BB2404> radiant_gold_advantage </font> : The gold advantage every minute for Radiant against Dire (negative means behind)\n",
    "><font color = #BB2404> players </font> : Array of information on individual players\n",
    "><font color = #BB2404> teamfights </font> : The information of fights between both teams in this game\n",
    "><font color = #BB2404> radiant_team </font> : The team information of Radiant\n",
    "><font color = #BB2404> dire_team </font> : The team information of Dire\n",
    "\n",
    "The complete document could be accessed [here](https://api.opendota.com/api)\n",
    "\n",
    "We may concerned about the heroes each team selected, and played by which players. But <font color = #BB2404> picks_bans </font> will only provide the hero IDs, if we want to know what are the names of these heroes, we can use the following query:\n",
    "\n",
    "<pre><code>SELECT * FROM HEROES</code></pre>\n",
    "\n",
    "<font color = #BB2404> xp_per_min </font> and <font color = #BB2404> gold_per_min </font> inside <font color = #BB2404> players </font> <font color = #BB2404> benchmarks </font> are quite important during a match which indicate the overall performance of one player. <font color = #BB2404> \n",
    "\n",
    "item_0 </font> ,<font color = #BB2404> item_1 </font> ,<font color = #BB2404> item_2 </font>, <font color = #BB2404> item_3</font> ,<font color = #BB2404> item_4 </font> ,<font color = #BB2404> item_5 </font> inside <font color = #BB2404> players </font> <font color = #BB2404> benchmarks </font> also matter which tell us how did one player play his hero.\n",
    "\n",
    "Let's look at the match again -\n",
    "\n",
    "** Evil Geniuses(Radiant) VS VGJ Thunder(Dire) **"
   ]
  },
  {
   "cell_type": "code",
   "execution_count": 10,
   "metadata": {
    "collapsed": true
   },
   "outputs": [],
   "source": [
    "# In this function, we store the key as hero_id, and value be all the hero information in a dict\n",
    "def get_hero_dict():\n",
    "    hero_query = \"select * from heroes\"\n",
    "    hero_data = get_data_from_query(hero_query)\n",
    "    hero_dict = {}\n",
    "    for hero in hero_data:\n",
    "        hero_dict[hero['id']] = hero\n",
    "    return hero_dict"
   ]
  },
  {
   "cell_type": "code",
   "execution_count": 11,
   "metadata": {
    "collapsed": true
   },
   "outputs": [],
   "source": [
    "# In this function, we store the key as item_id, and value be all the item information in a dict\n",
    "def get_item_dict():\n",
    "    item_query = \"select * from items\"\n",
    "    item_data = get_data_from_query(item_query)\n",
    "    item_dict = {}\n",
    "    for item in item_data:\n",
    "        item_dict[item['id']] = item\n",
    "    item_dict[0] = {'id' : 0, 'name' : '','cost' : 0, 'secret_shop' : 0, 'side_shop' : 0, 'recipe' : 0, 'localized_name' : ''}\n",
    "    return item_dict"
   ]
  },
  {
   "cell_type": "code",
   "execution_count": 12,
   "metadata": {
    "collapsed": true
   },
   "outputs": [],
   "source": [
    "# In this function, we parse the ban and heroes from the data\n",
    "def get_ban_pick_heroes(data):\n",
    "    radiant_bans = [ban['hero_id'] for ban in data['picks_bans'] if not ban['is_pick'] and ban['team'] == 0]\n",
    "    radiant_picks = [pick['hero_id'] for pick in data['picks_bans'] if pick['is_pick'] and pick['team'] == 0]\n",
    "    dire_bans = [ban['hero_id'] for ban in data['picks_bans'] if not ban['is_pick'] and ban['team'] == 1]\n",
    "    dire_picks = [pick['hero_id'] for pick in data['picks_bans'] if pick['is_pick'] and pick['team'] == 1]\n",
    "    return radiant_bans, radiant_picks, dire_bans, dire_picks"
   ]
  },
  {
   "cell_type": "code",
   "execution_count": 13,
   "metadata": {
    "collapsed": true
   },
   "outputs": [],
   "source": [
    "# In this function, we store the player information as value and the hero_id of hero he plays as key\n",
    "def get_hero_player_dict(data):\n",
    "    player_hero_dict = {}\n",
    "    for player in data['players']:\n",
    "        player_hero_dict[player['hero_id']] = player\n",
    "    return player_hero_dict"
   ]
  },
  {
   "cell_type": "code",
   "execution_count": 14,
   "metadata": {
    "collapsed": true
   },
   "outputs": [],
   "source": [
    "# get radiant/dire team name, radiant/dire score and final winner in this match from the data\n",
    "def get_basic_information(data):\n",
    "    radiant_team_name = data['radiant_team']['name']\n",
    "    dire_team_name = data['dire_team']['name']\n",
    "    radiant_score = data['radiant_score']\n",
    "    dire_score = data['dire_score']\n",
    "    winner = radiant_team_name if data['radiant_win'] else dire_team_name\n",
    "    return radiant_team_name, dire_team_name, radiant_score, dire_score, winner"
   ]
  },
  {
   "cell_type": "code",
   "execution_count": 15,
   "metadata": {
    "collapsed": true
   },
   "outputs": [],
   "source": [
    "# combine the player and hero information together for one team\n",
    "def get_player_hero_info(picks, player_hero_dict, hero_dict):\n",
    "    player_hero_info = []\n",
    "    for pick in picks:\n",
    "        player = player_hero_dict[pick]\n",
    "        hero_name = hero_dict[pick]['localized_name']\n",
    "        player_hero_info.append((player, hero_name))\n",
    "    return player_hero_info"
   ]
  },
  {
   "cell_type": "code",
   "execution_count": 16,
   "metadata": {
    "collapsed": true,
    "scrolled": true
   },
   "outputs": [],
   "source": [
    "# print out the overall information in this match\n",
    "def print_out_basic_info(data):\n",
    "    # information that we can get using functions before\n",
    "    radiant_bans, radiant_picks, dire_bans, dire_picks = get_ban_pick_heroes(data)\n",
    "    radiant_team_name, dire_team_name, radiant_score, dire_score, winner = get_basic_information(data)\n",
    "    player_hero_dict = get_hero_player_dict(data)\n",
    "    hero_dict = get_hero_dict()\n",
    "    item_dict = get_item_dict()\n",
    "    \n",
    "    # get the names of baned heroes\n",
    "    radiant_ban_heroes = [hero_dict[ban]['localized_name'] for ban in radiant_bans]\n",
    "    dire_ban_heroes = [hero_dict[ban]['localized_name'] for ban in dire_bans]\n",
    "\n",
    "    # combining informaiton\n",
    "    radiant_player_hero_info = get_player_hero_info(radiant_picks, player_hero_dict, hero_dict)\n",
    "    dire_player_hero_info = get_player_hero_info(dire_picks, player_hero_dict, hero_dict)\n",
    "\n",
    "    # print out the basic information\n",
    "    print('Radiant: ' + radiant_team_name)\n",
    "    print('Dire: ' + dire_team_name)\n",
    "    print('Winner: ' + winner)\n",
    "    print('Score: ' + str(radiant_score) + ' (Radiant) : ' + str(dire_score) + ' (Dire)')\n",
    "    print('Radiant baned hero:')\n",
    "    print(', '.join(radiant_ban_heroes))\n",
    "    print('Dire baned hero:')\n",
    "    print(', '.join(dire_ban_heroes))\n",
    "    \n",
    "    # print out the detailed information\n",
    "    print('\\nRadiant Heroes:')\n",
    "    print('{0:10} {1:20} {2:10} {3:10} {4:6} {5:7} {6:9}'.format('Player','Hero','Gold per min', 'EXP per min','Kill','Death', 'Assist'))\n",
    "    for info in radiant_player_hero_info:\n",
    "        output1 = '{0:10} {1:20} {2:10} {3:10} {4:6} {5:7} {6:9}'.format(\n",
    "        info[0]['name'], info[1], info[0]['benchmarks']['gold_per_min']['raw'],\n",
    "        info[0]['benchmarks']['xp_per_min']['raw'], info[0]['kills'], info[0]['deaths'], info[0]['assists'])\n",
    "        print(output1)\n",
    "    print('\\n{0:17} {1:17} {2:17} {3:17} {4:17} {5:17}'.format('Item0','Item1','Item2', 'Item3','Item4','Item5'))\n",
    "    for info in radiant_player_hero_info:\n",
    "        output2 = '{0:17} {1:17} {2:17} {3:17} {4:17} {5:17}'.format(\n",
    "        item_dict[info[0]['item_0']]['localized_name'], item_dict[info[0]['item_1']]['localized_name'],\n",
    "        item_dict[info[0]['item_2']]['localized_name'], item_dict[info[0]['item_3']]['localized_name'],\n",
    "        item_dict[info[0]['item_4']]['localized_name'], item_dict[info[0]['item_5']]['localized_name'])\n",
    "        print(output2)\n",
    "        \n",
    "    print('\\nDire Heroes:')\n",
    "    print('{0:10} {1:10} {2:20} {3:10} {4:6} {5:7} {6:9}'.format('Player','Hero','Gold per min', 'EXP per min','Kill','Death', 'Assist'))\n",
    "    for info in dire_player_hero_info:\n",
    "        output1 = '{0:10} {1:20} {2:10} {3:10} {4:6} {5:7} {6:9}'.format(\n",
    "        info[0]['name'], info[1], info[0]['benchmarks']['gold_per_min']['raw'],\n",
    "        info[0]['benchmarks']['xp_per_min']['raw'], info[0]['kills'], info[0]['deaths'], info[0]['assists'])\n",
    "        print(output1)\n",
    "        \n",
    "    print('\\n{0:17} {1:17} {2:17} {3:17} {4:17} {5:17}'.format('Item0','Item1','Item2', 'Item3','Item4','Item5'))\n",
    "    for info in dire_player_hero_info:\n",
    "        output2 = '{0:17} {1:17} {2:17} {3:17} {4:17} {5:17}'.format(\n",
    "        item_dict[info[0]['item_0']]['localized_name'], item_dict[info[0]['item_1']]['localized_name'],\n",
    "        item_dict[info[0]['item_2']]['localized_name'], item_dict[info[0]['item_3']]['localized_name'],\n",
    "        item_dict[info[0]['item_4']]['localized_name'], item_dict[info[0]['item_5']]['localized_name'])\n",
    "        print(output2)"
   ]
  },
  {
   "cell_type": "code",
   "execution_count": 17,
   "metadata": {
    "scrolled": false
   },
   "outputs": [
    {
     "name": "stdout",
     "output_type": "stream",
     "text": [
      "Radiant: Evil Geniuses\n",
      "Dire: VGJ Thunder\n",
      "Winner: Evil Geniuses\n",
      "Score: 35 (Radiant) : 34 (Dire)\n",
      "Radiant baned hero:\n",
      "Lycan, Death Prophet, Omniknight, Witch Doctor, Batrider, Terrorblade\n",
      "Dire baned hero:\n",
      "Beastmaster, Chen, Dark Willow, Pugna, Nature's Prophet, Puck\n",
      "\n",
      "Radiant Heroes:\n",
      "Player     Hero                 Gold per min EXP per min Kill   Death   Assist   \n",
      "Cr1t-      Rubick                      370        540      4       7        27\n",
      "Fear       Viper                       350        444      6       9        13\n",
      "MISERY     Ancient Apparition          368        498      7      10        22\n",
      "rtz YB`a   Luna                        750        631      5       6        18\n",
      "SumaiL     Faceless Void               521        556     11       2        17\n",
      "\n",
      "Item0             Item1             Item2             Item3             Item4             Item5            \n",
      "Blink Dagger      Eul's Scepter of Divinity Urn of Shadows    Lotus Orb         Force Staff       Boots of Speed   \n",
      "Drum of Endurance Power Treads      Force Staff       Helm of the Dominator Town Portal Scroll Aghanim's Scepter\n",
      "Magic Stick       Hand of Midas     Tango             Tranquil Boots    Aghanim's Scepter Gem of True Sight\n",
      "Satanic           Aegis of the Immortal Hurricane Pike    Butterfly         Black King Bar    Divine Rapier    \n",
      "Boots of Travel   Aghanim's Scepter Blink Dagger      Maelstrom         Monkey King Bar   Black King Bar   \n",
      "\n",
      "Dire Heroes:\n",
      "Player     Hero       Gold per min         EXP per min Kill   Death   Assist   \n",
      "Fade       Tusk                        369        413      4       7        24\n",
      "Freeze     Razor                       513        654     12       6        10\n",
      "ddc        Bane                        243        318      5       8        20\n",
      "Yang       Underlord                   492        547      3       8        14\n",
      "Sylar      Juggernaut                  667        641     10       6        13\n",
      "\n",
      "Item0             Item1             Item2             Item3             Item4             Item5            \n",
      "Spirit Vessel     Glimmer Cape      Blink Dagger      Aeon Disk         Blade Mail        Tranquil Boots   \n",
      "Blink Dagger      Scythe of Vyse    Black King Bar    Phase Boots       Cheese            Sange and Yasha  \n",
      "Force Staff       Sentry Ward       Aether Lens       Tranquil Boots    Town Portal Scroll Magic Wand       \n",
      "Phase Boots                         Pipe of Insight   Crimson Guard     Heart of Tarrasque Eul's Scepter of Divinity\n",
      "Butterfly         Black King Bar    Monkey King Bar   Battle Fury       Blink Dagger      Sange and Yasha  \n"
     ]
    }
   ],
   "source": [
    "print_out_basic_info(match_data_opendota)"
   ]
  },
  {
   "cell_type": "markdown",
   "metadata": {},
   "source": [
    "![Failed to load pic](http://i.ytimg.com/vi/w4cw7McV-R0/mqdefault.jpg \"Dota 2\")\n",
    "\n",
    "\n",
    "From the infomation above, we see that ** EG ** finnaly won this match. But the scores of two teams were quite close at <font color = green> 35:34 </font>.\n",
    "\n",
    "In the datailed' statistics, we see that <font color = #0491BB> rtz YB`a </font> from EG have a very high <font color = #BB2404> gold_per_min </font> <font color = green> (750) </font>, which means he had a lot of money and could buy very good items in this game.<font color = #0491BB> Freeze </font> from VGJ also played quite good with <font color = green> 12 </font> kills in this match. \n",
    "\n",
    "One of my favorite player Yang from VGJ only had <font color = green> 3 </font> kills but died <font color = green> 8 </font> times in this game, which looks like a disaster. T.T\n",
    "\n",
    "This is an overall expression, we may want to know what really happened during this match. Then we can use the <font color = #BB2404> radiant_xp_adv </font> and <font color = #BB2404> radiant_gold_adv </font> to see the trends of this game. In this tutorial, we use [matplotlib](https://github.com/odota/core/blob/master/sql/create_tables.sql) to plot them."
   ]
  },
  {
   "cell_type": "code",
   "execution_count": 18,
   "metadata": {
    "collapsed": true
   },
   "outputs": [],
   "source": [
    "import matplotlib\n",
    "import matplotlib.pyplot as plt\n",
    "import numpy as np"
   ]
  },
  {
   "cell_type": "code",
   "execution_count": 19,
   "metadata": {
    "collapsed": true
   },
   "outputs": [],
   "source": [
    "# draw the experience /gold advantage between two teams  \n",
    "def draw_trends_from_data(data):\n",
    "    xp_adv = data['radiant_xp_adv']\n",
    "    gold_adv = data['radiant_gold_adv']\n",
    "    x = np.arange(len(gold_adv))\n",
    "    plt.figure(figsize=(15,10))\n",
    "    plt.plot(x, gold_adv)\n",
    "    plt.plot(x, xp_adv)\n",
    "    plt.plot(x, np.zeros(len(gold_adv)), '-.')\n",
    "    plt.legend(['gold advantage', 'experience advantage','0'], loc='lower center')\n",
    "    font = {'size': 22}\n",
    "    plt.xlabel('Minutes')\n",
    "    plt.ylabel('gold differences')\n",
    "    return plt"
   ]
  },
  {
   "cell_type": "code",
   "execution_count": 20,
   "metadata": {},
   "outputs": [
    {
     "data": {
      "image/png": "[encoded data removed]",
      "text/plain": [
       "<matplotlib.figure.Figure at 0x10a8215f8>"
      ]
     },
     "metadata": {},
     "output_type": "display_data"
    }
   ],
   "source": [
    "draw_trends_from_data(match_data_opendota).show()"
   ]
  },
  {
   "cell_type": "markdown",
   "metadata": {},
   "source": [
    "** What an exciting game! ** \n",
    "\n",
    "The advantage changed from Dire to Radiant multiple times, and even at end of this game, the trend was dramatically changing. What really happened? \n",
    "\n",
    "Here, we will look at the real fights in this game, which is in the <font color = #BB2404> teamfights </font> field. In this field, you can get the information of start time, end time, number of deaths and performance of each player. Here I will combine the team fights with the plot above to make it more clear."
   ]
  },
  {
   "cell_type": "code",
   "execution_count": 21,
   "metadata": {
    "collapsed": true,
    "scrolled": false
   },
   "outputs": [],
   "source": [
    "# in this function, we will add the fight time onto the previous plot\n",
    "def add_fights_time(plt, match_data_opendota):\n",
    "    plt = draw_trends_from_data(match_data_opendota)\n",
    "    time1 = [fight['start'] / 60 for fight in match_data_opendota['teamfights']]\n",
    "    time2 = [fight['end'] / 60 for fight in match_data_opendota['teamfights']]\n",
    "    plt.scatter(time1,np.zeros(len(time2)), marker = 'x', c = 'red')\n",
    "    plt.scatter(time2,np.zeros(len(time2)), marker = '*', c = 'purple')\n",
    "    plt.legend(['gold advantage', 'experience advantage','0', 'fight start', 'fight end'], loc='lower center')\n",
    "    return plt"
   ]
  },
  {
   "cell_type": "code",
   "execution_count": 22,
   "metadata": {},
   "outputs": [
    {
     "data": {
      "image/png": "[encoded data removed]",
      "text/plain": [
       "<matplotlib.figure.Figure at 0x1279b8080>"
      ]
     },
     "metadata": {},
     "output_type": "display_data"
    }
   ],
   "source": [
    "plt = add_fights_time(plt, match_data_opendota)\n",
    "plt.show()"
   ]
  },
  {
   "cell_type": "markdown",
   "metadata": {},
   "source": [
    "** Wow ~ ** Every time two teams fought, the gold and experience advantage would change dramatically. And the result of these fights ultimately decided the direction of this game."
   ]
  },
  {
   "cell_type": "markdown",
   "metadata": {},
   "source": [
    "## Part 3: Analysing Dota 2 data"
   ]
  },
  {
   "cell_type": "markdown",
   "metadata": {},
   "source": [
    "If you like playing Dota 2, you may want to ask this kind of questions:\n",
    "\n",
    "- Which hero was picked or baned most in this event?\n",
    "\n",
    "- Which hero has highest winning rate?\n",
    "\n",
    "- Can we predict the result just by the heroes each team chooses?\n",
    "\n",
    "To answer these questions, we can do some analysis on the data we just obtained.\n",
    "\n",
    "### Question 1: Which hero was picked or baned most in this event?"
   ]
  },
  {
   "cell_type": "code",
   "execution_count": 23,
   "metadata": {
    "collapsed": true
   },
   "outputs": [],
   "source": [
    "# here we will get the hero ban and pick times in 'picks_bans' field and store them in dicts\n",
    "def get_most_pick_ban_hero(event_data):\n",
    "    count_pick = {}\n",
    "    count_ban = {}\n",
    "    hero_dict = get_hero_dict()\n",
    "    \n",
    "    for data in event_data:\n",
    "        if data['picks_bans'] != None:\n",
    "            for pick_ban in data['picks_bans']:\n",
    "                if pick_ban['is_pick']:\n",
    "                    if pick_ban['hero_id'] in count_pick:\n",
    "                        count_pick[pick_ban['hero_id']] += 1\n",
    "                    else:\n",
    "                        count_pick[pick_ban['hero_id']] = 1\n",
    "                else:\n",
    "                    if pick_ban['hero_id'] in count_ban:\n",
    "                        count_ban[pick_ban['hero_id']] += 1\n",
    "                    else:\n",
    "                        count_ban[pick_ban['hero_id']] = 1\n",
    "                    \n",
    "    hero_id_pick = max(count_pick, key = count_pick.get)\n",
    "    hero_name_pick = hero_dict[hero_id_pick]['localized_name']\n",
    "    hero_id_ban = max(count_ban, key = count_ban.get)\n",
    "    hero_name_ban = hero_dict[hero_id_ban]['localized_name']\n",
    "    return hero_name_pick, hero_name_ban"
   ]
  },
  {
   "cell_type": "code",
   "execution_count": 24,
   "metadata": {},
   "outputs": [
    {
     "name": "stdout",
     "output_type": "stream",
     "text": [
      "The hero that was baned most in DAC 2018: Omniknight \n",
      "The hero that was picked most in DAC 2018: Disruptor \n"
     ]
    }
   ],
   "source": [
    "hero_name_pick, hero_name_ban = get_most_pick_ban_hero(DAC_2018_data)\n",
    "print('The hero that was baned most in DAC 2018: {0} '.format(hero_name_ban))\n",
    "print('The hero that was picked most in DAC 2018: {0} '.format(hero_name_pick))"
   ]
  },
  {
   "cell_type": "markdown",
   "metadata": {},
   "source": [
    "From the analysis above, we know that ** Omniknight ** is the hero that baned most in this event\n",
    "\n",
    "And ** Disruptor ** is the hero that picked most.\n",
    "![Failed to load pic](https://dotageeks.com/wp-content/uploads/2015/06/Disruptor-3.jpg \"Dota 2\")\n"
   ]
  },
  {
   "cell_type": "markdown",
   "metadata": {},
   "source": [
    "### Question 2: Which hero has highest winning rate?"
   ]
  },
  {
   "cell_type": "code",
   "execution_count": 25,
   "metadata": {
    "collapsed": true
   },
   "outputs": [],
   "source": [
    "# we will store the win and lose numbers in a dict for each hero\n",
    "def get_highest_winning_rate_hero(event_data):\n",
    "    hero_dict = get_hero_dict()\n",
    "    \n",
    "    hero_win_lose_dict = {}\n",
    "    # for convenience, we will initialize the dict to avoid emtpy checking afterwards\n",
    "    for key in hero_dict.keys():\n",
    "        hero_win_lose_dict[key] = {}\n",
    "        hero_win_lose_dict[key]['win'] = 0\n",
    "        hero_win_lose_dict[key]['lose'] = 0\n",
    "\n",
    "    for data in event_data:\n",
    "        if data['picks_bans'] != None:\n",
    "            for pick_ban in data['picks_bans']:\n",
    "                if pick_ban['is_pick']:\n",
    "                    if data['radiant_win']:\n",
    "                        if pick_ban['team'] == 0:\n",
    "                            hero_win_lose_dict[pick_ban['hero_id']]['win'] += 1\n",
    "                        else:\n",
    "                            hero_win_lose_dict[pick_ban['hero_id']]['lose'] += 1\n",
    "                    else:\n",
    "                        if pick_ban['team'] == 0:\n",
    "                            hero_win_lose_dict[pick_ban['hero_id']]['lose'] += 1\n",
    "                        else:\n",
    "                            hero_win_lose_dict[pick_ban['hero_id']]['win'] += 1\n",
    "    highest_key = -1\n",
    "    highest_rate = 0\n",
    "                        \n",
    "    for key, values in hero_win_lose_dict.items():\n",
    "        # we will not count the hero that appeared less than 10 times in this event\n",
    "        if values['lose'] + values['win'] < 10:\n",
    "            continue\n",
    "            \n",
    "        if values['win'] / (values['lose'] + values['win']) > highest_rate:\n",
    "            highest_rate = values['win'] / (values['lose'] + values['win'])\n",
    "            highest_key = key\n",
    "    return hero_dict[highest_key]['localized_name'], highest_rate     "
   ]
  },
  {
   "cell_type": "code",
   "execution_count": 26,
   "metadata": {},
   "outputs": [
    {
     "name": "stdout",
     "output_type": "stream",
     "text": [
      "Hero 'Keeper of the Light' has the highest winning rate: 0.75\n"
     ]
    }
   ],
   "source": [
    "hero_name, rate = get_highest_winning_rate_hero(DAC_2018_data)\n",
    "print(\"Hero '{0}' has the highest winning rate: {1}\".format(hero_name,rate))"
   ]
  },
  {
   "cell_type": "markdown",
   "metadata": {},
   "source": [
    "### Question 3: Result prediction?\n",
    "\n",
    "Actually, this is a very complicated question. But here I will only provide a very simple solution to you, hoping this will help you to come up with a better idea.\n",
    "\n",
    "I am going to use scikit-learn logistic regression"
   ]
  },
  {
   "cell_type": "code",
   "execution_count": 27,
   "metadata": {
    "collapsed": true
   },
   "outputs": [],
   "source": [
    "import sklearn\n",
    "from sklearn.linear_model import LogisticRegression"
   ]
  },
  {
   "cell_type": "code",
   "execution_count": 28,
   "metadata": {
    "collapsed": true
   },
   "outputs": [],
   "source": [
    "# this function transforms the data into training format\n",
    "def data_transform(match_data, hero_dict):\n",
    "    hero_number = len(hero_dict.keys())\n",
    "    \n",
    "    zeros = np.zeros(hero_number)\n",
    "    if match_data['picks_bans'] != None:\n",
    "        for pick_ban in match_data['picks_bans']:\n",
    "            if pick_ban['is_pick'] and pick_ban['hero_id'] < hero_number:\n",
    "                if pick_ban['team'] == 0:\n",
    "                    zeros[pick_ban['hero_id']] = 1\n",
    "                else:\n",
    "                    zeros[pick_ban['hero_id']] = -1\n",
    "                    \n",
    "    return zeros"
   ]
  },
  {
   "cell_type": "code",
   "execution_count": 29,
   "metadata": {
    "collapsed": true
   },
   "outputs": [],
   "source": [
    "# this function helps to pre-precess the data\n",
    "def pre_process(event_data, hero_dict):\n",
    "    \n",
    "    training_data = DAC_2018_data[:300]\n",
    "    validate_data = DAC_2018_data[300:]\n",
    "    \n",
    "    input_X = []\n",
    "    input_y = []\n",
    "        \n",
    "    # this is for training data\n",
    "    for data in training_data:\n",
    "        data_transformed = data_transform(data, hero_dict)\n",
    "        input_X.append(data_transformed)\n",
    "        if data['radiant_win']:\n",
    "            input_y.append(1)\n",
    "        else:\n",
    "            input_y.append(0)\n",
    "        \n",
    "    X = np.array(input_X)\n",
    "    y = np.array(input_y)\n",
    "    \n",
    "    # this is for validation data\n",
    "    valid_input_X = []\n",
    "    valid_input_y = []\n",
    "    for data in validate_data:\n",
    "        data_transformed = data_transform(data, hero_dict)\n",
    "        \n",
    "        valid_input_X.append(data_transformed)\n",
    "        if data['radiant_win']:\n",
    "            valid_input_y.append(1)\n",
    "        else:\n",
    "            valid_input_y.append(0)  \n",
    "    \n",
    "    # remember to turn transform them into np arrays\n",
    "    valid_X = np.array(valid_input_X)\n",
    "    valid_y = np.array(valid_input_y)\n",
    "    \n",
    "    return X, y, valid_X, valid_y"
   ]
  },
  {
   "cell_type": "code",
   "execution_count": 30,
   "metadata": {
    "collapsed": true
   },
   "outputs": [],
   "source": [
    "# this function will create a logistic regression and train it on the X, y\n",
    "def lr_train(X, y):\n",
    "    lrModel = LogisticRegression()\n",
    "    lrModel.fit(X, y)\n",
    "    return lrModel"
   ]
  },
  {
   "cell_type": "code",
   "execution_count": 31,
   "metadata": {},
   "outputs": [
    {
     "name": "stdout",
     "output_type": "stream",
     "text": [
      "The accuracy for this model on the validation set is 0.5333333333333333\n"
     ]
    }
   ],
   "source": [
    "# initialize the model and calculate the accuracy on the validation set\n",
    "hero_dict = get_hero_dict()\n",
    "X, y, valid_X, valid_y = pre_process(DAC_2018_data, hero_dict)\n",
    "lrmodel = lr_train(X, y)\n",
    "y_pred = lrmodel.predict(valid_X)\n",
    "accuracy = np.mean(valid_y == y_pred)\n",
    "print('The accuracy for this model on the validation set is {}'.format(accuracy))"
   ]
  },
  {
   "cell_type": "markdown",
   "metadata": {},
   "source": [
    "The accuracy here is quite low because I am only trying to give you some insights about how to start on this great problem :)\n",
    "\n",
    "In Dota 2, sometimes the power of two heroes together is much larger than the sum of their power separately. Also on some occation, a hero is very afraid of another hero because of different hero abilities. These all should be considered, and there's still a long way to go."
   ]
  },
  {
   "cell_type": "markdown",
   "metadata": {},
   "source": [
    "## Conclusion"
   ]
  },
  {
   "cell_type": "markdown",
   "metadata": {},
   "source": [
    "The goal for this tutorial is to give you a very basic idea of data analysis in this game. But I am also hoping that some of you who have never touched Dota 2 (or video games) before could have a chance to get to know this game.\n",
    "\n",
    "** Dota 2 is fantastic, doing data analysis on Dota 2 is also fantastic! **\n",
    "\n",
    "** Hope you find this tutorial helpful ！ **\n",
    "\n",
    "![Failed to load pic](https://qph.fs.quoracdn.net/main-qimg-95ba9ab0bf41deed2e9d83ff78a5631a \"Dota 2\")\n"
   ]
  }
 ],
 "metadata": {
  "kernelspec": {
   "display_name": "Python 3",
   "language": "python",
   "name": "python3"
  },
  "language_info": {
   "codemirror_mode": {
    "name": "ipython",
    "version": 3
   },
   "file_extension": ".py",
   "mimetype": "text/x-python",
   "name": "python",
   "nbconvert_exporter": "python",
   "pygments_lexer": "ipython3",
   "version": "3.6.3"
  }
 },
 "nbformat": 4,
 "nbformat_minor": 2
}
