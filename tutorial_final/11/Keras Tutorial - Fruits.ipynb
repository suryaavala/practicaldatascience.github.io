{
 "cells": [
  {
   "cell_type": "markdown",
   "metadata": {},
   "source": [
    "## Introduction\n",
    "\n",
    "In this tutorial, we will introduce you to machine learning, using the python library [Keras](https://keras.io/), to create deep neural networks. Machine learning is very important to data science, as it allows a data scientist to find patterns and make predictions using the data they gather. Often, patterns in data are not obvious, but machine learning can be used to find these patterns. For example, suppose you were trying to predict how a certain town votes based on information such as location, median income, etc, and you already have some examples. Machine learning would allow you to predict, given the information of a new town, how it will vote.\n",
    "\n",
    "#### What is Machine Learning?\n",
    "\n",
    "Machine learning is a field in computer science that relates to a computer's ability to improve along some metric, given 'experiences'. These typically come in the form of data, from which the computer attempts to find some underlying pattern/distribution. Given a set of examples, the algorithm attempts to find a hypothesis function, to be used for predictions on new data.\n",
    "\n",
    "For a machine learning problem, you typically need to specify the following three things:\n",
    "* A hypothesis function\n",
    "* A loss function - the penalty for incorrect predictions\n",
    "* How to optimize this loss function - solve for the minimum/maximum, or use a technique called gradient descent to iteratively improve our loss\n",
    "\n",
    "However, there is one issue - we do not really care about the loss over the data we have, we care about the loss over all data, which we approximate using what we have. This leads to the problem of overfitting - making our hypothesis function too accurate over our training data, not all the data. This is shown in the graph below:\n",
    "\n",
    "\n",
    "![alt text][overfitting_graph]\n",
    "\n",
    "[overfitting_graph]: https://image.slidesharecdn.com/overfitting-and-tbl-120312163430-phpapp01/95/overfitting-andtbl-17-728.jpg?cb=1331571562 \"Overfitting\"\n",
    "\n",
    "This is because we are using data we have to train with, so the function isn’t tested on data it hasn’t seen before. We can solve this using something called cross-validation -  hold out some part of the data from training. Once we finish training, we test on our validation data, to get an idea of how well our function will generalize. If the function does well on the training data, but not on the validation, this typically indicates overfitting. How we attempt to solve this issue is its own field, [learning theory](https://en.wikipedia.org/wiki/Computational_learning_theory).\n",
    "\n",
    "#### Supervised learning\n",
    "\n",
    "Specifically, we will look at a subset of machine learning called [supervised learning](https://en.wikipedia.org/wiki/Supervised_learning), for the purpose of classification. This means that the data we work with has labels, and each example has been pre-sorted into one of some number of bins, or classes.\n",
    "\n",
    "\n",
    "#### What are Neural Networks?\n",
    "\n",
    "A [neural network](https://en.wikipedia.org/wiki/Artificial_neural_network) is modeled after the connectionist model of the brain, in an attempt to solve problems the way a human might, like image recognition. Neural networks are made up of a large number of neurons - typically simple functions that take an input and produce an output, using modifiable parameters.\n",
    "\n",
    "\n",
    "These neurons work to connect layers - an input layer, for the input data, an output layer, which in our case will be a classification, and some number of hidden layers. Those hidden layers are what make this a deep neural network.\n",
    "\n",
    "![alt text][neural_net]\n",
    "\n",
    "[neural_net]: http://neuralnetworksanddeeplearning.com/images/tikz11.png \"Neural Network\"\n",
    "\n",
    "\n",
    "Training a neural network involves assigning values to the neuron weights so that the network classifies our data correctly. This is accomplished through backpropagation - using gradient descent, starting with the weights on the outermost neurons - the ones connecting to the output layer. Then using these new values to adjust the previous layer, and so on, working backwards to the input layer.\n",
    "\n",
    "#### What is Keras\n",
    "\n",
    "Now, we can introduce Keras. [\"Keras is a high-level neural networks API, written in Python and capable of running on top of TensorFlow, CNTK, or Theano\"](https://keras.io/).  We are going to use Keras on top of [TensorFlow](https://www.tensorflow.org/), a machine learning framework developed by Google. Using Keras makes a lot of our coding significantly easier, as it wraps much of the TensorFlow code into simple function calls. For example, to make and train a neural network, we simply instantiate a model, add layers, compile it, and then fit it over training data - each step of which is a function call. This allows us to focus less on much of the math going on behind the scenes, and quickly build networks to accomplish tasks."
   ]
  },
  {
   "cell_type": "markdown",
   "metadata": {
    "collapsed": true
   },
   "source": [
    "## Install Libraries\n",
    "\n",
    "We need to install the libraries we are going to use during this tutorial. We need `keras`, `imutils`, and `opencv`.\n",
    "If you are using Anaconda, most of the dependencies we will need should already be installed, like `numpy`, `scikit-learn`, and `tensorflow`.\n",
    "\n",
    "    $ conda install -c conda-forge keras \n",
    "\n",
    "    $ conda install -c conda-forge opencv \n",
    "\n",
    "    $ pip install imutils\n",
    "\n",
    "\n",
    "Test that everything has been installed correctly by running the following cell:"
   ]
  },
  {
   "cell_type": "code",
   "execution_count": 1,
   "metadata": {},
   "outputs": [
    {
     "name": "stderr",
     "output_type": "stream",
     "text": [
      "Using TensorFlow backend.\n"
     ]
    }
   ],
   "source": [
    "import numpy as np\n",
    "from keras.models import Sequential\n",
    "\n",
    "from matplotlib import pyplot as plt\n",
    "\n",
    "from imutils import paths\n",
    "import cv2\n",
    "\n",
    "from sklearn.preprocessing import LabelEncoder"
   ]
  },
  {
   "cell_type": "markdown",
   "metadata": {},
   "source": [
    "Keras should output that it is using the Tensorflow backend. If not, you may need to [edit your keras config](https://keras.io/backend/#switching-from-one-backend-to-another), or change it [programatically](https://stackoverflow.com/questions/47104415/how-do-i-use-tensorflow-backend-in-keras-without-changing-keras-json).\n",
    "\n",
    "If imutils/cv2 throw a `libfreetype` error, you may need to run:\n",
    "\n",
    "    $ conda install openblas=0.2.19\n",
    "\n",
    "Now we can begin to import everything we need from Keras. First we import the different layer types we will need"
   ]
  },
  {
   "cell_type": "code",
   "execution_count": 2,
   "metadata": {
    "collapsed": true
   },
   "outputs": [],
   "source": [
    "from keras.layers import Dense, Dropout, Flatten, Convolution2D, MaxPooling2D"
   ]
  },
  {
   "cell_type": "markdown",
   "metadata": {},
   "source": [
    "Also import np_utils, which has some useful functions for processing data later on."
   ]
  },
  {
   "cell_type": "code",
   "execution_count": 3,
   "metadata": {
    "collapsed": true
   },
   "outputs": [],
   "source": [
    "from keras.utils import np_utils"
   ]
  },
  {
   "cell_type": "markdown",
   "metadata": {},
   "source": [
    "Now, we introduce a fixed seed, so that randomness will stay the same between runs."
   ]
  },
  {
   "cell_type": "code",
   "execution_count": 4,
   "metadata": {
    "collapsed": true
   },
   "outputs": [],
   "source": [
    "np.random.seed(8765)  # for reproducibility"
   ]
  },
  {
   "cell_type": "markdown",
   "metadata": {},
   "source": [
    "To begin with, we will create a neural network to classify the [MNIST dataset](http://yann.lecun.com/exdb/mnist/). The MNIST dataset is a commonly used image classification dataset, consisting of 60000 training, and 10000 testing images. Each image is grayscale, 28x28 pixels, and corresponds to a written digit. Since each image is pretty small, it means that it is easy to train over. \n",
    "\n",
    "Lucky for us, Keras includes MNIST as one of its built in datasets, so we can simply import it. This also means we need to do very little preprocessing on it."
   ]
  },
  {
   "cell_type": "code",
   "execution_count": 5,
   "metadata": {
    "collapsed": true
   },
   "outputs": [],
   "source": [
    "from keras.datasets import mnist\n",
    "(X_train, y_train), (X_test, y_test) = mnist.load_data()"
   ]
  },
  {
   "cell_type": "markdown",
   "metadata": {},
   "source": [
    "We can see the size of the dataset:"
   ]
  },
  {
   "cell_type": "code",
   "execution_count": 6,
   "metadata": {},
   "outputs": [
    {
     "name": "stdout",
     "output_type": "stream",
     "text": [
      "(60000, 28, 28)\n"
     ]
    }
   ],
   "source": [
    "print(X_train.shape)"
   ]
  },
  {
   "cell_type": "markdown",
   "metadata": {},
   "source": [
    "We can see an example using `matplotlib`:"
   ]
  },
  {
   "cell_type": "code",
   "execution_count": 7,
   "metadata": {},
   "outputs": [
    {
     "data": {
      "image/png": "[encoded data removed]",
      "text/plain": [
       "<matplotlib.figure.Figure at 0x1a26161470>"
      ]
     },
     "metadata": {},
     "output_type": "display_data"
    }
   ],
   "source": [
    "%matplotlib inline\n",
    "plt.imshow(X_train[0])\n",
    "plt.show()"
   ]
  },
  {
   "cell_type": "markdown",
   "metadata": {},
   "source": [
    "Now, we need to reshape our data to explicitly include the channel dimension. In our case, since we have grayscale images, we only have 1 channel. However, if you had an RGB image, then you would have 3 channels.\n",
    "\n",
    "We just run the below code to specify the channels:"
   ]
  },
  {
   "cell_type": "code",
   "execution_count": 8,
   "metadata": {},
   "outputs": [
    {
     "name": "stdout",
     "output_type": "stream",
     "text": [
      "(60000, 28, 28, 1)\n"
     ]
    }
   ],
   "source": [
    "X_train = X_train.reshape(X_train.shape[0], 28, 28, 1)\n",
    "X_test = X_test.reshape(X_test.shape[0], 28, 28, 1)\n",
    "print(X_train.shape)"
   ]
  },
  {
   "cell_type": "markdown",
   "metadata": {},
   "source": [
    "Now, one thing about the MNIST dataset is that the values in the images range form 0 to 255. There's nothing wrong with this, but since these values range pretty high, it may lead to large weights in our neural network. Therefore, we rescale our data to between 0 and 1:"
   ]
  },
  {
   "cell_type": "code",
   "execution_count": 9,
   "metadata": {
    "collapsed": true
   },
   "outputs": [],
   "source": [
    "X_train = X_train.astype('float32')\n",
    "X_test = X_test.astype('float32')\n",
    "X_train /= 255\n",
    "X_test /= 255"
   ]
  },
  {
   "cell_type": "markdown",
   "metadata": {},
   "source": [
    "Now, let's take a look at our labels:"
   ]
  },
  {
   "cell_type": "code",
   "execution_count": 10,
   "metadata": {},
   "outputs": [
    {
     "name": "stdout",
     "output_type": "stream",
     "text": [
      "(60000,)\n",
      "[5 0 4 1 9 2 1 3 1 4]\n"
     ]
    }
   ],
   "source": [
    "print(y_train.shape)\n",
    "print(y_train[:10])"
   ]
  },
  {
   "cell_type": "markdown",
   "metadata": {},
   "source": [
    "As you can see, it is an array of values ranging from 0 to 9. Since we are doing classification, it would be pretty hard to generate the exact number to correspond to the label. Furthermore, since we have numbers for each label, the network may assume some incorrect things - like a relationship between a 5 and a 6, which may not exist in the image data, but does as a comparison between the labels. \n",
    "\n",
    "Thus, we will convert our labels to a one-hot encoding - each label will be a 10 entry array, with a 1 in a position to indicate the label. This can easily be done with np_utils, which we imported earlier:"
   ]
  },
  {
   "cell_type": "code",
   "execution_count": 11,
   "metadata": {
    "collapsed": true
   },
   "outputs": [],
   "source": [
    "Y_train = np_utils.to_categorical(y_train, 10)\n",
    "Y_test = np_utils.to_categorical(y_test, 10)"
   ]
  },
  {
   "cell_type": "markdown",
   "metadata": {},
   "source": [
    "Now let's make sure our labels look correct:"
   ]
  },
  {
   "cell_type": "code",
   "execution_count": 12,
   "metadata": {},
   "outputs": [
    {
     "name": "stdout",
     "output_type": "stream",
     "text": [
      "(60000, 10)\n",
      "[ 0.  0.  0.  0.  0.  1.  0.  0.  0.  0.]\n"
     ]
    }
   ],
   "source": [
    "print(Y_train.shape)\n",
    "print(Y_train[0])"
   ]
  },
  {
   "cell_type": "markdown",
   "metadata": {},
   "source": [
    "Now we can begin to build our model. We first instantiate a model using the Sequential constructor from Keras"
   ]
  },
  {
   "cell_type": "code",
   "execution_count": 13,
   "metadata": {
    "collapsed": true
   },
   "outputs": [],
   "source": [
    "model = Sequential()"
   ]
  },
  {
   "cell_type": "markdown",
   "metadata": {},
   "source": [
    "Now we need to add our input layer. We need to be careful here, as the input layer needs to correspond to our data.  So we specify the input shape, and the data format.\n",
    "\n",
    "Another thing you can see is we are adding a `Convolutional2D` layer. Convolution is, to put it simply, moving a window across a (in our case) 2D space, and computing a value using the pixels in that space. You can read more [here](https://en.wikipedia.org/wiki/Convolutional_neural_network).\n",
    "\n",
    "\n",
    "![alt text][convolution]\n",
    "\n",
    "[convolution]: https://adeshpande3.github.io/assets/Cover.png \"Convolution\"\n",
    "\n",
    "\n",
    "We specify our space with the tuple `(3, 3)`, and the output size as 32. In most Keras layers, we need to specify at least the output size.\n",
    "\n",
    "\n",
    "Finally, we specify `activation='relu'`. This simply defines the function these neurons will be applying, which is different from the default of linear. Using different functions in these layers allows us to modify the way the network will make its decisions."
   ]
  },
  {
   "cell_type": "code",
   "execution_count": 14,
   "metadata": {},
   "outputs": [
    {
     "name": "stdout",
     "output_type": "stream",
     "text": [
      "(None, 26, 26, 32)\n"
     ]
    }
   ],
   "source": [
    "model.add(Convolution2D(32, (3, 3), activation='relu', input_shape=(28,28, 1), data_format=\"channels_last\"))\n",
    "print(model.output_shape)"
   ]
  },
  {
   "cell_type": "markdown",
   "metadata": {},
   "source": [
    "We can continue to add more layers. We do another convolution, and then `MaxPooling2D`. This simply is a way of sampling every 2x2 set of pixels into 1, in order to reduce our width and height. This means we will have less parameters to train for later layers, and provides some prevention against overfitting, since we make decisions based on a less specific part of the image.\n",
    "\n",
    "We also add a `Dropout` layer. This randomly chooses some neurons from the previous layer to ignore when modifying the weights. This doesn't sound good, but it helps to avoid overfitting by not always training all of the network on the training examples. Read more [here](https://en.wikipedia.org/wiki/Convolutional_neural_network#Dropout)."
   ]
  },
  {
   "cell_type": "code",
   "execution_count": 15,
   "metadata": {
    "collapsed": true
   },
   "outputs": [],
   "source": [
    "model.add(Convolution2D(32, (3, 3), activation='relu'))\n",
    "model.add(MaxPooling2D(pool_size=(2,2)))\n",
    "model.add(Dropout(0.25))"
   ]
  },
  {
   "cell_type": "markdown",
   "metadata": {},
   "source": [
    "We then flatten the network so that it is a 1D array, to which we connect some `Dense` layers. This means that every part of the previous layer is connected to the next. Notice that the last layer has output specified as 10 - which is the number of classes we are trying to predict."
   ]
  },
  {
   "cell_type": "code",
   "execution_count": 16,
   "metadata": {
    "collapsed": true
   },
   "outputs": [],
   "source": [
    "model.add(Flatten())\n",
    "model.add(Dense(128, activation='relu'))\n",
    "model.add(Dropout(0.5))\n",
    "model.add(Dense(10, activation='softmax'))"
   ]
  },
  {
   "cell_type": "markdown",
   "metadata": {},
   "source": [
    "We can now see the structure of our completed network:"
   ]
  },
  {
   "cell_type": "code",
   "execution_count": 17,
   "metadata": {},
   "outputs": [
    {
     "name": "stdout",
     "output_type": "stream",
     "text": [
      "_________________________________________________________________\n",
      "Layer (type)                 Output Shape              Param #   \n",
      "=================================================================\n",
      "conv2d_1 (Conv2D)            (None, 26, 26, 32)        320       \n",
      "_________________________________________________________________\n",
      "conv2d_2 (Conv2D)            (None, 24, 24, 32)        9248      \n",
      "_________________________________________________________________\n",
      "max_pooling2d_1 (MaxPooling2 (None, 12, 12, 32)        0         \n",
      "_________________________________________________________________\n",
      "dropout_1 (Dropout)          (None, 12, 12, 32)        0         \n",
      "_________________________________________________________________\n",
      "flatten_1 (Flatten)          (None, 4608)              0         \n",
      "_________________________________________________________________\n",
      "dense_1 (Dense)              (None, 128)               589952    \n",
      "_________________________________________________________________\n",
      "dropout_2 (Dropout)          (None, 128)               0         \n",
      "_________________________________________________________________\n",
      "dense_2 (Dense)              (None, 10)                1290      \n",
      "=================================================================\n",
      "Total params: 600,810\n",
      "Trainable params: 600,810\n",
      "Non-trainable params: 0\n",
      "_________________________________________________________________\n"
     ]
    }
   ],
   "source": [
    "model.summary()"
   ]
  },
  {
   "cell_type": "markdown",
   "metadata": {},
   "source": [
    "You're probably wondering how we decided this structure, and how to do so for other problems. There isn't really any general consensus, except to [add layers until the test error doesn't improve](https://www.quora.com/Artificial-Neural-Networks/Artificial-Neural-Networks-How-can-I-estimate-the-number-of-neurons-and-layers/answer/Yoshua-Bengio?share=7b58dc3b&srid=hqJd)"
   ]
  },
  {
   "cell_type": "markdown",
   "metadata": {},
   "source": [
    "Finally, we compile our network. We specify the loss and optimizer here. "
   ]
  },
  {
   "cell_type": "code",
   "execution_count": 18,
   "metadata": {
    "collapsed": true
   },
   "outputs": [],
   "source": [
    "model.compile(loss='categorical_crossentropy',\n",
    "              optimizer='adam',\n",
    "              metrics=['accuracy'])"
   ]
  },
  {
   "cell_type": "markdown",
   "metadata": {},
   "source": [
    "Finally, we can begin training our network. This line will take a decent amount of time."
   ]
  },
  {
   "cell_type": "code",
   "execution_count": 19,
   "metadata": {},
   "outputs": [
    {
     "name": "stdout",
     "output_type": "stream",
     "text": [
      "Epoch 1/10\n",
      "60000/60000 [==============================] - 106s 2ms/step - loss: 0.2721 - acc: 0.9168\n",
      "Epoch 2/10\n",
      "60000/60000 [==============================] - 105s 2ms/step - loss: 0.0953 - acc: 0.9710\n",
      "Epoch 3/10\n",
      "60000/60000 [==============================] - 104s 2ms/step - loss: 0.0714 - acc: 0.9783\n",
      "Epoch 4/10\n",
      "60000/60000 [==============================] - 104s 2ms/step - loss: 0.0592 - acc: 0.9821\n",
      "Epoch 5/10\n",
      "60000/60000 [==============================] - 106s 2ms/step - loss: 0.0507 - acc: 0.9843\n",
      "Epoch 6/10\n",
      "60000/60000 [==============================] - 109s 2ms/step - loss: 0.0443 - acc: 0.9866\n",
      "Epoch 7/10\n",
      "60000/60000 [==============================] - 104s 2ms/step - loss: 0.0397 - acc: 0.9876\n",
      "Epoch 8/10\n",
      "60000/60000 [==============================] - 105s 2ms/step - loss: 0.0360 - acc: 0.9880\n",
      "Epoch 9/10\n",
      "60000/60000 [==============================] - 107s 2ms/step - loss: 0.0335 - acc: 0.9892\n",
      "Epoch 10/10\n",
      "60000/60000 [==============================] - 118s 2ms/step - loss: 0.0300 - acc: 0.9902\n"
     ]
    },
    {
     "data": {
      "text/plain": [
       "<keras.callbacks.History at 0x1a2e69d5f8>"
      ]
     },
     "execution_count": 19,
     "metadata": {},
     "output_type": "execute_result"
    }
   ],
   "source": [
    "model.fit(X_train, Y_train, \n",
    "          batch_size=128 , epochs=10, verbose=1)"
   ]
  },
  {
   "cell_type": "markdown",
   "metadata": {},
   "source": [
    "Now, we can test our network on our test dataset, to determine how well it generalizes."
   ]
  },
  {
   "cell_type": "code",
   "execution_count": 20,
   "metadata": {},
   "outputs": [
    {
     "name": "stdout",
     "output_type": "stream",
     "text": [
      "10000/10000 [==============================] - 6s 645us/step\n",
      "[0.024785956587327747, 0.99129999999999996]\n"
     ]
    }
   ],
   "source": [
    "score = model.evaluate(X_test, Y_test, verbose=1)\n",
    "print(score)"
   ]
  },
  {
   "cell_type": "markdown",
   "metadata": {},
   "source": [
    "We can test on a random image:"
   ]
  },
  {
   "cell_type": "code",
   "execution_count": 21,
   "metadata": {},
   "outputs": [
    {
     "data": {
      "image/png": "[encoded data removed]",
      "text/plain": [
       "<matplotlib.figure.Figure at 0x1a3f6eeba8>"
      ]
     },
     "metadata": {},
     "output_type": "display_data"
    },
    {
     "name": "stdout",
     "output_type": "stream",
     "text": [
      "Predicted Label: 2\n",
      "True Label: 2\n"
     ]
    }
   ],
   "source": [
    "# get random location in test data\n",
    "num = np.random.randint(0, 10000)\n",
    "\n",
    "# get image and label\n",
    "img = (X_test[num] * 255).astype('int')\n",
    "img = img.reshape(img.shape[0], 28)\n",
    "\n",
    "true_label = Y_test[num].tolist().index(1)\n",
    "\n",
    "\n",
    "# # show image\n",
    "plt.imshow(img)\n",
    "plt.show()\n",
    "\n",
    "# # predict using model\n",
    "prediction = model.predict([X_test[num:num+1]])\n",
    "print(\"Predicted Label: %d\"% prediction.argmax())\n",
    "print(\"True Label: %d\"% true_label)"
   ]
  },
  {
   "cell_type": "markdown",
   "metadata": {},
   "source": [
    "You can explore this more using [this visualizer](http://scs.ryerson.ca/~aharley/vis/conv/). It visualizes the LeNet, developed by Yann Lecun, for the MNIST dataset."
   ]
  },
  {
   "cell_type": "markdown",
   "metadata": {},
   "source": [
    "Now, we can apply our knowledge to a harder problem: Classifying fruits. We will be using [this](https://github.com/Horea94/Fruit-Images-Dataset) dataset, which contains 28736 train and 9673 test images, in 60 classes. Each image is 100x100 pixels. Extract it to the same directory as this notebook, so we can open it."
   ]
  },
  {
   "cell_type": "code",
   "execution_count": 22,
   "metadata": {
    "collapsed": true
   },
   "outputs": [],
   "source": [
    "from keras.preprocessing.image import img_to_array\n",
    "import os\n",
    "\n",
    "train_data = []\n",
    "train_labels = []\n",
    "test_data = []\n",
    "test_labels = []"
   ]
  },
  {
   "cell_type": "markdown",
   "metadata": {},
   "source": [
    "The next steps will take some time, depending on the speed of your computer. If you want, you can import the following library, which is a wrapper for iterators that will print the progress of the iterations. You may need to `pip install tqdm`."
   ]
  },
  {
   "cell_type": "code",
   "execution_count": 23,
   "metadata": {
    "collapsed": true
   },
   "outputs": [],
   "source": [
    "# from tqdm import tqdm"
   ]
  },
  {
   "cell_type": "markdown",
   "metadata": {},
   "source": [
    "We need to open our training dataset, resize it, and get the corresponding label. We resize it to simplify our training significantly, albeit at the cost of some accuracy."
   ]
  },
  {
   "cell_type": "code",
   "execution_count": 24,
   "metadata": {
    "collapsed": true
   },
   "outputs": [],
   "source": [
    "imagePaths = sorted(list(paths.list_images(\"fruits-360/Training\")))\n",
    "np.random.shuffle(imagePaths)\n",
    "\n",
    "# for imagePath in tqdm(imagePaths):\n",
    "for imagePath in imagePaths:\n",
    "#     Some folder names have spaces, which are escaped with a backslash\n",
    "#     We need to remove them so that we can open them\n",
    "    imagePath = imagePath.replace(\"\\\\\", \"\")\n",
    "#     Open the image\n",
    "    image = cv2.imread(imagePath)\n",
    "#     resize\n",
    "    image = cv2.resize(image, (45, 45))\n",
    "#     get array, and append\n",
    "    image = img_to_array(image)\n",
    "    train_data.append(image)\n",
    "#     The labels are simply the containing folder name\n",
    "    label = imagePath.split(os.path.sep)[-2]\n",
    "    train_labels.append(label)"
   ]
  },
  {
   "cell_type": "markdown",
   "metadata": {},
   "source": [
    "We can see one of the opened images using `matplotlib`:"
   ]
  },
  {
   "cell_type": "code",
   "execution_count": 25,
   "metadata": {},
   "outputs": [
    {
     "data": {
      "image/png": "[encoded data removed]",
      "text/plain": [
       "<matplotlib.figure.Figure at 0x1a3fb239b0>"
      ]
     },
     "metadata": {},
     "output_type": "display_data"
    },
    {
     "name": "stdout",
     "output_type": "stream",
     "text": [
      "Pear Monster\n"
     ]
    }
   ],
   "source": [
    "plt.imshow(train_data[0])\n",
    "plt.show()\n",
    "print(train_labels[0])"
   ]
  },
  {
   "cell_type": "markdown",
   "metadata": {},
   "source": [
    "Again, we need to convert our data to floats, to prevent large weights:"
   ]
  },
  {
   "cell_type": "code",
   "execution_count": 26,
   "metadata": {
    "collapsed": true
   },
   "outputs": [],
   "source": [
    "# explicitly convert to np arrays, since data not preprocessed like MNIST\n",
    "train_data = np.array(train_data, dtype=np.float32) / 255.0\n",
    "train_labels = np.array(train_labels)"
   ]
  },
  {
   "cell_type": "markdown",
   "metadata": {},
   "source": [
    "We also import the test data:"
   ]
  },
  {
   "cell_type": "code",
   "execution_count": 27,
   "metadata": {
    "collapsed": true
   },
   "outputs": [],
   "source": [
    "imagePaths2 = sorted(list(paths.list_images(\"fruits-360/Validation\")))\n",
    "np.random.shuffle(imagePaths2)\n",
    "\n",
    "# for imagePath in tqdm(imagePaths2):\n",
    "for imagePath in imagePaths2:\n",
    "    imagePath = imagePath.replace(\"\\\\\", \"\")\n",
    "    image = cv2.imread(imagePath)\n",
    "    image = cv2.resize(image, (45, 45))\n",
    "    image = img_to_array(image)\n",
    "    test_data.append(image)\n",
    " \n",
    "    label = imagePath.split(os.path.sep)[-2]\n",
    "    test_labels.append(label)\n",
    "    \n",
    "test_data = np.array(test_data, dtype=np.float32) / 255.0\n",
    "test_labels = np.array(test_labels)\n"
   ]
  },
  {
   "cell_type": "markdown",
   "metadata": {},
   "source": [
    "Now, since our labels are strings, and not numbers, we cannot use the same np_utils function exactly as before. First, we use LabelEncoder from scikit-learn, to convert our strings to integers, using which we can convert to one-hot encodings:"
   ]
  },
  {
   "cell_type": "code",
   "execution_count": 28,
   "metadata": {
    "collapsed": true
   },
   "outputs": [],
   "source": [
    "\n",
    "encoder = LabelEncoder()\n",
    "encoder.fit(train_labels)\n",
    "encoded_train = encoder.transform(train_labels)\n",
    "train_labels = np_utils.to_categorical(encoded_train)\n",
    "\n",
    "encoder = LabelEncoder()\n",
    "encoder.fit(test_labels)\n",
    "encoded_test = encoder.transform(test_labels)\n",
    "test_labels = np_utils.to_categorical(encoded_test)"
   ]
  },
  {
   "cell_type": "markdown",
   "metadata": {},
   "source": [
    "We can see our number of train and test examples, which should be 28736, and 9673, respectively:"
   ]
  },
  {
   "cell_type": "code",
   "execution_count": 29,
   "metadata": {},
   "outputs": [
    {
     "name": "stdout",
     "output_type": "stream",
     "text": [
      "28736 9673\n"
     ]
    }
   ],
   "source": [
    "no_train_samples = np.shape(train_data)[0]\n",
    "no_test_samples = np.shape(test_data)[0]\n",
    "print(no_train_samples, no_test_samples)"
   ]
  },
  {
   "cell_type": "markdown",
   "metadata": {},
   "source": [
    "Note that we have just read in our dataset entirely into memory. In many cases, this may not be possible, in which case you may want to use something that reads data sequentially as it is trained, such as the Keras [flow_from_directory](https://blog.keras.io/building-powerful-image-classification-models-using-very-little-data.html).\n",
    "\n",
    "Now we can create our neural network, and train it:"
   ]
  },
  {
   "cell_type": "code",
   "execution_count": 30,
   "metadata": {},
   "outputs": [
    {
     "name": "stdout",
     "output_type": "stream",
     "text": [
      "Train on 28736 samples, validate on 9673 samples\n",
      "Epoch 1/5\n",
      "28736/28736 [==============================] - 214s 7ms/step - loss: 1.5587 - acc: 0.5758 - val_loss: 0.3180 - val_acc: 0.9036\n",
      "Epoch 2/5\n",
      "28736/28736 [==============================] - 237s 8ms/step - loss: 0.2950 - acc: 0.9046 - val_loss: 0.1646 - val_acc: 0.9457\n",
      "Epoch 3/5\n",
      "28736/28736 [==============================] - 217s 8ms/step - loss: 0.1612 - acc: 0.9463 - val_loss: 0.1578 - val_acc: 0.9525\n",
      "Epoch 4/5\n",
      "28736/28736 [==============================] - 215s 7ms/step - loss: 0.1221 - acc: 0.9588 - val_loss: 0.1707 - val_acc: 0.9553\n",
      "Epoch 5/5\n",
      "28736/28736 [==============================] - 223s 8ms/step - loss: 0.0910 - acc: 0.9685 - val_loss: 0.1321 - val_acc: 0.9586\n",
      "9673/9673 [==============================] - 21s 2ms/step\n",
      "Test loss: 0.132134125281\n",
      "Test accuracy: 0.958647782487\n"
     ]
    }
   ],
   "source": [
    "fruit_model = Sequential()\n",
    "fruit_model.add(Convolution2D(32, kernel_size=(3, 3),\n",
    "                 activation='relu',\n",
    "                 input_shape=(45, 45, 3)))\n",
    "fruit_model.add(Convolution2D(64, (3, 3), activation='relu'))\n",
    "fruit_model.add(MaxPooling2D(pool_size=(2, 2)))\n",
    "fruit_model.add(Dropout(0.25))\n",
    "fruit_model.add(Flatten())\n",
    "fruit_model.add(Dense(128, activation='relu'))\n",
    "fruit_model.add(Dropout(0.5))\n",
    "fruit_model.add(Dense(60, activation='softmax'))\n",
    "\n",
    "fruit_model.compile(loss='categorical_crossentropy',\n",
    "              optimizer='adam',\n",
    "              metrics=['accuracy'])\n",
    "\n",
    "fruit_model.fit(train_data, train_labels,\n",
    "          batch_size=128,\n",
    "          epochs=5,\n",
    "          verbose=1,\n",
    "          validation_data=(test_data, test_labels))\n",
    "score = fruit_model.evaluate(test_data, test_labels, verbose=1)\n",
    "print('Test loss:', score[0])\n",
    "print('Test accuracy:', score[1])"
   ]
  },
  {
   "cell_type": "markdown",
   "metadata": {},
   "source": [
    "As you can see, we get pretty high accuracy over both the train and test data, meaning we have made a good classifier, without too much overfitting. Once you've trained your model, you can save it for later, for further predictions, or further training:"
   ]
  },
  {
   "cell_type": "code",
   "execution_count": 31,
   "metadata": {
    "collapsed": true
   },
   "outputs": [],
   "source": [
    "model.save('MNIST_model.h5')\n",
    "fruit_model.save('fruit_model.h5')"
   ]
  },
  {
   "cell_type": "markdown",
   "metadata": {},
   "source": [
    "### References\n",
    "\n",
    "For more information, feel free to consult these links:\n",
    "\n",
    "1. Keras: https://keras.io/\n",
    "2. TensorFlow: https://www.tensorflow.org/\n",
    "3. Keras Examples: https://keras.io/getting-started/sequential-model-guide/#examples\n"
   ]
  }
 ],
 "metadata": {
  "kernelspec": {
   "display_name": "Python 3",
   "language": "python",
   "name": "python3"
  },
  "language_info": {
   "codemirror_mode": {
    "name": "ipython",
    "version": 3
   },
   "file_extension": ".py",
   "mimetype": "text/x-python",
   "name": "python",
   "nbconvert_exporter": "python",
   "pygments_lexer": "ipython3",
   "version": "3.6.3"
  }
 },
 "nbformat": 4,
 "nbformat_minor": 2
}
