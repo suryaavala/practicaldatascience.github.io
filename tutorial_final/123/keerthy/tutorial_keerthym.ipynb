{
 "cells": [
  {
   "cell_type": "markdown",
   "metadata": {},
   "source": [
    "# Overview of Feature Selection Methods available in scikit-learn"
   ]
  },
  {
   "cell_type": "markdown",
   "metadata": {
    "collapsed": true
   },
   "source": [
    "## Introduction\n",
    "\n",
    "In this tutorial, we will see select methods for feature selection using scikit-learn library. Feature Selection is the process of selecting the most relevant features based on various constraints that would contribute most to the output we are interested in. Having a good set of features can improve the accuracy of models manifold, especially when the dataset is large. Feature Selection is one of the important jobs while approaching a machine learning problem. The classifiers you write will be only as good as the features you provide. \n",
    "\n",
    "\n",
    "The process of feature selection enables one to think like a classifier. What data is useful to me to classify the input set? We can dump any unuseful data. Another point to keep in mind is to use independent features that give you different types of information about the data.Remove highly correlated data as they may lead to overfitting the model and hurt the accuracy.\n",
    "\n",
    "<img src =\"http://3.bp.blogspot.com/-Awzj2haNuko/UMkonIL1c5I/AAAAAAAAATw/6ayxi-F15d4/s1600/feature_selection.png\">\n",
    "\n",
    "\n",
    "Source : http://3.bp.blogspot.com/-Awzj2haNuko/UMkonIL1c5I/AAAAAAAAATw/6ayxi-F15d4/s1600/feature_selection.png\n",
    "\n",
    "\n",
    "\n",
    "\n",
    "\n",
    "\n",
    "\n"
   ]
  },
  {
   "cell_type": "markdown",
   "metadata": {},
   "source": [
    "Topics Covered:\n",
    "   In this tutorial, we will see a few methods to preform feature selection in Python, specifically using scikit-learn library. While Feature Extraction or Feature Engineering is a very intricate task in itself, we will not be focusing on how to engineer features in this tutorial. We will review few ways of selecting features in a given dataset and the ideology behind it. \n",
    "   \n",
    "We will cover the following topics in this tutorial:\n",
    "-  [Installing the libraries](#Installing-the-libraries)\n",
    "-  [Univariate Feature Selection](#Univariate-Feature-Selection)\n",
    "-  [Recursive Feature Elimination](#Recursive-Feature-Elimination)\n",
    "-  [Feature Selection Using SelectFromModel and LassoCV](#Feature-Selection-Using-SelectFromModel-and-LassoCV)\n",
    "-  [Removing Features with Low Variance using VarianceThreshold](#Removing-Features-with-Low-Variance-using-VarianceThreshold)\n",
    "-  [Example Demonstration](#Example-Demonstration)\n",
    "\n",
    "In all of my examples, I use a regression dataset but most of them are applicable on a classification dataset as well.For demonstration purposes, we will be using the Iris dataset or the Boston Housing Dataset. Finally, an example using the Vehicle Data Set with the Features we added as a part of HW3 will be used to demonstrate a few methods discussed. "
   ]
  },
  {
   "cell_type": "markdown",
   "metadata": {},
   "source": [
    "\n",
    "    \n",
    "    \n",
    " "
   ]
  },
  {
   "cell_type": "markdown",
   "metadata": {},
   "source": [
    "## Installing the libraries\n",
    "\n",
    "Scikit-learn requires:\n",
    "- Python (>= 2.7 or >= 3.3),\n",
    "- NumPy (>= 1.8.2),\n",
    "- SciPy (>= 0.13.3).\n",
    "\n",
    "Using pip: \n",
    "pip install -U scikit-learn\n",
    "\n",
    "or conda:\n",
    "\n",
    "conda install scikit-learn\n",
    "\n",
    "If you have Anaconda already installed, you do not need to perform the above step. A recent version of scikit-learn gets installed during the installation of Anaconda. After installation, please ensure the following code works for you."
   ]
  },
  {
   "cell_type": "code",
   "execution_count": 18,
   "metadata": {
    "collapsed": true
   },
   "outputs": [],
   "source": [
    "import numpy as np\n",
    "import pandas as pd\n",
    "\n",
    "\n",
    "from sklearn.feature_selection import VarianceThreshold\n",
    "import sklearn.datasets as datasets\n",
    "from sklearn.feature_selection import SelectPercentile,f_classif, f_regression,SelectKBest\n",
    "from sklearn.feature_selection import chi2\n",
    "from sklearn.ensemble import RandomForestClassifier\n",
    "from sklearn.feature_selection import RFECV\n",
    "from sklearn.svm import LinearSVC\n",
    "from sklearn.feature_selection import SelectFromModel\n",
    "from sklearn.linear_model import LassoCV\n",
    " "
   ]
  },
  {
   "cell_type": "markdown",
   "metadata": {
    "collapsed": true
   },
   "source": [
    "## Univariate Feature Selection\n",
    "    \n",
    "This method is widely used for understanding the data better. This will not necessarily help better your generalization but will give you a fair idea of how the features are correlated to the target variable.\n",
    "    \n",
    "Scikit-learn provides f_regression method for computing the p-values.It takes one input variable and one output variable at a time and calculates the correlation in the form of p-values(also f-values).Lower p-value means that the correlation is strong, hence (generally) not a good feature to be included in your model and high p-value means that the correlation is purely due to chance.For classification,a good test is the Chi-square test.It is intended to test how likely it is that an observed distribution is due to chance. \n",
    "\n",
    "SciKit-learn provides feature selection classes whose objects has a transform method:\n",
    "- SelectKBest - keeps only those features that recevie the top k scores.\n",
    "- SelectPercentile -keeps only those features that score highest percentage of features\n",
    "- GenericUnivariateSelect -This is a configurable routine that takes in the mode,a number for modes that needs a parameter and a score function as parameters.\n",
    "\n",
    "These functions help with univariate statistics on each feature:\n",
    " \n",
    "- SelectFwe -used to select based on Family-wise Error\n",
    "- SelectFdr -used to select based on False Discovery Rate\n",
    "- SelectFpr -used to select based on False Positive Rate\n",
    "\n",
    "We will see an example of SelectPercentile using f_classif as the scoring function. \n"
   ]
  },
  {
   "cell_type": "code",
   "execution_count": 4,
   "metadata": {},
   "outputs": [
    {
     "name": "stdout",
     "output_type": "stream",
     "text": [
      "Original feature vector shape:(150, 4) \n",
      "After introducing noise data, shape:(150, 24) \n",
      "After performing feature selection, shape:(150, 3) \n"
     ]
    }
   ],
   "source": [
    "iris = datasets.load_iris()\n",
    "#intiial size of the independent variables\n",
    "print(\"Original feature vector shape:%s \"  %str(iris.data.shape))\n",
    "\n",
    "# creating 20 columns of noise\n",
    "E = np.random.uniform(0, 0.1, size=(len(iris.data), 20))\n",
    "\n",
    "# Add the noisy data to the exisitng features\n",
    "X = np.hstack((iris.data, E))\n",
    "\n",
    "print(\"After introducing noise data, shape:%s \"  %str(X.shape))\n",
    "\n",
    "#response variable y\n",
    "y = iris.target \n",
    "\n",
    "\n",
    "# Univariate feature selection with F-test for feature scoring\n",
    "# We use the default selection function: the 10% most significant features\n",
    "selector = SelectPercentile(f_regression, percentile=10)\n",
    "fitted =selector.fit(X, y)\n",
    "new_set =selector.transform(X)\n",
    "print(\"After performing feature selection, shape:%s \"  %str(new_set.shape))\n",
    "\n",
    "\n",
    " \n"
   ]
  },
  {
   "cell_type": "markdown",
   "metadata": {},
   "source": [
    "This above example demonstrates how the features have been removed with the SelectPercentile function with regression based on f distributon.We will see the scores of all the 24 features below:"
   ]
  },
  {
   "cell_type": "code",
   "execution_count": 5,
   "metadata": {},
   "outputs": [
    {
     "name": "stdout",
     "output_type": "stream",
     "text": [
      "[  2.33838996e+02   3.15975083e+01   1.34215919e+03   1.58955920e+03\n",
      "   1.76919703e+00   3.27990967e-02   5.58612793e+00   5.18552784e-01\n",
      "   8.24292783e-01   2.00030571e+00   3.38748966e-01   1.08472512e-01\n",
      "   1.81513098e+00   2.82386345e-01   2.11526376e-02   5.76839730e-01\n",
      "   8.05795666e-02   2.89174233e+00   1.83049454e-01   2.72182330e-01\n",
      "   2.79699763e-01   5.68928128e-02   5.25167697e-01   3.94660844e-01]\n",
      "[[ 5.1  1.4  0.2]\n",
      " [ 4.9  1.4  0.2]\n",
      " [ 4.7  1.3  0.2]\n",
      " [ 4.6  1.5  0.2]\n",
      " [ 5.   1.4  0.2]]\n"
     ]
    }
   ],
   "source": [
    "#prints the scores of each feature fed as X\n",
    "print(selector.scores_)\n",
    " \n",
    "#After fitting, the values of the input variable array\n",
    "print(new_set[:5])"
   ]
  },
  {
   "cell_type": "markdown",
   "metadata": {},
   "source": [
    "## Recursive Feature Elimination\n",
    "\n",
    "The methodology is Recursive Feature Elimination(RFE) which, as the name suggests, recursively removes features based on the given set of rules and   a supervised learning estimator with fit method . The estimator is first trained on the dataset and weights are assigned to each feature. Recursively, those features that have the smallest weights are eliminated.We can specify the number of features to be removed at each iteration. The importance of each feature is obtained either through a coefficient of the features in the decision function or through a feature_importances_attribute.\n",
    " \n",
    "Recursive Feature Elimination with Cross Validation provides support for feature ranking and cross-validated selection of the best number of features.The fold can be specified as a parameter. It will recursively eliminate features untill it reaches the best cross validation score."
   ]
  },
  {
   "cell_type": "code",
   "execution_count": 6,
   "metadata": {},
   "outputs": [
    {
     "data": {
      "text/plain": [
       "['sepal length (cm)',\n",
       " 'sepal width (cm)',\n",
       " 'petal length (cm)',\n",
       " 'petal width (cm)']"
      ]
     },
     "execution_count": 6,
     "metadata": {},
     "output_type": "execute_result"
    }
   ],
   "source": [
    "iris=datasets.load_iris()\n",
    "X=iris.data\n",
    "y=iris.target\n",
    "names=iris.feature_names\n",
    "names\n"
   ]
  },
  {
   "cell_type": "code",
   "execution_count": 7,
   "metadata": {},
   "outputs": [
    {
     "name": "stdout",
     "output_type": "stream",
     "text": [
      "Score of the feature selection model:0.966666666667\n",
      "\n",
      "Optimal number of features 4\n",
      "\n",
      "Array indicating the features selected. True if the feature is retained and False if eliminated: \n",
      "[ True  True  True  True]\n",
      "\n",
      "Ranking:\n",
      " [1 1 1 1]\n",
      "\n",
      "The cross-validation scores such that grid_scores_[i] corresponds to the CV score of the i-th subset of features. \n",
      "[ 0.91421569  0.94689542  0.95383987  0.96691176]\n",
      "\n",
      "There are 3 classes and 4 features. Below are the weights assigned by the estimator for each feature against each class\n",
      "\n",
      "Iris Plant classes:\n",
      "Iris Setosa\n",
      "Iris Versicolour\n",
      "Iris Virginica\n",
      "Features: \n",
      "['sepal length (cm)', 'sepal width (cm)', 'petal length (cm)', 'petal width (cm)']\n",
      "\n",
      "[[ 0.18423394  0.45122265 -0.80794137 -0.45071277]\n",
      " [ 0.05318082 -0.8913984   0.40302358 -0.9365123 ]\n",
      " [-0.85076916 -0.9864955   1.38091588  1.86543944]]\n"
     ]
    }
   ],
   "source": [
    "estimator=LinearSVC()\n",
    "m = RFECV(estimator=estimator,cv=3)\n",
    "m.fit(X,y)\n",
    "print(\"Score of the feature selection model:%s\"%m.score(X,y))\n",
    "print(\"\\nOptimal number of features %s\"%m.n_features_)\n",
    "print(\"\\nArray indicating the features selected. True if the feature is retained and False if eliminated: \\n%s\"%m.support_)\n",
    "print(\"\\nRanking:\\n %s\"%m.ranking_)\n",
    "print(\"\\nThe cross-validation scores such that grid_scores_[i] corresponds to the CV score of the i-th subset of features. \\n%s\"%m.grid_scores_) \n",
    "# for x,y in zip(names, m.estimator_.coef_):\n",
    "#     print(x,y)\n",
    "print(\"\\nThere are 3 classes and 4 features. Below are the weights assigned by the estimator for each feature against each class\")\n",
    "print(\"\\nIris Plant classes:\"+\"\\nIris Setosa\\nIris Versicolour\\nIris Virginica\")\n",
    "print(\"Features: \\n\" +str(names)+ \"\\n\")\n",
    "print(m.estimator_.coef_)"
   ]
  },
  {
   "cell_type": "code",
   "execution_count": 8,
   "metadata": {},
   "outputs": [
    {
     "data": {
      "text/plain": [
       "array([0, 0, 0, 0, 0, 0, 0, 0, 0, 0, 0, 0, 0, 0, 0, 0, 0, 0, 0, 0, 0, 0, 0,\n",
       "       0, 0, 0, 0, 0, 0, 0, 0, 0, 0, 0, 0, 0, 0, 0, 0, 0, 0, 0, 0, 0, 0, 0,\n",
       "       0, 0, 0, 0, 1, 1, 1, 1, 1, 1, 1, 1, 1, 1, 1, 1, 1, 1, 1, 1, 1, 1, 1,\n",
       "       1, 2, 1, 1, 1, 1, 1, 1, 1, 1, 1, 1, 1, 1, 2, 2, 1, 1, 1, 1, 1, 1, 1,\n",
       "       1, 1, 1, 1, 1, 1, 1, 1, 2, 2, 2, 2, 2, 2, 2, 2, 2, 2, 2, 2, 2, 2, 2,\n",
       "       2, 2, 2, 2, 2, 2, 2, 2, 2, 2, 2, 2, 2, 2, 1, 2, 2, 2, 1, 2, 2, 2, 2,\n",
       "       2, 2, 2, 2, 2, 2, 2, 2, 2, 2, 2, 2])"
      ]
     },
     "execution_count": 8,
     "metadata": {},
     "output_type": "execute_result"
    }
   ],
   "source": [
    "m.predict(X)"
   ]
  },
  {
   "cell_type": "markdown",
   "metadata": {
    "collapsed": true
   },
   "source": [
    "## Feature Selection Using SelectFromModel and LassoCV\n",
    "\n",
    "Meta-transformer for selecting features based on importance weights.An important parameter of SelectFromModel function is the \"threshold\" parameter. The threshold is either a string or a float value. Those features whose value is below the threshold are removed. The threshold  may be a string {\"median\",\"mean\"}. Float multiples can also be given, which can be used for scaling purposes, eg. \"1.25*mean\".\n",
    "\n",
    "If you are not giving a threshold,the mean is used. If threshold is not passed but the estimator has a penalty set to l1,the threshold used is 1e-5. For example, LassoCV is linear regression with l1 penalty. If used, without passing a threshold valie, the threshold is set to 1e-5.\n",
    "\n",
    "We will see an example with SelectFromModel and LassoCV\n",
    "\n",
    "Here is a quick look at the Boston House Prices dataset:\n"
   ]
  },
  {
   "cell_type": "code",
   "execution_count": 9,
   "metadata": {},
   "outputs": [
    {
     "name": "stdout",
     "output_type": "stream",
     "text": [
      "Boston House Prices dataset\n",
      "===========================\n",
      "\n",
      "Notes\n",
      "------\n",
      "Data Set Characteristics:  \n",
      "\n",
      "    :Number of Instances: 506 \n",
      "\n",
      "    :Number of Attributes: 13 numeric/categorical predictive\n",
      "    \n",
      "    :Median Value (attribute 14) is usually the target\n",
      "\n",
      "    :Attribute Information (in order):\n",
      "        - CRIM     per capita crime rate by town\n",
      "        - ZN       proportion of residential land zoned for lots over 25,000 sq.ft.\n",
      "        - INDUS    proportion of non-retail business acres per town\n",
      "        - CHAS     Charles River dummy variable (= 1 if tract bounds river; 0 otherwise)\n",
      "        - NOX      nitric oxides concentration (parts per 10 million)\n",
      "        - RM       average number of rooms per dwelling\n",
      "        - AGE      proportion of owner-occupied units built prior to 1940\n",
      "        - DIS      weighted distances to five Boston employment centres\n",
      "        - RAD      index of accessibility to radial highways\n",
      "        - TAX      full-value property-tax rate per $10,000\n",
      "        - PTRATIO  pupil-teacher ratio by town\n",
      "        - B        1000(Bk - 0.63)^2 where Bk is the proportion of blacks by town\n",
      "        - LSTAT    % lower status of the population\n",
      "        - MEDV     Median value of owner-occupied homes in $1000's\n",
      "\n",
      "    :Missing Attribute Values: None\n",
      "\n",
      "    :Creator: Harrison, D. and Rubinfeld, D.L.\n",
      "\n",
      "This is a copy of UCI ML housing dataset.\n",
      "http://archive.ics.uci.edu/ml/datasets/Housing\n",
      "\n",
      "\n",
      "This dataset was taken from the StatLib library which is maintained at Carnegie Mellon University.\n",
      "\n",
      "The Boston house-price data of Harrison, D. and Rubinfeld, D.L. 'Hedonic\n",
      "prices and the demand for clean air', J. Environ. Economics & Management,\n",
      "vol.5, 81-102, 1978.   Used in Belsley, Kuh & Welsch, 'Regression diagnostics\n",
      "...', Wiley, 1980.   N.B. Various transformations are used in the table on\n",
      "pages 244-261 of the latter.\n",
      "\n",
      "The Boston house-price data has been used in many machine learning papers that address regression\n",
      "problems.   \n",
      "     \n",
      "**References**\n",
      "\n",
      "   - Belsley, Kuh & Welsch, 'Regression diagnostics: Identifying Influential Data and Sources of Collinearity', Wiley, 1980. 244-261.\n",
      "   - Quinlan,R. (1993). Combining Instance-Based and Model-Based Learning. In Proceedings on the Tenth International Conference of Machine Learning, 236-243, University of Massachusetts, Amherst. Morgan Kaufmann.\n",
      "   - many more! (see http://archive.ics.uci.edu/ml/datasets/Housing)\n",
      "\n"
     ]
    }
   ],
   "source": [
    "dataset = datasets.load_boston()\n",
    "print(dataset.DESCR)"
   ]
  },
  {
   "cell_type": "code",
   "execution_count": 10,
   "metadata": {},
   "outputs": [
    {
     "data": {
      "text/html": [
       "<div>\n",
       "<style>\n",
       "    .dataframe thead tr:only-child th {\n",
       "        text-align: right;\n",
       "    }\n",
       "\n",
       "    .dataframe thead th {\n",
       "        text-align: left;\n",
       "    }\n",
       "\n",
       "    .dataframe tbody tr th {\n",
       "        vertical-align: top;\n",
       "    }\n",
       "</style>\n",
       "<table border=\"1\" class=\"dataframe\">\n",
       "  <thead>\n",
       "    <tr style=\"text-align: right;\">\n",
       "      <th></th>\n",
       "      <th>CRIM</th>\n",
       "      <th>ZN</th>\n",
       "      <th>INDUS</th>\n",
       "      <th>CHAS</th>\n",
       "      <th>NOX</th>\n",
       "      <th>RM</th>\n",
       "      <th>AGE</th>\n",
       "      <th>DIS</th>\n",
       "      <th>RAD</th>\n",
       "      <th>TAX</th>\n",
       "      <th>PTRATIO</th>\n",
       "      <th>B</th>\n",
       "      <th>LSTAT</th>\n",
       "      <th>target</th>\n",
       "    </tr>\n",
       "  </thead>\n",
       "  <tbody>\n",
       "    <tr>\n",
       "      <th>0</th>\n",
       "      <td>0.00632</td>\n",
       "      <td>18.0</td>\n",
       "      <td>2.31</td>\n",
       "      <td>0.0</td>\n",
       "      <td>0.538</td>\n",
       "      <td>6.575</td>\n",
       "      <td>65.2</td>\n",
       "      <td>4.0900</td>\n",
       "      <td>1.0</td>\n",
       "      <td>296.0</td>\n",
       "      <td>15.3</td>\n",
       "      <td>396.90</td>\n",
       "      <td>4.98</td>\n",
       "      <td>24.0</td>\n",
       "    </tr>\n",
       "    <tr>\n",
       "      <th>1</th>\n",
       "      <td>0.02731</td>\n",
       "      <td>0.0</td>\n",
       "      <td>7.07</td>\n",
       "      <td>0.0</td>\n",
       "      <td>0.469</td>\n",
       "      <td>6.421</td>\n",
       "      <td>78.9</td>\n",
       "      <td>4.9671</td>\n",
       "      <td>2.0</td>\n",
       "      <td>242.0</td>\n",
       "      <td>17.8</td>\n",
       "      <td>396.90</td>\n",
       "      <td>9.14</td>\n",
       "      <td>21.6</td>\n",
       "    </tr>\n",
       "    <tr>\n",
       "      <th>2</th>\n",
       "      <td>0.02729</td>\n",
       "      <td>0.0</td>\n",
       "      <td>7.07</td>\n",
       "      <td>0.0</td>\n",
       "      <td>0.469</td>\n",
       "      <td>7.185</td>\n",
       "      <td>61.1</td>\n",
       "      <td>4.9671</td>\n",
       "      <td>2.0</td>\n",
       "      <td>242.0</td>\n",
       "      <td>17.8</td>\n",
       "      <td>392.83</td>\n",
       "      <td>4.03</td>\n",
       "      <td>34.7</td>\n",
       "    </tr>\n",
       "    <tr>\n",
       "      <th>3</th>\n",
       "      <td>0.03237</td>\n",
       "      <td>0.0</td>\n",
       "      <td>2.18</td>\n",
       "      <td>0.0</td>\n",
       "      <td>0.458</td>\n",
       "      <td>6.998</td>\n",
       "      <td>45.8</td>\n",
       "      <td>6.0622</td>\n",
       "      <td>3.0</td>\n",
       "      <td>222.0</td>\n",
       "      <td>18.7</td>\n",
       "      <td>394.63</td>\n",
       "      <td>2.94</td>\n",
       "      <td>33.4</td>\n",
       "    </tr>\n",
       "    <tr>\n",
       "      <th>4</th>\n",
       "      <td>0.06905</td>\n",
       "      <td>0.0</td>\n",
       "      <td>2.18</td>\n",
       "      <td>0.0</td>\n",
       "      <td>0.458</td>\n",
       "      <td>7.147</td>\n",
       "      <td>54.2</td>\n",
       "      <td>6.0622</td>\n",
       "      <td>3.0</td>\n",
       "      <td>222.0</td>\n",
       "      <td>18.7</td>\n",
       "      <td>396.90</td>\n",
       "      <td>5.33</td>\n",
       "      <td>36.2</td>\n",
       "    </tr>\n",
       "  </tbody>\n",
       "</table>\n",
       "</div>"
      ],
      "text/plain": [
       "      CRIM    ZN  INDUS  CHAS    NOX     RM   AGE     DIS  RAD    TAX  \\\n",
       "0  0.00632  18.0   2.31   0.0  0.538  6.575  65.2  4.0900  1.0  296.0   \n",
       "1  0.02731   0.0   7.07   0.0  0.469  6.421  78.9  4.9671  2.0  242.0   \n",
       "2  0.02729   0.0   7.07   0.0  0.469  7.185  61.1  4.9671  2.0  242.0   \n",
       "3  0.03237   0.0   2.18   0.0  0.458  6.998  45.8  6.0622  3.0  222.0   \n",
       "4  0.06905   0.0   2.18   0.0  0.458  7.147  54.2  6.0622  3.0  222.0   \n",
       "\n",
       "   PTRATIO       B  LSTAT  target  \n",
       "0     15.3  396.90   4.98    24.0  \n",
       "1     17.8  396.90   9.14    21.6  \n",
       "2     17.8  392.83   4.03    34.7  \n",
       "3     18.7  394.63   2.94    33.4  \n",
       "4     18.7  396.90   5.33    36.2  "
      ]
     },
     "execution_count": 10,
     "metadata": {},
     "output_type": "execute_result"
    }
   ],
   "source": [
    "from sklearn.svm import LinearSVC\n",
    "from sklearn.feature_selection import SelectFromModel\n",
    "import matplotlib.pyplot as plt\n",
    "df = pd.DataFrame(dataset.data, columns=dataset.feature_names)\n",
    "df['target'] = dataset.target\n",
    "df.head()\n",
    "   \n",
    "    "
   ]
  },
  {
   "cell_type": "code",
   "execution_count": 11,
   "metadata": {},
   "outputs": [
    {
     "name": "stdout",
     "output_type": "stream",
     "text": [
      "Number of features before feature selection: 13\n",
      "\n",
      "No of features after fitting using selectFromModel: 10\n",
      "\n",
      "\n",
      "Reducing the number of features to 2 by increasing the threshold iteratively:\n"
     ]
    },
    {
     "data": {
      "image/png": "[encoded data removed]",
      "text/plain": [
       "<matplotlib.figure.Figure at 0x27e8552fe80>"
      ]
     },
     "metadata": {},
     "output_type": "display_data"
    }
   ],
   "source": [
    "y=df.target\n",
    "X=df.drop('target',1)\n",
    "print(\"Number of features before feature selection: %s\"%X.shape[1])\n",
    "\n",
    "m = SelectFromModel(LassoCV())\n",
    "\n",
    "m.fit(X, y)\n",
    "\n",
    "n_features = m.transform(X).shape[1]\n",
    "\n",
    "print(\"\\nNo of features after fitting using selectFromModel: %d\" % n_features)\n",
    "\n",
    "#setting the threshold for plotting purposes\n",
    "m.threshold=10 ** -5\n",
    " \n",
    "# Reset the threshold till the number of features equals two.\n",
    "# Note that the attribute can be set directly instead of repeatedly\n",
    "# fitting the meta-transformer.\n",
    "\n",
    "print(\"\\n\\nReducing the number of features to 2 by increasing the threshold iteratively:\")\n",
    "while n_features > 2:\n",
    "    m.threshold += 0.1\n",
    "    X_transform = m.transform(X)\n",
    "    n_features = X_transform.shape[1]\n",
    "    \n",
    "    \n",
    "# Plot the selected two features from X.\n",
    "plt.title(\"Features selected from Boston using SelectFromModel with threshold %0.2f.\" % m.threshold)\n",
    "feature1 = X_transform[:, 0]\n",
    "feature2 = X_transform[:, 1]\n",
    "\n",
    "#Plotting feature 1 as the input against feature 2 output\n",
    "plt.plot(feature1, feature2, 'r.')\n",
    "plt.xlabel(\"Feature number 1\")\n",
    "plt.ylabel(\"Feature number 2\")\n",
    "plt.ylim([np.min(feature2), np.max(feature2)])\n",
    "plt.show()\n",
    "\n"
   ]
  },
  {
   "cell_type": "markdown",
   "metadata": {},
   "source": [
    "# Removing Features with Low Variance using VarianceThreshold\n",
    "\n",
    "\n",
    "A simple way of removing features from a dataset is to specify a variance threshold and removing everything that is below the threshold. By default, it removes all zero-variance features, i.e. features that have the same value in all samples."
   ]
  },
  {
   "cell_type": "code",
   "execution_count": 12,
   "metadata": {},
   "outputs": [
    {
     "name": "stdout",
     "output_type": "stream",
     "text": [
      "The following are the variances of the original feature vector: \n",
      "\n",
      "[  7.37586143e+01   5.42861840e+02   4.69714297e+01   6.43854770e-02\n",
      "   1.34010989e-02   4.92695216e-01   7.90792473e+02   4.42525226e+00\n",
      "   7.56665313e+01   2.83486236e+04   4.67772630e+00   8.31828042e+03\n",
      "   5.08939794e+01]\n",
      "\n",
      " Printing the support array. True indicates the feature is included and False indicates the feature is not retained:\n",
      "\n",
      "[ True  True  True False False  True  True  True  True  True  True  True\n",
      "  True]\n"
     ]
    }
   ],
   "source": [
    "boston= datasets.load_boston() \n",
    "X=boston.data\n",
    "y=boston.target\n",
    "\n",
    "#Define the feature selector with threshold\n",
    "sel = VarianceThreshold(threshold=(.2 * (1 - .2)))\n",
    "\n",
    "#Fit and Transform\n",
    "sel.fit(X)\n",
    "sel.transform(X)\n",
    "print(\"The following are the variances of the original feature vector: \\n\")\n",
    "print(sel.variances_)\n",
    "\n",
    "#An index that selects the retained features from a feature vector. \n",
    "#If indices is False, this is a boolean array of shape [# input features],\n",
    "#in which an element is True iff its corresponding feature is selected for retention. If indices is True, \n",
    "#this is an integer array of shape [# output features] whose values are indices into the input feature vector.\n",
    "print(\"\\n Printing the support array. True indicates the feature is included and False indicates the \"\n",
    "      \"feature is not retained:\\n\")\n",
    "print(sel.get_support())"
   ]
  },
  {
   "cell_type": "markdown",
   "metadata": {
    "collapsed": true
   },
   "source": [
    "# Example Demonstration\n",
    "\n",
    "In this section we will look at some of the above methods implemented for the Vehicle Data Frame(vdf) produced in homework 3."
   ]
  },
  {
   "cell_type": "code",
   "execution_count": 13,
   "metadata": {
    "collapsed": true
   },
   "outputs": [],
   "source": [
    "from sklearn.linear_model import LinearRegression"
   ]
  },
  {
   "cell_type": "code",
   "execution_count": null,
   "metadata": {
    "collapsed": true
   },
   "outputs": [],
   "source": [
    "vdf = pd.read_csv(\"vdf12.csv\")\n",
    "vdf.columns\n",
    "vdf.head()\n",
    "y=vdf['eta']\n",
    "X=vdf.drop('eta',1) \n",
    "#Using Linear Support Vector Classification as the estimator \n",
    "m = SelectFromModel(LinearSVC(C=0.01, penalty='l1', dual=False))\n",
    "m.fit(X, y)\n",
    "new_X=m.transform(X)\n",
    "n_features =new_X.shape[1]\n"
   ]
  },
  {
   "cell_type": "code",
   "execution_count": 22,
   "metadata": {},
   "outputs": [
    {
     "name": "stdout",
     "output_type": "stream",
     "text": [
      "[ True False  True  True  True False  True False False False False False\n",
      " False  True False  True False False False False False  True  True  True]\n"
     ]
    }
   ],
   "source": [
    "print(m.get_support())"
   ]
  },
  {
   "cell_type": "markdown",
   "metadata": {},
   "source": [
    "All features are selected when the estimator is a classifier. We know there cannot be class memberships in this dataset. We use Linear Regression as a estimator in the following example and find out which features were eliminated."
   ]
  },
  {
   "cell_type": "code",
   "execution_count": 15,
   "metadata": {},
   "outputs": [
    {
     "name": "stdout",
     "output_type": "stream",
     "text": [
      "Number of features selected:10\n",
      "\n",
      "pdist has been eliminated\n",
      "\n",
      "spd has been eliminated\n",
      "\n",
      "lat has been eliminated\n",
      "\n",
      "lon has been eliminated\n",
      "\n",
      "bias has been eliminated\n",
      "\n",
      "sin_hdg has been eliminated\n",
      "\n",
      "cos_hdg has been eliminated\n",
      "\n",
      "sin_day_of_week has been eliminated\n",
      "\n",
      "cos_day_of_week has been eliminated\n",
      "\n",
      "sin_hour_of_day has been eliminated\n",
      "\n",
      "cos_hour_of_day has been eliminated\n",
      "\n",
      "sin_time_of_day has been eliminated\n",
      "\n",
      "cos_time_of_day has been eliminated\n",
      "\n",
      "weekday has been eliminated\n",
      "\n",
      "Braddock  has been selected\n",
      "\n",
      "Downtown has been selected\n",
      "\n",
      "Greenfield Only has been selected\n",
      "\n",
      "McKeesport  has been selected\n",
      "\n",
      "Murray-Waterfront has been selected\n",
      "\n",
      "Swissvale has been selected\n",
      "\n",
      "61A has been selected\n",
      "\n",
      "61B has been selected\n",
      "\n",
      "61C has been selected\n",
      "\n",
      "61D has been selected\n",
      "\n"
     ]
    }
   ],
   "source": [
    "vdf = pd.read_csv(\"vdf12.csv\")\n",
    "vdf.columns\n",
    "vdf.head()\n",
    "y=vdf['eta']\n",
    "X=vdf.drop('eta',1)\n",
    "lr = LinearRegression(normalize=True)\n",
    "m = SelectFromModel(lr)\n",
    "m.fit(X, y)\n",
    "new_X=m.transform(X)\n",
    "n_features =new_X.shape[1]\n",
    "print(\"Number of features selected:%d\" %n_features + \"\\n\")\n",
    "new_X[:2]\n",
    "# print(m.get_support())\n",
    "# print(X.columns)\n",
    "for x,y in zip(list(X.columns),m.get_support()):\n",
    "   \n",
    "    if(y==False):\n",
    "        print(x + \" has been eliminated\\n\")\n",
    "    else:\n",
    "        print(x + \" has been selected\\n\")\n"
   ]
  },
  {
   "cell_type": "code",
   "execution_count": 16,
   "metadata": {},
   "outputs": [
    {
     "name": "stdout",
     "output_type": "stream",
     "text": [
      "The threshold of elimination is:11991409907391 \n",
      "Coeffecient of determination of the linear regression model for each feature:\n",
      "[ -7.97209554e-04  -3.08965235e-02   9.21567243e+01  -2.31550442e+01\n",
      "  -1.15746689e+12   4.82981759e-01  -5.87753431e-01   4.85866179e-01\n",
      "  -1.16607934e-01   2.56513171e+00  -3.11938922e-01  -2.65402556e+00\n",
      "  -7.87712798e-01   1.05836074e+00  -3.63033749e+13  -3.63033749e+13\n",
      "  -3.63033749e+13  -3.63033749e+13  -3.63033749e+13  -3.63033749e+13\n",
      "   1.72040304e+13   1.72040304e+13   1.72040304e+13   1.72040304e+13]\n"
     ]
    }
   ],
   "source": [
    "print(\"The threshold of elimination is:%d \" %m.threshold_)\n",
    "print(\"Coeffecient of determination of the linear regression model for each feature:\\n\" + str(m.estimator_.coef_))"
   ]
  },
  {
   "cell_type": "markdown",
   "metadata": {},
   "source": [
    "Interestingly, only those columns that are binary indicators of the route and destination were selected using the above model. R squared value of these columns where higher than the threshold. \n",
    "Let us examine the use of a Univariate Method using  f_regression. Univariate methods are most useful to regress each input against the output and get a better understanding of the dataset."
   ]
  },
  {
   "cell_type": "code",
   "execution_count": 19,
   "metadata": {},
   "outputs": [
    {
     "data": {
      "text/plain": [
       "array([  1.05792308e+04,   2.72499367e+03,   1.97052988e+04,\n",
       "         1.97030195e+04,   1.97144615e+04,   1.18276301e+03,\n",
       "         7.90666359e+03,   2.05607309e+01,   1.25284031e+03,\n",
       "         1.51101663e+02,   4.02071321e+03,   1.96252312e+01,\n",
       "         4.07588700e+03,   1.55899087e+04,   6.07763141e+01,\n",
       "         2.27921169e+04,   1.05281735e+02,   7.17238874e+01,\n",
       "         6.00360629e+01,   3.80777881e+01,   1.22410896e+03,\n",
       "         4.85682997e+03,   5.60049393e+03,   4.32455805e+03])"
      ]
     },
     "execution_count": 19,
     "metadata": {},
     "output_type": "execute_result"
    }
   ],
   "source": [
    "from sklearn.preprocessing import normalize\n",
    "y=vdf['eta']\n",
    "X=vdf.drop('eta',1)\n",
    "X=normalize(X)\n",
    "#By Default uses 10 best features based on the f statistic\n",
    "m=SelectKBest(f_regression)\n",
    "m.fit(X,y)\n",
    "m.transform(X)\n",
    "m.scores_"
   ]
  },
  {
   "cell_type": "code",
   "execution_count": 20,
   "metadata": {},
   "outputs": [
    {
     "name": "stdout",
     "output_type": "stream",
     "text": [
      "['pdist', 'lat', 'lon', 'bias', 'cos_hdg', 'weekday', 'Downtown', '61B', '61C', '61D']\n"
     ]
    }
   ],
   "source": [
    "#Reference https://stackoverflow.com/questions/39839112/the-easiest-way-for-getting-feature-names-after-running-selectkbest-in-scikit-le\n",
    "vdf=vdf.drop('eta',axis=1)\n",
    "feature_names = list(vdf.columns.values)\n",
    "mask = m.get_support() #list of booleans\n",
    "new_features = [] # The list of your K best features\n",
    "\n",
    "for bool, feature in zip(mask, feature_names):\n",
    "    if bool:\n",
    "        new_features.append(feature)\n",
    "print(new_features)"
   ]
  },
  {
   "cell_type": "markdown",
   "metadata": {
    "collapsed": true
   },
   "source": [
    "Summary and References:\n",
    "This tutorial demonstrates few combinations of the feature selection models and regressor classifiers and important attributes that these functions exposes. Following links and user guide were helpful in learning these methods:\n",
    "\n",
    "1. scikit-learn user guide : http://scikit-learn.org/stable/_downloads/scikit-learn-docs.pdf \n",
    "2. Selecting good features – Part IV : http://blog.datadive.net/selecting-good-features-part-iv-stability-selection-rfe-and-everything-side-by-side/ \n",
    "3. Feature Selection: https://github.com/knathanieltucker/bit-of-data-science-and-scikit-learn/blob/master/notebooks/FeatureSelection.ipynb\n",
    "4. Official Documentation:http://scikit-learn.org/stable/modules/classes.html#module-sklearn.feature_selection \n",
    "5. Reference https://stackoverflow.com/questions/39839112/the-easiest-way-for-getting-feature-names-after-running-selectkbest-in-scikit-le\n",
    "\n",
    "\n",
    "Scikit-Learn citation:\n",
    "Scikit-learn: Machine Learning in Python, Pedregosa et al., JMLR 12, pp. 2825-2830, 2011. http://jmlr.csail.mit.edu/papers/v12/pedregosa11a.html"
   ]
  }
 ],
 "metadata": {
  "kernelspec": {
   "display_name": "Python 3",
   "language": "python",
   "name": "python3"
  }
 },
 "nbformat": 4,
 "nbformat_minor": 2
}
