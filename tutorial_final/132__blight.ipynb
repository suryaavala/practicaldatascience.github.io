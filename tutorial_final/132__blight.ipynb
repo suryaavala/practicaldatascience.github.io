{
 "cells": [
  {
   "cell_type": "markdown",
   "metadata": {},
   "source": [
    "# Predicting Building Deterioration in the City of Detroit"
   ]
  },
  {
   "cell_type": "markdown",
   "metadata": {},
   "source": [
    "## Introduction"
   ]
  },
  {
   "cell_type": "markdown",
   "metadata": {},
   "source": [
    "In this tutorial, we will explore how to construct a dataset that can be used by machine learning models from publicly avaiable data to solve real problems.\n",
    "\n",
    "In the City of Detroit, urban planners are fighting **blight** - the deterioration and decay of buildings and older areas due to neglect, crime, or lack of economic support. Our goal in this tutorial is to build a model that can predict the risks (probabilities) of blights, using public incidents datasets provided by the city's open data initiative.\n",
    "\n",
    "Based on the data available to us, there are two main obstacles to achieving our goal:\n",
    "\n",
    "- There isn't any established list of all the buildings in the city.\n",
    "- The data is highly imbalanced due to the relative minority of blighted buildings vs non-blighted buildings.\n",
    "\n",
    "This tutorial will demonstrate a methodology to solve these obstacles, as well as introduce some tricks involved in the data processing and model training.\n",
    "\n",
    "The datasets used in this tutorial are:\n",
    "\n",
    "- `detroit-blight-violations.csv`: records of tickets issued for violations to city rules that involve certain locations.\n",
    "- `detroit-crimes.csv`: records of incidents of crimes taht involve certain locations.\n",
    "- `detroit-311.csv`: records of 311 calls (non-emergency incident reporting system) that involve certain locations.\n",
    "- `detroit-demolition-permits.tsv`: records of permits issued for the demolition of buildings.\n",
    "\n",
    "All datasets are obtained from Detroit's [Open Data Portal](https://data.detroitmi.gov/). As the files have a size of 188MB in total, I've uploaded them to a Google Drive folder that everyone can access with [this link](https://drive.google.com/open?id=1TeGE8wa8CJ02np8sijDREOT4cOMi-Ryi)."
   ]
  },
  {
   "cell_type": "markdown",
   "metadata": {},
   "source": [
    "## Parsing and Cleaning Coordinates"
   ]
  },
  {
   "cell_type": "markdown",
   "metadata": {},
   "source": [
    "In order to train a model that predict how likely a building is to be blighted, we need to have a dataset that contains the features and labels for the buildings. However, there is no explicit definition of \"buildings\" in the available datasets. Therefore, our first task is to somehow derive a list of all the buildings.\n",
    "\n",
    "Incident records contain coordinates of locations where the indicents happened. Assuming that each incident corresponds to one or more buildings, we can cluster together all the locations. Each cluster will then be treated as one building. \n",
    "\n",
    "As a first step, we will extract coordinates from all the incident records."
   ]
  },
  {
   "cell_type": "code",
   "execution_count": 3,
   "metadata": {
    "collapsed": false,
    "deletable": true,
    "editable": true
   },
   "outputs": [],
   "source": [
    "import pandas as pd\n",
    "import numpy as np\n",
    "from datetime import datetime"
   ]
  },
  {
   "cell_type": "code",
   "execution_count": 95,
   "metadata": {
    "collapsed": false,
    "deletable": true,
    "editable": true
   },
   "outputs": [],
   "source": [
    "data1 = pd.read_csv('data/detroit-311.csv')\n",
    "data2 = pd.read_csv('data/detroit-blight-violations.csv')\n",
    "data3 = pd.read_csv('data/detroit-crime.csv')\n",
    "data4 = pd.read_csv('data/detroit-demolition-permits.tsv', sep='\\t')"
   ]
  },
  {
   "cell_type": "code",
   "execution_count": 197,
   "metadata": {
    "collapsed": false,
    "deletable": true,
    "editable": true
   },
   "outputs": [],
   "source": [
    "def parseAddress(dirtyAddress):\n",
    "    try:\n",
    "        addressData = dirtyAddress.split('\\n')\n",
    "        lat = addressData[2][1:-1].split(',')[0].strip()\n",
    "        lng = addressData[2][1:-1].split(',')[1].strip()\n",
    "        return pd.Series([lat, lng])\n",
    "    except:\n",
    "        pass\n",
    "\n",
    "locationsData =  pd.concat([data['lat'], data['lng']], axis=1)\n",
    "\n",
    "locationsData2A = data2.apply(lambda row: parseAddress(row['ViolationAddress']), axis=1)\n",
    "locationsData2B = data2.apply(lambda row: parseAddress(row['MailingAddress']), axis=1)\n",
    "locationsData2A.columns = ['lat', 'lng']\n",
    "locationsData2B.columns = ['lat', 'lng']\n",
    "\n",
    "locationsData3 = pd.concat([data3['LAT'], data3['LON']], axis=1)\n",
    "locationsData3.columns = ['lat', 'lng']\n",
    "\n",
    "locationsData4A = data4.apply(lambda row: parseAddress(row['site_location']), axis=1)\n",
    "locationsData4B = data4.apply(lambda row: parseAddress(row['owner_location']), axis=1)\n",
    "locationsData4C = data4.apply(lambda row: parseAddress(row['contractor_location']), axis=1)\n",
    "locationsData4A.columns = ['lat', 'lng']\n",
    "locationsData4B.columns = ['lat', 'lng']\n",
    "locationsData4C.columns = ['lat', 'lng']"
   ]
  },
  {
   "cell_type": "code",
   "execution_count": 198,
   "metadata": {
    "collapsed": false,
    "deletable": true,
    "editable": true
   },
   "outputs": [],
   "source": [
    "locations = pd.DataFrame(columns={'lat', 'lng'})\n",
    "\n",
    "locations = locations.append(locationsData, ignore_index=True)\n",
    "locations = locations.append(locationsData2A, ignore_index=True)\n",
    "locations = locations.append(locationsData2B, ignore_index=True)\n",
    "locations = locations.append(locationsData3, ignore_index=True)\n",
    "locations = locations.append(locationsData4A, ignore_index=True)\n",
    "locations = locations.append(locationsData4B, ignore_index=True)\n",
    "locations = locations.append(locationsData4C, ignore_index=True)\n",
    "\n",
    "locations['lat'] = pd.to_numeric(locations['lat'], errors='raise') \n",
    "locations['lng'] = pd.to_numeric(locations['lng'], errors='raise')"
   ]
  },
  {
   "cell_type": "markdown",
   "metadata": {
    "collapsed": false,
    "deletable": true,
    "editable": true
   },
   "source": [
    "Next, we will clean the coordinates by rounding up their numeric values, dropping duplicates and finally removing outliers. We can use `describe()` method on the dataframe columns to verify that all the coordinates are within the reasonable ranges after the cleaning."
   ]
  },
  {
   "cell_type": "code",
   "execution_count": 200,
   "metadata": {
    "collapsed": false,
    "deletable": true,
    "editable": true
   },
   "outputs": [],
   "source": [
    "locations['lat'] = locations.apply(lambda row:np.round(row['lat'], 5),axis=1)\n",
    "locations['lng'] = locations.apply(lambda row:np.round(row['lng'], 5),axis=1)\n",
    "\n",
    "locations = locations.drop_duplicates()\n",
    "\n",
    "locations = locations[(locations['lat'] > 23) & (locations['lat'] < 50)]\n",
    "locations = locations[(locations['lng'] < -64) & (locations['lng'] > -132)]"
   ]
  },
  {
   "cell_type": "code",
   "execution_count": 19,
   "metadata": {
    "collapsed": false,
    "deletable": true,
    "editable": true
   },
   "outputs": [
    {
     "data": {
      "text/plain": [
       "count    264401.000000\n",
       "mean         42.259709\n",
       "std           1.149134\n",
       "min          24.550520\n",
       "25%          42.359050\n",
       "50%          42.393900\n",
       "75%          42.423900\n",
       "max          48.792170\n",
       "Name: lat, dtype: float64"
      ]
     },
     "execution_count": 19,
     "metadata": {},
     "output_type": "execute_result"
    }
   ],
   "source": [
    "locations['lat'].describe()"
   ]
  },
  {
   "cell_type": "code",
   "execution_count": 20,
   "metadata": {
    "collapsed": false,
    "deletable": true,
    "editable": true
   },
   "outputs": [
    {
     "data": {
      "text/plain": [
       "count    264399.000000\n",
       "mean        -83.392738\n",
       "std           3.151343\n",
       "min        -124.174110\n",
       "25%         -83.200370\n",
       "50%         -83.127700\n",
       "75%         -83.032930\n",
       "max         -69.298540\n",
       "Name: lng, dtype: float64"
      ]
     },
     "execution_count": 20,
     "metadata": {},
     "output_type": "execute_result"
    }
   ],
   "source": [
    "locations['lng'].describe()"
   ]
  },
  {
   "cell_type": "code",
   "execution_count": 24,
   "metadata": {
    "collapsed": false,
    "deletable": true,
    "editable": true
   },
   "outputs": [],
   "source": [
    "locations = locations.reset_index()"
   ]
  },
  {
   "cell_type": "markdown",
   "metadata": {},
   "source": [
    "## Clustering Locations to Establish Buildings"
   ]
  },
  {
   "cell_type": "markdown",
   "metadata": {},
   "source": [
    "Now that we have all the locations, we will use DBSCAN algorithm to cluster together all the locations. Each cluster (bloc) will then be assigned with a unique ID that we will use in the rest part of this tutorial to identify a building."
   ]
  },
  {
   "cell_type": "code",
   "execution_count": 25,
   "metadata": {
    "collapsed": false,
    "deletable": true,
    "editable": true
   },
   "outputs": [],
   "source": [
    "from sklearn.cluster import DBSCAN\n",
    "from sklearn.datasets.samples_generator import make_blobs"
   ]
  },
  {
   "cell_type": "code",
   "execution_count": 28,
   "metadata": {
    "collapsed": false,
    "deletable": true,
    "editable": true
   },
   "outputs": [
    {
     "name": "stdout",
     "output_type": "stream",
     "text": [
      "Estimated number of clusters: 200969\n"
     ]
    }
   ],
   "source": [
    "X = pd.concat([locations['lat'], locations['lng']], axis=1).as_matrix()\n",
    "db = DBSCAN(eps=0.0001, min_samples=1).fit(X)\n",
    "\n",
    "core_samples_mask = np.zeros_like(db.labels_, dtype=bool)\n",
    "core_samples_mask[db.core_sample_indices_] = True\n",
    "labels = db.labels_\n",
    "\n",
    "n_clusters_ = len(set(labels)) - (1 if -1 in labels else 0)\n",
    "print('Number of clusters: %d' % n_clusters_)"
   ]
  },
  {
   "cell_type": "code",
   "execution_count": 30,
   "metadata": {
    "collapsed": false,
    "deletable": true,
    "editable": true
   },
   "outputs": [],
   "source": [
    "def populateBlocs(row):\n",
    "    try:\n",
    "        return labels[(row.name)]\n",
    "    except:\n",
    "        pass\n",
    "\n",
    "locations['bloc_id'] = locations.apply(populateBlocs, axis=1)\n",
    "locations = locations.drop('index', axis=1)"
   ]
  },
  {
   "cell_type": "markdown",
   "metadata": {},
   "source": [
    "Next, we group all the locations by their bloc IDs. Multiple locations could be mapped to the same bloc and thus can be used to derive the points used to define the bloc. A bloc is a rectangular area defined by its central point and 4 corner points. These points can be derived from group statistics givne by `describe()` method."
   ]
  },
  {
   "cell_type": "code",
   "execution_count": 34,
   "metadata": {
    "collapsed": false,
    "deletable": true,
    "editable": true
   },
   "outputs": [],
   "source": [
    "groupedLocations = locations.groupby('bloc_id', as_index=False)\n",
    "\n",
    "latitudes = groupedLocations['lat'].describe()\n",
    "longitudes = groupedLocations['lng'].describe()\n",
    "\n",
    "latitudes = latitudes.rename(columns={'mean': 'lat_mean', 'min': 'lat_min', 'max': 'lat_max'})\n",
    "longitudes = longitudes.rename(columns={'mean': 'lng_mean', 'min': 'lng_min', 'max': 'lng_max'})\n",
    "\n",
    "buildings = pd.concat([latitudes, longitudes], axis=1)"
   ]
  },
  {
   "cell_type": "code",
   "execution_count": 38,
   "metadata": {
    "collapsed": false,
    "deletable": true,
    "editable": true
   },
   "outputs": [
    {
     "data": {
      "text/html": [
       "<div>\n",
       "<table border=\"1\" class=\"dataframe\">\n",
       "  <thead>\n",
       "    <tr style=\"text-align: right;\">\n",
       "      <th></th>\n",
       "      <th>bloc_id</th>\n",
       "      <th>lat_center</th>\n",
       "      <th>lng_center</th>\n",
       "      <th>lat_min</th>\n",
       "      <th>lat_max</th>\n",
       "      <th>lng_min</th>\n",
       "      <th>lng_max</th>\n",
       "    </tr>\n",
       "  </thead>\n",
       "  <tbody>\n",
       "    <tr>\n",
       "      <th>0</th>\n",
       "      <td>0.0</td>\n",
       "      <td>42.384017</td>\n",
       "      <td>-83.161034</td>\n",
       "      <td>42.38388</td>\n",
       "      <td>42.38415</td>\n",
       "      <td>-83.16107</td>\n",
       "      <td>-83.16095</td>\n",
       "    </tr>\n",
       "    <tr>\n",
       "      <th>1</th>\n",
       "      <td>1.0</td>\n",
       "      <td>42.440470</td>\n",
       "      <td>-83.080920</td>\n",
       "      <td>42.44047</td>\n",
       "      <td>42.44047</td>\n",
       "      <td>-83.08092</td>\n",
       "      <td>-83.08092</td>\n",
       "    </tr>\n",
       "    <tr>\n",
       "      <th>2</th>\n",
       "      <td>2.0</td>\n",
       "      <td>42.445240</td>\n",
       "      <td>-82.962040</td>\n",
       "      <td>42.44524</td>\n",
       "      <td>42.44524</td>\n",
       "      <td>-82.96204</td>\n",
       "      <td>-82.96204</td>\n",
       "    </tr>\n",
       "    <tr>\n",
       "      <th>3</th>\n",
       "      <td>3.0</td>\n",
       "      <td>42.421037</td>\n",
       "      <td>-83.166245</td>\n",
       "      <td>42.42100</td>\n",
       "      <td>42.42106</td>\n",
       "      <td>-83.16630</td>\n",
       "      <td>-83.16619</td>\n",
       "    </tr>\n",
       "    <tr>\n",
       "      <th>4</th>\n",
       "      <td>4.0</td>\n",
       "      <td>42.402030</td>\n",
       "      <td>-83.162870</td>\n",
       "      <td>42.40203</td>\n",
       "      <td>42.40203</td>\n",
       "      <td>-83.16287</td>\n",
       "      <td>-83.16287</td>\n",
       "    </tr>\n",
       "  </tbody>\n",
       "</table>\n",
       "</div>"
      ],
      "text/plain": [
       "   bloc_id  lat_center  lng_center   lat_min   lat_max   lng_min   lng_max\n",
       "0      0.0   42.384017  -83.161034  42.38388  42.38415 -83.16107 -83.16095\n",
       "1      1.0   42.440470  -83.080920  42.44047  42.44047 -83.08092 -83.08092\n",
       "2      2.0   42.445240  -82.962040  42.44524  42.44524 -82.96204 -82.96204\n",
       "3      3.0   42.421037  -83.166245  42.42100  42.42106 -83.16630 -83.16619\n",
       "4      4.0   42.402030  -83.162870  42.40203  42.40203 -83.16287 -83.16287"
      ]
     },
     "execution_count": 38,
     "metadata": {},
     "output_type": "execute_result"
    }
   ],
   "source": [
    "def getBlocBoxes(row):\n",
    "    return pd.Series([\n",
    "            row.name, \n",
    "            row['lat_mean'], \n",
    "            row['lng_mean'], \n",
    "            row['lat_min'], \n",
    "            row['lat_max'], \n",
    "            row['lng_min'], \n",
    "            row['lng_max'] \n",
    "        ])\n",
    "    \n",
    "buildings = buildings.apply(buildings, axis=1)\n",
    "buildings.columns = ['bloc_id', 'lat_center', 'lng_center', 'lat_min', 'lat_max', 'lng_min', 'lng_max']\n",
    "\n",
    "buildings.head()"
   ]
  },
  {
   "cell_type": "markdown",
   "metadata": {
    "deletable": true,
    "editable": true
   },
   "source": [
    "Here we write a method for getting the list of related bloc IDs given a coordinate. This is done by filtering rows in the `buildings` dataframe we obtained from the last step by checking wether the bloc is close enough to the coordinate given under a certain precision threshold. This method will later be used to associate incident records with bloc IDs."
   ]
  },
  {
   "cell_type": "code",
   "execution_count": 387,
   "metadata": {
    "collapsed": false,
    "deletable": true,
    "editable": true
   },
   "outputs": [],
   "source": [
    "def getBlocs(x, y):\n",
    "    go = True\n",
    "    precision = 1e-08\n",
    "    \n",
    "    while (go or len(coords) < 1):\n",
    "        ret = buildings[(np.isclose(buildings['lat_center'], x, rtol=precision, atol=1e-05)) & (np.isclose(buildings['lng_center'],y, rtol=precision, atol=1e-05))]\n",
    "        precision *= 10\n",
    "        if precision >= 1e-04:\n",
    "            break\n",
    "        go = False\n",
    "    \n",
    "    precision = 1e-08\n",
    "    while (len(coords) < 1):\n",
    "        ret = buildings[(np.isclose(buildings['lat_min'], x, rtol=precision, atol=1e-05)) & (np.isclose(buildings['lat_max'],x, rtol=precision, atol=1e-05)) & (np.isclose(buildings['lng_min'], y, rtol=precision, atol=1e-05)) & (np.isclose(buildings['lng_max'],y, rtol=precision, atol=1e-05))]\n",
    "        precision *= 10\n",
    "        if precision >= 1e-04:\n",
    "            return 0\n",
    "\n",
    "    return list(set(ret['bloc_id']))[0]"
   ]
  },
  {
   "cell_type": "markdown",
   "metadata": {
    "deletable": true,
    "editable": true
   },
   "source": [
    "Let's test our method."
   ]
  },
  {
   "cell_type": "code",
   "execution_count": 44,
   "metadata": {
    "collapsed": false,
    "deletable": true,
    "editable": true,
    "scrolled": true
   },
   "outputs": [
    {
     "name": "stdout",
     "output_type": "stream",
     "text": [
      "set([41024.0, 187488.0, 45378.0, 43783.0, 75101.0, 150512.0, 135985.0, 191985.0, 60379.0, 35677.0, 40959.0])\n"
     ]
    }
   ],
   "source": [
    "results = getBlocs(42.440, -83.08)\n",
    "print(results)"
   ]
  },
  {
   "cell_type": "markdown",
   "metadata": {
    "deletable": true,
    "editable": true
   },
   "source": [
    "## Constructing A Labeled and Balanced Dataset"
   ]
  },
  {
   "cell_type": "markdown",
   "metadata": {},
   "source": [
    "Now that we have a list of all the buildings and the means to map a coordinate back to its associated building(s), we are going to obtain a subset of the buildings as our final dataset used for the model training.\n",
    "\n",
    "The number of blighted buildings is relatively small compared to the number of total buildings. Therefore, we need to perform sampling so that the two classes have roughly the same number of samples. A balanced dataset helps with the model training and evaluation.\n",
    "\n",
    "We treat any building that is associated with one or more demolition permits as a blighted building. Those will be our positive examples (in the context of binary classification). Then we will sample the same number of non-blighted buildings. Those will be our negative examples. Combined they make our labeld and balanced dataset."
   ]
  },
  {
   "cell_type": "markdown",
   "metadata": {},
   "source": [
    "First we process the coordinates from the demolition permits dataset."
   ]
  },
  {
   "cell_type": "code",
   "execution_count": 380,
   "metadata": {
    "collapsed": false,
    "deletable": true,
    "editable": true
   },
   "outputs": [],
   "source": [
    "permits = pd.read_csv('data/detroit-demolition-permits.tsv', sep='\\t')"
   ]
  },
  {
   "cell_type": "code",
   "execution_count": 382,
   "metadata": {
    "collapsed": false,
    "deletable": true,
    "editable": true
   },
   "outputs": [],
   "source": [
    "def parseAddress(dirtyAddress):\n",
    "    try:\n",
    "        addressData = dirtyAddress.split('\\n')\n",
    "        lat = addressData[2][1:-1].split(',')[0].strip()\n",
    "        lng = addressData[2][1:-1].split(',')[1].strip()\n",
    "        return pd.Series([lat, lng])\n",
    "    except:\n",
    "        return pd.Series([0, 0])"
   ]
  },
  {
   "cell_type": "code",
   "execution_count": 383,
   "metadata": {
    "collapsed": true,
    "deletable": true,
    "editable": true
   },
   "outputs": [],
   "source": [
    "blightedLocations = permits.apply(lambda row: parseAddress(row['site_location']), axis=1)\n",
    "blightedLocations.columns = ['lat', 'lng']\n",
    "\n",
    "blightedLocations = blightedLocations[(blightedLocations['lat'] > 0) & (blightedLocations['lng'] > 0)]\n",
    "\n",
    "blightedLocations['lat'] = pd.to_numeric(blightedLocations['lat'], errors='raise') \n",
    "blightedLocations['lng'] = pd.to_numeric(blightedLocations['lng'], errors='raise') "
   ]
  },
  {
   "cell_type": "markdown",
   "metadata": {
    "deletable": true,
    "editable": true
   },
   "source": [
    "Then we obtain the bloc IDs of these samples."
   ]
  },
  {
   "cell_type": "code",
   "execution_count": 388,
   "metadata": {
    "collapsed": false,
    "deletable": true,
    "editable": true
   },
   "outputs": [],
   "source": [
    "blightedLocations['bloc_id'] = blightedLocations.apply(lambda row: getBlocs(row['lat'], row['lng']), axis=1)"
   ]
  },
  {
   "cell_type": "markdown",
   "metadata": {},
   "source": [
    "Then we sample from the buildings the same number of blocs as non-blighted samples."
   ]
  },
  {
   "cell_type": "code",
   "execution_count": 498,
   "metadata": {
    "collapsed": false,
    "deletable": true,
    "editable": true
   },
   "outputs": [],
   "source": [
    "nonBlightedLocations = buildings[~buildings.bloc_id.isin(blightedLocations['bloc_id'])].sample(len(blightedLocations.index))"
   ]
  },
  {
   "cell_type": "markdown",
   "metadata": {
    "deletable": true,
    "editable": true
   },
   "source": [
    "Finally we combine them into the training dataframe."
   ]
  },
  {
   "cell_type": "code",
   "execution_count": 521,
   "metadata": {
    "collapsed": true,
    "deletable": true,
    "editable": true
   },
   "outputs": [],
   "source": [
    "trainDF = pd.concat([blightedPlaces['bloc_id']], axis=1)\n",
    "trainDF['label'] = 'blighted'\n",
    "\n",
    "nonBlightedLocations = pd.concat([nonBlightedLocations['bloc_id']], axis=1)\n",
    "nonBlightedLocations['label'] = 'nonblighted'\n",
    "\n",
    "trainDF = trainDF.append(notBlightedPlaces, ignore_index=True)"
   ]
  },
  {
   "cell_type": "markdown",
   "metadata": {
    "deletable": true,
    "editable": true
   },
   "source": [
    "## Constructing Features from Incidents Datasets"
   ]
  },
  {
   "cell_type": "markdown",
   "metadata": {},
   "source": [
    "Now that we have a dataframe that contains the bloc IDs and labels for all the samples, we need to augment it with features that can help predict the blights. In this section, we will parse all the three incident datasets, link each record with buildings it corresponds to and extract all the features we need.\n",
    "\n",
    "First we will look into the violations dataset."
   ]
  },
  {
   "cell_type": "code",
   "execution_count": 67,
   "metadata": {
    "collapsed": false,
    "deletable": true,
    "editable": true,
    "scrolled": false
   },
   "outputs": [
    {
     "data": {
      "text/html": [
       "<div>\n",
       "<table border=\"1\" class=\"dataframe\">\n",
       "  <thead>\n",
       "    <tr style=\"text-align: right;\">\n",
       "      <th></th>\n",
       "      <th>TicketID</th>\n",
       "      <th>TicketNumber</th>\n",
       "      <th>AgencyName</th>\n",
       "      <th>ViolName</th>\n",
       "      <th>ViolationStreetNumber</th>\n",
       "      <th>ViolationStreetName</th>\n",
       "      <th>MailingStreetNumber</th>\n",
       "      <th>MailingStreetName</th>\n",
       "      <th>MailingCity</th>\n",
       "      <th>MailingState</th>\n",
       "      <th>MailingZipCode</th>\n",
       "      <th>NonUsAddressCode</th>\n",
       "      <th>Country</th>\n",
       "      <th>TicketIssuedDT</th>\n",
       "      <th>TicketIssuedTime</th>\n",
       "      <th>HearingDT</th>\n",
       "      <th>CourtTime</th>\n",
       "      <th>ViolationCode</th>\n",
       "      <th>ViolDescription</th>\n",
       "      <th>Disposition</th>\n",
       "      <th>FineAmt</th>\n",
       "      <th>AdminFee</th>\n",
       "      <th>LateFee</th>\n",
       "      <th>StateFee</th>\n",
       "      <th>CleanUpCost</th>\n",
       "      <th>JudgmentAmt</th>\n",
       "      <th>PaymentStatus</th>\n",
       "      <th>Void</th>\n",
       "      <th>ViolationCategory</th>\n",
       "      <th>ViolationAddress</th>\n",
       "      <th>MailingAddress</th>\n",
       "    </tr>\n",
       "  </thead>\n",
       "  <tbody>\n",
       "    <tr>\n",
       "      <th>0</th>\n",
       "      <td>26288</td>\n",
       "      <td>05000001DAH</td>\n",
       "      <td>Department of Public Works</td>\n",
       "      <td>Group, LLC, Grand Holding</td>\n",
       "      <td>2566</td>\n",
       "      <td>GRAND BLVD</td>\n",
       "      <td>743</td>\n",
       "      <td>Beaubien, Ste. 201</td>\n",
       "      <td>Detroit</td>\n",
       "      <td>MI</td>\n",
       "      <td>48226</td>\n",
       "      <td>NaN</td>\n",
       "      <td>NaN</td>\n",
       "      <td>01/01/38440 12:00:00 AM</td>\n",
       "      <td>12:00:00</td>\n",
       "      <td>01/01/38474 12:00:00 AM</td>\n",
       "      <td>9:00AM</td>\n",
       "      <td>22-2-20</td>\n",
       "      <td>Burning solid waste  in open fires</td>\n",
       "      <td>Responsible By Determination</td>\n",
       "      <td>$1500.00</td>\n",
       "      <td>$20.00</td>\n",
       "      <td>$150.00</td>\n",
       "      <td>$10.00</td>\n",
       "      <td>$0.00</td>\n",
       "      <td>$1680.00</td>\n",
       "      <td>PAID IN FULL</td>\n",
       "      <td>0.0</td>\n",
       "      <td>0</td>\n",
       "      <td>2566 GRAND BLVD\\nDetroit, MI\\n(42.363182370000...</td>\n",
       "      <td>743 Beaubien\\nDetroit, MI 48226\\n(42.333730630...</td>\n",
       "    </tr>\n",
       "    <tr>\n",
       "      <th>1</th>\n",
       "      <td>19800</td>\n",
       "      <td>05000025DAH</td>\n",
       "      <td>Department of Public Works</td>\n",
       "      <td>JACKSON, RAECHELLE</td>\n",
       "      <td>19014</td>\n",
       "      <td>ASHTON</td>\n",
       "      <td>20501</td>\n",
       "      <td>HEYDEN</td>\n",
       "      <td>DETROIT</td>\n",
       "      <td>MI</td>\n",
       "      <td>48219</td>\n",
       "      <td>NaN</td>\n",
       "      <td>NaN</td>\n",
       "      <td>01/01/38383 12:00:00 AM</td>\n",
       "      <td>10:15:00</td>\n",
       "      <td>01/01/38425 12:00:00 AM</td>\n",
       "      <td>1:30PM</td>\n",
       "      <td>22-2-22</td>\n",
       "      <td>Bulk solid waste deposited more than 24 hours ...</td>\n",
       "      <td>Not responsible By Determination</td>\n",
       "      <td>$100.00</td>\n",
       "      <td>$20.00</td>\n",
       "      <td>$10.00</td>\n",
       "      <td>$10.00</td>\n",
       "      <td>$0.00</td>\n",
       "      <td>$140.00</td>\n",
       "      <td>NO PAYMENT APPLIED</td>\n",
       "      <td>0.0</td>\n",
       "      <td>0</td>\n",
       "      <td>19014 ASHTON\\nDetroit, MI\\n(42.429390762000025...</td>\n",
       "      <td>20501 HEYDEN\\nDETROIT, MI 48219\\n(42.442177633...</td>\n",
       "    </tr>\n",
       "    <tr>\n",
       "      <th>2</th>\n",
       "      <td>19804</td>\n",
       "      <td>05000026DAH</td>\n",
       "      <td>Department of Public Works</td>\n",
       "      <td>TALTON, CAROL ANN</td>\n",
       "      <td>18735</td>\n",
       "      <td>STAHELIN</td>\n",
       "      <td>18735</td>\n",
       "      <td>STAHELI N</td>\n",
       "      <td>DETROIT</td>\n",
       "      <td>MI</td>\n",
       "      <td>48219</td>\n",
       "      <td>NaN</td>\n",
       "      <td>NaN</td>\n",
       "      <td>01/01/38383 12:00:00 AM</td>\n",
       "      <td>10:35:00</td>\n",
       "      <td>01/01/38425 12:00:00 AM</td>\n",
       "      <td>1:30PM</td>\n",
       "      <td>22-2-22</td>\n",
       "      <td>Bulk solid waste deposited more than 24 hours ...</td>\n",
       "      <td>Responsible By Determination</td>\n",
       "      <td>$100.00</td>\n",
       "      <td>$20.00</td>\n",
       "      <td>$10.00</td>\n",
       "      <td>$10.00</td>\n",
       "      <td>$0.00</td>\n",
       "      <td>$140.00</td>\n",
       "      <td>PAID IN FULL</td>\n",
       "      <td>0.0</td>\n",
       "      <td>0</td>\n",
       "      <td>18735 STAHELIN\\nDetroit, MI\\n(42.4287074590000...</td>\n",
       "      <td>18735 STAHELI N\\nDETROIT, MI 48219\\n(42.428707...</td>\n",
       "    </tr>\n",
       "    <tr>\n",
       "      <th>3</th>\n",
       "      <td>20208</td>\n",
       "      <td>05000027DAH</td>\n",
       "      <td>Department of Public Works</td>\n",
       "      <td>BONNER, DARRYL E.</td>\n",
       "      <td>20125</td>\n",
       "      <td>MONICA</td>\n",
       "      <td>25335</td>\n",
       "      <td>PEEKSKILL</td>\n",
       "      <td>SOUTHFIELD</td>\n",
       "      <td>MI</td>\n",
       "      <td>48043</td>\n",
       "      <td>NaN</td>\n",
       "      <td>NaN</td>\n",
       "      <td>01/01/38385 12:00:00 AM</td>\n",
       "      <td>10:45:00</td>\n",
       "      <td>01/01/38422 12:00:00 AM</td>\n",
       "      <td>1:30PM</td>\n",
       "      <td>22-2-45</td>\n",
       "      <td>Violation of time limit for approved container...</td>\n",
       "      <td>Responsible By Default</td>\n",
       "      <td>$100.00</td>\n",
       "      <td>$20.00</td>\n",
       "      <td>$10.00</td>\n",
       "      <td>$10.00</td>\n",
       "      <td>$0.00</td>\n",
       "      <td>$140.00</td>\n",
       "      <td>NO PAYMENT APPLIED</td>\n",
       "      <td>0.0</td>\n",
       "      <td>0</td>\n",
       "      <td>20125 MONICA\\nDetroit, MI\\n(42.44169828400004,...</td>\n",
       "      <td>25335 PEEKSKILL\\nSOUTHFIELD, MI 48043\\n(42.475...</td>\n",
       "    </tr>\n",
       "    <tr>\n",
       "      <th>4</th>\n",
       "      <td>20211</td>\n",
       "      <td>05000028DAH</td>\n",
       "      <td>Department of Public Works</td>\n",
       "      <td>GREGORY, JAMES LEE</td>\n",
       "      <td>17397</td>\n",
       "      <td>PRAIRIE</td>\n",
       "      <td>17397</td>\n",
       "      <td>PRAIRIE</td>\n",
       "      <td>DETROIT</td>\n",
       "      <td>MI</td>\n",
       "      <td>48221</td>\n",
       "      <td>NaN</td>\n",
       "      <td>NaN</td>\n",
       "      <td>01/01/38385 12:00:00 AM</td>\n",
       "      <td>11:10:00</td>\n",
       "      <td>01/01/38422 12:00:00 AM</td>\n",
       "      <td>1:30PM</td>\n",
       "      <td>22-2-22</td>\n",
       "      <td>Bulk solid waste deposited more than 24 hours ...</td>\n",
       "      <td>Responsible By Default</td>\n",
       "      <td>$100.00</td>\n",
       "      <td>$20.00</td>\n",
       "      <td>$10.00</td>\n",
       "      <td>$10.00</td>\n",
       "      <td>$0.00</td>\n",
       "      <td>$140.00</td>\n",
       "      <td>PAID IN FULL</td>\n",
       "      <td>0.0</td>\n",
       "      <td>0</td>\n",
       "      <td>17397 PRAIRIE\\nDetroit, MI\\n(42.42031769500005...</td>\n",
       "      <td>17397 PRAIRIE\\nDETROIT, MI 48221\\n(42.42031769...</td>\n",
       "    </tr>\n",
       "  </tbody>\n",
       "</table>\n",
       "</div>"
      ],
      "text/plain": [
       "   TicketID TicketNumber                  AgencyName  \\\n",
       "0     26288  05000001DAH  Department of Public Works   \n",
       "1     19800  05000025DAH  Department of Public Works   \n",
       "2     19804  05000026DAH  Department of Public Works   \n",
       "3     20208  05000027DAH  Department of Public Works   \n",
       "4     20211  05000028DAH  Department of Public Works   \n",
       "\n",
       "                    ViolName  ViolationStreetNumber ViolationStreetName  \\\n",
       "0  Group, LLC, Grand Holding                   2566    GRAND BLVD         \n",
       "1        JACKSON, RAECHELLE                   19014    ASHTON             \n",
       "2          TALTON, CAROL ANN                  18735    STAHELIN           \n",
       "3          BONNER, DARRYL E.                  20125    MONICA             \n",
       "4         GREGORY, JAMES LEE                  17397    PRAIRIE            \n",
       "\n",
       "  MailingStreetNumber   MailingStreetName MailingCity MailingState  \\\n",
       "0                 743  Beaubien, Ste. 201     Detroit           MI   \n",
       "1               20501              HEYDEN     DETROIT           MI   \n",
       "2               18735           STAHELI N     DETROIT           MI   \n",
       "3               25335           PEEKSKILL  SOUTHFIELD           MI   \n",
       "4               17397             PRAIRIE     DETROIT           MI   \n",
       "\n",
       "  MailingZipCode NonUsAddressCode Country           TicketIssuedDT  \\\n",
       "0          48226              NaN     NaN  01/01/38440 12:00:00 AM   \n",
       "1          48219              NaN     NaN  01/01/38383 12:00:00 AM   \n",
       "2          48219              NaN     NaN  01/01/38383 12:00:00 AM   \n",
       "3          48043              NaN     NaN  01/01/38385 12:00:00 AM   \n",
       "4          48221              NaN     NaN  01/01/38385 12:00:00 AM   \n",
       "\n",
       "  TicketIssuedTime                HearingDT CourtTime ViolationCode  \\\n",
       "0         12:00:00  01/01/38474 12:00:00 AM    9:00AM       22-2-20   \n",
       "1         10:15:00  01/01/38425 12:00:00 AM    1:30PM       22-2-22   \n",
       "2         10:35:00  01/01/38425 12:00:00 AM    1:30PM       22-2-22   \n",
       "3         10:45:00  01/01/38422 12:00:00 AM    1:30PM       22-2-45   \n",
       "4         11:10:00  01/01/38422 12:00:00 AM    1:30PM       22-2-22   \n",
       "\n",
       "                                     ViolDescription  \\\n",
       "0                 Burning solid waste  in open fires   \n",
       "1  Bulk solid waste deposited more than 24 hours ...   \n",
       "2  Bulk solid waste deposited more than 24 hours ...   \n",
       "3  Violation of time limit for approved container...   \n",
       "4  Bulk solid waste deposited more than 24 hours ...   \n",
       "\n",
       "                        Disposition   FineAmt AdminFee  LateFee StateFee  \\\n",
       "0      Responsible By Determination  $1500.00   $20.00  $150.00   $10.00   \n",
       "1  Not responsible By Determination   $100.00   $20.00   $10.00   $10.00   \n",
       "2      Responsible By Determination   $100.00   $20.00   $10.00   $10.00   \n",
       "3            Responsible By Default   $100.00   $20.00   $10.00   $10.00   \n",
       "4            Responsible By Default   $100.00   $20.00   $10.00   $10.00   \n",
       "\n",
       "  CleanUpCost JudgmentAmt       PaymentStatus  Void  ViolationCategory  \\\n",
       "0       $0.00    $1680.00        PAID IN FULL   0.0                  0   \n",
       "1       $0.00     $140.00  NO PAYMENT APPLIED   0.0                  0   \n",
       "2       $0.00     $140.00        PAID IN FULL   0.0                  0   \n",
       "3       $0.00     $140.00  NO PAYMENT APPLIED   0.0                  0   \n",
       "4       $0.00     $140.00        PAID IN FULL   0.0                  0   \n",
       "\n",
       "                                    ViolationAddress  \\\n",
       "0  2566 GRAND BLVD\\nDetroit, MI\\n(42.363182370000...   \n",
       "1  19014 ASHTON\\nDetroit, MI\\n(42.429390762000025...   \n",
       "2  18735 STAHELIN\\nDetroit, MI\\n(42.4287074590000...   \n",
       "3  20125 MONICA\\nDetroit, MI\\n(42.44169828400004,...   \n",
       "4  17397 PRAIRIE\\nDetroit, MI\\n(42.42031769500005...   \n",
       "\n",
       "                                      MailingAddress  \n",
       "0  743 Beaubien\\nDetroit, MI 48226\\n(42.333730630...  \n",
       "1  20501 HEYDEN\\nDETROIT, MI 48219\\n(42.442177633...  \n",
       "2  18735 STAHELI N\\nDETROIT, MI 48219\\n(42.428707...  \n",
       "3  25335 PEEKSKILL\\nSOUTHFIELD, MI 48043\\n(42.475...  \n",
       "4  17397 PRAIRIE\\nDETROIT, MI 48221\\n(42.42031769...  "
      ]
     },
     "execution_count": 67,
     "metadata": {},
     "output_type": "execute_result"
    }
   ],
   "source": [
    "violations = pd.read_csv('data/detroit-blight-violations.csv')\n",
    "violations.head()"
   ]
  },
  {
   "cell_type": "markdown",
   "metadata": {},
   "source": [
    "A quick inspection shows that the following columns could be useful in blight prediction. The rationale is that these features reflect the nature and the seriousness of a violation. The occurences and the severity of the violations associated with a building should be strong indicators of blight."
   ]
  },
  {
   "cell_type": "code",
   "execution_count": 92,
   "metadata": {
    "collapsed": false,
    "deletable": true,
    "editable": true,
    "scrolled": false
   },
   "outputs": [
    {
     "data": {
      "text/html": [
       "<div>\n",
       "<table border=\"1\" class=\"dataframe\">\n",
       "  <thead>\n",
       "    <tr style=\"text-align: right;\">\n",
       "      <th></th>\n",
       "      <th>AgencyName</th>\n",
       "      <th>ViolationCode</th>\n",
       "      <th>FineAmt</th>\n",
       "      <th>StateFee</th>\n",
       "      <th>CleanUpCost</th>\n",
       "      <th>JudgmentAmt</th>\n",
       "      <th>PaymentStatus</th>\n",
       "      <th>ViolationCategory</th>\n",
       "      <th>ViolationAddress</th>\n",
       "    </tr>\n",
       "  </thead>\n",
       "  <tbody>\n",
       "    <tr>\n",
       "      <th>0</th>\n",
       "      <td>Department of Public Works</td>\n",
       "      <td>22-2-20</td>\n",
       "      <td>$1500.00</td>\n",
       "      <td>$10.00</td>\n",
       "      <td>$0.00</td>\n",
       "      <td>$1680.00</td>\n",
       "      <td>PAID IN FULL</td>\n",
       "      <td>0</td>\n",
       "      <td>2566 GRAND BLVD\\nDetroit, MI\\n(42.363182370000...</td>\n",
       "    </tr>\n",
       "    <tr>\n",
       "      <th>1</th>\n",
       "      <td>Department of Public Works</td>\n",
       "      <td>22-2-22</td>\n",
       "      <td>$100.00</td>\n",
       "      <td>$10.00</td>\n",
       "      <td>$0.00</td>\n",
       "      <td>$140.00</td>\n",
       "      <td>NO PAYMENT APPLIED</td>\n",
       "      <td>0</td>\n",
       "      <td>19014 ASHTON\\nDetroit, MI\\n(42.429390762000025...</td>\n",
       "    </tr>\n",
       "    <tr>\n",
       "      <th>2</th>\n",
       "      <td>Department of Public Works</td>\n",
       "      <td>22-2-22</td>\n",
       "      <td>$100.00</td>\n",
       "      <td>$10.00</td>\n",
       "      <td>$0.00</td>\n",
       "      <td>$140.00</td>\n",
       "      <td>PAID IN FULL</td>\n",
       "      <td>0</td>\n",
       "      <td>18735 STAHELIN\\nDetroit, MI\\n(42.4287074590000...</td>\n",
       "    </tr>\n",
       "    <tr>\n",
       "      <th>3</th>\n",
       "      <td>Department of Public Works</td>\n",
       "      <td>22-2-45</td>\n",
       "      <td>$100.00</td>\n",
       "      <td>$10.00</td>\n",
       "      <td>$0.00</td>\n",
       "      <td>$140.00</td>\n",
       "      <td>NO PAYMENT APPLIED</td>\n",
       "      <td>0</td>\n",
       "      <td>20125 MONICA\\nDetroit, MI\\n(42.44169828400004,...</td>\n",
       "    </tr>\n",
       "    <tr>\n",
       "      <th>4</th>\n",
       "      <td>Department of Public Works</td>\n",
       "      <td>22-2-22</td>\n",
       "      <td>$100.00</td>\n",
       "      <td>$10.00</td>\n",
       "      <td>$0.00</td>\n",
       "      <td>$140.00</td>\n",
       "      <td>PAID IN FULL</td>\n",
       "      <td>0</td>\n",
       "      <td>17397 PRAIRIE\\nDetroit, MI\\n(42.42031769500005...</td>\n",
       "    </tr>\n",
       "  </tbody>\n",
       "</table>\n",
       "</div>"
      ],
      "text/plain": [
       "                   AgencyName ViolationCode   FineAmt StateFee CleanUpCost  \\\n",
       "0  Department of Public Works       22-2-20  $1500.00   $10.00       $0.00   \n",
       "1  Department of Public Works       22-2-22   $100.00   $10.00       $0.00   \n",
       "2  Department of Public Works       22-2-22   $100.00   $10.00       $0.00   \n",
       "3  Department of Public Works       22-2-45   $100.00   $10.00       $0.00   \n",
       "4  Department of Public Works       22-2-22   $100.00   $10.00       $0.00   \n",
       "\n",
       "  JudgmentAmt       PaymentStatus  ViolationCategory  \\\n",
       "0    $1680.00        PAID IN FULL                  0   \n",
       "1     $140.00  NO PAYMENT APPLIED                  0   \n",
       "2     $140.00        PAID IN FULL                  0   \n",
       "3     $140.00  NO PAYMENT APPLIED                  0   \n",
       "4     $140.00        PAID IN FULL                  0   \n",
       "\n",
       "                                    ViolationAddress  \n",
       "0  2566 GRAND BLVD\\nDetroit, MI\\n(42.363182370000...  \n",
       "1  19014 ASHTON\\nDetroit, MI\\n(42.429390762000025...  \n",
       "2  18735 STAHELIN\\nDetroit, MI\\n(42.4287074590000...  \n",
       "3  20125 MONICA\\nDetroit, MI\\n(42.44169828400004,...  \n",
       "4  17397 PRAIRIE\\nDetroit, MI\\n(42.42031769500005...  "
      ]
     },
     "execution_count": 92,
     "metadata": {},
     "output_type": "execute_result"
    }
   ],
   "source": [
    "cleandedViolations = pd.concat([violations['AgencyName'], violations['ViolationCode'], violations['FineAmt'], violations['StateFee'], violations['CleanUpCost'], violations['JudgmentAmt'] ,violations['PaymentStatus'], violations['ViolationCategory'], violations['ViolationAddress']], axis=1)\n",
    "cleandedViolations.head()"
   ]
  },
  {
   "cell_type": "markdown",
   "metadata": {
    "deletable": true,
    "editable": true
   },
   "source": [
    "There are some columns that involves money amounts. Let's convert them into numerical values for later ease."
   ]
  },
  {
   "cell_type": "code",
   "execution_count": 93,
   "metadata": {
    "collapsed": false,
    "deletable": true,
    "editable": true
   },
   "outputs": [
    {
     "data": {
      "text/html": [
       "<div>\n",
       "<table border=\"1\" class=\"dataframe\">\n",
       "  <thead>\n",
       "    <tr style=\"text-align: right;\">\n",
       "      <th></th>\n",
       "      <th>AgencyName</th>\n",
       "      <th>ViolationCode</th>\n",
       "      <th>FineAmt</th>\n",
       "      <th>StateFee</th>\n",
       "      <th>CleanUpCost</th>\n",
       "      <th>JudgmentAmt</th>\n",
       "      <th>PaymentStatus</th>\n",
       "      <th>ViolationCategory</th>\n",
       "      <th>ViolationAddress</th>\n",
       "    </tr>\n",
       "  </thead>\n",
       "  <tbody>\n",
       "    <tr>\n",
       "      <th>0</th>\n",
       "      <td>Department of Public Works</td>\n",
       "      <td>22-2-20</td>\n",
       "      <td>1500.0</td>\n",
       "      <td>10.0</td>\n",
       "      <td>0.0</td>\n",
       "      <td>1680.0</td>\n",
       "      <td>PAID IN FULL</td>\n",
       "      <td>0</td>\n",
       "      <td>2566 GRAND BLVD\\nDetroit, MI\\n(42.363182370000...</td>\n",
       "    </tr>\n",
       "    <tr>\n",
       "      <th>1</th>\n",
       "      <td>Department of Public Works</td>\n",
       "      <td>22-2-22</td>\n",
       "      <td>100.0</td>\n",
       "      <td>10.0</td>\n",
       "      <td>0.0</td>\n",
       "      <td>140.0</td>\n",
       "      <td>NO PAYMENT APPLIED</td>\n",
       "      <td>0</td>\n",
       "      <td>19014 ASHTON\\nDetroit, MI\\n(42.429390762000025...</td>\n",
       "    </tr>\n",
       "    <tr>\n",
       "      <th>2</th>\n",
       "      <td>Department of Public Works</td>\n",
       "      <td>22-2-22</td>\n",
       "      <td>100.0</td>\n",
       "      <td>10.0</td>\n",
       "      <td>0.0</td>\n",
       "      <td>140.0</td>\n",
       "      <td>PAID IN FULL</td>\n",
       "      <td>0</td>\n",
       "      <td>18735 STAHELIN\\nDetroit, MI\\n(42.4287074590000...</td>\n",
       "    </tr>\n",
       "    <tr>\n",
       "      <th>3</th>\n",
       "      <td>Department of Public Works</td>\n",
       "      <td>22-2-45</td>\n",
       "      <td>100.0</td>\n",
       "      <td>10.0</td>\n",
       "      <td>0.0</td>\n",
       "      <td>140.0</td>\n",
       "      <td>NO PAYMENT APPLIED</td>\n",
       "      <td>0</td>\n",
       "      <td>20125 MONICA\\nDetroit, MI\\n(42.44169828400004,...</td>\n",
       "    </tr>\n",
       "    <tr>\n",
       "      <th>4</th>\n",
       "      <td>Department of Public Works</td>\n",
       "      <td>22-2-22</td>\n",
       "      <td>100.0</td>\n",
       "      <td>10.0</td>\n",
       "      <td>0.0</td>\n",
       "      <td>140.0</td>\n",
       "      <td>PAID IN FULL</td>\n",
       "      <td>0</td>\n",
       "      <td>17397 PRAIRIE\\nDetroit, MI\\n(42.42031769500005...</td>\n",
       "    </tr>\n",
       "  </tbody>\n",
       "</table>\n",
       "</div>"
      ],
      "text/plain": [
       "                   AgencyName ViolationCode  FineAmt  StateFee  CleanUpCost  \\\n",
       "0  Department of Public Works       22-2-20   1500.0      10.0          0.0   \n",
       "1  Department of Public Works       22-2-22    100.0      10.0          0.0   \n",
       "2  Department of Public Works       22-2-22    100.0      10.0          0.0   \n",
       "3  Department of Public Works       22-2-45    100.0      10.0          0.0   \n",
       "4  Department of Public Works       22-2-22    100.0      10.0          0.0   \n",
       "\n",
       "   JudgmentAmt       PaymentStatus  ViolationCategory  \\\n",
       "0       1680.0        PAID IN FULL                  0   \n",
       "1        140.0  NO PAYMENT APPLIED                  0   \n",
       "2        140.0        PAID IN FULL                  0   \n",
       "3        140.0  NO PAYMENT APPLIED                  0   \n",
       "4        140.0        PAID IN FULL                  0   \n",
       "\n",
       "                                    ViolationAddress  \n",
       "0  2566 GRAND BLVD\\nDetroit, MI\\n(42.363182370000...  \n",
       "1  19014 ASHTON\\nDetroit, MI\\n(42.429390762000025...  \n",
       "2  18735 STAHELIN\\nDetroit, MI\\n(42.4287074590000...  \n",
       "3  20125 MONICA\\nDetroit, MI\\n(42.44169828400004,...  \n",
       "4  17397 PRAIRIE\\nDetroit, MI\\n(42.42031769500005...  "
      ]
     },
     "execution_count": 93,
     "metadata": {},
     "output_type": "execute_result"
    }
   ],
   "source": [
    "def toDollar(dollar):\n",
    "    try:\n",
    "        return float(dollar[1:])\n",
    "    except:\n",
    "        return 0\n",
    "\n",
    "for col in ['StateFee', 'CleanUpCost', 'JudgmentAmt', 'FineAmt']:\n",
    "    cleandedViolations[col] = cleandedViolations.apply(lambda row: toDollar(row[col]), axis=1)\n",
    "\n",
    "cleandedViolations.head()"
   ]
  },
  {
   "cell_type": "markdown",
   "metadata": {
    "deletable": true,
    "editable": true
   },
   "source": [
    "Once again we process the coordinates and obtain the bloc IDs."
   ]
  },
  {
   "cell_type": "code",
   "execution_count": 95,
   "metadata": {
    "collapsed": false,
    "deletable": true,
    "editable": true
   },
   "outputs": [],
   "source": [
    "violationsCoords = cleandedViolations.apply(lambda row:parseAddress(row['ViolationAddress']),axis=1)\n",
    "violationsCoords.columns = ['lat', 'lng']\n",
    "\n",
    "violationsCoords['lat'] = pd.to_numeric(violationsCoords['lat'], errors='raise') \n",
    "violationsCoords['lng'] = pd.to_numeric(violationsCoords['lng'], errors='raise') \n",
    "\n",
    "violationsCoords['lat'] = violationsCoords.apply(lambda row: np.round(row['lat'], 5), axis=1)\n",
    "violationsCoords['lng'] = violationsCoords.apply(lambda row: np.round(row['lng'], 5), axis=1)\n",
    "\n",
    "violations['bloc_id'] = violations.apply(lambda row: getBlocs(row['lat'], row['lng']), axis=1)\n",
    "\n",
    "violations = pd.concat([cleandedViolations, violationsCoords], axis=1)"
   ]
  },
  {
   "cell_type": "markdown",
   "metadata": {
    "deletable": true,
    "editable": true
   },
   "source": [
    "Another interesting feature is the violation code. It is of format `22-2-20`. We break it up into three parts to better capture the types of the violations."
   ]
  },
  {
   "cell_type": "code",
   "execution_count": 12,
   "metadata": {
    "collapsed": false,
    "deletable": true,
    "editable": true
   },
   "outputs": [
    {
     "data": {
      "text/html": [
       "<div>\n",
       "<table border=\"1\" class=\"dataframe\">\n",
       "  <thead>\n",
       "    <tr style=\"text-align: right;\">\n",
       "      <th></th>\n",
       "      <th>AgencyName</th>\n",
       "      <th>ViolationCode</th>\n",
       "      <th>FineAmt</th>\n",
       "      <th>StateFee</th>\n",
       "      <th>CleanUpCost</th>\n",
       "      <th>JudgmentAmt</th>\n",
       "      <th>PaymentStatus</th>\n",
       "      <th>ViolationCategory</th>\n",
       "      <th>ViolationAddress</th>\n",
       "      <th>lat</th>\n",
       "      <th>lng</th>\n",
       "      <th>violationCode-0</th>\n",
       "      <th>violationCode-1</th>\n",
       "      <th>violationCode-2</th>\n",
       "    </tr>\n",
       "  </thead>\n",
       "  <tbody>\n",
       "    <tr>\n",
       "      <th>0</th>\n",
       "      <td>Department of Public Works</td>\n",
       "      <td>22-2-20</td>\n",
       "      <td>1500.0</td>\n",
       "      <td>10.0</td>\n",
       "      <td>0.0</td>\n",
       "      <td>1680.0</td>\n",
       "      <td>PAID IN FULL</td>\n",
       "      <td>0</td>\n",
       "      <td>2566 GRAND BLVD\\nDetroit, MI\\n(42.363182370000...</td>\n",
       "      <td>42.363182</td>\n",
       "      <td>-83.091677</td>\n",
       "      <td>22</td>\n",
       "      <td>2</td>\n",
       "      <td>20</td>\n",
       "    </tr>\n",
       "    <tr>\n",
       "      <th>1</th>\n",
       "      <td>Department of Public Works</td>\n",
       "      <td>22-2-22</td>\n",
       "      <td>100.0</td>\n",
       "      <td>10.0</td>\n",
       "      <td>0.0</td>\n",
       "      <td>140.0</td>\n",
       "      <td>NO PAYMENT APPLIED</td>\n",
       "      <td>0</td>\n",
       "      <td>19014 ASHTON\\nDetroit, MI\\n(42.429390762000025...</td>\n",
       "      <td>42.429391</td>\n",
       "      <td>-83.220394</td>\n",
       "      <td>22</td>\n",
       "      <td>2</td>\n",
       "      <td>22</td>\n",
       "    </tr>\n",
       "    <tr>\n",
       "      <th>2</th>\n",
       "      <td>Department of Public Works</td>\n",
       "      <td>22-2-22</td>\n",
       "      <td>100.0</td>\n",
       "      <td>10.0</td>\n",
       "      <td>0.0</td>\n",
       "      <td>140.0</td>\n",
       "      <td>PAID IN FULL</td>\n",
       "      <td>0</td>\n",
       "      <td>18735 STAHELIN\\nDetroit, MI\\n(42.4287074590000...</td>\n",
       "      <td>42.428707</td>\n",
       "      <td>-83.227548</td>\n",
       "      <td>22</td>\n",
       "      <td>2</td>\n",
       "      <td>22</td>\n",
       "    </tr>\n",
       "    <tr>\n",
       "      <th>3</th>\n",
       "      <td>Department of Public Works</td>\n",
       "      <td>22-2-45</td>\n",
       "      <td>100.0</td>\n",
       "      <td>10.0</td>\n",
       "      <td>0.0</td>\n",
       "      <td>140.0</td>\n",
       "      <td>NO PAYMENT APPLIED</td>\n",
       "      <td>0</td>\n",
       "      <td>20125 MONICA\\nDetroit, MI\\n(42.44169828400004,...</td>\n",
       "      <td>42.441698</td>\n",
       "      <td>-83.145018</td>\n",
       "      <td>22</td>\n",
       "      <td>2</td>\n",
       "      <td>45</td>\n",
       "    </tr>\n",
       "    <tr>\n",
       "      <th>4</th>\n",
       "      <td>Department of Public Works</td>\n",
       "      <td>22-2-22</td>\n",
       "      <td>100.0</td>\n",
       "      <td>10.0</td>\n",
       "      <td>0.0</td>\n",
       "      <td>140.0</td>\n",
       "      <td>PAID IN FULL</td>\n",
       "      <td>0</td>\n",
       "      <td>17397 PRAIRIE\\nDetroit, MI\\n(42.42031769500005...</td>\n",
       "      <td>42.420318</td>\n",
       "      <td>-83.145328</td>\n",
       "      <td>22</td>\n",
       "      <td>2</td>\n",
       "      <td>22</td>\n",
       "    </tr>\n",
       "  </tbody>\n",
       "</table>\n",
       "</div>"
      ],
      "text/plain": [
       "                   AgencyName ViolationCode  FineAmt  StateFee  CleanUpCost  \\\n",
       "0  Department of Public Works       22-2-20   1500.0      10.0          0.0   \n",
       "1  Department of Public Works       22-2-22    100.0      10.0          0.0   \n",
       "2  Department of Public Works       22-2-22    100.0      10.0          0.0   \n",
       "3  Department of Public Works       22-2-45    100.0      10.0          0.0   \n",
       "4  Department of Public Works       22-2-22    100.0      10.0          0.0   \n",
       "\n",
       "   JudgmentAmt       PaymentStatus  ViolationCategory  \\\n",
       "0       1680.0        PAID IN FULL                  0   \n",
       "1        140.0  NO PAYMENT APPLIED                  0   \n",
       "2        140.0        PAID IN FULL                  0   \n",
       "3        140.0  NO PAYMENT APPLIED                  0   \n",
       "4        140.0        PAID IN FULL                  0   \n",
       "\n",
       "                                    ViolationAddress        lat        lng  \\\n",
       "0  2566 GRAND BLVD\\nDetroit, MI\\n(42.363182370000...  42.363182 -83.091677   \n",
       "1  19014 ASHTON\\nDetroit, MI\\n(42.429390762000025...  42.429391 -83.220394   \n",
       "2  18735 STAHELIN\\nDetroit, MI\\n(42.4287074590000...  42.428707 -83.227548   \n",
       "3  20125 MONICA\\nDetroit, MI\\n(42.44169828400004,...  42.441698 -83.145018   \n",
       "4  17397 PRAIRIE\\nDetroit, MI\\n(42.42031769500005...  42.420318 -83.145328   \n",
       "\n",
       "  violationCode-0 violationCode-1 violationCode-2  \n",
       "0              22               2              20  \n",
       "1              22               2              22  \n",
       "2              22               2              22  \n",
       "3              22               2              45  \n",
       "4              22               2              22  "
      ]
     },
     "execution_count": 12,
     "metadata": {},
     "output_type": "execute_result"
    }
   ],
   "source": [
    "def getViolationsCodeDetails(violationCode):\n",
    "    details = violationCode.split('-')\n",
    "    data = {}\n",
    "    for l in range(3):\n",
    "        if len(details) > l and details[l] is not None:\n",
    "            data['violationCode-{0}'.format(l)] = details[l]\n",
    "    \n",
    "    if len(data) > 0:\n",
    "        return pd.Series(data)\n",
    "    else:\n",
    "        pass\n",
    "    \n",
    "violations = violations.merge(violations.ViolationCode.apply(lambda row: getViolationsCodeDetails(row)), left_index=True, right_index=True)\n",
    "violations.head()"
   ]
  },
  {
   "cell_type": "markdown",
   "metadata": {
    "deletable": true,
    "editable": true
   },
   "source": [
    "Next, we will group the incidents by the bloc IDs and compute each group's statistics using `agg()` function. For money amount, we are looking for the sum. For other categorical features, one simple approach is to just take one of the values as the aggregated value. And we will want to count the total number of violations related to a building."
   ]
  },
  {
   "cell_type": "code",
   "execution_count": 456,
   "metadata": {
    "collapsed": false,
    "deletable": true,
    "editable": true
   },
   "outputs": [
    {
     "data": {
      "text/html": [
       "<div>\n",
       "<table border=\"1\" class=\"dataframe\">\n",
       "  <thead>\n",
       "    <tr style=\"text-align: right;\">\n",
       "      <th></th>\n",
       "      <th>bloc_id</th>\n",
       "      <th>CleanUpCost</th>\n",
       "      <th>FineAmt</th>\n",
       "      <th>nb_violations</th>\n",
       "      <th>AgencyName</th>\n",
       "      <th>JudgmentAmt</th>\n",
       "      <th>StateFee</th>\n",
       "      <th>violationCode-0</th>\n",
       "      <th>ViolationCategory</th>\n",
       "      <th>PaymentStatus</th>\n",
       "    </tr>\n",
       "  </thead>\n",
       "  <tbody>\n",
       "    <tr>\n",
       "      <th>0</th>\n",
       "      <td>0.0</td>\n",
       "      <td>0.0</td>\n",
       "      <td>550.0</td>\n",
       "      <td>2</td>\n",
       "      <td>Department of Public Works</td>\n",
       "      <td>665.0</td>\n",
       "      <td>20.0</td>\n",
       "      <td>22</td>\n",
       "      <td>0</td>\n",
       "      <td>NO PAYMENT APPLIED</td>\n",
       "    </tr>\n",
       "    <tr>\n",
       "      <th>1</th>\n",
       "      <td>1.0</td>\n",
       "      <td>0.0</td>\n",
       "      <td>50.0</td>\n",
       "      <td>1</td>\n",
       "      <td>Department of Public Works</td>\n",
       "      <td>85.0</td>\n",
       "      <td>10.0</td>\n",
       "      <td>9</td>\n",
       "      <td>0</td>\n",
       "      <td>NO PAYMENT APPLIED</td>\n",
       "    </tr>\n",
       "    <tr>\n",
       "      <th>2</th>\n",
       "      <td>28.0</td>\n",
       "      <td>0.0</td>\n",
       "      <td>200.0</td>\n",
       "      <td>1</td>\n",
       "      <td>Department of Public Works</td>\n",
       "      <td>250.0</td>\n",
       "      <td>10.0</td>\n",
       "      <td>22</td>\n",
       "      <td>0</td>\n",
       "      <td>NO PAYMENT APPLIED</td>\n",
       "    </tr>\n",
       "    <tr>\n",
       "      <th>3</th>\n",
       "      <td>32.0</td>\n",
       "      <td>0.0</td>\n",
       "      <td>1800.0</td>\n",
       "      <td>5</td>\n",
       "      <td>Building and Safety Engineering Department</td>\n",
       "      <td>2130.0</td>\n",
       "      <td>50.0</td>\n",
       "      <td>9</td>\n",
       "      <td>0</td>\n",
       "      <td>PAID IN FULL</td>\n",
       "    </tr>\n",
       "    <tr>\n",
       "      <th>4</th>\n",
       "      <td>37.0</td>\n",
       "      <td>320.0</td>\n",
       "      <td>3500.0</td>\n",
       "      <td>7</td>\n",
       "      <td>Building and Safety Engineering Department</td>\n",
       "      <td>4060.0</td>\n",
       "      <td>70.0</td>\n",
       "      <td>9</td>\n",
       "      <td>0</td>\n",
       "      <td>NO PAYMENT APPLIED</td>\n",
       "    </tr>\n",
       "  </tbody>\n",
       "</table>\n",
       "</div>"
      ],
      "text/plain": [
       "   bloc_id  CleanUpCost  FineAmt  nb_violations  \\\n",
       "0      0.0          0.0    550.0              2   \n",
       "1      1.0          0.0     50.0              1   \n",
       "2     28.0          0.0    200.0              1   \n",
       "3     32.0          0.0   1800.0              5   \n",
       "4     37.0        320.0   3500.0              7   \n",
       "\n",
       "                                   AgencyName  JudgmentAmt  StateFee  \\\n",
       "0                  Department of Public Works        665.0      20.0   \n",
       "1                  Department of Public Works         85.0      10.0   \n",
       "2                  Department of Public Works        250.0      10.0   \n",
       "3  Building and Safety Engineering Department       2130.0      50.0   \n",
       "4  Building and Safety Engineering Department       4060.0      70.0   \n",
       "\n",
       "  violationCode-0  ViolationCategory       PaymentStatus  \n",
       "0              22                  0  NO PAYMENT APPLIED  \n",
       "1               9                  0  NO PAYMENT APPLIED  \n",
       "2              22                  0  NO PAYMENT APPLIED  \n",
       "3               9                  0        PAID IN FULL  \n",
       "4               9                  0  NO PAYMENT APPLIED  "
      ]
     },
     "execution_count": 456,
     "metadata": {},
     "output_type": "execute_result"
    }
   ],
   "source": [
    "violations = violations.drop(columns=['ViolationCode', 'violationCode-1', 'violationCode-2', 'ViolationAddress'], axis=1)\n",
    "violations['nb_violations'] = 0\n",
    "\n",
    "groupedViolations = violations.groupby('bloc_id', as_index=False)\n",
    "groupedViolationsAgg = groupedViolations.agg({\n",
    "        'AgencyName': 'first',\n",
    "        'violationCode-0': 'first',\n",
    "        'FineAmt': 'sum',\n",
    "        'StateFee': 'sum',\n",
    "        'CleanUpCost': 'sum',\n",
    "        'JudgmentAmt': 'sum',\n",
    "        'PaymentStatus': 'first',\n",
    "        'ViolationCategory': 'first',\n",
    "        'nb_violations': 'count'\n",
    "    })\n",
    "\n",
    "groupedViolationsAgg.head()"
   ]
  },
  {
   "cell_type": "markdown",
   "metadata": {
    "deletable": true,
    "editable": true
   },
   "source": [
    "Very similarly, we will process the crimes dataset and the 311 calls dataset. The procedure for parsing the coordinates and obtaining bloc IDs are the same. Due to the limit on lines of code, those codes are omitted. Instead the processed datasets are loaded directly."
   ]
  },
  {
   "cell_type": "code",
   "execution_count": 467,
   "metadata": {
    "collapsed": true,
    "deletable": true,
    "editable": true
   },
   "outputs": [],
   "source": [
    "crimes = pd.read_csv('data/crimes_blocs.csv')\n",
    "crimes['nb_crimes'] = 0\n",
    "\n",
    "groupedCrimes = crimes.groupby('bloc_id', as_index=False)\n",
    "groupedCrimesAgg = groupedCrimes.agg({\n",
    "        'STATEOFFENSEFILECLASS': 'last',\n",
    "        'nb_crimes': 'count'\n",
    "    })"
   ]
  },
  {
   "cell_type": "code",
   "execution_count": 459,
   "metadata": {
    "collapsed": true,
    "deletable": true,
    "editable": true
   },
   "outputs": [],
   "source": [
    "calls = pd.read_csv('data/311_blocs.csv')\n",
    "calls['nb_calls'] = 0\n",
    "\n",
    "groupedCalls = calls.groupby('bloc_id', as_index=False)\n",
    "groupedCallsAgg = groupedCalls.agg({\n",
    "        'issue_type': 'last',\n",
    "        'rating': 'min',\n",
    "        'ticket_status': 'last',\n",
    "        'nb_calls': 'count'\n",
    "    })"
   ]
  },
  {
   "cell_type": "markdown",
   "metadata": {
    "deletable": true,
    "editable": true
   },
   "source": [
    "## Constructing Final Dataset"
   ]
  },
  {
   "cell_type": "markdown",
   "metadata": {},
   "source": [
    "As the final step, we will combine everything we've obtained so far into a dataset that can be used by machine learning models.\n",
    "\n",
    "First, we will merge the labels with corresponding features."
   ]
  },
  {
   "cell_type": "code",
   "execution_count": 530,
   "metadata": {
    "collapsed": true,
    "deletable": true,
    "editable": true
   },
   "outputs": [],
   "source": [
    "data = pd.merge(trainDF, groupedViolationsAgg, on='bloc_id', how='left')\n",
    "data = pd.merge(data, groupedCallsAgg, on='bloc_id', how='left')\n",
    "data = pd.merge(data, groupedCrimesAgg, on='bloc_id', how='left')"
   ]
  },
  {
   "cell_type": "markdown",
   "metadata": {},
   "source": [
    "Next, we need to fill columns that contain NAs with reasonable values. For numerical features like counts or money amount, it's obvious that we should replaces NAs with 0s. For other categorical features, we can use -1s to indicate \"missing\"."
   ]
  },
  {
   "cell_type": "code",
   "execution_count": null,
   "metadata": {
    "collapsed": true
   },
   "outputs": [],
   "source": [
    "for col in ['CleanUpCost', 'FineAmt', 'nb_violations', 'nb_calls', 'nb_crimes', 'JudgmentAmt', 'StateFee']:\n",
    "    data[col] = data[col].fillna(0)\n",
    "for col in ['AgencyName', 'violationCode-0', 'ViolationCategory', 'PaymentStatus', 'STATEOFFENSEFILECLASS', 'rating', 'ticket_status', 'issue_type']:\n",
    "    data[col] = data[col].fillna(-1)"
   ]
  },
  {
   "cell_type": "markdown",
   "metadata": {},
   "source": [
    "Here's what our final dataset look like:"
   ]
  },
  {
   "cell_type": "code",
   "execution_count": 540,
   "metadata": {
    "collapsed": false,
    "deletable": true,
    "editable": true,
    "scrolled": true
   },
   "outputs": [
    {
     "data": {
      "text/html": [
       "<div>\n",
       "<table border=\"1\" class=\"dataframe\">\n",
       "  <thead>\n",
       "    <tr style=\"text-align: right;\">\n",
       "      <th></th>\n",
       "      <th>bloc_id</th>\n",
       "      <th>label</th>\n",
       "      <th>CleanUpCost</th>\n",
       "      <th>FineAmt</th>\n",
       "      <th>nb_violations</th>\n",
       "      <th>AgencyName</th>\n",
       "      <th>JudgmentAmt</th>\n",
       "      <th>StateFee</th>\n",
       "      <th>violationCode-0</th>\n",
       "      <th>ViolationCategory</th>\n",
       "      <th>PaymentStatus</th>\n",
       "      <th>rating</th>\n",
       "      <th>nb_calls</th>\n",
       "      <th>ticket_status</th>\n",
       "      <th>issue_type</th>\n",
       "      <th>STATEOFFENSEFILECLASS</th>\n",
       "      <th>nb_crimes</th>\n",
       "    </tr>\n",
       "  </thead>\n",
       "  <tbody>\n",
       "    <tr>\n",
       "      <th>0</th>\n",
       "      <td>80884.0</td>\n",
       "      <td>blighted</td>\n",
       "      <td>0.0</td>\n",
       "      <td>600.0</td>\n",
       "      <td>2.0</td>\n",
       "      <td>Detroit Police Department</td>\n",
       "      <td>720.0</td>\n",
       "      <td>20.0</td>\n",
       "      <td>9</td>\n",
       "      <td>0.0</td>\n",
       "      <td>NO PAYMENT APPLIED</td>\n",
       "      <td>-1.0</td>\n",
       "      <td>0.0</td>\n",
       "      <td>-1</td>\n",
       "      <td>-1</td>\n",
       "      <td>-1.0</td>\n",
       "      <td>0.0</td>\n",
       "    </tr>\n",
       "    <tr>\n",
       "      <th>1</th>\n",
       "      <td>52539.0</td>\n",
       "      <td>blighted</td>\n",
       "      <td>0.0</td>\n",
       "      <td>2550.0</td>\n",
       "      <td>9.0</td>\n",
       "      <td>Building and Safety Engineering Department</td>\n",
       "      <td>3075.0</td>\n",
       "      <td>90.0</td>\n",
       "      <td>9</td>\n",
       "      <td>0.0</td>\n",
       "      <td>NO PAYMENT APPLIED</td>\n",
       "      <td>-1.0</td>\n",
       "      <td>0.0</td>\n",
       "      <td>-1</td>\n",
       "      <td>-1</td>\n",
       "      <td>35001.0</td>\n",
       "      <td>1.0</td>\n",
       "    </tr>\n",
       "    <tr>\n",
       "      <th>2</th>\n",
       "      <td>199492.0</td>\n",
       "      <td>blighted</td>\n",
       "      <td>0.0</td>\n",
       "      <td>0.0</td>\n",
       "      <td>0.0</td>\n",
       "      <td>-1</td>\n",
       "      <td>0.0</td>\n",
       "      <td>0.0</td>\n",
       "      <td>-1</td>\n",
       "      <td>-1.0</td>\n",
       "      <td>-1</td>\n",
       "      <td>-1.0</td>\n",
       "      <td>0.0</td>\n",
       "      <td>-1</td>\n",
       "      <td>-1</td>\n",
       "      <td>-1.0</td>\n",
       "      <td>0.0</td>\n",
       "    </tr>\n",
       "    <tr>\n",
       "      <th>3</th>\n",
       "      <td>199493.0</td>\n",
       "      <td>blighted</td>\n",
       "      <td>0.0</td>\n",
       "      <td>0.0</td>\n",
       "      <td>0.0</td>\n",
       "      <td>-1</td>\n",
       "      <td>0.0</td>\n",
       "      <td>0.0</td>\n",
       "      <td>-1</td>\n",
       "      <td>-1.0</td>\n",
       "      <td>-1</td>\n",
       "      <td>-1.0</td>\n",
       "      <td>0.0</td>\n",
       "      <td>-1</td>\n",
       "      <td>-1</td>\n",
       "      <td>-1.0</td>\n",
       "      <td>0.0</td>\n",
       "    </tr>\n",
       "    <tr>\n",
       "      <th>4</th>\n",
       "      <td>199494.0</td>\n",
       "      <td>blighted</td>\n",
       "      <td>0.0</td>\n",
       "      <td>0.0</td>\n",
       "      <td>0.0</td>\n",
       "      <td>-1</td>\n",
       "      <td>0.0</td>\n",
       "      <td>0.0</td>\n",
       "      <td>-1</td>\n",
       "      <td>-1.0</td>\n",
       "      <td>-1</td>\n",
       "      <td>-1.0</td>\n",
       "      <td>0.0</td>\n",
       "      <td>-1</td>\n",
       "      <td>-1</td>\n",
       "      <td>-1.0</td>\n",
       "      <td>0.0</td>\n",
       "    </tr>\n",
       "  </tbody>\n",
       "</table>\n",
       "</div>"
      ],
      "text/plain": [
       "    bloc_id     label  CleanUpCost  FineAmt  nb_violations  \\\n",
       "0   80884.0  blighted          0.0    600.0            2.0   \n",
       "1   52539.0  blighted          0.0   2550.0            9.0   \n",
       "2  199492.0  blighted          0.0      0.0            0.0   \n",
       "3  199493.0  blighted          0.0      0.0            0.0   \n",
       "4  199494.0  blighted          0.0      0.0            0.0   \n",
       "\n",
       "                                   AgencyName  JudgmentAmt  StateFee  \\\n",
       "0                   Detroit Police Department        720.0      20.0   \n",
       "1  Building and Safety Engineering Department       3075.0      90.0   \n",
       "2                                          -1          0.0       0.0   \n",
       "3                                          -1          0.0       0.0   \n",
       "4                                          -1          0.0       0.0   \n",
       "\n",
       "  violationCode-0  ViolationCategory       PaymentStatus  rating  nb_calls  \\\n",
       "0               9                0.0  NO PAYMENT APPLIED    -1.0       0.0   \n",
       "1               9                0.0  NO PAYMENT APPLIED    -1.0       0.0   \n",
       "2              -1               -1.0                  -1    -1.0       0.0   \n",
       "3              -1               -1.0                  -1    -1.0       0.0   \n",
       "4              -1               -1.0                  -1    -1.0       0.0   \n",
       "\n",
       "  ticket_status issue_type  STATEOFFENSEFILECLASS  nb_crimes  \n",
       "0            -1         -1                   -1.0        0.0  \n",
       "1            -1         -1                35001.0        1.0  \n",
       "2            -1         -1                   -1.0        0.0  \n",
       "3            -1         -1                   -1.0        0.0  \n",
       "4            -1         -1                   -1.0        0.0  "
      ]
     },
     "execution_count": 540,
     "metadata": {},
     "output_type": "execute_result"
    }
   ],
   "source": [
    "data.head()"
   ]
  },
  {
   "cell_type": "markdown",
   "metadata": {
    "deletable": true,
    "editable": true
   },
   "source": [
    "## Model Training"
   ]
  },
  {
   "cell_type": "markdown",
   "metadata": {},
   "source": [
    "In this section, we will train our model on the generated dataset and evaluate its performance. As this part is not the focus of this tutorial, we will only train a random forest model for simplicity."
   ]
  },
  {
   "cell_type": "code",
   "execution_count": 5,
   "metadata": {
    "collapsed": true,
    "deletable": true,
    "editable": true
   },
   "outputs": [],
   "source": [
    "from sklearn import preprocessing\n",
    "from sklearn.preprocessing import LabelEncoder\n",
    "from sklearn.metrics import accuracy_score"
   ]
  },
  {
   "cell_type": "markdown",
   "metadata": {
    "deletable": true,
    "editable": true
   },
   "source": [
    "Since we have several categorical columns in our dataset, it helps to use a label encoder to convert the values into integers for later ease with the model training."
   ]
  },
  {
   "cell_type": "code",
   "execution_count": 6,
   "metadata": {
    "collapsed": true,
    "deletable": true,
    "editable": true
   },
   "outputs": [],
   "source": [
    "class MultiColumnLabelEncoder:\n",
    "    def __init__(self,columns = None):\n",
    "        self.columns = columns\n",
    "\n",
    "    def fit(self,X,y=None):\n",
    "        return self\n",
    "\n",
    "    def transform(self,X):\n",
    "        output = X.copy()\n",
    "        if self.columns is not None:\n",
    "            for col in self.columns:\n",
    "                output[col] = LabelEncoder().fit_transform(output[col])\n",
    "        else:\n",
    "            for colname,col in output.iteritems():\n",
    "                output[colname] = LabelEncoder().fit_transform(col)\n",
    "        return output\n",
    "\n",
    "    def fit_transform(self,X,y=None):\n",
    "        return self.fit(X,y).transform(X)\n",
    "    \n",
    "mcle = MultiColumnLabelEncoder(columns = ['label','AgencyName', 'violationCode-0', 'PaymentStatus', 'STATEOFFENSEFILECLASS', 'ticket_status', 'issue_type']) \n",
    "data = mcle.fit_transform(data)"
   ]
  },
  {
   "cell_type": "markdown",
   "metadata": {
    "deletable": true,
    "editable": true
   },
   "source": [
    "Next, we will split the dataset into training and testing sets."
   ]
  },
  {
   "cell_type": "code",
   "execution_count": 9,
   "metadata": {
    "collapsed": false,
    "deletable": true,
    "editable": true
   },
   "outputs": [],
   "source": [
    "from sklearn.cross_validation import train_test_split\n",
    "\n",
    "data_labels = data['label']\n",
    "data_features = data.drop('label', axis=1)\n",
    "data_features = data_features.drop('bloc_id', axis=1)\n",
    "\n",
    "feat_train, feat_test, out_train, out_test = train_test_split(data_features, data_labels, test_size=0.2, random_state=1027)"
   ]
  },
  {
   "cell_type": "markdown",
   "metadata": {
    "deletable": true,
    "editable": true
   },
   "source": [
    "Now let's train a random forest classifier on the training set and evaluate its performance on the testing set."
   ]
  },
  {
   "cell_type": "code",
   "execution_count": 10,
   "metadata": {
    "collapsed": false,
    "deletable": true,
    "editable": true
   },
   "outputs": [
    {
     "name": "stdout",
     "output_type": "stream",
     "text": [
      "Accuracy: 0.72 (+/- 0.01)\n"
     ]
    }
   ],
   "source": [
    "from sklearn.ensemble import RandomForestClassifier\n",
    "from sklearn import cross_validation\n",
    "\n",
    "model = RandomForestClassifier(n_estimators=10, max_features=5, max_depth=6)\n",
    "model = model.fit(feat_train, out_train)\n",
    "\n",
    "scores = cross_validation.cross_val_score(model, feat_train, out_train, cv=5)\n",
    "print(\"Accuracy: %0.2f (+/- %0.2f)\" % (scores.mean(), scores.std() * 2))"
   ]
  },
  {
   "cell_type": "code",
   "execution_count": 12,
   "metadata": {
    "collapsed": false,
    "deletable": true,
    "editable": true
   },
   "outputs": [
    {
     "data": {
      "text/plain": [
       "0.73147410358565734"
      ]
     },
     "execution_count": 12,
     "metadata": {},
     "output_type": "execute_result"
    }
   ],
   "source": [
    "forest_test_results = model.predict(feat_test)\n",
    "accuracy_score(out_test, np.around(forest_test_results))"
   ]
  },
  {
   "cell_type": "markdown",
   "metadata": {},
   "source": [
    "One advantage of random forests is that we can immediately inspect the feature importances using the trained model.\n",
    "\n",
    "Based on feature importances, we can see that the number of violations and the amount of fines/costs are very strong predictors for the blights. Agency name is also a strong predictor because it reveals the nature of the incident, as different issues will normally be handled by different agencies/authorities."
   ]
  },
  {
   "cell_type": "code",
   "execution_count": 13,
   "metadata": {
    "collapsed": false,
    "deletable": true,
    "editable": true
   },
   "outputs": [
    {
     "name": "stdout",
     "output_type": "stream",
     "text": [
      "Top features:\n",
      "0. CleanUpCost (0.268485)\n",
      "1. FineAmt (0.219016)\n",
      "2. nb_violations (0.091803)\n",
      "3. AgencyName (0.090707)\n",
      "4. JudgmentAmt (0.075536)\n",
      "5. StateFee (0.075392)\n",
      "6. violationCode-0 (0.048935)\n",
      "7. ViolationCategory (0.044099)\n",
      "8. PaymentStatus (0.022746)\n",
      "9. rating (0.018151)\n",
      "10. nb_calls (0.017838)\n",
      "11. ticket_status (0.010091)\n",
      "12. issue_type (0.010000)\n",
      "13. STATEOFFENSEFILECLASS (0.005431)\n",
      "14. nb_crimes (0.001667)\n",
      "15. total_charges (0.000103)\n"
     ]
    }
   ],
   "source": [
    "importances = model.feature_importances_\n",
    "std = np.std([tree.feature_importances_ for tree in model.estimators_], axis=0)\n",
    "indices = np.argsort(importances)[::-1]\n",
    "\n",
    "print(\"Top features:\")\n",
    "\n",
    "col_labels = feat_test.columns.values.tolist()\n",
    "for var in range(0, len(col_labels)):\n",
    "    print(\"%d. %s (%f)\" % (var, col_labels[var], importances[indices[var]]))"
   ]
  },
  {
   "cell_type": "markdown",
   "metadata": {
    "collapsed": true,
    "deletable": true,
    "editable": true
   },
   "source": [
    "## Future Works"
   ]
  },
  {
   "cell_type": "markdown",
   "metadata": {},
   "source": [
    "- For now we are clustering locations purely based on coordinates, while the datasets also contains addresses of these locations. We can preprocess the address field and use some sort of fuzzy text matching as another criteria for determining whether two coordinates should be mapped to the same building.\n",
    "- An incidient affeacts not only the building but also the whole neighborhood. The effect is something that decays with the distance. For now we are only taking into account the impact of an incident to the building that it is associated with. We can try expanding that impact to all the nearby buildings within a certain distance. Furthermore we can define different values to use for the impact radius to more accurately capture the impact pattern.\n",
    "- To make our model more useful to urban planners, we can divide the whole Detroit area into grids and predict a \"blight factor\" for all the cells. Then we can build a heat map to interactively display the data."
   ]
  },
  {
   "cell_type": "markdown",
   "metadata": {},
   "source": [
    "## References"
   ]
  },
  {
   "cell_type": "markdown",
   "metadata": {},
   "source": [
    "- [More on DBSCAN](http://scikit-learn.org/stable/modules/generated/sklearn.cluster.DBSCAN.html)\n",
    "- [More on how to handle imbalanced datasets](https://machinelearningmastery.com/tactics-to-combat-imbalanced-classes-in-your-machine-learning-dataset/)\n",
    "- [Example of blight maps](https://www.citylab.com/equity/2014/05/we-now-have-highly-detailed-maps-of-detroits-blight/371762/)"
   ]
  }
 ],
 "metadata": {
  "kernelspec": {
   "display_name": "Python [default]",
   "language": "python",
   "name": "python2"
  },
  "language_info": {
   "codemirror_mode": {
    "name": "ipython",
    "version": 2
   },
   "file_extension": ".py",
   "mimetype": "text/x-python",
   "name": "python",
   "nbconvert_exporter": "python",
   "pygments_lexer": "ipython2",
   "version": "2.7.13"
  }
 },
 "nbformat": 4,
 "nbformat_minor": 0
}
