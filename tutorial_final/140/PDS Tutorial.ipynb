{
 "cells": [
  {
   "cell_type": "markdown",
   "metadata": {},
   "source": [
    "# K-Nearest Neighbor Tutorial"
   ]
  },
  {
   "cell_type": "markdown",
   "metadata": {},
   "source": [
    "This tutorial will give you an introduction to K-Nearest Neighbor (KNN) algorithm. This algorithm is an instance-based method which uses data instances to makes predictions. This requires the training data to be stored and used for evaluation of validation and test data. KNN is non-parametric as there are no parameters being learned during the training process. However, it does have a hyperparameter 'k' which refers to the number of neighbors to consider when evaluating a new data point. This algorithm is especially recognized for its ability to be used in classification and regression problems. \n",
    "\n",
    "In this tutorial, we will discuss the details of implementing the KNN algorithm in Python. We will begin with preprocessing the data and then calculating the euclidean distance between data points. Next, we will touch upon how to find the k nearest neighbors for a data point and accordingly label that point. Then, we will learn how to optimize the hyperparameter of 'k' by performing cross-validation. Lastly, once we have fixed an optimal value of 'k', we will see how to predict the label for the test data set."
   ]
  },
  {
   "cell_type": "markdown",
   "metadata": {},
   "source": [
    "## Table of Contents"
   ]
  },
  {
   "cell_type": "markdown",
   "metadata": {},
   "source": [
    "<a href=\"#section1\" >About dataset</a>\n",
    "<br>\n",
    "<a href=\"#section2\" >Packages required </a>\n",
    "<br>\n",
    "<a href=\"#section3\" >Reading data from csv files</a>\n",
    "<br>\n",
    "<a href=\"#section4\" >Data Preprocessing</a>\n",
    "<br>\n",
    "<a href=\"#section5\" >Euclidean distance</a>\n",
    "<br>\n",
    "<a href=\"#section6\" >K Nearest Neighbors</a>\n",
    "<br>\n",
    "<a href=\"#section7\" >How to choose the value of k</a>\n",
    "<br>\n",
    "<a href=\"#section8\" >Plot training and test data set</a>\n",
    "<br>\n",
    "<a href=\"#section9\" >Predicting Labels</a>\n",
    "<br>\n",
    "<a href=\"#section10\" >Tutorial Summary</a>\n",
    "<br>\n",
    "<a href=\"#section11\" >Further Resources</a>"
   ]
  },
  {
   "cell_type": "markdown",
   "metadata": {},
   "source": [
    "<a id='section1'></a>\n",
    "## About dataset"
   ]
  },
  {
   "cell_type": "markdown",
   "metadata": {},
   "source": [
    "In this tutorial, we will be using the Iris Data Set\n",
    "(Reference : http://archive.ics.uci.edu/ml/datasets/Iris).\n",
    "This data set has three unique labels i.e., Iris-setosa, Iris-virginica and Iris-versicolor. Each data point has four features. They are sepal_length, sepal_width, petal_length and petal_width (in cm). Based on these four features, we are labeling the each data point."
   ]
  },
  {
   "cell_type": "markdown",
   "metadata": {},
   "source": [
    "The iris data set is divided into train and test set. We will use 80% of data set as train and 20% as test data. For this tutorial, we have divided the dataset into two separate csv files i.e., iris_data_train.csv and iris_data_test.csv\n"
   ]
  },
  {
   "cell_type": "markdown",
   "metadata": {},
   "source": [
    "<a id='section2'></a>\n",
    "## Packages required "
   ]
  },
  {
   "cell_type": "markdown",
   "metadata": {},
   "source": [
    "These are the packages that we are going to use in our tutorial."
   ]
  },
  {
   "cell_type": "code",
   "execution_count": 1081,
   "metadata": {},
   "outputs": [],
   "source": [
    "import numpy as np\n",
    "import matplotlib.pyplot as plt\n",
    "import math"
   ]
  },
  {
   "cell_type": "markdown",
   "metadata": {},
   "source": [
    "<a id='section3'></a>\n",
    "## Reading data from csv files"
   ]
  },
  {
   "cell_type": "markdown",
   "metadata": {},
   "source": [
    "In this section, we will read data from __iris_data_train.csv__ and __iris_data_test.csv__."
   ]
  },
  {
   "cell_type": "code",
   "execution_count": 1059,
   "metadata": {},
   "outputs": [
    {
     "name": "stderr",
     "output_type": "stream",
     "text": [
      "/Users/manishachaurasia/anaconda3/lib/python3.6/site-packages/ipykernel_launcher.py:4: VisibleDeprecationWarning: Reading unicode strings without specifying the encoding argument is deprecated. Set the encoding, use None for the system default.\n",
      "  after removing the cwd from sys.path.\n",
      "/Users/manishachaurasia/anaconda3/lib/python3.6/site-packages/ipykernel_launcher.py:20: VisibleDeprecationWarning: Reading unicode strings without specifying the encoding argument is deprecated. Set the encoding, use None for the system default.\n"
     ]
    }
   ],
   "source": [
    "## TRAIN DATA ##\n",
    "\n",
    "#read data from train csv file into trainData\n",
    "train_data = np.genfromtxt(\"iris_data_train.csv\", delimiter=\",\", names=True, dtype=None)\n",
    "#get the headings\n",
    "headings = train_data.dtype.names\n",
    "\n",
    "#get the features list from the trainData\n",
    "f1_train = train_data[headings[0]] \n",
    "f2_train = train_data[headings[1]]\n",
    "f3_train = train_data[headings[2]] \n",
    "f4_train = train_data[headings[3]] \n",
    "\n",
    "#get the labels list from trainData\n",
    "labelList_train = train_data[headings[4]]\n",
    "\n",
    "## TEST DATA ##\n",
    "\n",
    "#read data from test csv file into testData\n",
    "test_data = np.genfromtxt(\"iris_data_test.csv\", delimiter=\",\", names=True, dtype=None)\n",
    "\n",
    "#get the features list from the testData\n",
    "f1_test = test_data[headings[0]] \n",
    "f2_test = test_data[headings[1]]\n",
    "f3_test = test_data[headings[2]] \n",
    "f4_test = test_data[headings[3]] \n",
    "\n",
    "#get the labels list from testData\n",
    "labelList_test = test_data[headings[4]]\n",
    "\n",
    "# set_label=set(labelList1)\n",
    "# for d in set_label:\n",
    "#     print(d.decode(\"utf-8\"))"
   ]
  },
  {
   "cell_type": "markdown",
   "metadata": {},
   "source": [
    "Sample row in train_data:\n",
    "\n",
    "| sepal_length | sepal_width | petal_length | petal_width| Label  |         \n",
    "| :- |-------------: | :-:\n",
    "|5.1| 3.5  | 1.4 |  0.2  | Iris-setosa  |\n",
    "\n"
   ]
  },
  {
   "cell_type": "code",
   "execution_count": 1060,
   "metadata": {},
   "outputs": [
    {
     "data": {
      "text/plain": [
       "(5.1, 3.5, 1.4, 0.2, b'Iris-setosa')"
      ]
     },
     "execution_count": 1060,
     "metadata": {},
     "output_type": "execute_result"
    }
   ],
   "source": [
    "train_data[0]"
   ]
  },
  {
   "cell_type": "markdown",
   "metadata": {},
   "source": [
    "<a id='section4'></a>\n",
    "## Data Preprocessing"
   ]
  },
  {
   "cell_type": "markdown",
   "metadata": {},
   "source": [
    "While there are various ways to preprocess data, we will be using data normalization in our tutorial. Data normalization scales a dataset in the range of 0 to 1. The range of all features needs to be normalized so that each feature's contribution is proportional to the final result (Euclidean distance in our case). We will talk in detail about Euclidean distance in our later topics. Data Normalization is necessary when different features have highly varying range of values or scales. \n",
    "\n",
    "Normalization is achieved by using following formula:\n",
    "\n",
    "x_normalized = ( x − x_min ) / ( x_max − x_min )\n",
    "\n",
    "(The features sepal_length, sepal_width, petal_length and petal_width are in cm. )"
   ]
  },
  {
   "cell_type": "code",
   "execution_count": 1061,
   "metadata": {},
   "outputs": [],
   "source": [
    "## TRAIN DATA ##\n",
    "# find min and max of each feature\n",
    "minf1_train, maxf1_train = min(f1_train), max(f1_train)\n",
    "minf2_train, maxf2_train = min(f2_train), max(f2_train)\n",
    "minf3_train, maxf3_train = min(f3_train), max(f3_train)\n",
    "minf4_train, maxf4_train = min(f4_train), max(f4_train)\n",
    "\n",
    "#Normalize each train feature\n",
    "f1_train_norm = []\n",
    "f2_train_norm = []\n",
    "f3_train_norm = []\n",
    "f4_train_norm = []\n",
    "\n",
    "for x in f1_train:\n",
    "    x_norm = (x-minf1_train)/(maxf1_train-minf1_train)\n",
    "    f1_train_norm.append(x_norm)\n",
    "\n",
    "for x in f2_train:\n",
    "    x_norm = (x-minf2_train)/(maxf2_train-minf2_train)\n",
    "    f2_train_norm.append(x_norm)   \n",
    "    \n",
    "for x in f3_train:\n",
    "    x_norm = (x-minf3_train)/(maxf3_train-minf3_train)\n",
    "    f3_train_norm.append(x_norm)\n",
    "\n",
    "for x in f4_train:\n",
    "    x_norm = (x-minf4_train)/(maxf4_train-minf4_train)\n",
    "    f4_train_norm.append(x_norm) \n",
    "\n",
    "norm_train_dataArray = []\n",
    "for i in range(len(f1_train_norm)):\n",
    "    norm_train_dataArray.append([f1_train_norm[i],f2_train_norm[i],f3_train_norm[i],f4_train_norm[i],labelList_train[i]])\n",
    "\n",
    "## TEST DATA ##\n",
    "# find min and max of each feature\n",
    "minf1_test, maxf1_test = min(f1_test), max(f1_test)\n",
    "minf2_test, maxf2_test = min(f2_test), max(f2_test)\n",
    "minf3_test, maxf3_test = min(f3_test), max(f3_test)\n",
    "minf4_test, maxf4_test = min(f4_test), max(f4_test)\n",
    "\n",
    "#Normalize each test feature\n",
    "f1_test_norm = []\n",
    "f2_test_norm = []\n",
    "f3_test_norm = []\n",
    "f4_test_norm = []\n",
    "\n",
    "for x in f1_test:\n",
    "    x_norm = (x-minf1_test)/(maxf1_test-minf1_test)\n",
    "    f1_test_norm.append(x_norm)\n",
    "\n",
    "for x in f2_test:\n",
    "    x_norm = (x-minf2_test)/(maxf2_test-minf2_test)\n",
    "    f2_test_norm.append(x_norm)   \n",
    "    \n",
    "for x in f3_test:\n",
    "    x_norm = (x-minf3_test)/(maxf3_test-minf3_test)\n",
    "    f3_test_norm.append(x_norm)\n",
    "\n",
    "for x in f4_test:\n",
    "    x_norm = (x-minf4_test)/(maxf4_test-minf4_test)\n",
    "    f4_test_norm.append(x_norm) \n",
    "\n",
    "norm_test_dataArray = []\n",
    "for i in range(len(f1_test_norm)):\n",
    "    norm_test_dataArray.append([f1_test_norm[i],f2_test_norm[i],f3_test_norm[i],f4_test_norm[i],labelList_test[i]])\n"
   ]
  },
  {
   "cell_type": "markdown",
   "metadata": {},
   "source": [
    "Sample row in norm_train_dataArray:\n",
    "\n",
    "| sepal_length | sepal_width | petal_length | petal_width| Label  |         \n",
    "| :- |-------------: | :-:\n",
    "|0.2222| 0.6249  | 0.067 |  0.0416  | Iris-setosa  |"
   ]
  },
  {
   "cell_type": "markdown",
   "metadata": {},
   "source": [
    "<a id='section5'></a>\n",
    "## Euclidean distance"
   ]
  },
  {
   "attachments": {
    "image.png": {
     "image/png": "[encoded data removed]"
    }
   },
   "cell_type": "markdown",
   "metadata": {},
   "source": [
    "In mathematics, the Euclidean distance or Euclidean metric is the \"ordinary\" straight-line distance between two points in Euclidean space.\n",
    "(Reference : https://en.wikipedia.org/wiki/Euclidean_distance)\n",
    "\n",
    "In KNN, we use Euclidean distance to find the distance or similarity measure between two data points. As KNN is about finding k nearest neighbors, we will first find out the euclidean distance between the given test data point and all the training data points. We will then choose the k neighbors with comparatively smaller distances than the rest of the neighbors.\n",
    "\n",
    "Euclidean distance is the square root of the sum of the squared differences between each features of the two data points or the two data instances.\n",
    "In our case, Euclidean distance between any two data points or data instances would be:\n",
    "\n",
    "Screen Shot 2018-03-28 at 12.10.16 AM![image.png](attachment:image.png)\n",
    "Where f1_data1, f2_data1, f3_data1, f4_data1 are the four normalized features of first data instance while f1_data2, f2_data2, f3_data2 and f4_data2 are the four normalized features of second data instance.<br>\n",
    "(Euclidean distance function is the most widely used distance metric in KNN.)"
   ]
  },
  {
   "cell_type": "code",
   "execution_count": 1062,
   "metadata": {},
   "outputs": [],
   "source": [
    "def euclideanDistance(data1, data2):\n",
    "    \"\"\"\n",
    "    Args:\n",
    "        data1 : first data point\n",
    "        data2 : second data point\n",
    "        \n",
    "    Returns:\n",
    "        euclidean distance between data1 and data2\n",
    "    \"\"\"\n",
    "    euclidean_distance = 0\n",
    "    \n",
    "    for i in range(0,len(data1)-1):\n",
    "        euclidean_distance+=math.pow((data1[i]-data2[i]),2)\n",
    "    return math.sqrt(euclidean_distance)\n",
    "        "
   ]
  },
  {
   "cell_type": "code",
   "execution_count": 1063,
   "metadata": {},
   "outputs": [
    {
     "name": "stdout",
     "output_type": "stream",
     "text": [
      "2.0\n"
     ]
    }
   ],
   "source": [
    "# For e.g.- \n",
    "print(euclideanDistance([1,2,3,4,\"a\"], [2,3,4,5,\"b\"]))"
   ]
  },
  {
   "cell_type": "markdown",
   "metadata": {},
   "source": [
    "<a id='section6'></a>\n",
    "## K Nearest Neighbors"
   ]
  },
  {
   "cell_type": "markdown",
   "metadata": {},
   "source": [
    "For each test data point, we will now find euclidean distances of that test data point and all the training data points. We will then select the k nearest neighbors from all the neighbors (training set)."
   ]
  },
  {
   "cell_type": "code",
   "execution_count": 1064,
   "metadata": {},
   "outputs": [],
   "source": [
    "def knn(k, test_instance, train_dataArray):\n",
    "    \"\"\"\n",
    "    Args:\n",
    "        k : the number of nearest neighbors to be returned\n",
    "        test_instance : the data point whose neighbors are calculated\n",
    "        train_dataArray: all the train data set\n",
    "        \n",
    "    Returns:\n",
    "        list of k nearest neighbors where each neighbor is in the form of tuple (distance,label)\n",
    "    \"\"\"\n",
    "    distances = {}\n",
    "    for neighbor in train_dataArray:\n",
    "        distances[euclideanDistance(test_instance, neighbor)]=neighbor[4]\n",
    "        \n",
    "    #sort the dictionary in ascending order of distances\n",
    "    sorted_distances = []\n",
    "    for dist in sorted(distances.keys()):\n",
    "        sorted_distances.append((dist, distances[dist]))\n",
    "    return sorted_distances[0:k]"
   ]
  },
  {
   "cell_type": "markdown",
   "metadata": {},
   "source": [
    "<a id='section7'></a>\n",
    "## How to choose the value of k"
   ]
  },
  {
   "cell_type": "markdown",
   "metadata": {},
   "source": [
    "Now comes the important question. How do you think we can choose the value of k? Can we just measure the error rate by predicting labels on the test data for different values of k and choose the k which gives the lowest error rate? \n",
    "\n",
    "The answer is no. The test data should be left unseen. It would be cheating if we selected k, the hyper parameter of our KNN algorithm, based on error rate of test data.\n",
    "\n",
    "Since we are not allowed to use our test data set for evaluation of our algorithm, we can use a validation set to evaluate our KNN algorithm for different values of k. But where would we get the validation data from? The answer is simple. From our train data set, we can keep aside a certain set of data for evaluation purpose. We will call this our validation data set.\n",
    "\n",
    "(For our tutorial, we will take one fifth (1/5th) of the total training data set and make it validation data set. Then our __minimum__ possible value of __k__ will be __1__ and __maximum__ possible value of __k__ will be __size of new training data set__.)"
   ]
  },
  {
   "cell_type": "code",
   "execution_count": 1067,
   "metadata": {},
   "outputs": [],
   "source": [
    "def splitData(tot_train_data, start_idx, N=\"5\"):\n",
    "    \"\"\"\n",
    "    Args:\n",
    "        tot_train_data : Original train data array\n",
    "        start_idx : start index to get the validation data\n",
    "        N : N-folds\n",
    "        \n",
    "    Returns:\n",
    "        tuple of validation data array and new train data array splitted from Original data array\n",
    "    \"\"\"\n",
    "    #val_idx = np.random.choice(len(tot_train_data), int(len(tot_train_data)/5), replace=False)\n",
    "    val_idx = [start_idx+i for i in range(int(len(tot_train_data)/N))]\n",
    "    validation_data = [tot_train_data[i] for i in val_idx]\n",
    "    train_data = [tot_train_data[i] for i in range(len(tot_train_data)) if i not in val_idx]\n",
    "    return validation_data, train_data        "
   ]
  },
  {
   "cell_type": "code",
   "execution_count": 1068,
   "metadata": {},
   "outputs": [
    {
     "name": "stdout",
     "output_type": "stream",
     "text": [
      "120 96 24\n"
     ]
    }
   ],
   "source": [
    "# length of total train data, new train data, validation data after splitting for N=5\n",
    "v,t = splitData(norm_train_dataArray,0, 5)\n",
    "print(len(norm_train_dataArray), len(t), len(v))"
   ]
  },
  {
   "cell_type": "markdown",
   "metadata": {},
   "source": [
    "### Cross validation"
   ]
  },
  {
   "cell_type": "markdown",
   "metadata": {},
   "source": [
    "We know training and evaluating on the same data is a mistake because it will overfit the data. To avoid this, we held out a part of the training data and called it our validation data. \n",
    "\n",
    "One famous approach of evaluating our model is cross validation. Here, we split our training data into a number of folds. If we have N folds, then we will first train using (N−1) of the folds, and evaluate the accuracy on the left-out single fold. We will then repeat this process N times until each fold has been used as the validation set.\n",
    "\n",
    "For the tutorial purpose, we will assign __N=5__"
   ]
  },
  {
   "cell_type": "code",
   "execution_count": 1069,
   "metadata": {},
   "outputs": [],
   "source": [
    "def evaluation(k, valOrTest_data, train_data):\n",
    "    \"\"\"\n",
    "    Args:\n",
    "        k : the number of nearest neighbors to be returned\n",
    "        validation_data : validation data array\n",
    "        train_data : train data array\n",
    "        \n",
    "    Returns:\n",
    "        error rate evaluated on validation_data\n",
    "    \"\"\"\n",
    "    error = 0\n",
    "    for instance in valOrTest_data:\n",
    "                \n",
    "        #create a default dictionary with all labels as keys and their counts as values(initialized to 0)\n",
    "        label_count = {label:0 for label in set(labelList_train)} \n",
    "        \n",
    "        #find the k nearest neighbors\n",
    "        nNeighbors = knn(k, instance, train_data)\n",
    "        \n",
    "        #find the count of each label from the neighbors\n",
    "        for neighbor in nNeighbors:\n",
    "            label = neighbor[1]\n",
    "            label_count[label]+=1\n",
    "        \n",
    "        #sort the label_count dictionary in descending order of count\n",
    "        label_count = [(i,label_count[i]) for i in sorted(label_count, key=label_count.get, reverse=True)]\n",
    "        \n",
    "        #choose the label with maximum count from the k nearest neighbors\n",
    "        predicted_label = label_count[0][0]\n",
    "        \n",
    "        true_label = instance[4]\n",
    "\n",
    "        #check for error\n",
    "        if predicted_label!=true_label:\n",
    "            error+=1\n",
    "            \n",
    "    return error/len(valOrTest_data)"
   ]
  },
  {
   "cell_type": "code",
   "execution_count": 1070,
   "metadata": {},
   "outputs": [],
   "source": [
    "def cross_validation(tot_train_data, N=5):\n",
    "    \"\"\"\n",
    "    Args:\n",
    "        tot_train_data : the total normalized train data set\n",
    "        N : Number of folds of total training data to be made\n",
    "        \n",
    "    Returns:\n",
    "        train error rate, validation error rate and k values for that train data set with number of folds as N\n",
    "    \"\"\"\n",
    "    \n",
    "    if N<=1:\n",
    "        print(\"N should be higher than 1\")\n",
    "        None,None,None\n",
    "        \n",
    "    # gives [0, 24, 48, 72, 96] for N=5\n",
    "    start_idx = [i*int(len(tot_train_data)/N) for i in range(N)]\n",
    "    errors_train = []\n",
    "    errors_val = []\n",
    "    k_list = []\n",
    "    new_train_size = int((N-1)*len(tot_train_data)/N)\n",
    "    \n",
    "    for k in range(1,new_train_size+1):\n",
    "        k_train_error = []\n",
    "        k_val_error = []\n",
    "        \n",
    "        # store the values of k\n",
    "        k_list.append(k)\n",
    "        \n",
    "        for idx in start_idx:\n",
    "\n",
    "            # split the total train data into train and validation data \n",
    "            validation_data, train_data = splitData(tot_train_data, idx, N)\n",
    "\n",
    "            # find train error for that value of k\n",
    "            k_train_error.append(evaluation(k, train_data, train_data))\n",
    "            \n",
    "            # find validation error for that value of k \n",
    "            k_val_error.append(evaluation(k, validation_data, train_data))\n",
    "            \n",
    "        # find mean of N-folds errors and add it to the final error list of both train and validation\n",
    "        errors_train.append(np.mean(k_train_error))\n",
    "        errors_val.append(np.mean(k_val_error)) \n",
    "        \n",
    "    return errors_train, errors_val, k_list\n"
   ]
  },
  {
   "cell_type": "code",
   "execution_count": 1071,
   "metadata": {},
   "outputs": [],
   "source": [
    "#store the training error rates, validation error rates and k\n",
    "train_error_rates, val_error_rates, k_list = cross_validation(norm_train_dataArray, 5)"
   ]
  },
  {
   "cell_type": "code",
   "execution_count": 1074,
   "metadata": {},
   "outputs": [
    {
     "data": {
      "image/png": "[encoded data removed]",
      "text/plain": [
       "<matplotlib.figure.Figure at 0x1a19161eb8>"
      ]
     },
     "metadata": {},
     "output_type": "display_data"
    }
   ],
   "source": [
    "## Plot the training and validation error rates for different values of k\n",
    "plt.plot(k_list,train_error_rates,'b',label='Train',linestyle='--')\n",
    "plt.plot(k_list,val_error_rates,'r',label='Validation')\n",
    "plt.rcParams['figure.figsize'] = (14,8)\n",
    "plt.xlabel(\"value of k\")\n",
    "plt.ylabel(\"error rate\")\n",
    "plt.title(\"Error rate curve\")\n",
    "legend = plt.legend(loc=\"best\")\n",
    "legend.get_frame().set_alpha(0.5)\n",
    "plt.show()"
   ]
  },
  {
   "cell_type": "code",
   "execution_count": 1075,
   "metadata": {},
   "outputs": [
    {
     "name": "stdout",
     "output_type": "stream",
     "text": [
      "5\n"
     ]
    }
   ],
   "source": [
    "# find the value of k with minimum validation error\n",
    "k = len(val_error_rates)-val_error_rates[::-1].index(min(val_error_rates))\n",
    "print(k)"
   ]
  },
  {
   "cell_type": "markdown",
   "metadata": {},
   "source": [
    "From the above analysis of plots, we will take __k=5__ to predict values in our test data set."
   ]
  },
  {
   "cell_type": "markdown",
   "metadata": {},
   "source": [
    "<a id='section8'></a>\n",
    "## Plot training and test data set"
   ]
  },
  {
   "cell_type": "code",
   "execution_count": 1076,
   "metadata": {},
   "outputs": [],
   "source": [
    "def plotPoints(dataArray,title):\n",
    "    \"\"\"\n",
    "    dataArray : Array of data to be plotted\n",
    "    title : \"train\" or \"test\"\n",
    "    \"\"\"\n",
    "    l1_sepal_x,l1_sepal_y,l1_petal_x,l1_petal_y=[],[],[],[]\n",
    "    l2_sepal_x,l2_sepal_y,l2_petal_x,l2_petal_y=[],[],[],[]\n",
    "    l3_sepal_x,l3_sepal_y,l3_petal_x,l3_petal_y=[],[],[],[]\n",
    "\n",
    "    for data in dataArray:\n",
    "        sepal_length,sepal_width, petal_length, petal_width,label = data[0],data[1],data[2],data[3],data[4].decode('utf-8')\n",
    "        if label=='Iris-virginica':\n",
    "            l1_sepal_x.append(sepal_length)\n",
    "            l1_sepal_y.append(sepal_width)\n",
    "            l1_petal_x.append(petal_length)\n",
    "            l1_petal_y.append(petal_width)\n",
    "        if label=='Iris-setosa':\n",
    "            l2_sepal_x.append(sepal_length)\n",
    "            l2_sepal_y.append(sepal_width)\n",
    "            l2_petal_x.append(petal_length)\n",
    "            l2_petal_y.append(petal_width)\n",
    "        if label=='Iris-versicolor':\n",
    "            l3_sepal_x.append(sepal_length)\n",
    "            l3_sepal_y.append(sepal_width)\n",
    "            l3_petal_x.append(petal_length)\n",
    "            l3_petal_y.append(petal_width)\n",
    "\n",
    "\n",
    "    plt.plot(l1_sepal_x,l1_sepal_y,'ro',label=\"Iris-virginica\")\n",
    "    plt.plot(l2_sepal_x,l2_sepal_y,'bo',label=\"Iris-setosa\")\n",
    "    plt.plot(l3_sepal_x,l3_sepal_y,'go',label=\"Iris-versicolor\")\n",
    "    plt.xlabel(\"sepal_length\")\n",
    "    plt.ylabel(\"sepal_width\")\n",
    "    plt.legend()\n",
    "    plt.title(title)\n",
    "    plt.show()\n",
    "    plt.plot(l1_petal_x,l1_petal_y,'ro',label=\"Iris-virginica\")\n",
    "    plt.plot(l2_petal_x,l2_petal_y,'bo',label=\"Iris-setosa\")\n",
    "    plt.plot(l3_petal_x,l3_petal_y,'go',label=\"Iris-versicolor\")\n",
    "    plt.xlabel(\"petal_length\")\n",
    "    plt.ylabel(\"petal_width\")\n",
    "    plt.legend()\n",
    "    plt.title(title)\n",
    "    plt.show()\n"
   ]
  },
  {
   "cell_type": "code",
   "execution_count": 1077,
   "metadata": {},
   "outputs": [
    {
     "data": {
      "image/png": "[encoded data removed]",
      "text/plain": [
       "<matplotlib.figure.Figure at 0x1a18bb2c18>"
      ]
     },
     "metadata": {},
     "output_type": "display_data"
    },
    {
     "data": {
      "image/png": "[encoded data removed]",
      "text/plain": [
       "<matplotlib.figure.Figure at 0x1a16508908>"
      ]
     },
     "metadata": {},
     "output_type": "display_data"
    }
   ],
   "source": [
    "plotPoints(norm_train_dataArray,\"Train\")"
   ]
  },
  {
   "cell_type": "code",
   "execution_count": 1078,
   "metadata": {},
   "outputs": [
    {
     "data": {
      "image/png": "[encoded data removed]",
      "text/plain": [
       "<matplotlib.figure.Figure at 0x1a18c15208>"
      ]
     },
     "metadata": {},
     "output_type": "display_data"
    },
    {
     "data": {
      "image/png": "[encoded data removed]",
      "text/plain": [
       "<matplotlib.figure.Figure at 0x1a191676a0>"
      ]
     },
     "metadata": {},
     "output_type": "display_data"
    }
   ],
   "source": [
    "plotPoints(norm_test_dataArray,\"Test\")"
   ]
  },
  {
   "cell_type": "markdown",
   "metadata": {},
   "source": [
    "<a id='section9'></a>\n",
    "## Predicting Labels"
   ]
  },
  {
   "cell_type": "markdown",
   "metadata": {},
   "source": [
    "The last part of the tutorial is predicting labels of unseen data i.e., we have to perform predictions of labels on the test data. As we have found a value for which our validation data works well, we will use this value of k __(i.e., 5)__ to predict the labels and find the test error."
   ]
  },
  {
   "cell_type": "code",
   "execution_count": 1079,
   "metadata": {},
   "outputs": [],
   "source": [
    "def predict(test_dataArray, train_dataArray, k=5):\n",
    "    \"\"\"\n",
    "    test_dataArray : test data array to predict data on\n",
    "    train_dataArray : train data array\n",
    "    k : number of neighbors to consider\n",
    "    \"\"\"\n",
    "\n",
    "    for i,instance in enumerate(test_dataArray):\n",
    "                \n",
    "        #create a default dictionary with all labels as keys and their counts as values(initialized to 0)\n",
    "        label_count = {label:0 for label in set(labelList_train)} \n",
    "        \n",
    "        #find the k nearest neighbors\n",
    "        nNeighbors = knn(k, instance, train_dataArray)\n",
    "        \n",
    "        #find the count of each label from the neighbors\n",
    "        for neighbor in nNeighbors:\n",
    "            label = neighbor[1]\n",
    "            label_count[label]+=1\n",
    "        \n",
    "        #sort the label_count dictionary in descending order of count\n",
    "        label_count = [(i,label_count[i]) for i in sorted(label_count, key=label_count.get, reverse=True)]\n",
    "        \n",
    "        #choose the label with maximum count from the k nearest neighbors\n",
    "        predicted_label = label_count[0][0]\n",
    "        \n",
    "        print(predicted_label.decode('utf-8'))   \n",
    "        "
   ]
  },
  {
   "cell_type": "code",
   "execution_count": 1080,
   "metadata": {},
   "outputs": [
    {
     "name": "stdout",
     "output_type": "stream",
     "text": [
      "Iris-setosa\n",
      "Iris-setosa\n",
      "Iris-setosa\n",
      "Iris-setosa\n",
      "Iris-setosa\n",
      "Iris-setosa\n",
      "Iris-setosa\n",
      "Iris-setosa\n",
      "Iris-setosa\n",
      "Iris-setosa\n",
      "Iris-versicolor\n",
      "Iris-versicolor\n",
      "Iris-versicolor\n",
      "Iris-versicolor\n",
      "Iris-versicolor\n",
      "Iris-versicolor\n",
      "Iris-versicolor\n",
      "Iris-versicolor\n",
      "Iris-versicolor\n",
      "Iris-versicolor\n",
      "Iris-virginica\n",
      "Iris-virginica\n",
      "Iris-virginica\n",
      "Iris-virginica\n",
      "Iris-virginica\n",
      "Iris-virginica\n",
      "Iris-virginica\n",
      "Iris-virginica\n",
      "Iris-virginica\n",
      "Iris-virginica\n"
     ]
    }
   ],
   "source": [
    "predict(norm_test_dataArray, norm_train_dataArray)\n",
    "# print(set(labelList_train))"
   ]
  },
  {
   "cell_type": "markdown",
   "metadata": {},
   "source": [
    "<a id='section10'></a>\n",
    "## Tutorial Summary"
   ]
  },
  {
   "cell_type": "markdown",
   "metadata": {},
   "source": [
    "In this tutorial, we learned about the K-Nearest Neighbor and implemented K-Nearest Neighbor algorithm in Python from scratch. We have used the Iris dataset where we have divided our 150 data instances into 120 train data instances and 30 test data instances. For the classification purpose, we first found out the value of k by applying cross validation and then predicted the labels of test data set for that __k__ .\n",
    "\n",
    "References:\n",
    "\n",
    "Dataset:  http://archive.ics.uci.edu/ml/datasets/Iris<br>\n",
    "Matplotlib: https://matplotlib.org/api/_as_gen/matplotlib.pyplot.legend.html<br>\n",
    "Cross-validation: http://genomicsclass.github.io/book/pages/crossvalidation.html "
   ]
  },
  {
   "cell_type": "markdown",
   "metadata": {},
   "source": [
    "<a id='section11'></a>\n",
    "## Further Resources"
   ]
  },
  {
   "cell_type": "markdown",
   "metadata": {},
   "source": [
    "https://en.wikipedia.org/wiki/K-nearest_neighbors_algorithm<br>\n",
    "http://scikit-learn.org/stable/modules/neighbors.html<br>\n",
    "http://dataaspirant.com/2016/12/23/k-nearest-neighbor-classifier-intro/"
   ]
  }
 ],
 "metadata": {
  "kernelspec": {
   "display_name": "Python 3",
   "language": "python",
   "name": "python3"
  },
  "language_info": {
   "codemirror_mode": {
    "name": "ipython",
    "version": 3
   },
   "file_extension": ".py",
   "mimetype": "text/x-python",
   "name": "python",
   "nbconvert_exporter": "python",
   "pygments_lexer": "ipython3",
   "version": "3.6.4"
  }
 },
 "nbformat": 4,
 "nbformat_minor": 2
}
