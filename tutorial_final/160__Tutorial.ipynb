{
 "cells": [
  {
   "cell_type": "markdown",
   "metadata": {},
   "source": [
    "# Tutorial on using Image Feature Extraction using pytorch.\n",
    "\n",
    "### Introduction\n",
    "\n",
    "Convolutional Neural Networks have proven to be the state of the art in object recognition\n",
    "and feature extraction. These neural networks require large amounts of training data to understand relevant features in images. Due to this, it can be very useful to use pre-trained networks that have already been trained on a large number of images to extract relevant features on images. \n",
    "\n",
    "#### Pytorch \n",
    "Pytorch is a python API that has a large collection of deep neural networks that\n",
    "can be used for image analysis. In this tutorial we will focus on using Pytorch for feature extraction on different images and furthur use these features to create some sort of feature matching function to visualize the similarity between two images to find similar images.\n",
    "\n"
   ]
  },
  {
   "cell_type": "markdown",
   "metadata": {},
   "source": [
    "First we will download and import all relevant libraries required to run our feature extraction\n",
    "The Libraries required are - \n",
    "- Pillow -> used to load and read images in python\n",
    "- Pytorch -> used to load pre-trained CNN's\n",
    "- Numpy -> used for different computations.\n"
   ]
  },
  {
   "cell_type": "markdown",
   "metadata": {},
   "source": [
    "Run the following cell to download the Pillow and Pytorch Library if not already installed."
   ]
  },
  {
   "cell_type": "code",
   "execution_count": 63,
   "metadata": {},
   "outputs": [
    {
     "name": "stdout",
     "output_type": "stream",
     "text": [
      "Solving environment: done\n",
      "\n",
      "\n",
      "==> WARNING: A newer version of conda exists. <==\n",
      "  current version: 4.4.7\n",
      "  latest version: 4.5.0\n",
      "\n",
      "Please update conda by running\n",
      "\n",
      "    $ conda update -n base conda\n",
      "\n",
      "\n",
      "\n",
      "# All requested packages already installed.\n",
      "\n",
      "Requirement already satisfied: Pillow==4.0.0 in /anaconda3/lib/python3.6/site-packages\n",
      "Requirement already satisfied: olefile in /anaconda3/lib/python3.6/site-packages (from Pillow==4.0.0)\n",
      "\u001b[33mYou are using pip version 9.0.1, however version 9.0.3 is available.\n",
      "You should consider upgrading via the 'pip install --upgrade pip' command.\u001b[0m\n",
      "Collecting PIL\n",
      "\u001b[31m  Could not find a version that satisfies the requirement PIL (from versions: )\u001b[0m\n",
      "\u001b[31mNo matching distribution found for PIL\u001b[0m\n",
      "\u001b[33mYou are using pip version 9.0.1, however version 9.0.3 is available.\n",
      "You should consider upgrading via the 'pip install --upgrade pip' command.\u001b[0m\n",
      "Requirement already satisfied: image in /anaconda3/lib/python3.6/site-packages\n",
      "Requirement already satisfied: django in /anaconda3/lib/python3.6/site-packages (from image)\n",
      "Requirement already satisfied: pillow in /anaconda3/lib/python3.6/site-packages (from image)\n",
      "Requirement already satisfied: pytz in /anaconda3/lib/python3.6/site-packages (from django->image)\n",
      "Requirement already satisfied: olefile in /anaconda3/lib/python3.6/site-packages (from pillow->image)\n",
      "\u001b[33mYou are using pip version 9.0.1, however version 9.0.3 is available.\n",
      "You should consider upgrading via the 'pip install --upgrade pip' command.\u001b[0m\n"
     ]
    }
   ],
   "source": [
    "import sys\n",
    "!conda install --yes --prefix {sys.prefix} pytorch\n",
    "!pip install Pillow==4.0.0\n",
    "!pip install PIL\n",
    "!pip install image"
   ]
  },
  {
   "cell_type": "markdown",
   "metadata": {},
   "source": [
    "Run the following cell to import all relevant libraries."
   ]
  },
  {
   "cell_type": "code",
   "execution_count": 64,
   "metadata": {
    "collapsed": true
   },
   "outputs": [],
   "source": [
    "import numpy as np\n",
    "import pandas as pd\n",
    "import matplotlib.pyplot as plt\n",
    "import os, os.path\n",
    "from PIL import Image\n",
    "import torch\n",
    "import torch.nn as nn\n",
    "from torchvision import models\n",
    "import torchvision.transforms as transforms\n",
    "from torch.autograd import Variable"
   ]
  },
  {
   "cell_type": "markdown",
   "metadata": {},
   "source": [
    "Now that we have all the various required libraries set up we must first read in our images into our work enviornment. We can store the different image vectors in a Pandas DataFrame for easy access to image data.\n",
    "\n",
    "For this Tutorial we will assume that all images are in the .jpg or .png format.\n",
    "\n",
    "Once we have the path to each individual image, we can read them in using the PILLOW libary and append the image variable to our image dictionary.\n",
    "\n",
    "For visualization purposes I have included some images in the data folder which should be included in the zip file. I will use these images to show the functionality of the feature matching."
   ]
  },
  {
   "cell_type": "code",
   "execution_count": 65,
   "metadata": {
    "collapsed": true
   },
   "outputs": [],
   "source": [
    "def load_images(base_dir):\n",
    "    valid_extensions = [\".jpeg\",\".jpg\",\".png\"]\n",
    "    image_dict = {}\n",
    "    for image in os.listdir(base_dir):\n",
    "        fileparts = os.path.splitext(image)\n",
    "        filename = fileparts[0]\n",
    "        ext = fileparts[1]\n",
    "        if ext.lower() in valid_extensions:\n",
    "            print(image)\n",
    "            curr_image = Image.open(os.path.join(base_dir,image))\n",
    "            print(curr_image)\n",
    "            image_dict[image] = curr_image\n",
    "        \n",
    "    return image_dict"
   ]
  },
  {
   "cell_type": "code",
   "execution_count": 66,
   "metadata": {},
   "outputs": [
    {
     "name": "stdout",
     "output_type": "stream",
     "text": [
      "elephant.jpeg\n",
      "<PIL.JpegImagePlugin.JpegImageFile image mode=RGB size=183x275 at 0x12E759E10>\n",
      "elephant_2.jpg\n",
      "<PIL.JpegImagePlugin.JpegImageFile image mode=RGB size=1000x600 at 0x12E759B00>\n",
      "giraffe.jpeg\n",
      "<PIL.JpegImagePlugin.JpegImageFile image mode=RGB size=300x168 at 0x12D2DC940>\n",
      "giraffe_2.JPG\n",
      "<PIL.JpegImagePlugin.JpegImageFile image mode=RGB size=2048x2048 at 0x12D2DC550>\n",
      "kitten.jpg\n",
      "<PIL.JpegImagePlugin.JpegImageFile image mode=RGB size=474x355 at 0x12E77D668>\n",
      "kitten_2.jpeg\n",
      "<PIL.JpegImagePlugin.JpegImageFile image mode=RGB size=194x259 at 0x12E759FD0>\n",
      "retreiver.jpg\n",
      "<PIL.JpegImagePlugin.JpegImageFile image mode=RGB size=600x600 at 0x12E7595F8>\n",
      "retreiver_2.jpg\n",
      "<PIL.JpegImagePlugin.JpegImageFile image mode=RGB size=800x500 at 0x11AC5CF28>\n",
      "rotweiler.jpg\n",
      "<PIL.JpegImagePlugin.JpegImageFile image mode=RGB size=225x225 at 0x12D880198>\n",
      "rotweiler_2.jpg\n",
      "<PIL.JpegImagePlugin.JpegImageFile image mode=RGB size=900x600 at 0x12D2D3358>\n",
      "{'elephant.jpeg': <PIL.JpegImagePlugin.JpegImageFile image mode=RGB size=183x275 at 0x12E759E10>, 'elephant_2.jpg': <PIL.JpegImagePlugin.JpegImageFile image mode=RGB size=1000x600 at 0x12E759B00>, 'giraffe.jpeg': <PIL.JpegImagePlugin.JpegImageFile image mode=RGB size=300x168 at 0x12D2DC940>, 'giraffe_2.JPG': <PIL.JpegImagePlugin.JpegImageFile image mode=RGB size=2048x2048 at 0x12D2DC550>, 'kitten.jpg': <PIL.JpegImagePlugin.JpegImageFile image mode=RGB size=474x355 at 0x12E77D668>, 'kitten_2.jpeg': <PIL.JpegImagePlugin.JpegImageFile image mode=RGB size=194x259 at 0x12E759FD0>, 'retreiver.jpg': <PIL.JpegImagePlugin.JpegImageFile image mode=RGB size=600x600 at 0x12E7595F8>, 'retreiver_2.jpg': <PIL.JpegImagePlugin.JpegImageFile image mode=RGB size=800x500 at 0x11AC5CF28>, 'rotweiler.jpg': <PIL.JpegImagePlugin.JpegImageFile image mode=RGB size=225x225 at 0x12D880198>, 'rotweiler_2.jpg': <PIL.JpegImagePlugin.JpegImageFile image mode=RGB size=900x600 at 0x12D2D3358>}\n"
     ]
    }
   ],
   "source": [
    "image_dir = 'data/'\n",
    "image_dict = load_images(image_dir)\n",
    "print(image_dict)"
   ]
  },
  {
   "cell_type": "code",
   "execution_count": 67,
   "metadata": {
    "collapsed": true
   },
   "outputs": [],
   "source": [
    "def normalize_image(img):\n",
    "    norm_mean = [0.485, 0.456, 0.406]\n",
    "    norm_std = [0.229, 0.224, 0.225]\n",
    "    scale = transforms.Resize((224,224))\n",
    "    normalize = transforms.Normalize(mean = norm_mean,std = norm_std)\n",
    "    vectorize = transforms.ToTensor()\n",
    "    \n",
    "    scaled_img = scale(img)\n",
    "    vectorized_img = vectorize(scaled_img)\n",
    "    normalized_img = normalize(vectorized_img)\n",
    "    final_img = Variable(normalized_img.unsqueeze(0))\n",
    "    return final_img"
   ]
  },
  {
   "cell_type": "code",
   "execution_count": 68,
   "metadata": {},
   "outputs": [
    {
     "name": "stdout",
     "output_type": "stream",
     "text": [
      "{'elephant.jpeg': Variable containing:\n",
      "( 0 , 0 ,.,.) = \n",
      "  1.1700  1.1529  1.1187  ...   0.9303  0.9303  0.9303\n",
      "  1.2728  1.2385  1.1872  ...   0.9303  0.9303  0.9303\n",
      "  1.4098  1.3755  1.3242  ...   0.9132  0.9132  0.9132\n",
      "           ...             ⋱             ...          \n",
      "  0.9132  0.9817  0.9646  ...   1.1358  1.1358  1.1872\n",
      "  0.8789  0.8961  0.8447  ...   1.1015  1.1015  1.2557\n",
      "  0.8618  0.8961  0.8618  ...   1.0331  1.0502  1.2043\n",
      "\n",
      "( 0 , 1 ,.,.) = \n",
      "  1.5707  1.5532  1.5182  ...   1.4132  1.4132  1.4132\n",
      "  1.6758  1.6583  1.5882  ...   1.4132  1.4132  1.4132\n",
      "  1.8158  1.7808  1.7108  ...   1.3957  1.3957  1.3957\n",
      "           ...             ⋱             ...          \n",
      "  0.4503  0.5203  0.5028  ...   0.5203  0.5028  0.5728\n",
      "  0.4853  0.5028  0.4503  ...   0.4678  0.4678  0.6254\n",
      "  0.4678  0.5028  0.4678  ...   0.3978  0.4153  0.5728\n",
      "\n",
      "( 0 , 2 ,.,.) = \n",
      "  1.9428  1.9254  1.8905  ...   1.8731  1.8731  1.8731\n",
      "  2.0300  2.0125  1.9603  ...   1.8731  1.8731  1.8731\n",
      "  2.1694  2.1346  2.0648  ...   1.8557  1.8557  1.8557\n",
      "           ...             ⋱             ...          \n",
      "  0.1651  0.2348  0.2173  ...   0.1999  0.1825  0.2522\n",
      "  0.2173  0.2173  0.1651  ...   0.1128  0.1128  0.2696\n",
      "  0.1999  0.2173  0.1825  ...   0.0431  0.0605  0.2173\n",
      "[torch.FloatTensor of size 1x3x224x224]\n",
      ", 'elephant_2.jpg': Variable containing:\n",
      "( 0 , 0 ,.,.) = \n",
      "  1.6838  1.6838  1.6838  ...   1.7009  1.6838  1.6838\n",
      "  1.6838  1.6838  1.6838  ...   1.7009  1.6838  1.6838\n",
      "  1.6838  1.6838  1.6838  ...   1.7009  1.6838  1.6838\n",
      "           ...             ⋱             ...          \n",
      "  0.4679  0.5364  0.8447  ...   0.3138  0.5022  0.7248\n",
      "  0.4679  0.8789  0.9474  ...   0.2624  0.3138  0.5707\n",
      "  0.4851  0.8618  0.5878  ...   0.2282  0.5707  0.5707\n",
      "\n",
      "( 0 , 1 ,.,.) = \n",
      "  1.8683  1.8683  1.8683  ...   1.8859  1.8683  1.8683\n",
      "  1.8683  1.8683  1.8683  ...   1.8859  1.8683  1.8683\n",
      "  1.8683  1.8683  1.8683  ...   1.8859  1.8683  1.8683\n",
      "           ...             ⋱             ...          \n",
      "  0.2227  0.3277  0.5378  ...   0.0126  0.1352  0.3277\n",
      "  0.2052  0.6429  0.6429  ...  -0.0574 -0.0224  0.2577\n",
      "  0.2577  0.6604  0.3803  ...  -0.1099  0.1877  0.1877\n",
      "\n",
      "( 0 , 2 ,.,.) = \n",
      "  2.1171  2.1171  2.1171  ...   2.1346  2.1171  2.1171\n",
      "  2.1171  2.1171  2.1171  ...   2.1346  2.1171  2.1171\n",
      "  2.1171  2.1171  2.1171  ...   2.1346  2.1171  2.1171\n",
      "           ...             ⋱             ...          \n",
      " -0.4624 -0.3753 -0.2184  ...  -0.6715 -0.5495 -0.4101\n",
      " -0.4275  0.0082 -0.0441  ...  -0.7064 -0.6715 -0.4275\n",
      " -0.4624 -0.0092 -0.2707  ...  -0.7238 -0.4973 -0.5495\n",
      "[torch.FloatTensor of size 1x3x224x224]\n",
      ", 'giraffe.jpeg': Variable containing:\n",
      "( 0 , 0 ,.,.) = \n",
      " -1.1418 -1.1418 -1.1418  ...  -1.1589 -1.1589 -1.1589\n",
      " -1.1418 -1.1418 -1.1418  ...  -1.1589 -1.1589 -1.1589\n",
      " -1.1418 -1.1418 -1.1418  ...  -1.1589 -1.1589 -1.1589\n",
      "           ...             ⋱             ...          \n",
      "  0.0912  0.3994  0.7591  ...  -0.0629 -0.0629 -0.0629\n",
      "  0.5536  0.7591  0.8447  ...  -0.0629 -0.0629 -0.0629\n",
      "  1.2214  1.1187  0.7077  ...  -0.0629 -0.0629 -0.0629\n",
      "\n",
      "( 0 , 1 ,.,.) = \n",
      "  0.9930  0.9930  0.9930  ...   1.0455  1.0455  1.0455\n",
      "  0.9930  0.9930  0.9930  ...   1.0455  1.0455  1.0455\n",
      "  0.9930  0.9930  0.9930  ...   1.0455  1.0455  1.0455\n",
      "           ...             ⋱             ...          \n",
      " -0.6702 -0.3725 -0.0749  ...   1.4307  1.4307  1.4307\n",
      " -0.2150 -0.0399 -0.0049  ...   1.4307  1.4307  1.4307\n",
      "  0.4678  0.3102 -0.1625  ...   1.4482  1.4482  1.4482\n",
      "\n",
      "( 0 , 2 ,.,.) = \n",
      "  2.0648  2.0648  2.0648  ...   2.1346  2.1346  2.1346\n",
      "  2.0648  2.0648  2.0648  ...   2.1346  2.1346  2.1346\n",
      "  2.0648  2.0648  2.0648  ...   2.1346  2.1346  2.1346\n",
      "           ...             ⋱             ...          \n",
      " -1.4384 -1.1596 -0.8458  ...   2.4483  2.4483  2.4483\n",
      " -1.0201 -0.8458 -0.7936  ...   2.4308  2.4308  2.4308\n",
      " -0.3578 -0.5147 -0.9853  ...   2.4134  2.4134  2.4134\n",
      "[torch.FloatTensor of size 1x3x224x224]\n",
      ", 'giraffe_2.JPG': Variable containing:\n",
      "( 0 , 0 ,.,.) = \n",
      "  2.2489  2.2489  2.2489  ...   2.2489  2.2489  2.2489\n",
      "  2.2489  2.2489  2.2489  ...   2.2489  2.2489  2.2489\n",
      "  2.2489  2.2489  2.2489  ...   2.2489  2.2489  2.2489\n",
      "           ...             ⋱             ...          \n",
      "  0.2453  0.2282  0.2624  ...   2.2489  2.2489  2.2489\n",
      "  0.2453  0.2282  0.2796  ...   2.2489  2.2489  2.2489\n",
      "  0.2111  0.2624  0.2967  ...   2.2489  2.2489  2.2489\n",
      "\n",
      "( 0 , 1 ,.,.) = \n",
      "  2.4111  2.4111  2.4111  ...   2.4111  2.4111  2.4111\n",
      "  2.4111  2.4111  2.4111  ...   2.4111  2.4111  2.4111\n",
      "  2.4111  2.4111  2.4111  ...   2.4111  2.4111  2.4111\n",
      "           ...             ⋱             ...          \n",
      " -0.4076 -0.4076 -0.3725  ...   2.4111  2.4111  2.4111\n",
      " -0.4076 -0.4251 -0.3725  ...   2.4111  2.4111  2.4111\n",
      " -0.4426 -0.3901 -0.3550  ...   2.4111  2.4111  2.4111\n",
      "\n",
      "( 0 , 2 ,.,.) = \n",
      "  2.5529  2.5529  2.5529  ...   2.5529  2.5529  2.5529\n",
      "  2.5529  2.5529  2.5529  ...   2.5529  2.5529  2.5529\n",
      "  2.5529  2.5529  2.5529  ...   2.5529  2.5529  2.5529\n",
      "           ...             ⋱             ...          \n",
      " -0.7761 -0.7936 -0.7587  ...   2.5529  2.5529  2.5529\n",
      " -0.7587 -0.7761 -0.7238  ...   2.5529  2.5529  2.5529\n",
      " -0.7936 -0.7413 -0.7064  ...   2.5529  2.5529  2.5529\n",
      "[torch.FloatTensor of size 1x3x224x224]\n",
      ", 'kitten.jpg': Variable containing:\n",
      "( 0 , 0 ,.,.) = \n",
      "  2.2489  2.2489  2.2489  ...   2.1804  2.1975  2.1804\n",
      "  2.2489  2.2489  2.2489  ...   2.1975  2.1975  2.1975\n",
      "  2.2489  2.2489  2.2489  ...   2.1975  2.1975  2.1975\n",
      "           ...             ⋱             ...          \n",
      "  2.0948  2.0948  2.0948  ...   2.1119  2.1119  2.1119\n",
      "  2.0948  2.0948  2.0948  ...   2.1119  2.1119  2.1119\n",
      "  2.0948  2.0948  2.0948  ...   2.1119  2.1119  2.1119\n",
      "\n",
      "( 0 , 1 ,.,.) = \n",
      "  2.4286  2.4286  2.4286  ...   2.3761  2.3936  2.3761\n",
      "  2.4286  2.4286  2.4286  ...   2.3936  2.3936  2.3936\n",
      "  2.4286  2.4286  2.4286  ...   2.3936  2.3936  2.3936\n",
      "           ...             ⋱             ...          \n",
      "  2.2885  2.2885  2.2885  ...   2.3060  2.3060  2.3060\n",
      "  2.2885  2.2885  2.2885  ...   2.3060  2.3060  2.3060\n",
      "  2.2885  2.2885  2.2885  ...   2.3060  2.3060  2.3060\n",
      "\n",
      "( 0 , 2 ,.,.) = \n",
      "  2.6400  2.6400  2.6400  ...   2.6226  2.6400  2.6226\n",
      "  2.6400  2.6400  2.6400  ...   2.6400  2.6400  2.6400\n",
      "  2.6400  2.6400  2.6400  ...   2.6400  2.6400  2.6400\n",
      "           ...             ⋱             ...          \n",
      "  2.5354  2.5354  2.5354  ...   2.5529  2.5529  2.5529\n",
      "  2.5354  2.5354  2.5354  ...   2.5529  2.5529  2.5529\n",
      "  2.5354  2.5354  2.5354  ...   2.5529  2.5529  2.5703\n",
      "[torch.FloatTensor of size 1x3x224x224]\n",
      ", 'kitten_2.jpeg': Variable containing:\n",
      "( 0 , 0 ,.,.) = \n",
      "  0.9817  0.9817  0.9817  ...   1.6495  1.7352  1.7352\n",
      "  0.9817  0.9817  0.9817  ...   1.7009  1.8208  1.8208\n",
      "  0.9817  0.9817  0.9646  ...   1.7352  1.8722  1.8722\n",
      "           ...             ⋱             ...          \n",
      "  0.5707  0.5707  0.5536  ...   0.5707  0.5536  0.5536\n",
      "  0.5536  0.5536  0.5364  ...   0.5022  0.5536  0.5536\n",
      "  0.5364  0.5364  0.5364  ...   0.5022  0.5536  0.5536\n",
      "\n",
      "( 0 , 1 ,.,.) = \n",
      "  0.9930  0.9930  0.9930  ...   1.6057  1.6232  1.6232\n",
      "  0.9930  0.9930  0.9930  ...   1.6583  1.7108  1.7108\n",
      "  0.9755  0.9755  0.9755  ...   1.6758  1.7633  1.7633\n",
      "           ...             ⋱             ...          \n",
      "  0.5728  0.5728  0.5553  ...   0.4503  0.4328  0.4328\n",
      "  0.5553  0.5553  0.5378  ...   0.3803  0.4328  0.4328\n",
      "  0.5378  0.5378  0.5378  ...   0.3803  0.4328  0.4328\n",
      "\n",
      "( 0 , 2 ,.,.) = \n",
      " -0.0441 -0.0441 -0.0441  ...   1.4897  1.5594  1.5594\n",
      " -0.0441 -0.0441 -0.0441  ...   1.5420  1.6465  1.6465\n",
      " -0.0441 -0.0441 -0.0441  ...   1.5594  1.6988  1.6988\n",
      "           ...             ⋱             ...          \n",
      " -0.0267 -0.0267 -0.0441  ...  -0.0441 -0.0964 -0.0964\n",
      " -0.0441 -0.0441 -0.0615  ...  -0.1312 -0.0964 -0.0964\n",
      " -0.0615 -0.0615 -0.0615  ...  -0.1312 -0.0964 -0.0964\n",
      "[torch.FloatTensor of size 1x3x224x224]\n",
      ", 'retreiver.jpg': Variable containing:\n",
      "( 0 , 0 ,.,.) = \n",
      " -0.8507 -0.8678 -0.8335  ...  -0.5424 -0.4226 -0.3712\n",
      " -0.7137 -0.7308 -0.7137  ...  -0.4568 -0.3027 -0.2342\n",
      " -0.5596 -0.5767 -0.5767  ...  -0.3369 -0.1999 -0.1314\n",
      "           ...             ⋱             ...          \n",
      " -0.4054 -0.3369 -0.0801  ...  -1.5014 -1.2274 -1.4843\n",
      " -0.4568 -0.3541 -0.5082  ...  -1.3644 -0.9877 -1.2274\n",
      " -0.7993 -0.6452 -0.8678  ...  -0.5596 -0.2171 -0.1999\n",
      "\n",
      "( 0 , 1 ,.,.) = \n",
      " -0.6527 -0.6702 -0.6352  ...  -0.4251 -0.3025 -0.2500\n",
      " -0.5126 -0.5301 -0.5126  ...  -0.3200 -0.1800 -0.1099\n",
      " -0.3550 -0.3725 -0.3725  ...  -0.2150 -0.0749 -0.0049\n",
      "           ...             ⋱             ...          \n",
      "  0.3102  0.3627  0.6078  ...  -0.9503 -0.6702 -0.9328\n",
      "  0.2577  0.3452  0.1877  ...  -0.7752 -0.4076 -0.6702\n",
      " -0.1099  0.0476 -0.1800  ...   0.1001  0.4153  0.4153\n",
      "\n",
      "( 0 , 2 ,.,.) = \n",
      " -0.3230 -0.3404 -0.3055  ...  -0.2184 -0.0790 -0.0267\n",
      " -0.1835 -0.2010 -0.1835  ...  -0.1138  0.0431  0.1302\n",
      " -0.0267 -0.0441 -0.0441  ...  -0.0092  0.1476  0.2348\n",
      "           ...             ⋱             ...          \n",
      " -0.5147 -0.4275 -0.1835  ...  -1.4559 -1.2119 -1.4733\n",
      " -0.5495 -0.4275 -0.5844  ...  -1.4036 -1.0550 -1.2990\n",
      " -0.9156 -0.7238 -0.9504  ...  -0.8110 -0.4101 -0.3404\n",
      "[torch.FloatTensor of size 1x3x224x224]\n",
      ", 'retreiver_2.jpg': Variable containing:\n",
      "( 0 , 0 ,.,.) = \n",
      "  0.3309  0.3481  0.3652  ...  -0.7650 -0.8335 -0.8678\n",
      "  0.2796  0.2967  0.2967  ...  -0.7993 -0.8507 -0.8849\n",
      "  0.2282  0.2453  0.2453  ...  -0.8507 -0.8849 -0.9192\n",
      "           ...             ⋱             ...          \n",
      " -0.0629  0.0741  0.1597  ...   0.0398  0.0912  0.2624\n",
      " -0.1143 -0.0287  0.1254  ...   0.0569  0.0398  0.1426\n",
      " -0.1314 -0.0458  0.0912  ...   0.0741  0.0398  0.1083\n",
      "\n",
      "( 0 , 1 ,.,.) = \n",
      "  0.4678  0.4853  0.5028  ...  -0.9503 -0.9678 -0.9853\n",
      "  0.4153  0.4328  0.4328  ...  -0.9678 -0.9853 -1.0028\n",
      "  0.3452  0.3627  0.3803  ...  -1.0028 -1.0203 -1.0203\n",
      "           ...             ⋱             ...          \n",
      "  0.0651  0.2402  0.3627  ...   0.1176  0.1001  0.1527\n",
      " -0.0049  0.1001  0.2927  ...   0.0826  0.0301  0.0826\n",
      " -0.0049  0.0826  0.2402  ...   0.0826  0.0301  0.0826\n",
      "\n",
      "( 0 , 2 ,.,.) = \n",
      "  0.7228  0.7402  0.7576  ...  -1.4733 -1.4907 -1.5256\n",
      "  0.6356  0.6531  0.6705  ...  -1.4907 -1.5256 -1.5430\n",
      "  0.5311  0.5485  0.5485  ...  -1.5256 -1.5430 -1.5779\n",
      "           ...             ⋱             ...          \n",
      " -0.7413 -0.6541 -0.5321  ...  -0.8633 -0.8284 -0.7064\n",
      " -0.8458 -0.7413 -0.6367  ...  -0.7936 -0.8807 -0.8458\n",
      " -0.8633 -0.7587 -0.7064  ...  -0.7587 -0.8807 -0.8807\n",
      "[torch.FloatTensor of size 1x3x224x224]\n",
      ", 'rotweiler.jpg': Variable containing:\n",
      "( 0 , 0 ,.,.) = \n",
      " -0.1657 -0.2856 -0.4739  ...  -0.0801 -0.1999 -0.2513\n",
      " -0.0629 -0.1314 -0.2513  ...   0.0056 -0.0458 -0.0458\n",
      " -0.1486 -0.1657 -0.1828  ...   0.1083  0.1426  0.2624\n",
      "           ...             ⋱             ...          \n",
      "  1.0502  1.3755  0.4337  ...  -0.4911 -0.3027 -0.1314\n",
      "  0.6221  1.1015  0.9817  ...  -0.6281 -0.2684  0.0741\n",
      "  0.2453  0.8104  0.6221  ...  -0.1657 -0.0287 -0.0801\n",
      "\n",
      "( 0 , 1 ,.,.) = \n",
      "  0.1176 -0.0049 -0.1975  ...   0.6429  0.5903  0.4678\n",
      "  0.2227  0.1527  0.0301  ...   0.7129  0.6954  0.6604\n",
      "  0.1877  0.1702  0.1527  ...   0.8004  0.8529  0.9405\n",
      "           ...             ⋱             ...          \n",
      "  1.2731  1.6232  0.7829  ...   0.4853  0.6604  0.8704\n",
      "  0.8004  1.3606  1.3431  ...   0.3452  0.7129  1.0980\n",
      "  0.4853  1.1506  1.0980  ...   0.5553  0.6779  0.8880\n",
      "\n",
      "( 0 , 2 ,.,.) = \n",
      " -0.4101 -0.5670 -0.7587  ...   0.3916  0.4091  0.1128\n",
      " -0.3404 -0.4101 -0.5670  ...   0.4614  0.5311  0.4091\n",
      " -0.4624 -0.4798 -0.4973  ...   0.6008  0.7402  0.9145\n",
      "           ...             ⋱             ...          \n",
      "  0.0082  0.3742 -0.4624  ...  -0.8458 -0.6193 -0.4624\n",
      " -0.4450  0.0779  0.0953  ...  -0.9853 -0.6193 -0.2881\n",
      " -0.5844  0.0431 -0.0615  ...  -0.5147 -0.3404 -0.3578\n",
      "[torch.FloatTensor of size 1x3x224x224]\n",
      ", 'rotweiler_2.jpg': Variable containing:\n",
      "( 0 , 0 ,.,.) = \n",
      "  1.2214  1.1872  1.2043  ...   1.3070  1.2899  1.2557\n",
      "  0.6049  0.5364  0.5536  ...   0.6563  0.6221  0.5878\n",
      "  0.5022  0.4337  0.4337  ...   0.5364  0.4851  0.4508\n",
      "           ...             ⋱             ...          \n",
      "  0.3823  0.2111  0.5022  ...   0.6049  0.4508  0.2282\n",
      "  0.5364  0.6221  0.4166  ...   0.5878  0.6221  0.3652\n",
      "  0.5878  1.0844  0.9817  ...   0.9132  0.9132  0.9132\n",
      "\n",
      "( 0 , 1 ,.,.) = \n",
      "  1.7283  1.7108  1.7283  ...   1.7633  1.7633  1.7808\n",
      "  1.3431  1.2731  1.2906  ...   1.4132  1.3782  1.3782\n",
      "  1.3782  1.2906  1.3081  ...   1.3782  1.3431  1.3431\n",
      "           ...             ⋱             ...          \n",
      "  0.9055  0.6604  0.9055  ...   1.3081  1.2381  1.1856\n",
      "  1.2556  1.2381  0.9580  ...   1.2031  1.2556  1.1856\n",
      "  1.2556  1.7108  1.5182  ...   1.3957  1.3606  1.5182\n",
      "\n",
      "( 0 , 2 ,.,.) = \n",
      "  1.3851  1.3328  1.3154  ...   1.4722  1.4722  1.3677\n",
      "  0.6531  0.5659  0.5659  ...   0.6356  0.6182  0.5136\n",
      "  0.4962  0.3916  0.3742  ...   0.6008  0.5485  0.4614\n",
      "           ...             ⋱             ...          \n",
      "  0.3568  0.1476  0.2348  ...   0.7576  0.8099  0.5311\n",
      "  0.7228  0.8448  0.4439  ...   0.6705  0.9494  0.7054\n",
      "  0.8797  1.5071  1.2980  ...   0.9319  1.2108  1.2805\n",
      "[torch.FloatTensor of size 1x3x224x224]\n",
      "}\n"
     ]
    }
   ],
   "source": [
    "norm_images = {}\n",
    "for key,value in image_dict.items():\n",
    "    norm_images[key] = normalize_image(value)\n",
    "\n",
    "print(norm_images)"
   ]
  },
  {
   "cell_type": "markdown",
   "metadata": {},
   "source": [
    "Now that we have written our normalize image function we can convert all the images stored in our image dataframe to be in the required format"
   ]
  },
  {
   "cell_type": "markdown",
   "metadata": {},
   "source": [
    "Now that we have our normalized images and have loaded our alexnet variables succesfully, we can run the network given the normalized image inputs, but since we want the output from the feature extraction layers we need to copy the output from the corresponding layer into our desired vector variable.\n",
    "\n",
    "To make the data more structured we can store the corresponding output in the normalized_image dataframe by simply appending a new col called output."
   ]
  },
  {
   "cell_type": "markdown",
   "metadata": {},
   "source": [
    "#### Now we can load the neural network from the pytorch libarary. \n",
    "For this example we will load the pre-trained AlexNet Weights.\n",
    "\n",
    "Since we want to extract the features from our images and not classify them, we will have\n",
    "to remove the Softmax layer of the network so we can use the output of the last convolutional\n",
    "layer as the output of our net.\n",
    "\n",
    "The softmax layer uses the features extracted by the feature extraction layer to create a classifier. We do not want this as there is no relevant information about the features themselves in this output.\n",
    "\n",
    "After we follow the following steps, we need to set the neural network into evaluation mode, so that it can evaluate our images."
   ]
  },
  {
   "cell_type": "code",
   "execution_count": 69,
   "metadata": {
    "collapsed": true
   },
   "outputs": [],
   "source": [
    "def load_alexnet():\n",
    "    net = models.alexnet(pretrained=True)\n",
    "    return net"
   ]
  },
  {
   "cell_type": "code",
   "execution_count": 70,
   "metadata": {},
   "outputs": [
    {
     "data": {
      "text/plain": [
       "AlexNet(\n",
       "  (features): Sequential(\n",
       "    (0): Conv2d(3, 64, kernel_size=(11, 11), stride=(4, 4), padding=(2, 2))\n",
       "    (1): ReLU(inplace)\n",
       "    (2): MaxPool2d(kernel_size=(3, 3), stride=(2, 2), dilation=(1, 1), ceil_mode=False)\n",
       "    (3): Conv2d(64, 192, kernel_size=(5, 5), stride=(1, 1), padding=(2, 2))\n",
       "    (4): ReLU(inplace)\n",
       "    (5): MaxPool2d(kernel_size=(3, 3), stride=(2, 2), dilation=(1, 1), ceil_mode=False)\n",
       "    (6): Conv2d(192, 384, kernel_size=(3, 3), stride=(1, 1), padding=(1, 1))\n",
       "    (7): ReLU(inplace)\n",
       "    (8): Conv2d(384, 256, kernel_size=(3, 3), stride=(1, 1), padding=(1, 1))\n",
       "    (9): ReLU(inplace)\n",
       "    (10): Conv2d(256, 256, kernel_size=(3, 3), stride=(1, 1), padding=(1, 1))\n",
       "    (11): ReLU(inplace)\n",
       "    (12): MaxPool2d(kernel_size=(3, 3), stride=(2, 2), dilation=(1, 1), ceil_mode=False)\n",
       "  )\n",
       "  (classifier): Sequential(\n",
       "    (0): Dropout(p=0.5)\n",
       "    (1): Linear(in_features=9216, out_features=4096, bias=True)\n",
       "    (2): ReLU(inplace)\n",
       "    (3): Dropout(p=0.5)\n",
       "    (4): Linear(in_features=4096, out_features=4096, bias=True)\n",
       "    (5): ReLU(inplace)\n",
       "    (6): Linear(in_features=4096, out_features=1000, bias=True)\n",
       "  )\n",
       ")"
      ]
     },
     "execution_count": 70,
     "metadata": {},
     "output_type": "execute_result"
    }
   ],
   "source": [
    "alexnet = load_alexnet()\n",
    "layer = alexnet._modules.get('features')\n",
    "alexnet.eval()"
   ]
  },
  {
   "cell_type": "markdown",
   "metadata": {},
   "source": [
    "Now that all the images are loaded into our image dictionary  we can start to extract features on a given image.\n",
    "\n",
    "All neural networks in pytorch expect our input to be of size 224x224 and normalized given a particular mean and standard deviation. This allows the network to be shift invariant and gets rid of any biases that may be present when evaluating our image.\n",
    "\n",
    "Once we have normalized our image given the mean and standard deviation, we need to vectorize\n",
    "our image such that it can be evaluated by the net. We can do this with the ToTensor method provided in the transforms module in torchvision.\n",
    "\n",
    "Since the neural network requires an additional dimension for the input we can simply append an extra dimension to our images using unsqueeze.\n",
    "\n",
    "Lastly after vectorizing our image, we must cast this vector to a torch.autograd Variable as this is the datatype expected by the network.\n",
    "\n",
    "\n",
    "\n",
    "The following normalize_image function is intended to take care of these data transformations.\n"
   ]
  },
  {
   "cell_type": "code",
   "execution_count": 71,
   "metadata": {
    "collapsed": true
   },
   "outputs": [],
   "source": [
    "def get_image_features(net,img):\n",
    "    output_size = 9216\n",
    "    image_features = torch.zeros(output_size)\n",
    "    \n",
    "    def copy_data(m, i, o):\n",
    "        image_features.copy_(o.data)\n",
    "        \n",
    "    # 5. Attach that function to our selected layer\n",
    "    h = layer.register_forward_hook(copy_data)\n",
    "    # 6. Run the model on our transformed image\n",
    "    alexnet(img)\n",
    "    # 7. Detach our copy function from the layer\n",
    "    h.remove()\n",
    "    # 8. Return the feature vector\n",
    "    return image_features\n",
    "    "
   ]
  },
  {
   "cell_type": "code",
   "execution_count": 72,
   "metadata": {},
   "outputs": [
    {
     "name": "stderr",
     "output_type": "stream",
     "text": [
      "/anaconda3/lib/python3.6/site-packages/ipykernel_launcher.py:6: UserWarning: src is not broadcastable to dst, but they have the same number of elements.  Falling back to deprecated pointwise behavior.\n",
      "  \n"
     ]
    },
    {
     "name": "stdout",
     "output_type": "stream",
     "text": [
      "\n",
      "  0.0000\n",
      "  0.0000\n",
      "  0.0000\n",
      "   ⋮    \n",
      "  0.0000\n",
      "  0.0000\n",
      "  0.0000\n",
      "[torch.FloatTensor of size 9216]\n",
      "\n"
     ]
    }
   ],
   "source": [
    "outputs = {}\n",
    "for key,value in norm_images.items():\n",
    "    features = get_image_features(alexnet,value)\n",
    "    outputs[key] = features\n",
    "print(outputs['giraffe.jpeg'])"
   ]
  },
  {
   "cell_type": "markdown",
   "metadata": {},
   "source": [
    "Now that we have an output feature vector for every image in our dataset, we can start to think about how we are going to check if two feature vectors are similar.\n",
    "\n",
    "A common practice to check similarity is to check the cosine similarity between two vectors.\n",
    "The co-sine similarity measures the angle of the cosine between the two vectors, and since both of our vectors are normalized this result can be obtained by simply taking the dot product of the two vectors, but for the given problem we will assume our images can be de-normalized and so will use the cosine similarity function provided by pytorch.\n",
    "\n",
    "Since the cosine similarity function required an additional dimension for the input we can simply append an extra dimension to our features using unsqueeze.\n",
    "\n",
    "For the following function we will use the cosine similarity measure to check the similarity between two feature vectors."
   ]
  },
  {
   "cell_type": "code",
   "execution_count": 73,
   "metadata": {
    "collapsed": true
   },
   "outputs": [],
   "source": [
    "def match_features(feature_1,feature_2):\n",
    "    cosine = nn.CosineSimilarity(dim = 1, eps = 1e-5)\n",
    "    cosine_similarity = cosine(feature_1.unsqueeze(0),\n",
    "                           feature_2.unsqueeze(0))\n",
    "    return cosine_similarity\n"
   ]
  },
  {
   "cell_type": "markdown",
   "metadata": {},
   "source": [
    "Now that we have features for each image and we have a way to check for similarity between two images we can run our cosine similarity function on our image pairs to get the best match results.\n",
    "There are numerous ways to store the matches, in this tutorial we will go through each of our images and compute the cosine similarity score for every other image and display these scores in a matrix format where each image is matched with every other image except itself, where the similarity value will stay 0 so we don't simply have the highest similarity of each image be itself. This can be stored as nd numpy array.\n"
   ]
  },
  {
   "cell_type": "code",
   "execution_count": 74,
   "metadata": {
    "collapsed": true
   },
   "outputs": [],
   "source": [
    "def get_cosine_scores(features_dict):\n",
    "    cosine_score = {}\n",
    "    for key1,value1 in features_dict.items():\n",
    "        for key2,value2 in features_dict.items():\n",
    "            if(key1 == key2):\n",
    "                continue\n",
    "            else:\n",
    "                feature_1 = value1\n",
    "                feature_2 = value2\n",
    "                if(key1) not in cosine_score:\n",
    "                    cosine_score[key1] = {}\n",
    "                cosine_score[key1][key2] = match_features(feature_1,feature_2)\n",
    "    return cosine_score\n",
    "        "
   ]
  },
  {
   "cell_type": "code",
   "execution_count": 75,
   "metadata": {},
   "outputs": [
    {
     "name": "stdout",
     "output_type": "stream",
     "text": [
      "{'elephant.jpeg': {'elephant_2.jpg': \n",
      " 0.4641\n",
      "[torch.FloatTensor of size 1]\n",
      ", 'giraffe.jpeg': \n",
      " 0.2163\n",
      "[torch.FloatTensor of size 1]\n",
      ", 'giraffe_2.JPG': \n",
      " 0.1649\n",
      "[torch.FloatTensor of size 1]\n",
      ", 'kitten.jpg': \n",
      " 0.2287\n",
      "[torch.FloatTensor of size 1]\n",
      ", 'kitten_2.jpeg': \n",
      " 0.2310\n",
      "[torch.FloatTensor of size 1]\n",
      ", 'retreiver.jpg': \n",
      " 0.2392\n",
      "[torch.FloatTensor of size 1]\n",
      ", 'retreiver_2.jpg': \n",
      " 0.2166\n",
      "[torch.FloatTensor of size 1]\n",
      ", 'rotweiler.jpg': \n",
      " 0.1975\n",
      "[torch.FloatTensor of size 1]\n",
      ", 'rotweiler_2.jpg': \n",
      " 0.2644\n",
      "[torch.FloatTensor of size 1]\n",
      "}, 'elephant_2.jpg': {'elephant.jpeg': \n",
      " 0.4641\n",
      "[torch.FloatTensor of size 1]\n",
      ", 'giraffe.jpeg': \n",
      " 0.1980\n",
      "[torch.FloatTensor of size 1]\n",
      ", 'giraffe_2.JPG': \n",
      " 0.1496\n",
      "[torch.FloatTensor of size 1]\n",
      ", 'kitten.jpg': \n",
      " 0.1819\n",
      "[torch.FloatTensor of size 1]\n",
      ", 'kitten_2.jpeg': \n",
      " 0.1636\n",
      "[torch.FloatTensor of size 1]\n",
      ", 'retreiver.jpg': \n",
      " 0.2523\n",
      "[torch.FloatTensor of size 1]\n",
      ", 'retreiver_2.jpg': \n",
      " 0.2941\n",
      "[torch.FloatTensor of size 1]\n",
      ", 'rotweiler.jpg': \n",
      " 0.2193\n",
      "[torch.FloatTensor of size 1]\n",
      ", 'rotweiler_2.jpg': \n",
      " 0.2343\n",
      "[torch.FloatTensor of size 1]\n",
      "}, 'giraffe.jpeg': {'elephant.jpeg': \n",
      " 0.2163\n",
      "[torch.FloatTensor of size 1]\n",
      ", 'elephant_2.jpg': \n",
      " 0.1980\n",
      "[torch.FloatTensor of size 1]\n",
      ", 'giraffe_2.JPG': \n",
      " 0.6309\n",
      "[torch.FloatTensor of size 1]\n",
      ", 'kitten.jpg': \n",
      " 0.3532\n",
      "[torch.FloatTensor of size 1]\n",
      ", 'kitten_2.jpeg': \n",
      " 0.2757\n",
      "[torch.FloatTensor of size 1]\n",
      ", 'retreiver.jpg': \n",
      " 0.1975\n",
      "[torch.FloatTensor of size 1]\n",
      ", 'retreiver_2.jpg': \n",
      " 0.2226\n",
      "[torch.FloatTensor of size 1]\n",
      ", 'rotweiler.jpg': \n",
      " 0.2215\n",
      "[torch.FloatTensor of size 1]\n",
      ", 'rotweiler_2.jpg': \n",
      " 0.1849\n",
      "[torch.FloatTensor of size 1]\n",
      "}, 'giraffe_2.JPG': {'elephant.jpeg': \n",
      " 0.1649\n",
      "[torch.FloatTensor of size 1]\n",
      ", 'elephant_2.jpg': \n",
      " 0.1496\n",
      "[torch.FloatTensor of size 1]\n",
      ", 'giraffe.jpeg': \n",
      " 0.6309\n",
      "[torch.FloatTensor of size 1]\n",
      ", 'kitten.jpg': \n",
      " 0.3342\n",
      "[torch.FloatTensor of size 1]\n",
      ", 'kitten_2.jpeg': \n",
      " 0.2518\n",
      "[torch.FloatTensor of size 1]\n",
      ", 'retreiver.jpg': \n",
      " 0.1002\n",
      "[torch.FloatTensor of size 1]\n",
      ", 'retreiver_2.jpg': \n",
      "1.00000e-02 *\n",
      "  9.8049\n",
      "[torch.FloatTensor of size 1]\n",
      ", 'rotweiler.jpg': \n",
      " 0.1567\n",
      "[torch.FloatTensor of size 1]\n",
      ", 'rotweiler_2.jpg': \n",
      " 0.1249\n",
      "[torch.FloatTensor of size 1]\n",
      "}, 'kitten.jpg': {'elephant.jpeg': \n",
      " 0.2287\n",
      "[torch.FloatTensor of size 1]\n",
      ", 'elephant_2.jpg': \n",
      " 0.1819\n",
      "[torch.FloatTensor of size 1]\n",
      ", 'giraffe.jpeg': \n",
      " 0.3532\n",
      "[torch.FloatTensor of size 1]\n",
      ", 'giraffe_2.JPG': \n",
      " 0.3342\n",
      "[torch.FloatTensor of size 1]\n",
      ", 'kitten_2.jpeg': \n",
      " 0.6191\n",
      "[torch.FloatTensor of size 1]\n",
      ", 'retreiver.jpg': \n",
      " 0.3122\n",
      "[torch.FloatTensor of size 1]\n",
      ", 'retreiver_2.jpg': \n",
      " 0.2489\n",
      "[torch.FloatTensor of size 1]\n",
      ", 'rotweiler.jpg': \n",
      " 0.3026\n",
      "[torch.FloatTensor of size 1]\n",
      ", 'rotweiler_2.jpg': \n",
      " 0.2899\n",
      "[torch.FloatTensor of size 1]\n",
      "}, 'kitten_2.jpeg': {'elephant.jpeg': \n",
      " 0.2310\n",
      "[torch.FloatTensor of size 1]\n",
      ", 'elephant_2.jpg': \n",
      " 0.1636\n",
      "[torch.FloatTensor of size 1]\n",
      ", 'giraffe.jpeg': \n",
      " 0.2757\n",
      "[torch.FloatTensor of size 1]\n",
      ", 'giraffe_2.JPG': \n",
      " 0.2518\n",
      "[torch.FloatTensor of size 1]\n",
      ", 'kitten.jpg': \n",
      " 0.6191\n",
      "[torch.FloatTensor of size 1]\n",
      ", 'retreiver.jpg': \n",
      " 0.2515\n",
      "[torch.FloatTensor of size 1]\n",
      ", 'retreiver_2.jpg': \n",
      " 0.1730\n",
      "[torch.FloatTensor of size 1]\n",
      ", 'rotweiler.jpg': \n",
      " 0.2990\n",
      "[torch.FloatTensor of size 1]\n",
      ", 'rotweiler_2.jpg': \n",
      " 0.3223\n",
      "[torch.FloatTensor of size 1]\n",
      "}, 'retreiver.jpg': {'elephant.jpeg': \n",
      " 0.2392\n",
      "[torch.FloatTensor of size 1]\n",
      ", 'elephant_2.jpg': \n",
      " 0.2523\n",
      "[torch.FloatTensor of size 1]\n",
      ", 'giraffe.jpeg': \n",
      " 0.1975\n",
      "[torch.FloatTensor of size 1]\n",
      ", 'giraffe_2.JPG': \n",
      " 0.1002\n",
      "[torch.FloatTensor of size 1]\n",
      ", 'kitten.jpg': \n",
      " 0.3122\n",
      "[torch.FloatTensor of size 1]\n",
      ", 'kitten_2.jpeg': \n",
      " 0.2515\n",
      "[torch.FloatTensor of size 1]\n",
      ", 'retreiver_2.jpg': \n",
      " 0.5742\n",
      "[torch.FloatTensor of size 1]\n",
      ", 'rotweiler.jpg': \n",
      " 0.2862\n",
      "[torch.FloatTensor of size 1]\n",
      ", 'rotweiler_2.jpg': \n",
      " 0.2568\n",
      "[torch.FloatTensor of size 1]\n",
      "}, 'retreiver_2.jpg': {'elephant.jpeg': \n",
      " 0.2166\n",
      "[torch.FloatTensor of size 1]\n",
      ", 'elephant_2.jpg': \n",
      " 0.2941\n",
      "[torch.FloatTensor of size 1]\n",
      ", 'giraffe.jpeg': \n",
      " 0.2226\n",
      "[torch.FloatTensor of size 1]\n",
      ", 'giraffe_2.JPG': \n",
      "1.00000e-02 *\n",
      "  9.8049\n",
      "[torch.FloatTensor of size 1]\n",
      ", 'kitten.jpg': \n",
      " 0.2489\n",
      "[torch.FloatTensor of size 1]\n",
      ", 'kitten_2.jpeg': \n",
      " 0.1730\n",
      "[torch.FloatTensor of size 1]\n",
      ", 'retreiver.jpg': \n",
      " 0.5742\n",
      "[torch.FloatTensor of size 1]\n",
      ", 'rotweiler.jpg': \n",
      " 0.3129\n",
      "[torch.FloatTensor of size 1]\n",
      ", 'rotweiler_2.jpg': \n",
      " 0.2424\n",
      "[torch.FloatTensor of size 1]\n",
      "}, 'rotweiler.jpg': {'elephant.jpeg': \n",
      " 0.1975\n",
      "[torch.FloatTensor of size 1]\n",
      ", 'elephant_2.jpg': \n",
      " 0.2193\n",
      "[torch.FloatTensor of size 1]\n",
      ", 'giraffe.jpeg': \n",
      " 0.2215\n",
      "[torch.FloatTensor of size 1]\n",
      ", 'giraffe_2.JPG': \n",
      " 0.1567\n",
      "[torch.FloatTensor of size 1]\n",
      ", 'kitten.jpg': \n",
      " 0.3026\n",
      "[torch.FloatTensor of size 1]\n",
      ", 'kitten_2.jpeg': \n",
      " 0.2990\n",
      "[torch.FloatTensor of size 1]\n",
      ", 'retreiver.jpg': \n",
      " 0.2862\n",
      "[torch.FloatTensor of size 1]\n",
      ", 'retreiver_2.jpg': \n",
      " 0.3129\n",
      "[torch.FloatTensor of size 1]\n",
      ", 'rotweiler_2.jpg': \n",
      " 0.5897\n",
      "[torch.FloatTensor of size 1]\n",
      "}, 'rotweiler_2.jpg': {'elephant.jpeg': \n",
      " 0.2644\n",
      "[torch.FloatTensor of size 1]\n",
      ", 'elephant_2.jpg': \n",
      " 0.2343\n",
      "[torch.FloatTensor of size 1]\n",
      ", 'giraffe.jpeg': \n",
      " 0.1849\n",
      "[torch.FloatTensor of size 1]\n",
      ", 'giraffe_2.JPG': \n",
      " 0.1249\n",
      "[torch.FloatTensor of size 1]\n",
      ", 'kitten.jpg': \n",
      " 0.2899\n",
      "[torch.FloatTensor of size 1]\n",
      ", 'kitten_2.jpeg': \n",
      " 0.3223\n",
      "[torch.FloatTensor of size 1]\n",
      ", 'retreiver.jpg': \n",
      " 0.2568\n",
      "[torch.FloatTensor of size 1]\n",
      ", 'retreiver_2.jpg': \n",
      " 0.2424\n",
      "[torch.FloatTensor of size 1]\n",
      ", 'rotweiler.jpg': \n",
      " 0.5897\n",
      "[torch.FloatTensor of size 1]\n",
      "}}\n"
     ]
    }
   ],
   "source": [
    "cosine_score = get_cosine_scores(outputs)\n",
    "print(cosine_score)"
   ]
  },
  {
   "cell_type": "markdown",
   "metadata": {},
   "source": [
    "Now that we have all of our similarity scores we can plot the cosine similarity score given a key and value of an item in a dictionary"
   ]
  },
  {
   "cell_type": "code",
   "execution_count": 76,
   "metadata": {
    "collapsed": true
   },
   "outputs": [],
   "source": [
    "def plot_similarity_scores(key):\n",
    "    width = 3\n",
    "    similarity_scores = cosine_score[key]\n",
    "    lefts = [x * width for x in range(len(similarity_scores))]\n",
    "    plt.bar(lefts,list(similarity_scores.values()),\n",
    "                   tick_label=list(similarity_scores.keys()))\n",
    "    plt.xticks(rotation=90)\n",
    "    plt.show()"
   ]
  },
  {
   "cell_type": "code",
   "execution_count": 77,
   "metadata": {},
   "outputs": [
    {
     "data": {
      "image/png": "[encoded data removed]",
      "text/plain": [
       "<matplotlib.figure.Figure at 0x12d6d3f28>"
      ]
     },
     "metadata": {},
     "output_type": "display_data"
    }
   ],
   "source": [
    "plot_similarity_scores('giraffe.jpeg')"
   ]
  },
  {
   "cell_type": "code",
   "execution_count": 78,
   "metadata": {},
   "outputs": [
    {
     "data": {
      "image/png": "[encoded data removed]",
      "text/plain": [
       "<matplotlib.figure.Figure at 0x12d75bb70>"
      ]
     },
     "metadata": {},
     "output_type": "display_data"
    }
   ],
   "source": [
    "plot_similarity_scores('retreiver.jpg')"
   ]
  },
  {
   "cell_type": "code",
   "execution_count": 79,
   "metadata": {},
   "outputs": [
    {
     "data": {
      "image/png": "[encoded data removed]",
      "text/plain": [
       "<matplotlib.figure.Figure at 0x1386df9b0>"
      ]
     },
     "metadata": {},
     "output_type": "display_data"
    }
   ],
   "source": [
    "plot_similarity_scores('rotweiler.jpg')"
   ]
  },
  {
   "cell_type": "code",
   "execution_count": 80,
   "metadata": {},
   "outputs": [
    {
     "data": {
      "image/png": "[encoded data removed]",
      "text/plain": [
       "<matplotlib.figure.Figure at 0x12eacf978>"
      ]
     },
     "metadata": {},
     "output_type": "display_data"
    }
   ],
   "source": [
    "plot_similarity_scores('kitten.jpg')"
   ]
  },
  {
   "cell_type": "markdown",
   "metadata": {},
   "source": [
    "As we can see from the examples, the feature matching does a pretty good job of matching images that are more similar to itself than others. This can be very useful when solving different data science problems such as object image collection and storage as we can store images that are more similar together.\n",
    "To finish up our matching lets use these scores to get the best matching picture and plot the two pictures side by side."
   ]
  },
  {
   "cell_type": "code",
   "execution_count": 81,
   "metadata": {
    "collapsed": true
   },
   "outputs": [],
   "source": [
    "def get_best_match(key):\n",
    "    similarity_scores = cosine_score[key]\n",
    "    best_score = 0\n",
    "    best_img = None\n",
    "    for key,value in similarity_scores.items():\n",
    "        if (float(value) > float(best_score)):\n",
    "            best_img = key\n",
    "            best_score = value\n",
    "    return best_img,best_score\n",
    "\n",
    "                \n"
   ]
  },
  {
   "cell_type": "code",
   "execution_count": 82,
   "metadata": {},
   "outputs": [
    {
     "name": "stdout",
     "output_type": "stream",
     "text": [
      "{'elephant.jpeg': 'elephant_2.jpg', 'giraffe.jpeg': 'giraffe_2.JPG', 'kitten.jpg': 'kitten_2.jpeg', 'retreiver.jpg': 'retreiver_2.jpg', 'rotweiler.jpg': 'rotweiler_2.jpg'}\n",
      "{'elephant.jpeg': \n",
      " 0.4641\n",
      "[torch.FloatTensor of size 1]\n",
      ", 'giraffe.jpeg': \n",
      " 0.6309\n",
      "[torch.FloatTensor of size 1]\n",
      ", 'kitten.jpg': \n",
      " 0.6191\n",
      "[torch.FloatTensor of size 1]\n",
      ", 'retreiver.jpg': \n",
      " 0.5742\n",
      "[torch.FloatTensor of size 1]\n",
      ", 'rotweiler.jpg': \n",
      " 0.5897\n",
      "[torch.FloatTensor of size 1]\n",
      "}\n"
     ]
    }
   ],
   "source": [
    "best_match_img_dict = {}\n",
    "best_match_score_dict = {}\n",
    "seen_keys = []\n",
    "for key,value in cosine_score.items():\n",
    "    if(key not in seen_keys):\n",
    "        best_img,best_score = get_best_match(key)\n",
    "        best_match_img_dict[key] = best_img\n",
    "        best_match_score_dict[key] = best_score\n",
    "        seen_keys.append(best_img)\n",
    "print(best_match_img_dict)\n",
    "print(best_match_score_dict)"
   ]
  },
  {
   "cell_type": "code",
   "execution_count": 83,
   "metadata": {},
   "outputs": [
    {
     "data": {
      "image/png": "[encoded data removed]",
      "text/plain": [
       "<matplotlib.figure.Figure at 0x12d789ef0>"
      ]
     },
     "metadata": {},
     "output_type": "display_data"
    }
   ],
   "source": [
    "base_dir = 'data/'\n",
    "def display_similar_images():\n",
    "    figure, axis = plt.subplots(len(best_match_img_dict),3)\n",
    "    i = 0\n",
    "    for key,value in best_match_img_dict.items():\n",
    "        img1 = Image.open(os.path.join(base_dir,key))\n",
    "        img2 = Image.open(os.path.join(base_dir,value))\n",
    "        axis[i,0].imshow(img1)\n",
    "        axis[i,0].axis('off')\n",
    "        axis[i,1].imshow(img2)\n",
    "        axis[i,1].axis('off')\n",
    "        score = best_match_score_dict[key]\n",
    "        axis[i,2].text(0,0,r'Cosine Similarity Score : ' + str(np.round(float(score),3)), fontsize=8)\n",
    "        axis[i,2].axis('off')\n",
    "        i+=1\n",
    "    figure.tight_layout()\n",
    "    plt.show()\n",
    "        \n",
    "    \n",
    "display_similar_images() "
   ]
  },
  {
   "cell_type": "markdown",
   "metadata": {},
   "source": [
    "### Summary and Refreneces\n",
    "\n",
    "#### This tutorial touches upon the basics of how to extract features on images using convolutional neural networks. There are many other neural nets trained on diferent datasets and have different architectures.\n",
    "##### Also other libries such as tensorflow, caffe etc. can be used to implement the CNN's as some networks may only be available on certain libraries.\n",
    "\n",
    "#### Some other ways to do feature matching can be through computer vision filter banks and examples of their usage can be seen on the OpenCV library.\n",
    "\n",
    "###### Information about relevant libraries can be found at - \n",
    "\n",
    "Pytorch - http://pytorch.org/\n",
    "\n",
    "Pillow - https://pillow.readthedocs.io/en/latest/\n",
    "\n",
    "Tensorflow - https://www.tensorflow.org/\n",
    "\n",
    "Caffe - http://caffe.berkeleyvision.org/\n",
    "\n",
    "OpenCV for python- http://opencv-python-tutroals.readthedocs.io/en/latest/py_tutorials/py_tutorials.html\n",
    "\n"
   ]
  },
  {
   "cell_type": "code",
   "execution_count": null,
   "metadata": {
    "collapsed": true
   },
   "outputs": [],
   "source": []
  },
  {
   "cell_type": "code",
   "execution_count": null,
   "metadata": {
    "collapsed": true
   },
   "outputs": [],
   "source": []
  },
  {
   "cell_type": "code",
   "execution_count": null,
   "metadata": {
    "collapsed": true
   },
   "outputs": [],
   "source": []
  },
  {
   "cell_type": "code",
   "execution_count": null,
   "metadata": {
    "collapsed": true
   },
   "outputs": [],
   "source": []
  },
  {
   "cell_type": "code",
   "execution_count": null,
   "metadata": {
    "collapsed": true
   },
   "outputs": [],
   "source": []
  },
  {
   "cell_type": "code",
   "execution_count": null,
   "metadata": {
    "collapsed": true
   },
   "outputs": [],
   "source": []
  },
  {
   "cell_type": "code",
   "execution_count": null,
   "metadata": {
    "collapsed": true
   },
   "outputs": [],
   "source": []
  }
 ],
 "metadata": {
  "kernelspec": {
   "display_name": "Python 3",
   "language": "python",
   "name": "python3"
  },
  "language_info": {
   "codemirror_mode": {
    "name": "ipython",
    "version": 3
   },
   "file_extension": ".py",
   "mimetype": "text/x-python",
   "name": "python",
   "nbconvert_exporter": "python",
   "pygments_lexer": "ipython3",
   "version": "3.6.3"
  }
 },
 "nbformat": 4,
 "nbformat_minor": 2
}
