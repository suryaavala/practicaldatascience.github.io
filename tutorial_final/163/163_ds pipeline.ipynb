{
 "cells": [
  {
   "cell_type": "markdown",
   "metadata": {},
   "source": [
    "# Introduction\n",
    "\n",
    "\n",
    "\n",
    "### Wohoo! Under 70 days until the World Cup starts in Russia! \n",
    "\n",
    "###### This tutorial includes data collection, initial visualization, data processing, feature engineering, modeling, training, predicting and visualization of a dataset.\n",
    "\n",
    "The dataset is a collection of all the international soccer matches that have taken place (till Jan 2018). \n",
    "\n",
    "Using all this data, along with other datasets and FIFA's official World Cup ranking points metric, we will be constructing our own features based on every team's performance over the years.\n",
    "We will be using **Multiple Linear Regression** to analyze and predict the performance of teams this June and July! "
   ]
  },
  {
   "cell_type": "markdown",
   "metadata": {},
   "source": [
    "If you are interested in how FIFA rankings work and the basis behind everything, these two links will be helpful!\n",
    "* https://en.wikipedia.org/wiki/FIFA_World_Rankings\n",
    "* http://www.fifa.com/fifa-tournaments/statistics-and-records/worldcup/teams/index.html\n"
   ]
  },
  {
   "cell_type": "markdown",
   "metadata": {},
   "source": [
    "Let's get started by importing our libraries!"
   ]
  },
  {
   "cell_type": "code",
   "execution_count": 51,
   "metadata": {
    "collapsed": true
   },
   "outputs": [],
   "source": [
    "import pandas as pda\n",
    "import matplotlib.pyplot as plt\n",
    "from sklearn import datasets, linear_model\n",
    "from sklearn.metrics import mean_squared_error, r2_score"
   ]
  },
  {
   "cell_type": "markdown",
   "metadata": {},
   "source": [
    "Link to all the CSV files I use in this tutorial: https://github.com/nikhilrangarajan/Practical-Data-Science-Tutorial"
   ]
  },
  {
   "cell_type": "markdown",
   "metadata": {},
   "source": [
    "#### Read the CSV File containing the results of all the international soccer matches that have ever taken place (upto January 2018).\n",
    "###### Let's figure out the format of the dataset, how it is ordered, and the basic structure of the rows and columns of it."
   ]
  },
  {
   "cell_type": "code",
   "execution_count": 52,
   "metadata": {},
   "outputs": [
    {
     "name": "stdout",
     "output_type": "stream",
     "text": [
      "(38759, 8)\n"
     ]
    },
    {
     "data": {
      "text/html": [
       "<div>\n",
       "<style>\n",
       "    .dataframe thead tr:only-child th {\n",
       "        text-align: right;\n",
       "    }\n",
       "\n",
       "    .dataframe thead th {\n",
       "        text-align: left;\n",
       "    }\n",
       "\n",
       "    .dataframe tbody tr th {\n",
       "        vertical-align: top;\n",
       "    }\n",
       "</style>\n",
       "<table border=\"1\" class=\"dataframe\">\n",
       "  <thead>\n",
       "    <tr style=\"text-align: right;\">\n",
       "      <th></th>\n",
       "      <th>date</th>\n",
       "      <th>home_team</th>\n",
       "      <th>away_team</th>\n",
       "      <th>home_score</th>\n",
       "      <th>away_score</th>\n",
       "      <th>tournament</th>\n",
       "      <th>city</th>\n",
       "      <th>country</th>\n",
       "    </tr>\n",
       "  </thead>\n",
       "  <tbody>\n",
       "    <tr>\n",
       "      <th>0</th>\n",
       "      <td>1872-11-30</td>\n",
       "      <td>Scotland</td>\n",
       "      <td>England</td>\n",
       "      <td>0</td>\n",
       "      <td>0</td>\n",
       "      <td>Friendly</td>\n",
       "      <td>Glasgow</td>\n",
       "      <td>Scotland</td>\n",
       "    </tr>\n",
       "    <tr>\n",
       "      <th>1</th>\n",
       "      <td>1873-03-08</td>\n",
       "      <td>England</td>\n",
       "      <td>Scotland</td>\n",
       "      <td>4</td>\n",
       "      <td>2</td>\n",
       "      <td>Friendly</td>\n",
       "      <td>London</td>\n",
       "      <td>England</td>\n",
       "    </tr>\n",
       "    <tr>\n",
       "      <th>2</th>\n",
       "      <td>1874-03-07</td>\n",
       "      <td>Scotland</td>\n",
       "      <td>England</td>\n",
       "      <td>2</td>\n",
       "      <td>1</td>\n",
       "      <td>Friendly</td>\n",
       "      <td>Glasgow</td>\n",
       "      <td>Scotland</td>\n",
       "    </tr>\n",
       "    <tr>\n",
       "      <th>3</th>\n",
       "      <td>1875-03-06</td>\n",
       "      <td>England</td>\n",
       "      <td>Scotland</td>\n",
       "      <td>2</td>\n",
       "      <td>2</td>\n",
       "      <td>Friendly</td>\n",
       "      <td>London</td>\n",
       "      <td>England</td>\n",
       "    </tr>\n",
       "    <tr>\n",
       "      <th>4</th>\n",
       "      <td>1876-03-04</td>\n",
       "      <td>Scotland</td>\n",
       "      <td>England</td>\n",
       "      <td>3</td>\n",
       "      <td>0</td>\n",
       "      <td>Friendly</td>\n",
       "      <td>Glasgow</td>\n",
       "      <td>Scotland</td>\n",
       "    </tr>\n",
       "  </tbody>\n",
       "</table>\n",
       "</div>"
      ],
      "text/plain": [
       "         date home_team away_team  home_score  away_score tournament     city  \\\n",
       "0  1872-11-30  Scotland   England           0           0   Friendly  Glasgow   \n",
       "1  1873-03-08   England  Scotland           4           2   Friendly   London   \n",
       "2  1874-03-07  Scotland   England           2           1   Friendly  Glasgow   \n",
       "3  1875-03-06   England  Scotland           2           2   Friendly   London   \n",
       "4  1876-03-04  Scotland   England           3           0   Friendly  Glasgow   \n",
       "\n",
       "    country  \n",
       "0  Scotland  \n",
       "1   England  \n",
       "2  Scotland  \n",
       "3   England  \n",
       "4  Scotland  "
      ]
     },
     "execution_count": 52,
     "metadata": {},
     "output_type": "execute_result"
    }
   ],
   "source": [
    "df = pd.read_csv(\"results.csv\")\n",
    "print (df.shape)\n",
    "df.head()"
   ]
  },
  {
   "cell_type": "markdown",
   "metadata": {},
   "source": [
    "There are a total of 38759 international soccer matches that have been officially recorded up till today."
   ]
  },
  {
   "cell_type": "markdown",
   "metadata": {},
   "source": [
    "## Initial Visualization"
   ]
  },
  {
   "cell_type": "markdown",
   "metadata": {},
   "source": [
    "#### We notice that the date, the teams, the score, type of tournament and venue of the match is present in the dataset. \n",
    "\n",
    "Let's try to visualize the number of goals scored on average per game over the years, just to get a basic idea of this dataset and how trends in soccer have changed over the years - how tactics have changed, the improvement of defending, the offside rule, etc.."
   ]
  },
  {
   "cell_type": "code",
   "execution_count": 53,
   "metadata": {
    "scrolled": true
   },
   "outputs": [
    {
     "data": {
      "image/png": "[encoded data removed]",
      "text/plain": [
       "<matplotlib.figure.Figure at 0x1a16a257f0>"
      ]
     },
     "metadata": {},
     "output_type": "display_data"
    }
   ],
   "source": [
    "dates = pd.to_datetime(df[\"date\"])\n",
    "dates = pd.DatetimeIndex(dates).year\n",
    "df[\"year\"] = dates\n",
    "a = df.groupby(\"year\").mean()\n",
    "goals_scored_by_year = a[\"home_score\"] + a[\"away_score\"]\n",
    "plt.plot(goals_scored_by_year)\n",
    "plt.xlabel(\"Year\")\n",
    "plt.ylabel(\"Average Goals scored per game\")\n",
    "plt.title(\"Year vs Goals\")\n",
    "plt.show()"
   ]
  },
  {
   "cell_type": "markdown",
   "metadata": {},
   "source": [
    "Clearly, we can see that the average number of goals scored over the years has reduced. This is due to better tactics, better defence, addition of the offside rule, etc.\n",
    "\n",
    "\n",
    "\n",
    "Let's see how many games have been played over the years."
   ]
  },
  {
   "cell_type": "code",
   "execution_count": 54,
   "metadata": {},
   "outputs": [
    {
     "data": {
      "image/png": "[encoded data removed]",
      "text/plain": [
       "<matplotlib.figure.Figure at 0x1a178d4630>"
      ]
     },
     "metadata": {},
     "output_type": "display_data"
    }
   ],
   "source": [
    "obj = df.groupby(\"year\").count()\n",
    "plt.plot(obj[\"date\"])\n",
    "plt.xlabel(\"Year\")\n",
    "plt.ylabel(\"Games played per year\")\n",
    "plt.title(\"Year vs Games Played\")\n",
    "plt.show()"
   ]
  },
  {
   "cell_type": "markdown",
   "metadata": {},
   "source": [
    "Woah! Almost a 1000 games a year in recent times. This plot looks to be the exact mirror image of the one above!"
   ]
  },
  {
   "cell_type": "markdown",
   "metadata": {},
   "source": [
    "#### Since we are trying to predict the outcome of the World Cup, we should try to eliminate all \"friendly\" matches and only evaluate team's performace on competitive matches. "
   ]
  },
  {
   "cell_type": "code",
   "execution_count": 55,
   "metadata": {},
   "outputs": [
    {
     "name": "stdout",
     "output_type": "stream",
     "text": [
      "(22509, 9)\n"
     ]
    }
   ],
   "source": [
    "newdf = df[df.tournament != \"Friendly\"]\n",
    "print (newdf.shape)"
   ]
  },
  {
   "cell_type": "markdown",
   "metadata": {},
   "source": [
    "Without friendlies, there have been a total of 22509 competitive games that have been played. That's still quite a lot!"
   ]
  },
  {
   "cell_type": "markdown",
   "metadata": {},
   "source": [
    "#### Let's try to get some basic information and summary on our new dataframe."
   ]
  },
  {
   "cell_type": "code",
   "execution_count": 56,
   "metadata": {},
   "outputs": [
    {
     "data": {
      "text/html": [
       "<div>\n",
       "<style>\n",
       "    .dataframe thead tr:only-child th {\n",
       "        text-align: right;\n",
       "    }\n",
       "\n",
       "    .dataframe thead th {\n",
       "        text-align: left;\n",
       "    }\n",
       "\n",
       "    .dataframe tbody tr th {\n",
       "        vertical-align: top;\n",
       "    }\n",
       "</style>\n",
       "<table border=\"1\" class=\"dataframe\">\n",
       "  <thead>\n",
       "    <tr style=\"text-align: right;\">\n",
       "      <th></th>\n",
       "      <th>home_score</th>\n",
       "      <th>away_score</th>\n",
       "      <th>year</th>\n",
       "    </tr>\n",
       "  </thead>\n",
       "  <tbody>\n",
       "    <tr>\n",
       "      <th>count</th>\n",
       "      <td>22509.000000</td>\n",
       "      <td>22509.000000</td>\n",
       "      <td>22509.000000</td>\n",
       "    </tr>\n",
       "    <tr>\n",
       "      <th>mean</th>\n",
       "      <td>1.750056</td>\n",
       "      <td>1.182283</td>\n",
       "      <td>1991.632058</td>\n",
       "    </tr>\n",
       "    <tr>\n",
       "      <th>std</th>\n",
       "      <td>1.799530</td>\n",
       "      <td>1.448682</td>\n",
       "      <td>21.824354</td>\n",
       "    </tr>\n",
       "    <tr>\n",
       "      <th>min</th>\n",
       "      <td>0.000000</td>\n",
       "      <td>0.000000</td>\n",
       "      <td>1884.000000</td>\n",
       "    </tr>\n",
       "    <tr>\n",
       "      <th>25%</th>\n",
       "      <td>0.000000</td>\n",
       "      <td>0.000000</td>\n",
       "      <td>1981.000000</td>\n",
       "    </tr>\n",
       "    <tr>\n",
       "      <th>50%</th>\n",
       "      <td>1.000000</td>\n",
       "      <td>1.000000</td>\n",
       "      <td>1997.000000</td>\n",
       "    </tr>\n",
       "    <tr>\n",
       "      <th>75%</th>\n",
       "      <td>2.000000</td>\n",
       "      <td>2.000000</td>\n",
       "      <td>2008.000000</td>\n",
       "    </tr>\n",
       "    <tr>\n",
       "      <th>max</th>\n",
       "      <td>31.000000</td>\n",
       "      <td>22.000000</td>\n",
       "      <td>2017.000000</td>\n",
       "    </tr>\n",
       "  </tbody>\n",
       "</table>\n",
       "</div>"
      ],
      "text/plain": [
       "         home_score    away_score          year\n",
       "count  22509.000000  22509.000000  22509.000000\n",
       "mean       1.750056      1.182283   1991.632058\n",
       "std        1.799530      1.448682     21.824354\n",
       "min        0.000000      0.000000   1884.000000\n",
       "25%        0.000000      0.000000   1981.000000\n",
       "50%        1.000000      1.000000   1997.000000\n",
       "75%        2.000000      2.000000   2008.000000\n",
       "max       31.000000     22.000000   2017.000000"
      ]
     },
     "execution_count": 56,
     "metadata": {},
     "output_type": "execute_result"
    }
   ],
   "source": [
    "newdf.describe()"
   ]
  },
  {
   "cell_type": "markdown",
   "metadata": {},
   "source": [
    "## Start of Adding New Features (Feature Engineering)"
   ]
  },
  {
   "cell_type": "markdown",
   "metadata": {},
   "source": [
    "We'll define a new column in our dataframe called \"win\". \n",
    "According to a simple formula, we will assign 1 point for every victory and 0.5 points for every draw. We will assign this from the perspective of the home team."
   ]
  },
  {
   "cell_type": "code",
   "execution_count": 57,
   "metadata": {
    "collapsed": true
   },
   "outputs": [],
   "source": [
    "newdf[\"win\"] = 1 * (newdf[\"home_score\"] > newdf[\"away_score\"]) + 0.5 * (newdf[\"home_score\"] == newdf[\"away_score\"])\n"
   ]
  },
  {
   "cell_type": "code",
   "execution_count": 58,
   "metadata": {},
   "outputs": [
    {
     "data": {
      "text/html": [
       "<div>\n",
       "<style>\n",
       "    .dataframe thead tr:only-child th {\n",
       "        text-align: right;\n",
       "    }\n",
       "\n",
       "    .dataframe thead th {\n",
       "        text-align: left;\n",
       "    }\n",
       "\n",
       "    .dataframe tbody tr th {\n",
       "        vertical-align: top;\n",
       "    }\n",
       "</style>\n",
       "<table border=\"1\" class=\"dataframe\">\n",
       "  <thead>\n",
       "    <tr style=\"text-align: right;\">\n",
       "      <th></th>\n",
       "      <th>date</th>\n",
       "      <th>home_team</th>\n",
       "      <th>away_team</th>\n",
       "      <th>home_score</th>\n",
       "      <th>away_score</th>\n",
       "      <th>tournament</th>\n",
       "      <th>city</th>\n",
       "      <th>country</th>\n",
       "      <th>year</th>\n",
       "      <th>win</th>\n",
       "    </tr>\n",
       "  </thead>\n",
       "  <tbody>\n",
       "    <tr>\n",
       "      <th>29</th>\n",
       "      <td>1884-01-26</td>\n",
       "      <td>Northern Ireland</td>\n",
       "      <td>Scotland</td>\n",
       "      <td>0</td>\n",
       "      <td>5</td>\n",
       "      <td>British Championship</td>\n",
       "      <td>Belfast</td>\n",
       "      <td>Ireland</td>\n",
       "      <td>1884</td>\n",
       "      <td>0.0</td>\n",
       "    </tr>\n",
       "    <tr>\n",
       "      <th>30</th>\n",
       "      <td>1884-02-09</td>\n",
       "      <td>Wales</td>\n",
       "      <td>Northern Ireland</td>\n",
       "      <td>6</td>\n",
       "      <td>0</td>\n",
       "      <td>British Championship</td>\n",
       "      <td>Wrexham</td>\n",
       "      <td>Wales</td>\n",
       "      <td>1884</td>\n",
       "      <td>1.0</td>\n",
       "    </tr>\n",
       "    <tr>\n",
       "      <th>31</th>\n",
       "      <td>1884-02-23</td>\n",
       "      <td>Northern Ireland</td>\n",
       "      <td>England</td>\n",
       "      <td>1</td>\n",
       "      <td>8</td>\n",
       "      <td>British Championship</td>\n",
       "      <td>Belfast</td>\n",
       "      <td>Ireland</td>\n",
       "      <td>1884</td>\n",
       "      <td>0.0</td>\n",
       "    </tr>\n",
       "    <tr>\n",
       "      <th>32</th>\n",
       "      <td>1884-03-15</td>\n",
       "      <td>Scotland</td>\n",
       "      <td>England</td>\n",
       "      <td>1</td>\n",
       "      <td>0</td>\n",
       "      <td>British Championship</td>\n",
       "      <td>Glasgow</td>\n",
       "      <td>Scotland</td>\n",
       "      <td>1884</td>\n",
       "      <td>1.0</td>\n",
       "    </tr>\n",
       "    <tr>\n",
       "      <th>33</th>\n",
       "      <td>1884-03-17</td>\n",
       "      <td>Wales</td>\n",
       "      <td>England</td>\n",
       "      <td>0</td>\n",
       "      <td>4</td>\n",
       "      <td>British Championship</td>\n",
       "      <td>Wrexham</td>\n",
       "      <td>Wales</td>\n",
       "      <td>1884</td>\n",
       "      <td>0.0</td>\n",
       "    </tr>\n",
       "  </tbody>\n",
       "</table>\n",
       "</div>"
      ],
      "text/plain": [
       "          date         home_team         away_team  home_score  away_score  \\\n",
       "29  1884-01-26  Northern Ireland          Scotland           0           5   \n",
       "30  1884-02-09             Wales  Northern Ireland           6           0   \n",
       "31  1884-02-23  Northern Ireland           England           1           8   \n",
       "32  1884-03-15          Scotland           England           1           0   \n",
       "33  1884-03-17             Wales           England           0           4   \n",
       "\n",
       "              tournament     city   country  year  win  \n",
       "29  British Championship  Belfast   Ireland  1884  0.0  \n",
       "30  British Championship  Wrexham     Wales  1884  1.0  \n",
       "31  British Championship  Belfast   Ireland  1884  0.0  \n",
       "32  British Championship  Glasgow  Scotland  1884  1.0  \n",
       "33  British Championship  Wrexham     Wales  1884  0.0  "
      ]
     },
     "execution_count": 58,
     "metadata": {},
     "output_type": "execute_result"
    }
   ],
   "source": [
    "newdf.head()"
   ]
  },
  {
   "cell_type": "markdown",
   "metadata": {},
   "source": [
    "Let's now create a set of all the international teams that have ever played a competitive game."
   ]
  },
  {
   "cell_type": "code",
   "execution_count": 59,
   "metadata": {},
   "outputs": [
    {
     "name": "stdout",
     "output_type": "stream",
     "text": [
      "236\n"
     ]
    }
   ],
   "source": [
    "hometeams = newdf.home_team.unique()\n",
    "awayteams = newdf.away_team.unique()\n",
    "allteams = set(hometeams) | set(awayteams)\n",
    "print (len(allteams))"
   ]
  },
  {
   "cell_type": "markdown",
   "metadata": {
    "collapsed": true
   },
   "source": [
    "###### A big pitfall is the fact that some countries don't exist anymore such as Yugoslavia and USSR. :(\n",
    "\n",
    "So now we have to adjust some of our features and data! \n",
    "Let's import a csv file of all the official countries present in the modern day, and compare that with out set. "
   ]
  },
  {
   "cell_type": "code",
   "execution_count": 60,
   "metadata": {},
   "outputs": [
    {
     "name": "stdout",
     "output_type": "stream",
     "text": [
      "        Countries\n",
      "0     Afghanistan\n",
      "1         Albania\n",
      "2  American Samoa\n",
      "3         Algeria\n",
      "4         Andorra\n"
     ]
    }
   ],
   "source": [
    "countries = pd.read_csv(\"country.csv\", encoding = \"utf-16\")\n",
    "print (countries.head())"
   ]
  },
  {
   "cell_type": "code",
   "execution_count": 61,
   "metadata": {},
   "outputs": [
    {
     "name": "stdout",
     "output_type": "stream",
     "text": [
      "201\n"
     ]
    }
   ],
   "source": [
    "valid_countries = set(countries[\"Countries\"].tolist())\n",
    "allteams = allteams & valid_countries\n",
    "print (len(allteams))"
   ]
  },
  {
   "cell_type": "markdown",
   "metadata": {},
   "source": [
    "We now have a set of around 201 valid soccer playing countries, as of 2018.\n"
   ]
  },
  {
   "cell_type": "markdown",
   "metadata": {
    "collapsed": true
   },
   "source": [
    "Now we tally every single match played by a country, and see the average winning points they got totally (win = 1, draw = 0.5).\n",
    "We discard every nation that has played less than 20 competitive matches in its history."
   ]
  },
  {
   "cell_type": "code",
   "execution_count": 62,
   "metadata": {
    "collapsed": true
   },
   "outputs": [],
   "source": [
    "country_dict = dict.fromkeys(allteams, 0)\n",
    "for team in allteams:\n",
    "    team_df_home = newdf.loc[newdf[\"home_team\"] == team]\n",
    "    team_df_away = newdf.loc[newdf[\"away_team\"] == team]\n",
    "    netwins =  team_df_home[\"win\"].sum() + (1 - team_df_away[\"win\"]).sum()\n",
    "    netmatches = len(team_df_home[\"win\"]) + len(team_df_away[\"win\"])\n",
    "    if (netmatches < 20):\n",
    "        prob = 0\n",
    "    else:\n",
    "        prob = netwins/netmatches\n",
    "    country_dict[team] = prob"
   ]
  },
  {
   "cell_type": "markdown",
   "metadata": {},
   "source": [
    "For example, let us look at the win percentage of Germany over the years."
   ]
  },
  {
   "cell_type": "code",
   "execution_count": 63,
   "metadata": {},
   "outputs": [
    {
     "name": "stdout",
     "output_type": "stream",
     "text": [
      "77.12328767123287\n"
     ]
    }
   ],
   "source": [
    "print (country_dict[\"Germany\"] * 100)"
   ]
  },
  {
   "cell_type": "markdown",
   "metadata": {},
   "source": [
    "Normalize the probabilities and calculate weights for every team, using the winning percentages we initially created.\n",
    "\n",
    "Weights (Normalized) = Winning_Percentage * (1/ Sum of All Winning_Percentages)"
   ]
  },
  {
   "cell_type": "code",
   "execution_count": 64,
   "metadata": {
    "collapsed": true
   },
   "outputs": [],
   "source": [
    "factor = 1.0/sum(country_dict.values())\n",
    "weights = dict()\n",
    "for elem in country_dict:\n",
    "    weights[elem] = country_dict[elem] * factor * 10\n"
   ]
  },
  {
   "cell_type": "markdown",
   "metadata": {},
   "source": [
    "Now, let's drop all matches that were played by nations that don't exist anymore, such as Yugoslavia and Czechoslovakia.\n",
    "Additionally, there are new nations that didn't exist before, such as South Sudan.\n",
    "\n",
    "Now there are around ~19000 records of games. "
   ]
  },
  {
   "cell_type": "code",
   "execution_count": 65,
   "metadata": {},
   "outputs": [
    {
     "name": "stdout",
     "output_type": "stream",
     "text": [
      "(19947, 10)\n"
     ]
    }
   ],
   "source": [
    "for index, row in newdf.iterrows():\n",
    "    if (row[\"home_team\"] not in allteams):\n",
    "        newdf.drop(index, inplace = True)\n",
    "for index, row in newdf.iterrows():        \n",
    "    if (row[\"away_team\"] not in allteams):\n",
    "        newdf.drop(index, inplace = True)\n",
    "print (newdf.shape)"
   ]
  },
  {
   "cell_type": "markdown",
   "metadata": {},
   "source": [
    "-"
   ]
  },
  {
   "cell_type": "markdown",
   "metadata": {},
   "source": [
    "###### Using the normalized weights, we calculate another feature.\n",
    "\n",
    "Wins against strong opposition, such as Germany or Italy is obviously a bigger deal that lower ranked nations. As a result, we also need to calculate weights of victories against the type of opposition, with a higher value given to teams that beat a top-ranked team."
   ]
  },
  {
   "cell_type": "code",
   "execution_count": 66,
   "metadata": {
    "collapsed": true
   },
   "outputs": [],
   "source": [
    "opp = dict()\n",
    "for team in allteams:\n",
    "    team_df_home = newdf.loc[newdf[\"home_team\"] == team]\n",
    "    net_home = [weights[d] for d in team_df_home[\"away_team\"]]\n",
    "    team_df_home[\"net\"] = net_home\n",
    "    \n",
    "    team_df_away = newdf.loc[newdf[\"away_team\"] == team]\n",
    "    net_away = [weights[d] for d in team_df_away[\"home_team\"]]\n",
    "    team_df_away[\"net\"] = net_away\n",
    "    \n",
    "    \n",
    "    netH = team_df_home[\"win\"] * team_df_home[\"net\"] * 10\n",
    "    netA = (1 - team_df_away[\"win\"]) * team_df_away[\"net\"] * 10\n",
    "    total = (netH.sum() + netA.sum())/(len(netH) + len(netA))\n",
    "    opp[team] = total * 2"
   ]
  },
  {
   "cell_type": "markdown",
   "metadata": {},
   "source": [
    "Let us have a look at how Germany has done with respect to the opposition that it has faced over the years."
   ]
  },
  {
   "cell_type": "code",
   "execution_count": 67,
   "metadata": {},
   "outputs": [
    {
     "name": "stdout",
     "output_type": "stream",
     "text": [
      "86.91421617228956\n"
     ]
    }
   ],
   "source": [
    "print(opp[\"Germany\"] * 100)"
   ]
  },
  {
   "cell_type": "markdown",
   "metadata": {},
   "source": [
    "However, we realize that different countries play in different divisions. Naturally, teams from South America and Europe are way more experienced and are more difficult opponents than teams from other nations. So, we have to add some additional features to our dataframe and initialize teams based on their weights of confederations. "
   ]
  },
  {
   "cell_type": "code",
   "execution_count": 68,
   "metadata": {
    "collapsed": true
   },
   "outputs": [],
   "source": [
    "confederations = pd.read_csv(\"confederations.csv\")"
   ]
  },
  {
   "cell_type": "code",
   "execution_count": 69,
   "metadata": {},
   "outputs": [
    {
     "data": {
      "text/html": [
       "<div>\n",
       "<style>\n",
       "    .dataframe thead tr:only-child th {\n",
       "        text-align: right;\n",
       "    }\n",
       "\n",
       "    .dataframe thead th {\n",
       "        text-align: left;\n",
       "    }\n",
       "\n",
       "    .dataframe tbody tr th {\n",
       "        vertical-align: top;\n",
       "    }\n",
       "</style>\n",
       "<table border=\"1\" class=\"dataframe\">\n",
       "  <thead>\n",
       "    <tr style=\"text-align: right;\">\n",
       "      <th></th>\n",
       "      <th>confederation</th>\n",
       "      <th>name</th>\n",
       "      <th>fifa_code</th>\n",
       "      <th>ioc_code</th>\n",
       "    </tr>\n",
       "  </thead>\n",
       "  <tbody>\n",
       "    <tr>\n",
       "      <th>0</th>\n",
       "      <td>AFC</td>\n",
       "      <td>Afghanistan</td>\n",
       "      <td>AFG</td>\n",
       "      <td>AFG</td>\n",
       "    </tr>\n",
       "    <tr>\n",
       "      <th>1</th>\n",
       "      <td>UEFA</td>\n",
       "      <td>Albania</td>\n",
       "      <td>ALB</td>\n",
       "      <td>ALB</td>\n",
       "    </tr>\n",
       "    <tr>\n",
       "      <th>2</th>\n",
       "      <td>CAF</td>\n",
       "      <td>Algeria</td>\n",
       "      <td>ALG</td>\n",
       "      <td>ALG</td>\n",
       "    </tr>\n",
       "    <tr>\n",
       "      <th>3</th>\n",
       "      <td>OFC</td>\n",
       "      <td>American Samoa</td>\n",
       "      <td>ASA</td>\n",
       "      <td>ASA</td>\n",
       "    </tr>\n",
       "    <tr>\n",
       "      <th>4</th>\n",
       "      <td>UEFA</td>\n",
       "      <td>Andorra</td>\n",
       "      <td>AND</td>\n",
       "      <td>AND</td>\n",
       "    </tr>\n",
       "  </tbody>\n",
       "</table>\n",
       "</div>"
      ],
      "text/plain": [
       "  confederation            name fifa_code ioc_code\n",
       "0           AFC     Afghanistan       AFG      AFG\n",
       "1          UEFA         Albania       ALB      ALB\n",
       "2           CAF         Algeria       ALG      ALG\n",
       "3           OFC  American Samoa       ASA      ASA\n",
       "4          UEFA         Andorra       AND      AND"
      ]
     },
     "execution_count": 69,
     "metadata": {},
     "output_type": "execute_result"
    }
   ],
   "source": [
    "confederations.head()"
   ]
  },
  {
   "cell_type": "markdown",
   "metadata": {},
   "source": [
    "We notice that the confederation that every team belongs to is present in this csv file.\n",
    "    "
   ]
  },
  {
   "cell_type": "code",
   "execution_count": 70,
   "metadata": {},
   "outputs": [
    {
     "data": {
      "image/png": "[encoded data removed]",
      "text/plain": [
       "<matplotlib.figure.Figure at 0x1a179a86a0>"
      ]
     },
     "metadata": {},
     "output_type": "display_data"
    }
   ],
   "source": [
    "obj1 = confederations.groupby(\"confederation\").count()\n",
    "foo = obj1[\"name\"].plot(kind = \"bar\")\n",
    "plt.xlabel(\"Confederation\")\n",
    "plt.ylabel(\"Count\")\n",
    "plt.title(\"Plot of Nations from each Confederation\")\n",
    "plt.show()"
   ]
  },
  {
   "cell_type": "code",
   "execution_count": 71,
   "metadata": {
    "collapsed": true
   },
   "outputs": [],
   "source": [
    "outDF = pd.DataFrame.from_dict(country_dict, orient=\"index\")\n",
    "outDF.reset_index(level = 0, inplace = True)\n",
    "oppDF = pd.DataFrame.from_dict(opp, orient=\"index\")\n",
    "oppDF.reset_index(level = 0, inplace = True)\n",
    "oppDF[\"probs\"] = outDF[0]\n",
    "oppDF[\"opponents\"] = oppDF[0] * 2\n",
    "del oppDF[0]\n",
    "oppDF[\"conf\"] = 0"
   ]
  },
  {
   "cell_type": "markdown",
   "metadata": {},
   "source": [
    "According to the weights of confederations - according to FIFA, we will assign the weights of every team.\n",
    "\n",
    "Naturally, teams from Europe and South America have a higher weightage.\n",
    "\n",
    "https://en.wikipedia.org/wiki/FIFA_World_Rankings"
   ]
  },
  {
   "cell_type": "code",
   "execution_count": 72,
   "metadata": {
    "collapsed": true
   },
   "outputs": [],
   "source": [
    "confederations[\"confWeight\"] = 0\n",
    "def conf(x):\n",
    "    if \"AFC\" in x or \"CAF\" in x or \"OFC\" in x or \"OFC\" in x or \"CONCACAF\" in x :\n",
    "        return 0.85\n",
    "    elif \"UEFA\" in x:\n",
    "        return 0.99\n",
    "    elif \"CONMEBOL\" in x:\n",
    "        return 1.0   \n",
    "confederations[\"confWeight\"] = confederations[\"confederation\"].apply(conf)"
   ]
  },
  {
   "cell_type": "code",
   "execution_count": 73,
   "metadata": {
    "collapsed": true
   },
   "outputs": [],
   "source": [
    "a = []\n",
    "for team in oppDF[\"index\"]:\n",
    "    try:\n",
    "        a.append(float(confederations[confederations[\"name\"] == team][\"confWeight\"]))\n",
    "    except:\n",
    "        a.append(0)\n",
    "oppDF[\"conf\"] = pd.Series(a)"
   ]
  },
  {
   "cell_type": "code",
   "execution_count": 74,
   "metadata": {},
   "outputs": [
    {
     "data": {
      "text/html": [
       "<div>\n",
       "<style>\n",
       "    .dataframe thead tr:only-child th {\n",
       "        text-align: right;\n",
       "    }\n",
       "\n",
       "    .dataframe thead th {\n",
       "        text-align: left;\n",
       "    }\n",
       "\n",
       "    .dataframe tbody tr th {\n",
       "        vertical-align: top;\n",
       "    }\n",
       "</style>\n",
       "<table border=\"1\" class=\"dataframe\">\n",
       "  <thead>\n",
       "    <tr style=\"text-align: right;\">\n",
       "      <th></th>\n",
       "      <th>index</th>\n",
       "      <th>probs</th>\n",
       "      <th>opponents</th>\n",
       "      <th>conf</th>\n",
       "    </tr>\n",
       "  </thead>\n",
       "  <tbody>\n",
       "    <tr>\n",
       "      <th>0</th>\n",
       "      <td>Oman</td>\n",
       "      <td>0.441558</td>\n",
       "      <td>0.923450</td>\n",
       "      <td>0.85</td>\n",
       "    </tr>\n",
       "    <tr>\n",
       "      <th>1</th>\n",
       "      <td>Ethiopia</td>\n",
       "      <td>0.427966</td>\n",
       "      <td>0.810996</td>\n",
       "      <td>0.85</td>\n",
       "    </tr>\n",
       "    <tr>\n",
       "      <th>2</th>\n",
       "      <td>Papua New Guinea</td>\n",
       "      <td>0.434524</td>\n",
       "      <td>0.661539</td>\n",
       "      <td>0.85</td>\n",
       "    </tr>\n",
       "    <tr>\n",
       "      <th>3</th>\n",
       "      <td>East Timor</td>\n",
       "      <td>0.166667</td>\n",
       "      <td>0.236399</td>\n",
       "      <td>0.85</td>\n",
       "    </tr>\n",
       "    <tr>\n",
       "      <th>4</th>\n",
       "      <td>France</td>\n",
       "      <td>0.674174</td>\n",
       "      <td>1.533178</td>\n",
       "      <td>0.99</td>\n",
       "    </tr>\n",
       "  </tbody>\n",
       "</table>\n",
       "</div>"
      ],
      "text/plain": [
       "              index     probs  opponents  conf\n",
       "0              Oman  0.441558   0.923450  0.85\n",
       "1          Ethiopia  0.427966   0.810996  0.85\n",
       "2  Papua New Guinea  0.434524   0.661539  0.85\n",
       "3        East Timor  0.166667   0.236399  0.85\n",
       "4            France  0.674174   1.533178  0.99"
      ]
     },
     "execution_count": 74,
     "metadata": {},
     "output_type": "execute_result"
    }
   ],
   "source": [
    "oppDF.head()"
   ]
  },
  {
   "cell_type": "markdown",
   "metadata": {},
   "source": [
    "By feature engineering, we have managed to add 3 features based on our dataset so far:\n",
    "\n",
    "* Total Win Rate\n",
    "* Strength of Opposition\n",
    "* Confederation"
   ]
  },
  {
   "cell_type": "markdown",
   "metadata": {},
   "source": [
    "According to FIFA's ranking system, we can extract some more data about how teams have fared in the world cup and add these features. \n",
    "FIFA assigns points to each nation that has ever been in the World cup. We can use this feature along with additional features as our training output for linear regression. \n",
    "http://www.fifa.com/fifa-tournaments/statistics-and-records/worldcup/teams/index.html"
   ]
  },
  {
   "cell_type": "code",
   "execution_count": 75,
   "metadata": {},
   "outputs": [
    {
     "data": {
      "text/html": [
       "<div>\n",
       "<style>\n",
       "    .dataframe thead tr:only-child th {\n",
       "        text-align: right;\n",
       "    }\n",
       "\n",
       "    .dataframe thead th {\n",
       "        text-align: left;\n",
       "    }\n",
       "\n",
       "    .dataframe tbody tr th {\n",
       "        vertical-align: top;\n",
       "    }\n",
       "</style>\n",
       "<table border=\"1\" class=\"dataframe\">\n",
       "  <thead>\n",
       "    <tr style=\"text-align: right;\">\n",
       "      <th></th>\n",
       "      <th>Rank</th>\n",
       "      <th>Team</th>\n",
       "      <th>Matches Played</th>\n",
       "      <th>Wins</th>\n",
       "      <th>Draws</th>\n",
       "      <th>Losses</th>\n",
       "      <th>Goals for</th>\n",
       "      <th>Goals against</th>\n",
       "      <th>Points</th>\n",
       "      <th>Ave. points</th>\n",
       "      <th>Appearances</th>\n",
       "      <th>Trophies</th>\n",
       "      <th>Runner-Ups</th>\n",
       "    </tr>\n",
       "  </thead>\n",
       "  <tbody>\n",
       "    <tr>\n",
       "      <th>0</th>\n",
       "      <td>1</td>\n",
       "      <td>Brazil</td>\n",
       "      <td>104</td>\n",
       "      <td>70</td>\n",
       "      <td>17</td>\n",
       "      <td>17</td>\n",
       "      <td>221</td>\n",
       "      <td>102</td>\n",
       "      <td>227</td>\n",
       "      <td>2.18</td>\n",
       "      <td>20</td>\n",
       "      <td>5</td>\n",
       "      <td>2</td>\n",
       "    </tr>\n",
       "    <tr>\n",
       "      <th>1</th>\n",
       "      <td>2</td>\n",
       "      <td>Germany</td>\n",
       "      <td>106</td>\n",
       "      <td>66</td>\n",
       "      <td>20</td>\n",
       "      <td>20</td>\n",
       "      <td>224</td>\n",
       "      <td>121</td>\n",
       "      <td>218</td>\n",
       "      <td>2.05</td>\n",
       "      <td>18</td>\n",
       "      <td>4</td>\n",
       "      <td>4</td>\n",
       "    </tr>\n",
       "    <tr>\n",
       "      <th>2</th>\n",
       "      <td>3</td>\n",
       "      <td>Italy</td>\n",
       "      <td>83</td>\n",
       "      <td>45</td>\n",
       "      <td>21</td>\n",
       "      <td>17</td>\n",
       "      <td>128</td>\n",
       "      <td>77</td>\n",
       "      <td>156</td>\n",
       "      <td>1.88</td>\n",
       "      <td>18</td>\n",
       "      <td>4</td>\n",
       "      <td>2</td>\n",
       "    </tr>\n",
       "    <tr>\n",
       "      <th>3</th>\n",
       "      <td>4</td>\n",
       "      <td>Argentina</td>\n",
       "      <td>77</td>\n",
       "      <td>42</td>\n",
       "      <td>14</td>\n",
       "      <td>21</td>\n",
       "      <td>131</td>\n",
       "      <td>84</td>\n",
       "      <td>140</td>\n",
       "      <td>1.84</td>\n",
       "      <td>16</td>\n",
       "      <td>2</td>\n",
       "      <td>3</td>\n",
       "    </tr>\n",
       "    <tr>\n",
       "      <th>4</th>\n",
       "      <td>5</td>\n",
       "      <td>Spain</td>\n",
       "      <td>59</td>\n",
       "      <td>29</td>\n",
       "      <td>12</td>\n",
       "      <td>18</td>\n",
       "      <td>92</td>\n",
       "      <td>66</td>\n",
       "      <td>99</td>\n",
       "      <td>1.68</td>\n",
       "      <td>14</td>\n",
       "      <td>1</td>\n",
       "      <td>0</td>\n",
       "    </tr>\n",
       "  </tbody>\n",
       "</table>\n",
       "</div>"
      ],
      "text/plain": [
       "   Rank       Team  Matches Played  Wins  Draws  Losses  Goals for  \\\n",
       "0     1     Brazil             104    70     17      17        221   \n",
       "1     2    Germany             106    66     20      20        224   \n",
       "2     3      Italy              83    45     21      17        128   \n",
       "3     4  Argentina              77    42     14      21        131   \n",
       "4     5      Spain              59    29     12      18         92   \n",
       "\n",
       "   Goals against  Points  Ave. points  Appearances  Trophies  Runner-Ups  \n",
       "0            102     227         2.18           20         5           2  \n",
       "1            121     218         2.05           18         4           4  \n",
       "2             77     156         1.88           18         4           2  \n",
       "3             84     140         1.84           16         2           3  \n",
       "4             66      99         1.68           14         1           0  "
      ]
     },
     "execution_count": 75,
     "metadata": {},
     "output_type": "execute_result"
    }
   ],
   "source": [
    "points = pd.read_csv(\"points.csv\")\n",
    "points.head()"
   ]
  },
  {
   "cell_type": "markdown",
   "metadata": {},
   "source": [
    "###### Let us do some visualiation."
   ]
  },
  {
   "cell_type": "code",
   "execution_count": 76,
   "metadata": {},
   "outputs": [
    {
     "data": {
      "image/png": "[encoded data removed]",
      "text/plain": [
       "<matplotlib.figure.Figure at 0x1a0e5febe0>"
      ]
     },
     "metadata": {},
     "output_type": "display_data"
    }
   ],
   "source": [
    "vis = points.copy()\n",
    "vis.set_index([\"Team\"], inplace = True)\n",
    "odds = vis[\"Wins\"].plot(kind = \"bar\", figsize = (25, 5), title = \"Number of wins in the world cup\", rot = 90, legend = True)\n",
    "odds.set_ylabel(\"Number of Wins\", fontsize = 15)\n",
    "plt.show()"
   ]
  },
  {
   "cell_type": "code",
   "execution_count": 77,
   "metadata": {},
   "outputs": [
    {
     "data": {
      "image/png": "[encoded data removed]",
      "text/plain": [
       "<matplotlib.figure.Figure at 0x1a16afb9e8>"
      ]
     },
     "metadata": {},
     "output_type": "display_data"
    }
   ],
   "source": [
    "odds = vis[\"Trophies\"].plot(kind = \"bar\", figsize = (25, 5), title = \"Number of trophies won in the world cup\", rot = 90, legend = True)\n",
    "odds.set_ylabel(\"Trophies\", fontsize = 15)\n",
    "plt.show()"
   ]
  },
  {
   "cell_type": "code",
   "execution_count": 78,
   "metadata": {},
   "outputs": [
    {
     "data": {
      "image/png": "[encoded data removed]",
      "text/plain": [
       "<matplotlib.figure.Figure at 0x1a0e03a550>"
      ]
     },
     "metadata": {},
     "output_type": "display_data"
    }
   ],
   "source": [
    "odds = vis[\"Points\"].plot(kind = \"bar\", figsize = (25, 5), title = \"Total FIFA Points by Country\", rot = 90, legend = True)\n",
    "odds.set_ylabel(\"FIFA Official Ranking Points\", fontsize = 15)\n",
    "plt.show()"
   ]
  },
  {
   "cell_type": "markdown",
   "metadata": {},
   "source": [
    "Now we can calculate more features by finding out average goals scored per game and average goals conceded per game."
   ]
  },
  {
   "cell_type": "code",
   "execution_count": 79,
   "metadata": {},
   "outputs": [
    {
     "data": {
      "text/html": [
       "<div>\n",
       "<style>\n",
       "    .dataframe thead tr:only-child th {\n",
       "        text-align: right;\n",
       "    }\n",
       "\n",
       "    .dataframe thead th {\n",
       "        text-align: left;\n",
       "    }\n",
       "\n",
       "    .dataframe tbody tr th {\n",
       "        vertical-align: top;\n",
       "    }\n",
       "</style>\n",
       "<table border=\"1\" class=\"dataframe\">\n",
       "  <thead>\n",
       "    <tr style=\"text-align: right;\">\n",
       "      <th></th>\n",
       "      <th>Rank</th>\n",
       "      <th>Team</th>\n",
       "      <th>Matches Played</th>\n",
       "      <th>Wins</th>\n",
       "      <th>Draws</th>\n",
       "      <th>Losses</th>\n",
       "      <th>Goals for</th>\n",
       "      <th>Goals against</th>\n",
       "      <th>Points</th>\n",
       "      <th>Ave. points</th>\n",
       "      <th>Appearances</th>\n",
       "      <th>Trophies</th>\n",
       "      <th>Runner-Ups</th>\n",
       "      <th>GoalRate</th>\n",
       "      <th>ConcedeRate</th>\n",
       "    </tr>\n",
       "  </thead>\n",
       "  <tbody>\n",
       "    <tr>\n",
       "      <th>0</th>\n",
       "      <td>1</td>\n",
       "      <td>Brazil</td>\n",
       "      <td>104</td>\n",
       "      <td>70</td>\n",
       "      <td>17</td>\n",
       "      <td>17</td>\n",
       "      <td>221</td>\n",
       "      <td>102</td>\n",
       "      <td>227</td>\n",
       "      <td>2.18</td>\n",
       "      <td>20</td>\n",
       "      <td>5</td>\n",
       "      <td>2</td>\n",
       "      <td>2.125000</td>\n",
       "      <td>0.980769</td>\n",
       "    </tr>\n",
       "    <tr>\n",
       "      <th>1</th>\n",
       "      <td>2</td>\n",
       "      <td>Germany</td>\n",
       "      <td>106</td>\n",
       "      <td>66</td>\n",
       "      <td>20</td>\n",
       "      <td>20</td>\n",
       "      <td>224</td>\n",
       "      <td>121</td>\n",
       "      <td>218</td>\n",
       "      <td>2.05</td>\n",
       "      <td>18</td>\n",
       "      <td>4</td>\n",
       "      <td>4</td>\n",
       "      <td>2.113208</td>\n",
       "      <td>1.141509</td>\n",
       "    </tr>\n",
       "    <tr>\n",
       "      <th>2</th>\n",
       "      <td>3</td>\n",
       "      <td>Italy</td>\n",
       "      <td>83</td>\n",
       "      <td>45</td>\n",
       "      <td>21</td>\n",
       "      <td>17</td>\n",
       "      <td>128</td>\n",
       "      <td>77</td>\n",
       "      <td>156</td>\n",
       "      <td>1.88</td>\n",
       "      <td>18</td>\n",
       "      <td>4</td>\n",
       "      <td>2</td>\n",
       "      <td>1.542169</td>\n",
       "      <td>0.927711</td>\n",
       "    </tr>\n",
       "    <tr>\n",
       "      <th>3</th>\n",
       "      <td>4</td>\n",
       "      <td>Argentina</td>\n",
       "      <td>77</td>\n",
       "      <td>42</td>\n",
       "      <td>14</td>\n",
       "      <td>21</td>\n",
       "      <td>131</td>\n",
       "      <td>84</td>\n",
       "      <td>140</td>\n",
       "      <td>1.84</td>\n",
       "      <td>16</td>\n",
       "      <td>2</td>\n",
       "      <td>3</td>\n",
       "      <td>1.701299</td>\n",
       "      <td>1.090909</td>\n",
       "    </tr>\n",
       "    <tr>\n",
       "      <th>4</th>\n",
       "      <td>5</td>\n",
       "      <td>Spain</td>\n",
       "      <td>59</td>\n",
       "      <td>29</td>\n",
       "      <td>12</td>\n",
       "      <td>18</td>\n",
       "      <td>92</td>\n",
       "      <td>66</td>\n",
       "      <td>99</td>\n",
       "      <td>1.68</td>\n",
       "      <td>14</td>\n",
       "      <td>1</td>\n",
       "      <td>0</td>\n",
       "      <td>1.559322</td>\n",
       "      <td>1.118644</td>\n",
       "    </tr>\n",
       "  </tbody>\n",
       "</table>\n",
       "</div>"
      ],
      "text/plain": [
       "   Rank       Team  Matches Played  Wins  Draws  Losses  Goals for  \\\n",
       "0     1     Brazil             104    70     17      17        221   \n",
       "1     2    Germany             106    66     20      20        224   \n",
       "2     3      Italy              83    45     21      17        128   \n",
       "3     4  Argentina              77    42     14      21        131   \n",
       "4     5      Spain              59    29     12      18         92   \n",
       "\n",
       "   Goals against  Points  Ave. points  Appearances  Trophies  Runner-Ups  \\\n",
       "0            102     227         2.18           20         5           2   \n",
       "1            121     218         2.05           18         4           4   \n",
       "2             77     156         1.88           18         4           2   \n",
       "3             84     140         1.84           16         2           3   \n",
       "4             66      99         1.68           14         1           0   \n",
       "\n",
       "   GoalRate  ConcedeRate  \n",
       "0  2.125000     0.980769  \n",
       "1  2.113208     1.141509  \n",
       "2  1.542169     0.927711  \n",
       "3  1.701299     1.090909  \n",
       "4  1.559322     1.118644  "
      ]
     },
     "execution_count": 79,
     "metadata": {},
     "output_type": "execute_result"
    }
   ],
   "source": [
    "points[\"GoalRate\"] = points[\"Goals for\"] / points[\"Matches Played\"]\n",
    "points[\"ConcedeRate\"] = points[\"Goals against\"] / points[\"Matches Played\"]\n",
    "points.head()"
   ]
  },
  {
   "cell_type": "markdown",
   "metadata": {},
   "source": [
    "We will extract some of the columns of this dataset and use them as features as well.  \n",
    "The points column will be our prediction output, which will be explained further below."
   ]
  },
  {
   "cell_type": "code",
   "execution_count": 80,
   "metadata": {
    "collapsed": true
   },
   "outputs": [],
   "source": [
    "features = points.loc[:, [\"Team\", \"Trophies\", \"Runner-Ups\", \"GoalRate\", \"ConcedeRate\"]]\n",
    "a = []\n",
    "b = []\n",
    "c = []\n",
    "for team in features[\"Team\"]:\n",
    "    if (team in list(oppDF[\"index\"])):\n",
    "        a.append(float(oppDF[oppDF[\"index\"] == team][\"probs\"]))\n",
    "        b.append(float(oppDF[oppDF[\"index\"] == team][\"opponents\"]))\n",
    "        c.append(float(oppDF[oppDF[\"index\"] == team][\"conf\"]))\n",
    "    else:\n",
    "        a.append(0)\n",
    "        b.append(0)\n",
    "        c.append(0)\n",
    "features[\"OverallWin%\"] = pd.Series(a)\n",
    "features[\"Opp Toughness\"] = pd.Series(b)\n",
    "features[\"Confederation\"] = pd.Series(c)\n",
    "features[\"Points\"] = points[\"Points\"]"
   ]
  },
  {
   "cell_type": "code",
   "execution_count": 81,
   "metadata": {},
   "outputs": [
    {
     "data": {
      "text/html": [
       "<div>\n",
       "<style>\n",
       "    .dataframe thead tr:only-child th {\n",
       "        text-align: right;\n",
       "    }\n",
       "\n",
       "    .dataframe thead th {\n",
       "        text-align: left;\n",
       "    }\n",
       "\n",
       "    .dataframe tbody tr th {\n",
       "        vertical-align: top;\n",
       "    }\n",
       "</style>\n",
       "<table border=\"1\" class=\"dataframe\">\n",
       "  <thead>\n",
       "    <tr style=\"text-align: right;\">\n",
       "      <th></th>\n",
       "      <th>Team</th>\n",
       "      <th>Trophies</th>\n",
       "      <th>Runner-Ups</th>\n",
       "      <th>GoalRate</th>\n",
       "      <th>ConcedeRate</th>\n",
       "      <th>OverallWin%</th>\n",
       "      <th>Opp Toughness</th>\n",
       "      <th>Confederation</th>\n",
       "      <th>Points</th>\n",
       "    </tr>\n",
       "  </thead>\n",
       "  <tbody>\n",
       "    <tr>\n",
       "      <th>0</th>\n",
       "      <td>Brazil</td>\n",
       "      <td>5</td>\n",
       "      <td>2</td>\n",
       "      <td>2.125000</td>\n",
       "      <td>0.980769</td>\n",
       "      <td>0.706215</td>\n",
       "      <td>1.660357</td>\n",
       "      <td>1.00</td>\n",
       "      <td>227</td>\n",
       "    </tr>\n",
       "    <tr>\n",
       "      <th>1</th>\n",
       "      <td>Germany</td>\n",
       "      <td>4</td>\n",
       "      <td>4</td>\n",
       "      <td>2.113208</td>\n",
       "      <td>1.141509</td>\n",
       "      <td>0.771233</td>\n",
       "      <td>1.738284</td>\n",
       "      <td>0.99</td>\n",
       "      <td>218</td>\n",
       "    </tr>\n",
       "    <tr>\n",
       "      <th>2</th>\n",
       "      <td>Italy</td>\n",
       "      <td>4</td>\n",
       "      <td>2</td>\n",
       "      <td>1.542169</td>\n",
       "      <td>0.927711</td>\n",
       "      <td>0.697007</td>\n",
       "      <td>1.600631</td>\n",
       "      <td>0.99</td>\n",
       "      <td>156</td>\n",
       "    </tr>\n",
       "    <tr>\n",
       "      <th>3</th>\n",
       "      <td>Argentina</td>\n",
       "      <td>2</td>\n",
       "      <td>3</td>\n",
       "      <td>1.701299</td>\n",
       "      <td>1.090909</td>\n",
       "      <td>0.674536</td>\n",
       "      <td>1.555623</td>\n",
       "      <td>1.00</td>\n",
       "      <td>140</td>\n",
       "    </tr>\n",
       "    <tr>\n",
       "      <th>4</th>\n",
       "      <td>Spain</td>\n",
       "      <td>1</td>\n",
       "      <td>0</td>\n",
       "      <td>1.559322</td>\n",
       "      <td>1.118644</td>\n",
       "      <td>0.731672</td>\n",
       "      <td>1.623355</td>\n",
       "      <td>0.99</td>\n",
       "      <td>99</td>\n",
       "    </tr>\n",
       "  </tbody>\n",
       "</table>\n",
       "</div>"
      ],
      "text/plain": [
       "        Team  Trophies  Runner-Ups  GoalRate  ConcedeRate  OverallWin%  \\\n",
       "0     Brazil         5           2  2.125000     0.980769     0.706215   \n",
       "1    Germany         4           4  2.113208     1.141509     0.771233   \n",
       "2      Italy         4           2  1.542169     0.927711     0.697007   \n",
       "3  Argentina         2           3  1.701299     1.090909     0.674536   \n",
       "4      Spain         1           0  1.559322     1.118644     0.731672   \n",
       "\n",
       "   Opp Toughness  Confederation  Points  \n",
       "0       1.660357           1.00     227  \n",
       "1       1.738284           0.99     218  \n",
       "2       1.600631           0.99     156  \n",
       "3       1.555623           1.00     140  \n",
       "4       1.623355           0.99      99  "
      ]
     },
     "execution_count": 81,
     "metadata": {},
     "output_type": "execute_result"
    }
   ],
   "source": [
    "features.head()"
   ]
  },
  {
   "cell_type": "markdown",
   "metadata": {},
   "source": [
    "## Multiple Linear Regression"
   ]
  },
  {
   "cell_type": "markdown",
   "metadata": {},
   "source": [
    "Linear regression is a linear approach for modelling the relationship between a scalar dependent variable y and one or more explanatory variables (or independent variables) denoted X.\n",
    "For more than one explanatory variable, the process is called multiple linear regression.\n",
    "Formally, the model for multiple linear regression, given n observations, is \n",
    "Yi = a(Xi1) +  b(Xi2) + ... p(Xip) +  i for i = 1,2, ... n. "
   ]
  },
  {
   "cell_type": "markdown",
   "metadata": {},
   "source": [
    "We will now use linear regression to predict the weights of every feature in determining the points (Y, the response variable).\n",
    "The error function that we will be using is Residual Sum of Squares error.\n",
    "\n",
    "\n",
    "#### Y(points) = a(Trophies) + b(Runner-Ups) + c(GoalRate) + d(ConcedeRate) + e(OverallWin%) + f(OppToughness) + g(Confederations)"
   ]
  },
  {
   "cell_type": "code",
   "execution_count": 82,
   "metadata": {
    "collapsed": true
   },
   "outputs": [],
   "source": [
    "X_features = features.iloc[:, 1:8].as_matrix()\n",
    "y_features = features.iloc[:, 8].as_matrix()\n",
    "y_features = y_features * 5 \n"
   ]
  },
  {
   "cell_type": "markdown",
   "metadata": {},
   "source": [
    "We will now implement the linear regression using Scikit-Learn and the Linear Model Library."
   ]
  },
  {
   "cell_type": "code",
   "execution_count": 83,
   "metadata": {},
   "outputs": [
    {
     "name": "stdout",
     "output_type": "stream",
     "text": [
      "[ 150.02737542   61.02638005   93.97977729  -16.66396875   31.69824587\n",
      "   42.73126986    1.61239028]\n"
     ]
    }
   ],
   "source": [
    "regr = linear_model.LinearRegression()\n",
    "regr.fit(X_features, y_features)\n",
    "print (regr.coef_)"
   ]
  },
  {
   "cell_type": "markdown",
   "metadata": {},
   "source": [
    "These are the respective coefficients of our linear regression.\n",
    "\n",
    "Approximately,\n",
    "~ Y(points) = 150(Trophies) + 61(Runner-Ups) + 94(GoalRate) - 16(ConcedeRate) + 31(OverallWin%) + 42(OppToughness) + 1.6(Confederations) "
   ]
  },
  {
   "cell_type": "markdown",
   "metadata": {},
   "source": [
    "## Testing and Predicting"
   ]
  },
  {
   "cell_type": "markdown",
   "metadata": {},
   "source": [
    "Since we are predicting the outcome of the World Cup, let's just consider the teams that are participating in this edition's world cup. We get this from the WorldCup fixture list of the first round."
   ]
  },
  {
   "cell_type": "code",
   "execution_count": 84,
   "metadata": {},
   "outputs": [
    {
     "data": {
      "text/html": [
       "<div>\n",
       "<style>\n",
       "    .dataframe thead tr:only-child th {\n",
       "        text-align: right;\n",
       "    }\n",
       "\n",
       "    .dataframe thead th {\n",
       "        text-align: left;\n",
       "    }\n",
       "\n",
       "    .dataframe tbody tr th {\n",
       "        vertical-align: top;\n",
       "    }\n",
       "</style>\n",
       "<table border=\"1\" class=\"dataframe\">\n",
       "  <thead>\n",
       "    <tr style=\"text-align: right;\">\n",
       "      <th></th>\n",
       "      <th>Round Number</th>\n",
       "      <th>Date</th>\n",
       "      <th>Location</th>\n",
       "      <th>Home Team</th>\n",
       "      <th>Away Team</th>\n",
       "      <th>Group</th>\n",
       "    </tr>\n",
       "  </thead>\n",
       "  <tbody>\n",
       "    <tr>\n",
       "      <th>0</th>\n",
       "      <td>1</td>\n",
       "      <td>14/06/2018 18:00</td>\n",
       "      <td>Luzhniki Stadium, Moscow</td>\n",
       "      <td>Russia</td>\n",
       "      <td>Saudi Arabia</td>\n",
       "      <td>Group A</td>\n",
       "    </tr>\n",
       "    <tr>\n",
       "      <th>1</th>\n",
       "      <td>1</td>\n",
       "      <td>15/06/2018 15:00</td>\n",
       "      <td>Ekaterinburg Stadium</td>\n",
       "      <td>Egypt</td>\n",
       "      <td>Uruguay</td>\n",
       "      <td>Group A</td>\n",
       "    </tr>\n",
       "    <tr>\n",
       "      <th>2</th>\n",
       "      <td>1</td>\n",
       "      <td>15/06/2018 18:00</td>\n",
       "      <td>Saint Petersburg Stadium</td>\n",
       "      <td>Morocco</td>\n",
       "      <td>Iran</td>\n",
       "      <td>Group B</td>\n",
       "    </tr>\n",
       "    <tr>\n",
       "      <th>3</th>\n",
       "      <td>1</td>\n",
       "      <td>15/06/2018 21:00</td>\n",
       "      <td>Fisht Stadium, Sochi</td>\n",
       "      <td>Portugal</td>\n",
       "      <td>Spain</td>\n",
       "      <td>Group B</td>\n",
       "    </tr>\n",
       "    <tr>\n",
       "      <th>4</th>\n",
       "      <td>1</td>\n",
       "      <td>16/06/2018 13:00</td>\n",
       "      <td>Kazan Arena</td>\n",
       "      <td>France</td>\n",
       "      <td>Australia</td>\n",
       "      <td>Group C</td>\n",
       "    </tr>\n",
       "  </tbody>\n",
       "</table>\n",
       "</div>"
      ],
      "text/plain": [
       "   Round Number              Date                  Location Home Team  \\\n",
       "0             1  14/06/2018 18:00  Luzhniki Stadium, Moscow    Russia   \n",
       "1             1  15/06/2018 15:00      Ekaterinburg Stadium     Egypt   \n",
       "2             1  15/06/2018 18:00  Saint Petersburg Stadium   Morocco   \n",
       "3             1  15/06/2018 21:00      Fisht Stadium, Sochi  Portugal   \n",
       "4             1  16/06/2018 13:00               Kazan Arena    France   \n",
       "\n",
       "      Away Team    Group  \n",
       "0  Saudi Arabia  Group A  \n",
       "1       Uruguay  Group A  \n",
       "2          Iran  Group B  \n",
       "3         Spain  Group B  \n",
       "4     Australia  Group C  "
      ]
     },
     "execution_count": 84,
     "metadata": {},
     "output_type": "execute_result"
    }
   ],
   "source": [
    "firstround = pd.read_csv(\"firstround.csv\")\n",
    "firstround.head()"
   ]
  },
  {
   "cell_type": "code",
   "execution_count": 85,
   "metadata": {},
   "outputs": [
    {
     "name": "stdout",
     "output_type": "stream",
     "text": [
      "32\n"
     ]
    }
   ],
   "source": [
    "teams = set(firstround[\"Home Team\"]) | set(firstround[\"Away Team\"])\n",
    "print (len(teams))"
   ]
  },
  {
   "cell_type": "markdown",
   "metadata": {},
   "source": [
    "32 teams playing this World Cup. Seems about right!"
   ]
  },
  {
   "cell_type": "markdown",
   "metadata": {},
   "source": [
    "-"
   ]
  },
  {
   "cell_type": "markdown",
   "metadata": {},
   "source": [
    "We will now construct our test data. We only care about the performance of teams between the last world cup and now. So let's extract all matches played after the 13th of July, 2014.\n",
    "\n",
    "After that, we shall drop all games that have taken place which doesn't include a team playing this world cup."
   ]
  },
  {
   "cell_type": "code",
   "execution_count": 86,
   "metadata": {
    "collapsed": true
   },
   "outputs": [],
   "source": [
    "after = newdf[newdf[\"date\"] > '2014-07-13']"
   ]
  },
  {
   "cell_type": "code",
   "execution_count": 87,
   "metadata": {},
   "outputs": [
    {
     "data": {
      "text/html": [
       "<div>\n",
       "<style>\n",
       "    .dataframe thead tr:only-child th {\n",
       "        text-align: right;\n",
       "    }\n",
       "\n",
       "    .dataframe thead th {\n",
       "        text-align: left;\n",
       "    }\n",
       "\n",
       "    .dataframe tbody tr th {\n",
       "        vertical-align: top;\n",
       "    }\n",
       "</style>\n",
       "<table border=\"1\" class=\"dataframe\">\n",
       "  <thead>\n",
       "    <tr style=\"text-align: right;\">\n",
       "      <th></th>\n",
       "      <th>date</th>\n",
       "      <th>home_team</th>\n",
       "      <th>away_team</th>\n",
       "      <th>home_score</th>\n",
       "      <th>away_score</th>\n",
       "      <th>tournament</th>\n",
       "      <th>city</th>\n",
       "      <th>country</th>\n",
       "      <th>year</th>\n",
       "      <th>win</th>\n",
       "    </tr>\n",
       "  </thead>\n",
       "  <tbody>\n",
       "    <tr>\n",
       "      <th>35605</th>\n",
       "      <td>2014-07-19</td>\n",
       "      <td>Botswana</td>\n",
       "      <td>Guinea-Bissau</td>\n",
       "      <td>2</td>\n",
       "      <td>0</td>\n",
       "      <td>African Cup of Nations qualification</td>\n",
       "      <td>Gaborone</td>\n",
       "      <td>Botswana</td>\n",
       "      <td>2014</td>\n",
       "      <td>1.0</td>\n",
       "    </tr>\n",
       "    <tr>\n",
       "      <th>35606</th>\n",
       "      <td>2014-07-19</td>\n",
       "      <td>Sierra Leone</td>\n",
       "      <td>Seychelles</td>\n",
       "      <td>2</td>\n",
       "      <td>0</td>\n",
       "      <td>African Cup of Nations qualification</td>\n",
       "      <td>Freetown</td>\n",
       "      <td>Sierra Leone</td>\n",
       "      <td>2014</td>\n",
       "      <td>1.0</td>\n",
       "    </tr>\n",
       "    <tr>\n",
       "      <th>35607</th>\n",
       "      <td>2014-07-19</td>\n",
       "      <td>Uganda</td>\n",
       "      <td>Mauritania</td>\n",
       "      <td>2</td>\n",
       "      <td>0</td>\n",
       "      <td>African Cup of Nations qualification</td>\n",
       "      <td>Kampala</td>\n",
       "      <td>Uganda</td>\n",
       "      <td>2014</td>\n",
       "      <td>1.0</td>\n",
       "    </tr>\n",
       "    <tr>\n",
       "      <th>35608</th>\n",
       "      <td>2014-07-20</td>\n",
       "      <td>Benin</td>\n",
       "      <td>Malawi</td>\n",
       "      <td>1</td>\n",
       "      <td>0</td>\n",
       "      <td>African Cup of Nations qualification</td>\n",
       "      <td>Cotonou</td>\n",
       "      <td>Benin</td>\n",
       "      <td>2014</td>\n",
       "      <td>1.0</td>\n",
       "    </tr>\n",
       "    <tr>\n",
       "      <th>35609</th>\n",
       "      <td>2014-07-20</td>\n",
       "      <td>Congo</td>\n",
       "      <td>Rwanda</td>\n",
       "      <td>2</td>\n",
       "      <td>0</td>\n",
       "      <td>African Cup of Nations qualification</td>\n",
       "      <td>Pointe-Noire</td>\n",
       "      <td>Congo</td>\n",
       "      <td>2014</td>\n",
       "      <td>1.0</td>\n",
       "    </tr>\n",
       "  </tbody>\n",
       "</table>\n",
       "</div>"
      ],
      "text/plain": [
       "             date     home_team      away_team  home_score  away_score  \\\n",
       "35605  2014-07-19      Botswana  Guinea-Bissau           2           0   \n",
       "35606  2014-07-19  Sierra Leone     Seychelles           2           0   \n",
       "35607  2014-07-19        Uganda     Mauritania           2           0   \n",
       "35608  2014-07-20         Benin         Malawi           1           0   \n",
       "35609  2014-07-20         Congo         Rwanda           2           0   \n",
       "\n",
       "                                 tournament          city       country  year  \\\n",
       "35605  African Cup of Nations qualification      Gaborone      Botswana  2014   \n",
       "35606  African Cup of Nations qualification      Freetown  Sierra Leone  2014   \n",
       "35607  African Cup of Nations qualification       Kampala        Uganda  2014   \n",
       "35608  African Cup of Nations qualification       Cotonou         Benin  2014   \n",
       "35609  African Cup of Nations qualification  Pointe-Noire         Congo  2014   \n",
       "\n",
       "       win  \n",
       "35605  1.0  \n",
       "35606  1.0  \n",
       "35607  1.0  \n",
       "35608  1.0  \n",
       "35609  1.0  "
      ]
     },
     "execution_count": 87,
     "metadata": {},
     "output_type": "execute_result"
    }
   ],
   "source": [
    "after.head()"
   ]
  },
  {
   "cell_type": "code",
   "execution_count": 88,
   "metadata": {
    "collapsed": true
   },
   "outputs": [],
   "source": [
    "for index, row in after.iterrows():\n",
    "    if (row.home_team in teams or row.away_team in teams):\n",
    "        continue\n",
    "    else:\n",
    "        after.drop(index, inplace = True)"
   ]
  },
  {
   "cell_type": "code",
   "execution_count": 89,
   "metadata": {},
   "outputs": [
    {
     "data": {
      "text/plain": [
       "699"
      ]
     },
     "execution_count": 89,
     "metadata": {},
     "output_type": "execute_result"
    }
   ],
   "source": [
    "len(after)"
   ]
  },
  {
   "cell_type": "code",
   "execution_count": 90,
   "metadata": {
    "collapsed": true
   },
   "outputs": [],
   "source": [
    "recent = pd.DataFrame(list(teams))\n",
    "recent[\"GoalRate\"] = 0\n",
    "recent[\"ConcedeRate\"] = 0\n",
    "recent[\"OverallWin%\"] = 0\n",
    "recent[\"Opp Toughness\"] = 0"
   ]
  },
  {
   "cell_type": "markdown",
   "metadata": {
    "collapsed": true
   },
   "source": [
    "For the games played in the last 4 years - we will nowcalculate all the necessary features.\n",
    "* Goal Rate\n",
    "* Concede Rate\n",
    "* Overall Win Rate\n",
    "* Opposition Toughness"
   ]
  },
  {
   "cell_type": "code",
   "execution_count": 91,
   "metadata": {
    "collapsed": true
   },
   "outputs": [],
   "source": [
    "index = 0\n",
    "for team in recent[0]:\n",
    "    team_df_home = after.loc[after[\"home_team\"] == team]\n",
    "    team_df_away = after.loc[after[\"away_team\"] == team]\n",
    "    netwins =  team_df_home[\"win\"].sum() + (1 - team_df_away[\"win\"]).sum()\n",
    "    netmatches = len(team_df_home[\"win\"]) + len(team_df_away[\"win\"])\n",
    "    prob = netwins/netmatches\n",
    "    recent.iloc[index, 3] = prob\n",
    "    net_home = [weights[d] for d in team_df_home[\"away_team\"]]\n",
    "    team_df_home[\"net\"] = net_home\n",
    "    net_away = [weights[d] for d in team_df_away[\"home_team\"]]\n",
    "    team_df_away[\"net\"] = net_away \n",
    "    netH = team_df_home[\"win\"] * team_df_home[\"net\"] * 10\n",
    "    netA = (1 - team_df_away[\"win\"]) * team_df_away[\"net\"] * 10\n",
    "    total = (netH.sum() + netA.sum())/(len(netH) + len(netA))\n",
    "    recent.iloc[index, 4] = total * 2  \n",
    "    goals = ((team_df_home[\"home_score\"].sum()) + team_df_away[\"away_score\"].sum()) / (len(team_df_home) + len(team_df_away)) \n",
    "    goals_against = ((team_df_home[\"away_score\"].sum()) + team_df_away[\"home_score\"].sum()) / (len(team_df_home) + len(team_df_away)) \n",
    "    recent.iloc[index, 1] = goals\n",
    "    recent.iloc[index, 2] = goals_against\n",
    "    index += 1\n",
    "    "
   ]
  },
  {
   "cell_type": "markdown",
   "metadata": {},
   "source": [
    "##### Now we have data for all teams between 2014 and 2018"
   ]
  },
  {
   "cell_type": "code",
   "execution_count": 92,
   "metadata": {},
   "outputs": [
    {
     "data": {
      "text/html": [
       "<div>\n",
       "<style>\n",
       "    .dataframe thead tr:only-child th {\n",
       "        text-align: right;\n",
       "    }\n",
       "\n",
       "    .dataframe thead th {\n",
       "        text-align: left;\n",
       "    }\n",
       "\n",
       "    .dataframe tbody tr th {\n",
       "        vertical-align: top;\n",
       "    }\n",
       "</style>\n",
       "<table border=\"1\" class=\"dataframe\">\n",
       "  <thead>\n",
       "    <tr style=\"text-align: right;\">\n",
       "      <th></th>\n",
       "      <th>0</th>\n",
       "      <th>GoalRate</th>\n",
       "      <th>ConcedeRate</th>\n",
       "      <th>OverallWin%</th>\n",
       "      <th>Opp Toughness</th>\n",
       "    </tr>\n",
       "  </thead>\n",
       "  <tbody>\n",
       "    <tr>\n",
       "      <th>0</th>\n",
       "      <td>Tunisia</td>\n",
       "      <td>1.742857</td>\n",
       "      <td>0.914286</td>\n",
       "      <td>0.685714</td>\n",
       "      <td>0.710974</td>\n",
       "    </tr>\n",
       "    <tr>\n",
       "      <th>1</th>\n",
       "      <td>Germany</td>\n",
       "      <td>2.653846</td>\n",
       "      <td>0.769231</td>\n",
       "      <td>0.807692</td>\n",
       "      <td>0.861686</td>\n",
       "    </tr>\n",
       "    <tr>\n",
       "      <th>2</th>\n",
       "      <td>Poland</td>\n",
       "      <td>2.227273</td>\n",
       "      <td>1.136364</td>\n",
       "      <td>0.750000</td>\n",
       "      <td>0.837168</td>\n",
       "    </tr>\n",
       "    <tr>\n",
       "      <th>3</th>\n",
       "      <td>Denmark</td>\n",
       "      <td>1.750000</td>\n",
       "      <td>0.833333</td>\n",
       "      <td>0.625000</td>\n",
       "      <td>0.632286</td>\n",
       "    </tr>\n",
       "    <tr>\n",
       "      <th>4</th>\n",
       "      <td>Portugal</td>\n",
       "      <td>1.785714</td>\n",
       "      <td>0.571429</td>\n",
       "      <td>0.821429</td>\n",
       "      <td>0.899722</td>\n",
       "    </tr>\n",
       "  </tbody>\n",
       "</table>\n",
       "</div>"
      ],
      "text/plain": [
       "          0  GoalRate  ConcedeRate  OverallWin%  Opp Toughness\n",
       "0   Tunisia  1.742857     0.914286     0.685714       0.710974\n",
       "1   Germany  2.653846     0.769231     0.807692       0.861686\n",
       "2    Poland  2.227273     1.136364     0.750000       0.837168\n",
       "3   Denmark  1.750000     0.833333     0.625000       0.632286\n",
       "4  Portugal  1.785714     0.571429     0.821429       0.899722"
      ]
     },
     "execution_count": 92,
     "metadata": {},
     "output_type": "execute_result"
    }
   ],
   "source": [
    "recent.head()"
   ]
  },
  {
   "cell_type": "code",
   "execution_count": 93,
   "metadata": {
    "collapsed": true
   },
   "outputs": [],
   "source": [
    "recent[\"Trophies\"] = 0\n",
    "recent[\"Confederation\"] = 0\n",
    "recent[\"Runner-Ups\"] = 0"
   ]
  },
  {
   "cell_type": "code",
   "execution_count": 94,
   "metadata": {
    "collapsed": true
   },
   "outputs": [],
   "source": [
    "for i in range(len(recent)):\n",
    "    team = recent.iloc[i, 0]\n",
    "    try:\n",
    "        recent.iloc[i, 5] = (int(features[features[\"Team\"] == team].Trophies))\n",
    "        recent.iloc[i, 7] = (int(features[features[\"Team\"] == team][\"Runner-Ups\"]))\n",
    "        recent.iloc[i, 6] = (float(features[features[\"Team\"] == team].Confederation))\n",
    "    except:\n",
    "        recent.iloc[i, 6] = (float(oppDF[oppDF[\"index\"] == team].conf))\n",
    "        \n",
    "        \n"
   ]
  },
  {
   "cell_type": "code",
   "execution_count": 95,
   "metadata": {},
   "outputs": [
    {
     "data": {
      "text/html": [
       "<div>\n",
       "<style>\n",
       "    .dataframe thead tr:only-child th {\n",
       "        text-align: right;\n",
       "    }\n",
       "\n",
       "    .dataframe thead th {\n",
       "        text-align: left;\n",
       "    }\n",
       "\n",
       "    .dataframe tbody tr th {\n",
       "        vertical-align: top;\n",
       "    }\n",
       "</style>\n",
       "<table border=\"1\" class=\"dataframe\">\n",
       "  <thead>\n",
       "    <tr style=\"text-align: right;\">\n",
       "      <th></th>\n",
       "      <th>0</th>\n",
       "      <th>Trophies</th>\n",
       "      <th>Runner-Ups</th>\n",
       "      <th>GoalRate</th>\n",
       "      <th>ConcedeRate</th>\n",
       "      <th>OverallWin%</th>\n",
       "      <th>Opp Toughness</th>\n",
       "      <th>Confederation</th>\n",
       "    </tr>\n",
       "  </thead>\n",
       "  <tbody>\n",
       "    <tr>\n",
       "      <th>0</th>\n",
       "      <td>Tunisia</td>\n",
       "      <td>0</td>\n",
       "      <td>0</td>\n",
       "      <td>1.742857</td>\n",
       "      <td>0.914286</td>\n",
       "      <td>0.685714</td>\n",
       "      <td>0.710974</td>\n",
       "      <td>0.85</td>\n",
       "    </tr>\n",
       "    <tr>\n",
       "      <th>1</th>\n",
       "      <td>Germany</td>\n",
       "      <td>4</td>\n",
       "      <td>4</td>\n",
       "      <td>2.653846</td>\n",
       "      <td>0.769231</td>\n",
       "      <td>0.807692</td>\n",
       "      <td>0.861686</td>\n",
       "      <td>0.99</td>\n",
       "    </tr>\n",
       "    <tr>\n",
       "      <th>2</th>\n",
       "      <td>Poland</td>\n",
       "      <td>0</td>\n",
       "      <td>0</td>\n",
       "      <td>2.227273</td>\n",
       "      <td>1.136364</td>\n",
       "      <td>0.750000</td>\n",
       "      <td>0.837168</td>\n",
       "      <td>0.99</td>\n",
       "    </tr>\n",
       "    <tr>\n",
       "      <th>3</th>\n",
       "      <td>Denmark</td>\n",
       "      <td>0</td>\n",
       "      <td>0</td>\n",
       "      <td>1.750000</td>\n",
       "      <td>0.833333</td>\n",
       "      <td>0.625000</td>\n",
       "      <td>0.632286</td>\n",
       "      <td>0.99</td>\n",
       "    </tr>\n",
       "    <tr>\n",
       "      <th>4</th>\n",
       "      <td>Portugal</td>\n",
       "      <td>0</td>\n",
       "      <td>0</td>\n",
       "      <td>1.785714</td>\n",
       "      <td>0.571429</td>\n",
       "      <td>0.821429</td>\n",
       "      <td>0.899722</td>\n",
       "      <td>0.99</td>\n",
       "    </tr>\n",
       "  </tbody>\n",
       "</table>\n",
       "</div>"
      ],
      "text/plain": [
       "          0  Trophies  Runner-Ups  GoalRate  ConcedeRate  OverallWin%  \\\n",
       "0   Tunisia         0           0  1.742857     0.914286     0.685714   \n",
       "1   Germany         4           4  2.653846     0.769231     0.807692   \n",
       "2    Poland         0           0  2.227273     1.136364     0.750000   \n",
       "3   Denmark         0           0  1.750000     0.833333     0.625000   \n",
       "4  Portugal         0           0  1.785714     0.571429     0.821429   \n",
       "\n",
       "   Opp Toughness  Confederation  \n",
       "0       0.710974           0.85  \n",
       "1       0.861686           0.99  \n",
       "2       0.837168           0.99  \n",
       "3       0.632286           0.99  \n",
       "4       0.899722           0.99  "
      ]
     },
     "execution_count": 95,
     "metadata": {},
     "output_type": "execute_result"
    }
   ],
   "source": [
    "cols = recent.columns.tolist()\n",
    "cols = [(cols[0])] + [cols[5]] + [cols[7]] + cols[1:5] + [cols[6]]\n",
    "recent = recent[cols]\n",
    "recent.head()"
   ]
  },
  {
   "cell_type": "markdown",
   "metadata": {},
   "source": [
    "## Prediction\n",
    "\n",
    "Construct our X_test data using all games played from 2014-2018."
   ]
  },
  {
   "cell_type": "code",
   "execution_count": 96,
   "metadata": {
    "collapsed": true
   },
   "outputs": [],
   "source": [
    "X_predict = recent.iloc[:, 1:8].as_matrix()\n",
    "y = regr.predict(X_predict)\n",
    "recent[\"Predictions\"] = pd.DataFrame(y)\n",
    "ordered = recent.sort_values(\"Predictions\", ascending = False)"
   ]
  },
  {
   "cell_type": "markdown",
   "metadata": {},
   "source": [
    "Using the coefficients obtained from the Linear Regression previously, we now use that on our test data and check out the estimated points."
   ]
  },
  {
   "cell_type": "code",
   "execution_count": 97,
   "metadata": {},
   "outputs": [
    {
     "data": {
      "text/html": [
       "<div>\n",
       "<style>\n",
       "    .dataframe thead tr:only-child th {\n",
       "        text-align: right;\n",
       "    }\n",
       "\n",
       "    .dataframe thead th {\n",
       "        text-align: left;\n",
       "    }\n",
       "\n",
       "    .dataframe tbody tr th {\n",
       "        vertical-align: top;\n",
       "    }\n",
       "</style>\n",
       "<table border=\"1\" class=\"dataframe\">\n",
       "  <thead>\n",
       "    <tr style=\"text-align: right;\">\n",
       "      <th></th>\n",
       "      <th>0</th>\n",
       "      <th>Trophies</th>\n",
       "      <th>Runner-Ups</th>\n",
       "      <th>GoalRate</th>\n",
       "      <th>ConcedeRate</th>\n",
       "      <th>OverallWin%</th>\n",
       "      <th>Opp Toughness</th>\n",
       "      <th>Confederation</th>\n",
       "      <th>Predictions</th>\n",
       "    </tr>\n",
       "  </thead>\n",
       "  <tbody>\n",
       "    <tr>\n",
       "      <th>1</th>\n",
       "      <td>Germany</td>\n",
       "      <td>4</td>\n",
       "      <td>4</td>\n",
       "      <td>2.653846</td>\n",
       "      <td>0.769231</td>\n",
       "      <td>0.807692</td>\n",
       "      <td>0.861686</td>\n",
       "      <td>0.99</td>\n",
       "      <td>1101.084875</td>\n",
       "    </tr>\n",
       "    <tr>\n",
       "      <th>29</th>\n",
       "      <td>Brazil</td>\n",
       "      <td>5</td>\n",
       "      <td>2</td>\n",
       "      <td>1.888889</td>\n",
       "      <td>0.666667</td>\n",
       "      <td>0.722222</td>\n",
       "      <td>0.678712</td>\n",
       "      <td>1.00</td>\n",
       "      <td>1048.366265</td>\n",
       "    </tr>\n",
       "    <tr>\n",
       "      <th>6</th>\n",
       "      <td>Argentina</td>\n",
       "      <td>2</td>\n",
       "      <td>3</td>\n",
       "      <td>1.791667</td>\n",
       "      <td>0.541667</td>\n",
       "      <td>0.750000</td>\n",
       "      <td>0.749411</td>\n",
       "      <td>1.00</td>\n",
       "      <td>656.158187</td>\n",
       "    </tr>\n",
       "    <tr>\n",
       "      <th>23</th>\n",
       "      <td>Spain</td>\n",
       "      <td>1</td>\n",
       "      <td>0</td>\n",
       "      <td>2.666667</td>\n",
       "      <td>0.416667</td>\n",
       "      <td>0.854167</td>\n",
       "      <td>0.741233</td>\n",
       "      <td>0.99</td>\n",
       "      <td>410.303266</td>\n",
       "    </tr>\n",
       "    <tr>\n",
       "      <th>16</th>\n",
       "      <td>Uruguay</td>\n",
       "      <td>2</td>\n",
       "      <td>0</td>\n",
       "      <td>1.333333</td>\n",
       "      <td>1.166667</td>\n",
       "      <td>0.472222</td>\n",
       "      <td>0.510569</td>\n",
       "      <td>1.00</td>\n",
       "      <td>400.578876</td>\n",
       "    </tr>\n",
       "  </tbody>\n",
       "</table>\n",
       "</div>"
      ],
      "text/plain": [
       "            0  Trophies  Runner-Ups  GoalRate  ConcedeRate  OverallWin%  \\\n",
       "1     Germany         4           4  2.653846     0.769231     0.807692   \n",
       "29     Brazil         5           2  1.888889     0.666667     0.722222   \n",
       "6   Argentina         2           3  1.791667     0.541667     0.750000   \n",
       "23      Spain         1           0  2.666667     0.416667     0.854167   \n",
       "16    Uruguay         2           0  1.333333     1.166667     0.472222   \n",
       "\n",
       "    Opp Toughness  Confederation  Predictions  \n",
       "1        0.861686           0.99  1101.084875  \n",
       "29       0.678712           1.00  1048.366265  \n",
       "6        0.749411           1.00   656.158187  \n",
       "23       0.741233           0.99   410.303266  \n",
       "16       0.510569           1.00   400.578876  "
      ]
     },
     "execution_count": 97,
     "metadata": {},
     "output_type": "execute_result"
    }
   ],
   "source": [
    "ordered.head()"
   ]
  },
  {
   "cell_type": "markdown",
   "metadata": {},
   "source": [
    "Calculate the percentage chance of every team winning the world cup."
   ]
  },
  {
   "cell_type": "code",
   "execution_count": 98,
   "metadata": {
    "collapsed": true
   },
   "outputs": [],
   "source": [
    "# Normalize\n",
    "count = 0\n",
    "for elem in recent[\"Predictions\"]:\n",
    "    count += elem\n",
    "factor = 1.0/count\n",
    "ordered[\"Odds\"] = ordered[\"Predictions\"] * factor * 100"
   ]
  },
  {
   "cell_type": "code",
   "execution_count": 99,
   "metadata": {},
   "outputs": [
    {
     "data": {
      "text/html": [
       "<div>\n",
       "<style>\n",
       "    .dataframe thead tr:only-child th {\n",
       "        text-align: right;\n",
       "    }\n",
       "\n",
       "    .dataframe thead th {\n",
       "        text-align: left;\n",
       "    }\n",
       "\n",
       "    .dataframe tbody tr th {\n",
       "        vertical-align: top;\n",
       "    }\n",
       "</style>\n",
       "<table border=\"1\" class=\"dataframe\">\n",
       "  <thead>\n",
       "    <tr style=\"text-align: right;\">\n",
       "      <th></th>\n",
       "      <th>0</th>\n",
       "      <th>Trophies</th>\n",
       "      <th>Runner-Ups</th>\n",
       "      <th>GoalRate</th>\n",
       "      <th>ConcedeRate</th>\n",
       "      <th>OverallWin%</th>\n",
       "      <th>Opp Toughness</th>\n",
       "      <th>Confederation</th>\n",
       "      <th>Predictions</th>\n",
       "      <th>Odds</th>\n",
       "    </tr>\n",
       "  </thead>\n",
       "  <tbody>\n",
       "    <tr>\n",
       "      <th>1</th>\n",
       "      <td>Germany</td>\n",
       "      <td>4</td>\n",
       "      <td>4</td>\n",
       "      <td>2.653846</td>\n",
       "      <td>0.769231</td>\n",
       "      <td>0.807692</td>\n",
       "      <td>0.861686</td>\n",
       "      <td>0.99</td>\n",
       "      <td>1101.084875</td>\n",
       "      <td>13.099661</td>\n",
       "    </tr>\n",
       "    <tr>\n",
       "      <th>29</th>\n",
       "      <td>Brazil</td>\n",
       "      <td>5</td>\n",
       "      <td>2</td>\n",
       "      <td>1.888889</td>\n",
       "      <td>0.666667</td>\n",
       "      <td>0.722222</td>\n",
       "      <td>0.678712</td>\n",
       "      <td>1.00</td>\n",
       "      <td>1048.366265</td>\n",
       "      <td>12.472465</td>\n",
       "    </tr>\n",
       "    <tr>\n",
       "      <th>6</th>\n",
       "      <td>Argentina</td>\n",
       "      <td>2</td>\n",
       "      <td>3</td>\n",
       "      <td>1.791667</td>\n",
       "      <td>0.541667</td>\n",
       "      <td>0.750000</td>\n",
       "      <td>0.749411</td>\n",
       "      <td>1.00</td>\n",
       "      <td>656.158187</td>\n",
       "      <td>7.806346</td>\n",
       "    </tr>\n",
       "    <tr>\n",
       "      <th>23</th>\n",
       "      <td>Spain</td>\n",
       "      <td>1</td>\n",
       "      <td>0</td>\n",
       "      <td>2.666667</td>\n",
       "      <td>0.416667</td>\n",
       "      <td>0.854167</td>\n",
       "      <td>0.741233</td>\n",
       "      <td>0.99</td>\n",
       "      <td>410.303266</td>\n",
       "      <td>4.881398</td>\n",
       "    </tr>\n",
       "    <tr>\n",
       "      <th>16</th>\n",
       "      <td>Uruguay</td>\n",
       "      <td>2</td>\n",
       "      <td>0</td>\n",
       "      <td>1.333333</td>\n",
       "      <td>1.166667</td>\n",
       "      <td>0.472222</td>\n",
       "      <td>0.510569</td>\n",
       "      <td>1.00</td>\n",
       "      <td>400.578876</td>\n",
       "      <td>4.765706</td>\n",
       "    </tr>\n",
       "    <tr>\n",
       "      <th>9</th>\n",
       "      <td>France</td>\n",
       "      <td>1</td>\n",
       "      <td>1</td>\n",
       "      <td>1.823529</td>\n",
       "      <td>0.647059</td>\n",
       "      <td>0.794118</td>\n",
       "      <td>0.872486</td>\n",
       "      <td>0.99</td>\n",
       "      <td>391.957698</td>\n",
       "      <td>4.663140</td>\n",
       "    </tr>\n",
       "    <tr>\n",
       "      <th>17</th>\n",
       "      <td>England</td>\n",
       "      <td>1</td>\n",
       "      <td>0</td>\n",
       "      <td>2.208333</td>\n",
       "      <td>0.416667</td>\n",
       "      <td>0.875000</td>\n",
       "      <td>0.782092</td>\n",
       "      <td>0.99</td>\n",
       "      <td>369.635561</td>\n",
       "      <td>4.397572</td>\n",
       "    </tr>\n",
       "    <tr>\n",
       "      <th>26</th>\n",
       "      <td>Belgium</td>\n",
       "      <td>0</td>\n",
       "      <td>0</td>\n",
       "      <td>2.652174</td>\n",
       "      <td>0.695652</td>\n",
       "      <td>0.804348</td>\n",
       "      <td>0.712045</td>\n",
       "      <td>0.99</td>\n",
       "      <td>251.438470</td>\n",
       "      <td>2.991376</td>\n",
       "    </tr>\n",
       "    <tr>\n",
       "      <th>14</th>\n",
       "      <td>Japan</td>\n",
       "      <td>0</td>\n",
       "      <td>0</td>\n",
       "      <td>2.241379</td>\n",
       "      <td>0.689655</td>\n",
       "      <td>0.724138</td>\n",
       "      <td>0.831078</td>\n",
       "      <td>0.85</td>\n",
       "      <td>215.250187</td>\n",
       "      <td>2.560842</td>\n",
       "    </tr>\n",
       "    <tr>\n",
       "      <th>5</th>\n",
       "      <td>Australia</td>\n",
       "      <td>0</td>\n",
       "      <td>0</td>\n",
       "      <td>2.225806</td>\n",
       "      <td>0.838710</td>\n",
       "      <td>0.741935</td>\n",
       "      <td>0.887485</td>\n",
       "      <td>0.85</td>\n",
       "      <td>214.277317</td>\n",
       "      <td>2.549268</td>\n",
       "    </tr>\n",
       "    <tr>\n",
       "      <th>11</th>\n",
       "      <td>Sweden</td>\n",
       "      <td>0</td>\n",
       "      <td>1</td>\n",
       "      <td>1.740741</td>\n",
       "      <td>0.888889</td>\n",
       "      <td>0.611111</td>\n",
       "      <td>0.556148</td>\n",
       "      <td>0.99</td>\n",
       "      <td>210.801501</td>\n",
       "      <td>2.507916</td>\n",
       "    </tr>\n",
       "    <tr>\n",
       "      <th>22</th>\n",
       "      <td>Saudi Arabia</td>\n",
       "      <td>0</td>\n",
       "      <td>0</td>\n",
       "      <td>2.269231</td>\n",
       "      <td>0.923077</td>\n",
       "      <td>0.692308</td>\n",
       "      <td>0.745112</td>\n",
       "      <td>0.85</td>\n",
       "      <td>209.295510</td>\n",
       "      <td>2.489999</td>\n",
       "    </tr>\n",
       "    <tr>\n",
       "      <th>2</th>\n",
       "      <td>Poland</td>\n",
       "      <td>0</td>\n",
       "      <td>0</td>\n",
       "      <td>2.227273</td>\n",
       "      <td>1.136364</td>\n",
       "      <td>0.750000</td>\n",
       "      <td>0.837168</td>\n",
       "      <td>0.99</td>\n",
       "      <td>207.786269</td>\n",
       "      <td>2.472043</td>\n",
       "    </tr>\n",
       "    <tr>\n",
       "      <th>7</th>\n",
       "      <td>Switzerland</td>\n",
       "      <td>0</td>\n",
       "      <td>0</td>\n",
       "      <td>2.090909</td>\n",
       "      <td>0.772727</td>\n",
       "      <td>0.750000</td>\n",
       "      <td>0.608477</td>\n",
       "      <td>0.99</td>\n",
       "      <td>191.258232</td>\n",
       "      <td>2.275409</td>\n",
       "    </tr>\n",
       "    <tr>\n",
       "      <th>27</th>\n",
       "      <td>Korea Republic</td>\n",
       "      <td>0</td>\n",
       "      <td>0</td>\n",
       "      <td>1.821429</td>\n",
       "      <td>0.500000</td>\n",
       "      <td>0.767857</td>\n",
       "      <td>0.947236</td>\n",
       "      <td>0.85</td>\n",
       "      <td>185.293116</td>\n",
       "      <td>2.204441</td>\n",
       "    </tr>\n",
       "    <tr>\n",
       "      <th>4</th>\n",
       "      <td>Portugal</td>\n",
       "      <td>0</td>\n",
       "      <td>0</td>\n",
       "      <td>1.785714</td>\n",
       "      <td>0.571429</td>\n",
       "      <td>0.821429</td>\n",
       "      <td>0.899722</td>\n",
       "      <td>0.99</td>\n",
       "      <td>180.639921</td>\n",
       "      <td>2.149082</td>\n",
       "    </tr>\n",
       "    <tr>\n",
       "      <th>13</th>\n",
       "      <td>Senegal</td>\n",
       "      <td>0</td>\n",
       "      <td>0</td>\n",
       "      <td>1.766667</td>\n",
       "      <td>0.600000</td>\n",
       "      <td>0.783333</td>\n",
       "      <td>0.853276</td>\n",
       "      <td>0.85</td>\n",
       "      <td>174.955749</td>\n",
       "      <td>2.081457</td>\n",
       "    </tr>\n",
       "    <tr>\n",
       "      <th>30</th>\n",
       "      <td>Iran</td>\n",
       "      <td>0</td>\n",
       "      <td>0</td>\n",
       "      <td>1.550000</td>\n",
       "      <td>0.400000</td>\n",
       "      <td>0.825000</td>\n",
       "      <td>1.020087</td>\n",
       "      <td>0.85</td>\n",
       "      <td>166.375066</td>\n",
       "      <td>1.979372</td>\n",
       "    </tr>\n",
       "    <tr>\n",
       "      <th>0</th>\n",
       "      <td>Tunisia</td>\n",
       "      <td>0</td>\n",
       "      <td>0</td>\n",
       "      <td>1.742857</td>\n",
       "      <td>0.914286</td>\n",
       "      <td>0.685714</td>\n",
       "      <td>0.710974</td>\n",
       "      <td>0.85</td>\n",
       "      <td>158.305796</td>\n",
       "      <td>1.883372</td>\n",
       "    </tr>\n",
       "    <tr>\n",
       "      <th>21</th>\n",
       "      <td>Mexico</td>\n",
       "      <td>0</td>\n",
       "      <td>0</td>\n",
       "      <td>1.722222</td>\n",
       "      <td>1.083333</td>\n",
       "      <td>0.680556</td>\n",
       "      <td>0.816632</td>\n",
       "      <td>0.85</td>\n",
       "      <td>157.900904</td>\n",
       "      <td>1.878555</td>\n",
       "    </tr>\n",
       "    <tr>\n",
       "      <th>19</th>\n",
       "      <td>Croatia</td>\n",
       "      <td>0</td>\n",
       "      <td>0</td>\n",
       "      <td>1.692308</td>\n",
       "      <td>0.538462</td>\n",
       "      <td>0.711538</td>\n",
       "      <td>0.640878</td>\n",
       "      <td>0.99</td>\n",
       "      <td>157.866909</td>\n",
       "      <td>1.878150</td>\n",
       "    </tr>\n",
       "    <tr>\n",
       "      <th>3</th>\n",
       "      <td>Denmark</td>\n",
       "      <td>0</td>\n",
       "      <td>0</td>\n",
       "      <td>1.750000</td>\n",
       "      <td>0.833333</td>\n",
       "      <td>0.625000</td>\n",
       "      <td>0.632286</td>\n",
       "      <td>0.99</td>\n",
       "      <td>155.264841</td>\n",
       "      <td>1.847193</td>\n",
       "    </tr>\n",
       "    <tr>\n",
       "      <th>25</th>\n",
       "      <td>Iceland</td>\n",
       "      <td>0</td>\n",
       "      <td>0</td>\n",
       "      <td>1.640000</td>\n",
       "      <td>0.880000</td>\n",
       "      <td>0.700000</td>\n",
       "      <td>0.756085</td>\n",
       "      <td>0.99</td>\n",
       "      <td>151.816863</td>\n",
       "      <td>1.806173</td>\n",
       "    </tr>\n",
       "    <tr>\n",
       "      <th>24</th>\n",
       "      <td>Morocco</td>\n",
       "      <td>0</td>\n",
       "      <td>0</td>\n",
       "      <td>1.541667</td>\n",
       "      <td>0.458333</td>\n",
       "      <td>0.666667</td>\n",
       "      <td>0.771632</td>\n",
       "      <td>0.85</td>\n",
       "      <td>148.984141</td>\n",
       "      <td>1.772472</td>\n",
       "    </tr>\n",
       "    <tr>\n",
       "      <th>12</th>\n",
       "      <td>Russia</td>\n",
       "      <td>0</td>\n",
       "      <td>0</td>\n",
       "      <td>1.625000</td>\n",
       "      <td>0.875000</td>\n",
       "      <td>0.531250</td>\n",
       "      <td>0.483966</td>\n",
       "      <td>0.99</td>\n",
       "      <td>133.513411</td>\n",
       "      <td>1.588416</td>\n",
       "    </tr>\n",
       "    <tr>\n",
       "      <th>18</th>\n",
       "      <td>Egypt</td>\n",
       "      <td>0</td>\n",
       "      <td>0</td>\n",
       "      <td>1.360000</td>\n",
       "      <td>0.640000</td>\n",
       "      <td>0.640000</td>\n",
       "      <td>0.717328</td>\n",
       "      <td>0.85</td>\n",
       "      <td>125.718094</td>\n",
       "      <td>1.495674</td>\n",
       "    </tr>\n",
       "    <tr>\n",
       "      <th>20</th>\n",
       "      <td>Nigeria</td>\n",
       "      <td>0</td>\n",
       "      <td>0</td>\n",
       "      <td>1.360000</td>\n",
       "      <td>0.720000</td>\n",
       "      <td>0.620000</td>\n",
       "      <td>0.695422</td>\n",
       "      <td>0.85</td>\n",
       "      <td>122.814961</td>\n",
       "      <td>1.461136</td>\n",
       "    </tr>\n",
       "    <tr>\n",
       "      <th>15</th>\n",
       "      <td>Serbia</td>\n",
       "      <td>0</td>\n",
       "      <td>0</td>\n",
       "      <td>1.500000</td>\n",
       "      <td>1.277778</td>\n",
       "      <td>0.555556</td>\n",
       "      <td>0.465972</td>\n",
       "      <td>0.99</td>\n",
       "      <td>115.055575</td>\n",
       "      <td>1.368822</td>\n",
       "    </tr>\n",
       "    <tr>\n",
       "      <th>8</th>\n",
       "      <td>Costa Rica</td>\n",
       "      <td>0</td>\n",
       "      <td>0</td>\n",
       "      <td>1.310345</td>\n",
       "      <td>0.896552</td>\n",
       "      <td>0.603448</td>\n",
       "      <td>0.663463</td>\n",
       "      <td>0.85</td>\n",
       "      <td>113.315999</td>\n",
       "      <td>1.348126</td>\n",
       "    </tr>\n",
       "    <tr>\n",
       "      <th>31</th>\n",
       "      <td>Peru</td>\n",
       "      <td>0</td>\n",
       "      <td>0</td>\n",
       "      <td>1.240000</td>\n",
       "      <td>0.880000</td>\n",
       "      <td>0.600000</td>\n",
       "      <td>0.597854</td>\n",
       "      <td>1.00</td>\n",
       "      <td>104.309826</td>\n",
       "      <td>1.240979</td>\n",
       "    </tr>\n",
       "    <tr>\n",
       "      <th>10</th>\n",
       "      <td>Colombia</td>\n",
       "      <td>0</td>\n",
       "      <td>0</td>\n",
       "      <td>1.080000</td>\n",
       "      <td>0.840000</td>\n",
       "      <td>0.560000</td>\n",
       "      <td>0.577156</td>\n",
       "      <td>1.00</td>\n",
       "      <td>87.787237</td>\n",
       "      <td>1.044409</td>\n",
       "    </tr>\n",
       "    <tr>\n",
       "      <th>28</th>\n",
       "      <td>Panama</td>\n",
       "      <td>0</td>\n",
       "      <td>0</td>\n",
       "      <td>1.133333</td>\n",
       "      <td>1.200000</td>\n",
       "      <td>0.533333</td>\n",
       "      <td>0.615113</td>\n",
       "      <td>0.85</td>\n",
       "      <td>87.335264</td>\n",
       "      <td>1.039032</td>\n",
       "    </tr>\n",
       "  </tbody>\n",
       "</table>\n",
       "</div>"
      ],
      "text/plain": [
       "                 0  Trophies  Runner-Ups  GoalRate  ConcedeRate  OverallWin%  \\\n",
       "1          Germany         4           4  2.653846     0.769231     0.807692   \n",
       "29          Brazil         5           2  1.888889     0.666667     0.722222   \n",
       "6        Argentina         2           3  1.791667     0.541667     0.750000   \n",
       "23           Spain         1           0  2.666667     0.416667     0.854167   \n",
       "16         Uruguay         2           0  1.333333     1.166667     0.472222   \n",
       "9           France         1           1  1.823529     0.647059     0.794118   \n",
       "17         England         1           0  2.208333     0.416667     0.875000   \n",
       "26         Belgium         0           0  2.652174     0.695652     0.804348   \n",
       "14           Japan         0           0  2.241379     0.689655     0.724138   \n",
       "5        Australia         0           0  2.225806     0.838710     0.741935   \n",
       "11          Sweden         0           1  1.740741     0.888889     0.611111   \n",
       "22    Saudi Arabia         0           0  2.269231     0.923077     0.692308   \n",
       "2           Poland         0           0  2.227273     1.136364     0.750000   \n",
       "7      Switzerland         0           0  2.090909     0.772727     0.750000   \n",
       "27  Korea Republic         0           0  1.821429     0.500000     0.767857   \n",
       "4         Portugal         0           0  1.785714     0.571429     0.821429   \n",
       "13         Senegal         0           0  1.766667     0.600000     0.783333   \n",
       "30            Iran         0           0  1.550000     0.400000     0.825000   \n",
       "0          Tunisia         0           0  1.742857     0.914286     0.685714   \n",
       "21          Mexico         0           0  1.722222     1.083333     0.680556   \n",
       "19         Croatia         0           0  1.692308     0.538462     0.711538   \n",
       "3          Denmark         0           0  1.750000     0.833333     0.625000   \n",
       "25         Iceland         0           0  1.640000     0.880000     0.700000   \n",
       "24         Morocco         0           0  1.541667     0.458333     0.666667   \n",
       "12          Russia         0           0  1.625000     0.875000     0.531250   \n",
       "18           Egypt         0           0  1.360000     0.640000     0.640000   \n",
       "20         Nigeria         0           0  1.360000     0.720000     0.620000   \n",
       "15          Serbia         0           0  1.500000     1.277778     0.555556   \n",
       "8       Costa Rica         0           0  1.310345     0.896552     0.603448   \n",
       "31            Peru         0           0  1.240000     0.880000     0.600000   \n",
       "10        Colombia         0           0  1.080000     0.840000     0.560000   \n",
       "28          Panama         0           0  1.133333     1.200000     0.533333   \n",
       "\n",
       "    Opp Toughness  Confederation  Predictions       Odds  \n",
       "1        0.861686           0.99  1101.084875  13.099661  \n",
       "29       0.678712           1.00  1048.366265  12.472465  \n",
       "6        0.749411           1.00   656.158187   7.806346  \n",
       "23       0.741233           0.99   410.303266   4.881398  \n",
       "16       0.510569           1.00   400.578876   4.765706  \n",
       "9        0.872486           0.99   391.957698   4.663140  \n",
       "17       0.782092           0.99   369.635561   4.397572  \n",
       "26       0.712045           0.99   251.438470   2.991376  \n",
       "14       0.831078           0.85   215.250187   2.560842  \n",
       "5        0.887485           0.85   214.277317   2.549268  \n",
       "11       0.556148           0.99   210.801501   2.507916  \n",
       "22       0.745112           0.85   209.295510   2.489999  \n",
       "2        0.837168           0.99   207.786269   2.472043  \n",
       "7        0.608477           0.99   191.258232   2.275409  \n",
       "27       0.947236           0.85   185.293116   2.204441  \n",
       "4        0.899722           0.99   180.639921   2.149082  \n",
       "13       0.853276           0.85   174.955749   2.081457  \n",
       "30       1.020087           0.85   166.375066   1.979372  \n",
       "0        0.710974           0.85   158.305796   1.883372  \n",
       "21       0.816632           0.85   157.900904   1.878555  \n",
       "19       0.640878           0.99   157.866909   1.878150  \n",
       "3        0.632286           0.99   155.264841   1.847193  \n",
       "25       0.756085           0.99   151.816863   1.806173  \n",
       "24       0.771632           0.85   148.984141   1.772472  \n",
       "12       0.483966           0.99   133.513411   1.588416  \n",
       "18       0.717328           0.85   125.718094   1.495674  \n",
       "20       0.695422           0.85   122.814961   1.461136  \n",
       "15       0.465972           0.99   115.055575   1.368822  \n",
       "8        0.663463           0.85   113.315999   1.348126  \n",
       "31       0.597854           1.00   104.309826   1.240979  \n",
       "10       0.577156           1.00    87.787237   1.044409  \n",
       "28       0.615113           0.85    87.335264   1.039032  "
      ]
     },
     "execution_count": 99,
     "metadata": {},
     "output_type": "execute_result"
    }
   ],
   "source": [
    "ordered"
   ]
  },
  {
   "cell_type": "markdown",
   "metadata": {},
   "source": [
    "## Visualization of our Predicted Percentages"
   ]
  },
  {
   "cell_type": "code",
   "execution_count": 100,
   "metadata": {},
   "outputs": [
    {
     "data": {
      "image/png": "[encoded data removed]",
      "text/plain": [
       "<matplotlib.figure.Figure at 0x1a0e001a20>"
      ]
     },
     "metadata": {},
     "output_type": "display_data"
    }
   ],
   "source": [
    "ordered.set_index([0], inplace = True)\n",
    "odds = ordered[\"Odds\"].plot(kind = \"bar\", figsize = (20, 5), title = \"Percentage Odds for Winning World Cup\", rot = 45, legend = True)\n",
    "odds.set_ylabel(\"Percentages\", fontsize = 15)\n",
    "plt.show()"
   ]
  },
  {
   "cell_type": "markdown",
   "metadata": {},
   "source": [
    "###  So clearly, we can see that Germany, Brazil, Argentina and Spain have the best odds to win the cup. On the other hand, first timers Panama, have the lowest odds to win it - based on this Linear Regression Model\n",
    "### Will Germany retain the crown? Will Messi finally win that World Cup that has eluded his illustrious career? Or will England finally silience their critics and cause a major upset?\n",
    "\n",
    "## June 14th, 2018. I'll see you there! Let's see how our Model will fare! "
   ]
  },
  {
   "cell_type": "code",
   "execution_count": null,
   "metadata": {
    "collapsed": true
   },
   "outputs": [],
   "source": []
  }
 ],
 "metadata": {
  "kernelspec": {
   "display_name": "Python 3",
   "language": "python",
   "name": "python3"
  },
  "language_info": {
   "codemirror_mode": {
    "name": "ipython",
    "version": 3
   },
   "file_extension": ".py",
   "mimetype": "text/x-python",
   "name": "python",
   "nbconvert_exporter": "python",
   "pygments_lexer": "ipython3",
   "version": "3.6.4"
  }
 },
 "nbformat": 4,
 "nbformat_minor": 2
}