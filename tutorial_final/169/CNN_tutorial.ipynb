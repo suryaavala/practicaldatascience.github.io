{
 "cells": [
  {
   "cell_type": "markdown",
   "metadata": {},
   "source": [
    "# Deep Learning(CNNs) in Data science"
   ]
  },
  {
   "cell_type": "markdown",
   "metadata": {},
   "source": [
    "## Introduction\n",
    "In the last few years, deep learning has proven itself to be the gold standard when it comes to classifying images. Deep Learning is an umbrella term that encompasses several multi layered neural networks. While Deep Learning can be applied to many problem settings, two application areas where it has produced remarkable results are in image classification and speech recognition. For image classification, the most popular network models are called Convolutional Neural Networks(CNN), and for speech recognition, the networks used are Recurrent Neural Networks(RNN)\n",
    "\n",
    "In this tutorial, we shall introduce Convolutional Neural Networks(CNN) to the reader, and demonstrate their use in image classification and an application in style detection specifically in the context of fashion.\n",
    "\n",
    "This tutorial would help the reader understand -\n",
    "* Convolution in the context of images.\n",
    "* Motivation for using CNNs over traditional fully connected Neural Nets for image classification.\n",
    "* How to Create and manipulate Deep Learning models using tensorflow.\n",
    "* How CNNs can be used in a data science setting.\n",
    "\n",
    "Note that the tutorial expects the reader to have some background in machine learning and neural networks as taught in class.\n"
   ]
  },
  {
   "cell_type": "markdown",
   "metadata": {},
   "source": [
    "## Building blocks of a CNN:\n",
    "\n",
    "### Convolutional Layer:\n",
    "The convolution operation in the context of deep learning refers to a simple dot product of a region in an image with another matrix which is known as the filter or kernel.\n",
    "\n",
    "It is illustrated in the image below(Taken from the book Deeplearning by Ian Goodfellow)\n",
    "<img src=\"http://drive.google.com/uc?export=view&id=1gP_5Ig0xuaFKl3mYJ-Ce9BnYP7mYur_u\">\n",
    "In this picture, the size of the kernel is 2x2 and the result of the point multiplication with various 2x2 sections in the input is shown.\n",
    "The picture shows the covolution operation between a 2D input and a 2D filter. Images with colour usually have 3 data planes - one each for Red, Blue and Green color components. Each component is called a channel, and the input would generally have the shape - [n_channels(3), Height, Width]. Similarly, the filters used would also be 3D, where a matrix is specified for each channel. The result is still the dot product of an image region with the filter. <br>\n",
    "The kernel in this picture moves one step in x and y directions. Thus, the filter in this case is said to have a stride of 1"
   ]
  },
  {
   "cell_type": "markdown",
   "metadata": {},
   "source": [
    "### Pooling Layer:\n",
    "A pooling function replaces the output of the layer with a summary of a region of inputs. For example maxpooling would output the maximum value within a certain window of the input. The purpose of the pooling layer is to make the network invariant to small translations(the object of interest could be at a slightly different location in the image). In the image below a 2x2 maxpooling operation is demonstrated\n",
    "<img src=\"http://drive.google.com/uc?export=view&id=1r3cm1kany6g9FAtMeLF8DJqJ_XI-rxU_\">"
   ]
  },
  {
   "cell_type": "markdown",
   "metadata": {},
   "source": [
    "### Dropout Regularization:\n",
    "Dropout layer drops certain neurons in a layer during training. This acts as a form of regularization so as to avoid overfitting.\n",
    "<img src=\"http://drive.google.com/uc?export=view&id=1Xik1Gmyr5cUaNTGS3lPZ_ZD05noe-mDv\">"
   ]
  },
  {
   "cell_type": "markdown",
   "metadata": {},
   "source": [
    "### Fully connected Layer:\n",
    "After several layers of convolution + maxpool + dropout(optional), you would have a fully connected layer at the end, the output of which would be a classification score\n",
    "<img src=\"http://drive.google.com/uc?export=view&id=1D-FFFXgG3-CrYCVJqIbyj5cQaRI5LSa7\">"
   ]
  },
  {
   "cell_type": "markdown",
   "metadata": {},
   "source": [
    "## Our model:\n",
    "Deep learning models for image classification are an area of active research, and every year new models emerge that question what we know about CNNs. One such model is described in the paper - https://arxiv.org/pdf/1412.6806.pdf, and this is what we would be implementing in this tutorial.\n",
    "\n",
    "The key takeaways from this paper are as follows -\n",
    "- Use strided convolution instead of max pooling for dimensionality reduction.\n",
    "- Use smaller convulutional kernels, that would greatly reduce the number of parameters and thus serve as a form of regularization.\n",
    "- Use 1x1 convolutions at the top layers. The idea being that \"if the image area covered by units in the topmost convolutional layer covers a portion of the image large enough to recognize its content (i.e. the object we want to recognize) then fully connected layers can also be replaced by simple 1-by-1 convolutions.This leads to predictions of object classes at different positions which can then simply be averaged over the whole image.\" Thus the fully connected layers at the top could simply be replaced by an averaging layer.\n",
    "\n",
    "The model graph looks like this.<br>\n",
    "3x3 conv with 96 filters, stride-1<br>\n",
    "3x3 conv with 96 filters, stride-1<br>\n",
    "3x3 conv with 96 filters, stride-2<br>\n",
    "Dropout - 0.5 - Drop Neurons with probability 0.5<br>\n",
    "3x3 conv with 192 filters, stride-1<br>\n",
    "3x3 conv with 192 filters, stride-1<br>\n",
    "3x3 conv with 192 filters, stride-2<br>\n",
    "Dropout - 0.5<br>\n",
    "3x3 conv with 192 filters, stride-1<br>\n",
    "1x1 conv with 192 filters, stride-1<br>\n",
    "1x1 conv with 192 filters, stride-1<br>\n",
    "1x1 conv with 10 filters, stride-1<br>\n",
    "Average pooling<br>\n",
    "softmax->cross entropy<br>\n",
    "Adam Optimizer<br>\n",
    "Note that all the above conv layers use a ReLu activation function.\n"
   ]
  },
  {
   "cell_type": "markdown",
   "metadata": {},
   "source": [
    "## Dataset\n",
    "The dataset we will be using for this tutorial is the Fashion1000 dataset. <br>\n",
    "Here I shall briefly discuss how the dataset was curated and the parts of the dataset that we would be using for training our model.<br>\n",
    "The team obtained a list of fashion topics or tags from the Wikipedia page \"Index of Fashion articles\". They then used this information as category labels and went about crawling flickr to download images and metadata related to these tags. They were able to download upwards of 32000 images that fall under 262 categories, where each category contains atleast 10 images. It should be noted that the dataset by itself is extremely noisy, since most of the images in a category are completely unrelated to fashion let alone the category under which it was downloaded. For instance you might see an image of a sunset under the label \"Choker\". This is probably more reflective of users' tagging behaviour than a bug in their crawler. They then ran a crowd sourcing effort, where they would show a user 4 images, and ask them to answer a variety of questions. The questions that are most related to what we use in this tutorial are the following -<br>\n",
    "* Fashion / Clothing Related\n",
    "    Is the image related to fashion or clothing? In other words, does the image show a clothing item or\n",
    "    fashion accessory at all?\n",
    "* Specialty clothing item\n",
    "    In your opinion, does the picture below show (Insert Category under which it was collected)?\n",
    "    for eg: If the category under which the image was download is \"Jacket\", the question would be-\n",
    "    In your opinion, does the picture below show Jacket?\n",
    "* Number of people\n",
    "    How many people are depicted in the picture?\n",
    "    \n",
    "For more information related to the dataset, please refer their readme at -<br> http://www.st.ewi.tudelft.nl/~bozzon/fashion10000dataset/Fashion10000%20Readme2.pdf<br>\n",
    "\n",
    "One can download the dataset as 10 zip files(each 1GB) from -<br>\n",
    "http://www.st.ewi.tudelft.nl/~bozzon/fashion10000dataset/download.html<br>\n",
    "Once downloaded extract it in the same folder as this notebook.<br>\n",
    "You should see a folder 'Fashion10000'. All the images would be under 'Fashion10000/Photos/(category_name)' \n",
    "\n",
    "The csv containing the crowd sourced survey responses can be downloaded from -<br>\n",
    "http://www.st.ewi.tudelft.nl/~bozzon/fashion10000dataset/Fashion10000_Annotations.zip<br>\n",
    "Extract and ensure that the file - 'Annotation_PerImage_All.csv' is in the same folder as this notebook.<br>\n",
    "\n",
    "In supervised machine learning, one of the hardest tasks is to obtain correctly labelled training data. We shall use the downloaded dataset and the responses recorded in the survey to filter out data that we would be using for training our model."
   ]
  },
  {
   "cell_type": "markdown",
   "metadata": {},
   "source": [
    "The Annotation_perImage_All.csv contains the survey responses for each image in the dataset. We then iterate over this csv and select only those rows where the item has been deemed an -\n",
    "* Item of fashion (Q1)\n",
    "* Correctly belongs to the category under which it was downloaded(Q2)\n",
    "* The image in question has one person in it.(Q3)"
   ]
  },
  {
   "cell_type": "code",
   "execution_count": 163,
   "metadata": {},
   "outputs": [
    {
     "name": "stdout",
     "output_type": "stream",
     "text": [
      "Number of images filtered: 5242\n",
      "[('http://farm7.staticflickr.com/6127/5999339348_72c5eb4b86.jpg',\n",
      "  'Headscarf',\n",
      "  'yes',\n",
      "  'onepeople',\n",
      "  'yes'),\n",
      " ('http://farm7.staticflickr.com/6002/6003267626_a7fcbdf16d.jpg',\n",
      "  'Headscarf',\n",
      "  'yes',\n",
      "  'onepeople',\n",
      "  'yes'),\n",
      " ('http://farm4.staticflickr.com/3457/3969747322_1af129fcb3.jpg',\n",
      "  'Jacket',\n",
      "  'yes',\n",
      "  'onepeople',\n",
      "  'yes'),\n",
      " ('http://farm3.staticflickr.com/2438/3969747690_981ee36570.jpg',\n",
      "  'Jacket',\n",
      "  'yes',\n",
      "  'onepeople',\n",
      "  'yes'),\n",
      " ('http://farm3.staticflickr.com/2588/3978591249_fe6204935f.jpg',\n",
      "  'Jacket',\n",
      "  'yes',\n",
      "  'onepeople',\n",
      "  'yes')]\n"
     ]
    }
   ],
   "source": [
    "import csv\n",
    "from pprint import pprint\n",
    "\n",
    "with open('Annotation_PerImage_All.csv','r', encoding=\"utf8\") as f: \n",
    "    dr = csv.DictReader(f)\n",
    "    to_db = [(i['PictureURL'], i['Category'], i['Majority Q2'], i['Majority Q3'], i['Majority Q1']) for i in dr]\n",
    "\n",
    "#to_db    \n",
    "db_filtered = []\n",
    "for entry in to_db:\n",
    "    if entry[2] == 'yes' and entry[3] == 'onepeople' and entry[4] == 'yes':\n",
    "        db_filtered.append(entry)\n",
    "        \n",
    "print('Number of images filtered:', len(db_filtered))\n",
    "pprint(db_filtered[:5])"
   ]
  },
  {
   "cell_type": "markdown",
   "metadata": {},
   "source": [
    "Now that we have a filtered list of images, it could be that not all the images in the list are in the downloaded dataset.<br>\n",
    "Hence we check if the file actually exists and trim our list accordingly.<br>\n",
    "The filename is extracted from the URL as -<br>\n",
    "URL - http://farm3.staticflickr.com/2588/3978591249_fe6204935f.jpg<br>\n",
    "Filename - 3978591249.jpg<br>\n",
    "The directory under which the file is present is obtained using the category value for eg:<br>\n",
    "Fashion10000/Photos/Jacket<br>\n",
    "Now the full file path becomes -<br>\n",
    "Fashion10000/Photos/Jacket/3978591249.jpg<br>\n",
    "This how the files are stored in the dataset.<br>\n",
    "We now check to see if the file exists on disk, and filter accordingly<br>"
   ]
  },
  {
   "cell_type": "code",
   "execution_count": 164,
   "metadata": {},
   "outputs": [
    {
     "name": "stdout",
     "output_type": "stream",
     "text": [
      "Number of files that exist on disk 5229\n"
     ]
    }
   ],
   "source": [
    "import os\n",
    "toplvl = 'Fashion10000/Photos/'\n",
    "db_exists = []\n",
    "for i in db_filtered:\n",
    "    fname = i[0].split('/')[4].split('_')[0] + '.jpg'\n",
    "    directory = i[1]\n",
    "    if os.path.exists(toplvl + directory + '/' + fname):\n",
    "        db_exists.append(i)\n",
    "\n",
    "db_filtered = db_exists       \n",
    "print('Number of files that exist on disk', len(db_filtered))"
   ]
  },
  {
   "cell_type": "markdown",
   "metadata": {
    "collapsed": true
   },
   "source": [
    "We now create list of all category labels and then create a dictionary that maps the category to its index in the list. We would be using this index as our training label when modelling the network."
   ]
  },
  {
   "cell_type": "code",
   "execution_count": 166,
   "metadata": {},
   "outputs": [
    {
     "name": "stdout",
     "output_type": "stream",
     "text": [
      "Number of filtered categories: 217\n"
     ]
    },
    {
     "data": {
      "text/plain": [
       "{'A-line': 6,\n",
       " 'Athletic shoe': 2,\n",
       " 'Ball gown': 11,\n",
       " 'Cuff': 19,\n",
       " 'Fashion': 16,\n",
       " 'Garter (stockings)': 14,\n",
       " 'Handbag': 0,\n",
       " 'Hat Act': 18,\n",
       " 'Headscarf': 9,\n",
       " 'Huipil': 3,\n",
       " 'Necktie': 10,\n",
       " 'Overall': 7,\n",
       " 'Overcoat': 5,\n",
       " 'Pedal pushers': 15,\n",
       " 'Revers': 17,\n",
       " 'Sequin': 4,\n",
       " 'Straw hat': 12,\n",
       " 'Toga': 8,\n",
       " 'Victoriana': 1,\n",
       " 'Yukata': 13}"
      ]
     },
     "execution_count": 166,
     "metadata": {},
     "output_type": "execute_result"
    }
   ],
   "source": [
    "cat = set()\n",
    "for i in db_exists:\n",
    "    cat.add(i[1])\n",
    "cat = list(cat)\n",
    "d = {i : x  for x, i in enumerate(cat)}\n",
    "print('Number of filtered categories:', len(cat))\n",
    "{k: d[k] for k in list(d)[:20]}"
   ]
  },
  {
   "cell_type": "markdown",
   "metadata": {},
   "source": [
    "Now we can go ahead and create numpy arrays that would store our training data and training labels. Note that each image would be of height and width 100 pixels and would contain 3 channels(1 each for R,G,B). We would resize all our input images to 100x100 for training and prediction."
   ]
  },
  {
   "cell_type": "code",
   "execution_count": 167,
   "metadata": {},
   "outputs": [
    {
     "name": "stdout",
     "output_type": "stream",
     "text": [
      "(5229, 100, 100, 3) (5229,)\n"
     ]
    }
   ],
   "source": [
    "import numpy as np\n",
    "img_size = 100  \n",
    "x = np.zeros((len(db_filtered),img_size, img_size,3))\n",
    "y = np.zeros((len(db_filtered)))\n",
    "print(x.shape, y.shape)"
   ]
  },
  {
   "cell_type": "markdown",
   "metadata": {},
   "source": [
    "Now read images, resize to 100x100 and store in the numpy arrays.\n",
    "Here 'x' would be our training data and 'y' would be the category label as obtained from the dictionary 'd' that we created earlier."
   ]
  },
  {
   "cell_type": "code",
   "execution_count": 168,
   "metadata": {},
   "outputs": [
    {
     "name": "stdout",
     "output_type": "stream",
     "text": [
      "(5229, 100, 100, 3) (5229,)\n"
     ]
    }
   ],
   "source": [
    "from scipy.misc import imread, imresize\n",
    "\n",
    "toplvl = 'Fashion10000/Photos/'\n",
    "for idx, i in enumerate(db_filtered):\n",
    "    fname = i[0].split('/')[4].split('_')[0] + '.jpg'\n",
    "    directory = i[1]\n",
    "    try:\n",
    "        img = imread(toplvl + directory + '/' + fname)\n",
    "        x[idx, :, :, :] = imresize(img, (img_size, img_size))\n",
    "        y[idx] = d[i[1]]\n",
    "    except:\n",
    "        pass\n",
    "    \n",
    "print(x.shape, y.shape)\n",
    "#Set our training variables\n",
    "X_train = x\n",
    "y_train = y"
   ]
  },
  {
   "cell_type": "markdown",
   "metadata": {},
   "source": [
    "Lets visualize some inputs"
   ]
  },
  {
   "cell_type": "code",
   "execution_count": 211,
   "metadata": {},
   "outputs": [
    {
     "data": {
      "image/png": "[encoded data removed]",
      "text/plain": [
       "<matplotlib.figure.Figure at 0x28e15865780>"
      ]
     },
     "metadata": {},
     "output_type": "display_data"
    }
   ],
   "source": [
    "from matplotlib import pyplot as plt\n",
    "import numpy as np\n",
    "%matplotlib inline\n",
    "\n",
    "def imshow_noaxis(img):\n",
    "    \"\"\" Tiny helper to show images as uint8 and remove axis labels \"\"\"\n",
    "    plt.imshow(img.astype('uint8'))\n",
    "    plt.gca().axis('off')\n",
    "    \n",
    "plt.subplot(2, 3, 1)\n",
    "imshow_noaxis(x[10])\n",
    "plt.title(cat[int(y[10])])\n",
    "plt.subplot(2, 3, 2)\n",
    "imshow_noaxis(x[1789])\n",
    "plt.title(cat[int(y[1789])])\n",
    "plt.subplot(2, 3, 3)\n",
    "imshow_noaxis(x[38])\n",
    "plt.title(cat[int(y[38])])\n",
    "plt.subplot(2, 3, 4)\n",
    "imshow_noaxis(x[4459])\n",
    "plt.title(cat[int(y[4459])])\n",
    "plt.subplot(2, 3, 5)\n",
    "imshow_noaxis(x[194])\n",
    "plt.title(cat[int(y[194])])\n",
    "plt.subplot(2, 3, 6)\n",
    "imshow_noaxis(x[2934])\n",
    "plt.title(cat[int(y[2934])])\n",
    "\n",
    "plt.show()"
   ]
  },
  {
   "cell_type": "markdown",
   "metadata": {},
   "source": [
    "We can now store the input data and labels to disk. As we see later, we would need this to train our model on a GPU cluster. "
   ]
  },
  {
   "cell_type": "code",
   "execution_count": 212,
   "metadata": {
    "collapsed": true
   },
   "outputs": [],
   "source": [
    "np.save('train_x.npy', x, allow_pickle=False)\n",
    "np.save('train_y.npy', y, allow_pickle=False)"
   ]
  },
  {
   "cell_type": "markdown",
   "metadata": {},
   "source": [
    "Now that we have our training data, let us proceed to create our CNN using tensorflow."
   ]
  },
  {
   "cell_type": "markdown",
   "metadata": {},
   "source": [
    "## Tensorflow \n",
    "Tensorflow is a library that enables data flow programming across a variety of applications. The library helps users create  data flow graphs and control the flow of data between the nodes. The library is especially useful for machine learning since it supports almost all of the popular activation functions, loss functions, optimizers, network layers and operations like backpropagation out of the box.\n",
    "\n",
    "In order to install tensorflow, simply run - <br> \n",
    "'conda install tensorflow' on your anaconda command line."
   ]
  },
  {
   "cell_type": "markdown",
   "metadata": {},
   "source": [
    "Import tensorflow and implement our model that we had discussed earlier."
   ]
  },
  {
   "cell_type": "code",
   "execution_count": 170,
   "metadata": {
    "collapsed": true
   },
   "outputs": [],
   "source": [
    "import tensorflow as tf\n",
    "\n",
    "def mymodel(X,y, is_training):\n",
    "    \n",
    "    Wconv1 = tf.get_variable(\"Wconv1\", shape=[3, 3, 3, 96])\n",
    "    bconv1 = tf.get_variable(\"bconv1\", shape=[96])\n",
    "    \n",
    "    a1 = tf.nn.conv2d(X, Wconv1, strides=[1,1,1,1], padding='SAME') + bconv1\n",
    "    h1 = tf.nn.relu(a1)\n",
    "    \n",
    "    Wconv2 = tf.get_variable(\"Wconv2\", shape=[3, 3, 96, 96])\n",
    "    bconv2 = tf.get_variable(\"bconv2\", shape=[96])\n",
    "    \n",
    "    a1 = tf.nn.conv2d(h1, Wconv2, strides=[1,1,1,1], padding='SAME') + bconv2\n",
    "    h1 = tf.nn.relu(a1)\n",
    "    \n",
    "    Wconv3 = tf.get_variable(\"Wconv3\", shape=[3, 3, 96, 96])\n",
    "    bconv3 = tf.get_variable(\"bconv3\", shape=[96])\n",
    "    \n",
    "    a1 = tf.nn.conv2d(h1, Wconv3, strides=[1,2,2,1], padding='SAME') + bconv3\n",
    "    h1 = tf.nn.relu(a1)\n",
    "    \n",
    "    h1 = tf.nn.dropout(h1, 0.5)\n",
    "    \n",
    "    Wconv4 = tf.get_variable(\"Wconv4\", shape=[3, 3, 96, 192])\n",
    "    bconv4 = tf.get_variable(\"bconv4\", shape=[192])\n",
    "    \n",
    "    a1 = tf.nn.conv2d(h1, Wconv4, strides=[1,1,1,1], padding='SAME') + bconv4\n",
    "    h1 = tf.nn.relu(a1)\n",
    "    \n",
    "    Wconv5 = tf.get_variable(\"Wconv5\", shape=[3, 3, 192, 192])\n",
    "    bconv5 = tf.get_variable(\"bconv5\", shape=[192])\n",
    "    \n",
    "    a1 = tf.nn.conv2d(h1, Wconv5, strides=[1,1,1,1], padding='SAME') + bconv5\n",
    "    h1 = tf.nn.relu(a1)\n",
    "    \n",
    "    Wconv6 = tf.get_variable(\"Wconv6\", shape=[3, 3, 192, 192])\n",
    "    bconv6 = tf.get_variable(\"bconv6\", shape=[192])\n",
    "    \n",
    "    a1 = tf.nn.conv2d(h1, Wconv6, strides=[1,2,2,1], padding='SAME') + bconv6\n",
    "    h1 = tf.nn.relu(a1)\n",
    "    \n",
    "    h1 = tf.nn.dropout(h1, 0.5)\n",
    "    \n",
    "    Wconv7 = tf.get_variable(\"Wconv7\", shape=[3, 3, 192, 192])\n",
    "    bconv7 = tf.get_variable(\"bconv7\", shape=[192])\n",
    "    \n",
    "    a1 = tf.nn.conv2d(h1, Wconv7, strides=[1,1,1,1], padding='SAME') + bconv7\n",
    "    h1 = tf.nn.relu(a1)\n",
    "    \n",
    "    Wconv8 = tf.get_variable(\"Wconv8\", shape=[1, 1, 192, 192])\n",
    "    bconv8 = tf.get_variable(\"bconv8\", shape=[192])\n",
    "    \n",
    "    a1 = tf.nn.conv2d(h1, Wconv8, strides=[1,1,1,1], padding='SAME') + bconv8\n",
    "    h1 = tf.nn.relu(a1)\n",
    "    \n",
    "    Wconv9 = tf.get_variable(\"Wconv9\", shape=[1, 1, 192, 192])\n",
    "    bconv9 = tf.get_variable(\"bconv9\", shape=[192])\n",
    "    \n",
    "    a1 = tf.nn.conv2d(h1, Wconv9, strides=[1,1,1,1], padding='VALID') + bconv9\n",
    "    h1 = tf.nn.relu(a1)\n",
    "    \n",
    "    Wconv10 = tf.get_variable(\"Wconv10\", shape=[1, 1, 192, 217])\n",
    "    bconv10 = tf.get_variable(\"bconv10\", shape=[217])\n",
    "    \n",
    "    a1 = tf.nn.conv2d(h1, Wconv10, strides=[1,1,1,1], padding='VALID') + bconv10\n",
    "    h1 = tf.nn.relu(a1)\n",
    "    \n",
    "    dims = h1.get_shape()\n",
    "    sz = int( dims[1] * dims[2] * dims[3])\n",
    "    pooled = tf.layers.average_pooling2d(h1,[dims[1],dims[2]],[dims[1],dims[2]] )\n",
    "\n",
    "    return tf.squeeze(pooled)\n"
   ]
  },
  {
   "cell_type": "markdown",
   "metadata": {},
   "source": [
    "We shall go over the above models definition line by line - <br>\n",
    "Wconv1 = tf.get_variable(\"Wconv1\", shape=[3, 3, 3, 96])<br>\n",
    "bconv1 = tf.get_variable(\"bconv1\", shape=[96])<br>\n",
    "\n",
    "Wconv1 and bconv1 are the variables used for storing the weights in the first layer.<br>\n",
    "The shape of Wconv1 essentially defines the convolutional kernel in this layer.<br>\n",
    "The shape is given by [height, width, num channels, number of kernels]<br>\n",
    "The number of channels specified here is 3 since our input contains three color channels(R,G,B).<br>\n",
    "As you can see, the number of filters in this layer is specified to be 96. This would serve as the number of input channels to the next layer.<br>\n",
    "The bias weights are of shape [96,] since each of the kernels would have one bias weight.<br>\n",
    "\n",
    "a1 = tf.nn.conv2d(X, Wconv1, strides=[1,1,1,1], padding='SAME') + bconv1<br>\n",
    "h1 = tf.nn.relu(a1)<br>\n",
    "\n",
    "We now define a convolutional layer with stride 1. The stride[1] and stride[2] values essentially determine the stride of the kernel along the x and y directions. stride[0] and stride[3] are always expected to be 1.<br>\n",
    "The padding = 'SAME' would preserve the output dimensions of the layer to match the input. Tensorflow would take care of adding the necessary padding such that the dimensions are preserved.<br>\n",
    "If padding were set to 'VALID' then tensorflow would not add any padding values to the input of that layer.<br>\n",
    "tf.nn.conv2d() creates a 2D convolutional layer and we add the bias to this and store the outpt to a1. <br>\n",
    "h1 is essentially the activation 'relu' added to this layer.<br> \n",
    "\n",
    "We now stack up several such layers with the relevant strides as discussed earlier. As discussed in the paper, our last layers are 1x1 convolutional layers followed by an average pooling layer. The output of this is then fed to the Squeeze() function that removes dimensions of size 1 and returns a shape of [num_categories,].\n",
    "\n",
    "Now that we have defined our model, we would need to define placeholders for the input and output variables. \n",
    "'X' and 'Y' are the training data and labels. 'is_training' is a variable that is set to 'True' while training and 'False' while predicting. Though this variable is not used in this model, it is generally good practice to have such variables in hand since some models(like those with batch normalization) would behave different during training and predicting.'y_out' is now the output of our model."
   ]
  },
  {
   "cell_type": "code",
   "execution_count": 173,
   "metadata": {
    "collapsed": true
   },
   "outputs": [],
   "source": [
    "import tensorflow as tf\n",
    "\n",
    "tf.reset_default_graph()\n",
    "\n",
    "# define our input (e.g. the data that changes every batch)\n",
    "# The first dim is None, and gets sets automatically based on batch size fed in\n",
    "X = tf.placeholder(tf.float32, [None, 100, 100, 3])\n",
    "Y = tf.placeholder(tf.int64, [None])\n",
    "is_training = tf.placeholder(tf.bool)    \n",
    "\n",
    "# define model\n",
    "y_out = mymodel(X,Y,is_training)"
   ]
  },
  {
   "cell_type": "markdown",
   "metadata": {},
   "source": [
    "Now we specify the loss function and the optimizer. We pass the output through a softmax layer and use an Adam optimizer which is an extension of stochastic gradient descent, especially suited to deep learning tasks. The optimizer is then instructed to minimize the mean cross entropy loss during training.\n",
    "\n",
    "We don't use any validation data during training, as we are only interested in fitting the training data. Since the training data has 217 classes, there is bound to be significant overlap. For eg: A picture of man wearing a jacket and a baseball cap could be classified under \"baseball cap\". "
   ]
  },
  {
   "cell_type": "code",
   "execution_count": 177,
   "metadata": {
    "collapsed": true
   },
   "outputs": [],
   "source": [
    "# On a GPU cluster, use the entire dataset for training. \n",
    "#mean_loss = tf.reduce_mean(tf.nn.softmax_cross_entropy_with_logits(logits=y_out, labels=tf.one_hot(y,217)))\n",
    "# For CPU training use a smaller batch. The system might run out of memory if the entire batch is used.\n",
    "mean_loss = tf.reduce_mean(tf.nn.softmax_cross_entropy_with_logits(logits=y_out, labels=tf.one_hot(y[:64],217)))\n",
    "optimizer = tf.train.AdamOptimizer(5e-4)\n",
    "train_step = optimizer.minimize(mean_loss)\n"
   ]
  },
  {
   "cell_type": "markdown",
   "metadata": {},
   "source": [
    "Now we train the model using all the loss functions, optimizers and training data that we have defined thus far.<br>\n",
    "For training deep learning networks, we must use a machine that has a GPU and lots of memory . It should be possible to fit all the training data and models in memory and if one does not use a GPU, training simply takes too long(in the order of days). This model was trained on a GPU cluster. The code here runs on a smaller batch(64 entries) on the CPU. For GPU training uncomment the indicated lines in the code cells above and below.<br>\n",
    "\n",
    "Every tensorflow application requires a \"Session\" to be defined. We then perform the usual batch based iterative training. Another important thing to note is the \"feed_dict\" dictionary that is passed to the session.run() operation. This dictionary maps the placeholders that we had defined earlier to actual values that would be used in training. <br>\n",
    "\n",
    "The saver.save operation saves the model and its parameters after training. We can then use the saved model to make predictions. <br>\n",
    "\n",
    "The CPU demo training code on a small batch of 64 inputs with 217 categories over 10 epochs produces an accuracy of around 10%. <br>\n",
    "\n",
    "Since I performed the training on a GPU cluster, I have copied the output to a \"RawNBConvert\" cell below. The training was done over 100 epochs, using a batch size of 64. The machine used had a Tesla K80 GPU and the training took about 3 hours.THe accuracy obtained was close to 78%.<br>\n",
    "\n",
    "I have uploaded the model trained on the GPU to my drive. Since the size of the model is around 16MB, it is too big to submit along with the notebook. We shall later download this and use it to make predictions.\n"
   ]
  },
  {
   "cell_type": "code",
   "execution_count": 179,
   "metadata": {},
   "outputs": [
    {
     "name": "stdout",
     "output_type": "stream",
     "text": [
      "Iteration 0: with minibatch training loss = 5.98 and accuracy of 0\n",
      "Epoch 1, Overall loss = 5.98 and accuracy of 0\n",
      "Epoch 2, Overall loss = 5.18 and accuracy of 0.0625\n",
      "Epoch 3, Overall loss = 4.9 and accuracy of 0.0625\n",
      "Epoch 4, Overall loss = 4.64 and accuracy of 0.0625\n",
      "Epoch 5, Overall loss = 4.49 and accuracy of 0.109\n",
      "Epoch 6, Overall loss = 4.27 and accuracy of 0.109\n",
      "Epoch 7, Overall loss = 4.11 and accuracy of 0.109\n",
      "Epoch 8, Overall loss = 4.02 and accuracy of 0.109\n",
      "Epoch 9, Overall loss = 3.84 and accuracy of 0.109\n",
      "Epoch 10, Overall loss = 3.79 and accuracy of 0.0625\n"
     ]
    }
   ],
   "source": [
    "import math\n",
    "\n",
    "def run_model(session, predict, mean_loss,X,y,is_training,Xd, yd, epochs=1, batch_size=64, print_every=100,\n",
    "              training=None, plot_losses=False):\n",
    "    # have tensorflow compute accuracy\n",
    "    correct_prediction = tf.equal(tf.argmax(predict,1), y)\n",
    "    accuracy = tf.reduce_mean(tf.cast(correct_prediction, tf.float32))\n",
    "    # shuffle indicies\n",
    "    train_indicies = np.arange(Xd.shape[0])\n",
    "    np.random.shuffle(train_indicies)\n",
    "    training_now = training is not None\n",
    "    \n",
    "    # setting up variables we want to compute (and optimizing)\n",
    "    # if we have a training function, add that to things we compute\n",
    "    variables = [mean_loss,correct_prediction,accuracy]\n",
    "    if training_now:\n",
    "        variables[-1] = training\n",
    "    \n",
    "    # counter \n",
    "    iter_cnt = 0\n",
    "    for e in range(epochs):\n",
    "        # keep track of losses and accuracy\n",
    "        correct = 0\n",
    "        losses = []\n",
    "        # make sure we iterate over the dataset once\n",
    "        for i in range(int(math.ceil(Xd.shape[0]/batch_size))):\n",
    "            # generate indicies for the batch\n",
    "            start_idx = (i*batch_size)%Xd.shape[0]\n",
    "            idx = train_indicies[start_idx:start_idx+batch_size]\n",
    "            \n",
    "            # create a feed dictionary for this batch\n",
    "            feed_dict = {X: Xd[idx,:],\n",
    "                         y: yd[idx],\n",
    "                         is_training: training_now }\n",
    "            # get batch size\n",
    "            actual_batch_size = yd[idx].shape[0]\n",
    "            \n",
    "            # have tensorflow compute loss and correct predictions\n",
    "            # and (if given) perform a training step\n",
    "            loss, corr, _ = session.run(variables,feed_dict=feed_dict)\n",
    "            \n",
    "            # aggregate performance stats\n",
    "            losses.append(loss*actual_batch_size)\n",
    "            correct += np.sum(corr)\n",
    "            \n",
    "            # print every now and then\n",
    "            if training_now and (iter_cnt % print_every) == 0:\n",
    "                print(\"Iteration {0}: with minibatch training loss = {1:.3g} and accuracy of {2:.2g}\"\\\n",
    "                      .format(iter_cnt,loss,np.sum(corr)/actual_batch_size))\n",
    "            iter_cnt += 1\n",
    "        total_correct = correct/Xd.shape[0]\n",
    "        total_loss = np.sum(losses)/Xd.shape[0]\n",
    "        print(\"Epoch {2}, Overall loss = {0:.3g} and accuracy of {1:.3g}\"\\\n",
    "              .format(total_loss,total_correct,e+1))\n",
    "        if plot_losses:\n",
    "            plt.plot(losses)\n",
    "            plt.grid(True)\n",
    "            plt.title('Epoch {} Loss'.format(e+1))\n",
    "            plt.xlabel('minibatch number')\n",
    "            plt.ylabel('minibatch loss')\n",
    "            plt.show()\n",
    "    return total_loss,total_correct\n",
    "\n",
    "with tf.Session() as sess:\n",
    "        #with tf.device(\"/gpu:0\") as dev: Uncomment this for GPU training\n",
    "        with tf.device(\"/cpu:0\") as dev:\n",
    "            tf.global_variables_initializer().run()\n",
    "            tf.set_random_seed(1)\n",
    "            #saver = tf.train.Saver() # Uncomment this for GPU training\n",
    "            # Test full set only on GPU cluster. A regular desktop may run out of memory\n",
    "            #run_model(sess,y_out,mean_loss,X,y,is_training,X_train,y_train,100,64,100,train_step) # Uncomment this for GPU training\n",
    "           \n",
    "            # This is just for demonstration and will not yield accurate results. For accurate results run on GPU. See above.\n",
    "            run_model(sess,y_out,mean_loss,X,Y,is_training,X_train[:64],y_train[:64],10,64,100,train_step)\n",
    "            #saver.save(sess, \"/home/user/DS/mymodel_1\") #Uncomment this for GPU training\n"
   ]
  },
  {
   "cell_type": "raw",
   "metadata": {},
   "source": [
    "[user@gpu004 DS]$ python3 mymodel.py\n",
    "Train data shape:  (5229, 100, 100, 3)\n",
    "Train labels shape:  (5229,)\n",
    "(?, 25, 25, 217)\n",
    "2018-03-28 01:47:29.187481: I tensorflow/core/platform/cpu_feature_guard.cc:137] Your CPU supports instructions that this TensorFlow binary was not compiled to use: SSE4.1 SSE4.2 AVX AVX2 FMA\n",
    "2018-03-28 01:47:29.551599: I tensorflow/core/common_runtime/gpu/gpu_device.cc:1030] Found device 0 with properties:\n",
    "name: Tesla K80 major: 3 minor: 7 memoryClockRate(GHz): 0.8235\n",
    "pciBusID: 0000:8a:00.0\n",
    "totalMemory: 11.17GiB freeMemory: 11.10GiB\n",
    "2018-03-28 01:47:29.551647: I tensorflow/core/common_runtime/gpu/gpu_device.cc:1120] Creating TensorFlow device (/device:GPU:0) -> (device: 0, name: Tesla K80, pci bus id: 0000:8a:00.0, compute capability: 3.7)\n",
    "2018-03-28 01:47:32.483877: I tensorflow/core/common_runtime/gpu/gpu_device.cc:1120] Creating TensorFlow device (/device:GPU:0) -> (device: 0, name: Tesla K80, pci bus id: 0000:8a:00.0, compute capability: 3.7)\n",
    "Training\n",
    "Iteration 0: with minibatch training loss = 5.65 and accuracy of 0\n",
    "Epoch 1, Overall loss = 5.13 and accuracy of 0.022\n",
    "Iteration 100: with minibatch training loss = 4.84 and accuracy of 0.062\n",
    "Epoch 2, Overall loss = 4.97 and accuracy of 0.0295\n",
    "Iteration 200: with minibatch training loss = 4.88 and accuracy of 0.031\n",
    "Epoch 3, Overall loss = 4.9 and accuracy of 0.0367\n",
    "Iteration 300: with minibatch training loss = 5.04 and accuracy of 0.031\n",
    "Epoch 4, Overall loss = 4.87 and accuracy of 0.0358\n",
    "Iteration 400: with minibatch training loss = 4.8 and accuracy of 0.031\n",
    "Epoch 5, Overall loss = 4.83 and accuracy of 0.0459\n",
    "Epoch 6, Overall loss = 4.8 and accuracy of 0.0501\n",
    "Iteration 500: with minibatch training loss = 4.7 and accuracy of 0.094\n",
    "Epoch 7, Overall loss = 4.77 and accuracy of 0.053\n",
    "Iteration 600: with minibatch training loss = 4.72 and accuracy of 0.062\n",
    "Epoch 8, Overall loss = 4.74 and accuracy of 0.0578\n",
    "Iteration 700: with minibatch training loss = 4.43 and accuracy of 0.078\n",
    "Epoch 9, Overall loss = 4.72 and accuracy of 0.0631\n",
    "Iteration 800: with minibatch training loss = 4.79 and accuracy of 0.062\n",
    "Epoch 10, Overall loss = 4.69 and accuracy of 0.0694\n",
    "Iteration 900: with minibatch training loss = 4.34 and accuracy of 0.078\n",
    "Epoch 11, Overall loss = 4.65 and accuracy of 0.0748\n",
    "Epoch 12, Overall loss = 4.63 and accuracy of 0.0828\n",
    "Iteration 1000: with minibatch training loss = 4.5 and accuracy of 0.047\n",
    "Epoch 13, Overall loss = 4.59 and accuracy of 0.0872\n",
    "Iteration 1100: with minibatch training loss = 4.76 and accuracy of 0.11\n",
    "Epoch 14, Overall loss = 4.54 and accuracy of 0.0929\n",
    "Iteration 1200: with minibatch training loss = 4.44 and accuracy of 0.094\n",
    "Epoch 15, Overall loss = 4.5 and accuracy of 0.101\n",
    "Iteration 1300: with minibatch training loss = 4.44 and accuracy of 0.11\n",
    "Epoch 16, Overall loss = 4.45 and accuracy of 0.106\n",
    "Epoch 17, Overall loss = 4.41 and accuracy of 0.111\n",
    "Iteration 1400: with minibatch training loss = 3.89 and accuracy of 0.17\n",
    "Epoch 18, Overall loss = 4.35 and accuracy of 0.121\n",
    "Iteration 1500: with minibatch training loss = 4.26 and accuracy of 0.14\n",
    "Epoch 19, Overall loss = 4.31 and accuracy of 0.126\n",
    "Iteration 1600: with minibatch training loss = 4.23 and accuracy of 0.14\n",
    "Epoch 20, Overall loss = 4.28 and accuracy of 0.132\n",
    "Iteration 1700: with minibatch training loss = 3.78 and accuracy of 0.19\n",
    "Epoch 21, Overall loss = 4.23 and accuracy of 0.136\n",
    "Iteration 1800: with minibatch training loss = 3.94 and accuracy of 0.27\n",
    "Epoch 22, Overall loss = 4.19 and accuracy of 0.142\n",
    "Epoch 23, Overall loss = 4.14 and accuracy of 0.15\n",
    "Iteration 1900: with minibatch training loss = 4.15 and accuracy of 0.094\n",
    "Epoch 24, Overall loss = 4.1 and accuracy of 0.155\n",
    "Iteration 2000: with minibatch training loss = 3.85 and accuracy of 0.16\n",
    "Epoch 25, Overall loss = 4.04 and accuracy of 0.168\n",
    "Iteration 2100: with minibatch training loss = 3.8 and accuracy of 0.22\n",
    "Epoch 26, Overall loss = 3.96 and accuracy of 0.181\n",
    "Iteration 2200: with minibatch training loss = 4.06 and accuracy of 0.16\n",
    "Epoch 27, Overall loss = 3.92 and accuracy of 0.188\n",
    "Epoch 28, Overall loss = 3.87 and accuracy of 0.194\n",
    "Iteration 2300: with minibatch training loss = 3.94 and accuracy of 0.2\n",
    "Epoch 29, Overall loss = 3.84 and accuracy of 0.205\n",
    "Iteration 2400: with minibatch training loss = 3.73 and accuracy of 0.19\n",
    "Epoch 30, Overall loss = 3.75 and accuracy of 0.218\n",
    "Iteration 2500: with minibatch training loss = 3.52 and accuracy of 0.23\n",
    "Epoch 31, Overall loss = 3.7 and accuracy of 0.223\n",
    "Iteration 2600: with minibatch training loss = 3.51 and accuracy of 0.36\n",
    "Epoch 32, Overall loss = 3.66 and accuracy of 0.231\n",
    "Iteration 2700: with minibatch training loss = 3.91 and accuracy of 0.2\n",
    "Epoch 33, Overall loss = 3.6 and accuracy of 0.244\n",
    "Epoch 34, Overall loss = 3.54 and accuracy of 0.251\n",
    "Iteration 2800: with minibatch training loss = 3.48 and accuracy of 0.31\n",
    "Epoch 35, Overall loss = 3.49 and accuracy of 0.26\n",
    "Iteration 2900: with minibatch training loss = 3.73 and accuracy of 0.25\n",
    "Epoch 36, Overall loss = 3.41 and accuracy of 0.269\n",
    "Iteration 3000: with minibatch training loss = 3.59 and accuracy of 0.22\n",
    "Epoch 37, Overall loss = 3.38 and accuracy of 0.283\n",
    "Iteration 3100: with minibatch training loss = 3.1 and accuracy of 0.34\n",
    "Epoch 38, Overall loss = 3.31 and accuracy of 0.295\n",
    "Epoch 39, Overall loss = 3.27 and accuracy of 0.301\n",
    "Iteration 3200: with minibatch training loss = 3.43 and accuracy of 0.17\n",
    "Epoch 40, Overall loss = 3.2 and accuracy of 0.312\n",
    "Iteration 3300: with minibatch training loss = 3.09 and accuracy of 0.3\n",
    "Epoch 41, Overall loss = 3.16 and accuracy of 0.322\n",
    "Iteration 3400: with minibatch training loss = 3.27 and accuracy of 0.34\n",
    "Epoch 42, Overall loss = 3.1 and accuracy of 0.332\n",
    "Iteration 3500: with minibatch training loss = 2.99 and accuracy of 0.39\n",
    "Epoch 43, Overall loss = 3.04 and accuracy of 0.343\n",
    "Iteration 3600: with minibatch training loss = 2.79 and accuracy of 0.33\n",
    "Epoch 44, Overall loss = 3 and accuracy of 0.353\n",
    "Epoch 45, Overall loss = 2.98 and accuracy of 0.349\n",
    "Iteration 3700: with minibatch training loss = 3.21 and accuracy of 0.22\n",
    "Epoch 46, Overall loss = 2.89 and accuracy of 0.367\n",
    "Iteration 3800: with minibatch training loss = 2.95 and accuracy of 0.38\n",
    "Epoch 47, Overall loss = 2.82 and accuracy of 0.376\n",
    "Iteration 3900: with minibatch training loss = 3.15 and accuracy of 0.3\n",
    "Epoch 48, Overall loss = 2.76 and accuracy of 0.385\n",
    "Iteration 4000: with minibatch training loss = 2.72 and accuracy of 0.39\n",
    "Epoch 49, Overall loss = 2.66 and accuracy of 0.404\n",
    "Epoch 50, Overall loss = 2.59 and accuracy of 0.42\n",
    "Iteration 4100: with minibatch training loss = 2.8 and accuracy of 0.3\n",
    "Epoch 51, Overall loss = 2.59 and accuracy of 0.424\n",
    "Iteration 4200: with minibatch training loss = 2.29 and accuracy of 0.45\n",
    "Epoch 52, Overall loss = 2.55 and accuracy of 0.423\n",
    "Iteration 4300: with minibatch training loss = 2.55 and accuracy of 0.39\n",
    "Epoch 53, Overall loss = 2.51 and accuracy of 0.428\n",
    "Iteration 4400: with minibatch training loss = 2.14 and accuracy of 0.45\n",
    "Epoch 54, Overall loss = 2.4 and accuracy of 0.458\n",
    "Iteration 4500: with minibatch training loss = 2.22 and accuracy of 0.45\n",
    "Epoch 55, Overall loss = 2.35 and accuracy of 0.462\n",
    "Epoch 56, Overall loss = 2.3 and accuracy of 0.474\n",
    "Iteration 4600: with minibatch training loss = 2.68 and accuracy of 0.39\n",
    "Epoch 57, Overall loss = 2.27 and accuracy of 0.483\n",
    "Iteration 4700: with minibatch training loss = 1.68 and accuracy of 0.58\n",
    "Epoch 58, Overall loss = 2.22 and accuracy of 0.491\n",
    "Iteration 4800: with minibatch training loss = 2.33 and accuracy of 0.53\n",
    "Epoch 59, Overall loss = 2.23 and accuracy of 0.488\n",
    "Iteration 4900: with minibatch training loss = 1.49 and accuracy of 0.62\n",
    "Epoch 60, Overall loss = 2.17 and accuracy of 0.507\n",
    "Iteration 5000: with minibatch training loss = 2.22 and accuracy of 0.47\n",
    "Epoch 61, Overall loss = 2.15 and accuracy of 0.502\n",
    "Epoch 62, Overall loss = 2.1 and accuracy of 0.511\n",
    "Iteration 5100: with minibatch training loss = 1.54 and accuracy of 0.67\n",
    "Epoch 63, Overall loss = 2.06 and accuracy of 0.52\n",
    "Iteration 5200: with minibatch training loss = 1.94 and accuracy of 0.53\n",
    "Epoch 64, Overall loss = 2.02 and accuracy of 0.53\n",
    "Iteration 5300: with minibatch training loss = 2.06 and accuracy of 0.55\n",
    "Epoch 65, Overall loss = 1.91 and accuracy of 0.55\n",
    "Iteration 5400: with minibatch training loss = 1.25 and accuracy of 0.73\n",
    "Epoch 66, Overall loss = 1.85 and accuracy of 0.564\n",
    "Epoch 67, Overall loss = 1.88 and accuracy of 0.553\n",
    "Iteration 5500: with minibatch training loss = 1.59 and accuracy of 0.66\n",
    "Epoch 68, Overall loss = 1.73 and accuracy of 0.585\n",
    "Iteration 5600: with minibatch training loss = 1.53 and accuracy of 0.67\n",
    "Epoch 69, Overall loss = 1.67 and accuracy of 0.603\n",
    "Iteration 5700: with minibatch training loss = 1.65 and accuracy of 0.62\n",
    "Epoch 70, Overall loss = 1.58 and accuracy of 0.606\n",
    "Iteration 5800: with minibatch training loss = 1.53 and accuracy of 0.58\n",
    "Epoch 71, Overall loss = 1.58 and accuracy of 0.618\n",
    "Iteration 5900: with minibatch training loss = 0.851 and accuracy of 0.73\n",
    "Epoch 72, Overall loss = 1.57 and accuracy of 0.612\n",
    "Epoch 73, Overall loss = 1.51 and accuracy of 0.629\n",
    "Iteration 6000: with minibatch training loss = 1.53 and accuracy of 0.61\n",
    "Epoch 74, Overall loss = 1.51 and accuracy of 0.631\n",
    "Iteration 6100: with minibatch training loss = 1.28 and accuracy of 0.7\n",
    "Epoch 75, Overall loss = 1.5 and accuracy of 0.629\n",
    "Iteration 6200: with minibatch training loss = 1.55 and accuracy of 0.59\n",
    "Epoch 76, Overall loss = 1.45 and accuracy of 0.636\n",
    "Iteration 6300: with minibatch training loss = 1.67 and accuracy of 0.61\n",
    "Epoch 77, Overall loss = 1.35 and accuracy of 0.662\n",
    "Epoch 78, Overall loss = 1.4 and accuracy of 0.651\n",
    "Iteration 6400: with minibatch training loss = 1.17 and accuracy of 0.67\n",
    "Epoch 79, Overall loss = 1.37 and accuracy of 0.65\n",
    "Iteration 6500: with minibatch training loss = 1.28 and accuracy of 0.72\n",
    "Epoch 80, Overall loss = 1.28 and accuracy of 0.681\n",
    "Iteration 6600: with minibatch training loss = 1.1 and accuracy of 0.7\n",
    "Epoch 81, Overall loss = 1.18 and accuracy of 0.697\n",
    "Iteration 6700: with minibatch training loss = 1.06 and accuracy of 0.77\n",
    "Epoch 82, Overall loss = 1.2 and accuracy of 0.7\n",
    "Iteration 6800: with minibatch training loss = 1.41 and accuracy of 0.64\n",
    "Epoch 83, Overall loss = 1.12 and accuracy of 0.713\n",
    "Epoch 84, Overall loss = 1.1 and accuracy of 0.714\n",
    "Iteration 6900: with minibatch training loss = 1.4 and accuracy of 0.64\n",
    "Epoch 85, Overall loss = 1.1 and accuracy of 0.709\n",
    "Iteration 7000: with minibatch training loss = 1.32 and accuracy of 0.75\n",
    "Epoch 86, Overall loss = 1.09 and accuracy of 0.719\n",
    "Iteration 7100: with minibatch training loss = 1.33 and accuracy of 0.67\n",
    "Epoch 87, Overall loss = 1.09 and accuracy of 0.723\n",
    "Iteration 7200: with minibatch training loss = 0.803 and accuracy of 0.81\n",
    "Epoch 88, Overall loss = 1.02 and accuracy of 0.729\n",
    "Epoch 89, Overall loss = 1.03 and accuracy of 0.725\n",
    "Iteration 7300: with minibatch training loss = 1.05 and accuracy of 0.69\n",
    "Epoch 90, Overall loss = 1.04 and accuracy of 0.727\n",
    "Iteration 7400: with minibatch training loss = 1.33 and accuracy of 0.66\n",
    "Epoch 91, Overall loss = 0.99 and accuracy of 0.733\n",
    "Iteration 7500: with minibatch training loss = 0.843 and accuracy of 0.8\n",
    "Epoch 92, Overall loss = 0.913 and accuracy of 0.753\n",
    "Iteration 7600: with minibatch training loss = 0.684 and accuracy of 0.8\n",
    "Epoch 93, Overall loss = 0.917 and accuracy of 0.75\n",
    "Iteration 7700: with minibatch training loss = 0.967 and accuracy of 0.78\n",
    "Epoch 94, Overall loss = 0.94 and accuracy of 0.753\n",
    "Epoch 95, Overall loss = 0.925 and accuracy of 0.755\n",
    "Iteration 7800: with minibatch training loss = 0.881 and accuracy of 0.78\n",
    "Epoch 96, Overall loss = 0.886 and accuracy of 0.766\n",
    "Iteration 7900: with minibatch training loss = 1.8 and accuracy of 0.64\n",
    "Epoch 97, Overall loss = 0.859 and accuracy of 0.775\n",
    "Iteration 8000: with minibatch training loss = 0.933 and accuracy of 0.78\n",
    "Epoch 98, Overall loss = 0.826 and accuracy of 0.775\n",
    "Iteration 8100: with minibatch training loss = 0.871 and accuracy of 0.77\n",
    "Epoch 99, Overall loss = 0.825 and accuracy of 0.776\n",
    "Epoch 100, Overall loss = 0.825 and accuracy of 0.785"
   ]
  },
  {
   "cell_type": "markdown",
   "metadata": {},
   "source": [
    "### Application/ Prediction\n",
    "Imagine that you are a fashion retailer and are about to place your next order. It would be great if there were some way that you could figure out what kind of clothes are trending so as to realize good sales. Now if a major event like the Academy awards/Oscars has just taken place, the clothes that the attendees or celebrities wear would certainly affect the ongoing trends. Now, if we could obtain a bunch of images of celebrities from this setting, we could run our model and get a list of trending categories. This would be of value to a retailer who can then use this information while placing their next order.\n",
    "\n",
    "The original goal was to use the Instagram API to obtain images specific to a time and location. Getting access to the API is not straightforward as one needs to submit their applications intent to facebook, and after review one may/may not get access. However there is a site https://www.picodash.com/ that lets you crawl through public instagram feeds based on time and location. They even let you export the data over a spreadsheet. \n",
    "\n",
    "Users can sign up with a $8 monthly fee and get access to all the features. However, owing to the recent Cambridge Analytica fiasco, Facebook has started reviewing app permissions. As a result of this, their access is currently suspended. I was able to access the site on 28-Mar, so I guess this is very very recent.\n",
    "\n",
    "I did sign up for the service and was able to search for all instagram public posts for - <br>\n",
    "Location - Dolby Theatre, Los Angeles (This was the venue of the Academy awards 2018) <br>\n",
    "Time - March 4 between 13:00-23:00pm.\n",
    "\n",
    "From the available posts, I had downloaded a few images for testing. In the section below, we shall see how the model performs for one of the images.\n",
    "\n",
    "We shall be using the model trained on the GPU to perform predictions. The model is shared on my drive.<br>\n",
    "\n",
    "Download the model from https://drive.google.com/open?id=1oU6LxjsPMyVmCfYHvyAZFikyqTSnn702 and extract in the same folder as the tutorial. You would see the following four files-\n",
    "* mymodel_1.data-00000-of-00001\n",
    "* mymodel_1.index\n",
    "* checkpoint\n",
    "* mymodel_1.meta\n",
    "\n",
    "Off these files, mymodel_1.meta contains the graph of the network and mymodel_1.data-00000-of-00001 contains the parameters of the model. <br>\n",
    "\n",
    "We can restore the network using these two files. Since we trained the model on a GPU but wish to predict on the CPU, we must set the parameters clear_devices and allow_soft_placement to True as done below\n"
   ]
  },
  {
   "cell_type": "code",
   "execution_count": 190,
   "metadata": {},
   "outputs": [
    {
     "name": "stdout",
     "output_type": "stream",
     "text": [
      "INFO:tensorflow:Restoring parameters from mymodel_1\n"
     ]
    }
   ],
   "source": [
    "#with as sess:\n",
    "# clear old variables\n",
    "tf.reset_default_graph()\n",
    "\n",
    "sess = tf.Session(config=tf.ConfigProto(allow_soft_placement=True)) \n",
    "#with tf.Session() as sess:\n",
    "#First let's load meta graph and restore weights\n",
    "saver = tf.train.import_meta_graph('mymodel_1.meta',clear_devices = True)\n",
    "saver.restore(sess,'mymodel_1')#tf.train.latest_checkpoint('./'))    "
   ]
  },
  {
   "cell_type": "markdown",
   "metadata": {},
   "source": [
    "Now that we've restored our model, we need to retrieve the placeholder variables so that we can pass in a new input for prediction."
   ]
  },
  {
   "cell_type": "code",
   "execution_count": 191,
   "metadata": {},
   "outputs": [
    {
     "name": "stdout",
     "output_type": "stream",
     "text": [
      "(?, 100, 100, 3) (?,) <unknown>\n",
      "<dtype: 'float32'> <dtype: 'int64'> <dtype: 'float32'>\n"
     ]
    }
   ],
   "source": [
    "graph = tf.get_default_graph()\n",
    "X_m = graph.get_tensor_by_name(\"Placeholder:0\")\n",
    "y_m = graph.get_tensor_by_name(\"Placeholder_1:0\")\n",
    "y_o = graph.get_tensor_by_name(\"Squeeze:0\")\n",
    "is_training = graph.get_tensor_by_name(\"Placeholder_2:0\")\n",
    "#op_to_restore = graph.get_tensor_by_name(\"op_to_restore:0\")\n",
    "print(X_m.shape, y_m.shape, y_o.shape)\n",
    "print(X_m.dtype, y_m.dtype, y_o.dtype)\n"
   ]
  },
  {
   "cell_type": "markdown",
   "metadata": {},
   "source": [
    "Now read in our image for prediction. \n",
    "<img src=\"http://drive.google.com/uc?export=view&id=1TBAIF5WKtwYeAM1TOLz2NXcEy5SeNgIY\">"
   ]
  },
  {
   "cell_type": "code",
   "execution_count": 217,
   "metadata": {},
   "outputs": [
    {
     "data": {
      "image/png": "[encoded data removed]",
      "text/plain": [
       "<matplotlib.figure.Figure at 0x28e12c16860>"
      ]
     },
     "metadata": {},
     "output_type": "display_data"
    }
   ],
   "source": [
    "from urllib.request import urlopen\n",
    "from scipy.misc import imread\n",
    "\n",
    "url = 'http://drive.google.com/uc?export=view&id=1TBAIF5WKtwYeAM1TOLz2NXcEy5SeNgIY'\n",
    "\n",
    "file = urlopen(url)\n",
    "img = imread(file)\n",
    "#img = imread('test_2.jpg')\n",
    "\n",
    "rsz = np.zeros((1,img_size, img_size,3))\n",
    "rsz[0,:,:,:] = imresize(img, (img_size, img_size))\n",
    "\n",
    "plt.subplot(2, 1, 1)\n",
    "imshow_noax(rsz[0], normalize=False)\n",
    "plt.title('Test image')\n",
    "plt.show()\n"
   ]
  },
  {
   "cell_type": "markdown",
   "metadata": {},
   "source": [
    "Pass this as input to the model, run the output through a softmax to get a probability distribution over categories and print the top 10 most likely categories along with their confidence(probability) values."
   ]
  },
  {
   "cell_type": "code",
   "execution_count": 218,
   "metadata": {},
   "outputs": [
    {
     "name": "stdout",
     "output_type": "stream",
     "text": [
      "Tuxedo 0.965844\n",
      "Fashion 0.0129306\n",
      "Headband 0.00535606\n",
      "Dress 0.00445963\n",
      "Lapel pin 0.00178803\n",
      "Cocktail dress 0.00174472\n",
      "Smoking jacket 0.00159102\n",
      "Jacket 0.00116615\n",
      "Leggings 0.00108393\n",
      "Necktie 0.00108297\n"
     ]
    }
   ],
   "source": [
    "prob = tf.nn.softmax(y_o)\n",
    "\n",
    "\n",
    "#ans = sess.run(prob,feed_dict={X_m:x[17:18],is_training:False})\n",
    "ans = sess.run(prob,feed_dict={X_m:rsz,is_training:False})\n",
    "arr = np.array(ans)\n",
    "sor = arr.argsort()[-10:][::-1]\n",
    "for i in sor:\n",
    "       print(cat[i], ans[i])"
   ]
  },
  {
   "cell_type": "markdown",
   "metadata": {},
   "source": [
    "As you can see, the model is able to classify with high confidence that the celebrity is wearing a tuxedo. What is even more interesting are the other classes that have showed up. For eg: \"Smoking jacket\". The embellishments on the tuxedo are fairly typical of the kind of patterns that one might see in a smoking jacket. Its quite remarkable that it is one of the top 10 classes.\n",
    "\n",
    "We can run this on several images, and get a bunch of trending styles."
   ]
  },
  {
   "cell_type": "markdown",
   "metadata": {},
   "source": [
    "## Conclusion:\n",
    "I hope the reader has obtained a decent understanding of CNNs, tensorflow and their application in image classification.\n",
    "One can see the power that Deep Learning methods bring to the table when identifying patterns/trends in highly unstructured data like images. While we have just scratched the surface here by discussion just one application area, these methods have the potential to have profound impact in really critical application areas like Healthcare, Security etc.\n",
    "\n"
   ]
  },
  {
   "cell_type": "code",
   "execution_count": null,
   "metadata": {
    "collapsed": true
   },
   "outputs": [],
   "source": []
  }
 ],
 "metadata": {
  "kernelspec": {
   "display_name": "Python 3",
   "language": "python",
   "name": "python3"
  },
  "language_info": {
   "codemirror_mode": {
    "name": "ipython",
    "version": 3
   },
   "file_extension": ".py",
   "mimetype": "text/x-python",
   "name": "python",
   "nbconvert_exporter": "python",
   "pygments_lexer": "ipython3",
   "version": "3.6.3"
  }
 },
 "nbformat": 4,
 "nbformat_minor": 2
}
