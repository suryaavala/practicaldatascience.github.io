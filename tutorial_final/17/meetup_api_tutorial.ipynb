{
 "cells": [
  {
   "cell_type": "markdown",
   "metadata": {},
   "source": [
    "# Introduction\n",
    "Meetup.com was created with an objective to effectively gather people together for a pre-defined objective, to streghten communities. It is the world's largest network of local groups. Meetup’s mission is to ‘revitalize local community and help people around the world to self organize.’ The data available on meetup.com could be used to study the activity of the local community in the city as well as the evolution of the trend of such activites.\n",
    "This tutorial will teach you to make queries based on your interests and then collect, analyze and visualize data. This can have various applications such as determining the perfect city or compnaring multiple cites, based on your interests. "
   ]
  },
  {
   "cell_type": "markdown",
   "metadata": {},
   "source": [
    "## Tutorial Content\n",
    "\n",
    "In this tutorial, we will show how to fetch data, perform basic data analysis and visulization in Python, specifically using pandas, meetup-api and matplotlib libraries. The meetup-api library provides a way to make our quries cleaner and useful methods to obtain the required data. It is totally possible to collect the same data without this library. \n",
    "For full sepcification of API, refer https://www.meetup.com/meetup_api/docs/. It is also extremely helpful to use the API console(https://secure.meetup.com/meetup_api/console) which is a RESTful API client similar to Postman. All the different API versions can be tested with different request parameters and the response can be obtained. This usually helps to find out if the interpretation of an API method is correct and it will give the information we are looking for.\n",
    "\n",
    "We will cover the following topics in this tutorial:\n",
    "- [Installing the libraries](#Installing-the-libraries)\n",
    "- [Retrieve API Key](#Retrive-API-Key)\n",
    "- [API Requests](#API-Requests)\n",
    "- [Showing Equivalency of Different Request Methods](#Showing-Equivalency-of-Different-Request-Methods)\n",
    "- [Search City/Cities](#Search-City/Cities)\n",
    "- [The ONLY Request Parameter](#The-ONLY-Request-Parameter)\n",
    "- [Getting Group Data](#Getting-Group-Data)\n",
    "- [Getting Event Details](#Getting-Event-Details)\n",
    "- [Quantitative Analysis](#Quantitative-Analysis)\n",
    "- [Qualitative Analysis](#Qualitative-Analysis)"
   ]
  },
  {
   "cell_type": "markdown",
   "metadata": {},
   "source": [
    "## Installing the libraries\n",
    "Install the libraries mentiones earlier using the foollowing commands in terminal:<br>\n",
    "- pip install pandas <br>\n",
    "- pip install matplotlib <br>\n",
    "- pip install meetup-api\n",
    "- pip install requests\n",
    "- pip install json"
   ]
  },
  {
   "cell_type": "code",
   "execution_count": 1,
   "metadata": {},
   "outputs": [],
   "source": [
    "# Now we will import the required libraries\n",
    "import pandas as pd\n",
    "import meetup.api\n",
    "import matplotlib.pyplot as plt\n",
    "import requests\n",
    "import json"
   ]
  },
  {
   "cell_type": "markdown",
   "metadata": {},
   "source": [
    "## Retrive API Key\n",
    "After making an account meetup.com, visit https://secure.meetup.com/meetup_api/key/ to obtain your API key. This key will be required to make the any request the backend server of the website."
   ]
  },
  {
   "cell_type": "markdown",
   "metadata": {},
   "source": [
    "## API Requests"
   ]
  },
  {
   "cell_type": "markdown",
   "metadata": {},
   "source": [
    "To get us started we will first load data using the api library and using the meetup.api library to generate the HTTP requests. Meetup has several categories and we will use the the API for getting all the categories on meetup. The API documentation for GET /2/categories specifies that the request takes no parameters and the response is a JSON object. The objects attributes give us all the meetup categories and meta data containing additional information of the API response."
   ]
  },
  {
   "cell_type": "code",
   "execution_count": 2,
   "metadata": {},
   "outputs": [
    {
     "data": {
      "text/html": [
       "<div>\n",
       "<style scoped>\n",
       "    .dataframe tbody tr th:only-of-type {\n",
       "        vertical-align: middle;\n",
       "    }\n",
       "\n",
       "    .dataframe tbody tr th {\n",
       "        vertical-align: top;\n",
       "    }\n",
       "\n",
       "    .dataframe thead th {\n",
       "        text-align: right;\n",
       "    }\n",
       "</style>\n",
       "<table border=\"1\" class=\"dataframe\">\n",
       "  <thead>\n",
       "    <tr style=\"text-align: right;\">\n",
       "      <th></th>\n",
       "      <th>categories</th>\n",
       "    </tr>\n",
       "  </thead>\n",
       "  <tbody>\n",
       "    <tr>\n",
       "      <th>0</th>\n",
       "      <td>Arts &amp; Culture</td>\n",
       "    </tr>\n",
       "    <tr>\n",
       "      <th>1</th>\n",
       "      <td>Book Clubs</td>\n",
       "    </tr>\n",
       "    <tr>\n",
       "      <th>2</th>\n",
       "      <td>Career &amp; Business</td>\n",
       "    </tr>\n",
       "    <tr>\n",
       "      <th>3</th>\n",
       "      <td>Cars &amp; Motorcycles</td>\n",
       "    </tr>\n",
       "    <tr>\n",
       "      <th>4</th>\n",
       "      <td>Community &amp; Environment</td>\n",
       "    </tr>\n",
       "    <tr>\n",
       "      <th>5</th>\n",
       "      <td>Dancing</td>\n",
       "    </tr>\n",
       "    <tr>\n",
       "      <th>6</th>\n",
       "      <td>Education &amp; Learning</td>\n",
       "    </tr>\n",
       "    <tr>\n",
       "      <th>7</th>\n",
       "      <td>Fashion &amp; Beauty</td>\n",
       "    </tr>\n",
       "    <tr>\n",
       "      <th>8</th>\n",
       "      <td>Fitness</td>\n",
       "    </tr>\n",
       "    <tr>\n",
       "      <th>9</th>\n",
       "      <td>Food &amp; Drink</td>\n",
       "    </tr>\n",
       "    <tr>\n",
       "      <th>10</th>\n",
       "      <td>Games</td>\n",
       "    </tr>\n",
       "    <tr>\n",
       "      <th>11</th>\n",
       "      <td>Movements &amp; Politics</td>\n",
       "    </tr>\n",
       "    <tr>\n",
       "      <th>12</th>\n",
       "      <td>Health &amp; Wellbeing</td>\n",
       "    </tr>\n",
       "    <tr>\n",
       "      <th>13</th>\n",
       "      <td>Hobbies &amp; Crafts</td>\n",
       "    </tr>\n",
       "    <tr>\n",
       "      <th>14</th>\n",
       "      <td>Language &amp; Ethnic Identity</td>\n",
       "    </tr>\n",
       "    <tr>\n",
       "      <th>15</th>\n",
       "      <td>LGBT</td>\n",
       "    </tr>\n",
       "    <tr>\n",
       "      <th>16</th>\n",
       "      <td>Lifestyle</td>\n",
       "    </tr>\n",
       "    <tr>\n",
       "      <th>17</th>\n",
       "      <td>Movies &amp; Film</td>\n",
       "    </tr>\n",
       "    <tr>\n",
       "      <th>18</th>\n",
       "      <td>Music</td>\n",
       "    </tr>\n",
       "    <tr>\n",
       "      <th>19</th>\n",
       "      <td>New Age &amp; Spirituality</td>\n",
       "    </tr>\n",
       "    <tr>\n",
       "      <th>20</th>\n",
       "      <td>Outdoors &amp; Adventure</td>\n",
       "    </tr>\n",
       "    <tr>\n",
       "      <th>21</th>\n",
       "      <td>Paranormal</td>\n",
       "    </tr>\n",
       "    <tr>\n",
       "      <th>22</th>\n",
       "      <td>Parents &amp; Family</td>\n",
       "    </tr>\n",
       "    <tr>\n",
       "      <th>23</th>\n",
       "      <td>Pets &amp; Animals</td>\n",
       "    </tr>\n",
       "    <tr>\n",
       "      <th>24</th>\n",
       "      <td>Photography</td>\n",
       "    </tr>\n",
       "    <tr>\n",
       "      <th>25</th>\n",
       "      <td>Religion &amp; Beliefs</td>\n",
       "    </tr>\n",
       "    <tr>\n",
       "      <th>26</th>\n",
       "      <td>Sci-Fi &amp; Fantasy</td>\n",
       "    </tr>\n",
       "    <tr>\n",
       "      <th>27</th>\n",
       "      <td>Singles</td>\n",
       "    </tr>\n",
       "    <tr>\n",
       "      <th>28</th>\n",
       "      <td>Socializing</td>\n",
       "    </tr>\n",
       "    <tr>\n",
       "      <th>29</th>\n",
       "      <td>Sports &amp; Recreation</td>\n",
       "    </tr>\n",
       "    <tr>\n",
       "      <th>30</th>\n",
       "      <td>Support</td>\n",
       "    </tr>\n",
       "    <tr>\n",
       "      <th>31</th>\n",
       "      <td>Tech</td>\n",
       "    </tr>\n",
       "    <tr>\n",
       "      <th>32</th>\n",
       "      <td>Writing</td>\n",
       "    </tr>\n",
       "  </tbody>\n",
       "</table>\n",
       "</div>"
      ],
      "text/plain": [
       "                    categories\n",
       "0               Arts & Culture\n",
       "1                   Book Clubs\n",
       "2            Career & Business\n",
       "3           Cars & Motorcycles\n",
       "4      Community & Environment\n",
       "5                      Dancing\n",
       "6         Education & Learning\n",
       "7             Fashion & Beauty\n",
       "8                      Fitness\n",
       "9                 Food & Drink\n",
       "10                       Games\n",
       "11        Movements & Politics\n",
       "12          Health & Wellbeing\n",
       "13            Hobbies & Crafts\n",
       "14  Language & Ethnic Identity\n",
       "15                        LGBT\n",
       "16                   Lifestyle\n",
       "17               Movies & Film\n",
       "18                       Music\n",
       "19      New Age & Spirituality\n",
       "20        Outdoors & Adventure\n",
       "21                  Paranormal\n",
       "22            Parents & Family\n",
       "23              Pets & Animals\n",
       "24                 Photography\n",
       "25          Religion & Beliefs\n",
       "26            Sci-Fi & Fantasy\n",
       "27                     Singles\n",
       "28                 Socializing\n",
       "29         Sports & Recreation\n",
       "30                     Support\n",
       "31                        Tech\n",
       "32                     Writing"
      ]
     },
     "execution_count": 2,
     "metadata": {},
     "output_type": "execute_result"
    }
   ],
   "source": [
    "#using requests library\n",
    "params = {\"key\": 'INSERT YOUR API KEY HERE' } # INSERT RETRIVED API KEY HERE(instructions posted in earlier section)\n",
    "r = requests.get('https://api.meetup.com/2/categories', params = params)\n",
    "temp_dict = {}\n",
    "temp_dict['categories'] = []\n",
    "response = json.loads(r.content.decode('UTF-8')) #converting a string to json/dict format\n",
    "\n",
    "for result in response['results']:\n",
    "    temp_dict['categories'].append(result['name'])\n",
    "    \n",
    "categories_df = pd.DataFrame()    \n",
    "categories_df = categories_df.from_dict(temp_dict, orient='columns')\n",
    "categories_df"
   ]
  },
  {
   "cell_type": "markdown",
   "metadata": {},
   "source": [
    "All the categories of meetups have been displayed above as a pandas dataframe."
   ]
  },
  {
   "cell_type": "markdown",
   "metadata": {},
   "source": [
    "## Showing Equivalency of Different Request Methods"
   ]
  },
  {
   "cell_type": "markdown",
   "metadata": {},
   "source": [
    "Now, we will use meetup.api library to perform the same GET request as above. We make a class object using the API key for authorization and use GetCategories() to perform the request."
   ]
  },
  {
   "cell_type": "code",
   "execution_count": 3,
   "metadata": {},
   "outputs": [
    {
     "name": "stdout",
     "output_type": "stream",
     "text": [
      "28/30 (10 seconds remaining)\n",
      "True\n"
     ]
    }
   ],
   "source": [
    "client = meetup.api.Client('INSERT YOUR API KEY HERE')  # INSERT RETRIVED API KEY HERE(instructions posted in earlier section)\n",
    "print(client.GetCategories().results == response['results']) #shows that both methods of accessing api methods are equivalent"
   ]
  },
  {
   "cell_type": "markdown",
   "metadata": {},
   "source": [
    "**Note: The above output message 28/30 (10 seconds remaining), is a part of how the Client class functions and approximates how much time it takes to retrieve data. Ignore these statements for the purpose of this tutorial.**"
   ]
  },
  {
   "cell_type": "markdown",
   "metadata": {},
   "source": [
    "## Search City/Cities\n",
    "The GetCities() function is to use the GET /2/cities API, and gives us upto 10 cities. The ranking is based on the request parameters. In the example shown below, we set page to 1 to get the most relevant value. We specify query in city and the specify the state. The results are stored in an array. The same search can also be done using lattitute and longitude as input parameters. Refer to the API documentation for more information on request parameters."
   ]
  },
  {
   "cell_type": "code",
   "execution_count": 4,
   "metadata": {},
   "outputs": [
    {
     "name": "stdout",
     "output_type": "stream",
     "text": [
      "27/30 (10 seconds remaining)\n",
      "26/30 (10 seconds remaining)\n",
      "Pittsburg Meetup User Count: 20814\n",
      "Mountain View Meetup User Count: 60351\n"
     ]
    }
   ],
   "source": [
    "pitts = client.GetCities(query = 'Pittsburg', state = 'PA', page =1) #set page=1 to get most relevant value for city search\n",
    "mv = client.GetCities(query = 'San Francisco', state = 'CA', page =1)\n",
    "\n",
    "#Displaying the results\n",
    "print('Pittsburg Meetup User Count: ', end ='')\n",
    "print(pitts.results[0]['member_count'])\n",
    "print('Mountain View Meetup User Count: ', end ='')\n",
    "print(mv.results[0]['member_count'])"
   ]
  },
  {
   "cell_type": "markdown",
   "metadata": {},
   "source": [
    "## The ONLY Request Parameter\n",
    "A lot of the GET requests used for data collection, returns a lot of response parameters. We usually do not need a lot of these parameters for analysis. The only request parameter helps omit the response parameters we do not need. \n",
    "\n",
    "To show the use of the parameter we will make us of the API: GET /2/concierge using GetConcierge() function from meetup.api library. This API recommends upcoming meetups for the authorized member in a given location and in their groups."
   ]
  },
  {
   "cell_type": "code",
   "execution_count": 5,
   "metadata": {},
   "outputs": [
    {
     "name": "stdout",
     "output_type": "stream",
     "text": [
      "25/30 (10 seconds remaining)\n"
     ]
    },
    {
     "data": {
      "text/plain": [
       "{'duration': 50400000,\n",
       " 'group': {'created': 1240357927000,\n",
       "  'group_lat': 37.380001068115234,\n",
       "  'group_lon': -122.08000183105469,\n",
       "  'id': 1440357,\n",
       "  'join_mode': 'approval',\n",
       "  'name': 'San Jose/Peninsula Volleyball Meetup Group',\n",
       "  'urlname': 'San-Jose-Peninsula-Volleyball-Meetup-Group',\n",
       "  'who': 'Volleyball players'},\n",
       " 'id': '249159138',\n",
       " 'name': 'Saturday Volleyball, 11:15-7:00, Las Palmas',\n",
       " 'time': 1522520100000,\n",
       " 'utc_offset': -25200000,\n",
       " 'visibility': 'public_limited',\n",
       " 'waitlist_count': 0,\n",
       " 'yes_rsvp_count': 29}"
      ]
     },
     "execution_count": 5,
     "metadata": {},
     "output_type": "execute_result"
    }
   ],
   "source": [
    "concierge = client.GetConcierge()\n",
    "concierge.results[0]"
   ]
  },
  {
   "cell_type": "code",
   "execution_count": 6,
   "metadata": {},
   "outputs": [
    {
     "name": "stdout",
     "output_type": "stream",
     "text": [
      "24/30 (9 seconds remaining)\n"
     ]
    },
    {
     "data": {
      "text/plain": [
       "{'name': 'Saturday Volleyball, 11:15-7:00, Las Palmas'}"
      ]
     },
     "execution_count": 6,
     "metadata": {},
     "output_type": "execute_result"
    }
   ],
   "source": [
    "concierge = client.GetConcierge(only = 'name')\n",
    "concierge.results[0]"
   ]
  },
  {
   "cell_type": "markdown",
   "metadata": {},
   "source": [
    "## Getting Group Data\n",
    "There is a meetup called PGH Data Science(https://www.meetup.com/PGH-Data-Science/) in Pittsburgh, PA. We could use some API methods to find out more information about a particular group. This will help us get comfortable in retrieving data using APIs so that these methods could be extended to access information of hundreds of groups. \n",
    "\n",
    "The first method that we will try out is GET /:urlname using the GetGroups() function from meetup.api library. In this case the URL name for the group is 'PGH-Data-Science'"
   ]
  },
  {
   "cell_type": "code",
   "execution_count": 7,
   "metadata": {},
   "outputs": [
    {
     "name": "stdout",
     "output_type": "stream",
     "text": [
      "23/30 (9 seconds remaining)\n",
      "['__class__', '__delattr__', '__dict__', '__dir__', '__doc__', '__eq__', '__format__', '__ge__', '__getattribute__', '__gt__', '__hash__', '__init__', '__init_subclass__', '__le__', '__lt__', '__module__', '__ne__', '__new__', '__reduce__', '__reduce_ex__', '__repr__', '__setattr__', '__sizeof__', '__str__', '__subclasshook__', '__weakref__', 'category', 'city', 'country', 'created', 'description', 'id', 'join_mode', 'key_photo', 'lat', 'link', 'localized_country_name', 'localized_location', 'lon', 'members', 'meta_category', 'name', 'next_event', 'organizer', 'state', 'status', 'timezone', 'urlname', 'visibility', 'who']\n"
     ]
    }
   ],
   "source": [
    "group = client.GetGroup({\"urlname\": 'PGH-Data-Science'}) #urlname has to be dict as per documentation\n",
    "print(dir(group))"
   ]
  },
  {
   "cell_type": "markdown",
   "metadata": {},
   "source": [
    "The attributes of the Client object have been printed above. We will now display the group description, member count, and next event"
   ]
  },
  {
   "cell_type": "code",
   "execution_count": 8,
   "metadata": {},
   "outputs": [
    {
     "name": "stdout",
     "output_type": "stream",
     "text": [
      "Group Description: <p>This group is for data scientists, data engineers, big data workers, data analysts, and people that want to get into these fields. We are not focused on specific tools or platforms, but rather have open discussions about anything/everything in the data/analytics space. Whether you work in Scala/Python/R/Java/.NET, Hadoop/SQL/Oracle/Teradata, or Excel/Tableau, we can learn from each other.</p>\n",
      "Number of members: 873\n",
      "Next Upcoming Event: {'id': '249129128', 'name': '... From Scratch', 'yes_rsvp_count': 30, 'time': 1524178800000, 'utc_offset': -14400000}\n"
     ]
    }
   ],
   "source": [
    "print(\"Group Description: \", end ='')\n",
    "print(group.description)\n",
    "print(\"Number of members: \", end ='')\n",
    "print(group.members)\n",
    "print(\"Next Upcoming Event: \", end ='')\n",
    "print(group.next_event)"
   ]
  },
  {
   "cell_type": "markdown",
   "metadata": {},
   "source": [
    "## Getting Event Details\n",
    "\n",
    "Now for a given group we will obtain data for both past and future events planned by the group PGH Data Science. The API that will be used is GET https://api.meetup.com/2/events. The function defined for this purpose in the meetup.api library is called getEvents(). It takes several input parameters, which needs at least one of REQUIRED parameters to be passed. In this case we will use the group urlname, that is 'PGH-Data-Science'. We also use a optional parameter called status, that is used to request upcoming, past, proposed, suggested, cancelled, or draft events. For more details on required and optional parameters refer API documentation(https://www.meetup.com/meetup_api/docs/2/events/). \n",
    "The data we are specifically interested in this case is the number of people planning to attend the event which is given by 'yes_rsvp_count' response parameter. "
   ]
  },
  {
   "cell_type": "code",
   "execution_count": 9,
   "metadata": {},
   "outputs": [
    {
     "name": "stdout",
     "output_type": "stream",
     "text": [
      "22/30 (9 seconds remaining)\n",
      "21/30 (8 seconds remaining)\n"
     ]
    },
    {
     "data": {
      "text/plain": [
       "[<matplotlib.lines.Line2D at 0x12ab3db0>]"
      ]
     },
     "execution_count": 9,
     "metadata": {},
     "output_type": "execute_result"
    },
    {
     "data": {
      "image/png": "[encoded data removed]",
      "text/plain": [
       "<matplotlib.figure.Figure at 0x11a69590>"
      ]
     },
     "metadata": {},
     "output_type": "display_data"
    }
   ],
   "source": [
    "events_past = client.GetEvents(group_urlname = 'PGH-Data-Science',status = 'past', only = 'yes_rsvp_count')#Getting past events\n",
    "events_upcoming = client.GetEvents(group_urlname = 'PGH-Data-Science',status = 'upcoming', only = 'yes_rsvp_count')#Getting upcoming events\n",
    "events = events_past.results + events_upcoming.results #concatenating both arrays\n",
    "\n",
    "df = pd.DataFrame(events)#load json dict into dataframe\n",
    "plt.xlabel('Event')\n",
    "plt.ylabel('RSVP Count')\n",
    "plt.plot(range(len(df)), df.as_matrix().flatten(), '.b-')"
   ]
  },
  {
   "cell_type": "markdown",
   "metadata": {},
   "source": [
    "The above scatter plot shows the number of people who signed up for the 10 most recent past events and an upcoming event. A further analysis of this data could reveal important details like the days of the week that get most RSVPs, or the venue of event that gets more members to attend."
   ]
  },
  {
   "cell_type": "markdown",
   "metadata": {},
   "source": [
    "## Quantitative Analysis"
   ]
  },
  {
   "cell_type": "markdown",
   "metadata": {},
   "source": [
    "Before we begin retrieving data, the API for retireving all the groups for a given topic(s) is done by calling the function getGroups() from the meetup.api library. The parameter for the function are topics, latitute, longitude, radius(default =25 miles), and offset(because maximum number of groups that can be fetched at a time is 200) \n",
    "\n",
    "To get the coordinates we will use Nominatim for the geopy library. We will also test this function to get the coordinates for Pittsburg, PA"
   ]
  },
  {
   "cell_type": "code",
   "execution_count": 10,
   "metadata": {},
   "outputs": [
    {
     "name": "stdout",
     "output_type": "stream",
     "text": [
      "Latitude: 40.4416941\n",
      "Longitude: -79.9900861\n"
     ]
    }
   ],
   "source": [
    "from geopy.geocoders import Nominatim\n",
    "geolocator = Nominatim() #create object\n",
    "coordinates = geolocator.geocode('pittsburg, pa')\n",
    "print('Latitude: ', end='')\n",
    "print(coordinates.latitude)\n",
    "\n",
    "print('Longitude: ', end='')\n",
    "print(coordinates.longitude)"
   ]
  },
  {
   "cell_type": "markdown",
   "metadata": {},
   "source": [
    "Here we will make a list of cities we are interested in finding out more information on. We will compare 4 big US cities and see which city has more 'yoga' meetup groups. We use the Client.GetGroups() function to get the respective meetgroups.\n",
    "To further explain, the function client.GetGroups(topic = 'yoga, lat = 40.4416941, lon = -79.9900861,radius = 100, page=200, offset=0) is the same as GET https://api.meetup.com/2/categories?topic=yoga&lat=79.18&long=&radius=100&page=200&offset=0"
   ]
  },
  {
   "cell_type": "code",
   "execution_count": 11,
   "metadata": {},
   "outputs": [
    {
     "name": "stdout",
     "output_type": "stream",
     "text": [
      "20/30 (6 seconds remaining)\n",
      "19/30 (5 seconds remaining)\n",
      "18/30 (4 seconds remaining)\n",
      "17/30 (2 seconds remaining)\n",
      "16/30 (1 seconds remaining)\n",
      "29/30 (10 seconds remaining)\n",
      "28/30 (9 seconds remaining)\n",
      "27/30 (8 seconds remaining)\n",
      "26/30 (7 seconds remaining)\n",
      "25/30 (5 seconds remaining)\n",
      "24/30 (4 seconds remaining)\n",
      "23/30 (3 seconds remaining)\n",
      "22/30 (2 seconds remaining)\n",
      "21/30 (1 seconds remaining)\n",
      "29/30 (10 seconds remaining)\n",
      "28/30 (9 seconds remaining)\n",
      "27/30 (8 seconds remaining)\n"
     ]
    },
    {
     "data": {
      "image/png": "[encoded data removed]",
      "text/plain": [
       "<matplotlib.figure.Figure at 0x11848ef0>"
      ]
     },
     "metadata": {},
     "output_type": "display_data"
    }
   ],
   "source": [
    "cities = ['sf bay area', 'los angeles', 'new york', 'boston']\n",
    "\n",
    "topic = 'yoga'\n",
    "\n",
    "#Plots the number of meetups for a topic for a list of cities\n",
    "def plotCityMeetup(topic, cities):\n",
    "    cities_coord = []\n",
    "    group_count = [] #array that holds the count of each city\n",
    "    for city in cities:\n",
    "        cities_coord = geolocator.geocode(city)\n",
    "        finish = False\n",
    "        temp_count = 0\n",
    "        offset = 0 \n",
    "        while(not(finish)): #loop to offset pages\n",
    "            city_groups = client.GetGroups(topic = topic, lat = cities_coord.latitude, lon = cities_coord.longitude,radius = 100, page=200, offset=offset)\n",
    "            #the above line is equilvalent too GET https://api.meetup.com/2/categories?topic=yoga&lat=79.18&long=-122&radius=100&page=200&offset=0\n",
    "            if(len(city_groups.results) == 0):\n",
    "                finish = True\n",
    "            temp_count += len(city_groups.results)\n",
    "            offset += 1\n",
    "        group_count.append(temp_count)\n",
    "    plt.bar(cities, group_count, align='center', alpha=0.5)\n",
    "    plt.show()\n",
    "\n",
    "plotCityMeetup(topic, cities)\n"
   ]
  },
  {
   "cell_type": "markdown",
   "metadata": {},
   "source": [
    "The above plot shows the number of meetup groups associated with the topic yoga in four major cities,\n",
    "\n",
    "As a part of quantitative analysis we will use the same API and write function to see the total number of meetup members associated with a given topic around each of the four cities mentioned earlier."
   ]
  },
  {
   "cell_type": "code",
   "execution_count": 12,
   "metadata": {},
   "outputs": [
    {
     "name": "stdout",
     "output_type": "stream",
     "text": [
      "26/30 (6 seconds remaining)\n",
      "25/30 (5 seconds remaining)\n",
      "24/30 (4 seconds remaining)\n",
      "23/30 (2 seconds remaining)\n",
      "22/30 (1 seconds remaining)\n",
      "29/30 (10 seconds remaining)\n",
      "28/30 (9 seconds remaining)\n",
      "27/30 (8 seconds remaining)\n",
      "26/30 (7 seconds remaining)\n",
      "25/30 (6 seconds remaining)\n",
      "24/30 (5 seconds remaining)\n",
      "23/30 (4 seconds remaining)\n",
      "22/30 (3 seconds remaining)\n",
      "21/30 (2 seconds remaining)\n",
      "20/30 (0 seconds remaining)\n",
      "29/30 (10 seconds remaining)\n",
      "28/30 (9 seconds remaining)\n",
      "[124281, 336564, 319661, 99196]\n"
     ]
    },
    {
     "data": {
      "image/png": "[encoded data removed]",
      "text/plain": [
       "<matplotlib.figure.Figure at 0x13fde690>"
      ]
     },
     "metadata": {},
     "output_type": "display_data"
    }
   ],
   "source": [
    "def city_group_members(topic, cities):\n",
    "    cities_coord = []\n",
    "    group_data = []\n",
    "    members_count_array = []\n",
    "    for city in cities:\n",
    "        cities_coord = geolocator.geocode(city)\n",
    "        avg = 0\n",
    "        offset = 0 \n",
    "        temp_count = 0\n",
    "        temp_group_data = []\n",
    "        while(True): #loop for offsetting through each page of upto 200 groups\n",
    "            city_groups = client.GetGroups(topic = topic, lat = cities_coord.latitude, lon = cities_coord.longitude,radius = 100, page=200, offset=offset, only = 'members')\n",
    "            if(len(city_groups.results) == 0):\n",
    "                break;\n",
    "            temp_group_data += city_groups.results\n",
    "            offset += 1\n",
    "        group_data.append(temp_group_data)\n",
    "\n",
    "    for i, group in enumerate(group_data):\n",
    "        all_df = pd.DataFrame(group)\n",
    "        members_count_array.append(int(all_df.sum()))\n",
    "    print(members_count_array)\n",
    "   \n",
    "    plt.bar(cities, members_count_array, align='center', alpha=0.5)\n",
    "    plt.show()\n",
    "\n",
    "city_group_members(topic, cities)"
   ]
  },
  {
   "cell_type": "markdown",
   "metadata": {},
   "source": [
    "The above plot shows the number of people who are members of a group that is associated with the topic yoga. This can help people like yoga instructors who would wish to relocate, or the one's relocating for other reasons but consider Yoga an integral part of thier lifestyle."
   ]
  },
  {
   "cell_type": "markdown",
   "metadata": {},
   "source": [
    "## Qualitative Analysis\n",
    "Earlier we did a quantitative analysis in determining which city had a higher number of meetups for a specific interest. Now we do a qualitative analysis using the average group ratings for a particular city."
   ]
  },
  {
   "cell_type": "code",
   "execution_count": 13,
   "metadata": {},
   "outputs": [
    {
     "name": "stdout",
     "output_type": "stream",
     "text": [
      "27/30 (8 seconds remaining)\n",
      "26/30 (7 seconds remaining)\n",
      "25/30 (6 seconds remaining)\n",
      "24/30 (4 seconds remaining)\n",
      "23/30 (3 seconds remaining)\n",
      "22/30 (2 seconds remaining)\n",
      "21/30 (1 seconds remaining)\n",
      "29/30 (10 seconds remaining)\n",
      "28/30 (9 seconds remaining)\n",
      "27/30 (8 seconds remaining)\n",
      "26/30 (7 seconds remaining)\n",
      "25/30 (6 seconds remaining)\n",
      "24/30 (5 seconds remaining)\n",
      "23/30 (4 seconds remaining)\n",
      "22/30 (2 seconds remaining)\n",
      "21/30 (1 seconds remaining)\n",
      "20/30 (0 seconds remaining)\n",
      "\n",
      "===Mean===\n",
      "sf bay area: 2.8783602150537635\n",
      "los angeles: 2.7564259485924114\n",
      "new york: 2.7829895366218236\n",
      "boston: 3.076991150442478\n"
     ]
    }
   ],
   "source": [
    "#find average meetup rating of each city for a given topic\n",
    "def qualitative(topic, cities):\n",
    "    cities_coord = []\n",
    "    group_data = []\n",
    "    for city in cities:\n",
    "        cities_coord = geolocator.geocode(city)\n",
    "        finish = False\n",
    "        avg = 0\n",
    "        offset = 0 \n",
    "        temp_count = 0\n",
    "        temp_group_data = []\n",
    "        while(True): #loop for offsetting through each page of upto 200 groups\n",
    "            city_groups = client.GetGroups(topic = topic, lat = cities_coord.latitude, lon = cities_coord.longitude,radius = 100, page=200, offset=offset, only ='rating')\n",
    "            if(len(city_groups.results) == 0):\n",
    "                break;\n",
    "            temp_group_data += city_groups.results\n",
    "            offset += 1\n",
    "        group_data.append(temp_group_data)\n",
    "        \n",
    "    avg_array = []\n",
    "    print('')\n",
    "    print('===Mean===')\n",
    "    for i, group in enumerate(group_data):\n",
    "        all_df = pd.DataFrame(group)\n",
    "        ratings_df = all_df['rating']\n",
    "        mean = ratings_df.mean()\n",
    "        print(cities[i] + ': '+ str(mean))\n",
    "qualitative(topic, cities)"
   ]
  },
  {
   "cell_type": "markdown",
   "metadata": {},
   "source": [
    "The average rating for each city is mentioned above."
   ]
  },
  {
   "cell_type": "markdown",
   "metadata": {},
   "source": [
    "## Summary and References\n",
    "\n",
    "This tutorial highlighted most of the features that the Meetup-API offers from a data science perspective and focussed on the data obtained through GET requests. The applications of these API methods can be extended to other fields and to make changes to the website, such as commenting and RSVPing to an event, POST request methods could be used. The meetup.api library has functions for the same purpose too. A lot of other information on the libraries used and the APIs can be obtained from the resources mentioned below. The Meetup-API console is particularly helpful for quickly testing the APIs and analyzing the API methods.\n",
    "\n",
    "1. Meetup.com: https://www.meetup.com/\n",
    "2. Meetup-API Python library: https://meetup-api.readthedocs.io/\n",
    "3. Meetup API Console: https://secure.meetup.com/meetup_api/console/\n",
    "4. Geopy Geocoders: https://geopy.readthedocs.io/en/stable/"
   ]
  }
 ],
 "metadata": {
  "kernelspec": {
   "display_name": "Python 3",
   "language": "python",
   "name": "python3"
  },
  "language_info": {
   "codemirror_mode": {
    "name": "ipython",
    "version": 3
   },
   "file_extension": ".py",
   "mimetype": "text/x-python",
   "name": "python",
   "nbconvert_exporter": "python",
   "pygments_lexer": "ipython3",
   "version": "3.6.4"
  }
 },
 "nbformat": 4,
 "nbformat_minor": 2
}
