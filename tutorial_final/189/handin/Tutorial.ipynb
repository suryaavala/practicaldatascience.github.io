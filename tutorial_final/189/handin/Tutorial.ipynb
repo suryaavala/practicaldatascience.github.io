{
 "cells": [
  {
   "cell_type": "markdown",
   "metadata": {},
   "source": [
    "# Introduction\n",
    "\n",
    "This tutorial will introduce Aho–Corasick(AC) algorithm, this algorithm is used to searching specific strings in a text, given pattern set. \n",
    "\n",
    "Let’s say pattern set is {his, he, hers, she}, and text is “hershershershers”, then we use Aho–Corasick algorithm to get positions of patterns occurring at text, i.g.:\n",
    "\n",
    "1 ['he']\n",
    "<br>\n",
    "3 ['hers']\n",
    "<br>\n",
    "5 ['she', 'he']\n",
    "<br>\n",
    "7 ['hers']\n",
    "<br>\n",
    "9 ['she', 'he']\n",
    "<br>\n",
    "11 ['hers']\n",
    "<br>\n",
    "13 ['she', 'he']\n",
    "<br>\n",
    "15 ['hers']\n",
    "\n",
    "Number indicates the position of the last letter, followed list indicates which patterns match at this position, e.g. 5 ['she', 'he'] means that 'she' and 'he' occur and their ‘e’ are the 5th letter at original string ‘hershershershers’ (indexing from 0).\n",
    "\n",
    "In data science, manipulating string and searching for patterns are fundamental, we often process tons of text data, searching strings is a very basic but important operation. For example, occurrence frequency of a specific pattern in corpus can be a feature in machine learning algorithm, and we count occurrence by pattern matching. On the other side, we can filter out patterns by searching patterns algorithm.\n",
    "\n",
    "A famous fast string matching algorithm is Knuth-Morris-Pratt(KMP) algorithm, it matches one pattern with linear complexity. But it only searches for one pattern, when we want to match multiple patterns, its complexity will time number of patterns, which is unacceptable. So, AC algorithm is introduced, providing linear complexity multiple patterns matching.\n"
   ]
  },
  {
   "cell_type": "markdown",
   "metadata": {},
   "source": [
    "# Aho–Corasick Algorithm\n",
    "AC algorithm is invented by Alfred V. Aho and Margaret J. Corasick in 1975[1], and it is the most classic multiple pattern matching algorithm. It’s based on Deterministic Finite Automaton(DFA).\n",
    "\n",
    "Actually, when pre-processing, we generate three functions: goto, failure and output. \n",
    "<br>\n",
    "Goto function decide state transition when letter matches.\n",
    "<br>\n",
    "Failure function decide state transition when letter mismatches.\n",
    "<br>\n",
    "Output function decide which patterns to output at current state.\n",
    "\n",
    "At first, let me demostrate this algorithm using existing goto, failure and output functions. Then I will introduce the way to computer these three functions."
   ]
  },
  {
   "cell_type": "markdown",
   "metadata": {},
   "source": [
    "## Example\n",
    "Following is an example from Alfred V. Aho and Margaret J. Corasick’s original paper[2].\n",
    "\n",
    "<img src=\"files/imgs/example.png\" width=\"400\">\n",
    "\n",
    "In this example, pattern set is {his, he, hers, she}. Assuming string we want to search in is “hshe”.\n",
    "\n",
    "At state 0, ‘h’ matches, so we use goto function to transit to state 1 and consume one letter in “hshe”, now we’re at letter ‘s’. \n",
    "\n",
    "State 1 has two ways out ‘e’ and ‘i’, but neither of these match ‘s’, so failure function leads us to state 0 because f(1) = 0.\n",
    "\n",
    "At state 0, goto function has entrance ‘s’, so we go to state 3 and consume ‘s’ in “hshe”. Then we go to state 4, consuming ‘h’. Then we goto state 5, consuming ‘e’. \n",
    "\n",
    "At state 5, we output {she, he} because output function is valid at state 5. At last, we finish processing “hshe”, and output “3, {she, he}”. (3 is index of where we are at the string).\n",
    "\n",
    "Algorithm ends because we consume all letters."
   ]
  },
  {
   "cell_type": "markdown",
   "metadata": {},
   "source": [
    "## Get Three Functions\n",
    "### Goto Function\n",
    "Firstly, I will introduce how to generate goto function. Goto(r, a) = s means that state r can go to state s given input a.\n",
    "\n",
    "Obviously, goto function is be represented as a prefix trie of pattern set. So, we can use dict in python to construct this structure. I add patterns one by one. In order, for every letter in pattern, if this letter exist in dict, go to nested dict, else create a new nested dict. \n",
    "\n",
    "At the same time, we can generate output function. I use '|' to indicate the end of pattern and store corresponding pattern in it for further use. When we are searching for patterns, occurrence of '|' means that we can output positions at this state."
   ]
  },
  {
   "cell_type": "code",
   "execution_count": 3,
   "metadata": {},
   "outputs": [
    {
     "name": "stdout",
     "output_type": "stream",
     "text": [
      "Goto function\n",
      "h : {'i': {'s': {'|': 'his'}}, 'e': {'|': 'he', 'r': {'s': {'|': 'hers'}}}}\n",
      "s : {'h': {'e': {'|': 'she'}}}\n"
     ]
    }
   ],
   "source": [
    "root = {}\n",
    "def add(self, pattern):\n",
    "    for letter in pattern:\n",
    "        self = self.setdefault(letter,{})\n",
    "    self['|'] = pattern\n",
    "\n",
    "add(root,'his')\n",
    "add(root,'he')\n",
    "add(root,'hers')\n",
    "add(root,'she')\n",
    "\n",
    "print(\"Goto function\")\n",
    "for i in root:\n",
    "    print(i,':', root[i])"
   ]
  },
  {
   "cell_type": "markdown",
   "metadata": {},
   "source": [
    "### Failure Function\n",
    "Fail[state] = next state when letter mismatches.\n",
    "\n",
    "At first, in trie, we define depth of a node as length of path from root.\n",
    " \n",
    "<img src=\"files/imgs/trie_.png\" width=\"400\"> \n",
    " \n",
    "In above trie, node 0 has depth of 0, node 1 and 3 have depth of 1, etc. Layer x mean nodes with depth of x.\n",
    "\n",
    "We will get failure function layer by layer. We define that fail(0) = 0, and all nodes with depth 1 have failure value 0, i.g. fail(1) = fail(3) = 0. Because in layer 0 and layer 1, if we mismatch, we start from the very begining. Then we use recursion to get all layers' failure function.\n",
    "\n",
    "In order in to get failure function output of state s at depth d, assuming that we have failure functions for node r at d-1 layer:\n",
    "<br>\n",
    "<br>\n",
    "<center>if there is an input a making goto(r, a) = s, then we have fail(s) = goto( f(r), a).</center>\n",
    "\n",
    "E.g. we have goto(3, h) = 4, so we have fail(4) = goto( f(3) , h) = goto(0, h) = 1\n",
    "\n",
    "Because when we fail at layer d, we succeed at every letter from root to current letter, in this example, we match ‘sh’, though we fail to extend this string, we still have chance to match suffix of current matched string, in the other words, there may be other paths matching this suffix ‘h’, failure function indicates possible match of this suffix.\n",
    "\n",
    "### Output Function\n",
    "Output function indicates which patterns are matched at current node, e.g. at node 5, there’re two matches: ‘she’ and ‘he’. Generate output function is very straightforward, when we construct prefix trie, when add patterns one by one, at the same time, we append current pattern to output set of the end node of current pattern. E.g. we append ‘she’ at node 5, and we append 'he' at node 5.\n",
    "\n",
    "<br>\n",
    "<br>\n",
    "But there’s a problem here in practice, in our trie, most entrances are invalid, so when amount of patterns becomes very large, nested dictionaries can be very memory-consuming. Instead, we can optimize memory usage by using double array trie[3] to represent this structure."
   ]
  },
  {
   "cell_type": "markdown",
   "metadata": {},
   "source": [
    "## Double Array Trie\n",
    "There’re three tables in double array trie: Next table, Base table and Check table.\n",
    "<br>\n",
    "If we are in state s, transit to state t given input c, an important formula is:\n",
    "<center>&t in Next table = &s in Next table + Base[s] + ord(c)   for s[c] -> t</center>\n",
    "<br>\n",
    "It means that position of state t in Next table = position of state s in Next table + Base value of s + ascii value of input c. And Check[t] = s is used to indicates valid state transition, if Check[t] != s, even above formula is true, we can not say that state s transit to state t.\n",
    "\n",
    "Let’s demostrate a double array trie based on this formula. The example is the same as we used above {his, he, hers, she}. \n",
    "<br>\n",
    "Here is the prefix trie. ASCII value h=104; s=115; e=101; i=105; r=114.\n",
    "<img src=\"files/imgs/trie.png\" width=\"400\">\n",
    "\n",
    "We update tables layer by layer, the first layer is {h, s}, and the second is {e, i, h}, etc.\n",
    "<br>\n",
    "Root has state id 0. For the first layer, there are two new states, we increasingly assign them states id of 1 and 2. Because these two states are transited from state 0, according to the formula, &1(=1) = 0 + Base[0] + ord(h), we get that Base[0] = -103; &2(=12) = 0 + Base[0] + ord(s), Base[0] = -103.\n",
    "\n",
    "Check[1] = 0; Check[2] = 0.\n",
    "<center>Next table</center>\n",
    "<img src=\"files/imgs/nexttable_first.png\" width=\"700\">\n",
    "We notice that states from the same former states are in the Next table with a distance of difference of their ascii values, &2 - &1 = ord(s) – ord(h).\n",
    "\n",
    "As for the second layer {e, i, h}, in the same way, assigned them state id 3, 4 and 5. State 3 and state 4 come from state 1(h), so Base[1] = &3(2) – 1 – ord(e) = -100. State 5 comes from state 2, so Base[2] = &5(3) – 12 – ord(h) = -113. \n",
    "\n",
    "And we always want to put them in the same Next table to save space, so state 3(e) is right next to state 1(h). If there’s conflict, try next cell, and we allocate 256 more space if needed. You may notice that we can always find the entrance of new state by the formula, whatever the offset is, because Base table varies as we move states of new layer integrally.\n",
    "\n",
    "Check[3] = 1; Check[4] = 1; Check[5] = 2.\n",
    "<center>Next table</center>\n",
    "<img src=\"files/imgs/nexttable_second.png\" width=\"700\">\n",
    "\n",
    "Similarly, we assign r, s and e state id 6, 7 and 8. Base[3] = -113, Base[4] = -116, Base[5] = -97\n",
    "Check[6]=3; Check[7]=4; Check[8]=5.\n",
    "<center>Next table</center>\n",
    " <img src=\"files/imgs/nexttable_third.png\" width=\"700\">\n",
    "At last, we assign s state id 9, Base[6] = -111, Check[9] = 6\n",
    " \n",
    "<center>Final Next table</center>\n",
    " <img src=\"files/imgs/nexttable_final.png\" width=\"700\">\n",
    " \n",
    "<center>Base table</center>\n",
    " <img src=\"files/imgs/base.png\" width=\"400\">\n",
    " \n",
    "<center>Check table</center>\n",
    " <img src=\"files/imgs/check.png\" width=\"400\">\n",
    " \n",
    "<center>Fail function</center>\n",
    " <img src=\"files/imgs/failure.png\" width=\"400\">\n",
    "\n",
    "<center>\n",
    "output function:\n",
    "<br>\n",
    "3 ['he']\n",
    "<br>\n",
    "7 ['his']\n",
    "<br>\n",
    "8 ['she', 'he']\n",
    "<br>\n",
    "9 ['hers']\n",
    "<br>\n",
    "</center>\n",
    "In this way, Base table and Check table only use memory of number of states, and we can put Next table into several times 256 memory cell (ascii has 256 values). You can see in this way, we save a lot of space by put them compactly. Code is followed.\n",
    "\n"
   ]
  },
  {
   "cell_type": "code",
   "execution_count": 4,
   "metadata": {
    "collapsed": true
   },
   "outputs": [],
   "source": [
    "#init next,check,fail tables\n",
    "#fail table stores states from failure states, fail[i][0] is position in next table, fail[i][1] is state id\n",
    "check = {}\n",
    "queue = []\n",
    "fail = {}\n",
    "fail[0] = (0,0)\n",
    "nexttable = {}\n",
    "nexttable[0] = (0,None)\n",
    "j = 1\n",
    "state = 1\n",
    "\n",
    "#init tables for the first layer of trie\n",
    "sortedKeys = sorted(root.keys())\n",
    "for x in sortedKeys:\n",
    "    position = j + ord(x) - ord(sortedKeys[0])\n",
    "    nexttable[position] = (state,x) #update next table\n",
    "    check[state] = 0 #update check table\n",
    "    fail[state] = (0,0) #update fail function\n",
    "    queue.append((root[x],position,state))#keep pointer of trie, position in next table, state id\n",
    "    state += 1\n",
    "j+=1\n",
    "\n",
    "#generate base table for the first layer\n",
    "#position of state t in next table = position of state s in next table + Base value of s + ascii value of input c\n",
    "base = {}\n",
    "base[0] = 1 - 0 - ord(nexttable[1][1])  \n",
    "\n",
    "output = {}"
   ]
  },
  {
   "cell_type": "code",
   "execution_count": 5,
   "metadata": {
    "collapsed": true
   },
   "outputs": [],
   "source": [
    "#BFS, update next,base,fail\n",
    "while len(queue) != 0:\n",
    "    p = queue[0][0]\n",
    "    if len(p.keys()) != 1 or list(p.keys())[0] != '|': #if not ends\n",
    "        base[queue[0][2]] = j - queue[0][1] - ord(sorted(p.keys())[0])\n",
    "        for x in sorted(p.keys()):\n",
    "            if x != '|': #for every non-end nodes\n",
    "                position = j + ord(x) - ord(sorted(p.keys())[0])\n",
    "                nexttable[position] = (state,x) #update next table\n",
    "                check[state] = queue[0][2] #update check table\n",
    "                prfail = fail[queue[0][2]] #state which former node fails and transit to \n",
    "                prfail_x = prfail[0] + base[prfail[1]] + ord(x)\n",
    "                if prfail_x in nexttable and check[nexttable[prfail_x][0]] == prfail[1]:\n",
    "                    fail[state] = (prfail_x,nexttable[prfail_x][0]) #update fail function of current node\n",
    "                else:\n",
    "                    fail[state] = fail[prfail[1]] \n",
    "                queue.append((p[x],position,state)) #put current node's childs into queue\n",
    "                state += 1\n",
    "            else:\n",
    "                output[queue[0][2]] = [p['|']]\n",
    "        while j in nexttable:\n",
    "            j+=1\n",
    "    else:\n",
    "        output[queue[0][2]] = [p['|']]\n",
    "        if fail[queue[0][2]][1] in output:\n",
    "            output[queue[0][2]].extend(output[fail[queue[0][2]][1]])\n",
    "        prfail = fail[queue[0][2]] #state which former node fails and transit to \n",
    "        prfail_x = prfail[0] + base[prfail[1]] + ord(x)\n",
    "        if prfail_x in nexttable and check[nexttable[prfail_x][0]] == prfail[1]:\n",
    "             fail[state] = (prfail_x,nexttable[prfail_x][0]) #update fail function of current node\n",
    "        else:\n",
    "             fail[state] = fail[prfail[1]] \n",
    "    del queue[0]\n",
    "  "
   ]
  },
  {
   "cell_type": "markdown",
   "metadata": {},
   "source": [
    "After construction, let's print three tables, failure function and output function."
   ]
  },
  {
   "cell_type": "code",
   "execution_count": 6,
   "metadata": {},
   "outputs": [
    {
     "name": "stdout",
     "output_type": "stream",
     "text": [
      "nexttable:\n",
      "0\t0\tNone\n",
      "1\t1\th\n",
      "2\t3\te\n",
      "3\t5\th\n",
      "4\t6\tr\n",
      "5\t7\ts\n",
      "6\t4\ti\n",
      "7\t8\te\n",
      "8\t9\ts\n",
      "9\n",
      "10\n",
      "11\n",
      "12\t2\ts\n",
      "\n",
      "base table:\n",
      "0\t-103\n",
      "1\t-100\n",
      "2\t-113\n",
      "3\t-112\n",
      "4\t-116\n",
      "5\t-97\n",
      "6\t-111\n",
      "\n",
      "check table:\n",
      "1\t0\n",
      "2\t0\n",
      "3\t1\n",
      "4\t1\n",
      "5\t2\n",
      "6\t3\n",
      "7\t4\n",
      "8\t5\n",
      "9\t6\n",
      "\n",
      "fail function:\n",
      "0\t0\t0\n",
      "1\t0\t0\n",
      "2\t0\t0\n",
      "3\t0\t0\n",
      "4\t0\t0\n",
      "5\t1\t1\n",
      "6\t0\t0\n",
      "7\t12\t2\n",
      "8\t2\t3\n",
      "9\t12\t2\n",
      "10\t0\t0\n",
      "\n",
      "output function:\n",
      "3 ['he']\n",
      "7 ['his']\n",
      "8 ['she', 'he']\n",
      "9 ['hers']\n"
     ]
    }
   ],
   "source": [
    "print(\"nexttable:\")\n",
    "for i in range(max(list(nexttable))+1):\n",
    "    if i in nexttable:\n",
    "        print(str(i)+'\\t'+str(nexttable[i][0])+'\\t'+str(nexttable[i][1]))\n",
    "    else:\n",
    "        print(i)\n",
    "\n",
    "print(\"\\nbase table:\")\n",
    "for i in base:\n",
    "    print(str(i)+'\\t'+ str(base[i]))\n",
    "    \n",
    "print(\"\\ncheck table:\")\n",
    "for i in check:\n",
    "    print(str(i)+'\\t'+ str(check[i]))\n",
    "    \n",
    "print(\"\\nfail function:\")\n",
    "for i in fail:\n",
    "    print(str(i)+'\\t'+str(fail[i][0])+'\\t'+str(fail[i][1]))\n",
    "    \n",
    "print(\"\\noutput function:\")\n",
    "for i in output:\n",
    "    print(i, output[i])"
   ]
  },
  {
   "cell_type": "markdown",
   "metadata": {},
   "source": [
    "### Search Algorithm\n",
    "After construct three tables and functions, now we can use these for matching patterns in strings. Fortunately, searching algorithm is easy as I illustrated in the example. It’s just running a DFA, starting from the first letter of string, use the formula to get the next state, check whether it’s valid by checking check table. At any states, if output function has an entrance, output position and patterns. \n",
    "\n",
    "Using “hshe” again.\n",
    "\n",
    "\n",
    "From state 0, next state is 0 + base[0] + ord(h) = 1(state 1), and check[1] = 0(valid transition), so now we are at state 1(h). \n",
    "<br>\n",
    "Next state is 1 + base[1] + ord(s) = 16 (not entrance), so use fail function to transit to fail[1] = 0, state 0.\n",
    "<br>\n",
    "Next state is 0 + base[0] + ord(s) = 12(state 2), and check[2] = 0 (valid), so now we are at state 2(s).\n",
    "<br>\n",
    "Next state is 12 + base[2] + ord(h) = 3(state 5), and check[5] = 2(valid), so now we are at state 5(h).\n",
    "<br>\n",
    "Next state is 3 + base[5] + ord(e) = 7(state 8), and check[8] = 5(valid), so now we are at state 8(e).\n",
    "<br>\n",
    "And output function is valid now, so we output output[8] = ['she', 'he'], position in “hshe” is 3 now, we also output this.\n"
   ]
  },
  {
   "cell_type": "code",
   "execution_count": 9,
   "metadata": {
    "collapsed": true
   },
   "outputs": [],
   "source": [
    "#position of state t in next table = position of state s in next table + Base value of s + ascii value of input c\n",
    "#search function\n",
    "def find(word):\n",
    "    now_pos = 0\n",
    "    i = 0\n",
    "    for x in word:\n",
    "        if nexttable[now_pos][0] in base: \n",
    "            next_pos = now_pos + base[nexttable[now_pos][0]] + ord(x)#use formula to transit to next state\n",
    "            #use failure function to transit state while invalid\n",
    "            while next_pos not in nexttable or check[nexttable[next_pos][0]] != nexttable[now_pos][0]:\n",
    "                now_pos = fail[nexttable[now_pos][0]][0]\n",
    "                next_pos = now_pos + base[nexttable[now_pos][0]] + ord(x)\n",
    "        else: #leaf node has no base, so directly transit\n",
    "            now_pos = fail[nexttable[now_pos][0]][0]\n",
    "            next_pos = now_pos + base[nexttable[now_pos][0]] + ord(x)#use formula to transit to next state\n",
    "            #use failure function to transit state while invalid\n",
    "            while next_pos not in nexttable or check[nexttable[next_pos][0]] != nexttable[now_pos][0]: \n",
    "                now_pos = fail[nexttable[now_pos][0]][0]\n",
    "                next_pos = now_pos + base[nexttable[now_pos][0]] + ord(x)\n",
    "        now_pos = next_pos\n",
    "        if nexttable[now_pos][0] in output:#if there's an entrance is output function, output it\n",
    "            print(i,output[nexttable[now_pos][0]])\n",
    "        i+=1"
   ]
  },
  {
   "cell_type": "markdown",
   "metadata": {},
   "source": [
    "Let's try to match {his, he, hers, she} in 'hshe' and longer 'hershershershers'!"
   ]
  },
  {
   "cell_type": "code",
   "execution_count": 11,
   "metadata": {},
   "outputs": [
    {
     "name": "stdout",
     "output_type": "stream",
     "text": [
      "hshe\n",
      "3 ['she', 'he']\n",
      "-----------\n",
      "hershershershers\n",
      "1 ['he']\n",
      "3 ['hers']\n",
      "5 ['she', 'he']\n",
      "7 ['hers']\n",
      "9 ['she', 'he']\n",
      "11 ['hers']\n",
      "13 ['she', 'he']\n",
      "15 ['hers']\n"
     ]
    }
   ],
   "source": [
    "print('hshe')\n",
    "find('hshe')\n",
    "print('-----------')\n",
    "print('hershershershers')\n",
    "find('hershershershers')"
   ]
  },
  {
   "cell_type": "markdown",
   "metadata": {},
   "source": [
    "# Summary\n",
    "AC algorithm is used to match multiple patterns in text. Once we finished pre-processing, we can use O(n) time to find all matches in text, n is the length of text. In this tutorial, I use double array trie to represent goto function and failure function, which saves a lot of memory."
   ]
  },
  {
   "cell_type": "markdown",
   "metadata": {},
   "source": [
    "# Reference\n",
    "1.\tAho–Corasick algorithm. (2018, February 28). Retrieved March 31, 2018, from https://en.wikipedia.org/wiki/Aho–Corasick_algorithm\n",
    "2.\t Aho, Alfred V.; Corasick, Margaret J. (June 1975). \"Efficient string matching: An aid to bibliographic search\". Communications of the ACM. 18 (6): 333–340. doi:10.1145/360825.360855. MR 0371172.\n",
    "3. Aoe, J. I., Morimoto, K., & Sato, T. (1992). An efficient implementation of trie structures. Software: Practice and Experience, 22(9), 695-721.\n"
   ]
  },
  {
   "cell_type": "code",
   "execution_count": null,
   "metadata": {
    "collapsed": true
   },
   "outputs": [],
   "source": []
  }
 ],
 "metadata": {
  "kernelspec": {
   "display_name": "Python 3",
   "language": "python",
   "name": "python3"
  },
  "language_info": {
   "codemirror_mode": {
    "name": "ipython",
    "version": 3
   },
   "file_extension": ".py",
   "mimetype": "text/x-python",
   "name": "python",
   "nbconvert_exporter": "python",
   "pygments_lexer": "ipython3",
   "version": "3.6.3"
  }
 },
 "nbformat": 4,
 "nbformat_minor": 2
}
