{
 "cells": [
  {
   "cell_type": "markdown",
   "metadata": {},
   "source": [
    "## INTRODUCTION\n",
    "\n",
    "In this tutorial we will build a model that predicts next character in a sentence, based on the previous few characters.\n",
    "We will use a special kind Recurrent Neural Networks(RNN( for doing this.\n",
    "This tutorial will also expose you to the basics of RNN and Long Short Term Memory(LSTM) networks.\n",
    "\n",
    "## Recurrent Neural Networks\n",
    "Traditional neural networks, lack the capability of using about previous knowledge to predict later events, actions, or words. This issue can be addressed by using RNN models. In addition to providing a way to examine the current input, RNN models provide a way to examine the input that was provided in the previous step. They have loops in them, that allows information to persist.\n",
    "We can think of an RNN as copies of same network, each of which passses a message to a successor.\n",
    "\n",
    "To understand it better we can unroll the RNN loop and see how it works.\n",
    "\n",
    "Source: https://colah.github.io/posts/2015-08-Understanding-LSTMs/\n",
    "<img src=\"images/rnn.png\">\n",
    "\n",
    "Reference:\n",
    "https://www.tensorflow.org/tutorials/recurrent"
   ]
  },
  {
   "cell_type": "markdown",
   "metadata": {},
   "source": [
    "One of the features of RNN is their capabilty to connect previous information to the present task. In cases where the gap between the context and prediction is relatively small, RNN can learn based on past information. \n",
    "But in cases that need more context from the text history, it becomes difficult for RNN the learn and connect information."
   ]
  },
  {
   "cell_type": "markdown",
   "metadata": {},
   "source": [
    "## Long Short Term Memory networks\n",
    "These are special kind of RNN that are capable of learning from the text context when the gap between context and prediction is more. These networks are specially designed to avoid the long-term dependency issue.\n",
    "\n",
    "Unlike standard RNN in which the repeating module only has a sigle layer, LSTM has a different structure for the repeating module.\n",
    "There are four layers of the neural network that interact in a special way. The key to LSTM model is a memory cell that is composed of:\n",
    "- Input Gate\n",
    "- Forget Gate\n",
    "- Output gates\n",
    "- A neuron that connects to itself\n",
    "\n",
    "Reference:\n",
    "https://colah.github.io/posts/2015-08-Understanding-LSTMs/\n",
    "\n",
    "Source: http://deeplearning.net/\n",
    "<img src=\"images/lstm.png\">"
   ]
  },
  {
   "cell_type": "markdown",
   "metadata": {},
   "source": [
    "## Tutorial Content\n",
    "- <a href='#setup'>Setup the Environment</a>\n",
    "- <a href='#install'>Install libraries</a>\n",
    "- <a href=\"#load\">Load Data</a>\n",
    "- <a href='#preprocess'>Preprocess Data</a>\n",
    "- <a href='#fnl'>Features and Labels</a>\n",
    "- <a href='#build'>Build the Model</a>\n",
    "- <a href='#train'>Train the Model</a>\n",
    "- <a href='#save'>Save and Load the Model</a>\n",
    "- <a href='#evaluate'>Evaluate loss and accuracy</a>\n",
    "- <a href='#test'>Test the model</a>"
   ]
  },
  {
   "cell_type": "markdown",
   "metadata": {},
   "source": [
    "<a id='setup'></a>\n",
    "## Setup the Environment\n",
    "We will develop a simple LSTM network.\n",
    "Let us begin by importing all the required modules and seed our random number generator.\n",
    "\n",
    "- We will use TensorFlow and Keras Sequential Model for our purpose.\n",
    "- We also need to import different layers from Keras.\n",
    "- We will use RMSprop optimizer for our RNN.\n",
    "- Keras models are trained on Numpy arrays of input data and labels."
   ]
  },
  {
   "cell_type": "markdown",
   "metadata": {},
   "source": [
    "<a id='install'></a>\n",
    "## Install libraries\n",
    "### TensorFlow with Anaconda\n",
    "#### Windows\n",
    "- conda create -n tensorflow pip python=3.5\n",
    "- activate tensorflow\n",
    "- To install the CPU-only version of TensorFlow, enter the following command:\n",
    "\n",
    "  pip install --ignore-installed --upgrade tensorflow \n",
    "  \n",
    "- To install the GPU version of TensorFlow, enter the following command (on a single line):\n",
    "\n",
    "  pip install --ignore-installed --upgrade tensorflow-gpu \n",
    "\n",
    "#### macOs\n",
    "- conda create -n tensorflow pip python=2.7 # or python=3.3, etc.\n",
    "- source activate tensorflow\n",
    "- pip install --ignore-installed --upgrade TF_PYTHON_URL\n",
    "\n",
    "Source: https://www.tensorflow.org/install/"
   ]
  },
  {
   "cell_type": "code",
   "execution_count": 12,
   "metadata": {},
   "outputs": [],
   "source": [
    "import numpy as np\n",
    "import tensorflow as tf\n",
    "from keras.models import Sequential, load_model\n",
    "from keras.layers import Dense, Activation\n",
    "from keras.layers import LSTM, Dropout\n",
    "from keras.layers import TimeDistributed\n",
    "from keras.layers.core import Dense, Activation, Dropout, RepeatVector\n",
    "from keras.optimizers import RMSprop\n",
    "import matplotlib.pyplot as plt\n",
    "import pickle\n",
    "import sys\n",
    "import heapq\n",
    "import seaborn as sns\n",
    "from pylab import rcParams\n",
    "\n",
    "np.random.seed(42)\n",
    "tf.set_random_seed(42)"
   ]
  },
  {
   "cell_type": "markdown",
   "metadata": {},
   "source": [
    "<a id='load'></a>\n",
    "## Load data\n",
    "After installing all the required libraries we are ready to load our dataset.\n",
    "\n",
    "We will be using the lowercase text version from EBook of Alice’s Adventures in Wonderland, by Lewis Carroll as our training corpus.\n",
    "\n",
    "Download the text file from https://www.gutenberg.org/files/11/11-0.txt.\n",
    "Save it as data/alice.txt in the root directory.\n",
    "\n",
    "For simplicity we are using all lowercase text. Load the file from the path and save it in a variable 'text'."
   ]
  },
  {
   "cell_type": "code",
   "execution_count": 13,
   "metadata": {},
   "outputs": [],
   "source": [
    "filepath = 'data/alice.txt'\n",
    "text = open(filepath).read().lower()"
   ]
  },
  {
   "cell_type": "markdown",
   "metadata": {},
   "source": [
    "We can see the size of our dataset."
   ]
  },
  {
   "cell_type": "code",
   "execution_count": 14,
   "metadata": {},
   "outputs": [
    {
     "name": "stdout",
     "output_type": "stream",
     "text": [
      "dataset length: 144524\n"
     ]
    }
   ],
   "source": [
    "print('dataset length:', len(text))"
   ]
  },
  {
   "cell_type": "markdown",
   "metadata": {},
   "source": [
    "<a id='preprocess'></a>\n",
    "## Preprocess Data\n",
    "\n",
    "After loading the file, we will now prepare data for modelling by the network. Before we can do that we must convert the characters to integers.\n",
    "We will also create a reverse mapping which will be used later to convert integers back to characters for us to understand the predictions.\n",
    "\n",
    "To do this we will:\n",
    "1. Create a set of all of the distinct characters in the book\n",
    "2. Ctore the unique characters in the corpus and create two dictionaries:\n",
    "a.\tCharacter as key and index as value\n",
    "b.\tIndex as key and character as value, then creating a map of each character to a unique integer.\n",
    "\n",
    "\n"
   ]
  },
  {
   "cell_type": "code",
   "execution_count": 15,
   "metadata": {},
   "outputs": [],
   "source": [
    "chars = sorted(list(set(text)))\n",
    "char_indices = dict((c, i) for i, c in enumerate(chars))\n",
    "indices_char = dict((i, c) for i, c in enumerate(chars))"
   ]
  },
  {
   "cell_type": "markdown",
   "metadata": {},
   "source": [
    "Now we can summarize our dataset."
   ]
  },
  {
   "cell_type": "code",
   "execution_count": 16,
   "metadata": {},
   "outputs": [
    {
     "name": "stdout",
     "output_type": "stream",
     "text": [
      "Total characters: 144524\n",
      "Number of unique chars: 47\n"
     ]
    }
   ],
   "source": [
    "print('Total characters:', len(text))\n",
    "print(f'Number of unique chars: {len(chars)}')"
   ]
  },
  {
   "cell_type": "markdown",
   "metadata": {},
   "source": [
    "We will now define the training data(input_seq). There are many ways in which we can split the text to expose it for training to the network.\n",
    "We will also store the next character(output_seq) for every sequence, this is the character we need to predict.\n",
    "\n",
    "There are many ways we could do this, but for our case, we will split the corpus into subsequences of 50 characters, and space them by 3 characters."
   ]
  },
  {
   "cell_type": "code",
   "execution_count": 17,
   "metadata": {},
   "outputs": [
    {
     "name": "stdout",
     "output_type": "stream",
     "text": [
      "num training examples: 48158\n",
      "48158\n"
     ]
    }
   ],
   "source": [
    "seq_len = 50\n",
    "step_size = 3\n",
    "\n",
    "input_seq = []\n",
    "output_seq = []\n",
    "\n",
    "for i in range(0, len(text) - seq_len, step_size):\n",
    "    input_seq.append(text[i: i + seq_len])\n",
    "    output_seq.append(text[i + seq_len])\n",
    "print(f'num training examples: {len(input_seq)}')\n",
    "print(len(input_seq))"
   ]
  },
  {
   "cell_type": "markdown",
   "metadata": {},
   "source": [
    "<a id='fnl'></a>\n",
    "## Features and Labels\n",
    "Now we can generate the features and labels for our data. We will create one-hot encoded vectors using the dictionary (char_indices), the sequence of characters and the characters that need to be predicted we created earlier.\n",
    "\n",
    "Each training pattern is comprised of 50 time steps of one character (X) followed by one character output (y). The sliding window for these sentences is 3 character at a time, that allows each charactre to learn from 100 previous characters.\n",
    "\n",
    "We will now transform our training data so it is understandable by Keras.\n",
    "\n",
    "- Transform list to samples, time steps and features, expected by LSTM network.\n",
    "- Rescale integers to the range 0-1 \n",
    "- Convert the output pattern ti one-hot vectors. This is to fit a probabilistic model that assigns probabilities to each of the unique character in the vocab.\n",
    "\n",
    "We convert each y value into a sparse vector of zeros with a 1 in the column for the letter (integer) that the pattern represents. This vector is of length 47.\n",
    "For example, when “n” (integer value 31) is one hot encoded it looks as follows:"
   ]
  },
  {
   "cell_type": "code",
   "execution_count": 18,
   "metadata": {},
   "outputs": [],
   "source": [
    "X = np.zeros((len(input_seq), seq_len, len(chars)), dtype=np.bool)\n",
    "y = np.zeros((len(input_seq), len(chars)), dtype=np.bool)\n",
    "for i, sentence in enumerate(input_seq):\n",
    "    for t, char in enumerate(sentence):\n",
    "        X[i, t, char_indices[char]] = 1\n",
    "    y[i, char_indices[output_seq[i]]] = 1  "
   ]
  },
  {
   "cell_type": "markdown",
   "metadata": {},
   "source": [
    "Let us see how the pieces look like:\n",
    "    - Training sequence looks\n",
    "    - The character prediction for the sentence\n",
    "    - One-hot vector for the prediction\n",
    "    - Dimensions of the X and y\n",
    "For the given data set:\n",
    "\n",
    "We have 48158 training examples, each sequence has length of 50 with 47 unique chars."
   ]
  },
  {
   "cell_type": "code",
   "execution_count": 19,
   "metadata": {},
   "outputs": [
    {
     "name": "stdout",
     "output_type": "stream",
     "text": [
      "nothing to do: once or twice she had peeped into t\n",
      "h\n",
      "[False False False False False  True False False False False False False\n",
      " False False False False False False False False False False False False\n",
      " False False False False False False False False False False False False\n",
      " False False False False False False False False False False False]\n",
      "(48158, 50, 47)\n",
      "(48158, 47)\n"
     ]
    }
   ],
   "source": [
    "print(input_seq[100])\n",
    "print(output_seq[100])\n",
    "print(X[0][0])\n",
    "print(X.shape)\n",
    "print(y.shape)"
   ]
  },
  {
   "cell_type": "markdown",
   "metadata": {},
   "source": [
    "<a id='build'></a>\n",
    "## Build the Model\n",
    "We will now define our model.\n",
    "The model we will train will have a single hidden LSTM layer with 256 neurons(memory units) that will accept input of shape (50, 57) (the length of a sequence, the number of unique characters in our dataset). Later, we will add a fully connected layer for our output which is a Dense layer using softmax activation function to out a probability prediction for each unique chraater."
   ]
  },
  {
   "cell_type": "code",
   "execution_count": 20,
   "metadata": {},
   "outputs": [],
   "source": [
    "model = Sequential()\n",
    "model.add(LSTM(256, input_shape=(seq_len, len(chars))))\n",
    "model.add(Dense(len(chars)))\n",
    "model.add(Activation('softmax'))"
   ]
  },
  {
   "cell_type": "markdown",
   "metadata": {},
   "source": [
    "<a id='train'></a>\n",
    "## Train the Model\n",
    "We will use RMSProp optimizer for speed, since the problem lies in classifying single character with 47 classes and also a need to optimize cross entropy.\n",
    "We will fit our model for 20 epochs and a batch size of 128 patterns. The data split is 95-5\n",
    "for training and validation."
   ]
  },
  {
   "cell_type": "code",
   "execution_count": null,
   "metadata": {},
   "outputs": [],
   "source": [
    "optimizer = RMSprop(lr=0.01)\n",
    "model.compile(loss='categorical_crossentropy', optimizer=optimizer, metrics=['accuracy'], ver)\n",
    "history = model.fit(X, y, validation_split=0.05, batch_size=128, epochs=20, shuffle=True).history"
   ]
  },
  {
   "cell_type": "markdown",
   "metadata": {},
   "source": [
    "<a id='save'></a>\n",
    "## Save and Load the Model\n",
    "Since there is no test datasett and we are modeling the entire training dataset to learn the probability of each character in a sequence, the network is slow to train and we do not want to lose or retrain the model once trained.\n",
    "So we will save the trained model and load it to make sure it works."
   ]
  },
  {
   "cell_type": "code",
   "execution_count": 29,
   "metadata": {},
   "outputs": [],
   "source": [
    "model.save('keras_model.h5')\n",
    "pickle.dump(history, open(\"history.p\", \"wb\"))\n",
    "\n",
    "model = load_model('keras_model.h5')\n",
    "history = pickle.load(open(\"history.p\", \"rb\"))"
   ]
  },
  {
   "cell_type": "markdown",
   "metadata": {},
   "source": [
    "<a id='evaluate'></a>\n",
    "## Evaluate loss and accuracy\n",
    "Usinf matplotlib, we can visualize how the accuracy and loss changed over training epochs:"
   ]
  },
  {
   "cell_type": "code",
   "execution_count": 30,
   "metadata": {},
   "outputs": [],
   "source": [
    "%matplotlib inline\n",
    "\n",
    "sns.set(style='darkgrid',palette='Dark2', font_scale=1)\n",
    "\n",
    "rcParams['figure.figsize'] = 10, 5"
   ]
  },
  {
   "cell_type": "code",
   "execution_count": 31,
   "metadata": {},
   "outputs": [
    {
     "data": {
      "image/png": "[encoded data removed]",
      "text/plain": [
       "<matplotlib.figure.Figure at 0x1a20a999b0>"
      ]
     },
     "metadata": {},
     "output_type": "display_data"
    }
   ],
   "source": [
    "plt.plot(history['acc'])\n",
    "plt.plot(history['val_acc'])\n",
    "plt.title('model_accuracy')\n",
    "plt.ylabel('accuracy')\n",
    "plt.xlabel('epoch')\n",
    "plt.legend(['train', 'test'], loc='lower right');"
   ]
  },
  {
   "cell_type": "code",
   "execution_count": 25,
   "metadata": {},
   "outputs": [
    {
     "data": {
      "image/png": "[encoded data removed]",
      "text/plain": [
       "<matplotlib.figure.Figure at 0x1a2cf26e80>"
      ]
     },
     "metadata": {},
     "output_type": "display_data"
    }
   ],
   "source": [
    "plt.plot(history['loss'])\n",
    "plt.plot(history['val_loss'])\n",
    "plt.title('model_loss')\n",
    "plt.ylabel('loss')\n",
    "plt.xlabel('epoch')\n",
    "plt.legend(['train', 'test'], loc='lower right');"
   ]
  },
  {
   "cell_type": "markdown",
   "metadata": {},
   "source": [
    "<a id='test'></a>\n",
    "## Test the model\n",
    "We can now generate text and predict some word completions using our model.\n",
    "\n",
    "We will create some helper functions to prepare our input data and samples."
   ]
  },
  {
   "cell_type": "markdown",
   "metadata": {},
   "source": [
    "#### Helper functions\n",
    "\n",
    "Input function: Will return a tensor with shape (1, 50, 47), initialized with zeros. For each character in the passed text, 1 is placed. (All text must be lower case and the sequencd must be 50 char long.)\n",
    "\n",
    "Sample function: Returns the n next most probable characters."
   ]
  },
  {
   "cell_type": "code",
   "execution_count": 32,
   "metadata": {},
   "outputs": [],
   "source": [
    "def prepare_input_data(text):\n",
    "    m = np.zeros((1, seq_len, len(chars)))\n",
    "    for t, char in enumerate(text):\n",
    "        m[0, t, char_indices[char]] = 1.\n",
    "    return m\n",
    "\n",
    "def sample(predicts, first_n=3):\n",
    "    predicts = np.asarray(predicts).astype('float64')\n",
    "    predicts = np.log(predicts)\n",
    "    exp_predicts = np.exp(predicts)\n",
    "    predicts = exp_predicts / np.sum(exp_predicts)\n",
    "    \n",
    "    return heapq.nlargest(first_n, range(len(predicts)), predicts.take)"
   ]
  },
  {
   "cell_type": "markdown",
   "metadata": {},
   "source": [
    "#### Prediction functions\n",
    "\n",
    "predict_nextChar: This function prepare the input repeatedly, and asks the model for predictions and sampling for them. The function predicts next character until it finds the space charracter.\n",
    "\n",
    "predict_completions: This function allows us to predict multiple characters for multiple inputs."
   ]
  },
  {
   "cell_type": "code",
   "execution_count": 39,
   "metadata": {},
   "outputs": [],
   "source": [
    "def predict_nextChar(text):\n",
    "    orig_text = text\n",
    "    completion_char = ''\n",
    "    while True:\n",
    "        m = prepare_input_data(text)\n",
    "        predicts = model.predict(m)[0]\n",
    "        next_index = sample(predicts, first_n=1)[0]\n",
    "        next_char = indices_char[next_index]\n",
    "        text = text[1:] + next_char\n",
    "        completion_char += next_char\n",
    "        \n",
    "        if len(orig_text + completion_char) + 2 > len(orig_text) and next_char == ' ':\n",
    "            return completion_char\n",
    "        \n",
    "def predict_all(text, n=3):\n",
    "    x = prepare_input_data(text)\n",
    "    preds = model.predict(x)[0]\n",
    "    next_indices = sample(preds, n)\n",
    "    return [indices_char[idx] + predict_nextChar(text[1:] + indices_char[idx]) for idx in next_indices]   "
   ]
  },
  {
   "cell_type": "markdown",
   "metadata": {},
   "source": [
    "We will use sequences of 50 characters as seed for our inout. These sentences are from the book itself. (Alice’s Adventures in Wonderland)\n",
    "\n",
    "References:\n",
    "\n",
    "https://medium.com/@curiousily/making-a-predictive-keyboard-using-recurrent-neural-networks-tensorflow-for-hackers-part-v-3f238d824218\n",
    "\n",
    "https://machinelearningmastery.com/text-generation-lstm-recurrent-neural-networks-python-keras/"
   ]
  },
  {
   "cell_type": "code",
   "execution_count": 47,
   "metadata": {},
   "outputs": [
    {
     "name": "stdout",
     "output_type": "stream",
     "text": [
      "there was nothing so very remarkable in that; nor \n",
      "['  ', 'i ', 'n ', 't ', 'g ']\n",
      "\n",
      "as if it wasn’t trouble enough hatching the eggs,’\n"
     ]
    },
    {
     "name": "stderr",
     "output_type": "stream",
     "text": [
      "/Users/sachisharma/anaconda3/lib/python3.6/site-packages/ipykernel_launcher.py:9: RuntimeWarning: divide by zero encountered in log\n",
      "  if __name__ == '__main__':\n"
     ]
    },
    {
     "name": "stdout",
     "output_type": "stream",
     "text": [
      "['  ', 'i ', 'n ', 't ', 'g ']\n",
      "\n",
      "you promised to tell me your history, you know,’ s\n",
      "['  ', 'i ', 'n ', 't ', 'g ']\n",
      "\n",
      "alice did not at all like the tone of this remark,\n",
      "['  ', 'i ', 'n ', 't ', 'g ']\n",
      "\n",
      "this answer so confused poor alice, that she let t\n",
      "['  ', 'i ', 'n ', 't ', 'g ']\n",
      "\n"
     ]
    }
   ],
   "source": [
    "sentences = [\n",
    "    \"There was nothing so VERY remarkable in that; nor did Alice think it so VERY much out of the way to hear the Rabbit say to itself\",\n",
    "    \"As if it wasn’t trouble enough hatching the eggs,’ said the Pigeon;‘but I must be on the look-out for serpents night and day!\",\n",
    "    \"You promised to tell me your history, you know,’ said Alice,\",\n",
    "    \"Alice did not at all like the tone of this remark, and thought it would be as well to introduce some other subject of conversation.\",\n",
    "    \"This answer so confused poor Alice, that she let the Dormouse go on for some time without interrupting it\"\n",
    "]\n",
    "for q in sentences:\n",
    "    seq = q[:50].lower()\n",
    "    print(seq)\n",
    "    print(predict_all(seq, 5))\n",
    "    print()"
   ]
  }
 ],
 "metadata": {
  "kernelspec": {
   "display_name": "Python 3",
   "language": "python",
   "name": "python3"
  },
  "language_info": {
   "codemirror_mode": {
    "name": "ipython",
    "version": 3
   },
   "file_extension": ".py",
   "mimetype": "text/x-python",
   "name": "python",
   "nbconvert_exporter": "python",
   "pygments_lexer": "ipython3",
   "version": "3.6.3"
  }
 },
 "nbformat": 4,
 "nbformat_minor": 2
}
