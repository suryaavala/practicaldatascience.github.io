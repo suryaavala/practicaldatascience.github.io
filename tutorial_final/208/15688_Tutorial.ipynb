{
 "cells": [
  {
   "cell_type": "markdown",
   "metadata": {},
   "source": [
    "# Introduction to an Interactive Visualization  Library: Bokeh\n",
    "[<img src=\"http://chdoig.github.io/scipy2015-blaze-bokeh/images/bokeh.png\" style=\"width: 500px;\"/>](http://chdoig.github.io/scipy2015-blaze-bokeh/#/2/1)\n",
    "\n",
    "## Content\n",
    "- [1. Bokeh](#1. Bokeh)\n",
    "- [2. Libraries and Settings](#2. Libraries and Settings)\n",
    "- [3. Loading and Preparing Dataset](#3. Loading and Preparing Dataset)\n",
    "- [4. Bokeh Data Source Format and Transformations](#4. Bokeh Data Source Format and Transformations)\n",
    "- [5.Basic Plotting](#5.Basic Plotting)\n",
    "- [6. Interactive Tools](#6. Interactive Tools)\n",
    "- [7. Geographic Plots](#7. Geographic Plots)\n",
    "- [8. Resources and References](#8. Resources and References)\n",
    "\n",
    "## 1. Bokeh\n",
    "\n",
    "<p>Bokeh is a Python library designed for interaction visualization in mdern web browsers, which makes it different from many other visualization libraries. \n",
    "<p>Bokeh is very powerful in many ways. It is able to create complicated charts, plots, dashboards, and data applications with consice codes. Also, it is highly flexible with choosing interaction, layouts and styles. Another advantage is that Bokeh can not only output visuals to Jupyter notebook and html file, but also be embedded in flask and django application. What's more, Bokeh is capable to handle large or streaming data.\n",
    "\n",
    "<p>Behind the elegant visualization and high-performance interaction made by Bokeh, there are multiple programming languages (Python, R, lua, and Julia), which generates a JSON file. This JSON file is an input of BokehJS, a Java package that map the data to visualization on browsers. The picture by Continuum Analytics shows the process,which is shown as below. \n",
    "[<img src=\"http://chdoig.github.io/pyladiesatx-bokeh-tutorial/images/bokeh.png\" style=\"width: 500px;\"/>](http://chdoig.github.io/pyladiesatx-bokeh-tutorial/#/1/3)\n",
    "\n",
    "<p>This tutorial will mainly focus on the various interactive features Bokeh has, although it is also good at traditional charts and plots (and is even able to transform visualizations in other libraries, like matplotlib, seaborn, and ggplot). Other topics will also be covered, including Bokeh's own data source object, styles, layouts etc. \n",
    "\n",
    "<p>Here is an interesting example from [bokeh.pydata.org](http://bokeh.pydata.org) gallary ([Github link]( https://github.com/bokeh/bokeh/tree/master/examples/app/movies)). This interactive explorer displays IMDB data. Each circle in the plot represents a movie. Run the following codes, you can not only play with the widgets on the left to filter data, but also hover over those small circles to check detailed information. Such an application is not difficult to implement with Bokeh, and after reading this tutorial you will be able to create your very own interactive visualization with ease. "
   ]
  },
  {
   "cell_type": "code",
   "execution_count": 1,
   "metadata": {},
   "outputs": [
    {
     "data": {
      "text/html": [
       "\n",
       "        <iframe\n",
       "            width=\"1000\"\n",
       "            height=\"800\"\n",
       "            src=\"https://demo.bokehplots.com/apps/movies\"\n",
       "            frameborder=\"0\"\n",
       "            allowfullscreen\n",
       "        ></iframe>\n",
       "        "
      ],
      "text/plain": [
       "<IPython.lib.display.IFrame at 0x110fdd1d0>"
      ]
     },
     "execution_count": 1,
     "metadata": {},
     "output_type": "execute_result"
    }
   ],
   "source": [
    "#import IFrame\n",
    "from IPython.display import IFrame\n",
    "#inline display \n",
    "IFrame('https://demo.bokehplots.com/apps/movies', width=1000, height=800)"
   ]
  },
  {
   "cell_type": "markdown",
   "metadata": {},
   "source": [
    "## 2. Libraries and Settings"
   ]
  },
  {
   "cell_type": "markdown",
   "metadata": {},
   "source": [
    "### 2.1 Bokeh Library"
   ]
  },
  {
   "cell_type": "markdown",
   "metadata": {},
   "source": [
    "First of all, you need to install Bokeh library, the main librariy for this tutorial. You can install using `pip` or `conda` command :\n",
    "\n",
    "    $ pip install bokeh\n",
    "    \n",
    "    $ conda install bokeh\n",
    "\n",
    "For those who have installed bokeh before, please make sure youre using the latest version, on which this tutorial is depending(0.12.13). Also check Ipython(5.1.0) and Pandas(0.20.3) versions:"
   ]
  },
  {
   "cell_type": "code",
   "execution_count": 2,
   "metadata": {},
   "outputs": [
    {
     "name": "stdout",
     "output_type": "stream",
     "text": [
      "Bokeh - 0.12.13\n",
      "IPython - 6.2.1\n",
      "Pandas - 0.22.0\n"
     ]
    }
   ],
   "source": [
    "#check version\n",
    "from bokeh import __version__ as bokeh_version\n",
    "from IPython import __version__ as ipython_version\n",
    "from pandas import __version__ as pandas_version\n",
    "print(\"Bokeh - %s\" % bokeh_version)\n",
    "print(\"IPython - %s\" % ipython_version)\n",
    "print(\"Pandas - %s\" % pandas_version)"
   ]
  },
  {
   "cell_type": "markdown",
   "metadata": {},
   "source": [
    "### 2.2 Settings"
   ]
  },
  {
   "cell_type": "markdown",
   "metadata": {},
   "source": [
    "Because bokeh uses javascript, make sure you are using <b>anaconda3</b> with <b>Jupyter notebook 5.4.0</b>. And JupyterLab does not supporting bokeh, please dont try to run this tutorial on it.\n",
    "\n",
    "Bokeh supports inline display and exporting plots to html file. If your Jupyer notebook is not the latest, your inline display will not be working, you should <b>not</b> run this line of code:\n",
    "    \n",
    "    output_notebook()\n",
    "    \n",
    "You can still see the result if you run the code cell, but the plot will be shown in a new browser tab.\n",
    "    "
   ]
  },
  {
   "cell_type": "markdown",
   "metadata": {},
   "source": [
    "## 3. Loading and Preparing Dataset\n",
    "In the very begining of data analysis, you should always load data and process them for furter work. Here are some ways in Bokeh to deal with dataset"
   ]
  },
  {
   "cell_type": "markdown",
   "metadata": {},
   "source": [
    "### 3.1 Bokeh Sample Datasets\n",
    "Bokeh has its own dataset for users to play with, which are very classic and popular, such as Iris dataset. You can download it in your notebook with the following line of code: \n",
    "\n",
    "    $ bokeh.sampledata.download()\n"
   ]
  },
  {
   "cell_type": "code",
   "execution_count": 3,
   "metadata": {},
   "outputs": [
    {
     "data": {
      "text/html": [
       "<div>\n",
       "<style scoped>\n",
       "    .dataframe tbody tr th:only-of-type {\n",
       "        vertical-align: middle;\n",
       "    }\n",
       "\n",
       "    .dataframe tbody tr th {\n",
       "        vertical-align: top;\n",
       "    }\n",
       "\n",
       "    .dataframe thead th {\n",
       "        text-align: right;\n",
       "    }\n",
       "</style>\n",
       "<table border=\"1\" class=\"dataframe\">\n",
       "  <thead>\n",
       "    <tr style=\"text-align: right;\">\n",
       "      <th></th>\n",
       "      <th>sepal_length</th>\n",
       "      <th>sepal_width</th>\n",
       "      <th>petal_length</th>\n",
       "      <th>petal_width</th>\n",
       "      <th>species</th>\n",
       "    </tr>\n",
       "  </thead>\n",
       "  <tbody>\n",
       "    <tr>\n",
       "      <th>0</th>\n",
       "      <td>5.1</td>\n",
       "      <td>3.5</td>\n",
       "      <td>1.4</td>\n",
       "      <td>0.2</td>\n",
       "      <td>setosa</td>\n",
       "    </tr>\n",
       "    <tr>\n",
       "      <th>1</th>\n",
       "      <td>4.9</td>\n",
       "      <td>3.0</td>\n",
       "      <td>1.4</td>\n",
       "      <td>0.2</td>\n",
       "      <td>setosa</td>\n",
       "    </tr>\n",
       "    <tr>\n",
       "      <th>2</th>\n",
       "      <td>4.7</td>\n",
       "      <td>3.2</td>\n",
       "      <td>1.3</td>\n",
       "      <td>0.2</td>\n",
       "      <td>setosa</td>\n",
       "    </tr>\n",
       "    <tr>\n",
       "      <th>3</th>\n",
       "      <td>4.6</td>\n",
       "      <td>3.1</td>\n",
       "      <td>1.5</td>\n",
       "      <td>0.2</td>\n",
       "      <td>setosa</td>\n",
       "    </tr>\n",
       "    <tr>\n",
       "      <th>4</th>\n",
       "      <td>5.0</td>\n",
       "      <td>3.6</td>\n",
       "      <td>1.4</td>\n",
       "      <td>0.2</td>\n",
       "      <td>setosa</td>\n",
       "    </tr>\n",
       "  </tbody>\n",
       "</table>\n",
       "</div>"
      ],
      "text/plain": [
       "   sepal_length  sepal_width  petal_length  petal_width species\n",
       "0           5.1          3.5           1.4          0.2  setosa\n",
       "1           4.9          3.0           1.4          0.2  setosa\n",
       "2           4.7          3.2           1.3          0.2  setosa\n",
       "3           4.6          3.1           1.5          0.2  setosa\n",
       "4           5.0          3.6           1.4          0.2  setosa"
      ]
     },
     "execution_count": 3,
     "metadata": {},
     "output_type": "execute_result"
    }
   ],
   "source": [
    "# import bokeh\n",
    "#bokeh.sampledata.download()\n",
    "\n",
    "#After downloading the Bokeh dataset, import one of Bokeh's own datasets\n",
    "from bokeh.sampledata.iris import flowers as flowers_df\n",
    "flowers_df.head()"
   ]
  },
  {
   "cell_type": "markdown",
   "metadata": {},
   "source": [
    "### 3.2 External Dataset\n",
    "If you want to import external dataset, you should firstly load them into the notebook as you usually do. \n",
    "\n",
    "The following steps will import two datasets that this tutorial will be working with. These are \"population.csv\" and \"countries.csv\" in the [pyladiesatx-bokeh-tutorial](https://github.com/chdoig/pyladiesatx-bokeh-tutorial/tree/master/data) Github page. This tutorial will use them to do some interesting visualization about the world population with the help of Bokeh. "
   ]
  },
  {
   "cell_type": "code",
   "execution_count": 6,
   "metadata": {},
   "outputs": [],
   "source": [
    "import requests, io\n",
    "import pandas as pd"
   ]
  },
  {
   "cell_type": "markdown",
   "metadata": {},
   "source": [
    "This tutorial imports data directly from Github (raw csv file). As you can see below, the population csv file contains information about locations, age groups, and population value for different years. The location may refer to a country, a continent, a region, or an economy group (G20, for example). The years are from 1990 to 2050, which certainly means some population data were predicted. "
   ]
  },
  {
   "cell_type": "code",
   "execution_count": 32,
   "metadata": {
    "scrolled": true
   },
   "outputs": [
    {
     "data": {
      "text/html": [
       "<div>\n",
       "<style scoped>\n",
       "    .dataframe tbody tr th:only-of-type {\n",
       "        vertical-align: middle;\n",
       "    }\n",
       "\n",
       "    .dataframe tbody tr th {\n",
       "        vertical-align: top;\n",
       "    }\n",
       "\n",
       "    .dataframe thead th {\n",
       "        text-align: right;\n",
       "    }\n",
       "</style>\n",
       "<table border=\"1\" class=\"dataframe\">\n",
       "  <thead>\n",
       "    <tr style=\"text-align: right;\">\n",
       "      <th></th>\n",
       "      <th>Unnamed: 0</th>\n",
       "      <th>LocID</th>\n",
       "      <th>Location</th>\n",
       "      <th>Year</th>\n",
       "      <th>Sex</th>\n",
       "      <th>AgeGrp</th>\n",
       "      <th>AgeGrpStart</th>\n",
       "      <th>Value</th>\n",
       "    </tr>\n",
       "  </thead>\n",
       "  <tbody>\n",
       "    <tr>\n",
       "      <th>0</th>\n",
       "      <td>0</td>\n",
       "      <td>4</td>\n",
       "      <td>Afghanistan</td>\n",
       "      <td>1950</td>\n",
       "      <td>Male</td>\n",
       "      <td>0-4</td>\n",
       "      <td>0</td>\n",
       "      <td>662064.0</td>\n",
       "    </tr>\n",
       "    <tr>\n",
       "      <th>1</th>\n",
       "      <td>1</td>\n",
       "      <td>4</td>\n",
       "      <td>Afghanistan</td>\n",
       "      <td>1950</td>\n",
       "      <td>Male</td>\n",
       "      <td>5-9</td>\n",
       "      <td>5</td>\n",
       "      <td>508166.0</td>\n",
       "    </tr>\n",
       "    <tr>\n",
       "      <th>2</th>\n",
       "      <td>2</td>\n",
       "      <td>4</td>\n",
       "      <td>Afghanistan</td>\n",
       "      <td>1950</td>\n",
       "      <td>Male</td>\n",
       "      <td>10-14</td>\n",
       "      <td>10</td>\n",
       "      <td>444396.0</td>\n",
       "    </tr>\n",
       "    <tr>\n",
       "      <th>3</th>\n",
       "      <td>3</td>\n",
       "      <td>4</td>\n",
       "      <td>Afghanistan</td>\n",
       "      <td>1950</td>\n",
       "      <td>Male</td>\n",
       "      <td>15-19</td>\n",
       "      <td>15</td>\n",
       "      <td>390480.0</td>\n",
       "    </tr>\n",
       "    <tr>\n",
       "      <th>4</th>\n",
       "      <td>4</td>\n",
       "      <td>4</td>\n",
       "      <td>Afghanistan</td>\n",
       "      <td>1950</td>\n",
       "      <td>Male</td>\n",
       "      <td>20-24</td>\n",
       "      <td>20</td>\n",
       "      <td>337318.0</td>\n",
       "    </tr>\n",
       "  </tbody>\n",
       "</table>\n",
       "</div>"
      ],
      "text/plain": [
       "   Unnamed: 0  LocID     Location  Year   Sex AgeGrp  AgeGrpStart     Value\n",
       "0           0      4  Afghanistan  1950  Male    0-4            0  662064.0\n",
       "1           1      4  Afghanistan  1950  Male    5-9            5  508166.0\n",
       "2           2      4  Afghanistan  1950  Male  10-14           10  444396.0\n",
       "3           3      4  Afghanistan  1950  Male  15-19           15  390480.0\n",
       "4           4      4  Afghanistan  1950  Male  20-24           20  337318.0"
      ]
     },
     "execution_count": 32,
     "metadata": {},
     "output_type": "execute_result"
    }
   ],
   "source": [
    "#Import data from Github using rquests\n",
    "data_url = \"https://raw.githubusercontent.com/chdoig/pyladiesatx-bokeh-tutorial/master/data/population.csv\"\n",
    "data_response = requests.get(data_url).content\n",
    "#Read csv into Pandas DataFrame.\n",
    "#You cannot use 'utf-8' decoding for this dataset for some location names are using special symbols.\n",
    "all_data = pd.read_csv(io.StringIO(data_response.decode(\"ISO-8859-1\")))\n",
    "all_data.head()"
   ]
  },
  {
   "cell_type": "markdown",
   "metadata": {},
   "source": [
    "Import standard country name list from Github in the same way. This list will be used to identify country names from \"Location\" column in the population dataset."
   ]
  },
  {
   "cell_type": "code",
   "execution_count": 25,
   "metadata": {},
   "outputs": [
    {
     "data": {
      "text/html": [
       "<div>\n",
       "<style scoped>\n",
       "    .dataframe tbody tr th:only-of-type {\n",
       "        vertical-align: middle;\n",
       "    }\n",
       "\n",
       "    .dataframe tbody tr th {\n",
       "        vertical-align: top;\n",
       "    }\n",
       "\n",
       "    .dataframe thead th {\n",
       "        text-align: right;\n",
       "    }\n",
       "</style>\n",
       "<table border=\"1\" class=\"dataframe\">\n",
       "  <thead>\n",
       "    <tr style=\"text-align: right;\">\n",
       "      <th></th>\n",
       "      <th>iso</th>\n",
       "      <th>name</th>\n",
       "      <th>short_name</th>\n",
       "    </tr>\n",
       "  </thead>\n",
       "  <tbody>\n",
       "    <tr>\n",
       "      <th>0</th>\n",
       "      <td>AFG</td>\n",
       "      <td>Afghanistan</td>\n",
       "      <td>NaN</td>\n",
       "    </tr>\n",
       "    <tr>\n",
       "      <th>1</th>\n",
       "      <td>ALB</td>\n",
       "      <td>Albania</td>\n",
       "      <td>NaN</td>\n",
       "    </tr>\n",
       "    <tr>\n",
       "      <th>2</th>\n",
       "      <td>DZA</td>\n",
       "      <td>Algeria</td>\n",
       "      <td>NaN</td>\n",
       "    </tr>\n",
       "    <tr>\n",
       "      <th>3</th>\n",
       "      <td>AND</td>\n",
       "      <td>Andorra</td>\n",
       "      <td>NaN</td>\n",
       "    </tr>\n",
       "    <tr>\n",
       "      <th>4</th>\n",
       "      <td>AGO</td>\n",
       "      <td>Angola</td>\n",
       "      <td>NaN</td>\n",
       "    </tr>\n",
       "  </tbody>\n",
       "</table>\n",
       "</div>"
      ],
      "text/plain": [
       "   iso         name short_name\n",
       "0  AFG  Afghanistan        NaN\n",
       "1  ALB      Albania        NaN\n",
       "2  DZA      Algeria        NaN\n",
       "3  AND      Andorra        NaN\n",
       "4  AGO       Angola        NaN"
      ]
     },
     "execution_count": 25,
     "metadata": {},
     "output_type": "execute_result"
    }
   ],
   "source": [
    "#Import country name list from Github\n",
    "country_url = \"https://raw.githubusercontent.com/chdoig/pyladiesatx-bokeh-tutorial/master/data/countries.csv\"\n",
    "country_response = requests.get(country_url).content\n",
    "#Read csv into Pandas DataFrame\n",
    "all_country = pd.read_csv(io.StringIO(country_response.decode(\"utf-8\")))\n",
    "all_country.head()"
   ]
  },
  {
   "cell_type": "code",
   "execution_count": 10,
   "metadata": {},
   "outputs": [],
   "source": [
    "#Trim population dataset to keep rows of specific countries only. \n",
    "#That is, drop rows of which name are not country names.\n",
    "\n",
    "#Get all location names from original dataset\n",
    "location_set = set(all_data.Location.tolist())\n",
    "\n",
    "#Standard country name\n",
    "country_list = all_country.name.tolist()\n",
    "\n",
    "#Save location names which consist with standard country name\n",
    "country = []\n",
    "for l in location_set:\n",
    "    if l in country_list:\n",
    "        country.append(l)"
   ]
  },
  {
   "cell_type": "markdown",
   "metadata": {},
   "source": [
    "This tutorial will use latitude and longtitude information later, but firstly get the coordinates using requests and Google Map Geocoding Service."
   ]
  },
  {
   "cell_type": "code",
   "execution_count": 36,
   "metadata": {},
   "outputs": [],
   "source": [
    "#The Google map service requires Google Geocode API key, you can get one from here:\n",
    "# https://developers.google.com/maps/documentation/geocoding/start\n",
    "api_key = \"Your Own API Key\""
   ]
  },
  {
   "cell_type": "code",
   "execution_count": 38,
   "metadata": {},
   "outputs": [],
   "source": [
    "#Function to get country coordinates from country name.\n",
    "def getCoordinates(country_name, a_key):\n",
    "    map_response = requests.get('https://maps.googleapis.com/maps/api/geocode/json?address={0}&key={1}'.format(country_name, a_key))\n",
    "    map_json = map_response.json()\n",
    "\n",
    "    if map_json['status'] == 'OK':\n",
    "        #if status is OK, return latitude and longtitude.\n",
    "        lat = map_json['results'][0]['geometry']['location']['lat']\n",
    "        lng = map_json['results'][0]['geometry']['location']['lng']\n",
    "        return (lat,lng) \n",
    "    else:\n",
    "        pass"
   ]
  },
  {
   "cell_type": "code",
   "execution_count": 39,
   "metadata": {},
   "outputs": [],
   "source": [
    "#Run the function to get longtitudes and latitudes for all countries in country list\n",
    "lats,lngs = {},{}\n",
    "for c in country:\n",
    "    cor = getCoordinates(c,api_key)\n",
    "    #some location name may still not be eligible for Google service to get coordinates \n",
    "    if cor is not None: \n",
    "        lats[c]=cor[0]\n",
    "        lngs[c]=cor[1]"
   ]
  },
  {
   "cell_type": "markdown",
   "metadata": {},
   "source": [
    "This is basically the DataFrame will be used in the rest of this turorial"
   ]
  },
  {
   "cell_type": "code",
   "execution_count": 41,
   "metadata": {},
   "outputs": [
    {
     "data": {
      "text/html": [
       "<div>\n",
       "<style scoped>\n",
       "    .dataframe tbody tr th:only-of-type {\n",
       "        vertical-align: middle;\n",
       "    }\n",
       "\n",
       "    .dataframe tbody tr th {\n",
       "        vertical-align: top;\n",
       "    }\n",
       "\n",
       "    .dataframe thead th {\n",
       "        text-align: right;\n",
       "    }\n",
       "</style>\n",
       "<table border=\"1\" class=\"dataframe\">\n",
       "  <thead>\n",
       "    <tr style=\"text-align: right;\">\n",
       "      <th></th>\n",
       "      <th>Location</th>\n",
       "      <th>Year</th>\n",
       "      <th>Sex</th>\n",
       "      <th>AgeGrp</th>\n",
       "      <th>Value</th>\n",
       "      <th>lat</th>\n",
       "      <th>lng</th>\n",
       "    </tr>\n",
       "  </thead>\n",
       "  <tbody>\n",
       "    <tr>\n",
       "      <th>272</th>\n",
       "      <td>Afghanistan</td>\n",
       "      <td>1990</td>\n",
       "      <td>Male</td>\n",
       "      <td>0-4</td>\n",
       "      <td>1178692.0</td>\n",
       "      <td>33.93911</td>\n",
       "      <td>67.709953</td>\n",
       "    </tr>\n",
       "    <tr>\n",
       "      <th>273</th>\n",
       "      <td>Afghanistan</td>\n",
       "      <td>1990</td>\n",
       "      <td>Male</td>\n",
       "      <td>5-9</td>\n",
       "      <td>957112.0</td>\n",
       "      <td>33.93911</td>\n",
       "      <td>67.709953</td>\n",
       "    </tr>\n",
       "    <tr>\n",
       "      <th>274</th>\n",
       "      <td>Afghanistan</td>\n",
       "      <td>1990</td>\n",
       "      <td>Male</td>\n",
       "      <td>10-14</td>\n",
       "      <td>804910.0</td>\n",
       "      <td>33.93911</td>\n",
       "      <td>67.709953</td>\n",
       "    </tr>\n",
       "    <tr>\n",
       "      <th>275</th>\n",
       "      <td>Afghanistan</td>\n",
       "      <td>1990</td>\n",
       "      <td>Male</td>\n",
       "      <td>15-19</td>\n",
       "      <td>656516.0</td>\n",
       "      <td>33.93911</td>\n",
       "      <td>67.709953</td>\n",
       "    </tr>\n",
       "    <tr>\n",
       "      <th>276</th>\n",
       "      <td>Afghanistan</td>\n",
       "      <td>1990</td>\n",
       "      <td>Male</td>\n",
       "      <td>20-24</td>\n",
       "      <td>530759.0</td>\n",
       "      <td>33.93911</td>\n",
       "      <td>67.709953</td>\n",
       "    </tr>\n",
       "  </tbody>\n",
       "</table>\n",
       "</div>"
      ],
      "text/plain": [
       "        Location  Year   Sex AgeGrp      Value       lat        lng\n",
       "272  Afghanistan  1990  Male    0-4  1178692.0  33.93911  67.709953\n",
       "273  Afghanistan  1990  Male    5-9   957112.0  33.93911  67.709953\n",
       "274  Afghanistan  1990  Male  10-14   804910.0  33.93911  67.709953\n",
       "275  Afghanistan  1990  Male  15-19   656516.0  33.93911  67.709953\n",
       "276  Afghanistan  1990  Male  20-24   530759.0  33.93911  67.709953"
      ]
     },
     "execution_count": 41,
     "metadata": {},
     "output_type": "execute_result"
    }
   ],
   "source": [
    "#This tutorial will use only data from year 1990 to year 2030, some historical data and some predicted ones\n",
    "data = all_data[all_data.Location.apply(lambda x:x in lats.keys())].drop(['Unnamed: 0','LocID','AgeGrpStart'],axis=1)\n",
    "data = data[(data['Year']>=1990)&(data['Year']<=2030)]\n",
    "data['lat']=data['Location'].apply(lambda x:lats[x])\n",
    "data['lng']=data['Location'].apply(lambda x:lngs[x])\n",
    "data.head()"
   ]
  },
  {
   "cell_type": "markdown",
   "metadata": {},
   "source": [
    "## 4. Bokeh Data Source Format and Transformations\n",
    "Bokeh has its own data source object: ColumnDataSource (CDS). It is a very handy format for any Python users. In fact, when Bokeh works with data format like Pandas Series or NumPy arrays, it will convert these data object to CDS. Sometimes users don't need to convert data source to CDS format explicitly, but still many Bokeh features make use of CDS. Therefore, this section will introduce three ways to create CDS."
   ]
  },
  {
   "cell_type": "code",
   "execution_count": 43,
   "metadata": {},
   "outputs": [],
   "source": [
    "from bokeh.models import ColumnDataSource"
   ]
  },
  {
   "cell_type": "code",
   "execution_count": 52,
   "metadata": {},
   "outputs": [
    {
     "data": {
      "text/plain": [
       "{'x': [1, 1, 1], 'y': [2, 2, 2], 'z': [0, 0, 0]}"
      ]
     },
     "execution_count": 52,
     "metadata": {},
     "output_type": "execute_result"
    }
   ],
   "source": [
    "#Create CDS from Pandas DataFrame\n",
    "cds_from_df = ColumnDataSource(data)\n",
    "\n",
    "#Create CDS from Pandas GroupBy\n",
    "cds_from_gb = ColumnDataSource(data.groupby(('Location')))\n",
    "\n",
    "#Create CDS from Python dictionary\n",
    "cds_from_dict = ColumnDataSource(data={\n",
    "    'x' : [1,1,1],\n",
    "    'y' : [2,2,2],\n",
    "})\n",
    "\n",
    "#add new datapoint\n",
    "cds_from_dict.add([0,0,0],'z')\n",
    "\n",
    "cds_from_dict.data"
   ]
  },
  {
   "cell_type": "markdown",
   "metadata": {},
   "source": [
    "<b> (2) From GroupBy"
   ]
  },
  {
   "cell_type": "markdown",
   "metadata": {},
   "source": [
    "## 5. Plotting\n",
    "This part will show you Bokeh plotting to get familiar with its elegant and concise style."
   ]
  },
  {
   "cell_type": "code",
   "execution_count": 46,
   "metadata": {},
   "outputs": [],
   "source": [
    "from bokeh.io import output_notebook, show\n",
    "from bokeh.plotting import figure"
   ]
  },
  {
   "cell_type": "markdown",
   "metadata": {},
   "source": [
    "This line is for <b>inline</b> display. If you run this line, and you dont see any result in later steps, you should restart the Kernel and skip this line. Then any Bokeh plot will be saved as html file in your direction and then openned automatically in your browser."
   ]
  },
  {
   "cell_type": "code",
   "execution_count": 47,
   "metadata": {},
   "outputs": [
    {
     "data": {
      "text/html": [
       "\n",
       "    <div class=\"bk-root\">\n",
       "        <a href=\"https://bokeh.pydata.org\" target=\"_blank\" class=\"bk-logo bk-logo-small bk-logo-notebook\"></a>\n",
       "        <span id=\"06b65b32-dec0-4fd6-ae08-63fa2a691b02\">Loading BokehJS ...</span>\n",
       "    </div>"
      ]
     },
     "metadata": {},
     "output_type": "display_data"
    },
    {
     "data": {
      "application/javascript": [
       "\n",
       "(function(root) {\n",
       "  function now() {\n",
       "    return new Date();\n",
       "  }\n",
       "\n",
       "  var force = true;\n",
       "\n",
       "  if (typeof (root._bokeh_onload_callbacks) === \"undefined\" || force === true) {\n",
       "    root._bokeh_onload_callbacks = [];\n",
       "    root._bokeh_is_loading = undefined;\n",
       "  }\n",
       "\n",
       "  var JS_MIME_TYPE = 'application/javascript';\n",
       "  var HTML_MIME_TYPE = 'text/html';\n",
       "  var EXEC_MIME_TYPE = 'application/vnd.bokehjs_exec.v0+json';\n",
       "  var CLASS_NAME = 'output_bokeh rendered_html';\n",
       "\n",
       "  /**\n",
       "   * Render data to the DOM node\n",
       "   */\n",
       "  function render(props, node) {\n",
       "    var script = document.createElement(\"script\");\n",
       "    node.appendChild(script);\n",
       "  }\n",
       "\n",
       "  /**\n",
       "   * Handle when an output is cleared or removed\n",
       "   */\n",
       "  function handleClearOutput(event, handle) {\n",
       "    var cell = handle.cell;\n",
       "\n",
       "    var id = cell.output_area._bokeh_element_id;\n",
       "    var server_id = cell.output_area._bokeh_server_id;\n",
       "    // Clean up Bokeh references\n",
       "    if (id !== undefined) {\n",
       "      Bokeh.index[id].model.document.clear();\n",
       "      delete Bokeh.index[id];\n",
       "    }\n",
       "\n",
       "    if (server_id !== undefined) {\n",
       "      // Clean up Bokeh references\n",
       "      var cmd = \"from bokeh.io.state import curstate; print(curstate().uuid_to_server['\" + server_id + \"'].get_sessions()[0].document.roots[0]._id)\";\n",
       "      cell.notebook.kernel.execute(cmd, {\n",
       "        iopub: {\n",
       "          output: function(msg) {\n",
       "            var element_id = msg.content.text.trim();\n",
       "            Bokeh.index[element_id].model.document.clear();\n",
       "            delete Bokeh.index[element_id];\n",
       "          }\n",
       "        }\n",
       "      });\n",
       "      // Destroy server and session\n",
       "      var cmd = \"import bokeh.io.notebook as ion; ion.destroy_server('\" + server_id + \"')\";\n",
       "      cell.notebook.kernel.execute(cmd);\n",
       "    }\n",
       "  }\n",
       "\n",
       "  /**\n",
       "   * Handle when a new output is added\n",
       "   */\n",
       "  function handleAddOutput(event, handle) {\n",
       "    var output_area = handle.output_area;\n",
       "    var output = handle.output;\n",
       "\n",
       "    // limit handleAddOutput to display_data with EXEC_MIME_TYPE content only\n",
       "    if ((output.output_type != \"display_data\") || (!output.data.hasOwnProperty(EXEC_MIME_TYPE))) {\n",
       "      return\n",
       "    }\n",
       "\n",
       "    var toinsert = output_area.element.find(\".\" + CLASS_NAME.split(' ')[0]);\n",
       "\n",
       "    if (output.metadata[EXEC_MIME_TYPE][\"id\"] !== undefined) {\n",
       "      toinsert[0].firstChild.textContent = output.data[JS_MIME_TYPE];\n",
       "      // store reference to embed id on output_area\n",
       "      output_area._bokeh_element_id = output.metadata[EXEC_MIME_TYPE][\"id\"];\n",
       "    }\n",
       "    if (output.metadata[EXEC_MIME_TYPE][\"server_id\"] !== undefined) {\n",
       "      var bk_div = document.createElement(\"div\");\n",
       "      bk_div.innerHTML = output.data[HTML_MIME_TYPE];\n",
       "      var script_attrs = bk_div.children[0].attributes;\n",
       "      for (var i = 0; i < script_attrs.length; i++) {\n",
       "        toinsert[0].firstChild.setAttribute(script_attrs[i].name, script_attrs[i].value);\n",
       "      }\n",
       "      // store reference to server id on output_area\n",
       "      output_area._bokeh_server_id = output.metadata[EXEC_MIME_TYPE][\"server_id\"];\n",
       "    }\n",
       "  }\n",
       "\n",
       "  function register_renderer(events, OutputArea) {\n",
       "\n",
       "    function append_mime(data, metadata, element) {\n",
       "      // create a DOM node to render to\n",
       "      var toinsert = this.create_output_subarea(\n",
       "        metadata,\n",
       "        CLASS_NAME,\n",
       "        EXEC_MIME_TYPE\n",
       "      );\n",
       "      this.keyboard_manager.register_events(toinsert);\n",
       "      // Render to node\n",
       "      var props = {data: data, metadata: metadata[EXEC_MIME_TYPE]};\n",
       "      render(props, toinsert[0]);\n",
       "      element.append(toinsert);\n",
       "      return toinsert\n",
       "    }\n",
       "\n",
       "    /* Handle when an output is cleared or removed */\n",
       "    events.on('clear_output.CodeCell', handleClearOutput);\n",
       "    events.on('delete.Cell', handleClearOutput);\n",
       "\n",
       "    /* Handle when a new output is added */\n",
       "    events.on('output_added.OutputArea', handleAddOutput);\n",
       "\n",
       "    /**\n",
       "     * Register the mime type and append_mime function with output_area\n",
       "     */\n",
       "    OutputArea.prototype.register_mime_type(EXEC_MIME_TYPE, append_mime, {\n",
       "      /* Is output safe? */\n",
       "      safe: true,\n",
       "      /* Index of renderer in `output_area.display_order` */\n",
       "      index: 0\n",
       "    });\n",
       "  }\n",
       "\n",
       "  // register the mime type if in Jupyter Notebook environment and previously unregistered\n",
       "  if (root.Jupyter !== undefined) {\n",
       "    var events = require('base/js/events');\n",
       "    var OutputArea = require('notebook/js/outputarea').OutputArea;\n",
       "\n",
       "    if (OutputArea.prototype.mime_types().indexOf(EXEC_MIME_TYPE) == -1) {\n",
       "      register_renderer(events, OutputArea);\n",
       "    }\n",
       "  }\n",
       "\n",
       "  \n",
       "  if (typeof (root._bokeh_timeout) === \"undefined\" || force === true) {\n",
       "    root._bokeh_timeout = Date.now() + 5000;\n",
       "    root._bokeh_failed_load = false;\n",
       "  }\n",
       "\n",
       "  var NB_LOAD_WARNING = {'data': {'text/html':\n",
       "     \"<div style='background-color: #fdd'>\\n\"+\n",
       "     \"<p>\\n\"+\n",
       "     \"BokehJS does not appear to have successfully loaded. If loading BokehJS from CDN, this \\n\"+\n",
       "     \"may be due to a slow or bad network connection. Possible fixes:\\n\"+\n",
       "     \"</p>\\n\"+\n",
       "     \"<ul>\\n\"+\n",
       "     \"<li>re-rerun `output_notebook()` to attempt to load from CDN again, or</li>\\n\"+\n",
       "     \"<li>use INLINE resources instead, as so:</li>\\n\"+\n",
       "     \"</ul>\\n\"+\n",
       "     \"<code>\\n\"+\n",
       "     \"from bokeh.resources import INLINE\\n\"+\n",
       "     \"output_notebook(resources=INLINE)\\n\"+\n",
       "     \"</code>\\n\"+\n",
       "     \"</div>\"}};\n",
       "\n",
       "  function display_loaded() {\n",
       "    var el = document.getElementById(\"06b65b32-dec0-4fd6-ae08-63fa2a691b02\");\n",
       "    if (el != null) {\n",
       "      el.textContent = \"BokehJS is loading...\";\n",
       "    }\n",
       "    if (root.Bokeh !== undefined) {\n",
       "      if (el != null) {\n",
       "        el.textContent = \"BokehJS \" + root.Bokeh.version + \" successfully loaded.\";\n",
       "      }\n",
       "    } else if (Date.now() < root._bokeh_timeout) {\n",
       "      setTimeout(display_loaded, 100)\n",
       "    }\n",
       "  }\n",
       "\n",
       "\n",
       "  function run_callbacks() {\n",
       "    try {\n",
       "      root._bokeh_onload_callbacks.forEach(function(callback) { callback() });\n",
       "    }\n",
       "    finally {\n",
       "      delete root._bokeh_onload_callbacks\n",
       "    }\n",
       "    console.info(\"Bokeh: all callbacks have finished\");\n",
       "  }\n",
       "\n",
       "  function load_libs(js_urls, callback) {\n",
       "    root._bokeh_onload_callbacks.push(callback);\n",
       "    if (root._bokeh_is_loading > 0) {\n",
       "      console.log(\"Bokeh: BokehJS is being loaded, scheduling callback at\", now());\n",
       "      return null;\n",
       "    }\n",
       "    if (js_urls == null || js_urls.length === 0) {\n",
       "      run_callbacks();\n",
       "      return null;\n",
       "    }\n",
       "    console.log(\"Bokeh: BokehJS not loaded, scheduling load and callback at\", now());\n",
       "    root._bokeh_is_loading = js_urls.length;\n",
       "    for (var i = 0; i < js_urls.length; i++) {\n",
       "      var url = js_urls[i];\n",
       "      var s = document.createElement('script');\n",
       "      s.src = url;\n",
       "      s.async = false;\n",
       "      s.onreadystatechange = s.onload = function() {\n",
       "        root._bokeh_is_loading--;\n",
       "        if (root._bokeh_is_loading === 0) {\n",
       "          console.log(\"Bokeh: all BokehJS libraries loaded\");\n",
       "          run_callbacks()\n",
       "        }\n",
       "      };\n",
       "      s.onerror = function() {\n",
       "        console.warn(\"failed to load library \" + url);\n",
       "      };\n",
       "      console.log(\"Bokeh: injecting script tag for BokehJS library: \", url);\n",
       "      document.getElementsByTagName(\"head\")[0].appendChild(s);\n",
       "    }\n",
       "  };var element = document.getElementById(\"06b65b32-dec0-4fd6-ae08-63fa2a691b02\");\n",
       "  if (element == null) {\n",
       "    console.log(\"Bokeh: ERROR: autoload.js configured with elementid '06b65b32-dec0-4fd6-ae08-63fa2a691b02' but no matching script tag was found. \")\n",
       "    return false;\n",
       "  }\n",
       "\n",
       "  var js_urls = [\"https://cdn.pydata.org/bokeh/release/bokeh-0.12.13.min.js\", \"https://cdn.pydata.org/bokeh/release/bokeh-widgets-0.12.13.min.js\", \"https://cdn.pydata.org/bokeh/release/bokeh-tables-0.12.13.min.js\", \"https://cdn.pydata.org/bokeh/release/bokeh-gl-0.12.13.min.js\"];\n",
       "\n",
       "  var inline_js = [\n",
       "    function(Bokeh) {\n",
       "      Bokeh.set_log_level(\"info\");\n",
       "    },\n",
       "    \n",
       "    function(Bokeh) {\n",
       "      \n",
       "    },\n",
       "    function(Bokeh) {\n",
       "      console.log(\"Bokeh: injecting CSS: https://cdn.pydata.org/bokeh/release/bokeh-0.12.13.min.css\");\n",
       "      Bokeh.embed.inject_css(\"https://cdn.pydata.org/bokeh/release/bokeh-0.12.13.min.css\");\n",
       "      console.log(\"Bokeh: injecting CSS: https://cdn.pydata.org/bokeh/release/bokeh-widgets-0.12.13.min.css\");\n",
       "      Bokeh.embed.inject_css(\"https://cdn.pydata.org/bokeh/release/bokeh-widgets-0.12.13.min.css\");\n",
       "      console.log(\"Bokeh: injecting CSS: https://cdn.pydata.org/bokeh/release/bokeh-tables-0.12.13.min.css\");\n",
       "      Bokeh.embed.inject_css(\"https://cdn.pydata.org/bokeh/release/bokeh-tables-0.12.13.min.css\");\n",
       "    }\n",
       "  ];\n",
       "\n",
       "  function run_inline_js() {\n",
       "    \n",
       "    if ((root.Bokeh !== undefined) || (force === true)) {\n",
       "      for (var i = 0; i < inline_js.length; i++) {\n",
       "        inline_js[i].call(root, root.Bokeh);\n",
       "      }if (force === true) {\n",
       "        display_loaded();\n",
       "      }} else if (Date.now() < root._bokeh_timeout) {\n",
       "      setTimeout(run_inline_js, 100);\n",
       "    } else if (!root._bokeh_failed_load) {\n",
       "      console.log(\"Bokeh: BokehJS failed to load within specified timeout.\");\n",
       "      root._bokeh_failed_load = true;\n",
       "    } else if (force !== true) {\n",
       "      var cell = $(document.getElementById(\"06b65b32-dec0-4fd6-ae08-63fa2a691b02\")).parents('.cell').data().cell;\n",
       "      cell.output_area.append_execute_result(NB_LOAD_WARNING)\n",
       "    }\n",
       "\n",
       "  }\n",
       "\n",
       "  if (root._bokeh_is_loading === 0) {\n",
       "    console.log(\"Bokeh: BokehJS loaded, going straight to plotting\");\n",
       "    run_inline_js();\n",
       "  } else {\n",
       "    load_libs(js_urls, function() {\n",
       "      console.log(\"Bokeh: BokehJS plotting callback run at\", now());\n",
       "      run_inline_js();\n",
       "    });\n",
       "  }\n",
       "}(window));"
      ],
      "application/vnd.bokehjs_load.v0+json": "\n(function(root) {\n  function now() {\n    return new Date();\n  }\n\n  var force = true;\n\n  if (typeof (root._bokeh_onload_callbacks) === \"undefined\" || force === true) {\n    root._bokeh_onload_callbacks = [];\n    root._bokeh_is_loading = undefined;\n  }\n\n  \n\n  \n  if (typeof (root._bokeh_timeout) === \"undefined\" || force === true) {\n    root._bokeh_timeout = Date.now() + 5000;\n    root._bokeh_failed_load = false;\n  }\n\n  var NB_LOAD_WARNING = {'data': {'text/html':\n     \"<div style='background-color: #fdd'>\\n\"+\n     \"<p>\\n\"+\n     \"BokehJS does not appear to have successfully loaded. If loading BokehJS from CDN, this \\n\"+\n     \"may be due to a slow or bad network connection. Possible fixes:\\n\"+\n     \"</p>\\n\"+\n     \"<ul>\\n\"+\n     \"<li>re-rerun `output_notebook()` to attempt to load from CDN again, or</li>\\n\"+\n     \"<li>use INLINE resources instead, as so:</li>\\n\"+\n     \"</ul>\\n\"+\n     \"<code>\\n\"+\n     \"from bokeh.resources import INLINE\\n\"+\n     \"output_notebook(resources=INLINE)\\n\"+\n     \"</code>\\n\"+\n     \"</div>\"}};\n\n  function display_loaded() {\n    var el = document.getElementById(\"06b65b32-dec0-4fd6-ae08-63fa2a691b02\");\n    if (el != null) {\n      el.textContent = \"BokehJS is loading...\";\n    }\n    if (root.Bokeh !== undefined) {\n      if (el != null) {\n        el.textContent = \"BokehJS \" + root.Bokeh.version + \" successfully loaded.\";\n      }\n    } else if (Date.now() < root._bokeh_timeout) {\n      setTimeout(display_loaded, 100)\n    }\n  }\n\n\n  function run_callbacks() {\n    try {\n      root._bokeh_onload_callbacks.forEach(function(callback) { callback() });\n    }\n    finally {\n      delete root._bokeh_onload_callbacks\n    }\n    console.info(\"Bokeh: all callbacks have finished\");\n  }\n\n  function load_libs(js_urls, callback) {\n    root._bokeh_onload_callbacks.push(callback);\n    if (root._bokeh_is_loading > 0) {\n      console.log(\"Bokeh: BokehJS is being loaded, scheduling callback at\", now());\n      return null;\n    }\n    if (js_urls == null || js_urls.length === 0) {\n      run_callbacks();\n      return null;\n    }\n    console.log(\"Bokeh: BokehJS not loaded, scheduling load and callback at\", now());\n    root._bokeh_is_loading = js_urls.length;\n    for (var i = 0; i < js_urls.length; i++) {\n      var url = js_urls[i];\n      var s = document.createElement('script');\n      s.src = url;\n      s.async = false;\n      s.onreadystatechange = s.onload = function() {\n        root._bokeh_is_loading--;\n        if (root._bokeh_is_loading === 0) {\n          console.log(\"Bokeh: all BokehJS libraries loaded\");\n          run_callbacks()\n        }\n      };\n      s.onerror = function() {\n        console.warn(\"failed to load library \" + url);\n      };\n      console.log(\"Bokeh: injecting script tag for BokehJS library: \", url);\n      document.getElementsByTagName(\"head\")[0].appendChild(s);\n    }\n  };var element = document.getElementById(\"06b65b32-dec0-4fd6-ae08-63fa2a691b02\");\n  if (element == null) {\n    console.log(\"Bokeh: ERROR: autoload.js configured with elementid '06b65b32-dec0-4fd6-ae08-63fa2a691b02' but no matching script tag was found. \")\n    return false;\n  }\n\n  var js_urls = [\"https://cdn.pydata.org/bokeh/release/bokeh-0.12.13.min.js\", \"https://cdn.pydata.org/bokeh/release/bokeh-widgets-0.12.13.min.js\", \"https://cdn.pydata.org/bokeh/release/bokeh-tables-0.12.13.min.js\", \"https://cdn.pydata.org/bokeh/release/bokeh-gl-0.12.13.min.js\"];\n\n  var inline_js = [\n    function(Bokeh) {\n      Bokeh.set_log_level(\"info\");\n    },\n    \n    function(Bokeh) {\n      \n    },\n    function(Bokeh) {\n      console.log(\"Bokeh: injecting CSS: https://cdn.pydata.org/bokeh/release/bokeh-0.12.13.min.css\");\n      Bokeh.embed.inject_css(\"https://cdn.pydata.org/bokeh/release/bokeh-0.12.13.min.css\");\n      console.log(\"Bokeh: injecting CSS: https://cdn.pydata.org/bokeh/release/bokeh-widgets-0.12.13.min.css\");\n      Bokeh.embed.inject_css(\"https://cdn.pydata.org/bokeh/release/bokeh-widgets-0.12.13.min.css\");\n      console.log(\"Bokeh: injecting CSS: https://cdn.pydata.org/bokeh/release/bokeh-tables-0.12.13.min.css\");\n      Bokeh.embed.inject_css(\"https://cdn.pydata.org/bokeh/release/bokeh-tables-0.12.13.min.css\");\n    }\n  ];\n\n  function run_inline_js() {\n    \n    if ((root.Bokeh !== undefined) || (force === true)) {\n      for (var i = 0; i < inline_js.length; i++) {\n        inline_js[i].call(root, root.Bokeh);\n      }if (force === true) {\n        display_loaded();\n      }} else if (Date.now() < root._bokeh_timeout) {\n      setTimeout(run_inline_js, 100);\n    } else if (!root._bokeh_failed_load) {\n      console.log(\"Bokeh: BokehJS failed to load within specified timeout.\");\n      root._bokeh_failed_load = true;\n    } else if (force !== true) {\n      var cell = $(document.getElementById(\"06b65b32-dec0-4fd6-ae08-63fa2a691b02\")).parents('.cell').data().cell;\n      cell.output_area.append_execute_result(NB_LOAD_WARNING)\n    }\n\n  }\n\n  if (root._bokeh_is_loading === 0) {\n    console.log(\"Bokeh: BokehJS loaded, going straight to plotting\");\n    run_inline_js();\n  } else {\n    load_libs(js_urls, function() {\n      console.log(\"Bokeh: BokehJS plotting callback run at\", now());\n      run_inline_js();\n    });\n  }\n}(window));"
     },
     "metadata": {},
     "output_type": "display_data"
    }
   ],
   "source": [
    "output_notebook()"
   ]
  },
  {
   "cell_type": "markdown",
   "metadata": {},
   "source": [
    "### 5.1 Basic Plotting: Thailand Population Changes\n",
    "The first three plots are basic dot plot, line plot, and a combination of two plots about the Thailand population"
   ]
  },
  {
   "cell_type": "code",
   "execution_count": 48,
   "metadata": {},
   "outputs": [
    {
     "data": {
      "text/html": [
       "<div>\n",
       "<style scoped>\n",
       "    .dataframe tbody tr th:only-of-type {\n",
       "        vertical-align: middle;\n",
       "    }\n",
       "\n",
       "    .dataframe tbody tr th {\n",
       "        vertical-align: top;\n",
       "    }\n",
       "\n",
       "    .dataframe thead th {\n",
       "        text-align: right;\n",
       "    }\n",
       "</style>\n",
       "<table border=\"1\" class=\"dataframe\">\n",
       "  <thead>\n",
       "    <tr style=\"text-align: right;\">\n",
       "      <th></th>\n",
       "      <th></th>\n",
       "      <th>Value</th>\n",
       "    </tr>\n",
       "    <tr>\n",
       "      <th>Location</th>\n",
       "      <th>Year</th>\n",
       "      <th></th>\n",
       "    </tr>\n",
       "  </thead>\n",
       "  <tbody>\n",
       "    <tr>\n",
       "      <th rowspan=\"9\" valign=\"top\">Thailand</th>\n",
       "      <th>1990</th>\n",
       "      <td>56582726.0</td>\n",
       "    </tr>\n",
       "    <tr>\n",
       "      <th>1995</th>\n",
       "      <td>58983954.0</td>\n",
       "    </tr>\n",
       "    <tr>\n",
       "      <th>2000</th>\n",
       "      <td>62343379.0</td>\n",
       "    </tr>\n",
       "    <tr>\n",
       "      <th>2005</th>\n",
       "      <td>65559487.0</td>\n",
       "    </tr>\n",
       "    <tr>\n",
       "      <th>2010</th>\n",
       "      <td>66402316.0</td>\n",
       "    </tr>\n",
       "    <tr>\n",
       "      <th>2015</th>\n",
       "      <td>67400746.0</td>\n",
       "    </tr>\n",
       "    <tr>\n",
       "      <th>2020</th>\n",
       "      <td>67857997.0</td>\n",
       "    </tr>\n",
       "    <tr>\n",
       "      <th>2025</th>\n",
       "      <td>67899866.0</td>\n",
       "    </tr>\n",
       "    <tr>\n",
       "      <th>2030</th>\n",
       "      <td>67554088.0</td>\n",
       "    </tr>\n",
       "  </tbody>\n",
       "</table>\n",
       "</div>"
      ],
      "text/plain": [
       "                    Value\n",
       "Location Year            \n",
       "Thailand 1990  56582726.0\n",
       "         1995  58983954.0\n",
       "         2000  62343379.0\n",
       "         2005  65559487.0\n",
       "         2010  66402316.0\n",
       "         2015  67400746.0\n",
       "         2020  67857997.0\n",
       "         2025  67899866.0\n",
       "         2030  67554088.0"
      ]
     },
     "execution_count": 48,
     "metadata": {},
     "output_type": "execute_result"
    }
   ],
   "source": [
    "# Get Thailand population from 1990 to 2030\n",
    "thai_sum_data = data[data['Location']=='Thailand'][['Location','Year','Value']].groupby(['Location','Year']).sum()\n",
    "thai_sum = thai_sum_data.Value.tolist()\n",
    "year = thai_sum_data.index.levels[1].tolist()\n",
    "thai_sum_data"
   ]
  },
  {
   "cell_type": "code",
   "execution_count": 56,
   "metadata": {},
   "outputs": [
    {
     "data": {
      "text/html": [
       "\n",
       "<div class=\"bk-root\">\n",
       "    <div class=\"bk-plotdiv\" id=\"70037c92-f39c-491f-8b97-f24590c43631\"></div>\n",
       "</div>"
      ]
     },
     "metadata": {},
     "output_type": "display_data"
    },
    {
     "data": {
      "application/javascript": [
       "(function(root) {\n",
       "  function embed_document(root) {\n",
       "    \n",
       "  var docs_json = {\"b4cf4b5c-5712-4c6c-a23f-89457ee2236e\":{\"roots\":{\"references\":[{\"attributes\":{\"dimension\":1,\"plot\":{\"id\":\"b62edf6b-f2e7-4a99-b0f6-b618d7e1a387\",\"subtype\":\"Figure\",\"type\":\"Plot\"},\"ticker\":{\"id\":\"a4187175-3b64-4b5e-ba71-fa42a435d056\",\"type\":\"BasicTicker\"}},\"id\":\"63e40eb9-5dfa-49a2-97b3-50f4d0f04c17\",\"type\":\"Grid\"},{\"attributes\":{},\"id\":\"31c2b70d-1094-4455-8063-110420f2d500\",\"type\":\"PanTool\"},{\"attributes\":{\"line_color\":\"#1f77b4\",\"x\":{\"field\":\"x\"},\"y\":{\"field\":\"y\"}},\"id\":\"88f733dd-2667-4e31-8709-4d46701eb924\",\"type\":\"Line\"},{\"attributes\":{\"callback\":null,\"column_names\":[\"x\",\"y\"],\"data\":{\"x\":[1990,1995,2000,2005,2010,2015,2020,2025,2030],\"y\":[56582726.0,58983954.0,62343379.0,65559487.0,66402316.0,67400746.0,67857997.0,67899866.0,67554088.0]}},\"id\":\"2c975a8b-fd89-4790-ae9f-413256ae4c74\",\"type\":\"ColumnDataSource\"},{\"attributes\":{\"plot\":null,\"text\":\"Thailand Population Dot Plot\"},\"id\":\"f497de5e-8009-4a0a-bc52-0ffbd1cb3f78\",\"type\":\"Title\"},{\"attributes\":{},\"id\":\"5378fc17-2be2-424e-bb05-0998f1e15725\",\"type\":\"HelpTool\"},{\"attributes\":{\"below\":[{\"id\":\"1cf2f7ea-a60e-4ad0-b5a0-4959da070e5a\",\"type\":\"LinearAxis\"}],\"left\":[{\"id\":\"2b06a201-f605-4841-9417-f0e4ca0d79be\",\"type\":\"LinearAxis\"}],\"plot_height\":200,\"plot_width\":300,\"renderers\":[{\"id\":\"1cf2f7ea-a60e-4ad0-b5a0-4959da070e5a\",\"type\":\"LinearAxis\"},{\"id\":\"55d4f1fb-a944-4676-944e-9fa1adc7aec0\",\"type\":\"Grid\"},{\"id\":\"2b06a201-f605-4841-9417-f0e4ca0d79be\",\"type\":\"LinearAxis\"},{\"id\":\"63e40eb9-5dfa-49a2-97b3-50f4d0f04c17\",\"type\":\"Grid\"},{\"id\":\"b6f81050-36db-4f88-a1b2-f29a485e0a28\",\"type\":\"BoxAnnotation\"},{\"id\":\"f76b6453-948b-49a6-a352-11bfbe7c6a6a\",\"type\":\"GlyphRenderer\"}],\"title\":{\"id\":\"fb460a0b-53c0-4cbb-9d28-055f46b275c8\",\"type\":\"Title\"},\"toolbar\":{\"id\":\"aa2c1fdd-519e-4eba-a211-246d3eb5b0da\",\"type\":\"Toolbar\"},\"x_range\":{\"id\":\"04915b16-22e4-4e03-91a2-f76ee49f93cb\",\"type\":\"DataRange1d\"},\"x_scale\":{\"id\":\"43d76ae1-9cb9-48d2-89d7-3430f3b4a19a\",\"type\":\"LinearScale\"},\"y_range\":{\"id\":\"ce9ade76-e433-4b46-b39e-6c785e6436ec\",\"type\":\"DataRange1d\"},\"y_scale\":{\"id\":\"74e7c272-0e61-439e-b292-91e7a6cc44be\",\"type\":\"LinearScale\"}},\"id\":\"b62edf6b-f2e7-4a99-b0f6-b618d7e1a387\",\"subtype\":\"Figure\",\"type\":\"Plot\"},{\"attributes\":{\"callback\":null},\"id\":\"2ce2cd42-c194-42bf-a908-c92883c826c8\",\"type\":\"DataRange1d\"},{\"attributes\":{},\"id\":\"569cb82e-b77e-430b-b92e-1059611ea5e4\",\"type\":\"BasicTickFormatter\"},{\"attributes\":{\"active_drag\":\"auto\",\"active_inspect\":\"auto\",\"active_scroll\":\"auto\",\"active_tap\":\"auto\",\"tools\":[{\"id\":\"75dcb0e2-c0c0-42bc-9948-44e1a5fed0ab\",\"type\":\"PanTool\"},{\"id\":\"ed1a0440-748d-45d2-be7f-2ea8a82aec86\",\"type\":\"WheelZoomTool\"},{\"id\":\"7e601f14-11a2-4044-a9ce-73fd11ce1822\",\"type\":\"BoxZoomTool\"},{\"id\":\"71df7b10-3a05-462e-a693-434372c6f19d\",\"type\":\"SaveTool\"},{\"id\":\"06d7522c-6165-4b4a-8902-e70df8f5d154\",\"type\":\"ResetTool\"},{\"id\":\"5378fc17-2be2-424e-bb05-0998f1e15725\",\"type\":\"HelpTool\"}]},\"id\":\"ba7be992-1c92-4463-8804-69a648d816ea\",\"type\":\"Toolbar\"},{\"attributes\":{},\"id\":\"50dc3f8a-82a0-4083-8af3-d55f3c745e35\",\"type\":\"WheelZoomTool\"},{\"attributes\":{\"callback\":null},\"id\":\"ce9ade76-e433-4b46-b39e-6c785e6436ec\",\"type\":\"DataRange1d\"},{\"attributes\":{\"fill_color\":{\"value\":\"#1f77b4\"},\"line_color\":{\"value\":\"#1f77b4\"},\"x\":{\"field\":\"x\"},\"y\":{\"field\":\"y\"}},\"id\":\"9073d4d1-c275-4ed5-a3f6-0c8309d1588f\",\"type\":\"Circle\"},{\"attributes\":{},\"id\":\"739c28ed-d5f0-4857-a463-bbea4988a498\",\"type\":\"BasicTicker\"},{\"attributes\":{\"plot\":null,\"text\":\"Thailand Population Line Plot\"},\"id\":\"fb460a0b-53c0-4cbb-9d28-055f46b275c8\",\"type\":\"Title\"},{\"attributes\":{},\"id\":\"07e690e3-8d18-44d4-bcbb-9a25e14bc27f\",\"type\":\"LinearScale\"},{\"attributes\":{\"source\":{\"id\":\"6c857e8c-4097-4d32-82ae-5d698aafa7a0\",\"type\":\"ColumnDataSource\"}},\"id\":\"f2142fb5-6f34-45f4-bcbe-ed03ee0ce975\",\"type\":\"CDSView\"},{\"attributes\":{\"callback\":null},\"id\":\"20a25840-0ec1-449a-bf76-4e8fee9ac425\",\"type\":\"DataRange1d\"},{\"attributes\":{},\"id\":\"e64e3779-ad86-4129-a7e2-b65d53618968\",\"type\":\"LinearScale\"},{\"attributes\":{\"plot\":{\"id\":\"3c2ac7e4-6699-4989-be2e-1274535d7e5e\",\"subtype\":\"Figure\",\"type\":\"Plot\"},\"ticker\":{\"id\":\"df030a22-5a42-411a-9dd6-9e024556777f\",\"type\":\"BasicTicker\"}},\"id\":\"72e3755c-3ac0-452e-a04b-7737e0fb2617\",\"type\":\"Grid\"},{\"attributes\":{},\"id\":\"c22a1498-b79b-4d16-b5f1-502232aaf440\",\"type\":\"BasicTicker\"},{\"attributes\":{},\"id\":\"ac4e6354-0e8c-4cbb-96c7-622049978364\",\"type\":\"HelpTool\"},{\"attributes\":{\"formatter\":{\"id\":\"b7f041c4-146d-44a1-8557-d23922ac9627\",\"type\":\"BasicTickFormatter\"},\"plot\":{\"id\":\"3c2ac7e4-6699-4989-be2e-1274535d7e5e\",\"subtype\":\"Figure\",\"type\":\"Plot\"},\"ticker\":{\"id\":\"df030a22-5a42-411a-9dd6-9e024556777f\",\"type\":\"BasicTicker\"}},\"id\":\"e441ff13-fedd-4471-9e64-79de5a77f0cf\",\"type\":\"LinearAxis\"},{\"attributes\":{},\"id\":\"df030a22-5a42-411a-9dd6-9e024556777f\",\"type\":\"BasicTicker\"},{\"attributes\":{\"fill_alpha\":{\"value\":0.1},\"fill_color\":{\"value\":\"#1f77b4\"},\"line_alpha\":{\"value\":0.1},\"line_color\":{\"value\":\"#1f77b4\"},\"x\":{\"field\":\"x\"},\"y\":{\"field\":\"y\"}},\"id\":\"4db38338-0661-48b4-a47a-c2b5aaeb1e38\",\"type\":\"Circle\"},{\"attributes\":{\"formatter\":{\"id\":\"cb4e1d0f-612c-46ed-9000-807d1c7363b9\",\"type\":\"BasicTickFormatter\"},\"plot\":{\"id\":\"3c2ac7e4-6699-4989-be2e-1274535d7e5e\",\"subtype\":\"Figure\",\"type\":\"Plot\"},\"ticker\":{\"id\":\"67766e13-4b6a-4554-8606-57fe22a43281\",\"type\":\"BasicTicker\"}},\"id\":\"ba060094-2ae5-4c60-8c11-e0e13a925a23\",\"type\":\"LinearAxis\"},{\"attributes\":{\"formatter\":{\"id\":\"569cb82e-b77e-430b-b92e-1059611ea5e4\",\"type\":\"BasicTickFormatter\"},\"plot\":{\"id\":\"a32197b8-6b17-4216-bbd3-9ed118b08090\",\"subtype\":\"Figure\",\"type\":\"Plot\"},\"ticker\":{\"id\":\"739c28ed-d5f0-4857-a463-bbea4988a498\",\"type\":\"BasicTicker\"}},\"id\":\"0d29a582-46fc-4ba4-9552-bb6aa059757a\",\"type\":\"LinearAxis\"},{\"attributes\":{\"formatter\":{\"id\":\"e4817742-23ce-4603-a04d-be8f30657584\",\"type\":\"BasicTickFormatter\"},\"plot\":{\"id\":\"a32197b8-6b17-4216-bbd3-9ed118b08090\",\"subtype\":\"Figure\",\"type\":\"Plot\"},\"ticker\":{\"id\":\"c22a1498-b79b-4d16-b5f1-502232aaf440\",\"type\":\"BasicTicker\"}},\"id\":\"840fcf4a-5df5-451e-94a7-4511395449c3\",\"type\":\"LinearAxis\"},{\"attributes\":{\"active_drag\":\"auto\",\"active_inspect\":\"auto\",\"active_scroll\":\"auto\",\"active_tap\":\"auto\",\"tools\":[{\"id\":\"31c2b70d-1094-4455-8063-110420f2d500\",\"type\":\"PanTool\"},{\"id\":\"321af81d-019c-479c-abc1-d0db6e77341a\",\"type\":\"WheelZoomTool\"},{\"id\":\"767cc01f-9b01-4f58-8569-953e55ca2029\",\"type\":\"BoxZoomTool\"},{\"id\":\"e82d73db-0c97-4885-8d95-b11c5f8af3de\",\"type\":\"SaveTool\"},{\"id\":\"3bc542f1-f6ee-4d1a-94af-f35a279bea9a\",\"type\":\"ResetTool\"},{\"id\":\"3922c444-b9ee-42aa-82e1-4b9b478dd0c1\",\"type\":\"HelpTool\"}]},\"id\":\"aa2c1fdd-519e-4eba-a211-246d3eb5b0da\",\"type\":\"Toolbar\"},{\"attributes\":{\"data_source\":{\"id\":\"6c857e8c-4097-4d32-82ae-5d698aafa7a0\",\"type\":\"ColumnDataSource\"},\"glyph\":{\"id\":\"544e1444-dd1c-482e-923a-4cc89cda72d4\",\"type\":\"Line\"},\"hover_glyph\":null,\"muted_glyph\":null,\"nonselection_glyph\":{\"id\":\"378d456e-0a4a-4cbc-9d01-6be947bd730d\",\"type\":\"Line\"},\"selection_glyph\":null,\"view\":{\"id\":\"f2142fb5-6f34-45f4-bcbe-ed03ee0ce975\",\"type\":\"CDSView\"}},\"id\":\"974850d1-6583-4ca5-bc1f-fe438eb8d75c\",\"type\":\"GlyphRenderer\"},{\"attributes\":{},\"id\":\"67766e13-4b6a-4554-8606-57fe22a43281\",\"type\":\"BasicTicker\"},{\"attributes\":{\"line_alpha\":0.1,\"line_color\":\"#1f77b4\",\"x\":{\"field\":\"x\"},\"y\":{\"field\":\"y\"}},\"id\":\"2c13da5e-e20e-42db-b269-44d0beaf4d37\",\"type\":\"Line\"},{\"attributes\":{\"dimension\":1,\"plot\":{\"id\":\"3c2ac7e4-6699-4989-be2e-1274535d7e5e\",\"subtype\":\"Figure\",\"type\":\"Plot\"},\"ticker\":{\"id\":\"67766e13-4b6a-4554-8606-57fe22a43281\",\"type\":\"BasicTicker\"}},\"id\":\"1efe1776-2cc7-438f-875a-41f6ef7a334c\",\"type\":\"Grid\"},{\"attributes\":{\"plot\":{\"id\":\"a32197b8-6b17-4216-bbd3-9ed118b08090\",\"subtype\":\"Figure\",\"type\":\"Plot\"},\"ticker\":{\"id\":\"739c28ed-d5f0-4857-a463-bbea4988a498\",\"type\":\"BasicTicker\"}},\"id\":\"364c5bf0-e91b-4fdf-9101-bed83261975e\",\"type\":\"Grid\"},{\"attributes\":{},\"id\":\"99852248-960f-40f2-a9c1-081da138a4b5\",\"type\":\"ResetTool\"},{\"attributes\":{\"line_alpha\":0.1,\"line_color\":\"#1f77b4\",\"x\":{\"field\":\"x\"},\"y\":{\"field\":\"y\"}},\"id\":\"378d456e-0a4a-4cbc-9d01-6be947bd730d\",\"type\":\"Line\"},{\"attributes\":{\"callback\":null},\"id\":\"04915b16-22e4-4e03-91a2-f76ee49f93cb\",\"type\":\"DataRange1d\"},{\"attributes\":{},\"id\":\"3bc542f1-f6ee-4d1a-94af-f35a279bea9a\",\"type\":\"ResetTool\"},{\"attributes\":{\"dimension\":1,\"plot\":{\"id\":\"a32197b8-6b17-4216-bbd3-9ed118b08090\",\"subtype\":\"Figure\",\"type\":\"Plot\"},\"ticker\":{\"id\":\"c22a1498-b79b-4d16-b5f1-502232aaf440\",\"type\":\"BasicTicker\"}},\"id\":\"d6803169-418c-4c1e-834d-1c9813436357\",\"type\":\"Grid\"},{\"attributes\":{},\"id\":\"579ad653-7ef3-4203-87ea-5990f9faa483\",\"type\":\"LinearScale\"},{\"attributes\":{},\"id\":\"b7f041c4-146d-44a1-8557-d23922ac9627\",\"type\":\"BasicTickFormatter\"},{\"attributes\":{},\"id\":\"e82d73db-0c97-4885-8d95-b11c5f8af3de\",\"type\":\"SaveTool\"},{\"attributes\":{\"overlay\":{\"id\":\"b6f81050-36db-4f88-a1b2-f29a485e0a28\",\"type\":\"BoxAnnotation\"}},\"id\":\"767cc01f-9b01-4f58-8569-953e55ca2029\",\"type\":\"BoxZoomTool\"},{\"attributes\":{\"callback\":null},\"id\":\"fca7046f-70f8-495f-9f3b-6b47f6a91ad5\",\"type\":\"DataRange1d\"},{\"attributes\":{},\"id\":\"75dcb0e2-c0c0-42bc-9948-44e1a5fed0ab\",\"type\":\"PanTool\"},{\"attributes\":{\"active_drag\":\"auto\",\"active_inspect\":\"auto\",\"active_scroll\":\"auto\",\"active_tap\":\"auto\",\"tools\":[{\"id\":\"7b20fd76-0475-4c11-93ed-a6d25262e6c2\",\"type\":\"PanTool\"},{\"id\":\"50dc3f8a-82a0-4083-8af3-d55f3c745e35\",\"type\":\"WheelZoomTool\"},{\"id\":\"44d9fd6f-9be8-4a85-bc54-7066c04b4d02\",\"type\":\"BoxZoomTool\"},{\"id\":\"c067796a-4c5f-400b-8928-4c80eb01a2ff\",\"type\":\"SaveTool\"},{\"id\":\"99852248-960f-40f2-a9c1-081da138a4b5\",\"type\":\"ResetTool\"},{\"id\":\"ac4e6354-0e8c-4cbb-96c7-622049978364\",\"type\":\"HelpTool\"}]},\"id\":\"4f898dd6-9f02-4f7e-8f96-01067d30a48c\",\"type\":\"Toolbar\"},{\"attributes\":{\"overlay\":{\"id\":\"b06da59c-e03d-4154-941c-36f0bc3fca67\",\"type\":\"BoxAnnotation\"}},\"id\":\"7e601f14-11a2-4044-a9ce-73fd11ce1822\",\"type\":\"BoxZoomTool\"},{\"attributes\":{},\"id\":\"e4817742-23ce-4603-a04d-be8f30657584\",\"type\":\"BasicTickFormatter\"},{\"attributes\":{\"callback\":null},\"id\":\"4153e827-a178-4cb6-8074-87b7e1197ba1\",\"type\":\"DataRange1d\"},{\"attributes\":{},\"id\":\"a4187175-3b64-4b5e-ba71-fa42a435d056\",\"type\":\"BasicTicker\"},{\"attributes\":{\"bottom_units\":\"screen\",\"fill_alpha\":{\"value\":0.5},\"fill_color\":{\"value\":\"lightgrey\"},\"left_units\":\"screen\",\"level\":\"overlay\",\"line_alpha\":{\"value\":1.0},\"line_color\":{\"value\":\"black\"},\"line_dash\":[4,4],\"line_width\":{\"value\":2},\"plot\":null,\"render_mode\":\"css\",\"right_units\":\"screen\",\"top_units\":\"screen\"},\"id\":\"b6f81050-36db-4f88-a1b2-f29a485e0a28\",\"type\":\"BoxAnnotation\"},{\"attributes\":{},\"id\":\"1e1a968f-7eaf-4c4f-aed6-8b3711405adc\",\"type\":\"LinearScale\"},{\"attributes\":{\"line_color\":\"#1f77b4\",\"x\":{\"field\":\"x\"},\"y\":{\"field\":\"y\"}},\"id\":\"544e1444-dd1c-482e-923a-4cc89cda72d4\",\"type\":\"Line\"},{\"attributes\":{},\"id\":\"7b20fd76-0475-4c11-93ed-a6d25262e6c2\",\"type\":\"PanTool\"},{\"attributes\":{\"callback\":null,\"column_names\":[\"x\",\"y\"],\"data\":{\"x\":[1990,1995,2000,2005,2010,2015,2020,2025,2030],\"y\":[56582726.0,58983954.0,62343379.0,65559487.0,66402316.0,67400746.0,67857997.0,67899866.0,67554088.0]}},\"id\":\"6c857e8c-4097-4d32-82ae-5d698aafa7a0\",\"type\":\"ColumnDataSource\"},{\"attributes\":{},\"id\":\"71df7b10-3a05-462e-a693-434372c6f19d\",\"type\":\"SaveTool\"},{\"attributes\":{},\"id\":\"43d76ae1-9cb9-48d2-89d7-3430f3b4a19a\",\"type\":\"LinearScale\"},{\"attributes\":{},\"id\":\"cb4e1d0f-612c-46ed-9000-807d1c7363b9\",\"type\":\"BasicTickFormatter\"},{\"attributes\":{\"callback\":null,\"column_names\":[\"x\",\"y\"],\"data\":{\"x\":[1990,1995,2000,2005,2010,2015,2020,2025,2030],\"y\":[56582726.0,58983954.0,62343379.0,65559487.0,66402316.0,67400746.0,67857997.0,67899866.0,67554088.0]}},\"id\":\"ef9d90ad-498f-49b9-9898-ded817baeddb\",\"type\":\"ColumnDataSource\"},{\"attributes\":{},\"id\":\"a8102ae5-79f6-4a00-a8db-bb1a02e8ed00\",\"type\":\"BasicTickFormatter\"},{\"attributes\":{\"fill_color\":{\"value\":\"#1f77b4\"},\"line_color\":{\"value\":\"#1f77b4\"},\"x\":{\"field\":\"x\"},\"y\":{\"field\":\"y\"}},\"id\":\"4d85b4e7-e0f7-4a69-8b0f-a779501564c6\",\"type\":\"Circle\"},{\"attributes\":{},\"id\":\"74e7c272-0e61-439e-b292-91e7a6cc44be\",\"type\":\"LinearScale\"},{\"attributes\":{\"source\":{\"id\":\"2c975a8b-fd89-4790-ae9f-413256ae4c74\",\"type\":\"ColumnDataSource\"}},\"id\":\"85dfc824-53df-425b-aea9-2aefd7d73494\",\"type\":\"CDSView\"},{\"attributes\":{\"formatter\":{\"id\":\"6fbbf551-23c4-49f7-b413-36f11ba158c1\",\"type\":\"BasicTickFormatter\"},\"plot\":{\"id\":\"b62edf6b-f2e7-4a99-b0f6-b618d7e1a387\",\"subtype\":\"Figure\",\"type\":\"Plot\"},\"ticker\":{\"id\":\"83089305-5b2b-4df8-872c-cd3e333b885a\",\"type\":\"BasicTicker\"}},\"id\":\"1cf2f7ea-a60e-4ad0-b5a0-4959da070e5a\",\"type\":\"LinearAxis\"},{\"attributes\":{\"fill_alpha\":{\"value\":0.1},\"fill_color\":{\"value\":\"#1f77b4\"},\"line_alpha\":{\"value\":0.1},\"line_color\":{\"value\":\"#1f77b4\"},\"x\":{\"field\":\"x\"},\"y\":{\"field\":\"y\"}},\"id\":\"d0352fe1-0e28-4d36-93b1-fcb24fa89e67\",\"type\":\"Circle\"},{\"attributes\":{},\"id\":\"6fbbf551-23c4-49f7-b413-36f11ba158c1\",\"type\":\"BasicTickFormatter\"},{\"attributes\":{\"source\":{\"id\":\"ef9d90ad-498f-49b9-9898-ded817baeddb\",\"type\":\"ColumnDataSource\"}},\"id\":\"2fc5f65a-443b-4d20-922d-09432d61e51d\",\"type\":\"CDSView\"},{\"attributes\":{\"plot\":{\"id\":\"b62edf6b-f2e7-4a99-b0f6-b618d7e1a387\",\"subtype\":\"Figure\",\"type\":\"Plot\"},\"ticker\":{\"id\":\"83089305-5b2b-4df8-872c-cd3e333b885a\",\"type\":\"BasicTicker\"}},\"id\":\"55d4f1fb-a944-4676-944e-9fa1adc7aec0\",\"type\":\"Grid\"},{\"attributes\":{\"source\":{\"id\":\"fc0e0fb6-8bdf-4cce-8765-3bbb96b1e99d\",\"type\":\"ColumnDataSource\"}},\"id\":\"52178ee4-6fa1-4193-8fc2-cd832050f6d5\",\"type\":\"CDSView\"},{\"attributes\":{},\"id\":\"321af81d-019c-479c-abc1-d0db6e77341a\",\"type\":\"WheelZoomTool\"},{\"attributes\":{},\"id\":\"c067796a-4c5f-400b-8928-4c80eb01a2ff\",\"type\":\"SaveTool\"},{\"attributes\":{\"data_source\":{\"id\":\"ef9d90ad-498f-49b9-9898-ded817baeddb\",\"type\":\"ColumnDataSource\"},\"glyph\":{\"id\":\"88f733dd-2667-4e31-8709-4d46701eb924\",\"type\":\"Line\"},\"hover_glyph\":null,\"muted_glyph\":null,\"nonselection_glyph\":{\"id\":\"2c13da5e-e20e-42db-b269-44d0beaf4d37\",\"type\":\"Line\"},\"selection_glyph\":null,\"view\":{\"id\":\"2fc5f65a-443b-4d20-922d-09432d61e51d\",\"type\":\"CDSView\"}},\"id\":\"f76b6453-948b-49a6-a352-11bfbe7c6a6a\",\"type\":\"GlyphRenderer\"},{\"attributes\":{},\"id\":\"83089305-5b2b-4df8-872c-cd3e333b885a\",\"type\":\"BasicTicker\"},{\"attributes\":{\"bottom_units\":\"screen\",\"fill_alpha\":{\"value\":0.5},\"fill_color\":{\"value\":\"lightgrey\"},\"left_units\":\"screen\",\"level\":\"overlay\",\"line_alpha\":{\"value\":1.0},\"line_color\":{\"value\":\"black\"},\"line_dash\":[4,4],\"line_width\":{\"value\":2},\"plot\":null,\"render_mode\":\"css\",\"right_units\":\"screen\",\"top_units\":\"screen\"},\"id\":\"b06da59c-e03d-4154-941c-36f0bc3fca67\",\"type\":\"BoxAnnotation\"},{\"attributes\":{\"data_source\":{\"id\":\"2c975a8b-fd89-4790-ae9f-413256ae4c74\",\"type\":\"ColumnDataSource\"},\"glyph\":{\"id\":\"4d85b4e7-e0f7-4a69-8b0f-a779501564c6\",\"type\":\"Circle\"},\"hover_glyph\":null,\"muted_glyph\":null,\"nonselection_glyph\":{\"id\":\"d0352fe1-0e28-4d36-93b1-fcb24fa89e67\",\"type\":\"Circle\"},\"selection_glyph\":null,\"view\":{\"id\":\"85dfc824-53df-425b-aea9-2aefd7d73494\",\"type\":\"CDSView\"}},\"id\":\"4c39f9b1-bf1f-4751-a84c-dbd74faf6f07\",\"type\":\"GlyphRenderer\"},{\"attributes\":{},\"id\":\"3922c444-b9ee-42aa-82e1-4b9b478dd0c1\",\"type\":\"HelpTool\"},{\"attributes\":{\"data_source\":{\"id\":\"fc0e0fb6-8bdf-4cce-8765-3bbb96b1e99d\",\"type\":\"ColumnDataSource\"},\"glyph\":{\"id\":\"9073d4d1-c275-4ed5-a3f6-0c8309d1588f\",\"type\":\"Circle\"},\"hover_glyph\":null,\"muted_glyph\":null,\"nonselection_glyph\":{\"id\":\"4db38338-0661-48b4-a47a-c2b5aaeb1e38\",\"type\":\"Circle\"},\"selection_glyph\":null,\"view\":{\"id\":\"52178ee4-6fa1-4193-8fc2-cd832050f6d5\",\"type\":\"CDSView\"}},\"id\":\"dabf89b9-5fb6-4a68-baae-c601aab2be59\",\"type\":\"GlyphRenderer\"},{\"attributes\":{\"formatter\":{\"id\":\"a8102ae5-79f6-4a00-a8db-bb1a02e8ed00\",\"type\":\"BasicTickFormatter\"},\"plot\":{\"id\":\"b62edf6b-f2e7-4a99-b0f6-b618d7e1a387\",\"subtype\":\"Figure\",\"type\":\"Plot\"},\"ticker\":{\"id\":\"a4187175-3b64-4b5e-ba71-fa42a435d056\",\"type\":\"BasicTicker\"}},\"id\":\"2b06a201-f605-4841-9417-f0e4ca0d79be\",\"type\":\"LinearAxis\"},{\"attributes\":{},\"id\":\"06d7522c-6165-4b4a-8902-e70df8f5d154\",\"type\":\"ResetTool\"},{\"attributes\":{\"bottom_units\":\"screen\",\"fill_alpha\":{\"value\":0.5},\"fill_color\":{\"value\":\"lightgrey\"},\"left_units\":\"screen\",\"level\":\"overlay\",\"line_alpha\":{\"value\":1.0},\"line_color\":{\"value\":\"black\"},\"line_dash\":[4,4],\"line_width\":{\"value\":2},\"plot\":null,\"render_mode\":\"css\",\"right_units\":\"screen\",\"top_units\":\"screen\"},\"id\":\"7c738170-7085-4409-8fa2-8bc601a52ebd\",\"type\":\"BoxAnnotation\"},{\"attributes\":{},\"id\":\"ed1a0440-748d-45d2-be7f-2ea8a82aec86\",\"type\":\"WheelZoomTool\"},{\"attributes\":{\"below\":[{\"id\":\"0d29a582-46fc-4ba4-9552-bb6aa059757a\",\"type\":\"LinearAxis\"}],\"left\":[{\"id\":\"840fcf4a-5df5-451e-94a7-4511395449c3\",\"type\":\"LinearAxis\"}],\"plot_height\":200,\"plot_width\":300,\"renderers\":[{\"id\":\"0d29a582-46fc-4ba4-9552-bb6aa059757a\",\"type\":\"LinearAxis\"},{\"id\":\"364c5bf0-e91b-4fdf-9101-bed83261975e\",\"type\":\"Grid\"},{\"id\":\"840fcf4a-5df5-451e-94a7-4511395449c3\",\"type\":\"LinearAxis\"},{\"id\":\"d6803169-418c-4c1e-834d-1c9813436357\",\"type\":\"Grid\"},{\"id\":\"7c738170-7085-4409-8fa2-8bc601a52ebd\",\"type\":\"BoxAnnotation\"},{\"id\":\"974850d1-6583-4ca5-bc1f-fe438eb8d75c\",\"type\":\"GlyphRenderer\"},{\"id\":\"4c39f9b1-bf1f-4751-a84c-dbd74faf6f07\",\"type\":\"GlyphRenderer\"}],\"title\":{\"id\":\"0e30f584-1f9b-4848-9017-a880aa359f9b\",\"type\":\"Title\"},\"toolbar\":{\"id\":\"4f898dd6-9f02-4f7e-8f96-01067d30a48c\",\"type\":\"Toolbar\"},\"x_range\":{\"id\":\"fca7046f-70f8-495f-9f3b-6b47f6a91ad5\",\"type\":\"DataRange1d\"},\"x_scale\":{\"id\":\"1e1a968f-7eaf-4c4f-aed6-8b3711405adc\",\"type\":\"LinearScale\"},\"y_range\":{\"id\":\"4153e827-a178-4cb6-8074-87b7e1197ba1\",\"type\":\"DataRange1d\"},\"y_scale\":{\"id\":\"579ad653-7ef3-4203-87ea-5990f9faa483\",\"type\":\"LinearScale\"}},\"id\":\"a32197b8-6b17-4216-bbd3-9ed118b08090\",\"subtype\":\"Figure\",\"type\":\"Plot\"},{\"attributes\":{\"overlay\":{\"id\":\"7c738170-7085-4409-8fa2-8bc601a52ebd\",\"type\":\"BoxAnnotation\"}},\"id\":\"44d9fd6f-9be8-4a85-bc54-7066c04b4d02\",\"type\":\"BoxZoomTool\"},{\"attributes\":{\"plot\":null,\"text\":\"Thailand Population Combination Plot\"},\"id\":\"0e30f584-1f9b-4848-9017-a880aa359f9b\",\"type\":\"Title\"},{\"attributes\":{\"children\":[{\"id\":\"3c2ac7e4-6699-4989-be2e-1274535d7e5e\",\"subtype\":\"Figure\",\"type\":\"Plot\"},{\"id\":\"b62edf6b-f2e7-4a99-b0f6-b618d7e1a387\",\"subtype\":\"Figure\",\"type\":\"Plot\"},{\"id\":\"a32197b8-6b17-4216-bbd3-9ed118b08090\",\"subtype\":\"Figure\",\"type\":\"Plot\"}]},\"id\":\"bb1ea10c-cf63-4dcf-accb-933019f57816\",\"type\":\"Row\"},{\"attributes\":{\"below\":[{\"id\":\"e441ff13-fedd-4471-9e64-79de5a77f0cf\",\"type\":\"LinearAxis\"}],\"left\":[{\"id\":\"ba060094-2ae5-4c60-8c11-e0e13a925a23\",\"type\":\"LinearAxis\"}],\"plot_height\":200,\"plot_width\":300,\"renderers\":[{\"id\":\"e441ff13-fedd-4471-9e64-79de5a77f0cf\",\"type\":\"LinearAxis\"},{\"id\":\"72e3755c-3ac0-452e-a04b-7737e0fb2617\",\"type\":\"Grid\"},{\"id\":\"ba060094-2ae5-4c60-8c11-e0e13a925a23\",\"type\":\"LinearAxis\"},{\"id\":\"1efe1776-2cc7-438f-875a-41f6ef7a334c\",\"type\":\"Grid\"},{\"id\":\"b06da59c-e03d-4154-941c-36f0bc3fca67\",\"type\":\"BoxAnnotation\"},{\"id\":\"dabf89b9-5fb6-4a68-baae-c601aab2be59\",\"type\":\"GlyphRenderer\"}],\"title\":{\"id\":\"f497de5e-8009-4a0a-bc52-0ffbd1cb3f78\",\"type\":\"Title\"},\"toolbar\":{\"id\":\"ba7be992-1c92-4463-8804-69a648d816ea\",\"type\":\"Toolbar\"},\"x_range\":{\"id\":\"2ce2cd42-c194-42bf-a908-c92883c826c8\",\"type\":\"DataRange1d\"},\"x_scale\":{\"id\":\"07e690e3-8d18-44d4-bcbb-9a25e14bc27f\",\"type\":\"LinearScale\"},\"y_range\":{\"id\":\"20a25840-0ec1-449a-bf76-4e8fee9ac425\",\"type\":\"DataRange1d\"},\"y_scale\":{\"id\":\"e64e3779-ad86-4129-a7e2-b65d53618968\",\"type\":\"LinearScale\"}},\"id\":\"3c2ac7e4-6699-4989-be2e-1274535d7e5e\",\"subtype\":\"Figure\",\"type\":\"Plot\"},{\"attributes\":{\"callback\":null,\"column_names\":[\"x\",\"y\"],\"data\":{\"x\":[1990,1995,2000,2005,2010,2015,2020,2025,2030],\"y\":[56582726.0,58983954.0,62343379.0,65559487.0,66402316.0,67400746.0,67857997.0,67899866.0,67554088.0]}},\"id\":\"fc0e0fb6-8bdf-4cce-8765-3bbb96b1e99d\",\"type\":\"ColumnDataSource\"}],\"root_ids\":[\"bb1ea10c-cf63-4dcf-accb-933019f57816\"]},\"title\":\"Bokeh Application\",\"version\":\"0.12.13\"}};\n",
       "  var render_items = [{\"docid\":\"b4cf4b5c-5712-4c6c-a23f-89457ee2236e\",\"elementid\":\"70037c92-f39c-491f-8b97-f24590c43631\",\"modelid\":\"bb1ea10c-cf63-4dcf-accb-933019f57816\"}];\n",
       "  root.Bokeh.embed.embed_items_notebook(docs_json, render_items);\n",
       "\n",
       "  }\n",
       "  if (root.Bokeh !== undefined) {\n",
       "    embed_document(root);\n",
       "  } else {\n",
       "    var attempts = 0;\n",
       "    var timer = setInterval(function(root) {\n",
       "      if (root.Bokeh !== undefined) {\n",
       "        embed_document(root);\n",
       "        clearInterval(timer);\n",
       "      }\n",
       "      attempts++;\n",
       "      if (attempts > 100) {\n",
       "        console.log(\"Bokeh: ERROR: Unable to run BokehJS code because BokehJS library is missing\")\n",
       "        clearInterval(timer);\n",
       "      }\n",
       "    }, 10, root)\n",
       "  }\n",
       "})(window);"
      ],
      "application/vnd.bokehjs_exec.v0+json": ""
     },
     "metadata": {
      "application/vnd.bokehjs_exec.v0+json": {
       "id": "bb1ea10c-cf63-4dcf-accb-933019f57816"
      }
     },
     "output_type": "display_data"
    }
   ],
   "source": [
    "from bokeh.layouts import row # This is for inline output layouts\n",
    "\n",
    "# 1. Dot Plot\n",
    "# Create figure\n",
    "scatter_thai_sum = figure(plot_width=300, plot_height=200, title = \"Thailand Population Dot Plot\")\n",
    "# Create plot\n",
    "scatter_thai_sum.circle(year,thai_sum)\n",
    "\n",
    "# 2. Line Plot\n",
    "line_thai_sum = figure(plot_width=300, plot_height=200, title = \"Thailand Population Line Plot\")\n",
    "line_thai_sum.line(year,thai_sum)\n",
    "\n",
    "# 3. Combination\n",
    "combined_thai_sum = figure(plot_width=300, plot_height=200, title = \"Thailand Population Combination Plot\")\n",
    "combined_thai_sum.line(year,thai_sum)\n",
    "combined_thai_sum.scatter(year, thai_sum)\n",
    "\n",
    "#Display three plots in a row layout.\n",
    "show(row(scatter_thai_sum, line_thai_sum, combined_thai_sum))"
   ]
  },
  {
   "cell_type": "markdown",
   "metadata": {},
   "source": [
    "As you may notice, the biggest difference from other plotting libraries here is that Bokeh figure comes with some tools. With these tools you can move canvas, zoom-in and zoom-out, refresh, and save plot to local path."
   ]
  },
  {
   "cell_type": "markdown",
   "metadata": {},
   "source": [
    "### 5.2 Categorical Scatterplots\n",
    "Here is a relatively more complicated example, which is a powerful tool to explore categorical data. The result clearly shows the age group structure for different countries."
   ]
  },
  {
   "cell_type": "code",
   "execution_count": 57,
   "metadata": {},
   "outputs": [
    {
     "data": {
      "text/html": [
       "<div>\n",
       "<style scoped>\n",
       "    .dataframe tbody tr th:only-of-type {\n",
       "        vertical-align: middle;\n",
       "    }\n",
       "\n",
       "    .dataframe tbody tr th {\n",
       "        vertical-align: top;\n",
       "    }\n",
       "\n",
       "    .dataframe thead th {\n",
       "        text-align: right;\n",
       "    }\n",
       "</style>\n",
       "<table border=\"1\" class=\"dataframe\">\n",
       "  <thead>\n",
       "    <tr style=\"text-align: right;\">\n",
       "      <th></th>\n",
       "      <th>Location</th>\n",
       "      <th>AgeGrp</th>\n",
       "      <th>Value</th>\n",
       "    </tr>\n",
       "  </thead>\n",
       "  <tbody>\n",
       "    <tr>\n",
       "      <th>0</th>\n",
       "      <td>Afghanistan</td>\n",
       "      <td>0-4</td>\n",
       "      <td>4263070.0</td>\n",
       "    </tr>\n",
       "    <tr>\n",
       "      <th>1</th>\n",
       "      <td>Afghanistan</td>\n",
       "      <td>10-14</td>\n",
       "      <td>2634116.0</td>\n",
       "    </tr>\n",
       "    <tr>\n",
       "      <th>2</th>\n",
       "      <td>Afghanistan</td>\n",
       "      <td>100+</td>\n",
       "      <td>8.0</td>\n",
       "    </tr>\n",
       "    <tr>\n",
       "      <th>3</th>\n",
       "      <td>Afghanistan</td>\n",
       "      <td>15-19</td>\n",
       "      <td>2142096.0</td>\n",
       "    </tr>\n",
       "    <tr>\n",
       "      <th>4</th>\n",
       "      <td>Afghanistan</td>\n",
       "      <td>20-24</td>\n",
       "      <td>1737581.0</td>\n",
       "    </tr>\n",
       "  </tbody>\n",
       "</table>\n",
       "</div>"
      ],
      "text/plain": [
       "      Location AgeGrp      Value\n",
       "0  Afghanistan    0-4  4263070.0\n",
       "1  Afghanistan  10-14  2634116.0\n",
       "2  Afghanistan   100+        8.0\n",
       "3  Afghanistan  15-19  2142096.0\n",
       "4  Afghanistan  20-24  1737581.0"
      ]
     },
     "execution_count": 57,
     "metadata": {},
     "output_type": "execute_result"
    }
   ],
   "source": [
    "#Get all countries population for year 2000\n",
    "age_group = ['0-4','5-9','10-14','15-19','20-24','25-29','30-34','35-39','40-44','45-49','50-54','55-59','60-64','65-69','70-74','75-79','80-84','85-89','90-94','95-99','100+']\n",
    "world_2000_data = data[data['Year']==2000][['Location','AgeGrp','Value']].groupby(['Location','AgeGrp']).sum().reset_index()\n",
    "world_2000_data.head()"
   ]
  },
  {
   "cell_type": "code",
   "execution_count": 58,
   "metadata": {},
   "outputs": [
    {
     "data": {
      "text/html": [
       "\n",
       "<div class=\"bk-root\">\n",
       "    <div class=\"bk-plotdiv\" id=\"ca53df7f-110e-4be1-bfc6-881d8dd37d41\"></div>\n",
       "</div>"
      ]
     },
     "metadata": {},
     "output_type": "display_data"
    },
    {
     "data": {
      "application/javascript": [
       "(function(root) {\n",
       "  function embed_document(root) {\n",
       "    \n",
       "  var docs_json = {\"9422afb8-be01-4247-9a0f-2ab5861e9123\":{\"roots\":{\"references\":[{\"attributes\":{\"callback\":null,\"factors\":[\"0-4\",\"5-9\",\"10-14\",\"15-19\",\"20-24\",\"25-29\",\"30-34\",\"35-39\",\"40-44\",\"45-49\",\"50-54\",\"55-59\",\"60-64\",\"65-69\",\"70-74\",\"75-79\",\"80-84\",\"85-89\",\"90-94\",\"95-99\",\"100+\"]},\"id\":\"109ee993-4490-4324-bef2-b8b7b000be7d\",\"type\":\"FactorRange\"},{\"attributes\":{\"fill_alpha\":{\"value\":0.1},\"fill_color\":{\"value\":\"#1f77b4\"},\"line_alpha\":{\"value\":0.1},\"line_color\":{\"value\":\"#1f77b4\"},\"size\":{\"units\":\"screen\",\"value\":10},\"x\":{\"field\":\"Value\"},\"y\":{\"field\":\"AgeGrp\",\"transform\":{\"id\":\"b1a3f99e-637d-4a71-9139-70b2cefcc496\",\"type\":\"Jitter\"}}},\"id\":\"ba116691-2d0e-4372-adc2-c2a9906ad0d6\",\"type\":\"Circle\"},{\"attributes\":{\"range\":{\"id\":\"109ee993-4490-4324-bef2-b8b7b000be7d\",\"type\":\"FactorRange\"},\"width\":0.7},\"id\":\"630a0b1b-0661-462f-998e-d1360a3c0feb\",\"type\":\"Jitter\"},{\"attributes\":{},\"id\":\"f0c5540b-9694-4591-82b7-c1dfb324ec2b\",\"type\":\"HelpTool\"},{\"attributes\":{\"plot\":null,\"text\":\"Japan & Brazil Population Age Distribution in 2000\"},\"id\":\"cf1031a1-a61b-4a78-bb6a-39fca1e07aa7\",\"type\":\"Title\"},{\"attributes\":{},\"id\":\"2b8c9c47-6591-4867-b088-e101b3c76324\",\"type\":\"SaveTool\"},{\"attributes\":{\"source\":{\"id\":\"48fb7f6a-f086-4c25-9836-35b67625f5ac\",\"type\":\"ColumnDataSource\"}},\"id\":\"10743d58-f56a-4f70-b355-a5c84a3897df\",\"type\":\"CDSView\"},{\"attributes\":{\"fill_alpha\":{\"value\":0.1},\"fill_color\":{\"value\":\"#1f77b4\"},\"line_alpha\":{\"value\":0.1},\"line_color\":{\"value\":\"#1f77b4\"},\"x\":{\"field\":\"Value\"},\"y\":{\"field\":\"AgeGrp\",\"transform\":{\"id\":\"6bcc5bb2-1097-4b46-a812-f739e49cc6ef\",\"type\":\"Jitter\"}}},\"id\":\"7509623f-1db9-4cac-850f-e33df65f6754\",\"type\":\"Circle\"},{\"attributes\":{},\"id\":\"8fad03c0-598c-4166-a462-8dde8801c156\",\"type\":\"PanTool\"},{\"attributes\":{\"callback\":null,\"range_padding\":0},\"id\":\"e998cfd4-fefb-4bb8-9b95-a5bbb4b014f7\",\"type\":\"DataRange1d\"},{\"attributes\":{},\"id\":\"3291c80f-1167-436e-b305-d261e6ae1502\",\"type\":\"BasicTicker\"},{\"attributes\":{\"below\":[{\"id\":\"a2d26de4-8c41-4018-bb08-9c2522047bbf\",\"type\":\"LinearAxis\"}],\"left\":[{\"id\":\"eb990716-2a6e-49b1-82c8-06accf34c11f\",\"type\":\"CategoricalAxis\"}],\"plot_height\":500,\"plot_width\":900,\"renderers\":[{\"id\":\"a2d26de4-8c41-4018-bb08-9c2522047bbf\",\"type\":\"LinearAxis\"},{\"id\":\"c509ed14-78fd-4511-ad3a-096b2f208165\",\"type\":\"Grid\"},{\"id\":\"eb990716-2a6e-49b1-82c8-06accf34c11f\",\"type\":\"CategoricalAxis\"},{\"id\":\"59c6ed63-d4c5-4cd8-9493-82ead815cc03\",\"type\":\"Grid\"},{\"id\":\"ec8d6eb0-7a6b-4fbc-9a64-fe294a1cf1ee\",\"type\":\"BoxAnnotation\"},{\"id\":\"1ad80903-ca0a-4f19-bc1a-b283d72633e4\",\"type\":\"GlyphRenderer\"},{\"id\":\"00aba762-653b-4da8-9feb-a6158047192e\",\"type\":\"GlyphRenderer\"},{\"id\":\"0e338141-ac51-4424-9ab2-2389f5578396\",\"type\":\"GlyphRenderer\"}],\"title\":{\"id\":\"cf1031a1-a61b-4a78-bb6a-39fca1e07aa7\",\"type\":\"Title\"},\"toolbar\":{\"id\":\"331d21fe-a3ed-4e9e-a926-4fb33c11c15c\",\"type\":\"Toolbar\"},\"x_range\":{\"id\":\"e998cfd4-fefb-4bb8-9b95-a5bbb4b014f7\",\"type\":\"DataRange1d\"},\"x_scale\":{\"id\":\"81e72f07-5041-4ac5-8ddb-e97fd31a8102\",\"type\":\"LinearScale\"},\"y_range\":{\"id\":\"109ee993-4490-4324-bef2-b8b7b000be7d\",\"type\":\"FactorRange\"},\"y_scale\":{\"id\":\"9c6bc661-615b-4758-b71c-c0fd5cc156d3\",\"type\":\"CategoricalScale\"}},\"id\":\"4d059ee2-2d87-4b8f-9f36-3eaadc73a26a\",\"subtype\":\"Figure\",\"type\":\"Plot\"},{\"attributes\":{\"source\":{\"id\":\"851313b5-8f25-482c-8c84-9afcce1daed7\",\"type\":\"ColumnDataSource\"}},\"id\":\"2e5924ce-3e75-4c60-8c92-3cf87ee28835\",\"type\":\"CDSView\"},{\"attributes\":{\"formatter\":{\"id\":\"c2bbf1db-0d52-4ff1-bfd4-3e9dad8b0caf\",\"type\":\"CategoricalTickFormatter\"},\"plot\":{\"id\":\"4d059ee2-2d87-4b8f-9f36-3eaadc73a26a\",\"subtype\":\"Figure\",\"type\":\"Plot\"},\"ticker\":{\"id\":\"93d90364-0207-4867-a25b-38e146e0b708\",\"type\":\"CategoricalTicker\"}},\"id\":\"eb990716-2a6e-49b1-82c8-06accf34c11f\",\"type\":\"CategoricalAxis\"},{\"attributes\":{\"active_drag\":\"auto\",\"active_inspect\":\"auto\",\"active_scroll\":\"auto\",\"active_tap\":\"auto\",\"tools\":[{\"id\":\"8fad03c0-598c-4166-a462-8dde8801c156\",\"type\":\"PanTool\"},{\"id\":\"47c74456-90b8-4846-93c0-784711a2633f\",\"type\":\"WheelZoomTool\"},{\"id\":\"4392127a-dde4-49a9-9faf-54e409d07523\",\"type\":\"BoxZoomTool\"},{\"id\":\"2b8c9c47-6591-4867-b088-e101b3c76324\",\"type\":\"SaveTool\"},{\"id\":\"cf202b56-bbaf-429e-9248-3135430ad13e\",\"type\":\"ResetTool\"},{\"id\":\"f0c5540b-9694-4591-82b7-c1dfb324ec2b\",\"type\":\"HelpTool\"}]},\"id\":\"331d21fe-a3ed-4e9e-a926-4fb33c11c15c\",\"type\":\"Toolbar\"},{\"attributes\":{\"fill_color\":{\"value\":\"Coral\"},\"line_color\":{\"value\":\"Coral\"},\"size\":{\"units\":\"screen\",\"value\":10},\"x\":{\"field\":\"Value\"},\"y\":{\"field\":\"AgeGrp\",\"transform\":{\"id\":\"630a0b1b-0661-462f-998e-d1360a3c0feb\",\"type\":\"Jitter\"}}},\"id\":\"dc990bfa-6082-4037-a327-839c9e2809c6\",\"type\":\"Circle\"},{\"attributes\":{\"source\":{\"id\":\"f7a43a08-c56d-4070-a6b4-ad1711ad39d8\",\"type\":\"ColumnDataSource\"}},\"id\":\"98bf5109-ca37-4b17-baa7-f2360961d430\",\"type\":\"CDSView\"},{\"attributes\":{\"callback\":null,\"column_names\":[\"Location\",\"AgeGrp\",\"Value\",\"index\"],\"data\":{\"AgeGrp\":[\"0-4\",\"10-14\",\"100+\",\"15-19\",\"20-24\",\"25-29\",\"30-34\",\"35-39\",\"40-44\",\"45-49\",\"5-9\",\"50-54\",\"55-59\",\"60-64\",\"65-69\",\"70-74\",\"75-79\",\"80-84\",\"85-89\",\"90-94\",\"95-99\"],\"Location\":[\"Brazil\",\"Brazil\",\"Brazil\",\"Brazil\",\"Brazil\",\"Brazil\",\"Brazil\",\"Brazil\",\"Brazil\",\"Brazil\",\"Brazil\",\"Brazil\",\"Brazil\",\"Brazil\",\"Brazil\",\"Brazil\",\"Brazil\",\"Brazil\",\"Brazil\",\"Brazil\",\"Brazil\"],\"Value\":{\"__ndarray__\":\"AAAA8KeocEEAAADAprNwQQAAAACA3MdAAAAAcPtVcUEAAADgGH5vQQAAAKBb0GtBAAAA4In0aUEAAADgLdhoQQAAAAC89mRBAAAAgDxuYUEAAADgxclvQQAAAED7WltBAAAAgD7ZVEEAAAAA3ZFRQQAAAADIL0pBAAAAAJWCREEAAAAA/D46QQAAAADmGi5BAAAAAGx7HkEAAAAAIBkHQQAAAADgkelA\",\"dtype\":\"float64\",\"shape\":[21]},\"index\":[399,400,401,402,403,404,405,406,407,408,409,410,411,412,413,414,415,416,417,418,419]}},\"id\":\"851313b5-8f25-482c-8c84-9afcce1daed7\",\"type\":\"ColumnDataSource\"},{\"attributes\":{\"dimension\":1,\"plot\":{\"id\":\"4d059ee2-2d87-4b8f-9f36-3eaadc73a26a\",\"subtype\":\"Figure\",\"type\":\"Plot\"},\"ticker\":{\"id\":\"93d90364-0207-4867-a25b-38e146e0b708\",\"type\":\"CategoricalTicker\"}},\"id\":\"59c6ed63-d4c5-4cd8-9493-82ead815cc03\",\"type\":\"Grid\"},{\"attributes\":{\"data_source\":{\"id\":\"48fb7f6a-f086-4c25-9836-35b67625f5ac\",\"type\":\"ColumnDataSource\"},\"glyph\":{\"id\":\"955ec3fd-b119-4f9d-9ae0-37bfa5b657be\",\"type\":\"Circle\"},\"hover_glyph\":null,\"muted_glyph\":null,\"nonselection_glyph\":{\"id\":\"7509623f-1db9-4cac-850f-e33df65f6754\",\"type\":\"Circle\"},\"selection_glyph\":null,\"view\":{\"id\":\"10743d58-f56a-4f70-b355-a5c84a3897df\",\"type\":\"CDSView\"}},\"id\":\"0e338141-ac51-4424-9ab2-2389f5578396\",\"type\":\"GlyphRenderer\"},{\"attributes\":{\"fill_alpha\":{\"value\":0.2},\"fill_color\":{\"value\":\"#1f77b4\"},\"line_alpha\":{\"value\":0.2},\"line_color\":{\"value\":\"#1f77b4\"},\"x\":{\"field\":\"Value\"},\"y\":{\"field\":\"AgeGrp\",\"transform\":{\"id\":\"6bcc5bb2-1097-4b46-a812-f739e49cc6ef\",\"type\":\"Jitter\"}}},\"id\":\"955ec3fd-b119-4f9d-9ae0-37bfa5b657be\",\"type\":\"Circle\"},{\"attributes\":{\"data_source\":{\"id\":\"851313b5-8f25-482c-8c84-9afcce1daed7\",\"type\":\"ColumnDataSource\"},\"glyph\":{\"id\":\"1170f271-832d-4095-90b3-bdf70cf6e1d4\",\"type\":\"Circle\"},\"hover_glyph\":null,\"muted_glyph\":null,\"nonselection_glyph\":{\"id\":\"ba116691-2d0e-4372-adc2-c2a9906ad0d6\",\"type\":\"Circle\"},\"selection_glyph\":null,\"view\":{\"id\":\"2e5924ce-3e75-4c60-8c92-3cf87ee28835\",\"type\":\"CDSView\"}},\"id\":\"00aba762-653b-4da8-9feb-a6158047192e\",\"type\":\"GlyphRenderer\"},{\"attributes\":{\"callback\":null,\"column_names\":[\"Location\",\"AgeGrp\",\"Value\",\"index\"],\"data\":{\"AgeGrp\":[\"0-4\",\"10-14\",\"100+\",\"15-19\",\"20-24\",\"25-29\",\"30-34\",\"35-39\",\"40-44\",\"45-49\",\"5-9\",\"50-54\",\"55-59\",\"60-64\",\"65-69\",\"70-74\",\"75-79\",\"80-84\",\"85-89\",\"90-94\",\"95-99\",\"0-4\",\"10-14\",\"100+\",\"15-19\",\"20-24\",\"25-29\",\"30-34\",\"35-39\",\"40-44\",\"45-49\",\"5-9\",\"50-54\",\"55-59\",\"60-64\",\"65-69\",\"70-74\",\"75-79\",\"80-84\",\"85-89\",\"90-94\",\"95-99\",\"0-4\",\"10-14\",\"100+\",\"15-19\",\"20-24\",\"25-29\",\"30-34\",\"35-39\",\"40-44\",\"45-49\",\"5-9\",\"50-54\",\"55-59\",\"60-64\",\"65-69\",\"70-74\",\"75-79\",\"80-84\",\"85-89\",\"90-94\",\"95-99\",\"0-4\",\"10-14\",\"100+\",\"15-19\",\"20-24\",\"25-29\",\"30-34\",\"35-39\",\"40-44\",\"45-49\",\"5-9\",\"50-54\",\"55-59\",\"60-64\",\"65-69\",\"70-74\",\"75-79\",\"80-84\",\"85-89\",\"90-94\",\"95-99\",\"0-4\",\"10-14\",\"100+\",\"15-19\",\"20-24\",\"25-29\",\"30-34\",\"35-39\",\"40-44\",\"45-49\",\"5-9\",\"50-54\",\"55-59\",\"60-64\",\"65-69\",\"70-74\",\"75-79\",\"80-84\",\"85-89\",\"90-94\",\"95-99\",\"0-4\",\"10-14\",\"100+\",\"15-19\",\"20-24\",\"25-29\",\"30-34\",\"35-39\",\"40-44\",\"45-49\",\"5-9\",\"50-54\",\"55-59\",\"60-64\",\"65-69\",\"70-74\",\"75-79\",\"80-84\",\"85-89\",\"90-94\",\"95-99\",\"0-4\",\"10-14\",\"100+\",\"15-19\",\"20-24\",\"25-29\",\"30-34\",\"35-39\",\"40-44\",\"45-49\",\"5-9\",\"50-54\",\"55-59\",\"60-64\",\"65-69\",\"70-74\",\"75-79\",\"80-84\",\"85-89\",\"90-94\",\"95-99\",\"0-4\",\"10-14\",\"100+\",\"15-19\",\"20-24\",\"25-29\",\"30-34\",\"35-39\",\"40-44\",\"45-49\",\"5-9\",\"50-54\",\"55-59\",\"60-64\",\"65-69\",\"70-74\",\"75-79\",\"80-84\",\"85-89\",\"90-94\",\"95-99\",\"0-4\",\"10-14\",\"100+\",\"15-19\",\"20-24\",\"25-29\",\"30-34\",\"35-39\",\"40-44\",\"45-49\",\"5-9\",\"50-54\",\"55-59\",\"60-64\",\"65-69\",\"70-74\",\"75-79\",\"80-84\",\"85-89\",\"90-94\",\"95-99\",\"0-4\",\"10-14\",\"100+\",\"15-19\",\"20-24\",\"25-29\",\"30-34\",\"35-39\",\"40-44\",\"45-49\",\"5-9\",\"50-54\",\"55-59\",\"60-64\",\"65-69\",\"70-74\",\"75-79\",\"80-84\",\"85-89\",\"90-94\",\"95-99\",\"0-4\",\"10-14\",\"100+\",\"15-19\",\"20-24\",\"25-29\",\"30-34\",\"35-39\",\"40-44\",\"45-49\",\"5-9\",\"50-54\",\"55-59\",\"60-64\",\"65-69\",\"70-74\",\"75-79\",\"80-84\",\"85-89\",\"90-94\",\"95-99\",\"0-4\",\"10-14\",\"100+\",\"15-19\",\"20-24\",\"25-29\",\"30-34\",\"35-39\",\"40-44\",\"45-49\",\"5-9\",\"50-54\",\"55-59\",\"60-64\",\"65-69\",\"70-74\",\"75-79\",\"80-84\",\"85-89\",\"90-94\",\"95-99\",\"0-4\",\"10-14\",\"100+\",\"15-19\",\"20-24\",\"25-29\",\"30-34\",\"35-39\",\"40-44\",\"45-49\",\"5-9\",\"50-54\",\"55-59\",\"60-64\",\"65-69\",\"70-74\",\"75-79\",\"80-84\",\"85-89\",\"90-94\",\"95-99\",\"0-4\",\"10-14\",\"100+\",\"15-19\",\"20-24\",\"25-29\",\"30-34\",\"35-39\",\"40-44\",\"45-49\",\"5-9\",\"50-54\",\"55-59\",\"60-64\",\"65-69\",\"70-74\",\"75-79\",\"80-84\",\"85-89\",\"90-94\",\"95-99\",\"0-4\",\"10-14\",\"100+\",\"15-19\",\"20-24\",\"25-29\",\"30-34\",\"35-39\",\"40-44\",\"45-49\",\"5-9\",\"50-54\",\"55-59\",\"60-64\",\"65-69\",\"70-74\",\"75-79\",\"80-84\",\"85-89\",\"90-94\",\"95-99\",\"0-4\",\"10-14\",\"100+\",\"15-19\",\"20-24\",\"25-29\",\"30-34\",\"35-39\",\"40-44\",\"45-49\",\"5-9\",\"50-54\",\"55-59\",\"60-64\",\"65-69\",\"70-74\",\"75-79\",\"80-84\",\"85-89\",\"90-94\",\"95-99\",\"0-4\",\"10-14\",\"100+\",\"15-19\",\"20-24\",\"25-29\",\"30-34\",\"35-39\",\"40-44\",\"45-49\",\"5-9\",\"50-54\",\"55-59\",\"60-64\",\"65-69\",\"70-74\",\"75-79\",\"80-84\",\"85-89\",\"90-94\",\"95-99\",\"0-4\",\"10-14\",\"100+\",\"15-19\",\"20-24\",\"25-29\",\"30-34\",\"35-39\",\"40-44\",\"45-49\",\"5-9\",\"50-54\",\"55-59\",\"60-64\",\"65-69\",\"70-74\",\"75-79\",\"80-84\",\"85-89\",\"90-94\",\"95-99\",\"0-4\",\"10-14\",\"100+\",\"15-19\",\"20-24\",\"25-29\",\"30-34\",\"35-39\",\"40-44\",\"45-49\",\"5-9\",\"50-54\",\"55-59\",\"60-64\",\"65-69\",\"70-74\",\"75-79\",\"80-84\",\"85-89\",\"90-94\",\"95-99\",\"0-4\",\"10-14\",\"100+\",\"15-19\",\"20-24\",\"25-29\",\"30-34\",\"35-39\",\"40-44\",\"45-49\",\"5-9\",\"50-54\",\"55-59\",\"60-64\",\"65-69\",\"70-74\",\"75-79\",\"80-84\",\"85-89\",\"90-94\",\"95-99\",\"0-4\",\"10-14\",\"100+\",\"15-19\",\"20-24\",\"25-29\",\"30-34\",\"35-39\",\"40-44\",\"45-49\",\"5-9\",\"50-54\",\"55-59\",\"60-64\",\"65-69\",\"70-74\",\"75-79\",\"80-84\",\"85-89\",\"90-94\",\"95-99\",\"0-4\",\"10-14\",\"100+\",\"15-19\",\"20-24\",\"25-29\",\"30-34\",\"35-39\",\"40-44\",\"45-49\",\"5-9\",\"50-54\",\"55-59\",\"60-64\",\"65-69\",\"70-74\",\"75-79\",\"80-84\",\"85-89\",\"90-94\",\"95-99\",\"0-4\",\"10-14\",\"100+\",\"15-19\",\"20-24\",\"25-29\",\"30-34\",\"35-39\",\"40-44\",\"45-49\",\"5-9\",\"50-54\",\"55-59\",\"60-64\",\"65-69\",\"70-74\",\"75-79\",\"80-84\",\"85-89\",\"90-94\",\"95-99\",\"0-4\",\"10-14\",\"100+\",\"15-19\",\"20-24\",\"25-29\",\"30-34\",\"35-39\",\"40-44\",\"45-49\",\"5-9\",\"50-54\",\"55-59\",\"60-64\",\"65-69\",\"70-74\",\"75-79\",\"80-84\",\"85-89\",\"90-94\",\"95-99\",\"0-4\",\"10-14\",\"100+\",\"15-19\",\"20-24\",\"25-29\",\"30-34\",\"35-39\",\"40-44\",\"45-49\",\"5-9\",\"50-54\",\"55-59\",\"60-64\",\"65-69\",\"70-74\",\"75-79\",\"80-84\",\"85-89\",\"90-94\",\"95-99\",\"0-4\",\"10-14\",\"100+\",\"15-19\",\"20-24\",\"25-29\",\"30-34\",\"35-39\",\"40-44\",\"45-49\",\"5-9\",\"50-54\",\"55-59\",\"60-64\",\"65-69\",\"70-74\",\"75-79\",\"80-84\",\"85-89\",\"90-94\",\"95-99\",\"0-4\",\"10-14\",\"100+\",\"15-19\",\"20-24\",\"25-29\",\"30-34\",\"35-39\",\"40-44\",\"45-49\",\"5-9\",\"50-54\",\"55-59\",\"60-64\",\"65-69\",\"70-74\",\"75-79\",\"80-84\",\"85-89\",\"90-94\",\"95-99\",\"0-4\",\"10-14\",\"100+\",\"15-19\",\"20-24\",\"25-29\",\"30-34\",\"35-39\",\"40-44\",\"45-49\",\"5-9\",\"50-54\",\"55-59\",\"60-64\",\"65-69\",\"70-74\",\"75-79\",\"80-84\",\"85-89\",\"90-94\",\"95-99\",\"0-4\",\"10-14\",\"100+\",\"15-19\",\"20-24\",\"25-29\",\"30-34\",\"35-39\",\"40-44\",\"45-49\",\"5-9\",\"50-54\",\"55-59\",\"60-64\",\"65-69\",\"70-74\",\"75-79\",\"80-84\",\"85-89\",\"90-94\",\"95-99\",\"0-4\",\"10-14\",\"100+\",\"15-19\",\"20-24\",\"25-29\",\"30-34\",\"35-39\",\"40-44\",\"45-49\",\"5-9\",\"50-54\",\"55-59\",\"60-64\",\"65-69\",\"70-74\",\"75-79\",\"80-84\",\"85-89\",\"90-94\",\"95-99\",\"0-4\",\"10-14\",\"100+\",\"15-19\",\"20-24\",\"25-29\",\"30-34\",\"35-39\",\"40-44\",\"45-49\",\"5-9\",\"50-54\",\"55-59\",\"60-64\",\"65-69\",\"70-74\",\"75-79\",\"80-84\",\"85-89\",\"90-94\",\"95-99\",\"0-4\",\"10-14\",\"100+\",\"15-19\",\"20-24\",\"25-29\",\"30-34\",\"35-39\",\"40-44\",\"45-49\",\"5-9\",\"50-54\",\"55-59\",\"60-64\",\"65-69\",\"70-74\",\"75-79\",\"80-84\",\"85-89\",\"90-94\",\"95-99\",\"0-4\",\"10-14\",\"100+\",\"15-19\",\"20-24\",\"25-29\",\"30-34\",\"35-39\",\"40-44\",\"45-49\",\"5-9\",\"50-54\",\"55-59\",\"60-64\",\"65-69\",\"70-74\",\"75-79\",\"80-84\",\"85-89\",\"90-94\",\"95-99\",\"0-4\",\"10-14\",\"100+\",\"15-19\",\"20-24\",\"25-29\",\"30-34\",\"35-39\",\"40-44\",\"45-49\",\"5-9\",\"50-54\",\"55-59\",\"60-64\",\"65-69\",\"70-74\",\"75-79\",\"80-84\",\"85-89\",\"90-94\",\"95-99\",\"0-4\",\"10-14\",\"100+\",\"15-19\",\"20-24\",\"25-29\",\"30-34\",\"35-39\",\"40-44\",\"45-49\",\"5-9\",\"50-54\",\"55-59\",\"60-64\",\"65-69\",\"70-74\",\"75-79\",\"80-84\",\"85-89\",\"90-94\",\"95-99\",\"0-4\",\"10-14\",\"100+\",\"15-19\",\"20-24\",\"25-29\",\"30-34\",\"35-39\",\"40-44\",\"45-49\",\"5-9\",\"50-54\",\"55-59\",\"60-64\",\"65-69\",\"70-74\",\"75-79\",\"80-84\",\"85-89\",\"90-94\",\"95-99\",\"0-4\",\"10-14\",\"100+\",\"15-19\",\"20-24\",\"25-29\",\"30-34\",\"35-39\",\"40-44\",\"45-49\",\"5-9\",\"50-54\",\"55-59\",\"60-64\",\"65-69\",\"70-74\",\"75-79\",\"80-84\",\"85-89\",\"90-94\",\"95-99\",\"0-4\",\"10-14\",\"100+\",\"15-19\",\"20-24\",\"25-29\",\"30-34\",\"35-39\",\"40-44\",\"45-49\",\"5-9\",\"50-54\",\"55-59\",\"60-64\",\"65-69\",\"70-74\",\"75-79\",\"80-84\",\"85-89\",\"90-94\",\"95-99\",\"0-4\",\"10-14\",\"100+\",\"15-19\",\"20-24\",\"25-29\",\"30-34\",\"35-39\",\"40-44\",\"45-49\",\"5-9\",\"50-54\",\"55-59\",\"60-64\",\"65-69\",\"70-74\",\"75-79\",\"80-84\",\"85-89\",\"90-94\",\"95-99\",\"0-4\",\"10-14\",\"100+\",\"15-19\",\"20-24\",\"25-29\",\"30-34\",\"35-39\",\"40-44\",\"45-49\",\"5-9\",\"50-54\",\"55-59\",\"60-64\",\"65-69\",\"70-74\",\"75-79\",\"80-84\",\"85-89\",\"90-94\",\"95-99\",\"0-4\",\"10-14\",\"100+\",\"15-19\",\"20-24\",\"25-29\",\"30-34\",\"35-39\",\"40-44\",\"45-49\",\"5-9\",\"50-54\",\"55-59\",\"60-64\",\"65-69\",\"70-74\",\"75-79\",\"80-84\",\"85-89\",\"90-94\",\"95-99\",\"0-4\",\"10-14\",\"100+\",\"15-19\",\"20-24\",\"25-29\",\"30-34\",\"35-39\",\"40-44\",\"45-49\",\"5-9\",\"50-54\",\"55-59\",\"60-64\",\"65-69\",\"70-74\",\"75-79\",\"80-84\",\"85-89\",\"90-94\",\"95-99\",\"0-4\",\"10-14\",\"100+\",\"15-19\",\"20-24\",\"25-29\",\"30-34\",\"35-39\",\"40-44\",\"45-49\",\"5-9\",\"50-54\",\"55-59\",\"60-64\",\"65-69\",\"70-74\",\"75-79\",\"80-84\",\"85-89\",\"90-94\",\"95-99\",\"0-4\",\"10-14\",\"100+\",\"15-19\",\"20-24\",\"25-29\",\"30-34\",\"35-39\",\"40-44\",\"45-49\",\"5-9\",\"50-54\",\"55-59\",\"60-64\",\"65-69\",\"70-74\",\"75-79\",\"80-84\",\"85-89\",\"90-94\",\"95-99\",\"0-4\",\"10-14\",\"100+\",\"15-19\",\"20-24\",\"25-29\",\"30-34\",\"35-39\",\"40-44\",\"45-49\",\"5-9\",\"50-54\",\"55-59\",\"60-64\",\"65-69\",\"70-74\",\"75-79\",\"80-84\",\"85-89\",\"90-94\",\"95-99\",\"0-4\",\"10-14\",\"100+\",\"15-19\",\"20-24\",\"25-29\",\"30-34\",\"35-39\",\"40-44\",\"45-49\",\"5-9\",\"50-54\",\"55-59\",\"60-64\",\"65-69\",\"70-74\",\"75-79\",\"80-84\",\"85-89\",\"90-94\",\"95-99\",\"0-4\",\"10-14\",\"100+\",\"15-19\",\"20-24\",\"25-29\",\"30-34\",\"35-39\",\"40-44\",\"45-49\",\"5-9\",\"50-54\",\"55-59\",\"60-64\",\"65-69\",\"70-74\",\"75-79\",\"80-84\",\"85-89\",\"90-94\",\"95-99\",\"0-4\",\"10-14\",\"100+\",\"15-19\",\"20-24\",\"25-29\",\"30-34\",\"35-39\",\"40-44\",\"45-49\",\"5-9\",\"50-54\",\"55-59\",\"60-64\",\"65-69\",\"70-74\",\"75-79\",\"80-84\",\"85-89\",\"90-94\",\"95-99\",\"0-4\",\"10-14\",\"100+\",\"15-19\",\"20-24\",\"25-29\",\"30-34\",\"35-39\",\"40-44\",\"45-49\",\"5-9\",\"50-54\",\"55-59\",\"60-64\",\"65-69\",\"70-74\",\"75-79\",\"80-84\",\"85-89\",\"90-94\",\"95-99\",\"0-4\",\"10-14\",\"100+\",\"15-19\",\"20-24\",\"25-29\",\"30-34\",\"35-39\",\"40-44\",\"45-49\",\"5-9\",\"50-54\",\"55-59\",\"60-64\",\"65-69\",\"70-74\",\"75-79\",\"80-84\",\"85-89\",\"90-94\",\"95-99\",\"0-4\",\"10-14\",\"100+\",\"15-19\",\"20-24\",\"25-29\",\"30-34\",\"35-39\",\"40-44\",\"45-49\",\"5-9\",\"50-54\",\"55-59\",\"60-64\",\"65-69\",\"70-74\",\"75-79\",\"80-84\",\"85-89\",\"90-94\",\"95-99\",\"0-4\",\"10-14\",\"100+\",\"15-19\",\"20-24\",\"25-29\",\"30-34\",\"35-39\",\"40-44\",\"45-49\",\"5-9\",\"50-54\",\"55-59\",\"60-64\",\"65-69\",\"70-74\",\"75-79\",\"80-84\",\"85-89\",\"90-94\",\"95-99\",\"0-4\",\"10-14\",\"100+\",\"15-19\",\"20-24\",\"25-29\",\"30-34\",\"35-39\",\"40-44\",\"45-49\",\"5-9\",\"50-54\",\"55-59\",\"60-64\",\"65-69\",\"70-74\",\"75-79\",\"80-84\",\"85-89\",\"90-94\",\"95-99\",\"0-4\",\"10-14\",\"100+\",\"15-19\",\"20-24\",\"25-29\",\"30-34\",\"35-39\",\"40-44\",\"45-49\",\"5-9\",\"50-54\",\"55-59\",\"60-64\",\"65-69\",\"70-74\",\"75-79\",\"80-84\",\"85-89\",\"90-94\",\"95-99\",\"0-4\",\"10-14\",\"100+\",\"15-19\",\"20-24\",\"25-29\",\"30-34\",\"35-39\",\"40-44\",\"45-49\",\"5-9\",\"50-54\",\"55-59\",\"60-64\",\"65-69\",\"70-74\",\"75-79\",\"80-84\",\"85-89\",\"90-94\",\"95-99\",\"0-4\",\"10-14\",\"100+\",\"15-19\",\"20-24\",\"25-29\",\"30-34\",\"35-39\",\"40-44\",\"45-49\",\"5-9\",\"50-54\",\"55-59\",\"60-64\",\"65-69\",\"70-74\",\"75-79\",\"80-84\",\"85-89\",\"90-94\",\"95-99\",\"0-4\",\"10-14\",\"100+\",\"15-19\",\"20-24\",\"25-29\",\"30-34\",\"35-39\",\"40-44\",\"45-49\",\"5-9\",\"50-54\",\"55-59\",\"60-64\",\"65-69\",\"70-74\",\"75-79\",\"80-84\",\"85-89\",\"90-94\",\"95-99\",\"0-4\",\"10-14\",\"100+\",\"15-19\",\"20-24\",\"25-29\",\"30-34\",\"35-39\",\"40-44\",\"45-49\",\"5-9\",\"50-54\",\"55-59\",\"60-64\",\"65-69\",\"70-74\",\"75-79\",\"80-84\",\"85-89\",\"90-94\",\"95-99\",\"0-4\",\"10-14\",\"100+\",\"15-19\",\"20-24\",\"25-29\",\"30-34\",\"35-39\",\"40-44\",\"45-49\",\"5-9\",\"50-54\",\"55-59\",\"60-64\",\"65-69\",\"70-74\",\"75-79\",\"80-84\",\"85-89\",\"90-94\",\"95-99\",\"0-4\",\"10-14\",\"100+\",\"15-19\",\"20-24\",\"25-29\",\"30-34\",\"35-39\",\"40-44\",\"45-49\",\"5-9\",\"50-54\",\"55-59\",\"60-64\",\"65-69\",\"70-74\",\"75-79\",\"80-84\",\"85-89\",\"90-94\",\"95-99\",\"0-4\",\"10-14\",\"100+\",\"15-19\",\"20-24\",\"25-29\",\"30-34\",\"35-39\",\"40-44\",\"45-49\",\"5-9\",\"50-54\",\"55-59\",\"60-64\",\"65-69\",\"70-74\",\"75-79\",\"80-84\",\"85-89\",\"90-94\",\"95-99\",\"0-4\",\"10-14\",\"100+\",\"15-19\",\"20-24\",\"25-29\",\"30-34\",\"35-39\",\"40-44\",\"45-49\",\"5-9\",\"50-54\",\"55-59\",\"60-64\",\"65-69\",\"70-74\",\"75-79\",\"80-84\",\"85-89\",\"90-94\",\"95-99\",\"0-4\",\"10-14\",\"100+\",\"15-19\",\"20-24\",\"25-29\",\"30-34\",\"35-39\",\"40-44\",\"45-49\",\"5-9\",\"50-54\",\"55-59\",\"60-64\",\"65-69\",\"70-74\",\"75-79\",\"80-84\",\"85-89\",\"90-94\",\"95-99\",\"0-4\",\"10-14\",\"100+\",\"15-19\",\"20-24\",\"25-29\",\"30-34\",\"35-39\",\"40-44\",\"45-49\",\"5-9\",\"50-54\",\"55-59\",\"60-64\",\"65-69\",\"70-74\",\"75-79\",\"80-84\",\"85-89\",\"90-94\",\"95-99\",\"0-4\",\"10-14\",\"100+\",\"15-19\",\"20-24\",\"25-29\",\"30-34\",\"35-39\",\"40-44\",\"45-49\",\"5-9\",\"50-54\",\"55-59\",\"60-64\",\"65-69\",\"70-74\",\"75-79\",\"80-84\",\"85-89\",\"90-94\",\"95-99\",\"0-4\",\"10-14\",\"100+\",\"15-19\",\"20-24\",\"25-29\",\"30-34\",\"35-39\",\"40-44\",\"45-49\",\"5-9\",\"50-54\",\"55-59\",\"60-64\",\"65-69\",\"70-74\",\"75-79\",\"80-84\",\"85-89\",\"90-94\",\"95-99\",\"0-4\",\"10-14\",\"100+\",\"15-19\",\"20-24\",\"25-29\",\"30-34\",\"35-39\",\"40-44\",\"45-49\",\"5-9\",\"50-54\",\"55-59\",\"60-64\",\"65-69\",\"70-74\",\"75-79\",\"80-84\",\"85-89\",\"90-94\",\"95-99\",\"0-4\",\"10-14\",\"100+\",\"15-19\",\"20-24\",\"25-29\",\"30-34\",\"35-39\",\"40-44\",\"45-49\",\"5-9\",\"50-54\",\"55-59\",\"60-64\",\"65-69\",\"70-74\",\"75-79\",\"80-84\",\"85-89\",\"90-94\",\"95-99\",\"0-4\",\"10-14\",\"100+\",\"15-19\",\"20-24\",\"25-29\",\"30-34\",\"35-39\",\"40-44\",\"45-49\",\"5-9\",\"50-54\",\"55-59\",\"60-64\",\"65-69\",\"70-74\",\"75-79\",\"80-84\",\"85-89\",\"90-94\",\"95-99\",\"0-4\",\"10-14\",\"100+\",\"15-19\",\"20-24\",\"25-29\",\"30-34\",\"35-39\",\"40-44\",\"45-49\",\"5-9\",\"50-54\",\"55-59\",\"60-64\",\"65-69\",\"70-74\",\"75-79\",\"80-84\",\"85-89\",\"90-94\",\"95-99\",\"0-4\",\"10-14\",\"100+\",\"15-19\",\"20-24\",\"25-29\",\"30-34\",\"35-39\",\"40-44\",\"45-49\",\"5-9\",\"50-54\",\"55-59\",\"60-64\",\"65-69\",\"70-74\",\"75-79\",\"80-84\",\"85-89\",\"90-94\",\"95-99\",\"0-4\",\"10-14\",\"100+\",\"15-19\",\"20-24\",\"25-29\",\"30-34\",\"35-39\",\"40-44\",\"45-49\",\"5-9\",\"50-54\",\"55-59\",\"60-64\",\"65-69\",\"70-74\",\"75-79\",\"80-84\",\"85-89\",\"90-94\",\"95-99\",\"0-4\",\"10-14\",\"100+\",\"15-19\",\"20-24\",\"25-29\",\"30-34\",\"35-39\",\"40-44\",\"45-49\",\"5-9\",\"50-54\",\"55-59\",\"60-64\",\"65-69\",\"70-74\",\"75-79\",\"80-84\",\"85-89\",\"90-94\",\"95-99\",\"0-4\",\"10-14\",\"100+\",\"15-19\",\"20-24\",\"25-29\",\"30-34\",\"35-39\",\"40-44\",\"45-49\",\"5-9\",\"50-54\",\"55-59\",\"60-64\",\"65-69\",\"70-74\",\"75-79\",\"80-84\",\"85-89\",\"90-94\",\"95-99\",\"0-4\",\"10-14\",\"100+\",\"15-19\",\"20-24\",\"25-29\",\"30-34\",\"35-39\",\"40-44\",\"45-49\",\"5-9\",\"50-54\",\"55-59\",\"60-64\",\"65-69\",\"70-74\",\"75-79\",\"80-84\",\"85-89\",\"90-94\",\"95-99\",\"0-4\",\"10-14\",\"100+\",\"15-19\",\"20-24\",\"25-29\",\"30-34\",\"35-39\",\"40-44\",\"45-49\",\"5-9\",\"50-54\",\"55-59\",\"60-64\",\"65-69\",\"70-74\",\"75-79\",\"80-84\",\"85-89\",\"90-94\",\"95-99\",\"0-4\",\"10-14\",\"100+\",\"15-19\",\"20-24\",\"25-29\",\"30-34\",\"35-39\",\"40-44\",\"45-49\",\"5-9\",\"50-54\",\"55-59\",\"60-64\",\"65-69\",\"70-74\",\"75-79\",\"80-84\",\"85-89\",\"90-94\",\"95-99\",\"0-4\",\"10-14\",\"100+\",\"15-19\",\"20-24\",\"25-29\",\"30-34\",\"35-39\",\"40-44\",\"45-49\",\"5-9\",\"50-54\",\"55-59\",\"60-64\",\"65-69\",\"70-74\",\"75-79\",\"80-84\",\"85-89\",\"90-94\",\"95-99\",\"0-4\",\"10-14\",\"100+\",\"15-19\",\"20-24\",\"25-29\",\"30-34\",\"35-39\",\"40-44\",\"45-49\",\"5-9\",\"50-54\",\"55-59\",\"60-64\",\"65-69\",\"70-74\",\"75-79\",\"80-84\",\"85-89\",\"90-94\",\"95-99\",\"0-4\",\"10-14\",\"100+\",\"15-19\",\"20-24\",\"25-29\",\"30-34\",\"35-39\",\"40-44\",\"45-49\",\"5-9\",\"50-54\",\"55-59\",\"60-64\",\"65-69\",\"70-74\",\"75-79\",\"80-84\",\"85-89\",\"90-94\",\"95-99\",\"0-4\",\"10-14\",\"100+\",\"15-19\",\"20-24\",\"25-29\",\"30-34\",\"35-39\",\"40-44\",\"45-49\",\"5-9\",\"50-54\",\"55-59\",\"60-64\",\"65-69\",\"70-74\",\"75-79\",\"80-84\",\"85-89\",\"90-94\",\"95-99\",\"0-4\",\"10-14\",\"100+\",\"15-19\",\"20-24\",\"25-29\",\"30-34\",\"35-39\",\"40-44\",\"45-49\",\"5-9\",\"50-54\",\"55-59\",\"60-64\",\"65-69\",\"70-74\",\"75-79\",\"80-84\",\"85-89\",\"90-94\",\"95-99\",\"0-4\",\"10-14\",\"100+\",\"15-19\",\"20-24\",\"25-29\",\"30-34\",\"35-39\",\"40-44\",\"45-49\",\"5-9\",\"50-54\",\"55-59\",\"60-64\",\"65-69\",\"70-74\",\"75-79\",\"80-84\",\"85-89\",\"90-94\",\"95-99\",\"0-4\",\"10-14\",\"100+\",\"15-19\",\"20-24\",\"25-29\",\"30-34\",\"35-39\",\"40-44\",\"45-49\",\"5-9\",\"50-54\",\"55-59\",\"60-64\",\"65-69\",\"70-74\",\"75-79\",\"80-84\",\"85-89\",\"90-94\",\"95-99\",\"0-4\",\"10-14\",\"100+\",\"15-19\",\"20-24\",\"25-29\",\"30-34\",\"35-39\",\"40-44\",\"45-49\",\"5-9\",\"50-54\",\"55-59\",\"60-64\",\"65-69\",\"70-74\",\"75-79\",\"80-84\",\"85-89\",\"90-94\",\"95-99\",\"0-4\",\"10-14\",\"100+\",\"15-19\",\"20-24\",\"25-29\",\"30-34\",\"35-39\",\"40-44\",\"45-49\",\"5-9\",\"50-54\",\"55-59\",\"60-64\",\"65-69\",\"70-74\",\"75-79\",\"80-84\",\"85-89\",\"90-94\",\"95-99\",\"0-4\",\"10-14\",\"100+\",\"15-19\",\"20-24\",\"25-29\",\"30-34\",\"35-39\",\"40-44\",\"45-49\",\"5-9\",\"50-54\",\"55-59\",\"60-64\",\"65-69\",\"70-74\",\"75-79\",\"80-84\",\"85-89\",\"90-94\",\"95-99\",\"0-4\",\"10-14\",\"100+\",\"15-19\",\"20-24\",\"25-29\",\"30-34\",\"35-39\",\"40-44\",\"45-49\",\"5-9\",\"50-54\",\"55-59\",\"60-64\",\"65-69\",\"70-74\",\"75-79\",\"80-84\",\"85-89\",\"90-94\",\"95-99\",\"0-4\",\"10-14\",\"100+\",\"15-19\",\"20-24\",\"25-29\",\"30-34\",\"35-39\",\"40-44\",\"45-49\",\"5-9\",\"50-54\",\"55-59\",\"60-64\",\"65-69\",\"70-74\",\"75-79\",\"80-84\",\"85-89\",\"90-94\",\"95-99\",\"0-4\",\"10-14\",\"100+\",\"15-19\",\"20-24\",\"25-29\",\"30-34\",\"35-39\",\"40-44\",\"45-49\",\"5-9\",\"50-54\",\"55-59\",\"60-64\",\"65-69\",\"70-74\",\"75-79\",\"80-84\",\"85-89\",\"90-94\",\"95-99\",\"0-4\",\"10-14\",\"100+\",\"15-19\",\"20-24\",\"25-29\",\"30-34\",\"35-39\",\"40-44\",\"45-49\",\"5-9\",\"50-54\",\"55-59\",\"60-64\",\"65-69\",\"70-74\",\"75-79\",\"80-84\",\"85-89\",\"90-94\",\"95-99\",\"0-4\",\"10-14\",\"100+\",\"15-19\",\"20-24\",\"25-29\",\"30-34\",\"35-39\",\"40-44\",\"45-49\",\"5-9\",\"50-54\",\"55-59\",\"60-64\",\"65-69\",\"70-74\",\"75-79\",\"80-84\",\"85-89\",\"90-94\",\"95-99\",\"0-4\",\"10-14\",\"100+\",\"15-19\",\"20-24\",\"25-29\",\"30-34\",\"35-39\",\"40-44\",\"45-49\",\"5-9\",\"50-54\",\"55-59\",\"60-64\",\"65-69\",\"70-74\",\"75-79\",\"80-84\",\"85-89\",\"90-94\",\"95-99\",\"0-4\",\"10-14\",\"100+\",\"15-19\",\"20-24\",\"25-29\",\"30-34\",\"35-39\",\"40-44\",\"45-49\",\"5-9\",\"50-54\",\"55-59\",\"60-64\",\"65-69\",\"70-74\",\"75-79\",\"80-84\",\"85-89\",\"90-94\",\"95-99\",\"0-4\",\"10-14\",\"100+\",\"15-19\",\"20-24\",\"25-29\",\"30-34\",\"35-39\",\"40-44\",\"45-49\",\"5-9\",\"50-54\",\"55-59\",\"60-64\",\"65-69\",\"70-74\",\"75-79\",\"80-84\",\"85-89\",\"90-94\",\"95-99\",\"0-4\",\"10-14\",\"100+\",\"15-19\",\"20-24\",\"25-29\",\"30-34\",\"35-39\",\"40-44\",\"45-49\",\"5-9\",\"50-54\",\"55-59\",\"60-64\",\"65-69\",\"70-74\",\"75-79\",\"80-84\",\"85-89\",\"90-94\",\"95-99\",\"0-4\",\"10-14\",\"100+\",\"15-19\",\"20-24\",\"25-29\",\"30-34\",\"35-39\",\"40-44\",\"45-49\",\"5-9\",\"50-54\",\"55-59\",\"60-64\",\"65-69\",\"70-74\",\"75-79\",\"80-84\",\"85-89\",\"90-94\",\"95-99\",\"0-4\",\"10-14\",\"100+\",\"15-19\",\"20-24\",\"25-29\",\"30-34\",\"35-39\",\"40-44\",\"45-49\",\"5-9\",\"50-54\",\"55-59\",\"60-64\",\"65-69\",\"70-74\",\"75-79\",\"80-84\",\"85-89\",\"90-94\",\"95-99\",\"0-4\",\"10-14\",\"100+\",\"15-19\",\"20-24\",\"25-29\",\"30-34\",\"35-39\",\"40-44\",\"45-49\",\"5-9\",\"50-54\",\"55-59\",\"60-64\",\"65-69\",\"70-74\",\"75-79\",\"80-84\",\"85-89\",\"90-94\",\"95-99\",\"0-4\",\"10-14\",\"100+\",\"15-19\",\"20-24\",\"25-29\",\"30-34\",\"35-39\",\"40-44\",\"45-49\",\"5-9\",\"50-54\",\"55-59\",\"60-64\",\"65-69\",\"70-74\",\"75-79\",\"80-84\",\"85-89\",\"90-94\",\"95-99\",\"0-4\",\"10-14\",\"100+\",\"15-19\",\"20-24\",\"25-29\",\"30-34\",\"35-39\",\"40-44\",\"45-49\",\"5-9\",\"50-54\",\"55-59\",\"60-64\",\"65-69\",\"70-74\",\"75-79\",\"80-84\",\"85-89\",\"90-94\",\"95-99\",\"0-4\",\"10-14\",\"100+\",\"15-19\",\"20-24\",\"25-29\",\"30-34\",\"35-39\",\"40-44\",\"45-49\",\"5-9\",\"50-54\",\"55-59\",\"60-64\",\"65-69\",\"70-74\",\"75-79\",\"80-84\",\"85-89\",\"90-94\",\"95-99\",\"0-4\",\"10-14\",\"100+\",\"15-19\",\"20-24\",\"25-29\",\"30-34\",\"35-39\",\"40-44\",\"45-49\",\"5-9\",\"50-54\",\"55-59\",\"60-64\",\"65-69\",\"70-74\",\"75-79\",\"80-84\",\"85-89\",\"90-94\",\"95-99\",\"0-4\",\"10-14\",\"100+\",\"15-19\",\"20-24\",\"25-29\",\"30-34\",\"35-39\",\"40-44\",\"45-49\",\"5-9\",\"50-54\",\"55-59\",\"60-64\",\"65-69\",\"70-74\",\"75-79\",\"80-84\",\"85-89\",\"90-94\",\"95-99\",\"0-4\",\"10-14\",\"100+\",\"15-19\",\"20-24\",\"25-29\",\"30-34\",\"35-39\",\"40-44\",\"45-49\",\"5-9\",\"50-54\",\"55-59\",\"60-64\",\"65-69\",\"70-74\",\"75-79\",\"80-84\",\"85-89\",\"90-94\",\"95-99\",\"0-4\",\"10-14\",\"100+\",\"15-19\",\"20-24\",\"25-29\",\"30-34\",\"35-39\",\"40-44\",\"45-49\",\"5-9\",\"50-54\",\"55-59\",\"60-64\",\"65-69\",\"70-74\",\"75-79\",\"80-84\",\"85-89\",\"90-94\",\"95-99\",\"0-4\",\"10-14\",\"100+\",\"15-19\",\"20-24\",\"25-29\",\"30-34\",\"35-39\",\"40-44\",\"45-49\",\"5-9\",\"50-54\",\"55-59\",\"60-64\",\"65-69\",\"70-74\",\"75-79\",\"80-84\",\"85-89\",\"90-94\",\"95-99\",\"0-4\",\"10-14\",\"100+\",\"15-19\",\"20-24\",\"25-29\",\"30-34\",\"35-39\",\"40-44\",\"45-49\",\"5-9\",\"50-54\",\"55-59\",\"60-64\",\"65-69\",\"70-74\",\"75-79\",\"80-84\",\"85-89\",\"90-94\",\"95-99\",\"0-4\",\"10-14\",\"100+\",\"15-19\",\"20-24\",\"25-29\",\"30-34\",\"35-39\",\"40-44\",\"45-49\",\"5-9\",\"50-54\",\"55-59\",\"60-64\",\"65-69\",\"70-74\",\"75-79\",\"80-84\",\"85-89\",\"90-94\",\"95-99\",\"0-4\",\"10-14\",\"100+\",\"15-19\",\"20-24\",\"25-29\",\"30-34\",\"35-39\",\"40-44\",\"45-49\",\"5-9\",\"50-54\",\"55-59\",\"60-64\",\"65-69\",\"70-74\",\"75-79\",\"80-84\",\"85-89\",\"90-94\",\"95-99\",\"0-4\",\"10-14\",\"100+\",\"15-19\",\"20-24\",\"25-29\",\"30-34\",\"35-39\",\"40-44\",\"45-49\",\"5-9\",\"50-54\",\"55-59\",\"60-64\",\"65-69\",\"70-74\",\"75-79\",\"80-84\",\"85-89\",\"90-94\",\"95-99\",\"0-4\",\"10-14\",\"100+\",\"15-19\",\"20-24\",\"25-29\",\"30-34\",\"35-39\",\"40-44\",\"45-49\",\"5-9\",\"50-54\",\"55-59\",\"60-64\",\"65-69\",\"70-74\",\"75-79\",\"80-84\",\"85-89\",\"90-94\",\"95-99\",\"0-4\",\"10-14\",\"100+\",\"15-19\",\"20-24\",\"25-29\",\"30-34\",\"35-39\",\"40-44\",\"45-49\",\"5-9\",\"50-54\",\"55-59\",\"60-64\",\"65-69\",\"70-74\",\"75-79\",\"80-84\",\"85-89\",\"90-94\",\"95-99\",\"0-4\",\"10-14\",\"100+\",\"15-19\",\"20-24\",\"25-29\",\"30-34\",\"35-39\",\"40-44\",\"45-49\",\"5-9\",\"50-54\",\"55-59\",\"60-64\",\"65-69\",\"70-74\",\"75-79\",\"80-84\",\"85-89\",\"90-94\",\"95-99\",\"0-4\",\"10-14\",\"100+\",\"15-19\",\"20-24\",\"25-29\",\"30-34\",\"35-39\",\"40-44\",\"45-49\",\"5-9\",\"50-54\",\"55-59\",\"60-64\",\"65-69\",\"70-74\",\"75-79\",\"80-84\",\"85-89\",\"90-94\",\"95-99\",\"0-4\",\"10-14\",\"100+\",\"15-19\",\"20-24\",\"25-29\",\"30-34\",\"35-39\",\"40-44\",\"45-49\",\"5-9\",\"50-54\",\"55-59\",\"60-64\",\"65-69\",\"70-74\",\"75-79\",\"80-84\",\"85-89\",\"90-94\",\"95-99\",\"0-4\",\"10-14\",\"100+\",\"15-19\",\"20-24\",\"25-29\",\"30-34\",\"35-39\",\"40-44\",\"45-49\",\"5-9\",\"50-54\",\"55-59\",\"60-64\",\"65-69\",\"70-74\",\"75-79\",\"80-84\",\"85-89\",\"90-94\",\"95-99\",\"0-4\",\"10-14\",\"100+\",\"15-19\",\"20-24\",\"25-29\",\"30-34\",\"35-39\",\"40-44\",\"45-49\",\"5-9\",\"50-54\",\"55-59\",\"60-64\",\"65-69\",\"70-74\",\"75-79\",\"80-84\",\"85-89\",\"90-94\",\"95-99\",\"0-4\",\"10-14\",\"100+\",\"15-19\",\"20-24\",\"25-29\",\"30-34\",\"35-39\",\"40-44\",\"45-49\",\"5-9\",\"50-54\",\"55-59\",\"60-64\",\"65-69\",\"70-74\",\"75-79\",\"80-84\",\"85-89\",\"90-94\",\"95-99\",\"0-4\",\"10-14\",\"100+\",\"15-19\",\"20-24\",\"25-29\",\"30-34\",\"35-39\",\"40-44\",\"45-49\",\"5-9\",\"50-54\",\"55-59\",\"60-64\",\"65-69\",\"70-74\",\"75-79\",\"80-84\",\"85-89\",\"90-94\",\"95-99\",\"0-4\",\"10-14\",\"100+\",\"15-19\",\"20-24\",\"25-29\",\"30-34\",\"35-39\",\"40-44\",\"45-49\",\"5-9\",\"50-54\",\"55-59\",\"60-64\",\"65-69\",\"70-74\",\"75-79\",\"80-84\",\"85-89\",\"90-94\",\"95-99\",\"0-4\",\"10-14\",\"100+\",\"15-19\",\"20-24\",\"25-29\",\"30-34\",\"35-39\",\"40-44\",\"45-49\",\"5-9\",\"50-54\",\"55-59\",\"60-64\",\"65-69\",\"70-74\",\"75-79\",\"80-84\",\"85-89\",\"90-94\",\"95-99\",\"0-4\",\"10-14\",\"100+\",\"15-19\",\"20-24\",\"25-29\",\"30-34\",\"35-39\",\"40-44\",\"45-49\",\"5-9\",\"50-54\",\"55-59\",\"60-64\",\"65-69\",\"70-74\",\"75-79\",\"80-84\",\"85-89\",\"90-94\",\"95-99\",\"0-4\",\"10-14\",\"100+\",\"15-19\",\"20-24\",\"25-29\",\"30-34\",\"35-39\",\"40-44\",\"45-49\",\"5-9\",\"50-54\",\"55-59\",\"60-64\",\"65-69\",\"70-74\",\"75-79\",\"80-84\",\"85-89\",\"90-94\",\"95-99\",\"0-4\",\"10-14\",\"100+\",\"15-19\",\"20-24\",\"25-29\",\"30-34\",\"35-39\",\"40-44\",\"45-49\",\"5-9\",\"50-54\",\"55-59\",\"60-64\",\"65-69\",\"70-74\",\"75-79\",\"80-84\",\"85-89\",\"90-94\",\"95-99\",\"0-4\",\"10-14\",\"100+\",\"15-19\",\"20-24\",\"25-29\",\"30-34\",\"35-39\",\"40-44\",\"45-49\",\"5-9\",\"50-54\",\"55-59\",\"60-64\",\"65-69\",\"70-74\",\"75-79\",\"80-84\",\"85-89\",\"90-94\",\"95-99\",\"0-4\",\"10-14\",\"100+\",\"15-19\",\"20-24\",\"25-29\",\"30-34\",\"35-39\",\"40-44\",\"45-49\",\"5-9\",\"50-54\",\"55-59\",\"60-64\",\"65-69\",\"70-74\",\"75-79\",\"80-84\",\"85-89\",\"90-94\",\"95-99\",\"0-4\",\"10-14\",\"100+\",\"15-19\",\"20-24\",\"25-29\",\"30-34\",\"35-39\",\"40-44\",\"45-49\",\"5-9\",\"50-54\",\"55-59\",\"60-64\",\"65-69\",\"70-74\",\"75-79\",\"80-84\",\"85-89\",\"90-94\",\"95-99\",\"0-4\",\"10-14\",\"100+\",\"15-19\",\"20-24\",\"25-29\",\"30-34\",\"35-39\",\"40-44\",\"45-49\",\"5-9\",\"50-54\",\"55-59\",\"60-64\",\"65-69\",\"70-74\",\"75-79\",\"80-84\",\"85-89\",\"90-94\",\"95-99\",\"0-4\",\"10-14\",\"100+\",\"15-19\",\"20-24\",\"25-29\",\"30-34\",\"35-39\",\"40-44\",\"45-49\",\"5-9\",\"50-54\",\"55-59\",\"60-64\",\"65-69\",\"70-74\",\"75-79\",\"80-84\",\"85-89\",\"90-94\",\"95-99\",\"0-4\",\"10-14\",\"100+\",\"15-19\",\"20-24\",\"25-29\",\"30-34\",\"35-39\",\"40-44\",\"45-49\",\"5-9\",\"50-54\",\"55-59\",\"60-64\",\"65-69\",\"70-74\",\"75-79\",\"80-84\",\"85-89\",\"90-94\",\"95-99\",\"0-4\",\"10-14\",\"100+\",\"15-19\",\"20-24\",\"25-29\",\"30-34\",\"35-39\",\"40-44\",\"45-49\",\"5-9\",\"50-54\",\"55-59\",\"60-64\",\"65-69\",\"70-74\",\"75-79\",\"80-84\",\"85-89\",\"90-94\",\"95-99\",\"0-4\",\"10-14\",\"100+\",\"15-19\",\"20-24\",\"25-29\",\"30-34\",\"35-39\",\"40-44\",\"45-49\",\"5-9\",\"50-54\",\"55-59\",\"60-64\",\"65-69\",\"70-74\",\"75-79\",\"80-84\",\"85-89\",\"90-94\",\"95-99\",\"0-4\",\"10-14\",\"100+\",\"15-19\",\"20-24\",\"25-29\",\"30-34\",\"35-39\",\"40-44\",\"45-49\",\"5-9\",\"50-54\",\"55-59\",\"60-64\",\"65-69\",\"70-74\",\"75-79\",\"80-84\",\"85-89\",\"90-94\",\"95-99\",\"0-4\",\"10-14\",\"100+\",\"15-19\",\"20-24\",\"25-29\",\"30-34\",\"35-39\",\"40-44\",\"45-49\",\"5-9\",\"50-54\",\"55-59\",\"60-64\",\"65-69\",\"70-74\",\"75-79\",\"80-84\",\"85-89\",\"90-94\",\"95-99\",\"0-4\",\"10-14\",\"100+\",\"15-19\",\"20-24\",\"25-29\",\"30-34\",\"35-39\",\"40-44\",\"45-49\",\"5-9\",\"50-54\",\"55-59\",\"60-64\",\"65-69\",\"70-74\",\"75-79\",\"80-84\",\"85-89\",\"90-94\",\"95-99\",\"0-4\",\"10-14\",\"100+\",\"15-19\",\"20-24\",\"25-29\",\"30-34\",\"35-39\",\"40-44\",\"45-49\",\"5-9\",\"50-54\",\"55-59\",\"60-64\",\"65-69\",\"70-74\",\"75-79\",\"80-84\",\"85-89\",\"90-94\",\"95-99\",\"0-4\",\"10-14\",\"100+\",\"15-19\",\"20-24\",\"25-29\",\"30-34\",\"35-39\",\"40-44\",\"45-49\",\"5-9\",\"50-54\",\"55-59\",\"60-64\",\"65-69\",\"70-74\",\"75-79\",\"80-84\",\"85-89\",\"90-94\",\"95-99\",\"0-4\",\"10-14\",\"100+\",\"15-19\",\"20-24\",\"25-29\",\"30-34\",\"35-39\",\"40-44\",\"45-49\",\"5-9\",\"50-54\",\"55-59\",\"60-64\",\"65-69\",\"70-74\",\"75-79\",\"80-84\",\"85-89\",\"90-94\",\"95-99\",\"0-4\",\"10-14\",\"100+\",\"15-19\",\"20-24\",\"25-29\",\"30-34\",\"35-39\",\"40-44\",\"45-49\",\"5-9\",\"50-54\",\"55-59\",\"60-64\",\"65-69\",\"70-74\",\"75-79\",\"80-84\",\"85-89\",\"90-94\",\"95-99\",\"0-4\",\"10-14\",\"100+\",\"15-19\",\"20-24\",\"25-29\",\"30-34\",\"35-39\",\"40-44\",\"45-49\",\"5-9\",\"50-54\",\"55-59\",\"60-64\",\"65-69\",\"70-74\",\"75-79\",\"80-84\",\"85-89\",\"90-94\",\"95-99\",\"0-4\",\"10-14\",\"100+\",\"15-19\",\"20-24\",\"25-29\",\"30-34\",\"35-39\",\"40-44\",\"45-49\",\"5-9\",\"50-54\",\"55-59\",\"60-64\",\"65-69\",\"70-74\",\"75-79\",\"80-84\",\"85-89\",\"90-94\",\"95-99\",\"0-4\",\"10-14\",\"100+\",\"15-19\",\"20-24\",\"25-29\",\"30-34\",\"35-39\",\"40-44\",\"45-49\",\"5-9\",\"50-54\",\"55-59\",\"60-64\",\"65-69\",\"70-74\",\"75-79\",\"80-84\",\"85-89\",\"90-94\",\"95-99\",\"0-4\",\"10-14\",\"100+\",\"15-19\",\"20-24\",\"25-29\",\"30-34\",\"35-39\",\"40-44\",\"45-49\",\"5-9\",\"50-54\",\"55-59\",\"60-64\",\"65-69\",\"70-74\",\"75-79\",\"80-84\",\"85-89\",\"90-94\",\"95-99\",\"0-4\",\"10-14\",\"100+\",\"15-19\",\"20-24\",\"25-29\",\"30-34\",\"35-39\",\"40-44\",\"45-49\",\"5-9\",\"50-54\",\"55-59\",\"60-64\",\"65-69\",\"70-74\",\"75-79\",\"80-84\",\"85-89\",\"90-94\",\"95-99\",\"0-4\",\"10-14\",\"100+\",\"15-19\",\"20-24\",\"25-29\",\"30-34\",\"35-39\",\"40-44\",\"45-49\",\"5-9\",\"50-54\",\"55-59\",\"60-64\",\"65-69\",\"70-74\",\"75-79\",\"80-84\",\"85-89\",\"90-94\",\"95-99\",\"0-4\",\"10-14\",\"100+\",\"15-19\",\"20-24\",\"25-29\",\"30-34\",\"35-39\",\"40-44\",\"45-49\",\"5-9\",\"50-54\",\"55-59\",\"60-64\",\"65-69\",\"70-74\",\"75-79\",\"80-84\",\"85-89\",\"90-94\",\"95-99\",\"0-4\",\"10-14\",\"100+\",\"15-19\",\"20-24\",\"25-29\",\"30-34\",\"35-39\",\"40-44\",\"45-49\",\"5-9\",\"50-54\",\"55-59\",\"60-64\",\"65-69\",\"70-74\",\"75-79\",\"80-84\",\"85-89\",\"90-94\",\"95-99\",\"0-4\",\"10-14\",\"100+\",\"15-19\",\"20-24\",\"25-29\",\"30-34\",\"35-39\",\"40-44\",\"45-49\",\"5-9\",\"50-54\",\"55-59\",\"60-64\",\"65-69\",\"70-74\",\"75-79\",\"80-84\",\"85-89\",\"90-94\",\"95-99\",\"0-4\",\"10-14\",\"100+\",\"15-19\",\"20-24\",\"25-29\",\"30-34\",\"35-39\",\"40-44\",\"45-49\",\"5-9\",\"50-54\",\"55-59\",\"60-64\",\"65-69\",\"70-74\",\"75-79\",\"80-84\",\"85-89\",\"90-94\",\"95-99\",\"0-4\",\"10-14\",\"100+\",\"15-19\",\"20-24\",\"25-29\",\"30-34\",\"35-39\",\"40-44\",\"45-49\",\"5-9\",\"50-54\",\"55-59\",\"60-64\",\"65-69\",\"70-74\",\"75-79\",\"80-84\",\"85-89\",\"90-94\",\"95-99\",\"0-4\",\"10-14\",\"100+\",\"15-19\",\"20-24\",\"25-29\",\"30-34\",\"35-39\",\"40-44\",\"45-49\",\"5-9\",\"50-54\",\"55-59\",\"60-64\",\"65-69\",\"70-74\",\"75-79\",\"80-84\",\"85-89\",\"90-94\",\"95-99\",\"0-4\",\"10-14\",\"100+\",\"15-19\",\"20-24\",\"25-29\",\"30-34\",\"35-39\",\"40-44\",\"45-49\",\"5-9\",\"50-54\",\"55-59\",\"60-64\",\"65-69\",\"70-74\",\"75-79\",\"80-84\",\"85-89\",\"90-94\",\"95-99\",\"0-4\",\"10-14\",\"100+\",\"15-19\",\"20-24\",\"25-29\",\"30-34\",\"35-39\",\"40-44\",\"45-49\",\"5-9\",\"50-54\",\"55-59\",\"60-64\",\"65-69\",\"70-74\",\"75-79\",\"80-84\",\"85-89\",\"90-94\",\"95-99\",\"0-4\",\"10-14\",\"100+\",\"15-19\",\"20-24\",\"25-29\",\"30-34\",\"35-39\",\"40-44\",\"45-49\",\"5-9\",\"50-54\",\"55-59\",\"60-64\",\"65-69\",\"70-74\",\"75-79\",\"80-84\",\"85-89\",\"90-94\",\"95-99\",\"0-4\",\"10-14\",\"100+\",\"15-19\",\"20-24\",\"25-29\",\"30-34\",\"35-39\",\"40-44\",\"45-49\",\"5-9\",\"50-54\",\"55-59\",\"60-64\",\"65-69\",\"70-74\",\"75-79\",\"80-84\",\"85-89\",\"90-94\",\"95-99\",\"0-4\",\"10-14\",\"100+\",\"15-19\",\"20-24\",\"25-29\",\"30-34\",\"35-39\",\"40-44\",\"45-49\",\"5-9\",\"50-54\",\"55-59\",\"60-64\",\"65-69\",\"70-74\",\"75-79\",\"80-84\",\"85-89\",\"90-94\",\"95-99\",\"0-4\",\"10-14\",\"100+\",\"15-19\",\"20-24\",\"25-29\",\"30-34\",\"35-39\",\"40-44\",\"45-49\",\"5-9\",\"50-54\",\"55-59\",\"60-64\",\"65-69\",\"70-74\",\"75-79\",\"80-84\",\"85-89\",\"90-94\",\"95-99\",\"0-4\",\"10-14\",\"100+\",\"15-19\",\"20-24\",\"25-29\",\"30-34\",\"35-39\",\"40-44\",\"45-49\",\"5-9\",\"50-54\",\"55-59\",\"60-64\",\"65-69\",\"70-74\",\"75-79\",\"80-84\",\"85-89\",\"90-94\",\"95-99\",\"0-4\",\"10-14\",\"100+\",\"15-19\",\"20-24\",\"25-29\",\"30-34\",\"35-39\",\"40-44\",\"45-49\",\"5-9\",\"50-54\",\"55-59\",\"60-64\",\"65-69\",\"70-74\",\"75-79\",\"80-84\",\"85-89\",\"90-94\",\"95-99\",\"0-4\",\"10-14\",\"100+\",\"15-19\",\"20-24\",\"25-29\",\"30-34\",\"35-39\",\"40-44\",\"45-49\",\"5-9\",\"50-54\",\"55-59\",\"60-64\",\"65-69\",\"70-74\",\"75-79\",\"80-84\",\"85-89\",\"90-94\",\"95-99\",\"0-4\",\"10-14\",\"100+\",\"15-19\",\"20-24\",\"25-29\",\"30-34\",\"35-39\",\"40-44\",\"45-49\",\"5-9\",\"50-54\",\"55-59\",\"60-64\",\"65-69\",\"70-74\",\"75-79\",\"80-84\",\"85-89\",\"90-94\",\"95-99\",\"0-4\",\"10-14\",\"100+\",\"15-19\",\"20-24\",\"25-29\",\"30-34\",\"35-39\",\"40-44\",\"45-49\",\"5-9\",\"50-54\",\"55-59\",\"60-64\",\"65-69\",\"70-74\",\"75-79\",\"80-84\",\"85-89\",\"90-94\",\"95-99\"],\"Location\":[\"Afghanistan\",\"Afghanistan\",\"Afghanistan\",\"Afghanistan\",\"Afghanistan\",\"Afghanistan\",\"Afghanistan\",\"Afghanistan\",\"Afghanistan\",\"Afghanistan\",\"Afghanistan\",\"Afghanistan\",\"Afghanistan\",\"Afghanistan\",\"Afghanistan\",\"Afghanistan\",\"Afghanistan\",\"Afghanistan\",\"Afghanistan\",\"Afghanistan\",\"Afghanistan\",\"Albania\",\"Albania\",\"Albania\",\"Albania\",\"Albania\",\"Albania\",\"Albania\",\"Albania\",\"Albania\",\"Albania\",\"Albania\",\"Albania\",\"Albania\",\"Albania\",\"Albania\",\"Albania\",\"Albania\",\"Albania\",\"Albania\",\"Albania\",\"Albania\",\"Algeria\",\"Algeria\",\"Algeria\",\"Algeria\",\"Algeria\",\"Algeria\",\"Algeria\",\"Algeria\",\"Algeria\",\"Algeria\",\"Algeria\",\"Algeria\",\"Algeria\",\"Algeria\",\"Algeria\",\"Algeria\",\"Algeria\",\"Algeria\",\"Algeria\",\"Algeria\",\"Algeria\",\"Angola\",\"Angola\",\"Angola\",\"Angola\",\"Angola\",\"Angola\",\"Angola\",\"Angola\",\"Angola\",\"Angola\",\"Angola\",\"Angola\",\"Angola\",\"Angola\",\"Angola\",\"Angola\",\"Angola\",\"Angola\",\"Angola\",\"Angola\",\"Angola\",\"Argentina\",\"Argentina\",\"Argentina\",\"Argentina\",\"Argentina\",\"Argentina\",\"Argentina\",\"Argentina\",\"Argentina\",\"Argentina\",\"Argentina\",\"Argentina\",\"Argentina\",\"Argentina\",\"Argentina\",\"Argentina\",\"Argentina\",\"Argentina\",\"Argentina\",\"Argentina\",\"Argentina\",\"Armenia\",\"Armenia\",\"Armenia\",\"Armenia\",\"Armenia\",\"Armenia\",\"Armenia\",\"Armenia\",\"Armenia\",\"Armenia\",\"Armenia\",\"Armenia\",\"Armenia\",\"Armenia\",\"Armenia\",\"Armenia\",\"Armenia\",\"Armenia\",\"Armenia\",\"Armenia\",\"Armenia\",\"Australia\",\"Australia\",\"Australia\",\"Australia\",\"Australia\",\"Australia\",\"Australia\",\"Australia\",\"Australia\",\"Australia\",\"Australia\",\"Australia\",\"Australia\",\"Australia\",\"Australia\",\"Australia\",\"Australia\",\"Australia\",\"Australia\",\"Australia\",\"Australia\",\"Austria\",\"Austria\",\"Austria\",\"Austria\",\"Austria\",\"Austria\",\"Austria\",\"Austria\",\"Austria\",\"Austria\",\"Austria\",\"Austria\",\"Austria\",\"Austria\",\"Austria\",\"Austria\",\"Austria\",\"Austria\",\"Austria\",\"Austria\",\"Austria\",\"Azerbaijan\",\"Azerbaijan\",\"Azerbaijan\",\"Azerbaijan\",\"Azerbaijan\",\"Azerbaijan\",\"Azerbaijan\",\"Azerbaijan\",\"Azerbaijan\",\"Azerbaijan\",\"Azerbaijan\",\"Azerbaijan\",\"Azerbaijan\",\"Azerbaijan\",\"Azerbaijan\",\"Azerbaijan\",\"Azerbaijan\",\"Azerbaijan\",\"Azerbaijan\",\"Azerbaijan\",\"Azerbaijan\",\"Bahamas\",\"Bahamas\",\"Bahamas\",\"Bahamas\",\"Bahamas\",\"Bahamas\",\"Bahamas\",\"Bahamas\",\"Bahamas\",\"Bahamas\",\"Bahamas\",\"Bahamas\",\"Bahamas\",\"Bahamas\",\"Bahamas\",\"Bahamas\",\"Bahamas\",\"Bahamas\",\"Bahamas\",\"Bahamas\",\"Bahamas\",\"Bahrain\",\"Bahrain\",\"Bahrain\",\"Bahrain\",\"Bahrain\",\"Bahrain\",\"Bahrain\",\"Bahrain\",\"Bahrain\",\"Bahrain\",\"Bahrain\",\"Bahrain\",\"Bahrain\",\"Bahrain\",\"Bahrain\",\"Bahrain\",\"Bahrain\",\"Bahrain\",\"Bahrain\",\"Bahrain\",\"Bahrain\",\"Bangladesh\",\"Bangladesh\",\"Bangladesh\",\"Bangladesh\",\"Bangladesh\",\"Bangladesh\",\"Bangladesh\",\"Bangladesh\",\"Bangladesh\",\"Bangladesh\",\"Bangladesh\",\"Bangladesh\",\"Bangladesh\",\"Bangladesh\",\"Bangladesh\",\"Bangladesh\",\"Bangladesh\",\"Bangladesh\",\"Bangladesh\",\"Bangladesh\",\"Bangladesh\",\"Barbados\",\"Barbados\",\"Barbados\",\"Barbados\",\"Barbados\",\"Barbados\",\"Barbados\",\"Barbados\",\"Barbados\",\"Barbados\",\"Barbados\",\"Barbados\",\"Barbados\",\"Barbados\",\"Barbados\",\"Barbados\",\"Barbados\",\"Barbados\",\"Barbados\",\"Barbados\",\"Barbados\",\"Belarus\",\"Belarus\",\"Belarus\",\"Belarus\",\"Belarus\",\"Belarus\",\"Belarus\",\"Belarus\",\"Belarus\",\"Belarus\",\"Belarus\",\"Belarus\",\"Belarus\",\"Belarus\",\"Belarus\",\"Belarus\",\"Belarus\",\"Belarus\",\"Belarus\",\"Belarus\",\"Belarus\",\"Belgium\",\"Belgium\",\"Belgium\",\"Belgium\",\"Belgium\",\"Belgium\",\"Belgium\",\"Belgium\",\"Belgium\",\"Belgium\",\"Belgium\",\"Belgium\",\"Belgium\",\"Belgium\",\"Belgium\",\"Belgium\",\"Belgium\",\"Belgium\",\"Belgium\",\"Belgium\",\"Belgium\",\"Belize\",\"Belize\",\"Belize\",\"Belize\",\"Belize\",\"Belize\",\"Belize\",\"Belize\",\"Belize\",\"Belize\",\"Belize\",\"Belize\",\"Belize\",\"Belize\",\"Belize\",\"Belize\",\"Belize\",\"Belize\",\"Belize\",\"Belize\",\"Belize\",\"Benin\",\"Benin\",\"Benin\",\"Benin\",\"Benin\",\"Benin\",\"Benin\",\"Benin\",\"Benin\",\"Benin\",\"Benin\",\"Benin\",\"Benin\",\"Benin\",\"Benin\",\"Benin\",\"Benin\",\"Benin\",\"Benin\",\"Benin\",\"Benin\",\"Bhutan\",\"Bhutan\",\"Bhutan\",\"Bhutan\",\"Bhutan\",\"Bhutan\",\"Bhutan\",\"Bhutan\",\"Bhutan\",\"Bhutan\",\"Bhutan\",\"Bhutan\",\"Bhutan\",\"Bhutan\",\"Bhutan\",\"Bhutan\",\"Bhutan\",\"Bhutan\",\"Bhutan\",\"Bhutan\",\"Bhutan\",\"Botswana\",\"Botswana\",\"Botswana\",\"Botswana\",\"Botswana\",\"Botswana\",\"Botswana\",\"Botswana\",\"Botswana\",\"Botswana\",\"Botswana\",\"Botswana\",\"Botswana\",\"Botswana\",\"Botswana\",\"Botswana\",\"Botswana\",\"Botswana\",\"Botswana\",\"Botswana\",\"Botswana\",\"Brazil\",\"Brazil\",\"Brazil\",\"Brazil\",\"Brazil\",\"Brazil\",\"Brazil\",\"Brazil\",\"Brazil\",\"Brazil\",\"Brazil\",\"Brazil\",\"Brazil\",\"Brazil\",\"Brazil\",\"Brazil\",\"Brazil\",\"Brazil\",\"Brazil\",\"Brazil\",\"Brazil\",\"Brunei Darussalam\",\"Brunei Darussalam\",\"Brunei Darussalam\",\"Brunei Darussalam\",\"Brunei Darussalam\",\"Brunei Darussalam\",\"Brunei Darussalam\",\"Brunei Darussalam\",\"Brunei Darussalam\",\"Brunei Darussalam\",\"Brunei Darussalam\",\"Brunei Darussalam\",\"Brunei Darussalam\",\"Brunei Darussalam\",\"Brunei Darussalam\",\"Brunei Darussalam\",\"Brunei Darussalam\",\"Brunei Darussalam\",\"Brunei Darussalam\",\"Brunei Darussalam\",\"Brunei Darussalam\",\"Bulgaria\",\"Bulgaria\",\"Bulgaria\",\"Bulgaria\",\"Bulgaria\",\"Bulgaria\",\"Bulgaria\",\"Bulgaria\",\"Bulgaria\",\"Bulgaria\",\"Bulgaria\",\"Bulgaria\",\"Bulgaria\",\"Bulgaria\",\"Bulgaria\",\"Bulgaria\",\"Bulgaria\",\"Bulgaria\",\"Bulgaria\",\"Bulgaria\",\"Bulgaria\",\"Burkina Faso\",\"Burkina Faso\",\"Burkina Faso\",\"Burkina Faso\",\"Burkina Faso\",\"Burkina Faso\",\"Burkina Faso\",\"Burkina Faso\",\"Burkina Faso\",\"Burkina Faso\",\"Burkina Faso\",\"Burkina Faso\",\"Burkina Faso\",\"Burkina Faso\",\"Burkina Faso\",\"Burkina Faso\",\"Burkina Faso\",\"Burkina Faso\",\"Burkina Faso\",\"Burkina Faso\",\"Burkina Faso\",\"Burundi\",\"Burundi\",\"Burundi\",\"Burundi\",\"Burundi\",\"Burundi\",\"Burundi\",\"Burundi\",\"Burundi\",\"Burundi\",\"Burundi\",\"Burundi\",\"Burundi\",\"Burundi\",\"Burundi\",\"Burundi\",\"Burundi\",\"Burundi\",\"Burundi\",\"Burundi\",\"Burundi\",\"Cambodia\",\"Cambodia\",\"Cambodia\",\"Cambodia\",\"Cambodia\",\"Cambodia\",\"Cambodia\",\"Cambodia\",\"Cambodia\",\"Cambodia\",\"Cambodia\",\"Cambodia\",\"Cambodia\",\"Cambodia\",\"Cambodia\",\"Cambodia\",\"Cambodia\",\"Cambodia\",\"Cambodia\",\"Cambodia\",\"Cambodia\",\"Cameroon\",\"Cameroon\",\"Cameroon\",\"Cameroon\",\"Cameroon\",\"Cameroon\",\"Cameroon\",\"Cameroon\",\"Cameroon\",\"Cameroon\",\"Cameroon\",\"Cameroon\",\"Cameroon\",\"Cameroon\",\"Cameroon\",\"Cameroon\",\"Cameroon\",\"Cameroon\",\"Cameroon\",\"Cameroon\",\"Cameroon\",\"Canada\",\"Canada\",\"Canada\",\"Canada\",\"Canada\",\"Canada\",\"Canada\",\"Canada\",\"Canada\",\"Canada\",\"Canada\",\"Canada\",\"Canada\",\"Canada\",\"Canada\",\"Canada\",\"Canada\",\"Canada\",\"Canada\",\"Canada\",\"Canada\",\"Cape Verde\",\"Cape Verde\",\"Cape Verde\",\"Cape Verde\",\"Cape Verde\",\"Cape Verde\",\"Cape Verde\",\"Cape Verde\",\"Cape Verde\",\"Cape Verde\",\"Cape Verde\",\"Cape Verde\",\"Cape Verde\",\"Cape Verde\",\"Cape Verde\",\"Cape Verde\",\"Cape Verde\",\"Cape Verde\",\"Cape Verde\",\"Cape Verde\",\"Cape Verde\",\"Central African Republic\",\"Central African Republic\",\"Central African Republic\",\"Central African Republic\",\"Central African Republic\",\"Central African Republic\",\"Central African Republic\",\"Central African Republic\",\"Central African Republic\",\"Central African Republic\",\"Central African Republic\",\"Central African Republic\",\"Central African Republic\",\"Central African Republic\",\"Central African Republic\",\"Central African Republic\",\"Central African Republic\",\"Central African Republic\",\"Central African Republic\",\"Central African Republic\",\"Central African Republic\",\"Chad\",\"Chad\",\"Chad\",\"Chad\",\"Chad\",\"Chad\",\"Chad\",\"Chad\",\"Chad\",\"Chad\",\"Chad\",\"Chad\",\"Chad\",\"Chad\",\"Chad\",\"Chad\",\"Chad\",\"Chad\",\"Chad\",\"Chad\",\"Chad\",\"Chile\",\"Chile\",\"Chile\",\"Chile\",\"Chile\",\"Chile\",\"Chile\",\"Chile\",\"Chile\",\"Chile\",\"Chile\",\"Chile\",\"Chile\",\"Chile\",\"Chile\",\"Chile\",\"Chile\",\"Chile\",\"Chile\",\"Chile\",\"Chile\",\"China\",\"China\",\"China\",\"China\",\"China\",\"China\",\"China\",\"China\",\"China\",\"China\",\"China\",\"China\",\"China\",\"China\",\"China\",\"China\",\"China\",\"China\",\"China\",\"China\",\"China\",\"Colombia\",\"Colombia\",\"Colombia\",\"Colombia\",\"Colombia\",\"Colombia\",\"Colombia\",\"Colombia\",\"Colombia\",\"Colombia\",\"Colombia\",\"Colombia\",\"Colombia\",\"Colombia\",\"Colombia\",\"Colombia\",\"Colombia\",\"Colombia\",\"Colombia\",\"Colombia\",\"Colombia\",\"Comoros\",\"Comoros\",\"Comoros\",\"Comoros\",\"Comoros\",\"Comoros\",\"Comoros\",\"Comoros\",\"Comoros\",\"Comoros\",\"Comoros\",\"Comoros\",\"Comoros\",\"Comoros\",\"Comoros\",\"Comoros\",\"Comoros\",\"Comoros\",\"Comoros\",\"Comoros\",\"Comoros\",\"Congo\",\"Congo\",\"Congo\",\"Congo\",\"Congo\",\"Congo\",\"Congo\",\"Congo\",\"Congo\",\"Congo\",\"Congo\",\"Congo\",\"Congo\",\"Congo\",\"Congo\",\"Congo\",\"Congo\",\"Congo\",\"Congo\",\"Congo\",\"Congo\",\"Costa Rica\",\"Costa Rica\",\"Costa Rica\",\"Costa Rica\",\"Costa Rica\",\"Costa Rica\",\"Costa Rica\",\"Costa Rica\",\"Costa Rica\",\"Costa Rica\",\"Costa Rica\",\"Costa Rica\",\"Costa Rica\",\"Costa Rica\",\"Costa Rica\",\"Costa Rica\",\"Costa Rica\",\"Costa Rica\",\"Costa Rica\",\"Costa Rica\",\"Costa Rica\",\"Croatia\",\"Croatia\",\"Croatia\",\"Croatia\",\"Croatia\",\"Croatia\",\"Croatia\",\"Croatia\",\"Croatia\",\"Croatia\",\"Croatia\",\"Croatia\",\"Croatia\",\"Croatia\",\"Croatia\",\"Croatia\",\"Croatia\",\"Croatia\",\"Croatia\",\"Croatia\",\"Croatia\",\"Cuba\",\"Cuba\",\"Cuba\",\"Cuba\",\"Cuba\",\"Cuba\",\"Cuba\",\"Cuba\",\"Cuba\",\"Cuba\",\"Cuba\",\"Cuba\",\"Cuba\",\"Cuba\",\"Cuba\",\"Cuba\",\"Cuba\",\"Cuba\",\"Cuba\",\"Cuba\",\"Cuba\",\"Cyprus\",\"Cyprus\",\"Cyprus\",\"Cyprus\",\"Cyprus\",\"Cyprus\",\"Cyprus\",\"Cyprus\",\"Cyprus\",\"Cyprus\",\"Cyprus\",\"Cyprus\",\"Cyprus\",\"Cyprus\",\"Cyprus\",\"Cyprus\",\"Cyprus\",\"Cyprus\",\"Cyprus\",\"Cyprus\",\"Cyprus\",\"Czech Republic\",\"Czech Republic\",\"Czech Republic\",\"Czech Republic\",\"Czech Republic\",\"Czech Republic\",\"Czech Republic\",\"Czech Republic\",\"Czech Republic\",\"Czech Republic\",\"Czech Republic\",\"Czech Republic\",\"Czech Republic\",\"Czech Republic\",\"Czech Republic\",\"Czech Republic\",\"Czech Republic\",\"Czech Republic\",\"Czech Republic\",\"Czech Republic\",\"Czech Republic\",\"Democratic Republic of the Congo\",\"Democratic Republic of the Congo\",\"Democratic Republic of the Congo\",\"Democratic Republic of the Congo\",\"Democratic Republic of the Congo\",\"Democratic Republic of the Congo\",\"Democratic Republic of the Congo\",\"Democratic Republic of the Congo\",\"Democratic Republic of the Congo\",\"Democratic Republic of the Congo\",\"Democratic Republic of the Congo\",\"Democratic Republic of the Congo\",\"Democratic Republic of the Congo\",\"Democratic Republic of the Congo\",\"Democratic Republic of the Congo\",\"Democratic Republic of the Congo\",\"Democratic Republic of the Congo\",\"Democratic Republic of the Congo\",\"Democratic Republic of the Congo\",\"Democratic Republic of the Congo\",\"Democratic Republic of the Congo\",\"Denmark\",\"Denmark\",\"Denmark\",\"Denmark\",\"Denmark\",\"Denmark\",\"Denmark\",\"Denmark\",\"Denmark\",\"Denmark\",\"Denmark\",\"Denmark\",\"Denmark\",\"Denmark\",\"Denmark\",\"Denmark\",\"Denmark\",\"Denmark\",\"Denmark\",\"Denmark\",\"Denmark\",\"Djibouti\",\"Djibouti\",\"Djibouti\",\"Djibouti\",\"Djibouti\",\"Djibouti\",\"Djibouti\",\"Djibouti\",\"Djibouti\",\"Djibouti\",\"Djibouti\",\"Djibouti\",\"Djibouti\",\"Djibouti\",\"Djibouti\",\"Djibouti\",\"Djibouti\",\"Djibouti\",\"Djibouti\",\"Djibouti\",\"Djibouti\",\"Dominican Republic\",\"Dominican Republic\",\"Dominican Republic\",\"Dominican Republic\",\"Dominican Republic\",\"Dominican Republic\",\"Dominican Republic\",\"Dominican Republic\",\"Dominican Republic\",\"Dominican Republic\",\"Dominican Republic\",\"Dominican Republic\",\"Dominican Republic\",\"Dominican Republic\",\"Dominican Republic\",\"Dominican Republic\",\"Dominican Republic\",\"Dominican Republic\",\"Dominican Republic\",\"Dominican Republic\",\"Dominican Republic\",\"Ecuador\",\"Ecuador\",\"Ecuador\",\"Ecuador\",\"Ecuador\",\"Ecuador\",\"Ecuador\",\"Ecuador\",\"Ecuador\",\"Ecuador\",\"Ecuador\",\"Ecuador\",\"Ecuador\",\"Ecuador\",\"Ecuador\",\"Ecuador\",\"Ecuador\",\"Ecuador\",\"Ecuador\",\"Ecuador\",\"Ecuador\",\"Egypt\",\"Egypt\",\"Egypt\",\"Egypt\",\"Egypt\",\"Egypt\",\"Egypt\",\"Egypt\",\"Egypt\",\"Egypt\",\"Egypt\",\"Egypt\",\"Egypt\",\"Egypt\",\"Egypt\",\"Egypt\",\"Egypt\",\"Egypt\",\"Egypt\",\"Egypt\",\"Egypt\",\"El Salvador\",\"El Salvador\",\"El Salvador\",\"El Salvador\",\"El Salvador\",\"El Salvador\",\"El Salvador\",\"El Salvador\",\"El Salvador\",\"El Salvador\",\"El Salvador\",\"El Salvador\",\"El Salvador\",\"El Salvador\",\"El Salvador\",\"El Salvador\",\"El Salvador\",\"El Salvador\",\"El Salvador\",\"El Salvador\",\"El Salvador\",\"Equatorial Guinea\",\"Equatorial Guinea\",\"Equatorial Guinea\",\"Equatorial Guinea\",\"Equatorial Guinea\",\"Equatorial Guinea\",\"Equatorial Guinea\",\"Equatorial Guinea\",\"Equatorial Guinea\",\"Equatorial Guinea\",\"Equatorial Guinea\",\"Equatorial Guinea\",\"Equatorial Guinea\",\"Equatorial Guinea\",\"Equatorial Guinea\",\"Equatorial Guinea\",\"Equatorial Guinea\",\"Equatorial Guinea\",\"Equatorial Guinea\",\"Equatorial Guinea\",\"Equatorial Guinea\",\"Eritrea\",\"Eritrea\",\"Eritrea\",\"Eritrea\",\"Eritrea\",\"Eritrea\",\"Eritrea\",\"Eritrea\",\"Eritrea\",\"Eritrea\",\"Eritrea\",\"Eritrea\",\"Eritrea\",\"Eritrea\",\"Eritrea\",\"Eritrea\",\"Eritrea\",\"Eritrea\",\"Eritrea\",\"Eritrea\",\"Eritrea\",\"Estonia\",\"Estonia\",\"Estonia\",\"Estonia\",\"Estonia\",\"Estonia\",\"Estonia\",\"Estonia\",\"Estonia\",\"Estonia\",\"Estonia\",\"Estonia\",\"Estonia\",\"Estonia\",\"Estonia\",\"Estonia\",\"Estonia\",\"Estonia\",\"Estonia\",\"Estonia\",\"Estonia\",\"Ethiopia\",\"Ethiopia\",\"Ethiopia\",\"Ethiopia\",\"Ethiopia\",\"Ethiopia\",\"Ethiopia\",\"Ethiopia\",\"Ethiopia\",\"Ethiopia\",\"Ethiopia\",\"Ethiopia\",\"Ethiopia\",\"Ethiopia\",\"Ethiopia\",\"Ethiopia\",\"Ethiopia\",\"Ethiopia\",\"Ethiopia\",\"Ethiopia\",\"Ethiopia\",\"Fiji\",\"Fiji\",\"Fiji\",\"Fiji\",\"Fiji\",\"Fiji\",\"Fiji\",\"Fiji\",\"Fiji\",\"Fiji\",\"Fiji\",\"Fiji\",\"Fiji\",\"Fiji\",\"Fiji\",\"Fiji\",\"Fiji\",\"Fiji\",\"Fiji\",\"Fiji\",\"Fiji\",\"Finland\",\"Finland\",\"Finland\",\"Finland\",\"Finland\",\"Finland\",\"Finland\",\"Finland\",\"Finland\",\"Finland\",\"Finland\",\"Finland\",\"Finland\",\"Finland\",\"Finland\",\"Finland\",\"Finland\",\"Finland\",\"Finland\",\"Finland\",\"Finland\",\"France\",\"France\",\"France\",\"France\",\"France\",\"France\",\"France\",\"France\",\"France\",\"France\",\"France\",\"France\",\"France\",\"France\",\"France\",\"France\",\"France\",\"France\",\"France\",\"France\",\"France\",\"Gabon\",\"Gabon\",\"Gabon\",\"Gabon\",\"Gabon\",\"Gabon\",\"Gabon\",\"Gabon\",\"Gabon\",\"Gabon\",\"Gabon\",\"Gabon\",\"Gabon\",\"Gabon\",\"Gabon\",\"Gabon\",\"Gabon\",\"Gabon\",\"Gabon\",\"Gabon\",\"Gabon\",\"Gambia\",\"Gambia\",\"Gambia\",\"Gambia\",\"Gambia\",\"Gambia\",\"Gambia\",\"Gambia\",\"Gambia\",\"Gambia\",\"Gambia\",\"Gambia\",\"Gambia\",\"Gambia\",\"Gambia\",\"Gambia\",\"Gambia\",\"Gambia\",\"Gambia\",\"Gambia\",\"Gambia\",\"Georgia\",\"Georgia\",\"Georgia\",\"Georgia\",\"Georgia\",\"Georgia\",\"Georgia\",\"Georgia\",\"Georgia\",\"Georgia\",\"Georgia\",\"Georgia\",\"Georgia\",\"Georgia\",\"Georgia\",\"Georgia\",\"Georgia\",\"Georgia\",\"Georgia\",\"Georgia\",\"Georgia\",\"Germany\",\"Germany\",\"Germany\",\"Germany\",\"Germany\",\"Germany\",\"Germany\",\"Germany\",\"Germany\",\"Germany\",\"Germany\",\"Germany\",\"Germany\",\"Germany\",\"Germany\",\"Germany\",\"Germany\",\"Germany\",\"Germany\",\"Germany\",\"Germany\",\"Ghana\",\"Ghana\",\"Ghana\",\"Ghana\",\"Ghana\",\"Ghana\",\"Ghana\",\"Ghana\",\"Ghana\",\"Ghana\",\"Ghana\",\"Ghana\",\"Ghana\",\"Ghana\",\"Ghana\",\"Ghana\",\"Ghana\",\"Ghana\",\"Ghana\",\"Ghana\",\"Ghana\",\"Greece\",\"Greece\",\"Greece\",\"Greece\",\"Greece\",\"Greece\",\"Greece\",\"Greece\",\"Greece\",\"Greece\",\"Greece\",\"Greece\",\"Greece\",\"Greece\",\"Greece\",\"Greece\",\"Greece\",\"Greece\",\"Greece\",\"Greece\",\"Greece\",\"Grenada\",\"Grenada\",\"Grenada\",\"Grenada\",\"Grenada\",\"Grenada\",\"Grenada\",\"Grenada\",\"Grenada\",\"Grenada\",\"Grenada\",\"Grenada\",\"Grenada\",\"Grenada\",\"Grenada\",\"Grenada\",\"Grenada\",\"Grenada\",\"Grenada\",\"Grenada\",\"Grenada\",\"Guatemala\",\"Guatemala\",\"Guatemala\",\"Guatemala\",\"Guatemala\",\"Guatemala\",\"Guatemala\",\"Guatemala\",\"Guatemala\",\"Guatemala\",\"Guatemala\",\"Guatemala\",\"Guatemala\",\"Guatemala\",\"Guatemala\",\"Guatemala\",\"Guatemala\",\"Guatemala\",\"Guatemala\",\"Guatemala\",\"Guatemala\",\"Guinea\",\"Guinea\",\"Guinea\",\"Guinea\",\"Guinea\",\"Guinea\",\"Guinea\",\"Guinea\",\"Guinea\",\"Guinea\",\"Guinea\",\"Guinea\",\"Guinea\",\"Guinea\",\"Guinea\",\"Guinea\",\"Guinea\",\"Guinea\",\"Guinea\",\"Guinea\",\"Guinea\",\"Guinea-Bissau\",\"Guinea-Bissau\",\"Guinea-Bissau\",\"Guinea-Bissau\",\"Guinea-Bissau\",\"Guinea-Bissau\",\"Guinea-Bissau\",\"Guinea-Bissau\",\"Guinea-Bissau\",\"Guinea-Bissau\",\"Guinea-Bissau\",\"Guinea-Bissau\",\"Guinea-Bissau\",\"Guinea-Bissau\",\"Guinea-Bissau\",\"Guinea-Bissau\",\"Guinea-Bissau\",\"Guinea-Bissau\",\"Guinea-Bissau\",\"Guinea-Bissau\",\"Guinea-Bissau\",\"Guyana\",\"Guyana\",\"Guyana\",\"Guyana\",\"Guyana\",\"Guyana\",\"Guyana\",\"Guyana\",\"Guyana\",\"Guyana\",\"Guyana\",\"Guyana\",\"Guyana\",\"Guyana\",\"Guyana\",\"Guyana\",\"Guyana\",\"Guyana\",\"Guyana\",\"Guyana\",\"Guyana\",\"Haiti\",\"Haiti\",\"Haiti\",\"Haiti\",\"Haiti\",\"Haiti\",\"Haiti\",\"Haiti\",\"Haiti\",\"Haiti\",\"Haiti\",\"Haiti\",\"Haiti\",\"Haiti\",\"Haiti\",\"Haiti\",\"Haiti\",\"Haiti\",\"Haiti\",\"Haiti\",\"Haiti\",\"Honduras\",\"Honduras\",\"Honduras\",\"Honduras\",\"Honduras\",\"Honduras\",\"Honduras\",\"Honduras\",\"Honduras\",\"Honduras\",\"Honduras\",\"Honduras\",\"Honduras\",\"Honduras\",\"Honduras\",\"Honduras\",\"Honduras\",\"Honduras\",\"Honduras\",\"Honduras\",\"Honduras\",\"Hungary\",\"Hungary\",\"Hungary\",\"Hungary\",\"Hungary\",\"Hungary\",\"Hungary\",\"Hungary\",\"Hungary\",\"Hungary\",\"Hungary\",\"Hungary\",\"Hungary\",\"Hungary\",\"Hungary\",\"Hungary\",\"Hungary\",\"Hungary\",\"Hungary\",\"Hungary\",\"Hungary\",\"Iceland\",\"Iceland\",\"Iceland\",\"Iceland\",\"Iceland\",\"Iceland\",\"Iceland\",\"Iceland\",\"Iceland\",\"Iceland\",\"Iceland\",\"Iceland\",\"Iceland\",\"Iceland\",\"Iceland\",\"Iceland\",\"Iceland\",\"Iceland\",\"Iceland\",\"Iceland\",\"Iceland\",\"India\",\"India\",\"India\",\"India\",\"India\",\"India\",\"India\",\"India\",\"India\",\"India\",\"India\",\"India\",\"India\",\"India\",\"India\",\"India\",\"India\",\"India\",\"India\",\"India\",\"India\",\"Indonesia\",\"Indonesia\",\"Indonesia\",\"Indonesia\",\"Indonesia\",\"Indonesia\",\"Indonesia\",\"Indonesia\",\"Indonesia\",\"Indonesia\",\"Indonesia\",\"Indonesia\",\"Indonesia\",\"Indonesia\",\"Indonesia\",\"Indonesia\",\"Indonesia\",\"Indonesia\",\"Indonesia\",\"Indonesia\",\"Indonesia\",\"Iraq\",\"Iraq\",\"Iraq\",\"Iraq\",\"Iraq\",\"Iraq\",\"Iraq\",\"Iraq\",\"Iraq\",\"Iraq\",\"Iraq\",\"Iraq\",\"Iraq\",\"Iraq\",\"Iraq\",\"Iraq\",\"Iraq\",\"Iraq\",\"Iraq\",\"Iraq\",\"Iraq\",\"Ireland\",\"Ireland\",\"Ireland\",\"Ireland\",\"Ireland\",\"Ireland\",\"Ireland\",\"Ireland\",\"Ireland\",\"Ireland\",\"Ireland\",\"Ireland\",\"Ireland\",\"Ireland\",\"Ireland\",\"Ireland\",\"Ireland\",\"Ireland\",\"Ireland\",\"Ireland\",\"Ireland\",\"Israel\",\"Israel\",\"Israel\",\"Israel\",\"Israel\",\"Israel\",\"Israel\",\"Israel\",\"Israel\",\"Israel\",\"Israel\",\"Israel\",\"Israel\",\"Israel\",\"Israel\",\"Israel\",\"Israel\",\"Israel\",\"Israel\",\"Israel\",\"Israel\",\"Italy\",\"Italy\",\"Italy\",\"Italy\",\"Italy\",\"Italy\",\"Italy\",\"Italy\",\"Italy\",\"Italy\",\"Italy\",\"Italy\",\"Italy\",\"Italy\",\"Italy\",\"Italy\",\"Italy\",\"Italy\",\"Italy\",\"Italy\",\"Italy\",\"Jamaica\",\"Jamaica\",\"Jamaica\",\"Jamaica\",\"Jamaica\",\"Jamaica\",\"Jamaica\",\"Jamaica\",\"Jamaica\",\"Jamaica\",\"Jamaica\",\"Jamaica\",\"Jamaica\",\"Jamaica\",\"Jamaica\",\"Jamaica\",\"Jamaica\",\"Jamaica\",\"Jamaica\",\"Jamaica\",\"Jamaica\",\"Japan\",\"Japan\",\"Japan\",\"Japan\",\"Japan\",\"Japan\",\"Japan\",\"Japan\",\"Japan\",\"Japan\",\"Japan\",\"Japan\",\"Japan\",\"Japan\",\"Japan\",\"Japan\",\"Japan\",\"Japan\",\"Japan\",\"Japan\",\"Japan\",\"Jordan\",\"Jordan\",\"Jordan\",\"Jordan\",\"Jordan\",\"Jordan\",\"Jordan\",\"Jordan\",\"Jordan\",\"Jordan\",\"Jordan\",\"Jordan\",\"Jordan\",\"Jordan\",\"Jordan\",\"Jordan\",\"Jordan\",\"Jordan\",\"Jordan\",\"Jordan\",\"Jordan\",\"Kazakhstan\",\"Kazakhstan\",\"Kazakhstan\",\"Kazakhstan\",\"Kazakhstan\",\"Kazakhstan\",\"Kazakhstan\",\"Kazakhstan\",\"Kazakhstan\",\"Kazakhstan\",\"Kazakhstan\",\"Kazakhstan\",\"Kazakhstan\",\"Kazakhstan\",\"Kazakhstan\",\"Kazakhstan\",\"Kazakhstan\",\"Kazakhstan\",\"Kazakhstan\",\"Kazakhstan\",\"Kazakhstan\",\"Kenya\",\"Kenya\",\"Kenya\",\"Kenya\",\"Kenya\",\"Kenya\",\"Kenya\",\"Kenya\",\"Kenya\",\"Kenya\",\"Kenya\",\"Kenya\",\"Kenya\",\"Kenya\",\"Kenya\",\"Kenya\",\"Kenya\",\"Kenya\",\"Kenya\",\"Kenya\",\"Kenya\",\"Kiribati\",\"Kiribati\",\"Kiribati\",\"Kiribati\",\"Kiribati\",\"Kiribati\",\"Kiribati\",\"Kiribati\",\"Kiribati\",\"Kiribati\",\"Kiribati\",\"Kiribati\",\"Kiribati\",\"Kiribati\",\"Kiribati\",\"Kiribati\",\"Kiribati\",\"Kiribati\",\"Kiribati\",\"Kiribati\",\"Kiribati\",\"Kuwait\",\"Kuwait\",\"Kuwait\",\"Kuwait\",\"Kuwait\",\"Kuwait\",\"Kuwait\",\"Kuwait\",\"Kuwait\",\"Kuwait\",\"Kuwait\",\"Kuwait\",\"Kuwait\",\"Kuwait\",\"Kuwait\",\"Kuwait\",\"Kuwait\",\"Kuwait\",\"Kuwait\",\"Kuwait\",\"Kuwait\",\"Kyrgyzstan\",\"Kyrgyzstan\",\"Kyrgyzstan\",\"Kyrgyzstan\",\"Kyrgyzstan\",\"Kyrgyzstan\",\"Kyrgyzstan\",\"Kyrgyzstan\",\"Kyrgyzstan\",\"Kyrgyzstan\",\"Kyrgyzstan\",\"Kyrgyzstan\",\"Kyrgyzstan\",\"Kyrgyzstan\",\"Kyrgyzstan\",\"Kyrgyzstan\",\"Kyrgyzstan\",\"Kyrgyzstan\",\"Kyrgyzstan\",\"Kyrgyzstan\",\"Kyrgyzstan\",\"Latvia\",\"Latvia\",\"Latvia\",\"Latvia\",\"Latvia\",\"Latvia\",\"Latvia\",\"Latvia\",\"Latvia\",\"Latvia\",\"Latvia\",\"Latvia\",\"Latvia\",\"Latvia\",\"Latvia\",\"Latvia\",\"Latvia\",\"Latvia\",\"Latvia\",\"Latvia\",\"Latvia\",\"Lebanon\",\"Lebanon\",\"Lebanon\",\"Lebanon\",\"Lebanon\",\"Lebanon\",\"Lebanon\",\"Lebanon\",\"Lebanon\",\"Lebanon\",\"Lebanon\",\"Lebanon\",\"Lebanon\",\"Lebanon\",\"Lebanon\",\"Lebanon\",\"Lebanon\",\"Lebanon\",\"Lebanon\",\"Lebanon\",\"Lebanon\",\"Lesotho\",\"Lesotho\",\"Lesotho\",\"Lesotho\",\"Lesotho\",\"Lesotho\",\"Lesotho\",\"Lesotho\",\"Lesotho\",\"Lesotho\",\"Lesotho\",\"Lesotho\",\"Lesotho\",\"Lesotho\",\"Lesotho\",\"Lesotho\",\"Lesotho\",\"Lesotho\",\"Lesotho\",\"Lesotho\",\"Lesotho\",\"Liberia\",\"Liberia\",\"Liberia\",\"Liberia\",\"Liberia\",\"Liberia\",\"Liberia\",\"Liberia\",\"Liberia\",\"Liberia\",\"Liberia\",\"Liberia\",\"Liberia\",\"Liberia\",\"Liberia\",\"Liberia\",\"Liberia\",\"Liberia\",\"Liberia\",\"Liberia\",\"Liberia\",\"Libya\",\"Libya\",\"Libya\",\"Libya\",\"Libya\",\"Libya\",\"Libya\",\"Libya\",\"Libya\",\"Libya\",\"Libya\",\"Libya\",\"Libya\",\"Libya\",\"Libya\",\"Libya\",\"Libya\",\"Libya\",\"Libya\",\"Libya\",\"Libya\",\"Lithuania\",\"Lithuania\",\"Lithuania\",\"Lithuania\",\"Lithuania\",\"Lithuania\",\"Lithuania\",\"Lithuania\",\"Lithuania\",\"Lithuania\",\"Lithuania\",\"Lithuania\",\"Lithuania\",\"Lithuania\",\"Lithuania\",\"Lithuania\",\"Lithuania\",\"Lithuania\",\"Lithuania\",\"Lithuania\",\"Lithuania\",\"Luxembourg\",\"Luxembourg\",\"Luxembourg\",\"Luxembourg\",\"Luxembourg\",\"Luxembourg\",\"Luxembourg\",\"Luxembourg\",\"Luxembourg\",\"Luxembourg\",\"Luxembourg\",\"Luxembourg\",\"Luxembourg\",\"Luxembourg\",\"Luxembourg\",\"Luxembourg\",\"Luxembourg\",\"Luxembourg\",\"Luxembourg\",\"Luxembourg\",\"Luxembourg\",\"Madagascar\",\"Madagascar\",\"Madagascar\",\"Madagascar\",\"Madagascar\",\"Madagascar\",\"Madagascar\",\"Madagascar\",\"Madagascar\",\"Madagascar\",\"Madagascar\",\"Madagascar\",\"Madagascar\",\"Madagascar\",\"Madagascar\",\"Madagascar\",\"Madagascar\",\"Madagascar\",\"Madagascar\",\"Madagascar\",\"Madagascar\",\"Malawi\",\"Malawi\",\"Malawi\",\"Malawi\",\"Malawi\",\"Malawi\",\"Malawi\",\"Malawi\",\"Malawi\",\"Malawi\",\"Malawi\",\"Malawi\",\"Malawi\",\"Malawi\",\"Malawi\",\"Malawi\",\"Malawi\",\"Malawi\",\"Malawi\",\"Malawi\",\"Malawi\",\"Malaysia\",\"Malaysia\",\"Malaysia\",\"Malaysia\",\"Malaysia\",\"Malaysia\",\"Malaysia\",\"Malaysia\",\"Malaysia\",\"Malaysia\",\"Malaysia\",\"Malaysia\",\"Malaysia\",\"Malaysia\",\"Malaysia\",\"Malaysia\",\"Malaysia\",\"Malaysia\",\"Malaysia\",\"Malaysia\",\"Malaysia\",\"Maldives\",\"Maldives\",\"Maldives\",\"Maldives\",\"Maldives\",\"Maldives\",\"Maldives\",\"Maldives\",\"Maldives\",\"Maldives\",\"Maldives\",\"Maldives\",\"Maldives\",\"Maldives\",\"Maldives\",\"Maldives\",\"Maldives\",\"Maldives\",\"Maldives\",\"Maldives\",\"Maldives\",\"Mali\",\"Mali\",\"Mali\",\"Mali\",\"Mali\",\"Mali\",\"Mali\",\"Mali\",\"Mali\",\"Mali\",\"Mali\",\"Mali\",\"Mali\",\"Mali\",\"Mali\",\"Mali\",\"Mali\",\"Mali\",\"Mali\",\"Mali\",\"Mali\",\"Malta\",\"Malta\",\"Malta\",\"Malta\",\"Malta\",\"Malta\",\"Malta\",\"Malta\",\"Malta\",\"Malta\",\"Malta\",\"Malta\",\"Malta\",\"Malta\",\"Malta\",\"Malta\",\"Malta\",\"Malta\",\"Malta\",\"Malta\",\"Malta\",\"Mauritania\",\"Mauritania\",\"Mauritania\",\"Mauritania\",\"Mauritania\",\"Mauritania\",\"Mauritania\",\"Mauritania\",\"Mauritania\",\"Mauritania\",\"Mauritania\",\"Mauritania\",\"Mauritania\",\"Mauritania\",\"Mauritania\",\"Mauritania\",\"Mauritania\",\"Mauritania\",\"Mauritania\",\"Mauritania\",\"Mauritania\",\"Mauritius\",\"Mauritius\",\"Mauritius\",\"Mauritius\",\"Mauritius\",\"Mauritius\",\"Mauritius\",\"Mauritius\",\"Mauritius\",\"Mauritius\",\"Mauritius\",\"Mauritius\",\"Mauritius\",\"Mauritius\",\"Mauritius\",\"Mauritius\",\"Mauritius\",\"Mauritius\",\"Mauritius\",\"Mauritius\",\"Mauritius\",\"Mexico\",\"Mexico\",\"Mexico\",\"Mexico\",\"Mexico\",\"Mexico\",\"Mexico\",\"Mexico\",\"Mexico\",\"Mexico\",\"Mexico\",\"Mexico\",\"Mexico\",\"Mexico\",\"Mexico\",\"Mexico\",\"Mexico\",\"Mexico\",\"Mexico\",\"Mexico\",\"Mexico\",\"Micronesia\",\"Micronesia\",\"Micronesia\",\"Micronesia\",\"Micronesia\",\"Micronesia\",\"Micronesia\",\"Micronesia\",\"Micronesia\",\"Micronesia\",\"Micronesia\",\"Micronesia\",\"Micronesia\",\"Micronesia\",\"Micronesia\",\"Micronesia\",\"Micronesia\",\"Micronesia\",\"Micronesia\",\"Micronesia\",\"Micronesia\",\"Mongolia\",\"Mongolia\",\"Mongolia\",\"Mongolia\",\"Mongolia\",\"Mongolia\",\"Mongolia\",\"Mongolia\",\"Mongolia\",\"Mongolia\",\"Mongolia\",\"Mongolia\",\"Mongolia\",\"Mongolia\",\"Mongolia\",\"Mongolia\",\"Mongolia\",\"Mongolia\",\"Mongolia\",\"Mongolia\",\"Mongolia\",\"Montenegro\",\"Montenegro\",\"Montenegro\",\"Montenegro\",\"Montenegro\",\"Montenegro\",\"Montenegro\",\"Montenegro\",\"Montenegro\",\"Montenegro\",\"Montenegro\",\"Montenegro\",\"Montenegro\",\"Montenegro\",\"Montenegro\",\"Montenegro\",\"Montenegro\",\"Montenegro\",\"Montenegro\",\"Montenegro\",\"Montenegro\",\"Morocco\",\"Morocco\",\"Morocco\",\"Morocco\",\"Morocco\",\"Morocco\",\"Morocco\",\"Morocco\",\"Morocco\",\"Morocco\",\"Morocco\",\"Morocco\",\"Morocco\",\"Morocco\",\"Morocco\",\"Morocco\",\"Morocco\",\"Morocco\",\"Morocco\",\"Morocco\",\"Morocco\",\"Mozambique\",\"Mozambique\",\"Mozambique\",\"Mozambique\",\"Mozambique\",\"Mozambique\",\"Mozambique\",\"Mozambique\",\"Mozambique\",\"Mozambique\",\"Mozambique\",\"Mozambique\",\"Mozambique\",\"Mozambique\",\"Mozambique\",\"Mozambique\",\"Mozambique\",\"Mozambique\",\"Mozambique\",\"Mozambique\",\"Mozambique\",\"Namibia\",\"Namibia\",\"Namibia\",\"Namibia\",\"Namibia\",\"Namibia\",\"Namibia\",\"Namibia\",\"Namibia\",\"Namibia\",\"Namibia\",\"Namibia\",\"Namibia\",\"Namibia\",\"Namibia\",\"Namibia\",\"Namibia\",\"Namibia\",\"Namibia\",\"Namibia\",\"Namibia\",\"Nepal\",\"Nepal\",\"Nepal\",\"Nepal\",\"Nepal\",\"Nepal\",\"Nepal\",\"Nepal\",\"Nepal\",\"Nepal\",\"Nepal\",\"Nepal\",\"Nepal\",\"Nepal\",\"Nepal\",\"Nepal\",\"Nepal\",\"Nepal\",\"Nepal\",\"Nepal\",\"Nepal\",\"Netherlands\",\"Netherlands\",\"Netherlands\",\"Netherlands\",\"Netherlands\",\"Netherlands\",\"Netherlands\",\"Netherlands\",\"Netherlands\",\"Netherlands\",\"Netherlands\",\"Netherlands\",\"Netherlands\",\"Netherlands\",\"Netherlands\",\"Netherlands\",\"Netherlands\",\"Netherlands\",\"Netherlands\",\"Netherlands\",\"Netherlands\",\"New Zealand\",\"New Zealand\",\"New Zealand\",\"New Zealand\",\"New Zealand\",\"New Zealand\",\"New Zealand\",\"New Zealand\",\"New Zealand\",\"New Zealand\",\"New Zealand\",\"New Zealand\",\"New Zealand\",\"New Zealand\",\"New Zealand\",\"New Zealand\",\"New Zealand\",\"New Zealand\",\"New Zealand\",\"New Zealand\",\"New Zealand\",\"Nicaragua\",\"Nicaragua\",\"Nicaragua\",\"Nicaragua\",\"Nicaragua\",\"Nicaragua\",\"Nicaragua\",\"Nicaragua\",\"Nicaragua\",\"Nicaragua\",\"Nicaragua\",\"Nicaragua\",\"Nicaragua\",\"Nicaragua\",\"Nicaragua\",\"Nicaragua\",\"Nicaragua\",\"Nicaragua\",\"Nicaragua\",\"Nicaragua\",\"Nicaragua\",\"Niger\",\"Niger\",\"Niger\",\"Niger\",\"Niger\",\"Niger\",\"Niger\",\"Niger\",\"Niger\",\"Niger\",\"Niger\",\"Niger\",\"Niger\",\"Niger\",\"Niger\",\"Niger\",\"Niger\",\"Niger\",\"Niger\",\"Niger\",\"Niger\",\"Nigeria\",\"Nigeria\",\"Nigeria\",\"Nigeria\",\"Nigeria\",\"Nigeria\",\"Nigeria\",\"Nigeria\",\"Nigeria\",\"Nigeria\",\"Nigeria\",\"Nigeria\",\"Nigeria\",\"Nigeria\",\"Nigeria\",\"Nigeria\",\"Nigeria\",\"Nigeria\",\"Nigeria\",\"Nigeria\",\"Nigeria\",\"Norway\",\"Norway\",\"Norway\",\"Norway\",\"Norway\",\"Norway\",\"Norway\",\"Norway\",\"Norway\",\"Norway\",\"Norway\",\"Norway\",\"Norway\",\"Norway\",\"Norway\",\"Norway\",\"Norway\",\"Norway\",\"Norway\",\"Norway\",\"Norway\",\"Oman\",\"Oman\",\"Oman\",\"Oman\",\"Oman\",\"Oman\",\"Oman\",\"Oman\",\"Oman\",\"Oman\",\"Oman\",\"Oman\",\"Oman\",\"Oman\",\"Oman\",\"Oman\",\"Oman\",\"Oman\",\"Oman\",\"Oman\",\"Oman\",\"Pakistan\",\"Pakistan\",\"Pakistan\",\"Pakistan\",\"Pakistan\",\"Pakistan\",\"Pakistan\",\"Pakistan\",\"Pakistan\",\"Pakistan\",\"Pakistan\",\"Pakistan\",\"Pakistan\",\"Pakistan\",\"Pakistan\",\"Pakistan\",\"Pakistan\",\"Pakistan\",\"Pakistan\",\"Pakistan\",\"Pakistan\",\"Panama\",\"Panama\",\"Panama\",\"Panama\",\"Panama\",\"Panama\",\"Panama\",\"Panama\",\"Panama\",\"Panama\",\"Panama\",\"Panama\",\"Panama\",\"Panama\",\"Panama\",\"Panama\",\"Panama\",\"Panama\",\"Panama\",\"Panama\",\"Panama\",\"Papua New Guinea\",\"Papua New Guinea\",\"Papua New Guinea\",\"Papua New Guinea\",\"Papua New Guinea\",\"Papua New Guinea\",\"Papua New Guinea\",\"Papua New Guinea\",\"Papua New Guinea\",\"Papua New Guinea\",\"Papua New Guinea\",\"Papua New Guinea\",\"Papua New Guinea\",\"Papua New Guinea\",\"Papua New Guinea\",\"Papua New Guinea\",\"Papua New Guinea\",\"Papua New Guinea\",\"Papua New Guinea\",\"Papua New Guinea\",\"Papua New Guinea\",\"Paraguay\",\"Paraguay\",\"Paraguay\",\"Paraguay\",\"Paraguay\",\"Paraguay\",\"Paraguay\",\"Paraguay\",\"Paraguay\",\"Paraguay\",\"Paraguay\",\"Paraguay\",\"Paraguay\",\"Paraguay\",\"Paraguay\",\"Paraguay\",\"Paraguay\",\"Paraguay\",\"Paraguay\",\"Paraguay\",\"Paraguay\",\"Peru\",\"Peru\",\"Peru\",\"Peru\",\"Peru\",\"Peru\",\"Peru\",\"Peru\",\"Peru\",\"Peru\",\"Peru\",\"Peru\",\"Peru\",\"Peru\",\"Peru\",\"Peru\",\"Peru\",\"Peru\",\"Peru\",\"Peru\",\"Peru\",\"Philippines\",\"Philippines\",\"Philippines\",\"Philippines\",\"Philippines\",\"Philippines\",\"Philippines\",\"Philippines\",\"Philippines\",\"Philippines\",\"Philippines\",\"Philippines\",\"Philippines\",\"Philippines\",\"Philippines\",\"Philippines\",\"Philippines\",\"Philippines\",\"Philippines\",\"Philippines\",\"Philippines\",\"Poland\",\"Poland\",\"Poland\",\"Poland\",\"Poland\",\"Poland\",\"Poland\",\"Poland\",\"Poland\",\"Poland\",\"Poland\",\"Poland\",\"Poland\",\"Poland\",\"Poland\",\"Poland\",\"Poland\",\"Poland\",\"Poland\",\"Poland\",\"Poland\",\"Portugal\",\"Portugal\",\"Portugal\",\"Portugal\",\"Portugal\",\"Portugal\",\"Portugal\",\"Portugal\",\"Portugal\",\"Portugal\",\"Portugal\",\"Portugal\",\"Portugal\",\"Portugal\",\"Portugal\",\"Portugal\",\"Portugal\",\"Portugal\",\"Portugal\",\"Portugal\",\"Portugal\",\"Qatar\",\"Qatar\",\"Qatar\",\"Qatar\",\"Qatar\",\"Qatar\",\"Qatar\",\"Qatar\",\"Qatar\",\"Qatar\",\"Qatar\",\"Qatar\",\"Qatar\",\"Qatar\",\"Qatar\",\"Qatar\",\"Qatar\",\"Qatar\",\"Qatar\",\"Qatar\",\"Qatar\",\"Romania\",\"Romania\",\"Romania\",\"Romania\",\"Romania\",\"Romania\",\"Romania\",\"Romania\",\"Romania\",\"Romania\",\"Romania\",\"Romania\",\"Romania\",\"Romania\",\"Romania\",\"Romania\",\"Romania\",\"Romania\",\"Romania\",\"Romania\",\"Romania\",\"Rwanda\",\"Rwanda\",\"Rwanda\",\"Rwanda\",\"Rwanda\",\"Rwanda\",\"Rwanda\",\"Rwanda\",\"Rwanda\",\"Rwanda\",\"Rwanda\",\"Rwanda\",\"Rwanda\",\"Rwanda\",\"Rwanda\",\"Rwanda\",\"Rwanda\",\"Rwanda\",\"Rwanda\",\"Rwanda\",\"Rwanda\",\"Samoa\",\"Samoa\",\"Samoa\",\"Samoa\",\"Samoa\",\"Samoa\",\"Samoa\",\"Samoa\",\"Samoa\",\"Samoa\",\"Samoa\",\"Samoa\",\"Samoa\",\"Samoa\",\"Samoa\",\"Samoa\",\"Samoa\",\"Samoa\",\"Samoa\",\"Samoa\",\"Samoa\",\"Saudi Arabia\",\"Saudi Arabia\",\"Saudi Arabia\",\"Saudi Arabia\",\"Saudi Arabia\",\"Saudi Arabia\",\"Saudi Arabia\",\"Saudi Arabia\",\"Saudi Arabia\",\"Saudi Arabia\",\"Saudi Arabia\",\"Saudi Arabia\",\"Saudi Arabia\",\"Saudi Arabia\",\"Saudi Arabia\",\"Saudi Arabia\",\"Saudi Arabia\",\"Saudi Arabia\",\"Saudi Arabia\",\"Saudi Arabia\",\"Saudi Arabia\",\"Senegal\",\"Senegal\",\"Senegal\",\"Senegal\",\"Senegal\",\"Senegal\",\"Senegal\",\"Senegal\",\"Senegal\",\"Senegal\",\"Senegal\",\"Senegal\",\"Senegal\",\"Senegal\",\"Senegal\",\"Senegal\",\"Senegal\",\"Senegal\",\"Senegal\",\"Senegal\",\"Senegal\",\"Serbia\",\"Serbia\",\"Serbia\",\"Serbia\",\"Serbia\",\"Serbia\",\"Serbia\",\"Serbia\",\"Serbia\",\"Serbia\",\"Serbia\",\"Serbia\",\"Serbia\",\"Serbia\",\"Serbia\",\"Serbia\",\"Serbia\",\"Serbia\",\"Serbia\",\"Serbia\",\"Serbia\",\"Seychelles\",\"Seychelles\",\"Seychelles\",\"Seychelles\",\"Seychelles\",\"Seychelles\",\"Seychelles\",\"Seychelles\",\"Seychelles\",\"Seychelles\",\"Seychelles\",\"Seychelles\",\"Seychelles\",\"Seychelles\",\"Seychelles\",\"Seychelles\",\"Seychelles\",\"Seychelles\",\"Seychelles\",\"Seychelles\",\"Seychelles\",\"Sierra Leone\",\"Sierra Leone\",\"Sierra Leone\",\"Sierra Leone\",\"Sierra Leone\",\"Sierra Leone\",\"Sierra Leone\",\"Sierra Leone\",\"Sierra Leone\",\"Sierra Leone\",\"Sierra Leone\",\"Sierra Leone\",\"Sierra Leone\",\"Sierra Leone\",\"Sierra Leone\",\"Sierra Leone\",\"Sierra Leone\",\"Sierra Leone\",\"Sierra Leone\",\"Sierra Leone\",\"Sierra Leone\",\"Singapore\",\"Singapore\",\"Singapore\",\"Singapore\",\"Singapore\",\"Singapore\",\"Singapore\",\"Singapore\",\"Singapore\",\"Singapore\",\"Singapore\",\"Singapore\",\"Singapore\",\"Singapore\",\"Singapore\",\"Singapore\",\"Singapore\",\"Singapore\",\"Singapore\",\"Singapore\",\"Singapore\",\"Slovakia\",\"Slovakia\",\"Slovakia\",\"Slovakia\",\"Slovakia\",\"Slovakia\",\"Slovakia\",\"Slovakia\",\"Slovakia\",\"Slovakia\",\"Slovakia\",\"Slovakia\",\"Slovakia\",\"Slovakia\",\"Slovakia\",\"Slovakia\",\"Slovakia\",\"Slovakia\",\"Slovakia\",\"Slovakia\",\"Slovakia\",\"Slovenia\",\"Slovenia\",\"Slovenia\",\"Slovenia\",\"Slovenia\",\"Slovenia\",\"Slovenia\",\"Slovenia\",\"Slovenia\",\"Slovenia\",\"Slovenia\",\"Slovenia\",\"Slovenia\",\"Slovenia\",\"Slovenia\",\"Slovenia\",\"Slovenia\",\"Slovenia\",\"Slovenia\",\"Slovenia\",\"Slovenia\",\"Solomon Islands\",\"Solomon Islands\",\"Solomon Islands\",\"Solomon Islands\",\"Solomon Islands\",\"Solomon Islands\",\"Solomon Islands\",\"Solomon Islands\",\"Solomon Islands\",\"Solomon Islands\",\"Solomon Islands\",\"Solomon Islands\",\"Solomon Islands\",\"Solomon Islands\",\"Solomon Islands\",\"Solomon Islands\",\"Solomon Islands\",\"Solomon Islands\",\"Solomon Islands\",\"Solomon Islands\",\"Solomon Islands\",\"Somalia\",\"Somalia\",\"Somalia\",\"Somalia\",\"Somalia\",\"Somalia\",\"Somalia\",\"Somalia\",\"Somalia\",\"Somalia\",\"Somalia\",\"Somalia\",\"Somalia\",\"Somalia\",\"Somalia\",\"Somalia\",\"Somalia\",\"Somalia\",\"Somalia\",\"Somalia\",\"Somalia\",\"South Africa\",\"South Africa\",\"South Africa\",\"South Africa\",\"South Africa\",\"South Africa\",\"South Africa\",\"South Africa\",\"South Africa\",\"South Africa\",\"South Africa\",\"South Africa\",\"South Africa\",\"South Africa\",\"South Africa\",\"South Africa\",\"South Africa\",\"South Africa\",\"South Africa\",\"South Africa\",\"South Africa\",\"South Sudan\",\"South Sudan\",\"South Sudan\",\"South Sudan\",\"South Sudan\",\"South Sudan\",\"South Sudan\",\"South Sudan\",\"South Sudan\",\"South Sudan\",\"South Sudan\",\"South Sudan\",\"South Sudan\",\"South Sudan\",\"South Sudan\",\"South Sudan\",\"South Sudan\",\"South Sudan\",\"South Sudan\",\"South Sudan\",\"South Sudan\",\"Spain\",\"Spain\",\"Spain\",\"Spain\",\"Spain\",\"Spain\",\"Spain\",\"Spain\",\"Spain\",\"Spain\",\"Spain\",\"Spain\",\"Spain\",\"Spain\",\"Spain\",\"Spain\",\"Spain\",\"Spain\",\"Spain\",\"Spain\",\"Spain\",\"Sri Lanka\",\"Sri Lanka\",\"Sri Lanka\",\"Sri Lanka\",\"Sri Lanka\",\"Sri Lanka\",\"Sri Lanka\",\"Sri Lanka\",\"Sri Lanka\",\"Sri Lanka\",\"Sri Lanka\",\"Sri Lanka\",\"Sri Lanka\",\"Sri Lanka\",\"Sri Lanka\",\"Sri Lanka\",\"Sri Lanka\",\"Sri Lanka\",\"Sri Lanka\",\"Sri Lanka\",\"Sri Lanka\",\"Sudan\",\"Sudan\",\"Sudan\",\"Sudan\",\"Sudan\",\"Sudan\",\"Sudan\",\"Sudan\",\"Sudan\",\"Sudan\",\"Sudan\",\"Sudan\",\"Sudan\",\"Sudan\",\"Sudan\",\"Sudan\",\"Sudan\",\"Sudan\",\"Sudan\",\"Sudan\",\"Sudan\",\"Suriname\",\"Suriname\",\"Suriname\",\"Suriname\",\"Suriname\",\"Suriname\",\"Suriname\",\"Suriname\",\"Suriname\",\"Suriname\",\"Suriname\",\"Suriname\",\"Suriname\",\"Suriname\",\"Suriname\",\"Suriname\",\"Suriname\",\"Suriname\",\"Suriname\",\"Suriname\",\"Suriname\",\"Swaziland\",\"Swaziland\",\"Swaziland\",\"Swaziland\",\"Swaziland\",\"Swaziland\",\"Swaziland\",\"Swaziland\",\"Swaziland\",\"Swaziland\",\"Swaziland\",\"Swaziland\",\"Swaziland\",\"Swaziland\",\"Swaziland\",\"Swaziland\",\"Swaziland\",\"Swaziland\",\"Swaziland\",\"Swaziland\",\"Swaziland\",\"Sweden\",\"Sweden\",\"Sweden\",\"Sweden\",\"Sweden\",\"Sweden\",\"Sweden\",\"Sweden\",\"Sweden\",\"Sweden\",\"Sweden\",\"Sweden\",\"Sweden\",\"Sweden\",\"Sweden\",\"Sweden\",\"Sweden\",\"Sweden\",\"Sweden\",\"Sweden\",\"Sweden\",\"Switzerland\",\"Switzerland\",\"Switzerland\",\"Switzerland\",\"Switzerland\",\"Switzerland\",\"Switzerland\",\"Switzerland\",\"Switzerland\",\"Switzerland\",\"Switzerland\",\"Switzerland\",\"Switzerland\",\"Switzerland\",\"Switzerland\",\"Switzerland\",\"Switzerland\",\"Switzerland\",\"Switzerland\",\"Switzerland\",\"Switzerland\",\"Tajikistan\",\"Tajikistan\",\"Tajikistan\",\"Tajikistan\",\"Tajikistan\",\"Tajikistan\",\"Tajikistan\",\"Tajikistan\",\"Tajikistan\",\"Tajikistan\",\"Tajikistan\",\"Tajikistan\",\"Tajikistan\",\"Tajikistan\",\"Tajikistan\",\"Tajikistan\",\"Tajikistan\",\"Tajikistan\",\"Tajikistan\",\"Tajikistan\",\"Tajikistan\",\"Thailand\",\"Thailand\",\"Thailand\",\"Thailand\",\"Thailand\",\"Thailand\",\"Thailand\",\"Thailand\",\"Thailand\",\"Thailand\",\"Thailand\",\"Thailand\",\"Thailand\",\"Thailand\",\"Thailand\",\"Thailand\",\"Thailand\",\"Thailand\",\"Thailand\",\"Thailand\",\"Thailand\",\"Timor-Leste\",\"Timor-Leste\",\"Timor-Leste\",\"Timor-Leste\",\"Timor-Leste\",\"Timor-Leste\",\"Timor-Leste\",\"Timor-Leste\",\"Timor-Leste\",\"Timor-Leste\",\"Timor-Leste\",\"Timor-Leste\",\"Timor-Leste\",\"Timor-Leste\",\"Timor-Leste\",\"Timor-Leste\",\"Timor-Leste\",\"Timor-Leste\",\"Timor-Leste\",\"Timor-Leste\",\"Timor-Leste\",\"Togo\",\"Togo\",\"Togo\",\"Togo\",\"Togo\",\"Togo\",\"Togo\",\"Togo\",\"Togo\",\"Togo\",\"Togo\",\"Togo\",\"Togo\",\"Togo\",\"Togo\",\"Togo\",\"Togo\",\"Togo\",\"Togo\",\"Togo\",\"Togo\",\"Tonga\",\"Tonga\",\"Tonga\",\"Tonga\",\"Tonga\",\"Tonga\",\"Tonga\",\"Tonga\",\"Tonga\",\"Tonga\",\"Tonga\",\"Tonga\",\"Tonga\",\"Tonga\",\"Tonga\",\"Tonga\",\"Tonga\",\"Tonga\",\"Tonga\",\"Tonga\",\"Tonga\",\"Tunisia\",\"Tunisia\",\"Tunisia\",\"Tunisia\",\"Tunisia\",\"Tunisia\",\"Tunisia\",\"Tunisia\",\"Tunisia\",\"Tunisia\",\"Tunisia\",\"Tunisia\",\"Tunisia\",\"Tunisia\",\"Tunisia\",\"Tunisia\",\"Tunisia\",\"Tunisia\",\"Tunisia\",\"Tunisia\",\"Tunisia\",\"Turkey\",\"Turkey\",\"Turkey\",\"Turkey\",\"Turkey\",\"Turkey\",\"Turkey\",\"Turkey\",\"Turkey\",\"Turkey\",\"Turkey\",\"Turkey\",\"Turkey\",\"Turkey\",\"Turkey\",\"Turkey\",\"Turkey\",\"Turkey\",\"Turkey\",\"Turkey\",\"Turkey\",\"Turkmenistan\",\"Turkmenistan\",\"Turkmenistan\",\"Turkmenistan\",\"Turkmenistan\",\"Turkmenistan\",\"Turkmenistan\",\"Turkmenistan\",\"Turkmenistan\",\"Turkmenistan\",\"Turkmenistan\",\"Turkmenistan\",\"Turkmenistan\",\"Turkmenistan\",\"Turkmenistan\",\"Turkmenistan\",\"Turkmenistan\",\"Turkmenistan\",\"Turkmenistan\",\"Turkmenistan\",\"Turkmenistan\",\"Uganda\",\"Uganda\",\"Uganda\",\"Uganda\",\"Uganda\",\"Uganda\",\"Uganda\",\"Uganda\",\"Uganda\",\"Uganda\",\"Uganda\",\"Uganda\",\"Uganda\",\"Uganda\",\"Uganda\",\"Uganda\",\"Uganda\",\"Uganda\",\"Uganda\",\"Uganda\",\"Uganda\",\"Ukraine\",\"Ukraine\",\"Ukraine\",\"Ukraine\",\"Ukraine\",\"Ukraine\",\"Ukraine\",\"Ukraine\",\"Ukraine\",\"Ukraine\",\"Ukraine\",\"Ukraine\",\"Ukraine\",\"Ukraine\",\"Ukraine\",\"Ukraine\",\"Ukraine\",\"Ukraine\",\"Ukraine\",\"Ukraine\",\"Ukraine\",\"United Arab Emirates\",\"United Arab Emirates\",\"United Arab Emirates\",\"United Arab Emirates\",\"United Arab Emirates\",\"United Arab Emirates\",\"United Arab Emirates\",\"United Arab Emirates\",\"United Arab Emirates\",\"United Arab Emirates\",\"United Arab Emirates\",\"United Arab Emirates\",\"United Arab Emirates\",\"United Arab Emirates\",\"United Arab Emirates\",\"United Arab Emirates\",\"United Arab Emirates\",\"United Arab Emirates\",\"United Arab Emirates\",\"United Arab Emirates\",\"United Arab Emirates\",\"United Kingdom\",\"United Kingdom\",\"United Kingdom\",\"United Kingdom\",\"United Kingdom\",\"United Kingdom\",\"United Kingdom\",\"United Kingdom\",\"United Kingdom\",\"United Kingdom\",\"United Kingdom\",\"United Kingdom\",\"United Kingdom\",\"United Kingdom\",\"United Kingdom\",\"United Kingdom\",\"United Kingdom\",\"United Kingdom\",\"United Kingdom\",\"United Kingdom\",\"United Kingdom\",\"United States of America\",\"United States of America\",\"United States of America\",\"United States of America\",\"United States of America\",\"United States of America\",\"United States of America\",\"United States of America\",\"United States of America\",\"United States of America\",\"United States of America\",\"United States of America\",\"United States of America\",\"United States of America\",\"United States of America\",\"United States of America\",\"United States of America\",\"United States of America\",\"United States of America\",\"United States of America\",\"United States of America\",\"Uruguay\",\"Uruguay\",\"Uruguay\",\"Uruguay\",\"Uruguay\",\"Uruguay\",\"Uruguay\",\"Uruguay\",\"Uruguay\",\"Uruguay\",\"Uruguay\",\"Uruguay\",\"Uruguay\",\"Uruguay\",\"Uruguay\",\"Uruguay\",\"Uruguay\",\"Uruguay\",\"Uruguay\",\"Uruguay\",\"Uruguay\",\"Uzbekistan\",\"Uzbekistan\",\"Uzbekistan\",\"Uzbekistan\",\"Uzbekistan\",\"Uzbekistan\",\"Uzbekistan\",\"Uzbekistan\",\"Uzbekistan\",\"Uzbekistan\",\"Uzbekistan\",\"Uzbekistan\",\"Uzbekistan\",\"Uzbekistan\",\"Uzbekistan\",\"Uzbekistan\",\"Uzbekistan\",\"Uzbekistan\",\"Uzbekistan\",\"Uzbekistan\",\"Uzbekistan\",\"Vanuatu\",\"Vanuatu\",\"Vanuatu\",\"Vanuatu\",\"Vanuatu\",\"Vanuatu\",\"Vanuatu\",\"Vanuatu\",\"Vanuatu\",\"Vanuatu\",\"Vanuatu\",\"Vanuatu\",\"Vanuatu\",\"Vanuatu\",\"Vanuatu\",\"Vanuatu\",\"Vanuatu\",\"Vanuatu\",\"Vanuatu\",\"Vanuatu\",\"Vanuatu\",\"Yemen\",\"Yemen\",\"Yemen\",\"Yemen\",\"Yemen\",\"Yemen\",\"Yemen\",\"Yemen\",\"Yemen\",\"Yemen\",\"Yemen\",\"Yemen\",\"Yemen\",\"Yemen\",\"Yemen\",\"Yemen\",\"Yemen\",\"Yemen\",\"Yemen\",\"Yemen\",\"Yemen\",\"Zambia\",\"Zambia\",\"Zambia\",\"Zambia\",\"Zambia\",\"Zambia\",\"Zambia\",\"Zambia\",\"Zambia\",\"Zambia\",\"Zambia\",\"Zambia\",\"Zambia\",\"Zambia\",\"Zambia\",\"Zambia\",\"Zambia\",\"Zambia\",\"Zambia\",\"Zambia\",\"Zambia\",\"Zimbabwe\",\"Zimbabwe\",\"Zimbabwe\",\"Zimbabwe\",\"Zimbabwe\",\"Zimbabwe\",\"Zimbabwe\",\"Zimbabwe\",\"Zimbabwe\",\"Zimbabwe\",\"Zimbabwe\",\"Zimbabwe\",\"Zimbabwe\",\"Zimbabwe\",\"Zimbabwe\",\"Zimbabwe\",\"Zimbabwe\",\"Zimbabwe\",\"Zimbabwe\",\"Zimbabwe\",\"Zimbabwe\"],\"Value\":{\"__ndarray__\":\"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\",\"dtype\":\"float64\",\"shape\":[3423]},\"index\":[0,1,2,3,4,5,6,7,8,9,10,11,12,13,14,15,16,17,18,19,20,21,22,23,24,25,26,27,28,29,30,31,32,33,34,35,36,37,38,39,40,41,42,43,44,45,46,47,48,49,50,51,52,53,54,55,56,57,58,59,60,61,62,63,64,65,66,67,68,69,70,71,72,73,74,75,76,77,78,79,80,81,82,83,84,85,86,87,88,89,90,91,92,93,94,95,96,97,98,99,100,101,102,103,104,105,106,107,108,109,110,111,112,113,114,115,116,117,118,119,120,121,122,123,124,125,126,127,128,129,130,131,132,133,134,135,136,137,138,139,140,141,142,143,144,145,146,147,148,149,150,151,152,153,154,155,156,157,158,159,160,161,162,163,164,165,166,167,168,169,170,171,172,173,174,175,176,177,178,179,180,181,182,183,184,185,186,187,188,189,190,191,192,193,194,195,196,197,198,199,200,201,202,203,204,205,206,207,208,209,210,211,212,213,214,215,216,217,218,219,220,221,222,223,224,225,226,227,228,229,230,231,232,233,234,235,236,237,238,239,240,241,242,243,244,245,246,247,248,249,250,251,252,253,254,255,256,257,258,259,260,261,262,263,264,265,266,267,268,269,270,271,272,273,274,275,276,277,278,279,280,281,282,283,284,285,286,287,288,289,290,291,292,293,294,295,296,297,298,299,300,301,302,303,304,305,306,307,308,309,310,311,312,313,314,315,316,317,318,319,320,321,322,323,324,325,326,327,328,329,330,331,332,333,334,335,336,337,338,339,340,341,342,343,344,345,346,347,348,349,350,351,352,353,354,355,356,357,358,359,360,361,362,363,364,365,366,367,368,369,370,371,372,373,374,375,376,377,378,379,380,381,382,383,384,385,386,387,388,389,390,391,392,393,394,395,396,397,398,399,400,401,402,403,404,405,406,407,408,409,410,411,412,413,414,415,416,417,418,419,420,421,422,423,424,425,426,427,428,429,430,431,432,433,434,435,436,437,438,439,440,441,442,443,444,445,446,447,448,449,450,451,452,453,454,455,456,457,458,459,460,461,462,463,464,465,466,467,468,469,470,471,472,473,474,475,476,477,478,479,480,481,482,483,484,485,486,487,488,489,490,491,492,493,494,495,496,497,498,499,500,501,502,503,504,505,506,507,508,509,510,511,512,513,514,515,516,517,518,519,520,521,522,523,524,525,526,527,528,529,530,531,532,533,534,535,536,537,538,539,540,541,542,543,544,545,546,547,548,549,550,551,552,553,554,555,556,557,558,559,560,561,562,563,564,565,566,567,568,569,570,571,572,573,574,575,576,577,578,579,580,581,582,583,584,585,586,587,588,589,590,591,592,593,594,595,596,597,598,599,600,601,602,603,604,605,606,607,608,609,610,611,612,613,614,615,616,617,618,619,620,621,622,623,624,625,626,627,628,629,630,631,632,633,634,635,636,637,638,639,640,641,642,643,644,645,646,647,648,649,650,651,652,653,654,655,656,657,658,659,660,661,662,663,664,665,666,667,668,669,670,671,672,673,674,675,676,677,678,679,680,681,682,683,684,685,686,687,688,689,690,691,692,693,694,695,696,697,698,699,700,701,702,703,704,705,706,707,708,709,710,711,712,713,714,715,716,717,718,719,720,721,722,723,724,725,726,727,728,729,730,731,732,733,734,735,736,737,738,739,740,741,742,743,744,745,746,747,748,749,750,751,752,753,754,755,756,757,758,759,760,761,762,763,764,765,766,767,768,769,770,771,772,773,774,775,776,777,778,779,780,781,782,783,784,785,786,787,788,789,790,791,792,793,794,795,796,797,798,799,800,801,802,803,804,805,806,807,808,809,810,811,812,813,814,815,816,817,818,819,820,821,822,823,824,825,826,827,828,829,830,831,832,833,834,835,836,837,838,839,840,841,842,843,844,845,846,847,848,849,850,851,852,853,854,855,856,857,858,859,860,861,862,863,864,865,866,867,868,869,870,871,872,873,874,875,876,877,878,879,880,881,882,883,884,885,886,887,888,889,890,891,892,893,894,895,896,897,898,899,900,901,902,903,904,905,906,907,908,909,910,911,912,913,914,915,916,917,918,919,920,921,922,923,924,925,926,927,928,929,930,931,932,933,934,935,936,937,938,939,940,941,942,943,944,945,946,947,948,949,950,951,952,953,954,955,956,957,958,959,960,961,962,963,964,965,966,967,968,969,970,971,972,973,974,975,976,977,978,979,980,981,982,983,984,985,986,987,988,989,990,991,992,993,994,995,996,997,998,999,1000,1001,1002,1003,1004,1005,1006,1007,1008,1009,1010,1011,1012,1013,1014,1015,1016,1017,1018,1019,1020,1021,1022,1023,1024,1025,1026,1027,1028,1029,1030,1031,1032,1033,1034,1035,1036,1037,1038,1039,1040,1041,1042,1043,1044,1045,1046,1047,1048,1049,1050,1051,1052,1053,1054,1055,1056,1057,1058,1059,1060,1061,1062,1063,1064,1065,1066,1067,1068,1069,1070,1071,1072,1073,1074,1075,1076,1077,1078,1079,1080,1081,1082,1083,1084,1085,1086,1087,1088,1089,1090,1091,1092,1093,1094,1095,1096,1097,1098,1099,1100,1101,1102,1103,1104,1105,1106,1107,1108,1109,1110,1111,1112,1113,1114,1115,1116,1117,1118,1119,1120,1121,1122,1123,1124,1125,1126,1127,1128,1129,1130,1131,1132,1133,1134,1135,1136,1137,1138,1139,1140,1141,1142,1143,1144,1145,1146,1147,1148,1149,1150,1151,1152,1153,1154,1155,1156,1157,1158,1159,1160,1161,1162,1163,1164,1165,1166,1167,1168,1169,1170,1171,1172,1173,1174,1175,1176,1177,1178,1179,1180,1181,1182,1183,1184,1185,1186,1187,1188,1189,1190,1191,1192,1193,1194,1195,1196,1197,1198,1199,1200,1201,1202,1203,1204,1205,1206,1207,1208,1209,1210,1211,1212,1213,1214,1215,1216,1217,1218,1219,1220,1221,1222,1223,1224,1225,1226,1227,1228,1229,1230,1231,1232,1233,1234,1235,1236,1237,1238,1239,1240,1241,1242,1243,1244,1245,1246,1247,1248,1249,1250,1251,1252,1253,1254,1255,1256,1257,1258,1259,1260,1261,1262,1263,1264,1265,1266,1267,1268,1269,1270,1271,1272,1273,1274,1275,1276,1277,1278,1279,1280,1281,1282,1283,1284,1285,1286,1287,1288,1289,1290,1291,1292,1293,1294,1295,1296,1297,1298,1299,1300,1301,1302,1303,1304,1305,1306,1307,1308,1309,1310,1311,1312,1313,1314,1315,1316,1317,1318,1319,1320,1321,1322,1323,1324,1325,1326,1327,1328,1329,1330,1331,1332,1333,1334,1335,1336,1337,1338,1339,1340,1341,1342,1343,1344,1345,1346,1347,1348,1349,1350,1351,1352,1353,1354,1355,1356,1357,1358,1359,1360,1361,1362,1363,1364,1365,1366,1367,1368,1369,1370,1371,1372,1373,1374,1375,1376,1377,1378,1379,1380,1381,1382,1383,1384,1385,1386,1387,1388,1389,1390,1391,1392,1393,1394,1395,1396,1397,1398,1399,1400,1401,1402,1403,1404,1405,1406,1407,1408,1409,1410,1411,1412,1413,1414,1415,1416,1417,1418,1419,1420,1421,1422,1423,1424,1425,1426,1427,1428,1429,1430,1431,1432,1433,1434,1435,1436,1437,1438,1439,1440,1441,1442,1443,1444,1445,1446,1447,1448,1449,1450,1451,1452,1453,1454,1455,1456,1457,1458,1459,1460,1461,1462,1463,1464,1465,1466,1467,1468,1469,1470,1471,1472,1473,1474,1475,1476,1477,1478,1479,1480,1481,1482,1483,1484,1485,1486,1487,1488,1489,1490,1491,1492,1493,1494,1495,1496,1497,1498,1499,1500,1501,1502,1503,1504,1505,1506,1507,1508,1509,1510,1511,1512,1513,1514,1515,1516,1517,1518,1519,1520,1521,1522,1523,1524,1525,1526,1527,1528,1529,1530,1531,1532,1533,1534,1535,1536,1537,1538,1539,1540,1541,1542,1543,1544,1545,1546,1547,1548,1549,1550,1551,1552,1553,1554,1555,1556,1557,1558,1559,1560,1561,1562,1563,1564,1565,1566,1567,1568,1569,1570,1571,1572,1573,1574,1575,1576,1577,1578,1579,1580,1581,1582,1583,1584,1585,1586,1587,1588,1589,1590,1591,1592,1593,1594,1595,1596,1597,1598,1599,1600,1601,1602,1603,1604,1605,1606,1607,1608,1609,1610,1611,1612,1613,1614,1615,1616,1617,1618,1619,1620,1621,1622,1623,1624,1625,1626,1627,1628,1629,1630,1631,1632,1633,1634,1635,1636,1637,1638,1639,1640,1641,1642,1643,1644,1645,1646,1647,1648,1649,1650,1651,1652,1653,1654,1655,1656,1657,1658,1659,1660,1661,1662,1663,1664,1665,1666,1667,1668,1669,1670,1671,1672,1673,1674,1675,1676,1677,1678,1679,1680,1681,1682,1683,1684,1685,1686,1687,1688,1689,1690,1691,1692,1693,1694,1695,1696,1697,1698,1699,1700,1701,1702,1703,1704,1705,1706,1707,1708,1709,1710,1711,1712,1713,1714,1715,1716,1717,1718,1719,1720,1721,1722,1723,1724,1725,1726,1727,1728,1729,1730,1731,1732,1733,1734,1735,1736,1737,1738,1739,1740,1741,1742,1743,1744,1745,1746,1747,1748,1749,1750,1751,1752,1753,1754,1755,1756,1757,1758,1759,1760,1761,1762,1763,1764,1765,1766,1767,1768,1769,1770,1771,1772,1773,1774,1775,1776,1777,1778,1779,1780,1781,1782,1783,1784,1785,1786,1787,1788,1789,1790,1791,1792,1793,1794,1795,1796,1797,1798,1799,1800,1801,1802,1803,1804,1805,1806,1807,1808,1809,1810,1811,1812,1813,1814,1815,1816,1817,1818,1819,1820,1821,1822,1823,1824,1825,1826,1827,1828,1829,1830,1831,1832,1833,1834,1835,1836,1837,1838,1839,1840,1841,1842,1843,1844,1845,1846,1847,1848,1849,1850,1851,1852,1853,1854,1855,1856,1857,1858,1859,1860,1861,1862,1863,1864,1865,1866,1867,1868,1869,1870,1871,1872,1873,1874,1875,1876,1877,1878,1879,1880,1881,1882,1883,1884,1885,1886,1887,1888,1889,1890,1891,1892,1893,1894,1895,1896,1897,1898,1899,1900,1901,1902,1903,1904,1905,1906,1907,1908,1909,1910,1911,1912,1913,1914,1915,1916,1917,1918,1919,1920,1921,1922,1923,1924,1925,1926,1927,1928,1929,1930,1931,1932,1933,1934,1935,1936,1937,1938,1939,1940,1941,1942,1943,1944,1945,1946,1947,1948,1949,1950,1951,1952,1953,1954,1955,1956,1957,1958,1959,1960,1961,1962,1963,1964,1965,1966,1967,1968,1969,1970,1971,1972,1973,1974,1975,1976,1977,1978,1979,1980,1981,1982,1983,1984,1985,1986,1987,1988,1989,1990,1991,1992,1993,1994,1995,1996,1997,1998,1999,2000,2001,2002,2003,2004,2005,2006,2007,2008,2009,2010,2011,2012,2013,2014,2015,2016,2017,2018,2019,2020,2021,2022,2023,2024,2025,2026,2027,2028,2029,2030,2031,2032,2033,2034,2035,2036,2037,2038,2039,2040,2041,2042,2043,2044,2045,2046,2047,2048,2049,2050,2051,2052,2053,2054,2055,2056,2057,2058,2059,2060,2061,2062,2063,2064,2065,2066,2067,2068,2069,2070,2071,2072,2073,2074,2075,2076,2077,2078,2079,2080,2081,2082,2083,2084,2085,2086,2087,2088,2089,2090,2091,2092,2093,2094,2095,2096,2097,2098,2099,2100,2101,2102,2103,2104,2105,2106,2107,2108,2109,2110,2111,2112,2113,2114,2115,2116,2117,2118,2119,2120,2121,2122,2123,2124,2125,2126,2127,2128,2129,2130,2131,2132,2133,2134,2135,2136,2137,2138,2139,2140,2141,2142,2143,2144,2145,2146,2147,2148,2149,2150,2151,2152,2153,2154,2155,2156,2157,2158,2159,2160,2161,2162,2163,2164,2165,2166,2167,2168,2169,2170,2171,2172,2173,2174,2175,2176,2177,2178,2179,2180,2181,2182,2183,2184,2185,2186,2187,2188,2189,2190,2191,2192,2193,2194,2195,2196,2197,2198,2199,2200,2201,2202,2203,2204,2205,2206,2207,2208,2209,2210,2211,2212,2213,2214,2215,2216,2217,2218,2219,2220,2221,2222,2223,2224,2225,2226,2227,2228,2229,2230,2231,2232,2233,2234,2235,2236,2237,2238,2239,2240,2241,2242,2243,2244,2245,2246,2247,2248,2249,2250,2251,2252,2253,2254,2255,2256,2257,2258,2259,2260,2261,2262,2263,2264,2265,2266,2267,2268,2269,2270,2271,2272,2273,2274,2275,2276,2277,2278,2279,2280,2281,2282,2283,2284,2285,2286,2287,2288,2289,2290,2291,2292,2293,2294,2295,2296,2297,2298,2299,2300,2301,2302,2303,2304,2305,2306,2307,2308,2309,2310,2311,2312,2313,2314,2315,2316,2317,2318,2319,2320,2321,2322,2323,2324,2325,2326,2327,2328,2329,2330,2331,2332,2333,2334,2335,2336,2337,2338,2339,2340,2341,2342,2343,2344,2345,2346,2347,2348,2349,2350,2351,2352,2353,2354,2355,2356,2357,2358,2359,2360,2361,2362,2363,2364,2365,2366,2367,2368,2369,2370,2371,2372,2373,2374,2375,2376,2377,2378,2379,2380,2381,2382,2383,2384,2385,2386,2387,2388,2389,2390,2391,2392,2393,2394,2395,2396,2397,2398,2399,2400,2401,2402,2403,2404,2405,2406,2407,2408,2409,2410,2411,2412,2413,2414,2415,2416,2417,2418,2419,2420,2421,2422,2423,2424,2425,2426,2427,2428,2429,2430,2431,2432,2433,2434,2435,2436,2437,2438,2439,2440,2441,2442,2443,2444,2445,2446,2447,2448,2449,2450,2451,2452,2453,2454,2455,2456,2457,2458,2459,2460,2461,2462,2463,2464,2465,2466,2467,2468,2469,2470,2471,2472,2473,2474,2475,2476,2477,2478,2479,2480,2481,2482,2483,2484,2485,2486,2487,2488,2489,2490,2491,2492,2493,2494,2495,2496,2497,2498,2499,2500,2501,2502,2503,2504,2505,2506,2507,2508,2509,2510,2511,2512,2513,2514,2515,2516,2517,2518,2519,2520,2521,2522,2523,2524,2525,2526,2527,2528,2529,2530,2531,2532,2533,2534,2535,2536,2537,2538,2539,2540,2541,2542,2543,2544,2545,2546,2547,2548,2549,2550,2551,2552,2553,2554,2555,2556,2557,2558,2559,2560,2561,2562,2563,2564,2565,2566,2567,2568,2569,2570,2571,2572,2573,2574,2575,2576,2577,2578,2579,2580,2581,2582,2583,2584,2585,2586,2587,2588,2589,2590,2591,2592,2593,2594,2595,2596,2597,2598,2599,2600,2601,2602,2603,2604,2605,2606,2607,2608,2609,2610,2611,2612,2613,2614,2615,2616,2617,2618,2619,2620,2621,2622,2623,2624,2625,2626,2627,2628,2629,2630,2631,2632,2633,2634,2635,2636,2637,2638,2639,2640,2641,2642,2643,2644,2645,2646,2647,2648,2649,2650,2651,2652,2653,2654,2655,2656,2657,2658,2659,2660,2661,2662,2663,2664,2665,2666,2667,2668,2669,2670,2671,2672,2673,2674,2675,2676,2677,2678,2679,2680,2681,2682,2683,2684,2685,2686,2687,2688,2689,2690,2691,2692,2693,2694,2695,2696,2697,2698,2699,2700,2701,2702,2703,2704,2705,2706,2707,2708,2709,2710,2711,2712,2713,2714,2715,2716,2717,2718,2719,2720,2721,2722,2723,2724,2725,2726,2727,2728,2729,2730,2731,2732,2733,2734,2735,2736,2737,2738,2739,2740,2741,2742,2743,2744,2745,2746,2747,2748,2749,2750,2751,2752,2753,2754,2755,2756,2757,2758,2759,2760,2761,2762,2763,2764,2765,2766,2767,2768,2769,2770,2771,2772,2773,2774,2775,2776,2777,2778,2779,2780,2781,2782,2783,2784,2785,2786,2787,2788,2789,2790,2791,2792,2793,2794,2795,2796,2797,2798,2799,2800,2801,2802,2803,2804,2805,2806,2807,2808,2809,2810,2811,2812,2813,2814,2815,2816,2817,2818,2819,2820,2821,2822,2823,2824,2825,2826,2827,2828,2829,2830,2831,2832,2833,2834,2835,2836,2837,2838,2839,2840,2841,2842,2843,2844,2845,2846,2847,2848,2849,2850,2851,2852,2853,2854,2855,2856,2857,2858,2859,2860,2861,2862,2863,2864,2865,2866,2867,2868,2869,2870,2871,2872,2873,2874,2875,2876,2877,2878,2879,2880,2881,2882,2883,2884,2885,2886,2887,2888,2889,2890,2891,2892,2893,2894,2895,2896,2897,2898,2899,2900,2901,2902,2903,2904,2905,2906,2907,2908,2909,2910,2911,2912,2913,2914,2915,2916,2917,2918,2919,2920,2921,2922,2923,2924,2925,2926,2927,2928,2929,2930,2931,2932,2933,2934,2935,2936,2937,2938,2939,2940,2941,2942,2943,2944,2945,2946,2947,2948,2949,2950,2951,2952,2953,2954,2955,2956,2957,2958,2959,2960,2961,2962,2963,2964,2965,2966,2967,2968,2969,2970,2971,2972,2973,2974,2975,2976,2977,2978,2979,2980,2981,2982,2983,2984,2985,2986,2987,2988,2989,2990,2991,2992,2993,2994,2995,2996,2997,2998,2999,3000,3001,3002,3003,3004,3005,3006,3007,3008,3009,3010,3011,3012,3013,3014,3015,3016,3017,3018,3019,3020,3021,3022,3023,3024,3025,3026,3027,3028,3029,3030,3031,3032,3033,3034,3035,3036,3037,3038,3039,3040,3041,3042,3043,3044,3045,3046,3047,3048,3049,3050,3051,3052,3053,3054,3055,3056,3057,3058,3059,3060,3061,3062,3063,3064,3065,3066,3067,3068,3069,3070,3071,3072,3073,3074,3075,3076,3077,3078,3079,3080,3081,3082,3083,3084,3085,3086,3087,3088,3089,3090,3091,3092,3093,3094,3095,3096,3097,3098,3099,3100,3101,3102,3103,3104,3105,3106,3107,3108,3109,3110,3111,3112,3113,3114,3115,3116,3117,3118,3119,3120,3121,3122,3123,3124,3125,3126,3127,3128,3129,3130,3131,3132,3133,3134,3135,3136,3137,3138,3139,3140,3141,3142,3143,3144,3145,3146,3147,3148,3149,3150,3151,3152,3153,3154,3155,3156,3157,3158,3159,3160,3161,3162,3163,3164,3165,3166,3167,3168,3169,3170,3171,3172,3173,3174,3175,3176,3177,3178,3179,3180,3181,3182,3183,3184,3185,3186,3187,3188,3189,3190,3191,3192,3193,3194,3195,3196,3197,3198,3199,3200,3201,3202,3203,3204,3205,3206,3207,3208,3209,3210,3211,3212,3213,3214,3215,3216,3217,3218,3219,3220,3221,3222,3223,3224,3225,3226,3227,3228,3229,3230,3231,3232,3233,3234,3235,3236,3237,3238,3239,3240,3241,3242,3243,3244,3245,3246,3247,3248,3249,3250,3251,3252,3253,3254,3255,3256,3257,3258,3259,3260,3261,3262,3263,3264,3265,3266,3267,3268,3269,3270,3271,3272,3273,3274,3275,3276,3277,3278,3279,3280,3281,3282,3283,3284,3285,3286,3287,3288,3289,3290,3291,3292,3293,3294,3295,3296,3297,3298,3299,3300,3301,3302,3303,3304,3305,3306,3307,3308,3309,3310,3311,3312,3313,3314,3315,3316,3317,3318,3319,3320,3321,3322,3323,3324,3325,3326,3327,3328,3329,3330,3331,3332,3333,3334,3335,3336,3337,3338,3339,3340,3341,3342,3343,3344,3345,3346,3347,3348,3349,3350,3351,3352,3353,3354,3355,3356,3357,3358,3359,3360,3361,3362,3363,3364,3365,3366,3367,3368,3369,3370,3371,3372,3373,3374,3375,3376,3377,3378,3379,3380,3381,3382,3383,3384,3385,3386,3387,3388,3389,3390,3391,3392,3393,3394,3395,3396,3397,3398,3399,3400,3401,3402,3403,3404,3405,3406,3407,3408,3409,3410,3411,3412,3413,3414,3415,3416,3417,3418,3419,3420,3421,3422]}},\"id\":\"48fb7f6a-f086-4c25-9836-35b67625f5ac\",\"type\":\"ColumnDataSource\"},{\"attributes\":{},\"id\":\"93d90364-0207-4867-a25b-38e146e0b708\",\"type\":\"CategoricalTicker\"},{\"attributes\":{\"data_source\":{\"id\":\"f7a43a08-c56d-4070-a6b4-ad1711ad39d8\",\"type\":\"ColumnDataSource\"},\"glyph\":{\"id\":\"dc990bfa-6082-4037-a327-839c9e2809c6\",\"type\":\"Circle\"},\"hover_glyph\":null,\"muted_glyph\":null,\"nonselection_glyph\":{\"id\":\"7009d212-46d6-4219-98cd-326f50a5c65a\",\"type\":\"Circle\"},\"selection_glyph\":null,\"view\":{\"id\":\"98bf5109-ca37-4b17-baa7-f2360961d430\",\"type\":\"CDSView\"}},\"id\":\"1ad80903-ca0a-4f19-bc1a-b283d72633e4\",\"type\":\"GlyphRenderer\"},{\"attributes\":{},\"id\":\"47c74456-90b8-4846-93c0-784711a2633f\",\"type\":\"WheelZoomTool\"},{\"attributes\":{},\"id\":\"cf202b56-bbaf-429e-9248-3135430ad13e\",\"type\":\"ResetTool\"},{\"attributes\":{},\"id\":\"c2bbf1db-0d52-4ff1-bfd4-3e9dad8b0caf\",\"type\":\"CategoricalTickFormatter\"},{\"attributes\":{},\"id\":\"5175e0ec-95aa-4d88-95ec-8953f50fd947\",\"type\":\"BasicTickFormatter\"},{\"attributes\":{\"range\":{\"id\":\"109ee993-4490-4324-bef2-b8b7b000be7d\",\"type\":\"FactorRange\"},\"width\":0.7},\"id\":\"b1a3f99e-637d-4a71-9139-70b2cefcc496\",\"type\":\"Jitter\"},{\"attributes\":{\"callback\":null,\"column_names\":[\"Location\",\"AgeGrp\",\"Value\",\"index\"],\"data\":{\"AgeGrp\":[\"0-4\",\"10-14\",\"100+\",\"15-19\",\"20-24\",\"25-29\",\"30-34\",\"35-39\",\"40-44\",\"45-49\",\"5-9\",\"50-54\",\"55-59\",\"60-64\",\"65-69\",\"70-74\",\"75-79\",\"80-84\",\"85-89\",\"90-94\",\"95-99\"],\"Location\":[\"Japan\",\"Japan\",\"Japan\",\"Japan\",\"Japan\",\"Japan\",\"Japan\",\"Japan\",\"Japan\",\"Japan\",\"Japan\",\"Japan\",\"Japan\",\"Japan\",\"Japan\",\"Japan\",\"Japan\",\"Japan\",\"Japan\",\"Japan\",\"Japan\"],\"Value\":{\"__ndarray__\":\"AAAAwMhYVkEAAAAAZu1YQQAAAAAADsVAAAAAgFOKXEEAAACg9wJgQQAAAIC8qGJBAAAAIF+QYEEAAAAAoLFeQQAAAAB4iF1BAAAAwNoHYUEAAAAA3NtWQQAAACBJumNBAAAAQJ6BYEEAAACAEUZdQQAAAEDLy1pBAAAAAMo4VkEAAACA/yVPQQAAAABXYkNBAAAAAP+FNkEAAAAAyhYgQQAAAABgGvtA\",\"dtype\":\"float64\",\"shape\":[21]},\"index\":[1596,1597,1598,1599,1600,1601,1602,1603,1604,1605,1606,1607,1608,1609,1610,1611,1612,1613,1614,1615,1616]}},\"id\":\"f7a43a08-c56d-4070-a6b4-ad1711ad39d8\",\"type\":\"ColumnDataSource\"},{\"attributes\":{\"bottom_units\":\"screen\",\"fill_alpha\":{\"value\":0.5},\"fill_color\":{\"value\":\"lightgrey\"},\"left_units\":\"screen\",\"level\":\"overlay\",\"line_alpha\":{\"value\":1.0},\"line_color\":{\"value\":\"black\"},\"line_dash\":[4,4],\"line_width\":{\"value\":2},\"plot\":null,\"render_mode\":\"css\",\"right_units\":\"screen\",\"top_units\":\"screen\"},\"id\":\"ec8d6eb0-7a6b-4fbc-9a64-fe294a1cf1ee\",\"type\":\"BoxAnnotation\"},{\"attributes\":{\"plot\":{\"id\":\"4d059ee2-2d87-4b8f-9f36-3eaadc73a26a\",\"subtype\":\"Figure\",\"type\":\"Plot\"},\"ticker\":{\"id\":\"3291c80f-1167-436e-b305-d261e6ae1502\",\"type\":\"BasicTicker\"}},\"id\":\"c509ed14-78fd-4511-ad3a-096b2f208165\",\"type\":\"Grid\"},{\"attributes\":{\"formatter\":{\"id\":\"5175e0ec-95aa-4d88-95ec-8953f50fd947\",\"type\":\"BasicTickFormatter\"},\"plot\":{\"id\":\"4d059ee2-2d87-4b8f-9f36-3eaadc73a26a\",\"subtype\":\"Figure\",\"type\":\"Plot\"},\"ticker\":{\"id\":\"3291c80f-1167-436e-b305-d261e6ae1502\",\"type\":\"BasicTicker\"}},\"id\":\"a2d26de4-8c41-4018-bb08-9c2522047bbf\",\"type\":\"LinearAxis\"},{\"attributes\":{},\"id\":\"9c6bc661-615b-4758-b71c-c0fd5cc156d3\",\"type\":\"CategoricalScale\"},{\"attributes\":{\"fill_color\":{\"value\":\"Gold\"},\"line_color\":{\"value\":\"Gold\"},\"size\":{\"units\":\"screen\",\"value\":10},\"x\":{\"field\":\"Value\"},\"y\":{\"field\":\"AgeGrp\",\"transform\":{\"id\":\"b1a3f99e-637d-4a71-9139-70b2cefcc496\",\"type\":\"Jitter\"}}},\"id\":\"1170f271-832d-4095-90b3-bdf70cf6e1d4\",\"type\":\"Circle\"},{\"attributes\":{\"fill_alpha\":{\"value\":0.1},\"fill_color\":{\"value\":\"#1f77b4\"},\"line_alpha\":{\"value\":0.1},\"line_color\":{\"value\":\"#1f77b4\"},\"size\":{\"units\":\"screen\",\"value\":10},\"x\":{\"field\":\"Value\"},\"y\":{\"field\":\"AgeGrp\",\"transform\":{\"id\":\"630a0b1b-0661-462f-998e-d1360a3c0feb\",\"type\":\"Jitter\"}}},\"id\":\"7009d212-46d6-4219-98cd-326f50a5c65a\",\"type\":\"Circle\"},{\"attributes\":{},\"id\":\"81e72f07-5041-4ac5-8ddb-e97fd31a8102\",\"type\":\"LinearScale\"},{\"attributes\":{\"overlay\":{\"id\":\"ec8d6eb0-7a6b-4fbc-9a64-fe294a1cf1ee\",\"type\":\"BoxAnnotation\"}},\"id\":\"4392127a-dde4-49a9-9faf-54e409d07523\",\"type\":\"BoxZoomTool\"},{\"attributes\":{\"range\":{\"id\":\"109ee993-4490-4324-bef2-b8b7b000be7d\",\"type\":\"FactorRange\"},\"width\":0.7},\"id\":\"6bcc5bb2-1097-4b46-a812-f739e49cc6ef\",\"type\":\"Jitter\"}],\"root_ids\":[\"4d059ee2-2d87-4b8f-9f36-3eaadc73a26a\"]},\"title\":\"Bokeh Application\",\"version\":\"0.12.13\"}};\n",
       "  var render_items = [{\"docid\":\"9422afb8-be01-4247-9a0f-2ab5861e9123\",\"elementid\":\"ca53df7f-110e-4be1-bfc6-881d8dd37d41\",\"modelid\":\"4d059ee2-2d87-4b8f-9f36-3eaadc73a26a\"}];\n",
       "  root.Bokeh.embed.embed_items_notebook(docs_json, render_items);\n",
       "\n",
       "  }\n",
       "  if (root.Bokeh !== undefined) {\n",
       "    embed_document(root);\n",
       "  } else {\n",
       "    var attempts = 0;\n",
       "    var timer = setInterval(function(root) {\n",
       "      if (root.Bokeh !== undefined) {\n",
       "        embed_document(root);\n",
       "        clearInterval(timer);\n",
       "      }\n",
       "      attempts++;\n",
       "      if (attempts > 100) {\n",
       "        console.log(\"Bokeh: ERROR: Unable to run BokehJS code because BokehJS library is missing\")\n",
       "        clearInterval(timer);\n",
       "      }\n",
       "    }, 10, root)\n",
       "  }\n",
       "})(window);"
      ],
      "application/vnd.bokehjs_exec.v0+json": ""
     },
     "metadata": {
      "application/vnd.bokehjs_exec.v0+json": {
       "id": "4d059ee2-2d87-4b8f-9f36-3eaadc73a26a"
      }
     },
     "output_type": "display_data"
    }
   ],
   "source": [
    "from bokeh.transform import jitter # Use jitter to deal with category information\n",
    "\n",
    "# Create CDS for Japan, Brazil, and all countries \n",
    "jap_2000 = ColumnDataSource(world_2000_data[world_2000_data['Location']=='Japan'])\n",
    "brz_2000 = ColumnDataSource(world_2000_data[world_2000_data['Location']=='Brazil'])\n",
    "world_2000 = ColumnDataSource(world_2000_data)\n",
    "\n",
    "# Create figure\n",
    "cat_sca = figure(plot_width=900, plot_height=500, y_range=age_group, title=\"Japan & Brazil Population Age Distribution in 2000\")\n",
    "\n",
    "# Create scatter plot for Japan, Brazil, and all countries\n",
    "# The y-axis is the age group, and the x-axis shows population valuesfor different age groups\n",
    "cat_sca.circle(x='Value', y=jitter('AgeGrp', width = 0.7, range = cat_sca.y_range), source = jap_2000, color = 'Coral',size=10)\n",
    "cat_sca.circle(x='Value', y=jitter('AgeGrp', width = 0.7, range = cat_sca.y_range), source = brz_2000, color = 'Gold',size=10)\n",
    "cat_sca.circle(x='Value', y=jitter('AgeGrp', width = 0.7, range = cat_sca.y_range), source = world_2000, alpha=0.2)\n",
    "\n",
    "#padding between y-axis and plot\n",
    "cat_sca.x_range.range_padding=0\n",
    "\n",
    "show(cat_sca)"
   ]
  },
  {
   "cell_type": "markdown",
   "metadata": {},
   "source": [
    "As is shown above, Japan (orange) and Brazil (yellow) repectively show different population distribution for age groups. Japan has a relatively higher proportion of senior population, so Japanese society is likely to face problems like aged population. However, the Brazil population is inversely proportional to the age.\n",
    "\n",
    "Also, you can see the worlds population distribution for different age groups, you may be able to recognize distribution for some countries with large population, such as China and India."
   ]
  },
  {
   "cell_type": "markdown",
   "metadata": {},
   "source": [
    "## 6. Interactive Tools\n",
    "Bokeh has many interactive tools. This part will introduce some useful and handy interactive tools"
   ]
  },
  {
   "cell_type": "markdown",
   "metadata": {},
   "source": [
    "### 6.1 Basic Interactive Tools\n",
    "\n",
    "<b> (1) Hover Tools </b>: this tool allow aditional information to be displayed in a pop-up manner when hovring in the plot.\n",
    "    \n",
    "<b> (2) Selection and Nonselection </b>: this allow users to select datapoint in the plot and change the styles of selected and unselected parts."
   ]
  },
  {
   "cell_type": "markdown",
   "metadata": {},
   "source": [
    "This section will apply these basic tools to visualize the world popualtion in 2000."
   ]
  },
  {
   "cell_type": "code",
   "execution_count": 63,
   "metadata": {},
   "outputs": [
    {
     "data": {
      "text/html": [
       "<div>\n",
       "<style scoped>\n",
       "    .dataframe tbody tr th:only-of-type {\n",
       "        vertical-align: middle;\n",
       "    }\n",
       "\n",
       "    .dataframe tbody tr th {\n",
       "        vertical-align: top;\n",
       "    }\n",
       "\n",
       "    .dataframe thead th {\n",
       "        text-align: right;\n",
       "    }\n",
       "</style>\n",
       "<table border=\"1\" class=\"dataframe\">\n",
       "  <thead>\n",
       "    <tr style=\"text-align: right;\">\n",
       "      <th></th>\n",
       "      <th></th>\n",
       "      <th>Value</th>\n",
       "    </tr>\n",
       "    <tr>\n",
       "      <th>Year</th>\n",
       "      <th>Location</th>\n",
       "      <th></th>\n",
       "    </tr>\n",
       "  </thead>\n",
       "  <tbody>\n",
       "    <tr>\n",
       "      <th rowspan=\"5\" valign=\"top\">2000</th>\n",
       "      <th>Afghanistan</th>\n",
       "      <td>20595360.0</td>\n",
       "    </tr>\n",
       "    <tr>\n",
       "      <th>Albania</th>\n",
       "      <td>3304948.0</td>\n",
       "    </tr>\n",
       "    <tr>\n",
       "      <th>Algeria</th>\n",
       "      <td>31719449.0</td>\n",
       "    </tr>\n",
       "    <tr>\n",
       "      <th>Angola</th>\n",
       "      <td>13924930.0</td>\n",
       "    </tr>\n",
       "    <tr>\n",
       "      <th>Argentina</th>\n",
       "      <td>36903067.0</td>\n",
       "    </tr>\n",
       "  </tbody>\n",
       "</table>\n",
       "</div>"
      ],
      "text/plain": [
       "                       Value\n",
       "Year Location               \n",
       "2000 Afghanistan  20595360.0\n",
       "     Albania       3304948.0\n",
       "     Algeria      31719449.0\n",
       "     Angola       13924930.0\n",
       "     Argentina    36903067.0"
      ]
     },
     "execution_count": 63,
     "metadata": {},
     "output_type": "execute_result"
    }
   ],
   "source": [
    "# Get world population for year 2000\n",
    "basic_data = data[data['Year']==2000][['Location','Year','Value']].groupby(['Year','Location']).sum()\n",
    "basic = basic_data.Value.tolist() #population\n",
    "country_x = basic_data.index.levels[1].tolist() #country name\n",
    "basic_data.head()"
   ]
  },
  {
   "cell_type": "code",
   "execution_count": 101,
   "metadata": {},
   "outputs": [
    {
     "data": {
      "text/html": [
       "\n",
       "<div class=\"bk-root\">\n",
       "    <div class=\"bk-plotdiv\" id=\"6cc3e9e7-ff5f-488d-9eb2-14e430556d52\"></div>\n",
       "</div>"
      ]
     },
     "metadata": {},
     "output_type": "display_data"
    },
    {
     "data": {
      "application/javascript": [
       "(function(root) {\n",
       "  function embed_document(root) {\n",
       "    \n",
       "  var docs_json = {\"fbb4382b-dbcf-463e-88fb-b461d4333646\":{\"roots\":{\"references\":[{\"attributes\":{},\"id\":\"146fa330-99ec-4477-b7f8-a49323305ed8\",\"type\":\"CategoricalTicker\"},{\"attributes\":{\"callback\":null,\"factors\":[\"Afghanistan\",\"Albania\",\"Algeria\",\"Angola\",\"Argentina\",\"Armenia\",\"Australia\",\"Austria\",\"Azerbaijan\",\"Bahamas\",\"Bahrain\",\"Bangladesh\",\"Barbados\",\"Belarus\",\"Belgium\",\"Belize\",\"Benin\",\"Bhutan\",\"Botswana\",\"Brazil\",\"Brunei Darussalam\",\"Bulgaria\",\"Burkina Faso\",\"Burundi\",\"Cambodia\",\"Cameroon\",\"Canada\",\"Cape Verde\",\"Central African Republic\",\"Chad\",\"Chile\",\"China\",\"Colombia\",\"Comoros\",\"Congo\",\"Costa Rica\",\"Croatia\",\"Cuba\",\"Cyprus\",\"Czech Republic\",\"Democratic Republic of the Congo\",\"Denmark\",\"Djibouti\",\"Dominican Republic\",\"Ecuador\",\"Egypt\",\"El Salvador\",\"Equatorial Guinea\",\"Eritrea\",\"Estonia\",\"Ethiopia\",\"Fiji\",\"Finland\",\"France\",\"Gabon\",\"Gambia\",\"Georgia\",\"Germany\",\"Ghana\",\"Greece\",\"Grenada\",\"Guatemala\",\"Guinea\",\"Guinea-Bissau\",\"Guyana\",\"Haiti\",\"Honduras\",\"Hungary\",\"Iceland\",\"India\",\"Indonesia\",\"Iraq\",\"Ireland\",\"Israel\",\"Italy\",\"Jamaica\",\"Japan\",\"Jordan\",\"Kazakhstan\",\"Kenya\",\"Kiribati\",\"Kuwait\",\"Kyrgyzstan\",\"Latvia\",\"Lebanon\",\"Lesotho\",\"Liberia\",\"Libya\",\"Lithuania\",\"Luxembourg\",\"Madagascar\",\"Malawi\",\"Malaysia\",\"Maldives\",\"Mali\",\"Malta\",\"Mauritania\",\"Mauritius\",\"Mexico\",\"Micronesia\",\"Mongolia\",\"Montenegro\",\"Morocco\",\"Mozambique\",\"Namibia\",\"Nepal\",\"Netherlands\",\"New Zealand\",\"Nicaragua\",\"Niger\",\"Nigeria\",\"Norway\",\"Oman\",\"Pakistan\",\"Panama\",\"Papua New Guinea\",\"Paraguay\",\"Peru\",\"Philippines\",\"Poland\",\"Portugal\",\"Qatar\",\"Romania\",\"Rwanda\",\"Samoa\",\"Saudi Arabia\",\"Senegal\",\"Serbia\",\"Seychelles\",\"Sierra Leone\",\"Singapore\",\"Slovakia\",\"Slovenia\",\"Solomon Islands\",\"Somalia\",\"South Africa\",\"South Sudan\",\"Spain\",\"Sri Lanka\",\"Sudan\",\"Suriname\",\"Swaziland\",\"Sweden\",\"Switzerland\",\"Tajikistan\",\"Thailand\",\"Timor-Leste\",\"Togo\",\"Tonga\",\"Tunisia\",\"Turkey\",\"Turkmenistan\",\"Uganda\",\"Ukraine\",\"United Arab Emirates\",\"United Kingdom\",\"United States of America\",\"Uruguay\",\"Uzbekistan\",\"Vanuatu\",\"Yemen\",\"Zambia\",\"Zimbabwe\"]},\"id\":\"c72a693e-3636-44db-9111-9def3bb961db\",\"type\":\"FactorRange\"},{\"attributes\":{\"fill_color\":{\"value\":\"Teal\"},\"line_color\":{\"value\":\"#1f77b4\"},\"size\":{\"units\":\"screen\",\"value\":10},\"x\":{\"field\":\"Location\"},\"y\":{\"field\":\"Value\"}},\"id\":\"73d5f401-01a3-431b-9ff4-fac2de15e2b6\",\"type\":\"Circle\"},{\"attributes\":{\"source\":{\"id\":\"bbc37445-ea5e-4b3e-af62-1045733f12d5\",\"type\":\"ColumnDataSource\"}},\"id\":\"a59d2c5d-f4d4-47e9-868a-bac88b183df8\",\"type\":\"CDSView\"},{\"attributes\":{\"fill_alpha\":{\"value\":0.2},\"fill_color\":{\"value\":\"#1f77b4\"},\"line_color\":{\"value\":\"#1f77b4\"},\"size\":{\"units\":\"screen\",\"value\":10},\"x\":{\"field\":\"Location\"},\"y\":{\"field\":\"Value\"}},\"id\":\"c23192c3-880f-407b-833f-d72dcbd4f7d1\",\"type\":\"Circle\"},{\"attributes\":{\"plot\":null,\"text\":\"2000 World Population\"},\"id\":\"c3e14b58-4803-4166-8135-c66e7e6f7bd5\",\"type\":\"Title\"},{\"attributes\":{\"callback\":null},\"id\":\"e072b622-36b2-4dfc-ab48-18f4c0d81a05\",\"type\":\"DataRange1d\"},{\"attributes\":{},\"id\":\"3707b533-4a84-4ada-957f-a4699b66d6e9\",\"type\":\"BasicTickFormatter\"},{\"attributes\":{\"active_drag\":\"auto\",\"active_inspect\":\"auto\",\"active_scroll\":\"auto\",\"active_tap\":\"auto\",\"tools\":[{\"id\":\"d68c05c7-5c1b-440b-a275-ba319ae99236\",\"type\":\"TapTool\"},{\"id\":\"ea0a3500-ab77-4bc4-bea8-c079a668b839\",\"type\":\"HoverTool\"}]},\"id\":\"9eb68246-4139-4d93-98f2-d31fbe4827f7\",\"type\":\"Toolbar\"},{\"attributes\":{\"data_source\":{\"id\":\"78cbf6c8-1b0f-44e9-9929-4692dbe3e6ea\",\"type\":\"ColumnDataSource\"},\"glyph\":{\"id\":\"c23192c3-880f-407b-833f-d72dcbd4f7d1\",\"type\":\"Circle\"},\"hover_glyph\":{\"id\":\"0394c31c-5203-41ff-ba55-c3f4c0df0e9d\",\"type\":\"Circle\"},\"muted_glyph\":null,\"nonselection_glyph\":{\"id\":\"9a53c03d-b92a-460f-90ee-41c4e6ae76c6\",\"type\":\"Circle\"},\"selection_glyph\":{\"id\":\"73d5f401-01a3-431b-9ff4-fac2de15e2b6\",\"type\":\"Circle\"},\"view\":{\"id\":\"bb1fa72b-4ff7-4a83-a57e-c23713e86454\",\"type\":\"CDSView\"}},\"id\":\"12f041f1-4459-48b5-8c30-7ca9afc6b752\",\"type\":\"GlyphRenderer\"},{\"attributes\":{\"fill_alpha\":{\"value\":0.5},\"fill_color\":{\"value\":\"Crimson\"},\"line_alpha\":{\"value\":0.5},\"line_color\":{\"value\":\"#1f77b4\"},\"size\":{\"units\":\"screen\",\"value\":10},\"x\":{\"field\":\"Location\"},\"y\":{\"field\":\"Value\"}},\"id\":\"0394c31c-5203-41ff-ba55-c3f4c0df0e9d\",\"type\":\"Circle\"},{\"attributes\":{\"line_alpha\":0.1,\"line_color\":\"#1f77b4\",\"line_dash\":[4],\"x\":{\"field\":\"x\"},\"y\":{\"field\":\"y\"}},\"id\":\"0d0bad32-0d83-4623-bea9-4b04366e4dde\",\"type\":\"Line\"},{\"attributes\":{\"line_color\":\"grey\",\"line_dash\":[4],\"x\":{\"field\":\"x\"},\"y\":{\"field\":\"y\"}},\"id\":\"567dee61-b064-421b-9e48-ea05df9ce7fc\",\"type\":\"Line\"},{\"attributes\":{},\"id\":\"98d59b20-2b80-4258-915a-5e139de3a9b6\",\"type\":\"LinearScale\"},{\"attributes\":{\"below\":[{\"id\":\"e7456b0b-fe42-4a5a-9684-3ab522d73b8d\",\"type\":\"CategoricalAxis\"}],\"left\":[{\"id\":\"01899b19-b113-4e60-96bb-7a9ade2d4b2f\",\"type\":\"LinearAxis\"}],\"plot_width\":1000,\"renderers\":[{\"id\":\"e7456b0b-fe42-4a5a-9684-3ab522d73b8d\",\"type\":\"CategoricalAxis\"},{\"id\":\"16dafee8-6315-4717-9e9f-596815b42127\",\"type\":\"Grid\"},{\"id\":\"01899b19-b113-4e60-96bb-7a9ade2d4b2f\",\"type\":\"LinearAxis\"},{\"id\":\"c825d336-a5b1-4d50-9f17-6457bcc174af\",\"type\":\"Grid\"},{\"id\":\"8220db5b-ab9b-4308-b5a8-e1e80386b9c0\",\"type\":\"GlyphRenderer\"},{\"id\":\"12f041f1-4459-48b5-8c30-7ca9afc6b752\",\"type\":\"GlyphRenderer\"}],\"title\":{\"id\":\"c3e14b58-4803-4166-8135-c66e7e6f7bd5\",\"type\":\"Title\"},\"toolbar\":{\"id\":\"9eb68246-4139-4d93-98f2-d31fbe4827f7\",\"type\":\"Toolbar\"},\"x_range\":{\"id\":\"c72a693e-3636-44db-9111-9def3bb961db\",\"type\":\"FactorRange\"},\"x_scale\":{\"id\":\"6813aff8-6515-4c80-89bb-b458c77b2f80\",\"type\":\"CategoricalScale\"},\"y_range\":{\"id\":\"e072b622-36b2-4dfc-ab48-18f4c0d81a05\",\"type\":\"DataRange1d\"},\"y_scale\":{\"id\":\"98d59b20-2b80-4258-915a-5e139de3a9b6\",\"type\":\"LinearScale\"}},\"id\":\"22af339d-5966-44a4-adf7-234319760200\",\"subtype\":\"Figure\",\"type\":\"Plot\"},{\"attributes\":{},\"id\":\"0aa263c7-bcc1-4664-aeb7-b11c6c6288d1\",\"type\":\"BasicTicker\"},{\"attributes\":{\"formatter\":{\"id\":\"3707b533-4a84-4ada-957f-a4699b66d6e9\",\"type\":\"BasicTickFormatter\"},\"plot\":{\"id\":\"22af339d-5966-44a4-adf7-234319760200\",\"subtype\":\"Figure\",\"type\":\"Plot\"},\"ticker\":{\"id\":\"0aa263c7-bcc1-4664-aeb7-b11c6c6288d1\",\"type\":\"BasicTicker\"}},\"id\":\"01899b19-b113-4e60-96bb-7a9ade2d4b2f\",\"type\":\"LinearAxis\"},{\"attributes\":{\"source\":{\"id\":\"78cbf6c8-1b0f-44e9-9929-4692dbe3e6ea\",\"type\":\"ColumnDataSource\"}},\"id\":\"bb1fa72b-4ff7-4a83-a57e-c23713e86454\",\"type\":\"CDSView\"},{\"attributes\":{\"data_source\":{\"id\":\"bbc37445-ea5e-4b3e-af62-1045733f12d5\",\"type\":\"ColumnDataSource\"},\"glyph\":{\"id\":\"567dee61-b064-421b-9e48-ea05df9ce7fc\",\"type\":\"Line\"},\"hover_glyph\":null,\"muted_glyph\":null,\"nonselection_glyph\":{\"id\":\"0d0bad32-0d83-4623-bea9-4b04366e4dde\",\"type\":\"Line\"},\"selection_glyph\":null,\"view\":{\"id\":\"a59d2c5d-f4d4-47e9-868a-bac88b183df8\",\"type\":\"CDSView\"}},\"id\":\"8220db5b-ab9b-4308-b5a8-e1e80386b9c0\",\"type\":\"GlyphRenderer\"},{\"attributes\":{\"band_fill_alpha\":{\"value\":0.5},\"band_fill_color\":{\"value\":\"Snow\"},\"dimension\":1,\"plot\":{\"id\":\"22af339d-5966-44a4-adf7-234319760200\",\"subtype\":\"Figure\",\"type\":\"Plot\"},\"ticker\":{\"id\":\"0aa263c7-bcc1-4664-aeb7-b11c6c6288d1\",\"type\":\"BasicTicker\"}},\"id\":\"c825d336-a5b1-4d50-9f17-6457bcc174af\",\"type\":\"Grid\"},{\"attributes\":{\"fill_alpha\":{\"value\":0.1},\"fill_color\":{\"value\":\"grey\"},\"line_alpha\":{\"value\":0.1},\"line_color\":{\"value\":\"#1f77b4\"},\"size\":{\"units\":\"screen\",\"value\":10},\"x\":{\"field\":\"Location\"},\"y\":{\"field\":\"Value\"}},\"id\":\"9a53c03d-b92a-460f-90ee-41c4e6ae76c6\",\"type\":\"Circle\"},{\"attributes\":{\"callback\":null,\"column_names\":[\"Location\",\"Value\"],\"data\":{\"Location\":[\"Afghanistan\",\"Albania\",\"Algeria\",\"Angola\",\"Argentina\",\"Armenia\",\"Australia\",\"Austria\",\"Azerbaijan\",\"Bahamas\",\"Bahrain\",\"Bangladesh\",\"Barbados\",\"Belarus\",\"Belgium\",\"Belize\",\"Benin\",\"Bhutan\",\"Botswana\",\"Brazil\",\"Brunei Darussalam\",\"Bulgaria\",\"Burkina Faso\",\"Burundi\",\"Cambodia\",\"Cameroon\",\"Canada\",\"Cape Verde\",\"Central African Republic\",\"Chad\",\"Chile\",\"China\",\"Colombia\",\"Comoros\",\"Congo\",\"Costa Rica\",\"Croatia\",\"Cuba\",\"Cyprus\",\"Czech Republic\",\"Democratic Republic of the Congo\",\"Denmark\",\"Djibouti\",\"Dominican Republic\",\"Ecuador\",\"Egypt\",\"El Salvador\",\"Equatorial Guinea\",\"Eritrea\",\"Estonia\",\"Ethiopia\",\"Fiji\",\"Finland\",\"France\",\"Gabon\",\"Gambia\",\"Georgia\",\"Germany\",\"Ghana\",\"Greece\",\"Grenada\",\"Guatemala\",\"Guinea\",\"Guinea-Bissau\",\"Guyana\",\"Haiti\",\"Honduras\",\"Hungary\",\"Iceland\",\"India\",\"Indonesia\",\"Iraq\",\"Ireland\",\"Israel\",\"Italy\",\"Jamaica\",\"Japan\",\"Jordan\",\"Kazakhstan\",\"Kenya\",\"Kiribati\",\"Kuwait\",\"Kyrgyzstan\",\"Latvia\",\"Lebanon\",\"Lesotho\",\"Liberia\",\"Libya\",\"Lithuania\",\"Luxembourg\",\"Madagascar\",\"Malawi\",\"Malaysia\",\"Maldives\",\"Mali\",\"Malta\",\"Mauritania\",\"Mauritius\",\"Mexico\",\"Micronesia\",\"Mongolia\",\"Montenegro\",\"Morocco\",\"Mozambique\",\"Namibia\",\"Nepal\",\"Netherlands\",\"New Zealand\",\"Nicaragua\",\"Niger\",\"Nigeria\",\"Norway\",\"Oman\",\"Pakistan\",\"Panama\",\"Papua New Guinea\",\"Paraguay\",\"Peru\",\"Philippines\",\"Poland\",\"Portugal\",\"Qatar\",\"Romania\",\"Rwanda\",\"Samoa\",\"Saudi Arabia\",\"Senegal\",\"Serbia\",\"Seychelles\",\"Sierra Leone\",\"Singapore\",\"Slovakia\",\"Slovenia\",\"Solomon Islands\",\"Somalia\",\"South Africa\",\"South Sudan\",\"Spain\",\"Sri Lanka\",\"Sudan\",\"Suriname\",\"Swaziland\",\"Sweden\",\"Switzerland\",\"Tajikistan\",\"Thailand\",\"Timor-Leste\",\"Togo\",\"Tonga\",\"Tunisia\",\"Turkey\",\"Turkmenistan\",\"Uganda\",\"Ukraine\",\"United Arab Emirates\",\"United Kingdom\",\"United States of America\",\"Uruguay\",\"Uzbekistan\",\"Vanuatu\",\"Yemen\",\"Zambia\",\"Zimbabwe\"],\"Value\":[20595360.0,3304948.0,31719449.0,13924930.0,36903067.0,3076098.0,19259377.0,8020262.0,8117742.0,297759.0,668239.0,132383265.0,267190.0,9981460.0,10268380.0,238586.0,6949366.0,564350.0,1755375.0,174504898.0,331801.0,8000510.0,11607944.0,6674286.0,12222871.0,15927713.0,30697425.0,442426.0,3638316.0,8301151.0,15454402.0,1280428583.0,39897984.0,528312.0,3126204.0,3929588.0,4475201.0,11138416.0,943287.0,10250398.0,46949244.0,5338283.0,722887.0,8663421.0,12533087.0,66136590.0,5958794.0,518179.0,3939348.0,1366117.0,66024199.0,811647.0,5176482.0,59213096.0,1225527.0,1228863.0,4743591.0,83512459.0,18825034.0,10986883.0,101620.0,11204183.0,8746128.0,1273312.0,744471.0,8578234.0,6235561.0,10224113.0,281214.0,1042261758.0,208938698.0,23801156.0,3803741.0,6013711.0,56986085.0,2582219.0,125714674.0,4767476.0,14575644.0,31285050.0,82788.0,1906231.0,4954850.0,2371481.0,3235380.0,1856225.0,2891968.0,5176185.0,3498446.0,436111.0,15744811.0,11321496.0,23420751.0,272745.0,10260577.0,407529.0,2708095.0,1185143.0,103873607.0,495357.0,2397473.0,611196.0,28710123.0,18275618.0,1897953.0,23184177.0,15859863.0,3858032.0,5100920.0,10989815.0,122876727.0,4491572.0,2192535.0,143832014.0,3054812.0,5379226.0,5350253.0,26000080.0,77651848.0,38351437.0,10306192.0,593693.0,22388354.0,8395577.0,174614.0,20144584.0,9861679.0,10272445.0,79774.0,4139757.0,3918189.0,5388010.0,1989545.0,412336.0,7385416.0,44846286.0,6652984.0,40282828.0,18846401.0,27729798.0,466668.0,1063715.0,8872284.0,7165581.0,6186152.0,62343379.0,853585.0,4864753.0,97962.0,9552776.0,63174483.0,4501419.0,24275641.0,49057226.0,3026352.0,58951444.0,284594395.0,3320841.0,24828562.0,185058.0,17522537.0,10100981.0,12503652.0]}},\"id\":\"78cbf6c8-1b0f-44e9-9929-4692dbe3e6ea\",\"type\":\"ColumnDataSource\"},{\"attributes\":{\"callback\":null,\"mode\":\"hline\",\"renderers\":[{\"id\":\"12f041f1-4459-48b5-8c30-7ca9afc6b752\",\"type\":\"GlyphRenderer\"}],\"tooltips\":\"\\n<div>\\n    <span style=\\\"font-size: 15px;\\\">Country: @Location</span>&nbsp;\\n</div>\\n<div style=\\\"font-size: 11px; color: #680;\\\">Population: @{Value}</div>\\n\"},\"id\":\"ea0a3500-ab77-4bc4-bea8-c079a668b839\",\"type\":\"HoverTool\"},{\"attributes\":{},\"id\":\"6813aff8-6515-4c80-89bb-b458c77b2f80\",\"type\":\"CategoricalScale\"},{\"attributes\":{},\"id\":\"a0fa20f1-8302-4eb5-bd35-31a9ea5d2662\",\"type\":\"CategoricalTickFormatter\"},{\"attributes\":{\"callback\":null,\"column_names\":[\"x\",\"y\"],\"data\":{\"x\":[\"Afghanistan\",\"Albania\",\"Algeria\",\"Angola\",\"Argentina\",\"Armenia\",\"Australia\",\"Austria\",\"Azerbaijan\",\"Bahamas\",\"Bahrain\",\"Bangladesh\",\"Barbados\",\"Belarus\",\"Belgium\",\"Belize\",\"Benin\",\"Bhutan\",\"Botswana\",\"Brazil\",\"Brunei Darussalam\",\"Bulgaria\",\"Burkina Faso\",\"Burundi\",\"Cambodia\",\"Cameroon\",\"Canada\",\"Cape Verde\",\"Central African Republic\",\"Chad\",\"Chile\",\"China\",\"Colombia\",\"Comoros\",\"Congo\",\"Costa Rica\",\"Croatia\",\"Cuba\",\"Cyprus\",\"Czech Republic\",\"Democratic Republic of the Congo\",\"Denmark\",\"Djibouti\",\"Dominican Republic\",\"Ecuador\",\"Egypt\",\"El Salvador\",\"Equatorial Guinea\",\"Eritrea\",\"Estonia\",\"Ethiopia\",\"Fiji\",\"Finland\",\"France\",\"Gabon\",\"Gambia\",\"Georgia\",\"Germany\",\"Ghana\",\"Greece\",\"Grenada\",\"Guatemala\",\"Guinea\",\"Guinea-Bissau\",\"Guyana\",\"Haiti\",\"Honduras\",\"Hungary\",\"Iceland\",\"India\",\"Indonesia\",\"Iraq\",\"Ireland\",\"Israel\",\"Italy\",\"Jamaica\",\"Japan\",\"Jordan\",\"Kazakhstan\",\"Kenya\",\"Kiribati\",\"Kuwait\",\"Kyrgyzstan\",\"Latvia\",\"Lebanon\",\"Lesotho\",\"Liberia\",\"Libya\",\"Lithuania\",\"Luxembourg\",\"Madagascar\",\"Malawi\",\"Malaysia\",\"Maldives\",\"Mali\",\"Malta\",\"Mauritania\",\"Mauritius\",\"Mexico\",\"Micronesia\",\"Mongolia\",\"Montenegro\",\"Morocco\",\"Mozambique\",\"Namibia\",\"Nepal\",\"Netherlands\",\"New Zealand\",\"Nicaragua\",\"Niger\",\"Nigeria\",\"Norway\",\"Oman\",\"Pakistan\",\"Panama\",\"Papua New Guinea\",\"Paraguay\",\"Peru\",\"Philippines\",\"Poland\",\"Portugal\",\"Qatar\",\"Romania\",\"Rwanda\",\"Samoa\",\"Saudi Arabia\",\"Senegal\",\"Serbia\",\"Seychelles\",\"Sierra Leone\",\"Singapore\",\"Slovakia\",\"Slovenia\",\"Solomon Islands\",\"Somalia\",\"South Africa\",\"South Sudan\",\"Spain\",\"Sri Lanka\",\"Sudan\",\"Suriname\",\"Swaziland\",\"Sweden\",\"Switzerland\",\"Tajikistan\",\"Thailand\",\"Timor-Leste\",\"Togo\",\"Tonga\",\"Tunisia\",\"Turkey\",\"Turkmenistan\",\"Uganda\",\"Ukraine\",\"United Arab Emirates\",\"United Kingdom\",\"United States of America\",\"Uruguay\",\"Uzbekistan\",\"Vanuatu\",\"Yemen\",\"Zambia\",\"Zimbabwe\"],\"y\":[20595360.0,3304948.0,31719449.0,13924930.0,36903067.0,3076098.0,19259377.0,8020262.0,8117742.0,297759.0,668239.0,132383265.0,267190.0,9981460.0,10268380.0,238586.0,6949366.0,564350.0,1755375.0,174504898.0,331801.0,8000510.0,11607944.0,6674286.0,12222871.0,15927713.0,30697425.0,442426.0,3638316.0,8301151.0,15454402.0,1280428583.0,39897984.0,528312.0,3126204.0,3929588.0,4475201.0,11138416.0,943287.0,10250398.0,46949244.0,5338283.0,722887.0,8663421.0,12533087.0,66136590.0,5958794.0,518179.0,3939348.0,1366117.0,66024199.0,811647.0,5176482.0,59213096.0,1225527.0,1228863.0,4743591.0,83512459.0,18825034.0,10986883.0,101620.0,11204183.0,8746128.0,1273312.0,744471.0,8578234.0,6235561.0,10224113.0,281214.0,1042261758.0,208938698.0,23801156.0,3803741.0,6013711.0,56986085.0,2582219.0,125714674.0,4767476.0,14575644.0,31285050.0,82788.0,1906231.0,4954850.0,2371481.0,3235380.0,1856225.0,2891968.0,5176185.0,3498446.0,436111.0,15744811.0,11321496.0,23420751.0,272745.0,10260577.0,407529.0,2708095.0,1185143.0,103873607.0,495357.0,2397473.0,611196.0,28710123.0,18275618.0,1897953.0,23184177.0,15859863.0,3858032.0,5100920.0,10989815.0,122876727.0,4491572.0,2192535.0,143832014.0,3054812.0,5379226.0,5350253.0,26000080.0,77651848.0,38351437.0,10306192.0,593693.0,22388354.0,8395577.0,174614.0,20144584.0,9861679.0,10272445.0,79774.0,4139757.0,3918189.0,5388010.0,1989545.0,412336.0,7385416.0,44846286.0,6652984.0,40282828.0,18846401.0,27729798.0,466668.0,1063715.0,8872284.0,7165581.0,6186152.0,62343379.0,853585.0,4864753.0,97962.0,9552776.0,63174483.0,4501419.0,24275641.0,49057226.0,3026352.0,58951444.0,284594395.0,3320841.0,24828562.0,185058.0,17522537.0,10100981.0,12503652.0]}},\"id\":\"bbc37445-ea5e-4b3e-af62-1045733f12d5\",\"type\":\"ColumnDataSource\"},{\"attributes\":{\"callback\":null},\"id\":\"d68c05c7-5c1b-440b-a275-ba319ae99236\",\"type\":\"TapTool\"},{\"attributes\":{\"grid_line_color\":{\"value\":null},\"plot\":{\"id\":\"22af339d-5966-44a4-adf7-234319760200\",\"subtype\":\"Figure\",\"type\":\"Plot\"},\"ticker\":{\"id\":\"146fa330-99ec-4477-b7f8-a49323305ed8\",\"type\":\"CategoricalTicker\"}},\"id\":\"16dafee8-6315-4717-9e9f-596815b42127\",\"type\":\"Grid\"},{\"attributes\":{\"formatter\":{\"id\":\"a0fa20f1-8302-4eb5-bd35-31a9ea5d2662\",\"type\":\"CategoricalTickFormatter\"},\"plot\":{\"id\":\"22af339d-5966-44a4-adf7-234319760200\",\"subtype\":\"Figure\",\"type\":\"Plot\"},\"ticker\":{\"id\":\"146fa330-99ec-4477-b7f8-a49323305ed8\",\"type\":\"CategoricalTicker\"},\"visible\":false},\"id\":\"e7456b0b-fe42-4a5a-9684-3ab522d73b8d\",\"type\":\"CategoricalAxis\"}],\"root_ids\":[\"22af339d-5966-44a4-adf7-234319760200\"]},\"title\":\"Bokeh Application\",\"version\":\"0.12.13\"}};\n",
       "  var render_items = [{\"docid\":\"fbb4382b-dbcf-463e-88fb-b461d4333646\",\"elementid\":\"6cc3e9e7-ff5f-488d-9eb2-14e430556d52\",\"modelid\":\"22af339d-5966-44a4-adf7-234319760200\"}];\n",
       "  root.Bokeh.embed.embed_items_notebook(docs_json, render_items);\n",
       "\n",
       "  }\n",
       "  if (root.Bokeh !== undefined) {\n",
       "    embed_document(root);\n",
       "  } else {\n",
       "    var attempts = 0;\n",
       "    var timer = setInterval(function(root) {\n",
       "      if (root.Bokeh !== undefined) {\n",
       "        embed_document(root);\n",
       "        clearInterval(timer);\n",
       "      }\n",
       "      attempts++;\n",
       "      if (attempts > 100) {\n",
       "        console.log(\"Bokeh: ERROR: Unable to run BokehJS code because BokehJS library is missing\")\n",
       "        clearInterval(timer);\n",
       "      }\n",
       "    }, 10, root)\n",
       "  }\n",
       "})(window);"
      ],
      "application/vnd.bokehjs_exec.v0+json": ""
     },
     "metadata": {
      "application/vnd.bokehjs_exec.v0+json": {
       "id": "22af339d-5966-44a4-adf7-234319760200"
      }
     },
     "output_type": "display_data"
    }
   ],
   "source": [
    "from bokeh.models.tools import HoverTool # hover tool\n",
    "from bokeh.models import FactorRange# axis setting for categorical data\n",
    "\n",
    "# create figure, choose tap as tools\n",
    "basic_interx = figure(x_range=FactorRange(*country_x), width=1000, height=600, tools = \"tap\", title=\"2000 World Population\")\n",
    "\n",
    "# create line plot for world population\n",
    "basic_interx.line(country_x,basic, line_dash=\"4\",line_width=1,color='grey')\n",
    "\n",
    "# create dot plot for world population with selection features\n",
    "basic_cr = basic_interx.circle('Location','Value',source = ColumnDataSource(data={\"Location\":country_x,\"Value\":basic}), size=10, \n",
    "                               hover_fill_color = 'Crimson', fill_alpha = 0.2, hover_alpha = 0.5,\n",
    "                             selection_fill_color = 'Teal', nonselection_fill_color = 'grey')\n",
    "\n",
    "# Add hover tool with customized tooltips\n",
    "# This tooltip will show detailed information for a country when hovering over a circle.\n",
    "# The tooltips is a more advanced interactive feature, but still easy to use\n",
    "tt = \"\"\"\n",
    "<div>\n",
    "    <span style=\"font-size: 15px;\">Country: @Location</span>&nbsp;\n",
    "</div>\n",
    "<div style=\"font-size: 11px; color: #680;\">Population: @{Value}</div>\n",
    "\"\"\"\n",
    "basic_interx.add_tools(HoverTool(tooltips=tt, renderers=[basic_cr], mode='hline'))\n",
    "\n",
    "# background grid style setting\n",
    "basic_interx.xgrid.grid_line_color=None\n",
    "basic_interx.ygrid.band_fill_alpha=0.5\n",
    "basic_interx.ygrid.band_fill_color='Snow'\n",
    "\n",
    "# hide the x axis\n",
    "basic_interx.xaxis.visible = False\n",
    "\n",
    "show(basic_interx)"
   ]
  },
  {
   "cell_type": "markdown",
   "metadata": {},
   "source": [
    "Now you can play with the interactive visualization above. When you hover over a circle, there will be a list showing detailed information for this country(or together with other countries with similar population value). What's more, you can click on a circle, then other circle's color will become grey.\n"
   ]
  },
  {
   "cell_type": "markdown",
   "metadata": {},
   "source": [
    "### 6.2 Widgets\n",
    "Widget is Bokeh's another powerful weapon for interaction, especially when combined with CustomJS models and callbacks. This section will introduce some basic widgets, for more information you can check [Adding Widgets](http://bokeh.pydata.org/en/latest/docs/user_guide/interaction.html#adding-widgets)."
   ]
  },
  {
   "cell_type": "markdown",
   "metadata": {},
   "source": [
    "<b> (1) Basic Widgets"
   ]
  },
  {
   "cell_type": "code",
   "execution_count": 93,
   "metadata": {},
   "outputs": [
    {
     "data": {
      "text/html": [
       "\n",
       "<div class=\"bk-root\">\n",
       "    <div class=\"bk-plotdiv\" id=\"e08bf503-1c3c-4f4c-8468-3d1efca3351a\"></div>\n",
       "</div>"
      ]
     },
     "metadata": {},
     "output_type": "display_data"
    },
    {
     "data": {
      "application/javascript": [
       "(function(root) {\n",
       "  function embed_document(root) {\n",
       "    \n",
       "  var docs_json = {\"866bcd1e-e327-4fec-ae1a-e21468766e4a\":{\"roots\":{\"references\":[{\"attributes\":{\"button_type\":\"warning\",\"callback\":null,\"icon\":null,\"label\":\"button\"},\"id\":\"239ecc32-f0f3-4426-9522-6684babec7eb\",\"type\":\"Button\"},{\"attributes\":{\"children\":[{\"id\":\"9534d2d7-543a-480a-aedf-7ae6fed09a5e\",\"type\":\"WidgetBox\"},{\"id\":\"f7639865-d66c-4687-b743-c54cb9c5faa5\",\"type\":\"WidgetBox\"}]},\"id\":\"86df470c-c523-4761-8458-ec790b61b35f\",\"type\":\"Row\"},{\"attributes\":{\"button_type\":\"success\",\"callback\":null,\"icon\":null,\"menu\":[[\"2000\",\"1st year\"],[\"2005\",\"2nd year\"],[\"2010\",\"3rd year\"]]},\"id\":\"514fae30-39d5-4843-a3a8-6dfd55c9bf83\",\"type\":\"Dropdown\"},{\"attributes\":{\"children\":[{\"id\":\"514fae30-39d5-4843-a3a8-6dfd55c9bf83\",\"type\":\"Dropdown\"},{\"id\":\"9b4bf0bb-dead-4179-ab36-1a141c7dbab5\",\"type\":\"MultiSelect\"},{\"id\":\"e52c2b28-ecbc-4bd0-b7da-5b6a8b729bf0\",\"type\":\"Div\"}]},\"id\":\"f7639865-d66c-4687-b743-c54cb9c5faa5\",\"type\":\"WidgetBox\"},{\"attributes\":{\"active\":[0],\"callback\":null,\"labels\":[\"2000\",\"2005\",\"2010\"]},\"id\":\"21b6b070-3a00-4981-aa8e-6eea48c16d24\",\"type\":\"CheckboxGroup\"},{\"attributes\":{\"callback\":null,\"end\":5,\"start\":0,\"step\":0.1,\"title\":\"Slider\",\"value\":1},\"id\":\"6198c41a-ad59-4b13-9ad6-6f4c1fb4ea4d\",\"type\":\"Slider\"},{\"attributes\":{\"callback\":null,\"options\":[[\"Yemen\",\"Y\"],[\"Japan\",\"J\"],[\"Brazil\",\"B\"]],\"title\":\"Multi Selection\"},\"id\":\"9b4bf0bb-dead-4179-ab36-1a141c7dbab5\",\"type\":\"MultiSelect\"},{\"attributes\":{\"callback\":null,\"end\":5,\"start\":0,\"step\":0.1,\"title\":\"Range Slider\",\"value\":[2,3]},\"id\":\"f9631a63-358c-484b-b4ce-cb8836a67387\",\"type\":\"RangeSlider\"},{\"attributes\":{\"height\":100,\"text\":\"More Bokeh <a href=\\\"http://bokeh.pydata.org/en/latest/docs/user_guide/interaction/widgets.html#button\\\">widget</a>\\ncan be found by clicking the \\\"<b>widget</b>\\\".\",\"width\":200},\"id\":\"e52c2b28-ecbc-4bd0-b7da-5b6a8b729bf0\",\"type\":\"Div\"},{\"attributes\":{\"children\":[{\"id\":\"6198c41a-ad59-4b13-9ad6-6f4c1fb4ea4d\",\"type\":\"Slider\"},{\"id\":\"f9631a63-358c-484b-b4ce-cb8836a67387\",\"type\":\"RangeSlider\"},{\"id\":\"239ecc32-f0f3-4426-9522-6684babec7eb\",\"type\":\"Button\"},{\"id\":\"21b6b070-3a00-4981-aa8e-6eea48c16d24\",\"type\":\"CheckboxGroup\"}]},\"id\":\"9534d2d7-543a-480a-aedf-7ae6fed09a5e\",\"type\":\"WidgetBox\"}],\"root_ids\":[\"86df470c-c523-4761-8458-ec790b61b35f\"]},\"title\":\"Bokeh Application\",\"version\":\"0.12.13\"}};\n",
       "  var render_items = [{\"docid\":\"866bcd1e-e327-4fec-ae1a-e21468766e4a\",\"elementid\":\"e08bf503-1c3c-4f4c-8468-3d1efca3351a\",\"modelid\":\"86df470c-c523-4761-8458-ec790b61b35f\"}];\n",
       "  root.Bokeh.embed.embed_items_notebook(docs_json, render_items);\n",
       "\n",
       "  }\n",
       "  if (root.Bokeh !== undefined) {\n",
       "    embed_document(root);\n",
       "  } else {\n",
       "    var attempts = 0;\n",
       "    var timer = setInterval(function(root) {\n",
       "      if (root.Bokeh !== undefined) {\n",
       "        embed_document(root);\n",
       "        clearInterval(timer);\n",
       "      }\n",
       "      attempts++;\n",
       "      if (attempts > 100) {\n",
       "        console.log(\"Bokeh: ERROR: Unable to run BokehJS code because BokehJS library is missing\")\n",
       "        clearInterval(timer);\n",
       "      }\n",
       "    }, 10, root)\n",
       "  }\n",
       "})(window);"
      ],
      "application/vnd.bokehjs_exec.v0+json": ""
     },
     "metadata": {
      "application/vnd.bokehjs_exec.v0+json": {
       "id": "86df470c-c523-4761-8458-ec790b61b35f"
      }
     },
     "output_type": "display_data"
    }
   ],
   "source": [
    "from bokeh.layouts import widgetbox\n",
    "from bokeh.models.widgets import Slider,RangeSlider,Button,CheckboxGroup,Dropdown,MultiSelect,Div\n",
    "\n",
    "# 1. slider\n",
    "slider = Slider(start=0, end=5, value=1, step=.1, title=\"Slider\")\n",
    "\n",
    "# 2. slider for range\n",
    "range_slider = RangeSlider(start=0, end=5, value=(2,3), step=.1, title=\"Range Slider\")\n",
    "\n",
    "# 3. button\n",
    "button = Button(label=\"button\", button_type = 'warning')\n",
    "\n",
    "# 4. checkbox\n",
    "checkbox = CheckboxGroup(labels=[\"2000\", \"2005\", \"2010\"], active=[0])\n",
    "\n",
    "# 5. dropdown menu\n",
    "menu = [(\"2000\", \"1st year\"),(\"2005\", \"2nd year\"),  (\"2010\", \"3rd year\")]\n",
    "dropdown = Dropdown(label=\"Dropdown\", button_type='success', menu=menu)\n",
    "\n",
    "# 6. multiple selection\n",
    "multi_select = MultiSelect(title=\"Multi Selection\", options=[(\"Yemen\", \"Y\"), (\"Japan\", \"J\"), (\"Brazil\", \"B\")])\n",
    "\n",
    "# 7. div\n",
    "div = Div(text=\"\"\"More Bokeh <a href=\"http://bokeh.pydata.org/en/latest/docs/user_guide/interaction/widgets.html#button\">widget</a>\n",
    "can be found by clicking the \"<b>widget</b>\".\"\"\",\n",
    "width=200, height=100)\n",
    "\n",
    "show(row(widgetbox(slider,range_slider,button,checkbox),widgetbox(dropdown,multi_select,div)))"
   ]
  },
  {
   "cell_type": "markdown",
   "metadata": {},
   "source": [
    "<b> (3) Callbacks for Widgets</b>\n",
    "\n",
    "For widgets associated with values (slider tool, for example), you can add JavaScript actions (\"callbacks\") to them with JS code to achieve better interaction. The `CustomJS` object contains the JS codes and can accept a dictionary of args that refer to Bokeh models. It's not easy to write a complicated callback for beginners, here is a simple example."
   ]
  },
  {
   "cell_type": "code",
   "execution_count": 97,
   "metadata": {},
   "outputs": [
    {
     "data": {
      "text/html": [
       "\n",
       "<div class=\"bk-root\">\n",
       "    <div class=\"bk-plotdiv\" id=\"74174b58-04cb-4f0b-9826-131ad0a3394a\"></div>\n",
       "</div>"
      ]
     },
     "metadata": {},
     "output_type": "display_data"
    },
    {
     "data": {
      "application/javascript": [
       "(function(root) {\n",
       "  function embed_document(root) {\n",
       "    \n",
       "  var docs_json = {\"e002da90-fbc3-4a18-9607-7ca84b67162c\":{\"roots\":{\"references\":[{\"attributes\":{\"below\":[{\"id\":\"7268914c-22b2-44a8-a12a-63626a328a4a\",\"type\":\"LinearAxis\"}],\"left\":[{\"id\":\"0b340327-1aa8-485f-a3cc-7a9337fd09c3\",\"type\":\"LinearAxis\"}],\"plot_height\":200,\"plot_width\":300,\"renderers\":[{\"id\":\"7268914c-22b2-44a8-a12a-63626a328a4a\",\"type\":\"LinearAxis\"},{\"id\":\"86a23d95-982d-44cb-aed0-acb0a39ffb06\",\"type\":\"Grid\"},{\"id\":\"0b340327-1aa8-485f-a3cc-7a9337fd09c3\",\"type\":\"LinearAxis\"},{\"id\":\"ae37b373-7e1a-4e9b-b353-2edcd0bba2c2\",\"type\":\"Grid\"},{\"id\":\"96602c59-57fc-432a-8ca9-1ec1af446a19\",\"type\":\"BoxAnnotation\"},{\"id\":\"2552da7d-0137-43c6-942f-cae7b727edab\",\"type\":\"GlyphRenderer\"}],\"title\":{\"id\":\"2f6e7680-e72f-49c8-a439-28d684832594\",\"type\":\"Title\"},\"toolbar\":{\"id\":\"9df31156-148e-4455-9bd3-c85f8ab20980\",\"type\":\"Toolbar\"},\"x_range\":{\"id\":\"d60d77e9-b4f4-4ba3-b9fa-2fd5c99584e2\",\"type\":\"DataRange1d\"},\"x_scale\":{\"id\":\"b13c30a1-b99c-4a4d-8b07-e65446a79bb3\",\"type\":\"LinearScale\"},\"y_range\":{\"id\":\"64d873c0-10dd-48ef-965d-c924b439be24\",\"type\":\"DataRange1d\"},\"y_scale\":{\"id\":\"e608ccd7-cfd8-4242-a885-8641b3151c63\",\"type\":\"LinearScale\"}},\"id\":\"454f583e-4f06-48ce-9113-9ff28b56f89a\",\"subtype\":\"Figure\",\"type\":\"Plot\"},{\"attributes\":{\"formatter\":{\"id\":\"3bf192f0-ddf2-48b8-a06a-e7c323c2488a\",\"type\":\"BasicTickFormatter\"},\"plot\":{\"id\":\"454f583e-4f06-48ce-9113-9ff28b56f89a\",\"subtype\":\"Figure\",\"type\":\"Plot\"},\"ticker\":{\"id\":\"8a6fc57f-59ca-4d48-a0e5-86e618e6ce67\",\"type\":\"BasicTicker\"}},\"id\":\"0b340327-1aa8-485f-a3cc-7a9337fd09c3\",\"type\":\"LinearAxis\"},{\"attributes\":{\"args\":{\"source_a\":{\"id\":\"9d9ef5bd-b020-4aec-b0d0-e9f2673cd20b\",\"type\":\"ColumnDataSource\"},\"source_v\":{\"id\":\"f6db2c50-b370-4a19-8762-aafce9a1777b\",\"type\":\"ColumnDataSource\"}},\"code\":\"\\n        var selected_country = cb_obj.value; // widget value\\n        var data_v = source_v.data; //get data from CDS\\n        var data_a = source_a.data; //get data from CDS\\n        data_v.y = data_a[selected_country]; //change y values\\n        source_v.change.emit(); //change source visible with new y values\\n    \"},\"id\":\"c08eee21-8328-4150-af4f-535b4e393740\",\"type\":\"CustomJS\"},{\"attributes\":{\"line_alpha\":0.6,\"line_color\":\"Khaki\",\"line_width\":3,\"x\":{\"field\":\"x\"},\"y\":{\"field\":\"y\"}},\"id\":\"63f10ec7-6be6-418c-ac15-de7126bcde8d\",\"type\":\"Line\"},{\"attributes\":{},\"id\":\"792681ef-f757-4c36-958b-66294a90249d\",\"type\":\"ResetTool\"},{\"attributes\":{\"plot\":null,\"text\":\"\"},\"id\":\"2f6e7680-e72f-49c8-a439-28d684832594\",\"type\":\"Title\"},{\"attributes\":{\"callback\":{\"id\":\"c08eee21-8328-4150-af4f-535b4e393740\",\"type\":\"CustomJS\"},\"options\":[[\"Thailand\",\"Thailand\"],[\"UK\",\"UK\"]],\"title\":\"Multi Selection\"},\"id\":\"26b0474e-f8d8-409f-84db-0911fbaee507\",\"type\":\"MultiSelect\"},{\"attributes\":{},\"id\":\"e608ccd7-cfd8-4242-a885-8641b3151c63\",\"type\":\"LinearScale\"},{\"attributes\":{\"callback\":null},\"id\":\"d60d77e9-b4f4-4ba3-b9fa-2fd5c99584e2\",\"type\":\"DataRange1d\"},{\"attributes\":{\"callback\":null,\"column_names\":[\"Thailand\",\"UK\"],\"data\":{\"Thailand\":[56582726.0,58983954.0,62343379.0,65559487.0,66402316.0,67400746.0,67857997.0,67899866.0,67554088.0],\"UK\":[57214478.0,57997197.0,58951444.0,60291414.0,62066350.0,63843856.0,65599810.0,67209652.0,68630898.0]}},\"id\":\"9d9ef5bd-b020-4aec-b0d0-e9f2673cd20b\",\"type\":\"ColumnDataSource\"},{\"attributes\":{\"children\":[{\"id\":\"26b0474e-f8d8-409f-84db-0911fbaee507\",\"type\":\"MultiSelect\"}]},\"id\":\"87725c4c-5b66-4957-ac0a-bb0aa2296f25\",\"type\":\"WidgetBox\"},{\"attributes\":{\"active_drag\":\"auto\",\"active_inspect\":\"auto\",\"active_scroll\":\"auto\",\"active_tap\":\"auto\",\"tools\":[{\"id\":\"0a6c38a0-83ec-49f6-be90-288621a9f072\",\"type\":\"PanTool\"},{\"id\":\"29c7dff9-467c-46e7-a62d-9dab6fe22f82\",\"type\":\"WheelZoomTool\"},{\"id\":\"72a15d35-2dd1-438e-882c-7987661e9ae3\",\"type\":\"BoxZoomTool\"},{\"id\":\"bea696c5-283c-47a5-84b2-11f7f2ff9e48\",\"type\":\"SaveTool\"},{\"id\":\"792681ef-f757-4c36-958b-66294a90249d\",\"type\":\"ResetTool\"},{\"id\":\"861b155d-afe3-4254-9465-df5e3ed57155\",\"type\":\"HelpTool\"}]},\"id\":\"9df31156-148e-4455-9bd3-c85f8ab20980\",\"type\":\"Toolbar\"},{\"attributes\":{\"data_source\":{\"id\":\"f6db2c50-b370-4a19-8762-aafce9a1777b\",\"type\":\"ColumnDataSource\"},\"glyph\":{\"id\":\"63f10ec7-6be6-418c-ac15-de7126bcde8d\",\"type\":\"Line\"},\"hover_glyph\":null,\"muted_glyph\":null,\"nonselection_glyph\":{\"id\":\"ef4c0659-c4af-4b4c-b99f-8e57ac5f2185\",\"type\":\"Line\"},\"selection_glyph\":null,\"view\":{\"id\":\"48292019-fc8d-469e-b21c-e9f581cb81ab\",\"type\":\"CDSView\"}},\"id\":\"2552da7d-0137-43c6-942f-cae7b727edab\",\"type\":\"GlyphRenderer\"},{\"attributes\":{\"callback\":null,\"column_names\":[\"x\",\"y\"],\"data\":{\"x\":[1990,1995,2000,2005,2010,2015,2020,2025,2030],\"y\":[56582726.0,58983954.0,62343379.0,65559487.0,66402316.0,67400746.0,67857997.0,67899866.0,67554088.0]}},\"id\":\"f6db2c50-b370-4a19-8762-aafce9a1777b\",\"type\":\"ColumnDataSource\"},{\"attributes\":{},\"id\":\"bea696c5-283c-47a5-84b2-11f7f2ff9e48\",\"type\":\"SaveTool\"},{\"attributes\":{\"formatter\":{\"id\":\"c0396f01-71aa-4128-8016-3f6a1012fc8b\",\"type\":\"BasicTickFormatter\"},\"plot\":{\"id\":\"454f583e-4f06-48ce-9113-9ff28b56f89a\",\"subtype\":\"Figure\",\"type\":\"Plot\"},\"ticker\":{\"id\":\"0eec23e7-e006-4d3a-a4a2-8f11351891d6\",\"type\":\"BasicTicker\"}},\"id\":\"7268914c-22b2-44a8-a12a-63626a328a4a\",\"type\":\"LinearAxis\"},{\"attributes\":{},\"id\":\"c0396f01-71aa-4128-8016-3f6a1012fc8b\",\"type\":\"BasicTickFormatter\"},{\"attributes\":{},\"id\":\"3bf192f0-ddf2-48b8-a06a-e7c323c2488a\",\"type\":\"BasicTickFormatter\"},{\"attributes\":{\"bottom_units\":\"screen\",\"fill_alpha\":{\"value\":0.5},\"fill_color\":{\"value\":\"lightgrey\"},\"left_units\":\"screen\",\"level\":\"overlay\",\"line_alpha\":{\"value\":1.0},\"line_color\":{\"value\":\"black\"},\"line_dash\":[4,4],\"line_width\":{\"value\":2},\"plot\":null,\"render_mode\":\"css\",\"right_units\":\"screen\",\"top_units\":\"screen\"},\"id\":\"96602c59-57fc-432a-8ca9-1ec1af446a19\",\"type\":\"BoxAnnotation\"},{\"attributes\":{\"line_alpha\":0.1,\"line_color\":\"#1f77b4\",\"line_width\":3,\"x\":{\"field\":\"x\"},\"y\":{\"field\":\"y\"}},\"id\":\"ef4c0659-c4af-4b4c-b99f-8e57ac5f2185\",\"type\":\"Line\"},{\"attributes\":{\"callback\":null},\"id\":\"64d873c0-10dd-48ef-965d-c924b439be24\",\"type\":\"DataRange1d\"},{\"attributes\":{},\"id\":\"8a6fc57f-59ca-4d48-a0e5-86e618e6ce67\",\"type\":\"BasicTicker\"},{\"attributes\":{\"dimension\":1,\"plot\":{\"id\":\"454f583e-4f06-48ce-9113-9ff28b56f89a\",\"subtype\":\"Figure\",\"type\":\"Plot\"},\"ticker\":{\"id\":\"8a6fc57f-59ca-4d48-a0e5-86e618e6ce67\",\"type\":\"BasicTicker\"}},\"id\":\"ae37b373-7e1a-4e9b-b353-2edcd0bba2c2\",\"type\":\"Grid\"},{\"attributes\":{\"children\":[{\"id\":\"454f583e-4f06-48ce-9113-9ff28b56f89a\",\"subtype\":\"Figure\",\"type\":\"Plot\"},{\"id\":\"87725c4c-5b66-4957-ac0a-bb0aa2296f25\",\"type\":\"WidgetBox\"}]},\"id\":\"4deba706-4194-4afa-b020-b89275009055\",\"type\":\"Row\"},{\"attributes\":{\"overlay\":{\"id\":\"96602c59-57fc-432a-8ca9-1ec1af446a19\",\"type\":\"BoxAnnotation\"}},\"id\":\"72a15d35-2dd1-438e-882c-7987661e9ae3\",\"type\":\"BoxZoomTool\"},{\"attributes\":{\"plot\":{\"id\":\"454f583e-4f06-48ce-9113-9ff28b56f89a\",\"subtype\":\"Figure\",\"type\":\"Plot\"},\"ticker\":{\"id\":\"0eec23e7-e006-4d3a-a4a2-8f11351891d6\",\"type\":\"BasicTicker\"}},\"id\":\"86a23d95-982d-44cb-aed0-acb0a39ffb06\",\"type\":\"Grid\"},{\"attributes\":{},\"id\":\"0a6c38a0-83ec-49f6-be90-288621a9f072\",\"type\":\"PanTool\"},{\"attributes\":{\"source\":{\"id\":\"f6db2c50-b370-4a19-8762-aafce9a1777b\",\"type\":\"ColumnDataSource\"}},\"id\":\"48292019-fc8d-469e-b21c-e9f581cb81ab\",\"type\":\"CDSView\"},{\"attributes\":{},\"id\":\"29c7dff9-467c-46e7-a62d-9dab6fe22f82\",\"type\":\"WheelZoomTool\"},{\"attributes\":{},\"id\":\"861b155d-afe3-4254-9465-df5e3ed57155\",\"type\":\"HelpTool\"},{\"attributes\":{},\"id\":\"0eec23e7-e006-4d3a-a4a2-8f11351891d6\",\"type\":\"BasicTicker\"},{\"attributes\":{},\"id\":\"b13c30a1-b99c-4a4d-8b07-e65446a79bb3\",\"type\":\"LinearScale\"}],\"root_ids\":[\"4deba706-4194-4afa-b020-b89275009055\"]},\"title\":\"Bokeh Application\",\"version\":\"0.12.13\"}};\n",
       "  var render_items = [{\"docid\":\"e002da90-fbc3-4a18-9607-7ca84b67162c\",\"elementid\":\"74174b58-04cb-4f0b-9826-131ad0a3394a\",\"modelid\":\"4deba706-4194-4afa-b020-b89275009055\"}];\n",
       "  root.Bokeh.embed.embed_items_notebook(docs_json, render_items);\n",
       "\n",
       "  }\n",
       "  if (root.Bokeh !== undefined) {\n",
       "    embed_document(root);\n",
       "  } else {\n",
       "    var attempts = 0;\n",
       "    var timer = setInterval(function(root) {\n",
       "      if (root.Bokeh !== undefined) {\n",
       "        embed_document(root);\n",
       "        clearInterval(timer);\n",
       "      }\n",
       "      attempts++;\n",
       "      if (attempts > 100) {\n",
       "        console.log(\"Bokeh: ERROR: Unable to run BokehJS code because BokehJS library is missing\")\n",
       "        clearInterval(timer);\n",
       "      }\n",
       "    }, 10, root)\n",
       "  }\n",
       "})(window);"
      ],
      "application/vnd.bokehjs_exec.v0+json": ""
     },
     "metadata": {
      "application/vnd.bokehjs_exec.v0+json": {
       "id": "4deba706-4194-4afa-b020-b89275009055"
      }
     },
     "output_type": "display_data"
    }
   ],
   "source": [
    "from bokeh.models import CustomJS\n",
    "\n",
    "# get United Kingdom 1990-2030 population data\n",
    "uk_sum_data = data[data['Location']=='United Kingdom'][['Location','Year','Value']].groupby(['Location','Year']).sum().reset_index()\n",
    "uk_sum = uk_sum_data.Value.tolist()\n",
    "\n",
    "years = list(uk_sum_data.Year)\n",
    "countries = {'Thailand':thai_sum, 'UK':uk_sum}\n",
    "\n",
    "# source visible for diaplaying\n",
    "source_v = ColumnDataSource(data=dict(x=years,y=countries['Thailand']))\n",
    "\n",
    "# source available for choosing as visible data\n",
    "source_a = ColumnDataSource(data=countries)\n",
    "\n",
    "# create line plot for source visible\n",
    "plot = figure(plot_width=300, plot_height=200)\n",
    "plot.line('x', 'y', source=source_v, line_width=3, line_alpha=0.6, color='Khaki')\n",
    "\n",
    "# multiple selecition widget\n",
    "multi_select = MultiSelect(title=\"Multi Selection\", options=[(\"Thailand\", \"Thailand\"), (\"UK\", \"UK\")])\n",
    "\n",
    "# Define CustomJS callback, which updates the plot based on selected country\n",
    "multi_select.callback = CustomJS(\n",
    "    args=dict(source_v=source_v, source_a=source_a), code=\"\"\"\n",
    "        var selected_country = cb_obj.value; // widget value\n",
    "        var data_v = source_v.data; //get data from CDS\n",
    "        var data_a = source_a.data; //get data from CDS\n",
    "        data_v.y = data_a[selected_country]; //change y values\n",
    "        source_v.change.emit(); //change source visible with new y values\n",
    "    \"\"\")\n",
    "\n",
    "show(row(plot, multi_select))"
   ]
  },
  {
   "cell_type": "markdown",
   "metadata": {},
   "source": [
    "The line plot will switch accordingly when choosing different countries"
   ]
  },
  {
   "cell_type": "markdown",
   "metadata": {},
   "source": [
    "## 7. Geographic Plots\n",
    "Bokeh also supports geographic plots. This part will plot countries on the world map usign Bokeh models <b>WMTSTileSource</b>. \n",
    "\n",
    "The plotting method used here is the same as other plots introduced earlier. For other plotting mechanisms, you can check [GMapPlot](https://bokeh.pydata.org/en/latest/docs/user_guide/geo.html#google-maps-support),  [TileSource](https://bokeh.pydata.org/en/latest/docs/user_guide/geo.html#tile-providers), and [GeoJSONDataSource](https://bokeh.pydata.org/en/dev/docs/user_guide/geo.html#geojson-datasource).\n",
    "\n",
    "### 7.1 WMTSTileSource\n",
    "[Web Map Tile Service (WTMS)](https://en.wikipedia.org/wiki/Web_Map_Tile_Service) is now the most common tiled map data over the Internet, which rennders the map by measuring the distance from Greenwich as meters. The compuation is therefore very easy as long as you provide the longtitude and latitude of a loacation. However, the map is distort to some degree. "
   ]
  },
  {
   "cell_type": "code",
   "execution_count": 99,
   "metadata": {},
   "outputs": [],
   "source": [
    "from bokeh.models import WMTSTileSource"
   ]
  },
  {
   "cell_type": "code",
   "execution_count": 103,
   "metadata": {},
   "outputs": [],
   "source": [
    "# Plot world map using the world bounds information\n",
    "world_map = x_range,y_range = ((-20037508.3427892,20037508.3427892), (-20037508.3427892,20037508.3427892))\n",
    "m = figure(tools='pan, wheel_zoom',x_range=x_range, y_range=y_range, plot_width=700, plot_height=600)\n",
    "m.axis.visible = False"
   ]
  },
  {
   "cell_type": "code",
   "execution_count": 104,
   "metadata": {},
   "outputs": [
    {
     "data": {
      "text/html": [
       "\n",
       "<div class=\"bk-root\">\n",
       "    <div class=\"bk-plotdiv\" id=\"c21387b1-84e1-4c5c-a5f7-f738edf850df\"></div>\n",
       "</div>"
      ]
     },
     "metadata": {},
     "output_type": "display_data"
    },
    {
     "data": {
      "application/javascript": [
       "(function(root) {\n",
       "  function embed_document(root) {\n",
       "    \n",
       "  var docs_json = {\"c7d7ad16-d69c-4b6f-92cf-56df4769085a\":{\"roots\":{\"references\":[{\"attributes\":{\"plot\":null,\"text\":\"\"},\"id\":\"286d825b-86e5-4b83-b0fe-44524712cfe7\",\"type\":\"Title\"},{\"attributes\":{},\"id\":\"b9e733e9-5f82-4793-b356-ad43b2f56c10\",\"type\":\"BasicTicker\"},{\"attributes\":{\"formatter\":{\"id\":\"f0abad8a-1960-47f4-9417-131161211148\",\"type\":\"BasicTickFormatter\"},\"plot\":{\"id\":\"1cfc2af2-68b8-4cee-aa59-a66b9d508322\",\"subtype\":\"Figure\",\"type\":\"Plot\"},\"ticker\":{\"id\":\"4a8eb513-9e5c-4f75-8df9-4e45a2627318\",\"type\":\"BasicTicker\"},\"visible\":false},\"id\":\"db25c572-7b39-468a-b999-0b9b68bfdd14\",\"type\":\"LinearAxis\"},{\"attributes\":{},\"id\":\"4a8eb513-9e5c-4f75-8df9-4e45a2627318\",\"type\":\"BasicTicker\"},{\"attributes\":{},\"id\":\"00e70720-c6f5-4b7f-bc53-e5242fc283d9\",\"type\":\"WheelZoomTool\"},{\"attributes\":{},\"id\":\"f0abad8a-1960-47f4-9417-131161211148\",\"type\":\"BasicTickFormatter\"},{\"attributes\":{\"url\":\"http://a.basemaps.cartocdn.com/dark_all/{Z}/{X}/{Y}.png\"},\"id\":\"8dce9ddd-5380-49cf-99be-b789b44b94bf\",\"type\":\"WMTSTileSource\"},{\"attributes\":{\"tile_source\":{\"id\":\"8dce9ddd-5380-49cf-99be-b789b44b94bf\",\"type\":\"WMTSTileSource\"}},\"id\":\"7b578ab0-9732-426e-96a2-8a7de77fc33b\",\"type\":\"TileRenderer\"},{\"attributes\":{},\"id\":\"fe11f92e-ad95-4c88-ab93-8ccb1c295049\",\"type\":\"LinearScale\"},{\"attributes\":{\"formatter\":{\"id\":\"eaced609-878d-496f-80ed-0cfd2ef59ccb\",\"type\":\"BasicTickFormatter\"},\"plot\":{\"id\":\"1cfc2af2-68b8-4cee-aa59-a66b9d508322\",\"subtype\":\"Figure\",\"type\":\"Plot\"},\"ticker\":{\"id\":\"b9e733e9-5f82-4793-b356-ad43b2f56c10\",\"type\":\"BasicTicker\"},\"visible\":false},\"id\":\"0f998903-dea6-449f-beaf-80b4cda2d486\",\"type\":\"LinearAxis\"},{\"attributes\":{\"below\":[{\"id\":\"0f998903-dea6-449f-beaf-80b4cda2d486\",\"type\":\"LinearAxis\"}],\"left\":[{\"id\":\"db25c572-7b39-468a-b999-0b9b68bfdd14\",\"type\":\"LinearAxis\"}],\"plot_width\":700,\"renderers\":[{\"id\":\"0f998903-dea6-449f-beaf-80b4cda2d486\",\"type\":\"LinearAxis\"},{\"id\":\"1653ea2b-36bf-41ed-bdf7-67614dbb272f\",\"type\":\"Grid\"},{\"id\":\"db25c572-7b39-468a-b999-0b9b68bfdd14\",\"type\":\"LinearAxis\"},{\"id\":\"856004f5-13e7-4269-af85-280d6cf20783\",\"type\":\"Grid\"},{\"id\":\"7b578ab0-9732-426e-96a2-8a7de77fc33b\",\"type\":\"TileRenderer\"}],\"title\":{\"id\":\"286d825b-86e5-4b83-b0fe-44524712cfe7\",\"type\":\"Title\"},\"toolbar\":{\"id\":\"a456c3a3-da57-4940-8baf-20e8cec242b4\",\"type\":\"Toolbar\"},\"x_range\":{\"id\":\"d48bfdc4-2c83-4f1c-900d-19294ff4e04a\",\"type\":\"Range1d\"},\"x_scale\":{\"id\":\"934b369e-3a54-4e3c-ad23-086330d909d0\",\"type\":\"LinearScale\"},\"y_range\":{\"id\":\"44436c27-b12d-4b7d-8481-d448dbcb389c\",\"type\":\"Range1d\"},\"y_scale\":{\"id\":\"fe11f92e-ad95-4c88-ab93-8ccb1c295049\",\"type\":\"LinearScale\"}},\"id\":\"1cfc2af2-68b8-4cee-aa59-a66b9d508322\",\"subtype\":\"Figure\",\"type\":\"Plot\"},{\"attributes\":{},\"id\":\"934b369e-3a54-4e3c-ad23-086330d909d0\",\"type\":\"LinearScale\"},{\"attributes\":{\"dimension\":1,\"plot\":{\"id\":\"1cfc2af2-68b8-4cee-aa59-a66b9d508322\",\"subtype\":\"Figure\",\"type\":\"Plot\"},\"ticker\":{\"id\":\"4a8eb513-9e5c-4f75-8df9-4e45a2627318\",\"type\":\"BasicTicker\"}},\"id\":\"856004f5-13e7-4269-af85-280d6cf20783\",\"type\":\"Grid\"},{\"attributes\":{},\"id\":\"eaced609-878d-496f-80ed-0cfd2ef59ccb\",\"type\":\"BasicTickFormatter\"},{\"attributes\":{\"active_drag\":\"auto\",\"active_inspect\":\"auto\",\"active_scroll\":\"auto\",\"active_tap\":\"auto\",\"tools\":[{\"id\":\"d0a1ddb7-8024-45e5-b841-4d18822d50bb\",\"type\":\"PanTool\"},{\"id\":\"00e70720-c6f5-4b7f-bc53-e5242fc283d9\",\"type\":\"WheelZoomTool\"}]},\"id\":\"a456c3a3-da57-4940-8baf-20e8cec242b4\",\"type\":\"Toolbar\"},{\"attributes\":{},\"id\":\"d0a1ddb7-8024-45e5-b841-4d18822d50bb\",\"type\":\"PanTool\"},{\"attributes\":{\"callback\":null,\"end\":20037508.3427892,\"start\":-20037508.3427892},\"id\":\"d48bfdc4-2c83-4f1c-900d-19294ff4e04a\",\"type\":\"Range1d\"},{\"attributes\":{\"callback\":null,\"end\":20037508.3427892,\"start\":-20037508.3427892},\"id\":\"44436c27-b12d-4b7d-8481-d448dbcb389c\",\"type\":\"Range1d\"},{\"attributes\":{\"plot\":{\"id\":\"1cfc2af2-68b8-4cee-aa59-a66b9d508322\",\"subtype\":\"Figure\",\"type\":\"Plot\"},\"ticker\":{\"id\":\"b9e733e9-5f82-4793-b356-ad43b2f56c10\",\"type\":\"BasicTicker\"}},\"id\":\"1653ea2b-36bf-41ed-bdf7-67614dbb272f\",\"type\":\"Grid\"}],\"root_ids\":[\"1cfc2af2-68b8-4cee-aa59-a66b9d508322\"]},\"title\":\"Bokeh Application\",\"version\":\"0.12.13\"}};\n",
       "  var render_items = [{\"docid\":\"c7d7ad16-d69c-4b6f-92cf-56df4769085a\",\"elementid\":\"c21387b1-84e1-4c5c-a5f7-f738edf850df\",\"modelid\":\"1cfc2af2-68b8-4cee-aa59-a66b9d508322\"}];\n",
       "  root.Bokeh.embed.embed_items_notebook(docs_json, render_items);\n",
       "\n",
       "  }\n",
       "  if (root.Bokeh !== undefined) {\n",
       "    embed_document(root);\n",
       "  } else {\n",
       "    var attempts = 0;\n",
       "    var timer = setInterval(function(root) {\n",
       "      if (root.Bokeh !== undefined) {\n",
       "        embed_document(root);\n",
       "        clearInterval(timer);\n",
       "      }\n",
       "      attempts++;\n",
       "      if (attempts > 100) {\n",
       "        console.log(\"Bokeh: ERROR: Unable to run BokehJS code because BokehJS library is missing\")\n",
       "        clearInterval(timer);\n",
       "      }\n",
       "    }, 10, root)\n",
       "  }\n",
       "})(window);"
      ],
      "application/vnd.bokehjs_exec.v0+json": ""
     },
     "metadata": {
      "application/vnd.bokehjs_exec.v0+json": {
       "id": "1cfc2af2-68b8-4cee-aa59-a66b9d508322"
      }
     },
     "output_type": "display_data"
    }
   ],
   "source": [
    "# Get map canvas from basemaps.cartocdn.com\n",
    "map_url = 'http://a.basemaps.cartocdn.com/dark_all/{Z}/{X}/{Y}.png'\n",
    "m.add_tile(WMTSTileSource(url=map_url))\n",
    "show(m)"
   ]
  },
  {
   "cell_type": "code",
   "execution_count": 108,
   "metadata": {},
   "outputs": [],
   "source": [
    "import numpy as np\n",
    "\n",
    "#function to convert coordinates to mercator\n",
    "def coordinates_to_mercator(df):\n",
    "    \"\"\"Converts decimal longitude/latitude to Web Mercator format\"\"\"\n",
    "    a = 20037508.34\n",
    "    new_df = df.copy()\n",
    "    new_df[\"x\"] = new_df['lng'] * a /180.0\n",
    "    new_df[\"y\"] = (np.log(np.tan((90 + new_df['lat']) * np.pi/360.0))/(np.pi/180.0))*a/180 \n",
    "    return new_df"
   ]
  },
  {
   "cell_type": "code",
   "execution_count": 105,
   "metadata": {},
   "outputs": [
    {
     "data": {
      "text/html": [
       "<div>\n",
       "<style scoped>\n",
       "    .dataframe tbody tr th:only-of-type {\n",
       "        vertical-align: middle;\n",
       "    }\n",
       "\n",
       "    .dataframe tbody tr th {\n",
       "        vertical-align: top;\n",
       "    }\n",
       "\n",
       "    .dataframe thead th {\n",
       "        text-align: right;\n",
       "    }\n",
       "</style>\n",
       "<table border=\"1\" class=\"dataframe\">\n",
       "  <thead>\n",
       "    <tr style=\"text-align: right;\">\n",
       "      <th></th>\n",
       "      <th>Location</th>\n",
       "      <th>lat</th>\n",
       "      <th>lng</th>\n",
       "      <th>Year</th>\n",
       "      <th>Value</th>\n",
       "    </tr>\n",
       "  </thead>\n",
       "  <tbody>\n",
       "    <tr>\n",
       "      <th>0</th>\n",
       "      <td>Afghanistan</td>\n",
       "      <td>33.939110</td>\n",
       "      <td>67.709953</td>\n",
       "      <td>84840</td>\n",
       "      <td>35666904.0</td>\n",
       "    </tr>\n",
       "    <tr>\n",
       "      <th>1</th>\n",
       "      <td>Albania</td>\n",
       "      <td>41.153332</td>\n",
       "      <td>20.168331</td>\n",
       "      <td>84840</td>\n",
       "      <td>3242687.0</td>\n",
       "    </tr>\n",
       "    <tr>\n",
       "      <th>2</th>\n",
       "      <td>Algeria</td>\n",
       "      <td>28.033886</td>\n",
       "      <td>1.659626</td>\n",
       "      <td>84840</td>\n",
       "      <td>43829736.0</td>\n",
       "    </tr>\n",
       "    <tr>\n",
       "      <th>3</th>\n",
       "      <td>Angola</td>\n",
       "      <td>-11.202692</td>\n",
       "      <td>17.873887</td>\n",
       "      <td>84840</td>\n",
       "      <td>26475101.0</td>\n",
       "    </tr>\n",
       "    <tr>\n",
       "      <th>4</th>\n",
       "      <td>Argentina</td>\n",
       "      <td>-38.416097</td>\n",
       "      <td>-63.616672</td>\n",
       "      <td>84840</td>\n",
       "      <td>43835448.0</td>\n",
       "    </tr>\n",
       "  </tbody>\n",
       "</table>\n",
       "</div>"
      ],
      "text/plain": [
       "      Location        lat        lng   Year       Value\n",
       "0  Afghanistan  33.939110  67.709953  84840  35666904.0\n",
       "1      Albania  41.153332  20.168331  84840   3242687.0\n",
       "2      Algeria  28.033886   1.659626  84840  43829736.0\n",
       "3       Angola -11.202692  17.873887  84840  26475101.0\n",
       "4    Argentina -38.416097 -63.616672  84840  43835448.0"
      ]
     },
     "execution_count": 105,
     "metadata": {},
     "output_type": "execute_result"
    }
   ],
   "source": [
    "# Get world population in 2020\n",
    "world_population = data[data['Year']==2020].groupby(['Location','lat','lng']).sum().reset_index().dropna()\n",
    "world_population.head()"
   ]
  },
  {
   "cell_type": "code",
   "execution_count": 109,
   "metadata": {},
   "outputs": [],
   "source": [
    "# Calculate mercator for each country\n",
    "new_world_population = coordinates_to_mercator(world_population).dropna()"
   ]
  },
  {
   "cell_type": "code",
   "execution_count": 110,
   "metadata": {},
   "outputs": [
    {
     "data": {
      "text/html": [
       "\n",
       "<div class=\"bk-root\">\n",
       "    <div class=\"bk-plotdiv\" id=\"b6e406a3-12b3-496d-8856-ee5537314b2b\"></div>\n",
       "</div>"
      ]
     },
     "metadata": {},
     "output_type": "display_data"
    },
    {
     "data": {
      "application/javascript": [
       "(function(root) {\n",
       "  function embed_document(root) {\n",
       "    \n",
       "  var docs_json = {\"b47c7634-7f3e-4305-81a3-443b26d3f759\":{\"roots\":{\"references\":[{\"attributes\":{\"plot\":null,\"text\":\"\"},\"id\":\"286d825b-86e5-4b83-b0fe-44524712cfe7\",\"type\":\"Title\"},{\"attributes\":{},\"id\":\"b9e733e9-5f82-4793-b356-ad43b2f56c10\",\"type\":\"BasicTicker\"},{\"attributes\":{\"source\":{\"id\":\"d799c726-b658-45b2-937f-b2f22e806ceb\",\"type\":\"ColumnDataSource\"}},\"id\":\"aaf1c42a-f3a7-476d-8c75-52abf32a4275\",\"type\":\"CDSView\"},{\"attributes\":{\"formatter\":{\"id\":\"f0abad8a-1960-47f4-9417-131161211148\",\"type\":\"BasicTickFormatter\"},\"plot\":{\"id\":\"1cfc2af2-68b8-4cee-aa59-a66b9d508322\",\"subtype\":\"Figure\",\"type\":\"Plot\"},\"ticker\":{\"id\":\"4a8eb513-9e5c-4f75-8df9-4e45a2627318\",\"type\":\"BasicTicker\"},\"visible\":false},\"id\":\"db25c572-7b39-468a-b999-0b9b68bfdd14\",\"type\":\"LinearAxis\"},{\"attributes\":{},\"id\":\"4a8eb513-9e5c-4f75-8df9-4e45a2627318\",\"type\":\"BasicTicker\"},{\"attributes\":{},\"id\":\"00e70720-c6f5-4b7f-bc53-e5242fc283d9\",\"type\":\"WheelZoomTool\"},{\"attributes\":{},\"id\":\"f0abad8a-1960-47f4-9417-131161211148\",\"type\":\"BasicTickFormatter\"},{\"attributes\":{\"url\":\"http://a.basemaps.cartocdn.com/dark_all/{Z}/{X}/{Y}.png\"},\"id\":\"8dce9ddd-5380-49cf-99be-b789b44b94bf\",\"type\":\"WMTSTileSource\"},{\"attributes\":{\"tile_source\":{\"id\":\"8dce9ddd-5380-49cf-99be-b789b44b94bf\",\"type\":\"WMTSTileSource\"}},\"id\":\"7b578ab0-9732-426e-96a2-8a7de77fc33b\",\"type\":\"TileRenderer\"},{\"attributes\":{},\"id\":\"fe11f92e-ad95-4c88-ab93-8ccb1c295049\",\"type\":\"LinearScale\"},{\"attributes\":{\"formatter\":{\"id\":\"eaced609-878d-496f-80ed-0cfd2ef59ccb\",\"type\":\"BasicTickFormatter\"},\"plot\":{\"id\":\"1cfc2af2-68b8-4cee-aa59-a66b9d508322\",\"subtype\":\"Figure\",\"type\":\"Plot\"},\"ticker\":{\"id\":\"b9e733e9-5f82-4793-b356-ad43b2f56c10\",\"type\":\"BasicTicker\"},\"visible\":false},\"id\":\"0f998903-dea6-449f-beaf-80b4cda2d486\",\"type\":\"LinearAxis\"},{\"attributes\":{\"below\":[{\"id\":\"0f998903-dea6-449f-beaf-80b4cda2d486\",\"type\":\"LinearAxis\"}],\"left\":[{\"id\":\"db25c572-7b39-468a-b999-0b9b68bfdd14\",\"type\":\"LinearAxis\"}],\"plot_width\":700,\"renderers\":[{\"id\":\"0f998903-dea6-449f-beaf-80b4cda2d486\",\"type\":\"LinearAxis\"},{\"id\":\"1653ea2b-36bf-41ed-bdf7-67614dbb272f\",\"type\":\"Grid\"},{\"id\":\"db25c572-7b39-468a-b999-0b9b68bfdd14\",\"type\":\"LinearAxis\"},{\"id\":\"856004f5-13e7-4269-af85-280d6cf20783\",\"type\":\"Grid\"},{\"id\":\"7b578ab0-9732-426e-96a2-8a7de77fc33b\",\"type\":\"TileRenderer\"},{\"id\":\"58c658ae-4536-4671-8b20-b6358798b048\",\"type\":\"GlyphRenderer\"}],\"title\":{\"id\":\"286d825b-86e5-4b83-b0fe-44524712cfe7\",\"type\":\"Title\"},\"toolbar\":{\"id\":\"a456c3a3-da57-4940-8baf-20e8cec242b4\",\"type\":\"Toolbar\"},\"x_range\":{\"id\":\"d48bfdc4-2c83-4f1c-900d-19294ff4e04a\",\"type\":\"Range1d\"},\"x_scale\":{\"id\":\"934b369e-3a54-4e3c-ad23-086330d909d0\",\"type\":\"LinearScale\"},\"y_range\":{\"id\":\"44436c27-b12d-4b7d-8481-d448dbcb389c\",\"type\":\"Range1d\"},\"y_scale\":{\"id\":\"fe11f92e-ad95-4c88-ab93-8ccb1c295049\",\"type\":\"LinearScale\"}},\"id\":\"1cfc2af2-68b8-4cee-aa59-a66b9d508322\",\"subtype\":\"Figure\",\"type\":\"Plot\"},{\"attributes\":{},\"id\":\"934b369e-3a54-4e3c-ad23-086330d909d0\",\"type\":\"LinearScale\"},{\"attributes\":{\"callback\":null,\"column_names\":[\"size\",\"x\",\"y\"],\"data\":{\"size\":{\"__ndarray__\":\"+ht8qAuuF0Dtd5OYWi0MQN2FsroUgRhAtAnu5d98FkAz2OvjNoEYQH6SCrOchwtA10ZBNwRUFkCb7tFNKgsSQA8gQ5jvmhJANLvrHIVA9z8ltFH5I+cFQBMgbBR76h1AMvChdgn38T8HIvaaHi8SQIgsDZXTGhNAZ1mOMHtQ9j98aBMugm8TQLsciZK+MwFAoxBEpyzkCEANWxJL1soeQCj2bAti5vg/1wvV0A0REUA/X13QEHkVQGc/yXPcghNAGWIeLQu0FEDoXH+BKXoWQAQTCUpt5BdAfCsxwJVq+z/RkR+GJgsQQN4eBvf3ZxRAySU4m9YVFUDNeow58jkjQEcT78aMNxlAD405iLOOAUB67F5JhQcQQGV0/q7kDBBAHAUPSKc2DkB+rI84bAgTQA54ZQPxWQRANQZUpW7yEkDDVUi2IfkaQJsw3KetZRBA1yMKbi56AkBXITEDIA8TQHeVarkA0BRAkIBvvtptG0ARDlomn/AQQNvn41w0AQJAJu4gztiPEUATYNvsZZ4EQMWroAJmPRxA9Ctru40QAkBk6mVydTsQQImI3uYMLRpAK+Jy0acgCECi3XSyZmsJQBagyncHQA5Aqe+m5wkBG0B6l8E8K/QWQF31lk/NABNA3/hhL4RIvz9zNM3mqgEVQAMIgh8N6xNAkNJiQaxTCEB32a/+xDoBQOaCFrf6ExNAa3A/NWtGEkD2tlDZHoMSQEDnjNI07fQ/oFWSX7IcI0DrDhQfmcQfQGTQN5gzNRhA4OsqJDGVD0CjQX+pVvIRQBjIGAsJ2hlAUbgf6oo4C0BIWQdIW7UcQLWYqJRuvhFA7x8+yRLWFED/HzRly0EZQFCprHXiNcY/MkXQjcriDUDy1FfzJKgQQGO1kCL+MwhAt029oEpxD0CU5ZK3jioJQBIfuQ4Wxw9A7dWw2QQIEUCMTHwv3WQLQK6Ivc9YuPw/R5fh682uFkDNIp6jRlgVQLK7PmANWhdAq/Akvqtd9j/glDkVXiwVQGfRLY9oPfg/3Dj2VgbvDkBR3r4cWq8EQP4YMyGu6RxA3H2vPLPm+z8BnICUmdoLQBzwOIXs3v0/cn0QVsG1F0AEVa6Ukg8XQK1nXsUfcApAjOjCveT8FkDJdE7yQLkUQI9eK7/EVg9ADteOE4P4EECqZa9GZ/8VQBvdvOZAxh5AN78/pi0iEEA8Jcc5utIOQPj0SbGIpB5ATHJqamBtDkC4xlBeDugRQFSMUYvYfxFA1dGX9OZgF0AHmyCUFTMcQJJtA+wt8xdABEUkR3rREkAkTnezYzsKQJVcbGKZmhVAKDSRY2H5E0Cxym2K93XnP9Fq843OSRdAyFlgnai+FEDB/QN0DT8SQAAAAAAAAAAA5haaWhAbEUBbWLyThZYQQHNgrfrcLRBAW6E4dpesCED3xMiLuHT+P6BnTptElhNA1GwU3v1rGUD6B7N+qOUTQLLzivCh2RhAhvMOk+XOFUAXPdWvm5AYQMaqHkVchvw/qxRv3EVFBUCs+Zv+T5sSQAnXNF8XAxJAA6WLUkpuEkDzmf4drUAaQMLppACPxwRAAARafwS9EUB2Ngi6RO7CP8gWe5rbPxNAhThZgTDtGkBWyT4gpFUQQM9YbKyAyhhAZlMj/mlxGEBP4fK6tNMSQKcG5f8EHhpAeoCl72RWIEAgLMrM8r4MQHiX+ROsLhdAglSBY8Dc8T8UsYu7lcUWQO3Oz+gGABVAhEPVJFC+FEA=\",\"dtype\":\"float64\",\"shape\":[163]},\"x\":{\"__ndarray__\":\"wVtEX8fAXEEV4BorBCFBQdhSBcVljQZBvF3C/09cPkGpkAziywNbwUlO9hAfIFNBw3yVgGBnbEELBReb+rY4Qe2QVNIbNFRBkkVJT+RuYMG5L89aJnhVQe7LLJhWL2NB78/CnvdIWcELDLaDpr1HQTArUP/bXh5Biy6oKk/KYsFUal6xK3gPQa9eM82JM2NBl9FEWwH3REGaFZnu0QxWwX1SHjYMXGhBch8PzyalRUEB+4bmXTgFwUN2u5P9aElBRZ0ykc5KZkEJD5tcWfw0QRE3mIyAlGbBazqnuMSRQ8EszyIfrMhBQeLxj76L0T9BbgsuuHdhXsG6OiJRkB9mQegupVHljF/B/y7xOMhmUkFGA8CyyXpCQZxZlp5vyGHBqUBdRZjROUFHnuH8z4NgwRA8uXBZZExBf4IrQEpIOkFGA8CyyXpCQY9FIN7FIzBBGM1n7gEWUkGGGi6lactdwYahLh6tmWDBZXsuMhspSkEhyHKO/d9iwV0Zv9focDFBtdRrSsHkUEGLJqAAez5FQSV37XGmMVFBC0gAy2HnckGXadKIL95FQUO+hkoLFQ5B92TwZEW4M0EES5HgfAE6waOFqEQNmmHBLg9bjcLAMUH1tvP11s77wFl5MqYPiUJBn6XJtyYxWsHXsp5EgyhjwYZGapWBeDDBVA9P2BPJOcGrPEJoUwZZwXagxVQosl7BwIRYnrJPYsF1NMHwbJBAQQ2NS9WGJ0DBXDrxcgvEYEH1I4gDODBoQak5oBtljFJBEmnF+qYhKsHhEa7Zd5lNQY0FjlfSWDVBepFT54VpYMHHmySjxFptQVx1g+X8xk5B+Wcgm01rXEEFjIiGzBhQQbgSxrTJ6XHB/FXKgMMpVEEQPDz92r9fQaZhSTw/5URBbDT0pjV1TkGAwMRuk/pHQTd65wZXBDDBIsWrCJlDPUH+wqGvSUhEQUKm0R3M0iRBsfn2RynnU0FKF+Al3iFNQcEq+ErqpmVB1Nn3M9oXX0Eath+ozCYbwceIJP0HazhBtWROLoiVMsFwWD4QhXBYQVfKKnZHxmXBm/JL9zj3b0FoOK2bmwxmQZ2UTZ1ldEBB8xOAsVUYKMG6Qexf3ixOQclahQZnaD9BHqdyN5TcYUFcAMkSuvkhQSg8xpP7kHJBEcH4KnUXYsE3/zPjfXQrQfyXA9a+eC1BJF8lg03FLEE2uiieHMVXQfIiEcCJcl1BFxK7J+4mYcGUCqlQvJBuQf+Hgmd00VjB1EhcIe7aX8GhN/+xDdtpQcuKK2WNQkBBsCL6D6zwK8ExQsn5OLxVQUufOYFLNEVBKJP2/zRfSUFVjJJ6ZEVywWkj8laTJFNB3HQQlH2MOMEfRHzDHNdBQcMUzaeOkFdBKa+xPmMCNMGPPdZoJgtmQVkeBqn6ukBBf3UdTqd4OUHkM2CfqQBxQd0+i25hnlNBkLtqvhd7Q0GoDAp4ypZKQWilewtFeRnBQLr1aV4mYUH1Qg/t8alJQRROeBHOylfBd0wKF1a5SkFfcqIJ+ao/Qd5hdeRU8ytBbCYnmHREXkGYMZHHeHFlQQN8yLPysWpBai3y/mRq9kCAh1oxeJlywWdrL4hNMzBB6wxFVKLuTUGVeYiiY0pZQfJlK3yUbEtBUU38PQx4SkGv53jr0d1WQcPlCQ9rWBfBcwMvyX5SZMHDR7gWVK5XwffSkJ4XbVtBJR0wB425cUHwgNHmPJpUQXx/droGp0dBZEff6t/CSEE=\",\"dtype\":\"float64\",\"shape\":[163]},\"y\":{\"__ndarray__\":\"xNzzdMqsTkFpJkMe+jRTQZ7T9lr/0UhBThpipLwmM8HQZ5CRqbFRwRL5Mim1mVJBc9/8BpcyRsFc1FK+fv1WQbx5EvA5pFJBvM1e3un4RUH6F5IvuPFGQZV8w/vetkRBiYUEG6ScNkGbBhPqniRbQW6Ivnbc7FhBKSlaFZulPUFaxCirlcIvQd5lEdZIUkhBPuXQNXB2Q8FU3S7Qp244wfaG8xDD2B5BI3yWXAAcVEFc/kZQrPI0QbN9SNRf7hbBtwUYA2uENUG3cb+SEhspQesG1O6m7lxBaZNuBsR9PEGKu74FYIImQZtmYlsdkzpBOhosa0M8UMEMkC2qQFVQQWHLBCDdFh9Ble+oRi7rM8GhvEVc93UbwVuePzvXozBB5+rejCeBVUETbP8xXblCQTAyObso5k9Bf85QHWJ4WEGhvEVc93UbwbWATMS/CF1BkLmYaPY6NEEZWxxQITRAQZqnTnd64wjBcERyBseoR0FSVsNyFqk3QQ6gBw5+bwZB8FR9NjoXOkEH99DHut9eQYHKpsU9My9BMILRODqUPsEzUpNM+txgQZeFm+2RMFZBQ7aU8tLX9cB1S++KCgw3QWwzEmW34ExBJG6TwsdeWUEuMnwdOhUrQcQL/bNkDVJBq5Gfu3m8NEHkvvICzSc7QQ/HmdGj+jBBAXNP3XUxNEEumG5CGoggQYS94/g7akBBbJ3oI4QgOkElPmlrv8RWQVxLh7bWTmJBoh0rlSPhQUH8WT+Fh3P1wGZ+8Djz8U1BqWZx4he9WkGyH/KX5cJLQdqV9vtNnVNBZlhmzUpJP0FCVvZjYoNQQSyU+pU3TktBJnnp7OdOV0HLidrjJn2kwL0p+rPG6RbBKONlvqYOSkHLP0CkWTxTQXy4HzNBgl1By+Sgn6+WTkEapQmnJVlKwaLAplMj4iVB0c1/B8IyR0Hu7JYQgTVcQQ2wGGgCeFhBUaspaU47QMGqqd1aobc2wZsmangtohxB7ep0v7XFFUFERDpmH1M+Qf1znxRuX1BB9xiRtHlBQkFsD2cUN6hBwduHW6XiqkRB3wNSSQlMKUGf56au6pRWQc6oKpFFGFRBrOsSnd+ATEHu0AMXECRAwQngg1uoCkTB8vqTBhArSUGk64W0MwhaQQ5k8ziNEFPBA3/0hAgKNkEEKOCOC2Q+QXprUfe/+y5BjD0zYR45YEE8mitdGK5CQeapC9VGGUtBhPxszfkcLUEnFHjdMn8lwX63cypafUTBsHgUttpaL8HDx07/aRA2Qd9WdvmI4llBZj9sLxo7UkHGwo4q70VGQWoL1Vn7A1ZBx0s0bQBfCsFLopD6WJk3waiIUeWd5kRBQBdnoXDkOEE/AuTM19tUQfYA4qmP1B/BpTYyV+TYLEEBggtN+V8CQbaYjd8huVdBuu4rupIkVkFJUfG8T3YwwaoEmzLKhiFBMl1nVrtHS8HlglX6N2snQZautunr0VJBW+X3CLfUKkE4Wwmc3gg2QbkO1MBuphpBnG5+NkJgR8GORtveZBNgQYGGdQPgjVZBtU/RWJbvUUGc+Yyf7E47QWs4eMHNRC7Bc/9TJrZkLUHpSmjMWGlCwUAKOOodn05B8DPG6+/9UUFufWXAxf5RQdfa2vfqqQJBSSt6LZmJV0FBFSJU/HhEQbmp6qFQXVxB4tx3I1v7UEHY6odpoTxNwa+lo31lVVNBa/eEwSxwOsHy40tol786QYcb2tTZgTbBaU5nyWh0QME=\",\"dtype\":\"float64\",\"shape\":[163]}}},\"id\":\"d799c726-b658-45b2-937f-b2f22e806ceb\",\"type\":\"ColumnDataSource\"},{\"attributes\":{\"dimension\":1,\"plot\":{\"id\":\"1cfc2af2-68b8-4cee-aa59-a66b9d508322\",\"subtype\":\"Figure\",\"type\":\"Plot\"},\"ticker\":{\"id\":\"4a8eb513-9e5c-4f75-8df9-4e45a2627318\",\"type\":\"BasicTicker\"}},\"id\":\"856004f5-13e7-4269-af85-280d6cf20783\",\"type\":\"Grid\"},{\"attributes\":{\"data_source\":{\"id\":\"d799c726-b658-45b2-937f-b2f22e806ceb\",\"type\":\"ColumnDataSource\"},\"glyph\":{\"id\":\"2f1edbb1-c614-4049-bb51-2f3ffabcb60d\",\"type\":\"Circle\"},\"hover_glyph\":null,\"muted_glyph\":null,\"nonselection_glyph\":{\"id\":\"a69c7c4b-7ba0-4512-8e24-c2411c73f6ae\",\"type\":\"Circle\"},\"selection_glyph\":null,\"view\":{\"id\":\"aaf1c42a-f3a7-476d-8c75-52abf32a4275\",\"type\":\"CDSView\"}},\"id\":\"58c658ae-4536-4671-8b20-b6358798b048\",\"type\":\"GlyphRenderer\"},{\"attributes\":{},\"id\":\"eaced609-878d-496f-80ed-0cfd2ef59ccb\",\"type\":\"BasicTickFormatter\"},{\"attributes\":{\"active_drag\":\"auto\",\"active_inspect\":\"auto\",\"active_scroll\":\"auto\",\"active_tap\":\"auto\",\"tools\":[{\"id\":\"d0a1ddb7-8024-45e5-b841-4d18822d50bb\",\"type\":\"PanTool\"},{\"id\":\"00e70720-c6f5-4b7f-bc53-e5242fc283d9\",\"type\":\"WheelZoomTool\"}]},\"id\":\"a456c3a3-da57-4940-8baf-20e8cec242b4\",\"type\":\"Toolbar\"},{\"attributes\":{\"fill_color\":{\"value\":\"Tomato\"},\"line_color\":{\"value\":\"Linen\"},\"size\":{\"field\":\"size\",\"units\":\"screen\"},\"x\":{\"field\":\"x\"},\"y\":{\"field\":\"y\"}},\"id\":\"2f1edbb1-c614-4049-bb51-2f3ffabcb60d\",\"type\":\"Circle\"},{\"attributes\":{},\"id\":\"d0a1ddb7-8024-45e5-b841-4d18822d50bb\",\"type\":\"PanTool\"},{\"attributes\":{\"callback\":null,\"end\":20037508.3427892,\"start\":-20037508.3427892},\"id\":\"d48bfdc4-2c83-4f1c-900d-19294ff4e04a\",\"type\":\"Range1d\"},{\"attributes\":{\"fill_alpha\":{\"value\":0.1},\"fill_color\":{\"value\":\"#1f77b4\"},\"line_alpha\":{\"value\":0.1},\"line_color\":{\"value\":\"#1f77b4\"},\"size\":{\"field\":\"size\",\"units\":\"screen\"},\"x\":{\"field\":\"x\"},\"y\":{\"field\":\"y\"}},\"id\":\"a69c7c4b-7ba0-4512-8e24-c2411c73f6ae\",\"type\":\"Circle\"},{\"attributes\":{\"callback\":null,\"end\":20037508.3427892,\"start\":-20037508.3427892},\"id\":\"44436c27-b12d-4b7d-8481-d448dbcb389c\",\"type\":\"Range1d\"},{\"attributes\":{\"plot\":{\"id\":\"1cfc2af2-68b8-4cee-aa59-a66b9d508322\",\"subtype\":\"Figure\",\"type\":\"Plot\"},\"ticker\":{\"id\":\"b9e733e9-5f82-4793-b356-ad43b2f56c10\",\"type\":\"BasicTicker\"}},\"id\":\"1653ea2b-36bf-41ed-bdf7-67614dbb272f\",\"type\":\"Grid\"}],\"root_ids\":[\"1cfc2af2-68b8-4cee-aa59-a66b9d508322\"]},\"title\":\"Bokeh Application\",\"version\":\"0.12.13\"}};\n",
       "  var render_items = [{\"docid\":\"b47c7634-7f3e-4305-81a3-443b26d3f759\",\"elementid\":\"b6e406a3-12b3-496d-8856-ee5537314b2b\",\"modelid\":\"1cfc2af2-68b8-4cee-aa59-a66b9d508322\"}];\n",
       "  root.Bokeh.embed.embed_items_notebook(docs_json, render_items);\n",
       "\n",
       "  }\n",
       "  if (root.Bokeh !== undefined) {\n",
       "    embed_document(root);\n",
       "  } else {\n",
       "    var attempts = 0;\n",
       "    var timer = setInterval(function(root) {\n",
       "      if (root.Bokeh !== undefined) {\n",
       "        embed_document(root);\n",
       "        clearInterval(timer);\n",
       "      }\n",
       "      attempts++;\n",
       "      if (attempts > 100) {\n",
       "        console.log(\"Bokeh: ERROR: Unable to run BokehJS code because BokehJS library is missing\")\n",
       "        clearInterval(timer);\n",
       "      }\n",
       "    }, 10, root)\n",
       "  }\n",
       "})(window);"
      ],
      "application/vnd.bokehjs_exec.v0+json": ""
     },
     "metadata": {
      "application/vnd.bokehjs_exec.v0+json": {
       "id": "1cfc2af2-68b8-4cee-aa59-a66b9d508322"
      }
     },
     "output_type": "display_data"
    }
   ],
   "source": [
    "# Plot location on the world map\n",
    "m.circle(x=new_world_population['x'], y=new_world_population['y'], fill_color='Tomato', line_color='Linen', size=np.log(new_world_population.Value/new_world_population.Value.min()))\n",
    "show(m)"
   ]
  },
  {
   "cell_type": "markdown",
   "metadata": {},
   "source": [
    "As you can see, the each circle represents a country, and the size of it is proportional to population. You can easily follow the steps and plot other information on the map, such as world temperature data."
   ]
  },
  {
   "cell_type": "markdown",
   "metadata": {},
   "source": [
    "## 8. Resources and References\n",
    "\n",
    "This tutorial only introduced very limited Bokeh features, you can check the following links to explore more about Bokeh library. \n",
    "\n",
    "- Bokeh Official Website\n",
    "(https://bokeh.pydata.org/en/latest/docs/user_guide.html)\n",
    "- Bokeh Official Tutorial(https://github.com/bokeh/bokeh-notebooks/tree/master/tutorial)\n",
    "- Chdoig Tutorial(https://github.com/chdoig/pyladiesatx-bokeh-tutorial)\n",
    "- Chdoig Bokeh Introduction Slides(http://chdoig.github.io/pyladiesatx-bokeh-tutorial/#/)\n",
    "- Bokeh Cheat Sheet(https://s3.amazonaws.com/assets.datacamp.com/blog_assets/Python_Bokeh_Cheat_Sheet.pdf)"
   ]
  }
 ],
 "metadata": {
  "kernelspec": {
   "display_name": "Python 3",
   "language": "python",
   "name": "python3"
  },
  "language_info": {
   "codemirror_mode": {
    "name": "ipython",
    "version": 3
   },
   "file_extension": ".py",
   "mimetype": "text/x-python",
   "name": "python",
   "nbconvert_exporter": "python",
   "pygments_lexer": "ipython3",
   "version": "3.6.4"
  }
 },
 "nbformat": 4,
 "nbformat_minor": 2
}
