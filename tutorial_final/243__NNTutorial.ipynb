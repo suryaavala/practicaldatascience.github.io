{
 "cells": [
  {
   "cell_type": "markdown",
   "metadata": {},
   "source": [
    "# Predicting News Popularity using FeedForward Neural Networks"
   ]
  },
  {
   "cell_type": "markdown",
   "metadata": {},
   "source": [
    "_Author_: Utkarsha Khadke\n",
    "\n",
    "_Date_  : March 30, 2018 "
   ]
  },
  {
   "cell_type": "markdown",
   "metadata": {},
   "source": [
    "## Tutorial Introduction"
   ]
  },
  {
   "cell_type": "markdown",
   "metadata": {
    "collapsed": true
   },
   "source": [
    "In today's world, there is profusion of user generated content due to the rise of various social media platforms. Contributors and opinionated readers cause a lot of stir as a reaction to the news articles that are published online. This has led to a surge in the research studies related to the popularity of news article based on its topic, content and the sentiments it contains.\n",
    "\n",
    "In this tutorial, we will learn how we can use deep neural networks to train a large dataset of news articles and predict whether the new news item will become popular on social media or not. These news items are collected from well-known aggregators such as Google News and Yahoo! News and their respective social feedback on multiple platforms such as Facebook, LinkedIn and Google+. The data collected is of a duration of 8 months ranging between November 2015 and July 2016. It consists of around 100,000 news items on topics such as economy, Obama, palestine and microsoft.\n",
    "\n",
    "The data is obtained from  https://archive.ics.uci.edu/ml/datasets/News+Popularity+in+Multiple+Social+Media+Platforms# . You may visit this link for more information on how the data is collected."
   ]
  },
  {
   "cell_type": "markdown",
   "metadata": {},
   "source": [
    "## Importing Libraries"
   ]
  },
  {
   "cell_type": "code",
   "execution_count": 451,
   "metadata": {
    "collapsed": true
   },
   "outputs": [],
   "source": [
    "import re\n",
    "import csv\n",
    "import string\n",
    "import sklearn\n",
    "import random\n",
    "import pandas as pd\n",
    "import numpy as np\n",
    "from collections import Counter\n",
    "import matplotlib.pyplot as plt\n",
    "from scipy.stats import gaussian_kde\n",
    "from sklearn.model_selection import train_test_split\n",
    "from sklearn.metrics import accuracy_score\n",
    "from sklearn.metrics import confusion_matrix\n",
    "from sklearn.model_selection import cross_val_score, KFold\n",
    "import nltk"
   ]
  },
  {
   "cell_type": "code",
   "execution_count": 452,
   "metadata": {},
   "outputs": [],
   "source": [
    "# Importing the keras libraries\n",
    "from keras.utils import to_categorical\n",
    "from keras.models import Sequential\n",
    "from keras.layers import Dense\n",
    "from keras import optimizers\n",
    "from keras.wrappers.scikit_learn import KerasClassifier"
   ]
  },
  {
   "cell_type": "code",
   "execution_count": 453,
   "metadata": {
    "collapsed": true
   },
   "outputs": [],
   "source": [
    "#Setting a random seed\n",
    "random.seed(42) #cause it is the answer to the Ultimate Question of Life, the Universe, and Everything\n",
    "                #Reference: The Hitchhiker's Guide to the Galaxy by Douglas Adams"
   ]
  },
  {
   "cell_type": "markdown",
   "metadata": {},
   "source": [
    "## Importing the dataset"
   ]
  },
  {
   "cell_type": "markdown",
   "metadata": {},
   "source": [
    "Here, we import the dataset from a CSV file, store it in a pandas dataframe and convert the columns into proper data types."
   ]
  },
  {
   "cell_type": "code",
   "execution_count": 454,
   "metadata": {},
   "outputs": [],
   "source": [
    "#Defining the file path \n",
    "news_filepath = \"./News_Final.csv\"\n",
    "\n",
    "#Loading the contents of CSV in memory          \n",
    "news_dataset = pd.read_csv(news_filepath)\n",
    "\n",
    "#Resetting the index\n",
    "news_dataset = news_dataset.reset_index(drop = True)\n",
    "\n",
    "#Changing data types\n",
    "news_dataset[['IDLink']] = news_dataset[['IDLink']].astype('int64')\n",
    "\n",
    "#Subsetting the news dataset\n",
    "news_dataset = news_dataset.sample(n=1500) #news_dataset.iloc[random.sample(news_dataset.index, 1000)]\n"
   ]
  },
  {
   "cell_type": "markdown",
   "metadata": {},
   "source": [
    "Note: As a result of limitation of my laptop configuration, I have limited the input data to contain 1500 news articles. If required, you may directly pass the processed_ds dataset to the create_feature_matrix function in the future."
   ]
  },
  {
   "cell_type": "markdown",
   "metadata": {},
   "source": [
    "## Dataset Preview"
   ]
  },
  {
   "cell_type": "code",
   "execution_count": 455,
   "metadata": {},
   "outputs": [
    {
     "data": {
      "text/html": [
       "<div>\n",
       "<style>\n",
       "    .dataframe thead tr:only-child th {\n",
       "        text-align: right;\n",
       "    }\n",
       "\n",
       "    .dataframe thead th {\n",
       "        text-align: left;\n",
       "    }\n",
       "\n",
       "    .dataframe tbody tr th {\n",
       "        vertical-align: top;\n",
       "    }\n",
       "</style>\n",
       "<table border=\"1\" class=\"dataframe\">\n",
       "  <thead>\n",
       "    <tr style=\"text-align: right;\">\n",
       "      <th></th>\n",
       "      <th>IDLink</th>\n",
       "      <th>Title</th>\n",
       "      <th>Headline</th>\n",
       "      <th>Source</th>\n",
       "      <th>Topic</th>\n",
       "      <th>PublishDate</th>\n",
       "      <th>SentimentTitle</th>\n",
       "      <th>SentimentHeadline</th>\n",
       "      <th>Facebook</th>\n",
       "      <th>GooglePlus</th>\n",
       "      <th>LinkedIn</th>\n",
       "    </tr>\n",
       "  </thead>\n",
       "  <tbody>\n",
       "    <tr>\n",
       "      <th>61679</th>\n",
       "      <td>41616</td>\n",
       "      <td>Malaysia Economy Is Sustainable At The Core - ...</td>\n",
       "      <td>KUALA LUMPUR -- Prime Minister Datuk Seri Naji...</td>\n",
       "      <td>malaysiandigest.com</td>\n",
       "      <td>economy</td>\n",
       "      <td>2016-04-12 10:09:18</td>\n",
       "      <td>0.041667</td>\n",
       "      <td>0.090924</td>\n",
       "      <td>0</td>\n",
       "      <td>2</td>\n",
       "      <td>0</td>\n",
       "    </tr>\n",
       "    <tr>\n",
       "      <th>37435</th>\n",
       "      <td>77102</td>\n",
       "      <td>What Obama's Cybersecurity Strategy Leaves Out</td>\n",
       "      <td>What Obama's Cybersecurity Strategy Leaves Out...</td>\n",
       "      <td>MIT Technology Review</td>\n",
       "      <td>obama</td>\n",
       "      <td>2016-02-09 22:45:32</td>\n",
       "      <td>-0.051031</td>\n",
       "      <td>0.022097</td>\n",
       "      <td>73</td>\n",
       "      <td>3</td>\n",
       "      <td>48</td>\n",
       "    </tr>\n",
       "    <tr>\n",
       "      <th>66084</th>\n",
       "      <td>44530</td>\n",
       "      <td>Mitsubishi Motors admits manipulating fuel eco...</td>\n",
       "      <td>Mitsubishi Motors Corp admitted to manipulatin...</td>\n",
       "      <td>Channel NewsAsia</td>\n",
       "      <td>economy</td>\n",
       "      <td>2016-04-23 03:33:00</td>\n",
       "      <td>-0.034722</td>\n",
       "      <td>0.164685</td>\n",
       "      <td>-1</td>\n",
       "      <td>0</td>\n",
       "      <td>0</td>\n",
       "    </tr>\n",
       "    <tr>\n",
       "      <th>55119</th>\n",
       "      <td>36327</td>\n",
       "      <td>WonderCon expected to do wonders for Los Angel...</td>\n",
       "      <td>A hulking $36 million is expected to flow thro...</td>\n",
       "      <td>LA Daily News</td>\n",
       "      <td>economy</td>\n",
       "      <td>2016-03-26 03:28:51</td>\n",
       "      <td>0.041667</td>\n",
       "      <td>-0.026064</td>\n",
       "      <td>12</td>\n",
       "      <td>2</td>\n",
       "      <td>2</td>\n",
       "    </tr>\n",
       "    <tr>\n",
       "      <th>15026</th>\n",
       "      <td>9730</td>\n",
       "      <td>Azerbaijan's economy increases</td>\n",
       "      <td>The non-oil sector of the economy increased by...</td>\n",
       "      <td>Trend News Agency</td>\n",
       "      <td>economy</td>\n",
       "      <td>2015-12-16 15:58:18</td>\n",
       "      <td>0.000000</td>\n",
       "      <td>-0.102062</td>\n",
       "      <td>0</td>\n",
       "      <td>0</td>\n",
       "      <td>0</td>\n",
       "    </tr>\n",
       "  </tbody>\n",
       "</table>\n",
       "</div>"
      ],
      "text/plain": [
       "       IDLink                                              Title  \\\n",
       "61679   41616  Malaysia Economy Is Sustainable At The Core - ...   \n",
       "37435   77102     What Obama's Cybersecurity Strategy Leaves Out   \n",
       "66084   44530  Mitsubishi Motors admits manipulating fuel eco...   \n",
       "55119   36327  WonderCon expected to do wonders for Los Angel...   \n",
       "15026    9730                     Azerbaijan's economy increases   \n",
       "\n",
       "                                                Headline  \\\n",
       "61679  KUALA LUMPUR -- Prime Minister Datuk Seri Naji...   \n",
       "37435  What Obama's Cybersecurity Strategy Leaves Out...   \n",
       "66084  Mitsubishi Motors Corp admitted to manipulatin...   \n",
       "55119  A hulking $36 million is expected to flow thro...   \n",
       "15026  The non-oil sector of the economy increased by...   \n",
       "\n",
       "                      Source    Topic          PublishDate  SentimentTitle  \\\n",
       "61679    malaysiandigest.com  economy  2016-04-12 10:09:18        0.041667   \n",
       "37435  MIT Technology Review    obama  2016-02-09 22:45:32       -0.051031   \n",
       "66084       Channel NewsAsia  economy  2016-04-23 03:33:00       -0.034722   \n",
       "55119          LA Daily News  economy  2016-03-26 03:28:51        0.041667   \n",
       "15026      Trend News Agency  economy  2015-12-16 15:58:18        0.000000   \n",
       "\n",
       "       SentimentHeadline  Facebook  GooglePlus  LinkedIn  \n",
       "61679           0.090924         0           2         0  \n",
       "37435           0.022097        73           3        48  \n",
       "66084           0.164685        -1           0         0  \n",
       "55119          -0.026064        12           2         2  \n",
       "15026          -0.102062         0           0         0  "
      ]
     },
     "execution_count": 455,
     "metadata": {},
     "output_type": "execute_result"
    }
   ],
   "source": [
    "news_dataset.head()"
   ]
  },
  {
   "cell_type": "markdown",
   "metadata": {},
   "source": [
    "The Data Dictionary of this dataset is as follows:\n",
    "1. IDLink (integer): Unique identifier of news items\n",
    "2. Title (string): Title of the news item according to the official media sources\n",
    "3. Headline (string): Headline of the news item according to the official media sources\n",
    "4. Source (string): Original news outlet that published the news item\n",
    "5. Topic (string): Query topic used to obtain the items in the official media sources\n",
    "6. PublishDate (timestamp): Date and time of the news items' publication\n",
    "7. SentimentTitle (numeric): Sentiment score of the text in the news items' title\n",
    "8. SentimentHeadline (numeric): Sentiment score of the text in the news items' headline\n",
    "9. Facebook (numeric): News items' popularity: number of times article is shared on Facebook\n",
    "10. GooglePlus (numeric): News items' popularity: number of times article is shared on Facebook Google+\n",
    "11. LinkedIn (numeric): News items' popularity: number of times article is shared on Facebook LinkedIn\n",
    "\n",
    "For the last 3 columns, value -1 indicates data for that news item for the corresponding social media platform could not be collected, value 0 indicates no shares and a non-zero positive value indicates number of shares."
   ]
  },
  {
   "cell_type": "markdown",
   "metadata": {},
   "source": [
    "## Definition of Popularity\n",
    "\n",
    "In our dataset, we will define the definition of popularity to be a summation of total number of shares on all the three social media platforms: Facebook, LinkedIn and Google+. After that, we will plot a density plot of popularity distribution to determine an arbitrary and learned point of threshold which will help us get a binary value for whether a news item becomes popular or not.\n",
    "\n",
    "Let us define a function to perform the summation and apply it on each row."
   ]
  },
  {
   "cell_type": "code",
   "execution_count": 456,
   "metadata": {},
   "outputs": [],
   "source": [
    "# Creating a function to count Total number of times a news article is shared\n",
    "def total_popularity(row):\n",
    "    total = 0\n",
    "    if row['Facebook'] > 0:\n",
    "        total += row['Facebook'] \n",
    "    if row['LinkedIn'] > 0:\n",
    "        total += row['LinkedIn']         \n",
    "    if row['GooglePlus'] > 0:\n",
    "        total += row['GooglePlus']  \n",
    "    return total\n",
    "\n",
    "#Calling the function on every row to determine Total Popularity\n",
    "news_dataset['TotalPopularity'] = news_dataset.apply(lambda row: total_popularity(row), axis = 1)"
   ]
  },
  {
   "cell_type": "markdown",
   "metadata": {},
   "source": [
    "We will now plot a graph of popularity density to identify the perfect arbitary breakpoint for classifying binary popularity for an article. "
   ]
  },
  {
   "cell_type": "code",
   "execution_count": 457,
   "metadata": {},
   "outputs": [
    {
     "data": {
      "image/png": "[encoded data removed]",
      "text/plain": [
       "<matplotlib.figure.Figure at 0x11c0db86358>"
      ]
     },
     "metadata": {},
     "output_type": "display_data"
    }
   ],
   "source": [
    "#Reference: https://stackoverflow.com/questions/4150171/how-to-create-a-density-plot-in-matplotlib \n",
    "density = gaussian_kde(news_dataset['TotalPopularity'])\n",
    "xs = np.linspace(0,50000,400)\n",
    "density.covariance_factor = lambda : 1\n",
    "density._compute_covariance()\n",
    "plt.plot(xs,density(xs))\n",
    "plt.axvline(news_dataset['TotalPopularity'].mean(), color='r', linestyle='dashed', linewidth=2)\n",
    "plt.axvline(1400, color='b', linestyle='dashed', linewidth=2)\n",
    "plt.show()"
   ]
  },
  {
   "cell_type": "markdown",
   "metadata": {},
   "source": [
    "From the graph above, we can see that the mean of total popularity is almost zero. Also, a majority of the news articles have total popularity less than 1400. News articles with popularity higher than that are very less in number. Therefore, we can infer that a lot of the articles have not been shared on either of Facebook, LinkedIn or GooglePlus. \n",
    "\n",
    "Let us consider the measure of popularity to be zero if it is not shared at all and one if shared at least once on Facebook, LinkedIn and GooglePlus.\n",
    "\n",
    "We will write a function for binary classification based on the learned classifying valuee and apply it on every row to create the target variable 'Popular' (1 if popular, 0 otherwise)."
   ]
  },
  {
   "cell_type": "code",
   "execution_count": 458,
   "metadata": {},
   "outputs": [
    {
     "name": "stdout",
     "output_type": "stream",
     "text": [
      "1120\n"
     ]
    },
    {
     "data": {
      "image/png": "[encoded data removed]",
      "text/plain": [
       "<matplotlib.figure.Figure at 0x11c0d99a6a0>"
      ]
     },
     "metadata": {},
     "output_type": "display_data"
    }
   ],
   "source": [
    "#Creating a function to add column 'Popularity' based on values from column 'TotalPopularity'\n",
    "def add_popularity(row):\n",
    "    if row['TotalPopularity'] > 0:\n",
    "        return 1\n",
    "    else:\n",
    "        return 0\n",
    "    \n",
    "news_dataset['Popular'] = news_dataset.apply(lambda row: add_popularity(row), axis = 1)\n",
    "print(len(news_dataset.loc[news_dataset['Popular'] > 0]))\n",
    "\n",
    "# Plotting a histogram of Popularity\n",
    "plt.hist(news_dataset['Popular'], bins = 3 )\n",
    "plt.show()"
   ]
  },
  {
   "cell_type": "markdown",
   "metadata": {},
   "source": [
    "Through this histogram we see that almost 75% of the news articles are popular. Therefore, if we were to classify all the news items to be popular, we would get an accuracy score of around 75% which means, we would need a model that gives us more accuracy than this. "
   ]
  },
  {
   "cell_type": "markdown",
   "metadata": {},
   "source": [
    "## Creating a Document Term Matrix\n",
    "\n",
    "Document Term Matrix consists of all the unique words in the corpus, in this case, the news headline and the count or frequency of that word in each document. It will result in a sparse matrix with rows equal to those of original data and columns with unique words.\n",
    "\n",
    "We will first write a function to process every news headline to create a list of valuable words in the headline by removing twitter handles, URLs, tagged words, strage characters, punctuations, stop words and lemmatizing the remaining words. "
   ]
  },
  {
   "cell_type": "markdown",
   "metadata": {},
   "source": [
    "### Function to process text"
   ]
  },
  {
   "cell_type": "code",
   "execution_count": 459,
   "metadata": {
    "collapsed": true
   },
   "outputs": [],
   "source": [
    "def process(text, lemmatizer=nltk.stem.wordnet.WordNetLemmatizer()):\n",
    "    \"\"\" Normalizes case and handles punctuation\n",
    "    Inputs:\n",
    "        text: str: raw text\n",
    "        lemmatizer: an instance of a class implementing the lemmatize() method\n",
    "                    (the default argument is of type nltk.stem.wordnet.WordNetLemmatizer)\n",
    "    Outputs:\n",
    "        list(str): tokenized text\n",
    "    \"\"\"\n",
    "    \n",
    "    #Converting to lower case\n",
    "    text = str(text).lower()\n",
    "    \n",
    "    #Removing handles of form '@trump'\n",
    "    text = re.sub(r'@([A-Za-z0-9_]+)', '', text)\n",
    "    \n",
    "    #Removing URL of form 'http...'\n",
    "    text = re.sub(r'http(.[^ ]+)', '', text)\n",
    "    \n",
    "    #Removing tagged words\n",
    "    text = re.sub(r'(<.+>)+', '', text)\n",
    "    \n",
    "    #Removing strange characters like â€™\n",
    "    include = set(string.printable)\n",
    "    text = list(filter(lambda x: x in include, text))\n",
    "    text = ''.join(text)\n",
    "    \n",
    "    #Removing punctuations    \n",
    "    exclude = set(string.punctuation)\n",
    "    exclude = exclude - set(\"\\'\")\n",
    "    text = text.replace(\"\\'s\",\"\")\n",
    "    text = text.replace(\"\\'\",\"\")    \n",
    "    for e in exclude:\n",
    "        text = text.replace(e, \" \")\n",
    "    \n",
    "    #Remove words less than 3 in length\n",
    "    text = re.sub(r'\\b\\w{1,3}\\b', '', text)\n",
    "    \n",
    "    #Initializing the result\n",
    "    result = []\n",
    "    \n",
    "    ##lammetizing\n",
    "    tokenized = nltk.word_tokenize(text)\n",
    "    \n",
    "    #Reference: Homework 3: text_classification.ipynb\n",
    "    for token in tokenized:\n",
    "        string_token = str(token)\n",
    "        try:\n",
    "            result.append(lemmatizer.lemmatize(string_token))\n",
    "        except:\n",
    "            continue\n",
    "    \n",
    "    #Getting NLTK stop words:\n",
    "    stopwords=nltk.corpus.stopwords.words('english')\n",
    "    modified_stopwords = [i.replace(\"\\'\", \"\") for i in stopwords]\n",
    "    \n",
    "    #Appending modified stop words list with some more words of no significance \n",
    "    total_stopwords = modified_stopwords + ['next', 'break', 'else', 'terms', 'while']\n",
    "    \n",
    "    #Removing the stop words\n",
    "    result = [item for item in result if item not in total_stopwords] #result - total_stopwords\n",
    "    \n",
    "    return result\n"
   ]
  },
  {
   "cell_type": "markdown",
   "metadata": {},
   "source": [
    "An example of calling the above function is as follows:"
   ]
  },
  {
   "cell_type": "code",
   "execution_count": 460,
   "metadata": {},
   "outputs": [
    {
     "name": "stdout",
     "output_type": "stream",
     "text": [
      "['bond', 'market', 'booming', 'sign', 'investor', 'faith', 'resilience', 'economy', 'bond', 'sale', 'company', 'good', 'credit', 'rating', 'billion', 'october']\n"
     ]
    }
   ],
   "source": [
    "text = 'The bond market is booming again, @ohholybutt a sign of investorsâ€™ faith in the resilience of the U.S. economy. while http://www.imemc.org, U.S. bond sales by companies with good credit ratings hit $103 billion in October, '\n",
    "print(process(text))"
   ]
  },
  {
   "cell_type": "markdown",
   "metadata": {},
   "source": [
    "We will now write a function to process the entire dataset's headline column to be replaced by lists of relevant words."
   ]
  },
  {
   "cell_type": "code",
   "execution_count": 461,
   "metadata": {
    "collapsed": true
   },
   "outputs": [],
   "source": [
    "def process_headline(df, lemmatizer=nltk.stem.wordnet.WordNetLemmatizer()):\n",
    "    \"\"\" process all text in the dataframe using process_text() function.\n",
    "        #Reference: Homework 3: text_classification.ipynb\n",
    "    Inputs\n",
    "        df: pd.DataFrame: dataframe containing a column 'text' loaded from the CSV file\n",
    "        lemmatizer: an instance of a class implementing the lemmatize() method\n",
    "                    (the default argument is of type nltk.stem.wordnet.WordNetLemmatizer)\n",
    "    Outputs\n",
    "        pd.DataFrame: dataframe in which the values of headline column have been changed from str to list(str),\n",
    "                        the output from process() function. Other columns remain unaffected.\n",
    "    \"\"\"\n",
    "    for i, row in df.iterrows():\n",
    "        df.set_value(i,'Headline', process(row['Headline']))\n",
    "    return df"
   ]
  },
  {
   "cell_type": "markdown",
   "metadata": {},
   "source": [
    "Let us now run the above function on our dataset to update the News Headline column and store it in a new dataframe."
   ]
  },
  {
   "cell_type": "code",
   "execution_count": 462,
   "metadata": {
    "collapsed": true
   },
   "outputs": [],
   "source": [
    "processed_ds = process_headline(news_dataset)"
   ]
  },
  {
   "cell_type": "markdown",
   "metadata": {
    "collapsed": true
   },
   "source": [
    "## Creating the feature matrix"
   ]
  },
  {
   "cell_type": "markdown",
   "metadata": {},
   "source": [
    "We now write a function to create the feature matrix by segregating all the unique words from the Headline column into their own respective columns and storing the frequency value for those terms in the corresponding rows. We also add other input features from the original matrix such as the Topic, SentimentTitle, SentimentHeadline and the target variable 'Popular'."
   ]
  },
  {
   "cell_type": "code",
   "execution_count": 463,
   "metadata": {},
   "outputs": [],
   "source": [
    "def create_feature_matrix(processed_ds): \n",
    "    \"\"\" creates the feature matrix using the processed headline text\n",
    "    Inputs:\n",
    "        news: pd.DataFrame: processed news dataset, containing the column 'Headline'\n",
    "        #rare_words: list(str): one of the outputs of get_feature_and_rare_words() function\n",
    "    Outputs:\n",
    "        feature_matrix: matrix of unique words and their frequency for each row\n",
    "                                we need this to tranform test news in the same way as train news\n",
    "    \"\"\"\n",
    "    \n",
    "    #Getting unique words from the Headline column\n",
    "    #Reference: https://stackoverflow.com/questions/3724551/python-uniqueness-for-list-of-lists\n",
    "    total_words = [x for y in processed_ds['Headline'] for x in y]\n",
    "    total_unique_words = set(total_words)\n",
    "    \n",
    "    #Adding additional feature column names\n",
    "    total_features = list(total_unique_words) + ['Topic',\n",
    "        'SentimentTitle', 'SentimentHeadline', 'Popular']\n",
    "    \n",
    "    #Initializing the feature matrix\n",
    "    feature_matrix = pd.DataFrame(columns = total_features)\n",
    "    \n",
    "    print(\"Final Columns: \", feature_matrix.columns)\n",
    "    \n",
    "    #Reference: Practical Data science: Homework 3: text classification\n",
    "    #Creating string corpus\n",
    "    for i, row in processed_ds.iterrows():\n",
    "        \n",
    "        #counting the frequency of words in the headline\n",
    "        word_freq = Counter(row['Headline'])\n",
    "              \n",
    "        #Storing the corresponding frequencies for each row\n",
    "        row_list = []\n",
    "        row_list = [0]*len(total_unique_words)\n",
    "        new_row_df = pd.DataFrame([row_list],columns=total_unique_words)                \n",
    "        for word in word_freq:\n",
    "            new_row_df.loc[0,word] = word_freq[word]\n",
    "                \n",
    "        #Adding other feature columns to feature matrix:\n",
    "        #Topic\n",
    "        new_row_df.loc[0,'Topic'] = row['Topic']\n",
    "        \n",
    "        #SentimentTitle\n",
    "        new_row_df.loc[0,'SentimentTitle'] = row['SentimentTitle']\n",
    "\n",
    "        #SentimentHeadline\n",
    "        new_row_df.loc[0,'SentimentHeadline'] = row['SentimentHeadline']\n",
    "        \n",
    "        #Popularity = target variable\n",
    "        new_row_df.loc[0,'Popular'] = row['Popular']\n",
    "        \n",
    "        #Appending the row to the final matrix\n",
    "        feature_matrix = pd.concat([feature_matrix, new_row_df], ignore_index= True )    \n",
    "    \n",
    "    #Returning values\n",
    "    return feature_matrix\n"
   ]
  },
  {
   "cell_type": "markdown",
   "metadata": {},
   "source": [
    "We now call the above function on our input data and store the result in a new dataframe. "
   ]
  },
  {
   "cell_type": "code",
   "execution_count": 464,
   "metadata": {},
   "outputs": [
    {
     "name": "stdout",
     "output_type": "stream",
     "text": [
      "Final Columns:  Index(['luxury', 'indonesia', 'employee', '2025', 'larijani', 'urging',\n",
      "       'encouraged', 'brash', 'ieee', 'fifty',\n",
      "       ...\n",
      "       'vietnamese', 'amosun', 'desperate', 'error', 'hulking', 'every',\n",
      "       'Topic', 'SentimentTitle', 'SentimentHeadline', 'Popular'],\n",
      "      dtype='object', length=5920)\n",
      "Dimensions of input matrix 2\n"
     ]
    }
   ],
   "source": [
    "#Subsetting the dataframe and passing it to create the final feature matrix\n",
    "input_matrix = create_feature_matrix(processed_ds)\n",
    "print(\"Dimensions of input matrix\", input_matrix.ndim)"
   ]
  },
  {
   "cell_type": "markdown",
   "metadata": {},
   "source": [
    "## Input matrix preview"
   ]
  },
  {
   "cell_type": "code",
   "execution_count": 466,
   "metadata": {},
   "outputs": [
    {
     "data": {
      "text/html": [
       "<div>\n",
       "<style>\n",
       "    .dataframe thead tr:only-child th {\n",
       "        text-align: right;\n",
       "    }\n",
       "\n",
       "    .dataframe thead th {\n",
       "        text-align: left;\n",
       "    }\n",
       "\n",
       "    .dataframe tbody tr th {\n",
       "        vertical-align: top;\n",
       "    }\n",
       "</style>\n",
       "<table border=\"1\" class=\"dataframe\">\n",
       "  <thead>\n",
       "    <tr style=\"text-align: right;\">\n",
       "      <th></th>\n",
       "      <th>luxury</th>\n",
       "      <th>indonesia</th>\n",
       "      <th>employee</th>\n",
       "      <th>2025</th>\n",
       "      <th>larijani</th>\n",
       "      <th>urging</th>\n",
       "      <th>encouraged</th>\n",
       "      <th>brash</th>\n",
       "      <th>ieee</th>\n",
       "      <th>fifty</th>\n",
       "      <th>...</th>\n",
       "      <th>vietnamese</th>\n",
       "      <th>amosun</th>\n",
       "      <th>desperate</th>\n",
       "      <th>error</th>\n",
       "      <th>hulking</th>\n",
       "      <th>every</th>\n",
       "      <th>Topic</th>\n",
       "      <th>SentimentTitle</th>\n",
       "      <th>SentimentHeadline</th>\n",
       "      <th>Popular</th>\n",
       "    </tr>\n",
       "  </thead>\n",
       "  <tbody>\n",
       "    <tr>\n",
       "      <th>0</th>\n",
       "      <td>0</td>\n",
       "      <td>0</td>\n",
       "      <td>0</td>\n",
       "      <td>0</td>\n",
       "      <td>0</td>\n",
       "      <td>0</td>\n",
       "      <td>0</td>\n",
       "      <td>0</td>\n",
       "      <td>0</td>\n",
       "      <td>0</td>\n",
       "      <td>...</td>\n",
       "      <td>0</td>\n",
       "      <td>0</td>\n",
       "      <td>0</td>\n",
       "      <td>0</td>\n",
       "      <td>0</td>\n",
       "      <td>0</td>\n",
       "      <td>economy</td>\n",
       "      <td>0.041667</td>\n",
       "      <td>0.090924</td>\n",
       "      <td>1.0</td>\n",
       "    </tr>\n",
       "    <tr>\n",
       "      <th>1</th>\n",
       "      <td>0</td>\n",
       "      <td>0</td>\n",
       "      <td>0</td>\n",
       "      <td>0</td>\n",
       "      <td>0</td>\n",
       "      <td>0</td>\n",
       "      <td>0</td>\n",
       "      <td>0</td>\n",
       "      <td>0</td>\n",
       "      <td>0</td>\n",
       "      <td>...</td>\n",
       "      <td>0</td>\n",
       "      <td>0</td>\n",
       "      <td>0</td>\n",
       "      <td>0</td>\n",
       "      <td>0</td>\n",
       "      <td>0</td>\n",
       "      <td>obama</td>\n",
       "      <td>-0.051031</td>\n",
       "      <td>0.022097</td>\n",
       "      <td>1.0</td>\n",
       "    </tr>\n",
       "    <tr>\n",
       "      <th>2</th>\n",
       "      <td>0</td>\n",
       "      <td>0</td>\n",
       "      <td>0</td>\n",
       "      <td>0</td>\n",
       "      <td>0</td>\n",
       "      <td>0</td>\n",
       "      <td>0</td>\n",
       "      <td>0</td>\n",
       "      <td>0</td>\n",
       "      <td>0</td>\n",
       "      <td>...</td>\n",
       "      <td>0</td>\n",
       "      <td>0</td>\n",
       "      <td>0</td>\n",
       "      <td>0</td>\n",
       "      <td>0</td>\n",
       "      <td>0</td>\n",
       "      <td>economy</td>\n",
       "      <td>-0.034722</td>\n",
       "      <td>0.164685</td>\n",
       "      <td>0.0</td>\n",
       "    </tr>\n",
       "    <tr>\n",
       "      <th>3</th>\n",
       "      <td>0</td>\n",
       "      <td>0</td>\n",
       "      <td>0</td>\n",
       "      <td>0</td>\n",
       "      <td>0</td>\n",
       "      <td>0</td>\n",
       "      <td>0</td>\n",
       "      <td>0</td>\n",
       "      <td>0</td>\n",
       "      <td>0</td>\n",
       "      <td>...</td>\n",
       "      <td>0</td>\n",
       "      <td>0</td>\n",
       "      <td>0</td>\n",
       "      <td>0</td>\n",
       "      <td>1</td>\n",
       "      <td>0</td>\n",
       "      <td>economy</td>\n",
       "      <td>0.041667</td>\n",
       "      <td>-0.026064</td>\n",
       "      <td>1.0</td>\n",
       "    </tr>\n",
       "    <tr>\n",
       "      <th>4</th>\n",
       "      <td>0</td>\n",
       "      <td>0</td>\n",
       "      <td>0</td>\n",
       "      <td>0</td>\n",
       "      <td>0</td>\n",
       "      <td>0</td>\n",
       "      <td>0</td>\n",
       "      <td>0</td>\n",
       "      <td>0</td>\n",
       "      <td>0</td>\n",
       "      <td>...</td>\n",
       "      <td>0</td>\n",
       "      <td>0</td>\n",
       "      <td>0</td>\n",
       "      <td>0</td>\n",
       "      <td>0</td>\n",
       "      <td>0</td>\n",
       "      <td>economy</td>\n",
       "      <td>0.000000</td>\n",
       "      <td>-0.102062</td>\n",
       "      <td>0.0</td>\n",
       "    </tr>\n",
       "  </tbody>\n",
       "</table>\n",
       "<p>5 rows × 5920 columns</p>\n",
       "</div>"
      ],
      "text/plain": [
       "  luxury indonesia employee 2025 larijani urging encouraged brash ieee fifty  \\\n",
       "0      0         0        0    0        0      0          0     0    0     0   \n",
       "1      0         0        0    0        0      0          0     0    0     0   \n",
       "2      0         0        0    0        0      0          0     0    0     0   \n",
       "3      0         0        0    0        0      0          0     0    0     0   \n",
       "4      0         0        0    0        0      0          0     0    0     0   \n",
       "\n",
       "    ...   vietnamese amosun desperate error hulking every    Topic  \\\n",
       "0   ...            0      0         0     0       0     0  economy   \n",
       "1   ...            0      0         0     0       0     0    obama   \n",
       "2   ...            0      0         0     0       0     0  economy   \n",
       "3   ...            0      0         0     0       1     0  economy   \n",
       "4   ...            0      0         0     0       0     0  economy   \n",
       "\n",
       "  SentimentTitle SentimentHeadline Popular  \n",
       "0       0.041667          0.090924     1.0  \n",
       "1      -0.051031          0.022097     1.0  \n",
       "2      -0.034722          0.164685     0.0  \n",
       "3       0.041667         -0.026064     1.0  \n",
       "4       0.000000         -0.102062     0.0  \n",
       "\n",
       "[5 rows x 5920 columns]"
      ]
     },
     "execution_count": 466,
     "metadata": {},
     "output_type": "execute_result"
    }
   ],
   "source": [
    "input_matrix.head()"
   ]
  },
  {
   "cell_type": "markdown",
   "metadata": {},
   "source": [
    "# FeedForward Neural Networks"
   ]
  },
  {
   "cell_type": "markdown",
   "metadata": {},
   "source": [
    "For our dataset, we have a vast amount of input variables and a single output variable. Therefore, we need a model with a high computational predictive power for our prediction. \n",
    "\n",
    "Enter **Neural Networks**!\n",
    "\n",
    "The simplest definition of a neural network, more properly referred to as an 'artificial' neural network (ANN), is provided by the inventor of one of the first neurocomputers, Dr. Robert Hecht-Nielsen. He defines a neural network as:\n",
    "    _\"...a computing system made up of a number of simple, highly interconnected processing elements, which process information by their dynamic state response to external inputs.\"_ [1]\n",
    "\n",
    "It is a computer system modeled on our human brain and nervous system. \n",
    "    \n",
    "There are different types of neural networks such as Recurrent Neural networks, convolutional neural networks,etc. In our case, we will use a **Feedforward neural network**. Feedforward neural networks are great for learning a pattern between a set of inputs and outputs with high computational power. According to Wiki, a feedforward neural network is an artificial neural network wherein connections between the units do not form a cycle. "
   ]
  },
  {
   "cell_type": "markdown",
   "metadata": {},
   "source": [
    "In our model, we have the input layer, one hidden layer and an output as shown below."
   ]
  },
  {
   "cell_type": "markdown",
   "metadata": {},
   "source": [
    "<img src=\"./ffnn.png\" alt=\"NewsDataset Neural Network\" title=\"FeedForward Neural Network\">"
   ]
  },
  {
   "cell_type": "markdown",
   "metadata": {},
   "source": [
    "Internally, at every step, our model takes a weighted sum of the inputs at that step, applies an activation function on it and gives a specified number of outputs that are equivalent to the number of inputs the next layer takes. We also define a loss function that helps to optimize our model by decreasing the loss. In our case it is binary_crossentropy as our output variable is a binary classifier output. For activation, we use the sigmoid function in order to capture the linear as well as non-linear property of our functions."
   ]
  },
  {
   "cell_type": "markdown",
   "metadata": {},
   "source": [
    "## Creating the train and test set"
   ]
  },
  {
   "cell_type": "markdown",
   "metadata": {},
   "source": [
    "Let us perform random sampling of the data to define 70% of it to be training set and the remaining 30% to be the test set. We also separate the target variable 'Popular' in a 1D array from the rest of the input variables for both, the train and test set. The input variable Topic and the target variable 'Popular' needs to be converted into categorial types."
   ]
  },
  {
   "cell_type": "code",
   "execution_count": 467,
   "metadata": {},
   "outputs": [],
   "source": [
    "#Converting the topic variable to categorical type\n",
    "#Reference:https://stackoverflow.com/questions/32011359/convert-categorical-data-in-pandas-dataframe\n",
    "input_matrix['Topic'] = input_matrix['Topic'].astype('category')\n",
    "cat_columns = input_matrix.select_dtypes(['category']).columns\n",
    "\n",
    "#Converting the string category to numeric code for each\n",
    "input_matrix[cat_columns] = input_matrix[cat_columns].apply(lambda x : x.cat.codes)\n",
    "\n",
    "#Converting the target variable to categorical type\n",
    "input_matrix['Popular'] = to_categorical(input_matrix['Popular'])\n",
    "\n",
    "#Separating the input variables from the target variable\n",
    "X = input_matrix.drop(['Popular'], axis = 1)\n",
    "Y = input_matrix['Popular']\n",
    "\n",
    "#Randomly splitting the data into train(70%) and test(30%) sets\n",
    "training_set_x, test_set_x, training_set_y, test_set_y = train_test_split(X, Y, test_size = 0.3)\n"
   ]
  },
  {
   "cell_type": "markdown",
   "metadata": {},
   "source": [
    "## Training the model"
   ]
  },
  {
   "cell_type": "markdown",
   "metadata": {},
   "source": [
    "We first initialize the model as Sequential which means it is a linear stack of layers. "
   ]
  },
  {
   "cell_type": "code",
   "execution_count": 468,
   "metadata": {
    "collapsed": true
   },
   "outputs": [],
   "source": [
    "# Initializing the Neural Network\n",
    "model = Sequential()"
   ]
  },
  {
   "cell_type": "markdown",
   "metadata": {},
   "source": [
    "We then add the input layer specifying the shape of the input data same as our input matrix, give the ouputs to be 10 and specify the activation function to be a sigmoid to learn both linear as well as non-linear functions in the data. "
   ]
  },
  {
   "cell_type": "code",
   "execution_count": 469,
   "metadata": {},
   "outputs": [],
   "source": [
    "#Adding the input layer\n",
    "model.add(Dense(units = 15, input_shape=(training_set_x.shape[1],), activation='sigmoid'))"
   ]
  },
  {
   "cell_type": "markdown",
   "metadata": {},
   "source": [
    "We add a hidden layer after the input layer."
   ]
  },
  {
   "cell_type": "code",
   "execution_count": 470,
   "metadata": {
    "collapsed": true
   },
   "outputs": [],
   "source": [
    "#Adding a hidden layer\n",
    "model.add(Dense(units = 10, input_dim=15, activation='sigmoid'))"
   ]
  },
  {
   "cell_type": "markdown",
   "metadata": {},
   "source": [
    "Then, we add the output layer by defining only 1 output and sigmoid to be the activation function."
   ]
  },
  {
   "cell_type": "code",
   "execution_count": 471,
   "metadata": {
    "collapsed": true
   },
   "outputs": [],
   "source": [
    "#Adding the output layer\n",
    "model.add(Dense(units = 1, activation='sigmoid'))"
   ]
  },
  {
   "cell_type": "markdown",
   "metadata": {},
   "source": [
    "Then, we define the optimizer by specifying the learning rate which is the ability of the neural network to abandon old beliefs for new ones, that is, how quickly it learns. The rest of the parameters are recommended to be kept the same."
   ]
  },
  {
   "cell_type": "code",
   "execution_count": 472,
   "metadata": {
    "collapsed": true
   },
   "outputs": [],
   "source": [
    "#Creating an optimizer\n",
    "rmsprop = optimizers.RMSprop(lr=0.001, rho=0.9, epsilon=None, decay=0.0)"
   ]
  },
  {
   "cell_type": "markdown",
   "metadata": {},
   "source": [
    "We then compile our model using the above optimizer, define the loss function that is adapted for binary output and define the metric for measurement to be accuracy. "
   ]
  },
  {
   "cell_type": "code",
   "execution_count": 473,
   "metadata": {
    "collapsed": true
   },
   "outputs": [],
   "source": [
    "#Compiling the RNN\n",
    "model.compile(optimizer=rmsprop, loss='binary_crossentropy', metrics=['accuracy'])"
   ]
  },
  {
   "cell_type": "markdown",
   "metadata": {},
   "source": [
    "Finally, we fit the model on our training dataset by mentioning the number of epochs to train the model and verbosity mode to be silent (0). The batch size which is the number of samples per gradient update is kept at a default of 32."
   ]
  },
  {
   "cell_type": "code",
   "execution_count": 474,
   "metadata": {},
   "outputs": [
    {
     "data": {
      "text/plain": [
       "<keras.callbacks.History at 0x11c0a2c9f28>"
      ]
     },
     "execution_count": 474,
     "metadata": {},
     "output_type": "execute_result"
    }
   ],
   "source": [
    "# Fitting the RNN to training set\n",
    "model.fit(training_set_x, training_set_y, epochs=40, verbose=0)"
   ]
  },
  {
   "cell_type": "markdown",
   "metadata": {},
   "source": [
    "## Predicting outcome using the trained model"
   ]
  },
  {
   "cell_type": "markdown",
   "metadata": {},
   "source": [
    "We now call the predict function on our trained model on the train as well as test data. It returns a numpy array of predictions between 0 and 1. We will define our threshold to be 0.5, meaning that if the value is less 0.5, the popularity is zero, one otherwise."
   ]
  },
  {
   "cell_type": "code",
   "execution_count": 475,
   "metadata": {},
   "outputs": [],
   "source": [
    "#Predicting the outcome on the training set and alloting the appropriate class\n",
    "y_train_pred = model.predict(training_set_x)\n",
    "y_train_class_pred = y_train_pred > 0.5\n",
    "y_train_class_pred = y_train_class_pred.astype(int)\n",
    "\n",
    "#Predicting the outcome on the test set and alloting the appropriate class\n",
    "y_test_pred = model.predict(test_set_x)\n",
    "y_test_class_pred = y_test_pred > 0.5\n",
    "y_test_class_pred = y_test_class_pred.astype(int)"
   ]
  },
  {
   "cell_type": "code",
   "execution_count": 476,
   "metadata": {},
   "outputs": [
    {
     "data": {
      "image/png": "[encoded data removed]",
      "text/plain": [
       "<matplotlib.figure.Figure at 0x11c0db8f080>"
      ]
     },
     "metadata": {},
     "output_type": "display_data"
    }
   ],
   "source": [
    "# Plotting a histogram distribution of Predicted Popularity on test set\n",
    "plt.hist(y_test_pred, bins = 30 )\n",
    "plt.show()"
   ]
  },
  {
   "cell_type": "markdown",
   "metadata": {},
   "source": [
    "## Accuracy check"
   ]
  },
  {
   "cell_type": "markdown",
   "metadata": {},
   "source": [
    "According to wiki, accuracy of a classifier measures the fraction of all data points that are correctly classified by it; it is the ratio of the number of correct classifications to the total number of (correct or incorrect) classifications. We will now calculate the same for our predictions and guage how accurate they are, using sklearn library's accuracy_score method for our train as well as test data."
   ]
  },
  {
   "cell_type": "code",
   "execution_count": 477,
   "metadata": {},
   "outputs": [
    {
     "name": "stdout",
     "output_type": "stream",
     "text": [
      "The training accuracy score is 0.990\n",
      "The testing accuracy score is 0.727\n"
     ]
    }
   ],
   "source": [
    "# Reference: https://github.com/neelabhpant/Deep-Learning-in-Python/blob/master/Logistic_Regression_Keras.ipynb\n",
    "print(\"The training accuracy score is {:0.3f}\".format(accuracy_score(training_set_y, y_train_class_pred)))\n",
    "print(\"The testing accuracy score is {:0.3f}\".format(accuracy_score(test_set_y, y_test_class_pred)))"
   ]
  },
  {
   "cell_type": "markdown",
   "metadata": {},
   "source": [
    "We see that our training accuracy is pretty high while our test accuracy is just okay. This is because, as we saw earlier, if we were to classify all the news items to be popular, we would still get around 75% accuracy. In that sense, our model is not really doing a good job and we would need to find ways to either tune it more, find more appropriate features or use another model."
   ]
  },
  {
   "cell_type": "markdown",
   "metadata": {},
   "source": [
    "## Confusion Matrix"
   ]
  },
  {
   "cell_type": "code",
   "execution_count": 478,
   "metadata": {},
   "outputs": [
    {
     "name": "stdout",
     "output_type": "stream",
     "text": [
      "Training Data Confusion Matrix :\n",
      "\n",
      "              Predicted Not Popular  Predicted Popular\n",
      "Not Popular                    789                  0\n",
      "Popular                         10                251\n",
      "------------------------------------------------\n",
      "Testing Data Confusion Matrix :\n",
      "\n",
      "              Predicted Not Popular  Predicted Popular\n",
      "Not Popular                    307                 24\n",
      "Popular                         99                 20\n"
     ]
    }
   ],
   "source": [
    "#Function to create the confusion matrix \n",
    "def create_confusion_matrix(true_y, y_pred, categories=[0, 1]):\n",
    "    \n",
    "    #Converting to 1D lists\n",
    "    true_y = list(true_y)    \n",
    "    y_pred = list(y_pred.flatten())\n",
    "\n",
    "    #Confusion matrix\n",
    "    conmat = confusion_matrix(true_y, y_pred)\n",
    "    \n",
    "    #Defining the categories\n",
    "    pred_categories = [\"Predicted \"+ c for c in categories]\n",
    "    \n",
    "    #Creating the CM dataframe\n",
    "    cm_df = pd.DataFrame(conmat, index=categories, columns=pred_categories)\n",
    "    \n",
    "    return cm_df\n",
    "\n",
    "#Printing the confusion matrix\n",
    "print(\"Training Data Confusion Matrix :\\n\\n\",create_confusion_matrix(training_set_y, y_train_class_pred, [\"Not Popular\", \"Popular\"]))\n",
    "print(\"------------------------------------------------\")\n",
    "print(\"Testing Data Confusion Matrix :\\n\\n\",create_confusion_matrix(test_set_y, y_test_class_pred, [\"Not Popular\", \"Popular\"]))"
   ]
  },
  {
   "cell_type": "markdown",
   "metadata": {},
   "source": [
    "## Tuning the model: K-fold cross validation"
   ]
  },
  {
   "cell_type": "markdown",
   "metadata": {},
   "source": [
    "We can probably improve this accuracy by tuning our model using K-fold cross validation."
   ]
  },
  {
   "cell_type": "code",
   "execution_count": 479,
   "metadata": {},
   "outputs": [
    {
     "name": "stdout",
     "output_type": "stream",
     "text": [
      "The cross validation accuracy is 0.7257 ± 0.0149\n"
     ]
    }
   ],
   "source": [
    "#Function to build the neural network so that it can be run over and over again\n",
    "def build_neuralnet_model():\n",
    "    nnmodel = Sequential()\n",
    "    nnmodel.add(Dense(15, input_shape=(training_set_x.shape[1],), activation='sigmoid'))\n",
    "    nnmodel.add(Dense(units = 10, input_dim=15, activation='sigmoid'))\n",
    "    nnmodel.add(Dense(1, activation='sigmoid'))\n",
    "    nnmodel.compile(optimizer=rmsprop,\n",
    "                    loss='binary_crossentropy',\n",
    "                    metrics=['accuracy'])\n",
    "    return nnmodel\n",
    "\n",
    "#Reference: https://github.com/neelabhpant/Deep-Learning-in-Python/blob/master/Logistic_Regression_Keras.ipynb\n",
    "nnmodel = KerasClassifier(build_fn=build_neuralnet_model,\n",
    "                        epochs=40,\n",
    "                        verbose=0)\n",
    "\n",
    "#Running the Kfold cross validation on the neural net model created\n",
    "cross_val = KFold(5, shuffle=True)\n",
    "scores = cross_val_score(nnmodel, training_set_x, training_set_y, cv=cross_val)\n",
    "\n",
    "print(\"The cross validation accuracy is {:0.4f} ± {:0.4f}\".format(scores.mean(), scores.std()))"
   ]
  },
  {
   "cell_type": "markdown",
   "metadata": {},
   "source": [
    "Since the cross validation accuracy is more or less the same as the Accuracy we got previously, we can say that our model is sufficiently tuned even after shuffling our data through various folds of cross-valdiation."
   ]
  },
  {
   "cell_type": "markdown",
   "metadata": {},
   "source": [
    "## Possible further research areas"
   ]
  },
  {
   "cell_type": "markdown",
   "metadata": {},
   "source": [
    "In order to increase our model performance, we can expand our research in the following ways:\n",
    "1. Instead of using a Document Term Matrix, we can possibly use a TFIDF matrix as input features.\n",
    "2. Instead of converting Popularity to a binary variable, we can predict the actual measure of popularity, that is, the total number of shares. \n",
    "\n",
    "But wait... what if the ordering of data mattered? If we order our news items according to their Publish Dates, the popularity of a previously published news item may affect the popularity of the newly published news article on the same topic, that is, economy and having similar kind of words along with their frequency.\n",
    "\n",
    "As a result, by ordering the input data by Publish Date and making it **sequential**, we can possibly use Recurrent Neural Networks to use previous hidden state for a **particular topic** and predict the popularity based on similar words and sentiments, to predict the popularity for subsequent news articles."
   ]
  },
  {
   "cell_type": "markdown",
   "metadata": {},
   "source": [
    "## References"
   ]
  },
  {
   "cell_type": "markdown",
   "metadata": {},
   "source": [
    "1. http://pages.cs.wisc.edu/~bolo/shipyard/neural/local.html\n",
    "2. https://keras.io/optimizers/\n",
    "2. https://keras.io/getting-started/sequential-model-guide/\n",
    "3. https://arxiv.org/pdf/1801.07055.pdf\n",
    "4. https://github.com/neelabhpant/Deep-Learning-in-Python/blob/master/Logistic_Regression_Keras.ipynb\n",
    "5. https://github.com/kimanalytics/Recurrent-Neural-Network-to-Predict-Stock-Prices/blob/master/Recurrent%20Neural%20Network%20to%20Predict%20Tesla%20Stock%20Prices.ipynb\n",
    "6. https://github.com/Kulbear/stock-prediction/blob/master/data-preparation.ipynb"
   ]
  }
 ],
 "metadata": {
  "kernelspec": {
   "display_name": "Python 3",
   "language": "python",
   "name": "python3"
  },
  "language_info": {
   "codemirror_mode": {
    "name": "ipython",
    "version": 3
   },
   "file_extension": ".py",
   "mimetype": "text/x-python",
   "name": "python",
   "nbconvert_exporter": "python",
   "pygments_lexer": "ipython3",
   "version": "3.6.3"
  }
 },
 "nbformat": 4,
 "nbformat_minor": 2
}
