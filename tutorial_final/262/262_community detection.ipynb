{
 "cells": [
  {
   "cell_type": "markdown",
   "metadata": {},
   "source": [
    "# Girvan-Newman Algorithm for Community Detection"
   ]
  },
  {
   "cell_type": "markdown",
   "metadata": {},
   "source": [
    "## Introduction\n",
    "This tutorial will provide a full introduction of Girvan-Newman algorithm. In real world data science work, the community detection algorithm is widely used. For example, two users in social networks, such as Facebook and Twitter, are considered connected if they follows each other. In these networks, there is usually communities where people are joined together in tightly knit groups, for example, a group of friends usually follows every other person in this group). Between communities, there are only looser connections. When we already have the data of connections between all users in a network, Girvan-Newman algorithm is a sensitive and reliable method to detect these communities."
   ]
  },
  {
   "cell_type": "markdown",
   "metadata": {},
   "source": [
    "### Tutorial contents\n",
    "In this tutorial, although we will implement the Girvan-Newman algorithm in python3 on our own, we'll have a brief look of how to use existing library. Besides, the algorithm itself based on the Dijsktra’s algorithm. For the readability and simplicity of the tutorial, we use the Dijsktra's algorithm's library provided by [NetworkX](http://networkx.github.io).\n",
    "\n",
    "We will cover the following topics in this tutorial:\n",
    "\n",
    "\n",
    "* Briefly Introduction and install NetworkX\n",
    "* Basic concept\n",
    "* How to use Girvan-Newman algorithm in NetworkX\n",
    "* The modularity of community structure\n",
    "* The implementation of Girvan-Newman"
   ]
  },
  {
   "cell_type": "markdown",
   "metadata": {},
   "source": [
    "## Briefly introduction and install NetworkX\n",
    "NetworkX is a Python package for the creation, manipulation, and study of the structure, dynamics, and functions of complex networks.\n",
    "The current released version of NetworkX can be installed by using `pip`:\n",
    "```\n",
    "$ pip install networkx\n",
    "```\n",
    "\n",
    "To upgrade to a newer release use the `--upgrade` flag:\n",
    "```\n",
    "$ pip install --upgrade networkx\n",
    "```\n",
    "\n",
    "If you have Git installed on your system, it is also possible to install the development version of NetworkX. Before installing the development version, you may need to uninstall the standard version of networkx using `pip`:\n",
    "```\n",
    "$ pip uninstall networkx\n",
    "```\n",
    "\n",
    "Then do:\n",
    "```\n",
    "$ git clone https://github.com/networkx/networkx.git\n",
    "$ cd networkx\n",
    "$ pip install -e .\n",
    "```\n",
    "\n",
    "For the later use of NetworkX, import the package. The plot tool for showing the graph should be imported as well."
   ]
  },
  {
   "cell_type": "code",
   "execution_count": 1,
   "metadata": {
    "collapsed": true
   },
   "outputs": [],
   "source": [
    "import networkx as nx\n",
    "import matplotlib.pyplot as plt"
   ]
  },
  {
   "cell_type": "markdown",
   "metadata": {},
   "source": [
    "## Basic concept\n",
    "\n",
    "Let's start with a simple and straight foward example of a network with community structure.\n",
    "![Network with community](data:image/png;base64,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)\n",
    "In this picture, we can figure out that there are three communities by eyes. The communities are densly connected vertices. The first community is constructed by node `1`, `2` and `3`. Node `4`, `5` and `6` form the second group and `7`, `8`, `9` the third. Between the three communities, there are only much lower density of connections.\n",
    "\n",
    "This network can be represented by a `Graph` object in NetworkX:"
   ]
  },
  {
   "cell_type": "code",
   "execution_count": 2,
   "metadata": {},
   "outputs": [],
   "source": [
    "G = nx.Graph()\n",
    "G.add_nodes_from(['1','2','3','4','5','6','7','8','9'])\n",
    "G.add_edges_from([('1','2'),('1','3'),('2','3')])\n",
    "G.add_edges_from([('4','5'),('4','6'),('5','6')])\n",
    "G.add_edges_from([('7','8'),('7','9'),('8','9')])\n",
    "G.add_edges_from([('2','4'),('2','7')])"
   ]
  },
  {
   "cell_type": "markdown",
   "metadata": {},
   "source": [
    "Before explain the basic idea of Girvan-Newman algorithm, we need to learn the concept of betweeness. Betweeness is a property of edges in graph. For each edge, the betweeness of this edge is `N` means that there are `N` shortest path in this whole graph pass this edge. \n",
    "\n",
    "For example, the betweeness of the edge between node `5` and node `6` is `1` because only shortest path between node `5` and node `6` passes this edge. While the betweeness of the edge between node `4` and node `5` is `7`. It is easily to figure out that except node `6`, all other node in the graph have the shortest path to node `5` which include the edge between node `5` and node `4`. There is a more complicated example that the betweeness of the edge between `2` and `4`. But after observing the graph for a minute, we can find that nodes left to this edge can only reach nodes right to this edge by passing this edge. There are 6 nodes left to this edge and 3 nodes right to it. So the betweeness of this edge is `18`.\n",
    "\n",
    "The basic idea of Girvan-Newman algorithm is that:\n",
    "* **The number of shortest path passes edges in communities are relatively small**\n",
    "* **The number of shortest path passes edges between communities are relatively large**\n",
    "\n",
    "So the step of Girvan-Newman algorithm is:\n",
    "1. Calculate the betweeness of every edge:\n",
    "\n",
    "2. Delete the edges with largest betweeness:\n",
    "\n",
    "3. Calculate the betweeness of the remained edges\n",
    "\n",
    "4. Do step 2 and step 3 repeatedly, until there are only single vertice in each community\n",
    "\n",
    "For our extremly simple example, the edges with largest betweeness of the original graph is edge between node `7` and `2`, node between `4` and `2`. The betweeness of both of them is 18. After delete these two edges, the graph looks like this:\n",
    "![Graph after step 2](data:image/png;base64,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)\n",
    "\n",
    "Then, we follow the step 3 and find that the betweeness of all remained edges in the graph is now 1. After delete these edges, the graph become a network of 9 community and each community has only single vertice. So according to the step 4, we're done.\n",
    "\n",
    "Also, after applying Girvan-Newman algorithm on a graph, we can get the hierarchical breakdown of the graph at all the different levels of the edge removals.\n",
    "\n",
    "There is a relatively more comlicated example with the same idea.\n",
    "![Another example](http://slideplayer.com/10513595/35/images/74/Girvan-Newman%3A+Example.jpg)\n",
    "\n",
    "For the graph with m edges and n vertices, the time complexity of calculating betweeness is O(mn) and the total time complexity is O(mˆ2n)"
   ]
  },
  {
   "cell_type": "markdown",
   "metadata": {},
   "source": [
    "## How to use Girvan-Newman algorithm in NetworkX\n",
    "\n",
    "NetworkX provide easy to use library to apply Girvan-Newman algorithm on a graph. The return value of the Girvan-Newman algorithm is the dendrogram as a sequence of successive breakdowns of the nodes. The community of our extremly simple example can be generated by:"
   ]
  },
  {
   "cell_type": "code",
   "execution_count": 3,
   "metadata": {},
   "outputs": [
    {
     "data": {
      "text/plain": [
       "[({'1', '2', '3', '7', '8', '9'}, {'4', '5', '6'}),\n",
       " ({'1', '2', '3'}, {'4', '5', '6'}, {'7', '8', '9'}),\n",
       " ({'1'}, {'2', '3'}, {'4', '5', '6'}, {'7', '8', '9'}),\n",
       " ({'1'}, {'2'}, {'3'}, {'4', '5', '6'}, {'7', '8', '9'}),\n",
       " ({'1'}, {'2'}, {'3'}, {'4'}, {'5', '6'}, {'7', '8', '9'}),\n",
       " ({'1'}, {'2'}, {'3'}, {'4'}, {'5'}, {'6'}, {'7', '8', '9'}),\n",
       " ({'1'}, {'2'}, {'3'}, {'4'}, {'5'}, {'6'}, {'7'}, {'8', '9'}),\n",
       " ({'1'}, {'2'}, {'3'}, {'4'}, {'5'}, {'6'}, {'7'}, {'8'}, {'9'})]"
      ]
     },
     "execution_count": 3,
     "metadata": {},
     "output_type": "execute_result"
    }
   ],
   "source": [
    "communities = nx.community.girvan_newman(G)\n",
    "list(communities)"
   ]
  },
  {
   "cell_type": "markdown",
   "metadata": {},
   "source": [
    "For the relatively more complicated example, the result of the Girvan-Newman algorithm is:"
   ]
  },
  {
   "cell_type": "code",
   "execution_count": 4,
   "metadata": {},
   "outputs": [
    {
     "data": {
      "text/plain": [
       "[({'1', '2', '3', '4', '5', '6', '7'},\n",
       "  {'10', '11', '12', '13', '14', '8', '9'}),\n",
       " ({'1', '2', '3'},\n",
       "  {'4', '5', '6', '7'},\n",
       "  {'10', '11', '12', '13', '14', '8', '9'}),\n",
       " ({'1', '2', '3'},\n",
       "  {'4', '5', '6', '7'},\n",
       "  {'10', '11', '9'},\n",
       "  {'12', '13', '14', '8'}),\n",
       " ({'1', '2', '3'},\n",
       "  {'4', '5', '6'},\n",
       "  {'10', '11', '9'},\n",
       "  {'12', '13', '14', '8'},\n",
       "  {'7'}),\n",
       " ({'1', '2', '3'},\n",
       "  {'4', '5', '6'},\n",
       "  {'10', '11', '9'},\n",
       "  {'12', '13', '14'},\n",
       "  {'7'},\n",
       "  {'8'}),\n",
       " ({'1'},\n",
       "  {'2', '3'},\n",
       "  {'4', '5', '6'},\n",
       "  {'10', '11', '9'},\n",
       "  {'12', '13', '14'},\n",
       "  {'7'},\n",
       "  {'8'}),\n",
       " ({'1'},\n",
       "  {'2'},\n",
       "  {'3'},\n",
       "  {'4', '5', '6'},\n",
       "  {'10', '11', '9'},\n",
       "  {'12', '13', '14'},\n",
       "  {'7'},\n",
       "  {'8'}),\n",
       " ({'1'},\n",
       "  {'2'},\n",
       "  {'3'},\n",
       "  {'4'},\n",
       "  {'5', '6'},\n",
       "  {'10', '11', '9'},\n",
       "  {'12', '13', '14'},\n",
       "  {'7'},\n",
       "  {'8'}),\n",
       " ({'1'},\n",
       "  {'2'},\n",
       "  {'3'},\n",
       "  {'4'},\n",
       "  {'5'},\n",
       "  {'6'},\n",
       "  {'10', '11', '9'},\n",
       "  {'12', '13', '14'},\n",
       "  {'7'},\n",
       "  {'8'}),\n",
       " ({'1'},\n",
       "  {'2'},\n",
       "  {'3'},\n",
       "  {'4'},\n",
       "  {'5'},\n",
       "  {'6'},\n",
       "  {'9'},\n",
       "  {'10', '11'},\n",
       "  {'12', '13', '14'},\n",
       "  {'7'},\n",
       "  {'8'}),\n",
       " ({'1'},\n",
       "  {'2'},\n",
       "  {'3'},\n",
       "  {'4'},\n",
       "  {'5'},\n",
       "  {'6'},\n",
       "  {'9'},\n",
       "  {'10'},\n",
       "  {'11'},\n",
       "  {'12', '13', '14'},\n",
       "  {'7'},\n",
       "  {'8'}),\n",
       " ({'1'},\n",
       "  {'2'},\n",
       "  {'3'},\n",
       "  {'4'},\n",
       "  {'5'},\n",
       "  {'6'},\n",
       "  {'9'},\n",
       "  {'10'},\n",
       "  {'11'},\n",
       "  {'12'},\n",
       "  {'13', '14'},\n",
       "  {'7'},\n",
       "  {'8'}),\n",
       " ({'1'},\n",
       "  {'2'},\n",
       "  {'3'},\n",
       "  {'4'},\n",
       "  {'5'},\n",
       "  {'6'},\n",
       "  {'9'},\n",
       "  {'10'},\n",
       "  {'11'},\n",
       "  {'12'},\n",
       "  {'13'},\n",
       "  {'14'},\n",
       "  {'7'},\n",
       "  {'8'})]"
      ]
     },
     "execution_count": 4,
     "metadata": {},
     "output_type": "execute_result"
    }
   ],
   "source": [
    "G1 = nx.Graph()\n",
    "G1.add_edges_from([('1','2'), ('1','3'), ('2','3'), ('4','5'), ('4','6'), ('5','6'), \n",
    "                  ('9','10'), ('9','11'), ('10','11'), ('12','13'), ('12','14'), ('13','14'),\n",
    "                  ('3','7'), ('6','7'), ('7','8'), ('8','9'), ('8','12')])\n",
    "communities = nx.community.girvan_newman(G1)\n",
    "list(communities)"
   ]
  },
  {
   "cell_type": "markdown",
   "metadata": {},
   "source": [
    "## The modularity of the community structure\n",
    "\n",
    "There are some disadvantage of Girvan-Newman algorithm:\n",
    "* The result of number of communities is unknown until the calculation is finished\n",
    "* The time complexity is too high for some shortest path may be repeatedly calculated\n",
    "\n",
    "To solve these problem and improve the efficiency of the community detection algorithm, Newman proposed a concept called modularity.\n",
    "\n",
    "Modularity is a value to evaluate how good a community structure is. The larger the modularity is, the better the community structure is. Modularity can be calculated by the following formula by definition:\n",
    "![formula](https://img-blog.csdn.net/20150508111209155)\n",
    "\n",
    "and,\n",
    "![formula](https://img-blog.csdn.net/20150508110737090)\n",
    "\n",
    "kv means the degree of the vertice v.\n",
    "\n",
    "δ(cv,cw) is 1 if vertice w and v are in the same community, otherwise zero.\n",
    "\n",
    "m is the total number of edges in the graph.\n",
    "\n",
    "By using the concept of modularity, we can now improve our community detection algorithm. Each time when we split the community, we calculate the modularity and when the modularity is the largest, split the community."
   ]
  },
  {
   "cell_type": "markdown",
   "metadata": {},
   "source": [
    "## The implementation of Girvan-Newman\n",
    "An implementation of Girvan-Newman algorithm written in python is presented.\n",
    "\n",
    "Some library usable for the algorithm:"
   ]
  },
  {
   "cell_type": "code",
   "execution_count": 5,
   "metadata": {
    "collapsed": true
   },
   "outputs": [],
   "source": [
    "import networkx as nx\n",
    "import random as rand"
   ]
  },
  {
   "cell_type": "markdown",
   "metadata": {},
   "source": [
    "The main routine of the algorithm:"
   ]
  },
  {
   "cell_type": "code",
   "execution_count": 6,
   "metadata": {},
   "outputs": [],
   "source": [
    "def girvan_newman(G):\n",
    "    \n",
    "    print('Nodes in the original graph', G.nodes())\n",
    "    print('Edges in the original graph', G.edges())\n",
    "    \n",
    "    m = G.number_of_nodes()\n",
    "    A = nx.adj_matrix(G)\n",
    "\n",
    "    weighted_m = 0.0\n",
    "    for i in range(0,m):\n",
    "        for j in range(0,m):\n",
    "            weighted_m += A[i,j]\n",
    "    weighted_m = weighted_m/2.0\n",
    "    print('Number of edge', m)\n",
    "    print('Number of edge with weight', weighted_m)\n",
    "\n",
    "    #calculate the weighted degree for each node\n",
    "    degree = calculateDegree(G.nodes(), G.edges())\n",
    "    print('The degree of nodes', degree)\n",
    "    \n",
    "    BestQ = 0.0\n",
    "    Q = 0.0\n",
    "    while True:    \n",
    "        Community(G)\n",
    "        Q = calculateQ(G, degree, weighted_m);\n",
    "        print(\"Modularity of decomposed G: %f\" % Q)\n",
    "        if Q > BestQ:\n",
    "            BestQ = Q\n",
    "            Bestcomps = nx.connected_components(G)    #Best Split\n",
    "            print(\"Get best comminity.\")\n",
    "            print(\"Components:\", list(Bestcomps))\n",
    "            print(\"Remained edge count:\", G.number_of_edges())\n",
    "        if G.number_of_edges() == 0:\n",
    "            print(\"No edge remained, done.\")\n",
    "            break\n",
    "    if BestQ > 0.0:\n",
    "        print(\"Max modularity (Q): %f\" % BestQ)\n",
    "        print(\"Graph communities:\", list(Bestcomps))\n",
    "    else:\n",
    "        print(\"Max modularity (Q): %f\" % BestQ)"
   ]
  },
  {
   "cell_type": "markdown",
   "metadata": {},
   "source": [
    "The helper function for calculate degree of each node:"
   ]
  },
  {
   "cell_type": "code",
   "execution_count": 7,
   "metadata": {},
   "outputs": [],
   "source": [
    "def calculateDegree(nodes, edges):\n",
    "    result = {}\n",
    "    for edge in edges:\n",
    "        if edge[0] in result:\n",
    "            result[edge[0]] += 1\n",
    "        else:\n",
    "            result[edge[0]] = 1\n",
    "        if edge[1] in result:\n",
    "            result[edge[1]] += 1\n",
    "        else:\n",
    "            result[edge[1]] = 1\n",
    "    for node in nodes:\n",
    "        if not node in result:\n",
    "            result[node] = 0\n",
    "    return result"
   ]
  },
  {
   "cell_type": "markdown",
   "metadata": {},
   "source": [
    "The helper function for split the community:"
   ]
  },
  {
   "cell_type": "code",
   "execution_count": 8,
   "metadata": {
    "collapsed": true
   },
   "outputs": [],
   "source": [
    "def Community(G):\n",
    "    print(\"Calling CmtyGirvanNewmanStep\")\n",
    "    init_ncomp = nx.number_connected_components(G)    #no of components\n",
    "    ncomp = init_ncomp\n",
    "    while ncomp <= init_ncomp:\n",
    "        bw = nx.edge_betweenness_centrality(G, weight='weight')    #edge betweenness for G\n",
    "        #find the edge with max centrality\n",
    "        values = list(bw.values())\n",
    "        if len(values) == 0:\n",
    "            break\n",
    "        max_ = max(values+[0])\n",
    "        #find the edge with the highest centrality and remove all of them if there is more than one!\n",
    "        for k, v in bw.items():\n",
    "            if float(v) == max_:\n",
    "                G.remove_edge(k[0],k[1])    #remove the central edge\n",
    "        ncomp = nx.number_connected_components(G)    #recalculate the no of components"
   ]
  },
  {
   "cell_type": "markdown",
   "metadata": {},
   "source": [
    "The helper function for calculate modularity:"
   ]
  },
  {
   "cell_type": "code",
   "execution_count": 9,
   "metadata": {},
   "outputs": [],
   "source": [
    "#compute the modularity of current split\n",
    "def calculateQ(G, deg_, weighted_m):\n",
    "    New_A = nx.adj_matrix(G)\n",
    "    New_deg = {}\n",
    "    New_deg = calculateDegree(G.nodes(), G.edges())\n",
    "    print('The degree of nodes in new graph', New_deg)\n",
    "    #Let's compute the Q\n",
    "    comps = nx.connected_components(G)    #list of components    \n",
    "    print('No of communities in decomposed G: %d' % nx.number_connected_components(G))\n",
    "    Mod = 0    #Modularity of a given partitionning\n",
    "    for c in comps:\n",
    "        EWC = 0    #no of edges within a community\n",
    "        RE = 0    #no of random edges\n",
    "        for u in c:\n",
    "            EWC += New_deg[u]\n",
    "            RE += deg_[u]        #count the probability of a random edge\n",
    "        Mod += ( float(EWC) - float(RE*RE)/float(2*weighted_m) )\n",
    "    Mod = Mod/float(2*weighted_m)\n",
    "    print(\"Modularity: %f\" % Mod)\n",
    "    return Mod"
   ]
  },
  {
   "cell_type": "markdown",
   "metadata": {},
   "source": [
    "Now test our implementation of the improved Girvan-Newman algorithm on both two examples:"
   ]
  },
  {
   "cell_type": "code",
   "execution_count": 10,
   "metadata": {},
   "outputs": [
    {
     "name": "stdout",
     "output_type": "stream",
     "text": [
      "Nodes in the original graph ['1', '2', '3', '4', '5', '6', '7', '8', '9']\n",
      "Edges in the original graph [('1', '2'), ('1', '3'), ('2', '3'), ('2', '4'), ('2', '7'), ('4', '5'), ('4', '6'), ('5', '6'), ('7', '8'), ('7', '9'), ('8', '9')]\n",
      "Number of edge 9\n",
      "Number of edge with weight 11.0\n",
      "The degree of nodes {'1': 2, '2': 4, '3': 2, '4': 3, '7': 3, '5': 2, '6': 2, '8': 2, '9': 2}\n",
      "Calling CmtyGirvanNewmanStep\n",
      "The degree of nodes in new graph {'1': 2, '2': 2, '3': 2, '4': 2, '5': 2, '6': 2, '7': 2, '8': 2, '9': 2}\n",
      "No of communities in decomposed G: 3\n",
      "Modularity: 0.483471\n",
      "Modularity of decomposed G: 0.483471\n",
      "Get best comminity.\n",
      "Components: [{'3', '2', '1'}, {'4', '5', '6'}, {'9', '7', '8'}]\n",
      "Remained edge count: 9\n",
      "Calling CmtyGirvanNewmanStep\n",
      "The degree of nodes in new graph {'1': 0, '2': 0, '3': 0, '4': 0, '5': 0, '6': 0, '7': 0, '8': 0, '9': 0}\n",
      "No of communities in decomposed G: 9\n",
      "Modularity: -0.119835\n",
      "Modularity of decomposed G: -0.119835\n",
      "No edge remained, done.\n",
      "Max modularity (Q): 0.483471\n",
      "Graph communities: []\n"
     ]
    }
   ],
   "source": [
    "girvan_newman(G)"
   ]
  },
  {
   "cell_type": "code",
   "execution_count": 11,
   "metadata": {},
   "outputs": [
    {
     "name": "stdout",
     "output_type": "stream",
     "text": [
      "Nodes in the original graph ['1', '2', '3', '4', '5', '6', '9', '10', '11', '12', '13', '14', '7', '8']\n",
      "Edges in the original graph [('1', '2'), ('1', '3'), ('2', '3'), ('3', '7'), ('4', '5'), ('4', '6'), ('5', '6'), ('6', '7'), ('9', '10'), ('9', '11'), ('9', '8'), ('10', '11'), ('12', '13'), ('12', '14'), ('12', '8'), ('13', '14'), ('7', '8')]\n",
      "Number of edge 14\n",
      "Number of edge with weight 17.0\n",
      "The degree of nodes {'1': 2, '2': 2, '3': 3, '7': 3, '4': 2, '5': 2, '6': 3, '9': 3, '10': 2, '11': 2, '8': 3, '12': 3, '13': 2, '14': 2}\n",
      "Calling CmtyGirvanNewmanStep\n",
      "The degree of nodes in new graph {'1': 2, '2': 2, '3': 3, '7': 2, '4': 2, '5': 2, '6': 3, '9': 3, '10': 2, '11': 2, '8': 2, '12': 3, '13': 2, '14': 2}\n",
      "No of communities in decomposed G: 2\n",
      "Modularity: 0.441176\n",
      "Modularity of decomposed G: 0.441176\n",
      "Get best comminity.\n",
      "Components: [{'3', '5', '1', '2', '6', '7', '4'}, {'8', '10', '12', '14', '11', '13', '9'}]\n",
      "Remained edge count: 16\n",
      "Calling CmtyGirvanNewmanStep\n",
      "The degree of nodes in new graph {'1': 2, '2': 2, '3': 2, '4': 2, '5': 2, '6': 2, '9': 2, '10': 2, '11': 2, '12': 2, '13': 2, '14': 2, '7': 0, '8': 0}\n",
      "No of communities in decomposed G: 6\n",
      "Modularity: 0.520761\n",
      "Modularity of decomposed G: 0.520761\n",
      "Get best comminity.\n",
      "Components: [{'3', '2', '1'}, {'4', '5', '6'}, {'9', '11', '10'}, {'12', '14', '13'}, {'7'}, {'8'}]\n",
      "Remained edge count: 12\n",
      "Calling CmtyGirvanNewmanStep\n",
      "The degree of nodes in new graph {'1': 0, '2': 0, '3': 0, '4': 0, '5': 0, '6': 0, '9': 0, '10': 0, '11': 0, '12': 0, '13': 0, '14': 0, '7': 0, '8': 0}\n",
      "No of communities in decomposed G: 14\n",
      "Modularity: -0.074394\n",
      "Modularity of decomposed G: -0.074394\n",
      "No edge remained, done.\n",
      "Max modularity (Q): 0.520761\n",
      "Graph communities: []\n"
     ]
    }
   ],
   "source": [
    "girvan_newman(G1)"
   ]
  },
  {
   "cell_type": "markdown",
   "metadata": {},
   "source": [
    "## Summary and reference\n",
    "This tutorial illustrated the basic idea behind the classical community detection algorithm and the method to improve it. Much more details of the Girvan-Newman algorithm and modularity is available from the following links:\n",
    "1. [Girvan and Newman, “Community structure in social and biological networks”](http://www.pnas.org/content/99/12/7821)\n",
    "2. [Communities - NetworkX 2.1 documentation](https://networkx.github.io/documentation/stable/reference/algorithms/community.html)\n",
    "3. [Modularity and community structure in networks](http://www.pnas.org/content/pnas/103/23/8577.full.pdf)"
   ]
  }
 ],
 "metadata": {
  "kernelspec": {
   "display_name": "Python 3",
   "language": "python",
   "name": "python3"
  },
  "language_info": {
   "codemirror_mode": {
    "name": "ipython",
    "version": 3
   },
   "file_extension": ".py",
   "mimetype": "text/x-python",
   "name": "python",
   "nbconvert_exporter": "python",
   "pygments_lexer": "ipython3",
   "version": "3.6.3"
  }
 },
 "nbformat": 4,
 "nbformat_minor": 2
}