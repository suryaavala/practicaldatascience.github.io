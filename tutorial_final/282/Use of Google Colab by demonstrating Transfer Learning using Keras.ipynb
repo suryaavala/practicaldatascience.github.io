{
 "cells": [
  {
   "cell_type": "markdown",
   "metadata": {
    "colab_type": "text",
    "id": "miMb53gCnV5t"
   },
   "source": [
    "# Google Colaboratory Tutorial through writing a transfer learning model in keras\n",
    "### Contents\n",
    " \n",
    "\n",
    "1. Intro To Google Colab \n",
    "2. Walkthough of the Google Colaboratory Environment\n",
    "3. Loading and saving data from google drive , local environment\n",
    "4. Installing packages on google colab \n",
    "5. Introducing Keras and Transfer Learning \n",
    "6. Demonstrating use of Transfer Learning on CIFAR-10  dataset\n",
    "\n",
    "\n",
    "## Introduction to Google Colaboratory \n",
    "Google Colaboratory was initially an internal tool under google which has recently been released to the outside world. It is essentially a jupyter notebook environment but twithout the hassles of actually  setting up your own server for it. It is aimed at prototyping of machine learning / data science problems in a fast and effecient manner. Also the free GPU access is a way to train Deep Learning Models on a gpu for free. Yeah there is no cost to using google Colaboratory tool! Will be refered to as Google Colab or just Colab for the rest of the tutorial. \n",
    "#### Technical Details \n",
    "Google Colab connects to a gcloud instance the instance has the following specifications approximately(can vary from instance to instance):\n",
    "\n",
    "* 2-core Xeon 2.2GHz\n",
    "* 13GB RAM\n",
    "* 33GB Free Space\n",
    "* idle cut-off 90 minutes\n",
    "* maximum 12 hours (you would have to reconnect to the instance after 12 hours it can be a different instance too so you could potentially loose your data)\n",
    "* GPU:  Tesla K-80 \n",
    "\n",
    "For some common FAQS about google colab : https://research.google.com/colaboratory/faq.html\n"
   ]
  },
  {
   "cell_type": "markdown",
   "metadata": {
    "colab_type": "text",
    "id": "tPcZ5UywnV5u"
   },
   "source": [
    "### Basic Functions in Google Colab \n",
    "#### Accessing Google Colab \n",
    "* Go to the following link :https://colab.research.google.com\n",
    "    * It should display the welcome page : <img src=\"https://i.imgur.com/dzdvh81.png\">\n",
    "\n",
    "\"Save a copy in Drive\n",
    "\n",
    "* Connect your google account to colab so that it can access the contents of your google drive. By clicking on the sign in button.You should be redirected to login to your google account. Once done Colab should be able to have access to the google drive. Once done you should be presented with the following image : <img src=\"https://i.imgur.com/pQA19ci.png\">\n",
    "\n",
    "* Creating a new noteBook or Uploading a new notebook\n",
    "    * Creating New NoteBook : Go to the File menu , it shows the following options : <img src=\"https://i.imgur.com/woJPCkg.png\">\n",
    "    * From the options shown above you can : \n",
    "        * Create a new Python 2 Notebook by clicking on the \"New Python 2 notebook\"\n",
    "        * Create a new Python 3 Notebook by clicking on the \"New Python 3 notebook\"\n",
    "        * Uploading an existing Jupyter Notebook by clicking on the \"Upload Notebook\".\n",
    "        * Acess a jupyter notebook sored on your google drive by clicking on the \"Open Drive Notebook\".\n",
    "\n",
    "#### Running a jupyter notebook on Colab\n",
    "* If you want to run this notebook on Colab use the \"Upload Notebook\" to upload this notebook after which each cell can be executed on Colab.\n",
    "* All functions of jupyter noteebook are available in Colab so after uploading the notebook you should be able to run it as a normal notebook.\n",
    "* In order to run the notebook. Make sure the option \"Connect\" is changed to \"Connected\" by clicking on it as shown below\n",
    "<img src=\"https://i.imgur.com/cPSHwUc.png\">\n",
    "<img src=\"https://i.imgur.com/CFOWNxw.png\">\n",
    "#### Sharing a notebook on Colab with other users\n",
    "* You can share the notebooks with other people by simply clicking on the share button to share the notebook via shareable links or by providing the email ids. I\n",
    "* It is also possible for the people to simultaneaously edit the shared notebook just lik you would with google docs. However in order to avoid discremencies for running the notebook its better to create a copy of the notebook via \"File -> \"Save a copy in Drive\"\n",
    "* While sharing the file in case the other account is not linked to Colab. One would have to click on \"Connect more Apps -> choose Collaboraty\". Once Colab is connected the other user should be able to view the shared notebook. "
   ]
  },
  {
   "cell_type": "markdown",
   "metadata": {
    "colab_type": "text",
    "id": "zAZSBaUWnV5w"
   },
   "source": [
    "### Loading data to Google Colab\n",
    "\n",
    "Some of the ways through which we can load the data are: \n",
    "* From your local desktop environment \n",
    "* From your drive \n",
    "* From google cloud"
   ]
  },
  {
   "cell_type": "markdown",
   "metadata": {
    "colab_type": "text",
    "id": "5eSItgwqnV5x"
   },
   "source": [
    "#### Loading data from Local Environment \n",
    "Loading data from local desktop environment requires you to load the libray that comes pre loaded with colab ie google.colab has a files module which has an upload function that can be used to upload data to Colab. The code snippet below can be used to upload data from local environment. It also prints the file names of the files that were just uploaded"
   ]
  },
  {
   "cell_type": "code",
   "execution_count": 0,
   "metadata": {
    "colab": {
     "autoexec": {
      "startup": false,
      "wait_interval": 0
     },
     "base_uri": "https://localhost:8080/",
     "height": 103,
     "output_extras": [
      {},
      {}
     ],
     "resources": {
      "http://localhost:8080/nbextensions/google.colab/files.js": {
       "data": "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",
       "headers": [
        [
         "content-type",
         "application/javascript"
        ]
       ],
       "ok": true,
       "status": 200,
       "status_text": ""
      }
     }
    },
    "colab_type": "code",
    "executionInfo": {
     "elapsed": 5626,
     "status": "ok",
     "timestamp": 1522442099664,
     "user": {
      "displayName": "Yashovardhan Chaturvedi",
      "photoUrl": "https://lh3.googleusercontent.com/a/default-user=s128",
      "userId": "108378940342117174921"
     },
     "user_tz": 240
    },
    "id": "v9j07Xw-nV5z",
    "outputId": "aee1ea63-8927-40ee-9bc1-b5c353137d8d"
   },
   "outputs": [
    {
     "data": {
      "text/html": [
       "\n",
       "     <input type=\"file\" id=\"files-141102c6-6e40-4cb1-92f7-b7bac5b81a67\" name=\"files[]\" multiple disabled />\n",
       "     <output id=\"result-141102c6-6e40-4cb1-92f7-b7bac5b81a67\">\n",
       "      Upload widget is only available when the cell has been executed in the\n",
       "      current browser session. Please rerun this cell to enable.\n",
       "      </output>\n",
       "      <script src=\"/nbextensions/google.colab/files.js\"></script> "
      ],
      "text/plain": [
       "<IPython.core.display.HTML object>"
      ]
     },
     "metadata": {
      "tags": []
     },
     "output_type": "display_data"
    },
    {
     "name": "stdout",
     "output_type": "stream",
     "text": [
      "Saving peacock.jpg to peacock.jpg\n",
      "file_names : \n",
      "['peacock.jpg']\n"
     ]
    }
   ],
   "source": [
    "from __future__ import print_function\n",
    "from google.colab import files\n",
    "localFilesUploaded = files.upload()\n",
    "file_ids = [name for name in localFilesUploaded.keys()]\n",
    "print(\"file_names : \")\n",
    "print(file_ids)"
   ]
  },
  {
   "cell_type": "code",
   "execution_count": 0,
   "metadata": {
    "colab": {
     "autoexec": {
      "startup": false,
      "wait_interval": 0
     },
     "base_uri": "https://localhost:8080/",
     "height": 34,
     "output_extras": [
      {}
     ]
    },
    "colab_type": "code",
    "executionInfo": {
     "elapsed": 1359,
     "status": "ok",
     "timestamp": 1522442110875,
     "user": {
      "displayName": "Yashovardhan Chaturvedi",
      "photoUrl": "https://lh3.googleusercontent.com/a/default-user=s128",
      "userId": "108378940342117174921"
     },
     "user_tz": 240
    },
    "id": "vbjpV3YAnvig",
    "outputId": "581844ec-776c-4b14-95f5-02e820a5e973"
   },
   "outputs": [
    {
     "name": "stdout",
     "output_type": "stream",
     "text": [
      "datalab  peacock.jpg\r\n"
     ]
    }
   ],
   "source": [
    "!ls"
   ]
  },
  {
   "cell_type": "markdown",
   "metadata": {
    "colab_type": "text",
    "id": "wjUbHVginV6B"
   },
   "source": [
    "#### Loading data from google drive to Colab\n",
    "Loading data from your google drive requires you to either use the the native rest API or a python wrapper on the library. Links Native Rest API: https://developers.google.com/drive/v3/web/about-sdk , Python Wrapper : https://googledrive.github.io/PyDrive/docs/build/html/index.html\n",
    "Pydrive is relatively easier to use in my opinion. I demonstrate the use of pydrive.\n",
    "The steps involved are :\n",
    "* installing the Pydrive Client using pip \n",
    "* Authentication to the google account\n",
    "* locate file by file Id in the google drive\n",
    "* get the contents of the located file and save on the current instance"
   ]
  },
  {
   "cell_type": "code",
   "execution_count": 0,
   "metadata": {
    "colab": {
     "autoexec": {
      "startup": false,
      "wait_interval": 0
     }
    },
    "colab_type": "code",
    "collapsed": true,
    "id": "R5y7pUjBnV6B"
   },
   "outputs": [],
   "source": [
    "!pip install -U -q PyDrive # installing the Pydrive library using pip"
   ]
  },
  {
   "cell_type": "code",
   "execution_count": 0,
   "metadata": {
    "colab": {
     "autoexec": {
      "startup": false,
      "wait_interval": 0
     }
    },
    "colab_type": "code",
    "collapsed": true,
    "id": "NgyYt8csnV6F"
   },
   "outputs": [],
   "source": [
    "from pydrive.auth import GoogleAuth\n",
    "from pydrive.drive import GoogleDrive\n",
    "from google.colab import auth\n",
    "from oauth2client.client import GoogleCredentials\n",
    "# 1. Authentication\n",
    "auth.authenticate_user() # using the authentication feature from google colab directs you to login to your google acount\n",
    "# and paste the generated token below"
   ]
  },
  {
   "cell_type": "code",
   "execution_count": 0,
   "metadata": {
    "colab": {
     "autoexec": {
      "startup": false,
      "wait_interval": 0
     }
    },
    "colab_type": "code",
    "collapsed": true,
    "id": "olvpF19KnV6J"
   },
   "outputs": [],
   "source": [
    "# connecting to the associated google drive from the aythenticated account using pydrive\n",
    "authentication = GoogleAuth() # initialize Google Auth from pydrive\n",
    "# assigns the credentials that were used for authentication\n",
    "authentication.credentials = GoogleCredentials.get_application_default()"
   ]
  },
  {
   "cell_type": "markdown",
   "metadata": {
    "colab_type": "text",
    "id": "vnJ9Ky47nV6L"
   },
   "source": [
    "We have successfully authenticated and connected to the associated google drive. We now need to find the file id for the file that we want to transfer to Colab. Since the file ids are not listed in the google drive. We print all the file ids that are present on the file system and appropriated choose the file id required for the corresponding file that needs to be uploaded. \n",
    "The following function will list all the file ids in the google drive. You can than use the file id associated with the file to transfer the file to drive."
   ]
  },
  {
   "cell_type": "code",
   "execution_count": 0,
   "metadata": {
    "colab": {
     "autoexec": {
      "startup": false,
      "wait_interval": 0
     },
     "base_uri": "https://localhost:8080/",
     "height": 3689,
     "output_extras": [
      {}
     ]
    },
    "colab_type": "code",
    "executionInfo": {
     "elapsed": 2196,
     "status": "ok",
     "timestamp": 1522463222808,
     "user": {
      "displayName": "Yashovardhan Chaturvedi",
      "photoUrl": "https://lh3.googleusercontent.com/a/default-user=s128",
      "userId": "108378940342117174921"
     },
     "user_tz": 240
    },
    "id": "TYVIs3EnnV6N",
    "outputId": "0e3aec37-613f-4786-c88d-fdd11709c6d5"
   },
   "outputs": [
    {
     "name": "stdout",
     "output_type": "stream",
     "text": [
      "title: PDSTutorial.ipynb, id: 1xxoeWt75E9SarZl-NOXERjVoSHfmuENj\n",
      "title: Untitled1.ipynb, id: 1ZzGVQ8qw7cDTmFLjVma4YqORyAQp5vL4\n",
      "title: ImageTask.ipynb, id: 19FMopjvcjAUkBlGfnnGisp3asC5SeRRJ\n",
      "title: data.zip, id: 1nrxsOgttXfKEqx3oc9G3fyZCbb7E8C4J\n",
      "title: Capstone Project, id: 1NfQZEI_8rlvf79uFdCFxoSy8h6Ostem4\n",
      "title: PDS Tutorial.ipynb, id: 13b_5e4RWUZJ4kICNxLUX7G5n-shvtVzp\n",
      "title: Recitation_6.ipynb, id: 1cmPJGXDeSRL2kTJB9AB3hAnzO1T9xZKP\n",
      "title: HW 2 Kaggle Notebook.ipynb, id: 1t-XY3dSh6re9kpcj-0kHvCxjIN3d_pxZ\n",
      "title: Model.ipynb, id: 1gAZF5agh7GfqOUlL2PQ2SmQrX_OWGz5v\n",
      "title: shakespeare.ipynb, id: 1m9OGQwNfIuE24hlvMt_Uz3r_Re3HIVt4\n",
      "title: 15688-Project Proposal, id: 1zIFCNv6gRK5NsfUnXwqe3JaSTceN557LCAQ8jGP17vY\n",
      "title: Attempt5_4Layers_Context_15_BatchSize_100.ipynb, id: 1o15Bc3XQi03kqd76RA705JbKaQYBROXy\n",
      "title: Homework3_1.ipynb, id: 1E7_Ptf7Kfqwtan3pInylFOl6VzBt7tOM\n",
      "title: Copy of recitation5.ipynb, id: 1stgh0c8Hhp8vTDNv5le98GXP26dQHF0D\n",
      "title: Untitled0.ipynb, id: 1dW7GqQFIuRAfQ0hx4eZfXfZyWPVImld1\n",
      "title: recitation5.ipynb, id: 13ytjDB7es6GUn5a-SIjK3RNskPEvAZ8G\n",
      "title: rnn.ipynb, id: 1fiP86gUPFJ7ZF4H7k_cGNoUn2irdcF1Y\n",
      "title: for sale @ cmu, id: 18Du8TI9w3UJj_7pFSJ4kNwsJlAKYzWvS-7gAO3f3WUI\n",
      "title: Comp Bio Employers, id: 16y2BCUwPgqwgjNRLL8CBsGVtsQV-mbiL0Lx1s3qgFtE\n",
      "title: recitation5.ipynb, id: 1BkWs0_t1EGcSYD97aa4rWOiVUZ44C7sE\n",
      "title: 29181_805033_S18_10601_HW5_Template.pdf, id: 1oD3X0F8UToDhGLpnK4FUps8LxKRkNde5\n",
      "title: Hw2, id: 1cHZLqnKpcsT5lYBRkewDUcDfFtqDTEi7\n",
      "title: test-features.npy, id: 1xC8X0zuS-y_ZMq37A8rNP932HgxQkJW8\n",
      "title: train-features.npy, id: 1vqDX8wUHlt7Mn3vw15hxIBkfv9r0zK6z\n",
      "title: dev-features.npy, id: 1cWF_8kDYkO78odK__1lz_mw2P0a2ZMhF\n",
      "title: train-labels.npy, id: 1vDbxdeaW9M6_gdZ7MJ6VTsdANzMMgbVK\n",
      "title: dev-labels.npy, id: 1JoZGJKkr3w2mlkvZkqqK_89i7DgC0dMD\n",
      "title: Proposal 11785, id: 12NGxeTOWP9_aNT-y4xnXw0yuVBDtgR5rCdU4vvePnsw\n",
      "title: 11-785 S18 Project Teams, id: 132RQz2_6eflPoiAivN0u6JiQ6OlgmSvCcAkRjvwU_Vs\n",
      "title: 11-785 Assigned Teams, id: 1Z1FWkwvfYw4IEr_dZON6pazfQJDVVmGXBxNvhihPqAs\n",
      "title: 29181_766336_S18_10601_HW4_Template.pdf, id: 1UpFj3B9Es7ahARG1ImrmSyk8seUBKIfb\n",
      "title: Stuff for sale, id: 1VjJvMFsdKkaFwBmpD3wuuISSF9EPvGtmrnNdy7RQRvY\n",
      "title: first_try.h5, id: 1VgEKxp7lkp2K9SVzLj6LhjPaqzOK6wFB\n",
      "title: ImageTask_usingVGG16.ipynb, id: 13QnPVB3bls1_vHRl0zLBinbNC9rKReSz\n",
      "title: vgg16_weights.h5, id: 1JL9r50gWTZ8dJj6nUy3g7r2Gq2Ur9k0u\n",
      "title: 4Categories.zip, id: 1K6Iv2WctueY1nVru0hEBNzbAmDkIvo-S\n",
      "title: depth_dev6002_folder443_image806.png, id: 1nf-vnr8FV0mGlWc2ND5zim1LwWN2IFwF\n",
      "title: depth_dev6002_folder7_image3667.png, id: 1C45ZLs3HqDxLNzv300NO_R5Wfq9LfDWL\n",
      "title: depth_dev6002_folder444_image3069.png, id: 1pxNz6Mq1UOMkfOPx-s5WwguqxNpZwxDj\n",
      "title: depth_dev6002_folder43_image7004.png, id: 13m25y7ERUm3FZq7SxGFWdlonvQg8xpIn\n",
      "title: depth_dev6002_folder9_image8062.png, id: 1-2jWgTGzSu6DERW-qQ9mAmJ0EVaQPTjy\n",
      "title: LabelImg_Instructions.pdf, id: 0B-QKaDvrAG7lQmhsQlhGWHU3Nl9vUjZIak01ZG9QOW9RM0lz\n",
      "title: Attempt6_3Layers_Context_10_BatchSize_2048.ipynb, id: 1TKDatHZ9LvEKS1nvljc1x_AWOzk18RQD\n",
      "title: prediction_latest_7.csv, id: 16GSf9tmYt9dW1zx8kbyLe2LZEVEdebru\n",
      "title: Attempt5_4Layers_Context_15_BatchSize_100_version_7_10000.pkl, id: 1NqO9jLhxYz6jR3DmZYme6ktSANTaf7SY\n",
      "title: Attempt5_4Layers_Context_15_BatchSize_100_49896_.pkl, id: 1f3uEhKeTQbB6MQpPeyyHhQ1zboi4a4_p\n",
      "title: Attempt5_4Layers_Context_15_BatchSize_100_49594_.pkl, id: 1g_eEG8ZGfplYiB3_fAqRPS8Hla06CDAo\n",
      "title: Attempt5_4Layers_Context_15_BatchSize_100_49391_.pkl, id: 1aYsNL1C_Dh5A1-_bRHa-mTyGmpRZfi0R\n",
      "title: clothes and shoes, id: 18yPG8VDDwOUot9RJxWm623IsumDZcc6ChjE3rhHXXEU\n",
      "title: Shared Attempt1.ipynb, id: 18BuMOKApD8Yju6DS177904aqDc7CrJQU\n",
      "title: Attempt1_6Layers_Context_35_BatchSize_100_100000.pkl, id: 1GLEv8rwoBGk1zoSGNZ9e1J9hNqdq3ApA\n",
      "title: Attempt1_12Layers_Context_40_BatchSize_100.ipynb, id: 1GDi8fj_-If2Om9A6PRvn2jryb8I9TjcW\n",
      "title: Attempt1_12Layers_Context_40_BatchSize_100_10000.pkl, id: 1ARv68k5DsfT_UeGZQ7qVXcLakejRdV5C\n",
      "title: hw1_2_test.ipynb, id: 17UzogI37EB6hga1HUikXuyFDhEi767-3\n",
      "title: Iteration_1_model_9500_.pkl, id: 1BkS6Fz7JS8yvrxZoJCk6OjBHIODo-Sfp\n",
      "title: Iteration_1_model_9000_.pkl, id: 10xQMLNv-4wpeOQmmTSeAwy-CJc3SUJwN\n",
      "title: Iteration_1_model_8500_.pkl, id: 13mfHqUchi5IRczHf5LZU3fWLu6WxYb22\n",
      "title: Iteration_1_model_8000_.pkl, id: 10VYu3Fhp4MSYvM7LvIgdrFWW-DWzg1nq\n",
      "title: Iteration_1_model_7500_.pkl, id: 1jaPjEw8K4q4B7bOreB0OGMevI1pb5bi1\n",
      "title: Iteration_1_model_7000_.pkl, id: 1OqKOAEsGcp_mHv6Zv9PSSPbhoMU0nbtt\n",
      "title: Iteration_1_model_0_.pkl, id: 1rLd2i8SqYlnEPHtnNeP65k3Q7IbbEbG5\n",
      "title: Iteration_1_model0.pkl, id: 1ay7rUXnCz2pVQ4RSoDhC2_KRsPDuzvU3\n",
      "title: fnn_model.pkl, id: 1pJ6JXAEQKHdXrwad1NWBYFBXqDUVTd3Z\n",
      "title: Iteration_1_modelepoch0.pkl, id: 1PTGapFvsE93eWimGhnvaQyw81csz96_K\n",
      "title: Iteration_1_model.pkl, id: 1Ms0AZqEWUxZn7O4YR35gKbG3Q39rYR8-\n",
      "title: fnn_model.pkl, id: 1K6EqaRWffYF1QjdJwGKfkkbgE9CaG_AR\n",
      "title: File Id, id: 1uzRnZmlW8kUqT3LNfXjKf4_VYbQXn1697JGBAZT4S0E\n",
      "title: Colab Notebooks, id: 1Pjm1k9vhst8iOzx8oL3YIGznSsq7huyM\n",
      "title: train_labels.npy, id: 1fUCSIEQphZHf-Assr81_23QA53QZpzDY\n",
      "title: test.npy, id: 1EqyMEOG4o5LImLqU3jizW5h6sDBbIhHm\n",
      "title: sample_submission.csv, id: 1aKXSVQH8wTkaz3RnaPvq1U8BZIiC_hVS\n",
      "title: dev_labels.npy, id: 1LfHnzq0TvFsmipN1FJhchgcdwAPz9rjA\n",
      "title: dev.npy, id: 1Uj4iOE_Zq19gxYUl6W9NJ3CGjcT_Snc6\n",
      "title: hw_1_2, id: 19yjjqjgKZ4CPap8Lk6vJErQMDtXEZOc4\n",
      "title: train.npy, id: 1-fBf8tlFc45z52UMGYoqGCYLhM8VRCjK\n",
      "title: Send-Email, id: 1pHtQphKOyyOZcPxI3wojZQviA61Z2Ef-f1BF3Q6pokk\n",
      "title: 29181_686034_S18_10601_HW2_Template-(2).pdf, id: 1aB-5Ly8Eve6qOTwHbN_YCAzRHDNm4VcQ\n",
      "title: PDS Link, id: 1uQuhZ8QTCbPLjooxx1cKPMTnNgoKfH0uN_iL6Q3EfaU\n",
      "title: Yashovardhan Chaturvedi - Latest.pdf, id: 1gm1vFYQ6zQuuh1bHvzebClfmHBgVNk22\n",
      "title: Recitation 2, id: 1anaT8uImx8JPygqm42xt-0O8N61FPX1cQjiysGb6koY\n",
      "title: competitive_engineering_lecture_2py_np_tf.pdf, id: 1bptRMrYAngxweFAFeK6JsxqlpkjuJ8Zj\n",
      "title: List of Companies Applied to , id: 14qk587j6DEzuGNal97PwxHZIU0H0ny2IIYR_bd3S0BA\n",
      "title: Moveout Sale - Jan '18, id: 12PVLZ3LgWj6ScPu33xUltbxAPpfa--Hms6VSNwzH_eo\n",
      "title: Awesome sale, id: 1xorDG8iwqEvXg5ZkX_0KFUj54xOUYqNht6sNGZUmlqQ\n",
      "title: LiveRamp, id: 1Bn7_CbESJgIBXUuyod3PiRRbJfXLapPnsx0QwhBkeTY\n",
      "title: List of Companies for Internships, id: 1Qh7BiN9q0wjIczeLuP2vhLqfcOpUA4XdpP_PThyWDDM\n",
      "title: lecun-20171127-brown.pdf, id: 1zqbQ2YtO6D8joC64DhroudcTs7oyUhRs\n",
      "title: mckinsey_data_science.docx, id: 1XJZ6LiAEMsCZkNOddt3MHhlAb4W3FzOo\n",
      "title: Tickets _ Greyhound.pdf, id: 1HrrWHbbTNUtzraUF82jTPnJpuH9DmegT\n",
      "title: John Vu Chutiyapa, id: 1yA7Kx4fidt3nQHPCX78Jdy-1ESL_cLi6\n",
      "title: Screen Shot 2017-12-05 at 12.51.19 AM.png, id: 19ogl95Q4On5NwJwQmxk1fIv6R3Fbfx3S\n",
      "title: Screen Shot 2017-12-05 at 12.51.55 AM.png, id: 160GWzaZ6UsioabNXVzkAqmSRkjET8PeY\n",
      "title: Screen Shot 2017-12-05 at 12.51.42 AM.png, id: 1hGLmWqm2L9zPPntAC43ZpDESjeVGXE1L\n",
      "title: Screen Shot 2017-12-05 at 12.12.21 AM.png, id: 13JVbaczevZ2LlPFJrQtS8uIT_Xkn5QV3\n",
      "title: Screen Shot 2017-12-05 at 12.48.32 AM.png, id: 1X6uMvdEDHk_IDZi-kBbzmwvvYFWQLAOI\n",
      "title: Screen Shot 2017-12-05 at 2.22.48 AM.png, id: 1qHWpqfP9SeTKTdeaQFSb7zC1Kavx_lKv\n",
      "title: Screen Shot 2017-12-05 at 12.36.14 AM.png, id: 1Oj6Qd3odnCkaSXsqvNnCQcQ7XT_DOeqt\n",
      "title: Screen Shot 2017-12-05 at 12.18.29 AM.png, id: 1_uhO7hVBtYj1qfcqwyxw0ttGfiLpA9L-\n",
      "title: Screen Shot 2017-12-05 at 12.04.42 AM.png, id: 1pI396Q63byqbNkv1GBf58vZoV5Sr_Nrk\n",
      "title: Screen Shot 2017-12-05 at 2.22.20 AM.png, id: 1YX7zufTc5H6L8ygOmlQjtwHimM3wCBSI\n",
      "title: Screen Shot 2017-12-04 at 11.41.21 PM.png, id: 1dOM6h61nXocHtjjJb17k58CcufaFzzUy\n",
      "title: Screen Shot 2017-12-04 at 11.41.14 PM.png, id: 1AMFm6TdffVQE7D65u0MwkB4iRSnQ5FxX\n",
      "title: NT_lecture6.pdf, id: 1i1fUpcCSvaLLHXrk_C8QR-1n03stcvmN\n",
      "title: Screen Shot 2017-12-05 at 2.22.32 AM.png, id: 1AsKqqgjNdvUxtI3a5lgSYJ2ZeQiDDZQK\n",
      "title: NT week 2 Lecture Fall 2017.pdf, id: 1vXGmQ7zarrYVL542Jpo4Vs8vAj_dVtg1\n",
      "title: NT week 2 Lecture Fall 2017 (1).pdf, id: 14GUt8P7pNe1imWH4hMzYMnFL2nBXUtol\n",
      "title: Screen Shot 2017-12-04 at 10.27.25 PM.png, id: 1kBnudKiPxZyg56b-bdW4K6OvNoVQaF7W\n",
      "title: Screen Shot 2017-12-04 at 11.03.40 PM.png, id: 1v8MEttaD_Ph0c4QeYAYINvgI3cAIavuV\n",
      "title: Screen Shot 2017-12-04 at 11.05.31 PM.png, id: 1z39HlI5bFeafFrgke02gpAmuDS-vSArG\n",
      "title: Screen Shot 2017-12-04 at 11.02.27 PM.png, id: 1ZKVslMOHh2fu5LxF_Ot0pKPIJuyjxgG-\n",
      "title: Screen Shot 2017-12-04 at 11.03.10 PM.png, id: 1VRSiiRdtSJG7JZMPeQS6edJUuVVn9OWp\n",
      "title: NT _Lecture5_2017.pdf, id: 1OXaRCF9bb_NgFyHVH5SSh4nmvU4mPn_y\n",
      "title: Screen Shot 2017-12-04 at 11.32.38 PM.png, id: 1IxxIwPo1Lrob71aiz0-RasKhTaSDjfNk\n",
      "title: Screen Shot 2017-12-04 at 11.32.43 PM.png, id: 15PtZi9SyQxsHj8FtOUGxokHBUZipZwI_\n",
      "title: Screen Shot 2017-12-04 at 11.32.10 PM.png, id: 1LWvV3_PhheTSPBVq711bLY2HlTZbNGAW\n",
      "title: NT _Drugs_Dev_2017.pdf, id: 1s7mQDyalmJQuDG-cplz-xjZ3kzCPsJqw\n",
      "title: Screen Shot 2017-12-04 at 11.14.13 PM.png, id: 1kM81eJ745mZZ45pznrxhQSLgSK7tolyE\n",
      "title: Screen Shot 2017-12-04 at 11.02.18 PM.png, id: 1QVH4hZIOVROPawvdFSSBj3-ipTOK1821\n",
      "title: Behavioral Interview Questions for Preparation.docx, id: 1uMp7W90etiuiZQWyUpxa4C91fiz_sr6pLHH1qu7JuFI\n",
      "title: Behavioral Interview Questions for Preparation.docx, id: 1n1hbT69gB-lkUcDMq9FLWPPTN-CAJk6m\n",
      "title: ppt1.pptx, id: 1BiQNN86Agz4Ae66dONz_NzVy8z4fpH4eUP1QvxZwqKk\n",
      "title: Capstone, id: 1nehmsJfcFcx2C-7mIYM0L679eyVKnduA\n",
      "title: ppt1.pptx, id: 1YgYPNZvi7iaxX9S8lhRuTT6_uaNT_YY8\n",
      "title: simral_hw.pdf, id: 1lzfEZqM3BOk7icDflYlCmpk7idRvWfz6\n",
      "title: hw_1_final.pdf, id: 1KYRJ6A7xabIBwcBAnzLVLDE81mVlyjQT\n",
      "title: HW_1.pdf, id: 1Wy5wb3RvqYK04Q7dtxzzVig88tDLExgK\n",
      "title: mhw1.pdf, id: 15jaqVfZPGLo1_XmlaeWf1uJKCgIr1_OV\n",
      "title: Coding Boot Camp Shuffle Reassignments, id: 1tVSHwtMhyDvcT12MZ1kCI_DiIXSQW6GpIido8F6fRRI\n",
      "title: derivatives.pdf, id: 1xQD8QBmEohbDdLQy73tj-Ni7g6U41y_s\n",
      "title: miniassignment.pdf, id: 17XMjE0Fg5r5jRU1iZFAqYrajAwtFOnAO\n",
      "title: CarWatch.zip, id: 1lsci3RSwvosZpnYxqwvWU7NzeU9m-0Q-\n",
      "title: Misfits IoT Presentation.pptx, id: 1Ct-xRHKW3YiKKPM27FE34mSNJBwcD3zOGsoBSuTQaro\n",
      "title: 68 face landmarks.dat, id: 1QIdbStvB3ogiAdP5iBVsJGdvEhxcR5nT\n",
      "title: latest-OpenCV.deb, id: 1YR2zT8iWRqAMGcasGG5gWKpCOCETvWvC\n",
      "title: get-pip.py.1, id: 1wziUWF7M9gnFHsXRuAGmxEV0MloU29s-\n",
      "title: get-pip.py, id: 1LkgmYVUDHN-V0oIvq9G1LLToaz9nbgtY\n",
      "title: terminal.py, id: 1OngpmAeB2PT_UBOCADEUz59CkFKT8xJI\n",
      "title: terminal.cpython-35.pyc, id: 1WSm32racO-hcbKKf8mkzwosE_U1ZWWid\n",
      "title: nbstreamreader.cpython-35.pyc, id: 1cf0iTmnrsqz16OFx04Nx_5li3sOGVeX5\n",
      "title: quick_reply.sh, id: 1mHqZTlzW9Vv8yW5lHjyyWKxU9Ez878jy\n",
      "title: reply_deactivate.sh, id: 1_MBBqEGo2hHnWhYK5YG1bSDReASxuU56\n",
      "title: server_orignal.py, id: 1c8uqzLRzqs5Y1cAHH5GJTdjt4YjYGa5U\n",
      "title: .gitignore, id: 16qXEId2sFybs0Ec8tmP23dy5QHsJ_z4_\n",
      "title: drowsiness_detection.py, id: 14cmHzI6x8EbDICm3tYIUlYay1ncvhSVK\n",
      "title: drowsinessandalarm.py, id: 1JcqbzxWIFdBQd1nJue97-hC58P2l8ZVb\n",
      "title: facebook.pyc, id: 1aT-WWzMiWRBL7gxCCxwZTyr1xyc4PIkU\n",
      "title: nbstreamreader.py, id: 1r3-STneEV-y918iOmn9A1dNIdq1HrN2M\n",
      "title: send_image.sh, id: 115JYoGwjvJLsgOGLLcyZmtp95glrHyn8\n",
      "title: server.py, id: 1RL1C4Bwc1LvrhGVxM88inB7543K0zKkD\n",
      "title: nbstreamreader.pyc, id: 1nZxWmS9myVPY2sFPZzFB6GMCRwDXgurI\n",
      "title: theft.jpg, id: 1AWYRfpUIkg-tVYRaHFX7hzntXQKGApqd\n",
      "title: reply_activate.sh, id: 1knR8SqXhEtIWtMr7TlJQW50RpsgKFJ5L\n",
      "title: blip.mp3, id: 1AaLv7ioSzU1wJOh1UrJQLqp2PBkl3sal\n",
      "title: terminal.pyc, id: 1FSSwZfcNOBNvp47SihaPgrS9-Feuo65S\n",
      "title: python_kill.sh, id: 1t-oRsZOOhosJpS1NjXn7ZjGQXpNzMtIv\n",
      "title: activateDrowsy.sh, id: 1fT2-QAK9Wqu1kf9j22euaIFnV34n1b7z\n",
      "title: file.py, id: 1U63PUYzhpvY2QLur_Rrmj3e2iUMUE2VS\n",
      "title: activateAlarm.sh, id: 1mROqpf4K-LYjoanjROWHTkRj_LSBP6sf\n",
      "title: startAlarm.py, id: 1wmhvbOGibn4PsqIiyaWEKJeO6hRs06_7\n",
      "title: facebook.py, id: 1YNdo2xWvPQOzMeFaRrEPaSxT7yHjHxNu\n",
      "title: code.py, id: 1WreJ8_PvuGJbOysMmGcqe-LCBhE7PnaY\n",
      "title: activate_deactivate.sh, id: 10WCBL3dJIoyEBFXvPYIsTywlo4l2WFk7\n",
      "title: server2.py, id: 1D9q6ZyB-z3fNycG8CCJF9lIRpJcGAxO_\n",
      "title: LICENSE, id: 1b2ty20z3-a-p2txBO8_aZz43W0YgA_mk\n",
      "title: __pycache__, id: 1RBYtdqQ9bkGmHMS-G25brem9bs3GuPJz\n",
      "title: specialprojects-public-fbpi, id: 12qHZWv8VUp0C6nfKb27o6hC8nvn3brZD\n",
      "title: Misfits IoT Presentation, id: 13VpyQWrkobXAZHk7DkX5xSB3h_PrcdbGMojF9bzESKk\n",
      "title: Misfits Unity Presentation, id: 1OZuMrZfHNHW9VWFClDlAYXxS8JlKR-bKqHtsQbyz2-Y\n",
      "title: akuna.docx, id: 1F4-nJ8CQnm3c0LX4RJyEghitBBpzSZEQooFvHsswL8g\n",
      "title: AI-based Skin Rash App, id: 1aUt1VjVCIx4rJn5qr5BJIrr2bH44swkKIaED5R28Xjc\n",
      "title: Project Proposal , id: 1t8z5DsHv42j4GnY7s3rllMk-UMVE99p2-SsbxO3b6R0\n",
      "title: Uptake, id: 1LnwqticQGe6Z85gqRyQqpVS_7K3MaKVSOo5Z7sRDlLM\n",
      "title: Flat Iron, id: 1sSeetE7K3DHr-_6Ykxd0BAEH94u85hFMKq2FO-o14ls\n",
      "title: Intuit technical rounds, id: 12X_PklxTS_cew83snb5ZZ7hIn5tx5b0K6_g_n4JoxvU\n",
      "title: Interview_codingAssessment_questions, id: 0B4BZWc5koJdzWG14RWhiS0U1WTA\n",
      "title: Stuff to Sell, id: 1hDrFk3RP2QJPDN0heQ-Xa6iiIoWMdVqd4MXTys0jC74\n",
      "title: Mckinsey, id: 1vepmVr41pR2qlE3pNnyeGxPyZ_g9oTBUwRfVHE6jgUU\n",
      "title: Pocket gems, id: 1Qtbs4XakHJHRVIbXDY8wJJdVbrz5zj7cuK_teeWoH9o\n",
      "title: NT _Lecture5_2017.pdf, id: 0B-QKaDvrAG7lemxwZDNPa1A0cEZVNnhPQ0RDVHpHOWhDTDZB\n",
      "title: ABR_Lec14.pdf, id: 0B-QKaDvrAG7lc1JLU1UtVUk0cWc\n",
      "title: ABR_Lec13.pdf, id: 0B-QKaDvrAG7lLXNocllrMkVpcGs\n",
      "title: NT week 2 Lecture Fall 2017.pdf, id: 0B-QKaDvrAG7lWEZrQ1p6STd2bGZnM0xCQTJTMGstMGMtSjJF\n",
      "title: NT _Drugs_Dev_2017.pdf, id: 0B-QKaDvrAG7ld2RnM1R4TWNELXh6OVNiY1ItQjRvZ3dCZklZ\n",
      "title: hubspot.odt, id: 0B4BZWc5koJdzSkdoalBJa09vaDQ\n",
      "title: akuna.docx, id: 0B4BZWc5koJdzaHotZDFIZ3JrSm8\n",
      "title: mini1exam.pdf, id: 0B-QKaDvrAG7lQ0xnSTFCMkQ3ejQ\n",
      "title: hw_2.pdf, id: 0B-QKaDvrAG7lS1A1WlRJQkIzVFE\n",
      "title: 10/10-10/11 - Crowdsourcing Seminar Speaker Schedule (Nihar Shah), id: 1Qi-f0iIEdnCI7IwPf10szEu4kfC6j8SXclg5wK4a7Jc\n",
      "title: wozticket.pdf, id: 0B-QKaDvrAG7lZG0wX2tzVmEwWGM\n",
      "title: Team Misfits Introduction, id: 1HxD03C4qrvadiPLn-YZYPL4630gD689pWySNUUZYcpQ\n",
      "title: Tech Entreprenurship IOT Fall 2017 for class 2019 Session 3 handout.pdf, id: 0B-QKaDvrAG7lTTdDNjlJdEtwSkMxLXh6MUg1ZmJPSlZzejA0\n",
      "title: 2017 Boeing CMU Data Science Interviews, id: 1pu9zdJuSFQDims7wN26_xty-D7Hwf_b1sywS5vxZ_Zo\n",
      "title: quiz2.pdf, id: 0B-QKaDvrAG7lSTVfbHdVNmlCV0U\n",
      "title: twofaceofActiveLearning.pdf, id: 0B-QKaDvrAG7lRW5KaEs0MzRzdm8\n",
      "title: New Doc 2017-09-27 (2).pdf, id: 0B-QKaDvrAG7lRm0zWTZ3Wk9EOHc\n",
      "title: question3combined.pdf, id: 0B-QKaDvrAG7lQ1pmeUQwZ2FvcFE\n",
      "title: question3a.pdf, id: 0B-QKaDvrAG7lX2l4aks5Qm9UU1E\n",
      "title: question2.pdf, id: 0B-QKaDvrAG7lcVRtQmNnRWFlVDA\n",
      "title: question2.pdf, id: 0B-QKaDvrAG7lRkNNbE1JN0RrSUU\n",
      "title: 37389588265-670301039-ticket.pdf, id: 0B-QKaDvrAG7laG1HcG1HZXZkRE0\n",
      "title: ABR_Lec5.pdf, id: 0B-QKaDvrAG7lRE5rMl9IZHNNME0\n",
      "title: shuffle2.html, id: 0B-QKaDvrAG7lX0U0aFFyekgzeXFzZTJRaWlBNnA2RWE4UkdZ\n",
      "title: ../shuffle01reassign/yashovac_shuffle.html, id: 0B-QKaDvrAG7lVldlT2N2TWZRdEVobUJRdEFxYi1fLVh0dWtJ\n",
      "title: Cracking the Coding Interview(6th).pdf, id: 0B-QKaDvrAG7lTHI2SGZhRDJHb1E\n",
      "title: HW1.pdf, id: 0B-QKaDvrAG7lMjJRUzR2cG1tNTg\n",
      "title: AlgoNLPassignment1.pdf, id: 0B-QKaDvrAG7laUNOX0x5LTFFV1k\n",
      "title: data-form.pdf, id: 0B-QKaDvrAG7lZGFWbU5QV3paLUE\n",
      "title: I94 - Official Website.pdf, id: 1c-bTj1v2GTwt4AkEkphxzTpXCtyIHMnFJaN0uznZjW3YR0zKgZn0X5vf7pUOLPO1FVHI6j7JjOyAxeei\n",
      "title: DLnotes.pdf, id: 0B-QKaDvrAG7lZHVYRlRRN1d0cHZLaEllUEZBUk15XzdmeVV3\n",
      "title: yashovac_shuffle.html, id: 0B-QKaDvrAG7lbzFUNXlyZGtyU0puLWNUS0xYdmduOEQtRE5J\n",
      "title: Moving out SALE - cheap stuff, id: 1wlOOq1srKCiR3tv08dbwkAp01O7KqbiahUJHhCPXvDY\n",
      "title: 11-601 F17 Lecture 02 - Complexity.pdf, id: 0B-QKaDvrAG7lU2ZUME5JSmxTTDQ\n",
      "title: SUMMARY_OF_THE_WORLD_IS_FLAT.pdf, id: 0B-QKaDvrAG7lYUVEZ2VHWlJuSnM\n",
      "title: Orientation 2017 Schedule -17.pdf, id: 0B-QKaDvrAG7lYVdVcVFkR3U5bUNMb191VmlGbmhtbWpNSWJB\n",
      "title: CPDC Orientation Handout_2017(1).pdf, id: 0B-QKaDvrAG7lWF9EZGlQcGtQcFVzNGJrc1BDRHZRSlRndm5R\n",
      "title: Getting started, id: 0B-QKaDvrAG7lc3RhcnRlcl9maWxlX2Rhc2hlclYw\n"
     ]
    }
   ],
   "source": [
    "drive = GoogleDrive(authentication)\n",
    "def displayFileIds():\n",
    "  file_list = drive.ListFile().GetList()\n",
    "  for file1 in file_list:\n",
    "      print('title: {}, id: {}'.format(file1['title'], file1['id']))\n",
    "displayFileIds()"
   ]
  },
  {
   "cell_type": "markdown",
   "metadata": {
    "colab_type": "text",
    "id": "kUTxXmxqnV6T"
   },
   "source": [
    "The function given below can take the fileid and filename of the file that needs  to be transfered to google colab."
   ]
  },
  {
   "cell_type": "code",
   "execution_count": 0,
   "metadata": {
    "colab": {
     "autoexec": {
      "startup": false,
      "wait_interval": 0
     }
    },
    "colab_type": "code",
    "collapsed": true,
    "id": "_K4dLSrvnV6T"
   },
   "outputs": [],
   "source": [
    "def getFilefromDrive(fileid,filename):\n",
    "      file = drive.CreateFile({'id':fileid})\n",
    "      file.GetContentFile(filename)\n",
    "getFilefromDrive('1xC8X0zuS-y_ZMq37A8rNP932HgxQkJW8','test-features.npy')    "
   ]
  },
  {
   "cell_type": "markdown",
   "metadata": {
    "colab_type": "text",
    "id": "cOMHcIxwnV6Y"
   },
   "source": [
    "As you can see the file is listed below."
   ]
  },
  {
   "cell_type": "code",
   "execution_count": 0,
   "metadata": {
    "colab": {
     "autoexec": {
      "startup": false,
      "wait_interval": 0
     },
     "base_uri": "https://localhost:8080/",
     "height": 34,
     "output_extras": [
      {}
     ]
    },
    "colab_type": "code",
    "executionInfo": {
     "elapsed": 1597,
     "status": "ok",
     "timestamp": 1522463275166,
     "user": {
      "displayName": "Yashovardhan Chaturvedi",
      "photoUrl": "https://lh3.googleusercontent.com/a/default-user=s128",
      "userId": "108378940342117174921"
     },
     "user_tz": 240
    },
    "id": "a60igbp8nV6Z",
    "outputId": "1cb775ec-fcff-43c2-bb9b-1f1be6b229cb"
   },
   "outputs": [
    {
     "name": "stdout",
     "output_type": "stream",
     "text": [
      "datalab  test-features.npy\r\n"
     ]
    }
   ],
   "source": [
    "!ls"
   ]
  },
  {
   "cell_type": "markdown",
   "metadata": {
    "colab_type": "text",
    "id": "xzJW3eaxnV6d"
   },
   "source": [
    "### Loading data from google cloud\n",
    "If the data is stored in a bucket of the google account associated with the authenticated google account. You can directly download the data using the co !gsutil cp gs://{bucket_name}/samplefile.csv /samplefile.csv "
   ]
  },
  {
   "cell_type": "markdown",
   "metadata": {
    "colab_type": "text",
    "id": "Zoq0ef_xnV6e"
   },
   "source": [
    "## Downloading Files from Google Colab \n",
    "The files stored on Google Colab instance can be downloaded in the following ways.\n",
    "* Download File to the local File System\n",
    "* Transfer File to google drive associated with the authenticated google account\n",
    "* Transfer the File to the associated Google Cloud Account or other cloud providers using the appropriate API's provided by the cloud providers"
   ]
  },
  {
   "cell_type": "markdown",
   "metadata": {
    "colab_type": "text",
    "id": "gqABD11FnV6f"
   },
   "source": [
    "### Downloading File to the Local File System\n",
    "For downloading the files we again make use of the google.colab library's files module. As shown below."
   ]
  },
  {
   "cell_type": "code",
   "execution_count": 0,
   "metadata": {
    "colab": {
     "autoexec": {
      "startup": false,
      "wait_interval": 0
     }
    },
    "colab_type": "code",
    "collapsed": true,
    "id": "twe5YWQNnV6f"
   },
   "outputs": [],
   "source": [
    "from google.colab import files\n",
    "def DownloadFileToLocalSystem(filename):\n",
    "    files.download(filename)\n",
    "DownloadFileToLocalSystem('test-features.npy')  "
   ]
  },
  {
   "cell_type": "markdown",
   "metadata": {
    "colab_type": "text",
    "id": "yE_EQG6YnV6i"
   },
   "source": [
    "### Transfering File to the authenticated google drive \n",
    "For transfering the files we again make use of the google.colab library's files module. As shown below."
   ]
  },
  {
   "cell_type": "code",
   "execution_count": 0,
   "metadata": {
    "colab": {
     "autoexec": {
      "startup": false,
      "wait_interval": 0
     }
    },
    "colab_type": "code",
    "collapsed": true,
    "id": "_g_koLCHnV6i"
   },
   "outputs": [],
   "source": [
    "from googleapiclient.http import MediaFileUpload\n",
    "from googleapiclient.discovery import build\n",
    "drive_service = build('drive', 'v3')\n",
    "def uploadFile(filename): \n",
    "    file_metadata = {\n",
    "  'name': filename,\n",
    "  'mimeType': 'text/plain'\n",
    "    }\n",
    "    media = MediaFileUpload('/content/'+filename, \n",
    "                        mimetype='text/plain',\n",
    "                        resumable=True)\n",
    "    created = drive_service.files().create(body=file_metadata,\n",
    "                                       media_body=media,\n",
    "                                       fields='id').execute()\n",
    "    print('File ID: {} FileName: {}'.format(created.get('id'),filename))"
   ]
  },
  {
   "cell_type": "markdown",
   "metadata": {
    "colab_type": "text",
    "id": "SFv5yACgnV6m"
   },
   "source": [
    "### Transfering File to associaed google cloud storage service\n",
    "Below the functions createBucket creates a new bucket on Google Cloud Service. If the bucket is created successfully  the uploadFileToGCS will upload the file to gcp."
   ]
  },
  {
   "cell_type": "code",
   "execution_count": 0,
   "metadata": {
    "colab": {
     "autoexec": {
      "startup": false,
      "wait_interval": 0
     }
    },
    "colab_type": "code",
    "collapsed": true,
    "id": "yfcky7aGnV6m"
   },
   "outputs": [],
   "source": [
    "# Authentication\n",
    "from google.colab import auth\n",
    "from googleapiclient.http import MediaFileUpload\n",
    "auth.authenticate_user()\n",
    "from googleapiclient.discovery import build\n",
    "gcs_service = build('storage', 'v1')\n",
    "def createBucket(bucketname):\n",
    "    try :\n",
    "      body = {\n",
    "        'name': bucketname,\n",
    "        'location': 'us', # you can chosse the location where you want to upload the data depending on the region\n",
    "              }\n",
    "      gcs_service.buckets().insert(project=project_id, body=body).execute()\n",
    "      return True\n",
    "    except:\n",
    "        return False\n",
    "def uploadFileToGCS(bucketname,filename):\n",
    "    status = createBucket(bucketname)\n",
    "    if status:\n",
    "        media = MediaFileUpload(filename, \n",
    "                        mimetype='text/plain',\n",
    "                        resumable=True)\n",
    "        request = gcs_service.objects().insert(bucket=bucket_name, \n",
    "                                       name='to_upload.txt',\n",
    "                                       media_body=media)\n",
    "        response = None\n",
    "        while response is None:\n",
    "          _, response = request.next_chunk()\n",
    "        print('File uploaded successfully !')"
   ]
  },
  {
   "cell_type": "markdown",
   "metadata": {
    "colab_type": "text",
    "id": "7vASOLgUnV6t"
   },
   "source": [
    "## Installing Python Packages on Colab \n",
    "Installing packages is pretty straightforward. All you have to do is call the !pip/pip3 along with the name of the package that needs to be installed. Example : "
   ]
  },
  {
   "cell_type": "code",
   "execution_count": 0,
   "metadata": {
    "colab": {
     "autoexec": {
      "startup": false,
      "wait_interval": 0
     },
     "base_uri": "https://localhost:8080/",
     "height": 34,
     "output_extras": [
      {}
     ]
    },
    "colab_type": "code",
    "executionInfo": {
     "elapsed": 2935,
     "status": "ok",
     "timestamp": 1522463431082,
     "user": {
      "displayName": "Yashovardhan Chaturvedi",
      "photoUrl": "https://lh3.googleusercontent.com/a/default-user=s128",
      "userId": "108378940342117174921"
     },
     "user_tz": 240
    },
    "id": "QCQaaUG_nV6w",
    "outputId": "107d2e53-9fab-4a0b-bfa8-5c349a9f100c"
   },
   "outputs": [
    {
     "name": "stdout",
     "output_type": "stream",
     "text": [
      "Requirement already satisfied: seaborn in /usr/local/lib/python3.6/dist-packages\r\n"
     ]
    }
   ],
   "source": [
    "! pip3 install seaborn"
   ]
  },
  {
   "cell_type": "markdown",
   "metadata": {
    "colab_type": "text",
    "id": "P-4IZOTVnV62"
   },
   "source": [
    "## Introduction to Keras \n",
    "Keras is a wrapper on top of popular deep learning frameworks such as tensorflow , CNTK , Theano. The wrapper API provided makes writing deep learning models quite easy. Link : https://keras.io/\n",
    "Keras comes preinstalled with a tensorflow backend on google colab"
   ]
  },
  {
   "cell_type": "code",
   "execution_count": 0,
   "metadata": {
    "colab": {
     "autoexec": {
      "startup": false,
      "wait_interval": 0
     },
     "base_uri": "https://localhost:8080/",
     "height": 34,
     "output_extras": [
      {}
     ]
    },
    "colab_type": "code",
    "executionInfo": {
     "elapsed": 2268,
     "status": "ok",
     "timestamp": 1522458778607,
     "user": {
      "displayName": "Yashovardhan Chaturvedi",
      "photoUrl": "https://lh3.googleusercontent.com/a/default-user=s128",
      "userId": "108378940342117174921"
     },
     "user_tz": 240
    },
    "id": "VmuL9LK3nV63",
    "outputId": "9cf96a96-16d9-4ef5-cca2-d3bb9d5d58c9"
   },
   "outputs": [
    {
     "name": "stderr",
     "output_type": "stream",
     "text": [
      "Using TensorFlow backend.\n"
     ]
    }
   ],
   "source": [
    "import keras"
   ]
  },
  {
   "cell_type": "markdown",
   "metadata": {
    "colab_type": "text",
    "id": "juXett8qsyiJ"
   },
   "source": [
    "### Writing DNN models in Keras is straightforward.\n",
    "We can use either the Sequential api (generally used for simple models) or the Functional Api(generally used for writing complex models). Below is an example of writing a small DNN model using the sequential model. In order to write a small DNN model we follow the following steps.\n",
    "* Define a model using Sequential api\n",
    "* Add various layers to the model using the .add() method \n",
    "* Configure the learning process using the .compile() function \n",
    "  by providing the type of loss, optimizer , and metrics such as accuracy to the function\n",
    "* using the model.fit() providing the training examples as well as labels with epochs as well as batch_size to it\n",
    "* loss along with other metrics can be calculated using the model.evaluate() function where you provide validation data and correspnding labels with batch size.  \n",
    "* predictions can be generated using model.predict() which takes test data and batchsize \n",
    "\n",
    "#### Below we define a simple cnn model for detecting on the Cifar-10 dataset\n",
    " The model defined below is 3 CNN layers followed by to dense layer Keras CNN layer: https://keras.io/layers/convolutional/\n",
    " keras.layers.Conv2D(filters, kernel_size , input_shape) for first layer \n",
    " Conv2D(filters, kernel_size) for subsequent layers using default stride of (1,1) and padding = \"valid\" "
   ]
  },
  {
   "cell_type": "markdown",
   "metadata": {
    "colab_type": "text",
    "id": "wj8wp3WA2Qxf"
   },
   "source": [
    "### Loading the Cifar-10 dataset Description : https://www.kaggle.com/c/cifar-10\n",
    "It consists of 60,000 32x32 color images containing one of 10 object classes, with 6000 images per class as described in the above link.\n",
    "Keras provides in built data loader for cifar-10 data sets . There are various other datasets the come withing keras. Link : https://keras.io/datasets/"
   ]
  },
  {
   "cell_type": "code",
   "execution_count": 1,
   "metadata": {
    "colab": {
     "autoexec": {
      "startup": false,
      "wait_interval": 0
     },
     "base_uri": "https://localhost:8080/",
     "height": 34,
     "output_extras": [
      {
       "item_id": 1
      }
     ]
    },
    "colab_type": "code",
    "executionInfo": {
     "elapsed": 3415,
     "status": "ok",
     "timestamp": 1522465908454,
     "user": {
      "displayName": "Yashovardhan Chaturvedi",
      "photoUrl": "https://lh3.googleusercontent.com/a/default-user=s128",
      "userId": "108378940342117174921"
     },
     "user_tz": 240
    },
    "id": "7mO7r4ar174G",
    "outputId": "d71efadd-d33b-440b-c192-09d6f74f9163"
   },
   "outputs": [
    {
     "name": "stderr",
     "output_type": "stream",
     "text": [
      "Using TensorFlow backend.\n"
     ]
    }
   ],
   "source": [
    "from keras.datasets import cifar10\n",
    "# imporitng the Cifar-10 dataset and splitting it into train and test\n",
    "(X_train, Y_train), (X_test, Y_test) = cifar10.load_data()"
   ]
  },
  {
   "cell_type": "code",
   "execution_count": 0,
   "metadata": {
    "colab": {
     "autoexec": {
      "startup": false,
      "wait_interval": 0
     }
    },
    "colab_type": "code",
    "collapsed": true,
    "id": "9f9fTcQUSqKJ"
   },
   "outputs": [],
   "source": [
    "import numpy as np\n",
    "X_train = np.divide(X_train, 255)\n",
    "X_test = np.divide(X_test, 255)"
   ]
  },
  {
   "cell_type": "code",
   "execution_count": 0,
   "metadata": {
    "colab": {
     "autoexec": {
      "startup": false,
      "wait_interval": 0
     }
    },
    "colab_type": "code",
    "collapsed": true,
    "id": "dxxQPnPHTFZH"
   },
   "outputs": [],
   "source": [
    "from keras.utils import np_utils\n",
    "# one hot encode the labels\n",
    "Y_train = np_utils.to_categorical(Y_train, 10)\n",
    "Y_test = np_utils.to_categorical(Y_test, 10)"
   ]
  },
  {
   "cell_type": "markdown",
   "metadata": {
    "colab_type": "text",
    "id": "-P4sV1ONAuxO"
   },
   "source": [
    "Since the Memory available to us is limited. We are only going to be training on 10000 data pointsso that we dont run into memory issues."
   ]
  },
  {
   "cell_type": "code",
   "execution_count": 0,
   "metadata": {
    "colab": {
     "autoexec": {
      "startup": false,
      "wait_interval": 0
     }
    },
    "colab_type": "code",
    "collapsed": true,
    "id": "PrXHhWcUl98I"
   },
   "outputs": [],
   "source": [
    "X_train_small = X_train[0:10000]\n",
    "Y_train_small = Y_train[0:10000]\n",
    "X_test_small = X_test[0:10000]\n",
    "Y_test_small = Y_test[0:10000]\n",
    "del(X_train)\n",
    "del(Y_train)\n",
    "del(X_test)\n",
    "del(Y_test)"
   ]
  },
  {
   "cell_type": "markdown",
   "metadata": {
    "colab_type": "text",
    "id": "Nhc_6TlwAuxT"
   },
   "source": [
    "We have defined a small model which contains 6 CNN layers each having a dropout which is a kind of regularization technique used to prevent the model from overfitting and helps in genralization. Link : http://cs231n.github.io/neural-networks-2/#reg "
   ]
  },
  {
   "cell_type": "code",
   "execution_count": 0,
   "metadata": {
    "colab": {
     "autoexec": {
      "startup": false,
      "wait_interval": 0
     }
    },
    "colab_type": "code",
    "collapsed": true,
    "id": "HWvGMVFNsX8t"
   },
   "outputs": [],
   "source": [
    "from keras.models import Sequential\n",
    "from keras.layers import Conv2D, MaxPooling2D # we import the tpye of dnn we are stacking on the sequential model as mentioned in the above line\n",
    "from keras.layers import Activation, Dropout, Flatten, Dense\n",
    "\n",
    "model = Sequential()\n",
    "model.add(Conv2D(32, (3, 3), padding='same', activation='relu', input_shape=X_train_small.shape[1:]))\n",
    "model.add(Dropout(0.2))\n",
    "model.add(Conv2D(32,(3,3),padding='same', activation='relu'))\n",
    "model.add(MaxPooling2D(pool_size=(2,2)))\n",
    "model.add(Conv2D(64,(3,3),padding='same',activation='relu'))\n",
    "model.add(Dropout(0.2))\n",
    "model.add(Conv2D(64,(3,3),padding='same',activation='relu'))\n",
    "model.add(MaxPooling2D(pool_size=(2,2)))\n",
    "model.add(Conv2D(128,(3,3),padding='same',activation='relu'))\n",
    "model.add(Dropout(0.2))\n",
    "model.add(Conv2D(128,(3,3),padding='same',activation='relu'))\n",
    "model.add(MaxPooling2D(pool_size=(2,2)))\n",
    "model.add(Flatten())\n",
    "model.add(Dropout(0.2))\n",
    "model.add(Dense(1024,activation='relu'))\n",
    "model.add(Dropout(0.2))\n",
    "model.add(Dense(10, activation='softmax'))\n",
    "model.compile(loss='categorical_crossentropy',\n",
    "              optimizer='rmsprop',\n",
    "              metrics=['accuracy'])"
   ]
  },
  {
   "cell_type": "code",
   "execution_count": 0,
   "metadata": {
    "colab": {
     "autoexec": {
      "startup": false,
      "wait_interval": 0
     },
     "base_uri": "https://localhost:8080/",
     "height": 714,
     "output_extras": [
      {}
     ]
    },
    "colab_type": "code",
    "executionInfo": {
     "elapsed": 272,
     "status": "ok",
     "timestamp": 1522465492999,
     "user": {
      "displayName": "Yashovardhan Chaturvedi",
      "photoUrl": "https://lh3.googleusercontent.com/a/default-user=s128",
      "userId": "108378940342117174921"
     },
     "user_tz": 240
    },
    "id": "AEKncjAStjkp",
    "outputId": "3e445ed0-f63f-4914-bda0-05d0f7fc4acf"
   },
   "outputs": [
    {
     "name": "stdout",
     "output_type": "stream",
     "text": [
      "_________________________________________________________________\n",
      "Layer (type)                 Output Shape              Param #   \n",
      "=================================================================\n",
      "conv2d_1 (Conv2D)            (None, 32, 32, 32)        896       \n",
      "_________________________________________________________________\n",
      "dropout_1 (Dropout)          (None, 32, 32, 32)        0         \n",
      "_________________________________________________________________\n",
      "conv2d_2 (Conv2D)            (None, 32, 32, 32)        9248      \n",
      "_________________________________________________________________\n",
      "max_pooling2d_1 (MaxPooling2 (None, 16, 16, 32)        0         \n",
      "_________________________________________________________________\n",
      "conv2d_3 (Conv2D)            (None, 16, 16, 64)        18496     \n",
      "_________________________________________________________________\n",
      "dropout_2 (Dropout)          (None, 16, 16, 64)        0         \n",
      "_________________________________________________________________\n",
      "conv2d_4 (Conv2D)            (None, 16, 16, 64)        36928     \n",
      "_________________________________________________________________\n",
      "max_pooling2d_2 (MaxPooling2 (None, 8, 8, 64)          0         \n",
      "_________________________________________________________________\n",
      "conv2d_5 (Conv2D)            (None, 8, 8, 128)         73856     \n",
      "_________________________________________________________________\n",
      "dropout_3 (Dropout)          (None, 8, 8, 128)         0         \n",
      "_________________________________________________________________\n",
      "conv2d_6 (Conv2D)            (None, 8, 8, 128)         147584    \n",
      "_________________________________________________________________\n",
      "max_pooling2d_3 (MaxPooling2 (None, 4, 4, 128)         0         \n",
      "_________________________________________________________________\n",
      "flatten_1 (Flatten)          (None, 2048)              0         \n",
      "_________________________________________________________________\n",
      "dropout_4 (Dropout)          (None, 2048)              0         \n",
      "_________________________________________________________________\n",
      "dense_1 (Dense)              (None, 1024)              2098176   \n",
      "_________________________________________________________________\n",
      "dropout_5 (Dropout)          (None, 1024)              0         \n",
      "_________________________________________________________________\n",
      "dense_2 (Dense)              (None, 10)                10250     \n",
      "=================================================================\n",
      "Total params: 2,395,434\n",
      "Trainable params: 2,395,434\n",
      "Non-trainable params: 0\n",
      "_________________________________________________________________\n"
     ]
    }
   ],
   "source": [
    "model.summary()"
   ]
  },
  {
   "cell_type": "code",
   "execution_count": 0,
   "metadata": {
    "colab": {
     "autoexec": {
      "startup": false,
      "wait_interval": 0
     },
     "base_uri": "https://localhost:8080/",
     "height": 734,
     "output_extras": [
      {}
     ]
    },
    "colab_type": "code",
    "executionInfo": {
     "elapsed": 233921,
     "status": "ok",
     "timestamp": 1522462894716,
     "user": {
      "displayName": "Yashovardhan Chaturvedi",
      "photoUrl": "https://lh3.googleusercontent.com/a/default-user=s128",
      "userId": "108378940342117174921"
     },
     "user_tz": 240
    },
    "id": "-l9h5na7PqAU",
    "outputId": "554b8cce-9ce8-492d-dc49-49bd782a26ef"
   },
   "outputs": [
    {
     "name": "stdout",
     "output_type": "stream",
     "text": [
      "Train on 10000 samples, validate on 10000 samples\n",
      "Epoch 1/20\n",
      "10000/10000 [==============================] - 13s 1ms/step - loss: 2.0719 - acc: 0.2388 - val_loss: 1.9031 - val_acc: 0.3233\n",
      "Epoch 2/20\n",
      "10000/10000 [==============================] - 12s 1ms/step - loss: 1.6805 - acc: 0.3815 - val_loss: 1.5550 - val_acc: 0.4333\n",
      "Epoch 3/20\n",
      " 4960/10000 [=============>................] - ETA: 4s - loss: 1.4928 - acc: 0.457910000/10000 [==============================] - 12s 1ms/step - loss: 1.4801 - acc: 0.4643 - val_loss: 1.5298 - val_acc: 0.4285\n",
      "Epoch 4/20\n",
      "10000/10000 [==============================] - 12s 1ms/step - loss: 1.3190 - acc: 0.5234 - val_loss: 1.3032 - val_acc: 0.5430\n",
      "Epoch 5/20\n",
      "10000/10000 [==============================] - 11s 1ms/step - loss: 1.1969 - acc: 0.5716 - val_loss: 1.4097 - val_acc: 0.5020\n",
      "Epoch 6/20\n",
      "  288/10000 [..............................] - ETA: 9s - loss: 1.1664 - acc: 0.583310000/10000 [==============================] - 12s 1ms/step - loss: 1.0842 - acc: 0.6165 - val_loss: 1.3058 - val_acc: 0.5342\n",
      "Epoch 7/20\n",
      "10000/10000 [==============================] - 12s 1ms/step - loss: 1.0184 - acc: 0.6394 - val_loss: 1.1764 - val_acc: 0.5842\n",
      "Epoch 8/20\n",
      " 9376/10000 [===========================>..] - ETA: 0s - loss: 0.9248 - acc: 0.669810000/10000 [==============================] - 12s 1ms/step - loss: 0.9295 - acc: 0.6699 - val_loss: 1.1743 - val_acc: 0.5809\n",
      "Epoch 9/20\n",
      "10000/10000 [==============================] - 12s 1ms/step - loss: 0.8745 - acc: 0.6917 - val_loss: 1.1958 - val_acc: 0.5923\n",
      "Epoch 10/20\n",
      "10000/10000 [==============================] - 12s 1ms/step - loss: 0.8277 - acc: 0.7102 - val_loss: 1.1526 - val_acc: 0.6325\n",
      "Epoch 11/20\n",
      "  992/10000 [=>............................] - ETA: 8s - loss: 0.7050 - acc: 0.755010000/10000 [==============================] - 11s 1ms/step - loss: 0.7601 - acc: 0.7343 - val_loss: 1.3135 - val_acc: 0.6056\n",
      "Epoch 12/20\n",
      "10000/10000 [==============================] - 12s 1ms/step - loss: 0.7211 - acc: 0.7450 - val_loss: 1.1023 - val_acc: 0.6232\n",
      "Epoch 13/20\n",
      " 9440/10000 [===========================>..] - ETA: 0s - loss: 0.6852 - acc: 0.761210000/10000 [==============================] - 12s 1ms/step - loss: 0.6898 - acc: 0.7597 - val_loss: 1.1722 - val_acc: 0.6143\n",
      "Epoch 14/20\n",
      "10000/10000 [==============================] - 12s 1ms/step - loss: 0.6524 - acc: 0.7771 - val_loss: 1.1987 - val_acc: 0.6283\n",
      "Epoch 15/20\n",
      "10000/10000 [==============================] - 12s 1ms/step - loss: 0.6334 - acc: 0.7820 - val_loss: 1.0885 - val_acc: 0.6328\n",
      "Epoch 16/20\n",
      "  992/10000 [=>............................] - ETA: 8s - loss: 0.5284 - acc: 0.825610000/10000 [==============================] - 12s 1ms/step - loss: 0.5994 - acc: 0.7977 - val_loss: 1.1624 - val_acc: 0.6210\n",
      "Epoch 17/20\n",
      "10000/10000 [==============================] - 12s 1ms/step - loss: 0.5971 - acc: 0.7991 - val_loss: 1.4078 - val_acc: 0.6227\n",
      "Epoch 18/20\n",
      " 9440/10000 [===========================>..] - ETA: 0s - loss: 0.5590 - acc: 0.815310000/10000 [==============================] - 11s 1ms/step - loss: 0.5613 - acc: 0.8140 - val_loss: 1.2026 - val_acc: 0.6481\n",
      "Epoch 19/20\n",
      "10000/10000 [==============================] - 11s 1ms/step - loss: 0.5681 - acc: 0.8095 - val_loss: 1.2064 - val_acc: 0.6530\n",
      "Epoch 20/20\n",
      "10000/10000 [==============================] - 11s 1ms/step - loss: 0.5664 - acc: 0.8147 - val_loss: 1.6321 - val_acc: 0.6154\n"
     ]
    }
   ],
   "source": [
    "import time\n",
    "start = time.time()\n",
    "model.fit(X_train_small, Y_train_small, batch_size=32, epochs=20, validation_data=(X_test_small,Y_test_small),shuffle=True)\n",
    "end = time.time()"
   ]
  },
  {
   "cell_type": "code",
   "execution_count": 0,
   "metadata": {
    "colab": {
     "autoexec": {
      "startup": false,
      "wait_interval": 0
     },
     "base_uri": "https://localhost:8080/",
     "height": 34,
     "output_extras": [
      {}
     ]
    },
    "colab_type": "code",
    "executionInfo": {
     "elapsed": 459,
     "status": "ok",
     "timestamp": 1522462911039,
     "user": {
      "displayName": "Yashovardhan Chaturvedi",
      "photoUrl": "https://lh3.googleusercontent.com/a/default-user=s128",
      "userId": "108378940342117174921"
     },
     "user_tz": 240
    },
    "id": "AEr3Q-IAQB9p",
    "outputId": "e059d2a0-a855-48d1-c9ae-ca0844a9dad7"
   },
   "outputs": [
    {
     "name": "stdout",
     "output_type": "stream",
     "text": [
      "training time 233.6098005771637\n"
     ]
    }
   ],
   "source": [
    "print(\"training time {}\".format(end-start))"
   ]
  },
  {
   "cell_type": "markdown",
   "metadata": {
    "colab_type": "text",
    "id": "omIU-WuvAuxn"
   },
   "source": [
    "As you can see the model was able to train fast because we are using the GPU mode of the Colab ! \n",
    "Thus colab helps us run small experiements fast by providing free GPU access which you can use for 12 hours continuously. \n",
    "#### To enable GPU for Colab : Runtime -> ChangeRunTime -> Hardware Accelerator should be set to GPU"
   ]
  },
  {
   "cell_type": "markdown",
   "metadata": {
    "colab_type": "text",
    "id": "_A-XQAEQYDRI"
   },
   "source": [
    "### Transfer Learning\n",
    "Transfer Learning is a technique that helps us leverage features learned from one model trained on a particular data set which is very large in size and use the weights of the model to train another model on another data set which is typically quite small in size. \n",
    "There are different ways in which transfer learning can be applied that depends on what kind of data you are dealing with to train the model.\n",
    "* ConvNet as fixed feature extractor :  We can use a pre-trained model as a feature extraction mechanism. We romove the output layer and then use the entire network as a fixed feature extractor for the new data set and build a new classifcation model on top of it.\n",
    "* Fine-tuning the ConvNet : We reinitialize the weights are train the model again using the new data set. \n",
    "* Pretrained models : We can freeze the weights of the initial layers as since CNN learn heirachical features the initial features that are trained should remain the same for the new data set as well. Hence we only learn the features of the higher layers in the model.\n",
    "Link To Detailed Description of Transfer Learning : http://cs231n.github.io/transfer-learning/\n",
    "### Using Convent as a fixed feature Extractor for training CIFAR-10\n"
   ]
  },
  {
   "cell_type": "markdown",
   "metadata": {
    "colab_type": "text",
    "id": "mLbYZ4XJAuxp"
   },
   "source": [
    "We import inception model from keras. Keras provides us with a lot of pretrained models that we can directly use. Once we call the model the weights are automatically downloaded and the model instance is created using those weights.\n",
    "Link : https://keras.io/applications/"
   ]
  },
  {
   "cell_type": "code",
   "execution_count": 0,
   "metadata": {
    "colab": {
     "autoexec": {
      "startup": false,
      "wait_interval": 0
     }
    },
    "colab_type": "code",
    "collapsed": true,
    "id": "VxHfssTJYA70"
   },
   "outputs": [],
   "source": [
    "from keras.applications.inception_v3 import InceptionV3, preprocess_input"
   ]
  },
  {
   "cell_type": "code",
   "execution_count": 0,
   "metadata": {
    "colab": {
     "autoexec": {
      "startup": false,
      "wait_interval": 0
     }
    },
    "colab_type": "code",
    "collapsed": true,
    "id": "H2m98TXrk1Rv"
   },
   "outputs": [],
   "source": [
    "model_V3 = InceptionV3(weights='imagenet', include_top=False, input_shape=(139, 139, 3))"
   ]
  },
  {
   "cell_type": "code",
   "execution_count": 0,
   "metadata": {
    "colab": {
     "autoexec": {
      "startup": false,
      "wait_interval": 0
     },
     "base_uri": "https://localhost:8080/",
     "height": 11305,
     "output_extras": [
      {}
     ]
    },
    "colab_type": "code",
    "executionInfo": {
     "elapsed": 397,
     "status": "ok",
     "timestamp": 1522459955746,
     "user": {
      "displayName": "Yashovardhan Chaturvedi",
      "photoUrl": "https://lh3.googleusercontent.com/a/default-user=s128",
      "userId": "108378940342117174921"
     },
     "user_tz": 240
    },
    "id": "4OqpdU9hrxxa",
    "outputId": "87738c5b-6e74-4c86-922a-9b131c92cff0"
   },
   "outputs": [
    {
     "name": "stdout",
     "output_type": "stream",
     "text": [
      "__________________________________________________________________________________________________\n",
      "Layer (type)                    Output Shape         Param #     Connected to                     \n",
      "==================================================================================================\n",
      "input_1 (InputLayer)            (None, 139, 139, 3)  0                                            \n",
      "__________________________________________________________________________________________________\n",
      "conv2d_1 (Conv2D)               (None, 69, 69, 32)   864         input_1[0][0]                    \n",
      "__________________________________________________________________________________________________\n",
      "batch_normalization_1 (BatchNor (None, 69, 69, 32)   96          conv2d_1[0][0]                   \n",
      "__________________________________________________________________________________________________\n",
      "activation_1 (Activation)       (None, 69, 69, 32)   0           batch_normalization_1[0][0]      \n",
      "__________________________________________________________________________________________________\n",
      "conv2d_2 (Conv2D)               (None, 67, 67, 32)   9216        activation_1[0][0]               \n",
      "__________________________________________________________________________________________________\n",
      "batch_normalization_2 (BatchNor (None, 67, 67, 32)   96          conv2d_2[0][0]                   \n",
      "__________________________________________________________________________________________________\n",
      "activation_2 (Activation)       (None, 67, 67, 32)   0           batch_normalization_2[0][0]      \n",
      "__________________________________________________________________________________________________\n",
      "conv2d_3 (Conv2D)               (None, 67, 67, 64)   18432       activation_2[0][0]               \n",
      "__________________________________________________________________________________________________\n",
      "batch_normalization_3 (BatchNor (None, 67, 67, 64)   192         conv2d_3[0][0]                   \n",
      "__________________________________________________________________________________________________\n",
      "activation_3 (Activation)       (None, 67, 67, 64)   0           batch_normalization_3[0][0]      \n",
      "__________________________________________________________________________________________________\n",
      "max_pooling2d_1 (MaxPooling2D)  (None, 33, 33, 64)   0           activation_3[0][0]               \n",
      "__________________________________________________________________________________________________\n",
      "conv2d_4 (Conv2D)               (None, 33, 33, 80)   5120        max_pooling2d_1[0][0]            \n",
      "__________________________________________________________________________________________________\n",
      "batch_normalization_4 (BatchNor (None, 33, 33, 80)   240         conv2d_4[0][0]                   \n",
      "__________________________________________________________________________________________________\n",
      "activation_4 (Activation)       (None, 33, 33, 80)   0           batch_normalization_4[0][0]      \n",
      "__________________________________________________________________________________________________\n",
      "conv2d_5 (Conv2D)               (None, 31, 31, 192)  138240      activation_4[0][0]               \n",
      "__________________________________________________________________________________________________\n",
      "batch_normalization_5 (BatchNor (None, 31, 31, 192)  576         conv2d_5[0][0]                   \n",
      "__________________________________________________________________________________________________\n",
      "activation_5 (Activation)       (None, 31, 31, 192)  0           batch_normalization_5[0][0]      \n",
      "__________________________________________________________________________________________________\n",
      "max_pooling2d_2 (MaxPooling2D)  (None, 15, 15, 192)  0           activation_5[0][0]               \n",
      "__________________________________________________________________________________________________\n",
      "conv2d_9 (Conv2D)               (None, 15, 15, 64)   12288       max_pooling2d_2[0][0]            \n",
      "__________________________________________________________________________________________________\n",
      "batch_normalization_9 (BatchNor (None, 15, 15, 64)   192         conv2d_9[0][0]                   \n",
      "__________________________________________________________________________________________________\n",
      "activation_9 (Activation)       (None, 15, 15, 64)   0           batch_normalization_9[0][0]      \n",
      "__________________________________________________________________________________________________\n",
      "conv2d_7 (Conv2D)               (None, 15, 15, 48)   9216        max_pooling2d_2[0][0]            \n",
      "__________________________________________________________________________________________________\n",
      "conv2d_10 (Conv2D)              (None, 15, 15, 96)   55296       activation_9[0][0]               \n",
      "__________________________________________________________________________________________________\n",
      "batch_normalization_7 (BatchNor (None, 15, 15, 48)   144         conv2d_7[0][0]                   \n",
      "__________________________________________________________________________________________________\n",
      "batch_normalization_10 (BatchNo (None, 15, 15, 96)   288         conv2d_10[0][0]                  \n",
      "__________________________________________________________________________________________________\n",
      "activation_7 (Activation)       (None, 15, 15, 48)   0           batch_normalization_7[0][0]      \n",
      "__________________________________________________________________________________________________\n",
      "activation_10 (Activation)      (None, 15, 15, 96)   0           batch_normalization_10[0][0]     \n",
      "__________________________________________________________________________________________________\n",
      "average_pooling2d_1 (AveragePoo (None, 15, 15, 192)  0           max_pooling2d_2[0][0]            \n",
      "__________________________________________________________________________________________________\n",
      "conv2d_6 (Conv2D)               (None, 15, 15, 64)   12288       max_pooling2d_2[0][0]            \n",
      "__________________________________________________________________________________________________\n",
      "conv2d_8 (Conv2D)               (None, 15, 15, 64)   76800       activation_7[0][0]               \n",
      "__________________________________________________________________________________________________\n",
      "conv2d_11 (Conv2D)              (None, 15, 15, 96)   82944       activation_10[0][0]              \n",
      "__________________________________________________________________________________________________\n",
      "conv2d_12 (Conv2D)              (None, 15, 15, 32)   6144        average_pooling2d_1[0][0]        \n",
      "__________________________________________________________________________________________________\n",
      "batch_normalization_6 (BatchNor (None, 15, 15, 64)   192         conv2d_6[0][0]                   \n",
      "__________________________________________________________________________________________________\n",
      "batch_normalization_8 (BatchNor (None, 15, 15, 64)   192         conv2d_8[0][0]                   \n",
      "__________________________________________________________________________________________________\n",
      "batch_normalization_11 (BatchNo (None, 15, 15, 96)   288         conv2d_11[0][0]                  \n",
      "__________________________________________________________________________________________________\n",
      "batch_normalization_12 (BatchNo (None, 15, 15, 32)   96          conv2d_12[0][0]                  \n",
      "__________________________________________________________________________________________________\n",
      "activation_6 (Activation)       (None, 15, 15, 64)   0           batch_normalization_6[0][0]      \n",
      "__________________________________________________________________________________________________\n",
      "activation_8 (Activation)       (None, 15, 15, 64)   0           batch_normalization_8[0][0]      \n",
      "__________________________________________________________________________________________________\n",
      "activation_11 (Activation)      (None, 15, 15, 96)   0           batch_normalization_11[0][0]     \n",
      "__________________________________________________________________________________________________\n",
      "activation_12 (Activation)      (None, 15, 15, 32)   0           batch_normalization_12[0][0]     \n",
      "__________________________________________________________________________________________________\n",
      "mixed0 (Concatenate)            (None, 15, 15, 256)  0           activation_6[0][0]               \n",
      "                                                                 activation_8[0][0]               \n",
      "                                                                 activation_11[0][0]              \n",
      "                                                                 activation_12[0][0]              \n",
      "__________________________________________________________________________________________________\n",
      "conv2d_16 (Conv2D)              (None, 15, 15, 64)   16384       mixed0[0][0]                     \n",
      "__________________________________________________________________________________________________\n",
      "batch_normalization_16 (BatchNo (None, 15, 15, 64)   192         conv2d_16[0][0]                  \n",
      "__________________________________________________________________________________________________\n",
      "activation_16 (Activation)      (None, 15, 15, 64)   0           batch_normalization_16[0][0]     \n",
      "__________________________________________________________________________________________________\n",
      "conv2d_14 (Conv2D)              (None, 15, 15, 48)   12288       mixed0[0][0]                     \n",
      "__________________________________________________________________________________________________\n",
      "conv2d_17 (Conv2D)              (None, 15, 15, 96)   55296       activation_16[0][0]              \n",
      "__________________________________________________________________________________________________\n",
      "batch_normalization_14 (BatchNo (None, 15, 15, 48)   144         conv2d_14[0][0]                  \n",
      "__________________________________________________________________________________________________\n",
      "batch_normalization_17 (BatchNo (None, 15, 15, 96)   288         conv2d_17[0][0]                  \n",
      "__________________________________________________________________________________________________\n",
      "activation_14 (Activation)      (None, 15, 15, 48)   0           batch_normalization_14[0][0]     \n",
      "__________________________________________________________________________________________________\n",
      "activation_17 (Activation)      (None, 15, 15, 96)   0           batch_normalization_17[0][0]     \n",
      "__________________________________________________________________________________________________\n",
      "average_pooling2d_2 (AveragePoo (None, 15, 15, 256)  0           mixed0[0][0]                     \n",
      "__________________________________________________________________________________________________\n",
      "conv2d_13 (Conv2D)              (None, 15, 15, 64)   16384       mixed0[0][0]                     \n",
      "__________________________________________________________________________________________________\n",
      "conv2d_15 (Conv2D)              (None, 15, 15, 64)   76800       activation_14[0][0]              \n",
      "__________________________________________________________________________________________________\n",
      "conv2d_18 (Conv2D)              (None, 15, 15, 96)   82944       activation_17[0][0]              \n",
      "__________________________________________________________________________________________________\n",
      "conv2d_19 (Conv2D)              (None, 15, 15, 64)   16384       average_pooling2d_2[0][0]        \n",
      "__________________________________________________________________________________________________\n",
      "batch_normalization_13 (BatchNo (None, 15, 15, 64)   192         conv2d_13[0][0]                  \n",
      "__________________________________________________________________________________________________\n",
      "batch_normalization_15 (BatchNo (None, 15, 15, 64)   192         conv2d_15[0][0]                  \n",
      "__________________________________________________________________________________________________\n",
      "batch_normalization_18 (BatchNo (None, 15, 15, 96)   288         conv2d_18[0][0]                  \n",
      "__________________________________________________________________________________________________\n",
      "batch_normalization_19 (BatchNo (None, 15, 15, 64)   192         conv2d_19[0][0]                  \n",
      "__________________________________________________________________________________________________\n",
      "activation_13 (Activation)      (None, 15, 15, 64)   0           batch_normalization_13[0][0]     \n",
      "__________________________________________________________________________________________________\n",
      "activation_15 (Activation)      (None, 15, 15, 64)   0           batch_normalization_15[0][0]     \n",
      "__________________________________________________________________________________________________\n",
      "activation_18 (Activation)      (None, 15, 15, 96)   0           batch_normalization_18[0][0]     \n",
      "__________________________________________________________________________________________________\n",
      "activation_19 (Activation)      (None, 15, 15, 64)   0           batch_normalization_19[0][0]     \n",
      "__________________________________________________________________________________________________\n",
      "mixed1 (Concatenate)            (None, 15, 15, 288)  0           activation_13[0][0]              \n",
      "                                                                 activation_15[0][0]              \n",
      "                                                                 activation_18[0][0]              \n",
      "                                                                 activation_19[0][0]              \n",
      "__________________________________________________________________________________________________\n",
      "conv2d_23 (Conv2D)              (None, 15, 15, 64)   18432       mixed1[0][0]                     \n",
      "__________________________________________________________________________________________________\n",
      "batch_normalization_23 (BatchNo (None, 15, 15, 64)   192         conv2d_23[0][0]                  \n",
      "__________________________________________________________________________________________________\n",
      "activation_23 (Activation)      (None, 15, 15, 64)   0           batch_normalization_23[0][0]     \n",
      "__________________________________________________________________________________________________\n",
      "conv2d_21 (Conv2D)              (None, 15, 15, 48)   13824       mixed1[0][0]                     \n",
      "__________________________________________________________________________________________________\n",
      "conv2d_24 (Conv2D)              (None, 15, 15, 96)   55296       activation_23[0][0]              \n",
      "__________________________________________________________________________________________________\n",
      "batch_normalization_21 (BatchNo (None, 15, 15, 48)   144         conv2d_21[0][0]                  \n",
      "__________________________________________________________________________________________________\n",
      "batch_normalization_24 (BatchNo (None, 15, 15, 96)   288         conv2d_24[0][0]                  \n",
      "__________________________________________________________________________________________________\n",
      "activation_21 (Activation)      (None, 15, 15, 48)   0           batch_normalization_21[0][0]     \n",
      "__________________________________________________________________________________________________\n",
      "activation_24 (Activation)      (None, 15, 15, 96)   0           batch_normalization_24[0][0]     \n",
      "__________________________________________________________________________________________________\n",
      "average_pooling2d_3 (AveragePoo (None, 15, 15, 288)  0           mixed1[0][0]                     \n",
      "__________________________________________________________________________________________________\n",
      "conv2d_20 (Conv2D)              (None, 15, 15, 64)   18432       mixed1[0][0]                     \n",
      "__________________________________________________________________________________________________\n",
      "conv2d_22 (Conv2D)              (None, 15, 15, 64)   76800       activation_21[0][0]              \n",
      "__________________________________________________________________________________________________\n",
      "conv2d_25 (Conv2D)              (None, 15, 15, 96)   82944       activation_24[0][0]              \n",
      "__________________________________________________________________________________________________\n",
      "conv2d_26 (Conv2D)              (None, 15, 15, 64)   18432       average_pooling2d_3[0][0]        \n",
      "__________________________________________________________________________________________________\n",
      "batch_normalization_20 (BatchNo (None, 15, 15, 64)   192         conv2d_20[0][0]                  \n",
      "__________________________________________________________________________________________________\n",
      "batch_normalization_22 (BatchNo (None, 15, 15, 64)   192         conv2d_22[0][0]                  \n",
      "__________________________________________________________________________________________________\n",
      "batch_normalization_25 (BatchNo (None, 15, 15, 96)   288         conv2d_25[0][0]                  \n",
      "__________________________________________________________________________________________________\n",
      "batch_normalization_26 (BatchNo (None, 15, 15, 64)   192         conv2d_26[0][0]                  \n",
      "__________________________________________________________________________________________________\n",
      "activation_20 (Activation)      (None, 15, 15, 64)   0           batch_normalization_20[0][0]     \n",
      "__________________________________________________________________________________________________\n",
      "activation_22 (Activation)      (None, 15, 15, 64)   0           batch_normalization_22[0][0]     \n",
      "__________________________________________________________________________________________________\n",
      "activation_25 (Activation)      (None, 15, 15, 96)   0           batch_normalization_25[0][0]     \n",
      "__________________________________________________________________________________________________\n",
      "activation_26 (Activation)      (None, 15, 15, 64)   0           batch_normalization_26[0][0]     \n",
      "__________________________________________________________________________________________________\n",
      "mixed2 (Concatenate)            (None, 15, 15, 288)  0           activation_20[0][0]              \n",
      "                                                                 activation_22[0][0]              \n",
      "                                                                 activation_25[0][0]              \n",
      "                                                                 activation_26[0][0]              \n",
      "__________________________________________________________________________________________________\n",
      "conv2d_28 (Conv2D)              (None, 15, 15, 64)   18432       mixed2[0][0]                     \n",
      "__________________________________________________________________________________________________\n",
      "batch_normalization_28 (BatchNo (None, 15, 15, 64)   192         conv2d_28[0][0]                  \n",
      "__________________________________________________________________________________________________\n",
      "activation_28 (Activation)      (None, 15, 15, 64)   0           batch_normalization_28[0][0]     \n",
      "__________________________________________________________________________________________________\n",
      "conv2d_29 (Conv2D)              (None, 15, 15, 96)   55296       activation_28[0][0]              \n",
      "__________________________________________________________________________________________________\n",
      "batch_normalization_29 (BatchNo (None, 15, 15, 96)   288         conv2d_29[0][0]                  \n",
      "__________________________________________________________________________________________________\n",
      "activation_29 (Activation)      (None, 15, 15, 96)   0           batch_normalization_29[0][0]     \n",
      "__________________________________________________________________________________________________\n",
      "conv2d_27 (Conv2D)              (None, 7, 7, 384)    995328      mixed2[0][0]                     \n",
      "__________________________________________________________________________________________________\n",
      "conv2d_30 (Conv2D)              (None, 7, 7, 96)     82944       activation_29[0][0]              \n",
      "__________________________________________________________________________________________________\n",
      "batch_normalization_27 (BatchNo (None, 7, 7, 384)    1152        conv2d_27[0][0]                  \n",
      "__________________________________________________________________________________________________\n",
      "batch_normalization_30 (BatchNo (None, 7, 7, 96)     288         conv2d_30[0][0]                  \n",
      "__________________________________________________________________________________________________\n",
      "activation_27 (Activation)      (None, 7, 7, 384)    0           batch_normalization_27[0][0]     \n",
      "__________________________________________________________________________________________________\n",
      "activation_30 (Activation)      (None, 7, 7, 96)     0           batch_normalization_30[0][0]     \n",
      "__________________________________________________________________________________________________\n",
      "max_pooling2d_3 (MaxPooling2D)  (None, 7, 7, 288)    0           mixed2[0][0]                     \n",
      "__________________________________________________________________________________________________\n",
      "mixed3 (Concatenate)            (None, 7, 7, 768)    0           activation_27[0][0]              \n",
      "                                                                 activation_30[0][0]              \n",
      "                                                                 max_pooling2d_3[0][0]            \n",
      "__________________________________________________________________________________________________\n",
      "conv2d_35 (Conv2D)              (None, 7, 7, 128)    98304       mixed3[0][0]                     \n",
      "__________________________________________________________________________________________________\n",
      "batch_normalization_35 (BatchNo (None, 7, 7, 128)    384         conv2d_35[0][0]                  \n",
      "__________________________________________________________________________________________________\n",
      "activation_35 (Activation)      (None, 7, 7, 128)    0           batch_normalization_35[0][0]     \n",
      "__________________________________________________________________________________________________\n",
      "conv2d_36 (Conv2D)              (None, 7, 7, 128)    114688      activation_35[0][0]              \n",
      "__________________________________________________________________________________________________\n",
      "batch_normalization_36 (BatchNo (None, 7, 7, 128)    384         conv2d_36[0][0]                  \n",
      "__________________________________________________________________________________________________\n",
      "activation_36 (Activation)      (None, 7, 7, 128)    0           batch_normalization_36[0][0]     \n",
      "__________________________________________________________________________________________________\n",
      "conv2d_32 (Conv2D)              (None, 7, 7, 128)    98304       mixed3[0][0]                     \n",
      "__________________________________________________________________________________________________\n",
      "conv2d_37 (Conv2D)              (None, 7, 7, 128)    114688      activation_36[0][0]              \n",
      "__________________________________________________________________________________________________\n",
      "batch_normalization_32 (BatchNo (None, 7, 7, 128)    384         conv2d_32[0][0]                  \n",
      "__________________________________________________________________________________________________\n",
      "batch_normalization_37 (BatchNo (None, 7, 7, 128)    384         conv2d_37[0][0]                  \n",
      "__________________________________________________________________________________________________\n",
      "activation_32 (Activation)      (None, 7, 7, 128)    0           batch_normalization_32[0][0]     \n",
      "__________________________________________________________________________________________________\n",
      "activation_37 (Activation)      (None, 7, 7, 128)    0           batch_normalization_37[0][0]     \n",
      "__________________________________________________________________________________________________\n",
      "conv2d_33 (Conv2D)              (None, 7, 7, 128)    114688      activation_32[0][0]              \n",
      "__________________________________________________________________________________________________\n",
      "conv2d_38 (Conv2D)              (None, 7, 7, 128)    114688      activation_37[0][0]              \n",
      "__________________________________________________________________________________________________\n",
      "batch_normalization_33 (BatchNo (None, 7, 7, 128)    384         conv2d_33[0][0]                  \n",
      "__________________________________________________________________________________________________\n",
      "batch_normalization_38 (BatchNo (None, 7, 7, 128)    384         conv2d_38[0][0]                  \n",
      "__________________________________________________________________________________________________\n",
      "activation_33 (Activation)      (None, 7, 7, 128)    0           batch_normalization_33[0][0]     \n",
      "__________________________________________________________________________________________________\n",
      "activation_38 (Activation)      (None, 7, 7, 128)    0           batch_normalization_38[0][0]     \n",
      "__________________________________________________________________________________________________\n",
      "average_pooling2d_4 (AveragePoo (None, 7, 7, 768)    0           mixed3[0][0]                     \n",
      "__________________________________________________________________________________________________\n",
      "conv2d_31 (Conv2D)              (None, 7, 7, 192)    147456      mixed3[0][0]                     \n",
      "__________________________________________________________________________________________________\n",
      "conv2d_34 (Conv2D)              (None, 7, 7, 192)    172032      activation_33[0][0]              \n",
      "__________________________________________________________________________________________________\n",
      "conv2d_39 (Conv2D)              (None, 7, 7, 192)    172032      activation_38[0][0]              \n",
      "__________________________________________________________________________________________________\n",
      "conv2d_40 (Conv2D)              (None, 7, 7, 192)    147456      average_pooling2d_4[0][0]        \n",
      "__________________________________________________________________________________________________\n",
      "batch_normalization_31 (BatchNo (None, 7, 7, 192)    576         conv2d_31[0][0]                  \n",
      "__________________________________________________________________________________________________\n",
      "batch_normalization_34 (BatchNo (None, 7, 7, 192)    576         conv2d_34[0][0]                  \n",
      "__________________________________________________________________________________________________\n",
      "batch_normalization_39 (BatchNo (None, 7, 7, 192)    576         conv2d_39[0][0]                  \n",
      "__________________________________________________________________________________________________\n",
      "batch_normalization_40 (BatchNo (None, 7, 7, 192)    576         conv2d_40[0][0]                  \n",
      "__________________________________________________________________________________________________\n",
      "activation_31 (Activation)      (None, 7, 7, 192)    0           batch_normalization_31[0][0]     \n",
      "__________________________________________________________________________________________________\n",
      "activation_34 (Activation)      (None, 7, 7, 192)    0           batch_normalization_34[0][0]     \n",
      "__________________________________________________________________________________________________\n",
      "activation_39 (Activation)      (None, 7, 7, 192)    0           batch_normalization_39[0][0]     \n",
      "__________________________________________________________________________________________________\n",
      "activation_40 (Activation)      (None, 7, 7, 192)    0           batch_normalization_40[0][0]     \n",
      "__________________________________________________________________________________________________\n",
      "mixed4 (Concatenate)            (None, 7, 7, 768)    0           activation_31[0][0]              \n",
      "                                                                 activation_34[0][0]              \n",
      "                                                                 activation_39[0][0]              \n",
      "                                                                 activation_40[0][0]              \n",
      "__________________________________________________________________________________________________\n",
      "conv2d_45 (Conv2D)              (None, 7, 7, 160)    122880      mixed4[0][0]                     \n",
      "__________________________________________________________________________________________________\n",
      "batch_normalization_45 (BatchNo (None, 7, 7, 160)    480         conv2d_45[0][0]                  \n",
      "__________________________________________________________________________________________________\n",
      "activation_45 (Activation)      (None, 7, 7, 160)    0           batch_normalization_45[0][0]     \n",
      "__________________________________________________________________________________________________\n",
      "conv2d_46 (Conv2D)              (None, 7, 7, 160)    179200      activation_45[0][0]              \n",
      "__________________________________________________________________________________________________\n",
      "batch_normalization_46 (BatchNo (None, 7, 7, 160)    480         conv2d_46[0][0]                  \n",
      "__________________________________________________________________________________________________\n",
      "activation_46 (Activation)      (None, 7, 7, 160)    0           batch_normalization_46[0][0]     \n",
      "__________________________________________________________________________________________________\n",
      "conv2d_42 (Conv2D)              (None, 7, 7, 160)    122880      mixed4[0][0]                     \n",
      "__________________________________________________________________________________________________\n",
      "conv2d_47 (Conv2D)              (None, 7, 7, 160)    179200      activation_46[0][0]              \n",
      "__________________________________________________________________________________________________\n",
      "batch_normalization_42 (BatchNo (None, 7, 7, 160)    480         conv2d_42[0][0]                  \n",
      "__________________________________________________________________________________________________\n",
      "batch_normalization_47 (BatchNo (None, 7, 7, 160)    480         conv2d_47[0][0]                  \n",
      "__________________________________________________________________________________________________\n",
      "activation_42 (Activation)      (None, 7, 7, 160)    0           batch_normalization_42[0][0]     \n",
      "__________________________________________________________________________________________________\n",
      "activation_47 (Activation)      (None, 7, 7, 160)    0           batch_normalization_47[0][0]     \n",
      "__________________________________________________________________________________________________\n",
      "conv2d_43 (Conv2D)              (None, 7, 7, 160)    179200      activation_42[0][0]              \n",
      "__________________________________________________________________________________________________\n",
      "conv2d_48 (Conv2D)              (None, 7, 7, 160)    179200      activation_47[0][0]              \n",
      "__________________________________________________________________________________________________\n",
      "batch_normalization_43 (BatchNo (None, 7, 7, 160)    480         conv2d_43[0][0]                  \n",
      "__________________________________________________________________________________________________\n",
      "batch_normalization_48 (BatchNo (None, 7, 7, 160)    480         conv2d_48[0][0]                  \n",
      "__________________________________________________________________________________________________\n",
      "activation_43 (Activation)      (None, 7, 7, 160)    0           batch_normalization_43[0][0]     \n",
      "__________________________________________________________________________________________________\n",
      "activation_48 (Activation)      (None, 7, 7, 160)    0           batch_normalization_48[0][0]     \n",
      "__________________________________________________________________________________________________\n",
      "average_pooling2d_5 (AveragePoo (None, 7, 7, 768)    0           mixed4[0][0]                     \n",
      "__________________________________________________________________________________________________\n",
      "conv2d_41 (Conv2D)              (None, 7, 7, 192)    147456      mixed4[0][0]                     \n",
      "__________________________________________________________________________________________________\n",
      "conv2d_44 (Conv2D)              (None, 7, 7, 192)    215040      activation_43[0][0]              \n",
      "__________________________________________________________________________________________________\n",
      "conv2d_49 (Conv2D)              (None, 7, 7, 192)    215040      activation_48[0][0]              \n",
      "__________________________________________________________________________________________________\n",
      "conv2d_50 (Conv2D)              (None, 7, 7, 192)    147456      average_pooling2d_5[0][0]        \n",
      "__________________________________________________________________________________________________\n",
      "batch_normalization_41 (BatchNo (None, 7, 7, 192)    576         conv2d_41[0][0]                  \n",
      "__________________________________________________________________________________________________\n",
      "batch_normalization_44 (BatchNo (None, 7, 7, 192)    576         conv2d_44[0][0]                  \n",
      "__________________________________________________________________________________________________\n",
      "batch_normalization_49 (BatchNo (None, 7, 7, 192)    576         conv2d_49[0][0]                  \n",
      "__________________________________________________________________________________________________\n",
      "batch_normalization_50 (BatchNo (None, 7, 7, 192)    576         conv2d_50[0][0]                  \n",
      "__________________________________________________________________________________________________\n",
      "activation_41 (Activation)      (None, 7, 7, 192)    0           batch_normalization_41[0][0]     \n",
      "__________________________________________________________________________________________________\n",
      "activation_44 (Activation)      (None, 7, 7, 192)    0           batch_normalization_44[0][0]     \n",
      "__________________________________________________________________________________________________\n",
      "activation_49 (Activation)      (None, 7, 7, 192)    0           batch_normalization_49[0][0]     \n",
      "__________________________________________________________________________________________________\n",
      "activation_50 (Activation)      (None, 7, 7, 192)    0           batch_normalization_50[0][0]     \n",
      "__________________________________________________________________________________________________\n",
      "mixed5 (Concatenate)            (None, 7, 7, 768)    0           activation_41[0][0]              \n",
      "                                                                 activation_44[0][0]              \n",
      "                                                                 activation_49[0][0]              \n",
      "                                                                 activation_50[0][0]              \n",
      "__________________________________________________________________________________________________\n",
      "conv2d_55 (Conv2D)              (None, 7, 7, 160)    122880      mixed5[0][0]                     \n",
      "__________________________________________________________________________________________________\n",
      "batch_normalization_55 (BatchNo (None, 7, 7, 160)    480         conv2d_55[0][0]                  \n",
      "__________________________________________________________________________________________________\n",
      "activation_55 (Activation)      (None, 7, 7, 160)    0           batch_normalization_55[0][0]     \n",
      "__________________________________________________________________________________________________\n",
      "conv2d_56 (Conv2D)              (None, 7, 7, 160)    179200      activation_55[0][0]              \n",
      "__________________________________________________________________________________________________\n",
      "batch_normalization_56 (BatchNo (None, 7, 7, 160)    480         conv2d_56[0][0]                  \n",
      "__________________________________________________________________________________________________\n",
      "activation_56 (Activation)      (None, 7, 7, 160)    0           batch_normalization_56[0][0]     \n",
      "__________________________________________________________________________________________________\n",
      "conv2d_52 (Conv2D)              (None, 7, 7, 160)    122880      mixed5[0][0]                     \n",
      "__________________________________________________________________________________________________\n",
      "conv2d_57 (Conv2D)              (None, 7, 7, 160)    179200      activation_56[0][0]              \n",
      "__________________________________________________________________________________________________\n",
      "batch_normalization_52 (BatchNo (None, 7, 7, 160)    480         conv2d_52[0][0]                  \n",
      "__________________________________________________________________________________________________\n",
      "batch_normalization_57 (BatchNo (None, 7, 7, 160)    480         conv2d_57[0][0]                  \n",
      "__________________________________________________________________________________________________\n",
      "activation_52 (Activation)      (None, 7, 7, 160)    0           batch_normalization_52[0][0]     \n",
      "__________________________________________________________________________________________________\n",
      "activation_57 (Activation)      (None, 7, 7, 160)    0           batch_normalization_57[0][0]     \n",
      "__________________________________________________________________________________________________\n",
      "conv2d_53 (Conv2D)              (None, 7, 7, 160)    179200      activation_52[0][0]              \n",
      "__________________________________________________________________________________________________\n",
      "conv2d_58 (Conv2D)              (None, 7, 7, 160)    179200      activation_57[0][0]              \n",
      "__________________________________________________________________________________________________\n",
      "batch_normalization_53 (BatchNo (None, 7, 7, 160)    480         conv2d_53[0][0]                  \n",
      "__________________________________________________________________________________________________\n",
      "batch_normalization_58 (BatchNo (None, 7, 7, 160)    480         conv2d_58[0][0]                  \n",
      "__________________________________________________________________________________________________\n",
      "activation_53 (Activation)      (None, 7, 7, 160)    0           batch_normalization_53[0][0]     \n",
      "__________________________________________________________________________________________________\n",
      "activation_58 (Activation)      (None, 7, 7, 160)    0           batch_normalization_58[0][0]     \n",
      "__________________________________________________________________________________________________\n",
      "average_pooling2d_6 (AveragePoo (None, 7, 7, 768)    0           mixed5[0][0]                     \n",
      "__________________________________________________________________________________________________\n",
      "conv2d_51 (Conv2D)              (None, 7, 7, 192)    147456      mixed5[0][0]                     \n",
      "__________________________________________________________________________________________________\n",
      "conv2d_54 (Conv2D)              (None, 7, 7, 192)    215040      activation_53[0][0]              \n",
      "__________________________________________________________________________________________________\n",
      "conv2d_59 (Conv2D)              (None, 7, 7, 192)    215040      activation_58[0][0]              \n",
      "__________________________________________________________________________________________________\n",
      "conv2d_60 (Conv2D)              (None, 7, 7, 192)    147456      average_pooling2d_6[0][0]        \n",
      "__________________________________________________________________________________________________\n",
      "batch_normalization_51 (BatchNo (None, 7, 7, 192)    576         conv2d_51[0][0]                  \n",
      "__________________________________________________________________________________________________\n",
      "batch_normalization_54 (BatchNo (None, 7, 7, 192)    576         conv2d_54[0][0]                  \n",
      "__________________________________________________________________________________________________\n",
      "batch_normalization_59 (BatchNo (None, 7, 7, 192)    576         conv2d_59[0][0]                  \n",
      "__________________________________________________________________________________________________\n",
      "batch_normalization_60 (BatchNo (None, 7, 7, 192)    576         conv2d_60[0][0]                  \n",
      "__________________________________________________________________________________________________\n",
      "activation_51 (Activation)      (None, 7, 7, 192)    0           batch_normalization_51[0][0]     \n",
      "__________________________________________________________________________________________________\n",
      "activation_54 (Activation)      (None, 7, 7, 192)    0           batch_normalization_54[0][0]     \n",
      "__________________________________________________________________________________________________\n",
      "activation_59 (Activation)      (None, 7, 7, 192)    0           batch_normalization_59[0][0]     \n",
      "__________________________________________________________________________________________________\n",
      "activation_60 (Activation)      (None, 7, 7, 192)    0           batch_normalization_60[0][0]     \n",
      "__________________________________________________________________________________________________\n",
      "mixed6 (Concatenate)            (None, 7, 7, 768)    0           activation_51[0][0]              \n",
      "                                                                 activation_54[0][0]              \n",
      "                                                                 activation_59[0][0]              \n",
      "                                                                 activation_60[0][0]              \n",
      "__________________________________________________________________________________________________\n",
      "conv2d_65 (Conv2D)              (None, 7, 7, 192)    147456      mixed6[0][0]                     \n",
      "__________________________________________________________________________________________________\n",
      "batch_normalization_65 (BatchNo (None, 7, 7, 192)    576         conv2d_65[0][0]                  \n",
      "__________________________________________________________________________________________________\n",
      "activation_65 (Activation)      (None, 7, 7, 192)    0           batch_normalization_65[0][0]     \n",
      "__________________________________________________________________________________________________\n",
      "conv2d_66 (Conv2D)              (None, 7, 7, 192)    258048      activation_65[0][0]              \n",
      "__________________________________________________________________________________________________\n",
      "batch_normalization_66 (BatchNo (None, 7, 7, 192)    576         conv2d_66[0][0]                  \n",
      "__________________________________________________________________________________________________\n",
      "activation_66 (Activation)      (None, 7, 7, 192)    0           batch_normalization_66[0][0]     \n",
      "__________________________________________________________________________________________________\n",
      "conv2d_62 (Conv2D)              (None, 7, 7, 192)    147456      mixed6[0][0]                     \n",
      "__________________________________________________________________________________________________\n",
      "conv2d_67 (Conv2D)              (None, 7, 7, 192)    258048      activation_66[0][0]              \n",
      "__________________________________________________________________________________________________\n",
      "batch_normalization_62 (BatchNo (None, 7, 7, 192)    576         conv2d_62[0][0]                  \n",
      "__________________________________________________________________________________________________\n",
      "batch_normalization_67 (BatchNo (None, 7, 7, 192)    576         conv2d_67[0][0]                  \n",
      "__________________________________________________________________________________________________\n",
      "activation_62 (Activation)      (None, 7, 7, 192)    0           batch_normalization_62[0][0]     \n",
      "__________________________________________________________________________________________________\n",
      "activation_67 (Activation)      (None, 7, 7, 192)    0           batch_normalization_67[0][0]     \n",
      "__________________________________________________________________________________________________\n",
      "conv2d_63 (Conv2D)              (None, 7, 7, 192)    258048      activation_62[0][0]              \n",
      "__________________________________________________________________________________________________\n",
      "conv2d_68 (Conv2D)              (None, 7, 7, 192)    258048      activation_67[0][0]              \n",
      "__________________________________________________________________________________________________\n",
      "batch_normalization_63 (BatchNo (None, 7, 7, 192)    576         conv2d_63[0][0]                  \n",
      "__________________________________________________________________________________________________\n",
      "batch_normalization_68 (BatchNo (None, 7, 7, 192)    576         conv2d_68[0][0]                  \n",
      "__________________________________________________________________________________________________\n",
      "activation_63 (Activation)      (None, 7, 7, 192)    0           batch_normalization_63[0][0]     \n",
      "__________________________________________________________________________________________________\n",
      "activation_68 (Activation)      (None, 7, 7, 192)    0           batch_normalization_68[0][0]     \n",
      "__________________________________________________________________________________________________\n",
      "average_pooling2d_7 (AveragePoo (None, 7, 7, 768)    0           mixed6[0][0]                     \n",
      "__________________________________________________________________________________________________\n",
      "conv2d_61 (Conv2D)              (None, 7, 7, 192)    147456      mixed6[0][0]                     \n",
      "__________________________________________________________________________________________________\n",
      "conv2d_64 (Conv2D)              (None, 7, 7, 192)    258048      activation_63[0][0]              \n",
      "__________________________________________________________________________________________________\n",
      "conv2d_69 (Conv2D)              (None, 7, 7, 192)    258048      activation_68[0][0]              \n",
      "__________________________________________________________________________________________________\n",
      "conv2d_70 (Conv2D)              (None, 7, 7, 192)    147456      average_pooling2d_7[0][0]        \n",
      "__________________________________________________________________________________________________\n",
      "batch_normalization_61 (BatchNo (None, 7, 7, 192)    576         conv2d_61[0][0]                  \n",
      "__________________________________________________________________________________________________\n",
      "batch_normalization_64 (BatchNo (None, 7, 7, 192)    576         conv2d_64[0][0]                  \n",
      "__________________________________________________________________________________________________\n",
      "batch_normalization_69 (BatchNo (None, 7, 7, 192)    576         conv2d_69[0][0]                  \n",
      "__________________________________________________________________________________________________\n",
      "batch_normalization_70 (BatchNo (None, 7, 7, 192)    576         conv2d_70[0][0]                  \n",
      "__________________________________________________________________________________________________\n",
      "activation_61 (Activation)      (None, 7, 7, 192)    0           batch_normalization_61[0][0]     \n",
      "__________________________________________________________________________________________________\n",
      "activation_64 (Activation)      (None, 7, 7, 192)    0           batch_normalization_64[0][0]     \n",
      "__________________________________________________________________________________________________\n",
      "activation_69 (Activation)      (None, 7, 7, 192)    0           batch_normalization_69[0][0]     \n",
      "__________________________________________________________________________________________________\n",
      "activation_70 (Activation)      (None, 7, 7, 192)    0           batch_normalization_70[0][0]     \n",
      "__________________________________________________________________________________________________\n",
      "mixed7 (Concatenate)            (None, 7, 7, 768)    0           activation_61[0][0]              \n",
      "                                                                 activation_64[0][0]              \n",
      "                                                                 activation_69[0][0]              \n",
      "                                                                 activation_70[0][0]              \n",
      "__________________________________________________________________________________________________\n",
      "conv2d_73 (Conv2D)              (None, 7, 7, 192)    147456      mixed7[0][0]                     \n",
      "__________________________________________________________________________________________________\n",
      "batch_normalization_73 (BatchNo (None, 7, 7, 192)    576         conv2d_73[0][0]                  \n",
      "__________________________________________________________________________________________________\n",
      "activation_73 (Activation)      (None, 7, 7, 192)    0           batch_normalization_73[0][0]     \n",
      "__________________________________________________________________________________________________\n",
      "conv2d_74 (Conv2D)              (None, 7, 7, 192)    258048      activation_73[0][0]              \n",
      "__________________________________________________________________________________________________\n",
      "batch_normalization_74 (BatchNo (None, 7, 7, 192)    576         conv2d_74[0][0]                  \n",
      "__________________________________________________________________________________________________\n",
      "activation_74 (Activation)      (None, 7, 7, 192)    0           batch_normalization_74[0][0]     \n",
      "__________________________________________________________________________________________________\n",
      "conv2d_71 (Conv2D)              (None, 7, 7, 192)    147456      mixed7[0][0]                     \n",
      "__________________________________________________________________________________________________\n",
      "conv2d_75 (Conv2D)              (None, 7, 7, 192)    258048      activation_74[0][0]              \n",
      "__________________________________________________________________________________________________\n",
      "batch_normalization_71 (BatchNo (None, 7, 7, 192)    576         conv2d_71[0][0]                  \n",
      "__________________________________________________________________________________________________\n",
      "batch_normalization_75 (BatchNo (None, 7, 7, 192)    576         conv2d_75[0][0]                  \n",
      "__________________________________________________________________________________________________\n",
      "activation_71 (Activation)      (None, 7, 7, 192)    0           batch_normalization_71[0][0]     \n",
      "__________________________________________________________________________________________________\n",
      "activation_75 (Activation)      (None, 7, 7, 192)    0           batch_normalization_75[0][0]     \n",
      "__________________________________________________________________________________________________\n",
      "conv2d_72 (Conv2D)              (None, 3, 3, 320)    552960      activation_71[0][0]              \n",
      "__________________________________________________________________________________________________\n",
      "conv2d_76 (Conv2D)              (None, 3, 3, 192)    331776      activation_75[0][0]              \n",
      "__________________________________________________________________________________________________\n",
      "batch_normalization_72 (BatchNo (None, 3, 3, 320)    960         conv2d_72[0][0]                  \n",
      "__________________________________________________________________________________________________\n",
      "batch_normalization_76 (BatchNo (None, 3, 3, 192)    576         conv2d_76[0][0]                  \n",
      "__________________________________________________________________________________________________\n",
      "activation_72 (Activation)      (None, 3, 3, 320)    0           batch_normalization_72[0][0]     \n",
      "__________________________________________________________________________________________________\n",
      "activation_76 (Activation)      (None, 3, 3, 192)    0           batch_normalization_76[0][0]     \n",
      "__________________________________________________________________________________________________\n",
      "max_pooling2d_4 (MaxPooling2D)  (None, 3, 3, 768)    0           mixed7[0][0]                     \n",
      "__________________________________________________________________________________________________\n",
      "mixed8 (Concatenate)            (None, 3, 3, 1280)   0           activation_72[0][0]              \n",
      "                                                                 activation_76[0][0]              \n",
      "                                                                 max_pooling2d_4[0][0]            \n",
      "__________________________________________________________________________________________________\n",
      "conv2d_81 (Conv2D)              (None, 3, 3, 448)    573440      mixed8[0][0]                     \n",
      "__________________________________________________________________________________________________\n",
      "batch_normalization_81 (BatchNo (None, 3, 3, 448)    1344        conv2d_81[0][0]                  \n",
      "__________________________________________________________________________________________________\n",
      "activation_81 (Activation)      (None, 3, 3, 448)    0           batch_normalization_81[0][0]     \n",
      "__________________________________________________________________________________________________\n",
      "conv2d_78 (Conv2D)              (None, 3, 3, 384)    491520      mixed8[0][0]                     \n",
      "__________________________________________________________________________________________________\n",
      "conv2d_82 (Conv2D)              (None, 3, 3, 384)    1548288     activation_81[0][0]              \n",
      "__________________________________________________________________________________________________\n",
      "batch_normalization_78 (BatchNo (None, 3, 3, 384)    1152        conv2d_78[0][0]                  \n",
      "__________________________________________________________________________________________________\n",
      "batch_normalization_82 (BatchNo (None, 3, 3, 384)    1152        conv2d_82[0][0]                  \n",
      "__________________________________________________________________________________________________\n",
      "activation_78 (Activation)      (None, 3, 3, 384)    0           batch_normalization_78[0][0]     \n",
      "__________________________________________________________________________________________________\n",
      "activation_82 (Activation)      (None, 3, 3, 384)    0           batch_normalization_82[0][0]     \n",
      "__________________________________________________________________________________________________\n",
      "conv2d_79 (Conv2D)              (None, 3, 3, 384)    442368      activation_78[0][0]              \n",
      "__________________________________________________________________________________________________\n",
      "conv2d_80 (Conv2D)              (None, 3, 3, 384)    442368      activation_78[0][0]              \n",
      "__________________________________________________________________________________________________\n",
      "conv2d_83 (Conv2D)              (None, 3, 3, 384)    442368      activation_82[0][0]              \n",
      "__________________________________________________________________________________________________\n",
      "conv2d_84 (Conv2D)              (None, 3, 3, 384)    442368      activation_82[0][0]              \n",
      "__________________________________________________________________________________________________\n",
      "average_pooling2d_8 (AveragePoo (None, 3, 3, 1280)   0           mixed8[0][0]                     \n",
      "__________________________________________________________________________________________________\n",
      "conv2d_77 (Conv2D)              (None, 3, 3, 320)    409600      mixed8[0][0]                     \n",
      "__________________________________________________________________________________________________\n",
      "batch_normalization_79 (BatchNo (None, 3, 3, 384)    1152        conv2d_79[0][0]                  \n",
      "__________________________________________________________________________________________________\n",
      "batch_normalization_80 (BatchNo (None, 3, 3, 384)    1152        conv2d_80[0][0]                  \n",
      "__________________________________________________________________________________________________\n",
      "batch_normalization_83 (BatchNo (None, 3, 3, 384)    1152        conv2d_83[0][0]                  \n",
      "__________________________________________________________________________________________________\n",
      "batch_normalization_84 (BatchNo (None, 3, 3, 384)    1152        conv2d_84[0][0]                  \n",
      "__________________________________________________________________________________________________\n",
      "conv2d_85 (Conv2D)              (None, 3, 3, 192)    245760      average_pooling2d_8[0][0]        \n",
      "__________________________________________________________________________________________________\n",
      "batch_normalization_77 (BatchNo (None, 3, 3, 320)    960         conv2d_77[0][0]                  \n",
      "__________________________________________________________________________________________________\n",
      "activation_79 (Activation)      (None, 3, 3, 384)    0           batch_normalization_79[0][0]     \n",
      "__________________________________________________________________________________________________\n",
      "activation_80 (Activation)      (None, 3, 3, 384)    0           batch_normalization_80[0][0]     \n",
      "__________________________________________________________________________________________________\n",
      "activation_83 (Activation)      (None, 3, 3, 384)    0           batch_normalization_83[0][0]     \n",
      "__________________________________________________________________________________________________\n",
      "activation_84 (Activation)      (None, 3, 3, 384)    0           batch_normalization_84[0][0]     \n",
      "__________________________________________________________________________________________________\n",
      "batch_normalization_85 (BatchNo (None, 3, 3, 192)    576         conv2d_85[0][0]                  \n",
      "__________________________________________________________________________________________________\n",
      "activation_77 (Activation)      (None, 3, 3, 320)    0           batch_normalization_77[0][0]     \n",
      "__________________________________________________________________________________________________\n",
      "mixed9_0 (Concatenate)          (None, 3, 3, 768)    0           activation_79[0][0]              \n",
      "                                                                 activation_80[0][0]              \n",
      "__________________________________________________________________________________________________\n",
      "concatenate_1 (Concatenate)     (None, 3, 3, 768)    0           activation_83[0][0]              \n",
      "                                                                 activation_84[0][0]              \n",
      "__________________________________________________________________________________________________\n",
      "activation_85 (Activation)      (None, 3, 3, 192)    0           batch_normalization_85[0][0]     \n",
      "__________________________________________________________________________________________________\n",
      "mixed9 (Concatenate)            (None, 3, 3, 2048)   0           activation_77[0][0]              \n",
      "                                                                 mixed9_0[0][0]                   \n",
      "                                                                 concatenate_1[0][0]              \n",
      "                                                                 activation_85[0][0]              \n",
      "__________________________________________________________________________________________________\n",
      "conv2d_90 (Conv2D)              (None, 3, 3, 448)    917504      mixed9[0][0]                     \n",
      "__________________________________________________________________________________________________\n",
      "batch_normalization_90 (BatchNo (None, 3, 3, 448)    1344        conv2d_90[0][0]                  \n",
      "__________________________________________________________________________________________________\n",
      "activation_90 (Activation)      (None, 3, 3, 448)    0           batch_normalization_90[0][0]     \n",
      "__________________________________________________________________________________________________\n",
      "conv2d_87 (Conv2D)              (None, 3, 3, 384)    786432      mixed9[0][0]                     \n",
      "__________________________________________________________________________________________________\n",
      "conv2d_91 (Conv2D)              (None, 3, 3, 384)    1548288     activation_90[0][0]              \n",
      "__________________________________________________________________________________________________\n",
      "batch_normalization_87 (BatchNo (None, 3, 3, 384)    1152        conv2d_87[0][0]                  \n",
      "__________________________________________________________________________________________________\n",
      "batch_normalization_91 (BatchNo (None, 3, 3, 384)    1152        conv2d_91[0][0]                  \n",
      "__________________________________________________________________________________________________\n",
      "activation_87 (Activation)      (None, 3, 3, 384)    0           batch_normalization_87[0][0]     \n",
      "__________________________________________________________________________________________________\n",
      "activation_91 (Activation)      (None, 3, 3, 384)    0           batch_normalization_91[0][0]     \n",
      "__________________________________________________________________________________________________\n",
      "conv2d_88 (Conv2D)              (None, 3, 3, 384)    442368      activation_87[0][0]              \n",
      "__________________________________________________________________________________________________\n",
      "conv2d_89 (Conv2D)              (None, 3, 3, 384)    442368      activation_87[0][0]              \n",
      "__________________________________________________________________________________________________\n",
      "conv2d_92 (Conv2D)              (None, 3, 3, 384)    442368      activation_91[0][0]              \n",
      "__________________________________________________________________________________________________\n",
      "conv2d_93 (Conv2D)              (None, 3, 3, 384)    442368      activation_91[0][0]              \n",
      "__________________________________________________________________________________________________\n",
      "average_pooling2d_9 (AveragePoo (None, 3, 3, 2048)   0           mixed9[0][0]                     \n",
      "__________________________________________________________________________________________________\n",
      "conv2d_86 (Conv2D)              (None, 3, 3, 320)    655360      mixed9[0][0]                     \n",
      "__________________________________________________________________________________________________\n",
      "batch_normalization_88 (BatchNo (None, 3, 3, 384)    1152        conv2d_88[0][0]                  \n",
      "__________________________________________________________________________________________________\n",
      "batch_normalization_89 (BatchNo (None, 3, 3, 384)    1152        conv2d_89[0][0]                  \n",
      "__________________________________________________________________________________________________\n",
      "batch_normalization_92 (BatchNo (None, 3, 3, 384)    1152        conv2d_92[0][0]                  \n",
      "__________________________________________________________________________________________________\n",
      "batch_normalization_93 (BatchNo (None, 3, 3, 384)    1152        conv2d_93[0][0]                  \n",
      "__________________________________________________________________________________________________\n",
      "conv2d_94 (Conv2D)              (None, 3, 3, 192)    393216      average_pooling2d_9[0][0]        \n",
      "__________________________________________________________________________________________________\n",
      "batch_normalization_86 (BatchNo (None, 3, 3, 320)    960         conv2d_86[0][0]                  \n",
      "__________________________________________________________________________________________________\n",
      "activation_88 (Activation)      (None, 3, 3, 384)    0           batch_normalization_88[0][0]     \n",
      "__________________________________________________________________________________________________\n",
      "activation_89 (Activation)      (None, 3, 3, 384)    0           batch_normalization_89[0][0]     \n",
      "__________________________________________________________________________________________________\n",
      "activation_92 (Activation)      (None, 3, 3, 384)    0           batch_normalization_92[0][0]     \n",
      "__________________________________________________________________________________________________\n",
      "activation_93 (Activation)      (None, 3, 3, 384)    0           batch_normalization_93[0][0]     \n",
      "__________________________________________________________________________________________________\n",
      "batch_normalization_94 (BatchNo (None, 3, 3, 192)    576         conv2d_94[0][0]                  \n",
      "__________________________________________________________________________________________________\n",
      "activation_86 (Activation)      (None, 3, 3, 320)    0           batch_normalization_86[0][0]     \n",
      "__________________________________________________________________________________________________\n",
      "mixed9_1 (Concatenate)          (None, 3, 3, 768)    0           activation_88[0][0]              \n",
      "                                                                 activation_89[0][0]              \n",
      "__________________________________________________________________________________________________\n",
      "concatenate_2 (Concatenate)     (None, 3, 3, 768)    0           activation_92[0][0]              \n",
      "                                                                 activation_93[0][0]              \n",
      "__________________________________________________________________________________________________\n",
      "activation_94 (Activation)      (None, 3, 3, 192)    0           batch_normalization_94[0][0]     \n",
      "__________________________________________________________________________________________________\n",
      "mixed10 (Concatenate)           (None, 3, 3, 2048)   0           activation_86[0][0]              \n",
      "                                                                 mixed9_1[0][0]                   \n",
      "                                                                 concatenate_2[0][0]              \n",
      "                                                                 activation_94[0][0]              \n",
      "==================================================================================================\n",
      "Total params: 21,802,784\n",
      "Trainable params: 21,768,352\n",
      "Non-trainable params: 34,432\n",
      "__________________________________________________________________________________________________\n"
     ]
    }
   ],
   "source": [
    "model.summary()"
   ]
  },
  {
   "cell_type": "code",
   "execution_count": 0,
   "metadata": {
    "colab": {
     "autoexec": {
      "startup": false,
      "wait_interval": 0
     }
    },
    "colab_type": "code",
    "collapsed": true,
    "id": "ekCTVY0UuAnu"
   },
   "outputs": [],
   "source": [
    "Link to Model description : https://github.com/tensorflow/models/tree/master/research/inception "
   ]
  },
  {
   "cell_type": "code",
   "execution_count": 5,
   "metadata": {
    "colab": {
     "autoexec": {
      "startup": false,
      "wait_interval": 0
     },
     "base_uri": "https://localhost:8080/",
     "height": 105,
     "output_extras": [
      {
       "item_id": 1
      }
     ]
    },
    "colab_type": "code",
    "executionInfo": {
     "elapsed": 7499,
     "status": "ok",
     "timestamp": 1522465937025,
     "user": {
      "displayName": "Yashovardhan Chaturvedi",
      "photoUrl": "https://lh3.googleusercontent.com/a/default-user=s128",
      "userId": "108378940342117174921"
     },
     "user_tz": 240
    },
    "id": "d3ip0AYHmzkK",
    "outputId": "f707905b-d06f-40d8-bd3f-72cfdfef7a1e"
   },
   "outputs": [
    {
     "name": "stderr",
     "output_type": "stream",
     "text": [
      "/usr/local/lib/python3.6/dist-packages/scipy/misc/pilutil.py:482: FutureWarning: Conversion of the second argument of issubdtype from `int` to `np.signedinteger` is deprecated. In future, it will be treated as `np.int64 == np.dtype(int).type`.\n",
      "  if issubdtype(ts, int):\n",
      "/usr/local/lib/python3.6/dist-packages/scipy/misc/pilutil.py:485: FutureWarning: Conversion of the second argument of issubdtype from `float` to `np.floating` is deprecated. In future, it will be treated as `np.float64 == np.dtype(float).type`.\n",
      "  elif issubdtype(type(size), float):\n"
     ]
    }
   ],
   "source": [
    "'''\n",
    "As you can see above inception V3 is a large model that has been trained on ImageNet data set it would not be possible to \n",
    "retrain the model on above training Examples as the number of training examples are too few. \n",
    "Also Google colab would crash due to memory requirements of training V3 model. \n",
    "'''\n",
    "#Since we cannot change the weights of the pretrained Inception V3 model \n",
    "#we have transform are data to match the shape that is expected by the input layer.\n",
    "import scipy\n",
    "from scipy import misc\n",
    "transformed_X_train = np.array([scipy.misc.imresize(X_train_small[i], (139, 139, 3)) \n",
    "                       for i in range(0, len(X_train_small))]).astype('float32')"
   ]
  },
  {
   "cell_type": "code",
   "execution_count": 0,
   "metadata": {
    "colab": {
     "autoexec": {
      "startup": false,
      "wait_interval": 0
     },
     "base_uri": "https://localhost:8080/",
     "height": 105,
     "output_extras": [
      {}
     ]
    },
    "colab_type": "code",
    "executionInfo": {
     "elapsed": 6706,
     "status": "ok",
     "timestamp": 1522460712972,
     "user": {
      "displayName": "Yashovardhan Chaturvedi",
      "photoUrl": "https://lh3.googleusercontent.com/a/default-user=s128",
      "userId": "108378940342117174921"
     },
     "user_tz": 240
    },
    "id": "PJf9-cW0oggB",
    "outputId": "9800e0bd-f7a6-4c66-8236-cd5431db78b3"
   },
   "outputs": [
    {
     "name": "stderr",
     "output_type": "stream",
     "text": [
      "/usr/local/lib/python3.6/dist-packages/scipy/misc/pilutil.py:482: FutureWarning: Conversion of the second argument of issubdtype from `int` to `np.signedinteger` is deprecated. In future, it will be treated as `np.int64 == np.dtype(int).type`.\n",
      "  if issubdtype(ts, int):\n",
      "/usr/local/lib/python3.6/dist-packages/scipy/misc/pilutil.py:485: FutureWarning: Conversion of the second argument of issubdtype from `float` to `np.floating` is deprecated. In future, it will be treated as `np.float64 == np.dtype(float).type`.\n",
      "  elif issubdtype(type(size), float):\n"
     ]
    }
   ],
   "source": [
    "transformed_X_test = np.array([scipy.misc.imresize(X_test_small[i], (139, 139, 3)) \n",
    "                       for i in range(0, len(X_test_small))]).astype('float32')"
   ]
  },
  {
   "cell_type": "code",
   "execution_count": 0,
   "metadata": {
    "colab": {
     "autoexec": {
      "startup": false,
      "wait_interval": 0
     }
    },
    "colab_type": "code",
    "collapsed": true,
    "id": "tOAVEbC0uwB6"
   },
   "outputs": [],
   "source": [
    "del(X_test_small)\n",
    "del(X_train_small)"
   ]
  },
  {
   "cell_type": "markdown",
   "metadata": {
    "colab_type": "text",
    "id": "iLAmpLTVAuyG"
   },
   "source": [
    "Perform preprocessing on the data for Inception V3 model"
   ]
  },
  {
   "cell_type": "code",
   "execution_count": 0,
   "metadata": {
    "colab": {
     "autoexec": {
      "startup": false,
      "wait_interval": 0
     }
    },
    "colab_type": "code",
    "collapsed": true,
    "id": "zSF2IYFapkzX"
   },
   "outputs": [],
   "source": [
    "inception_model_input_train = preprocess_input(transformed_X_train)\n",
    "inception_model_input_test = preprocess_input(transformed_X_test)"
   ]
  },
  {
   "cell_type": "code",
   "execution_count": 0,
   "metadata": {
    "colab": {
     "autoexec": {
      "startup": false,
      "wait_interval": 0
     }
    },
    "colab_type": "code",
    "collapsed": true,
    "id": "TtajKuK-u5P8"
   },
   "outputs": [],
   "source": [
    "del(transformed_X_train)\n",
    "del(transformed_X_test)"
   ]
  },
  {
   "cell_type": "markdown",
   "metadata": {
    "colab_type": "text",
    "id": "dKYXQ8kNAuyP"
   },
   "source": [
    "By using the predict function we get the features we will use for training a small CNN model for both the test data as well as train data. "
   ]
  },
  {
   "cell_type": "code",
   "execution_count": 0,
   "metadata": {
    "colab": {
     "autoexec": {
      "startup": false,
      "wait_interval": 0
     }
    },
    "colab_type": "code",
    "collapsed": true,
    "id": "Jo_Crd52pwxn"
   },
   "outputs": [],
   "source": [
    "feature_extracted_train = model_V3.predict(inception_model_input_train)"
   ]
  },
  {
   "cell_type": "code",
   "execution_count": 0,
   "metadata": {
    "colab": {
     "autoexec": {
      "startup": false,
      "wait_interval": 0
     }
    },
    "colab_type": "code",
    "collapsed": true,
    "id": "zAwh_tOtvX6N"
   },
   "outputs": [],
   "source": [
    "del(inception_model_input_train)"
   ]
  },
  {
   "cell_type": "code",
   "execution_count": 0,
   "metadata": {
    "colab": {
     "autoexec": {
      "startup": false,
      "wait_interval": 0
     }
    },
    "colab_type": "code",
    "collapsed": true,
    "id": "51So0XCeshU2"
   },
   "outputs": [],
   "source": [
    "feature_extracted_test = model_V3.predict(inception_model_input_test)"
   ]
  },
  {
   "cell_type": "code",
   "execution_count": 0,
   "metadata": {
    "colab": {
     "autoexec": {
      "startup": false,
      "wait_interval": 0
     }
    },
    "colab_type": "code",
    "collapsed": true,
    "id": "TVH6ebIVwLU1"
   },
   "outputs": [],
   "source": [
    "del(inception_model_input_test)"
   ]
  },
  {
   "cell_type": "markdown",
   "metadata": {
    "colab_type": "text",
    "id": "XodFNmrYAuyh"
   },
   "source": [
    "We define a small CNN model which will use the extracted features from the inception model which uses only one CNN layer"
   ]
  },
  {
   "cell_type": "code",
   "execution_count": 0,
   "metadata": {
    "colab": {
     "autoexec": {
      "startup": false,
      "wait_interval": 0
     }
    },
    "colab_type": "code",
    "collapsed": true,
    "id": "Dv_j_1y4van2"
   },
   "outputs": [],
   "source": [
    "from keras.layers import GlobalAveragePooling2D\n",
    "model_new = Sequential()\n",
    "model_new.add(Conv2D(filters=100, kernel_size=2, input_shape=feature_extracted_train.shape[1:]))\n",
    "model_new.add(Dropout(0.4))\n",
    "model_new.add(GlobalAveragePooling2D())\n",
    "model_new.add(Dropout(0.3))\n",
    "model_new.add(Dense(10, activation='softmax'))\n",
    "model_new.add(Activation('softmax'))\n",
    "model_new.compile(loss='categorical_crossentropy',\n",
    "              optimizer='rmsprop',\n",
    "              metrics=['accuracy'])"
   ]
  },
  {
   "cell_type": "code",
   "execution_count": 0,
   "metadata": {
    "colab": {
     "autoexec": {
      "startup": false,
      "wait_interval": 0
     },
     "base_uri": "https://localhost:8080/",
     "height": 340,
     "output_extras": [
      {}
     ]
    },
    "colab_type": "code",
    "executionInfo": {
     "elapsed": 459,
     "status": "ok",
     "timestamp": 1522461941337,
     "user": {
      "displayName": "Yashovardhan Chaturvedi",
      "photoUrl": "https://lh3.googleusercontent.com/a/default-user=s128",
      "userId": "108378940342117174921"
     },
     "user_tz": 240
    },
    "id": "9blnDQ3_vzEo",
    "outputId": "bd6da029-8df2-4655-d49a-2ba69bb35a03"
   },
   "outputs": [
    {
     "name": "stdout",
     "output_type": "stream",
     "text": [
      "_________________________________________________________________\n",
      "Layer (type)                 Output Shape              Param #   \n",
      "=================================================================\n",
      "conv2d_111 (Conv2D)          (None, 2, 2, 100)         819300    \n",
      "_________________________________________________________________\n",
      "dropout_8 (Dropout)          (None, 2, 2, 100)         0         \n",
      "_________________________________________________________________\n",
      "global_average_pooling2d_7 ( (None, 100)               0         \n",
      "_________________________________________________________________\n",
      "dropout_9 (Dropout)          (None, 100)               0         \n",
      "_________________________________________________________________\n",
      "dense_4 (Dense)              (None, 10)                1010      \n",
      "_________________________________________________________________\n",
      "activation_106 (Activation)  (None, 10)                0         \n",
      "=================================================================\n",
      "Total params: 820,310\n",
      "Trainable params: 820,310\n",
      "Non-trainable params: 0\n",
      "_________________________________________________________________\n"
     ]
    }
   ],
   "source": [
    "model_new.summary()"
   ]
  },
  {
   "cell_type": "code",
   "execution_count": 0,
   "metadata": {
    "colab": {
     "autoexec": {
      "startup": false,
      "wait_interval": 0
     },
     "base_uri": "https://localhost:8080/",
     "height": 734,
     "output_extras": [
      {}
     ]
    },
    "colab_type": "code",
    "executionInfo": {
     "elapsed": 94366,
     "status": "ok",
     "timestamp": 1522463023838,
     "user": {
      "displayName": "Yashovardhan Chaturvedi",
      "photoUrl": "https://lh3.googleusercontent.com/a/default-user=s128",
      "userId": "108378940342117174921"
     },
     "user_tz": 240
    },
    "id": "BLyOAdkQxvtU",
    "outputId": "a5f6f332-1be0-4ec9-ee39-d89c51ba5e4c"
   },
   "outputs": [
    {
     "name": "stdout",
     "output_type": "stream",
     "text": [
      "Train on 10000 samples, validate on 10000 samples\n",
      "Epoch 1/20\n",
      "10000/10000 [==============================] - 4s 441us/step - loss: 1.6948 - acc: 0.7661 - val_loss: 1.6939 - val_acc: 0.7668\n",
      "Epoch 2/20\n",
      "10000/10000 [==============================] - 5s 473us/step - loss: 1.6944 - acc: 0.7666 - val_loss: 1.7155 - val_acc: 0.7457\n",
      "Epoch 3/20\n",
      "10000/10000 [==============================] - 5s 472us/step - loss: 1.6876 - acc: 0.7731 - val_loss: 1.7166 - val_acc: 0.7441\n",
      "Epoch 4/20\n",
      "10000/10000 [==============================] - 5s 469us/step - loss: 1.6930 - acc: 0.7679 - val_loss: 1.6915 - val_acc: 0.7694\n",
      "Epoch 5/20\n",
      " 2528/10000 [======>.......................] - ETA: 2s - loss: 1.7016 - acc: 0.759510000/10000 [==============================] - 5s 472us/step - loss: 1.6926 - acc: 0.7684 - val_loss: 1.6867 - val_acc: 0.7744\n",
      "Epoch 6/20\n",
      "10000/10000 [==============================] - 5s 475us/step - loss: 1.6728 - acc: 0.7880 - val_loss: 1.6866 - val_acc: 0.7743\n",
      "Epoch 7/20\n",
      "10000/10000 [==============================] - 5s 477us/step - loss: 1.6896 - acc: 0.7713 - val_loss: 1.6840 - val_acc: 0.7769\n",
      "Epoch 8/20\n",
      "10000/10000 [==============================] - 5s 465us/step - loss: 1.6860 - acc: 0.7746 - val_loss: 1.6830 - val_acc: 0.7783\n",
      "Epoch 9/20\n",
      " 6784/10000 [===================>..........] - ETA: 1s - loss: 1.6775 - acc: 0.783510000/10000 [==============================] - 5s 470us/step - loss: 1.6765 - acc: 0.7846 - val_loss: 1.6921 - val_acc: 0.7691\n",
      "Epoch 10/20\n",
      "10000/10000 [==============================] - 5s 471us/step - loss: 1.6720 - acc: 0.7889 - val_loss: 1.6692 - val_acc: 0.7914\n",
      "Epoch 11/20\n",
      "10000/10000 [==============================] - 5s 472us/step - loss: 1.6782 - acc: 0.7826 - val_loss: 1.6869 - val_acc: 0.7742\n",
      "Epoch 12/20\n",
      "10000/10000 [==============================] - 5s 465us/step - loss: 1.6641 - acc: 0.7970 - val_loss: 1.6826 - val_acc: 0.7780\n",
      "Epoch 13/20\n",
      " 7680/10000 [======================>.......] - ETA: 0s - loss: 1.6709 - acc: 0.790110000/10000 [==============================] - 5s 465us/step - loss: 1.6710 - acc: 0.7900 - val_loss: 1.6858 - val_acc: 0.7749\n",
      "Epoch 14/20\n",
      "10000/10000 [==============================] - 5s 467us/step - loss: 1.6735 - acc: 0.7874 - val_loss: 1.7041 - val_acc: 0.7565\n",
      "Epoch 15/20\n",
      "10000/10000 [==============================] - 5s 469us/step - loss: 1.6741 - acc: 0.7870 - val_loss: 1.6909 - val_acc: 0.7699\n",
      "Epoch 16/20\n",
      "10000/10000 [==============================] - 5s 468us/step - loss: 1.6626 - acc: 0.7985 - val_loss: 1.6947 - val_acc: 0.7663\n",
      "Epoch 17/20\n",
      " 7648/10000 [=====================>........] - ETA: 0s - loss: 1.6610 - acc: 0.799710000/10000 [==============================] - 5s 469us/step - loss: 1.6633 - acc: 0.7974 - val_loss: 1.6929 - val_acc: 0.7680\n",
      "Epoch 18/20\n",
      "10000/10000 [==============================] - 5s 473us/step - loss: 1.6688 - acc: 0.7922 - val_loss: 1.6993 - val_acc: 0.7619\n",
      "Epoch 19/20\n",
      "10000/10000 [==============================] - 5s 470us/step - loss: 1.6669 - acc: 0.7938 - val_loss: 1.6896 - val_acc: 0.7716\n",
      "Epoch 20/20\n",
      "10000/10000 [==============================] - 5s 490us/step - loss: 1.6717 - acc: 0.7892 - val_loss: 1.7076 - val_acc: 0.7531\n"
     ]
    }
   ],
   "source": [
    "import time\n",
    "start_1 = time.time()\n",
    "model_new.fit(feature_extracted_train, Y_train_small, batch_size=32, epochs=20, validation_data=(feature_extracted_test,Y_test_small),shuffle=True)\n",
    "end_1 = time.time()"
   ]
  },
  {
   "cell_type": "code",
   "execution_count": null,
   "metadata": {
    "colab": {
     "autoexec": {
      "startup": false,
      "wait_interval": 0
     }
    },
    "colab_type": "code",
    "collapsed": true,
    "id": "MZdaU3H9yurm"
   },
   "outputs": [],
   "source": [
    "#As one can see the accuracy we got on the validation set is 0.75 where as the previous model gave an accuracy of 0.61. \n",
    "#As a result transfer learning is an very useful technique \n",
    "#that is used incase we do not have a large data set but still expect high accuracy."
   ]
  },
  {
   "cell_type": "code",
   "execution_count": 0,
   "metadata": {
    "colab": {
     "autoexec": {
      "startup": false,
      "wait_interval": 0
     }
    },
    "colab_type": "code",
    "collapsed": true,
    "id": "CfWtGLcnzVWC"
   },
   "outputs": [],
   "source": [
    "model_new.save_weights(\"model.h5\")"
   ]
  },
  {
   "cell_type": "code",
   "execution_count": 0,
   "metadata": {
    "colab": {
     "autoexec": {
      "startup": false,
      "wait_interval": 0
     },
     "base_uri": "https://localhost:8080/",
     "height": 34,
     "output_extras": [
      {}
     ]
    },
    "colab_type": "code",
    "executionInfo": {
     "elapsed": 1450,
     "status": "ok",
     "timestamp": 1522463526717,
     "user": {
      "displayName": "Yashovardhan Chaturvedi",
      "photoUrl": "https://lh3.googleusercontent.com/a/default-user=s128",
      "userId": "108378940342117174921"
     },
     "user_tz": 240
    },
    "id": "RE7S33t-5b0C",
    "outputId": "87286beb-165d-4cc8-eb31-568a38846b1e"
   },
   "outputs": [
    {
     "name": "stdout",
     "output_type": "stream",
     "text": [
      "datalab  model.h5  test-features.npy\r\n"
     ]
    }
   ],
   "source": [
    "!ls"
   ]
  },
  {
   "cell_type": "code",
   "execution_count": 0,
   "metadata": {
    "colab": {
     "autoexec": {
      "startup": false,
      "wait_interval": 0
     },
     "base_uri": "https://localhost:8080/",
     "height": 34,
     "output_extras": [
      {}
     ]
    },
    "colab_type": "code",
    "executionInfo": {
     "elapsed": 1202,
     "status": "ok",
     "timestamp": 1522463638236,
     "user": {
      "displayName": "Yashovardhan Chaturvedi",
      "photoUrl": "https://lh3.googleusercontent.com/a/default-user=s128",
      "userId": "108378940342117174921"
     },
     "user_tz": 240
    },
    "id": "Twi9yNTc5ckK",
    "outputId": "86bd00b4-40ac-486a-d0a3-8ce28e0ff6a6"
   },
   "outputs": [
    {
     "name": "stdout",
     "output_type": "stream",
     "text": [
      "File ID: 1mQciHA35k7SMXd3oCFLRBtnloazoqJXQ FileName: model.h5\n"
     ]
    }
   ],
   "source": [
    "# we have uploaded the file using the function defined earlier. It uploads the file and lists the filename and fileid.\n",
    "uploadFile('model.h5')"
   ]
  },
  {
   "cell_type": "code",
   "execution_count": null,
   "metadata": {
    "colab": {
     "autoexec": {
      "startup": false,
      "wait_interval": 0
     }
    },
    "colab_type": "code",
    "collapsed": true,
    "id": "GrroEgoq5kzB"
   },
   "outputs": [],
   "source": [
    "#As demonstrated above Google Colab is a very easy to use tool especially for training DNN models on GPU \n",
    "#without any cost and with no initial setup required! "
   ]
  },
  {
   "cell_type": "markdown",
   "metadata": {
    "colab_type": "text",
    "id": "P9KzzCUiAuzH"
   },
   "source": [
    "References:\n",
    "* https://colab.research.google.com/notebook#fileId=/v2/external/notebooks/io.ipynb&scrollTo=cFAq-F2af5TJ was referenced for understanding how google colab IO is done.\n",
    "* http://cs231n.github.io/transfer-learning/ : was used to undertand transfer learning\n",
    "* https://blog.keras.io/building-powerful-image-classification-models-using-very-little-data.html : was referenced to undertand the use of keras for transfer learning!"
   ]
  },
  {
   "cell_type": "markdown",
   "metadata": {
    "colab": {
     "autoexec": {
      "startup": false,
      "wait_interval": 0
     }
    },
    "colab_type": "code",
    "collapsed": true,
    "id": "3HgyZrBNAuzI"
   },
   "source": [
    "#### Further Resources :\n",
    "* Transfer learning : https://www.youtube.com/watch?v=dUTzeP_HTZg\n",
    "* Course: http://cs231n.github.io/"
   ]
  },
  {
   "cell_type": "code",
   "execution_count": null,
   "metadata": {
    "collapsed": true
   },
   "outputs": [],
   "source": []
  }
 ],
 "metadata": {
  "accelerator": "GPU",
  "colab": {
   "collapsed_sections": [],
   "default_view": {},
   "name": "PDSTutorial_new_2.ipynb",
   "provenance": [],
   "version": "0.3.2",
   "views": {}
  },
  "kernelspec": {
   "display_name": "Python 3",
   "language": "python",
   "name": "python3"
  },
  "language_info": {
   "codemirror_mode": {
    "name": "ipython",
    "version": 3
   },
   "file_extension": ".py",
   "mimetype": "text/x-python",
   "name": "python",
   "nbconvert_exporter": "python",
   "pygments_lexer": "ipython3",
   "version": "3.6.2"
  }
 },
 "nbformat": 4,
 "nbformat_minor": 1
}
