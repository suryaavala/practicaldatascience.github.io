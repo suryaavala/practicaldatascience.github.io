{
 "cells": [
  {
   "cell_type": "markdown",
   "metadata": {},
   "source": [
    "# Prediction of Oscar Nominees \n",
    "![logo](http://www1.oscars.org/vendor/old/images/logo.png)"
   ]
  },
  {
   "cell_type": "markdown",
   "metadata": {},
   "source": [
    "## Purpose of this tutorial\n",
    "This tutorial will introduce you the basic steps of doing preditions, taking Oscar nominees as an example. The tutorial will cover the following couple of knowledge:\n",
    "- Gathering data resource from Kaggle and using web scrapping\n",
    "- Data cleaning and data wrangling\n",
    "    - Joining multiple tables\n",
    "- Exploratory data analysis\n",
    "- Feature Training\n",
    "- Model Training\n",
    "\n",
    "**Content**\n",
    "\n",
    "- [Data Collection](#Data-Collection)\n",
    "- [Load Data](#Load-Data)\n",
    "- [Data Manipulation](#Data-Manipulation)\n",
    "    - [Handling Imbalanced Data](#Handling-Imbalanced-Data)\n",
    "    - [Check The Null Value](#Check-The-Null-Value)\n",
    "- [Exploratory Data Aalysis](#Exploratory-DataAalysis)\n",
    "- [Feature Engineering](#Feature-Engineering)\n",
    "- [Model Training](#Model-Training)\n",
    "- [Further Reading](#Further-Reading)\n",
    "\n",
    "\n",
    "## Rules of Oscar Nominations\n",
    "Before we go deep into our data modeling, we first need to understand how Oscar nomination works. Then, we use these rules to filter the movies that are qualified for our dataset.\n",
    "Rules relavant to dataset:\n",
    "1. Feature length (defined as over 40 minutes)\n",
    "2. A film must have been released in the preceding year, from midnight at the start of January 1 to midnight at the end of December 31, in Los Angeles (California)"
   ]
  },
  {
   "cell_type": "markdown",
   "metadata": {},
   "source": [
    "## Data Collection\n",
    "### Data Source:\n",
    "1. Kaggle - [The Oscars Dataset: Preparing for 2017](https://www.kaggle.com/sebask/the-oscars-dataset-preparing-for-2017/data)\n",
    "2. Kaggle - [TMDB 5000 Movie Dataset](https://www.kaggle.com/tmdb/tmdb-movie-metadata/data)\n",
    "3. Kaggle - [The Movies Dataset](https://www.kaggle.com/rounakbanik/the-movies-dataset/data)\n",
    "4. Kaggle - [350 000+ movies from themoviedb.org](https://www.kaggle.com/stephanerappeneau/350-000-movies-from-themoviedborg/data)\n",
    "\n",
    "In this tutorial, we will use the first and second data source.\n",
    "\n",
    "**Note:**I have uploaded the files to Google drive, please download the data files to the same path with this tutorial.\n",
    "\n",
    "**Download the csv files:**\n",
    "- [awards.csv](https://drive.google.com/open?id=1YxiqynLgbpeXsy_dkUTmEgmGTvxHJExA)\n",
    "- [credits.csv](https://drive.google.com/open?id=1QqK1l8lV-Lpu5gnwDpMzSBhFnFc37I4Q)\n",
    "- [movies.csv](https://drive.google.com/open?id=1_0otdD3eEM_UFl8kNf0qw8ABcTw7GGsD)\n",
    "\n",
    "\n",
    "### Scope\n",
    "This tutorial will on focus on predicting the BEST PICTURE nominees of the Academy Awards. We will use three csv files for analysis.\n",
    "\n",
    "### Preview\n",
    "\n",
    "The column metatdata is listed as follows:\n",
    "- The Oscars Dataset 1927-2017\n",
    "\n",
    "\n",
    "| | |**awards**             | \n",
    "|----------|-------------|-------------|\n",
    "| year | the year of oscar nomination | String |\n",
    "| ceremony | the nth Academy Awards | Numeric |\n",
    "| award | type of award | String |\n",
    "| winner | 1 indicates nominees instead of winner | Numeric |\n",
    "| movieName | name of the film | String |\n",
    "| filmInfo | name of the producers | String |\n",
    "\n",
    "- Movies Dataset \n",
    "\n",
    "| | |**movies**        |\n",
    "|----------|-------------|-----------------------|\n",
    "| budget |\tbudget spent on the movie | numeric |\n",
    "| genres | json files containing the id and name of genres | json |\n",
    "| homepage | homepage of the movie | string |\n",
    "| id\t| id | string |\n",
    "| keywords | keywords | string |\n",
    "| original_language\t| original language | string |\n",
    "| original_title\t| original title | string |\n",
    "| overview\t| description of the movie | string |\n",
    "| popularity\t| popularity | numeric |\n",
    "| production_companies\t| json files including the name and id of the production company | json |\n",
    "| production_countries\t| json files including the iso_3166_1 and name of production country | json |\n",
    "| release_date\t| release_date of the film | datetime |\n",
    "| revenue\t| revenue in USD | numeric |\n",
    "| runtime\t| time span of the movie | time |\n",
    "| spoken_languages\t| json files containing \"iso_639_1\" (eg.en) and name of the language | json |\n",
    "| status\t| status of the movie ie. Released | string |\n",
    "| tagline\t| tagline | string |\n",
    "| title\t| title of the movie | string |\n",
    "| vote_average\t| average score | numeric |\n",
    "| vote_count | vote count | numeric |\n",
    "\n",
    "- Movie Credits Data\n",
    "\n",
    "| | |**credits** | \n",
    "|------------|------------------|--------------------|\n",
    "| movie_id | movie id | numeric |\n",
    "| title | movie title | string |\n",
    "| cast | json files containing the cast of a movie {\"cast_id\",\"character\", \"credit_id\", \"gender\", \"order\"} | json |\n",
    "| crew | json files containing the crew of a movie {\"credit_id\",\"gender\",\"department\",\"job\",\"name\"} | json |\n",
    "\n",
    "- Main libraries:\n",
    "    - Requests\n",
    "    - BeautifulSoup\n",
    "    - Matplotlib\n",
    "    - Seaborn\n",
    "    - Numpy\n",
    "    - Json\n",
    "    - Pandas\n",
    "    - Skitlearn"
   ]
  },
  {
   "cell_type": "code",
   "execution_count": 2,
   "metadata": {
    "collapsed": true
   },
   "outputs": [],
   "source": [
    "import io, time, json\n",
    "import requests\n",
    "from bs4 import BeautifulSoup\n",
    "import matplotlib.pyplot as plt\n",
    "import seaborn as sns\n",
    "import json\n",
    "import sklearn\n",
    "import warnings; warnings.simplefilter('ignore')\n",
    "%matplotlib inline"
   ]
  },
  {
   "cell_type": "markdown",
   "metadata": {},
   "source": [
    "### Web Scraping\n",
    "Since the oscar dataset from Kaggle doesn't contain data in year 2016 and 2017, we can write a simple scrapper to scrap the data from [The Official Academy Awards Database](http://awardsdatabase.oscars.org/) and append it to the current data set.\n",
    "\n",
    "**Notice**\n",
    "\n",
    "- Parse a header ('User-Agent': 'Mozilla/5.0 (Macintosh; Intel Mac OS X 10_11_5) AppleWebKit/537.36 (KHTML, like Gecko) Chrome/50.0.2661.102 Safari/537.36') to the [requests.get(url, headers = headers)](http://docs.python-requests.org/en/master/user/quickstart/) function, or the results returned will be incomplete.\n",
    "- If you want to know the alignment of the html framework on Oscar website, you can right click on the Chrome webpage, select \"Inspect\", then you will enter the Chrome development mode which you can find the position that the information is located.\n",
    "- The value in \"is_winner\" will be 1 for all movies since the movies retrieved from Oscar website are all nominees."
   ]
  },
  {
   "cell_type": "code",
   "execution_count": 3,
   "metadata": {
    "collapsed": true
   },
   "outputs": [],
   "source": [
    "def retrieve_html(url):\n",
    "    \"\"\"\n",
    "    Return the raw HTML at the specified URL.\n",
    "\n",
    "    Args:\n",
    "        url (string): \n",
    "\n",
    "    Returns:\n",
    "        result: dict, movie name as key, movie information as value\n",
    "    \"\"\"\n",
    "    # remember to use browser header here, or cannot retrieve full data from the website\n",
    "    headers = {\n",
    "        'User-Agent': 'Mozilla/5.0 (Macintosh; Intel Mac OS X 10_11_5) AppleWebKit/537.36 (KHTML, like Gecko) Chrome/50.0.2661.102 Safari/537.36'}\n",
    "    response = requests.get(url, headers = headers)\n",
    "    html = response.content\n",
    "    soup = BeautifulSoup(html,'lxml')\n",
    "\n",
    "    result = {}\n",
    "    for item in soup.find_all('div', {'class':'result-subgroup subgroup-awardcategory-chron'}):\n",
    "        try:\n",
    "            award_title = item.find('div',{'class':'result-subgroup-title'}).find('a',{'class':'nominations-link'}).contents[0]\n",
    "            if award_title == 'BEST PICTURE':\n",
    "                sub_groups = item.find_all('div',{'class':'result-details awards-result-actingorsimilar'})\n",
    "                for sub in sub_groups:\n",
    "                    sub_result = {}\n",
    "                    film_title = sub.find('div',{'class':'awards-result-film-title'}).find('a',{'class':'nominations-link'}).contents[0]\n",
    "#                     is_winner = sub.find('span',{'class':'glyphicon glyphicon-star'})\n",
    "#                     if is_winner is not None:\n",
    "#                         is_winner = 1\n",
    "#                     else:\n",
    "#                         is_winner = 0\n",
    "                    is_winner = 1\n",
    "                    statement = sub.find('div',{'class':'awards-result-nominationstatement'}).find('a',{'class':'nominations-link'}).contents[0]           \n",
    "                    sub_result['film_title'] = film_title\n",
    "                    sub_result['is_winner'] = is_winner\n",
    "                    sub_result['statement'] = statement\n",
    "                    result[film_title] = sub_result\n",
    "        except Exception:\n",
    "            pass\n",
    "    return result\n"
   ]
  },
  {
   "cell_type": "markdown",
   "metadata": {},
   "source": [
    "Retrieve the BEST PICTURE movie data in 2016 and 2017 from the Oscar database."
   ]
  },
  {
   "cell_type": "code",
   "execution_count": 4,
   "metadata": {
    "collapsed": true
   },
   "outputs": [],
   "source": [
    "# data of year 2016\n",
    "best_2016 = retrieve_html('http://awardsdatabase.oscars.org/Search/GetResults?query=%7B%22AwardShowFrom%22:89,%22Sort%22:%223-Award%20Category-Chron%22,%22Search%22:%22Basic%22%7D')\n",
    "\n",
    "# data of year 2017\n",
    "best_2017 = retrieve_html('http://awardsdatabase.oscars.org/Search/GetResults?query=%7B%22AwardShowFrom%22:90,%22Sort%22:%223-Award%20Category-Chron%22,%22Search%22:%22Basic%22%7D')\n"
   ]
  },
  {
   "cell_type": "markdown",
   "metadata": {},
   "source": [
    "Have a look at the best_2016 data"
   ]
  },
  {
   "cell_type": "code",
   "execution_count": 5,
   "metadata": {},
   "outputs": [
    {
     "data": {
      "text/plain": [
       "{'Arrival': {'film_title': 'Arrival',\n",
       "  'is_winner': 1,\n",
       "  'statement': 'Shawn Levy, Dan Levine, Aaron Ryder and David Linde, Producers'},\n",
       " 'Fences': {'film_title': 'Fences',\n",
       "  'is_winner': 1,\n",
       "  'statement': 'Scott Rudin, Denzel Washington and Todd Black, Producers'},\n",
       " 'Hacksaw Ridge': {'film_title': 'Hacksaw Ridge',\n",
       "  'is_winner': 1,\n",
       "  'statement': 'Bill Mechanic and David Permut, Producers'},\n",
       " 'Hell or High Water': {'film_title': 'Hell or High Water',\n",
       "  'is_winner': 1,\n",
       "  'statement': 'Carla Hacken and Julie Yorn, Producers'},\n",
       " 'Hidden Figures': {'film_title': 'Hidden Figures',\n",
       "  'is_winner': 1,\n",
       "  'statement': 'Donna Gigliotti, Peter Chernin, Jenno Topping, Pharrell Williams and Theodore Melfi, Producers'},\n",
       " 'La La Land': {'film_title': 'La La Land',\n",
       "  'is_winner': 1,\n",
       "  'statement': 'Fred Berger, Jordan Horowitz and Marc Platt, Producers'},\n",
       " 'Lion': {'film_title': 'Lion',\n",
       "  'is_winner': 1,\n",
       "  'statement': 'Emile Sherman, Iain Canning and Angie Fielder, Producers'},\n",
       " 'Manchester by the Sea': {'film_title': 'Manchester by the Sea',\n",
       "  'is_winner': 1,\n",
       "  'statement': 'Matt Damon, Kimberly Steward, Chris Moore, Lauren Beck and Kevin J. Walsh, Producers'},\n",
       " 'Moonlight': {'film_title': 'Moonlight',\n",
       "  'is_winner': 1,\n",
       "  'statement': 'Adele Romanski, Dede Gardner and Jeremy Kleiner, Producers'}}"
      ]
     },
     "execution_count": 5,
     "metadata": {},
     "output_type": "execute_result"
    }
   ],
   "source": [
    "best_2016"
   ]
  },
  {
   "cell_type": "markdown",
   "metadata": {},
   "source": [
    "## Load Data"
   ]
  },
  {
   "cell_type": "markdown",
   "metadata": {},
   "source": [
    "### Read From CSV File\n",
    "\n",
    "In this section, we will read the csv file into pandas dataframe. Pandas is a easy to use library which allows users to read a file in different format such as CSV and Excel into a dataframe (same as the dataframe in R). We then can manipulate the data, common function such as join(), merge(), drop(), fillna(), reset_index(), etc., will be explored in this section."
   ]
  },
  {
   "cell_type": "code",
   "execution_count": 6,
   "metadata": {
    "collapsed": true
   },
   "outputs": [],
   "source": [
    "import numpy as np\n",
    "import pandas as pd"
   ]
  },
  {
   "cell_type": "markdown",
   "metadata": {},
   "source": [
    "#### Read data\n",
    "Read data from **awards.csv**, **credits.csv** and **movies.csv**"
   ]
  },
  {
   "cell_type": "code",
   "execution_count": 7,
   "metadata": {
    "collapsed": true
   },
   "outputs": [],
   "source": [
    "# read from awar\n",
    "df_awards = pd.read_csv('awards.csv', skiprows = 1, names=['year','ceremony','award','winner','movieName','filmInfo'])\n",
    "df_credits = pd.read_csv('credits.csv')\n",
    "df_movies = pd.read_csv('movies.csv')"
   ]
  },
  {
   "cell_type": "markdown",
   "metadata": {},
   "source": [
    "#### View data"
   ]
  },
  {
   "cell_type": "code",
   "execution_count": 8,
   "metadata": {},
   "outputs": [
    {
     "name": "stdout",
     "output_type": "stream",
     "text": [
      "        year  ceremony    award  winner            movieName          filmInfo\n",
      "0  1927/1928         1    Actor     NaN  Richard Barthelmess         The Noose\n",
      "1  1927/1928         1    Actor     1.0        Emil Jannings  The Last Command\n",
      "2  1927/1928         1  Actress     NaN       Louise Dresser   A Ship Comes In\n",
      "3  1927/1928         1  Actress     1.0         Janet Gaynor        7th Heaven\n",
      "4  1927/1928         1  Actress     NaN       Gloria Swanson    Sadie Thompson\n"
     ]
    }
   ],
   "source": [
    "print(df_awards.head())"
   ]
  },
  {
   "cell_type": "code",
   "execution_count": 9,
   "metadata": {},
   "outputs": [
    {
     "name": "stdout",
     "output_type": "stream",
     "text": [
      "   movie_id                                     title  \\\n",
      "0     19995                                    Avatar   \n",
      "1       285  Pirates of the Caribbean: At World's End   \n",
      "2    206647                                   Spectre   \n",
      "3     49026                     The Dark Knight Rises   \n",
      "4     49529                               John Carter   \n",
      "\n",
      "                                                cast  \\\n",
      "0  [{\"cast_id\": 242, \"character\": \"Jake Sully\", \"...   \n",
      "1  [{\"cast_id\": 4, \"character\": \"Captain Jack Spa...   \n",
      "2  [{\"cast_id\": 1, \"character\": \"James Bond\", \"cr...   \n",
      "3  [{\"cast_id\": 2, \"character\": \"Bruce Wayne / Ba...   \n",
      "4  [{\"cast_id\": 5, \"character\": \"John Carter\", \"c...   \n",
      "\n",
      "                                                crew  \n",
      "0  [{\"credit_id\": \"52fe48009251416c750aca23\", \"de...  \n",
      "1  [{\"credit_id\": \"52fe4232c3a36847f800b579\", \"de...  \n",
      "2  [{\"credit_id\": \"54805967c3a36829b5002c41\", \"de...  \n",
      "3  [{\"credit_id\": \"52fe4781c3a36847f81398c3\", \"de...  \n",
      "4  [{\"credit_id\": \"52fe479ac3a36847f813eaa3\", \"de...  \n"
     ]
    }
   ],
   "source": [
    "print(df_credits.head())\n",
    "# df_credits.loc[0,'crew']"
   ]
  },
  {
   "cell_type": "markdown",
   "metadata": {},
   "source": [
    "Print the result of the three dataframes out and have a look at the dataset."
   ]
  },
  {
   "cell_type": "markdown",
   "metadata": {},
   "source": [
    "\n",
    "```python\n",
    ">>> df_awards.head()\n",
    "\n",
    "    year\tceremony\taward\twinner\tmovieName\tfilmInfo\n",
    "0\t1927/1928\t1\tActor\tNaN\tRichard Barthelmess\tThe Noose\n",
    "1\t1927/1928\t1\tActor\t1.0\tEmil Jannings\tThe Last Command\n",
    "2\t1927/1928\t1\tActress\tNaN\tLouise Dresser\tA Ship Comes In\n",
    "3\t1927/1928\t1\tActress\t1.0\tJanet Gaynor\t7th Heaven\n",
    "4\t1927/1928\t1\tActress\tNaN\tGloria Swanson\tSadie Thompson\n",
    "\n",
    ">>> df_credits.head()\n",
    "\n",
    "    movie_id\ttitle\tcast\tcrew\n",
    "0\t19995\tAvatar\t[{\"cast_id\": 242, \"character\": \"Jake Sully\", \"...\t[{\"credit_id\": \"52fe48009251416c750aca23\", \"de...\n",
    "1\t285\tPirates of the Caribbean: At World's End\t[{\"cast_id\": 4, \"character\": \"Captain Jack Spa...\t[{\"credit_id\": \"52fe4232c3a36847f800b579\", \"de...\n",
    "2\t206647\tSpectre\t[{\"cast_id\": 1, \"character\": \"James Bond\", \"cr...\t[{\"credit_id\": \"54805967c3a36829b5002c41\", \"de...\n",
    "3\t49026\tThe Dark Knight Rises\t[{\"cast_id\": 2, \"character\": \"Bruce Wayne / Ba...\t[{\"credit_id\": \"52fe4781c3a36847f81398c3\", \"de...\n",
    "4\t49529\tJohn Carter\t[{\"cast_id\": 5, \"character\": \"John Carter\", \"c...\t[{\"credit_id\": \"52fe479ac3a36847f813eaa3\", \"de...\n",
    "\n",
    "```"
   ]
  },
  {
   "cell_type": "code",
   "execution_count": 10,
   "metadata": {},
   "outputs": [
    {
     "data": {
      "text/html": [
       "<div>\n",
       "<style>\n",
       "    .dataframe thead tr:only-child th {\n",
       "        text-align: right;\n",
       "    }\n",
       "\n",
       "    .dataframe thead th {\n",
       "        text-align: left;\n",
       "    }\n",
       "\n",
       "    .dataframe tbody tr th {\n",
       "        vertical-align: top;\n",
       "    }\n",
       "</style>\n",
       "<table border=\"1\" class=\"dataframe\">\n",
       "  <thead>\n",
       "    <tr style=\"text-align: right;\">\n",
       "      <th></th>\n",
       "      <th>budget</th>\n",
       "      <th>genres</th>\n",
       "      <th>homepage</th>\n",
       "      <th>id</th>\n",
       "      <th>keywords</th>\n",
       "      <th>original_language</th>\n",
       "      <th>original_title</th>\n",
       "      <th>overview</th>\n",
       "      <th>popularity</th>\n",
       "      <th>production_companies</th>\n",
       "      <th>production_countries</th>\n",
       "      <th>release_date</th>\n",
       "      <th>revenue</th>\n",
       "      <th>runtime</th>\n",
       "      <th>spoken_languages</th>\n",
       "      <th>status</th>\n",
       "      <th>tagline</th>\n",
       "      <th>title</th>\n",
       "      <th>vote_average</th>\n",
       "      <th>vote_count</th>\n",
       "    </tr>\n",
       "  </thead>\n",
       "  <tbody>\n",
       "    <tr>\n",
       "      <th>0</th>\n",
       "      <td>237000000</td>\n",
       "      <td>[{\"id\": 28, \"name\": \"Action\"}, {\"id\": 12, \"nam...</td>\n",
       "      <td>http://www.avatarmovie.com/</td>\n",
       "      <td>19995</td>\n",
       "      <td>[{\"id\": 1463, \"name\": \"culture clash\"}, {\"id\":...</td>\n",
       "      <td>en</td>\n",
       "      <td>Avatar</td>\n",
       "      <td>In the 22nd century, a paraplegic Marine is di...</td>\n",
       "      <td>150.437577</td>\n",
       "      <td>[{\"name\": \"Ingenious Film Partners\", \"id\": 289...</td>\n",
       "      <td>[{\"iso_3166_1\": \"US\", \"name\": \"United States o...</td>\n",
       "      <td>2009-12-10</td>\n",
       "      <td>2787965087</td>\n",
       "      <td>162.0</td>\n",
       "      <td>[{\"iso_639_1\": \"en\", \"name\": \"English\"}, {\"iso...</td>\n",
       "      <td>Released</td>\n",
       "      <td>Enter the World of Pandora.</td>\n",
       "      <td>Avatar</td>\n",
       "      <td>7.2</td>\n",
       "      <td>11800</td>\n",
       "    </tr>\n",
       "    <tr>\n",
       "      <th>1</th>\n",
       "      <td>300000000</td>\n",
       "      <td>[{\"id\": 12, \"name\": \"Adventure\"}, {\"id\": 14, \"...</td>\n",
       "      <td>http://disney.go.com/disneypictures/pirates/</td>\n",
       "      <td>285</td>\n",
       "      <td>[{\"id\": 270, \"name\": \"ocean\"}, {\"id\": 726, \"na...</td>\n",
       "      <td>en</td>\n",
       "      <td>Pirates of the Caribbean: At World's End</td>\n",
       "      <td>Captain Barbossa, long believed to be dead, ha...</td>\n",
       "      <td>139.082615</td>\n",
       "      <td>[{\"name\": \"Walt Disney Pictures\", \"id\": 2}, {\"...</td>\n",
       "      <td>[{\"iso_3166_1\": \"US\", \"name\": \"United States o...</td>\n",
       "      <td>2007-05-19</td>\n",
       "      <td>961000000</td>\n",
       "      <td>169.0</td>\n",
       "      <td>[{\"iso_639_1\": \"en\", \"name\": \"English\"}]</td>\n",
       "      <td>Released</td>\n",
       "      <td>At the end of the world, the adventure begins.</td>\n",
       "      <td>Pirates of the Caribbean: At World's End</td>\n",
       "      <td>6.9</td>\n",
       "      <td>4500</td>\n",
       "    </tr>\n",
       "    <tr>\n",
       "      <th>2</th>\n",
       "      <td>245000000</td>\n",
       "      <td>[{\"id\": 28, \"name\": \"Action\"}, {\"id\": 12, \"nam...</td>\n",
       "      <td>http://www.sonypictures.com/movies/spectre/</td>\n",
       "      <td>206647</td>\n",
       "      <td>[{\"id\": 470, \"name\": \"spy\"}, {\"id\": 818, \"name...</td>\n",
       "      <td>en</td>\n",
       "      <td>Spectre</td>\n",
       "      <td>A cryptic message from Bond’s past sends him o...</td>\n",
       "      <td>107.376788</td>\n",
       "      <td>[{\"name\": \"Columbia Pictures\", \"id\": 5}, {\"nam...</td>\n",
       "      <td>[{\"iso_3166_1\": \"GB\", \"name\": \"United Kingdom\"...</td>\n",
       "      <td>2015-10-26</td>\n",
       "      <td>880674609</td>\n",
       "      <td>148.0</td>\n",
       "      <td>[{\"iso_639_1\": \"fr\", \"name\": \"Fran\\u00e7ais\"},...</td>\n",
       "      <td>Released</td>\n",
       "      <td>A Plan No One Escapes</td>\n",
       "      <td>Spectre</td>\n",
       "      <td>6.3</td>\n",
       "      <td>4466</td>\n",
       "    </tr>\n",
       "    <tr>\n",
       "      <th>3</th>\n",
       "      <td>250000000</td>\n",
       "      <td>[{\"id\": 28, \"name\": \"Action\"}, {\"id\": 80, \"nam...</td>\n",
       "      <td>http://www.thedarkknightrises.com/</td>\n",
       "      <td>49026</td>\n",
       "      <td>[{\"id\": 849, \"name\": \"dc comics\"}, {\"id\": 853,...</td>\n",
       "      <td>en</td>\n",
       "      <td>The Dark Knight Rises</td>\n",
       "      <td>Following the death of District Attorney Harve...</td>\n",
       "      <td>112.312950</td>\n",
       "      <td>[{\"name\": \"Legendary Pictures\", \"id\": 923}, {\"...</td>\n",
       "      <td>[{\"iso_3166_1\": \"US\", \"name\": \"United States o...</td>\n",
       "      <td>2012-07-16</td>\n",
       "      <td>1084939099</td>\n",
       "      <td>165.0</td>\n",
       "      <td>[{\"iso_639_1\": \"en\", \"name\": \"English\"}]</td>\n",
       "      <td>Released</td>\n",
       "      <td>The Legend Ends</td>\n",
       "      <td>The Dark Knight Rises</td>\n",
       "      <td>7.6</td>\n",
       "      <td>9106</td>\n",
       "    </tr>\n",
       "    <tr>\n",
       "      <th>4</th>\n",
       "      <td>260000000</td>\n",
       "      <td>[{\"id\": 28, \"name\": \"Action\"}, {\"id\": 12, \"nam...</td>\n",
       "      <td>http://movies.disney.com/john-carter</td>\n",
       "      <td>49529</td>\n",
       "      <td>[{\"id\": 818, \"name\": \"based on novel\"}, {\"id\":...</td>\n",
       "      <td>en</td>\n",
       "      <td>John Carter</td>\n",
       "      <td>John Carter is a war-weary, former military ca...</td>\n",
       "      <td>43.926995</td>\n",
       "      <td>[{\"name\": \"Walt Disney Pictures\", \"id\": 2}]</td>\n",
       "      <td>[{\"iso_3166_1\": \"US\", \"name\": \"United States o...</td>\n",
       "      <td>2012-03-07</td>\n",
       "      <td>284139100</td>\n",
       "      <td>132.0</td>\n",
       "      <td>[{\"iso_639_1\": \"en\", \"name\": \"English\"}]</td>\n",
       "      <td>Released</td>\n",
       "      <td>Lost in our world, found in another.</td>\n",
       "      <td>John Carter</td>\n",
       "      <td>6.1</td>\n",
       "      <td>2124</td>\n",
       "    </tr>\n",
       "  </tbody>\n",
       "</table>\n",
       "</div>"
      ],
      "text/plain": [
       "      budget                                             genres  \\\n",
       "0  237000000  [{\"id\": 28, \"name\": \"Action\"}, {\"id\": 12, \"nam...   \n",
       "1  300000000  [{\"id\": 12, \"name\": \"Adventure\"}, {\"id\": 14, \"...   \n",
       "2  245000000  [{\"id\": 28, \"name\": \"Action\"}, {\"id\": 12, \"nam...   \n",
       "3  250000000  [{\"id\": 28, \"name\": \"Action\"}, {\"id\": 80, \"nam...   \n",
       "4  260000000  [{\"id\": 28, \"name\": \"Action\"}, {\"id\": 12, \"nam...   \n",
       "\n",
       "                                       homepage      id  \\\n",
       "0                   http://www.avatarmovie.com/   19995   \n",
       "1  http://disney.go.com/disneypictures/pirates/     285   \n",
       "2   http://www.sonypictures.com/movies/spectre/  206647   \n",
       "3            http://www.thedarkknightrises.com/   49026   \n",
       "4          http://movies.disney.com/john-carter   49529   \n",
       "\n",
       "                                            keywords original_language  \\\n",
       "0  [{\"id\": 1463, \"name\": \"culture clash\"}, {\"id\":...                en   \n",
       "1  [{\"id\": 270, \"name\": \"ocean\"}, {\"id\": 726, \"na...                en   \n",
       "2  [{\"id\": 470, \"name\": \"spy\"}, {\"id\": 818, \"name...                en   \n",
       "3  [{\"id\": 849, \"name\": \"dc comics\"}, {\"id\": 853,...                en   \n",
       "4  [{\"id\": 818, \"name\": \"based on novel\"}, {\"id\":...                en   \n",
       "\n",
       "                             original_title  \\\n",
       "0                                    Avatar   \n",
       "1  Pirates of the Caribbean: At World's End   \n",
       "2                                   Spectre   \n",
       "3                     The Dark Knight Rises   \n",
       "4                               John Carter   \n",
       "\n",
       "                                            overview  popularity  \\\n",
       "0  In the 22nd century, a paraplegic Marine is di...  150.437577   \n",
       "1  Captain Barbossa, long believed to be dead, ha...  139.082615   \n",
       "2  A cryptic message from Bond’s past sends him o...  107.376788   \n",
       "3  Following the death of District Attorney Harve...  112.312950   \n",
       "4  John Carter is a war-weary, former military ca...   43.926995   \n",
       "\n",
       "                                production_companies  \\\n",
       "0  [{\"name\": \"Ingenious Film Partners\", \"id\": 289...   \n",
       "1  [{\"name\": \"Walt Disney Pictures\", \"id\": 2}, {\"...   \n",
       "2  [{\"name\": \"Columbia Pictures\", \"id\": 5}, {\"nam...   \n",
       "3  [{\"name\": \"Legendary Pictures\", \"id\": 923}, {\"...   \n",
       "4        [{\"name\": \"Walt Disney Pictures\", \"id\": 2}]   \n",
       "\n",
       "                                production_countries release_date     revenue  \\\n",
       "0  [{\"iso_3166_1\": \"US\", \"name\": \"United States o...   2009-12-10  2787965087   \n",
       "1  [{\"iso_3166_1\": \"US\", \"name\": \"United States o...   2007-05-19   961000000   \n",
       "2  [{\"iso_3166_1\": \"GB\", \"name\": \"United Kingdom\"...   2015-10-26   880674609   \n",
       "3  [{\"iso_3166_1\": \"US\", \"name\": \"United States o...   2012-07-16  1084939099   \n",
       "4  [{\"iso_3166_1\": \"US\", \"name\": \"United States o...   2012-03-07   284139100   \n",
       "\n",
       "   runtime                                   spoken_languages    status  \\\n",
       "0    162.0  [{\"iso_639_1\": \"en\", \"name\": \"English\"}, {\"iso...  Released   \n",
       "1    169.0           [{\"iso_639_1\": \"en\", \"name\": \"English\"}]  Released   \n",
       "2    148.0  [{\"iso_639_1\": \"fr\", \"name\": \"Fran\\u00e7ais\"},...  Released   \n",
       "3    165.0           [{\"iso_639_1\": \"en\", \"name\": \"English\"}]  Released   \n",
       "4    132.0           [{\"iso_639_1\": \"en\", \"name\": \"English\"}]  Released   \n",
       "\n",
       "                                          tagline  \\\n",
       "0                     Enter the World of Pandora.   \n",
       "1  At the end of the world, the adventure begins.   \n",
       "2                           A Plan No One Escapes   \n",
       "3                                 The Legend Ends   \n",
       "4            Lost in our world, found in another.   \n",
       "\n",
       "                                      title  vote_average  vote_count  \n",
       "0                                    Avatar           7.2       11800  \n",
       "1  Pirates of the Caribbean: At World's End           6.9        4500  \n",
       "2                                   Spectre           6.3        4466  \n",
       "3                     The Dark Knight Rises           7.6        9106  \n",
       "4                               John Carter           6.1        2124  "
      ]
     },
     "execution_count": 10,
     "metadata": {},
     "output_type": "execute_result"
    }
   ],
   "source": [
    "df_movies.head() #keep it\n",
    "# df_movies['production_countries']"
   ]
  },
  {
   "cell_type": "markdown",
   "metadata": {
    "collapsed": true
   },
   "source": [
    "#### Append the scrapped data"
   ]
  },
  {
   "cell_type": "markdown",
   "metadata": {},
   "source": [
    "Append the data we scrapped to the df_awards and pass the column name to the columns parameter when constructing pd.DataFrame Or there will be a runtime error"
   ]
  },
  {
   "cell_type": "code",
   "execution_count": 11,
   "metadata": {
    "collapsed": true
   },
   "outputs": [],
   "source": [
    "# append the data we scrapped to the df_awards\n",
    "data=[]\n",
    "for k,v in best_2016.items():\n",
    "    row = []\n",
    "    row.append(['2016', 89, 'Best Picture', v['is_winner'], v['film_title'], v['statement']])\n",
    "    data.append(row[0])\n",
    "\n",
    "    \n",
    "# pass the column name to the columns!!! Or there will be a runtime error\n",
    "df_awards=df_awards.append(pd.DataFrame(data,columns=['year','ceremony','award','winner','movieName','filmInfo']),ignore_index=True)\n",
    "\n",
    "data_=[]\n",
    "for k,v in best_2017.items():\n",
    "    row = []\n",
    "    row.append(['2017', 90, 'Best Picture', v['is_winner'], v['film_title'], v['statement']])\n",
    "    data.append(row[0])\n",
    "\n",
    "df_awards=df_awards.append(pd.DataFrame(data,columns=['year','ceremony','award','winner','movieName','filmInfo']),ignore_index=True)\n",
    "\n"
   ]
  },
  {
   "cell_type": "markdown",
   "metadata": {},
   "source": [
    "## Data Manipulation\n",
    "#### Join tables \n",
    "Firstly, we join df_credits (from credits.csv) with df_movies (from movies.csv) into df_credits_movies by df_credits.movie_id == df_movies.id\n",
    "Secondly, we join df_credits_movies with Oscar Best Picture nominees dataframe df_picture_awards\n",
    "\n",
    "#### I. join df_credits and df_movies\n",
    "- drop column 'title' in df_credits, since 'title' exists in both dataframe\n",
    "- construct new joined data frame **df_credits_movies** by using inner join to join df_credits and df_movies by df_credits.movie_id == df_movies.id"
   ]
  },
  {
   "cell_type": "code",
   "execution_count": 12,
   "metadata": {
    "collapsed": true
   },
   "outputs": [],
   "source": [
    "if 'title' in df_credits.columns:\n",
    "    df_credits = df_credits.drop('title',axis=1)\n",
    "df_credits_movies = df_credits.set_index('movie_id').join(df_movies.set_index('id'))\n",
    "# df_credits_movies = df_credits.merge(df_movies, left_on = 'movie_id', right_on = 'id', how = 'inner')"
   ]
  },
  {
   "cell_type": "code",
   "execution_count": 13,
   "metadata": {},
   "outputs": [
    {
     "data": {
      "text/plain": [
       "cast                     object\n",
       "crew                     object\n",
       "budget                    int64\n",
       "genres                   object\n",
       "homepage                 object\n",
       "keywords                 object\n",
       "original_language        object\n",
       "original_title           object\n",
       "overview                 object\n",
       "popularity              float64\n",
       "production_companies     object\n",
       "production_countries     object\n",
       "release_date             object\n",
       "revenue                   int64\n",
       "runtime                 float64\n",
       "spoken_languages         object\n",
       "status                   object\n",
       "tagline                  object\n",
       "title                    object\n",
       "vote_average            float64\n",
       "vote_count                int64\n",
       "dtype: object"
      ]
     },
     "execution_count": 13,
     "metadata": {},
     "output_type": "execute_result"
    }
   ],
   "source": [
    "df_credits_movies.dtypes"
   ]
  },
  {
   "cell_type": "markdown",
   "metadata": {},
   "source": [
    "- reset the data types in the dataframe\n",
    "- type of **release_date**: object -> datetime\n",
    "- get the earliest date of **release_date**"
   ]
  },
  {
   "cell_type": "code",
   "execution_count": 14,
   "metadata": {
    "collapsed": true
   },
   "outputs": [],
   "source": [
    "df_credits_movies['release_date'] = pd.to_datetime(df_credits_movies['release_date'])\n",
    "#get the earliest release date from the dataset\n",
    "min_year = min(df_credits_movies['release_date']) #1916-09-04\n",
    "max_year = max(df_credits_movies['release_date']) #2017-02-03"
   ]
  },
  {
   "cell_type": "markdown",
   "metadata": {},
   "source": [
    "- Select movies that are in **Outstanding Picture** or **Best Picture** awards category -> **df_picture_awards**"
   ]
  },
  {
   "cell_type": "code",
   "execution_count": 15,
   "metadata": {
    "collapsed": true
   },
   "outputs": [],
   "source": [
    "#join df_credits_movies and df_awards by movie name (df_credits_movies.title = df_awards.movieName)\n",
    "#before that, extract BEST PICTRUE from the df_awards\n",
    "df_picture_awards = df_awards.loc[df_awards['award'].isin(['Outstanding Picture','Best Picture'])]\n",
    "df_picture_awards.reset_index(drop = True, inplace = True)"
   ]
  },
  {
   "cell_type": "code",
   "execution_count": 16,
   "metadata": {
    "collapsed": true
   },
   "outputs": [],
   "source": [
    "df_credits_movies = df_credits_movies.loc[df_credits_movies['status'].isin(['Released'])]"
   ]
  },
  {
   "cell_type": "markdown",
   "metadata": {},
   "source": [
    "- Replace all the null value in 'winner' column with 1"
   ]
  },
  {
   "cell_type": "code",
   "execution_count": 17,
   "metadata": {
    "collapsed": true
   },
   "outputs": [],
   "source": [
    "# df_picture_awards['winner'].isnull().sum()\n",
    "df_picture_awards['winner'].fillna(1,inplace = True)"
   ]
  },
  {
   "cell_type": "markdown",
   "metadata": {},
   "source": [
    "#### Join table II. join df_picture_awards with df_credits_movies\n",
    "We will use the movieName from df_picture_awards (Oscard awards dataframe) to join with the title (title of movie) from the df_credits_movies (movie information dataframe)\n",
    "- Before joining by movie name, we need to clean the string in movie name by removing puctuation and transforming the string into lowercase."
   ]
  },
  {
   "cell_type": "code",
   "execution_count": 18,
   "metadata": {
    "collapsed": true
   },
   "outputs": [],
   "source": [
    "import re\n",
    "movieName = [re.sub(r'[^\\w\\s]','',x) for x in df_picture_awards['movieName'].str.lower().str.strip().values]\n",
    "title = [re.sub(r'[^\\w\\s]','',x) for x in df_credits_movies['title'].str.lower().str.strip().values]"
   ]
  },
  {
   "cell_type": "code",
   "execution_count": 19,
   "metadata": {
    "collapsed": true
   },
   "outputs": [],
   "source": [
    "#then, change the title in the movie to lower case\n",
    "df_picture_awards.loc[:,'movie_title'] = movieName #change the string to lower case\n",
    "df_credits_movies.loc[:,'movie_title']= title"
   ]
  },
  {
   "cell_type": "markdown",
   "metadata": {},
   "source": [
    "Check the dataframe, we can see the string in movie_title now is valid"
   ]
  },
  {
   "cell_type": "code",
   "execution_count": 20,
   "metadata": {},
   "outputs": [
    {
     "name": "stdout",
     "output_type": "stream",
     "text": [
      "        year  ceremony                award  winner               movieName  \\\n",
      "0  1927/1928         1  Outstanding Picture     1.0       The Caddo Company   \n",
      "1  1927/1928         1  Outstanding Picture     1.0                     Fox   \n",
      "2  1927/1928         1  Outstanding Picture     1.0  Paramount Famous Lasky   \n",
      "3  1928/1929         2  Outstanding Picture     1.0     Feature Productions   \n",
      "4  1928/1929         2  Outstanding Picture     1.0                     Fox   \n",
      "\n",
      "         filmInfo             movie_title  \n",
      "0      The Racket       the caddo company  \n",
      "1      7th Heaven                     fox  \n",
      "2           Wings  paramount famous lasky  \n",
      "3           Alibi     feature productions  \n",
      "4  In Old Arizona                     fox  \n"
     ]
    }
   ],
   "source": [
    "# check the dataframe, we can see the string in movie_title now is valid\n",
    "print(df_picture_awards.head())"
   ]
  },
  {
   "cell_type": "markdown",
   "metadata": {},
   "source": [
    "- Ready to merge the two dataframes now.\n",
    "\n",
    "- Use df_credits_movies (larger data) as right table and df_picture_awards (smaller data) as left table, then use right join. -> **df**"
   ]
  },
  {
   "cell_type": "code",
   "execution_count": 21,
   "metadata": {
    "collapsed": true
   },
   "outputs": [],
   "source": [
    "# join the two tables, merge the data\n",
    "df = df_picture_awards.merge(df_credits_movies, left_on='movie_title', right_on='movie_title', how='right')\n",
    "df = df.reset_index(drop=True)\n",
    "#drop the columns from award table\n",
    "df.drop('homepage',axis = 1, inplace = True)\n",
    "df.drop('year',axis = 1, inplace = True)\n",
    "df.drop('award',axis = 1, inplace = True)\n",
    "df.drop('movieName',axis = 1, inplace = True)\n",
    "df.drop('filmInfo',axis = 1, inplace = True)\n",
    "df.drop('ceremony',axis = 1, inplace = True)\n",
    "df['winner'].fillna(0,inplace=True) #fill NA with 0"
   ]
  },
  {
   "cell_type": "markdown",
   "metadata": {},
   "source": [
    "### Handling Imbalanced Data\n",
    "As we can see from the following graph, the number of non-nominated movies is much higher than the number of nominated movies.\n",
    "There are several approaches of dealing with unbalanced data:\n",
    "- Under-sample: Randomly remove instances of over-represented class\n",
    "- Over-sample: Randomly add copies of under-represented class (sampling with replacement)\n",
    "- Cluster over-represented class into a large number of clusters, and select only one representative from each cluster\n",
    "\n",
    "In this section, we will choose the first approach by sampling from the 0-labeled data. We need to fist get a subset of nominated data, then sample from the non-nominated data, and finally append the sampled data to the subset of nominated data."
   ]
  },
  {
   "cell_type": "code",
   "execution_count": 22,
   "metadata": {},
   "outputs": [
    {
     "data": {
      "text/plain": [
       "<matplotlib.axes._subplots.AxesSubplot at 0x1afd2bd99e8>"
      ]
     },
     "execution_count": 22,
     "metadata": {},
     "output_type": "execute_result"
    },
    {
     "data": {
      "image/png": "[encoded data removed]",
      "text/plain": [
       "<matplotlib.figure.Figure at 0x1afd2a04588>"
      ]
     },
     "metadata": {},
     "output_type": "display_data"
    }
   ],
   "source": [
    "sns.countplot(x='winner', data = df)"
   ]
  },
  {
   "cell_type": "markdown",
   "metadata": {},
   "source": [
    "- Get the number of 0 labeled data, and the number of 1 labeled data\n",
    "- We can see the number of 0-labeled data is 4595, and the number of 1-labeled data is 209, which is much lower than the former one"
   ]
  },
  {
   "cell_type": "code",
   "execution_count": 23,
   "metadata": {},
   "outputs": [
    {
     "name": "stdout",
     "output_type": "stream",
     "text": [
      "4586\n",
      "209\n"
     ]
    }
   ],
   "source": [
    "print(len(df.loc[df['winner'] == 0])) #4594\n",
    "print(len(df.loc[df['winner'] == 1])) #209"
   ]
  },
  {
   "cell_type": "markdown",
   "metadata": {},
   "source": [
    "Let's balance the data by sampling a small subset with replacement from the large data set."
   ]
  },
  {
   "cell_type": "code",
   "execution_count": 24,
   "metadata": {
    "collapsed": true
   },
   "outputs": [],
   "source": [
    "#balance the data\n",
    "df_subset_0 = df.loc[df['winner'] == 0]\n",
    "df_subset_1 = df.loc[df['winner'] == 1]\n",
    "\n",
    "df_subset_0.drop('winner',axis=1,inplace=True)\n",
    "df_subset_1.drop('winner',axis=1,inplace=True)\n",
    "\n",
    "#sample with replacement\n",
    "df_subset_0 = df_subset_0.sample(400) \n",
    "df_subset = pd.concat([df_subset_0,df_subset_1],ignore_index = True)\n",
    "df_new = df_subset.merge(df_picture_awards, left_on = 'movie_title', right_on = 'movie_title', how = 'left')\n",
    "df_new = df_new.fillna(0)"
   ]
  },
  {
   "cell_type": "code",
   "execution_count": 25,
   "metadata": {},
   "outputs": [
    {
     "name": "stdout",
     "output_type": "stream",
     "text": [
      "609\n"
     ]
    }
   ],
   "source": [
    "print(len(df_new))"
   ]
  },
  {
   "cell_type": "markdown",
   "metadata": {},
   "source": [
    "The total length of the dataset now is 609."
   ]
  },
  {
   "cell_type": "code",
   "execution_count": 26,
   "metadata": {},
   "outputs": [
    {
     "data": {
      "text/plain": [
       "<matplotlib.axes._subplots.AxesSubplot at 0x1afd2e5c9e8>"
      ]
     },
     "execution_count": 26,
     "metadata": {},
     "output_type": "execute_result"
    },
    {
     "data": {
      "image/png": "[encoded data removed]",
      "text/plain": [
       "<matplotlib.figure.Figure at 0x1afd2cceeb8>"
      ]
     },
     "metadata": {},
     "output_type": "display_data"
    }
   ],
   "source": [
    "sns.countplot(x='winner', data = df_new)"
   ]
  },
  {
   "cell_type": "markdown",
   "metadata": {},
   "source": [
    "The histogram shows that the dataset is more balanced now."
   ]
  },
  {
   "cell_type": "markdown",
   "metadata": {},
   "source": [
    "### Check The Null Value"
   ]
  },
  {
   "cell_type": "code",
   "execution_count": 27,
   "metadata": {},
   "outputs": [
    {
     "data": {
      "text/plain": [
       "movie_title             0\n",
       "cast                    0\n",
       "crew                    0\n",
       "budget                  0\n",
       "genres                  0\n",
       "keywords                0\n",
       "original_language       0\n",
       "original_title          0\n",
       "overview                0\n",
       "popularity              0\n",
       "production_companies    0\n",
       "production_countries    0\n",
       "release_date            0\n",
       "revenue                 0\n",
       "runtime                 0\n",
       "spoken_languages        0\n",
       "status                  0\n",
       "tagline                 0\n",
       "title                   0\n",
       "vote_average            0\n",
       "vote_count              0\n",
       "year                    0\n",
       "ceremony                0\n",
       "award                   0\n",
       "winner                  0\n",
       "movieName               0\n",
       "filmInfo                0\n",
       "dtype: int64"
      ]
     },
     "execution_count": 27,
     "metadata": {},
     "output_type": "execute_result"
    }
   ],
   "source": [
    "#check number of null values in the dataset\n",
    "df_new.isnull().sum()"
   ]
  },
  {
   "cell_type": "markdown",
   "metadata": {},
   "source": [
    "Luckily, we don't have null value in this dataset. So we are ready to move to the next stage.\n",
    "\n",
    "If you are interested in how to deal with missing value, here's a very good tutorial that you can refer to.(https://machinelearningmastery.com/handle-missing-data-python/)"
   ]
  },
  {
   "cell_type": "markdown",
   "metadata": {},
   "source": [
    "## Exploratory Data Aalysis\n",
    "\n",
    "We can do some basic EDA here to get a general sense of the data. For example, we can look at the correlation between different numeric columns, or we can draw stacked bar chart to see which genre has a higher number of nominations. Also we can draw the density curve of a variable or multi variables. Except for the following EDA, you can also explore more by yourself.\n",
    "In this section, we will do the following things:\n",
    "- check the data types (dyptes) of the columns in dataframe\n",
    "- conduct correlation analysis on numeric data\n",
    "- draw density curve\n",
    "- draw stacked bar chart "
   ]
  },
  {
   "cell_type": "code",
   "execution_count": 28,
   "metadata": {},
   "outputs": [
    {
     "data": {
      "text/plain": [
       "movie_title                     object\n",
       "cast                            object\n",
       "crew                            object\n",
       "budget                           int64\n",
       "genres                          object\n",
       "keywords                        object\n",
       "original_language               object\n",
       "original_title                  object\n",
       "overview                        object\n",
       "popularity                     float64\n",
       "production_companies            object\n",
       "production_countries            object\n",
       "release_date            datetime64[ns]\n",
       "revenue                          int64\n",
       "runtime                        float64\n",
       "spoken_languages                object\n",
       "status                          object\n",
       "tagline                         object\n",
       "title                           object\n",
       "vote_average                   float64\n",
       "vote_count                       int64\n",
       "year                            object\n",
       "ceremony                       float64\n",
       "award                           object\n",
       "winner                         float64\n",
       "movieName                       object\n",
       "filmInfo                        object\n",
       "dtype: object"
      ]
     },
     "execution_count": 28,
     "metadata": {},
     "output_type": "execute_result"
    }
   ],
   "source": [
    "# check the data types and select numeric variables\n",
    "df_new.dtypes"
   ]
  },
  {
   "cell_type": "markdown",
   "metadata": {},
   "source": [
    "- Correlation heat map"
   ]
  },
  {
   "cell_type": "code",
   "execution_count": 29,
   "metadata": {},
   "outputs": [
    {
     "data": {
      "image/png": "[encoded data removed]",
      "text/plain": [
       "<matplotlib.figure.Figure at 0x1afd2bd9278>"
      ]
     },
     "metadata": {},
     "output_type": "display_data"
    }
   ],
   "source": [
    "# correlation analysis\n",
    "g = sns.heatmap(df_new[['budget','popularity','revenue','runtime','vote_average','vote_count']].corr(),cmap='RdYlGn',annot=True)"
   ]
  },
  {
   "cell_type": "markdown",
   "metadata": {},
   "source": [
    "- Density Curve"
   ]
  },
  {
   "cell_type": "code",
   "execution_count": 30,
   "metadata": {},
   "outputs": [
    {
     "data": {
      "image/png": "[encoded data removed]",
      "text/plain": [
       "<matplotlib.figure.Figure at 0x1afd3030048>"
      ]
     },
     "metadata": {},
     "output_type": "display_data"
    }
   ],
   "source": [
    "# budget\n",
    "# density curve\n",
    "budget0 = df_new[df_new['winner'] == 0]['budget']\n",
    "budget1 = df_new[df_new['winner'] == 1]['budget']\n",
    "\n",
    "g = sns.kdeplot(budget0, legend = True, shade=True, color='r',label = 'non-nominated')\n",
    "g = sns.kdeplot(budget1, legend = True, shade=True, color='b', label = 'nonminated')"
   ]
  },
  {
   "cell_type": "code",
   "execution_count": 31,
   "metadata": {},
   "outputs": [
    {
     "data": {
      "image/png": "[encoded data removed]",
      "text/plain": [
       "<matplotlib.figure.Figure at 0x1afd31817f0>"
      ]
     },
     "metadata": {},
     "output_type": "display_data"
    }
   ],
   "source": [
    "# revenue\n",
    "# density curve\n",
    "revenue0 = df_new[df_new['winner'] == 0]['revenue']\n",
    "revenue1 = df_new[df_new['winner'] == 1]['revenue']\n",
    "\n",
    "g = sns.kdeplot(revenue0, legend = True, shade=True, color='r',label = 'non-nominated')\n",
    "g = sns.kdeplot(revenue1, legend = True, shade=True, color='b', label = 'nonminated')"
   ]
  },
  {
   "cell_type": "code",
   "execution_count": 32,
   "metadata": {},
   "outputs": [
    {
     "data": {
      "image/png": "[encoded data removed]",
      "text/plain": [
       "<matplotlib.figure.Figure at 0x1afd53c1400>"
      ]
     },
     "metadata": {},
     "output_type": "display_data"
    }
   ],
   "source": [
    "# vote count\n",
    "vc0 = df_new[df_new['winner'] == 0]['vote_count']\n",
    "vc1 = df_new[df_new['winner'] == 1]['vote_count']\n",
    "\n",
    "g = sns.kdeplot(vc0, legend = True, shade=True, color='r',label = 'non-nominated')\n",
    "g = sns.kdeplot(vc1, legend = True, shade=True, color='b', label = 'nonminated')"
   ]
  },
  {
   "cell_type": "code",
   "execution_count": 33,
   "metadata": {},
   "outputs": [
    {
     "data": {
      "image/png": "[encoded data removed]",
      "text/plain": [
       "<matplotlib.figure.Figure at 0x1afd5434c88>"
      ]
     },
     "metadata": {},
     "output_type": "display_data"
    }
   ],
   "source": [
    "# vote average\n",
    "va0 = df_new[df_new['winner'] == 0]['vote_average']\n",
    "va1 = df_new[df_new['winner'] == 1]['vote_average']\n",
    "\n",
    "g = sns.kdeplot(va0, legend = True, shade=True, color='r',label = 'non-nominated')\n",
    "g = sns.kdeplot(va1, legend = True, shade=True, color='b', label = 'nonminated')"
   ]
  },
  {
   "cell_type": "code",
   "execution_count": 34,
   "metadata": {},
   "outputs": [
    {
     "data": {
      "image/png": "[encoded data removed]",
      "text/plain": [
       "<matplotlib.figure.Figure at 0x1afd304c198>"
      ]
     },
     "metadata": {},
     "output_type": "display_data"
    }
   ],
   "source": [
    "# popularity\n",
    "popularity0 = df_new[df_new['winner'] == 0]['popularity']\n",
    "popularity1 = df_new[df_new['winner'] == 1]['popularity']\n",
    "\n",
    "g = sns.kdeplot(popularity0, legend = True, shade=True, color='r',label = 'non-nominated')\n",
    "g = sns.kdeplot(popularity1, legend = True, shade=True, color='b', label = 'nonminated')"
   ]
  },
  {
   "cell_type": "code",
   "execution_count": 35,
   "metadata": {},
   "outputs": [
    {
     "data": {
      "image/png": "[encoded data removed]",
      "text/plain": [
       "<matplotlib.figure.Figure at 0x1afd542bcf8>"
      ]
     },
     "metadata": {},
     "output_type": "display_data"
    }
   ],
   "source": [
    "#runtime\n",
    "runtime0 = df_new[df_new['winner'] == 0]['runtime']\n",
    "runtime1 = df_new[df_new['winner'] == 1]['runtime']\n",
    "\n",
    "g = sns.kdeplot(runtime0, legend = True, shade=True, color='r', label = 'non-nominated')\n",
    "g = sns.kdeplot(runtime1, legend = True, shade=True, color='b', label = 'nonminated')"
   ]
  },
  {
   "cell_type": "markdown",
   "metadata": {},
   "source": [
    "- Stacked bar char for genres"
   ]
  },
  {
   "cell_type": "code",
   "execution_count": 36,
   "metadata": {
    "collapsed": true
   },
   "outputs": [],
   "source": [
    "#genres\n",
    "#clean the data\n",
    "genres_name0 = {}\n",
    "genres_name1 = {}\n",
    "genres_set = set()\n",
    "for i in range(len(df_new)):\n",
    "    genres = json.loads(df_new.loc[i,'genres'])\n",
    "    for it in genres:\n",
    "        genres_set.add(it['name'])\n",
    "        if df_new.loc[i,'winner'] == 0:\n",
    "            if it['name'] not in genres_name0:\n",
    "                genres_name0[it['name']] = 1\n",
    "            else:\n",
    "                genres_name0[it['name']] += 1\n",
    "        if df_new.loc[i,'winner'] == 1:\n",
    "            if it['name'] not in genres_name1:\n",
    "                genres_name1[it['name']] = 1\n",
    "            else:\n",
    "                genres_name1[it['name']] += 1\n",
    "\n",
    "genres_array0=[]\n",
    "genres_array1=[]\n",
    "for g in genres_set:\n",
    "    if g in genres_name0:\n",
    "        genres_array0.append(genres_name0[g])\n",
    "    else:\n",
    "        genres_array0.append(0)\n",
    "    if g in genres_name1:\n",
    "        genres_array1.append(genres_name1[g])\n",
    "    else:\n",
    "        genres_array1.append(0)\n",
    "\n",
    "\n",
    "        \n",
    "genres_all = []\n",
    "genres_all.append(np.array(genres_array0)/sum(genres_array0))\n",
    "genres_all.append(np.array(genres_array1)/sum(genres_array1))"
   ]
  },
  {
   "cell_type": "code",
   "execution_count": 37,
   "metadata": {},
   "outputs": [
    {
     "name": "stdout",
     "output_type": "stream",
     "text": [
      "   Adventure   History  Documentary    Comedy       War   Fantasy    Family  \\\n",
      "0   0.068073  0.019175     0.010547  0.145733  0.007670  0.039310  0.046021   \n",
      "1   0.054326  0.072435     0.000000  0.064386  0.044266  0.028169  0.020121   \n",
      "\n",
      "      Music   Foreign     Drama   Romance  Animation    Action   Mystery  \\\n",
      "0  0.022052  0.003835  0.189837  0.073826   0.023011  0.087248  0.027804   \n",
      "1  0.020121  0.000000  0.364185  0.096579   0.004024  0.044266  0.020121   \n",
      "\n",
      "     Horror   Western  TV Movie  Science Fiction  Thriller     Crime  \n",
      "0  0.035475  0.003835  0.000959         0.043145  0.100671  0.051774  \n",
      "1  0.004024  0.012072  0.000000         0.018109  0.078471  0.054326  \n"
     ]
    }
   ],
   "source": [
    "df_genres = pd.DataFrame(genres_all, columns=list(genres_set))\n",
    "print(df_genres.head())"
   ]
  },
  {
   "cell_type": "code",
   "execution_count": 38,
   "metadata": {},
   "outputs": [
    {
     "data": {
      "text/plain": [
       "<matplotlib.legend.Legend at 0x1afd6a6a588>"
      ]
     },
     "execution_count": 38,
     "metadata": {},
     "output_type": "execute_result"
    },
    {
     "data": {
      "image/png": "[encoded data removed]",
      "text/plain": [
       "<matplotlib.figure.Figure at 0x1afd549ef60>"
      ]
     },
     "metadata": {},
     "output_type": "display_data"
    }
   ],
   "source": [
    "# draw stacked bar chart\n",
    "N = len(df_genres.columns)\n",
    "ind = np.arange(N)\n",
    "width = 0.5\n",
    "\n",
    "plt.figure(figsize=(20,10))\n",
    "p1 = plt.bar(ind, df_genres.loc[[0]].values[0], width, color='#d62728')\n",
    "p2 = plt.bar(ind, df_genres.loc[[1]].values[0], width, bottom=df_genres.loc[[0]].values[0])\n",
    "\n",
    "plt.ylabel('percentage (#genres/#movies)')\n",
    "plt.title('Percentage by genres and nominations')\n",
    "plt.xticks(ind,df_genres.columns)\n",
    "plt.legend((p1[0],p2[0]),('Non-nominees','nominees'))"
   ]
  },
  {
   "cell_type": "markdown",
   "metadata": {},
   "source": [
    "### Conculsion\n",
    "- From the correlation heat map, we can find that the popularity and vote_count, revenue and vote_count, popularity and vote_count is highly correlated.\n",
    "- In order to understand the meaning of density curve, let's look at different shapes of distribution and the interpretation of each first.\n",
    "![image.png](https://i.stack.imgur.com/TOsq9.png)\n",
    "Some findings from the density curve:\n",
    "- Nominated movies tend to have higher budget and relatively higher revenue.\n",
    "- The average vote for nominated movies is much higher than the non-nominated movies.\n",
    "(These findings seems obvious)\n",
    "- Findings from stacked bar chart: In \"Drama\" and \"History\" genres, nominated movies have a higher percentage than non-nominated movies.\n"
   ]
  },
  {
   "cell_type": "markdown",
   "metadata": {},
   "source": [
    "## Feature Engineering\n",
    "\n",
    "- Since many columns such as \"crew\", \"cast\" contain information in json format, we need to extract useful information from the columns and then perform one hot encoding.\n",
    "- We will transform our dataset into a all numeric matrix so that we can feed the data into our machine learning model.\n",
    "- To look at the structure of column (eg.\"cast\"), we can use: df.loc[0,'cast']\n"
   ]
  },
  {
   "cell_type": "code",
   "execution_count": 39,
   "metadata": {
    "collapsed": true
   },
   "outputs": [],
   "source": [
    "import json\n",
    "def feature_engineering(column_name, df, json_name):\n",
    "    \"\"\"\n",
    "    Args:\n",
    "        column_name: the column name in the dataframe that contains a json file that needs to conduct feature engineering on\n",
    "        df: dataframe that perform feature engineering on\n",
    "        json_name: name in the json file that we want to extract\n",
    "    \n",
    "    Returns: new dataframe after feature engineering\n",
    "    \"\"\"\n",
    "    \n",
    "    name = {}\n",
    "\n",
    "    for item in df[column_name]:\n",
    "        group = json.loads(item)\n",
    "        for it in group:\n",
    "            if it[json_name] not in name:\n",
    "                name[it[json_name]] = 1\n",
    "            else:\n",
    "                name[it[json_name]] += 1\n",
    "    \n",
    "    final = {}\n",
    "    index = 0\n",
    "    for k,v in name.items():\n",
    "        if v > 1:\n",
    "            final[k] = index\n",
    "            index += 1\n",
    "    np_item = np.zeros((len(df),len(final)))\n",
    "    item_dict = {}\n",
    "    row = 0\n",
    "    for item in df[column_name]:\n",
    "        group = json.loads(item)\n",
    "        for it in group:\n",
    "            if it[json_name] in final:\n",
    "                index = final[it[json_name]]\n",
    "                np_item[row][index] = 1\n",
    "        row += 1\n",
    "\n",
    "    df_item = pd.DataFrame(np_item, columns = list(final.keys()))\n",
    "    df_output = pd.concat([df,df_item],axis = 1)\n",
    "    \n",
    "    return df_output\n"
   ]
  },
  {
   "cell_type": "code",
   "execution_count": 40,
   "metadata": {
    "collapsed": true
   },
   "outputs": [],
   "source": [
    "df2 = feature_engineering(\"cast\", df_new, \"name\")\n",
    "df2 = df2.drop('cast', axis = 1) #drop the column after feature engineering"
   ]
  },
  {
   "cell_type": "code",
   "execution_count": 41,
   "metadata": {
    "collapsed": true
   },
   "outputs": [],
   "source": [
    "# director\n",
    "crew_name = {}\n",
    "\n",
    "for item in df2['crew']:\n",
    "    crew = json.loads(item)\n",
    "    for it in crew:\n",
    "        if it['job'] == 'Director':\n",
    "            if it['name'] not in crew_name:\n",
    "                crew_name[it['name']] = 1\n",
    "            else:\n",
    "                crew_name[it['name']]+=1\n",
    "\n",
    "\n",
    "# set the appear tims for actors\n",
    "final_crew = {}\n",
    "index = 0\n",
    "for k,v in crew_name.items():\n",
    "    if v > 0:\n",
    "        final_crew[k] = index\n",
    "        index += 1\n",
    "# print(len(final_crew))\n",
    "\n",
    "np_crew = np.zeros((len(df2), len(final_crew)))\n",
    "row = 0\n",
    "for item in df2['crew']:\n",
    "    crew = json.loads(item)\n",
    "    for it in crew:\n",
    "        if it['job'] == 'Director':\n",
    "            if it['name'] in final_crew:\n",
    "                index = final_crew[it['name']]\n",
    "                np_crew[row][index] = 1\n",
    "    row += 1\n",
    "\n",
    "df_crew = pd.DataFrame(np_crew, columns = list(final_crew.keys()))\n",
    "            \n",
    "df3 = pd.concat([df2, df_crew], axis = 1)\n",
    "# print(df.shape)"
   ]
  },
  {
   "cell_type": "code",
   "execution_count": 42,
   "metadata": {
    "collapsed": true
   },
   "outputs": [],
   "source": [
    "df3=df3.drop(['crew'],axis=1)"
   ]
  },
  {
   "cell_type": "code",
   "execution_count": 43,
   "metadata": {
    "collapsed": true
   },
   "outputs": [],
   "source": [
    "#genres\n",
    "df4 = feature_engineering(\"genres\", df3, \"name\")"
   ]
  },
  {
   "cell_type": "code",
   "execution_count": 44,
   "metadata": {
    "collapsed": true
   },
   "outputs": [],
   "source": [
    "df4 = df4.drop(['genres'], axis = 1)"
   ]
  },
  {
   "cell_type": "code",
   "execution_count": 45,
   "metadata": {
    "collapsed": true
   },
   "outputs": [],
   "source": [
    "#keywords\n",
    "df5 = feature_engineering('keywords', df4, 'name')\n",
    "df5 = df5.drop(['keywords'], axis = 1)"
   ]
  },
  {
   "cell_type": "code",
   "execution_count": 46,
   "metadata": {
    "collapsed": true
   },
   "outputs": [],
   "source": [
    "#production_companies\n",
    "df6 = feature_engineering('production_companies',df5,'name')\n",
    "df6 = df6.drop(['production_companies'],axis=1)"
   ]
  },
  {
   "cell_type": "code",
   "execution_count": 47,
   "metadata": {
    "collapsed": true
   },
   "outputs": [],
   "source": [
    "#production_countries\n",
    "df7 = feature_engineering('production_countries',df6,'name')\n",
    "df7 = df7.drop(['production_countries'],axis=1)"
   ]
  },
  {
   "cell_type": "code",
   "execution_count": 48,
   "metadata": {
    "collapsed": true
   },
   "outputs": [],
   "source": [
    "#spoken_languages\n",
    "df8 = feature_engineering('spoken_languages',df7,'iso_639_1')\n",
    "df8 = df8.drop(['spoken_languages'],axis=1)"
   ]
  },
  {
   "cell_type": "markdown",
   "metadata": {},
   "source": [
    "Drop the columns that will not be used in the training."
   ]
  },
  {
   "cell_type": "code",
   "execution_count": 49,
   "metadata": {
    "collapsed": true
   },
   "outputs": [],
   "source": [
    "df_clean = df8.drop([\"movie_title\",\"original_title\",\"overview\",\"tagline\",'title','original_language','status','release_date','movieName','filmInfo','award'],axis=1)"
   ]
  },
  {
   "cell_type": "code",
   "execution_count": 50,
   "metadata": {},
   "outputs": [
    {
     "data": {
      "text/html": [
       "<div>\n",
       "<style>\n",
       "    .dataframe thead tr:only-child th {\n",
       "        text-align: right;\n",
       "    }\n",
       "\n",
       "    .dataframe thead th {\n",
       "        text-align: left;\n",
       "    }\n",
       "\n",
       "    .dataframe tbody tr th {\n",
       "        vertical-align: top;\n",
       "    }\n",
       "</style>\n",
       "<table border=\"1\" class=\"dataframe\">\n",
       "  <thead>\n",
       "    <tr style=\"text-align: right;\">\n",
       "      <th></th>\n",
       "      <th>budget</th>\n",
       "      <th>popularity</th>\n",
       "      <th>revenue</th>\n",
       "      <th>runtime</th>\n",
       "      <th>vote_average</th>\n",
       "      <th>vote_count</th>\n",
       "      <th>year</th>\n",
       "      <th>ceremony</th>\n",
       "      <th>winner</th>\n",
       "      <th>Meryl Streep</th>\n",
       "      <th>...</th>\n",
       "      <th>tr</th>\n",
       "      <th>pt</th>\n",
       "      <th>yi</th>\n",
       "      <th>af</th>\n",
       "      <th>pl</th>\n",
       "      <th>cs</th>\n",
       "      <th>sv</th>\n",
       "      <th>la</th>\n",
       "      <th>ga</th>\n",
       "      <th>fa</th>\n",
       "    </tr>\n",
       "  </thead>\n",
       "  <tbody>\n",
       "    <tr>\n",
       "      <th>0</th>\n",
       "      <td>52000000</td>\n",
       "      <td>30.780599</td>\n",
       "      <td>609841637</td>\n",
       "      <td>108.0</td>\n",
       "      <td>6.4</td>\n",
       "      <td>1386</td>\n",
       "      <td>0</td>\n",
       "      <td>0.0</td>\n",
       "      <td>0.0</td>\n",
       "      <td>1.0</td>\n",
       "      <td>...</td>\n",
       "      <td>0.0</td>\n",
       "      <td>0.0</td>\n",
       "      <td>0.0</td>\n",
       "      <td>0.0</td>\n",
       "      <td>0.0</td>\n",
       "      <td>0.0</td>\n",
       "      <td>0.0</td>\n",
       "      <td>0.0</td>\n",
       "      <td>0.0</td>\n",
       "      <td>0.0</td>\n",
       "    </tr>\n",
       "    <tr>\n",
       "      <th>1</th>\n",
       "      <td>0</td>\n",
       "      <td>9.572705</td>\n",
       "      <td>15</td>\n",
       "      <td>140.0</td>\n",
       "      <td>7.4</td>\n",
       "      <td>133</td>\n",
       "      <td>0</td>\n",
       "      <td>0.0</td>\n",
       "      <td>0.0</td>\n",
       "      <td>0.0</td>\n",
       "      <td>...</td>\n",
       "      <td>0.0</td>\n",
       "      <td>0.0</td>\n",
       "      <td>0.0</td>\n",
       "      <td>0.0</td>\n",
       "      <td>0.0</td>\n",
       "      <td>0.0</td>\n",
       "      <td>0.0</td>\n",
       "      <td>0.0</td>\n",
       "      <td>0.0</td>\n",
       "      <td>0.0</td>\n",
       "    </tr>\n",
       "    <tr>\n",
       "      <th>2</th>\n",
       "      <td>12500000</td>\n",
       "      <td>11.828068</td>\n",
       "      <td>49002684</td>\n",
       "      <td>100.0</td>\n",
       "      <td>6.0</td>\n",
       "      <td>210</td>\n",
       "      <td>0</td>\n",
       "      <td>0.0</td>\n",
       "      <td>0.0</td>\n",
       "      <td>0.0</td>\n",
       "      <td>...</td>\n",
       "      <td>0.0</td>\n",
       "      <td>0.0</td>\n",
       "      <td>0.0</td>\n",
       "      <td>0.0</td>\n",
       "      <td>0.0</td>\n",
       "      <td>0.0</td>\n",
       "      <td>0.0</td>\n",
       "      <td>0.0</td>\n",
       "      <td>0.0</td>\n",
       "      <td>0.0</td>\n",
       "    </tr>\n",
       "    <tr>\n",
       "      <th>3</th>\n",
       "      <td>30000000</td>\n",
       "      <td>27.230493</td>\n",
       "      <td>152427960</td>\n",
       "      <td>131.0</td>\n",
       "      <td>6.0</td>\n",
       "      <td>506</td>\n",
       "      <td>0</td>\n",
       "      <td>0.0</td>\n",
       "      <td>0.0</td>\n",
       "      <td>0.0</td>\n",
       "      <td>...</td>\n",
       "      <td>0.0</td>\n",
       "      <td>0.0</td>\n",
       "      <td>0.0</td>\n",
       "      <td>0.0</td>\n",
       "      <td>0.0</td>\n",
       "      <td>0.0</td>\n",
       "      <td>0.0</td>\n",
       "      <td>0.0</td>\n",
       "      <td>0.0</td>\n",
       "      <td>0.0</td>\n",
       "    </tr>\n",
       "    <tr>\n",
       "      <th>4</th>\n",
       "      <td>0</td>\n",
       "      <td>4.805651</td>\n",
       "      <td>0</td>\n",
       "      <td>97.0</td>\n",
       "      <td>6.7</td>\n",
       "      <td>99</td>\n",
       "      <td>0</td>\n",
       "      <td>0.0</td>\n",
       "      <td>0.0</td>\n",
       "      <td>0.0</td>\n",
       "      <td>...</td>\n",
       "      <td>0.0</td>\n",
       "      <td>0.0</td>\n",
       "      <td>0.0</td>\n",
       "      <td>0.0</td>\n",
       "      <td>0.0</td>\n",
       "      <td>0.0</td>\n",
       "      <td>0.0</td>\n",
       "      <td>0.0</td>\n",
       "      <td>0.0</td>\n",
       "      <td>0.0</td>\n",
       "    </tr>\n",
       "  </tbody>\n",
       "</table>\n",
       "<p>5 rows × 3779 columns</p>\n",
       "</div>"
      ],
      "text/plain": [
       "     budget  popularity    revenue  runtime  vote_average  vote_count year  \\\n",
       "0  52000000   30.780599  609841637    108.0           6.4        1386    0   \n",
       "1         0    9.572705         15    140.0           7.4         133    0   \n",
       "2  12500000   11.828068   49002684    100.0           6.0         210    0   \n",
       "3  30000000   27.230493  152427960    131.0           6.0         506    0   \n",
       "4         0    4.805651          0     97.0           6.7          99    0   \n",
       "\n",
       "   ceremony  winner  Meryl Streep ...    tr   pt   yi   af   pl   cs   sv  \\\n",
       "0       0.0     0.0           1.0 ...   0.0  0.0  0.0  0.0  0.0  0.0  0.0   \n",
       "1       0.0     0.0           0.0 ...   0.0  0.0  0.0  0.0  0.0  0.0  0.0   \n",
       "2       0.0     0.0           0.0 ...   0.0  0.0  0.0  0.0  0.0  0.0  0.0   \n",
       "3       0.0     0.0           0.0 ...   0.0  0.0  0.0  0.0  0.0  0.0  0.0   \n",
       "4       0.0     0.0           0.0 ...   0.0  0.0  0.0  0.0  0.0  0.0  0.0   \n",
       "\n",
       "    la   ga   fa  \n",
       "0  0.0  0.0  0.0  \n",
       "1  0.0  0.0  0.0  \n",
       "2  0.0  0.0  0.0  \n",
       "3  0.0  0.0  0.0  \n",
       "4  0.0  0.0  0.0  \n",
       "\n",
       "[5 rows x 3779 columns]"
      ]
     },
     "execution_count": 50,
     "metadata": {},
     "output_type": "execute_result"
    }
   ],
   "source": [
    "df_clean.head()"
   ]
  },
  {
   "cell_type": "markdown",
   "metadata": {},
   "source": [
    "## Model Training\n",
    "- Split the data into training set and testing set. A useful tutorial [here](https://towardsdatascience.com/pca-using-python-scikit-learn-e653f8989e60) for reference. \n",
    "- Since we have 3761 features in total, and only 609 rows, we will do PCA\n",
    "- Use logistic regression to build the classifier\n",
    "\n",
    "In the following code, use **train_test_split()** method in skitlearn"
   ]
  },
  {
   "cell_type": "code",
   "execution_count": 51,
   "metadata": {
    "collapsed": true
   },
   "outputs": [],
   "source": [
    "# split\n",
    "X = df_clean[df_clean.columns.difference(['winner'])]\n",
    "# X = StandardScaler().fit_transform(X)\n",
    "y = df_clean['winner']\n",
    "from sklearn.model_selection import train_test_split\n",
    "# test_size: what proportion of original data is used for test set\n",
    "X_train, X_test, y_train, y_test = train_test_split(X, y, test_size=1/7.0, random_state=0)"
   ]
  },
  {
   "cell_type": "markdown",
   "metadata": {},
   "source": [
    "Since PCA will be affected by scale, we will need to scale the data before doing PCA. We can transfrom the data to unit scale (0 mean, 1 variance). **StandardScaler()** method in skitlearn can help to standardize the value. \n",
    "Notice we will **fit** on the **training set only** then apply **transfrom** to both the **training** set and the **test** set."
   ]
  },
  {
   "cell_type": "code",
   "execution_count": 52,
   "metadata": {
    "collapsed": true
   },
   "outputs": [],
   "source": [
    "from sklearn.preprocessing import StandardScaler\n",
    "scaler = StandardScaler()\n",
    "# Fit on training set only.\n",
    "scaler.fit(X_train)\n",
    "# Apply transform to both the training set and the test set.\n",
    "X_train = scaler.transform(X_train)\n",
    "X_test = scaler.transform(X_test)"
   ]
  },
  {
   "cell_type": "markdown",
   "metadata": {},
   "source": [
    "In the following code, we choose 0.95 as the parameters in PCA(), which means 0.95 variance in the features will be retained."
   ]
  },
  {
   "cell_type": "code",
   "execution_count": 53,
   "metadata": {
    "collapsed": true
   },
   "outputs": [],
   "source": [
    "from sklearn.decomposition import PCA\n",
    "pca = PCA(0.95)\n",
    "fit = pca.fit(X_train)\n",
    "\n",
    "X_train = pca.transform(X_train)\n",
    "X_test = pca.transform(X_test)\n",
    "# pca = PCA(n_components = 3)\n",
    "# fit = pca.fit_transform(X)\n",
    "# fit2 = pca.fit(X)\n",
    "# print(\"Explained Variance: %s\" % pca.explained_variance_ratio_) \n",
    "# print(fit)\n"
   ]
  },
  {
   "cell_type": "markdown",
   "metadata": {},
   "source": [
    "Use the Logistic Regression methond in skitlearn. Check the [document](http://scikit-learn.org/stable/modules/generated/sklearn.linear_model.LogisticRegression.html) for details."
   ]
  },
  {
   "cell_type": "code",
   "execution_count": 54,
   "metadata": {
    "collapsed": true
   },
   "outputs": [],
   "source": [
    "from sklearn.linear_model import LogisticRegression"
   ]
  },
  {
   "cell_type": "markdown",
   "metadata": {},
   "source": [
    "- Step I: Create a logistic regression model, pass the appropriate algorithm into the solver."
   ]
  },
  {
   "cell_type": "code",
   "execution_count": 55,
   "metadata": {
    "collapsed": true
   },
   "outputs": [],
   "source": [
    "# all parameters not specified are set to their defaults\n",
    "# For small datasets, ‘liblinear’ is a good choice\n",
    "logisticRegr = LogisticRegression(solver = 'liblinear')"
   ]
  },
  {
   "cell_type": "markdown",
   "metadata": {},
   "source": [
    "- Step II: Train the model on the data"
   ]
  },
  {
   "cell_type": "code",
   "execution_count": 56,
   "metadata": {},
   "outputs": [
    {
     "data": {
      "text/plain": [
       "LogisticRegression(C=1.0, class_weight=None, dual=False, fit_intercept=True,\n",
       "          intercept_scaling=1, max_iter=100, multi_class='ovr', n_jobs=1,\n",
       "          penalty='l2', random_state=None, solver='liblinear', tol=0.0001,\n",
       "          verbose=0, warm_start=False)"
      ]
     },
     "execution_count": 56,
     "metadata": {},
     "output_type": "execute_result"
    }
   ],
   "source": [
    "logisticRegr.fit(X_train, y_train)"
   ]
  },
  {
   "cell_type": "markdown",
   "metadata": {},
   "source": [
    "- Step III: Predict the result on test set."
   ]
  },
  {
   "cell_type": "code",
   "execution_count": 57,
   "metadata": {},
   "outputs": [
    {
     "name": "stdout",
     "output_type": "stream",
     "text": [
      "[ 0.  1.  1.  0.  0.  0.  0.  0.  0.  1.  0.  1.  0.  0.  1.  1.  1.  1.\n",
      "  1.  1.  0.  0.  0.  1.  1.  1.  0.  0.  0.  0.  0.  0.  0.  0.  0.  1.\n",
      "  0.  0.  0.  0.  0.  0.  0.  0.  1.  0.  1.  0.  0.  1.  0.  0.  1.  0.\n",
      "  0.  0.  1.  0.  0.  0.  0.  0.  1.  0.  1.  0.  0.  0.  1.  1.  1.  0.\n",
      "  1.  0.  0.  0.  0.  1.  1.  0.  1.  0.  1.  1.  0.  0.  1.]\n",
      "Int64Index([576,  52, 531, 345,  55,  62, 348, 304, 206, 408, 306, 492, 181,\n",
      "            357, 418, 433, 443, 590, 467, 548,  48, 233, 242, 482, 187, 505,\n",
      "            205, 172, 210, 311, 346, 369, 395, 222, 103, 432, 463, 530, 435,\n",
      "            319, 245, 194,  14, 338, 607, 484, 587, 358,   1, 439, 339, 390,\n",
      "            552, 127, 412, 190, 372, 361,   8, 193, 122, 279, 400,  17, 424,\n",
      "             21, 250,  85, 455, 178, 440, 303, 602, 246,  37, 225, 378,  34,\n",
      "            564,  64, 497, 391, 567, 318, 170, 491, 597],\n",
      "           dtype='int64')\n"
     ]
    }
   ],
   "source": [
    "# Predict for One Observation (image)\n",
    "predicted = logisticRegr.predict(X_test)\n",
    "print(logisticRegr.predict(X_test))\n",
    "print(y_test.index)\n",
    "# df8['movie_title'][y_test.index]"
   ]
  },
  {
   "cell_type": "markdown",
   "metadata": {},
   "source": [
    "- Step IV: Performance evaluation\n",
    "\n",
    "Print the accuracy of the logistic regression. "
   ]
  },
  {
   "cell_type": "code",
   "execution_count": 58,
   "metadata": {},
   "outputs": [
    {
     "data": {
      "text/plain": [
       "0.85057471264367812"
      ]
     },
     "execution_count": 58,
     "metadata": {},
     "output_type": "execute_result"
    }
   ],
   "source": [
    "logisticRegr.score(X_test, y_test)"
   ]
  },
  {
   "cell_type": "markdown",
   "metadata": {},
   "source": [
    "Accuracy might not be the best metrics for evaluation. We can calculate other metrics such as sensitivity (recall) based on the [confusion matrix](http://scikit-learn.org/stable/modules/generated/sklearn.metrics.confusion_matrix.html)."
   ]
  },
  {
   "cell_type": "code",
   "execution_count": 59,
   "metadata": {},
   "outputs": [
    {
     "name": "stdout",
     "output_type": "stream",
     "text": [
      "0.78125\n"
     ]
    }
   ],
   "source": [
    "from sklearn.metrics import confusion_matrix\n",
    "tn, fp, fn, tp = confusion_matrix(y_test, predicted).ravel()\n",
    "sensitivity = tp/(tp+fn)\n",
    "print(sensitivity)"
   ]
  },
  {
   "cell_type": "markdown",
   "metadata": {},
   "source": [
    "The accuracy and the sensitivity of the logistic regression are almost the same, which are aroung 0.75."
   ]
  },
  {
   "cell_type": "markdown",
   "metadata": {},
   "source": [
    "### Improvement: Cross Validation\n",
    "[cross-validation](http://scikit-learn.org/stable/modules/cross_validation.html#cross-validation-iterators-with-stratification-based-on-class-labels)\n",
    "In the above modeling process, we didn't use cross validation. In order to make better estimator performance evaluation, we can use cross validation method in skitlearn\n"
   ]
  },
  {
   "cell_type": "code",
   "execution_count": 60,
   "metadata": {},
   "outputs": [
    {
     "name": "stdout",
     "output_type": "stream",
     "text": [
      "0.806396975542\n"
     ]
    }
   ],
   "source": [
    "# 3-fold Cross validation\n",
    "from sklearn.model_selection import StratifiedKFold\n",
    "skf = StratifiedKFold(n_splits=3)\n",
    "sumAccuracy = []\n",
    "for train,test in skf.split(X,y):\n",
    "#     logisticRegr.fit(df_clean.iloc[train][], )\n",
    "    df_train = df_clean.iloc[train]\n",
    "    df_test = df_clean.iloc[test]\n",
    "    train_X = df_train[df_clean.columns.difference(['winner'])]\n",
    "    train_y = df_train['winner']\n",
    "    test_X = df_test[df_clean.columns.difference(['winner'])]\n",
    "    test_y = df_test['winner']\n",
    "    logisticRegr.fit(train_X, train_y)\n",
    "    sumAccuracy.append(logisticRegr.score(test_X, test_y))\n",
    "avg = np.mean(sumAccuracy)\n",
    "print(avg)\n",
    "#     print(df_clean.iloc[train,df_clean.columns.difference(['winner'])])"
   ]
  },
  {
   "cell_type": "markdown",
   "metadata": {},
   "source": [
    "The average accuracy calculated from the cross validation is 73.58%, which is slightly lower than the accuracy we calculated withouth cross-validation."
   ]
  },
  {
   "cell_type": "markdown",
   "metadata": {},
   "source": [
    "## Further Reading\n",
    "FYI, except for logistic regression, this tutorial will list some other classification models that are widely used in Kaggle:\n",
    "- [H2O Distributed Random Forest](http://docs.h2o.ai/h2o/latest-stable/h2o-docs/data-science/drf.html)\n",
    "- [xgboost tree](https://github.com/dmlc/xgboost)\n",
    "\n",
    "If you are interested in which movie will be next year's Oscar Best Picture nominees, you can go to [TMDB](https://www.themoviedb.org/documentation/api) and scrap the movie information."
   ]
  }
 ],
 "metadata": {
  "kernelspec": {
   "display_name": "Python 3",
   "language": "python",
   "name": "python3"
  },
  "language_info": {
   "codemirror_mode": {
    "name": "ipython",
    "version": 3
   },
   "file_extension": ".py",
   "mimetype": "text/x-python",
   "name": "python",
   "nbconvert_exporter": "python",
   "pygments_lexer": "ipython3",
   "version": "3.6.3"
  }
 },
 "nbformat": 4,
 "nbformat_minor": 2
}
