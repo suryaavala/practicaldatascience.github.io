{
 "cells": [
  {
   "cell_type": "markdown",
   "metadata": {},
   "source": [
    "## Introduction\n",
    "\n",
    "TensorFlow is a symbolic math library, and is used for machine learning applications such as neural networks. It was first developed by the Google Brain team, and is widely used now for its open-source and easy-built. This tutorial will introduce you how to use TensorFlow to build neural networks, especially focusing on Convolutional Neural Network(CNN) to classify images."
   ]
  },
  {
   "cell_type": "markdown",
   "metadata": {},
   "source": [
    "### Tutorial content\n",
    "\n",
    "In this tutorial, we will show how to use TensorFlow at first and build a CNN model to classify CIFAR-10, which consists of 60000 32*32 colour images in 10 classes, with 6000 images per class. There are 50000 training images and 10000 test images. We will use this dataset downloaded from:https://www.cs.toronto.edu/~kriz/cifar.html.\n",
    " \n",
    "We will cover the following topics in this tutorial:\n",
    "- [1.Installing TensorFlow](#1.Installing-TensorFlow)\n",
    "- [2.TensorFlow Basic](#2.TensorFlow-Basic)\n",
    "- [3.Build the First Neural Network](#3.Build-the-First-Neural-Network)\n",
    "- [4.Convolutional Neural Network Basic](#4.Convolutional-Neural-Network-Basic)\n",
    "- [5.Build CNN Models to Classify CIFAR-10](#5.Build-CNN-Models-to-Classify-CIFAR-10)"
   ]
  },
  {
   "cell_type": "markdown",
   "metadata": {},
   "source": [
    "## 1.Installing TensorFlow"
   ]
  },
  {
   "cell_type": "markdown",
   "metadata": {
    "collapsed": true
   },
   "source": [
    "First, you need to install the library. Since most of us use Anaconda and already set up python 3.n environment in this course, we can open the terminal directly and use `pip`:\n",
    "\n",
    "$ pip3 install tensorflow\n",
    "\n",
    "If this step failed, you can choose to install the latest version of TensorFlow by issuing a command of the following format:\n",
    "\n",
    "$ sudo pip3 install --upgrade tfBinaryURL   "
   ]
  },
  {
   "cell_type": "markdown",
   "metadata": {},
   "source": [
    "To check whether TensorFlow has been installed successfully, you can open your jupyter notebook and type the following code:"
   ]
  },
  {
   "cell_type": "code",
   "execution_count": 17,
   "metadata": {},
   "outputs": [
    {
     "name": "stdout",
     "output_type": "stream",
     "text": [
      "b'Hello, TensorFlow!'\n"
     ]
    }
   ],
   "source": [
    "import tensorflow as tf\n",
    "import numpy as np\n",
    "hello = tf.constant(\"Hello, TensorFlow!\")\n",
    "sess = tf.Session()\n",
    "print(sess.run(hello))"
   ]
  },
  {
   "cell_type": "markdown",
   "metadata": {},
   "source": [
    "If the output is \"Hello, TensorFlow!\", which means you have installed TensorFlow successfully. If you still come across problems, you can refer to https://www.tensorflow.org/install/install_mac#common_installation_problems for details."
   ]
  },
  {
   "cell_type": "markdown",
   "metadata": {},
   "source": [
    "## 2.TensorFlow Basic"
   ]
  },
  {
   "cell_type": "markdown",
   "metadata": {},
   "source": [
    "The name of TensorFlow derives from its own principle, Tensor means an N-dimensional array, and Flow means calculation based on a dataflow diagram. The Tensorflow process is the calculation process where the tensor flows from one end of the graph to the other. The intuitive image that the tensor flows through the graph is the reason why the tool was named TensorFlow. To use TensorFlow, the first step is to define the structure of the neural network, and then puts the data into the structure to calculate and train."
   ]
  },
  {
   "cell_type": "markdown",
   "metadata": {},
   "source": [
    "### 2.1 What is a Data Flow Graph?"
   ]
  },
  {
   "cell_type": "markdown",
   "metadata": {},
   "source": [
    "Data flow graphs describe mathematical calculations using directed graphs of nodes and edges. Nodes are generally used to indicate an applied mathematical operation, but it may also indicate the start of the data feed in or the end of the push out, or the end of a read/write persistent variable. Lines indicate the input/output relationship between nodes. These data lines can transport a size dynamically adjustable multidimensional array, i.e. tensor. Once all tensors at the input are ready, the nodes will be assigned to various computing devices to perform computations asynchronously and in parallel. The picture shows how tensors flowing:\n",
    "[<img src=\"https://www.tensorflow.org/images/tensors_flowing.gif\">](https://www.tensorflow.org/images/tensors_flowing.gif)"
   ]
  },
  {
   "cell_type": "markdown",
   "metadata": {},
   "source": [
    "### 2.2 Basic Concepts"
   ]
  },
  {
   "cell_type": "markdown",
   "metadata": {},
   "source": [
    "Graph: The graph describes the computational process. TensorFlow uses graphs to represent computational tasks.  \n",
    "Tensor: TensorFlow uses tensor to represent data. Each Tensor is a typed multidimensional array. For example, zero-order tensor is a scalar, which is a numerical value. The first-order tensor is a vector, like [1, 2, 3]. The second-order tensor is a matrix, like [[1, 2, 3], [4, 5, 6], [7, 8, 9]]. And so on.  \n",
    "Operation (op): The nodes in the figure are called op (short for operation). An op obtains 0 or more Tensors, performs calculations, and generates 0 or more Tensors.  \n",
    "Session: The graph must be executed in a context called session. The session distributes the op of the map to devices such as CPUs or GPUs for execution.  \n",
    "Variable: It can be changed during operation to maintain the status.  "
   ]
  },
  {
   "cell_type": "markdown",
   "metadata": {},
   "source": [
    "### 2.3 Basic Methods\n",
    "The following are some simple examples to show "
   ]
  },
  {
   "cell_type": "markdown",
   "metadata": {},
   "source": [
    "#### 2.3.1 Session\n",
    "Session is the statement that Tensorflow uses to control the execution of the output file. Run session.run() to get the result of the operation that you want to know, or the part you want to compute.\n",
    "\n",
    "First of all, we need to load Tensorflow this time and then create two matrixes and output the result of multiplying the two matrix matrices."
   ]
  },
  {
   "cell_type": "code",
   "execution_count": 11,
   "metadata": {
    "collapsed": true
   },
   "outputs": [],
   "source": [
    "matrix1 = tf.constant([[1,2]])\n",
    "matrix2 = tf.constant([[3],\n",
    "                       [4]])\n",
    "product = tf.matmul(matrix1,matrix2)"
   ]
  },
  {
   "cell_type": "markdown",
   "metadata": {},
   "source": [
    "Since product is not a direct calculation step, we will use Session to activate product and get the result of the calculation. There are two forms of sessions."
   ]
  },
  {
   "cell_type": "code",
   "execution_count": 12,
   "metadata": {},
   "outputs": [
    {
     "name": "stdout",
     "output_type": "stream",
     "text": [
      "[[11]]\n"
     ]
    }
   ],
   "source": [
    "# method 1\n",
    "sess = tf.Session()\n",
    "result1 = sess.run(product)\n",
    "print(result1)\n",
    "sess.close()"
   ]
  },
  {
   "cell_type": "code",
   "execution_count": 13,
   "metadata": {},
   "outputs": [
    {
     "name": "stdout",
     "output_type": "stream",
     "text": [
      "[[11]]\n"
     ]
    }
   ],
   "source": [
    "# method 2\n",
    "with tf.Session() as sess:\n",
    "    result2 = sess.run(product)\n",
    "    print(result2)\n",
    "    sess.close()"
   ]
  },
  {
   "cell_type": "markdown",
   "metadata": {},
   "source": [
    "#### 2.3.2 Variable\n",
    "In TensorFlow, you have to define the variable specially. The following is a counter."
   ]
  },
  {
   "cell_type": "code",
   "execution_count": 15,
   "metadata": {},
   "outputs": [
    {
     "name": "stdout",
     "output_type": "stream",
     "text": [
      "1\n",
      "2\n",
      "3\n"
     ]
    }
   ],
   "source": [
    "var = tf.Variable(0)    # our first variable in the \"global_variable\" set\n",
    "\n",
    "add_operation = tf.add(var, 1)\n",
    "update_operation = tf.assign(var, add_operation)\n",
    "\n",
    "with tf.Session() as sess:\n",
    "    # once define variables, you have to initialize them by doing this\n",
    "    sess.run(tf.global_variables_initializer())\n",
    "    for _ in range(3):\n",
    "        sess.run(update_operation)\n",
    "        print(sess.run(var))"
   ]
  },
  {
   "cell_type": "markdown",
   "metadata": {},
   "source": [
    "#### 2.3.3 Placeholder\n",
    "Placeholder are used in Tensorflow to store variables temporarily. You can supply the feed data as a parameter to the run() call. The feed is valid only within the method, and the feed disappears when the method ends."
   ]
  },
  {
   "cell_type": "code",
   "execution_count": 16,
   "metadata": {},
   "outputs": [
    {
     "name": "stdout",
     "output_type": "stream",
     "text": [
      "3.0\n",
      "[[ 6.  6.]\n",
      " [ 6.  6.]]\n"
     ]
    }
   ],
   "source": [
    "x1 = tf.placeholder(dtype=tf.float32, shape=None)\n",
    "y1 = tf.placeholder(dtype=tf.float32, shape=None)\n",
    "z1 = x1 + y1\n",
    "\n",
    "x2 = tf.placeholder(dtype=tf.float32, shape=[2, 1])\n",
    "y2 = tf.placeholder(dtype=tf.float32, shape=[1, 2])\n",
    "z2 = tf.matmul(x2, y2)\n",
    "\n",
    "with tf.Session() as sess:\n",
    "    # one operation to run\n",
    "    z1_value = sess.run(z1, feed_dict={x1: 1, y1: 2})\n",
    "\n",
    "    # run multiple operations\n",
    "    z1_value, z2_value = sess.run(\n",
    "        [z1, z2],       # run them together\n",
    "        feed_dict={\n",
    "            x1: 1, y1: 2,\n",
    "            x2: [[2], [2]], y2: [[3, 3]]\n",
    "        })\n",
    "    print(z1_value)\n",
    "    print(z2_value)"
   ]
  },
  {
   "cell_type": "markdown",
   "metadata": {},
   "source": [
    "## 3.Build the First Neural Network"
   ]
  },
  {
   "cell_type": "markdown",
   "metadata": {},
   "source": [
    "Artificial neural networks (ANNs) or connectionist systems are computing systems vaguely inspired by the biological neural networks that constitute animal brains. Basically, there are 3 different layers in a neural network.  \n",
    "Input Layer: All the inputs are fed in the model through this layer.    \n",
    "Hidden Layers: There can be more than one hidden layers which are used for processing the inputs received from the input layers.  \n",
    "Output Layer:The data after processing is made available at the output layer.    \n",
    "The picture below shows a nomal neural network:\n",
    "[<img src=\"https://www.ibm.com/developerworks/cn/java/cc-artificial-neural-networks-neuroph-machine-learning/figure-1.png\">](https://www.ibm.com/developerworks/cn/java/cc-artificial-neural-networks-neuroph-machine-learning/figure-1.png)"
   ]
  },
  {
   "cell_type": "markdown",
   "metadata": {},
   "source": [
    "### 3.1 Activation Function\n",
    "Activation function activates a part of neurons in the neural network, and sends activation information back to the next layer of the nervous system. The essence of the activation function is the nonlinear equation. The following code show different kinds of activation functions. We choose differnet activation functions based on the structure of neural networks."
   ]
  },
  {
   "cell_type": "code",
   "execution_count": 21,
   "metadata": {},
   "outputs": [
    {
     "data": {
      "image/png": "[encoded data removed]",
      "text/plain": [
       "<matplotlib.figure.Figure at 0x1825587cc0>"
      ]
     },
     "metadata": {},
     "output_type": "display_data"
    }
   ],
   "source": [
    "import matplotlib.pyplot as plt\n",
    "\n",
    "# fake data\n",
    "x = np.linspace(-5, 5, 200)     # x data, shape=(100, 1)\n",
    "\n",
    "# following are popular activation functions\n",
    "y_relu = tf.nn.relu(x)\n",
    "y_sigmoid = tf.nn.sigmoid(x)\n",
    "y_tanh = tf.nn.tanh(x)\n",
    "y_softplus = tf.nn.softplus(x)\n",
    "# y_softmax = tf.nn.softmax(x)  softmax is a special kind of activation function, it is about probability\n",
    "\n",
    "sess = tf.Session()\n",
    "y_relu, y_sigmoid, y_tanh, y_softplus = sess.run([y_relu, y_sigmoid, y_tanh, y_softplus])\n",
    "\n",
    "# plt to visualize these activation function\n",
    "plt.figure(1, figsize=(8, 6))\n",
    "plt.subplot(221)\n",
    "plt.plot(x, y_relu, c='blue', label='relu')\n",
    "plt.ylim((-1, 5))\n",
    "plt.legend(loc='best')\n",
    "\n",
    "plt.subplot(222)\n",
    "plt.plot(x, y_sigmoid, c='blue', label='sigmoid')\n",
    "plt.ylim((-0.2, 1.2))\n",
    "plt.legend(loc='best')\n",
    "\n",
    "plt.subplot(223)\n",
    "plt.plot(x, y_tanh, c='blue', label='tanh')\n",
    "plt.ylim((-1.2, 1.2))\n",
    "plt.legend(loc='best')\n",
    "\n",
    "plt.subplot(224)\n",
    "plt.plot(x, y_softplus, c='blue', label='softplus')\n",
    "plt.ylim((-0.2, 6))\n",
    "plt.legend(loc='best')\n",
    "\n",
    "plt.show()"
   ]
  },
  {
   "cell_type": "markdown",
   "metadata": {},
   "source": [
    "### 3.2 Optimizers\n",
    "There are several optimizers. Most machine learning tasks are to minimize the loss function. In the case of loss definition, the latter work is given to the optimizer. Because the deep learning is usually the optimization of the gradient, that is to say, the optimizer is a variety of gradient descent algorithm optimization. The following code show the different kinds of optimizers."
   ]
  },
  {
   "cell_type": "code",
   "execution_count": 22,
   "metadata": {},
   "outputs": [
    {
     "data": {
      "image/png": "[encoded data removed]",
      "text/plain": [
       "<matplotlib.figure.Figure at 0x1825724cf8>"
      ]
     },
     "metadata": {},
     "output_type": "display_data"
    },
    {
     "data": {
      "image/png": "[encoded data removed]",
      "text/plain": [
       "<matplotlib.figure.Figure at 0x1825d4a2e8>"
      ]
     },
     "metadata": {},
     "output_type": "display_data"
    }
   ],
   "source": [
    "tf.set_random_seed(1)\n",
    "np.random.seed(1)\n",
    "\n",
    "LR = 0.01\n",
    "BATCH_SIZE = 32\n",
    "\n",
    "# fake data\n",
    "x = np.linspace(-1, 1, 100)[:, np.newaxis]          # shape (100, 1)\n",
    "noise = np.random.normal(0, 0.1, size=x.shape)\n",
    "y = np.power(x, 2) + noise                          # shape (100, 1) + some noise\n",
    "\n",
    "# plot dataset\n",
    "plt.scatter(x, y)\n",
    "plt.show()\n",
    "\n",
    "# default network\n",
    "class Net:\n",
    "    def __init__(self, opt, **kwargs):\n",
    "        self.x = tf.placeholder(tf.float32, [None, 1])\n",
    "        self.y = tf.placeholder(tf.float32, [None, 1])\n",
    "        l = tf.layers.dense(self.x, 20, tf.nn.relu)\n",
    "        out = tf.layers.dense(l, 1)\n",
    "        self.loss = tf.losses.mean_squared_error(self.y, out)\n",
    "        self.train = opt(LR, **kwargs).minimize(self.loss)\n",
    "\n",
    "# different nets\n",
    "net_SGD         = Net(tf.train.GradientDescentOptimizer)\n",
    "net_Momentum    = Net(tf.train.MomentumOptimizer, momentum=0.9)\n",
    "net_RMSprop     = Net(tf.train.RMSPropOptimizer)\n",
    "net_Adam        = Net(tf.train.AdamOptimizer)\n",
    "nets = [net_SGD, net_Momentum, net_RMSprop, net_Adam]\n",
    "\n",
    "sess = tf.Session()\n",
    "sess.run(tf.global_variables_initializer())\n",
    "\n",
    "losses_his = [[], [], [], []]   # record loss\n",
    "\n",
    "# training\n",
    "for step in range(300):          # for each training step\n",
    "    index = np.random.randint(0, x.shape[0], BATCH_SIZE)\n",
    "    b_x = x[index]\n",
    "    b_y = y[index]\n",
    "\n",
    "    for net, l_his in zip(nets, losses_his):\n",
    "        _, l = sess.run([net.train, net.loss], {net.x: b_x, net.y: b_y})\n",
    "        l_his.append(l)     # loss recoder\n",
    "\n",
    "# plot loss history\n",
    "labels = ['SGD', 'Momentum', 'RMSprop', 'Adam']\n",
    "for i, l_his in enumerate(losses_his):\n",
    "    plt.plot(l_his, label=labels[i])\n",
    "plt.legend(loc='best')\n",
    "plt.xlabel('Steps')\n",
    "plt.ylabel('Loss')\n",
    "plt.ylim((0, 0.2))\n",
    "plt.show()"
   ]
  },
  {
   "cell_type": "markdown",
   "metadata": {},
   "source": [
    "### 3.3 Build a Simple Neural Netwok\n"
   ]
  },
  {
   "cell_type": "markdown",
   "metadata": {},
   "source": [
    "#### 3.3.1 Define a Layer Function\n",
    "It would be easier for us to add layers later if we have define the layer function. The function has four parameters: input value, input size, output size and excitation function. We set the default activation function to None.    \n",
    "Next, we begin to define weights and bias. The normal distribution will be much better than all zeros when generating the initial parameters, so the variable \"weights\" is a random variable matrix. We set the value of bias to 0.1.    \n",
    "Then, we define the value of input get through the neural network Wx_plus_b and activation layer.  \n",
    "Last, return the layer's output. Now, we have finished the layer. The code is below. "
   ]
  },
  {
   "cell_type": "code",
   "execution_count": 25,
   "metadata": {
    "collapsed": true
   },
   "outputs": [],
   "source": [
    "def add_layer(inputs, in_size, out_size, activation_function=None): \n",
    "    Weights = tf.Variable(tf.random_normal([in_size, out_size]))\n",
    "    biases = tf.Variable(tf.zeros([1, out_size]) + 0.1)\n",
    "    Wx_plus_b = tf.matmul(inputs, Weights) + biases\n",
    "    if activation_function is None:\n",
    "        outputs = Wx_plus_b\n",
    "    else:\n",
    "        outputs = activation_function(Wx_plus_b)\n",
    "    return outputs"
   ]
  },
  {
   "cell_type": "markdown",
   "metadata": {},
   "source": [
    "#### 3.3.2 Introduce Data\n",
    "We construct x_data and y_data as a unary quadratic function and add some noise. We use placeholders to define the input of our desired neural network. tf.placeholder() is a placeholder, where None represents any number of inputs, because the input has only one feature, so this is 1."
   ]
  },
  {
   "cell_type": "code",
   "execution_count": 27,
   "metadata": {
    "collapsed": true
   },
   "outputs": [],
   "source": [
    "x_data = np.linspace(-1,1,300, dtype=np.float32)[:, np.newaxis]\n",
    "noise = np.random.normal(0, 0.05, x_data.shape).astype(np.float32)\n",
    "y_data = np.square(x_data) - 0.5 + noise\n",
    "xs = tf.placeholder(tf.float32, [None, 1])\n",
    "ys = tf.placeholder(tf.float32, [None, 1])"
   ]
  },
  {
   "cell_type": "markdown",
   "metadata": {},
   "source": [
    "#### 3.3.3 Set up the Network\n",
    "The input layer here has only one attribute, so we have only one input; we can assume on our own of the hidden layer, here we assume that the hidden layer has 10 neurons. The structure of the output layer and the input layer is the same, so our output layer is also Only one layer. So, the neural network has one input layer, ten hidden layers, and one output layer."
   ]
  },
  {
   "cell_type": "markdown",
   "metadata": {},
   "source": [
    "We begin to define the hidden layer, using the previous add_layer() function, which uses tf.nn.relu activation function that comes with Tensorflow.   \n",
    "Next, define the output layer. The input at this time is the output of the hidden layer l1, the input has 10 layers (the output layer of the hidden layer), and the output has 1 layer.   \n",
    "Then, we calculate the error of the prediction value and the true value, and then average the difference between the two."
   ]
  },
  {
   "cell_type": "code",
   "execution_count": 31,
   "metadata": {
    "collapsed": true
   },
   "outputs": [],
   "source": [
    "l1 = add_layer(xs, 1, 10, activation_function=tf.nn.relu)\n",
    "prediction = add_layer(l1, 10, 1, activation_function=None)\n",
    "loss = tf.reduce_mean(tf.reduce_sum(tf.square(ys - prediction), reduction_indices=[1]))"
   ]
  },
  {
   "cell_type": "markdown",
   "metadata": {},
   "source": [
    "Next, how to make machine learning improve its accuracy? The value in tf.train.GradientDescentOptimizer() is usually less than 1, and this is taken as 0.1, which means that the error loss is minimized with an efficiency of 0.1.  \n",
    "Then, we initialize the variables and use Session to run."
   ]
  },
  {
   "cell_type": "code",
   "execution_count": 33,
   "metadata": {
    "collapsed": true
   },
   "outputs": [],
   "source": [
    "train_step = tf.train.GradientDescentOptimizer(0.1).minimize(loss)\n",
    "init = tf.global_variables_initializer()\n",
    "sess = tf.Session()\n",
    "sess.run(init)"
   ]
  },
  {
   "cell_type": "markdown",
   "metadata": {},
   "source": [
    "#### 3.3.3 Train the Network\n",
    "We'll train train_step next. Use Session to run the data of each training and gradually improve the prediction accuracy of the neural network. We print the error every 50 steps."
   ]
  },
  {
   "cell_type": "code",
   "execution_count": 36,
   "metadata": {},
   "outputs": [
    {
     "name": "stdout",
     "output_type": "stream",
     "text": [
      "0.00407427\n",
      "0.00402902\n",
      "0.00398609\n",
      "0.00395363\n",
      "0.0039171\n",
      "0.00388133\n",
      "0.00384739\n",
      "0.00380727\n",
      "0.00376424\n",
      "0.00372377\n",
      "0.00368834\n",
      "0.00365821\n",
      "0.00362427\n",
      "0.00359168\n",
      "0.00355952\n",
      "0.00352266\n",
      "0.00348279\n",
      "0.00344626\n",
      "0.00341398\n",
      "0.00337907\n"
     ]
    }
   ],
   "source": [
    "for i in range(1000):\n",
    "    # training\n",
    "    sess.run(train_step, feed_dict={xs: x_data, ys: y_data})\n",
    "    if i % 50 == 0:\n",
    "    # to see the step improvement\n",
    "        print(sess.run(loss, feed_dict={xs: x_data, ys: y_data}))"
   ]
  },
  {
   "cell_type": "markdown",
   "metadata": {},
   "source": [
    "From the result, we can see the error is decreasing."
   ]
  },
  {
   "cell_type": "markdown",
   "metadata": {},
   "source": [
    "## 4.Convolutional Neural Network Basic"
   ]
  },
  {
   "attachments": {},
   "cell_type": "markdown",
   "metadata": {},
   "source": [
    "Convolutional Neural Network(CNN) is a sequence of layers, and every layer of a ConvNet transforms one volume of activations to another through a differentiable function. CNN are widely used in image and video recognition, recommender systems and natural language processing. We use three main types of layers to build CNN architectures: Convolutional Layer, Pooling Layer, and Fully-Connected Layer (exactly as seen in regular Neural Networks). We will stack these layers to form a full ConvNet architecture. The following picture shows the architecture of CNN:\n",
    "[<img src=\"https://www.mathworks.com/content/mathworks/www/en/discovery/convolutional-neural-network/jcr:content/mainParsys/image_copy.adapt.full.high.jpg/1517522275430.jpg\">](https://www.mathworks.com/content/mathworks/www/en/discovery/convolutional-neural-network/jcr:content/mainParsys/image_copy.adapt.full.high.jpg/1517522275430.jpg)"
   ]
  },
  {
   "cell_type": "markdown",
   "metadata": {},
   "source": [
    "We will go into more details below:  \n",
    "INPUT will hold the raw pixel values of the image, and with three color channels R,G,B.  \n",
    "CONVOLUTION layer will compute the output of neurons that are connected to local regions in the input, each computing a dot product between their weights and a small region they are connected to in the input volume.   \n",
    "RELU layer will apply an elementwise activation function, such as the max(0,x) thresholding at zero. This leaves the size of the volume unchanged.   \n",
    "POOLING layer will perform a downsampling operation along the spatial dimensions (width, height).  \n",
    "FLATTEN layer will change the data into a vector form.  \n",
    "FULLY CONNECTED layer will compute the class scores. As with ordinary Neural Networks and as the name implies, each neuron in this layer will be connected to all the numbers in the previous volume."
   ]
  },
  {
   "cell_type": "markdown",
   "metadata": {},
   "source": [
    "## 5.Build CNN Models to Classify CIFAR-10"
   ]
  },
  {
   "cell_type": "markdown",
   "metadata": {},
   "source": [
    "The CIFAR-10 dataset consists of 60000 32x32 colour images in 10 classes, with 6000 images per class. There are 50000 training images and 10000 test images. \n",
    "\n",
    "The dataset is divided into five training batches and one test batch, each with 10000 images. The test batch contains exactly 1000 randomly-selected images from each class. The training batches contain the remaining images in random order, but some training batches may contain more images from one class than another. Between them, the training batches contain exactly 5000 images from each class. "
   ]
  },
  {
   "cell_type": "markdown",
   "metadata": {},
   "source": [
    "First, we'll build a simple CNN to see the classification accuracy of CIFAR-10. This model contains only one layer."
   ]
  },
  {
   "cell_type": "code",
   "execution_count": 40,
   "metadata": {},
   "outputs": [],
   "source": [
    "#load CIFAR-10\n",
    "from utils import get_CIFAR10_data\n",
    "X_train, y_train, X_val, y_val, X_test, y_test = get_CIFAR10_data()\n",
    "# clear old variables\n",
    "tf.reset_default_graph()\n",
    "\n",
    "# setup input (e.g. the data that changes every batch)\n",
    "# The first dim is None, and gets sets automatically based on batch size fed in\n",
    "X = tf.placeholder(tf.float32, [None, 32, 32, 3])\n",
    "y = tf.placeholder(tf.int64, [None])\n",
    "is_training = tf.placeholder(tf.bool)\n",
    "\n",
    "def model1(X,y):\n",
    "    # define our weights (e.g. init_two_layer_convnet)\n",
    "    \n",
    "    # setup Convolution layer variables\n",
    "    Wconv1 = tf.get_variable(\"Wconv1\", shape=[7, 7, 3, 32])#shape=[patch,patch,channel,number of filters]\n",
    "    bconv1 = tf.get_variable(\"bconv1\", shape=[32])\n",
    "    \n",
    "    #FC: Use H_n = 1 + (H + 2 * pad - HH)/stride to calculate the dimention of output of each filter\n",
    "    # so 1+(32-7)/2 = 13. Each neural will output a 13*13 matrix\n",
    "    # There are 32 filters in total,so the total number of output is 13*13*32 = 5408\n",
    "    W1 = tf.get_variable(\"W1\", shape=[5408, 10])\n",
    "    b1 = tf.get_variable(\"b1\", shape=[10])\n",
    "\n",
    "    # define our graph (e.g. two_layer_convnet)\n",
    "    #strides[batch, height, width, channels], in general, strides = [1, X, X, 1] \n",
    "    a1 = tf.nn.conv2d(X, Wconv1, strides=[1,2,2,1], padding='VALID') + bconv1\n",
    "    h1 = tf.nn.relu(a1)\n",
    "    #\"-1\" is the size of that dimension is computed so that the total size remains constant\n",
    "    h1_flat = tf.reshape(h1,[-1,5408])\n",
    "    y_out = tf.matmul(h1_flat,W1) + b1\n",
    "    return y_out\n",
    "\n",
    "y_out = model1(X,y)\n",
    "\n",
    "# define our loss\n",
    "total_loss = tf.losses.hinge_loss(tf.one_hot(y,10),logits=y_out)\n",
    "mean_loss = tf.reduce_mean(total_loss)\n",
    "\n",
    "# define our optimizer\n",
    "optimizer = tf.train.AdamOptimizer(5e-4) # select optimizer and set learning rate\n",
    "train_step = optimizer.minimize(mean_loss)"
   ]
  },
  {
   "cell_type": "code",
   "execution_count": 42,
   "metadata": {},
   "outputs": [
    {
     "name": "stdout",
     "output_type": "stream",
     "text": [
      "Training\n",
      "Iteration 0: with minibatch training loss = 11.3 and accuracy of 0.11\n",
      "Iteration 100: with minibatch training loss = 1.13 and accuracy of 0.2\n",
      "Iteration 200: with minibatch training loss = 0.76 and accuracy of 0.27\n",
      "Iteration 300: with minibatch training loss = 0.564 and accuracy of 0.38\n",
      "Iteration 400: with minibatch training loss = 0.527 and accuracy of 0.33\n",
      "Iteration 500: with minibatch training loss = 0.53 and accuracy of 0.39\n",
      "Iteration 600: with minibatch training loss = 0.468 and accuracy of 0.31\n",
      "Iteration 700: with minibatch training loss = 0.368 and accuracy of 0.39\n",
      "Epoch 1, Overall loss = 0.758 and accuracy of 0.304\n"
     ]
    },
    {
     "data": {
      "image/png": "[encoded data removed]",
      "text/plain": [
       "<matplotlib.figure.Figure at 0x18268e7860>"
      ]
     },
     "metadata": {},
     "output_type": "display_data"
    },
    {
     "name": "stdout",
     "output_type": "stream",
     "text": [
      "Validation\n",
      "Epoch 1, Overall loss = 0.442 and accuracy of 0.356\n"
     ]
    }
   ],
   "source": [
    "with tf.Session() as sess:\n",
    "    with tf.device(\"/cpu:0\"): #\"/cpu:0\" or \"/gpu:0\" \n",
    "        sess.run(tf.global_variables_initializer())\n",
    "        print('Training')\n",
    "        run_model(sess,y_out,mean_loss,X,y,is_training,X_train,y_train,1,64,100,train_step,True)\n",
    "        print('Validation')\n",
    "        run_model(sess,y_out,mean_loss,X,y,is_training,X_val,y_val,1,64)"
   ]
  },
  {
   "cell_type": "markdown",
   "metadata": {},
   "source": [
    "We can see from the result that only one layer of CNN performs bad. So, we add one more convolution layer and pooling layer to make the result better."
   ]
  },
  {
   "cell_type": "code",
   "execution_count": 48,
   "metadata": {
    "collapsed": true
   },
   "outputs": [],
   "source": [
    "# clear old variables\n",
    "tf.reset_default_graph()\n",
    "\n",
    "# define our input (e.g. the data that changes every batch)\n",
    "# The first dim is None, and gets sets automatically based on batch size fed in\n",
    "X = tf.placeholder(tf.float32, [None, 32, 32, 3])\n",
    "y = tf.placeholder(tf.int64, [None])\n",
    "is_training = tf.placeholder(tf.bool)\n",
    "\n",
    "def model2(X,y):\n",
    "    # define our weights (e.g. init_two_layer_convnet)\n",
    "    # setup variables\n",
    "    Wconv1 = tf.get_variable(\"Wconv1\", shape=[7, 7, 3, 32])\n",
    "    bconv1 = tf.get_variable(\"bconv1\", shape=[32])\n",
    "    W1 = tf.get_variable(\"W1\", shape=[5408, 1024])\n",
    "    b1 = tf.get_variable(\"b1\", shape=[1024])\n",
    "    W2 = tf.get_variable(\"W2\", shape=[1024, 10])\n",
    "    b2 = tf.get_variable(\"b2\", shape=[10])\n",
    "\n",
    "    # define our graph (two_layer_convnet)\n",
    "    a1 = tf.nn.conv2d(X, Wconv1, strides=[1,1,1,1], padding='VALID') + bconv1\n",
    "    #print (a1.shape)\n",
    "    h1 = tf.nn.relu(a1)\n",
    "    h2 = tf.contrib.layers.batch_norm(h1, \n",
    "                                      center=True, scale=True, \n",
    "                                      is_training=True,\n",
    "                                      scope='bn')\n",
    "    #add pooling layer\n",
    "    pool1 = tf.layers.max_pooling2d(inputs=h2, pool_size=[2, 2], strides=2)\n",
    "    #flatten layer\n",
    "    pool1_flat = tf.reshape(pool1,[-1,5408])\n",
    "    y_1 = tf.matmul(pool1_flat,W1) + b1\n",
    "    y_1_new = tf.nn.relu(y_1)\n",
    "    y_out = tf.matmul(y_1_new,W2) + b2\n",
    "    \n",
    "    return y_out\n",
    "# define model\n",
    "y_out = model2(X,y)\n",
    "\n",
    "# define our loss\n",
    "total_loss = tf.losses.hinge_loss(tf.one_hot(y,10),logits=y_out)\n",
    "mean_loss = tf.reduce_mean(total_loss)\n",
    "\n",
    "# define our optimizer\n",
    "optimizer = tf.train.AdamOptimizer(5e-4) # select optimizer and set learning rate\n",
    "train_step = optimizer.minimize(mean_loss)"
   ]
  },
  {
   "cell_type": "code",
   "execution_count": 49,
   "metadata": {},
   "outputs": [
    {
     "name": "stdout",
     "output_type": "stream",
     "text": [
      "Training\n",
      "Iteration 0: with minibatch training loss = 1.23 and accuracy of 0.2\n",
      "Iteration 100: with minibatch training loss = 0.213 and accuracy of 0.5\n",
      "Iteration 200: with minibatch training loss = 0.207 and accuracy of 0.52\n",
      "Iteration 300: with minibatch training loss = 0.198 and accuracy of 0.58\n",
      "Iteration 400: with minibatch training loss = 0.228 and accuracy of 0.44\n",
      "Iteration 500: with minibatch training loss = 0.209 and accuracy of 0.5\n",
      "Iteration 600: with minibatch training loss = 0.196 and accuracy of 0.55\n",
      "Iteration 700: with minibatch training loss = 0.192 and accuracy of 0.55\n",
      "Epoch 1, Overall loss = 0.226 and accuracy of 0.501\n"
     ]
    },
    {
     "data": {
      "image/png": "[encoded data removed]",
      "text/plain": [
       "<matplotlib.figure.Figure at 0x1881533748>"
      ]
     },
     "metadata": {},
     "output_type": "display_data"
    },
    {
     "name": "stdout",
     "output_type": "stream",
     "text": [
      "Validation\n",
      "Epoch 1, Overall loss = 0.178 and accuracy of 0.581\n"
     ]
    }
   ],
   "source": [
    "with tf.Session() as sess:\n",
    "    with tf.device(\"/cpu:0\"): #\"/cpu:0\" or \"/gpu:0\" \n",
    "        sess.run(tf.global_variables_initializer())\n",
    "        print('Training')\n",
    "        run_model(sess,y_out,mean_loss,X,y,is_training,X_train,y_train,1,64,100,train_step,True)\n",
    "        print('Validation')\n",
    "        run_model(sess,y_out,mean_loss,X,y,is_training,X_val,y_val,1,64)"
   ]
  },
  {
   "cell_type": "markdown",
   "metadata": {},
   "source": [
    "As the result shows, the accuracy increased a lot after more layers were added. Also, more time is needed to train the model, you may use a gpu rather than your own machine to train complex models. Will the results get better and better only if we add more layers? The answer is no. There are many classical models such as LeNet，AlexNet，VGG-Net，GoogLeNet and ResNet. The accuracy can reach 95% of trainning CIFAR-10."
   ]
  },
  {
   "cell_type": "markdown",
   "metadata": {},
   "source": [
    "## Summary and references\n",
    "\n",
    "This tutorial mainly introduced the basic methods of TensorFlow and how to set up neural network models, especially CNN models. Much more detail about the libraries and questions on TensorFlow and CNN are available from the following links.\n",
    "\n",
    "1. TensorFlow docs: https://www.tensorflow.org/\n",
    "2. Stanford CS231n: http://cs231n.github.io/convolutional-networks/"
   ]
  }
 ],
 "metadata": {
  "kernelspec": {
   "display_name": "Python 3",
   "language": "python",
   "name": "python3"
  },
  "language_info": {
   "codemirror_mode": {
    "name": "ipython",
    "version": 3
   },
   "file_extension": ".py",
   "mimetype": "text/x-python",
   "name": "python",
   "nbconvert_exporter": "python",
   "pygments_lexer": "ipython3",
   "version": "3.6.3"
  }
 },
 "nbformat": 4,
 "nbformat_minor": 2
}
