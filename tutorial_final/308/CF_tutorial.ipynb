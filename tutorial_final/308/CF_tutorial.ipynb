{
 "cells": [
  {
   "cell_type": "markdown",
   "metadata": {},
   "source": [
    "# Matrix Factorization for Collaborative Filtering"
   ]
  },
  {
   "cell_type": "markdown",
   "metadata": {},
   "source": [
    "## Introduction\n",
    "\n",
    "The goal of a recommender system (a.k.a. recommendation system) is to predict the **rating or preference** that a **user** would give to an **item**, as commonly seen in suggestions in online services such as Netflix (movies), Spotify (music), Amazon (products), and Facebook (friends or pages).\n",
    "\n",
    "The most common technique is called collaborative filtering (CF), which considers the existing user *behaviors* and use them as predictions without analyzing the *content* of the items (or users) themselves.\n",
    "\n",
    "As a [motivating example](https://en.wikipedia.org/wiki/Collaborative_filtering), the following figure is a recommender system that contains existing likes or dislikes by users on different items. When predicting whether the last (query) user will like the video, the system uses a majority vote from \"like-minded\" users (highlighted in green) and predicts that the last user will dislike the video.\n",
    "\n",
    "[<img src=\"https://upload.wikimedia.org/wikipedia/commons/5/52/Collaborative_filtering.gif\" height=\"498\" width=\"480\" >](https://en.wikipedia.org/wiki/Collaborative_filtering)\n",
    "\n",
    "Mathematically, we often use a user-item rating matrix $X$ to represent the data, with $n$ users as *rows* and $m$ items (or movies in this tutorial) as *columns*. Then, $x_{ij}$ and $\\hat{x_{ij}}$ represent the true and predicted rating scores by user $i$ on item $j$. Therefore, the goal is to predict those unknown entries such that $\\hat{x_{ij}}$ can be as close to $x_{ij}$ as possible.\n",
    "\n",
    "Unlike traditional memory-based (a.k.a. user-based or item-based) algorithms which relies on finding the $k$ nearest neighbors, this tutorial focuses on another approach called **matrix factorization**. We will use this technique to predict movie ratings.\n"
   ]
  },
  {
   "cell_type": "markdown",
   "metadata": {},
   "source": [
    "## Required Libraries\n",
    "This tutorial requires Python 3.5+, NumPy 1.10+ (for [`@` matrix multiplication operator](https://docs.python.org/3/whatsnew/3.5.html#whatsnew-pep-465)), SciPy (for [sparse matrix](https://docs.scipy.org/doc/scipy/reference/sparse.html) operations), and Matplotlib. (for plotting)."
   ]
  },
  {
   "cell_type": "code",
   "execution_count": 1,
   "metadata": {
    "scrolled": false
   },
   "outputs": [],
   "source": [
    "# Third-party libraries\n",
    "import numpy as np\n",
    "from numpy.linalg import norm\n",
    "from scipy.sparse import csr_matrix, coo_matrix\n",
    "import matplotlib.pyplot as plt\n",
    "import matplotlib\n",
    "%matplotlib inline\n",
    "\n",
    "# Built-in modules\n",
    "from collections import Counter\n",
    "import csv\n",
    "from time import time\n",
    "import sys"
   ]
  },
  {
   "cell_type": "markdown",
   "metadata": {},
   "source": [
    "Also, for reproducible results when re-running this Jupyter Notebook, we will set a fixed NumPy random seed."
   ]
  },
  {
   "cell_type": "code",
   "execution_count": 2,
   "metadata": {},
   "outputs": [],
   "source": [
    "np.random.seed(15688)"
   ]
  },
  {
   "cell_type": "code",
   "execution_count": 3,
   "metadata": {
    "scrolled": false
   },
   "outputs": [],
   "source": [
    "# Matplotlib rcParams (It has to be in a separate cell in order to work!)\n",
    "matplotlib.rcParams.update({'figure.figsize': [10, 5], 'font.size': 14})"
   ]
  },
  {
   "cell_type": "markdown",
   "metadata": {},
   "source": [
    "## Dataset\n",
    "\n",
    "The best known dataset for this task is the [Netflix Prize](https://en.wikipedia.org/wiki/Netflix_Prize) dataset, which can be downloaded from [Kaggle](https://www.kaggle.com/netflix-inc/netflix-prize-data). However, it is 2 GB of sparse matrix entries and will be too large on a single machine.\n",
    "\n",
    "Instead, this tutorial uses a similar **[MovieLens](https://grouplens.org/datasets/movielens/)** dataset which also contains sparse user-movie rating scores. Specifically, the `ml-latest-small` dataset (2.4 MB) is much more suitable for tutorial purposes, but still requires careful sparse matrix implementation for the algorithm to run efficiently.\n",
    "\n",
    "The MovieLens dataset can be download from https://grouplens.org/datasets/movielens/latest/.\n",
    "\n",
    "We will only use the `ratings.csv` file in the `ml-latest-small` dataset, which contains 100004 ratings by 671 users across 9066 movies. Ratings are made on a 5-star scale, with half-star increments (0.5 stars - 5.0 stars). All selected users had rated at least 20 movies.\n",
    "\n",
    "For complete dataset description, visit the [README page](http://files.grouplens.org/datasets/movielens/ml-latest-small-README.html) or `README.txt`."
   ]
  },
  {
   "cell_type": "markdown",
   "metadata": {},
   "source": [
    "### Reading and Pre-processing Data\n",
    "\n",
    "First, let's read the `ratings.csv` file and produce the `data`, `row_idx`, and `col_idx` lists needed for SciPy's sparse matrix library.\n",
    "\n",
    "The CSV line format is `userId,movieId,rating,timestamp` (timestamp is not used). However, because there are numerous \"empty\" movies (all-zero columns), we should re-index movie IDs (in data reading order, first movie = 0) to shrink dimensionality $m$."
   ]
  },
  {
   "cell_type": "code",
   "execution_count": 4,
   "metadata": {
    "scrolled": false
   },
   "outputs": [
    {
     "name": "stdout",
     "output_type": "stream",
     "text": [
      "Total: 671 users, 9066 movies, 100004 ratings\n"
     ]
    }
   ],
   "source": [
    "csv_file = 'ml-latest-small/ratings.csv'\n",
    "n, m = 0, 0\n",
    "row_idx, col_idx, data = [], [], []\n",
    "# Reindex movies by a dictionary: {read_col_ID: new_col_ID}\n",
    "movie_reidx = {}\n",
    "\n",
    "with open(csv_file, 'r') as fin:\n",
    "    reader = csv.reader(fin)\n",
    "    # Skip header row\n",
    "    next(reader)\n",
    "    for line in reader:\n",
    "        user, movie, rating, _ = line\n",
    "        user, movie, rating = int(user), int(movie), float(rating)\n",
    "        # Make new user/movie IDs 0-indexed\n",
    "        row_idx.append(user - 1)\n",
    "        if movie not in movie_reidx:\n",
    "            # New movie ID\n",
    "            movie_reidx[movie] = m\n",
    "            m += 1\n",
    "        col_idx.append(movie_reidx[movie])\n",
    "        data.append(rating)\n",
    "        n = max(n, user)\n",
    "row_idx, col_idx, data = np.array(row_idx), np.array(col_idx), np.array(data)\n",
    "print('Total: %d users, %d movies, %d ratings' % (n, m, len(data)))"
   ]
  },
  {
   "cell_type": "markdown",
   "metadata": {},
   "source": [
    "For machine learning purposes, we will randomly permute the non-zero entries and split it into training set (60%), validation set (20%), and test set (20%).\n",
    "\n",
    "Then, use the permutation indices to form a sparse matrix `X_train` of shape $(n, m)$ and two dense matrices `Q_valid`, `Q_test` of shape $(q, 3)$."
   ]
  },
  {
   "cell_type": "code",
   "execution_count": 5,
   "metadata": {
    "scrolled": false
   },
   "outputs": [
    {
     "name": "stdout",
     "output_type": "stream",
     "text": [
      "Train : Valid : Test = 60002 : 20001 : 20001\n",
      "X_train.shape: (671, 9066), Q_valid.shape: (20001, 3), Q_test.shape: (20001, 3)\n"
     ]
    }
   ],
   "source": [
    "all_size = len(data)\n",
    "train_size, valid_size = int(round(all_size * 0.6)), int(round(all_size * 0.2))\n",
    "# Calculate test_size by subtraction to avoid rounding errors\n",
    "test_size = all_size - train_size - valid_size\n",
    "print('Train : Valid : Test = %d : %d : %d' % (train_size, valid_size, test_size))\n",
    "\n",
    "# Create random permutation of [0, 1, ..., all_size-1] and split the dataset by slicing\n",
    "perm_idx = np.random.permutation(np.arange(all_size))\n",
    "train_idx = perm_idx[:train_size]\n",
    "valid_idx = perm_idx[train_size : train_size + valid_size]\n",
    "test_idx = perm_idx[train_size + valid_size:]\n",
    "\n",
    "# Directly manipulate the data, row_idx, col_idx lists to form matrices\n",
    "X_train = coo_matrix((data[train_idx], (row_idx[train_idx], col_idx[train_idx])), shape=(n, m))\n",
    "Q_valid = np.array([row_idx[valid_idx], col_idx[valid_idx], data[valid_idx]]).T\n",
    "Q_test = np.array([row_idx[test_idx], col_idx[test_idx], data[test_idx]]).T\n",
    "print('X_train.shape: %s, Q_valid.shape: %s, Q_test.shape: %s' % (X_train.shape, Q_valid.shape, Q_test.shape))"
   ]
  },
  {
   "cell_type": "markdown",
   "metadata": {},
   "source": [
    "### Exploratary Data Analysis\n",
    "\n",
    "Now, let's compute and visualize some summary statistics of the *training* set to understand our data better.\n",
    "\n",
    "For code reuse throughout this tutorial, define generic plotting functions like `bar_plot()` and `hist_plot()`."
   ]
  },
  {
   "cell_type": "code",
   "execution_count": 6,
   "metadata": {},
   "outputs": [],
   "source": [
    "def bar_plot(x, y, title, xlabel, ylabel, **kwargs):\n",
    "    plt.figure()\n",
    "    # Set xticks at x assuming x is numeric\n",
    "    plt.xticks(x)\n",
    "    plt.title(title)\n",
    "    plt.xlabel(xlabel)\n",
    "    plt.ylabel(ylabel)\n",
    "    plt.bar(x, y, **kwargs)"
   ]
  },
  {
   "cell_type": "code",
   "execution_count": 7,
   "metadata": {},
   "outputs": [],
   "source": [
    "def hist_plot(x, bins, title, xlabel, ylabel, **kwargs):\n",
    "    plt.figure()\n",
    "    plt.title(title)\n",
    "    plt.xlabel(xlabel)\n",
    "    plt.ylabel(ylabel)\n",
    "    plt.hist(x, bins=bins, **kwargs)"
   ]
  },
  {
   "cell_type": "markdown",
   "metadata": {},
   "source": [
    "Then, plot a bar plot (*not* a histogram) for the *discrete* rating score distribution. We will use a `Counter` for counting."
   ]
  },
  {
   "cell_type": "code",
   "execution_count": 8,
   "metadata": {
    "scrolled": false
   },
   "outputs": [
    {
     "data": {
      "image/png": "[encoded data removed]",
      "text/plain": [
       "<matplotlib.figure.Figure at 0x1035b7fd0>"
      ]
     },
     "metadata": {},
     "output_type": "display_data"
    }
   ],
   "source": [
    "ratings = Counter(X_train.data)\n",
    "x, y = [], []\n",
    "for score in sorted(ratings.keys()):\n",
    "    count = ratings[score]\n",
    "    x.append(score)\n",
    "    y.append(count)\n",
    "bar_plot(x, y, 'Rating Score Distribution', 'Score', 'Count', width=0.4)"
   ]
  },
  {
   "cell_type": "markdown",
   "metadata": {},
   "source": [
    "Also, compute the overall mean and median scores. The mean score will be used for later processing."
   ]
  },
  {
   "cell_type": "code",
   "execution_count": 9,
   "metadata": {},
   "outputs": [
    {
     "name": "stdout",
     "output_type": "stream",
     "text": [
      "(Average, Median) score across training set: (3.54, 4.00)\n"
     ]
    }
   ],
   "source": [
    "mean_score = np.asscalar(np.mean(X_train.data))\n",
    "median_score = np.asscalar(np.median(X_train.data))\n",
    "print('(Average, Median) score across training set: (%.2f, %.2f)' % (mean_score, median_score))"
   ]
  },
  {
   "cell_type": "markdown",
   "metadata": {},
   "source": [
    "We can see the mean score is 3.54, but the median score is up to 4.00, which might indicate that in a movie rating system, people tend to give high scores more frequently than low scores."
   ]
  },
  {
   "cell_type": "markdown",
   "metadata": {},
   "source": [
    "Next, let's examine the **data sparsity**. We can compute the number (percentage) of the non-zero entries, the number of unique users, and the number of unique movies in the sparse matrix."
   ]
  },
  {
   "cell_type": "code",
   "execution_count": 10,
   "metadata": {
    "scrolled": false
   },
   "outputs": [
    {
     "name": "stdout",
     "output_type": "stream",
     "text": [
      "Training non-zero entries: 60002 (0.986%) by 671 users, 7607 movies\n"
     ]
    }
   ],
   "source": [
    "print('Training non-zero entries: %d (%.3f%%) by %d users, %d movies' %\n",
    "      (X_train.nnz, X_train.nnz / (n * m) * 100, len(np.unique(X_train.row)), len(np.unique(X_train.col))))"
   ]
  },
  {
   "cell_type": "markdown",
   "metadata": {},
   "source": [
    "The MovieLens dataset is indeed very sparse. Only less than 1% of the matrix entries contain rating scores."
   ]
  },
  {
   "cell_type": "markdown",
   "metadata": {},
   "source": [
    "Then, plot a histogram for the distribution of the number of ratings a user gives. This can be done by counting the number of non-zero entries in rows or columns using the `getnnz()` function."
   ]
  },
  {
   "cell_type": "code",
   "execution_count": 11,
   "metadata": {
    "scrolled": false
   },
   "outputs": [
    {
     "name": "stdout",
     "output_type": "stream",
     "text": [
      "mean: 89.421759, median: 43.000000, min: 9, max: 1437\n"
     ]
    },
    {
     "data": {
      "image/png": "[encoded data removed]",
      "text/plain": [
       "<matplotlib.figure.Figure at 0x105161e48>"
      ]
     },
     "metadata": {},
     "output_type": "display_data"
    }
   ],
   "source": [
    "rows_nnz = X_train.getnnz(axis=1)\n",
    "hist_plot(rows_nnz, 60, 'Distribution of Number of Ratings a User Gives', '# of Ratings Given', '# of Users')\n",
    "print('mean: %f, median: %f, min: %d, max: %d'\n",
    "      % (np.mean(rows_nnz), np.median(rows_nnz), np.min(rows_nnz), np.max(rows_nnz)))"
   ]
  },
  {
   "cell_type": "markdown",
   "metadata": {},
   "source": [
    "We can see that even though the users are deliberately selected in this dataset (each having rated >= 20 movies), the majority of them in the *training* set still give fewer than 25 ratings. Interestingly, the most active user gives 1437 ratings."
   ]
  },
  {
   "cell_type": "markdown",
   "metadata": {},
   "source": [
    "Let's do the same thing for movies. Plot a histogram for the distribution of the number of ratings a movie receives."
   ]
  },
  {
   "cell_type": "code",
   "execution_count": 12,
   "metadata": {},
   "outputs": [
    {
     "name": "stdout",
     "output_type": "stream",
     "text": [
      "mean: 6.618354, median: 2.000000, min: 0, max: 202\n"
     ]
    },
    {
     "data": {
      "image/png": "[encoded data removed]",
      "text/plain": [
       "<matplotlib.figure.Figure at 0x105261780>"
      ]
     },
     "metadata": {},
     "output_type": "display_data"
    }
   ],
   "source": [
    "cols_nnz = X_train.getnnz(axis=0)\n",
    "hist_plot(cols_nnz, 40, 'Distribution of Number of Ratings a Movie Receives', '# of Ratings Received', '# of Movies')\n",
    "print('mean: %f, median: %f, min: %d, max: %d' \n",
    "      % (np.mean(cols_nnz), np.median(cols_nnz), np.min(cols_nnz), np.max(cols_nnz)))"
   ]
  },
  {
   "cell_type": "markdown",
   "metadata": {},
   "source": [
    "The sparsity is even more severe in movies. The majority of them receive only fewer than 5 movies, with median of 2. \n",
    "\n",
    "Therefore, the data sparsity will create great difficulty in our rating prediction task."
   ]
  },
  {
   "cell_type": "markdown",
   "metadata": {},
   "source": [
    "Finally, use the same `rows_nnz` and `cols_nnz` variables to compute the \"unseen\" users or movies as boolean indicator vectors of lengths $n$ or $m$."
   ]
  },
  {
   "cell_type": "code",
   "execution_count": 13,
   "metadata": {},
   "outputs": [
    {
     "name": "stdout",
     "output_type": "stream",
     "text": [
      "0 unseen users, 1459 unseen movies\n"
     ]
    }
   ],
   "source": [
    "# These indicator vectors will be used at prediction time\n",
    "unseen_users, unseen_movies = (rows_nnz == 0), (cols_nnz == 0)\n",
    "print('%d unseen users, %d unseen movies' % (np.sum(unseen_users), np.sum(unseen_movies)))"
   ]
  },
  {
   "cell_type": "markdown",
   "metadata": {},
   "source": [
    "You can verify the calculation by that 9066 (all movies) = 7607 (training movies) + 1459 (unseen movies)."
   ]
  },
  {
   "cell_type": "markdown",
   "metadata": {},
   "source": [
    "### Subtract Default Scores as Missing Value Imputation\n",
    "\n",
    "An important part of data pre-processing is imputing **missing values** (zero entries here). You may think of filling them with some \"default score\" (say 3.0) or with the means/medians of rows/columns. However, this will break the *sparsity* right away and significantly slow down later algorithms.\n",
    "\n",
    "Instead, we can *subtract* all the non-zero entries in `X_train` by this \"default score\" and maintain the sparsity. Just remember to add the default score back at prediction time.\n",
    "\n",
    "This tutorial uses the `mean_score` as `default_score` as it leads to better performance."
   ]
  },
  {
   "cell_type": "code",
   "execution_count": 14,
   "metadata": {
    "scrolled": false
   },
   "outputs": [],
   "source": [
    "# Operate on X_train.data instead of X_train\n",
    "default_score = mean_score\n",
    "X_train.data -= default_score\n",
    "# Convert `X_train` to CSR format for faster operations later.\n",
    "X_train = csr_matrix(X_train, copy=False)"
   ]
  },
  {
   "cell_type": "markdown",
   "metadata": {},
   "source": [
    "## Evaluation Metrics\n",
    "\n",
    "This tutorial uses the [root-mean-square error (RMSE)](https://en.wikipedia.org/wiki/Root-mean-square_deviation) metric to evaluate the prediction with respect to the ground truth:\n",
    "\n",
    "$$RMSE = \\sqrt{\\frac{1}{q}\\sum_{i,j \\in Q}{(\\hat{x_{ij}} - x_{ij})^2}}$$\n",
    "\n",
    ", where $Q$ is the query (validation or test) set, and $q$ is the number of queries."
   ]
  },
  {
   "cell_type": "markdown",
   "metadata": {},
   "source": [
    "Before we do any prediction, let's write a `get_RMSE()` function given two lists of predicted and true ratings."
   ]
  },
  {
   "cell_type": "code",
   "execution_count": 15,
   "metadata": {},
   "outputs": [],
   "source": [
    "# Input: 1D NumPy arrays of predicted and true ratings\n",
    "# Output: scalar RMSE score\n",
    "def get_RMSE(pred, truth):\n",
    "    RMSE = np.asscalar(np.sqrt(np.mean(np.square(pred - truth))))\n",
    "    return RMSE"
   ]
  },
  {
   "cell_type": "markdown",
   "metadata": {},
   "source": [
    "Also, write a `running_time()` utility function to measure running time."
   ]
  },
  {
   "cell_type": "code",
   "execution_count": 16,
   "metadata": {},
   "outputs": [
    {
     "name": "stdout",
     "output_type": "stream",
     "text": [
      "1.94 seconds\n"
     ]
    }
   ],
   "source": [
    "# Input: starting timestamp obtained by calling time.time() earlier in the code\n",
    "# Output: string of running time of the form 'x.xx seconds'\n",
    "def running_time(t_start):\n",
    "    t_end = time()\n",
    "    return '%.2f seconds' % (t_end - t_start)\n",
    "\n",
    "# Quick testing\n",
    "t_temp = time()\n",
    "X_temp = np.random.rand(1500, 10000) @ np.random.rand(10000, 1000)\n",
    "print(running_time(t_temp))"
   ]
  },
  {
   "cell_type": "markdown",
   "metadata": {},
   "source": [
    "Again, write another utility function `prints()` to print a string without a new line during training."
   ]
  },
  {
   "cell_type": "code",
   "execution_count": 17,
   "metadata": {},
   "outputs": [],
   "source": [
    "def prints(s):\n",
    "    sys.stdout.write(s)\n",
    "    sys.stdout.flush()"
   ]
  },
  {
   "cell_type": "markdown",
   "metadata": {},
   "source": [
    "## The Matrix Factorization (MF) Problem"
   ]
  },
  {
   "cell_type": "markdown",
   "metadata": {},
   "source": [
    "The matrix factorization (MF) algorithm rely on automatically discovering **latent factors** from rating data and representing users and movies in a **latent space**. We can think of them as $d$ *unsupervised features* (e.g., movie genres) learned from data.\n",
    "\n",
    "In the following figure from paper [[1]](#References), suppose the MF algorithm discovers $d=2$ hypothetical latent factors and represent each user $i$ (as vector $\\mathbf{u_i}$) and movie $j$ (as vector $\\mathbf{v_j}$) in a 2-dimensional latent space. Then, we can define the predicted rating by user $i$ on movie $j$ as their vector *similarity* in the latent space, measured by the **inner product**:\n",
    "\n",
    "$$\\hat{x_{ij}} \\equiv \\mathbf{u_i}^T \\mathbf{v_j}$$\n",
    "\n",
    "Therefore, we can expect \"Gus to love *Dumb and Dumber*, to hate *The Color Purple*, and to rate *Braveheart* about average\".\n",
    "\n",
    "\n",
    "[<img src=\"https://i.imgur.com/24mx914.jpg\" height=\"600\" width=\"600\">](https://dl.acm.org/citation.cfm?id=1608614)"
   ]
  },
  {
   "cell_type": "markdown",
   "metadata": {},
   "source": [
    "Mathematically, with $d$ latent factors, we can formulate the problem as factorizing the user-movie rating matrix $X$ ($n \\times m$) into the product of latent user matrix $U$ ($n \\times d$) and latent movie matrix $V$ ($d \\times m$). The users and movies are now represented in the latent space as *rows* of $U$ and *columns* of $V$, and the relationship $\\hat{x_{ij}} = \\mathbf{u_i}^T \\mathbf{v_j}$ still holds.\n",
    "\n",
    "Therefore, the machine learning objective becomes solving for all $\\mathbf{u_i}$ and $\\mathbf{v_j}$ that minimizes the loss function $L$ composed of sum-of-square errors (SSE) and two regularization terms by the squared norms of $\\mathbf{u_i}$ and $\\mathbf{v_j}$:\n",
    "\n",
    "$$L = \\sum_{i,j \\in nnz} [\\frac{1}{2}(x_{ij} - \\mathbf{u_i}^T \\mathbf{v_j})^2 + \\frac{1}{2}\\lambda_U \\|\\mathbf{u_i}\\|^2 + \\frac{1}{2}\\lambda_V \\|\\mathbf{v_j}\\|^2] $$\n",
    "\n",
    ", where $nnz$ is the set of all indices $(i,j)$ in the non-zero entries of the training matrix.\n",
    "\n",
    "There are several ways to solve this optimization problem. This tutorial uses stochastic gradient descent (SGD) that requires only $O(|nnz|)$ time per epoch by looping through the non-zero entries in `X_train` exactly once."
   ]
  },
  {
   "cell_type": "markdown",
   "metadata": {},
   "source": [
    "## Solving MF by Stochastic Gradient Descent (SGD)"
   ]
  },
  {
   "cell_type": "markdown",
   "metadata": {},
   "source": [
    "Instead of the total loss, SGD is only based on the loss of *one* training instance (non-zero entry) $L_{ij}$:\n",
    "\n",
    "$$L_{ij} = \\frac{1}{2}(x_{ij} - \\mathbf{u_i}^T \\mathbf{v_j})^2 + \\frac{1}{2}\\lambda_U \\|\\mathbf{u_i}\\|^2 + \\frac{1}{2}\\lambda_V \\|\\mathbf{v_j}\\|^2 $$\n",
    "\n",
    "To siimplify notation, define the error term as $e_{ij} \\equiv x_{ij} - \\mathbf{u_i}^T \\mathbf{v_j} $. Then the gradients are:\n",
    "\n",
    "$$\\frac{\\partial{L_{ij}}}{\\partial{\\mathbf{u_i}}} = -e_{ij} \\mathbf{v_j} + \\lambda_U \\mathbf{u_i}$$\n",
    "\n",
    "$$\\frac{\\partial{L_{ij}}}{\\partial{\\mathbf{v_j}}} = -e_{ij} \\mathbf{u_i} + \\lambda_V \\mathbf{v_j}$$\n",
    "\n",
    "Therefore, the SGD update rules will be:\n",
    "\n",
    "$$\\mathbf{u_i} \\leftarrow \\mathbf{u_i} + \\alpha^{(t)} \\cdot (e_{ij} \\mathbf{v_j} - \\lambda_U \\mathbf{u_i})$$\n",
    "\n",
    "$$\\mathbf{v_j} \\leftarrow \\mathbf{v_j} + \\alpha^{(t)} \\cdot (e_{ij} \\mathbf{u_i} - \\lambda_V \\mathbf{v_j})$$\n",
    "\n",
    ", where $\\alpha^{(t)}$ is the learning rate at epoch $t$.\n",
    "\n",
    "In this tutorial, we define the initial learning rate as $\\alpha^{(0)}$ and decay it per epoch by:\n",
    "$$ \\alpha^{(t)} = \\frac{\\alpha^{(0)}}{1 + (\\beta - 1) t} $$\n",
    "\n",
    "As suggested in paper [[2]](#References), the inner product $\\mathbf{u_i}^T \\mathbf{v_j}$ is passed through a sigmoid function to be in range [0, 1]. At training, the true rating is min-max scaled to be in range [0, 1] too for comparison. At testing, on the other hand, we should reverse-min-max scale the sigmoidal inner product back in range [0.5, 5.0]."
   ]
  },
  {
   "cell_type": "markdown",
   "metadata": {},
   "source": [
    "Usually in a non-convex machine learning problem like matrix factorization, *parameter tuning* can be a time-consuming process. In this tutorial, however, the parameters are already tuned as the following values:"
   ]
  },
  {
   "cell_type": "code",
   "execution_count": 18,
   "metadata": {},
   "outputs": [],
   "source": [
    "# Parameters\n",
    "k = 64\n",
    "lambda_U = 1e-2\n",
    "lambda_V = 2e-2\n",
    "T = 50\n",
    "alpha_init = 1e-1\n",
    "beta = 5e-2\n",
    "\n",
    "# Other constants\n",
    "min_score = 0.5\n",
    "max_score = 5.0"
   ]
  },
  {
   "cell_type": "markdown",
   "metadata": {},
   "source": [
    "Now we are ready to implement the SGD **training**. Writing the whole `train_MF_SGD()` in one cell can be quite long, so we separate some code into a few helper functions as explained in later cells.\n",
    "\n",
    "Note that we cannot initialize $U$ and $V$ to all zeros in this problem because then all the gradients will be zeros. Instead, we will initialize them to random values in $uniform(0, 1/k)$.\n",
    "\n",
    "The SGD algorithm will stop when meeting either of these criteria:\n",
    "1. After $T$ epochs\n",
    "2. Training loss increases\n",
    "3. Validation RMSE increases"
   ]
  },
  {
   "cell_type": "code",
   "execution_count": 19,
   "metadata": {},
   "outputs": [],
   "source": [
    "# Input: training matrix X, validation query matrix Q, number of latent factors k\n",
    "# Output: user/movie matrices (U, V) in latent space\n",
    "def train_MF_SGD(X, Q, k):\n",
    "    n, m = X.shape\n",
    "    users, movies = X.nonzero()\n",
    "    data, nnz = X.data, X.nnz    \n",
    "    print('Training MF-SGD (T: %d, lambda_U: %f, lambda_V: %f, alpha_init: %f, beta: %f)...' %\n",
    "          (T, lambda_U, lambda_V, alpha_init, beta))\n",
    "    \n",
    "    # Initialize U, V to randomized uniform(0, 1/k)\n",
    "    U, V = np.random.rand(n, k) / k, np.random.rand(k, m) / k\n",
    "\n",
    "    prints('  t: %2d, alpha: %f' % (0, 0))\n",
    "    report_epoch(X, U, V, Q_valid)\n",
    "    print()\n",
    "    \n",
    "    prev_loss, prev_RMSE = np.inf, np.inf\n",
    "\n",
    "    for t in range(1, T + 1):\n",
    "        # Epoch t\n",
    "        t_epoch = time()\n",
    "        # Decay learning rate per epoch\n",
    "        alpha = alpha_init / (1.0 + beta * (t - 1.0))\n",
    "        prints('  t: %2d, alpha: %f' % (t, alpha))\n",
    "        \n",
    "        # Loop through all non-zero entries\n",
    "        for idx in range(nnz):\n",
    "            # user: i, movie: j, rating: x_{i,j}\n",
    "            user, movie, rating = users[idx], movies[idx], data[idx]\n",
    "            # u: row vector of user i\n",
    "            # v: column vector of movie j\n",
    "            u, v = U[user, :], V[:, movie]\n",
    "            \n",
    "            # Scale prediction by sigmoid function in range [0, 1]\n",
    "            pred_scaled = 1 / (1 + np.exp(-(u @ v)))            \n",
    "            # Min-max scale rating [min_score - default, max_score - default] to [0, 1] \n",
    "            # to be compared with sigmoid value\n",
    "            rating_scaled = (rating - min_score + default_score) / (max_score - min_score)\n",
    "            \n",
    "            # Compute error and update u and v vectors (both from old values) by the SGD update rule\n",
    "            error = rating_scaled - pred_scaled\n",
    "            u_new = u + alpha * (error * v - lambda_U * u)\n",
    "            v_new = v + alpha * (error * u - lambda_V * v)\n",
    "            U[user, :], V[:, movie] = u_new, v_new\n",
    "\n",
    "        # Report statistics (loss, SSE, U_norm, V_norm) and validation RMSE\n",
    "        loss, RMSE = report_epoch(X, U, V, Q_valid)\n",
    "        prints(' | %s\\n' % (running_time(t_epoch)))\n",
    "    \n",
    "        # Check stopping criteria\n",
    "        if loss > prev_loss:\n",
    "            print('Training stopped by increasing training cost')\n",
    "            break\n",
    "        if RMSE > prev_RMSE:\n",
    "            print('Training stopped by increasing validation RMSE')\n",
    "            break\n",
    "        prev_loss = loss\n",
    "        prev_RMSE = RMSE\n",
    "        if t == T:\n",
    "            print('Training stopped by reaching %d epochs' % T)\n",
    "    \n",
    "    return U, V"
   ]
  },
  {
   "cell_type": "markdown",
   "metadata": {},
   "source": [
    "At the end of each epoch, call `report_epoch()` to show statistics to see if the trend is reasonable."
   ]
  },
  {
   "cell_type": "code",
   "execution_count": 20,
   "metadata": {},
   "outputs": [],
   "source": [
    "# Input: training matrix X, latent user matrix U, latent movie matrix V, validation query matrix Q\n",
    "# Output: training loss, validation RMSE\n",
    "def report_epoch(X, U, V, Q_valid):\n",
    "    # Report training loss\n",
    "    users, movies = X.nonzero()\n",
    "    data, nnz = X.data, X.nnz\n",
    "    # Call predict_MF_train()\n",
    "    SSE, U_norm, V_norm = predict_MF_train(X, U, V)\n",
    "    loss = (SSE + lambda_U * U_norm + lambda_V * V_norm) / 2.0\n",
    "    prints(' | loss: %7.2f (SSE: %7.2f, ||U||: %5.2f, ||V||: %5.2f)' % (loss, SSE, U_norm, V_norm))\n",
    "    # Report validation RMSE\n",
    "    pred_valid = predict_MF_test(Q_valid, U, V)\n",
    "    RMSE = get_RMSE(pred_valid, Q_valid[:, 2])\n",
    "    prints(' | RMSE: %.6f' % RMSE)\n",
    "    return loss, RMSE"
   ]
  },
  {
   "cell_type": "markdown",
   "metadata": {},
   "source": [
    "`predict_MF_train()` is used with training set only. It will loop through the non-zero entries, predict ratings, and compare them with true ratings in *sigmoid scale* of range [0, 1]. It returns SSE, $\\|U\\|$, and $\\|V\\|$ needed by `report_epoch()`."
   ]
  },
  {
   "cell_type": "code",
   "execution_count": 21,
   "metadata": {},
   "outputs": [],
   "source": [
    "# Input: training matrix X, latent user matrix U, latent movie matrix V\n",
    "# Output: (SSE, U_norm, V_norm)\n",
    "def predict_MF_train(X, U, V):\n",
    "    users, movies = X.nonzero()\n",
    "    data, nnz = X.data, X.nnz\n",
    "    SSE = 0.0\n",
    "    for idx in range(nnz):\n",
    "        user, movie = users[idx], movies[idx]\n",
    "        rating = data[idx]\n",
    "        # Scale prediction u @ v by sigmoid function in range [0, 1]\n",
    "        pred_scaled = 1 / (1 + np.exp(-(U[user, :] @ V[:, movie])))\n",
    "        # Min-max scale rating [min_score - default, max_score - default] to [0, 1]\n",
    "        # to be compared with sigmoid value\n",
    "        rating_scaled = (rating - min_score + default_score) / (max_score - min_score)\n",
    "        SSE += (rating_scaled - pred_scaled) ** 2\n",
    "    # Frobeneius norm\n",
    "    U_norm, V_norm = norm(U, 'fro'), norm(V, 'fro')\n",
    "    return SSE, U_norm, V_norm"
   ]
  },
  {
   "cell_type": "markdown",
   "metadata": {},
   "source": [
    "`predict_MF_test()` is used with validation or test set. It will loop through the queries, predict ratings, and compare them with true ratings in *original scale* of range [0.5, 5.0]. It returns an 1D NumPy array of predicted ratings."
   ]
  },
  {
   "cell_type": "code",
   "execution_count": 22,
   "metadata": {},
   "outputs": [],
   "source": [
    "# Input: Input: validation or test query matrix Q, latent user matrix U, latent movie matrix V\n",
    "# Output: 1D NumPy array of predicted ratings\n",
    "def predict_MF_test(Q, U, V):\n",
    "    pred = []\n",
    "    for (user, movie, rating) in Q:\n",
    "        # Convert float to int\n",
    "        user, movie = int(user), int(movie)\n",
    "        # In the query (user, movie) are both empty, use the default score as prediction\n",
    "        if unseen_users[user] == True and unseen_movies[movie] == True:\n",
    "            pred_restored = default_score\n",
    "            print('unseen: (%d, %d)' % (user, movie))\n",
    "        else:\n",
    "            # Scale prediction u * v by sigmoid function in range [0, 1]\n",
    "            pred_scaled = 1 / (1 + np.exp(-(U[user, :] @ V[:, movie])))\n",
    "            # Reverse-min-max scale prediction from [0, 1] to [min_score, max_score]\n",
    "            pred_restored = pred_scaled * (max_score - min_score) + min_score\n",
    "        pred.append(pred_restored)\n",
    "    return np.array(pred)"
   ]
  },
  {
   "cell_type": "markdown",
   "metadata": {},
   "source": [
    "Now, call `train_MF_SGD()` to train a model and predict on **validation set**.\n",
    "\n",
    "** NOTE: This cell may take a few minutes to run. **"
   ]
  },
  {
   "cell_type": "code",
   "execution_count": 23,
   "metadata": {
    "scrolled": false
   },
   "outputs": [
    {
     "name": "stdout",
     "output_type": "stream",
     "text": [
      "[k = 64]\n",
      "Training MF-SGD (T: 50, lambda_U: 0.010000, lambda_V: 0.020000, alpha_init: 0.100000, beta: 0.050000)...\n",
      "  t:  0, alpha: 0.000000 | loss: 2577.55 (SSE: 5154.95, ||U||:  1.87, ||V||:  6.87) | RMSE: 1.328079\n",
      "  t:  1, alpha: 0.100000 | loss: 2242.23 (SSE: 4484.12, ||U||:  8.96, ||V||: 12.29) | RMSE: 1.245795 | 2.46 seconds\n",
      "  t:  2, alpha: 0.095238 | loss: 1528.42 (SSE: 3056.20, ||U||: 19.20, ||V||: 22.66) | RMSE: 1.051621 | 3.27 seconds\n",
      "  t:  3, alpha: 0.090909 | loss: 1302.54 (SSE: 2604.28, ||U||: 24.27, ||V||: 28.27) | RMSE: 0.987830 | 3.31 seconds\n",
      "  t:  4, alpha: 0.086957 | loss: 1215.27 (SSE: 2429.63, ||U||: 26.93, ||V||: 31.60) | RMSE: 0.965370 | 2.81 seconds\n",
      "  t:  5, alpha: 0.083333 | loss: 1168.43 (SSE: 2335.90, ||U||: 28.66, ||V||: 34.04) | RMSE: 0.954570 | 2.45 seconds\n",
      "  t:  6, alpha: 0.080000 | loss: 1138.99 (SSE: 2276.96, ||U||: 29.89, ||V||: 35.95) | RMSE: 0.948551 | 1.86 seconds\n",
      "  t:  7, alpha: 0.076923 | loss: 1118.48 (SSE: 2235.89, ||U||: 30.81, ||V||: 37.54) | RMSE: 0.944868 | 1.66 seconds\n",
      "  t:  8, alpha: 0.074074 | loss: 1102.99 (SSE: 2204.89, ||U||: 31.53, ||V||: 38.90) | RMSE: 0.942441 | 1.58 seconds\n",
      "  t:  9, alpha: 0.071429 | loss: 1090.37 (SSE: 2179.62, ||U||: 32.10, ||V||: 40.09) | RMSE: 0.940717 | 1.55 seconds\n",
      "  t: 10, alpha: 0.068966 | loss: 1079.19 (SSE: 2157.23, ||U||: 32.57, ||V||: 41.16) | RMSE: 0.939375 | 1.85 seconds\n",
      "  t: 11, alpha: 0.066667 | loss: 1068.32 (SSE: 2135.46, ||U||: 32.97, ||V||: 42.13) | RMSE: 0.938199 | 1.57 seconds\n",
      "  t: 12, alpha: 0.064516 | loss: 1056.74 (SSE: 2112.28, ||U||: 33.33, ||V||: 43.04) | RMSE: 0.937023 | 1.53 seconds\n",
      "  t: 13, alpha: 0.062500 | loss: 1043.63 (SSE: 2086.04, ||U||: 33.65, ||V||: 43.90) | RMSE: 0.935716 | 1.58 seconds\n",
      "  t: 14, alpha: 0.060606 | loss: 1028.58 (SSE: 2055.92, ||U||: 33.95, ||V||: 44.73) | RMSE: 0.934195 | 1.73 seconds\n",
      "  t: 15, alpha: 0.058824 | loss: 1011.84 (SSE: 2022.43, ||U||: 34.24, ||V||: 45.55) | RMSE: 0.932454 | 1.53 seconds\n",
      "  t: 16, alpha: 0.057143 | loss:  994.17 (SSE: 1987.07, ||U||: 34.53, ||V||: 46.36) | RMSE: 0.930564 | 1.52 seconds\n",
      "  t: 17, alpha: 0.055556 | loss:  976.24 (SSE: 1951.18, ||U||: 34.81, ||V||: 47.16) | RMSE: 0.928628 | 1.53 seconds\n",
      "  t: 18, alpha: 0.054054 | loss:  958.32 (SSE: 1915.34, ||U||: 35.08, ||V||: 47.94) | RMSE: 0.926732 | 1.64 seconds\n",
      "  t: 19, alpha: 0.052632 | loss:  940.42 (SSE: 1879.51, ||U||: 35.36, ||V||: 48.72) | RMSE: 0.924928 | 1.64 seconds\n",
      "  t: 20, alpha: 0.051282 | loss:  922.43 (SSE: 1843.52, ||U||: 35.64, ||V||: 49.48) | RMSE: 0.923240 | 1.58 seconds\n",
      "  t: 21, alpha: 0.050000 | loss:  904.29 (SSE: 1807.21, ||U||: 35.91, ||V||: 50.24) | RMSE: 0.921672 | 1.56 seconds\n",
      "  t: 22, alpha: 0.048780 | loss:  885.94 (SSE: 1770.50, ||U||: 36.20, ||V||: 50.99) | RMSE: 0.920222 | 1.53 seconds\n",
      "  t: 23, alpha: 0.047619 | loss:  867.41 (SSE: 1733.41, ||U||: 36.48, ||V||: 51.73) | RMSE: 0.918880 | 1.80 seconds\n",
      "  t: 24, alpha: 0.046512 | loss:  848.71 (SSE: 1696.01, ||U||: 36.77, ||V||: 52.46) | RMSE: 0.917640 | 1.53 seconds\n",
      "  t: 25, alpha: 0.045455 | loss:  829.92 (SSE: 1658.40, ||U||: 37.06, ||V||: 53.19) | RMSE: 0.916492 | 1.55 seconds\n",
      "  t: 26, alpha: 0.044444 | loss:  811.10 (SSE: 1620.74, ||U||: 37.36, ||V||: 53.90) | RMSE: 0.915433 | 1.54 seconds\n",
      "  t: 27, alpha: 0.043478 | loss:  792.32 (SSE: 1583.16, ||U||: 37.66, ||V||: 54.62) | RMSE: 0.914458 | 1.69 seconds\n",
      "  t: 28, alpha: 0.042553 | loss:  773.65 (SSE: 1545.81, ||U||: 37.97, ||V||: 55.32) | RMSE: 0.913567 | 1.63 seconds\n",
      "  t: 29, alpha: 0.041667 | loss:  755.16 (SSE: 1508.82, ||U||: 38.27, ||V||: 56.02) | RMSE: 0.912756 | 1.62 seconds\n",
      "  t: 30, alpha: 0.040816 | loss:  736.91 (SSE: 1472.31, ||U||: 38.58, ||V||: 56.70) | RMSE: 0.912025 | 1.54 seconds\n",
      "  t: 31, alpha: 0.040000 | loss:  718.97 (SSE: 1436.41, ||U||: 38.89, ||V||: 57.38) | RMSE: 0.911372 | 1.58 seconds\n",
      "  t: 32, alpha: 0.039216 | loss:  701.38 (SSE: 1401.21, ||U||: 39.20, ||V||: 58.05) | RMSE: 0.910794 | 1.72 seconds\n",
      "  t: 33, alpha: 0.038462 | loss:  684.20 (SSE: 1366.83, ||U||: 39.51, ||V||: 58.70) | RMSE: 0.910288 | 1.56 seconds\n",
      "  t: 34, alpha: 0.037736 | loss:  667.46 (SSE: 1333.33, ||U||: 39.82, ||V||: 59.35) | RMSE: 0.909850 | 1.52 seconds\n",
      "  t: 35, alpha: 0.037037 | loss:  651.19 (SSE: 1300.79, ||U||: 40.13, ||V||: 59.98) | RMSE: 0.909477 | 1.55 seconds\n",
      "  t: 36, alpha: 0.036364 | loss:  635.43 (SSE: 1269.24, ||U||: 40.43, ||V||: 60.60) | RMSE: 0.909164 | 1.73 seconds\n",
      "  t: 37, alpha: 0.035714 | loss:  620.18 (SSE: 1238.72, ||U||: 40.73, ||V||: 61.21) | RMSE: 0.908906 | 1.55 seconds\n",
      "  t: 38, alpha: 0.035088 | loss:  605.45 (SSE: 1209.25, ||U||: 41.03, ||V||: 61.81) | RMSE: 0.908699 | 1.62 seconds\n",
      "  t: 39, alpha: 0.034483 | loss:  591.24 (SSE: 1180.82, ||U||: 41.32, ||V||: 62.39) | RMSE: 0.908539 | 1.53 seconds\n",
      "  t: 40, alpha: 0.033898 | loss:  577.55 (SSE: 1153.43, ||U||: 41.61, ||V||: 62.96) | RMSE: 0.908420 | 1.70 seconds\n",
      "  t: 41, alpha: 0.033333 | loss:  564.37 (SSE: 1127.05, ||U||: 41.90, ||V||: 63.51) | RMSE: 0.908339 | 1.66 seconds\n",
      "  t: 42, alpha: 0.032787 | loss:  551.69 (SSE: 1101.67, ||U||: 42.17, ||V||: 64.05) | RMSE: 0.908291 | 1.53 seconds\n",
      "  t: 43, alpha: 0.032258 | loss:  539.49 (SSE: 1077.26, ||U||: 42.45, ||V||: 64.58) | RMSE: 0.908274 | 1.53 seconds\n",
      "  t: 44, alpha: 0.031746 | loss:  527.75 (SSE: 1053.78, ||U||: 42.71, ||V||: 65.10) | RMSE: 0.908283 | 1.55 seconds\n",
      "Training stopped by increasing validation RMSE\n",
      "Validation RMSE: 0.908283\n",
      "Running time: 77.82 seconds\n"
     ]
    }
   ],
   "source": [
    "t_run = time()\n",
    "print('[k = %d]' % k)\n",
    "# Train model\n",
    "U, V = train_MF_SGD(X_train, Q_valid, k)\n",
    "\n",
    "# Evaluate validation RMSE again and update best parameters\n",
    "pred_valid = predict_MF_test(Q_valid, U, V)\n",
    "RMSE_valid = get_RMSE(pred_valid, Q_valid[:, 2])\n",
    "print('Validation RMSE: %f' % RMSE_valid)\n",
    "print('Running time: %s' % running_time(t_run))"
   ]
  },
  {
   "cell_type": "markdown",
   "metadata": {},
   "source": [
    "Finally, use `U` and `V` again to predict the **test set** to see if our model *generalizes* well."
   ]
  },
  {
   "cell_type": "code",
   "execution_count": 24,
   "metadata": {},
   "outputs": [
    {
     "name": "stdout",
     "output_type": "stream",
     "text": [
      "Test RMSE: 0.908888\n"
     ]
    }
   ],
   "source": [
    "pred_test = predict_MF_test(Q_test, U, V)\n",
    "RMSE_test = get_RMSE(pred_test, Q_test[:, 2])\n",
    "print('Test RMSE: %f' % RMSE_test)"
   ]
  },
  {
   "cell_type": "markdown",
   "metadata": {},
   "source": [
    "Yes, it does. Both RMSE values are very close. Great! We have trained a working matrix factorization model with SGD :)"
   ]
  },
  {
   "cell_type": "markdown",
   "metadata": {},
   "source": [
    "## Potential Future Work"
   ]
  },
  {
   "cell_type": "markdown",
   "metadata": {},
   "source": [
    "There are a few parallelizable optimization algorithms for the same matrix factorization problem, including distributed SGD (DSGD) and Alterating Least Square (ALS) that has a closed-form solution in each update.\n",
    "\n",
    "Once we finish implementing the non-distributed version of the algorithms, we can move on to parallize them in distributed systems such as Spark.\n",
    "\n",
    "Finally, given sufficient computational resources, we should run on the full dataset and fine-tune parameters.\n",
    "\n",
    "Another direction is to incorporate other context information in the **MovieLens** dataset, such as Tag Genome, Tag, Genre, and IMDB descriptions."
   ]
  },
  {
   "cell_type": "markdown",
   "metadata": {},
   "source": [
    "## References\n",
    "\n",
    "- [Papers]\n",
    " - [1] Matrix Factorization Techniques for Recommender Systems, IEEE 2009. https://dl.acm.org/citation.cfm?id=1608614\n",
    " - [2] Probabilistic Matrix Factorization, NIPS 2007. https://dl.acm.org/citation.cfm?id=2981720\n",
    "- [Datasets]\n",
    " - MovieLens: https://grouplens.org/datasets/movielens/\n",
    " - Netflix Prize: https://www.kaggle.com/netflix-inc/netflix-prize-data\n",
    "- [Wikipedia Articles]\n",
    " - Recommender System: https://en.wikipedia.org/wiki/Recommender_system\n",
    " - Collaborative Filtering: https://en.wikipedia.org/wiki/Collaborative_filtering\n",
    "- [Related CMU Courses]\n",
    " - 11-441/641/741 Machine Learning for Text Mining: http://nyc.lti.cs.cmu.edu/classes/11-741/s18\n",
    " - 10-405/605/805 Machine Learning with Large Datasets: http://curtis.ml.cmu.edu/w/courses\n",
    " - 15-388/688 Practical Data Science: http://www.datasciencecourse.org\n"
   ]
  }
 ],
 "metadata": {
  "kernelspec": {
   "display_name": "Python 3",
   "language": "python",
   "name": "python3"
  },
  "language_info": {
   "codemirror_mode": {
    "name": "ipython",
    "version": 3
   },
   "file_extension": ".py",
   "mimetype": "text/x-python",
   "name": "python",
   "nbconvert_exporter": "python",
   "pygments_lexer": "ipython3",
   "version": "3.6.4"
  }
 },
 "nbformat": 4,
 "nbformat_minor": 2
}
