{
 "cells": [
  {
   "cell_type": "markdown",
   "metadata": {},
   "source": [
    "# Introduction"
   ]
  },
  {
   "cell_type": "markdown",
   "metadata": {},
   "source": [
    "D3.js is a Javascript library that stands for Data Driven Documents. It can be used to manipulate documents based on data. D3 helps create visualizations using HTML/CSS and SVG. This tutorial is aimed at teaching you the basics of DOM (Document Object Model) manipulation using D3 syntax. We will start by using D3 to create basic shapes before moving onto graphs and visualizations.\n",
    "\n",
    "A look at the D3.js website gives shows us the massive capabilities of D3 and visualizations. However, while D3 is a relatively easy library to learn, it cannot be taught in one tutorial. So the prime focus of this tutorial will focus on **basic D3 functionality** and **how D3 can be used in Python notebooks**, rather than how D3 can be used for creative, interactive visualizations."
   ]
  },
  {
   "cell_type": "markdown",
   "metadata": {},
   "source": [
    "## Tutorial Content"
   ]
  },
  {
   "cell_type": "markdown",
   "metadata": {},
   "source": [
    "We will cover the following topics:\n",
    "- Introduction to DOM\n",
    "- Using D3 to create basic shapes\n",
    "- Using data with D3\n",
    "- Creating a bar chart using data from Python\n",
    "- Creating a simple framework to generate D3 charts\n",
    "- Conclusion\n",
    "- References and further reading"
   ]
  },
  {
   "cell_type": "markdown",
   "metadata": {},
   "source": [
    "## Introduction to DOM"
   ]
  },
  {
   "cell_type": "markdown",
   "metadata": {},
   "source": [
    "To begin with, we will have to import the ```HTML``` library from the ```display``` module"
   ]
  },
  {
   "cell_type": "code",
   "execution_count": 1,
   "metadata": {
    "collapsed": true
   },
   "outputs": [],
   "source": [
    "from IPython.core.display import HTML"
   ]
  },
  {
   "cell_type": "markdown",
   "metadata": {},
   "source": [
    "This library allows us to display HTML content as the output of our code block."
   ]
  },
  {
   "cell_type": "code",
   "execution_count": 2,
   "metadata": {},
   "outputs": [
    {
     "data": {
      "text/html": [
       "\n",
       "<h1>Hello World</h1>\n"
      ],
      "text/plain": [
       "<IPython.core.display.HTML object>"
      ]
     },
     "execution_count": 2,
     "metadata": {},
     "output_type": "execute_result"
    }
   ],
   "source": [
    "HTML('''\n",
    "<h1>Hello World</h1>\n",
    "''')"
   ]
  },
  {
   "cell_type": "markdown",
   "metadata": {},
   "source": [
    "We can even use basic CSS to style out HTML."
   ]
  },
  {
   "cell_type": "code",
   "execution_count": 3,
   "metadata": {},
   "outputs": [
    {
     "data": {
      "text/html": [
       "\n",
       "<style scoped>\n",
       ".heading {\n",
       "  color: red;\n",
       "  font: 16px Times New Roman;\n",
       "}\n",
       "</style>\n",
       "<h1 class=\"heading\">Hello World</h1>\n"
      ],
      "text/plain": [
       "<IPython.core.display.HTML object>"
      ]
     },
     "execution_count": 3,
     "metadata": {},
     "output_type": "execute_result"
    }
   ],
   "source": [
    "HTML('''\n",
    "<style scoped>\n",
    ".heading {\n",
    "  color: red;\n",
    "  font: 16px Times New Roman;\n",
    "}\n",
    "</style>\n",
    "<h1 class=\"heading\">Hello World</h1>\n",
    "''')"
   ]
  },
  {
   "cell_type": "markdown",
   "metadata": {},
   "source": [
    "We will now use the D3 library to manipulate the HTML. Every loaded HTML page generates its Domain Object Model (DOM). Javascript, and, by extension D3 can use this DOM to manipulate the HTML content of the loaded page.\n",
    "\n",
    "To use D3 in our notebook, we will have to include it first.\n",
    "\n",
    "**Note:** We will be using D3 version 3.5.6 in this tutorial. The latest version of D3 is version 5 and it does contain certain syntatical differences from the version that we have used."
   ]
  },
  {
   "cell_type": "code",
   "execution_count": 4,
   "metadata": {},
   "outputs": [
    {
     "data": {
      "text/html": [
       "<script src=\"lib/d3.min.js\"></script>"
      ],
      "text/plain": [
       "<IPython.core.display.HTML object>"
      ]
     },
     "execution_count": 4,
     "metadata": {},
     "output_type": "execute_result"
    }
   ],
   "source": [
    "HTML('<script src=\"lib/d3.min.js\"></script>')"
   ]
  },
  {
   "cell_type": "code",
   "execution_count": 5,
   "metadata": {},
   "outputs": [
    {
     "data": {
      "text/html": [
       "\n",
       "<style scoped>\n",
       ".heading1 {\n",
       "  color: steelblue;\n",
       "}\n",
       "</style>\n",
       "<div id=\"d3-div-1\"></div>\n",
       "<script>\n",
       "\n",
       "d3.select(\"#d3-div-1\").append('p')\n",
       "      .attr(\"class\",\"heading1\")\n",
       "      .style(\"font-size\", \"30px\")\n",
       "      .text(\"Hello World\");\n",
       "\n",
       "</script>\n"
      ],
      "text/plain": [
       "<IPython.core.display.HTML object>"
      ]
     },
     "execution_count": 5,
     "metadata": {},
     "output_type": "execute_result"
    }
   ],
   "source": [
    "HTML('''\n",
    "<style scoped>\n",
    ".heading1 {\n",
    "  color: steelblue;\n",
    "}\n",
    "</style>\n",
    "<div id=\"d3-div-1\"></div>\n",
    "<script>\n",
    "\n",
    "d3.select(\"#d3-div-1\").append('p')\n",
    "      .attr(\"class\",\"heading1\")\n",
    "      .style(\"font-size\", \"30px\")\n",
    "      .text(\"Hello World\");\n",
    "\n",
    "</script>\n",
    "''')"
   ]
  },
  {
   "cell_type": "markdown",
   "metadata": {},
   "source": [
    "Here is a breakdown of the functions we used.\n",
    "- select: Selects an HTML element for manipulation using either tag name, style class or ID (we selected an HTML division using its id)\n",
    "- append: Adds an HTML element *inside* the selected outer HTML element (we appended an HTML paragraph)\n",
    "- attr: Adds/Modifies an HTML attribute to/of an HTML element\n",
    "- style: Adds/Modifies the style attribute to/of an HTML element\n",
    "- text: Modifies the innerText of an HTML element\n",
    "\n",
    "The result of the D3 code above will be the following HTML document:"
   ]
  },
  {
   "cell_type": "code",
   "execution_count": 6,
   "metadata": {},
   "outputs": [
    {
     "data": {
      "text/html": [
       "\n",
       "<style scoped>\n",
       ".heading1 {\n",
       "  color: steelblue;\n",
       "}\n",
       "</style>\n",
       "<div id=\"d3-div-1_1\">\n",
       "    <p class=\"heading1\" style=\"font-size: 30px;\">Hello World</p>\n",
       "</div>\n"
      ],
      "text/plain": [
       "<IPython.core.display.HTML object>"
      ]
     },
     "execution_count": 6,
     "metadata": {},
     "output_type": "execute_result"
    }
   ],
   "source": [
    "HTML('''\n",
    "<style scoped>\n",
    ".heading1 {\n",
    "  color: steelblue;\n",
    "}\n",
    "</style>\n",
    "<div id=\"d3-div-1_1\">\n",
    "    <p class=\"heading1\" style=\"font-size: 30px;\">Hello World</p>\n",
    "</div>\n",
    "''')"
   ]
  },
  {
   "cell_type": "markdown",
   "metadata": {},
   "source": [
    "## Using D3 to create basic shapes"
   ]
  },
  {
   "cell_type": "markdown",
   "metadata": {},
   "source": [
    "We are now going to use D3 to create some basic shapes. In this section, we will be using an Scalable Vector Graphics (SVG) element. You will get a better idea of the co-ordinate plane of an SVG and how to \"navigate\" it to generate visualizations. One can thing of navigating through an SVG using a reference \"cursor\". The cursor is not actually visible, but it points to any single point in the XY co-ordinate plane.\n",
    "\n",
    "The first thing that you have to keep in mind is that SVG geometry works like regular geometry with one key difference: the Y-axis is inverted. Therefore, as the Y co-ordinate increases, the \"cursor\" moves downward and the origin, the (0,0) point, is in the top left corner instead of the bottom left corner.\n",
    "\n",
    "Now we will see how to append a square at the centre of an SVG using D3:\n",
    "1. First we will append an SVG element to an HTML division\n",
    "2. We will give the SVG a size and background colour\n",
    "3. We will append the square to the SVG\n",
    "4. We will move the square to the centre of the SVG"
   ]
  },
  {
   "cell_type": "code",
   "execution_count": 7,
   "metadata": {},
   "outputs": [
    {
     "data": {
      "text/html": [
       "\n",
       "<div id=\"d3-div-2\"></div>\n",
       "<script>\n",
       "\n",
       "d3.select(\"#d3-div-2\").append('svg')\n",
       "      .attr(\"height\",\"200px\")\n",
       "      .attr(\"width\",\"400px\")\n",
       "      .style(\"background-color\", \"#DDD\");\n",
       "\n",
       "</script>\n"
      ],
      "text/plain": [
       "<IPython.core.display.HTML object>"
      ]
     },
     "execution_count": 7,
     "metadata": {},
     "output_type": "execute_result"
    }
   ],
   "source": [
    "HTML('''\n",
    "<div id=\"d3-div-2\"></div>\n",
    "<script>\n",
    "\n",
    "d3.select(\"#d3-div-2\").append('svg')\n",
    "      .attr(\"height\",\"200px\")\n",
    "      .attr(\"width\",\"400px\")\n",
    "      .style(\"background-color\", \"#DDD\");\n",
    "\n",
    "</script>\n",
    "''')"
   ]
  },
  {
   "cell_type": "markdown",
   "metadata": {},
   "source": [
    "Now that we have added our SVG, we need to append a square. A square is represented using the SVG ```rect``` element."
   ]
  },
  {
   "cell_type": "code",
   "execution_count": 8,
   "metadata": {},
   "outputs": [
    {
     "data": {
      "text/html": [
       "\n",
       "<script>\n",
       "\n",
       "d3.select(\"#d3-div-2\").select('svg')\n",
       "      .append(\"rect\")\n",
       "      .attr(\"height\",\"20px\")\n",
       "      .attr(\"width\",\"20px\")\n",
       "      .style(\"fill\", \"#000\");\n",
       "\n",
       "</script>\n"
      ],
      "text/plain": [
       "<IPython.core.display.HTML object>"
      ]
     },
     "execution_count": 8,
     "metadata": {},
     "output_type": "execute_result"
    }
   ],
   "source": [
    "HTML('''\n",
    "<script>\n",
    "\n",
    "d3.select(\"#d3-div-2\").select('svg')\n",
    "      .append(\"rect\")\n",
    "      .attr(\"height\",\"20px\")\n",
    "      .attr(\"width\",\"20px\")\n",
    "      .style(\"fill\", \"#000\");\n",
    "\n",
    "</script>\n",
    "''')"
   ]
  },
  {
   "cell_type": "markdown",
   "metadata": {},
   "source": [
    "We will now move the square to the centre using the ```transform``` attribute. The value for this attribute will contain the co-ordinate to where the square should be \"translated\". Since our SVG is 400 x 200, the centre would be (200,100)\n",
    "\n",
    "**Note:** You will need to scroll up to see the results"
   ]
  },
  {
   "cell_type": "code",
   "execution_count": 9,
   "metadata": {},
   "outputs": [
    {
     "data": {
      "text/html": [
       "\n",
       "<script>\n",
       "\n",
       "d3.select(\"#d3-div-2\").select('svg').select('rect')\n",
       "      .attr(\"transform\",\"translate(200,100)\");\n",
       "\n",
       "</script>\n"
      ],
      "text/plain": [
       "<IPython.core.display.HTML object>"
      ]
     },
     "execution_count": 9,
     "metadata": {},
     "output_type": "execute_result"
    }
   ],
   "source": [
    "HTML('''\n",
    "<script>\n",
    "\n",
    "d3.select(\"#d3-div-2\").select('svg').select('rect')\n",
    "      .attr(\"transform\",\"translate(200,100)\");\n",
    "\n",
    "</script>\n",
    "''')"
   ]
  },
  {
   "cell_type": "markdown",
   "metadata": {},
   "source": [
    "As you can see that the square is slightly askew from the centre. That is because we have no accounted for the square's dimensions. The \"origin\" of the square is its top left corner. If we are to centre it within the svg, we need to account for its dimensions.\n",
    "\n",
    "**Note:** The values given to the ```translate``` function are absolute and only relative to the origin of the SVG"
   ]
  },
  {
   "cell_type": "code",
   "execution_count": 10,
   "metadata": {},
   "outputs": [
    {
     "data": {
      "text/html": [
       "\n",
       "<script>\n",
       "\n",
       "d3.select(\"#d3-div-2\").select('svg').select('rect')\n",
       "      .attr(\"transform\",\"translate(190,90)\");\n",
       "\n",
       "</script>\n"
      ],
      "text/plain": [
       "<IPython.core.display.HTML object>"
      ]
     },
     "execution_count": 10,
     "metadata": {},
     "output_type": "execute_result"
    }
   ],
   "source": [
    "HTML('''\n",
    "<script>\n",
    "\n",
    "d3.select(\"#d3-div-2\").select('svg').select('rect')\n",
    "      .attr(\"transform\",\"translate(190,90)\");\n",
    "\n",
    "</script>\n",
    "''')"
   ]
  },
  {
   "cell_type": "markdown",
   "metadata": {},
   "source": [
    "Now we'll see how this could have been done in one go."
   ]
  },
  {
   "cell_type": "code",
   "execution_count": 11,
   "metadata": {},
   "outputs": [
    {
     "data": {
      "text/html": [
       "\n",
       "<div id=\"d3-div-3\"></div>\n",
       "<script>\n",
       "\n",
       "d3.select(\"#d3-div-3\").append('svg')\n",
       "      .attr(\"height\",\"200px\")\n",
       "      .attr(\"width\",\"400px\")\n",
       "      .style(\"background-color\", \"#DDD\")\n",
       "      .append('rect')\n",
       "      .attr(\"transform\",\"translate(190,90)\")\n",
       "      .attr(\"height\",\"20px\")\n",
       "      .attr(\"width\",\"20px\")\n",
       "      .style(\"fill\", \"#000\");\n",
       "\n",
       "</script>\n"
      ],
      "text/plain": [
       "<IPython.core.display.HTML object>"
      ]
     },
     "execution_count": 11,
     "metadata": {},
     "output_type": "execute_result"
    }
   ],
   "source": [
    "HTML('''\n",
    "<div id=\"d3-div-3\"></div>\n",
    "<script>\n",
    "\n",
    "d3.select(\"#d3-div-3\").append('svg')\n",
    "      .attr(\"height\",\"200px\")\n",
    "      .attr(\"width\",\"400px\")\n",
    "      .style(\"background-color\", \"#DDD\")\n",
    "      .append('rect')\n",
    "      .attr(\"transform\",\"translate(190,90)\")\n",
    "      .attr(\"height\",\"20px\")\n",
    "      .attr(\"width\",\"20px\")\n",
    "      .style(\"fill\", \"#000\");\n",
    "\n",
    "</script>\n",
    "''')"
   ]
  },
  {
   "cell_type": "markdown",
   "metadata": {},
   "source": [
    "We will now see examples of how to append lines and circles within an SVG using D3."
   ]
  },
  {
   "cell_type": "code",
   "execution_count": 12,
   "metadata": {},
   "outputs": [
    {
     "data": {
      "text/html": [
       "\n",
       "<div id=\"d3-div-4\"></div>\n",
       "<script>\n",
       "\n",
       "d3.select(\"#d3-div-4\").append('svg')\n",
       "      .attr(\"id\",\"d3svg\")\n",
       "      .attr(\"height\",\"200px\")\n",
       "      .attr(\"width\",\"400px\")\n",
       "      .style(\"background-color\", \"#DDD\")\n",
       "      .append('circle')\n",
       "      .attr(\"cx\",\"200\")\n",
       "      .attr(\"cy\",\"100\")\n",
       "      .attr(\"r\",\"20px\")\n",
       "      .style(\"fill\", \"#000\");\n",
       "\n",
       "d3.select(\"#d3svg\")\n",
       "      .append('line')\n",
       "      .attr(\"x1\",\"200\")\n",
       "      .attr(\"x2\",\"200\")\n",
       "      .attr(\"y1\",\"0\")\n",
       "      .attr(\"y2\",\"200\")\n",
       "      .attr(\"stroke\", \"red\");\n",
       "      \n",
       "d3.select(\"#d3svg\")\n",
       "      .append('line')\n",
       "      .attr(\"x1\",\"000\")\n",
       "      .attr(\"x2\",\"400\")\n",
       "      .attr(\"y1\",\"100\")\n",
       "      .attr(\"y2\",\"100\")\n",
       "      .attr(\"stroke\", \"red\");\n",
       "</script>\n"
      ],
      "text/plain": [
       "<IPython.core.display.HTML object>"
      ]
     },
     "execution_count": 12,
     "metadata": {},
     "output_type": "execute_result"
    }
   ],
   "source": [
    "HTML('''\n",
    "<div id=\"d3-div-4\"></div>\n",
    "<script>\n",
    "\n",
    "d3.select(\"#d3-div-4\").append('svg')\n",
    "      .attr(\"id\",\"d3svg\")\n",
    "      .attr(\"height\",\"200px\")\n",
    "      .attr(\"width\",\"400px\")\n",
    "      .style(\"background-color\", \"#DDD\")\n",
    "      .append('circle')\n",
    "      .attr(\"cx\",\"200\")\n",
    "      .attr(\"cy\",\"100\")\n",
    "      .attr(\"r\",\"20px\")\n",
    "      .style(\"fill\", \"#000\");\n",
    "\n",
    "d3.select(\"#d3svg\")\n",
    "      .append('line')\n",
    "      .attr(\"x1\",\"200\")\n",
    "      .attr(\"x2\",\"200\")\n",
    "      .attr(\"y1\",\"0\")\n",
    "      .attr(\"y2\",\"200\")\n",
    "      .attr(\"stroke\", \"red\");\n",
    "      \n",
    "d3.select(\"#d3svg\")\n",
    "      .append('line')\n",
    "      .attr(\"x1\",\"000\")\n",
    "      .attr(\"x2\",\"400\")\n",
    "      .attr(\"y1\",\"100\")\n",
    "      .attr(\"y2\",\"100\")\n",
    "      .attr(\"stroke\", \"red\");\n",
    "</script>\n",
    "''')"
   ]
  },
  {
   "cell_type": "markdown",
   "metadata": {},
   "source": [
    "To learn more about other SVG elements and their relevant attributes you can visit W3Schools [here](https://www.w3schools.com/graphics/svg_intro.asp)."
   ]
  },
  {
   "cell_type": "markdown",
   "metadata": {},
   "source": [
    "## Using data with D3"
   ]
  },
  {
   "cell_type": "markdown",
   "metadata": {},
   "source": [
    "We will now see the basics of D3 interacts with data to generate charts and graphs. We are going to use an array of sizes to generate multiple squares of those given sizes."
   ]
  },
  {
   "cell_type": "code",
   "execution_count": 13,
   "metadata": {},
   "outputs": [
    {
     "data": {
      "text/html": [
       "\n",
       "<div id=\"d3-div-5\"></div>\n",
       "<script>\n",
       "sizes = [10,20,30,40,50]\n",
       "d3.select(\"#d3-div-5\").append('svg')\n",
       "      .attr(\"height\",\"200px\")\n",
       "      .attr(\"width\",\"400px\")\n",
       "      .style(\"background-color\", \"#DDD\")\n",
       "      .selectAll('rect').data(sizes).enter()\n",
       "      .append('rect')\n",
       "      .attr(\"transform\",function(d,i){return \"translate(\"+(((i+1)*(400/(sizes.length+1)))-(d/2))+\",\"+(90-d/2)+\")\"})\n",
       "      .attr(\"height\",function(d,i){return d+\"px\"})\n",
       "      .attr(\"width\",function(d,i){return d+\"px\"})\n",
       "      .style(\"fill\", \"#000\");\n",
       "\n",
       "</script>\n"
      ],
      "text/plain": [
       "<IPython.core.display.HTML object>"
      ]
     },
     "execution_count": 13,
     "metadata": {},
     "output_type": "execute_result"
    }
   ],
   "source": [
    "HTML('''\n",
    "<div id=\"d3-div-5\"></div>\n",
    "<script>\n",
    "sizes = [10,20,30,40,50]\n",
    "d3.select(\"#d3-div-5\").append('svg')\n",
    "      .attr(\"height\",\"200px\")\n",
    "      .attr(\"width\",\"400px\")\n",
    "      .style(\"background-color\", \"#DDD\")\n",
    "      .selectAll('rect').data(sizes).enter()\n",
    "      .append('rect')\n",
    "      .attr(\"transform\",function(d,i){return \"translate(\"+(((i+1)*(400/(sizes.length+1)))-(d/2))+\",\"+(90-d/2)+\")\"})\n",
    "      .attr(\"height\",function(d,i){return d+\"px\"})\n",
    "      .attr(\"width\",function(d,i){return d+\"px\"})\n",
    "      .style(\"fill\", \"#000\");\n",
    "\n",
    "</script>\n",
    "''')"
   ]
  },
  {
   "cell_type": "markdown",
   "metadata": {},
   "source": [
    "We can see some new functons here:\n",
    "- selectAll: Selects multiple elements as a group\n",
    "- data: Performs a \"data-join\" between the elements of the selection and data variable that is passed to the function\n",
    "- enter: Enters the group of selections and iterates over them\n",
    "\n",
    "Effectively, the ```selectAll```, ```data``` and ```enter``` functions, select multiple iterations of an SVG element and makes the selection iterable. You can see the iteration being accessed using ```function(d,i)``` where ```d``` is the data element of the current selection, and ```i``` is its index.\n",
    "\n",
    "You can find more information about D3 selections [here](https://bost.ocks.org/mike/selection/), and [here](https://www.intothevoid.io/data-visualization/understanding-d3-data-vs-datum/)."
   ]
  },
  {
   "cell_type": "markdown",
   "metadata": {},
   "source": [
    "## Creating a bar chart using data from Python"
   ]
  },
  {
   "cell_type": "markdown",
   "metadata": {},
   "source": [
    "Now that we see how D3 interacts with a data structure, we need to pass it data using Python code. Since D3 is a Javascript library, it works with JSON data. We will have to convert a ```DataFrame``` into a JSON object and plug it into our Javascript code using ```Template``` and ```substitute```.\n",
    "\n",
    "We will encounter more D3 helper functions used to easily configure chart staples like axes and scale.\n",
    "\n",
    "Let's start by creating a data frame."
   ]
  },
  {
   "cell_type": "code",
   "execution_count": 14,
   "metadata": {
    "collapsed": true
   },
   "outputs": [],
   "source": [
    "from string import Template\n",
    "import pandas as pd\n",
    "import json, random"
   ]
  },
  {
   "cell_type": "code",
   "execution_count": 15,
   "metadata": {},
   "outputs": [
    {
     "data": {
      "text/html": [
       "<div>\n",
       "<style>\n",
       "    .dataframe thead tr:only-child th {\n",
       "        text-align: right;\n",
       "    }\n",
       "\n",
       "    .dataframe thead th {\n",
       "        text-align: left;\n",
       "    }\n",
       "\n",
       "    .dataframe tbody tr th {\n",
       "        vertical-align: top;\n",
       "    }\n",
       "</style>\n",
       "<table border=\"1\" class=\"dataframe\">\n",
       "  <thead>\n",
       "    <tr style=\"text-align: right;\">\n",
       "      <th></th>\n",
       "      <th>region</th>\n",
       "      <th>value</th>\n",
       "    </tr>\n",
       "  </thead>\n",
       "  <tbody>\n",
       "    <tr>\n",
       "      <th>0</th>\n",
       "      <td>East</td>\n",
       "      <td>250</td>\n",
       "    </tr>\n",
       "    <tr>\n",
       "      <th>1</th>\n",
       "      <td>West</td>\n",
       "      <td>430</td>\n",
       "    </tr>\n",
       "    <tr>\n",
       "      <th>2</th>\n",
       "      <td>North</td>\n",
       "      <td>600</td>\n",
       "    </tr>\n",
       "    <tr>\n",
       "      <th>3</th>\n",
       "      <td>South</td>\n",
       "      <td>190</td>\n",
       "    </tr>\n",
       "  </tbody>\n",
       "</table>\n",
       "</div>"
      ],
      "text/plain": [
       "  region  value\n",
       "0   East    250\n",
       "1   West    430\n",
       "2  North    600\n",
       "3  South    190"
      ]
     },
     "execution_count": 15,
     "metadata": {},
     "output_type": "execute_result"
    }
   ],
   "source": [
    "data = pd.DataFrame({'region': ['East','West','North','South'], 'value':[250,430,600,190]})\n",
    "data.head()"
   ]
  },
  {
   "cell_type": "markdown",
   "metadata": {},
   "source": [
    "We will now create a ```Template``` for our HTML content. The reason we are using templates is for value substitution. We will create a placeholder for the data in the template which we can plug in later."
   ]
  },
  {
   "cell_type": "code",
   "execution_count": 16,
   "metadata": {
    "collapsed": true
   },
   "outputs": [],
   "source": [
    "html_template = Template('''\n",
    "<style>\n",
    "    .bar {\n",
    "      fill: steelblue;\n",
    "    }\n",
    "\n",
    "    .axis {\n",
    "      font: 10px sans-serif;\n",
    "    }\n",
    "\n",
    "    .axis path,\n",
    "    .axis line {\n",
    "      fill: none;\n",
    "      stroke: #000;\n",
    "      shape-rendering: crispEdges;\n",
    "    }\n",
    "</style>\n",
    "<div id=\"chart\"></div>\n",
    "<script>\n",
    "    var margin = {top: 20, right: 20, bottom: 30, left: 40},\n",
    "        width = 500 - margin.left - margin.right,\n",
    "        height = 300 - margin.top - margin.bottom;\n",
    "\n",
    "    var svg = d3.select(\"#chart\").append(\"svg\")\n",
    "        .attr(\"width\", width + margin.left + margin.right)\n",
    "        .attr(\"height\", height + margin.top + margin.bottom)\n",
    "        .append(\"g\")\n",
    "        .attr(\"transform\", \"translate(\" + margin.left + \",\" + margin.top + \")\");\n",
    "\n",
    "    var data = $data ;\n",
    "    \n",
    "    var x = d3.scale.ordinal()\n",
    "        .rangeBands([0, width], .1)\n",
    "        .domain(data.map(function(d) { return d.region; }));\n",
    "\n",
    "    var y = d3.scale.linear()\n",
    "        .range([height, 0])\n",
    "        .domain([0, d3.max(data, function(d) { return d.value; })]);\n",
    "        \n",
    "    var xAxis = d3.svg.axis()\n",
    "        .scale(x)\n",
    "        .orient(\"bottom\");\n",
    "\n",
    "    var yAxis = d3.svg.axis()\n",
    "        .scale(y)\n",
    "        .orient(\"left\");\n",
    "\n",
    "    svg.append(\"g\")\n",
    "      .attr(\"class\", \"x axis\")\n",
    "      .attr(\"transform\", \"translate(0,\" + height + \")\")\n",
    "      .call(xAxis);\n",
    "\n",
    "    svg.append(\"g\")\n",
    "      .attr(\"class\", \"y axis\")\n",
    "      .call(yAxis);\n",
    "\n",
    "    svg.selectAll(\".bar\")\n",
    "      .data(data)\n",
    "      .enter().append(\"rect\")\n",
    "      .attr(\"class\", \"bar\")\n",
    "      .attr(\"x\", function(d) { return x(d.region); })\n",
    "      .attr(\"width\", x.rangeBand())\n",
    "      .attr(\"y\", function(d) { return y(d.value); })\n",
    "      .attr(\"height\", function(d) { return height - y(d.value); });\n",
    "</script>\n",
    "''')"
   ]
  },
  {
   "cell_type": "markdown",
   "metadata": {},
   "source": [
    "As you can see, the data variable containts a placeholder ```$data```.\n",
    "\n",
    "Now we will convert our Pandas data frame into a JSON string and plug it into the HTML template."
   ]
  },
  {
   "cell_type": "code",
   "execution_count": 17,
   "metadata": {},
   "outputs": [
    {
     "data": {
      "text/html": [
       "\n",
       "<style>\n",
       "    .bar {\n",
       "      fill: steelblue;\n",
       "    }\n",
       "\n",
       "    .axis {\n",
       "      font: 10px sans-serif;\n",
       "    }\n",
       "\n",
       "    .axis path,\n",
       "    .axis line {\n",
       "      fill: none;\n",
       "      stroke: #000;\n",
       "      shape-rendering: crispEdges;\n",
       "    }\n",
       "</style>\n",
       "<div id=\"chart\"></div>\n",
       "<script>\n",
       "    var margin = {top: 20, right: 20, bottom: 30, left: 40},\n",
       "        width = 500 - margin.left - margin.right,\n",
       "        height = 300 - margin.top - margin.bottom;\n",
       "\n",
       "    var svg = d3.select(\"#chart\").append(\"svg\")\n",
       "        .attr(\"width\", width + margin.left + margin.right)\n",
       "        .attr(\"height\", height + margin.top + margin.bottom)\n",
       "        .append(\"g\")\n",
       "        .attr(\"transform\", \"translate(\" + margin.left + \",\" + margin.top + \")\");\n",
       "\n",
       "    var data = [{\"region\": \"East\", \"value\": 250}, {\"region\": \"West\", \"value\": 430}, {\"region\": \"North\", \"value\": 600}, {\"region\": \"South\", \"value\": 190}] ;\n",
       "    \n",
       "    var x = d3.scale.ordinal()\n",
       "        .rangeBands([0, width], .1)\n",
       "        .domain(data.map(function(d) { return d.region; }));\n",
       "\n",
       "    var y = d3.scale.linear()\n",
       "        .range([height, 0])\n",
       "        .domain([0, d3.max(data, function(d) { return d.value; })]);\n",
       "        \n",
       "    var xAxis = d3.svg.axis()\n",
       "        .scale(x)\n",
       "        .orient(\"bottom\");\n",
       "\n",
       "    var yAxis = d3.svg.axis()\n",
       "        .scale(y)\n",
       "        .orient(\"left\");\n",
       "\n",
       "    svg.append(\"g\")\n",
       "      .attr(\"class\", \"x axis\")\n",
       "      .attr(\"transform\", \"translate(0,\" + height + \")\")\n",
       "      .call(xAxis);\n",
       "\n",
       "    svg.append(\"g\")\n",
       "      .attr(\"class\", \"y axis\")\n",
       "      .call(yAxis);\n",
       "\n",
       "    svg.selectAll(\".bar\")\n",
       "      .data(data)\n",
       "      .enter().append(\"rect\")\n",
       "      .attr(\"class\", \"bar\")\n",
       "      .attr(\"x\", function(d) { return x(d.region); })\n",
       "      .attr(\"width\", x.rangeBand())\n",
       "      .attr(\"y\", function(d) { return y(d.value); })\n",
       "      .attr(\"height\", function(d) { return height - y(d.value); });\n",
       "</script>\n"
      ],
      "text/plain": [
       "<IPython.core.display.HTML object>"
      ]
     },
     "execution_count": 17,
     "metadata": {},
     "output_type": "execute_result"
    }
   ],
   "source": [
    "jsonData = json.dumps(data.to_dict(orient='records'))\n",
    "HTML(html_template.substitute({'data': jsonData}))"
   ]
  },
  {
   "cell_type": "markdown",
   "metadata": {},
   "source": [
    "To understand how this chart was constructed we need to understand D3 scales.\n",
    "\n",
    "D3 scales are functions where you can map an input domain to an output range. We can do this not only for linear variables but for ordinal variable as well. In the graph above, the X-axis is mapped to an ordinal variable (region) and the Y-axis is mapped to a linear or numerical variable (values)."
   ]
  },
  {
   "cell_type": "markdown",
   "metadata": {},
   "source": [
    "#### Ordinal Scale"
   ]
  },
  {
   "cell_type": "markdown",
   "metadata": {},
   "source": [
    "```d3.scale.ordinal()``` is used to construct a *discrete* scale which can be mapped over an array of of values. That array is passed as to the ```domain``` function of the scale. In our example, our domain is all 4 regions in the data frame. The ```rangeBands``` function sets the output range from the specified continuous interval. The interval is an array containing the lower and upper bounds of the range. If the domain has n items, the range will be divided into n equally sized, even spaced bands. This function is also used to specify the padding between two bands. The range in our example is the entire width of the chart with a 10% padding between bands.\n",
    "\n",
    "Below is a visual representation of how an ordinal scale sets rangeBands."
   ]
  },
  {
   "cell_type": "markdown",
   "metadata": {},
   "source": [
    "<img src=\"img/ordinalScale.png\">"
   ]
  },
  {
   "cell_type": "markdown",
   "metadata": {},
   "source": [
    "#### Linear Scale"
   ]
  },
  {
   "cell_type": "markdown",
   "metadata": {},
   "source": [
    "```d3.scale.linear()``` is used to construct a *continuous* scale over an array of values. Similar to the ordinal scale, that array is passed to the ```domain``` function of the scale. In our example, we map the domain from 0 to the maximum value present in the Y-axis variable, values. The ```range``` function specifies the lower and upper bounds of the output. We have set the domain as the entire height of the chart. You will notice that instead of [0, height], the range is [height,0]. The reason for this the intverted nature of the Y-axis in SVG geometry. Notice that since we have inverted our scale, the heights of the bars are adjusted by subtracting its scaled value from the height of the chart."
   ]
  },
  {
   "cell_type": "markdown",
   "metadata": {},
   "source": [
    "#### D3 Axis"
   ]
  },
  {
   "cell_type": "markdown",
   "metadata": {},
   "source": [
    "```d3.svg.axis()``` can be used to create both X and Y axes for a chart. We used two main helper functions to define both the axes. The ```scale``` function defines which scale is to be used to mark the axis and the ```orient``` function defines on which side of the axis line should the ticks be marked.\n",
    "\n",
    "Each axis is contained within an SVG group element and is displayed using the ```call``` function."
   ]
  },
  {
   "cell_type": "markdown",
   "metadata": {},
   "source": [
    "## Creating a simple framework to generate D3 charts"
   ]
  },
  {
   "cell_type": "markdown",
   "metadata": {},
   "source": [
    "Now that we have seen how we can use the ```Template``` module to plug data in to Javascript code, we will extend this functionality to allow us to generate D3 charts easily.\n",
    "\n",
    "In order to do this, the Javascript code for the D3 chart will need to be stored in a separate Javascript file (.js). We will create a Python class which can also be stored separately as a .py file. We can store any further styling configuration is separate .css files.\n",
    "\n",
    "For this example we will create a line graph (this will allow us to look at a new type of scale, time). The code for the line graph is given below. However, we will be storing that code in a separate file while making the graph."
   ]
  },
  {
   "cell_type": "code",
   "execution_count": 18,
   "metadata": {
    "collapsed": true
   },
   "outputs": [],
   "source": [
    "js_code = HTML('''\n",
    "var margin = {top: 30, right: 20, bottom: 30, left: 50},\n",
    "    width = 600 - margin.left - margin.right,\n",
    "    height = 270 - margin.top - margin.bottom;\n",
    "\n",
    "var parseDate = d3.time.format(\"%d-%b-%y\").parse;\n",
    "var formatTime = d3.time.format(\"%d-%b-%y\");\n",
    "\n",
    "var x = d3.time.scale().range([0, width]);\n",
    "var y = d3.scale.linear().range([height, 0]);\n",
    "\n",
    "var xAxis = d3.svg.axis().scale(x)\n",
    "    .orient(\"bottom\").ticks(5);\n",
    "\n",
    "var yAxis = d3.svg.axis().scale(y)\n",
    "    .orient(\"left\").ticks(5);\n",
    "\n",
    "var valueline = d3.svg.line()\n",
    "    .x(function(d) { return x(d.date); })\n",
    "    .y(function(d) { return y(d.value); });\n",
    "    \n",
    "d3.select(\"#maindiv${divnum}\").selectAll(\"svg\").remove();\n",
    "var svg = d3.select(\"#maindiv${divnum}\")\n",
    "    .append(\"svg\")\n",
    "        .attr(\"width\", width + margin.left + margin.right)\n",
    "        .attr(\"height\", height + margin.top + margin.bottom)\n",
    "    .append(\"g\")\n",
    "        .attr(\"transform\", \n",
    "              \"translate(\" + margin.left + \",\" + margin.top + \")\");\n",
    "              \n",
    "    data = $data\n",
    "    \n",
    "    data.forEach(function(d) {\n",
    "        d.date = parseDate(d.date);\n",
    "        d.value = +d.value;\n",
    "    });\n",
    "\n",
    "    x.domain(d3.extent(data, function(d) { return d.date; }));\n",
    "    y.domain([0, d3.max(data, function(d) { return d.value; })]);\n",
    "\n",
    "    svg.append(\"path\")\n",
    "        .attr(\"class\", \"line\")\n",
    "        .attr(\"d\", valueline(data));\n",
    "\n",
    "    svg.selectAll(\"circle\")\n",
    "        .data(data)\n",
    "      .enter().append(\"circle\")\n",
    "        .attr(\"r\", 5)\n",
    "        .attr(\"cx\", function(d) { return x(d.date); })\n",
    "        .attr(\"cy\", function(d) { return y(d.value); })\n",
    "        .style(\"fill\", \"#FFF\")\n",
    "        .style(\"stroke-width\", \"2\")\n",
    "        .style(\"stroke\", \"F00\");\n",
    "        });\n",
    "\n",
    "    svg.append(\"g\")\n",
    "        .attr(\"class\", \"x axis\")\n",
    "        .attr(\"transform\", \"translate(0,\" + height + \")\")\n",
    "        .call(xAxis);\n",
    "\n",
    "    svg.append(\"g\")\n",
    "        .attr(\"class\", \"y axis\")\n",
    "        .call(yAxis);\n",
    "''')"
   ]
  },
  {
   "cell_type": "markdown",
   "metadata": {},
   "source": [
    "And our CSS file will contain the following styling configuration."
   ]
  },
  {
   "cell_type": "code",
   "execution_count": 19,
   "metadata": {
    "collapsed": true
   },
   "outputs": [],
   "source": [
    "css_code = HTML('''\n",
    "body { font: 12px Arial;}\n",
    "\n",
    "path { \n",
    "    stroke: red;\n",
    "    stroke-width: 2;\n",
    "    fill: none;\n",
    "}\n",
    "\n",
    ".axis path,\n",
    ".axis line {\n",
    "    fill: none;\n",
    "    stroke: grey;\n",
    "    stroke-width: 1;\n",
    "    shape-rendering: crispEdges;\n",
    "}\n",
    "''')"
   ]
  },
  {
   "cell_type": "markdown",
   "metadata": {},
   "source": [
    "The Javascript and CSS files will be stored separately as /js/line_chart.js and /css/line_chart.css folders respectively. The file names will also be the identifier for our Python class when we want to generate this chart.\n",
    "\n",
    "Now we will write the Python class which will be used to reference these files and generate the D3 chart."
   ]
  },
  {
   "cell_type": "code",
   "execution_count": 20,
   "metadata": {
    "collapsed": true
   },
   "outputs": [],
   "source": [
    "import inspect, os\n",
    "\n",
    "class D3Generator:\n",
    "    def this_dir(self):\n",
    "        this_file = inspect.getfile(inspect.currentframe())\n",
    "        return os.path.dirname(os.path.abspath(inspect.getfile(inspect.currentframe())))\n",
    "\n",
    "\n",
    "    def set_styles(self, css_file_names):\n",
    "        # Check if single file name has been passed\n",
    "        if type(css_file_names) == str:\n",
    "            # If true read its content\n",
    "            style = open(self.this_dir() + '/css/' + css_file_names + '.css','r').read()\n",
    "        else:\n",
    "            style = ''\n",
    "            # If multiple files have been passed, read all their content and concatenate them together\n",
    "            for css_file_name in css_file_names:\n",
    "                style += open(self.this_dir() + '/css/' + css_file_name + '.css','r').read()\n",
    "        return \"<style>\" + style + \"</style>\"\n",
    "\n",
    "\n",
    "    def draw_graph(self, chart_type, data_dict):\n",
    "\n",
    "        # Create a template with an empty division and a placeholder for the the division ID and the Javascript code\n",
    "        JS_text = Template('''\n",
    "\n",
    "                    <div id='maindiv${divnum}'></div>\n",
    "\n",
    "                    <script>\n",
    "                        $main_text\n",
    "                    </script>\n",
    "\n",
    "                    ''')\n",
    "        # Give the division a randomly selected unique ID to avoid overlap with another division in the HTML page\n",
    "        divnum = int(random.uniform(0,9999999999))\n",
    "        #data_dict['divnum'] = divnum\n",
    "        # Read and subtitiute the Javascript code in the Template\n",
    "        main_text_template = Template( open(self.this_dir() + '/js/' + chart_type + '.js','r').read() )\n",
    "        main_text = main_text_template.safe_substitute({'divnum': divnum, 'data':data_dict})\n",
    "\n",
    "        return JS_text.safe_substitute({'divnum': divnum, 'main_text': main_text})"
   ]
  },
  {
   "cell_type": "markdown",
   "metadata": {},
   "source": [
    "Now let's read a CSV file and convert its data into JSON string."
   ]
  },
  {
   "cell_type": "code",
   "execution_count": 21,
   "metadata": {
    "collapsed": true
   },
   "outputs": [],
   "source": [
    "line_data = pd.read_csv('data/line_chart.csv')\n",
    "line_jsonData = json.dumps(line_data.to_dict(orient='records'))"
   ]
  },
  {
   "cell_type": "markdown",
   "metadata": {},
   "source": [
    "By creating an object of class D3Generator, we can access the set_styles function. This function will take the chart type(s) as an argument and read all the CSS files corresponding to those chart types. It is important that the filename matches the chart type. After reading all the CSS files, it will return the concatenated content of all the files, where will will parse it as HTML content."
   ]
  },
  {
   "cell_type": "code",
   "execution_count": 22,
   "metadata": {},
   "outputs": [
    {
     "data": {
      "text/html": [
       "<style>body { font: 12px Arial;}\n",
       "\n",
       "path { \n",
       "    stroke: red;\n",
       "    stroke-width: 2;\n",
       "    fill: none;\n",
       "}\n",
       "\n",
       ".axis path,\n",
       ".axis line {\n",
       "    fill: none;\n",
       "    stroke: grey;\n",
       "    stroke-width: 1;\n",
       "    shape-rendering: crispEdges;\n",
       "}\n",
       "\n",
       "div.d3tooltip {\n",
       "    position: absolute;\n",
       "    text-align: center;\n",
       "    width: 80px;\n",
       "    height: 28px;\n",
       "    padding: 2px;\n",
       "    font: 12px sans-serif;\n",
       "    background: #ffdddd\n",
       "    border: 0px;\n",
       "    border-radius: 8px;\n",
       "    pointer-events: none;\n",
       "}</style>"
      ],
      "text/plain": [
       "<IPython.core.display.HTML object>"
      ]
     },
     "execution_count": 22,
     "metadata": {},
     "output_type": "execute_result"
    }
   ],
   "source": [
    "NewChart = D3Generator()\n",
    "HTML(NewChart.set_styles('line_chart'))"
   ]
  },
  {
   "cell_type": "markdown",
   "metadata": {},
   "source": [
    "Now that the CSS for the chart is in place, we can draw the chart by passing it the chart type and its data as arguments to the draw_graph function. The draw graph function will randomly generate an ID for an HTML division which will contain the SVG for our chart. The function will then read the appropriate Javascript file which contains two placeholders, one for the division ID and another for the data. After plugging in the ID and data into the Javascript text, the function will plug in the division ID and the Javascript text to the main HTML Template. This text will be returned and outputted as HTML"
   ]
  },
  {
   "cell_type": "code",
   "execution_count": 23,
   "metadata": {},
   "outputs": [
    {
     "data": {
      "text/html": [
       "\n",
       "\n",
       "                    <div id='maindiv6384641664'></div>\n",
       "\n",
       "                    <script>\n",
       "                        var margin = {top: 30, right: 20, bottom: 30, left: 50},\n",
       "    width = 600 - margin.left - margin.right,\n",
       "    height = 270 - margin.top - margin.bottom;\n",
       "\n",
       "var parseDate = d3.time.format(\"%d-%b-%y\").parse;\n",
       "var formatTime = d3.time.format(\"%d-%b-%y\");\n",
       "\n",
       "var x = d3.time.scale().range([0, width]);\n",
       "var y = d3.scale.linear().range([height, 0]);\n",
       "\n",
       "var xAxis = d3.svg.axis().scale(x)\n",
       "    .orient(\"bottom\").ticks(5);\n",
       "\n",
       "var yAxis = d3.svg.axis().scale(y)\n",
       "    .orient(\"left\").ticks(5);\n",
       "\n",
       "var valueline = d3.svg.line()\n",
       "    .x(function(d) { return x(d.date); })\n",
       "    .y(function(d) { return y(d.value); });\n",
       "    \n",
       "d3.select(\"#maindiv6384641664\").selectAll(\"svg\").remove();\n",
       "var svg = d3.select(\"#maindiv6384641664\")\n",
       "    .append(\"svg\")\n",
       "        .attr(\"width\", width + margin.left + margin.right)\n",
       "        .attr(\"height\", height + margin.top + margin.bottom)\n",
       "    .append(\"g\")\n",
       "        .attr(\"transform\", \n",
       "              \"translate(\" + margin.left + \",\" + margin.top + \")\");\n",
       "              \n",
       "    data = [{\"date\": \"1-Mar-18\", \"value\": 210}, {\"date\": \"2-Mar-18\", \"value\": 267}, {\"date\": \"3-Mar-18\", \"value\": 356}, {\"date\": \"4-Mar-18\", \"value\": 223}, {\"date\": \"5-Mar-18\", \"value\": 326}, {\"date\": \"6-Mar-18\", \"value\": 288}, {\"date\": \"7-Mar-18\", \"value\": 390}, {\"date\": \"8-Mar-18\", \"value\": 390}, {\"date\": \"9-Mar-18\", \"value\": 235}, {\"date\": \"10-Mar-18\", \"value\": 376}, {\"date\": \"11-Mar-18\", \"value\": 357}, {\"date\": \"12-Mar-18\", \"value\": 282}, {\"date\": \"13-Mar-18\", \"value\": 317}, {\"date\": \"14-Mar-18\", \"value\": 337}, {\"date\": \"15-Mar-18\", \"value\": 248}, {\"date\": \"16-Mar-18\", \"value\": 264}, {\"date\": \"17-Mar-18\", \"value\": 352}, {\"date\": \"18-Mar-18\", \"value\": 271}, {\"date\": \"19-Mar-18\", \"value\": 364}, {\"date\": \"20-Mar-18\", \"value\": 348}, {\"date\": \"21-Mar-18\", \"value\": 270}, {\"date\": \"22-Mar-18\", \"value\": 307}, {\"date\": \"23-Mar-18\", \"value\": 250}, {\"date\": \"24-Mar-18\", \"value\": 349}, {\"date\": \"25-Mar-18\", \"value\": 319}, {\"date\": \"26-Mar-18\", \"value\": 346}, {\"date\": \"27-Mar-18\", \"value\": 323}, {\"date\": \"28-Mar-18\", \"value\": 344}, {\"date\": \"29-Mar-18\", \"value\": 247}, {\"date\": \"30-Mar-18\", \"value\": 306}, {\"date\": \"31-Mar-18\", \"value\": 323}]\n",
       "    \n",
       "    data.forEach(function(d) {\n",
       "        d.date = parseDate(d.date);\n",
       "        d.value = +d.value;\n",
       "    });\n",
       "\n",
       "    x.domain(d3.extent(data, function(d) { return d.date; }));\n",
       "    y.domain([0, d3.max(data, function(d) { return d.value; })]);\n",
       "\n",
       "    svg.append(\"path\")\n",
       "        .attr(\"class\", \"line\")\n",
       "        .attr(\"d\", valueline(data));\n",
       "\n",
       "    svg.selectAll(\"circle\")\n",
       "        .data(data)\n",
       "      .enter().append(\"circle\")\n",
       "        .attr(\"r\", 5)\n",
       "        .attr(\"cx\", function(d) { return x(d.date); })\n",
       "        .attr(\"cy\", function(d) { return y(d.value); })\n",
       "        .style(\"fill\", \"#FFF\")\n",
       "        .style(\"stroke-width\", \"2\")\n",
       "        .style(\"stroke\", \"F00\");\n",
       "\n",
       "    svg.append(\"g\")\n",
       "        .attr(\"class\", \"x axis\")\n",
       "        .attr(\"transform\", \"translate(0,\" + height + \")\")\n",
       "        .call(xAxis);\n",
       "\n",
       "    svg.append(\"g\")\n",
       "        .attr(\"class\", \"y axis\")\n",
       "        .call(yAxis);\n",
       "                    </script>\n",
       "\n",
       "                    "
      ],
      "text/plain": [
       "<IPython.core.display.HTML object>"
      ]
     },
     "execution_count": 23,
     "metadata": {},
     "output_type": "execute_result"
    }
   ],
   "source": [
    "HTML(NewChart.draw_graph('line_chart',line_jsonData))"
   ]
  },
  {
   "cell_type": "markdown",
   "metadata": {},
   "source": [
    "## Conclusion"
   ]
  },
  {
   "cell_type": "markdown",
   "metadata": {},
   "source": [
    "You now have the basic skills to use D3 for DOM manipulation and to create simple graphs. D3 is a vast library and can be used to create interactive charts with animation. The charts used in the tutorial were kept simple by design so we could focus more on the basics of D3. I wholehartedly recommend learning more about D3 and its other features. Links for further readings will be provided in the references."
   ]
  },
  {
   "cell_type": "markdown",
   "metadata": {},
   "source": [
    "## References and further reading"
   ]
  },
  {
   "cell_type": "markdown",
   "metadata": {},
   "source": [
    "1. http://www.bogotobogo.com/python/IPython/iPython_Jupyter_Notebook_with_Embedded_D3.php\n",
    "2. https://blog.thedataincubator.com/2015/08/embedding-d3-in-an-ipython-notebook/\n",
    "3. http://www.machinalis.com/blog/embedding-interactive-charts-on-an-ipython-nb/\n",
    "4. https://www.intothevoid.io/data-visualization/understanding-d3-data-vs-datum/\n",
    "5. https://bost.ocks.org/mike/selection/\n",
    "6. http://d3-wiki.readthedocs.io/zh_CN/master/Ordinal-Scales/\n",
    "7. http://bl.ocks.org/d3noob/38744a17f9c0141bcd04\n",
    "8. https://d3js.org/\n",
    "9. https://github.com/d3/d3/wiki\n",
    "10. https://github.com/d3/d3/wiki/Tutorials\n",
    "11. https://www.dashingd3js.com/table-of-contents"
   ]
  }
 ],
 "metadata": {
  "kernelspec": {
   "display_name": "Python 3",
   "language": "python",
   "name": "python3"
  },
  "language_info": {
   "codemirror_mode": {
    "name": "ipython",
    "version": 3
   },
   "file_extension": ".py",
   "mimetype": "text/x-python",
   "name": "python",
   "nbconvert_exporter": "python",
   "pygments_lexer": "ipython3",
   "version": "3.6.3"
  }
 },
 "nbformat": 4,
 "nbformat_minor": 2
}
