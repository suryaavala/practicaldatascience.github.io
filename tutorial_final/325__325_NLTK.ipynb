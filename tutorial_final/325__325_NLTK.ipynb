{
 "cells": [
  {
   "cell_type": "markdown",
   "metadata": {},
   "source": [
    "# Introduction\n",
    "This tutorial will introduce how to use NLTK package to analyze grammatical features of text data, including __POS tagging__ and __Parsing__. \n",
    "\n",
    "__POS tagging__ is marking the __part-of-speech__ of words in the text. A part-of-speech is a category of words that play similar roles in the grammatical structure of a sentence. In English, the basic parts of speech include _noun_, _adjective_, _adverb_, _verb_, _preposition_, etc. In NLTK, POS tagging has several tag sets so that it can give us more grammatical information about words. This tutorial will not just stop at POS tagging, but will introduce some fun tasks based on that, along with which some frequently-used NLTK resources and functions will also be introduced.\n",
    "\n",
    "__Parsing__ is the syntax analysis of a sentence. Basically, it breaks down the sentence and marks each component its grammatical role. Different from POS tagging, parsing can show the grammar role of several words as a phrase and also their relationship to each other. In this way, parsing can show the grammatical hierarchy structure of a sentence, which is a tree. Based on parsing, like POS tagging, we can also do a lot of tasks.\n",
    "\n",
    "The theory of POS tagging and parsing used in NLTK is beyond this tutorial. You just need to know that they are not based on solid theories but just probability analysis on large corpus, so sometimes they may make mistakes."
   ]
  },
  {
   "cell_type": "code",
   "execution_count": 1,
   "metadata": {},
   "outputs": [],
   "source": [
    "import nltk\n",
    "from nltk import word_tokenize\n",
    "from nltk import pos_tag"
   ]
  },
  {
   "cell_type": "markdown",
   "metadata": {},
   "source": [
    "When using NLTK package, it is common to meet LookupError that shows some resources are not found. As NLTK contains a lot of resources, it doesn't download everything in installation, so sometimes you need to download them manually. To do that, open a terminal and open a python shell:\n",
    "\n",
    "    $ python3\n",
    "\n",
    "In the python shell, import nltk and download the specific resource you need by its name:\n",
    "\n",
    "    >>> import nltk\n",
    "    >>> nltk.download(\"resource_name\")\n",
    "\n",
    "We will cover following contents in this tutorial.\n",
    "- [1 POS tagging](#1-POS-tagging)\n",
    "    - [1.1 Introduction](#1.1-Introduction)\n",
    "    - [1.2 Application: Topic Analysis by Extracting Nouns](#1.2-Application:-Topic-Analysis-by-Extracting-Nouns)\n",
    "- [2 Parsing](#2-Parsing)\n",
    "    - [2.1 Introduction](#2.1-Introduction)\n",
    "    - [2.2 Stanford Parser](#2.2-Stanford-Parser)\n",
    "    - [2.3 Application: Question Generation](#2.3-Application:-Question-Generation)\n",
    "- [Reference](#Reference)"
   ]
  },
  {
   "cell_type": "markdown",
   "metadata": {},
   "source": [
    "## 1 POS tagging\n",
    "### 1.1 Introduction\n",
    "First, let's see a basic example of POS tagging in NLTK. We need to use nltk.__word_tokenize()__ to split text into tokens first, and then use nltk.__pos_tag()__."
   ]
  },
  {
   "cell_type": "code",
   "execution_count": 2,
   "metadata": {},
   "outputs": [
    {
     "name": "stdout",
     "output_type": "stream",
     "text": [
      "[('Practical', 'NNP'), ('Data', 'NNP'), ('Science', 'NNP'), ('is', 'VBZ'), ('awesome', 'JJ'), ('!', '.')]\n"
     ]
    }
   ],
   "source": [
    "test_text = \"Practical Data Science is awesome!\"\n",
    "tokens = word_tokenize(test_text)\n",
    "tags = pos_tag(tokens)\n",
    "print(tags)"
   ]
  },
  {
   "cell_type": "markdown",
   "metadata": {},
   "source": [
    "From the result above you can see that nltk.pos_tag() receives tokens as argument and returns list of tuples including each word's POS tag. The default tag set of NLTK is __Penn Treebank Tag Set__, which is widely used in NLP community.\n",
    "\n",
    "Part of POS tags in Penn Treebank Tag Set is listed below.\n",
    "\n",
    "| Tag | Description            | Tag  | Description                    |\n",
    "| :-- | :--------------------- | :--- | :----------------------------- |\n",
    "| VB  | verb, base form        | VBD  | verb, past sense               |\n",
    "| VBG | verb, present particle | VBZ  | verb, 3rd person sing. present |\n",
    "| NN  | noun, singular         | NNS  | noun, plural                   |\n",
    "| NNP | proper noun, singular  | NNPS | proper noun, plural            |\n",
    "| JJ  | adjective              | PRP  | personal pronoun               |\n",
    "| RB  | adverb                 | DT   | determiner                     |\n",
    "\n",
    "With POS tagging, we can do some tasks based on that. \n",
    "\n",
    "### 1.2 Application: Topic Analysis by Extracting Nouns\n",
    "We can extract all the nouns from the text, which is useful because nouns usually show the topic. We can see that tags of nouns, i.e. _NN_, _NNS_, _NNP_, _NNPS_, all start with \"NN\", and that is designed deliberately for us to use. The example text below is from https://en.wikipedia.org/wiki/Data_science"
   ]
  },
  {
   "cell_type": "code",
   "execution_count": 3,
   "metadata": {},
   "outputs": [
    {
     "name": "stdout",
     "output_type": "stream",
     "text": [
      "[('Data', 'NNP'), ('science', 'NN'), ('science', 'NN'), ('field', 'NN'), ('methods', 'NNS'), ('processes', 'NNS'), ('algorithms', 'NN'), ('systems', 'NNS'), ('knowledge', 'NN'), ('insights', 'NNS'), ('data', 'NNS'), ('forms', 'NNS'), ('mining', 'NN'), ('Data', 'NNP'), ('science', 'NN'), ('concept', 'NN'), ('statistics', 'NNS'), ('data', 'NNS'), ('analysis', 'NN'), ('machine', 'NN'), ('learning', 'NN'), ('methods', 'NNS'), ('order', 'NN'), ('phenomena', 'NNS'), ('data', 'NNS'), ('techniques', 'NNS'), ('theories', 'NNS'), ('fields', 'NNS'), ('areas', 'NNS'), ('mathematics', 'NNS'), ('statistics', 'NNS'), ('information', 'NN'), ('science', 'NN'), ('computer', 'NN'), ('science', 'NN'), ('subdomains', 'NNS'), ('machine', 'NN'), ('learning', 'NN'), ('classification', 'NN'), ('cluster', 'NN'), ('analysis', 'NN'), ('uncertainty', 'NN'), ('quantification', 'NN'), ('science', 'NN'), ('data', 'NN'), ('mining', 'NN'), ('databases', 'NNS'), ('visualization', 'NN')]\n"
     ]
    }
   ],
   "source": [
    "text = '''Data science, also known as data-driven science, is an interdisciplinary field of scientific methods, \n",
    "          processes, algorithms and systems to extract knowledge or insights from data in various forms, \n",
    "          either structured or unstructured, similar to data mining. Data science is a \"concept to unify \n",
    "          statistics, data analysis, machine learning and their related methods\" in order to \"understand and \n",
    "          analyze actual phenomena\" with data. It employs techniques and theories drawn from many fields \n",
    "          within the broad areas of mathematics, statistics, information science, and computer science, \n",
    "          in particular from the subdomains of machine learning, classification, cluster analysis, \n",
    "          uncertainty quantification, computational science, data mining, databases, and visualization.'''\n",
    "tokens = word_tokenize(text)\n",
    "tags = pos_tag(tokens)\n",
    "nouns = [tag for tag in tags if tag[1].startswith(\"NN\")]\n",
    "print(nouns)"
   ]
  },
  {
   "cell_type": "markdown",
   "metadata": {},
   "source": [
    "We can also use other tag sets, just declare it in the pos_tag(). For example, if we use __\"universal\"__ tagset, in which all nouns are just tagged with 'NOUN', we can extract all nouns more easily."
   ]
  },
  {
   "cell_type": "code",
   "execution_count": 4,
   "metadata": {},
   "outputs": [
    {
     "name": "stdout",
     "output_type": "stream",
     "text": [
      "[('Data', 'NOUN'), ('science', 'NOUN'), ('science', 'NOUN'), ('field', 'NOUN'), ('methods', 'NOUN'), ('processes', 'NOUN'), ('algorithms', 'NOUN'), ('systems', 'NOUN'), ('knowledge', 'NOUN'), ('insights', 'NOUN'), ('data', 'NOUN'), ('forms', 'NOUN'), ('mining', 'NOUN'), ('Data', 'NOUN'), ('science', 'NOUN'), ('concept', 'NOUN'), ('statistics', 'NOUN'), ('data', 'NOUN'), ('analysis', 'NOUN'), ('machine', 'NOUN'), ('learning', 'NOUN'), ('methods', 'NOUN'), ('order', 'NOUN'), ('phenomena', 'NOUN'), ('data', 'NOUN'), ('techniques', 'NOUN'), ('theories', 'NOUN'), ('fields', 'NOUN'), ('areas', 'NOUN'), ('mathematics', 'NOUN'), ('statistics', 'NOUN'), ('information', 'NOUN'), ('science', 'NOUN'), ('computer', 'NOUN'), ('science', 'NOUN'), ('subdomains', 'NOUN'), ('machine', 'NOUN'), ('learning', 'NOUN'), ('classification', 'NOUN'), ('cluster', 'NOUN'), ('analysis', 'NOUN'), ('uncertainty', 'NOUN'), ('quantification', 'NOUN'), ('science', 'NOUN'), ('data', 'NOUN'), ('mining', 'NOUN'), ('databases', 'NOUN'), ('visualization', 'NOUN')]\n"
     ]
    }
   ],
   "source": [
    "tags_universal = pos_tag(tokens, tagset='universal')\n",
    "nouns_universal = [tag for tag in tags_universal if tag[1]==\"NOUN\"]\n",
    "print(nouns_universal)"
   ]
  },
  {
   "cell_type": "markdown",
   "metadata": {},
   "source": [
    "Just list all the tags tuple may not be that useful. We can analyze its frequency using nltk.__FreqDist()__. It will return a FreqDist object and using its __most_common(N)__ method will return frequencies of the most frequent _N_ (tag, token) tuples."
   ]
  },
  {
   "cell_type": "code",
   "execution_count": 5,
   "metadata": {},
   "outputs": [
    {
     "name": "stdout",
     "output_type": "stream",
     "text": [
      "<FreqDist with 34 samples and 48 outcomes>\n",
      "[(('science', 'NN'), 6), (('data', 'NNS'), 3), (('learning', 'NN'), 2), (('machine', 'NN'), 2), (('mining', 'NN'), 2)]\n",
      "['science', 'data', 'learning', 'machine', 'mining']\n"
     ]
    }
   ],
   "source": [
    "nouns_fd = nltk.FreqDist(nouns)\n",
    "print(nouns_fd)\n",
    "nouns_freq = [noun for noun in nouns_fd.most_common(5)]\n",
    "freq_nouns = [noun[0] for (noun, _) in nouns_fd.most_common(5)]\n",
    "print(nouns_freq)\n",
    "print(freq_nouns)"
   ]
  },
  {
   "cell_type": "markdown",
   "metadata": {},
   "source": [
    "'science', 'data', 'mining', 'analysis', 'Data' are quite good words for describing the topic of our example text. \n",
    "\n",
    "## 2 Parsing\n",
    "### 2.1 Introduction\n",
    "Parsing is more complicated than POS tagging. To begin with, we start with a simple example to get some intuition. First, we need to define a set of context-free grammars (CFG) as our rules for parsing."
   ]
  },
  {
   "cell_type": "code",
   "execution_count": 6,
   "metadata": {},
   "outputs": [
    {
     "name": "stdout",
     "output_type": "stream",
     "text": [
      "<class 'nltk.grammar.CFG'>\n",
      "Grammar with 9 productions (start state = S)\n",
      "    S -> NP VP\n",
      "    NP -> N\n",
      "    NP -> Det JJ N\n",
      "    VP -> V NP\n",
      "    Det -> 'a'\n",
      "    JJ -> 'good'\n",
      "    N -> 'CMU'\n",
      "    N -> 'reputation'\n",
      "    V -> 'has'\n"
     ]
    }
   ],
   "source": [
    "from nltk import CFG\n",
    "sentence = \"CMU has a good reputation\"\n",
    "grammar = CFG.fromstring('''\n",
    "    S -> NP VP\n",
    "    NP -> N\n",
    "    NP -> Det JJ N\n",
    "    VP -> V NP\n",
    "    Det -> \"a\"\n",
    "    JJ -> \"good\"\n",
    "    N -> \"CMU\" | \"reputation\"\n",
    "    V -> \"has\"\n",
    "    ''')\n",
    "print(type(grammar))\n",
    "print(grammar)"
   ]
  },
  {
   "cell_type": "markdown",
   "metadata": {},
   "source": [
    "Here \"NP\" refers to Noun Phrase, \"VP\" refers to Verb Phrase. A lot of sentences are in the structure of NP VP, including our example sentence. \n",
    "\n",
    "As you can see, defining grammar by ourselves requires a lot of work if you want your parser to be general, but it is still useful for some professionals. We can build a parser based on our grammars. A basic kind of parser is __Recursive Descent Parser__, which builds our parsing tree from top to down."
   ]
  },
  {
   "cell_type": "code",
   "execution_count": 7,
   "metadata": {},
   "outputs": [
    {
     "name": "stdout",
     "output_type": "stream",
     "text": [
      "<class 'nltk.parse.recursivedescent.RecursiveDescentParser'>\n",
      "<class 'generator'>\n"
     ]
    }
   ],
   "source": [
    "from nltk import RecursiveDescentParser\n",
    "parser = RecursiveDescentParser(grammar)\n",
    "print(type(parser))\n",
    "tokens = word_tokenize(sentence)\n",
    "parse_trees = parser.parse(tokens)\n",
    "print(type(parse_trees))"
   ]
  },
  {
   "cell_type": "markdown",
   "metadata": {},
   "source": [
    "We can see that the parsing result is a generator. We need a for loop to get the actual parsing tree. IPython can visualize the parsing tree quite clear as an image, and the print function can show a string version of the tree."
   ]
  },
  {
   "cell_type": "code",
   "execution_count": 8,
   "metadata": {},
   "outputs": [
    {
     "name": "stdout",
     "output_type": "stream",
     "text": [
      "<class 'nltk.tree.Tree'>\n"
     ]
    },
    {
     "data": {
      "image/png": "[encoded data removed]",
      "text/plain": [
       "Tree('S', [Tree('NP', [Tree('N', ['CMU'])]), Tree('VP', [Tree('V', ['has']), Tree('NP', [Tree('Det', ['a']), Tree('JJ', ['good']), Tree('N', ['reputation'])])])])"
      ]
     },
     "metadata": {},
     "output_type": "display_data"
    },
    {
     "name": "stdout",
     "output_type": "stream",
     "text": [
      "(S (NP (N CMU)) (VP (V has) (NP (Det a) (JJ good) (N reputation))))\n"
     ]
    }
   ],
   "source": [
    "import IPython\n",
    "for tree in parse_trees:\n",
    "    print(type(tree))\n",
    "    IPython.core.display.display(tree)\n",
    "    print(tree)"
   ]
  },
  {
   "cell_type": "markdown",
   "metadata": {},
   "source": [
    "### 2.2 Stanford Parser\n",
    "To save effort, we can use some predefined parser model developed by NLP community. One common choice is __Stanford Parser__. \n",
    "\n",
    "NLTK has an interface for Stanford Parser but it doesn't contain the actual model. We need to download the model from https://nlp.stanford.edu/software/lex-parser.shtml (the latest version right now is 3.9.1 released at 2018-02-07) and extract it. Use the following code to install Stanford Parser (englishPCFG) to NLTK."
   ]
  },
  {
   "cell_type": "code",
   "execution_count": 9,
   "metadata": {
    "scrolled": true
   },
   "outputs": [
    {
     "name": "stdout",
     "output_type": "stream",
     "text": [
      "<class 'nltk.parse.stanford.StanfordParser'>\n",
      "<class 'nltk.tree.Tree'>\n"
     ]
    },
    {
     "data": {
      "image/png": "[encoded data removed]",
      "text/plain": [
       "Tree('ROOT', [Tree('S', [Tree('NP', [Tree('NNP', ['CMU'])]), Tree('VP', [Tree('VBZ', ['has']), Tree('NP', [Tree('DT', ['a']), Tree('JJ', ['good']), Tree('NN', ['reputation'])])])])])"
      ]
     },
     "metadata": {},
     "output_type": "display_data"
    },
    {
     "name": "stdout",
     "output_type": "stream",
     "text": [
      "(ROOT\n",
      "  (S\n",
      "    (NP (NNP CMU))\n",
      "    (VP (VBZ has) (NP (DT a) (JJ good) (NN reputation)))))\n"
     ]
    }
   ],
   "source": [
    "import os\n",
    "from nltk.parse import stanford\n",
    "os.environ[\"CLASSPATH\"] = \"stanford-parser-full-2018-02-27/\" # path to the extracted folder\n",
    "parser = stanford.StanfordParser(model_path=\"edu/stanford/nlp/models/lexparser/englishPCFG.ser.gz\")\n",
    "print(type(parser))\n",
    "parse_trees = parser.parse(tokens)\n",
    "for tree in parse_trees:\n",
    "    print(type(tree))\n",
    "    IPython.core.display.display(tree)\n",
    "    print(tree)"
   ]
  },
  {
   "cell_type": "markdown",
   "metadata": {},
   "source": [
    "### 2.3 Application: Question Generation\n",
    "With a general parser, we can do much more things based on it, for example, a simple question generation system!\n",
    "\n",
    "The text is from https://simple.wikipedia.org/wiki/Google. First, we need to split the long text into sentences, NLTK has a nltk.tokenize.__sent_tokenize()__ function to do that."
   ]
  },
  {
   "cell_type": "code",
   "execution_count": 10,
   "metadata": {},
   "outputs": [
    {
     "name": "stdout",
     "output_type": "stream",
     "text": [
      "0 Google's search engine can find pictures, videos, news, Usenet newsgroups, and things to buy online.\n",
      "1 By June 2004, Google had 4.28 billion web pages on its database, 880 million picturesand 845 million Usenet messages — six billion things.\n",
      "2 Google's American website has an Alexa rank of 1, meaning it is the most widely visited website in the world.\n",
      "3 It is so widelyknown that people are using the word \"google\" as a verb that means \"to search for something on Google\"; but because more than half of people on the web use it, \"google\" has been used to mean \"to search the web\".\n",
      "4 Parent company of google is ALPHABET.\n"
     ]
    }
   ],
   "source": [
    "from nltk.tokenize import sent_tokenize\n",
    "text = (\"\"\"Google's search engine can find pictures, videos, news, Usenet newsgroups, and things to buy online. \"\"\" \n",
    "        \"\"\"By June 2004, Google had 4.28 billion web pages on its database, 880 million pictures\"\"\" \n",
    "        \"\"\"and 845 million Usenet messages — six billion things. Google's American website \"\"\"\n",
    "        \"\"\"has an Alexa rank of 1, meaning it is the most widely visited website in the world. It is so widely\"\"\" \n",
    "        \"\"\"known that people are using the word \"google\" as a verb that means \"to search for something on Google\"; \"\"\" \n",
    "        \"\"\"but because more than half of people on the web use it, \"google\" has been used to mean \"to search the web\". \"\"\"\n",
    "        \"\"\"Parent company of google is ALPHABET.\"\"\")\n",
    "sentences = sent_tokenize(text)\n",
    "for i,sent in enumerate(sentences):\n",
    "    print(str(i)+\" \"+sent)"
   ]
  },
  {
   "cell_type": "markdown",
   "metadata": {},
   "source": [
    "After getting sentences, we can use parsing to extract sentences in structure of NP VP, such as \"John likes data science.\", because this kind of sentences are easy to be transformed to questions, such as, \"Who likes data science?\", \"Does John like data science?\""
   ]
  },
  {
   "cell_type": "code",
   "execution_count": 11,
   "metadata": {},
   "outputs": [
    {
     "name": "stdout",
     "output_type": "stream",
     "text": [
      "0 Google's search engine can find pictures, videos, news, Usenet newsgroups, and things to buy online.\n",
      "1 Google's American website has an Alexa rank of 1, meaning it is the most widely visited website in the world.\n",
      "2 Parent company of google is ALPHABET.\n"
     ]
    }
   ],
   "source": [
    "def selectNPVP(sentences):\n",
    "    res = []\n",
    "    for sentence in sentences:\n",
    "        parse_trees = parser.raw_parse(sentence)\n",
    "        for tree in parse_trees:\n",
    "            if tree[0][0].label() == \"NP\" and tree[0][1].label() == \"VP\": # select NP VP sentences\n",
    "                res.append((sentence, tree))\n",
    "    return res\n",
    "\n",
    "NPVP_sents = selectNPVP(sentences)\n",
    "for i,sent in enumerate(NPVP_sents):\n",
    "    print(str(i)+\" \"+sent[0])"
   ]
  },
  {
   "cell_type": "markdown",
   "metadata": {},
   "source": [
    "After getting NP VP sentences, we can manipulate the structure of sentences and transforme them into questions. There are two kinds of questions, WH questions and yes/no questions. \n",
    "\n",
    "Let's try to generate WH questions from the sentences above, to do that, simply replace the NP part with WH words, such as \"what\", \"who\", etc. Here, we just use \"what\" for simplicity."
   ]
  },
  {
   "cell_type": "code",
   "execution_count": 12,
   "metadata": {},
   "outputs": [
    {
     "name": "stdout",
     "output_type": "stream",
     "text": [
      "['what', 'can', 'find', 'pictures', ',', 'videos', ',', 'news', ',', 'Usenet', 'newsgroups', ',', 'and', 'things', 'to', 'buy', 'online', '.']\n",
      "['what', 'has', 'an', 'Alexa', 'rank', 'of', '1', ',', 'meaning', 'it', 'is', 'the', 'most', 'widely', 'visited', 'website', 'in', 'the', 'world', '.']\n",
      "['what', 'is', 'ALPHABET', '.']\n"
     ]
    }
   ],
   "source": [
    "def generateWHQuestion(sentence, tree):\n",
    "    tokens = word_tokenize(sentence)\n",
    "    np = tree[0][0].leaves() # NP part of the sentence\n",
    "    wh_word = \"what\"\n",
    "    res = tokens[len(np):] # discard NP part\n",
    "    res.insert(0, wh_word) # insert WH word\n",
    "    return res\n",
    "\n",
    "questions_tokens = []\n",
    "questions_tokens.extend([generateWHQuestion(sent, tree) for sent, tree in NPVP_sents])\n",
    "for q in questions_tokens:\n",
    "    print(q)"
   ]
  },
  {
   "cell_type": "markdown",
   "metadata": {},
   "source": [
    "To generate yes/no questions, it is more tricky because you need to check if the verb is \"be words\" like _am_, _is_ , _are_, etc. or modal words like _can_, _could_, etc. because they have a different transformation to question. \n",
    "\n",
    "For other normal words, we need to find the corresponding form of \"do\" to put at the beginning. In this way, get the tense of verb is necessary and __POS tagging__ can help us to do that. Additionally, we need to restore the verb to its base form, NLTK provides __lemmatizer__ for us to do it."
   ]
  },
  {
   "cell_type": "code",
   "execution_count": 13,
   "metadata": {},
   "outputs": [
    {
     "name": "stdout",
     "output_type": "stream",
     "text": [
      "['what', 'can', 'find', 'pictures', ',', 'videos', ',', 'news', ',', 'Usenet', 'newsgroups', ',', 'and', 'things', 'to', 'buy', 'online', '.']\n",
      "['what', 'has', 'an', 'Alexa', 'rank', 'of', '1', ',', 'meaning', 'it', 'is', 'the', 'most', 'widely', 'visited', 'website', 'in', 'the', 'world', '.']\n",
      "['what', 'is', 'ALPHABET', '.']\n",
      "['can', 'google', \"'s\", 'search', 'engine', 'find', 'pictures', ',', 'videos', ',', 'news', ',', 'Usenet', 'newsgroups', ',', 'and', 'things', 'to', 'buy', 'online', '.']\n",
      "['does', 'google', \"'s\", 'American', 'website', 'have', 'an', 'Alexa', 'rank', 'of', '1', ',', 'meaning', 'it', 'is', 'the', 'most', 'widely', 'visited', 'website', 'in', 'the', 'world', '.']\n",
      "['is', 'parent', 'company', 'of', 'google', 'ALPHABET', '.']\n"
     ]
    }
   ],
   "source": [
    "from nltk.stem.wordnet import WordNetLemmatizer\n",
    "\n",
    "def generateYNQuestion(sentence, tree):\n",
    "    tokens = word_tokenize(sentence)\n",
    "    res = tokens[:]\n",
    "    special_words = {\"am\", \"is\", \"are\", \"was\", \"were\", \"can\", \"could\"}\n",
    "    np = tree[0][0].leaves() # NP part of sentence\n",
    "    vp = tree[0][1].leaves() # VP part of sentence\n",
    "    if vp[0] in special_words: # assume VP[0] is the verb for simplicity\n",
    "        res.remove(vp[0])\n",
    "        res.insert(0, vp[0]) # move VP[0] to the beginning of sentence\n",
    "    else:\n",
    "        do_words_map = {\"VBZ\": \"does\", \"VB\": \"do\", \"VBD\": \"did\"}\n",
    "        tags = pos_tag(tokens)\n",
    "        do_word = do_words_map[tags[len(np)][1]] # len(np) is the index of the verb\n",
    "        lemmatizer = WordNetLemmatizer()\n",
    "        res[len(np)] = lemmatizer.lemmatize(res[len(np)], 'v') # change the verb to base form\n",
    "        res.insert(0, do_word) # insert do word to the beginning\n",
    "    res[1] = res[1].lower() # make the original start letter of sentence into lower case\n",
    "    return res\n",
    "\n",
    "questions_tokens.extend([generateYNQuestion(sent, tree) for sent, tree in NPVP_sents])\n",
    "for q in questions_tokens:\n",
    "    print(q)"
   ]
  },
  {
   "cell_type": "markdown",
   "metadata": {},
   "source": [
    "Finally, we join our tokens together into a sentence. We need to make the first letter into upper case and replace the final period with question mark."
   ]
  },
  {
   "cell_type": "code",
   "execution_count": 15,
   "metadata": {},
   "outputs": [
    {
     "name": "stdout",
     "output_type": "stream",
     "text": [
      "0 What can find pictures, videos, news, Usenet newsgroups, and things to buy online?\n",
      "1 What has an Alexa rank of 1, meaning it is the most widely visited website in the world?\n",
      "2 What is ALPHABET?\n",
      "3 Can google's search engine find pictures, videos, news, Usenet newsgroups, and things to buy online?\n",
      "4 Does google's American website have an Alexa rank of 1, meaning it is the most widely visited website in the world?\n",
      "5 Is parent company of google ALPHABET?\n"
     ]
    }
   ],
   "source": [
    "import string\n",
    "\n",
    "def tokens2Question(tokens):\n",
    "    tokens[0] = tokens[0][0].upper()+tokens[0][1:]\n",
    "    tokens[-1] = '?'\n",
    "    res = \"\"\n",
    "    punctuations = set(string.punctuation)\n",
    "    for i,token in enumerate(tokens):\n",
    "        # the final question mark\n",
    "        if i == len(tokens)-1:\n",
    "            res += token\n",
    "        # if the next word is a punctuation, there should be no whitespace between them\n",
    "        elif tokens[i+1][0] in punctuations:\n",
    "            res += token\n",
    "        else:\n",
    "            res += token + ' '\n",
    "    return res\n",
    "\n",
    "questions = [tokens2Question(tokens) for tokens in questions_tokens]\n",
    "for i,q in enumerate(questions):\n",
    "    print(str(i)+\" \"+q)"
   ]
  },
  {
   "cell_type": "markdown",
   "metadata": {},
   "source": [
    "And we get our questions! You can see that our question generation system is far from perfect because we have to make some assumptions of our input text, but it is enough as an simple application to show how to use parsing in NLTK.\n",
    "\n",
    "# Reference\n",
    "If you want to know more about NLTK and grammatical analysis, you can refer to the following links.\n",
    "1. NLTK Documentation: https://www.nltk.org/\n",
    "2. NLTK Book: http://www.nltk.org/book/ (Full of NLTK examples! Very useful)\n",
    "3. Stanford Parsing: https://nlp.stanford.edu/software/lex-parser.shtml\n",
    "\n",
    "\n",
    "Thank you for reading this tutorial."
   ]
  },
  {
   "cell_type": "code",
   "execution_count": null,
   "metadata": {},
   "outputs": [],
   "source": []
  }
 ],
 "metadata": {
  "kernelspec": {
   "display_name": "Python 3",
   "language": "python",
   "name": "python3"
  },
  "language_info": {
   "codemirror_mode": {
    "name": "ipython",
    "version": 3
   },
   "file_extension": ".py",
   "mimetype": "text/x-python",
   "name": "python",
   "nbconvert_exporter": "python",
   "pygments_lexer": "ipython3",
   "version": "3.5.2"
  }
 },
 "nbformat": 4,
 "nbformat_minor": 2
}