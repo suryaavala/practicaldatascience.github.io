{
 "cells": [
  {
   "cell_type": "markdown",
   "metadata": {
    "collapsed": true
   },
   "source": [
    "# 15688 Midterm Tutorial "
   ]
  },
  {
   "cell_type": "markdown",
   "metadata": {},
   "source": [
    "## Introduction"
   ]
  },
  {
   "cell_type": "markdown",
   "metadata": {},
   "source": [
    "This toturial focuses on the data analysis towards taxi trip dataset. I decide to choose this topic because of the close relationship with our daily life and the potential valuable benefits these data might bring to our society. For example if we know the data about the average taxi trip distance, we might be able to predict the types of people that commonly uses taxi as their transportation tool. Similar small but important issues includes predicting the tips as a percentage of the total taxi fare. And all of them are closely related to our daily life."
   ]
  },
  {
   "cell_type": "markdown",
   "metadata": {},
   "source": [
    "## Toturial dataset "
   ]
  },
  {
   "cell_type": "markdown",
   "metadata": {},
   "source": [
    "The dataset in this tutorial comes from NYC TLC's record dataset which records the taxi trip data in the every months from 2009 to 2017 in New York City. The detailed description can be found in http://www.nyc.gov/html/tlc/html/about/about.shtml. In this tutorial we're gonna focus on the green taxi's data in September 2015. The link for that dataset is http://www.nyc.gov/html/tlc/html/about/trip_record_data.shtml. This dataset is the raw dataset of 239MB for green taxi which have 21 raw columns in total. Detailed data dictionary can be found on that page as well."
   ]
  },
  {
   "cell_type": "markdown",
   "metadata": {},
   "source": [
    "## Structure of this tutorial"
   ]
  },
  {
   "cell_type": "markdown",
   "metadata": {},
   "source": [
    "Then main structure is as follows: \n",
    "1. [Environment Preparation](#1.-Environment-Preparation)\n",
    "2. [Dataset Overview](#2.-Dataset-Overview)\n",
    "3. [Main Tasks](#3.-Main-tasks)  \n",
    "    3.1. [Analyze taxi trip distance data](#3.1-Analyze-taxi-trip-distance-data)     \n",
    "    3.2. [Build prediction model for predicting tip as a percentage of the total fare](#3.2-Build-prediction-model-for-predicting-tip-as-a-percentage-of-the-total-fare)\n",
    "    \n",
    "4. [Summary and reference](#4.-Summary-and-reference)"
   ]
  },
  {
   "cell_type": "markdown",
   "metadata": {},
   "source": [
    "So let's start now!"
   ]
  },
  {
   "cell_type": "markdown",
   "metadata": {
    "collapsed": true
   },
   "source": [
    "## 1. Environment Preparation"
   ]
  },
  {
   "cell_type": "markdown",
   "metadata": {},
   "source": [
    "In order to run the code smoothly, you need to do the following steps: \n",
    "1. If you already have Anaconda, leave this out. Otherwise, since the tutorial requires Python 3+, you can just download Anaconda in https://www.anaconda.com/download/ which also contains most other necessary libraries for this tutorial. \n",
    "2. For the model construction part, I used Pytorch. If you haven't install pytorch, first make sure you have followed step 1, then Simply type in command line: \n",
    "\n",
    "    $ conda install pytorch torchvision -c pytorch  \n",
    "\n",
    "Here you go! The above steps should be enough. But if you come across some problem, please refer to the corresponding forums or stackoverflow for more details.\n"
   ]
  },
  {
   "cell_type": "markdown",
   "metadata": {},
   "source": [
    "The following is the necessary libraries for thie tutorial:"
   ]
  },
  {
   "cell_type": "code",
   "execution_count": 1,
   "metadata": {
    "collapsed": true
   },
   "outputs": [],
   "source": [
    "import pandas as pd\n",
    "import numpy as np\n",
    "import matplotlib\n",
    "import torch\n",
    "import math\n",
    "import time\n",
    "import os\n",
    "from torch.utils.data import Dataset,DataLoader, TensorDataset\n",
    "from torch.optim.lr_scheduler import *\n",
    "matplotlib.use(\"svg\")\n",
    "import matplotlib.pyplot as plt\n",
    "%matplotlib inline\n",
    "plt.style.use('ggplot')"
   ]
  },
  {
   "cell_type": "markdown",
   "metadata": {},
   "source": [
    "## 2. Dataset Overview"
   ]
  },
  {
   "cell_type": "markdown",
   "metadata": {},
   "source": [
    "Before directly moving to our main tasks, I'd like to first give you a overview about what the data is like. If you have downloaded the data, please put the dataset in the same directory as this tutorial; if not that's fine, I'll handle that for you by automatically downloading it.   "
   ]
  },
  {
   "cell_type": "code",
   "execution_count": 2,
   "metadata": {
    "scrolled": true
   },
   "outputs": [
    {
     "name": "stdout",
     "output_type": "stream",
     "text": [
      "download\n",
      "row number: 1494926 ,column number: 21\n",
      "column name: Index(['VendorID', 'lpep_pickup_datetime', 'Lpep_dropoff_datetime',\n",
      "       'Store_and_fwd_flag', 'RateCodeID', 'Pickup_longitude',\n",
      "       'Pickup_latitude', 'Dropoff_longitude', 'Dropoff_latitude',\n",
      "       'Passenger_count', 'Trip_distance', 'Fare_amount', 'Extra', 'MTA_tax',\n",
      "       'Tip_amount', 'Tolls_amount', 'Ehail_fee', 'improvement_surcharge',\n",
      "       'Total_amount', 'Payment_type', 'Trip_type '],\n",
      "      dtype='object')\n",
      "data type: VendorID                   int64\n",
      "lpep_pickup_datetime      object\n",
      "Lpep_dropoff_datetime     object\n",
      "Store_and_fwd_flag        object\n",
      "RateCodeID                 int64\n",
      "Pickup_longitude         float64\n",
      "Pickup_latitude          float64\n",
      "Dropoff_longitude        float64\n",
      "Dropoff_latitude         float64\n",
      "Passenger_count            int64\n",
      "Trip_distance            float64\n",
      "Fare_amount              float64\n",
      "Extra                    float64\n",
      "MTA_tax                  float64\n",
      "Tip_amount               float64\n",
      "Tolls_amount             float64\n",
      "Ehail_fee                float64\n",
      "improvement_surcharge    float64\n",
      "Total_amount             float64\n",
      "Payment_type               int64\n",
      "Trip_type                float64\n",
      "dtype: object\n"
     ]
    }
   ],
   "source": [
    "# load our csv data\n",
    "if os.path.exists('green_tripdata_2015-09.csv'):\n",
    "    green_trip_pd=pd.read_csv('green_tripdata_2015-09.csv')\n",
    "else:\n",
    "    print('download')\n",
    "    green_trip_pd=pd.read_csv('https://s3.amazonaws.com/nyc-tlc/trip+data/green_tripdata_2015-09.csv')\n",
    "# get numbers of rows and columns\n",
    "row_num=len(green_trip_pd)\n",
    "column_num=len(green_trip_pd.columns)\n",
    "\n",
    "# let's see the results!\n",
    "print('row number:',row_num,\",column number:\",column_num)\n",
    "print('column name:',green_trip_pd.columns)\n",
    "print('data type:',green_trip_pd.dtypes)"
   ]
  },
  {
   "cell_type": "markdown",
   "metadata": {},
   "source": [
    "And now from the results above, we have a overview about what the data we're going to analyze is like. But before we move on to our main tasks, I think it'll be of great help if we can do some pre-processing work.  \n",
    "\n",
    "We need to formalize the data: I'd like to transfrom type of lpep_pickup_datetime and Lpep_dropoff_datetime to datetime64[ns], and transform Store_and_fwd_flag into int value (0,1). First we need to remove empty/None value:"
   ]
  },
  {
   "cell_type": "code",
   "execution_count": 3,
   "metadata": {
    "scrolled": true
   },
   "outputs": [
    {
     "name": "stdout",
     "output_type": "stream",
     "text": [
      "0\n",
      "0\n",
      "0\n"
     ]
    }
   ],
   "source": [
    "# check valid time\n",
    "checkdrop=green_trip_pd['Lpep_dropoff_datetime'].replace('',np.nan)\n",
    "print(checkdrop.isnull().sum())\n",
    "checkpick=green_trip_pd['lpep_pickup_datetime'].replace('',np.nan)\n",
    "print(checkpick.isnull().sum())\n",
    "checkflag=green_trip_pd['Store_and_fwd_flag'].replace('',np.nan)\n",
    "print(checkpick.isnull().sum())"
   ]
  },
  {
   "cell_type": "markdown",
   "metadata": {},
   "source": [
    "Lucky! Then we can perform transformation without any further worries:"
   ]
  },
  {
   "cell_type": "code",
   "execution_count": 4,
   "metadata": {
    "scrolled": true
   },
   "outputs": [
    {
     "name": "stdout",
     "output_type": "stream",
     "text": [
      "VendorID                          int64\n",
      "lpep_pickup_datetime     datetime64[ns]\n",
      "Lpep_dropoff_datetime    datetime64[ns]\n",
      "Store_and_fwd_flag                int64\n",
      "RateCodeID                        int64\n",
      "Pickup_longitude                float64\n",
      "Pickup_latitude                 float64\n",
      "Dropoff_longitude               float64\n",
      "Dropoff_latitude                float64\n",
      "Passenger_count                   int64\n",
      "Trip_distance                   float64\n",
      "Fare_amount                     float64\n",
      "Extra                           float64\n",
      "MTA_tax                         float64\n",
      "Tip_amount                      float64\n",
      "Tolls_amount                    float64\n",
      "Ehail_fee                       float64\n",
      "improvement_surcharge           float64\n",
      "Total_amount                    float64\n",
      "Payment_type                      int64\n",
      "Trip_type                       float64\n",
      "dtype: object\n"
     ]
    }
   ],
   "source": [
    "# pre-processing : transform data type\n",
    "green_trip_pd['lpep_pickup_datetime']=green_trip_pd['lpep_pickup_datetime'].astype('datetime64[ns]')\n",
    "green_trip_pd['Lpep_dropoff_datetime']=green_trip_pd['Lpep_dropoff_datetime'].astype('datetime64[ns]')\n",
    "green_trip_pd['Store_and_fwd_flag']=green_trip_pd['Store_and_fwd_flag'].replace('Y',1).replace('N',0)\n",
    "print(green_trip_pd.dtypes)\n"
   ]
  },
  {
   "cell_type": "markdown",
   "metadata": {},
   "source": [
    "There several issues I'd like to emphasize:  \n",
    "1. When we do these transformation, it's actually not safe by the steps above since it's possible there might be other strings rather than 'Y' or 'N' in the Store_and_fwd_flag colum, or the time for lpep_pickup_datetime might just be a random strings.I did the above codes simply because the data source is kind of reliable. It's always a good habit to do more checking about original the data type.  \n",
    "2. Our pre-processing steps are far away from enough only by the above steps. Pre-processing data before conducting any analysis is extremely important in data science, because most of the data we get from real world would suffer greatly from wrong information, noisy data and useless statistics. I'll do more pre-processing work in later stages.  "
   ]
  },
  {
   "cell_type": "markdown",
   "metadata": {},
   "source": [
    "## 3. Main tasks"
   ]
  },
  {
   "cell_type": "markdown",
   "metadata": {},
   "source": [
    "Now let's move on to the most desirable part and begin our exploration! First let's analyze the taxi trip distance data and see whether we can find something interesting."
   ]
  },
  {
   "cell_type": "markdown",
   "metadata": {},
   "source": [
    "### 3.1 Analyze taxi trip distance data"
   ]
  },
  {
   "cell_type": "markdown",
   "metadata": {},
   "source": [
    "#### 3.1.1 Histogram of trip distance data and analysis"
   ]
  },
  {
   "cell_type": "markdown",
   "metadata": {},
   "source": [
    "Since I think the taxi trip distance is one of the core features with which many other features and findings are correlated, let's first take a look at its histogram to find possible trend:"
   ]
  },
  {
   "cell_type": "code",
   "execution_count": 5,
   "metadata": {},
   "outputs": [
    {
     "data": {
      "image/png": "[encoded data removed]",
      "text/plain": [
       "<matplotlib.figure.Figure at 0x110c5fa20>"
      ]
     },
     "metadata": {},
     "output_type": "display_data"
    }
   ],
   "source": [
    "trip_dis=green_trip_pd['Trip_distance']\n",
    "\n",
    "plt.hist(trip_dis,bins=100)\n",
    "plt.title('Green Taxi Trip Distance Histogram')\n",
    "plt.xlabel('Trip Distance (mile)')\n",
    "plt.ylabel('Number')\n",
    "\n",
    "plt.show()"
   ]
  },
  {
   "cell_type": "markdown",
   "metadata": {},
   "source": [
    "This didn't work well: the graph above cannot give a precise description of the Trip_distance's distribution information. In order to have a better understanding of the structure, first let's see the statistic attributes of this column: "
   ]
  },
  {
   "cell_type": "code",
   "execution_count": 6,
   "metadata": {},
   "outputs": [
    {
     "name": "stdout",
     "output_type": "stream",
     "text": [
      "count    1.494926e+06\n",
      "mean     2.968141e+00\n",
      "std      3.076621e+00\n",
      "min      0.000000e+00\n",
      "25%      1.100000e+00\n",
      "50%      1.980000e+00\n",
      "75%      3.740000e+00\n",
      "max      6.031000e+02\n",
      "Name: Trip_distance, dtype: float64\n"
     ]
    }
   ],
   "source": [
    "print(trip_dis.describe())"
   ]
  },
  {
   "cell_type": "markdown",
   "metadata": {
    "collapsed": true
   },
   "source": [
    "If you run the codes above, you can see that 75% trip only has a really short distance within 3.74 miles. So let's only consider more common results, say trips that are within 25 miles:"
   ]
  },
  {
   "cell_type": "code",
   "execution_count": 7,
   "metadata": {
    "scrolled": true
   },
   "outputs": [
    {
     "data": {
      "text/plain": [
       "Text(0,0.5,'Number')"
      ]
     },
     "execution_count": 7,
     "metadata": {},
     "output_type": "execute_result"
    },
    {
     "data": {
      "image/png": "[encoded data removed]",
      "text/plain": [
       "<matplotlib.figure.Figure at 0x10fe14390>"
      ]
     },
     "metadata": {},
     "output_type": "display_data"
    }
   ],
   "source": [
    "trip_dis_short=trip_dis[trip_dis<25]\n",
    "\n",
    "plt.hist(trip_dis_short,bins=100)\n",
    "plt.title('Green Taxi Trip Distance Histogram')\n",
    "plt.xlabel('Trip Distance (mile)')\n",
    "plt.ylabel('Number')"
   ]
  },
  {
   "cell_type": "markdown",
   "metadata": {},
   "source": [
    "The first finding is that this distribution is kind of skewed, actually is just the log normal distribution. And the reason that the majority of the distance is short trip (<10) might be that the data is taken from NYC, the world famous big and busy city which doesn't quite favor long distance trip. It's more common for people driving to work, driving home, driving for shopping than driving for a long travel. As for other possible factors we'll discover the relationship in the later stages."
   ]
  },
  {
   "cell_type": "markdown",
   "metadata": {},
   "source": [
    "#### 3.1.2 Find relationship between trip distance and trip time"
   ]
  },
  {
   "cell_type": "markdown",
   "metadata": {},
   "source": [
    "How about the relationship between trip distance and time? For better analysis we're gonna to represent one day's time by its hour, and we'll group the trip distance by hour of day first, then focus on the mean and median trip distance at different time. Notice I'll use Lpep_dropoff_datetime column's hour to represent the hour of a trip just feels like it's more intuitive for me, you can try lpep_pickup_datetime as well:)"
   ]
  },
  {
   "cell_type": "code",
   "execution_count": 8,
   "metadata": {
    "collapsed": true
   },
   "outputs": [],
   "source": [
    "green_trip_pd['hour']=green_trip_pd['Lpep_dropoff_datetime'].apply(lambda x:x.hour)\n",
    "hour_trip=green_trip_pd[['hour','Trip_distance']].groupby(green_trip_pd['hour'])\n",
    "\n",
    "# mean of trip distance for different hour period\n",
    "# print('Trip mean')\n",
    "# print(hour_trip.mean()['Trip_distance'])\n",
    "# print('trip median')\n",
    "# print(hour_trip.median()['Trip_distance'])"
   ]
  },
  {
   "cell_type": "markdown",
   "metadata": {},
   "source": [
    "And we can draw the line chart for mean and median trip distance:"
   ]
  },
  {
   "cell_type": "code",
   "execution_count": 9,
   "metadata": {},
   "outputs": [
    {
     "data": {
      "image/png": "[encoded data removed]",
      "text/plain": [
       "<matplotlib.figure.Figure at 0x11ab72d68>"
      ]
     },
     "metadata": {},
     "output_type": "display_data"
    }
   ],
   "source": [
    "mean_graph=plt.plot(hour_trip.mean()['Trip_distance'],label='Mean Trip Distance')\n",
    "median_graph=plt.plot(hour_trip.median()['Trip_distance'],label='Median Trip Distance')\n",
    "plt.title('Mean/Median Trip Distance of Hour of Day')\n",
    "plt.xlabel('Hour of Day (h)')\n",
    "plt.ylabel('Trip Distance (mile)')\n",
    "plt.legend()\n",
    "plt.show()"
   ]
  },
  {
   "cell_type": "markdown",
   "metadata": {},
   "source": [
    "From the graphs and data above, we can find some interesting stuff: the mean and median mainly follow the same trend, which means the trip distance in every hour period is kind of stable. And the trip distance at around 5-6 am is the longest, which might be due to that people in NYC are on their way for working at that time. Similarly, distance after 20:00 is increasing, which might be that it's the common time for people to go back home in NYC.  "
   ]
  },
  {
   "cell_type": "markdown",
   "metadata": {},
   "source": [
    "### 3.2 Build prediction model for predicting tip as a percentage of the total fare"
   ]
  },
  {
   "cell_type": "markdown",
   "metadata": {},
   "source": [
    "Now we arrive at the core part of this tutorial: building a machine learning model for data analysis task. First let's filter invalid tips according to these rules:  \n",
    "1. Empty or nan rows are invalid\n",
    "2. Negative tips and fare are invalid\n",
    "3. If tip>=fare, it's invalid. This is arguable, I mark it as invalid simply because it's kind of counter-intuitive and not common in daily life."
   ]
  },
  {
   "cell_type": "code",
   "execution_count": 10,
   "metadata": {
    "scrolled": true
   },
   "outputs": [
    {
     "name": "stdout",
     "output_type": "stream",
     "text": [
      "1494926\n",
      "nan column: 0\n",
      "nan column: 0\n",
      "invalid tip: 38 invalid fare: 2417\n",
      "unbalance tip and fare: 6742\n"
     ]
    }
   ],
   "source": [
    "# derived variable for tip percentage about total fare\n",
    "# First valid tip column and total_fare column to filter invalid data\n",
    "# checkpoint1: whether there're empty lines in tip and fare\n",
    "\n",
    "print(len(green_trip_pd))\n",
    "check_tip=green_trip_pd['Tip_amount'].replace('',np.nan)\n",
    "print('nan column:',check_tip.isnull().sum())\n",
    "\n",
    "check_fare=green_trip_pd['Total_amount'].replace('',np.nan)\n",
    "print('nan column:',check_fare.isnull().sum())\n",
    "\n",
    "#checkpoint2: if tip<0 or fare<0, then it's invalid\n",
    "check_tip=green_trip_pd[green_trip_pd['Tip_amount']<0]['Tip_amount']\n",
    "check_fare=green_trip_pd[green_trip_pd['Total_amount']<0]['Total_amount']\n",
    "print('invalid tip:',len(check_tip),\"invalid fare:\",len(check_fare))\n",
    "\n",
    "# check point3: if tip>fare then it's invalid \n",
    "checkvalid=green_trip_pd[(green_trip_pd['Tip_amount']>=green_trip_pd['Total_amount'])]\n",
    "print('unbalance tip and fare:',len(checkvalid))\n",
    "\n",
    "\n"
   ]
  },
  {
   "cell_type": "markdown",
   "metadata": {},
   "source": [
    "Then let's remove the invalid data from our dataframe:"
   ]
  },
  {
   "cell_type": "code",
   "execution_count": 11,
   "metadata": {
    "scrolled": true
   },
   "outputs": [
    {
     "data": {
      "image/png": "[encoded data removed]",
      "text/plain": [
       "<matplotlib.figure.Figure at 0x11da159b0>"
      ]
     },
     "metadata": {},
     "output_type": "display_data"
    }
   ],
   "source": [
    "# add a column about tip proportion first\n",
    "green_trip_pd['tip_prop']=green_trip_pd['Tip_amount']/green_trip_pd['Total_amount']\n",
    "valid_trip=green_trip_pd[(green_trip_pd['Total_amount']>0)&(green_trip_pd['Tip_amount']>=0)&(green_trip_pd['Tip_amount']<green_trip_pd['Total_amount'])]\n",
    "\n",
    "tip_prop=valid_trip['tip_prop']\n",
    "\n",
    "# Now derive our variable\n",
    "# print('derived tip proportion data:')\n",
    "# print(tip_prop.describe(),len(tip_prop))\n",
    "\n",
    "plt.hist(tip_prop,bins=30)\n",
    "plt.title('Tip Percentage of Total Fare')\n",
    "plt.xlabel('Tip Percentage (%)')\n",
    "plt.ylabel('Number')\n",
    "plt.show()\n"
   ]
  },
  {
   "cell_type": "markdown",
   "metadata": {
    "collapsed": true
   },
   "source": [
    "In this way we successfully obtain a kind of \"clean\" variable about the tip percentage in our data set. We can find that most of the tips are 0, which means tips might not be needed in most case. However, we should also notice that cash tips are not included in our data set, which might bring some bias towards our conclusion. "
   ]
  },
  {
   "cell_type": "markdown",
   "metadata": {},
   "source": [
    "With the valid target output, we'd like to first decide which model to build. It's a problem of logistic regression. And since we have so much useful data, I have the condition to build a complex and more reliable model with enough training data. So the multi-layer neuron network should be a good choice. Neuron network which is ideal for dealing with noise is an excellent model for infering the relationship between multiple variables.\n",
    "\n",
    "\n",
    "Then we just need to do two things:  \n",
    "1. Feature engineering, including filtering features, get new features composed of current features\n",
    "2. Seperate data into training set, valid set and test set for training.\n",
    "\n",
    "Let's move on to these steps.\n",
    "\n"
   ]
  },
  {
   "cell_type": "markdown",
   "metadata": {},
   "source": [
    "First let's transfer some data types into feedable forms just like what we did in previous section. For the time, I'll leave out year, month and day since it's only a one-month dataset. I'll use seconds to represent the time."
   ]
  },
  {
   "cell_type": "code",
   "execution_count": 12,
   "metadata": {
    "collapsed": true
   },
   "outputs": [],
   "source": [
    "# pre-process data - step one: transform data type into countable ones\n",
    "green_trip_pd['dropoff_second']=green_trip_pd['Lpep_dropoff_datetime'].apply(lambda x:x.hour*3600+x.minute*60+x.second)\n",
    "green_trip_pd['pickup_second']=green_trip_pd['lpep_pickup_datetime'].apply(lambda x:x.hour*3600+x.minute*60+x.second)\n",
    "# print(green_trip_pd.shape)"
   ]
  },
  {
   "cell_type": "markdown",
   "metadata": {},
   "source": [
    "Next let's take a look at data attributes of all columns and exclude those unimportant ones:"
   ]
  },
  {
   "cell_type": "code",
   "execution_count": 13,
   "metadata": {
    "scrolled": true
   },
   "outputs": [
    {
     "name": "stderr",
     "output_type": "stream",
     "text": [
      "/Users/lazy/anaconda3/lib/python3.6/site-packages/numpy/lib/function_base.py:4274: RuntimeWarning: Invalid value encountered in percentile\n",
      "  interpolation=interpolation)\n"
     ]
    },
    {
     "name": "stdout",
     "output_type": "stream",
     "text": [
      "           VendorID  Store_and_fwd_flag    RateCodeID  Pickup_longitude  \\\n",
      "count  1.494926e+06        1.494926e+06  1.494926e+06      1.494926e+06   \n",
      "mean   1.782045e+00        5.842430e-03  1.097653e+00     -7.383084e+01   \n",
      "std    4.128570e-01        7.621220e-02  6.359437e-01      2.776082e+00   \n",
      "min    1.000000e+00        0.000000e+00  1.000000e+00     -8.331908e+01   \n",
      "25%    2.000000e+00        0.000000e+00  1.000000e+00     -7.395961e+01   \n",
      "50%    2.000000e+00        0.000000e+00  1.000000e+00     -7.394536e+01   \n",
      "75%    2.000000e+00        0.000000e+00  1.000000e+00     -7.391748e+01   \n",
      "max    2.000000e+00        1.000000e+00  9.900000e+01      0.000000e+00   \n",
      "\n",
      "       Pickup_latitude  Dropoff_longitude  Dropoff_latitude  Passenger_count  \\\n",
      "count     1.494926e+06       1.494926e+06      1.494926e+06     1.494926e+06   \n",
      "mean      4.069114e+01      -7.383728e+01      4.069291e+01     1.370598e+00   \n",
      "std       1.530882e+00       2.677911e+00      1.476698e+00     1.039426e+00   \n",
      "min       0.000000e+00      -8.342784e+01      0.000000e+00     0.000000e+00   \n",
      "25%       4.069895e+01      -7.396782e+01      4.069878e+01     1.000000e+00   \n",
      "50%       4.074674e+01      -7.394504e+01      4.074728e+01     1.000000e+00   \n",
      "75%       4.080255e+01      -7.391013e+01      4.079015e+01     1.000000e+00   \n",
      "max       4.317726e+01       0.000000e+00      4.279934e+01     9.000000e+00   \n",
      "\n",
      "       Trip_distance   Fare_amount      ...        Tolls_amount  Ehail_fee  \\\n",
      "count   1.494926e+06  1.494926e+06      ...        1.494926e+06        0.0   \n",
      "mean    2.968141e+00  1.254320e+01      ...        1.231047e-01        NaN   \n",
      "std     3.076621e+00  1.008278e+01      ...        8.910137e-01        NaN   \n",
      "min     0.000000e+00 -4.750000e+02      ...       -1.529000e+01        NaN   \n",
      "25%     1.100000e+00  6.500000e+00      ...        0.000000e+00        NaN   \n",
      "50%     1.980000e+00  9.500000e+00      ...        0.000000e+00        NaN   \n",
      "75%     3.740000e+00  1.550000e+01      ...        0.000000e+00        NaN   \n",
      "max     6.031000e+02  5.805000e+02      ...        9.575000e+01        NaN   \n",
      "\n",
      "       improvement_surcharge  Total_amount  Payment_type    Trip_type   \\\n",
      "count           1.494926e+06  1.494926e+06  1.494926e+06  1.494922e+06   \n",
      "mean            2.920991e-01  1.503215e+01  1.540559e+00  1.022353e+00   \n",
      "std             5.074009e-02  1.155316e+01  5.232935e-01  1.478288e-01   \n",
      "min            -3.000000e-01 -4.750000e+02  1.000000e+00  1.000000e+00   \n",
      "25%             3.000000e-01  8.160000e+00  1.000000e+00           NaN   \n",
      "50%             3.000000e-01  1.176000e+01  2.000000e+00           NaN   \n",
      "75%             3.000000e-01  1.830000e+01  2.000000e+00           NaN   \n",
      "max             3.000000e-01  5.813000e+02  5.000000e+00  2.000000e+00   \n",
      "\n",
      "               hour      tip_prop  dropoff_second  pickup_second  \n",
      "count  1.494926e+06  1.490754e+06    1.494926e+06   1.494926e+06  \n",
      "mean   1.347794e+01  6.653826e-02    5.032193e+04   5.052644e+04  \n",
      "std    6.892356e+00  8.875158e-02    2.485197e+04   2.450668e+04  \n",
      "min    0.000000e+00  0.000000e+00    0.000000e+00   0.000000e+00  \n",
      "25%    9.000000e+00           NaN    3.300500e+04   3.319800e+04  \n",
      "50%    1.500000e+01           NaN    5.545200e+04   5.545000e+04  \n",
      "75%    1.900000e+01           NaN    7.097100e+04   7.081100e+04  \n",
      "max    2.300000e+01  1.000000e+00    8.639900e+04   8.639900e+04  \n",
      "\n",
      "[8 rows x 23 columns] Index(['VendorID', 'lpep_pickup_datetime', 'Lpep_dropoff_datetime',\n",
      "       'Store_and_fwd_flag', 'RateCodeID', 'Pickup_longitude',\n",
      "       'Pickup_latitude', 'Dropoff_longitude', 'Dropoff_latitude',\n",
      "       'Passenger_count', 'Trip_distance', 'Fare_amount', 'Extra', 'MTA_tax',\n",
      "       'Tip_amount', 'Tolls_amount', 'Ehail_fee', 'improvement_surcharge',\n",
      "       'Total_amount', 'Payment_type', 'Trip_type ', 'hour', 'tip_prop',\n",
      "       'dropoff_second', 'pickup_second'],\n",
      "      dtype='object') 25\n",
      "              Extra       MTA_tax    Tip_amount\n",
      "count  1.494926e+06  1.494926e+06  1.494926e+06\n",
      "mean   3.512800e-01  4.866408e-01  1.235727e+00\n",
      "std    3.663096e-01  8.504473e-02  2.431476e+00\n",
      "min   -1.000000e+00 -5.000000e-01 -5.000000e+01\n",
      "25%    0.000000e+00  5.000000e-01  0.000000e+00\n",
      "50%    5.000000e-01  5.000000e-01  0.000000e+00\n",
      "75%    5.000000e-01  5.000000e-01  2.000000e+00\n",
      "max    1.200000e+01  5.000000e-01  3.000000e+02\n"
     ]
    }
   ],
   "source": [
    "# Analyze data column\n",
    "print(green_trip_pd.describe(),green_trip_pd.columns,len(green_trip_pd.columns))\n",
    "# display incomplete, just to make sure display all [this is a bad improvement, need to update if time permitted]\n",
    "columns=['Extra', 'MTA_tax','Tip_amount']\n",
    "print(green_trip_pd[columns].describe())"
   ]
  },
  {
   "cell_type": "markdown",
   "metadata": {},
   "source": [
    "From the results above, we can find that most values in column Ehail_fee are empty, and column improvement_surcharge, MTA_tax, Store_and_fwd_flag have a relatively low variance. So we're gonna drop them. In addition, since we already have pickup/dropoff time and tip proportion, we can drop lpep_pickup_datetime, Lpep_dropoff_datetime, hour, Tip_amount as well."
   ]
  },
  {
   "cell_type": "code",
   "execution_count": 14,
   "metadata": {
    "collapsed": true
   },
   "outputs": [],
   "source": [
    "# Make a copy of the original data for later use\n",
    "inputdata=green_trip_pd.copy()\n",
    "# pre-process data - step two: leave out useless columns\n",
    "inputdata=inputdata.drop(['MTA_tax','Ehail_fee','improvement_surcharge','hour','Store_and_fwd_flag','lpep_pickup_datetime', 'Lpep_dropoff_datetime','Tip_amount'],axis=1)"
   ]
  },
  {
   "cell_type": "markdown",
   "metadata": {},
   "source": [
    "Then we drop those empty/None data:"
   ]
  },
  {
   "cell_type": "code",
   "execution_count": 15,
   "metadata": {
    "scrolled": true
   },
   "outputs": [
    {
     "name": "stdout",
     "output_type": "stream",
     "text": [
      "VendorID                0\n",
      "RateCodeID              0\n",
      "Pickup_longitude        0\n",
      "Pickup_latitude         0\n",
      "Dropoff_longitude       0\n",
      "Dropoff_latitude        0\n",
      "Passenger_count         0\n",
      "Trip_distance           0\n",
      "Fare_amount             0\n",
      "Extra                   0\n",
      "Tolls_amount            0\n",
      "Total_amount            0\n",
      "Payment_type            0\n",
      "Trip_type               4\n",
      "tip_prop             4172\n",
      "dropoff_second          0\n",
      "pickup_second           0\n",
      "dtype: int64\n"
     ]
    }
   ],
   "source": [
    "inputdata=inputdata.replace('',np.nan)\n",
    "print(inputdata.isnull().sum())"
   ]
  },
  {
   "cell_type": "markdown",
   "metadata": {},
   "source": [
    "And let's delete them to clean the dataset."
   ]
  },
  {
   "cell_type": "code",
   "execution_count": 16,
   "metadata": {
    "collapsed": true
   },
   "outputs": [],
   "source": [
    "# Here we find a small bug: the column name Trip_type has a blank! For easier process in later steps I decide to eliminate it.\n",
    "inputdata.rename(columns=lambda x:x.strip(),inplace=True)\n",
    "# pre-process data - step three: replace empty columns\n",
    "inputdata.dropna(inplace=True)\n"
   ]
  },
  {
   "cell_type": "markdown",
   "metadata": {},
   "source": [
    "Finally we'll drop those invalid rows based on similar \"valid\" rules above:"
   ]
  },
  {
   "cell_type": "code",
   "execution_count": 17,
   "metadata": {
    "scrolled": false
   },
   "outputs": [
    {
     "name": "stdout",
     "output_type": "stream",
     "text": [
      "1466059 17\n",
      "VendorID               int64\n",
      "RateCodeID             int64\n",
      "Pickup_longitude     float64\n",
      "Pickup_latitude      float64\n",
      "Dropoff_longitude    float64\n",
      "Dropoff_latitude     float64\n",
      "Passenger_count        int64\n",
      "Trip_distance        float64\n",
      "Fare_amount          float64\n",
      "Extra                float64\n",
      "Tolls_amount         float64\n",
      "Total_amount         float64\n",
      "Payment_type           int64\n",
      "Trip_type            float64\n",
      "tip_prop             float64\n",
      "dropoff_second         int64\n",
      "pickup_second          int64\n",
      "dtype: object\n"
     ]
    }
   ],
   "source": [
    "# print(len(inputdata))\n",
    "# pre-process data - step four: filter unreasonable data\n",
    "t_f_cond=(inputdata['tip_prop']>=0)&(inputdata['tip_prop']<1)\n",
    "p_c=(inputdata['Passenger_count']>=0)\n",
    "toll=(inputdata['Tolls_amount']>=0)\n",
    "dis=(inputdata['Trip_distance']>=0)\n",
    "valid_time=(inputdata['dropoff_second']>=inputdata['pickup_second'])\n",
    "inputdata=inputdata[t_f_cond&p_c&toll&dis&valid_time]\n",
    "print(len(inputdata),len(inputdata.columns))\n",
    "print(inputdata.dtypes)"
   ]
  },
  {
   "cell_type": "markdown",
   "metadata": {},
   "source": [
    "Now we have a valid data set (not strictly) and we can build our training set now. \n",
    "\n",
    "Let's seperate input and labels first. One key thing here is that, since we're using multi-layer neuron network, in order to better calculate the loss & gradient and make results more stable, I'd like to divide my output value from a real value in (0,1) into 20 classes between 0 and 1 divided by 0.05 per step. In this way we support one-hot output, and can use CrossEntropy to calculate the final loss and get a more stable gradient."
   ]
  },
  {
   "cell_type": "code",
   "execution_count": 18,
   "metadata": {
    "collapsed": true,
    "scrolled": true
   },
   "outputs": [],
   "source": [
    "# classify tip proportion into 20 classes between (0,1): (0,0.05,0.1...)\n",
    "inputlabels=inputdata['tip_prop'].apply(lambda x:math.floor(x*20))\n",
    "inputdata.drop('tip_prop',axis=1,inplace=True)"
   ]
  },
  {
   "cell_type": "markdown",
   "metadata": {},
   "source": [
    "At last let's seperate the data into training set, validation set and test set. We have about 1,400,000 data, I'll use 300,000 for training, 30,000 for hold-out validation and 10000 for testing using the processed data above."
   ]
  },
  {
   "cell_type": "code",
   "execution_count": 19,
   "metadata": {
    "collapsed": true
   },
   "outputs": [],
   "source": [
    "train_size=300000\n",
    "dev_size=30000\n",
    "test_size=10000\n",
    "# First split the processed data into training set, validation set, and test set\n",
    "train_data=inputdata.iloc[:train_size,:].as_matrix()\n",
    "train_label=inputlabels.iloc[:train_size].as_matrix()\n",
    "# print(train_data.shape,train_label.shape)\n",
    "dev_data=inputdata.iloc[train_size:train_size+dev_size,:].as_matrix()\n",
    "dev_label=inputlabels.iloc[train_size:train_size+dev_size].as_matrix()\n",
    "# print(dev_data.shape,dev_label.shape)\n",
    "test_data=inputdata.iloc[train_size+dev_size:train_size+dev_size+test_size,:].as_matrix()\n",
    "test_label=inputlabels.iloc[train_size+dev_size:train_size+dev_size+test_size].as_matrix()\n",
    "# print(test_data.shape,test_label.shape)"
   ]
  },
  {
   "cell_type": "markdown",
   "metadata": {},
   "source": [
    "For the structure of my neuron network, I'll give a short explanation:\n",
    "\n",
    "1. It's a three hidden layers preceptron in Pytorch with Relu rather than sigmoid, since ReLu trains faster and can leviate gradient vanishing/exploding problems.\n",
    "\n",
    "2. For loss function I choose Cross-entropy because it's reliable for regression tasks like this and provide more stable gradient than others MSE.\n",
    "\n",
    "3. I choose mini-batch SGD with learning rate decay for fast training speed and stable loss decrease in 20 epoch. The trainig data is shuffled at every epoch. Xavier initialization is used for a good start point.\n",
    "\n",
    "4. Batch normalization, early stop and learning rate decay are used as optimization for avoiding overfitting and jittering.\n",
    "\n",
    "\n",
    "5. Possible improvement : momentum, regularization, dropout, or Adam. Feel free to try.\n",
    "\n",
    "Below are my training models and training/validation/testing process."
   ]
  },
  {
   "cell_type": "code",
   "execution_count": 20,
   "metadata": {
    "collapsed": true
   },
   "outputs": [],
   "source": [
    "# Build my 3-hidden layer neuron network\n",
    "\n",
    "lr=0.5\n",
    "batch_size=512\n",
    "inputsize=16\n",
    "outputsize=20\n",
    "epoch=20\n",
    "train_size=300000\n",
    "dev_size=30000\n",
    "test_size=10000\n",
    "\n",
    "class mynet(torch.nn.Module):\n",
    "    def __init__(self,inputsize,outputsize):\n",
    "        super().__init__()\n",
    "        self.to_hidden1_bn = torch.nn.BatchNorm1d(inputsize)\n",
    "        self.to_hidden1=torch.nn.Linear(inputsize,80)\n",
    "        self.hidden1_Relu=torch.nn.ReLU()\n",
    "        self.to_hidden2_bn = torch.nn.BatchNorm1d(80)\n",
    "        self.to_hidden2=torch.nn.Linear(80,60)\n",
    "        self.hidden2_Relu=torch.nn.ReLU()\n",
    "        self.to_hidden3_bn = torch.nn.BatchNorm1d(60)\n",
    "        self.to_hidden3=torch.nn.Linear(60,40)\n",
    "        self.hidden3_Relu = torch.nn.ReLU()\n",
    "        self.to_output=torch.nn.Linear(40,outputsize)\n",
    "    def forward(self,inputval):\n",
    "        hidden1=self.hidden1_Relu(self.to_hidden1(self.to_hidden1_bn(inputval)))\n",
    "        hidden2=self.hidden2_Relu(self.to_hidden2(self.to_hidden2_bn(hidden1)))\n",
    "        hidden3 = self.hidden3_Relu(self.to_hidden3(self.to_hidden3_bn(hidden2)))\n",
    "        return self.to_output(hidden3)\n",
    "    \n",
    "def to_variable(tensor):\n",
    "    # Tensor -> Variable (on GPU if possible)\n",
    "    if torch.cuda.is_available():\n",
    "        # Tensor -> GPU Tensor\n",
    "        tensor = tensor.cuda()\n",
    "    return torch.autograd.Variable(tensor)\n",
    "\n",
    "def to_tensor(numpy_array):\n",
    "    # Numpy array -> Tensor\n",
    "    return torch.from_numpy(numpy_array)\n",
    "\n",
    "def init_xavier(m):\n",
    "    if type(m) == torch.nn.Linear:\n",
    "        fan_in = m.weight.size()[1]\n",
    "        fan_out = m.weight.size()[0]\n",
    "        std = np.sqrt(2.0 / (fan_in + fan_out))\n",
    "        m.weight.data.normal_(0,std)\n",
    "        m.bias.data.zero_()\n",
    "        \n",
    "def inference(model,loader,nums):\n",
    "    correct=0\n",
    "    for (data,label) in loader:\n",
    "        inputs=to_variable(data.view(-1,inputsize))\n",
    "        outputs=model(inputs)\n",
    "        labels=to_variable(label)\n",
    "        pred=outputs.data.max(1,keepdim=True)[1]\n",
    "        predicted=pred.eq(labels.data.view_as(pred))\n",
    "        correct+=predicted.sum()\n",
    "    return correct/nums\n",
    "\n",
    "def predict(model,test_loader,testsize):\n",
    "    results=[]\n",
    "    correct=0\n",
    "    for index,(data,label) in enumerate(test_loader):\n",
    "        inputs=to_variable(data.view(-1,inputsize))\n",
    "        outputs=model(inputs)\n",
    "        labels=to_variable(label)\n",
    "        pred=outputs.data.max(1,keepdim=True)[1]\n",
    "        predicted=pred.eq(labels.data.view_as(pred))\n",
    "        correct+=predicted.sum()\n",
    "        results.append(pred.numpy()/20.0)\n",
    "    results=np.concatenate(results)\n",
    "    return correct/testsize,results"
   ]
  },
  {
   "cell_type": "code",
   "execution_count": 21,
   "metadata": {
    "collapsed": true
   },
   "outputs": [],
   "source": [
    "class trainer():\n",
    "    def __init__(self,model,optimizer,loss,trainloader):\n",
    "        self.model=model\n",
    "        self.optimizer=optimizer\n",
    "        self.loss=loss\n",
    "        if torch.cuda.is_available():\n",
    "            self.loss=self.loss.cuda()\n",
    "        self.trainloader=trainloader\n",
    "        \n",
    "    def stopcon(self):\n",
    "        def deriv(ns):\n",
    "            return [ns[i+1]-ns[i] for i in range(len(ns)-1)]\n",
    "        return sum(deriv(self.errors['val_error'][-10:]))>0\n",
    "    \n",
    "    def save_model(self,path):\n",
    "        torch.save(self.model.state_dict(),path)\n",
    "        \n",
    "    def train(self,epoch,val_loader,val_size,train_size):\n",
    "        print(\"Start training...\")\n",
    "        print(self.optimizer,self.loss)\n",
    "        print(len(self.trainloader), self.trainloader)\n",
    "        self.errors={'val_error':[],'loss':[],'train_error':[]}\n",
    "        schedule=StepLR(self.optimizer,step_size=1,gamma=0.5)\n",
    "        for i in range(epoch):\n",
    "            if self.stopcon():\n",
    "                return\n",
    "            correct = 0\n",
    "            epoch_loss = 0\n",
    "            t1=time.time()\n",
    "            schedule.step()\n",
    "            for index,(data,label) in enumerate(self.trainloader):\n",
    "                self.optimizer.zero_grad()\n",
    "                inputs=to_variable(data.view(-1,inputsize))\n",
    "                outputs=self.model.forward(inputs)\n",
    "                labels=to_variable(label)\n",
    "                loss=self.loss(outputs,labels)\n",
    "                loss.backward()\n",
    "                self.optimizer.step()\n",
    "                pred = outputs.data.max(1, keepdim=True)[1]\n",
    "                predicted = pred.eq(labels.data.view_as(pred))\n",
    "                correct += predicted.sum()\n",
    "                epoch_loss+=loss.data[0]\n",
    "            t2=time.time()\n",
    "            total_loss=epoch_loss/train_size\n",
    "            train_error=1-correct/train_size\n",
    "            val_accu=inference(self.model,val_loader,val_size)\n",
    "            print('epoch:{0},loss:{1:.8f},validate accuracy:{2:.8f},train error:{3:.8f},time:{4:.2f}'.format(i+1,total_loss,val_accu,train_error,t2-t1))\n",
    "            self.errors['val_error'].append(1-val_accu)\n",
    "            self.errors['train_error'].append(train_error)\n",
    "            self.errors['loss'].append(total_loss)\n",
    "        self.model.eval()           "
   ]
  },
  {
   "cell_type": "code",
   "execution_count": 22,
   "metadata": {
    "scrolled": true
   },
   "outputs": [
    {
     "name": "stdout",
     "output_type": "stream",
     "text": [
      "cuda?, False\n",
      "Start training...\n",
      "<torch.optim.sgd.SGD object at 0x11bb3a518> CrossEntropyLoss(\n",
      ")\n",
      "586 <torch.utils.data.dataloader.DataLoader object at 0x11bb3acf8>\n",
      "epoch:1,loss:0.00079109,validate accuracy:0.89416667,train error:0.13998333,time:3.94\n",
      "epoch:2,loss:0.00031950,validate accuracy:0.92613333,train error:0.06210333,time:4.40\n",
      "epoch:3,loss:0.00022857,validate accuracy:0.93760000,train error:0.04606667,time:4.10\n",
      "epoch:4,loss:0.00020475,validate accuracy:0.94166667,train error:0.04218667,time:3.73\n",
      "epoch:5,loss:0.00019528,validate accuracy:0.93623333,train error:0.04005000,time:3.91\n",
      "epoch:6,loss:0.00018372,validate accuracy:0.94713333,train error:0.03767667,time:3.87\n",
      "epoch:7,loss:0.00018564,validate accuracy:0.94496667,train error:0.03808333,time:3.86\n",
      "epoch:8,loss:0.00018587,validate accuracy:0.94403333,train error:0.03802667,time:3.67\n",
      "epoch:9,loss:0.00018306,validate accuracy:0.94236667,train error:0.03767000,time:3.65\n",
      "epoch:10,loss:0.00018398,validate accuracy:0.93946667,train error:0.03766000,time:3.85\n",
      "epoch:11,loss:0.00018326,validate accuracy:0.94036667,train error:0.03773000,time:3.95\n",
      "epoch:12,loss:0.00018147,validate accuracy:0.94196667,train error:0.03744000,time:3.65\n",
      "epoch:13,loss:0.00017922,validate accuracy:0.94083333,train error:0.03720333,time:3.90\n"
     ]
    }
   ],
   "source": [
    "# Training preparation\n",
    "mn = mynet(inputsize, outputsize)\n",
    "if torch.cuda.is_available():\n",
    "    mn=mn.cuda()\n",
    "mn.apply(init_xavier)\n",
    "print('cuda?,',torch.cuda.is_available())\n",
    "\n",
    "trainset=TensorDataset(to_tensor(train_data).float(),to_tensor(train_label))\n",
    "train_loader=DataLoader(trainset,batch_size=batch_size,shuffle=True)\n",
    "\n",
    "devset=TensorDataset(to_tensor(dev_data).float(),to_tensor(dev_label))\n",
    "dev_loader=DataLoader(devset,batch_size=batch_size,shuffle=True)\n",
    "\n",
    "testset=TensorDataset(to_tensor(test_data).float(),to_tensor(test_label))\n",
    "test_loader=DataLoader(testset,batch_size=batch_size,shuffle=False)\n",
    "\n",
    "mlp=trainer(mn,torch.optim.SGD(mn.parameters(),lr=lr),torch.nn.CrossEntropyLoss(),train_loader)\n",
    "mlp.train(epoch,dev_loader,dev_size,train_size)\n",
    "mlp.save_model('tip_proportion_predictor.pt')\n"
   ]
  },
  {
   "cell_type": "code",
   "execution_count": 23,
   "metadata": {},
   "outputs": [
    {
     "name": "stdout",
     "output_type": "stream",
     "text": [
      "accuracy 0.949\n"
     ]
    },
    {
     "data": {
      "image/png": "[encoded data removed]",
      "text/plain": [
       "<matplotlib.figure.Figure at 0x11c0ad7b8>"
      ]
     },
     "metadata": {},
     "output_type": "display_data"
    }
   ],
   "source": [
    "accuracy,results=predict(mlp.model,test_loader,test_size)\n",
    "print('accuracy',accuracy)\n",
    "\n",
    "plt.figure(1)\n",
    "plt.subplot(121)\n",
    "plt.plot(mlp.errors['loss'], 'b')\n",
    "plt.xlabel('Epoch')\n",
    "plt.ylabel('Training Loss')\n",
    "plt.title('Training Loss')\n",
    "\n",
    "plt.subplot(122)\n",
    "plt.plot(mlp.errors['train_error'], 'r', label='training')\n",
    "plt.plot(mlp.errors['val_error'], 'g', label='validation')\n",
    "plt.title('Error')\n",
    "plt.xlabel('Epoch')\n",
    "plt.ylabel('Error')\n",
    "plt.legend()\n",
    "plt.tight_layout()\n",
    "plt.show()"
   ]
  },
  {
   "cell_type": "markdown",
   "metadata": {},
   "source": [
    "Notice when validation error is stable the training error is still decreasing. This might indicate overfitting is happenning. L2 regularization can be used do deal with it(open to you!).  \n",
    "\n",
    "Another interesting thing about the graph is that our model has a really high accuracy after only 20 epoches training, this is a little bit unusual; but if we take a look at the our predicting results, we can see:"
   ]
  },
  {
   "cell_type": "code",
   "execution_count": 24,
   "metadata": {},
   "outputs": [
    {
     "name": "stdout",
     "output_type": "stream",
     "text": [
      "0 percentage: 0.6377\n"
     ]
    }
   ],
   "source": [
    "count=0\n",
    "for i in results:\n",
    "    if i[0]==0:\n",
    "        count+=1\n",
    "print('0 percentage:',count/len(results))"
   ]
  },
  {
   "cell_type": "markdown",
   "metadata": {},
   "source": [
    "64% results are 0! Remember from the previous section, we have known that the majority (over 50%, 60%-75%) tip proportion are 0. This might account for the unusual high predicting accuracy. The training data is kind of biased, more unbiased training examples need to be provided to find a more stable relationship."
   ]
  },
  {
   "cell_type": "markdown",
   "metadata": {},
   "source": [
    "## 4. Summary and reference"
   ]
  },
  {
   "cell_type": "markdown",
   "metadata": {},
   "source": [
    "To conclude, this tutorial focuses on the analysis of the NYC taxi trip data. Thanks for reading this long and verbose tutorial, I hope it can give you some inspiration in dealing with pratical data science problems. Any suggestions and advices about this tutorial will be greatly appreciated.\n",
    "\n",
    "At last I'd like to give you some reference for solving possible problems in this tutorial and supporting further exploration about this interesting dataset.\n",
    "\n",
    "1. Anaconda: https://www.anaconda.com/download/\n",
    "2. Python 3: https://www.python.org/downloads/\n",
    "3. Pytorch : http://pytorch.org/\n",
    "4. Pandas documents: https://pandas.pydata.org/pandas-docs/stable/\n",
    "5. Matplotlib: https://matplotlib.org/users/index.html\n",
    "6. NYC TLC dataset description: http://www.nyc.gov/html/tlc/html/about/about.shtml\n",
    "7. NYC TLC raw dataset: http://www.nyc.gov/html/tlc/html/about/trip_record_data.shtml"
   ]
  }
 ],
 "metadata": {
  "kernelspec": {
   "display_name": "Python 3",
   "language": "python",
   "name": "python3"
  },
  "language_info": {
   "codemirror_mode": {
    "name": "ipython",
    "version": 3
   },
   "file_extension": ".py",
   "mimetype": "text/x-python",
   "name": "python",
   "nbconvert_exporter": "python",
   "pygments_lexer": "ipython3",
   "version": "3.6.3"
  }
 },
 "nbformat": 4,
 "nbformat_minor": 1
}
