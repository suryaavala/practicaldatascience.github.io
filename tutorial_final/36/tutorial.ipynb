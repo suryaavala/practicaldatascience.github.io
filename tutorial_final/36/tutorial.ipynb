{
 "cells": [
  {
   "cell_type": "markdown",
   "metadata": {},
   "source": [
    "## Introduction\n",
    "\n",
    "In this tutorial, you will learn to use the Keras library with the Tensorflow backend. Deep learning is a trending application of statistics which has been used to great success in areas such as computer vision and natural language processing. The Keras library is a framework for building and training deep learning models. Due to its ease of use and intuitive syntax, it has quickly become the one of the most popular deep learning framework among deep learning researchers."
   ]
  },
  {
   "cell_type": "markdown",
   "metadata": {},
   "source": [
    "## Installation\n",
    "\n",
    "Before we can play with Keras, we first need to install the Tensorflow backend. You can install Tensorflow using pip. Note that the latest version of Tensorflow requires Python3!\n",
    "\n",
    "    $ pip3 install --upgrade tensorflow\n",
    "    \n",
    "Once Tensorflow has been installed, try running the following cell to ensure that everything works properly"
   ]
  },
  {
   "cell_type": "code",
   "execution_count": 1,
   "metadata": {},
   "outputs": [
    {
     "name": "stdout",
     "output_type": "stream",
     "text": [
      "b'Hello world!'\n"
     ]
    }
   ],
   "source": [
    "import warnings\n",
    "warnings.filterwarnings('ignore')  # Tensorflow throws a lot of warnings about possible optimizations in instruction sets\n",
    "import tensorflow as tf\n",
    "\n",
    "hello = tf.constant('Hello world!')\n",
    "sess = tf.Session()\n",
    "print(sess.run(hello))"
   ]
  },
  {
   "cell_type": "markdown",
   "metadata": {},
   "source": [
    "Now that we've installed Tensorflow, we can install Keras. You can install Keras using pip:\n",
    "\n",
    "    $ pip install keras\n",
    "    \n",
    "Once the installation has completed, make sure that all the following commands work:"
   ]
  },
  {
   "cell_type": "code",
   "execution_count": 2,
   "metadata": {},
   "outputs": [
    {
     "name": "stderr",
     "output_type": "stream",
     "text": [
      "Using TensorFlow backend.\n"
     ]
    }
   ],
   "source": [
    "import numpy as np\n",
    "import matplotlib.pyplot as plt\n",
    "import keras\n",
    "from keras import backend as K\n",
    "from keras.models import Sequential, Model\n",
    "from keras.layers import Dense, Conv2D, MaxPooling2D, Input, Flatten"
   ]
  },
  {
   "cell_type": "markdown",
   "metadata": {},
   "source": [
    "### GPU Support\n",
    "\n",
    "Although the examples in this tutorial will be computationally light, deep learning is notorious for requiring a lot of computation and consequently a lot of time. As a result, it is usually recommended that you train your models using a GPU. This subsection will show you how to install Tensorflow with GPU support.\n",
    "\n",
    "**Note that this only works with certain NVIDIA graphics cards! If your computer does not have a compatible NVIDIA graphics card, please skip this section.**\n",
    "\n",
    "Tensorflow with GPU support requires two pieces of NVIDIA software: the CUDA Toolkit 9.0 and cuDNN v7. CUDA Toolkit 9.0 can be installed by visting [NVIDIA's CUDA downloads page](https://developer.nvidia.com/cuda-downloads). Select the proper installation for your system, then follow the on-screen instructions. cuDNN v7 can be downloaded from [NVIDIA's cuDNN download page](https://developer.nvidia.com/cudnn). Once it has been downloaded, make sure to add the cuDNN DLL directory to your \\$PATH\\$ variable.\n",
    "\n",
    "Once you have installed the pre-requisite software, you can install Tensorflow with GPU support with pip:\n",
    "\n",
    "    $ pip3 install --upgrade tensorflow-gpu\n",
    "    \n",
    "Rerun the following commands to make sure that everything works as expected:"
   ]
  },
  {
   "cell_type": "code",
   "execution_count": 3,
   "metadata": {},
   "outputs": [],
   "source": [
    "import tensorflow as tf\n",
    "import numpy as np\n",
    "import matplotlib.pyplot as plt\n",
    "import keras\n",
    "from keras import backend as K\n",
    "from keras.models import Sequential, Model\n",
    "from keras.layers import Dense, Conv2D, MaxPooling2D, Input, Flatten"
   ]
  },
  {
   "cell_type": "markdown",
   "metadata": {},
   "source": [
    "## Example: Handwriting classification with MNIST data\n",
    "\n",
    "It is often helpful to explore a problem while learning a library. In this tutorial, we will walk through classifying handwritten digits in the MNIST database.\n",
    "\n",
    "### Loading MNIST data\n",
    "\n",
    "Keras comes prepackaged with the MNIST dataset. We can import and load the data with just a few lines of code:"
   ]
  },
  {
   "cell_type": "code",
   "execution_count": 4,
   "metadata": {},
   "outputs": [
    {
     "name": "stdout",
     "output_type": "stream",
     "text": [
      "x_train shape: (60000, 28, 28), y_train shape: (60000,)\n",
      "x_test shape: (10000, 28, 28), y_test shape: (10000,)\n",
      "Example image with label: 5\n"
     ]
    },
    {
     "data": {
      "text/plain": [
       "<matplotlib.image.AxesImage at 0x235de1857f0>"
      ]
     },
     "execution_count": 4,
     "metadata": {},
     "output_type": "execute_result"
    },
    {
     "data": {
      "image/png": "[encoded data removed]",
      "text/plain": [
       "<Figure size 432x288 with 1 Axes>"
      ]
     },
     "metadata": {},
     "output_type": "display_data"
    }
   ],
   "source": [
    "from keras.datasets import mnist\n",
    "\n",
    "\n",
    "(x_train, y_train), (x_test, y_test) = mnist.load_data()\n",
    "print('x_train shape: {}, y_train shape: {}'.format(x_train.shape, y_train.shape))\n",
    "print('x_test shape: {}, y_test shape: {}'.format(x_test.shape, y_test.shape))\n",
    "print('Example image with label: {}'.format(y_train[0]))\n",
    "plt.imshow(x_train[0], cmap='gray')"
   ]
  },
  {
   "cell_type": "markdown",
   "metadata": {},
   "source": [
    "As we can see, each sample comes in the form of a 28x28 black and white image, where each pixel is represented as a single value ranging from 0 to 255. The sample has a corresponding label ranging from 0 to 9 which denotes which digit it is.\n",
    "\n",
    "Since the label is a categorical variable, we would prefer to represent it using a dummy vector. Keras has a utility function which automatically converts categorical variables to a one-hot vector representation:"
   ]
  },
  {
   "cell_type": "code",
   "execution_count": 5,
   "metadata": {},
   "outputs": [
    {
     "name": "stdout",
     "output_type": "stream",
     "text": [
      "[0. 0. 0. 0. 0. 1. 0. 0. 0. 0.]\n"
     ]
    }
   ],
   "source": [
    "num_classes = 10  # we are classifying from 0 to 9\n",
    "\n",
    "y_train = keras.utils.to_categorical(y_train, num_classes)\n",
    "y_test = keras.utils.to_categorical(y_test, num_classes)\n",
    "print(y_train[0])"
   ]
  },
  {
   "cell_type": "markdown",
   "metadata": {},
   "source": [
    "### Background: Neural Networks\n",
    "\n",
    "This section will provide a brief overview of the models we will be building and the syntax for defining these models in Keras.\n",
    "\n",
    "To classify the digits in the MNIST dataset, we will be training a **convolutional neural network**, which is a special type of neural network. A **neural network** is composed of small units called **neurons**. Each neuron can be represented as a function, with its own parameters. For example, one type of neuron could be represented as $f(x; w) = w\\cdot x$, where $x, w$ are both vectors. In this case, the neuron's parameters are represented by the vector $w$, and it applies a linear transformation to the input vector $x$. \n",
    "\n",
    "These neurons are usually grouped into **layers**, which can be applied to larger inputs to transform it into a different output. A neural network can then be composed of several layers, each performing a transformation on some input then passing the result to another layer.\n",
    "\n",
    "To train a neural network, we must pass samples through the network. Once the network tells us its prediction, we compare it to the true label using a **loss function** - essentially a measure of how off the network is. Based on whether or not the network's label was correct, the network will change the weights of all its neurons in a process called **backpropagation** in order to minimize the loss.\n",
    "\n",
    "Luckily for us, Keras handles almost all of these implementation details. The only thing we need to do is specify the general architecture of our network. We will be training a convolutional neural network based on the architecture described by Yann LeCun in 1989. This network, known as LeNet, involves the following layers stacked on top of each other:\n",
    "\n",
    "1. Convolution layer\n",
    "2. ReLU activation layer\n",
    "3. Max pooling layer\n",
    "4. Convolution layer\n",
    "5. ReLU activation layer\n",
    "6. Max pooling layer\n",
    "7. Fully connected layer\n",
    "8. ReLU activation layer\n",
    "9. Fully connected layer\n",
    "10. Softmax activation layer\n",
    "\n",
    "Let's take a closer look how these layers work. \n",
    "\n",
    "#### Convolution layer\n",
    "\n",
    "The convolution layer, as you might infer from the name, is the main workhorse of the convolutional neural network. This layer is composed of several **filters**, which slide over the input data and perform a convolution operation.\n",
    "\n",
    "In the following code, you can see a basic implementation of the convolution operation. As you will see, the filter is like a small \"window\" through which the image is transformed. Depending on the weights in the filter, the resulting image changes dramatically."
   ]
  },
  {
   "cell_type": "code",
   "execution_count": 6,
   "metadata": {},
   "outputs": [
    {
     "data": {
      "text/plain": [
       "<matplotlib.image.AxesImage at 0x235de21f438>"
      ]
     },
     "execution_count": 6,
     "metadata": {},
     "output_type": "execute_result"
    },
    {
     "data": {
      "image/png": "[encoded data removed]",
      "text/plain": [
       "<Figure size 432x288 with 1 Axes>"
      ]
     },
     "metadata": {},
     "output_type": "display_data"
    }
   ],
   "source": [
    "def convolution(filt, img):\n",
    "    filtw, filth = filt.shape\n",
    "    marginw = (filtw // 2)\n",
    "    marginh = (filth // 2)\n",
    "    imgw, imgh = img.shape\n",
    "    \n",
    "    new_img = np.zeros((imgw - marginw * 2, imgh - marginh * 2))\n",
    "    \n",
    "    # Slide filter over entire image to generate new image\n",
    "    for i in range(new_img.shape[0]):\n",
    "        for j in range(new_img.shape[1]):\n",
    "            window = img[i: i + filtw, j: j + filth]\n",
    "            new_img[i, j] = np.sum(window * filt)\n",
    "            \n",
    "    return new_img\n",
    "\n",
    "identity_filter = np.array([[0, 0, 0],\n",
    "                            [0, 1, 0],\n",
    "                            [0, 0, 0]]) \n",
    "\n",
    "plt.imshow(convolution(identity_filter, x_train[0]), cmap='gray')"
   ]
  },
  {
   "cell_type": "markdown",
   "metadata": {},
   "source": [
    "In this first example, we show a filter which assigns full weight to the center pixel and none to those on the sides. As a result, nothing changes in the resulting image."
   ]
  },
  {
   "cell_type": "code",
   "execution_count": 7,
   "metadata": {},
   "outputs": [
    {
     "data": {
      "text/plain": [
       "<matplotlib.image.AxesImage at 0x235de717c50>"
      ]
     },
     "execution_count": 7,
     "metadata": {},
     "output_type": "execute_result"
    },
    {
     "data": {
      "image/png": "[encoded data removed]",
      "text/plain": [
       "<Figure size 432x288 with 1 Axes>"
      ]
     },
     "metadata": {},
     "output_type": "display_data"
    }
   ],
   "source": [
    "blur_filter = np.array([[.11, .11, .11],\n",
    "                        [.11, .11, .11],\n",
    "                        [.11, .11, .11]])\n",
    "\n",
    "plt.imshow(convolution(blur_filter, x_train[0]), cmap='gray')"
   ]
  },
  {
   "cell_type": "markdown",
   "metadata": {},
   "source": [
    "In this second example, we show a filter which assigns the same weight to all the pixels in the filter. The resulting pixel is the average of everything that surrounded the original pixel. As a result, we end up with an image where all the pixels are blurred together."
   ]
  },
  {
   "cell_type": "code",
   "execution_count": 8,
   "metadata": {},
   "outputs": [
    {
     "data": {
      "text/plain": [
       "<matplotlib.image.AxesImage at 0x235de76c0f0>"
      ]
     },
     "execution_count": 8,
     "metadata": {},
     "output_type": "execute_result"
    },
    {
     "data": {
      "image/png": "[encoded data removed]",
      "text/plain": [
       "<Figure size 432x288 with 1 Axes>"
      ]
     },
     "metadata": {},
     "output_type": "display_data"
    }
   ],
   "source": [
    "edge = np.array([[0, 0, 0],\n",
    "                        [-1, 1, 0],\n",
    "                        [0, 0, 0]])\n",
    "\n",
    "plt.imshow(convolution(edge, x_train[0]), cmap='gray')"
   ]
  },
  {
   "cell_type": "markdown",
   "metadata": {},
   "source": [
    "In this example, the filter has a value of -1 and a value of 1 in two adjacent pixels, and 0 everywhere else. Therefore, it only returns a positive value if there are two very different values adjacent to each other in the original image - in other words, an edge.\n",
    "\n",
    "Over the course of the training process, the filter learns better weights until it is able to pick out useful features. Since the filter is applied over the entire image, it is invariant to translation - no matter where the feature is in the original image, the filter will detect it. All of these features make the convolution layer extremely useful for image classification tasks.\n",
    "\n",
    "You can easily define a convolution layer in Keras with the Conv2D() class:"
   ]
  },
  {
   "cell_type": "code",
   "execution_count": 9,
   "metadata": {},
   "outputs": [],
   "source": [
    "conv_layer = Conv2D(32, kernel_size=(3, 3), input_shape=(28, 28), activation='relu')"
   ]
  },
  {
   "cell_type": "markdown",
   "metadata": {},
   "source": [
    "Let's unpack the arguments to the Conv2D initalizer. The first argument defines the number of filters that make up the layer. The next argument, \"kernel_size\", defines the dimensions of each filter. The third argument defines the size of the input. The final argument describes the activation function, which is explained in the next section.\n",
    "\n",
    "#### Rectified linear activation\n",
    "\n",
    "After each convolution layer, we add a rectified linear (ReLU) activation layer. This layer takes each output of the previous layer and perform the following function: $f(x) = max(0, x)$. Essentially, if an output from the previous layer was negative, it is set to 0 instead. \n",
    "\n",
    "The intuition behind this operation is that it adds a source of nonlinearity into the network. Notice that the convolution operation is essentially still linear, since it is similar to a weighted sum. Therefore, the network as a whole would have difficulty representing non-linear relationships between input and output without a non-linear operation such as ReLU. As seen above, any layer in Keras can have an additional ReLU activation layer added by specifying \"activation='relu'\".\n",
    "\n",
    "#### Max pooling layer\n",
    "\n",
    "A max pooling layer simply takes the maximum of the inputs within a certain window. The intuition is that a small offset of a pixel or two does not significantly change an image. By applying max pooling, we will find the important activations of the previous layer even if it is slightly offset. We can define a max pooling layer using similar syntax:"
   ]
  },
  {
   "cell_type": "code",
   "execution_count": 10,
   "metadata": {},
   "outputs": [],
   "source": [
    "pool_layer = MaxPooling2D(pool_size=(2, 2))"
   ]
  },
  {
   "cell_type": "markdown",
   "metadata": {},
   "source": [
    "Here, the \"pool_size\" determines the size of the window in which the layer performs the max operation. Notice that since the max pooling layer must come after another layer, there is no need to specify the input size - Keras will automatically figure it out based on the output dimensions of the layer before it.\n",
    "\n",
    "#### Fully connected layer with softmax activation\n",
    "\n",
    "Finally, we have the fully connected layer. Of all the layers this one is the most simple. It is essentially a layer composed of the \"linear\" neurons we described earlier. The softmax activation basically normalizes the results of the previous layer by making the output values all add to one. Creating a fully connected layer is just like the other layers:"
   ]
  },
  {
   "cell_type": "code",
   "execution_count": 11,
   "metadata": {},
   "outputs": [],
   "source": [
    "fc_layer = Dense(10, activation='softmax')"
   ]
  },
  {
   "cell_type": "markdown",
   "metadata": {},
   "source": [
    "Here, the first argument specifies the dimension of the output. Just as before, the \"activation\" argument tells us what function to apply in the activation layer that comes after the fully connected layer.\n",
    "\n",
    "### Model initialization\n",
    "\n",
    "At this point, we know how to create new layers. But how do we put them together into a complete model? The first method is to use Keras' Sequential API. We can simply define:"
   ]
  },
  {
   "cell_type": "code",
   "execution_count": 12,
   "metadata": {},
   "outputs": [],
   "source": [
    "model = Sequential()"
   ]
  },
  {
   "cell_type": "markdown",
   "metadata": {},
   "source": [
    "Then we can just add the layers we want one after another using the \"add()\" function in the Sequential API:"
   ]
  },
  {
   "cell_type": "code",
   "execution_count": 13,
   "metadata": {},
   "outputs": [],
   "source": [
    "rows = 28\n",
    "cols = 28\n",
    "input_shape=(rows, cols, 1)\n",
    "\n",
    "model = Sequential()\n",
    "model.add(Conv2D(32, kernel_size=(3, 3),\n",
    "                 activation='relu',\n",
    "                 input_shape=input_shape))\n",
    "model.add(MaxPooling2D(pool_size=(2, 2)))\n",
    "model.add(Conv2D(32, (3, 3), activation='relu'))\n",
    "model.add(MaxPooling2D(pool_size=(2, 2)))\n",
    "model.add(Flatten())  # This layer purely reshapes the data and does not otherwise transform it\n",
    "model.add(Dense(128, activation='relu'))\n",
    "model.add(Dense(num_classes, activation='softmax'))"
   ]
  },
  {
   "cell_type": "markdown",
   "metadata": {},
   "source": [
    "#### Functional API vs Sequential API\n",
    "\n",
    "Note that the Sequential API, as its name suggests, only allows you to create a model where each layer feeds its output to the next in a sequence. For more complicated models, Keras also offers a Functional API. In the functional API, each layer can be thought of as a function. Applying a layer $f$ to another layer $g$ in this way is akin to saying that the output of $g$ should be fed as input into $f$. As an example, our same model declared above could also be declared functionally like this:"
   ]
  },
  {
   "cell_type": "code",
   "execution_count": 14,
   "metadata": {},
   "outputs": [],
   "source": [
    "mnist_img = Input(shape=input_shape)  # A special layer that accepts inputs in the functional API\n",
    "x = Conv2D(32, kernel_size=(3, 3), activation='relu')(mnist_img)  # Notice that we are applying Conv2D as a function!\n",
    "x = MaxPooling2D(pool_size=(2, 2))(x)\n",
    "x = Conv2D(32, kernel_size=(3, 3), activation='relu')(x)\n",
    "x = MaxPooling2D(pool_size=(2, 2))(x)\n",
    "x = Flatten()(x)\n",
    "x = Dense(128, activation='relu')(x)\n",
    "x = Dense(num_classes, activation='softmax')(x)\n",
    "\n",
    "func_model = Model(input=mnist_img, output=x)"
   ]
  },
  {
   "cell_type": "markdown",
   "metadata": {},
   "source": [
    "For this example task, we do not need anything more than the Sequential API. However, if you want to create complicated models with multiple inputs/outputs or shared layers, you can make use of the Functional API.\n",
    "\n",
    "#### Compilation\n",
    "\n",
    "After declaring the model, we can compile it with the following command:"
   ]
  },
  {
   "cell_type": "code",
   "execution_count": 15,
   "metadata": {},
   "outputs": [],
   "source": [
    "model.compile(loss=keras.losses.categorical_crossentropy,\n",
    "              optimizer=keras.optimizers.Adam(),\n",
    "              metrics=['accuracy'])"
   ]
  },
  {
   "cell_type": "markdown",
   "metadata": {},
   "source": [
    "Here, we can specify the loss function we want to minimize and the optimizer that we want to use, as well as any metrics we want to track. We use categorical crossentropy as the loss function - it is essentially a generalization of binary crossentropy. We also use the Adam optimizer - this optimizer is similar to stochastic gradient descent with momentum. Finally, we want to keep track of our model accuracy."
   ]
  },
  {
   "cell_type": "code",
   "execution_count": 16,
   "metadata": {},
   "outputs": [],
   "source": [
    "x_train = x_train.astype(float)\n",
    "x_train /= 255\n",
    "x_test = x_test.astype(float)\n",
    "x_test /= 255\n",
    "x_train = x_train.reshape(x_train.shape[0], rows, cols, 1)\n",
    "x_test = x_test.reshape(x_test.shape[0], rows, cols, 1)"
   ]
  },
  {
   "cell_type": "markdown",
   "metadata": {},
   "source": [
    "As a last touch, we normalize our input features and reshape our data to fit Keras' expected input shape (Keras expects an additional dimension to represent the color channel). We can finally train our model by calling the \"fit()\" function. Here we provide our training data, validation data, the batch size (which controls how many samples are used at a time) and the epoch limit (the number of times the model trains across the whole dataset before terminating)."
   ]
  },
  {
   "cell_type": "code",
   "execution_count": 17,
   "metadata": {},
   "outputs": [],
   "source": [
    "batch_size = 64\n",
    "epochs = 8\n",
    "hist = model.fit(x_train, y_train,\n",
    "          batch_size=batch_size,\n",
    "          epochs=epochs,\n",
    "          verbose=0,\n",
    "          validation_data=(x_test, y_test))"
   ]
  },
  {
   "cell_type": "markdown",
   "metadata": {},
   "source": [
    "The \"fit()\" returns a History object which contains all the metrics across the training episode. We can examine how the loss and accuracy differed across epochs. "
   ]
  },
  {
   "cell_type": "code",
   "execution_count": 18,
   "metadata": {},
   "outputs": [
    {
     "data": {
      "image/png": "[encoded data removed]",
      "text/plain": [
       "<Figure size 432x288 with 1 Axes>"
      ]
     },
     "metadata": {},
     "output_type": "display_data"
    }
   ],
   "source": [
    "plt.plot(range(epochs), hist.history['val_acc'], hist.history['acc'])\n",
    "plt.title('Acc vs. training epochs')\n",
    "plt.xlabel('Epoch')\n",
    "plt.ylabel('Acc')\n",
    "plt.legend(['Validation Acc', 'Acc'])\n",
    "plt.show()"
   ]
  },
  {
   "cell_type": "code",
   "execution_count": 19,
   "metadata": {},
   "outputs": [
    {
     "data": {
      "image/png": "[encoded data removed]",
      "text/plain": [
       "<Figure size 432x288 with 1 Axes>"
      ]
     },
     "metadata": {},
     "output_type": "display_data"
    }
   ],
   "source": [
    "plt.plot(range(epochs), hist.history['val_loss'], hist.history['loss'])\n",
    "plt.title('Loss vs. training epochs')\n",
    "plt.xlabel('Epoch')\n",
    "plt.ylabel('Loss')\n",
    "plt.legend(['Validation Loss', 'Loss'])\n",
    "plt.show()"
   ]
  },
  {
   "cell_type": "markdown",
   "metadata": {},
   "source": [
    "As we can see, LeNet is exceptionally effective at solving the handwriting classification problem, achieving 98% accuracy on the validation data after only a single epoch!"
   ]
  },
  {
   "cell_type": "markdown",
   "metadata": {},
   "source": [
    "## References and further reading\n",
    "\n",
    "Further information on the topics in this tutorial can be found at the following sources:\n",
    "1. [Convolutional Networks](http://cs231n.github.io/convolutional-networks/)\n",
    "1. [Handwritten Digit Recognition with a Back-Propagation Network](http://yann.lecun.com/exdb/publis/pdf/lecun-90c.pdf)\n",
    "2. [Keras Documentation](https://keras.io/)\n",
    "3. [MNIST Database of handwritten digits](http://yann.lecun.com/exdb/mnist/)"
   ]
  },
  {
   "cell_type": "code",
   "execution_count": null,
   "metadata": {},
   "outputs": [],
   "source": []
  }
 ],
 "metadata": {
  "kernelspec": {
   "display_name": "Python 3",
   "language": "python",
   "name": "python3"
  },
  "language_info": {
   "codemirror_mode": {
    "name": "ipython",
    "version": 3
   },
   "file_extension": ".py",
   "mimetype": "text/x-python",
   "name": "python",
   "nbconvert_exporter": "python",
   "pygments_lexer": "ipython3",
   "version": "3.6.4"
  }
 },
 "nbformat": 4,
 "nbformat_minor": 2
}
