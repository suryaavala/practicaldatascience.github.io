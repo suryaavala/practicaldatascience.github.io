{
 "cells": [
  {
   "cell_type": "markdown",
   "metadata": {},
   "source": [
    "# Web Scraping Tutorial\n",
    "\n",
    "You can view this as a static webpage at https://nbviewer.jupyter.org/github/bdaves/388Tutorial/blob/master/BrianDavisTutorial.ipynb\n",
    "\n",
    "## Introduction\n",
    "\n",
    "A lot of the flashy parts of data science involve using pre-collected data and analyzing it to obtain meaningful observations. However, the key to being able to do any of this is the data. There are many problems that could be analyzed quite easily if only datasets were available to be analyzed. However, this data collection process can often be the hardest part of the process.\n",
    "\n",
    "One method of data collection that is very accessible is web scraping. This is the process of going through websites and systematically obtaining data from them. Of course, this can be done manually, but that would be extremely inefficient. Instead, the common method employed is to use a web scraper - an application that can scrape without manual intervention and do that job much faster and more efficiently than a human.\n",
    "\n",
    "This tutorial will introduce you to scrapy, an easy python webscraper that can be used without having to manually code an entire scraper from the ground up."
   ]
  },
  {
   "cell_type": "markdown",
   "metadata": {},
   "source": [
    "## Installation\n",
    "\n",
    "Scapy can be installed very easily.\n",
    "For those of you that have conda to manage their packages, \n",
    "the installation can be done using the terminal command:\n",
    "\n",
    "```bash\n",
    "conda install -c conda-forge scrapy\n",
    "```\n",
    "\n",
    "otherwise, you can install it using \n",
    "\n",
    "\n",
    "```bash\n",
    "pip install Scrapy\n",
    "```\n",
    "\n",
    "once Scrapy is installed, make sure that the following import works"
   ]
  },
  {
   "cell_type": "code",
   "execution_count": 27,
   "metadata": {
    "collapsed": true
   },
   "outputs": [],
   "source": [
    "import scrapy"
   ]
  },
  {
   "cell_type": "markdown",
   "metadata": {},
   "source": [
    "## Scrapy basics\n",
    "\n",
    "The main class that we will be using to scrape is the scrapy.Spider class. Any scrapers that we will build will subclass this class, and utilize its methods to make things more manageable. \n",
    "\n",
    "Within this class, you are able to:\n",
    "1. Set the initial requests\n",
    "2. limit the scope of the spider\n",
    "3. Define which pages to follow\n",
    "4. parse information from downloaded pages\n",
    "5. log information as you go\n",
    "\n",
    "and much more... so let's begin"
   ]
  },
  {
   "cell_type": "markdown",
   "metadata": {},
   "source": [
    "In order to get started, we must first start a new scrapy project. Within the desired directory, enter the terminal command:\n",
    "\n",
    "```bash\n",
    "scrapy startproject project_name\n",
    "```\n",
    "\n",
    "this will create a new directory with a few starter files \n"
   ]
  },
  {
   "cell_type": "code",
   "execution_count": 9,
   "metadata": {},
   "outputs": [
    {
     "name": "stdout",
     "output_type": "stream",
     "text": [
      "New Scrapy project 'tutorial', using template directory '/anaconda/lib/python3.6/site-packages/scrapy/templates/project', created in:\n",
      "    /Users/briandavis/CarnegieMellon/388/Tutorial/tutorial\n",
      "\n",
      "You can start your first spider with:\n",
      "    cd tutorial\n",
      "    scrapy genspider example example.com\n"
     ]
    }
   ],
   "source": [
    "!scrapy startproject tutorial"
   ]
  },
  {
   "cell_type": "markdown",
   "metadata": {},
   "source": [
    "These are the files that are created:"
   ]
  },
  {
   "cell_type": "code",
   "execution_count": 14,
   "metadata": {},
   "outputs": [
    {
     "name": "stdout",
     "output_type": "stream",
     "text": [
      "__init__.py\n",
      "__pycache__\n",
      "items.py\n",
      "middlewares.py\n",
      "pipelines.py\n",
      "settings.py\n",
      "spiders\n"
     ]
    }
   ],
   "source": [
    "%%bash\n",
    "cd tutorial/tutorial\n",
    "ls"
   ]
  },
  {
   "cell_type": "markdown",
   "metadata": {},
   "source": [
    "Now that we have a project, lets create our first spider!\n",
    "I will be choosing Reddit as the website to crawl today, but this same spider can be applied to other websites with small modifications.\n",
    "Within the subfolder entitled `spiders` create a new file called `tutorial_spider.py` and input the following code:"
   ]
  },
  {
   "cell_type": "code",
   "execution_count": null,
   "metadata": {
    "collapsed": true
   },
   "outputs": [],
   "source": [
    "import scrapy\n",
    "\n",
    "class RedditSpider(scrapy.Spider):\n",
    "    name = \"reddit\"\n",
    "    \n",
    "    def start_requests(self):\n",
    "        pass\n",
    "    \n",
    "    def parse(self, response):;\n",
    "        pass"
   ]
  },
  {
   "cell_type": "markdown",
   "metadata": {},
   "source": [
    "This creates a spider subclassed from the scrapy.Spider class that is named `reddit`.\n",
    "\n",
    "The name is important since when we eventually run our finished spider, we will use the command\n",
    "\n",
    "```\n",
    "scrapy crawl reddit\n",
    "```"
   ]
  },
  {
   "cell_type": "markdown",
   "metadata": {
    "collapsed": true
   },
   "source": [
    "We will now complete the start_requests method to the class to tell the spider where to start its crawl. This method is called once when the spider is initialized. You can give it as many start points as you want, but they must be in a iterable form of Requests. All other pages that the spider crawls to will be branches from these intial pages. \n",
    "\n",
    "another way you can do it is to set a var named `start_urls` equal to a list of the starting urls. \n",
    "\n",
    "Add the following code to the class:"
   ]
  },
  {
   "cell_type": "code",
   "execution_count": null,
   "metadata": {
    "collapsed": true
   },
   "outputs": [],
   "source": [
    "def start_requests(self):\n",
    "    urls = ['https://www.reddit.com/r/AskReddit//']\n",
    "    \n",
    "    for url in urls:\n",
    "        yield scrapy.Request(url=url, callback = self.parse)"
   ]
  },
  {
   "cell_type": "markdown",
   "metadata": {},
   "source": [
    "I specified 1 starting point for the crawler: the AskReddit subreddit. The above code generates an iterator of this url, and specifies the callback function as self.parse. The parse function is what takes the response of the given pages and extracts the necessary information. If you wanted to add more starting points, you would simply modify the urls list to include other subreddits, and the crawler would address each subreddit in the order that they are specified. \n",
    "\n",
    "Usually, a single crawler should be limited in scope so as to make it more modular. Therefore, instead of adding more start points, it might be a better idea to create an additional crawler to traverse separate subreddits\n",
    "\n",
    "In order to limit the scope of the crawler, you can also add an optional `allowed_domains` variable to the class that takes a list of domains that the spider is bounded by.\n",
    "\n",
    "Since I am only scraping from reddit sites, I will add the following line to the class:\n",
    "\n",
    "```python\n",
    "allowed_domains = [\"reddit.com\"]\n",
    "```\n",
    "\n",
    "We will now write the parse function."
   ]
  },
  {
   "cell_type": "code",
   "execution_count": null,
   "metadata": {
    "collapsed": true
   },
   "outputs": [],
   "source": [
    "def parse(self, response):\n",
    "    \n",
    "    for post in response.css(\"div.thing\"):\n",
    "        title = post.css('.title.may-blank::text').extract_first()\n",
    "        votecount = post.css('.score.unvoted::text').extract_first()\n",
    "        time = post.css('time::attr(title)').extract_first()\n",
    "        comment_count = post.css('.comments::text').extract_first()\n",
    "\n",
    "    \n",
    "        yield {\n",
    "            'title' : title,\n",
    "            'votes' : votecount,\n",
    "            'created_at' : time,\n",
    "            'comments' : comment_count,\n",
    "        }"
   ]
  },
  {
   "cell_type": "markdown",
   "metadata": {},
   "source": [
    "Lets break this down.\n",
    "\n",
    "First of all, this parse function takes in a response. This response is the webpage that the spider queries. In our spider, the first page that will be passed to this parse function is 'https://www.reddit.com/r/AskReddit//', since it is the first link provided by the start_requests function.\n",
    "\n",
    "Given this response, the parse function is responsible for selecting all necessary information from the page and returning it. \n",
    "\n",
    "In our example, we are scraping the titles, vote counts, time of creation, and comment counts of each of the posts from the front page. These are accessed by searching the css classes of the response and accessing the specific portions of the document in which the content resides. For example, the titles of each post are located under within the \"title may-blank\" class, and are accessed by the line\n",
    "\n",
    "```python\n",
    "title = post.css('.title.may-blank::text').extract_first()\n",
    "```\n",
    "\n",
    "The names of the corresponding classes can be obtained by inspecting the html of the webpage, either by manually querying the website for a response, or by using the developer tools of a web browser like chrome. \n",
    "\n",
    "After scraping the various items, Each of these items are then put into a dictionary for easy access, and are returned by the scraper.\n",
    "\n",
    "Now let's run the code to see what it returns. In order to see what was scraped, lets redirect the output of a spider to a json file using the line \n",
    "\n",
    "```bash\n",
    "scrapy crawl reddit -o redditinfo.json\n",
    "```"
   ]
  },
  {
   "cell_type": "markdown",
   "metadata": {},
   "source": [
    "To see what the spider returned, lets inspect the output file redditinfo.json"
   ]
  },
  {
   "cell_type": "code",
   "execution_count": 184,
   "metadata": {},
   "outputs": [
    {
     "name": "stdout",
     "output_type": "stream",
     "text": [
      "[\n",
      "{\"title\": \"Introducing... AssCredit!\", \"vote\": \"4590\", \"created_at\": \"Sun Apr 1 02:55:03 2018 UTC\", \"comments\": \"512 comments\"},\n",
      "{\"title\": \"Would you continue to be vegan if you had to grow every single vegetable you wanted to eat? Why or why not?\", \"vote\": \"16.2k\", \"created_at\": \"Sun Apr 1 19:45:46 2018 UTC\", \"comments\": \"1604 comments\"},\n",
      "{\"title\": \"Would you continue eating meat if you had to kill the animal yourself every time? Why or why not?\", \"vote\": \"25.2k\", \"created_at\": \"Sun Apr 1 14:06:15 2018 UTC\", \"comments\": \"9483 comments\"},\n",
      "{\"title\": \"Reddit, what are some good examples of spending money to save money?\", \"vote\": \"6064\", \"created_at\": \"Sun Apr 1 11:00:52 2018 UTC\", \"comments\": \"3831 comments\"},\n",
      "{\"title\": \"Dear Reddit, what is the best April Fool's Day Prank you ever saw, completed yourself, or heard about?\", \"vote\": \"2114\", \"created_at\": \"Sun Apr 1 13:11:56 2018 UTC\", \"comments\": \"815 comments\"},\n",
      "{\"title\": \"Prison guards of reddit, what's the scariest day on the job you've ever had?\", \"vote\": \"4473\", \"created_at\": \"Sun Apr 1 09:21:32 2018 UTC\", \"comments\": \"973 comments\"},\n",
      "{\"title\": \"People who have walked out of a job in the middle of the day, what was the last straw?\", \"vote\": \"1475\", \"created_at\": \"Sun Apr 1 14:01:07 2018 UTC\", \"comments\": \"959 comments\"},\n",
      "{\"title\": \"What is your favorite subversive \\\"fuck you, traditional story-telling\\\" moment in movies, TV, and books?\", \"vote\": \"905\", \"created_at\": \"Sun Apr 1 16:03:32 2018 UTC\", \"comments\": \"753 comments\"},\n",
      "{\"title\": \"What is a fact that, if a person did not know it, you would consider them to be ignorant?\", \"vote\": \"300\", \"created_at\": \"Sun Apr 1 18:59:44 2018 UTC\", \"comments\": \"511 comments\"},\n",
      "{\"title\": \"People who graduated with a \\\"useless\\\" degree like History, Women's Studies, ect, what are you doing with yourself now?\", \"vote\": \"107\", \"created_at\": \"Sun Apr 1 23:13:18 2018 UTC\", \"comments\": \"231 comments\"},\n",
      "{\"title\": \"What free things on the internet should everyone be taking advantage of?\", \"vote\": \"443\", \"created_at\": \"Sun Apr 1 15:11:14 2018 UTC\", \"comments\": \"242 comments\"},\n",
      "{\"title\": \"Paediatricians, what\\u2019s the strangest behaviour you\\u2019ve seen in a kid?\", \"vote\": \"19.4k\", \"created_at\": \"Sat Mar 31 22:29:22 2018 UTC\", \"comments\": \"8008 comments\"},\n",
      "{\"title\": \"What is the Creepiest thing that has ever happened to you?\", \"vote\": \"1537\", \"created_at\": \"Sun Apr 1 06:05:37 2018 UTC\", \"comments\": \"1014 comments\"},\n",
      "{\"title\": \"What is your favorite \\u2018before they were famous\\u2019 role by an actor?\", \"vote\": \"379\", \"created_at\": \"Sun Apr 1 13:13:01 2018 UTC\", \"comments\": \"652 comments\"},\n",
      "{\"title\": \"If you could legalize any one crime, what would it be and why?\", \"vote\": \"209\", \"created_at\": \"Sun Apr 1 14:53:41 2018 UTC\", \"comments\": \"441 comments\"},\n",
      "{\"title\": \"what day most changed the course of history?\", \"vote\": \"65\", \"created_at\": \"Sun Apr 1 21:02:18 2018 UTC\", \"comments\": \"137 comments\"},\n",
      "{\"title\": \"If every country was a student in a class, how would your country behave?\", \"vote\": \"157\", \"created_at\": \"Sun Apr 1 16:04:48 2018 UTC\", \"comments\": \"305 comments\"},\n",
      "{\"title\": \"What's the worst time to hear \\\"OH SHIT!\\\" ?\", \"vote\": \"546\", \"created_at\": \"Sun Apr 1 09:10:10 2018 UTC\", \"comments\": \"451 comments\"},\n",
      "{\"title\": \"Have you ever had to cut a \\\"friend\\\" out of your life ? If so, why ?\", \"vote\": \"75\", \"created_at\": \"Sun Apr 1 19:54:52 2018 UTC\", \"comments\": \"155 comments\"},\n",
      "{\"title\": \"[Serious] What are some self defense techniques you should know?\", \"vote\": \"43\", \"created_at\": \"Sun Apr 1 22:49:25 2018 UTC\", \"comments\": \"60 comments\"},\n",
      "{\"title\": \"Men of reddit, what are some things you\\u2019ve been dying to tell women?\", \"vote\": \"2218\", \"created_at\": \"Sun Apr 1 01:23:59 2018 UTC\", \"comments\": \"3471 comments\"},\n",
      "{\"title\": \"What current trends need to die?\", \"vote\": \"586\", \"created_at\": \"Sun Apr 1 07:53:29 2018 UTC\", \"comments\": \"1282 comments\"},\n",
      "{\"title\": \"How do you stop feelings of hate or bitterness towards people who have hurt you?\", \"vote\": \"312\", \"created_at\": \"Sun Apr 1 10:57:02 2018 UTC\", \"comments\": \"176 comments\"},\n",
      "{\"title\": \"What is the most badass quote?\", \"vote\": \"112\", \"created_at\": \"Sun Apr 1 16:39:48 2018 UTC\", \"comments\": \"181 comments\"},\n",
      "{\"title\": \"Youth sports referees of Reddit, what is the worst parent meltdown you've ever experienced?\", \"vote\": \"83\", \"created_at\": \"Sun Apr 1 17:45:46 2018 UTC\", \"comments\": \"18 comments\"},\n",
      "{\"title\": \"[Serious] Survivors of attempted murder, what is your story? How have you been since, physically, emotionally and mentally?\", \"vote\": \"3701\", \"created_at\": \"Sat Mar 31 21:44:34 2018 UTC\", \"comments\": \"1438 comments\"}\n",
      "]"
     ]
    }
   ],
   "source": [
    "%%bash\n",
    "cd tutorial\n",
    "less redditinfo.json"
   ]
  },
  {
   "cell_type": "markdown",
   "metadata": {},
   "source": [
    "If you cross reference this output with the content from a web browser, you can see that all of the info matches. However, you will also notice that this info only corresponds to the first page of the subreddit.\n",
    "\n",
    "In order to obtain more information, we will need to be able to have the spider automatically detect and go to new pages. We can add this capability within the parse function by modifying the function with the following code:\n",
    "\n"
   ]
  },
  {
   "cell_type": "code",
   "execution_count": 11,
   "metadata": {
    "collapsed": true
   },
   "outputs": [],
   "source": [
    "next_page = response.css(\".next-button::attr('href')\")\n",
    "if next_page:\n",
    "    url = response.urljoin(next_page[0].extract())\n",
    "    yield scrapy.Request(url, self.parse)"
   ]
  },
  {
   "cell_type": "markdown",
   "metadata": {},
   "source": [
    "A slightly simpler way to do it would be with this code instead:"
   ]
  },
  {
   "cell_type": "code",
   "execution_count": null,
   "metadata": {
    "collapsed": true
   },
   "outputs": [],
   "source": [
    "for href in response.css('span.next-button a::attr(href)'):\n",
    "    yield response.follow(href, callback=self.parse)"
   ]
  },
  {
   "cell_type": "markdown",
   "metadata": {},
   "source": [
    "after running it again, the redditinfo file now contains much more information, as the spider was able to crawl many more pages"
   ]
  },
  {
   "cell_type": "markdown",
   "metadata": {},
   "source": [
    "## Logging\n",
    "\n",
    "Finally, if you would like to keep track of info while you are scraping the web, you can log activity using scrapy's built in logging function.\n",
    "\n",
    "Very simply, you will need to call it in the parsing stage of you crawl. For example, if you wanted to keep track of all the websites that you crawl through, you can insert the following line into the parse function:\n",
    "\n",
    "```python\n",
    "self.logger.info('Parse function called on %s', response.url)\n",
    "```\n",
    "\n",
    "there are many different types of logging availailable for you to use, including debug, info, warning, error, and critical messages.\n",
    "\n",
    "After all the additions above, your code should look like this:"
   ]
  },
  {
   "cell_type": "code",
   "execution_count": null,
   "metadata": {
    "collapsed": true
   },
   "outputs": [],
   "source": [
    "import scrapy\n",
    "\n",
    "class RedditSpider(scrapy.Spider):\n",
    "    name = \"reddit\"\n",
    "    allowed_domains = [\"reddit.com\"]\n",
    "    \n",
    "    def start_requests(self):\n",
    "        urls = ['https://www.reddit.com/r/AskReddit//']\n",
    "\n",
    "        for url in urls:\n",
    "            yield scrapy.Request(url=url, callback = self.parse)\n",
    "    \n",
    "    def parse(self, response):\n",
    "        \n",
    "        self.logger.info('Parse function called on %s', response.url)\n",
    "        for post in response.css(\"div.thing\"):\n",
    "            title = post.css('.title.may-blank::text').extract_first()\n",
    "            votecount = post.css('.score.unvoted::text').extract_first()\n",
    "            time = post.css('time::attr(title)').extract_first()\n",
    "            comment_count = post.css('.comments::text').extract_first()\n",
    "\n",
    "\n",
    "            yield {\n",
    "                'title' : title,\n",
    "                'votes' : votecount,\n",
    "                'created_at' : time,\n",
    "                'comments' : comment_count,\n",
    "            }\n",
    "            \n",
    "        next_page = response.css(\".next-button::attr('href')\")\n",
    "        if next_page:\n",
    "            url = response.urljoin(next_page[0].extract())\n",
    "            yield scrapy.Request(url, self.parse)"
   ]
  },
  {
   "cell_type": "markdown",
   "metadata": {},
   "source": [
    "Though short, this code is able to extract a very large amount of information with amazing speed. However, it only covers the scraping of AskReddit. \n",
    "\n",
    "With scrapy, it is possible to run multiple spiders concurrently. So if you wanted to scrape from AskReddit and ProgrammerHumor on reddit at the same time, you could write the program like this:"
   ]
  },
  {
   "cell_type": "code",
   "execution_count": null,
   "metadata": {
    "collapsed": true
   },
   "outputs": [],
   "source": [
    "import scrapy\n",
    "from scrapy.crawler import CrawlerProcess\n",
    "\n",
    "class AskRedditSpider(scrapy.Spider):\n",
    "    # Your first spider definition\n",
    "    name = \"AskReddit\"\n",
    "    pass\n",
    "\n",
    "class ProgrammerHumorSpider(scrapy.Spider):\n",
    "    # Your second spider definition\n",
    "    name = \"ProgrammerHumor\"\n",
    "    pass\n",
    "\n",
    "process = CrawlerProcess()\n",
    "process.crawl(AskRedditSpider)\n",
    "process.crawl(ProgrammerHumorSpider)\n",
    "process.start() # the script will block here until all crawling jobs are finished\n",
    "\n",
    "#used snippet from scrapy docs"
   ]
  },
  {
   "cell_type": "markdown",
   "metadata": {},
   "source": [
    "## Using the Data\n",
    "\n",
    "Now that you are able to web scrape from subreddits, you can use it to your heart's content. First, however, you must transform it into a usable form.\n",
    "\n",
    "When we implemented our spider, we did it in a way that yielded lists of dictionaries. This form was then saved into a json file. Therefore, we can easily access the data by reading the file using ```json.loads``` and then converting it into a pandas dataframe.\n",
    "\n",
    "Below I read in files that contain the output of scrapes from both the AskReddit as well as the Programmer Humor subreddit."
   ]
  },
  {
   "cell_type": "code",
   "execution_count": 173,
   "metadata": {
    "collapsed": true
   },
   "outputs": [],
   "source": [
    "import json\n",
    "\n",
    "with open('./tutorial/askreddit.json') as f:\n",
    "    ask_reddit = json.loads(f.read())\n",
    "    f.close()"
   ]
  },
  {
   "cell_type": "code",
   "execution_count": 174,
   "metadata": {
    "collapsed": true
   },
   "outputs": [],
   "source": [
    "with open('./tutorial/programmerhumor.json') as f:\n",
    "    programmer_humor = json.loads(f.read())\n",
    "    f.close()"
   ]
  },
  {
   "cell_type": "markdown",
   "metadata": {},
   "source": [
    "Now you can easily create dataframes from the files and use them to analyze the data"
   ]
  },
  {
   "cell_type": "code",
   "execution_count": 175,
   "metadata": {
    "collapsed": true
   },
   "outputs": [],
   "source": [
    "import pandas as pd"
   ]
  },
  {
   "cell_type": "code",
   "execution_count": 176,
   "metadata": {
    "collapsed": true
   },
   "outputs": [],
   "source": [
    "ask_frame = pd.DataFrame(ask_reddit)\n",
    "humor_frame = pd.DataFrame(programmer_humor)"
   ]
  },
  {
   "cell_type": "markdown",
   "metadata": {},
   "source": [
    "For example, if you wanted to plot the number of posts with votes in specific ranges, you could do it like this"
   ]
  },
  {
   "cell_type": "code",
   "execution_count": 177,
   "metadata": {},
   "outputs": [
    {
     "data": {
      "image/png": "[encoded data removed]",
      "text/plain": [
       "<matplotlib.figure.Figure at 0x10e02b0b8>"
      ]
     },
     "metadata": {},
     "output_type": "display_data"
    }
   ],
   "source": [
    "import matplotlib.pyplot as plt\n",
    "\n",
    "ask_frame[\"created_at\"] = pd.to_datetime(ask_frame[\"created_at\"])\n",
    "ask_frame[\"hours\"] = ask_frame[\"created_at\"].map(lambda x: x.hour)\n",
    "ask_hour_frame = ask_frame.groupby([\"hours\"]).count()\n",
    "ask_counts = ask_hour_frame[\"vote\"]\n",
    " \n",
    "plt.stem(ask_counts)\n",
    "plt.title(\"posts in AskReddit vs time of day\")\n",
    "plt.xlabel(\"hour of day(military time)\")\n",
    "plt.ylabel(\"number of posts\")\n",
    "plt.show()"
   ]
  },
  {
   "cell_type": "code",
   "execution_count": 178,
   "metadata": {},
   "outputs": [
    {
     "data": {
      "image/png": "[encoded data removed]",
      "text/plain": [
       "<matplotlib.figure.Figure at 0x116dd4278>"
      ]
     },
     "metadata": {},
     "output_type": "display_data"
    }
   ],
   "source": [
    "humor_frame[\"created_at\"] = pd.to_datetime(humor_frame[\"created_at\"])\n",
    "humor_frame[\"hours\"] = humor_frame[\"created_at\"].map(lambda x: x.hour)\n",
    "humor_hour_frame = humor_frame.groupby([\"hours\"]).count()\n",
    "humor_counts = humor_hour_frame[\"vote\"]\n",
    " \n",
    "plt.stem(humor_counts)\n",
    "plt.title(\"posts in ProgrammerHumor vs time of day\")\n",
    "plt.xlabel(\"hour of day(military time)\")\n",
    "plt.ylabel(\"number of posts\")\n",
    "plt.show()"
   ]
  },
  {
   "cell_type": "markdown",
   "metadata": {},
   "source": [
    "## Final thoughts and further reading\n",
    "\n",
    "Just from this simple analysis we can gather some interesting conclusions about the two subreddits. As you can see, AskReddit seems to gain activity as the UTC goes later. However, the ProgrammerHumor subreddit does not fluctuate as much, and has relatively consistent participation throughout the day, suggesting that it has a more global base. \n",
    "\n",
    "Although this is a fairly simple example, you can gather much more complex sets of data using very slight modifications to the crawler that we built above. By playing around with this library, you will be able to gather the kind of data that would be humanly impossible otherwise.\n",
    "\n",
    "For more sources, consider reading the scrapy documentation, and utilizing Stack Overflow for any questions that rise when experimenting.\n",
    "\n",
    "1. Scrapy Docs: https://doc.scrapy.org/en/latest/\n",
    "2. More Docs: https://readthedocs.org/projects/scrapy/\n",
    "3. Tutorials Point: https://www.tutorialspoint.com/scrapy/index.htm\n",
    "\n",
    "Happy Scraping!"
   ]
  }
 ],
 "metadata": {
  "kernelspec": {
   "display_name": "Python 3",
   "language": "python",
   "name": "python3"
  },
  "language_info": {
   "codemirror_mode": {
    "name": "ipython",
    "version": 3
   },
   "file_extension": ".py",
   "mimetype": "text/x-python",
   "name": "python",
   "nbconvert_exporter": "python",
   "pygments_lexer": "ipython3",
   "version": "3.6.1"
  }
 },
 "nbformat": 4,
 "nbformat_minor": 2
}
