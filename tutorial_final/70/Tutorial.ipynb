{
 "cells": [
  {
   "cell_type": "markdown",
   "metadata": {},
   "source": [
    "There are a wide variety of messaging apps through which we communicate on a daily basis. Messenger, iMessage, Groupme, WhatsApp, and plain SMS are just a few examples. We all use these apps for group and individual messaging, whether sending memes to your best friend or planning your next club meeting. What you may not consider, however, is how our patterns of communication in these apps betray the structure of our social groups, including friendships and other relationships. Whose messages we choose to like, who we choose to mention, and who we reply to all form a comprehensive snapshot of our relationships with others.\n",
    "\n",
    "In this tutorial, I will show you how to do two things. Firstly, I will download GroupMe data using the API and show how to get relevant data out of it. Secondly, I will analyze this data to show how relationships between users can be found.\n",
    "\n",
    "The GroupMe developer website is accessible at https://dev.groupme.com/, and the documentation is accessible at https://dev.groupme.com/docs/v3.\n",
    "\n",
    "You must log into the first link and create an access token in order to access your group information through the API. This API can be used to download messages from all groups, and download messages from direct messages with other users.\n",
    "\n",
    "\n",
    "First, we will need the requests library to hit the GroupMe API, and the GroupMe URL. I have inputted my access token here but you can change it to query your groups."
   ]
  },
  {
   "cell_type": "code",
   "execution_count": 1,
   "metadata": {},
   "outputs": [],
   "source": [
    "import requests\n",
    "url = 'https://api.groupme.com/v3/groups'\n",
    "token = '66KSQKkyEePzAZ1YajkeKp8k4x8a3fvdrXa8curc'"
   ]
  },
  {
   "cell_type": "markdown",
   "metadata": {},
   "source": [
    "First, let's look at what groups you're in, and how many messages each one has."
   ]
  },
  {
   "cell_type": "code",
   "execution_count": 2,
   "metadata": {},
   "outputs": [
    {
     "name": "stdout",
     "output_type": "stream",
     "text": [
      "??????🤔🤔🤔: 61760\n",
      "The Rothschild Family: 16583\n",
      "Gang gnag: 10133\n",
      "Memes' Rights Activists: 9998\n",
      "AL Boys State - Cooper (City 5): 5468\n",
      "Hewwo? Want sum Fucky Wucky?: 4517\n",
      "Lil D's Lil Hoes: 2708\n",
      "Morewood E-Tower 3rd Floor: 1658\n",
      "The Übermensch: 1535\n",
      "Mosh Class: 1533\n",
      "Sacred Text (DO NOT POST): 1186\n",
      "Upsilon Pledge Class: 664\n",
      "VEX 2017: 406\n",
      "The cool kids: 106\n",
      "Gang gang thats not fucked up: 104\n",
      "Amer. B Day Trip: 89\n",
      "Camp: 71\n",
      "Cryps and buds: 57\n",
      "Christmas Party Dec. 23rd: 44\n",
      "Camping Trip: 30\n",
      "Camping: 8\n"
     ]
    }
   ],
   "source": [
    "# Get the groups using your access token and 500 groups per page to get all groups with one query.\n",
    "r = requests.get(url, params = {'token': token, 'per_page': 500})\n",
    "groups = r.json()['response']\n",
    "# Sort the groups according to the message count - more data is easier to work with\n",
    "groups.sort(key=lambda x: x['messages']['count'], reverse=True)\n",
    "# Print all the sorted groups with their name and message count\n",
    "for g in groups:\n",
    "    print(g['name'] + ': ' + str(g['messages']['count']))"
   ]
  },
  {
   "cell_type": "markdown",
   "metadata": {},
   "source": [
    "We will do analysis on the group with the most messages. We must now download all the messages for this group. Because GroupMe paginates their messages into groups of 100, we must query progressively older messages until we reach the earliest message. To do this, we will use the 'before_id' parameter, which queries the 100 messages BEFORE the message ID inputted. We use the earliest message in each group to query the next oldest 100 messages, until the query returns nothing at which point we stop. This may take a few minutes."
   ]
  },
  {
   "cell_type": "code",
   "execution_count": 3,
   "metadata": {},
   "outputs": [
    {
     "name": "stdout",
     "output_type": "stream",
     "text": [
      "Jordan Green added Achal Channarasappa, Anthony Comport, and Ryan McKinney to the group\n",
      "61760\n"
     ]
    }
   ],
   "source": [
    "msgs = []\n",
    "\n",
    "group_id = groups[0]['id']\n",
    "group_url = url + '/%s/messages' % group_id\n",
    "r = requests.get(group_url, params={'token': token, 'limit': 100})\n",
    "temp = r.json()['response']['messages']\n",
    "\n",
    "while temp:\n",
    "    msgs += temp\n",
    "    r = requests.get(group_url, params={'token': token, 'limit': 100, 'before_id': temp[-1]['id']})\n",
    "    temp = r.json()['response']['messages'] if r.text else None\n",
    "    \n",
    "# Just as a sanity check, the last message in the list should be the earliest, when the group was created\n",
    "print(msgs[-1]['text'])\n",
    "# Also, the length should be equal to the number of messages reported by GroupMe\n",
    "print(len(msgs))"
   ]
  },
  {
   "cell_type": "markdown",
   "metadata": {},
   "source": [
    "First, let's do some basic exploration of this group chat. Because we are analyzing how this group messages each other, it is informative to look at the times at which messages are sent.\n",
    "\n",
    "For example, here we generate a histogram of 15-minute time slots out of the entire day, plotting how many messages were sent in that 15-minute span. We have adjusted the times back 5 hours due to the time zone.\n",
    "\n",
    "This presents some interesting information. The group chat does not die down until 3 AM, which is quite late for normal people but expected for college students. Also, the GroupMe does not pick back up until approximately lunchtime, and then stays at about the same level of activity until a brief spike after dinner."
   ]
  },
  {
   "cell_type": "code",
   "execution_count": 4,
   "metadata": {
    "scrolled": true
   },
   "outputs": [
    {
     "data": {
      "image/png": "[encoded data removed]",
      "text/plain": [
       "<Figure size 432x288 with 1 Axes>"
      ]
     },
     "metadata": {},
     "output_type": "display_data"
    }
   ],
   "source": [
    "import matplotlib.pyplot as plt\n",
    "times = [(msg['created_at'] - 5 * 60 * 60) % 86400 for msg in msgs]\n",
    "plt.hist(times, bins = (24 * 60) // 15)\n",
    "plt.show()"
   ]
  },
  {
   "cell_type": "markdown",
   "metadata": {},
   "source": [
    "Before running data based on users, we need to figure out all the users in this group. GroupMe reports this in two ways: name and user_id. The 'name' refers to the nickname which can be changed, and 'user_id' is linked to the specific user and cannot be changed. Because we want to connect all of a user's posts with all of their nicknames, we will use user_id for all analysis and simply keep a dictionary of sender_id -> name based on the first message posted by that user, because that first message is likely to be made using their real name.\n",
    "\n",
    "First, to get a general idea of the data, let's look at the users that post the most. This is an easy task and can be verified from your personal knowledge of the group chat."
   ]
  },
  {
   "cell_type": "code",
   "execution_count": 5,
   "metadata": {},
   "outputs": [
    {
     "name": "stdout",
     "output_type": "stream",
     "text": [
      "Leroy Khalifa: 3533\n",
      "Alex Kent: 2475\n",
      "Nolan Hiehle: 2370\n",
      "Adam Tucker: 2244\n",
      "GroupMe: 2122\n",
      "Matt Briselli: 1951\n",
      "Steven Palmer: 1671\n",
      "Jordan Green: 1509\n",
      "Jess Chernak: 1502\n",
      "Luca Damasco: 1408\n",
      "\n",
      "Number of users ever in the group: 170\n"
     ]
    }
   ],
   "source": [
    "from collections import Counter\n",
    "# Count the number of times a user ID posts\n",
    "counter = Counter(msg['user_id'] for msg in msgs)\n",
    "# This method conveniently sorts them in descending order\n",
    "counts = counter.most_common()\n",
    "# For every sender_id, find the first message they sent and record the name\n",
    "users = {}\n",
    "for user,count in counts:\n",
    "    first_msg = next(msg for msg in msgs[::-1] if msg['user_id'] == user)\n",
    "    users[user] = first_msg['name']\n",
    "# Print the top ten users and their number of messages.\n",
    "for user,count in counts[:10]:\n",
    "    print(users[user] + \": \" + str(count))\n",
    "    \n",
    "# Print some other data about the group.\n",
    "print()\n",
    "print('Number of users ever in the group: ' + str(len(users)))"
   ]
  },
  {
   "cell_type": "markdown",
   "metadata": {},
   "source": [
    "One user that may appear in the top 10 is GroupMe. This \"user\" posts all messages relating to users being added or removed, and other actions like changing the name of the group.\n",
    "\n",
    "\n",
    "In addition, it would be useful to know how many likes each message has. To know this, we must use the 'favorited_by' key which is a list containing every user that has favorited the message. We will add an additional key-value pair to each message for easy retrieval of the number of likes."
   ]
  },
  {
   "cell_type": "code",
   "execution_count": 6,
   "metadata": {},
   "outputs": [],
   "source": [
    "for msg in msgs:\n",
    "    msg['likes'] = len(msg['favorited_by'])"
   ]
  },
  {
   "cell_type": "markdown",
   "metadata": {},
   "source": [
    "Now we can begin analysis. A simple query might be, \"Whose comments get the most likes on average?\" Therefore, for each user ID, we should find the sum of likes of their messages and divide by the number of messages they have. Because of the data we have already collected, this is relatively simple."
   ]
  },
  {
   "cell_type": "code",
   "execution_count": 7,
   "metadata": {},
   "outputs": [
    {
     "name": "stdout",
     "output_type": "stream",
     "text": [
      "Adam Kor: 14.5\n",
      "Mark Tamvakis: 14.0\n",
      "Andrew Conlon: 9.0\n",
      "Alex Devienne: 8.78688524590164\n",
      "Eddie Dryer: 6.0\n",
      "Raz Golden: 6.0\n",
      "Grant Campfield: 5.247232472324724\n",
      "James Orr: 4.4\n",
      "Brandon Pek: 4.25\n",
      "Dan Barychev: 4.105263157894737\n",
      "\n",
      "Average overall:\n",
      "1.8749028497409326\n"
     ]
    }
   ],
   "source": [
    "avg_likes = {}\n",
    "# For every user ID, sum all their likes and divide by the number of messages they have sent\n",
    "for user_id, count in counts:\n",
    "    s = sum(msg['likes'] for msg in msgs if msg['user_id'] == user_id)\n",
    "    avg_likes[user_id] = s / count\n",
    "# Sort the data and print the top 10 most liked users per message\n",
    "sorted_likes = sorted(avg_likes, key=lambda x: avg_likes[x], reverse=True)\n",
    "for x in sorted_likes[:10]:\n",
    "    print(users[x] + \": \" + str(avg_likes[x]))\n",
    "# Print average number of likes per message to verify rest of data\n",
    "print()\n",
    "print('Average overall:')\n",
    "print(sum(msg['likes'] for msg in msgs) / len(msgs))"
   ]
  },
  {
   "cell_type": "markdown",
   "metadata": {},
   "source": [
    "It would also be interesting to see what types of content the users of this GroupMe prefer (inferred by what they click 'like' on). For example, there could be a difference between posts that have images, or posts that are of shorter or longer length. Let us investigate."
   ]
  },
  {
   "cell_type": "code",
   "execution_count": 8,
   "metadata": {},
   "outputs": [
    {
     "name": "stdout",
     "output_type": "stream",
     "text": [
      "Average likes per message with image: 7.526821705426356\n",
      "Average likes per message without image: 1.5635090117024002\n"
     ]
    }
   ],
   "source": [
    "def has_image(msg):\n",
    "    return msg['attachments'] and any(att['type'] == 'image' for att in msg['attachments'])\n",
    "\n",
    "images = [msg for msg in msgs if has_image(msg)]\n",
    "non_images = [msg for msg in msgs if not has_image(msg)]\n",
    "images_likes = sum(msg['likes'] for msg in images)\n",
    "non_images_likes = sum(msg['likes'] for msg in non_images)\n",
    "print('Average likes per message with image: ' + str(images_likes / len(images)))\n",
    "print('Average likes per message without image: ' + str(non_images_likes / len(non_images)))"
   ]
  },
  {
   "cell_type": "markdown",
   "metadata": {},
   "source": [
    "This is a very significant result. In this data set, messages with images have on average ~6 more likes than messages without images.\n",
    "\n",
    "Let's check out the users that post images often. Compare this to the list of users that post often."
   ]
  },
  {
   "cell_type": "code",
   "execution_count": 9,
   "metadata": {},
   "outputs": [
    {
     "name": "stdout",
     "output_type": "stream",
     "text": [
      "Leroy Khalifa: 303\n",
      "Nolan Hiehle: 237\n",
      "Matt Briselli: 208\n",
      "Will Koshut: 146\n",
      "Luca Damasco: 105\n",
      "John B: 97\n",
      "Anthony Comport: 89\n",
      "Jordan Green: 89\n",
      "Sebastian Murati: 76\n",
      "Drew Dates: 75\n"
     ]
    }
   ],
   "source": [
    "most_image = Counter(msg['user_id'] for msg in msgs if has_image(msg)).most_common()\n",
    "for user,count in most_image[:10]:\n",
    "    print(users[user] + ': ' + str(count))"
   ]
  },
  {
   "cell_type": "markdown",
   "metadata": {},
   "source": [
    "Each message also has a list of users who have liked it. We can analyze whose messages a user is most likely to \"like\". For each user, we will print the top three users whose messages they are most likely to appreciate."
   ]
  },
  {
   "cell_type": "code",
   "execution_count": 10,
   "metadata": {},
   "outputs": [
    {
     "name": "stdout",
     "output_type": "stream",
     "text": [
      "Leroy Khalifa: Nolan Hiehle, Matt Briselli, Alex Kent\n",
      "Alex Kent: Nolan Hiehle, Jess Chernak, Matt Briselli\n",
      "Nolan Hiehle: Adam Tucker, Leroy Khalifa, Levi Soler\n",
      "Adam Tucker: Leroy Khalifa, Nolan Hiehle, Steven Palmer\n",
      "Matt Briselli: Jordan Green, Matt Briselli, Anthony Comport\n",
      "Steven Palmer: Adam Tucker, Nolan Hiehle, Leroy Khalifa\n",
      "Jordan Green: Matt Briselli, Jess Chernak, Kevin Chen\n",
      "Jess Chernak: Matt Briselli, Jordan Green, Anthony Comport\n",
      "Luca Damasco: Jordan Green, Leroy Khalifa, Matt Briselli\n",
      "Isaac Barreto: Leroy Khalifa, Matt Briselli, Alex Kent\n",
      "Sebastian Murati: Leroy Khalifa, Adam Tucker, Jess Chernak\n",
      "Zach Newman: Nolan Hiehle, Leroy Khalifa, Adam Tucker\n",
      "Aaron Gutierrez: GroupMe, Adam Tucker, Leroy Khalifa\n",
      "John B: Levi Soler, Leroy Khalifa, Nolan Hiehle\n",
      "Will Koshut: Adam Tucker, Joshua Baiad, Leroy Khalifa\n",
      "Joshua Baiad: Jordan Green, Alex Kent, Luca Damasco\n",
      "Eric Mendez: Nolan Hiehle, Steven Palmer, Adam Tucker\n",
      "Levi Soler: Nolan Hiehle, Adam Tucker, John B\n",
      "Steve Sontag: Adam Tucker, Nolan Hiehle, Leroy Khalifa\n",
      "Ashwin Sekar: Leroy Khalifa, Adam Tucker, Alex Kent\n",
      "Abhi Kelkar: Matt Briselli, Luca Damasco, Anthony Comport\n",
      "Aaron Perley: Nolan Hiehle, Jess Chernak, Adam Tucker\n",
      "Kevin Chen: Jordan Green, Anthony Comport, Matt Briselli\n",
      "Omkar: Nolan Hiehle, Adam Tucker, Leroy Khalifa\n",
      "Siddhant Madhuk: Matt Briselli, Anthony Comport, Leroy Khalifa\n",
      "Ryan McKinney: Matt Briselli, Jordan Green, Luca Damasco\n",
      "Nick Kosarek: Matt Briselli, Nolan Hiehle, Luca Damasco\n",
      "Steven Pаlmer: Adam Tucker, Leroy Khalifa, Steven Palmer\n",
      "Anthony Comport: Matt Briselli, Luca Damasco, Jordan Green\n",
      "Austin M-R: Nolan Hiehle, Adam Tucker, Leroy Khalifa\n",
      "Chris Smith: Nolan Hiehle, Steven Palmer, Leroy Khalifa\n",
      "Suhaas Reddy: Nolan Hiehle, Levi Soler, Joshua Baiad\n",
      "Lord Snow: Nolan Hiehle, Adam Tucker, Leroy Khalifa\n",
      "Drew Dates: Adam Tucker, Nolan Hiehle, Levi Soler\n",
      "Ivan Zhang: Nolan Hiehle, Leroy Khalifa, Levi Soler\n",
      "John Pyun: Matt Briselli, Luca Damasco, Alex Kent\n",
      "Camilo Estrada: Jordan Green, Anthony Comport, Alex Kent\n",
      "Manuel: Adam Tucker, Matt Briselli, Jordan Green\n",
      "Xavier Apostol: John B, Leroy Khalifa, GroupMe\n",
      "Ben Yang: Nolan Hiehle, Adam Tucker, Alex Kent\n",
      "Achal Channarasappa: Matt Briselli, Jordan Green, Jess Chernak\n",
      "Max Forsyth: Nolan Hiehle, Levi Soler, Leroy Khalifa\n",
      "Raghav Goyal: Steven Palmer, Nolan Hiehle, GroupMe\n",
      "Alexander Chisolm: Kevin Chen, Jordan Green, Matt Briselli\n",
      "Edison Gao: Matt Briselli, Kevin Chen, Jess Chernak\n",
      "Sameer Dhavalikar: Adam Tucker, Nolan Hiehle, Steven Palmer\n",
      "Sung Jun Hong: Nolan Hiehle, Steven Palmer, Zach Newman\n",
      "Tushar Chetal: Nolan Hiehle, Levi Soler, John B\n",
      "David Wu: Jordan Green, Anthony Comport, Matt Briselli\n",
      "Zuhayer Quazi: Adam Tucker, Steven Palmer, John B\n",
      "Terence Huang: Nolan Hiehle, Adam Tucker, Levi Soler\n",
      "Kaalen: Matt Briselli, Jess Chernak, Alex Kent\n",
      "Andrew Hwang: Jordan Green, Sebastian Murati, GroupMe\n",
      "Ramsey Natour: Anthony Comport, Jordan Green, Luca Damasco\n",
      "Grant Campfield: Adam Tucker, Levi Soler, Leroy Khalifa\n",
      "Raunak Gupta: Nolan Hiehle, Steven Palmer, Adam Tucker\n",
      "Frank = Adam: Nolan Hiehle, Adam Tucker, Levi Soler\n",
      "Guy de Bree: Leroy Khalifa, Jordan Green, Luca Damasco\n",
      "Shyam Raghavan: Aaron Gutierrez, Matt Briselli, Alex Kent\n",
      "Dustin Brout: Dustin Brout, Jordan Green, Matt Briselli\n",
      "John Carchi: Anthony Comport, Matt Briselli, Siddhant Madhuk\n",
      "Tommy Sterling: Jordan Green, Anthony Comport, Matt Briselli\n",
      "Sourav Panda: Nolan Hiehle, Levi Soler, Adam Tucker\n",
      "Will Walters: Nolan Hiehle, Steven Palmer, Matt Briselli\n",
      "Jake Helmers: Kevin Chen, Jordan Green, Evan Finkelstein\n",
      "Leon Ji: GroupMe, Jess Chernak, Kevin Chen\n",
      "Alex Oh: Adam Tucker, Leroy Khalifa, John B\n",
      "Sam Ahmed: Jordan Green, Matt Briselli, Anthony Comport\n",
      "Yikun Chi: Alex Kent, Leroy Khalifa, Nolan Hiehle\n",
      "Jakob Uhlenhopp: Anthony Comport, Jordan Green, Matt Briselli\n",
      "Stephen He: Nolan Hiehle, Steven Palmer, Adam Tucker\n",
      "George Stoica: Nolan Hiehle, Levi Soler, Adam Tucker\n",
      "David Dwyer: Nolan Hiehle, Leroy Khalifa, Levi Soler\n",
      "Evan Finkelstein: Jake Helmers, Jordan Green, Kevin Chen\n",
      "Charlie Raycraft: Matt Briselli, Anthony Comport, Jordan Green\n",
      "Anthony Ko: Matt Briselli, Luca Damasco, Joshua Baiad\n",
      "Chris Skaggs: Siddhant Madhuk, Matt Briselli, Leon Ji\n",
      "Please Tread On Me: Adam Tucker, Steven Palmer, Nolan Hiehle\n",
      "Mark McKinzie: GroupMe, Nolan Hiehle, Adam Tucker\n",
      "Sudeep Raj: Jess Chernak, Leroy Khalifa, Adam Tucker\n",
      "Corey Emery: Drew Dates, Please Tread On Me, John B\n",
      "Blaise Laughlan: Adam Tucker, Nolan Hiehle, Sebastian Murati\n",
      "Sri Raghavan: Jake Helmers, Alexander Chisolm, Jordan Green\n",
      "Bujji Setty: Steven Palmer, Nolan Hiehle, Adam Tucker\n",
      "Mihir Yerande: Suhaas Reddy, Joshua Baiad, Luca Damasco\n",
      "Schwartz: Kevin Chen, Jordan Green, Manuel\n",
      "Anav Behl: Adam Tucker, Matt Briselli, Steven Palmer\n",
      "Ben Zhang: Luca Damasco, Matt Briselli, Aaron Gutierrez\n",
      "Stanton Man: Matt Briselli, Zach Newman, Luca Damasco\n",
      "Piyush Puri: Nolan Hiehle, Steven Palmer, Adam Tucker\n",
      "Bili Sun: Nolan Hiehle, Adam Tucker, Leroy Khalifa\n",
      "Alex Clement: Jake Helmers, Evan Finkelstein, Jordan Green\n",
      "Lil Juul: Adam Tucker, Zuhayer Quazi, Steve Sontag\n",
      "Ian Go: Jordan Green, Alexander Chisolm, Jess Chernak\n",
      "Jay Hebert: Matt Briselli, Jordan Green, Siddhant Madhuk\n",
      "John Way: Siddhant Madhuk, Jordan Green, Jess Chernak\n",
      "Daniel Deutsch: Alexander Chisolm, GroupMe, Raz Golden\n",
      "Ben Hecht: Matt Briselli, Luca Damasco, Jordan Green\n",
      "Alex Devienne: GroupMe, Adam Tucker, Aaron Gutierrez\n",
      "Yash Palod: Adam Tucker, Eric Mendez, Nolan Hiehle\n",
      "Jackson Gallagher: Alexander Chisolm, Evan Finkelstein, Sri Raghavan\n",
      "$0.11: Nolan Hiehle, Grant Campfield, Steven Palmer\n",
      "Pankaj Bhojwani: Adam Tucker, John B, Leroy Khalifa\n",
      "Billy Veer: Kevin Chen, Ian Go, Daniel Nelson\n",
      "Shasvat Jawahar: Please Tread On Me, Steven Palmer, Adam Tucker\n",
      "Kyle Lee: Zuhayer Quazi, Steven Palmer, Drew Dates\n",
      "Ian Lo: Nolan Hiehle, Grant Campfield, Adam Tucker\n",
      "Dan Barychev: Chris Smith, Zuhayer Quazi, GroupMe\n",
      "Shaurya Sengar: Matt Briselli, Jordan Green, Luca Damasco\n",
      "Nick Gasbarro: Jordan Green, Anthony Comport, GroupMe\n",
      "Derek Lessard: Leon Ji, Chris Skaggs, Leroy Khalifa\n",
      "Clement Wong: Adam Tucker, Nolan Hiehle, Jess Chernak\n",
      "Razghiem Golden: Matt Briselli, Charlie Raycraft, Nolan Hiehle\n",
      "Rick: Abhi Kelkar, Tushar Chetal, Adam Tucker\n",
      "Brad Plaxen: Jordan Green, Dustin Brout, Alex Kent\n",
      "Andy Ji: Leroy Khalifa, John B, Levi Soler\n",
      "Sahil Abraham: Sebastian Murati, Leroy Khalifa, Luca Damasco\n",
      "Fabrice Demière: Matt Briselli, Luca Damasco, Isaac Barreto\n",
      "Nikhil Choudhary: Luca Damasco, Zach Newman, Will Koshut\n",
      "Cameron Burgess: Aaron Perley, Isaac Barreto, David Dwyer\n",
      "Txanton B: Adam Tucker, Zuhayer Quazi, Jess Chernak\n",
      "Austin Wang: Jake Helmers, Edison Gao, Anthony Comport\n",
      "Carter Appleton: Jess Chernak, Anthony Comport, Kevin Chen\n",
      "Max Schussler: Adam Tucker, Please Tread On Me, Nolan Hiehle\n",
      "Tyler Healy: Jordan Green\n",
      "Fabrice: Levi Soler, Please Tread On Me, Omkar\n",
      "Brandon Pek: Adam Tucker, Steven Palmer, Lord Snow\n",
      "James Orr: Matt Briselli, Sebastian Murati, Luca Damasco\n",
      "Mike Hankowsky: Jordan Green, Alexander Chisolm, Jake Helmers\n",
      "Adnan: Adam Tucker, Sebastian Murati, Anav Behl\n",
      "Tim Brown: Luca Damasco, Nolan Hiehle, GroupMe\n",
      "Jason Escalante: Leroy Khalifa, Matt Briselli, Anthony Comport\n",
      "Sebastian Käser: Sebastian Murati, Jordan Green\n",
      "Advaya Krishna: Jordan Green, Ian Go, Alexander Chisolm\n",
      "Colin Meret: Billy Veer, Evan Finkelstein, Dustin Brout\n",
      "Jake Kushner: Jake Helmers, Alexander Chisolm\n",
      "Varun Kohli: Kevin Chen, Anthony Comport, Matt Briselli\n",
      "Gabe Brower: Zuhayer Quazi, Please Tread On Me, Austin M-R\n",
      "Christian Waitforit Pederson: Camilo Estrada, Will Koshut, Zach Newman\n",
      "Daniel Nelson: Jakob Uhlenhopp, Matt Briselli\n",
      "Richard Zhao: Max Forsyth, Ashwin Sekar, Adam Tucker\n",
      "Zack Furman: Jordan Green, Kevin Chen, Alexander Chisolm\n",
      "Rishi: Joshua Baiad, Alex Kent, Ashwin Sekar\n",
      "Harry Xu: Alex Kent, Chris Smith, Terence Huang\n",
      "Renzo Bautista: Jess Chernak, Raghav Goyal, Piyush Puri\n",
      "Zach Stuckelman: Alexander Chisolm, Tommy Sterling\n",
      "Jake Baldwin: Zuhayer Quazi, Adam Tucker, Austin M-R\n",
      "Dee Dick: Nolan Hiehle, Eric Mendez, Matt Briselli\n",
      "Andrew Aisosa Orobator: Matt Briselli, Jess Chernak, Abhi Kelkar\n",
      "Andrew Conlon: Steve Sontag, Adam Tucker, GroupMe\n",
      "Varun Baldwa: Adam Tucker, Zuhayer Quazi, Sung Jun Hong\n",
      "Will Records: Jordan Green, Anthony Comport, Jake Helmers\n",
      "David Bang: Ivan Zhang\n",
      "Angus Fung: Adam Tucker, Tushar Chetal, Drew Dates\n",
      "Adam Kor: Luca Damasco, Piyush Puri, Nolan Hiehle\n",
      "Mark Tamvakis: Zuhayer Quazi, Levi Soler, Ian Lo\n",
      "Chenhao Yang: Kevin Chen, John Pyun, Luca Damasco\n",
      "Ryan Roberts: Jordan Green\n",
      "William Kurniawan: Leon Ji\n"
     ]
    }
   ],
   "source": [
    "for user in users:\n",
    "    # for every user, get the messages they favorited and count by which user sent the message\n",
    "    most_liked = Counter(msg['user_id'] for msg in msgs if user in msg['favorited_by']).most_common()\n",
    "    if (most_liked):\n",
    "        top_three = [users[x[0]] for x in most_liked[:3]]\n",
    "        print(users[user] + \": \" + ', '.join(top_three))"
   ]
  },
  {
   "cell_type": "markdown",
   "metadata": {},
   "source": [
    "You will probably notice a lot of repeats of the top 10 posting users. This is because this data is just a sum of the likes a user has given another user. \n",
    "\n",
    "However, there are two problems with this approach. We are not controlling for how many likes each person gets per message, and we are not controlling for many messages they have sent. If we want to find each user's bias in liking other users' messages, we must divide by number of messages and average likes per message in order to adjust for them."
   ]
  },
  {
   "cell_type": "code",
   "execution_count": 11,
   "metadata": {},
   "outputs": [
    {
     "name": "stdout",
     "output_type": "stream",
     "text": [
      "Leroy Khalifa: Jason Escalante, Fabrice Demière, Derek Lessard\n",
      "Alex Kent: Andrew Aisosa Orobator, Sahil Abraham, Dee Dick\n",
      "Nolan Hiehle: Gabe Brower, Harry Xu, Max Schussler\n",
      "Adam Tucker: Christian Waitforit Pederson, Sudeep Raj, Jake Baldwin\n",
      "Matt Briselli: Raz, Daniel Nelson, Andrew Aisosa Orobator\n",
      "Steven Palmer: Dee Dick, Mark Tamvakis, Sudeep Raj\n",
      "Jordan Green: Varun Kohli, Sebastian Käser, Will Records\n",
      "Jess Chernak: Renzo Bautista, Eddie Dryer, Sebastian Käser\n",
      "Luca Damasco: Nick Gasbarro, Guy de Bree, Nick Frollini\n",
      "Isaac Barreto: Nick Gasbarro, Andrew Aisosa Orobator, Fabrice Demière\n",
      "Sebastian Murati: Rishi, Derek Lessard, Yash Palod\n",
      "Zach Newman: Will Records, Carter Appleton, Sahil Abraham\n",
      "Aaron Gutierrez: Jason Escalante, Tim Brown, Austin Wang\n",
      "John B: Harry Xu, Txanton B, Clement Wong\n",
      "Will Koshut: Dee Dick, Joshua Baiad, Achal Channarasappa\n",
      "Joshua Baiad: Rishi, Renzo Bautista, Carter Appleton\n",
      "Eric Mendez: Dee Dick, Zo, Richard Zhao\n",
      "Levi Soler: Sahil Abraham, Mark Tamvakis, Bujji Setty\n",
      "Steve Sontag: Harry Xu, Zo, Andrew Conlon\n",
      "Ashwin Sekar: Oliver Liburd, Eddie Dryer, Richard Zhao\n",
      "Abhi Kelkar: Jason Escalante, Sebastian Käser, Christian Waitforit Pederson\n",
      "Aaron Perley: GroupMe Calendar, James Orr, Renzo Bautista\n",
      "Kevin Chen: Will Records, Raz, Zack Furman\n",
      "Omkar: Andrew Aisosa Orobator, Harry Xu, Dee Dick\n",
      "Siddhant Madhuk: Raz, Eddie Dryer, Chris Skaggs\n",
      "Ryan McKinney: Will Records, Renzo Bautista, Daniel Nelson\n",
      "Nick Kosarek: Rishi, Christian Waitforit Pederson, Andrew Aisosa Orobator\n",
      "Steven Pаlmer: Cameron Burgess, Andrew Conlon, Max Schussler\n",
      "Anthony Comport: Sebastian Käser, GroupMe Calendar, Chris Skaggs\n",
      "Austin M-R: Shasvat Jawahar, Max Schussler, $0.11\n",
      "Chris Smith: Txanton B, Richard Zhao, Mark Tamvakis\n",
      "Suhaas Reddy: Tim Brown, Clement Wong, Omkar\n",
      "Lord Snow: Tim Brown, Varun Baldwa, Jake Baldwin\n",
      "Drew Dates: Tim Brown, Andrew Conlon, Mark Tamvakis\n",
      "Ivan Zhang: David Bang, Gabe Brower, Corey Emery\n",
      "John Pyun: Billy Veer, Raz, Carter Appleton\n",
      "Camilo Estrada: Christian Waitforit Pederson, Sahil Abraham, Jay Hebert\n",
      "Manuel: Sebastian Käser, Fabrice Demière, Tyler Healy\n",
      "Xavier Apostol: Tim Brown, Cameron Burgess, Brandon Pek\n",
      "Ben Yang: Tim Brown, Christian Waitforit Pederson, Cameron Burgess\n",
      "Achal Channarasappa: Raz Golden, Tyler Healy, Carter Appleton\n",
      "Max Forsyth: Richard Zhao, James Orr, Fabrice\n",
      "Raghav Goyal: Christian Waitforit Pederson, Sahil Abraham, Rick\n",
      "Alexander Chisolm: Mike Hankowsky, Jake Kushner, Daniel Nelson\n",
      "Edison Gao: Daniel Deutsch, Nick Frollini, Sri Raghavan\n",
      "Sameer Dhavalikar: Adnan, Bili Sun, Anav Behl\n",
      "Sung Jun Hong: Adnan, Clement Wong, Andy Ji\n",
      "Tushar Chetal: Angus Fung, David Bang, Corey Emery\n",
      "David Wu: Nick Gasbarro, Fabrice Demière, Derek Lessard\n",
      "Zuhayer Quazi: David Bang, Txanton B, Andrew Conlon\n",
      "Terence Huang: Zo, Clement Wong, Gabe Brower\n",
      "Kaalen: William Kurniawan, Andrew Aisosa Orobator, Sahil Abraham\n",
      "Andrew Hwang: Billy Veer, Nick Gasbarro, Schwartz\n",
      "Ramsey Natour: Carter Appleton, Rishi, Txanton B\n",
      "Grant Campfield: Ian Lo, David Dwyer, Rick\n",
      "Raunak Gupta: Varun Baldwa, Richard Zhao, Mark Tamvakis\n",
      "Frank = Adam: Mark Tamvakis, $0.11, Nikhil Choudhary\n",
      "Guy de Bree: Brad Plaxen, Sudeep Raj, Tommy Sterling\n",
      "Shyam Raghavan: Mihir Yerande, Razghiem Golden, Shyam Raghavan\n",
      "Dustin Brout: Dustin Brout, Ramsey Natour, Edison Gao\n",
      "John Carchi: Tommy Sterling, Adam Kor, Brad Plaxen\n",
      "Tommy Sterling: Alex Clement, Austin Wang, Mike Hankowsky\n",
      "Sourav Panda: Andrew Conlon, Zuhayer Quazi, Sung Jun Hong\n",
      "Will Walters: GroupMe Calendar, Andrew Conlon, Adam Kor\n",
      "Jake Helmers: Raz Golden, Daniel Deutsch, Evan Finkelstein\n",
      "Leon Ji: Chris Skaggs, Derek Lessard, David Wu\n",
      "Alex Oh: Kyle Lee, Fabrice, Andy Ji\n",
      "Sam Ahmed: Jake Kushner, Raz Golden, Alex Clement\n",
      "Yikun Chi: Richard Zhao, Fabrice Demière, Chris Skaggs\n",
      "Jakob Uhlenhopp: Colin Meret, John Way, Alex Clement\n",
      "Stephen He: David Bang, Gabe Brower, Cameron Burgess\n",
      "George Stoica: Cameron Burgess, Clement Wong, Pankaj Bhojwani\n",
      "David Dwyer: Mark Tamvakis, Harry Xu, Clement Wong\n",
      "Evan Finkelstein: Advaya Krishna, Alex Clement, Jake Helmers\n",
      "Charlie Raycraft: Nick Gasbarro, Austin Wang, Rishi\n",
      "Anthony Ko: Raz, Varun Kohli, Nick Frollini\n",
      "Chris Skaggs: Jason Escalante, John Way, Nick Gasbarro\n",
      "Please Tread On Me: Max Schussler, Gabe Brower, Adnan\n",
      "Mark McKinzie: Txanton B, Clement Wong, Dan Barychev\n",
      "Sudeep Raj: Yash Palod, Mark McKinzie, Ramsey Natour\n",
      "Corey Emery: Gabe Brower, Andrew Conlon, Brandon Pek\n",
      "Blaise Laughlan: Jackson Gallagher, Evan Finkelstein, Tyler Healy\n",
      "Sri Raghavan: Colin Meret, Jake Kushner, Zack Furman\n",
      "Bujji Setty: Ben Hecht, Nikhil Choudhary, Sung Jun Hong\n",
      "Mihir Yerande: Nick Frollini, Derek Lessard, Shyam Raghavan\n",
      "Schwartz: Alex Clement, Evan Finkelstein, Tyler Healy\n",
      "Anav Behl: Ben Zhang, Sameer Dhavalikar, Piyush Puri\n",
      "Ben Zhang: Austin Wang, Adam Kor, Shyam Raghavan\n",
      "Stanton Man: Chris Skaggs, Nikhil Choudhary, Sam Ahmed\n",
      "Piyush Puri: Sahil Abraham, Bujji Setty, Richard Zhao\n",
      "Bili Sun: Richard Zhao, Kyle Lee, Clement Wong\n",
      "Alex Clement: Zack Furman, Raz Golden, Advaya Krishna\n",
      "Lil Juul: Andrew Conlon, Jake Baldwin, Txanton B\n",
      "Ian Go: Advaya Krishna, Tyler Healy, Ian Go\n",
      "Jay Hebert: Fabrice Demière, John Carchi, Jay Hebert\n",
      "John Way: Jackson Gallagher, Sri Raghavan, John Way\n",
      "Daniel Deutsch: Raz Golden, Alex Clement, Sri Raghavan\n",
      "Ben Hecht: Brad Plaxen, Varun Kohli, Will Walters\n",
      "Alex Devienne: GroupMe, Yikun Chi, Ivan Zhang\n",
      "Yash Palod: Anav Behl, Sudeep Raj, Eric Mendez\n",
      "Jackson Gallagher: Sri Raghavan, Evan Finkelstein, Mike Hankowsky\n",
      "$0.11: Jake Baldwin, Adnan, Corey Emery\n",
      "Pankaj Bhojwani: Yikun Chi, Mark McKinzie, Tushar Chetal\n",
      "Billy Veer: Daniel Nelson, Mike Hankowsky, Tyler Healy\n",
      "Shasvat Jawahar: Varun Baldwa, Max Schussler, Lil Juul\n",
      "Kyle Lee: Clement Wong, Brandon Pek, Brad Plaxen\n",
      "Ian Lo: Richard Zhao, Mark Tamvakis, Corey Emery\n",
      "Dan Barychev: Zuhayer Quazi, Alex Devienne, Raunak Gupta\n",
      "Shaurya Sengar: Dee Dick, Austin Wang, Adam Kor\n",
      "Nick Gasbarro: Alex Clement, Ian Go, Brad Plaxen\n",
      "Derek Lessard: Chris Skaggs, Leon Ji, Yikun Chi\n",
      "Clement Wong: Alex Devienne, Tushar Chetal, Ashwin Sekar\n",
      "Razghiem Golden: Charlie Raycraft, Matt Briselli, Camilo Estrada\n",
      "Rick: Richard Zhao, Fabrice, Yikun Chi\n",
      "Brad Plaxen: Sebastian Käser, Dustin Brout, Tommy Sterling\n",
      "Andy Ji: Raunak Gupta, Pankaj Bhojwani, Anav Behl\n",
      "Sahil Abraham: Yash Palod, Isaac Barreto, Sebastian Murati\n",
      "Fabrice Demière: Kaalen, Isaac Barreto, Sebastian Murati\n",
      "Nikhil Choudhary: Ian Lo, Rick, Razghiem Golden\n",
      "Cameron Burgess: David Dwyer, Isaac Barreto, Aaron Perley\n",
      "Txanton B: Corey Emery, Dan Barychev, Sourav Panda\n",
      "Austin Wang: Jake Helmers, Edison Gao, Abhi Kelkar\n",
      "Carter Appleton: Kevin Chen, Jess Chernak, Anthony Comport\n",
      "Max Schussler: Oliver Liburd, Shasvat Jawahar, Adnan\n",
      "Tyler Healy: Jordan Green\n",
      "Fabrice: Please Tread On Me, Lord Snow, Omkar\n",
      "Brandon Pek: Andrew Conlon, Clement Wong, Corey Emery\n",
      "James Orr: Fabrice, Yikun Chi, David Wu\n",
      "Mike Hankowsky: Sri Raghavan, Advaya Krishna, Jackson Gallagher\n",
      "Adnan: Sahil Abraham, Yash Palod, Anav Behl\n",
      "Tim Brown: Carter Appleton, Adam Kor, Ben Hecht\n",
      "Jason Escalante: Adam Kor, Derek Lessard, Jay Hebert\n",
      "Sebastian Käser: Sebastian Murati, Jordan Green\n",
      "Advaya Krishna: Tyler Healy, Ian Go, Alexander Chisolm\n",
      "Colin Meret: Billy Veer, Evan Finkelstein, Dustin Brout\n",
      "Jake Kushner: Jake Helmers, Alexander Chisolm\n",
      "Varun Kohli: Kevin Chen, Alexander Chisolm, Abhi Kelkar\n",
      "Gabe Brower: Brandon Pek, Please Tread On Me, Zuhayer Quazi\n",
      "Christian Waitforit Pederson: Stanton Man, Charlie Raycraft, Ashwin Sekar\n",
      "Daniel Nelson: Jakob Uhlenhopp, Matt Briselli\n",
      "Richard Zhao: Adam Kor, James Orr, Dan Barychev\n",
      "Zack Furman: Kevin Chen, Alexander Chisolm, Jordan Green\n",
      "Rishi: Renzo Bautista, Fabrice Demière, Mihir Yerande\n",
      "Harry Xu: Bujji Setty, Stephen He, Terence Huang\n",
      "Renzo Bautista: Piyush Puri, Raghav Goyal, Jess Chernak\n",
      "Zach Stuckelman: Tommy Sterling, Alexander Chisolm\n",
      "Jake Baldwin: Zuhayer Quazi, Pankaj Bhojwani, Stephen He\n",
      "Dee Dick: Eric Mendez, Matt Briselli, Nolan Hiehle\n",
      "Andrew Aisosa Orobator: Abhi Kelkar, Achal Channarasappa, Zach Newman\n",
      "Andrew Conlon: David Bang, Jake Baldwin, Sourav Panda\n",
      "Varun Baldwa: Sung Jun Hong, Zuhayer Quazi, Sourav Panda\n",
      "Will Records: Jake Helmers, Jordan Green, Anthony Comport\n",
      "David Bang: Ivan Zhang\n",
      "Angus Fung: Blaise Laughlan, Tushar Chetal, Please Tread On Me\n",
      "Adam Kor: Piyush Puri, Guy de Bree, Ashwin Sekar\n",
      "Mark Tamvakis: Brandon Pek, Ian Lo, Zuhayer Quazi\n",
      "Chenhao Yang: Kevin Chen, John Pyun, Siddhant Madhuk\n",
      "Ryan Roberts: Jordan Green\n",
      "William Kurniawan: Leon Ji\n"
     ]
    }
   ],
   "source": [
    "like_list = {}\n",
    "for user in users:\n",
    "    # for every user, get the messages they favorited and count by which user sent the message\n",
    "    most_liked = Counter(msg['user_id'] for msg in msgs if user in msg['favorited_by']).most_common()\n",
    "    # now, divide by number of messages per user and likes per message to find user bias\n",
    "    adjusted = [(user, count / (counter[user] * avg_likes[user])) for user,count in most_liked]\n",
    "    most_liked = sorted(adjusted, key=lambda x: x[1], reverse=True)\n",
    "    if most_liked:\n",
    "        top_three = [users[x[0]] for x in most_liked[:3]]\n",
    "        print(users[user] + \": \" + ', '.join(top_three))\n",
    "    like_list[user] = most_liked"
   ]
  },
  {
   "cell_type": "markdown",
   "metadata": {},
   "source": [
    "Now we have arrived at data that can give us a rudimentary idea of a relationship in the context of GroupMe. The assumption is that if two users are friends, they are more likely to like each other's messages versus the rest of the group. We will print two users as 'friends' if they are in each other's top 3 liked message lists.\n",
    "\n",
    "We will use itertools.combinations to easily avoid looping over the same pair of users twice."
   ]
  },
  {
   "cell_type": "code",
   "execution_count": 12,
   "metadata": {},
   "outputs": [
    {
     "name": "stdout",
     "output_type": "stream",
     "text": [
      "Matt Briselli, Daniel Nelson\n",
      "Jordan Green, Sebastian Käser\n",
      "Jordan Green, Will Records\n",
      "Jess Chernak, Renzo Bautista\n",
      "Isaac Barreto, Fabrice Demière\n",
      "Eric Mendez, Dee Dick\n",
      "Kevin Chen, Zack Furman\n",
      "Ivan Zhang, David Bang\n",
      "Alexander Chisolm, Jake Kushner\n",
      "Sameer Dhavalikar, Anav Behl\n",
      "Tushar Chetal, Angus Fung\n",
      "Shyam Raghavan, Mihir Yerande\n",
      "Sourav Panda, Andrew Conlon\n",
      "Jake Helmers, Evan Finkelstein\n",
      "Leon Ji, Derek Lessard\n",
      "Please Tread On Me, Gabe Brower\n",
      "Sudeep Raj, Yash Palod\n",
      "Corey Emery, Brandon Pek\n",
      "Ian Go, Advaya Krishna\n",
      "Jackson Gallagher, Mike Hankowsky\n",
      "Shasvat Jawahar, Max Schussler\n",
      "Ian Lo, Mark Tamvakis\n"
     ]
    }
   ],
   "source": [
    "from itertools import combinations\n",
    "for u1, u2 in combinations(users, 2):\n",
    "    # If u2 is in the top 3 most-liked for u1\n",
    "    u1_likes_u2 = any(u2 == x[0] for x in like_list[u1][:3])\n",
    "    # If u1 is in the top 3 most-liked for u2\n",
    "    u2_likes_u1 = any(u1 == x[0] for x in like_list[u2][:3])\n",
    "    if  u1_likes_u2 and u2_likes_u1:\n",
    "        print(users[u1] + \", \" + users[u2])"
   ]
  },
  {
   "cell_type": "markdown",
   "metadata": {},
   "source": [
    "We can also analyze another indicator of a user's activity in the group message: mentions. Whereas likes could be possibly more related to if users find each others' posts or humor funny, mentions could possibly show more of a real-life relationship because users are conducting a conversation with each other within the group message."
   ]
  },
  {
   "cell_type": "code",
   "execution_count": 13,
   "metadata": {},
   "outputs": [
    {
     "name": "stdout",
     "output_type": "stream",
     "text": [
      "Adam Tucker: 166\n",
      "Leroy Khalifa: 160\n",
      "Nolan Hiehle: 156\n",
      "John B: 140\n",
      "Alex Kent: 128\n",
      "Joshua Baiad: 119\n",
      "Zach Newman: 117\n",
      "Steven Palmer: 108\n",
      "Eric Mendez: 100\n",
      "Nick Kosarek: 96\n"
     ]
    }
   ],
   "source": [
    "mentions = {user: 0 for user in users}\n",
    "for msg in msgs:\n",
    "    if msg['attachments'] and any(att['type'] == 'mentions' for att in msg['attachments']):\n",
    "        mention_att = next(att for att in msg['attachments'] if att['type'] == 'mentions')\n",
    "        ids = mention_att['user_ids']\n",
    "        for user in ids:\n",
    "            if user in mentions.keys():\n",
    "                mentions[user] += 1\n",
    "mentions_sorted = sorted(mentions.items(), key=lambda x: x[1], reverse=True)           \n",
    "for tup in mentions_sorted[:10]:\n",
    "    print(users[tup[0]] + \": \" + str(mentions[tup[0]]))"
   ]
  },
  {
   "cell_type": "markdown",
   "metadata": {},
   "source": [
    "We can do the same thing with mentions that we did with likes. We will figure out, for each user, which users they mention most often. If two users mention each other often, we assume that they have some sort of relationship, whether it is a friendship or based on leadership positions such as president and vice-president."
   ]
  },
  {
   "cell_type": "code",
   "execution_count": 14,
   "metadata": {},
   "outputs": [
    {
     "name": "stdout",
     "output_type": "stream",
     "text": [
      "Leroy Khalifa: Alex Kent,Nolan Hiehle,Ashwin Sekar\n",
      "Alex Kent: Joshua Baiad,Steven Palmer,Adam Tucker\n",
      "Nolan Hiehle: John B,Eric Mendez,Alex Kent\n",
      "Adam Tucker: Leroy Khalifa,Nolan Hiehle,Will Koshut\n",
      "GroupMe: \n",
      "Matt Briselli: Achal Channarasappa,Ryan McKinney,Sebastian Murati\n",
      "Steven Palmer: Sung Jun Hong,Adam Tucker,Bujji Setty\n",
      "Jordan Green: \n",
      "Jess Chernak: Alex Kent,Isaac Barreto,Aaron Perley\n",
      "Luca Damasco: Leroy Khalifa,Anthony Ko,Xavier Apostol\n",
      "Isaac Barreto: Eric Mendez,Sebastian Murati,Leroy Khalifa\n",
      "Sebastian Murati: Joshua Baiad,Eric Mendez,Sahil Abraham\n",
      "Zach Newman: Joshua Baiad,Nolan Hiehle,John B\n",
      "Aaron Gutierrez: Will Koshut,Adam Tucker,Zach Newman\n",
      "John B: Leroy Khalifa,Alex Oh,Xavier Apostol\n",
      "Will Koshut: Adam Tucker,Achal Channarasappa,Aaron Gutierrez\n",
      "Joshua Baiad: Zach Newman,Alex Kent,Ben Yang\n",
      "Eric Mendez: Zo,Nolan Hiehle,Alex Kent\n",
      "Levi Soler: John B,Zo,Nolan Hiehle\n",
      "Steve Sontag: John B,Xavier Apostol,Drew Dates\n",
      "Ashwin Sekar: Alex Oh,John B,Siddhant Madhuk\n",
      "Abhi Kelkar: Matt Briselli,Joshua Baiad,Nick Kosarek\n",
      "Aaron Perley: Steven Palmer,Aaron Gutierrez,Alex Kent\n",
      "Kevin Chen: Matt Briselli,Abhi Kelkar,Alex Kent\n",
      "Omkar: Luca Damasco,Leroy Khalifa,Nolan Hiehle\n",
      "Siddhant Madhuk: Joshua Baiad,Leroy Khalifa,Anthony Ko\n",
      "Ryan McKinney: Camilo Estrada,Zach Newman,Charlie Raycraft\n",
      "Nick Kosarek: Chris Smith,Matt Briselli,John Pyun\n",
      "Steven Pаlmer: Zo,Steven Palmer,Leroy Khalifa\n",
      "Anthony Comport: Jordan Green,Leroy Khalifa,Will Koshut\n",
      "Austin M-R: Nolan Hiehle,Levi Soler,Steve Sontag\n",
      "Chris Smith: Nolan Hiehle,Drew Dates,Dan Barychev\n",
      "Suhaas Reddy: Joshua Baiad,Zach Newman,Omkar\n",
      "Lord Snow: Adam Tucker,Aaron Gutierrez,Zach Newman\n",
      "Drew Dates: John B,Leroy Khalifa,Austin M-R\n",
      "Ivan Zhang: John B,Drew Dates,Terence Huang\n",
      "John Pyun: Nick Kosarek,Anthony Ko,Zach Newman\n",
      "Camilo Estrada: Ryan McKinney,Zach Newman,Joshua Baiad\n",
      "Manuel: Adam Tucker,Isaac Barreto,John Pyun\n",
      "Xavier Apostol: John B,Adam Tucker,Ivan Zhang\n",
      "Ben Yang: Nolan Hiehle,Ryan McKinney,Xavier Apostol\n",
      "Achal Channarasappa: John Pyun,Suhaas Reddy,Nolan Hiehle\n",
      "Max Forsyth: Ben Yang,John B,Steven Palmer\n",
      "Raghav Goyal: Ivan Zhang,Adam Tucker,Suhaas Reddy\n",
      "Alexander Chisolm: \n",
      "Edison Gao: Will Koshut,Kevin Chen,Aaron Perley\n",
      "Sameer Dhavalikar: Steven Palmer,Adam Tucker,Piyush Puri\n",
      "Sung Jun Hong: Bili Sun,Adam Tucker,Shasvat Jawahar\n",
      "Tushar Chetal: Sung Jun Hong,John B,Raghav Goyal\n",
      "David Wu: Matt Briselli,Isaac Barreto,Jordan Green\n",
      "Zuhayer Quazi: Adam Tucker,Tushar Chetal,Raghav Goyal\n",
      "Terence Huang: Zo,Isaac Barreto,John B\n",
      "Kaalen: Alex Kent,Tim Brown,Edison Gao\n",
      "Andrew Hwang: Luca Damasco\n",
      "Ramsey Natour: \n",
      "Grant Campfield: Austin M-R,Adam Tucker,Ian Lo\n",
      "Raunak Gupta: Drew Dates,Ashwin Sekar,Mark McKinzie\n",
      "Frank = Adam: Drew Dates,Adam Tucker,Austin M-R\n",
      "Guy de Bree: Leroy Khalifa,Luca Damasco,Joshua Baiad\n",
      "Shyam Raghavan: Zach Newman,Matt Briselli,Nolan Hiehle\n",
      "Dustin Brout: Advaya Krishna,Kevin Chen,Eddie Dryer\n",
      "John Carchi: Charlie Raycraft\n",
      "Tommy Sterling: Zo,Ashwin Sekar,Charlie Raycraft\n",
      "Sourav Panda: Tushar Chetal,Ashwin Sekar,Adam Tucker\n",
      "Will Walters: Manuel,John B,Tushar Chetal\n",
      "Jake Helmers: \n",
      "Leon Ji: Tommy Sterling,Aaron Perley\n",
      "Alex Oh: Alex Kent,Stephen He,Will Koshut\n",
      "Sam Ahmed: \n",
      "Yikun Chi: Drew Dates,Austin M-R,Leroy Khalifa\n",
      "Jakob Uhlenhopp: Suhaas Reddy,Sebastian Murati\n",
      "Stephen He: Sung Jun Hong,Alex Kent,Terence Huang\n",
      "George Stoica: Aaron Perley,Alex Kent,Sung Jun Hong\n",
      "David Dwyer: Lil Juul\n",
      "Evan Finkelstein: \n",
      "Charlie Raycraft: Ryan McKinney,Isaac Barreto,Manuel\n",
      "Anthony Ko: Alex Kent,Zuhayer Quazi,Ryan McKinney\n",
      "Chris Skaggs: \n",
      "Please Tread On Me: Steve Sontag,Frank = Adam,Mark McKinzie\n",
      "Mark McKinzie: Aaron Gutierrez,Will Koshut,Adam Tucker\n",
      "Sudeep Raj: Ben Yang,Mark McKinzie,Abhi Kelkar\n",
      "Corey Emery: $0.11,Drew Dates,Mark Tamvakis\n",
      "Blaise Laughlan: Sebastian Murati,Ian Lo,Nolan Hiehle\n",
      "Sri Raghavan: \n",
      "Bujji Setty: Jess Chernak\n",
      "Mihir Yerande: Ryan McKinney,Manuel,Joshua Baiad\n",
      "Schwartz: \n",
      "Anav Behl: Austin M-R,Leroy Khalifa,Steven Palmer\n",
      "Ben Zhang: Aaron Perley,Ian Lo\n",
      "Stanton Man: \n",
      "Piyush Puri: Adam Tucker,Eric Mendez,David Dwyer\n",
      "Bili Sun: Aaron Perley,Steven Palmer,Austin M-R\n",
      "Alex Clement: \n",
      "Lil Juul: John B,Zuhayer Quazi,Eric Mendez\n",
      "Ian Go: \n",
      "Jay Hebert: Isaac Barreto\n",
      "John Way: \n",
      "Daniel Deutsch: \n",
      "Ben Hecht: Ben Zhang,Camilo Estrada,Tommy Sterling\n",
      "Alex Devienne: John B,Austin M-R,Max Forsyth\n",
      "Zo: Eric Mendez,Steven Pаlmer,Terence Huang\n",
      "Yash Palod: Sahil Abraham\n",
      "Jackson Gallagher: \n",
      "$0.11: Frank = Adam\n",
      "Pankaj Bhojwani: John B,Sung Jun Hong,Nikhil Choudhary\n",
      "Billy Veer: \n",
      "Shasvat Jawahar: Max Schussler,Adam Tucker\n",
      "Kyle Lee: Adam Tucker,Tushar Chetal,Terence Huang\n",
      "Ian Lo: Terence Huang,John B,Leroy Khalifa\n",
      "Dan Barychev: Sourav Panda,Raunak Gupta,Grant Campfield\n",
      "Shaurya Sengar: Ryan McKinney,Anav Behl,Ashwin Sekar\n",
      "Nick Gasbarro: Jordan Green,Anthony Comport,Matt Briselli\n",
      "Derek Lessard: \n",
      "Clement Wong: Kyle Lee,Alex Devienne,Nolan Hiehle\n",
      "Razghiem Golden: \n",
      "Rick: Ben Yang,Kaalen,Alex Kent\n",
      "Brad Plaxen: \n",
      "Andy Ji: \n",
      "Sahil Abraham: John B,Yash Palod,Siddhant Madhuk\n",
      "Fabrice Demière: \n",
      "Nikhil Choudhary: Shaurya Sengar,Pankaj Bhojwani,Bujji Setty\n",
      "Cameron Burgess: Ben Yang,Max Forsyth\n",
      "Txanton B: John B,Zuhayer Quazi,Corey Emery\n",
      "Austin Wang: \n",
      "Nick Frollini: \n",
      "Carter Appleton: Jordan Green\n",
      "Max Schussler: \n",
      "Tyler Healy: \n",
      "GroupMe Calendar: \n",
      "Fabrice: \n",
      "Brandon Pek: Sung Jun Hong,Raghav Goyal\n",
      "James Orr: \n",
      "Mike Hankowsky: \n",
      "Adnan: \n",
      "Tim Brown: Alex Kent\n",
      "Jason Escalante: \n",
      "Sebastian Käser: \n",
      "Advaya Krishna: \n",
      "Colin Meret: \n",
      "Jake Kushner: \n",
      "Varun Kohli: \n",
      "Gabe Brower: \n",
      "Gabe Spade: \n",
      "Christian Waitforit Pederson: \n",
      "Daniel Nelson: \n",
      "Richard Zhao: Nolan Hiehle\n",
      "Raz: \n",
      "Zack Furman: \n",
      "Rishi: \n",
      "Harry Xu: \n",
      "Renzo Bautista: \n",
      "Zach Stuckelman: \n",
      "Jake Baldwin: Ashwin Sekar\n",
      "Dee Dick: \n",
      "Andrew Aisosa Orobator: \n",
      "Andrew Conlon: \n",
      "Varun Baldwa: \n",
      "Will Records: \n",
      "Oliver Liburd: Chris Smith\n",
      "David Bang: \n",
      "Angus Fung: Tushar Chetal\n",
      "Adam Kor: \n",
      "🐳✌🏾: \n",
      "Mark Tamvakis: Austin M-R\n",
      "Chenhao Yang: \n",
      "Eddie Dryer: \n",
      "Ryan Roberts: \n",
      "William Kurniawan: \n",
      "Raz Golden: \n",
      "Aaron Goldfein: \n"
     ]
    }
   ],
   "source": [
    "def get_mentions(msg):\n",
    "    # If msg has attachments and one of the attachments is mentions\n",
    "    if msg['attachments'] and any(att['type'] == 'mentions' for att in msg['attachments']):\n",
    "        mention_att = next(att for att in msg['attachments'] if att['type'] == 'mentions')\n",
    "        return mention_att['user_ids']\n",
    "    else:\n",
    "        return None\n",
    "\n",
    "mention_list = {}\n",
    "for user in users:\n",
    "    mentioned_per_message = [get_mentions(msg) for msg in msgs if user == msg['user_id']]\n",
    "    # Remove Nones\n",
    "    mentioned_per_message = [x for x in mentioned_per_message if x != None]\n",
    "    # Flatten the list.\n",
    "    mentioned_per_message = [x for msg in mentioned_per_message for x in msg]\n",
    "    most_mentioned = Counter(mentioned_per_message).most_common()\n",
    "    mention_list[user] = [x[0] for x in most_mentioned]\n",
    "for x in mention_list:\n",
    "    print(users[x] + \": \" + ','.join(users[y] for y in mention_list[x][:3]))"
   ]
  },
  {
   "cell_type": "markdown",
   "metadata": {},
   "source": [
    "Now that we have the users most likely to be mentioned by every user, we can now check for relationships between these users based on mentions. We will print a pair of users if they are both in the top 3 of each other's mention lists."
   ]
  },
  {
   "cell_type": "code",
   "execution_count": 15,
   "metadata": {},
   "outputs": [
    {
     "name": "stdout",
     "output_type": "stream",
     "text": [
      "Alex Kent, Joshua Baiad\n",
      "Nolan Hiehle, Eric Mendez\n",
      "Adam Tucker, Will Koshut\n",
      "Zach Newman, Joshua Baiad\n",
      "Aaron Gutierrez, Will Koshut\n",
      "John B, Xavier Apostol\n",
      "Eric Mendez, Zo\n",
      "Ryan McKinney, Camilo Estrada\n",
      "Ryan McKinney, Charlie Raycraft\n",
      "Nick Kosarek, John Pyun\n",
      "Steven Pаlmer, Zo\n",
      "Terence Huang, Zo\n",
      "Yash Palod, Sahil Abraham\n",
      "Pankaj Bhojwani, Nikhil Choudhary\n"
     ]
    }
   ],
   "source": [
    "for u1, u2 in combinations(users, 2):\n",
    "    # If u2 mentions u1 and u1 mentions u2\n",
    "    if u1 in mention_list[u2][:3] and u2 in mention_list[u1][:3]:\n",
    "        print(users[u1] + \", \" + users[u2])"
   ]
  },
  {
   "cell_type": "markdown",
   "metadata": {},
   "source": [
    "Overall, this has been a basic analysis of user communication using timestamp data, content, number of likes, and number of mentions. This barely scratches the surface of social network analysis, but I hope it has given you a good idea of the relationships that can be exposed using data from daily interactions. Over time, users form patterns around when they post, who they mention, and whose messages they like, without even realizing it. This data can be downloaded and used for good and potentially bad purposes. "
   ]
  },
  {
   "cell_type": "markdown",
   "metadata": {},
   "source": [
    "If you are interested in learning more about how GroupMe data can be analyzed, check this link: https://groupmeanalysis.com/.\n",
    "\n",
    "If you are interested in analyzing more complex data about messages, such as sentiment analysis, check out TextBlob: https://pypi.python.org/pypi/textblob. This package allows you to analyze messages for sentiment, which could be used to determine the average sentiment of a user's messages, which could be compared for different groups or when they mention different users. \n",
    "\n",
    "If you want a more visual analysis of a user's or group's messages, consider using a word cloud package such as https://github.com/amueller/word_cloud. This will allow you to see what words are used by a user, which could again be compared when they message different users or groups to see how their language changes depending on context.\n",
    "\n",
    "Thanks for reading!"
   ]
  },
  {
   "cell_type": "code",
   "execution_count": null,
   "metadata": {},
   "outputs": [],
   "source": []
  }
 ],
 "metadata": {
  "kernelspec": {
   "display_name": "Python 3",
   "language": "python",
   "name": "python3"
  },
  "language_info": {
   "codemirror_mode": {
    "name": "ipython",
    "version": 3
   },
   "file_extension": ".py",
   "mimetype": "text/x-python",
   "name": "python",
   "nbconvert_exporter": "python",
   "pygments_lexer": "ipython3",
   "version": "3.6.4"
  }
 },
 "nbformat": 4,
 "nbformat_minor": 2
}
