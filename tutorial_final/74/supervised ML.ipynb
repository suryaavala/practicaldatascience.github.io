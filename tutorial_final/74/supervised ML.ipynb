{
 "cells": [
  {
   "cell_type": "markdown",
   "metadata": {},
   "source": [
    "# Introduction\n",
    "\n",
    "This tutorial will introduce you to some basic methods for processing Yelp data from [Yelp Data Challenge](https://www.yelp.com/dataset/challenge), particularly focusing on sentimental analysis on yelp data. We will predict yelp star-rating of a review based on the text review of the customer.\n",
    "\n",
    "For example, if the review is \"Food was very delicious, Very good ambience.\" the rating is expected to be 5-star. If the review is \"very bad food, horrible taste.\" the rating is expected to be 1-star.\n",
    "\n"
   ]
  },
  {
   "cell_type": "markdown",
   "metadata": {},
   "source": [
    "## Tutorial Content\n",
    "In this tutorial, we will learn how to implement supervised machine learning on yelp review texts to predict star-ratings of the reviews. We will be using scikit-learn python library to do the same.\n",
    "\n",
    "We will cover the following topics in this tutorial:\n",
    "- [Installing Libraries](#Installing-Libraries)\n",
    "- [Loading Data](#Loading-Data)\n",
    "- [Balancing Data](#Balancing-Data)\n",
    "- [Converting Text to TF-IDF Vectors](#Converting-Text-to-TF-IDF-Vectors)\n",
    "- [Splitting Data into Train and Test](#Splitting-Data-into-Train-and-Test)\n",
    "- [Train Text Data using Support Vector Machine(SVM) ](#Train-Text-Data-using-Support-Vector-Machine(SVM)\n",
    "- [Predict Data ](#Predict-Data)\n",
    "- [Evaluate Classifier ](#Evaluate-Classifier)\n",
    "- [Positive or Negative Classification](#Positive-or-Negative-Classification)\n",
    "- [Conclusion](#Conclusion)\n",
    "\n",
    "\n"
   ]
  },
  {
   "cell_type": "markdown",
   "metadata": {},
   "source": [
    "## Installing Libraries\n",
    "Before getting started, you will have to install scikit-learn using pip:\n",
    "\n",
    "    $ pip install -U scikit-learn\n",
    "\n",
    "or using conda:\n",
    "\n",
    "    $ conda install scikit-learn\n",
    "\n",
    "You can get more information about installing scikit-learn library [here](http://scikit-learn.org/stable/install.html)\n",
    "\n",
    "After you install the libraries, make sure the following imports work correctly:"
   ]
  },
  {
   "cell_type": "code",
   "execution_count": 288,
   "metadata": {
    "collapsed": true
   },
   "outputs": [],
   "source": [
    "import pandas as pd\n",
    "import json\n",
    "from collections import Counter\n",
    "from matplotlib import pyplot as plt\n",
    "import numpy as np\n",
    "from sklearn.feature_extraction.text import TfidfVectorizer\n",
    "from sklearn.cross_validation import train_test_split\n",
    "from sklearn.metrics import accuracy_score\n",
    "from sklearn.metrics import classification_report\n"
   ]
  },
  {
   "cell_type": "markdown",
   "metadata": {},
   "source": [
    "These are the versions of the libraries We will be using:"
   ]
  },
  {
   "cell_type": "code",
   "execution_count": 289,
   "metadata": {},
   "outputs": [
    {
     "name": "stdout",
     "output_type": "stream",
     "text": [
      "pandas version 0.18.1\n",
      "json version 2.0.9\n",
      "numpy version 1.13.3\n"
     ]
    }
   ],
   "source": [
    "print(\"pandas version\",pd.__version__)\n",
    "print(\"json version\",json.__version__)\n",
    "print(\"numpy version\",np.__version__)\n"
   ]
  },
  {
   "cell_type": "markdown",
   "metadata": {},
   "source": [
    "## Loading Data\n",
    "Firstly, we will download yelp data from [Yelp Data Challenge](https://www.yelp.com/dataset/challenge). Click on \"Download Dataset\", fill the form and click \"Download\".\n",
    "\n",
    "You will have 3 options of downloading formats: JSON, SQL, Photos.\n",
    "Download the Json format by clicking on \"Download JSON\" and untar the downloaded file.\n",
    "\n",
    "From the downloaded files, we need \"review.json\" for our analysis. We will be analysing first 50000 reviews from review.json \n",
    "\n"
   ]
  },
  {
   "cell_type": "markdown",
   "metadata": {},
   "source": [
    "Store reviews text to list named \"text\" and ratings to list named \"stars\"."
   ]
  },
  {
   "cell_type": "code",
   "execution_count": 290,
   "metadata": {
    "collapsed": true
   },
   "outputs": [],
   "source": [
    "# get first 50000 reviews from review.json\n",
    "with open(\"review.json\") as f:\n",
    "    head = [json.loads(next(f)) for x in range(50000)]\n",
    "stars=[]\n",
    "text = []\n",
    "# store review text and rating in text and stars lists respectively\n",
    "for review in head:\n",
    "    stars.append(review[\"stars\"])\n",
    "    text.append(review[\"text\"])\n",
    "\n",
    "        "
   ]
  },
  {
   "cell_type": "markdown",
   "metadata": {},
   "source": [
    "Let us check out the total number of reviews for each star-rating by using Counter."
   ]
  },
  {
   "cell_type": "code",
   "execution_count": 291,
   "metadata": {},
   "outputs": [
    {
     "name": "stdout",
     "output_type": "stream",
     "text": [
      "Counter({5: 20187, 4: 12876, 3: 6527, 1: 6263, 2: 4147})\n"
     ]
    }
   ],
   "source": [
    "star_counts=Counter(stars)\n",
    "print(star_counts)"
   ]
  },
  {
   "cell_type": "code",
   "execution_count": 292,
   "metadata": {},
   "outputs": [
    {
     "data": {
      "image/png": "[encoded data removed]",
      "text/plain": [
       "<matplotlib.figure.Figure at 0x1a2f63a7f0>"
      ]
     },
     "metadata": {},
     "output_type": "display_data"
    }
   ],
   "source": [
    "# plot bar graph between number of reviews and ratings\n",
    "\n",
    "lists = sorted(star_counts.items()) \n",
    "\n",
    "x, y = zip(*lists) \n",
    "\n",
    "plt.bar(x, y)\n",
    "plt.show()"
   ]
  },
  {
   "cell_type": "markdown",
   "metadata": {},
   "source": [
    "As we can see, there are 20187 reviews with 5-star rating and just 4147 reviews with 2-star rating. This is an imbalanced data.\n",
    "\n"
   ]
  },
  {
   "cell_type": "markdown",
   "metadata": {},
   "source": [
    "# Balancing Data"
   ]
  },
  {
   "cell_type": "markdown",
   "metadata": {},
   "source": [
    "In machine learning classifiers, results will be biased if the input data is imbalanced.\n",
    "\n",
    "We will now reduce our dataset to the number of reviews with the rating which has the minimum number of reviews. In this case, 2-star rating has the minimum number of reviews i.e 4147 reviews. This will help to balance our data and get less biased prediction from our machine learning algorithm.\n",
    "\n",
    "[Click here](https://www.analyticsvidhya.com/blog/2017/03/imbalanced-classification-problem/) if you want to learn more about imbalanced data problem and other methods to handle this problem.\n"
   ]
  },
  {
   "cell_type": "code",
   "execution_count": 293,
   "metadata": {
    "collapsed": true
   },
   "outputs": [],
   "source": [
    "def balance(text, stars):\n",
    "    freq = Counter(stars)\n",
    "    # find minimum number of reviews\n",
    "    min_rev = freq.most_common()[-1][1]\n",
    "    print(\"minimum number of reviews:\", min_rev)\n",
    "    \n",
    "    dic={}\n",
    "    for k in freq.keys():\n",
    "        dic[k] = 0\n",
    "    \n",
    "    new_stars = []\n",
    "    new_text = []\n",
    "    for i, s in enumerate(stars):\n",
    "        if dic[s] < min_rev:\n",
    "            new_stars.append(s)\n",
    "            new_text.append(text[i])\n",
    "            dic[s] = dic[s] + 1\n",
    "    return new_text, new_stars\n",
    "    "
   ]
  },
  {
   "cell_type": "code",
   "execution_count": 294,
   "metadata": {},
   "outputs": [
    {
     "name": "stdout",
     "output_type": "stream",
     "text": [
      "Counter({5: 20187, 4: 12876, 3: 6527, 1: 6263, 2: 4147})\n",
      "minimum number of reviews: 4147\n",
      "Counter({5: 4147, 4: 4147, 3: 4147, 1: 4147, 2: 4147})\n"
     ]
    }
   ],
   "source": [
    "print(Counter(stars))\n",
    "balanced_x, balanced_y = balance(text, stars)\n",
    "print(Counter(balanced_y))"
   ]
  },
  {
   "cell_type": "code",
   "execution_count": 295,
   "metadata": {},
   "outputs": [
    {
     "data": {
      "image/png": "[encoded data removed]",
      "text/plain": [
       "<matplotlib.figure.Figure at 0x1a38513b70>"
      ]
     },
     "metadata": {},
     "output_type": "display_data"
    }
   ],
   "source": [
    "# plot bar graph between number of reviews and ratings\n",
    "star_counts = Counter(balanced_y)\n",
    "lists = sorted(star_counts.items()) \n",
    "\n",
    "x, y = zip(*lists) \n",
    "\n",
    "plt.bar(x, y)\n",
    "plt.show()"
   ]
  },
  {
   "cell_type": "markdown",
   "metadata": {},
   "source": [
    "Now we have a balanced data set and we can work on vectorizing the data"
   ]
  },
  {
   "cell_type": "markdown",
   "metadata": {},
   "source": [
    "## Converting Text to TF-IDF Vectors "
   ]
  },
  {
   "cell_type": "markdown",
   "metadata": {},
   "source": [
    "Now we will convert our text into vectors so that it is understood by our machine learning algorithm. We will be constructing Term Frequency Inverse Document Frequency(TF-IDF) vectors which is one of the most sophisticated method to create vectors for Natural Language Processing. It will divide our text into frequency of words and will exclude the very common words like \"of\", \"the\" because these words are not important for the review classification. \n",
    "\n",
    "Words often mean different when combined with other words. We would expect our machine learning algorithm to classify words like 'amazing' as positive. \n",
    "But what will happen if the review is \"The Food was not so amazing\"?\n",
    "\n",
    "Here we will be using n-gram model where text will be broken into n-grams.\n",
    "e.g. \"The Food was not so amazing\" will be divided in bi-gram model as (\"The Food\",\"Food was\",\"was not\",\"not so\",\"so amazing\"). This would help to learn fine-grained meanings of the sentences in the text. As we increase the \"n\" in n-gram model, more processing power will be required.\n",
    "We will stick to bigram model."
   ]
  },
  {
   "cell_type": "code",
   "execution_count": 296,
   "metadata": {},
   "outputs": [
    {
     "name": "stdout",
     "output_type": "stream",
     "text": [
      "TfidfVectorizer(analyzer='word', binary=False, decode_error='strict',\n",
      "        dtype=<class 'numpy.int64'>, encoding='utf-8', input='content',\n",
      "        lowercase=True, max_df=1.0, max_features=None, min_df=1,\n",
      "        ngram_range=(1, 2), norm='l2', preprocessor=None, smooth_idf=True,\n",
      "        stop_words=None, strip_accents=None, sublinear_tf=False,\n",
      "        token_pattern='(?u)\\\\b\\\\w\\\\w+\\\\b', tokenizer=None, use_idf=True,\n",
      "        vocabulary=None)\n"
     ]
    }
   ],
   "source": [
    "\n",
    "from sklearn.feature_extraction.text import TfidfVectorizer\n",
    "\n",
    "vectorizer = TfidfVectorizer(ngram_range=(1,2))\n",
    "print(vectorizer)\n",
    "vectors = vectorizer.fit_transform(balanced_x)\n",
    "# print(vectors)"
   ]
  },
  {
   "cell_type": "markdown",
   "metadata": {},
   "source": [
    "## Splitting Data into Train and Test"
   ]
  },
  {
   "cell_type": "markdown",
   "metadata": {},
   "source": [
    "We will divide our dataset into two parts: Train and Test. For Train, both text and ratings of the reviews will be provided, but for Test, only text of reviews will be provided to our learning algorithm. We will predict the ratings of reviews using our machine learning algorithm."
   ]
  },
  {
   "cell_type": "code",
   "execution_count": 297,
   "metadata": {
    "collapsed": true
   },
   "outputs": [],
   "source": [
    "from sklearn.cross_validation import train_test_split\n",
    "# split data into test and train\n",
    "X_train, X_test, y_train, y_test = train_test_split(vectors, balanced_y, test_size=0.30)\n"
   ]
  },
  {
   "cell_type": "markdown",
   "metadata": {},
   "source": [
    "## Train Text Data using Support Vector Machine(SVM)"
   ]
  },
  {
   "cell_type": "markdown",
   "metadata": {},
   "source": [
    "We will use Linear Support Vector Machine classifier for text classification."
   ]
  },
  {
   "cell_type": "code",
   "execution_count": 298,
   "metadata": {},
   "outputs": [
    {
     "name": "stdout",
     "output_type": "stream",
     "text": [
      "sklearn version: 0.17.1\n"
     ]
    },
    {
     "data": {
      "text/plain": [
       "LinearSVC(C=1.0, class_weight=None, dual=True, fit_intercept=True,\n",
       "     intercept_scaling=1, loss='squared_hinge', max_iter=1000,\n",
       "     multi_class='ovr', penalty='l2', random_state=None, tol=0.0001,\n",
       "     verbose=0)"
      ]
     },
     "execution_count": 298,
     "metadata": {},
     "output_type": "execute_result"
    }
   ],
   "source": [
    "from sklearn.svm import LinearSVC\n",
    "print(\"sklearn version:\",sklearn.__version__)\n",
    " \n",
    "# initialise the SVM classifier\n",
    "classifier = LinearSVC()\n",
    " \n",
    "# train the classifier\n",
    "classifier.fit(X_train, y_train)\n"
   ]
  },
  {
   "cell_type": "markdown",
   "metadata": {},
   "source": [
    "## Predict Data\n"
   ]
  },
  {
   "cell_type": "markdown",
   "metadata": {},
   "source": [
    "Now we will predict our data display a small sample of data to look how close our prediction is to the actual rating. "
   ]
  },
  {
   "cell_type": "code",
   "execution_count": 299,
   "metadata": {},
   "outputs": [
    {
     "name": "stdout",
     "output_type": "stream",
     "text": [
      "prediction: [4, 2, 5, 1, 1, 2, 4, 1, 3, 4]\n",
      "Actual:     [3, 3, 4, 1, 1, 1, 5, 1, 3, 5]\n"
     ]
    }
   ],
   "source": [
    "preds = classifier.predict(X_test)\n",
    "print(\"prediction:\",list(preds[:10]))\n",
    "print(\"Actual:    \",y_test[:10])"
   ]
  },
  {
   "cell_type": "markdown",
   "metadata": {},
   "source": [
    "As we can see, our prediction is not perfect but it is quite good as 4 out of 10 ratings are correct. This is a good sanity check"
   ]
  },
  {
   "cell_type": "markdown",
   "metadata": {},
   "source": [
    "## Evaluate Classifier"
   ]
  },
  {
   "cell_type": "markdown",
   "metadata": {},
   "source": [
    "We will now evaluate our prediction classifier by calculating the accuracy of our classifier. We can calculate the accuracy of our machine learning algorithm by comparing the predicted ratings with the real ratings. If the accuracy is 1, that means our prediction was 100% correct. If accuracy is 0.8, that means our prediction is 80% correct. "
   ]
  },
  {
   "cell_type": "code",
   "execution_count": 301,
   "metadata": {},
   "outputs": [
    {
     "name": "stdout",
     "output_type": "stream",
     "text": [
      "0.576434656808\n"
     ]
    }
   ],
   "source": [
    "from sklearn.metrics import accuracy_score\n",
    "print(accuracy_score(y_test, preds))"
   ]
  },
  {
   "cell_type": "markdown",
   "metadata": {},
   "source": [
    "This means that our classifier is around 56% accurate. This score is quite low.\n",
    "For a given review and rating, the classifier might give false positive or false negative classification. If a classifier predicts the rating to be 5-star but it is actually below that, it is false positive classification. On the other hand, if a review is actually 5-star but the classifier classifies a review to be 5-star.\n",
    "\n",
    "We will have a look other evaluation methods like precision and recall to evaluate our classifier.\n",
    "\n",
    "A classifier with high precision for 5-star rating is less likely to predict other reviews to be 5-star but it might classify actual 5-star reviews to be in other class. \n",
    "On the other hand, A classifier with high recall is more likely to predict 5-star reviews correctly but it may also predict other class reviews to be 5-star reviews.\n",
    "\n",
    "We would like to have a balance between precision and recall. For this we measure F1 score which is a combination of both precision and recall in a single metric."
   ]
  },
  {
   "cell_type": "code",
   "execution_count": 302,
   "metadata": {},
   "outputs": [
    {
     "name": "stdout",
     "output_type": "stream",
     "text": [
      "             precision    recall  f1-score   support\n",
      "\n",
      "          1       0.67      0.80      0.73      1220\n",
      "          2       0.52      0.43      0.47      1244\n",
      "          3       0.47      0.47      0.47      1213\n",
      "          4       0.51      0.45      0.48      1275\n",
      "          5       0.66      0.74      0.70      1269\n",
      "\n",
      "avg / total       0.57      0.58      0.57      6221\n",
      "\n"
     ]
    }
   ],
   "source": [
    "from sklearn.metrics import classification_report\n",
    "print(classification_report(y_test, preds))"
   ]
  },
  {
   "cell_type": "markdown",
   "metadata": {},
   "source": [
    "We look at As we can see, 1-star and 5-star ratings have higher f1 score which means that they are easier to predict but it is more difficult to predict ratings in class {2,3,4}.\n",
    "\n",
    "It is important for us to predict 1-star as 5-star review or vice verca.\n",
    "But predicting 4-star as 5-star is not much problem and can be ignored. \n",
    "\n",
    "We will have a look at another evaluation metric which is Confusion Matrix.\n"
   ]
  },
  {
   "cell_type": "code",
   "execution_count": 303,
   "metadata": {},
   "outputs": [
    {
     "name": "stdout",
     "output_type": "stream",
     "text": [
      "[[979 178  35   9  19]\n",
      " [348 529 280  54  33]\n",
      " [ 80 247 569 244  73]\n",
      " [ 22  56 265 568 364]\n",
      " [ 28  17  52 231 941]]\n"
     ]
    }
   ],
   "source": [
    "from sklearn.metrics import confusion_matrix\n",
    "print(confusion_matrix(y_test, preds))"
   ]
  },
  {
   "cell_type": "markdown",
   "metadata": {},
   "source": [
    "The first row shows the reviews predicted as 1-star.\n",
    "The first column shows the actual reviews in 1-star category.\n",
    "On the first row-second column , we see that there were 229 reviews which were actually 2 star but predicted as 1-star by our classifier.\n",
    "We can see that the classifier has mainly confused between subsequent ratings like 4-star or 5-star ratings, 1-star or 2-star ratings"
   ]
  },
  {
   "cell_type": "markdown",
   "metadata": {},
   "source": [
    "## Positive or Negative Classification\n"
   ]
  },
  {
   "cell_type": "markdown",
   "metadata": {},
   "source": [
    "Now we will try to classify our reviews into positive(1-2 star) or negative(4-5 star). We will remove the 3-star reviews.\n",
    "\n",
    "We will label n for negative reviews(1-2 star reviews) and p for positive reviews(4-5 star reviews) and we will remove 3-star reviews."
   ]
  },
  {
   "cell_type": "code",
   "execution_count": 304,
   "metadata": {
    "collapsed": true
   },
   "outputs": [],
   "source": [
    "sset = set([1,2,4,5])\n",
    " \n",
    "# indices to keep\n",
    "k_train = []\n",
    "for i, y in enumerate(y_train):\n",
    "    if y in sset:\n",
    "        k_train.append(i)\n",
    "\n",
    "k_test = []\n",
    "for i, y in enumerate(y_test):\n",
    "    if y in sset:\n",
    "        k_test.append(i)\n",
    "\n",
    "        \n",
    "# convert the train set\n",
    "X_train2 = X_train[k_train, :]\n",
    "y_train2 = [y_train[i] for i in k_train]\n",
    "y_train2 = [\"n\" if (y == 1 or y == 2) else \"p\" for y in y_train2]\n",
    " \n",
    "# convert the test set\n",
    "X_test2 = X_test[k_test, :]\n",
    "y_test2 = [y_test[i] for i in k_test]\n",
    "y_test2 = [\"n\" if (y == 1 or y == 2) else \"p\" for y in y_test2]"
   ]
  },
  {
   "cell_type": "markdown",
   "metadata": {},
   "source": [
    "Now we can train the classifier again on new data set."
   ]
  },
  {
   "cell_type": "code",
   "execution_count": 305,
   "metadata": {},
   "outputs": [
    {
     "name": "stdout",
     "output_type": "stream",
     "text": [
      "             precision    recall  f1-score   support\n",
      "\n",
      "          n       0.93      0.94      0.93      2464\n",
      "          p       0.94      0.93      0.93      2544\n",
      "\n",
      "avg / total       0.93      0.93      0.93      5008\n",
      "\n",
      "[[2308  156]\n",
      " [ 176 2368]]\n"
     ]
    }
   ],
   "source": [
    "classifier.fit(X_train2, y_train2)\n",
    "preds = classifier.predict(X_test2)\n",
    "print(classification_report(y_test2, preds))\n",
    "print(confusion_matrix(y_test2, preds))"
   ]
  },
  {
   "cell_type": "markdown",
   "metadata": {},
   "source": [
    "We can see that the classifier is 94% accurate which is really good accuracy. \n",
    "Confusion matrix tells that 156 negative reviews were classified as positive and 178 positive reviews were classified as negative."
   ]
  },
  {
   "cell_type": "markdown",
   "metadata": {
    "collapsed": true
   },
   "source": [
    "## Conclusion"
   ]
  },
  {
   "cell_type": "markdown",
   "metadata": {},
   "source": [
    "We covered basics of TFIDF and Support Vector Machine to classify text. We vectorized our text and train a classifier. \n",
    "We predicted the rating or the review based on the text and also predicted if the review is negative or positive.\n",
    "\n",
    "These results from the experiments can help a restaurant to know the trend of general sentiment of the restaurant from other social media platforms like facebook or twitter. \n",
    "\n",
    "for example:"
   ]
  },
  {
   "cell_type": "code",
   "execution_count": 307,
   "metadata": {},
   "outputs": [
    {
     "name": "stdout",
     "output_type": "stream",
     "text": [
      "['n' 'p']\n"
     ]
    }
   ],
   "source": [
    "comments = [\"I hated the food. Worst experience ever\",\"I loved the food,amazing ambience\"]\n",
    "v = vectorizer.transform(comments)\n",
    "print(classifier.predict(v))"
   ]
  },
  {
   "cell_type": "markdown",
   "metadata": {},
   "source": [
    "In the above code, classifier determines that first comment was negative and second comment was positive."
   ]
  },
  {
   "cell_type": "code",
   "execution_count": null,
   "metadata": {
    "collapsed": true
   },
   "outputs": [],
   "source": []
  }
 ],
 "metadata": {
  "kernelspec": {
   "display_name": "Python 3",
   "language": "python",
   "name": "python3"
  },
  "language_info": {
   "codemirror_mode": {
    "name": "ipython",
    "version": 3
   },
   "file_extension": ".py",
   "mimetype": "text/x-python",
   "name": "python",
   "nbconvert_exporter": "python",
   "pygments_lexer": "ipython3",
   "version": "3.6.3"
  }
 },
 "nbformat": 4,
 "nbformat_minor": 2
}