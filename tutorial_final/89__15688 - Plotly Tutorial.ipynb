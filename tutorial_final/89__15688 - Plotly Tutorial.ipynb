{
 "cells": [
  {
   "cell_type": "markdown",
   "metadata": {},
   "source": [
    "# Introduction\n",
    "[Plotly](https://plot.ly/) is a handy open source tool for creating, editing and sharing data visualization through internet. It is available in various programming languages and platforms, such as R, Python, and Matlab. \n",
    "\n",
    "One of the unique advantage of Plotly is the interactive charts or graphs. After plots and charts are created with Plotly, users can easily move, rotate, and download the plots. If widgets are included, users can also modify the data and get instant update on the plots. Therefore, Plotly is an ideal library for creating data visualization. \n",
    "\n",
    "Besides, Plotly is well integrated with jupyter notebook and can host user-created plots in its server, making it easy to share the charts or graphs without creating or publishing an online database. It can save the difficulty of code/data/graph sharing through different systems and platforms.\n",
    "\n",
    "This tutorial aims to introduce the Plotly python library and some of the beautiful charts and graphs created by Plotly.\n",
    "\n",
    "To learn more about Plotly, please visit the offical website: https://plot.ly/"
   ]
  },
  {
   "cell_type": "markdown",
   "metadata": {},
   "source": [
    "# How to start\n",
    "\n",
    "Use `pip` to install Plotly Python library:\n",
    "\n",
    "`$ pip install plotly`\n",
    "\n",
    "We are now ready to start using Plotly.\n",
    "\n",
    "To upgrade Plotly:\n",
    "\n",
    "`$ pip install plotly --upgrade`\n",
    "\n",
    "In order to use the online hosting feature of Plotly, it is necessary to have a Plotly account. Graphs are saved inside the online Plotly account and public hosting is free. Besides, all the plots saved in online account can be edited from Graph, the online chart management platform provided by Plotly. "
   ]
  },
  {
   "cell_type": "code",
   "execution_count": 1,
   "metadata": {},
   "outputs": [],
   "source": [
    "import plotly\n",
    "plotly.tools.set_credentials_file(username='plotly_username', api_key='api_key')"
   ]
  },
  {
   "cell_type": "code",
   "execution_count": 2,
   "metadata": {},
   "outputs": [],
   "source": [
    "import numpy as np \n",
    "import plotly.plotly as py\n",
    "import plotly.graph_objs as go\n",
    "from sklearn import datasets"
   ]
  },
  {
   "cell_type": "markdown",
   "metadata": {},
   "source": [
    "# Common plots\n",
    "\n",
    "Like many ploting libraries in python, Plotly supports most of the common plots use in data science projects, including scatter plots, line plots, bar charts, and pie charts. Plots created in Plotly can be downloaded in png format, zoom, and scaled using the buttons on the top right corner. \n",
    "\n",
    "For demonstration purpose, I am using the iris dataset from scikit-learn library. The dataset can also be downloaded in csv format from UCI Machine Learning Repository http://archive.ics.uci.edu/ml/index.php.\n"
   ]
  },
  {
   "cell_type": "markdown",
   "metadata": {},
   "source": [
    "## Scatter and line plots\n",
    "\n",
    "The scatter and line plots in Plotly use the `scatter` command. The difference is in the parameter `mode`, which can be set to `markers`, `lines`, `text`, any combination joined by \"+\" or `none`.\n",
    "\n",
    "Unlike matplotlib library, when drawing plots in Plotly, the drawing function can have only one dimension of the data like x or y, making it easier to draw multiple plots in the same coordinate system. Scatter and line plot tutorial is [here](https://plot.ly/python/line-and-scatter/).\n"
   ]
  },
  {
   "cell_type": "code",
   "execution_count": 3,
   "metadata": {},
   "outputs": [
    {
     "data": {
      "text/html": [
       "<iframe id=\"igraph\" scrolling=\"no\" style=\"border:none;\" seamless=\"seamless\" src=\"https://plot.ly/~mangoeyes/2.embed\" height=\"525px\" width=\"100%\"></iframe>"
      ],
      "text/plain": [
       "<plotly.tools.PlotlyDisplay object>"
      ]
     },
     "execution_count": 3,
     "metadata": {},
     "output_type": "execute_result"
    }
   ],
   "source": [
    "# import iris dataset\n",
    "iris = datasets.load_iris()\n",
    "\n",
    "## scatter and line plots\n",
    "\n",
    "# use the first column Sepal Length to draw a scatter and line plot\n",
    "scatter_Y= iris.data[:,:1] \n",
    "\n",
    "scatter_trace1 = go.Scatter(y=scatter_Y+5, name = \"markers\", mode = 'markers') # point only plot\n",
    "scatter_trace2 = go.Scatter(y=scatter_Y, name = \"lines\",mode = \"lines\") # line only plot\n",
    "scatter_trace3 = go.Scatter(y=scatter_Y-5, name = \"lines+markers\", mode = \"lines+markers\") # point and line plot\n",
    "\n",
    "scatter_data = [scatter_trace1,scatter_trace2,scatter_trace3]\n",
    "\n",
    "py.iplot(scatter_data, filename = \"scatter plot\")\n"
   ]
  },
  {
   "cell_type": "markdown",
   "metadata": {},
   "source": [
    "## Bar chart\n",
    "\n",
    "Bar charts can be drawn as grouped or stacked, vertical or horizontal, and in various colors and customized base. Bar chart tutorial can be found [here](https://plot.ly/python/bar-charts/)."
   ]
  },
  {
   "cell_type": "code",
   "execution_count": 4,
   "metadata": {},
   "outputs": [
    {
     "data": {
      "text/html": [
       "<iframe id=\"igraph\" scrolling=\"no\" style=\"border:none;\" seamless=\"seamless\" src=\"https://plot.ly/~mangoeyes/10.embed\" height=\"525px\" width=\"100%\"></iframe>"
      ],
      "text/plain": [
       "<plotly.tools.PlotlyDisplay object>"
      ]
     },
     "execution_count": 4,
     "metadata": {},
     "output_type": "execute_result"
    }
   ],
   "source": [
    "# Bar chart\n",
    "\n",
    "setosa = iris.data[iris.target==0]\n",
    "versicolor = iris.data[iris.target==1]\n",
    "virginica = iris.data[iris.target==2]\n",
    "\n",
    "bar_X = [\"Sepal Length\", \"Sepal Width\", \"Petal Length\", \"Petal Width\"]\n",
    "bar_trace1 = go.Bar(x = bar_X, y = np.mean(setosa,axis=0), name = \"Setosa\",\n",
    "                    marker = dict(color = \"rgb(130,191,110)\"))\n",
    "bar_trace2 = go.Bar(x = bar_X, y = np.mean(versicolor,axis=0),name = \"Versicolor\",\n",
    "                    marker = dict(color = \"rgb(243,163,42)\"))\n",
    "bar_trace3 = go.Bar(x = bar_X, y = np.mean(virginica,axis=0),name = \"Virginica\",\n",
    "                    marker = dict(color = \"rgb(60,180,203)\"))\n",
    "\n",
    "layout = go.Layout(\n",
    "    title='Average on Features',\n",
    "    yaxis=dict(title='average value'),\n",
    "    barmode='group',\n",
    "    bargap=0.05,\n",
    "    bargroupgap=0.1)\n",
    "\n",
    "fig = go.Figure(data=[bar_trace1,bar_trace2,bar_trace3], layout=layout)\n",
    "\n",
    "py.iplot(fig,filename = \"bar_chart\")"
   ]
  },
  {
   "cell_type": "markdown",
   "metadata": {},
   "source": [
    "## Histogram\n",
    "\n",
    "Histogram can be drawn with absolute or normalized number amount, horizontal or vertical, stacked or overlaid, and cumulatively. Tutorial is [here](https://plot.ly/python/histograms/)."
   ]
  },
  {
   "cell_type": "code",
   "execution_count": 5,
   "metadata": {},
   "outputs": [
    {
     "data": {
      "text/html": [
       "<iframe id=\"igraph\" scrolling=\"no\" style=\"border:none;\" seamless=\"seamless\" src=\"https://plot.ly/~mangoeyes/6.embed\" height=\"525px\" width=\"100%\"></iframe>"
      ],
      "text/plain": [
       "<plotly.tools.PlotlyDisplay object>"
      ]
     },
     "execution_count": 5,
     "metadata": {},
     "output_type": "execute_result"
    }
   ],
   "source": [
    "# Histogram\n",
    "hist_trace1 = go.Histogram(x=scatter_Y, marker = dict(color=\"rgb(255,201,136)\"))\n",
    "\n",
    "layout = go.Layout(bargap=0.05)\n",
    "fig = go.Figure(data=[hist_trace1], layout=layout)\n",
    "\n",
    "py.iplot(fig,filename = \"histogram\")"
   ]
  },
  {
   "cell_type": "markdown",
   "metadata": {},
   "source": [
    "## Boxplot\n",
    "\n",
    "boxplot is a less known form of plots but very useful for statistical data. It can show some of the frequently used measures of data, such as the minimum, maximum, median, and first and third quantiles. Boxplot can also highlight the suspected outliners. the Tutorial is [here](https://plot.ly/python/box-plots/)."
   ]
  },
  {
   "cell_type": "code",
   "execution_count": 6,
   "metadata": {},
   "outputs": [
    {
     "data": {
      "text/html": [
       "<iframe id=\"igraph\" scrolling=\"no\" style=\"border:none;\" seamless=\"seamless\" src=\"https://plot.ly/~mangoeyes/18.embed\" height=\"525px\" width=\"100%\"></iframe>"
      ],
      "text/plain": [
       "<plotly.tools.PlotlyDisplay object>"
      ]
     },
     "execution_count": 6,
     "metadata": {},
     "output_type": "execute_result"
    }
   ],
   "source": [
    "# Box plot\n",
    "\n",
    "box_trace1 = go.Box(y=setosa[:,[0]],\n",
    "                    name='setosa',\n",
    "                    boxpoints = 'suspectedoutliers')\n",
    "\n",
    "box_trace2 = go.Box(y=versicolor[:,[0]],\n",
    "                    name = 'versicolor',\n",
    "                    boxpoints = 'suspectedoutliers')\n",
    "\n",
    "box_trace3 = go.Box(y=virginica[:,[0]],\n",
    "                    name = 'virginica',\n",
    "                    boxpoints = 'suspectedoutliers')\n",
    "\n",
    "layout = go.Layout(title=\"Box plot of sepal length\")\n",
    "fig = go.Figure(data=[box_trace1,box_trace2,box_trace3],layout=layout)\n",
    "py.iplot(fig,filename=\"box plot\")"
   ]
  },
  {
   "cell_type": "markdown",
   "metadata": {},
   "source": [
    "For other basic plots, there are a lot of sources in basic plots section in Plotly webiste: https://plot.ly/python/basic-charts/. It is also useful to look at the cheat sheet for some of the frequently used plots: https://images.plot.ly/plotly-documentation/images/python_cheat_sheet.pdf"
   ]
  },
  {
   "cell_type": "markdown",
   "metadata": {},
   "source": [
    "# Maps\n",
    "\n",
    "With the deveopment of smart transportation, geographical data is becoming common for data science projects. Plotly have some nicely built functions to visualize location and data in maps.\n",
    "\n",
    "One ways is to use the `choropleth` functions in Plotly. By setting the location mode to `USA-states` or a country name, the map will match the entries to the region information in given area."
   ]
  },
  {
   "cell_type": "code",
   "execution_count": 8,
   "metadata": {},
   "outputs": [
    {
     "name": "stdout",
     "output_type": "stream",
     "text": [
      "  code        state category  total exports   beef  pork  poultry   dairy  \\\n",
      "0   AL      Alabama    state        1390.63   34.4  10.6    481.0    4.06   \n",
      "1   AK       Alaska    state          13.31    0.2   0.1      0.0    0.19   \n",
      "2   AZ      Arizona    state        1463.17   71.3  17.9      0.0  105.48   \n",
      "3   AR     Arkansas    state        3586.02   53.2  29.4    562.9    3.53   \n",
      "4   CA   California    state       16472.88  228.7  11.1    225.4  929.95   \n",
      "\n",
      "   fruits fresh  fruits proc  total fruits  veggies fresh  veggies proc  \\\n",
      "0           8.0         17.1         25.11            5.5           8.9   \n",
      "1           0.0          0.0          0.00            0.6           1.0   \n",
      "2          19.3         41.0         60.27          147.5         239.4   \n",
      "3           2.2          4.7          6.88            4.4           7.1   \n",
      "4        2791.8       5944.6       8736.40          803.2        1303.5   \n",
      "\n",
      "   total veggies  corn  wheat   cotton  \n",
      "0          14.33  34.9   70.0   317.61  \n",
      "1           1.56   0.0    0.0     0.00  \n",
      "2         386.91   7.3   48.7   423.95  \n",
      "3          11.45  69.5  114.5   665.44  \n",
      "4        2106.79  34.6  249.3  1064.95  \n"
     ]
    }
   ],
   "source": [
    "import pandas as pd\n",
    "usa_df = pd.read_csv('2011_us_ag_exports.csv')\n",
    "print(usa_df.head())"
   ]
  },
  {
   "cell_type": "code",
   "execution_count": 9,
   "metadata": {},
   "outputs": [
    {
     "name": "stdout",
     "output_type": "stream",
     "text": [
      "  code        state category total exports   beef  pork poultry   dairy  \\\n",
      "0   AL      Alabama    state       1390.63   34.4  10.6   481.0    4.06   \n",
      "1   AK       Alaska    state         13.31    0.2   0.1     0.0    0.19   \n",
      "2   AZ      Arizona    state       1463.17   71.3  17.9     0.0  105.48   \n",
      "3   AR     Arkansas    state       3586.02   53.2  29.4   562.9    3.53   \n",
      "4   CA   California    state      16472.88  228.7  11.1   225.4  929.95   \n",
      "\n",
      "  fruits fresh fruits proc total fruits veggies fresh veggies proc  \\\n",
      "0          8.0        17.1        25.11           5.5          8.9   \n",
      "1          0.0         0.0          0.0           0.6          1.0   \n",
      "2         19.3        41.0        60.27         147.5        239.4   \n",
      "3          2.2         4.7         6.88           4.4          7.1   \n",
      "4       2791.8      5944.6       8736.4         803.2       1303.5   \n",
      "\n",
      "  total veggies  corn  wheat   cotton  \\\n",
      "0         14.33  34.9   70.0   317.61   \n",
      "1          1.56   0.0    0.0      0.0   \n",
      "2        386.91   7.3   48.7   423.95   \n",
      "3         11.45  69.5  114.5   665.44   \n",
      "4       2106.79  34.6  249.3  1064.95   \n",
      "\n",
      "                                                text  \n",
      "0  Alabama<br>Beef 34.4<br>Pork 10.6<br>Dairy 4.0...  \n",
      "1  Alaska<br>Beef 0.2<br>Pork 0.1<br>Dairy 0.19<b...  \n",
      "2  Arizona<br>Beef 71.3<br>Pork 17.9<br>Dairy 105...  \n",
      "3  Arkansas<br>Beef 53.2<br>Pork 29.4<br>Dairy 3....  \n",
      "4   California<br>Beef 228.7<br>Pork 11.1<br>Dair...  \n"
     ]
    }
   ],
   "source": [
    "# create a text column for the text to shown. The text is in HTML format\n",
    "\n",
    "for col in usa_df.columns:\n",
    "    usa_df[col]=usa_df[col].astype('str') \n",
    "    \n",
    "usa_df['text'] = (usa_df.state + \"<br>\" + \n",
    "               \"Beef \" + usa_df.beef + \"<br>\" + \n",
    "               \"Pork \" + usa_df.pork + \"<br>\" + \n",
    "               \"Dairy \" + usa_df.dairy + \"<br>\" + \n",
    "               \"Fruits \" + usa_df['total fruits'] + \"<br>\" + \n",
    "               \"Corn \" + usa_df.corn + \"<br>\" + \n",
    "               \"Cotton \" + usa_df.cotton\n",
    "              )\n",
    "print(usa_df.head())"
   ]
  },
  {
   "cell_type": "code",
   "execution_count": 10,
   "metadata": {
    "scrolled": true
   },
   "outputs": [
    {
     "data": {
      "text/html": [
       "<iframe id=\"igraph\" scrolling=\"no\" style=\"border:none;\" seamless=\"seamless\" src=\"https://plot.ly/~mangoeyes/28.embed\" height=\"525px\" width=\"100%\"></iframe>"
      ],
      "text/plain": [
       "<plotly.tools.PlotlyDisplay object>"
      ]
     },
     "execution_count": 10,
     "metadata": {},
     "output_type": "execute_result"
    }
   ],
   "source": [
    "data = dict(\n",
    "        type='choropleth',\n",
    "        locationmode = 'USA-states',\n",
    "        colorscale = \"Greens\",\n",
    "        locations = usa_df['code'],\n",
    "        z = usa_df['total exports'].astype(float),\n",
    "        text = usa_df['text'],\n",
    "        marker = dict(\n",
    "            line = dict (\n",
    "                color = 'rgb(255,255,255)',\n",
    "                width = 2\n",
    "            ) ),\n",
    "        colorbar = dict(\n",
    "            title = \"Millions USD\")\n",
    "        )\n",
    "\n",
    "layout = dict(\n",
    "        title = 'US Agriculture Export Summary 2011',\n",
    "        geo = dict(scope='usa',\n",
    "            projection=dict( type='albers usa'),\n",
    "            showlakes = True,\n",
    "            lakecolor = 'rgb(255, 255, 255)'),\n",
    "             )\n",
    "    \n",
    "fig = dict(data=[data], layout=layout)\n",
    "\n",
    "py.iplot(fig, filename='USA map' )"
   ]
  },
  {
   "cell_type": "markdown",
   "metadata": {},
   "source": [
    "Another way is to draw maps is to use [Mapbox](https://www.mapbox.com/), a data platform providing building blocks for web application to include location features. Plotly is integrated with Mapbox for plotting longtitude and latitude on interactive maps. To use Mapbox for maps, you need to create a Mapbox account and obtain an access token.\n",
    "\n",
    "For demonstration purpose, I am using a dataset from [Tianchi](https://tianchi.aliyun.com/index.htm?spm=5176.100066.5610778.6.6a4ad780dkgKPl&_lang=en_US), a Chinese version of Kaggle hosted by Alibaba Group. The dataset is the longtitude and latitude of 10 service branches of a express delivery company in Shanghai, China. More information about the dataset can be found [here](https://tianchi.aliyun.com/datalab/dataSet.htm?id=15)."
   ]
  },
  {
   "cell_type": "code",
   "execution_count": 11,
   "metadata": {},
   "outputs": [],
   "source": [
    "mapbox_token = \"mapbox_token\""
   ]
  },
  {
   "cell_type": "code",
   "execution_count": 12,
   "metadata": {},
   "outputs": [
    {
     "name": "stdout",
     "output_type": "stream",
     "text": [
      "  branch         lon        lat\n",
      "0   A116  121.226536  31.013124\n",
      "1   A051  121.746743  31.191404\n",
      "2   A074  121.490155  31.250216\n",
      "3   A001  121.486181  31.270203\n",
      "4   A007  121.640596  31.245883\n",
      "5   A065  121.529457  31.220285\n",
      "6   A044  121.133601  31.254956\n",
      "7   A073  121.486280  31.261953\n",
      "8   A012  121.282956  31.404118\n",
      "9   A069  121.372248  31.238009\n"
     ]
    }
   ],
   "source": [
    "# import the csv file of dataset\n",
    "import csv\n",
    "import pandas as pd\n",
    "\n",
    "map_df = pd.read_csv(\"new_1.csv\",header = None)\n",
    "map_df.columns = ['branch','lon','lat']\n",
    "print(map_df)"
   ]
  },
  {
   "cell_type": "code",
   "execution_count": 13,
   "metadata": {
    "scrolled": true
   },
   "outputs": [
    {
     "data": {
      "text/html": [
       "<iframe id=\"igraph\" scrolling=\"no\" style=\"border:none;\" seamless=\"seamless\" src=\"https://plot.ly/~mangoeyes/20.embed\" height=\"525px\" width=\"100%\"></iframe>"
      ],
      "text/plain": [
       "<plotly.tools.PlotlyDisplay object>"
      ]
     },
     "execution_count": 13,
     "metadata": {},
     "output_type": "execute_result"
    }
   ],
   "source": [
    "map_trace1 = go.Scattermapbox(\n",
    "    lat = map_df.lat,\n",
    "    lon = map_df.lon,\n",
    "    mode = 'markers',\n",
    "    marker = dict(\n",
    "        size = 17,\n",
    "        color = 'rgb(84,186,216)',\n",
    "        opacity = 0.6\n",
    "    ),\n",
    "    text = map_df.branch,\n",
    "    hoverinfo = 'none'\n",
    "    )\n",
    "\n",
    "map_trace2 = go.Scattermapbox(\n",
    "    lat = map_df.lat,\n",
    "    lon = map_df.lon,\n",
    "    mode = 'markers',\n",
    "    marker = dict(\n",
    "        size = 10,\n",
    "        color = 'rgb(0,147,198)',\n",
    "        opacity = 0.6\n",
    "    ),\n",
    "    text = map_df.branch,\n",
    "    hoverinfo = 'text'\n",
    "    )\n",
    "\n",
    "layout = go.Layout(\n",
    "    title = 'Location of Delivery Company Branches',\n",
    "    autosize = True,\n",
    "    hovermode = 'closest',\n",
    "    showlegend = False,\n",
    "    mapbox = dict(\n",
    "        accesstoken = mapbox_token,\n",
    "        bearing = 0,\n",
    "        pitch = 0,\n",
    "        zoom = 8,\n",
    "        style = 'light',\n",
    "        center = dict(\n",
    "        lat = map_df.lat.mean(),\n",
    "        lon = map_df.lon.mean())\n",
    "    ),\n",
    ")\n",
    "\n",
    "fig = dict(data=[map_trace1,map_trace2], layout=layout)\n",
    "\n",
    "py.iplot(fig, filename='Location of Delivery Company Branches')"
   ]
  },
  {
   "cell_type": "markdown",
   "metadata": {},
   "source": [
    "# Plot with widgets\n",
    "\n",
    "We can create a plot with widgets like sliders and dropdown boxes to change the data and get instant update on the plot. When the parameters in the widgets are changed, Plotly will instantly update the plots. Combined with the animation functions, it is ideal for a demonstration of time-series data or a comparison between categorical data. \n"
   ]
  },
  {
   "cell_type": "code",
   "execution_count": 14,
   "metadata": {},
   "outputs": [
    {
     "data": {
      "text/html": [
       "<iframe id=\"igraph\" scrolling=\"no\" style=\"border:none;\" seamless=\"seamless\" src=\"https://plot.ly/~mangoeyes/24.embed\" height=\"525px\" width=\"100%\"></iframe>"
      ],
      "text/plain": [
       "<plotly.tools.PlotlyDisplay object>"
      ]
     },
     "execution_count": 14,
     "metadata": {},
     "output_type": "execute_result"
    }
   ],
   "source": [
    "# drawing an interactive plot with mean = 0 and standard deviation ranging \n",
    "# from 1 to 5 with a step of 0.1\n",
    "\n",
    "import plotly.figure_factory as ff\n",
    "\n",
    "# create data for all lines within the range\n",
    "x = np.linspace(-10,10,1000)\n",
    "data = [dict(\n",
    "        visible = False,\n",
    "        line=dict(color='rgb(240,220,27)', width=4),\n",
    "        name = \"stddev = \" + str(sigma),\n",
    "        x = x,\n",
    "        y = np.exp(-x**2/(2*sigma**2))/(sigma*np.sqrt(2*np.pi))) \n",
    "        for sigma in np.arange(1,5,0.1)]\n",
    "\n",
    "# set the default line to be visible\n",
    "data[0][\"visible\"]=True\n",
    "\n",
    "steps = []\n",
    "for i in range(len(data)):\n",
    "    step = dict(\n",
    "        label = 1+i/10,\n",
    "        method = 'restyle',\n",
    "        args = ['visible', [False] * len(data)],\n",
    "    )\n",
    "    step['args'][1][i] = True # Toggle i'th trace to \"visible\"\n",
    "    steps.append(step)\n",
    "\n",
    "# create slider\n",
    "sliders = [dict(\n",
    "    active = 10,\n",
    "    currentvalue = {\"prefix\": \"Stddev = \"},\n",
    "    pad = {\"t\": 50},\n",
    "    steps = steps\n",
    ")]\n",
    "\n",
    "layout = dict(sliders=sliders, title = \"Normal Distribution with Slider\")\n",
    "fig = dict(data=data, layout=layout)\n",
    "\n",
    "py.iplot(fig, filename='Normal Distribution with Slider')"
   ]
  },
  {
   "cell_type": "markdown",
   "metadata": {},
   "source": [
    "# Animated plots\n",
    "\n",
    "It is also handy to create animation with plots in Plotly. The animation is saved under your account in Plotly cloud.\n",
    "\n",
    "There are two modes for creating animated plots, online and offline. Online mode will create the plot via Plotly's [v2 api](https://api.plot.ly/v2/) and save the plots in Plotly server, while offline mode will save the plots within local environment. In this tutorial, the plot is created offline.\n",
    "\n",
    "In addition to static plots drawn in data parameter as static plots, animated plots have one extra parameter - frames - denoting the data after each run. The animation will be automatically generated by Plotly with the data. Here is the documentation on [offline mode](https://plot.ly/python/offline/).\n",
    "\n",
    "Control buttons can also be added as layout to control the animation.\n",
    "\n",
    "You can refer to the [Plotly website](https://plot.ly/python/animations/) for how to make animation. "
   ]
  },
  {
   "cell_type": "code",
   "execution_count": 15,
   "metadata": {},
   "outputs": [
    {
     "data": {
      "text/html": [
       "<script>requirejs.config({paths: { 'plotly': ['https://cdn.plot.ly/plotly-latest.min']},});if(!window.Plotly) {{require(['plotly'],function(plotly) {window.Plotly=plotly;});}}</script>"
      ],
      "text/vnd.plotly.v1+html": [
       "<script>requirejs.config({paths: { 'plotly': ['https://cdn.plot.ly/plotly-latest.min']},});if(!window.Plotly) {{require(['plotly'],function(plotly) {window.Plotly=plotly;});}}</script>"
      ]
     },
     "metadata": {},
     "output_type": "display_data"
    },
    {
     "data": {
      "application/vnd.plotly.v1+json": {
       "data": [
        {
         "line": {
          "color": "rgb(120,166,189)",
          "width": 1
         },
         "mode": "lines",
         "name": "line",
         "x": [
          -5,
          -4.898989898989899,
          -4.797979797979798,
          -4.696969696969697,
          -4.595959595959596,
          -4.494949494949495,
          -4.393939393939394,
          -4.292929292929293,
          -4.191919191919192,
          -4.090909090909091,
          -3.9898989898989896,
          -3.888888888888889,
          -3.787878787878788,
          -3.686868686868687,
          -3.5858585858585856,
          -3.484848484848485,
          -3.383838383838384,
          -3.282828282828283,
          -3.1818181818181817,
          -3.080808080808081,
          -2.9797979797979797,
          -2.878787878787879,
          -2.7777777777777777,
          -2.676767676767677,
          -2.5757575757575757,
          -2.474747474747475,
          -2.3737373737373737,
          -2.272727272727273,
          -2.1717171717171717,
          -2.070707070707071,
          -1.9696969696969697,
          -1.868686868686869,
          -1.7676767676767677,
          -1.6666666666666665,
          -1.5656565656565657,
          -1.4646464646464645,
          -1.3636363636363638,
          -1.2626262626262625,
          -1.1616161616161618,
          -1.0606060606060606,
          -0.9595959595959593,
          -0.858585858585859,
          -0.7575757575757578,
          -0.6565656565656566,
          -0.5555555555555554,
          -0.45454545454545503,
          -0.3535353535353538,
          -0.2525252525252526,
          -0.15151515151515138,
          -0.050505050505050164,
          0.050505050505050164,
          0.15151515151515138,
          0.2525252525252526,
          0.3535353535353538,
          0.45454545454545414,
          0.5555555555555554,
          0.6565656565656566,
          0.7575757575757578,
          0.8585858585858581,
          0.9595959595959593,
          1.0606060606060606,
          1.1616161616161618,
          1.262626262626262,
          1.3636363636363633,
          1.4646464646464645,
          1.5656565656565657,
          1.666666666666667,
          1.7676767676767673,
          1.8686868686868685,
          1.9696969696969697,
          2.070707070707071,
          2.1717171717171713,
          2.2727272727272725,
          2.3737373737373737,
          2.474747474747475,
          2.5757575757575752,
          2.6767676767676765,
          2.7777777777777777,
          2.878787878787879,
          2.9797979797979792,
          3.0808080808080813,
          3.1818181818181817,
          3.282828282828282,
          3.383838383838384,
          3.4848484848484844,
          3.5858585858585865,
          3.686868686868687,
          3.787878787878787,
          3.8888888888888893,
          3.9898989898989896,
          4.09090909090909,
          4.191919191919192,
          4.292929292929292,
          4.3939393939393945,
          4.494949494949495,
          4.595959595959595,
          4.696969696969697,
          4.797979797979798,
          4.8989898989899,
          5
         ],
         "y": [
          25,
          24.00010203040506,
          23.02061014182226,
          22.061524334251608,
          21.122844607693093,
          20.204570962146718,
          19.306703397612484,
          18.4292419140904,
          17.57218651158045,
          16.735537190082646,
          15.919293949596977,
          15.123456790123456,
          14.348025711662077,
          13.593000714212835,
          12.858381797775735,
          12.144168962350781,
          11.450362207937967,
          10.776961534537293,
          10.12396694214876,
          9.49137843077237,
          8.87919600040812,
          8.287419651056016,
          7.716049382716049,
          7.165085195388227,
          6.634527089072543,
          6.124375063769004,
          5.634629119477604,
          5.165289256198348,
          4.716355473931231,
          4.287827772676258,
          3.879706152433425,
          3.491990613202735,
          3.1246811549841853,
          2.7777777777777772,
          2.4512804815835123,
          2.1451892664013874,
          1.8595041322314052,
          1.5942250790735637,
          1.349352106927865,
          1.1248852157943066,
          0.92082440567289,
          0.7371696765636166,
          0.5739210284664833,
          0.4310784613814917,
          0.30864197530864174,
          0.20661157024793433,
          0.1249872461993676,
          0.0637690031629426,
          0.02295684113865928,
          0.002550760126517668,
          0.002550760126517668,
          0.02295684113865928,
          0.0637690031629426,
          0.1249872461993676,
          0.20661157024793353,
          0.30864197530864174,
          0.4310784613814917,
          0.5739210284664833,
          0.7371696765636152,
          0.92082440567289,
          1.1248852157943066,
          1.349352106927865,
          1.5942250790735626,
          1.859504132231404,
          2.1451892664013874,
          2.4512804815835123,
          2.7777777777777786,
          3.124681154984184,
          3.491990613202734,
          3.879706152433425,
          4.287827772676258,
          4.7163554739312294,
          5.165289256198346,
          5.634629119477604,
          6.124375063769004,
          6.634527089072541,
          7.165085195388224,
          7.716049382716049,
          8.287419651056016,
          8.879196000408118,
          9.491378430772373,
          10.12396694214876,
          10.776961534537287,
          11.450362207937967,
          12.144168962350777,
          12.858381797775742,
          13.593000714212835,
          14.34802571166207,
          15.12345679012346,
          15.919293949596977,
          16.73553719008264,
          17.57218651158045,
          18.429241914090394,
          19.306703397612495,
          20.204570962146718,
          21.122844607693086,
          22.061524334251608,
          23.02061014182226,
          24.000102030405067,
          25
         ]
        },
        {
         "line": {
          "color": "rgb(120,166,189)",
          "width": 1
         },
         "mode": "lines",
         "name": "line",
         "x": [
          -5,
          -4.898989898989899,
          -4.797979797979798,
          -4.696969696969697,
          -4.595959595959596,
          -4.494949494949495,
          -4.393939393939394,
          -4.292929292929293,
          -4.191919191919192,
          -4.090909090909091,
          -3.9898989898989896,
          -3.888888888888889,
          -3.787878787878788,
          -3.686868686868687,
          -3.5858585858585856,
          -3.484848484848485,
          -3.383838383838384,
          -3.282828282828283,
          -3.1818181818181817,
          -3.080808080808081,
          -2.9797979797979797,
          -2.878787878787879,
          -2.7777777777777777,
          -2.676767676767677,
          -2.5757575757575757,
          -2.474747474747475,
          -2.3737373737373737,
          -2.272727272727273,
          -2.1717171717171717,
          -2.070707070707071,
          -1.9696969696969697,
          -1.868686868686869,
          -1.7676767676767677,
          -1.6666666666666665,
          -1.5656565656565657,
          -1.4646464646464645,
          -1.3636363636363638,
          -1.2626262626262625,
          -1.1616161616161618,
          -1.0606060606060606,
          -0.9595959595959593,
          -0.858585858585859,
          -0.7575757575757578,
          -0.6565656565656566,
          -0.5555555555555554,
          -0.45454545454545503,
          -0.3535353535353538,
          -0.2525252525252526,
          -0.15151515151515138,
          -0.050505050505050164,
          0.050505050505050164,
          0.15151515151515138,
          0.2525252525252526,
          0.3535353535353538,
          0.45454545454545414,
          0.5555555555555554,
          0.6565656565656566,
          0.7575757575757578,
          0.8585858585858581,
          0.9595959595959593,
          1.0606060606060606,
          1.1616161616161618,
          1.262626262626262,
          1.3636363636363633,
          1.4646464646464645,
          1.5656565656565657,
          1.666666666666667,
          1.7676767676767673,
          1.8686868686868685,
          1.9696969696969697,
          2.070707070707071,
          2.1717171717171713,
          2.2727272727272725,
          2.3737373737373737,
          2.474747474747475,
          2.5757575757575752,
          2.6767676767676765,
          2.7777777777777777,
          2.878787878787879,
          2.9797979797979792,
          3.0808080808080813,
          3.1818181818181817,
          3.282828282828282,
          3.383838383838384,
          3.4848484848484844,
          3.5858585858585865,
          3.686868686868687,
          3.787878787878787,
          3.8888888888888893,
          3.9898989898989896,
          4.09090909090909,
          4.191919191919192,
          4.292929292929292,
          4.3939393939393945,
          4.494949494949495,
          4.595959595959595,
          4.696969696969697,
          4.797979797979798,
          4.8989898989899,
          5
         ],
         "y": [
          25,
          24.00010203040506,
          23.02061014182226,
          22.061524334251608,
          21.122844607693093,
          20.204570962146718,
          19.306703397612484,
          18.4292419140904,
          17.57218651158045,
          16.735537190082646,
          15.919293949596977,
          15.123456790123456,
          14.348025711662077,
          13.593000714212835,
          12.858381797775735,
          12.144168962350781,
          11.450362207937967,
          10.776961534537293,
          10.12396694214876,
          9.49137843077237,
          8.87919600040812,
          8.287419651056016,
          7.716049382716049,
          7.165085195388227,
          6.634527089072543,
          6.124375063769004,
          5.634629119477604,
          5.165289256198348,
          4.716355473931231,
          4.287827772676258,
          3.879706152433425,
          3.491990613202735,
          3.1246811549841853,
          2.7777777777777772,
          2.4512804815835123,
          2.1451892664013874,
          1.8595041322314052,
          1.5942250790735637,
          1.349352106927865,
          1.1248852157943066,
          0.92082440567289,
          0.7371696765636166,
          0.5739210284664833,
          0.4310784613814917,
          0.30864197530864174,
          0.20661157024793433,
          0.1249872461993676,
          0.0637690031629426,
          0.02295684113865928,
          0.002550760126517668,
          0.002550760126517668,
          0.02295684113865928,
          0.0637690031629426,
          0.1249872461993676,
          0.20661157024793353,
          0.30864197530864174,
          0.4310784613814917,
          0.5739210284664833,
          0.7371696765636152,
          0.92082440567289,
          1.1248852157943066,
          1.349352106927865,
          1.5942250790735626,
          1.859504132231404,
          2.1451892664013874,
          2.4512804815835123,
          2.7777777777777786,
          3.124681154984184,
          3.491990613202734,
          3.879706152433425,
          4.287827772676258,
          4.7163554739312294,
          5.165289256198346,
          5.634629119477604,
          6.124375063769004,
          6.634527089072541,
          7.165085195388224,
          7.716049382716049,
          8.287419651056016,
          8.879196000408118,
          9.491378430772373,
          10.12396694214876,
          10.776961534537287,
          11.450362207937967,
          12.144168962350777,
          12.858381797775742,
          13.593000714212835,
          14.34802571166207,
          15.12345679012346,
          15.919293949596977,
          16.73553719008264,
          17.57218651158045,
          18.429241914090394,
          19.306703397612495,
          20.204570962146718,
          21.122844607693086,
          22.061524334251608,
          23.02061014182226,
          24.000102030405067,
          25
         ]
        }
       ],
       "frames": [
        {
         "data": [
          {
           "marker": {
            "color": "rgb(186,85,84)",
            "size": 10
           },
           "mode": "markers",
           "name": "point",
           "x": [
            -5
           ],
           "y": [
            25
           ]
          }
         ]
        },
        {
         "data": [
          {
           "marker": {
            "color": "rgb(186,85,84)",
            "size": 10
           },
           "mode": "markers",
           "name": "point",
           "x": [
            -4.898989898989899
           ],
           "y": [
            24.00010203040506
           ]
          }
         ]
        },
        {
         "data": [
          {
           "marker": {
            "color": "rgb(186,85,84)",
            "size": 10
           },
           "mode": "markers",
           "name": "point",
           "x": [
            -4.797979797979798
           ],
           "y": [
            23.02061014182226
           ]
          }
         ]
        },
        {
         "data": [
          {
           "marker": {
            "color": "rgb(186,85,84)",
            "size": 10
           },
           "mode": "markers",
           "name": "point",
           "x": [
            -4.696969696969697
           ],
           "y": [
            22.061524334251608
           ]
          }
         ]
        },
        {
         "data": [
          {
           "marker": {
            "color": "rgb(186,85,84)",
            "size": 10
           },
           "mode": "markers",
           "name": "point",
           "x": [
            -4.595959595959596
           ],
           "y": [
            21.122844607693093
           ]
          }
         ]
        },
        {
         "data": [
          {
           "marker": {
            "color": "rgb(186,85,84)",
            "size": 10
           },
           "mode": "markers",
           "name": "point",
           "x": [
            -4.494949494949495
           ],
           "y": [
            20.204570962146718
           ]
          }
         ]
        },
        {
         "data": [
          {
           "marker": {
            "color": "rgb(186,85,84)",
            "size": 10
           },
           "mode": "markers",
           "name": "point",
           "x": [
            -4.393939393939394
           ],
           "y": [
            19.306703397612484
           ]
          }
         ]
        },
        {
         "data": [
          {
           "marker": {
            "color": "rgb(186,85,84)",
            "size": 10
           },
           "mode": "markers",
           "name": "point",
           "x": [
            -4.292929292929293
           ],
           "y": [
            18.4292419140904
           ]
          }
         ]
        },
        {
         "data": [
          {
           "marker": {
            "color": "rgb(186,85,84)",
            "size": 10
           },
           "mode": "markers",
           "name": "point",
           "x": [
            -4.191919191919192
           ],
           "y": [
            17.57218651158045
           ]
          }
         ]
        },
        {
         "data": [
          {
           "marker": {
            "color": "rgb(186,85,84)",
            "size": 10
           },
           "mode": "markers",
           "name": "point",
           "x": [
            -4.090909090909091
           ],
           "y": [
            16.735537190082646
           ]
          }
         ]
        },
        {
         "data": [
          {
           "marker": {
            "color": "rgb(186,85,84)",
            "size": 10
           },
           "mode": "markers",
           "name": "point",
           "x": [
            -3.9898989898989896
           ],
           "y": [
            15.919293949596977
           ]
          }
         ]
        },
        {
         "data": [
          {
           "marker": {
            "color": "rgb(186,85,84)",
            "size": 10
           },
           "mode": "markers",
           "name": "point",
           "x": [
            -3.888888888888889
           ],
           "y": [
            15.123456790123456
           ]
          }
         ]
        },
        {
         "data": [
          {
           "marker": {
            "color": "rgb(186,85,84)",
            "size": 10
           },
           "mode": "markers",
           "name": "point",
           "x": [
            -3.787878787878788
           ],
           "y": [
            14.348025711662077
           ]
          }
         ]
        },
        {
         "data": [
          {
           "marker": {
            "color": "rgb(186,85,84)",
            "size": 10
           },
           "mode": "markers",
           "name": "point",
           "x": [
            -3.686868686868687
           ],
           "y": [
            13.593000714212835
           ]
          }
         ]
        },
        {
         "data": [
          {
           "marker": {
            "color": "rgb(186,85,84)",
            "size": 10
           },
           "mode": "markers",
           "name": "point",
           "x": [
            -3.5858585858585856
           ],
           "y": [
            12.858381797775735
           ]
          }
         ]
        },
        {
         "data": [
          {
           "marker": {
            "color": "rgb(186,85,84)",
            "size": 10
           },
           "mode": "markers",
           "name": "point",
           "x": [
            -3.484848484848485
           ],
           "y": [
            12.144168962350781
           ]
          }
         ]
        },
        {
         "data": [
          {
           "marker": {
            "color": "rgb(186,85,84)",
            "size": 10
           },
           "mode": "markers",
           "name": "point",
           "x": [
            -3.383838383838384
           ],
           "y": [
            11.450362207937967
           ]
          }
         ]
        },
        {
         "data": [
          {
           "marker": {
            "color": "rgb(186,85,84)",
            "size": 10
           },
           "mode": "markers",
           "name": "point",
           "x": [
            -3.282828282828283
           ],
           "y": [
            10.776961534537293
           ]
          }
         ]
        },
        {
         "data": [
          {
           "marker": {
            "color": "rgb(186,85,84)",
            "size": 10
           },
           "mode": "markers",
           "name": "point",
           "x": [
            -3.1818181818181817
           ],
           "y": [
            10.12396694214876
           ]
          }
         ]
        },
        {
         "data": [
          {
           "marker": {
            "color": "rgb(186,85,84)",
            "size": 10
           },
           "mode": "markers",
           "name": "point",
           "x": [
            -3.080808080808081
           ],
           "y": [
            9.49137843077237
           ]
          }
         ]
        },
        {
         "data": [
          {
           "marker": {
            "color": "rgb(186,85,84)",
            "size": 10
           },
           "mode": "markers",
           "name": "point",
           "x": [
            -2.9797979797979797
           ],
           "y": [
            8.87919600040812
           ]
          }
         ]
        },
        {
         "data": [
          {
           "marker": {
            "color": "rgb(186,85,84)",
            "size": 10
           },
           "mode": "markers",
           "name": "point",
           "x": [
            -2.878787878787879
           ],
           "y": [
            8.287419651056016
           ]
          }
         ]
        },
        {
         "data": [
          {
           "marker": {
            "color": "rgb(186,85,84)",
            "size": 10
           },
           "mode": "markers",
           "name": "point",
           "x": [
            -2.7777777777777777
           ],
           "y": [
            7.716049382716049
           ]
          }
         ]
        },
        {
         "data": [
          {
           "marker": {
            "color": "rgb(186,85,84)",
            "size": 10
           },
           "mode": "markers",
           "name": "point",
           "x": [
            -2.676767676767677
           ],
           "y": [
            7.165085195388227
           ]
          }
         ]
        },
        {
         "data": [
          {
           "marker": {
            "color": "rgb(186,85,84)",
            "size": 10
           },
           "mode": "markers",
           "name": "point",
           "x": [
            -2.5757575757575757
           ],
           "y": [
            6.634527089072543
           ]
          }
         ]
        },
        {
         "data": [
          {
           "marker": {
            "color": "rgb(186,85,84)",
            "size": 10
           },
           "mode": "markers",
           "name": "point",
           "x": [
            -2.474747474747475
           ],
           "y": [
            6.124375063769004
           ]
          }
         ]
        },
        {
         "data": [
          {
           "marker": {
            "color": "rgb(186,85,84)",
            "size": 10
           },
           "mode": "markers",
           "name": "point",
           "x": [
            -2.3737373737373737
           ],
           "y": [
            5.634629119477604
           ]
          }
         ]
        },
        {
         "data": [
          {
           "marker": {
            "color": "rgb(186,85,84)",
            "size": 10
           },
           "mode": "markers",
           "name": "point",
           "x": [
            -2.272727272727273
           ],
           "y": [
            5.165289256198348
           ]
          }
         ]
        },
        {
         "data": [
          {
           "marker": {
            "color": "rgb(186,85,84)",
            "size": 10
           },
           "mode": "markers",
           "name": "point",
           "x": [
            -2.1717171717171717
           ],
           "y": [
            4.716355473931231
           ]
          }
         ]
        },
        {
         "data": [
          {
           "marker": {
            "color": "rgb(186,85,84)",
            "size": 10
           },
           "mode": "markers",
           "name": "point",
           "x": [
            -2.070707070707071
           ],
           "y": [
            4.287827772676258
           ]
          }
         ]
        },
        {
         "data": [
          {
           "marker": {
            "color": "rgb(186,85,84)",
            "size": 10
           },
           "mode": "markers",
           "name": "point",
           "x": [
            -1.9696969696969697
           ],
           "y": [
            3.879706152433425
           ]
          }
         ]
        },
        {
         "data": [
          {
           "marker": {
            "color": "rgb(186,85,84)",
            "size": 10
           },
           "mode": "markers",
           "name": "point",
           "x": [
            -1.868686868686869
           ],
           "y": [
            3.491990613202735
           ]
          }
         ]
        },
        {
         "data": [
          {
           "marker": {
            "color": "rgb(186,85,84)",
            "size": 10
           },
           "mode": "markers",
           "name": "point",
           "x": [
            -1.7676767676767677
           ],
           "y": [
            3.1246811549841853
           ]
          }
         ]
        },
        {
         "data": [
          {
           "marker": {
            "color": "rgb(186,85,84)",
            "size": 10
           },
           "mode": "markers",
           "name": "point",
           "x": [
            -1.6666666666666665
           ],
           "y": [
            2.7777777777777772
           ]
          }
         ]
        },
        {
         "data": [
          {
           "marker": {
            "color": "rgb(186,85,84)",
            "size": 10
           },
           "mode": "markers",
           "name": "point",
           "x": [
            -1.5656565656565657
           ],
           "y": [
            2.4512804815835123
           ]
          }
         ]
        },
        {
         "data": [
          {
           "marker": {
            "color": "rgb(186,85,84)",
            "size": 10
           },
           "mode": "markers",
           "name": "point",
           "x": [
            -1.4646464646464645
           ],
           "y": [
            2.1451892664013874
           ]
          }
         ]
        },
        {
         "data": [
          {
           "marker": {
            "color": "rgb(186,85,84)",
            "size": 10
           },
           "mode": "markers",
           "name": "point",
           "x": [
            -1.3636363636363638
           ],
           "y": [
            1.8595041322314052
           ]
          }
         ]
        },
        {
         "data": [
          {
           "marker": {
            "color": "rgb(186,85,84)",
            "size": 10
           },
           "mode": "markers",
           "name": "point",
           "x": [
            -1.2626262626262625
           ],
           "y": [
            1.5942250790735637
           ]
          }
         ]
        },
        {
         "data": [
          {
           "marker": {
            "color": "rgb(186,85,84)",
            "size": 10
           },
           "mode": "markers",
           "name": "point",
           "x": [
            -1.1616161616161618
           ],
           "y": [
            1.349352106927865
           ]
          }
         ]
        },
        {
         "data": [
          {
           "marker": {
            "color": "rgb(186,85,84)",
            "size": 10
           },
           "mode": "markers",
           "name": "point",
           "x": [
            -1.0606060606060606
           ],
           "y": [
            1.1248852157943066
           ]
          }
         ]
        },
        {
         "data": [
          {
           "marker": {
            "color": "rgb(186,85,84)",
            "size": 10
           },
           "mode": "markers",
           "name": "point",
           "x": [
            -0.9595959595959593
           ],
           "y": [
            0.92082440567289
           ]
          }
         ]
        },
        {
         "data": [
          {
           "marker": {
            "color": "rgb(186,85,84)",
            "size": 10
           },
           "mode": "markers",
           "name": "point",
           "x": [
            -0.858585858585859
           ],
           "y": [
            0.7371696765636166
           ]
          }
         ]
        },
        {
         "data": [
          {
           "marker": {
            "color": "rgb(186,85,84)",
            "size": 10
           },
           "mode": "markers",
           "name": "point",
           "x": [
            -0.7575757575757578
           ],
           "y": [
            0.5739210284664833
           ]
          }
         ]
        },
        {
         "data": [
          {
           "marker": {
            "color": "rgb(186,85,84)",
            "size": 10
           },
           "mode": "markers",
           "name": "point",
           "x": [
            -0.6565656565656566
           ],
           "y": [
            0.4310784613814917
           ]
          }
         ]
        },
        {
         "data": [
          {
           "marker": {
            "color": "rgb(186,85,84)",
            "size": 10
           },
           "mode": "markers",
           "name": "point",
           "x": [
            -0.5555555555555554
           ],
           "y": [
            0.30864197530864174
           ]
          }
         ]
        },
        {
         "data": [
          {
           "marker": {
            "color": "rgb(186,85,84)",
            "size": 10
           },
           "mode": "markers",
           "name": "point",
           "x": [
            -0.45454545454545503
           ],
           "y": [
            0.20661157024793433
           ]
          }
         ]
        },
        {
         "data": [
          {
           "marker": {
            "color": "rgb(186,85,84)",
            "size": 10
           },
           "mode": "markers",
           "name": "point",
           "x": [
            -0.3535353535353538
           ],
           "y": [
            0.1249872461993676
           ]
          }
         ]
        },
        {
         "data": [
          {
           "marker": {
            "color": "rgb(186,85,84)",
            "size": 10
           },
           "mode": "markers",
           "name": "point",
           "x": [
            -0.2525252525252526
           ],
           "y": [
            0.0637690031629426
           ]
          }
         ]
        },
        {
         "data": [
          {
           "marker": {
            "color": "rgb(186,85,84)",
            "size": 10
           },
           "mode": "markers",
           "name": "point",
           "x": [
            -0.15151515151515138
           ],
           "y": [
            0.02295684113865928
           ]
          }
         ]
        },
        {
         "data": [
          {
           "marker": {
            "color": "rgb(186,85,84)",
            "size": 10
           },
           "mode": "markers",
           "name": "point",
           "x": [
            -0.050505050505050164
           ],
           "y": [
            0.002550760126517668
           ]
          }
         ]
        },
        {
         "data": [
          {
           "marker": {
            "color": "rgb(186,85,84)",
            "size": 10
           },
           "mode": "markers",
           "name": "point",
           "x": [
            0.050505050505050164
           ],
           "y": [
            0.002550760126517668
           ]
          }
         ]
        },
        {
         "data": [
          {
           "marker": {
            "color": "rgb(186,85,84)",
            "size": 10
           },
           "mode": "markers",
           "name": "point",
           "x": [
            0.15151515151515138
           ],
           "y": [
            0.02295684113865928
           ]
          }
         ]
        },
        {
         "data": [
          {
           "marker": {
            "color": "rgb(186,85,84)",
            "size": 10
           },
           "mode": "markers",
           "name": "point",
           "x": [
            0.2525252525252526
           ],
           "y": [
            0.0637690031629426
           ]
          }
         ]
        },
        {
         "data": [
          {
           "marker": {
            "color": "rgb(186,85,84)",
            "size": 10
           },
           "mode": "markers",
           "name": "point",
           "x": [
            0.3535353535353538
           ],
           "y": [
            0.1249872461993676
           ]
          }
         ]
        },
        {
         "data": [
          {
           "marker": {
            "color": "rgb(186,85,84)",
            "size": 10
           },
           "mode": "markers",
           "name": "point",
           "x": [
            0.45454545454545414
           ],
           "y": [
            0.20661157024793353
           ]
          }
         ]
        },
        {
         "data": [
          {
           "marker": {
            "color": "rgb(186,85,84)",
            "size": 10
           },
           "mode": "markers",
           "name": "point",
           "x": [
            0.5555555555555554
           ],
           "y": [
            0.30864197530864174
           ]
          }
         ]
        },
        {
         "data": [
          {
           "marker": {
            "color": "rgb(186,85,84)",
            "size": 10
           },
           "mode": "markers",
           "name": "point",
           "x": [
            0.6565656565656566
           ],
           "y": [
            0.4310784613814917
           ]
          }
         ]
        },
        {
         "data": [
          {
           "marker": {
            "color": "rgb(186,85,84)",
            "size": 10
           },
           "mode": "markers",
           "name": "point",
           "x": [
            0.7575757575757578
           ],
           "y": [
            0.5739210284664833
           ]
          }
         ]
        },
        {
         "data": [
          {
           "marker": {
            "color": "rgb(186,85,84)",
            "size": 10
           },
           "mode": "markers",
           "name": "point",
           "x": [
            0.8585858585858581
           ],
           "y": [
            0.7371696765636152
           ]
          }
         ]
        },
        {
         "data": [
          {
           "marker": {
            "color": "rgb(186,85,84)",
            "size": 10
           },
           "mode": "markers",
           "name": "point",
           "x": [
            0.9595959595959593
           ],
           "y": [
            0.92082440567289
           ]
          }
         ]
        },
        {
         "data": [
          {
           "marker": {
            "color": "rgb(186,85,84)",
            "size": 10
           },
           "mode": "markers",
           "name": "point",
           "x": [
            1.0606060606060606
           ],
           "y": [
            1.1248852157943066
           ]
          }
         ]
        },
        {
         "data": [
          {
           "marker": {
            "color": "rgb(186,85,84)",
            "size": 10
           },
           "mode": "markers",
           "name": "point",
           "x": [
            1.1616161616161618
           ],
           "y": [
            1.349352106927865
           ]
          }
         ]
        },
        {
         "data": [
          {
           "marker": {
            "color": "rgb(186,85,84)",
            "size": 10
           },
           "mode": "markers",
           "name": "point",
           "x": [
            1.262626262626262
           ],
           "y": [
            1.5942250790735626
           ]
          }
         ]
        },
        {
         "data": [
          {
           "marker": {
            "color": "rgb(186,85,84)",
            "size": 10
           },
           "mode": "markers",
           "name": "point",
           "x": [
            1.3636363636363633
           ],
           "y": [
            1.859504132231404
           ]
          }
         ]
        },
        {
         "data": [
          {
           "marker": {
            "color": "rgb(186,85,84)",
            "size": 10
           },
           "mode": "markers",
           "name": "point",
           "x": [
            1.4646464646464645
           ],
           "y": [
            2.1451892664013874
           ]
          }
         ]
        },
        {
         "data": [
          {
           "marker": {
            "color": "rgb(186,85,84)",
            "size": 10
           },
           "mode": "markers",
           "name": "point",
           "x": [
            1.5656565656565657
           ],
           "y": [
            2.4512804815835123
           ]
          }
         ]
        },
        {
         "data": [
          {
           "marker": {
            "color": "rgb(186,85,84)",
            "size": 10
           },
           "mode": "markers",
           "name": "point",
           "x": [
            1.666666666666667
           ],
           "y": [
            2.7777777777777786
           ]
          }
         ]
        },
        {
         "data": [
          {
           "marker": {
            "color": "rgb(186,85,84)",
            "size": 10
           },
           "mode": "markers",
           "name": "point",
           "x": [
            1.7676767676767673
           ],
           "y": [
            3.124681154984184
           ]
          }
         ]
        },
        {
         "data": [
          {
           "marker": {
            "color": "rgb(186,85,84)",
            "size": 10
           },
           "mode": "markers",
           "name": "point",
           "x": [
            1.8686868686868685
           ],
           "y": [
            3.491990613202734
           ]
          }
         ]
        },
        {
         "data": [
          {
           "marker": {
            "color": "rgb(186,85,84)",
            "size": 10
           },
           "mode": "markers",
           "name": "point",
           "x": [
            1.9696969696969697
           ],
           "y": [
            3.879706152433425
           ]
          }
         ]
        },
        {
         "data": [
          {
           "marker": {
            "color": "rgb(186,85,84)",
            "size": 10
           },
           "mode": "markers",
           "name": "point",
           "x": [
            2.070707070707071
           ],
           "y": [
            4.287827772676258
           ]
          }
         ]
        },
        {
         "data": [
          {
           "marker": {
            "color": "rgb(186,85,84)",
            "size": 10
           },
           "mode": "markers",
           "name": "point",
           "x": [
            2.1717171717171713
           ],
           "y": [
            4.7163554739312294
           ]
          }
         ]
        },
        {
         "data": [
          {
           "marker": {
            "color": "rgb(186,85,84)",
            "size": 10
           },
           "mode": "markers",
           "name": "point",
           "x": [
            2.2727272727272725
           ],
           "y": [
            5.165289256198346
           ]
          }
         ]
        },
        {
         "data": [
          {
           "marker": {
            "color": "rgb(186,85,84)",
            "size": 10
           },
           "mode": "markers",
           "name": "point",
           "x": [
            2.3737373737373737
           ],
           "y": [
            5.634629119477604
           ]
          }
         ]
        },
        {
         "data": [
          {
           "marker": {
            "color": "rgb(186,85,84)",
            "size": 10
           },
           "mode": "markers",
           "name": "point",
           "x": [
            2.474747474747475
           ],
           "y": [
            6.124375063769004
           ]
          }
         ]
        },
        {
         "data": [
          {
           "marker": {
            "color": "rgb(186,85,84)",
            "size": 10
           },
           "mode": "markers",
           "name": "point",
           "x": [
            2.5757575757575752
           ],
           "y": [
            6.634527089072541
           ]
          }
         ]
        },
        {
         "data": [
          {
           "marker": {
            "color": "rgb(186,85,84)",
            "size": 10
           },
           "mode": "markers",
           "name": "point",
           "x": [
            2.6767676767676765
           ],
           "y": [
            7.165085195388224
           ]
          }
         ]
        },
        {
         "data": [
          {
           "marker": {
            "color": "rgb(186,85,84)",
            "size": 10
           },
           "mode": "markers",
           "name": "point",
           "x": [
            2.7777777777777777
           ],
           "y": [
            7.716049382716049
           ]
          }
         ]
        },
        {
         "data": [
          {
           "marker": {
            "color": "rgb(186,85,84)",
            "size": 10
           },
           "mode": "markers",
           "name": "point",
           "x": [
            2.878787878787879
           ],
           "y": [
            8.287419651056016
           ]
          }
         ]
        },
        {
         "data": [
          {
           "marker": {
            "color": "rgb(186,85,84)",
            "size": 10
           },
           "mode": "markers",
           "name": "point",
           "x": [
            2.9797979797979792
           ],
           "y": [
            8.879196000408118
           ]
          }
         ]
        },
        {
         "data": [
          {
           "marker": {
            "color": "rgb(186,85,84)",
            "size": 10
           },
           "mode": "markers",
           "name": "point",
           "x": [
            3.0808080808080813
           ],
           "y": [
            9.491378430772373
           ]
          }
         ]
        },
        {
         "data": [
          {
           "marker": {
            "color": "rgb(186,85,84)",
            "size": 10
           },
           "mode": "markers",
           "name": "point",
           "x": [
            3.1818181818181817
           ],
           "y": [
            10.12396694214876
           ]
          }
         ]
        },
        {
         "data": [
          {
           "marker": {
            "color": "rgb(186,85,84)",
            "size": 10
           },
           "mode": "markers",
           "name": "point",
           "x": [
            3.282828282828282
           ],
           "y": [
            10.776961534537287
           ]
          }
         ]
        },
        {
         "data": [
          {
           "marker": {
            "color": "rgb(186,85,84)",
            "size": 10
           },
           "mode": "markers",
           "name": "point",
           "x": [
            3.383838383838384
           ],
           "y": [
            11.450362207937967
           ]
          }
         ]
        },
        {
         "data": [
          {
           "marker": {
            "color": "rgb(186,85,84)",
            "size": 10
           },
           "mode": "markers",
           "name": "point",
           "x": [
            3.4848484848484844
           ],
           "y": [
            12.144168962350777
           ]
          }
         ]
        },
        {
         "data": [
          {
           "marker": {
            "color": "rgb(186,85,84)",
            "size": 10
           },
           "mode": "markers",
           "name": "point",
           "x": [
            3.5858585858585865
           ],
           "y": [
            12.858381797775742
           ]
          }
         ]
        },
        {
         "data": [
          {
           "marker": {
            "color": "rgb(186,85,84)",
            "size": 10
           },
           "mode": "markers",
           "name": "point",
           "x": [
            3.686868686868687
           ],
           "y": [
            13.593000714212835
           ]
          }
         ]
        },
        {
         "data": [
          {
           "marker": {
            "color": "rgb(186,85,84)",
            "size": 10
           },
           "mode": "markers",
           "name": "point",
           "x": [
            3.787878787878787
           ],
           "y": [
            14.34802571166207
           ]
          }
         ]
        },
        {
         "data": [
          {
           "marker": {
            "color": "rgb(186,85,84)",
            "size": 10
           },
           "mode": "markers",
           "name": "point",
           "x": [
            3.8888888888888893
           ],
           "y": [
            15.12345679012346
           ]
          }
         ]
        },
        {
         "data": [
          {
           "marker": {
            "color": "rgb(186,85,84)",
            "size": 10
           },
           "mode": "markers",
           "name": "point",
           "x": [
            3.9898989898989896
           ],
           "y": [
            15.919293949596977
           ]
          }
         ]
        },
        {
         "data": [
          {
           "marker": {
            "color": "rgb(186,85,84)",
            "size": 10
           },
           "mode": "markers",
           "name": "point",
           "x": [
            4.09090909090909
           ],
           "y": [
            16.73553719008264
           ]
          }
         ]
        },
        {
         "data": [
          {
           "marker": {
            "color": "rgb(186,85,84)",
            "size": 10
           },
           "mode": "markers",
           "name": "point",
           "x": [
            4.191919191919192
           ],
           "y": [
            17.57218651158045
           ]
          }
         ]
        },
        {
         "data": [
          {
           "marker": {
            "color": "rgb(186,85,84)",
            "size": 10
           },
           "mode": "markers",
           "name": "point",
           "x": [
            4.292929292929292
           ],
           "y": [
            18.429241914090394
           ]
          }
         ]
        },
        {
         "data": [
          {
           "marker": {
            "color": "rgb(186,85,84)",
            "size": 10
           },
           "mode": "markers",
           "name": "point",
           "x": [
            4.3939393939393945
           ],
           "y": [
            19.306703397612495
           ]
          }
         ]
        },
        {
         "data": [
          {
           "marker": {
            "color": "rgb(186,85,84)",
            "size": 10
           },
           "mode": "markers",
           "name": "point",
           "x": [
            4.494949494949495
           ],
           "y": [
            20.204570962146718
           ]
          }
         ]
        },
        {
         "data": [
          {
           "marker": {
            "color": "rgb(186,85,84)",
            "size": 10
           },
           "mode": "markers",
           "name": "point",
           "x": [
            4.595959595959595
           ],
           "y": [
            21.122844607693086
           ]
          }
         ]
        },
        {
         "data": [
          {
           "marker": {
            "color": "rgb(186,85,84)",
            "size": 10
           },
           "mode": "markers",
           "name": "point",
           "x": [
            4.696969696969697
           ],
           "y": [
            22.061524334251608
           ]
          }
         ]
        },
        {
         "data": [
          {
           "marker": {
            "color": "rgb(186,85,84)",
            "size": 10
           },
           "mode": "markers",
           "name": "point",
           "x": [
            4.797979797979798
           ],
           "y": [
            23.02061014182226
           ]
          }
         ]
        },
        {
         "data": [
          {
           "marker": {
            "color": "rgb(186,85,84)",
            "size": 10
           },
           "mode": "markers",
           "name": "point",
           "x": [
            4.8989898989899
           ],
           "y": [
            24.000102030405067
           ]
          }
         ]
        },
        {
         "data": [
          {
           "marker": {
            "color": "rgb(186,85,84)",
            "size": 10
           },
           "mode": "markers",
           "name": "point",
           "x": [
            5
           ],
           "y": [
            25
           ]
          }
         ]
        }
       ],
       "layout": {
        "showlegend": false,
        "title": "Quadratic equation Curve with Moving Point",
        "updatemenus": [
         {
          "buttons": [
           {
            "args": [
             null
            ],
            "label": "Play",
            "method": "animate"
           }
          ],
          "type": "buttons"
         }
        ],
        "xaxis": {
         "autorange": false,
         "range": [
          -10,
          10
         ],
         "title": "$y = x^2$",
         "zeroline": true
        },
        "yaxis": {
         "autorange": false,
         "range": [
          -4.997449239873482,
          30
         ],
         "zeroline": true
        }
       }
      },
      "text/html": [
       "<div id=\"5130c4df-75a7-406a-8226-694ffd537844\" style=\"height: 525px; width: 100%;\" class=\"plotly-graph-div\"></div><script type=\"text/javascript\">require([\"plotly\"], function(Plotly) { window.PLOTLYENV=window.PLOTLYENV || {};window.PLOTLYENV.BASE_URL=\"https://plot.ly\";\n",
       "        Plotly.plot(\n",
       "            '5130c4df-75a7-406a-8226-694ffd537844',\n",
       "            [{\"x\": [-5.0, -4.898989898989899, -4.797979797979798, -4.696969696969697, -4.595959595959596, -4.494949494949495, -4.393939393939394, -4.292929292929293, -4.191919191919192, -4.090909090909091, -3.9898989898989896, -3.888888888888889, -3.787878787878788, -3.686868686868687, -3.5858585858585856, -3.484848484848485, -3.383838383838384, -3.282828282828283, -3.1818181818181817, -3.080808080808081, -2.9797979797979797, -2.878787878787879, -2.7777777777777777, -2.676767676767677, -2.5757575757575757, -2.474747474747475, -2.3737373737373737, -2.272727272727273, -2.1717171717171717, -2.070707070707071, -1.9696969696969697, -1.868686868686869, -1.7676767676767677, -1.6666666666666665, -1.5656565656565657, -1.4646464646464645, -1.3636363636363638, -1.2626262626262625, -1.1616161616161618, -1.0606060606060606, -0.9595959595959593, -0.858585858585859, -0.7575757575757578, -0.6565656565656566, -0.5555555555555554, -0.45454545454545503, -0.3535353535353538, -0.2525252525252526, -0.15151515151515138, -0.050505050505050164, 0.050505050505050164, 0.15151515151515138, 0.2525252525252526, 0.3535353535353538, 0.45454545454545414, 0.5555555555555554, 0.6565656565656566, 0.7575757575757578, 0.8585858585858581, 0.9595959595959593, 1.0606060606060606, 1.1616161616161618, 1.262626262626262, 1.3636363636363633, 1.4646464646464645, 1.5656565656565657, 1.666666666666667, 1.7676767676767673, 1.8686868686868685, 1.9696969696969697, 2.070707070707071, 2.1717171717171713, 2.2727272727272725, 2.3737373737373737, 2.474747474747475, 2.5757575757575752, 2.6767676767676765, 2.7777777777777777, 2.878787878787879, 2.9797979797979792, 3.0808080808080813, 3.1818181818181817, 3.282828282828282, 3.383838383838384, 3.4848484848484844, 3.5858585858585865, 3.686868686868687, 3.787878787878787, 3.8888888888888893, 3.9898989898989896, 4.09090909090909, 4.191919191919192, 4.292929292929292, 4.3939393939393945, 4.494949494949495, 4.595959595959595, 4.696969696969697, 4.797979797979798, 4.8989898989899, 5.0], \"y\": [25.0, 24.00010203040506, 23.02061014182226, 22.061524334251608, 21.122844607693093, 20.204570962146718, 19.306703397612484, 18.4292419140904, 17.57218651158045, 16.735537190082646, 15.919293949596977, 15.123456790123456, 14.348025711662077, 13.593000714212835, 12.858381797775735, 12.144168962350781, 11.450362207937967, 10.776961534537293, 10.12396694214876, 9.49137843077237, 8.87919600040812, 8.287419651056016, 7.716049382716049, 7.165085195388227, 6.634527089072543, 6.124375063769004, 5.634629119477604, 5.165289256198348, 4.716355473931231, 4.287827772676258, 3.879706152433425, 3.491990613202735, 3.1246811549841853, 2.7777777777777772, 2.4512804815835123, 2.1451892664013874, 1.8595041322314052, 1.5942250790735637, 1.349352106927865, 1.1248852157943066, 0.92082440567289, 0.7371696765636166, 0.5739210284664833, 0.4310784613814917, 0.30864197530864174, 0.20661157024793433, 0.1249872461993676, 0.0637690031629426, 0.02295684113865928, 0.002550760126517668, 0.002550760126517668, 0.02295684113865928, 0.0637690031629426, 0.1249872461993676, 0.20661157024793353, 0.30864197530864174, 0.4310784613814917, 0.5739210284664833, 0.7371696765636152, 0.92082440567289, 1.1248852157943066, 1.349352106927865, 1.5942250790735626, 1.859504132231404, 2.1451892664013874, 2.4512804815835123, 2.7777777777777786, 3.124681154984184, 3.491990613202734, 3.879706152433425, 4.287827772676258, 4.7163554739312294, 5.165289256198346, 5.634629119477604, 6.124375063769004, 6.634527089072541, 7.165085195388224, 7.716049382716049, 8.287419651056016, 8.879196000408118, 9.491378430772373, 10.12396694214876, 10.776961534537287, 11.450362207937967, 12.144168962350777, 12.858381797775742, 13.593000714212835, 14.34802571166207, 15.12345679012346, 15.919293949596977, 16.73553719008264, 17.57218651158045, 18.429241914090394, 19.306703397612495, 20.204570962146718, 21.122844607693086, 22.061524334251608, 23.02061014182226, 24.000102030405067, 25.0], \"mode\": \"lines\", \"line\": {\"width\": 1, \"color\": \"rgb(120,166,189)\"}, \"name\": \"line\"}, {\"x\": [-5.0, -4.898989898989899, -4.797979797979798, -4.696969696969697, -4.595959595959596, -4.494949494949495, -4.393939393939394, -4.292929292929293, -4.191919191919192, -4.090909090909091, -3.9898989898989896, -3.888888888888889, -3.787878787878788, -3.686868686868687, -3.5858585858585856, -3.484848484848485, -3.383838383838384, -3.282828282828283, -3.1818181818181817, -3.080808080808081, -2.9797979797979797, -2.878787878787879, -2.7777777777777777, -2.676767676767677, -2.5757575757575757, -2.474747474747475, -2.3737373737373737, -2.272727272727273, -2.1717171717171717, -2.070707070707071, -1.9696969696969697, -1.868686868686869, -1.7676767676767677, -1.6666666666666665, -1.5656565656565657, -1.4646464646464645, -1.3636363636363638, -1.2626262626262625, -1.1616161616161618, -1.0606060606060606, -0.9595959595959593, -0.858585858585859, -0.7575757575757578, -0.6565656565656566, -0.5555555555555554, -0.45454545454545503, -0.3535353535353538, -0.2525252525252526, -0.15151515151515138, -0.050505050505050164, 0.050505050505050164, 0.15151515151515138, 0.2525252525252526, 0.3535353535353538, 0.45454545454545414, 0.5555555555555554, 0.6565656565656566, 0.7575757575757578, 0.8585858585858581, 0.9595959595959593, 1.0606060606060606, 1.1616161616161618, 1.262626262626262, 1.3636363636363633, 1.4646464646464645, 1.5656565656565657, 1.666666666666667, 1.7676767676767673, 1.8686868686868685, 1.9696969696969697, 2.070707070707071, 2.1717171717171713, 2.2727272727272725, 2.3737373737373737, 2.474747474747475, 2.5757575757575752, 2.6767676767676765, 2.7777777777777777, 2.878787878787879, 2.9797979797979792, 3.0808080808080813, 3.1818181818181817, 3.282828282828282, 3.383838383838384, 3.4848484848484844, 3.5858585858585865, 3.686868686868687, 3.787878787878787, 3.8888888888888893, 3.9898989898989896, 4.09090909090909, 4.191919191919192, 4.292929292929292, 4.3939393939393945, 4.494949494949495, 4.595959595959595, 4.696969696969697, 4.797979797979798, 4.8989898989899, 5.0], \"y\": [25.0, 24.00010203040506, 23.02061014182226, 22.061524334251608, 21.122844607693093, 20.204570962146718, 19.306703397612484, 18.4292419140904, 17.57218651158045, 16.735537190082646, 15.919293949596977, 15.123456790123456, 14.348025711662077, 13.593000714212835, 12.858381797775735, 12.144168962350781, 11.450362207937967, 10.776961534537293, 10.12396694214876, 9.49137843077237, 8.87919600040812, 8.287419651056016, 7.716049382716049, 7.165085195388227, 6.634527089072543, 6.124375063769004, 5.634629119477604, 5.165289256198348, 4.716355473931231, 4.287827772676258, 3.879706152433425, 3.491990613202735, 3.1246811549841853, 2.7777777777777772, 2.4512804815835123, 2.1451892664013874, 1.8595041322314052, 1.5942250790735637, 1.349352106927865, 1.1248852157943066, 0.92082440567289, 0.7371696765636166, 0.5739210284664833, 0.4310784613814917, 0.30864197530864174, 0.20661157024793433, 0.1249872461993676, 0.0637690031629426, 0.02295684113865928, 0.002550760126517668, 0.002550760126517668, 0.02295684113865928, 0.0637690031629426, 0.1249872461993676, 0.20661157024793353, 0.30864197530864174, 0.4310784613814917, 0.5739210284664833, 0.7371696765636152, 0.92082440567289, 1.1248852157943066, 1.349352106927865, 1.5942250790735626, 1.859504132231404, 2.1451892664013874, 2.4512804815835123, 2.7777777777777786, 3.124681154984184, 3.491990613202734, 3.879706152433425, 4.287827772676258, 4.7163554739312294, 5.165289256198346, 5.634629119477604, 6.124375063769004, 6.634527089072541, 7.165085195388224, 7.716049382716049, 8.287419651056016, 8.879196000408118, 9.491378430772373, 10.12396694214876, 10.776961534537287, 11.450362207937967, 12.144168962350777, 12.858381797775742, 13.593000714212835, 14.34802571166207, 15.12345679012346, 15.919293949596977, 16.73553719008264, 17.57218651158045, 18.429241914090394, 19.306703397612495, 20.204570962146718, 21.122844607693086, 22.061524334251608, 23.02061014182226, 24.000102030405067, 25.0], \"mode\": \"lines\", \"line\": {\"width\": 1, \"color\": \"rgb(120,166,189)\"}, \"name\": \"line\"}],\n",
       "            {\"xaxis\": {\"range\": [-10.0, 10.0], \"autorange\": false, \"zeroline\": true, \"title\": \"$y = x^2$\"}, \"yaxis\": {\"range\": [-4.997449239873482, 30.0], \"autorange\": false, \"zeroline\": true}, \"title\": \"Quadratic equation Curve with Moving Point\", \"updatemenus\": [{\"type\": \"buttons\", \"buttons\": [{\"label\": \"Play\", \"method\": \"animate\", \"args\": [null]}]}], \"showlegend\": false},\n",
       "            {\"showLink\": true, \"linkText\": \"Export to plot.ly\"}\n",
       "        ).then(function () {return Plotly.addFrames('5130c4df-75a7-406a-8226-694ffd537844',[{\"data\": [{\"x\": [-5.0], \"y\": [25.0], \"mode\": \"markers\", \"marker\": {\"color\": \"rgb(186,85,84)\", \"size\": 10}, \"name\": \"point\"}]}, {\"data\": [{\"x\": [-4.898989898989899], \"y\": [24.00010203040506], \"mode\": \"markers\", \"marker\": {\"color\": \"rgb(186,85,84)\", \"size\": 10}, \"name\": \"point\"}]}, {\"data\": [{\"x\": [-4.797979797979798], \"y\": [23.02061014182226], \"mode\": \"markers\", \"marker\": {\"color\": \"rgb(186,85,84)\", \"size\": 10}, \"name\": \"point\"}]}, {\"data\": [{\"x\": [-4.696969696969697], \"y\": [22.061524334251608], \"mode\": \"markers\", \"marker\": {\"color\": \"rgb(186,85,84)\", \"size\": 10}, \"name\": \"point\"}]}, {\"data\": [{\"x\": [-4.595959595959596], \"y\": [21.122844607693093], \"mode\": \"markers\", \"marker\": {\"color\": \"rgb(186,85,84)\", \"size\": 10}, \"name\": \"point\"}]}, {\"data\": [{\"x\": [-4.494949494949495], \"y\": [20.204570962146718], \"mode\": \"markers\", \"marker\": {\"color\": \"rgb(186,85,84)\", \"size\": 10}, \"name\": \"point\"}]}, {\"data\": [{\"x\": [-4.393939393939394], \"y\": [19.306703397612484], \"mode\": \"markers\", \"marker\": {\"color\": \"rgb(186,85,84)\", \"size\": 10}, \"name\": \"point\"}]}, {\"data\": [{\"x\": [-4.292929292929293], \"y\": [18.4292419140904], \"mode\": \"markers\", \"marker\": {\"color\": \"rgb(186,85,84)\", \"size\": 10}, \"name\": \"point\"}]}, {\"data\": [{\"x\": [-4.191919191919192], \"y\": [17.57218651158045], \"mode\": \"markers\", \"marker\": {\"color\": \"rgb(186,85,84)\", \"size\": 10}, \"name\": \"point\"}]}, {\"data\": [{\"x\": [-4.090909090909091], \"y\": [16.735537190082646], \"mode\": \"markers\", \"marker\": {\"color\": \"rgb(186,85,84)\", \"size\": 10}, \"name\": \"point\"}]}, {\"data\": [{\"x\": [-3.9898989898989896], \"y\": [15.919293949596977], \"mode\": \"markers\", \"marker\": {\"color\": \"rgb(186,85,84)\", \"size\": 10}, \"name\": \"point\"}]}, {\"data\": [{\"x\": [-3.888888888888889], \"y\": [15.123456790123456], \"mode\": \"markers\", \"marker\": {\"color\": \"rgb(186,85,84)\", \"size\": 10}, \"name\": \"point\"}]}, {\"data\": [{\"x\": [-3.787878787878788], \"y\": [14.348025711662077], \"mode\": \"markers\", \"marker\": {\"color\": \"rgb(186,85,84)\", \"size\": 10}, \"name\": \"point\"}]}, {\"data\": [{\"x\": [-3.686868686868687], \"y\": [13.593000714212835], \"mode\": \"markers\", \"marker\": {\"color\": \"rgb(186,85,84)\", \"size\": 10}, \"name\": \"point\"}]}, {\"data\": [{\"x\": [-3.5858585858585856], \"y\": [12.858381797775735], \"mode\": \"markers\", \"marker\": {\"color\": \"rgb(186,85,84)\", \"size\": 10}, \"name\": \"point\"}]}, {\"data\": [{\"x\": [-3.484848484848485], \"y\": [12.144168962350781], \"mode\": \"markers\", \"marker\": {\"color\": \"rgb(186,85,84)\", \"size\": 10}, \"name\": \"point\"}]}, {\"data\": [{\"x\": [-3.383838383838384], \"y\": [11.450362207937967], \"mode\": \"markers\", \"marker\": {\"color\": \"rgb(186,85,84)\", \"size\": 10}, \"name\": \"point\"}]}, {\"data\": [{\"x\": [-3.282828282828283], \"y\": [10.776961534537293], \"mode\": \"markers\", \"marker\": {\"color\": \"rgb(186,85,84)\", \"size\": 10}, \"name\": \"point\"}]}, {\"data\": [{\"x\": [-3.1818181818181817], \"y\": [10.12396694214876], \"mode\": \"markers\", \"marker\": {\"color\": \"rgb(186,85,84)\", \"size\": 10}, \"name\": \"point\"}]}, {\"data\": [{\"x\": [-3.080808080808081], \"y\": [9.49137843077237], \"mode\": \"markers\", \"marker\": {\"color\": \"rgb(186,85,84)\", \"size\": 10}, \"name\": \"point\"}]}, {\"data\": [{\"x\": [-2.9797979797979797], \"y\": [8.87919600040812], \"mode\": \"markers\", \"marker\": {\"color\": \"rgb(186,85,84)\", \"size\": 10}, \"name\": \"point\"}]}, {\"data\": [{\"x\": [-2.878787878787879], \"y\": [8.287419651056016], \"mode\": \"markers\", \"marker\": {\"color\": \"rgb(186,85,84)\", \"size\": 10}, \"name\": \"point\"}]}, {\"data\": [{\"x\": [-2.7777777777777777], \"y\": [7.716049382716049], \"mode\": \"markers\", \"marker\": {\"color\": \"rgb(186,85,84)\", \"size\": 10}, \"name\": \"point\"}]}, {\"data\": [{\"x\": [-2.676767676767677], \"y\": [7.165085195388227], \"mode\": \"markers\", \"marker\": {\"color\": \"rgb(186,85,84)\", \"size\": 10}, \"name\": \"point\"}]}, {\"data\": [{\"x\": [-2.5757575757575757], \"y\": [6.634527089072543], \"mode\": \"markers\", \"marker\": {\"color\": \"rgb(186,85,84)\", \"size\": 10}, \"name\": \"point\"}]}, {\"data\": [{\"x\": [-2.474747474747475], \"y\": [6.124375063769004], \"mode\": \"markers\", \"marker\": {\"color\": \"rgb(186,85,84)\", \"size\": 10}, \"name\": \"point\"}]}, {\"data\": [{\"x\": [-2.3737373737373737], \"y\": [5.634629119477604], \"mode\": \"markers\", \"marker\": {\"color\": \"rgb(186,85,84)\", \"size\": 10}, \"name\": \"point\"}]}, {\"data\": [{\"x\": [-2.272727272727273], \"y\": [5.165289256198348], \"mode\": \"markers\", \"marker\": {\"color\": \"rgb(186,85,84)\", \"size\": 10}, \"name\": \"point\"}]}, {\"data\": [{\"x\": [-2.1717171717171717], \"y\": [4.716355473931231], \"mode\": \"markers\", \"marker\": {\"color\": \"rgb(186,85,84)\", \"size\": 10}, \"name\": \"point\"}]}, {\"data\": [{\"x\": [-2.070707070707071], \"y\": [4.287827772676258], \"mode\": \"markers\", \"marker\": {\"color\": \"rgb(186,85,84)\", \"size\": 10}, \"name\": \"point\"}]}, {\"data\": [{\"x\": [-1.9696969696969697], \"y\": [3.879706152433425], \"mode\": \"markers\", \"marker\": {\"color\": \"rgb(186,85,84)\", \"size\": 10}, \"name\": \"point\"}]}, {\"data\": [{\"x\": [-1.868686868686869], \"y\": [3.491990613202735], \"mode\": \"markers\", \"marker\": {\"color\": \"rgb(186,85,84)\", \"size\": 10}, \"name\": \"point\"}]}, {\"data\": [{\"x\": [-1.7676767676767677], \"y\": [3.1246811549841853], \"mode\": \"markers\", \"marker\": {\"color\": \"rgb(186,85,84)\", \"size\": 10}, \"name\": \"point\"}]}, {\"data\": [{\"x\": [-1.6666666666666665], \"y\": [2.7777777777777772], \"mode\": \"markers\", \"marker\": {\"color\": \"rgb(186,85,84)\", \"size\": 10}, \"name\": \"point\"}]}, {\"data\": [{\"x\": [-1.5656565656565657], \"y\": [2.4512804815835123], \"mode\": \"markers\", \"marker\": {\"color\": \"rgb(186,85,84)\", \"size\": 10}, \"name\": \"point\"}]}, {\"data\": [{\"x\": [-1.4646464646464645], \"y\": [2.1451892664013874], \"mode\": \"markers\", \"marker\": {\"color\": \"rgb(186,85,84)\", \"size\": 10}, \"name\": \"point\"}]}, {\"data\": [{\"x\": [-1.3636363636363638], \"y\": [1.8595041322314052], \"mode\": \"markers\", \"marker\": {\"color\": \"rgb(186,85,84)\", \"size\": 10}, \"name\": \"point\"}]}, {\"data\": [{\"x\": [-1.2626262626262625], \"y\": [1.5942250790735637], \"mode\": \"markers\", \"marker\": {\"color\": \"rgb(186,85,84)\", \"size\": 10}, \"name\": \"point\"}]}, {\"data\": [{\"x\": [-1.1616161616161618], \"y\": [1.349352106927865], \"mode\": \"markers\", \"marker\": {\"color\": \"rgb(186,85,84)\", \"size\": 10}, \"name\": \"point\"}]}, {\"data\": [{\"x\": [-1.0606060606060606], \"y\": [1.1248852157943066], \"mode\": \"markers\", \"marker\": {\"color\": \"rgb(186,85,84)\", \"size\": 10}, \"name\": \"point\"}]}, {\"data\": [{\"x\": [-0.9595959595959593], \"y\": [0.92082440567289], \"mode\": \"markers\", \"marker\": {\"color\": \"rgb(186,85,84)\", \"size\": 10}, \"name\": \"point\"}]}, {\"data\": [{\"x\": [-0.858585858585859], \"y\": [0.7371696765636166], \"mode\": \"markers\", \"marker\": {\"color\": \"rgb(186,85,84)\", \"size\": 10}, \"name\": \"point\"}]}, {\"data\": [{\"x\": [-0.7575757575757578], \"y\": [0.5739210284664833], \"mode\": \"markers\", \"marker\": {\"color\": \"rgb(186,85,84)\", \"size\": 10}, \"name\": \"point\"}]}, {\"data\": [{\"x\": [-0.6565656565656566], \"y\": [0.4310784613814917], \"mode\": \"markers\", \"marker\": {\"color\": \"rgb(186,85,84)\", \"size\": 10}, \"name\": \"point\"}]}, {\"data\": [{\"x\": [-0.5555555555555554], \"y\": [0.30864197530864174], \"mode\": \"markers\", \"marker\": {\"color\": \"rgb(186,85,84)\", \"size\": 10}, \"name\": \"point\"}]}, {\"data\": [{\"x\": [-0.45454545454545503], \"y\": [0.20661157024793433], \"mode\": \"markers\", \"marker\": {\"color\": \"rgb(186,85,84)\", \"size\": 10}, \"name\": \"point\"}]}, {\"data\": [{\"x\": [-0.3535353535353538], \"y\": [0.1249872461993676], \"mode\": \"markers\", \"marker\": {\"color\": \"rgb(186,85,84)\", \"size\": 10}, \"name\": \"point\"}]}, {\"data\": [{\"x\": [-0.2525252525252526], \"y\": [0.0637690031629426], \"mode\": \"markers\", \"marker\": {\"color\": \"rgb(186,85,84)\", \"size\": 10}, \"name\": \"point\"}]}, {\"data\": [{\"x\": [-0.15151515151515138], \"y\": [0.02295684113865928], \"mode\": \"markers\", \"marker\": {\"color\": \"rgb(186,85,84)\", \"size\": 10}, \"name\": \"point\"}]}, {\"data\": [{\"x\": [-0.050505050505050164], \"y\": [0.002550760126517668], \"mode\": \"markers\", \"marker\": {\"color\": \"rgb(186,85,84)\", \"size\": 10}, \"name\": \"point\"}]}, {\"data\": [{\"x\": [0.050505050505050164], \"y\": [0.002550760126517668], \"mode\": \"markers\", \"marker\": {\"color\": \"rgb(186,85,84)\", \"size\": 10}, \"name\": \"point\"}]}, {\"data\": [{\"x\": [0.15151515151515138], \"y\": [0.02295684113865928], \"mode\": \"markers\", \"marker\": {\"color\": \"rgb(186,85,84)\", \"size\": 10}, \"name\": \"point\"}]}, {\"data\": [{\"x\": [0.2525252525252526], \"y\": [0.0637690031629426], \"mode\": \"markers\", \"marker\": {\"color\": \"rgb(186,85,84)\", \"size\": 10}, \"name\": \"point\"}]}, {\"data\": [{\"x\": [0.3535353535353538], \"y\": [0.1249872461993676], \"mode\": \"markers\", \"marker\": {\"color\": \"rgb(186,85,84)\", \"size\": 10}, \"name\": \"point\"}]}, {\"data\": [{\"x\": [0.45454545454545414], \"y\": [0.20661157024793353], \"mode\": \"markers\", \"marker\": {\"color\": \"rgb(186,85,84)\", \"size\": 10}, \"name\": \"point\"}]}, {\"data\": [{\"x\": [0.5555555555555554], \"y\": [0.30864197530864174], \"mode\": \"markers\", \"marker\": {\"color\": \"rgb(186,85,84)\", \"size\": 10}, \"name\": \"point\"}]}, {\"data\": [{\"x\": [0.6565656565656566], \"y\": [0.4310784613814917], \"mode\": \"markers\", \"marker\": {\"color\": \"rgb(186,85,84)\", \"size\": 10}, \"name\": \"point\"}]}, {\"data\": [{\"x\": [0.7575757575757578], \"y\": [0.5739210284664833], \"mode\": \"markers\", \"marker\": {\"color\": \"rgb(186,85,84)\", \"size\": 10}, \"name\": \"point\"}]}, {\"data\": [{\"x\": [0.8585858585858581], \"y\": [0.7371696765636152], \"mode\": \"markers\", \"marker\": {\"color\": \"rgb(186,85,84)\", \"size\": 10}, \"name\": \"point\"}]}, {\"data\": [{\"x\": [0.9595959595959593], \"y\": [0.92082440567289], \"mode\": \"markers\", \"marker\": {\"color\": \"rgb(186,85,84)\", \"size\": 10}, \"name\": \"point\"}]}, {\"data\": [{\"x\": [1.0606060606060606], \"y\": [1.1248852157943066], \"mode\": \"markers\", \"marker\": {\"color\": \"rgb(186,85,84)\", \"size\": 10}, \"name\": \"point\"}]}, {\"data\": [{\"x\": [1.1616161616161618], \"y\": [1.349352106927865], \"mode\": \"markers\", \"marker\": {\"color\": \"rgb(186,85,84)\", \"size\": 10}, \"name\": \"point\"}]}, {\"data\": [{\"x\": [1.262626262626262], \"y\": [1.5942250790735626], \"mode\": \"markers\", \"marker\": {\"color\": \"rgb(186,85,84)\", \"size\": 10}, \"name\": \"point\"}]}, {\"data\": [{\"x\": [1.3636363636363633], \"y\": [1.859504132231404], \"mode\": \"markers\", \"marker\": {\"color\": \"rgb(186,85,84)\", \"size\": 10}, \"name\": \"point\"}]}, {\"data\": [{\"x\": [1.4646464646464645], \"y\": [2.1451892664013874], \"mode\": \"markers\", \"marker\": {\"color\": \"rgb(186,85,84)\", \"size\": 10}, \"name\": \"point\"}]}, {\"data\": [{\"x\": [1.5656565656565657], \"y\": [2.4512804815835123], \"mode\": \"markers\", \"marker\": {\"color\": \"rgb(186,85,84)\", \"size\": 10}, \"name\": \"point\"}]}, {\"data\": [{\"x\": [1.666666666666667], \"y\": [2.7777777777777786], \"mode\": \"markers\", \"marker\": {\"color\": \"rgb(186,85,84)\", \"size\": 10}, \"name\": \"point\"}]}, {\"data\": [{\"x\": [1.7676767676767673], \"y\": [3.124681154984184], \"mode\": \"markers\", \"marker\": {\"color\": \"rgb(186,85,84)\", \"size\": 10}, \"name\": \"point\"}]}, {\"data\": [{\"x\": [1.8686868686868685], \"y\": [3.491990613202734], \"mode\": \"markers\", \"marker\": {\"color\": \"rgb(186,85,84)\", \"size\": 10}, \"name\": \"point\"}]}, {\"data\": [{\"x\": [1.9696969696969697], \"y\": [3.879706152433425], \"mode\": \"markers\", \"marker\": {\"color\": \"rgb(186,85,84)\", \"size\": 10}, \"name\": \"point\"}]}, {\"data\": [{\"x\": [2.070707070707071], \"y\": [4.287827772676258], \"mode\": \"markers\", \"marker\": {\"color\": \"rgb(186,85,84)\", \"size\": 10}, \"name\": \"point\"}]}, {\"data\": [{\"x\": [2.1717171717171713], \"y\": [4.7163554739312294], \"mode\": \"markers\", \"marker\": {\"color\": \"rgb(186,85,84)\", \"size\": 10}, \"name\": \"point\"}]}, {\"data\": [{\"x\": [2.2727272727272725], \"y\": [5.165289256198346], \"mode\": \"markers\", \"marker\": {\"color\": \"rgb(186,85,84)\", \"size\": 10}, \"name\": \"point\"}]}, {\"data\": [{\"x\": [2.3737373737373737], \"y\": [5.634629119477604], \"mode\": \"markers\", \"marker\": {\"color\": \"rgb(186,85,84)\", \"size\": 10}, \"name\": \"point\"}]}, {\"data\": [{\"x\": [2.474747474747475], \"y\": [6.124375063769004], \"mode\": \"markers\", \"marker\": {\"color\": \"rgb(186,85,84)\", \"size\": 10}, \"name\": \"point\"}]}, {\"data\": [{\"x\": [2.5757575757575752], \"y\": [6.634527089072541], \"mode\": \"markers\", \"marker\": {\"color\": \"rgb(186,85,84)\", \"size\": 10}, \"name\": \"point\"}]}, {\"data\": [{\"x\": [2.6767676767676765], \"y\": [7.165085195388224], \"mode\": \"markers\", \"marker\": {\"color\": \"rgb(186,85,84)\", \"size\": 10}, \"name\": \"point\"}]}, {\"data\": [{\"x\": [2.7777777777777777], \"y\": [7.716049382716049], \"mode\": \"markers\", \"marker\": {\"color\": \"rgb(186,85,84)\", \"size\": 10}, \"name\": \"point\"}]}, {\"data\": [{\"x\": [2.878787878787879], \"y\": [8.287419651056016], \"mode\": \"markers\", \"marker\": {\"color\": \"rgb(186,85,84)\", \"size\": 10}, \"name\": \"point\"}]}, {\"data\": [{\"x\": [2.9797979797979792], \"y\": [8.879196000408118], \"mode\": \"markers\", \"marker\": {\"color\": \"rgb(186,85,84)\", \"size\": 10}, \"name\": \"point\"}]}, {\"data\": [{\"x\": [3.0808080808080813], \"y\": [9.491378430772373], \"mode\": \"markers\", \"marker\": {\"color\": \"rgb(186,85,84)\", \"size\": 10}, \"name\": \"point\"}]}, {\"data\": [{\"x\": [3.1818181818181817], \"y\": [10.12396694214876], \"mode\": \"markers\", \"marker\": {\"color\": \"rgb(186,85,84)\", \"size\": 10}, \"name\": \"point\"}]}, {\"data\": [{\"x\": [3.282828282828282], \"y\": [10.776961534537287], \"mode\": \"markers\", \"marker\": {\"color\": \"rgb(186,85,84)\", \"size\": 10}, \"name\": \"point\"}]}, {\"data\": [{\"x\": [3.383838383838384], \"y\": [11.450362207937967], \"mode\": \"markers\", \"marker\": {\"color\": \"rgb(186,85,84)\", \"size\": 10}, \"name\": \"point\"}]}, {\"data\": [{\"x\": [3.4848484848484844], \"y\": [12.144168962350777], \"mode\": \"markers\", \"marker\": {\"color\": \"rgb(186,85,84)\", \"size\": 10}, \"name\": \"point\"}]}, {\"data\": [{\"x\": [3.5858585858585865], \"y\": [12.858381797775742], \"mode\": \"markers\", \"marker\": {\"color\": \"rgb(186,85,84)\", \"size\": 10}, \"name\": \"point\"}]}, {\"data\": [{\"x\": [3.686868686868687], \"y\": [13.593000714212835], \"mode\": \"markers\", \"marker\": {\"color\": \"rgb(186,85,84)\", \"size\": 10}, \"name\": \"point\"}]}, {\"data\": [{\"x\": [3.787878787878787], \"y\": [14.34802571166207], \"mode\": \"markers\", \"marker\": {\"color\": \"rgb(186,85,84)\", \"size\": 10}, \"name\": \"point\"}]}, {\"data\": [{\"x\": [3.8888888888888893], \"y\": [15.12345679012346], \"mode\": \"markers\", \"marker\": {\"color\": \"rgb(186,85,84)\", \"size\": 10}, \"name\": \"point\"}]}, {\"data\": [{\"x\": [3.9898989898989896], \"y\": [15.919293949596977], \"mode\": \"markers\", \"marker\": {\"color\": \"rgb(186,85,84)\", \"size\": 10}, \"name\": \"point\"}]}, {\"data\": [{\"x\": [4.09090909090909], \"y\": [16.73553719008264], \"mode\": \"markers\", \"marker\": {\"color\": \"rgb(186,85,84)\", \"size\": 10}, \"name\": \"point\"}]}, {\"data\": [{\"x\": [4.191919191919192], \"y\": [17.57218651158045], \"mode\": \"markers\", \"marker\": {\"color\": \"rgb(186,85,84)\", \"size\": 10}, \"name\": \"point\"}]}, {\"data\": [{\"x\": [4.292929292929292], \"y\": [18.429241914090394], \"mode\": \"markers\", \"marker\": {\"color\": \"rgb(186,85,84)\", \"size\": 10}, \"name\": \"point\"}]}, {\"data\": [{\"x\": [4.3939393939393945], \"y\": [19.306703397612495], \"mode\": \"markers\", \"marker\": {\"color\": \"rgb(186,85,84)\", \"size\": 10}, \"name\": \"point\"}]}, {\"data\": [{\"x\": [4.494949494949495], \"y\": [20.204570962146718], \"mode\": \"markers\", \"marker\": {\"color\": \"rgb(186,85,84)\", \"size\": 10}, \"name\": \"point\"}]}, {\"data\": [{\"x\": [4.595959595959595], \"y\": [21.122844607693086], \"mode\": \"markers\", \"marker\": {\"color\": \"rgb(186,85,84)\", \"size\": 10}, \"name\": \"point\"}]}, {\"data\": [{\"x\": [4.696969696969697], \"y\": [22.061524334251608], \"mode\": \"markers\", \"marker\": {\"color\": \"rgb(186,85,84)\", \"size\": 10}, \"name\": \"point\"}]}, {\"data\": [{\"x\": [4.797979797979798], \"y\": [23.02061014182226], \"mode\": \"markers\", \"marker\": {\"color\": \"rgb(186,85,84)\", \"size\": 10}, \"name\": \"point\"}]}, {\"data\": [{\"x\": [4.8989898989899], \"y\": [24.000102030405067], \"mode\": \"markers\", \"marker\": {\"color\": \"rgb(186,85,84)\", \"size\": 10}, \"name\": \"point\"}]}, {\"data\": [{\"x\": [5.0], \"y\": [25.0], \"mode\": \"markers\", \"marker\": {\"color\": \"rgb(186,85,84)\", \"size\": 10}, \"name\": \"point\"}]}]);}).then(function(){Plotly.animate('5130c4df-75a7-406a-8226-694ffd537844');})\n",
       "        });</script>"
      ],
      "text/vnd.plotly.v1+html": [
       "<div id=\"5130c4df-75a7-406a-8226-694ffd537844\" style=\"height: 525px; width: 100%;\" class=\"plotly-graph-div\"></div><script type=\"text/javascript\">require([\"plotly\"], function(Plotly) { window.PLOTLYENV=window.PLOTLYENV || {};window.PLOTLYENV.BASE_URL=\"https://plot.ly\";\n",
       "        Plotly.plot(\n",
       "            '5130c4df-75a7-406a-8226-694ffd537844',\n",
       "            [{\"x\": [-5.0, -4.898989898989899, -4.797979797979798, -4.696969696969697, -4.595959595959596, -4.494949494949495, -4.393939393939394, -4.292929292929293, -4.191919191919192, -4.090909090909091, -3.9898989898989896, -3.888888888888889, -3.787878787878788, -3.686868686868687, -3.5858585858585856, -3.484848484848485, -3.383838383838384, -3.282828282828283, -3.1818181818181817, -3.080808080808081, -2.9797979797979797, -2.878787878787879, -2.7777777777777777, -2.676767676767677, -2.5757575757575757, -2.474747474747475, -2.3737373737373737, -2.272727272727273, -2.1717171717171717, -2.070707070707071, -1.9696969696969697, -1.868686868686869, -1.7676767676767677, -1.6666666666666665, -1.5656565656565657, -1.4646464646464645, -1.3636363636363638, -1.2626262626262625, -1.1616161616161618, -1.0606060606060606, -0.9595959595959593, -0.858585858585859, -0.7575757575757578, -0.6565656565656566, -0.5555555555555554, -0.45454545454545503, -0.3535353535353538, -0.2525252525252526, -0.15151515151515138, -0.050505050505050164, 0.050505050505050164, 0.15151515151515138, 0.2525252525252526, 0.3535353535353538, 0.45454545454545414, 0.5555555555555554, 0.6565656565656566, 0.7575757575757578, 0.8585858585858581, 0.9595959595959593, 1.0606060606060606, 1.1616161616161618, 1.262626262626262, 1.3636363636363633, 1.4646464646464645, 1.5656565656565657, 1.666666666666667, 1.7676767676767673, 1.8686868686868685, 1.9696969696969697, 2.070707070707071, 2.1717171717171713, 2.2727272727272725, 2.3737373737373737, 2.474747474747475, 2.5757575757575752, 2.6767676767676765, 2.7777777777777777, 2.878787878787879, 2.9797979797979792, 3.0808080808080813, 3.1818181818181817, 3.282828282828282, 3.383838383838384, 3.4848484848484844, 3.5858585858585865, 3.686868686868687, 3.787878787878787, 3.8888888888888893, 3.9898989898989896, 4.09090909090909, 4.191919191919192, 4.292929292929292, 4.3939393939393945, 4.494949494949495, 4.595959595959595, 4.696969696969697, 4.797979797979798, 4.8989898989899, 5.0], \"y\": [25.0, 24.00010203040506, 23.02061014182226, 22.061524334251608, 21.122844607693093, 20.204570962146718, 19.306703397612484, 18.4292419140904, 17.57218651158045, 16.735537190082646, 15.919293949596977, 15.123456790123456, 14.348025711662077, 13.593000714212835, 12.858381797775735, 12.144168962350781, 11.450362207937967, 10.776961534537293, 10.12396694214876, 9.49137843077237, 8.87919600040812, 8.287419651056016, 7.716049382716049, 7.165085195388227, 6.634527089072543, 6.124375063769004, 5.634629119477604, 5.165289256198348, 4.716355473931231, 4.287827772676258, 3.879706152433425, 3.491990613202735, 3.1246811549841853, 2.7777777777777772, 2.4512804815835123, 2.1451892664013874, 1.8595041322314052, 1.5942250790735637, 1.349352106927865, 1.1248852157943066, 0.92082440567289, 0.7371696765636166, 0.5739210284664833, 0.4310784613814917, 0.30864197530864174, 0.20661157024793433, 0.1249872461993676, 0.0637690031629426, 0.02295684113865928, 0.002550760126517668, 0.002550760126517668, 0.02295684113865928, 0.0637690031629426, 0.1249872461993676, 0.20661157024793353, 0.30864197530864174, 0.4310784613814917, 0.5739210284664833, 0.7371696765636152, 0.92082440567289, 1.1248852157943066, 1.349352106927865, 1.5942250790735626, 1.859504132231404, 2.1451892664013874, 2.4512804815835123, 2.7777777777777786, 3.124681154984184, 3.491990613202734, 3.879706152433425, 4.287827772676258, 4.7163554739312294, 5.165289256198346, 5.634629119477604, 6.124375063769004, 6.634527089072541, 7.165085195388224, 7.716049382716049, 8.287419651056016, 8.879196000408118, 9.491378430772373, 10.12396694214876, 10.776961534537287, 11.450362207937967, 12.144168962350777, 12.858381797775742, 13.593000714212835, 14.34802571166207, 15.12345679012346, 15.919293949596977, 16.73553719008264, 17.57218651158045, 18.429241914090394, 19.306703397612495, 20.204570962146718, 21.122844607693086, 22.061524334251608, 23.02061014182226, 24.000102030405067, 25.0], \"mode\": \"lines\", \"line\": {\"width\": 1, \"color\": \"rgb(120,166,189)\"}, \"name\": \"line\"}, {\"x\": [-5.0, -4.898989898989899, -4.797979797979798, -4.696969696969697, -4.595959595959596, -4.494949494949495, -4.393939393939394, -4.292929292929293, -4.191919191919192, -4.090909090909091, -3.9898989898989896, -3.888888888888889, -3.787878787878788, -3.686868686868687, -3.5858585858585856, -3.484848484848485, -3.383838383838384, -3.282828282828283, -3.1818181818181817, -3.080808080808081, -2.9797979797979797, -2.878787878787879, -2.7777777777777777, -2.676767676767677, -2.5757575757575757, -2.474747474747475, -2.3737373737373737, -2.272727272727273, -2.1717171717171717, -2.070707070707071, -1.9696969696969697, -1.868686868686869, -1.7676767676767677, -1.6666666666666665, -1.5656565656565657, -1.4646464646464645, -1.3636363636363638, -1.2626262626262625, -1.1616161616161618, -1.0606060606060606, -0.9595959595959593, -0.858585858585859, -0.7575757575757578, -0.6565656565656566, -0.5555555555555554, -0.45454545454545503, -0.3535353535353538, -0.2525252525252526, -0.15151515151515138, -0.050505050505050164, 0.050505050505050164, 0.15151515151515138, 0.2525252525252526, 0.3535353535353538, 0.45454545454545414, 0.5555555555555554, 0.6565656565656566, 0.7575757575757578, 0.8585858585858581, 0.9595959595959593, 1.0606060606060606, 1.1616161616161618, 1.262626262626262, 1.3636363636363633, 1.4646464646464645, 1.5656565656565657, 1.666666666666667, 1.7676767676767673, 1.8686868686868685, 1.9696969696969697, 2.070707070707071, 2.1717171717171713, 2.2727272727272725, 2.3737373737373737, 2.474747474747475, 2.5757575757575752, 2.6767676767676765, 2.7777777777777777, 2.878787878787879, 2.9797979797979792, 3.0808080808080813, 3.1818181818181817, 3.282828282828282, 3.383838383838384, 3.4848484848484844, 3.5858585858585865, 3.686868686868687, 3.787878787878787, 3.8888888888888893, 3.9898989898989896, 4.09090909090909, 4.191919191919192, 4.292929292929292, 4.3939393939393945, 4.494949494949495, 4.595959595959595, 4.696969696969697, 4.797979797979798, 4.8989898989899, 5.0], \"y\": [25.0, 24.00010203040506, 23.02061014182226, 22.061524334251608, 21.122844607693093, 20.204570962146718, 19.306703397612484, 18.4292419140904, 17.57218651158045, 16.735537190082646, 15.919293949596977, 15.123456790123456, 14.348025711662077, 13.593000714212835, 12.858381797775735, 12.144168962350781, 11.450362207937967, 10.776961534537293, 10.12396694214876, 9.49137843077237, 8.87919600040812, 8.287419651056016, 7.716049382716049, 7.165085195388227, 6.634527089072543, 6.124375063769004, 5.634629119477604, 5.165289256198348, 4.716355473931231, 4.287827772676258, 3.879706152433425, 3.491990613202735, 3.1246811549841853, 2.7777777777777772, 2.4512804815835123, 2.1451892664013874, 1.8595041322314052, 1.5942250790735637, 1.349352106927865, 1.1248852157943066, 0.92082440567289, 0.7371696765636166, 0.5739210284664833, 0.4310784613814917, 0.30864197530864174, 0.20661157024793433, 0.1249872461993676, 0.0637690031629426, 0.02295684113865928, 0.002550760126517668, 0.002550760126517668, 0.02295684113865928, 0.0637690031629426, 0.1249872461993676, 0.20661157024793353, 0.30864197530864174, 0.4310784613814917, 0.5739210284664833, 0.7371696765636152, 0.92082440567289, 1.1248852157943066, 1.349352106927865, 1.5942250790735626, 1.859504132231404, 2.1451892664013874, 2.4512804815835123, 2.7777777777777786, 3.124681154984184, 3.491990613202734, 3.879706152433425, 4.287827772676258, 4.7163554739312294, 5.165289256198346, 5.634629119477604, 6.124375063769004, 6.634527089072541, 7.165085195388224, 7.716049382716049, 8.287419651056016, 8.879196000408118, 9.491378430772373, 10.12396694214876, 10.776961534537287, 11.450362207937967, 12.144168962350777, 12.858381797775742, 13.593000714212835, 14.34802571166207, 15.12345679012346, 15.919293949596977, 16.73553719008264, 17.57218651158045, 18.429241914090394, 19.306703397612495, 20.204570962146718, 21.122844607693086, 22.061524334251608, 23.02061014182226, 24.000102030405067, 25.0], \"mode\": \"lines\", \"line\": {\"width\": 1, \"color\": \"rgb(120,166,189)\"}, \"name\": \"line\"}],\n",
       "            {\"xaxis\": {\"range\": [-10.0, 10.0], \"autorange\": false, \"zeroline\": true, \"title\": \"$y = x^2$\"}, \"yaxis\": {\"range\": [-4.997449239873482, 30.0], \"autorange\": false, \"zeroline\": true}, \"title\": \"Quadratic equation Curve with Moving Point\", \"updatemenus\": [{\"type\": \"buttons\", \"buttons\": [{\"label\": \"Play\", \"method\": \"animate\", \"args\": [null]}]}], \"showlegend\": false},\n",
       "            {\"showLink\": true, \"linkText\": \"Export to plot.ly\"}\n",
       "        ).then(function () {return Plotly.addFrames('5130c4df-75a7-406a-8226-694ffd537844',[{\"data\": [{\"x\": [-5.0], \"y\": [25.0], \"mode\": \"markers\", \"marker\": {\"color\": \"rgb(186,85,84)\", \"size\": 10}, \"name\": \"point\"}]}, {\"data\": [{\"x\": [-4.898989898989899], \"y\": [24.00010203040506], \"mode\": \"markers\", \"marker\": {\"color\": \"rgb(186,85,84)\", \"size\": 10}, \"name\": \"point\"}]}, {\"data\": [{\"x\": [-4.797979797979798], \"y\": [23.02061014182226], \"mode\": \"markers\", \"marker\": {\"color\": \"rgb(186,85,84)\", \"size\": 10}, \"name\": \"point\"}]}, {\"data\": [{\"x\": [-4.696969696969697], \"y\": [22.061524334251608], \"mode\": \"markers\", \"marker\": {\"color\": \"rgb(186,85,84)\", \"size\": 10}, \"name\": \"point\"}]}, {\"data\": [{\"x\": [-4.595959595959596], \"y\": [21.122844607693093], \"mode\": \"markers\", \"marker\": {\"color\": \"rgb(186,85,84)\", \"size\": 10}, \"name\": \"point\"}]}, {\"data\": [{\"x\": [-4.494949494949495], \"y\": [20.204570962146718], \"mode\": \"markers\", \"marker\": {\"color\": \"rgb(186,85,84)\", \"size\": 10}, \"name\": \"point\"}]}, {\"data\": [{\"x\": [-4.393939393939394], \"y\": [19.306703397612484], \"mode\": \"markers\", \"marker\": {\"color\": \"rgb(186,85,84)\", \"size\": 10}, \"name\": \"point\"}]}, {\"data\": [{\"x\": [-4.292929292929293], \"y\": [18.4292419140904], \"mode\": \"markers\", \"marker\": {\"color\": \"rgb(186,85,84)\", \"size\": 10}, \"name\": \"point\"}]}, {\"data\": [{\"x\": [-4.191919191919192], \"y\": [17.57218651158045], \"mode\": \"markers\", \"marker\": {\"color\": \"rgb(186,85,84)\", \"size\": 10}, \"name\": \"point\"}]}, {\"data\": [{\"x\": [-4.090909090909091], \"y\": [16.735537190082646], \"mode\": \"markers\", \"marker\": {\"color\": \"rgb(186,85,84)\", \"size\": 10}, \"name\": \"point\"}]}, {\"data\": [{\"x\": [-3.9898989898989896], \"y\": [15.919293949596977], \"mode\": \"markers\", \"marker\": {\"color\": \"rgb(186,85,84)\", \"size\": 10}, \"name\": \"point\"}]}, {\"data\": [{\"x\": [-3.888888888888889], \"y\": [15.123456790123456], \"mode\": \"markers\", \"marker\": {\"color\": \"rgb(186,85,84)\", \"size\": 10}, \"name\": \"point\"}]}, {\"data\": [{\"x\": [-3.787878787878788], \"y\": [14.348025711662077], \"mode\": \"markers\", \"marker\": {\"color\": \"rgb(186,85,84)\", \"size\": 10}, \"name\": \"point\"}]}, {\"data\": [{\"x\": [-3.686868686868687], \"y\": [13.593000714212835], \"mode\": \"markers\", \"marker\": {\"color\": \"rgb(186,85,84)\", \"size\": 10}, \"name\": \"point\"}]}, {\"data\": [{\"x\": [-3.5858585858585856], \"y\": [12.858381797775735], \"mode\": \"markers\", \"marker\": {\"color\": \"rgb(186,85,84)\", \"size\": 10}, \"name\": \"point\"}]}, {\"data\": [{\"x\": [-3.484848484848485], \"y\": [12.144168962350781], \"mode\": \"markers\", \"marker\": {\"color\": \"rgb(186,85,84)\", \"size\": 10}, \"name\": \"point\"}]}, {\"data\": [{\"x\": [-3.383838383838384], \"y\": [11.450362207937967], \"mode\": \"markers\", \"marker\": {\"color\": \"rgb(186,85,84)\", \"size\": 10}, \"name\": \"point\"}]}, {\"data\": [{\"x\": [-3.282828282828283], \"y\": [10.776961534537293], \"mode\": \"markers\", \"marker\": {\"color\": \"rgb(186,85,84)\", \"size\": 10}, \"name\": \"point\"}]}, {\"data\": [{\"x\": [-3.1818181818181817], \"y\": [10.12396694214876], \"mode\": \"markers\", \"marker\": {\"color\": \"rgb(186,85,84)\", \"size\": 10}, \"name\": \"point\"}]}, {\"data\": [{\"x\": [-3.080808080808081], \"y\": [9.49137843077237], \"mode\": \"markers\", \"marker\": {\"color\": \"rgb(186,85,84)\", \"size\": 10}, \"name\": \"point\"}]}, {\"data\": [{\"x\": [-2.9797979797979797], \"y\": [8.87919600040812], \"mode\": \"markers\", \"marker\": {\"color\": \"rgb(186,85,84)\", \"size\": 10}, \"name\": \"point\"}]}, {\"data\": [{\"x\": [-2.878787878787879], \"y\": [8.287419651056016], \"mode\": \"markers\", \"marker\": {\"color\": \"rgb(186,85,84)\", \"size\": 10}, \"name\": \"point\"}]}, {\"data\": [{\"x\": [-2.7777777777777777], \"y\": [7.716049382716049], \"mode\": \"markers\", \"marker\": {\"color\": \"rgb(186,85,84)\", \"size\": 10}, \"name\": \"point\"}]}, {\"data\": [{\"x\": [-2.676767676767677], \"y\": [7.165085195388227], \"mode\": \"markers\", \"marker\": {\"color\": \"rgb(186,85,84)\", \"size\": 10}, \"name\": \"point\"}]}, {\"data\": [{\"x\": [-2.5757575757575757], \"y\": [6.634527089072543], \"mode\": \"markers\", \"marker\": {\"color\": \"rgb(186,85,84)\", \"size\": 10}, \"name\": \"point\"}]}, {\"data\": [{\"x\": [-2.474747474747475], \"y\": [6.124375063769004], \"mode\": \"markers\", \"marker\": {\"color\": \"rgb(186,85,84)\", \"size\": 10}, \"name\": \"point\"}]}, {\"data\": [{\"x\": [-2.3737373737373737], \"y\": [5.634629119477604], \"mode\": \"markers\", \"marker\": {\"color\": \"rgb(186,85,84)\", \"size\": 10}, \"name\": \"point\"}]}, {\"data\": [{\"x\": [-2.272727272727273], \"y\": [5.165289256198348], \"mode\": \"markers\", \"marker\": {\"color\": \"rgb(186,85,84)\", \"size\": 10}, \"name\": \"point\"}]}, {\"data\": [{\"x\": [-2.1717171717171717], \"y\": [4.716355473931231], \"mode\": \"markers\", \"marker\": {\"color\": \"rgb(186,85,84)\", \"size\": 10}, \"name\": \"point\"}]}, {\"data\": [{\"x\": [-2.070707070707071], \"y\": [4.287827772676258], \"mode\": \"markers\", \"marker\": {\"color\": \"rgb(186,85,84)\", \"size\": 10}, \"name\": \"point\"}]}, {\"data\": [{\"x\": [-1.9696969696969697], \"y\": [3.879706152433425], \"mode\": \"markers\", \"marker\": {\"color\": \"rgb(186,85,84)\", \"size\": 10}, \"name\": \"point\"}]}, {\"data\": [{\"x\": [-1.868686868686869], \"y\": [3.491990613202735], \"mode\": \"markers\", \"marker\": {\"color\": \"rgb(186,85,84)\", \"size\": 10}, \"name\": \"point\"}]}, {\"data\": [{\"x\": [-1.7676767676767677], \"y\": [3.1246811549841853], \"mode\": \"markers\", \"marker\": {\"color\": \"rgb(186,85,84)\", \"size\": 10}, \"name\": \"point\"}]}, {\"data\": [{\"x\": [-1.6666666666666665], \"y\": [2.7777777777777772], \"mode\": \"markers\", \"marker\": {\"color\": \"rgb(186,85,84)\", \"size\": 10}, \"name\": \"point\"}]}, {\"data\": [{\"x\": [-1.5656565656565657], \"y\": [2.4512804815835123], \"mode\": \"markers\", \"marker\": {\"color\": \"rgb(186,85,84)\", \"size\": 10}, \"name\": \"point\"}]}, {\"data\": [{\"x\": [-1.4646464646464645], \"y\": [2.1451892664013874], \"mode\": \"markers\", \"marker\": {\"color\": \"rgb(186,85,84)\", \"size\": 10}, \"name\": \"point\"}]}, {\"data\": [{\"x\": [-1.3636363636363638], \"y\": [1.8595041322314052], \"mode\": \"markers\", \"marker\": {\"color\": \"rgb(186,85,84)\", \"size\": 10}, \"name\": \"point\"}]}, {\"data\": [{\"x\": [-1.2626262626262625], \"y\": [1.5942250790735637], \"mode\": \"markers\", \"marker\": {\"color\": \"rgb(186,85,84)\", \"size\": 10}, \"name\": \"point\"}]}, {\"data\": [{\"x\": [-1.1616161616161618], \"y\": [1.349352106927865], \"mode\": \"markers\", \"marker\": {\"color\": \"rgb(186,85,84)\", \"size\": 10}, \"name\": \"point\"}]}, {\"data\": [{\"x\": [-1.0606060606060606], \"y\": [1.1248852157943066], \"mode\": \"markers\", \"marker\": {\"color\": \"rgb(186,85,84)\", \"size\": 10}, \"name\": \"point\"}]}, {\"data\": [{\"x\": [-0.9595959595959593], \"y\": [0.92082440567289], \"mode\": \"markers\", \"marker\": {\"color\": \"rgb(186,85,84)\", \"size\": 10}, \"name\": \"point\"}]}, {\"data\": [{\"x\": [-0.858585858585859], \"y\": [0.7371696765636166], \"mode\": \"markers\", \"marker\": {\"color\": \"rgb(186,85,84)\", \"size\": 10}, \"name\": \"point\"}]}, {\"data\": [{\"x\": [-0.7575757575757578], \"y\": [0.5739210284664833], \"mode\": \"markers\", \"marker\": {\"color\": \"rgb(186,85,84)\", \"size\": 10}, \"name\": \"point\"}]}, {\"data\": [{\"x\": [-0.6565656565656566], \"y\": [0.4310784613814917], \"mode\": \"markers\", \"marker\": {\"color\": \"rgb(186,85,84)\", \"size\": 10}, \"name\": \"point\"}]}, {\"data\": [{\"x\": [-0.5555555555555554], \"y\": [0.30864197530864174], \"mode\": \"markers\", \"marker\": {\"color\": \"rgb(186,85,84)\", \"size\": 10}, \"name\": \"point\"}]}, {\"data\": [{\"x\": [-0.45454545454545503], \"y\": [0.20661157024793433], \"mode\": \"markers\", \"marker\": {\"color\": \"rgb(186,85,84)\", \"size\": 10}, \"name\": \"point\"}]}, {\"data\": [{\"x\": [-0.3535353535353538], \"y\": [0.1249872461993676], \"mode\": \"markers\", \"marker\": {\"color\": \"rgb(186,85,84)\", \"size\": 10}, \"name\": \"point\"}]}, {\"data\": [{\"x\": [-0.2525252525252526], \"y\": [0.0637690031629426], \"mode\": \"markers\", \"marker\": {\"color\": \"rgb(186,85,84)\", \"size\": 10}, \"name\": \"point\"}]}, {\"data\": [{\"x\": [-0.15151515151515138], \"y\": [0.02295684113865928], \"mode\": \"markers\", \"marker\": {\"color\": \"rgb(186,85,84)\", \"size\": 10}, \"name\": \"point\"}]}, {\"data\": [{\"x\": [-0.050505050505050164], \"y\": [0.002550760126517668], \"mode\": \"markers\", \"marker\": {\"color\": \"rgb(186,85,84)\", \"size\": 10}, \"name\": \"point\"}]}, {\"data\": [{\"x\": [0.050505050505050164], \"y\": [0.002550760126517668], \"mode\": \"markers\", \"marker\": {\"color\": \"rgb(186,85,84)\", \"size\": 10}, \"name\": \"point\"}]}, {\"data\": [{\"x\": [0.15151515151515138], \"y\": [0.02295684113865928], \"mode\": \"markers\", \"marker\": {\"color\": \"rgb(186,85,84)\", \"size\": 10}, \"name\": \"point\"}]}, {\"data\": [{\"x\": [0.2525252525252526], \"y\": [0.0637690031629426], \"mode\": \"markers\", \"marker\": {\"color\": \"rgb(186,85,84)\", \"size\": 10}, \"name\": \"point\"}]}, {\"data\": [{\"x\": [0.3535353535353538], \"y\": [0.1249872461993676], \"mode\": \"markers\", \"marker\": {\"color\": \"rgb(186,85,84)\", \"size\": 10}, \"name\": \"point\"}]}, {\"data\": [{\"x\": [0.45454545454545414], \"y\": [0.20661157024793353], \"mode\": \"markers\", \"marker\": {\"color\": \"rgb(186,85,84)\", \"size\": 10}, \"name\": \"point\"}]}, {\"data\": [{\"x\": [0.5555555555555554], \"y\": [0.30864197530864174], \"mode\": \"markers\", \"marker\": {\"color\": \"rgb(186,85,84)\", \"size\": 10}, \"name\": \"point\"}]}, {\"data\": [{\"x\": [0.6565656565656566], \"y\": [0.4310784613814917], \"mode\": \"markers\", \"marker\": {\"color\": \"rgb(186,85,84)\", \"size\": 10}, \"name\": \"point\"}]}, {\"data\": [{\"x\": [0.7575757575757578], \"y\": [0.5739210284664833], \"mode\": \"markers\", \"marker\": {\"color\": \"rgb(186,85,84)\", \"size\": 10}, \"name\": \"point\"}]}, {\"data\": [{\"x\": [0.8585858585858581], \"y\": [0.7371696765636152], \"mode\": \"markers\", \"marker\": {\"color\": \"rgb(186,85,84)\", \"size\": 10}, \"name\": \"point\"}]}, {\"data\": [{\"x\": [0.9595959595959593], \"y\": [0.92082440567289], \"mode\": \"markers\", \"marker\": {\"color\": \"rgb(186,85,84)\", \"size\": 10}, \"name\": \"point\"}]}, {\"data\": [{\"x\": [1.0606060606060606], \"y\": [1.1248852157943066], \"mode\": \"markers\", \"marker\": {\"color\": \"rgb(186,85,84)\", \"size\": 10}, \"name\": \"point\"}]}, {\"data\": [{\"x\": [1.1616161616161618], \"y\": [1.349352106927865], \"mode\": \"markers\", \"marker\": {\"color\": \"rgb(186,85,84)\", \"size\": 10}, \"name\": \"point\"}]}, {\"data\": [{\"x\": [1.262626262626262], \"y\": [1.5942250790735626], \"mode\": \"markers\", \"marker\": {\"color\": \"rgb(186,85,84)\", \"size\": 10}, \"name\": \"point\"}]}, {\"data\": [{\"x\": [1.3636363636363633], \"y\": [1.859504132231404], \"mode\": \"markers\", \"marker\": {\"color\": \"rgb(186,85,84)\", \"size\": 10}, \"name\": \"point\"}]}, {\"data\": [{\"x\": [1.4646464646464645], \"y\": [2.1451892664013874], \"mode\": \"markers\", \"marker\": {\"color\": \"rgb(186,85,84)\", \"size\": 10}, \"name\": \"point\"}]}, {\"data\": [{\"x\": [1.5656565656565657], \"y\": [2.4512804815835123], \"mode\": \"markers\", \"marker\": {\"color\": \"rgb(186,85,84)\", \"size\": 10}, \"name\": \"point\"}]}, {\"data\": [{\"x\": [1.666666666666667], \"y\": [2.7777777777777786], \"mode\": \"markers\", \"marker\": {\"color\": \"rgb(186,85,84)\", \"size\": 10}, \"name\": \"point\"}]}, {\"data\": [{\"x\": [1.7676767676767673], \"y\": [3.124681154984184], \"mode\": \"markers\", \"marker\": {\"color\": \"rgb(186,85,84)\", \"size\": 10}, \"name\": \"point\"}]}, {\"data\": [{\"x\": [1.8686868686868685], \"y\": [3.491990613202734], \"mode\": \"markers\", \"marker\": {\"color\": \"rgb(186,85,84)\", \"size\": 10}, \"name\": \"point\"}]}, {\"data\": [{\"x\": [1.9696969696969697], \"y\": [3.879706152433425], \"mode\": \"markers\", \"marker\": {\"color\": \"rgb(186,85,84)\", \"size\": 10}, \"name\": \"point\"}]}, {\"data\": [{\"x\": [2.070707070707071], \"y\": [4.287827772676258], \"mode\": \"markers\", \"marker\": {\"color\": \"rgb(186,85,84)\", \"size\": 10}, \"name\": \"point\"}]}, {\"data\": [{\"x\": [2.1717171717171713], \"y\": [4.7163554739312294], \"mode\": \"markers\", \"marker\": {\"color\": \"rgb(186,85,84)\", \"size\": 10}, \"name\": \"point\"}]}, {\"data\": [{\"x\": [2.2727272727272725], \"y\": [5.165289256198346], \"mode\": \"markers\", \"marker\": {\"color\": \"rgb(186,85,84)\", \"size\": 10}, \"name\": \"point\"}]}, {\"data\": [{\"x\": [2.3737373737373737], \"y\": [5.634629119477604], \"mode\": \"markers\", \"marker\": {\"color\": \"rgb(186,85,84)\", \"size\": 10}, \"name\": \"point\"}]}, {\"data\": [{\"x\": [2.474747474747475], \"y\": [6.124375063769004], \"mode\": \"markers\", \"marker\": {\"color\": \"rgb(186,85,84)\", \"size\": 10}, \"name\": \"point\"}]}, {\"data\": [{\"x\": [2.5757575757575752], \"y\": [6.634527089072541], \"mode\": \"markers\", \"marker\": {\"color\": \"rgb(186,85,84)\", \"size\": 10}, \"name\": \"point\"}]}, {\"data\": [{\"x\": [2.6767676767676765], \"y\": [7.165085195388224], \"mode\": \"markers\", \"marker\": {\"color\": \"rgb(186,85,84)\", \"size\": 10}, \"name\": \"point\"}]}, {\"data\": [{\"x\": [2.7777777777777777], \"y\": [7.716049382716049], \"mode\": \"markers\", \"marker\": {\"color\": \"rgb(186,85,84)\", \"size\": 10}, \"name\": \"point\"}]}, {\"data\": [{\"x\": [2.878787878787879], \"y\": [8.287419651056016], \"mode\": \"markers\", \"marker\": {\"color\": \"rgb(186,85,84)\", \"size\": 10}, \"name\": \"point\"}]}, {\"data\": [{\"x\": [2.9797979797979792], \"y\": [8.879196000408118], \"mode\": \"markers\", \"marker\": {\"color\": \"rgb(186,85,84)\", \"size\": 10}, \"name\": \"point\"}]}, {\"data\": [{\"x\": [3.0808080808080813], \"y\": [9.491378430772373], \"mode\": \"markers\", \"marker\": {\"color\": \"rgb(186,85,84)\", \"size\": 10}, \"name\": \"point\"}]}, {\"data\": [{\"x\": [3.1818181818181817], \"y\": [10.12396694214876], \"mode\": \"markers\", \"marker\": {\"color\": \"rgb(186,85,84)\", \"size\": 10}, \"name\": \"point\"}]}, {\"data\": [{\"x\": [3.282828282828282], \"y\": [10.776961534537287], \"mode\": \"markers\", \"marker\": {\"color\": \"rgb(186,85,84)\", \"size\": 10}, \"name\": \"point\"}]}, {\"data\": [{\"x\": [3.383838383838384], \"y\": [11.450362207937967], \"mode\": \"markers\", \"marker\": {\"color\": \"rgb(186,85,84)\", \"size\": 10}, \"name\": \"point\"}]}, {\"data\": [{\"x\": [3.4848484848484844], \"y\": [12.144168962350777], \"mode\": \"markers\", \"marker\": {\"color\": \"rgb(186,85,84)\", \"size\": 10}, \"name\": \"point\"}]}, {\"data\": [{\"x\": [3.5858585858585865], \"y\": [12.858381797775742], \"mode\": \"markers\", \"marker\": {\"color\": \"rgb(186,85,84)\", \"size\": 10}, \"name\": \"point\"}]}, {\"data\": [{\"x\": [3.686868686868687], \"y\": [13.593000714212835], \"mode\": \"markers\", \"marker\": {\"color\": \"rgb(186,85,84)\", \"size\": 10}, \"name\": \"point\"}]}, {\"data\": [{\"x\": [3.787878787878787], \"y\": [14.34802571166207], \"mode\": \"markers\", \"marker\": {\"color\": \"rgb(186,85,84)\", \"size\": 10}, \"name\": \"point\"}]}, {\"data\": [{\"x\": [3.8888888888888893], \"y\": [15.12345679012346], \"mode\": \"markers\", \"marker\": {\"color\": \"rgb(186,85,84)\", \"size\": 10}, \"name\": \"point\"}]}, {\"data\": [{\"x\": [3.9898989898989896], \"y\": [15.919293949596977], \"mode\": \"markers\", \"marker\": {\"color\": \"rgb(186,85,84)\", \"size\": 10}, \"name\": \"point\"}]}, {\"data\": [{\"x\": [4.09090909090909], \"y\": [16.73553719008264], \"mode\": \"markers\", \"marker\": {\"color\": \"rgb(186,85,84)\", \"size\": 10}, \"name\": \"point\"}]}, {\"data\": [{\"x\": [4.191919191919192], \"y\": [17.57218651158045], \"mode\": \"markers\", \"marker\": {\"color\": \"rgb(186,85,84)\", \"size\": 10}, \"name\": \"point\"}]}, {\"data\": [{\"x\": [4.292929292929292], \"y\": [18.429241914090394], \"mode\": \"markers\", \"marker\": {\"color\": \"rgb(186,85,84)\", \"size\": 10}, \"name\": \"point\"}]}, {\"data\": [{\"x\": [4.3939393939393945], \"y\": [19.306703397612495], \"mode\": \"markers\", \"marker\": {\"color\": \"rgb(186,85,84)\", \"size\": 10}, \"name\": \"point\"}]}, {\"data\": [{\"x\": [4.494949494949495], \"y\": [20.204570962146718], \"mode\": \"markers\", \"marker\": {\"color\": \"rgb(186,85,84)\", \"size\": 10}, \"name\": \"point\"}]}, {\"data\": [{\"x\": [4.595959595959595], \"y\": [21.122844607693086], \"mode\": \"markers\", \"marker\": {\"color\": \"rgb(186,85,84)\", \"size\": 10}, \"name\": \"point\"}]}, {\"data\": [{\"x\": [4.696969696969697], \"y\": [22.061524334251608], \"mode\": \"markers\", \"marker\": {\"color\": \"rgb(186,85,84)\", \"size\": 10}, \"name\": \"point\"}]}, {\"data\": [{\"x\": [4.797979797979798], \"y\": [23.02061014182226], \"mode\": \"markers\", \"marker\": {\"color\": \"rgb(186,85,84)\", \"size\": 10}, \"name\": \"point\"}]}, {\"data\": [{\"x\": [4.8989898989899], \"y\": [24.000102030405067], \"mode\": \"markers\", \"marker\": {\"color\": \"rgb(186,85,84)\", \"size\": 10}, \"name\": \"point\"}]}, {\"data\": [{\"x\": [5.0], \"y\": [25.0], \"mode\": \"markers\", \"marker\": {\"color\": \"rgb(186,85,84)\", \"size\": 10}, \"name\": \"point\"}]}]);}).then(function(){Plotly.animate('5130c4df-75a7-406a-8226-694ffd537844');})\n",
       "        });</script>"
      ]
     },
     "metadata": {},
     "output_type": "display_data"
    }
   ],
   "source": [
    "# ploting a quadratic equation curve and a point moving on the curve\n",
    "\n",
    "from plotly.offline import init_notebook_mode, iplot\n",
    "from IPython.display import HTML\n",
    "import numpy as np\n",
    "\n",
    "# setting offline mode for animation\n",
    "init_notebook_mode(connected=True)\n",
    "\n",
    "# create x and y for formula y = x ^ 2\n",
    "x=np.linspace(-5,5,100)\n",
    "y=x**2\n",
    "# create the maximum and minimum for axis\n",
    "xm=np.min(x)-5\n",
    "xM=np.max(x)+5\n",
    "ym=np.min(y)-5\n",
    "yM=np.max(y)+5\n",
    "\n",
    "# create coordinate for the moving point\n",
    "# as the movement between points are in straight line, the number of steps the animation\n",
    "# is divided into will determine how well the movement fits the curve\n",
    "\n",
    "N=100\n",
    "s=np.linspace(-5,5,N)\n",
    "xx=s\n",
    "yy=s**2\n",
    "\n",
    "\n",
    "data=[\n",
    "      dict(x=x, y=y, \n",
    "           mode='lines', \n",
    "           line=dict(width=1, color='rgb(120,166,189)'),\n",
    "           name = \"line\"\n",
    "          ),\n",
    "    dict(x=x, y=y, \n",
    "           mode='lines', \n",
    "           line=dict(width=1, color='rgb(120,166,189)'),\n",
    "         name = \"line\"\n",
    "          )\n",
    "    ]\n",
    "\n",
    "layout=dict(xaxis=dict(range=[xm, xM], autorange=False, zeroline=True,\n",
    "                      title = \"$y = x^2$\"),\n",
    "            yaxis=dict(range=[ym, yM], autorange=False, zeroline=True),\n",
    "            title='Quadratic equation Curve with Moving Point', \n",
    "            updatemenus= [{'type': 'buttons',\n",
    "                           'buttons': [{'label': 'Play',\n",
    "                                        'method': 'animate',\n",
    "                                        'args': [None]}]}],\n",
    "           showlegend=False)\n",
    "\n",
    "frames=[dict(data=[dict(x=[xx[k]], \n",
    "                        y=[yy[k]], \n",
    "                        mode='markers', \n",
    "                        marker=dict(color='rgb(186,85,84)', size=10),\n",
    "                        name = \"point\"\n",
    "                        )\n",
    "                  ]) for k in range(N)]    \n",
    "          \n",
    "figure1=dict(data=data, layout=layout, frames = frames)          \n",
    "iplot(figure1)"
   ]
  },
  {
   "cell_type": "markdown",
   "metadata": {},
   "source": [
    "# 3D plots\n",
    "\n",
    "Plotly also supports 3D plots, such as 3D line plots, 3D scatter plots, and 3D surface plots. The 3D plots can be dragged to turn to different angles with mouse. The `camera` parameter can be pre-set to given the users a view of the data from a certain hyperplane, such as X-Y, Y-Z or X-Z. "
   ]
  },
  {
   "cell_type": "code",
   "execution_count": 16,
   "metadata": {
    "scrolled": true
   },
   "outputs": [
    {
     "data": {
      "text/html": [
       "<iframe id=\"igraph\" scrolling=\"no\" style=\"border:none;\" seamless=\"seamless\" src=\"https://plot.ly/~mangoeyes/26.embed\" height=\"400px\" width=\"600px\"></iframe>"
      ],
      "text/plain": [
       "<plotly.tools.PlotlyDisplay object>"
      ]
     },
     "execution_count": 16,
     "metadata": {},
     "output_type": "execute_result"
    }
   ],
   "source": [
    "# 3D line plots with sepal length, sepal width and petal length of 3 species\n",
    "\n",
    "trace1 = go.Scatter3d(x=setosa[:,[0]],\n",
    "                         y=setosa[:,[1]],\n",
    "                         z=setosa[:,[2]],\n",
    "                          mode = \"markers\",\n",
    "                         marker = dict(\n",
    "                         size = 4,\n",
    "                         color = \"rgb(255,201,136)\"),\n",
    "                         name=\"setosa\",\n",
    "                      opacity=0.7\n",
    "                        )\n",
    "\n",
    "trace2 = go.Scatter3d(x=versicolor[:,[0]],\n",
    "                         y=versicolor[:,[1]],\n",
    "                         z=versicolor[:,[2]],\n",
    "                          mode = \"markers\",\n",
    "                         marker = dict(\n",
    "                         size = 4,\n",
    "                         color = \"rgb(232,128,172)\"),\n",
    "                         name=\"versicolor\",\n",
    "                      opacity = 0.7\n",
    "                        )\n",
    "\n",
    "trace3 = go.Scatter3d(x=virginica[:,[0]],\n",
    "                         y=virginica[:,[1]],\n",
    "                         z=virginica[:,[2]],\n",
    "                          mode = \"markers\",\n",
    "                         marker = dict(\n",
    "                         size = 4,\n",
    "                         color = \"rgb(124,232,213)\"),\n",
    "                         name=\"virginica\",\n",
    "                      opacity = 0.7\n",
    "                        )\n",
    "\n",
    "background = dict(\n",
    "            gridcolor='rgb(255, 255, 255)',\n",
    "            zerolinecolor='rgb(255, 255, 255)',\n",
    "            showbackground=True,\n",
    "            backgroundcolor='rgb(230, 230, 230)')\n",
    "\n",
    "camera = dict(\n",
    "    up=dict(x=0, y=0, z=1),\n",
    "    center=dict(x=0, y=0, z=0),\n",
    "    eye=dict(x=2, y=2, z=0.1)\n",
    ")\n",
    "\n",
    "layout = go.Layout(title = \"Iris 3D plot\",\n",
    "                   width=600,\n",
    "                   height=400,\n",
    "                   autosize = False,\n",
    "                   scene = dict(\n",
    "                       xaxis = background,\n",
    "                       yaxis = background,\n",
    "                       zaxis = background,\n",
    "                       camera = camera),\n",
    "                  )\n",
    "\n",
    "data = [trace1,trace2,trace3]\n",
    "fig = go.Figure(data=data,layout=layout)\n",
    "\n",
    "py.iplot(fig, filename = \"3D line plot\")"
   ]
  },
  {
   "cell_type": "markdown",
   "metadata": {},
   "source": [
    "# References\n",
    "\n",
    "There are many more plotting and design features available in Plotly. If you are interested, you can check out the below links:\n",
    "\n",
    "1. Plotly Python API library: https://plot.ly/python/\n",
    "2. Plotly Python full reference: https://plot.ly/python/reference/\n",
    "3. Jupyter notebook tutorial: https://plot.ly/python/ipython-notebook-tutorial/\n",
    "4. Scientific charts: https://plot.ly/python/#scientific-charts\n",
    "5. 3D charts: https://plot.ly/python/#3d-charts\n",
    "\n",
    "Hope you also enjoy using Plotly to visualize interesting data!\n"
   ]
  }
 ],
 "metadata": {
  "kernelspec": {
   "display_name": "Python 3",
   "language": "python",
   "name": "python3"
  },
  "language_info": {
   "codemirror_mode": {
    "name": "ipython",
    "version": 3
   },
   "file_extension": ".py",
   "mimetype": "text/x-python",
   "name": "python",
   "nbconvert_exporter": "python",
   "pygments_lexer": "ipython3",
   "version": "3.6.1"
  }
 },
 "nbformat": 4,
 "nbformat_minor": 2
}
